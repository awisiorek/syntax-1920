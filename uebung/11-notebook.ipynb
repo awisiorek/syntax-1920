{
 "cells": [
  {
   "cell_type": "markdown",
   "metadata": {},
   "source": [
    "***Vorlesung 'Syntax natürlicher Sprachen', WS 2019/20***\n",
    "\n",
    "---\n",
    "# Übung 11"
   ]
  },
  {
   "cell_type": "code",
   "execution_count": 1,
   "metadata": {
    "scrolled": true
   },
   "outputs": [],
   "source": [
    "import nltk\n",
    "from collections import defaultdict\n",
    "from questions import aufgabe\n",
    "from exercises_11 import *"
   ]
  },
  {
   "cell_type": "markdown",
   "metadata": {},
   "source": [
    "---\n",
    "## Aufgabe 1: Weiterverarbeitung syntaktischer Analysen\n",
    "\n",
    "#### In dieser Aufgabe sollen Sie die Ausgaben eines state-of-the-art-Parsers, nämlich des spacy-Parsers, weiterverarbeiten.\n",
    "\n",
    "#### Mit dem Ziel, Sie erst einmal mit den typischen Strukturen einer solchen Aufgabe vertraut zu machen, sollen Sie in dieser Aufgabe lediglich entscheiden, ob die Eingabe einen Infinitivsatz mit Akkusativobjekt enthält.\n",
    "\n",
    "#### Zur Klarheit betrachten Sie die folgenden positiven und negativen Beispiele:"
   ]
  },
  {
   "cell_type": "code",
   "execution_count": 2,
   "metadata": {},
   "outputs": [],
   "source": [
    "pos_examples = [\n",
    "    \"Er beabsichtigt , den Kuchen ganz alleine zu essen .\",\n",
    "    \"Er behauptet , ihn gesehen zu haben .\"\n",
    "]\n",
    "neg_examples = [\n",
    "    \"Er glaubt , nach Hause zu fliegen .\",\n",
    "    \"Zu fliegen ist schön .\",\n",
    "    \"Er will gehen .\"\n",
    "]"
   ]
  },
  {
   "cell_type": "markdown",
   "metadata": {},
   "source": [
    "#### Zur Erinnerung die wichtigsten Schritte zur Nutzung von spacy:\n",
    "\n",
    "    1. Modell laden"
   ]
  },
  {
   "cell_type": "code",
   "execution_count": 3,
   "metadata": {},
   "outputs": [],
   "source": [
    "import spacy\n",
    "nlp = spacy.load('de_core_news_sm')"
   ]
  },
  {
   "cell_type": "markdown",
   "metadata": {},
   "source": [
    "    2. Parsen und Visualisieren"
   ]
  },
  {
   "cell_type": "code",
   "execution_count": 4,
   "metadata": {},
   "outputs": [
    {
     "data": {
      "text/html": [
       "<svg xmlns=\"http://www.w3.org/2000/svg\" xmlns:xlink=\"http://www.w3.org/1999/xlink\" xml:lang=\"de\" id=\"7ee81c1ad34d4ad5956a261123a96ff1-0\" class=\"displacy\" width=\"1450\" height=\"487.0\" direction=\"ltr\" style=\"max-width: none; height: 487.0px; color: #000000; background: #ffffff; font-family: Arial; direction: ltr\">\n",
       "<text class=\"displacy-token\" fill=\"currentColor\" text-anchor=\"middle\" y=\"397.0\">\n",
       "    <tspan class=\"displacy-word\" fill=\"currentColor\" x=\"50\">Er</tspan>\n",
       "    <tspan class=\"displacy-tag\" dy=\"2em\" fill=\"currentColor\" x=\"50\">PRON</tspan>\n",
       "</text>\n",
       "\n",
       "<text class=\"displacy-token\" fill=\"currentColor\" text-anchor=\"middle\" y=\"397.0\">\n",
       "    <tspan class=\"displacy-word\" fill=\"currentColor\" x=\"225\">beabsichtigt ,</tspan>\n",
       "    <tspan class=\"displacy-tag\" dy=\"2em\" fill=\"currentColor\" x=\"225\">VERB</tspan>\n",
       "</text>\n",
       "\n",
       "<text class=\"displacy-token\" fill=\"currentColor\" text-anchor=\"middle\" y=\"397.0\">\n",
       "    <tspan class=\"displacy-word\" fill=\"currentColor\" x=\"400\">den</tspan>\n",
       "    <tspan class=\"displacy-tag\" dy=\"2em\" fill=\"currentColor\" x=\"400\">DET</tspan>\n",
       "</text>\n",
       "\n",
       "<text class=\"displacy-token\" fill=\"currentColor\" text-anchor=\"middle\" y=\"397.0\">\n",
       "    <tspan class=\"displacy-word\" fill=\"currentColor\" x=\"575\">Kuchen</tspan>\n",
       "    <tspan class=\"displacy-tag\" dy=\"2em\" fill=\"currentColor\" x=\"575\">NOUN</tspan>\n",
       "</text>\n",
       "\n",
       "<text class=\"displacy-token\" fill=\"currentColor\" text-anchor=\"middle\" y=\"397.0\">\n",
       "    <tspan class=\"displacy-word\" fill=\"currentColor\" x=\"750\">ganz</tspan>\n",
       "    <tspan class=\"displacy-tag\" dy=\"2em\" fill=\"currentColor\" x=\"750\">ADV</tspan>\n",
       "</text>\n",
       "\n",
       "<text class=\"displacy-token\" fill=\"currentColor\" text-anchor=\"middle\" y=\"397.0\">\n",
       "    <tspan class=\"displacy-word\" fill=\"currentColor\" x=\"925\">alleine</tspan>\n",
       "    <tspan class=\"displacy-tag\" dy=\"2em\" fill=\"currentColor\" x=\"925\">ADV</tspan>\n",
       "</text>\n",
       "\n",
       "<text class=\"displacy-token\" fill=\"currentColor\" text-anchor=\"middle\" y=\"397.0\">\n",
       "    <tspan class=\"displacy-word\" fill=\"currentColor\" x=\"1100\">zu</tspan>\n",
       "    <tspan class=\"displacy-tag\" dy=\"2em\" fill=\"currentColor\" x=\"1100\">PART</tspan>\n",
       "</text>\n",
       "\n",
       "<text class=\"displacy-token\" fill=\"currentColor\" text-anchor=\"middle\" y=\"397.0\">\n",
       "    <tspan class=\"displacy-word\" fill=\"currentColor\" x=\"1275\">essen .</tspan>\n",
       "    <tspan class=\"displacy-tag\" dy=\"2em\" fill=\"currentColor\" x=\"1275\">VERB</tspan>\n",
       "</text>\n",
       "\n",
       "<g class=\"displacy-arrow\">\n",
       "    <path class=\"displacy-arc\" id=\"arrow-7ee81c1ad34d4ad5956a261123a96ff1-0-0\" stroke-width=\"2px\" d=\"M70,352.0 C70,264.5 210.0,264.5 210.0,352.0\" fill=\"none\" stroke=\"currentColor\"/>\n",
       "    <text dy=\"1.25em\" style=\"font-size: 0.8em; letter-spacing: 1px\">\n",
       "        <textPath xlink:href=\"#arrow-7ee81c1ad34d4ad5956a261123a96ff1-0-0\" class=\"displacy-label\" startOffset=\"50%\" side=\"left\" fill=\"currentColor\" text-anchor=\"middle\">sb</textPath>\n",
       "    </text>\n",
       "    <path class=\"displacy-arrowhead\" d=\"M70,354.0 L62,342.0 78,342.0\" fill=\"currentColor\"/>\n",
       "</g>\n",
       "\n",
       "<g class=\"displacy-arrow\">\n",
       "    <path class=\"displacy-arc\" id=\"arrow-7ee81c1ad34d4ad5956a261123a96ff1-0-1\" stroke-width=\"2px\" d=\"M420,352.0 C420,264.5 560.0,264.5 560.0,352.0\" fill=\"none\" stroke=\"currentColor\"/>\n",
       "    <text dy=\"1.25em\" style=\"font-size: 0.8em; letter-spacing: 1px\">\n",
       "        <textPath xlink:href=\"#arrow-7ee81c1ad34d4ad5956a261123a96ff1-0-1\" class=\"displacy-label\" startOffset=\"50%\" side=\"left\" fill=\"currentColor\" text-anchor=\"middle\">nk</textPath>\n",
       "    </text>\n",
       "    <path class=\"displacy-arrowhead\" d=\"M420,354.0 L412,342.0 428,342.0\" fill=\"currentColor\"/>\n",
       "</g>\n",
       "\n",
       "<g class=\"displacy-arrow\">\n",
       "    <path class=\"displacy-arc\" id=\"arrow-7ee81c1ad34d4ad5956a261123a96ff1-0-2\" stroke-width=\"2px\" d=\"M595,352.0 C595,89.5 1270.0,89.5 1270.0,352.0\" fill=\"none\" stroke=\"currentColor\"/>\n",
       "    <text dy=\"1.25em\" style=\"font-size: 0.8em; letter-spacing: 1px\">\n",
       "        <textPath xlink:href=\"#arrow-7ee81c1ad34d4ad5956a261123a96ff1-0-2\" class=\"displacy-label\" startOffset=\"50%\" side=\"left\" fill=\"currentColor\" text-anchor=\"middle\">oa</textPath>\n",
       "    </text>\n",
       "    <path class=\"displacy-arrowhead\" d=\"M595,354.0 L587,342.0 603,342.0\" fill=\"currentColor\"/>\n",
       "</g>\n",
       "\n",
       "<g class=\"displacy-arrow\">\n",
       "    <path class=\"displacy-arc\" id=\"arrow-7ee81c1ad34d4ad5956a261123a96ff1-0-3\" stroke-width=\"2px\" d=\"M770,352.0 C770,264.5 910.0,264.5 910.0,352.0\" fill=\"none\" stroke=\"currentColor\"/>\n",
       "    <text dy=\"1.25em\" style=\"font-size: 0.8em; letter-spacing: 1px\">\n",
       "        <textPath xlink:href=\"#arrow-7ee81c1ad34d4ad5956a261123a96ff1-0-3\" class=\"displacy-label\" startOffset=\"50%\" side=\"left\" fill=\"currentColor\" text-anchor=\"middle\">mo</textPath>\n",
       "    </text>\n",
       "    <path class=\"displacy-arrowhead\" d=\"M770,354.0 L762,342.0 778,342.0\" fill=\"currentColor\"/>\n",
       "</g>\n",
       "\n",
       "<g class=\"displacy-arrow\">\n",
       "    <path class=\"displacy-arc\" id=\"arrow-7ee81c1ad34d4ad5956a261123a96ff1-0-4\" stroke-width=\"2px\" d=\"M945,352.0 C945,177.0 1265.0,177.0 1265.0,352.0\" fill=\"none\" stroke=\"currentColor\"/>\n",
       "    <text dy=\"1.25em\" style=\"font-size: 0.8em; letter-spacing: 1px\">\n",
       "        <textPath xlink:href=\"#arrow-7ee81c1ad34d4ad5956a261123a96ff1-0-4\" class=\"displacy-label\" startOffset=\"50%\" side=\"left\" fill=\"currentColor\" text-anchor=\"middle\">mo</textPath>\n",
       "    </text>\n",
       "    <path class=\"displacy-arrowhead\" d=\"M945,354.0 L937,342.0 953,342.0\" fill=\"currentColor\"/>\n",
       "</g>\n",
       "\n",
       "<g class=\"displacy-arrow\">\n",
       "    <path class=\"displacy-arc\" id=\"arrow-7ee81c1ad34d4ad5956a261123a96ff1-0-5\" stroke-width=\"2px\" d=\"M1120,352.0 C1120,264.5 1260.0,264.5 1260.0,352.0\" fill=\"none\" stroke=\"currentColor\"/>\n",
       "    <text dy=\"1.25em\" style=\"font-size: 0.8em; letter-spacing: 1px\">\n",
       "        <textPath xlink:href=\"#arrow-7ee81c1ad34d4ad5956a261123a96ff1-0-5\" class=\"displacy-label\" startOffset=\"50%\" side=\"left\" fill=\"currentColor\" text-anchor=\"middle\">pm</textPath>\n",
       "    </text>\n",
       "    <path class=\"displacy-arrowhead\" d=\"M1120,354.0 L1112,342.0 1128,342.0\" fill=\"currentColor\"/>\n",
       "</g>\n",
       "\n",
       "<g class=\"displacy-arrow\">\n",
       "    <path class=\"displacy-arc\" id=\"arrow-7ee81c1ad34d4ad5956a261123a96ff1-0-6\" stroke-width=\"2px\" d=\"M245,352.0 C245,2.0 1275.0,2.0 1275.0,352.0\" fill=\"none\" stroke=\"currentColor\"/>\n",
       "    <text dy=\"1.25em\" style=\"font-size: 0.8em; letter-spacing: 1px\">\n",
       "        <textPath xlink:href=\"#arrow-7ee81c1ad34d4ad5956a261123a96ff1-0-6\" class=\"displacy-label\" startOffset=\"50%\" side=\"left\" fill=\"currentColor\" text-anchor=\"middle\">oc</textPath>\n",
       "    </text>\n",
       "    <path class=\"displacy-arrowhead\" d=\"M1275.0,354.0 L1283.0,342.0 1267.0,342.0\" fill=\"currentColor\"/>\n",
       "</g>\n",
       "</svg>"
      ],
      "text/plain": [
       "<IPython.core.display.HTML object>"
      ]
     },
     "metadata": {},
     "output_type": "display_data"
    },
    {
     "data": {
      "text/html": [
       "<svg xmlns=\"http://www.w3.org/2000/svg\" xmlns:xlink=\"http://www.w3.org/1999/xlink\" xml:lang=\"de\" id=\"b84b14f917bf49f39bfdbfa5f4ec14ae-0\" class=\"displacy\" width=\"1100\" height=\"399.5\" direction=\"ltr\" style=\"max-width: none; height: 399.5px; color: #000000; background: #ffffff; font-family: Arial; direction: ltr\">\n",
       "<text class=\"displacy-token\" fill=\"currentColor\" text-anchor=\"middle\" y=\"309.5\">\n",
       "    <tspan class=\"displacy-word\" fill=\"currentColor\" x=\"50\">Er</tspan>\n",
       "    <tspan class=\"displacy-tag\" dy=\"2em\" fill=\"currentColor\" x=\"50\">PRON</tspan>\n",
       "</text>\n",
       "\n",
       "<text class=\"displacy-token\" fill=\"currentColor\" text-anchor=\"middle\" y=\"309.5\">\n",
       "    <tspan class=\"displacy-word\" fill=\"currentColor\" x=\"225\">behauptet ,</tspan>\n",
       "    <tspan class=\"displacy-tag\" dy=\"2em\" fill=\"currentColor\" x=\"225\">VERB</tspan>\n",
       "</text>\n",
       "\n",
       "<text class=\"displacy-token\" fill=\"currentColor\" text-anchor=\"middle\" y=\"309.5\">\n",
       "    <tspan class=\"displacy-word\" fill=\"currentColor\" x=\"400\">ihn</tspan>\n",
       "    <tspan class=\"displacy-tag\" dy=\"2em\" fill=\"currentColor\" x=\"400\">PRON</tspan>\n",
       "</text>\n",
       "\n",
       "<text class=\"displacy-token\" fill=\"currentColor\" text-anchor=\"middle\" y=\"309.5\">\n",
       "    <tspan class=\"displacy-word\" fill=\"currentColor\" x=\"575\">gesehen</tspan>\n",
       "    <tspan class=\"displacy-tag\" dy=\"2em\" fill=\"currentColor\" x=\"575\">VERB</tspan>\n",
       "</text>\n",
       "\n",
       "<text class=\"displacy-token\" fill=\"currentColor\" text-anchor=\"middle\" y=\"309.5\">\n",
       "    <tspan class=\"displacy-word\" fill=\"currentColor\" x=\"750\">zu</tspan>\n",
       "    <tspan class=\"displacy-tag\" dy=\"2em\" fill=\"currentColor\" x=\"750\">PART</tspan>\n",
       "</text>\n",
       "\n",
       "<text class=\"displacy-token\" fill=\"currentColor\" text-anchor=\"middle\" y=\"309.5\">\n",
       "    <tspan class=\"displacy-word\" fill=\"currentColor\" x=\"925\">haben .</tspan>\n",
       "    <tspan class=\"displacy-tag\" dy=\"2em\" fill=\"currentColor\" x=\"925\">AUX</tspan>\n",
       "</text>\n",
       "\n",
       "<g class=\"displacy-arrow\">\n",
       "    <path class=\"displacy-arc\" id=\"arrow-b84b14f917bf49f39bfdbfa5f4ec14ae-0-0\" stroke-width=\"2px\" d=\"M70,264.5 C70,177.0 215.0,177.0 215.0,264.5\" fill=\"none\" stroke=\"currentColor\"/>\n",
       "    <text dy=\"1.25em\" style=\"font-size: 0.8em; letter-spacing: 1px\">\n",
       "        <textPath xlink:href=\"#arrow-b84b14f917bf49f39bfdbfa5f4ec14ae-0-0\" class=\"displacy-label\" startOffset=\"50%\" side=\"left\" fill=\"currentColor\" text-anchor=\"middle\">sb</textPath>\n",
       "    </text>\n",
       "    <path class=\"displacy-arrowhead\" d=\"M70,266.5 L62,254.5 78,254.5\" fill=\"currentColor\"/>\n",
       "</g>\n",
       "\n",
       "<g class=\"displacy-arrow\">\n",
       "    <path class=\"displacy-arc\" id=\"arrow-b84b14f917bf49f39bfdbfa5f4ec14ae-0-1\" stroke-width=\"2px\" d=\"M420,264.5 C420,177.0 565.0,177.0 565.0,264.5\" fill=\"none\" stroke=\"currentColor\"/>\n",
       "    <text dy=\"1.25em\" style=\"font-size: 0.8em; letter-spacing: 1px\">\n",
       "        <textPath xlink:href=\"#arrow-b84b14f917bf49f39bfdbfa5f4ec14ae-0-1\" class=\"displacy-label\" startOffset=\"50%\" side=\"left\" fill=\"currentColor\" text-anchor=\"middle\">oa</textPath>\n",
       "    </text>\n",
       "    <path class=\"displacy-arrowhead\" d=\"M420,266.5 L412,254.5 428,254.5\" fill=\"currentColor\"/>\n",
       "</g>\n",
       "\n",
       "<g class=\"displacy-arrow\">\n",
       "    <path class=\"displacy-arc\" id=\"arrow-b84b14f917bf49f39bfdbfa5f4ec14ae-0-2\" stroke-width=\"2px\" d=\"M595,264.5 C595,89.5 920.0,89.5 920.0,264.5\" fill=\"none\" stroke=\"currentColor\"/>\n",
       "    <text dy=\"1.25em\" style=\"font-size: 0.8em; letter-spacing: 1px\">\n",
       "        <textPath xlink:href=\"#arrow-b84b14f917bf49f39bfdbfa5f4ec14ae-0-2\" class=\"displacy-label\" startOffset=\"50%\" side=\"left\" fill=\"currentColor\" text-anchor=\"middle\">oc</textPath>\n",
       "    </text>\n",
       "    <path class=\"displacy-arrowhead\" d=\"M595,266.5 L587,254.5 603,254.5\" fill=\"currentColor\"/>\n",
       "</g>\n",
       "\n",
       "<g class=\"displacy-arrow\">\n",
       "    <path class=\"displacy-arc\" id=\"arrow-b84b14f917bf49f39bfdbfa5f4ec14ae-0-3\" stroke-width=\"2px\" d=\"M770,264.5 C770,177.0 915.0,177.0 915.0,264.5\" fill=\"none\" stroke=\"currentColor\"/>\n",
       "    <text dy=\"1.25em\" style=\"font-size: 0.8em; letter-spacing: 1px\">\n",
       "        <textPath xlink:href=\"#arrow-b84b14f917bf49f39bfdbfa5f4ec14ae-0-3\" class=\"displacy-label\" startOffset=\"50%\" side=\"left\" fill=\"currentColor\" text-anchor=\"middle\">pm</textPath>\n",
       "    </text>\n",
       "    <path class=\"displacy-arrowhead\" d=\"M770,266.5 L762,254.5 778,254.5\" fill=\"currentColor\"/>\n",
       "</g>\n",
       "\n",
       "<g class=\"displacy-arrow\">\n",
       "    <path class=\"displacy-arc\" id=\"arrow-b84b14f917bf49f39bfdbfa5f4ec14ae-0-4\" stroke-width=\"2px\" d=\"M245,264.5 C245,2.0 925.0,2.0 925.0,264.5\" fill=\"none\" stroke=\"currentColor\"/>\n",
       "    <text dy=\"1.25em\" style=\"font-size: 0.8em; letter-spacing: 1px\">\n",
       "        <textPath xlink:href=\"#arrow-b84b14f917bf49f39bfdbfa5f4ec14ae-0-4\" class=\"displacy-label\" startOffset=\"50%\" side=\"left\" fill=\"currentColor\" text-anchor=\"middle\">oc</textPath>\n",
       "    </text>\n",
       "    <path class=\"displacy-arrowhead\" d=\"M925.0,266.5 L933.0,254.5 917.0,254.5\" fill=\"currentColor\"/>\n",
       "</g>\n",
       "</svg>"
      ],
      "text/plain": [
       "<IPython.core.display.HTML object>"
      ]
     },
     "metadata": {},
     "output_type": "display_data"
    },
    {
     "data": {
      "text/html": [
       "<svg xmlns=\"http://www.w3.org/2000/svg\" xmlns:xlink=\"http://www.w3.org/1999/xlink\" xml:lang=\"de\" id=\"cc3a2932b860433db56fe11c9a15ff7e-0\" class=\"displacy\" width=\"1100\" height=\"399.5\" direction=\"ltr\" style=\"max-width: none; height: 399.5px; color: #000000; background: #ffffff; font-family: Arial; direction: ltr\">\n",
       "<text class=\"displacy-token\" fill=\"currentColor\" text-anchor=\"middle\" y=\"309.5\">\n",
       "    <tspan class=\"displacy-word\" fill=\"currentColor\" x=\"50\">Er</tspan>\n",
       "    <tspan class=\"displacy-tag\" dy=\"2em\" fill=\"currentColor\" x=\"50\">PRON</tspan>\n",
       "</text>\n",
       "\n",
       "<text class=\"displacy-token\" fill=\"currentColor\" text-anchor=\"middle\" y=\"309.5\">\n",
       "    <tspan class=\"displacy-word\" fill=\"currentColor\" x=\"225\">glaubt ,</tspan>\n",
       "    <tspan class=\"displacy-tag\" dy=\"2em\" fill=\"currentColor\" x=\"225\">VERB</tspan>\n",
       "</text>\n",
       "\n",
       "<text class=\"displacy-token\" fill=\"currentColor\" text-anchor=\"middle\" y=\"309.5\">\n",
       "    <tspan class=\"displacy-word\" fill=\"currentColor\" x=\"400\">nach</tspan>\n",
       "    <tspan class=\"displacy-tag\" dy=\"2em\" fill=\"currentColor\" x=\"400\">ADP</tspan>\n",
       "</text>\n",
       "\n",
       "<text class=\"displacy-token\" fill=\"currentColor\" text-anchor=\"middle\" y=\"309.5\">\n",
       "    <tspan class=\"displacy-word\" fill=\"currentColor\" x=\"575\">Hause</tspan>\n",
       "    <tspan class=\"displacy-tag\" dy=\"2em\" fill=\"currentColor\" x=\"575\">NOUN</tspan>\n",
       "</text>\n",
       "\n",
       "<text class=\"displacy-token\" fill=\"currentColor\" text-anchor=\"middle\" y=\"309.5\">\n",
       "    <tspan class=\"displacy-word\" fill=\"currentColor\" x=\"750\">zu</tspan>\n",
       "    <tspan class=\"displacy-tag\" dy=\"2em\" fill=\"currentColor\" x=\"750\">PART</tspan>\n",
       "</text>\n",
       "\n",
       "<text class=\"displacy-token\" fill=\"currentColor\" text-anchor=\"middle\" y=\"309.5\">\n",
       "    <tspan class=\"displacy-word\" fill=\"currentColor\" x=\"925\">fliegen .</tspan>\n",
       "    <tspan class=\"displacy-tag\" dy=\"2em\" fill=\"currentColor\" x=\"925\">VERB</tspan>\n",
       "</text>\n",
       "\n",
       "<g class=\"displacy-arrow\">\n",
       "    <path class=\"displacy-arc\" id=\"arrow-cc3a2932b860433db56fe11c9a15ff7e-0-0\" stroke-width=\"2px\" d=\"M70,264.5 C70,177.0 215.0,177.0 215.0,264.5\" fill=\"none\" stroke=\"currentColor\"/>\n",
       "    <text dy=\"1.25em\" style=\"font-size: 0.8em; letter-spacing: 1px\">\n",
       "        <textPath xlink:href=\"#arrow-cc3a2932b860433db56fe11c9a15ff7e-0-0\" class=\"displacy-label\" startOffset=\"50%\" side=\"left\" fill=\"currentColor\" text-anchor=\"middle\">sb</textPath>\n",
       "    </text>\n",
       "    <path class=\"displacy-arrowhead\" d=\"M70,266.5 L62,254.5 78,254.5\" fill=\"currentColor\"/>\n",
       "</g>\n",
       "\n",
       "<g class=\"displacy-arrow\">\n",
       "    <path class=\"displacy-arc\" id=\"arrow-cc3a2932b860433db56fe11c9a15ff7e-0-1\" stroke-width=\"2px\" d=\"M420,264.5 C420,89.5 920.0,89.5 920.0,264.5\" fill=\"none\" stroke=\"currentColor\"/>\n",
       "    <text dy=\"1.25em\" style=\"font-size: 0.8em; letter-spacing: 1px\">\n",
       "        <textPath xlink:href=\"#arrow-cc3a2932b860433db56fe11c9a15ff7e-0-1\" class=\"displacy-label\" startOffset=\"50%\" side=\"left\" fill=\"currentColor\" text-anchor=\"middle\">mo</textPath>\n",
       "    </text>\n",
       "    <path class=\"displacy-arrowhead\" d=\"M420,266.5 L412,254.5 428,254.5\" fill=\"currentColor\"/>\n",
       "</g>\n",
       "\n",
       "<g class=\"displacy-arrow\">\n",
       "    <path class=\"displacy-arc\" id=\"arrow-cc3a2932b860433db56fe11c9a15ff7e-0-2\" stroke-width=\"2px\" d=\"M420,264.5 C420,177.0 565.0,177.0 565.0,264.5\" fill=\"none\" stroke=\"currentColor\"/>\n",
       "    <text dy=\"1.25em\" style=\"font-size: 0.8em; letter-spacing: 1px\">\n",
       "        <textPath xlink:href=\"#arrow-cc3a2932b860433db56fe11c9a15ff7e-0-2\" class=\"displacy-label\" startOffset=\"50%\" side=\"left\" fill=\"currentColor\" text-anchor=\"middle\">nk</textPath>\n",
       "    </text>\n",
       "    <path class=\"displacy-arrowhead\" d=\"M565.0,266.5 L573.0,254.5 557.0,254.5\" fill=\"currentColor\"/>\n",
       "</g>\n",
       "\n",
       "<g class=\"displacy-arrow\">\n",
       "    <path class=\"displacy-arc\" id=\"arrow-cc3a2932b860433db56fe11c9a15ff7e-0-3\" stroke-width=\"2px\" d=\"M770,264.5 C770,177.0 915.0,177.0 915.0,264.5\" fill=\"none\" stroke=\"currentColor\"/>\n",
       "    <text dy=\"1.25em\" style=\"font-size: 0.8em; letter-spacing: 1px\">\n",
       "        <textPath xlink:href=\"#arrow-cc3a2932b860433db56fe11c9a15ff7e-0-3\" class=\"displacy-label\" startOffset=\"50%\" side=\"left\" fill=\"currentColor\" text-anchor=\"middle\">pm</textPath>\n",
       "    </text>\n",
       "    <path class=\"displacy-arrowhead\" d=\"M770,266.5 L762,254.5 778,254.5\" fill=\"currentColor\"/>\n",
       "</g>\n",
       "\n",
       "<g class=\"displacy-arrow\">\n",
       "    <path class=\"displacy-arc\" id=\"arrow-cc3a2932b860433db56fe11c9a15ff7e-0-4\" stroke-width=\"2px\" d=\"M245,264.5 C245,2.0 925.0,2.0 925.0,264.5\" fill=\"none\" stroke=\"currentColor\"/>\n",
       "    <text dy=\"1.25em\" style=\"font-size: 0.8em; letter-spacing: 1px\">\n",
       "        <textPath xlink:href=\"#arrow-cc3a2932b860433db56fe11c9a15ff7e-0-4\" class=\"displacy-label\" startOffset=\"50%\" side=\"left\" fill=\"currentColor\" text-anchor=\"middle\">oc</textPath>\n",
       "    </text>\n",
       "    <path class=\"displacy-arrowhead\" d=\"M925.0,266.5 L933.0,254.5 917.0,254.5\" fill=\"currentColor\"/>\n",
       "</g>\n",
       "</svg>"
      ],
      "text/plain": [
       "<IPython.core.display.HTML object>"
      ]
     },
     "metadata": {},
     "output_type": "display_data"
    },
    {
     "data": {
      "text/html": [
       "<svg xmlns=\"http://www.w3.org/2000/svg\" xmlns:xlink=\"http://www.w3.org/1999/xlink\" xml:lang=\"de\" id=\"4fd8ae62ce814b37a8427d9999a6310c-0\" class=\"displacy\" width=\"750\" height=\"224.5\" direction=\"ltr\" style=\"max-width: none; height: 224.5px; color: #000000; background: #ffffff; font-family: Arial; direction: ltr\">\n",
       "<text class=\"displacy-token\" fill=\"currentColor\" text-anchor=\"middle\" y=\"134.5\">\n",
       "    <tspan class=\"displacy-word\" fill=\"currentColor\" x=\"50\">Zu</tspan>\n",
       "    <tspan class=\"displacy-tag\" dy=\"2em\" fill=\"currentColor\" x=\"50\">PART</tspan>\n",
       "</text>\n",
       "\n",
       "<text class=\"displacy-token\" fill=\"currentColor\" text-anchor=\"middle\" y=\"134.5\">\n",
       "    <tspan class=\"displacy-word\" fill=\"currentColor\" x=\"225\">fliegen</tspan>\n",
       "    <tspan class=\"displacy-tag\" dy=\"2em\" fill=\"currentColor\" x=\"225\">VERB</tspan>\n",
       "</text>\n",
       "\n",
       "<text class=\"displacy-token\" fill=\"currentColor\" text-anchor=\"middle\" y=\"134.5\">\n",
       "    <tspan class=\"displacy-word\" fill=\"currentColor\" x=\"400\">ist</tspan>\n",
       "    <tspan class=\"displacy-tag\" dy=\"2em\" fill=\"currentColor\" x=\"400\">AUX</tspan>\n",
       "</text>\n",
       "\n",
       "<text class=\"displacy-token\" fill=\"currentColor\" text-anchor=\"middle\" y=\"134.5\">\n",
       "    <tspan class=\"displacy-word\" fill=\"currentColor\" x=\"575\">schön .</tspan>\n",
       "    <tspan class=\"displacy-tag\" dy=\"2em\" fill=\"currentColor\" x=\"575\">ADJ</tspan>\n",
       "</text>\n",
       "\n",
       "<g class=\"displacy-arrow\">\n",
       "    <path class=\"displacy-arc\" id=\"arrow-4fd8ae62ce814b37a8427d9999a6310c-0-0\" stroke-width=\"2px\" d=\"M70,89.5 C70,2.0 225.0,2.0 225.0,89.5\" fill=\"none\" stroke=\"currentColor\"/>\n",
       "    <text dy=\"1.25em\" style=\"font-size: 0.8em; letter-spacing: 1px\">\n",
       "        <textPath xlink:href=\"#arrow-4fd8ae62ce814b37a8427d9999a6310c-0-0\" class=\"displacy-label\" startOffset=\"50%\" side=\"left\" fill=\"currentColor\" text-anchor=\"middle\">pm</textPath>\n",
       "    </text>\n",
       "    <path class=\"displacy-arrowhead\" d=\"M70,91.5 L62,79.5 78,79.5\" fill=\"currentColor\"/>\n",
       "</g>\n",
       "\n",
       "<g class=\"displacy-arrow\">\n",
       "    <path class=\"displacy-arc\" id=\"arrow-4fd8ae62ce814b37a8427d9999a6310c-0-1\" stroke-width=\"2px\" d=\"M245,89.5 C245,2.0 400.0,2.0 400.0,89.5\" fill=\"none\" stroke=\"currentColor\"/>\n",
       "    <text dy=\"1.25em\" style=\"font-size: 0.8em; letter-spacing: 1px\">\n",
       "        <textPath xlink:href=\"#arrow-4fd8ae62ce814b37a8427d9999a6310c-0-1\" class=\"displacy-label\" startOffset=\"50%\" side=\"left\" fill=\"currentColor\" text-anchor=\"middle\">oc</textPath>\n",
       "    </text>\n",
       "    <path class=\"displacy-arrowhead\" d=\"M245,91.5 L237,79.5 253,79.5\" fill=\"currentColor\"/>\n",
       "</g>\n",
       "\n",
       "<g class=\"displacy-arrow\">\n",
       "    <path class=\"displacy-arc\" id=\"arrow-4fd8ae62ce814b37a8427d9999a6310c-0-2\" stroke-width=\"2px\" d=\"M420,89.5 C420,2.0 575.0,2.0 575.0,89.5\" fill=\"none\" stroke=\"currentColor\"/>\n",
       "    <text dy=\"1.25em\" style=\"font-size: 0.8em; letter-spacing: 1px\">\n",
       "        <textPath xlink:href=\"#arrow-4fd8ae62ce814b37a8427d9999a6310c-0-2\" class=\"displacy-label\" startOffset=\"50%\" side=\"left\" fill=\"currentColor\" text-anchor=\"middle\">pd</textPath>\n",
       "    </text>\n",
       "    <path class=\"displacy-arrowhead\" d=\"M575.0,91.5 L583.0,79.5 567.0,79.5\" fill=\"currentColor\"/>\n",
       "</g>\n",
       "</svg>"
      ],
      "text/plain": [
       "<IPython.core.display.HTML object>"
      ]
     },
     "metadata": {},
     "output_type": "display_data"
    },
    {
     "data": {
      "text/html": [
       "<svg xmlns=\"http://www.w3.org/2000/svg\" xmlns:xlink=\"http://www.w3.org/1999/xlink\" xml:lang=\"de\" id=\"6c664c4ff19f4ce89c17016b41397229-0\" class=\"displacy\" width=\"575\" height=\"224.5\" direction=\"ltr\" style=\"max-width: none; height: 224.5px; color: #000000; background: #ffffff; font-family: Arial; direction: ltr\">\n",
       "<text class=\"displacy-token\" fill=\"currentColor\" text-anchor=\"middle\" y=\"134.5\">\n",
       "    <tspan class=\"displacy-word\" fill=\"currentColor\" x=\"50\">Er</tspan>\n",
       "    <tspan class=\"displacy-tag\" dy=\"2em\" fill=\"currentColor\" x=\"50\">PRON</tspan>\n",
       "</text>\n",
       "\n",
       "<text class=\"displacy-token\" fill=\"currentColor\" text-anchor=\"middle\" y=\"134.5\">\n",
       "    <tspan class=\"displacy-word\" fill=\"currentColor\" x=\"225\">will</tspan>\n",
       "    <tspan class=\"displacy-tag\" dy=\"2em\" fill=\"currentColor\" x=\"225\">VERB</tspan>\n",
       "</text>\n",
       "\n",
       "<text class=\"displacy-token\" fill=\"currentColor\" text-anchor=\"middle\" y=\"134.5\">\n",
       "    <tspan class=\"displacy-word\" fill=\"currentColor\" x=\"400\">gehen .</tspan>\n",
       "    <tspan class=\"displacy-tag\" dy=\"2em\" fill=\"currentColor\" x=\"400\">VERB</tspan>\n",
       "</text>\n",
       "\n",
       "<g class=\"displacy-arrow\">\n",
       "    <path class=\"displacy-arc\" id=\"arrow-6c664c4ff19f4ce89c17016b41397229-0-0\" stroke-width=\"2px\" d=\"M70,89.5 C70,2.0 225.0,2.0 225.0,89.5\" fill=\"none\" stroke=\"currentColor\"/>\n",
       "    <text dy=\"1.25em\" style=\"font-size: 0.8em; letter-spacing: 1px\">\n",
       "        <textPath xlink:href=\"#arrow-6c664c4ff19f4ce89c17016b41397229-0-0\" class=\"displacy-label\" startOffset=\"50%\" side=\"left\" fill=\"currentColor\" text-anchor=\"middle\">sb</textPath>\n",
       "    </text>\n",
       "    <path class=\"displacy-arrowhead\" d=\"M70,91.5 L62,79.5 78,79.5\" fill=\"currentColor\"/>\n",
       "</g>\n",
       "\n",
       "<g class=\"displacy-arrow\">\n",
       "    <path class=\"displacy-arc\" id=\"arrow-6c664c4ff19f4ce89c17016b41397229-0-1\" stroke-width=\"2px\" d=\"M245,89.5 C245,2.0 400.0,2.0 400.0,89.5\" fill=\"none\" stroke=\"currentColor\"/>\n",
       "    <text dy=\"1.25em\" style=\"font-size: 0.8em; letter-spacing: 1px\">\n",
       "        <textPath xlink:href=\"#arrow-6c664c4ff19f4ce89c17016b41397229-0-1\" class=\"displacy-label\" startOffset=\"50%\" side=\"left\" fill=\"currentColor\" text-anchor=\"middle\">oc</textPath>\n",
       "    </text>\n",
       "    <path class=\"displacy-arrowhead\" d=\"M400.0,91.5 L408.0,79.5 392.0,79.5\" fill=\"currentColor\"/>\n",
       "</g>\n",
       "</svg>"
      ],
      "text/plain": [
       "<IPython.core.display.HTML object>"
      ]
     },
     "metadata": {},
     "output_type": "display_data"
    }
   ],
   "source": [
    "for sentence in pos_examples + neg_examples:\n",
    "    analyzed = nlp(sentence)\n",
    "    spacy.displacy.render(analyzed)"
   ]
  },
  {
   "cell_type": "markdown",
   "metadata": {},
   "source": [
    "    3. Labels nachschlagen"
   ]
  },
  {
   "cell_type": "code",
   "execution_count": 5,
   "metadata": {},
   "outputs": [
    {
     "data": {
      "text/plain": [
       "'clausal object'"
      ]
     },
     "execution_count": 5,
     "metadata": {},
     "output_type": "execute_result"
    }
   ],
   "source": [
    "spacy.explain('oc')"
   ]
  },
  {
   "cell_type": "markdown",
   "metadata": {},
   "source": [
    "#### Betrachten Sie die Ausgabe für die Beispielsätze. Schreiben Sie dann eine Funktion, die `True` zurückgibt, wenn ein Satz mit einem Infinitv, der ein Objekt hat, vorliegt und `False` sonst."
   ]
  },
  {
   "cell_type": "code",
   "execution_count": 6,
   "metadata": {},
   "outputs": [],
   "source": [
    "def find_accusative(subtree):\n",
    "    # Hilfsfunktion, die rekursiv Akkusativobjekte sucht\n",
    "    return False\n",
    "\n",
    "def classify(sentence):\n",
    "    return False"
   ]
  },
  {
   "cell_type": "markdown",
   "metadata": {},
   "source": [
    "Die Ausgabe sollte sein:\n",
    "\n",
    "```\n",
    "True\n",
    "True\n",
    "False\n",
    "False\n",
    "False\n",
    "```"
   ]
  },
  {
   "cell_type": "code",
   "execution_count": 7,
   "metadata": {
    "scrolled": true
   },
   "outputs": [
    {
     "name": "stdout",
     "output_type": "stream",
     "text": [
      "False\n",
      "False\n",
      "False\n",
      "False\n",
      "False\n"
     ]
    }
   ],
   "source": [
    "for p in pos_examples:\n",
    "    print(classify(p))\n",
    "for n in neg_examples:\n",
    "    print(classify(n))"
   ]
  },
  {
   "cell_type": "markdown",
   "metadata": {},
   "source": [
    "---\n",
    "## Aufgabe 2: Informationsextraktion per Syntaxanalyse\n",
    "\n",
    "#### Gegenstand dieser Aufgabe ist eine anwendungsnahe Möglichkeit, Ergebnisse einer Syntaxanalyse weiterzuverarbeiten. Aus den syntaktischen Abhängigkeiten eines Textes soll (unter Zuhilfenahme einiger Normalisierungsschritte) eine semantische Repräsentation der im Text enthaltenen Informationen gewonnen werden.\n",
    "\n",
    "#### Für die syntaktische Analyse soll wieder der Dependency Parser von spacy verwendet werden. Die semantische Repräsentation einer Aussage sei ein <a href=\"https://de.wikipedia.org/wiki/Ontologie_(Informatik)\">Knowledge Graph</a> Tripel bestehend aus Subjekt, Prädikat und Objekt (Bei Fehlen von Subjekt oder Objekt soll `None` geschrieben werden.). Die Menge der Prädikate sei durch die Lemmata der vorkommenden Verben definiert. Sie können bei der Implementierung davon ausgehen, dass kein Satz zwei verschiedene Aussagen mit dem gleichen Prädikat enthält.\n",
    "\n",
    "#### Folgendes Beispiel illustriert das gewünschte Ergebnis:\n",
    "\n",
    "#### Eingabe:\n",
    "\n",
    "    I shot an elephant in my pajamas.\n",
    "    The elephant was seen by a giraffe in the desert.\n",
    "    The bird I need is a raven.\n",
    "    The man who saw the raven laughed out loud.\n",
    "\n",
    "#### Ausgabe:\n",
    "\n",
    "    (I, shoot, elephant)\n",
    "    (giraffe, see, elephant)\n",
    "    (I, need, bird)\n",
    "    (bird, IS, raven)\n",
    "    (man, laugh, None)\n",
    "    (man, see, raven)"
   ]
  },
  {
   "cell_type": "code",
   "execution_count": 8,
   "metadata": {},
   "outputs": [],
   "source": [
    "sentences = [\n",
    "    \"I shot an elephant in my pajamas.\",\n",
    "    \"The elephant was seen by a giraffe in the desert.\",\n",
    "    \"The bird I need is a raven.\",\n",
    "    \"The man who saw the raven laughed out loud.\",\n",
    "]"
   ]
  },
  {
   "cell_type": "code",
   "execution_count": 9,
   "metadata": {},
   "outputs": [],
   "source": [
    "nlp = spacy.load('en_core_web_sm')"
   ]
  },
  {
   "cell_type": "code",
   "execution_count": 10,
   "metadata": {},
   "outputs": [
    {
     "data": {
      "text/html": [
       "<svg xmlns=\"http://www.w3.org/2000/svg\" xmlns:xlink=\"http://www.w3.org/1999/xlink\" xml:lang=\"en\" id=\"be1cce573e604b34b0b34e5f5f612429-0\" class=\"displacy\" width=\"1275\" height=\"399.5\" direction=\"ltr\" style=\"max-width: none; height: 399.5px; color: #000000; background: #ffffff; font-family: Arial; direction: ltr\">\n",
       "<text class=\"displacy-token\" fill=\"currentColor\" text-anchor=\"middle\" y=\"309.5\">\n",
       "    <tspan class=\"displacy-word\" fill=\"currentColor\" x=\"50\">I</tspan>\n",
       "    <tspan class=\"displacy-tag\" dy=\"2em\" fill=\"currentColor\" x=\"50\">PRON</tspan>\n",
       "</text>\n",
       "\n",
       "<text class=\"displacy-token\" fill=\"currentColor\" text-anchor=\"middle\" y=\"309.5\">\n",
       "    <tspan class=\"displacy-word\" fill=\"currentColor\" x=\"225\">shot</tspan>\n",
       "    <tspan class=\"displacy-tag\" dy=\"2em\" fill=\"currentColor\" x=\"225\">VERB</tspan>\n",
       "</text>\n",
       "\n",
       "<text class=\"displacy-token\" fill=\"currentColor\" text-anchor=\"middle\" y=\"309.5\">\n",
       "    <tspan class=\"displacy-word\" fill=\"currentColor\" x=\"400\">an</tspan>\n",
       "    <tspan class=\"displacy-tag\" dy=\"2em\" fill=\"currentColor\" x=\"400\">DET</tspan>\n",
       "</text>\n",
       "\n",
       "<text class=\"displacy-token\" fill=\"currentColor\" text-anchor=\"middle\" y=\"309.5\">\n",
       "    <tspan class=\"displacy-word\" fill=\"currentColor\" x=\"575\">elephant</tspan>\n",
       "    <tspan class=\"displacy-tag\" dy=\"2em\" fill=\"currentColor\" x=\"575\">NOUN</tspan>\n",
       "</text>\n",
       "\n",
       "<text class=\"displacy-token\" fill=\"currentColor\" text-anchor=\"middle\" y=\"309.5\">\n",
       "    <tspan class=\"displacy-word\" fill=\"currentColor\" x=\"750\">in</tspan>\n",
       "    <tspan class=\"displacy-tag\" dy=\"2em\" fill=\"currentColor\" x=\"750\">ADP</tspan>\n",
       "</text>\n",
       "\n",
       "<text class=\"displacy-token\" fill=\"currentColor\" text-anchor=\"middle\" y=\"309.5\">\n",
       "    <tspan class=\"displacy-word\" fill=\"currentColor\" x=\"925\">my</tspan>\n",
       "    <tspan class=\"displacy-tag\" dy=\"2em\" fill=\"currentColor\" x=\"925\">DET</tspan>\n",
       "</text>\n",
       "\n",
       "<text class=\"displacy-token\" fill=\"currentColor\" text-anchor=\"middle\" y=\"309.5\">\n",
       "    <tspan class=\"displacy-word\" fill=\"currentColor\" x=\"1100\">pajamas.</tspan>\n",
       "    <tspan class=\"displacy-tag\" dy=\"2em\" fill=\"currentColor\" x=\"1100\">NOUN</tspan>\n",
       "</text>\n",
       "\n",
       "<g class=\"displacy-arrow\">\n",
       "    <path class=\"displacy-arc\" id=\"arrow-be1cce573e604b34b0b34e5f5f612429-0-0\" stroke-width=\"2px\" d=\"M70,264.5 C70,177.0 215.0,177.0 215.0,264.5\" fill=\"none\" stroke=\"currentColor\"/>\n",
       "    <text dy=\"1.25em\" style=\"font-size: 0.8em; letter-spacing: 1px\">\n",
       "        <textPath xlink:href=\"#arrow-be1cce573e604b34b0b34e5f5f612429-0-0\" class=\"displacy-label\" startOffset=\"50%\" side=\"left\" fill=\"currentColor\" text-anchor=\"middle\">nsubj</textPath>\n",
       "    </text>\n",
       "    <path class=\"displacy-arrowhead\" d=\"M70,266.5 L62,254.5 78,254.5\" fill=\"currentColor\"/>\n",
       "</g>\n",
       "\n",
       "<g class=\"displacy-arrow\">\n",
       "    <path class=\"displacy-arc\" id=\"arrow-be1cce573e604b34b0b34e5f5f612429-0-1\" stroke-width=\"2px\" d=\"M420,264.5 C420,177.0 565.0,177.0 565.0,264.5\" fill=\"none\" stroke=\"currentColor\"/>\n",
       "    <text dy=\"1.25em\" style=\"font-size: 0.8em; letter-spacing: 1px\">\n",
       "        <textPath xlink:href=\"#arrow-be1cce573e604b34b0b34e5f5f612429-0-1\" class=\"displacy-label\" startOffset=\"50%\" side=\"left\" fill=\"currentColor\" text-anchor=\"middle\">det</textPath>\n",
       "    </text>\n",
       "    <path class=\"displacy-arrowhead\" d=\"M420,266.5 L412,254.5 428,254.5\" fill=\"currentColor\"/>\n",
       "</g>\n",
       "\n",
       "<g class=\"displacy-arrow\">\n",
       "    <path class=\"displacy-arc\" id=\"arrow-be1cce573e604b34b0b34e5f5f612429-0-2\" stroke-width=\"2px\" d=\"M245,264.5 C245,89.5 570.0,89.5 570.0,264.5\" fill=\"none\" stroke=\"currentColor\"/>\n",
       "    <text dy=\"1.25em\" style=\"font-size: 0.8em; letter-spacing: 1px\">\n",
       "        <textPath xlink:href=\"#arrow-be1cce573e604b34b0b34e5f5f612429-0-2\" class=\"displacy-label\" startOffset=\"50%\" side=\"left\" fill=\"currentColor\" text-anchor=\"middle\">dobj</textPath>\n",
       "    </text>\n",
       "    <path class=\"displacy-arrowhead\" d=\"M570.0,266.5 L578.0,254.5 562.0,254.5\" fill=\"currentColor\"/>\n",
       "</g>\n",
       "\n",
       "<g class=\"displacy-arrow\">\n",
       "    <path class=\"displacy-arc\" id=\"arrow-be1cce573e604b34b0b34e5f5f612429-0-3\" stroke-width=\"2px\" d=\"M245,264.5 C245,2.0 750.0,2.0 750.0,264.5\" fill=\"none\" stroke=\"currentColor\"/>\n",
       "    <text dy=\"1.25em\" style=\"font-size: 0.8em; letter-spacing: 1px\">\n",
       "        <textPath xlink:href=\"#arrow-be1cce573e604b34b0b34e5f5f612429-0-3\" class=\"displacy-label\" startOffset=\"50%\" side=\"left\" fill=\"currentColor\" text-anchor=\"middle\">prep</textPath>\n",
       "    </text>\n",
       "    <path class=\"displacy-arrowhead\" d=\"M750.0,266.5 L758.0,254.5 742.0,254.5\" fill=\"currentColor\"/>\n",
       "</g>\n",
       "\n",
       "<g class=\"displacy-arrow\">\n",
       "    <path class=\"displacy-arc\" id=\"arrow-be1cce573e604b34b0b34e5f5f612429-0-4\" stroke-width=\"2px\" d=\"M945,264.5 C945,177.0 1090.0,177.0 1090.0,264.5\" fill=\"none\" stroke=\"currentColor\"/>\n",
       "    <text dy=\"1.25em\" style=\"font-size: 0.8em; letter-spacing: 1px\">\n",
       "        <textPath xlink:href=\"#arrow-be1cce573e604b34b0b34e5f5f612429-0-4\" class=\"displacy-label\" startOffset=\"50%\" side=\"left\" fill=\"currentColor\" text-anchor=\"middle\">poss</textPath>\n",
       "    </text>\n",
       "    <path class=\"displacy-arrowhead\" d=\"M945,266.5 L937,254.5 953,254.5\" fill=\"currentColor\"/>\n",
       "</g>\n",
       "\n",
       "<g class=\"displacy-arrow\">\n",
       "    <path class=\"displacy-arc\" id=\"arrow-be1cce573e604b34b0b34e5f5f612429-0-5\" stroke-width=\"2px\" d=\"M770,264.5 C770,89.5 1095.0,89.5 1095.0,264.5\" fill=\"none\" stroke=\"currentColor\"/>\n",
       "    <text dy=\"1.25em\" style=\"font-size: 0.8em; letter-spacing: 1px\">\n",
       "        <textPath xlink:href=\"#arrow-be1cce573e604b34b0b34e5f5f612429-0-5\" class=\"displacy-label\" startOffset=\"50%\" side=\"left\" fill=\"currentColor\" text-anchor=\"middle\">pobj</textPath>\n",
       "    </text>\n",
       "    <path class=\"displacy-arrowhead\" d=\"M1095.0,266.5 L1103.0,254.5 1087.0,254.5\" fill=\"currentColor\"/>\n",
       "</g>\n",
       "</svg>"
      ],
      "text/plain": [
       "<IPython.core.display.HTML object>"
      ]
     },
     "metadata": {},
     "output_type": "display_data"
    }
   ],
   "source": [
    "spacy.displacy.render(nlp(sentences[0]))"
   ]
  },
  {
   "cell_type": "code",
   "execution_count": 11,
   "metadata": {},
   "outputs": [
    {
     "name": "stdout",
     "output_type": "stream",
     "text": [
      "nsubj I -PRON-\n",
      "ROOT shot shoot\n",
      "det an an\n",
      "dobj elephant elephant\n",
      "prep in in\n",
      "poss my -PRON-\n",
      "pobj pajamas pajama\n",
      "punct . .\n"
     ]
    }
   ],
   "source": [
    "for token in nlp(sentences[0]):\n",
    "    print(token.dep_, token.text, token.lemma_)"
   ]
  },
  {
   "cell_type": "code",
   "execution_count": 12,
   "metadata": {},
   "outputs": [],
   "source": [
    "def is_overwritable(token):\n",
    "    # Hilfsfunktion, die entscheidet, ob ein Argument bereits einen validen Wert hat\n",
    "    return False\n",
    "\n",
    "def generate_predicates_for_dep(analyzed):\n",
    "    predicates = defaultdict(lambda: [None, None])\n",
    "    return predicates"
   ]
  },
  {
   "cell_type": "code",
   "execution_count": 13,
   "metadata": {},
   "outputs": [],
   "source": [
    "def generate_predicates_for_sentence(sentence):    \n",
    "    analyzed = nlp(sentence)\n",
    "    predicates = generate_predicates_for_dep(analyzed)\n",
    "                    \n",
    "    return [\n",
    "        \"({}, {}, {})\".format(elements[0], pred, elements[1])\n",
    "        for pred, elements in predicates.items()\n",
    "    ]"
   ]
  },
  {
   "cell_type": "code",
   "execution_count": 14,
   "metadata": {},
   "outputs": [],
   "source": [
    "for pred in generate_predicates_for_sentence(sentences[0]):\n",
    "    print(pred)"
   ]
  },
  {
   "cell_type": "code",
   "execution_count": 15,
   "metadata": {},
   "outputs": [],
   "source": [
    "def generate_predicates_for_text(text):\n",
    "    predicates = []\n",
    "    for sent in text:\n",
    "        predicates.extend(generate_predicates_for_sentence(sent))\n",
    "    return predicates"
   ]
  },
  {
   "cell_type": "code",
   "execution_count": 16,
   "metadata": {},
   "outputs": [],
   "source": [
    "for pred in generate_predicates_for_text(sentences):\n",
    "    print(pred)"
   ]
  },
  {
   "cell_type": "markdown",
   "metadata": {},
   "source": [
    "#### Ideale Ausgabe:\n",
    "\n",
    "    (I, shoot, elephant)\n",
    "    (giraffe, see, elephant)\n",
    "    (I, need, bird)\n",
    "    (bird, IS, raven)\n",
    "    (man, laugh, None)\n",
    "    (man, see, raven)"
   ]
  },
  {
   "cell_type": "markdown",
   "metadata": {},
   "source": [
    "---\n",
    "# Hausaufgaben"
   ]
  },
  {
   "cell_type": "markdown",
   "metadata": {},
   "source": [
    "---\n",
    "## Aufgabe 3: Parent Annotation\n",
    "\n",
    "#### *Parent Annotation* kann die Performanz einer CFG wesentlich verbessern. Schreiben Sie eine Funktion, die einen gegebenen Syntaxbaum dieser Optimierung unterzieht. Auf diese Art und Weise transformierte Bäume können dann wiederum zur Grammatikinduktion verwendet werden.\n",
    "\n",
    "#### `parentHistory` soll dabei die Anzahl der Vorgänger sein, die zusätzlich zum direkten Elternknoten berücksichtigt werden. (Die Berücksichtigung dieses Parameters ist optional.)\n",
    "\n",
    "#### `parentChar` soll ein Trennzeichen sein, das bei den neuen Knotenlabels zwischen dem ursprünglichen Knotenlabel und der Liste von Vorgängern eingefügt wird."
   ]
  },
  {
   "cell_type": "code",
   "execution_count": 17,
   "metadata": {},
   "outputs": [],
   "source": [
    "def parent_annotation(tree, parentHistory=0, parentChar=\"^\"):\n",
    "    return tree"
   ]
  },
  {
   "cell_type": "markdown",
   "metadata": {},
   "source": [
    "Zur Überprüfung Ihrer Implementierung können Sie sie mit folgendem Beispielbaum testen:"
   ]
  },
  {
   "cell_type": "code",
   "execution_count": 18,
   "metadata": {},
   "outputs": [
    {
     "name": "stdout",
     "output_type": "stream",
     "text": [
      "             S             \n",
      "      _______|___           \n",
      "     |           VP        \n",
      "     |        ___|___       \n",
      "     NP      |       NP    \n",
      "  ___|___    |    ___|___   \n",
      "DET      N   V  DET      N \n",
      " |       |   |   |       |  \n",
      "...     ... ... ...     ...\n",
      "\n"
     ]
    }
   ],
   "source": [
    "test_tree = nltk.Tree(\n",
    "    \"S\",\n",
    "    [\n",
    "        nltk.Tree(\"NP\", [\n",
    "            nltk.Tree(\"DET\", []),\n",
    "            nltk.Tree(\"N\", [])\n",
    "        ]),\n",
    "        nltk.Tree(\"VP\", [\n",
    "            nltk.Tree(\"V\", []),\n",
    "            nltk.Tree(\"NP\", [\n",
    "                nltk.Tree(\"DET\", []),\n",
    "                nltk.Tree(\"N\", [])\n",
    "            ])\n",
    "        ])\n",
    "    ]\n",
    ")\n",
    "\n",
    "parent_annotation(test_tree).pretty_print()"
   ]
  },
  {
   "cell_type": "markdown",
   "metadata": {},
   "source": [
    "---\n",
    "## Aufgabe 4: Mehr Semantik für IE\n",
    "\n",
    "#### Zusätzlich zu den in Aufgabe 2 behandelten Konstruktionen sollen jetzt auch negierte und komplexe Sätze mit Konjunktionen sinnvoll verarbeitet werden.\n",
    "\n",
    "#### Eingabe:\n",
    "\n",
    "    I see an elephant.\n",
    "    You didn't see the elephant.\n",
    "    Peter saw the elephant and drank wine.\n",
    "    \n",
    "#### Gewünschte Ausgabe:\n",
    "\n",
    "    (I, see, elephant)\n",
    "    (You, not_see, elephant)\n",
    "    (Peter, see, elephant)\n",
    "    (Peter, drink, wine)\n",
    "    \n",
    "#### Kopieren Sie am besten Ihren aktuellen Stand von oben herunter und fügen Sie Ihre Erweiterungen dann hier ein.    "
   ]
  },
  {
   "cell_type": "code",
   "execution_count": 19,
   "metadata": {},
   "outputs": [],
   "source": [
    "sentences = [\n",
    "    \"I see an elephant.\",\n",
    "    \"You didn't see the elephant.\",\n",
    "    \"Peter saw the elephant and drank wine.\"\n",
    "]"
   ]
  },
  {
   "cell_type": "code",
   "execution_count": null,
   "metadata": {},
   "outputs": [],
   "source": [
    "# TODO"
   ]
  },
  {
   "cell_type": "code",
   "execution_count": 20,
   "metadata": {},
   "outputs": [],
   "source": [
    "for pred in generate_predicates_for_text(sentences):\n",
    "    print(pred)"
   ]
  },
  {
   "cell_type": "markdown",
   "metadata": {},
   "source": [
    "#### Ideale Ausgabe:\n",
    "\n",
    "    (I, see, elephant)\n",
    "    (You, not_see, elephant)\n",
    "    (Peter, see, elephant)\n",
    "    (Peter, drink, wine)"
   ]
  },
  {
   "cell_type": "markdown",
   "metadata": {},
   "source": [
    "---\n",
    "## Aufgabe 5: Fragen zu NLTK-08-extras, 2.9 (\"Viterbi-Parser\")\n",
    "\n",
    "#### 1. Betrachten Sie die folgende im Kapitel gegebene PCFG:"
   ]
  },
  {
   "cell_type": "markdown",
   "metadata": {},
   "source": [
    "```\n",
    "grammar = nltk.PCFG.fromstring('''\n",
    "  NP  -> NNS [0.5] | JJ NNS [0.3] | NP CC NP [0.2]\n",
    "  NNS -> \"cats\" [0.1] | \"dogs\" [0.2] | \"mice\" [0.3] | NNS CC NNS [0.4]\n",
    "  JJ  -> \"big\" [0.4] | \"small\" [0.6]\n",
    "  CC  -> \"and\" [0.9] | \"or\" [0.1]\n",
    "  ''')\n",
    "viterbi_parser = nltk.ViterbiParser(grammar)\n",
    "\n",
    "sent = 'big cats and dogs'.split()\n",
    "for tree in viterbi_parser.parse(sent):\n",
    "    print(tree)\n",
    "```\n",
    "\n",
    "`(NP (JJ big) (NNS (NNS cats) (CC and) (NNS dogs))) (p=***)`"
   ]
  },
  {
   "cell_type": "code",
   "execution_count": 21,
   "metadata": {},
   "outputs": [
    {
     "data": {
      "application/vnd.jupyter.widget-view+json": {
       "model_id": "937f6f2d467343e5af53d94f5251bc78",
       "version_major": 2,
       "version_minor": 0
      },
      "text/plain": [
       "OpenQuestion(children=(HTML(value='<h4 style=\"font-size:14px;\">Berechnen Sie die Wahrscheinlichkeit für die Ab…"
      ]
     },
     "metadata": {},
     "output_type": "display_data"
    }
   ],
   "source": [
    "aufgabe(blatt11_5_1)"
   ]
  },
  {
   "cell_type": "markdown",
   "metadata": {},
   "source": [
    "---\n",
    "#### 2. Betrachten Sie das dazugehörige Tracing-Output des `ViterbiParser`s:\n",
    "\n",
    "```\n",
    ">>> sent = 'big cats and dogs'.split()\n",
    ">>> viterbi_parser = nltk.ViterbiParser(grammar, trace = 3)\n",
    ">>> for tree in viterbi_parser.parse(sent):\n",
    ">>>     print(tree)\n",
    "\n",
    "Inserting tokens into the most likely constituents table...\n",
    "   Insert: |=...| big\n",
    "   Insert: |.=..| cats\n",
    "   Insert: |..=.| and\n",
    "   Insert: |...=| dogs\n",
    "Finding the most likely constituents spanning 1 text elements...\n",
    "   Insert: |=...| JJ -> 'big' [0.4]                 0.4000000000\n",
    "   Insert: |.=..| NNS -> 'cats' [0.1]               0.1000000000\n",
    "   Insert: |.=..| NP -> NNS [0.5]                   0.0500000000\n",
    "   Insert: |..=.| CC -> 'and' [0.9]                 0.9000000000\n",
    "   Insert: |...=| NNS -> 'dogs' [0.2]               0.2000000000\n",
    "   Insert: |...=| NP -> NNS [0.5]                   0.1000000000\n",
    "Finding the most likely constituents spanning 2 text elements...\n",
    "   Insert: |==..| NP -> JJ NNS [0.3]                0.0120000000\n",
    "Finding the most likely constituents spanning 3 text elements...\n",
    "   Insert: |.===| NP -> NP CC NP [0.2]              0.0009000000\n",
    "   Insert: |.===| NNS -> NNS CC NNS [0.4]           0.0072000000\n",
    "   Insert: |.===| NP -> NNS [0.5]                   0.0036000000\n",
    "  Discard: |.===| NP -> NP CC NP [0.2]              0.0009000000\n",
    "  Discard: |.===| NP -> NP CC NP [0.2]              0.0009000000\n",
    "Finding the most likely constituents spanning 4 text elements...\n",
    "   Insert: |====| NP -> JJ NNS [0.3]                0.0008640000\n",
    "  Discard: |====| NP -> NP CC NP [0.2]              0.0002160000\n",
    "  Discard: |====| NP -> NP CC NP [0.2]              0.0002160000\n",
    "(NP (JJ big) (NNS (NNS cats) (CC and) (NNS dogs))) (p=***)\n",
    "```"
   ]
  },
  {
   "cell_type": "code",
   "execution_count": 22,
   "metadata": {},
   "outputs": [
    {
     "data": {
      "application/vnd.jupyter.widget-view+json": {
       "model_id": "0eb42b72dd2541cbaa43c61a6669318f",
       "version_major": 2,
       "version_minor": 0
      },
      "text/plain": [
       "MultipleChoice(children=(HTML(value='<h4 style=\"font-size:14px;\">Warum werden die Analysen in den Discard-Zeil…"
      ]
     },
     "metadata": {},
     "output_type": "display_data"
    }
   ],
   "source": [
    "aufgabe(blatt11_5_2)"
   ]
  },
  {
   "cell_type": "markdown",
   "metadata": {},
   "source": [
    "---\n",
    "#### 3. Ein statistischer ChartParser findet folgende 2 Ableitungen für die NP *big cats and dogs*:\n",
    "```\n",
    "(NP (JJ big) (NNS (NNS cats) (CC and) (NNS dogs))) (p=0.000864)\n",
    "(NP (NP (JJ big) (NNS cats)) (CC and) (NP (NNS dogs))) (p=0.000216)\n",
    "```"
   ]
  },
  {
   "cell_type": "code",
   "execution_count": 23,
   "metadata": {},
   "outputs": [
    {
     "name": "stdout",
     "output_type": "stream",
     "text": [
      "          NP         \n",
      " ┌────────┴───┐       \n",
      " │           NNS     \n",
      " │   ┌────────┼───┐   \n",
      " JJ NNS       CC NNS \n",
      " │   │        │   │   \n",
      "big cats     and dogs\n",
      "\n",
      "         NP          \n",
      "     ┌───┴────┬───┐   \n",
      "     NP       │   NP \n",
      " ┌───┴───┐    │   │   \n",
      " JJ     NNS   CC NNS \n",
      " │       │    │   │   \n",
      "big     cats and dogs\n",
      "\n"
     ]
    }
   ],
   "source": [
    "# Visualisierung\n",
    "from nltk import Tree\n",
    "\n",
    "tree1 = Tree.fromstring(\"(NP (JJ big) (NNS (NNS cats) (CC and) (NNS dogs)))\")\n",
    "tree2 = Tree.fromstring(\"(NP (NP (JJ big) (NNS cats)) (CC and) (NP (NNS dogs)))\")\n",
    "\n",
    "tree1.pretty_print(unicodelines=True)\n",
    "tree2.pretty_print(unicodelines=True)"
   ]
  },
  {
   "cell_type": "code",
   "execution_count": 24,
   "metadata": {},
   "outputs": [
    {
     "data": {
      "application/vnd.jupyter.widget-view+json": {
       "model_id": "a10a9da856364216b2930cc40088a8b3",
       "version_major": 2,
       "version_minor": 0
      },
      "text/plain": [
       "SingleChoice(children=(HTML(value='<h4 style=\"font-size:14px;\">Um welchen Parser kann es sich nicht handeln?</…"
      ]
     },
     "metadata": {},
     "output_type": "display_data"
    },
    {
     "data": {
      "application/vnd.jupyter.widget-view+json": {
       "model_id": "d299c1b1a227489f9f9232629772a287",
       "version_major": 2,
       "version_minor": 0
      },
      "text/plain": [
       "SingleChoice(children=(HTML(value='<h4 style=\"font-size:14px;\">Nach welchem Kriterium wird beim Parsen mit dem…"
      ]
     },
     "metadata": {},
     "output_type": "display_data"
    },
    {
     "data": {
      "application/vnd.jupyter.widget-view+json": {
       "model_id": "68340d5a950943d6941a53132ea699a2",
       "version_major": 2,
       "version_minor": 0
      },
      "text/plain": [
       "SingleChoice(children=(HTML(value='<h4 style=\"font-size:14px;\">Um welche Art der Ambiguität handelt es sich be…"
      ]
     },
     "metadata": {},
     "output_type": "display_data"
    }
   ],
   "source": [
    "aufgabe(blatt11_5_3)"
   ]
  }
 ],
 "metadata": {
  "kernelspec": {
   "display_name": "Python 3",
   "language": "python",
   "name": "python3"
  },
  "language_info": {
   "codemirror_mode": {
    "name": "ipython",
    "version": 3
   },
   "file_extension": ".py",
   "mimetype": "text/x-python",
   "name": "python",
   "nbconvert_exporter": "python",
   "pygments_lexer": "ipython3",
   "version": "3.6.9"
  },
  "widgets": {
   "application/vnd.jupyter.widget-state+json": {
    "state": {
     "000bb17312f14fb185d3d5a19790d01f": {
      "model_module": "@jupyter-widgets/controls",
      "model_module_version": "1.4.0",
      "model_name": "ButtonModel",
      "state": {
       "description": "Korrekt?",
       "layout": "IPY_MODEL_fa377e019d4c4855ad61fd2475a08d5d",
       "style": "IPY_MODEL_e5a6f6f8b33244288324cd8ee652ce0c"
      }
     },
     "00b6f00339af4026a8e53e2f07d0851b": {
      "model_module": "@jupyter-widgets/base",
      "model_module_version": "1.1.0",
      "model_name": "LayoutModel",
      "state": {}
     },
     "014d0410d5d14c368e0d0a575f364cce": {
      "model_module": "@jupyter-widgets/controls",
      "model_module_version": "1.4.0",
      "model_name": "HTMLModel",
      "state": {
       "layout": "IPY_MODEL_229432134fed4c90af3b40a1307e1db3",
       "style": "IPY_MODEL_0f0b398264214234ad9f5e7811018aa2",
       "value": "<i>Wählen Sie die <ins>eine</ins> korrekte Antwort aus: </i>"
      }
     },
     "019131b75788442e943a5f719cb74c53": {
      "model_module": "@jupyter-widgets/controls",
      "model_module_version": "1.4.0",
      "model_name": "DescriptionStyleModel",
      "state": {
       "description_width": ""
      }
     },
     "01fd09c1f4e2461983b7bdbda569c3eb": {
      "model_module": "@jupyter-widgets/base",
      "model_module_version": "1.1.0",
      "model_name": "LayoutModel",
      "state": {
       "width": "250px"
      }
     },
     "028555740a5d423bbdfe55302ce87896": {
      "model_module": "@jupyter-widgets/base",
      "model_module_version": "1.1.0",
      "model_name": "LayoutModel",
      "state": {
       "justify_content": "center"
      }
     },
     "02b49aeee51846769c8717f4e76e8ece": {
      "model_module": "@jupyter-widgets/controls",
      "model_module_version": "1.4.0",
      "model_name": "VBoxModel",
      "state": {
       "children": [
        "IPY_MODEL_8a4f95b839974dd8a53f2eb2c4976e43",
        "IPY_MODEL_a505069a943744c785b32c0a6988af2a",
        "IPY_MODEL_5eac9a4bffb448be84b61ce919768913",
        "IPY_MODEL_5426e17db74441d782dcad0babf48dfd"
       ],
       "layout": "IPY_MODEL_5104909a56bf4f3580312b25798fb646"
      }
     },
     "032725796af243278cc30ba04d79cd7e": {
      "model_module": "@jupyter-widgets/base",
      "model_module_version": "1.1.0",
      "model_name": "LayoutModel",
      "state": {}
     },
     "047a45f906bd4733bd754fea9f2b88bc": {
      "model_module": "@jupyter-widgets/controls",
      "model_module_version": "1.4.0",
      "model_name": "HBoxModel",
      "state": {
       "children": [
        "IPY_MODEL_9d76a30747cf471e9e63a0b01ef22d47",
        "IPY_MODEL_1d915c9d85d244cc813be4bcd0c5b44e"
       ],
       "layout": "IPY_MODEL_d574f769e65a4da8ab03544aa4252346"
      }
     },
     "048afdda91df49ba90f14480cde54e4b": {
      "model_module": "@jupyter-widgets/base",
      "model_module_version": "1.1.0",
      "model_name": "LayoutModel",
      "state": {}
     },
     "04c0481389c24e01906413b605377acc": {
      "model_module": "@jupyter-widgets/base",
      "model_module_version": "1.1.0",
      "model_name": "LayoutModel",
      "state": {
       "width": "250px"
      }
     },
     "0574006b8b3d4e2287e63474f5a35857": {
      "model_module": "@jupyter-widgets/controls",
      "model_module_version": "1.4.0",
      "model_name": "DescriptionStyleModel",
      "state": {
       "description_width": ""
      }
     },
     "06156a06beaa4169b87d44abbf857c65": {
      "model_module": "@jupyter-widgets/controls",
      "model_module_version": "1.4.0",
      "model_name": "HTMLModel",
      "state": {
       "layout": "IPY_MODEL_411a2952334f49a1b364ae11475b5427",
       "style": "IPY_MODEL_d2e1b013a40644e3afb7969354d0e1e9",
       "value": "<i>Wählen Sie die <ins>eine</ins> korrekte Antwort aus: </i>"
      }
     },
     "066f358ef4574bcab432de0b67e50030": {
      "model_module": "@jupyter-widgets/controls",
      "model_module_version": "1.4.0",
      "model_name": "ButtonStyleModel",
      "state": {}
     },
     "07a7d95859764eeeb9238647273f204e": {
      "model_module": "@jupyter-widgets/controls",
      "model_module_version": "1.4.0",
      "model_name": "DescriptionStyleModel",
      "state": {
       "description_width": ""
      }
     },
     "081c34500d6f42929b180c127f9764ce": {
      "model_module": "@jupyter-widgets/controls",
      "model_module_version": "1.4.0",
      "model_name": "DescriptionStyleModel",
      "state": {
       "description_width": ""
      }
     },
     "082e38639293417188800f20ed60aafd": {
      "model_module": "@jupyter-widgets/controls",
      "model_module_version": "1.4.0",
      "model_name": "DescriptionStyleModel",
      "state": {
       "description_width": ""
      }
     },
     "095805401fa2472fb3165687274fbf4a": {
      "model_module": "@jupyter-widgets/base",
      "model_module_version": "1.1.0",
      "model_name": "LayoutModel",
      "state": {}
     },
     "098b72337f4741ee8beb107de6258c94": {
      "model_module": "@jupyter-widgets/controls",
      "model_module_version": "1.4.0",
      "model_name": "ButtonModel",
      "state": {
       "description": "Temporale Ambiguität",
       "layout": "IPY_MODEL_ea57cb54dd0343189b5f0c527328bcb1",
       "style": "IPY_MODEL_a9b96834397c415fba92c3eb1a929ade"
      }
     },
     "0a89636eb0a141e7a08ec6732c800602": {
      "model_module": "@jupyter-widgets/controls",
      "model_module_version": "1.4.0",
      "model_name": "ButtonModel",
      "state": {
       "description": "ViterbiParser",
       "layout": "IPY_MODEL_208174ea42ac4840b7e4dcba86da42c4",
       "style": "IPY_MODEL_6d9cc267c3ac4572baa0be5856ee442e"
      }
     },
     "0aabab9d46de4f6280b5bcf89717bef8": {
      "model_module": "@jupyter-widgets/controls",
      "model_module_version": "1.4.0",
      "model_name": "ButtonModel",
      "state": {
       "description": "nach der Länge der Ableitung",
       "layout": "IPY_MODEL_9b3ac7b9a9b841838dd4f2492108deda",
       "style": "IPY_MODEL_76d4e2372d824a4b99ee58a5223dbfb6"
      }
     },
     "0c0ee884a5084556a42ea6e6db2bd2ca": {
      "model_module": "@jupyter-widgets/controls",
      "model_module_version": "1.4.0",
      "model_name": "HTMLModel",
      "state": {
       "layout": "IPY_MODEL_c4e4e64421e94e1bb5ea6981a8ff14d8",
       "style": "IPY_MODEL_b581fa4dee0a41fcbbf55b3b6879a4d0",
       "value": "<h4 style=\"font-size:14px;\">Warum werden die Analysen in den Discard-Zeilen verworfen?</h4>"
      }
     },
     "0c222ba1f2f3450fb1d1bf10d308254d": {
      "model_module": "@jupyter-widgets/base",
      "model_module_version": "1.1.0",
      "model_name": "LayoutModel",
      "state": {
       "width": "250px"
      }
     },
     "0c5b759495b94cef96899b423a9e15a5": {
      "model_module": "@jupyter-widgets/controls",
      "model_module_version": "1.4.0",
      "model_name": "DescriptionStyleModel",
      "state": {
       "description_width": ""
      }
     },
     "0c6791a611084a9ab05e9fb9a1f03896": {
      "model_module": "@jupyter-widgets/base",
      "model_module_version": "1.1.0",
      "model_name": "LayoutModel",
      "state": {
       "width": "250px"
      }
     },
     "0cd2c53fa2ca4459b0c63f6b0ccdb118": {
      "model_module": "@jupyter-widgets/controls",
      "model_module_version": "1.4.0",
      "model_name": "HTMLModel",
      "state": {
       "layout": "IPY_MODEL_4ecd509ab77340e687666807406c1f6f",
       "style": "IPY_MODEL_7267c348f1574f37842b73a2e34decbc",
       "value": "<h4 style=\"font-size:14px;\">Berechnen Sie die Wahrscheinlichkeit für die Ableitung in der letzten Zeile.</h4>"
      }
     },
     "0cf35aa5a9d14049984b2a8b3c665396": {
      "model_module": "@jupyter-widgets/base",
      "model_module_version": "1.1.0",
      "model_name": "LayoutModel",
      "state": {}
     },
     "0d44d27dfc0e4231aad7c8358c8ff6cb": {
      "model_module": "@jupyter-widgets/controls",
      "model_module_version": "1.4.0",
      "model_name": "HTMLModel",
      "state": {
       "layout": "IPY_MODEL_6085ed8b0d14451092e981527227b17d",
       "style": "IPY_MODEL_07a7d95859764eeeb9238647273f204e",
       "value": "<i>Geben Sie die korrekte Antwort ein: </i>"
      }
     },
     "0d64247da2de43d9b7dcc41fdccc52c0": {
      "model_module": "@jupyter-widgets/controls",
      "model_module_version": "1.4.0",
      "model_name": "HBoxModel",
      "state": {
       "children": [
        "IPY_MODEL_1e46c089be5348aebfc1a73605ece988",
        "IPY_MODEL_2c0124914f484084a82160b8d5645b7d"
       ],
       "layout": "IPY_MODEL_2e3eec1c1f194fe5bf05b13d2d5a9347"
      }
     },
     "0da5d11cfbd84114a880ff40c882f318": {
      "model_module": "@jupyter-widgets/base",
      "model_module_version": "1.1.0",
      "model_name": "LayoutModel",
      "state": {
       "width": "250px"
      }
     },
     "0eb42b72dd2541cbaa43c61a6669318f": {
      "model_module": "@jupyter-widgets/controls",
      "model_module_version": "1.4.0",
      "model_name": "VBoxModel",
      "state": {
       "children": [
        "IPY_MODEL_9f78f73fb18c44008893da5e5d554c09",
        "IPY_MODEL_228b6d053b344c04b6c2b0832ea33f93",
        "IPY_MODEL_4f905844942e43a9a633913f9959ac4f",
        "IPY_MODEL_494a100512184e2e88156fe5dff42b0f"
       ],
       "layout": "IPY_MODEL_ce9e57513ea44c379451e77a0dd71455"
      }
     },
     "0eb5d7cfb45c483ba6c9ec510c7cfc6d": {
      "model_module": "@jupyter-widgets/base",
      "model_module_version": "1.1.0",
      "model_name": "LayoutModel",
      "state": {}
     },
     "0ec133dd51834dba8f6961535bb8d9b5": {
      "model_module": "@jupyter-widgets/controls",
      "model_module_version": "1.4.0",
      "model_name": "HBoxModel",
      "state": {
       "children": [
        "IPY_MODEL_80d94ca125c34843a2a9082a4789ac93",
        "IPY_MODEL_eda9585f90c4407381304052196b3249"
       ],
       "layout": "IPY_MODEL_2f7370d490474c368d32c3af68ca9884"
      }
     },
     "0ecdf157019d43fc9d63c0651589b6db": {
      "model_module": "@jupyter-widgets/base",
      "model_module_version": "1.1.0",
      "model_name": "LayoutModel",
      "state": {
       "width": "250px"
      }
     },
     "0f0b398264214234ad9f5e7811018aa2": {
      "model_module": "@jupyter-widgets/controls",
      "model_module_version": "1.4.0",
      "model_name": "DescriptionStyleModel",
      "state": {
       "description_width": ""
      }
     },
     "0fc5ab545edb48f48babac12bedce967": {
      "model_module": "@jupyter-widgets/controls",
      "model_module_version": "1.4.0",
      "model_name": "ButtonStyleModel",
      "state": {}
     },
     "0fdc1fc0835e47e98a33796f29b2d74c": {
      "model_module": "@jupyter-widgets/controls",
      "model_module_version": "1.4.0",
      "model_name": "HTMLModel",
      "state": {
       "layout": "IPY_MODEL_53d5b0c94ead4d609a98ac4c5c4f8817",
       "style": "IPY_MODEL_f6929337a20a414aa8e771b17f0fd4e8",
       "value": "<h4 style=\"font-size:14px;\">Nach welchem Kriterium wird beim Parsen mit dem InsideChartParser (= <i>Lowest-Cost-First</i>-Strategie) die <i>edge queue</i> sortiert?</h4>"
      }
     },
     "108711d220a24840a0905d5b5b303af3": {
      "model_module": "@jupyter-widgets/base",
      "model_module_version": "1.1.0",
      "model_name": "LayoutModel",
      "state": {}
     },
     "10b3adcb49c64dc69d4ee1a51ca00f46": {
      "model_module": "@jupyter-widgets/base",
      "model_module_version": "1.1.0",
      "model_name": "LayoutModel",
      "state": {
       "width": "250px"
      }
     },
     "10dec9ce9b5f47e0a8b5748023123650": {
      "model_module": "@jupyter-widgets/base",
      "model_module_version": "1.1.0",
      "model_name": "LayoutModel",
      "state": {}
     },
     "112c1706b2894863bc45f6ad663799c5": {
      "model_module": "@jupyter-widgets/base",
      "model_module_version": "1.1.0",
      "model_name": "LayoutModel",
      "state": {}
     },
     "11417a866cc04e54be399b9277b1ce7a": {
      "model_module": "@jupyter-widgets/controls",
      "model_module_version": "1.4.0",
      "model_name": "HTMLModel",
      "state": {
       "layout": "IPY_MODEL_d3da8fa8c487423f9b069f19a7d5e3cb",
       "style": "IPY_MODEL_aa161135043a47868f6bec569fca5b76",
       "value": "<i>Wählen Sie die <ins>eine</ins> korrekte Antwort aus: </i>"
      }
     },
     "1152d8dd395045c5a2f2507ba27ec306": {
      "model_module": "@jupyter-widgets/base",
      "model_module_version": "1.1.0",
      "model_name": "LayoutModel",
      "state": {}
     },
     "11b6d934b517406c94f3f1ef68037827": {
      "model_module": "@jupyter-widgets/controls",
      "model_module_version": "1.4.0",
      "model_name": "CheckboxModel",
      "state": {
       "description": "Die Analysen sind mit der gegebenen Grammatik nicht möglich.",
       "disabled": false,
       "layout": "IPY_MODEL_fc21946f88a9452588d3ce193ff36342",
       "style": "IPY_MODEL_bf7f2303ef1c45f9972d755746321afc",
       "value": false
      }
     },
     "12bc907ae7c94f699d40b5c6dae834f1": {
      "model_module": "@jupyter-widgets/controls",
      "model_module_version": "1.4.0",
      "model_name": "ButtonStyleModel",
      "state": {}
     },
     "136407255f5542b097f7994671323139": {
      "model_module": "@jupyter-widgets/base",
      "model_module_version": "1.1.0",
      "model_name": "LayoutModel",
      "state": {
       "width": "600px"
      }
     },
     "1397045d795d4c60a176c6db42a54da6": {
      "model_module": "@jupyter-widgets/controls",
      "model_module_version": "1.4.0",
      "model_name": "ButtonStyleModel",
      "state": {}
     },
     "13d1332ff66e42a99a00aa0c5f152b78": {
      "model_module": "@jupyter-widgets/base",
      "model_module_version": "1.1.0",
      "model_name": "LayoutModel",
      "state": {}
     },
     "1448e2196eb045c997ca522fde193075": {
      "model_module": "@jupyter-widgets/controls",
      "model_module_version": "1.4.0",
      "model_name": "CheckboxModel",
      "state": {
       "description": "Sie analysieren die Eingabesequenz nicht komplett.",
       "disabled": false,
       "layout": "IPY_MODEL_136407255f5542b097f7994671323139",
       "style": "IPY_MODEL_6b3b2b33469a4432a3e8ef37116519e9",
       "value": false
      }
     },
     "1453596bd3c14799ae23382c131ccdac": {
      "model_module": "@jupyter-widgets/base",
      "model_module_version": "1.1.0",
      "model_name": "LayoutModel",
      "state": {}
     },
     "146d77bfaf364b7486a418ef9dcaa4b6": {
      "model_module": "@jupyter-widgets/base",
      "model_module_version": "1.1.0",
      "model_name": "LayoutModel",
      "state": {}
     },
     "14f9967e5f624026bfa188ffcba52481": {
      "model_module": "@jupyter-widgets/base",
      "model_module_version": "1.1.0",
      "model_name": "LayoutModel",
      "state": {
       "width": "600px"
      }
     },
     "155292d498cd47dfb121e5764dc879d4": {
      "model_module": "@jupyter-widgets/base",
      "model_module_version": "1.1.0",
      "model_name": "LayoutModel",
      "state": {
       "width": "250px"
      }
     },
     "155b19afb8a54a8aa12e64879d1545f7": {
      "model_module": "@jupyter-widgets/controls",
      "model_module_version": "1.4.0",
      "model_name": "HTMLModel",
      "state": {
       "layout": "IPY_MODEL_8bb8b8f6993b4488a7b536189b22ad2b",
       "style": "IPY_MODEL_77c2de63489f4d06a4da194dc84906eb",
       "value": "<h4 style=\"font-size:14px;\">Nach welchem Kriterium wird beim Parsen mit dem InsideChartParser (= <i>Lowest-Cost-First</i>-Strategie) die <i>edge queue</i> sortiert?</h4>"
      }
     },
     "158ee861f94341949121d11846114dcf": {
      "model_module": "@jupyter-widgets/controls",
      "model_module_version": "1.4.0",
      "model_name": "HTMLModel",
      "state": {
       "layout": "IPY_MODEL_3e230a5bb181418e8ad2bf7220092657",
       "style": "IPY_MODEL_83f3cebe0fc548ae9533b691121e2fcf",
       "value": "<i>Wählen Sie die <ins>eine</ins> korrekte Antwort aus: </i>"
      }
     },
     "166b7636c023452d89481fba4e8cf5c7": {
      "model_module": "@jupyter-widgets/controls",
      "model_module_version": "1.4.0",
      "model_name": "DescriptionStyleModel",
      "state": {
       "description_width": ""
      }
     },
     "166d6b1fc152436d91ec192e187ebb00": {
      "model_module": "@jupyter-widgets/controls",
      "model_module_version": "1.4.0",
      "model_name": "HBoxModel",
      "state": {
       "children": [
        "IPY_MODEL_d0d8321fffc94baf93b7a22f32c06d2c",
        "IPY_MODEL_3be31d2d403e4f7bbfd94ff24764567e"
       ],
       "layout": "IPY_MODEL_38b288d9baca4c73906e245570bb0e3f"
      }
     },
     "16e46904f5e442f1a8a9c2ac895d39d0": {
      "model_module": "@jupyter-widgets/controls",
      "model_module_version": "1.4.0",
      "model_name": "ButtonModel",
      "state": {
       "description": "ViterbiParser",
       "layout": "IPY_MODEL_c31a2f2f76564045ac58ed7037ad65e0",
       "style": "IPY_MODEL_8bb7e20bd1c54fa3a58cbf98f8bee922"
      }
     },
     "180aea6e8143407a9e60c4ea221990a8": {
      "model_module": "@jupyter-widgets/controls",
      "model_module_version": "1.4.0",
      "model_name": "ButtonModel",
      "state": {
       "description": "Koordinationsambiguität",
       "layout": "IPY_MODEL_10b3adcb49c64dc69d4ee1a51ca00f46",
       "style": "IPY_MODEL_1397045d795d4c60a176c6db42a54da6"
      }
     },
     "189f0d32319644c9b223b056c658787a": {
      "model_module": "@jupyter-widgets/controls",
      "model_module_version": "1.4.0",
      "model_name": "HTMLModel",
      "state": {
       "layout": "IPY_MODEL_c32c7994ed6d4dd7a7a836ee874b7c7d",
       "style": "IPY_MODEL_f1fa9ba3738e4a5999a216d3e9a2857c",
       "value": "<h4 style=\"font-size:14px;\">Berechnen Sie die Wahrscheinlichkeit für die Ableitung in der letzten Zeile.</h4>"
      }
     },
     "198b8640ace94c2091c98a36c309367e": {
      "model_module": "@jupyter-widgets/controls",
      "model_module_version": "1.4.0",
      "model_name": "ButtonStyleModel",
      "state": {}
     },
     "19c959c2156c46428dd3b116dccd12c9": {
      "model_module": "@jupyter-widgets/base",
      "model_module_version": "1.1.0",
      "model_name": "LayoutModel",
      "state": {}
     },
     "1a44c9c299004c4095cd3fd698f3be31": {
      "model_module": "@jupyter-widgets/base",
      "model_module_version": "1.1.0",
      "model_name": "LayoutModel",
      "state": {
       "width": "250px"
      }
     },
     "1a6614bbb2a54bcf904304d49d931822": {
      "model_module": "@jupyter-widgets/controls",
      "model_module_version": "1.4.0",
      "model_name": "ButtonModel",
      "state": {
       "description": "nach der Wahrscheinlichkeit",
       "layout": "IPY_MODEL_29363933230f417085deaf7e32bbde59",
       "style": "IPY_MODEL_62a8a66e06244f4ea2599d7ad486071e"
      }
     },
     "1c7e78d410d449478e82ab19045ebef6": {
      "model_module": "@jupyter-widgets/controls",
      "model_module_version": "1.4.0",
      "model_name": "HTMLModel",
      "state": {
       "layout": "IPY_MODEL_46da33cbe9b0493698746d66f153d854",
       "style": "IPY_MODEL_83f5f684cdbb41208ade344b1b00f513",
       "value": "<i>Wählen Sie die <ins>eine</ins> korrekte Antwort aus: </i>"
      }
     },
     "1d915c9d85d244cc813be4bcd0c5b44e": {
      "model_module": "@jupyter-widgets/controls",
      "model_module_version": "1.4.0",
      "model_name": "ButtonModel",
      "state": {
       "description": "InsideChartParser mit beam-size",
       "layout": "IPY_MODEL_e677f467e4ed4dc1b334c8e8bdfc6f2f",
       "style": "IPY_MODEL_20f7461ac3c94c22b401ee0643f3e330"
      }
     },
     "1e19d44df97145a791af01a565b6a621": {
      "model_module": "@jupyter-widgets/base",
      "model_module_version": "1.1.0",
      "model_name": "LayoutModel",
      "state": {}
     },
     "1e46c089be5348aebfc1a73605ece988": {
      "model_module": "@jupyter-widgets/controls",
      "model_module_version": "1.4.0",
      "model_name": "ButtonModel",
      "state": {
       "description": "OK",
       "layout": "IPY_MODEL_0eb5d7cfb45c483ba6c9ec510c7cfc6d",
       "style": "IPY_MODEL_9c944ef278a54ad0825840c75c0d62ea"
      }
     },
     "1e73300da08d4006af611e52e3f294a0": {
      "model_module": "@jupyter-widgets/base",
      "model_module_version": "1.1.0",
      "model_name": "LayoutModel",
      "state": {}
     },
     "208174ea42ac4840b7e4dcba86da42c4": {
      "model_module": "@jupyter-widgets/base",
      "model_module_version": "1.1.0",
      "model_name": "LayoutModel",
      "state": {
       "width": "250px"
      }
     },
     "20f7461ac3c94c22b401ee0643f3e330": {
      "model_module": "@jupyter-widgets/controls",
      "model_module_version": "1.4.0",
      "model_name": "ButtonStyleModel",
      "state": {}
     },
     "21af4a20692f4930b896d689a2baec46": {
      "model_module": "@jupyter-widgets/controls",
      "model_module_version": "1.4.0",
      "model_name": "DescriptionStyleModel",
      "state": {
       "description_width": "initial"
      }
     },
     "21b42b944d4a4676b55d8886e1ceaedb": {
      "model_module": "@jupyter-widgets/controls",
      "model_module_version": "1.4.0",
      "model_name": "HTMLModel",
      "state": {
       "layout": "IPY_MODEL_320f685e6ff34eafbe55fccbb0d2d525",
       "style": "IPY_MODEL_e116ede6de6241aea6eb44b0694a7ef2",
       "value": "<h4 style=\"font-size:14px;\">Um welchen Parser kann es sich nicht handeln?</h4>"
      }
     },
     "21d4582ec7904cb594fb04af108fa30c": {
      "model_module": "@jupyter-widgets/controls",
      "model_module_version": "1.4.0",
      "model_name": "HTMLModel",
      "state": {
       "layout": "IPY_MODEL_5660377a156b4e02b98fe73eeb9847f0",
       "style": "IPY_MODEL_de945c2ee8314ac0bcc7a4d01686c6df",
       "value": "<i>Wählen Sie die <ins>eine</ins> korrekte Antwort aus: </i>"
      }
     },
     "2223066093f649fa871d085988af4b09": {
      "model_module": "@jupyter-widgets/base",
      "model_module_version": "1.1.0",
      "model_name": "LayoutModel",
      "state": {
       "width": "600px"
      }
     },
     "228b6d053b344c04b6c2b0832ea33f93": {
      "model_module": "@jupyter-widgets/controls",
      "model_module_version": "1.4.0",
      "model_name": "HTMLModel",
      "state": {
       "layout": "IPY_MODEL_741c7db035f54a4ba2705c2baa1549c2",
       "style": "IPY_MODEL_be4e77cd1c6447849eff4a4a17a83931",
       "value": "<i>Wählen Sie die <ins>eine</ins> korrekte Antwort aus: </i>"
      }
     },
     "229432134fed4c90af3b40a1307e1db3": {
      "model_module": "@jupyter-widgets/base",
      "model_module_version": "1.1.0",
      "model_name": "LayoutModel",
      "state": {
       "justify_content": "center"
      }
     },
     "235b4a7606e443d89a204a0da73615b6": {
      "model_module": "@jupyter-widgets/base",
      "model_module_version": "1.1.0",
      "model_name": "LayoutModel",
      "state": {}
     },
     "23f124b674454935a3208a365d7c70f2": {
      "model_module": "@jupyter-widgets/base",
      "model_module_version": "1.1.0",
      "model_name": "LayoutModel",
      "state": {
       "width": "250px"
      }
     },
     "24d27bf652dc4030b581fcb0fe21e941": {
      "model_module": "@jupyter-widgets/base",
      "model_module_version": "1.1.0",
      "model_name": "LayoutModel",
      "state": {
       "width": "250px"
      }
     },
     "24dcbbf0dd1d413b9204661c2cb35347": {
      "model_module": "@jupyter-widgets/base",
      "model_module_version": "1.1.0",
      "model_name": "LayoutModel",
      "state": {
       "width": "250px"
      }
     },
     "251cba71dd0c4b628c13a53033509c91": {
      "model_module": "@jupyter-widgets/base",
      "model_module_version": "1.1.0",
      "model_name": "LayoutModel",
      "state": {}
     },
     "2524900926594ac4a695f9cddc013aac": {
      "model_module": "@jupyter-widgets/controls",
      "model_module_version": "1.4.0",
      "model_name": "ButtonModel",
      "state": {
       "description": "Lösung zeigen",
       "layout": "IPY_MODEL_aebafdd6841d4549a7a76e42c4209164",
       "style": "IPY_MODEL_d2f1db866d4e4f1f84e50e2ae83526ca"
      }
     },
     "2584d15ab275479e8a4b7dd4c4e62f7a": {
      "model_module": "@jupyter-widgets/controls",
      "model_module_version": "1.4.0",
      "model_name": "ButtonModel",
      "state": {
       "description": "OK",
       "layout": "IPY_MODEL_251cba71dd0c4b628c13a53033509c91",
       "style": "IPY_MODEL_fab82fb1e0024b549a089e3df6c7dd83"
      }
     },
     "259cb6dea11a46678356d45492f4c6e5": {
      "model_module": "@jupyter-widgets/controls",
      "model_module_version": "1.4.0",
      "model_name": "CheckboxModel",
      "state": {
       "description": "Das Verwerfen verhindert eine Endlosrekursion.",
       "disabled": false,
       "layout": "IPY_MODEL_62633faf20374f36b1efcf1b324a9d6a",
       "style": "IPY_MODEL_8b923631e2fd47caa899783943ad8929",
       "value": false
      }
     },
     "264647ac943d428396d44d3e958ecf7b": {
      "model_module": "@jupyter-widgets/base",
      "model_module_version": "1.1.0",
      "model_name": "LayoutModel",
      "state": {
       "justify_content": "center"
      }
     },
     "26859dc67f2c459bbea828e5fa97188e": {
      "model_module": "@jupyter-widgets/controls",
      "model_module_version": "1.4.0",
      "model_name": "VBoxModel",
      "state": {
       "children": [
        "IPY_MODEL_0c0ee884a5084556a42ea6e6db2bd2ca",
        "IPY_MODEL_bf4392f826f44a5898188b08a318d708",
        "IPY_MODEL_6bec38c8d4a44f1f990b744bff5fa946",
        "IPY_MODEL_000bb17312f14fb185d3d5a19790d01f"
       ],
       "layout": "IPY_MODEL_5072fa62ec8749178f3a891a8eee2100"
      }
     },
     "2766384b30de4908951a2c0eb0fa32f2": {
      "model_module": "@jupyter-widgets/base",
      "model_module_version": "1.1.0",
      "model_name": "LayoutModel",
      "state": {}
     },
     "27675156389943d98c2d4f16b8ebb71b": {
      "model_module": "@jupyter-widgets/controls",
      "model_module_version": "1.4.0",
      "model_name": "HTMLModel",
      "state": {
       "layout": "IPY_MODEL_e71a6d6ab30948df945e37b369ae9a5c",
       "style": "IPY_MODEL_166b7636c023452d89481fba4e8cf5c7",
       "value": "<i>Wählen Sie die <ins>eine</ins> korrekte Antwort aus: </i>"
      }
     },
     "2772b5841b7d4635b7542570f2fec16a": {
      "model_module": "@jupyter-widgets/controls",
      "model_module_version": "1.4.0",
      "model_name": "HTMLModel",
      "state": {
       "layout": "IPY_MODEL_f1f779cd7ec542c18ce2b62363df1cb4",
       "style": "IPY_MODEL_4e17e26b261c4039b28f8ab625598588",
       "value": "<h4 style=\"font-size:14px;\">Um welchen Parser kann es sich nicht handeln?</h4>"
      }
     },
     "27fa60725aae42a88e11db6b341bf84e": {
      "model_module": "@jupyter-widgets/controls",
      "model_module_version": "1.4.0",
      "model_name": "TextModel",
      "state": {
       "layout": "IPY_MODEL_112c1706b2894863bc45f6ad663799c5",
       "style": "IPY_MODEL_27ffa7564f4e42a88b9106419ec181d7"
      }
     },
     "27ffa7564f4e42a88b9106419ec181d7": {
      "model_module": "@jupyter-widgets/controls",
      "model_module_version": "1.4.0",
      "model_name": "DescriptionStyleModel",
      "state": {
       "description_width": ""
      }
     },
     "28759caafa724a569f3ae0824b84edc0": {
      "model_module": "@jupyter-widgets/controls",
      "model_module_version": "1.4.0",
      "model_name": "ButtonStyleModel",
      "state": {}
     },
     "29363933230f417085deaf7e32bbde59": {
      "model_module": "@jupyter-widgets/base",
      "model_module_version": "1.1.0",
      "model_name": "LayoutModel",
      "state": {
       "width": "250px"
      }
     },
     "29cc2e7d0f874b8ab19e6113e873394d": {
      "model_module": "@jupyter-widgets/controls",
      "model_module_version": "1.4.0",
      "model_name": "ButtonModel",
      "state": {
       "description": "nach der Wahrscheinlichkeit",
       "layout": "IPY_MODEL_24d27bf652dc4030b581fcb0fe21e941",
       "style": "IPY_MODEL_4bb6fa0dfe4745e8ad834b0a82b7c4ea"
      }
     },
     "2b3987e2156247d4a97540143d5e7f49": {
      "model_module": "@jupyter-widgets/controls",
      "model_module_version": "1.4.0",
      "model_name": "TextModel",
      "state": {
       "layout": "IPY_MODEL_931cb4c94c68401998066141cbe503d3",
       "style": "IPY_MODEL_da9c83634ecb45a7a19e6263ce38d023"
      }
     },
     "2c0124914f484084a82160b8d5645b7d": {
      "model_module": "@jupyter-widgets/controls",
      "model_module_version": "1.4.0",
      "model_name": "ButtonModel",
      "state": {
       "description": "Lösung zeigen",
       "layout": "IPY_MODEL_cc69097a24c34b30b4ac63dc7a1306df",
       "style": "IPY_MODEL_77128c22a1d4485e8279f2054e7a27cf"
      }
     },
     "2d6de1013a374595892552da1b1f9c12": {
      "model_module": "@jupyter-widgets/controls",
      "model_module_version": "1.4.0",
      "model_name": "CheckboxModel",
      "state": {
       "description": "Die Analysen sind mit der gegebenen Grammatik nicht möglich.",
       "disabled": false,
       "layout": "IPY_MODEL_5f02e3bf0ab34a6baa9eb9aba226a697",
       "style": "IPY_MODEL_921b33400e594f17a14edf81517baafb",
       "value": false
      }
     },
     "2d9e6fdb8ce04a68aefd8c19daa1c5aa": {
      "model_module": "@jupyter-widgets/controls",
      "model_module_version": "1.4.0",
      "model_name": "ButtonModel",
      "state": {
       "description": "nach der beam-size",
       "layout": "IPY_MODEL_6ca39ba7186c42c884085554287cefa3",
       "style": "IPY_MODEL_5bdca5f7f5594d1999d9fa15d62c9462"
      }
     },
     "2e3eec1c1f194fe5bf05b13d2d5a9347": {
      "model_module": "@jupyter-widgets/base",
      "model_module_version": "1.1.0",
      "model_name": "LayoutModel",
      "state": {}
     },
     "2e53e463e0df455693e0af9ccc431297": {
      "model_module": "@jupyter-widgets/controls",
      "model_module_version": "1.4.0",
      "model_name": "HTMLModel",
      "state": {
       "layout": "IPY_MODEL_a21c37e4060f4736baf26a3d28457bb6",
       "style": "IPY_MODEL_0574006b8b3d4e2287e63474f5a35857",
       "value": "<h4 style=\"font-size:14px;\">Um welche Art der Ambiguität handelt es sich bei den beiden gefundenen Ableitungen?</h4>"
      }
     },
     "2e58c9ca2de4417aa1e2d15357af12d8": {
      "model_module": "@jupyter-widgets/controls",
      "model_module_version": "1.4.0",
      "model_name": "ButtonModel",
      "state": {
       "description": "Lösung zeigen",
       "layout": "IPY_MODEL_1453596bd3c14799ae23382c131ccdac",
       "style": "IPY_MODEL_ee75a5f098a54e34b86bd991d27e1adc"
      }
     },
     "2f7370d490474c368d32c3af68ca9884": {
      "model_module": "@jupyter-widgets/base",
      "model_module_version": "1.1.0",
      "model_name": "LayoutModel",
      "state": {}
     },
     "2fb63d4eea5747dabd833c8353310e1a": {
      "model_module": "@jupyter-widgets/controls",
      "model_module_version": "1.4.0",
      "model_name": "DescriptionStyleModel",
      "state": {
       "description_width": "initial"
      }
     },
     "2fbfada6504f4f35b8553e7bc378e189": {
      "model_module": "@jupyter-widgets/controls",
      "model_module_version": "1.4.0",
      "model_name": "ButtonModel",
      "state": {
       "description": "Lösung zeigen",
       "layout": "IPY_MODEL_b03ff216d74c451ab6ff9fb15ca8b417",
       "style": "IPY_MODEL_12bc907ae7c94f699d40b5c6dae834f1"
      }
     },
     "304ed65d0c0d4a39a9949ddbefa2f361": {
      "model_module": "@jupyter-widgets/base",
      "model_module_version": "1.1.0",
      "model_name": "LayoutModel",
      "state": {
       "width": "250px"
      }
     },
     "305641aebfdd4c9ca2231eeb6ca87217": {
      "model_module": "@jupyter-widgets/controls",
      "model_module_version": "1.4.0",
      "model_name": "VBoxModel",
      "state": {
       "children": [
        "IPY_MODEL_de8a0018d5e5429cb19c4fcdc2af01b9",
        "IPY_MODEL_5724ffc0d90f4d7f8fc6f58095865ebe",
        "IPY_MODEL_fd493b3da05942b28a93bed9e394251f",
        "IPY_MODEL_9b982462cb444d13accc69e3cf5872ee"
       ],
       "layout": "IPY_MODEL_1e19d44df97145a791af01a565b6a621"
      }
     },
     "31567e320b234cebbccde8edba92702e": {
      "model_module": "@jupyter-widgets/controls",
      "model_module_version": "1.4.0",
      "model_name": "DescriptionStyleModel",
      "state": {
       "description_width": ""
      }
     },
     "31d74e1ca5b54efc89dc97a7285b041e": {
      "model_module": "@jupyter-widgets/controls",
      "model_module_version": "1.4.0",
      "model_name": "HBoxModel",
      "state": {
       "children": [
        "IPY_MODEL_9062a4db9130437bbbb169a9c325a1a8",
        "IPY_MODEL_2524900926594ac4a695f9cddc013aac"
       ],
       "layout": "IPY_MODEL_41bcb33f48e34ee7be90dc61c29ee73c"
      }
     },
     "31fd54f792be4f528676a77266d0a69b": {
      "model_module": "@jupyter-widgets/controls",
      "model_module_version": "1.4.0",
      "model_name": "ButtonStyleModel",
      "state": {
       "button_color": "lightgreen"
      }
     },
     "320f685e6ff34eafbe55fccbb0d2d525": {
      "model_module": "@jupyter-widgets/base",
      "model_module_version": "1.1.0",
      "model_name": "LayoutModel",
      "state": {
       "justify_content": "center"
      }
     },
     "32ca47ad3879456e805b9f542818da7f": {
      "model_module": "@jupyter-widgets/base",
      "model_module_version": "1.1.0",
      "model_name": "LayoutModel",
      "state": {
       "width": "250px"
      }
     },
     "32d28833488845ea9c5d28f75bddcfbd": {
      "model_module": "@jupyter-widgets/controls",
      "model_module_version": "1.4.0",
      "model_name": "DescriptionStyleModel",
      "state": {
       "description_width": ""
      }
     },
     "3371c6c0ead549469712c2404231c108": {
      "model_module": "@jupyter-widgets/base",
      "model_module_version": "1.1.0",
      "model_name": "LayoutModel",
      "state": {
       "width": "250px"
      }
     },
     "33ea4a33a90a41c9be5e48680e8d723f": {
      "model_module": "@jupyter-widgets/controls",
      "model_module_version": "1.4.0",
      "model_name": "HTMLModel",
      "state": {
       "layout": "IPY_MODEL_8490b8c781b74b97b310c81c5ec9c3c7",
       "style": "IPY_MODEL_32d28833488845ea9c5d28f75bddcfbd",
       "value": "<h4 style=\"font-size:14px;\">Um welche Art der Ambiguität handelt es sich bei den beiden gefundenen Ableitungen?</h4>"
      }
     },
     "344abca2fe7a4f079d662f358452c631": {
      "model_module": "@jupyter-widgets/controls",
      "model_module_version": "1.4.0",
      "model_name": "ButtonModel",
      "state": {
       "description": "InsideChartParser mit beam-size",
       "layout": "IPY_MODEL_b97dbd50be134001b175b654ab65d2a4",
       "style": "IPY_MODEL_28759caafa724a569f3ae0824b84edc0"
      }
     },
     "35526e61d8de44a9a6f543f665c56ead": {
      "model_module": "@jupyter-widgets/controls",
      "model_module_version": "1.4.0",
      "model_name": "DescriptionStyleModel",
      "state": {
       "description_width": ""
      }
     },
     "35a36dc5a1d34abd8cbf5a6491701232": {
      "model_module": "@jupyter-widgets/controls",
      "model_module_version": "1.4.0",
      "model_name": "CheckboxModel",
      "state": {
       "description": "Das Verwerfen verhindert eine Endlosrekursion.",
       "disabled": false,
       "layout": "IPY_MODEL_8b8aa45740cc4a1b98625ed123b4d030",
       "style": "IPY_MODEL_5033ef42a64a461c813d0e319fb3bfc7",
       "value": false
      }
     },
     "366e5d6668704594b8783920d2679b21": {
      "model_module": "@jupyter-widgets/base",
      "model_module_version": "1.1.0",
      "model_name": "LayoutModel",
      "state": {
       "justify_content": "center"
      }
     },
     "37024219bdec49d59877e9277ada0980": {
      "model_module": "@jupyter-widgets/controls",
      "model_module_version": "1.4.0",
      "model_name": "ButtonStyleModel",
      "state": {}
     },
     "376aaa59262a478db17b6aa9f5ea56bc": {
      "model_module": "@jupyter-widgets/controls",
      "model_module_version": "1.4.0",
      "model_name": "HTMLModel",
      "state": {
       "layout": "IPY_MODEL_264647ac943d428396d44d3e958ecf7b",
       "style": "IPY_MODEL_b33b0770d9944f48b0e1217ec1977d63",
       "value": "<i>Wählen Sie die <ins>eine</ins> korrekte Antwort aus: </i>"
      }
     },
     "37ee1421d76a482b9bf103925e860268": {
      "model_module": "@jupyter-widgets/controls",
      "model_module_version": "1.4.0",
      "model_name": "VBoxModel",
      "state": {
       "children": [
        "IPY_MODEL_189f0d32319644c9b223b056c658787a",
        "IPY_MODEL_4e17eeb940f84b6c99b333c4df5b1b52",
        "IPY_MODEL_2b3987e2156247d4a97540143d5e7f49",
        "IPY_MODEL_5b4500deb58143e0b1fd4946d512b083"
       ],
       "layout": "IPY_MODEL_92a2ad27478142229e98d44417002d49"
      }
     },
     "380e4e5c9a564325a4bd11e726c92c45": {
      "model_module": "@jupyter-widgets/controls",
      "model_module_version": "1.4.0",
      "model_name": "HTMLModel",
      "state": {
       "layout": "IPY_MODEL_787f0ee948e14d8fb26187f8820408fc",
       "style": "IPY_MODEL_c1f8fc31b1d84ebb9b51fad9cdaf4446",
       "value": "<h4 style=\"font-size:14px;\">Berechnen Sie die Wahrscheinlichkeit für die Ableitung in der letzten Zeile.</h4>"
      }
     },
     "38420591e76c467d92eb6dfb1f43e83c": {
      "model_module": "@jupyter-widgets/controls",
      "model_module_version": "1.4.0",
      "model_name": "DescriptionStyleModel",
      "state": {
       "description_width": ""
      }
     },
     "3864f6f4437b43c492ec1ec7d269e053": {
      "model_module": "@jupyter-widgets/controls",
      "model_module_version": "1.4.0",
      "model_name": "HBoxModel",
      "state": {
       "children": [
        "IPY_MODEL_a7d774a74e5d425d890b43894e4fd56d",
        "IPY_MODEL_0a89636eb0a141e7a08ec6732c800602"
       ],
       "layout": "IPY_MODEL_6f345b0588794e7bbf41b632fa562390"
      }
     },
     "386cff597b74418786efdf49b43e6c73": {
      "model_module": "@jupyter-widgets/controls",
      "model_module_version": "1.4.0",
      "model_name": "DescriptionStyleModel",
      "state": {
       "description_width": "initial"
      }
     },
     "388598adc97b4e12b350be31642b276e": {
      "model_module": "@jupyter-widgets/controls",
      "model_module_version": "1.4.0",
      "model_name": "ButtonStyleModel",
      "state": {}
     },
     "38b288d9baca4c73906e245570bb0e3f": {
      "model_module": "@jupyter-widgets/base",
      "model_module_version": "1.1.0",
      "model_name": "LayoutModel",
      "state": {}
     },
     "392c7e94c7274426b364b0a31688e34a": {
      "model_module": "@jupyter-widgets/controls",
      "model_module_version": "1.4.0",
      "model_name": "ButtonModel",
      "state": {
       "description": "nach der beam-size",
       "layout": "IPY_MODEL_23f124b674454935a3208a365d7c70f2",
       "style": "IPY_MODEL_b8a114dc01e5483fb653927c07680e09"
      }
     },
     "3995c96cea3b4f218fdb2c3b1128f05e": {
      "model_module": "@jupyter-widgets/controls",
      "model_module_version": "1.4.0",
      "model_name": "VBoxModel",
      "state": {
       "children": [
        "IPY_MODEL_da6a14dc0683464e9e890927170c68f2",
        "IPY_MODEL_376aaa59262a478db17b6aa9f5ea56bc",
        "IPY_MODEL_c81f3fcb0aa349b780adc8b9aa19ff5e",
        "IPY_MODEL_a8cb19997080411b816f0cd0c749679e"
       ],
       "layout": "IPY_MODEL_671cf6bc82c4432ba7808862c3d850bd"
      }
     },
     "3a0f7563671b400e8556e52d42e2a87d": {
      "model_module": "@jupyter-widgets/controls",
      "model_module_version": "1.4.0",
      "model_name": "ButtonStyleModel",
      "state": {}
     },
     "3ae7ba80849542be83267c71b9ba6587": {
      "model_module": "@jupyter-widgets/base",
      "model_module_version": "1.1.0",
      "model_name": "LayoutModel",
      "state": {}
     },
     "3be31d2d403e4f7bbfd94ff24764567e": {
      "model_module": "@jupyter-widgets/controls",
      "model_module_version": "1.4.0",
      "model_name": "ButtonModel",
      "state": {
       "description": "ViterbiParser",
       "layout": "IPY_MODEL_970d589ffec24823965a254ea2c4510b",
       "style": "IPY_MODEL_d012c472d51742e2acd92c967c331e40"
      }
     },
     "3c5309f32667433d9896dd756b7abc02": {
      "model_module": "@jupyter-widgets/controls",
      "model_module_version": "1.4.0",
      "model_name": "DescriptionStyleModel",
      "state": {
       "description_width": "initial"
      }
     },
     "3dc87286e8b34f0cbf961430f06659e3": {
      "model_module": "@jupyter-widgets/base",
      "model_module_version": "1.1.0",
      "model_name": "LayoutModel",
      "state": {
       "width": "250px"
      }
     },
     "3e230a5bb181418e8ad2bf7220092657": {
      "model_module": "@jupyter-widgets/base",
      "model_module_version": "1.1.0",
      "model_name": "LayoutModel",
      "state": {
       "justify_content": "center"
      }
     },
     "3e57728d4cf2425d9a158f549db6d762": {
      "model_module": "@jupyter-widgets/controls",
      "model_module_version": "1.4.0",
      "model_name": "ButtonModel",
      "state": {
       "description": "InsideChartParser",
       "layout": "IPY_MODEL_a151cb45e8c84f5b96ef64ffa45c1dc3",
       "style": "IPY_MODEL_fa6822293c594b1c8c81bdfb64abf113"
      }
     },
     "3ec2970c2b8a469c8f34f6c0a7ae96b0": {
      "model_module": "@jupyter-widgets/controls",
      "model_module_version": "1.4.0",
      "model_name": "DescriptionStyleModel",
      "state": {
       "description_width": ""
      }
     },
     "3ece58c0ca6045898c360ac84097258b": {
      "model_module": "@jupyter-widgets/controls",
      "model_module_version": "1.4.0",
      "model_name": "ButtonStyleModel",
      "state": {}
     },
     "3f32e9bd063a4e839e8a27247e2f983f": {
      "model_module": "@jupyter-widgets/controls",
      "model_module_version": "1.4.0",
      "model_name": "ButtonStyleModel",
      "state": {
       "button_color": "lightgreen"
      }
     },
     "3fee226ffb2d457f973bff5db4faa211": {
      "model_module": "@jupyter-widgets/controls",
      "model_module_version": "1.4.0",
      "model_name": "ButtonModel",
      "state": {
       "description": "nach der Länge der Ableitung",
       "layout": "IPY_MODEL_d0f91dd0507240b3bcae9e0b21b44ed7",
       "style": "IPY_MODEL_ba9272602bb445a0bc461579cc946f82"
      }
     },
     "40db47837b6e43c5abb7f1eab8a2b1ef": {
      "model_module": "@jupyter-widgets/base",
      "model_module_version": "1.1.0",
      "model_name": "LayoutModel",
      "state": {
       "width": "250px"
      }
     },
     "411a2952334f49a1b364ae11475b5427": {
      "model_module": "@jupyter-widgets/base",
      "model_module_version": "1.1.0",
      "model_name": "LayoutModel",
      "state": {
       "justify_content": "center"
      }
     },
     "412b7736997e4fe1ab49a00ff810e2d8": {
      "model_module": "@jupyter-widgets/controls",
      "model_module_version": "1.4.0",
      "model_name": "DescriptionStyleModel",
      "state": {
       "description_width": ""
      }
     },
     "41438d0d9c82475f94dab7c7cf97ca71": {
      "model_module": "@jupyter-widgets/controls",
      "model_module_version": "1.4.0",
      "model_name": "VBoxModel",
      "state": {
       "children": [
        "IPY_MODEL_f00d533018f1419c992db8d6d8ed56df",
        "IPY_MODEL_59fedbc5f48342a9a775e671902ba036",
        "IPY_MODEL_98f4fa0a919244219517ab5ba7aae928",
        "IPY_MODEL_166d6b1fc152436d91ec192e187ebb00"
       ],
       "layout": "IPY_MODEL_dd26e07bebe4459591b2c0e38e8eda1b"
      }
     },
     "4186aafc27c14baaa31547f7361372ed": {
      "model_module": "@jupyter-widgets/base",
      "model_module_version": "1.1.0",
      "model_name": "LayoutModel",
      "state": {
       "width": "600px"
      }
     },
     "41ad9f0fc0e14214ad2afe56b0e86caa": {
      "model_module": "@jupyter-widgets/controls",
      "model_module_version": "1.4.0",
      "model_name": "HBoxModel",
      "state": {
       "children": [
        "IPY_MODEL_bff7c80fdcd040e38b47aa06c9f3707a"
       ],
       "layout": "IPY_MODEL_13d1332ff66e42a99a00aa0c5f152b78"
      }
     },
     "41b013c146f848daadfa1dead90bf068": {
      "model_module": "@jupyter-widgets/controls",
      "model_module_version": "1.4.0",
      "model_name": "HTMLModel",
      "state": {
       "layout": "IPY_MODEL_b0b88dddfd9e439aa6a9e10ea44bf98d",
       "style": "IPY_MODEL_3ec2970c2b8a469c8f34f6c0a7ae96b0",
       "value": "<i>Wählen Sie die <ins>eine</ins> korrekte Antwort aus: </i>"
      }
     },
     "41bcb33f48e34ee7be90dc61c29ee73c": {
      "model_module": "@jupyter-widgets/base",
      "model_module_version": "1.1.0",
      "model_name": "LayoutModel",
      "state": {}
     },
     "42f922cf591d4d148311c77f4277e4a3": {
      "model_module": "@jupyter-widgets/base",
      "model_module_version": "1.1.0",
      "model_name": "LayoutModel",
      "state": {
       "width": "250px"
      }
     },
     "430998ae6651484b92a5920491962547": {
      "model_module": "@jupyter-widgets/controls",
      "model_module_version": "1.4.0",
      "model_name": "TextModel",
      "state": {
       "layout": "IPY_MODEL_dadd50841166431da815d700caef0a64",
       "style": "IPY_MODEL_a7a47ff3aca84dd9ba20eb64b03e2d36"
      }
     },
     "436e3f330cb1441bb8d56addf479d0c0": {
      "model_module": "@jupyter-widgets/controls",
      "model_module_version": "1.4.0",
      "model_name": "DescriptionStyleModel",
      "state": {
       "description_width": ""
      }
     },
     "4381718b8ccd41d89b5441f67a1bed41": {
      "model_module": "@jupyter-widgets/base",
      "model_module_version": "1.1.0",
      "model_name": "LayoutModel",
      "state": {
       "width": "250px"
      }
     },
     "43d50789e4924c15a8c0f4a3ddd574ad": {
      "model_module": "@jupyter-widgets/controls",
      "model_module_version": "1.4.0",
      "model_name": "ButtonModel",
      "state": {
       "description": "PP-Attachment-Ambiguität",
       "layout": "IPY_MODEL_aaff99ce30f54b7a947ae0ac258395b8",
       "style": "IPY_MODEL_54c53eba67b64ab8bdcc0db437b7a5bb"
      }
     },
     "440affb1e2ae4333857eebfc794294da": {
      "model_module": "@jupyter-widgets/controls",
      "model_module_version": "1.4.0",
      "model_name": "TextModel",
      "state": {
       "layout": "IPY_MODEL_83e5ea48a60d4f039800318e27e6960c",
       "style": "IPY_MODEL_ef4acf3eeca04612b531c101f0def387"
      }
     },
     "44e1e3f5cff3472fb43f77466eac3b91": {
      "model_module": "@jupyter-widgets/base",
      "model_module_version": "1.1.0",
      "model_name": "LayoutModel",
      "state": {
       "width": "250px"
      }
     },
     "4552118d7c0b46a2ab8e4dc3250a6a3e": {
      "model_module": "@jupyter-widgets/controls",
      "model_module_version": "1.4.0",
      "model_name": "ButtonModel",
      "state": {
       "description": "Koordinationsambiguität",
       "layout": "IPY_MODEL_4c3580af0fec43c8a691539bdbc52d73",
       "style": "IPY_MODEL_3f32e9bd063a4e839e8a27247e2f983f"
      }
     },
     "45726b908a2f48dab09bdf399a13582b": {
      "model_module": "@jupyter-widgets/base",
      "model_module_version": "1.1.0",
      "model_name": "LayoutModel",
      "state": {}
     },
     "467da5c95381466a931b990945c29c39": {
      "model_module": "@jupyter-widgets/controls",
      "model_module_version": "1.4.0",
      "model_name": "CheckboxModel",
      "state": {
       "description": "Ihre Wahrscheinlichkeiten sind zu gering.",
       "disabled": false,
       "layout": "IPY_MODEL_c5b57bdaec4d488ea5cb4ef87d1bb54e",
       "style": "IPY_MODEL_3c5309f32667433d9896dd756b7abc02",
       "value": false
      }
     },
     "46861b339c8c41baaa64bbf113231e27": {
      "model_module": "@jupyter-widgets/controls",
      "model_module_version": "1.4.0",
      "model_name": "ButtonStyleModel",
      "state": {}
     },
     "46bd7f8af7d74d7594d92af99e95a145": {
      "model_module": "@jupyter-widgets/controls",
      "model_module_version": "1.4.0",
      "model_name": "VBoxModel",
      "state": {
       "children": [
        "IPY_MODEL_9eac2c7f5921440bbd2955bb74d8eb8e",
        "IPY_MODEL_2d6de1013a374595892552da1b1f9c12",
        "IPY_MODEL_9333c3c23f264d36ab1019183b213b92",
        "IPY_MODEL_970e1b0ec9be4f7081f55490b3785a10"
       ],
       "layout": "IPY_MODEL_851cb34ac7ee4d379ea9c5a2f7b65077"
      }
     },
     "46da33cbe9b0493698746d66f153d854": {
      "model_module": "@jupyter-widgets/base",
      "model_module_version": "1.1.0",
      "model_name": "LayoutModel",
      "state": {
       "justify_content": "center"
      }
     },
     "476e4208f8c3480ea32a540cdfefb61e": {
      "model_module": "@jupyter-widgets/base",
      "model_module_version": "1.1.0",
      "model_name": "LayoutModel",
      "state": {
       "justify_content": "center"
      }
     },
     "47a3e2c7158348f69658c0558ffeabf9": {
      "model_module": "@jupyter-widgets/controls",
      "model_module_version": "1.4.0",
      "model_name": "ButtonModel",
      "state": {
       "description": "LongestChartParser",
       "layout": "IPY_MODEL_0ecdf157019d43fc9d63c0651589b6db",
       "style": "IPY_MODEL_5e5c29bd36bb4b6a98564e4693dade44"
      }
     },
     "47c90f774a61437881d669a4965e09ae": {
      "model_module": "@jupyter-widgets/controls",
      "model_module_version": "1.4.0",
      "model_name": "HBoxModel",
      "state": {
       "children": [
        "IPY_MODEL_3fee226ffb2d457f973bff5db4faa211",
        "IPY_MODEL_8536ab03dd254797aee9cc819e4be1c1"
       ],
       "layout": "IPY_MODEL_8a43008db7344b73bca7a9fede51299f"
      }
     },
     "481c860ca11b46f290c6a9c1daea7c65": {
      "model_module": "@jupyter-widgets/base",
      "model_module_version": "1.1.0",
      "model_name": "LayoutModel",
      "state": {
       "width": "250px"
      }
     },
     "48ab9cdbee0c448a946b189030191688": {
      "model_module": "@jupyter-widgets/controls",
      "model_module_version": "1.4.0",
      "model_name": "VBoxModel",
      "state": {
       "children": [
        "IPY_MODEL_b56dfe19600b41818fe255019ff5d18a",
        "IPY_MODEL_41b013c146f848daadfa1dead90bf068",
        "IPY_MODEL_9a5dd1866aee4622bb77608d4210938c",
        "IPY_MODEL_701f195de27b4a61b0fbc2d9e60298f7"
       ],
       "layout": "IPY_MODEL_1152d8dd395045c5a2f2507ba27ec306"
      }
     },
     "494a100512184e2e88156fe5dff42b0f": {
      "model_module": "@jupyter-widgets/controls",
      "model_module_version": "1.4.0",
      "model_name": "ButtonModel",
      "state": {
       "description": "Korrekt?",
       "layout": "IPY_MODEL_9bf7972f93bd45b78234157d1e745b92",
       "style": "IPY_MODEL_37024219bdec49d59877e9277ada0980"
      }
     },
     "49641721299b474badf19d5c30551e20": {
      "model_module": "@jupyter-widgets/controls",
      "model_module_version": "1.4.0",
      "model_name": "HBoxModel",
      "state": {
       "children": [
        "IPY_MODEL_ec3c10a329574e5383dcd51ebf78b727"
       ],
       "layout": "IPY_MODEL_e650a3e49f3146118fec4799ffa2dd40"
      }
     },
     "4a566ada8c0940e7bacd7bcdf2ec4bbd": {
      "model_module": "@jupyter-widgets/controls",
      "model_module_version": "1.4.0",
      "model_name": "HTMLModel",
      "state": {
       "layout": "IPY_MODEL_55bd29fc98444ac2bd8987948af7a639",
       "style": "IPY_MODEL_436e3f330cb1441bb8d56addf479d0c0",
       "value": "<h4 style=\"font-size:14px;\">Um welche Art der Ambiguität handelt es sich bei den beiden gefundenen Ableitungen?</h4>"
      }
     },
     "4bb6fa0dfe4745e8ad834b0a82b7c4ea": {
      "model_module": "@jupyter-widgets/controls",
      "model_module_version": "1.4.0",
      "model_name": "ButtonStyleModel",
      "state": {}
     },
     "4c3580af0fec43c8a691539bdbc52d73": {
      "model_module": "@jupyter-widgets/base",
      "model_module_version": "1.1.0",
      "model_name": "LayoutModel",
      "state": {
       "width": "250px"
      }
     },
     "4e17e26b261c4039b28f8ab625598588": {
      "model_module": "@jupyter-widgets/controls",
      "model_module_version": "1.4.0",
      "model_name": "DescriptionStyleModel",
      "state": {
       "description_width": ""
      }
     },
     "4e17eeb940f84b6c99b333c4df5b1b52": {
      "model_module": "@jupyter-widgets/controls",
      "model_module_version": "1.4.0",
      "model_name": "HTMLModel",
      "state": {
       "layout": "IPY_MODEL_8ed622dd1afc42fca42d9609b08022bf",
       "style": "IPY_MODEL_38420591e76c467d92eb6dfb1f43e83c",
       "value": "<i>Geben Sie die korrekte Antwort ein: </i>"
      }
     },
     "4e8c77085a3d46cd97789e456f786210": {
      "model_module": "@jupyter-widgets/controls",
      "model_module_version": "1.4.0",
      "model_name": "HTMLModel",
      "state": {
       "layout": "IPY_MODEL_58c56fb21cfc49448029f3f461d39fbe",
       "style": "IPY_MODEL_412b7736997e4fe1ab49a00ff810e2d8",
       "value": "<i>Wählen Sie die <ins>eine</ins> korrekte Antwort aus: </i>"
      }
     },
     "4ecd509ab77340e687666807406c1f6f": {
      "model_module": "@jupyter-widgets/base",
      "model_module_version": "1.1.0",
      "model_name": "LayoutModel",
      "state": {}
     },
     "4f836cca5f7e438983832a32b7be4803": {
      "model_module": "@jupyter-widgets/base",
      "model_module_version": "1.1.0",
      "model_name": "LayoutModel",
      "state": {
       "justify_content": "center"
      }
     },
     "4f905844942e43a9a633913f9959ac4f": {
      "model_module": "@jupyter-widgets/controls",
      "model_module_version": "1.4.0",
      "model_name": "VBoxModel",
      "state": {
       "children": [
        "IPY_MODEL_35a36dc5a1d34abd8cbf5a6491701232",
        "IPY_MODEL_8129757c3c1142acae269b2403c46b56",
        "IPY_MODEL_c1c5c59ed9394766afbca2007c63282d",
        "IPY_MODEL_9f83d487a747402b985cbf9e33014537"
       ],
       "layout": "IPY_MODEL_19c959c2156c46428dd3b116dccd12c9"
      }
     },
     "5033ef42a64a461c813d0e319fb3bfc7": {
      "model_module": "@jupyter-widgets/controls",
      "model_module_version": "1.4.0",
      "model_name": "DescriptionStyleModel",
      "state": {
       "description_width": "initial"
      }
     },
     "5072fa62ec8749178f3a891a8eee2100": {
      "model_module": "@jupyter-widgets/base",
      "model_module_version": "1.1.0",
      "model_name": "LayoutModel",
      "state": {}
     },
     "5104909a56bf4f3580312b25798fb646": {
      "model_module": "@jupyter-widgets/base",
      "model_module_version": "1.1.0",
      "model_name": "LayoutModel",
      "state": {}
     },
     "51a1b0b753564414bc1bf528fc1c4be2": {
      "model_module": "@jupyter-widgets/controls",
      "model_module_version": "1.4.0",
      "model_name": "VBoxModel",
      "state": {
       "children": [
        "IPY_MODEL_96bee4a6e710475292b4d72aaa61c9c5",
        "IPY_MODEL_158ee861f94341949121d11846114dcf",
        "IPY_MODEL_47c90f774a61437881d669a4965e09ae",
        "IPY_MODEL_92db95f190c34e498f7f0f8e28ef9e73"
       ],
       "layout": "IPY_MODEL_ff5d93a93a2045bea1d2b259717c0679"
      }
     },
     "51c9711f325b433c864e68e34f804d69": {
      "model_module": "@jupyter-widgets/controls",
      "model_module_version": "1.4.0",
      "model_name": "ButtonModel",
      "state": {
       "description": "Temporale Ambiguität",
       "layout": "IPY_MODEL_88eec6f1041046e1b243e70ec454df0c",
       "style": "IPY_MODEL_198b8640ace94c2091c98a36c309367e"
      }
     },
     "51e67c5c7dc8489996105db7efd494e5": {
      "model_module": "@jupyter-widgets/base",
      "model_module_version": "1.1.0",
      "model_name": "LayoutModel",
      "state": {}
     },
     "5300b5229036409bab56563b63d93a7f": {
      "model_module": "@jupyter-widgets/controls",
      "model_module_version": "1.4.0",
      "model_name": "ButtonStyleModel",
      "state": {}
     },
     "53d5b0c94ead4d609a98ac4c5c4f8817": {
      "model_module": "@jupyter-widgets/base",
      "model_module_version": "1.1.0",
      "model_name": "LayoutModel",
      "state": {
       "justify_content": "center"
      }
     },
     "5426e17db74441d782dcad0babf48dfd": {
      "model_module": "@jupyter-widgets/controls",
      "model_module_version": "1.4.0",
      "model_name": "HBoxModel",
      "state": {
       "children": [
        "IPY_MODEL_f2347dbdf05c48e9889e0c67cec4a0d7"
       ],
       "layout": "IPY_MODEL_146d77bfaf364b7486a418ef9dcaa4b6"
      }
     },
     "54964c6579ca4743a9aa05c463969ee3": {
      "model_module": "@jupyter-widgets/base",
      "model_module_version": "1.1.0",
      "model_name": "LayoutModel",
      "state": {}
     },
     "5498ff999d4747a8a646d61635be152b": {
      "model_module": "@jupyter-widgets/base",
      "model_module_version": "1.1.0",
      "model_name": "LayoutModel",
      "state": {}
     },
     "54c53eba67b64ab8bdcc0db437b7a5bb": {
      "model_module": "@jupyter-widgets/controls",
      "model_module_version": "1.4.0",
      "model_name": "ButtonStyleModel",
      "state": {}
     },
     "54fd8234b4a04cf9a9d2f90ff750c1d1": {
      "model_module": "@jupyter-widgets/controls",
      "model_module_version": "1.4.0",
      "model_name": "ButtonStyleModel",
      "state": {}
     },
     "55521a800a5c41d79f212cb40055377f": {
      "model_module": "@jupyter-widgets/controls",
      "model_module_version": "1.4.0",
      "model_name": "ButtonStyleModel",
      "state": {}
     },
     "555dda9f308d45ffa7c3656e85333223": {
      "model_module": "@jupyter-widgets/base",
      "model_module_version": "1.1.0",
      "model_name": "LayoutModel",
      "state": {
       "width": "600px"
      }
     },
     "55bd29fc98444ac2bd8987948af7a639": {
      "model_module": "@jupyter-widgets/base",
      "model_module_version": "1.1.0",
      "model_name": "LayoutModel",
      "state": {
       "justify_content": "center"
      }
     },
     "5615ed48d6184d308484b4a071b71a44": {
      "model_module": "@jupyter-widgets/controls",
      "model_module_version": "1.4.0",
      "model_name": "ButtonModel",
      "state": {
       "description": "Korrekt?",
       "layout": "IPY_MODEL_87e318453bda4efbb84e272dd07b0cbc",
       "style": "IPY_MODEL_96faf275b17d4e7f8c205f77d4b72193"
      }
     },
     "5625e248159d45afbaee692fd10576ae": {
      "model_module": "@jupyter-widgets/controls",
      "model_module_version": "1.4.0",
      "model_name": "DescriptionStyleModel",
      "state": {
       "description_width": ""
      }
     },
     "565626dc1c054d639031537f37b64c3f": {
      "model_module": "@jupyter-widgets/controls",
      "model_module_version": "1.4.0",
      "model_name": "CheckboxModel",
      "state": {
       "description": "Das Verwerfen verhindert eine Endlosrekursion.",
       "disabled": false,
       "layout": "IPY_MODEL_4186aafc27c14baaa31547f7361372ed",
       "style": "IPY_MODEL_2fb63d4eea5747dabd833c8353310e1a",
       "value": false
      }
     },
     "5660377a156b4e02b98fe73eeb9847f0": {
      "model_module": "@jupyter-widgets/base",
      "model_module_version": "1.1.0",
      "model_name": "LayoutModel",
      "state": {
       "justify_content": "center"
      }
     },
     "5694f7e2b52e4616a1860973e43c4215": {
      "model_module": "@jupyter-widgets/controls",
      "model_module_version": "1.4.0",
      "model_name": "ButtonModel",
      "state": {
       "description": "PP-Attachment-Ambiguität",
       "layout": "IPY_MODEL_481c860ca11b46f290c6a9c1daea7c65",
       "style": "IPY_MODEL_fdbde89c16b742278830f5c58407bd94"
      }
     },
     "5724ffc0d90f4d7f8fc6f58095865ebe": {
      "model_module": "@jupyter-widgets/controls",
      "model_module_version": "1.4.0",
      "model_name": "HTMLModel",
      "state": {
       "layout": "IPY_MODEL_2766384b30de4908951a2c0eb0fa32f2",
       "style": "IPY_MODEL_65f3cbc6db104987a1352877dad7dab5",
       "value": "<i>Geben Sie die korrekte Antwort ein: </i>"
      }
     },
     "58c56fb21cfc49448029f3f461d39fbe": {
      "model_module": "@jupyter-widgets/base",
      "model_module_version": "1.1.0",
      "model_name": "LayoutModel",
      "state": {
       "justify_content": "center"
      }
     },
     "59977d0c114d4f428823cbad84b8af6d": {
      "model_module": "@jupyter-widgets/base",
      "model_module_version": "1.1.0",
      "model_name": "LayoutModel",
      "state": {}
     },
     "59fedbc5f48342a9a775e671902ba036": {
      "model_module": "@jupyter-widgets/controls",
      "model_module_version": "1.4.0",
      "model_name": "HTMLModel",
      "state": {
       "layout": "IPY_MODEL_b52bb09a9103414d8eb0ccb5e92c0b65",
       "style": "IPY_MODEL_f6c9c3d4b03740ae8cfab7073300812f",
       "value": "<i>Wählen Sie die <ins>eine</ins> korrekte Antwort aus: </i>"
      }
     },
     "5a7c305bd1974e6cab9086838a102191": {
      "model_module": "@jupyter-widgets/base",
      "model_module_version": "1.1.0",
      "model_name": "LayoutModel",
      "state": {}
     },
     "5a9fb90609ac4476a5da97097d928509": {
      "model_module": "@jupyter-widgets/base",
      "model_module_version": "1.1.0",
      "model_name": "LayoutModel",
      "state": {
       "width": "600px"
      }
     },
     "5b10dabf8a564c42b145e6de2f060b93": {
      "model_module": "@jupyter-widgets/controls",
      "model_module_version": "1.4.0",
      "model_name": "ButtonStyleModel",
      "state": {}
     },
     "5b4500deb58143e0b1fd4946d512b083": {
      "model_module": "@jupyter-widgets/controls",
      "model_module_version": "1.4.0",
      "model_name": "HBoxModel",
      "state": {
       "children": [
        "IPY_MODEL_2584d15ab275479e8a4b7dd4c4e62f7a",
        "IPY_MODEL_d1a28f26060840fa9b47fd014bb20750"
       ],
       "layout": "IPY_MODEL_daa4989ee23943dea9aafef829f77644"
      }
     },
     "5bdca5f7f5594d1999d9fa15d62c9462": {
      "model_module": "@jupyter-widgets/controls",
      "model_module_version": "1.4.0",
      "model_name": "ButtonStyleModel",
      "state": {}
     },
     "5c608e40fe3345dd8e0de304e8486752": {
      "model_module": "@jupyter-widgets/controls",
      "model_module_version": "1.4.0",
      "model_name": "ButtonStyleModel",
      "state": {}
     },
     "5c6c2f21a6b94b979fb3d76fb5ec1ea9": {
      "model_module": "@jupyter-widgets/controls",
      "model_module_version": "1.4.0",
      "model_name": "CheckboxModel",
      "state": {
       "description": "Ihre Wahrscheinlichkeiten sind zu gering.",
       "disabled": false,
       "layout": "IPY_MODEL_555dda9f308d45ffa7c3656e85333223",
       "style": "IPY_MODEL_a7aa8271bf3a4b5f94fef6cbc78fd117",
       "value": true
      }
     },
     "5c9a69c7180e423f8568a707bb938ec9": {
      "model_module": "@jupyter-widgets/controls",
      "model_module_version": "1.4.0",
      "model_name": "CheckboxModel",
      "state": {
       "description": "Sie analysieren die Eingabesequenz nicht komplett.",
       "disabled": false,
       "layout": "IPY_MODEL_708d40793c38451298de0d836136c97b",
       "style": "IPY_MODEL_f00bde6ee536443994a8411560339846",
       "value": false
      }
     },
     "5e53a1e6ca3e4d42966cd81174d4389c": {
      "model_module": "@jupyter-widgets/base",
      "model_module_version": "1.1.0",
      "model_name": "LayoutModel",
      "state": {
       "width": "250px"
      }
     },
     "5e5c29bd36bb4b6a98564e4693dade44": {
      "model_module": "@jupyter-widgets/controls",
      "model_module_version": "1.4.0",
      "model_name": "ButtonStyleModel",
      "state": {}
     },
     "5e90947f61694fe9bccb5f8c4341ecf1": {
      "model_module": "@jupyter-widgets/base",
      "model_module_version": "1.1.0",
      "model_name": "LayoutModel",
      "state": {}
     },
     "5e95f74cce0449e995d017906bb3dbf4": {
      "model_module": "@jupyter-widgets/base",
      "model_module_version": "1.1.0",
      "model_name": "LayoutModel",
      "state": {
       "justify_content": "center"
      }
     },
     "5eac9a4bffb448be84b61ce919768913": {
      "model_module": "@jupyter-widgets/controls",
      "model_module_version": "1.4.0",
      "model_name": "HBoxModel",
      "state": {
       "children": [
        "IPY_MODEL_dc5d5c1946894126921d936764721e5f",
        "IPY_MODEL_abaf609dda8a4325acda5afa465ec372"
       ],
       "layout": "IPY_MODEL_8381f9c330934930b5f3de490273c1d8"
      }
     },
     "5f02e3bf0ab34a6baa9eb9aba226a697": {
      "model_module": "@jupyter-widgets/base",
      "model_module_version": "1.1.0",
      "model_name": "LayoutModel",
      "state": {
       "width": "600px"
      }
     },
     "5fd1ffbd35f24e99b0c592b9b43ee912": {
      "model_module": "@jupyter-widgets/controls",
      "model_module_version": "1.4.0",
      "model_name": "HBoxModel",
      "state": {
       "children": [
        "IPY_MODEL_cb72fa70dcb944ebbb6176f39e9a531b",
        "IPY_MODEL_1a6614bbb2a54bcf904304d49d931822"
       ],
       "layout": "IPY_MODEL_a78d7a891f124e338c441ebf0411e4d4"
      }
     },
     "607a02ac9b274f54aae1fe99df92b0fd": {
      "model_module": "@jupyter-widgets/controls",
      "model_module_version": "1.4.0",
      "model_name": "VBoxModel",
      "state": {
       "children": [
        "IPY_MODEL_2e53e463e0df455693e0af9ccc431297",
        "IPY_MODEL_9e8f76213f4548d09e7331a644f6de9d",
        "IPY_MODEL_882adcb8d6614345a24ff993bc1062ef",
        "IPY_MODEL_8ed7eccf82c84afd9c0a148a3ca11ee4"
       ],
       "layout": "IPY_MODEL_af76a46c227b4e24b5619114869b82ca"
      }
     },
     "6085ed8b0d14451092e981527227b17d": {
      "model_module": "@jupyter-widgets/base",
      "model_module_version": "1.1.0",
      "model_name": "LayoutModel",
      "state": {}
     },
     "61850050551a46a59221ad90a7f662e1": {
      "model_module": "@jupyter-widgets/base",
      "model_module_version": "1.1.0",
      "model_name": "LayoutModel",
      "state": {}
     },
     "61879a450e98444babb03ff464e0b574": {
      "model_module": "@jupyter-widgets/controls",
      "model_module_version": "1.4.0",
      "model_name": "VBoxModel",
      "state": {
       "children": [
        "IPY_MODEL_155b19afb8a54a8aa12e64879d1545f7",
        "IPY_MODEL_ca28d688afe34a06a42321c58496635b",
        "IPY_MODEL_5fd1ffbd35f24e99b0c592b9b43ee912",
        "IPY_MODEL_de5268e9647d4c949bc1631531013e0b"
       ],
       "layout": "IPY_MODEL_10dec9ce9b5f47e0a8b5748023123650"
      }
     },
     "61c0e30c3eab45048dd2feeeed1e997a": {
      "model_module": "@jupyter-widgets/base",
      "model_module_version": "1.1.0",
      "model_name": "LayoutModel",
      "state": {
       "width": "600px"
      }
     },
     "61c948e659a043b4bca05446f039ac58": {
      "model_module": "@jupyter-widgets/controls",
      "model_module_version": "1.4.0",
      "model_name": "DescriptionStyleModel",
      "state": {
       "description_width": ""
      }
     },
     "6204a440bd9f47f984eea76177ee87a5": {
      "model_module": "@jupyter-widgets/base",
      "model_module_version": "1.1.0",
      "model_name": "LayoutModel",
      "state": {
       "width": "250px"
      }
     },
     "62633faf20374f36b1efcf1b324a9d6a": {
      "model_module": "@jupyter-widgets/base",
      "model_module_version": "1.1.0",
      "model_name": "LayoutModel",
      "state": {
       "width": "600px"
      }
     },
     "628eaf9379064cc3bfb7cc34a1081e79": {
      "model_module": "@jupyter-widgets/controls",
      "model_module_version": "1.4.0",
      "model_name": "HTMLModel",
      "state": {
       "layout": "IPY_MODEL_095805401fa2472fb3165687274fbf4a",
       "style": "IPY_MODEL_ab570927034740ac951349a801bbe5d8",
       "value": "<i>Geben Sie die korrekte Antwort ein: </i>"
      }
     },
     "62a8a66e06244f4ea2599d7ad486071e": {
      "model_module": "@jupyter-widgets/controls",
      "model_module_version": "1.4.0",
      "model_name": "ButtonStyleModel",
      "state": {}
     },
     "64955731b13c4239b82dba5bc726888b": {
      "model_module": "@jupyter-widgets/controls",
      "model_module_version": "1.4.0",
      "model_name": "ButtonModel",
      "state": {
       "description": "InsideChartParser",
       "layout": "IPY_MODEL_304ed65d0c0d4a39a9949ddbefa2f361",
       "style": "IPY_MODEL_703b4a507b7d492f99b8c928b30b8397"
      }
     },
     "64f1c6f95536454eac1505e230725de6": {
      "model_module": "@jupyter-widgets/controls",
      "model_module_version": "1.4.0",
      "model_name": "ButtonStyleModel",
      "state": {}
     },
     "65f3cbc6db104987a1352877dad7dab5": {
      "model_module": "@jupyter-widgets/controls",
      "model_module_version": "1.4.0",
      "model_name": "DescriptionStyleModel",
      "state": {
       "description_width": ""
      }
     },
     "66b62d2c8d764a12b1297779cd85cd65": {
      "model_module": "@jupyter-widgets/controls",
      "model_module_version": "1.4.0",
      "model_name": "ButtonStyleModel",
      "state": {}
     },
     "671cf6bc82c4432ba7808862c3d850bd": {
      "model_module": "@jupyter-widgets/base",
      "model_module_version": "1.1.0",
      "model_name": "LayoutModel",
      "state": {}
     },
     "68340d5a950943d6941a53132ea699a2": {
      "model_module": "@jupyter-widgets/controls",
      "model_module_version": "1.4.0",
      "model_name": "VBoxModel",
      "state": {
       "children": [
        "IPY_MODEL_b5ac2118c272482ea4a2037ea36ae357",
        "IPY_MODEL_a125d4f8c97f45739b01321670d4ec50",
        "IPY_MODEL_f1c9fc75db2c47718ec83efa780c3bdc",
        "IPY_MODEL_88724a3c2a1a489f8711f7938791bb84"
       ],
       "layout": "IPY_MODEL_00b6f00339af4026a8e53e2f07d0851b"
      }
     },
     "6882bc17e13c497eb7f2cea5daaf7c4c": {
      "model_module": "@jupyter-widgets/base",
      "model_module_version": "1.1.0",
      "model_name": "LayoutModel",
      "state": {
       "width": "250px"
      }
     },
     "68bd3deedf7a411c95f19b3a0efc7ce2": {
      "model_module": "@jupyter-widgets/controls",
      "model_module_version": "1.4.0",
      "model_name": "ButtonModel",
      "state": {
       "description": "OK",
       "layout": "IPY_MODEL_b593508de30549d6811d18e9b5726998",
       "style": "IPY_MODEL_5c608e40fe3345dd8e0de304e8486752"
      }
     },
     "6972f46bc9194528a5ba426fc2bec507": {
      "model_module": "@jupyter-widgets/base",
      "model_module_version": "1.1.0",
      "model_name": "LayoutModel",
      "state": {}
     },
     "6988247e3b6149e0982540d4c04df926": {
      "model_module": "@jupyter-widgets/controls",
      "model_module_version": "1.4.0",
      "model_name": "DescriptionStyleModel",
      "state": {
       "description_width": ""
      }
     },
     "69e0ed1577fd4102b81d5386da437204": {
      "model_module": "@jupyter-widgets/base",
      "model_module_version": "1.1.0",
      "model_name": "LayoutModel",
      "state": {
       "width": "250px"
      }
     },
     "6b3b2b33469a4432a3e8ef37116519e9": {
      "model_module": "@jupyter-widgets/controls",
      "model_module_version": "1.4.0",
      "model_name": "DescriptionStyleModel",
      "state": {
       "description_width": "initial"
      }
     },
     "6bec38c8d4a44f1f990b744bff5fa946": {
      "model_module": "@jupyter-widgets/controls",
      "model_module_version": "1.4.0",
      "model_name": "VBoxModel",
      "state": {
       "children": [
        "IPY_MODEL_259cb6dea11a46678356d45492f4c6e5",
        "IPY_MODEL_f5360891b18940f19e5563196c2f9fff",
        "IPY_MODEL_5c6c2f21a6b94b979fb3d76fb5ec1ea9",
        "IPY_MODEL_5c9a69c7180e423f8568a707bb938ec9"
       ],
       "layout": "IPY_MODEL_b233a3f7343e41819961031bec24404c"
      }
     },
     "6bfebd50214743eb9359f655d9944166": {
      "model_module": "@jupyter-widgets/controls",
      "model_module_version": "1.4.0",
      "model_name": "VBoxModel",
      "state": {
       "children": [
        "IPY_MODEL_a9a99580a62b4a4abad7f10d7713b0ab",
        "IPY_MODEL_1c7e78d410d449478e82ab19045ebef6",
        "IPY_MODEL_d931b64c30b341df871f1a4a5990177d",
        "IPY_MODEL_0ec133dd51834dba8f6961535bb8d9b5"
       ],
       "layout": "IPY_MODEL_af49294b972c4cd18e3353b87f86bda8"
      }
     },
     "6ca39ba7186c42c884085554287cefa3": {
      "model_module": "@jupyter-widgets/base",
      "model_module_version": "1.1.0",
      "model_name": "LayoutModel",
      "state": {
       "width": "250px"
      }
     },
     "6d9cc267c3ac4572baa0be5856ee442e": {
      "model_module": "@jupyter-widgets/controls",
      "model_module_version": "1.4.0",
      "model_name": "ButtonStyleModel",
      "state": {}
     },
     "6f345b0588794e7bbf41b632fa562390": {
      "model_module": "@jupyter-widgets/base",
      "model_module_version": "1.1.0",
      "model_name": "LayoutModel",
      "state": {}
     },
     "6f69d21860f4423d949400aaf5d23095": {
      "model_module": "@jupyter-widgets/controls",
      "model_module_version": "1.4.0",
      "model_name": "VBoxModel",
      "state": {
       "children": [
        "IPY_MODEL_c54f3fc42af54335a0f354a53971b210",
        "IPY_MODEL_4e8c77085a3d46cd97789e456f786210",
        "IPY_MODEL_46bd7f8af7d74d7594d92af99e95a145",
        "IPY_MODEL_5615ed48d6184d308484b4a071b71a44"
       ],
       "layout": "IPY_MODEL_d17476286f394f18afe8ab075228d630"
      }
     },
     "6fbfca6e7e12477faa50a9f6adeb15ed": {
      "model_module": "@jupyter-widgets/base",
      "model_module_version": "1.1.0",
      "model_name": "LayoutModel",
      "state": {}
     },
     "701f195de27b4a61b0fbc2d9e60298f7": {
      "model_module": "@jupyter-widgets/controls",
      "model_module_version": "1.4.0",
      "model_name": "ButtonModel",
      "state": {
       "description": "Korrekt?",
       "layout": "IPY_MODEL_de635650f69f4654af748694dbff52a6",
       "style": "IPY_MODEL_55521a800a5c41d79f212cb40055377f"
      }
     },
     "703b4a507b7d492f99b8c928b30b8397": {
      "model_module": "@jupyter-widgets/controls",
      "model_module_version": "1.4.0",
      "model_name": "ButtonStyleModel",
      "state": {}
     },
     "708d40793c38451298de0d836136c97b": {
      "model_module": "@jupyter-widgets/base",
      "model_module_version": "1.1.0",
      "model_name": "LayoutModel",
      "state": {
       "width": "600px"
      }
     },
     "7267c348f1574f37842b73a2e34decbc": {
      "model_module": "@jupyter-widgets/controls",
      "model_module_version": "1.4.0",
      "model_name": "DescriptionStyleModel",
      "state": {
       "description_width": ""
      }
     },
     "73d0e41b4fc64aeeaafd7677b82ef9bb": {
      "model_module": "@jupyter-widgets/controls",
      "model_module_version": "1.4.0",
      "model_name": "DescriptionStyleModel",
      "state": {
       "description_width": "initial"
      }
     },
     "741c7db035f54a4ba2705c2baa1549c2": {
      "model_module": "@jupyter-widgets/base",
      "model_module_version": "1.1.0",
      "model_name": "LayoutModel",
      "state": {
       "justify_content": "center"
      }
     },
     "75018e6784194445bcfea1cd642c9421": {
      "model_module": "@jupyter-widgets/controls",
      "model_module_version": "1.4.0",
      "model_name": "CheckboxModel",
      "state": {
       "description": "Das Verwerfen verhindert eine Endlosrekursion.",
       "disabled": false,
       "layout": "IPY_MODEL_e3c8c453e7014626b843689e2bf2fe4b",
       "style": "IPY_MODEL_d3e852389dbc4fb084029985a4e935ba",
       "value": false
      }
     },
     "7539f1a9bf5e4fc196e415de58398247": {
      "model_module": "@jupyter-widgets/base",
      "model_module_version": "1.1.0",
      "model_name": "LayoutModel",
      "state": {
       "width": "250px"
      }
     },
     "7694e7ec78cd409cbef736e5361ee4d7": {
      "model_module": "@jupyter-widgets/controls",
      "model_module_version": "1.4.0",
      "model_name": "ButtonStyleModel",
      "state": {}
     },
     "76d4e2372d824a4b99ee58a5223dbfb6": {
      "model_module": "@jupyter-widgets/controls",
      "model_module_version": "1.4.0",
      "model_name": "ButtonStyleModel",
      "state": {}
     },
     "76ff6ee81a6e413280dbd2d1e5ac57ce": {
      "model_module": "@jupyter-widgets/controls",
      "model_module_version": "1.4.0",
      "model_name": "VBoxModel",
      "state": {
       "children": [
        "IPY_MODEL_565626dc1c054d639031537f37b64c3f",
        "IPY_MODEL_d5fff9437dca4117ba6f38f26ed7500b",
        "IPY_MODEL_de9030dc4fb64c16ac298722b057cda8",
        "IPY_MODEL_a4dd072179994ff590f331d107355bd5"
       ],
       "layout": "IPY_MODEL_d9d2138914a34e13893e5c430e776b20"
      }
     },
     "77128c22a1d4485e8279f2054e7a27cf": {
      "model_module": "@jupyter-widgets/controls",
      "model_module_version": "1.4.0",
      "model_name": "ButtonStyleModel",
      "state": {}
     },
     "777cd916d9344ce6a3406f61d365adf8": {
      "model_module": "@jupyter-widgets/controls",
      "model_module_version": "1.4.0",
      "model_name": "ButtonStyleModel",
      "state": {}
     },
     "77c2de63489f4d06a4da194dc84906eb": {
      "model_module": "@jupyter-widgets/controls",
      "model_module_version": "1.4.0",
      "model_name": "DescriptionStyleModel",
      "state": {
       "description_width": ""
      }
     },
     "787f0ee948e14d8fb26187f8820408fc": {
      "model_module": "@jupyter-widgets/base",
      "model_module_version": "1.1.0",
      "model_name": "LayoutModel",
      "state": {}
     },
     "78953ad22620460ea7e93f811f675646": {
      "model_module": "@jupyter-widgets/controls",
      "model_module_version": "1.4.0",
      "model_name": "HTMLModel",
      "state": {
       "layout": "IPY_MODEL_added4dd1df04242835d1975da2bcdc4",
       "style": "IPY_MODEL_dc9de8a63ded4645be5b5b9650d91453",
       "value": "<i>Geben Sie die korrekte Antwort ein: </i>"
      }
     },
     "78bb614a3afe4c24b8b935a7128bde0c": {
      "model_module": "@jupyter-widgets/base",
      "model_module_version": "1.1.0",
      "model_name": "LayoutModel",
      "state": {}
     },
     "78cf10be805d481787bb7d28b095a756": {
      "model_module": "@jupyter-widgets/base",
      "model_module_version": "1.1.0",
      "model_name": "LayoutModel",
      "state": {}
     },
     "78eca7535e7b44369390054ce09ebde0": {
      "model_module": "@jupyter-widgets/base",
      "model_module_version": "1.1.0",
      "model_name": "LayoutModel",
      "state": {
       "width": "600px"
      }
     },
     "79748bde19914350a618eff007a522d6": {
      "model_module": "@jupyter-widgets/controls",
      "model_module_version": "1.4.0",
      "model_name": "DescriptionStyleModel",
      "state": {
       "description_width": ""
      }
     },
     "79cdb8a9642147859696d5a62b61487e": {
      "model_module": "@jupyter-widgets/controls",
      "model_module_version": "1.4.0",
      "model_name": "VBoxModel",
      "state": {
       "children": [
        "IPY_MODEL_33ea4a33a90a41c9be5e48680e8d723f",
        "IPY_MODEL_21d4582ec7904cb594fb04af108fa30c",
        "IPY_MODEL_fae533ed986c4f808a6a74a72e9e3156",
        "IPY_MODEL_41ad9f0fc0e14214ad2afe56b0e86caa"
       ],
       "layout": "IPY_MODEL_3ae7ba80849542be83267c71b9ba6587"
      }
     },
     "7a69b39e51ac4ee09a644c9853e0dd75": {
      "model_module": "@jupyter-widgets/controls",
      "model_module_version": "1.4.0",
      "model_name": "ButtonModel",
      "state": {
       "description": "OK",
       "layout": "IPY_MODEL_bbec32b2e0214826ae80d385ad3c4bf3",
       "style": "IPY_MODEL_ec871efd6b384e2abbc136098a357291"
      }
     },
     "7aa0e775e7ee4cecbf47bfb989fb8a07": {
      "model_module": "@jupyter-widgets/controls",
      "model_module_version": "1.4.0",
      "model_name": "ButtonModel",
      "state": {
       "description": "Koordinationsambiguität",
       "layout": "IPY_MODEL_0da5d11cfbd84114a880ff40c882f318",
       "style": "IPY_MODEL_b0e033b5f8d2455a89a962c200c6e06f"
      }
     },
     "7b3199e2160b41b193ebd2379cd8f264": {
      "model_module": "@jupyter-widgets/base",
      "model_module_version": "1.1.0",
      "model_name": "LayoutModel",
      "state": {
       "width": "600px"
      }
     },
     "7c0756a3f30a4917a213f5143894217d": {
      "model_module": "@jupyter-widgets/base",
      "model_module_version": "1.1.0",
      "model_name": "LayoutModel",
      "state": {
       "justify_content": "center"
      }
     },
     "7c4d74ebcf2e4b4a8e6c553e6b303b5f": {
      "model_module": "@jupyter-widgets/controls",
      "model_module_version": "1.4.0",
      "model_name": "DescriptionStyleModel",
      "state": {
       "description_width": ""
      }
     },
     "7ce73e92366244b4ae2dd1cfdbc1060b": {
      "model_module": "@jupyter-widgets/base",
      "model_module_version": "1.1.0",
      "model_name": "LayoutModel",
      "state": {}
     },
     "7f6a63f9457e4a9ab8b7b41f901aeb22": {
      "model_module": "@jupyter-widgets/controls",
      "model_module_version": "1.4.0",
      "model_name": "HBoxModel",
      "state": {
       "children": [
        "IPY_MODEL_8261c5250b954f3c911384fd0bf68d23",
        "IPY_MODEL_29cc2e7d0f874b8ab19e6113e873394d"
       ],
       "layout": "IPY_MODEL_fb5b37d5998c45b393ba1de2a57b3143"
      }
     },
     "80d94ca125c34843a2a9082a4789ac93": {
      "model_module": "@jupyter-widgets/controls",
      "model_module_version": "1.4.0",
      "model_name": "ButtonModel",
      "state": {
       "description": "LongestChartParser",
       "layout": "IPY_MODEL_1a44c9c299004c4095cd3fd698f3be31",
       "style": "IPY_MODEL_777cd916d9344ce6a3406f61d365adf8"
      }
     },
     "8129757c3c1142acae269b2403c46b56": {
      "model_module": "@jupyter-widgets/controls",
      "model_module_version": "1.4.0",
      "model_name": "CheckboxModel",
      "state": {
       "description": "Die Analysen sind mit der gegebenen Grammatik nicht möglich.",
       "disabled": false,
       "layout": "IPY_MODEL_5a9fb90609ac4476a5da97097d928509",
       "style": "IPY_MODEL_21af4a20692f4930b896d689a2baec46",
       "value": false
      }
     },
     "8261c5250b954f3c911384fd0bf68d23": {
      "model_module": "@jupyter-widgets/controls",
      "model_module_version": "1.4.0",
      "model_name": "ButtonModel",
      "state": {
       "description": "nach der Länge der Ableitung",
       "layout": "IPY_MODEL_40db47837b6e43c5abb7f1eab8a2b1ef",
       "style": "IPY_MODEL_9cea5f5db01f4c0e9711bd5e35bdfe26"
      }
     },
     "8281ca76c7bc4c98bd51642589b16d13": {
      "model_module": "@jupyter-widgets/controls",
      "model_module_version": "1.4.0",
      "model_name": "ButtonModel",
      "state": {
       "description": "InsideChartParser mit beam-size",
       "layout": "IPY_MODEL_5e53a1e6ca3e4d42966cd81174d4389c",
       "style": "IPY_MODEL_b695dc15d33c4fc2866f7f4a5f23a643"
      }
     },
     "8381f9c330934930b5f3de490273c1d8": {
      "model_module": "@jupyter-widgets/base",
      "model_module_version": "1.1.0",
      "model_name": "LayoutModel",
      "state": {}
     },
     "83e5ea48a60d4f039800318e27e6960c": {
      "model_module": "@jupyter-widgets/base",
      "model_module_version": "1.1.0",
      "model_name": "LayoutModel",
      "state": {}
     },
     "83f3cebe0fc548ae9533b691121e2fcf": {
      "model_module": "@jupyter-widgets/controls",
      "model_module_version": "1.4.0",
      "model_name": "DescriptionStyleModel",
      "state": {
       "description_width": ""
      }
     },
     "83f5f684cdbb41208ade344b1b00f513": {
      "model_module": "@jupyter-widgets/controls",
      "model_module_version": "1.4.0",
      "model_name": "DescriptionStyleModel",
      "state": {
       "description_width": ""
      }
     },
     "8490b8c781b74b97b310c81c5ec9c3c7": {
      "model_module": "@jupyter-widgets/base",
      "model_module_version": "1.1.0",
      "model_name": "LayoutModel",
      "state": {
       "justify_content": "center"
      }
     },
     "84aac5e0de3e458694141b81df26b01b": {
      "model_module": "@jupyter-widgets/base",
      "model_module_version": "1.1.0",
      "model_name": "LayoutModel",
      "state": {
       "width": "600px"
      }
     },
     "84f61bb9f9c2401d9552997a809b07a3": {
      "model_module": "@jupyter-widgets/controls",
      "model_module_version": "1.4.0",
      "model_name": "ButtonStyleModel",
      "state": {}
     },
     "851cb34ac7ee4d379ea9c5a2f7b65077": {
      "model_module": "@jupyter-widgets/base",
      "model_module_version": "1.1.0",
      "model_name": "LayoutModel",
      "state": {}
     },
     "8536ab03dd254797aee9cc819e4be1c1": {
      "model_module": "@jupyter-widgets/controls",
      "model_module_version": "1.4.0",
      "model_name": "ButtonModel",
      "state": {
       "description": "nach der Wahrscheinlichkeit",
       "layout": "IPY_MODEL_42f922cf591d4d148311c77f4277e4a3",
       "style": "IPY_MODEL_5300b5229036409bab56563b63d93a7f"
      }
     },
     "86e7d52c7dd340bfbbbd38c2a5d659f3": {
      "model_module": "@jupyter-widgets/base",
      "model_module_version": "1.1.0",
      "model_name": "LayoutModel",
      "state": {}
     },
     "87abd9866af14a6caae0ed7da1c18c4e": {
      "model_module": "@jupyter-widgets/controls",
      "model_module_version": "1.4.0",
      "model_name": "ButtonModel",
      "state": {
       "description": "PP-Attachment-Ambiguität",
       "layout": "IPY_MODEL_e49b86582db94194b05d47bb0d3948fe",
       "style": "IPY_MODEL_d35c712edde44c24b4d724c3dc5593ad"
      }
     },
     "87e318453bda4efbb84e272dd07b0cbc": {
      "model_module": "@jupyter-widgets/base",
      "model_module_version": "1.1.0",
      "model_name": "LayoutModel",
      "state": {
       "width": "250px"
      }
     },
     "882adcb8d6614345a24ff993bc1062ef": {
      "model_module": "@jupyter-widgets/controls",
      "model_module_version": "1.4.0",
      "model_name": "HBoxModel",
      "state": {
       "children": [
        "IPY_MODEL_4552118d7c0b46a2ab8e4dc3250a6a3e",
        "IPY_MODEL_43d50789e4924c15a8c0f4a3ddd574ad"
       ],
       "layout": "IPY_MODEL_5498ff999d4747a8a646d61635be152b"
      }
     },
     "88724a3c2a1a489f8711f7938791bb84": {
      "model_module": "@jupyter-widgets/controls",
      "model_module_version": "1.4.0",
      "model_name": "HBoxModel",
      "state": {
       "children": [
        "IPY_MODEL_098b72337f4741ee8beb107de6258c94"
       ],
       "layout": "IPY_MODEL_89bcfd158f5042b4a878bbd3b74f9e12"
      }
     },
     "88eec6f1041046e1b243e70ec454df0c": {
      "model_module": "@jupyter-widgets/base",
      "model_module_version": "1.1.0",
      "model_name": "LayoutModel",
      "state": {
       "width": "250px"
      }
     },
     "89bcfd158f5042b4a878bbd3b74f9e12": {
      "model_module": "@jupyter-widgets/base",
      "model_module_version": "1.1.0",
      "model_name": "LayoutModel",
      "state": {}
     },
     "8a43008db7344b73bca7a9fede51299f": {
      "model_module": "@jupyter-widgets/base",
      "model_module_version": "1.1.0",
      "model_name": "LayoutModel",
      "state": {}
     },
     "8a4f95b839974dd8a53f2eb2c4976e43": {
      "model_module": "@jupyter-widgets/controls",
      "model_module_version": "1.4.0",
      "model_name": "HTMLModel",
      "state": {
       "layout": "IPY_MODEL_ff0b52a167104ff3a5cc8cc5d973968c",
       "style": "IPY_MODEL_af73c685731744b5b66a91a6c84d30d4",
       "value": "<h4 style=\"font-size:14px;\">Um welche Art der Ambiguität handelt es sich bei den beiden gefundenen Ableitungen?</h4>"
      }
     },
     "8af1d7c0d131460cadc6cd5c26a84af0": {
      "model_module": "@jupyter-widgets/base",
      "model_module_version": "1.1.0",
      "model_name": "LayoutModel",
      "state": {
       "justify_content": "center"
      }
     },
     "8b387a87b3204af89d32f2444d012b2e": {
      "model_module": "@jupyter-widgets/base",
      "model_module_version": "1.1.0",
      "model_name": "LayoutModel",
      "state": {}
     },
     "8b8aa45740cc4a1b98625ed123b4d030": {
      "model_module": "@jupyter-widgets/base",
      "model_module_version": "1.1.0",
      "model_name": "LayoutModel",
      "state": {
       "width": "600px"
      }
     },
     "8b923631e2fd47caa899783943ad8929": {
      "model_module": "@jupyter-widgets/controls",
      "model_module_version": "1.4.0",
      "model_name": "DescriptionStyleModel",
      "state": {
       "description_width": "initial"
      }
     },
     "8b9a220ade664dcfb80c2819b7f06775": {
      "model_module": "@jupyter-widgets/controls",
      "model_module_version": "1.4.0",
      "model_name": "ButtonModel",
      "state": {
       "description": "nach der Wahrscheinlichkeit",
       "layout": "IPY_MODEL_9e71ae2536924f7291173fe2134f7a7b",
       "style": "IPY_MODEL_3ece58c0ca6045898c360ac84097258b"
      }
     },
     "8bb7e20bd1c54fa3a58cbf98f8bee922": {
      "model_module": "@jupyter-widgets/controls",
      "model_module_version": "1.4.0",
      "model_name": "ButtonStyleModel",
      "state": {}
     },
     "8bb8b8f6993b4488a7b536189b22ad2b": {
      "model_module": "@jupyter-widgets/base",
      "model_module_version": "1.1.0",
      "model_name": "LayoutModel",
      "state": {
       "justify_content": "center"
      }
     },
     "8cbc7bf682a94888aa8a00fcb6c43f7a": {
      "model_module": "@jupyter-widgets/controls",
      "model_module_version": "1.4.0",
      "model_name": "HTMLModel",
      "state": {
       "layout": "IPY_MODEL_476e4208f8c3480ea32a540cdfefb61e",
       "style": "IPY_MODEL_7c4d74ebcf2e4b4a8e6c553e6b303b5f",
       "value": "<i>Wählen Sie die <ins>eine</ins> korrekte Antwort aus: </i>"
      }
     },
     "8d04ae34000e49c6915df9506adb4092": {
      "model_module": "@jupyter-widgets/base",
      "model_module_version": "1.1.0",
      "model_name": "LayoutModel",
      "state": {
       "width": "250px"
      }
     },
     "8ddd07790d3e43c58cf771aff5826865": {
      "model_module": "@jupyter-widgets/base",
      "model_module_version": "1.1.0",
      "model_name": "LayoutModel",
      "state": {
       "width": "250px"
      }
     },
     "8ed622dd1afc42fca42d9609b08022bf": {
      "model_module": "@jupyter-widgets/base",
      "model_module_version": "1.1.0",
      "model_name": "LayoutModel",
      "state": {}
     },
     "8ed7eccf82c84afd9c0a148a3ca11ee4": {
      "model_module": "@jupyter-widgets/controls",
      "model_module_version": "1.4.0",
      "model_name": "HBoxModel",
      "state": {
       "children": [
        "IPY_MODEL_51c9711f325b433c864e68e34f804d69"
       ],
       "layout": "IPY_MODEL_f60742c7aaed49b286fa84e05ed0efbf"
      }
     },
     "8f5ee691d46a44b0973f504e504ed45b": {
      "model_module": "@jupyter-widgets/controls",
      "model_module_version": "1.4.0",
      "model_name": "DescriptionStyleModel",
      "state": {
       "description_width": ""
      }
     },
     "8f831f2f6b08475ea6a783609ef60d83": {
      "model_module": "@jupyter-widgets/controls",
      "model_module_version": "1.4.0",
      "model_name": "HBoxModel",
      "state": {
       "children": [
        "IPY_MODEL_d785ef854b004a94a578acbdfdb7b382"
       ],
       "layout": "IPY_MODEL_e5925ca5804a4aeb923f2e0c2a2fc4c0"
      }
     },
     "8fec40f93d324d4a831980f34656d777": {
      "model_module": "@jupyter-widgets/base",
      "model_module_version": "1.1.0",
      "model_name": "LayoutModel",
      "state": {}
     },
     "9062a4db9130437bbbb169a9c325a1a8": {
      "model_module": "@jupyter-widgets/controls",
      "model_module_version": "1.4.0",
      "model_name": "ButtonModel",
      "state": {
       "description": "OK",
       "layout": "IPY_MODEL_048afdda91df49ba90f14480cde54e4b",
       "style": "IPY_MODEL_388598adc97b4e12b350be31642b276e"
      }
     },
     "921b33400e594f17a14edf81517baafb": {
      "model_module": "@jupyter-widgets/controls",
      "model_module_version": "1.4.0",
      "model_name": "DescriptionStyleModel",
      "state": {
       "description_width": "initial"
      }
     },
     "929eb4506b8e4605b4bc1b34aaa3c0a8": {
      "model_module": "@jupyter-widgets/controls",
      "model_module_version": "1.4.0",
      "model_name": "ButtonStyleModel",
      "state": {}
     },
     "92a2ad27478142229e98d44417002d49": {
      "model_module": "@jupyter-widgets/base",
      "model_module_version": "1.1.0",
      "model_name": "LayoutModel",
      "state": {}
     },
     "92db95f190c34e498f7f0f8e28ef9e73": {
      "model_module": "@jupyter-widgets/controls",
      "model_module_version": "1.4.0",
      "model_name": "HBoxModel",
      "state": {
       "children": [
        "IPY_MODEL_b812d6d76a1b411a827c41ea5e624580"
       ],
       "layout": "IPY_MODEL_9898c3c4093d4a16bf78c54fa8b3ea75"
      }
     },
     "931cb4c94c68401998066141cbe503d3": {
      "model_module": "@jupyter-widgets/base",
      "model_module_version": "1.1.0",
      "model_name": "LayoutModel",
      "state": {}
     },
     "9333c3c23f264d36ab1019183b213b92": {
      "model_module": "@jupyter-widgets/controls",
      "model_module_version": "1.4.0",
      "model_name": "CheckboxModel",
      "state": {
       "description": "Ihre Wahrscheinlichkeiten sind zu gering.",
       "disabled": false,
       "layout": "IPY_MODEL_ed206a7d0aad4d7fbfc57e0e0fa79ddd",
       "style": "IPY_MODEL_386cff597b74418786efdf49b43e6c73",
       "value": false
      }
     },
     "9337298393d64533a9e457527613de3e": {
      "model_module": "@jupyter-widgets/base",
      "model_module_version": "1.1.0",
      "model_name": "LayoutModel",
      "state": {
       "width": "250px"
      }
     },
     "937f6f2d467343e5af53d94f5251bc78": {
      "model_module": "@jupyter-widgets/controls",
      "model_module_version": "1.4.0",
      "model_name": "VBoxModel",
      "state": {
       "children": [
        "IPY_MODEL_380e4e5c9a564325a4bd11e726c92c45",
        "IPY_MODEL_628eaf9379064cc3bfb7cc34a1081e79",
        "IPY_MODEL_440affb1e2ae4333857eebfc794294da",
        "IPY_MODEL_31d74e1ca5b54efc89dc97a7285b041e"
       ],
       "layout": "IPY_MODEL_bf3eea8d62a0460fb2dadaa0ac8a3ecd"
      }
     },
     "93dd00cd49da48fe90887a473018ffaa": {
      "model_module": "@jupyter-widgets/base",
      "model_module_version": "1.1.0",
      "model_name": "LayoutModel",
      "state": {
       "width": "600px"
      }
     },
     "942ec9797adc40a4932f72197251e5f6": {
      "model_module": "@jupyter-widgets/controls",
      "model_module_version": "1.4.0",
      "model_name": "ButtonModel",
      "state": {
       "description": "InsideChartParser mit beam-size",
       "layout": "IPY_MODEL_155292d498cd47dfb121e5764dc879d4",
       "style": "IPY_MODEL_9a1987215b1c45f9b7933be80fb73db2"
      }
     },
     "96bee4a6e710475292b4d72aaa61c9c5": {
      "model_module": "@jupyter-widgets/controls",
      "model_module_version": "1.4.0",
      "model_name": "HTMLModel",
      "state": {
       "layout": "IPY_MODEL_9ca25029d10c4d66a9f769487a9d1bbf",
       "style": "IPY_MODEL_d9aa7cabeb754c2ea0bc71d8d1b4af36",
       "value": "<h4 style=\"font-size:14px;\">Nach welchem Kriterium wird beim Parsen mit dem InsideChartParser (= <i>Lowest-Cost-First</i>-Strategie) die <i>edge queue</i> sortiert?</h4>"
      }
     },
     "96faf275b17d4e7f8c205f77d4b72193": {
      "model_module": "@jupyter-widgets/controls",
      "model_module_version": "1.4.0",
      "model_name": "ButtonStyleModel",
      "state": {}
     },
     "970d589ffec24823965a254ea2c4510b": {
      "model_module": "@jupyter-widgets/base",
      "model_module_version": "1.1.0",
      "model_name": "LayoutModel",
      "state": {
       "width": "250px"
      }
     },
     "970e1b0ec9be4f7081f55490b3785a10": {
      "model_module": "@jupyter-widgets/controls",
      "model_module_version": "1.4.0",
      "model_name": "CheckboxModel",
      "state": {
       "description": "Sie analysieren die Eingabesequenz nicht komplett.",
       "disabled": false,
       "layout": "IPY_MODEL_78eca7535e7b44369390054ce09ebde0",
       "style": "IPY_MODEL_a6052eabbc0f472286afb91c10a2b684",
       "value": false
      }
     },
     "9844dcd8549447f68ae4794f7b77b8e2": {
      "model_module": "@jupyter-widgets/controls",
      "model_module_version": "1.4.0",
      "model_name": "DescriptionStyleModel",
      "state": {
       "description_width": "initial"
      }
     },
     "98898ab7eee849b4b1a4ab64644aff24": {
      "model_module": "@jupyter-widgets/controls",
      "model_module_version": "1.4.0",
      "model_name": "HBoxModel",
      "state": {
       "children": [
        "IPY_MODEL_2d9e6fdb8ce04a68aefd8c19daa1c5aa"
       ],
       "layout": "IPY_MODEL_032725796af243278cc30ba04d79cd7e"
      }
     },
     "9898c3c4093d4a16bf78c54fa8b3ea75": {
      "model_module": "@jupyter-widgets/base",
      "model_module_version": "1.1.0",
      "model_name": "LayoutModel",
      "state": {}
     },
     "98f4fa0a919244219517ab5ba7aae928": {
      "model_module": "@jupyter-widgets/controls",
      "model_module_version": "1.4.0",
      "model_name": "HBoxModel",
      "state": {
       "children": [
        "IPY_MODEL_64955731b13c4239b82dba5bc726888b",
        "IPY_MODEL_a8f7ae20dbf545989930ecf8ec2c46ff"
       ],
       "layout": "IPY_MODEL_ce9d9a575599450ea6ea50a9a2f61786"
      }
     },
     "9a1987215b1c45f9b7933be80fb73db2": {
      "model_module": "@jupyter-widgets/controls",
      "model_module_version": "1.4.0",
      "model_name": "ButtonStyleModel",
      "state": {}
     },
     "9a5dd1866aee4622bb77608d4210938c": {
      "model_module": "@jupyter-widgets/controls",
      "model_module_version": "1.4.0",
      "model_name": "VBoxModel",
      "state": {
       "children": [
        "IPY_MODEL_75018e6784194445bcfea1cd642c9421",
        "IPY_MODEL_11b6d934b517406c94f3f1ef68037827",
        "IPY_MODEL_467da5c95381466a931b990945c29c39",
        "IPY_MODEL_1448e2196eb045c997ca522fde193075"
       ],
       "layout": "IPY_MODEL_d84e84a74d62426c8484493802db05f9"
      }
     },
     "9b3ac7b9a9b841838dd4f2492108deda": {
      "model_module": "@jupyter-widgets/base",
      "model_module_version": "1.1.0",
      "model_name": "LayoutModel",
      "state": {
       "width": "250px"
      }
     },
     "9b982462cb444d13accc69e3cf5872ee": {
      "model_module": "@jupyter-widgets/controls",
      "model_module_version": "1.4.0",
      "model_name": "HBoxModel",
      "state": {
       "children": [
        "IPY_MODEL_7a69b39e51ac4ee09a644c9853e0dd75",
        "IPY_MODEL_2fbfada6504f4f35b8553e7bc378e189"
       ],
       "layout": "IPY_MODEL_b883a9f4169240f08e628eab9d333634"
      }
     },
     "9bf7972f93bd45b78234157d1e745b92": {
      "model_module": "@jupyter-widgets/base",
      "model_module_version": "1.1.0",
      "model_name": "LayoutModel",
      "state": {
       "width": "250px"
      }
     },
     "9c944ef278a54ad0825840c75c0d62ea": {
      "model_module": "@jupyter-widgets/controls",
      "model_module_version": "1.4.0",
      "model_name": "ButtonStyleModel",
      "state": {}
     },
     "9ca25029d10c4d66a9f769487a9d1bbf": {
      "model_module": "@jupyter-widgets/base",
      "model_module_version": "1.1.0",
      "model_name": "LayoutModel",
      "state": {
       "justify_content": "center"
      }
     },
     "9ce83bf6b3694ff69bbc8a0ee39cf6bd": {
      "model_module": "@jupyter-widgets/base",
      "model_module_version": "1.1.0",
      "model_name": "LayoutModel",
      "state": {
       "justify_content": "center"
      }
     },
     "9cea5f5db01f4c0e9711bd5e35bdfe26": {
      "model_module": "@jupyter-widgets/controls",
      "model_module_version": "1.4.0",
      "model_name": "ButtonStyleModel",
      "state": {}
     },
     "9d76a30747cf471e9e63a0b01ef22d47": {
      "model_module": "@jupyter-widgets/controls",
      "model_module_version": "1.4.0",
      "model_name": "ButtonModel",
      "state": {
       "description": "InsideChartParser",
       "layout": "IPY_MODEL_01fd09c1f4e2461983b7bdbda569c3eb",
       "style": "IPY_MODEL_929eb4506b8e4605b4bc1b34aaa3c0a8"
      }
     },
     "9e64eaa754a34ed0b788271109693b8f": {
      "model_module": "@jupyter-widgets/controls",
      "model_module_version": "1.4.0",
      "model_name": "ButtonStyleModel",
      "state": {
       "button_color": "lightgreen"
      }
     },
     "9e71ae2536924f7291173fe2134f7a7b": {
      "model_module": "@jupyter-widgets/base",
      "model_module_version": "1.1.0",
      "model_name": "LayoutModel",
      "state": {
       "width": "250px"
      }
     },
     "9e8f76213f4548d09e7331a644f6de9d": {
      "model_module": "@jupyter-widgets/controls",
      "model_module_version": "1.4.0",
      "model_name": "HTMLModel",
      "state": {
       "layout": "IPY_MODEL_a577a6571e024d4aa953f9f723642db0",
       "style": "IPY_MODEL_de5053e9075f449eb2d29c807147428f",
       "value": "<i>Wählen Sie die <ins>eine</ins> korrekte Antwort aus: </i>"
      }
     },
     "9eac2c7f5921440bbd2955bb74d8eb8e": {
      "model_module": "@jupyter-widgets/controls",
      "model_module_version": "1.4.0",
      "model_name": "CheckboxModel",
      "state": {
       "description": "Das Verwerfen verhindert eine Endlosrekursion.",
       "disabled": false,
       "layout": "IPY_MODEL_7b3199e2160b41b193ebd2379cd8f264",
       "style": "IPY_MODEL_aec266fb513b4a12a6a0976040878ae6",
       "value": false
      }
     },
     "9f3092c23b074a3db50c4cdd2b62a9c1": {
      "model_module": "@jupyter-widgets/controls",
      "model_module_version": "1.4.0",
      "model_name": "DescriptionStyleModel",
      "state": {
       "description_width": "initial"
      }
     },
     "9f336fd0ff404da19ac0939c180fdefa": {
      "model_module": "@jupyter-widgets/base",
      "model_module_version": "1.1.0",
      "model_name": "LayoutModel",
      "state": {
       "width": "250px"
      }
     },
     "9f78f73fb18c44008893da5e5d554c09": {
      "model_module": "@jupyter-widgets/controls",
      "model_module_version": "1.4.0",
      "model_name": "HTMLModel",
      "state": {
       "layout": "IPY_MODEL_5e90947f61694fe9bccb5f8c4341ecf1",
       "style": "IPY_MODEL_e4638fd51cc341b799f8a7b24ffa6926",
       "value": "<h4 style=\"font-size:14px;\">Warum werden die Analysen in den Discard-Zeilen verworfen?</h4>"
      }
     },
     "9f83d487a747402b985cbf9e33014537": {
      "model_module": "@jupyter-widgets/controls",
      "model_module_version": "1.4.0",
      "model_name": "CheckboxModel",
      "state": {
       "description": "Sie analysieren die Eingabesequenz nicht komplett.",
       "disabled": false,
       "layout": "IPY_MODEL_84aac5e0de3e458694141b81df26b01b",
       "style": "IPY_MODEL_fb67dab62553468890ba16c4163948d0",
       "value": false
      }
     },
     "9f9f110ea7934e659e316a24a9b8e6b6": {
      "model_module": "@jupyter-widgets/controls",
      "model_module_version": "1.4.0",
      "model_name": "HTMLModel",
      "state": {
       "layout": "IPY_MODEL_54964c6579ca4743a9aa05c463969ee3",
       "style": "IPY_MODEL_0c5b759495b94cef96899b423a9e15a5",
       "value": "<h4 style=\"font-size:14px;\">Berechnen Sie die Wahrscheinlichkeit für die Ableitung in der letzten Zeile.</h4>"
      }
     },
     "9fdee72cbbaf4101a03d3aeab4f9c39b": {
      "model_module": "@jupyter-widgets/controls",
      "model_module_version": "1.4.0",
      "model_name": "ButtonStyleModel",
      "state": {}
     },
     "a10a9da856364216b2930cc40088a8b3": {
      "model_module": "@jupyter-widgets/controls",
      "model_module_version": "1.4.0",
      "model_name": "VBoxModel",
      "state": {
       "children": [
        "IPY_MODEL_ad0efde1878b484cbe962ae0539e588e",
        "IPY_MODEL_014d0410d5d14c368e0d0a575f364cce",
        "IPY_MODEL_c3bb7d6ad6724a889f469f11496c1b70",
        "IPY_MODEL_a4ec5f7a40e74d8a81c96bde48613b33"
       ],
       "layout": "IPY_MODEL_cfd8e465fab54e99b99a94e139871250"
      }
     },
     "a10d285d8bc84a0d86c101b4d9eebc25": {
      "model_module": "@jupyter-widgets/controls",
      "model_module_version": "1.4.0",
      "model_name": "HBoxModel",
      "state": {
       "children": [
        "IPY_MODEL_68bd3deedf7a411c95f19b3a0efc7ce2",
        "IPY_MODEL_2e58c9ca2de4417aa1e2d15357af12d8"
       ],
       "layout": "IPY_MODEL_235b4a7606e443d89a204a0da73615b6"
      }
     },
     "a125d4f8c97f45739b01321670d4ec50": {
      "model_module": "@jupyter-widgets/controls",
      "model_module_version": "1.4.0",
      "model_name": "HTMLModel",
      "state": {
       "layout": "IPY_MODEL_8af1d7c0d131460cadc6cd5c26a84af0",
       "style": "IPY_MODEL_edb8ee62892c4ff5b780cd09ab8c57b2",
       "value": "<i>Wählen Sie die <ins>eine</ins> korrekte Antwort aus: </i>"
      }
     },
     "a151cb45e8c84f5b96ef64ffa45c1dc3": {
      "model_module": "@jupyter-widgets/base",
      "model_module_version": "1.1.0",
      "model_name": "LayoutModel",
      "state": {
       "width": "250px"
      }
     },
     "a21c37e4060f4736baf26a3d28457bb6": {
      "model_module": "@jupyter-widgets/base",
      "model_module_version": "1.1.0",
      "model_name": "LayoutModel",
      "state": {
       "justify_content": "center"
      }
     },
     "a3b6e08f356f407f8f887878a0a0f397": {
      "model_module": "@jupyter-widgets/base",
      "model_module_version": "1.1.0",
      "model_name": "LayoutModel",
      "state": {}
     },
     "a4dd072179994ff590f331d107355bd5": {
      "model_module": "@jupyter-widgets/controls",
      "model_module_version": "1.4.0",
      "model_name": "CheckboxModel",
      "state": {
       "description": "Sie analysieren die Eingabesequenz nicht komplett.",
       "disabled": false,
       "layout": "IPY_MODEL_61c0e30c3eab45048dd2feeeed1e997a",
       "style": "IPY_MODEL_b3c9d458acd444f48163e435efa84919",
       "value": false
      }
     },
     "a4ec5f7a40e74d8a81c96bde48613b33": {
      "model_module": "@jupyter-widgets/controls",
      "model_module_version": "1.4.0",
      "model_name": "HBoxModel",
      "state": {
       "children": [
        "IPY_MODEL_cafd6fd68a334d0d971871eb4c4a0a63",
        "IPY_MODEL_cd5ee796a92b433e95f4a9a95ff3eb0c"
       ],
       "layout": "IPY_MODEL_bf4435b4804845549755d298ea93c36a"
      }
     },
     "a505069a943744c785b32c0a6988af2a": {
      "model_module": "@jupyter-widgets/controls",
      "model_module_version": "1.4.0",
      "model_name": "HTMLModel",
      "state": {
       "layout": "IPY_MODEL_9ce83bf6b3694ff69bbc8a0ee39cf6bd",
       "style": "IPY_MODEL_019131b75788442e943a5f719cb74c53",
       "value": "<i>Wählen Sie die <ins>eine</ins> korrekte Antwort aus: </i>"
      }
     },
     "a577a6571e024d4aa953f9f723642db0": {
      "model_module": "@jupyter-widgets/base",
      "model_module_version": "1.1.0",
      "model_name": "LayoutModel",
      "state": {
       "justify_content": "center"
      }
     },
     "a6052eabbc0f472286afb91c10a2b684": {
      "model_module": "@jupyter-widgets/controls",
      "model_module_version": "1.4.0",
      "model_name": "DescriptionStyleModel",
      "state": {
       "description_width": "initial"
      }
     },
     "a78d7a891f124e338c441ebf0411e4d4": {
      "model_module": "@jupyter-widgets/base",
      "model_module_version": "1.1.0",
      "model_name": "LayoutModel",
      "state": {}
     },
     "a79aa589231e4348993b8d77f39c0ea1": {
      "model_module": "@jupyter-widgets/controls",
      "model_module_version": "1.4.0",
      "model_name": "HTMLModel",
      "state": {
       "layout": "IPY_MODEL_366e5d6668704594b8783920d2679b21",
       "style": "IPY_MODEL_e722ff59c5884b5c9f5ffd419225fe91",
       "value": "<h4 style=\"font-size:14px;\">Nach welchem Kriterium wird beim Parsen mit dem InsideChartParser (= <i>Lowest-Cost-First</i>-Strategie) die <i>edge queue</i> sortiert?</h4>"
      }
     },
     "a7a47ff3aca84dd9ba20eb64b03e2d36": {
      "model_module": "@jupyter-widgets/controls",
      "model_module_version": "1.4.0",
      "model_name": "DescriptionStyleModel",
      "state": {
       "description_width": ""
      }
     },
     "a7aa8271bf3a4b5f94fef6cbc78fd117": {
      "model_module": "@jupyter-widgets/controls",
      "model_module_version": "1.4.0",
      "model_name": "DescriptionStyleModel",
      "state": {
       "description_width": "initial"
      }
     },
     "a7d774a74e5d425d890b43894e4fd56d": {
      "model_module": "@jupyter-widgets/controls",
      "model_module_version": "1.4.0",
      "model_name": "ButtonModel",
      "state": {
       "description": "LongestChartParser",
       "layout": "IPY_MODEL_0c222ba1f2f3450fb1d1bf10d308254d",
       "style": "IPY_MODEL_3a0f7563671b400e8556e52d42e2a87d"
      }
     },
     "a88bd4a39894486d9f6d607bf2abb73e": {
      "model_module": "@jupyter-widgets/controls",
      "model_module_version": "1.4.0",
      "model_name": "ButtonModel",
      "state": {
       "description": "InsideChartParser",
       "layout": "IPY_MODEL_c9236656c76a457c98d1c5a8441593e7",
       "style": "IPY_MODEL_84f61bb9f9c2401d9552997a809b07a3"
      }
     },
     "a8cb19997080411b816f0cd0c749679e": {
      "model_module": "@jupyter-widgets/controls",
      "model_module_version": "1.4.0",
      "model_name": "HBoxModel",
      "state": {
       "children": [
        "IPY_MODEL_392c7e94c7274426b364b0a31688e34a"
       ],
       "layout": "IPY_MODEL_45726b908a2f48dab09bdf399a13582b"
      }
     },
     "a8f7ae20dbf545989930ecf8ec2c46ff": {
      "model_module": "@jupyter-widgets/controls",
      "model_module_version": "1.4.0",
      "model_name": "ButtonModel",
      "state": {
       "description": "InsideChartParser mit beam-size",
       "layout": "IPY_MODEL_6204a440bd9f47f984eea76177ee87a5",
       "style": "IPY_MODEL_e043e666e8ae48fd89db3fe389821575"
      }
     },
     "a9a99580a62b4a4abad7f10d7713b0ab": {
      "model_module": "@jupyter-widgets/controls",
      "model_module_version": "1.4.0",
      "model_name": "HTMLModel",
      "state": {
       "layout": "IPY_MODEL_a9e9b177a0b94fb48ff5a483b5825290",
       "style": "IPY_MODEL_31567e320b234cebbccde8edba92702e",
       "value": "<h4 style=\"font-size:14px;\">Um welchen Parser kann es sich nicht handeln?</h4>"
      }
     },
     "a9b96834397c415fba92c3eb1a929ade": {
      "model_module": "@jupyter-widgets/controls",
      "model_module_version": "1.4.0",
      "model_name": "ButtonStyleModel",
      "state": {}
     },
     "a9e9b177a0b94fb48ff5a483b5825290": {
      "model_module": "@jupyter-widgets/base",
      "model_module_version": "1.1.0",
      "model_name": "LayoutModel",
      "state": {
       "justify_content": "center"
      }
     },
     "aa161135043a47868f6bec569fca5b76": {
      "model_module": "@jupyter-widgets/controls",
      "model_module_version": "1.4.0",
      "model_name": "DescriptionStyleModel",
      "state": {
       "description_width": ""
      }
     },
     "aaff99ce30f54b7a947ae0ac258395b8": {
      "model_module": "@jupyter-widgets/base",
      "model_module_version": "1.1.0",
      "model_name": "LayoutModel",
      "state": {
       "width": "250px"
      }
     },
     "ab570927034740ac951349a801bbe5d8": {
      "model_module": "@jupyter-widgets/controls",
      "model_module_version": "1.4.0",
      "model_name": "DescriptionStyleModel",
      "state": {
       "description_width": ""
      }
     },
     "abaf609dda8a4325acda5afa465ec372": {
      "model_module": "@jupyter-widgets/controls",
      "model_module_version": "1.4.0",
      "model_name": "ButtonModel",
      "state": {
       "description": "PP-Attachment-Ambiguität",
       "layout": "IPY_MODEL_3371c6c0ead549469712c2404231c108",
       "style": "IPY_MODEL_7694e7ec78cd409cbef736e5361ee4d7"
      }
     },
     "abd333d67a324f12909f89d3f96f2288": {
      "model_module": "@jupyter-widgets/controls",
      "model_module_version": "1.4.0",
      "model_name": "DescriptionStyleModel",
      "state": {
       "description_width": ""
      }
     },
     "ad0efde1878b484cbe962ae0539e588e": {
      "model_module": "@jupyter-widgets/controls",
      "model_module_version": "1.4.0",
      "model_name": "HTMLModel",
      "state": {
       "layout": "IPY_MODEL_5e95f74cce0449e995d017906bb3dbf4",
       "style": "IPY_MODEL_79748bde19914350a618eff007a522d6",
       "value": "<h4 style=\"font-size:14px;\">Um welchen Parser kann es sich nicht handeln?</h4>"
      }
     },
     "added4dd1df04242835d1975da2bcdc4": {
      "model_module": "@jupyter-widgets/base",
      "model_module_version": "1.1.0",
      "model_name": "LayoutModel",
      "state": {}
     },
     "aebafdd6841d4549a7a76e42c4209164": {
      "model_module": "@jupyter-widgets/base",
      "model_module_version": "1.1.0",
      "model_name": "LayoutModel",
      "state": {}
     },
     "aec266fb513b4a12a6a0976040878ae6": {
      "model_module": "@jupyter-widgets/controls",
      "model_module_version": "1.4.0",
      "model_name": "DescriptionStyleModel",
      "state": {
       "description_width": "initial"
      }
     },
     "af49294b972c4cd18e3353b87f86bda8": {
      "model_module": "@jupyter-widgets/base",
      "model_module_version": "1.1.0",
      "model_name": "LayoutModel",
      "state": {}
     },
     "af73c685731744b5b66a91a6c84d30d4": {
      "model_module": "@jupyter-widgets/controls",
      "model_module_version": "1.4.0",
      "model_name": "DescriptionStyleModel",
      "state": {
       "description_width": ""
      }
     },
     "af76a46c227b4e24b5619114869b82ca": {
      "model_module": "@jupyter-widgets/base",
      "model_module_version": "1.1.0",
      "model_name": "LayoutModel",
      "state": {}
     },
     "af8948ec27b24d8aa079a9ad99254993": {
      "model_module": "@jupyter-widgets/controls",
      "model_module_version": "1.4.0",
      "model_name": "VBoxModel",
      "state": {
       "children": [
        "IPY_MODEL_0cd2c53fa2ca4459b0c63f6b0ccdb118",
        "IPY_MODEL_0d44d27dfc0e4231aad7c8358c8ff6cb",
        "IPY_MODEL_27fa60725aae42a88e11db6b341bf84e",
        "IPY_MODEL_0d64247da2de43d9b7dcc41fdccc52c0"
       ],
       "layout": "IPY_MODEL_108711d220a24840a0905d5b5b303af3"
      }
     },
     "af90853668da464facf4a415d76c9fb8": {
      "model_module": "@jupyter-widgets/base",
      "model_module_version": "1.1.0",
      "model_name": "LayoutModel",
      "state": {
       "width": "600px"
      }
     },
     "b03ff216d74c451ab6ff9fb15ca8b417": {
      "model_module": "@jupyter-widgets/base",
      "model_module_version": "1.1.0",
      "model_name": "LayoutModel",
      "state": {}
     },
     "b0b88dddfd9e439aa6a9e10ea44bf98d": {
      "model_module": "@jupyter-widgets/base",
      "model_module_version": "1.1.0",
      "model_name": "LayoutModel",
      "state": {
       "justify_content": "center"
      }
     },
     "b0e033b5f8d2455a89a962c200c6e06f": {
      "model_module": "@jupyter-widgets/controls",
      "model_module_version": "1.4.0",
      "model_name": "ButtonStyleModel",
      "state": {}
     },
     "b16986cbf3be474ca39ed05947d0443d": {
      "model_module": "@jupyter-widgets/controls",
      "model_module_version": "1.4.0",
      "model_name": "ButtonStyleModel",
      "state": {}
     },
     "b233a3f7343e41819961031bec24404c": {
      "model_module": "@jupyter-widgets/base",
      "model_module_version": "1.1.0",
      "model_name": "LayoutModel",
      "state": {}
     },
     "b313168a79bc4409838c6c9453a83909": {
      "model_module": "@jupyter-widgets/controls",
      "model_module_version": "1.4.0",
      "model_name": "ButtonModel",
      "state": {
       "description": "Korrekt?",
       "layout": "IPY_MODEL_04c0481389c24e01906413b605377acc",
       "style": "IPY_MODEL_5b10dabf8a564c42b145e6de2f060b93"
      }
     },
     "b33b0770d9944f48b0e1217ec1977d63": {
      "model_module": "@jupyter-widgets/controls",
      "model_module_version": "1.4.0",
      "model_name": "DescriptionStyleModel",
      "state": {
       "description_width": ""
      }
     },
     "b397be2c917f414da26b31dd79a96ef9": {
      "model_module": "@jupyter-widgets/base",
      "model_module_version": "1.1.0",
      "model_name": "LayoutModel",
      "state": {
       "justify_content": "center"
      }
     },
     "b3c9d458acd444f48163e435efa84919": {
      "model_module": "@jupyter-widgets/controls",
      "model_module_version": "1.4.0",
      "model_name": "DescriptionStyleModel",
      "state": {
       "description_width": "initial"
      }
     },
     "b52bb09a9103414d8eb0ccb5e92c0b65": {
      "model_module": "@jupyter-widgets/base",
      "model_module_version": "1.1.0",
      "model_name": "LayoutModel",
      "state": {
       "justify_content": "center"
      }
     },
     "b56dfe19600b41818fe255019ff5d18a": {
      "model_module": "@jupyter-widgets/controls",
      "model_module_version": "1.4.0",
      "model_name": "HTMLModel",
      "state": {
       "layout": "IPY_MODEL_6fbfca6e7e12477faa50a9f6adeb15ed",
       "style": "IPY_MODEL_5625e248159d45afbaee692fd10576ae",
       "value": "<h4 style=\"font-size:14px;\">Warum werden die Analysen in den Discard-Zeilen verworfen?</h4>"
      }
     },
     "b581fa4dee0a41fcbbf55b3b6879a4d0": {
      "model_module": "@jupyter-widgets/controls",
      "model_module_version": "1.4.0",
      "model_name": "DescriptionStyleModel",
      "state": {
       "description_width": ""
      }
     },
     "b593508de30549d6811d18e9b5726998": {
      "model_module": "@jupyter-widgets/base",
      "model_module_version": "1.1.0",
      "model_name": "LayoutModel",
      "state": {}
     },
     "b5ac2118c272482ea4a2037ea36ae357": {
      "model_module": "@jupyter-widgets/controls",
      "model_module_version": "1.4.0",
      "model_name": "HTMLModel",
      "state": {
       "layout": "IPY_MODEL_bdd3096bed374fa39ee017b0d3aa2581",
       "style": "IPY_MODEL_e0fcda091e4440828eb401f65f90915f",
       "value": "<h4 style=\"font-size:14px;\">Um welche Art der Ambiguität handelt es sich bei den beiden gefundenen Ableitungen?</h4>"
      }
     },
     "b695dc15d33c4fc2866f7f4a5f23a643": {
      "model_module": "@jupyter-widgets/controls",
      "model_module_version": "1.4.0",
      "model_name": "ButtonStyleModel",
      "state": {}
     },
     "b812d6d76a1b411a827c41ea5e624580": {
      "model_module": "@jupyter-widgets/controls",
      "model_module_version": "1.4.0",
      "model_name": "ButtonModel",
      "state": {
       "description": "nach der beam-size",
       "layout": "IPY_MODEL_24dcbbf0dd1d413b9204661c2cb35347",
       "style": "IPY_MODEL_0fc5ab545edb48f48babac12bedce967"
      }
     },
     "b853171ab4ce4aaab6e7dff318dfb36e": {
      "model_module": "@jupyter-widgets/controls",
      "model_module_version": "1.4.0",
      "model_name": "VBoxModel",
      "state": {
       "children": [
        "IPY_MODEL_9f9f110ea7934e659e316a24a9b8e6b6",
        "IPY_MODEL_78953ad22620460ea7e93f811f675646",
        "IPY_MODEL_430998ae6651484b92a5920491962547",
        "IPY_MODEL_a10d285d8bc84a0d86c101b4d9eebc25"
       ],
       "layout": "IPY_MODEL_5a7c305bd1974e6cab9086838a102191"
      }
     },
     "b858e88ff00c40c49276875c8724a19d": {
      "model_module": "@jupyter-widgets/base",
      "model_module_version": "1.1.0",
      "model_name": "LayoutModel",
      "state": {
       "width": "250px"
      }
     },
     "b883a9f4169240f08e628eab9d333634": {
      "model_module": "@jupyter-widgets/base",
      "model_module_version": "1.1.0",
      "model_name": "LayoutModel",
      "state": {}
     },
     "b8a114dc01e5483fb653927c07680e09": {
      "model_module": "@jupyter-widgets/controls",
      "model_module_version": "1.4.0",
      "model_name": "ButtonStyleModel",
      "state": {}
     },
     "b97dbd50be134001b175b654ab65d2a4": {
      "model_module": "@jupyter-widgets/base",
      "model_module_version": "1.1.0",
      "model_name": "LayoutModel",
      "state": {
       "width": "250px"
      }
     },
     "ba9272602bb445a0bc461579cc946f82": {
      "model_module": "@jupyter-widgets/controls",
      "model_module_version": "1.4.0",
      "model_name": "ButtonStyleModel",
      "state": {}
     },
     "bb5b4f60e0064dd38490ca37c66a9ef7": {
      "model_module": "@jupyter-widgets/controls",
      "model_module_version": "1.4.0",
      "model_name": "ButtonStyleModel",
      "state": {}
     },
     "bb8131ccc74b48919c9c4a35e2b8a2cc": {
      "model_module": "@jupyter-widgets/base",
      "model_module_version": "1.1.0",
      "model_name": "LayoutModel",
      "state": {}
     },
     "bbec32b2e0214826ae80d385ad3c4bf3": {
      "model_module": "@jupyter-widgets/base",
      "model_module_version": "1.1.0",
      "model_name": "LayoutModel",
      "state": {}
     },
     "bd57aeed3d95433497631c0830918adc": {
      "model_module": "@jupyter-widgets/controls",
      "model_module_version": "1.4.0",
      "model_name": "HBoxModel",
      "state": {
       "children": [
        "IPY_MODEL_c1fb113a4ac34fa38772bd466655af15",
        "IPY_MODEL_fb6243c0c4e244f69c513ddc75ba4206"
       ],
       "layout": "IPY_MODEL_d3d107ada0184929b38260042d2adc9f"
      }
     },
     "bdd3096bed374fa39ee017b0d3aa2581": {
      "model_module": "@jupyter-widgets/base",
      "model_module_version": "1.1.0",
      "model_name": "LayoutModel",
      "state": {
       "justify_content": "center"
      }
     },
     "be4e77cd1c6447849eff4a4a17a83931": {
      "model_module": "@jupyter-widgets/controls",
      "model_module_version": "1.4.0",
      "model_name": "DescriptionStyleModel",
      "state": {
       "description_width": ""
      }
     },
     "beb14edcd4ed4bca8c2940d82f724830": {
      "model_module": "@jupyter-widgets/controls",
      "model_module_version": "1.4.0",
      "model_name": "ButtonStyleModel",
      "state": {}
     },
     "bf3eea8d62a0460fb2dadaa0ac8a3ecd": {
      "model_module": "@jupyter-widgets/base",
      "model_module_version": "1.1.0",
      "model_name": "LayoutModel",
      "state": {}
     },
     "bf4392f826f44a5898188b08a318d708": {
      "model_module": "@jupyter-widgets/controls",
      "model_module_version": "1.4.0",
      "model_name": "HTMLModel",
      "state": {
       "layout": "IPY_MODEL_fc28b31383aa4d42b9d40eb9cef094e4",
       "style": "IPY_MODEL_abd333d67a324f12909f89d3f96f2288",
       "value": "<i>Wählen Sie die <ins>eine</ins> korrekte Antwort aus: </i>"
      }
     },
     "bf4435b4804845549755d298ea93c36a": {
      "model_module": "@jupyter-widgets/base",
      "model_module_version": "1.1.0",
      "model_name": "LayoutModel",
      "state": {}
     },
     "bf7f2303ef1c45f9972d755746321afc": {
      "model_module": "@jupyter-widgets/controls",
      "model_module_version": "1.4.0",
      "model_name": "DescriptionStyleModel",
      "state": {
       "description_width": "initial"
      }
     },
     "bff7c80fdcd040e38b47aa06c9f3707a": {
      "model_module": "@jupyter-widgets/controls",
      "model_module_version": "1.4.0",
      "model_name": "ButtonModel",
      "state": {
       "description": "Temporale Ambiguität",
       "layout": "IPY_MODEL_9337298393d64533a9e457527613de3e",
       "style": "IPY_MODEL_cf5ab1a6ed4e45c8b5fef16b11b05641"
      }
     },
     "c1c5c59ed9394766afbca2007c63282d": {
      "model_module": "@jupyter-widgets/controls",
      "model_module_version": "1.4.0",
      "model_name": "CheckboxModel",
      "state": {
       "description": "Ihre Wahrscheinlichkeiten sind zu gering.",
       "disabled": false,
       "layout": "IPY_MODEL_af90853668da464facf4a415d76c9fb8",
       "style": "IPY_MODEL_73d0e41b4fc64aeeaafd7677b82ef9bb",
       "value": false
      }
     },
     "c1d2bba4b56e419195a2aae932f0a41b": {
      "model_module": "@jupyter-widgets/base",
      "model_module_version": "1.1.0",
      "model_name": "LayoutModel",
      "state": {}
     },
     "c1f8fc31b1d84ebb9b51fad9cdaf4446": {
      "model_module": "@jupyter-widgets/controls",
      "model_module_version": "1.4.0",
      "model_name": "DescriptionStyleModel",
      "state": {
       "description_width": ""
      }
     },
     "c1fb113a4ac34fa38772bd466655af15": {
      "model_module": "@jupyter-widgets/controls",
      "model_module_version": "1.4.0",
      "model_name": "ButtonModel",
      "state": {
       "description": "Koordinationsambiguität",
       "layout": "IPY_MODEL_44e1e3f5cff3472fb43f77466eac3b91",
       "style": "IPY_MODEL_d3c9b4491914442ba595ee012e70653c"
      }
     },
     "c31a2f2f76564045ac58ed7037ad65e0": {
      "model_module": "@jupyter-widgets/base",
      "model_module_version": "1.1.0",
      "model_name": "LayoutModel",
      "state": {
       "width": "250px"
      }
     },
     "c32c7994ed6d4dd7a7a836ee874b7c7d": {
      "model_module": "@jupyter-widgets/base",
      "model_module_version": "1.1.0",
      "model_name": "LayoutModel",
      "state": {}
     },
     "c3bb7d6ad6724a889f469f11496c1b70": {
      "model_module": "@jupyter-widgets/controls",
      "model_module_version": "1.4.0",
      "model_name": "HBoxModel",
      "state": {
       "children": [
        "IPY_MODEL_a88bd4a39894486d9f6d607bf2abb73e",
        "IPY_MODEL_8281ca76c7bc4c98bd51642589b16d13"
       ],
       "layout": "IPY_MODEL_1e73300da08d4006af611e52e3f294a0"
      }
     },
     "c4a6f30eeafe428790b14a325d810dd5": {
      "model_module": "@jupyter-widgets/controls",
      "model_module_version": "1.4.0",
      "model_name": "ButtonStyleModel",
      "state": {}
     },
     "c4e4e64421e94e1bb5ea6981a8ff14d8": {
      "model_module": "@jupyter-widgets/base",
      "model_module_version": "1.1.0",
      "model_name": "LayoutModel",
      "state": {}
     },
     "c54f3fc42af54335a0f354a53971b210": {
      "model_module": "@jupyter-widgets/controls",
      "model_module_version": "1.4.0",
      "model_name": "HTMLModel",
      "state": {
       "layout": "IPY_MODEL_c1d2bba4b56e419195a2aae932f0a41b",
       "style": "IPY_MODEL_6988247e3b6149e0982540d4c04df926",
       "value": "<h4 style=\"font-size:14px;\">Warum werden die Analysen in den Discard-Zeilen verworfen?</h4>"
      }
     },
     "c5582b7984f845ab9a3cf4ded2d9a27e": {
      "model_module": "@jupyter-widgets/controls",
      "model_module_version": "1.4.0",
      "model_name": "DescriptionStyleModel",
      "state": {
       "description_width": "initial"
      }
     },
     "c5b57bdaec4d488ea5cb4ef87d1bb54e": {
      "model_module": "@jupyter-widgets/base",
      "model_module_version": "1.1.0",
      "model_name": "LayoutModel",
      "state": {
       "width": "600px"
      }
     },
     "c616cd2c6e8f40f4a3f69fe97a448a06": {
      "model_module": "@jupyter-widgets/controls",
      "model_module_version": "1.4.0",
      "model_name": "DescriptionStyleModel",
      "state": {
       "description_width": ""
      }
     },
     "c696027dbadc476d9ab76190e1ce7b5b": {
      "model_module": "@jupyter-widgets/controls",
      "model_module_version": "1.4.0",
      "model_name": "DescriptionStyleModel",
      "state": {
       "description_width": ""
      }
     },
     "c81f3fcb0aa349b780adc8b9aa19ff5e": {
      "model_module": "@jupyter-widgets/controls",
      "model_module_version": "1.4.0",
      "model_name": "HBoxModel",
      "state": {
       "children": [
        "IPY_MODEL_0aabab9d46de4f6280b5bcf89717bef8",
        "IPY_MODEL_8b9a220ade664dcfb80c2819b7f06775"
       ],
       "layout": "IPY_MODEL_cae2b9dcd6ea4122bf212dc54ad8fb15"
      }
     },
     "c9058ca87405476c8373e91da7c394e3": {
      "model_module": "@jupyter-widgets/controls",
      "model_module_version": "1.4.0",
      "model_name": "ButtonModel",
      "state": {
       "description": "nach der beam-size",
       "layout": "IPY_MODEL_f8b00a8c0a3a48b6b1053820b928a009",
       "style": "IPY_MODEL_64f1c6f95536454eac1505e230725de6"
      }
     },
     "c9236656c76a457c98d1c5a8441593e7": {
      "model_module": "@jupyter-widgets/base",
      "model_module_version": "1.1.0",
      "model_name": "LayoutModel",
      "state": {
       "width": "250px"
      }
     },
     "ca28d688afe34a06a42321c58496635b": {
      "model_module": "@jupyter-widgets/controls",
      "model_module_version": "1.4.0",
      "model_name": "HTMLModel",
      "state": {
       "layout": "IPY_MODEL_e9aba725723c4d4088185c64b3e167ae",
       "style": "IPY_MODEL_081c34500d6f42929b180c127f9764ce",
       "value": "<i>Wählen Sie die <ins>eine</ins> korrekte Antwort aus: </i>"
      }
     },
     "ca85b8a2117d4a16af280f34b0b9a4d9": {
      "model_module": "@jupyter-widgets/base",
      "model_module_version": "1.1.0",
      "model_name": "LayoutModel",
      "state": {}
     },
     "cae2b9dcd6ea4122bf212dc54ad8fb15": {
      "model_module": "@jupyter-widgets/base",
      "model_module_version": "1.1.0",
      "model_name": "LayoutModel",
      "state": {}
     },
     "cafd6fd68a334d0d971871eb4c4a0a63": {
      "model_module": "@jupyter-widgets/controls",
      "model_module_version": "1.4.0",
      "model_name": "ButtonModel",
      "state": {
       "description": "LongestChartParser",
       "layout": "IPY_MODEL_6882bc17e13c497eb7f2cea5daaf7c4c",
       "style": "IPY_MODEL_9fdee72cbbaf4101a03d3aeab4f9c39b"
      }
     },
     "cb72fa70dcb944ebbb6176f39e9a531b": {
      "model_module": "@jupyter-widgets/controls",
      "model_module_version": "1.4.0",
      "model_name": "ButtonModel",
      "state": {
       "description": "nach der Länge der Ableitung",
       "layout": "IPY_MODEL_9f336fd0ff404da19ac0939c180fdefa",
       "style": "IPY_MODEL_f4f703d0fab54c90a1d5306fbcd57272"
      }
     },
     "cc36fcf85bec4f92bc8cc0fe93521d30": {
      "model_module": "@jupyter-widgets/base",
      "model_module_version": "1.1.0",
      "model_name": "LayoutModel",
      "state": {
       "width": "250px"
      }
     },
     "cc69097a24c34b30b4ac63dc7a1306df": {
      "model_module": "@jupyter-widgets/base",
      "model_module_version": "1.1.0",
      "model_name": "LayoutModel",
      "state": {}
     },
     "cd5ee796a92b433e95f4a9a95ff3eb0c": {
      "model_module": "@jupyter-widgets/controls",
      "model_module_version": "1.4.0",
      "model_name": "ButtonModel",
      "state": {
       "description": "ViterbiParser",
       "layout": "IPY_MODEL_32ca47ad3879456e805b9f542818da7f",
       "style": "IPY_MODEL_c4a6f30eeafe428790b14a325d810dd5"
      }
     },
     "ce9d9a575599450ea6ea50a9a2f61786": {
      "model_module": "@jupyter-widgets/base",
      "model_module_version": "1.1.0",
      "model_name": "LayoutModel",
      "state": {}
     },
     "ce9e57513ea44c379451e77a0dd71455": {
      "model_module": "@jupyter-widgets/base",
      "model_module_version": "1.1.0",
      "model_name": "LayoutModel",
      "state": {}
     },
     "cea07105bd244db580d4fb3d731a131c": {
      "model_module": "@jupyter-widgets/controls",
      "model_module_version": "1.4.0",
      "model_name": "HBoxModel",
      "state": {
       "children": [
        "IPY_MODEL_3e57728d4cf2425d9a158f549db6d762",
        "IPY_MODEL_942ec9797adc40a4932f72197251e5f6"
       ],
       "layout": "IPY_MODEL_78cf10be805d481787bb7d28b095a756"
      }
     },
     "cf5ab1a6ed4e45c8b5fef16b11b05641": {
      "model_module": "@jupyter-widgets/controls",
      "model_module_version": "1.4.0",
      "model_name": "ButtonStyleModel",
      "state": {}
     },
     "cfd8e465fab54e99b99a94e139871250": {
      "model_module": "@jupyter-widgets/base",
      "model_module_version": "1.1.0",
      "model_name": "LayoutModel",
      "state": {}
     },
     "d012c472d51742e2acd92c967c331e40": {
      "model_module": "@jupyter-widgets/controls",
      "model_module_version": "1.4.0",
      "model_name": "ButtonStyleModel",
      "state": {}
     },
     "d0d8321fffc94baf93b7a22f32c06d2c": {
      "model_module": "@jupyter-widgets/controls",
      "model_module_version": "1.4.0",
      "model_name": "ButtonModel",
      "state": {
       "description": "LongestChartParser",
       "layout": "IPY_MODEL_b858e88ff00c40c49276875c8724a19d",
       "style": "IPY_MODEL_f727d8f216f64e9684bbc9ec625133d6"
      }
     },
     "d0f91dd0507240b3bcae9e0b21b44ed7": {
      "model_module": "@jupyter-widgets/base",
      "model_module_version": "1.1.0",
      "model_name": "LayoutModel",
      "state": {
       "width": "250px"
      }
     },
     "d17476286f394f18afe8ab075228d630": {
      "model_module": "@jupyter-widgets/base",
      "model_module_version": "1.1.0",
      "model_name": "LayoutModel",
      "state": {}
     },
     "d1a28f26060840fa9b47fd014bb20750": {
      "model_module": "@jupyter-widgets/controls",
      "model_module_version": "1.4.0",
      "model_name": "ButtonModel",
      "state": {
       "description": "Lösung zeigen",
       "layout": "IPY_MODEL_0cf35aa5a9d14049984b2a8b3c665396",
       "style": "IPY_MODEL_beb14edcd4ed4bca8c2940d82f724830"
      }
     },
     "d299c1b1a227489f9f9232629772a287": {
      "model_module": "@jupyter-widgets/controls",
      "model_module_version": "1.4.0",
      "model_name": "VBoxModel",
      "state": {
       "children": [
        "IPY_MODEL_0fdc1fc0835e47e98a33796f29b2d74c",
        "IPY_MODEL_06156a06beaa4169b87d44abbf857c65",
        "IPY_MODEL_7f6a63f9457e4a9ab8b7b41f901aeb22",
        "IPY_MODEL_98898ab7eee849b4b1a4ab64644aff24"
       ],
       "layout": "IPY_MODEL_86e7d52c7dd340bfbbbd38c2a5d659f3"
      }
     },
     "d2b4b497247f470c8dda38877b831cb2": {
      "model_module": "@jupyter-widgets/controls",
      "model_module_version": "1.4.0",
      "model_name": "HTMLModel",
      "state": {
       "layout": "IPY_MODEL_4f836cca5f7e438983832a32b7be4803",
       "style": "IPY_MODEL_c696027dbadc476d9ab76190e1ce7b5b",
       "value": "<i>Wählen Sie die <ins>eine</ins> korrekte Antwort aus: </i>"
      }
     },
     "d2e1b013a40644e3afb7969354d0e1e9": {
      "model_module": "@jupyter-widgets/controls",
      "model_module_version": "1.4.0",
      "model_name": "DescriptionStyleModel",
      "state": {
       "description_width": ""
      }
     },
     "d2f1db866d4e4f1f84e50e2ae83526ca": {
      "model_module": "@jupyter-widgets/controls",
      "model_module_version": "1.4.0",
      "model_name": "ButtonStyleModel",
      "state": {}
     },
     "d35c712edde44c24b4d724c3dc5593ad": {
      "model_module": "@jupyter-widgets/controls",
      "model_module_version": "1.4.0",
      "model_name": "ButtonStyleModel",
      "state": {}
     },
     "d3c9b4491914442ba595ee012e70653c": {
      "model_module": "@jupyter-widgets/controls",
      "model_module_version": "1.4.0",
      "model_name": "ButtonStyleModel",
      "state": {}
     },
     "d3d107ada0184929b38260042d2adc9f": {
      "model_module": "@jupyter-widgets/base",
      "model_module_version": "1.1.0",
      "model_name": "LayoutModel",
      "state": {}
     },
     "d3da8fa8c487423f9b069f19a7d5e3cb": {
      "model_module": "@jupyter-widgets/base",
      "model_module_version": "1.1.0",
      "model_name": "LayoutModel",
      "state": {
       "justify_content": "center"
      }
     },
     "d3e852389dbc4fb084029985a4e935ba": {
      "model_module": "@jupyter-widgets/controls",
      "model_module_version": "1.4.0",
      "model_name": "DescriptionStyleModel",
      "state": {
       "description_width": "initial"
      }
     },
     "d574f769e65a4da8ab03544aa4252346": {
      "model_module": "@jupyter-widgets/base",
      "model_module_version": "1.1.0",
      "model_name": "LayoutModel",
      "state": {}
     },
     "d5fff9437dca4117ba6f38f26ed7500b": {
      "model_module": "@jupyter-widgets/controls",
      "model_module_version": "1.4.0",
      "model_name": "CheckboxModel",
      "state": {
       "description": "Die Analysen sind mit der gegebenen Grammatik nicht möglich.",
       "disabled": false,
       "layout": "IPY_MODEL_14f9967e5f624026bfa188ffcba52481",
       "style": "IPY_MODEL_9844dcd8549447f68ae4794f7b77b8e2",
       "value": false
      }
     },
     "d785ef854b004a94a578acbdfdb7b382": {
      "model_module": "@jupyter-widgets/controls",
      "model_module_version": "1.4.0",
      "model_name": "ButtonModel",
      "state": {
       "description": "Temporale Ambiguität",
       "layout": "IPY_MODEL_4381718b8ccd41d89b5441f67a1bed41",
       "style": "IPY_MODEL_66b62d2c8d764a12b1297779cd85cd65"
      }
     },
     "d7cd9b2f2aae464e831b3d1bfa2ba687": {
      "model_module": "@jupyter-widgets/controls",
      "model_module_version": "1.4.0",
      "model_name": "HTMLModel",
      "state": {
       "layout": "IPY_MODEL_7c0756a3f30a4917a213f5143894217d",
       "style": "IPY_MODEL_c616cd2c6e8f40f4a3f69fe97a448a06",
       "value": "<i>Wählen Sie die <ins>eine</ins> korrekte Antwort aus: </i>"
      }
     },
     "d84e84a74d62426c8484493802db05f9": {
      "model_module": "@jupyter-widgets/base",
      "model_module_version": "1.1.0",
      "model_name": "LayoutModel",
      "state": {}
     },
     "d931b64c30b341df871f1a4a5990177d": {
      "model_module": "@jupyter-widgets/controls",
      "model_module_version": "1.4.0",
      "model_name": "HBoxModel",
      "state": {
       "children": [
        "IPY_MODEL_ee2cbd68056644b79eaf37b5b2aa21d2",
        "IPY_MODEL_344abca2fe7a4f079d662f358452c631"
       ],
       "layout": "IPY_MODEL_8b387a87b3204af89d32f2444d012b2e"
      }
     },
     "d9aa7cabeb754c2ea0bc71d8d1b4af36": {
      "model_module": "@jupyter-widgets/controls",
      "model_module_version": "1.4.0",
      "model_name": "DescriptionStyleModel",
      "state": {
       "description_width": ""
      }
     },
     "d9d2138914a34e13893e5c430e776b20": {
      "model_module": "@jupyter-widgets/base",
      "model_module_version": "1.1.0",
      "model_name": "LayoutModel",
      "state": {}
     },
     "da148bc3b29d4c659fc12ff147eb0a56": {
      "model_module": "@jupyter-widgets/controls",
      "model_module_version": "1.4.0",
      "model_name": "HBoxModel",
      "state": {
       "children": [
        "IPY_MODEL_ded32d1d511d4fb89332ea119bf1f1e5",
        "IPY_MODEL_dafcc437dffe46ec8131364472f347dc"
       ],
       "layout": "IPY_MODEL_61850050551a46a59221ad90a7f662e1"
      }
     },
     "da6a14dc0683464e9e890927170c68f2": {
      "model_module": "@jupyter-widgets/controls",
      "model_module_version": "1.4.0",
      "model_name": "HTMLModel",
      "state": {
       "layout": "IPY_MODEL_028555740a5d423bbdfe55302ce87896",
       "style": "IPY_MODEL_082e38639293417188800f20ed60aafd",
       "value": "<h4 style=\"font-size:14px;\">Nach welchem Kriterium wird beim Parsen mit dem InsideChartParser (= <i>Lowest-Cost-First</i>-Strategie) die <i>edge queue</i> sortiert?</h4>"
      }
     },
     "da9c83634ecb45a7a19e6263ce38d023": {
      "model_module": "@jupyter-widgets/controls",
      "model_module_version": "1.4.0",
      "model_name": "DescriptionStyleModel",
      "state": {
       "description_width": ""
      }
     },
     "daa4989ee23943dea9aafef829f77644": {
      "model_module": "@jupyter-widgets/base",
      "model_module_version": "1.1.0",
      "model_name": "LayoutModel",
      "state": {}
     },
     "dadd50841166431da815d700caef0a64": {
      "model_module": "@jupyter-widgets/base",
      "model_module_version": "1.1.0",
      "model_name": "LayoutModel",
      "state": {}
     },
     "dafcc437dffe46ec8131364472f347dc": {
      "model_module": "@jupyter-widgets/controls",
      "model_module_version": "1.4.0",
      "model_name": "ButtonModel",
      "state": {
       "description": "nach der Wahrscheinlichkeit",
       "layout": "IPY_MODEL_3dc87286e8b34f0cbf961430f06659e3",
       "style": "IPY_MODEL_31fd54f792be4f528676a77266d0a69b"
      }
     },
     "dc5d5c1946894126921d936764721e5f": {
      "model_module": "@jupyter-widgets/controls",
      "model_module_version": "1.4.0",
      "model_name": "ButtonModel",
      "state": {
       "description": "Koordinationsambiguität",
       "layout": "IPY_MODEL_8d04ae34000e49c6915df9506adb4092",
       "style": "IPY_MODEL_066f358ef4574bcab432de0b67e50030"
      }
     },
     "dc9de8a63ded4645be5b5b9650d91453": {
      "model_module": "@jupyter-widgets/controls",
      "model_module_version": "1.4.0",
      "model_name": "DescriptionStyleModel",
      "state": {
       "description_width": ""
      }
     },
     "dd26e07bebe4459591b2c0e38e8eda1b": {
      "model_module": "@jupyter-widgets/base",
      "model_module_version": "1.1.0",
      "model_name": "LayoutModel",
      "state": {}
     },
     "de5053e9075f449eb2d29c807147428f": {
      "model_module": "@jupyter-widgets/controls",
      "model_module_version": "1.4.0",
      "model_name": "DescriptionStyleModel",
      "state": {
       "description_width": ""
      }
     },
     "de5268e9647d4c949bc1631531013e0b": {
      "model_module": "@jupyter-widgets/controls",
      "model_module_version": "1.4.0",
      "model_name": "HBoxModel",
      "state": {
       "children": [
        "IPY_MODEL_c9058ca87405476c8373e91da7c394e3"
       ],
       "layout": "IPY_MODEL_7ce73e92366244b4ae2dd1cfdbc1060b"
      }
     },
     "de635650f69f4654af748694dbff52a6": {
      "model_module": "@jupyter-widgets/base",
      "model_module_version": "1.1.0",
      "model_name": "LayoutModel",
      "state": {
       "width": "250px"
      }
     },
     "de8a0018d5e5429cb19c4fcdc2af01b9": {
      "model_module": "@jupyter-widgets/controls",
      "model_module_version": "1.4.0",
      "model_name": "HTMLModel",
      "state": {
       "layout": "IPY_MODEL_f491730a6b9e4734b706c5120c2c3c6c",
       "style": "IPY_MODEL_61c948e659a043b4bca05446f039ac58",
       "value": "<h4 style=\"font-size:14px;\">Berechnen Sie die Wahrscheinlichkeit für die Ableitung in der letzten Zeile.</h4>"
      }
     },
     "de9030dc4fb64c16ac298722b057cda8": {
      "model_module": "@jupyter-widgets/controls",
      "model_module_version": "1.4.0",
      "model_name": "CheckboxModel",
      "state": {
       "description": "Ihre Wahrscheinlichkeiten sind zu gering.",
       "disabled": false,
       "layout": "IPY_MODEL_93dd00cd49da48fe90887a473018ffaa",
       "style": "IPY_MODEL_9f3092c23b074a3db50c4cdd2b62a9c1",
       "value": false
      }
     },
     "de945c2ee8314ac0bcc7a4d01686c6df": {
      "model_module": "@jupyter-widgets/controls",
      "model_module_version": "1.4.0",
      "model_name": "DescriptionStyleModel",
      "state": {
       "description_width": ""
      }
     },
     "ded32d1d511d4fb89332ea119bf1f1e5": {
      "model_module": "@jupyter-widgets/controls",
      "model_module_version": "1.4.0",
      "model_name": "ButtonModel",
      "state": {
       "description": "nach der Länge der Ableitung",
       "layout": "IPY_MODEL_cc36fcf85bec4f92bc8cc0fe93521d30",
       "style": "IPY_MODEL_46861b339c8c41baaa64bbf113231e27"
      }
     },
     "def128391a51464499db772eaf3b54a1": {
      "model_module": "@jupyter-widgets/controls",
      "model_module_version": "1.4.0",
      "model_name": "ButtonStyleModel",
      "state": {}
     },
     "e043e666e8ae48fd89db3fe389821575": {
      "model_module": "@jupyter-widgets/controls",
      "model_module_version": "1.4.0",
      "model_name": "ButtonStyleModel",
      "state": {}
     },
     "e0fcda091e4440828eb401f65f90915f": {
      "model_module": "@jupyter-widgets/controls",
      "model_module_version": "1.4.0",
      "model_name": "DescriptionStyleModel",
      "state": {
       "description_width": ""
      }
     },
     "e116ede6de6241aea6eb44b0694a7ef2": {
      "model_module": "@jupyter-widgets/controls",
      "model_module_version": "1.4.0",
      "model_name": "DescriptionStyleModel",
      "state": {
       "description_width": ""
      }
     },
     "e3c8c453e7014626b843689e2bf2fe4b": {
      "model_module": "@jupyter-widgets/base",
      "model_module_version": "1.1.0",
      "model_name": "LayoutModel",
      "state": {
       "width": "600px"
      }
     },
     "e4638fd51cc341b799f8a7b24ffa6926": {
      "model_module": "@jupyter-widgets/controls",
      "model_module_version": "1.4.0",
      "model_name": "DescriptionStyleModel",
      "state": {
       "description_width": ""
      }
     },
     "e49b86582db94194b05d47bb0d3948fe": {
      "model_module": "@jupyter-widgets/base",
      "model_module_version": "1.1.0",
      "model_name": "LayoutModel",
      "state": {
       "width": "250px"
      }
     },
     "e5925ca5804a4aeb923f2e0c2a2fc4c0": {
      "model_module": "@jupyter-widgets/base",
      "model_module_version": "1.1.0",
      "model_name": "LayoutModel",
      "state": {}
     },
     "e5a6f6f8b33244288324cd8ee652ce0c": {
      "model_module": "@jupyter-widgets/controls",
      "model_module_version": "1.4.0",
      "model_name": "ButtonStyleModel",
      "state": {
       "button_color": "lightgreen"
      }
     },
     "e650a3e49f3146118fec4799ffa2dd40": {
      "model_module": "@jupyter-widgets/base",
      "model_module_version": "1.1.0",
      "model_name": "LayoutModel",
      "state": {}
     },
     "e677f467e4ed4dc1b334c8e8bdfc6f2f": {
      "model_module": "@jupyter-widgets/base",
      "model_module_version": "1.1.0",
      "model_name": "LayoutModel",
      "state": {
       "width": "250px"
      }
     },
     "e67e871956c54b20993b845b9b61d280": {
      "model_module": "@jupyter-widgets/controls",
      "model_module_version": "1.4.0",
      "model_name": "VBoxModel",
      "state": {
       "children": [
        "IPY_MODEL_21b42b944d4a4676b55d8886e1ceaedb",
        "IPY_MODEL_d7cd9b2f2aae464e831b3d1bfa2ba687",
        "IPY_MODEL_cea07105bd244db580d4fb3d731a131c",
        "IPY_MODEL_ec61b8cf53be4007b0e30f4b520f9edd"
       ],
       "layout": "IPY_MODEL_ca85b8a2117d4a16af280f34b0b9a4d9"
      }
     },
     "e712992186c4460998137f80bc5f8bed": {
      "model_module": "@jupyter-widgets/controls",
      "model_module_version": "1.4.0",
      "model_name": "VBoxModel",
      "state": {
       "children": [
        "IPY_MODEL_a79aa589231e4348993b8d77f39c0ea1",
        "IPY_MODEL_11417a866cc04e54be399b9277b1ce7a",
        "IPY_MODEL_da148bc3b29d4c659fc12ff147eb0a56",
        "IPY_MODEL_49641721299b474badf19d5c30551e20"
       ],
       "layout": "IPY_MODEL_51e67c5c7dc8489996105db7efd494e5"
      }
     },
     "e71a6d6ab30948df945e37b369ae9a5c": {
      "model_module": "@jupyter-widgets/base",
      "model_module_version": "1.1.0",
      "model_name": "LayoutModel",
      "state": {
       "justify_content": "center"
      }
     },
     "e722ff59c5884b5c9f5ffd419225fe91": {
      "model_module": "@jupyter-widgets/controls",
      "model_module_version": "1.4.0",
      "model_name": "DescriptionStyleModel",
      "state": {
       "description_width": ""
      }
     },
     "e776f252491b40369a32c6f4ecfff439": {
      "model_module": "@jupyter-widgets/controls",
      "model_module_version": "1.4.0",
      "model_name": "DescriptionStyleModel",
      "state": {
       "description_width": ""
      }
     },
     "e9aba725723c4d4088185c64b3e167ae": {
      "model_module": "@jupyter-widgets/base",
      "model_module_version": "1.1.0",
      "model_name": "LayoutModel",
      "state": {
       "justify_content": "center"
      }
     },
     "ea57cb54dd0343189b5f0c527328bcb1": {
      "model_module": "@jupyter-widgets/base",
      "model_module_version": "1.1.0",
      "model_name": "LayoutModel",
      "state": {
       "width": "250px"
      }
     },
     "ec3c10a329574e5383dcd51ebf78b727": {
      "model_module": "@jupyter-widgets/controls",
      "model_module_version": "1.4.0",
      "model_name": "ButtonModel",
      "state": {
       "description": "nach der beam-size",
       "layout": "IPY_MODEL_8ddd07790d3e43c58cf771aff5826865",
       "style": "IPY_MODEL_b16986cbf3be474ca39ed05947d0443d"
      }
     },
     "ec61b8cf53be4007b0e30f4b520f9edd": {
      "model_module": "@jupyter-widgets/controls",
      "model_module_version": "1.4.0",
      "model_name": "HBoxModel",
      "state": {
       "children": [
        "IPY_MODEL_47a3e2c7158348f69658c0558ffeabf9",
        "IPY_MODEL_16e46904f5e442f1a8a9c2ac895d39d0"
       ],
       "layout": "IPY_MODEL_8fec40f93d324d4a831980f34656d777"
      }
     },
     "ec871efd6b384e2abbc136098a357291": {
      "model_module": "@jupyter-widgets/controls",
      "model_module_version": "1.4.0",
      "model_name": "ButtonStyleModel",
      "state": {}
     },
     "ed206a7d0aad4d7fbfc57e0e0fa79ddd": {
      "model_module": "@jupyter-widgets/base",
      "model_module_version": "1.1.0",
      "model_name": "LayoutModel",
      "state": {
       "width": "600px"
      }
     },
     "eda9585f90c4407381304052196b3249": {
      "model_module": "@jupyter-widgets/controls",
      "model_module_version": "1.4.0",
      "model_name": "ButtonModel",
      "state": {
       "description": "ViterbiParser",
       "layout": "IPY_MODEL_7539f1a9bf5e4fc196e415de58398247",
       "style": "IPY_MODEL_9e64eaa754a34ed0b788271109693b8f"
      }
     },
     "edb8ee62892c4ff5b780cd09ab8c57b2": {
      "model_module": "@jupyter-widgets/controls",
      "model_module_version": "1.4.0",
      "model_name": "DescriptionStyleModel",
      "state": {
       "description_width": ""
      }
     },
     "ee2cbd68056644b79eaf37b5b2aa21d2": {
      "model_module": "@jupyter-widgets/controls",
      "model_module_version": "1.4.0",
      "model_name": "ButtonModel",
      "state": {
       "description": "InsideChartParser",
       "layout": "IPY_MODEL_69e0ed1577fd4102b81d5386da437204",
       "style": "IPY_MODEL_bb5b4f60e0064dd38490ca37c66a9ef7"
      }
     },
     "ee6775d947224ac895dc661fb5f1740e": {
      "model_module": "@jupyter-widgets/controls",
      "model_module_version": "1.4.0",
      "model_name": "VBoxModel",
      "state": {
       "children": [
        "IPY_MODEL_f1fa3269c0264f96bc12dc34c7e78a4c",
        "IPY_MODEL_8cbc7bf682a94888aa8a00fcb6c43f7a",
        "IPY_MODEL_76ff6ee81a6e413280dbd2d1e5ac57ce",
        "IPY_MODEL_b313168a79bc4409838c6c9453a83909"
       ],
       "layout": "IPY_MODEL_59977d0c114d4f428823cbad84b8af6d"
      }
     },
     "ee75a5f098a54e34b86bd991d27e1adc": {
      "model_module": "@jupyter-widgets/controls",
      "model_module_version": "1.4.0",
      "model_name": "ButtonStyleModel",
      "state": {}
     },
     "eeb63f8aca924903a0724aec42a4a3cb": {
      "model_module": "@jupyter-widgets/controls",
      "model_module_version": "1.4.0",
      "model_name": "VBoxModel",
      "state": {
       "children": [
        "IPY_MODEL_2772b5841b7d4635b7542570f2fec16a",
        "IPY_MODEL_d2b4b497247f470c8dda38877b831cb2",
        "IPY_MODEL_047a45f906bd4733bd754fea9f2b88bc",
        "IPY_MODEL_3864f6f4437b43c492ec1ec7d269e053"
       ],
       "layout": "IPY_MODEL_78bb614a3afe4c24b8b935a7128bde0c"
      }
     },
     "ef4acf3eeca04612b531c101f0def387": {
      "model_module": "@jupyter-widgets/controls",
      "model_module_version": "1.4.0",
      "model_name": "DescriptionStyleModel",
      "state": {
       "description_width": ""
      }
     },
     "f00bde6ee536443994a8411560339846": {
      "model_module": "@jupyter-widgets/controls",
      "model_module_version": "1.4.0",
      "model_name": "DescriptionStyleModel",
      "state": {
       "description_width": "initial"
      }
     },
     "f00d533018f1419c992db8d6d8ed56df": {
      "model_module": "@jupyter-widgets/controls",
      "model_module_version": "1.4.0",
      "model_name": "HTMLModel",
      "state": {
       "layout": "IPY_MODEL_b397be2c917f414da26b31dd79a96ef9",
       "style": "IPY_MODEL_35526e61d8de44a9a6f543f665c56ead",
       "value": "<h4 style=\"font-size:14px;\">Um welchen Parser kann es sich nicht handeln?</h4>"
      }
     },
     "f1c9fc75db2c47718ec83efa780c3bdc": {
      "model_module": "@jupyter-widgets/controls",
      "model_module_version": "1.4.0",
      "model_name": "HBoxModel",
      "state": {
       "children": [
        "IPY_MODEL_7aa0e775e7ee4cecbf47bfb989fb8a07",
        "IPY_MODEL_5694f7e2b52e4616a1860973e43c4215"
       ],
       "layout": "IPY_MODEL_bb8131ccc74b48919c9c4a35e2b8a2cc"
      }
     },
     "f1db27377b994bbf8e80443c6e324fc2": {
      "model_module": "@jupyter-widgets/base",
      "model_module_version": "1.1.0",
      "model_name": "LayoutModel",
      "state": {}
     },
     "f1f779cd7ec542c18ce2b62363df1cb4": {
      "model_module": "@jupyter-widgets/base",
      "model_module_version": "1.1.0",
      "model_name": "LayoutModel",
      "state": {
       "justify_content": "center"
      }
     },
     "f1fa3269c0264f96bc12dc34c7e78a4c": {
      "model_module": "@jupyter-widgets/controls",
      "model_module_version": "1.4.0",
      "model_name": "HTMLModel",
      "state": {
       "layout": "IPY_MODEL_6972f46bc9194528a5ba426fc2bec507",
       "style": "IPY_MODEL_8f5ee691d46a44b0973f504e504ed45b",
       "value": "<h4 style=\"font-size:14px;\">Warum werden die Analysen in den Discard-Zeilen verworfen?</h4>"
      }
     },
     "f1fa9ba3738e4a5999a216d3e9a2857c": {
      "model_module": "@jupyter-widgets/controls",
      "model_module_version": "1.4.0",
      "model_name": "DescriptionStyleModel",
      "state": {
       "description_width": ""
      }
     },
     "f2347dbdf05c48e9889e0c67cec4a0d7": {
      "model_module": "@jupyter-widgets/controls",
      "model_module_version": "1.4.0",
      "model_name": "ButtonModel",
      "state": {
       "description": "Temporale Ambiguität",
       "layout": "IPY_MODEL_0c6791a611084a9ab05e9fb9a1f03896",
       "style": "IPY_MODEL_54fd8234b4a04cf9a9d2f90ff750c1d1"
      }
     },
     "f31bf8e643c24f479345f3e02a99eb0b": {
      "model_module": "@jupyter-widgets/controls",
      "model_module_version": "1.4.0",
      "model_name": "VBoxModel",
      "state": {
       "children": [
        "IPY_MODEL_4a566ada8c0940e7bacd7bcdf2ec4bbd",
        "IPY_MODEL_27675156389943d98c2d4f16b8ebb71b",
        "IPY_MODEL_bd57aeed3d95433497631c0830918adc",
        "IPY_MODEL_8f831f2f6b08475ea6a783609ef60d83"
       ],
       "layout": "IPY_MODEL_f1db27377b994bbf8e80443c6e324fc2"
      }
     },
     "f491730a6b9e4734b706c5120c2c3c6c": {
      "model_module": "@jupyter-widgets/base",
      "model_module_version": "1.1.0",
      "model_name": "LayoutModel",
      "state": {}
     },
     "f4f703d0fab54c90a1d5306fbcd57272": {
      "model_module": "@jupyter-widgets/controls",
      "model_module_version": "1.4.0",
      "model_name": "ButtonStyleModel",
      "state": {}
     },
     "f5360891b18940f19e5563196c2f9fff": {
      "model_module": "@jupyter-widgets/controls",
      "model_module_version": "1.4.0",
      "model_name": "CheckboxModel",
      "state": {
       "description": "Die Analysen sind mit der gegebenen Grammatik nicht möglich.",
       "disabled": false,
       "layout": "IPY_MODEL_2223066093f649fa871d085988af4b09",
       "style": "IPY_MODEL_c5582b7984f845ab9a3cf4ded2d9a27e",
       "value": false
      }
     },
     "f60742c7aaed49b286fa84e05ed0efbf": {
      "model_module": "@jupyter-widgets/base",
      "model_module_version": "1.1.0",
      "model_name": "LayoutModel",
      "state": {}
     },
     "f6929337a20a414aa8e771b17f0fd4e8": {
      "model_module": "@jupyter-widgets/controls",
      "model_module_version": "1.4.0",
      "model_name": "DescriptionStyleModel",
      "state": {
       "description_width": ""
      }
     },
     "f6c9c3d4b03740ae8cfab7073300812f": {
      "model_module": "@jupyter-widgets/controls",
      "model_module_version": "1.4.0",
      "model_name": "DescriptionStyleModel",
      "state": {
       "description_width": ""
      }
     },
     "f70e336e49d148389e7c32314840da79": {
      "model_module": "@jupyter-widgets/base",
      "model_module_version": "1.1.0",
      "model_name": "LayoutModel",
      "state": {
       "width": "250px"
      }
     },
     "f727d8f216f64e9684bbc9ec625133d6": {
      "model_module": "@jupyter-widgets/controls",
      "model_module_version": "1.4.0",
      "model_name": "ButtonStyleModel",
      "state": {}
     },
     "f8b00a8c0a3a48b6b1053820b928a009": {
      "model_module": "@jupyter-widgets/base",
      "model_module_version": "1.1.0",
      "model_name": "LayoutModel",
      "state": {
       "width": "250px"
      }
     },
     "fa377e019d4c4855ad61fd2475a08d5d": {
      "model_module": "@jupyter-widgets/base",
      "model_module_version": "1.1.0",
      "model_name": "LayoutModel",
      "state": {
       "width": "250px"
      }
     },
     "fa6822293c594b1c8c81bdfb64abf113": {
      "model_module": "@jupyter-widgets/controls",
      "model_module_version": "1.4.0",
      "model_name": "ButtonStyleModel",
      "state": {}
     },
     "fab0cbbfa404445ab0891750edd461ae": {
      "model_module": "@jupyter-widgets/base",
      "model_module_version": "1.1.0",
      "model_name": "LayoutModel",
      "state": {
       "border": "2px solid lightgreen"
      }
     },
     "fab82fb1e0024b549a089e3df6c7dd83": {
      "model_module": "@jupyter-widgets/controls",
      "model_module_version": "1.4.0",
      "model_name": "ButtonStyleModel",
      "state": {}
     },
     "fae533ed986c4f808a6a74a72e9e3156": {
      "model_module": "@jupyter-widgets/controls",
      "model_module_version": "1.4.0",
      "model_name": "HBoxModel",
      "state": {
       "children": [
        "IPY_MODEL_180aea6e8143407a9e60c4ea221990a8",
        "IPY_MODEL_87abd9866af14a6caae0ed7da1c18c4e"
       ],
       "layout": "IPY_MODEL_a3b6e08f356f407f8f887878a0a0f397"
      }
     },
     "fb5b37d5998c45b393ba1de2a57b3143": {
      "model_module": "@jupyter-widgets/base",
      "model_module_version": "1.1.0",
      "model_name": "LayoutModel",
      "state": {}
     },
     "fb6243c0c4e244f69c513ddc75ba4206": {
      "model_module": "@jupyter-widgets/controls",
      "model_module_version": "1.4.0",
      "model_name": "ButtonModel",
      "state": {
       "description": "PP-Attachment-Ambiguität",
       "layout": "IPY_MODEL_f70e336e49d148389e7c32314840da79",
       "style": "IPY_MODEL_def128391a51464499db772eaf3b54a1"
      }
     },
     "fb67dab62553468890ba16c4163948d0": {
      "model_module": "@jupyter-widgets/controls",
      "model_module_version": "1.4.0",
      "model_name": "DescriptionStyleModel",
      "state": {
       "description_width": "initial"
      }
     },
     "fc21946f88a9452588d3ce193ff36342": {
      "model_module": "@jupyter-widgets/base",
      "model_module_version": "1.1.0",
      "model_name": "LayoutModel",
      "state": {
       "width": "600px"
      }
     },
     "fc28b31383aa4d42b9d40eb9cef094e4": {
      "model_module": "@jupyter-widgets/base",
      "model_module_version": "1.1.0",
      "model_name": "LayoutModel",
      "state": {
       "justify_content": "center"
      }
     },
     "fd493b3da05942b28a93bed9e394251f": {
      "model_module": "@jupyter-widgets/controls",
      "model_module_version": "1.4.0",
      "model_name": "TextModel",
      "state": {
       "disabled": true,
       "layout": "IPY_MODEL_fab0cbbfa404445ab0891750edd461ae",
       "style": "IPY_MODEL_e776f252491b40369a32c6f4ecfff439",
       "value": "0.000864"
      }
     },
     "fdbde89c16b742278830f5c58407bd94": {
      "model_module": "@jupyter-widgets/controls",
      "model_module_version": "1.4.0",
      "model_name": "ButtonStyleModel",
      "state": {}
     },
     "ff0b52a167104ff3a5cc8cc5d973968c": {
      "model_module": "@jupyter-widgets/base",
      "model_module_version": "1.1.0",
      "model_name": "LayoutModel",
      "state": {
       "justify_content": "center"
      }
     },
     "ff5d93a93a2045bea1d2b259717c0679": {
      "model_module": "@jupyter-widgets/base",
      "model_module_version": "1.1.0",
      "model_name": "LayoutModel",
      "state": {}
     }
    },
    "version_major": 2,
    "version_minor": 0
   }
  }
 },
 "nbformat": 4,
 "nbformat_minor": 2
}
