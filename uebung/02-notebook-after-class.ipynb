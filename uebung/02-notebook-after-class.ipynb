{
 "cells": [
  {
   "cell_type": "markdown",
   "metadata": {},
   "source": [
    "***Vorlesung 'Syntax natürlicher Sprachen', WS 2019/20***\n",
    "\n",
    "---\n",
    "# Übung 2"
   ]
  },
  {
   "cell_type": "code",
   "execution_count": 1,
   "metadata": {},
   "outputs": [],
   "source": [
    "from exercises_2 import *\n",
    "from questions import aufgabe"
   ]
  },
  {
   "cell_type": "markdown",
   "metadata": {},
   "source": [
    "---\n",
    "## Aufgabe 1:  Eine erste syntaktische Analyse\n",
    "\n",
    "#### Kreieren Sie Ihre ersten Syntaxbäume, indem Sie das folgende Python-Skript ausführen. Beantworten Sie im Anschluss die zugehörigen Fragen!"
   ]
  },
  {
   "cell_type": "code",
   "execution_count": 2,
   "metadata": {},
   "outputs": [
    {
     "name": "stdout",
     "output_type": "stream",
     "text": [
      "(S\n",
      "  (NP I)\n",
      "  (VP\n",
      "    (VP (V shot) (NP (Det an) (N elephant)))\n",
      "    (PP (P in) (NP (Det my) (N pajamas)))))\n",
      "     S                                       \n",
      " ┌───┴──────────────┐                         \n",
      " │                  VP                       \n",
      " │        ┌─────────┴──────────┐              \n",
      " │        VP                   PP            \n",
      " │   ┌────┴───┐            ┌───┴───┐          \n",
      " │   │        NP           │       NP        \n",
      " │   │    ┌───┴─────┐      │   ┌───┴─────┐    \n",
      " NP  V   Det        N      P  Det        N   \n",
      " │   │    │         │      │   │         │    \n",
      " I  shot  an     elephant  in  my     pajamas\n",
      "\n",
      "(S\n",
      "  (NP I)\n",
      "  (VP\n",
      "    (V shot)\n",
      "    (NP (Det an) (N elephant) (PP (P in) (NP (Det my) (N pajamas))))))\n",
      "     S                                   \n",
      " ┌───┴──────────┐                         \n",
      " │              VP                       \n",
      " │   ┌──────────┴──────┐                  \n",
      " │   │                 NP                \n",
      " │   │    ┌─────┬──────┴───┐              \n",
      " │   │    │     │          PP            \n",
      " │   │    │     │      ┌───┴───┐          \n",
      " │   │    │     │      │       NP        \n",
      " │   │    │     │      │   ┌───┴─────┐    \n",
      " NP  V   Det    N      P  Det        N   \n",
      " │   │    │     │      │   │         │    \n",
      " I  shot  an elephant  in  my     pajamas\n",
      "\n"
     ]
    }
   ],
   "source": [
    "import nltk\n",
    "\n",
    "grammar = nltk.CFG.fromstring(\"\"\"\n",
    "    S -> NP VP\n",
    "    PP -> P NP\n",
    "    NP -> Det N | Det N PP | 'I'\n",
    "    VP -> V NP | VP PP\n",
    "    Det -> 'an' | 'my'\n",
    "    N -> 'elephant' | 'pajamas'\n",
    "    V -> 'shot'\n",
    "    P -> 'in'\n",
    "\"\"\")\n",
    "\n",
    "parser = nltk.ChartParser(grammar)\n",
    "sent = \"I shot an elephant in my pajamas\".split()\n",
    "for tree in parser.parse(sent):\n",
    "    print(tree)\n",
    "    tree.pretty_print(unicodelines=True)"
   ]
  },
  {
   "cell_type": "markdown",
   "metadata": {},
   "source": [
    "---\n",
    "###  Aufgabe 1 a:"
   ]
  },
  {
   "cell_type": "code",
   "execution_count": 3,
   "metadata": {},
   "outputs": [
    {
     "data": {
      "application/vnd.jupyter.widget-view+json": {
       "model_id": "7a57f9b6a9f74e0ea51dd6eeadda18ee",
       "version_major": 2,
       "version_minor": 0
      },
      "text/plain": [
       "SingleChoice(children=(HTML(value='<h4 style=\"font-size:14px;\">Warum gibt die parse-Funktion des Skripts vermu…"
      ]
     },
     "metadata": {},
     "output_type": "display_data"
    },
    {
     "data": {
      "application/vnd.jupyter.widget-view+json": {
       "model_id": "d1e65a9478a244fda337edc0bf78a1d5",
       "version_major": 2,
       "version_minor": 0
      },
      "text/plain": [
       "SingleChoice(children=(HTML(value='<h4 style=\"font-size:14px;\">Die Alternative <code>tree = parser.parse(sent)…"
      ]
     },
     "metadata": {},
     "output_type": "display_data"
    }
   ],
   "source": [
    "aufgabe(blatt2_1a)"
   ]
  },
  {
   "cell_type": "markdown",
   "metadata": {},
   "source": [
    "---\n",
    "###  Aufgabe 1 b:\n",
    "\n",
    "#### Worin liegen die Unterschiede zwischen den ausgegebenen Bäumen? Beantworten Sie dazu folgende Frage."
   ]
  },
  {
   "cell_type": "code",
   "execution_count": 4,
   "metadata": {
    "scrolled": true
   },
   "outputs": [
    {
     "data": {
      "application/vnd.jupyter.widget-view+json": {
       "model_id": "e75490d92f9d41029f3d5dca741b9226",
       "version_major": 2,
       "version_minor": 0
      },
      "text/plain": [
       "MultipleChoice(children=(HTML(value='<h4 style=\"font-size:14px;\">Zu welcher Phrase kann die Präpositionalphras…"
      ]
     },
     "metadata": {},
     "output_type": "display_data"
    }
   ],
   "source": [
    "aufgabe(blatt2_1b)"
   ]
  },
  {
   "cell_type": "markdown",
   "metadata": {},
   "source": [
    "___\n",
    "### Aufgabe 1 c:\n",
    "\n",
    "#### Warum ist der gegebene Satz \"I shot an elephant in my pajamas\" syntaktisch ambig? Beantworten Sie dazu folgende Fragen."
   ]
  },
  {
   "cell_type": "code",
   "execution_count": 5,
   "metadata": {
    "scrolled": false
   },
   "outputs": [
    {
     "data": {
      "application/vnd.jupyter.widget-view+json": {
       "model_id": "d00a00f316894372a0a0f59194fcad5f",
       "version_major": 2,
       "version_minor": 0
      },
      "text/plain": [
       "SingleChoice(children=(HTML(value='<h4 style=\"font-size:14px;\">Bzgl. welcher (nicht an der Oberflächensyntax e…"
      ]
     },
     "metadata": {},
     "output_type": "display_data"
    },
    {
     "data": {
      "application/vnd.jupyter.widget-view+json": {
       "model_id": "ec627508fbc446bea84e7b2ff2040bda",
       "version_major": 2,
       "version_minor": 0
      },
      "text/plain": [
       "SelectionList(children=(HTML(value='<h4 style=\"font-size:14px;\">Was ist der Fall, wenn die PP ein Adverbial is…"
      ]
     },
     "metadata": {},
     "output_type": "display_data"
    },
    {
     "data": {
      "application/vnd.jupyter.widget-view+json": {
       "model_id": "74a11f7553ca4e1883185512ccbc0eb1",
       "version_major": 2,
       "version_minor": 0
      },
      "text/plain": [
       "SelectionList(children=(HTML(value='<h4 style=\"font-size:14px;\">Was ist der Fall, wenn die PP ein Attribut ist…"
      ]
     },
     "metadata": {},
     "output_type": "display_data"
    }
   ],
   "source": [
    "aufgabe(blatt2_1c)"
   ]
  },
  {
   "cell_type": "markdown",
   "metadata": {},
   "source": [
    "---\n",
    "## Aufgabe 2: Was ist Grammatik?\n",
    "\n",
    "#### Gegeben sind folgende Sätze:\n",
    "1. Die Grammatik des Lateinischen ist schwer. Vor allem die Syntax bereitet Schwierigkeiten.\n",
    "2. Der Duden ist eine Grammatik.\n",
    "3. Der Begründer der Dependenzgrammatik ist Lucien Tesnière.\n"
   ]
  },
  {
   "cell_type": "markdown",
   "metadata": {},
   "source": [
    "---\n",
    "### Aufgabe 2 a:\n",
    "\n",
    "#### Erläutern Sie die drei Grammatikbegriffe, die den folgenden Sätzen zugrunde liegen. Beantworten Sie dazu folgende Fragen."
   ]
  },
  {
   "cell_type": "code",
   "execution_count": 6,
   "metadata": {},
   "outputs": [
    {
     "data": {
      "application/vnd.jupyter.widget-view+json": {
       "model_id": "a96b0dfa80a8490bb566a8f933197a24",
       "version_major": 2,
       "version_minor": 0
      },
      "text/plain": [
       "SingleChoice(children=(HTML(value='<h4 style=\"font-size:14px;\">Welcher Grammatikbegriff liegt Satz 1 zugrunde?…"
      ]
     },
     "metadata": {},
     "output_type": "display_data"
    },
    {
     "data": {
      "application/vnd.jupyter.widget-view+json": {
       "model_id": "5651c45dc95b4c3e89ded8f655fd59ae",
       "version_major": 2,
       "version_minor": 0
      },
      "text/plain": [
       "SingleChoice(children=(HTML(value='<h4 style=\"font-size:14px;\">Welcher Grammatikbegriff liegt Satz 2 zugrunde?…"
      ]
     },
     "metadata": {},
     "output_type": "display_data"
    },
    {
     "data": {
      "application/vnd.jupyter.widget-view+json": {
       "model_id": "4097962fb0b94d5ba39e54f67abd4de9",
       "version_major": 2,
       "version_minor": 0
      },
      "text/plain": [
       "SingleChoice(children=(HTML(value='<h4 style=\"font-size:14px;\">Welcher Grammatikbegriff liegt Satz 3 zugrunde?…"
      ]
     },
     "metadata": {},
     "output_type": "display_data"
    }
   ],
   "source": [
    "aufgabe(blatt2_2a)"
   ]
  },
  {
   "cell_type": "markdown",
   "metadata": {},
   "source": [
    "---\n",
    "### Aufgabe 2 b:\n",
    "\n",
    "#### Zeigen Sie am Beispiel von Satz 1 den Unterschied zwischen Grammatik und Syntax auf.  Beantworten Sie dazu folgende Fragen."
   ]
  },
  {
   "cell_type": "code",
   "execution_count": 7,
   "metadata": {},
   "outputs": [
    {
     "data": {
      "application/vnd.jupyter.widget-view+json": {
       "model_id": "3592de5c52614653a99c8ea68c818a06",
       "version_major": 2,
       "version_minor": 0
      },
      "text/plain": [
       "MultipleChoice(children=(HTML(value='<h4 style=\"font-size:14px;\">Welche Gesetzmäßigkeiten umfasst die Grammati…"
      ]
     },
     "metadata": {},
     "output_type": "display_data"
    },
    {
     "data": {
      "application/vnd.jupyter.widget-view+json": {
       "model_id": "d7dc338a5173468d800b92731162e7b3",
       "version_major": 2,
       "version_minor": 0
      },
      "text/plain": [
       "Lueckentext(children=(HTML(value='<i>Vervollständigen Sie den Lückentext: </i>', layout=Layout(justify_content…"
      ]
     },
     "metadata": {},
     "output_type": "display_data"
    }
   ],
   "source": [
    "aufgabe(blatt2_2b)"
   ]
  },
  {
   "cell_type": "markdown",
   "metadata": {},
   "source": [
    "---\n",
    "## Aufgabe 3: Linguistische Strukturbeschreibung"
   ]
  },
  {
   "cell_type": "markdown",
   "metadata": {},
   "source": [
    "---\n",
    "### Aufgabe 3 a:\n",
    "\n",
    "#### Welche Hierachie-Ebenen lassen sich in der Beschreibung des Aufbaus sprachlicher Strukturen unterscheiden?"
   ]
  },
  {
   "cell_type": "code",
   "execution_count": 8,
   "metadata": {
    "scrolled": false
   },
   "outputs": [
    {
     "data": {
      "application/vnd.jupyter.widget-view+json": {
       "model_id": "9e8f48f0543d4bbda368801a8c0dee4a",
       "version_major": 2,
       "version_minor": 0
      },
      "text/plain": [
       "MultipleChoice(children=(HTML(value='<h4 style=\"font-size:14px;\">Was sind die 3 grundlegenden Beschreibungsebe…"
      ]
     },
     "metadata": {},
     "output_type": "display_data"
    }
   ],
   "source": [
    "aufgabe(blatt2_3a)"
   ]
  },
  {
   "cell_type": "markdown",
   "metadata": {},
   "source": [
    "---\n",
    "### Aufgabe 3 b:\n",
    "\n",
    "#### Wo liegt der Unterschied zwischen dem Wortbegriff einer natürlichen Sprache und dem Wortbegriff einer formalen Sprache?\n",
    "(Was sind die Blätter des Syntaxbaums einer Ableitung eines natürlichsprachlichen Satzes in einer die Sprache modellierenden formalen Grammatik?)"
   ]
  },
  {
   "cell_type": "code",
   "execution_count": 9,
   "metadata": {
    "scrolled": true
   },
   "outputs": [
    {
     "data": {
      "application/vnd.jupyter.widget-view+json": {
       "model_id": "1ba7ec3be23942ee8166849cdf7ed3a0",
       "version_major": 2,
       "version_minor": 0
      },
      "text/plain": [
       "Lueckentext(children=(HTML(value='<i>Vervollständigen Sie den Lückentext: </i>', layout=Layout(justify_content…"
      ]
     },
     "metadata": {},
     "output_type": "display_data"
    }
   ],
   "source": [
    "aufgabe(blatt2_3b)"
   ]
  },
  {
   "cell_type": "markdown",
   "metadata": {},
   "source": [
    "---\n",
    "## Aufgabe 4: Darstellung syntaktischer Strukturen"
   ]
  },
  {
   "cell_type": "markdown",
   "metadata": {},
   "source": [
    "---\n",
    "### Aufgabe 4 a:\n",
    "\n",
    "#### Welche formalen Repräsentationen der syntaktischen Struktur eines natürlichsprachlichen Satzes haben Sie in der Vorlesung kennengelernt? Beantworten Sie dazu folgende Frage."
   ]
  },
  {
   "cell_type": "code",
   "execution_count": 10,
   "metadata": {
    "scrolled": false
   },
   "outputs": [
    {
     "data": {
      "application/vnd.jupyter.widget-view+json": {
       "model_id": "80648dab18084eaf8b353ea0900fe293",
       "version_major": 2,
       "version_minor": 0
      },
      "text/plain": [
       "MultipleChoice(children=(HTML(value='<h4 style=\"font-size:14px;\">Welche Typen von Syntaxbäumen (auch: Parsebäu…"
      ]
     },
     "metadata": {},
     "output_type": "display_data"
    }
   ],
   "source": [
    "aufgabe(blatt2_4a)"
   ]
  },
  {
   "cell_type": "markdown",
   "metadata": {},
   "source": [
    "---\n",
    "### Aufgabe 4 b:\n",
    "\n",
    "#### Wie kann eine solche Struktur dargestellt werden? Beantworten Sie dazu folgende Fragen."
   ]
  },
  {
   "cell_type": "code",
   "execution_count": 11,
   "metadata": {},
   "outputs": [
    {
     "data": {
      "application/vnd.jupyter.widget-view+json": {
       "model_id": "cc29d450e4ac4d439a292059fe0a3696",
       "version_major": 2,
       "version_minor": 0
      },
      "text/plain": [
       "SingleChoice(children=(HTML(value='<h4 style=\"font-size:14px;\">In welcher Form wird die syntaktische Struktur …"
      ]
     },
     "metadata": {},
     "output_type": "display_data"
    },
    {
     "data": {
      "application/vnd.jupyter.widget-view+json": {
       "model_id": "f326e6df74124f248f434eff1b41321f",
       "version_major": 2,
       "version_minor": 0
      },
      "text/plain": [
       "SingleChoice(children=(HTML(value='<h4 style=\"font-size:14px;\">In welcher Form wird die syntaktische Struktur …"
      ]
     },
     "metadata": {},
     "output_type": "display_data"
    }
   ],
   "source": [
    "aufgabe(blatt2_4b)"
   ]
  },
  {
   "cell_type": "markdown",
   "metadata": {},
   "source": [
    "---\n",
    "### Aufgabe 4 c:\n",
    " \n",
    "#### Geben Sie zu folgendem Syntaxbaum den Klammerausdruck an (für den Fall, dass der Elefant den Pyjama trägt):"
   ]
  },
  {
   "cell_type": "code",
   "execution_count": 12,
   "metadata": {
    "scrolled": true
   },
   "outputs": [
    {
     "name": "stdout",
     "output_type": "stream",
     "text": [
      "         I-shot-an_elepha                                              \n",
      "         nt-in_my_pajamas                                              \n",
      " ┌──────────────┴─────────────────┐                                     \n",
      " │                        shot-an_elephant-                            \n",
      " │                          in_my_pajamas                              \n",
      " │   ┌────────────────────────────┴───────────────┐                     \n",
      " │   │                                       an_elephant-              \n",
      " │   │                                      in_my_pajamas              \n",
      " │   │                            ┌───────────────┴─────────────┐       \n",
      " I  shot                     an_elephant                  in_my_pajamas\n",
      "\n"
     ]
    }
   ],
   "source": [
    "from nltk import Tree\n",
    "tree = Tree.fromstring(blatt2_4c_tree)\n",
    "tree.pretty_print(unicodelines=True)"
   ]
  },
  {
   "cell_type": "code",
   "execution_count": 13,
   "metadata": {},
   "outputs": [
    {
     "name": "stdout",
     "output_type": "stream",
     "text": [
      "         I-shot-an_elepha                                              \n",
      "         nt-in_my_pajamas                                              \n",
      " ┌──────────────┴─────────────────┐                                     \n",
      " │                        shot-an_elephant-                            \n",
      " │                          in_my_pajamas                              \n",
      " │   ┌────────────────────────────┴───────────────┐                     \n",
      " │   │                                       an_elephant-              \n",
      " │   │                                      in_my_pajamas              \n",
      " │   │                            ┌───────────────┴─────────────┐       \n",
      " I  shot                     an_elephant                  in_my_pajamas\n",
      "\n"
     ]
    }
   ],
   "source": [
    "tree = Tree.fromstring(\"\"\"\n",
    "(I-shot-an_elephant-in_my_pajamas\n",
    "    I \n",
    "    (shot-an_elephant-in_my_pajamas\n",
    "        shot\n",
    "        (an_elephant-in_my_pajamas\n",
    "            an_elephant in_my_pajamas\n",
    "        )\n",
    "    )\n",
    ")\n",
    "\"\"\")\n",
    "\n",
    "tree.pretty_print(unicodelines=True)"
   ]
  },
  {
   "cell_type": "markdown",
   "metadata": {},
   "source": [
    "---\n",
    "### Aufgabe 4 d:\n",
    "\n",
    "#### Geben Sie zu folgendem Klammerausdruck den Syntaxbaum an (wer trägt hier den Pyjama?)\n",
    "\n",
    "*[ [I] [ [ [shot] [an elephant] ] [in my pajamas] ] ]*\n",
    "\n",
    "#### Klammern Sie dazu einmal den Klammerausdruck aus 4c um, dann zerlegen Sie den Satz in seine Subkonstituenten."
   ]
  },
  {
   "cell_type": "code",
   "execution_count": 14,
   "metadata": {},
   "outputs": [
    {
     "name": "stdout",
     "output_type": "stream",
     "text": [
      "         ROOT                          \n",
      " ┌────────┴────────┐                    \n",
      " │                                     \n",
      " │        ┌────────┴────────────┐       \n",
      " │                              │      \n",
      " │   ┌────┴────────┐            │       \n",
      " I  shot      an_elephant in_my_pajamas\n",
      " │   │             │            │       \n",
      "... ...           ...          ...     \n",
      "\n"
     ]
    }
   ],
   "source": [
    "tree = Tree.fromstring(\"\"\"\n",
    "(ROOT\n",
    "  (I) (((shot) (an_elephant)) (in_my_pajamas))\n",
    ")  \n",
    "\"\"\")\n",
    "\n",
    "tree.pretty_print(unicodelines=True)"
   ]
  },
  {
   "cell_type": "code",
   "execution_count": 15,
   "metadata": {},
   "outputs": [
    {
     "name": "stdout",
     "output_type": "stream",
     "text": [
      "                  I-shot-an_elepha                                               \n",
      "                  nt-in_my_pajamas                                               \n",
      " ┌───────────────────────┴─────────────────┐                                      \n",
      " │                                 shot-an_elephant-                             \n",
      " │                                   in_my_pajamas                               \n",
      " │        ┌────────────────────────────────┴────────────────┐                     \n",
      " │        │                                          shot-an_elephant            \n",
      " │        │                                ┌────────────────┴──────────────┐      \n",
      " I  in_my_pajamas                         shot                        an_elephant\n",
      "\n"
     ]
    }
   ],
   "source": [
    "# Zerlegung gemäß folgender Klammerung:\n",
    "# [ [I] [ [ [shot] [an elephant] ] [in my pajamas] ] ]\n",
    "\n",
    "tree = Tree.fromstring(\"\"\"\n",
    "(I-shot-an_elephant-in_my_pajamas\n",
    "   I\n",
    "   (shot-an_elephant-in_my_pajamas\n",
    "       (shot-an_elephant\n",
    "           shot\n",
    "           an_elephant\n",
    "       )\n",
    "    in_my_pajamas\n",
    "    )\n",
    ")\n",
    "\"\"\")\n",
    "\n",
    "tree.pretty_print(unicodelines=True)"
   ]
  },
  {
   "cell_type": "markdown",
   "metadata": {},
   "source": [
    "--- \n",
    "# Hausaufgaben"
   ]
  },
  {
   "cell_type": "markdown",
   "metadata": {},
   "source": [
    "---\n",
    "## Aufgabe 5: Ambiguität\n",
    "\n",
    "\n",
    "#### Sehen Sie sich die folgenden englischen Sätze an. Können Sie sich jeweils zwei unterschiedliche Interpretationen vorstellen?\n",
    "\n",
    "- *Fighting animals could be dangerous.*\n",
    "- *Visiting relatives can be tiresome.*\n"
   ]
  },
  {
   "cell_type": "code",
   "execution_count": 16,
   "metadata": {
    "scrolled": false
   },
   "outputs": [
    {
     "data": {
      "application/vnd.jupyter.widget-view+json": {
       "model_id": "2dc9f4aa138042ad9ef5bf25345fed0c",
       "version_major": 2,
       "version_minor": 0
      },
      "text/plain": [
       "SingleChoice(children=(HTML(value='<h4 style=\"font-size:14px;\">Was ist der Ursprung der Ambiguität?</h4>', lay…"
      ]
     },
     "metadata": {},
     "output_type": "display_data"
    },
    {
     "data": {
      "application/vnd.jupyter.widget-view+json": {
       "model_id": "eebef33b78d34f2cbed106e5c042e838",
       "version_major": 2,
       "version_minor": 0
      },
      "text/plain": [
       "MultipleChoice(children=(HTML(value='<h4 style=\"font-size:14px;\">In welcher Beziehung können Gerund und nachfo…"
      ]
     },
     "metadata": {},
     "output_type": "display_data"
    },
    {
     "data": {
      "application/vnd.jupyter.widget-view+json": {
       "model_id": "4ea3ae79cb5e480ebb48665635c1a0ce",
       "version_major": 2,
       "version_minor": 0
      },
      "text/plain": [
       "SingleChoice(children=(HTML(value='<h4 style=\"font-size:14px;\">Welche Funktion im Satz nimmt das Nomen ein, we…"
      ]
     },
     "metadata": {},
     "output_type": "display_data"
    },
    {
     "data": {
      "application/vnd.jupyter.widget-view+json": {
       "model_id": "5791f3acae3f4490a0580e0c007a1315",
       "version_major": 2,
       "version_minor": 0
      },
      "text/plain": [
       "SingleChoice(children=(HTML(value='<h4 style=\"font-size:14px;\">Welche Funktion innerhalb der Gerund-Nomen-Phra…"
      ]
     },
     "metadata": {},
     "output_type": "display_data"
    },
    {
     "data": {
      "application/vnd.jupyter.widget-view+json": {
       "model_id": "7365e6bd1fac49ca9200ff397c4e1cad",
       "version_major": 2,
       "version_minor": 0
      },
      "text/plain": [
       "SingleChoice(children=(HTML(value='<h4 style=\"font-size:14px;\">Welche Funktion im Hauptsatz nimmt das Gerund e…"
      ]
     },
     "metadata": {},
     "output_type": "display_data"
    },
    {
     "data": {
      "application/vnd.jupyter.widget-view+json": {
       "model_id": "f13b55fa0bec469b825e911d150ffd0b",
       "version_major": 2,
       "version_minor": 0
      },
      "text/plain": [
       "SingleChoice(children=(HTML(value='<h4 style=\"font-size:14px;\">Welche Funktion nimmt das Gerund ein, wenn das …"
      ]
     },
     "metadata": {},
     "output_type": "display_data"
    }
   ],
   "source": [
    "aufgabe(blatt2_5)"
   ]
  },
  {
   "cell_type": "markdown",
   "metadata": {},
   "source": [
    "---\n",
    "## Aufgabe 6: Fragen zu NLTK-Kapitel 8.1\n",
    "\n",
    "#### Lesen Sie das Vorwort von NLTK-Kapitel 8 sowie das Kapitel 8.1 (’Some Grammatical Dilemmas’):  http://www.nltk.org/book/ch08.html\n",
    "\n",
    "#### Beantworten sie insbesondere folgende Fragen: "
   ]
  },
  {
   "cell_type": "markdown",
   "metadata": {},
   "source": [
    "---\n",
    "### Aufgabe 6 a:\n"
   ]
  },
  {
   "cell_type": "code",
   "execution_count": 17,
   "metadata": {
    "scrolled": false
   },
   "outputs": [
    {
     "data": {
      "application/vnd.jupyter.widget-view+json": {
       "model_id": "30d9993cdfc249b2904ce6a795db8991",
       "version_major": 2,
       "version_minor": 0
      },
      "text/plain": [
       "MultipleChoice(children=(HTML(value='<h4 style=\"font-size:14px;\">Hinsichtlich welcher syntaktischen Grundprinz…"
      ]
     },
     "metadata": {},
     "output_type": "display_data"
    },
    {
     "data": {
      "application/vnd.jupyter.widget-view+json": {
       "model_id": "1a399e1d71e54ca699b7561cd8851297",
       "version_major": 2,
       "version_minor": 0
      },
      "text/plain": [
       "SingleChoice(children=(HTML(value='<h4 style=\"font-size:14px;\">Konstituenz ist synonym zu:</h4>', layout=Layou…"
      ]
     },
     "metadata": {},
     "output_type": "display_data"
    },
    {
     "data": {
      "application/vnd.jupyter.widget-view+json": {
       "model_id": "e3ae39d571eb4157acdfcfe59eaede6e",
       "version_major": 2,
       "version_minor": 0
      },
      "text/plain": [
       "SingleChoice(children=(HTML(value='<h4 style=\"font-size:14px;\">Dependenz ist synonym zu:</h4>', layout=Layout(…"
      ]
     },
     "metadata": {},
     "output_type": "display_data"
    }
   ],
   "source": [
    "aufgabe(blatt2_6a)"
   ]
  },
  {
   "cell_type": "markdown",
   "metadata": {},
   "source": [
    "---\n",
    "### Aufgabe 6 b:"
   ]
  },
  {
   "cell_type": "code",
   "execution_count": 18,
   "metadata": {
    "scrolled": false
   },
   "outputs": [
    {
     "data": {
      "application/vnd.jupyter.widget-view+json": {
       "model_id": "2353d6adff194fd89f57e2176c476382",
       "version_major": 2,
       "version_minor": 0
      },
      "text/plain": [
       "SingleChoice(children=(HTML(value='<h4 style=\"font-size:14px;\">Welche Mittel kommen in einer formalen Syntaxan…"
      ]
     },
     "metadata": {},
     "output_type": "display_data"
    }
   ],
   "source": [
    "aufgabe(blatt2_6b)"
   ]
  },
  {
   "cell_type": "markdown",
   "metadata": {},
   "source": [
    "---\n",
    "### Aufgabe 6 c:\n",
    "\n",
    "#### Welche ja/nein-Entscheidung bzgl. des Satzes wird bei dieser Analyse unweigerlich getroffen?"
   ]
  },
  {
   "cell_type": "code",
   "execution_count": 19,
   "metadata": {
    "scrolled": false
   },
   "outputs": [
    {
     "data": {
      "application/vnd.jupyter.widget-view+json": {
       "model_id": "c4dc5a23fdbc4762a9dd35988bfa3939",
       "version_major": 2,
       "version_minor": 0
      },
      "text/plain": [
       "MultipleChoice(children=(HTML(value='<h4 style=\"font-size:14px;\">Die ________ eines Satzes bzgl. der formalen …"
      ]
     },
     "metadata": {},
     "output_type": "display_data"
    }
   ],
   "source": [
    "aufgabe(blatt2_6c)"
   ]
  },
  {
   "cell_type": "markdown",
   "metadata": {},
   "source": [
    "---\n",
    "### Aufgabe 6 d:\n"
   ]
  },
  {
   "cell_type": "code",
   "execution_count": 20,
   "metadata": {
    "scrolled": false
   },
   "outputs": [
    {
     "data": {
      "application/vnd.jupyter.widget-view+json": {
       "model_id": "64fa5ab1ef174c0a88c10f3f3b1e5d43",
       "version_major": 2,
       "version_minor": 0
      },
      "text/plain": [
       "MultipleChoice(children=(HTML(value='<h4 style=\"font-size:14px;\">Welche Vorteile hat die Modellierung der Satz…"
      ]
     },
     "metadata": {},
     "output_type": "display_data"
    }
   ],
   "source": [
    "aufgabe(blatt2_6d)"
   ]
  }
 ],
 "metadata": {
  "kernelspec": {
   "display_name": "Python 3",
   "language": "python",
   "name": "python3"
  },
  "language_info": {
   "codemirror_mode": {
    "name": "ipython",
    "version": 3
   },
   "file_extension": ".py",
   "mimetype": "text/x-python",
   "name": "python",
   "nbconvert_exporter": "python",
   "pygments_lexer": "ipython3",
   "version": "3.6.6"
  },
  "widgets": {
   "application/vnd.jupyter.widget-state+json": {
    "state": {
     "0030107ab01c4be8863768814c0a6e17": {
      "model_module": "@jupyter-widgets/base",
      "model_module_version": "1.1.0",
      "model_name": "LayoutModel",
      "state": {}
     },
     "00a5a5cd7b7b447cbdf96664515656f2": {
      "model_module": "@jupyter-widgets/base",
      "model_module_version": "1.1.0",
      "model_name": "LayoutModel",
      "state": {
       "width": "250px"
      }
     },
     "00d8636a8eeb4d609300b50c97661f5e": {
      "model_module": "@jupyter-widgets/controls",
      "model_module_version": "1.4.0",
      "model_name": "ButtonModel",
      "state": {
       "description": "Theorie der Sprachstruktur",
       "layout": "IPY_MODEL_f758fdf09c2d432fb4e2d47c0687701a",
       "style": "IPY_MODEL_218b6c91a66b44179d0d032fe2e38256"
      }
     },
     "00f2d9ec58f34a53925a6bfa98648f6c": {
      "model_module": "@jupyter-widgets/base",
      "model_module_version": "1.1.0",
      "model_name": "LayoutModel",
      "state": {}
     },
     "0136433272ee4770960839721fff1af3": {
      "model_module": "@jupyter-widgets/controls",
      "model_module_version": "1.4.0",
      "model_name": "ButtonStyleModel",
      "state": {}
     },
     "0165014b13034190bedca7ccc3a0f9d2": {
      "model_module": "@jupyter-widgets/base",
      "model_module_version": "1.1.0",
      "model_name": "LayoutModel",
      "state": {}
     },
     "01880778096449b6a26a90990629f675": {
      "model_module": "@jupyter-widgets/base",
      "model_module_version": "1.1.0",
      "model_name": "LayoutModel",
      "state": {
       "justify_content": "center"
      }
     },
     "01a6139575cd48cf9438088ae657a60b": {
      "model_module": "@jupyter-widgets/controls",
      "model_module_version": "1.4.0",
      "model_name": "DescriptionStyleModel",
      "state": {
       "description_width": ""
      }
     },
     "0211c59fa95345b39e126621a8415679": {
      "model_module": "@jupyter-widgets/controls",
      "model_module_version": "1.4.0",
      "model_name": "ButtonModel",
      "state": {
       "description": "Theorie der Sprachstruktur",
       "layout": "IPY_MODEL_ba7df611e5be42d780d1f78035c7745f",
       "style": "IPY_MODEL_6d89568ec4b64967ad4f60ab93a7829b"
      }
     },
     "0228ef13e80943fea5f03a2ba3fa4dac": {
      "model_module": "@jupyter-widgets/base",
      "model_module_version": "1.1.0",
      "model_name": "LayoutModel",
      "state": {}
     },
     "0230e284e524449a8870970587be4f1c": {
      "model_module": "@jupyter-widgets/base",
      "model_module_version": "1.1.0",
      "model_name": "LayoutModel",
      "state": {}
     },
     "0235a71386164d1ca86a16d122979bef": {
      "model_module": "@jupyter-widgets/controls",
      "model_module_version": "1.4.0",
      "model_name": "ButtonStyleModel",
      "state": {}
     },
     "023c8a6632d84a299fa3c10a3b071bd9": {
      "model_module": "@jupyter-widgets/controls",
      "model_module_version": "1.4.0",
      "model_name": "ButtonModel",
      "state": {
       "description": "Korrekt?",
       "layout": "IPY_MODEL_9ab5f0663e0942e8b2b32e8939c652f2",
       "style": "IPY_MODEL_e5a8622b17c0426ebd124bd9d0590134"
      }
     },
     "024206632ce0409586cc55f59ac2b5ce": {
      "model_module": "@jupyter-widgets/controls",
      "model_module_version": "1.4.0",
      "model_name": "ButtonStyleModel",
      "state": {}
     },
     "02870ce7d21d4199bd3e99de2b59e711": {
      "model_module": "@jupyter-widgets/controls",
      "model_module_version": "1.4.0",
      "model_name": "HTMLModel",
      "state": {
       "layout": "IPY_MODEL_1702836f2321493e8914237ca696aff2",
       "style": "IPY_MODEL_929c4c1056e8432d925d4988002a0ac0",
       "value": "<h4 style=\"font-size:14px;\">Dependenz ist synonym zu:</h4>"
      }
     },
     "028fdf6de30743d29314ed3090f99bae": {
      "model_module": "@jupyter-widgets/controls",
      "model_module_version": "1.4.0",
      "model_name": "ButtonModel",
      "state": {
       "description": "Wortart des Phrasenkopfes",
       "layout": "IPY_MODEL_981efc61259b42f8a29aa874fe5a63fe",
       "style": "IPY_MODEL_6cd5f57a20854f4e9e44efe9a73eff10"
      }
     },
     "029df399cb1d4824b60bf6c450a33f2b": {
      "model_module": "@jupyter-widgets/controls",
      "model_module_version": "1.4.0",
      "model_name": "VBoxModel",
      "state": {
       "children": [
        "IPY_MODEL_b261d60d9bc6465a8beea8d9a7512c35",
        "IPY_MODEL_dd67b3cc1d5047778439d0980a9220cd",
        "IPY_MODEL_ec69034d570944ee8a6c8d80701386a4"
       ],
       "layout": "IPY_MODEL_47db8433ef894ef3b148b63e37ac9403"
      }
     },
     "02bdf05e3de5456aa064dbe60f4fe789": {
      "model_module": "@jupyter-widgets/controls",
      "model_module_version": "1.4.0",
      "model_name": "ButtonStyleModel",
      "state": {
       "button_color": "lightgreen"
      }
     },
     "02bfac78201044c5afe62773fef42122": {
      "model_module": "@jupyter-widgets/base",
      "model_module_version": "1.1.0",
      "model_name": "LayoutModel",
      "state": {
       "justify_content": "center"
      }
     },
     "02d6a7aefe2e4305bea12e2d7a3041c3": {
      "model_module": "@jupyter-widgets/controls",
      "model_module_version": "1.4.0",
      "model_name": "DescriptionStyleModel",
      "state": {
       "description_width": ""
      }
     },
     "02ff6f4ef8ef4396aec26d0b342c2ce0": {
      "model_module": "@jupyter-widgets/base",
      "model_module_version": "1.1.0",
      "model_name": "LayoutModel",
      "state": {
       "width": "250px"
      }
     },
     "030121241a5d4027a0ee0ae93a1a1456": {
      "model_module": "@jupyter-widgets/controls",
      "model_module_version": "1.4.0",
      "model_name": "DescriptionStyleModel",
      "state": {
       "description_width": "initial"
      }
     },
     "030d33675c2f4ef8b65e4df50e5126bc": {
      "model_module": "@jupyter-widgets/base",
      "model_module_version": "1.1.0",
      "model_name": "LayoutModel",
      "state": {
       "width": "250px"
      }
     },
     "031881b4669c417d9334bde8be395dc5": {
      "model_module": "@jupyter-widgets/controls",
      "model_module_version": "1.4.0",
      "model_name": "ButtonModel",
      "state": {
       "description": "Keine der anderen Möglichkeiten",
       "layout": "IPY_MODEL_f4f9a57541d042de8e45911ef0b387dc",
       "style": "IPY_MODEL_30563dbb4e12412ea539cf5a99d23354"
      }
     },
     "0328daece4ab46e09c049fb8340aa1f2": {
      "model_module": "@jupyter-widgets/base",
      "model_module_version": "1.1.0",
      "model_name": "LayoutModel",
      "state": {}
     },
     "036b1880f182410680969af6169acca1": {
      "model_module": "@jupyter-widgets/base",
      "model_module_version": "1.1.0",
      "model_name": "LayoutModel",
      "state": {
       "width": "600px"
      }
     },
     "036dd0eb2b1c48adaac746ef35f27c5b": {
      "model_module": "@jupyter-widgets/controls",
      "model_module_version": "1.4.0",
      "model_name": "ButtonModel",
      "state": {
       "description": "Klammernotation",
       "layout": "IPY_MODEL_5d1c3cd42fe040aea7e6fffef6c815c1",
       "style": "IPY_MODEL_7031d469e57c4b10aaa1a705ed4d58c8"
      }
     },
     "03af34b3901947c097f9226112e774bd": {
      "model_module": "@jupyter-widgets/controls",
      "model_module_version": "1.4.0",
      "model_name": "CheckboxModel",
      "state": {
       "description": "Grammatikalität",
       "disabled": false,
       "layout": "IPY_MODEL_3caf1dc80a994ca3bc3a60fea956f7b8",
       "style": "IPY_MODEL_24db33051467467593ac41c9a8313b15",
       "value": false
      }
     },
     "03b6635cd620411991f0c8840f151eb9": {
      "model_module": "@jupyter-widgets/base",
      "model_module_version": "1.1.0",
      "model_name": "LayoutModel",
      "state": {
       "justify_content": "center"
      }
     },
     "03d6e28a5b4442388fe930cd023496d5": {
      "model_module": "@jupyter-widgets/controls",
      "model_module_version": "1.4.0",
      "model_name": "CheckboxModel",
      "state": {
       "description": "Dependenzgraph mit gelabelten Kanten",
       "disabled": false,
       "layout": "IPY_MODEL_b89219406be54c7e957cacaf944fcbbe",
       "style": "IPY_MODEL_423c5792202c4b89b5af483f1f8d7655",
       "value": false
      }
     },
     "03e3dc2ceb6b480187ebae773c6c6f72": {
      "model_module": "@jupyter-widgets/base",
      "model_module_version": "1.1.0",
      "model_name": "LayoutModel",
      "state": {
       "width": "600px"
      }
     },
     "03ed9937e5b2428ca1d13fc7e833a965": {
      "model_module": "@jupyter-widgets/controls",
      "model_module_version": "1.4.0",
      "model_name": "ButtonModel",
      "state": {
       "description": "Baumdiagramm",
       "layout": "IPY_MODEL_1d9aab2162834b5badf3f7f3d0d90aec",
       "style": "IPY_MODEL_024206632ce0409586cc55f59ac2b5ce"
      }
     },
     "03fa83e67211451180874e7ada7f9b12": {
      "model_module": "@jupyter-widgets/controls",
      "model_module_version": "1.4.0",
      "model_name": "DescriptionStyleModel",
      "state": {
       "description_width": ""
      }
     },
     "04028a6d07284d91b87d671d44ec7cbd": {
      "model_module": "@jupyter-widgets/controls",
      "model_module_version": "1.4.0",
      "model_name": "DescriptionStyleModel",
      "state": {
       "description_width": ""
      }
     },
     "041b7490305b4906ad31bca3bb640487": {
      "model_module": "@jupyter-widgets/base",
      "model_module_version": "1.1.0",
      "model_name": "LayoutModel",
      "state": {
       "width": "600px"
      }
     },
     "04361920d50c43f4a65daa7b34f4804c": {
      "model_module": "@jupyter-widgets/base",
      "model_module_version": "1.1.0",
      "model_name": "LayoutModel",
      "state": {
       "width": "600px"
      }
     },
     "044c0128e894490c9ca99f339e3f059c": {
      "model_module": "@jupyter-widgets/base",
      "model_module_version": "1.1.0",
      "model_name": "LayoutModel",
      "state": {
       "width": "250px"
      }
     },
     "045dbceedc5a42e69bc739a2d476151d": {
      "model_module": "@jupyter-widgets/controls",
      "model_module_version": "1.4.0",
      "model_name": "ButtonStyleModel",
      "state": {}
     },
     "0466eea9174f4f109f6c30b51176829c": {
      "model_module": "@jupyter-widgets/base",
      "model_module_version": "1.1.0",
      "model_name": "LayoutModel",
      "state": {
       "width": "600px"
      }
     },
     "049a411b8acf4ef99643014a8b401f99": {
      "model_module": "@jupyter-widgets/controls",
      "model_module_version": "1.4.0",
      "model_name": "DescriptionStyleModel",
      "state": {
       "description_width": "initial"
      }
     },
     "04a4dc13921e441fad6c3626b4c1256c": {
      "model_module": "@jupyter-widgets/controls",
      "model_module_version": "1.4.0",
      "model_name": "ButtonModel",
      "state": {
       "description": "Theorie der Sprachstruktur",
       "layout": "IPY_MODEL_b47170f5c39249e4ae9a38737398bc5d",
       "style": "IPY_MODEL_9c0979da5dc64d489c24a15dec4564e2"
      }
     },
     "04b913ded6c34ff59620c2e8af4f3126": {
      "model_module": "@jupyter-widgets/controls",
      "model_module_version": "1.4.0",
      "model_name": "ButtonStyleModel",
      "state": {
       "button_color": "lightgreen"
      }
     },
     "04b9c1e7d3b94690bb74dfc290729f87": {
      "model_module": "@jupyter-widgets/controls",
      "model_module_version": "1.4.0",
      "model_name": "VBoxModel",
      "state": {
       "children": [
        "IPY_MODEL_65aae378b71c4c61a38be6d5af6dab8f",
        "IPY_MODEL_f94ef8fc21b94cd8aaf02ca8dfa10163",
        "IPY_MODEL_c1a119bbafc74e578189ef07ae7e0009",
        "IPY_MODEL_0fbb1e9f7b85457f85c81448eee0131a"
       ],
       "layout": "IPY_MODEL_39516aba5dec44fa800b07fdab36e4f5"
      }
     },
     "04c98554a7dc4ed6b55fc8534cba7a7f": {
      "model_module": "@jupyter-widgets/base",
      "model_module_version": "1.1.0",
      "model_name": "LayoutModel",
      "state": {
       "width": "250px"
      }
     },
     "05107be45b164dd3a926ae0a9e4dd509": {
      "model_module": "@jupyter-widgets/controls",
      "model_module_version": "1.4.0",
      "model_name": "ButtonModel",
      "state": {
       "description": "Dependenz",
       "layout": "IPY_MODEL_fe2d968a5aac4e3c83da317e545498b6",
       "style": "IPY_MODEL_ef7fda5b8898427889a6947f63a61a91"
      }
     },
     "0516d7d90eea43288b2ad94c8bf49dc3": {
      "model_module": "@jupyter-widgets/controls",
      "model_module_version": "1.4.0",
      "model_name": "HTMLModel",
      "state": {
       "layout": "IPY_MODEL_e3d04d83a3dc45428fe41dcbd9a8d015",
       "style": "IPY_MODEL_4dd4bd4390d04484a56db48247ccc3d7",
       "value": "<i>Wählen Sie die <ins>eine</ins> korrekte Antwort aus: </i>"
      }
     },
     "052de710f01d4f53a8bbe5ff0f786857": {
      "model_module": "@jupyter-widgets/controls",
      "model_module_version": "1.4.0",
      "model_name": "HBoxModel",
      "state": {
       "children": [
        "IPY_MODEL_cfd2ca36b6e848cc884f5d9d6c904d63"
       ],
       "layout": "IPY_MODEL_f79741bdc625471e887744d11132c4fe"
      }
     },
     "05454d3d4fbe410cb1a8359568583e2b": {
      "model_module": "@jupyter-widgets/controls",
      "model_module_version": "1.4.0",
      "model_name": "HBoxModel",
      "state": {
       "children": [
        "IPY_MODEL_575c44e2fe49403bbbfabe282b59e676",
        "IPY_MODEL_9a0b5946cf994037ad585d3c7234ff00"
       ],
       "layout": "IPY_MODEL_65ab15416d364e848a8656c1a63bd259"
      }
     },
     "055c722fd74449d2913ffc4666814515": {
      "model_module": "@jupyter-widgets/controls",
      "model_module_version": "1.4.0",
      "model_name": "DescriptionStyleModel",
      "state": {
       "description_width": ""
      }
     },
     "056ed56c661e45d5a9e4caea870bb297": {
      "model_module": "@jupyter-widgets/base",
      "model_module_version": "1.1.0",
      "model_name": "LayoutModel",
      "state": {}
     },
     "05781eb902e347ce9a71de0b5b6a6406": {
      "model_module": "@jupyter-widgets/controls",
      "model_module_version": "1.4.0",
      "model_name": "HTMLModel",
      "state": {
       "layout": "IPY_MODEL_9cb6b6c4c0644884a17b3e05231a72da",
       "style": "IPY_MODEL_5cc09ff4a6764777b0193190afc408a1",
       "value": "<h4 style=\"font-size:14px;\">Welche Mittel kommen in einer formalen Syntaxanalyse zum Einsatz?</h4>"
      }
     },
     "05b6f65274db43d59ab2b243381660f9": {
      "model_module": "@jupyter-widgets/controls",
      "model_module_version": "1.4.0",
      "model_name": "DescriptionStyleModel",
      "state": {
       "description_width": ""
      }
     },
     "05bdf3c2a37141019759e9f4d5bbcaee": {
      "model_module": "@jupyter-widgets/controls",
      "model_module_version": "1.4.0",
      "model_name": "ButtonStyleModel",
      "state": {}
     },
     "06293b88cc964079b99de91d737bbabf": {
      "model_module": "@jupyter-widgets/base",
      "model_module_version": "1.1.0",
      "model_name": "LayoutModel",
      "state": {
       "justify_content": "center"
      }
     },
     "06344a99ded54ef28acd01feb27683b9": {
      "model_module": "@jupyter-widgets/controls",
      "model_module_version": "1.4.0",
      "model_name": "ButtonModel",
      "state": {
       "description": "Subjekt",
       "layout": "IPY_MODEL_b259becae8704eb88017465b1ac9efbd",
       "style": "IPY_MODEL_2cb64e4d0ffa49e9bcca11e609dcca71"
      }
     },
     "064deb39b2ca4ed38aeb422c8671f798": {
      "model_module": "@jupyter-widgets/base",
      "model_module_version": "1.1.0",
      "model_name": "LayoutModel",
      "state": {
       "width": "250px"
      }
     },
     "06c4e2a0800341feae008f71adf16d01": {
      "model_module": "@jupyter-widgets/controls",
      "model_module_version": "1.4.0",
      "model_name": "HTMLModel",
      "state": {
       "layout": "IPY_MODEL_01880778096449b6a26a90990629f675",
       "style": "IPY_MODEL_2fefd43d5394455abe763f79289405ee",
       "value": "<h4 style=\"font-size:14px;\">Welche Funktion im Satz nimmt das Nomen ein, wenn es Kopf der Gerund-Nomen-Phrase ist?</h4>"
      }
     },
     "071435f22a4b42d89ea8f03a86e9723c": {
      "model_module": "@jupyter-widgets/controls",
      "model_module_version": "1.4.0",
      "model_name": "VBoxModel",
      "state": {
       "children": [
        "IPY_MODEL_a07a21928f2e45929e33674fba3f8214",
        "IPY_MODEL_6d26d26226cd4473b8240eacf0591597",
        "IPY_MODEL_ab0e184a6a80444ba41fc6aa37052d46",
        "IPY_MODEL_c7a173d35e804354ac132cbb2bc1c4c3"
       ],
       "layout": "IPY_MODEL_d96aabaa4000452ebd1f0a11d3b1c8a3"
      }
     },
     "07319ba363d840ccb7d04a732a0cccbe": {
      "model_module": "@jupyter-widgets/controls",
      "model_module_version": "1.4.0",
      "model_name": "DescriptionStyleModel",
      "state": {
       "description_width": "initial"
      }
     },
     "0752b1215b434b97911f2dab0e99e409": {
      "model_module": "@jupyter-widgets/controls",
      "model_module_version": "1.4.0",
      "model_name": "HBoxModel",
      "state": {
       "children": [
        "IPY_MODEL_a35da3f2d1bb44f398e9b4837aa2fb90"
       ],
       "layout": "IPY_MODEL_0328daece4ab46e09c049fb8340aa1f2"
      }
     },
     "075d922432444fc5bbb75c410342eb6a": {
      "model_module": "@jupyter-widgets/base",
      "model_module_version": "1.1.0",
      "model_name": "LayoutModel",
      "state": {
       "width": "600px"
      }
     },
     "076d1700f19e4920aea74407896137f9": {
      "model_module": "@jupyter-widgets/controls",
      "model_module_version": "1.4.0",
      "model_name": "ButtonModel",
      "state": {
       "description": "Keine der anderen Möglichkeiten",
       "layout": "IPY_MODEL_02ff6f4ef8ef4396aec26d0b342c2ce0",
       "style": "IPY_MODEL_558e436fb3ba476189899e45c2b451f5"
      }
     },
     "07e151eccd114c3a9ce4a41f044c3eb2": {
      "model_module": "@jupyter-widgets/base",
      "model_module_version": "1.1.0",
      "model_name": "LayoutModel",
      "state": {
       "width": "150px"
      }
     },
     "07e19c0162fa4d8f8246cd0553c13f4b": {
      "model_module": "@jupyter-widgets/controls",
      "model_module_version": "1.4.0",
      "model_name": "ButtonStyleModel",
      "state": {}
     },
     "07e7517aeba14b889ff6ca10db89d921": {
      "model_module": "@jupyter-widgets/controls",
      "model_module_version": "1.4.0",
      "model_name": "ButtonStyleModel",
      "state": {
       "button_color": "lightgreen"
      }
     },
     "07ff73df09144206be30607058c5dd4a": {
      "model_module": "@jupyter-widgets/base",
      "model_module_version": "1.1.0",
      "model_name": "LayoutModel",
      "state": {}
     },
     "0859d4bc02a84e5c8ee91efdafd7b980": {
      "model_module": "@jupyter-widgets/base",
      "model_module_version": "1.1.0",
      "model_name": "LayoutModel",
      "state": {
       "align_content": "stretch",
       "align_items": "stretch",
       "display": "inline-flex",
       "flex": "flex-grow",
       "flex_flow": "row wrap",
       "justify_content": "flex-start"
      }
     },
     "087b8940cdef4e2394fc5cc29f54fc5d": {
      "model_module": "@jupyter-widgets/controls",
      "model_module_version": "1.4.0",
      "model_name": "ButtonModel",
      "state": {
       "description": "formale Grammatik",
       "layout": "IPY_MODEL_40bc543c5ed048d0aafe813f861d639c",
       "style": "IPY_MODEL_7396727a0ade4da7a722befb932c3bcb"
      }
     },
     "0896ffc714784c9a98ef9d7adeb8b871": {
      "model_module": "@jupyter-widgets/base",
      "model_module_version": "1.1.0",
      "model_name": "LayoutModel",
      "state": {}
     },
     "08cd58b66ec1431682fafef78ce78b9c": {
      "model_module": "@jupyter-widgets/base",
      "model_module_version": "1.1.0",
      "model_name": "LayoutModel",
      "state": {
       "width": "250px"
      }
     },
     "08d3cdc918454d9d916ba4afe79512f7": {
      "model_module": "@jupyter-widgets/controls",
      "model_module_version": "1.4.0",
      "model_name": "ButtonStyleModel",
      "state": {}
     },
     "093a55e8d2b24571b9929b29dcd4c8d8": {
      "model_module": "@jupyter-widgets/controls",
      "model_module_version": "1.4.0",
      "model_name": "CheckboxModel",
      "state": {
       "description": "Eine endliche Menge an Sätzen kann mit unendlichen Mitteln beschrieben werden.",
       "disabled": false,
       "layout": "IPY_MODEL_3a4f1fa70c70465899722132328f0276",
       "style": "IPY_MODEL_c08ff3ffdc6e4322a73bdccf944ce709",
       "value": false
      }
     },
     "094b368f9a424ad1aa9277fb045ee84c": {
      "model_module": "@jupyter-widgets/controls",
      "model_module_version": "1.4.0",
      "model_name": "CheckboxModel",
      "state": {
       "description": "Subjekt-Nominalphrase",
       "disabled": false,
       "layout": "IPY_MODEL_0974b75dc2d141cfb739739b57a62c49",
       "style": "IPY_MODEL_4c8ae3c45fb64f7dace09bec2bb9fdf9",
       "value": false
      }
     },
     "0954224ed07241ca86a25e7e2ffe4606": {
      "model_module": "@jupyter-widgets/base",
      "model_module_version": "1.1.0",
      "model_name": "LayoutModel",
      "state": {
       "width": "250px"
      }
     },
     "09597c60e3214a62a77b4e7f981c0e66": {
      "model_module": "@jupyter-widgets/base",
      "model_module_version": "1.1.0",
      "model_name": "LayoutModel",
      "state": {}
     },
     "0974b75dc2d141cfb739739b57a62c49": {
      "model_module": "@jupyter-widgets/base",
      "model_module_version": "1.1.0",
      "model_name": "LayoutModel",
      "state": {
       "width": "600px"
      }
     },
     "09766d34b6ed4f54833b07c54d21ca60": {
      "model_module": "@jupyter-widgets/base",
      "model_module_version": "1.1.0",
      "model_name": "LayoutModel",
      "state": {}
     },
     "09939960c6384d30a107724d6faac723": {
      "model_module": "@jupyter-widgets/base",
      "model_module_version": "1.1.0",
      "model_name": "LayoutModel",
      "state": {}
     },
     "099f9805cbdf42d3a42b3280b0b5f8e9": {
      "model_module": "@jupyter-widgets/controls",
      "model_module_version": "1.4.0",
      "model_name": "ButtonStyleModel",
      "state": {}
     },
     "09b138a0b59e4682acd69448a6d2d819": {
      "model_module": "@jupyter-widgets/controls",
      "model_module_version": "1.4.0",
      "model_name": "DescriptionStyleModel",
      "state": {
       "description_width": ""
      }
     },
     "09b943243bf4489f8821c9e752fc29f6": {
      "model_module": "@jupyter-widgets/base",
      "model_module_version": "1.1.0",
      "model_name": "LayoutModel",
      "state": {
       "width": "250px"
      }
     },
     "09d4300b91a048d4b49aaa25cc4ac8a5": {
      "model_module": "@jupyter-widgets/base",
      "model_module_version": "1.1.0",
      "model_name": "LayoutModel",
      "state": {
       "justify_content": "center"
      }
     },
     "0a0199ef1d094cfeb65fbc2478b78afc": {
      "model_module": "@jupyter-widgets/controls",
      "model_module_version": "1.4.0",
      "model_name": "HBoxModel",
      "state": {
       "children": [
        "IPY_MODEL_61f6a73318f04a488531bf9b1eba9308",
        "IPY_MODEL_348396b986c74b299f6a643a88e07784"
       ],
       "layout": "IPY_MODEL_69683bda11cf4a6d905631d8e7f12c25"
      }
     },
     "0a0395ae51324ae2b909b6cec654a408": {
      "model_module": "@jupyter-widgets/controls",
      "model_module_version": "1.4.0",
      "model_name": "VBoxModel",
      "state": {
       "children": [
        "IPY_MODEL_75ce35709ea74d8a86a0ae11216ef51b",
        "IPY_MODEL_0b465b1297b54261a793147570fde801",
        "IPY_MODEL_96de91c8ab184d02a74b2431cd47fb6e",
        "IPY_MODEL_4cf1c5db37614840b1233f4d4af0798c"
       ],
       "layout": "IPY_MODEL_9910b46a9dd84456ba1a7f37b5be299f"
      }
     },
     "0a34b1ca6d2743549f6bd16255592de8": {
      "model_module": "@jupyter-widgets/controls",
      "model_module_version": "1.4.0",
      "model_name": "HBoxModel",
      "state": {
       "children": [
        "IPY_MODEL_215ec017fe9d45ed893c70aa9afdd327"
       ],
       "layout": "IPY_MODEL_9eb50c46c92a46048f33d6b645d4e032"
      }
     },
     "0a4468fa9d5f4427b457481af2c61d57": {
      "model_module": "@jupyter-widgets/controls",
      "model_module_version": "1.4.0",
      "model_name": "HTMLModel",
      "state": {
       "layout": "IPY_MODEL_5f268be640d1484bacc4a9c3a4154696",
       "style": "IPY_MODEL_2387ffd7313b41b48fea50ed14f0d476",
       "value": "<i>Markieren Sie <ins>alle</ins> passenden Antworten: </i>"
      }
     },
     "0a44a8f8723749df9768561e32cc7ca1": {
      "model_module": "@jupyter-widgets/base",
      "model_module_version": "1.1.0",
      "model_name": "LayoutModel",
      "state": {
       "align_content": "stretch",
       "align_items": "stretch",
       "display": "inline-flex",
       "flex": "flex-grow",
       "flex_flow": "row wrap",
       "justify_content": "flex-start"
      }
     },
     "0a491b675c264ae0bcec0f25b0934606": {
      "model_module": "@jupyter-widgets/controls",
      "model_module_version": "1.4.0",
      "model_name": "DescriptionStyleModel",
      "state": {
       "description_width": ""
      }
     },
     "0a5c606118cc483c950b1daf0c59a1d0": {
      "model_module": "@jupyter-widgets/controls",
      "model_module_version": "1.4.0",
      "model_name": "HBoxModel",
      "state": {
       "children": [
        "IPY_MODEL_59403cb6c2bb4eac8ad929261d33fb7e",
        "IPY_MODEL_fb0dd3e87afc4b4c8381ea6eee9bdf08"
       ],
       "layout": "IPY_MODEL_b57ee35f93cc46adb40e4793ead2bba3"
      }
     },
     "0a7988d476004652bd3f0a1a1a2fd65d": {
      "model_module": "@jupyter-widgets/base",
      "model_module_version": "1.1.0",
      "model_name": "LayoutModel",
      "state": {
       "width": "600px"
      }
     },
     "0aa98b5bed9f4eed944dc06383e06c1d": {
      "model_module": "@jupyter-widgets/controls",
      "model_module_version": "1.4.0",
      "model_name": "DescriptionStyleModel",
      "state": {
       "description_width": ""
      }
     },
     "0ac7cac52088451d8d02c4e6050e79c5": {
      "model_module": "@jupyter-widgets/controls",
      "model_module_version": "1.4.0",
      "model_name": "ButtonStyleModel",
      "state": {
       "button_color": "lightgreen"
      }
     },
     "0adce13d0b6b4923bbe4aca3407df13e": {
      "model_module": "@jupyter-widgets/controls",
      "model_module_version": "1.4.0",
      "model_name": "ButtonStyleModel",
      "state": {}
     },
     "0b04be22ab634e239e8ee1106fc13f0f": {
      "model_module": "@jupyter-widgets/controls",
      "model_module_version": "1.4.0",
      "model_name": "CheckboxModel",
      "state": {
       "description": "Nomen ist Dependent einer NP-Phrase",
       "disabled": false,
       "layout": "IPY_MODEL_a5b852f7106e46b88304a8e5d3deceaa",
       "style": "IPY_MODEL_049a411b8acf4ef99643014a8b401f99",
       "value": false
      }
     },
     "0b465b1297b54261a793147570fde801": {
      "model_module": "@jupyter-widgets/controls",
      "model_module_version": "1.4.0",
      "model_name": "CheckboxModel",
      "state": {
       "description": "Dependenzgraph mit gelabelten Kanten",
       "disabled": false,
       "layout": "IPY_MODEL_78bcbc6b0ea8447ca32f3d5fe0725784",
       "style": "IPY_MODEL_f530142b4cf44c9399749e74c9472519",
       "value": true
      }
     },
     "0b539c932764486ca03995f380b5749d": {
      "model_module": "@jupyter-widgets/controls",
      "model_module_version": "1.4.0",
      "model_name": "ButtonModel",
      "state": {
       "description": "Korrekt?",
       "layout": "IPY_MODEL_ebeb57cbe8bf47bc9565a92fe33c68d4",
       "style": "IPY_MODEL_1bfae73f90bd443f99f9836ef895e248"
      }
     },
     "0b57ab2f87ef4a739ce1323949055ce3": {
      "model_module": "@jupyter-widgets/controls",
      "model_module_version": "1.4.0",
      "model_name": "HBoxModel",
      "state": {
       "children": [
        "IPY_MODEL_d815aa20b74e4c1aaee2f4008c15de1a",
        "IPY_MODEL_e88f5192896d4091b80b5f1a3012cd60"
       ],
       "layout": "IPY_MODEL_884931a0754047529ed0ba8e5ce051e9"
      }
     },
     "0b72ad8557194198bced326b398e52e1": {
      "model_module": "@jupyter-widgets/controls",
      "model_module_version": "1.4.0",
      "model_name": "HTMLModel",
      "state": {
       "layout": "IPY_MODEL_cea8fa696fad453d8b08daa09fa5708a",
       "style": "IPY_MODEL_9ebdcaa188f042c8893a8f3c7a2942eb",
       "value": "<i>Markieren Sie <ins>alle</ins> passenden Antworten: </i>"
      }
     },
     "0b871796432846bbb41566e5178dbd94": {
      "model_module": "@jupyter-widgets/base",
      "model_module_version": "1.1.0",
      "model_name": "LayoutModel",
      "state": {}
     },
     "0b903f3040104b589ce9ccd7f8027819": {
      "model_module": "@jupyter-widgets/controls",
      "model_module_version": "1.4.0",
      "model_name": "VBoxModel",
      "state": {
       "children": [
        "IPY_MODEL_e475038013f64d40b97ee8b6edcb5d43",
        "IPY_MODEL_0b04be22ab634e239e8ee1106fc13f0f",
        "IPY_MODEL_8a64eb22acbb4213b3273b791a6bc9e8",
        "IPY_MODEL_586830eb1742470f9b7933db786d0f6e"
       ],
       "layout": "IPY_MODEL_f03c8ca83b75490da908fb130250ec9a"
      }
     },
     "0ba54c8616ef405984df7795dd6fc8f4": {
      "model_module": "@jupyter-widgets/controls",
      "model_module_version": "1.4.0",
      "model_name": "HBoxModel",
      "state": {
       "children": [
        "IPY_MODEL_543ef6812c5141a089642e8f471a0a52"
       ],
       "layout": "IPY_MODEL_1ee3f04f41b246618602b7050ff64ffa"
      }
     },
     "0bae10f9946e4d9baa1d6503844e2a44": {
      "model_module": "@jupyter-widgets/controls",
      "model_module_version": "1.4.0",
      "model_name": "HTMLModel",
      "state": {
       "layout": "IPY_MODEL_609a888111ab481ebd6bdacb75c8ae99",
       "style": "IPY_MODEL_c43c8ba1aa6441f989ae89ff3971001f",
       "value": "<h4 style=\"font-size:14px;\">Welcher Grammatikbegriff liegt Satz 3 zugrunde?</h4>"
      }
     },
     "0c0eb6dd60bc4c94b7b944367c7e1f2f": {
      "model_module": "@jupyter-widgets/base",
      "model_module_version": "1.1.0",
      "model_name": "LayoutModel",
      "state": {}
     },
     "0c44c3c18e8a4e6381724c557ba3f153": {
      "model_module": "@jupyter-widgets/base",
      "model_module_version": "1.1.0",
      "model_name": "LayoutModel",
      "state": {}
     },
     "0c582effee944872b140eafa8cdf897b": {
      "model_module": "@jupyter-widgets/controls",
      "model_module_version": "1.4.0",
      "model_name": "DescriptionStyleModel",
      "state": {
       "description_width": ""
      }
     },
     "0c5a5e792e1849168b891f6c9160d4d6": {
      "model_module": "@jupyter-widgets/base",
      "model_module_version": "1.1.0",
      "model_name": "LayoutModel",
      "state": {}
     },
     "0c6e6186300149acaedc887320148500": {
      "model_module": "@jupyter-widgets/base",
      "model_module_version": "1.1.0",
      "model_name": "LayoutModel",
      "state": {
       "width": "250px"
      }
     },
     "0c716be79e0c48efac1ef1ba6a822b34": {
      "model_module": "@jupyter-widgets/controls",
      "model_module_version": "1.4.0",
      "model_name": "ButtonStyleModel",
      "state": {}
     },
     "0c86d1a8dd1c4e2b9a1dbcc090750b1a": {
      "model_module": "@jupyter-widgets/controls",
      "model_module_version": "1.4.0",
      "model_name": "ButtonStyleModel",
      "state": {
       "button_color": "lightgreen"
      }
     },
     "0caee1195c8c4d03bf5fc77de1d31e00": {
      "model_module": "@jupyter-widgets/controls",
      "model_module_version": "1.4.0",
      "model_name": "DescriptionStyleModel",
      "state": {
       "description_width": ""
      }
     },
     "0cc8d70c7a224fb08817d6828cc1dfca": {
      "model_module": "@jupyter-widgets/controls",
      "model_module_version": "1.4.0",
      "model_name": "HTMLModel",
      "state": {
       "layout": "IPY_MODEL_6d6ba62315024bb696412a9103e049b0",
       "style": "IPY_MODEL_303d77bba09a4d64b78025a633787ba5",
       "value": "<i>Wählen Sie die <ins>eine</ins> korrekte Antwort aus: </i>"
      }
     },
     "0cd88064a4554c3aa728a8e1e759137c": {
      "model_module": "@jupyter-widgets/controls",
      "model_module_version": "1.4.0",
      "model_name": "ButtonModel",
      "state": {
       "description": "Korrekt?",
       "layout": "IPY_MODEL_498a33f154cb425089837bcab40335dd",
       "style": "IPY_MODEL_38b78bd9a74f45319596d3fc549cdfd7"
      }
     },
     "0cf3f0ef692d443da889a0246807a51d": {
      "model_module": "@jupyter-widgets/controls",
      "model_module_version": "1.4.0",
      "model_name": "HBoxModel",
      "state": {
       "children": [
        "IPY_MODEL_5dbec96da0ea47f6baeff23f1fc3ce31"
       ],
       "layout": "IPY_MODEL_ef0391beb98e4eeb91fecd5f86c9a36f"
      }
     },
     "0d320b548a3d4918b3573218ed594fb3": {
      "model_module": "@jupyter-widgets/controls",
      "model_module_version": "1.4.0",
      "model_name": "DropdownModel",
      "state": {
       "_options_labels": [
        "Keine der Alternativen",
        "der Ort des Geschehens wird festgelegt",
        "die PP wird dem Substantiv beigefügt",
        "die im Verb ausgedrückte Tätigkeit wird modifiziert"
       ],
       "description": "Antwort:",
       "index": 0,
       "layout": "IPY_MODEL_c413e1068d214d909c3f2c15644531af",
       "style": "IPY_MODEL_a110a5d07b3542deb276f89f66086b0d"
      }
     },
     "0d4d68cf245744bcad3d140e003d6656": {
      "model_module": "@jupyter-widgets/base",
      "model_module_version": "1.1.0",
      "model_name": "LayoutModel",
      "state": {}
     },
     "0d6466d7a24442bebd765c35a710c54d": {
      "model_module": "@jupyter-widgets/controls",
      "model_module_version": "1.4.0",
      "model_name": "ButtonStyleModel",
      "state": {}
     },
     "0d791697376b4479956f3fef5d36c0ac": {
      "model_module": "@jupyter-widgets/base",
      "model_module_version": "1.1.0",
      "model_name": "LayoutModel",
      "state": {
       "width": "150px"
      }
     },
     "0de29de0dac24d859a345b069e5167c1": {
      "model_module": "@jupyter-widgets/controls",
      "model_module_version": "1.4.0",
      "model_name": "DescriptionStyleModel",
      "state": {
       "description_width": "initial"
      }
     },
     "0e0b91de15604042a4652c58c955e582": {
      "model_module": "@jupyter-widgets/controls",
      "model_module_version": "1.4.0",
      "model_name": "ButtonModel",
      "state": {
       "description": "Regelsystem",
       "layout": "IPY_MODEL_713f6530549b48efacac08d17f743bf1",
       "style": "IPY_MODEL_bae0504d6a054e029d415e7f4180554e"
      }
     },
     "0e0f61db999f4656aaef3dc3f0c63c56": {
      "model_module": "@jupyter-widgets/base",
      "model_module_version": "1.1.0",
      "model_name": "LayoutModel",
      "state": {
       "justify_content": "center"
      }
     },
     "0e49f8bab7e1455684ecc650e80b111f": {
      "model_module": "@jupyter-widgets/controls",
      "model_module_version": "1.4.0",
      "model_name": "CheckboxModel",
      "state": {
       "description": "semantische",
       "disabled": false,
       "layout": "IPY_MODEL_3162b2dd040d48158a1aed4fa38dce4b",
       "style": "IPY_MODEL_7b7e8dbdcef74b9d9497e4f58cc092a5",
       "value": false
      }
     },
     "0e4fbfbede914385aa5fd9d5a9620033": {
      "model_module": "@jupyter-widgets/controls",
      "model_module_version": "1.4.0",
      "model_name": "DescriptionStyleModel",
      "state": {
       "description_width": "initial"
      }
     },
     "0e5077e8e48b45e7be33825304e143dd": {
      "model_module": "@jupyter-widgets/base",
      "model_module_version": "1.1.0",
      "model_name": "LayoutModel",
      "state": {
       "width": "250px"
      }
     },
     "0e792efaefff403580f7dfe1ac1c6d1f": {
      "model_module": "@jupyter-widgets/controls",
      "model_module_version": "1.4.0",
      "model_name": "VBoxModel",
      "state": {
       "children": [
        "IPY_MODEL_dc81135139e649cc8a1ac6dbea6821ed",
        "IPY_MODEL_9048213b56814cbab97cc8d5fc63cae1",
        "IPY_MODEL_2e5e718afd244e00ac00b58ebf29fb70",
        "IPY_MODEL_99df5335ea254f7da18ecc51bb9c643b",
        "IPY_MODEL_16a82d5fabca4086be5fa756cc194447"
       ],
       "layout": "IPY_MODEL_00f2d9ec58f34a53925a6bfa98648f6c"
      }
     },
     "0edcafe6349b4fa689ffad37471040bf": {
      "model_module": "@jupyter-widgets/controls",
      "model_module_version": "1.4.0",
      "model_name": "ButtonModel",
      "state": {
       "description": "Regelsystem",
       "layout": "IPY_MODEL_08cd58b66ec1431682fafef78ce78b9c",
       "style": "IPY_MODEL_9cc60a18e9f04651b615f7544c31aef8"
      }
     },
     "0f1bd7c83b0d46899aadd3a7c25d821a": {
      "model_module": "@jupyter-widgets/controls",
      "model_module_version": "1.4.0",
      "model_name": "DescriptionStyleModel",
      "state": {
       "description_width": "initial"
      }
     },
     "0f5cec589dbc4ee39cdc645cdd34591d": {
      "model_module": "@jupyter-widgets/controls",
      "model_module_version": "1.4.0",
      "model_name": "CheckboxModel",
      "state": {
       "description": "Synonymie",
       "disabled": false,
       "layout": "IPY_MODEL_3c57f42030314eacaa7bed0d3f8ee9a2",
       "style": "IPY_MODEL_c6e73dec58f8462a857e8a1572849ef1",
       "value": false
      }
     },
     "0f7343a281cb497a9db87a8a21dacc10": {
      "model_module": "@jupyter-widgets/base",
      "model_module_version": "1.1.0",
      "model_name": "LayoutModel",
      "state": {
       "width": "600px"
      }
     },
     "0fbb1e9f7b85457f85c81448eee0131a": {
      "model_module": "@jupyter-widgets/controls",
      "model_module_version": "1.4.0",
      "model_name": "ButtonModel",
      "state": {
       "description": "Korrekt?",
       "layout": "IPY_MODEL_2e729af50e45492fbf9c31e4888a868d",
       "style": "IPY_MODEL_7da0e6611e644ca1a5e38a032339de9c"
      }
     },
     "0fc0b331593c409296fbad8116e79d2e": {
      "model_module": "@jupyter-widgets/base",
      "model_module_version": "1.1.0",
      "model_name": "LayoutModel",
      "state": {
       "width": "250px"
      }
     },
     "0fff01bbc129409cae8f97fda824fded": {
      "model_module": "@jupyter-widgets/controls",
      "model_module_version": "1.4.0",
      "model_name": "DescriptionStyleModel",
      "state": {
       "description_width": ""
      }
     },
     "100f12f64c534b4fbf9da2f23cdfad68": {
      "model_module": "@jupyter-widgets/base",
      "model_module_version": "1.1.0",
      "model_name": "LayoutModel",
      "state": {
       "justify_content": "center"
      }
     },
     "1069b4219dbc43acb754df021305a558": {
      "model_module": "@jupyter-widgets/controls",
      "model_module_version": "1.4.0",
      "model_name": "HTMLModel",
      "state": {
       "layout": "IPY_MODEL_80ae0dcbbd094f9e8142f6f3fad0b2fc",
       "style": "IPY_MODEL_8fe871727e0a462383ef29d8fc8a0513",
       "value": "<i>Wählen Sie die <ins>eine</ins> korrekte Antwort aus: </i>"
      }
     },
     "1081383dbab54c4a92738783aaa83c21": {
      "model_module": "@jupyter-widgets/controls",
      "model_module_version": "1.4.0",
      "model_name": "VBoxModel",
      "state": {
       "children": [
        "IPY_MODEL_ce480d0338054b4191776f6bf82927fe",
        "IPY_MODEL_b93b129279414415a6fd9a767e8996cd",
        "IPY_MODEL_57b480340a754deab8833e5817d15d85",
        "IPY_MODEL_54b3171080794bf0b6ce405e5e409ac9"
       ],
       "layout": "IPY_MODEL_eaf28d2a1acb41bba83efe3420f3f5b7"
      }
     },
     "10d9728dd9bc4afbb8851ae711dec986": {
      "model_module": "@jupyter-widgets/controls",
      "model_module_version": "1.4.0",
      "model_name": "HTMLModel",
      "state": {
       "layout": "IPY_MODEL_beb087f1ff8348b7826b1cbcc3e41850",
       "style": "IPY_MODEL_5a93f81af1f645df8283f170c15b4b6c",
       "value": "<i>Wählen Sie die <ins>eine</ins> korrekte Antwort aus: </i>"
      }
     },
     "10fbc6a607e44084b5feb03f528df76f": {
      "model_module": "@jupyter-widgets/base",
      "model_module_version": "1.1.0",
      "model_name": "LayoutModel",
      "state": {
       "width": "600px"
      }
     },
     "11589d5f8dc547e481f3f7b362071182": {
      "model_module": "@jupyter-widgets/base",
      "model_module_version": "1.1.0",
      "model_name": "LayoutModel",
      "state": {}
     },
     "1160d508ecc7462797bd7c0a1579b17d": {
      "model_module": "@jupyter-widgets/base",
      "model_module_version": "1.1.0",
      "model_name": "LayoutModel",
      "state": {}
     },
     "11793233a2d24cde98af1197f7015519": {
      "model_module": "@jupyter-widgets/controls",
      "model_module_version": "1.4.0",
      "model_name": "VBoxModel",
      "state": {
       "children": [
        "IPY_MODEL_96637b497a9c4de2a79aaaf6410fe88f",
        "IPY_MODEL_56b1acb5d9204e289660973d1bccb2be",
        "IPY_MODEL_a56ae62170b6473e8c5c05eae9ad6cec",
        "IPY_MODEL_3308505b8daa45aaad8b3760cfc3bade",
        "IPY_MODEL_2ff601b42ed04406a1034c04be23d350"
       ],
       "layout": "IPY_MODEL_c9a8ff4754fa4a9cb88bd72fc98f398a"
      }
     },
     "117e0ae742f0470c8225d298ff11c581": {
      "model_module": "@jupyter-widgets/controls",
      "model_module_version": "1.4.0",
      "model_name": "HBoxModel",
      "state": {
       "children": [
        "IPY_MODEL_7d0760878730444aaa5ce95c7011aa4e"
       ],
       "layout": "IPY_MODEL_30207c304d0141d09abc55f87bb34a60"
      }
     },
     "11ee07e201c94cea9b8c3e570c25a7e3": {
      "model_module": "@jupyter-widgets/base",
      "model_module_version": "1.1.0",
      "model_name": "LayoutModel",
      "state": {}
     },
     "11ee4c3881ab4ff6837ac0df3d24490a": {
      "model_module": "@jupyter-widgets/base",
      "model_module_version": "1.1.0",
      "model_name": "LayoutModel",
      "state": {
       "width": "600px"
      }
     },
     "12371d249e0743e9b15d628536c1928f": {
      "model_module": "@jupyter-widgets/base",
      "model_module_version": "1.1.0",
      "model_name": "LayoutModel",
      "state": {
       "justify_content": "center"
      }
     },
     "1296503db36b430892f9058e25ccb2ce": {
      "model_module": "@jupyter-widgets/base",
      "model_module_version": "1.1.0",
      "model_name": "LayoutModel",
      "state": {}
     },
     "12b6c39b4b9547cb885d3a74a6c6b61b": {
      "model_module": "@jupyter-widgets/base",
      "model_module_version": "1.1.0",
      "model_name": "LayoutModel",
      "state": {
       "width": "250px"
      }
     },
     "12bc8bdd2ea94ca989f00af64ccc9836": {
      "model_module": "@jupyter-widgets/base",
      "model_module_version": "1.1.0",
      "model_name": "LayoutModel",
      "state": {
       "width": "250px"
      }
     },
     "12bdadeb591849dea96f92e811f40d7a": {
      "model_module": "@jupyter-widgets/controls",
      "model_module_version": "1.4.0",
      "model_name": "ButtonStyleModel",
      "state": {}
     },
     "12cbab4abe314052b38bba7dc40e4770": {
      "model_module": "@jupyter-widgets/controls",
      "model_module_version": "1.4.0",
      "model_name": "VBoxModel",
      "state": {
       "children": [
        "IPY_MODEL_740eb1e6ca904526b5a5fe222efee9e7",
        "IPY_MODEL_c6f13e62e0e84217b596d5d3a92acae1",
        "IPY_MODEL_7a2e6495f15342689e286853fb014dba",
        "IPY_MODEL_ced2435a0c33417786996766cf7fc038",
        "IPY_MODEL_170a946e97964560a2d5e153e9008008"
       ],
       "layout": "IPY_MODEL_a27f80e0ec464b4989cff5a7a71789ad"
      }
     },
     "12cd6056b21b40e28b8224505e9e43ce": {
      "model_module": "@jupyter-widgets/base",
      "model_module_version": "1.1.0",
      "model_name": "LayoutModel",
      "state": {
       "width": "600px"
      }
     },
     "12cd6a39843c4cf6acec83279704c0d7": {
      "model_module": "@jupyter-widgets/controls",
      "model_module_version": "1.4.0",
      "model_name": "ButtonStyleModel",
      "state": {}
     },
     "134b26b413aa48b48287766c95175b54": {
      "model_module": "@jupyter-widgets/controls",
      "model_module_version": "1.4.0",
      "model_name": "HBoxModel",
      "state": {
       "children": [
        "IPY_MODEL_7721dc7874ed457bb6933afb57705f9f"
       ],
       "layout": "IPY_MODEL_da8f9557dcd54975bd4ff02e9c90a0a3"
      }
     },
     "137104af4ca84c00947eb881ed9c407c": {
      "model_module": "@jupyter-widgets/controls",
      "model_module_version": "1.4.0",
      "model_name": "CheckboxModel",
      "state": {
       "description": "Wohlgeformtheit",
       "disabled": false,
       "layout": "IPY_MODEL_809563fb37de4b659bcdca88626682b8",
       "style": "IPY_MODEL_4080fce3bb5440f5baac612eaa5f6636",
       "value": false
      }
     },
     "13b042c33f4a427fb7d05e0070b35eb6": {
      "model_module": "@jupyter-widgets/controls",
      "model_module_version": "1.4.0",
      "model_name": "DescriptionStyleModel",
      "state": {
       "description_width": "initial"
      }
     },
     "14233222cbe34365ae1aa8d544646317": {
      "model_module": "@jupyter-widgets/controls",
      "model_module_version": "1.4.0",
      "model_name": "VBoxModel",
      "state": {
       "children": [
        "IPY_MODEL_06c4e2a0800341feae008f71adf16d01",
        "IPY_MODEL_9a4091d8c4484682ba5fc03105ef5a8b",
        "IPY_MODEL_f3dad2c5c82442f285c458362b952afb"
       ],
       "layout": "IPY_MODEL_1f542ab32715489fb69517313d0ec1f7"
      }
     },
     "1435c34fa85b4768a199a57390d3e979": {
      "model_module": "@jupyter-widgets/controls",
      "model_module_version": "1.4.0",
      "model_name": "ButtonStyleModel",
      "state": {}
     },
     "147ed5d0a6ea4ecfa025ca4a26827901": {
      "model_module": "@jupyter-widgets/controls",
      "model_module_version": "1.4.0",
      "model_name": "DescriptionStyleModel",
      "state": {
       "description_width": "initial"
      }
     },
     "148a5550ef6240d69d05f6872f67294f": {
      "model_module": "@jupyter-widgets/base",
      "model_module_version": "1.1.0",
      "model_name": "LayoutModel",
      "state": {}
     },
     "14b64ca1b3b34bac9c481813647bd8f7": {
      "model_module": "@jupyter-widgets/base",
      "model_module_version": "1.1.0",
      "model_name": "LayoutModel",
      "state": {
       "width": "600px"
      }
     },
     "14d9a2b095924f1abcb743559e5c8672": {
      "model_module": "@jupyter-widgets/controls",
      "model_module_version": "1.4.0",
      "model_name": "VBoxModel",
      "state": {
       "children": [
        "IPY_MODEL_86f0c5530e0149c1a59993687ec6ab1b",
        "IPY_MODEL_c0e3a2d23d85406b8eaa5584406f1d05",
        "IPY_MODEL_83d26a16e25648a482ec58a5c905348b",
        "IPY_MODEL_36185fd7834c46b9a8630be586a24251"
       ],
       "layout": "IPY_MODEL_8ddc5bc940604c9a9330d0bf30678f1b"
      }
     },
     "14edd927631c47cea4756ce75fe316e5": {
      "model_module": "@jupyter-widgets/controls",
      "model_module_version": "1.4.0",
      "model_name": "ButtonStyleModel",
      "state": {}
     },
     "14ee3562a34f44f182a767dcde1df262": {
      "model_module": "@jupyter-widgets/base",
      "model_module_version": "1.1.0",
      "model_name": "LayoutModel",
      "state": {
       "justify_content": "center"
      }
     },
     "156104cf05354db69e248fc5a422ae72": {
      "model_module": "@jupyter-widgets/base",
      "model_module_version": "1.1.0",
      "model_name": "LayoutModel",
      "state": {
       "width": "250px"
      }
     },
     "156e6b605f9643d98198d5c1a27fdf76": {
      "model_module": "@jupyter-widgets/base",
      "model_module_version": "1.1.0",
      "model_name": "LayoutModel",
      "state": {}
     },
     "15c3582cc2ca47ce8a99ced49a08d19d": {
      "model_module": "@jupyter-widgets/controls",
      "model_module_version": "1.4.0",
      "model_name": "DescriptionStyleModel",
      "state": {
       "description_width": "initial"
      }
     },
     "15c63a496caf43a5a7250096a9c88611": {
      "model_module": "@jupyter-widgets/controls",
      "model_module_version": "1.4.0",
      "model_name": "DescriptionStyleModel",
      "state": {
       "description_width": ""
      }
     },
     "16453c0fdf2648acac773e19a000344a": {
      "model_module": "@jupyter-widgets/controls",
      "model_module_version": "1.4.0",
      "model_name": "ButtonStyleModel",
      "state": {}
     },
     "164fc2911eec466db2ac580a252ceb7f": {
      "model_module": "@jupyter-widgets/controls",
      "model_module_version": "1.4.0",
      "model_name": "DescriptionStyleModel",
      "state": {
       "description_width": ""
      }
     },
     "1663f6397e5f4beda4118eabe0d305c5": {
      "model_module": "@jupyter-widgets/controls",
      "model_module_version": "1.4.0",
      "model_name": "HTMLModel",
      "state": {
       "layout": "IPY_MODEL_1c4ac02dadce4f67a306221dee727171",
       "style": "IPY_MODEL_de4965b0a54d4c16ac4b1ac478aed7a8",
       "value": "<h4 style=\"font-size:14px;\">Was ist der Fall, wenn die PP ein Adverbial ist?</h4>"
      }
     },
     "1694602bf46e4a43bd21355ee99753be": {
      "model_module": "@jupyter-widgets/base",
      "model_module_version": "1.1.0",
      "model_name": "LayoutModel",
      "state": {
       "width": "250px"
      }
     },
     "16a82d5fabca4086be5fa756cc194447": {
      "model_module": "@jupyter-widgets/controls",
      "model_module_version": "1.4.0",
      "model_name": "HBoxModel",
      "state": {
       "children": [
        "IPY_MODEL_65e96d9c4f124223a9c04c19d4afc470"
       ],
       "layout": "IPY_MODEL_f71526a08516428887e90d0611fa4900"
      }
     },
     "16f7a8bc656a4686b5c89a58e2454aa8": {
      "model_module": "@jupyter-widgets/controls",
      "model_module_version": "1.4.0",
      "model_name": "HBoxModel",
      "state": {
       "children": [
        "IPY_MODEL_ec2b4dbd285f46aa8133d347f7e9b1d2",
        "IPY_MODEL_b1d9598dc4dd453eb7f35500fcf45131"
       ],
       "layout": "IPY_MODEL_5f0f341d229349b3ace40bd73257794c"
      }
     },
     "16fe90985522464bb79b47c51a64da47": {
      "model_module": "@jupyter-widgets/controls",
      "model_module_version": "1.4.0",
      "model_name": "DescriptionStyleModel",
      "state": {
       "description_width": ""
      }
     },
     "1702836f2321493e8914237ca696aff2": {
      "model_module": "@jupyter-widgets/base",
      "model_module_version": "1.1.0",
      "model_name": "LayoutModel",
      "state": {
       "justify_content": "center"
      }
     },
     "170a946e97964560a2d5e153e9008008": {
      "model_module": "@jupyter-widgets/controls",
      "model_module_version": "1.4.0",
      "model_name": "CheckboxModel",
      "state": {
       "description": "Verbalphrase",
       "disabled": false,
       "layout": "IPY_MODEL_8209c63eee114c9bb10b58568248395e",
       "style": "IPY_MODEL_de7951a1436d44b5b2061b012ad8816d",
       "value": true
      }
     },
     "17208453dcb140499fd67fd7ec27aea1": {
      "model_module": "@jupyter-widgets/base",
      "model_module_version": "1.1.0",
      "model_name": "LayoutModel",
      "state": {
       "width": "600px"
      }
     },
     "172fe25b0f1546c1ad04b87e4de45fb5": {
      "model_module": "@jupyter-widgets/base",
      "model_module_version": "1.1.0",
      "model_name": "LayoutModel",
      "state": {
       "justify_content": "center"
      }
     },
     "17356f060296454f893dd4b1be69e063": {
      "model_module": "@jupyter-widgets/controls",
      "model_module_version": "1.4.0",
      "model_name": "HBoxModel",
      "state": {
       "children": [
        "IPY_MODEL_79fd1c4ec24a4d16bb3097004cbed581",
        "IPY_MODEL_7df49f9e964b407bb6104905bae925c9"
       ],
       "layout": "IPY_MODEL_c93a74e7162b41deb843dc7dcfd1dd42"
      }
     },
     "17845f17f61e4cfa92ec4dec2ccb3265": {
      "model_module": "@jupyter-widgets/controls",
      "model_module_version": "1.4.0",
      "model_name": "ButtonModel",
      "state": {
       "description": "Objekt",
       "layout": "IPY_MODEL_37e465d476244dbea360227f351f0d32",
       "style": "IPY_MODEL_be910d55b3eb483e898750b0eb7f489e"
      }
     },
     "1792e57e76514cb6b8ee97881fd020bc": {
      "model_module": "@jupyter-widgets/controls",
      "model_module_version": "1.4.0",
      "model_name": "DescriptionStyleModel",
      "state": {
       "description_width": ""
      }
     },
     "17a2125365fc483488da6db2d2c094de": {
      "model_module": "@jupyter-widgets/base",
      "model_module_version": "1.1.0",
      "model_name": "LayoutModel",
      "state": {
       "width": "600px"
      }
     },
     "17ff8b72b1c442fb9c6101be756c3668": {
      "model_module": "@jupyter-widgets/controls",
      "model_module_version": "1.4.0",
      "model_name": "VBoxModel",
      "state": {
       "children": [
        "IPY_MODEL_a367df56f94f4147a4b4d685b8d69487",
        "IPY_MODEL_4764ba87eddd449395dba106210b98cc",
        "IPY_MODEL_886532fde9b64c1ca2d8c7475598c33c",
        "IPY_MODEL_7154d73ebac646bcb05095444e05370f"
       ],
       "layout": "IPY_MODEL_84c82db1616e4898bfb456b436c0b215"
      }
     },
     "181a9c640979499b888ac35b1444f063": {
      "model_module": "@jupyter-widgets/base",
      "model_module_version": "1.1.0",
      "model_name": "LayoutModel",
      "state": {}
     },
     "184cd409003b44c3a4f2ab7d395be7c7": {
      "model_module": "@jupyter-widgets/controls",
      "model_module_version": "1.4.0",
      "model_name": "DescriptionStyleModel",
      "state": {
       "description_width": ""
      }
     },
     "1862059b01d947f386f2af8c9e2f0ad5": {
      "model_module": "@jupyter-widgets/controls",
      "model_module_version": "1.4.0",
      "model_name": "VBoxModel",
      "state": {
       "children": [
        "IPY_MODEL_1cadcf3fc08e4e51b677f9471afd89b6",
        "IPY_MODEL_478a6b15cad0493aa20393550ed3b71f",
        "IPY_MODEL_90ed3b1e5b874a1f8fa744a69af2d5bb",
        "IPY_MODEL_6f839eb7f22a46ee9b432815f8f8aba1"
       ],
       "layout": "IPY_MODEL_7ac696c9238d408ab7e461d5f6ce766b"
      }
     },
     "186b6262458d45d9b8246dc135c768a2": {
      "model_module": "@jupyter-widgets/base",
      "model_module_version": "1.1.0",
      "model_name": "LayoutModel",
      "state": {
       "justify_content": "center"
      }
     },
     "1876aa88b0a849b3b1c2b1ee30d3eab6": {
      "model_module": "@jupyter-widgets/base",
      "model_module_version": "1.1.0",
      "model_name": "LayoutModel",
      "state": {}
     },
     "18889bcaa8bf41849346fb8de8805082": {
      "model_module": "@jupyter-widgets/base",
      "model_module_version": "1.1.0",
      "model_name": "LayoutModel",
      "state": {
       "width": "250px"
      }
     },
     "18a1aa24440b4e76aa70313d6325ee75": {
      "model_module": "@jupyter-widgets/controls",
      "model_module_version": "1.4.0",
      "model_name": "DescriptionStyleModel",
      "state": {
       "description_width": ""
      }
     },
     "191d29fe3caf4bcb86eed04416cffa76": {
      "model_module": "@jupyter-widgets/controls",
      "model_module_version": "1.4.0",
      "model_name": "HTMLModel",
      "state": {
       "layout": "IPY_MODEL_fd98aa7e6898483a85407e3dc4c76187",
       "style": "IPY_MODEL_db25f3a842684a1baa703297acdb7b32",
       "value": "<i>Wählen Sie die <ins>eine</ins> korrekte Antwort aus: </i>"
      }
     },
     "193e68886ab542c48132e0e793bf2c55": {
      "model_module": "@jupyter-widgets/controls",
      "model_module_version": "1.4.0",
      "model_name": "DescriptionStyleModel",
      "state": {
       "description_width": ""
      }
     },
     "19522b9758e5447f95dffd83cad235ed": {
      "model_module": "@jupyter-widgets/controls",
      "model_module_version": "1.4.0",
      "model_name": "DescriptionStyleModel",
      "state": {
       "description_width": ""
      }
     },
     "195d4978f2484d708f5ecb85b7664295": {
      "model_module": "@jupyter-widgets/controls",
      "model_module_version": "1.4.0",
      "model_name": "HTMLModel",
      "state": {
       "layout": "IPY_MODEL_35f7c4f0f53e428b8f218a921d607753",
       "style": "IPY_MODEL_231af7570c5b4a10aa6546f406ca861a",
       "value": "<h4 style=\"font-size:14px;\">Was ist der Fall, wenn die PP ein Attribut ist?</h4>"
      }
     },
     "198f125b7b7746b0bc806aa7118d0a35": {
      "model_module": "@jupyter-widgets/controls",
      "model_module_version": "1.4.0",
      "model_name": "DescriptionStyleModel",
      "state": {
       "description_width": "initial"
      }
     },
     "19bcab7b70784ff797f2fb276d9c9acd": {
      "model_module": "@jupyter-widgets/base",
      "model_module_version": "1.1.0",
      "model_name": "LayoutModel",
      "state": {
       "justify_content": "center"
      }
     },
     "19dee1daced2478eb83b2fb375e31999": {
      "model_module": "@jupyter-widgets/base",
      "model_module_version": "1.1.0",
      "model_name": "LayoutModel",
      "state": {}
     },
     "19f103893df9441a870ddd1d023b032e": {
      "model_module": "@jupyter-widgets/controls",
      "model_module_version": "1.4.0",
      "model_name": "ButtonModel",
      "state": {
       "description": "Klammernotation",
       "layout": "IPY_MODEL_6d34893725a24f04a3d8a0f0f506774b",
       "style": "IPY_MODEL_70e03906daae4eff9ecc6eb21744f176"
      }
     },
     "1a07337f70b9449eb35e92cd6e0e51d0": {
      "model_module": "@jupyter-widgets/controls",
      "model_module_version": "1.4.0",
      "model_name": "HTMLModel",
      "state": {
       "layout": "IPY_MODEL_9b63a3dd5dcd4098a698f647b56d0055",
       "style": "IPY_MODEL_38992e33326349a8962deb8f87d9afc2",
       "value": "<i>Wählen Sie die <ins>eine</ins> korrekte Antwort aus: </i>"
      }
     },
     "1a2807f561fa42549362903ce3f9e16a": {
      "model_module": "@jupyter-widgets/controls",
      "model_module_version": "1.4.0",
      "model_name": "CheckboxModel",
      "state": {
       "description": "Nomen ist Dependent einer NP-Phrase",
       "disabled": false,
       "layout": "IPY_MODEL_7bfbc0ac2329448c8e2c27559792bace",
       "style": "IPY_MODEL_fb251cfd50c14864b375dd50531179d1",
       "value": false
      }
     },
     "1a2b89d1e76547ee80a350677b305c18": {
      "model_module": "@jupyter-widgets/base",
      "model_module_version": "1.1.0",
      "model_name": "LayoutModel",
      "state": {
       "width": "250px"
      }
     },
     "1a399e1d71e54ca699b7561cd8851297": {
      "model_module": "@jupyter-widgets/controls",
      "model_module_version": "1.4.0",
      "model_name": "VBoxModel",
      "state": {
       "children": [
        "IPY_MODEL_a3394d7fc8bc4bcb8e1e4f55b882195f",
        "IPY_MODEL_8d030a09ff5c414789477d5a82366dfe",
        "IPY_MODEL_500413332ca44b648133e736eaaa1d40",
        "IPY_MODEL_26da8699f8f545749a1208da5c83382b",
        "IPY_MODEL_8b90334bd9074c30b0a3e64ea75a0b6d"
       ],
       "layout": "IPY_MODEL_181a9c640979499b888ac35b1444f063"
      }
     },
     "1a4265d7e3f341efb870d27f0ce28f17": {
      "model_module": "@jupyter-widgets/base",
      "model_module_version": "1.1.0",
      "model_name": "LayoutModel",
      "state": {
       "justify_content": "center"
      }
     },
     "1a51bf8fe1a2417f888a27193a1ff1f6": {
      "model_module": "@jupyter-widgets/base",
      "model_module_version": "1.1.0",
      "model_name": "LayoutModel",
      "state": {
       "justify_content": "center"
      }
     },
     "1ab86241217249208cb9669b0f8a8b3e": {
      "model_module": "@jupyter-widgets/base",
      "model_module_version": "1.1.0",
      "model_name": "LayoutModel",
      "state": {
       "width": "600px"
      }
     },
     "1ab8db9092d94454b4cacf81ad83716e": {
      "model_module": "@jupyter-widgets/controls",
      "model_module_version": "1.4.0",
      "model_name": "DescriptionStyleModel",
      "state": {
       "description_width": ""
      }
     },
     "1af3d209fb6e4d9eaa315db29e1a7d27": {
      "model_module": "@jupyter-widgets/controls",
      "model_module_version": "1.4.0",
      "model_name": "ButtonStyleModel",
      "state": {}
     },
     "1b214de8612d424090cd1f260112548e": {
      "model_module": "@jupyter-widgets/base",
      "model_module_version": "1.1.0",
      "model_name": "LayoutModel",
      "state": {
       "justify_content": "center"
      }
     },
     "1b25b7ad796748ac8895f4db250895bf": {
      "model_module": "@jupyter-widgets/controls",
      "model_module_version": "1.4.0",
      "model_name": "CheckboxModel",
      "state": {
       "description": "Nomen ist Dependent in einem nichtfiniten Teilsatz",
       "disabled": false,
       "layout": "IPY_MODEL_5f58d0395c8a41f59b0bf9db44e9efca",
       "style": "IPY_MODEL_5d4495f0a16943789f8a448f8876b886",
       "value": false
      }
     },
     "1b3eec4306314ac2a5e55eee54af26e3": {
      "model_module": "@jupyter-widgets/controls",
      "model_module_version": "1.4.0",
      "model_name": "DescriptionStyleModel",
      "state": {
       "description_width": "initial"
      }
     },
     "1b81556ba6f647989902db183787a88b": {
      "model_module": "@jupyter-widgets/controls",
      "model_module_version": "1.4.0",
      "model_name": "ButtonModel",
      "state": {
       "description": "Wortstruktur",
       "layout": "IPY_MODEL_388906d7180e40ca8b3b554838cc48a4",
       "style": "IPY_MODEL_3ae7cd69cb784777b6d5f49d668d4f67"
      }
     },
     "1b8a5fe184074a5590066945690147f9": {
      "model_module": "@jupyter-widgets/base",
      "model_module_version": "1.1.0",
      "model_name": "LayoutModel",
      "state": {
       "justify_content": "center"
      }
     },
     "1b8eb91797ed410fb004f685fb3b7f22": {
      "model_module": "@jupyter-widgets/base",
      "model_module_version": "1.1.0",
      "model_name": "LayoutModel",
      "state": {
       "justify_content": "center"
      }
     },
     "1ba7ec3be23942ee8166849cdf7ed3a0": {
      "model_module": "@jupyter-widgets/controls",
      "model_module_version": "1.4.0",
      "model_name": "VBoxModel",
      "state": {
       "children": [
        "IPY_MODEL_1fb5d1d5e6f94c88a81b6d5302fcb5d7",
        "IPY_MODEL_b0a0c27627684521a61b26192b8520fc",
        "IPY_MODEL_7c14fa4283c54b199e9b1fd01935f26c"
       ],
       "layout": "IPY_MODEL_3db9364d15964ffda97700ce0f384a67"
      }
     },
     "1bace118abcb4614aaf52a1e316795e7": {
      "model_module": "@jupyter-widgets/controls",
      "model_module_version": "1.4.0",
      "model_name": "HTMLModel",
      "state": {
       "layout": "IPY_MODEL_874201be821649e9baac7d7c9edcb8ad",
       "style": "IPY_MODEL_49ec15eb687842cabe8f39a2f82301c6",
       "value": "<h4 style=\"font-size:14px;\">Welche Funktion nimmt das Gerund ein, wenn das Nomen Kopf der Gerund-Nomen-Phrase ist?</h4>"
      }
     },
     "1bd499d017614f9099464ddeddb5267f": {
      "model_module": "@jupyter-widgets/base",
      "model_module_version": "1.1.0",
      "model_name": "LayoutModel",
      "state": {}
     },
     "1bfae73f90bd443f99f9836ef895e248": {
      "model_module": "@jupyter-widgets/controls",
      "model_module_version": "1.4.0",
      "model_name": "ButtonStyleModel",
      "state": {}
     },
     "1c070f43a1d54b5aa6fb97d19517e284": {
      "model_module": "@jupyter-widgets/controls",
      "model_module_version": "1.4.0",
      "model_name": "DescriptionStyleModel",
      "state": {
       "description_width": "initial"
      }
     },
     "1c224a671d0041758e1862053252c877": {
      "model_module": "@jupyter-widgets/base",
      "model_module_version": "1.1.0",
      "model_name": "LayoutModel",
      "state": {
       "width": "500px"
      }
     },
     "1c26bf946f2045bf8b74365c847d6f69": {
      "model_module": "@jupyter-widgets/controls",
      "model_module_version": "1.4.0",
      "model_name": "DescriptionStyleModel",
      "state": {
       "description_width": ""
      }
     },
     "1c4ac02dadce4f67a306221dee727171": {
      "model_module": "@jupyter-widgets/base",
      "model_module_version": "1.1.0",
      "model_name": "LayoutModel",
      "state": {}
     },
     "1c5d6f838ca140299eea8dc9dde6cf35": {
      "model_module": "@jupyter-widgets/controls",
      "model_module_version": "1.4.0",
      "model_name": "HBoxModel",
      "state": {
       "children": [
        "IPY_MODEL_60c57fdf5a7f44ee8b86cb3308d78ca8"
       ],
       "layout": "IPY_MODEL_fb54e4ff258242da9f13ebdf5ecd0f22"
      }
     },
     "1cadcf3fc08e4e51b677f9471afd89b6": {
      "model_module": "@jupyter-widgets/controls",
      "model_module_version": "1.4.0",
      "model_name": "CheckboxModel",
      "state": {
       "description": "Dependenz",
       "disabled": false,
       "layout": "IPY_MODEL_a59b251450bf4dc280c030044434841c",
       "style": "IPY_MODEL_4ee5558374134ef6ad58a11cd84e373d",
       "value": false
      }
     },
     "1cb0c9a58a104d3badaf10b4f6b3f282": {
      "model_module": "@jupyter-widgets/controls",
      "model_module_version": "1.4.0",
      "model_name": "ButtonStyleModel",
      "state": {}
     },
     "1cc750ccf5024dbba9605169188e1222": {
      "model_module": "@jupyter-widgets/controls",
      "model_module_version": "1.4.0",
      "model_name": "CheckboxModel",
      "state": {
       "description": "Konstituentenbaum mit gelabelten Kanten",
       "disabled": false,
       "layout": "IPY_MODEL_8b671a3956ce494495984e0068daf5b5",
       "style": "IPY_MODEL_7b4c251337e6441a90dd5f4f4fcf497d",
       "value": false
      }
     },
     "1cf4bfaf6a3d40c7b39a862335093010": {
      "model_module": "@jupyter-widgets/controls",
      "model_module_version": "1.4.0",
      "model_name": "DescriptionStyleModel",
      "state": {
       "description_width": ""
      }
     },
     "1d309346871e4395b191fbd877f55fd5": {
      "model_module": "@jupyter-widgets/base",
      "model_module_version": "1.1.0",
      "model_name": "LayoutModel",
      "state": {
       "width": "600px"
      }
     },
     "1d499df393e54718aa90674087fa8dcb": {
      "model_module": "@jupyter-widgets/base",
      "model_module_version": "1.1.0",
      "model_name": "LayoutModel",
      "state": {
       "width": "250px"
      }
     },
     "1d6851589eff47f2bbfeb6cfb8e103f1": {
      "model_module": "@jupyter-widgets/controls",
      "model_module_version": "1.4.0",
      "model_name": "HTMLModel",
      "state": {
       "layout": "IPY_MODEL_d66e44504ca844abaacbaba54f735f95",
       "style": "IPY_MODEL_f56f652c2809437d89567f1d3f50e750",
       "value": "<i>Wählen Sie die <ins>eine</ins> korrekte Antwort aus: </i>"
      }
     },
     "1d6e4f9af7cb4f5bb0e06fe3b623b4a3": {
      "model_module": "@jupyter-widgets/controls",
      "model_module_version": "1.4.0",
      "model_name": "DescriptionStyleModel",
      "state": {
       "description_width": ""
      }
     },
     "1d7443402cc94001b7553e18bd02d874": {
      "model_module": "@jupyter-widgets/base",
      "model_module_version": "1.1.0",
      "model_name": "LayoutModel",
      "state": {
       "width": "600px"
      }
     },
     "1d9aab2162834b5badf3f7f3d0d90aec": {
      "model_module": "@jupyter-widgets/base",
      "model_module_version": "1.1.0",
      "model_name": "LayoutModel",
      "state": {
       "width": "250px"
      }
     },
     "1da591de77cc4fb7bf99a403e1c0f9e5": {
      "model_module": "@jupyter-widgets/base",
      "model_module_version": "1.1.0",
      "model_name": "LayoutModel",
      "state": {}
     },
     "1db60eeff5bc400799cfa0a9af0d32f1": {
      "model_module": "@jupyter-widgets/controls",
      "model_module_version": "1.4.0",
      "model_name": "ButtonModel",
      "state": {
       "description": "Korrekt?",
       "layout": "IPY_MODEL_04c98554a7dc4ed6b55fc8534cba7a7f",
       "style": "IPY_MODEL_2cc482402b2b42feb44c060026ec2f5c"
      }
     },
     "1dc9082a545c422caaba3bdc68c70f6d": {
      "model_module": "@jupyter-widgets/controls",
      "model_module_version": "1.4.0",
      "model_name": "DescriptionStyleModel",
      "state": {
       "description_width": ""
      }
     },
     "1dd10244dcae4310a6470d8f07cc4ad0": {
      "model_module": "@jupyter-widgets/controls",
      "model_module_version": "1.4.0",
      "model_name": "HTMLModel",
      "state": {
       "layout": "IPY_MODEL_4c9dc4a3425b458bb442378f96dad9b9",
       "style": "IPY_MODEL_0c582effee944872b140eafa8cdf897b",
       "value": "<h4 style=\"font-size:14px;\">Welche Typen von Syntaxbäumen (auch: Parsebäume, Ableitungsbäume) wurden gezeigt?</h4>"
      }
     },
     "1e41a40236884894992d4aa226763d51": {
      "model_module": "@jupyter-widgets/base",
      "model_module_version": "1.1.0",
      "model_name": "LayoutModel",
      "state": {
       "width": "250px"
      }
     },
     "1e6b1fdc9e5b41899d6ab1f1056d9b91": {
      "model_module": "@jupyter-widgets/controls",
      "model_module_version": "1.4.0",
      "model_name": "DescriptionStyleModel",
      "state": {
       "description_width": ""
      }
     },
     "1ed83782254f4585b89b666fab5864c3": {
      "model_module": "@jupyter-widgets/base",
      "model_module_version": "1.1.0",
      "model_name": "LayoutModel",
      "state": {
       "width": "150px"
      }
     },
     "1eda534ab8f641e087da0b4ff14731a5": {
      "model_module": "@jupyter-widgets/controls",
      "model_module_version": "1.4.0",
      "model_name": "VBoxModel",
      "state": {
       "children": [
        "IPY_MODEL_605c79974eee4eaba4f9470ca28b18bd",
        "IPY_MODEL_913dca3fcd3e44488d4e467753583bd1",
        "IPY_MODEL_ffec95d85224424b8461ef5b219b0826",
        "IPY_MODEL_b06a28098cd84e628059b1632877975e"
       ],
       "layout": "IPY_MODEL_1296503db36b430892f9058e25ccb2ce"
      }
     },
     "1ee3f04f41b246618602b7050ff64ffa": {
      "model_module": "@jupyter-widgets/base",
      "model_module_version": "1.1.0",
      "model_name": "LayoutModel",
      "state": {}
     },
     "1ee8e7d9ce6d42a1a51d51c026325b79": {
      "model_module": "@jupyter-widgets/base",
      "model_module_version": "1.1.0",
      "model_name": "LayoutModel",
      "state": {
       "align_content": "stretch",
       "align_items": "stretch",
       "display": "inline-flex",
       "flex": "flex-grow",
       "flex_flow": "row wrap",
       "justify_content": "flex-start"
      }
     },
     "1ef52a289df74ead937dbf760000dd68": {
      "model_module": "@jupyter-widgets/base",
      "model_module_version": "1.1.0",
      "model_name": "LayoutModel",
      "state": {
       "width": "600px"
      }
     },
     "1efa5e1cecc240ac8b39ffe93623d3a6": {
      "model_module": "@jupyter-widgets/controls",
      "model_module_version": "1.4.0",
      "model_name": "ButtonModel",
      "state": {
       "description": "syntaktische Funktion",
       "layout": "IPY_MODEL_c384b451616241a586cefcda0d4cb99e",
       "style": "IPY_MODEL_33159d8bba25414dbe2192d4f177693d"
      }
     },
     "1f09a08e945d4826ad1870700dc70c6e": {
      "model_module": "@jupyter-widgets/controls",
      "model_module_version": "1.4.0",
      "model_name": "DescriptionStyleModel",
      "state": {
       "description_width": "initial"
      }
     },
     "1f19a1be716a40348a4a3fe8f1433ddf": {
      "model_module": "@jupyter-widgets/controls",
      "model_module_version": "1.4.0",
      "model_name": "HTMLModel",
      "state": {
       "layout": "IPY_MODEL_8aed12741d144b889d2b52f29ea4d349",
       "style": "IPY_MODEL_c4113f6d534f424681f4b9f367858f1e",
       "value": "<h4 style=\"font-size:14px;\">Welche Funktion im Hauptsatz nimmt das Gerund ein, wenn es Kopf der Gerund-Nomen-Phrase ist?</h4>"
      }
     },
     "1f1de2277f114adeb31acc9215fc6105": {
      "model_module": "@jupyter-widgets/controls",
      "model_module_version": "1.4.0",
      "model_name": "ButtonModel",
      "state": {
       "description": "Wissen um Sprachstruktur",
       "layout": "IPY_MODEL_2abdf3adc6f545f3bbfcb4c96e318ce8",
       "style": "IPY_MODEL_86faf294133e482da145bf2b1745e41d"
      }
     },
     "1f542ab32715489fb69517313d0ec1f7": {
      "model_module": "@jupyter-widgets/base",
      "model_module_version": "1.1.0",
      "model_name": "LayoutModel",
      "state": {}
     },
     "1f5cf4d7955e439a8d0107d0b9614cad": {
      "model_module": "@jupyter-widgets/controls",
      "model_module_version": "1.4.0",
      "model_name": "VBoxModel",
      "state": {
       "children": [
        "IPY_MODEL_c3e74535ee5444878df9af2c253d92b0",
        "IPY_MODEL_982b2f74e63b4cfaa2a811e577f775b8",
        "IPY_MODEL_bd73b6d41eca4caf81776ec4dd655b09"
       ],
       "layout": "IPY_MODEL_0b871796432846bbb41566e5178dbd94"
      }
     },
     "1f7875e301764039b7c80a81c853fbf7": {
      "model_module": "@jupyter-widgets/base",
      "model_module_version": "1.1.0",
      "model_name": "LayoutModel",
      "state": {
       "width": "250px"
      }
     },
     "1f7f3fc39e7b4bfc922fc2d1f849bc04": {
      "model_module": "@jupyter-widgets/base",
      "model_module_version": "1.1.0",
      "model_name": "LayoutModel",
      "state": {}
     },
     "1fa08354a3c041a890bd0ed3ab619aef": {
      "model_module": "@jupyter-widgets/controls",
      "model_module_version": "1.4.0",
      "model_name": "VBoxModel",
      "state": {
       "children": [
        "IPY_MODEL_5eabb91d1aa44583b1ec470ec03c4951",
        "IPY_MODEL_95e306db8f9a42aaae0661488cf1098b",
        "IPY_MODEL_b56f92c0c59945939bb9f8ddb87af446",
        "IPY_MODEL_2b95a90c54ae47e99516f719113b50a3"
       ],
       "layout": "IPY_MODEL_ae7cbffbec6a46c99f4ffd5746a1076c"
      }
     },
     "1fb5d1d5e6f94c88a81b6d5302fcb5d7": {
      "model_module": "@jupyter-widgets/controls",
      "model_module_version": "1.4.0",
      "model_name": "HTMLModel",
      "state": {
       "layout": "IPY_MODEL_d7f25be24d424be884b72ec008cb175f",
       "style": "IPY_MODEL_a996309817874ce1a9b044a945aafaf3",
       "value": "<i>Vervollständigen Sie den Lückentext: </i>"
      }
     },
     "2022b820209a4020a22722d7a7be4818": {
      "model_module": "@jupyter-widgets/base",
      "model_module_version": "1.1.0",
      "model_name": "LayoutModel",
      "state": {
       "justify_content": "center"
      }
     },
     "20408a28d3a94b18aaf96e0abbdab255": {
      "model_module": "@jupyter-widgets/controls",
      "model_module_version": "1.4.0",
      "model_name": "HBoxModel",
      "state": {
       "children": [
        "IPY_MODEL_b099cf1e8525451b96883aeaf569d177",
        "IPY_MODEL_4b3348fc5e8847c4b001522c4a23e3bd"
       ],
       "layout": "IPY_MODEL_671db31331584754a1a8a9fbb4aefc6f"
      }
     },
     "209b25031e8f4e37a9706b090555c03e": {
      "model_module": "@jupyter-widgets/base",
      "model_module_version": "1.1.0",
      "model_name": "LayoutModel",
      "state": {}
     },
     "20b16a057a394ba68cae093877e656f3": {
      "model_module": "@jupyter-widgets/controls",
      "model_module_version": "1.4.0",
      "model_name": "DescriptionStyleModel",
      "state": {
       "description_width": ""
      }
     },
     "20c020b63e5441d1bde41ce68d74e3d6": {
      "model_module": "@jupyter-widgets/controls",
      "model_module_version": "1.4.0",
      "model_name": "HTMLModel",
      "state": {
       "layout": "IPY_MODEL_cb4006d2bde64cf08759557e42f96e8d",
       "style": "IPY_MODEL_d7a6e9b1328747578fa0fbf97be90faf",
       "value": "<i>Wählen Sie die <ins>eine</ins> korrekte Antwort aus: </i>"
      }
     },
     "211b713f0b70432485f873d18ab54881": {
      "model_module": "@jupyter-widgets/controls",
      "model_module_version": "1.4.0",
      "model_name": "DescriptionStyleModel",
      "state": {
       "description_width": ""
      }
     },
     "2129346b34fa42f4aac3c73de51b7917": {
      "model_module": "@jupyter-widgets/controls",
      "model_module_version": "1.4.0",
      "model_name": "ButtonStyleModel",
      "state": {}
     },
     "2155d2ae6c7641cbb82cf584a2e1c102": {
      "model_module": "@jupyter-widgets/controls",
      "model_module_version": "1.4.0",
      "model_name": "ButtonStyleModel",
      "state": {}
     },
     "215ec017fe9d45ed893c70aa9afdd327": {
      "model_module": "@jupyter-widgets/controls",
      "model_module_version": "1.4.0",
      "model_name": "ButtonModel",
      "state": {
       "description": "Keine der anderen Möglichkeiten",
       "layout": "IPY_MODEL_3297c79507074a5da18298ce44c42697",
       "style": "IPY_MODEL_db069e2bd0d5470282f816701d3e8c2e"
      }
     },
     "2185cded95c44a569948e81da2fe3a2d": {
      "model_module": "@jupyter-widgets/controls",
      "model_module_version": "1.4.0",
      "model_name": "DescriptionStyleModel",
      "state": {
       "description_width": ""
      }
     },
     "218b6c91a66b44179d0d032fe2e38256": {
      "model_module": "@jupyter-widgets/controls",
      "model_module_version": "1.4.0",
      "model_name": "ButtonStyleModel",
      "state": {}
     },
     "21abefbb98504493ad993ed4b992115f": {
      "model_module": "@jupyter-widgets/base",
      "model_module_version": "1.1.0",
      "model_name": "LayoutModel",
      "state": {
       "width": "250px"
      }
     },
     "2200e27f61fd439dad1b67c71381fc2b": {
      "model_module": "@jupyter-widgets/controls",
      "model_module_version": "1.4.0",
      "model_name": "ButtonModel",
      "state": {
       "description": "Korrekt?",
       "layout": "IPY_MODEL_b888ddccd2f54fb397e171df9a6143b7",
       "style": "IPY_MODEL_5380967fa2f3439192196f28886c042c"
      }
     },
     "2242d6e7fee84d20875657cebb900a2c": {
      "model_module": "@jupyter-widgets/controls",
      "model_module_version": "1.4.0",
      "model_name": "CheckboxModel",
      "state": {
       "description": "Verbalphrase",
       "disabled": false,
       "layout": "IPY_MODEL_a6fb7fe76e6e4858b72b2a21d37c1ec2",
       "style": "IPY_MODEL_0f1bd7c83b0d46899aadd3a7c25d821a",
       "value": true
      }
     },
     "2276712b763e48d797d15fb39d2232a8": {
      "model_module": "@jupyter-widgets/base",
      "model_module_version": "1.1.0",
      "model_name": "LayoutModel",
      "state": {
       "width": "250px"
      }
     },
     "2278fdaee07541e0853a35ca3d8cba61": {
      "model_module": "@jupyter-widgets/controls",
      "model_module_version": "1.4.0",
      "model_name": "VBoxModel",
      "state": {
       "children": [
        "IPY_MODEL_5b08c2f658b843ca9d06f39ba4527054",
        "IPY_MODEL_726b0d64b8ab4b9496b991e1feb5f619",
        "IPY_MODEL_e9d1c1bdc99b4ef881f435133eac69a3",
        "IPY_MODEL_ba2799ce05e747d888fed4c05a951823"
       ],
       "layout": "IPY_MODEL_470fef02a2dc444cb290de2af09c0a8b"
      }
     },
     "22ba6c4999c1409da6c6b88aa8819314": {
      "model_module": "@jupyter-widgets/base",
      "model_module_version": "1.1.0",
      "model_name": "LayoutModel",
      "state": {
       "justify_content": "center"
      }
     },
     "22d8fe0bf83344b88a20d257f09d2d97": {
      "model_module": "@jupyter-widgets/controls",
      "model_module_version": "1.4.0",
      "model_name": "ButtonModel",
      "state": {
       "description": "Regelbuch",
       "layout": "IPY_MODEL_7592c7952e3a4f728aa8b66378bde2be",
       "style": "IPY_MODEL_444de02e115d4173a2df001d9076d588"
      }
     },
     "22e0be353f654e2193bd57dec46dc9b2": {
      "model_module": "@jupyter-widgets/controls",
      "model_module_version": "1.4.0",
      "model_name": "DescriptionStyleModel",
      "state": {
       "description_width": ""
      }
     },
     "22e2f7f159254f7b8b7a87d2d30da35a": {
      "model_module": "@jupyter-widgets/base",
      "model_module_version": "1.1.0",
      "model_name": "LayoutModel",
      "state": {}
     },
     "23008f105aa9447a90a8a1d03e8937b7": {
      "model_module": "@jupyter-widgets/controls",
      "model_module_version": "1.4.0",
      "model_name": "ButtonStyleModel",
      "state": {}
     },
     "231af7570c5b4a10aa6546f406ca861a": {
      "model_module": "@jupyter-widgets/controls",
      "model_module_version": "1.4.0",
      "model_name": "DescriptionStyleModel",
      "state": {
       "description_width": ""
      }
     },
     "233da6e50f50431499d85031a61bfbf7": {
      "model_module": "@jupyter-widgets/controls",
      "model_module_version": "1.4.0",
      "model_name": "DescriptionStyleModel",
      "state": {
       "description_width": ""
      }
     },
     "2353d6adff194fd89f57e2176c476382": {
      "model_module": "@jupyter-widgets/controls",
      "model_module_version": "1.4.0",
      "model_name": "VBoxModel",
      "state": {
       "children": [
        "IPY_MODEL_05781eb902e347ce9a71de0b5b6a6406",
        "IPY_MODEL_dcb36fca71214966b78701bf5142a30c",
        "IPY_MODEL_39c41e39adb645508bd1cf2af1ce54c7",
        "IPY_MODEL_d37c3798c2b741f1b6ee8d1c200936da"
       ],
       "layout": "IPY_MODEL_5c712a785f7f430a95e4af66558cb70d"
      }
     },
     "2387ffd7313b41b48fea50ed14f0d476": {
      "model_module": "@jupyter-widgets/controls",
      "model_module_version": "1.4.0",
      "model_name": "DescriptionStyleModel",
      "state": {
       "description_width": ""
      }
     },
     "23b08ba1668741e296336254698acafb": {
      "model_module": "@jupyter-widgets/base",
      "model_module_version": "1.1.0",
      "model_name": "LayoutModel",
      "state": {
       "width": "250px"
      }
     },
     "241f34c282724523818c2f9ac9f93c8e": {
      "model_module": "@jupyter-widgets/controls",
      "model_module_version": "1.4.0",
      "model_name": "DescriptionStyleModel",
      "state": {
       "description_width": ""
      }
     },
     "242724c51ab64b5c90456b7bd334c708": {
      "model_module": "@jupyter-widgets/base",
      "model_module_version": "1.1.0",
      "model_name": "LayoutModel",
      "state": {}
     },
     "2456af6be566470bb94bfa17f285dab0": {
      "model_module": "@jupyter-widgets/base",
      "model_module_version": "1.1.0",
      "model_name": "LayoutModel",
      "state": {}
     },
     "2461b1e564734b73960a1e61b9a9023e": {
      "model_module": "@jupyter-widgets/base",
      "model_module_version": "1.1.0",
      "model_name": "LayoutModel",
      "state": {
       "justify_content": "center"
      }
     },
     "24693489464749c3b1ca4d5f32bfdf29": {
      "model_module": "@jupyter-widgets/controls",
      "model_module_version": "1.4.0",
      "model_name": "ButtonStyleModel",
      "state": {}
     },
     "2479f8ab96ab4c6daa408ee85566c757": {
      "model_module": "@jupyter-widgets/base",
      "model_module_version": "1.1.0",
      "model_name": "LayoutModel",
      "state": {
       "justify_content": "center"
      }
     },
     "249c7e4a5f624acab6b33428cd409db7": {
      "model_module": "@jupyter-widgets/base",
      "model_module_version": "1.1.0",
      "model_name": "LayoutModel",
      "state": {
       "justify_content": "center"
      }
     },
     "24a809a5848e45079dbf6f58d1a39a7a": {
      "model_module": "@jupyter-widgets/base",
      "model_module_version": "1.1.0",
      "model_name": "LayoutModel",
      "state": {
       "width": "600px"
      }
     },
     "24db33051467467593ac41c9a8313b15": {
      "model_module": "@jupyter-widgets/controls",
      "model_module_version": "1.4.0",
      "model_name": "DescriptionStyleModel",
      "state": {
       "description_width": "initial"
      }
     },
     "24dc0d8283864a178dfd63c2b4ab7bcb": {
      "model_module": "@jupyter-widgets/controls",
      "model_module_version": "1.4.0",
      "model_name": "ButtonStyleModel",
      "state": {
       "button_color": "lightgreen"
      }
     },
     "24f4259903c84206a1c1463177c098e7": {
      "model_module": "@jupyter-widgets/controls",
      "model_module_version": "1.4.0",
      "model_name": "ButtonStyleModel",
      "state": {}
     },
     "2546fe2a30dc46f5b29fdc2c8039a595": {
      "model_module": "@jupyter-widgets/base",
      "model_module_version": "1.1.0",
      "model_name": "LayoutModel",
      "state": {
       "justify_content": "center"
      }
     },
     "25a62ffff6bb4eaa9cc4e82aacc64963": {
      "model_module": "@jupyter-widgets/controls",
      "model_module_version": "1.4.0",
      "model_name": "DescriptionStyleModel",
      "state": {
       "description_width": ""
      }
     },
     "25ad3f987441467da0555193a4023e11": {
      "model_module": "@jupyter-widgets/base",
      "model_module_version": "1.1.0",
      "model_name": "LayoutModel",
      "state": {
       "width": "250px"
      }
     },
     "260f2d2ab3a74d89b0324a0122ed71d9": {
      "model_module": "@jupyter-widgets/base",
      "model_module_version": "1.1.0",
      "model_name": "LayoutModel",
      "state": {
       "justify_content": "center"
      }
     },
     "267fbd2018654cd6bac7346f2862bef9": {
      "model_module": "@jupyter-widgets/controls",
      "model_module_version": "1.4.0",
      "model_name": "ButtonModel",
      "state": {
       "description": "Korrekt?",
       "layout": "IPY_MODEL_3e871c1ef0874968abcd37f7ff973689",
       "style": "IPY_MODEL_a2d297af78994bda834396eea21ddeb6"
      }
     },
     "26adb96deb96412d92c5d0fa703a8d7e": {
      "model_module": "@jupyter-widgets/controls",
      "model_module_version": "1.4.0",
      "model_name": "VBoxModel",
      "state": {
       "children": [
        "IPY_MODEL_f5b2da8cef4047b2b9bc25fccb658312",
        "IPY_MODEL_0516d7d90eea43288b2ad94c8bf49dc3",
        "IPY_MODEL_9e8cf958410546b98cd8b4f79adcb5ba",
        "IPY_MODEL_632db5c789104e93b750feedcbe98263"
       ],
       "layout": "IPY_MODEL_335c9edb9f7a45bb904f3570b9281a99"
      }
     },
     "26ce519f90fc45bead257eb4107c02f5": {
      "model_module": "@jupyter-widgets/base",
      "model_module_version": "1.1.0",
      "model_name": "LayoutModel",
      "state": {
       "width": "250px"
      }
     },
     "26da8699f8f545749a1208da5c83382b": {
      "model_module": "@jupyter-widgets/controls",
      "model_module_version": "1.4.0",
      "model_name": "HBoxModel",
      "state": {
       "children": [
        "IPY_MODEL_27e8ec84487c4da9819f1d6613a9bb04",
        "IPY_MODEL_d6cc5c9c884e402db0d1d523f4fbbcaf"
       ],
       "layout": "IPY_MODEL_4a53a263aae0424280ce194bc9a73d4c"
      }
     },
     "26e86e8ce64e434c90066cf455c40cdf": {
      "model_module": "@jupyter-widgets/controls",
      "model_module_version": "1.4.0",
      "model_name": "HTMLModel",
      "state": {
       "layout": "IPY_MODEL_8090f6538a1745439db3d227f9b8911b",
       "style": "IPY_MODEL_75083c11ac4b4c5e825204a18f382f2d",
       "value": "<i>Wählen Sie die <ins>eine</ins> korrekte Antwort aus: </i>"
      }
     },
     "26eeb7ed9c964f8299516264dbb1731e": {
      "model_module": "@jupyter-widgets/controls",
      "model_module_version": "1.4.0",
      "model_name": "ButtonStyleModel",
      "state": {}
     },
     "26fc4ad4f5c147679d21e31d12f3e15b": {
      "model_module": "@jupyter-widgets/controls",
      "model_module_version": "1.4.0",
      "model_name": "ButtonStyleModel",
      "state": {}
     },
     "274649bfcbfc4061b0973081c327dfe7": {
      "model_module": "@jupyter-widgets/controls",
      "model_module_version": "1.4.0",
      "model_name": "VBoxModel",
      "state": {
       "children": [
        "IPY_MODEL_d376de5957504db3a473daa644394496",
        "IPY_MODEL_862dfe53b7b14849930bc56aab3d51e1",
        "IPY_MODEL_2d313140d03e4fe6b391c2ea09cbec5b",
        "IPY_MODEL_f5ccea2227184321a9fecbe0d05388cc",
        "IPY_MODEL_a7b9155f55254cde9ad1f4a5507ad8bd"
       ],
       "layout": "IPY_MODEL_936e1fcb1827421b9f228edd23d07907"
      }
     },
     "279115e0a3a647c482b376853081fa15": {
      "model_module": "@jupyter-widgets/controls",
      "model_module_version": "1.4.0",
      "model_name": "CheckboxModel",
      "state": {
       "description": "Objekt-Nominalphrase",
       "disabled": false,
       "layout": "IPY_MODEL_8a47a1dbd95f4038b8dbc6e9c6e1ee9a",
       "style": "IPY_MODEL_8d82e03e93814983bae71b186aa8edc1",
       "value": false
      }
     },
     "279f917441b641fc8d1ec876f639cb3b": {
      "model_module": "@jupyter-widgets/base",
      "model_module_version": "1.1.0",
      "model_name": "LayoutModel",
      "state": {
       "width": "250px"
      }
     },
     "27e8ec84487c4da9819f1d6613a9bb04": {
      "model_module": "@jupyter-widgets/controls",
      "model_module_version": "1.4.0",
      "model_name": "ButtonModel",
      "state": {
       "description": "Phrasenstruktur",
       "layout": "IPY_MODEL_21abefbb98504493ad993ed4b992115f",
       "style": "IPY_MODEL_f6a5ee20d9c543ebb6c0094ed6e899e8"
      }
     },
     "289a33f674df457abccc3a69bedd986f": {
      "model_module": "@jupyter-widgets/controls",
      "model_module_version": "1.4.0",
      "model_name": "DescriptionStyleModel",
      "state": {
       "description_width": ""
      }
     },
     "28b36cfedd2746f49cc1d85b30a4da59": {
      "model_module": "@jupyter-widgets/controls",
      "model_module_version": "1.4.0",
      "model_name": "ButtonStyleModel",
      "state": {}
     },
     "2918661b312241fb8682d8f1eb57eea1": {
      "model_module": "@jupyter-widgets/controls",
      "model_module_version": "1.4.0",
      "model_name": "ButtonModel",
      "state": {
       "description": "Korrekt?",
       "layout": "IPY_MODEL_42ce11f1112144ba8a39aad6e2250339",
       "style": "IPY_MODEL_3c205a997a62440aafcc4ba7a475ad54"
      }
     },
     "2919120f6f7c4af89c1d303f04385d4f": {
      "model_module": "@jupyter-widgets/controls",
      "model_module_version": "1.4.0",
      "model_name": "DescriptionStyleModel",
      "state": {
       "description_width": ""
      }
     },
     "29266c7f61b24e9f8a0383280bfe1c21": {
      "model_module": "@jupyter-widgets/controls",
      "model_module_version": "1.4.0",
      "model_name": "DescriptionStyleModel",
      "state": {
       "description_width": ""
      }
     },
     "2959da404c214bb7adfe56ba598f6c76": {
      "model_module": "@jupyter-widgets/controls",
      "model_module_version": "1.4.0",
      "model_name": "HBoxModel",
      "state": {
       "children": [
        "IPY_MODEL_2a883bd7396b404590c75937f9266cf7",
        "IPY_MODEL_3643f7e42a0342e0809434fa4c9515c6"
       ],
       "layout": "IPY_MODEL_87c679fcafad44e5a771772097820f1c"
      }
     },
     "29b268c2eede4510a8223cbcced0592a": {
      "model_module": "@jupyter-widgets/base",
      "model_module_version": "1.1.0",
      "model_name": "LayoutModel",
      "state": {}
     },
     "29c30ec5a9fa43a7947e07240251f19b": {
      "model_module": "@jupyter-widgets/base",
      "model_module_version": "1.1.0",
      "model_name": "LayoutModel",
      "state": {}
     },
     "2a625fef305447f2b3b45aa9144f27de": {
      "model_module": "@jupyter-widgets/controls",
      "model_module_version": "1.4.0",
      "model_name": "HTMLModel",
      "state": {
       "layout": "IPY_MODEL_4ff8b644608e4e9a8271ec1eb97d4fe4",
       "style": "IPY_MODEL_58edf4228991462c8b89b8be30218f90",
       "value": "<i>Wählen Sie die <ins>eine</ins> korrekte Antwort aus: </i>"
      }
     },
     "2a742555ba6d4208af76ab8822968f90": {
      "model_module": "@jupyter-widgets/controls",
      "model_module_version": "1.4.0",
      "model_name": "ButtonModel",
      "state": {
       "description": "Attribut",
       "layout": "IPY_MODEL_0fc0b331593c409296fbad8116e79d2e",
       "style": "IPY_MODEL_a0e1115fb8884e1d9db73be04bb90615"
      }
     },
     "2a883bd7396b404590c75937f9266cf7": {
      "model_module": "@jupyter-widgets/controls",
      "model_module_version": "1.4.0",
      "model_name": "ButtonModel",
      "state": {
       "description": "lexikalische Ambiguität",
       "layout": "IPY_MODEL_63ae5cd4dfbf4002b447a0a7c3d7bccd",
       "style": "IPY_MODEL_14edd927631c47cea4756ce75fe316e5"
      }
     },
     "2a95065f214245d7b00aa03103f83f65": {
      "model_module": "@jupyter-widgets/controls",
      "model_module_version": "1.4.0",
      "model_name": "DescriptionStyleModel",
      "state": {
       "description_width": ""
      }
     },
     "2abdf3adc6f545f3bbfcb4c96e318ce8": {
      "model_module": "@jupyter-widgets/base",
      "model_module_version": "1.1.0",
      "model_name": "LayoutModel",
      "state": {
       "width": "250px"
      }
     },
     "2ae5af58844649de88f6383ccc5389ed": {
      "model_module": "@jupyter-widgets/base",
      "model_module_version": "1.1.0",
      "model_name": "LayoutModel",
      "state": {
       "width": "600px"
      }
     },
     "2af8a1eea77d451bafd306509fa08a1b": {
      "model_module": "@jupyter-widgets/controls",
      "model_module_version": "1.4.0",
      "model_name": "ButtonModel",
      "state": {
       "description": "lexikalische Ambiguität",
       "layout": "IPY_MODEL_ba3471e7319c4988b91092455a229ef0",
       "style": "IPY_MODEL_e28f63be36b3424792ebff03ecbb9ef7"
      }
     },
     "2b0c532bc6ca4c9988cc3bc9f21baa2c": {
      "model_module": "@jupyter-widgets/controls",
      "model_module_version": "1.4.0",
      "model_name": "DescriptionStyleModel",
      "state": {
       "description_width": ""
      }
     },
     "2b3e1bf206a242b6837bfd153b506009": {
      "model_module": "@jupyter-widgets/base",
      "model_module_version": "1.1.0",
      "model_name": "LayoutModel",
      "state": {}
     },
     "2b59a963fa2c4c39b095c1142a386f93": {
      "model_module": "@jupyter-widgets/controls",
      "model_module_version": "1.4.0",
      "model_name": "DescriptionStyleModel",
      "state": {
       "description_width": "initial"
      }
     },
     "2b65f4ae1b96435c8059fddb61dd1642": {
      "model_module": "@jupyter-widgets/controls",
      "model_module_version": "1.4.0",
      "model_name": "DescriptionStyleModel",
      "state": {
       "description_width": ""
      }
     },
     "2b95a90c54ae47e99516f719113b50a3": {
      "model_module": "@jupyter-widgets/controls",
      "model_module_version": "1.4.0",
      "model_name": "ButtonModel",
      "state": {
       "description": "Korrekt?",
       "layout": "IPY_MODEL_5949747b60284e08ba2c5b037f326894",
       "style": "IPY_MODEL_96322164498244579de8b72db74b40b1"
      }
     },
     "2b9af090d61d4ab6a2ed9a53d76592b4": {
      "model_module": "@jupyter-widgets/base",
      "model_module_version": "1.1.0",
      "model_name": "LayoutModel",
      "state": {}
     },
     "2bd5d27aa54d4a329be24fe67f96d0b2": {
      "model_module": "@jupyter-widgets/base",
      "model_module_version": "1.1.0",
      "model_name": "LayoutModel",
      "state": {
       "width": "250px"
      }
     },
     "2bd9a6efaf9a42ddbcf14e3338d9ed43": {
      "model_module": "@jupyter-widgets/controls",
      "model_module_version": "1.4.0",
      "model_name": "ButtonModel",
      "state": {
       "description": "Korrekt?",
       "layout": "IPY_MODEL_a09bdcb16bf1464994a208149d6900f1",
       "style": "IPY_MODEL_e7f64840ebfa4cc88a07369c7cc5e8f1"
      }
     },
     "2beed017e5454ec98f0337cb26354036": {
      "model_module": "@jupyter-widgets/controls",
      "model_module_version": "1.4.0",
      "model_name": "ButtonModel",
      "state": {
       "description": "Korrekt?",
       "layout": "IPY_MODEL_83bc752082014d51a7354ecbf7bda402",
       "style": "IPY_MODEL_355f8080a12749fe817c70ea27dd99cb"
      }
     },
     "2bfb4d74ae0743c982d76211651ff228": {
      "model_module": "@jupyter-widgets/controls",
      "model_module_version": "1.4.0",
      "model_name": "HTMLModel",
      "state": {
       "layout": "IPY_MODEL_46bcd25f381349d69c0be97f54a04ca9",
       "style": "IPY_MODEL_aeef8f43a4fe4acd9cf308a291a2120f",
       "value": "<h4 style=\"font-size:14px;\">In welcher Beziehung können Gerund und nachfolgendes Nomen stehen?</h4>"
      }
     },
     "2c214c8c02fc45fb985f6c8c9066e7fc": {
      "model_module": "@jupyter-widgets/controls",
      "model_module_version": "1.4.0",
      "model_name": "DescriptionStyleModel",
      "state": {
       "description_width": ""
      }
     },
     "2c218d07cc114eee80fa64554a07e3e5": {
      "model_module": "@jupyter-widgets/base",
      "model_module_version": "1.1.0",
      "model_name": "LayoutModel",
      "state": {
       "width": "250px"
      }
     },
     "2c4a8b88f5f4423c988f8f3af2ab16fc": {
      "model_module": "@jupyter-widgets/controls",
      "model_module_version": "1.4.0",
      "model_name": "HTMLModel",
      "state": {
       "layout": "IPY_MODEL_22e2f7f159254f7b8b7a87d2d30da35a",
       "style": "IPY_MODEL_9e6d77a116d94bbf85455ff20d43cbd6",
       "value": "<h4 style=\"font-size:14px;\">der Grammatik, der sich auf die</h4>"
      }
     },
     "2c4f862c11b04a578eb0177f87c60f97": {
      "model_module": "@jupyter-widgets/controls",
      "model_module_version": "1.4.0",
      "model_name": "ButtonStyleModel",
      "state": {}
     },
     "2c594576b9804c4a9a4a4d4ce8e2f7a0": {
      "model_module": "@jupyter-widgets/base",
      "model_module_version": "1.1.0",
      "model_name": "LayoutModel",
      "state": {}
     },
     "2c949d89d76c416785cc6d6a23787278": {
      "model_module": "@jupyter-widgets/base",
      "model_module_version": "1.1.0",
      "model_name": "LayoutModel",
      "state": {
       "width": "250px"
      }
     },
     "2ca2ca876aaf45899b402a977821baf0": {
      "model_module": "@jupyter-widgets/controls",
      "model_module_version": "1.4.0",
      "model_name": "DescriptionStyleModel",
      "state": {
       "description_width": ""
      }
     },
     "2cb64e4d0ffa49e9bcca11e609dcca71": {
      "model_module": "@jupyter-widgets/controls",
      "model_module_version": "1.4.0",
      "model_name": "ButtonStyleModel",
      "state": {}
     },
     "2cc482402b2b42feb44c060026ec2f5c": {
      "model_module": "@jupyter-widgets/controls",
      "model_module_version": "1.4.0",
      "model_name": "ButtonStyleModel",
      "state": {
       "button_color": "lightgreen"
      }
     },
     "2d0cbb9c8ca6425bb00350f9631782d2": {
      "model_module": "@jupyter-widgets/base",
      "model_module_version": "1.1.0",
      "model_name": "LayoutModel",
      "state": {
       "width": "250px"
      }
     },
     "2d313140d03e4fe6b391c2ea09cbec5b": {
      "model_module": "@jupyter-widgets/controls",
      "model_module_version": "1.4.0",
      "model_name": "HBoxModel",
      "state": {
       "children": [
        "IPY_MODEL_8ee205b069654536a87e69aae7db01f9",
        "IPY_MODEL_d734668fcb37465bbf44a0c148618cd7"
       ],
       "layout": "IPY_MODEL_b4832569d7f74c329bb9411da9569f9d"
      }
     },
     "2d358ea7f567458db78d3dc0e7969727": {
      "model_module": "@jupyter-widgets/controls",
      "model_module_version": "1.4.0",
      "model_name": "HTMLModel",
      "state": {
       "layout": "IPY_MODEL_4de8122c9b404ca1bd39ab69b8f2f423",
       "style": "IPY_MODEL_b3a5dc97be4446c590f3321160831be1",
       "value": "<h4 style=\"font-size:14px;\">der formalen Sprache.</h4>"
      }
     },
     "2d6d5da0aa724655befd89f971c8a2d7": {
      "model_module": "@jupyter-widgets/base",
      "model_module_version": "1.1.0",
      "model_name": "LayoutModel",
      "state": {
       "width": "600px"
      }
     },
     "2d7d106a47534d46901013a4d936276e": {
      "model_module": "@jupyter-widgets/controls",
      "model_module_version": "1.4.0",
      "model_name": "HTMLModel",
      "state": {
       "layout": "IPY_MODEL_f2bf683ba401479aad5e8f75bb7837ac",
       "style": "IPY_MODEL_7f549d94813347bb86909fff1a2d4bc1",
       "value": "<h4 style=\"font-size:14px;\">Bzgl. welcher (nicht an der Oberflächensyntax ersichtlichen) Eigenschaft unterscheiden sich die PPs in den beiden Analysen?</h4>"
      }
     },
     "2d7dec9f526a43db900d315f52b87732": {
      "model_module": "@jupyter-widgets/controls",
      "model_module_version": "1.4.0",
      "model_name": "ButtonStyleModel",
      "state": {
       "button_color": "lightgreen"
      }
     },
     "2d84f3a609d94fb78439c87edf79f5dd": {
      "model_module": "@jupyter-widgets/controls",
      "model_module_version": "1.4.0",
      "model_name": "HTMLModel",
      "state": {
       "layout": "IPY_MODEL_e0074f6531834f2284758f30714b5866",
       "style": "IPY_MODEL_2c214c8c02fc45fb985f6c8c9066e7fc",
       "value": "<h4 style=\"font-size:14px;\">der formalen Sprache; ein analysierter natürlichsprachlicher Satz ist ein in der formalen Grammatik ableitbares</h4>"
      }
     },
     "2dc9f4aa138042ad9ef5bf25345fed0c": {
      "model_module": "@jupyter-widgets/controls",
      "model_module_version": "1.4.0",
      "model_name": "VBoxModel",
      "state": {
       "children": [
        "IPY_MODEL_ac9ab94535f84123b211771751f725e9",
        "IPY_MODEL_20c020b63e5441d1bde41ce68d74e3d6",
        "IPY_MODEL_c5351ced2f6b4881a4080cbffd2660ac",
        "IPY_MODEL_52afafe55d124fe79a85eca78740a2db"
       ],
       "layout": "IPY_MODEL_451f04efee864988b8ec8526a18b8cdc"
      }
     },
     "2e2dec2b95524532bc426d83c5e5bea6": {
      "model_module": "@jupyter-widgets/controls",
      "model_module_version": "1.4.0",
      "model_name": "ButtonStyleModel",
      "state": {}
     },
     "2e3902db037148f6bef53b07c132c9e9": {
      "model_module": "@jupyter-widgets/controls",
      "model_module_version": "1.4.0",
      "model_name": "HTMLModel",
      "state": {
       "layout": "IPY_MODEL_86cfcdf5859e4afbb665ab83594c2caa",
       "style": "IPY_MODEL_7dc364615896469f9adfceb1f2c9ca26",
       "value": "<i>Wählen Sie die <ins>eine</ins> korrekte Antwort aus: </i>"
      }
     },
     "2e4bfd3d0fed49a88dbd41790aae4288": {
      "model_module": "@jupyter-widgets/base",
      "model_module_version": "1.1.0",
      "model_name": "LayoutModel",
      "state": {}
     },
     "2e5e718afd244e00ac00b58ebf29fb70": {
      "model_module": "@jupyter-widgets/controls",
      "model_module_version": "1.4.0",
      "model_name": "HBoxModel",
      "state": {
       "children": [
        "IPY_MODEL_22d8fe0bf83344b88a20d257f09d2d97",
        "IPY_MODEL_6a70b132c1fd4beea958516130f3e8a3"
       ],
       "layout": "IPY_MODEL_d02dbe58480d401f933975d4d6f7dca9"
      }
     },
     "2e6f61da40f54b6a9dd9ada8c13e4d46": {
      "model_module": "@jupyter-widgets/controls",
      "model_module_version": "1.4.0",
      "model_name": "HTMLModel",
      "state": {
       "layout": "IPY_MODEL_6274df9ab3bc420faa96e53b26142f78",
       "style": "IPY_MODEL_d85e92404cb043da80469a04aca791e7",
       "value": "<h4 style=\"font-size:14px;\">Welcher Grammatikbegriff liegt Satz 2 zugrunde?</h4>"
      }
     },
     "2e729af50e45492fbf9c31e4888a868d": {
      "model_module": "@jupyter-widgets/base",
      "model_module_version": "1.1.0",
      "model_name": "LayoutModel",
      "state": {
       "width": "250px"
      }
     },
     "2e8c1c05961e428191e8bb6bcd91b919": {
      "model_module": "@jupyter-widgets/controls",
      "model_module_version": "1.4.0",
      "model_name": "ButtonStyleModel",
      "state": {}
     },
     "2eca5a296c6f4b35b2fca128c834be58": {
      "model_module": "@jupyter-widgets/controls",
      "model_module_version": "1.4.0",
      "model_name": "ButtonModel",
      "state": {
       "description": "Abhängigkeitsstruktur",
       "layout": "IPY_MODEL_7d6c358daeb6489b96acbe663e816cd2",
       "style": "IPY_MODEL_2c4f862c11b04a578eb0177f87c60f97"
      }
     },
     "2eea8dde76784eec95e6b0a0b4afa841": {
      "model_module": "@jupyter-widgets/controls",
      "model_module_version": "1.4.0",
      "model_name": "VBoxModel",
      "state": {
       "children": [
        "IPY_MODEL_da93f9d1851d4184b6b73340988c17df",
        "IPY_MODEL_bca2a101f1bd4069bd094d102a729c99",
        "IPY_MODEL_39bfc69da4c94434b9302b04338712ca",
        "IPY_MODEL_c38220c06b944538a8abdcb86b684e81"
       ],
       "layout": "IPY_MODEL_29c30ec5a9fa43a7947e07240251f19b"
      }
     },
     "2f28d209a439448fab21cabcc1b40c06": {
      "model_module": "@jupyter-widgets/base",
      "model_module_version": "1.1.0",
      "model_name": "LayoutModel",
      "state": {
       "justify_content": "center"
      }
     },
     "2f2d5dcb5e8740988631292538836085": {
      "model_module": "@jupyter-widgets/base",
      "model_module_version": "1.1.0",
      "model_name": "LayoutModel",
      "state": {
       "width": "150px"
      }
     },
     "2f648de17ca54dd5b78d7571f714e3e6": {
      "model_module": "@jupyter-widgets/base",
      "model_module_version": "1.1.0",
      "model_name": "LayoutModel",
      "state": {
       "justify_content": "center"
      }
     },
     "2fa6905ea89e4dfd8187d1b1701fb96e": {
      "model_module": "@jupyter-widgets/base",
      "model_module_version": "1.1.0",
      "model_name": "LayoutModel",
      "state": {}
     },
     "2fefd43d5394455abe763f79289405ee": {
      "model_module": "@jupyter-widgets/controls",
      "model_module_version": "1.4.0",
      "model_name": "DescriptionStyleModel",
      "state": {
       "description_width": ""
      }
     },
     "2ff601b42ed04406a1034c04be23d350": {
      "model_module": "@jupyter-widgets/controls",
      "model_module_version": "1.4.0",
      "model_name": "HBoxModel",
      "state": {
       "children": [
        "IPY_MODEL_087b8940cdef4e2394fc5cc29f54fc5d"
       ],
       "layout": "IPY_MODEL_57bc35d8b8ac4264933c4d405438e936"
      }
     },
     "3017ab203cf74334b8e4e83be6762e8c": {
      "model_module": "@jupyter-widgets/controls",
      "model_module_version": "1.4.0",
      "model_name": "CheckboxModel",
      "state": {
       "description": "Konstituentenbaum mit Phrasenlabels als Knoten",
       "disabled": false,
       "layout": "IPY_MODEL_370a1b076fd84164b4ac71e619753667",
       "style": "IPY_MODEL_7214436543fc4bca807fd5ab7b435bab",
       "value": false
      }
     },
     "301cabb1ef6f4c679f434d1457a0772f": {
      "model_module": "@jupyter-widgets/base",
      "model_module_version": "1.1.0",
      "model_name": "LayoutModel",
      "state": {
       "width": "250px"
      }
     },
     "30207c304d0141d09abc55f87bb34a60": {
      "model_module": "@jupyter-widgets/base",
      "model_module_version": "1.1.0",
      "model_name": "LayoutModel",
      "state": {}
     },
     "302d705635f04e25aa28c571cb33dd42": {
      "model_module": "@jupyter-widgets/base",
      "model_module_version": "1.1.0",
      "model_name": "LayoutModel",
      "state": {
       "width": "250px"
      }
     },
     "303d77bba09a4d64b78025a633787ba5": {
      "model_module": "@jupyter-widgets/controls",
      "model_module_version": "1.4.0",
      "model_name": "DescriptionStyleModel",
      "state": {
       "description_width": ""
      }
     },
     "30563dbb4e12412ea539cf5a99d23354": {
      "model_module": "@jupyter-widgets/controls",
      "model_module_version": "1.4.0",
      "model_name": "ButtonStyleModel",
      "state": {}
     },
     "305aff3c3c714e7ca3b24efe57a162fa": {
      "model_module": "@jupyter-widgets/controls",
      "model_module_version": "1.4.0",
      "model_name": "HTMLModel",
      "state": {
       "layout": "IPY_MODEL_da581da4d1054adf8050a48c3d66b9e1",
       "style": "IPY_MODEL_43f11392f81d4f6aaa7558fde84fb694",
       "value": "<i>Wählen Sie die <ins>eine</ins> korrekte Antwort aus: </i>"
      }
     },
     "3080c764c7754b0aad53cd829ea46448": {
      "model_module": "@jupyter-widgets/controls",
      "model_module_version": "1.4.0",
      "model_name": "DescriptionStyleModel",
      "state": {
       "description_width": ""
      }
     },
     "30d9993cdfc249b2904ce6a795db8991": {
      "model_module": "@jupyter-widgets/controls",
      "model_module_version": "1.4.0",
      "model_name": "VBoxModel",
      "state": {
       "children": [
        "IPY_MODEL_4b37a95b99db42aa886b7046428fcd9f",
        "IPY_MODEL_582a3923176445cab4e42ca5d52bb330",
        "IPY_MODEL_1862059b01d947f386f2af8c9e2f0ad5",
        "IPY_MODEL_0cd88064a4554c3aa728a8e1e759137c"
       ],
       "layout": "IPY_MODEL_ee68dfbfc4044ef1abcb7236fa062af2"
      }
     },
     "314e846b9ddb4f6b876723f296de7c08": {
      "model_module": "@jupyter-widgets/controls",
      "model_module_version": "1.4.0",
      "model_name": "DescriptionStyleModel",
      "state": {
       "description_width": "initial"
      }
     },
     "3151d25726b044658736b75b22f04a5d": {
      "model_module": "@jupyter-widgets/controls",
      "model_module_version": "1.4.0",
      "model_name": "VBoxModel",
      "state": {
       "children": [
        "IPY_MODEL_1f19a1be716a40348a4a3fe8f1433ddf",
        "IPY_MODEL_a45079fdd2fa4a3aaa52b61d8dfabd24",
        "IPY_MODEL_506ad3e1f5d54905a078ffbd8437e893"
       ],
       "layout": "IPY_MODEL_a3748e3a672a4629871b647ca84c1c88"
      }
     },
     "3162b2dd040d48158a1aed4fa38dce4b": {
      "model_module": "@jupyter-widgets/base",
      "model_module_version": "1.1.0",
      "model_name": "LayoutModel",
      "state": {
       "width": "600px"
      }
     },
     "317aade5875440c19b7b9be4e76cdead": {
      "model_module": "@jupyter-widgets/base",
      "model_module_version": "1.1.0",
      "model_name": "LayoutModel",
      "state": {
       "width": "250px"
      }
     },
     "317f44543ee74cfea860690289bc52e5": {
      "model_module": "@jupyter-widgets/base",
      "model_module_version": "1.1.0",
      "model_name": "LayoutModel",
      "state": {
       "width": "600px"
      }
     },
     "319532e9722b4cb6be9144e1e1df4363": {
      "model_module": "@jupyter-widgets/controls",
      "model_module_version": "1.4.0",
      "model_name": "HTMLModel",
      "state": {
       "layout": "IPY_MODEL_22ba6c4999c1409da6c6b88aa8819314",
       "style": "IPY_MODEL_c5ca272c3b5643bf9f353a9ed8eaeb53",
       "value": "<h4 style=\"font-size:14px;\">Welche Funktion innerhalb der Gerund-Nomen-Phrase nimmt das Nomen ein, wenn das Gerund Kopf dieser Phrase ist?</h4>"
      }
     },
     "31aa72162bcf41f3a5bf6b26f3d3ab71": {
      "model_module": "@jupyter-widgets/controls",
      "model_module_version": "1.4.0",
      "model_name": "ButtonStyleModel",
      "state": {}
     },
     "31ad39d36d1a4c4390ff8dd44d8eb171": {
      "model_module": "@jupyter-widgets/controls",
      "model_module_version": "1.4.0",
      "model_name": "HBoxModel",
      "state": {
       "children": [
        "IPY_MODEL_40df6efbba3d4d29bc864b1a1e7e8460",
        "IPY_MODEL_45b9ca70c7b3474298c7f46edd2117a3"
       ],
       "layout": "IPY_MODEL_b1ee6a2e95914b74b10e28e1fec64a86"
      }
     },
     "31f68dc59b384ae7b3919d6fb8619ffc": {
      "model_module": "@jupyter-widgets/controls",
      "model_module_version": "1.4.0",
      "model_name": "ButtonStyleModel",
      "state": {}
     },
     "320b6e5f51ac4152a9c87fdcdedc4951": {
      "model_module": "@jupyter-widgets/base",
      "model_module_version": "1.1.0",
      "model_name": "LayoutModel",
      "state": {
       "justify_content": "center"
      }
     },
     "3215a1a6cb9041d0a7946fe0d6c1e4a4": {
      "model_module": "@jupyter-widgets/controls",
      "model_module_version": "1.4.0",
      "model_name": "ButtonModel",
      "state": {
       "description": "formale Grammatik",
       "layout": "IPY_MODEL_f595a2b8baf14ffa90bfab14f4414c45",
       "style": "IPY_MODEL_b635eddf581349fda7b6a961fbe21edb"
      }
     },
     "323420740f824445993848a1ca7501f9": {
      "model_module": "@jupyter-widgets/controls",
      "model_module_version": "1.4.0",
      "model_name": "HTMLModel",
      "state": {
       "layout": "IPY_MODEL_9ebf19d2c2aa42c18a8b313947e05822",
       "style": "IPY_MODEL_a8258f25ff4a45208eeda60bd388632d",
       "value": "<i>Wählen Sie die <ins>eine</ins> korrekte Antwort aus: </i>"
      }
     },
     "324c9cd31c464e93bdb2cc0f73165a09": {
      "model_module": "@jupyter-widgets/base",
      "model_module_version": "1.1.0",
      "model_name": "LayoutModel",
      "state": {
       "justify_content": "center"
      }
     },
     "3297c79507074a5da18298ce44c42697": {
      "model_module": "@jupyter-widgets/base",
      "model_module_version": "1.1.0",
      "model_name": "LayoutModel",
      "state": {
       "width": "250px"
      }
     },
     "32aa59fba1a84ef1b4f2a4558f1fc4cd": {
      "model_module": "@jupyter-widgets/base",
      "model_module_version": "1.1.0",
      "model_name": "LayoutModel",
      "state": {}
     },
     "32aef59d736d47dfac2a3c8135b1476f": {
      "model_module": "@jupyter-widgets/controls",
      "model_module_version": "1.4.0",
      "model_name": "ButtonStyleModel",
      "state": {
       "button_color": "lightgreen"
      }
     },
     "32be15174b4c447dad8c9593eaf34271": {
      "model_module": "@jupyter-widgets/controls",
      "model_module_version": "1.4.0",
      "model_name": "HTMLModel",
      "state": {
       "layout": "IPY_MODEL_70caf9ee6a084d7c927838f39e2bd6ec",
       "style": "IPY_MODEL_9da669ca52f149118ecc9d9ae08f6d5c",
       "value": "<h4 style=\"font-size:14px;\">Zu welcher Phrase kann die Präpositionalphrase \"in my pajamas\" gehören?</h4>"
      }
     },
     "32ec0d1a093943bfa42606878ecb203f": {
      "model_module": "@jupyter-widgets/base",
      "model_module_version": "1.1.0",
      "model_name": "LayoutModel",
      "state": {}
     },
     "3308505b8daa45aaad8b3760cfc3bade": {
      "model_module": "@jupyter-widgets/controls",
      "model_module_version": "1.4.0",
      "model_name": "HBoxModel",
      "state": {
       "children": [
        "IPY_MODEL_04a4dc13921e441fad6c3626b4c1256c",
        "IPY_MODEL_b9037b0fe52344ca84d016455dda7652"
       ],
       "layout": "IPY_MODEL_bd2d393983774fe8a8df39d833a4a18c"
      }
     },
     "33159d8bba25414dbe2192d4f177693d": {
      "model_module": "@jupyter-widgets/controls",
      "model_module_version": "1.4.0",
      "model_name": "ButtonStyleModel",
      "state": {
       "button_color": "lightgreen"
      }
     },
     "332bd6649d3c49c4904abbd082bf421c": {
      "model_module": "@jupyter-widgets/base",
      "model_module_version": "1.1.0",
      "model_name": "LayoutModel",
      "state": {}
     },
     "335b53eede324ccb92068f3e8dde6ae0": {
      "model_module": "@jupyter-widgets/controls",
      "model_module_version": "1.4.0",
      "model_name": "ButtonStyleModel",
      "state": {}
     },
     "335c9edb9f7a45bb904f3570b9281a99": {
      "model_module": "@jupyter-widgets/base",
      "model_module_version": "1.1.0",
      "model_name": "LayoutModel",
      "state": {}
     },
     "337c260e24a14356b477ddbccf2c5df4": {
      "model_module": "@jupyter-widgets/base",
      "model_module_version": "1.1.0",
      "model_name": "LayoutModel",
      "state": {
       "width": "250px"
      }
     },
     "339ffb70ca44493399d1b29ff36c9de9": {
      "model_module": "@jupyter-widgets/base",
      "model_module_version": "1.1.0",
      "model_name": "LayoutModel",
      "state": {
       "width": "600px"
      }
     },
     "33db1a33c68544ef97750abbf2280a80": {
      "model_module": "@jupyter-widgets/controls",
      "model_module_version": "1.4.0",
      "model_name": "DescriptionStyleModel",
      "state": {
       "description_width": ""
      }
     },
     "33f5f5f031f842288a8d6f5cde841b85": {
      "model_module": "@jupyter-widgets/controls",
      "model_module_version": "1.4.0",
      "model_name": "HBoxModel",
      "state": {
       "children": [
        "IPY_MODEL_fdfa18c12a254b5ebc8450af832af9b3",
        "IPY_MODEL_461361f42b2f460a9ebd2cff8dffa795"
       ],
       "layout": "IPY_MODEL_0d4d68cf245744bcad3d140e003d6656"
      }
     },
     "3411c48da5aa492da7a24da37567047e": {
      "model_module": "@jupyter-widgets/controls",
      "model_module_version": "1.4.0",
      "model_name": "ButtonModel",
      "state": {
       "description": "syntaktische Funktion",
       "layout": "IPY_MODEL_ca521d404dd74771972f5b01888cf6a9",
       "style": "IPY_MODEL_fda3c20b4daa48ab9529a9dc6b41f829"
      }
     },
     "346d21277cc3433bbb4981606d4b325f": {
      "model_module": "@jupyter-widgets/controls",
      "model_module_version": "1.4.0",
      "model_name": "DescriptionStyleModel",
      "state": {
       "description_width": ""
      }
     },
     "348396b986c74b299f6a643a88e07784": {
      "model_module": "@jupyter-widgets/controls",
      "model_module_version": "1.4.0",
      "model_name": "ButtonModel",
      "state": {
       "description": "mehr als ein",
       "layout": "IPY_MODEL_e3e59c3a018f43d49e4d559d340b6a9c",
       "style": "IPY_MODEL_26eeb7ed9c964f8299516264dbb1731e"
      }
     },
     "34b68c5122b94030844db94256491f7b": {
      "model_module": "@jupyter-widgets/controls",
      "model_module_version": "1.4.0",
      "model_name": "ButtonStyleModel",
      "state": {}
     },
     "34c7b8daec7e47c4ab12526cdac0f0d3": {
      "model_module": "@jupyter-widgets/controls",
      "model_module_version": "1.4.0",
      "model_name": "HBoxModel",
      "state": {
       "children": [
        "IPY_MODEL_2a742555ba6d4208af76ab8822968f90",
        "IPY_MODEL_6ec90d851f124c56bbcddae4cb5b023d"
       ],
       "layout": "IPY_MODEL_848fbd6ec0184d56b22c6eb61ca8d626"
      }
     },
     "34ebfd604c0d4f4dbda757b6422e0cf9": {
      "model_module": "@jupyter-widgets/controls",
      "model_module_version": "1.4.0",
      "model_name": "HTMLModel",
      "state": {
       "layout": "IPY_MODEL_61b1ba1f34a645f88d8149fb7dca0cd0",
       "style": "IPY_MODEL_cc939fae13414bacbc89994bb4bd15f5",
       "value": "<h4 style=\"font-size:14px;\">Was sind die 3 grundlegenden Beschreibungsebenen der Grammatik natürlicher Sprachen?</h4>"
      }
     },
     "350b9640db6545dcb7a27b81204bb384": {
      "model_module": "@jupyter-widgets/controls",
      "model_module_version": "1.4.0",
      "model_name": "HBoxModel",
      "state": {
       "children": [
        "IPY_MODEL_2af8a1eea77d451bafd306509fa08a1b",
        "IPY_MODEL_8f8aecf4fce74f24b50e3a8e2761571c"
       ],
       "layout": "IPY_MODEL_7f140405db064ad5a5b042227b68dd22"
      }
     },
     "35216bc4120f42b9946aed0ebfb6f2cd": {
      "model_module": "@jupyter-widgets/base",
      "model_module_version": "1.1.0",
      "model_name": "LayoutModel",
      "state": {}
     },
     "35487d0aef144441830e67cb761d84ee": {
      "model_module": "@jupyter-widgets/controls",
      "model_module_version": "1.4.0",
      "model_name": "ButtonStyleModel",
      "state": {}
     },
     "355f8080a12749fe817c70ea27dd99cb": {
      "model_module": "@jupyter-widgets/controls",
      "model_module_version": "1.4.0",
      "model_name": "ButtonStyleModel",
      "state": {
       "button_color": "lightgreen"
      }
     },
     "357482a4a4da43e8a589b5daf1fc09af": {
      "model_module": "@jupyter-widgets/controls",
      "model_module_version": "1.4.0",
      "model_name": "HTMLModel",
      "state": {
       "layout": "IPY_MODEL_249c7e4a5f624acab6b33428cd409db7",
       "style": "IPY_MODEL_6bb8620b25c04baa86f8379a22ccfec5",
       "value": "<h4 style=\"font-size:14px;\">Welche Funktion innerhalb der Gerund-Nomen-Phrase nimmt das Nomen ein, wenn das Gerund Kopf dieser Phrase ist?</h4>"
      }
     },
     "3592de5c52614653a99c8ea68c818a06": {
      "model_module": "@jupyter-widgets/controls",
      "model_module_version": "1.4.0",
      "model_name": "VBoxModel",
      "state": {
       "children": [
        "IPY_MODEL_bb207700115b416ca9c584f8c4250ddf",
        "IPY_MODEL_eac911fc3ff7458b8f6df9a035634aa7",
        "IPY_MODEL_af5ce9df2cd243d29c3e885e77d8ec6c",
        "IPY_MODEL_cd17b412014642a8b4812a1cf182fbd4"
       ],
       "layout": "IPY_MODEL_156e6b605f9643d98198d5c1a27fdf76"
      }
     },
     "3594111d56794f48a86dd08b62a2a8d7": {
      "model_module": "@jupyter-widgets/controls",
      "model_module_version": "1.4.0",
      "model_name": "HTMLModel",
      "state": {
       "layout": "IPY_MODEL_d7b752f480f7417382db0c0f7f331e4f",
       "style": "IPY_MODEL_e88ab9772a774ea9b7ce98aece651417",
       "value": "<h4 style=\"font-size:14px;\">der formalen Sprache; ein analysierter natürlichsprachlicher Satz ist ein in der formalen Grammatik ableitbares</h4>"
      }
     },
     "35a4bec0e1b34c8aaf67584ea2930eff": {
      "model_module": "@jupyter-widgets/base",
      "model_module_version": "1.1.0",
      "model_name": "LayoutModel",
      "state": {
       "width": "250px"
      }
     },
     "35b4ee73e101445d948470dca3ff8088": {
      "model_module": "@jupyter-widgets/base",
      "model_module_version": "1.1.0",
      "model_name": "LayoutModel",
      "state": {
       "width": "600px"
      }
     },
     "35f7c4f0f53e428b8f218a921d607753": {
      "model_module": "@jupyter-widgets/base",
      "model_module_version": "1.1.0",
      "model_name": "LayoutModel",
      "state": {}
     },
     "36185fd7834c46b9a8630be586a24251": {
      "model_module": "@jupyter-widgets/controls",
      "model_module_version": "1.4.0",
      "model_name": "HBoxModel",
      "state": {
       "children": [
        "IPY_MODEL_6d9f561d90b94b27ba67c224eac35d3c",
        "IPY_MODEL_98f268bd11ab403fa1becf95b4d3a8ed"
       ],
       "layout": "IPY_MODEL_cff698fc11474f95a403e0dd2ae8b4a0"
      }
     },
     "3643f7e42a0342e0809434fa4c9515c6": {
      "model_module": "@jupyter-widgets/controls",
      "model_module_version": "1.4.0",
      "model_name": "ButtonModel",
      "state": {
       "description": "strukturelle Ambiguität",
       "layout": "IPY_MODEL_50d9b98a30c94f0c81a98d22ab21b03a",
       "style": "IPY_MODEL_a03d04ff39c54fa8bb3fddcb47c33000"
      }
     },
     "366588bd3f4f4c46b1e89956c9cc943c": {
      "model_module": "@jupyter-widgets/base",
      "model_module_version": "1.1.0",
      "model_name": "LayoutModel",
      "state": {
       "width": "250px"
      }
     },
     "369190c1f6c046c39c09853099f2a43b": {
      "model_module": "@jupyter-widgets/controls",
      "model_module_version": "1.4.0",
      "model_name": "DescriptionStyleModel",
      "state": {
       "description_width": ""
      }
     },
     "36a199d7ef624caa93cf5ba517e596c4": {
      "model_module": "@jupyter-widgets/controls",
      "model_module_version": "1.4.0",
      "model_name": "DescriptionStyleModel",
      "state": {
       "description_width": ""
      }
     },
     "36c88b3f59234c408cdcbf8285d3dd07": {
      "model_module": "@jupyter-widgets/base",
      "model_module_version": "1.1.0",
      "model_name": "LayoutModel",
      "state": {
       "width": "250px"
      }
     },
     "36cac6c1f7ce4078a475800674f52942": {
      "model_module": "@jupyter-widgets/controls",
      "model_module_version": "1.4.0",
      "model_name": "HTMLModel",
      "state": {
       "layout": "IPY_MODEL_ec5d3309bc9f47bba31e11a89f755b09",
       "style": "IPY_MODEL_98a015434eb14603971f8ddaacc1fc70",
       "value": "<i>Vervollständigen Sie den Lückentext: </i>"
      }
     },
     "370a1b076fd84164b4ac71e619753667": {
      "model_module": "@jupyter-widgets/base",
      "model_module_version": "1.1.0",
      "model_name": "LayoutModel",
      "state": {
       "width": "600px"
      }
     },
     "37cd89936d954026baa44f525a6d128f": {
      "model_module": "@jupyter-widgets/controls",
      "model_module_version": "1.4.0",
      "model_name": "ButtonModel",
      "state": {
       "description": "Phrasenstruktur",
       "layout": "IPY_MODEL_2bd5d27aa54d4a329be24fe67f96d0b2",
       "style": "IPY_MODEL_3e94fe6220e641ce90d334869dfcc433"
      }
     },
     "37e465d476244dbea360227f351f0d32": {
      "model_module": "@jupyter-widgets/base",
      "model_module_version": "1.1.0",
      "model_name": "LayoutModel",
      "state": {
       "width": "250px"
      }
     },
     "37fae29ee5ad4c58a9fbba26601496e7": {
      "model_module": "@jupyter-widgets/controls",
      "model_module_version": "1.4.0",
      "model_name": "VBoxModel",
      "state": {
       "children": [
        "IPY_MODEL_a1484f8e748c45fcb2b841850fde444c",
        "IPY_MODEL_66eb28c557d24a23b6a3801a48e2d048",
        "IPY_MODEL_d45b8a81af67401a9aed7c5d8b0d5e1b",
        "IPY_MODEL_1cc750ccf5024dbba9605169188e1222"
       ],
       "layout": "IPY_MODEL_d966fca1079b44f6b385a6bbbb3e5095"
      }
     },
     "38259025337c4f789bf9e4e4be813c5b": {
      "model_module": "@jupyter-widgets/base",
      "model_module_version": "1.1.0",
      "model_name": "LayoutModel",
      "state": {}
     },
     "385a98c8d5a64b329344a0efcbe74c52": {
      "model_module": "@jupyter-widgets/controls",
      "model_module_version": "1.4.0",
      "model_name": "ButtonStyleModel",
      "state": {}
     },
     "3881d515f20843aeb77107aeb7fbf720": {
      "model_module": "@jupyter-widgets/controls",
      "model_module_version": "1.4.0",
      "model_name": "HTMLModel",
      "state": {
       "layout": "IPY_MODEL_570e9bb758f94ce4a1ffeb07e301cac5",
       "style": "IPY_MODEL_bc0dbd8feca14f20b011deb397ea003f",
       "value": "<h4 style=\"font-size:14px;\">Welcher Grammatikbegriff liegt Satz 3 zugrunde?</h4>"
      }
     },
     "388906d7180e40ca8b3b554838cc48a4": {
      "model_module": "@jupyter-widgets/base",
      "model_module_version": "1.1.0",
      "model_name": "LayoutModel",
      "state": {
       "width": "250px"
      }
     },
     "38992e33326349a8962deb8f87d9afc2": {
      "model_module": "@jupyter-widgets/controls",
      "model_module_version": "1.4.0",
      "model_name": "DescriptionStyleModel",
      "state": {
       "description_width": ""
      }
     },
     "38b78bd9a74f45319596d3fc549cdfd7": {
      "model_module": "@jupyter-widgets/controls",
      "model_module_version": "1.4.0",
      "model_name": "ButtonStyleModel",
      "state": {}
     },
     "38f79588b5774583a3f0cf85b9d4b907": {
      "model_module": "@jupyter-widgets/controls",
      "model_module_version": "1.4.0",
      "model_name": "DescriptionStyleModel",
      "state": {
       "description_width": ""
      }
     },
     "39248a7dcabb4273a00027e1beced0dd": {
      "model_module": "@jupyter-widgets/controls",
      "model_module_version": "1.4.0",
      "model_name": "CheckboxModel",
      "state": {
       "description": "Eine automatische Strukturanalyse wird möglich.",
       "disabled": false,
       "layout": "IPY_MODEL_339ffb70ca44493399d1b29ff36c9de9",
       "style": "IPY_MODEL_96151efdc4d240438acef4cc84e81f9e",
       "value": false
      }
     },
     "39516aba5dec44fa800b07fdab36e4f5": {
      "model_module": "@jupyter-widgets/base",
      "model_module_version": "1.1.0",
      "model_name": "LayoutModel",
      "state": {}
     },
     "39794e44b773416f876a368c8ead4be3": {
      "model_module": "@jupyter-widgets/controls",
      "model_module_version": "1.4.0",
      "model_name": "DescriptionStyleModel",
      "state": {
       "description_width": "initial"
      }
     },
     "39a0459f57654271804ea6b419e323d9": {
      "model_module": "@jupyter-widgets/controls",
      "model_module_version": "1.4.0",
      "model_name": "DescriptionStyleModel",
      "state": {
       "description_width": ""
      }
     },
     "39bfc69da4c94434b9302b04338712ca": {
      "model_module": "@jupyter-widgets/controls",
      "model_module_version": "1.4.0",
      "model_name": "VBoxModel",
      "state": {
       "children": [
        "IPY_MODEL_5b0e0723f36d47aaa48c8dcfabe7bd50",
        "IPY_MODEL_ed0fcdabc36649c09f787ea8d6db1677",
        "IPY_MODEL_6169cafd7b184dcb9bb4ecc135f6ebbd",
        "IPY_MODEL_82b5d648b3d04dc89106e6ac8d4ba3ab",
        "IPY_MODEL_700cce7107f5491e9dbb557ab7221b13"
       ],
       "layout": "IPY_MODEL_3bfd5cb1d8ec46bfa02a17e648cb9e5d"
      }
     },
     "39c41e39adb645508bd1cf2af1ce54c7": {
      "model_module": "@jupyter-widgets/controls",
      "model_module_version": "1.4.0",
      "model_name": "HBoxModel",
      "state": {
       "children": [
        "IPY_MODEL_cf8478719b564f999d4967ddbb424cd8",
        "IPY_MODEL_e92f591d4ec34212aaec2f9bb2a4b6e7"
       ],
       "layout": "IPY_MODEL_f06fd8cff9e24ca1b90b189adcc5e07a"
      }
     },
     "39c48a800d0f49779117a0fe9d7adada": {
      "model_module": "@jupyter-widgets/controls",
      "model_module_version": "1.4.0",
      "model_name": "HTMLModel",
      "state": {
       "layout": "IPY_MODEL_a299d515ebcf456ca41d0be2c847d74c",
       "style": "IPY_MODEL_84c50983dab044eca95615f2e80e5279",
       "value": "<h4 style=\"font-size:14px;\">Dependenz ist synonym zu:</h4>"
      }
     },
     "3a01a8bf139a4adb8b00460ae91ff046": {
      "model_module": "@jupyter-widgets/base",
      "model_module_version": "1.1.0",
      "model_name": "LayoutModel",
      "state": {
       "justify_content": "center"
      }
     },
     "3a0d48d8f93d4ebf8fcaf4ca7bacdb11": {
      "model_module": "@jupyter-widgets/base",
      "model_module_version": "1.1.0",
      "model_name": "LayoutModel",
      "state": {}
     },
     "3a4f1fa70c70465899722132328f0276": {
      "model_module": "@jupyter-widgets/base",
      "model_module_version": "1.1.0",
      "model_name": "LayoutModel",
      "state": {
       "width": "600px"
      }
     },
     "3ac3e2f5a70d4e7ca8d259f105ba2242": {
      "model_module": "@jupyter-widgets/base",
      "model_module_version": "1.1.0",
      "model_name": "LayoutModel",
      "state": {
       "width": "600px"
      }
     },
     "3ae7cd69cb784777b6d5f49d668d4f67": {
      "model_module": "@jupyter-widgets/controls",
      "model_module_version": "1.4.0",
      "model_name": "ButtonStyleModel",
      "state": {}
     },
     "3b14359e984f48b986bc3440b883282d": {
      "model_module": "@jupyter-widgets/controls",
      "model_module_version": "1.4.0",
      "model_name": "DescriptionStyleModel",
      "state": {
       "description_width": ""
      }
     },
     "3b61c0a35de842689debca8870936388": {
      "model_module": "@jupyter-widgets/controls",
      "model_module_version": "1.4.0",
      "model_name": "ButtonModel",
      "state": {
       "description": "Subjekt",
       "layout": "IPY_MODEL_d05df4c2131e457ea558a8bf6ff15ac3",
       "style": "IPY_MODEL_34b68c5122b94030844db94256491f7b"
      }
     },
     "3b826b8153e74f90b402c386adc4b575": {
      "model_module": "@jupyter-widgets/controls",
      "model_module_version": "1.4.0",
      "model_name": "HTMLModel",
      "state": {
       "layout": "IPY_MODEL_2022b820209a4020a22722d7a7be4818",
       "style": "IPY_MODEL_2b65f4ae1b96435c8059fddb61dd1642",
       "value": "<i>Vervollständigen Sie den Lückentext: </i>"
      }
     },
     "3b8afa6cdb274d198aa2617e079ac9a4": {
      "model_module": "@jupyter-widgets/controls",
      "model_module_version": "1.4.0",
      "model_name": "ButtonModel",
      "state": {
       "description": "Korrekt?",
       "layout": "IPY_MODEL_12bc8bdd2ea94ca989f00af64ccc9836",
       "style": "IPY_MODEL_aaa70f27c5744afa923aba510e6ad894"
      }
     },
     "3bd069fca9214797b7adf75d132cb54a": {
      "model_module": "@jupyter-widgets/controls",
      "model_module_version": "1.4.0",
      "model_name": "ButtonModel",
      "state": {
       "description": "Regelbuch",
       "layout": "IPY_MODEL_301cabb1ef6f4c679f434d1457a0772f",
       "style": "IPY_MODEL_24693489464749c3b1ca4d5f32bfdf29"
      }
     },
     "3bfd5cb1d8ec46bfa02a17e648cb9e5d": {
      "model_module": "@jupyter-widgets/base",
      "model_module_version": "1.1.0",
      "model_name": "LayoutModel",
      "state": {}
     },
     "3c07916d4d5540b594ebf11844c7c51d": {
      "model_module": "@jupyter-widgets/controls",
      "model_module_version": "1.4.0",
      "model_name": "DescriptionStyleModel",
      "state": {
       "description_width": ""
      }
     },
     "3c205a997a62440aafcc4ba7a475ad54": {
      "model_module": "@jupyter-widgets/controls",
      "model_module_version": "1.4.0",
      "model_name": "ButtonStyleModel",
      "state": {
       "button_color": "lightgreen"
      }
     },
     "3c266d0d656747d2b60753dec6906ba7": {
      "model_module": "@jupyter-widgets/controls",
      "model_module_version": "1.4.0",
      "model_name": "VBoxModel",
      "state": {
       "children": [
        "IPY_MODEL_9e6a580b2b99432ab94f5751bc17adea",
        "IPY_MODEL_a6cb1e22290b423799fbad0e8165c9da",
        "IPY_MODEL_0a0395ae51324ae2b909b6cec654a408",
        "IPY_MODEL_2918661b312241fb8682d8f1eb57eea1"
       ],
       "layout": "IPY_MODEL_7f744e672be94462ae9036aeb4bb7734"
      }
     },
     "3c2fc249baa24dd6b69256ba4dbf5cd2": {
      "model_module": "@jupyter-widgets/base",
      "model_module_version": "1.1.0",
      "model_name": "LayoutModel",
      "state": {
       "width": "250px"
      }
     },
     "3c3cdd6988aa42c3b5a5ea7ee916e8a9": {
      "model_module": "@jupyter-widgets/base",
      "model_module_version": "1.1.0",
      "model_name": "LayoutModel",
      "state": {}
     },
     "3c57f42030314eacaa7bed0d3f8ee9a2": {
      "model_module": "@jupyter-widgets/base",
      "model_module_version": "1.1.0",
      "model_name": "LayoutModel",
      "state": {
       "width": "600px"
      }
     },
     "3c6cb38d66de42f994641d8a0e324cd1": {
      "model_module": "@jupyter-widgets/controls",
      "model_module_version": "1.4.0",
      "model_name": "HTMLModel",
      "state": {
       "layout": "IPY_MODEL_ab841bc36f1743faabf6d9d7aefdc98e",
       "style": "IPY_MODEL_dcaa84e662ae4bb5aa26892bf13a4e43",
       "value": "<h4 style=\"font-size:14px;\">Welcher Grammatikbegriff liegt Satz 2 zugrunde?</h4>"
      }
     },
     "3caf1dc80a994ca3bc3a60fea956f7b8": {
      "model_module": "@jupyter-widgets/base",
      "model_module_version": "1.1.0",
      "model_name": "LayoutModel",
      "state": {
       "width": "600px"
      }
     },
     "3cd2a3cff7074ca1b603cb899ea5ad16": {
      "model_module": "@jupyter-widgets/controls",
      "model_module_version": "1.4.0",
      "model_name": "DescriptionStyleModel",
      "state": {
       "description_width": ""
      }
     },
     "3ce9cdc204c14b0c8a2d62dd34683458": {
      "model_module": "@jupyter-widgets/base",
      "model_module_version": "1.1.0",
      "model_name": "LayoutModel",
      "state": {
       "justify_content": "center"
      }
     },
     "3cf290e3a7404e7385c970ba803d3e6b": {
      "model_module": "@jupyter-widgets/base",
      "model_module_version": "1.1.0",
      "model_name": "LayoutModel",
      "state": {
       "width": "250px"
      }
     },
     "3d0769620b6d442b9d707f095564704b": {
      "model_module": "@jupyter-widgets/base",
      "model_module_version": "1.1.0",
      "model_name": "LayoutModel",
      "state": {
       "width": "250px"
      }
     },
     "3d1b475e278b478c83514855bd72a67f": {
      "model_module": "@jupyter-widgets/controls",
      "model_module_version": "1.4.0",
      "model_name": "HBoxModel",
      "state": {
       "children": [
        "IPY_MODEL_9d36d9472cc649c4a9057c94555b1ea9",
        "IPY_MODEL_7581dc9aa21f4cd6af9a58efc9557d0c"
       ],
       "layout": "IPY_MODEL_eb24fe0b88cb41b0b0acb0cf6ee1a845"
      }
     },
     "3d23943f3ff94bcca1601f0ceff0d2d0": {
      "model_module": "@jupyter-widgets/controls",
      "model_module_version": "1.4.0",
      "model_name": "DescriptionStyleModel",
      "state": {
       "description_width": ""
      }
     },
     "3d5e7b80f8f042fb875cb4f5832d6d48": {
      "model_module": "@jupyter-widgets/base",
      "model_module_version": "1.1.0",
      "model_name": "LayoutModel",
      "state": {
       "justify_content": "center"
      }
     },
     "3d603eb456464e3089e625713363aa99": {
      "model_module": "@jupyter-widgets/controls",
      "model_module_version": "1.4.0",
      "model_name": "ButtonStyleModel",
      "state": {}
     },
     "3d844b668b8c43ecbeebf28752fd542a": {
      "model_module": "@jupyter-widgets/controls",
      "model_module_version": "1.4.0",
      "model_name": "ButtonStyleModel",
      "state": {}
     },
     "3db9364d15964ffda97700ce0f384a67": {
      "model_module": "@jupyter-widgets/base",
      "model_module_version": "1.1.0",
      "model_name": "LayoutModel",
      "state": {}
     },
     "3df25340fc104587a786d43896b4780c": {
      "model_module": "@jupyter-widgets/base",
      "model_module_version": "1.1.0",
      "model_name": "LayoutModel",
      "state": {}
     },
     "3e0e3d27f32a4486876d02b57cbc2a36": {
      "model_module": "@jupyter-widgets/base",
      "model_module_version": "1.1.0",
      "model_name": "LayoutModel",
      "state": {
       "width": "600px"
      }
     },
     "3e1e76892f894c2d8846cc7e82257f44": {
      "model_module": "@jupyter-widgets/base",
      "model_module_version": "1.1.0",
      "model_name": "LayoutModel",
      "state": {
       "width": "600px"
      }
     },
     "3e57703d2e254aa796fd6b92c420ac85": {
      "model_module": "@jupyter-widgets/base",
      "model_module_version": "1.1.0",
      "model_name": "LayoutModel",
      "state": {
       "width": "250px"
      }
     },
     "3e57c255a3ad46c3ac0de8580f581416": {
      "model_module": "@jupyter-widgets/controls",
      "model_module_version": "1.4.0",
      "model_name": "DescriptionStyleModel",
      "state": {
       "description_width": "initial"
      }
     },
     "3e6ce862fbf740b7979187dcc8e1d820": {
      "model_module": "@jupyter-widgets/controls",
      "model_module_version": "1.4.0",
      "model_name": "DescriptionStyleModel",
      "state": {
       "description_width": ""
      }
     },
     "3e746b086b0247b992d5a9d211504bb1": {
      "model_module": "@jupyter-widgets/controls",
      "model_module_version": "1.4.0",
      "model_name": "HBoxModel",
      "state": {
       "children": [
        "IPY_MODEL_814e6c481e1040bb8250fa5f85901e60",
        "IPY_MODEL_036dd0eb2b1c48adaac746ef35f27c5b"
       ],
       "layout": "IPY_MODEL_dd430016a3de44638a530016cca56b1c"
      }
     },
     "3e871c1ef0874968abcd37f7ff973689": {
      "model_module": "@jupyter-widgets/base",
      "model_module_version": "1.1.0",
      "model_name": "LayoutModel",
      "state": {
       "width": "250px"
      }
     },
     "3e94fe6220e641ce90d334869dfcc433": {
      "model_module": "@jupyter-widgets/controls",
      "model_module_version": "1.4.0",
      "model_name": "ButtonStyleModel",
      "state": {}
     },
     "3effda48d18f4e0dbb0ba5096b018006": {
      "model_module": "@jupyter-widgets/controls",
      "model_module_version": "1.4.0",
      "model_name": "ButtonModel",
      "state": {
       "description": "strukturelle Ambiguität",
       "layout": "IPY_MODEL_f55bdd4d680f44d7b15ad16045135824",
       "style": "IPY_MODEL_1af3d209fb6e4d9eaa315db29e1a7d27"
      }
     },
     "3f20804594394f25b0e5bb6bbcbaeba8": {
      "model_module": "@jupyter-widgets/base",
      "model_module_version": "1.1.0",
      "model_name": "LayoutModel",
      "state": {}
     },
     "3f45ae1b1d2841f7b412cd6a02bea3a8": {
      "model_module": "@jupyter-widgets/controls",
      "model_module_version": "1.4.0",
      "model_name": "ButtonStyleModel",
      "state": {}
     },
     "3f544bfbe1e34cc48ed598f5b4e7da71": {
      "model_module": "@jupyter-widgets/controls",
      "model_module_version": "1.4.0",
      "model_name": "HBoxModel",
      "state": {
       "children": [
        "IPY_MODEL_3effda48d18f4e0dbb0ba5096b018006",
        "IPY_MODEL_8aedde5171c8445f871cc99ee791813a"
       ],
       "layout": "IPY_MODEL_45846de28e8a4cc98a8938618acfae95"
      }
     },
     "3fa499861499452c8cc64514c498f68e": {
      "model_module": "@jupyter-widgets/base",
      "model_module_version": "1.1.0",
      "model_name": "LayoutModel",
      "state": {
       "width": "250px"
      }
     },
     "3fcea20e7db24c52bbf6252941aa0976": {
      "model_module": "@jupyter-widgets/controls",
      "model_module_version": "1.4.0",
      "model_name": "HTMLModel",
      "state": {
       "layout": "IPY_MODEL_64e54ae080ee43cdb2d1785ea78b4f55",
       "style": "IPY_MODEL_7fa13f2d3f914ef1b21f7de89451bdd1",
       "value": "<h4 style=\"font-size:14px;\">Was ist der Fall, wenn die PP ein Attribut ist?</h4>"
      }
     },
     "3fe0c768992448528c432060f7b21e6d": {
      "model_module": "@jupyter-widgets/controls",
      "model_module_version": "1.4.0",
      "model_name": "ButtonStyleModel",
      "state": {}
     },
     "4001f68b86884f1399b4637e4f85d8cd": {
      "model_module": "@jupyter-widgets/controls",
      "model_module_version": "1.4.0",
      "model_name": "DescriptionStyleModel",
      "state": {
       "description_width": "initial"
      }
     },
     "400d0d94094845fc859c84d45d8b9799": {
      "model_module": "@jupyter-widgets/base",
      "model_module_version": "1.1.0",
      "model_name": "LayoutModel",
      "state": {}
     },
     "400f85641447458e9fcf1387e8bf9276": {
      "model_module": "@jupyter-widgets/controls",
      "model_module_version": "1.4.0",
      "model_name": "ButtonStyleModel",
      "state": {}
     },
     "4042098458c7435f9f3c9b68d34c13ab": {
      "model_module": "@jupyter-widgets/base",
      "model_module_version": "1.1.0",
      "model_name": "LayoutModel",
      "state": {}
     },
     "4046de12a81e4cd68b946788dd5fca9a": {
      "model_module": "@jupyter-widgets/controls",
      "model_module_version": "1.4.0",
      "model_name": "ButtonModel",
      "state": {
       "description": "genau ein",
       "layout": "IPY_MODEL_e6389548000a48aa84a610f02dec5443",
       "style": "IPY_MODEL_9025b14393e646d98103c0aa56c9ff27"
      }
     },
     "4080fce3bb5440f5baac612eaa5f6636": {
      "model_module": "@jupyter-widgets/controls",
      "model_module_version": "1.4.0",
      "model_name": "DescriptionStyleModel",
      "state": {
       "description_width": "initial"
      }
     },
     "40925aa97ccb4d87936078da817a61d6": {
      "model_module": "@jupyter-widgets/controls",
      "model_module_version": "1.4.0",
      "model_name": "ButtonModel",
      "state": {
       "description": "Parser",
       "layout": "IPY_MODEL_a89a489c9aa94e4abfaebc1cf52d2c4e",
       "style": "IPY_MODEL_28b36cfedd2746f49cc1d85b30a4da59"
      }
     },
     "4097962fb0b94d5ba39e54f67abd4de9": {
      "model_module": "@jupyter-widgets/controls",
      "model_module_version": "1.4.0",
      "model_name": "VBoxModel",
      "state": {
       "children": [
        "IPY_MODEL_3881d515f20843aeb77107aeb7fbf720",
        "IPY_MODEL_c35852e816c0452a89f40a68f7fffe69",
        "IPY_MODEL_ac0a5aea9a5747219a080ffc0dafe547",
        "IPY_MODEL_05454d3d4fbe410cb1a8359568583e2b",
        "IPY_MODEL_6a6f743fcbfb4723b06965cecf2a368a"
       ],
       "layout": "IPY_MODEL_86c5780a91cf4528a47119d99d6fdbcf"
      }
     },
     "40bc543c5ed048d0aafe813f861d639c": {
      "model_module": "@jupyter-widgets/base",
      "model_module_version": "1.1.0",
      "model_name": "LayoutModel",
      "state": {
       "width": "250px"
      }
     },
     "40df6efbba3d4d29bc864b1a1e7e8460": {
      "model_module": "@jupyter-widgets/controls",
      "model_module_version": "1.4.0",
      "model_name": "ButtonModel",
      "state": {
       "description": "Theorie der Sprachstruktur",
       "layout": "IPY_MODEL_538afd9fb813423fbb98475c8d4f2b5d",
       "style": "IPY_MODEL_16453c0fdf2648acac773e19a000344a"
      }
     },
     "40e828b483864100bc6674360fb3a575": {
      "model_module": "@jupyter-widgets/base",
      "model_module_version": "1.1.0",
      "model_name": "LayoutModel",
      "state": {}
     },
     "40ea544c086440b7932d22315d36fbaa": {
      "model_module": "@jupyter-widgets/base",
      "model_module_version": "1.1.0",
      "model_name": "LayoutModel",
      "state": {}
     },
     "411cdc47969148b5ba44d9f55f0eebba": {
      "model_module": "@jupyter-widgets/base",
      "model_module_version": "1.1.0",
      "model_name": "LayoutModel",
      "state": {}
     },
     "4140f7c0b5b84fc2bdff741676279827": {
      "model_module": "@jupyter-widgets/controls",
      "model_module_version": "1.4.0",
      "model_name": "ButtonStyleModel",
      "state": {}
     },
     "4149177b1314460d8d3d91439f4d2afe": {
      "model_module": "@jupyter-widgets/controls",
      "model_module_version": "1.4.0",
      "model_name": "VBoxModel",
      "state": {
       "children": [
        "IPY_MODEL_c9c65822e80d49c592027a3a80a9a22d",
        "IPY_MODEL_a7319ddc7281402cb864a6915a507209",
        "IPY_MODEL_34c7b8daec7e47c4ab12526cdac0f0d3"
       ],
       "layout": "IPY_MODEL_c3ca223ba00e440884758e94d756c1aa"
      }
     },
     "417f60ee7c0c4966b0b5ede8247bd618": {
      "model_module": "@jupyter-widgets/controls",
      "model_module_version": "1.4.0",
      "model_name": "ButtonModel",
      "state": {
       "description": "Wortstruktur",
       "layout": "IPY_MODEL_2276712b763e48d797d15fb39d2232a8",
       "style": "IPY_MODEL_e41b849aca4c4f02bcd7bf3a8fce7c5a"
      }
     },
     "419ca3373c2748f694ed221934d55648": {
      "model_module": "@jupyter-widgets/controls",
      "model_module_version": "1.4.0",
      "model_name": "HBoxModel",
      "state": {
       "children": [
        "IPY_MODEL_6c72fd3f845f4987aa42b7d48d16ec72",
        "IPY_MODEL_c09ac11b2c404fd694296e8918fc1e4f"
       ],
       "layout": "IPY_MODEL_e8f7d87911f6428c8f6f97ec2080a4ec"
      }
     },
     "41ab6375da2f4a5c9184afb46bc38fef": {
      "model_module": "@jupyter-widgets/controls",
      "model_module_version": "1.4.0",
      "model_name": "DescriptionStyleModel",
      "state": {
       "description_width": "initial"
      }
     },
     "41bd2a2d2888491ba07a1d130d6f583d": {
      "model_module": "@jupyter-widgets/base",
      "model_module_version": "1.1.0",
      "model_name": "LayoutModel",
      "state": {
       "justify_content": "center"
      }
     },
     "421a404a083a4e109a92380d4a39b0b0": {
      "model_module": "@jupyter-widgets/base",
      "model_module_version": "1.1.0",
      "model_name": "LayoutModel",
      "state": {
       "justify_content": "center"
      }
     },
     "421ae8dab0b34e30aa0de8ba2b7d03d0": {
      "model_module": "@jupyter-widgets/controls",
      "model_module_version": "1.4.0",
      "model_name": "HBoxModel",
      "state": {
       "children": [
        "IPY_MODEL_b85bfc75d79c4a5cbe04c969c1a7ede5",
        "IPY_MODEL_609545cb1b064f548044abc9a2a66efa"
       ],
       "layout": "IPY_MODEL_ecab16d691614b2da2bf9095c958f861"
      }
     },
     "422b00d61f09446cb5d3e5b19a4a629b": {
      "model_module": "@jupyter-widgets/base",
      "model_module_version": "1.1.0",
      "model_name": "LayoutModel",
      "state": {}
     },
     "423c5792202c4b89b5af483f1f8d7655": {
      "model_module": "@jupyter-widgets/controls",
      "model_module_version": "1.4.0",
      "model_name": "DescriptionStyleModel",
      "state": {
       "description_width": "initial"
      }
     },
     "424089c7aeb24f2da8671c919a58851e": {
      "model_module": "@jupyter-widgets/base",
      "model_module_version": "1.1.0",
      "model_name": "LayoutModel",
      "state": {
       "width": "600px"
      }
     },
     "427d0547fc31470fb8d23981b5d8b772": {
      "model_module": "@jupyter-widgets/base",
      "model_module_version": "1.1.0",
      "model_name": "LayoutModel",
      "state": {
       "width": "250px"
      }
     },
     "42ce11f1112144ba8a39aad6e2250339": {
      "model_module": "@jupyter-widgets/base",
      "model_module_version": "1.1.0",
      "model_name": "LayoutModel",
      "state": {
       "width": "250px"
      }
     },
     "433913c32a97429d82907a8b484ab561": {
      "model_module": "@jupyter-widgets/base",
      "model_module_version": "1.1.0",
      "model_name": "LayoutModel",
      "state": {
       "width": "250px"
      }
     },
     "439ddc4d65f04cb1bda488c6c23a4849": {
      "model_module": "@jupyter-widgets/controls",
      "model_module_version": "1.4.0",
      "model_name": "VBoxModel",
      "state": {
       "children": [
        "IPY_MODEL_3fcea20e7db24c52bbf6252941aa0976",
        "IPY_MODEL_26e86e8ce64e434c90066cf455c40cdf",
        "IPY_MODEL_e72a0a469aeb4353951f1019d4040c7a",
        "IPY_MODEL_e0dcae5a1d6e49b89920a5364aeee6c9"
       ],
       "layout": "IPY_MODEL_6dd7ebcf266b480abe91381600197136"
      }
     },
     "43a5045a8fc1464ea886059f78043f42": {
      "model_module": "@jupyter-widgets/base",
      "model_module_version": "1.1.0",
      "model_name": "LayoutModel",
      "state": {
       "align_content": "stretch",
       "align_items": "stretch",
       "display": "inline-flex",
       "flex": "flex-grow",
       "flex_flow": "row wrap",
       "justify_content": "flex-start"
      }
     },
     "43a5876f4f0a416a9ca24d36119164fb": {
      "model_module": "@jupyter-widgets/controls",
      "model_module_version": "1.4.0",
      "model_name": "HTMLModel",
      "state": {
       "layout": "IPY_MODEL_5ff0b744629a46a48c39c4de212346f4",
       "style": "IPY_MODEL_3e6ce862fbf740b7979187dcc8e1d820",
       "value": "<i>Wählen Sie die <ins>eine</ins> korrekte Antwort aus: </i>"
      }
     },
     "43b8c171889e4899a3cf4a1c63382e09": {
      "model_module": "@jupyter-widgets/base",
      "model_module_version": "1.1.0",
      "model_name": "LayoutModel",
      "state": {}
     },
     "43badcbe763f49018ef7d9f321b7aed9": {
      "model_module": "@jupyter-widgets/controls",
      "model_module_version": "1.4.0",
      "model_name": "DescriptionStyleModel",
      "state": {
       "description_width": "initial"
      }
     },
     "43bcebe1e2234a248727ce07eb7832cf": {
      "model_module": "@jupyter-widgets/controls",
      "model_module_version": "1.4.0",
      "model_name": "DescriptionStyleModel",
      "state": {
       "description_width": "initial"
      }
     },
     "43f11392f81d4f6aaa7558fde84fb694": {
      "model_module": "@jupyter-widgets/controls",
      "model_module_version": "1.4.0",
      "model_name": "DescriptionStyleModel",
      "state": {
       "description_width": ""
      }
     },
     "43fc75b7bdea4feb9c7a7fd29d1c5b14": {
      "model_module": "@jupyter-widgets/base",
      "model_module_version": "1.1.0",
      "model_name": "LayoutModel",
      "state": {
       "width": "250px"
      }
     },
     "444de02e115d4173a2df001d9076d588": {
      "model_module": "@jupyter-widgets/controls",
      "model_module_version": "1.4.0",
      "model_name": "ButtonStyleModel",
      "state": {}
     },
     "44887eba3fed400a8afba832107ea2a5": {
      "model_module": "@jupyter-widgets/controls",
      "model_module_version": "1.4.0",
      "model_name": "HTMLModel",
      "state": {
       "layout": "IPY_MODEL_ebf07c28b0d94f99a94a48c8547cee78",
       "style": "IPY_MODEL_9236142c97874f85bd8a3c4c2b6624d9",
       "value": "<i>Wählen Sie die <ins>eine</ins> korrekte Antwort aus: </i>"
      }
     },
     "449d4567d2884bc4b80cab0fdcc96507": {
      "model_module": "@jupyter-widgets/controls",
      "model_module_version": "1.4.0",
      "model_name": "HBoxModel",
      "state": {
       "children": [
        "IPY_MODEL_97ea1c1a443242b4901325b77b4a36ef",
        "IPY_MODEL_abfb18befc3d461ca31247bf1743bd84"
       ],
       "layout": "IPY_MODEL_09766d34b6ed4f54833b07c54d21ca60"
      }
     },
     "450b046ea50e41099389868f070aa9d6": {
      "model_module": "@jupyter-widgets/controls",
      "model_module_version": "1.4.0",
      "model_name": "HBoxModel",
      "state": {
       "children": [
        "IPY_MODEL_becf05a4408e4dc39c6ac4b3201d7fd6",
        "IPY_MODEL_7a7f4435c94149958bb54434f233c155"
       ],
       "layout": "IPY_MODEL_7e7476175b6a4daa8a884b85ccbd3c87"
      }
     },
     "451f04efee864988b8ec8526a18b8cdc": {
      "model_module": "@jupyter-widgets/base",
      "model_module_version": "1.1.0",
      "model_name": "LayoutModel",
      "state": {}
     },
     "451fd7615f3147ba88525f5967e64c4e": {
      "model_module": "@jupyter-widgets/base",
      "model_module_version": "1.1.0",
      "model_name": "LayoutModel",
      "state": {}
     },
     "453d164d1b6648c38dbfa5d00335e01c": {
      "model_module": "@jupyter-widgets/controls",
      "model_module_version": "1.4.0",
      "model_name": "ButtonModel",
      "state": {
       "description": "Korrekt?",
       "layout": "IPY_MODEL_df3d867a5a4a42d896101a56801e1d94",
       "style": "IPY_MODEL_02bdf05e3de5456aa064dbe60f4fe789"
      }
     },
     "45846de28e8a4cc98a8938618acfae95": {
      "model_module": "@jupyter-widgets/base",
      "model_module_version": "1.1.0",
      "model_name": "LayoutModel",
      "state": {}
     },
     "458476d605b446a0b9fd6aab34ee39fb": {
      "model_module": "@jupyter-widgets/base",
      "model_module_version": "1.1.0",
      "model_name": "LayoutModel",
      "state": {
       "width": "250px"
      }
     },
     "459aee1e33cf4e28b88f9c4b4dedc36c": {
      "model_module": "@jupyter-widgets/controls",
      "model_module_version": "1.4.0",
      "model_name": "HTMLModel",
      "state": {
       "layout": "IPY_MODEL_3d5e7b80f8f042fb875cb4f5832d6d48",
       "style": "IPY_MODEL_ead7c1e4c8fd4196baea212ada115364",
       "value": "<h4 style=\"font-size:14px;\">Welcher Grammatikbegriff liegt Satz 1 zugrunde?</h4>"
      }
     },
     "45b9ca70c7b3474298c7f46edd2117a3": {
      "model_module": "@jupyter-widgets/controls",
      "model_module_version": "1.4.0",
      "model_name": "ButtonModel",
      "state": {
       "description": "Wissen um Sprachstruktur",
       "layout": "IPY_MODEL_ff3e289657ba40308f766d865ca45ec5",
       "style": "IPY_MODEL_045dbceedc5a42e69bc739a2d476151d"
      }
     },
     "45bef980a051483dbd653999dae28fa9": {
      "model_module": "@jupyter-widgets/controls",
      "model_module_version": "1.4.0",
      "model_name": "DescriptionStyleModel",
      "state": {
       "description_width": ""
      }
     },
     "45f4c3bc6c4b4648915025092a08f3cd": {
      "model_module": "@jupyter-widgets/base",
      "model_module_version": "1.1.0",
      "model_name": "LayoutModel",
      "state": {}
     },
     "460bc6d9ef4a4a22a36c71fceaa795d9": {
      "model_module": "@jupyter-widgets/base",
      "model_module_version": "1.1.0",
      "model_name": "LayoutModel",
      "state": {
       "justify_content": "center"
      }
     },
     "461361f42b2f460a9ebd2cff8dffa795": {
      "model_module": "@jupyter-widgets/controls",
      "model_module_version": "1.4.0",
      "model_name": "ButtonModel",
      "state": {
       "description": "Subjekt",
       "layout": "IPY_MODEL_23b08ba1668741e296336254698acafb",
       "style": "IPY_MODEL_099f9805cbdf42d3a42b3280b0b5f8e9"
      }
     },
     "4631e73d0d084912806493d3001ad588": {
      "model_module": "@jupyter-widgets/base",
      "model_module_version": "1.1.0",
      "model_name": "LayoutModel",
      "state": {
       "width": "250px"
      }
     },
     "463320300b48400d8afbc23e247eb022": {
      "model_module": "@jupyter-widgets/controls",
      "model_module_version": "1.4.0",
      "model_name": "DescriptionStyleModel",
      "state": {
       "description_width": ""
      }
     },
     "465a366d00ce440dbe2b329a8b3fe442": {
      "model_module": "@jupyter-widgets/controls",
      "model_module_version": "1.4.0",
      "model_name": "ButtonStyleModel",
      "state": {}
     },
     "467cc6ff03d24d6a98c82a0b9b3826d2": {
      "model_module": "@jupyter-widgets/controls",
      "model_module_version": "1.4.0",
      "model_name": "ButtonModel",
      "state": {
       "description": "formale Grammatik + Parser",
       "layout": "IPY_MODEL_e4d1ff0397a64b5ca43a6dd96b78d1f4",
       "style": "IPY_MODEL_a8149c90a2e540a0a974d5d1a29dfccc"
      }
     },
     "46873333e27b4bba95c1f47a7f0ed4ab": {
      "model_module": "@jupyter-widgets/controls",
      "model_module_version": "1.4.0",
      "model_name": "ButtonStyleModel",
      "state": {}
     },
     "4698d5476eea473ea65c1d68a3b12b82": {
      "model_module": "@jupyter-widgets/controls",
      "model_module_version": "1.4.0",
      "model_name": "ButtonStyleModel",
      "state": {}
     },
     "46ad54189cf14a7985d4534ceb5a5373": {
      "model_module": "@jupyter-widgets/controls",
      "model_module_version": "1.4.0",
      "model_name": "DescriptionStyleModel",
      "state": {
       "description_width": ""
      }
     },
     "46b411ce5702413996f509aeb608ea96": {
      "model_module": "@jupyter-widgets/base",
      "model_module_version": "1.1.0",
      "model_name": "LayoutModel",
      "state": {}
     },
     "46bcd25f381349d69c0be97f54a04ca9": {
      "model_module": "@jupyter-widgets/base",
      "model_module_version": "1.1.0",
      "model_name": "LayoutModel",
      "state": {}
     },
     "470fef02a2dc444cb290de2af09c0a8b": {
      "model_module": "@jupyter-widgets/base",
      "model_module_version": "1.1.0",
      "model_name": "LayoutModel",
      "state": {}
     },
     "4718981a395c40cc9609552e0ac084af": {
      "model_module": "@jupyter-widgets/controls",
      "model_module_version": "1.4.0",
      "model_name": "DescriptionStyleModel",
      "state": {
       "description_width": ""
      }
     },
     "4764ba87eddd449395dba106210b98cc": {
      "model_module": "@jupyter-widgets/controls",
      "model_module_version": "1.4.0",
      "model_name": "HTMLModel",
      "state": {
       "layout": "IPY_MODEL_88e0fd1d1b114ee8b8916136370a2b74",
       "style": "IPY_MODEL_8246fa110d2b44bea0d8587c973f9713",
       "value": "<i>Wählen Sie die <ins>eine</ins> korrekte Antwort aus: </i>"
      }
     },
     "4767b3cea9ec4ee391ab146b980923d8": {
      "model_module": "@jupyter-widgets/controls",
      "model_module_version": "1.4.0",
      "model_name": "HTMLModel",
      "state": {
       "layout": "IPY_MODEL_77ed3bcb51804b328c2104a23ba84fe7",
       "style": "IPY_MODEL_289a33f674df457abccc3a69bedd986f",
       "value": "<h4 style=\"font-size:14px;\">Die ________ eines Satzes bzgl. der formalen Grammatik wird erkannt.</h4>"
      }
     },
     "478a6b15cad0493aa20393550ed3b71f": {
      "model_module": "@jupyter-widgets/controls",
      "model_module_version": "1.4.0",
      "model_name": "CheckboxModel",
      "state": {
       "description": "Konstituenz",
       "disabled": false,
       "layout": "IPY_MODEL_6a82cfb7bbd4437ea8a422b17033fc7a",
       "style": "IPY_MODEL_f3806c12ad144f9d8b54bdfa66669901",
       "value": false
      }
     },
     "47b71487456741f7aa2b8650c67339ae": {
      "model_module": "@jupyter-widgets/controls",
      "model_module_version": "1.4.0",
      "model_name": "ButtonModel",
      "state": {
       "description": "Korrekt?",
       "layout": "IPY_MODEL_00a5a5cd7b7b447cbdf96664515656f2",
       "style": "IPY_MODEL_0ac7cac52088451d8d02c4e6050e79c5"
      }
     },
     "47db8433ef894ef3b148b63e37ac9403": {
      "model_module": "@jupyter-widgets/base",
      "model_module_version": "1.1.0",
      "model_name": "LayoutModel",
      "state": {}
     },
     "48508cc6d29a4c52a1c02bcd26b11dbe": {
      "model_module": "@jupyter-widgets/base",
      "model_module_version": "1.1.0",
      "model_name": "LayoutModel",
      "state": {}
     },
     "487a2690b1fa4cc8b1b55ba8cbb89ec5": {
      "model_module": "@jupyter-widgets/controls",
      "model_module_version": "1.4.0",
      "model_name": "ButtonModel",
      "state": {
       "description": "Keine der anderen Möglichkeiten",
       "layout": "IPY_MODEL_c8ab15707aca4c839c5b01c5a02a7325",
       "style": "IPY_MODEL_07e19c0162fa4d8f8246cd0553c13f4b"
      }
     },
     "48a2f750d3e4495984f356047d7b1264": {
      "model_module": "@jupyter-widgets/base",
      "model_module_version": "1.1.0",
      "model_name": "LayoutModel",
      "state": {}
     },
     "498a33f154cb425089837bcab40335dd": {
      "model_module": "@jupyter-widgets/base",
      "model_module_version": "1.1.0",
      "model_name": "LayoutModel",
      "state": {
       "width": "250px"
      }
     },
     "4993b7263e884396be61ef60fe1369cd": {
      "model_module": "@jupyter-widgets/controls",
      "model_module_version": "1.4.0",
      "model_name": "HTMLModel",
      "state": {
       "layout": "IPY_MODEL_cf2418c505434f139dcb66d53395e4aa",
       "style": "IPY_MODEL_83f7d79238ad4193b5b4d7b1330ddf13",
       "value": "<h4 style=\"font-size:14px;\">Welche Funktion im Hauptsatz nimmt das Gerund ein, wenn es Kopf der Gerund-Nomen-Phrase ist?</h4>"
      }
     },
     "49974fa24bdc4311bddad21632c55e34": {
      "model_module": "@jupyter-widgets/controls",
      "model_module_version": "1.4.0",
      "model_name": "DescriptionStyleModel",
      "state": {
       "description_width": ""
      }
     },
     "499d12c83de542379c904b515c7a0b4d": {
      "model_module": "@jupyter-widgets/controls",
      "model_module_version": "1.4.0",
      "model_name": "ButtonStyleModel",
      "state": {}
     },
     "49a2d6068a814bb39bce305483fbc4bb": {
      "model_module": "@jupyter-widgets/controls",
      "model_module_version": "1.4.0",
      "model_name": "ButtonStyleModel",
      "state": {}
     },
     "49a3f8133b254461bff93261751b8979": {
      "model_module": "@jupyter-widgets/controls",
      "model_module_version": "1.4.0",
      "model_name": "ButtonModel",
      "state": {
       "description": "Phrasentyp",
       "layout": "IPY_MODEL_5da5817e54fc4f9fb6095e6b7d686e60",
       "style": "IPY_MODEL_1cb0c9a58a104d3badaf10b4f6b3f282"
      }
     },
     "49ae4ca6b65a420495b45d0f0a3f934b": {
      "model_module": "@jupyter-widgets/controls",
      "model_module_version": "1.4.0",
      "model_name": "ButtonStyleModel",
      "state": {
       "button_color": "lightgreen"
      }
     },
     "49b7ff45918d4e30bd9777286db6ceb0": {
      "model_module": "@jupyter-widgets/base",
      "model_module_version": "1.1.0",
      "model_name": "LayoutModel",
      "state": {
       "width": "600px"
      }
     },
     "49cd413fbbbe475698bb0968f5ac6d40": {
      "model_module": "@jupyter-widgets/controls",
      "model_module_version": "1.4.0",
      "model_name": "DescriptionStyleModel",
      "state": {
       "description_width": ""
      }
     },
     "49ec15eb687842cabe8f39a2f82301c6": {
      "model_module": "@jupyter-widgets/controls",
      "model_module_version": "1.4.0",
      "model_name": "DescriptionStyleModel",
      "state": {
       "description_width": ""
      }
     },
     "4a0c7b4c6b474f3b950546bcb42c3cd7": {
      "model_module": "@jupyter-widgets/base",
      "model_module_version": "1.1.0",
      "model_name": "LayoutModel",
      "state": {}
     },
     "4a3965d80c7b41419beccef0bc0a445d": {
      "model_module": "@jupyter-widgets/controls",
      "model_module_version": "1.4.0",
      "model_name": "CheckboxModel",
      "state": {
       "description": "phonologische",
       "disabled": false,
       "layout": "IPY_MODEL_317f44543ee74cfea860690289bc52e5",
       "style": "IPY_MODEL_6bc7cfa8a5c844a598bf8bc6afe4faaa",
       "value": true
      }
     },
     "4a53a263aae0424280ce194bc9a73d4c": {
      "model_module": "@jupyter-widgets/base",
      "model_module_version": "1.1.0",
      "model_name": "LayoutModel",
      "state": {}
     },
     "4afd2c8a46d744999ee02b33c06774d4": {
      "model_module": "@jupyter-widgets/controls",
      "model_module_version": "1.4.0",
      "model_name": "DescriptionStyleModel",
      "state": {
       "description_width": "initial"
      }
     },
     "4b3348fc5e8847c4b001522c4a23e3bd": {
      "model_module": "@jupyter-widgets/controls",
      "model_module_version": "1.4.0",
      "model_name": "ButtonModel",
      "state": {
       "description": "Wortstruktur",
       "layout": "IPY_MODEL_1e41a40236884894992d4aa226763d51",
       "style": "IPY_MODEL_cc71099e2f3c49d4a72e10e75877d25b"
      }
     },
     "4b37a95b99db42aa886b7046428fcd9f": {
      "model_module": "@jupyter-widgets/controls",
      "model_module_version": "1.4.0",
      "model_name": "HTMLModel",
      "state": {
       "layout": "IPY_MODEL_c8cf3905a89a4d56b52df072f78a6a03",
       "style": "IPY_MODEL_d0f5eb3cd8f44e4c98b329c04a6650ff",
       "value": "<h4 style=\"font-size:14px;\">Hinsichtlich welcher syntaktischen Grundprinzipien werden natürliche Sprachen mit formalen Methoden analysiert?</h4>"
      }
     },
     "4b83bc71e4d44bf8b71a12621cf97f3c": {
      "model_module": "@jupyter-widgets/base",
      "model_module_version": "1.1.0",
      "model_name": "LayoutModel",
      "state": {
       "justify_content": "center"
      }
     },
     "4b899f672dd64ad58a6a0084888d3ca4": {
      "model_module": "@jupyter-widgets/controls",
      "model_module_version": "1.4.0",
      "model_name": "HTMLModel",
      "state": {
       "layout": "IPY_MODEL_e06653c551a14855bcf5bef4ceeebb9d",
       "style": "IPY_MODEL_09b138a0b59e4682acd69448a6d2d819",
       "value": "<h4 style=\"font-size:14px;\">Welche Funktion innerhalb der Gerund-Nomen-Phrase nimmt das Nomen ein, wenn das Gerund Kopf dieser Phrase ist?</h4>"
      }
     },
     "4bee382ca2e04ae2b89c8835f6a31e0c": {
      "model_module": "@jupyter-widgets/controls",
      "model_module_version": "1.4.0",
      "model_name": "ButtonModel",
      "state": {
       "description": "Korrekt?",
       "layout": "IPY_MODEL_4e216e87b2f54439b5cd5c6f15dd5474",
       "style": "IPY_MODEL_8a285262ff024dda9445e1dc8f5b2cd8"
      }
     },
     "4bee44b6c1cc4f729425fbd746531328": {
      "model_module": "@jupyter-widgets/base",
      "model_module_version": "1.1.0",
      "model_name": "LayoutModel",
      "state": {
       "justify_content": "center"
      }
     },
     "4bf5acd4ad634cbfa310610cd7721ad7": {
      "model_module": "@jupyter-widgets/base",
      "model_module_version": "1.1.0",
      "model_name": "LayoutModel",
      "state": {
       "width": "150px"
      }
     },
     "4c2b145ba86f43809b437dca1dbba4be": {
      "model_module": "@jupyter-widgets/controls",
      "model_module_version": "1.4.0",
      "model_name": "DescriptionStyleModel",
      "state": {
       "description_width": "initial"
      }
     },
     "4c30edbbfebd48f5af2981d7385528cf": {
      "model_module": "@jupyter-widgets/controls",
      "model_module_version": "1.4.0",
      "model_name": "DescriptionStyleModel",
      "state": {
       "description_width": ""
      }
     },
     "4c3b10b9effd49318c4e831ead37d85a": {
      "model_module": "@jupyter-widgets/controls",
      "model_module_version": "1.4.0",
      "model_name": "HTMLModel",
      "state": {
       "layout": "IPY_MODEL_e94dfe25f2bb40e682c85a4fdc6a2a84",
       "style": "IPY_MODEL_f56502fce61f42ee97a17e59fc05bb27",
       "value": "<h4 style=\"font-size:14px;\">Die Syntax ist ein</h4>"
      }
     },
     "4c79613bc3ce41858b2142c93bb6fc45": {
      "model_module": "@jupyter-widgets/base",
      "model_module_version": "1.1.0",
      "model_name": "LayoutModel",
      "state": {}
     },
     "4c81ef67ab0d44dfa4ac8f221cadf58e": {
      "model_module": "@jupyter-widgets/base",
      "model_module_version": "1.1.0",
      "model_name": "LayoutModel",
      "state": {
       "justify_content": "center"
      }
     },
     "4c8ae3c45fb64f7dace09bec2bb9fdf9": {
      "model_module": "@jupyter-widgets/controls",
      "model_module_version": "1.4.0",
      "model_name": "DescriptionStyleModel",
      "state": {
       "description_width": "initial"
      }
     },
     "4c9dc4a3425b458bb442378f96dad9b9": {
      "model_module": "@jupyter-widgets/base",
      "model_module_version": "1.1.0",
      "model_name": "LayoutModel",
      "state": {}
     },
     "4cb174612d5c44ebbee6b6015c7208e3": {
      "model_module": "@jupyter-widgets/controls",
      "model_module_version": "1.4.0",
      "model_name": "ButtonStyleModel",
      "state": {}
     },
     "4cf1c5db37614840b1233f4d4af0798c": {
      "model_module": "@jupyter-widgets/controls",
      "model_module_version": "1.4.0",
      "model_name": "CheckboxModel",
      "state": {
       "description": "Konstituentenbaum mit gelabelten Kanten",
       "disabled": false,
       "layout": "IPY_MODEL_92bef7a1b99347a1a54b0ee00ad8a18c",
       "style": "IPY_MODEL_39794e44b773416f876a368c8ead4be3",
       "value": false
      }
     },
     "4d502529ddf94f279e3500799263d6fc": {
      "model_module": "@jupyter-widgets/controls",
      "model_module_version": "1.4.0",
      "model_name": "ButtonStyleModel",
      "state": {}
     },
     "4d856e40a0e54f3799cc93f56e737895": {
      "model_module": "@jupyter-widgets/controls",
      "model_module_version": "1.4.0",
      "model_name": "DescriptionStyleModel",
      "state": {
       "description_width": "initial"
      }
     },
     "4d9868c88c144a1f99cb120c817bd383": {
      "model_module": "@jupyter-widgets/controls",
      "model_module_version": "1.4.0",
      "model_name": "ButtonStyleModel",
      "state": {}
     },
     "4d9d2f8b536348b98c296cf4a4fc17b3": {
      "model_module": "@jupyter-widgets/base",
      "model_module_version": "1.1.0",
      "model_name": "LayoutModel",
      "state": {
       "width": "250px"
      }
     },
     "4dab92f10af745f7a3452bba9e9a9276": {
      "model_module": "@jupyter-widgets/controls",
      "model_module_version": "1.4.0",
      "model_name": "ButtonStyleModel",
      "state": {}
     },
     "4dd4bd4390d04484a56db48247ccc3d7": {
      "model_module": "@jupyter-widgets/controls",
      "model_module_version": "1.4.0",
      "model_name": "DescriptionStyleModel",
      "state": {
       "description_width": ""
      }
     },
     "4de8122c9b404ca1bd39ab69b8f2f423": {
      "model_module": "@jupyter-widgets/base",
      "model_module_version": "1.1.0",
      "model_name": "LayoutModel",
      "state": {}
     },
     "4deaf82bfd0b402eb3fda8f911254b65": {
      "model_module": "@jupyter-widgets/controls",
      "model_module_version": "1.4.0",
      "model_name": "HTMLModel",
      "state": {
       "layout": "IPY_MODEL_4b83bc71e4d44bf8b71a12621cf97f3c",
       "style": "IPY_MODEL_20b16a057a394ba68cae093877e656f3",
       "value": "<h4 style=\"font-size:14px;\">Was ist der Ursprung der Ambiguität?</h4>"
      }
     },
     "4dec79ad64e74447b19911fa0efb93b9": {
      "model_module": "@jupyter-widgets/controls",
      "model_module_version": "1.4.0",
      "model_name": "ButtonStyleModel",
      "state": {}
     },
     "4dfb1ee7b4f84c5fa8c6a85bf0b56662": {
      "model_module": "@jupyter-widgets/controls",
      "model_module_version": "1.4.0",
      "model_name": "ButtonStyleModel",
      "state": {}
     },
     "4e17120fc9834a4881174e2a64fc89f7": {
      "model_module": "@jupyter-widgets/base",
      "model_module_version": "1.1.0",
      "model_name": "LayoutModel",
      "state": {}
     },
     "4e216e87b2f54439b5cd5c6f15dd5474": {
      "model_module": "@jupyter-widgets/base",
      "model_module_version": "1.1.0",
      "model_name": "LayoutModel",
      "state": {
       "width": "250px"
      }
     },
     "4e42d07e99ed4b449b6a257fa7b75592": {
      "model_module": "@jupyter-widgets/controls",
      "model_module_version": "1.4.0",
      "model_name": "ButtonModel",
      "state": {
       "description": "lexikalische Ambiguität",
       "layout": "IPY_MODEL_ab9058321d564c6a90194ccc50f3a81b",
       "style": "IPY_MODEL_0adce13d0b6b4923bbe4aca3407df13e"
      }
     },
     "4e5bef845fe04c8ab2c85b01bf8645e3": {
      "model_module": "@jupyter-widgets/base",
      "model_module_version": "1.1.0",
      "model_name": "LayoutModel",
      "state": {
       "justify_content": "center"
      }
     },
     "4e6682336e4248f08a49471cc190b659": {
      "model_module": "@jupyter-widgets/base",
      "model_module_version": "1.1.0",
      "model_name": "LayoutModel",
      "state": {
       "width": "250px"
      }
     },
     "4e797ec51f12474daba4d2772beee08b": {
      "model_module": "@jupyter-widgets/controls",
      "model_module_version": "1.4.0",
      "model_name": "CheckboxModel",
      "state": {
       "description": "Lautebene, Wortebene, Satzebene",
       "disabled": false,
       "layout": "IPY_MODEL_1d309346871e4395b191fbd877f55fd5",
       "style": "IPY_MODEL_4001f68b86884f1399b4637e4f85d8cd",
       "value": true
      }
     },
     "4ea3ae79cb5e480ebb48665635c1a0ce": {
      "model_module": "@jupyter-widgets/controls",
      "model_module_version": "1.4.0",
      "model_name": "VBoxModel",
      "state": {
       "children": [
        "IPY_MODEL_78060db4ac574b2b80c074695adab852",
        "IPY_MODEL_1069b4219dbc43acb754df021305a558",
        "IPY_MODEL_d12ce028d3104979bc7e0b3268c3b0af"
       ],
       "layout": "IPY_MODEL_c7e8beac8ecc49e2aafbc3ee8327e62a"
      }
     },
     "4ee5558374134ef6ad58a11cd84e373d": {
      "model_module": "@jupyter-widgets/controls",
      "model_module_version": "1.4.0",
      "model_name": "DescriptionStyleModel",
      "state": {
       "description_width": "initial"
      }
     },
     "4eedf2db6b1c4878b2c1ca832f6902e2": {
      "model_module": "@jupyter-widgets/base",
      "model_module_version": "1.1.0",
      "model_name": "LayoutModel",
      "state": {
       "width": "250px"
      }
     },
     "4f002ffc0e8d47fca37b944687f0c4b9": {
      "model_module": "@jupyter-widgets/controls",
      "model_module_version": "1.4.0",
      "model_name": "VBoxModel",
      "state": {
       "children": [
        "IPY_MODEL_3b826b8153e74f90b402c386adc4b575",
        "IPY_MODEL_83bab8b2c57b4afb8345d51a87c4cc65",
        "IPY_MODEL_1db60eeff5bc400799cfa0a9af0d32f1"
       ],
       "layout": "IPY_MODEL_690dbb5faa4141eba84f9394e6649e7d"
      }
     },
     "4f08435d41594073a0c80fac9ccc0858": {
      "model_module": "@jupyter-widgets/base",
      "model_module_version": "1.1.0",
      "model_name": "LayoutModel",
      "state": {
       "justify_content": "center"
      }
     },
     "4f312e98807f463a93d35cfbddf0a5b1": {
      "model_module": "@jupyter-widgets/controls",
      "model_module_version": "1.4.0",
      "model_name": "ButtonModel",
      "state": {
       "description": "formale Grammatik",
       "layout": "IPY_MODEL_044c0128e894490c9ca99f339e3f059c",
       "style": "IPY_MODEL_c6cd7bc635dd4d2fba088a5c0b4ec720"
      }
     },
     "4f9af5b86cd7477a83a7fd99dfd45f69": {
      "model_module": "@jupyter-widgets/controls",
      "model_module_version": "1.4.0",
      "model_name": "HTMLModel",
      "state": {
       "layout": "IPY_MODEL_d097c2cb49ee4660b5fb07de643aeda2",
       "style": "IPY_MODEL_03fa83e67211451180874e7ada7f9b12",
       "value": "<i>Wählen Sie die <ins>eine</ins> korrekte Antwort aus: </i>"
      }
     },
     "4fa2f8979b3941178ca3f75860bb6b42": {
      "model_module": "@jupyter-widgets/controls",
      "model_module_version": "1.4.0",
      "model_name": "ButtonModel",
      "state": {
       "description": "syntaktische Funktion",
       "layout": "IPY_MODEL_064deb39b2ca4ed38aeb422c8671f798",
       "style": "IPY_MODEL_50578841d4db4a4fafefc63f18e2a3b8"
      }
     },
     "4ff8b644608e4e9a8271ec1eb97d4fe4": {
      "model_module": "@jupyter-widgets/base",
      "model_module_version": "1.1.0",
      "model_name": "LayoutModel",
      "state": {
       "justify_content": "center"
      }
     },
     "500413332ca44b648133e736eaaa1d40": {
      "model_module": "@jupyter-widgets/controls",
      "model_module_version": "1.4.0",
      "model_name": "HBoxModel",
      "state": {
       "children": [
        "IPY_MODEL_751c693413614e098fc946edecad6749",
        "IPY_MODEL_b50c5bf317b44d95954a87965bfbbfb6"
       ],
       "layout": "IPY_MODEL_411cdc47969148b5ba44d9f55f0eebba"
      }
     },
     "50578841d4db4a4fafefc63f18e2a3b8": {
      "model_module": "@jupyter-widgets/controls",
      "model_module_version": "1.4.0",
      "model_name": "ButtonStyleModel",
      "state": {}
     },
     "5069ef2b51724b2eb400a3ea47c38cee": {
      "model_module": "@jupyter-widgets/base",
      "model_module_version": "1.1.0",
      "model_name": "LayoutModel",
      "state": {
       "width": "250px"
      }
     },
     "506ad3e1f5d54905a078ffbd8437e893": {
      "model_module": "@jupyter-widgets/controls",
      "model_module_version": "1.4.0",
      "model_name": "HBoxModel",
      "state": {
       "children": [
        "IPY_MODEL_17845f17f61e4cfa92ec4dec2ccb3265",
        "IPY_MODEL_6062b4f0b1d341a1b3b93dc3d09845a7"
       ],
       "layout": "IPY_MODEL_93571ec7d53f4a4fbcdbde21b1c67412"
      }
     },
     "50d060c773d0471d902d17a38b9d7438": {
      "model_module": "@jupyter-widgets/base",
      "model_module_version": "1.1.0",
      "model_name": "LayoutModel",
      "state": {
       "width": "250px"
      }
     },
     "50d9b98a30c94f0c81a98d22ab21b03a": {
      "model_module": "@jupyter-widgets/base",
      "model_module_version": "1.1.0",
      "model_name": "LayoutModel",
      "state": {
       "width": "250px"
      }
     },
     "512cc6397f4148c5bf5446eb60186ffe": {
      "model_module": "@jupyter-widgets/controls",
      "model_module_version": "1.4.0",
      "model_name": "ButtonStyleModel",
      "state": {}
     },
     "5140cd5cc77e449f8705e05032ebdb5f": {
      "model_module": "@jupyter-widgets/base",
      "model_module_version": "1.1.0",
      "model_name": "LayoutModel",
      "state": {}
     },
     "514752b6940844b0b05f9e449da81986": {
      "model_module": "@jupyter-widgets/controls",
      "model_module_version": "1.4.0",
      "model_name": "ButtonStyleModel",
      "state": {}
     },
     "523b2b1fa55d4cd896489924cfa387ad": {
      "model_module": "@jupyter-widgets/controls",
      "model_module_version": "1.4.0",
      "model_name": "VBoxModel",
      "state": {
       "children": [
        "IPY_MODEL_886fa6e435614842984c8cf062a1be4b",
        "IPY_MODEL_c529ff6658f34acf9cef4facc30b7524",
        "IPY_MODEL_16f7a8bc656a4686b5c89a58e2454aa8",
        "IPY_MODEL_31ad39d36d1a4c4390ff8dd44d8eb171",
        "IPY_MODEL_8891a6226bc64d79b721b58142812def"
       ],
       "layout": "IPY_MODEL_a3aaa05525964c12a123c1cb1c4c1c71"
      }
     },
     "52594e5464f24566b35ea9d3e999caef": {
      "model_module": "@jupyter-widgets/controls",
      "model_module_version": "1.4.0",
      "model_name": "HTMLModel",
      "state": {
       "layout": "IPY_MODEL_81a93b96e5fe41b396cf2c0f52ffbbc8",
       "style": "IPY_MODEL_61eaefbe429a44279e3d0541b77f29fe",
       "value": "<h4 style=\"font-size:14px;\">Für die Blätter gilt: natürlichsprachliche Wörter sind eine Teilmenge aus dem Alphabet der</h4>"
      }
     },
     "525a459dc6c64c7f8a74548ebad41123": {
      "model_module": "@jupyter-widgets/base",
      "model_module_version": "1.1.0",
      "model_name": "LayoutModel",
      "state": {
       "width": "250px"
      }
     },
     "5292d463384a421f8117556150b3226a": {
      "model_module": "@jupyter-widgets/controls",
      "model_module_version": "1.4.0",
      "model_name": "ButtonModel",
      "state": {
       "description": "Keine der anderen Möglichkeiten",
       "layout": "IPY_MODEL_85430675a74647289085aafe6b128886",
       "style": "IPY_MODEL_12cd6a39843c4cf6acec83279704c0d7"
      }
     },
     "529551332abd4181aea258f08ebe987b": {
      "model_module": "@jupyter-widgets/controls",
      "model_module_version": "1.4.0",
      "model_name": "HTMLModel",
      "state": {
       "layout": "IPY_MODEL_8f9eacc9ed804d638980886cbf34cecb",
       "style": "IPY_MODEL_bdefd2bb995f4994bd3f32c5ba65cd61",
       "value": "<h4 style=\"font-size:14px;\">Was ist der Ursprung der Ambiguität?</h4>"
      }
     },
     "52a35706a8274624b6bd0a3f276d41c9": {
      "model_module": "@jupyter-widgets/controls",
      "model_module_version": "1.4.0",
      "model_name": "DescriptionStyleModel",
      "state": {
       "description_width": ""
      }
     },
     "52afafe55d124fe79a85eca78740a2db": {
      "model_module": "@jupyter-widgets/controls",
      "model_module_version": "1.4.0",
      "model_name": "HBoxModel",
      "state": {
       "children": [
        "IPY_MODEL_d8535036098f45da982e6d2fd80ffd0a",
        "IPY_MODEL_d6c810993d20471d817b435ea3491b08"
       ],
       "layout": "IPY_MODEL_5a3f87f9691e46538f254770163726df"
      }
     },
     "52e5c3a069fa4af1b7f8e16fa068ffcc": {
      "model_module": "@jupyter-widgets/controls",
      "model_module_version": "1.4.0",
      "model_name": "CheckboxModel",
      "state": {
       "description": "Grammatikalität",
       "disabled": false,
       "layout": "IPY_MODEL_e22453fd0c07462c9e7b120e39a78300",
       "style": "IPY_MODEL_4d856e40a0e54f3799cc93f56e737895",
       "value": false
      }
     },
     "5302cb745c934ca6b321c94692868311": {
      "model_module": "@jupyter-widgets/controls",
      "model_module_version": "1.4.0",
      "model_name": "DescriptionStyleModel",
      "state": {
       "description_width": ""
      }
     },
     "5380967fa2f3439192196f28886c042c": {
      "model_module": "@jupyter-widgets/controls",
      "model_module_version": "1.4.0",
      "model_name": "ButtonStyleModel",
      "state": {
       "button_color": "lightgreen"
      }
     },
     "538afbf9620b41158f64442172f4c4fb": {
      "model_module": "@jupyter-widgets/base",
      "model_module_version": "1.1.0",
      "model_name": "LayoutModel",
      "state": {}
     },
     "538afd9fb813423fbb98475c8d4f2b5d": {
      "model_module": "@jupyter-widgets/base",
      "model_module_version": "1.1.0",
      "model_name": "LayoutModel",
      "state": {
       "width": "250px"
      }
     },
     "538ef35056c744e1bf1023a7af82d775": {
      "model_module": "@jupyter-widgets/controls",
      "model_module_version": "1.4.0",
      "model_name": "HTMLModel",
      "state": {
       "layout": "IPY_MODEL_4042098458c7435f9f3c9b68d34c13ab",
       "style": "IPY_MODEL_16fe90985522464bb79b47c51a64da47",
       "value": "<h4 style=\"font-size:14px;\">Was sind die 3 grundlegenden Beschreibungsebenen der Grammatik natürlicher Sprachen?</h4>"
      }
     },
     "53c5c74631784a63b5bdff1184b6ce28": {
      "model_module": "@jupyter-widgets/base",
      "model_module_version": "1.1.0",
      "model_name": "LayoutModel",
      "state": {}
     },
     "53e147df71c546b0b73aa4f735eeec2b": {
      "model_module": "@jupyter-widgets/controls",
      "model_module_version": "1.4.0",
      "model_name": "DescriptionStyleModel",
      "state": {
       "description_width": ""
      }
     },
     "53e86e09fbbc4e26bab07831ff66547f": {
      "model_module": "@jupyter-widgets/base",
      "model_module_version": "1.1.0",
      "model_name": "LayoutModel",
      "state": {
       "width": "600px"
      }
     },
     "543ef6812c5141a089642e8f471a0a52": {
      "model_module": "@jupyter-widgets/controls",
      "model_module_version": "1.4.0",
      "model_name": "ButtonModel",
      "state": {
       "description": "Keine der anderen Möglichkeiten",
       "layout": "IPY_MODEL_71dbf06427614856917da4cc835bd723",
       "style": "IPY_MODEL_66a890e7842742fe81c715ce5bdcf1ef"
      }
     },
     "54b3171080794bf0b6ce405e5e409ac9": {
      "model_module": "@jupyter-widgets/controls",
      "model_module_version": "1.4.0",
      "model_name": "HBoxModel",
      "state": {
       "children": [
        "IPY_MODEL_d3c8a3449b5645ca811b8b130d490c21"
       ],
       "layout": "IPY_MODEL_07ff73df09144206be30607058c5dd4a"
      }
     },
     "54c6d428f8b34a76957b8dc722f23dcd": {
      "model_module": "@jupyter-widgets/controls",
      "model_module_version": "1.4.0",
      "model_name": "HTMLModel",
      "state": {
       "layout": "IPY_MODEL_ba6512ac022946878bee02f459b678b8",
       "style": "IPY_MODEL_8e031aea6124410ea31acb763124dcf9",
       "value": "<i>Wählen Sie die <ins>eine</ins> korrekte Antwort aus: </i>"
      }
     },
     "5522d6c208c64543b5a97dcc94dfd575": {
      "model_module": "@jupyter-widgets/controls",
      "model_module_version": "1.4.0",
      "model_name": "VBoxModel",
      "state": {
       "children": [
        "IPY_MODEL_6daa891867794516b0716877a796173a",
        "IPY_MODEL_af313e2240704dd09a97e80f95c7f9c5",
        "IPY_MODEL_dd65d217732c42bb95990de2572eac74"
       ],
       "layout": "IPY_MODEL_9e026334cd004a679b73f0fafd4975cd"
      }
     },
     "558e436fb3ba476189899e45c2b451f5": {
      "model_module": "@jupyter-widgets/controls",
      "model_module_version": "1.4.0",
      "model_name": "ButtonStyleModel",
      "state": {}
     },
     "55d325cbba264f21a0b6ae8b8684aee8": {
      "model_module": "@jupyter-widgets/base",
      "model_module_version": "1.1.0",
      "model_name": "LayoutModel",
      "state": {
       "width": "250px"
      }
     },
     "55ecd14c0021465c8c58f922b32758a0": {
      "model_module": "@jupyter-widgets/base",
      "model_module_version": "1.1.0",
      "model_name": "LayoutModel",
      "state": {
       "justify_content": "center"
      }
     },
     "55ef7f1f1f854b049ef1f1c526c7e100": {
      "model_module": "@jupyter-widgets/controls",
      "model_module_version": "1.4.0",
      "model_name": "HTMLModel",
      "state": {
       "layout": "IPY_MODEL_1b8a5fe184074a5590066945690147f9",
       "style": "IPY_MODEL_767bf4274d804f398075a6ddedde9009",
       "value": "<i>Wählen Sie die <ins>eine</ins> korrekte Antwort aus: </i>"
      }
     },
     "55fef3f483be4fefb5fa56932911eebb": {
      "model_module": "@jupyter-widgets/controls",
      "model_module_version": "1.4.0",
      "model_name": "DescriptionStyleModel",
      "state": {
       "description_width": ""
      }
     },
     "560264764ae5476e8f1ab65efb69f1b3": {
      "model_module": "@jupyter-widgets/controls",
      "model_module_version": "1.4.0",
      "model_name": "CheckboxModel",
      "state": {
       "description": "Satzebene, Textebene, Bedeutungsebene",
       "disabled": false,
       "layout": "IPY_MODEL_1ab86241217249208cb9669b0f8a8b3e",
       "style": "IPY_MODEL_f412dd4ee66d4bd29932087a2f0e4b8a",
       "value": false
      }
     },
     "563a186e7c67416eb1b1394e8e6ec05b": {
      "model_module": "@jupyter-widgets/base",
      "model_module_version": "1.1.0",
      "model_name": "LayoutModel",
      "state": {
       "width": "250px"
      }
     },
     "5651c45dc95b4c3e89ded8f655fd59ae": {
      "model_module": "@jupyter-widgets/controls",
      "model_module_version": "1.4.0",
      "model_name": "VBoxModel",
      "state": {
       "children": [
        "IPY_MODEL_2e6f61da40f54b6a9dd9ada8c13e4d46",
        "IPY_MODEL_fa3ed8e2f9d240e0871dc76e9cb90b54",
        "IPY_MODEL_d4ce22c23ba74078b6adaf7c3b8a3b69",
        "IPY_MODEL_c5770e4579d04e949e64d913e7024349",
        "IPY_MODEL_bd61d4e8f0ab4768844667c01a644c75"
       ],
       "layout": "IPY_MODEL_618bf45666a0448d98550b7631f5c3b4"
      }
     },
     "566213c9fbc64e9a8856be6f5368d83e": {
      "model_module": "@jupyter-widgets/controls",
      "model_module_version": "1.4.0",
      "model_name": "CheckboxModel",
      "state": {
       "description": "Verbalphrase",
       "disabled": false,
       "layout": "IPY_MODEL_81c73d2155dd41828edeb10e6324274c",
       "style": "IPY_MODEL_ed5b530213ae468280c9384cb7578d82",
       "value": false
      }
     },
     "5679e39fe6e6407bbdbafec8692ad026": {
      "model_module": "@jupyter-widgets/base",
      "model_module_version": "1.1.0",
      "model_name": "LayoutModel",
      "state": {
       "justify_content": "center"
      }
     },
     "567d464105be495fbef87bd2db0c7697": {
      "model_module": "@jupyter-widgets/base",
      "model_module_version": "1.1.0",
      "model_name": "LayoutModel",
      "state": {}
     },
     "568082287e26450eb4e0bdedd9708a83": {
      "model_module": "@jupyter-widgets/controls",
      "model_module_version": "1.4.0",
      "model_name": "ButtonStyleModel",
      "state": {}
     },
     "568bca80e14b45b7b8ef4bad0b953b4c": {
      "model_module": "@jupyter-widgets/controls",
      "model_module_version": "1.4.0",
      "model_name": "ButtonModel",
      "state": {
       "description": "Subjekt",
       "layout": "IPY_MODEL_9516063b947b4a8b9c8610fd26b17c27",
       "style": "IPY_MODEL_2155d2ae6c7641cbb82cf584a2e1c102"
      }
     },
     "56a012adb36c4fefbfffe354ff890002": {
      "model_module": "@jupyter-widgets/controls",
      "model_module_version": "1.4.0",
      "model_name": "HTMLModel",
      "state": {
       "layout": "IPY_MODEL_a58fa583ec8548e5b5e7610db941353c",
       "style": "IPY_MODEL_66ff105d68a34c7f976d6204129655cc",
       "value": "<i>Wählen Sie die <ins>eine</ins> korrekte Antwort aus: </i>"
      }
     },
     "56b1acb5d9204e289660973d1bccb2be": {
      "model_module": "@jupyter-widgets/controls",
      "model_module_version": "1.4.0",
      "model_name": "HTMLModel",
      "state": {
       "layout": "IPY_MODEL_59f8eaad532d41108a91e7c2143c2e19",
       "style": "IPY_MODEL_463320300b48400d8afbc23e247eb022",
       "value": "<i>Wählen Sie die <ins>eine</ins> korrekte Antwort aus: </i>"
      }
     },
     "56b361b096f44438996feabd43d4e02a": {
      "model_module": "@jupyter-widgets/controls",
      "model_module_version": "1.4.0",
      "model_name": "VBoxModel",
      "state": {
       "children": [
        "IPY_MODEL_7f777a474ba445f2ae2e43d32ac83efe",
        "IPY_MODEL_7ed7d425ccc44079959ae49cb7b659d0",
        "IPY_MODEL_0b57ab2f87ef4a739ce1323949055ce3",
        "IPY_MODEL_7cda7f4856d3492384368f07fc2e85d6",
        "IPY_MODEL_b13c4d1851464b928096afbe3d728e8f"
       ],
       "layout": "IPY_MODEL_0896ffc714784c9a98ef9d7adeb8b871"
      }
     },
     "570b829215a04d70bdfbaea6952c20c1": {
      "model_module": "@jupyter-widgets/controls",
      "model_module_version": "1.4.0",
      "model_name": "DropdownModel",
      "state": {
       "_options_labels": [
        "morphologischen",
        "phonologischen",
        "semantischen",
        "syntaktischen",
        " "
       ],
       "index": 3,
       "layout": "IPY_MODEL_f738946ecd784a1aa6af1207e76386ba",
       "style": "IPY_MODEL_055c722fd74449d2913ffc4666814515"
      }
     },
     "570e9bb758f94ce4a1ffeb07e301cac5": {
      "model_module": "@jupyter-widgets/base",
      "model_module_version": "1.1.0",
      "model_name": "LayoutModel",
      "state": {
       "justify_content": "center"
      }
     },
     "575c44e2fe49403bbbfabe282b59e676": {
      "model_module": "@jupyter-widgets/controls",
      "model_module_version": "1.4.0",
      "model_name": "ButtonModel",
      "state": {
       "description": "Theorie der Sprachstruktur",
       "layout": "IPY_MODEL_78e93019999e458f90b17bb4613b0493",
       "style": "IPY_MODEL_6c03005ba6af4da883dd3be9a4092f19"
      }
     },
     "5788fb934d7e4d5ab3c79aceb30cd6f0": {
      "model_module": "@jupyter-widgets/controls",
      "model_module_version": "1.4.0",
      "model_name": "VBoxModel",
      "state": {
       "children": [
        "IPY_MODEL_0bae10f9946e4d9baa1d6503844e2a44",
        "IPY_MODEL_9dfb8efedd4645cfad232cb2f6ce40a8",
        "IPY_MODEL_449d4567d2884bc4b80cab0fdcc96507",
        "IPY_MODEL_a86746fc540f4bbd9bfee438c896ab8d",
        "IPY_MODEL_134b26b413aa48b48287766c95175b54"
       ],
       "layout": "IPY_MODEL_7fc5e1c493bd45f68ce6f1e7b24f0e9f"
      }
     },
     "5791f3acae3f4490a0580e0c007a1315": {
      "model_module": "@jupyter-widgets/controls",
      "model_module_version": "1.4.0",
      "model_name": "VBoxModel",
      "state": {
       "children": [
        "IPY_MODEL_357482a4a4da43e8a589b5daf1fc09af",
        "IPY_MODEL_2a625fef305447f2b3b45aa9144f27de",
        "IPY_MODEL_fb738ffc7d2f4824bbd57d32fbd89c05"
       ],
       "layout": "IPY_MODEL_43b8c171889e4899a3cf4a1c63382e09"
      }
     },
     "57b480340a754deab8833e5817d15d85": {
      "model_module": "@jupyter-widgets/controls",
      "model_module_version": "1.4.0",
      "model_name": "HBoxModel",
      "state": {
       "children": [
        "IPY_MODEL_71dbb936d4f74ae78c99f64c45a2160f",
        "IPY_MODEL_867ad3256069481f8657f6e0d7c0aadd"
       ],
       "layout": "IPY_MODEL_8daf624c8f204fd3afb53f41e15cf709"
      }
     },
     "57bc35d8b8ac4264933c4d405438e936": {
      "model_module": "@jupyter-widgets/base",
      "model_module_version": "1.1.0",
      "model_name": "LayoutModel",
      "state": {}
     },
     "57eb78f39e4a49e5977d20bd5ea34e6c": {
      "model_module": "@jupyter-widgets/controls",
      "model_module_version": "1.4.0",
      "model_name": "HTMLModel",
      "state": {
       "layout": "IPY_MODEL_41bd2a2d2888491ba07a1d130d6f583d",
       "style": "IPY_MODEL_f81ec666b4304292890b4b121f8a5035",
       "value": "<h4 style=\"font-size:14px;\">Welche Funktion nimmt das Gerund ein, wenn das Nomen Kopf der Gerund-Nomen-Phrase ist?</h4>"
      }
     },
     "5809f3e5eaf04f8895b9d7033d500431": {
      "model_module": "@jupyter-widgets/base",
      "model_module_version": "1.1.0",
      "model_name": "LayoutModel",
      "state": {
       "width": "250px"
      }
     },
     "581b6168822c46eba729ba3257889b85": {
      "model_module": "@jupyter-widgets/base",
      "model_module_version": "1.1.0",
      "model_name": "LayoutModel",
      "state": {
       "justify_content": "center"
      }
     },
     "582a3923176445cab4e42ca5d52bb330": {
      "model_module": "@jupyter-widgets/controls",
      "model_module_version": "1.4.0",
      "model_name": "HTMLModel",
      "state": {
       "layout": "IPY_MODEL_260f2d2ab3a74d89b0324a0122ed71d9",
       "style": "IPY_MODEL_52a35706a8274624b6bd0a3f276d41c9",
       "value": "<i>Markieren Sie <ins>alle</ins> passenden Antworten: </i>"
      }
     },
     "585afd38cd2344d191894837dfe6da16": {
      "model_module": "@jupyter-widgets/base",
      "model_module_version": "1.1.0",
      "model_name": "LayoutModel",
      "state": {
       "width": "250px"
      }
     },
     "586830eb1742470f9b7933db786d0f6e": {
      "model_module": "@jupyter-widgets/controls",
      "model_module_version": "1.4.0",
      "model_name": "CheckboxModel",
      "state": {
       "description": "Nomen ist Kopf einer NP-Phrase",
       "disabled": false,
       "layout": "IPY_MODEL_b5921ff4750b4872bbeb39eec3e24ab8",
       "style": "IPY_MODEL_1b3eec4306314ac2a5e55eee54af26e3",
       "value": false
      }
     },
     "58920cf8311447b6892926c29b5d5f62": {
      "model_module": "@jupyter-widgets/base",
      "model_module_version": "1.1.0",
      "model_name": "LayoutModel",
      "state": {
       "justify_content": "center"
      }
     },
     "589ee874ddcf49868a2a71348896be9c": {
      "model_module": "@jupyter-widgets/base",
      "model_module_version": "1.1.0",
      "model_name": "LayoutModel",
      "state": {
       "width": "600px"
      }
     },
     "58c060a8106d4df5a56fc295e1fe2a2c": {
      "model_module": "@jupyter-widgets/controls",
      "model_module_version": "1.4.0",
      "model_name": "VBoxModel",
      "state": {
       "children": [
        "IPY_MODEL_67984e37276e464f949ee0fa3a325801",
        "IPY_MODEL_03d6e28a5b4442388fe930cd023496d5",
        "IPY_MODEL_3017ab203cf74334b8e4e83be6762e8c",
        "IPY_MODEL_f99f51fc0a7040d9ad4d90aaa063080f"
       ],
       "layout": "IPY_MODEL_76c959c4d7f14d9a9f147b1101ece4ea"
      }
     },
     "58edf4228991462c8b89b8be30218f90": {
      "model_module": "@jupyter-widgets/controls",
      "model_module_version": "1.4.0",
      "model_name": "DescriptionStyleModel",
      "state": {
       "description_width": ""
      }
     },
     "59276e9e284149c1bc250234e239ad10": {
      "model_module": "@jupyter-widgets/controls",
      "model_module_version": "1.4.0",
      "model_name": "DescriptionStyleModel",
      "state": {
       "description_width": ""
      }
     },
     "59403cb6c2bb4eac8ad929261d33fb7e": {
      "model_module": "@jupyter-widgets/controls",
      "model_module_version": "1.4.0",
      "model_name": "ButtonModel",
      "state": {
       "description": "Objekt",
       "layout": "IPY_MODEL_65cbea3b45bb4c239da29aecec77c278",
       "style": "IPY_MODEL_fe578e1dcc5e498fa5dfdb63e9b1f38c"
      }
     },
     "5949747b60284e08ba2c5b037f326894": {
      "model_module": "@jupyter-widgets/base",
      "model_module_version": "1.1.0",
      "model_name": "LayoutModel",
      "state": {
       "width": "250px"
      }
     },
     "595ebc896f774d21b2599bf86ee6d543": {
      "model_module": "@jupyter-widgets/controls",
      "model_module_version": "1.4.0",
      "model_name": "DropdownModel",
      "state": {
       "_options_labels": [
        "Keine der Alternativen",
        "der Ort des Geschehens wird festgelegt",
        "die PP wird dem Substantiv beigefügt",
        "die im Verb ausgedrückte Tätigkeit wird modifiziert"
       ],
       "description": "Antwort:",
       "index": 2,
       "layout": "IPY_MODEL_1c224a671d0041758e1862053252c877",
       "style": "IPY_MODEL_1ab8db9092d94454b4cacf81ad83716e"
      }
     },
     "598b557e1cdc4ba1a6f290f8279e38db": {
      "model_module": "@jupyter-widgets/controls",
      "model_module_version": "1.4.0",
      "model_name": "ButtonModel",
      "state": {
       "description": "Korrekt?",
       "layout": "IPY_MODEL_94ddbc9069174acfb711e981cb789729",
       "style": "IPY_MODEL_f1cb2250a99143a7858ecfec0693cd4f"
      }
     },
     "59f8eaad532d41108a91e7c2143c2e19": {
      "model_module": "@jupyter-widgets/base",
      "model_module_version": "1.1.0",
      "model_name": "LayoutModel",
      "state": {
       "justify_content": "center"
      }
     },
     "5a3f87f9691e46538f254770163726df": {
      "model_module": "@jupyter-widgets/base",
      "model_module_version": "1.1.0",
      "model_name": "LayoutModel",
      "state": {}
     },
     "5a542b9825ce4aea91fa8a7efee046ac": {
      "model_module": "@jupyter-widgets/base",
      "model_module_version": "1.1.0",
      "model_name": "LayoutModel",
      "state": {
       "width": "600px"
      }
     },
     "5a93f81af1f645df8283f170c15b4b6c": {
      "model_module": "@jupyter-widgets/controls",
      "model_module_version": "1.4.0",
      "model_name": "DescriptionStyleModel",
      "state": {
       "description_width": ""
      }
     },
     "5ab93d6e512943a3a2fd2435cbd5cae5": {
      "model_module": "@jupyter-widgets/base",
      "model_module_version": "1.1.0",
      "model_name": "LayoutModel",
      "state": {
       "width": "250px"
      }
     },
     "5abeeabc3b8c4a01b5bcab68737b825b": {
      "model_module": "@jupyter-widgets/base",
      "model_module_version": "1.1.0",
      "model_name": "LayoutModel",
      "state": {
       "width": "250px"
      }
     },
     "5b03731c5280439a8317eea39cd6a0c9": {
      "model_module": "@jupyter-widgets/controls",
      "model_module_version": "1.4.0",
      "model_name": "VBoxModel",
      "state": {
       "children": [
        "IPY_MODEL_6dd647e0bcc345a9856bd436c80702ec",
        "IPY_MODEL_f7a37cc23a2344b8a09ce6ddbfb08951",
        "IPY_MODEL_5ed38f94169c47deab075d02a5d5d033",
        "IPY_MODEL_a117ea729a2f4488a9b0f3034b140423"
       ],
       "layout": "IPY_MODEL_0165014b13034190bedca7ccc3a0f9d2"
      }
     },
     "5b06ab83294643b09cd3c4be86a672d9": {
      "model_module": "@jupyter-widgets/controls",
      "model_module_version": "1.4.0",
      "model_name": "DescriptionStyleModel",
      "state": {
       "description_width": "initial"
      }
     },
     "5b08c2f658b843ca9d06f39ba4527054": {
      "model_module": "@jupyter-widgets/controls",
      "model_module_version": "1.4.0",
      "model_name": "HTMLModel",
      "state": {
       "layout": "IPY_MODEL_332bd6649d3c49c4904abbd082bf421c",
       "style": "IPY_MODEL_fb8e33dc587347d2a2dbc84fa8ae68b8",
       "value": "<h4 style=\"font-size:14px;\">Die ________ eines Satzes bzgl. der formalen Grammatik wird erkannt.</h4>"
      }
     },
     "5b0e0723f36d47aaa48c8dcfabe7bd50": {
      "model_module": "@jupyter-widgets/controls",
      "model_module_version": "1.4.0",
      "model_name": "CheckboxModel",
      "state": {
       "description": "morphologische",
       "disabled": false,
       "layout": "IPY_MODEL_17208453dcb140499fd67fd7ec27aea1",
       "style": "IPY_MODEL_f508ecd89d3a470a856696e8b2e5b170",
       "value": false
      }
     },
     "5b781dbd89e64bc1b2ba81e105e6b5a8": {
      "model_module": "@jupyter-widgets/controls",
      "model_module_version": "1.4.0",
      "model_name": "ButtonStyleModel",
      "state": {}
     },
     "5c0f7cbbeea94a5fbf72913ba8c1be2e": {
      "model_module": "@jupyter-widgets/base",
      "model_module_version": "1.1.0",
      "model_name": "LayoutModel",
      "state": {
       "width": "250px"
      }
     },
     "5c38959f287c42bb8aa382204cd62158": {
      "model_module": "@jupyter-widgets/controls",
      "model_module_version": "1.4.0",
      "model_name": "DescriptionStyleModel",
      "state": {
       "description_width": "initial"
      }
     },
     "5c5276e9faf54542acd000d4a11b5e4f": {
      "model_module": "@jupyter-widgets/base",
      "model_module_version": "1.1.0",
      "model_name": "LayoutModel",
      "state": {
       "width": "500px"
      }
     },
     "5c712a785f7f430a95e4af66558cb70d": {
      "model_module": "@jupyter-widgets/base",
      "model_module_version": "1.1.0",
      "model_name": "LayoutModel",
      "state": {}
     },
     "5c81eb985e6540f99be975db134e0e06": {
      "model_module": "@jupyter-widgets/base",
      "model_module_version": "1.1.0",
      "model_name": "LayoutModel",
      "state": {
       "width": "250px"
      }
     },
     "5cc09ff4a6764777b0193190afc408a1": {
      "model_module": "@jupyter-widgets/controls",
      "model_module_version": "1.4.0",
      "model_name": "DescriptionStyleModel",
      "state": {
       "description_width": ""
      }
     },
     "5d07a1bc2ebf4bdca75295fd37507c83": {
      "model_module": "@jupyter-widgets/controls",
      "model_module_version": "1.4.0",
      "model_name": "ButtonStyleModel",
      "state": {}
     },
     "5d16f73ddc0a4493914bf952ead8ed21": {
      "model_module": "@jupyter-widgets/controls",
      "model_module_version": "1.4.0",
      "model_name": "VBoxModel",
      "state": {
       "children": [
        "IPY_MODEL_4767b3cea9ec4ee391ab146b980923d8",
        "IPY_MODEL_0a4468fa9d5f4427b457481af2c61d57",
        "IPY_MODEL_8b1151e3d304433587fa36ec00c8de96",
        "IPY_MODEL_c17344080edb4bfd9191d32b2a503031"
       ],
       "layout": "IPY_MODEL_3a0d48d8f93d4ebf8fcaf4ca7bacdb11"
      }
     },
     "5d1c3cd42fe040aea7e6fffef6c815c1": {
      "model_module": "@jupyter-widgets/base",
      "model_module_version": "1.1.0",
      "model_name": "LayoutModel",
      "state": {
       "width": "250px"
      }
     },
     "5d4495f0a16943789f8a448f8876b886": {
      "model_module": "@jupyter-widgets/controls",
      "model_module_version": "1.4.0",
      "model_name": "DescriptionStyleModel",
      "state": {
       "description_width": "initial"
      }
     },
     "5d5fea5e5bd34acb9531979b65d77848": {
      "model_module": "@jupyter-widgets/controls",
      "model_module_version": "1.4.0",
      "model_name": "HTMLModel",
      "state": {
       "layout": "IPY_MODEL_ae3317e79695493a9f7ad9dcb760a3d4",
       "style": "IPY_MODEL_1e6b1fdc9e5b41899d6ab1f1056d9b91",
       "value": "<i>Wählen Sie die <ins>eine</ins> korrekte Antwort aus: </i>"
      }
     },
     "5da5817e54fc4f9fb6095e6b7d686e60": {
      "model_module": "@jupyter-widgets/base",
      "model_module_version": "1.1.0",
      "model_name": "LayoutModel",
      "state": {
       "width": "250px"
      }
     },
     "5dbec96da0ea47f6baeff23f1fc3ce31": {
      "model_module": "@jupyter-widgets/controls",
      "model_module_version": "1.4.0",
      "model_name": "ButtonModel",
      "state": {
       "description": "Keine der anderen Möglichkeiten",
       "layout": "IPY_MODEL_a60f6de868e34746b0f5630d674285b8",
       "style": "IPY_MODEL_cafdffe1c4ea481094caed2985efc78f"
      }
     },
     "5e0df1d80bba4c2f9f0eb72ae046d63c": {
      "model_module": "@jupyter-widgets/base",
      "model_module_version": "1.1.0",
      "model_name": "LayoutModel",
      "state": {
       "width": "250px"
      }
     },
     "5e2890841c724d12a4543e98561fd54b": {
      "model_module": "@jupyter-widgets/base",
      "model_module_version": "1.1.0",
      "model_name": "LayoutModel",
      "state": {}
     },
     "5e3489b17eac4d47ba1c2a86071cd5f3": {
      "model_module": "@jupyter-widgets/base",
      "model_module_version": "1.1.0",
      "model_name": "LayoutModel",
      "state": {}
     },
     "5e91488577a94d55b1da8f1dc04a55ca": {
      "model_module": "@jupyter-widgets/base",
      "model_module_version": "1.1.0",
      "model_name": "LayoutModel",
      "state": {}
     },
     "5eabb91d1aa44583b1ec470ec03c4951": {
      "model_module": "@jupyter-widgets/controls",
      "model_module_version": "1.4.0",
      "model_name": "HTMLModel",
      "state": {
       "layout": "IPY_MODEL_bb2963d41b284f71ae1a99d6bc63bddc",
       "style": "IPY_MODEL_bac5436e80774393892f8cfb9eccd199",
       "value": "<h4 style=\"font-size:14px;\">Zu welcher Phrase kann die Präpositionalphrase \"in my pajamas\" gehören?</h4>"
      }
     },
     "5eb3170d4f8f4c89a7d4fe4dc63bc5bd": {
      "model_module": "@jupyter-widgets/controls",
      "model_module_version": "1.4.0",
      "model_name": "CheckboxModel",
      "state": {
       "description": "Morphemebene, Phrasenebene, Satzebene",
       "disabled": false,
       "layout": "IPY_MODEL_fd5be32d3b2f4bc3a9ad44c339a2c30b",
       "style": "IPY_MODEL_5b06ab83294643b09cd3c4be86a672d9",
       "value": false
      }
     },
     "5ebb3a77895b4e9eb37cc5a97b12ab23": {
      "model_module": "@jupyter-widgets/controls",
      "model_module_version": "1.4.0",
      "model_name": "ButtonStyleModel",
      "state": {}
     },
     "5ed38f94169c47deab075d02a5d5d033": {
      "model_module": "@jupyter-widgets/controls",
      "model_module_version": "1.4.0",
      "model_name": "HBoxModel",
      "state": {
       "children": [
        "IPY_MODEL_757c2073dbd648f7b5432b6d538a766a",
        "IPY_MODEL_f7b4dfbdfade4afd9a6e971bc22e38a7"
       ],
       "layout": "IPY_MODEL_11589d5f8dc547e481f3f7b362071182"
      }
     },
     "5edaf1e2335747e1975f2d1e7ab1375e": {
      "model_module": "@jupyter-widgets/controls",
      "model_module_version": "1.4.0",
      "model_name": "DropdownModel",
      "state": {
       "_options_labels": [
        "Morphem",
        "Symbol",
        "Wort",
        " "
       ],
       "index": 3,
       "layout": "IPY_MODEL_07e151eccd114c3a9ce4a41f044c3eb2",
       "style": "IPY_MODEL_88907d762fe94ee3a7dbfd27c992d4dc"
      }
     },
     "5f0f341d229349b3ace40bd73257794c": {
      "model_module": "@jupyter-widgets/base",
      "model_module_version": "1.1.0",
      "model_name": "LayoutModel",
      "state": {}
     },
     "5f12f0f94bd34849a22d01df915ba415": {
      "model_module": "@jupyter-widgets/controls",
      "model_module_version": "1.4.0",
      "model_name": "DropdownModel",
      "state": {
       "_options_labels": [
        "Grundsymbole",
        "Nicht-Terminale",
        " "
       ],
       "index": 2,
       "layout": "IPY_MODEL_1ed83782254f4585b89b666fab5864c3",
       "style": "IPY_MODEL_8bba91e18276469a8fb0b566ce796144"
      }
     },
     "5f268be640d1484bacc4a9c3a4154696": {
      "model_module": "@jupyter-widgets/base",
      "model_module_version": "1.1.0",
      "model_name": "LayoutModel",
      "state": {
       "justify_content": "center"
      }
     },
     "5f58d0395c8a41f59b0bf9db44e9efca": {
      "model_module": "@jupyter-widgets/base",
      "model_module_version": "1.1.0",
      "model_name": "LayoutModel",
      "state": {
       "width": "600px"
      }
     },
     "5f6c525c32c54740930e37571b135718": {
      "model_module": "@jupyter-widgets/controls",
      "model_module_version": "1.4.0",
      "model_name": "ButtonStyleModel",
      "state": {}
     },
     "5fddb73788594c13b0f599d072441e05": {
      "model_module": "@jupyter-widgets/base",
      "model_module_version": "1.1.0",
      "model_name": "LayoutModel",
      "state": {}
     },
     "5ff0b744629a46a48c39c4de212346f4": {
      "model_module": "@jupyter-widgets/base",
      "model_module_version": "1.1.0",
      "model_name": "LayoutModel",
      "state": {
       "justify_content": "center"
      }
     },
     "60000860e45b42e3a89b26ae7258d52f": {
      "model_module": "@jupyter-widgets/base",
      "model_module_version": "1.1.0",
      "model_name": "LayoutModel",
      "state": {}
     },
     "605a4108a17a42789310cbdaac38ed63": {
      "model_module": "@jupyter-widgets/base",
      "model_module_version": "1.1.0",
      "model_name": "LayoutModel",
      "state": {}
     },
     "605c79974eee4eaba4f9470ca28b18bd": {
      "model_module": "@jupyter-widgets/controls",
      "model_module_version": "1.4.0",
      "model_name": "HTMLModel",
      "state": {
       "layout": "IPY_MODEL_4f08435d41594073a0c80fac9ccc0858",
       "style": "IPY_MODEL_b8f37f745bcf463e904e9c2587dce6be",
       "value": "<h4 style=\"font-size:14px;\">In welcher Form wird die syntaktische Struktur eines Satzes beim Aufruf von NLTK print(tree) erstellt?</h4>"
      }
     },
     "6062b4f0b1d341a1b3b93dc3d09845a7": {
      "model_module": "@jupyter-widgets/controls",
      "model_module_version": "1.4.0",
      "model_name": "ButtonModel",
      "state": {
       "description": "Subjekt",
       "layout": "IPY_MODEL_5c0f7cbbeea94a5fbf72913ba8c1be2e",
       "style": "IPY_MODEL_385a98c8d5a64b329344a0efcbe74c52"
      }
     },
     "60676e5d0bf441988b53c6a5a4dcaeae": {
      "model_module": "@jupyter-widgets/controls",
      "model_module_version": "1.4.0",
      "model_name": "HBoxModel",
      "state": {
       "children": [
        "IPY_MODEL_b8122b466c1e4d1285cce49a085511ef"
       ],
       "layout": "IPY_MODEL_9f95fe63235f46519d9adb0dabfcfe32"
      }
     },
     "606ca3e809da4e5ab982871bc9e69002": {
      "model_module": "@jupyter-widgets/base",
      "model_module_version": "1.1.0",
      "model_name": "LayoutModel",
      "state": {
       "width": "250px"
      }
     },
     "608071f3f2f947adbf9786ea4a37877e": {
      "model_module": "@jupyter-widgets/base",
      "model_module_version": "1.1.0",
      "model_name": "LayoutModel",
      "state": {}
     },
     "609545cb1b064f548044abc9a2a66efa": {
      "model_module": "@jupyter-widgets/controls",
      "model_module_version": "1.4.0",
      "model_name": "ButtonModel",
      "state": {
       "description": "Wortstruktur",
       "layout": "IPY_MODEL_26ce519f90fc45bead257eb4107c02f5",
       "style": "IPY_MODEL_a28b069040e34022a6933471b540e7e6"
      }
     },
     "609a888111ab481ebd6bdacb75c8ae99": {
      "model_module": "@jupyter-widgets/base",
      "model_module_version": "1.1.0",
      "model_name": "LayoutModel",
      "state": {
       "justify_content": "center"
      }
     },
     "60c57fdf5a7f44ee8b86cb3308d78ca8": {
      "model_module": "@jupyter-widgets/controls",
      "model_module_version": "1.4.0",
      "model_name": "ButtonModel",
      "state": {
       "description": "Keine der anderen Möglichkeiten",
       "layout": "IPY_MODEL_b657b81cb9dd4969b7a8771a56f3b648",
       "style": "IPY_MODEL_568082287e26450eb4e0bdedd9708a83"
      }
     },
     "60e3bc373edc40a882bd0eb089dfd7df": {
      "model_module": "@jupyter-widgets/base",
      "model_module_version": "1.1.0",
      "model_name": "LayoutModel",
      "state": {
       "justify_content": "center"
      }
     },
     "611727a625644f34bed993ac0f4227ce": {
      "model_module": "@jupyter-widgets/controls",
      "model_module_version": "1.4.0",
      "model_name": "ButtonModel",
      "state": {
       "description": "Objekt",
       "layout": "IPY_MODEL_f21161e99f394b10b960a101045a436a",
       "style": "IPY_MODEL_d301b13fd15047b7aa515e49901fa420"
      }
     },
     "612c60babcc04310978e979d12cd9afb": {
      "model_module": "@jupyter-widgets/base",
      "model_module_version": "1.1.0",
      "model_name": "LayoutModel",
      "state": {}
     },
     "612ebf8e200c4c4cb14f51881788ea65": {
      "model_module": "@jupyter-widgets/base",
      "model_module_version": "1.1.0",
      "model_name": "LayoutModel",
      "state": {
       "justify_content": "center"
      }
     },
     "6169cafd7b184dcb9bb4ecc135f6ebbd": {
      "model_module": "@jupyter-widgets/controls",
      "model_module_version": "1.4.0",
      "model_name": "CheckboxModel",
      "state": {
       "description": "pragmatische",
       "disabled": false,
       "layout": "IPY_MODEL_828d3160e0fc4264a6cdceddf177e487",
       "style": "IPY_MODEL_aa4a914678da442d9842ca2197852034",
       "value": false
      }
     },
     "6178447a6e2447b2891ef83763859a01": {
      "model_module": "@jupyter-widgets/base",
      "model_module_version": "1.1.0",
      "model_name": "LayoutModel",
      "state": {}
     },
     "618b496767e24c10ace5da0005f34c78": {
      "model_module": "@jupyter-widgets/base",
      "model_module_version": "1.1.0",
      "model_name": "LayoutModel",
      "state": {
       "justify_content": "center"
      }
     },
     "618bf45666a0448d98550b7631f5c3b4": {
      "model_module": "@jupyter-widgets/base",
      "model_module_version": "1.1.0",
      "model_name": "LayoutModel",
      "state": {}
     },
     "61b1ba1f34a645f88d8149fb7dca0cd0": {
      "model_module": "@jupyter-widgets/base",
      "model_module_version": "1.1.0",
      "model_name": "LayoutModel",
      "state": {}
     },
     "61eaefbe429a44279e3d0541b77f29fe": {
      "model_module": "@jupyter-widgets/controls",
      "model_module_version": "1.4.0",
      "model_name": "DescriptionStyleModel",
      "state": {
       "description_width": ""
      }
     },
     "61f6a73318f04a488531bf9b1eba9308": {
      "model_module": "@jupyter-widgets/controls",
      "model_module_version": "1.4.0",
      "model_name": "ButtonModel",
      "state": {
       "description": "genau ein",
       "layout": "IPY_MODEL_ab5f7294d3154cc7aced771d7d423489",
       "style": "IPY_MODEL_a7e45d8f29834c2c91640d170c6bfe66"
      }
     },
     "62035982a2e347cab3aa91eddb4763cf": {
      "model_module": "@jupyter-widgets/controls",
      "model_module_version": "1.4.0",
      "model_name": "HTMLModel",
      "state": {
       "layout": "IPY_MODEL_09d4300b91a048d4b49aaa25cc4ac8a5",
       "style": "IPY_MODEL_6463df3fc5664dc49ed090060d1d6565",
       "value": "<h4 style=\"font-size:14px;\">In welcher Form wird die syntaktische Struktur eines Satzes beim Aufruf von NLTK print(tree) erstellt?</h4>"
      }
     },
     "62124dc6bb7f4ab6a83e62a4f28e70ae": {
      "model_module": "@jupyter-widgets/controls",
      "model_module_version": "1.4.0",
      "model_name": "DescriptionStyleModel",
      "state": {
       "description_width": ""
      }
     },
     "622efcbabb1549d3939a1ab6c0c1bac7": {
      "model_module": "@jupyter-widgets/controls",
      "model_module_version": "1.4.0",
      "model_name": "DescriptionStyleModel",
      "state": {
       "description_width": "initial"
      }
     },
     "624e353748da4ba6961f8996b830d6cb": {
      "model_module": "@jupyter-widgets/controls",
      "model_module_version": "1.4.0",
      "model_name": "ButtonModel",
      "state": {
       "description": "Subjekt",
       "layout": "IPY_MODEL_0c6e6186300149acaedc887320148500",
       "style": "IPY_MODEL_e04a7b4f62e143c29bda5a9eb33d87dc"
      }
     },
     "6265ecb5b96d40f6b52d090eeec895be": {
      "model_module": "@jupyter-widgets/controls",
      "model_module_version": "1.4.0",
      "model_name": "ButtonModel",
      "state": {
       "description": "Keine der anderen Möglichkeiten",
       "layout": "IPY_MODEL_585afd38cd2344d191894837dfe6da16",
       "style": "IPY_MODEL_d17e02cb4a4e4dc2800453c544a406b7"
      }
     },
     "626b203559a14084937fdf7d5bf9053e": {
      "model_module": "@jupyter-widgets/base",
      "model_module_version": "1.1.0",
      "model_name": "LayoutModel",
      "state": {}
     },
     "6274df9ab3bc420faa96e53b26142f78": {
      "model_module": "@jupyter-widgets/base",
      "model_module_version": "1.1.0",
      "model_name": "LayoutModel",
      "state": {
       "justify_content": "center"
      }
     },
     "62d4ef15daf3418ba28465f69cfe6333": {
      "model_module": "@jupyter-widgets/controls",
      "model_module_version": "1.4.0",
      "model_name": "DescriptionStyleModel",
      "state": {
       "description_width": ""
      }
     },
     "62de141e78f44e0fbe9666c6cf16c6e7": {
      "model_module": "@jupyter-widgets/controls",
      "model_module_version": "1.4.0",
      "model_name": "HTMLModel",
      "state": {
       "layout": "IPY_MODEL_f4aa70ec806841e3a3442ae2d874507d",
       "style": "IPY_MODEL_241f34c282724523818c2f9ac9f93c8e",
       "value": "<h4 style=\"font-size:14px;\">Hinsichtlich welcher syntaktischen Grundprinzipien werden natürliche Sprachen mit formalen Methoden analysiert?</h4>"
      }
     },
     "62eb8159b5734835996fca162ec3faed": {
      "model_module": "@jupyter-widgets/controls",
      "model_module_version": "1.4.0",
      "model_name": "HBoxModel",
      "state": {
       "children": [
        "IPY_MODEL_96053075299d4dfb9491b24c6e76a9ea",
        "IPY_MODEL_b95218d8604247e68849a3c629374a37"
       ],
       "layout": "IPY_MODEL_f5afb274816c47578c0c791e1494d339"
      }
     },
     "632db5c789104e93b750feedcbe98263": {
      "model_module": "@jupyter-widgets/controls",
      "model_module_version": "1.4.0",
      "model_name": "ButtonModel",
      "state": {
       "description": "Korrekt?",
       "layout": "IPY_MODEL_1694602bf46e4a43bd21355ee99753be",
       "style": "IPY_MODEL_32aef59d736d47dfac2a3c8135b1476f"
      }
     },
     "63ae5cd4dfbf4002b447a0a7c3d7bccd": {
      "model_module": "@jupyter-widgets/base",
      "model_module_version": "1.1.0",
      "model_name": "LayoutModel",
      "state": {
       "width": "250px"
      }
     },
     "63d7d187c3534547ae1e6a1dc0107598": {
      "model_module": "@jupyter-widgets/controls",
      "model_module_version": "1.4.0",
      "model_name": "DescriptionStyleModel",
      "state": {
       "description_width": "initial"
      }
     },
     "63e4a44a310a46898d1a8b44d0ba2a3d": {
      "model_module": "@jupyter-widgets/controls",
      "model_module_version": "1.4.0",
      "model_name": "CheckboxModel",
      "state": {
       "description": "Wohlgeformtheit",
       "disabled": false,
       "layout": "IPY_MODEL_ce827bfb4bed4d2d914b7c251231e6c2",
       "style": "IPY_MODEL_668d763092d84b7c85c787636708db16",
       "value": false
      }
     },
     "63fec0f303f944fd9fd2f6c03dbc8ebe": {
      "model_module": "@jupyter-widgets/controls",
      "model_module_version": "1.4.0",
      "model_name": "DescriptionStyleModel",
      "state": {
       "description_width": ""
      }
     },
     "6463df3fc5664dc49ed090060d1d6565": {
      "model_module": "@jupyter-widgets/controls",
      "model_module_version": "1.4.0",
      "model_name": "DescriptionStyleModel",
      "state": {
       "description_width": ""
      }
     },
     "64cca6a34f3a4073a46082b68f4bb362": {
      "model_module": "@jupyter-widgets/controls",
      "model_module_version": "1.4.0",
      "model_name": "DescriptionStyleModel",
      "state": {
       "description_width": "initial"
      }
     },
     "64dfc736ea314420bf8b88583a5829d1": {
      "model_module": "@jupyter-widgets/controls",
      "model_module_version": "1.4.0",
      "model_name": "ButtonStyleModel",
      "state": {}
     },
     "64e54ae080ee43cdb2d1785ea78b4f55": {
      "model_module": "@jupyter-widgets/base",
      "model_module_version": "1.1.0",
      "model_name": "LayoutModel",
      "state": {}
     },
     "64fa5ab1ef174c0a88c10f3f3b1e5d43": {
      "model_module": "@jupyter-widgets/controls",
      "model_module_version": "1.4.0",
      "model_name": "VBoxModel",
      "state": {
       "children": [
        "IPY_MODEL_d1fff2b6d933409c9d8bf4169543a7f2",
        "IPY_MODEL_e0eb82ed69044933a949f5355de8fde0",
        "IPY_MODEL_6a5ef60a3de84ce2b90f0bf4a827e5cf",
        "IPY_MODEL_0b539c932764486ca03995f380b5749d"
       ],
       "layout": "IPY_MODEL_1160d508ecc7462797bd7c0a1579b17d"
      }
     },
     "655a1f679a7c4c9eb1b34537e77b75e1": {
      "model_module": "@jupyter-widgets/base",
      "model_module_version": "1.1.0",
      "model_name": "LayoutModel",
      "state": {
       "width": "600px"
      }
     },
     "657d323c40f94287a0378ae9c4d56079": {
      "model_module": "@jupyter-widgets/base",
      "model_module_version": "1.1.0",
      "model_name": "LayoutModel",
      "state": {
       "justify_content": "center"
      }
     },
     "657d81ee5de54a99803bad6e8c642d85": {
      "model_module": "@jupyter-widgets/controls",
      "model_module_version": "1.4.0",
      "model_name": "HTMLModel",
      "state": {
       "layout": "IPY_MODEL_66988884e8184685a0bee32de539bdbf",
       "style": "IPY_MODEL_a438c5527bfb40e0ac4aa4a7e4f74f11",
       "value": "<h4 style=\"font-size:14px;\">Warum gibt die parse-Funktion des Skripts vermutlich eine Sequenz zurück?</h4>"
      }
     },
     "65aae378b71c4c61a38be6d5af6dab8f": {
      "model_module": "@jupyter-widgets/controls",
      "model_module_version": "1.4.0",
      "model_name": "HTMLModel",
      "state": {
       "layout": "IPY_MODEL_aaa8c064821a49928ddfceb178a2688e",
       "style": "IPY_MODEL_d7c8c03c74154a46a480d96e6c91eb04",
       "value": "<h4 style=\"font-size:14px;\">Welche Gesetzmäßigkeiten umfasst die Grammatik als Regelsystem?</h4>"
      }
     },
     "65ab15416d364e848a8656c1a63bd259": {
      "model_module": "@jupyter-widgets/base",
      "model_module_version": "1.1.0",
      "model_name": "LayoutModel",
      "state": {}
     },
     "65abefd47cb14316bb65d5cb2ad94455": {
      "model_module": "@jupyter-widgets/controls",
      "model_module_version": "1.4.0",
      "model_name": "VBoxModel",
      "state": {
       "children": [
        "IPY_MODEL_36cac6c1f7ce4078a475800674f52942",
        "IPY_MODEL_dce14714d57e4581bc89b4c68bf84cfb",
        "IPY_MODEL_8d84238e46a74a01813a95e4483f025a"
       ],
       "layout": "IPY_MODEL_9a957eccf112413eb7439b22260e44a9"
      }
     },
     "65cbea3b45bb4c239da29aecec77c278": {
      "model_module": "@jupyter-widgets/base",
      "model_module_version": "1.1.0",
      "model_name": "LayoutModel",
      "state": {
       "width": "250px"
      }
     },
     "65e96d9c4f124223a9c04c19d4afc470": {
      "model_module": "@jupyter-widgets/controls",
      "model_module_version": "1.4.0",
      "model_name": "ButtonModel",
      "state": {
       "description": "formale Grammatik",
       "layout": "IPY_MODEL_09b943243bf4489f8821c9e752fc29f6",
       "style": "IPY_MODEL_4dec79ad64e74447b19911fa0efb93b9"
      }
     },
     "660998c12ab841c2806a19cb5f1e7bd1": {
      "model_module": "@jupyter-widgets/controls",
      "model_module_version": "1.4.0",
      "model_name": "ButtonStyleModel",
      "state": {}
     },
     "668d763092d84b7c85c787636708db16": {
      "model_module": "@jupyter-widgets/controls",
      "model_module_version": "1.4.0",
      "model_name": "DescriptionStyleModel",
      "state": {
       "description_width": "initial"
      }
     },
     "66988884e8184685a0bee32de539bdbf": {
      "model_module": "@jupyter-widgets/base",
      "model_module_version": "1.1.0",
      "model_name": "LayoutModel",
      "state": {
       "justify_content": "center"
      }
     },
     "66a598de18f8485c9f7e49bd33b56e90": {
      "model_module": "@jupyter-widgets/controls",
      "model_module_version": "1.4.0",
      "model_name": "CheckboxModel",
      "state": {
       "description": "Eine automatische Strukturanalyse wird möglich.",
       "disabled": false,
       "layout": "IPY_MODEL_d9e2a79105eb4d0f9ab412d9eac4e7c1",
       "style": "IPY_MODEL_030121241a5d4027a0ee0ae93a1a1456",
       "value": false
      }
     },
     "66a890e7842742fe81c715ce5bdcf1ef": {
      "model_module": "@jupyter-widgets/controls",
      "model_module_version": "1.4.0",
      "model_name": "ButtonStyleModel",
      "state": {}
     },
     "66bf7eaa9a504586b2b05553dae5763a": {
      "model_module": "@jupyter-widgets/controls",
      "model_module_version": "1.4.0",
      "model_name": "DescriptionStyleModel",
      "state": {
       "description_width": ""
      }
     },
     "66eb28c557d24a23b6a3801a48e2d048": {
      "model_module": "@jupyter-widgets/controls",
      "model_module_version": "1.4.0",
      "model_name": "CheckboxModel",
      "state": {
       "description": "Dependenzgraph mit gelabelten Kanten",
       "disabled": false,
       "layout": "IPY_MODEL_24a809a5848e45079dbf6f58d1a39a7a",
       "style": "IPY_MODEL_64cca6a34f3a4073a46082b68f4bb362",
       "value": true
      }
     },
     "66ff105d68a34c7f976d6204129655cc": {
      "model_module": "@jupyter-widgets/controls",
      "model_module_version": "1.4.0",
      "model_name": "DescriptionStyleModel",
      "state": {
       "description_width": ""
      }
     },
     "6716e7e217e345b9a08277434ef2af0f": {
      "model_module": "@jupyter-widgets/controls",
      "model_module_version": "1.4.0",
      "model_name": "ButtonStyleModel",
      "state": {}
     },
     "671db31331584754a1a8a9fbb4aefc6f": {
      "model_module": "@jupyter-widgets/base",
      "model_module_version": "1.1.0",
      "model_name": "LayoutModel",
      "state": {}
     },
     "67984e37276e464f949ee0fa3a325801": {
      "model_module": "@jupyter-widgets/controls",
      "model_module_version": "1.4.0",
      "model_name": "CheckboxModel",
      "state": {
       "description": "Dependenzgraph mit Phrasenlabels als Knoten",
       "disabled": false,
       "layout": "IPY_MODEL_1ef52a289df74ead937dbf760000dd68",
       "style": "IPY_MODEL_a71b174688b4468b8cc5793869927ff1",
       "value": false
      }
     },
     "67ac11f779504b6696c37b607728871e": {
      "model_module": "@jupyter-widgets/controls",
      "model_module_version": "1.4.0",
      "model_name": "CheckboxModel",
      "state": {
       "description": "Sinnhaftigkeit",
       "disabled": false,
       "layout": "IPY_MODEL_49b7ff45918d4e30bd9777286db6ceb0",
       "style": "IPY_MODEL_198f125b7b7746b0bc806aa7118d0a35",
       "value": false
      }
     },
     "67b4c3e31e8d4385a4c70fbb1cae7152": {
      "model_module": "@jupyter-widgets/controls",
      "model_module_version": "1.4.0",
      "model_name": "ButtonStyleModel",
      "state": {
       "button_color": "lightgreen"
      }
     },
     "680c961b08de48f483c589d3216cfd50": {
      "model_module": "@jupyter-widgets/controls",
      "model_module_version": "1.4.0",
      "model_name": "DescriptionStyleModel",
      "state": {
       "description_width": "initial"
      }
     },
     "68348286d70b4be588b960cd74ee8558": {
      "model_module": "@jupyter-widgets/base",
      "model_module_version": "1.1.0",
      "model_name": "LayoutModel",
      "state": {}
     },
     "68890ba257fd445f9bf452d6cc17513f": {
      "model_module": "@jupyter-widgets/base",
      "model_module_version": "1.1.0",
      "model_name": "LayoutModel",
      "state": {
       "justify_content": "center"
      }
     },
     "68cf789075164c39b87fa2a1736b08e0": {
      "model_module": "@jupyter-widgets/base",
      "model_module_version": "1.1.0",
      "model_name": "LayoutModel",
      "state": {}
     },
     "690dbb5faa4141eba84f9394e6649e7d": {
      "model_module": "@jupyter-widgets/base",
      "model_module_version": "1.1.0",
      "model_name": "LayoutModel",
      "state": {}
     },
     "6922243972644bdfb8564bb2ae1b3368": {
      "model_module": "@jupyter-widgets/base",
      "model_module_version": "1.1.0",
      "model_name": "LayoutModel",
      "state": {
       "width": "600px"
      }
     },
     "69471be1cc3d4699a2b30beef4c8ce9d": {
      "model_module": "@jupyter-widgets/base",
      "model_module_version": "1.1.0",
      "model_name": "LayoutModel",
      "state": {
       "width": "250px"
      }
     },
     "69683bda11cf4a6d905631d8e7f12c25": {
      "model_module": "@jupyter-widgets/base",
      "model_module_version": "1.1.0",
      "model_name": "LayoutModel",
      "state": {}
     },
     "697688089cd24826bdf28047e4f45388": {
      "model_module": "@jupyter-widgets/controls",
      "model_module_version": "1.4.0",
      "model_name": "ButtonModel",
      "state": {
       "description": "Konstituenz",
       "layout": "IPY_MODEL_fff5a7e4e9104b17bac9403f96ea852b",
       "style": "IPY_MODEL_b2df974be4bc4f58847d0a754e6f9f1f"
      }
     },
     "6a532f4aff744d8b98a7c2da33aac8b0": {
      "model_module": "@jupyter-widgets/controls",
      "model_module_version": "1.4.0",
      "model_name": "CheckboxModel",
      "state": {
       "description": "morphologische",
       "disabled": false,
       "layout": "IPY_MODEL_53e86e09fbbc4e26bab07831ff66547f",
       "style": "IPY_MODEL_c16c2115dd1246c88220d5ac62a4aa46",
       "value": true
      }
     },
     "6a5ef60a3de84ce2b90f0bf4a827e5cf": {
      "model_module": "@jupyter-widgets/controls",
      "model_module_version": "1.4.0",
      "model_name": "VBoxModel",
      "state": {
       "children": [
        "IPY_MODEL_66a598de18f8485c9f7e49bd33b56e90",
        "IPY_MODEL_bf5aa4c88f6f4dfa8a4244c2bd020c48",
        "IPY_MODEL_79cbb029c2024c3fb96f1154000055ed"
       ],
       "layout": "IPY_MODEL_f5510c3b98214f12a124f8ec4d0e1275"
      }
     },
     "6a6f743fcbfb4723b06965cecf2a368a": {
      "model_module": "@jupyter-widgets/controls",
      "model_module_version": "1.4.0",
      "model_name": "HBoxModel",
      "state": {
       "children": [
        "IPY_MODEL_e4bd4b3746cc40c9a5ef931450044ec8"
       ],
       "layout": "IPY_MODEL_dd41f157f7884021a7d3c33f1b1b651d"
      }
     },
     "6a70b132c1fd4beea958516130f3e8a3": {
      "model_module": "@jupyter-widgets/controls",
      "model_module_version": "1.4.0",
      "model_name": "ButtonModel",
      "state": {
       "description": "Regelsystem",
       "layout": "IPY_MODEL_8cd76db643a84261bd33fcc5297e52c6",
       "style": "IPY_MODEL_3fe0c768992448528c432060f7b21e6d"
      }
     },
     "6a82cfb7bbd4437ea8a422b17033fc7a": {
      "model_module": "@jupyter-widgets/base",
      "model_module_version": "1.1.0",
      "model_name": "LayoutModel",
      "state": {
       "width": "600px"
      }
     },
     "6acc388e4bad4a74bc89c0ddad93641b": {
      "model_module": "@jupyter-widgets/controls",
      "model_module_version": "1.4.0",
      "model_name": "DescriptionStyleModel",
      "state": {
       "description_width": "initial"
      }
     },
     "6b8f0cccd44b4963a92ad715439021ed": {
      "model_module": "@jupyter-widgets/controls",
      "model_module_version": "1.4.0",
      "model_name": "VBoxModel",
      "state": {
       "children": [
        "IPY_MODEL_f9e703bc335a483bb52615b36bec6bd5",
        "IPY_MODEL_0cc8d70c7a224fb08817d6828cc1dfca",
        "IPY_MODEL_ae4e23f0f7c14439a23d10090cbdbe0d",
        "IPY_MODEL_0752b1215b434b97911f2dab0e99e409"
       ],
       "layout": "IPY_MODEL_09597c60e3214a62a77b4e7f981c0e66"
      }
     },
     "6bb8620b25c04baa86f8379a22ccfec5": {
      "model_module": "@jupyter-widgets/controls",
      "model_module_version": "1.4.0",
      "model_name": "DescriptionStyleModel",
      "state": {
       "description_width": ""
      }
     },
     "6bc7cfa8a5c844a598bf8bc6afe4faaa": {
      "model_module": "@jupyter-widgets/controls",
      "model_module_version": "1.4.0",
      "model_name": "DescriptionStyleModel",
      "state": {
       "description_width": "initial"
      }
     },
     "6c03005ba6af4da883dd3be9a4092f19": {
      "model_module": "@jupyter-widgets/controls",
      "model_module_version": "1.4.0",
      "model_name": "ButtonStyleModel",
      "state": {
       "button_color": "lightgreen"
      }
     },
     "6c134c7b76fd4513945567b5e0989e5f": {
      "model_module": "@jupyter-widgets/controls",
      "model_module_version": "1.4.0",
      "model_name": "HTMLModel",
      "state": {
       "layout": "IPY_MODEL_e68bbd3e8f9c42f2ac40a0a60fd1d320",
       "style": "IPY_MODEL_164fc2911eec466db2ac580a252ceb7f",
       "value": "<h4 style=\"font-size:14px;\">Die Syntax ist ein</h4>"
      }
     },
     "6c6d333c640d446bbf5972e837b2b3b6": {
      "model_module": "@jupyter-widgets/controls",
      "model_module_version": "1.4.0",
      "model_name": "HBoxModel",
      "state": {
       "children": [
        "IPY_MODEL_00d8636a8eeb4d609300b50c97661f5e",
        "IPY_MODEL_d2b8dbb985394b4b948b1ac55e4f9ec1"
       ],
       "layout": "IPY_MODEL_056ed56c661e45d5a9e4caea870bb297"
      }
     },
     "6c72fd3f845f4987aa42b7d48d16ec72": {
      "model_module": "@jupyter-widgets/controls",
      "model_module_version": "1.4.0",
      "model_name": "ButtonModel",
      "state": {
       "description": "Abhängigkeitsstruktur",
       "layout": "IPY_MODEL_a13ec7bdc6da4d409d69d6bf05e6444c",
       "style": "IPY_MODEL_2e2dec2b95524532bc426d83c5e5bea6"
      }
     },
     "6c96a9bd41824985b0d2a2293c9f5155": {
      "model_module": "@jupyter-widgets/controls",
      "model_module_version": "1.4.0",
      "model_name": "ButtonModel",
      "state": {
       "description": "Subjekt",
       "layout": "IPY_MODEL_8599336211824c8b9b68dd8d1fea79af",
       "style": "IPY_MODEL_31f68dc59b384ae7b3919d6fb8619ffc"
      }
     },
     "6ca93f6b964045c3ba1c44b5e983f756": {
      "model_module": "@jupyter-widgets/controls",
      "model_module_version": "1.4.0",
      "model_name": "DescriptionStyleModel",
      "state": {
       "description_width": "initial"
      }
     },
     "6cabc13356264cb3a1a8933ea4f6d656": {
      "model_module": "@jupyter-widgets/controls",
      "model_module_version": "1.4.0",
      "model_name": "VBoxModel",
      "state": {
       "children": [
        "IPY_MODEL_aa8cbb93bb7843ba8da989ce0a1377c9",
        "IPY_MODEL_43a5876f4f0a416a9ca24d36119164fb",
        "IPY_MODEL_0d320b548a3d4918b3573218ed594fb3",
        "IPY_MODEL_f4923fa86ba34a418fc2867cbd89abb3"
       ],
       "layout": "IPY_MODEL_9c6712167ef3432abee95b87cfa07844"
      }
     },
     "6cd5f57a20854f4e9e44efe9a73eff10": {
      "model_module": "@jupyter-widgets/controls",
      "model_module_version": "1.4.0",
      "model_name": "ButtonStyleModel",
      "state": {}
     },
     "6d1d12aa85014fb5889139c0e5f2da68": {
      "model_module": "@jupyter-widgets/base",
      "model_module_version": "1.1.0",
      "model_name": "LayoutModel",
      "state": {
       "width": "250px"
      }
     },
     "6d26d26226cd4473b8240eacf0591597": {
      "model_module": "@jupyter-widgets/controls",
      "model_module_version": "1.4.0",
      "model_name": "HTMLModel",
      "state": {
       "layout": "IPY_MODEL_2f648de17ca54dd5b78d7571f714e3e6",
       "style": "IPY_MODEL_ca57495955714d15a16f6232cc1e50ac",
       "value": "<i>Markieren Sie <ins>alle</ins> passenden Antworten: </i>"
      }
     },
     "6d34893725a24f04a3d8a0f0f506774b": {
      "model_module": "@jupyter-widgets/base",
      "model_module_version": "1.1.0",
      "model_name": "LayoutModel",
      "state": {
       "width": "250px"
      }
     },
     "6d4f7b86142e4dbaae71ddb314ee8ee2": {
      "model_module": "@jupyter-widgets/base",
      "model_module_version": "1.1.0",
      "model_name": "LayoutModel",
      "state": {
       "width": "250px"
      }
     },
     "6d541ace529e447cb59912f1b7822055": {
      "model_module": "@jupyter-widgets/base",
      "model_module_version": "1.1.0",
      "model_name": "LayoutModel",
      "state": {
       "justify_content": "center"
      }
     },
     "6d6ba62315024bb696412a9103e049b0": {
      "model_module": "@jupyter-widgets/base",
      "model_module_version": "1.1.0",
      "model_name": "LayoutModel",
      "state": {
       "justify_content": "center"
      }
     },
     "6d7a0c61a77b480897d2168387fb430f": {
      "model_module": "@jupyter-widgets/base",
      "model_module_version": "1.1.0",
      "model_name": "LayoutModel",
      "state": {
       "justify_content": "center"
      }
     },
     "6d89568ec4b64967ad4f60ab93a7829b": {
      "model_module": "@jupyter-widgets/controls",
      "model_module_version": "1.4.0",
      "model_name": "ButtonStyleModel",
      "state": {}
     },
     "6d99986f8ae449959e20ae9b427441af": {
      "model_module": "@jupyter-widgets/controls",
      "model_module_version": "1.4.0",
      "model_name": "DescriptionStyleModel",
      "state": {
       "description_width": ""
      }
     },
     "6d9f561d90b94b27ba67c224eac35d3c": {
      "model_module": "@jupyter-widgets/controls",
      "model_module_version": "1.4.0",
      "model_name": "ButtonModel",
      "state": {
       "description": "formale Grammatik",
       "layout": "IPY_MODEL_a37d2a11ed10417c83051698d7ec6d8a",
       "style": "IPY_MODEL_7ab8e6037f6c4a0aaf91b22a24bdef5a"
      }
     },
     "6daa1f3ef59a42c783cfa155d782ce81": {
      "model_module": "@jupyter-widgets/controls",
      "model_module_version": "1.4.0",
      "model_name": "ButtonModel",
      "state": {
       "description": "formale Grammatik",
       "layout": "IPY_MODEL_35a4bec0e1b34c8aaf67584ea2930eff",
       "style": "IPY_MODEL_97803996707643b8b00f64c102f2183f"
      }
     },
     "6daa891867794516b0716877a796173a": {
      "model_module": "@jupyter-widgets/controls",
      "model_module_version": "1.4.0",
      "model_name": "CheckboxModel",
      "state": {
       "description": "Lautebene, Wortebene, Satzebene",
       "disabled": false,
       "layout": "IPY_MODEL_3ac3e2f5a70d4e7ca8d259f105ba2242",
       "style": "IPY_MODEL_967e31ca59cc46bb8eaebf1d95577579",
       "value": true
      }
     },
     "6db4dc9071484fc6ae1a229ab2a224ef": {
      "model_module": "@jupyter-widgets/controls",
      "model_module_version": "1.4.0",
      "model_name": "DropdownModel",
      "state": {
       "_options_labels": [
        "Keine der Alternativen",
        "der Ort des Geschehens wird festgelegt",
        "die PP wird dem Substantiv beigefügt",
        "die im Verb ausgedrückte Tätigkeit wird modifiziert"
       ],
       "description": "Antwort:",
       "index": 3,
       "layout": "IPY_MODEL_5c5276e9faf54542acd000d4a11b5e4f",
       "style": "IPY_MODEL_e49f10fb924a4805b2047122f8710a12"
      }
     },
     "6dbd98ec7a974c47876179d8f514b6c0": {
      "model_module": "@jupyter-widgets/controls",
      "model_module_version": "1.4.0",
      "model_name": "DescriptionStyleModel",
      "state": {
       "description_width": ""
      }
     },
     "6dd647e0bcc345a9856bd436c80702ec": {
      "model_module": "@jupyter-widgets/controls",
      "model_module_version": "1.4.0",
      "model_name": "HTMLModel",
      "state": {
       "layout": "IPY_MODEL_9b23dcfa62694bb7b26ea6ba7d9aa72d",
       "style": "IPY_MODEL_75a22c216b88443e9ae1884404216234",
       "value": "<h4 style=\"font-size:14px;\">Bzgl. welcher (nicht an der Oberflächensyntax ersichtlichen) Eigenschaft unterscheiden sich die PPs in den beiden Analysen?</h4>"
      }
     },
     "6dd7ebcf266b480abe91381600197136": {
      "model_module": "@jupyter-widgets/base",
      "model_module_version": "1.1.0",
      "model_name": "LayoutModel",
      "state": {}
     },
     "6ddf66b6cd444bf0b9d349c90797bf16": {
      "model_module": "@jupyter-widgets/base",
      "model_module_version": "1.1.0",
      "model_name": "LayoutModel",
      "state": {
       "width": "250px"
      }
     },
     "6de908e9a488456293fcd7ff84976e21": {
      "model_module": "@jupyter-widgets/base",
      "model_module_version": "1.1.0",
      "model_name": "LayoutModel",
      "state": {
       "width": "250px"
      }
     },
     "6df86fdbae95487d89b33d00f1fc830d": {
      "model_module": "@jupyter-widgets/base",
      "model_module_version": "1.1.0",
      "model_name": "LayoutModel",
      "state": {}
     },
     "6e1b90d6d2ea4cd08a6c09d16625d3b4": {
      "model_module": "@jupyter-widgets/controls",
      "model_module_version": "1.4.0",
      "model_name": "ButtonModel",
      "state": {
       "description": "Korrekt?",
       "layout": "IPY_MODEL_88f56810a1d84b05af5f3cc655025eaf",
       "style": "IPY_MODEL_be6e9a34800646a992a04bee68551c10"
      }
     },
     "6e1fe237e678462facfeff449a556642": {
      "model_module": "@jupyter-widgets/controls",
      "model_module_version": "1.4.0",
      "model_name": "DescriptionStyleModel",
      "state": {
       "description_width": "initial"
      }
     },
     "6e3493fd615c45b5983f88a74e7835ae": {
      "model_module": "@jupyter-widgets/controls",
      "model_module_version": "1.4.0",
      "model_name": "HTMLModel",
      "state": {
       "layout": "IPY_MODEL_68cf789075164c39b87fa2a1736b08e0",
       "style": "IPY_MODEL_9b58b797677d4ba1a581c1c66a940fcb",
       "value": "<h4 style=\"font-size:14px;\">In welcher Beziehung können Gerund und nachfolgendes Nomen stehen?</h4>"
      }
     },
     "6e3f0ea8268f414ca6d54447e7af4e8d": {
      "model_module": "@jupyter-widgets/controls",
      "model_module_version": "1.4.0",
      "model_name": "HTMLModel",
      "state": {
       "layout": "IPY_MODEL_60e3bc373edc40a882bd0eb089dfd7df",
       "style": "IPY_MODEL_b4e1caa1e7e64cf082e01148e4bc9c64",
       "value": "<h4 style=\"font-size:14px;\">Welche Funktion im Hauptsatz nimmt das Gerund ein, wenn es Kopf der Gerund-Nomen-Phrase ist?</h4>"
      }
     },
     "6e5a199977f14bac99c5ca641cf87861": {
      "model_module": "@jupyter-widgets/controls",
      "model_module_version": "1.4.0",
      "model_name": "ButtonModel",
      "state": {
       "description": "Objekt",
       "layout": "IPY_MODEL_c67c68e4cfd74a59a0ceb01cdeef83d4",
       "style": "IPY_MODEL_a91ef169f7124961a6a883644501051d"
      }
     },
     "6e88012e15f348528521c817e197666a": {
      "model_module": "@jupyter-widgets/controls",
      "model_module_version": "1.4.0",
      "model_name": "HTMLModel",
      "state": {
       "layout": "IPY_MODEL_d824303e249f4e209849b3f0df938472",
       "style": "IPY_MODEL_3b14359e984f48b986bc3440b883282d",
       "value": "<h4 style=\"font-size:14px;\">In welcher Beziehung können Gerund und nachfolgendes Nomen stehen?</h4>"
      }
     },
     "6ec90d851f124c56bbcddae4cb5b023d": {
      "model_module": "@jupyter-widgets/controls",
      "model_module_version": "1.4.0",
      "model_name": "ButtonModel",
      "state": {
       "description": "Objekt",
       "layout": "IPY_MODEL_6d1d12aa85014fb5889139c0e5f2da68",
       "style": "IPY_MODEL_dc680ae177a74461b5ade3446f77f2f7"
      }
     },
     "6f0fea5d63f34460b257e180ba9f389d": {
      "model_module": "@jupyter-widgets/controls",
      "model_module_version": "1.4.0",
      "model_name": "HBoxModel",
      "state": {
       "children": [
        "IPY_MODEL_cc2105b8ce664b028304559e4335cc17",
        "IPY_MODEL_40925aa97ccb4d87936078da817a61d6"
       ],
       "layout": "IPY_MODEL_90921eee57f240b79d7687a2b0dbd349"
      }
     },
     "6f5e1501740944e18a8a6698bf975cde": {
      "model_module": "@jupyter-widgets/controls",
      "model_module_version": "1.4.0",
      "model_name": "DescriptionStyleModel",
      "state": {
       "description_width": ""
      }
     },
     "6f5e35aa475146489bb43a98fff6e9ed": {
      "model_module": "@jupyter-widgets/base",
      "model_module_version": "1.1.0",
      "model_name": "LayoutModel",
      "state": {
       "justify_content": "center"
      }
     },
     "6f839eb7f22a46ee9b432815f8f8aba1": {
      "model_module": "@jupyter-widgets/controls",
      "model_module_version": "1.4.0",
      "model_name": "CheckboxModel",
      "state": {
       "description": "Synonymie",
       "disabled": false,
       "layout": "IPY_MODEL_11ee4c3881ab4ff6837ac0df3d24490a",
       "style": "IPY_MODEL_1c070f43a1d54b5aa6fb97d19517e284",
       "value": false
      }
     },
     "6fd04e24c8604ddeae0995c8a4bf9363": {
      "model_module": "@jupyter-widgets/base",
      "model_module_version": "1.1.0",
      "model_name": "LayoutModel",
      "state": {
       "justify_content": "center"
      }
     },
     "6fdd83245fd54be9ae844f4702d74895": {
      "model_module": "@jupyter-widgets/controls",
      "model_module_version": "1.4.0",
      "model_name": "DescriptionStyleModel",
      "state": {
       "description_width": "initial"
      }
     },
     "700cce7107f5491e9dbb557ab7221b13": {
      "model_module": "@jupyter-widgets/controls",
      "model_module_version": "1.4.0",
      "model_name": "CheckboxModel",
      "state": {
       "description": "syntaktische",
       "disabled": false,
       "layout": "IPY_MODEL_35b4ee73e101445d948470dca3ff8088",
       "style": "IPY_MODEL_d1f4fd3ce94a47bdac6d999934bd658b",
       "value": false
      }
     },
     "700f5b3e937f4e83882869ee2c503a60": {
      "model_module": "@jupyter-widgets/controls",
      "model_module_version": "1.4.0",
      "model_name": "HTMLModel",
      "state": {
       "layout": "IPY_MODEL_421a404a083a4e109a92380d4a39b0b0",
       "style": "IPY_MODEL_eb8f34c8b52b4cf6bec09b90ed5f0c23",
       "value": "<i>Wählen Sie die <ins>eine</ins> korrekte Antwort aus: </i>"
      }
     },
     "7031d469e57c4b10aaa1a705ed4d58c8": {
      "model_module": "@jupyter-widgets/controls",
      "model_module_version": "1.4.0",
      "model_name": "ButtonStyleModel",
      "state": {
       "button_color": "lightgreen"
      }
     },
     "70caf9ee6a084d7c927838f39e2bd6ec": {
      "model_module": "@jupyter-widgets/base",
      "model_module_version": "1.1.0",
      "model_name": "LayoutModel",
      "state": {}
     },
     "70cb29b6244e4e8b9313ca93ad54beaa": {
      "model_module": "@jupyter-widgets/controls",
      "model_module_version": "1.4.0",
      "model_name": "ButtonModel",
      "state": {
       "description": "Parsebäume",
       "layout": "IPY_MODEL_945cd5ac055f4236837de1b236c23288",
       "style": "IPY_MODEL_e8e5e3da21c0453cb09266ad109cc2a1"
      }
     },
     "70e03906daae4eff9ecc6eb21744f176": {
      "model_module": "@jupyter-widgets/controls",
      "model_module_version": "1.4.0",
      "model_name": "ButtonStyleModel",
      "state": {
       "button_color": "lightgreen"
      }
     },
     "713f6530549b48efacac08d17f743bf1": {
      "model_module": "@jupyter-widgets/base",
      "model_module_version": "1.1.0",
      "model_name": "LayoutModel",
      "state": {
       "width": "250px"
      }
     },
     "7154d73ebac646bcb05095444e05370f": {
      "model_module": "@jupyter-widgets/controls",
      "model_module_version": "1.4.0",
      "model_name": "HBoxModel",
      "state": {
       "children": [
        "IPY_MODEL_1efa5e1cecc240ac8b39ffe93623d3a6",
        "IPY_MODEL_949023751983482ab4d6303b6a398582"
       ],
       "layout": "IPY_MODEL_74c69d0e9b6f403c9bccb104dcdef972"
      }
     },
     "715a5918039945e3948d807791110cf6": {
      "model_module": "@jupyter-widgets/controls",
      "model_module_version": "1.4.0",
      "model_name": "DescriptionStyleModel",
      "state": {
       "description_width": "initial"
      }
     },
     "71d8576dfe9a4bb0ad3dafb5a6176b00": {
      "model_module": "@jupyter-widgets/base",
      "model_module_version": "1.1.0",
      "model_name": "LayoutModel",
      "state": {}
     },
     "71dbb936d4f74ae78c99f64c45a2160f": {
      "model_module": "@jupyter-widgets/controls",
      "model_module_version": "1.4.0",
      "model_name": "ButtonModel",
      "state": {
       "description": "Baumdiagramm",
       "layout": "IPY_MODEL_a5b7df3f0ebf41d789d47bd2226606f7",
       "style": "IPY_MODEL_24dc0d8283864a178dfd63c2b4ab7bcb"
      }
     },
     "71dbf06427614856917da4cc835bd723": {
      "model_module": "@jupyter-widgets/base",
      "model_module_version": "1.1.0",
      "model_name": "LayoutModel",
      "state": {
       "width": "250px"
      }
     },
     "720c1e00b28e4f1083231ced343aefa8": {
      "model_module": "@jupyter-widgets/controls",
      "model_module_version": "1.4.0",
      "model_name": "ButtonModel",
      "state": {
       "description": "strukturelle Ambiguität",
       "layout": "IPY_MODEL_b03af2f7756a42d0be38c0cbb24dca1a",
       "style": "IPY_MODEL_cffa8c30655340f39884facb2e0267c0"
      }
     },
     "7214436543fc4bca807fd5ab7b435bab": {
      "model_module": "@jupyter-widgets/controls",
      "model_module_version": "1.4.0",
      "model_name": "DescriptionStyleModel",
      "state": {
       "description_width": "initial"
      }
     },
     "726b0d64b8ab4b9496b991e1feb5f619": {
      "model_module": "@jupyter-widgets/controls",
      "model_module_version": "1.4.0",
      "model_name": "HTMLModel",
      "state": {
       "layout": "IPY_MODEL_12371d249e0743e9b15d628536c1928f",
       "style": "IPY_MODEL_1792e57e76514cb6b8ee97881fd020bc",
       "value": "<i>Markieren Sie <ins>alle</ins> passenden Antworten: </i>"
      }
     },
     "7311ba08461941babdf7c266851ca70d": {
      "model_module": "@jupyter-widgets/controls",
      "model_module_version": "1.4.0",
      "model_name": "DropdownModel",
      "state": {
       "_options_labels": [
        "Grundsymbole",
        "Nicht-Terminale",
        " "
       ],
       "index": 0,
       "layout": "IPY_MODEL_eb4f0343c2194cc09120b2deb5e9e404",
       "style": "IPY_MODEL_53e147df71c546b0b73aa4f735eeec2b"
      }
     },
     "7348bfbf065f4c37b84ae3b5a4be46e5": {
      "model_module": "@jupyter-widgets/controls",
      "model_module_version": "1.4.0",
      "model_name": "ButtonModel",
      "state": {
       "description": "Wissen um Sprachstruktur",
       "layout": "IPY_MODEL_6de908e9a488456293fcd7ff84976e21",
       "style": "IPY_MODEL_c0f469ece8bd4f9d8b5daaa3e3b42789"
      }
     },
     "7362013869ac4f1580e410068eb01e6e": {
      "model_module": "@jupyter-widgets/base",
      "model_module_version": "1.1.0",
      "model_name": "LayoutModel",
      "state": {}
     },
     "7365e6bd1fac49ca9200ff397c4e1cad": {
      "model_module": "@jupyter-widgets/controls",
      "model_module_version": "1.4.0",
      "model_name": "VBoxModel",
      "state": {
       "children": [
        "IPY_MODEL_6e3f0ea8268f414ca6d54447e7af4e8d",
        "IPY_MODEL_10d9728dd9bc4afbb8851ae711dec986",
        "IPY_MODEL_0a5c606118cc483c950b1daf0c59a1d0"
       ],
       "layout": "IPY_MODEL_e6414dc2852f44e39079b71d51b70b2f"
      }
     },
     "7396727a0ade4da7a722befb932c3bcb": {
      "model_module": "@jupyter-widgets/controls",
      "model_module_version": "1.4.0",
      "model_name": "ButtonStyleModel",
      "state": {}
     },
     "73c82d0eb12e45fb8971935b0d941f11": {
      "model_module": "@jupyter-widgets/controls",
      "model_module_version": "1.4.0",
      "model_name": "HTMLModel",
      "state": {
       "layout": "IPY_MODEL_148a5550ef6240d69d05f6872f67294f",
       "style": "IPY_MODEL_2b0c532bc6ca4c9988cc3bc9f21baa2c",
       "value": "<h4 style=\"font-size:14px;\">Die Syntax ist ein</h4>"
      }
     },
     "73d209bc3eed44a593531ec93d1f5d22": {
      "model_module": "@jupyter-widgets/controls",
      "model_module_version": "1.4.0",
      "model_name": "DescriptionStyleModel",
      "state": {
       "description_width": ""
      }
     },
     "73f75c638238477fb1cd9546d544421e": {
      "model_module": "@jupyter-widgets/controls",
      "model_module_version": "1.4.0",
      "model_name": "DescriptionStyleModel",
      "state": {
       "description_width": ""
      }
     },
     "740a53b7b70b44f5a6f0def0f2d03df2": {
      "model_module": "@jupyter-widgets/base",
      "model_module_version": "1.1.0",
      "model_name": "LayoutModel",
      "state": {}
     },
     "740eb1e6ca904526b5a5fe222efee9e7": {
      "model_module": "@jupyter-widgets/controls",
      "model_module_version": "1.4.0",
      "model_name": "CheckboxModel",
      "state": {
       "description": "Adverbialphrase",
       "disabled": false,
       "layout": "IPY_MODEL_fa099fb115ef4d8babcaa62cf2a6661e",
       "style": "IPY_MODEL_f1dba899821141ee927cf0f7bb2ad5cf",
       "value": false
      }
     },
     "741ca8e4c97c4d1d8d032fe84ddbfb16": {
      "model_module": "@jupyter-widgets/base",
      "model_module_version": "1.1.0",
      "model_name": "LayoutModel",
      "state": {
       "width": "600px"
      }
     },
     "74a11f7553ca4e1883185512ccbc0eb1": {
      "model_module": "@jupyter-widgets/controls",
      "model_module_version": "1.4.0",
      "model_name": "VBoxModel",
      "state": {
       "children": [
        "IPY_MODEL_195d4978f2484d708f5ecb85b7664295",
        "IPY_MODEL_f1c3b7ce0621449588fc077ea84cb615",
        "IPY_MODEL_fb9c4b8477b74f51ac316504b1acb04d",
        "IPY_MODEL_47b71487456741f7aa2b8650c67339ae"
       ],
       "layout": "IPY_MODEL_b12ee0a2c9424a779fcecb1e07063e85"
      }
     },
     "74a3862567eb4e4ead76b6f5166a397c": {
      "model_module": "@jupyter-widgets/base",
      "model_module_version": "1.1.0",
      "model_name": "LayoutModel",
      "state": {
       "width": "250px"
      }
     },
     "74c69d0e9b6f403c9bccb104dcdef972": {
      "model_module": "@jupyter-widgets/base",
      "model_module_version": "1.1.0",
      "model_name": "LayoutModel",
      "state": {}
     },
     "7507f98805ae402cab44be6179ee169e": {
      "model_module": "@jupyter-widgets/base",
      "model_module_version": "1.1.0",
      "model_name": "LayoutModel",
      "state": {
       "justify_content": "center"
      }
     },
     "75083c11ac4b4c5e825204a18f382f2d": {
      "model_module": "@jupyter-widgets/controls",
      "model_module_version": "1.4.0",
      "model_name": "DescriptionStyleModel",
      "state": {
       "description_width": ""
      }
     },
     "751c693413614e098fc946edecad6749": {
      "model_module": "@jupyter-widgets/controls",
      "model_module_version": "1.4.0",
      "model_name": "ButtonModel",
      "state": {
       "description": "Abhängigkeitsstruktur",
       "layout": "IPY_MODEL_a068265c3cf04732866205dabc410ef7",
       "style": "IPY_MODEL_bcbb27234d3f47bb8c13679cc2583dda"
      }
     },
     "753e44ee88b143f999239946730aaf37": {
      "model_module": "@jupyter-widgets/controls",
      "model_module_version": "1.4.0",
      "model_name": "ButtonModel",
      "state": {
       "description": "formale Grammatik",
       "layout": "IPY_MODEL_ed4f645706984144a70e90ab1f6ae06d",
       "style": "IPY_MODEL_3d844b668b8c43ecbeebf28752fd542a"
      }
     },
     "757c2073dbd648f7b5432b6d538a766a": {
      "model_module": "@jupyter-widgets/controls",
      "model_module_version": "1.4.0",
      "model_name": "ButtonModel",
      "state": {
       "description": "Phrasentyp",
       "layout": "IPY_MODEL_156104cf05354db69e248fc5a422ae72",
       "style": "IPY_MODEL_512cc6397f4148c5bf5446eb60186ffe"
      }
     },
     "7581dc9aa21f4cd6af9a58efc9557d0c": {
      "model_module": "@jupyter-widgets/controls",
      "model_module_version": "1.4.0",
      "model_name": "ButtonModel",
      "state": {
       "description": "mehr als ein",
       "layout": "IPY_MODEL_936988a6be5b4d6cbc8c28206d7b1f41",
       "style": "IPY_MODEL_7f23630543044eecb170603e7265c83b"
      }
     },
     "758d2ec4c2af4c5a91bd122448d63325": {
      "model_module": "@jupyter-widgets/controls",
      "model_module_version": "1.4.0",
      "model_name": "ButtonModel",
      "state": {
       "description": "Regelbuch",
       "layout": "IPY_MODEL_3e57703d2e254aa796fd6b92c420ac85",
       "style": "IPY_MODEL_9ffa34992fa545d0820606e353893206"
      }
     },
     "7592c7952e3a4f728aa8b66378bde2be": {
      "model_module": "@jupyter-widgets/base",
      "model_module_version": "1.1.0",
      "model_name": "LayoutModel",
      "state": {
       "width": "250px"
      }
     },
     "75a22c216b88443e9ae1884404216234": {
      "model_module": "@jupyter-widgets/controls",
      "model_module_version": "1.4.0",
      "model_name": "DescriptionStyleModel",
      "state": {
       "description_width": ""
      }
     },
     "75c59b8453754541a432c95f4a81d964": {
      "model_module": "@jupyter-widgets/base",
      "model_module_version": "1.1.0",
      "model_name": "LayoutModel",
      "state": {
       "width": "250px"
      }
     },
     "75ce35709ea74d8a86a0ae11216ef51b": {
      "model_module": "@jupyter-widgets/controls",
      "model_module_version": "1.4.0",
      "model_name": "CheckboxModel",
      "state": {
       "description": "Dependenzgraph mit Phrasenlabels als Knoten",
       "disabled": false,
       "layout": "IPY_MODEL_c3b9dc5dcd524bb3bfbe3ce9dcc71c5e",
       "style": "IPY_MODEL_bdb4fec9b2fa4a289df36057ca16ace5",
       "value": false
      }
     },
     "7611a0c829f243b194735e245dfea540": {
      "model_module": "@jupyter-widgets/controls",
      "model_module_version": "1.4.0",
      "model_name": "HTMLModel",
      "state": {
       "layout": "IPY_MODEL_1a51bf8fe1a2417f888a27193a1ff1f6",
       "style": "IPY_MODEL_e9dcc07642ed408a844c600e69da18fe",
       "value": "<i>Markieren Sie <ins>alle</ins> passenden Antworten: </i>"
      }
     },
     "7642e7e7db1d40aeabf0b392be8a786d": {
      "model_module": "@jupyter-widgets/controls",
      "model_module_version": "1.4.0",
      "model_name": "CheckboxModel",
      "state": {
       "description": "Attributphrase",
       "disabled": false,
       "layout": "IPY_MODEL_af7c4891644f4ebdbd14653894c06f2f",
       "style": "IPY_MODEL_15c3582cc2ca47ce8a99ced49a08d19d",
       "value": false
      }
     },
     "76604bac1bb34d4a879335f2fe47f5ab": {
      "model_module": "@jupyter-widgets/controls",
      "model_module_version": "1.4.0",
      "model_name": "ButtonStyleModel",
      "state": {}
     },
     "7675b3c8d23c497d8743be874795f6df": {
      "model_module": "@jupyter-widgets/controls",
      "model_module_version": "1.4.0",
      "model_name": "ButtonModel",
      "state": {
       "description": "Korrekt?",
       "layout": "IPY_MODEL_d844caaacea848ddb1daa97bc7fa603c",
       "style": "IPY_MODEL_49ae4ca6b65a420495b45d0f0a3f934b"
      }
     },
     "767bf4274d804f398075a6ddedde9009": {
      "model_module": "@jupyter-widgets/controls",
      "model_module_version": "1.4.0",
      "model_name": "DescriptionStyleModel",
      "state": {
       "description_width": ""
      }
     },
     "76c959c4d7f14d9a9f147b1101ece4ea": {
      "model_module": "@jupyter-widgets/base",
      "model_module_version": "1.1.0",
      "model_name": "LayoutModel",
      "state": {}
     },
     "76de815bc60641fa9e9606d4a6596c35": {
      "model_module": "@jupyter-widgets/controls",
      "model_module_version": "1.4.0",
      "model_name": "ButtonStyleModel",
      "state": {}
     },
     "7721dc7874ed457bb6933afb57705f9f": {
      "model_module": "@jupyter-widgets/controls",
      "model_module_version": "1.4.0",
      "model_name": "ButtonModel",
      "state": {
       "description": "formale Grammatik",
       "layout": "IPY_MODEL_96d09da32ce042f4a33644d8e2515036",
       "style": "IPY_MODEL_99f16f40a0db46ec8e72f61eb511c24e"
      }
     },
     "772e59e9a2ce42eaa4fd56c39f46152e": {
      "model_module": "@jupyter-widgets/controls",
      "model_module_version": "1.4.0",
      "model_name": "ButtonStyleModel",
      "state": {}
     },
     "7751387f91c44bfe9a68f8c64069189e": {
      "model_module": "@jupyter-widgets/controls",
      "model_module_version": "1.4.0",
      "model_name": "HTMLModel",
      "state": {
       "layout": "IPY_MODEL_460bc6d9ef4a4a22a36c71fceaa795d9",
       "style": "IPY_MODEL_6dbd98ec7a974c47876179d8f514b6c0",
       "value": "<h4 style=\"font-size:14px;\">Welche Funktion im Satz nimmt das Nomen ein, wenn es Kopf der Gerund-Nomen-Phrase ist?</h4>"
      }
     },
     "7761027fe66b496f8bc0aa051e3df738": {
      "model_module": "@jupyter-widgets/controls",
      "model_module_version": "1.4.0",
      "model_name": "ButtonModel",
      "state": {
       "description": "Wissen um Sprachstruktur",
       "layout": "IPY_MODEL_8b2b757590af4805bf14c19e93f7fb88",
       "style": "IPY_MODEL_ea41c898518b47ab85037ffe1a56bf74"
      }
     },
     "77cc030fc08d41559772d995ecb185ec": {
      "model_module": "@jupyter-widgets/base",
      "model_module_version": "1.1.0",
      "model_name": "LayoutModel",
      "state": {}
     },
     "77ed3bcb51804b328c2104a23ba84fe7": {
      "model_module": "@jupyter-widgets/base",
      "model_module_version": "1.1.0",
      "model_name": "LayoutModel",
      "state": {}
     },
     "7805a50e5b97460dabcce886a62e9635": {
      "model_module": "@jupyter-widgets/controls",
      "model_module_version": "1.4.0",
      "model_name": "DescriptionStyleModel",
      "state": {
       "description_width": "initial"
      }
     },
     "78060db4ac574b2b80c074695adab852": {
      "model_module": "@jupyter-widgets/controls",
      "model_module_version": "1.4.0",
      "model_name": "HTMLModel",
      "state": {
       "layout": "IPY_MODEL_7bca01e3dcc5411bbf89d2a14c8cabe6",
       "style": "IPY_MODEL_e86a98740dc840a9bbb4b49933d4038e",
       "value": "<h4 style=\"font-size:14px;\">Welche Funktion im Satz nimmt das Nomen ein, wenn es Kopf der Gerund-Nomen-Phrase ist?</h4>"
      }
     },
     "7808e77da7c94088926e16b6b6935ad3": {
      "model_module": "@jupyter-widgets/base",
      "model_module_version": "1.1.0",
      "model_name": "LayoutModel",
      "state": {
       "width": "250px"
      }
     },
     "780dea70d6db41acbb390bebe469e13b": {
      "model_module": "@jupyter-widgets/controls",
      "model_module_version": "1.4.0",
      "model_name": "ButtonStyleModel",
      "state": {}
     },
     "78129bfabe3c4e72bd3909d257a3bbc8": {
      "model_module": "@jupyter-widgets/base",
      "model_module_version": "1.1.0",
      "model_name": "LayoutModel",
      "state": {
       "width": "600px"
      }
     },
     "78bcbc6b0ea8447ca32f3d5fe0725784": {
      "model_module": "@jupyter-widgets/base",
      "model_module_version": "1.1.0",
      "model_name": "LayoutModel",
      "state": {
       "width": "600px"
      }
     },
     "78e93019999e458f90b17bb4613b0493": {
      "model_module": "@jupyter-widgets/base",
      "model_module_version": "1.1.0",
      "model_name": "LayoutModel",
      "state": {
       "width": "250px"
      }
     },
     "7926fd431d9b43dca92e6cfc02dafceb": {
      "model_module": "@jupyter-widgets/controls",
      "model_module_version": "1.4.0",
      "model_name": "VBoxModel",
      "state": {
       "children": [
        "IPY_MODEL_657d81ee5de54a99803bad6e8c642d85",
        "IPY_MODEL_2e3902db037148f6bef53b07c132c9e9",
        "IPY_MODEL_b0b05f005f3444f5b6076a4c25580669",
        "IPY_MODEL_f1f08530c6d4478c93339383c94519fc"
       ],
       "layout": "IPY_MODEL_fc2c57df15b04e31b3e8e62bc88321cb"
      }
     },
     "79cbb029c2024c3fb96f1154000055ed": {
      "model_module": "@jupyter-widgets/controls",
      "model_module_version": "1.4.0",
      "model_name": "CheckboxModel",
      "state": {
       "description": "Eine unendliche Menge an Sätzen kann mit endlichen Mitteln beschrieben werden.",
       "disabled": false,
       "layout": "IPY_MODEL_b1fd61c3e2e648558b50d5b55bbf2f63",
       "style": "IPY_MODEL_07319ba363d840ccb7d04a732a0cccbe",
       "value": false
      }
     },
     "79fd1c4ec24a4d16bb3097004cbed581": {
      "model_module": "@jupyter-widgets/controls",
      "model_module_version": "1.4.0",
      "model_name": "ButtonModel",
      "state": {
       "description": "Attribut",
       "layout": "IPY_MODEL_c38fbeca278a4b13b00fffa56d99e740",
       "style": "IPY_MODEL_b6f022e811854b898568f50d128c4bf9"
      }
     },
     "7a19c4005404498c81f1288df68169a3": {
      "model_module": "@jupyter-widgets/controls",
      "model_module_version": "1.4.0",
      "model_name": "DescriptionStyleModel",
      "state": {
       "description_width": ""
      }
     },
     "7a2e6495f15342689e286853fb014dba": {
      "model_module": "@jupyter-widgets/controls",
      "model_module_version": "1.4.0",
      "model_name": "CheckboxModel",
      "state": {
       "description": "Objekt-Nominalphrase",
       "disabled": false,
       "layout": "IPY_MODEL_041b7490305b4906ad31bca3bb640487",
       "style": "IPY_MODEL_8e77858a1aa440bdb91952802f7bf126",
       "value": true
      }
     },
     "7a409e1ef5804ecd94012b4d55a10fa9": {
      "model_module": "@jupyter-widgets/controls",
      "model_module_version": "1.4.0",
      "model_name": "ButtonModel",
      "state": {
       "description": "Klammernotation",
       "layout": "IPY_MODEL_e8d489525b79497bb1a888275cb9dd35",
       "style": "IPY_MODEL_12bdadeb591849dea96f92e811f40d7a"
      }
     },
     "7a57f9b6a9f74e0ea51dd6eeadda18ee": {
      "model_module": "@jupyter-widgets/controls",
      "model_module_version": "1.4.0",
      "model_name": "VBoxModel",
      "state": {
       "children": [
        "IPY_MODEL_cce3715bf7614f688101cadf34899f87",
        "IPY_MODEL_305aff3c3c714e7ca3b24efe57a162fa",
        "IPY_MODEL_2959da404c214bb7adfe56ba598f6c76",
        "IPY_MODEL_c4a74e013f5a4751bdc8f6059d135954"
       ],
       "layout": "IPY_MODEL_19dee1daced2478eb83b2fb375e31999"
      }
     },
     "7a695efc8e6d4241bdcc811f47c77b52": {
      "model_module": "@jupyter-widgets/controls",
      "model_module_version": "1.4.0",
      "model_name": "DescriptionStyleModel",
      "state": {
       "description_width": "initial"
      }
     },
     "7a781135c3f04b78b6f16db1c42924ce": {
      "model_module": "@jupyter-widgets/controls",
      "model_module_version": "1.4.0",
      "model_name": "ButtonStyleModel",
      "state": {}
     },
     "7a7f4435c94149958bb54434f233c155": {
      "model_module": "@jupyter-widgets/controls",
      "model_module_version": "1.4.0",
      "model_name": "ButtonModel",
      "state": {
       "description": "morphologisch ambige Formen",
       "layout": "IPY_MODEL_97139628b7064d21b59c81c301ecac4c",
       "style": "IPY_MODEL_99579bb30a3946af90bff49310fd918a"
      }
     },
     "7aa08f48424b4a05a3ccc4a5d19ebca1": {
      "model_module": "@jupyter-widgets/base",
      "model_module_version": "1.1.0",
      "model_name": "LayoutModel",
      "state": {
       "width": "250px"
      }
     },
     "7ab8e6037f6c4a0aaf91b22a24bdef5a": {
      "model_module": "@jupyter-widgets/controls",
      "model_module_version": "1.4.0",
      "model_name": "ButtonStyleModel",
      "state": {}
     },
     "7ac696c9238d408ab7e461d5f6ce766b": {
      "model_module": "@jupyter-widgets/base",
      "model_module_version": "1.1.0",
      "model_name": "LayoutModel",
      "state": {}
     },
     "7b197edf2e0b4ae4bdcc821726eee4cf": {
      "model_module": "@jupyter-widgets/controls",
      "model_module_version": "1.4.0",
      "model_name": "DescriptionStyleModel",
      "state": {
       "description_width": "initial"
      }
     },
     "7b4c251337e6441a90dd5f4f4fcf497d": {
      "model_module": "@jupyter-widgets/controls",
      "model_module_version": "1.4.0",
      "model_name": "DescriptionStyleModel",
      "state": {
       "description_width": "initial"
      }
     },
     "7b7e8dbdcef74b9d9497e4f58cc092a5": {
      "model_module": "@jupyter-widgets/controls",
      "model_module_version": "1.4.0",
      "model_name": "DescriptionStyleModel",
      "state": {
       "description_width": "initial"
      }
     },
     "7bca01e3dcc5411bbf89d2a14c8cabe6": {
      "model_module": "@jupyter-widgets/base",
      "model_module_version": "1.1.0",
      "model_name": "LayoutModel",
      "state": {
       "justify_content": "center"
      }
     },
     "7bfbc0ac2329448c8e2c27559792bace": {
      "model_module": "@jupyter-widgets/base",
      "model_module_version": "1.1.0",
      "model_name": "LayoutModel",
      "state": {
       "width": "600px"
      }
     },
     "7c0835706f984848aebfac78fbafa77e": {
      "model_module": "@jupyter-widgets/base",
      "model_module_version": "1.1.0",
      "model_name": "LayoutModel",
      "state": {
       "width": "250px"
      }
     },
     "7c14fa4283c54b199e9b1fd01935f26c": {
      "model_module": "@jupyter-widgets/controls",
      "model_module_version": "1.4.0",
      "model_name": "ButtonModel",
      "state": {
       "description": "Korrekt?",
       "layout": "IPY_MODEL_c833b3133a8b408b92ff4d59b4b7b049",
       "style": "IPY_MODEL_fcd4f6c542094dbf8982620780c6645c"
      }
     },
     "7c3567db1e5f44c6ac059de20111b3a2": {
      "model_module": "@jupyter-widgets/base",
      "model_module_version": "1.1.0",
      "model_name": "LayoutModel",
      "state": {}
     },
     "7c899657b08341a3b66a9a32ae9e9187": {
      "model_module": "@jupyter-widgets/base",
      "model_module_version": "1.1.0",
      "model_name": "LayoutModel",
      "state": {
       "width": "150px"
      }
     },
     "7cc39cd944e346439da480aa29df925e": {
      "model_module": "@jupyter-widgets/controls",
      "model_module_version": "1.4.0",
      "model_name": "HBoxModel",
      "state": {
       "children": [
        "IPY_MODEL_6daa1f3ef59a42c783cfa155d782ce81"
       ],
       "layout": "IPY_MODEL_cfb1cc3d0f6a44d68dbdb18625ba11ef"
      }
     },
     "7cda7f4856d3492384368f07fc2e85d6": {
      "model_module": "@jupyter-widgets/controls",
      "model_module_version": "1.4.0",
      "model_name": "HBoxModel",
      "state": {
       "children": [
        "IPY_MODEL_37cd89936d954026baa44f525a6d128f",
        "IPY_MODEL_417f60ee7c0c4966b0b5ede8247bd618"
       ],
       "layout": "IPY_MODEL_60000860e45b42e3a89b26ae7258d52f"
      }
     },
     "7d0760878730444aaa5ce95c7011aa4e": {
      "model_module": "@jupyter-widgets/controls",
      "model_module_version": "1.4.0",
      "model_name": "ButtonModel",
      "state": {
       "description": "Keine der anderen Möglichkeiten",
       "layout": "IPY_MODEL_d98969dec1d14f819e043131f3130596",
       "style": "IPY_MODEL_35487d0aef144441830e67cb761d84ee"
      }
     },
     "7d6c358daeb6489b96acbe663e816cd2": {
      "model_module": "@jupyter-widgets/base",
      "model_module_version": "1.1.0",
      "model_name": "LayoutModel",
      "state": {
       "width": "250px"
      }
     },
     "7d77039e5058466aa60f5fdb5c1dc515": {
      "model_module": "@jupyter-widgets/controls",
      "model_module_version": "1.4.0",
      "model_name": "HBoxModel",
      "state": {
       "children": [
        "IPY_MODEL_4046de12a81e4cd68b946788dd5fca9a",
        "IPY_MODEL_87fbdbd4393a4913b522eaf9edc72eaa"
       ],
       "layout": "IPY_MODEL_1bd499d017614f9099464ddeddb5267f"
      }
     },
     "7d90c74193604ae68d6aca0752915ae1": {
      "model_module": "@jupyter-widgets/controls",
      "model_module_version": "1.4.0",
      "model_name": "ButtonStyleModel",
      "state": {}
     },
     "7da0e6611e644ca1a5e38a032339de9c": {
      "model_module": "@jupyter-widgets/controls",
      "model_module_version": "1.4.0",
      "model_name": "ButtonStyleModel",
      "state": {
       "button_color": "lightgreen"
      }
     },
     "7dc364615896469f9adfceb1f2c9ca26": {
      "model_module": "@jupyter-widgets/controls",
      "model_module_version": "1.4.0",
      "model_name": "DescriptionStyleModel",
      "state": {
       "description_width": ""
      }
     },
     "7dc6a223e8e945f79c0805937a93d565": {
      "model_module": "@jupyter-widgets/controls",
      "model_module_version": "1.4.0",
      "model_name": "ButtonStyleModel",
      "state": {}
     },
     "7df49f9e964b407bb6104905bae925c9": {
      "model_module": "@jupyter-widgets/controls",
      "model_module_version": "1.4.0",
      "model_name": "ButtonModel",
      "state": {
       "description": "Objekt",
       "layout": "IPY_MODEL_5e0df1d80bba4c2f9f0eb72ae046d63c",
       "style": "IPY_MODEL_dbbec0bd0c0a4f679ec655a8f9658152"
      }
     },
     "7e1bf79b2d1b41c3a03135726646462d": {
      "model_module": "@jupyter-widgets/controls",
      "model_module_version": "1.4.0",
      "model_name": "HTMLModel",
      "state": {
       "layout": "IPY_MODEL_b47bd41342694038bd8531df8c314e76",
       "style": "IPY_MODEL_88aa3884d80545ab889dbbbd6be64686",
       "value": "<h4 style=\"font-size:14px;\">Welche Mittel kommen in einer formalen Syntaxanalyse zum Einsatz?</h4>"
      }
     },
     "7e2022a584d8402fa88c971d8530a21a": {
      "model_module": "@jupyter-widgets/controls",
      "model_module_version": "1.4.0",
      "model_name": "ButtonStyleModel",
      "state": {}
     },
     "7e576daa52fc43d6bdc00a9e831f5e31": {
      "model_module": "@jupyter-widgets/controls",
      "model_module_version": "1.4.0",
      "model_name": "VBoxModel",
      "state": {
       "children": [
        "IPY_MODEL_d787d4a3f69c4f719dbb5ed2653a1ad2",
        "IPY_MODEL_1a2807f561fa42549362903ce3f9e16a",
        "IPY_MODEL_a4ea792b5cc944329490ae05d31f2a93",
        "IPY_MODEL_d761e4ab9be2484ab33f741a87c05a92"
       ],
       "layout": "IPY_MODEL_32aa59fba1a84ef1b4f2a4558f1fc4cd"
      }
     },
     "7e7476175b6a4daa8a884b85ccbd3c87": {
      "model_module": "@jupyter-widgets/base",
      "model_module_version": "1.1.0",
      "model_name": "LayoutModel",
      "state": {}
     },
     "7eb6b1eddc3c4f52be99528ffcdfecd2": {
      "model_module": "@jupyter-widgets/base",
      "model_module_version": "1.1.0",
      "model_name": "LayoutModel",
      "state": {}
     },
     "7ed7d425ccc44079959ae49cb7b659d0": {
      "model_module": "@jupyter-widgets/controls",
      "model_module_version": "1.4.0",
      "model_name": "HTMLModel",
      "state": {
       "layout": "IPY_MODEL_a59053dc090346798cfba984375b49e3",
       "style": "IPY_MODEL_22e0be353f654e2193bd57dec46dc9b2",
       "value": "<i>Wählen Sie die <ins>eine</ins> korrekte Antwort aus: </i>"
      }
     },
     "7f0f55eea65344729ff82f74af579074": {
      "model_module": "@jupyter-widgets/controls",
      "model_module_version": "1.4.0",
      "model_name": "HTMLModel",
      "state": {
       "layout": "IPY_MODEL_fadc53b727514c81bcbb95ac827865af",
       "style": "IPY_MODEL_de21142c8850464a86bebf216e4612a1",
       "value": "<h4 style=\"font-size:14px;\">Welche Typen von Syntaxbäumen (auch: Parsebäume, Ableitungsbäume) wurden gezeigt?</h4>"
      }
     },
     "7f140405db064ad5a5b042227b68dd22": {
      "model_module": "@jupyter-widgets/base",
      "model_module_version": "1.1.0",
      "model_name": "LayoutModel",
      "state": {}
     },
     "7f23630543044eecb170603e7265c83b": {
      "model_module": "@jupyter-widgets/controls",
      "model_module_version": "1.4.0",
      "model_name": "ButtonStyleModel",
      "state": {
       "button_color": "lightgreen"
      }
     },
     "7f27f998bd944c98a4a838e11affaa2c": {
      "model_module": "@jupyter-widgets/base",
      "model_module_version": "1.1.0",
      "model_name": "LayoutModel",
      "state": {}
     },
     "7f549d94813347bb86909fff1a2d4bc1": {
      "model_module": "@jupyter-widgets/controls",
      "model_module_version": "1.4.0",
      "model_name": "DescriptionStyleModel",
      "state": {
       "description_width": ""
      }
     },
     "7f6374f7e6114ad2a8b0158fa37fec39": {
      "model_module": "@jupyter-widgets/controls",
      "model_module_version": "1.4.0",
      "model_name": "VBoxModel",
      "state": {
       "children": [
        "IPY_MODEL_39c48a800d0f49779117a0fe9d7adada",
        "IPY_MODEL_823b03d0331c4b988f37af0f6ef60d50",
        "IPY_MODEL_f4b686a5decb4a6d880fafd72183e159",
        "IPY_MODEL_20408a28d3a94b18aaf96e0abbdab255",
        "IPY_MODEL_967b47e7dd6d4c94b5053a4b8faceded"
       ],
       "layout": "IPY_MODEL_605a4108a17a42789310cbdaac38ed63"
      }
     },
     "7f744e672be94462ae9036aeb4bb7734": {
      "model_module": "@jupyter-widgets/base",
      "model_module_version": "1.1.0",
      "model_name": "LayoutModel",
      "state": {}
     },
     "7f75d862944a4512acaf3dcd1cae7f92": {
      "model_module": "@jupyter-widgets/controls",
      "model_module_version": "1.4.0",
      "model_name": "ButtonStyleModel",
      "state": {}
     },
     "7f777a474ba445f2ae2e43d32ac83efe": {
      "model_module": "@jupyter-widgets/controls",
      "model_module_version": "1.4.0",
      "model_name": "HTMLModel",
      "state": {
       "layout": "IPY_MODEL_4bee44b6c1cc4f729425fbd746531328",
       "style": "IPY_MODEL_18a1aa24440b4e76aa70313d6325ee75",
       "value": "<h4 style=\"font-size:14px;\">Konstituenz ist synonym zu:</h4>"
      }
     },
     "7f8d8183195d4eaba98a4d6c691b1527": {
      "model_module": "@jupyter-widgets/controls",
      "model_module_version": "1.4.0",
      "model_name": "HTMLModel",
      "state": {
       "layout": "IPY_MODEL_06293b88cc964079b99de91d737bbabf",
       "style": "IPY_MODEL_d531ace199b143f0b86c49e3eb2f46d6",
       "value": "<i>Wählen Sie die <ins>eine</ins> korrekte Antwort aus: </i>"
      }
     },
     "7f9ded7983414c268444b8fb8f981e88": {
      "model_module": "@jupyter-widgets/base",
      "model_module_version": "1.1.0",
      "model_name": "LayoutModel",
      "state": {
       "justify_content": "center"
      }
     },
     "7fa13f2d3f914ef1b21f7de89451bdd1": {
      "model_module": "@jupyter-widgets/controls",
      "model_module_version": "1.4.0",
      "model_name": "DescriptionStyleModel",
      "state": {
       "description_width": ""
      }
     },
     "7fc5e1c493bd45f68ce6f1e7b24f0e9f": {
      "model_module": "@jupyter-widgets/base",
      "model_module_version": "1.1.0",
      "model_name": "LayoutModel",
      "state": {}
     },
     "7fca16f71653421781f3d942803cdbec": {
      "model_module": "@jupyter-widgets/base",
      "model_module_version": "1.1.0",
      "model_name": "LayoutModel",
      "state": {}
     },
     "7fed938d2543430b8a50ef0575213150": {
      "model_module": "@jupyter-widgets/base",
      "model_module_version": "1.1.0",
      "model_name": "LayoutModel",
      "state": {
       "width": "250px"
      }
     },
     "80228ec048ac45a7b3f52558bfd2243c": {
      "model_module": "@jupyter-widgets/base",
      "model_module_version": "1.1.0",
      "model_name": "LayoutModel",
      "state": {
       "justify_content": "center"
      }
     },
     "803ccd26170b49209a539ba62507b2f3": {
      "model_module": "@jupyter-widgets/base",
      "model_module_version": "1.1.0",
      "model_name": "LayoutModel",
      "state": {
       "width": "250px"
      }
     },
     "80648dab18084eaf8b353ea0900fe293": {
      "model_module": "@jupyter-widgets/controls",
      "model_module_version": "1.4.0",
      "model_name": "VBoxModel",
      "state": {
       "children": [
        "IPY_MODEL_1dd10244dcae4310a6470d8f07cc4ad0",
        "IPY_MODEL_8555c1352166416ba43b701b7dadf7d4",
        "IPY_MODEL_37fae29ee5ad4c58a9fbba26601496e7",
        "IPY_MODEL_84bd67325a814828a5cd674ccdec992c"
       ],
       "layout": "IPY_MODEL_c50039a912af4834adf2b785d8f2b163"
      }
     },
     "8090b94c205446e2ba608ea2167cd332": {
      "model_module": "@jupyter-widgets/controls",
      "model_module_version": "1.4.0",
      "model_name": "ButtonModel",
      "state": {
       "description": "Klammernotation",
       "layout": "IPY_MODEL_c5a5b8fc7eab4a7aa76785d5b602cf96",
       "style": "IPY_MODEL_4d502529ddf94f279e3500799263d6fc"
      }
     },
     "8090f6538a1745439db3d227f9b8911b": {
      "model_module": "@jupyter-widgets/base",
      "model_module_version": "1.1.0",
      "model_name": "LayoutModel",
      "state": {
       "justify_content": "center"
      }
     },
     "809563fb37de4b659bcdca88626682b8": {
      "model_module": "@jupyter-widgets/base",
      "model_module_version": "1.1.0",
      "model_name": "LayoutModel",
      "state": {
       "width": "600px"
      }
     },
     "809e93b1875a4c1e998d658208f6a222": {
      "model_module": "@jupyter-widgets/base",
      "model_module_version": "1.1.0",
      "model_name": "LayoutModel",
      "state": {}
     },
     "80ae0dcbbd094f9e8142f6f3fad0b2fc": {
      "model_module": "@jupyter-widgets/base",
      "model_module_version": "1.1.0",
      "model_name": "LayoutModel",
      "state": {
       "justify_content": "center"
      }
     },
     "80ca8de5c1be49c99e28fef62a2d9dac": {
      "model_module": "@jupyter-widgets/controls",
      "model_module_version": "1.4.0",
      "model_name": "ButtonModel",
      "state": {
       "description": "Regelsystem",
       "layout": "IPY_MODEL_b01dccb082bc4c6a809e422ca6224f7f",
       "style": "IPY_MODEL_6716e7e217e345b9a08277434ef2af0f"
      }
     },
     "80e8e366437847d69280f8d0f8e33d88": {
      "model_module": "@jupyter-widgets/base",
      "model_module_version": "1.1.0",
      "model_name": "LayoutModel",
      "state": {
       "width": "600px"
      }
     },
     "8115679232314cb3a3bd21d89578024f": {
      "model_module": "@jupyter-widgets/base",
      "model_module_version": "1.1.0",
      "model_name": "LayoutModel",
      "state": {
       "width": "250px"
      }
     },
     "814e6c481e1040bb8250fa5f85901e60": {
      "model_module": "@jupyter-widgets/controls",
      "model_module_version": "1.4.0",
      "model_name": "ButtonModel",
      "state": {
       "description": "Baumdiagramm",
       "layout": "IPY_MODEL_6d4f7b86142e4dbaae71ddb314ee8ee2",
       "style": "IPY_MODEL_d11681c401e14afdb44af15ac1a6905b"
      }
     },
     "815040df2e424d1d92e2ea20c73e8e02": {
      "model_module": "@jupyter-widgets/base",
      "model_module_version": "1.1.0",
      "model_name": "LayoutModel",
      "state": {}
     },
     "81a93b96e5fe41b396cf2c0f52ffbbc8": {
      "model_module": "@jupyter-widgets/base",
      "model_module_version": "1.1.0",
      "model_name": "LayoutModel",
      "state": {}
     },
     "81c73d2155dd41828edeb10e6324274c": {
      "model_module": "@jupyter-widgets/base",
      "model_module_version": "1.1.0",
      "model_name": "LayoutModel",
      "state": {
       "width": "600px"
      }
     },
     "820454d2ecfb47f59c546856fa088c7b": {
      "model_module": "@jupyter-widgets/controls",
      "model_module_version": "1.4.0",
      "model_name": "ButtonStyleModel",
      "state": {}
     },
     "8209c63eee114c9bb10b58568248395e": {
      "model_module": "@jupyter-widgets/base",
      "model_module_version": "1.1.0",
      "model_name": "LayoutModel",
      "state": {
       "width": "600px"
      }
     },
     "8238bdf9a9d349e397338a550b4bec96": {
      "model_module": "@jupyter-widgets/controls",
      "model_module_version": "1.4.0",
      "model_name": "ButtonModel",
      "state": {
       "description": "strukturelle Ambiguität",
       "layout": "IPY_MODEL_96586d2150384e1d9f73dd308f6c67c1",
       "style": "IPY_MODEL_7a781135c3f04b78b6f16db1c42924ce"
      }
     },
     "823b03d0331c4b988f37af0f6ef60d50": {
      "model_module": "@jupyter-widgets/controls",
      "model_module_version": "1.4.0",
      "model_name": "HTMLModel",
      "state": {
       "layout": "IPY_MODEL_eba791abed5b44dcae7c7be93b46d4b4",
       "style": "IPY_MODEL_fcd90fd80e5f44aea9862f787d7a9ae2",
       "value": "<i>Wählen Sie die <ins>eine</ins> korrekte Antwort aus: </i>"
      }
     },
     "823cafc5963142ee8125b8eeabef0e76": {
      "model_module": "@jupyter-widgets/controls",
      "model_module_version": "1.4.0",
      "model_name": "HTMLModel",
      "state": {
       "layout": "IPY_MODEL_809e93b1875a4c1e998d658208f6a222",
       "style": "IPY_MODEL_beb69d88e55342cebfcb40d0217f6324",
       "value": "<h4 style=\"font-size:14px;\">Regularitäten bezieht.</h4>"
      }
     },
     "8246fa110d2b44bea0d8587c973f9713": {
      "model_module": "@jupyter-widgets/controls",
      "model_module_version": "1.4.0",
      "model_name": "DescriptionStyleModel",
      "state": {
       "description_width": ""
      }
     },
     "824a5a21d0b140adb78c74867a93e010": {
      "model_module": "@jupyter-widgets/controls",
      "model_module_version": "1.4.0",
      "model_name": "CheckboxModel",
      "state": {
       "description": "Gerund ist Kopf eines nichtfiniten Teilsatzes",
       "disabled": false,
       "layout": "IPY_MODEL_10fbc6a607e44084b5feb03f528df76f",
       "style": "IPY_MODEL_6e1fe237e678462facfeff449a556642",
       "value": false
      }
     },
     "828d3160e0fc4264a6cdceddf177e487": {
      "model_module": "@jupyter-widgets/base",
      "model_module_version": "1.1.0",
      "model_name": "LayoutModel",
      "state": {
       "width": "600px"
      }
     },
     "8297bb746a864aaf8224883b11378ad9": {
      "model_module": "@jupyter-widgets/controls",
      "model_module_version": "1.4.0",
      "model_name": "ButtonStyleModel",
      "state": {}
     },
     "82b5d648b3d04dc89106e6ac8d4ba3ab": {
      "model_module": "@jupyter-widgets/controls",
      "model_module_version": "1.4.0",
      "model_name": "CheckboxModel",
      "state": {
       "description": "semantische",
       "disabled": false,
       "layout": "IPY_MODEL_04361920d50c43f4a65daa7b34f4804c",
       "style": "IPY_MODEL_b545a69ab457453ba9ef8f6cd240b73d",
       "value": false
      }
     },
     "8359334efba040e286e06993c7fb71bb": {
      "model_module": "@jupyter-widgets/controls",
      "model_module_version": "1.4.0",
      "model_name": "ButtonStyleModel",
      "state": {}
     },
     "8390d61907c44b3db861e687107a6612": {
      "model_module": "@jupyter-widgets/base",
      "model_module_version": "1.1.0",
      "model_name": "LayoutModel",
      "state": {
       "justify_content": "center"
      }
     },
     "83bab8b2c57b4afb8345d51a87c4cc65": {
      "model_module": "@jupyter-widgets/controls",
      "model_module_version": "1.4.0",
      "model_name": "BoxModel",
      "state": {
       "children": [
        "IPY_MODEL_4c3b10b9effd49318c4e831ead37d85a",
        "IPY_MODEL_e74987c0013a41bba429eeae53363066",
        "IPY_MODEL_e767029af65f4a4abedf950a3c6aeab0",
        "IPY_MODEL_c7f11e5ecd174e44b118d102d83c48a2",
        "IPY_MODEL_84c543dc575d43bdbc3e557814da845a"
       ],
       "layout": "IPY_MODEL_aff6759a3f494c5aadd1a7a5bc9a850a"
      }
     },
     "83bc752082014d51a7354ecbf7bda402": {
      "model_module": "@jupyter-widgets/base",
      "model_module_version": "1.1.0",
      "model_name": "LayoutModel",
      "state": {
       "width": "250px"
      }
     },
     "83d26a16e25648a482ec58a5c905348b": {
      "model_module": "@jupyter-widgets/controls",
      "model_module_version": "1.4.0",
      "model_name": "HBoxModel",
      "state": {
       "children": [
        "IPY_MODEL_70cb29b6244e4e8b9313ca93ad54beaa",
        "IPY_MODEL_c52c25facf4542ac8cb823a0f8171847"
       ],
       "layout": "IPY_MODEL_2e4bfd3d0fed49a88dbd41790aae4288"
      }
     },
     "83f3f70b795f4940b1ddbc9cc0800c76": {
      "model_module": "@jupyter-widgets/controls",
      "model_module_version": "1.4.0",
      "model_name": "DescriptionStyleModel",
      "state": {
       "description_width": ""
      }
     },
     "83f7d79238ad4193b5b4d7b1330ddf13": {
      "model_module": "@jupyter-widgets/controls",
      "model_module_version": "1.4.0",
      "model_name": "DescriptionStyleModel",
      "state": {
       "description_width": ""
      }
     },
     "841ac2dbaa1d4700af7013fdd5b702e4": {
      "model_module": "@jupyter-widgets/base",
      "model_module_version": "1.1.0",
      "model_name": "LayoutModel",
      "state": {
       "width": "250px"
      }
     },
     "8474a2f6960c421cab3c6c5c749d6417": {
      "model_module": "@jupyter-widgets/controls",
      "model_module_version": "1.4.0",
      "model_name": "ButtonStyleModel",
      "state": {}
     },
     "847be3c053b54c5a905f467e2f3078a8": {
      "model_module": "@jupyter-widgets/controls",
      "model_module_version": "1.4.0",
      "model_name": "ButtonStyleModel",
      "state": {}
     },
     "848fbd6ec0184d56b22c6eb61ca8d626": {
      "model_module": "@jupyter-widgets/base",
      "model_module_version": "1.1.0",
      "model_name": "LayoutModel",
      "state": {}
     },
     "84bd67325a814828a5cd674ccdec992c": {
      "model_module": "@jupyter-widgets/controls",
      "model_module_version": "1.4.0",
      "model_name": "ButtonModel",
      "state": {
       "description": "Korrekt?",
       "layout": "IPY_MODEL_5069ef2b51724b2eb400a3ea47c38cee",
       "style": "IPY_MODEL_ba4acda5378d4b928467570c658307be"
      }
     },
     "84c19f7466514f779d26e189906d805e": {
      "model_module": "@jupyter-widgets/controls",
      "model_module_version": "1.4.0",
      "model_name": "DescriptionStyleModel",
      "state": {
       "description_width": ""
      }
     },
     "84c50983dab044eca95615f2e80e5279": {
      "model_module": "@jupyter-widgets/controls",
      "model_module_version": "1.4.0",
      "model_name": "DescriptionStyleModel",
      "state": {
       "description_width": ""
      }
     },
     "84c543dc575d43bdbc3e557814da845a": {
      "model_module": "@jupyter-widgets/controls",
      "model_module_version": "1.4.0",
      "model_name": "HTMLModel",
      "state": {
       "layout": "IPY_MODEL_35216bc4120f42b9946aed0ebfb6f2cd",
       "style": "IPY_MODEL_a1885e56829e4dc3a261245bd847597a",
       "value": "<h4 style=\"font-size:14px;\">Regularitäten bezieht.</h4>"
      }
     },
     "84c82db1616e4898bfb456b436c0b215": {
      "model_module": "@jupyter-widgets/base",
      "model_module_version": "1.1.0",
      "model_name": "LayoutModel",
      "state": {}
     },
     "84d7b7bb36924cf4b981987c493a2739": {
      "model_module": "@jupyter-widgets/base",
      "model_module_version": "1.1.0",
      "model_name": "LayoutModel",
      "state": {
       "width": "150px"
      }
     },
     "8526f3896d9a43599678a7b376b1d963": {
      "model_module": "@jupyter-widgets/controls",
      "model_module_version": "1.4.0",
      "model_name": "ButtonModel",
      "state": {
       "description": "Regelsystem",
       "layout": "IPY_MODEL_cf4e89abd4d143bc9e60d74bb9a3ad4c",
       "style": "IPY_MODEL_e1d1fec3af2945a3ac735f7c061b9acb"
      }
     },
     "85430675a74647289085aafe6b128886": {
      "model_module": "@jupyter-widgets/base",
      "model_module_version": "1.1.0",
      "model_name": "LayoutModel",
      "state": {
       "width": "250px"
      }
     },
     "8555c1352166416ba43b701b7dadf7d4": {
      "model_module": "@jupyter-widgets/controls",
      "model_module_version": "1.4.0",
      "model_name": "HTMLModel",
      "state": {
       "layout": "IPY_MODEL_324c9cd31c464e93bdb2cc0f73165a09",
       "style": "IPY_MODEL_e5044f44c0674d359d09273212b5145c",
       "value": "<i>Markieren Sie <ins>alle</ins> passenden Antworten: </i>"
      }
     },
     "85641f3a2dfe402c8989b09f7abd0c2f": {
      "model_module": "@jupyter-widgets/controls",
      "model_module_version": "1.4.0",
      "model_name": "VBoxModel",
      "state": {
       "children": [
        "IPY_MODEL_aef2c6ff1ac0424e81c41705e624ac2f",
        "IPY_MODEL_bf013946cf6f456395e208807bd35ac5",
        "IPY_MODEL_029df399cb1d4824b60bf6c450a33f2b",
        "IPY_MODEL_023c8a6632d84a299fa3c10a3b071bd9"
       ],
       "layout": "IPY_MODEL_48a2f750d3e4495984f356047d7b1264"
      }
     },
     "8599336211824c8b9b68dd8d1fea79af": {
      "model_module": "@jupyter-widgets/base",
      "model_module_version": "1.1.0",
      "model_name": "LayoutModel",
      "state": {
       "width": "250px"
      }
     },
     "862dfe53b7b14849930bc56aab3d51e1": {
      "model_module": "@jupyter-widgets/controls",
      "model_module_version": "1.4.0",
      "model_name": "HTMLModel",
      "state": {
       "layout": "IPY_MODEL_612ebf8e200c4c4cb14f51881788ea65",
       "style": "IPY_MODEL_29266c7f61b24e9f8a0383280bfe1c21",
       "value": "<i>Wählen Sie die <ins>eine</ins> korrekte Antwort aus: </i>"
      }
     },
     "867ad3256069481f8657f6e0d7c0aadd": {
      "model_module": "@jupyter-widgets/controls",
      "model_module_version": "1.4.0",
      "model_name": "ButtonModel",
      "state": {
       "description": "Klammernotation",
       "layout": "IPY_MODEL_c887abcbf7ea4486a4cb659df09ec555",
       "style": "IPY_MODEL_0d6466d7a24442bebd765c35a710c54d"
      }
     },
     "86819a0a0f104ce3a89bc764798591e4": {
      "model_module": "@jupyter-widgets/controls",
      "model_module_version": "1.4.0",
      "model_name": "DescriptionStyleModel",
      "state": {
       "description_width": ""
      }
     },
     "86b3c6273ae44890aa8bf76927f87556": {
      "model_module": "@jupyter-widgets/controls",
      "model_module_version": "1.4.0",
      "model_name": "HTMLModel",
      "state": {
       "layout": "IPY_MODEL_a7167ea495ad42378725f39639be1848",
       "style": "IPY_MODEL_84c19f7466514f779d26e189906d805e",
       "value": "<i>Markieren Sie <ins>alle</ins> passenden Antworten: </i>"
      }
     },
     "86c5780a91cf4528a47119d99d6fdbcf": {
      "model_module": "@jupyter-widgets/base",
      "model_module_version": "1.1.0",
      "model_name": "LayoutModel",
      "state": {}
     },
     "86cfcdf5859e4afbb665ab83594c2caa": {
      "model_module": "@jupyter-widgets/base",
      "model_module_version": "1.1.0",
      "model_name": "LayoutModel",
      "state": {
       "justify_content": "center"
      }
     },
     "86f0c5530e0149c1a59993687ec6ab1b": {
      "model_module": "@jupyter-widgets/controls",
      "model_module_version": "1.4.0",
      "model_name": "HTMLModel",
      "state": {
       "layout": "IPY_MODEL_c5747b963aaa4d70a34603a9ad3ea3aa",
       "style": "IPY_MODEL_2a95065f214245d7b00aa03103f83f65",
       "value": "<h4 style=\"font-size:14px;\">Welche Mittel kommen in einer formalen Syntaxanalyse zum Einsatz?</h4>"
      }
     },
     "86faf294133e482da145bf2b1745e41d": {
      "model_module": "@jupyter-widgets/controls",
      "model_module_version": "1.4.0",
      "model_name": "ButtonStyleModel",
      "state": {}
     },
     "874201be821649e9baac7d7c9edcb8ad": {
      "model_module": "@jupyter-widgets/base",
      "model_module_version": "1.1.0",
      "model_name": "LayoutModel",
      "state": {
       "justify_content": "center"
      }
     },
     "87b4b236399845d6ac6b20acba427335": {
      "model_module": "@jupyter-widgets/controls",
      "model_module_version": "1.4.0",
      "model_name": "HTMLModel",
      "state": {
       "layout": "IPY_MODEL_8a0e4139a35e49d598d045a7097beb5a",
       "style": "IPY_MODEL_88bbb422c87c4943ad42e28e757faa08",
       "value": "<h4 style=\"font-size:14px;\">Die Alternative <code>tree = parser.parse(sent)</code> ist weniger wünschenswert, da im Allgemeinen ________ Parse-Tree möglich ist.</h4>"
      }
     },
     "87b63beeee6c4f5095b2bb1097fc7460": {
      "model_module": "@jupyter-widgets/base",
      "model_module_version": "1.1.0",
      "model_name": "LayoutModel",
      "state": {
       "width": "250px"
      }
     },
     "87c679fcafad44e5a771772097820f1c": {
      "model_module": "@jupyter-widgets/base",
      "model_module_version": "1.1.0",
      "model_name": "LayoutModel",
      "state": {}
     },
     "87d3da41a4b2421ca5212a2cf0da7aea": {
      "model_module": "@jupyter-widgets/controls",
      "model_module_version": "1.4.0",
      "model_name": "HTMLModel",
      "state": {
       "layout": "IPY_MODEL_8390d61907c44b3db861e687107a6612",
       "style": "IPY_MODEL_86819a0a0f104ce3a89bc764798591e4",
       "value": "<i>Wählen Sie die <ins>eine</ins> korrekte Antwort aus: </i>"
      }
     },
     "87fbdbd4393a4913b522eaf9edc72eaa": {
      "model_module": "@jupyter-widgets/controls",
      "model_module_version": "1.4.0",
      "model_name": "ButtonModel",
      "state": {
       "description": "mehr als ein",
       "layout": "IPY_MODEL_b38eb19ed06f4beabe8e2a40ab2ba771",
       "style": "IPY_MODEL_07e7517aeba14b889ff6ca10db89d921"
      }
     },
     "884931a0754047529ed0ba8e5ce051e9": {
      "model_module": "@jupyter-widgets/base",
      "model_module_version": "1.1.0",
      "model_name": "LayoutModel",
      "state": {}
     },
     "886532fde9b64c1ca2d8c7475598c33c": {
      "model_module": "@jupyter-widgets/controls",
      "model_module_version": "1.4.0",
      "model_name": "HBoxModel",
      "state": {
       "children": [
        "IPY_MODEL_8c9b87806f014a0a97315b81bb9c6e76",
        "IPY_MODEL_e1a9b8b0174845fcbff6fd49dba02e06"
       ],
       "layout": "IPY_MODEL_32ec0d1a093943bfa42606878ecb203f"
      }
     },
     "886fa6e435614842984c8cf062a1be4b": {
      "model_module": "@jupyter-widgets/controls",
      "model_module_version": "1.4.0",
      "model_name": "HTMLModel",
      "state": {
       "layout": "IPY_MODEL_fa711b44e3bf410fb092d5da60016a86",
       "style": "IPY_MODEL_e3ed094db8d74f6fb1844b9834532e9a",
       "value": "<h4 style=\"font-size:14px;\">Welcher Grammatikbegriff liegt Satz 1 zugrunde?</h4>"
      }
     },
     "88736f12987147f2936940bc6dcdc5a9": {
      "model_module": "@jupyter-widgets/base",
      "model_module_version": "1.1.0",
      "model_name": "LayoutModel",
      "state": {
       "width": "250px"
      }
     },
     "88907d762fe94ee3a7dbfd27c992d4dc": {
      "model_module": "@jupyter-widgets/controls",
      "model_module_version": "1.4.0",
      "model_name": "DescriptionStyleModel",
      "state": {
       "description_width": ""
      }
     },
     "8891a6226bc64d79b721b58142812def": {
      "model_module": "@jupyter-widgets/controls",
      "model_module_version": "1.4.0",
      "model_name": "HBoxModel",
      "state": {
       "children": [
        "IPY_MODEL_d0798ba7913e41f3a23cdee81fb7c000"
       ],
       "layout": "IPY_MODEL_995ff2188e294aa3af096a405615e20e"
      }
     },
     "88aa3884d80545ab889dbbbd6be64686": {
      "model_module": "@jupyter-widgets/controls",
      "model_module_version": "1.4.0",
      "model_name": "DescriptionStyleModel",
      "state": {
       "description_width": ""
      }
     },
     "88bbb422c87c4943ad42e28e757faa08": {
      "model_module": "@jupyter-widgets/controls",
      "model_module_version": "1.4.0",
      "model_name": "DescriptionStyleModel",
      "state": {
       "description_width": ""
      }
     },
     "88c21e071d684301a0f00f470dd2d750": {
      "model_module": "@jupyter-widgets/controls",
      "model_module_version": "1.4.0",
      "model_name": "CheckboxModel",
      "state": {
       "description": "Morphemebene, Phrasenebene, Satzebene",
       "disabled": false,
       "layout": "IPY_MODEL_2ae5af58844649de88f6383ccc5389ed",
       "style": "IPY_MODEL_2b59a963fa2c4c39b095c1142a386f93",
       "value": false
      }
     },
     "88cd324c4ac3481582a1d9b9a740cbe0": {
      "model_module": "@jupyter-widgets/controls",
      "model_module_version": "1.4.0",
      "model_name": "CheckboxModel",
      "state": {
       "description": "Wohlgeformtheit",
       "disabled": false,
       "layout": "IPY_MODEL_17a2125365fc483488da6db2d2c094de",
       "style": "IPY_MODEL_43badcbe763f49018ef7d9f321b7aed9",
       "value": false
      }
     },
     "88ce62dfef3c49979e9cf7cba9fc0a5c": {
      "model_module": "@jupyter-widgets/base",
      "model_module_version": "1.1.0",
      "model_name": "LayoutModel",
      "state": {
       "width": "250px"
      }
     },
     "88e0fd1d1b114ee8b8916136370a2b74": {
      "model_module": "@jupyter-widgets/base",
      "model_module_version": "1.1.0",
      "model_name": "LayoutModel",
      "state": {
       "justify_content": "center"
      }
     },
     "88ea6ab9d74e4bd4b8c7fcee7d9203b3": {
      "model_module": "@jupyter-widgets/base",
      "model_module_version": "1.1.0",
      "model_name": "LayoutModel",
      "state": {}
     },
     "88f51cb56ffc406bad79738988744bb1": {
      "model_module": "@jupyter-widgets/controls",
      "model_module_version": "1.4.0",
      "model_name": "DescriptionStyleModel",
      "state": {
       "description_width": ""
      }
     },
     "88f56810a1d84b05af5f3cc655025eaf": {
      "model_module": "@jupyter-widgets/base",
      "model_module_version": "1.1.0",
      "model_name": "LayoutModel",
      "state": {
       "width": "250px"
      }
     },
     "893f05760f79451fbdd910d4c9eda0f5": {
      "model_module": "@jupyter-widgets/controls",
      "model_module_version": "1.4.0",
      "model_name": "HTMLModel",
      "state": {
       "layout": "IPY_MODEL_7507f98805ae402cab44be6179ee169e",
       "style": "IPY_MODEL_e83e8646eeeb4e878a3a3bce28e562c8",
       "value": "<i>Markieren Sie <ins>alle</ins> passenden Antworten: </i>"
      }
     },
     "8a0e4139a35e49d598d045a7097beb5a": {
      "model_module": "@jupyter-widgets/base",
      "model_module_version": "1.1.0",
      "model_name": "LayoutModel",
      "state": {
       "justify_content": "center"
      }
     },
     "8a285262ff024dda9445e1dc8f5b2cd8": {
      "model_module": "@jupyter-widgets/controls",
      "model_module_version": "1.4.0",
      "model_name": "ButtonStyleModel",
      "state": {}
     },
     "8a3bb7b29b0d455eb1ba8c28b4e76955": {
      "model_module": "@jupyter-widgets/controls",
      "model_module_version": "1.4.0",
      "model_name": "CheckboxModel",
      "state": {
       "description": "Subjekt-Nominalphrase",
       "disabled": false,
       "layout": "IPY_MODEL_0466eea9174f4f109f6c30b51176829c",
       "style": "IPY_MODEL_622efcbabb1549d3939a1ab6c0c1bac7",
       "value": false
      }
     },
     "8a47a1dbd95f4038b8dbc6e9c6e1ee9a": {
      "model_module": "@jupyter-widgets/base",
      "model_module_version": "1.1.0",
      "model_name": "LayoutModel",
      "state": {
       "width": "600px"
      }
     },
     "8a514999234b4c88991f4065b3a86cab": {
      "model_module": "@jupyter-widgets/base",
      "model_module_version": "1.1.0",
      "model_name": "LayoutModel",
      "state": {
       "width": "250px"
      }
     },
     "8a64eb22acbb4213b3273b791a6bc9e8": {
      "model_module": "@jupyter-widgets/controls",
      "model_module_version": "1.4.0",
      "model_name": "CheckboxModel",
      "state": {
       "description": "Nomen ist Dependent in einem nichtfiniten Teilsatz",
       "disabled": false,
       "layout": "IPY_MODEL_f18663f87838449596909ba290f16d76",
       "style": "IPY_MODEL_d8549f9ddde34b45933f800954d1f3ae",
       "value": false
      }
     },
     "8acd97a545e64c45b94079bb4368cda4": {
      "model_module": "@jupyter-widgets/base",
      "model_module_version": "1.1.0",
      "model_name": "LayoutModel",
      "state": {
       "width": "150px"
      }
     },
     "8aed12741d144b889d2b52f29ea4d349": {
      "model_module": "@jupyter-widgets/base",
      "model_module_version": "1.1.0",
      "model_name": "LayoutModel",
      "state": {
       "justify_content": "center"
      }
     },
     "8aedde5171c8445f871cc99ee791813a": {
      "model_module": "@jupyter-widgets/controls",
      "model_module_version": "1.4.0",
      "model_name": "ButtonModel",
      "state": {
       "description": "Keine der anderen Möglichkeiten",
       "layout": "IPY_MODEL_030d33675c2f4ef8b65e4df50e5126bc",
       "style": "IPY_MODEL_4dfb1ee7b4f84c5fa8c6a85bf0b56662"
      }
     },
     "8b1151e3d304433587fa36ec00c8de96": {
      "model_module": "@jupyter-widgets/controls",
      "model_module_version": "1.4.0",
      "model_name": "VBoxModel",
      "state": {
       "children": [
        "IPY_MODEL_d6bc079b64d24c0fbabb5aeeaa27b4ec",
        "IPY_MODEL_67ac11f779504b6696c37b607728871e",
        "IPY_MODEL_137104af4ca84c00947eb881ed9c407c"
       ],
       "layout": "IPY_MODEL_608071f3f2f947adbf9786ea4a37877e"
      }
     },
     "8b2b757590af4805bf14c19e93f7fb88": {
      "model_module": "@jupyter-widgets/base",
      "model_module_version": "1.1.0",
      "model_name": "LayoutModel",
      "state": {
       "width": "250px"
      }
     },
     "8b3766d8a2d649bf9733dded30f09f81": {
      "model_module": "@jupyter-widgets/controls",
      "model_module_version": "1.4.0",
      "model_name": "HTMLModel",
      "state": {
       "layout": "IPY_MODEL_58920cf8311447b6892926c29b5d5f62",
       "style": "IPY_MODEL_1dc9082a545c422caaba3bdc68c70f6d",
       "value": "<i>Wählen Sie die <ins>eine</ins> korrekte Antwort aus: </i>"
      }
     },
     "8b4bdb40e5d74aacbdcc86c73f7c6bdc": {
      "model_module": "@jupyter-widgets/controls",
      "model_module_version": "1.4.0",
      "model_name": "DropdownModel",
      "state": {
       "_options_labels": [
        "morphologischen",
        "phonologischen",
        "semantischen",
        "syntaktischen",
        " "
       ],
       "index": 4,
       "layout": "IPY_MODEL_7c899657b08341a3b66a9a32ae9e9187",
       "style": "IPY_MODEL_ea710506abf04e07bf478e469d41f190"
      }
     },
     "8b4cef590873435183fd8c4eee773700": {
      "model_module": "@jupyter-widgets/base",
      "model_module_version": "1.1.0",
      "model_name": "LayoutModel",
      "state": {}
     },
     "8b671a3956ce494495984e0068daf5b5": {
      "model_module": "@jupyter-widgets/base",
      "model_module_version": "1.1.0",
      "model_name": "LayoutModel",
      "state": {
       "width": "600px"
      }
     },
     "8b90334bd9074c30b0a3e64ea75a0b6d": {
      "model_module": "@jupyter-widgets/controls",
      "model_module_version": "1.4.0",
      "model_name": "HBoxModel",
      "state": {
       "children": [
        "IPY_MODEL_c860dc9345b5432c96b0984979f29259"
       ],
       "layout": "IPY_MODEL_11ee07e201c94cea9b8c3e570c25a7e3"
      }
     },
     "8bba91e18276469a8fb0b566ce796144": {
      "model_module": "@jupyter-widgets/controls",
      "model_module_version": "1.4.0",
      "model_name": "DescriptionStyleModel",
      "state": {
       "description_width": ""
      }
     },
     "8be8a1dac0154b8685fa4912bfd251be": {
      "model_module": "@jupyter-widgets/base",
      "model_module_version": "1.1.0",
      "model_name": "LayoutModel",
      "state": {
       "width": "250px"
      }
     },
     "8c0445fe90db47caacefa66fb553e717": {
      "model_module": "@jupyter-widgets/base",
      "model_module_version": "1.1.0",
      "model_name": "LayoutModel",
      "state": {}
     },
     "8c1443d607bd45adbc67a0380e2ecd6e": {
      "model_module": "@jupyter-widgets/base",
      "model_module_version": "1.1.0",
      "model_name": "LayoutModel",
      "state": {}
     },
     "8c275182b5474ad287757767c8f852df": {
      "model_module": "@jupyter-widgets/base",
      "model_module_version": "1.1.0",
      "model_name": "LayoutModel",
      "state": {}
     },
     "8c437690634545ce9dd9734a10a43589": {
      "model_module": "@jupyter-widgets/controls",
      "model_module_version": "1.4.0",
      "model_name": "ButtonStyleModel",
      "state": {}
     },
     "8c9b87806f014a0a97315b81bb9c6e76": {
      "model_module": "@jupyter-widgets/controls",
      "model_module_version": "1.4.0",
      "model_name": "ButtonModel",
      "state": {
       "description": "Phrasentyp",
       "layout": "IPY_MODEL_2d0cbb9c8ca6425bb00350f9631782d2",
       "style": "IPY_MODEL_0136433272ee4770960839721fff1af3"
      }
     },
     "8cd70e3b6d8a4722b7b56dc1d147becb": {
      "model_module": "@jupyter-widgets/controls",
      "model_module_version": "1.4.0",
      "model_name": "HBoxModel",
      "state": {
       "children": [
        "IPY_MODEL_3bd069fca9214797b7adf75d132cb54a",
        "IPY_MODEL_98f08a12926e44508fbfd46c1baedb26"
       ],
       "layout": "IPY_MODEL_7fca16f71653421781f3d942803cdbec"
      }
     },
     "8cd76db643a84261bd33fcc5297e52c6": {
      "model_module": "@jupyter-widgets/base",
      "model_module_version": "1.1.0",
      "model_name": "LayoutModel",
      "state": {
       "width": "250px"
      }
     },
     "8d030a09ff5c414789477d5a82366dfe": {
      "model_module": "@jupyter-widgets/controls",
      "model_module_version": "1.4.0",
      "model_name": "HTMLModel",
      "state": {
       "layout": "IPY_MODEL_3a01a8bf139a4adb8b00460ae91ff046",
       "style": "IPY_MODEL_73d209bc3eed44a593531ec93d1f5d22",
       "value": "<i>Wählen Sie die <ins>eine</ins> korrekte Antwort aus: </i>"
      }
     },
     "8d4190e2635d418085e821f3de222165": {
      "model_module": "@jupyter-widgets/controls",
      "model_module_version": "1.4.0",
      "model_name": "HTMLModel",
      "state": {
       "layout": "IPY_MODEL_71d8576dfe9a4bb0ad3dafb5a6176b00",
       "style": "IPY_MODEL_193e68886ab542c48132e0e793bf2c55",
       "value": "<h4 style=\"font-size:14px;\">Zu welcher Phrase kann die Präpositionalphrase \"in my pajamas\" gehören?</h4>"
      }
     },
     "8d82e03e93814983bae71b186aa8edc1": {
      "model_module": "@jupyter-widgets/controls",
      "model_module_version": "1.4.0",
      "model_name": "DescriptionStyleModel",
      "state": {
       "description_width": "initial"
      }
     },
     "8d84238e46a74a01813a95e4483f025a": {
      "model_module": "@jupyter-widgets/controls",
      "model_module_version": "1.4.0",
      "model_name": "ButtonModel",
      "state": {
       "description": "Korrekt?",
       "layout": "IPY_MODEL_0e5077e8e48b45e7be33825304e143dd",
       "style": "IPY_MODEL_c40cd27ac198424e92ce5d40c346cb49"
      }
     },
     "8d8ac83ab7c949a6be7e499625149cc3": {
      "model_module": "@jupyter-widgets/controls",
      "model_module_version": "1.4.0",
      "model_name": "CheckboxModel",
      "state": {
       "description": "semantische",
       "disabled": false,
       "layout": "IPY_MODEL_655a1f679a7c4c9eb1b34537e77b75e1",
       "style": "IPY_MODEL_0e4fbfbede914385aa5fd9d5a9620033",
       "value": false
      }
     },
     "8d92b0e7a12c489891417e60f6f8f5b5": {
      "model_module": "@jupyter-widgets/base",
      "model_module_version": "1.1.0",
      "model_name": "LayoutModel",
      "state": {}
     },
     "8daf624c8f204fd3afb53f41e15cf709": {
      "model_module": "@jupyter-widgets/base",
      "model_module_version": "1.1.0",
      "model_name": "LayoutModel",
      "state": {}
     },
     "8ddc5bc940604c9a9330d0bf30678f1b": {
      "model_module": "@jupyter-widgets/base",
      "model_module_version": "1.1.0",
      "model_name": "LayoutModel",
      "state": {}
     },
     "8e031aea6124410ea31acb763124dcf9": {
      "model_module": "@jupyter-widgets/controls",
      "model_module_version": "1.4.0",
      "model_name": "DescriptionStyleModel",
      "state": {
       "description_width": ""
      }
     },
     "8e21795a22414b2d9ba76290a95fa0cc": {
      "model_module": "@jupyter-widgets/controls",
      "model_module_version": "1.4.0",
      "model_name": "ButtonModel",
      "state": {
       "description": "Korrekt?",
       "layout": "IPY_MODEL_93431ab6fa0a4568b4f942cb507b8719",
       "style": "IPY_MODEL_76de815bc60641fa9e9606d4a6596c35"
      }
     },
     "8e411d1ea8314fad9de81cf8138d63de": {
      "model_module": "@jupyter-widgets/base",
      "model_module_version": "1.1.0",
      "model_name": "LayoutModel",
      "state": {
       "width": "250px"
      }
     },
     "8e660816b7da439f9105105094b2a9e3": {
      "model_module": "@jupyter-widgets/controls",
      "model_module_version": "1.4.0",
      "model_name": "ButtonModel",
      "state": {
       "description": "Baumdiagramm",
       "layout": "IPY_MODEL_d4ed3c8dfcb0462d89ffb399abbf94c4",
       "style": "IPY_MODEL_ebd5efb42ea94b228c71595b4ff9f263"
      }
     },
     "8e77858a1aa440bdb91952802f7bf126": {
      "model_module": "@jupyter-widgets/controls",
      "model_module_version": "1.4.0",
      "model_name": "DescriptionStyleModel",
      "state": {
       "description_width": "initial"
      }
     },
     "8edbf11fb76a4fada8fdaf2991490768": {
      "model_module": "@jupyter-widgets/base",
      "model_module_version": "1.1.0",
      "model_name": "LayoutModel",
      "state": {
       "width": "600px"
      }
     },
     "8ee205b069654536a87e69aae7db01f9": {
      "model_module": "@jupyter-widgets/controls",
      "model_module_version": "1.4.0",
      "model_name": "ButtonModel",
      "state": {
       "description": "Regelbuch",
       "layout": "IPY_MODEL_f65a17afcfc7481e8efde585c26b95ea",
       "style": "IPY_MODEL_5f6c525c32c54740930e37571b135718"
      }
     },
     "8ee364ea781743a0944c695eeb177892": {
      "model_module": "@jupyter-widgets/base",
      "model_module_version": "1.1.0",
      "model_name": "LayoutModel",
      "state": {
       "width": "500px"
      }
     },
     "8f17503c3e2c465bbe329e705224edc8": {
      "model_module": "@jupyter-widgets/controls",
      "model_module_version": "1.4.0",
      "model_name": "HTMLModel",
      "state": {
       "layout": "IPY_MODEL_7f9ded7983414c268444b8fb8f981e88",
       "style": "IPY_MODEL_33db1a33c68544ef97750abbf2280a80",
       "value": "<h4 style=\"font-size:14px;\">Die Alternative <code>tree = parser.parse(sent)</code> ist weniger wünschenswert, da im Allgemeinen ________ Parse-Tree möglich ist.</h4>"
      }
     },
     "8f376da375c447e7b5dbc3d6db1476f5": {
      "model_module": "@jupyter-widgets/controls",
      "model_module_version": "1.4.0",
      "model_name": "ButtonStyleModel",
      "state": {}
     },
     "8f8aecf4fce74f24b50e3a8e2761571c": {
      "model_module": "@jupyter-widgets/controls",
      "model_module_version": "1.4.0",
      "model_name": "ButtonModel",
      "state": {
       "description": "morphologisch ambige Formen",
       "layout": "IPY_MODEL_50d060c773d0471d902d17a38b9d7438",
       "style": "IPY_MODEL_cf0e237033274e08ac9228e8a351b95d"
      }
     },
     "8f93c31067c043b18b2bc2cf0520b6c5": {
      "model_module": "@jupyter-widgets/controls",
      "model_module_version": "1.4.0",
      "model_name": "DescriptionStyleModel",
      "state": {
       "description_width": "initial"
      }
     },
     "8f9eacc9ed804d638980886cbf34cecb": {
      "model_module": "@jupyter-widgets/base",
      "model_module_version": "1.1.0",
      "model_name": "LayoutModel",
      "state": {
       "justify_content": "center"
      }
     },
     "8fe871727e0a462383ef29d8fc8a0513": {
      "model_module": "@jupyter-widgets/controls",
      "model_module_version": "1.4.0",
      "model_name": "DescriptionStyleModel",
      "state": {
       "description_width": ""
      }
     },
     "8fee5ee1076b49d89ef5678f973017b9": {
      "model_module": "@jupyter-widgets/base",
      "model_module_version": "1.1.0",
      "model_name": "LayoutModel",
      "state": {
       "justify_content": "center"
      }
     },
     "9025b14393e646d98103c0aa56c9ff27": {
      "model_module": "@jupyter-widgets/controls",
      "model_module_version": "1.4.0",
      "model_name": "ButtonStyleModel",
      "state": {}
     },
     "9048213b56814cbab97cc8d5fc63cae1": {
      "model_module": "@jupyter-widgets/controls",
      "model_module_version": "1.4.0",
      "model_name": "HTMLModel",
      "state": {
       "layout": "IPY_MODEL_b749af90c3c24c5a8308f1927697bb1d",
       "style": "IPY_MODEL_0fff01bbc129409cae8f97fda824fded",
       "value": "<i>Wählen Sie die <ins>eine</ins> korrekte Antwort aus: </i>"
      }
     },
     "90921eee57f240b79d7687a2b0dbd349": {
      "model_module": "@jupyter-widgets/base",
      "model_module_version": "1.1.0",
      "model_name": "LayoutModel",
      "state": {}
     },
     "90ab0791d3ad4394942359333ee13e14": {
      "model_module": "@jupyter-widgets/controls",
      "model_module_version": "1.4.0",
      "model_name": "VBoxModel",
      "state": {
       "children": [
        "IPY_MODEL_3c6cb38d66de42f994641d8a0e324cd1",
        "IPY_MODEL_8b3766d8a2d649bf9733dded30f09f81",
        "IPY_MODEL_e30e96886bd542a29fa3231d5e53eb14",
        "IPY_MODEL_95a25b9998d64ff285e029cd7f1ab71c",
        "IPY_MODEL_60676e5d0bf441988b53c6a5a4dcaeae"
       ],
       "layout": "IPY_MODEL_53c5c74631784a63b5bdff1184b6ce28"
      }
     },
     "90ed3b1e5b874a1f8fa744a69af2d5bb": {
      "model_module": "@jupyter-widgets/controls",
      "model_module_version": "1.4.0",
      "model_name": "CheckboxModel",
      "state": {
       "description": "Korrektheit",
       "disabled": false,
       "layout": "IPY_MODEL_c7c38608f27a4dac8dc26ac2059aa14f",
       "style": "IPY_MODEL_147ed5d0a6ea4ecfa025ca4a26827901",
       "value": false
      }
     },
     "911abec600334eaf8fa6d9702130caef": {
      "model_module": "@jupyter-widgets/base",
      "model_module_version": "1.1.0",
      "model_name": "LayoutModel",
      "state": {
       "width": "600px"
      }
     },
     "9137ed88979d4007b209e37156b41347": {
      "model_module": "@jupyter-widgets/base",
      "model_module_version": "1.1.0",
      "model_name": "LayoutModel",
      "state": {}
     },
     "913dca3fcd3e44488d4e467753583bd1": {
      "model_module": "@jupyter-widgets/controls",
      "model_module_version": "1.4.0",
      "model_name": "HTMLModel",
      "state": {
       "layout": "IPY_MODEL_9a2bc2e8b3a046b1a6aeda3ea42985c8",
       "style": "IPY_MODEL_cb67d18e83514c2d933ccb6feb4ff4ef",
       "value": "<i>Wählen Sie die <ins>eine</ins> korrekte Antwort aus: </i>"
      }
     },
     "9150cc68f3a04723a948ac0e9a50fc09": {
      "model_module": "@jupyter-widgets/base",
      "model_module_version": "1.1.0",
      "model_name": "LayoutModel",
      "state": {
       "width": "600px"
      }
     },
     "91be48dffadd4d1cbcde5c86b1a8235b": {
      "model_module": "@jupyter-widgets/controls",
      "model_module_version": "1.4.0",
      "model_name": "HTMLModel",
      "state": {
       "layout": "IPY_MODEL_55ecd14c0021465c8c58f922b32758a0",
       "style": "IPY_MODEL_05b6f65274db43d59ab2b243381660f9",
       "value": "<i>Wählen Sie die <ins>eine</ins> korrekte Antwort aus: </i>"
      }
     },
     "91c2c1e6d94645d39b90af7b80626f05": {
      "model_module": "@jupyter-widgets/base",
      "model_module_version": "1.1.0",
      "model_name": "LayoutModel",
      "state": {
       "justify_content": "center"
      }
     },
     "91f2395482c94652b5e61e125048ade4": {
      "model_module": "@jupyter-widgets/controls",
      "model_module_version": "1.4.0",
      "model_name": "CheckboxModel",
      "state": {
       "description": "phonologische",
       "disabled": false,
       "layout": "IPY_MODEL_424089c7aeb24f2da8671c919a58851e",
       "style": "IPY_MODEL_7805a50e5b97460dabcce886a62e9635",
       "value": true
      }
     },
     "9236142c97874f85bd8a3c4c2b6624d9": {
      "model_module": "@jupyter-widgets/controls",
      "model_module_version": "1.4.0",
      "model_name": "DescriptionStyleModel",
      "state": {
       "description_width": ""
      }
     },
     "929c4c1056e8432d925d4988002a0ac0": {
      "model_module": "@jupyter-widgets/controls",
      "model_module_version": "1.4.0",
      "model_name": "DescriptionStyleModel",
      "state": {
       "description_width": ""
      }
     },
     "92bef7a1b99347a1a54b0ee00ad8a18c": {
      "model_module": "@jupyter-widgets/base",
      "model_module_version": "1.1.0",
      "model_name": "LayoutModel",
      "state": {
       "width": "600px"
      }
     },
     "92da909f540d47b0bcbeaad4bf2ddea6": {
      "model_module": "@jupyter-widgets/controls",
      "model_module_version": "1.4.0",
      "model_name": "CheckboxModel",
      "state": {
       "description": "Adverbialphrase",
       "disabled": false,
       "layout": "IPY_MODEL_3e1e76892f894c2d8846cc7e82257f44",
       "style": "IPY_MODEL_3e57c255a3ad46c3ac0de8580f581416",
       "value": false
      }
     },
     "93431ab6fa0a4568b4f942cb507b8719": {
      "model_module": "@jupyter-widgets/base",
      "model_module_version": "1.1.0",
      "model_name": "LayoutModel",
      "state": {
       "width": "250px"
      }
     },
     "93571ec7d53f4a4fbcdbde21b1c67412": {
      "model_module": "@jupyter-widgets/base",
      "model_module_version": "1.1.0",
      "model_name": "LayoutModel",
      "state": {}
     },
     "936988a6be5b4d6cbc8c28206d7b1f41": {
      "model_module": "@jupyter-widgets/base",
      "model_module_version": "1.1.0",
      "model_name": "LayoutModel",
      "state": {
       "width": "250px"
      }
     },
     "936e1fcb1827421b9f228edd23d07907": {
      "model_module": "@jupyter-widgets/base",
      "model_module_version": "1.1.0",
      "model_name": "LayoutModel",
      "state": {}
     },
     "9419bcf5d1f449d1b18d861d764547f7": {
      "model_module": "@jupyter-widgets/controls",
      "model_module_version": "1.4.0",
      "model_name": "DescriptionStyleModel",
      "state": {
       "description_width": "initial"
      }
     },
     "94357312c1514bff945d75ffa94ad609": {
      "model_module": "@jupyter-widgets/controls",
      "model_module_version": "1.4.0",
      "model_name": "HTMLModel",
      "state": {
       "layout": "IPY_MODEL_bbdb0ead6c724844b8e9007dce6378ef",
       "style": "IPY_MODEL_e0190ef3e4234b1aa5d15a35fc5ab018",
       "value": "<i>Markieren Sie <ins>alle</ins> passenden Antworten: </i>"
      }
     },
     "945cd5ac055f4236837de1b236c23288": {
      "model_module": "@jupyter-widgets/base",
      "model_module_version": "1.1.0",
      "model_name": "LayoutModel",
      "state": {
       "width": "250px"
      }
     },
     "949023751983482ab4d6303b6a398582": {
      "model_module": "@jupyter-widgets/controls",
      "model_module_version": "1.4.0",
      "model_name": "ButtonModel",
      "state": {
       "description": "Keine der anderen Möglichkeiten",
       "layout": "IPY_MODEL_7808e77da7c94088926e16b6b6935ad3",
       "style": "IPY_MODEL_e9467c25fe6d4a8b8e4154d7e2846ba0"
      }
     },
     "94cdbdc154914d1983460911ba8e5cc7": {
      "model_module": "@jupyter-widgets/base",
      "model_module_version": "1.1.0",
      "model_name": "LayoutModel",
      "state": {}
     },
     "94ddbc9069174acfb711e981cb789729": {
      "model_module": "@jupyter-widgets/base",
      "model_module_version": "1.1.0",
      "model_name": "LayoutModel",
      "state": {
       "width": "250px"
      }
     },
     "94e219b5b0ef4e20b2ede733caa4c043": {
      "model_module": "@jupyter-widgets/base",
      "model_module_version": "1.1.0",
      "model_name": "LayoutModel",
      "state": {
       "width": "600px"
      }
     },
     "9516063b947b4a8b9c8610fd26b17c27": {
      "model_module": "@jupyter-widgets/base",
      "model_module_version": "1.1.0",
      "model_name": "LayoutModel",
      "state": {
       "width": "250px"
      }
     },
     "95a25b9998d64ff285e029cd7f1ab71c": {
      "model_module": "@jupyter-widgets/controls",
      "model_module_version": "1.4.0",
      "model_name": "HBoxModel",
      "state": {
       "children": [
        "IPY_MODEL_0211c59fa95345b39e126621a8415679",
        "IPY_MODEL_7761027fe66b496f8bc0aa051e3df738"
       ],
       "layout": "IPY_MODEL_4a0c7b4c6b474f3b950546bcb42c3cd7"
      }
     },
     "95e306db8f9a42aaae0661488cf1098b": {
      "model_module": "@jupyter-widgets/controls",
      "model_module_version": "1.4.0",
      "model_name": "HTMLModel",
      "state": {
       "layout": "IPY_MODEL_6f5e35aa475146489bb43a98fff6e9ed",
       "style": "IPY_MODEL_ba059278f50148da8d81c3962f670453",
       "value": "<i>Markieren Sie <ins>alle</ins> passenden Antworten: </i>"
      }
     },
     "95e8919b1c5a4338b5827a94b95a67d6": {
      "model_module": "@jupyter-widgets/controls",
      "model_module_version": "1.4.0",
      "model_name": "DescriptionStyleModel",
      "state": {
       "description_width": "initial"
      }
     },
     "96053075299d4dfb9491b24c6e76a9ea": {
      "model_module": "@jupyter-widgets/controls",
      "model_module_version": "1.4.0",
      "model_name": "ButtonModel",
      "state": {
       "description": "Phrasenstruktur",
       "layout": "IPY_MODEL_1d499df393e54718aa90674087fa8dcb",
       "style": "IPY_MODEL_3d603eb456464e3089e625713363aa99"
      }
     },
     "96151efdc4d240438acef4cc84e81f9e": {
      "model_module": "@jupyter-widgets/controls",
      "model_module_version": "1.4.0",
      "model_name": "DescriptionStyleModel",
      "state": {
       "description_width": "initial"
      }
     },
     "96322164498244579de8b72db74b40b1": {
      "model_module": "@jupyter-widgets/controls",
      "model_module_version": "1.4.0",
      "model_name": "ButtonStyleModel",
      "state": {
       "button_color": "lightgreen"
      }
     },
     "9644eed446ed43e5a85b349cea9bb430": {
      "model_module": "@jupyter-widgets/controls",
      "model_module_version": "1.4.0",
      "model_name": "ButtonStyleModel",
      "state": {}
     },
     "96573650bad14669bb98ffad70331fad": {
      "model_module": "@jupyter-widgets/base",
      "model_module_version": "1.1.0",
      "model_name": "LayoutModel",
      "state": {}
     },
     "96586d2150384e1d9f73dd308f6c67c1": {
      "model_module": "@jupyter-widgets/base",
      "model_module_version": "1.1.0",
      "model_name": "LayoutModel",
      "state": {
       "width": "250px"
      }
     },
     "96637b497a9c4de2a79aaaf6410fe88f": {
      "model_module": "@jupyter-widgets/controls",
      "model_module_version": "1.4.0",
      "model_name": "HTMLModel",
      "state": {
       "layout": "IPY_MODEL_2546fe2a30dc46f5b29fdc2c8039a595",
       "style": "IPY_MODEL_1c26bf946f2045bf8b74365c847d6f69",
       "value": "<h4 style=\"font-size:14px;\">Welcher Grammatikbegriff liegt Satz 3 zugrunde?</h4>"
      }
     },
     "967b47e7dd6d4c94b5053a4b8faceded": {
      "model_module": "@jupyter-widgets/controls",
      "model_module_version": "1.4.0",
      "model_name": "HBoxModel",
      "state": {
       "children": [
        "IPY_MODEL_031881b4669c417d9334bde8be395dc5"
       ],
       "layout": "IPY_MODEL_ef38d4be22bb46c8837361ac270a076a"
      }
     },
     "967e31ca59cc46bb8eaebf1d95577579": {
      "model_module": "@jupyter-widgets/controls",
      "model_module_version": "1.4.0",
      "model_name": "DescriptionStyleModel",
      "state": {
       "description_width": "initial"
      }
     },
     "969243939017447190692d129581ea98": {
      "model_module": "@jupyter-widgets/controls",
      "model_module_version": "1.4.0",
      "model_name": "ButtonStyleModel",
      "state": {}
     },
     "969b5ce466194de3ba9c90671d2b99ba": {
      "model_module": "@jupyter-widgets/controls",
      "model_module_version": "1.4.0",
      "model_name": "ButtonModel",
      "state": {
       "description": "Theorie der Sprachstruktur",
       "layout": "IPY_MODEL_c2e734a112a549d68b3404160ea2240a",
       "style": "IPY_MODEL_f5d0cf87e68d48249e8dbf0e2a1bb30b"
      }
     },
     "96d09da32ce042f4a33644d8e2515036": {
      "model_module": "@jupyter-widgets/base",
      "model_module_version": "1.1.0",
      "model_name": "LayoutModel",
      "state": {
       "width": "250px"
      }
     },
     "96de91c8ab184d02a74b2431cd47fb6e": {
      "model_module": "@jupyter-widgets/controls",
      "model_module_version": "1.4.0",
      "model_name": "CheckboxModel",
      "state": {
       "description": "Konstituentenbaum mit Phrasenlabels als Knoten",
       "disabled": false,
       "layout": "IPY_MODEL_589ee874ddcf49868a2a71348896be9c",
       "style": "IPY_MODEL_a490f72f3953409499ac88df5a3667cb",
       "value": true
      }
     },
     "97139628b7064d21b59c81c301ecac4c": {
      "model_module": "@jupyter-widgets/base",
      "model_module_version": "1.1.0",
      "model_name": "LayoutModel",
      "state": {
       "width": "250px"
      }
     },
     "971529215a8a4bca8b60a8ca633e29e3": {
      "model_module": "@jupyter-widgets/base",
      "model_module_version": "1.1.0",
      "model_name": "LayoutModel",
      "state": {}
     },
     "971b85db84954a679447780dbbbfadd6": {
      "model_module": "@jupyter-widgets/controls",
      "model_module_version": "1.4.0",
      "model_name": "VBoxModel",
      "state": {
       "children": [
        "IPY_MODEL_8f17503c3e2c465bbe329e705224edc8",
        "IPY_MODEL_b7c6ac1eaf22444da84a7d67f7b73815",
        "IPY_MODEL_3d1b475e278b478c83514855bd72a67f"
       ],
       "layout": "IPY_MODEL_b4e807bdf1484c82913c8053aaf9c44f"
      }
     },
     "972d104ae91b4fd3a8dc65e111806129": {
      "model_module": "@jupyter-widgets/controls",
      "model_module_version": "1.4.0",
      "model_name": "ButtonModel",
      "state": {
       "description": "Abhängigkeitsstruktur",
       "layout": "IPY_MODEL_5809f3e5eaf04f8895b9d7033d500431",
       "style": "IPY_MODEL_08d3cdc918454d9d916ba4afe79512f7"
      }
     },
     "97803996707643b8b00f64c102f2183f": {
      "model_module": "@jupyter-widgets/controls",
      "model_module_version": "1.4.0",
      "model_name": "ButtonStyleModel",
      "state": {}
     },
     "97d5ecb8daf34ae9acee1a7c0c82836c": {
      "model_module": "@jupyter-widgets/controls",
      "model_module_version": "1.4.0",
      "model_name": "ButtonModel",
      "state": {
       "description": "Keine der anderen Möglichkeiten",
       "layout": "IPY_MODEL_525a459dc6c64c7f8a74548ebad41123",
       "style": "IPY_MODEL_2e8c1c05961e428191e8bb6bcd91b919"
      }
     },
     "97ea1c1a443242b4901325b77b4a36ef": {
      "model_module": "@jupyter-widgets/controls",
      "model_module_version": "1.4.0",
      "model_name": "ButtonModel",
      "state": {
       "description": "Regelbuch",
       "layout": "IPY_MODEL_25ad3f987441467da0555193a4023e11",
       "style": "IPY_MODEL_49a2d6068a814bb39bce305483fbc4bb"
      }
     },
     "98110085a5b944b0ae2495327c9182c0": {
      "model_module": "@jupyter-widgets/base",
      "model_module_version": "1.1.0",
      "model_name": "LayoutModel",
      "state": {}
     },
     "981efc61259b42f8a29aa874fe5a63fe": {
      "model_module": "@jupyter-widgets/base",
      "model_module_version": "1.1.0",
      "model_name": "LayoutModel",
      "state": {
       "width": "250px"
      }
     },
     "982b2f74e63b4cfaa2a811e577f775b8": {
      "model_module": "@jupyter-widgets/controls",
      "model_module_version": "1.4.0",
      "model_name": "BoxModel",
      "state": {
       "children": [
        "IPY_MODEL_6c134c7b76fd4513945567b5e0989e5f",
        "IPY_MODEL_dcccb5bb0c9b4e3e8d46f095bbfa6a11",
        "IPY_MODEL_c7b4339f66d248f3a2517b13678b1920",
        "IPY_MODEL_8b4bdb40e5d74aacbdcc86c73f7c6bdc",
        "IPY_MODEL_b49c3071b27d4e27938b76af3051c052"
       ],
       "layout": "IPY_MODEL_43a5045a8fc1464ea886059f78043f42"
      }
     },
     "985074167f0e471d89b7315cfe2925e1": {
      "model_module": "@jupyter-widgets/controls",
      "model_module_version": "1.4.0",
      "model_name": "DescriptionStyleModel",
      "state": {
       "description_width": ""
      }
     },
     "9860884981654223ad4d7d662887bc88": {
      "model_module": "@jupyter-widgets/base",
      "model_module_version": "1.1.0",
      "model_name": "LayoutModel",
      "state": {
       "width": "250px"
      }
     },
     "98a015434eb14603971f8ddaacc1fc70": {
      "model_module": "@jupyter-widgets/controls",
      "model_module_version": "1.4.0",
      "model_name": "DescriptionStyleModel",
      "state": {
       "description_width": ""
      }
     },
     "98f08a12926e44508fbfd46c1baedb26": {
      "model_module": "@jupyter-widgets/controls",
      "model_module_version": "1.4.0",
      "model_name": "ButtonModel",
      "state": {
       "description": "Regelsystem",
       "layout": "IPY_MODEL_bcd62fa289464920ba26373e1301ae30",
       "style": "IPY_MODEL_0c86d1a8dd1c4e2b9a1dbcc090750b1a"
      }
     },
     "98f268bd11ab403fa1becf95b4d3a8ed": {
      "model_module": "@jupyter-widgets/controls",
      "model_module_version": "1.4.0",
      "model_name": "ButtonModel",
      "state": {
       "description": "formale Grammatik + Parser",
       "layout": "IPY_MODEL_7aa08f48424b4a05a3ccc4a5d19ebca1",
       "style": "IPY_MODEL_f673ae61b3e34471bfeff90a93685f43"
      }
     },
     "9910b46a9dd84456ba1a7f37b5be299f": {
      "model_module": "@jupyter-widgets/base",
      "model_module_version": "1.1.0",
      "model_name": "LayoutModel",
      "state": {}
     },
     "991f24fd52614e49beba38343ad706a4": {
      "model_module": "@jupyter-widgets/controls",
      "model_module_version": "1.4.0",
      "model_name": "VBoxModel",
      "state": {
       "children": [
        "IPY_MODEL_319532e9722b4cb6be9144e1e1df4363",
        "IPY_MODEL_1d6851589eff47f2bbfeb6cfb8e103f1",
        "IPY_MODEL_e04b0add3fb844a1b744855d3a87783a"
       ],
       "layout": "IPY_MODEL_c7a0c1367d764ec6a557f479d00d541f"
      }
     },
     "99579bb30a3946af90bff49310fd918a": {
      "model_module": "@jupyter-widgets/controls",
      "model_module_version": "1.4.0",
      "model_name": "ButtonStyleModel",
      "state": {}
     },
     "995ff2188e294aa3af096a405615e20e": {
      "model_module": "@jupyter-widgets/base",
      "model_module_version": "1.1.0",
      "model_name": "LayoutModel",
      "state": {}
     },
     "99df5335ea254f7da18ecc51bb9c643b": {
      "model_module": "@jupyter-widgets/controls",
      "model_module_version": "1.4.0",
      "model_name": "HBoxModel",
      "state": {
       "children": [
        "IPY_MODEL_969b5ce466194de3ba9c90671d2b99ba",
        "IPY_MODEL_7348bfbf065f4c37b84ae3b5a4be46e5"
       ],
       "layout": "IPY_MODEL_45f4c3bc6c4b4648915025092a08f3cd"
      }
     },
     "99f16f40a0db46ec8e72f61eb511c24e": {
      "model_module": "@jupyter-widgets/controls",
      "model_module_version": "1.4.0",
      "model_name": "ButtonStyleModel",
      "state": {}
     },
     "9a0b5946cf994037ad585d3c7234ff00": {
      "model_module": "@jupyter-widgets/controls",
      "model_module_version": "1.4.0",
      "model_name": "ButtonModel",
      "state": {
       "description": "Wissen um Sprachstruktur",
       "layout": "IPY_MODEL_803ccd26170b49209a539ba62507b2f3",
       "style": "IPY_MODEL_8474a2f6960c421cab3c6c5c749d6417"
      }
     },
     "9a1eb56d4a044d84ba024f46da471186": {
      "model_module": "@jupyter-widgets/base",
      "model_module_version": "1.1.0",
      "model_name": "LayoutModel",
      "state": {}
     },
     "9a2bc2e8b3a046b1a6aeda3ea42985c8": {
      "model_module": "@jupyter-widgets/base",
      "model_module_version": "1.1.0",
      "model_name": "LayoutModel",
      "state": {
       "justify_content": "center"
      }
     },
     "9a4091d8c4484682ba5fc03105ef5a8b": {
      "model_module": "@jupyter-widgets/controls",
      "model_module_version": "1.4.0",
      "model_name": "HTMLModel",
      "state": {
       "layout": "IPY_MODEL_186b6262458d45d9b8246dc135c768a2",
       "style": "IPY_MODEL_df865c3ac0f54a799aa52f0e9307d757",
       "value": "<i>Wählen Sie die <ins>eine</ins> korrekte Antwort aus: </i>"
      }
     },
     "9a957eccf112413eb7439b22260e44a9": {
      "model_module": "@jupyter-widgets/base",
      "model_module_version": "1.1.0",
      "model_name": "LayoutModel",
      "state": {}
     },
     "9ab5f0663e0942e8b2b32e8939c652f2": {
      "model_module": "@jupyter-widgets/base",
      "model_module_version": "1.1.0",
      "model_name": "LayoutModel",
      "state": {
       "width": "250px"
      }
     },
     "9ab926f89c924fa193aee1f18b6a5c41": {
      "model_module": "@jupyter-widgets/controls",
      "model_module_version": "1.4.0",
      "model_name": "DropdownModel",
      "state": {
       "_options_labels": [
        "Oberbegriff",
        "Synonym",
        "Teilbereich",
        " "
       ],
       "index": 2,
       "layout": "IPY_MODEL_84d7b7bb36924cf4b981987c493a2739",
       "style": "IPY_MODEL_985074167f0e471d89b7315cfe2925e1"
      }
     },
     "9b1828e09b9a4e8dbea7356fd14f50f1": {
      "model_module": "@jupyter-widgets/controls",
      "model_module_version": "1.4.0",
      "model_name": "VBoxModel",
      "state": {
       "children": [
        "IPY_MODEL_ac3092fc540e41e9a89caaf44f69ac4a",
        "IPY_MODEL_7f8d8183195d4eaba98a4d6c691b1527",
        "IPY_MODEL_c8a491c10e9a4cb3bb9aa55ace222002",
        "IPY_MODEL_052de710f01d4f53a8bbe5ff0f786857"
       ],
       "layout": "IPY_MODEL_3c3cdd6988aa42c3b5a5ea7ee916e8a9"
      }
     },
     "9b1f2a3fe23a447aaf9d08fc15c43953": {
      "model_module": "@jupyter-widgets/controls",
      "model_module_version": "1.4.0",
      "model_name": "DropdownModel",
      "state": {
       "_options_labels": [
        "Morphem",
        "Symbol",
        "Wort",
        " "
       ],
       "index": 2,
       "layout": "IPY_MODEL_4bf5acd4ad634cbfa310610cd7721ad7",
       "style": "IPY_MODEL_fc266fa2eab94ce99277ebbd0efa4595"
      }
     },
     "9b23dcfa62694bb7b26ea6ba7d9aa72d": {
      "model_module": "@jupyter-widgets/base",
      "model_module_version": "1.1.0",
      "model_name": "LayoutModel",
      "state": {
       "justify_content": "center"
      }
     },
     "9b4aba59c3f14532896cb6cd1848cb3a": {
      "model_module": "@jupyter-widgets/base",
      "model_module_version": "1.1.0",
      "model_name": "LayoutModel",
      "state": {}
     },
     "9b58b797677d4ba1a581c1c66a940fcb": {
      "model_module": "@jupyter-widgets/controls",
      "model_module_version": "1.4.0",
      "model_name": "DescriptionStyleModel",
      "state": {
       "description_width": ""
      }
     },
     "9b63a3dd5dcd4098a698f647b56d0055": {
      "model_module": "@jupyter-widgets/base",
      "model_module_version": "1.1.0",
      "model_name": "LayoutModel",
      "state": {
       "justify_content": "center"
      }
     },
     "9b7c5b710514499baa566d4d4ac8dfbd": {
      "model_module": "@jupyter-widgets/base",
      "model_module_version": "1.1.0",
      "model_name": "LayoutModel",
      "state": {}
     },
     "9b9d86565a1244868b1f9a3ef16df65b": {
      "model_module": "@jupyter-widgets/controls",
      "model_module_version": "1.4.0",
      "model_name": "CheckboxModel",
      "state": {
       "description": "Nomen ist Dependent einer NP-Phrase",
       "disabled": false,
       "layout": "IPY_MODEL_b863df5deff4447284d4b10c0c487b7f",
       "style": "IPY_MODEL_8f93c31067c043b18b2bc2cf0520b6c5",
       "value": false
      }
     },
     "9c0979da5dc64d489c24a15dec4564e2": {
      "model_module": "@jupyter-widgets/controls",
      "model_module_version": "1.4.0",
      "model_name": "ButtonStyleModel",
      "state": {}
     },
     "9c27b0f5d1434c889bfc462aeb1bf250": {
      "model_module": "@jupyter-widgets/controls",
      "model_module_version": "1.4.0",
      "model_name": "VBoxModel",
      "state": {
       "children": [
        "IPY_MODEL_92da909f540d47b0bcbeaad4bf2ddea6",
        "IPY_MODEL_af1b8a8c6e6f49d187e9586fb22ad6f7",
        "IPY_MODEL_279115e0a3a647c482b376853081fa15",
        "IPY_MODEL_094b368f9a424ad1aa9277fb045ee84c",
        "IPY_MODEL_566213c9fbc64e9a8856be6f5368d83e"
       ],
       "layout": "IPY_MODEL_77cc030fc08d41559772d995ecb185ec"
      }
     },
     "9c4a6ac1181e4a169500e37fd02189e1": {
      "model_module": "@jupyter-widgets/base",
      "model_module_version": "1.1.0",
      "model_name": "LayoutModel",
      "state": {}
     },
     "9c6712167ef3432abee95b87cfa07844": {
      "model_module": "@jupyter-widgets/base",
      "model_module_version": "1.1.0",
      "model_name": "LayoutModel",
      "state": {}
     },
     "9c70e9ca703d4a33a67c4de73a21119b": {
      "model_module": "@jupyter-widgets/base",
      "model_module_version": "1.1.0",
      "model_name": "LayoutModel",
      "state": {
       "width": "250px"
      }
     },
     "9cb6b6c4c0644884a17b3e05231a72da": {
      "model_module": "@jupyter-widgets/base",
      "model_module_version": "1.1.0",
      "model_name": "LayoutModel",
      "state": {
       "justify_content": "center"
      }
     },
     "9cb932819b0340d4bbdb6c9d6b23dede": {
      "model_module": "@jupyter-widgets/base",
      "model_module_version": "1.1.0",
      "model_name": "LayoutModel",
      "state": {}
     },
     "9cc60a18e9f04651b615f7544c31aef8": {
      "model_module": "@jupyter-widgets/controls",
      "model_module_version": "1.4.0",
      "model_name": "ButtonStyleModel",
      "state": {}
     },
     "9d36d9472cc649c4a9057c94555b1ea9": {
      "model_module": "@jupyter-widgets/controls",
      "model_module_version": "1.4.0",
      "model_name": "ButtonModel",
      "state": {
       "description": "genau ein",
       "layout": "IPY_MODEL_7c0835706f984848aebfac78fbafa77e",
       "style": "IPY_MODEL_0235a71386164d1ca86a16d122979bef"
      }
     },
     "9d422d35d6ce40629a33fc0136859131": {
      "model_module": "@jupyter-widgets/base",
      "model_module_version": "1.1.0",
      "model_name": "LayoutModel",
      "state": {}
     },
     "9d48bdee7a6a495eaae1ce8b59cfbb9e": {
      "model_module": "@jupyter-widgets/base",
      "model_module_version": "1.1.0",
      "model_name": "LayoutModel",
      "state": {
       "width": "600px"
      }
     },
     "9d73251c6d6f4346a3fffb95ed8bac94": {
      "model_module": "@jupyter-widgets/controls",
      "model_module_version": "1.4.0",
      "model_name": "HTMLModel",
      "state": {
       "layout": "IPY_MODEL_612c60babcc04310978e979d12cd9afb",
       "style": "IPY_MODEL_2919120f6f7c4af89c1d303f04385d4f",
       "value": "<h4 style=\"font-size:14px;\">Was ist der Fall, wenn die PP ein Attribut ist?</h4>"
      }
     },
     "9d77411230a84798885f5d182ca0a5a6": {
      "model_module": "@jupyter-widgets/base",
      "model_module_version": "1.1.0",
      "model_name": "LayoutModel",
      "state": {}
     },
     "9d8799cb16c743ca92092b750b5430c2": {
      "model_module": "@jupyter-widgets/controls",
      "model_module_version": "1.4.0",
      "model_name": "DescriptionStyleModel",
      "state": {
       "description_width": ""
      }
     },
     "9da669ca52f149118ecc9d9ae08f6d5c": {
      "model_module": "@jupyter-widgets/controls",
      "model_module_version": "1.4.0",
      "model_name": "DescriptionStyleModel",
      "state": {
       "description_width": ""
      }
     },
     "9df6186eada14dbdbfe586bdc4d589ba": {
      "model_module": "@jupyter-widgets/controls",
      "model_module_version": "1.4.0",
      "model_name": "ButtonModel",
      "state": {
       "description": "Theorie der Sprachstruktur",
       "layout": "IPY_MODEL_8a514999234b4c88991f4065b3a86cab",
       "style": "IPY_MODEL_04b913ded6c34ff59620c2e8af4f3126"
      }
     },
     "9dfb8efedd4645cfad232cb2f6ce40a8": {
      "model_module": "@jupyter-widgets/controls",
      "model_module_version": "1.4.0",
      "model_name": "HTMLModel",
      "state": {
       "layout": "IPY_MODEL_d3e0960f6db4491989245978bae12a14",
       "style": "IPY_MODEL_a3c2f8a9c18449e59de890454fb474dc",
       "value": "<i>Wählen Sie die <ins>eine</ins> korrekte Antwort aus: </i>"
      }
     },
     "9e026334cd004a679b73f0fafd4975cd": {
      "model_module": "@jupyter-widgets/base",
      "model_module_version": "1.1.0",
      "model_name": "LayoutModel",
      "state": {}
     },
     "9e6a580b2b99432ab94f5751bc17adea": {
      "model_module": "@jupyter-widgets/controls",
      "model_module_version": "1.4.0",
      "model_name": "HTMLModel",
      "state": {
       "layout": "IPY_MODEL_5e3489b17eac4d47ba1c2a86071cd5f3",
       "style": "IPY_MODEL_b26dc5e874bf48a59ffbf325bbf36dab",
       "value": "<h4 style=\"font-size:14px;\">Welche Typen von Syntaxbäumen (auch: Parsebäume, Ableitungsbäume) wurden gezeigt?</h4>"
      }
     },
     "9e6d77a116d94bbf85455ff20d43cbd6": {
      "model_module": "@jupyter-widgets/controls",
      "model_module_version": "1.4.0",
      "model_name": "DescriptionStyleModel",
      "state": {
       "description_width": ""
      }
     },
     "9e7f7afb7a4243bd8b0a23d8ce12d13e": {
      "model_module": "@jupyter-widgets/controls",
      "model_module_version": "1.4.0",
      "model_name": "CheckboxModel",
      "state": {
       "description": "Synonymie",
       "disabled": false,
       "layout": "IPY_MODEL_aba02c446514424698bea10b33d8f465",
       "style": "IPY_MODEL_e4391de87cfd41dba58521628f67d133",
       "value": false
      }
     },
     "9e89fe48331147218f86beab7e160470": {
      "model_module": "@jupyter-widgets/base",
      "model_module_version": "1.1.0",
      "model_name": "LayoutModel",
      "state": {}
     },
     "9e8cf958410546b98cd8b4f79adcb5ba": {
      "model_module": "@jupyter-widgets/controls",
      "model_module_version": "1.4.0",
      "model_name": "VBoxModel",
      "state": {
       "children": [
        "IPY_MODEL_4e797ec51f12474daba4d2772beee08b",
        "IPY_MODEL_5eb3170d4f8f4c89a7d4fe4dc63bc5bd",
        "IPY_MODEL_ec5a23046c3a474193f10a8cdd01ae0f"
       ],
       "layout": "IPY_MODEL_c595afca12db4d7b826294f549374f72"
      }
     },
     "9e8f48f0543d4bbda368801a8c0dee4a": {
      "model_module": "@jupyter-widgets/controls",
      "model_module_version": "1.4.0",
      "model_name": "VBoxModel",
      "state": {
       "children": [
        "IPY_MODEL_538ef35056c744e1bf1023a7af82d775",
        "IPY_MODEL_cd94e11b3f86403cb257827049d4619c",
        "IPY_MODEL_5522d6c208c64543b5a97dcc94dfd575",
        "IPY_MODEL_e52cf6b6e80f41a9ba864a84ba6a29a0"
       ],
       "layout": "IPY_MODEL_e3018364e3b84dbfa74840fcb29ca12b"
      }
     },
     "9eabe1f92c4b40e6ac73607ab09a98b8": {
      "model_module": "@jupyter-widgets/controls",
      "model_module_version": "1.4.0",
      "model_name": "HTMLModel",
      "state": {
       "layout": "IPY_MODEL_bf1be74546cf48fcbea9e8060bffa82d",
       "style": "IPY_MODEL_59276e9e284149c1bc250234e239ad10",
       "value": "<i>Wählen Sie die <ins>eine</ins> korrekte Antwort aus: </i>"
      }
     },
     "9eb50c46c92a46048f33d6b645d4e032": {
      "model_module": "@jupyter-widgets/base",
      "model_module_version": "1.1.0",
      "model_name": "LayoutModel",
      "state": {}
     },
     "9ebdcaa188f042c8893a8f3c7a2942eb": {
      "model_module": "@jupyter-widgets/controls",
      "model_module_version": "1.4.0",
      "model_name": "DescriptionStyleModel",
      "state": {
       "description_width": ""
      }
     },
     "9ebf19d2c2aa42c18a8b313947e05822": {
      "model_module": "@jupyter-widgets/base",
      "model_module_version": "1.1.0",
      "model_name": "LayoutModel",
      "state": {
       "justify_content": "center"
      }
     },
     "9f216f7577e746af922e5dd76bbbf95a": {
      "model_module": "@jupyter-widgets/controls",
      "model_module_version": "1.4.0",
      "model_name": "VBoxModel",
      "state": {
       "children": [
        "IPY_MODEL_824a5a21d0b140adb78c74867a93e010",
        "IPY_MODEL_9b9d86565a1244868b1f9a3ef16df65b",
        "IPY_MODEL_1b25b7ad796748ac8895f4db250895bf",
        "IPY_MODEL_c59986b30cab4180af56bc56265729e7"
       ],
       "layout": "IPY_MODEL_a869065575c7436f8a7bd629e182ebb5"
      }
     },
     "9f3f29ecb19044d1acedc0c8dd559f9c": {
      "model_module": "@jupyter-widgets/base",
      "model_module_version": "1.1.0",
      "model_name": "LayoutModel",
      "state": {}
     },
     "9f95fe63235f46519d9adb0dabfcfe32": {
      "model_module": "@jupyter-widgets/base",
      "model_module_version": "1.1.0",
      "model_name": "LayoutModel",
      "state": {}
     },
     "9f969e80f5b2402d9334616e799c58c0": {
      "model_module": "@jupyter-widgets/base",
      "model_module_version": "1.1.0",
      "model_name": "LayoutModel",
      "state": {
       "width": "250px"
      }
     },
     "9ffa34992fa545d0820606e353893206": {
      "model_module": "@jupyter-widgets/controls",
      "model_module_version": "1.4.0",
      "model_name": "ButtonStyleModel",
      "state": {}
     },
     "a03d04ff39c54fa8bb3fddcb47c33000": {
      "model_module": "@jupyter-widgets/controls",
      "model_module_version": "1.4.0",
      "model_name": "ButtonStyleModel",
      "state": {
       "button_color": "lightgreen"
      }
     },
     "a068265c3cf04732866205dabc410ef7": {
      "model_module": "@jupyter-widgets/base",
      "model_module_version": "1.1.0",
      "model_name": "LayoutModel",
      "state": {
       "width": "250px"
      }
     },
     "a07a21928f2e45929e33674fba3f8214": {
      "model_module": "@jupyter-widgets/controls",
      "model_module_version": "1.4.0",
      "model_name": "HTMLModel",
      "state": {
       "layout": "IPY_MODEL_7362013869ac4f1580e410068eb01e6e",
       "style": "IPY_MODEL_3cd2a3cff7074ca1b603cb899ea5ad16",
       "value": "<h4 style=\"font-size:14px;\">Hinsichtlich welcher syntaktischen Grundprinzipien werden natürliche Sprachen mit formalen Methoden analysiert?</h4>"
      }
     },
     "a08066c9a3c74d8782a5682e5e953483": {
      "model_module": "@jupyter-widgets/controls",
      "model_module_version": "1.4.0",
      "model_name": "ButtonModel",
      "state": {
       "description": "Phrasenstruktur",
       "layout": "IPY_MODEL_fb8f4e6865db4d6ea4799e74c684fd8a",
       "style": "IPY_MODEL_5b781dbd89e64bc1b2ba81e105e6b5a8"
      }
     },
     "a09bdcb16bf1464994a208149d6900f1": {
      "model_module": "@jupyter-widgets/base",
      "model_module_version": "1.1.0",
      "model_name": "LayoutModel",
      "state": {
       "width": "250px"
      }
     },
     "a0e0dcfc19b54ffcb6e24de473a6457c": {
      "model_module": "@jupyter-widgets/base",
      "model_module_version": "1.1.0",
      "model_name": "LayoutModel",
      "state": {
       "width": "250px"
      }
     },
     "a0e1115fb8884e1d9db73be04bb90615": {
      "model_module": "@jupyter-widgets/controls",
      "model_module_version": "1.4.0",
      "model_name": "ButtonStyleModel",
      "state": {}
     },
     "a0f3ac8409f2458cbe3f19d5c823463c": {
      "model_module": "@jupyter-widgets/base",
      "model_module_version": "1.1.0",
      "model_name": "LayoutModel",
      "state": {
       "justify_content": "center"
      }
     },
     "a1033ba064b44a708a24b37ed297a19f": {
      "model_module": "@jupyter-widgets/base",
      "model_module_version": "1.1.0",
      "model_name": "LayoutModel",
      "state": {
       "width": "600px"
      }
     },
     "a110a5d07b3542deb276f89f66086b0d": {
      "model_module": "@jupyter-widgets/controls",
      "model_module_version": "1.4.0",
      "model_name": "DescriptionStyleModel",
      "state": {
       "description_width": ""
      }
     },
     "a117ea729a2f4488a9b0f3034b140423": {
      "model_module": "@jupyter-widgets/controls",
      "model_module_version": "1.4.0",
      "model_name": "HBoxModel",
      "state": {
       "children": [
        "IPY_MODEL_4fa2f8979b3941178ca3f75860bb6b42",
        "IPY_MODEL_a5aaf5e80417418f8d58a52cde45eb4a"
       ],
       "layout": "IPY_MODEL_af7b8d686f6846b39bdc6749ee0af50e"
      }
     },
     "a11da92981d14f3cbfab5b48714c0f4e": {
      "model_module": "@jupyter-widgets/base",
      "model_module_version": "1.1.0",
      "model_name": "LayoutModel",
      "state": {}
     },
     "a13ec7bdc6da4d409d69d6bf05e6444c": {
      "model_module": "@jupyter-widgets/base",
      "model_module_version": "1.1.0",
      "model_name": "LayoutModel",
      "state": {
       "width": "250px"
      }
     },
     "a1452a6ab05d4880b204ce411cf312d1": {
      "model_module": "@jupyter-widgets/base",
      "model_module_version": "1.1.0",
      "model_name": "LayoutModel",
      "state": {
       "width": "600px"
      }
     },
     "a1484f8e748c45fcb2b841850fde444c": {
      "model_module": "@jupyter-widgets/controls",
      "model_module_version": "1.4.0",
      "model_name": "CheckboxModel",
      "state": {
       "description": "Dependenzgraph mit Phrasenlabels als Knoten",
       "disabled": false,
       "layout": "IPY_MODEL_d9a01684f1224e3ebc4c2578fbb1026b",
       "style": "IPY_MODEL_b235c74251184577a956cea984f9917d",
       "value": false
      }
     },
     "a153a081675749dd9bc19f20b4a03d69": {
      "model_module": "@jupyter-widgets/controls",
      "model_module_version": "1.4.0",
      "model_name": "ButtonModel",
      "state": {
       "description": "Wissen um Sprachstruktur",
       "layout": "IPY_MODEL_c7c50498e6c14037ac7e0c0598da4cd8",
       "style": "IPY_MODEL_7d90c74193604ae68d6aca0752915ae1"
      }
     },
     "a1885e56829e4dc3a261245bd847597a": {
      "model_module": "@jupyter-widgets/controls",
      "model_module_version": "1.4.0",
      "model_name": "DescriptionStyleModel",
      "state": {
       "description_width": ""
      }
     },
     "a1a5fe9ffa0d4f65868ac2ef3a7ce83f": {
      "model_module": "@jupyter-widgets/controls",
      "model_module_version": "1.4.0",
      "model_name": "CheckboxModel",
      "state": {
       "description": "morphologische",
       "disabled": false,
       "layout": "IPY_MODEL_78129bfabe3c4e72bd3909d257a3bbc8",
       "style": "IPY_MODEL_c5f450f40c7042da99551772c1153e8e",
       "value": true
      }
     },
     "a22c9095316e4ae9be514edbb59e0295": {
      "model_module": "@jupyter-widgets/controls",
      "model_module_version": "1.4.0",
      "model_name": "VBoxModel",
      "state": {
       "children": [
        "IPY_MODEL_b3f85d6683cf44bf832d97c28aa73d77",
        "IPY_MODEL_88c21e071d684301a0f00f470dd2d750",
        "IPY_MODEL_560264764ae5476e8f1ab65efb69f1b3"
       ],
       "layout": "IPY_MODEL_2b9af090d61d4ab6a2ed9a53d76592b4"
      }
     },
     "a25f1a20e2ee4446a2e45965d56cb1ba": {
      "model_module": "@jupyter-widgets/controls",
      "model_module_version": "1.4.0",
      "model_name": "DescriptionStyleModel",
      "state": {
       "description_width": "initial"
      }
     },
     "a27f80e0ec464b4989cff5a7a71789ad": {
      "model_module": "@jupyter-widgets/base",
      "model_module_version": "1.1.0",
      "model_name": "LayoutModel",
      "state": {}
     },
     "a28b069040e34022a6933471b540e7e6": {
      "model_module": "@jupyter-widgets/controls",
      "model_module_version": "1.4.0",
      "model_name": "ButtonStyleModel",
      "state": {}
     },
     "a299d515ebcf456ca41d0be2c847d74c": {
      "model_module": "@jupyter-widgets/base",
      "model_module_version": "1.1.0",
      "model_name": "LayoutModel",
      "state": {
       "justify_content": "center"
      }
     },
     "a2c5503756de45bbbe676f0c3d0b3bd3": {
      "model_module": "@jupyter-widgets/base",
      "model_module_version": "1.1.0",
      "model_name": "LayoutModel",
      "state": {
       "width": "600px"
      }
     },
     "a2d297af78994bda834396eea21ddeb6": {
      "model_module": "@jupyter-widgets/controls",
      "model_module_version": "1.4.0",
      "model_name": "ButtonStyleModel",
      "state": {
       "button_color": "lightgreen"
      }
     },
     "a3394d7fc8bc4bcb8e1e4f55b882195f": {
      "model_module": "@jupyter-widgets/controls",
      "model_module_version": "1.4.0",
      "model_name": "HTMLModel",
      "state": {
       "layout": "IPY_MODEL_b4dd735725f947ef8734cc90ad3b2a2a",
       "style": "IPY_MODEL_62d4ef15daf3418ba28465f69cfe6333",
       "value": "<h4 style=\"font-size:14px;\">Konstituenz ist synonym zu:</h4>"
      }
     },
     "a35477260d7d4ad29715ba50106c54f4": {
      "model_module": "@jupyter-widgets/base",
      "model_module_version": "1.1.0",
      "model_name": "LayoutModel",
      "state": {}
     },
     "a35da3f2d1bb44f398e9b4837aa2fb90": {
      "model_module": "@jupyter-widgets/controls",
      "model_module_version": "1.4.0",
      "model_name": "ButtonModel",
      "state": {
       "description": "Keine der anderen Möglichkeiten",
       "layout": "IPY_MODEL_75c59b8453754541a432c95f4a81d964",
       "style": "IPY_MODEL_4698d5476eea473ea65c1d68a3b12b82"
      }
     },
     "a367df56f94f4147a4b4d685b8d69487": {
      "model_module": "@jupyter-widgets/controls",
      "model_module_version": "1.4.0",
      "model_name": "HTMLModel",
      "state": {
       "layout": "IPY_MODEL_172fe25b0f1546c1ad04b87e4de45fb5",
       "style": "IPY_MODEL_a8f3b157f231468fae1216dce1a05fbd",
       "value": "<h4 style=\"font-size:14px;\">Bzgl. welcher (nicht an der Oberflächensyntax ersichtlichen) Eigenschaft unterscheiden sich die PPs in den beiden Analysen?</h4>"
      }
     },
     "a3748e3a672a4629871b647ca84c1c88": {
      "model_module": "@jupyter-widgets/base",
      "model_module_version": "1.1.0",
      "model_name": "LayoutModel",
      "state": {}
     },
     "a37d2a11ed10417c83051698d7ec6d8a": {
      "model_module": "@jupyter-widgets/base",
      "model_module_version": "1.1.0",
      "model_name": "LayoutModel",
      "state": {
       "width": "250px"
      }
     },
     "a3aaa05525964c12a123c1cb1c4c1c71": {
      "model_module": "@jupyter-widgets/base",
      "model_module_version": "1.1.0",
      "model_name": "LayoutModel",
      "state": {}
     },
     "a3c2f8a9c18449e59de890454fb474dc": {
      "model_module": "@jupyter-widgets/controls",
      "model_module_version": "1.4.0",
      "model_name": "DescriptionStyleModel",
      "state": {
       "description_width": ""
      }
     },
     "a3c4d0805a13409a9892f544e5c4dc2b": {
      "model_module": "@jupyter-widgets/controls",
      "model_module_version": "1.4.0",
      "model_name": "ButtonModel",
      "state": {
       "description": "formale Grammatik + Parser",
       "layout": "IPY_MODEL_e8649f19f9cb40daa269a829d19cefa5",
       "style": "IPY_MODEL_2129346b34fa42f4aac3c73de51b7917"
      }
     },
     "a3e908dcf5944f43824836d38980867c": {
      "model_module": "@jupyter-widgets/controls",
      "model_module_version": "1.4.0",
      "model_name": "HTMLModel",
      "state": {
       "layout": "IPY_MODEL_1a4265d7e3f341efb870d27f0ce28f17",
       "style": "IPY_MODEL_45bef980a051483dbd653999dae28fa9",
       "value": "<i>Wählen Sie die <ins>eine</ins> korrekte Antwort aus: </i>"
      }
     },
     "a41065cda1354c33b08ad92b72adcbf1": {
      "model_module": "@jupyter-widgets/base",
      "model_module_version": "1.1.0",
      "model_name": "LayoutModel",
      "state": {
       "width": "600px"
      }
     },
     "a438c5527bfb40e0ac4aa4a7e4f74f11": {
      "model_module": "@jupyter-widgets/controls",
      "model_module_version": "1.4.0",
      "model_name": "DescriptionStyleModel",
      "state": {
       "description_width": ""
      }
     },
     "a45079fdd2fa4a3aaa52b61d8dfabd24": {
      "model_module": "@jupyter-widgets/controls",
      "model_module_version": "1.4.0",
      "model_name": "HTMLModel",
      "state": {
       "layout": "IPY_MODEL_f78ae04bb01c4218883d5cc52055c740",
       "style": "IPY_MODEL_73f75c638238477fb1cd9546d544421e",
       "value": "<i>Wählen Sie die <ins>eine</ins> korrekte Antwort aus: </i>"
      }
     },
     "a4860599dede482d87aa012ef7898cba": {
      "model_module": "@jupyter-widgets/controls",
      "model_module_version": "1.4.0",
      "model_name": "ButtonStyleModel",
      "state": {}
     },
     "a490f72f3953409499ac88df5a3667cb": {
      "model_module": "@jupyter-widgets/controls",
      "model_module_version": "1.4.0",
      "model_name": "DescriptionStyleModel",
      "state": {
       "description_width": "initial"
      }
     },
     "a4ea792b5cc944329490ae05d31f2a93": {
      "model_module": "@jupyter-widgets/controls",
      "model_module_version": "1.4.0",
      "model_name": "CheckboxModel",
      "state": {
       "description": "Nomen ist Dependent in einem nichtfiniten Teilsatz",
       "disabled": false,
       "layout": "IPY_MODEL_bc0dfcee0e5f415391b6527205ca90f3",
       "style": "IPY_MODEL_4afd2c8a46d744999ee02b33c06774d4",
       "value": false
      }
     },
     "a56ae62170b6473e8c5c05eae9ad6cec": {
      "model_module": "@jupyter-widgets/controls",
      "model_module_version": "1.4.0",
      "model_name": "HBoxModel",
      "state": {
       "children": [
        "IPY_MODEL_758d2ec4c2af4c5a91bd122448d63325",
        "IPY_MODEL_0edcafe6349b4fa689ffad37471040bf"
       ],
       "layout": "IPY_MODEL_b3c79b1fa1174dd08196cf8a1216ebdf"
      }
     },
     "a58fa583ec8548e5b5e7610db941353c": {
      "model_module": "@jupyter-widgets/base",
      "model_module_version": "1.1.0",
      "model_name": "LayoutModel",
      "state": {
       "justify_content": "center"
      }
     },
     "a59053dc090346798cfba984375b49e3": {
      "model_module": "@jupyter-widgets/base",
      "model_module_version": "1.1.0",
      "model_name": "LayoutModel",
      "state": {
       "justify_content": "center"
      }
     },
     "a59b251450bf4dc280c030044434841c": {
      "model_module": "@jupyter-widgets/base",
      "model_module_version": "1.1.0",
      "model_name": "LayoutModel",
      "state": {
       "width": "600px"
      }
     },
     "a5aaf5e80417418f8d58a52cde45eb4a": {
      "model_module": "@jupyter-widgets/controls",
      "model_module_version": "1.4.0",
      "model_name": "ButtonModel",
      "state": {
       "description": "Keine der anderen Möglichkeiten",
       "layout": "IPY_MODEL_337c260e24a14356b477ddbccf2c5df4",
       "style": "IPY_MODEL_e752bb9f0240455793fdc8bead1e8cc1"
      }
     },
     "a5b7df3f0ebf41d789d47bd2226606f7": {
      "model_module": "@jupyter-widgets/base",
      "model_module_version": "1.1.0",
      "model_name": "LayoutModel",
      "state": {
       "width": "250px"
      }
     },
     "a5b852f7106e46b88304a8e5d3deceaa": {
      "model_module": "@jupyter-widgets/base",
      "model_module_version": "1.1.0",
      "model_name": "LayoutModel",
      "state": {
       "width": "600px"
      }
     },
     "a5da1ae014b94266a56c7c4b01654099": {
      "model_module": "@jupyter-widgets/base",
      "model_module_version": "1.1.0",
      "model_name": "LayoutModel",
      "state": {
       "width": "250px"
      }
     },
     "a5dbe4df7ebb499ab7495b6cd3882343": {
      "model_module": "@jupyter-widgets/controls",
      "model_module_version": "1.4.0",
      "model_name": "DescriptionStyleModel",
      "state": {
       "description_width": ""
      }
     },
     "a5dec6828592468cbe657d79512649d8": {
      "model_module": "@jupyter-widgets/controls",
      "model_module_version": "1.4.0",
      "model_name": "ButtonStyleModel",
      "state": {}
     },
     "a60f6de868e34746b0f5630d674285b8": {
      "model_module": "@jupyter-widgets/base",
      "model_module_version": "1.1.0",
      "model_name": "LayoutModel",
      "state": {
       "width": "250px"
      }
     },
     "a635be9752984d7584948cc3916b8a60": {
      "model_module": "@jupyter-widgets/controls",
      "model_module_version": "1.4.0",
      "model_name": "ButtonModel",
      "state": {
       "description": "morphologisch ambige Formen",
       "layout": "IPY_MODEL_c9742b95d8324073b8fb7c869be6b46e",
       "style": "IPY_MODEL_499d12c83de542379c904b515c7a0b4d"
      }
     },
     "a63743621e424e10baa396e66d2b64a5": {
      "model_module": "@jupyter-widgets/controls",
      "model_module_version": "1.4.0",
      "model_name": "ButtonStyleModel",
      "state": {}
     },
     "a63eff512e2d4f26b9aeba4da671afc9": {
      "model_module": "@jupyter-widgets/controls",
      "model_module_version": "1.4.0",
      "model_name": "HBoxModel",
      "state": {
       "children": [
        "IPY_MODEL_3411c48da5aa492da7a24da37567047e",
        "IPY_MODEL_ec3d21f2396042609c2b4f0962974ddc"
       ],
       "layout": "IPY_MODEL_68348286d70b4be588b960cd74ee8558"
      }
     },
     "a66bd9fc6a7c4af48da3615a06b6cbfc": {
      "model_module": "@jupyter-widgets/base",
      "model_module_version": "1.1.0",
      "model_name": "LayoutModel",
      "state": {}
     },
     "a66e578843794915aa2968a70ee99ce9": {
      "model_module": "@jupyter-widgets/base",
      "model_module_version": "1.1.0",
      "model_name": "LayoutModel",
      "state": {
       "justify_content": "center"
      }
     },
     "a66ff919a55b4aae879da8e7c9c70687": {
      "model_module": "@jupyter-widgets/base",
      "model_module_version": "1.1.0",
      "model_name": "LayoutModel",
      "state": {}
     },
     "a67392482558473c9c6b8d7146738b89": {
      "model_module": "@jupyter-widgets/controls",
      "model_module_version": "1.4.0",
      "model_name": "CheckboxModel",
      "state": {
       "description": "syntaktische",
       "disabled": false,
       "layout": "IPY_MODEL_0a7988d476004652bd3f0a1a1a2fd65d",
       "style": "IPY_MODEL_43bcebe1e2234a248727ce07eb7832cf",
       "value": true
      }
     },
     "a67d5d3f90c649a2836be0e52db44da8": {
      "model_module": "@jupyter-widgets/base",
      "model_module_version": "1.1.0",
      "model_name": "LayoutModel",
      "state": {
       "width": "250px"
      }
     },
     "a6aa23d611004a47bf56f20bae11012b": {
      "model_module": "@jupyter-widgets/controls",
      "model_module_version": "1.4.0",
      "model_name": "VBoxModel",
      "state": {
       "children": [
        "IPY_MODEL_f705b78429c249e1bd836a634e6a9599",
        "IPY_MODEL_e08aeab7303446edb1919af9096daa3d",
        "IPY_MODEL_2200e27f61fd439dad1b67c71381fc2b"
       ],
       "layout": "IPY_MODEL_dfd8065910e64c3fa4170faaa3072167"
      }
     },
     "a6cb1e22290b423799fbad0e8165c9da": {
      "model_module": "@jupyter-widgets/controls",
      "model_module_version": "1.4.0",
      "model_name": "HTMLModel",
      "state": {
       "layout": "IPY_MODEL_618b496767e24c10ace5da0005f34c78",
       "style": "IPY_MODEL_ea51ec461ed84169957a76c66d655de1",
       "value": "<i>Markieren Sie <ins>alle</ins> passenden Antworten: </i>"
      }
     },
     "a6fb7fe76e6e4858b72b2a21d37c1ec2": {
      "model_module": "@jupyter-widgets/base",
      "model_module_version": "1.1.0",
      "model_name": "LayoutModel",
      "state": {
       "width": "600px"
      }
     },
     "a7167ea495ad42378725f39639be1848": {
      "model_module": "@jupyter-widgets/base",
      "model_module_version": "1.1.0",
      "model_name": "LayoutModel",
      "state": {
       "justify_content": "center"
      }
     },
     "a71b174688b4468b8cc5793869927ff1": {
      "model_module": "@jupyter-widgets/controls",
      "model_module_version": "1.4.0",
      "model_name": "DescriptionStyleModel",
      "state": {
       "description_width": "initial"
      }
     },
     "a7319ddc7281402cb864a6915a507209": {
      "model_module": "@jupyter-widgets/controls",
      "model_module_version": "1.4.0",
      "model_name": "HTMLModel",
      "state": {
       "layout": "IPY_MODEL_f6c3e92caae9428ebbb3c28fc3cf540f",
       "style": "IPY_MODEL_cd0d84ef6a6a487eae8624c824afd70e",
       "value": "<i>Wählen Sie die <ins>eine</ins> korrekte Antwort aus: </i>"
      }
     },
     "a737cfa7ba6a492da0a5b5c70556467d": {
      "model_module": "@jupyter-widgets/controls",
      "model_module_version": "1.4.0",
      "model_name": "ButtonModel",
      "state": {
       "description": "Klammernotation",
       "layout": "IPY_MODEL_a77ead46f56549e6b4e590b82b5a1feb",
       "style": "IPY_MODEL_e9e7739fa329498ca1903c12a9023525"
      }
     },
     "a7528fa1a6a74afebdcb982c4b95418d": {
      "model_module": "@jupyter-widgets/controls",
      "model_module_version": "1.4.0",
      "model_name": "CheckboxModel",
      "state": {
       "description": "Objekt-Nominalphrase",
       "disabled": false,
       "layout": "IPY_MODEL_8edbf11fb76a4fada8fdaf2991490768",
       "style": "IPY_MODEL_a25f1a20e2ee4446a2e45965d56cb1ba",
       "value": true
      }
     },
     "a76dda7f0f87429e9a519bc503d576d6": {
      "model_module": "@jupyter-widgets/base",
      "model_module_version": "1.1.0",
      "model_name": "LayoutModel",
      "state": {
       "width": "600px"
      }
     },
     "a77ead46f56549e6b4e590b82b5a1feb": {
      "model_module": "@jupyter-widgets/base",
      "model_module_version": "1.1.0",
      "model_name": "LayoutModel",
      "state": {
       "width": "250px"
      }
     },
     "a7b9155f55254cde9ad1f4a5507ad8bd": {
      "model_module": "@jupyter-widgets/controls",
      "model_module_version": "1.4.0",
      "model_name": "HBoxModel",
      "state": {
       "children": [
        "IPY_MODEL_4f312e98807f463a93d35cfbddf0a5b1"
       ],
       "layout": "IPY_MODEL_29b268c2eede4510a8223cbcced0592a"
      }
     },
     "a7e45d8f29834c2c91640d170c6bfe66": {
      "model_module": "@jupyter-widgets/controls",
      "model_module_version": "1.4.0",
      "model_name": "ButtonStyleModel",
      "state": {}
     },
     "a7f3ff80986e4b14906dc883adf787a2": {
      "model_module": "@jupyter-widgets/base",
      "model_module_version": "1.1.0",
      "model_name": "LayoutModel",
      "state": {
       "width": "150px"
      }
     },
     "a8149c90a2e540a0a974d5d1a29dfccc": {
      "model_module": "@jupyter-widgets/controls",
      "model_module_version": "1.4.0",
      "model_name": "ButtonStyleModel",
      "state": {}
     },
     "a8258f25ff4a45208eeda60bd388632d": {
      "model_module": "@jupyter-widgets/controls",
      "model_module_version": "1.4.0",
      "model_name": "DescriptionStyleModel",
      "state": {
       "description_width": ""
      }
     },
     "a846524c6f3f48cb8bccf7a493dc454c": {
      "model_module": "@jupyter-widgets/controls",
      "model_module_version": "1.4.0",
      "model_name": "VBoxModel",
      "state": {
       "children": [
        "IPY_MODEL_6e88012e15f348528521c817e197666a",
        "IPY_MODEL_df12601f4b0747b0bf240d1669287deb",
        "IPY_MODEL_9f216f7577e746af922e5dd76bbbf95a",
        "IPY_MODEL_2bd9a6efaf9a42ddbcf14e3338d9ed43"
       ],
       "layout": "IPY_MODEL_9f3f29ecb19044d1acedc0c8dd559f9c"
      }
     },
     "a86746fc540f4bbd9bfee438c896ab8d": {
      "model_module": "@jupyter-widgets/controls",
      "model_module_version": "1.4.0",
      "model_name": "HBoxModel",
      "state": {
       "children": [
        "IPY_MODEL_9df6186eada14dbdbfe586bdc4d589ba",
        "IPY_MODEL_a153a081675749dd9bc19f20b4a03d69"
       ],
       "layout": "IPY_MODEL_46b411ce5702413996f509aeb608ea96"
      }
     },
     "a869065575c7436f8a7bd629e182ebb5": {
      "model_module": "@jupyter-widgets/base",
      "model_module_version": "1.1.0",
      "model_name": "LayoutModel",
      "state": {}
     },
     "a87f464d03dd416f80b2be5fa89e87cd": {
      "model_module": "@jupyter-widgets/controls",
      "model_module_version": "1.4.0",
      "model_name": "DescriptionStyleModel",
      "state": {
       "description_width": ""
      }
     },
     "a89a489c9aa94e4abfaebc1cf52d2c4e": {
      "model_module": "@jupyter-widgets/base",
      "model_module_version": "1.1.0",
      "model_name": "LayoutModel",
      "state": {
       "width": "250px"
      }
     },
     "a8f3b157f231468fae1216dce1a05fbd": {
      "model_module": "@jupyter-widgets/controls",
      "model_module_version": "1.4.0",
      "model_name": "DescriptionStyleModel",
      "state": {
       "description_width": ""
      }
     },
     "a91ef169f7124961a6a883644501051d": {
      "model_module": "@jupyter-widgets/controls",
      "model_module_version": "1.4.0",
      "model_name": "ButtonStyleModel",
      "state": {}
     },
     "a936ffc6b7a9497fb661443083b6d121": {
      "model_module": "@jupyter-widgets/controls",
      "model_module_version": "1.4.0",
      "model_name": "HTMLModel",
      "state": {
       "layout": "IPY_MODEL_5e91488577a94d55b1da8f1dc04a55ca",
       "style": "IPY_MODEL_46ad54189cf14a7985d4534ceb5a5373",
       "value": "<h4 style=\"font-size:14px;\">Welche Vorteile hat die Modellierung der Satzstruktur mit Hilfe einer formalen Grammatik?</h4>"
      }
     },
     "a96b0dfa80a8490bb566a8f933197a24": {
      "model_module": "@jupyter-widgets/controls",
      "model_module_version": "1.4.0",
      "model_name": "VBoxModel",
      "state": {
       "children": [
        "IPY_MODEL_459aee1e33cf4e28b88f9c4b4dedc36c",
        "IPY_MODEL_191d29fe3caf4bcb86eed04416cffa76",
        "IPY_MODEL_8cd70e3b6d8a4722b7b56dc1d147becb",
        "IPY_MODEL_6c6d333c640d446bbf5972e837b2b3b6",
        "IPY_MODEL_7cc39cd944e346439da480aa29df925e"
       ],
       "layout": "IPY_MODEL_e80dedaf5c5443c3813d3da9ecfb1026"
      }
     },
     "a9881a56d46f44ca8c8bcb2b82090876": {
      "model_module": "@jupyter-widgets/controls",
      "model_module_version": "1.4.0",
      "model_name": "VBoxModel",
      "state": {
       "children": [
        "IPY_MODEL_7751387f91c44bfe9a68f8c64069189e",
        "IPY_MODEL_4f9af5b86cd7477a83a7fd99dfd45f69",
        "IPY_MODEL_adc2d74062a749f7a27097e631aba47c"
       ],
       "layout": "IPY_MODEL_209b25031e8f4e37a9706b090555c03e"
      }
     },
     "a996309817874ce1a9b044a945aafaf3": {
      "model_module": "@jupyter-widgets/controls",
      "model_module_version": "1.4.0",
      "model_name": "DescriptionStyleModel",
      "state": {
       "description_width": ""
      }
     },
     "a9a60e8761224fd2be9dc840e79631bc": {
      "model_module": "@jupyter-widgets/controls",
      "model_module_version": "1.4.0",
      "model_name": "CheckboxModel",
      "state": {
       "description": "Konstituenz",
       "disabled": false,
       "layout": "IPY_MODEL_80e8e366437847d69280f8d0f8e33d88",
       "style": "IPY_MODEL_f504b014e293437285b0003b78d685eb",
       "value": false
      }
     },
     "a9ebba33031c4c5ea8184f4f974567b8": {
      "model_module": "@jupyter-widgets/controls",
      "model_module_version": "1.4.0",
      "model_name": "HTMLModel",
      "state": {
       "layout": "IPY_MODEL_fba4219b8baa4f0cbb8227eed1ea7f56",
       "style": "IPY_MODEL_88f51cb56ffc406bad79738988744bb1",
       "value": "<i>Wählen Sie die <ins>eine</ins> korrekte Antwort aus: </i>"
      }
     },
     "aa20cfb62c5842ddb6032482d58fc4a9": {
      "model_module": "@jupyter-widgets/controls",
      "model_module_version": "1.4.0",
      "model_name": "ButtonStyleModel",
      "state": {}
     },
     "aa4a914678da442d9842ca2197852034": {
      "model_module": "@jupyter-widgets/controls",
      "model_module_version": "1.4.0",
      "model_name": "DescriptionStyleModel",
      "state": {
       "description_width": "initial"
      }
     },
     "aa8cbb93bb7843ba8da989ce0a1377c9": {
      "model_module": "@jupyter-widgets/controls",
      "model_module_version": "1.4.0",
      "model_name": "HTMLModel",
      "state": {
       "layout": "IPY_MODEL_cc57d2678758467f8ac0e43436c850cb",
       "style": "IPY_MODEL_36a199d7ef624caa93cf5ba517e596c4",
       "value": "<h4 style=\"font-size:14px;\">Was ist der Fall, wenn die PP ein Adverbial ist?</h4>"
      }
     },
     "aaa70f27c5744afa923aba510e6ad894": {
      "model_module": "@jupyter-widgets/controls",
      "model_module_version": "1.4.0",
      "model_name": "ButtonStyleModel",
      "state": {}
     },
     "aaa8c064821a49928ddfceb178a2688e": {
      "model_module": "@jupyter-widgets/base",
      "model_module_version": "1.1.0",
      "model_name": "LayoutModel",
      "state": {}
     },
     "aae245a580364996ac2946b38eb2b699": {
      "model_module": "@jupyter-widgets/base",
      "model_module_version": "1.1.0",
      "model_name": "LayoutModel",
      "state": {}
     },
     "aaf2d86dd8f344669201948239db6c5b": {
      "model_module": "@jupyter-widgets/controls",
      "model_module_version": "1.4.0",
      "model_name": "ButtonModel",
      "state": {
       "description": "Baumdiagramm",
       "layout": "IPY_MODEL_1f7875e301764039b7c80a81c853fbf7",
       "style": "IPY_MODEL_5d07a1bc2ebf4bdca75295fd37507c83"
      }
     },
     "ab0e184a6a80444ba41fc6aa37052d46": {
      "model_module": "@jupyter-widgets/controls",
      "model_module_version": "1.4.0",
      "model_name": "VBoxModel",
      "state": {
       "children": [
        "IPY_MODEL_cc2388cee1e04376aff8d3691b57330f",
        "IPY_MODEL_a9a60e8761224fd2be9dc840e79631bc",
        "IPY_MODEL_e9d570fe194442af9a245435635f67a0",
        "IPY_MODEL_9e7f7afb7a4243bd8b0a23d8ce12d13e"
       ],
       "layout": "IPY_MODEL_88ea6ab9d74e4bd4b8c7fcee7d9203b3"
      }
     },
     "ab5f7294d3154cc7aced771d7d423489": {
      "model_module": "@jupyter-widgets/base",
      "model_module_version": "1.1.0",
      "model_name": "LayoutModel",
      "state": {
       "width": "250px"
      }
     },
     "ab63d643d89c4269bdc6335ec43ff0bf": {
      "model_module": "@jupyter-widgets/controls",
      "model_module_version": "1.4.0",
      "model_name": "ButtonStyleModel",
      "state": {}
     },
     "ab696d9a9fa54faaa1dc8cc56eb66b2a": {
      "model_module": "@jupyter-widgets/base",
      "model_module_version": "1.1.0",
      "model_name": "LayoutModel",
      "state": {}
     },
     "ab841bc36f1743faabf6d9d7aefdc98e": {
      "model_module": "@jupyter-widgets/base",
      "model_module_version": "1.1.0",
      "model_name": "LayoutModel",
      "state": {
       "justify_content": "center"
      }
     },
     "ab9058321d564c6a90194ccc50f3a81b": {
      "model_module": "@jupyter-widgets/base",
      "model_module_version": "1.1.0",
      "model_name": "LayoutModel",
      "state": {
       "width": "250px"
      }
     },
     "aba02c446514424698bea10b33d8f465": {
      "model_module": "@jupyter-widgets/base",
      "model_module_version": "1.1.0",
      "model_name": "LayoutModel",
      "state": {
       "width": "600px"
      }
     },
     "abfb18befc3d461ca31247bf1743bd84": {
      "model_module": "@jupyter-widgets/controls",
      "model_module_version": "1.4.0",
      "model_name": "ButtonModel",
      "state": {
       "description": "Regelsystem",
       "layout": "IPY_MODEL_abfd7af55efc4922836d211de01fc175",
       "style": "IPY_MODEL_4d9868c88c144a1f99cb120c817bd383"
      }
     },
     "abfd7af55efc4922836d211de01fc175": {
      "model_module": "@jupyter-widgets/base",
      "model_module_version": "1.1.0",
      "model_name": "LayoutModel",
      "state": {
       "width": "250px"
      }
     },
     "ac04b64cfcb44f97abfa589557371712": {
      "model_module": "@jupyter-widgets/base",
      "model_module_version": "1.1.0",
      "model_name": "LayoutModel",
      "state": {
       "justify_content": "center"
      }
     },
     "ac0a5aea9a5747219a080ffc0dafe547": {
      "model_module": "@jupyter-widgets/controls",
      "model_module_version": "1.4.0",
      "model_name": "HBoxModel",
      "state": {
       "children": [
        "IPY_MODEL_f5761ab3dd8a4400beb326f381dbbb62",
        "IPY_MODEL_80ca8de5c1be49c99e28fef62a2d9dac"
       ],
       "layout": "IPY_MODEL_fe979caf7c8f4230b60dcd2bac2ba525"
      }
     },
     "ac3092fc540e41e9a89caaf44f69ac4a": {
      "model_module": "@jupyter-widgets/controls",
      "model_module_version": "1.4.0",
      "model_name": "HTMLModel",
      "state": {
       "layout": "IPY_MODEL_5679e39fe6e6407bbdbafec8692ad026",
       "style": "IPY_MODEL_e5a0fbe40e2a4c05acc57f6bd34a6817",
       "value": "<h4 style=\"font-size:14px;\">In welcher Form wird die syntaktische Struktur eines Satzes beim Aufruf von NLTK print(tree) erstellt?</h4>"
      }
     },
     "ac9ab94535f84123b211771751f725e9": {
      "model_module": "@jupyter-widgets/controls",
      "model_module_version": "1.4.0",
      "model_name": "HTMLModel",
      "state": {
       "layout": "IPY_MODEL_6fd04e24c8604ddeae0995c8a4bf9363",
       "style": "IPY_MODEL_e27ffbcefd584aa8ada8617d10eca48c",
       "value": "<h4 style=\"font-size:14px;\">Was ist der Ursprung der Ambiguität?</h4>"
      }
     },
     "acad740bbe1b4700a02f147a55cf9530": {
      "model_module": "@jupyter-widgets/controls",
      "model_module_version": "1.4.0",
      "model_name": "DescriptionStyleModel",
      "state": {
       "description_width": ""
      }
     },
     "accd6538962a42a0aa4c668eca2353fa": {
      "model_module": "@jupyter-widgets/controls",
      "model_module_version": "1.4.0",
      "model_name": "ButtonModel",
      "state": {
       "description": "Objekt",
       "layout": "IPY_MODEL_88ce62dfef3c49979e9cf7cba9fc0a5c",
       "style": "IPY_MODEL_d5e6d574ebb840c399a32f0c1f0c393d"
      }
     },
     "acd305edf9e54b7aa0e1c4984d2e6bb0": {
      "model_module": "@jupyter-widgets/controls",
      "model_module_version": "1.4.0",
      "model_name": "HTMLModel",
      "state": {
       "layout": "IPY_MODEL_40ea544c086440b7932d22315d36fbaa",
       "style": "IPY_MODEL_a87f464d03dd416f80b2be5fa89e87cd",
       "value": "<h4 style=\"font-size:14px;\">der formalen Sprache; ein analysierter natürlichsprachlicher Satz ist ein in der formalen Grammatik ableitbares</h4>"
      }
     },
     "adc2d74062a749f7a27097e631aba47c": {
      "model_module": "@jupyter-widgets/controls",
      "model_module_version": "1.4.0",
      "model_name": "HBoxModel",
      "state": {
       "children": [
        "IPY_MODEL_accd6538962a42a0aa4c668eca2353fa",
        "IPY_MODEL_624e353748da4ba6961f8996b830d6cb"
       ],
       "layout": "IPY_MODEL_e13c5d685bf64b2bbe0b4ea7feb36390"
      }
     },
     "ae1a65e60daa4661ae820baac9d65edc": {
      "model_module": "@jupyter-widgets/controls",
      "model_module_version": "1.4.0",
      "model_name": "HTMLModel",
      "state": {
       "layout": "IPY_MODEL_d9262cac3cb848c2bd0451ae3b7b4ac6",
       "style": "IPY_MODEL_211b713f0b70432485f873d18ab54881",
       "value": "<h4 style=\"font-size:14px;\">In welcher Form wird die syntaktische Struktur eines Satzes beim Aufruf von NLTK tree.draw() erstellt?</h4>"
      }
     },
     "ae3317e79695493a9f7ad9dcb760a3d4": {
      "model_module": "@jupyter-widgets/base",
      "model_module_version": "1.1.0",
      "model_name": "LayoutModel",
      "state": {
       "justify_content": "center"
      }
     },
     "ae4e23f0f7c14439a23d10090cbdbe0d": {
      "model_module": "@jupyter-widgets/controls",
      "model_module_version": "1.4.0",
      "model_name": "HBoxModel",
      "state": {
       "children": [
        "IPY_MODEL_d468c0c8366a47be8b06b02dc063485d",
        "IPY_MODEL_8090b94c205446e2ba608ea2167cd332"
       ],
       "layout": "IPY_MODEL_a11da92981d14f3cbfab5b48714c0f4e"
      }
     },
     "ae72fda4a7174915a11a0d21bb7975c3": {
      "model_module": "@jupyter-widgets/controls",
      "model_module_version": "1.4.0",
      "model_name": "VBoxModel",
      "state": {
       "children": [
        "IPY_MODEL_529551332abd4181aea258f08ebe987b",
        "IPY_MODEL_c9904f341ec94d5983f5b297a3bfeed6",
        "IPY_MODEL_350b9640db6545dcb7a27b81204bb384",
        "IPY_MODEL_3f544bfbe1e34cc48ed598f5b4e7da71"
       ],
       "layout": "IPY_MODEL_9b4aba59c3f14532896cb6cd1848cb3a"
      }
     },
     "ae7cbffbec6a46c99f4ffd5746a1076c": {
      "model_module": "@jupyter-widgets/base",
      "model_module_version": "1.1.0",
      "model_name": "LayoutModel",
      "state": {}
     },
     "ae9f06dc1397491daee2b736e4d610fb": {
      "model_module": "@jupyter-widgets/base",
      "model_module_version": "1.1.0",
      "model_name": "LayoutModel",
      "state": {
       "width": "600px"
      }
     },
     "aedc88db63414f418846039191925848": {
      "model_module": "@jupyter-widgets/controls",
      "model_module_version": "1.4.0",
      "model_name": "VBoxModel",
      "state": {
       "children": [
        "IPY_MODEL_57eb78f39e4a49e5977d20bd5ea34e6c",
        "IPY_MODEL_700f5b3e937f4e83882869ee2c503a60",
        "IPY_MODEL_db85026b808f4f3e988dae3366089585"
       ],
       "layout": "IPY_MODEL_9c4a6ac1181e4a169500e37fd02189e1"
      }
     },
     "aeef8f43a4fe4acd9cf308a291a2120f": {
      "model_module": "@jupyter-widgets/controls",
      "model_module_version": "1.4.0",
      "model_name": "DescriptionStyleModel",
      "state": {
       "description_width": ""
      }
     },
     "aef2c6ff1ac0424e81c41705e624ac2f": {
      "model_module": "@jupyter-widgets/controls",
      "model_module_version": "1.4.0",
      "model_name": "HTMLModel",
      "state": {
       "layout": "IPY_MODEL_2b3e1bf206a242b6837bfd153b506009",
       "style": "IPY_MODEL_f085515e54b147539f206ef29e2f20cb",
       "value": "<h4 style=\"font-size:14px;\">Welche Vorteile hat die Modellierung der Satzstruktur mit Hilfe einer formalen Grammatik?</h4>"
      }
     },
     "af1b8a8c6e6f49d187e9586fb22ad6f7": {
      "model_module": "@jupyter-widgets/controls",
      "model_module_version": "1.4.0",
      "model_name": "CheckboxModel",
      "state": {
       "description": "Attributphrase",
       "disabled": false,
       "layout": "IPY_MODEL_9d48bdee7a6a495eaae1ce8b59cfbb9e",
       "style": "IPY_MODEL_d51b11f118c341cab7deb611b965d119",
       "value": false
      }
     },
     "af313e2240704dd09a97e80f95c7f9c5": {
      "model_module": "@jupyter-widgets/controls",
      "model_module_version": "1.4.0",
      "model_name": "CheckboxModel",
      "state": {
       "description": "Morphemebene, Phrasenebene, Satzebene",
       "disabled": false,
       "layout": "IPY_MODEL_12cd6056b21b40e28b8224505e9e43ce",
       "style": "IPY_MODEL_95e8919b1c5a4338b5827a94b95a67d6",
       "value": false
      }
     },
     "af5a0bc7b08843e6b19ea0c8ffd96299": {
      "model_module": "@jupyter-widgets/controls",
      "model_module_version": "1.4.0",
      "model_name": "ButtonStyleModel",
      "state": {}
     },
     "af5ce9df2cd243d29c3e885e77d8ec6c": {
      "model_module": "@jupyter-widgets/controls",
      "model_module_version": "1.4.0",
      "model_name": "VBoxModel",
      "state": {
       "children": [
        "IPY_MODEL_a1a5fe9ffa0d4f65868ac2ef3a7ce83f",
        "IPY_MODEL_4a3965d80c7b41419beccef0bc0a445d",
        "IPY_MODEL_e40461dcd86041069cac72e2bf91b035",
        "IPY_MODEL_0e49f8bab7e1455684ecc650e80b111f",
        "IPY_MODEL_a67392482558473c9c6b8d7146738b89"
       ],
       "layout": "IPY_MODEL_7f27f998bd944c98a4a838e11affaa2c"
      }
     },
     "af7b8d686f6846b39bdc6749ee0af50e": {
      "model_module": "@jupyter-widgets/base",
      "model_module_version": "1.1.0",
      "model_name": "LayoutModel",
      "state": {}
     },
     "af7c4891644f4ebdbd14653894c06f2f": {
      "model_module": "@jupyter-widgets/base",
      "model_module_version": "1.1.0",
      "model_name": "LayoutModel",
      "state": {
       "width": "600px"
      }
     },
     "af9ce24441e84052add74d0915540b8f": {
      "model_module": "@jupyter-widgets/controls",
      "model_module_version": "1.4.0",
      "model_name": "HBoxModel",
      "state": {
       "children": [
        "IPY_MODEL_cc851c7e1eaa493c9e55c3783b809387",
        "IPY_MODEL_5292d463384a421f8117556150b3226a"
       ],
       "layout": "IPY_MODEL_8c0445fe90db47caacefa66fb553e717"
      }
     },
     "afe4c674b8ae4e55970f76f906b37648": {
      "model_module": "@jupyter-widgets/controls",
      "model_module_version": "1.4.0",
      "model_name": "ButtonStyleModel",
      "state": {
       "button_color": "lightgreen"
      }
     },
     "afebba62e3d4479a92ccbcd1df31bc08": {
      "model_module": "@jupyter-widgets/controls",
      "model_module_version": "1.4.0",
      "model_name": "DropdownModel",
      "state": {
       "_options_labels": [
        "Morphem",
        "Symbol",
        "Wort",
        " "
       ],
       "index": 2,
       "layout": "IPY_MODEL_8acd97a545e64c45b94079bb4368cda4",
       "style": "IPY_MODEL_15c63a496caf43a5a7250096a9c88611"
      }
     },
     "aff6759a3f494c5aadd1a7a5bc9a850a": {
      "model_module": "@jupyter-widgets/base",
      "model_module_version": "1.1.0",
      "model_name": "LayoutModel",
      "state": {
       "align_content": "stretch",
       "align_items": "stretch",
       "display": "inline-flex",
       "flex": "flex-grow",
       "flex_flow": "row wrap",
       "justify_content": "flex-start"
      }
     },
     "b01a23daec604f55b3542f13f6cea2b0": {
      "model_module": "@jupyter-widgets/controls",
      "model_module_version": "1.4.0",
      "model_name": "DropdownModel",
      "state": {
       "_options_labels": [
        "Keine der Alternativen",
        "der Ort des Geschehens wird festgelegt",
        "die PP wird dem Substantiv beigefügt",
        "die im Verb ausgedrückte Tätigkeit wird modifiziert"
       ],
       "description": "Antwort:",
       "index": 3,
       "layout": "IPY_MODEL_ff2ae93e462d45d7aab4e8d8e77fa39f",
       "style": "IPY_MODEL_1cf4bfaf6a3d40c7b39a862335093010"
      }
     },
     "b01dccb082bc4c6a809e422ca6224f7f": {
      "model_module": "@jupyter-widgets/base",
      "model_module_version": "1.1.0",
      "model_name": "LayoutModel",
      "state": {
       "width": "250px"
      }
     },
     "b03af2f7756a42d0be38c0cbb24dca1a": {
      "model_module": "@jupyter-widgets/base",
      "model_module_version": "1.1.0",
      "model_name": "LayoutModel",
      "state": {
       "width": "250px"
      }
     },
     "b04a6a4e57864276b60839a105cf3aaa": {
      "model_module": "@jupyter-widgets/controls",
      "model_module_version": "1.4.0",
      "model_name": "ButtonModel",
      "state": {
       "description": "formale Grammatik",
       "layout": "IPY_MODEL_b7e919c8f801457989b0e230b47c7462",
       "style": "IPY_MODEL_c1e807898c8546349559ef5aa4490929"
      }
     },
     "b056c582ec1b4648842521e7be32f4c1": {
      "model_module": "@jupyter-widgets/controls",
      "model_module_version": "1.4.0",
      "model_name": "CheckboxModel",
      "state": {
       "description": "pragmatische",
       "disabled": false,
       "layout": "IPY_MODEL_d02b112fbfb947fcba80363db0d709d7",
       "style": "IPY_MODEL_5c38959f287c42bb8aa382204cd62158",
       "value": false
      }
     },
     "b06a28098cd84e628059b1632877975e": {
      "model_module": "@jupyter-widgets/controls",
      "model_module_version": "1.4.0",
      "model_name": "HBoxModel",
      "state": {
       "children": [
        "IPY_MODEL_076d1700f19e4920aea74407896137f9"
       ],
       "layout": "IPY_MODEL_0230e284e524449a8870970587be4f1c"
      }
     },
     "b08079f3d01b4eabae88e147829d089e": {
      "model_module": "@jupyter-widgets/controls",
      "model_module_version": "1.4.0",
      "model_name": "HTMLModel",
      "state": {
       "layout": "IPY_MODEL_03b6635cd620411991f0c8840f151eb9",
       "style": "IPY_MODEL_01a6139575cd48cf9438088ae657a60b",
       "value": "<h4 style=\"font-size:14px;\">Konstituenz ist synonym zu:</h4>"
      }
     },
     "b08e19e2614d4b8d95c221c38b879f94": {
      "model_module": "@jupyter-widgets/controls",
      "model_module_version": "1.4.0",
      "model_name": "DescriptionStyleModel",
      "state": {
       "description_width": ""
      }
     },
     "b099cf1e8525451b96883aeaf569d177": {
      "model_module": "@jupyter-widgets/controls",
      "model_module_version": "1.4.0",
      "model_name": "ButtonModel",
      "state": {
       "description": "Phrasenstruktur",
       "layout": "IPY_MODEL_ec23a57a9a4d47f496475796a547ad51",
       "style": "IPY_MODEL_514752b6940844b0b05f9e449da81986"
      }
     },
     "b0a0c27627684521a61b26192b8520fc": {
      "model_module": "@jupyter-widgets/controls",
      "model_module_version": "1.4.0",
      "model_name": "BoxModel",
      "state": {
       "children": [
        "IPY_MODEL_52594e5464f24566b35ea9d3e999caef",
        "IPY_MODEL_d1bf45819ddb408bb2955f52a096973f",
        "IPY_MODEL_3594111d56794f48a86dd08b62a2a8d7",
        "IPY_MODEL_9b1f2a3fe23a447aaf9d08fc15c43953",
        "IPY_MODEL_b763ead8620c4ac4a94da9850aa8b402"
       ],
       "layout": "IPY_MODEL_1ee8e7d9ce6d42a1a51d51c026325b79"
      }
     },
     "b0b05f005f3444f5b6076a4c25580669": {
      "model_module": "@jupyter-widgets/controls",
      "model_module_version": "1.4.0",
      "model_name": "HBoxModel",
      "state": {
       "children": [
        "IPY_MODEL_4e42d07e99ed4b449b6a257fa7b75592",
        "IPY_MODEL_8238bdf9a9d349e397338a550b4bec96"
       ],
       "layout": "IPY_MODEL_f368178678c246ca8bf2032acc1818dc"
      }
     },
     "b0cd15f14c12486299bede8f43ce7c09": {
      "model_module": "@jupyter-widgets/controls",
      "model_module_version": "1.4.0",
      "model_name": "ButtonModel",
      "state": {
       "description": "Übergenerierung",
       "layout": "IPY_MODEL_d95ce17624874e138493fb37182b2c3b",
       "style": "IPY_MODEL_e4c0f4fc51d747ae849411007f89542c"
      }
     },
     "b12ee0a2c9424a779fcecb1e07063e85": {
      "model_module": "@jupyter-widgets/base",
      "model_module_version": "1.1.0",
      "model_name": "LayoutModel",
      "state": {}
     },
     "b13c4d1851464b928096afbe3d728e8f": {
      "model_module": "@jupyter-widgets/controls",
      "model_module_version": "1.4.0",
      "model_name": "HBoxModel",
      "state": {
       "children": [
        "IPY_MODEL_6265ecb5b96d40f6b52d090eeec895be"
       ],
       "layout": "IPY_MODEL_d3c436113df346e9ab2680a172e48284"
      }
     },
     "b1d9598dc4dd453eb7f35500fcf45131": {
      "model_module": "@jupyter-widgets/controls",
      "model_module_version": "1.4.0",
      "model_name": "ButtonModel",
      "state": {
       "description": "Regelsystem",
       "layout": "IPY_MODEL_ea3b9a6bed2d4dd9808edd790e222742",
       "style": "IPY_MODEL_cb2fc6c50e55431995f1114454b10c51"
      }
     },
     "b1ee6a2e95914b74b10e28e1fec64a86": {
      "model_module": "@jupyter-widgets/base",
      "model_module_version": "1.1.0",
      "model_name": "LayoutModel",
      "state": {}
     },
     "b1fd61c3e2e648558b50d5b55bbf2f63": {
      "model_module": "@jupyter-widgets/base",
      "model_module_version": "1.1.0",
      "model_name": "LayoutModel",
      "state": {
       "width": "600px"
      }
     },
     "b235c74251184577a956cea984f9917d": {
      "model_module": "@jupyter-widgets/controls",
      "model_module_version": "1.4.0",
      "model_name": "DescriptionStyleModel",
      "state": {
       "description_width": "initial"
      }
     },
     "b259becae8704eb88017465b1ac9efbd": {
      "model_module": "@jupyter-widgets/base",
      "model_module_version": "1.1.0",
      "model_name": "LayoutModel",
      "state": {
       "width": "250px"
      }
     },
     "b261d60d9bc6465a8beea8d9a7512c35": {
      "model_module": "@jupyter-widgets/controls",
      "model_module_version": "1.4.0",
      "model_name": "CheckboxModel",
      "state": {
       "description": "Eine automatische Strukturanalyse wird möglich.",
       "disabled": false,
       "layout": "IPY_MODEL_2d6d5da0aa724655befd89f971c8a2d7",
       "style": "IPY_MODEL_c6bef901dcab44809f9e85ddca415f79",
       "value": false
      }
     },
     "b26dc5e874bf48a59ffbf325bbf36dab": {
      "model_module": "@jupyter-widgets/controls",
      "model_module_version": "1.4.0",
      "model_name": "DescriptionStyleModel",
      "state": {
       "description_width": ""
      }
     },
     "b2acbdb970ed4933ae8fe2073d98d4fd": {
      "model_module": "@jupyter-widgets/controls",
      "model_module_version": "1.4.0",
      "model_name": "HTMLModel",
      "state": {
       "layout": "IPY_MODEL_971529215a8a4bca8b60a8ca633e29e3",
       "style": "IPY_MODEL_acad740bbe1b4700a02f147a55cf9530",
       "value": "<h4 style=\"font-size:14px;\">Was ist der Fall, wenn die PP ein Adverbial ist?</h4>"
      }
     },
     "b2df974be4bc4f58847d0a754e6f9f1f": {
      "model_module": "@jupyter-widgets/controls",
      "model_module_version": "1.4.0",
      "model_name": "ButtonStyleModel",
      "state": {}
     },
     "b38eb19ed06f4beabe8e2a40ab2ba771": {
      "model_module": "@jupyter-widgets/base",
      "model_module_version": "1.1.0",
      "model_name": "LayoutModel",
      "state": {
       "width": "250px"
      }
     },
     "b3a5dc97be4446c590f3321160831be1": {
      "model_module": "@jupyter-widgets/controls",
      "model_module_version": "1.4.0",
      "model_name": "DescriptionStyleModel",
      "state": {
       "description_width": ""
      }
     },
     "b3c79b1fa1174dd08196cf8a1216ebdf": {
      "model_module": "@jupyter-widgets/base",
      "model_module_version": "1.1.0",
      "model_name": "LayoutModel",
      "state": {}
     },
     "b3ebdfcf4fcc4b9981e3583daae65d4f": {
      "model_module": "@jupyter-widgets/base",
      "model_module_version": "1.1.0",
      "model_name": "LayoutModel",
      "state": {}
     },
     "b3f85d6683cf44bf832d97c28aa73d77": {
      "model_module": "@jupyter-widgets/controls",
      "model_module_version": "1.4.0",
      "model_name": "CheckboxModel",
      "state": {
       "description": "Lautebene, Wortebene, Satzebene",
       "disabled": false,
       "layout": "IPY_MODEL_03e3dc2ceb6b480187ebae773c6c6f72",
       "style": "IPY_MODEL_680c961b08de48f483c589d3216cfd50",
       "value": false
      }
     },
     "b42c4d05a99b4bf4abd2854f63b84291": {
      "model_module": "@jupyter-widgets/controls",
      "model_module_version": "1.4.0",
      "model_name": "VBoxModel",
      "state": {
       "children": [
        "IPY_MODEL_9d73251c6d6f4346a3fffb95ed8bac94",
        "IPY_MODEL_55ef7f1f1f854b049ef1f1c526c7e100",
        "IPY_MODEL_595ebc896f774d21b2599bf86ee6d543",
        "IPY_MODEL_6e1b90d6d2ea4cd08a6c09d16625d3b4"
       ],
       "layout": "IPY_MODEL_9d77411230a84798885f5d182ca0a5a6"
      }
     },
     "b47170f5c39249e4ae9a38737398bc5d": {
      "model_module": "@jupyter-widgets/base",
      "model_module_version": "1.1.0",
      "model_name": "LayoutModel",
      "state": {
       "width": "250px"
      }
     },
     "b47bd41342694038bd8531df8c314e76": {
      "model_module": "@jupyter-widgets/base",
      "model_module_version": "1.1.0",
      "model_name": "LayoutModel",
      "state": {
       "justify_content": "center"
      }
     },
     "b4832569d7f74c329bb9411da9569f9d": {
      "model_module": "@jupyter-widgets/base",
      "model_module_version": "1.1.0",
      "model_name": "LayoutModel",
      "state": {}
     },
     "b4855c7c1a3449b9885f84c6e492ee38": {
      "model_module": "@jupyter-widgets/controls",
      "model_module_version": "1.4.0",
      "model_name": "ButtonModel",
      "state": {
       "description": "Korrekt?",
       "layout": "IPY_MODEL_e528d4b4b1f644f69c295e7d708bf25b",
       "style": "IPY_MODEL_a63743621e424e10baa396e66d2b64a5"
      }
     },
     "b49c3071b27d4e27938b76af3051c052": {
      "model_module": "@jupyter-widgets/controls",
      "model_module_version": "1.4.0",
      "model_name": "HTMLModel",
      "state": {
       "layout": "IPY_MODEL_d4fb0179a7614fc1a6fd74b3a816ceef",
       "style": "IPY_MODEL_4c30edbbfebd48f5af2981d7385528cf",
       "value": "<h4 style=\"font-size:14px;\">Regularitäten bezieht.</h4>"
      }
     },
     "b4a5e1d5b90d4fe0aa2ac5fb5f45b7a2": {
      "model_module": "@jupyter-widgets/controls",
      "model_module_version": "1.4.0",
      "model_name": "DescriptionStyleModel",
      "state": {
       "description_width": "initial"
      }
     },
     "b4dd735725f947ef8734cc90ad3b2a2a": {
      "model_module": "@jupyter-widgets/base",
      "model_module_version": "1.1.0",
      "model_name": "LayoutModel",
      "state": {
       "justify_content": "center"
      }
     },
     "b4e1caa1e7e64cf082e01148e4bc9c64": {
      "model_module": "@jupyter-widgets/controls",
      "model_module_version": "1.4.0",
      "model_name": "DescriptionStyleModel",
      "state": {
       "description_width": ""
      }
     },
     "b4e807bdf1484c82913c8053aaf9c44f": {
      "model_module": "@jupyter-widgets/base",
      "model_module_version": "1.1.0",
      "model_name": "LayoutModel",
      "state": {}
     },
     "b50c5bf317b44d95954a87965bfbbfb6": {
      "model_module": "@jupyter-widgets/controls",
      "model_module_version": "1.4.0",
      "model_name": "ButtonModel",
      "state": {
       "description": "Dependenz",
       "layout": "IPY_MODEL_606ca3e809da4e5ab982871bc9e69002",
       "style": "IPY_MODEL_64dfc736ea314420bf8b88583a5829d1"
      }
     },
     "b545a69ab457453ba9ef8f6cd240b73d": {
      "model_module": "@jupyter-widgets/controls",
      "model_module_version": "1.4.0",
      "model_name": "DescriptionStyleModel",
      "state": {
       "description_width": "initial"
      }
     },
     "b56ac3668f5f4c18ad63cf6fb1308b15": {
      "model_module": "@jupyter-widgets/controls",
      "model_module_version": "1.4.0",
      "model_name": "HTMLModel",
      "state": {
       "layout": "IPY_MODEL_320b6e5f51ac4152a9c87fdcdedc4951",
       "style": "IPY_MODEL_02d6a7aefe2e4305bea12e2d7a3041c3",
       "value": "<i>Vervollständigen Sie den Lückentext: </i>"
      }
     },
     "b56f92c0c59945939bb9f8ddb87af446": {
      "model_module": "@jupyter-widgets/controls",
      "model_module_version": "1.4.0",
      "model_name": "VBoxModel",
      "state": {
       "children": [
        "IPY_MODEL_bd677cbe45124b1b8e180a68efbc8767",
        "IPY_MODEL_7642e7e7db1d40aeabf0b392be8a786d",
        "IPY_MODEL_a7528fa1a6a74afebdcb982c4b95418d",
        "IPY_MODEL_8a3bb7b29b0d455eb1ba8c28b4e76955",
        "IPY_MODEL_2242d6e7fee84d20875657cebb900a2c"
       ],
       "layout": "IPY_MODEL_bf1760c98b1f4937bd446a197499b29e"
      }
     },
     "b57ee35f93cc46adb40e4793ead2bba3": {
      "model_module": "@jupyter-widgets/base",
      "model_module_version": "1.1.0",
      "model_name": "LayoutModel",
      "state": {}
     },
     "b5921ff4750b4872bbeb39eec3e24ab8": {
      "model_module": "@jupyter-widgets/base",
      "model_module_version": "1.1.0",
      "model_name": "LayoutModel",
      "state": {
       "width": "600px"
      }
     },
     "b5a30694ee124601ab4a1a8a1750d475": {
      "model_module": "@jupyter-widgets/controls",
      "model_module_version": "1.4.0",
      "model_name": "ButtonModel",
      "state": {
       "description": "Subjekt",
       "layout": "IPY_MODEL_6ddf66b6cd444bf0b9d349c90797bf16",
       "style": "IPY_MODEL_e905e2fb4e70483b9d5f65dc790f7b1b"
      }
     },
     "b5b8215efdba4914af2be963b72fcd08": {
      "model_module": "@jupyter-widgets/controls",
      "model_module_version": "1.4.0",
      "model_name": "HTMLModel",
      "state": {
       "layout": "IPY_MODEL_cf6596335f7744fb9527a120aa7818bc",
       "style": "IPY_MODEL_deb72640dbcb477fbf8ff7de437f6aa7",
       "value": "<i>Wählen Sie die <ins>eine</ins> korrekte Antwort aus: </i>"
      }
     },
     "b635eddf581349fda7b6a961fbe21edb": {
      "model_module": "@jupyter-widgets/controls",
      "model_module_version": "1.4.0",
      "model_name": "ButtonStyleModel",
      "state": {}
     },
     "b6371ae5ba88416486b5071b37fc0696": {
      "model_module": "@jupyter-widgets/controls",
      "model_module_version": "1.4.0",
      "model_name": "ButtonStyleModel",
      "state": {}
     },
     "b657b81cb9dd4969b7a8771a56f3b648": {
      "model_module": "@jupyter-widgets/base",
      "model_module_version": "1.1.0",
      "model_name": "LayoutModel",
      "state": {
       "width": "250px"
      }
     },
     "b67246a0c5914190b19d1640ba80a58b": {
      "model_module": "@jupyter-widgets/controls",
      "model_module_version": "1.4.0",
      "model_name": "HTMLModel",
      "state": {
       "layout": "IPY_MODEL_e2e95da660cf464fada09d877649e91c",
       "style": "IPY_MODEL_e6597d5f5a34489d8e8b6febeb3e6d39",
       "value": "<i>Markieren Sie <ins>alle</ins> passenden Antworten: </i>"
      }
     },
     "b67bb6dd8f8c406d83ecd92aa7d4c344": {
      "model_module": "@jupyter-widgets/controls",
      "model_module_version": "1.4.0",
      "model_name": "DescriptionStyleModel",
      "state": {
       "description_width": ""
      }
     },
     "b6f022e811854b898568f50d128c4bf9": {
      "model_module": "@jupyter-widgets/controls",
      "model_module_version": "1.4.0",
      "model_name": "ButtonStyleModel",
      "state": {}
     },
     "b749af90c3c24c5a8308f1927697bb1d": {
      "model_module": "@jupyter-widgets/base",
      "model_module_version": "1.1.0",
      "model_name": "LayoutModel",
      "state": {
       "justify_content": "center"
      }
     },
     "b763ead8620c4ac4a94da9850aa8b402": {
      "model_module": "@jupyter-widgets/controls",
      "model_module_version": "1.4.0",
      "model_name": "HTMLModel",
      "state": {
       "layout": "IPY_MODEL_538afbf9620b41158f64442172f4c4fb",
       "style": "IPY_MODEL_63fec0f303f944fd9fd2f6c03dbc8ebe",
       "value": "<h4 style=\"font-size:14px;\">der formalen Sprache.</h4>"
      }
     },
     "b768d210b8094bab87d2044573b8cbce": {
      "model_module": "@jupyter-widgets/controls",
      "model_module_version": "1.4.0",
      "model_name": "DescriptionStyleModel",
      "state": {
       "description_width": "initial"
      }
     },
     "b7c6ac1eaf22444da84a7d67f7b73815": {
      "model_module": "@jupyter-widgets/controls",
      "model_module_version": "1.4.0",
      "model_name": "HTMLModel",
      "state": {
       "layout": "IPY_MODEL_e54b038be7c94f6e95e930c2a165dbf3",
       "style": "IPY_MODEL_49974fa24bdc4311bddad21632c55e34",
       "value": "<i>Wählen Sie die <ins>eine</ins> korrekte Antwort aus: </i>"
      }
     },
     "b7c80ea12eb444088b013598b5570963": {
      "model_module": "@jupyter-widgets/base",
      "model_module_version": "1.1.0",
      "model_name": "LayoutModel",
      "state": {
       "width": "250px"
      }
     },
     "b7e0ad7c73ba4a0fa9b97bf7ccfaa9d1": {
      "model_module": "@jupyter-widgets/controls",
      "model_module_version": "1.4.0",
      "model_name": "ButtonModel",
      "state": {
       "description": "Abhängigkeitsstruktur",
       "layout": "IPY_MODEL_12b6c39b4b9547cb885d3a74a6c6b61b",
       "style": "IPY_MODEL_a5dec6828592468cbe657d79512649d8"
      }
     },
     "b7e919c8f801457989b0e230b47c7462": {
      "model_module": "@jupyter-widgets/base",
      "model_module_version": "1.1.0",
      "model_name": "LayoutModel",
      "state": {
       "width": "250px"
      }
     },
     "b8122b466c1e4d1285cce49a085511ef": {
      "model_module": "@jupyter-widgets/controls",
      "model_module_version": "1.4.0",
      "model_name": "ButtonModel",
      "state": {
       "description": "formale Grammatik",
       "layout": "IPY_MODEL_4d9d2f8b536348b98c296cf4a4fc17b3",
       "style": "IPY_MODEL_05bdf3c2a37141019759e9f4d5bbcaee"
      }
     },
     "b85bfc75d79c4a5cbe04c969c1a7ede5": {
      "model_module": "@jupyter-widgets/controls",
      "model_module_version": "1.4.0",
      "model_name": "ButtonModel",
      "state": {
       "description": "Phrasenstruktur",
       "layout": "IPY_MODEL_fa2bb5a42f6d4205a34f208b92486dbb",
       "style": "IPY_MODEL_e7fa57c53d6b41849cc33f87b3120a77"
      }
     },
     "b863df5deff4447284d4b10c0c487b7f": {
      "model_module": "@jupyter-widgets/base",
      "model_module_version": "1.1.0",
      "model_name": "LayoutModel",
      "state": {
       "width": "600px"
      }
     },
     "b888ddccd2f54fb397e171df9a6143b7": {
      "model_module": "@jupyter-widgets/base",
      "model_module_version": "1.1.0",
      "model_name": "LayoutModel",
      "state": {
       "width": "250px"
      }
     },
     "b8913668f8d7405f9c0987e3e151b3ed": {
      "model_module": "@jupyter-widgets/controls",
      "model_module_version": "1.4.0",
      "model_name": "HTMLModel",
      "state": {
       "layout": "IPY_MODEL_0e0f61db999f4656aaef3dc3f0c63c56",
       "style": "IPY_MODEL_c7346df247554bae8d95ab0a2e8daf6a",
       "value": "<i>Wählen Sie die <ins>eine</ins> korrekte Antwort aus: </i>"
      }
     },
     "b89219406be54c7e957cacaf944fcbbe": {
      "model_module": "@jupyter-widgets/base",
      "model_module_version": "1.1.0",
      "model_name": "LayoutModel",
      "state": {
       "width": "600px"
      }
     },
     "b892faa45c7044e9ba86f11c40944569": {
      "model_module": "@jupyter-widgets/controls",
      "model_module_version": "1.4.0",
      "model_name": "CheckboxModel",
      "state": {
       "description": "Eine unendliche Menge an Sätzen kann mit endlichen Mitteln beschrieben werden.",
       "disabled": false,
       "layout": "IPY_MODEL_dd101dd8954d4d76a76fb6d4df0a0405",
       "style": "IPY_MODEL_6ca93f6b964045c3ba1c44b5e983f756",
       "value": false
      }
     },
     "b8f37f745bcf463e904e9c2587dce6be": {
      "model_module": "@jupyter-widgets/controls",
      "model_module_version": "1.4.0",
      "model_name": "DescriptionStyleModel",
      "state": {
       "description_width": ""
      }
     },
     "b9037b0fe52344ca84d016455dda7652": {
      "model_module": "@jupyter-widgets/controls",
      "model_module_version": "1.4.0",
      "model_name": "ButtonModel",
      "state": {
       "description": "Wissen um Sprachstruktur",
       "layout": "IPY_MODEL_458476d605b446a0b9fd6aab34ee39fb",
       "style": "IPY_MODEL_8297bb746a864aaf8224883b11378ad9"
      }
     },
     "b907df87febe4ad09ed821e8ff39d140": {
      "model_module": "@jupyter-widgets/base",
      "model_module_version": "1.1.0",
      "model_name": "LayoutModel",
      "state": {}
     },
     "b93b129279414415a6fd9a767e8996cd": {
      "model_module": "@jupyter-widgets/controls",
      "model_module_version": "1.4.0",
      "model_name": "HTMLModel",
      "state": {
       "layout": "IPY_MODEL_3ce9cdc204c14b0c8a2d62dd34683458",
       "style": "IPY_MODEL_fc8cc20e410b4307ae4f25eee5fd4df7",
       "value": "<i>Wählen Sie die <ins>eine</ins> korrekte Antwort aus: </i>"
      }
     },
     "b95218d8604247e68849a3c629374a37": {
      "model_module": "@jupyter-widgets/controls",
      "model_module_version": "1.4.0",
      "model_name": "ButtonModel",
      "state": {
       "description": "Wortstruktur",
       "layout": "IPY_MODEL_88736f12987147f2936940bc6dcdc5a9",
       "style": "IPY_MODEL_24f4259903c84206a1c1463177c098e7"
      }
     },
     "b986a7fc449841d98e96933ecefeb043": {
      "model_module": "@jupyter-widgets/base",
      "model_module_version": "1.1.0",
      "model_name": "LayoutModel",
      "state": {
       "width": "250px"
      }
     },
     "b9adb7c593214b208e86d0d4baef18bd": {
      "model_module": "@jupyter-widgets/controls",
      "model_module_version": "1.4.0",
      "model_name": "DescriptionStyleModel",
      "state": {
       "description_width": ""
      }
     },
     "ba059278f50148da8d81c3962f670453": {
      "model_module": "@jupyter-widgets/controls",
      "model_module_version": "1.4.0",
      "model_name": "DescriptionStyleModel",
      "state": {
       "description_width": ""
      }
     },
     "ba2799ce05e747d888fed4c05a951823": {
      "model_module": "@jupyter-widgets/controls",
      "model_module_version": "1.4.0",
      "model_name": "ButtonModel",
      "state": {
       "description": "Korrekt?",
       "layout": "IPY_MODEL_b7c80ea12eb444088b013598b5570963",
       "style": "IPY_MODEL_af5a0bc7b08843e6b19ea0c8ffd96299"
      }
     },
     "ba3471e7319c4988b91092455a229ef0": {
      "model_module": "@jupyter-widgets/base",
      "model_module_version": "1.1.0",
      "model_name": "LayoutModel",
      "state": {
       "width": "250px"
      }
     },
     "ba4acda5378d4b928467570c658307be": {
      "model_module": "@jupyter-widgets/controls",
      "model_module_version": "1.4.0",
      "model_name": "ButtonStyleModel",
      "state": {
       "button_color": "lightgreen"
      }
     },
     "ba6512ac022946878bee02f459b678b8": {
      "model_module": "@jupyter-widgets/base",
      "model_module_version": "1.1.0",
      "model_name": "LayoutModel",
      "state": {
       "justify_content": "center"
      }
     },
     "ba7d4c7dea194df7912604196cf2e21a": {
      "model_module": "@jupyter-widgets/controls",
      "model_module_version": "1.4.0",
      "model_name": "ButtonStyleModel",
      "state": {}
     },
     "ba7df611e5be42d780d1f78035c7745f": {
      "model_module": "@jupyter-widgets/base",
      "model_module_version": "1.1.0",
      "model_name": "LayoutModel",
      "state": {
       "width": "250px"
      }
     },
     "bac5436e80774393892f8cfb9eccd199": {
      "model_module": "@jupyter-widgets/controls",
      "model_module_version": "1.4.0",
      "model_name": "DescriptionStyleModel",
      "state": {
       "description_width": ""
      }
     },
     "bae0504d6a054e029d415e7f4180554e": {
      "model_module": "@jupyter-widgets/controls",
      "model_module_version": "1.4.0",
      "model_name": "ButtonStyleModel",
      "state": {}
     },
     "bb207700115b416ca9c584f8c4250ddf": {
      "model_module": "@jupyter-widgets/controls",
      "model_module_version": "1.4.0",
      "model_name": "HTMLModel",
      "state": {
       "layout": "IPY_MODEL_0c5a5e792e1849168b891f6c9160d4d6",
       "style": "IPY_MODEL_83f3f70b795f4940b1ddbc9cc0800c76",
       "value": "<h4 style=\"font-size:14px;\">Welche Gesetzmäßigkeiten umfasst die Grammatik als Regelsystem?</h4>"
      }
     },
     "bb2963d41b284f71ae1a99d6bc63bddc": {
      "model_module": "@jupyter-widgets/base",
      "model_module_version": "1.1.0",
      "model_name": "LayoutModel",
      "state": {}
     },
     "bb7ace63e1c345e2bb6b6e3612ecbbcb": {
      "model_module": "@jupyter-widgets/controls",
      "model_module_version": "1.4.0",
      "model_name": "ButtonStyleModel",
      "state": {}
     },
     "bbdb0ead6c724844b8e9007dce6378ef": {
      "model_module": "@jupyter-widgets/base",
      "model_module_version": "1.1.0",
      "model_name": "LayoutModel",
      "state": {
       "justify_content": "center"
      }
     },
     "bbe454fc6059465daa0575205a0b0474": {
      "model_module": "@jupyter-widgets/base",
      "model_module_version": "1.1.0",
      "model_name": "LayoutModel",
      "state": {}
     },
     "bbef5d243f1f4f04aceb5a6c72fdd44d": {
      "model_module": "@jupyter-widgets/base",
      "model_module_version": "1.1.0",
      "model_name": "LayoutModel",
      "state": {
       "width": "250px"
      }
     },
     "bc0dbd8feca14f20b011deb397ea003f": {
      "model_module": "@jupyter-widgets/controls",
      "model_module_version": "1.4.0",
      "model_name": "DescriptionStyleModel",
      "state": {
       "description_width": ""
      }
     },
     "bc0dfcee0e5f415391b6527205ca90f3": {
      "model_module": "@jupyter-widgets/base",
      "model_module_version": "1.1.0",
      "model_name": "LayoutModel",
      "state": {
       "width": "600px"
      }
     },
     "bc6a11ce21424e139df4f42fe2e4a03e": {
      "model_module": "@jupyter-widgets/base",
      "model_module_version": "1.1.0",
      "model_name": "LayoutModel",
      "state": {
       "width": "250px"
      }
     },
     "bca2a101f1bd4069bd094d102a729c99": {
      "model_module": "@jupyter-widgets/controls",
      "model_module_version": "1.4.0",
      "model_name": "HTMLModel",
      "state": {
       "layout": "IPY_MODEL_02bfac78201044c5afe62773fef42122",
       "style": "IPY_MODEL_d1095d9166134311af62281697d2327c",
       "value": "<i>Markieren Sie <ins>alle</ins> passenden Antworten: </i>"
      }
     },
     "bcbb27234d3f47bb8c13679cc2583dda": {
      "model_module": "@jupyter-widgets/controls",
      "model_module_version": "1.4.0",
      "model_name": "ButtonStyleModel",
      "state": {}
     },
     "bcd62fa289464920ba26373e1301ae30": {
      "model_module": "@jupyter-widgets/base",
      "model_module_version": "1.1.0",
      "model_name": "LayoutModel",
      "state": {
       "width": "250px"
      }
     },
     "bd2d393983774fe8a8df39d833a4a18c": {
      "model_module": "@jupyter-widgets/base",
      "model_module_version": "1.1.0",
      "model_name": "LayoutModel",
      "state": {}
     },
     "bd61d4e8f0ab4768844667c01a644c75": {
      "model_module": "@jupyter-widgets/controls",
      "model_module_version": "1.4.0",
      "model_name": "HBoxModel",
      "state": {
       "children": [
        "IPY_MODEL_3215a1a6cb9041d0a7946fe0d6c1e4a4"
       ],
       "layout": "IPY_MODEL_6178447a6e2447b2891ef83763859a01"
      }
     },
     "bd677cbe45124b1b8e180a68efbc8767": {
      "model_module": "@jupyter-widgets/controls",
      "model_module_version": "1.4.0",
      "model_name": "CheckboxModel",
      "state": {
       "description": "Adverbialphrase",
       "disabled": false,
       "layout": "IPY_MODEL_dc10dc85f3c74f5296a599da78aecb90",
       "style": "IPY_MODEL_4c2b145ba86f43809b437dca1dbba4be",
       "value": false
      }
     },
     "bd73b6d41eca4caf81776ec4dd655b09": {
      "model_module": "@jupyter-widgets/controls",
      "model_module_version": "1.4.0",
      "model_name": "ButtonModel",
      "state": {
       "description": "Korrekt?",
       "layout": "IPY_MODEL_bbef5d243f1f4f04aceb5a6c72fdd44d",
       "style": "IPY_MODEL_cd2c00872109401680e343741306067f"
      }
     },
     "bd914bdd74d74d66bcde3cc3b968650f": {
      "model_module": "@jupyter-widgets/base",
      "model_module_version": "1.1.0",
      "model_name": "LayoutModel",
      "state": {
       "align_content": "stretch",
       "align_items": "stretch",
       "display": "inline-flex",
       "flex": "flex-grow",
       "flex_flow": "row wrap",
       "justify_content": "flex-start"
      }
     },
     "bdb4fec9b2fa4a289df36057ca16ace5": {
      "model_module": "@jupyter-widgets/controls",
      "model_module_version": "1.4.0",
      "model_name": "DescriptionStyleModel",
      "state": {
       "description_width": "initial"
      }
     },
     "bdefd2bb995f4994bd3f32c5ba65cd61": {
      "model_module": "@jupyter-widgets/controls",
      "model_module_version": "1.4.0",
      "model_name": "DescriptionStyleModel",
      "state": {
       "description_width": ""
      }
     },
     "be6e9a34800646a992a04bee68551c10": {
      "model_module": "@jupyter-widgets/controls",
      "model_module_version": "1.4.0",
      "model_name": "ButtonStyleModel",
      "state": {
       "button_color": "lightgreen"
      }
     },
     "be910d55b3eb483e898750b0eb7f489e": {
      "model_module": "@jupyter-widgets/controls",
      "model_module_version": "1.4.0",
      "model_name": "ButtonStyleModel",
      "state": {}
     },
     "beb087f1ff8348b7826b1cbcc3e41850": {
      "model_module": "@jupyter-widgets/base",
      "model_module_version": "1.1.0",
      "model_name": "LayoutModel",
      "state": {
       "justify_content": "center"
      }
     },
     "beb5df34e469470491e902d64289e9c1": {
      "model_module": "@jupyter-widgets/base",
      "model_module_version": "1.1.0",
      "model_name": "LayoutModel",
      "state": {
       "justify_content": "center"
      }
     },
     "beb69d88e55342cebfcb40d0217f6324": {
      "model_module": "@jupyter-widgets/controls",
      "model_module_version": "1.4.0",
      "model_name": "DescriptionStyleModel",
      "state": {
       "description_width": ""
      }
     },
     "bec61fa0f31b4b0293ce962ad4de8004": {
      "model_module": "@jupyter-widgets/base",
      "model_module_version": "1.1.0",
      "model_name": "LayoutModel",
      "state": {
       "width": "250px"
      }
     },
     "becdbfe4b44e4af2a09db669d4df979c": {
      "model_module": "@jupyter-widgets/base",
      "model_module_version": "1.1.0",
      "model_name": "LayoutModel",
      "state": {
       "width": "250px"
      }
     },
     "becf05a4408e4dc39c6ac4b3201d7fd6": {
      "model_module": "@jupyter-widgets/controls",
      "model_module_version": "1.4.0",
      "model_name": "ButtonModel",
      "state": {
       "description": "lexikalische Ambiguität",
       "layout": "IPY_MODEL_9860884981654223ad4d7d662887bc88",
       "style": "IPY_MODEL_ff57ea099bc44a728a356c7429339850"
      }
     },
     "bed74f6cc61e4c088af3bf80b4a548ad": {
      "model_module": "@jupyter-widgets/controls",
      "model_module_version": "1.4.0",
      "model_name": "ButtonModel",
      "state": {
       "description": "Korrekt?",
       "layout": "IPY_MODEL_0954224ed07241ca86a25e7e2ffe4606",
       "style": "IPY_MODEL_cbc6fc9a5754472c8c45805197aef478"
      }
     },
     "bf013946cf6f456395e208807bd35ac5": {
      "model_module": "@jupyter-widgets/controls",
      "model_module_version": "1.4.0",
      "model_name": "HTMLModel",
      "state": {
       "layout": "IPY_MODEL_8fee5ee1076b49d89ef5678f973017b9",
       "style": "IPY_MODEL_1d6e4f9af7cb4f5bb0e06fe3b623b4a3",
       "value": "<i>Markieren Sie <ins>alle</ins> passenden Antworten: </i>"
      }
     },
     "bf1760c98b1f4937bd446a197499b29e": {
      "model_module": "@jupyter-widgets/base",
      "model_module_version": "1.1.0",
      "model_name": "LayoutModel",
      "state": {}
     },
     "bf1be74546cf48fcbea9e8060bffa82d": {
      "model_module": "@jupyter-widgets/base",
      "model_module_version": "1.1.0",
      "model_name": "LayoutModel",
      "state": {
       "justify_content": "center"
      }
     },
     "bf5aa4c88f6f4dfa8a4244c2bd020c48": {
      "model_module": "@jupyter-widgets/controls",
      "model_module_version": "1.4.0",
      "model_name": "CheckboxModel",
      "state": {
       "description": "Eine endliche Menge an Sätzen kann mit unendlichen Mitteln beschrieben werden.",
       "disabled": false,
       "layout": "IPY_MODEL_6922243972644bdfb8564bb2ae1b3368",
       "style": "IPY_MODEL_1f09a08e945d4826ad1870700dc70c6e",
       "value": false
      }
     },
     "c07a47df3b8246d9a088dc7b3d5bd424": {
      "model_module": "@jupyter-widgets/controls",
      "model_module_version": "1.4.0",
      "model_name": "HBoxModel",
      "state": {
       "children": [
        "IPY_MODEL_8e660816b7da439f9105105094b2a9e3",
        "IPY_MODEL_7a409e1ef5804ecd94012b4d55a10fa9"
       ],
       "layout": "IPY_MODEL_7eb6b1eddc3c4f52be99528ffcdfecd2"
      }
     },
     "c08ff3ffdc6e4322a73bdccf944ce709": {
      "model_module": "@jupyter-widgets/controls",
      "model_module_version": "1.4.0",
      "model_name": "DescriptionStyleModel",
      "state": {
       "description_width": "initial"
      }
     },
     "c09ac11b2c404fd694296e8918fc1e4f": {
      "model_module": "@jupyter-widgets/controls",
      "model_module_version": "1.4.0",
      "model_name": "ButtonModel",
      "state": {
       "description": "Konstituenz",
       "layout": "IPY_MODEL_317aade5875440c19b7b9be4e76cdead",
       "style": "IPY_MODEL_d42b10982fd64d5292e855356d01b9b7"
      }
     },
     "c0b970a4df274fd6b95c7c48b696b57e": {
      "model_module": "@jupyter-widgets/controls",
      "model_module_version": "1.4.0",
      "model_name": "VBoxModel",
      "state": {
       "children": [
        "IPY_MODEL_62de141e78f44e0fbe9666c6cf16c6e7",
        "IPY_MODEL_86b3c6273ae44890aa8bf76927f87556",
        "IPY_MODEL_f0ec253ab5334fb39d4451900f51f49c",
        "IPY_MODEL_4bee382ca2e04ae2b89c8835f6a31e0c"
       ],
       "layout": "IPY_MODEL_1da591de77cc4fb7bf99a403e1c0f9e5"
      }
     },
     "c0e3a2d23d85406b8eaa5584406f1d05": {
      "model_module": "@jupyter-widgets/controls",
      "model_module_version": "1.4.0",
      "model_name": "HTMLModel",
      "state": {
       "layout": "IPY_MODEL_2461b1e564734b73960a1e61b9a9023e",
       "style": "IPY_MODEL_0a491b675c264ae0bcec0f25b0934606",
       "value": "<i>Wählen Sie die <ins>eine</ins> korrekte Antwort aus: </i>"
      }
     },
     "c0f469ece8bd4f9d8b5daaa3e3b42789": {
      "model_module": "@jupyter-widgets/controls",
      "model_module_version": "1.4.0",
      "model_name": "ButtonStyleModel",
      "state": {}
     },
     "c14fd82d4eab4fd1a3009fc5da171873": {
      "model_module": "@jupyter-widgets/base",
      "model_module_version": "1.1.0",
      "model_name": "LayoutModel",
      "state": {
       "width": "600px"
      }
     },
     "c16c2115dd1246c88220d5ac62a4aa46": {
      "model_module": "@jupyter-widgets/controls",
      "model_module_version": "1.4.0",
      "model_name": "DescriptionStyleModel",
      "state": {
       "description_width": "initial"
      }
     },
     "c17344080edb4bfd9191d32b2a503031": {
      "model_module": "@jupyter-widgets/controls",
      "model_module_version": "1.4.0",
      "model_name": "ButtonModel",
      "state": {
       "description": "Korrekt?",
       "layout": "IPY_MODEL_279f917441b641fc8d1ec876f639cb3b",
       "style": "IPY_MODEL_847be3c053b54c5a905f467e2f3078a8"
      }
     },
     "c187a7aac3694939bcdc175869ebbba5": {
      "model_module": "@jupyter-widgets/controls",
      "model_module_version": "1.4.0",
      "model_name": "HTMLModel",
      "state": {
       "layout": "IPY_MODEL_e6be71bb969a4a679650144d82707a62",
       "style": "IPY_MODEL_38f79588b5774583a3f0cf85b9d4b907",
       "value": "<i>Markieren Sie <ins>alle</ins> passenden Antworten: </i>"
      }
     },
     "c1a119bbafc74e578189ef07ae7e0009": {
      "model_module": "@jupyter-widgets/controls",
      "model_module_version": "1.4.0",
      "model_name": "VBoxModel",
      "state": {
       "children": [
        "IPY_MODEL_6a532f4aff744d8b98a7c2da33aac8b0",
        "IPY_MODEL_91f2395482c94652b5e61e125048ade4",
        "IPY_MODEL_b056c582ec1b4648842521e7be32f4c1",
        "IPY_MODEL_8d8ac83ab7c949a6be7e499625149cc3",
        "IPY_MODEL_de89e9896c764095b6a2a856f1e71cd7"
       ],
       "layout": "IPY_MODEL_94cdbdc154914d1983460911ba8e5cc7"
      }
     },
     "c1e807898c8546349559ef5aa4490929": {
      "model_module": "@jupyter-widgets/controls",
      "model_module_version": "1.4.0",
      "model_name": "ButtonStyleModel",
      "state": {}
     },
     "c25c9aab172e4ec28d33f6763a185b2b": {
      "model_module": "@jupyter-widgets/controls",
      "model_module_version": "1.4.0",
      "model_name": "CheckboxModel",
      "state": {
       "description": "Korrektheit",
       "disabled": false,
       "layout": "IPY_MODEL_14b64ca1b3b34bac9c481813647bd8f7",
       "style": "IPY_MODEL_c471817de2584f47a09d62b3ee1e697a",
       "value": false
      }
     },
     "c2e3c6dbd0cb4ea193d048b8a9ef38db": {
      "model_module": "@jupyter-widgets/controls",
      "model_module_version": "1.4.0",
      "model_name": "VBoxModel",
      "state": {
       "children": [
        "IPY_MODEL_34ebfd604c0d4f4dbda757b6422e0cf9",
        "IPY_MODEL_c81f26ee26884b0ab3062e267e27303c",
        "IPY_MODEL_a22c9095316e4ae9be514edbb59e0295",
        "IPY_MODEL_bed74f6cc61e4c088af3bf80b4a548ad"
       ],
       "layout": "IPY_MODEL_98110085a5b944b0ae2495327c9182c0"
      }
     },
     "c2e734a112a549d68b3404160ea2240a": {
      "model_module": "@jupyter-widgets/base",
      "model_module_version": "1.1.0",
      "model_name": "LayoutModel",
      "state": {
       "width": "250px"
      }
     },
     "c35852e816c0452a89f40a68f7fffe69": {
      "model_module": "@jupyter-widgets/controls",
      "model_module_version": "1.4.0",
      "model_name": "HTMLModel",
      "state": {
       "layout": "IPY_MODEL_1b8eb91797ed410fb004f685fb3b7f22",
       "style": "IPY_MODEL_346d21277cc3433bbb4981606d4b325f",
       "value": "<i>Wählen Sie die <ins>eine</ins> korrekte Antwort aus: </i>"
      }
     },
     "c38220c06b944538a8abdcb86b684e81": {
      "model_module": "@jupyter-widgets/controls",
      "model_module_version": "1.4.0",
      "model_name": "ButtonModel",
      "state": {
       "description": "Korrekt?",
       "layout": "IPY_MODEL_cccbda40bddf4910a3ac2b31cb90bbdd",
       "style": "IPY_MODEL_fc51ba614bca454f9698fbe551e8431e"
      }
     },
     "c384b451616241a586cefcda0d4cb99e": {
      "model_module": "@jupyter-widgets/base",
      "model_module_version": "1.1.0",
      "model_name": "LayoutModel",
      "state": {
       "width": "250px"
      }
     },
     "c38fbeca278a4b13b00fffa56d99e740": {
      "model_module": "@jupyter-widgets/base",
      "model_module_version": "1.1.0",
      "model_name": "LayoutModel",
      "state": {
       "width": "250px"
      }
     },
     "c3b9dc5dcd524bb3bfbe3ce9dcc71c5e": {
      "model_module": "@jupyter-widgets/base",
      "model_module_version": "1.1.0",
      "model_name": "LayoutModel",
      "state": {
       "width": "600px"
      }
     },
     "c3ca223ba00e440884758e94d756c1aa": {
      "model_module": "@jupyter-widgets/base",
      "model_module_version": "1.1.0",
      "model_name": "LayoutModel",
      "state": {}
     },
     "c3d03324c1e245abb4acad550fc8bf42": {
      "model_module": "@jupyter-widgets/controls",
      "model_module_version": "1.4.0",
      "model_name": "HBoxModel",
      "state": {
       "children": [
        "IPY_MODEL_a08066c9a3c74d8782a5682e5e953483",
        "IPY_MODEL_1b81556ba6f647989902db183787a88b"
       ],
       "layout": "IPY_MODEL_422b00d61f09446cb5d3e5b19a4a629b"
      }
     },
     "c3e74535ee5444878df9af2c253d92b0": {
      "model_module": "@jupyter-widgets/controls",
      "model_module_version": "1.4.0",
      "model_name": "HTMLModel",
      "state": {
       "layout": "IPY_MODEL_ac04b64cfcb44f97abfa589557371712",
       "style": "IPY_MODEL_9d8799cb16c743ca92092b750b5430c2",
       "value": "<i>Vervollständigen Sie den Lückentext: </i>"
      }
     },
     "c40cd27ac198424e92ce5d40c346cb49": {
      "model_module": "@jupyter-widgets/controls",
      "model_module_version": "1.4.0",
      "model_name": "ButtonStyleModel",
      "state": {}
     },
     "c4113f6d534f424681f4b9f367858f1e": {
      "model_module": "@jupyter-widgets/controls",
      "model_module_version": "1.4.0",
      "model_name": "DescriptionStyleModel",
      "state": {
       "description_width": ""
      }
     },
     "c413e1068d214d909c3f2c15644531af": {
      "model_module": "@jupyter-widgets/base",
      "model_module_version": "1.1.0",
      "model_name": "LayoutModel",
      "state": {
       "width": "500px"
      }
     },
     "c43c8ba1aa6441f989ae89ff3971001f": {
      "model_module": "@jupyter-widgets/controls",
      "model_module_version": "1.4.0",
      "model_name": "DescriptionStyleModel",
      "state": {
       "description_width": ""
      }
     },
     "c471817de2584f47a09d62b3ee1e697a": {
      "model_module": "@jupyter-widgets/controls",
      "model_module_version": "1.4.0",
      "model_name": "DescriptionStyleModel",
      "state": {
       "description_width": "initial"
      }
     },
     "c48a6dcdde4c48a2a0fce2e348a536d1": {
      "model_module": "@jupyter-widgets/controls",
      "model_module_version": "1.4.0",
      "model_name": "HBoxModel",
      "state": {
       "children": [
        "IPY_MODEL_db17eb5c50024dc791a80a4b08657bb2",
        "IPY_MODEL_e9b050cf169949958c2e13dc827b3fc1"
       ],
       "layout": "IPY_MODEL_bbe454fc6059465daa0575205a0b0474"
      }
     },
     "c4a74e013f5a4751bdc8f6059d135954": {
      "model_module": "@jupyter-widgets/controls",
      "model_module_version": "1.4.0",
      "model_name": "HBoxModel",
      "state": {
       "children": [
        "IPY_MODEL_b0cd15f14c12486299bede8f43ce7c09",
        "IPY_MODEL_97d5ecb8daf34ae9acee1a7c0c82836c"
       ],
       "layout": "IPY_MODEL_3f20804594394f25b0e5bb6bbcbaeba8"
      }
     },
     "c4dc5a23fdbc4762a9dd35988bfa3939": {
      "model_module": "@jupyter-widgets/controls",
      "model_module_version": "1.4.0",
      "model_name": "VBoxModel",
      "state": {
       "children": [
        "IPY_MODEL_f89467ee0a854d4e80c18ee9e60f3131",
        "IPY_MODEL_0b72ad8557194198bced326b398e52e1",
        "IPY_MODEL_ca90cf4c76f9435aa503044c99d858b5",
        "IPY_MODEL_8e21795a22414b2d9ba76290a95fa0cc"
       ],
       "layout": "IPY_MODEL_aae245a580364996ac2946b38eb2b699"
      }
     },
     "c4ea03a6bc034a29ab15c4cf097c93a7": {
      "model_module": "@jupyter-widgets/base",
      "model_module_version": "1.1.0",
      "model_name": "LayoutModel",
      "state": {}
     },
     "c50039a912af4834adf2b785d8f2b163": {
      "model_module": "@jupyter-widgets/base",
      "model_module_version": "1.1.0",
      "model_name": "LayoutModel",
      "state": {}
     },
     "c515e7f7c62d44a89cdf0654520a2045": {
      "model_module": "@jupyter-widgets/base",
      "model_module_version": "1.1.0",
      "model_name": "LayoutModel",
      "state": {
       "width": "600px"
      }
     },
     "c529ff6658f34acf9cef4facc30b7524": {
      "model_module": "@jupyter-widgets/controls",
      "model_module_version": "1.4.0",
      "model_name": "HTMLModel",
      "state": {
       "layout": "IPY_MODEL_a0f3ac8409f2458cbe3f19d5c823463c",
       "style": "IPY_MODEL_b67bb6dd8f8c406d83ecd92aa7d4c344",
       "value": "<i>Wählen Sie die <ins>eine</ins> korrekte Antwort aus: </i>"
      }
     },
     "c52c25facf4542ac8cb823a0f8171847": {
      "model_module": "@jupyter-widgets/controls",
      "model_module_version": "1.4.0",
      "model_name": "ButtonModel",
      "state": {
       "description": "Parser",
       "layout": "IPY_MODEL_2c218d07cc114eee80fa64554a07e3e5",
       "style": "IPY_MODEL_d66d616b4e5143fca867295e636446e0"
      }
     },
     "c5351ced2f6b4881a4080cbffd2660ac": {
      "model_module": "@jupyter-widgets/controls",
      "model_module_version": "1.4.0",
      "model_name": "HBoxModel",
      "state": {
       "children": [
        "IPY_MODEL_e1f923e1fefd4260aa1b8776982439e2",
        "IPY_MODEL_a635be9752984d7584948cc3916b8a60"
       ],
       "layout": "IPY_MODEL_40e828b483864100bc6674360fb3a575"
      }
     },
     "c5747b963aaa4d70a34603a9ad3ea3aa": {
      "model_module": "@jupyter-widgets/base",
      "model_module_version": "1.1.0",
      "model_name": "LayoutModel",
      "state": {
       "justify_content": "center"
      }
     },
     "c5770e4579d04e949e64d913e7024349": {
      "model_module": "@jupyter-widgets/controls",
      "model_module_version": "1.4.0",
      "model_name": "HBoxModel",
      "state": {
       "children": [
        "IPY_MODEL_eb62ec88b90244b1bdc90810537709c8",
        "IPY_MODEL_cf1c6b1070b74b57a66206b9d238e004"
       ],
       "layout": "IPY_MODEL_48508cc6d29a4c52a1c02bcd26b11dbe"
      }
     },
     "c595afca12db4d7b826294f549374f72": {
      "model_module": "@jupyter-widgets/base",
      "model_module_version": "1.1.0",
      "model_name": "LayoutModel",
      "state": {}
     },
     "c59986b30cab4180af56bc56265729e7": {
      "model_module": "@jupyter-widgets/controls",
      "model_module_version": "1.4.0",
      "model_name": "CheckboxModel",
      "state": {
       "description": "Nomen ist Kopf einer NP-Phrase",
       "disabled": false,
       "layout": "IPY_MODEL_fb8a94a189a14112ab3fb1231da0cddd",
       "style": "IPY_MODEL_0de29de0dac24d859a345b069e5167c1",
       "value": false
      }
     },
     "c5a5b8fc7eab4a7aa76785d5b602cf96": {
      "model_module": "@jupyter-widgets/base",
      "model_module_version": "1.1.0",
      "model_name": "LayoutModel",
      "state": {
       "width": "250px"
      }
     },
     "c5ca272c3b5643bf9f353a9ed8eaeb53": {
      "model_module": "@jupyter-widgets/controls",
      "model_module_version": "1.4.0",
      "model_name": "DescriptionStyleModel",
      "state": {
       "description_width": ""
      }
     },
     "c5f450f40c7042da99551772c1153e8e": {
      "model_module": "@jupyter-widgets/controls",
      "model_module_version": "1.4.0",
      "model_name": "DescriptionStyleModel",
      "state": {
       "description_width": "initial"
      }
     },
     "c5ffeb6f3eca43bfa8b4e427320d2080": {
      "model_module": "@jupyter-widgets/controls",
      "model_module_version": "1.4.0",
      "model_name": "CheckboxModel",
      "state": {
       "description": "Dependenz",
       "disabled": false,
       "layout": "IPY_MODEL_ccac2b5b54e147f79b157672a4ed5b8e",
       "style": "IPY_MODEL_7b197edf2e0b4ae4bdcc821726eee4cf",
       "value": false
      }
     },
     "c61230ddbe2e492ba8dd4f30fed9825a": {
      "model_module": "@jupyter-widgets/controls",
      "model_module_version": "1.4.0",
      "model_name": "ButtonStyleModel",
      "state": {}
     },
     "c67c68e4cfd74a59a0ceb01cdeef83d4": {
      "model_module": "@jupyter-widgets/base",
      "model_module_version": "1.1.0",
      "model_name": "LayoutModel",
      "state": {
       "width": "250px"
      }
     },
     "c6885f38430b4710b04f6be5dc4efd43": {
      "model_module": "@jupyter-widgets/controls",
      "model_module_version": "1.4.0",
      "model_name": "CheckboxModel",
      "state": {
       "description": "Sinnhaftigkeit",
       "disabled": false,
       "layout": "IPY_MODEL_0f7343a281cb497a9db87a8a21dacc10",
       "style": "IPY_MODEL_6acc388e4bad4a74bc89c0ddad93641b",
       "value": false
      }
     },
     "c6bef901dcab44809f9e85ddca415f79": {
      "model_module": "@jupyter-widgets/controls",
      "model_module_version": "1.4.0",
      "model_name": "DescriptionStyleModel",
      "state": {
       "description_width": "initial"
      }
     },
     "c6cd7bc635dd4d2fba088a5c0b4ec720": {
      "model_module": "@jupyter-widgets/controls",
      "model_module_version": "1.4.0",
      "model_name": "ButtonStyleModel",
      "state": {}
     },
     "c6e73dec58f8462a857e8a1572849ef1": {
      "model_module": "@jupyter-widgets/controls",
      "model_module_version": "1.4.0",
      "model_name": "DescriptionStyleModel",
      "state": {
       "description_width": "initial"
      }
     },
     "c6f13e62e0e84217b596d5d3a92acae1": {
      "model_module": "@jupyter-widgets/controls",
      "model_module_version": "1.4.0",
      "model_name": "CheckboxModel",
      "state": {
       "description": "Attributphrase",
       "disabled": false,
       "layout": "IPY_MODEL_94e219b5b0ef4e20b2ede733caa4c043",
       "style": "IPY_MODEL_13b042c33f4a427fb7d05e0070b35eb6",
       "value": false
      }
     },
     "c7346df247554bae8d95ab0a2e8daf6a": {
      "model_module": "@jupyter-widgets/controls",
      "model_module_version": "1.4.0",
      "model_name": "DescriptionStyleModel",
      "state": {
       "description_width": ""
      }
     },
     "c78a9b631e834f7d86267c1773746eb4": {
      "model_module": "@jupyter-widgets/controls",
      "model_module_version": "1.4.0",
      "model_name": "DescriptionStyleModel",
      "state": {
       "description_width": "initial"
      }
     },
     "c7a0c1367d764ec6a557f479d00d541f": {
      "model_module": "@jupyter-widgets/base",
      "model_module_version": "1.1.0",
      "model_name": "LayoutModel",
      "state": {}
     },
     "c7a173d35e804354ac132cbb2bc1c4c3": {
      "model_module": "@jupyter-widgets/controls",
      "model_module_version": "1.4.0",
      "model_name": "ButtonModel",
      "state": {
       "description": "Korrekt?",
       "layout": "IPY_MODEL_1a2b89d1e76547ee80a350677b305c18",
       "style": "IPY_MODEL_5ebb3a77895b4e9eb37cc5a97b12ab23"
      }
     },
     "c7b4339f66d248f3a2517b13678b1920": {
      "model_module": "@jupyter-widgets/controls",
      "model_module_version": "1.4.0",
      "model_name": "HTMLModel",
      "state": {
       "layout": "IPY_MODEL_dd2f1256aa384cf2adcb5f07c3d923f2",
       "style": "IPY_MODEL_eefeab5d6ede48e49a0b6aff7a4123b5",
       "value": "<h4 style=\"font-size:14px;\">der Grammatik, der sich auf die</h4>"
      }
     },
     "c7c38608f27a4dac8dc26ac2059aa14f": {
      "model_module": "@jupyter-widgets/base",
      "model_module_version": "1.1.0",
      "model_name": "LayoutModel",
      "state": {
       "width": "600px"
      }
     },
     "c7c50498e6c14037ac7e0c0598da4cd8": {
      "model_module": "@jupyter-widgets/base",
      "model_module_version": "1.1.0",
      "model_name": "LayoutModel",
      "state": {
       "width": "250px"
      }
     },
     "c7e8beac8ecc49e2aafbc3ee8327e62a": {
      "model_module": "@jupyter-widgets/base",
      "model_module_version": "1.1.0",
      "model_name": "LayoutModel",
      "state": {}
     },
     "c7f11e5ecd174e44b118d102d83c48a2": {
      "model_module": "@jupyter-widgets/controls",
      "model_module_version": "1.4.0",
      "model_name": "DropdownModel",
      "state": {
       "_options_labels": [
        "morphologischen",
        "phonologischen",
        "semantischen",
        "syntaktischen",
        " "
       ],
       "index": 3,
       "layout": "IPY_MODEL_a7f3ff80986e4b14906dc883adf787a2",
       "style": "IPY_MODEL_ce27a1f737ee4c0591ce241e8595edac"
      }
     },
     "c81f26ee26884b0ab3062e267e27303c": {
      "model_module": "@jupyter-widgets/controls",
      "model_module_version": "1.4.0",
      "model_name": "HTMLModel",
      "state": {
       "layout": "IPY_MODEL_2479f8ab96ab4c6daa408ee85566c757",
       "style": "IPY_MODEL_49cd413fbbbe475698bb0968f5ac6d40",
       "value": "<i>Wählen Sie die <ins>eine</ins> korrekte Antwort aus: </i>"
      }
     },
     "c833b3133a8b408b92ff4d59b4b7b049": {
      "model_module": "@jupyter-widgets/base",
      "model_module_version": "1.1.0",
      "model_name": "LayoutModel",
      "state": {
       "width": "250px"
      }
     },
     "c860dc9345b5432c96b0984979f29259": {
      "model_module": "@jupyter-widgets/controls",
      "model_module_version": "1.4.0",
      "model_name": "ButtonModel",
      "state": {
       "description": "Keine der anderen Möglichkeiten",
       "layout": "IPY_MODEL_302d705635f04e25aa28c571cb33dd42",
       "style": "IPY_MODEL_9644eed446ed43e5a85b349cea9bb430"
      }
     },
     "c887abcbf7ea4486a4cb659df09ec555": {
      "model_module": "@jupyter-widgets/base",
      "model_module_version": "1.1.0",
      "model_name": "LayoutModel",
      "state": {
       "width": "250px"
      }
     },
     "c8a491c10e9a4cb3bb9aa55ace222002": {
      "model_module": "@jupyter-widgets/controls",
      "model_module_version": "1.4.0",
      "model_name": "HBoxModel",
      "state": {
       "children": [
        "IPY_MODEL_03ed9937e5b2428ca1d13fc7e833a965",
        "IPY_MODEL_a737cfa7ba6a492da0a5b5c70556467d"
       ],
       "layout": "IPY_MODEL_0c44c3c18e8a4e6381724c557ba3f153"
      }
     },
     "c8ab15707aca4c839c5b01c5a02a7325": {
      "model_module": "@jupyter-widgets/base",
      "model_module_version": "1.1.0",
      "model_name": "LayoutModel",
      "state": {
       "width": "250px"
      }
     },
     "c8cf3905a89a4d56b52df072f78a6a03": {
      "model_module": "@jupyter-widgets/base",
      "model_module_version": "1.1.0",
      "model_name": "LayoutModel",
      "state": {}
     },
     "c93a74e7162b41deb843dc7dcfd1dd42": {
      "model_module": "@jupyter-widgets/base",
      "model_module_version": "1.1.0",
      "model_name": "LayoutModel",
      "state": {}
     },
     "c9742b95d8324073b8fb7c869be6b46e": {
      "model_module": "@jupyter-widgets/base",
      "model_module_version": "1.1.0",
      "model_name": "LayoutModel",
      "state": {
       "width": "250px"
      }
     },
     "c9904f341ec94d5983f5b297a3bfeed6": {
      "model_module": "@jupyter-widgets/controls",
      "model_module_version": "1.4.0",
      "model_name": "HTMLModel",
      "state": {
       "layout": "IPY_MODEL_6d7a0c61a77b480897d2168387fb430f",
       "style": "IPY_MODEL_b9adb7c593214b208e86d0d4baef18bd",
       "value": "<i>Wählen Sie die <ins>eine</ins> korrekte Antwort aus: </i>"
      }
     },
     "c9a8ff4754fa4a9cb88bd72fc98f398a": {
      "model_module": "@jupyter-widgets/base",
      "model_module_version": "1.1.0",
      "model_name": "LayoutModel",
      "state": {}
     },
     "c9c65822e80d49c592027a3a80a9a22d": {
      "model_module": "@jupyter-widgets/controls",
      "model_module_version": "1.4.0",
      "model_name": "HTMLModel",
      "state": {
       "layout": "IPY_MODEL_91c2c1e6d94645d39b90af7b80626f05",
       "style": "IPY_MODEL_cc04617b61954f75bc6de7dfa12e90fe",
       "value": "<h4 style=\"font-size:14px;\">Welche Funktion nimmt das Gerund ein, wenn das Nomen Kopf der Gerund-Nomen-Phrase ist?</h4>"
      }
     },
     "ca0a91b0105a429986e2363e0f71bab3": {
      "model_module": "@jupyter-widgets/base",
      "model_module_version": "1.1.0",
      "model_name": "LayoutModel",
      "state": {
       "justify_content": "center"
      }
     },
     "ca521d404dd74771972f5b01888cf6a9": {
      "model_module": "@jupyter-widgets/base",
      "model_module_version": "1.1.0",
      "model_name": "LayoutModel",
      "state": {
       "width": "250px"
      }
     },
     "ca57495955714d15a16f6232cc1e50ac": {
      "model_module": "@jupyter-widgets/controls",
      "model_module_version": "1.4.0",
      "model_name": "DescriptionStyleModel",
      "state": {
       "description_width": ""
      }
     },
     "ca6804475de44d57b35ad4ae512a1f15": {
      "model_module": "@jupyter-widgets/controls",
      "model_module_version": "1.4.0",
      "model_name": "ButtonModel",
      "state": {
       "description": "Korrekt?",
       "layout": "IPY_MODEL_bec61fa0f31b4b0293ce962ad4de8004",
       "style": "IPY_MODEL_820454d2ecfb47f59c546856fa088c7b"
      }
     },
     "ca90cf4c76f9435aa503044c99d858b5": {
      "model_module": "@jupyter-widgets/controls",
      "model_module_version": "1.4.0",
      "model_name": "VBoxModel",
      "state": {
       "children": [
        "IPY_MODEL_52e5c3a069fa4af1b7f8e16fa068ffcc",
        "IPY_MODEL_c6885f38430b4710b04f6be5dc4efd43",
        "IPY_MODEL_88cd324c4ac3481582a1d9b9a740cbe0"
       ],
       "layout": "IPY_MODEL_df13179322d943559e0fe0370026737a"
      }
     },
     "cafdffe1c4ea481094caed2985efc78f": {
      "model_module": "@jupyter-widgets/controls",
      "model_module_version": "1.4.0",
      "model_name": "ButtonStyleModel",
      "state": {}
     },
     "cb14d047728740f18029e1f33aa39b53": {
      "model_module": "@jupyter-widgets/controls",
      "model_module_version": "1.4.0",
      "model_name": "ButtonModel",
      "state": {
       "description": "Theorie der Sprachstruktur",
       "layout": "IPY_MODEL_a0e0dcfc19b54ffcb6e24de473a6457c",
       "style": "IPY_MODEL_7dc6a223e8e945f79c0805937a93d565"
      }
     },
     "cb2fc6c50e55431995f1114454b10c51": {
      "model_module": "@jupyter-widgets/controls",
      "model_module_version": "1.4.0",
      "model_name": "ButtonStyleModel",
      "state": {
       "button_color": "lightgreen"
      }
     },
     "cb4006d2bde64cf08759557e42f96e8d": {
      "model_module": "@jupyter-widgets/base",
      "model_module_version": "1.1.0",
      "model_name": "LayoutModel",
      "state": {
       "justify_content": "center"
      }
     },
     "cb465b8212424232bbbb41c11d1f0a26": {
      "model_module": "@jupyter-widgets/controls",
      "model_module_version": "1.4.0",
      "model_name": "ButtonStyleModel",
      "state": {}
     },
     "cb67d18e83514c2d933ccb6feb4ff4ef": {
      "model_module": "@jupyter-widgets/controls",
      "model_module_version": "1.4.0",
      "model_name": "DescriptionStyleModel",
      "state": {
       "description_width": ""
      }
     },
     "cb8a7b3ee1bc43f8bfec7b9112983233": {
      "model_module": "@jupyter-widgets/base",
      "model_module_version": "1.1.0",
      "model_name": "LayoutModel",
      "state": {}
     },
     "cbc6fc9a5754472c8c45805197aef478": {
      "model_module": "@jupyter-widgets/controls",
      "model_module_version": "1.4.0",
      "model_name": "ButtonStyleModel",
      "state": {}
     },
     "cc032905899f42d794fe5f9435a3795d": {
      "model_module": "@jupyter-widgets/controls",
      "model_module_version": "1.4.0",
      "model_name": "VBoxModel",
      "state": {
       "children": [
        "IPY_MODEL_b2acbdb970ed4933ae8fe2073d98d4fd",
        "IPY_MODEL_323420740f824445993848a1ca7501f9",
        "IPY_MODEL_b01a23daec604f55b3542f13f6cea2b0",
        "IPY_MODEL_7675b3c8d23c497d8743be874795f6df"
       ],
       "layout": "IPY_MODEL_da926767bcc94363a4b9ea1a7f377af7"
      }
     },
     "cc04617b61954f75bc6de7dfa12e90fe": {
      "model_module": "@jupyter-widgets/controls",
      "model_module_version": "1.4.0",
      "model_name": "DescriptionStyleModel",
      "state": {
       "description_width": ""
      }
     },
     "cc2105b8ce664b028304559e4335cc17": {
      "model_module": "@jupyter-widgets/controls",
      "model_module_version": "1.4.0",
      "model_name": "ButtonModel",
      "state": {
       "description": "Parsebäume",
       "layout": "IPY_MODEL_69471be1cc3d4699a2b30beef4c8ce9d",
       "style": "IPY_MODEL_400f85641447458e9fcf1387e8bf9276"
      }
     },
     "cc2388cee1e04376aff8d3691b57330f": {
      "model_module": "@jupyter-widgets/controls",
      "model_module_version": "1.4.0",
      "model_name": "CheckboxModel",
      "state": {
       "description": "Dependenz",
       "disabled": false,
       "layout": "IPY_MODEL_a1033ba064b44a708a24b37ed297a19f",
       "style": "IPY_MODEL_c78a9b631e834f7d86267c1773746eb4",
       "value": false
      }
     },
     "cc29d450e4ac4d439a292059fe0a3696": {
      "model_module": "@jupyter-widgets/controls",
      "model_module_version": "1.4.0",
      "model_name": "VBoxModel",
      "state": {
       "children": [
        "IPY_MODEL_62035982a2e347cab3aa91eddb4763cf",
        "IPY_MODEL_87d3da41a4b2421ca5212a2cf0da7aea",
        "IPY_MODEL_3e746b086b0247b992d5a9d211504bb1",
        "IPY_MODEL_0cf3f0ef692d443da889a0246807a51d"
       ],
       "layout": "IPY_MODEL_cb8a7b3ee1bc43f8bfec7b9112983233"
      }
     },
     "cc57d2678758467f8ac0e43436c850cb": {
      "model_module": "@jupyter-widgets/base",
      "model_module_version": "1.1.0",
      "model_name": "LayoutModel",
      "state": {}
     },
     "cc71099e2f3c49d4a72e10e75877d25b": {
      "model_module": "@jupyter-widgets/controls",
      "model_module_version": "1.4.0",
      "model_name": "ButtonStyleModel",
      "state": {}
     },
     "cc851c7e1eaa493c9e55c3783b809387": {
      "model_module": "@jupyter-widgets/controls",
      "model_module_version": "1.4.0",
      "model_name": "ButtonModel",
      "state": {
       "description": "Übergenerierung",
       "layout": "IPY_MODEL_a67d5d3f90c649a2836be0e52db44da8",
       "style": "IPY_MODEL_dc2ff89f80de484f827a9894d7c38397"
      }
     },
     "cc939fae13414bacbc89994bb4bd15f5": {
      "model_module": "@jupyter-widgets/controls",
      "model_module_version": "1.4.0",
      "model_name": "DescriptionStyleModel",
      "state": {
       "description_width": ""
      }
     },
     "ccac2b5b54e147f79b157672a4ed5b8e": {
      "model_module": "@jupyter-widgets/base",
      "model_module_version": "1.1.0",
      "model_name": "LayoutModel",
      "state": {
       "width": "600px"
      }
     },
     "cccbda40bddf4910a3ac2b31cb90bbdd": {
      "model_module": "@jupyter-widgets/base",
      "model_module_version": "1.1.0",
      "model_name": "LayoutModel",
      "state": {
       "width": "250px"
      }
     },
     "ccd9ca5e45e14cf0b4ed7aa76e976f83": {
      "model_module": "@jupyter-widgets/base",
      "model_module_version": "1.1.0",
      "model_name": "LayoutModel",
      "state": {
       "width": "250px"
      }
     },
     "cce3715bf7614f688101cadf34899f87": {
      "model_module": "@jupyter-widgets/controls",
      "model_module_version": "1.4.0",
      "model_name": "HTMLModel",
      "state": {
       "layout": "IPY_MODEL_68890ba257fd445f9bf452d6cc17513f",
       "style": "IPY_MODEL_0caee1195c8c4d03bf5fc77de1d31e00",
       "value": "<h4 style=\"font-size:14px;\">Warum gibt die parse-Funktion des Skripts vermutlich eine Sequenz zurück?</h4>"
      }
     },
     "cd0d84ef6a6a487eae8624c824afd70e": {
      "model_module": "@jupyter-widgets/controls",
      "model_module_version": "1.4.0",
      "model_name": "DescriptionStyleModel",
      "state": {
       "description_width": ""
      }
     },
     "cd17b412014642a8b4812a1cf182fbd4": {
      "model_module": "@jupyter-widgets/controls",
      "model_module_version": "1.4.0",
      "model_name": "ButtonModel",
      "state": {
       "description": "Korrekt?",
       "layout": "IPY_MODEL_55d325cbba264f21a0b6ae8b8684aee8",
       "style": "IPY_MODEL_df0d08676dbc423e9174c8bbf5854fef"
      }
     },
     "cd1a002e865f4e5fabe4f34aa6031276": {
      "model_module": "@jupyter-widgets/controls",
      "model_module_version": "1.4.0",
      "model_name": "HBoxModel",
      "state": {
       "children": [
        "IPY_MODEL_972d104ae91b4fd3a8dc65e111806129",
        "IPY_MODEL_05107be45b164dd3a926ae0a9e4dd509"
       ],
       "layout": "IPY_MODEL_4c79613bc3ce41858b2142c93bb6fc45"
      }
     },
     "cd2c00872109401680e343741306067f": {
      "model_module": "@jupyter-widgets/controls",
      "model_module_version": "1.4.0",
      "model_name": "ButtonStyleModel",
      "state": {}
     },
     "cd94e11b3f86403cb257827049d4619c": {
      "model_module": "@jupyter-widgets/controls",
      "model_module_version": "1.4.0",
      "model_name": "HTMLModel",
      "state": {
       "layout": "IPY_MODEL_a66e578843794915aa2968a70ee99ce9",
       "style": "IPY_MODEL_04028a6d07284d91b87d671d44ec7cbd",
       "value": "<i>Wählen Sie die <ins>eine</ins> korrekte Antwort aus: </i>"
      }
     },
     "cdb367ff518c4ac4b8d345f1537da425": {
      "model_module": "@jupyter-widgets/controls",
      "model_module_version": "1.4.0",
      "model_name": "HBoxModel",
      "state": {
       "children": [
        "IPY_MODEL_49a3f8133b254461bff93261751b8979",
        "IPY_MODEL_028fdf6de30743d29314ed3090f99bae"
       ],
       "layout": "IPY_MODEL_fbae84916ee346e39c7fd206688007d5"
      }
     },
     "ce27a1f737ee4c0591ce241e8595edac": {
      "model_module": "@jupyter-widgets/controls",
      "model_module_version": "1.4.0",
      "model_name": "DescriptionStyleModel",
      "state": {
       "description_width": ""
      }
     },
     "ce480d0338054b4191776f6bf82927fe": {
      "model_module": "@jupyter-widgets/controls",
      "model_module_version": "1.4.0",
      "model_name": "HTMLModel",
      "state": {
       "layout": "IPY_MODEL_657d323c40f94287a0378ae9c4d56079",
       "style": "IPY_MODEL_3d23943f3ff94bcca1601f0ceff0d2d0",
       "value": "<h4 style=\"font-size:14px;\">In welcher Form wird die syntaktische Struktur eines Satzes beim Aufruf von NLTK tree.draw() erstellt?</h4>"
      }
     },
     "ce827bfb4bed4d2d914b7c251231e6c2": {
      "model_module": "@jupyter-widgets/base",
      "model_module_version": "1.1.0",
      "model_name": "LayoutModel",
      "state": {
       "width": "600px"
      }
     },
     "cea8fa696fad453d8b08daa09fa5708a": {
      "model_module": "@jupyter-widgets/base",
      "model_module_version": "1.1.0",
      "model_name": "LayoutModel",
      "state": {
       "justify_content": "center"
      }
     },
     "ced2435a0c33417786996766cf7fc038": {
      "model_module": "@jupyter-widgets/controls",
      "model_module_version": "1.4.0",
      "model_name": "CheckboxModel",
      "state": {
       "description": "Subjekt-Nominalphrase",
       "disabled": false,
       "layout": "IPY_MODEL_d20f9c3d4f424b04b64eb3eed23de9bf",
       "style": "IPY_MODEL_41ab6375da2f4a5c9184afb46bc38fef",
       "value": false
      }
     },
     "cedc6deb981a4f29b498cdf790a3bb98": {
      "model_module": "@jupyter-widgets/controls",
      "model_module_version": "1.4.0",
      "model_name": "VBoxModel",
      "state": {
       "children": [
        "IPY_MODEL_2bfb4d74ae0743c982d76211651ff228",
        "IPY_MODEL_b67246a0c5914190b19d1640ba80a58b",
        "IPY_MODEL_0b903f3040104b589ce9ccd7f8027819",
        "IPY_MODEL_3b8afa6cdb274d198aa2617e079ac9a4"
       ],
       "layout": "IPY_MODEL_242724c51ab64b5c90456b7bd334c708"
      }
     },
     "cf0e237033274e08ac9228e8a351b95d": {
      "model_module": "@jupyter-widgets/controls",
      "model_module_version": "1.4.0",
      "model_name": "ButtonStyleModel",
      "state": {}
     },
     "cf1c6b1070b74b57a66206b9d238e004": {
      "model_module": "@jupyter-widgets/controls",
      "model_module_version": "1.4.0",
      "model_name": "ButtonModel",
      "state": {
       "description": "Wissen um Sprachstruktur",
       "layout": "IPY_MODEL_4631e73d0d084912806493d3001ad588",
       "style": "IPY_MODEL_4dab92f10af745f7a3452bba9e9a9276"
      }
     },
     "cf2418c505434f139dcb66d53395e4aa": {
      "model_module": "@jupyter-widgets/base",
      "model_module_version": "1.1.0",
      "model_name": "LayoutModel",
      "state": {
       "justify_content": "center"
      }
     },
     "cf38246d1cba49239f6d62ec631d4306": {
      "model_module": "@jupyter-widgets/controls",
      "model_module_version": "1.4.0",
      "model_name": "VBoxModel",
      "state": {
       "children": [
        "IPY_MODEL_8d4190e2635d418085e821f3de222165",
        "IPY_MODEL_94357312c1514bff945d75ffa94ad609",
        "IPY_MODEL_9c27b0f5d1434c889bfc462aeb1bf250",
        "IPY_MODEL_598b557e1cdc4ba1a6f290f8279e38db"
       ],
       "layout": "IPY_MODEL_ab696d9a9fa54faaa1dc8cc56eb66b2a"
      }
     },
     "cf4e89abd4d143bc9e60d74bb9a3ad4c": {
      "model_module": "@jupyter-widgets/base",
      "model_module_version": "1.1.0",
      "model_name": "LayoutModel",
      "state": {
       "width": "250px"
      }
     },
     "cf6596335f7744fb9527a120aa7818bc": {
      "model_module": "@jupyter-widgets/base",
      "model_module_version": "1.1.0",
      "model_name": "LayoutModel",
      "state": {
       "justify_content": "center"
      }
     },
     "cf8478719b564f999d4967ddbb424cd8": {
      "model_module": "@jupyter-widgets/controls",
      "model_module_version": "1.4.0",
      "model_name": "ButtonModel",
      "state": {
       "description": "Parsebäume",
       "layout": "IPY_MODEL_5abeeabc3b8c4a01b5bcab68737b825b",
       "style": "IPY_MODEL_daf580ccf499409e91bf95cece153cff"
      }
     },
     "cfb062194331494c92f497b8d13b4043": {
      "model_module": "@jupyter-widgets/controls",
      "model_module_version": "1.4.0",
      "model_name": "HTMLModel",
      "state": {
       "layout": "IPY_MODEL_14ee3562a34f44f182a767dcde1df262",
       "style": "IPY_MODEL_d3d2504543584da58b4403017789eaae",
       "value": "<h4 style=\"font-size:14px;\">Warum gibt die parse-Funktion des Skripts vermutlich eine Sequenz zurück?</h4>"
      }
     },
     "cfb1cc3d0f6a44d68dbdb18625ba11ef": {
      "model_module": "@jupyter-widgets/base",
      "model_module_version": "1.1.0",
      "model_name": "LayoutModel",
      "state": {}
     },
     "cfd2ca36b6e848cc884f5d9d6c904d63": {
      "model_module": "@jupyter-widgets/controls",
      "model_module_version": "1.4.0",
      "model_name": "ButtonModel",
      "state": {
       "description": "Keine der anderen Möglichkeiten",
       "layout": "IPY_MODEL_3fa499861499452c8cc64514c498f68e",
       "style": "IPY_MODEL_b6371ae5ba88416486b5071b37fc0696"
      }
     },
     "cff698fc11474f95a403e0dd2ae8b4a0": {
      "model_module": "@jupyter-widgets/base",
      "model_module_version": "1.1.0",
      "model_name": "LayoutModel",
      "state": {}
     },
     "cffa8c30655340f39884facb2e0267c0": {
      "model_module": "@jupyter-widgets/controls",
      "model_module_version": "1.4.0",
      "model_name": "ButtonStyleModel",
      "state": {
       "button_color": "lightgreen"
      }
     },
     "d00a00f316894372a0a0f59194fcad5f": {
      "model_module": "@jupyter-widgets/controls",
      "model_module_version": "1.4.0",
      "model_name": "VBoxModel",
      "state": {
       "children": [
        "IPY_MODEL_2d7d106a47534d46901013a4d936276e",
        "IPY_MODEL_44887eba3fed400a8afba832107ea2a5",
        "IPY_MODEL_cdb367ff518c4ac4b8d345f1537da425",
        "IPY_MODEL_a63eff512e2d4f26b9aeba4da671afc9"
       ],
       "layout": "IPY_MODEL_b3ebdfcf4fcc4b9981e3583daae65d4f"
      }
     },
     "d0219bfaecb94ddb9f3a6d52ff8d120a": {
      "model_module": "@jupyter-widgets/controls",
      "model_module_version": "1.4.0",
      "model_name": "DescriptionStyleModel",
      "state": {
       "description_width": ""
      }
     },
     "d02b112fbfb947fcba80363db0d709d7": {
      "model_module": "@jupyter-widgets/base",
      "model_module_version": "1.1.0",
      "model_name": "LayoutModel",
      "state": {
       "width": "600px"
      }
     },
     "d02dbe58480d401f933975d4d6f7dca9": {
      "model_module": "@jupyter-widgets/base",
      "model_module_version": "1.1.0",
      "model_name": "LayoutModel",
      "state": {}
     },
     "d05df4c2131e457ea558a8bf6ff15ac3": {
      "model_module": "@jupyter-widgets/base",
      "model_module_version": "1.1.0",
      "model_name": "LayoutModel",
      "state": {
       "width": "250px"
      }
     },
     "d0798ba7913e41f3a23cdee81fb7c000": {
      "model_module": "@jupyter-widgets/controls",
      "model_module_version": "1.4.0",
      "model_name": "ButtonModel",
      "state": {
       "description": "formale Grammatik",
       "layout": "IPY_MODEL_d41bc4820bef428aad76a67bcb815e5d",
       "style": "IPY_MODEL_d4d591bc57d04eb6ba0204bb2d66b8d7"
      }
     },
     "d07a6a6e3b8640e39190cb17f7ed5f91": {
      "model_module": "@jupyter-widgets/base",
      "model_module_version": "1.1.0",
      "model_name": "LayoutModel",
      "state": {
       "width": "150px"
      }
     },
     "d07cb7007f054c03a81587325a9721d8": {
      "model_module": "@jupyter-widgets/base",
      "model_module_version": "1.1.0",
      "model_name": "LayoutModel",
      "state": {
       "justify_content": "center"
      }
     },
     "d097c2cb49ee4660b5fb07de643aeda2": {
      "model_module": "@jupyter-widgets/base",
      "model_module_version": "1.1.0",
      "model_name": "LayoutModel",
      "state": {
       "justify_content": "center"
      }
     },
     "d0d05c7aa85e4d168bbb75af3ea0c232": {
      "model_module": "@jupyter-widgets/controls",
      "model_module_version": "1.4.0",
      "model_name": "DescriptionStyleModel",
      "state": {
       "description_width": ""
      }
     },
     "d0f5eb3cd8f44e4c98b329c04a6650ff": {
      "model_module": "@jupyter-widgets/controls",
      "model_module_version": "1.4.0",
      "model_name": "DescriptionStyleModel",
      "state": {
       "description_width": ""
      }
     },
     "d1095d9166134311af62281697d2327c": {
      "model_module": "@jupyter-widgets/controls",
      "model_module_version": "1.4.0",
      "model_name": "DescriptionStyleModel",
      "state": {
       "description_width": ""
      }
     },
     "d11681c401e14afdb44af15ac1a6905b": {
      "model_module": "@jupyter-widgets/controls",
      "model_module_version": "1.4.0",
      "model_name": "ButtonStyleModel",
      "state": {}
     },
     "d12ce028d3104979bc7e0b3268c3b0af": {
      "model_module": "@jupyter-widgets/controls",
      "model_module_version": "1.4.0",
      "model_name": "HBoxModel",
      "state": {
       "children": [
        "IPY_MODEL_611727a625644f34bed993ac0f4227ce",
        "IPY_MODEL_6c96a9bd41824985b0d2a2293c9f5155"
       ],
       "layout": "IPY_MODEL_f97637dbe62c4228891a94dd2cb42d21"
      }
     },
     "d17e02cb4a4e4dc2800453c544a406b7": {
      "model_module": "@jupyter-widgets/controls",
      "model_module_version": "1.4.0",
      "model_name": "ButtonStyleModel",
      "state": {}
     },
     "d1bf45819ddb408bb2955f52a096973f": {
      "model_module": "@jupyter-widgets/controls",
      "model_module_version": "1.4.0",
      "model_name": "DropdownModel",
      "state": {
       "_options_labels": [
        "Grundsymbole",
        "Nicht-Terminale",
        " "
       ],
       "index": 0,
       "layout": "IPY_MODEL_0d791697376b4479956f3fef5d36c0ac",
       "style": "IPY_MODEL_6d99986f8ae449959e20ae9b427441af"
      }
     },
     "d1cd76b97fd849bb86a318bd417e7bd3": {
      "model_module": "@jupyter-widgets/controls",
      "model_module_version": "1.4.0",
      "model_name": "BoxModel",
      "state": {
       "children": [
        "IPY_MODEL_73c82d0eb12e45fb8971935b0d941f11",
        "IPY_MODEL_9ab926f89c924fa193aee1f18b6a5c41",
        "IPY_MODEL_2c4a8b88f5f4423c988f8f3af2ab16fc",
        "IPY_MODEL_570b829215a04d70bdfbaea6952c20c1",
        "IPY_MODEL_823cafc5963142ee8125b8eeabef0e76"
       ],
       "layout": "IPY_MODEL_bd914bdd74d74d66bcde3cc3b968650f"
      }
     },
     "d1e65a9478a244fda337edc0bf78a1d5": {
      "model_module": "@jupyter-widgets/controls",
      "model_module_version": "1.4.0",
      "model_name": "VBoxModel",
      "state": {
       "children": [
        "IPY_MODEL_87b4b236399845d6ac6b20acba427335",
        "IPY_MODEL_5d5fea5e5bd34acb9531979b65d77848",
        "IPY_MODEL_7d77039e5058466aa60f5fdb5c1dc515"
       ],
       "layout": "IPY_MODEL_9e89fe48331147218f86beab7e160470"
      }
     },
     "d1f4fd3ce94a47bdac6d999934bd658b": {
      "model_module": "@jupyter-widgets/controls",
      "model_module_version": "1.4.0",
      "model_name": "DescriptionStyleModel",
      "state": {
       "description_width": "initial"
      }
     },
     "d1fff2b6d933409c9d8bf4169543a7f2": {
      "model_module": "@jupyter-widgets/controls",
      "model_module_version": "1.4.0",
      "model_name": "HTMLModel",
      "state": {
       "layout": "IPY_MODEL_8c275182b5474ad287757767c8f852df",
       "style": "IPY_MODEL_55fef3f483be4fefb5fa56932911eebb",
       "value": "<h4 style=\"font-size:14px;\">Welche Vorteile hat die Modellierung der Satzstruktur mit Hilfe einer formalen Grammatik?</h4>"
      }
     },
     "d20f9c3d4f424b04b64eb3eed23de9bf": {
      "model_module": "@jupyter-widgets/base",
      "model_module_version": "1.1.0",
      "model_name": "LayoutModel",
      "state": {
       "width": "600px"
      }
     },
     "d2b8dbb985394b4b948b1ac55e4f9ec1": {
      "model_module": "@jupyter-widgets/controls",
      "model_module_version": "1.4.0",
      "model_name": "ButtonModel",
      "state": {
       "description": "Wissen um Sprachstruktur",
       "layout": "IPY_MODEL_e2c8cd99e0a84b789ba4e5fe2c31c982",
       "style": "IPY_MODEL_cb465b8212424232bbbb41c11d1f0a26"
      }
     },
     "d2d7df89b7f74c5bbeca5f208a9a4e19": {
      "model_module": "@jupyter-widgets/controls",
      "model_module_version": "1.4.0",
      "model_name": "ButtonModel",
      "state": {
       "description": "Attribut",
       "layout": "IPY_MODEL_bc6a11ce21424e139df4f42fe2e4a03e",
       "style": "IPY_MODEL_23008f105aa9447a90a8a1d03e8937b7"
      }
     },
     "d2e054ca767b4fd5bde0a31c5c1de65a": {
      "model_module": "@jupyter-widgets/base",
      "model_module_version": "1.1.0",
      "model_name": "LayoutModel",
      "state": {
       "width": "600px"
      }
     },
     "d301b13fd15047b7aa515e49901fa420": {
      "model_module": "@jupyter-widgets/controls",
      "model_module_version": "1.4.0",
      "model_name": "ButtonStyleModel",
      "state": {}
     },
     "d376de5957504db3a473daa644394496": {
      "model_module": "@jupyter-widgets/controls",
      "model_module_version": "1.4.0",
      "model_name": "HTMLModel",
      "state": {
       "layout": "IPY_MODEL_6d541ace529e447cb59912f1b7822055",
       "style": "IPY_MODEL_f7c0ad20710249f1bf9bbd5bdd669c51",
       "value": "<h4 style=\"font-size:14px;\">Welcher Grammatikbegriff liegt Satz 2 zugrunde?</h4>"
      }
     },
     "d37c3798c2b741f1b6ee8d1c200936da": {
      "model_module": "@jupyter-widgets/controls",
      "model_module_version": "1.4.0",
      "model_name": "HBoxModel",
      "state": {
       "children": [
        "IPY_MODEL_b04a6a4e57864276b60839a105cf3aaa",
        "IPY_MODEL_a3c4d0805a13409a9892f544e5c4dc2b"
       ],
       "layout": "IPY_MODEL_626b203559a14084937fdf7d5bf9053e"
      }
     },
     "d3c436113df346e9ab2680a172e48284": {
      "model_module": "@jupyter-widgets/base",
      "model_module_version": "1.1.0",
      "model_name": "LayoutModel",
      "state": {}
     },
     "d3c8a3449b5645ca811b8b130d490c21": {
      "model_module": "@jupyter-widgets/controls",
      "model_module_version": "1.4.0",
      "model_name": "ButtonModel",
      "state": {
       "description": "Keine der anderen Möglichkeiten",
       "layout": "IPY_MODEL_f11e2828148a4f3cbd31c104d74835d9",
       "style": "IPY_MODEL_31aa72162bcf41f3a5bf6b26f3d3ab71"
      }
     },
     "d3d2504543584da58b4403017789eaae": {
      "model_module": "@jupyter-widgets/controls",
      "model_module_version": "1.4.0",
      "model_name": "DescriptionStyleModel",
      "state": {
       "description_width": ""
      }
     },
     "d3e0960f6db4491989245978bae12a14": {
      "model_module": "@jupyter-widgets/base",
      "model_module_version": "1.1.0",
      "model_name": "LayoutModel",
      "state": {
       "justify_content": "center"
      }
     },
     "d414d53a3b524fb0993943a844967900": {
      "model_module": "@jupyter-widgets/controls",
      "model_module_version": "1.4.0",
      "model_name": "HTMLModel",
      "state": {
       "layout": "IPY_MODEL_4e5bef845fe04c8ab2c85b01bf8645e3",
       "style": "IPY_MODEL_d0219bfaecb94ddb9f3a6d52ff8d120a",
       "value": "<i>Wählen Sie die <ins>eine</ins> korrekte Antwort aus: </i>"
      }
     },
     "d41bc4820bef428aad76a67bcb815e5d": {
      "model_module": "@jupyter-widgets/base",
      "model_module_version": "1.1.0",
      "model_name": "LayoutModel",
      "state": {
       "width": "250px"
      }
     },
     "d42b10982fd64d5292e855356d01b9b7": {
      "model_module": "@jupyter-widgets/controls",
      "model_module_version": "1.4.0",
      "model_name": "ButtonStyleModel",
      "state": {}
     },
     "d45b8a81af67401a9aed7c5d8b0d5e1b": {
      "model_module": "@jupyter-widgets/controls",
      "model_module_version": "1.4.0",
      "model_name": "CheckboxModel",
      "state": {
       "description": "Konstituentenbaum mit Phrasenlabels als Knoten",
       "disabled": false,
       "layout": "IPY_MODEL_741ca8e4c97c4d1d8d032fe84ddbfb16",
       "style": "IPY_MODEL_d7855996462149a296d2876651539782",
       "value": true
      }
     },
     "d468c0c8366a47be8b06b02dc063485d": {
      "model_module": "@jupyter-widgets/controls",
      "model_module_version": "1.4.0",
      "model_name": "ButtonModel",
      "state": {
       "description": "Baumdiagramm",
       "layout": "IPY_MODEL_ec832cf46c824d16bf9f7aa25884c475",
       "style": "IPY_MODEL_76604bac1bb34d4a879335f2fe47f5ab"
      }
     },
     "d4ce22c23ba74078b6adaf7c3b8a3b69": {
      "model_module": "@jupyter-widgets/controls",
      "model_module_version": "1.4.0",
      "model_name": "HBoxModel",
      "state": {
       "children": [
        "IPY_MODEL_e5a102b9872c48c69014e3fff0b89d7f",
        "IPY_MODEL_0e0b91de15604042a4652c58c955e582"
       ],
       "layout": "IPY_MODEL_8d92b0e7a12c489891417e60f6f8f5b5"
      }
     },
     "d4d160e720c046d28bfcbf9b5b3f8acf": {
      "model_module": "@jupyter-widgets/controls",
      "model_module_version": "1.4.0",
      "model_name": "DescriptionStyleModel",
      "state": {
       "description_width": ""
      }
     },
     "d4d591bc57d04eb6ba0204bb2d66b8d7": {
      "model_module": "@jupyter-widgets/controls",
      "model_module_version": "1.4.0",
      "model_name": "ButtonStyleModel",
      "state": {}
     },
     "d4ed3c8dfcb0462d89ffb399abbf94c4": {
      "model_module": "@jupyter-widgets/base",
      "model_module_version": "1.1.0",
      "model_name": "LayoutModel",
      "state": {
       "width": "250px"
      }
     },
     "d4f9719936c94d2084d98d7effa1a39c": {
      "model_module": "@jupyter-widgets/controls",
      "model_module_version": "1.4.0",
      "model_name": "HBoxModel",
      "state": {
       "children": [
        "IPY_MODEL_ea75aae3761f47f7b20eba1f841263cd",
        "IPY_MODEL_06344a99ded54ef28acd01feb27683b9"
       ],
       "layout": "IPY_MODEL_5fddb73788594c13b0f599d072441e05"
      }
     },
     "d4fb0179a7614fc1a6fd74b3a816ceef": {
      "model_module": "@jupyter-widgets/base",
      "model_module_version": "1.1.0",
      "model_name": "LayoutModel",
      "state": {}
     },
     "d51b11f118c341cab7deb611b965d119": {
      "model_module": "@jupyter-widgets/controls",
      "model_module_version": "1.4.0",
      "model_name": "DescriptionStyleModel",
      "state": {
       "description_width": "initial"
      }
     },
     "d531ace199b143f0b86c49e3eb2f46d6": {
      "model_module": "@jupyter-widgets/controls",
      "model_module_version": "1.4.0",
      "model_name": "DescriptionStyleModel",
      "state": {
       "description_width": ""
      }
     },
     "d5e6d574ebb840c399a32f0c1f0c393d": {
      "model_module": "@jupyter-widgets/controls",
      "model_module_version": "1.4.0",
      "model_name": "ButtonStyleModel",
      "state": {}
     },
     "d66d616b4e5143fca867295e636446e0": {
      "model_module": "@jupyter-widgets/controls",
      "model_module_version": "1.4.0",
      "model_name": "ButtonStyleModel",
      "state": {}
     },
     "d66e44504ca844abaacbaba54f735f95": {
      "model_module": "@jupyter-widgets/base",
      "model_module_version": "1.1.0",
      "model_name": "LayoutModel",
      "state": {
       "justify_content": "center"
      }
     },
     "d676ba3a098e403cbc568690e010e6a3": {
      "model_module": "@jupyter-widgets/controls",
      "model_module_version": "1.4.0",
      "model_name": "HTMLModel",
      "state": {
       "layout": "IPY_MODEL_4c81ef67ab0d44dfa4ac8f221cadf58e",
       "style": "IPY_MODEL_25a62ffff6bb4eaa9cc4e82aacc64963",
       "value": "<h4 style=\"font-size:14px;\">Die Alternative <code>tree = parser.parse(sent)</code> ist weniger wünschenswert, da im Allgemeinen ________ Parse-Tree möglich ist.</h4>"
      }
     },
     "d6bc079b64d24c0fbabb5aeeaa27b4ec": {
      "model_module": "@jupyter-widgets/controls",
      "model_module_version": "1.4.0",
      "model_name": "CheckboxModel",
      "state": {
       "description": "Grammatikalität",
       "disabled": false,
       "layout": "IPY_MODEL_075d922432444fc5bbb75c410342eb6a",
       "style": "IPY_MODEL_63d7d187c3534547ae1e6a1dc0107598",
       "value": false
      }
     },
     "d6c810993d20471d817b435ea3491b08": {
      "model_module": "@jupyter-widgets/controls",
      "model_module_version": "1.4.0",
      "model_name": "ButtonModel",
      "state": {
       "description": "Keine der anderen Möglichkeiten",
       "layout": "IPY_MODEL_87b63beeee6c4f5095b2bb1097fc7460",
       "style": "IPY_MODEL_bb7ace63e1c345e2bb6b6e3612ecbbcb"
      }
     },
     "d6cc5c9c884e402db0d1d523f4fbbcaf": {
      "model_module": "@jupyter-widgets/controls",
      "model_module_version": "1.4.0",
      "model_name": "ButtonModel",
      "state": {
       "description": "Wortstruktur",
       "layout": "IPY_MODEL_427d0547fc31470fb8d23981b5d8b772",
       "style": "IPY_MODEL_eead38f3056e4804bc0c82b226a146a0"
      }
     },
     "d734668fcb37465bbf44a0c148618cd7": {
      "model_module": "@jupyter-widgets/controls",
      "model_module_version": "1.4.0",
      "model_name": "ButtonModel",
      "state": {
       "description": "Regelsystem",
       "layout": "IPY_MODEL_8e411d1ea8314fad9de81cf8138d63de",
       "style": "IPY_MODEL_e1ec86c847a3440ab960c5c6ec7172f3"
      }
     },
     "d761e4ab9be2484ab33f741a87c05a92": {
      "model_module": "@jupyter-widgets/controls",
      "model_module_version": "1.4.0",
      "model_name": "CheckboxModel",
      "state": {
       "description": "Nomen ist Kopf einer NP-Phrase",
       "disabled": false,
       "layout": "IPY_MODEL_d2e054ca767b4fd5bde0a31c5c1de65a",
       "style": "IPY_MODEL_d990f26b6fe044bfbe88652effff03c3",
       "value": false
      }
     },
     "d78141057d434bdeae32d80d04a2b496": {
      "model_module": "@jupyter-widgets/controls",
      "model_module_version": "1.4.0",
      "model_name": "HTMLModel",
      "state": {
       "layout": "IPY_MODEL_9137ed88979d4007b209e37156b41347",
       "style": "IPY_MODEL_6f5e1501740944e18a8a6698bf975cde",
       "value": "<h4 style=\"font-size:14px;\">Für die Blätter gilt: natürlichsprachliche Wörter sind eine Teilmenge aus dem Alphabet der</h4>"
      }
     },
     "d7855996462149a296d2876651539782": {
      "model_module": "@jupyter-widgets/controls",
      "model_module_version": "1.4.0",
      "model_name": "DescriptionStyleModel",
      "state": {
       "description_width": "initial"
      }
     },
     "d787d4a3f69c4f719dbb5ed2653a1ad2": {
      "model_module": "@jupyter-widgets/controls",
      "model_module_version": "1.4.0",
      "model_name": "CheckboxModel",
      "state": {
       "description": "Gerund ist Kopf eines nichtfiniten Teilsatzes",
       "disabled": false,
       "layout": "IPY_MODEL_9150cc68f3a04723a948ac0e9a50fc09",
       "style": "IPY_MODEL_b4a5e1d5b90d4fe0aa2ac5fb5f45b7a2",
       "value": false
      }
     },
     "d7a6e9b1328747578fa0fbf97be90faf": {
      "model_module": "@jupyter-widgets/controls",
      "model_module_version": "1.4.0",
      "model_name": "DescriptionStyleModel",
      "state": {
       "description_width": ""
      }
     },
     "d7b752f480f7417382db0c0f7f331e4f": {
      "model_module": "@jupyter-widgets/base",
      "model_module_version": "1.1.0",
      "model_name": "LayoutModel",
      "state": {}
     },
     "d7c8c03c74154a46a480d96e6c91eb04": {
      "model_module": "@jupyter-widgets/controls",
      "model_module_version": "1.4.0",
      "model_name": "DescriptionStyleModel",
      "state": {
       "description_width": ""
      }
     },
     "d7dc338a5173468d800b92731162e7b3": {
      "model_module": "@jupyter-widgets/controls",
      "model_module_version": "1.4.0",
      "model_name": "VBoxModel",
      "state": {
       "children": [
        "IPY_MODEL_b56ac3668f5f4c18ad63cf6fb1308b15",
        "IPY_MODEL_d1cd76b97fd849bb86a318bd417e7bd3",
        "IPY_MODEL_453d164d1b6648c38dbfa5d00335e01c"
       ],
       "layout": "IPY_MODEL_740a53b7b70b44f5a6f0def0f2d03df2"
      }
     },
     "d7f25be24d424be884b72ec008cb175f": {
      "model_module": "@jupyter-widgets/base",
      "model_module_version": "1.1.0",
      "model_name": "LayoutModel",
      "state": {
       "justify_content": "center"
      }
     },
     "d815aa20b74e4c1aaee2f4008c15de1a": {
      "model_module": "@jupyter-widgets/controls",
      "model_module_version": "1.4.0",
      "model_name": "ButtonModel",
      "state": {
       "description": "Abhängigkeitsstruktur",
       "layout": "IPY_MODEL_5c81eb985e6540f99be975db134e0e06",
       "style": "IPY_MODEL_660998c12ab841c2806a19cb5f1e7bd1"
      }
     },
     "d824303e249f4e209849b3f0df938472": {
      "model_module": "@jupyter-widgets/base",
      "model_module_version": "1.1.0",
      "model_name": "LayoutModel",
      "state": {}
     },
     "d844caaacea848ddb1daa97bc7fa603c": {
      "model_module": "@jupyter-widgets/base",
      "model_module_version": "1.1.0",
      "model_name": "LayoutModel",
      "state": {
       "width": "250px"
      }
     },
     "d8535036098f45da982e6d2fd80ffd0a": {
      "model_module": "@jupyter-widgets/controls",
      "model_module_version": "1.4.0",
      "model_name": "ButtonModel",
      "state": {
       "description": "strukturelle Ambiguität",
       "layout": "IPY_MODEL_b986a7fc449841d98e96933ecefeb043",
       "style": "IPY_MODEL_a4860599dede482d87aa012ef7898cba"
      }
     },
     "d8549f9ddde34b45933f800954d1f3ae": {
      "model_module": "@jupyter-widgets/controls",
      "model_module_version": "1.4.0",
      "model_name": "DescriptionStyleModel",
      "state": {
       "description_width": "initial"
      }
     },
     "d85e92404cb043da80469a04aca791e7": {
      "model_module": "@jupyter-widgets/controls",
      "model_module_version": "1.4.0",
      "model_name": "DescriptionStyleModel",
      "state": {
       "description_width": ""
      }
     },
     "d90b93f7b4f5462abd43ca07df1152fd": {
      "model_module": "@jupyter-widgets/controls",
      "model_module_version": "1.4.0",
      "model_name": "ButtonModel",
      "state": {
       "description": "Korrekt?",
       "layout": "IPY_MODEL_366588bd3f4f4c46b1e89956c9cc943c",
       "style": "IPY_MODEL_edf7b2afaa504a149625acdea14b8113"
      }
     },
     "d9262cac3cb848c2bd0451ae3b7b4ac6": {
      "model_module": "@jupyter-widgets/base",
      "model_module_version": "1.1.0",
      "model_name": "LayoutModel",
      "state": {
       "justify_content": "center"
      }
     },
     "d94cd9a6c0774f09bfb731654574bbe9": {
      "model_module": "@jupyter-widgets/controls",
      "model_module_version": "1.4.0",
      "model_name": "ButtonModel",
      "state": {
       "description": "lexikalische Ambiguität",
       "layout": "IPY_MODEL_de3a1c8c4b4f49dfba719a9924183669",
       "style": "IPY_MODEL_26fc4ad4f5c147679d21e31d12f3e15b"
      }
     },
     "d95ce17624874e138493fb37182b2c3b": {
      "model_module": "@jupyter-widgets/base",
      "model_module_version": "1.1.0",
      "model_name": "LayoutModel",
      "state": {
       "width": "250px"
      }
     },
     "d966fca1079b44f6b385a6bbbb3e5095": {
      "model_module": "@jupyter-widgets/base",
      "model_module_version": "1.1.0",
      "model_name": "LayoutModel",
      "state": {}
     },
     "d96aabaa4000452ebd1f0a11d3b1c8a3": {
      "model_module": "@jupyter-widgets/base",
      "model_module_version": "1.1.0",
      "model_name": "LayoutModel",
      "state": {}
     },
     "d98969dec1d14f819e043131f3130596": {
      "model_module": "@jupyter-widgets/base",
      "model_module_version": "1.1.0",
      "model_name": "LayoutModel",
      "state": {
       "width": "250px"
      }
     },
     "d989c5aa65a94a39a0d10ac90f39c4db": {
      "model_module": "@jupyter-widgets/controls",
      "model_module_version": "1.4.0",
      "model_name": "HTMLModel",
      "state": {
       "layout": "IPY_MODEL_1b214de8612d424090cd1f260112548e",
       "style": "IPY_MODEL_233da6e50f50431499d85031a61bfbf7",
       "value": "<h4 style=\"font-size:14px;\">Dependenz ist synonym zu:</h4>"
      }
     },
     "d990f26b6fe044bfbe88652effff03c3": {
      "model_module": "@jupyter-widgets/controls",
      "model_module_version": "1.4.0",
      "model_name": "DescriptionStyleModel",
      "state": {
       "description_width": "initial"
      }
     },
     "d9a01684f1224e3ebc4c2578fbb1026b": {
      "model_module": "@jupyter-widgets/base",
      "model_module_version": "1.1.0",
      "model_name": "LayoutModel",
      "state": {
       "width": "600px"
      }
     },
     "d9e2a79105eb4d0f9ab412d9eac4e7c1": {
      "model_module": "@jupyter-widgets/base",
      "model_module_version": "1.1.0",
      "model_name": "LayoutModel",
      "state": {
       "width": "600px"
      }
     },
     "da581da4d1054adf8050a48c3d66b9e1": {
      "model_module": "@jupyter-widgets/base",
      "model_module_version": "1.1.0",
      "model_name": "LayoutModel",
      "state": {
       "justify_content": "center"
      }
     },
     "da846afe861940a686d43a814759c351": {
      "model_module": "@jupyter-widgets/controls",
      "model_module_version": "1.4.0",
      "model_name": "DescriptionStyleModel",
      "state": {
       "description_width": ""
      }
     },
     "da8f9557dcd54975bd4ff02e9c90a0a3": {
      "model_module": "@jupyter-widgets/base",
      "model_module_version": "1.1.0",
      "model_name": "LayoutModel",
      "state": {}
     },
     "da926767bcc94363a4b9ea1a7f377af7": {
      "model_module": "@jupyter-widgets/base",
      "model_module_version": "1.1.0",
      "model_name": "LayoutModel",
      "state": {}
     },
     "da93f9d1851d4184b6b73340988c17df": {
      "model_module": "@jupyter-widgets/controls",
      "model_module_version": "1.4.0",
      "model_name": "HTMLModel",
      "state": {
       "layout": "IPY_MODEL_6df86fdbae95487d89b33d00f1fc830d",
       "style": "IPY_MODEL_fa9f0d904f1b44d89b7bc9a890d3b810",
       "value": "<h4 style=\"font-size:14px;\">Welche Gesetzmäßigkeiten umfasst die Grammatik als Regelsystem?</h4>"
      }
     },
     "dacac433f2ab4774884378ba7a61598e": {
      "model_module": "@jupyter-widgets/controls",
      "model_module_version": "1.4.0",
      "model_name": "CheckboxModel",
      "state": {
       "description": "Konstituenz",
       "disabled": false,
       "layout": "IPY_MODEL_c515e7f7c62d44a89cdf0654520a2045",
       "style": "IPY_MODEL_f9cd89a3a2c14d59a4bedaf18324894e",
       "value": false
      }
     },
     "daf580ccf499409e91bf95cece153cff": {
      "model_module": "@jupyter-widgets/controls",
      "model_module_version": "1.4.0",
      "model_name": "ButtonStyleModel",
      "state": {}
     },
     "db069e2bd0d5470282f816701d3e8c2e": {
      "model_module": "@jupyter-widgets/controls",
      "model_module_version": "1.4.0",
      "model_name": "ButtonStyleModel",
      "state": {}
     },
     "db17eb5c50024dc791a80a4b08657bb2": {
      "model_module": "@jupyter-widgets/controls",
      "model_module_version": "1.4.0",
      "model_name": "ButtonModel",
      "state": {
       "description": "strukturelle Ambiguität",
       "layout": "IPY_MODEL_9c70e9ca703d4a33a67c4de73a21119b",
       "style": "IPY_MODEL_8359334efba040e286e06993c7fb71bb"
      }
     },
     "db25f3a842684a1baa703297acdb7b32": {
      "model_module": "@jupyter-widgets/controls",
      "model_module_version": "1.4.0",
      "model_name": "DescriptionStyleModel",
      "state": {
       "description_width": ""
      }
     },
     "db545bde746c4381b87f3cf974244856": {
      "model_module": "@jupyter-widgets/base",
      "model_module_version": "1.1.0",
      "model_name": "LayoutModel",
      "state": {
       "justify_content": "center"
      }
     },
     "db85026b808f4f3e988dae3366089585": {
      "model_module": "@jupyter-widgets/controls",
      "model_module_version": "1.4.0",
      "model_name": "HBoxModel",
      "state": {
       "children": [
        "IPY_MODEL_d2d7df89b7f74c5bbeca5f208a9a4e19",
        "IPY_MODEL_e303b592300c4962b7707a39763ab5e8"
       ],
       "layout": "IPY_MODEL_451fd7615f3147ba88525f5967e64c4e"
      }
     },
     "dbb76ceb1af34558bb9f36538a87c9ee": {
      "model_module": "@jupyter-widgets/controls",
      "model_module_version": "1.4.0",
      "model_name": "HBoxModel",
      "state": {
       "children": [
        "IPY_MODEL_2eca5a296c6f4b35b2fca128c834be58",
        "IPY_MODEL_f1cd3f6897514a06a92aad85602bc82d"
       ],
       "layout": "IPY_MODEL_a66ff919a55b4aae879da8e7c9c70687"
      }
     },
     "dbbec0bd0c0a4f679ec655a8f9658152": {
      "model_module": "@jupyter-widgets/controls",
      "model_module_version": "1.4.0",
      "model_name": "ButtonStyleModel",
      "state": {}
     },
     "dbe3689e37cc4646bfe63beb8a1cf2eb": {
      "model_module": "@jupyter-widgets/controls",
      "model_module_version": "1.4.0",
      "model_name": "VBoxModel",
      "state": {
       "children": [
        "IPY_MODEL_a936ffc6b7a9497fb661443083b6d121",
        "IPY_MODEL_7611a0c829f243b194735e245dfea540",
        "IPY_MODEL_e33236b24b9c45079944a17663e2b541",
        "IPY_MODEL_b4855c7c1a3449b9885f84c6e492ee38"
       ],
       "layout": "IPY_MODEL_38259025337c4f789bf9e4e4be813c5b"
      }
     },
     "dc10dc85f3c74f5296a599da78aecb90": {
      "model_module": "@jupyter-widgets/base",
      "model_module_version": "1.1.0",
      "model_name": "LayoutModel",
      "state": {
       "width": "600px"
      }
     },
     "dc1bc0bfb7614bb785f1f4df09c4aa6c": {
      "model_module": "@jupyter-widgets/controls",
      "model_module_version": "1.4.0",
      "model_name": "ButtonModel",
      "state": {
       "description": "Objekt",
       "layout": "IPY_MODEL_ccd9ca5e45e14cf0b4ed7aa76e976f83",
       "style": "IPY_MODEL_7e2022a584d8402fa88c971d8530a21a"
      }
     },
     "dc2ff89f80de484f827a9894d7c38397": {
      "model_module": "@jupyter-widgets/controls",
      "model_module_version": "1.4.0",
      "model_name": "ButtonStyleModel",
      "state": {}
     },
     "dc680ae177a74461b5ade3446f77f2f7": {
      "model_module": "@jupyter-widgets/controls",
      "model_module_version": "1.4.0",
      "model_name": "ButtonStyleModel",
      "state": {}
     },
     "dc81135139e649cc8a1ac6dbea6821ed": {
      "model_module": "@jupyter-widgets/controls",
      "model_module_version": "1.4.0",
      "model_name": "HTMLModel",
      "state": {
       "layout": "IPY_MODEL_80228ec048ac45a7b3f52558bfd2243c",
       "style": "IPY_MODEL_e4c192cb258f4bf5bf8aae4cc7be5fd2",
       "value": "<h4 style=\"font-size:14px;\">Welcher Grammatikbegriff liegt Satz 1 zugrunde?</h4>"
      }
     },
     "dcaa84e662ae4bb5aa26892bf13a4e43": {
      "model_module": "@jupyter-widgets/controls",
      "model_module_version": "1.4.0",
      "model_name": "DescriptionStyleModel",
      "state": {
       "description_width": ""
      }
     },
     "dcb36fca71214966b78701bf5142a30c": {
      "model_module": "@jupyter-widgets/controls",
      "model_module_version": "1.4.0",
      "model_name": "HTMLModel",
      "state": {
       "layout": "IPY_MODEL_fcaf4e9d5b4f41e790222ce7798e01ff",
       "style": "IPY_MODEL_b08e19e2614d4b8d95c221c38b879f94",
       "value": "<i>Wählen Sie die <ins>eine</ins> korrekte Antwort aus: </i>"
      }
     },
     "dcccb5bb0c9b4e3e8d46f095bbfa6a11": {
      "model_module": "@jupyter-widgets/controls",
      "model_module_version": "1.4.0",
      "model_name": "DropdownModel",
      "state": {
       "_options_labels": [
        "Oberbegriff",
        "Synonym",
        "Teilbereich",
        " "
       ],
       "index": 3,
       "layout": "IPY_MODEL_2f2d5dcb5e8740988631292538836085",
       "style": "IPY_MODEL_da846afe861940a686d43a814759c351"
      }
     },
     "dce14714d57e4581bc89b4c68bf84cfb": {
      "model_module": "@jupyter-widgets/controls",
      "model_module_version": "1.4.0",
      "model_name": "BoxModel",
      "state": {
       "children": [
        "IPY_MODEL_e964ba7d0d404993888d189930072be8",
        "IPY_MODEL_5f12f0f94bd34849a22d01df915ba415",
        "IPY_MODEL_2d84f3a609d94fb78439c87edf79f5dd",
        "IPY_MODEL_5edaf1e2335747e1975f2d1e7ab1375e",
        "IPY_MODEL_ffa5a63a8c6f4e1aae1132da88429c0c"
       ],
       "layout": "IPY_MODEL_0859d4bc02a84e5c8ee91efdafd7b980"
      }
     },
     "dd101dd8954d4d76a76fb6d4df0a0405": {
      "model_module": "@jupyter-widgets/base",
      "model_module_version": "1.1.0",
      "model_name": "LayoutModel",
      "state": {
       "width": "600px"
      }
     },
     "dd2e845403c540e899e529c19c965fe7": {
      "model_module": "@jupyter-widgets/base",
      "model_module_version": "1.1.0",
      "model_name": "LayoutModel",
      "state": {
       "justify_content": "center"
      }
     },
     "dd2f1256aa384cf2adcb5f07c3d923f2": {
      "model_module": "@jupyter-widgets/base",
      "model_module_version": "1.1.0",
      "model_name": "LayoutModel",
      "state": {}
     },
     "dd41f157f7884021a7d3c33f1b1b651d": {
      "model_module": "@jupyter-widgets/base",
      "model_module_version": "1.1.0",
      "model_name": "LayoutModel",
      "state": {}
     },
     "dd430016a3de44638a530016cca56b1c": {
      "model_module": "@jupyter-widgets/base",
      "model_module_version": "1.1.0",
      "model_name": "LayoutModel",
      "state": {}
     },
     "dd65d217732c42bb95990de2572eac74": {
      "model_module": "@jupyter-widgets/controls",
      "model_module_version": "1.4.0",
      "model_name": "CheckboxModel",
      "state": {
       "description": "Satzebene, Textebene, Bedeutungsebene",
       "disabled": false,
       "layout": "IPY_MODEL_a2c5503756de45bbbe676f0c3d0b3bd3",
       "style": "IPY_MODEL_b768d210b8094bab87d2044573b8cbce",
       "value": false
      }
     },
     "dd67b3cc1d5047778439d0980a9220cd": {
      "model_module": "@jupyter-widgets/controls",
      "model_module_version": "1.4.0",
      "model_name": "CheckboxModel",
      "state": {
       "description": "Eine endliche Menge an Sätzen kann mit unendlichen Mitteln beschrieben werden.",
       "disabled": false,
       "layout": "IPY_MODEL_3e0e3d27f32a4486876d02b57cbc2a36",
       "style": "IPY_MODEL_f0037df15c624b93817182f26e999fc9",
       "value": false
      }
     },
     "de21142c8850464a86bebf216e4612a1": {
      "model_module": "@jupyter-widgets/controls",
      "model_module_version": "1.4.0",
      "model_name": "DescriptionStyleModel",
      "state": {
       "description_width": ""
      }
     },
     "de3a1c8c4b4f49dfba719a9924183669": {
      "model_module": "@jupyter-widgets/base",
      "model_module_version": "1.1.0",
      "model_name": "LayoutModel",
      "state": {
       "width": "250px"
      }
     },
     "de48f495058d44afa858dc6b83c7f4ed": {
      "model_module": "@jupyter-widgets/base",
      "model_module_version": "1.1.0",
      "model_name": "LayoutModel",
      "state": {
       "justify_content": "center"
      }
     },
     "de4965b0a54d4c16ac4b1ac478aed7a8": {
      "model_module": "@jupyter-widgets/controls",
      "model_module_version": "1.4.0",
      "model_name": "DescriptionStyleModel",
      "state": {
       "description_width": ""
      }
     },
     "de7951a1436d44b5b2061b012ad8816d": {
      "model_module": "@jupyter-widgets/controls",
      "model_module_version": "1.4.0",
      "model_name": "DescriptionStyleModel",
      "state": {
       "description_width": "initial"
      }
     },
     "de89e9896c764095b6a2a856f1e71cd7": {
      "model_module": "@jupyter-widgets/controls",
      "model_module_version": "1.4.0",
      "model_name": "CheckboxModel",
      "state": {
       "description": "syntaktische",
       "disabled": false,
       "layout": "IPY_MODEL_ae9f06dc1397491daee2b736e4d610fb",
       "style": "IPY_MODEL_9419bcf5d1f449d1b18d861d764547f7",
       "value": true
      }
     },
     "deb72640dbcb477fbf8ff7de437f6aa7": {
      "model_module": "@jupyter-widgets/controls",
      "model_module_version": "1.4.0",
      "model_name": "DescriptionStyleModel",
      "state": {
       "description_width": ""
      }
     },
     "df0d08676dbc423e9174c8bbf5854fef": {
      "model_module": "@jupyter-widgets/controls",
      "model_module_version": "1.4.0",
      "model_name": "ButtonStyleModel",
      "state": {
       "button_color": "lightgreen"
      }
     },
     "df12601f4b0747b0bf240d1669287deb": {
      "model_module": "@jupyter-widgets/controls",
      "model_module_version": "1.4.0",
      "model_name": "HTMLModel",
      "state": {
       "layout": "IPY_MODEL_100f12f64c534b4fbf9da2f23cdfad68",
       "style": "IPY_MODEL_184cd409003b44c3a4f2ab7d395be7c7",
       "value": "<i>Markieren Sie <ins>alle</ins> passenden Antworten: </i>"
      }
     },
     "df13179322d943559e0fe0370026737a": {
      "model_module": "@jupyter-widgets/base",
      "model_module_version": "1.1.0",
      "model_name": "LayoutModel",
      "state": {}
     },
     "df3d867a5a4a42d896101a56801e1d94": {
      "model_module": "@jupyter-widgets/base",
      "model_module_version": "1.1.0",
      "model_name": "LayoutModel",
      "state": {
       "width": "250px"
      }
     },
     "df865c3ac0f54a799aa52f0e9307d757": {
      "model_module": "@jupyter-widgets/controls",
      "model_module_version": "1.4.0",
      "model_name": "DescriptionStyleModel",
      "state": {
       "description_width": ""
      }
     },
     "dfbd0d1f3db14785a1d9ff305ed4c5c3": {
      "model_module": "@jupyter-widgets/base",
      "model_module_version": "1.1.0",
      "model_name": "LayoutModel",
      "state": {}
     },
     "dfd8065910e64c3fa4170faaa3072167": {
      "model_module": "@jupyter-widgets/base",
      "model_module_version": "1.1.0",
      "model_name": "LayoutModel",
      "state": {}
     },
     "e0074f6531834f2284758f30714b5866": {
      "model_module": "@jupyter-widgets/base",
      "model_module_version": "1.1.0",
      "model_name": "LayoutModel",
      "state": {}
     },
     "e018d4eeb25b4fee9f96a8444eba6d25": {
      "model_module": "@jupyter-widgets/base",
      "model_module_version": "1.1.0",
      "model_name": "LayoutModel",
      "state": {}
     },
     "e0190ef3e4234b1aa5d15a35fc5ab018": {
      "model_module": "@jupyter-widgets/controls",
      "model_module_version": "1.4.0",
      "model_name": "DescriptionStyleModel",
      "state": {
       "description_width": ""
      }
     },
     "e04a7b4f62e143c29bda5a9eb33d87dc": {
      "model_module": "@jupyter-widgets/controls",
      "model_module_version": "1.4.0",
      "model_name": "ButtonStyleModel",
      "state": {}
     },
     "e04b0add3fb844a1b744855d3a87783a": {
      "model_module": "@jupyter-widgets/controls",
      "model_module_version": "1.4.0",
      "model_name": "HBoxModel",
      "state": {
       "children": [
        "IPY_MODEL_dc1bc0bfb7614bb785f1f4df09c4aa6c",
        "IPY_MODEL_b5a30694ee124601ab4a1a8a1750d475"
       ],
       "layout": "IPY_MODEL_a66bd9fc6a7c4af48da3615a06b6cbfc"
      }
     },
     "e06653c551a14855bcf5bef4ceeebb9d": {
      "model_module": "@jupyter-widgets/base",
      "model_module_version": "1.1.0",
      "model_name": "LayoutModel",
      "state": {
       "justify_content": "center"
      }
     },
     "e06847d55db2492f85265b6fe706ba4f": {
      "model_module": "@jupyter-widgets/controls",
      "model_module_version": "1.4.0",
      "model_name": "VBoxModel",
      "state": {
       "children": [
        "IPY_MODEL_cfb062194331494c92f497b8d13b4043",
        "IPY_MODEL_b8913668f8d7405f9c0987e3e151b3ed",
        "IPY_MODEL_e499357e10584bf882f505a1c54514a7",
        "IPY_MODEL_af9ce24441e84052add74d0915540b8f"
       ],
       "layout": "IPY_MODEL_9d422d35d6ce40629a33fc0136859131"
      }
     },
     "e08aeab7303446edb1919af9096daa3d": {
      "model_module": "@jupyter-widgets/controls",
      "model_module_version": "1.4.0",
      "model_name": "BoxModel",
      "state": {
       "children": [
        "IPY_MODEL_d78141057d434bdeae32d80d04a2b496",
        "IPY_MODEL_7311ba08461941babdf7c266851ca70d",
        "IPY_MODEL_acd305edf9e54b7aa0e1c4984d2e6bb0",
        "IPY_MODEL_afebba62e3d4479a92ccbcd1df31bc08",
        "IPY_MODEL_2d358ea7f567458db78d3dc0e7969727"
       ],
       "layout": "IPY_MODEL_0a44a8f8723749df9768561e32cc7ca1"
      }
     },
     "e0dcae5a1d6e49b89920a5364aeee6c9": {
      "model_module": "@jupyter-widgets/controls",
      "model_module_version": "1.4.0",
      "model_name": "ButtonModel",
      "state": {
       "description": "Korrekt?",
       "layout": "IPY_MODEL_fb03f3e4342c4ffcb28e9f422e97e814",
       "style": "IPY_MODEL_335b53eede324ccb92068f3e8dde6ae0"
      }
     },
     "e0eb82ed69044933a949f5355de8fde0": {
      "model_module": "@jupyter-widgets/controls",
      "model_module_version": "1.4.0",
      "model_name": "HTMLModel",
      "state": {
       "layout": "IPY_MODEL_19bcab7b70784ff797f2fb276d9c9acd",
       "style": "IPY_MODEL_0aa98b5bed9f4eed944dc06383e06c1d",
       "value": "<i>Markieren Sie <ins>alle</ins> passenden Antworten: </i>"
      }
     },
     "e13c5d685bf64b2bbe0b4ea7feb36390": {
      "model_module": "@jupyter-widgets/base",
      "model_module_version": "1.1.0",
      "model_name": "LayoutModel",
      "state": {}
     },
     "e1a9b8b0174845fcbff6fd49dba02e06": {
      "model_module": "@jupyter-widgets/controls",
      "model_module_version": "1.4.0",
      "model_name": "ButtonModel",
      "state": {
       "description": "Wortart des Phrasenkopfes",
       "layout": "IPY_MODEL_5ab93d6e512943a3a2fd2435cbd5cae5",
       "style": "IPY_MODEL_4cb174612d5c44ebbee6b6015c7208e3"
      }
     },
     "e1cba06aa0bd4504b90e270fe143d384": {
      "model_module": "@jupyter-widgets/controls",
      "model_module_version": "1.4.0",
      "model_name": "VBoxModel",
      "state": {
       "children": [
        "IPY_MODEL_7e1bf79b2d1b41c3a03135726646462d",
        "IPY_MODEL_9eabe1f92c4b40e6ac73607ab09a98b8",
        "IPY_MODEL_6f0fea5d63f34460b257e180ba9f389d",
        "IPY_MODEL_fa210e012015404595fe23627895e6d6"
       ],
       "layout": "IPY_MODEL_9a1eb56d4a044d84ba024f46da471186"
      }
     },
     "e1d1fec3af2945a3ac735f7c061b9acb": {
      "model_module": "@jupyter-widgets/controls",
      "model_module_version": "1.4.0",
      "model_name": "ButtonStyleModel",
      "state": {}
     },
     "e1dbd07fd74845449260013c7ad0883a": {
      "model_module": "@jupyter-widgets/base",
      "model_module_version": "1.1.0",
      "model_name": "LayoutModel",
      "state": {
       "width": "500px"
      }
     },
     "e1ec86c847a3440ab960c5c6ec7172f3": {
      "model_module": "@jupyter-widgets/controls",
      "model_module_version": "1.4.0",
      "model_name": "ButtonStyleModel",
      "state": {}
     },
     "e1f923e1fefd4260aa1b8776982439e2": {
      "model_module": "@jupyter-widgets/controls",
      "model_module_version": "1.4.0",
      "model_name": "ButtonModel",
      "state": {
       "description": "lexikalische Ambiguität",
       "layout": "IPY_MODEL_fdfa68f95bab49f1bb4a8fee0ee5bb2f",
       "style": "IPY_MODEL_969243939017447190692d129581ea98"
      }
     },
     "e22453fd0c07462c9e7b120e39a78300": {
      "model_module": "@jupyter-widgets/base",
      "model_module_version": "1.1.0",
      "model_name": "LayoutModel",
      "state": {
       "width": "600px"
      }
     },
     "e27ffbcefd584aa8ada8617d10eca48c": {
      "model_module": "@jupyter-widgets/controls",
      "model_module_version": "1.4.0",
      "model_name": "DescriptionStyleModel",
      "state": {
       "description_width": ""
      }
     },
     "e28f63be36b3424792ebff03ecbb9ef7": {
      "model_module": "@jupyter-widgets/controls",
      "model_module_version": "1.4.0",
      "model_name": "ButtonStyleModel",
      "state": {}
     },
     "e2c8cd99e0a84b789ba4e5fe2c31c982": {
      "model_module": "@jupyter-widgets/base",
      "model_module_version": "1.1.0",
      "model_name": "LayoutModel",
      "state": {
       "width": "250px"
      }
     },
     "e2e95da660cf464fada09d877649e91c": {
      "model_module": "@jupyter-widgets/base",
      "model_module_version": "1.1.0",
      "model_name": "LayoutModel",
      "state": {
       "justify_content": "center"
      }
     },
     "e3018364e3b84dbfa74840fcb29ca12b": {
      "model_module": "@jupyter-widgets/base",
      "model_module_version": "1.1.0",
      "model_name": "LayoutModel",
      "state": {}
     },
     "e303b592300c4962b7707a39763ab5e8": {
      "model_module": "@jupyter-widgets/controls",
      "model_module_version": "1.4.0",
      "model_name": "ButtonModel",
      "state": {
       "description": "Objekt",
       "layout": "IPY_MODEL_4eedf2db6b1c4878b2c1ca832f6902e2",
       "style": "IPY_MODEL_ab63d643d89c4269bdc6335ec43ff0bf"
      }
     },
     "e30a74e4a1f04a298bcedf1b3b948df6": {
      "model_module": "@jupyter-widgets/controls",
      "model_module_version": "1.4.0",
      "model_name": "VBoxModel",
      "state": {
       "children": [
        "IPY_MODEL_02870ce7d21d4199bd3e99de2b59e711",
        "IPY_MODEL_a3e908dcf5944f43824836d38980867c",
        "IPY_MODEL_dbb76ceb1af34558bb9f36538a87c9ee",
        "IPY_MODEL_c3d03324c1e245abb4acad550fc8bf42",
        "IPY_MODEL_117e0ae742f0470c8225d298ff11c581"
       ],
       "layout": "IPY_MODEL_eb2bfb2c177e4712aa6fa52e60d0856f"
      }
     },
     "e30e96886bd542a29fa3231d5e53eb14": {
      "model_module": "@jupyter-widgets/controls",
      "model_module_version": "1.4.0",
      "model_name": "HBoxModel",
      "state": {
       "children": [
        "IPY_MODEL_eb8cb2843b634030989b3cc85c81a3c8",
        "IPY_MODEL_8526f3896d9a43599678a7b376b1d963"
       ],
       "layout": "IPY_MODEL_1876aa88b0a849b3b1c2b1ee30d3eab6"
      }
     },
     "e33236b24b9c45079944a17663e2b541": {
      "model_module": "@jupyter-widgets/controls",
      "model_module_version": "1.4.0",
      "model_name": "VBoxModel",
      "state": {
       "children": [
        "IPY_MODEL_39248a7dcabb4273a00027e1beced0dd",
        "IPY_MODEL_093a55e8d2b24571b9929b29dcd4c8d8",
        "IPY_MODEL_b892faa45c7044e9ba86f11c40944569"
       ],
       "layout": "IPY_MODEL_0030107ab01c4be8863768814c0a6e17"
      }
     },
     "e3ae39d571eb4157acdfcfe59eaede6e": {
      "model_module": "@jupyter-widgets/controls",
      "model_module_version": "1.4.0",
      "model_name": "VBoxModel",
      "state": {
       "children": [
        "IPY_MODEL_d989c5aa65a94a39a0d10ac90f39c4db",
        "IPY_MODEL_a9ebba33031c4c5ea8184f4f974567b8",
        "IPY_MODEL_419ca3373c2748f694ed221934d55648",
        "IPY_MODEL_421ae8dab0b34e30aa0de8ba2b7d03d0",
        "IPY_MODEL_0a34b1ca6d2743549f6bd16255592de8"
       ],
       "layout": "IPY_MODEL_c4ea03a6bc034a29ab15c4cf097c93a7"
      }
     },
     "e3b3e026f1ef415e9e18871b32498516": {
      "model_module": "@jupyter-widgets/controls",
      "model_module_version": "1.4.0",
      "model_name": "CheckboxModel",
      "state": {
       "description": "Sinnhaftigkeit",
       "disabled": false,
       "layout": "IPY_MODEL_5a542b9825ce4aea91fa8a7efee046ac",
       "style": "IPY_MODEL_6fdd83245fd54be9ae844f4702d74895",
       "value": false
      }
     },
     "e3d04d83a3dc45428fe41dcbd9a8d015": {
      "model_module": "@jupyter-widgets/base",
      "model_module_version": "1.1.0",
      "model_name": "LayoutModel",
      "state": {
       "justify_content": "center"
      }
     },
     "e3e59c3a018f43d49e4d559d340b6a9c": {
      "model_module": "@jupyter-widgets/base",
      "model_module_version": "1.1.0",
      "model_name": "LayoutModel",
      "state": {
       "width": "250px"
      }
     },
     "e3ed094db8d74f6fb1844b9834532e9a": {
      "model_module": "@jupyter-widgets/controls",
      "model_module_version": "1.4.0",
      "model_name": "DescriptionStyleModel",
      "state": {
       "description_width": ""
      }
     },
     "e40461dcd86041069cac72e2bf91b035": {
      "model_module": "@jupyter-widgets/controls",
      "model_module_version": "1.4.0",
      "model_name": "CheckboxModel",
      "state": {
       "description": "pragmatische",
       "disabled": false,
       "layout": "IPY_MODEL_c14fd82d4eab4fd1a3009fc5da171873",
       "style": "IPY_MODEL_f751e9a6ad2d4bf69e0339d01c271d13",
       "value": false
      }
     },
     "e41b849aca4c4f02bcd7bf3a8fce7c5a": {
      "model_module": "@jupyter-widgets/controls",
      "model_module_version": "1.4.0",
      "model_name": "ButtonStyleModel",
      "state": {}
     },
     "e41e252ab16f4cc59c5e27ed8d70bf61": {
      "model_module": "@jupyter-widgets/base",
      "model_module_version": "1.1.0",
      "model_name": "LayoutModel",
      "state": {}
     },
     "e4391de87cfd41dba58521628f67d133": {
      "model_module": "@jupyter-widgets/controls",
      "model_module_version": "1.4.0",
      "model_name": "DescriptionStyleModel",
      "state": {
       "description_width": "initial"
      }
     },
     "e475038013f64d40b97ee8b6edcb5d43": {
      "model_module": "@jupyter-widgets/controls",
      "model_module_version": "1.4.0",
      "model_name": "CheckboxModel",
      "state": {
       "description": "Gerund ist Kopf eines nichtfiniten Teilsatzes",
       "disabled": false,
       "layout": "IPY_MODEL_911abec600334eaf8fa6d9702130caef",
       "style": "IPY_MODEL_314e846b9ddb4f6b876723f296de7c08",
       "value": false
      }
     },
     "e480171d82fa43e79656625cf51385b1": {
      "model_module": "@jupyter-widgets/controls",
      "model_module_version": "1.4.0",
      "model_name": "ButtonModel",
      "state": {
       "description": "Objekt",
       "layout": "IPY_MODEL_8be8a1dac0154b8685fa4912bfd251be",
       "style": "IPY_MODEL_ba7d4c7dea194df7912604196cf2e21a"
      }
     },
     "e499357e10584bf882f505a1c54514a7": {
      "model_module": "@jupyter-widgets/controls",
      "model_module_version": "1.4.0",
      "model_name": "HBoxModel",
      "state": {
       "children": [
        "IPY_MODEL_d94cd9a6c0774f09bfb731654574bbe9",
        "IPY_MODEL_720c1e00b28e4f1083231ced343aefa8"
       ],
       "layout": "IPY_MODEL_e018d4eeb25b4fee9f96a8444eba6d25"
      }
     },
     "e49f10fb924a4805b2047122f8710a12": {
      "model_module": "@jupyter-widgets/controls",
      "model_module_version": "1.4.0",
      "model_name": "DescriptionStyleModel",
      "state": {
       "description_width": ""
      }
     },
     "e4bd4b3746cc40c9a5ef931450044ec8": {
      "model_module": "@jupyter-widgets/controls",
      "model_module_version": "1.4.0",
      "model_name": "ButtonModel",
      "state": {
       "description": "formale Grammatik",
       "layout": "IPY_MODEL_8115679232314cb3a3bd21d89578024f",
       "style": "IPY_MODEL_1435c34fa85b4768a199a57390d3e979"
      }
     },
     "e4c0f4fc51d747ae849411007f89542c": {
      "model_module": "@jupyter-widgets/controls",
      "model_module_version": "1.4.0",
      "model_name": "ButtonStyleModel",
      "state": {}
     },
     "e4c192cb258f4bf5bf8aae4cc7be5fd2": {
      "model_module": "@jupyter-widgets/controls",
      "model_module_version": "1.4.0",
      "model_name": "DescriptionStyleModel",
      "state": {
       "description_width": ""
      }
     },
     "e4d1ff0397a64b5ca43a6dd96b78d1f4": {
      "model_module": "@jupyter-widgets/base",
      "model_module_version": "1.1.0",
      "model_name": "LayoutModel",
      "state": {
       "width": "250px"
      }
     },
     "e5044f44c0674d359d09273212b5145c": {
      "model_module": "@jupyter-widgets/controls",
      "model_module_version": "1.4.0",
      "model_name": "DescriptionStyleModel",
      "state": {
       "description_width": ""
      }
     },
     "e528d4b4b1f644f69c295e7d708bf25b": {
      "model_module": "@jupyter-widgets/base",
      "model_module_version": "1.1.0",
      "model_name": "LayoutModel",
      "state": {
       "width": "250px"
      }
     },
     "e52cf6b6e80f41a9ba864a84ba6a29a0": {
      "model_module": "@jupyter-widgets/controls",
      "model_module_version": "1.4.0",
      "model_name": "ButtonModel",
      "state": {
       "description": "Korrekt?",
       "layout": "IPY_MODEL_9f969e80f5b2402d9334616e799c58c0",
       "style": "IPY_MODEL_2d7dec9f526a43db900d315f52b87732"
      }
     },
     "e54b038be7c94f6e95e930c2a165dbf3": {
      "model_module": "@jupyter-widgets/base",
      "model_module_version": "1.1.0",
      "model_name": "LayoutModel",
      "state": {
       "justify_content": "center"
      }
     },
     "e5a0fbe40e2a4c05acc57f6bd34a6817": {
      "model_module": "@jupyter-widgets/controls",
      "model_module_version": "1.4.0",
      "model_name": "DescriptionStyleModel",
      "state": {
       "description_width": ""
      }
     },
     "e5a102b9872c48c69014e3fff0b89d7f": {
      "model_module": "@jupyter-widgets/controls",
      "model_module_version": "1.4.0",
      "model_name": "ButtonModel",
      "state": {
       "description": "Regelbuch",
       "layout": "IPY_MODEL_2c949d89d76c416785cc6d6a23787278",
       "style": "IPY_MODEL_afe4c674b8ae4e55970f76f906b37648"
      }
     },
     "e5a8622b17c0426ebd124bd9d0590134": {
      "model_module": "@jupyter-widgets/controls",
      "model_module_version": "1.4.0",
      "model_name": "ButtonStyleModel",
      "state": {}
     },
     "e6207be57f354ce490ff1d3ec747d3d0": {
      "model_module": "@jupyter-widgets/controls",
      "model_module_version": "1.4.0",
      "model_name": "ButtonStyleModel",
      "state": {}
     },
     "e6389548000a48aa84a610f02dec5443": {
      "model_module": "@jupyter-widgets/base",
      "model_module_version": "1.1.0",
      "model_name": "LayoutModel",
      "state": {
       "width": "250px"
      }
     },
     "e6414dc2852f44e39079b71d51b70b2f": {
      "model_module": "@jupyter-widgets/base",
      "model_module_version": "1.1.0",
      "model_name": "LayoutModel",
      "state": {}
     },
     "e6597d5f5a34489d8e8b6febeb3e6d39": {
      "model_module": "@jupyter-widgets/controls",
      "model_module_version": "1.4.0",
      "model_name": "DescriptionStyleModel",
      "state": {
       "description_width": ""
      }
     },
     "e68bbd3e8f9c42f2ac40a0a60fd1d320": {
      "model_module": "@jupyter-widgets/base",
      "model_module_version": "1.1.0",
      "model_name": "LayoutModel",
      "state": {}
     },
     "e6be71bb969a4a679650144d82707a62": {
      "model_module": "@jupyter-widgets/base",
      "model_module_version": "1.1.0",
      "model_name": "LayoutModel",
      "state": {
       "justify_content": "center"
      }
     },
     "e72a0a469aeb4353951f1019d4040c7a": {
      "model_module": "@jupyter-widgets/controls",
      "model_module_version": "1.4.0",
      "model_name": "DropdownModel",
      "state": {
       "_options_labels": [
        "Keine der Alternativen",
        "der Ort des Geschehens wird festgelegt",
        "die PP wird dem Substantiv beigefügt",
        "die im Verb ausgedrückte Tätigkeit wird modifiziert"
       ],
       "description": "Antwort:",
       "index": 0,
       "layout": "IPY_MODEL_e1dbd07fd74845449260013c7ad0883a",
       "style": "IPY_MODEL_7a19c4005404498c81f1288df68169a3"
      }
     },
     "e74987c0013a41bba429eeae53363066": {
      "model_module": "@jupyter-widgets/controls",
      "model_module_version": "1.4.0",
      "model_name": "DropdownModel",
      "state": {
       "_options_labels": [
        "Oberbegriff",
        "Synonym",
        "Teilbereich",
        " "
       ],
       "index": 2,
       "layout": "IPY_MODEL_d07a6a6e3b8640e39190cb17f7ed5f91",
       "style": "IPY_MODEL_f800a3edcfb64fe98804c90cddf4cdec"
      }
     },
     "e752bb9f0240455793fdc8bead1e8cc1": {
      "model_module": "@jupyter-widgets/controls",
      "model_module_version": "1.4.0",
      "model_name": "ButtonStyleModel",
      "state": {}
     },
     "e75490d92f9d41029f3d5dca741b9226": {
      "model_module": "@jupyter-widgets/controls",
      "model_module_version": "1.4.0",
      "model_name": "VBoxModel",
      "state": {
       "children": [
        "IPY_MODEL_32be15174b4c447dad8c9593eaf34271",
        "IPY_MODEL_c187a7aac3694939bcdc175869ebbba5",
        "IPY_MODEL_12cbab4abe314052b38bba7dc40e4770",
        "IPY_MODEL_2beed017e5454ec98f0337cb26354036"
       ],
       "layout": "IPY_MODEL_1f7f3fc39e7b4bfc922fc2d1f849bc04"
      }
     },
     "e767029af65f4a4abedf950a3c6aeab0": {
      "model_module": "@jupyter-widgets/controls",
      "model_module_version": "1.4.0",
      "model_name": "HTMLModel",
      "state": {
       "layout": "IPY_MODEL_3df25340fc104587a786d43896b4780c",
       "style": "IPY_MODEL_19522b9758e5447f95dffd83cad235ed",
       "value": "<h4 style=\"font-size:14px;\">der Grammatik, der sich auf die</h4>"
      }
     },
     "e7f64840ebfa4cc88a07369c7cc5e8f1": {
      "model_module": "@jupyter-widgets/controls",
      "model_module_version": "1.4.0",
      "model_name": "ButtonStyleModel",
      "state": {}
     },
     "e7fa57c53d6b41849cc33f87b3120a77": {
      "model_module": "@jupyter-widgets/controls",
      "model_module_version": "1.4.0",
      "model_name": "ButtonStyleModel",
      "state": {}
     },
     "e80dedaf5c5443c3813d3da9ecfb1026": {
      "model_module": "@jupyter-widgets/base",
      "model_module_version": "1.1.0",
      "model_name": "LayoutModel",
      "state": {}
     },
     "e83e8646eeeb4e878a3a3bce28e562c8": {
      "model_module": "@jupyter-widgets/controls",
      "model_module_version": "1.4.0",
      "model_name": "DescriptionStyleModel",
      "state": {
       "description_width": ""
      }
     },
     "e8649f19f9cb40daa269a829d19cefa5": {
      "model_module": "@jupyter-widgets/base",
      "model_module_version": "1.1.0",
      "model_name": "LayoutModel",
      "state": {
       "width": "250px"
      }
     },
     "e86a98740dc840a9bbb4b49933d4038e": {
      "model_module": "@jupyter-widgets/controls",
      "model_module_version": "1.4.0",
      "model_name": "DescriptionStyleModel",
      "state": {
       "description_width": ""
      }
     },
     "e88ab9772a774ea9b7ce98aece651417": {
      "model_module": "@jupyter-widgets/controls",
      "model_module_version": "1.4.0",
      "model_name": "DescriptionStyleModel",
      "state": {
       "description_width": ""
      }
     },
     "e88f5192896d4091b80b5f1a3012cd60": {
      "model_module": "@jupyter-widgets/controls",
      "model_module_version": "1.4.0",
      "model_name": "ButtonModel",
      "state": {
       "description": "Dependenz",
       "layout": "IPY_MODEL_563a186e7c67416eb1b1394e8e6ec05b",
       "style": "IPY_MODEL_46873333e27b4bba95c1f47a7f0ed4ab"
      }
     },
     "e8d489525b79497bb1a888275cb9dd35": {
      "model_module": "@jupyter-widgets/base",
      "model_module_version": "1.1.0",
      "model_name": "LayoutModel",
      "state": {
       "width": "250px"
      }
     },
     "e8e5e3da21c0453cb09266ad109cc2a1": {
      "model_module": "@jupyter-widgets/controls",
      "model_module_version": "1.4.0",
      "model_name": "ButtonStyleModel",
      "state": {}
     },
     "e8f7d87911f6428c8f6f97ec2080a4ec": {
      "model_module": "@jupyter-widgets/base",
      "model_module_version": "1.1.0",
      "model_name": "LayoutModel",
      "state": {}
     },
     "e905e2fb4e70483b9d5f65dc790f7b1b": {
      "model_module": "@jupyter-widgets/controls",
      "model_module_version": "1.4.0",
      "model_name": "ButtonStyleModel",
      "state": {}
     },
     "e92f591d4ec34212aaec2f9bb2a4b6e7": {
      "model_module": "@jupyter-widgets/controls",
      "model_module_version": "1.4.0",
      "model_name": "ButtonModel",
      "state": {
       "description": "Parser",
       "layout": "IPY_MODEL_3cf290e3a7404e7385c970ba803d3e6b",
       "style": "IPY_MODEL_e6207be57f354ce490ff1d3ec747d3d0"
      }
     },
     "e9467c25fe6d4a8b8e4154d7e2846ba0": {
      "model_module": "@jupyter-widgets/controls",
      "model_module_version": "1.4.0",
      "model_name": "ButtonStyleModel",
      "state": {}
     },
     "e94dfe25f2bb40e682c85a4fdc6a2a84": {
      "model_module": "@jupyter-widgets/base",
      "model_module_version": "1.1.0",
      "model_name": "LayoutModel",
      "state": {}
     },
     "e964ba7d0d404993888d189930072be8": {
      "model_module": "@jupyter-widgets/controls",
      "model_module_version": "1.4.0",
      "model_name": "HTMLModel",
      "state": {
       "layout": "IPY_MODEL_a35477260d7d4ad29715ba50106c54f4",
       "style": "IPY_MODEL_62124dc6bb7f4ab6a83e62a4f28e70ae",
       "value": "<h4 style=\"font-size:14px;\">Für die Blätter gilt: natürlichsprachliche Wörter sind eine Teilmenge aus dem Alphabet der</h4>"
      }
     },
     "e9b050cf169949958c2e13dc827b3fc1": {
      "model_module": "@jupyter-widgets/controls",
      "model_module_version": "1.4.0",
      "model_name": "ButtonModel",
      "state": {
       "description": "Keine der anderen Möglichkeiten",
       "layout": "IPY_MODEL_ff426774b3c746e7accc807bebaecbb1",
       "style": "IPY_MODEL_3f45ae1b1d2841f7b412cd6a02bea3a8"
      }
     },
     "e9d1c1bdc99b4ef881f435133eac69a3": {
      "model_module": "@jupyter-widgets/controls",
      "model_module_version": "1.4.0",
      "model_name": "VBoxModel",
      "state": {
       "children": [
        "IPY_MODEL_03af34b3901947c097f9226112e774bd",
        "IPY_MODEL_e3b3e026f1ef415e9e18871b32498516",
        "IPY_MODEL_63e4a44a310a46898d1a8b44d0ba2a3d"
       ],
       "layout": "IPY_MODEL_09939960c6384d30a107724d6faac723"
      }
     },
     "e9d570fe194442af9a245435635f67a0": {
      "model_module": "@jupyter-widgets/controls",
      "model_module_version": "1.4.0",
      "model_name": "CheckboxModel",
      "state": {
       "description": "Korrektheit",
       "disabled": false,
       "layout": "IPY_MODEL_a76dda7f0f87429e9a519bc503d576d6",
       "style": "IPY_MODEL_f71c42f4983e46f7a3bda5d2edee9e37",
       "value": false
      }
     },
     "e9dcc07642ed408a844c600e69da18fe": {
      "model_module": "@jupyter-widgets/controls",
      "model_module_version": "1.4.0",
      "model_name": "DescriptionStyleModel",
      "state": {
       "description_width": ""
      }
     },
     "e9e7739fa329498ca1903c12a9023525": {
      "model_module": "@jupyter-widgets/controls",
      "model_module_version": "1.4.0",
      "model_name": "ButtonStyleModel",
      "state": {}
     },
     "ea3b9a6bed2d4dd9808edd790e222742": {
      "model_module": "@jupyter-widgets/base",
      "model_module_version": "1.1.0",
      "model_name": "LayoutModel",
      "state": {
       "width": "250px"
      }
     },
     "ea41c898518b47ab85037ffe1a56bf74": {
      "model_module": "@jupyter-widgets/controls",
      "model_module_version": "1.4.0",
      "model_name": "ButtonStyleModel",
      "state": {}
     },
     "ea51ec461ed84169957a76c66d655de1": {
      "model_module": "@jupyter-widgets/controls",
      "model_module_version": "1.4.0",
      "model_name": "DescriptionStyleModel",
      "state": {
       "description_width": ""
      }
     },
     "ea710506abf04e07bf478e469d41f190": {
      "model_module": "@jupyter-widgets/controls",
      "model_module_version": "1.4.0",
      "model_name": "DescriptionStyleModel",
      "state": {
       "description_width": ""
      }
     },
     "ea75aae3761f47f7b20eba1f841263cd": {
      "model_module": "@jupyter-widgets/controls",
      "model_module_version": "1.4.0",
      "model_name": "ButtonModel",
      "state": {
       "description": "Objekt",
       "layout": "IPY_MODEL_74a3862567eb4e4ead76b6f5166a397c",
       "style": "IPY_MODEL_aa20cfb62c5842ddb6032482d58fc4a9"
      }
     },
     "eac911fc3ff7458b8f6df9a035634aa7": {
      "model_module": "@jupyter-widgets/controls",
      "model_module_version": "1.4.0",
      "model_name": "HTMLModel",
      "state": {
       "layout": "IPY_MODEL_db545bde746c4381b87f3cf974244856",
       "style": "IPY_MODEL_2185cded95c44a569948e81da2fe3a2d",
       "value": "<i>Markieren Sie <ins>alle</ins> passenden Antworten: </i>"
      }
     },
     "ead7c1e4c8fd4196baea212ada115364": {
      "model_module": "@jupyter-widgets/controls",
      "model_module_version": "1.4.0",
      "model_name": "DescriptionStyleModel",
      "state": {
       "description_width": ""
      }
     },
     "eaf28d2a1acb41bba83efe3420f3f5b7": {
      "model_module": "@jupyter-widgets/base",
      "model_module_version": "1.1.0",
      "model_name": "LayoutModel",
      "state": {}
     },
     "eb24fe0b88cb41b0b0acb0cf6ee1a845": {
      "model_module": "@jupyter-widgets/base",
      "model_module_version": "1.1.0",
      "model_name": "LayoutModel",
      "state": {}
     },
     "eb2bfb2c177e4712aa6fa52e60d0856f": {
      "model_module": "@jupyter-widgets/base",
      "model_module_version": "1.1.0",
      "model_name": "LayoutModel",
      "state": {}
     },
     "eb4f0343c2194cc09120b2deb5e9e404": {
      "model_module": "@jupyter-widgets/base",
      "model_module_version": "1.1.0",
      "model_name": "LayoutModel",
      "state": {
       "width": "150px"
      }
     },
     "eb62ec88b90244b1bdc90810537709c8": {
      "model_module": "@jupyter-widgets/controls",
      "model_module_version": "1.4.0",
      "model_name": "ButtonModel",
      "state": {
       "description": "Theorie der Sprachstruktur",
       "layout": "IPY_MODEL_3d0769620b6d442b9d707f095564704b",
       "style": "IPY_MODEL_465a366d00ce440dbe2b329a8b3fe442"
      }
     },
     "eb8cb2843b634030989b3cc85c81a3c8": {
      "model_module": "@jupyter-widgets/controls",
      "model_module_version": "1.4.0",
      "model_name": "ButtonModel",
      "state": {
       "description": "Regelbuch",
       "layout": "IPY_MODEL_433913c32a97429d82907a8b484ab561",
       "style": "IPY_MODEL_67b4c3e31e8d4385a4c70fbb1cae7152"
      }
     },
     "eb8f34c8b52b4cf6bec09b90ed5f0c23": {
      "model_module": "@jupyter-widgets/controls",
      "model_module_version": "1.4.0",
      "model_name": "DescriptionStyleModel",
      "state": {
       "description_width": ""
      }
     },
     "eba791abed5b44dcae7c7be93b46d4b4": {
      "model_module": "@jupyter-widgets/base",
      "model_module_version": "1.1.0",
      "model_name": "LayoutModel",
      "state": {
       "justify_content": "center"
      }
     },
     "ebd5efb42ea94b228c71595b4ff9f263": {
      "model_module": "@jupyter-widgets/controls",
      "model_module_version": "1.4.0",
      "model_name": "ButtonStyleModel",
      "state": {
       "button_color": "lightgreen"
      }
     },
     "ebeb57cbe8bf47bc9565a92fe33c68d4": {
      "model_module": "@jupyter-widgets/base",
      "model_module_version": "1.1.0",
      "model_name": "LayoutModel",
      "state": {
       "width": "250px"
      }
     },
     "ebf07c28b0d94f99a94a48c8547cee78": {
      "model_module": "@jupyter-widgets/base",
      "model_module_version": "1.1.0",
      "model_name": "LayoutModel",
      "state": {
       "justify_content": "center"
      }
     },
     "ec23a57a9a4d47f496475796a547ad51": {
      "model_module": "@jupyter-widgets/base",
      "model_module_version": "1.1.0",
      "model_name": "LayoutModel",
      "state": {
       "width": "250px"
      }
     },
     "ec2b4dbd285f46aa8133d347f7e9b1d2": {
      "model_module": "@jupyter-widgets/controls",
      "model_module_version": "1.4.0",
      "model_name": "ButtonModel",
      "state": {
       "description": "Regelbuch",
       "layout": "IPY_MODEL_a5da1ae014b94266a56c7c4b01654099",
       "style": "IPY_MODEL_8f376da375c447e7b5dbc3d6db1476f5"
      }
     },
     "ec3d21f2396042609c2b4f0962974ddc": {
      "model_module": "@jupyter-widgets/controls",
      "model_module_version": "1.4.0",
      "model_name": "ButtonModel",
      "state": {
       "description": "Keine der anderen Möglichkeiten",
       "layout": "IPY_MODEL_36c88b3f59234c408cdcbf8285d3dd07",
       "style": "IPY_MODEL_780dea70d6db41acbb390bebe469e13b"
      }
     },
     "ec5a23046c3a474193f10a8cdd01ae0f": {
      "model_module": "@jupyter-widgets/controls",
      "model_module_version": "1.4.0",
      "model_name": "CheckboxModel",
      "state": {
       "description": "Satzebene, Textebene, Bedeutungsebene",
       "disabled": false,
       "layout": "IPY_MODEL_a1452a6ab05d4880b204ce411cf312d1",
       "style": "IPY_MODEL_f0eb4aa9bc6244ca8599467f70ee86cb",
       "value": false
      }
     },
     "ec5d3309bc9f47bba31e11a89f755b09": {
      "model_module": "@jupyter-widgets/base",
      "model_module_version": "1.1.0",
      "model_name": "LayoutModel",
      "state": {
       "justify_content": "center"
      }
     },
     "ec627508fbc446bea84e7b2ff2040bda": {
      "model_module": "@jupyter-widgets/controls",
      "model_module_version": "1.4.0",
      "model_name": "VBoxModel",
      "state": {
       "children": [
        "IPY_MODEL_1663f6397e5f4beda4118eabe0d305c5",
        "IPY_MODEL_91be48dffadd4d1cbcde5c86b1a8235b",
        "IPY_MODEL_6db4dc9071484fc6ae1a229ab2a224ef",
        "IPY_MODEL_267fbd2018654cd6bac7346f2862bef9"
       ],
       "layout": "IPY_MODEL_b907df87febe4ad09ed821e8ff39d140"
      }
     },
     "ec69034d570944ee8a6c8d80701386a4": {
      "model_module": "@jupyter-widgets/controls",
      "model_module_version": "1.4.0",
      "model_name": "CheckboxModel",
      "state": {
       "description": "Eine unendliche Menge an Sätzen kann mit endlichen Mitteln beschrieben werden.",
       "disabled": false,
       "layout": "IPY_MODEL_a41065cda1354c33b08ad92b72adcbf1",
       "style": "IPY_MODEL_f5664346c89c43908c20e3a4e92e6de8",
       "value": false
      }
     },
     "ec832cf46c824d16bf9f7aa25884c475": {
      "model_module": "@jupyter-widgets/base",
      "model_module_version": "1.1.0",
      "model_name": "LayoutModel",
      "state": {
       "width": "250px"
      }
     },
     "ecab16d691614b2da2bf9095c958f861": {
      "model_module": "@jupyter-widgets/base",
      "model_module_version": "1.1.0",
      "model_name": "LayoutModel",
      "state": {}
     },
     "ed0fcdabc36649c09f787ea8d6db1677": {
      "model_module": "@jupyter-widgets/controls",
      "model_module_version": "1.4.0",
      "model_name": "CheckboxModel",
      "state": {
       "description": "phonologische",
       "disabled": false,
       "layout": "IPY_MODEL_1d7443402cc94001b7553e18bd02d874",
       "style": "IPY_MODEL_7a695efc8e6d4241bdcc811f47c77b52",
       "value": false
      }
     },
     "ed4f645706984144a70e90ab1f6ae06d": {
      "model_module": "@jupyter-widgets/base",
      "model_module_version": "1.1.0",
      "model_name": "LayoutModel",
      "state": {
       "width": "250px"
      }
     },
     "ed5b530213ae468280c9384cb7578d82": {
      "model_module": "@jupyter-widgets/controls",
      "model_module_version": "1.4.0",
      "model_name": "DescriptionStyleModel",
      "state": {
       "description_width": "initial"
      }
     },
     "ede9dc07ddcf42e6854a64b1261be335": {
      "model_module": "@jupyter-widgets/base",
      "model_module_version": "1.1.0",
      "model_name": "LayoutModel",
      "state": {}
     },
     "edf7b2afaa504a149625acdea14b8113": {
      "model_module": "@jupyter-widgets/controls",
      "model_module_version": "1.4.0",
      "model_name": "ButtonStyleModel",
      "state": {}
     },
     "ee68dfbfc4044ef1abcb7236fa062af2": {
      "model_module": "@jupyter-widgets/base",
      "model_module_version": "1.1.0",
      "model_name": "LayoutModel",
      "state": {}
     },
     "eead38f3056e4804bc0c82b226a146a0": {
      "model_module": "@jupyter-widgets/controls",
      "model_module_version": "1.4.0",
      "model_name": "ButtonStyleModel",
      "state": {}
     },
     "eeadcce4f46f49f994f8a1a5a1de3616": {
      "model_module": "@jupyter-widgets/controls",
      "model_module_version": "1.4.0",
      "model_name": "HTMLModel",
      "state": {
       "layout": "IPY_MODEL_581b6168822c46eba729ba3257889b85",
       "style": "IPY_MODEL_fe3fef1c0b22484ba153f48e1031a0e3",
       "value": "<i>Markieren Sie <ins>alle</ins> passenden Antworten: </i>"
      }
     },
     "eebef33b78d34f2cbed106e5c042e838": {
      "model_module": "@jupyter-widgets/controls",
      "model_module_version": "1.4.0",
      "model_name": "VBoxModel",
      "state": {
       "children": [
        "IPY_MODEL_6e3493fd615c45b5983f88a74e7835ae",
        "IPY_MODEL_893f05760f79451fbdd910d4c9eda0f5",
        "IPY_MODEL_7e576daa52fc43d6bdc00a9e831f5e31",
        "IPY_MODEL_ca6804475de44d57b35ad4ae512a1f15"
       ],
       "layout": "IPY_MODEL_815040df2e424d1d92e2ea20c73e8e02"
      }
     },
     "eefeab5d6ede48e49a0b6aff7a4123b5": {
      "model_module": "@jupyter-widgets/controls",
      "model_module_version": "1.4.0",
      "model_name": "DescriptionStyleModel",
      "state": {
       "description_width": ""
      }
     },
     "ef0391beb98e4eeb91fecd5f86c9a36f": {
      "model_module": "@jupyter-widgets/base",
      "model_module_version": "1.1.0",
      "model_name": "LayoutModel",
      "state": {}
     },
     "ef38d4be22bb46c8837361ac270a076a": {
      "model_module": "@jupyter-widgets/base",
      "model_module_version": "1.1.0",
      "model_name": "LayoutModel",
      "state": {}
     },
     "ef3f90d7640340369a6291db58397b10": {
      "model_module": "@jupyter-widgets/controls",
      "model_module_version": "1.4.0",
      "model_name": "VBoxModel",
      "state": {
       "children": [
        "IPY_MODEL_4993b7263e884396be61ef60fe1369cd",
        "IPY_MODEL_1a07337f70b9449eb35e92cd6e0e51d0",
        "IPY_MODEL_33f5f5f031f842288a8d6f5cde841b85"
       ],
       "layout": "IPY_MODEL_0c0eb6dd60bc4c94b7b944367c7e1f2f"
      }
     },
     "ef7fda5b8898427889a6947f63a61a91": {
      "model_module": "@jupyter-widgets/controls",
      "model_module_version": "1.4.0",
      "model_name": "ButtonStyleModel",
      "state": {}
     },
     "f0037df15c624b93817182f26e999fc9": {
      "model_module": "@jupyter-widgets/controls",
      "model_module_version": "1.4.0",
      "model_name": "DescriptionStyleModel",
      "state": {
       "description_width": "initial"
      }
     },
     "f03c8ca83b75490da908fb130250ec9a": {
      "model_module": "@jupyter-widgets/base",
      "model_module_version": "1.1.0",
      "model_name": "LayoutModel",
      "state": {}
     },
     "f065349d187841ecb95792ca25a91f32": {
      "model_module": "@jupyter-widgets/controls",
      "model_module_version": "1.4.0",
      "model_name": "HTMLModel",
      "state": {
       "layout": "IPY_MODEL_de48f495058d44afa858dc6b83c7f4ed",
       "style": "IPY_MODEL_d0d05c7aa85e4d168bbb75af3ea0c232",
       "value": "<i>Wählen Sie die <ins>eine</ins> korrekte Antwort aus: </i>"
      }
     },
     "f06fd8cff9e24ca1b90b189adcc5e07a": {
      "model_module": "@jupyter-widgets/base",
      "model_module_version": "1.1.0",
      "model_name": "LayoutModel",
      "state": {}
     },
     "f085515e54b147539f206ef29e2f20cb": {
      "model_module": "@jupyter-widgets/controls",
      "model_module_version": "1.4.0",
      "model_name": "DescriptionStyleModel",
      "state": {
       "description_width": ""
      }
     },
     "f0eb4aa9bc6244ca8599467f70ee86cb": {
      "model_module": "@jupyter-widgets/controls",
      "model_module_version": "1.4.0",
      "model_name": "DescriptionStyleModel",
      "state": {
       "description_width": "initial"
      }
     },
     "f0ec253ab5334fb39d4451900f51f49c": {
      "model_module": "@jupyter-widgets/controls",
      "model_module_version": "1.4.0",
      "model_name": "VBoxModel",
      "state": {
       "children": [
        "IPY_MODEL_c5ffeb6f3eca43bfa8b4e427320d2080",
        "IPY_MODEL_dacac433f2ab4774884378ba7a61598e",
        "IPY_MODEL_c25c9aab172e4ec28d33f6763a185b2b",
        "IPY_MODEL_0f5cec589dbc4ee39cdc645cdd34591d"
       ],
       "layout": "IPY_MODEL_8c1443d607bd45adbc67a0380e2ecd6e"
      }
     },
     "f11e2828148a4f3cbd31c104d74835d9": {
      "model_module": "@jupyter-widgets/base",
      "model_module_version": "1.1.0",
      "model_name": "LayoutModel",
      "state": {
       "width": "250px"
      }
     },
     "f13b55fa0bec469b825e911d150ffd0b": {
      "model_module": "@jupyter-widgets/controls",
      "model_module_version": "1.4.0",
      "model_name": "VBoxModel",
      "state": {
       "children": [
        "IPY_MODEL_1bace118abcb4614aaf52a1e316795e7",
        "IPY_MODEL_f065349d187841ecb95792ca25a91f32",
        "IPY_MODEL_17356f060296454f893dd4b1be69e063"
       ],
       "layout": "IPY_MODEL_96573650bad14669bb98ffad70331fad"
      }
     },
     "f18663f87838449596909ba290f16d76": {
      "model_module": "@jupyter-widgets/base",
      "model_module_version": "1.1.0",
      "model_name": "LayoutModel",
      "state": {
       "width": "600px"
      }
     },
     "f1c3b7ce0621449588fc077ea84cb615": {
      "model_module": "@jupyter-widgets/controls",
      "model_module_version": "1.4.0",
      "model_name": "HTMLModel",
      "state": {
       "layout": "IPY_MODEL_2f28d209a439448fab21cabcc1b40c06",
       "style": "IPY_MODEL_66bf7eaa9a504586b2b05553dae5763a",
       "value": "<i>Wählen Sie die <ins>eine</ins> korrekte Antwort aus: </i>"
      }
     },
     "f1cb2250a99143a7858ecfec0693cd4f": {
      "model_module": "@jupyter-widgets/controls",
      "model_module_version": "1.4.0",
      "model_name": "ButtonStyleModel",
      "state": {}
     },
     "f1cd3f6897514a06a92aad85602bc82d": {
      "model_module": "@jupyter-widgets/controls",
      "model_module_version": "1.4.0",
      "model_name": "ButtonModel",
      "state": {
       "description": "Konstituenz",
       "layout": "IPY_MODEL_18889bcaa8bf41849346fb8de8805082",
       "style": "IPY_MODEL_c61230ddbe2e492ba8dd4f30fed9825a"
      }
     },
     "f1dba899821141ee927cf0f7bb2ad5cf": {
      "model_module": "@jupyter-widgets/controls",
      "model_module_version": "1.4.0",
      "model_name": "DescriptionStyleModel",
      "state": {
       "description_width": "initial"
      }
     },
     "f1f08530c6d4478c93339383c94519fc": {
      "model_module": "@jupyter-widgets/controls",
      "model_module_version": "1.4.0",
      "model_name": "HBoxModel",
      "state": {
       "children": [
        "IPY_MODEL_f983a37d9be040d283d9782ad1f55390",
        "IPY_MODEL_487a2690b1fa4cc8b1b55ba8cbb89ec5"
       ],
       "layout": "IPY_MODEL_4e17120fc9834a4881174e2a64fc89f7"
      }
     },
     "f21161e99f394b10b960a101045a436a": {
      "model_module": "@jupyter-widgets/base",
      "model_module_version": "1.1.0",
      "model_name": "LayoutModel",
      "state": {
       "width": "250px"
      }
     },
     "f2bf683ba401479aad5e8f75bb7837ac": {
      "model_module": "@jupyter-widgets/base",
      "model_module_version": "1.1.0",
      "model_name": "LayoutModel",
      "state": {
       "justify_content": "center"
      }
     },
     "f2c5592a80b04d32a6ed19254c3a6c9e": {
      "model_module": "@jupyter-widgets/controls",
      "model_module_version": "1.4.0",
      "model_name": "HTMLModel",
      "state": {
       "layout": "IPY_MODEL_dd2e845403c540e899e529c19c965fe7",
       "style": "IPY_MODEL_4718981a395c40cc9609552e0ac084af",
       "value": "<i>Wählen Sie die <ins>eine</ins> korrekte Antwort aus: </i>"
      }
     },
     "f326e6df74124f248f434eff1b41321f": {
      "model_module": "@jupyter-widgets/controls",
      "model_module_version": "1.4.0",
      "model_name": "VBoxModel",
      "state": {
       "children": [
        "IPY_MODEL_ae1a65e60daa4661ae820baac9d65edc",
        "IPY_MODEL_d414d53a3b524fb0993943a844967900",
        "IPY_MODEL_c07a47df3b8246d9a088dc7b3d5bd424",
        "IPY_MODEL_1c5d6f838ca140299eea8dc9dde6cf35"
       ],
       "layout": "IPY_MODEL_8b4cef590873435183fd8c4eee773700"
      }
     },
     "f368178678c246ca8bf2032acc1818dc": {
      "model_module": "@jupyter-widgets/base",
      "model_module_version": "1.1.0",
      "model_name": "LayoutModel",
      "state": {}
     },
     "f3806c12ad144f9d8b54bdfa66669901": {
      "model_module": "@jupyter-widgets/controls",
      "model_module_version": "1.4.0",
      "model_name": "DescriptionStyleModel",
      "state": {
       "description_width": "initial"
      }
     },
     "f3dad2c5c82442f285c458362b952afb": {
      "model_module": "@jupyter-widgets/controls",
      "model_module_version": "1.4.0",
      "model_name": "HBoxModel",
      "state": {
       "children": [
        "IPY_MODEL_e480171d82fa43e79656625cf51385b1",
        "IPY_MODEL_3b61c0a35de842689debca8870936388"
       ],
       "layout": "IPY_MODEL_567d464105be495fbef87bd2db0c7697"
      }
     },
     "f412dd4ee66d4bd29932087a2f0e4b8a": {
      "model_module": "@jupyter-widgets/controls",
      "model_module_version": "1.4.0",
      "model_name": "DescriptionStyleModel",
      "state": {
       "description_width": "initial"
      }
     },
     "f4923fa86ba34a418fc2867cbd89abb3": {
      "model_module": "@jupyter-widgets/controls",
      "model_module_version": "1.4.0",
      "model_name": "ButtonModel",
      "state": {
       "description": "Korrekt?",
       "layout": "IPY_MODEL_841ac2dbaa1d4700af7013fdd5b702e4",
       "style": "IPY_MODEL_772e59e9a2ce42eaa4fd56c39f46152e"
      }
     },
     "f4aa70ec806841e3a3442ae2d874507d": {
      "model_module": "@jupyter-widgets/base",
      "model_module_version": "1.1.0",
      "model_name": "LayoutModel",
      "state": {}
     },
     "f4b686a5decb4a6d880fafd72183e159": {
      "model_module": "@jupyter-widgets/controls",
      "model_module_version": "1.4.0",
      "model_name": "HBoxModel",
      "state": {
       "children": [
        "IPY_MODEL_b7e0ad7c73ba4a0fa9b97bf7ccfaa9d1",
        "IPY_MODEL_697688089cd24826bdf28047e4f45388"
       ],
       "layout": "IPY_MODEL_7c3567db1e5f44c6ac059de20111b3a2"
      }
     },
     "f4f9a57541d042de8e45911ef0b387dc": {
      "model_module": "@jupyter-widgets/base",
      "model_module_version": "1.1.0",
      "model_name": "LayoutModel",
      "state": {
       "width": "250px"
      }
     },
     "f504b014e293437285b0003b78d685eb": {
      "model_module": "@jupyter-widgets/controls",
      "model_module_version": "1.4.0",
      "model_name": "DescriptionStyleModel",
      "state": {
       "description_width": "initial"
      }
     },
     "f508ecd89d3a470a856696e8b2e5b170": {
      "model_module": "@jupyter-widgets/controls",
      "model_module_version": "1.4.0",
      "model_name": "DescriptionStyleModel",
      "state": {
       "description_width": "initial"
      }
     },
     "f530142b4cf44c9399749e74c9472519": {
      "model_module": "@jupyter-widgets/controls",
      "model_module_version": "1.4.0",
      "model_name": "DescriptionStyleModel",
      "state": {
       "description_width": "initial"
      }
     },
     "f5510c3b98214f12a124f8ec4d0e1275": {
      "model_module": "@jupyter-widgets/base",
      "model_module_version": "1.1.0",
      "model_name": "LayoutModel",
      "state": {}
     },
     "f55bdd4d680f44d7b15ad16045135824": {
      "model_module": "@jupyter-widgets/base",
      "model_module_version": "1.1.0",
      "model_name": "LayoutModel",
      "state": {
       "width": "250px"
      }
     },
     "f56502fce61f42ee97a17e59fc05bb27": {
      "model_module": "@jupyter-widgets/controls",
      "model_module_version": "1.4.0",
      "model_name": "DescriptionStyleModel",
      "state": {
       "description_width": ""
      }
     },
     "f5664346c89c43908c20e3a4e92e6de8": {
      "model_module": "@jupyter-widgets/controls",
      "model_module_version": "1.4.0",
      "model_name": "DescriptionStyleModel",
      "state": {
       "description_width": "initial"
      }
     },
     "f56f652c2809437d89567f1d3f50e750": {
      "model_module": "@jupyter-widgets/controls",
      "model_module_version": "1.4.0",
      "model_name": "DescriptionStyleModel",
      "state": {
       "description_width": ""
      }
     },
     "f5761ab3dd8a4400beb326f381dbbb62": {
      "model_module": "@jupyter-widgets/controls",
      "model_module_version": "1.4.0",
      "model_name": "ButtonModel",
      "state": {
       "description": "Regelbuch",
       "layout": "IPY_MODEL_becdbfe4b44e4af2a09db669d4df979c",
       "style": "IPY_MODEL_8c437690634545ce9dd9734a10a43589"
      }
     },
     "f595a2b8baf14ffa90bfab14f4414c45": {
      "model_module": "@jupyter-widgets/base",
      "model_module_version": "1.1.0",
      "model_name": "LayoutModel",
      "state": {
       "width": "250px"
      }
     },
     "f5afb274816c47578c0c791e1494d339": {
      "model_module": "@jupyter-widgets/base",
      "model_module_version": "1.1.0",
      "model_name": "LayoutModel",
      "state": {}
     },
     "f5b2da8cef4047b2b9bc25fccb658312": {
      "model_module": "@jupyter-widgets/controls",
      "model_module_version": "1.4.0",
      "model_name": "HTMLModel",
      "state": {
       "layout": "IPY_MODEL_2fa6905ea89e4dfd8187d1b1701fb96e",
       "style": "IPY_MODEL_3c07916d4d5540b594ebf11844c7c51d",
       "value": "<h4 style=\"font-size:14px;\">Was sind die 3 grundlegenden Beschreibungsebenen der Grammatik natürlicher Sprachen?</h4>"
      }
     },
     "f5ccea2227184321a9fecbe0d05388cc": {
      "model_module": "@jupyter-widgets/controls",
      "model_module_version": "1.4.0",
      "model_name": "HBoxModel",
      "state": {
       "children": [
        "IPY_MODEL_cb14d047728740f18029e1f33aa39b53",
        "IPY_MODEL_1f1de2277f114adeb31acc9215fc6105"
       ],
       "layout": "IPY_MODEL_dfbd0d1f3db14785a1d9ff305ed4c5c3"
      }
     },
     "f5d0cf87e68d48249e8dbf0e2a1bb30b": {
      "model_module": "@jupyter-widgets/controls",
      "model_module_version": "1.4.0",
      "model_name": "ButtonStyleModel",
      "state": {}
     },
     "f65a17afcfc7481e8efde585c26b95ea": {
      "model_module": "@jupyter-widgets/base",
      "model_module_version": "1.1.0",
      "model_name": "LayoutModel",
      "state": {
       "width": "250px"
      }
     },
     "f673ae61b3e34471bfeff90a93685f43": {
      "model_module": "@jupyter-widgets/controls",
      "model_module_version": "1.4.0",
      "model_name": "ButtonStyleModel",
      "state": {}
     },
     "f6a5ee20d9c543ebb6c0094ed6e899e8": {
      "model_module": "@jupyter-widgets/controls",
      "model_module_version": "1.4.0",
      "model_name": "ButtonStyleModel",
      "state": {}
     },
     "f6c3e92caae9428ebbb3c28fc3cf540f": {
      "model_module": "@jupyter-widgets/base",
      "model_module_version": "1.1.0",
      "model_name": "LayoutModel",
      "state": {
       "justify_content": "center"
      }
     },
     "f6d648846c024d229254cb827bc7c71e": {
      "model_module": "@jupyter-widgets/controls",
      "model_module_version": "1.4.0",
      "model_name": "VBoxModel",
      "state": {
       "children": [
        "IPY_MODEL_4b899f672dd64ad58a6a0084888d3ca4",
        "IPY_MODEL_f2c5592a80b04d32a6ed19254c3a6c9e",
        "IPY_MODEL_d4f9719936c94d2084d98d7effa1a39c"
       ],
       "layout": "IPY_MODEL_2456af6be566470bb94bfa17f285dab0"
      }
     },
     "f6da6ff1c9b74d2d8f5a0ce51fb371f0": {
      "model_module": "@jupyter-widgets/controls",
      "model_module_version": "1.4.0",
      "model_name": "DescriptionStyleModel",
      "state": {
       "description_width": ""
      }
     },
     "f705b78429c249e1bd836a634e6a9599": {
      "model_module": "@jupyter-widgets/controls",
      "model_module_version": "1.4.0",
      "model_name": "HTMLModel",
      "state": {
       "layout": "IPY_MODEL_f9e6138925f948b8aa8145daf2b80721",
       "style": "IPY_MODEL_5302cb745c934ca6b321c94692868311",
       "value": "<i>Vervollständigen Sie den Lückentext: </i>"
      }
     },
     "f71526a08516428887e90d0611fa4900": {
      "model_module": "@jupyter-widgets/base",
      "model_module_version": "1.1.0",
      "model_name": "LayoutModel",
      "state": {}
     },
     "f71c42f4983e46f7a3bda5d2edee9e37": {
      "model_module": "@jupyter-widgets/controls",
      "model_module_version": "1.4.0",
      "model_name": "DescriptionStyleModel",
      "state": {
       "description_width": "initial"
      }
     },
     "f738946ecd784a1aa6af1207e76386ba": {
      "model_module": "@jupyter-widgets/base",
      "model_module_version": "1.1.0",
      "model_name": "LayoutModel",
      "state": {
       "width": "150px"
      }
     },
     "f751e9a6ad2d4bf69e0339d01c271d13": {
      "model_module": "@jupyter-widgets/controls",
      "model_module_version": "1.4.0",
      "model_name": "DescriptionStyleModel",
      "state": {
       "description_width": "initial"
      }
     },
     "f758fdf09c2d432fb4e2d47c0687701a": {
      "model_module": "@jupyter-widgets/base",
      "model_module_version": "1.1.0",
      "model_name": "LayoutModel",
      "state": {
       "width": "250px"
      }
     },
     "f78ae04bb01c4218883d5cc52055c740": {
      "model_module": "@jupyter-widgets/base",
      "model_module_version": "1.1.0",
      "model_name": "LayoutModel",
      "state": {
       "justify_content": "center"
      }
     },
     "f79741bdc625471e887744d11132c4fe": {
      "model_module": "@jupyter-widgets/base",
      "model_module_version": "1.1.0",
      "model_name": "LayoutModel",
      "state": {}
     },
     "f7a37cc23a2344b8a09ce6ddbfb08951": {
      "model_module": "@jupyter-widgets/controls",
      "model_module_version": "1.4.0",
      "model_name": "HTMLModel",
      "state": {
       "layout": "IPY_MODEL_f9ed6b43553c4003af20294a0ba48055",
       "style": "IPY_MODEL_39a0459f57654271804ea6b419e323d9",
       "value": "<i>Wählen Sie die <ins>eine</ins> korrekte Antwort aus: </i>"
      }
     },
     "f7b4dfbdfade4afd9a6e971bc22e38a7": {
      "model_module": "@jupyter-widgets/controls",
      "model_module_version": "1.4.0",
      "model_name": "ButtonModel",
      "state": {
       "description": "Wortart des Phrasenkopfes",
       "layout": "IPY_MODEL_3c2fc249baa24dd6b69256ba4dbf5cd2",
       "style": "IPY_MODEL_0c716be79e0c48efac1ef1ba6a822b34"
      }
     },
     "f7c0ad20710249f1bf9bbd5bdd669c51": {
      "model_module": "@jupyter-widgets/controls",
      "model_module_version": "1.4.0",
      "model_name": "DescriptionStyleModel",
      "state": {
       "description_width": ""
      }
     },
     "f800a3edcfb64fe98804c90cddf4cdec": {
      "model_module": "@jupyter-widgets/controls",
      "model_module_version": "1.4.0",
      "model_name": "DescriptionStyleModel",
      "state": {
       "description_width": ""
      }
     },
     "f81ec666b4304292890b4b121f8a5035": {
      "model_module": "@jupyter-widgets/controls",
      "model_module_version": "1.4.0",
      "model_name": "DescriptionStyleModel",
      "state": {
       "description_width": ""
      }
     },
     "f89467ee0a854d4e80c18ee9e60f3131": {
      "model_module": "@jupyter-widgets/controls",
      "model_module_version": "1.4.0",
      "model_name": "HTMLModel",
      "state": {
       "layout": "IPY_MODEL_9cb932819b0340d4bbdb6c9d6b23dede",
       "style": "IPY_MODEL_2ca2ca876aaf45899b402a977821baf0",
       "value": "<h4 style=\"font-size:14px;\">Die ________ eines Satzes bzgl. der formalen Grammatik wird erkannt.</h4>"
      }
     },
     "f8fd35a79ff34b6090eeb8c3b8dbfacc": {
      "model_module": "@jupyter-widgets/controls",
      "model_module_version": "1.4.0",
      "model_name": "VBoxModel",
      "state": {
       "children": [
        "IPY_MODEL_d676ba3a098e403cbc568690e010e6a3",
        "IPY_MODEL_54c6d428f8b34a76957b8dc722f23dcd",
        "IPY_MODEL_0a0199ef1d094cfeb65fbc2478b78afc"
       ],
       "layout": "IPY_MODEL_5e2890841c724d12a4543e98561fd54b"
      }
     },
     "f94ef8fc21b94cd8aaf02ca8dfa10163": {
      "model_module": "@jupyter-widgets/controls",
      "model_module_version": "1.4.0",
      "model_name": "HTMLModel",
      "state": {
       "layout": "IPY_MODEL_d07cb7007f054c03a81587325a9721d8",
       "style": "IPY_MODEL_3080c764c7754b0aad53cd829ea46448",
       "value": "<i>Markieren Sie <ins>alle</ins> passenden Antworten: </i>"
      }
     },
     "f957e010ac004584b6eae2efeb77ce80": {
      "model_module": "@jupyter-widgets/controls",
      "model_module_version": "1.4.0",
      "model_name": "VBoxModel",
      "state": {
       "children": [
        "IPY_MODEL_7f0f55eea65344729ff82f74af579074",
        "IPY_MODEL_eeadcce4f46f49f994f8a1a5a1de3616",
        "IPY_MODEL_58c060a8106d4df5a56fc295e1fe2a2c",
        "IPY_MODEL_d90b93f7b4f5462abd43ca07df1152fd"
       ],
       "layout": "IPY_MODEL_e41e252ab16f4cc59c5e27ed8d70bf61"
      }
     },
     "f97637dbe62c4228891a94dd2cb42d21": {
      "model_module": "@jupyter-widgets/base",
      "model_module_version": "1.1.0",
      "model_name": "LayoutModel",
      "state": {}
     },
     "f983a37d9be040d283d9782ad1f55390": {
      "model_module": "@jupyter-widgets/controls",
      "model_module_version": "1.4.0",
      "model_name": "ButtonModel",
      "state": {
       "description": "Übergenerierung",
       "layout": "IPY_MODEL_43fc75b7bdea4feb9c7a7fd29d1c5b14",
       "style": "IPY_MODEL_7f75d862944a4512acaf3dcd1cae7f92"
      }
     },
     "f99f51fc0a7040d9ad4d90aaa063080f": {
      "model_module": "@jupyter-widgets/controls",
      "model_module_version": "1.4.0",
      "model_name": "CheckboxModel",
      "state": {
       "description": "Konstituentenbaum mit gelabelten Kanten",
       "disabled": false,
       "layout": "IPY_MODEL_036b1880f182410680969af6169acca1",
       "style": "IPY_MODEL_715a5918039945e3948d807791110cf6",
       "value": false
      }
     },
     "f9cd89a3a2c14d59a4bedaf18324894e": {
      "model_module": "@jupyter-widgets/controls",
      "model_module_version": "1.4.0",
      "model_name": "DescriptionStyleModel",
      "state": {
       "description_width": "initial"
      }
     },
     "f9e6138925f948b8aa8145daf2b80721": {
      "model_module": "@jupyter-widgets/base",
      "model_module_version": "1.1.0",
      "model_name": "LayoutModel",
      "state": {
       "justify_content": "center"
      }
     },
     "f9e703bc335a483bb52615b36bec6bd5": {
      "model_module": "@jupyter-widgets/controls",
      "model_module_version": "1.4.0",
      "model_name": "HTMLModel",
      "state": {
       "layout": "IPY_MODEL_ca0a91b0105a429986e2363e0f71bab3",
       "style": "IPY_MODEL_a5dbe4df7ebb499ab7495b6cd3882343",
       "value": "<h4 style=\"font-size:14px;\">In welcher Form wird die syntaktische Struktur eines Satzes beim Aufruf von NLTK tree.draw() erstellt?</h4>"
      }
     },
     "f9ed6b43553c4003af20294a0ba48055": {
      "model_module": "@jupyter-widgets/base",
      "model_module_version": "1.1.0",
      "model_name": "LayoutModel",
      "state": {
       "justify_content": "center"
      }
     },
     "fa099fb115ef4d8babcaa62cf2a6661e": {
      "model_module": "@jupyter-widgets/base",
      "model_module_version": "1.1.0",
      "model_name": "LayoutModel",
      "state": {
       "width": "600px"
      }
     },
     "fa210e012015404595fe23627895e6d6": {
      "model_module": "@jupyter-widgets/controls",
      "model_module_version": "1.4.0",
      "model_name": "HBoxModel",
      "state": {
       "children": [
        "IPY_MODEL_753e44ee88b143f999239946730aaf37",
        "IPY_MODEL_467cc6ff03d24d6a98c82a0b9b3826d2"
       ],
       "layout": "IPY_MODEL_400d0d94094845fc859c84d45d8b9799"
      }
     },
     "fa2bb5a42f6d4205a34f208b92486dbb": {
      "model_module": "@jupyter-widgets/base",
      "model_module_version": "1.1.0",
      "model_name": "LayoutModel",
      "state": {
       "width": "250px"
      }
     },
     "fa3ed8e2f9d240e0871dc76e9cb90b54": {
      "model_module": "@jupyter-widgets/controls",
      "model_module_version": "1.4.0",
      "model_name": "HTMLModel",
      "state": {
       "layout": "IPY_MODEL_beb5df34e469470491e902d64289e9c1",
       "style": "IPY_MODEL_f6da6ff1c9b74d2d8f5a0ce51fb371f0",
       "value": "<i>Wählen Sie die <ins>eine</ins> korrekte Antwort aus: </i>"
      }
     },
     "fa711b44e3bf410fb092d5da60016a86": {
      "model_module": "@jupyter-widgets/base",
      "model_module_version": "1.1.0",
      "model_name": "LayoutModel",
      "state": {
       "justify_content": "center"
      }
     },
     "fa9f0d904f1b44d89b7bc9a890d3b810": {
      "model_module": "@jupyter-widgets/controls",
      "model_module_version": "1.4.0",
      "model_name": "DescriptionStyleModel",
      "state": {
       "description_width": ""
      }
     },
     "fadc53b727514c81bcbb95ac827865af": {
      "model_module": "@jupyter-widgets/base",
      "model_module_version": "1.1.0",
      "model_name": "LayoutModel",
      "state": {}
     },
     "fb03f3e4342c4ffcb28e9f422e97e814": {
      "model_module": "@jupyter-widgets/base",
      "model_module_version": "1.1.0",
      "model_name": "LayoutModel",
      "state": {
       "width": "250px"
      }
     },
     "fb0dd3e87afc4b4c8381ea6eee9bdf08": {
      "model_module": "@jupyter-widgets/controls",
      "model_module_version": "1.4.0",
      "model_name": "ButtonModel",
      "state": {
       "description": "Subjekt",
       "layout": "IPY_MODEL_4e6682336e4248f08a49471cc190b659",
       "style": "IPY_MODEL_4140f7c0b5b84fc2bdff741676279827"
      }
     },
     "fb251cfd50c14864b375dd50531179d1": {
      "model_module": "@jupyter-widgets/controls",
      "model_module_version": "1.4.0",
      "model_name": "DescriptionStyleModel",
      "state": {
       "description_width": "initial"
      }
     },
     "fb50116f61384d2da9fd9600aa5aaf44": {
      "model_module": "@jupyter-widgets/controls",
      "model_module_version": "1.4.0",
      "model_name": "VBoxModel",
      "state": {
       "children": [
        "IPY_MODEL_4deaf82bfd0b402eb3fda8f911254b65",
        "IPY_MODEL_b5b8215efdba4914af2be963b72fcd08",
        "IPY_MODEL_450b046ea50e41099389868f070aa9d6",
        "IPY_MODEL_c48a6dcdde4c48a2a0fce2e348a536d1"
       ],
       "layout": "IPY_MODEL_5140cd5cc77e449f8705e05032ebdb5f"
      }
     },
     "fb54e4ff258242da9f13ebdf5ecd0f22": {
      "model_module": "@jupyter-widgets/base",
      "model_module_version": "1.1.0",
      "model_name": "LayoutModel",
      "state": {}
     },
     "fb738ffc7d2f4824bbd57d32fbd89c05": {
      "model_module": "@jupyter-widgets/controls",
      "model_module_version": "1.4.0",
      "model_name": "HBoxModel",
      "state": {
       "children": [
        "IPY_MODEL_6e5a199977f14bac99c5ca641cf87861",
        "IPY_MODEL_568bca80e14b45b7b8ef4bad0b953b4c"
       ],
       "layout": "IPY_MODEL_9b7c5b710514499baa566d4d4ac8dfbd"
      }
     },
     "fb8a94a189a14112ab3fb1231da0cddd": {
      "model_module": "@jupyter-widgets/base",
      "model_module_version": "1.1.0",
      "model_name": "LayoutModel",
      "state": {
       "width": "600px"
      }
     },
     "fb8e33dc587347d2a2dbc84fa8ae68b8": {
      "model_module": "@jupyter-widgets/controls",
      "model_module_version": "1.4.0",
      "model_name": "DescriptionStyleModel",
      "state": {
       "description_width": ""
      }
     },
     "fb8f4e6865db4d6ea4799e74c684fd8a": {
      "model_module": "@jupyter-widgets/base",
      "model_module_version": "1.1.0",
      "model_name": "LayoutModel",
      "state": {
       "width": "250px"
      }
     },
     "fb9c4b8477b74f51ac316504b1acb04d": {
      "model_module": "@jupyter-widgets/controls",
      "model_module_version": "1.4.0",
      "model_name": "DropdownModel",
      "state": {
       "_options_labels": [
        "Keine der Alternativen",
        "der Ort des Geschehens wird festgelegt",
        "die PP wird dem Substantiv beigefügt",
        "die im Verb ausgedrückte Tätigkeit wird modifiziert"
       ],
       "description": "Antwort:",
       "index": 2,
       "layout": "IPY_MODEL_8ee364ea781743a0944c695eeb177892",
       "style": "IPY_MODEL_369190c1f6c046c39c09853099f2a43b"
      }
     },
     "fba4219b8baa4f0cbb8227eed1ea7f56": {
      "model_module": "@jupyter-widgets/base",
      "model_module_version": "1.1.0",
      "model_name": "LayoutModel",
      "state": {
       "justify_content": "center"
      }
     },
     "fbae84916ee346e39c7fd206688007d5": {
      "model_module": "@jupyter-widgets/base",
      "model_module_version": "1.1.0",
      "model_name": "LayoutModel",
      "state": {}
     },
     "fbae8e810d854e6c8fcc93dfaa8b83d1": {
      "model_module": "@jupyter-widgets/controls",
      "model_module_version": "1.4.0",
      "model_name": "VBoxModel",
      "state": {
       "children": [
        "IPY_MODEL_b08079f3d01b4eabae88e147829d089e",
        "IPY_MODEL_56a012adb36c4fefbfffe354ff890002",
        "IPY_MODEL_cd1a002e865f4e5fabe4f34aa6031276",
        "IPY_MODEL_62eb8159b5734835996fca162ec3faed",
        "IPY_MODEL_0ba54c8616ef405984df7795dd6fc8f4"
       ],
       "layout": "IPY_MODEL_ede9dc07ddcf42e6854a64b1261be335"
      }
     },
     "fc266fa2eab94ce99277ebbd0efa4595": {
      "model_module": "@jupyter-widgets/controls",
      "model_module_version": "1.4.0",
      "model_name": "DescriptionStyleModel",
      "state": {
       "description_width": ""
      }
     },
     "fc2c57df15b04e31b3e8e62bc88321cb": {
      "model_module": "@jupyter-widgets/base",
      "model_module_version": "1.1.0",
      "model_name": "LayoutModel",
      "state": {}
     },
     "fc51ba614bca454f9698fbe551e8431e": {
      "model_module": "@jupyter-widgets/controls",
      "model_module_version": "1.4.0",
      "model_name": "ButtonStyleModel",
      "state": {}
     },
     "fc8cc20e410b4307ae4f25eee5fd4df7": {
      "model_module": "@jupyter-widgets/controls",
      "model_module_version": "1.4.0",
      "model_name": "DescriptionStyleModel",
      "state": {
       "description_width": ""
      }
     },
     "fcaf4e9d5b4f41e790222ce7798e01ff": {
      "model_module": "@jupyter-widgets/base",
      "model_module_version": "1.1.0",
      "model_name": "LayoutModel",
      "state": {
       "justify_content": "center"
      }
     },
     "fcd4f6c542094dbf8982620780c6645c": {
      "model_module": "@jupyter-widgets/controls",
      "model_module_version": "1.4.0",
      "model_name": "ButtonStyleModel",
      "state": {
       "button_color": "lightgreen"
      }
     },
     "fcd90fd80e5f44aea9862f787d7a9ae2": {
      "model_module": "@jupyter-widgets/controls",
      "model_module_version": "1.4.0",
      "model_name": "DescriptionStyleModel",
      "state": {
       "description_width": ""
      }
     },
     "fd5be32d3b2f4bc3a9ad44c339a2c30b": {
      "model_module": "@jupyter-widgets/base",
      "model_module_version": "1.1.0",
      "model_name": "LayoutModel",
      "state": {
       "width": "600px"
      }
     },
     "fd98aa7e6898483a85407e3dc4c76187": {
      "model_module": "@jupyter-widgets/base",
      "model_module_version": "1.1.0",
      "model_name": "LayoutModel",
      "state": {
       "justify_content": "center"
      }
     },
     "fda3c20b4daa48ab9529a9dc6b41f829": {
      "model_module": "@jupyter-widgets/controls",
      "model_module_version": "1.4.0",
      "model_name": "ButtonStyleModel",
      "state": {
       "button_color": "lightgreen"
      }
     },
     "fdfa18c12a254b5ebc8450af832af9b3": {
      "model_module": "@jupyter-widgets/controls",
      "model_module_version": "1.4.0",
      "model_name": "ButtonModel",
      "state": {
       "description": "Objekt",
       "layout": "IPY_MODEL_7fed938d2543430b8a50ef0575213150",
       "style": "IPY_MODEL_ff60a088e8c340a1ba0df4acb8ca98f2"
      }
     },
     "fdfa68f95bab49f1bb4a8fee0ee5bb2f": {
      "model_module": "@jupyter-widgets/base",
      "model_module_version": "1.1.0",
      "model_name": "LayoutModel",
      "state": {
       "width": "250px"
      }
     },
     "fe2d968a5aac4e3c83da317e545498b6": {
      "model_module": "@jupyter-widgets/base",
      "model_module_version": "1.1.0",
      "model_name": "LayoutModel",
      "state": {
       "width": "250px"
      }
     },
     "fe3fef1c0b22484ba153f48e1031a0e3": {
      "model_module": "@jupyter-widgets/controls",
      "model_module_version": "1.4.0",
      "model_name": "DescriptionStyleModel",
      "state": {
       "description_width": ""
      }
     },
     "fe578e1dcc5e498fa5dfdb63e9b1f38c": {
      "model_module": "@jupyter-widgets/controls",
      "model_module_version": "1.4.0",
      "model_name": "ButtonStyleModel",
      "state": {}
     },
     "fe979caf7c8f4230b60dcd2bac2ba525": {
      "model_module": "@jupyter-widgets/base",
      "model_module_version": "1.1.0",
      "model_name": "LayoutModel",
      "state": {}
     },
     "ff2ae93e462d45d7aab4e8d8e77fa39f": {
      "model_module": "@jupyter-widgets/base",
      "model_module_version": "1.1.0",
      "model_name": "LayoutModel",
      "state": {
       "width": "500px"
      }
     },
     "ff3e289657ba40308f766d865ca45ec5": {
      "model_module": "@jupyter-widgets/base",
      "model_module_version": "1.1.0",
      "model_name": "LayoutModel",
      "state": {
       "width": "250px"
      }
     },
     "ff426774b3c746e7accc807bebaecbb1": {
      "model_module": "@jupyter-widgets/base",
      "model_module_version": "1.1.0",
      "model_name": "LayoutModel",
      "state": {
       "width": "250px"
      }
     },
     "ff57ea099bc44a728a356c7429339850": {
      "model_module": "@jupyter-widgets/controls",
      "model_module_version": "1.4.0",
      "model_name": "ButtonStyleModel",
      "state": {}
     },
     "ff60a088e8c340a1ba0df4acb8ca98f2": {
      "model_module": "@jupyter-widgets/controls",
      "model_module_version": "1.4.0",
      "model_name": "ButtonStyleModel",
      "state": {}
     },
     "ffa5a63a8c6f4e1aae1132da88429c0c": {
      "model_module": "@jupyter-widgets/controls",
      "model_module_version": "1.4.0",
      "model_name": "HTMLModel",
      "state": {
       "layout": "IPY_MODEL_2c594576b9804c4a9a4a4d4ce8e2f7a0",
       "style": "IPY_MODEL_d4d160e720c046d28bfcbf9b5b3f8acf",
       "value": "<h4 style=\"font-size:14px;\">der formalen Sprache.</h4>"
      }
     },
     "ffec95d85224424b8461ef5b219b0826": {
      "model_module": "@jupyter-widgets/controls",
      "model_module_version": "1.4.0",
      "model_name": "HBoxModel",
      "state": {
       "children": [
        "IPY_MODEL_aaf2d86dd8f344669201948239db6c5b",
        "IPY_MODEL_19f103893df9441a870ddd1d023b032e"
       ],
       "layout": "IPY_MODEL_0228ef13e80943fea5f03a2ba3fa4dac"
      }
     },
     "fff5a7e4e9104b17bac9403f96ea852b": {
      "model_module": "@jupyter-widgets/base",
      "model_module_version": "1.1.0",
      "model_name": "LayoutModel",
      "state": {
       "width": "250px"
      }
     }
    },
    "version_major": 2,
    "version_minor": 0
   }
  }
 },
 "nbformat": 4,
 "nbformat_minor": 2
}
