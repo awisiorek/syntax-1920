{
 "cells": [
  {
   "cell_type": "markdown",
   "metadata": {},
   "source": [
    "***Vorlesung 'Syntax natürlicher Sprachen', WS 2019/20***\n",
    "\n",
    "---\n",
    "# Übung 4"
   ]
  },
  {
   "cell_type": "code",
   "execution_count": 1,
   "metadata": {},
   "outputs": [],
   "source": [
    "from exercises_4 import *\n",
    "from questions import aufgabe\n",
    "import nltk\n",
    "import sys"
   ]
  },
  {
   "cell_type": "markdown",
   "metadata": {},
   "source": [
    "---\n",
    "\n",
    "## Aufgabe 1: Eine erste (Phrasenstruktur-)Grammatik\n",
    "\n",
    "#### Werfen Sie einen Blick auf die folgende sehr einfache kontextfreie Grammatik und erklären Sie deren Funktionsweise."
   ]
  },
  {
   "cell_type": "code",
   "execution_count": 2,
   "metadata": {},
   "outputs": [],
   "source": [
    "grammar1 = \"\"\"\n",
    "    S -> NP VP\n",
    "    NP -> DET N\n",
    "    DET -> \"der\" | \"die\" | \"das\"\n",
    "    N -> \"Mann\" | \"Frau\" | \"Buch\"\n",
    "    VP -> V NP NP\n",
    "    V -> \"gibt\" | \"schenkt\"\n",
    "\"\"\""
   ]
  },
  {
   "cell_type": "markdown",
   "metadata": {},
   "source": [
    "---\n",
    "#### Sammeln Sie Sätze, die als grammatisch erkannt werden sollten, am besten in einer Liste."
   ]
  },
  {
   "cell_type": "code",
   "execution_count": 3,
   "metadata": {},
   "outputs": [],
   "source": [
    "test_sentences = [\n",
    "    \"der Mann gibt der Frau das Buch\"\n",
    "]"
   ]
  },
  {
   "cell_type": "markdown",
   "metadata": {},
   "source": [
    "---\n",
    "#### Die folgende Funktion kann Ihnen helfen, eine Reihe von Sätzen zu analysieren."
   ]
  },
  {
   "cell_type": "code",
   "execution_count": 4,
   "metadata": {},
   "outputs": [],
   "source": [
    "def test_grammar(grammar, sentences):\n",
    "    cfg = nltk.CFG.fromstring(grammar)\n",
    "    rd_parser = nltk.RecursiveDescentParser(cfg)\n",
    "    \n",
    "    for i, sent in enumerate(sentences, 1):\n",
    "        print(\"Satz {}: {}\".format(i, sent))\n",
    "        results = rd_parser.parse(sent.split())\n",
    "        analyzed = False\n",
    "        for tree in results:\n",
    "            tree.pretty_print(unicodelines=True)\n",
    "            analyzed = True\n",
    "        if not analyzed:\n",
    "            print(\"Keine Analyse möglich\", file=sys.stderr)"
   ]
  },
  {
   "cell_type": "markdown",
   "metadata": {},
   "source": [
    "---\n",
    "#### Führen Sie den Test jetzt für `grammar1` aus!"
   ]
  },
  {
   "cell_type": "code",
   "execution_count": 5,
   "metadata": {},
   "outputs": [
    {
     "name": "stdout",
     "output_type": "stream",
     "text": [
      "Satz 1: der Mann gibt der Frau das Buch\n",
      "                   S                       \n",
      "     ┌─────────────┴───────┐                \n",
      "     │                     VP              \n",
      "     │        ┌────────┬───┴────────┐       \n",
      "     NP       │        NP           NP     \n",
      " ┌───┴───┐    │    ┌───┴───┐    ┌───┴───┐   \n",
      "DET      N    V   DET      N   DET      N  \n",
      " │       │    │    │       │    │       │   \n",
      "der     Mann gibt der     Frau das     Buch\n",
      "\n"
     ]
    }
   ],
   "source": [
    "test_grammar(grammar1, test_sentences)"
   ]
  },
  {
   "cell_type": "markdown",
   "metadata": {},
   "source": [
    "---\n",
    "## Aufgabe 2: Ein- und zweistellige Verben\n",
    "\n",
    "#### Bis jetzt akzeptiert die Grammatik in `grammar1` lediglich dreistellige Verben. Erweitern Sie sie so, dass auch Verben mit weniger als zwei Objekten korrekte Verbalphrasen bilden können.\n",
    "\n",
    "#### Folgende Sätze sollten akzeptiert werden:"
   ]
  },
  {
   "cell_type": "code",
   "execution_count": 6,
   "metadata": {},
   "outputs": [],
   "source": [
    "test_sentences.extend([\n",
    "    \"der Mann schläft\",\n",
    "    \"das Buch gefällt der Frau\",\n",
    "    \"die Frau kennt das Buch\"\n",
    "])"
   ]
  },
  {
   "cell_type": "code",
   "execution_count": 7,
   "metadata": {},
   "outputs": [],
   "source": [
    "grammar2 = \"\"\"\n",
    "    S -> NP VP\n",
    "    NP -> DET N\n",
    "    DET -> \"der\" | \"die\" | \"das\"\n",
    "    N -> \"Mann\" | \"Frau\" | \"Buch\"\n",
    "    VP -> V NP NP | V | V NP\n",
    "    V -> \"gibt\" | \"schenkt\" | \"schläft\" | \"gefällt\" | \"kennt\"\n",
    "\"\"\""
   ]
  },
  {
   "cell_type": "code",
   "execution_count": 8,
   "metadata": {
    "scrolled": false
   },
   "outputs": [
    {
     "name": "stdout",
     "output_type": "stream",
     "text": [
      "Satz 1: der Mann gibt der Frau das Buch\n",
      "                   S                       \n",
      "     ┌─────────────┴───────┐                \n",
      "     │                     VP              \n",
      "     │        ┌────────┬───┴────────┐       \n",
      "     NP       │        NP           NP     \n",
      " ┌───┴───┐    │    ┌───┴───┐    ┌───┴───┐   \n",
      "DET      N    V   DET      N   DET      N  \n",
      " │       │    │    │       │    │       │   \n",
      "der     Mann gibt der     Frau das     Buch\n",
      "\n",
      "Satz 2: der Mann schläft\n",
      "         S          \n",
      "     ┌───┴──────┐    \n",
      "     NP         VP  \n",
      " ┌───┴───┐      │    \n",
      "DET      N      V   \n",
      " │       │      │    \n",
      "der     Mann schläft\n",
      "\n",
      "Satz 3: das Buch gefällt der Frau\n",
      "                S                \n",
      "     ┌──────────┴─────┐           \n",
      "     │                VP         \n",
      "     │          ┌─────┴───┐       \n",
      "     NP         │         NP     \n",
      " ┌───┴───┐      │     ┌───┴───┐   \n",
      "DET      N      V    DET      N  \n",
      " │       │      │     │       │   \n",
      "das     Buch gefällt der     Frau\n",
      "\n",
      "Satz 4: die Frau kennt das Buch\n",
      "               S               \n",
      "     ┌─────────┴────┐           \n",
      "     │              VP         \n",
      "     │         ┌────┴───┐       \n",
      "     NP        │        NP     \n",
      " ┌───┴───┐     │    ┌───┴───┐   \n",
      "DET      N     V   DET      N  \n",
      " │       │     │    │       │   \n",
      "die     Frau kennt das     Buch\n",
      "\n"
     ]
    }
   ],
   "source": [
    "test_grammar(grammar2, test_sentences)"
   ]
  },
  {
   "cell_type": "markdown",
   "metadata": {},
   "source": [
    "---\n",
    "\n",
    "## Aufgabe 3: Beliebig lange Phrasen\n",
    "\n",
    "#### Erweitern Sie die Grammatik nun derart, dass Nominalphrasen auch Adjektive enthalten dürfen – und zwar beliebig viele.\n",
    "\n",
    "#### Beispiele:"
   ]
  },
  {
   "cell_type": "code",
   "execution_count": 9,
   "metadata": {},
   "outputs": [],
   "source": [
    "test_sentences.extend([\n",
    "    \"die kluge schöne Frau kennt das Buch\",\n",
    "    \"der schöne kluge Mann gibt der Frau das dicke Buch\",\n",
    "    \"das dicke schöne kluge Buch schläft\"\n",
    "])"
   ]
  },
  {
   "cell_type": "markdown",
   "metadata": {},
   "source": [
    "NOM => ADJ NOM => ADJ ADJ NOM => ADJ ADJ ADJ NOM => ADJ ADJ ADJ N"
   ]
  },
  {
   "cell_type": "code",
   "execution_count": 10,
   "metadata": {},
   "outputs": [],
   "source": [
    "grammar3 = \"\"\"\n",
    "    S -> NP VP\n",
    "    NP -> DET NOM\n",
    "    NOM -> ADJ NOM | N\n",
    "    DET -> \"der\" | \"die\" | \"das\"\n",
    "    N -> \"Mann\" | \"Frau\" | \"Buch\"\n",
    "    VP -> V NP NP | V | V NP\n",
    "    V -> \"gibt\" | \"schenkt\" | \"schläft\" | \"gefällt\" | \"kennt\"\n",
    "    ADJ -> \"kluge\" | \"schöne\" | \"dicke\"\n",
    "\"\"\""
   ]
  },
  {
   "cell_type": "code",
   "execution_count": 11,
   "metadata": {},
   "outputs": [
    {
     "name": "stdout",
     "output_type": "stream",
     "text": [
      "Satz 1: der Mann gibt der Frau das Buch\n",
      "                   S                       \n",
      "     ┌─────────────┴───────┐                \n",
      "     │                     VP              \n",
      "     │        ┌────────┬───┴────────┐       \n",
      "     NP       │        NP           NP     \n",
      " ┌───┴───┐    │    ┌───┴───┐    ┌───┴───┐   \n",
      " │      NOM   │    │      NOM   │      NOM \n",
      " │       │    │    │       │    │       │   \n",
      "DET      N    V   DET      N   DET      N  \n",
      " │       │    │    │       │    │       │   \n",
      "der     Mann gibt der     Frau das     Buch\n",
      "\n",
      "Satz 2: der Mann schläft\n",
      "         S          \n",
      "     ┌───┴──────┐    \n",
      "     NP         │   \n",
      " ┌───┴───┐      │    \n",
      " │      NOM     VP  \n",
      " │       │      │    \n",
      "DET      N      V   \n",
      " │       │      │    \n",
      "der     Mann schläft\n",
      "\n",
      "Satz 3: das Buch gefällt der Frau\n",
      "                S                \n",
      "     ┌──────────┴─────┐           \n",
      "     │                VP         \n",
      "     │          ┌─────┴───┐       \n",
      "     NP         │         NP     \n",
      " ┌───┴───┐      │     ┌───┴───┐   \n",
      " │      NOM     │     │      NOM \n",
      " │       │      │     │       │   \n",
      "DET      N      V    DET      N  \n",
      " │       │      │     │       │   \n",
      "das     Buch gefällt der     Frau\n",
      "\n",
      "Satz 4: die Frau kennt das Buch\n",
      "               S               \n",
      "     ┌─────────┴────┐           \n",
      "     │              VP         \n",
      "     │         ┌────┴───┐       \n",
      "     NP        │        NP     \n",
      " ┌───┴───┐     │    ┌───┴───┐   \n",
      " │      NOM    │    │      NOM \n",
      " │       │     │    │       │   \n",
      "DET      N     V   DET      N  \n",
      " │       │     │    │       │   \n",
      "die     Frau kennt das     Buch\n",
      "\n",
      "Satz 5: die kluge schöne Frau kennt das Buch\n",
      "                          S                     \n",
      "           ┌──────────────┴──────────┐           \n",
      "           NP                        │          \n",
      " ┌─────────┴────┐                    │           \n",
      " │             NOM                   VP         \n",
      " │    ┌─────────┴─────┐         ┌────┴───┐       \n",
      " │    │              NOM        │        NP     \n",
      " │    │         ┌─────┴───┐     │    ┌───┴───┐   \n",
      " │    │         │        NOM    │    │      NOM \n",
      " │    │         │         │     │    │       │   \n",
      "DET  ADJ       ADJ        N     V   DET      N  \n",
      " │    │         │         │     │    │       │   \n",
      "die kluge     schöne     Frau kennt das     Buch\n",
      "\n",
      "Satz 6: der schöne kluge Mann gibt der Frau das dicke Buch\n",
      "                               S                                  \n",
      "            ┌──────────────────┴────────────┐                      \n",
      "            NP                              VP                    \n",
      " ┌──────────┴────┐             ┌────────┬───┴─────────┐            \n",
      " │              NOM            │        │             NP          \n",
      " │    ┌──────────┴────┐        │        │        ┌────┴────┐       \n",
      " │    │              NOM       │        NP       │        NOM     \n",
      " │    │          ┌────┴───┐    │    ┌───┴───┐    │    ┌────┴───┐   \n",
      " │    │          │       NOM   │    │      NOM   │    │       NOM \n",
      " │    │          │        │    │    │       │    │    │        │   \n",
      "DET  ADJ        ADJ       N    V   DET      N   DET  ADJ       N  \n",
      " │    │          │        │    │    │       │    │    │        │   \n",
      "der schöne     kluge     Mann gibt der     Frau das dicke     Buch\n",
      "\n",
      "Satz 7: das dicke schöne kluge Buch schläft\n",
      "                       S                   \n",
      "            ┌──────────┴───────────────┐    \n",
      "            NP                         │   \n",
      " ┌──────────┴─────┐                    │    \n",
      " │               NOM                   │   \n",
      " │    ┌───────────┴────┐               │    \n",
      " │    │               NOM              │   \n",
      " │    │     ┌──────────┴────┐          │    \n",
      " │    │     │              NOM         │   \n",
      " │    │     │          ┌────┴───┐      │    \n",
      " │    │     │          │       NOM     VP  \n",
      " │    │     │          │        │      │    \n",
      "DET  ADJ   ADJ        ADJ       N      V   \n",
      " │    │     │          │        │      │    \n",
      "das dicke schöne     kluge     Buch schläft\n",
      "\n"
     ]
    }
   ],
   "source": [
    "test_grammar(grammar3, test_sentences)"
   ]
  },
  {
   "cell_type": "markdown",
   "metadata": {},
   "source": [
    "---\n",
    "# Hausaufgaben"
   ]
  },
  {
   "cell_type": "markdown",
   "metadata": {},
   "source": [
    "---\n",
    "## Aufgabe 4: Eigennamen\n",
    "\n",
    "#### Eigennamen können auch ohne Artikel eine Nominalphrase bilden. Erweitern Sie die Grammatik entsprechend.\n",
    "\n",
    "#### Folgende Sätze sollten korrekt analysiert werden:"
   ]
  },
  {
   "cell_type": "code",
   "execution_count": 12,
   "metadata": {},
   "outputs": [],
   "source": [
    "test_sentences.extend([\n",
    "    \"der Mann kennt Chomsky\",\n",
    "    \"Marie gibt Fritz das Buch\"\n",
    "])"
   ]
  },
  {
   "cell_type": "markdown",
   "metadata": {},
   "source": [
    "#### Stellen Sie außerdem sicher, dass folgende Sätze KEINE Analyse liefern!"
   ]
  },
  {
   "cell_type": "code",
   "execution_count": 13,
   "metadata": {},
   "outputs": [],
   "source": [
    "negative_examples = [\n",
    "    \"Mann gibt Frau Buch\",\n",
    "    \"Mann schläft\"\n",
    "]"
   ]
  },
  {
   "cell_type": "code",
   "execution_count": 14,
   "metadata": {},
   "outputs": [],
   "source": [
    "grammar4 = \"\"\"\n",
    "    S -> NP VP\n",
    "    NP -> DET N\n",
    "    DET -> \"der\" | \"die\" | \"das\"\n",
    "    N -> \"Mann\" | \"Frau\" | \"Buch\"\n",
    "    VP -> V NP NP\n",
    "    V -> \"gibt\" | \"schenkt\"\n",
    "\"\"\""
   ]
  },
  {
   "cell_type": "code",
   "execution_count": null,
   "metadata": {},
   "outputs": [],
   "source": [
    "test_grammar(grammar4, test_sentences)"
   ]
  },
  {
   "cell_type": "markdown",
   "metadata": {},
   "source": [
    "---\n",
    "## Aufgabe 5: Präpositionalphrasen\n",
    "\n",
    "#### Erweitern Sie die Grammatik nun derart, dass sowohl Nominalphrasen als auch Verbalphrasen durch Präpositionalphrasen modifiziert werden können. Erkennen Sie die Ambiguität von Übungsblatt 2 wieder?\n",
    "\n",
    "#### Folgende Sätze sollten akzeptiert werden:"
   ]
  },
  {
   "cell_type": "code",
   "execution_count": null,
   "metadata": {},
   "outputs": [],
   "source": [
    "test_sentences.extend([\n",
    "    \"der Mann schläft neben dem Buch\",\n",
    "    \"die Frau kennt das dicke Buch über Chomsky\",\n",
    "    \"die Frau schenkt dem Mann das Buch auf dem Tisch\"\n",
    "])"
   ]
  },
  {
   "cell_type": "markdown",
   "metadata": {},
   "source": [
    "#### Beachten Sie, dass die Form des Artikels *dem* und das Nomen *Tisch* auch noch als lexikalische Regeln ergänzt werden müssen. \n",
    "\n",
    "#### Stellen Sie zudem sicher, dass für den 2. und 3. Satz zwei Analysen generiert werden.\n",
    "\n",
    "#### Achten Sie außerdem darauf, dass Ihre Erweiterung nicht die Analyse zuvor akzeptierter grammatischer Sätze verhindert!"
   ]
  },
  {
   "cell_type": "code",
   "execution_count": null,
   "metadata": {},
   "outputs": [],
   "source": [
    "grammar5 = \"\"\"\n",
    "    S -> NP VP\n",
    "    NP -> DET N\n",
    "    DET -> \"der\" | \"die\" | \"das\"\n",
    "    N -> \"Mann\" | \"Frau\" | \"Buch\"\n",
    "    VP -> V NP NP\n",
    "    V -> \"gibt\" | \"schenkt\"\n",
    "\"\"\""
   ]
  },
  {
   "cell_type": "code",
   "execution_count": null,
   "metadata": {},
   "outputs": [],
   "source": [
    "test_grammar(grammar5, test_sentences)"
   ]
  },
  {
   "cell_type": "markdown",
   "metadata": {},
   "source": [
    "---\n",
    "## Aufgabe 6: Fragen zu NLTK-Kapitel 8.3\n",
    "\n",
    "#### Lesen Sie das NLTK-Teilkapitel 8.3 (’Context Free Grammar’): http://www.nltk.org/book/ch08.html.\n",
    "\n",
    "#### Beantworten Sie insbesondere folgende Fragen:"
   ]
  },
  {
   "cell_type": "markdown",
   "metadata": {},
   "source": [
    "---\n",
    "### Aufgabe 6 a:"
   ]
  },
  {
   "cell_type": "code",
   "execution_count": 16,
   "metadata": {},
   "outputs": [
    {
     "data": {
      "application/vnd.jupyter.widget-view+json": {
       "model_id": "5e746b601dc948e99b24ab17991ed854",
       "version_major": 2,
       "version_minor": 0
      },
      "text/plain": [
       "MultipleChoice(children=(HTML(value='<h4 style=\"font-size:14px;\">Wie ist im NLTK vorzugehen, wenn ein (wohlgef…"
      ]
     },
     "metadata": {},
     "output_type": "display_data"
    }
   ],
   "source": [
    "aufgabe(blatt4_6a)"
   ]
  },
  {
   "cell_type": "markdown",
   "metadata": {},
   "source": [
    "---\n",
    "### Aufgabe 6 b:"
   ]
  },
  {
   "cell_type": "code",
   "execution_count": 17,
   "metadata": {},
   "outputs": [
    {
     "data": {
      "application/vnd.jupyter.widget-view+json": {
       "model_id": "c483443dad9f418eb976a4cbcde16ef2",
       "version_major": 2,
       "version_minor": 0
      },
      "text/plain": [
       "OpenTextfield(children=(HTML(value='<h4 style=\"font-size:14px;\">Wie können im NLTK die Regeln einer Grammatik …"
      ]
     },
     "metadata": {},
     "output_type": "display_data"
    }
   ],
   "source": [
    "aufgabe(blatt4_6b)"
   ]
  },
  {
   "cell_type": "markdown",
   "metadata": {},
   "source": [
    "---\n",
    "### Aufgabe 6 c:\n",
    "\n",
    "#### Geben Sie 2 NP-Phrasenstrukturregeln mit indirekter Rekursion an und beantworten Sie danach die folgende Frage!"
   ]
  },
  {
   "cell_type": "code",
   "execution_count": 18,
   "metadata": {},
   "outputs": [
    {
     "data": {
      "application/vnd.jupyter.widget-view+json": {
       "model_id": "78675252191c486e9d2660d7c1792371",
       "version_major": 2,
       "version_minor": 0
      },
      "text/plain": [
       "MultipleChoice(children=(HTML(value='<h4 style=\"font-size:14px;\">Welche Beispiele zeigen direkte Rekursion?</h…"
      ]
     },
     "metadata": {},
     "output_type": "display_data"
    }
   ],
   "source": [
    "aufgabe(blatt4_6c)"
   ]
  },
  {
   "cell_type": "markdown",
   "metadata": {},
   "source": [
    "---\n",
    "### Aufgabe 6 d:\n",
    "\n",
    "#### Geben Sie ein Beispiel für eine links- sowie eine rechtsrekursive NP-Phrasenstrukturregel an.\n",
    "\n",
    "#### Beantworten Sie auch die folgenden Fragen:"
   ]
  },
  {
   "cell_type": "code",
   "execution_count": 19,
   "metadata": {},
   "outputs": [
    {
     "data": {
      "application/vnd.jupyter.widget-view+json": {
       "model_id": "eadc97e8fd4e4dc4b59684829d9f0114",
       "version_major": 2,
       "version_minor": 0
      },
      "text/plain": [
       "MultipleChoice(children=(HTML(value='<h4 style=\"font-size:14px;\">Welche Beispiele für Phrasenstrukturregeln si…"
      ]
     },
     "metadata": {},
     "output_type": "display_data"
    },
    {
     "data": {
      "application/vnd.jupyter.widget-view+json": {
       "model_id": "9819f3beb4fc492ab4054fcc8b63cee0",
       "version_major": 2,
       "version_minor": 0
      },
      "text/plain": [
       "MultipleChoice(children=(HTML(value='<h4 style=\"font-size:14px;\">Welche Beispiele sind rechtsrekursiv?</h4>'),…"
      ]
     },
     "metadata": {},
     "output_type": "display_data"
    }
   ],
   "source": [
    "aufgabe(blatt4_6d)"
   ]
  }
 ],
 "metadata": {
  "kernelspec": {
   "display_name": "Python 3",
   "language": "python",
   "name": "python3"
  },
  "language_info": {
   "codemirror_mode": {
    "name": "ipython",
    "version": 3
   },
   "file_extension": ".py",
   "mimetype": "text/x-python",
   "name": "python",
   "nbconvert_exporter": "python",
   "pygments_lexer": "ipython3",
   "version": "3.7.4"
  },
  "widgets": {
   "application/vnd.jupyter.widget-state+json": {
    "state": {
     "031522eefe284bd188a863ba21275d7d": {
      "model_module": "@jupyter-widgets/controls",
      "model_module_version": "1.5.0",
      "model_name": "DescriptionStyleModel",
      "state": {
       "description_width": ""
      }
     },
     "035bc9a0e587423eb07b74bf0027acd7": {
      "model_module": "@jupyter-widgets/controls",
      "model_module_version": "1.5.0",
      "model_name": "ButtonStyleModel",
      "state": {}
     },
     "047699feb2c9405ba70d970f3544d6c2": {
      "model_module": "@jupyter-widgets/controls",
      "model_module_version": "1.5.0",
      "model_name": "DescriptionStyleModel",
      "state": {
       "description_width": "initial"
      }
     },
     "050c3ea6dc3441cfb0bc09ff29636cf2": {
      "model_module": "@jupyter-widgets/controls",
      "model_module_version": "1.5.0",
      "model_name": "ButtonStyleModel",
      "state": {}
     },
     "0601fc616deb49dea35584742dfdcd0a": {
      "model_module": "@jupyter-widgets/controls",
      "model_module_version": "1.5.0",
      "model_name": "VBoxModel",
      "state": {
       "children": [
        "IPY_MODEL_a691fd2f84a3441da6731019336e3dd8",
        "IPY_MODEL_d17ced34512548b487c6202949ce383c",
        "IPY_MODEL_54c5b368eaba40efb0dbbe8ce3a55bd7"
       ],
       "layout": "IPY_MODEL_ec8823ada5184bb38fe592e6d4102622"
      }
     },
     "07013fa1e1fc4e96a5d2b4d703ab33cd": {
      "model_module": "@jupyter-widgets/controls",
      "model_module_version": "1.5.0",
      "model_name": "DescriptionStyleModel",
      "state": {
       "description_width": "initial"
      }
     },
     "0715f005bf8a4cdfa5077c0e76bbce88": {
      "model_module": "@jupyter-widgets/controls",
      "model_module_version": "1.5.0",
      "model_name": "DescriptionStyleModel",
      "state": {
       "description_width": "initial"
      }
     },
     "09647100083d41469129369e66071bc3": {
      "model_module": "@jupyter-widgets/base",
      "model_module_version": "1.2.0",
      "model_name": "LayoutModel",
      "state": {
       "width": "600px"
      }
     },
     "0995e84d93ce4b55a09ba3e35aeec9e7": {
      "model_module": "@jupyter-widgets/controls",
      "model_module_version": "1.5.0",
      "model_name": "DescriptionStyleModel",
      "state": {
       "description_width": "initial"
      }
     },
     "0a4c0eae4ef64c428c14943280e43786": {
      "model_module": "@jupyter-widgets/base",
      "model_module_version": "1.2.0",
      "model_name": "LayoutModel",
      "state": {
       "width": "600px"
      }
     },
     "0a7d1d329c4a4056aaa6b12240976393": {
      "model_module": "@jupyter-widgets/controls",
      "model_module_version": "1.5.0",
      "model_name": "CheckboxModel",
      "state": {
       "description": "anderen Parser verwenden",
       "disabled": false,
       "layout": "IPY_MODEL_0a4c0eae4ef64c428c14943280e43786",
       "style": "IPY_MODEL_64a73d7dbd6f43e2b0f3f3ce733a7f02",
       "value": false
      }
     },
     "0baf0d7b13094f9785d3ff89fc0d7e7f": {
      "model_module": "@jupyter-widgets/controls",
      "model_module_version": "1.5.0",
      "model_name": "VBoxModel",
      "state": {
       "children": [
        "IPY_MODEL_5e4f17bf44374aae95089e3e4eb09d18",
        "IPY_MODEL_dd6dd6c5a1874a058bf1b33872062cf4",
        "IPY_MODEL_f4177f079a7744beb097486fdc89ce33",
        "IPY_MODEL_b719df9ea40f4094a6dccb9477b7c6c1"
       ],
       "layout": "IPY_MODEL_cde9b442ea284b2c9445a24fb43d3198"
      }
     },
     "0c14c7c2ffd44a669c50e7f38daeeb7b": {
      "model_module": "@jupyter-widgets/base",
      "model_module_version": "1.2.0",
      "model_name": "LayoutModel",
      "state": {
       "justify_content": "center"
      }
     },
     "0f7b16451c7a4da8a940d419842909ff": {
      "model_module": "@jupyter-widgets/base",
      "model_module_version": "1.2.0",
      "model_name": "LayoutModel",
      "state": {
       "width": "600px"
      }
     },
     "101e4cf04a9a49c18a20c1a7776b19e1": {
      "model_module": "@jupyter-widgets/controls",
      "model_module_version": "1.5.0",
      "model_name": "VBoxModel",
      "state": {
       "children": [
        "IPY_MODEL_2600126ab1de44c59df5c6b46e8ff066",
        "IPY_MODEL_8c98acab4eb54420a0ae862540ecc271",
        "IPY_MODEL_fb909ab6747348a2bc479e70495ea028"
       ],
       "layout": "IPY_MODEL_ea2e063200a6473f9dc36c430968a056"
      }
     },
     "10aacfda8c4d465392532329c82cf3a6": {
      "model_module": "@jupyter-widgets/base",
      "model_module_version": "1.2.0",
      "model_name": "LayoutModel",
      "state": {
       "justify_content": "center"
      }
     },
     "12edaf7dc27a438d929f5606d2ced3e0": {
      "model_module": "@jupyter-widgets/base",
      "model_module_version": "1.2.0",
      "model_name": "LayoutModel",
      "state": {}
     },
     "13e74017de8a4d19a70def11aee98138": {
      "model_module": "@jupyter-widgets/controls",
      "model_module_version": "1.5.0",
      "model_name": "CheckboxModel",
      "state": {
       "description": "<code>trace</code>-Output aktivieren und überprüfen",
       "disabled": false,
       "layout": "IPY_MODEL_4a64cdc88fa741089854e4ade5629272",
       "style": "IPY_MODEL_eddc1ef00c2a4a1a865607e770ec357d",
       "value": false
      }
     },
     "144ed4bc0ab84726825c680f3d4aa454": {
      "model_module": "@jupyter-widgets/controls",
      "model_module_version": "1.5.0",
      "model_name": "ButtonModel",
      "state": {
       "description": "Korrekt?",
       "layout": "IPY_MODEL_216bcda0786547ef9bb929cbf1c20439",
       "style": "IPY_MODEL_7dfb67a7c0fe434692d7c5899befe2d4"
      }
     },
     "14761e0fec3244d18665c717505281e8": {
      "model_module": "@jupyter-widgets/controls",
      "model_module_version": "1.5.0",
      "model_name": "VBoxModel",
      "state": {
       "children": [
        "IPY_MODEL_e94f797e698642c7ba1c24106e9ce7eb",
        "IPY_MODEL_335a3e007fc240c2a1e82a2bdbe3d468",
        "IPY_MODEL_ef794021b3cc4314a6724365f6d87220",
        "IPY_MODEL_cc9e1ca598bd438393137755f803b6ea"
       ],
       "layout": "IPY_MODEL_f26479cbb74149d792412d1ec584c737"
      }
     },
     "14b6a35fb96f4ad487a365d5191c835c": {
      "model_module": "@jupyter-widgets/controls",
      "model_module_version": "1.5.0",
      "model_name": "VBoxModel",
      "state": {
       "children": [
        "IPY_MODEL_ee43fc94226d4733952e1a9b0db0f693",
        "IPY_MODEL_ffe0955f865a4904b4ce64631cff6d7b",
        "IPY_MODEL_c9e4817ad0da4ec3966a3724c146e53e"
       ],
       "layout": "IPY_MODEL_67feca1345cb40529772bfa7a38cd870"
      }
     },
     "162a2d0c93f64e9499158bcde918cf2b": {
      "model_module": "@jupyter-widgets/base",
      "model_module_version": "1.2.0",
      "model_name": "LayoutModel",
      "state": {
       "width": "250px"
      }
     },
     "17297b2f6a5043c2baed8ab64e9884c6": {
      "model_module": "@jupyter-widgets/base",
      "model_module_version": "1.2.0",
      "model_name": "LayoutModel",
      "state": {}
     },
     "178f4ee653a840c4beba3e50b6e094fe": {
      "model_module": "@jupyter-widgets/controls",
      "model_module_version": "1.5.0",
      "model_name": "DescriptionStyleModel",
      "state": {
       "description_width": "initial"
      }
     },
     "19908a35996b474fa75d6967bb1d73ae": {
      "model_module": "@jupyter-widgets/controls",
      "model_module_version": "1.5.0",
      "model_name": "DescriptionStyleModel",
      "state": {
       "description_width": ""
      }
     },
     "1a378f5e923344d1bb987aa5bad9254c": {
      "model_module": "@jupyter-widgets/controls",
      "model_module_version": "1.5.0",
      "model_name": "VBoxModel",
      "state": {
       "children": [
        "IPY_MODEL_c94bcdae920d4b359709d160e8f0e8c4",
        "IPY_MODEL_9de18f630831423ca93da73e30704097",
        "IPY_MODEL_7707c6a10e834621824d2e5f9a8e484c",
        "IPY_MODEL_7f98e224040a4977abbb4bf6bd400c4b"
       ],
       "layout": "IPY_MODEL_17297b2f6a5043c2baed8ab64e9884c6"
      }
     },
     "1a9cbaf5121c4e1882136aaba4bbec4a": {
      "model_module": "@jupyter-widgets/base",
      "model_module_version": "1.2.0",
      "model_name": "LayoutModel",
      "state": {
       "justify_content": "center"
      }
     },
     "1b5d55f94c644347bae7b3addce2f8ff": {
      "model_module": "@jupyter-widgets/controls",
      "model_module_version": "1.5.0",
      "model_name": "DescriptionStyleModel",
      "state": {
       "description_width": ""
      }
     },
     "1c3920aa17324eb7a7dd9b5c31b8bf1a": {
      "model_module": "@jupyter-widgets/base",
      "model_module_version": "1.2.0",
      "model_name": "LayoutModel",
      "state": {}
     },
     "1e5d5b73d0ce4f869bd1f8bf60be1b56": {
      "model_module": "@jupyter-widgets/base",
      "model_module_version": "1.2.0",
      "model_name": "LayoutModel",
      "state": {}
     },
     "1ea1fde16e5a4d4cacf1e1240ab0bef2": {
      "model_module": "@jupyter-widgets/controls",
      "model_module_version": "1.5.0",
      "model_name": "DescriptionStyleModel",
      "state": {
       "description_width": ""
      }
     },
     "1ef5922219c2469b87cd9db70c976ec1": {
      "model_module": "@jupyter-widgets/controls",
      "model_module_version": "1.5.0",
      "model_name": "DescriptionStyleModel",
      "state": {
       "description_width": ""
      }
     },
     "1f74d70eb2d74fe89ff26c1438270cae": {
      "model_module": "@jupyter-widgets/base",
      "model_module_version": "1.2.0",
      "model_name": "LayoutModel",
      "state": {
       "width": "600px"
      }
     },
     "20e7c79cc6ef4e10be92ee957d677c3a": {
      "model_module": "@jupyter-widgets/controls",
      "model_module_version": "1.5.0",
      "model_name": "ButtonModel",
      "state": {
       "description": "Korrekt?",
       "layout": "IPY_MODEL_c1beb4ae07294d46aa76807a4dc9c54b",
       "style": "IPY_MODEL_74f66de943064e24aee8a5229b7153b5"
      }
     },
     "216bcda0786547ef9bb929cbf1c20439": {
      "model_module": "@jupyter-widgets/base",
      "model_module_version": "1.2.0",
      "model_name": "LayoutModel",
      "state": {
       "width": "350px"
      }
     },
     "21aa9e185af94428be313b4e06ecd16e": {
      "model_module": "@jupyter-widgets/controls",
      "model_module_version": "1.5.0",
      "model_name": "DescriptionStyleModel",
      "state": {
       "description_width": ""
      }
     },
     "2308a99fb49d4dafabf5b89254139879": {
      "model_module": "@jupyter-widgets/controls",
      "model_module_version": "1.5.0",
      "model_name": "DescriptionStyleModel",
      "state": {
       "description_width": "initial"
      }
     },
     "23edd2eab0074d4ab5c10fae58b755d4": {
      "model_module": "@jupyter-widgets/controls",
      "model_module_version": "1.5.0",
      "model_name": "HTMLModel",
      "state": {
       "layout": "IPY_MODEL_96b548d6af254498802860bcdaf2878e",
       "style": "IPY_MODEL_44c2e1055ed94227934cbce8fc4c3f89",
       "value": "<i>Markieren Sie <ins>alle</ins> passenden Antworten: </i>"
      }
     },
     "24c8552b2c204647a0c9af0c9962fdab": {
      "model_module": "@jupyter-widgets/base",
      "model_module_version": "1.2.0",
      "model_name": "LayoutModel",
      "state": {}
     },
     "256fbae5726e44d4abcc40d73ada3c0c": {
      "model_module": "@jupyter-widgets/controls",
      "model_module_version": "1.5.0",
      "model_name": "DescriptionStyleModel",
      "state": {
       "description_width": ""
      }
     },
     "25708ba28e2a4102a6d1e402100cf02b": {
      "model_module": "@jupyter-widgets/controls",
      "model_module_version": "1.5.0",
      "model_name": "DescriptionStyleModel",
      "state": {
       "description_width": ""
      }
     },
     "25f114b783434854a92c63673776be87": {
      "model_module": "@jupyter-widgets/base",
      "model_module_version": "1.2.0",
      "model_name": "LayoutModel",
      "state": {}
     },
     "2600126ab1de44c59df5c6b46e8ff066": {
      "model_module": "@jupyter-widgets/controls",
      "model_module_version": "1.5.0",
      "model_name": "CheckboxModel",
      "state": {
       "description": "NP -> DET N PP",
       "disabled": false,
       "layout": "IPY_MODEL_33283200fb414e39aeb695954209f686",
       "style": "IPY_MODEL_e15dc7968e3b4a4d8b2722b64da1f50f",
       "value": false
      }
     },
     "265549992226486bb826ae5ea923c5c2": {
      "model_module": "@jupyter-widgets/controls",
      "model_module_version": "1.5.0",
      "model_name": "DescriptionStyleModel",
      "state": {
       "description_width": ""
      }
     },
     "266e239e2cef434d8e6dfa80de229e41": {
      "model_module": "@jupyter-widgets/controls",
      "model_module_version": "1.5.0",
      "model_name": "DescriptionStyleModel",
      "state": {
       "description_width": "initial"
      }
     },
     "26c21909d90d4c13ba1603d33ed76856": {
      "model_module": "@jupyter-widgets/base",
      "model_module_version": "1.2.0",
      "model_name": "LayoutModel",
      "state": {}
     },
     "271bf387d1dc499184e376b5942aa8a0": {
      "model_module": "@jupyter-widgets/controls",
      "model_module_version": "1.5.0",
      "model_name": "VBoxModel",
      "state": {
       "children": [
        "IPY_MODEL_50523b9b27344ebf9eb89606aff07608",
        "IPY_MODEL_445415ab63e44026bb1870abbd9ed185",
        "IPY_MODEL_7bc5aaea67f3407db651434cda1d4528"
       ],
       "layout": "IPY_MODEL_b40dc5a5c320407ba8684e190769e35d"
      }
     },
     "274824f57fb849328e00eeb2409e92a9": {
      "model_module": "@jupyter-widgets/controls",
      "model_module_version": "1.5.0",
      "model_name": "DescriptionStyleModel",
      "state": {
       "description_width": ""
      }
     },
     "2827256a5d2f403caf5bd1a776755aa4": {
      "model_module": "@jupyter-widgets/base",
      "model_module_version": "1.2.0",
      "model_name": "LayoutModel",
      "state": {}
     },
     "292d37816a014dfeba60bd6c64d2beb4": {
      "model_module": "@jupyter-widgets/base",
      "model_module_version": "1.2.0",
      "model_name": "LayoutModel",
      "state": {}
     },
     "29eeab6009ff440b9a8016c5b759f5ed": {
      "model_module": "@jupyter-widgets/controls",
      "model_module_version": "1.5.0",
      "model_name": "DescriptionStyleModel",
      "state": {
       "description_width": "initial"
      }
     },
     "2ae58d024b8245d0bc8dc8fd636ac814": {
      "model_module": "@jupyter-widgets/base",
      "model_module_version": "1.2.0",
      "model_name": "LayoutModel",
      "state": {
       "width": "600px"
      }
     },
     "2b3e386733284320a38da621e9977311": {
      "model_module": "@jupyter-widgets/base",
      "model_module_version": "1.2.0",
      "model_name": "LayoutModel",
      "state": {
       "width": "150px"
      }
     },
     "2cae34cce5354059af9dc442c7bae30f": {
      "model_module": "@jupyter-widgets/controls",
      "model_module_version": "1.5.0",
      "model_name": "DescriptionStyleModel",
      "state": {
       "description_width": ""
      }
     },
     "2cef78228625419db72bfef0ffdc9a74": {
      "model_module": "@jupyter-widgets/controls",
      "model_module_version": "1.5.0",
      "model_name": "DescriptionStyleModel",
      "state": {
       "description_width": ""
      }
     },
     "2ed39446868a4d0d9223477e8023a5b9": {
      "model_module": "@jupyter-widgets/controls",
      "model_module_version": "1.5.0",
      "model_name": "HTMLModel",
      "state": {
       "layout": "IPY_MODEL_10aacfda8c4d465392532329c82cf3a6",
       "style": "IPY_MODEL_30a0090c9bbe488f88b46e5bb7089878",
       "value": "<i>Wählen Sie die <ins>eine</ins> korrekte Antwort aus: </i>"
      }
     },
     "2f269255e0744cecb23d155d8dbaf1bb": {
      "model_module": "@jupyter-widgets/base",
      "model_module_version": "1.2.0",
      "model_name": "LayoutModel",
      "state": {
       "width": "600px"
      }
     },
     "30a0090c9bbe488f88b46e5bb7089878": {
      "model_module": "@jupyter-widgets/controls",
      "model_module_version": "1.5.0",
      "model_name": "DescriptionStyleModel",
      "state": {
       "description_width": ""
      }
     },
     "3105d194556948c1908f01d659fa8b85": {
      "model_module": "@jupyter-widgets/controls",
      "model_module_version": "1.5.0",
      "model_name": "CheckboxModel",
      "state": {
       "description": "PP -> P NP",
       "disabled": false,
       "layout": "IPY_MODEL_8cda80716f4f4b23a2ab21c11c1b5427",
       "style": "IPY_MODEL_0995e84d93ce4b55a09ba3e35aeec9e7",
       "value": false
      }
     },
     "317c4d931ecf46f9a459f14965336374": {
      "model_module": "@jupyter-widgets/controls",
      "model_module_version": "1.5.0",
      "model_name": "CheckboxModel",
      "state": {
       "description": "anderen Parser verwenden",
       "disabled": false,
       "layout": "IPY_MODEL_96957ab215e7429eb49812b0dcda38bd",
       "style": "IPY_MODEL_58948815eb95465ab919fb12fe75bca9",
       "value": false
      }
     },
     "32131b4376c84b0db01d264125d2417c": {
      "model_module": "@jupyter-widgets/base",
      "model_module_version": "1.2.0",
      "model_name": "LayoutModel",
      "state": {}
     },
     "32fbb435219849f48b495343cea96543": {
      "model_module": "@jupyter-widgets/base",
      "model_module_version": "1.2.0",
      "model_name": "LayoutModel",
      "state": {
       "justify_content": "center"
      }
     },
     "33283200fb414e39aeb695954209f686": {
      "model_module": "@jupyter-widgets/base",
      "model_module_version": "1.2.0",
      "model_name": "LayoutModel",
      "state": {
       "width": "600px"
      }
     },
     "335a3e007fc240c2a1e82a2bdbe3d468": {
      "model_module": "@jupyter-widgets/controls",
      "model_module_version": "1.5.0",
      "model_name": "HTMLModel",
      "state": {
       "layout": "IPY_MODEL_12edaf7dc27a438d929f5606d2ced3e0",
       "style": "IPY_MODEL_5787731335fa4758b442b1fc1d837c67",
       "value": "<i>Vervollständigen Sie die Listcomprehension, indem sie an den Stellen der Unterstriche die richtigen Funktionen einsetzen.</i>"
      }
     },
     "33a03329004b4f46a60170020778d132": {
      "model_module": "@jupyter-widgets/base",
      "model_module_version": "1.2.0",
      "model_name": "LayoutModel",
      "state": {}
     },
     "3537ba765a8d48b4946b101855f9497d": {
      "model_module": "@jupyter-widgets/controls",
      "model_module_version": "1.5.0",
      "model_name": "VBoxModel",
      "state": {
       "children": [
        "IPY_MODEL_def95c5d20da45e58691c1f028bf53da",
        "IPY_MODEL_919e2a21264344b29443b3899f806ff9",
        "IPY_MODEL_271bf387d1dc499184e376b5942aa8a0",
        "IPY_MODEL_ef218a6b84ab44cc89009ce4e397524c"
       ],
       "layout": "IPY_MODEL_4c309693dc8a4a6987fdf24b5d75d822"
      }
     },
     "360fdb313af548dbace4c2827a157d2a": {
      "model_module": "@jupyter-widgets/base",
      "model_module_version": "1.2.0",
      "model_name": "LayoutModel",
      "state": {}
     },
     "36e3c191b2d94b6a9547feb1b34cdb69": {
      "model_module": "@jupyter-widgets/controls",
      "model_module_version": "1.5.0",
      "model_name": "VBoxModel",
      "state": {
       "children": [
        "IPY_MODEL_b1fb1f692d724b8db3619a999c1cabaf",
        "IPY_MODEL_7b461f09b6ff484eb2ad940f34bae313",
        "IPY_MODEL_39a4a29cf2fc47e79d75544ea9735d63"
       ],
       "layout": "IPY_MODEL_e698487ce48d43fb97df5d7937057612"
      }
     },
     "37e7eea6b9004eb18c60295a2499d9b8": {
      "model_module": "@jupyter-widgets/base",
      "model_module_version": "1.2.0",
      "model_name": "LayoutModel",
      "state": {
       "width": "600px"
      }
     },
     "39a4a29cf2fc47e79d75544ea9735d63": {
      "model_module": "@jupyter-widgets/controls",
      "model_module_version": "1.5.0",
      "model_name": "CheckboxModel",
      "state": {
       "description": "PP -> P NP",
       "disabled": false,
       "layout": "IPY_MODEL_996c4498bb104db9bd15824c7e11f552",
       "style": "IPY_MODEL_7add3ca9fd594b5784eb7bbba94e4750",
       "value": false
      }
     },
     "3b590dda456c4846bd0de4bf31d8fece": {
      "model_module": "@jupyter-widgets/base",
      "model_module_version": "1.2.0",
      "model_name": "LayoutModel",
      "state": {
       "width": "600px"
      }
     },
     "3dbb1a7faa454a168141607ae2b89751": {
      "model_module": "@jupyter-widgets/controls",
      "model_module_version": "1.5.0",
      "model_name": "DescriptionStyleModel",
      "state": {
       "description_width": ""
      }
     },
     "3ebb6ffddaf34b3b95b5eed7b7bff35f": {
      "model_module": "@jupyter-widgets/base",
      "model_module_version": "1.2.0",
      "model_name": "LayoutModel",
      "state": {
       "width": "600px"
      }
     },
     "3edef88083ba4f0fa1ea21c49adf1caa": {
      "model_module": "@jupyter-widgets/controls",
      "model_module_version": "1.5.0",
      "model_name": "DescriptionStyleModel",
      "state": {
       "description_width": "initial"
      }
     },
     "3f2cee6da40a4836bddf13a7a03ca094": {
      "model_module": "@jupyter-widgets/controls",
      "model_module_version": "1.5.0",
      "model_name": "HTMLModel",
      "state": {
       "layout": "IPY_MODEL_cdbb9c507ffc42b0985c5878706abd72",
       "style": "IPY_MODEL_031522eefe284bd188a863ba21275d7d",
       "value": "<h4 style=\"font-size:14px;\">Welche Beispiele sind rechtsrekursiv?</h4>"
      }
     },
     "3f3c8b2426e94931a0f7668dfc6ad587": {
      "model_module": "@jupyter-widgets/controls",
      "model_module_version": "1.5.0",
      "model_name": "HTMLModel",
      "state": {
       "layout": "IPY_MODEL_c05adb9ee6a34a5cad2ada0bbd32a1a3",
       "style": "IPY_MODEL_256fbae5726e44d4abcc40d73ada3c0c",
       "value": "<i>Vervollständigen Sie die Listcomprehension, indem sie an den Stellen der Unterstriche die richtigen Funktionen einsetzen.</i>"
      }
     },
     "415e5efdb9da4071b5fd4601c98a7516": {
      "model_module": "@jupyter-widgets/base",
      "model_module_version": "1.2.0",
      "model_name": "LayoutModel",
      "state": {
       "width": "250px"
      }
     },
     "41b6d22efc324b70b1f18a962f30d730": {
      "model_module": "@jupyter-widgets/controls",
      "model_module_version": "1.5.0",
      "model_name": "ButtonModel",
      "state": {
       "description": "Korrekt?",
       "layout": "IPY_MODEL_8a26b6b748214c32a0ecc6d54ca0b948",
       "style": "IPY_MODEL_d5948514ad1b446ea9e3195ca19465ad"
      }
     },
     "43ebdc066eb24709967e571cb99a4b5d": {
      "model_module": "@jupyter-widgets/base",
      "model_module_version": "1.2.0",
      "model_name": "LayoutModel",
      "state": {
       "width": "600px"
      }
     },
     "445415ab63e44026bb1870abbd9ed185": {
      "model_module": "@jupyter-widgets/controls",
      "model_module_version": "1.5.0",
      "model_name": "CheckboxModel",
      "state": {
       "description": "NOM -> NOM PP",
       "disabled": false,
       "layout": "IPY_MODEL_7efc3634c43d4f2b98809cc7a6088296",
       "style": "IPY_MODEL_84c9fd7204e5435e8f57ca754cae4aef",
       "value": false
      }
     },
     "44c2e1055ed94227934cbce8fc4c3f89": {
      "model_module": "@jupyter-widgets/controls",
      "model_module_version": "1.5.0",
      "model_name": "DescriptionStyleModel",
      "state": {
       "description_width": ""
      }
     },
     "4607edda68994d938993b35397e59e55": {
      "model_module": "@jupyter-widgets/controls",
      "model_module_version": "1.5.0",
      "model_name": "DescriptionStyleModel",
      "state": {
       "description_width": "initial"
      }
     },
     "485b46cd63d8463da59c848672a7119d": {
      "model_module": "@jupyter-widgets/controls",
      "model_module_version": "1.5.0",
      "model_name": "DescriptionStyleModel",
      "state": {
       "description_width": ""
      }
     },
     "4a64cdc88fa741089854e4ade5629272": {
      "model_module": "@jupyter-widgets/base",
      "model_module_version": "1.2.0",
      "model_name": "LayoutModel",
      "state": {
       "width": "600px"
      }
     },
     "4becbed4d2a641179d8cec1d2ac73cfd": {
      "model_module": "@jupyter-widgets/controls",
      "model_module_version": "1.5.0",
      "model_name": "ButtonModel",
      "state": {
       "description": "Korrekt?",
       "layout": "IPY_MODEL_a0a1817ecd474dcf940660cb0cb53b73",
       "style": "IPY_MODEL_d4c33aecaddd4f4b8d51c7142361c576"
      }
     },
     "4c20735104de4f378fef6f1e5292d1bc": {
      "model_module": "@jupyter-widgets/controls",
      "model_module_version": "1.5.0",
      "model_name": "CheckboxModel",
      "state": {
       "description": "PP -> P NP",
       "disabled": false,
       "layout": "IPY_MODEL_cca215e59a87491fa94509b2cc3a2320",
       "style": "IPY_MODEL_2308a99fb49d4dafabf5b89254139879",
       "value": false
      }
     },
     "4c3043de8d1d43a381c61a1deb775485": {
      "model_module": "@jupyter-widgets/controls",
      "model_module_version": "1.5.0",
      "model_name": "HTMLModel",
      "state": {
       "layout": "IPY_MODEL_bac49e41b0584f108d55c3e65772fb61",
       "style": "IPY_MODEL_845c6c5052f84dc0a32e26c62e3a093e",
       "value": "<h4 style=\"font-size:14px;\">Welche Beispiele zeigen direkte Rekursion?</h4>"
      }
     },
     "4c309693dc8a4a6987fdf24b5d75d822": {
      "model_module": "@jupyter-widgets/base",
      "model_module_version": "1.2.0",
      "model_name": "LayoutModel",
      "state": {}
     },
     "4c94dd5581f34614af9ea966b35a174b": {
      "model_module": "@jupyter-widgets/controls",
      "model_module_version": "1.5.0",
      "model_name": "VBoxModel",
      "state": {
       "children": [
        "IPY_MODEL_ea479db828154c358a87482ab0bf9197",
        "IPY_MODEL_23edd2eab0074d4ab5c10fae58b755d4",
        "IPY_MODEL_da5496a2cf6c4fc0bc5e0fec820b40d9",
        "IPY_MODEL_41b6d22efc324b70b1f18a962f30d730"
       ],
       "layout": "IPY_MODEL_9435bd557e834b46a78f15ecfa850d3e"
      }
     },
     "4efc98aace5041e38bde2b7d05ce6f34": {
      "model_module": "@jupyter-widgets/controls",
      "model_module_version": "1.5.0",
      "model_name": "DescriptionStyleModel",
      "state": {
       "description_width": ""
      }
     },
     "502d8b058c5e4a7eaec51216a4deb9f9": {
      "model_module": "@jupyter-widgets/base",
      "model_module_version": "1.2.0",
      "model_name": "LayoutModel",
      "state": {
       "width": "500px"
      }
     },
     "504e54d56c9b4768a23c7995d7cbe25c": {
      "model_module": "@jupyter-widgets/base",
      "model_module_version": "1.2.0",
      "model_name": "LayoutModel",
      "state": {}
     },
     "50523b9b27344ebf9eb89606aff07608": {
      "model_module": "@jupyter-widgets/controls",
      "model_module_version": "1.5.0",
      "model_name": "CheckboxModel",
      "state": {
       "description": "NOM -> ADJ NOM",
       "disabled": false,
       "layout": "IPY_MODEL_3b590dda456c4846bd0de4bf31d8fece",
       "style": "IPY_MODEL_3edef88083ba4f0fa1ea21c49adf1caa",
       "value": false
      }
     },
     "507f992030204b1599570bc91445fa4f": {
      "model_module": "@jupyter-widgets/base",
      "model_module_version": "1.2.0",
      "model_name": "LayoutModel",
      "state": {
       "width": "250px"
      }
     },
     "5212a72b56764ee59e3fbde6153a5ba6": {
      "model_module": "@jupyter-widgets/controls",
      "model_module_version": "1.5.0",
      "model_name": "DescriptionStyleModel",
      "state": {
       "description_width": "initial"
      }
     },
     "52475c7d64c748afb4381b1f82ad794c": {
      "model_module": "@jupyter-widgets/controls",
      "model_module_version": "1.5.0",
      "model_name": "DescriptionStyleModel",
      "state": {
       "description_width": "initial"
      }
     },
     "54c5b368eaba40efb0dbbe8ce3a55bd7": {
      "model_module": "@jupyter-widgets/controls",
      "model_module_version": "1.5.0",
      "model_name": "CheckboxModel",
      "state": {
       "description": "PP -> P NP",
       "disabled": false,
       "layout": "IPY_MODEL_cfce1e4b9f974416a1f375272fbc9fd5",
       "style": "IPY_MODEL_29eeab6009ff440b9a8016c5b759f5ed",
       "value": false
      }
     },
     "555a196815694aa7b1eacd2cc070cae2": {
      "model_module": "@jupyter-widgets/controls",
      "model_module_version": "1.5.0",
      "model_name": "CheckboxModel",
      "state": {
       "description": "PP -> P NP",
       "disabled": false,
       "layout": "IPY_MODEL_93c4fa99b0d841b0839e166b557abf09",
       "style": "IPY_MODEL_647e4899505c47dd9c823416cc8714f3",
       "value": false
      }
     },
     "558aed464d0f44bdbd1abee0ab8ddd1c": {
      "model_module": "@jupyter-widgets/controls",
      "model_module_version": "1.5.0",
      "model_name": "ButtonModel",
      "state": {
       "description": "Korrekt?",
       "layout": "IPY_MODEL_c5f33262f0f149739ccb1085ad90fc6c",
       "style": "IPY_MODEL_aacbbe7c773748b6b897dfc158d3185f"
      }
     },
     "55b55e5f30c24de69644600c223fdced": {
      "model_module": "@jupyter-widgets/base",
      "model_module_version": "1.2.0",
      "model_name": "LayoutModel",
      "state": {
       "width": "600px"
      }
     },
     "56d8e39e412643b7a282d94fa62c4b24": {
      "model_module": "@jupyter-widgets/base",
      "model_module_version": "1.2.0",
      "model_name": "LayoutModel",
      "state": {
       "width": "600px"
      }
     },
     "5722854a23da41be84fea7accecd6bb6": {
      "model_module": "@jupyter-widgets/base",
      "model_module_version": "1.2.0",
      "model_name": "LayoutModel",
      "state": {
       "width": "600px"
      }
     },
     "5756387cfb3742e5940fe04c2b4c242a": {
      "model_module": "@jupyter-widgets/base",
      "model_module_version": "1.2.0",
      "model_name": "LayoutModel",
      "state": {}
     },
     "5787731335fa4758b442b1fc1d837c67": {
      "model_module": "@jupyter-widgets/controls",
      "model_module_version": "1.5.0",
      "model_name": "DescriptionStyleModel",
      "state": {
       "description_width": ""
      }
     },
     "58948815eb95465ab919fb12fe75bca9": {
      "model_module": "@jupyter-widgets/controls",
      "model_module_version": "1.5.0",
      "model_name": "DescriptionStyleModel",
      "state": {
       "description_width": "initial"
      }
     },
     "593176babecf43a29d6e7be5867c4d66": {
      "model_module": "@jupyter-widgets/base",
      "model_module_version": "1.2.0",
      "model_name": "LayoutModel",
      "state": {
       "width": "250px"
      }
     },
     "59a185a8720649a3af08b0ad0868fb5b": {
      "model_module": "@jupyter-widgets/base",
      "model_module_version": "1.2.0",
      "model_name": "LayoutModel",
      "state": {
       "justify_content": "center"
      }
     },
     "59d4f94a1962411aa0697b9d98b52568": {
      "model_module": "@jupyter-widgets/base",
      "model_module_version": "1.2.0",
      "model_name": "LayoutModel",
      "state": {
       "width": "600px"
      }
     },
     "5a3165542f924875af30561ea41a9fa0": {
      "model_module": "@jupyter-widgets/base",
      "model_module_version": "1.2.0",
      "model_name": "LayoutModel",
      "state": {}
     },
     "5c8ced6858df47099bae113ed92b9236": {
      "model_module": "@jupyter-widgets/base",
      "model_module_version": "1.2.0",
      "model_name": "LayoutModel",
      "state": {
       "width": "250px"
      }
     },
     "5cdeaa3417624f2e876bdd41ab73dbfd": {
      "model_module": "@jupyter-widgets/base",
      "model_module_version": "1.2.0",
      "model_name": "LayoutModel",
      "state": {
       "width": "500px"
      }
     },
     "5d1752d89c724ef69c026a0a4dd82808": {
      "model_module": "@jupyter-widgets/controls",
      "model_module_version": "1.5.0",
      "model_name": "VBoxModel",
      "state": {
       "children": [
        "IPY_MODEL_ff25f2bccbd947759f33a53f009f91cd",
        "IPY_MODEL_c9bc71c0ec4943929c61bb550e558bb0",
        "IPY_MODEL_4c20735104de4f378fef6f1e5292d1bc"
       ],
       "layout": "IPY_MODEL_fcdc0fa188e34730a6c44d1ee6a1c9d7"
      }
     },
     "5e4f17bf44374aae95089e3e4eb09d18": {
      "model_module": "@jupyter-widgets/controls",
      "model_module_version": "1.5.0",
      "model_name": "HTMLModel",
      "state": {
       "layout": "IPY_MODEL_8c9d2de0fecd48318ac25253b5f8cfb4",
       "style": "IPY_MODEL_6c460ecec9ea42ce9e29398c2e8a7ef5",
       "value": "<h4 style=\"font-size:14px;\">Wie ist im NLTK vorzugehen, wenn ein (wohlgeformter) Satz von einer Grammatik nicht erkannt wird?</h4>"
      }
     },
     "5e746b601dc948e99b24ab17991ed854": {
      "model_module": "@jupyter-widgets/controls",
      "model_module_version": "1.5.0",
      "model_name": "VBoxModel",
      "state": {
       "children": [
        "IPY_MODEL_fb91368ca87642cd96cd6bb32b335727",
        "IPY_MODEL_2ed39446868a4d0d9223477e8023a5b9",
        "IPY_MODEL_6430dbf6984742febd12c1b836a12191",
        "IPY_MODEL_558aed464d0f44bdbd1abee0ab8ddd1c"
       ],
       "layout": "IPY_MODEL_e97f6a4a16ba4e3dad9e1e0edfc25de7"
      }
     },
     "5fa654b78b224805a4d902191288b92f": {
      "model_module": "@jupyter-widgets/controls",
      "model_module_version": "1.5.0",
      "model_name": "ButtonStyleModel",
      "state": {}
     },
     "61fc205167ac4967ae3f6e5ee995426a": {
      "model_module": "@jupyter-widgets/controls",
      "model_module_version": "1.5.0",
      "model_name": "DescriptionStyleModel",
      "state": {
       "description_width": ""
      }
     },
     "63065258e0b64c5995d96fa8a9214fd4": {
      "model_module": "@jupyter-widgets/controls",
      "model_module_version": "1.5.0",
      "model_name": "ButtonModel",
      "state": {
       "description": "Korrekt?",
       "layout": "IPY_MODEL_ebfc418ecc1b4bc4abd5058b56707197",
       "style": "IPY_MODEL_5fa654b78b224805a4d902191288b92f"
      }
     },
     "63ef7c3b02534214942f5e780ecb4dac": {
      "model_module": "@jupyter-widgets/controls",
      "model_module_version": "1.5.0",
      "model_name": "DescriptionStyleModel",
      "state": {
       "description_width": ""
      }
     },
     "6430dbf6984742febd12c1b836a12191": {
      "model_module": "@jupyter-widgets/controls",
      "model_module_version": "1.5.0",
      "model_name": "VBoxModel",
      "state": {
       "children": [
        "IPY_MODEL_13e74017de8a4d19a70def11aee98138",
        "IPY_MODEL_f733143503c94172a0147097f085fd96",
        "IPY_MODEL_0a7d1d329c4a4056aaa6b12240976393"
       ],
       "layout": "IPY_MODEL_dda80e33d09a44cab741dbfb0706734a"
      }
     },
     "647e4899505c47dd9c823416cc8714f3": {
      "model_module": "@jupyter-widgets/controls",
      "model_module_version": "1.5.0",
      "model_name": "DescriptionStyleModel",
      "state": {
       "description_width": "initial"
      }
     },
     "64a73d7dbd6f43e2b0f3f3ce733a7f02": {
      "model_module": "@jupyter-widgets/controls",
      "model_module_version": "1.5.0",
      "model_name": "DescriptionStyleModel",
      "state": {
       "description_width": "initial"
      }
     },
     "659f440f967447f7b33daeeec9045536": {
      "model_module": "@jupyter-widgets/controls",
      "model_module_version": "1.5.0",
      "model_name": "ButtonStyleModel",
      "state": {}
     },
     "67374e18821a4e9595094e69858777be": {
      "model_module": "@jupyter-widgets/controls",
      "model_module_version": "1.5.0",
      "model_name": "DescriptionStyleModel",
      "state": {
       "description_width": "initial"
      }
     },
     "67feca1345cb40529772bfa7a38cd870": {
      "model_module": "@jupyter-widgets/base",
      "model_module_version": "1.2.0",
      "model_name": "LayoutModel",
      "state": {}
     },
     "6a2aa751053c4ee8ba97cdd96adcc586": {
      "model_module": "@jupyter-widgets/controls",
      "model_module_version": "1.5.0",
      "model_name": "DescriptionStyleModel",
      "state": {
       "description_width": ""
      }
     },
     "6a5c380a0e874ca6af01479dc238e735": {
      "model_module": "@jupyter-widgets/controls",
      "model_module_version": "1.5.0",
      "model_name": "DescriptionStyleModel",
      "state": {
       "description_width": ""
      }
     },
     "6c460ecec9ea42ce9e29398c2e8a7ef5": {
      "model_module": "@jupyter-widgets/controls",
      "model_module_version": "1.5.0",
      "model_name": "DescriptionStyleModel",
      "state": {
       "description_width": ""
      }
     },
     "6c4d983acdae413b912dd0660c6cf15d": {
      "model_module": "@jupyter-widgets/controls",
      "model_module_version": "1.5.0",
      "model_name": "CheckboxModel",
      "state": {
       "description": "NOM -> ADJ NOM",
       "disabled": false,
       "layout": "IPY_MODEL_d220eecb68af4b09a32d13084edb089e",
       "style": "IPY_MODEL_b1cefb0e841a4b5d9ea718811707a045",
       "value": false
      }
     },
     "6d447971cfb749d0ad2df793f48295d5": {
      "model_module": "@jupyter-widgets/base",
      "model_module_version": "1.2.0",
      "model_name": "LayoutModel",
      "state": {
       "justify_content": "center"
      }
     },
     "6df61cc6dfb64ce2ba4cb9630d2b14c7": {
      "model_module": "@jupyter-widgets/base",
      "model_module_version": "1.2.0",
      "model_name": "LayoutModel",
      "state": {
       "width": "600px"
      }
     },
     "7370ffa0523143219afa8f32666d0cdd": {
      "model_module": "@jupyter-widgets/controls",
      "model_module_version": "1.5.0",
      "model_name": "ButtonStyleModel",
      "state": {}
     },
     "74f66de943064e24aee8a5229b7153b5": {
      "model_module": "@jupyter-widgets/controls",
      "model_module_version": "1.5.0",
      "model_name": "ButtonStyleModel",
      "state": {}
     },
     "7541a3b26eb64e398dbed05cbec7e515": {
      "model_module": "@jupyter-widgets/controls",
      "model_module_version": "1.5.0",
      "model_name": "DescriptionStyleModel",
      "state": {
       "description_width": "initial"
      }
     },
     "75c82d408d114246aeed2290a874a5f0": {
      "model_module": "@jupyter-widgets/base",
      "model_module_version": "1.2.0",
      "model_name": "LayoutModel",
      "state": {}
     },
     "76c865a727514b1d973f863a5a4a78b8": {
      "model_module": "@jupyter-widgets/controls",
      "model_module_version": "1.5.0",
      "model_name": "DescriptionStyleModel",
      "state": {
       "description_width": "initial"
      }
     },
     "76feb7de9a9842da8cc2dbcd0d4249b7": {
      "model_module": "@jupyter-widgets/base",
      "model_module_version": "1.2.0",
      "model_name": "LayoutModel",
      "state": {}
     },
     "7707c6a10e834621824d2e5f9a8e484c": {
      "model_module": "@jupyter-widgets/controls",
      "model_module_version": "1.5.0",
      "model_name": "VBoxModel",
      "state": {
       "children": [
        "IPY_MODEL_6c4d983acdae413b912dd0660c6cf15d",
        "IPY_MODEL_e3c9e8a53f374679b0c21fcaf4b3b59a",
        "IPY_MODEL_f2e2671185bf4a1abdb001daf2a1eadb"
       ],
       "layout": "IPY_MODEL_76feb7de9a9842da8cc2dbcd0d4249b7"
      }
     },
     "77210f0c3acd4e05a7d61426ca10c401": {
      "model_module": "@jupyter-widgets/controls",
      "model_module_version": "1.5.0",
      "model_name": "HTMLModel",
      "state": {
       "layout": "IPY_MODEL_7724c38b192f4c68b3fabf7d36073c7f",
       "style": "IPY_MODEL_edcd46593bc346af819d7c78d4bd4edd",
       "value": "<i>Markieren Sie <ins>alle</ins> passenden Antworten: </i>"
      }
     },
     "7724c38b192f4c68b3fabf7d36073c7f": {
      "model_module": "@jupyter-widgets/base",
      "model_module_version": "1.2.0",
      "model_name": "LayoutModel",
      "state": {
       "justify_content": "center"
      }
     },
     "78675252191c486e9d2660d7c1792371": {
      "model_module": "@jupyter-widgets/controls",
      "model_module_version": "1.5.0",
      "model_name": "VBoxModel",
      "state": {
       "children": [
        "IPY_MODEL_d566d70105d64190962c1d5ccbc35b01",
        "IPY_MODEL_77210f0c3acd4e05a7d61426ca10c401",
        "IPY_MODEL_101e4cf04a9a49c18a20c1a7776b19e1",
        "IPY_MODEL_fbb6a31a4d764feca28ce6bdf6b531e8"
       ],
       "layout": "IPY_MODEL_b5d8f72c08d54505b3ab935187918d19"
      }
     },
     "7add3ca9fd594b5784eb7bbba94e4750": {
      "model_module": "@jupyter-widgets/controls",
      "model_module_version": "1.5.0",
      "model_name": "DescriptionStyleModel",
      "state": {
       "description_width": "initial"
      }
     },
     "7b461f09b6ff484eb2ad940f34bae313": {
      "model_module": "@jupyter-widgets/controls",
      "model_module_version": "1.5.0",
      "model_name": "CheckboxModel",
      "state": {
       "description": "NOM -> NOM PP",
       "disabled": false,
       "layout": "IPY_MODEL_8f2cae7a330f4835b793aefc2568d4bf",
       "style": "IPY_MODEL_d2c158402afd49538420b0261d03a520",
       "value": false
      }
     },
     "7bc5aaea67f3407db651434cda1d4528": {
      "model_module": "@jupyter-widgets/controls",
      "model_module_version": "1.5.0",
      "model_name": "CheckboxModel",
      "state": {
       "description": "PP -> P NP",
       "disabled": false,
       "layout": "IPY_MODEL_b9d1716d69c54024b687625995ce6777",
       "style": "IPY_MODEL_4607edda68994d938993b35397e59e55",
       "value": false
      }
     },
     "7db0deaf23544877801a900d1bcff47f": {
      "model_module": "@jupyter-widgets/controls",
      "model_module_version": "1.5.0",
      "model_name": "ButtonModel",
      "state": {
       "description": "Korrekt?",
       "layout": "IPY_MODEL_162a2d0c93f64e9499158bcde918cf2b",
       "style": "IPY_MODEL_035bc9a0e587423eb07b74bf0027acd7"
      }
     },
     "7dfb67a7c0fe434692d7c5899befe2d4": {
      "model_module": "@jupyter-widgets/controls",
      "model_module_version": "1.5.0",
      "model_name": "ButtonStyleModel",
      "state": {}
     },
     "7e95ccd8d7a9440897de1adb7b44eebf": {
      "model_module": "@jupyter-widgets/controls",
      "model_module_version": "1.5.0",
      "model_name": "DescriptionStyleModel",
      "state": {
       "description_width": "initial"
      }
     },
     "7efc3634c43d4f2b98809cc7a6088296": {
      "model_module": "@jupyter-widgets/base",
      "model_module_version": "1.2.0",
      "model_name": "LayoutModel",
      "state": {
       "width": "600px"
      }
     },
     "7f98e224040a4977abbb4bf6bd400c4b": {
      "model_module": "@jupyter-widgets/controls",
      "model_module_version": "1.5.0",
      "model_name": "ButtonModel",
      "state": {
       "description": "Korrekt?",
       "layout": "IPY_MODEL_5c8ced6858df47099bae113ed92b9236",
       "style": "IPY_MODEL_659f440f967447f7b33daeeec9045536"
      }
     },
     "7fe68246a7bd4d53b702d9b66e291cd8": {
      "model_module": "@jupyter-widgets/controls",
      "model_module_version": "1.5.0",
      "model_name": "DescriptionStyleModel",
      "state": {
       "description_width": "initial"
      }
     },
     "8021fbedcf624f91982ec995f70dc8da": {
      "model_module": "@jupyter-widgets/controls",
      "model_module_version": "1.5.0",
      "model_name": "VBoxModel",
      "state": {
       "children": [
        "IPY_MODEL_d81e3c318a384f64bfcb04766a59a722",
        "IPY_MODEL_a9e0f72736504782840f7cabe4aa829a",
        "IPY_MODEL_a648f2286bb6485c94aa7c4053f7555b",
        "IPY_MODEL_cc8e0beb2edd4078826bf144855e719a"
       ],
       "layout": "IPY_MODEL_26c21909d90d4c13ba1603d33ed76856"
      }
     },
     "80ecbe4bf6d341aa981dd9b0514bce9d": {
      "model_module": "@jupyter-widgets/controls",
      "model_module_version": "1.5.0",
      "model_name": "VBoxModel",
      "state": {
       "children": [
        "IPY_MODEL_c418269caefc4493aed07ccbde9222cf",
        "IPY_MODEL_3f3c8b2426e94931a0f7668dfc6ad587",
        "IPY_MODEL_a5d5bbf026c04ca781f44b2d90e286d9",
        "IPY_MODEL_e223f05abf464096bdfc2b377554943d"
       ],
       "layout": "IPY_MODEL_2827256a5d2f403caf5bd1a776755aa4"
      }
     },
     "81dc2691dfb840d580dc82bbac7cd487": {
      "model_module": "@jupyter-widgets/controls",
      "model_module_version": "1.5.0",
      "model_name": "DescriptionStyleModel",
      "state": {
       "description_width": ""
      }
     },
     "826a334f48604c67930266fb30fb0afe": {
      "model_module": "@jupyter-widgets/base",
      "model_module_version": "1.2.0",
      "model_name": "LayoutModel",
      "state": {}
     },
     "845c6c5052f84dc0a32e26c62e3a093e": {
      "model_module": "@jupyter-widgets/controls",
      "model_module_version": "1.5.0",
      "model_name": "DescriptionStyleModel",
      "state": {
       "description_width": ""
      }
     },
     "84c9fd7204e5435e8f57ca754cae4aef": {
      "model_module": "@jupyter-widgets/controls",
      "model_module_version": "1.5.0",
      "model_name": "DescriptionStyleModel",
      "state": {
       "description_width": "initial"
      }
     },
     "84e38c8b4f5d468abb6a32f90c862220": {
      "model_module": "@jupyter-widgets/controls",
      "model_module_version": "1.5.0",
      "model_name": "DescriptionStyleModel",
      "state": {
       "description_width": ""
      }
     },
     "86c59c7279ff49e1b8c301cfd120db4d": {
      "model_module": "@jupyter-widgets/base",
      "model_module_version": "1.2.0",
      "model_name": "LayoutModel",
      "state": {
       "width": "600px"
      }
     },
     "8750c8afe3884f4c8fc42b145b79038d": {
      "model_module": "@jupyter-widgets/controls",
      "model_module_version": "1.5.0",
      "model_name": "ButtonStyleModel",
      "state": {}
     },
     "89270716edc3449b917389f8984ed5c3": {
      "model_module": "@jupyter-widgets/base",
      "model_module_version": "1.2.0",
      "model_name": "LayoutModel",
      "state": {}
     },
     "8a26b6b748214c32a0ecc6d54ca0b948": {
      "model_module": "@jupyter-widgets/base",
      "model_module_version": "1.2.0",
      "model_name": "LayoutModel",
      "state": {
       "width": "250px"
      }
     },
     "8c38a6d5fb774ea88decadc25137b4ad": {
      "model_module": "@jupyter-widgets/controls",
      "model_module_version": "1.5.0",
      "model_name": "ButtonModel",
      "state": {
       "description": "Lösung zeigen",
       "layout": "IPY_MODEL_2b3e386733284320a38da621e9977311",
       "style": "IPY_MODEL_d36c9db70cdd4ad0993d076953bf3de6"
      }
     },
     "8c629294ddfe4a789c0b7d9ab9aab7ab": {
      "model_module": "@jupyter-widgets/base",
      "model_module_version": "1.2.0",
      "model_name": "LayoutModel",
      "state": {
       "width": "250px"
      }
     },
     "8c98acab4eb54420a0ae862540ecc271": {
      "model_module": "@jupyter-widgets/controls",
      "model_module_version": "1.5.0",
      "model_name": "CheckboxModel",
      "state": {
       "description": "NP -> NP",
       "disabled": false,
       "layout": "IPY_MODEL_2f269255e0744cecb23d155d8dbaf1bb",
       "style": "IPY_MODEL_07013fa1e1fc4e96a5d2b4d703ab33cd",
       "value": false
      }
     },
     "8c9d2de0fecd48318ac25253b5f8cfb4": {
      "model_module": "@jupyter-widgets/base",
      "model_module_version": "1.2.0",
      "model_name": "LayoutModel",
      "state": {}
     },
     "8cb9c5f1ab0947be85e321b1204fbe36": {
      "model_module": "@jupyter-widgets/base",
      "model_module_version": "1.2.0",
      "model_name": "LayoutModel",
      "state": {
       "justify_content": "center"
      }
     },
     "8cbcc23bf88547cebdc5f37d2ba92434": {
      "model_module": "@jupyter-widgets/base",
      "model_module_version": "1.2.0",
      "model_name": "LayoutModel",
      "state": {
       "width": "600px"
      }
     },
     "8ccccad91c6a4d7b94e3d7ec97a4d796": {
      "model_module": "@jupyter-widgets/base",
      "model_module_version": "1.2.0",
      "model_name": "LayoutModel",
      "state": {
       "width": "600px"
      }
     },
     "8cda80716f4f4b23a2ab21c11c1b5427": {
      "model_module": "@jupyter-widgets/base",
      "model_module_version": "1.2.0",
      "model_name": "LayoutModel",
      "state": {
       "width": "600px"
      }
     },
     "8f2cae7a330f4835b793aefc2568d4bf": {
      "model_module": "@jupyter-widgets/base",
      "model_module_version": "1.2.0",
      "model_name": "LayoutModel",
      "state": {
       "width": "600px"
      }
     },
     "919e2a21264344b29443b3899f806ff9": {
      "model_module": "@jupyter-widgets/controls",
      "model_module_version": "1.5.0",
      "model_name": "HTMLModel",
      "state": {
       "layout": "IPY_MODEL_0c14c7c2ffd44a669c50e7f38daeeb7b",
       "style": "IPY_MODEL_2cae34cce5354059af9dc442c7bae30f",
       "value": "<i>Markieren Sie <ins>alle</ins> passenden Antworten: </i>"
      }
     },
     "924137723b3443bdb1e174483e8ce0d0": {
      "model_module": "@jupyter-widgets/controls",
      "model_module_version": "1.5.0",
      "model_name": "DescriptionStyleModel",
      "state": {
       "description_width": ""
      }
     },
     "9339985079cc4921b6030fff9708e6d6": {
      "model_module": "@jupyter-widgets/controls",
      "model_module_version": "1.5.0",
      "model_name": "DescriptionStyleModel",
      "state": {
       "description_width": ""
      }
     },
     "9341570c4bf54708ad3d1fbdacf5d4dc": {
      "model_module": "@jupyter-widgets/controls",
      "model_module_version": "1.5.0",
      "model_name": "TextareaModel",
      "state": {
       "layout": "IPY_MODEL_5cdeaa3417624f2e876bdd41ab73dbfd",
       "placeholder": "Type something",
       "style": "IPY_MODEL_84e38c8b4f5d468abb6a32f90c862220",
       "value": "for p in grammar1.________(): _______(p)"
      }
     },
     "93577098e5c14049abde6860c59c3b8d": {
      "model_module": "@jupyter-widgets/base",
      "model_module_version": "1.2.0",
      "model_name": "LayoutModel",
      "state": {
       "width": "150px"
      }
     },
     "9371a640bbbf47d9bacc914438800a63": {
      "model_module": "@jupyter-widgets/base",
      "model_module_version": "1.2.0",
      "model_name": "LayoutModel",
      "state": {
       "width": "250px"
      }
     },
     "93c4fa99b0d841b0839e166b557abf09": {
      "model_module": "@jupyter-widgets/base",
      "model_module_version": "1.2.0",
      "model_name": "LayoutModel",
      "state": {
       "width": "600px"
      }
     },
     "940fce987115410d9f0bcb764d1e7bcf": {
      "model_module": "@jupyter-widgets/controls",
      "model_module_version": "1.5.0",
      "model_name": "DescriptionStyleModel",
      "state": {
       "description_width": ""
      }
     },
     "9435bd557e834b46a78f15ecfa850d3e": {
      "model_module": "@jupyter-widgets/base",
      "model_module_version": "1.2.0",
      "model_name": "LayoutModel",
      "state": {}
     },
     "9467d3ed810c4cbb8ef29cdd05413eb1": {
      "model_module": "@jupyter-widgets/controls",
      "model_module_version": "1.5.0",
      "model_name": "ButtonModel",
      "state": {
       "description": "Lösung zeigen",
       "layout": "IPY_MODEL_93577098e5c14049abde6860c59c3b8d",
       "style": "IPY_MODEL_050c3ea6dc3441cfb0bc09ff29636cf2"
      }
     },
     "96957ab215e7429eb49812b0dcda38bd": {
      "model_module": "@jupyter-widgets/base",
      "model_module_version": "1.2.0",
      "model_name": "LayoutModel",
      "state": {
       "width": "600px"
      }
     },
     "96b548d6af254498802860bcdaf2878e": {
      "model_module": "@jupyter-widgets/base",
      "model_module_version": "1.2.0",
      "model_name": "LayoutModel",
      "state": {
       "justify_content": "center"
      }
     },
     "9819f3beb4fc492ab4054fcc8b63cee0": {
      "model_module": "@jupyter-widgets/controls",
      "model_module_version": "1.5.0",
      "model_name": "VBoxModel",
      "state": {
       "children": [
        "IPY_MODEL_3f2cee6da40a4836bddf13a7a03ca094",
        "IPY_MODEL_f304fd4e6f9c42b99403dba10ab49217",
        "IPY_MODEL_f72daef816534e8cab4e9ded846470db",
        "IPY_MODEL_d8f3545b504e4825a4f44839b92f6589"
       ],
       "layout": "IPY_MODEL_d3a486ef8cda4a4bbf1a20f3d9903b56"
      }
     },
     "992d08dad4ec4c0ba45e9ab3b04e2a7d": {
      "model_module": "@jupyter-widgets/controls",
      "model_module_version": "1.5.0",
      "model_name": "HTMLModel",
      "state": {
       "layout": "IPY_MODEL_9cd04ffc232e430da46d140beb900412",
       "style": "IPY_MODEL_1b5d55f94c644347bae7b3addce2f8ff",
       "value": "<h4 style=\"font-size:14px;\">Welche Beispiele für Phrasenstrukturregeln sind linksrekursiv?</h4>"
      }
     },
     "996c4498bb104db9bd15824c7e11f552": {
      "model_module": "@jupyter-widgets/base",
      "model_module_version": "1.2.0",
      "model_name": "LayoutModel",
      "state": {
       "width": "600px"
      }
     },
     "9af32e4b012c4c63a4f7c753b397c04a": {
      "model_module": "@jupyter-widgets/controls",
      "model_module_version": "1.5.0",
      "model_name": "ButtonStyleModel",
      "state": {}
     },
     "9cd04ffc232e430da46d140beb900412": {
      "model_module": "@jupyter-widgets/base",
      "model_module_version": "1.2.0",
      "model_name": "LayoutModel",
      "state": {}
     },
     "9d764c2bbfd5406f907568788c7d5ecb": {
      "model_module": "@jupyter-widgets/controls",
      "model_module_version": "1.5.0",
      "model_name": "CheckboxModel",
      "state": {
       "description": "Grammatik neu einlesen",
       "disabled": false,
       "layout": "IPY_MODEL_37e7eea6b9004eb18c60295a2499d9b8",
       "style": "IPY_MODEL_c5883ccf88a34c348bb7656cc6255886",
       "value": false
      }
     },
     "9de18f630831423ca93da73e30704097": {
      "model_module": "@jupyter-widgets/controls",
      "model_module_version": "1.5.0",
      "model_name": "HTMLModel",
      "state": {
       "layout": "IPY_MODEL_59a185a8720649a3af08b0ad0868fb5b",
       "style": "IPY_MODEL_1ef5922219c2469b87cd9db70c976ec1",
       "value": "<i>Markieren Sie <ins>alle</ins> passenden Antworten: </i>"
      }
     },
     "9fef220426c349549484aa76cbf4f846": {
      "model_module": "@jupyter-widgets/controls",
      "model_module_version": "1.5.0",
      "model_name": "CheckboxModel",
      "state": {
       "description": "Grammatik neu einlesen",
       "disabled": false,
       "layout": "IPY_MODEL_f9d0b84f0cf242198d4cd2b8fffa9c12",
       "style": "IPY_MODEL_b48dcc37d5994bd38869a0db0783af57",
       "value": false
      }
     },
     "a0840ca2a1444916bc80e58d5a20cec3": {
      "model_module": "@jupyter-widgets/controls",
      "model_module_version": "1.5.0",
      "model_name": "CheckboxModel",
      "state": {
       "description": "<code>trace</code>-Output aktivieren und überprüfen",
       "disabled": false,
       "layout": "IPY_MODEL_56d8e39e412643b7a282d94fa62c4b24",
       "style": "IPY_MODEL_52475c7d64c748afb4381b1f82ad794c",
       "value": false
      }
     },
     "a0a1817ecd474dcf940660cb0cb53b73": {
      "model_module": "@jupyter-widgets/base",
      "model_module_version": "1.2.0",
      "model_name": "LayoutModel",
      "state": {
       "width": "350px"
      }
     },
     "a20d9a6eb771405da5e6579b71c8f0d4": {
      "model_module": "@jupyter-widgets/controls",
      "model_module_version": "1.5.0",
      "model_name": "DescriptionStyleModel",
      "state": {
       "description_width": "initial"
      }
     },
     "a26f5505f184494e8f1e2e9a532963ca": {
      "model_module": "@jupyter-widgets/controls",
      "model_module_version": "1.5.0",
      "model_name": "HTMLModel",
      "state": {
       "layout": "IPY_MODEL_b1c1d91bf17d40b9a488eb3486d40607",
       "style": "IPY_MODEL_4efc98aace5041e38bde2b7d05ce6f34",
       "value": "<i>Markieren Sie <ins>alle</ins> passenden Antworten: </i>"
      }
     },
     "a408c81878c94655a947d4e971eb05fd": {
      "model_module": "@jupyter-widgets/controls",
      "model_module_version": "1.5.0",
      "model_name": "ButtonStyleModel",
      "state": {}
     },
     "a41f3bb0161649148123991124b83890": {
      "model_module": "@jupyter-widgets/controls",
      "model_module_version": "1.5.0",
      "model_name": "DescriptionStyleModel",
      "state": {
       "description_width": "initial"
      }
     },
     "a43ed6d43fa74be096588ca1b55b833f": {
      "model_module": "@jupyter-widgets/controls",
      "model_module_version": "1.5.0",
      "model_name": "HTMLModel",
      "state": {
       "layout": "IPY_MODEL_1a9cbaf5121c4e1882136aaba4bbec4a",
       "style": "IPY_MODEL_cacf76fcabd94809a1aaed67d5d062a4",
       "value": "<i>Markieren Sie <ins>alle</ins> passenden Antworten: </i>"
      }
     },
     "a486f936db88484da6f22861afac15ad": {
      "model_module": "@jupyter-widgets/base",
      "model_module_version": "1.2.0",
      "model_name": "LayoutModel",
      "state": {
       "width": "500px"
      }
     },
     "a5d5bbf026c04ca781f44b2d90e286d9": {
      "model_module": "@jupyter-widgets/controls",
      "model_module_version": "1.5.0",
      "model_name": "TextareaModel",
      "state": {
       "layout": "IPY_MODEL_502d8b058c5e4a7eaec51216a4deb9f9",
       "placeholder": "Type something",
       "style": "IPY_MODEL_6a5c380a0e874ca6af01479dc238e735",
       "value": "for p in grammar1.________(): _______(p)"
      }
     },
     "a648f2286bb6485c94aa7c4053f7555b": {
      "model_module": "@jupyter-widgets/controls",
      "model_module_version": "1.5.0",
      "model_name": "VBoxModel",
      "state": {
       "children": [
        "IPY_MODEL_a0840ca2a1444916bc80e58d5a20cec3",
        "IPY_MODEL_9d764c2bbfd5406f907568788c7d5ecb",
        "IPY_MODEL_317c4d931ecf46f9a459f14965336374"
       ],
       "layout": "IPY_MODEL_ab784c9cde6f4593a7f4667f65f8e0bf"
      }
     },
     "a691fd2f84a3441da6731019336e3dd8": {
      "model_module": "@jupyter-widgets/controls",
      "model_module_version": "1.5.0",
      "model_name": "CheckboxModel",
      "state": {
       "description": "NOM -> ADJ NOM",
       "disabled": false,
       "layout": "IPY_MODEL_59d4f94a1962411aa0697b9d98b52568",
       "style": "IPY_MODEL_dd8cc609abbc472ca7ff2a57a86d912d",
       "value": false
      }
     },
     "a6d54b3ca2ad4b77ad8726398d5a1307": {
      "model_module": "@jupyter-widgets/base",
      "model_module_version": "1.2.0",
      "model_name": "LayoutModel",
      "state": {
       "width": "600px"
      }
     },
     "a986d2f134fc41d8907475d03247d262": {
      "model_module": "@jupyter-widgets/controls",
      "model_module_version": "1.5.0",
      "model_name": "CheckboxModel",
      "state": {
       "description": "<code>trace</code>-Output aktivieren und überprüfen",
       "disabled": false,
       "layout": "IPY_MODEL_d06a10d19cee4adba385fa6579beb2a4",
       "style": "IPY_MODEL_df39d64a30f1491cbe29cd68c5355bda",
       "value": false
      }
     },
     "a9aebf4ff786449dbbf72e327111fa00": {
      "model_module": "@jupyter-widgets/base",
      "model_module_version": "1.2.0",
      "model_name": "LayoutModel",
      "state": {
       "width": "250px"
      }
     },
     "a9e0f72736504782840f7cabe4aa829a": {
      "model_module": "@jupyter-widgets/controls",
      "model_module_version": "1.5.0",
      "model_name": "HTMLModel",
      "state": {
       "layout": "IPY_MODEL_8cb9c5f1ab0947be85e321b1204fbe36",
       "style": "IPY_MODEL_924137723b3443bdb1e174483e8ce0d0",
       "value": "<i>Wählen Sie die <ins>eine</ins> korrekte Antwort aus: </i>"
      }
     },
     "aacbbe7c773748b6b897dfc158d3185f": {
      "model_module": "@jupyter-widgets/controls",
      "model_module_version": "1.5.0",
      "model_name": "ButtonStyleModel",
      "state": {}
     },
     "ab784c9cde6f4593a7f4667f65f8e0bf": {
      "model_module": "@jupyter-widgets/base",
      "model_module_version": "1.2.0",
      "model_name": "LayoutModel",
      "state": {}
     },
     "adfa79523cc749e9806767910ad03827": {
      "model_module": "@jupyter-widgets/controls",
      "model_module_version": "1.5.0",
      "model_name": "ButtonStyleModel",
      "state": {}
     },
     "b0a716be30f14aaa83444d8dddb8d473": {
      "model_module": "@jupyter-widgets/base",
      "model_module_version": "1.2.0",
      "model_name": "LayoutModel",
      "state": {}
     },
     "b103290881a54512a32eb7981d884d0e": {
      "model_module": "@jupyter-widgets/controls",
      "model_module_version": "1.5.0",
      "model_name": "VBoxModel",
      "state": {
       "children": [
        "IPY_MODEL_4c3043de8d1d43a381c61a1deb775485",
        "IPY_MODEL_a26f5505f184494e8f1e2e9a532963ca",
        "IPY_MODEL_5d1752d89c724ef69c026a0a4dd82808",
        "IPY_MODEL_f5b0ddaaf1c34d329bcec41cffbb8785"
       ],
       "layout": "IPY_MODEL_75c82d408d114246aeed2290a874a5f0"
      }
     },
     "b105145233294063bca0b3118df0ae2e": {
      "model_module": "@jupyter-widgets/controls",
      "model_module_version": "1.5.0",
      "model_name": "DescriptionStyleModel",
      "state": {
       "description_width": ""
      }
     },
     "b1c1d91bf17d40b9a488eb3486d40607": {
      "model_module": "@jupyter-widgets/base",
      "model_module_version": "1.2.0",
      "model_name": "LayoutModel",
      "state": {
       "justify_content": "center"
      }
     },
     "b1cefb0e841a4b5d9ea718811707a045": {
      "model_module": "@jupyter-widgets/controls",
      "model_module_version": "1.5.0",
      "model_name": "DescriptionStyleModel",
      "state": {
       "description_width": "initial"
      }
     },
     "b1fb1f692d724b8db3619a999c1cabaf": {
      "model_module": "@jupyter-widgets/controls",
      "model_module_version": "1.5.0",
      "model_name": "CheckboxModel",
      "state": {
       "description": "NOM -> ADJ NOM",
       "disabled": false,
       "layout": "IPY_MODEL_43ebdc066eb24709967e571cb99a4b5d",
       "style": "IPY_MODEL_7fe68246a7bd4d53b702d9b66e291cd8",
       "value": false
      }
     },
     "b40dc5a5c320407ba8684e190769e35d": {
      "model_module": "@jupyter-widgets/base",
      "model_module_version": "1.2.0",
      "model_name": "LayoutModel",
      "state": {}
     },
     "b48dcc37d5994bd38869a0db0783af57": {
      "model_module": "@jupyter-widgets/controls",
      "model_module_version": "1.5.0",
      "model_name": "DescriptionStyleModel",
      "state": {
       "description_width": "initial"
      }
     },
     "b542ed7c542f46328b165a7ed7869991": {
      "model_module": "@jupyter-widgets/controls",
      "model_module_version": "1.5.0",
      "model_name": "DescriptionStyleModel",
      "state": {
       "description_width": "initial"
      }
     },
     "b5d8f72c08d54505b3ab935187918d19": {
      "model_module": "@jupyter-widgets/base",
      "model_module_version": "1.2.0",
      "model_name": "LayoutModel",
      "state": {}
     },
     "b719df9ea40f4094a6dccb9477b7c6c1": {
      "model_module": "@jupyter-widgets/controls",
      "model_module_version": "1.5.0",
      "model_name": "ButtonModel",
      "state": {
       "description": "Korrekt?",
       "layout": "IPY_MODEL_507f992030204b1599570bc91445fa4f",
       "style": "IPY_MODEL_9af32e4b012c4c63a4f7c753b397c04a"
      }
     },
     "b979904bbbf547e8806e1cad966eed66": {
      "model_module": "@jupyter-widgets/controls",
      "model_module_version": "1.5.0",
      "model_name": "DescriptionStyleModel",
      "state": {
       "description_width": "initial"
      }
     },
     "b9d1716d69c54024b687625995ce6777": {
      "model_module": "@jupyter-widgets/base",
      "model_module_version": "1.2.0",
      "model_name": "LayoutModel",
      "state": {
       "width": "600px"
      }
     },
     "bac49e41b0584f108d55c3e65772fb61": {
      "model_module": "@jupyter-widgets/base",
      "model_module_version": "1.2.0",
      "model_name": "LayoutModel",
      "state": {}
     },
     "bc48693bd75d4fb2ad6786d18c7ff9a3": {
      "model_module": "@jupyter-widgets/controls",
      "model_module_version": "1.5.0",
      "model_name": "VBoxModel",
      "state": {
       "children": [
        "IPY_MODEL_d837afb758064b2e99955fc0cf3eeba1",
        "IPY_MODEL_d499db6dfe3346f7811b85b886cb0b9a",
        "IPY_MODEL_14b6a35fb96f4ad487a365d5191c835c",
        "IPY_MODEL_7db0deaf23544877801a900d1bcff47f"
       ],
       "layout": "IPY_MODEL_24c8552b2c204647a0c9af0c9962fdab"
      }
     },
     "bda6627c92304b62b5637f76162c98ee": {
      "model_module": "@jupyter-widgets/controls",
      "model_module_version": "1.5.0",
      "model_name": "ButtonStyleModel",
      "state": {}
     },
     "be7bbfc97d674356ab26b4b8121382df": {
      "model_module": "@jupyter-widgets/controls",
      "model_module_version": "1.5.0",
      "model_name": "HTMLModel",
      "state": {
       "layout": "IPY_MODEL_b0a716be30f14aaa83444d8dddb8d473",
       "style": "IPY_MODEL_25708ba28e2a4102a6d1e402100cf02b",
       "value": "<h4 style=\"font-size:14px;\">Wie können im NLTK die Regeln einer Grammatik ausgegeben werden?</h4>"
      }
     },
     "bec14afd93374559b58ab57750ed1562": {
      "model_module": "@jupyter-widgets/base",
      "model_module_version": "1.2.0",
      "model_name": "LayoutModel",
      "state": {}
     },
     "bef1f14cc8de463bad6bbedaf4a1e3bd": {
      "model_module": "@jupyter-widgets/base",
      "model_module_version": "1.2.0",
      "model_name": "LayoutModel",
      "state": {
       "width": "600px"
      }
     },
     "c05adb9ee6a34a5cad2ada0bbd32a1a3": {
      "model_module": "@jupyter-widgets/base",
      "model_module_version": "1.2.0",
      "model_name": "LayoutModel",
      "state": {}
     },
     "c13677728b0d4d0597b8114db777c3f8": {
      "model_module": "@jupyter-widgets/controls",
      "model_module_version": "1.5.0",
      "model_name": "ButtonModel",
      "state": {
       "description": "Korrekt?",
       "layout": "IPY_MODEL_a9aebf4ff786449dbbf72e327111fa00",
       "style": "IPY_MODEL_cda0a5946c2849a6a64da0d575c015f4"
      }
     },
     "c1beb4ae07294d46aa76807a4dc9c54b": {
      "model_module": "@jupyter-widgets/base",
      "model_module_version": "1.2.0",
      "model_name": "LayoutModel",
      "state": {
       "width": "250px"
      }
     },
     "c2bcf537e3894694a2484ee15d22a2ae": {
      "model_module": "@jupyter-widgets/controls",
      "model_module_version": "1.5.0",
      "model_name": "CheckboxModel",
      "state": {
       "description": "NOM -> ADJ NOM",
       "disabled": false,
       "layout": "IPY_MODEL_a6d54b3ca2ad4b77ad8726398d5a1307",
       "style": "IPY_MODEL_178f4ee653a840c4beba3e50b6e094fe",
       "value": false
      }
     },
     "c418269caefc4493aed07ccbde9222cf": {
      "model_module": "@jupyter-widgets/controls",
      "model_module_version": "1.5.0",
      "model_name": "HTMLModel",
      "state": {
       "layout": "IPY_MODEL_826a334f48604c67930266fb30fb0afe",
       "style": "IPY_MODEL_2cef78228625419db72bfef0ffdc9a74",
       "value": "<h4 style=\"font-size:14px;\">Wie können im NLTK die Regeln einer Grammatik ausgegeben werden?</h4>"
      }
     },
     "c42490feb4a545ae8c9f95bdad8e2ef9": {
      "model_module": "@jupyter-widgets/controls",
      "model_module_version": "1.5.0",
      "model_name": "VBoxModel",
      "state": {
       "children": [
        "IPY_MODEL_dc36e078895e46909acc29c6a378aadb",
        "IPY_MODEL_d83a83c79a2942659bd964202d3d972d",
        "IPY_MODEL_0601fc616deb49dea35584742dfdcd0a",
        "IPY_MODEL_c13677728b0d4d0597b8114db777c3f8"
       ],
       "layout": "IPY_MODEL_df39b5796cb846ddb7d7876a329577d3"
      }
     },
     "c483443dad9f418eb976a4cbcde16ef2": {
      "model_module": "@jupyter-widgets/controls",
      "model_module_version": "1.5.0",
      "model_name": "VBoxModel",
      "state": {
       "children": [
        "IPY_MODEL_be7bbfc97d674356ab26b4b8121382df",
        "IPY_MODEL_e4166627d6d54a99b6aca68fe015989b",
        "IPY_MODEL_9341570c4bf54708ad3d1fbdacf5d4dc",
        "IPY_MODEL_d1a795c4fd7444b58d4204f529566e26"
       ],
       "layout": "IPY_MODEL_ee0580be38cd4e139ffded23eb8b0a18"
      }
     },
     "c5883ccf88a34c348bb7656cc6255886": {
      "model_module": "@jupyter-widgets/controls",
      "model_module_version": "1.5.0",
      "model_name": "DescriptionStyleModel",
      "state": {
       "description_width": "initial"
      }
     },
     "c5f33262f0f149739ccb1085ad90fc6c": {
      "model_module": "@jupyter-widgets/base",
      "model_module_version": "1.2.0",
      "model_name": "LayoutModel",
      "state": {
       "width": "250px"
      }
     },
     "c6650c57112f4483898ff62950df60bd": {
      "model_module": "@jupyter-widgets/base",
      "model_module_version": "1.2.0",
      "model_name": "LayoutModel",
      "state": {}
     },
     "c94bcdae920d4b359709d160e8f0e8c4": {
      "model_module": "@jupyter-widgets/controls",
      "model_module_version": "1.5.0",
      "model_name": "HTMLModel",
      "state": {
       "layout": "IPY_MODEL_32131b4376c84b0db01d264125d2417c",
       "style": "IPY_MODEL_3dbb1a7faa454a168141607ae2b89751",
       "value": "<h4 style=\"font-size:14px;\">Welche Beispiele sind rechtsrekursiv?</h4>"
      }
     },
     "c9bc71c0ec4943929c61bb550e558bb0": {
      "model_module": "@jupyter-widgets/controls",
      "model_module_version": "1.5.0",
      "model_name": "CheckboxModel",
      "state": {
       "description": "NP -> NP",
       "disabled": false,
       "layout": "IPY_MODEL_3ebb6ffddaf34b3b95b5eed7b7bff35f",
       "style": "IPY_MODEL_7e95ccd8d7a9440897de1adb7b44eebf",
       "value": false
      }
     },
     "c9e4817ad0da4ec3966a3724c146e53e": {
      "model_module": "@jupyter-widgets/controls",
      "model_module_version": "1.5.0",
      "model_name": "CheckboxModel",
      "state": {
       "description": "PP -> P NP",
       "disabled": false,
       "layout": "IPY_MODEL_86c59c7279ff49e1b8c301cfd120db4d",
       "style": "IPY_MODEL_76c865a727514b1d973f863a5a4a78b8",
       "value": false
      }
     },
     "cacf76fcabd94809a1aaed67d5d062a4": {
      "model_module": "@jupyter-widgets/controls",
      "model_module_version": "1.5.0",
      "model_name": "DescriptionStyleModel",
      "state": {
       "description_width": ""
      }
     },
     "cbba4044ba2047b096e6c0cc5cdf27c8": {
      "model_module": "@jupyter-widgets/base",
      "model_module_version": "1.2.0",
      "model_name": "LayoutModel",
      "state": {
       "width": "600px"
      }
     },
     "cc8e0beb2edd4078826bf144855e719a": {
      "model_module": "@jupyter-widgets/controls",
      "model_module_version": "1.5.0",
      "model_name": "ButtonModel",
      "state": {
       "description": "Korrekt?",
       "layout": "IPY_MODEL_593176babecf43a29d6e7be5867c4d66",
       "style": "IPY_MODEL_a408c81878c94655a947d4e971eb05fd"
      }
     },
     "cc9e1ca598bd438393137755f803b6ea": {
      "model_module": "@jupyter-widgets/controls",
      "model_module_version": "1.5.0",
      "model_name": "HBoxModel",
      "state": {
       "children": [
        "IPY_MODEL_63065258e0b64c5995d96fa8a9214fd4",
        "IPY_MODEL_df05ace2a733441c86ccf189868b2715"
       ],
       "layout": "IPY_MODEL_5756387cfb3742e5940fe04c2b4c242a"
      }
     },
     "cca215e59a87491fa94509b2cc3a2320": {
      "model_module": "@jupyter-widgets/base",
      "model_module_version": "1.2.0",
      "model_name": "LayoutModel",
      "state": {
       "width": "600px"
      }
     },
     "ccdfdb20dc794789875af0ec6f2ed1e2": {
      "model_module": "@jupyter-widgets/base",
      "model_module_version": "1.2.0",
      "model_name": "LayoutModel",
      "state": {}
     },
     "cd4a3eb73fb849d9bf465320892050f6": {
      "model_module": "@jupyter-widgets/controls",
      "model_module_version": "1.5.0",
      "model_name": "CheckboxModel",
      "state": {
       "description": "anderen Parser verwenden",
       "disabled": false,
       "layout": "IPY_MODEL_8cbcc23bf88547cebdc5f37d2ba92434",
       "style": "IPY_MODEL_67374e18821a4e9595094e69858777be",
       "value": false
      }
     },
     "cda0a5946c2849a6a64da0d575c015f4": {
      "model_module": "@jupyter-widgets/controls",
      "model_module_version": "1.5.0",
      "model_name": "ButtonStyleModel",
      "state": {}
     },
     "cdbb9c507ffc42b0985c5878706abd72": {
      "model_module": "@jupyter-widgets/base",
      "model_module_version": "1.2.0",
      "model_name": "LayoutModel",
      "state": {}
     },
     "cde9b442ea284b2c9445a24fb43d3198": {
      "model_module": "@jupyter-widgets/base",
      "model_module_version": "1.2.0",
      "model_name": "LayoutModel",
      "state": {}
     },
     "cdf50bca69ab46d8b860dc0f171dab64": {
      "model_module": "@jupyter-widgets/base",
      "model_module_version": "1.2.0",
      "model_name": "LayoutModel",
      "state": {
       "width": "150px"
      }
     },
     "cfce1e4b9f974416a1f375272fbc9fd5": {
      "model_module": "@jupyter-widgets/base",
      "model_module_version": "1.2.0",
      "model_name": "LayoutModel",
      "state": {
       "width": "600px"
      }
     },
     "d06a10d19cee4adba385fa6579beb2a4": {
      "model_module": "@jupyter-widgets/base",
      "model_module_version": "1.2.0",
      "model_name": "LayoutModel",
      "state": {
       "width": "600px"
      }
     },
     "d17ced34512548b487c6202949ce383c": {
      "model_module": "@jupyter-widgets/controls",
      "model_module_version": "1.5.0",
      "model_name": "CheckboxModel",
      "state": {
       "description": "NOM -> NOM PP",
       "disabled": false,
       "layout": "IPY_MODEL_1f74d70eb2d74fe89ff26c1438270cae",
       "style": "IPY_MODEL_047699feb2c9405ba70d970f3544d6c2",
       "value": false
      }
     },
     "d1903bc7030a422eb9411d242ff037aa": {
      "model_module": "@jupyter-widgets/controls",
      "model_module_version": "1.5.0",
      "model_name": "CheckboxModel",
      "state": {
       "description": "NOM -> ADJ NOM",
       "disabled": false,
       "layout": "IPY_MODEL_6df61cc6dfb64ce2ba4cb9630d2b14c7",
       "style": "IPY_MODEL_d97a7e9d6dc8474583ac2f190a1fa774",
       "value": false
      }
     },
     "d1a795c4fd7444b58d4204f529566e26": {
      "model_module": "@jupyter-widgets/controls",
      "model_module_version": "1.5.0",
      "model_name": "HBoxModel",
      "state": {
       "children": [
        "IPY_MODEL_144ed4bc0ab84726825c680f3d4aa454",
        "IPY_MODEL_9467d3ed810c4cbb8ef29cdd05413eb1"
       ],
       "layout": "IPY_MODEL_ecc9c9a5ec094beda9bc47f21d919494"
      }
     },
     "d220eecb68af4b09a32d13084edb089e": {
      "model_module": "@jupyter-widgets/base",
      "model_module_version": "1.2.0",
      "model_name": "LayoutModel",
      "state": {
       "width": "600px"
      }
     },
     "d2c158402afd49538420b0261d03a520": {
      "model_module": "@jupyter-widgets/controls",
      "model_module_version": "1.5.0",
      "model_name": "DescriptionStyleModel",
      "state": {
       "description_width": "initial"
      }
     },
     "d36c9db70cdd4ad0993d076953bf3de6": {
      "model_module": "@jupyter-widgets/controls",
      "model_module_version": "1.5.0",
      "model_name": "ButtonStyleModel",
      "state": {}
     },
     "d3a486ef8cda4a4bbf1a20f3d9903b56": {
      "model_module": "@jupyter-widgets/base",
      "model_module_version": "1.2.0",
      "model_name": "LayoutModel",
      "state": {}
     },
     "d3de1453fa244e42995c04d732c1aec7": {
      "model_module": "@jupyter-widgets/base",
      "model_module_version": "1.2.0",
      "model_name": "LayoutModel",
      "state": {
       "width": "250px"
      }
     },
     "d499db6dfe3346f7811b85b886cb0b9a": {
      "model_module": "@jupyter-widgets/controls",
      "model_module_version": "1.5.0",
      "model_name": "HTMLModel",
      "state": {
       "layout": "IPY_MODEL_f639e13d78364bdb9a72a217df6afec2",
       "style": "IPY_MODEL_6a2aa751053c4ee8ba97cdd96adcc586",
       "value": "<i>Markieren Sie <ins>alle</ins> passenden Antworten: </i>"
      }
     },
     "d4c33aecaddd4f4b8d51c7142361c576": {
      "model_module": "@jupyter-widgets/controls",
      "model_module_version": "1.5.0",
      "model_name": "ButtonStyleModel",
      "state": {}
     },
     "d566d70105d64190962c1d5ccbc35b01": {
      "model_module": "@jupyter-widgets/controls",
      "model_module_version": "1.5.0",
      "model_name": "HTMLModel",
      "state": {
       "layout": "IPY_MODEL_c6650c57112f4483898ff62950df60bd",
       "style": "IPY_MODEL_274824f57fb849328e00eeb2409e92a9",
       "value": "<h4 style=\"font-size:14px;\">Welche Beispiele zeigen direkte Rekursion?</h4>"
      }
     },
     "d5948514ad1b446ea9e3195ca19465ad": {
      "model_module": "@jupyter-widgets/controls",
      "model_module_version": "1.5.0",
      "model_name": "ButtonStyleModel",
      "state": {}
     },
     "d7216f7c8cbc428597f1cf06a88ed467": {
      "model_module": "@jupyter-widgets/controls",
      "model_module_version": "1.5.0",
      "model_name": "DescriptionStyleModel",
      "state": {
       "description_width": ""
      }
     },
     "d81e3c318a384f64bfcb04766a59a722": {
      "model_module": "@jupyter-widgets/controls",
      "model_module_version": "1.5.0",
      "model_name": "HTMLModel",
      "state": {
       "layout": "IPY_MODEL_dc9828373cc143efa9c0d9c93fd5f8fe",
       "style": "IPY_MODEL_d7216f7c8cbc428597f1cf06a88ed467",
       "value": "<h4 style=\"font-size:14px;\">Wie ist im NLTK vorzugehen, wenn ein (wohlgeformter) Satz von einer Grammatik nicht erkannt wird?</h4>"
      }
     },
     "d837afb758064b2e99955fc0cf3eeba1": {
      "model_module": "@jupyter-widgets/controls",
      "model_module_version": "1.5.0",
      "model_name": "HTMLModel",
      "state": {
       "layout": "IPY_MODEL_89270716edc3449b917389f8984ed5c3",
       "style": "IPY_MODEL_485b46cd63d8463da59c848672a7119d",
       "value": "<h4 style=\"font-size:14px;\">Welche Beispiele zeigen direkte Rekursion?</h4>"
      }
     },
     "d83a83c79a2942659bd964202d3d972d": {
      "model_module": "@jupyter-widgets/controls",
      "model_module_version": "1.5.0",
      "model_name": "HTMLModel",
      "state": {
       "layout": "IPY_MODEL_f819749f0088439e8b70a2c701c6da68",
       "style": "IPY_MODEL_19908a35996b474fa75d6967bb1d73ae",
       "value": "<i>Markieren Sie <ins>alle</ins> passenden Antworten: </i>"
      }
     },
     "d8f3545b504e4825a4f44839b92f6589": {
      "model_module": "@jupyter-widgets/controls",
      "model_module_version": "1.5.0",
      "model_name": "ButtonModel",
      "state": {
       "description": "Korrekt?",
       "layout": "IPY_MODEL_9371a640bbbf47d9bacc914438800a63",
       "style": "IPY_MODEL_8750c8afe3884f4c8fc42b145b79038d"
      }
     },
     "d97a7e9d6dc8474583ac2f190a1fa774": {
      "model_module": "@jupyter-widgets/controls",
      "model_module_version": "1.5.0",
      "model_name": "DescriptionStyleModel",
      "state": {
       "description_width": "initial"
      }
     },
     "da5496a2cf6c4fc0bc5e0fec820b40d9": {
      "model_module": "@jupyter-widgets/controls",
      "model_module_version": "1.5.0",
      "model_name": "VBoxModel",
      "state": {
       "children": [
        "IPY_MODEL_d1903bc7030a422eb9411d242ff037aa",
        "IPY_MODEL_f8b51b3028ed451f8f8ddc487226f1c3",
        "IPY_MODEL_555a196815694aa7b1eacd2cc070cae2"
       ],
       "layout": "IPY_MODEL_360fdb313af548dbace4c2827a157d2a"
      }
     },
     "dab4dd4ecc1047de9aad9b511037ed11": {
      "model_module": "@jupyter-widgets/base",
      "model_module_version": "1.2.0",
      "model_name": "LayoutModel",
      "state": {}
     },
     "dc36e078895e46909acc29c6a378aadb": {
      "model_module": "@jupyter-widgets/controls",
      "model_module_version": "1.5.0",
      "model_name": "HTMLModel",
      "state": {
       "layout": "IPY_MODEL_ccdfdb20dc794789875af0ec6f2ed1e2",
       "style": "IPY_MODEL_940fce987115410d9f0bcb764d1e7bcf",
       "value": "<h4 style=\"font-size:14px;\">Welche Beispiele sind rechtsrekursiv?</h4>"
      }
     },
     "dc9828373cc143efa9c0d9c93fd5f8fe": {
      "model_module": "@jupyter-widgets/base",
      "model_module_version": "1.2.0",
      "model_name": "LayoutModel",
      "state": {}
     },
     "dd6dd6c5a1874a058bf1b33872062cf4": {
      "model_module": "@jupyter-widgets/controls",
      "model_module_version": "1.5.0",
      "model_name": "HTMLModel",
      "state": {
       "layout": "IPY_MODEL_6d447971cfb749d0ad2df793f48295d5",
       "style": "IPY_MODEL_9339985079cc4921b6030fff9708e6d6",
       "value": "<i>Wählen Sie die <ins>eine</ins> korrekte Antwort aus: </i>"
      }
     },
     "dd8cc609abbc472ca7ff2a57a86d912d": {
      "model_module": "@jupyter-widgets/controls",
      "model_module_version": "1.5.0",
      "model_name": "DescriptionStyleModel",
      "state": {
       "description_width": "initial"
      }
     },
     "dda80e33d09a44cab741dbfb0706734a": {
      "model_module": "@jupyter-widgets/base",
      "model_module_version": "1.2.0",
      "model_name": "LayoutModel",
      "state": {}
     },
     "de95f764acfe4cba9ad0b3c97d96638f": {
      "model_module": "@jupyter-widgets/base",
      "model_module_version": "1.2.0",
      "model_name": "LayoutModel",
      "state": {
       "width": "600px"
      }
     },
     "def95c5d20da45e58691c1f028bf53da": {
      "model_module": "@jupyter-widgets/controls",
      "model_module_version": "1.5.0",
      "model_name": "HTMLModel",
      "state": {
       "layout": "IPY_MODEL_bec14afd93374559b58ab57750ed1562",
       "style": "IPY_MODEL_1ea1fde16e5a4d4cacf1e1240ab0bef2",
       "value": "<h4 style=\"font-size:14px;\">Welche Beispiele für Phrasenstrukturregeln sind linksrekursiv?</h4>"
      }
     },
     "df05ace2a733441c86ccf189868b2715": {
      "model_module": "@jupyter-widgets/controls",
      "model_module_version": "1.5.0",
      "model_name": "ButtonModel",
      "state": {
       "description": "Lösung zeigen",
       "layout": "IPY_MODEL_cdf50bca69ab46d8b860dc0f171dab64",
       "style": "IPY_MODEL_f895989082334bc990bd531c75e8fc9c"
      }
     },
     "df39b5796cb846ddb7d7876a329577d3": {
      "model_module": "@jupyter-widgets/base",
      "model_module_version": "1.2.0",
      "model_name": "LayoutModel",
      "state": {}
     },
     "df39d64a30f1491cbe29cd68c5355bda": {
      "model_module": "@jupyter-widgets/controls",
      "model_module_version": "1.5.0",
      "model_name": "DescriptionStyleModel",
      "state": {
       "description_width": "initial"
      }
     },
     "e15dc7968e3b4a4d8b2722b64da1f50f": {
      "model_module": "@jupyter-widgets/controls",
      "model_module_version": "1.5.0",
      "model_name": "DescriptionStyleModel",
      "state": {
       "description_width": "initial"
      }
     },
     "e223f05abf464096bdfc2b377554943d": {
      "model_module": "@jupyter-widgets/controls",
      "model_module_version": "1.5.0",
      "model_name": "HBoxModel",
      "state": {
       "children": [
        "IPY_MODEL_4becbed4d2a641179d8cec1d2ac73cfd",
        "IPY_MODEL_8c38a6d5fb774ea88decadc25137b4ad"
       ],
       "layout": "IPY_MODEL_33a03329004b4f46a60170020778d132"
      }
     },
     "e3c9e8a53f374679b0c21fcaf4b3b59a": {
      "model_module": "@jupyter-widgets/controls",
      "model_module_version": "1.5.0",
      "model_name": "CheckboxModel",
      "state": {
       "description": "NOM -> NOM PP",
       "disabled": false,
       "layout": "IPY_MODEL_2ae58d024b8245d0bc8dc8fd636ac814",
       "style": "IPY_MODEL_266e239e2cef434d8e6dfa80de229e41",
       "value": false
      }
     },
     "e4166627d6d54a99b6aca68fe015989b": {
      "model_module": "@jupyter-widgets/controls",
      "model_module_version": "1.5.0",
      "model_name": "HTMLModel",
      "state": {
       "layout": "IPY_MODEL_25f114b783434854a92c63673776be87",
       "style": "IPY_MODEL_21aa9e185af94428be313b4e06ecd16e",
       "value": "<i>Vervollständigen Sie die Listcomprehension, indem sie an den Stellen der Unterstriche die richtigen Funktionen einsetzen.</i>"
      }
     },
     "e698487ce48d43fb97df5d7937057612": {
      "model_module": "@jupyter-widgets/base",
      "model_module_version": "1.2.0",
      "model_name": "LayoutModel",
      "state": {}
     },
     "e94dc0425be74948bdb634dc5f1f7f06": {
      "model_module": "@jupyter-widgets/controls",
      "model_module_version": "1.5.0",
      "model_name": "DescriptionStyleModel",
      "state": {
       "description_width": "initial"
      }
     },
     "e94f797e698642c7ba1c24106e9ce7eb": {
      "model_module": "@jupyter-widgets/controls",
      "model_module_version": "1.5.0",
      "model_name": "HTMLModel",
      "state": {
       "layout": "IPY_MODEL_1e5d5b73d0ce4f869bd1f8bf60be1b56",
       "style": "IPY_MODEL_265549992226486bb826ae5ea923c5c2",
       "value": "<h4 style=\"font-size:14px;\">Wie können im NLTK die Regeln einer Grammatik ausgegeben werden?</h4>"
      }
     },
     "e97f6a4a16ba4e3dad9e1e0edfc25de7": {
      "model_module": "@jupyter-widgets/base",
      "model_module_version": "1.2.0",
      "model_name": "LayoutModel",
      "state": {}
     },
     "ea2e063200a6473f9dc36c430968a056": {
      "model_module": "@jupyter-widgets/base",
      "model_module_version": "1.2.0",
      "model_name": "LayoutModel",
      "state": {}
     },
     "ea479db828154c358a87482ab0bf9197": {
      "model_module": "@jupyter-widgets/controls",
      "model_module_version": "1.5.0",
      "model_name": "HTMLModel",
      "state": {
       "layout": "IPY_MODEL_dab4dd4ecc1047de9aad9b511037ed11",
       "style": "IPY_MODEL_b105145233294063bca0b3118df0ae2e",
       "value": "<h4 style=\"font-size:14px;\">Welche Beispiele für Phrasenstrukturregeln sind linksrekursiv?</h4>"
      }
     },
     "eadc97e8fd4e4dc4b59684829d9f0114": {
      "model_module": "@jupyter-widgets/controls",
      "model_module_version": "1.5.0",
      "model_name": "VBoxModel",
      "state": {
       "children": [
        "IPY_MODEL_992d08dad4ec4c0ba45e9ab3b04e2a7d",
        "IPY_MODEL_a43ed6d43fa74be096588ca1b55b833f",
        "IPY_MODEL_36e3c191b2d94b6a9547feb1b34cdb69",
        "IPY_MODEL_20e7c79cc6ef4e10be92ee957d677c3a"
       ],
       "layout": "IPY_MODEL_1c3920aa17324eb7a7dd9b5c31b8bf1a"
      }
     },
     "ebfc418ecc1b4bc4abd5058b56707197": {
      "model_module": "@jupyter-widgets/base",
      "model_module_version": "1.2.0",
      "model_name": "LayoutModel",
      "state": {
       "width": "350px"
      }
     },
     "ec8823ada5184bb38fe592e6d4102622": {
      "model_module": "@jupyter-widgets/base",
      "model_module_version": "1.2.0",
      "model_name": "LayoutModel",
      "state": {}
     },
     "ecc9c9a5ec094beda9bc47f21d919494": {
      "model_module": "@jupyter-widgets/base",
      "model_module_version": "1.2.0",
      "model_name": "LayoutModel",
      "state": {}
     },
     "edcd46593bc346af819d7c78d4bd4edd": {
      "model_module": "@jupyter-widgets/controls",
      "model_module_version": "1.5.0",
      "model_name": "DescriptionStyleModel",
      "state": {
       "description_width": ""
      }
     },
     "eddc1ef00c2a4a1a865607e770ec357d": {
      "model_module": "@jupyter-widgets/controls",
      "model_module_version": "1.5.0",
      "model_name": "DescriptionStyleModel",
      "state": {
       "description_width": "initial"
      }
     },
     "ee0580be38cd4e139ffded23eb8b0a18": {
      "model_module": "@jupyter-widgets/base",
      "model_module_version": "1.2.0",
      "model_name": "LayoutModel",
      "state": {}
     },
     "ee43fc94226d4733952e1a9b0db0f693": {
      "model_module": "@jupyter-widgets/controls",
      "model_module_version": "1.5.0",
      "model_name": "CheckboxModel",
      "state": {
       "description": "NP -> DET N PP",
       "disabled": false,
       "layout": "IPY_MODEL_09647100083d41469129369e66071bc3",
       "style": "IPY_MODEL_0715f005bf8a4cdfa5077c0e76bbce88",
       "value": false
      }
     },
     "ef218a6b84ab44cc89009ce4e397524c": {
      "model_module": "@jupyter-widgets/controls",
      "model_module_version": "1.5.0",
      "model_name": "ButtonModel",
      "state": {
       "description": "Korrekt?",
       "layout": "IPY_MODEL_8c629294ddfe4a789c0b7d9ab9aab7ab",
       "style": "IPY_MODEL_bda6627c92304b62b5637f76162c98ee"
      }
     },
     "ef794021b3cc4314a6724365f6d87220": {
      "model_module": "@jupyter-widgets/controls",
      "model_module_version": "1.5.0",
      "model_name": "TextareaModel",
      "state": {
       "layout": "IPY_MODEL_a486f936db88484da6f22861afac15ad",
       "placeholder": "Type something",
       "style": "IPY_MODEL_61fc205167ac4967ae3f6e5ee995426a",
       "value": "for p in grammar1.________(): _______(p)"
      }
     },
     "f26479cbb74149d792412d1ec584c737": {
      "model_module": "@jupyter-widgets/base",
      "model_module_version": "1.2.0",
      "model_name": "LayoutModel",
      "state": {}
     },
     "f2e2671185bf4a1abdb001daf2a1eadb": {
      "model_module": "@jupyter-widgets/controls",
      "model_module_version": "1.5.0",
      "model_name": "CheckboxModel",
      "state": {
       "description": "PP -> P NP",
       "disabled": false,
       "layout": "IPY_MODEL_bef1f14cc8de463bad6bbedaf4a1e3bd",
       "style": "IPY_MODEL_a41f3bb0161649148123991124b83890",
       "value": false
      }
     },
     "f304fd4e6f9c42b99403dba10ab49217": {
      "model_module": "@jupyter-widgets/controls",
      "model_module_version": "1.5.0",
      "model_name": "HTMLModel",
      "state": {
       "layout": "IPY_MODEL_32fbb435219849f48b495343cea96543",
       "style": "IPY_MODEL_63ef7c3b02534214942f5e780ecb4dac",
       "value": "<i>Markieren Sie <ins>alle</ins> passenden Antworten: </i>"
      }
     },
     "f4177f079a7744beb097486fdc89ce33": {
      "model_module": "@jupyter-widgets/controls",
      "model_module_version": "1.5.0",
      "model_name": "VBoxModel",
      "state": {
       "children": [
        "IPY_MODEL_a986d2f134fc41d8907475d03247d262",
        "IPY_MODEL_9fef220426c349549484aa76cbf4f846",
        "IPY_MODEL_cd4a3eb73fb849d9bf465320892050f6"
       ],
       "layout": "IPY_MODEL_504e54d56c9b4768a23c7995d7cbe25c"
      }
     },
     "f5b0ddaaf1c34d329bcec41cffbb8785": {
      "model_module": "@jupyter-widgets/controls",
      "model_module_version": "1.5.0",
      "model_name": "ButtonModel",
      "state": {
       "description": "Korrekt?",
       "layout": "IPY_MODEL_d3de1453fa244e42995c04d732c1aec7",
       "style": "IPY_MODEL_7370ffa0523143219afa8f32666d0cdd"
      }
     },
     "f639e13d78364bdb9a72a217df6afec2": {
      "model_module": "@jupyter-widgets/base",
      "model_module_version": "1.2.0",
      "model_name": "LayoutModel",
      "state": {
       "justify_content": "center"
      }
     },
     "f72daef816534e8cab4e9ded846470db": {
      "model_module": "@jupyter-widgets/controls",
      "model_module_version": "1.5.0",
      "model_name": "VBoxModel",
      "state": {
       "children": [
        "IPY_MODEL_c2bcf537e3894694a2484ee15d22a2ae",
        "IPY_MODEL_f97bec49cf2747a6abc98a4fd3c8d2d3",
        "IPY_MODEL_3105d194556948c1908f01d659fa8b85"
       ],
       "layout": "IPY_MODEL_292d37816a014dfeba60bd6c64d2beb4"
      }
     },
     "f733143503c94172a0147097f085fd96": {
      "model_module": "@jupyter-widgets/controls",
      "model_module_version": "1.5.0",
      "model_name": "CheckboxModel",
      "state": {
       "description": "Grammatik neu einlesen",
       "disabled": false,
       "layout": "IPY_MODEL_55b55e5f30c24de69644600c223fdced",
       "style": "IPY_MODEL_b979904bbbf547e8806e1cad966eed66",
       "value": false
      }
     },
     "f819749f0088439e8b70a2c701c6da68": {
      "model_module": "@jupyter-widgets/base",
      "model_module_version": "1.2.0",
      "model_name": "LayoutModel",
      "state": {
       "justify_content": "center"
      }
     },
     "f895989082334bc990bd531c75e8fc9c": {
      "model_module": "@jupyter-widgets/controls",
      "model_module_version": "1.5.0",
      "model_name": "ButtonStyleModel",
      "state": {}
     },
     "f8b51b3028ed451f8f8ddc487226f1c3": {
      "model_module": "@jupyter-widgets/controls",
      "model_module_version": "1.5.0",
      "model_name": "CheckboxModel",
      "state": {
       "description": "NOM -> NOM PP",
       "disabled": false,
       "layout": "IPY_MODEL_8ccccad91c6a4d7b94e3d7ec97a4d796",
       "style": "IPY_MODEL_a20d9a6eb771405da5e6579b71c8f0d4",
       "value": false
      }
     },
     "f97bec49cf2747a6abc98a4fd3c8d2d3": {
      "model_module": "@jupyter-widgets/controls",
      "model_module_version": "1.5.0",
      "model_name": "CheckboxModel",
      "state": {
       "description": "NOM -> NOM PP",
       "disabled": false,
       "layout": "IPY_MODEL_5722854a23da41be84fea7accecd6bb6",
       "style": "IPY_MODEL_5212a72b56764ee59e3fbde6153a5ba6",
       "value": false
      }
     },
     "f9d0b84f0cf242198d4cd2b8fffa9c12": {
      "model_module": "@jupyter-widgets/base",
      "model_module_version": "1.2.0",
      "model_name": "LayoutModel",
      "state": {
       "width": "600px"
      }
     },
     "fb909ab6747348a2bc479e70495ea028": {
      "model_module": "@jupyter-widgets/controls",
      "model_module_version": "1.5.0",
      "model_name": "CheckboxModel",
      "state": {
       "description": "PP -> P NP",
       "disabled": false,
       "layout": "IPY_MODEL_cbba4044ba2047b096e6c0cc5cdf27c8",
       "style": "IPY_MODEL_e94dc0425be74948bdb634dc5f1f7f06",
       "value": false
      }
     },
     "fb91368ca87642cd96cd6bb32b335727": {
      "model_module": "@jupyter-widgets/controls",
      "model_module_version": "1.5.0",
      "model_name": "HTMLModel",
      "state": {
       "layout": "IPY_MODEL_5a3165542f924875af30561ea41a9fa0",
       "style": "IPY_MODEL_81dc2691dfb840d580dc82bbac7cd487",
       "value": "<h4 style=\"font-size:14px;\">Wie ist im NLTK vorzugehen, wenn ein (wohlgeformter) Satz von einer Grammatik nicht erkannt wird?</h4>"
      }
     },
     "fbb6a31a4d764feca28ce6bdf6b531e8": {
      "model_module": "@jupyter-widgets/controls",
      "model_module_version": "1.5.0",
      "model_name": "ButtonModel",
      "state": {
       "description": "Korrekt?",
       "layout": "IPY_MODEL_415e5efdb9da4071b5fd4601c98a7516",
       "style": "IPY_MODEL_adfa79523cc749e9806767910ad03827"
      }
     },
     "fcdc0fa188e34730a6c44d1ee6a1c9d7": {
      "model_module": "@jupyter-widgets/base",
      "model_module_version": "1.2.0",
      "model_name": "LayoutModel",
      "state": {}
     },
     "ff25f2bccbd947759f33a53f009f91cd": {
      "model_module": "@jupyter-widgets/controls",
      "model_module_version": "1.5.0",
      "model_name": "CheckboxModel",
      "state": {
       "description": "NP -> DET N PP",
       "disabled": false,
       "layout": "IPY_MODEL_0f7b16451c7a4da8a940d419842909ff",
       "style": "IPY_MODEL_b542ed7c542f46328b165a7ed7869991",
       "value": false
      }
     },
     "ffe0955f865a4904b4ce64631cff6d7b": {
      "model_module": "@jupyter-widgets/controls",
      "model_module_version": "1.5.0",
      "model_name": "CheckboxModel",
      "state": {
       "description": "NP -> NP",
       "disabled": false,
       "layout": "IPY_MODEL_de95f764acfe4cba9ad0b3c97d96638f",
       "style": "IPY_MODEL_7541a3b26eb64e398dbed05cbec7e515",
       "value": false
      }
     }
    },
    "version_major": 2,
    "version_minor": 0
   }
  }
 },
 "nbformat": 4,
 "nbformat_minor": 2
}
