{
 "cells": [
  {
   "cell_type": "markdown",
   "metadata": {
    "slideshow": {
     "slide_type": "slide"
    }
   },
   "source": [
    "***Vorlesung 'Syntax natürlicher Sprachen', WS 2019/20***\n",
    "\n",
    "---\n",
    "# Übung 6 (Lösung)"
   ]
  },
  {
   "cell_type": "code",
   "execution_count": 1,
   "metadata": {
    "slideshow": {
     "slide_type": "fragment"
    }
   },
   "outputs": [],
   "source": [
    "from exercises_6 import *\n",
    "from questions import aufgabe\n",
    "from nltk.tree import Tree\n",
    "from nltk import FeatStruct\n",
    "from sklearn.metrics import accuracy_score"
   ]
  },
  {
   "cell_type": "markdown",
   "metadata": {
    "slideshow": {
     "slide_type": "slide"
    }
   },
   "source": [
    "---\n",
    "## Aufgabe 1: Kongruenz 1.0\n",
    "#### Betrachten Sie die folgenden Sätze. Offensichtlich besteht zwischen Artikel und Nomen einer Nominalphrase Kongruenz im Genus.\n",
    "####  Nutzen Sie Merkmalstrukturen in einem Python-Skript zur Überprüfung dieser Kongruenz. Ihr Skript sollte alle untenstehenden Beispiele korrekt als grammatisch/ungrammatisch klassifizieren können."
   ]
  },
  {
   "cell_type": "markdown",
   "metadata": {
    "slideshow": {
     "slide_type": "subslide"
    }
   },
   "source": [
    "  \n",
    "1. - *Der Löffel ist aus Silber.*\n",
    "   - *&ast; Der Gabel ist aus Silber.*\n",
    "   - *&ast; Der Messer ist aus Silber.* <p>\n",
    "    \n",
    "2. - *&ast; Die Löffel ist aus Silber.* \n",
    "   - *Die Gabel ist aus Silber.*\n",
    "   - *&ast; Die Messer ist aus Silber.* <p>\n",
    "   \n",
    "3. - *&ast; Das Löffel ist aus Silber.*\n",
    "   - *&ast; Das Gabel ist aus Silber.*\n",
    "   - *Das Messer ist aus Silber.*"
   ]
  },
  {
   "cell_type": "code",
   "execution_count": 2,
   "metadata": {
    "slideshow": {
     "slide_type": "subslide"
    }
   },
   "outputs": [],
   "source": [
    "test_cases = [\n",
    "    (det, noun)\n",
    "    for det in [\"der\", \"die\", \"das\"]\n",
    "    for noun in [\"Löffel\", \"Gabel\", \"Messer\"]\n",
    "]\n",
    "truth = [\n",
    "    True, False, False,\n",
    "    False, True, False,\n",
    "    False, False, True\n",
    "]"
   ]
  },
  {
   "cell_type": "code",
   "execution_count": 3,
   "metadata": {
    "slideshow": {
     "slide_type": "fragment"
    }
   },
   "outputs": [
    {
     "data": {
      "text/plain": [
       "[('der', 'Löffel'),\n",
       " ('der', 'Gabel'),\n",
       " ('der', 'Messer'),\n",
       " ('die', 'Löffel'),\n",
       " ('die', 'Gabel'),\n",
       " ('die', 'Messer'),\n",
       " ('das', 'Löffel'),\n",
       " ('das', 'Gabel'),\n",
       " ('das', 'Messer')]"
      ]
     },
     "execution_count": 3,
     "metadata": {},
     "output_type": "execute_result"
    }
   ],
   "source": [
    "test_cases"
   ]
  },
  {
   "cell_type": "code",
   "execution_count": 4,
   "metadata": {
    "slideshow": {
     "slide_type": "subslide"
    }
   },
   "outputs": [],
   "source": [
    "lexicon = {\n",
    "    \"der\": FeatStruct(GEN=\"mask\"),\n",
    "    \"die\": FeatStruct(GEN=\"fem\"),\n",
    "    \"das\": FeatStruct(GEN=\"neutr\"),\n",
    "    \"Messer\": FeatStruct(CAT=\"N\", GEN=\"neutr\"),\n",
    "    \"Gabel\": FeatStruct(CAT=\"N\", GEN=\"fem\"),\n",
    "    \"Löffel\": FeatStruct(CAT=\"N\", GEN=\"mask\")\n",
    "}\n",
    "\n",
    "def is_correct(det, noun):\n",
    "    # return lexicon[det] == lexicon[noun]\n",
    "    return lexicon[det].unify(lexicon[noun]) is not None"
   ]
  },
  {
   "cell_type": "code",
   "execution_count": 5,
   "metadata": {},
   "outputs": [
    {
     "data": {
      "text/plain": [
       "[CAT='N', GEN='mask']"
      ]
     },
     "execution_count": 5,
     "metadata": {},
     "output_type": "execute_result"
    }
   ],
   "source": [
    "lexicon[\"der\"].unify(lexicon[\"Löffel\"])"
   ]
  },
  {
   "cell_type": "code",
   "execution_count": 6,
   "metadata": {
    "scrolled": true,
    "slideshow": {
     "slide_type": "subslide"
    }
   },
   "outputs": [
    {
     "name": "stdout",
     "output_type": "stream",
     "text": [
      "Accuracy: 100.00 %\n"
     ]
    }
   ],
   "source": [
    "# Evaluation\n",
    "pred = []\n",
    "for nomPhr in test_cases:\n",
    "    pred.append(is_correct(*nomPhr))\n",
    "\n",
    "print(\"Accuracy: {:.2f} %\".format(accuracy_score(truth, pred)*100))"
   ]
  },
  {
   "cell_type": "markdown",
   "metadata": {
    "slideshow": {
     "slide_type": "slide"
    }
   },
   "source": [
    "---\n",
    "## Aufgabe 2: Semantische Merkmalstrukturen\n",
    "#### Implementieren Sie die folgenden Merkmalstrukturen als `nltk.FeatStruct` und schreiben Sie ein Programm, das für einen gegebenen Satz die richtige Merkmalstruktur aus dem Lexikon auswählt und die Lücken für Subjekt und Objekt des Satzes füllt. Geben Sie anschließend die vollständige Merkmalstruktur auf der Standardausgabe aus."
   ]
  },
  {
   "cell_type": "markdown",
   "metadata": {
    "slideshow": {
     "slide_type": "subslide"
    }
   },
   "source": [
    "$$\n",
    "\\left [ % draw the opening left bracket\n",
    "\\begin{array}{ll}   % begin a two column array\n",
    "   CAT & V \\\\\n",
    "   LEMMA & \\text{folgen} \\\\\n",
    "   SYN &  \\left  [ \\begin{array}{ll}\n",
    "                        SBJ & \\boxed{1}\\\\\n",
    "                        OBJ & \\boxed{2} \\\\     \n",
    "                    \\end{array} \n",
    "           \\right  ]  \\\\\n",
    "   SEM   & \\left [ \\begin{array}{ll}\n",
    "                          AGT & \\boxed{1} \\\\\n",
    "                          PAT & \\boxed{2} \\\\\n",
    "                   \\end{array}\n",
    "           \\right ]\n",
    "\\end{array} % end the outer array\n",
    "\\right ]    % closing right bracket\n",
    "~~~~~~~~~~\n",
    "\\left [ % draw the opening left bracket\n",
    "\\begin{array}{ll}   % begin a two column array\n",
    "   CAT & V \\\\\n",
    "   LEMMA & \\text{überraschen} \\\\\n",
    "   SYN &  \\left  [ \\begin{array}{ll}\n",
    "                        SBJ & \\boxed{1}\\\\\n",
    "                        OBJ & \\boxed{2} \\\\     \n",
    "                    \\end{array} \n",
    "           \\right  ]  \\\\\n",
    "   SEM   & \\left [ \\begin{array}{ll}\n",
    "                          SRC & \\boxed{1} \\\\\n",
    "                          EXP & \\boxed{2} \\\\\n",
    "                   \\end{array}\n",
    "           \\right ]\n",
    "\\end{array} % end the outer array\n",
    "\\right ]    % closing right bracket\n",
    "$$"
   ]
  },
  {
   "cell_type": "markdown",
   "metadata": {
    "slideshow": {
     "slide_type": "subslide"
    }
   },
   "source": [
    "#### _Anmerkung_: Sie dürfen annehmen, dass  wir es nur mit sehr einfachen Sätzen zu tun haben, in denen das Token direkt vor dem Verb dem Subjekt und das Token direkt danach dem Objekt entspricht.\n",
    "\n",
    "#### Testen Sie Ihr Programm mit den folgenden Sätzen:"
   ]
  },
  {
   "cell_type": "code",
   "execution_count": 7,
   "metadata": {
    "slideshow": {
     "slide_type": "fragment"
    }
   },
   "outputs": [],
   "source": [
    "sentences = [\n",
    "   \"Der Hund ist mir bis nach Hause gefolgt!\",\n",
    "   \"Das überrascht mich doch sehr!\",\n",
    "   \"Wer folgt wem auf Twitter?\",\n",
    "   \"John überrascht Jane mit einer richtigen Antwort.\" \n",
    "]"
   ]
  },
  {
   "cell_type": "code",
   "execution_count": 8,
   "metadata": {
    "slideshow": {
     "slide_type": "subslide"
    }
   },
   "outputs": [],
   "source": [
    "lexicon = {\n",
    "    \"folgen\": FeatStruct(\"[CAT=V, LEMMA=folgen,\"+\n",
    "                        \"SYN=[SBJ=?x, OBJ=?y],\"+\n",
    "                        \"SEM=[AGT=?x, PAT=?y]]\"\n",
    "                       ),\n",
    "    \"überraschen\": FeatStruct(\"[CAT=V, LEMMA=ueberraschen,\"+\n",
    "                        \"SYN=[SBJ=?x, OBJ=?y],\"+\n",
    "                        \"SEM=[SRC=?x, EXP=?y]]\"\n",
    "                             )\n",
    "}"
   ]
  },
  {
   "cell_type": "code",
   "execution_count": 9,
   "metadata": {
    "slideshow": {
     "slide_type": "subslide"
    }
   },
   "outputs": [],
   "source": [
    "import spacy\n",
    "nlp = spacy.load('de_core_news_sm')"
   ]
  },
  {
   "cell_type": "code",
   "execution_count": 10,
   "metadata": {
    "slideshow": {
     "slide_type": "subslide"
    }
   },
   "outputs": [],
   "source": [
    "#  In: sentence as a string\n",
    "# Out: semantic feature structure\n",
    "def semantic_parse(sentence):\n",
    "    analyzed = nlp(sentence)\n",
    "    sbj, obj, verb = None, None, None\n",
    "    for token in analyzed:\n",
    "        if token.dep_ == 'sb':\n",
    "            sbj = token.text\n",
    "        elif token.dep_ == 'oa' or token.dep_ == 'da':\n",
    "            obj = token.text\n",
    "        elif token.pos_ == 'VERB':\n",
    "            verb = token.lemma_\n",
    "    if sbj is None or obj is None or verb is None:\n",
    "        raise RuntimeError('I could not identify all relevant parts: {} - {} - {}'.format(sbj, verb, obj))\n",
    "    return lexicon[verb].unify(\n",
    "        FeatStruct(SYN=FeatStruct(SBJ=sbj, OBJ=obj))\n",
    "    )"
   ]
  },
  {
   "cell_type": "code",
   "execution_count": 11,
   "metadata": {
    "slideshow": {
     "slide_type": "subslide"
    }
   },
   "outputs": [
    {
     "name": "stdout",
     "output_type": "stream",
     "text": [
      "\n",
      "Der Hund ist mir bis nach Hause gefolgt!\n",
      "[ CAT   = 'V'              ]\n",
      "[ LEMMA = 'folgen'         ]\n",
      "[                          ]\n",
      "[ SEM   = [ AGT = 'Hund' ] ]\n",
      "[         [ PAT = 'mir'  ] ]\n",
      "[                          ]\n",
      "[ SYN   = [ OBJ = 'mir'  ] ]\n",
      "[         [ SBJ = 'Hund' ] ]\n",
      "\n",
      "Das überrascht mich doch sehr!\n",
      "[ CAT   = 'V'              ]\n",
      "[ LEMMA = 'ueberraschen'   ]\n",
      "[                          ]\n",
      "[ SEM   = [ EXP = 'mich' ] ]\n",
      "[         [ SRC = 'Das'  ] ]\n",
      "[                          ]\n",
      "[ SYN   = [ OBJ = 'mich' ] ]\n",
      "[         [ SBJ = 'Das'  ] ]\n",
      "\n",
      "Wer folgt wem auf Twitter?\n",
      "[ CAT   = 'V'             ]\n",
      "[ LEMMA = 'folgen'        ]\n",
      "[                         ]\n",
      "[ SEM   = [ AGT = 'Wer' ] ]\n",
      "[         [ PAT = 'wem' ] ]\n",
      "[                         ]\n",
      "[ SYN   = [ OBJ = 'wem' ] ]\n",
      "[         [ SBJ = 'Wer' ] ]\n",
      "\n",
      "John überrascht Jane mit einer richtigen Antwort.\n",
      "[ CAT   = 'V'              ]\n",
      "[ LEMMA = 'ueberraschen'   ]\n",
      "[                          ]\n",
      "[ SEM   = [ EXP = 'Jane' ] ]\n",
      "[         [ SRC = 'John' ] ]\n",
      "[                          ]\n",
      "[ SYN   = [ OBJ = 'Jane' ] ]\n",
      "[         [ SBJ = 'John' ] ]\n"
     ]
    }
   ],
   "source": [
    "for sent in sentences:\n",
    "    fs = semantic_parse(sent)\n",
    "    print()\n",
    "    print(sent)\n",
    "    print(fs)"
   ]
  },
  {
   "cell_type": "markdown",
   "metadata": {
    "slideshow": {
     "slide_type": "slide"
    }
   },
   "source": [
    "---\n",
    "## Aufgabe 3: Adjektivdeklination\n",
    "\n",
    "#### Die Adjektivdeklination im Deutschen bereitet vielen Deutschlernern Schwierigkeiten. Stellen Sie sich vor, Sie wollten einem Deutschlerner plausibel machen, dass die Adjektivdeklination keine reine Willkür ist.\n",
    "\n",
    "#### Wählen Sie zur Illustration *das alte Bier* und *altes Bier*, und deklinieren Sie diese Nominalphrasen in allen vier Kasus.\n",
    "\n",
    "#### Auf welche Gesetzmäßigkeiten würden Sie hinweisen? \n",
    "\n",
    "#### Beantworten Sie auch die folgenden Fragen!"
   ]
  },
  {
   "cell_type": "markdown",
   "metadata": {
    "slideshow": {
     "slide_type": "subslide"
    }
   },
   "source": [
    "| Nominativ | altes Bier | das alte Bier\n",
    "| ---------- | ----------------- | ----------------- | \n",
    "| Genitiv | alten Biers | des alten Biers | \n",
    "| Dativ | altem Bier | dem alten Bier | \n",
    "| Akkusativ | altes Bier | das alte Bier |"
   ]
  },
  {
   "cell_type": "code",
   "execution_count": 12,
   "metadata": {
    "scrolled": false,
    "slideshow": {
     "slide_type": "subslide"
    }
   },
   "outputs": [
    {
     "data": {
      "application/vnd.jupyter.widget-view+json": {
       "model_id": "61250aafbe534020968377eca70ff6f1",
       "version_major": 2,
       "version_minor": 0
      },
      "text/plain": [
       "SingleChoice(children=(HTML(value='<h4 style=\"font-size:14px;\">Wie wird die Deklination der Nominalphrase <i>a…"
      ]
     },
     "metadata": {},
     "output_type": "display_data"
    },
    {
     "data": {
      "application/vnd.jupyter.widget-view+json": {
       "model_id": "2149fc92c93b4638bd2d9812cf97d7d5",
       "version_major": 2,
       "version_minor": 0
      },
      "text/plain": [
       "SingleChoice(children=(HTML(value='<h4 style=\"font-size:14px;\">Wie wird die Deklination der Nominalphrase <i>d…"
      ]
     },
     "metadata": {},
     "output_type": "display_data"
    },
    {
     "data": {
      "application/vnd.jupyter.widget-view+json": {
       "model_id": "7b7644ca30ad41979292d09b8a881f9c",
       "version_major": 2,
       "version_minor": 0
      },
      "text/plain": [
       "SingleChoice(children=(HTML(value='<h4 style=\"font-size:14px;\">Für die Deklination ist hier relevant, ob das A…"
      ]
     },
     "metadata": {},
     "output_type": "display_data"
    },
    {
     "data": {
      "application/vnd.jupyter.widget-view+json": {
       "model_id": "ade119dfb3d24618bd94c3823888006e",
       "version_major": 2,
       "version_minor": 0
      },
      "text/plain": [
       "MultipleChoice(children=(HTML(value='<h4 style=\"font-size:14px;\">Welche Aussagen über Adjektive stimmen?</h4>'…"
      ]
     },
     "metadata": {},
     "output_type": "display_data"
    },
    {
     "data": {
      "application/vnd.jupyter.widget-view+json": {
       "model_id": "1d13bb41591e461d8eb840283b8776c7",
       "version_major": 2,
       "version_minor": 0
      },
      "text/plain": [
       "MultipleChoice(children=(HTML(value='<h4 style=\"font-size:14px;\">Welche Aussagen gelten für Nominalphrasen mit…"
      ]
     },
     "metadata": {},
     "output_type": "display_data"
    },
    {
     "data": {
      "application/vnd.jupyter.widget-view+json": {
       "model_id": "104db772b66e4ecfaba04d2d24462705",
       "version_major": 2,
       "version_minor": 0
      },
      "text/plain": [
       "MultipleChoice(children=(HTML(value='<h4 style=\"font-size:14px;\">Welche Aussagen gelten für den Fall, dass das…"
      ]
     },
     "metadata": {},
     "output_type": "display_data"
    }
   ],
   "source": [
    "aufgabe(blatt6_3)"
   ]
  },
  {
   "cell_type": "markdown",
   "metadata": {
    "slideshow": {
     "slide_type": "slide"
    }
   },
   "source": [
    "---\n",
    "## Aufgabe 4: Diathesen\n",
    "\n",
    "#### Erläutern Sie, welche syntaktischen und welche kommunikativ-funktionalen Unterschiede zwischen den folgenden beiden Sätzen bestehen.\n",
    "\n",
    "- *Hausmeister Meier ruft die Feuerwehr an.*\n",
    "- *Die Feuerwehr wird von Hausmeister Meier angerufen.*\n",
    "\n",
    "#### Beantworten Sie auch die folgenden Fragen."
   ]
  },
  {
   "cell_type": "code",
   "execution_count": 13,
   "metadata": {
    "slideshow": {
     "slide_type": "subslide"
    }
   },
   "outputs": [
    {
     "data": {
      "application/vnd.jupyter.widget-view+json": {
       "model_id": "24169968497843798fdc7b2219b7cd64",
       "version_major": 2,
       "version_minor": 0
      },
      "text/plain": [
       "SingleChoice(children=(HTML(value='<h4 style=\"font-size:14px;\">Schildern beide Sätze denselben Sachverhalt?</h…"
      ]
     },
     "metadata": {},
     "output_type": "display_data"
    },
    {
     "data": {
      "application/vnd.jupyter.widget-view+json": {
       "model_id": "e4f2791646ea4e1aa5877c557c76cdb7",
       "version_major": 2,
       "version_minor": 0
      },
      "text/plain": [
       "MultipleChoice(children=(HTML(value='<h4 style=\"font-size:14px;\">Welche syntaktischen Unterschiede bestehen?</…"
      ]
     },
     "metadata": {},
     "output_type": "display_data"
    },
    {
     "data": {
      "application/vnd.jupyter.widget-view+json": {
       "model_id": "604382715257430293205b630c6c081e",
       "version_major": 2,
       "version_minor": 0
      },
      "text/plain": [
       "MultipleChoice(children=(HTML(value='<h4 style=\"font-size:14px;\">Welche kommunikativ-funktionalen Unterschiede…"
      ]
     },
     "metadata": {},
     "output_type": "display_data"
    }
   ],
   "source": [
    "aufgabe(blatt6_4)"
   ]
  },
  {
   "cell_type": "markdown",
   "metadata": {
    "slideshow": {
     "slide_type": "slide"
    }
   },
   "source": [
    "---\n",
    "## Aufgabe 5: Semantische Hierarchie\n",
    "\n",
    "#### Vergleichen Sie die folgenden beiden Sätze:\n",
    "- *Peter zerreißt Paul die Hose*\n",
    "- *Die Hose zerreißt*\n",
    "\n",
    "#### Wie kann im Rahmen einer funktionalen Syntaxtheorie (vgl. die semantische Hierarchie <code> Ag > Pat > Rec > Ben > Instr > Loc > Time </code>) erklärt werden, dass hier im Subjekt jeweils eine andere semantische Funktion/Rolle steht?\n",
    "\n",
    "#### Beantworten Sie die folgenden Fragen."
   ]
  },
  {
   "cell_type": "code",
   "execution_count": 14,
   "metadata": {
    "slideshow": {
     "slide_type": "subslide"
    }
   },
   "outputs": [
    {
     "data": {
      "application/vnd.jupyter.widget-view+json": {
       "model_id": "86904055dd964d908434da7d9c62b025",
       "version_major": 2,
       "version_minor": 0
      },
      "text/plain": [
       "SingleChoice(children=(HTML(value='<h4 style=\"font-size:14px;\">Was ist der bevorzugte Kandidat zur Realisierun…"
      ]
     },
     "metadata": {},
     "output_type": "display_data"
    },
    {
     "data": {
      "application/vnd.jupyter.widget-view+json": {
       "model_id": "54a15015f49e4f278a0b5598ee48c95f",
       "version_major": 2,
       "version_minor": 0
      },
      "text/plain": [
       "MultipleChoice(children=(HTML(value='<h4 style=\"font-size:14px;\">Was passiert nach semantischer Hierarchie, we…"
      ]
     },
     "metadata": {},
     "output_type": "display_data"
    },
    {
     "data": {
      "application/vnd.jupyter.widget-view+json": {
       "model_id": "bebd762d3f3c4443b5fe1359c2cbcd3d",
       "version_major": 2,
       "version_minor": 0
      },
      "text/plain": [
       "SingleChoice(children=(HTML(value='<h4 style=\"font-size:14px;\">Was ist im zweiten Satz das Subjekt?</h4>', lay…"
      ]
     },
     "metadata": {},
     "output_type": "display_data"
    }
   ],
   "source": [
    "aufgabe(blatt6_5)"
   ]
  },
  {
   "cell_type": "markdown",
   "metadata": {
    "slideshow": {
     "slide_type": "slide"
    }
   },
   "source": [
    "---\n",
    "## Aufgabe 6: Topik-Fokus\n",
    "\n",
    "#### Konstruieren Sie einen Satz, in dem die fokussierte Information am Satzanfang steht. Stellen Sie diesen Satz in einen Minimalkontext, um nachzuweisen, dass das satzeinleitende Glied in der Tat im Fokus steht.\n",
    "\n",
    "#### Ihr Satz könnte die Wörter *Affe* und *Tisch* beinhalten."
   ]
  },
  {
   "cell_type": "markdown",
   "metadata": {
    "slideshow": {
     "slide_type": "fragment"
    }
   },
   "source": [
    "Wer sitzt auf dem Tisch?\n",
    "Der Affe sitzt auf dem Tisch."
   ]
  },
  {
   "cell_type": "markdown",
   "metadata": {
    "slideshow": {
     "slide_type": "slide"
    }
   },
   "source": [
    "--- \n",
    "# Hausaufgaben"
   ]
  },
  {
   "cell_type": "markdown",
   "metadata": {
    "slideshow": {
     "slide_type": "slide"
    }
   },
   "source": [
    "---\n",
    "## Aufgabe 7: Kongruenz 2.0\n",
    "\n",
    "#### Wie wir in Aufgabe 1 gesehen haben, besteht zwischen Artikel und Nomen einer Nominalphrase Kongruenz. Durch den Satzkontext haben wir erzwungen, dass Numerus und Kasus der Beispiele immer konstant waren (Singular, Nominativ). Lassen wir diese Einschränkung weg, ergeben sich noch weitere grammatische Kombinationsmöglichkeiten.\n",
    "\n",
    "| - | Messer | Gabel | Löffel\n",
    "| --- | ----------------- | ----------------- | ----------------- |\n",
    "| der | Pl. Gen. | Sg. Gen./Dat. | Sg. Nom./Pl. Gen. |\n",
    "| des | * | * | * |\n",
    "| dem | Sg. Dat. | * | Sg. Dat. |\n",
    "| den | * | * | Sg. Akk. |\n",
    "| die | Pl. Nom./Akk. | Sg. Nom./Akk. | Pl. Nom./Akk. |\n",
    "| das | Sg. Nom./Akk. | * | * |"
   ]
  },
  {
   "cell_type": "markdown",
   "metadata": {
    "slideshow": {
     "slide_type": "subslide"
    }
   },
   "source": [
    "#### Betrachten Sie das folgende mit Merkmalstrukturen implementierte Vollformlexikon. Schreiben Sie darauf aufbauend ein Programm, dass alle 18 Kombinationen aus obenstehender Tabelle als grammatisch oder ungrammatisch klassifiziert und im ersten Fall die unifizierte(n) Merkmalstruktur(en) ausgibt."
   ]
  },
  {
   "cell_type": "code",
   "execution_count": 15,
   "metadata": {
    "slideshow": {
     "slide_type": "subslide"
    }
   },
   "outputs": [],
   "source": [
    "lexicon = {\n",
    "    \"Messer\": [\n",
    "        FeatStruct(GEN=\"neu\", NUM=\"sg\", KAS=\"nom\"),\n",
    "        FeatStruct(GEN=\"neu\", NUM=\"sg\", KAS=\"akk\"),\n",
    "        FeatStruct(GEN=\"neu\", NUM=\"sg\", KAS=\"dat\"),\n",
    "        FeatStruct(GEN=\"neu\", NUM=\"pl\", KAS=\"nom\"),\n",
    "        FeatStruct(GEN=\"neu\", NUM=\"pl\", KAS=\"akk\"),\n",
    "        FeatStruct(GEN=\"neu\", NUM=\"pl\", KAS=\"gen\")\n",
    "    ],\n",
    "    \"Gabel\": [FeatStruct(NUM=\"sg\", GEN=\"fem\")],\n",
    "    \"Löffel\": [\n",
    "        FeatStruct(GEN=\"mas\", NUM=\"sg\", KAS=\"nom\"),\n",
    "        FeatStruct(GEN=\"mas\", NUM=\"sg\", KAS=\"akk\"),\n",
    "        FeatStruct(GEN=\"mas\", NUM=\"sg\", KAS=\"dat\"),\n",
    "        FeatStruct(GEN=\"mas\", NUM=\"pl\", KAS=\"nom\"),\n",
    "        FeatStruct(GEN=\"mas\", NUM=\"pl\", KAS=\"akk\"),\n",
    "        FeatStruct(GEN=\"mas\", NUM=\"pl\", KAS=\"gen\"),\n",
    "    ],\n",
    "\n",
    "    \"der\": [\n",
    "        FeatStruct(NUM=\"sg\", GEN=\"mas\", KAS=\"nom\"),\n",
    "        FeatStruct(NUM=\"sg\", GEN=\"fem\", KAS=\"dat\"),\n",
    "        FeatStruct(NUM=\"sg\", GEN=\"fem\", KAS=\"gen\"),\n",
    "        FeatStruct(NUM=\"pl\", KAS=\"gen\")\n",
    "    ],\n",
    "    \"des\": [\n",
    "        FeatStruct(NUM=\"sg\", GEN=\"mas\", KAS=\"gen\"),\n",
    "        FeatStruct(NUM=\"sg\", GEN=\"neu\", KAS=\"gen\")\n",
    "    ],\n",
    "    \"dem\": [\n",
    "        FeatStruct(NUM=\"sg\", GEN=\"mas\", KAS=\"dat\"),\n",
    "        FeatStruct(NUM=\"sg\", GEN=\"neu\", KAS=\"dat\"),\n",
    "    ],\n",
    "    \"den\": [\n",
    "        FeatStruct(NUM=\"sg\", GEN=\"mas\", KAS=\"akk\"),\n",
    "        FeatStruct(NUM=\"pl\", KAS=\"dat\"),\n",
    "    ],\n",
    "    \"die\": [\n",
    "        FeatStruct(NUM=\"sg\", GEN=\"fem\", KAS=\"nom\"),\n",
    "        FeatStruct(NUM=\"sg\", GEN=\"fem\", KAS=\"akk\"),\n",
    "        FeatStruct(NUM=\"pl\", KAS=\"nom\"),\n",
    "        FeatStruct(NUM=\"pl\", KAS=\"akk\")\n",
    "    ],\n",
    "    \"das\": [\n",
    "        FeatStruct(NUM=\"sg\", GEN=\"neu\", KAS=\"nom\"),\n",
    "        FeatStruct(NUM=\"sg\", GEN=\"neu\", KAS=\"akk\"),\n",
    "    ]\n",
    "}"
   ]
  },
  {
   "cell_type": "code",
   "execution_count": 16,
   "metadata": {
    "slideshow": {
     "slide_type": "subslide"
    }
   },
   "outputs": [],
   "source": [
    "def predict(artikel, nomen):\n",
    "    for art_fs in lexicon[artikel]:\n",
    "        for nom_fs in lexicon[nomen]:\n",
    "            if art_fs.unify(nom_fs):\n",
    "                return True\n",
    "    return False"
   ]
  },
  {
   "cell_type": "code",
   "execution_count": 17,
   "metadata": {
    "slideshow": {
     "slide_type": "subslide"
    }
   },
   "outputs": [
    {
     "name": "stdout",
     "output_type": "stream",
     "text": [
      "Accuracy: 100%\n"
     ]
    }
   ],
   "source": [
    "test_cases = [\n",
    "    (det, noun)\n",
    "    for det in [\"der\", \"des\", \"dem\", \"den\", \"die\", \"das\"]\n",
    "    for noun in [\"Messer\", \"Löffel\", \"Gabel\"]\n",
    "]\n",
    "truth = [\n",
    "    True, True, True,\n",
    "    False, False, False,\n",
    "    True, True, False,\n",
    "    False, True, False,\n",
    "    True, True, True,\n",
    "    True, False, False\n",
    "]\n",
    "\n",
    "predictions = []\n",
    "for artikel, nomen in test_cases:\n",
    "    predictions.append(predict(artikel, nomen))\n",
    "\n",
    "print(\n",
    "    \"Accuracy: {:.0f}%\".format(\n",
    "        accuracy_score(truth, predictions)*100\n",
    "    )\n",
    ")"
   ]
  },
  {
   "cell_type": "markdown",
   "metadata": {
    "slideshow": {
     "slide_type": "slide"
    }
   },
   "source": [
    "---\n",
    "## Aufgabe 8: Deklinationsmuster\n",
    "\n",
    "#### Nach welchem Deklinationsmuster wurde in den folgenden Beispielen das Adjektiv dekliniert?\n",
    "\n",
    "- *du blöder Kerl*\n",
    "- *du dumme Gans*\n",
    "- *du albernes Huhn*\n",
    "\n",
    "#### Beantworten Sie auch die folgenden Fragen."
   ]
  },
  {
   "cell_type": "code",
   "execution_count": 18,
   "metadata": {
    "slideshow": {
     "slide_type": "subslide"
    }
   },
   "outputs": [
    {
     "data": {
      "application/vnd.jupyter.widget-view+json": {
       "model_id": "2383c8741f064304aab5ab6476a38bc3",
       "version_major": 2,
       "version_minor": 0
      },
      "text/plain": [
       "Lueckentext(children=(HTML(value='<i>Vervollständigen Sie den Lückentext: </i>', layout=Layout(justify_content…"
      ]
     },
     "metadata": {},
     "output_type": "display_data"
    }
   ],
   "source": [
    "aufgabe(blatt6_8)"
   ]
  },
  {
   "cell_type": "markdown",
   "metadata": {
    "slideshow": {
     "slide_type": "slide"
    }
   },
   "source": [
    "---\n",
    "## Aufgabe 9: Fragen zu NLTK-Kapitel 9.1\n",
    "\n",
    "#### Lesen Sie das NLTK-Teilkapitel 9.1 (’Grammatical Features’).\n",
    "#### Beantworten Sie insbesondere folgende Fragen:"
   ]
  },
  {
   "cell_type": "markdown",
   "metadata": {
    "slideshow": {
     "slide_type": "subslide"
    }
   },
   "source": [
    "---\n",
    "### Aufgabe 9 a:\n",
    "\n",
    "#### Worin besteht der Unterschied zwischen dem Einsatz von *Features* im POS-Tagging gegenüber dem Einsatz von *Features* in formalen Grammatiken?"
   ]
  },
  {
   "cell_type": "code",
   "execution_count": 19,
   "metadata": {
    "slideshow": {
     "slide_type": "fragment"
    }
   },
   "outputs": [
    {
     "data": {
      "application/vnd.jupyter.widget-view+json": {
       "model_id": "abb8bfeff3c2443ea8bce2616ad8b19f",
       "version_major": 2,
       "version_minor": 0
      },
      "text/plain": [
       "MultipleChoice(children=(HTML(value='<h4 style=\"font-size:14px;\">Wie werden Features beim POS-Tagging verwende…"
      ]
     },
     "metadata": {},
     "output_type": "display_data"
    },
    {
     "data": {
      "application/vnd.jupyter.widget-view+json": {
       "model_id": "53bcba1864834b1e941f09b7c963c4df",
       "version_major": 2,
       "version_minor": 0
      },
      "text/plain": [
       "MultipleChoice(children=(HTML(value='<h4 style=\"font-size:14px;\">Wie werden Features in formalen Grammatiken v…"
      ]
     },
     "metadata": {},
     "output_type": "display_data"
    }
   ],
   "source": [
    "aufgabe(blatt6_9a)"
   ]
  },
  {
   "cell_type": "markdown",
   "metadata": {
    "slideshow": {
     "slide_type": "subslide"
    }
   },
   "source": [
    "---\n",
    "### Aufgabe 9 b:"
   ]
  },
  {
   "cell_type": "code",
   "execution_count": 20,
   "metadata": {
    "slideshow": {
     "slide_type": "fragment"
    }
   },
   "outputs": [
    {
     "data": {
      "application/vnd.jupyter.widget-view+json": {
       "model_id": "9e13c02fc25d4cde8fc56a29c8b15376",
       "version_major": 2,
       "version_minor": 0
      },
      "text/plain": [
       "SingleChoice(children=(HTML(value='<h4 style=\"font-size:14px;\">Welche native python-Datenstruktur bietet sich …"
      ]
     },
     "metadata": {},
     "output_type": "display_data"
    }
   ],
   "source": [
    "aufgabe(blatt6_9b)"
   ]
  },
  {
   "cell_type": "markdown",
   "metadata": {
    "slideshow": {
     "slide_type": "subslide"
    }
   },
   "source": [
    "---\n",
    "### Aufgabe 9 c:"
   ]
  },
  {
   "cell_type": "code",
   "execution_count": 21,
   "metadata": {
    "scrolled": true,
    "slideshow": {
     "slide_type": "fragment"
    }
   },
   "outputs": [
    {
     "data": {
      "application/vnd.jupyter.widget-view+json": {
       "model_id": "c1c6272b85304f9aa08d916f943e7cf8",
       "version_major": 2,
       "version_minor": 0
      },
      "text/plain": [
       "SelectionList(children=(HTML(value='<h4 style=\"font-size:14px;\">Um welchen Faktor erhöht sich die Regelanzahl,…"
      ]
     },
     "metadata": {},
     "output_type": "display_data"
    }
   ],
   "source": [
    "aufgabe(blatt6_9c)"
   ]
  },
  {
   "cell_type": "markdown",
   "metadata": {
    "slideshow": {
     "slide_type": "slide"
    }
   },
   "source": [
    "---\n",
    "## Aufgabe 10: Fragen zu NLTK-Kapitel 9.2\n",
    "\n",
    "#### Lesen Sie das NLTK-Teilkapitel 9.2 (’Processing Feature Structures’): http://www.nltk.org/book/ch09.html.\n",
    "\n",
    "#### Beantworten Sie insbesondere folgende Fragen:"
   ]
  },
  {
   "cell_type": "markdown",
   "metadata": {
    "slideshow": {
     "slide_type": "subslide"
    }
   },
   "source": [
    "---\n",
    "### Aufgabe 10 a:\n",
    "#### Welchen Wert hat der feature path <code>(’spouse’, ’address’, ’number’)</code> in (22):(http://www.nltk.org/book/ch09.html#ex-dag03) ? Geben Sie einen zu diesem Pfad äquivalenten Pfad an."
   ]
  },
  {
   "cell_type": "code",
   "execution_count": 22,
   "metadata": {
    "slideshow": {
     "slide_type": "subslide"
    }
   },
   "outputs": [
    {
     "data": {
      "application/vnd.jupyter.widget-view+json": {
       "model_id": "f63c8ed3e6fc43b0a33cce7fc1dcc3c6",
       "version_major": 2,
       "version_minor": 0
      },
      "text/plain": [
       "MultipleChoice(children=(HTML(value='<h4 style=\"font-size:14px;\">Beantworten Sie die beiden obigen Fragen.</h4…"
      ]
     },
     "metadata": {},
     "output_type": "display_data"
    }
   ],
   "source": [
    "aufgabe(blatt6_10a)"
   ]
  },
  {
   "cell_type": "markdown",
   "metadata": {
    "slideshow": {
     "slide_type": "subslide"
    }
   },
   "source": [
    "---\n",
    "### Aufgabe 10 b:\n",
    "\n",
    "#### Geben Sie zwei linguistische Merkmalstrukturen FS<sub>0</sub> und FS<sub>1</sub> an, die in einer Subsumptionsbeziehung stehen (FS<sub>0</sub> ⊑ FS<sub>1</sub> ). Was kommt nach (26), Kapitel 9.2.1, dabei heraus, wenn man solche zwei Merkmalstrukturen unifiziert?"
   ]
  },
  {
   "cell_type": "code",
   "execution_count": 23,
   "metadata": {
    "slideshow": {
     "slide_type": "fragment"
    }
   },
   "outputs": [
    {
     "data": {
      "application/vnd.jupyter.widget-view+json": {
       "model_id": "3a90d9bf05ee4172a9c446aafe91824f",
       "version_major": 2,
       "version_minor": 0
      },
      "text/plain": [
       "MultipleChoice(children=(HTML(value='<h4 style=\"font-size:14px;\">Welche Beispiele erfüllen die obige Subsumpti…"
      ]
     },
     "metadata": {},
     "output_type": "display_data"
    },
    {
     "data": {
      "application/vnd.jupyter.widget-view+json": {
       "model_id": "eced0e6e256c44c1be241898a6717866",
       "version_major": 2,
       "version_minor": 0
      },
      "text/plain": [
       "MultipleChoice(children=(HTML(value='<h4 style=\"font-size:14px;\">Was gilt immer für das Ergebnis der Unifikati…"
      ]
     },
     "metadata": {},
     "output_type": "display_data"
    }
   ],
   "source": [
    "aufgabe(blatt6_10b)"
   ]
  },
  {
   "cell_type": "markdown",
   "metadata": {
    "slideshow": {
     "slide_type": "subslide"
    }
   },
   "source": [
    "---\n",
    "### Aufgabe 10 c:"
   ]
  },
  {
   "cell_type": "code",
   "execution_count": 24,
   "metadata": {
    "slideshow": {
     "slide_type": "fragment"
    }
   },
   "outputs": [
    {
     "data": {
      "application/vnd.jupyter.widget-view+json": {
       "model_id": "625c543db85f438eb8cd4affa3d3c93b",
       "version_major": 2,
       "version_minor": 0
      },
      "text/plain": [
       "MultipleChoice(children=(HTML(value='<h4 style=\"font-size:14px;\">Welche der Beispiele erfüllen die Subsumption…"
      ]
     },
     "metadata": {},
     "output_type": "display_data"
    }
   ],
   "source": [
    "aufgabe(blatt6_10c)"
   ]
  },
  {
   "cell_type": "markdown",
   "metadata": {
    "slideshow": {
     "slide_type": "subslide"
    }
   },
   "source": [
    "---\n",
    "### Aufgabe 10 d:"
   ]
  },
  {
   "cell_type": "code",
   "execution_count": 25,
   "metadata": {
    "slideshow": {
     "slide_type": "fragment"
    }
   },
   "outputs": [
    {
     "data": {
      "application/vnd.jupyter.widget-view+json": {
       "model_id": "c3a168ba65a74ab1baf24324ca6cb753",
       "version_major": 2,
       "version_minor": 0
      },
      "text/plain": [
       "MultipleChoice(children=(HTML(value='<h4 style=\"font-size:14px;\">Im Falle, dass im Zuge einer Unifikation Info…"
      ]
     },
     "metadata": {},
     "output_type": "display_data"
    }
   ],
   "source": [
    "aufgabe(blatt6_10d)"
   ]
  },
  {
   "cell_type": "markdown",
   "metadata": {
    "slideshow": {
     "slide_type": "subslide"
    }
   },
   "source": [
    "---\n",
    "### Aufgabe 10 e:"
   ]
  },
  {
   "cell_type": "code",
   "execution_count": 26,
   "metadata": {
    "slideshow": {
     "slide_type": "fragment"
    }
   },
   "outputs": [
    {
     "data": {
      "application/vnd.jupyter.widget-view+json": {
       "model_id": "b1918824962e4dc2a5451ac2ec08aafc",
       "version_major": 2,
       "version_minor": 0
      },
      "text/plain": [
       "MultipleChoice(children=(HTML(value='<h4 style=\"font-size:14px;\">Wie läßt sich im NLTK ein äquivalenter Pfad d…"
      ]
     },
     "metadata": {},
     "output_type": "display_data"
    }
   ],
   "source": [
    "aufgabe(blatt6_10e)"
   ]
  }
 ],
 "metadata": {
  "kernelspec": {
   "display_name": "Python 3",
   "language": "python",
   "name": "python3"
  },
  "language_info": {
   "codemirror_mode": {
    "name": "ipython",
    "version": 3
   },
   "file_extension": ".py",
   "mimetype": "text/x-python",
   "name": "python",
   "nbconvert_exporter": "python",
   "pygments_lexer": "ipython3",
   "version": "3.7.4"
  },
  "widgets": {
   "application/vnd.jupyter.widget-state+json": {
    "state": {
     "00013b7b8d594254b24ac0fd44e1fed3": {
      "model_module": "@jupyter-widgets/base",
      "model_module_version": "1.2.0",
      "model_name": "LayoutModel",
      "state": {
       "justify_content": "center"
      }
     },
     "0054df1386c143ddb347c1e5a191a978": {
      "model_module": "@jupyter-widgets/base",
      "model_module_version": "1.2.0",
      "model_name": "LayoutModel",
      "state": {
       "justify_content": "center"
      }
     },
     "008d95c8e70d42ffbec4334dd4a8253f": {
      "model_module": "@jupyter-widgets/controls",
      "model_module_version": "1.5.0",
      "model_name": "VBoxModel",
      "state": {
       "children": [
        "IPY_MODEL_a38aa698d0c94f1c995cdeb639124bbd",
        "IPY_MODEL_247764b722a340868c224cc4507b320c",
        "IPY_MODEL_0dfadede813d4c3a84c4dd0cb30e5cdd"
       ],
       "layout": "IPY_MODEL_4786a18de55644dd85fe6c74f09ddeeb"
      }
     },
     "009f1e8e0c2447f5a53b90e2dfdf56e4": {
      "model_module": "@jupyter-widgets/controls",
      "model_module_version": "1.5.0",
      "model_name": "DescriptionStyleModel",
      "state": {
       "description_width": "initial"
      }
     },
     "00dad81babf94e06a045ab770669f1e8": {
      "model_module": "@jupyter-widgets/controls",
      "model_module_version": "1.5.0",
      "model_name": "DescriptionStyleModel",
      "state": {
       "description_width": ""
      }
     },
     "00e07760d0a34a25809f79180d905e13": {
      "model_module": "@jupyter-widgets/controls",
      "model_module_version": "1.5.0",
      "model_name": "CheckboxModel",
      "state": {
       "description": "Keine der Alternativen",
       "disabled": false,
       "layout": "IPY_MODEL_764c27ed5e134149a099d7401dad7f61",
       "style": "IPY_MODEL_0d3217dd069f48d39a90e0c5c821ce9e",
       "value": false
      }
     },
     "00ea9eb1b3d249249ca170614df5df6c": {
      "model_module": "@jupyter-widgets/controls",
      "model_module_version": "1.5.0",
      "model_name": "DescriptionStyleModel",
      "state": {
       "description_width": ""
      }
     },
     "0106ddb6b813430c9ef317b65b92397a": {
      "model_module": "@jupyter-widgets/controls",
      "model_module_version": "1.5.0",
      "model_name": "ButtonStyleModel",
      "state": {}
     },
     "011e9623a97347a196ed6629588a3654": {
      "model_module": "@jupyter-widgets/controls",
      "model_module_version": "1.5.0",
      "model_name": "DropdownModel",
      "state": {
       "_options_labels": [
        "1",
        "10",
        "2",
        "4",
        "6",
        "8",
        "Keine der Alternativen"
       ],
       "description": "Antwort:",
       "index": 4,
       "layout": "IPY_MODEL_db081f32a7644b97aa896d749d12f541",
       "style": "IPY_MODEL_f244e6ab5beb4586a7860a76a097a45c"
      }
     },
     "012d9fc9c68a4ae3825fbbd6b6a68a69": {
      "model_module": "@jupyter-widgets/controls",
      "model_module_version": "1.5.0",
      "model_name": "ButtonModel",
      "state": {
       "description": "Korrekt?",
       "layout": "IPY_MODEL_3af44d7dbc4440d6b58b05a717d05b08",
       "style": "IPY_MODEL_d331e2aadc9d4a4881d261b84700848b"
      }
     },
     "015ad4ef53b343a5a37d018c265fc70f": {
      "model_module": "@jupyter-widgets/controls",
      "model_module_version": "1.5.0",
      "model_name": "ButtonStyleModel",
      "state": {
       "button_color": "lightgreen"
      }
     },
     "01fa13b41fe340b185d72fdd6e57054b": {
      "model_module": "@jupyter-widgets/controls",
      "model_module_version": "1.5.0",
      "model_name": "HBoxModel",
      "state": {
       "children": [
        "IPY_MODEL_985b691fc51c4ce4aaae096dc1bd4008",
        "IPY_MODEL_950928378a7a4001b4a45d25e8ae625e"
       ],
       "layout": "IPY_MODEL_3c2347e3667c4032abd192565dd77711"
      }
     },
     "01fb31af6264490ea87a5813bde479de": {
      "model_module": "@jupyter-widgets/controls",
      "model_module_version": "1.5.0",
      "model_name": "DescriptionStyleModel",
      "state": {
       "description_width": "initial"
      }
     },
     "022026b48fb742408947edb662f6e312": {
      "model_module": "@jupyter-widgets/controls",
      "model_module_version": "1.5.0",
      "model_name": "DescriptionStyleModel",
      "state": {
       "description_width": "initial"
      }
     },
     "0223da0615f74f96ab6720610586f6bc": {
      "model_module": "@jupyter-widgets/base",
      "model_module_version": "1.2.0",
      "model_name": "LayoutModel",
      "state": {
       "width": "600px"
      }
     },
     "0238d6861b5b499187d87ec76d8adad9": {
      "model_module": "@jupyter-widgets/controls",
      "model_module_version": "1.5.0",
      "model_name": "DescriptionStyleModel",
      "state": {
       "description_width": "initial"
      }
     },
     "023bbfb9e0864325a6199c108b9473e2": {
      "model_module": "@jupyter-widgets/controls",
      "model_module_version": "1.5.0",
      "model_name": "HTMLModel",
      "state": {
       "layout": "IPY_MODEL_f3f49362e8944cfbaf269dcd0bcd830c",
       "style": "IPY_MODEL_63cfd5288deb41898f162c950e6fe5c0",
       "value": "<i>Markieren Sie <ins>alle</ins> passenden Antworten: </i>"
      }
     },
     "026cbf434a4c4ccfafb62ddf2432d33b": {
      "model_module": "@jupyter-widgets/controls",
      "model_module_version": "1.5.0",
      "model_name": "DescriptionStyleModel",
      "state": {
       "description_width": "initial"
      }
     },
     "0274a81efe66470cb780b125ce13a2cd": {
      "model_module": "@jupyter-widgets/base",
      "model_module_version": "1.2.0",
      "model_name": "LayoutModel",
      "state": {}
     },
     "02b533a66129439293786145d3bb39f2": {
      "model_module": "@jupyter-widgets/controls",
      "model_module_version": "1.5.0",
      "model_name": "VBoxModel",
      "state": {
       "children": [
        "IPY_MODEL_de2d8dea75d0492e8bca14d7ebbfa97c",
        "IPY_MODEL_de33c73cec114566b62f769d7d75f4ce",
        "IPY_MODEL_03ff360bdc454adbaefe06e350e4c640"
       ],
       "layout": "IPY_MODEL_2e4d385fa2fb4030b9db32af2c770c51"
      }
     },
     "02c77443cedf4f6b82462dfa1cea3e60": {
      "model_module": "@jupyter-widgets/base",
      "model_module_version": "1.2.0",
      "model_name": "LayoutModel",
      "state": {
       "width": "250px"
      }
     },
     "02d8639349a940e49e3c15a7fa08fc29": {
      "model_module": "@jupyter-widgets/base",
      "model_module_version": "1.2.0",
      "model_name": "LayoutModel",
      "state": {}
     },
     "02def80ccc474d059b6ff91b1ba09862": {
      "model_module": "@jupyter-widgets/controls",
      "model_module_version": "1.5.0",
      "model_name": "CheckboxModel",
      "state": {
       "description": "Ausrichtung der Empathie",
       "disabled": false,
       "layout": "IPY_MODEL_26987ba691864dbdab6d02f762b3be08",
       "style": "IPY_MODEL_a62b458063d24c969e9076d614d0c14c",
       "value": false
      }
     },
     "030ff32e805f4cf7ad9c1b442dcae6a2": {
      "model_module": "@jupyter-widgets/controls",
      "model_module_version": "1.5.0",
      "model_name": "HTMLModel",
      "state": {
       "layout": "IPY_MODEL_f4412433a807428c82381e062dc2d2aa",
       "style": "IPY_MODEL_de54fa3d281d4f32998a55b8e566af6e",
       "value": "<i>Wählen Sie die <ins>eine</ins> korrekte Antwort aus: </i>"
      }
     },
     "031f6eab6cc644a19cb55d025c15f5d2": {
      "model_module": "@jupyter-widgets/controls",
      "model_module_version": "1.5.0",
      "model_name": "CheckboxModel",
      "state": {
       "description": "Sie werden aktualisiert.",
       "disabled": false,
       "layout": "IPY_MODEL_b734ea4a0b1d4d5ea8c14db27f9d526b",
       "style": "IPY_MODEL_20f614248496454aa48dcdb3023410fe",
       "value": true
      }
     },
     "0393a8b68a124edcb370f6a8ce132def": {
      "model_module": "@jupyter-widgets/base",
      "model_module_version": "1.2.0",
      "model_name": "LayoutModel",
      "state": {}
     },
     "03b31d1e330f415481c122ebce5da2d3": {
      "model_module": "@jupyter-widgets/base",
      "model_module_version": "1.2.0",
      "model_name": "LayoutModel",
      "state": {
       "width": "250px"
      }
     },
     "03be85a654044059b1d9b2764ac7e134": {
      "model_module": "@jupyter-widgets/controls",
      "model_module_version": "1.5.0",
      "model_name": "DescriptionStyleModel",
      "state": {
       "description_width": "initial"
      }
     },
     "03ff360bdc454adbaefe06e350e4c640": {
      "model_module": "@jupyter-widgets/controls",
      "model_module_version": "1.5.0",
      "model_name": "CheckboxModel",
      "state": {
       "description": "Sie werden im Vorhinein deklariert (feature lexicon)",
       "disabled": false,
       "layout": "IPY_MODEL_21b9cc626f5e4ff3950baa69a72669d0",
       "style": "IPY_MODEL_7563e77261af42f79e18723827c0ad19",
       "value": false
      }
     },
     "040964cf20e34462ae6bfdab408e9f6e": {
      "model_module": "@jupyter-widgets/controls",
      "model_module_version": "1.5.0",
      "model_name": "CheckboxModel",
      "state": {
       "description": "FS0 = [CAT = N, GEN = FEM], FS1 = [CAT = DET, GEN = FEM]",
       "disabled": false,
       "layout": "IPY_MODEL_5a132fb3c72244069bd33f3c5c8c7926",
       "style": "IPY_MODEL_bef312b8a4b74e9aa6177e00815fc16c",
       "value": true
      }
     },
     "041381e8d189459e967d137ab811c411": {
      "model_module": "@jupyter-widgets/controls",
      "model_module_version": "1.5.0",
      "model_name": "DescriptionStyleModel",
      "state": {
       "description_width": "initial"
      }
     },
     "042eae478a054fb5bdeb3fde6ca2499b": {
      "model_module": "@jupyter-widgets/controls",
      "model_module_version": "1.5.0",
      "model_name": "VBoxModel",
      "state": {
       "children": [
        "IPY_MODEL_f5aa5d6c179a4c09971743c72fad3f14",
        "IPY_MODEL_14e3b713dc4f44af949dccd012b0c889",
        "IPY_MODEL_87302441b6604aae835f15d2277111a4",
        "IPY_MODEL_1aa6f2cc316c4c81b65937dd3c93152f"
       ],
       "layout": "IPY_MODEL_1dea466b179440459f385183d37bed7d"
      }
     },
     "046bf8482b894e7a8b48a55ac3403176": {
      "model_module": "@jupyter-widgets/controls",
      "model_module_version": "1.5.0",
      "model_name": "ButtonStyleModel",
      "state": {}
     },
     "0475f6da2f2a48089449ce4c31ba3763": {
      "model_module": "@jupyter-widgets/controls",
      "model_module_version": "1.5.0",
      "model_name": "DescriptionStyleModel",
      "state": {
       "description_width": "initial"
      }
     },
     "0483f61a95834bd88b65b31aa75140ca": {
      "model_module": "@jupyter-widgets/controls",
      "model_module_version": "1.5.0",
      "model_name": "ButtonStyleModel",
      "state": {}
     },
     "04a11d267b4845298489b5719870cb55": {
      "model_module": "@jupyter-widgets/controls",
      "model_module_version": "1.5.0",
      "model_name": "ButtonModel",
      "state": {
       "description": "Recipient",
       "layout": "IPY_MODEL_516c64b2701a455bb2ca649efba80d95",
       "style": "IPY_MODEL_d2989449d1a44856aaa884157e58db34"
      }
     },
     "04baee00523249f6a74ebec58f72170b": {
      "model_module": "@jupyter-widgets/controls",
      "model_module_version": "1.5.0",
      "model_name": "CheckboxModel",
      "state": {
       "description": "!x",
       "disabled": false,
       "layout": "IPY_MODEL_503f8f23b99145c4be4f6e23264d770a",
       "style": "IPY_MODEL_65d56be3887b4d43a97fb0ed0dd06695",
       "value": false
      }
     },
     "05352a7bf53549b1a613ac60da56fd2b": {
      "model_module": "@jupyter-widgets/controls",
      "model_module_version": "1.5.0",
      "model_name": "VBoxModel",
      "state": {
       "children": [
        "IPY_MODEL_80f54efb60294bd2a02d3a5df0b47efa",
        "IPY_MODEL_b423151d46924e9bb1716570a43a9420",
        "IPY_MODEL_0950e4b48add49d28a53f0dcd793c2a2",
        "IPY_MODEL_ed9b886fcdf74be99f6205a490fdafe4"
       ],
       "layout": "IPY_MODEL_0827e395b4574363a75fa27faecbc65a"
      }
     },
     "0538fff790644701b36a4ad384930c1c": {
      "model_module": "@jupyter-widgets/base",
      "model_module_version": "1.2.0",
      "model_name": "LayoutModel",
      "state": {
       "justify_content": "center"
      }
     },
     "0559483729484abc9361fdab01d1fa25": {
      "model_module": "@jupyter-widgets/base",
      "model_module_version": "1.2.0",
      "model_name": "LayoutModel",
      "state": {}
     },
     "0573e66e913646d282c7cb33f8a79da3": {
      "model_module": "@jupyter-widgets/controls",
      "model_module_version": "1.5.0",
      "model_name": "ButtonStyleModel",
      "state": {}
     },
     "058421eb02154d5fab6b062a58ba7fe0": {
      "model_module": "@jupyter-widgets/controls",
      "model_module_version": "1.5.0",
      "model_name": "DescriptionStyleModel",
      "state": {
       "description_width": ""
      }
     },
     "0598cc694f234836b10c915070be9b1a": {
      "model_module": "@jupyter-widgets/controls",
      "model_module_version": "1.5.0",
      "model_name": "HTMLModel",
      "state": {
       "layout": "IPY_MODEL_d0c17516a2664a48b3077eda314e3442",
       "style": "IPY_MODEL_1ecc625c3d2d49e5810584a96716e598",
       "value": "<h4 style=\"font-size:14px;\">Welche Aussagen gelten für Nominalphrasen mit bestimmtem Artikel?</h4>"
      }
     },
     "059b300889774f1fb639737b3f05e8a9": {
      "model_module": "@jupyter-widgets/controls",
      "model_module_version": "1.5.0",
      "model_name": "VBoxModel",
      "state": {
       "children": [
        "IPY_MODEL_094b22c79c294d09a4422cf0e0413260",
        "IPY_MODEL_5d10ba21eaac4bf88b91f0396190dc1d",
        "IPY_MODEL_329409b3bda84899b0bee1e96528ebd9",
        "IPY_MODEL_8c7bbca280564aea90d46cff89691e31",
        "IPY_MODEL_7d6cab15ec074acd91d58c9a63cbbaa8",
        "IPY_MODEL_0752f25e64a04aa787e0f98b6e9f3663"
       ],
       "layout": "IPY_MODEL_cc02398fb2354a1ca82fadac4feed248"
      }
     },
     "05aef53e6a68442c9889456fd60013cc": {
      "model_module": "@jupyter-widgets/controls",
      "model_module_version": "1.5.0",
      "model_name": "DescriptionStyleModel",
      "state": {
       "description_width": "initial"
      }
     },
     "05d368f5c2944b6d9a0ddc4ebe97b451": {
      "model_module": "@jupyter-widgets/controls",
      "model_module_version": "1.5.0",
      "model_name": "DescriptionStyleModel",
      "state": {
       "description_width": "initial"
      }
     },
     "05d4899ae0dd488d9313ceb1e73c464e": {
      "model_module": "@jupyter-widgets/controls",
      "model_module_version": "1.5.0",
      "model_name": "ButtonStyleModel",
      "state": {}
     },
     "05d804701c334417a609b4bd7f8456ab": {
      "model_module": "@jupyter-widgets/controls",
      "model_module_version": "1.5.0",
      "model_name": "DescriptionStyleModel",
      "state": {
       "description_width": "initial"
      }
     },
     "05e0300585c343c7a1f4eb7333015536": {
      "model_module": "@jupyter-widgets/controls",
      "model_module_version": "1.5.0",
      "model_name": "HTMLModel",
      "state": {
       "layout": "IPY_MODEL_e3a29dc99467432dadc9731107413b10",
       "style": "IPY_MODEL_841d01efcc9e48dc8e60cd1ea9c54d95",
       "value": "<i>Markieren Sie <ins>alle</ins> passenden Antworten: </i>"
      }
     },
     "05edbcfb191a4dfbb56593c87c6fae77": {
      "model_module": "@jupyter-widgets/base",
      "model_module_version": "1.2.0",
      "model_name": "LayoutModel",
      "state": {}
     },
     "06095fb5c76c4199b515f97bc4769ea2": {
      "model_module": "@jupyter-widgets/controls",
      "model_module_version": "1.5.0",
      "model_name": "DescriptionStyleModel",
      "state": {
       "description_width": ""
      }
     },
     "063b66704fad4486a28cd8dcc177e8b9": {
      "model_module": "@jupyter-widgets/base",
      "model_module_version": "1.2.0",
      "model_name": "LayoutModel",
      "state": {
       "width": "250px"
      }
     },
     "06683546d7184390a67864f5d0dc9a07": {
      "model_module": "@jupyter-widgets/base",
      "model_module_version": "1.2.0",
      "model_name": "LayoutModel",
      "state": {
       "width": "600px"
      }
     },
     "066b5748959b4c2986ce9a33780e4b2a": {
      "model_module": "@jupyter-widgets/base",
      "model_module_version": "1.2.0",
      "model_name": "LayoutModel",
      "state": {
       "width": "250px"
      }
     },
     "067f8d775ec443f0905d31eaf455e053": {
      "model_module": "@jupyter-widgets/base",
      "model_module_version": "1.2.0",
      "model_name": "LayoutModel",
      "state": {
       "width": "250px"
      }
     },
     "06949b246b024f5289e7a712c583e2b2": {
      "model_module": "@jupyter-widgets/controls",
      "model_module_version": "1.5.0",
      "model_name": "HTMLModel",
      "state": {
       "layout": "IPY_MODEL_7d8f9667a5074ff88e5cb853be377d82",
       "style": "IPY_MODEL_5fafc4ed3f58402e9e0c5747102a7445",
       "value": "<h4 style=\"font-size:14px;\">übernehmen.</h4>"
      }
     },
     "0696cb558963470c89bb3490cffbeb74": {
      "model_module": "@jupyter-widgets/controls",
      "model_module_version": "1.5.0",
      "model_name": "HTMLModel",
      "state": {
       "layout": "IPY_MODEL_875102c2a92645ce938a95fed2635a9e",
       "style": "IPY_MODEL_eb34e714b3f84a51bf17d077b2964c3f",
       "value": "<h4 style=\"font-size:14px;\">Wie werden Features beim POS-Tagging verwendet?</h4>"
      }
     },
     "06a95e4edafb4d79abe010529da0eb16": {
      "model_module": "@jupyter-widgets/controls",
      "model_module_version": "1.5.0",
      "model_name": "DescriptionStyleModel",
      "state": {
       "description_width": "initial"
      }
     },
     "06cc66ecea3542599aafbb6732cdedad": {
      "model_module": "@jupyter-widgets/controls",
      "model_module_version": "1.5.0",
      "model_name": "VBoxModel",
      "state": {
       "children": [
        "IPY_MODEL_c733069617bb4f2897b3f0bd3c3f292a",
        "IPY_MODEL_2da749f56175463a949fa7e524c1d62c",
        "IPY_MODEL_6f51cb049aeb4c33a284d53806606c65",
        "IPY_MODEL_122371f4a59a4c018d2d4c75af2fafb0"
       ],
       "layout": "IPY_MODEL_960923f5e68045138d7dbfefb1098f0a"
      }
     },
     "06e3185e9c6b423bafe97c84d2027595": {
      "model_module": "@jupyter-widgets/controls",
      "model_module_version": "1.5.0",
      "model_name": "HBoxModel",
      "state": {
       "children": [
        "IPY_MODEL_7d280f74d4a147c0a9355009757d35ad",
        "IPY_MODEL_23e6eee9d73c4d34997177f07c339e3d"
       ],
       "layout": "IPY_MODEL_3d7b426c123a4a12afe27e982ecb8d8c"
      }
     },
     "06ed38574c2043b98d07748e45a8d382": {
      "model_module": "@jupyter-widgets/base",
      "model_module_version": "1.2.0",
      "model_name": "LayoutModel",
      "state": {}
     },
     "0740d3f76bfc4aae9e9b16d170c127a4": {
      "model_module": "@jupyter-widgets/base",
      "model_module_version": "1.2.0",
      "model_name": "LayoutModel",
      "state": {}
     },
     "07466325862544e8813ac28fd7bfc40c": {
      "model_module": "@jupyter-widgets/controls",
      "model_module_version": "1.5.0",
      "model_name": "BoxModel",
      "state": {
       "children": [
        "IPY_MODEL_a435ce6ab2ac4933bd3396f9eb731c55",
        "IPY_MODEL_a85b4e50874c40edaac42408554ba85d",
        "IPY_MODEL_6b43e7d9298c40a19654935a111355cd",
        "IPY_MODEL_c4084986ab3549d4a3b4f8761eb8a593",
        "IPY_MODEL_d8d962159e844d2a91597bcd917772ec",
        "IPY_MODEL_a5fb3cd9576d4b6a97f9efc7d45a8f38",
        "IPY_MODEL_52defd447f3d44ab94eec9314fe678e1",
        "IPY_MODEL_36ee97309ed54daf8cb7b2abaa0fd02c",
        "IPY_MODEL_e9c970669d5f417abb3aed5c73833d1a",
        "IPY_MODEL_134972bc2cfe45e584fc8cc031bc6014",
        "IPY_MODEL_1935edc772c64da3b76f4d73d66ff64b"
       ],
       "layout": "IPY_MODEL_f07194177e9e45a3a915aa22bac12d49"
      }
     },
     "0752f25e64a04aa787e0f98b6e9f3663": {
      "model_module": "@jupyter-widgets/controls",
      "model_module_version": "1.5.0",
      "model_name": "CheckboxModel",
      "state": {
       "description": "x?",
       "disabled": false,
       "layout": "IPY_MODEL_ff34f469a0e34be3beebf8bed1be53bd",
       "style": "IPY_MODEL_0ec07b06765f401da9ed34900d259b84",
       "value": false
      }
     },
     "075c391d72274d39a3b735b921474174": {
      "model_module": "@jupyter-widgets/controls",
      "model_module_version": "1.5.0",
      "model_name": "CheckboxModel",
      "state": {
       "description": "Das Genus des Adjektivs ist lexikalisch fix definiert.",
       "disabled": false,
       "layout": "IPY_MODEL_6c3af86456214dffa96ef8defed418ad",
       "style": "IPY_MODEL_bc8596c9d4dd4271b264c11618f32438",
       "value": false
      }
     },
     "075cc1660fb94115bd4469c8a37655aa": {
      "model_module": "@jupyter-widgets/base",
      "model_module_version": "1.2.0",
      "model_name": "LayoutModel",
      "state": {}
     },
     "0783729ab5aa4eae94408692e3fb7d08": {
      "model_module": "@jupyter-widgets/controls",
      "model_module_version": "1.5.0",
      "model_name": "VBoxModel",
      "state": {
       "children": [
        "IPY_MODEL_fe85e098d47c42579c54a1b0624bc127",
        "IPY_MODEL_8fea2412f27b4fdcbb567728cf8fed47",
        "IPY_MODEL_706a6eef2b56491cb0881cbe640d4320",
        "IPY_MODEL_3c6b30e003c141b0928cc42bde278fce",
        "IPY_MODEL_16bbe9c809d64bbaa44e4745bdf028a8"
       ],
       "layout": "IPY_MODEL_cad7cf8ab6ca4aa9b34d8aad7ca72a54"
      }
     },
     "079a1b4195da413886a0ff62f21d8e59": {
      "model_module": "@jupyter-widgets/controls",
      "model_module_version": "1.5.0",
      "model_name": "DescriptionStyleModel",
      "state": {
       "description_width": "initial"
      }
     },
     "07cff4d8d79f4c7ebfec1f02d2e178f4": {
      "model_module": "@jupyter-widgets/controls",
      "model_module_version": "1.5.0",
      "model_name": "HTMLModel",
      "state": {
       "layout": "IPY_MODEL_d091896c9b064cf1baafdf228ac0b850",
       "style": "IPY_MODEL_84921adfadb94b2da1cfbf39608fcb28",
       "value": "<h4 style=\"font-size:14px;\">realisieren. Das Adjektiv muss also, wie auch beim Fehlen des bestimmten Artikels, die</h4>"
      }
     },
     "07d6b96173a248838a43cafc773cf7ce": {
      "model_module": "@jupyter-widgets/controls",
      "model_module_version": "1.5.0",
      "model_name": "HBoxModel",
      "state": {
       "children": [
        "IPY_MODEL_7cb3adb960cd487ea89abab7b26b5fd8",
        "IPY_MODEL_a28e5548f6304b719fa7fff371834536"
       ],
       "layout": "IPY_MODEL_cbf91ec6e4a840e08d80a66a7c52402e"
      }
     },
     "07d9866589a7419cafe7b0fbdab7a8e6": {
      "model_module": "@jupyter-widgets/base",
      "model_module_version": "1.2.0",
      "model_name": "LayoutModel",
      "state": {
       "width": "250px"
      }
     },
     "07f342c558da457fbe1938e29031a22c": {
      "model_module": "@jupyter-widgets/base",
      "model_module_version": "1.2.0",
      "model_name": "LayoutModel",
      "state": {
       "width": "250px"
      }
     },
     "08252526dc7e49df99f93c5f05fda23e": {
      "model_module": "@jupyter-widgets/controls",
      "model_module_version": "1.5.0",
      "model_name": "DescriptionStyleModel",
      "state": {
       "description_width": ""
      }
     },
     "0827e395b4574363a75fa27faecbc65a": {
      "model_module": "@jupyter-widgets/base",
      "model_module_version": "1.2.0",
      "model_name": "LayoutModel",
      "state": {}
     },
     "08395e706d164f21bfba56318a94a159": {
      "model_module": "@jupyter-widgets/base",
      "model_module_version": "1.2.0",
      "model_name": "LayoutModel",
      "state": {
       "width": "150px"
      }
     },
     "0864ea33365e4e78b9573ab76cbfcdad": {
      "model_module": "@jupyter-widgets/controls",
      "model_module_version": "1.5.0",
      "model_name": "ButtonStyleModel",
      "state": {}
     },
     "0869af83aaf94b7a99966b168f9be577": {
      "model_module": "@jupyter-widgets/controls",
      "model_module_version": "1.5.0",
      "model_name": "HTMLModel",
      "state": {
       "layout": "IPY_MODEL_2becc44fa42a47b08bdf54fb23b1772a",
       "style": "IPY_MODEL_9cd0c7e6a2f347829c2061ea80ffa870",
       "value": "<h4 style=\"font-size:14px;\">Im Falle, dass im Zuge einer Unifikation Informationen zum Wert eines Pfades x hinzugefügt werden, wie verändern sich die Werte aller zu x äquivalenten Pfade?</h4>"
      }
     },
     "08a5ab57dd5d4886b35ee2ca2f12327a": {
      "model_module": "@jupyter-widgets/base",
      "model_module_version": "1.2.0",
      "model_name": "LayoutModel",
      "state": {
       "justify_content": "center"
      }
     },
     "08ffb335065b4bf0b77a0c8640abcb7a": {
      "model_module": "@jupyter-widgets/controls",
      "model_module_version": "1.5.0",
      "model_name": "DescriptionStyleModel",
      "state": {
       "description_width": ""
      }
     },
     "09084621d8d9407fa4e558fd85c37317": {
      "model_module": "@jupyter-widgets/controls",
      "model_module_version": "1.5.0",
      "model_name": "DescriptionStyleModel",
      "state": {
       "description_width": "initial"
      }
     },
     "0915cb248b704e1eb0de5cb40d5d818e": {
      "model_module": "@jupyter-widgets/controls",
      "model_module_version": "1.5.0",
      "model_name": "ButtonStyleModel",
      "state": {}
     },
     "093416fd902a436a9156c30a3f41ce27": {
      "model_module": "@jupyter-widgets/base",
      "model_module_version": "1.2.0",
      "model_name": "LayoutModel",
      "state": {}
     },
     "094b22c79c294d09a4422cf0e0413260": {
      "model_module": "@jupyter-widgets/controls",
      "model_module_version": "1.5.0",
      "model_name": "CheckboxModel",
      "state": {
       "description": "!x",
       "disabled": false,
       "layout": "IPY_MODEL_947d20e8956045bd9de0de5898d4ea86",
       "style": "IPY_MODEL_d26246d34de94dd082d68922de4ed201",
       "value": false
      }
     },
     "0950e4b48add49d28a53f0dcd793c2a2": {
      "model_module": "@jupyter-widgets/controls",
      "model_module_version": "1.5.0",
      "model_name": "VBoxModel",
      "state": {
       "children": [
        "IPY_MODEL_ae114231639d4dcab71d40c2abb2e228",
        "IPY_MODEL_31b4dbab1905485db00499116ca975a5",
        "IPY_MODEL_a39c01517f194afb86080312fed5023e",
        "IPY_MODEL_5aef44b9d51648d59dd04d04b6f25e2f",
        "IPY_MODEL_7433f47a1d894cf0b01f08e57ef4a031"
       ],
       "layout": "IPY_MODEL_685a29e7d00a417dbb4f103182b70874"
      }
     },
     "095151de5c334c36bf2717c1e9f29c97": {
      "model_module": "@jupyter-widgets/base",
      "model_module_version": "1.2.0",
      "model_name": "LayoutModel",
      "state": {
       "width": "600px"
      }
     },
     "09634d589962498db0480ca07281302b": {
      "model_module": "@jupyter-widgets/controls",
      "model_module_version": "1.5.0",
      "model_name": "DropdownModel",
      "state": {
       "_options_labels": [
        "Adverbial",
        "Nomen",
        "Personalpronomen",
        " "
       ],
       "index": 2,
       "layout": "IPY_MODEL_ec1e0828c38d461a955f1457a53faab6",
       "style": "IPY_MODEL_f38ac6d9a15648798518ae18beabe9e0"
      }
     },
     "096fa9fac16642f09b88edefb71d6b1e": {
      "model_module": "@jupyter-widgets/controls",
      "model_module_version": "1.5.0",
      "model_name": "DescriptionStyleModel",
      "state": {
       "description_width": "initial"
      }
     },
     "097284aa0e654312a93ea7caeb8ebe63": {
      "model_module": "@jupyter-widgets/controls",
      "model_module_version": "1.5.0",
      "model_name": "ButtonStyleModel",
      "state": {
       "button_color": "lightgreen"
      }
     },
     "098021d393b046dca30157798b368113": {
      "model_module": "@jupyter-widgets/controls",
      "model_module_version": "1.5.0",
      "model_name": "ButtonStyleModel",
      "state": {}
     },
     "098f52b506b24518a3201ab295d55937": {
      "model_module": "@jupyter-widgets/controls",
      "model_module_version": "1.5.0",
      "model_name": "DescriptionStyleModel",
      "state": {
       "description_width": ""
      }
     },
     "09bad402f6d74bada86169448e1a337a": {
      "model_module": "@jupyter-widgets/controls",
      "model_module_version": "1.5.0",
      "model_name": "ButtonStyleModel",
      "state": {}
     },
     "09ed2e6b8b8b47c1880569792f1c4258": {
      "model_module": "@jupyter-widgets/controls",
      "model_module_version": "1.5.0",
      "model_name": "ButtonModel",
      "state": {
       "description": "Instrument",
       "layout": "IPY_MODEL_92bdbd95099842719371088258fb5485",
       "style": "IPY_MODEL_51144cd43c294598b2b8b058f8e1ec24"
      }
     },
     "0a23042bf0f040fd95b642042664a7eb": {
      "model_module": "@jupyter-widgets/controls",
      "model_module_version": "1.5.0",
      "model_name": "ButtonModel",
      "state": {
       "description": "Korrekt?",
       "layout": "IPY_MODEL_447c446f76c44ee2897ca612667e9da4",
       "style": "IPY_MODEL_d942a9d604ad4084b5fc97586abfeb53"
      }
     },
     "0a24aa09d8344e4b9de1791ac9609659": {
      "model_module": "@jupyter-widgets/base",
      "model_module_version": "1.2.0",
      "model_name": "LayoutModel",
      "state": {
       "width": "600px"
      }
     },
     "0a29756dc67749a78674072ec9356a64": {
      "model_module": "@jupyter-widgets/controls",
      "model_module_version": "1.5.0",
      "model_name": "DescriptionStyleModel",
      "state": {
       "description_width": ""
      }
     },
     "0a5f039a0dba43049383fd96a83a7b93": {
      "model_module": "@jupyter-widgets/base",
      "model_module_version": "1.2.0",
      "model_name": "LayoutModel",
      "state": {
       "width": "600px"
      }
     },
     "0a81c4da65c14e7fb885b71d19f539d0": {
      "model_module": "@jupyter-widgets/controls",
      "model_module_version": "1.5.0",
      "model_name": "ButtonStyleModel",
      "state": {}
     },
     "0a876f05f3ad4b06b44ee48477d12e0a": {
      "model_module": "@jupyter-widgets/controls",
      "model_module_version": "1.5.0",
      "model_name": "ButtonModel",
      "state": {
       "description": "Patiens",
       "layout": "IPY_MODEL_9717b5a04cbf43d888e13cf03efc73c2",
       "style": "IPY_MODEL_cf89b5d3ab5a481eb82a665985849c0c"
      }
     },
     "0aae039d6fff44b7aa248061e0bb154f": {
      "model_module": "@jupyter-widgets/controls",
      "model_module_version": "1.5.0",
      "model_name": "HTMLModel",
      "state": {
       "layout": "IPY_MODEL_ce6186eea11e46058389513601e4b7fc",
       "style": "IPY_MODEL_098f52b506b24518a3201ab295d55937",
       "value": "<h4 style=\"font-size:14px;\">Welche Aussagen über Adjektive stimmen?</h4>"
      }
     },
     "0b241458e5f940d6aa94b2c8d7a97b12": {
      "model_module": "@jupyter-widgets/controls",
      "model_module_version": "1.5.0",
      "model_name": "CheckboxModel",
      "state": {
       "description": "Das Genus des Adjektivs ist lexikalisch fix definiert.",
       "disabled": false,
       "layout": "IPY_MODEL_2701068becc0441ab08904196b9f53f2",
       "style": "IPY_MODEL_51d198e9d15a4192aeda7083c84cf690",
       "value": false
      }
     },
     "0b3bec7048c74ba29a4cadde19f76b05": {
      "model_module": "@jupyter-widgets/controls",
      "model_module_version": "1.5.0",
      "model_name": "DescriptionStyleModel",
      "state": {
       "description_width": ""
      }
     },
     "0b7230dd297a4788b7e3a9e55000cc2c": {
      "model_module": "@jupyter-widgets/controls",
      "model_module_version": "1.5.0",
      "model_name": "ButtonStyleModel",
      "state": {}
     },
     "0b9935f850e44eb8af185229a57f4fa6": {
      "model_module": "@jupyter-widgets/base",
      "model_module_version": "1.2.0",
      "model_name": "LayoutModel",
      "state": {}
     },
     "0c468408eb2143d39371b425d39b1ab9": {
      "model_module": "@jupyter-widgets/controls",
      "model_module_version": "1.5.0",
      "model_name": "HTMLModel",
      "state": {
       "layout": "IPY_MODEL_20f5342cc3104780b0173139da8f8283",
       "style": "IPY_MODEL_181fe13e7d064abeb6d9db66c99d82c2",
       "value": "<i>Wählen Sie die <ins>eine</ins> korrekte Antwort aus: </i>"
      }
     },
     "0c67566d08404c66ba92179111f40163": {
      "model_module": "@jupyter-widgets/base",
      "model_module_version": "1.2.0",
      "model_name": "LayoutModel",
      "state": {
       "width": "600px"
      }
     },
     "0c70507734ef406c9d5eeb60ef928253": {
      "model_module": "@jupyter-widgets/controls",
      "model_module_version": "1.5.0",
      "model_name": "ButtonStyleModel",
      "state": {}
     },
     "0c7eab7ef04c4fdc94bed410af96318e": {
      "model_module": "@jupyter-widgets/base",
      "model_module_version": "1.2.0",
      "model_name": "LayoutModel",
      "state": {
       "width": "250px"
      }
     },
     "0c80239e07bf402290b7183d20c8fffe": {
      "model_module": "@jupyter-widgets/base",
      "model_module_version": "1.2.0",
      "model_name": "LayoutModel",
      "state": {
       "width": "250px"
      }
     },
     "0ca0d159e76c4df8819b3a14018284f6": {
      "model_module": "@jupyter-widgets/controls",
      "model_module_version": "1.5.0",
      "model_name": "HTMLModel",
      "state": {
       "layout": "IPY_MODEL_c085199df19f4f0b90dce2a3aff1617e",
       "style": "IPY_MODEL_7b69e29cc0184f5f9509079d57b632b5",
       "value": "<h4 style=\"font-size:14px;\">Beantworten Sie die beiden obigen Fragen.</h4>"
      }
     },
     "0d024d169743410ba3604678c4fbe9c3": {
      "model_module": "@jupyter-widgets/controls",
      "model_module_version": "1.5.0",
      "model_name": "DescriptionStyleModel",
      "state": {
       "description_width": "initial"
      }
     },
     "0d2de1e1e61c4757923af724435edbbc": {
      "model_module": "@jupyter-widgets/base",
      "model_module_version": "1.2.0",
      "model_name": "LayoutModel",
      "state": {}
     },
     "0d3217dd069f48d39a90e0c5c821ce9e": {
      "model_module": "@jupyter-widgets/controls",
      "model_module_version": "1.5.0",
      "model_name": "DescriptionStyleModel",
      "state": {
       "description_width": "initial"
      }
     },
     "0d404a4f30d94f37ba176d302c1f2ca9": {
      "model_module": "@jupyter-widgets/controls",
      "model_module_version": "1.5.0",
      "model_name": "ButtonStyleModel",
      "state": {}
     },
     "0d577ec16c02467086429852ef9b4a64": {
      "model_module": "@jupyter-widgets/base",
      "model_module_version": "1.2.0",
      "model_name": "LayoutModel",
      "state": {
       "width": "600px"
      }
     },
     "0d631da6a21a49e4bdf01667aecd9993": {
      "model_module": "@jupyter-widgets/base",
      "model_module_version": "1.2.0",
      "model_name": "LayoutModel",
      "state": {
       "width": "250px"
      }
     },
     "0d6724735bb2484a981d5c16642206ab": {
      "model_module": "@jupyter-widgets/base",
      "model_module_version": "1.2.0",
      "model_name": "LayoutModel",
      "state": {}
     },
     "0d91e75020b64c8fa778c6043f62fa8e": {
      "model_module": "@jupyter-widgets/controls",
      "model_module_version": "1.5.0",
      "model_name": "HTMLModel",
      "state": {
       "layout": "IPY_MODEL_b92d378f1b844edeb83bf7c19976f8d2",
       "style": "IPY_MODEL_7d1a5986d0304e2c85f73a8574ea9764",
       "value": "<i>Wählen Sie die <ins>eine</ins> korrekte Antwort aus: </i>"
      }
     },
     "0d924749ebc64d5090cec6618787e8f6": {
      "model_module": "@jupyter-widgets/base",
      "model_module_version": "1.2.0",
      "model_name": "LayoutModel",
      "state": {
       "width": "600px"
      }
     },
     "0da231af33be4dbabab197a98194359d": {
      "model_module": "@jupyter-widgets/base",
      "model_module_version": "1.2.0",
      "model_name": "LayoutModel",
      "state": {}
     },
     "0db61f58621345e69bb730b693416714": {
      "model_module": "@jupyter-widgets/controls",
      "model_module_version": "1.5.0",
      "model_name": "HBoxModel",
      "state": {
       "children": [
        "IPY_MODEL_aa0a092886744413921e82e374fdfa25",
        "IPY_MODEL_88bc8ba43da64436b1248bc29ff3a1f5"
       ],
       "layout": "IPY_MODEL_b5919498165e491d86ce3b42fd3712e4"
      }
     },
     "0dbdf01a791b4270aa29b453257b20d5": {
      "model_module": "@jupyter-widgets/controls",
      "model_module_version": "1.5.0",
      "model_name": "DescriptionStyleModel",
      "state": {
       "description_width": "initial"
      }
     },
     "0dd1977d39fd4d449c9ab01069aed4b8": {
      "model_module": "@jupyter-widgets/controls",
      "model_module_version": "1.5.0",
      "model_name": "DescriptionStyleModel",
      "state": {
       "description_width": "initial"
      }
     },
     "0dd507ea61054c9e8e8485e4b9db83fd": {
      "model_module": "@jupyter-widgets/controls",
      "model_module_version": "1.5.0",
      "model_name": "DescriptionStyleModel",
      "state": {
       "description_width": ""
      }
     },
     "0def6be271bb4fca92205540279fa42c": {
      "model_module": "@jupyter-widgets/base",
      "model_module_version": "1.2.0",
      "model_name": "LayoutModel",
      "state": {
       "width": "250px"
      }
     },
     "0dfadede813d4c3a84c4dd0cb30e5cdd": {
      "model_module": "@jupyter-widgets/controls",
      "model_module_version": "1.5.0",
      "model_name": "CheckboxModel",
      "state": {
       "description": "Es übernimmt immer das Patiens die Subjektfunktion.",
       "disabled": false,
       "layout": "IPY_MODEL_e007c6792ad74b65b07ad8bdf616a27e",
       "style": "IPY_MODEL_7b111e31c8394b8f851cf5e8c2025d11",
       "value": false
      }
     },
     "0e18b85acece43bea87177bbfa1ca6c7": {
      "model_module": "@jupyter-widgets/base",
      "model_module_version": "1.2.0",
      "model_name": "LayoutModel",
      "state": {
       "width": "600px"
      }
     },
     "0e1f61561a8b4ed394fa0edcdfad0812": {
      "model_module": "@jupyter-widgets/base",
      "model_module_version": "1.2.0",
      "model_name": "LayoutModel",
      "state": {}
     },
     "0e7d669715084725bc6c3537ad1d6e45": {
      "model_module": "@jupyter-widgets/controls",
      "model_module_version": "1.5.0",
      "model_name": "DescriptionStyleModel",
      "state": {
       "description_width": "initial"
      }
     },
     "0eaca6a0f7c34de89981eae1706a45aa": {
      "model_module": "@jupyter-widgets/controls",
      "model_module_version": "1.5.0",
      "model_name": "DescriptionStyleModel",
      "state": {
       "description_width": "initial"
      }
     },
     "0ec07b06765f401da9ed34900d259b84": {
      "model_module": "@jupyter-widgets/controls",
      "model_module_version": "1.5.0",
      "model_name": "DescriptionStyleModel",
      "state": {
       "description_width": "initial"
      }
     },
     "0ed0d0bb3ac44f458e3cd81611358d5b": {
      "model_module": "@jupyter-widgets/controls",
      "model_module_version": "1.5.0",
      "model_name": "CheckboxModel",
      "state": {
       "description": "Sie werden gelöscht.",
       "disabled": false,
       "layout": "IPY_MODEL_2bc72d85214a44418220b2e4073099ad",
       "style": "IPY_MODEL_747bcb7eb54242de892c42d6b1488c58",
       "value": false
      }
     },
     "0ed5a062831d49e6aabc48438d115111": {
      "model_module": "@jupyter-widgets/base",
      "model_module_version": "1.2.0",
      "model_name": "LayoutModel",
      "state": {
       "justify_content": "center"
      }
     },
     "0ef97031b83646fb8de8a4770e2b25e3": {
      "model_module": "@jupyter-widgets/controls",
      "model_module_version": "1.5.0",
      "model_name": "VBoxModel",
      "state": {
       "children": [
        "IPY_MODEL_a53b996510824f4a9997788929f2c0d5",
        "IPY_MODEL_a3f46151cd6d452ca7d2d1e2d07ce04f",
        "IPY_MODEL_25a9a5d97e77423da6f1d1cc3e2d6227",
        "IPY_MODEL_5cc6e051370348f7a3ad1e65fcc89904"
       ],
       "layout": "IPY_MODEL_d1aa96bd0311469ea528e6eef408523c"
      }
     },
     "0f2f0ddf1d604df68d3d9975ae79ff58": {
      "model_module": "@jupyter-widgets/controls",
      "model_module_version": "1.5.0",
      "model_name": "ButtonModel",
      "state": {
       "description": "Nein",
       "layout": "IPY_MODEL_53d5b888c4674900a6ae5583acc96538",
       "style": "IPY_MODEL_2d6205deb50d45409958fbecd852bdd7"
      }
     },
     "0f398fb4dfa349d6a88faccfa5cdf84d": {
      "model_module": "@jupyter-widgets/controls",
      "model_module_version": "1.5.0",
      "model_name": "VBoxModel",
      "state": {
       "children": [
        "IPY_MODEL_1e6074ff7ce14c59920c933d31e2159f",
        "IPY_MODEL_b4000ad35dc54646874ac9a800b63fe5",
        "IPY_MODEL_1d8d399b56c54b81bf3f1cfba168b6fb"
       ],
       "layout": "IPY_MODEL_241ff83edbf240fd90b31524ebd4c70c"
      }
     },
     "0f4e71879c4f4a26814be810713376b3": {
      "model_module": "@jupyter-widgets/base",
      "model_module_version": "1.2.0",
      "model_name": "LayoutModel",
      "state": {
       "width": "600px"
      }
     },
     "0f561e3beb1a43bba84e7f7513d158a5": {
      "model_module": "@jupyter-widgets/base",
      "model_module_version": "1.2.0",
      "model_name": "LayoutModel",
      "state": {
       "width": "600px"
      }
     },
     "0f66057151ed4406aaf6270e39099a8a": {
      "model_module": "@jupyter-widgets/controls",
      "model_module_version": "1.5.0",
      "model_name": "DescriptionStyleModel",
      "state": {
       "description_width": "initial"
      }
     },
     "0f66cc147ac2454d82630dcd498327ad": {
      "model_module": "@jupyter-widgets/controls",
      "model_module_version": "1.5.0",
      "model_name": "ButtonStyleModel",
      "state": {}
     },
     "0f772d46d3944efa87e8abd7e6696808": {
      "model_module": "@jupyter-widgets/base",
      "model_module_version": "1.2.0",
      "model_name": "LayoutModel",
      "state": {
       "justify_content": "center"
      }
     },
     "0f7baeb3a7874daf85e584a3f112df48": {
      "model_module": "@jupyter-widgets/controls",
      "model_module_version": "1.5.0",
      "model_name": "ButtonStyleModel",
      "state": {
       "button_color": "lightgreen"
      }
     },
     "0f7fb3eb81294f2683d802f6f1f3b884": {
      "model_module": "@jupyter-widgets/controls",
      "model_module_version": "1.5.0",
      "model_name": "CheckboxModel",
      "state": {
       "description": "Subjekt-Demotion zu Adverbial",
       "disabled": false,
       "layout": "IPY_MODEL_e00cd17881f44f619dc21fa5adbd3efc",
       "style": "IPY_MODEL_139cee2376904bd69c6fda26924524df",
       "value": false
      }
     },
     "0fb995c32a9e42aebc8d5d8cbdc486f8": {
      "model_module": "@jupyter-widgets/controls",
      "model_module_version": "1.5.0",
      "model_name": "VBoxModel",
      "state": {
       "children": [
        "IPY_MODEL_c1cbffb7f8614206a7ad4884be403dd0",
        "IPY_MODEL_ce41686824f04ff5aa0b559f2649dbbd",
        "IPY_MODEL_b4d86e76c97243d19c43b29a34053d67",
        "IPY_MODEL_8633a58a8ccf48dd8cab365baa49ad76"
       ],
       "layout": "IPY_MODEL_bee20f3ec0504056b29ebf2ea8ee1ec3"
      }
     },
     "0fb9a000e216470abde8e940d4c2a02e": {
      "model_module": "@jupyter-widgets/controls",
      "model_module_version": "1.5.0",
      "model_name": "DescriptionStyleModel",
      "state": {
       "description_width": ""
      }
     },
     "0fc7fb9d660d46f5978a01b69f5944fc": {
      "model_module": "@jupyter-widgets/controls",
      "model_module_version": "1.5.0",
      "model_name": "ButtonStyleModel",
      "state": {
       "button_color": "lightgreen"
      }
     },
     "0fd5d2d486c84007afbe41011f29375f": {
      "model_module": "@jupyter-widgets/controls",
      "model_module_version": "1.5.0",
      "model_name": "VBoxModel",
      "state": {
       "children": [
        "IPY_MODEL_6ca932aea38a4642a90d7c6abe0987f8",
        "IPY_MODEL_abb80dca92294d74a8d5b06468499e6c",
        "IPY_MODEL_7f717e182b914698824bf751c29f6555",
        "IPY_MODEL_ce4ad1cd37d4424189bbeaaba62f6768"
       ],
       "layout": "IPY_MODEL_95e16a8a8cc1434b95625343760561c1"
      }
     },
     "101dc980a88d43e88ce868bfb2d25980": {
      "model_module": "@jupyter-widgets/controls",
      "model_module_version": "1.5.0",
      "model_name": "CheckboxModel",
      "state": {
       "description": "Perspektivierung",
       "disabled": false,
       "layout": "IPY_MODEL_9c078412ecc84a98bf130f9e6d7ccd14",
       "style": "IPY_MODEL_6430bb2bef514625bda7cbad79c23753",
       "value": true
      }
     },
     "1040ec8878964f8c97e523067696cc56": {
      "model_module": "@jupyter-widgets/base",
      "model_module_version": "1.2.0",
      "model_name": "LayoutModel",
      "state": {
       "width": "250px"
      }
     },
     "1042ef7a260844bfbedaafdf5fc2a6a3": {
      "model_module": "@jupyter-widgets/controls",
      "model_module_version": "1.5.0",
      "model_name": "CheckboxModel",
      "state": {
       "description": "FS0 = [CAT = N, GEN = FEM], FS1 = [CAT = N, GEN = FEM]",
       "disabled": false,
       "layout": "IPY_MODEL_74e4d7ac2c1648bf8ae8cff1cf6cf735",
       "style": "IPY_MODEL_f79038df5e0e4782bacc49fa48daec4b",
       "value": false
      }
     },
     "104db772b66e4ecfaba04d2d24462705": {
      "model_module": "@jupyter-widgets/controls",
      "model_module_version": "1.5.0",
      "model_name": "VBoxModel",
      "state": {
       "children": [
        "IPY_MODEL_93803e6ab1ad44ba94e499f498aeaf10",
        "IPY_MODEL_f4dc2e601de746d6849887007e4dec91",
        "IPY_MODEL_ba45e9d6017c4856b6edd640e12a492f",
        "IPY_MODEL_3ab4b2ec430a4dd9afcf94bd17f91122"
       ],
       "layout": "IPY_MODEL_ef504a9a28504972b7ab84b952d9cad6"
      }
     },
     "105644f16bdc4967b73d338aedacf77e": {
      "model_module": "@jupyter-widgets/base",
      "model_module_version": "1.2.0",
      "model_name": "LayoutModel",
      "state": {
       "justify_content": "center"
      }
     },
     "107340100fc348b1aff493c2064a17b9": {
      "model_module": "@jupyter-widgets/controls",
      "model_module_version": "1.5.0",
      "model_name": "CheckboxModel",
      "state": {
       "description": "'rue Pascal'; ('spouse', 'address', 'street')",
       "disabled": false,
       "layout": "IPY_MODEL_d193556339134c9aab26bb103623cc27",
       "style": "IPY_MODEL_cda54f6c3e9a4b8aa018a18ec87ce359",
       "value": false
      }
     },
     "108265daa0214954bd2fdb25bbe92955": {
      "model_module": "@jupyter-widgets/controls",
      "model_module_version": "1.5.0",
      "model_name": "ButtonStyleModel",
      "state": {}
     },
     "1095e0fc3220453cbe8ca5cb458b9231": {
      "model_module": "@jupyter-widgets/controls",
      "model_module_version": "1.5.0",
      "model_name": "HTMLModel",
      "state": {
       "layout": "IPY_MODEL_7822d2be01e44ba0ad46b9d557d8eafa",
       "style": "IPY_MODEL_d2d47215656545e79dda3b1c41fd31ed",
       "value": "<h4 style=\"font-size:14px;\">Um welchen Faktor erhöht sich die Regelanzahl, wenn man Kongruenz (Agreement) in Numerus und Person durch Integration von Merkmalen in die Kategoriensymbole einer CFG modelliert (S → NP_1_SG VP_1_SG usw.)?</h4>"
      }
     },
     "10bcf79cfc7249dc896eead819a8b6f2": {
      "model_module": "@jupyter-widgets/base",
      "model_module_version": "1.2.0",
      "model_name": "LayoutModel",
      "state": {
       "width": "250px"
      }
     },
     "10e0d0560de944cc8723ab89170c8634": {
      "model_module": "@jupyter-widgets/controls",
      "model_module_version": "1.5.0",
      "model_name": "ButtonModel",
      "state": {
       "description": "Korrekt?",
       "layout": "IPY_MODEL_48a69f1fea1f4333982fd3204930e36a",
       "style": "IPY_MODEL_38c5f5d5c84b4733bd11646afc2a8497"
      }
     },
     "1112814b80e447f3ac116434adac8a54": {
      "model_module": "@jupyter-widgets/controls",
      "model_module_version": "1.5.0",
      "model_name": "DescriptionStyleModel",
      "state": {
       "description_width": "initial"
      }
     },
     "1113d136f87444e1b058e3a2d1e41a1b": {
      "model_module": "@jupyter-widgets/base",
      "model_module_version": "1.2.0",
      "model_name": "LayoutModel",
      "state": {
       "justify_content": "center"
      }
     },
     "1145ff2bf0af4482afc4cb1c828cb1a6": {
      "model_module": "@jupyter-widgets/controls",
      "model_module_version": "1.5.0",
      "model_name": "DescriptionStyleModel",
      "state": {
       "description_width": "initial"
      }
     },
     "11927668da4244c8b49072f5986ee9d0": {
      "model_module": "@jupyter-widgets/controls",
      "model_module_version": "1.5.0",
      "model_name": "DescriptionStyleModel",
      "state": {
       "description_width": ""
      }
     },
     "11add416423e4b8899e2b1041279b88e": {
      "model_module": "@jupyter-widgets/base",
      "model_module_version": "1.2.0",
      "model_name": "LayoutModel",
      "state": {
       "justify_content": "center"
      }
     },
     "11b6b5092f1b4749b61eb86ebcacc566": {
      "model_module": "@jupyter-widgets/base",
      "model_module_version": "1.2.0",
      "model_name": "LayoutModel",
      "state": {
       "width": "250px"
      }
     },
     "11bb4e8bca314b65a34e35f0cd6b4000": {
      "model_module": "@jupyter-widgets/controls",
      "model_module_version": "1.5.0",
      "model_name": "DescriptionStyleModel",
      "state": {
       "description_width": "initial"
      }
     },
     "11d77a3fc708457385fa178af5137cce": {
      "model_module": "@jupyter-widgets/controls",
      "model_module_version": "1.5.0",
      "model_name": "ButtonStyleModel",
      "state": {}
     },
     "11dd46a734c846bb929b51cbe8cc7b1b": {
      "model_module": "@jupyter-widgets/base",
      "model_module_version": "1.2.0",
      "model_name": "LayoutModel",
      "state": {
       "width": "600px"
      }
     },
     "11e792abc8fd486d9e1f385b806ea118": {
      "model_module": "@jupyter-widgets/controls",
      "model_module_version": "1.5.0",
      "model_name": "HTMLModel",
      "state": {
       "layout": "IPY_MODEL_1c17117a40f3464492ebbc4a44c5ab65",
       "style": "IPY_MODEL_e458907d142a4c66b2e6820571f8aa7a",
       "value": "<i>Wählen Sie die <ins>eine</ins> korrekte Antwort aus: </i>"
      }
     },
     "11f53cc3dbf6400d9be18c5a01052328": {
      "model_module": "@jupyter-widgets/controls",
      "model_module_version": "1.5.0",
      "model_name": "HTMLModel",
      "state": {
       "layout": "IPY_MODEL_38862c1b31ae40e5a6c3541ebf00ad5a",
       "style": "IPY_MODEL_34cf54d98869401588203d8ad316a583",
       "value": "<h4 style=\"font-size:14px;\">realisieren. Das Adjektiv muss also, wie auch beim Fehlen des bestimmten Artikels, die</h4>"
      }
     },
     "120a8b25bd78425dbff76212f37ece2a": {
      "model_module": "@jupyter-widgets/controls",
      "model_module_version": "1.5.0",
      "model_name": "DescriptionStyleModel",
      "state": {
       "description_width": ""
      }
     },
     "122371f4a59a4c018d2d4c75af2fafb0": {
      "model_module": "@jupyter-widgets/controls",
      "model_module_version": "1.5.0",
      "model_name": "ButtonModel",
      "state": {
       "description": "Korrekt?",
       "layout": "IPY_MODEL_c1f1fed6ffdb42989befed3b49822a9b",
       "style": "IPY_MODEL_3b275c776b8d4c1bb20674db35535699"
      }
     },
     "1232242c150d4875940034f49e7be062": {
      "model_module": "@jupyter-widgets/controls",
      "model_module_version": "1.5.0",
      "model_name": "HTMLModel",
      "state": {
       "layout": "IPY_MODEL_b48f6b0f0c084a05a4182b1be3756d4a",
       "style": "IPY_MODEL_2157f73c60a74457baa568c82e0c0842",
       "value": "<h4 style=\"font-size:14px;\">Wie wird die Deklination der Nominalphrase <i>altes Bier</i> auch bezeichnet?</h4>"
      }
     },
     "123fe06608154838b413a4d1710f9253": {
      "model_module": "@jupyter-widgets/base",
      "model_module_version": "1.2.0",
      "model_name": "LayoutModel",
      "state": {
       "justify_content": "center"
      }
     },
     "1312a8771f6e40538f095973e00615b0": {
      "model_module": "@jupyter-widgets/base",
      "model_module_version": "1.2.0",
      "model_name": "LayoutModel",
      "state": {
       "width": "600px"
      }
     },
     "13179967be36401982be2b0f08b99acb": {
      "model_module": "@jupyter-widgets/base",
      "model_module_version": "1.2.0",
      "model_name": "LayoutModel",
      "state": {}
     },
     "134972bc2cfe45e584fc8cc031bc6014": {
      "model_module": "@jupyter-widgets/controls",
      "model_module_version": "1.5.0",
      "model_name": "DropdownModel",
      "state": {
       "_options_labels": [
        "Genusmarkierung",
        "Kasusmarkierung",
        " "
       ],
       "index": 2,
       "layout": "IPY_MODEL_14172ca0636b482ab98976eb0e735123",
       "style": "IPY_MODEL_89f76f9cb84a41c8988bfd0d9b58156d"
      }
     },
     "136cd6c5e54d47c4b79d955c859a402a": {
      "model_module": "@jupyter-widgets/controls",
      "model_module_version": "1.5.0",
      "model_name": "CheckboxModel",
      "state": {
       "description": "Ausrichtung der Empathie",
       "disabled": false,
       "layout": "IPY_MODEL_c62d06cb2bd544f1b543977cb2947860",
       "style": "IPY_MODEL_3a490d88dd6f4bb590d07fe92d046819",
       "value": false
      }
     },
     "1386ad6d5a8d498498c901672d70e0cf": {
      "model_module": "@jupyter-widgets/base",
      "model_module_version": "1.2.0",
      "model_name": "LayoutModel",
      "state": {
       "justify_content": "center"
      }
     },
     "139cee2376904bd69c6fda26924524df": {
      "model_module": "@jupyter-widgets/controls",
      "model_module_version": "1.5.0",
      "model_name": "DescriptionStyleModel",
      "state": {
       "description_width": "initial"
      }
     },
     "13ab264f4d45496aba7b330f2f534ccf": {
      "model_module": "@jupyter-widgets/base",
      "model_module_version": "1.2.0",
      "model_name": "LayoutModel",
      "state": {
       "width": "600px"
      }
     },
     "13fb2343c5d2486a9e5cff87a1c69c26": {
      "model_module": "@jupyter-widgets/controls",
      "model_module_version": "1.5.0",
      "model_name": "CheckboxModel",
      "state": {
       "description": "FS0 = [CAT = N], FS1 = [CAT = N, GEN = MASK]",
       "disabled": false,
       "layout": "IPY_MODEL_3e75aa10504141a7a5f9956ee9fee717",
       "style": "IPY_MODEL_2fd6f6e272e64c4cbc5c1be873f22fc9",
       "value": true
      }
     },
     "14172ca0636b482ab98976eb0e735123": {
      "model_module": "@jupyter-widgets/base",
      "model_module_version": "1.2.0",
      "model_name": "LayoutModel",
      "state": {
       "width": "150px"
      }
     },
     "143699d9fb3c4c449416c66998a7b939": {
      "model_module": "@jupyter-widgets/controls",
      "model_module_version": "1.5.0",
      "model_name": "ButtonStyleModel",
      "state": {
       "button_color": "lightgreen"
      }
     },
     "143bbcfea24b4d24b804368af8beea3d": {
      "model_module": "@jupyter-widgets/controls",
      "model_module_version": "1.5.0",
      "model_name": "CheckboxModel",
      "state": {
       "description": "Sie werden im Vorhinein deklariert (feature lexicon)",
       "disabled": false,
       "layout": "IPY_MODEL_2412a3e6c0a04f15bb5b4880dc8873d3",
       "style": "IPY_MODEL_5ab26c7b7c654cb6aff1e8f31d85f16b",
       "value": false
      }
     },
     "1475ed2de24d4729b907b96ec038bc1e": {
      "model_module": "@jupyter-widgets/controls",
      "model_module_version": "1.5.0",
      "model_name": "CheckboxModel",
      "state": {
       "description": "74; ('address', 'number')",
       "disabled": false,
       "layout": "IPY_MODEL_9b26ae189b8d4769ad65a35875be97d7",
       "style": "IPY_MODEL_f78f59ac8fb643e78b8957dd333a342d",
       "value": false
      }
     },
     "1484352b1437460bb2a71ea557f7651a": {
      "model_module": "@jupyter-widgets/base",
      "model_module_version": "1.2.0",
      "model_name": "LayoutModel",
      "state": {
       "width": "250px"
      }
     },
     "148acf2ca2524db9a097f55ac91f98be": {
      "model_module": "@jupyter-widgets/base",
      "model_module_version": "1.2.0",
      "model_name": "LayoutModel",
      "state": {
       "justify_content": "center"
      }
     },
     "148be133f7ca4db8a5d9658ee64479df": {
      "model_module": "@jupyter-widgets/controls",
      "model_module_version": "1.5.0",
      "model_name": "DescriptionStyleModel",
      "state": {
       "description_width": ""
      }
     },
     "14adffe4a824477fbb6785a64d556129": {
      "model_module": "@jupyter-widgets/controls",
      "model_module_version": "1.5.0",
      "model_name": "DescriptionStyleModel",
      "state": {
       "description_width": ""
      }
     },
     "14e3b713dc4f44af949dccd012b0c889": {
      "model_module": "@jupyter-widgets/controls",
      "model_module_version": "1.5.0",
      "model_name": "HTMLModel",
      "state": {
       "layout": "IPY_MODEL_6d862cc1112049b8bdeef1e345406ee9",
       "style": "IPY_MODEL_ddfd099fd94b4b91af720661eb8a3de0",
       "value": "<i>Markieren Sie <ins>alle</ins> passenden Antworten: </i>"
      }
     },
     "14ec6e2a46464385a08c1cc32f885c18": {
      "model_module": "@jupyter-widgets/controls",
      "model_module_version": "1.5.0",
      "model_name": "DescriptionStyleModel",
      "state": {
       "description_width": ""
      }
     },
     "14ed42901a7b4f46889a40462a8705cd": {
      "model_module": "@jupyter-widgets/controls",
      "model_module_version": "1.5.0",
      "model_name": "DescriptionStyleModel",
      "state": {
       "description_width": "initial"
      }
     },
     "14fec53b91554ec7b913e9426eb74a0a": {
      "model_module": "@jupyter-widgets/base",
      "model_module_version": "1.2.0",
      "model_name": "LayoutModel",
      "state": {}
     },
     "150a06964a2644d5a00ea3d5ddaf41e7": {
      "model_module": "@jupyter-widgets/controls",
      "model_module_version": "1.5.0",
      "model_name": "ButtonModel",
      "state": {
       "description": "Agens",
       "layout": "IPY_MODEL_b76973ead251402f938b61bf0fb55282",
       "style": "IPY_MODEL_77893b47cdf24a77b98fb271cd60c3b5"
      }
     },
     "1529cf582c0044e684f05e97b00fdb34": {
      "model_module": "@jupyter-widgets/base",
      "model_module_version": "1.2.0",
      "model_name": "LayoutModel",
      "state": {
       "width": "600px"
      }
     },
     "152f9f428b4d47efa987d7b00734107f": {
      "model_module": "@jupyter-widgets/controls",
      "model_module_version": "1.5.0",
      "model_name": "ButtonStyleModel",
      "state": {}
     },
     "1545a8628a634bcda4036dc53f5f22e1": {
      "model_module": "@jupyter-widgets/base",
      "model_module_version": "1.2.0",
      "model_name": "LayoutModel",
      "state": {
       "width": "250px"
      }
     },
     "15528865262448c2927ce56635304241": {
      "model_module": "@jupyter-widgets/controls",
      "model_module_version": "1.5.0",
      "model_name": "ButtonStyleModel",
      "state": {
       "button_color": "lightgreen"
      }
     },
     "155da6064dc847658f03a82c307e3536": {
      "model_module": "@jupyter-widgets/base",
      "model_module_version": "1.2.0",
      "model_name": "LayoutModel",
      "state": {
       "justify_content": "center"
      }
     },
     "156e1b492fca46889e83b24943c24a84": {
      "model_module": "@jupyter-widgets/controls",
      "model_module_version": "1.5.0",
      "model_name": "DescriptionStyleModel",
      "state": {
       "description_width": ""
      }
     },
     "159a20ff5c5441f5ae76a4facc9d1ad6": {
      "model_module": "@jupyter-widgets/controls",
      "model_module_version": "1.5.0",
      "model_name": "ButtonStyleModel",
      "state": {
       "button_color": "lightgreen"
      }
     },
     "15ac63484dad4e0db3f169562aeded8b": {
      "model_module": "@jupyter-widgets/controls",
      "model_module_version": "1.5.0",
      "model_name": "DescriptionStyleModel",
      "state": {
       "description_width": ""
      }
     },
     "15b53798d9f440e0a67d32c0cef9ab17": {
      "model_module": "@jupyter-widgets/controls",
      "model_module_version": "1.5.0",
      "model_name": "CheckboxModel",
      "state": {
       "description": "FS0 = [CAT = N, GEN = FEM], FS1 = [CAT = N, GEN = FEM]",
       "disabled": false,
       "layout": "IPY_MODEL_d8f09cc43567428f9e3ef66fb39515c2",
       "style": "IPY_MODEL_1f20d7399f924cd6b4481afa13dc4eb9",
       "value": false
      }
     },
     "15cc5aa0afca481a810d2e14040ee594": {
      "model_module": "@jupyter-widgets/base",
      "model_module_version": "1.2.0",
      "model_name": "LayoutModel",
      "state": {
       "width": "250px"
      }
     },
     "15ef4205c29d42189a56da5a6a48dbb9": {
      "model_module": "@jupyter-widgets/controls",
      "model_module_version": "1.5.0",
      "model_name": "DescriptionStyleModel",
      "state": {
       "description_width": ""
      }
     },
     "15ef6e4eb4814a7782e12ac77aaa0d10": {
      "model_module": "@jupyter-widgets/controls",
      "model_module_version": "1.5.0",
      "model_name": "ButtonModel",
      "state": {
       "description": "Korrekt?",
       "layout": "IPY_MODEL_27cb6ad672714f7fab90013b4e16d469",
       "style": "IPY_MODEL_097284aa0e654312a93ea7caeb8ebe63"
      }
     },
     "161c030020334715a904a87501640f90": {
      "model_module": "@jupyter-widgets/controls",
      "model_module_version": "1.5.0",
      "model_name": "HTMLModel",
      "state": {
       "layout": "IPY_MODEL_f2b9fa3e20554a16a3522f41f81f1751",
       "style": "IPY_MODEL_427cc7efec6a470cb00bbe4df75ecf1c",
       "value": "<i>Wählen Sie die <ins>eine</ins> korrekte Antwort aus: </i>"
      }
     },
     "1622a878007b4aefa0e57ff16118f815": {
      "model_module": "@jupyter-widgets/controls",
      "model_module_version": "1.5.0",
      "model_name": "DescriptionStyleModel",
      "state": {
       "description_width": ""
      }
     },
     "163f14594f694056ba678a411b4484d5": {
      "model_module": "@jupyter-widgets/base",
      "model_module_version": "1.2.0",
      "model_name": "LayoutModel",
      "state": {
       "justify_content": "center"
      }
     },
     "164fce442b424c58bc4e702050e31f77": {
      "model_module": "@jupyter-widgets/controls",
      "model_module_version": "1.5.0",
      "model_name": "DescriptionStyleModel",
      "state": {
       "description_width": "initial"
      }
     },
     "166b306adb244ebab49ef9930b66b08c": {
      "model_module": "@jupyter-widgets/controls",
      "model_module_version": "1.5.0",
      "model_name": "HBoxModel",
      "state": {
       "children": [
        "IPY_MODEL_e02bb196478d4f6ab5b230197579f8f9",
        "IPY_MODEL_3a802c8cbac64562893d261b0834c131"
       ],
       "layout": "IPY_MODEL_8c1358abfcfb4cfa96598718fe50e301"
      }
     },
     "167573074ce547628b15c358e3dcc9d9": {
      "model_module": "@jupyter-widgets/base",
      "model_module_version": "1.2.0",
      "model_name": "LayoutModel",
      "state": {
       "width": "600px"
      }
     },
     "1678dd1eb04c4a7aae208c8a9dd4f93c": {
      "model_module": "@jupyter-widgets/controls",
      "model_module_version": "1.5.0",
      "model_name": "ButtonModel",
      "state": {
       "description": "Korrekt?",
       "layout": "IPY_MODEL_5e3fe2f992304b13864d552135fc7556",
       "style": "IPY_MODEL_227f8e5cffa343ae8609638906e06a6b"
      }
     },
     "1689ddbfd44c4c0aaa22f395008138c0": {
      "model_module": "@jupyter-widgets/controls",
      "model_module_version": "1.5.0",
      "model_name": "CheckboxModel",
      "state": {
       "description": "'rue Pascal'; ('spouse', 'address', 'street')",
       "disabled": false,
       "layout": "IPY_MODEL_ddb923ce50934343b2321f949f4f9cd3",
       "style": "IPY_MODEL_bae9977d56024aa784e9c6bb1a883b79",
       "value": false
      }
     },
     "169b19fa254f4ffaa8148366d6cc394c": {
      "model_module": "@jupyter-widgets/controls",
      "model_module_version": "1.5.0",
      "model_name": "DescriptionStyleModel",
      "state": {
       "description_width": "initial"
      }
     },
     "16ad40b83ec147bca91da328afa61840": {
      "model_module": "@jupyter-widgets/controls",
      "model_module_version": "1.5.0",
      "model_name": "CheckboxModel",
      "state": {
       "description": "Sie werden neu eingefügt.",
       "disabled": false,
       "layout": "IPY_MODEL_f4d909e1372d45feb7be2992aebb0d4f",
       "style": "IPY_MODEL_e6c454fe2a4d45bbbff9fe98d0e15e49",
       "value": false
      }
     },
     "16b7813c947045e2ba2828097d04999d": {
      "model_module": "@jupyter-widgets/base",
      "model_module_version": "1.2.0",
      "model_name": "LayoutModel",
      "state": {
       "justify_content": "center"
      }
     },
     "16bbe9c809d64bbaa44e4745bdf028a8": {
      "model_module": "@jupyter-widgets/controls",
      "model_module_version": "1.5.0",
      "model_name": "CheckboxModel",
      "state": {
       "description": "Die Form des Adjektivs ist in jedem Kasus unterschiedlich.",
       "disabled": false,
       "layout": "IPY_MODEL_86a7d0a8caef459b8c6d2170baf5d1a9",
       "style": "IPY_MODEL_24720bb8eb5b4286847602a94d0e7907",
       "value": false
      }
     },
     "16e871c0bf8b4ae8a6a3db058851e573": {
      "model_module": "@jupyter-widgets/controls",
      "model_module_version": "1.5.0",
      "model_name": "DescriptionStyleModel",
      "state": {
       "description_width": "initial"
      }
     },
     "16f4a26d0f8743ac992146528b92c6fd": {
      "model_module": "@jupyter-widgets/controls",
      "model_module_version": "1.5.0",
      "model_name": "HTMLModel",
      "state": {
       "layout": "IPY_MODEL_3e1b91983de746febcf14fadd8d893bf",
       "style": "IPY_MODEL_2a01abe320bb4458b2f97202ffc7d676",
       "value": "<h4 style=\"font-size:14px;\">In Verbindung mit einem</h4>"
      }
     },
     "171c3f60bfe14508a9d15875687067db": {
      "model_module": "@jupyter-widgets/base",
      "model_module_version": "1.2.0",
      "model_name": "LayoutModel",
      "state": {
       "width": "600px"
      }
     },
     "1730d13a0b9849c1bc3fb10c093984d2": {
      "model_module": "@jupyter-widgets/controls",
      "model_module_version": "1.5.0",
      "model_name": "DescriptionStyleModel",
      "state": {
       "description_width": ""
      }
     },
     "173f9d36facb43e7bc38b7271113d630": {
      "model_module": "@jupyter-widgets/base",
      "model_module_version": "1.2.0",
      "model_name": "LayoutModel",
      "state": {
       "justify_content": "center"
      }
     },
     "17c60319a78c4003aff2117cedfe04c9": {
      "model_module": "@jupyter-widgets/base",
      "model_module_version": "1.2.0",
      "model_name": "LayoutModel",
      "state": {
       "width": "600px"
      }
     },
     "17f9373df2aa46dfb45b110369dd19ae": {
      "model_module": "@jupyter-widgets/base",
      "model_module_version": "1.2.0",
      "model_name": "LayoutModel",
      "state": {}
     },
     "181fe13e7d064abeb6d9db66c99d82c2": {
      "model_module": "@jupyter-widgets/controls",
      "model_module_version": "1.5.0",
      "model_name": "DescriptionStyleModel",
      "state": {
       "description_width": ""
      }
     },
     "1825b7b166e94b94a692f17061b20e76": {
      "model_module": "@jupyter-widgets/controls",
      "model_module_version": "1.5.0",
      "model_name": "CheckboxModel",
      "state": {
       "description": "Es ist die spezifischere Merkmalsstruktur.",
       "disabled": false,
       "layout": "IPY_MODEL_c4de03df4bec472d886ebfb6ec03d939",
       "style": "IPY_MODEL_333b84bdccf64f4797c002814e99d58e",
       "value": false
      }
     },
     "1829ad32a42340d786bd9c030308897a": {
      "model_module": "@jupyter-widgets/base",
      "model_module_version": "1.2.0",
      "model_name": "LayoutModel",
      "state": {
       "width": "600px"
      }
     },
     "1831328ae6c74f52b3cf2ac2e13db5e7": {
      "model_module": "@jupyter-widgets/controls",
      "model_module_version": "1.5.0",
      "model_name": "CheckboxModel",
      "state": {
       "description": "Sie werden aus der Eingabe extrahiert (feature extraction)",
       "disabled": false,
       "layout": "IPY_MODEL_63acd3940040473097b6ce511b58a082",
       "style": "IPY_MODEL_9de9b4cc93d347deb131fce63b884367",
       "value": false
      }
     },
     "1833aa58049649148de9d79540ba4557": {
      "model_module": "@jupyter-widgets/controls",
      "model_module_version": "1.5.0",
      "model_name": "DescriptionStyleModel",
      "state": {
       "description_width": "initial"
      }
     },
     "183c4628a41844d2bc690eaac054324e": {
      "model_module": "@jupyter-widgets/controls",
      "model_module_version": "1.5.0",
      "model_name": "ButtonStyleModel",
      "state": {}
     },
     "18564e8661ba4df080658ae9b3100a9d": {
      "model_module": "@jupyter-widgets/controls",
      "model_module_version": "1.5.0",
      "model_name": "HTMLModel",
      "state": {
       "layout": "IPY_MODEL_6e1efbcad7d8487186133fe7758bed0a",
       "style": "IPY_MODEL_3dc402ff1c3b4c8e8040aec6361c8327",
       "value": "<i>Wählen Sie die <ins>eine</ins> korrekte Antwort aus: </i>"
      }
     },
     "187d8cd99cb84a4eb52ad5bffe5f0b4a": {
      "model_module": "@jupyter-widgets/controls",
      "model_module_version": "1.5.0",
      "model_name": "HTMLModel",
      "state": {
       "layout": "IPY_MODEL_5d6a234eed3e4898970390a6b5886337",
       "style": "IPY_MODEL_d848206e5e9349acab5a6366a8d69b4d",
       "value": "<i>Markieren Sie <ins>alle</ins> passenden Antworten: </i>"
      }
     },
     "1881f2ac622b48ff8e86325aa939294d": {
      "model_module": "@jupyter-widgets/controls",
      "model_module_version": "1.5.0",
      "model_name": "ButtonModel",
      "state": {
       "description": "Korrekt?",
       "layout": "IPY_MODEL_867dcb0910284421b9e34d00ced5b179",
       "style": "IPY_MODEL_9f045c5116f04828911863edec268286"
      }
     },
     "18985dcb6a17479abdc8d09119d3eaee": {
      "model_module": "@jupyter-widgets/controls",
      "model_module_version": "1.5.0",
      "model_name": "VBoxModel",
      "state": {
       "children": [
        "IPY_MODEL_a9bc43c49b1247548e988b028221daf1",
        "IPY_MODEL_cb3c893a5c544722a9cfc02be18e2519",
        "IPY_MODEL_932d254bb3ba43bfbfedee4dc485b185"
       ],
       "layout": "IPY_MODEL_3df7a3a068fe43ad80004bddb925ca62"
      }
     },
     "18a3926ad87e47f0a6e323b19559f9c2": {
      "model_module": "@jupyter-widgets/base",
      "model_module_version": "1.2.0",
      "model_name": "LayoutModel",
      "state": {}
     },
     "18bbdf82281f462c8f2a31f59fbe5cce": {
      "model_module": "@jupyter-widgets/base",
      "model_module_version": "1.2.0",
      "model_name": "LayoutModel",
      "state": {}
     },
     "18d90b86903d4bcc93f06d848cfa051e": {
      "model_module": "@jupyter-widgets/base",
      "model_module_version": "1.2.0",
      "model_name": "LayoutModel",
      "state": {
       "justify_content": "center"
      }
     },
     "18f64476216a4e62b51b0c9d381d5a03": {
      "model_module": "@jupyter-widgets/base",
      "model_module_version": "1.2.0",
      "model_name": "LayoutModel",
      "state": {
       "width": "600px"
      }
     },
     "1919777965f94ca0a03ee3c6730eca4c": {
      "model_module": "@jupyter-widgets/base",
      "model_module_version": "1.2.0",
      "model_name": "LayoutModel",
      "state": {
       "width": "600px"
      }
     },
     "191c5e092fe34dfb805e9c7ce9379fc7": {
      "model_module": "@jupyter-widgets/base",
      "model_module_version": "1.2.0",
      "model_name": "LayoutModel",
      "state": {}
     },
     "1935edc772c64da3b76f4d73d66ff64b": {
      "model_module": "@jupyter-widgets/controls",
      "model_module_version": "1.5.0",
      "model_name": "HTMLModel",
      "state": {
       "layout": "IPY_MODEL_7f47236a5ab547d59d054f7a306e4e3d",
       "style": "IPY_MODEL_4183b3d41873454fbb14eae852a403e5",
       "value": "<h4 style=\"font-size:14px;\">übernehmen.</h4>"
      }
     },
     "193b6285638d4a669a8bc15823753d49": {
      "model_module": "@jupyter-widgets/base",
      "model_module_version": "1.2.0",
      "model_name": "LayoutModel",
      "state": {}
     },
     "193e6dda682348e790d4f2bd4ea4160a": {
      "model_module": "@jupyter-widgets/controls",
      "model_module_version": "1.5.0",
      "model_name": "ButtonModel",
      "state": {
       "description": "Korrekt?",
       "layout": "IPY_MODEL_a22b440f0aee417db180b766a166cd7a",
       "style": "IPY_MODEL_fcb8d857d29b4ccebf55509cd171dac3"
      }
     },
     "19a65b832b06407290516a13e0066c72": {
      "model_module": "@jupyter-widgets/base",
      "model_module_version": "1.2.0",
      "model_name": "LayoutModel",
      "state": {}
     },
     "19b0ba437b4c48098e799becf9483373": {
      "model_module": "@jupyter-widgets/controls",
      "model_module_version": "1.5.0",
      "model_name": "DescriptionStyleModel",
      "state": {
       "description_width": "initial"
      }
     },
     "19f5350a4b984eac884b6366e360e476": {
      "model_module": "@jupyter-widgets/base",
      "model_module_version": "1.2.0",
      "model_name": "LayoutModel",
      "state": {}
     },
     "1a130628e0f1463fb1b1d3bd9c5695b7": {
      "model_module": "@jupyter-widgets/controls",
      "model_module_version": "1.5.0",
      "model_name": "HTMLModel",
      "state": {
       "layout": "IPY_MODEL_7d25dd0abd284b1db08f4ac3e2737f60",
       "style": "IPY_MODEL_79618d8825a143a09dbf493e83f5db93",
       "value": "<h4 style=\"font-size:14px;\">Um welchen Faktor erhöht sich die Regelanzahl, wenn man Kongruenz (Agreement) in Numerus und Person durch Integration von Merkmalen in die Kategoriensymbole einer CFG modelliert (S → NP_1_SG VP_1_SG usw.)?</h4>"
      }
     },
     "1a25436f3d93432b824f580976970dca": {
      "model_module": "@jupyter-widgets/base",
      "model_module_version": "1.2.0",
      "model_name": "LayoutModel",
      "state": {}
     },
     "1a2c74bd691f45a09e2acd0698310b90": {
      "model_module": "@jupyter-widgets/controls",
      "model_module_version": "1.5.0",
      "model_name": "DescriptionStyleModel",
      "state": {
       "description_width": "initial"
      }
     },
     "1a47d41f79f9481492429cb40dfdb000": {
      "model_module": "@jupyter-widgets/controls",
      "model_module_version": "1.5.0",
      "model_name": "HTMLModel",
      "state": {
       "layout": "IPY_MODEL_0f772d46d3944efa87e8abd7e6696808",
       "style": "IPY_MODEL_b0c0722158e9479cb90179ee83780794",
       "value": "<h4 style=\"font-size:14px;\">Welche native python-Datenstruktur bietet sich für die Deklaration von Merkmalstrukturen als Menge von Attribut-Wert-Paaren an?</h4>"
      }
     },
     "1a49ae7fe9ad403fa3f5780227b999f7": {
      "model_module": "@jupyter-widgets/base",
      "model_module_version": "1.2.0",
      "model_name": "LayoutModel",
      "state": {
       "justify_content": "center"
      }
     },
     "1a75b927c7f24d9cae698fdaf78b48f4": {
      "model_module": "@jupyter-widgets/base",
      "model_module_version": "1.2.0",
      "model_name": "LayoutModel",
      "state": {}
     },
     "1a9c8c7835714013b8fdaa6e2767d7a4": {
      "model_module": "@jupyter-widgets/base",
      "model_module_version": "1.2.0",
      "model_name": "LayoutModel",
      "state": {}
     },
     "1aa6f2cc316c4c81b65937dd3c93152f": {
      "model_module": "@jupyter-widgets/controls",
      "model_module_version": "1.5.0",
      "model_name": "ButtonModel",
      "state": {
       "description": "Korrekt?",
       "layout": "IPY_MODEL_d5828007c976476c991d5156deed6c1d",
       "style": "IPY_MODEL_cd96f6e27d084f7bbcd02d15e9fad42d"
      }
     },
     "1aefe94dd314417ba132fa9e87e61fe7": {
      "model_module": "@jupyter-widgets/controls",
      "model_module_version": "1.5.0",
      "model_name": "ButtonModel",
      "state": {
       "description": "tuple",
       "layout": "IPY_MODEL_9fa701364788443eab73c8ae274bea0d",
       "style": "IPY_MODEL_108265daa0214954bd2fdb25bbe92955"
      }
     },
     "1b122f471b6c46e7b684fdeb381cecc5": {
      "model_module": "@jupyter-widgets/base",
      "model_module_version": "1.2.0",
      "model_name": "LayoutModel",
      "state": {
       "justify_content": "center"
      }
     },
     "1b25fa114a2a4cc39b3f7d683aeb36aa": {
      "model_module": "@jupyter-widgets/controls",
      "model_module_version": "1.5.0",
      "model_name": "HBoxModel",
      "state": {
       "children": [
        "IPY_MODEL_9f1c1908aaba490f8f0b42d9cf34ff71",
        "IPY_MODEL_fdac50fd46bf44408c5f3f2d9dca0a84"
       ],
       "layout": "IPY_MODEL_946a707b667243c3a1a0905d30b8f740"
      }
     },
     "1b541ea3359a45d791272cd19f9a0e63": {
      "model_module": "@jupyter-widgets/base",
      "model_module_version": "1.2.0",
      "model_name": "LayoutModel",
      "state": {}
     },
     "1b67d0f6f9294b6090c406dff2234adc": {
      "model_module": "@jupyter-widgets/base",
      "model_module_version": "1.2.0",
      "model_name": "LayoutModel",
      "state": {}
     },
     "1b801d8085c8445c9fd334255787306f": {
      "model_module": "@jupyter-widgets/controls",
      "model_module_version": "1.5.0",
      "model_name": "ButtonModel",
      "state": {
       "description": "Agens",
       "layout": "IPY_MODEL_3ac744010c904e9c9e4ea071918892c4",
       "style": "IPY_MODEL_767a94510ac44b869deb4a3f5e5e0e46"
      }
     },
     "1ba25ac1f3924ee08c44847c63f2c24b": {
      "model_module": "@jupyter-widgets/base",
      "model_module_version": "1.2.0",
      "model_name": "LayoutModel",
      "state": {
       "justify_content": "center"
      }
     },
     "1bb9b6dc0eda4683b4a89acf599439bd": {
      "model_module": "@jupyter-widgets/controls",
      "model_module_version": "1.5.0",
      "model_name": "ButtonModel",
      "state": {
       "description": "Recipient",
       "layout": "IPY_MODEL_72ba5a05abc143b1a3c077c3e6afadae",
       "style": "IPY_MODEL_f95c7f164d544ff79f09b125f7806620"
      }
     },
     "1bd523aea47b44ed895a60d2b562263d": {
      "model_module": "@jupyter-widgets/controls",
      "model_module_version": "1.5.0",
      "model_name": "CheckboxModel",
      "state": {
       "description": "Der Artikel übernimmt die Genusmarkierung.",
       "disabled": false,
       "layout": "IPY_MODEL_aa9252ce7926498eae1988c4a9bbdda2",
       "style": "IPY_MODEL_797d03d3a3da4fae983d8126b99eda3a",
       "value": true
      }
     },
     "1bd6889b5d4d4cb29d9df197b67b4bbc": {
      "model_module": "@jupyter-widgets/controls",
      "model_module_version": "1.5.0",
      "model_name": "VBoxModel",
      "state": {
       "children": [
        "IPY_MODEL_6206ad7ed009417fb51f24371e7dce12",
        "IPY_MODEL_a044ced764f24fb5aa8bca786c3c4920",
        "IPY_MODEL_23c434a829944920ac209a30dfab6095"
       ],
       "layout": "IPY_MODEL_bb938a02b7ae4da39fc73fda368de60a"
      }
     },
     "1be899da5f214702a4c06e169c84786f": {
      "model_module": "@jupyter-widgets/controls",
      "model_module_version": "1.5.0",
      "model_name": "CheckboxModel",
      "state": {
       "description": "'rue Pascal'; ('spouse', 'address', 'street')",
       "disabled": false,
       "layout": "IPY_MODEL_d483a39946624162983e218daaf8f9ed",
       "style": "IPY_MODEL_09084621d8d9407fa4e558fd85c37317",
       "value": false
      }
     },
     "1beff33acf5d4232acc751de63c7f2ad": {
      "model_module": "@jupyter-widgets/controls",
      "model_module_version": "1.5.0",
      "model_name": "ButtonStyleModel",
      "state": {}
     },
     "1bfb3ce0f9a24581b1b443f8381ce00a": {
      "model_module": "@jupyter-widgets/controls",
      "model_module_version": "1.5.0",
      "model_name": "ButtonStyleModel",
      "state": {
       "button_color": "lightgreen"
      }
     },
     "1bfb986dad4441f49ebc4777fbf9d36f": {
      "model_module": "@jupyter-widgets/controls",
      "model_module_version": "1.5.0",
      "model_name": "HBoxModel",
      "state": {
       "children": [
        "IPY_MODEL_8f3f9d1a96ef457d9610c3fd27cb84d1",
        "IPY_MODEL_c161d0842bb94877bb426906c9ab0459"
       ],
       "layout": "IPY_MODEL_6a8a3ac21275404d8e4584473c36b548"
      }
     },
     "1c17117a40f3464492ebbc4a44c5ab65": {
      "model_module": "@jupyter-widgets/base",
      "model_module_version": "1.2.0",
      "model_name": "LayoutModel",
      "state": {
       "justify_content": "center"
      }
     },
     "1c2e10d96a5a44f9805334faf304a17d": {
      "model_module": "@jupyter-widgets/controls",
      "model_module_version": "1.5.0",
      "model_name": "ButtonStyleModel",
      "state": {}
     },
     "1c345ff9d03147898c05806908ae5d94": {
      "model_module": "@jupyter-widgets/controls",
      "model_module_version": "1.5.0",
      "model_name": "CheckboxModel",
      "state": {
       "description": "Subjekt-Demotion zu Adverbial",
       "disabled": false,
       "layout": "IPY_MODEL_7e7bf3e7285d4cab96328868f5da9fa3",
       "style": "IPY_MODEL_91f306cfea1b4f9c998f48a40fbfaee3",
       "value": false
      }
     },
     "1c49e186723f4b1e83445f49d4f1b28c": {
      "model_module": "@jupyter-widgets/controls",
      "model_module_version": "1.5.0",
      "model_name": "ButtonModel",
      "state": {
       "description": "dictionary",
       "layout": "IPY_MODEL_066b5748959b4c2986ce9a33780e4b2a",
       "style": "IPY_MODEL_0d404a4f30d94f37ba176d302c1f2ca9"
      }
     },
     "1c4da98793ae4be5b2ce75cf6c11a582": {
      "model_module": "@jupyter-widgets/controls",
      "model_module_version": "1.5.0",
      "model_name": "DescriptionStyleModel",
      "state": {
       "description_width": "initial"
      }
     },
     "1c87cb04ec6b42e5aa4fc021bb6958c7": {
      "model_module": "@jupyter-widgets/base",
      "model_module_version": "1.2.0",
      "model_name": "LayoutModel",
      "state": {}
     },
     "1c94f2dfb52d4212b604a0a7e534a800": {
      "model_module": "@jupyter-widgets/controls",
      "model_module_version": "1.5.0",
      "model_name": "ButtonModel",
      "state": {
       "description": "schwache Deklination",
       "layout": "IPY_MODEL_48841777f1674fc0a011d0fe2c9f2ddd",
       "style": "IPY_MODEL_24d1c5bc25fb48e8ba7d17bb4d7bf5f9"
      }
     },
     "1c9d4269fa604c8cb6907fecccb1ad95": {
      "model_module": "@jupyter-widgets/controls",
      "model_module_version": "1.5.0",
      "model_name": "CheckboxModel",
      "state": {
       "description": "Der Artikel übernimmt die Genusmarkierung.",
       "disabled": false,
       "layout": "IPY_MODEL_2490807da5334e5b870e938184b84ac5",
       "style": "IPY_MODEL_dec4f5ea4ae742618f90e3b8902e0b77",
       "value": false
      }
     },
     "1c9f3d3616734d03a031f08d260ac310": {
      "model_module": "@jupyter-widgets/controls",
      "model_module_version": "1.5.0",
      "model_name": "DescriptionStyleModel",
      "state": {
       "description_width": "initial"
      }
     },
     "1cb0d82f3947483794c5026829b00f9b": {
      "model_module": "@jupyter-widgets/controls",
      "model_module_version": "1.5.0",
      "model_name": "DescriptionStyleModel",
      "state": {
       "description_width": "initial"
      }
     },
     "1cba83225e6c45c98f1400b3e98133d3": {
      "model_module": "@jupyter-widgets/controls",
      "model_module_version": "1.5.0",
      "model_name": "ButtonModel",
      "state": {
       "description": "bestimmten",
       "layout": "IPY_MODEL_d670136961d7423cb04521dd5b4b8b86",
       "style": "IPY_MODEL_8100e22058c24d179f9f6ba383f96642"
      }
     },
     "1ce84e4704274a2ca3d7299d7ee72431": {
      "model_module": "@jupyter-widgets/base",
      "model_module_version": "1.2.0",
      "model_name": "LayoutModel",
      "state": {
       "justify_content": "center"
      }
     },
     "1ce91d7d7db04bd5b0d685e31c0f1353": {
      "model_module": "@jupyter-widgets/base",
      "model_module_version": "1.2.0",
      "model_name": "LayoutModel",
      "state": {}
     },
     "1ceb4ae3993f4074ae348e3c2821af6a": {
      "model_module": "@jupyter-widgets/controls",
      "model_module_version": "1.5.0",
      "model_name": "ButtonModel",
      "state": {
       "description": "Korrekt?",
       "layout": "IPY_MODEL_dcc2fd6d6d66415eb6b77783639f4e30",
       "style": "IPY_MODEL_22486fe72448404380bf26efebe8a4d9"
      }
     },
     "1d13bb41591e461d8eb840283b8776c7": {
      "model_module": "@jupyter-widgets/controls",
      "model_module_version": "1.5.0",
      "model_name": "VBoxModel",
      "state": {
       "children": [
        "IPY_MODEL_b36063011846463a8924216a85b18060",
        "IPY_MODEL_a9fc642476994a9cbd4f05e1a01fa0cd",
        "IPY_MODEL_c9b414349d49432e8dddd938b709bca4",
        "IPY_MODEL_1881f2ac622b48ff8e86325aa939294d"
       ],
       "layout": "IPY_MODEL_34b00d043404460d82e7baf78e349a32"
      }
     },
     "1d84bf05b383489babc590e95f2caad3": {
      "model_module": "@jupyter-widgets/base",
      "model_module_version": "1.2.0",
      "model_name": "LayoutModel",
      "state": {
       "width": "250px"
      }
     },
     "1d8d399b56c54b81bf3f1cfba168b6fb": {
      "model_module": "@jupyter-widgets/controls",
      "model_module_version": "1.5.0",
      "model_name": "HBoxModel",
      "state": {
       "children": [
        "IPY_MODEL_e30179e80b1b4814bc92f298ac81bb00",
        "IPY_MODEL_e75505c1bf8f4bca888110ac5dc78f1c"
       ],
       "layout": "IPY_MODEL_21fa95161a9b4345b87a717b3145a985"
      }
     },
     "1da1d12381eb45d398c073d1d1bdcb1d": {
      "model_module": "@jupyter-widgets/controls",
      "model_module_version": "1.5.0",
      "model_name": "DescriptionStyleModel",
      "state": {
       "description_width": "initial"
      }
     },
     "1db91e2c92cb497791f747e16f579ad2": {
      "model_module": "@jupyter-widgets/base",
      "model_module_version": "1.2.0",
      "model_name": "LayoutModel",
      "state": {
       "width": "150px"
      }
     },
     "1db997d378714284bb8a8e4fe5eb193e": {
      "model_module": "@jupyter-widgets/controls",
      "model_module_version": "1.5.0",
      "model_name": "CheckboxModel",
      "state": {
       "description": "FS0 = [CAT = N], FS1 = [CAT = N, GEN = MASK]",
       "disabled": false,
       "layout": "IPY_MODEL_ff04900cf00c48d58809a96e519c80c9",
       "style": "IPY_MODEL_6a247c4c932046c9b267f72db98ab179",
       "value": false
      }
     },
     "1dd26d40dd874ef99a9c51ce8cce02f7": {
      "model_module": "@jupyter-widgets/controls",
      "model_module_version": "1.5.0",
      "model_name": "CheckboxModel",
      "state": {
       "description": "FS0 = [CAT = DET], FS1 = [CAT = N, GEN = MASK]",
       "disabled": false,
       "layout": "IPY_MODEL_4382c5241d7d4795bf4e421f94dbab8f",
       "style": "IPY_MODEL_1dd9b5de82294bf6ad191020d89f38ae",
       "value": true
      }
     },
     "1dd9b5de82294bf6ad191020d89f38ae": {
      "model_module": "@jupyter-widgets/controls",
      "model_module_version": "1.5.0",
      "model_name": "DescriptionStyleModel",
      "state": {
       "description_width": "initial"
      }
     },
     "1de1e91d42774d2ba30bb7de1e4686e6": {
      "model_module": "@jupyter-widgets/controls",
      "model_module_version": "1.5.0",
      "model_name": "DescriptionStyleModel",
      "state": {
       "description_width": "initial"
      }
     },
     "1de7be0de1eb439f969adaf8810bd630": {
      "model_module": "@jupyter-widgets/controls",
      "model_module_version": "1.5.0",
      "model_name": "CheckboxModel",
      "state": {
       "description": "Subjekt-Demotion zu Adverbial",
       "disabled": false,
       "layout": "IPY_MODEL_5d8affd309294313921ea5ef9b857af2",
       "style": "IPY_MODEL_1a2c74bd691f45a09e2acd0698310b90",
       "value": false
      }
     },
     "1dea466b179440459f385183d37bed7d": {
      "model_module": "@jupyter-widgets/base",
      "model_module_version": "1.2.0",
      "model_name": "LayoutModel",
      "state": {}
     },
     "1dfb7dac92ed4bb6b00b4fccb371aba0": {
      "model_module": "@jupyter-widgets/controls",
      "model_module_version": "1.5.0",
      "model_name": "DescriptionStyleModel",
      "state": {
       "description_width": ""
      }
     },
     "1dfdafaf1ec349a284208aea6ad63d2b": {
      "model_module": "@jupyter-widgets/controls",
      "model_module_version": "1.5.0",
      "model_name": "DescriptionStyleModel",
      "state": {
       "description_width": "initial"
      }
     },
     "1e34b6610caf45b4b7514ee4b815edd8": {
      "model_module": "@jupyter-widgets/controls",
      "model_module_version": "1.5.0",
      "model_name": "DescriptionStyleModel",
      "state": {
       "description_width": ""
      }
     },
     "1e3d3dc1e07e41bb856b3742956549e1": {
      "model_module": "@jupyter-widgets/controls",
      "model_module_version": "1.5.0",
      "model_name": "ButtonStyleModel",
      "state": {}
     },
     "1e4a7459ef624de1862203656f2d8458": {
      "model_module": "@jupyter-widgets/controls",
      "model_module_version": "1.5.0",
      "model_name": "DescriptionStyleModel",
      "state": {
       "description_width": "initial"
      }
     },
     "1e51272cb8374b4197fe4c7b3d554099": {
      "model_module": "@jupyter-widgets/controls",
      "model_module_version": "1.5.0",
      "model_name": "VBoxModel",
      "state": {
       "children": [
        "IPY_MODEL_f66733624cd44e4d882c70ac228d7f71",
        "IPY_MODEL_c3d42cb5b4384f9f97e37164d0351a55",
        "IPY_MODEL_1bd6889b5d4d4cb29d9df197b67b4bbc",
        "IPY_MODEL_b87efb2920a041f78a16a0f7d9b37871"
       ],
       "layout": "IPY_MODEL_c4fb4dff5577437e9804496b2ae7bafe"
      }
     },
     "1e6074ff7ce14c59920c933d31e2159f": {
      "model_module": "@jupyter-widgets/controls",
      "model_module_version": "1.5.0",
      "model_name": "HTMLModel",
      "state": {
       "layout": "IPY_MODEL_cba18564187848efa4768de9ef3bc5b8",
       "style": "IPY_MODEL_ced326ae152c42b5b7c8988866475fe7",
       "value": "<h4 style=\"font-size:14px;\">Schildern beide Sätze denselben Sachverhalt?</h4>"
      }
     },
     "1e96a2c187b34c71a28e496aaf6f7dd3": {
      "model_module": "@jupyter-widgets/base",
      "model_module_version": "1.2.0",
      "model_name": "LayoutModel",
      "state": {
       "width": "500px"
      }
     },
     "1e9810832d1c42b590663fe960954861": {
      "model_module": "@jupyter-widgets/base",
      "model_module_version": "1.2.0",
      "model_name": "LayoutModel",
      "state": {}
     },
     "1eab9beb3e99489ab30485d1a62059cc": {
      "model_module": "@jupyter-widgets/controls",
      "model_module_version": "1.5.0",
      "model_name": "ButtonStyleModel",
      "state": {
       "button_color": "lightgreen"
      }
     },
     "1ecc625c3d2d49e5810584a96716e598": {
      "model_module": "@jupyter-widgets/controls",
      "model_module_version": "1.5.0",
      "model_name": "DescriptionStyleModel",
      "state": {
       "description_width": ""
      }
     },
     "1ecf310eb16741efbe68fed1f82f00ec": {
      "model_module": "@jupyter-widgets/controls",
      "model_module_version": "1.5.0",
      "model_name": "DescriptionStyleModel",
      "state": {
       "description_width": ""
      }
     },
     "1eff9c4732b44bc3af1d7792e5440a5b": {
      "model_module": "@jupyter-widgets/base",
      "model_module_version": "1.2.0",
      "model_name": "LayoutModel",
      "state": {}
     },
     "1f1345b475284bd0b3538485e44fb167": {
      "model_module": "@jupyter-widgets/controls",
      "model_module_version": "1.5.0",
      "model_name": "VBoxModel",
      "state": {
       "children": [
        "IPY_MODEL_7183e09b4df14a4bbec62d08f88b651d",
        "IPY_MODEL_8ab4b7f8d1d346fe8475c6b5b63833a4",
        "IPY_MODEL_637e5af9aa344d7fbfed0e3b56e1af3c"
       ],
       "layout": "IPY_MODEL_38890a3070a74e479d959e67af90de4c"
      }
     },
     "1f18154c6e744b56a25c9beac54380f8": {
      "model_module": "@jupyter-widgets/base",
      "model_module_version": "1.2.0",
      "model_name": "LayoutModel",
      "state": {
       "width": "250px"
      }
     },
     "1f20d7399f924cd6b4481afa13dc4eb9": {
      "model_module": "@jupyter-widgets/controls",
      "model_module_version": "1.5.0",
      "model_name": "DescriptionStyleModel",
      "state": {
       "description_width": "initial"
      }
     },
     "1f47450903494dd7bf8bed28a56d1b22": {
      "model_module": "@jupyter-widgets/controls",
      "model_module_version": "1.5.0",
      "model_name": "ButtonModel",
      "state": {
       "description": "unbestimmten",
       "layout": "IPY_MODEL_0c80239e07bf402290b7183d20c8fffe",
       "style": "IPY_MODEL_a5b37be31d7a47a99400532b628c59d3"
      }
     },
     "1f849d4d3ecc47f0a91b81f415e60af9": {
      "model_module": "@jupyter-widgets/controls",
      "model_module_version": "1.5.0",
      "model_name": "DescriptionStyleModel",
      "state": {
       "description_width": ""
      }
     },
     "1fab03aca4384ef1aa5f40e8b1b419df": {
      "model_module": "@jupyter-widgets/base",
      "model_module_version": "1.2.0",
      "model_name": "LayoutModel",
      "state": {
       "justify_content": "center"
      }
     },
     "1fbf1796c5394994826d8725609456a3": {
      "model_module": "@jupyter-widgets/controls",
      "model_module_version": "1.5.0",
      "model_name": "HTMLModel",
      "state": {
       "layout": "IPY_MODEL_d1f8256c371d426ca0d80ae30c210a5f",
       "style": "IPY_MODEL_5f2b1b29a1764a41aa3638a6aa175973",
       "value": "<i>Wählen Sie die <ins>eine</ins> korrekte Antwort aus: </i>"
      }
     },
     "200184a8ba4c4fc9be625dafada5c1bf": {
      "model_module": "@jupyter-widgets/base",
      "model_module_version": "1.2.0",
      "model_name": "LayoutModel",
      "state": {
       "width": "250px"
      }
     },
     "20121ed0fb224f2faec5c39eb7aab7cd": {
      "model_module": "@jupyter-widgets/controls",
      "model_module_version": "1.5.0",
      "model_name": "VBoxModel",
      "state": {
       "children": [
        "IPY_MODEL_57dc8858a6b5497f8858c4078fb67ef0",
        "IPY_MODEL_e3a3755a08c645dcbe588725636a8ef4",
        "IPY_MODEL_5baaf605239a4cea8d7f37caab4cd43c",
        "IPY_MODEL_3947dcbd5c284f7ca0151d80f9d93ea8"
       ],
       "layout": "IPY_MODEL_76d6e50551614f41a7c5ca0ba6aef9f7"
      }
     },
     "2019da7a62ee449f9fed11708e5a754f": {
      "model_module": "@jupyter-widgets/controls",
      "model_module_version": "1.5.0",
      "model_name": "CheckboxModel",
      "state": {
       "description": "Die Form vom Adjektiven hängt niemals von irgendeinem Genus ab.",
       "disabled": false,
       "layout": "IPY_MODEL_2991c78f645a43f2819b4f6469ef903e",
       "style": "IPY_MODEL_f19cbbb884214dd7b1a09d4b4126392b",
       "value": false
      }
     },
     "2037081e0e1941a184dfce996a647fc2": {
      "model_module": "@jupyter-widgets/controls",
      "model_module_version": "1.5.0",
      "model_name": "CheckboxModel",
      "state": {
       "description": "Das Adjektiv übernimmt die Genus- und z.T. die Kasusmarkierung.",
       "disabled": false,
       "layout": "IPY_MODEL_0a5f039a0dba43049383fd96a83a7b93",
       "style": "IPY_MODEL_7721126381e148b18df6b80508d0abd4",
       "value": false
      }
     },
     "2087eddd675b4baeb7365c9b57601971": {
      "model_module": "@jupyter-widgets/controls",
      "model_module_version": "1.5.0",
      "model_name": "VBoxModel",
      "state": {
       "children": [
        "IPY_MODEL_2cdd604e4d0647ca9b0491b3f753d604",
        "IPY_MODEL_cab3d42ca922464daf6020b04a2f5cda",
        "IPY_MODEL_93c3cb95dfda435ab3afb08054a66ae7",
        "IPY_MODEL_27decb85112d42e887d0b9f2a1681237",
        "IPY_MODEL_a91adbf4fffb42e9a2cba6b815fa4e72",
        "IPY_MODEL_6b751807b2de449999f72445e117ffa5"
       ],
       "layout": "IPY_MODEL_5659d76cfade4f8aa9248952f5a8395c"
      }
     },
     "20b05c37e7084c8db196d299c54beec3": {
      "model_module": "@jupyter-widgets/base",
      "model_module_version": "1.2.0",
      "model_name": "LayoutModel",
      "state": {
       "justify_content": "center"
      }
     },
     "20f5342cc3104780b0173139da8f8283": {
      "model_module": "@jupyter-widgets/base",
      "model_module_version": "1.2.0",
      "model_name": "LayoutModel",
      "state": {
       "justify_content": "center"
      }
     },
     "20f614248496454aa48dcdb3023410fe": {
      "model_module": "@jupyter-widgets/controls",
      "model_module_version": "1.5.0",
      "model_name": "DescriptionStyleModel",
      "state": {
       "description_width": "initial"
      }
     },
     "21285abaa8f345f58d7f76c9cf03951e": {
      "model_module": "@jupyter-widgets/base",
      "model_module_version": "1.2.0",
      "model_name": "LayoutModel",
      "state": {}
     },
     "21423ba7f6c245c1a0a8a37ebdbbf6ee": {
      "model_module": "@jupyter-widgets/controls",
      "model_module_version": "1.5.0",
      "model_name": "ButtonModel",
      "state": {
       "description": "Patiens",
       "layout": "IPY_MODEL_f9567a0f8ed24ff7827a5e9c76fdd5fb",
       "style": "IPY_MODEL_5848c87b929d47c09c01254f59c4451a"
      }
     },
     "2149fc92c93b4638bd2d9812cf97d7d5": {
      "model_module": "@jupyter-widgets/controls",
      "model_module_version": "1.5.0",
      "model_name": "VBoxModel",
      "state": {
       "children": [
        "IPY_MODEL_f8b048dce01f49f08f40453ef5460637",
        "IPY_MODEL_78dbf451aacd44c8b4d922d386fefbb2",
        "IPY_MODEL_546cb18ad0b247aeb36379c6f056ccfb",
        "IPY_MODEL_b64c0558ed6947d0aed646c96cc1aca6"
       ],
       "layout": "IPY_MODEL_8e13405de2a84c4bb37770aeb340a174"
      }
     },
     "2157f73c60a74457baa568c82e0c0842": {
      "model_module": "@jupyter-widgets/controls",
      "model_module_version": "1.5.0",
      "model_name": "DescriptionStyleModel",
      "state": {
       "description_width": ""
      }
     },
     "2168699beb484194a496c32ca089c8f0": {
      "model_module": "@jupyter-widgets/base",
      "model_module_version": "1.2.0",
      "model_name": "LayoutModel",
      "state": {}
     },
     "218459c416484fcd8262f7bc244e29f9": {
      "model_module": "@jupyter-widgets/controls",
      "model_module_version": "1.5.0",
      "model_name": "HTMLModel",
      "state": {
       "layout": "IPY_MODEL_71cb4e156d4e4d198e07d8cd2e954a63",
       "style": "IPY_MODEL_7c94a8ddb5594f9daa2d2a6554ae1586",
       "value": "<h4 style=\"font-size:14px;\">Wie werden Features in formalen Grammatiken verwendet?</h4>"
      }
     },
     "21a841e30cef496581f257caf2085aec": {
      "model_module": "@jupyter-widgets/controls",
      "model_module_version": "1.5.0",
      "model_name": "VBoxModel",
      "state": {
       "children": [
        "IPY_MODEL_828c969f88474fe4a13b920e77991886",
        "IPY_MODEL_94c8fcaece33405693ffa77eabdbbeba",
        "IPY_MODEL_550cc3efeb5c488eb10522193e78b3e5"
       ],
       "layout": "IPY_MODEL_dd83fcd241f24f58beb181d565739ddd"
      }
     },
     "21b956426d4347f6ae9ab16ef0c0ff36": {
      "model_module": "@jupyter-widgets/controls",
      "model_module_version": "1.5.0",
      "model_name": "ButtonStyleModel",
      "state": {
       "button_color": "lightgreen"
      }
     },
     "21b9cc626f5e4ff3950baa69a72669d0": {
      "model_module": "@jupyter-widgets/base",
      "model_module_version": "1.2.0",
      "model_name": "LayoutModel",
      "state": {
       "width": "600px"
      }
     },
     "21dd5d1c612044dda1fbc8310feb138d": {
      "model_module": "@jupyter-widgets/controls",
      "model_module_version": "1.5.0",
      "model_name": "ButtonModel",
      "state": {
       "description": "Korrekt?",
       "layout": "IPY_MODEL_54bc9c6e93034473ba9348f3f5d16d4e",
       "style": "IPY_MODEL_9bef2c1c360244f485dad6a5a133d02c"
      }
     },
     "21e06c81fcdf4d078b8f8e6d931d0ca1": {
      "model_module": "@jupyter-widgets/controls",
      "model_module_version": "1.5.0",
      "model_name": "DescriptionStyleModel",
      "state": {
       "description_width": ""
      }
     },
     "21fa95161a9b4345b87a717b3145a985": {
      "model_module": "@jupyter-widgets/base",
      "model_module_version": "1.2.0",
      "model_name": "LayoutModel",
      "state": {}
     },
     "221f30ca80e34593aa9650e8f64b73d8": {
      "model_module": "@jupyter-widgets/base",
      "model_module_version": "1.2.0",
      "model_name": "LayoutModel",
      "state": {}
     },
     "22486fe72448404380bf26efebe8a4d9": {
      "model_module": "@jupyter-widgets/controls",
      "model_module_version": "1.5.0",
      "model_name": "ButtonStyleModel",
      "state": {
       "button_color": "lightgreen"
      }
     },
     "225620a268c84f3e83a5f9cfb0a55f2a": {
      "model_module": "@jupyter-widgets/base",
      "model_module_version": "1.2.0",
      "model_name": "LayoutModel",
      "state": {
       "width": "600px"
      }
     },
     "2274a7e364bd4064805e8f38b32afbe5": {
      "model_module": "@jupyter-widgets/base",
      "model_module_version": "1.2.0",
      "model_name": "LayoutModel",
      "state": {
       "width": "250px"
      }
     },
     "22764e378c9549e581167e639297492f": {
      "model_module": "@jupyter-widgets/base",
      "model_module_version": "1.2.0",
      "model_name": "LayoutModel",
      "state": {
       "width": "250px"
      }
     },
     "227f8e5cffa343ae8609638906e06a6b": {
      "model_module": "@jupyter-widgets/controls",
      "model_module_version": "1.5.0",
      "model_name": "ButtonStyleModel",
      "state": {
       "button_color": "lightgreen"
      }
     },
     "228c30dbabd5417aaf82955a7fb5880e": {
      "model_module": "@jupyter-widgets/base",
      "model_module_version": "1.2.0",
      "model_name": "LayoutModel",
      "state": {
       "width": "250px"
      }
     },
     "22c4de9a47a94fbc91ae47f8a2155e1e": {
      "model_module": "@jupyter-widgets/base",
      "model_module_version": "1.2.0",
      "model_name": "LayoutModel",
      "state": {
       "width": "600px"
      }
     },
     "234d2e10aa4e47a89a6f71f176217022": {
      "model_module": "@jupyter-widgets/controls",
      "model_module_version": "1.5.0",
      "model_name": "ButtonModel",
      "state": {
       "description": "starke Deklination",
       "layout": "IPY_MODEL_c13f756b386b418b85e4e931f3e35c41",
       "style": "IPY_MODEL_3b013e19ecf14aec9dece6bddb6ba182"
      }
     },
     "235a901ff5bb4d65b7da209f6b52aa74": {
      "model_module": "@jupyter-widgets/controls",
      "model_module_version": "1.5.0",
      "model_name": "ButtonModel",
      "state": {
       "description": "Agens",
       "layout": "IPY_MODEL_ab077d10a90d4825a98671edaf3e11ab",
       "style": "IPY_MODEL_c2e46096ff5248a287e4e865489686f9"
      }
     },
     "2383c8741f064304aab5ab6476a38bc3": {
      "model_module": "@jupyter-widgets/controls",
      "model_module_version": "1.5.0",
      "model_name": "VBoxModel",
      "state": {
       "children": [
        "IPY_MODEL_9f63d64dd42e4a88b3a544b76df1495e",
        "IPY_MODEL_39c8048547bc4504a1f18e27183e7d0b",
        "IPY_MODEL_60f51fcd357d48139c5d8cd737e06187"
       ],
       "layout": "IPY_MODEL_2f0cea3af93c4005a4e1be49be3b8f23"
      }
     },
     "23856912a6f84827a1d19c601480505b": {
      "model_module": "@jupyter-widgets/controls",
      "model_module_version": "1.5.0",
      "model_name": "DropdownModel",
      "state": {
       "_options_labels": [
        "Genusmarkierung",
        "Kasusmarkierung",
        " "
       ],
       "index": 2,
       "layout": "IPY_MODEL_93048bc92cf34b05b6db5280fdb5587e",
       "style": "IPY_MODEL_a5556ded4aa1410c9dca37eff7173256"
      }
     },
     "23bf726b06814c619f8c965559d048a5": {
      "model_module": "@jupyter-widgets/controls",
      "model_module_version": "1.5.0",
      "model_name": "HTMLModel",
      "state": {
       "layout": "IPY_MODEL_611446f7cdd64656b7c6bc9d7020c45c",
       "style": "IPY_MODEL_a073b0e2f5a6407da7b7078d93360bed",
       "value": "<h4 style=\"font-size:14px;\">Welche Beispiele erfüllen die obige Subsumptionsbeziehung?</h4>"
      }
     },
     "23c434a829944920ac209a30dfab6095": {
      "model_module": "@jupyter-widgets/controls",
      "model_module_version": "1.5.0",
      "model_name": "CheckboxModel",
      "state": {
       "description": "Es ist undefiniert.",
       "disabled": false,
       "layout": "IPY_MODEL_c4daed5bf1d3427ea2dcacc0a8028e94",
       "style": "IPY_MODEL_6d5f7055125f4afb9e89d7333d5f0905",
       "value": false
      }
     },
     "23cbaa8d80364466be5683ad7c0932f8": {
      "model_module": "@jupyter-widgets/base",
      "model_module_version": "1.2.0",
      "model_name": "LayoutModel",
      "state": {
       "width": "250px"
      }
     },
     "23d563a9d1464f2ab5213b459715f6b7": {
      "model_module": "@jupyter-widgets/controls",
      "model_module_version": "1.5.0",
      "model_name": "DescriptionStyleModel",
      "state": {
       "description_width": ""
      }
     },
     "23e05c0d98de4b80b7db91f03a4461e6": {
      "model_module": "@jupyter-widgets/base",
      "model_module_version": "1.2.0",
      "model_name": "LayoutModel",
      "state": {
       "width": "600px"
      }
     },
     "23e31f8225f44a698e0c52b7e0477e1f": {
      "model_module": "@jupyter-widgets/controls",
      "model_module_version": "1.5.0",
      "model_name": "DescriptionStyleModel",
      "state": {
       "description_width": "initial"
      }
     },
     "23e6eee9d73c4d34997177f07c339e3d": {
      "model_module": "@jupyter-widgets/controls",
      "model_module_version": "1.5.0",
      "model_name": "ButtonModel",
      "state": {
       "description": "list",
       "layout": "IPY_MODEL_9941c47e7a9b47daad2eb53830b408bd",
       "style": "IPY_MODEL_941717101cf841589df65c12c899a40a"
      }
     },
     "23ed8bafa3c148b394b3bd5c5d39fd67": {
      "model_module": "@jupyter-widgets/controls",
      "model_module_version": "1.5.0",
      "model_name": "HTMLModel",
      "state": {
       "layout": "IPY_MODEL_a1d3a496b7c846cd9aea035759337097",
       "style": "IPY_MODEL_934745cff60f4f51a5f19b271cc4c9bc",
       "value": "<h4 style=\"font-size:14px;\">Welche Beispiele erfüllen die obige Subsumptionsbeziehung?</h4>"
      }
     },
     "2412a3e6c0a04f15bb5b4880dc8873d3": {
      "model_module": "@jupyter-widgets/base",
      "model_module_version": "1.2.0",
      "model_name": "LayoutModel",
      "state": {
       "width": "600px"
      }
     },
     "24169968497843798fdc7b2219b7cd64": {
      "model_module": "@jupyter-widgets/controls",
      "model_module_version": "1.5.0",
      "model_name": "VBoxModel",
      "state": {
       "children": [
        "IPY_MODEL_46e8b4ead2db42e59a2a3aa2b0242cb4",
        "IPY_MODEL_b34b4935874b4ab2a7412d385c71fdfe",
        "IPY_MODEL_b13896ff6a664580964761bcc3094935"
       ],
       "layout": "IPY_MODEL_a07fb11327ba40d78566a52f33e9c2fc"
      }
     },
     "241c9e6ac9d34d2e9303eebc8938e0e8": {
      "model_module": "@jupyter-widgets/controls",
      "model_module_version": "1.5.0",
      "model_name": "CheckboxModel",
      "state": {
       "description": "x!",
       "disabled": false,
       "layout": "IPY_MODEL_e1b4d3a93bab438985bba7ad55d71ec7",
       "style": "IPY_MODEL_8bb7b2d83a4b4a16a656de82765709af",
       "value": false
      }
     },
     "241ff83edbf240fd90b31524ebd4c70c": {
      "model_module": "@jupyter-widgets/base",
      "model_module_version": "1.2.0",
      "model_name": "LayoutModel",
      "state": {}
     },
     "2455e332ed8e45c69d2eda0aceb3c588": {
      "model_module": "@jupyter-widgets/base",
      "model_module_version": "1.2.0",
      "model_name": "LayoutModel",
      "state": {
       "width": "600px"
      }
     },
     "24720bb8eb5b4286847602a94d0e7907": {
      "model_module": "@jupyter-widgets/controls",
      "model_module_version": "1.5.0",
      "model_name": "DescriptionStyleModel",
      "state": {
       "description_width": "initial"
      }
     },
     "247764b722a340868c224cc4507b320c": {
      "model_module": "@jupyter-widgets/controls",
      "model_module_version": "1.5.0",
      "model_name": "CheckboxModel",
      "state": {
       "description": "Es muss immer ein Agens vorhanden sein.",
       "disabled": false,
       "layout": "IPY_MODEL_7c4cd710678a4399ad4ea0ed2951bf2b",
       "style": "IPY_MODEL_c09b58db683d4f79b626b9976440422a",
       "value": false
      }
     },
     "2477e62bab294b5d82d96fd475cd3c02": {
      "model_module": "@jupyter-widgets/base",
      "model_module_version": "1.2.0",
      "model_name": "LayoutModel",
      "state": {
       "width": "250px"
      }
     },
     "2490807da5334e5b870e938184b84ac5": {
      "model_module": "@jupyter-widgets/base",
      "model_module_version": "1.2.0",
      "model_name": "LayoutModel",
      "state": {
       "width": "600px"
      }
     },
     "24d1c5bc25fb48e8ba7d17bb4d7bf5f9": {
      "model_module": "@jupyter-widgets/controls",
      "model_module_version": "1.5.0",
      "model_name": "ButtonStyleModel",
      "state": {}
     },
     "24e9bdc472a640789264b2aaaa210cf3": {
      "model_module": "@jupyter-widgets/controls",
      "model_module_version": "1.5.0",
      "model_name": "HTMLModel",
      "state": {
       "layout": "IPY_MODEL_355d0140cd254a659c2df3c49c67f4b1",
       "style": "IPY_MODEL_ab6b55ad87a840df8cc4f0b8e830bc89",
       "value": "<i>Markieren Sie <ins>alle</ins> passenden Antworten: </i>"
      }
     },
     "24f77806c7774d98a3c05d6e0d97131b": {
      "model_module": "@jupyter-widgets/controls",
      "model_module_version": "1.5.0",
      "model_name": "DescriptionStyleModel",
      "state": {
       "description_width": ""
      }
     },
     "24fb64b781bb41a781d790189f73d113": {
      "model_module": "@jupyter-widgets/base",
      "model_module_version": "1.2.0",
      "model_name": "LayoutModel",
      "state": {
       "width": "600px"
      }
     },
     "256a4ed46fe64df983988f0a9367afa9": {
      "model_module": "@jupyter-widgets/controls",
      "model_module_version": "1.5.0",
      "model_name": "DescriptionStyleModel",
      "state": {
       "description_width": "initial"
      }
     },
     "259f8514a6f947b791e5a1bf87de0d02": {
      "model_module": "@jupyter-widgets/base",
      "model_module_version": "1.2.0",
      "model_name": "LayoutModel",
      "state": {
       "width": "250px"
      }
     },
     "25a9a5d97e77423da6f1d1cc3e2d6227": {
      "model_module": "@jupyter-widgets/controls",
      "model_module_version": "1.5.0",
      "model_name": "HBoxModel",
      "state": {
       "children": [
        "IPY_MODEL_aea4e62af9cd4c6c9fda1e50db774f50",
        "IPY_MODEL_234d2e10aa4e47a89a6f71f176217022"
       ],
       "layout": "IPY_MODEL_4e72965ac5b34de48b00e67f0988a4bf"
      }
     },
     "26386b01d1dc46e1a82c3f5fb2ac8ade": {
      "model_module": "@jupyter-widgets/controls",
      "model_module_version": "1.5.0",
      "model_name": "ButtonModel",
      "state": {
       "description": "Instrument",
       "layout": "IPY_MODEL_5ebd08b9c9c64c2a88459fb061b97ad3",
       "style": "IPY_MODEL_152f9f428b4d47efa987d7b00734107f"
      }
     },
     "2668ee21334c4108a3656f144323e57e": {
      "model_module": "@jupyter-widgets/base",
      "model_module_version": "1.2.0",
      "model_name": "LayoutModel",
      "state": {
       "width": "600px"
      }
     },
     "268a8c058f714788aaba5aa4b377122a": {
      "model_module": "@jupyter-widgets/controls",
      "model_module_version": "1.5.0",
      "model_name": "DescriptionStyleModel",
      "state": {
       "description_width": ""
      }
     },
     "26987ba691864dbdab6d02f762b3be08": {
      "model_module": "@jupyter-widgets/base",
      "model_module_version": "1.2.0",
      "model_name": "LayoutModel",
      "state": {
       "width": "600px"
      }
     },
     "2701068becc0441ab08904196b9f53f2": {
      "model_module": "@jupyter-widgets/base",
      "model_module_version": "1.2.0",
      "model_name": "LayoutModel",
      "state": {
       "width": "600px"
      }
     },
     "2732eaa243704a9bbb87b87476654c23": {
      "model_module": "@jupyter-widgets/controls",
      "model_module_version": "1.5.0",
      "model_name": "DescriptionStyleModel",
      "state": {
       "description_width": "initial"
      }
     },
     "2744ac50f84f461fb3ebb357949b75ee": {
      "model_module": "@jupyter-widgets/controls",
      "model_module_version": "1.5.0",
      "model_name": "CheckboxModel",
      "state": {
       "description": "Eine rangiedrigere Rolle übernimmt die Subjektfunktion.",
       "disabled": false,
       "layout": "IPY_MODEL_0d577ec16c02467086429852ef9b4a64",
       "style": "IPY_MODEL_762b03bc1d5f40699072180aa19e3a4f",
       "value": true
      }
     },
     "27457560bd02425aa32428376a15eef3": {
      "model_module": "@jupyter-widgets/base",
      "model_module_version": "1.2.0",
      "model_name": "LayoutModel",
      "state": {
       "width": "250px"
      }
     },
     "275b0e311e8e41f59653816f2e9c93ba": {
      "model_module": "@jupyter-widgets/base",
      "model_module_version": "1.2.0",
      "model_name": "LayoutModel",
      "state": {}
     },
     "27858d3a6a094bf281792a0d46e417a7": {
      "model_module": "@jupyter-widgets/controls",
      "model_module_version": "1.5.0",
      "model_name": "ButtonStyleModel",
      "state": {}
     },
     "2787035f59af42db9fff181bd9febd9f": {
      "model_module": "@jupyter-widgets/controls",
      "model_module_version": "1.5.0",
      "model_name": "ButtonModel",
      "state": {
       "description": "Korrekt?",
       "layout": "IPY_MODEL_27457560bd02425aa32428376a15eef3",
       "style": "IPY_MODEL_3367ba4a58f64e658def7216cdd269de"
      }
     },
     "27b6eb003ebb412c9decde3adeba99ff": {
      "model_module": "@jupyter-widgets/controls",
      "model_module_version": "1.5.0",
      "model_name": "DescriptionStyleModel",
      "state": {
       "description_width": ""
      }
     },
     "27cb6ad672714f7fab90013b4e16d469": {
      "model_module": "@jupyter-widgets/base",
      "model_module_version": "1.2.0",
      "model_name": "LayoutModel",
      "state": {
       "width": "250px"
      }
     },
     "27decb85112d42e887d0b9f2a1681237": {
      "model_module": "@jupyter-widgets/controls",
      "model_module_version": "1.5.0",
      "model_name": "HBoxModel",
      "state": {
       "children": [
        "IPY_MODEL_303be084d98c40ac8fdf893efa2efe17",
        "IPY_MODEL_777f2ff9e72044bc82a06d67a027983c"
       ],
       "layout": "IPY_MODEL_4ba05665e14b400893faf1a763dc2b94"
      }
     },
     "28db8af5d8ba46b49b84e13cc658da39": {
      "model_module": "@jupyter-widgets/controls",
      "model_module_version": "1.5.0",
      "model_name": "DescriptionStyleModel",
      "state": {
       "description_width": ""
      }
     },
     "28dda166ef84483199c95ca8aeda015d": {
      "model_module": "@jupyter-widgets/controls",
      "model_module_version": "1.5.0",
      "model_name": "ButtonStyleModel",
      "state": {}
     },
     "292b988bd8564079b2f0b15f988f34a3": {
      "model_module": "@jupyter-widgets/controls",
      "model_module_version": "1.5.0",
      "model_name": "DescriptionStyleModel",
      "state": {
       "description_width": ""
      }
     },
     "2991c78f645a43f2819b4f6469ef903e": {
      "model_module": "@jupyter-widgets/base",
      "model_module_version": "1.2.0",
      "model_name": "LayoutModel",
      "state": {
       "width": "600px"
      }
     },
     "29bb9a84d02f4ddcba0bc94793f69710": {
      "model_module": "@jupyter-widgets/controls",
      "model_module_version": "1.5.0",
      "model_name": "VBoxModel",
      "state": {
       "children": [
        "IPY_MODEL_1a130628e0f1463fb1b1d3bd9c5695b7",
        "IPY_MODEL_8ffa8abe4e01499080e7010d228b23de",
        "IPY_MODEL_b714320c97a74f1785a847c45d6909b6",
        "IPY_MODEL_395c3e417d554baa896bc0ff342d67a1"
       ],
       "layout": "IPY_MODEL_a12422bc0fc24838884eee114fdf8fea"
      }
     },
     "29e0e4caf5c84f25b9f30432d523d8a6": {
      "model_module": "@jupyter-widgets/controls",
      "model_module_version": "1.5.0",
      "model_name": "DescriptionStyleModel",
      "state": {
       "description_width": "initial"
      }
     },
     "2a01abe320bb4458b2f97202ffc7d676": {
      "model_module": "@jupyter-widgets/controls",
      "model_module_version": "1.5.0",
      "model_name": "DescriptionStyleModel",
      "state": {
       "description_width": ""
      }
     },
     "2a270fde71994b129662b2fd53cde85e": {
      "model_module": "@jupyter-widgets/base",
      "model_module_version": "1.2.0",
      "model_name": "LayoutModel",
      "state": {
       "width": "600px"
      }
     },
     "2a4eaaa986d8403396d2844cd6ed793f": {
      "model_module": "@jupyter-widgets/base",
      "model_module_version": "1.2.0",
      "model_name": "LayoutModel",
      "state": {
       "width": "250px"
      }
     },
     "2a96591ccb7c47df860fc9f611085c24": {
      "model_module": "@jupyter-widgets/controls",
      "model_module_version": "1.5.0",
      "model_name": "VBoxModel",
      "state": {
       "children": [
        "IPY_MODEL_72cda2e059f145f6a2b0c1cc14c64c69",
        "IPY_MODEL_b6e37c8ed013480e8ae4b3d78facf90a",
        "IPY_MODEL_9bb7fdfad88944eabea31167d79733b2"
       ],
       "layout": "IPY_MODEL_17f9373df2aa46dfb45b110369dd19ae"
      }
     },
     "2a97f847a8e54428af4345a73913ca82": {
      "model_module": "@jupyter-widgets/controls",
      "model_module_version": "1.5.0",
      "model_name": "DescriptionStyleModel",
      "state": {
       "description_width": ""
      }
     },
     "2aa8eb5b05c547228a58370efe8a0415": {
      "model_module": "@jupyter-widgets/controls",
      "model_module_version": "1.5.0",
      "model_name": "VBoxModel",
      "state": {
       "children": [
        "IPY_MODEL_64dd04bf15dc42c3b3616ece5e91bc27",
        "IPY_MODEL_890da98986144206b24b0c3484c4b157",
        "IPY_MODEL_143bbcfea24b4d24b804368af8beea3d"
       ],
       "layout": "IPY_MODEL_556110235c5148058e73608ff753b800"
      }
     },
     "2aed59ab257e4dfb8fe02b1180f41f54": {
      "model_module": "@jupyter-widgets/controls",
      "model_module_version": "1.5.0",
      "model_name": "ButtonModel",
      "state": {
       "description": "bestimmten",
       "layout": "IPY_MODEL_03b31d1e330f415481c122ebce5da2d3",
       "style": "IPY_MODEL_65048191c174405b9fda4616f6bfa00b"
      }
     },
     "2af215493ec047fdb84496fa55bed4cb": {
      "model_module": "@jupyter-widgets/base",
      "model_module_version": "1.2.0",
      "model_name": "LayoutModel",
      "state": {
       "width": "250px"
      }
     },
     "2b5e19c482c648549c5cee5db3733b7d": {
      "model_module": "@jupyter-widgets/base",
      "model_module_version": "1.2.0",
      "model_name": "LayoutModel",
      "state": {}
     },
     "2b6a1660378744ac84b359ae0fb56901": {
      "model_module": "@jupyter-widgets/base",
      "model_module_version": "1.2.0",
      "model_name": "LayoutModel",
      "state": {}
     },
     "2b8759f307d441d29722b36c3b5964a9": {
      "model_module": "@jupyter-widgets/controls",
      "model_module_version": "1.5.0",
      "model_name": "DescriptionStyleModel",
      "state": {
       "description_width": "initial"
      }
     },
     "2b87804f58fe4551b03d6f9665b5d52a": {
      "model_module": "@jupyter-widgets/controls",
      "model_module_version": "1.5.0",
      "model_name": "DescriptionStyleModel",
      "state": {
       "description_width": ""
      }
     },
     "2ba894aa34c14a0bb3207a1791f3b567": {
      "model_module": "@jupyter-widgets/controls",
      "model_module_version": "1.5.0",
      "model_name": "HTMLModel",
      "state": {
       "layout": "IPY_MODEL_7fd4a2db6bd24168ade2351b7fdf81e5",
       "style": "IPY_MODEL_fe3b6b99674b47f29393d74741b5587c",
       "value": "<h4 style=\"font-size:14px;\">Welche Aussagen über Adjektive stimmen?</h4>"
      }
     },
     "2bc72d85214a44418220b2e4073099ad": {
      "model_module": "@jupyter-widgets/base",
      "model_module_version": "1.2.0",
      "model_name": "LayoutModel",
      "state": {
       "width": "600px"
      }
     },
     "2bd1c04db3c340a0becc99115a1b3541": {
      "model_module": "@jupyter-widgets/controls",
      "model_module_version": "1.5.0",
      "model_name": "HBoxModel",
      "state": {
       "children": [
        "IPY_MODEL_26386b01d1dc46e1a82c3f5fb2ac8ade",
        "IPY_MODEL_974bf6e7c08c406cada51cce5ad4d59a"
       ],
       "layout": "IPY_MODEL_961da1fe1ccd42a49a247d67b93d66c2"
      }
     },
     "2becc44fa42a47b08bdf54fb23b1772a": {
      "model_module": "@jupyter-widgets/base",
      "model_module_version": "1.2.0",
      "model_name": "LayoutModel",
      "state": {}
     },
     "2bfa3eec9148453aaf0286939c2228ba": {
      "model_module": "@jupyter-widgets/controls",
      "model_module_version": "1.5.0",
      "model_name": "DescriptionStyleModel",
      "state": {
       "description_width": "initial"
      }
     },
     "2c28f8a64c2a42098d31632e31dc1a2b": {
      "model_module": "@jupyter-widgets/controls",
      "model_module_version": "1.5.0",
      "model_name": "ButtonStyleModel",
      "state": {}
     },
     "2c8349f92e2a4db58c2fa856f9804afb": {
      "model_module": "@jupyter-widgets/controls",
      "model_module_version": "1.5.0",
      "model_name": "HTMLModel",
      "state": {
       "layout": "IPY_MODEL_05edbcfb191a4dfbb56593c87c6fae77",
       "style": "IPY_MODEL_14ec6e2a46464385a08c1cc32f885c18",
       "value": "<h4 style=\"font-size:14px;\">Welche Aussagen gelten für den Fall, dass das Adjektiv in einer NP ohne Artikel auftritt? (vgl. <i>altes Bier</i>)</h4>"
      }
     },
     "2c846aa6d1654ad7938726b846199ce0": {
      "model_module": "@jupyter-widgets/base",
      "model_module_version": "1.2.0",
      "model_name": "LayoutModel",
      "state": {
       "width": "600px"
      }
     },
     "2c89864ce9dc4e85a68eda134e57eac8": {
      "model_module": "@jupyter-widgets/controls",
      "model_module_version": "1.5.0",
      "model_name": "ButtonStyleModel",
      "state": {
       "button_color": "lightgreen"
      }
     },
     "2ca5b450ea02403d81bbb4f9d0f1e5d5": {
      "model_module": "@jupyter-widgets/controls",
      "model_module_version": "1.5.0",
      "model_name": "ButtonStyleModel",
      "state": {
       "button_color": "lightgreen"
      }
     },
     "2ca7acbe48534ec08a85a39b5d695667": {
      "model_module": "@jupyter-widgets/controls",
      "model_module_version": "1.5.0",
      "model_name": "VBoxModel",
      "state": {
       "children": [
        "IPY_MODEL_2c8349f92e2a4db58c2fa856f9804afb",
        "IPY_MODEL_f745dc1dc4d34ca69ceae41a5427bb3e",
        "IPY_MODEL_d71210e049ab47f59d8030d72704ffc7",
        "IPY_MODEL_fc0232bff9a440bc8c6624039d1c6ad9"
       ],
       "layout": "IPY_MODEL_9e2be9803d1746c7b9c631a3b68258a7"
      }
     },
     "2cdd287f206c4d1a91da7a86f3673074": {
      "model_module": "@jupyter-widgets/controls",
      "model_module_version": "1.5.0",
      "model_name": "DescriptionStyleModel",
      "state": {
       "description_width": ""
      }
     },
     "2cdd604e4d0647ca9b0491b3f753d604": {
      "model_module": "@jupyter-widgets/controls",
      "model_module_version": "1.5.0",
      "model_name": "HTMLModel",
      "state": {
       "layout": "IPY_MODEL_2d749ef522ae4f7b99e894fc6459c367",
       "style": "IPY_MODEL_53aba26fdc41493ca74c16ef526becb4",
       "value": "<h4 style=\"font-size:14px;\">Was ist der bevorzugte Kandidat zur Realisierung im Subjekt?</h4>"
      }
     },
     "2cdf968166b8411cae35f4318347b349": {
      "model_module": "@jupyter-widgets/controls",
      "model_module_version": "1.5.0",
      "model_name": "DescriptionStyleModel",
      "state": {
       "description_width": ""
      }
     },
     "2d0bec9bab5548199661aad0bd230e35": {
      "model_module": "@jupyter-widgets/controls",
      "model_module_version": "1.5.0",
      "model_name": "DescriptionStyleModel",
      "state": {
       "description_width": "initial"
      }
     },
     "2d0e5703b3bc4e4a8d534a9b2f9fb3d6": {
      "model_module": "@jupyter-widgets/controls",
      "model_module_version": "1.5.0",
      "model_name": "DescriptionStyleModel",
      "state": {
       "description_width": ""
      }
     },
     "2d30186925f841f9aeaa66273a3af423": {
      "model_module": "@jupyter-widgets/controls",
      "model_module_version": "1.5.0",
      "model_name": "DescriptionStyleModel",
      "state": {
       "description_width": "initial"
      }
     },
     "2d55c9ee4f9f4bacb9b041d40be48849": {
      "model_module": "@jupyter-widgets/base",
      "model_module_version": "1.2.0",
      "model_name": "LayoutModel",
      "state": {
       "width": "600px"
      }
     },
     "2d6205deb50d45409958fbecd852bdd7": {
      "model_module": "@jupyter-widgets/controls",
      "model_module_version": "1.5.0",
      "model_name": "ButtonStyleModel",
      "state": {}
     },
     "2d749ef522ae4f7b99e894fc6459c367": {
      "model_module": "@jupyter-widgets/base",
      "model_module_version": "1.2.0",
      "model_name": "LayoutModel",
      "state": {
       "justify_content": "center"
      }
     },
     "2d78bd776d474f478526210546d3ee04": {
      "model_module": "@jupyter-widgets/base",
      "model_module_version": "1.2.0",
      "model_name": "LayoutModel",
      "state": {
       "width": "600px"
      }
     },
     "2da749f56175463a949fa7e524c1d62c": {
      "model_module": "@jupyter-widgets/controls",
      "model_module_version": "1.5.0",
      "model_name": "HTMLModel",
      "state": {
       "layout": "IPY_MODEL_105644f16bdc4967b73d338aedacf77e",
       "style": "IPY_MODEL_f678add255e44c888a243948b30620ed",
       "value": "<i>Wählen Sie die <ins>eine</ins> korrekte Antwort aus: </i>"
      }
     },
     "2db5b14de6024fa69d9b0290f25f06ea": {
      "model_module": "@jupyter-widgets/controls",
      "model_module_version": "1.5.0",
      "model_name": "CheckboxModel",
      "state": {
       "description": "Die Form vom Adjektiven hängt niemals von irgendeinem Genus ab.",
       "disabled": false,
       "layout": "IPY_MODEL_dda08a1ff8c54413946b2b583886d413",
       "style": "IPY_MODEL_a62a0e1a0f2343cf94a08e19c876018f",
       "value": false
      }
     },
     "2e053cba611b4005bc07c909e48edf49": {
      "model_module": "@jupyter-widgets/base",
      "model_module_version": "1.2.0",
      "model_name": "LayoutModel",
      "state": {}
     },
     "2e1b9583613a42929d15e0e515e07ed0": {
      "model_module": "@jupyter-widgets/controls",
      "model_module_version": "1.5.0",
      "model_name": "DescriptionStyleModel",
      "state": {
       "description_width": "initial"
      }
     },
     "2e4d385fa2fb4030b9db32af2c770c51": {
      "model_module": "@jupyter-widgets/base",
      "model_module_version": "1.2.0",
      "model_name": "LayoutModel",
      "state": {}
     },
     "2e5c69a52d5342969d85c0aedc3c249e": {
      "model_module": "@jupyter-widgets/controls",
      "model_module_version": "1.5.0",
      "model_name": "VBoxModel",
      "state": {
       "children": [
        "IPY_MODEL_9118b843490b4cc380ccd9a7597b3869",
        "IPY_MODEL_78b0c5c997854b22a66e45936c26b446",
        "IPY_MODEL_2db5b14de6024fa69d9b0290f25f06ea"
       ],
       "layout": "IPY_MODEL_3f63d39fbc9b4ba6b6adadfb573be92c"
      }
     },
     "2ea6be1310d948369164c622508a9a03": {
      "model_module": "@jupyter-widgets/controls",
      "model_module_version": "1.5.0",
      "model_name": "CheckboxModel",
      "state": {
       "description": "74; ('address', 'number')",
       "disabled": false,
       "layout": "IPY_MODEL_568c32cbbdf9463db0e04749d07450ab",
       "style": "IPY_MODEL_0dbdf01a791b4270aa29b453257b20d5",
       "value": false
      }
     },
     "2ed73be4089e4809b96944abb4f1dfb0": {
      "model_module": "@jupyter-widgets/base",
      "model_module_version": "1.2.0",
      "model_name": "LayoutModel",
      "state": {
       "justify_content": "center"
      }
     },
     "2edcbb97c0724b438cad9e61223efa57": {
      "model_module": "@jupyter-widgets/controls",
      "model_module_version": "1.5.0",
      "model_name": "DescriptionStyleModel",
      "state": {
       "description_width": ""
      }
     },
     "2eeb8f8a46de4b1589157d48a76c4a6d": {
      "model_module": "@jupyter-widgets/base",
      "model_module_version": "1.2.0",
      "model_name": "LayoutModel",
      "state": {}
     },
     "2ef2260fd90a42c488a273493132356b": {
      "model_module": "@jupyter-widgets/controls",
      "model_module_version": "1.5.0",
      "model_name": "CheckboxModel",
      "state": {
       "description": "Das Adjektiv tritt nur in zwei verschiedenen Formen auf.",
       "disabled": false,
       "layout": "IPY_MODEL_d8c2afe9bd86420ab9712b6032abab3d",
       "style": "IPY_MODEL_e6586d85378c451c9eaac466018a9c56",
       "value": false
      }
     },
     "2f0cea3af93c4005a4e1be49be3b8f23": {
      "model_module": "@jupyter-widgets/base",
      "model_module_version": "1.2.0",
      "model_name": "LayoutModel",
      "state": {}
     },
     "2f3a929264ad466b9ef7667dac7523da": {
      "model_module": "@jupyter-widgets/base",
      "model_module_version": "1.2.0",
      "model_name": "LayoutModel",
      "state": {}
     },
     "2f3bf5c95ab0474b92c28ebae2079be9": {
      "model_module": "@jupyter-widgets/controls",
      "model_module_version": "1.5.0",
      "model_name": "BoxModel",
      "state": {
       "children": [
        "IPY_MODEL_95d66c761ddd4e7d8d1b394e2d6acc0d",
        "IPY_MODEL_36118a18077c4c5ca8cdb33f3125063c",
        "IPY_MODEL_9181c38bfbbf4e59bf88e705ae9700fb",
        "IPY_MODEL_b2cbf05d968643889649e73b70d3b788",
        "IPY_MODEL_4da57dd5a9004f27b73be5b56dc4e34a",
        "IPY_MODEL_c0c2c515e88d477baa70cb557d4cfdf2",
        "IPY_MODEL_b957383bcd614ec4b60493c124aeb84a",
        "IPY_MODEL_f1129be61d6d424093c86f24a66b787c",
        "IPY_MODEL_ea84f54347974f95ace7bda395863c00",
        "IPY_MODEL_23856912a6f84827a1d19c601480505b",
        "IPY_MODEL_d523cf520e8349a187ce26bd64c50131"
       ],
       "layout": "IPY_MODEL_f5042a94bf984802bf4f980c971b6105"
      }
     },
     "2f49b50218ec44c39db34fd9a59da67e": {
      "model_module": "@jupyter-widgets/controls",
      "model_module_version": "1.5.0",
      "model_name": "HTMLModel",
      "state": {
       "layout": "IPY_MODEL_00013b7b8d594254b24ac0fd44e1fed3",
       "style": "IPY_MODEL_06095fb5c76c4199b515f97bc4769ea2",
       "value": "<i>Markieren Sie <ins>alle</ins> passenden Antworten: </i>"
      }
     },
     "2f4e65a56c594dbeb2f0a55378d66b4c": {
      "model_module": "@jupyter-widgets/controls",
      "model_module_version": "1.5.0",
      "model_name": "ButtonModel",
      "state": {
       "description": "Korrekt?",
       "layout": "IPY_MODEL_b31db0ae1f4a42778fd1f7691eb4b7cf",
       "style": "IPY_MODEL_7a60b0f2a581417080bc0a028a6dea75"
      }
     },
     "2f7a5d6b9b56425b8d305fef827dde3b": {
      "model_module": "@jupyter-widgets/controls",
      "model_module_version": "1.5.0",
      "model_name": "CheckboxModel",
      "state": {
       "description": "x?",
       "disabled": false,
       "layout": "IPY_MODEL_44d82f4a3aab46beb0167bc7ef71569f",
       "style": "IPY_MODEL_a89a1bcfe68e4666afd46304ceb92af2",
       "value": false
      }
     },
     "2f7fe2ac5ef44989abbd8d3bf4e4d7e3": {
      "model_module": "@jupyter-widgets/base",
      "model_module_version": "1.2.0",
      "model_name": "LayoutModel",
      "state": {
       "width": "250px"
      }
     },
     "2f8c832f718d471780d450dbc3f012dc": {
      "model_module": "@jupyter-widgets/controls",
      "model_module_version": "1.5.0",
      "model_name": "CheckboxModel",
      "state": {
       "description": "Es ist undefiniert.",
       "disabled": false,
       "layout": "IPY_MODEL_2fdd404e824f47b68a7f3875da79518d",
       "style": "IPY_MODEL_05aef53e6a68442c9889456fd60013cc",
       "value": false
      }
     },
     "2f972d7f945947c5ad87d10adb133823": {
      "model_module": "@jupyter-widgets/controls",
      "model_module_version": "1.5.0",
      "model_name": "CheckboxModel",
      "state": {
       "description": "Perspektivierung",
       "disabled": false,
       "layout": "IPY_MODEL_702cddc922c14ee1acd54a2a1449b63e",
       "style": "IPY_MODEL_36d9cc217bad4d838957ee856f2804f2",
       "value": false
      }
     },
     "2fa0dd740981481184a72dcf2da6642d": {
      "model_module": "@jupyter-widgets/base",
      "model_module_version": "1.2.0",
      "model_name": "LayoutModel",
      "state": {}
     },
     "2fae250d585740979335a0391e96652f": {
      "model_module": "@jupyter-widgets/controls",
      "model_module_version": "1.5.0",
      "model_name": "DescriptionStyleModel",
      "state": {
       "description_width": ""
      }
     },
     "2fb385dc2c25450495757b2b889b9d82": {
      "model_module": "@jupyter-widgets/controls",
      "model_module_version": "1.5.0",
      "model_name": "ButtonModel",
      "state": {
       "description": "Keine der anderen Möglichkeiten",
       "layout": "IPY_MODEL_cfaf0843f40f4e7f9f4c799680dc1627",
       "style": "IPY_MODEL_687e7b93eb234bec82ebf488bc0b0255"
      }
     },
     "2fd6f6e272e64c4cbc5c1be873f22fc9": {
      "model_module": "@jupyter-widgets/controls",
      "model_module_version": "1.5.0",
      "model_name": "DescriptionStyleModel",
      "state": {
       "description_width": "initial"
      }
     },
     "2fda96c110ca45d19a8cc41959330ce6": {
      "model_module": "@jupyter-widgets/controls",
      "model_module_version": "1.5.0",
      "model_name": "DescriptionStyleModel",
      "state": {
       "description_width": ""
      }
     },
     "2fdd404e824f47b68a7f3875da79518d": {
      "model_module": "@jupyter-widgets/base",
      "model_module_version": "1.2.0",
      "model_name": "LayoutModel",
      "state": {
       "width": "600px"
      }
     },
     "2ff080af5bdd4012ae5cb6dd01548fdf": {
      "model_module": "@jupyter-widgets/controls",
      "model_module_version": "1.5.0",
      "model_name": "DescriptionStyleModel",
      "state": {
       "description_width": ""
      }
     },
     "2ffbd80f38e44f30807ab5d8f510a897": {
      "model_module": "@jupyter-widgets/controls",
      "model_module_version": "1.5.0",
      "model_name": "CheckboxModel",
      "state": {
       "description": "Die Form des Adjektivs ist in jedem Kasus unterschiedlich.",
       "disabled": false,
       "layout": "IPY_MODEL_fc1d018807904f92bb01e88cf9f95979",
       "style": "IPY_MODEL_0eaca6a0f7c34de89981eae1706a45aa",
       "value": false
      }
     },
     "300882cfe6b144108ed6fefb37d1e945": {
      "model_module": "@jupyter-widgets/controls",
      "model_module_version": "1.5.0",
      "model_name": "ButtonStyleModel",
      "state": {}
     },
     "300e7da018d74e0e87869063c6393520": {
      "model_module": "@jupyter-widgets/controls",
      "model_module_version": "1.5.0",
      "model_name": "DescriptionStyleModel",
      "state": {
       "description_width": ""
      }
     },
     "301b9838f0bc4397ad88885e515b7c04": {
      "model_module": "@jupyter-widgets/base",
      "model_module_version": "1.2.0",
      "model_name": "LayoutModel",
      "state": {
       "width": "250px"
      }
     },
     "303851a1be7e4efab9cec7a66333524d": {
      "model_module": "@jupyter-widgets/controls",
      "model_module_version": "1.5.0",
      "model_name": "DescriptionStyleModel",
      "state": {
       "description_width": ""
      }
     },
     "303be084d98c40ac8fdf893efa2efe17": {
      "model_module": "@jupyter-widgets/controls",
      "model_module_version": "1.5.0",
      "model_name": "ButtonModel",
      "state": {
       "description": "Instrument",
       "layout": "IPY_MODEL_72ef0c916bac4dc99fc1acd0fda9c086",
       "style": "IPY_MODEL_3368338e567a4968848f2564332e60c7"
      }
     },
     "305b55ef6fad4dab98016d59bc2443a9": {
      "model_module": "@jupyter-widgets/controls",
      "model_module_version": "1.5.0",
      "model_name": "VBoxModel",
      "state": {
       "children": [
        "IPY_MODEL_44f7036ead8e43d099be17b24ac0292d",
        "IPY_MODEL_3b9c4f621e7740e0b24d06a9377882ae",
        "IPY_MODEL_b5b4dc0b11bb44dea35c5b3807bbaea9",
        "IPY_MODEL_2787035f59af42db9fff181bd9febd9f"
       ],
       "layout": "IPY_MODEL_d1f315c0451b4f049e5773f0b059e0be"
      }
     },
     "3085c491798241b99580b715779b219b": {
      "model_module": "@jupyter-widgets/controls",
      "model_module_version": "1.5.0",
      "model_name": "VBoxModel",
      "state": {
       "children": [
        "IPY_MODEL_1095e0fc3220453cbe8ca5cb458b9231",
        "IPY_MODEL_fd3bd824cd1e40509587299981319fb3",
        "IPY_MODEL_011e9623a97347a196ed6629588a3654",
        "IPY_MODEL_d020fc5a8c58460697e46ff7feba5503"
       ],
       "layout": "IPY_MODEL_9b155f0301344259a7a2276c0cca0f49"
      }
     },
     "30bf29d8940d482085c24132a9b02557": {
      "model_module": "@jupyter-widgets/base",
      "model_module_version": "1.2.0",
      "model_name": "LayoutModel",
      "state": {
       "width": "600px"
      }
     },
     "30f0b95893e04c4c8041e132c84ea659": {
      "model_module": "@jupyter-widgets/base",
      "model_module_version": "1.2.0",
      "model_name": "LayoutModel",
      "state": {}
     },
     "30f19f1deead4c52b3fab92ad4a92699": {
      "model_module": "@jupyter-widgets/controls",
      "model_module_version": "1.5.0",
      "model_name": "DescriptionStyleModel",
      "state": {
       "description_width": "initial"
      }
     },
     "3119fff9005a431bb90ee2d0705f7cb4": {
      "model_module": "@jupyter-widgets/base",
      "model_module_version": "1.2.0",
      "model_name": "LayoutModel",
      "state": {
       "justify_content": "center"
      }
     },
     "316ae13386f449e6b58ac0adfea2b9da": {
      "model_module": "@jupyter-widgets/controls",
      "model_module_version": "1.5.0",
      "model_name": "DescriptionStyleModel",
      "state": {
       "description_width": ""
      }
     },
     "31b4dbab1905485db00499116ca975a5": {
      "model_module": "@jupyter-widgets/controls",
      "model_module_version": "1.5.0",
      "model_name": "CheckboxModel",
      "state": {
       "description": "Der Artikel übernimmt die Genusmarkierung.",
       "disabled": false,
       "layout": "IPY_MODEL_a3b54aad55834377b3d4b7472ede7be2",
       "style": "IPY_MODEL_60ea7dab91414089841a0d33a6f4023f",
       "value": true
      }
     },
     "31c1899d7fbc4ca489154d0eea290bab": {
      "model_module": "@jupyter-widgets/controls",
      "model_module_version": "1.5.0",
      "model_name": "VBoxModel",
      "state": {
       "children": [
        "IPY_MODEL_c73f97a5023942c9ac13308e2e27df46",
        "IPY_MODEL_5318c2a1ca0e4ddab78fcbdbbd737785",
        "IPY_MODEL_15b53798d9f440e0a67d32c0cef9ab17",
        "IPY_MODEL_f7aba7001a8f4bfdaa2505c8ac358c3c",
        "IPY_MODEL_c244248646284c06b05ca3cc9274d3f6"
       ],
       "layout": "IPY_MODEL_0274a81efe66470cb780b125ce13a2cd"
      }
     },
     "31c4c3214c0345c8bc753021504a1ee2": {
      "model_module": "@jupyter-widgets/base",
      "model_module_version": "1.2.0",
      "model_name": "LayoutModel",
      "state": {
       "justify_content": "center"
      }
     },
     "31c8fe0bd2d04d29b42473e25bb8ff5f": {
      "model_module": "@jupyter-widgets/base",
      "model_module_version": "1.2.0",
      "model_name": "LayoutModel",
      "state": {
       "width": "250px"
      }
     },
     "31f5bc18df064156ba660dca4461eecb": {
      "model_module": "@jupyter-widgets/controls",
      "model_module_version": "1.5.0",
      "model_name": "HTMLModel",
      "state": {
       "layout": "IPY_MODEL_6d414ad1749d44f680ffdc2d5363ee3a",
       "style": "IPY_MODEL_3f55715d467343f39ded62385e263286",
       "value": "<h4 style=\"font-size:14px;\">Welche native python-Datenstruktur bietet sich für die Deklaration von Merkmalstrukturen als Menge von Attribut-Wert-Paaren an?</h4>"
      }
     },
     "31fbd4d7f0764b7fbbca85b6bbc1a623": {
      "model_module": "@jupyter-widgets/controls",
      "model_module_version": "1.5.0",
      "model_name": "HTMLModel",
      "state": {
       "layout": "IPY_MODEL_9504e7d7860f4a628dfc76ad289ec6d0",
       "style": "IPY_MODEL_51bde9218f1d4855b8ec1658c4d34abb",
       "value": "<h4 style=\"font-size:14px;\">Welche syntaktischen Unterschiede bestehen?</h4>"
      }
     },
     "32070378337a44b0be75b24810cdc4f2": {
      "model_module": "@jupyter-widgets/controls",
      "model_module_version": "1.5.0",
      "model_name": "DescriptionStyleModel",
      "state": {
       "description_width": ""
      }
     },
     "320a962a1bb4471b8d92c7b47c4053a6": {
      "model_module": "@jupyter-widgets/base",
      "model_module_version": "1.2.0",
      "model_name": "LayoutModel",
      "state": {}
     },
     "321f790b8520401da7722f38bbd22d98": {
      "model_module": "@jupyter-widgets/controls",
      "model_module_version": "1.5.0",
      "model_name": "VBoxModel",
      "state": {
       "children": [
        "IPY_MODEL_480364f435fb42f088a76ffc9ee56bd1",
        "IPY_MODEL_338750f6b92740f3b1633f89318b04ce",
        "IPY_MODEL_45b5199bbc464ed09c037a095900804e"
       ],
       "layout": "IPY_MODEL_69bfd8f2c8384b43b42ffeabc9097200"
      }
     },
     "329409b3bda84899b0bee1e96528ebd9": {
      "model_module": "@jupyter-widgets/controls",
      "model_module_version": "1.5.0",
      "model_name": "CheckboxModel",
      "state": {
       "description": "Variable: -> (1)",
       "disabled": false,
       "layout": "IPY_MODEL_30bf29d8940d482085c24132a9b02557",
       "style": "IPY_MODEL_0dd1977d39fd4d449c9ab01069aed4b8",
       "value": true
      }
     },
     "32bf297ea30d4e2d8b58464c9d409919": {
      "model_module": "@jupyter-widgets/controls",
      "model_module_version": "1.5.0",
      "model_name": "DescriptionStyleModel",
      "state": {
       "description_width": "initial"
      }
     },
     "32cf7f523e73419fa74e2825b6371c82": {
      "model_module": "@jupyter-widgets/base",
      "model_module_version": "1.2.0",
      "model_name": "LayoutModel",
      "state": {}
     },
     "32d115a0644e49b8a72e4096f3a3ae49": {
      "model_module": "@jupyter-widgets/controls",
      "model_module_version": "1.5.0",
      "model_name": "DescriptionStyleModel",
      "state": {
       "description_width": ""
      }
     },
     "32df6fa684af40cda0556e0215069945": {
      "model_module": "@jupyter-widgets/controls",
      "model_module_version": "1.5.0",
      "model_name": "VBoxModel",
      "state": {
       "children": [
        "IPY_MODEL_e2e50b7f60e8478d9ca4ceb8c2021f44",
        "IPY_MODEL_0d91e75020b64c8fa778c6043f62fa8e",
        "IPY_MODEL_c3aa5467849b435db73a786b1b9628d3"
       ],
       "layout": "IPY_MODEL_6a5efb9e05154cf9b928763dcb87dab6"
      }
     },
     "32ef8b8492ac4899b631080cbf5f6b7e": {
      "model_module": "@jupyter-widgets/controls",
      "model_module_version": "1.5.0",
      "model_name": "CheckboxModel",
      "state": {
       "description": "FS0 = [CAT = N, GEN = FEM], FS1 = [CAT = N, GEN = FEM]",
       "disabled": false,
       "layout": "IPY_MODEL_5bf1b98b37cd4f5098e84442ac0cbaca",
       "style": "IPY_MODEL_bd76c6122d534a3798b8708dbbf6005a",
       "value": true
      }
     },
     "3301078c71f0401ba54e956b0e6a1344": {
      "model_module": "@jupyter-widgets/controls",
      "model_module_version": "1.5.0",
      "model_name": "ButtonStyleModel",
      "state": {}
     },
     "330e6e233cd64073b3cdf142f29a9622": {
      "model_module": "@jupyter-widgets/base",
      "model_module_version": "1.2.0",
      "model_name": "LayoutModel",
      "state": {
       "width": "250px"
      }
     },
     "330fe776f41d4c7cb264aaf59b65cf3e": {
      "model_module": "@jupyter-widgets/controls",
      "model_module_version": "1.5.0",
      "model_name": "VBoxModel",
      "state": {
       "children": [
        "IPY_MODEL_c5d59f43db6f4f45b5da90486712e1f4",
        "IPY_MODEL_e6be08086e8b4c1eabe018904fe107e7",
        "IPY_MODEL_4eabf1162c6a4791b165ea6d1c50182c",
        "IPY_MODEL_36f1ea92936f4e3bb634466e5982b2d3"
       ],
       "layout": "IPY_MODEL_ed7fc9ea73f845a298de85fe6a1a87ae"
      }
     },
     "331c7f3b088b4e2d992bc0dd736de1da": {
      "model_module": "@jupyter-widgets/base",
      "model_module_version": "1.2.0",
      "model_name": "LayoutModel",
      "state": {
       "width": "600px"
      }
     },
     "3326e731837b41cc91ea04c877c411b7": {
      "model_module": "@jupyter-widgets/controls",
      "model_module_version": "1.5.0",
      "model_name": "ButtonModel",
      "state": {
       "description": "Benefaktiv",
       "layout": "IPY_MODEL_7cdb90511b9143e89b7ad13aa89cb6f2",
       "style": "IPY_MODEL_098021d393b046dca30157798b368113"
      }
     },
     "333b84bdccf64f4797c002814e99d58e": {
      "model_module": "@jupyter-widgets/controls",
      "model_module_version": "1.5.0",
      "model_name": "DescriptionStyleModel",
      "state": {
       "description_width": "initial"
      }
     },
     "3367ba4a58f64e658def7216cdd269de": {
      "model_module": "@jupyter-widgets/controls",
      "model_module_version": "1.5.0",
      "model_name": "ButtonStyleModel",
      "state": {
       "button_color": "lightgreen"
      }
     },
     "3368338e567a4968848f2564332e60c7": {
      "model_module": "@jupyter-widgets/controls",
      "model_module_version": "1.5.0",
      "model_name": "ButtonStyleModel",
      "state": {}
     },
     "338750f6b92740f3b1633f89318b04ce": {
      "model_module": "@jupyter-widgets/controls",
      "model_module_version": "1.5.0",
      "model_name": "BoxModel",
      "state": {
       "children": [
        "IPY_MODEL_16f4a26d0f8743ac992146528b92c6fd",
        "IPY_MODEL_3edc3a142da6468e88e1be447be02751",
        "IPY_MODEL_9e961aa487064005a3b62a5a73957e77",
        "IPY_MODEL_c131c8f69f4a44888de3cc1734844061",
        "IPY_MODEL_afbfd0ae9bca492f90f3fc0eead33ea4",
        "IPY_MODEL_7a232de2dd7c463498d9b6dd7778c1cb",
        "IPY_MODEL_7e4e342f76b2447ab3a18f7563fc82b7",
        "IPY_MODEL_701b364b5e954da69645c834d63184c7",
        "IPY_MODEL_07cff4d8d79f4c7ebfec1f02d2e178f4",
        "IPY_MODEL_e5d96732375f4729bada6482206e060b",
        "IPY_MODEL_c64b173d5f5343a589a538d6fded52ce"
       ],
       "layout": "IPY_MODEL_8be059b7e79748c0885f9660dd04c491"
      }
     },
     "33a64a07a1a14b8a9f99e0f078c42a0d": {
      "model_module": "@jupyter-widgets/base",
      "model_module_version": "1.2.0",
      "model_name": "LayoutModel",
      "state": {
       "width": "600px"
      }
     },
     "341bc9f88a7442d38ed574937015b251": {
      "model_module": "@jupyter-widgets/base",
      "model_module_version": "1.2.0",
      "model_name": "LayoutModel",
      "state": {}
     },
     "343e29d44abc41789d19d7fa2f89b2e8": {
      "model_module": "@jupyter-widgets/base",
      "model_module_version": "1.2.0",
      "model_name": "LayoutModel",
      "state": {
       "width": "250px"
      }
     },
     "34640b2321eb4474a756c47682349a86": {
      "model_module": "@jupyter-widgets/controls",
      "model_module_version": "1.5.0",
      "model_name": "HTMLModel",
      "state": {
       "layout": "IPY_MODEL_fe2684ca3f744750b897b469b170d53d",
       "style": "IPY_MODEL_4e8459b98dc04a9281ce03221ae6d0eb",
       "value": "<h4 style=\"font-size:14px;\">Wie wird die Deklination der Nominalphrase <i>altes Bier</i> auch bezeichnet?</h4>"
      }
     },
     "347de3120e80434188aaf6afb6af44a8": {
      "model_module": "@jupyter-widgets/controls",
      "model_module_version": "1.5.0",
      "model_name": "DescriptionStyleModel",
      "state": {
       "description_width": ""
      }
     },
     "3493f747b1654f20a0f5b2824a67cb16": {
      "model_module": "@jupyter-widgets/controls",
      "model_module_version": "1.5.0",
      "model_name": "HBoxModel",
      "state": {
       "children": [
        "IPY_MODEL_fda37f2de28a4f8c815ae58ff48bdefe",
        "IPY_MODEL_a2909544e81c46629d4058d7fe6d250b"
       ],
       "layout": "IPY_MODEL_7a75a851fd254ada8608f14bc3175c3e"
      }
     },
     "34b00d043404460d82e7baf78e349a32": {
      "model_module": "@jupyter-widgets/base",
      "model_module_version": "1.2.0",
      "model_name": "LayoutModel",
      "state": {}
     },
     "34ba1739b7b141e6b83ffe57ec80f4d7": {
      "model_module": "@jupyter-widgets/controls",
      "model_module_version": "1.5.0",
      "model_name": "DescriptionStyleModel",
      "state": {
       "description_width": ""
      }
     },
     "34ba2b3c3dd24eabb7467f76d776d200": {
      "model_module": "@jupyter-widgets/controls",
      "model_module_version": "1.5.0",
      "model_name": "DescriptionStyleModel",
      "state": {
       "description_width": "initial"
      }
     },
     "34cf54d98869401588203d8ad316a583": {
      "model_module": "@jupyter-widgets/controls",
      "model_module_version": "1.5.0",
      "model_name": "DescriptionStyleModel",
      "state": {
       "description_width": ""
      }
     },
     "34dd66f8293443fc8a85d327b68270bd": {
      "model_module": "@jupyter-widgets/base",
      "model_module_version": "1.2.0",
      "model_name": "LayoutModel",
      "state": {
       "justify_content": "center"
      }
     },
     "3550810b91044161aa9f61a3895ad627": {
      "model_module": "@jupyter-widgets/controls",
      "model_module_version": "1.5.0",
      "model_name": "DescriptionStyleModel",
      "state": {
       "description_width": ""
      }
     },
     "355d0140cd254a659c2df3c49c67f4b1": {
      "model_module": "@jupyter-widgets/base",
      "model_module_version": "1.2.0",
      "model_name": "LayoutModel",
      "state": {
       "justify_content": "center"
      }
     },
     "355f331183164914a77cc514bcce5cb2": {
      "model_module": "@jupyter-widgets/base",
      "model_module_version": "1.2.0",
      "model_name": "LayoutModel",
      "state": {
       "width": "600px"
      }
     },
     "3560215f0c6542f898dc57ec4b82a951": {
      "model_module": "@jupyter-widgets/base",
      "model_module_version": "1.2.0",
      "model_name": "LayoutModel",
      "state": {
       "width": "600px"
      }
     },
     "356e8a7fe5a24a4ea305c82078657aed": {
      "model_module": "@jupyter-widgets/controls",
      "model_module_version": "1.5.0",
      "model_name": "CheckboxModel",
      "state": {
       "description": "Keine der Alternativen",
       "disabled": false,
       "layout": "IPY_MODEL_23e05c0d98de4b80b7db91f03a4461e6",
       "style": "IPY_MODEL_6800cba84a864f05a5afdfd7b687d720",
       "value": false
      }
     },
     "357c07e0db5c4344bdb457de01682b66": {
      "model_module": "@jupyter-widgets/base",
      "model_module_version": "1.2.0",
      "model_name": "LayoutModel",
      "state": {}
     },
     "3599594727084c8da0221e26287bbb4d": {
      "model_module": "@jupyter-widgets/base",
      "model_module_version": "1.2.0",
      "model_name": "LayoutModel",
      "state": {
       "width": "250px"
      }
     },
     "35a03c1242b140b0b438cc6df48592b9": {
      "model_module": "@jupyter-widgets/base",
      "model_module_version": "1.2.0",
      "model_name": "LayoutModel",
      "state": {
       "justify_content": "center"
      }
     },
     "35eefc937e0047bd87761dffe306db76": {
      "model_module": "@jupyter-widgets/controls",
      "model_module_version": "1.5.0",
      "model_name": "ButtonStyleModel",
      "state": {
       "button_color": "lightgreen"
      }
     },
     "36118a18077c4c5ca8cdb33f3125063c": {
      "model_module": "@jupyter-widgets/controls",
      "model_module_version": "1.5.0",
      "model_name": "DropdownModel",
      "state": {
       "_options_labels": [
        "Adverbial",
        "Nomen",
        "Personalpronomen",
        " "
       ],
       "index": 3,
       "layout": "IPY_MODEL_eb0b3e9e3b3947b1885dc770e6028768",
       "style": "IPY_MODEL_ef6c39243ed44ce8892b615afc959493"
      }
     },
     "361e42ac15434b80802bd2d9ee65ff39": {
      "model_module": "@jupyter-widgets/controls",
      "model_module_version": "1.5.0",
      "model_name": "CheckboxModel",
      "state": {
       "description": "FS0 = [CAT = DET], FS1 = [CAT = N, GEN = MASK]",
       "disabled": false,
       "layout": "IPY_MODEL_8a2445c7d9d74a5e8081bb906b8b16db",
       "style": "IPY_MODEL_ca8d384c1e5b4a7cb4559cdebf709017",
       "value": false
      }
     },
     "363373372b5741838a91cc32a83fef83": {
      "model_module": "@jupyter-widgets/base",
      "model_module_version": "1.2.0",
      "model_name": "LayoutModel",
      "state": {
       "width": "600px"
      }
     },
     "3687e694dcca4b3f803cab88c12aebcd": {
      "model_module": "@jupyter-widgets/controls",
      "model_module_version": "1.5.0",
      "model_name": "DescriptionStyleModel",
      "state": {
       "description_width": ""
      }
     },
     "36947bc574554a0eb93a2206b82ae1ff": {
      "model_module": "@jupyter-widgets/controls",
      "model_module_version": "1.5.0",
      "model_name": "DescriptionStyleModel",
      "state": {
       "description_width": ""
      }
     },
     "36d9cc217bad4d838957ee856f2804f2": {
      "model_module": "@jupyter-widgets/controls",
      "model_module_version": "1.5.0",
      "model_name": "DescriptionStyleModel",
      "state": {
       "description_width": "initial"
      }
     },
     "36ee97309ed54daf8cb7b2abaa0fd02c": {
      "model_module": "@jupyter-widgets/controls",
      "model_module_version": "1.5.0",
      "model_name": "DropdownModel",
      "state": {
       "_options_labels": [
        "Genusmerkmale",
        "Kasusmerkmale",
        " "
       ],
       "index": 2,
       "layout": "IPY_MODEL_a947f816cfb7489fb87ce2f1d6018b06",
       "style": "IPY_MODEL_9c090189ee9e466c8201913a840fe777"
      }
     },
     "36f1ea92936f4e3bb634466e5982b2d3": {
      "model_module": "@jupyter-widgets/controls",
      "model_module_version": "1.5.0",
      "model_name": "ButtonModel",
      "state": {
       "description": "Korrekt?",
       "layout": "IPY_MODEL_76c4471d049c454e9d65e68224b9bb14",
       "style": "IPY_MODEL_83bbb55066094bc8b6e6f22bc7502a1d"
      }
     },
     "36f463a8abc841dba4b4be22ec9a3f0a": {
      "model_module": "@jupyter-widgets/base",
      "model_module_version": "1.2.0",
      "model_name": "LayoutModel",
      "state": {
       "width": "600px"
      }
     },
     "36fba67f46bd4331b41e4c666aceeb72": {
      "model_module": "@jupyter-widgets/controls",
      "model_module_version": "1.5.0",
      "model_name": "HTMLModel",
      "state": {
       "layout": "IPY_MODEL_9e4fe2cd46f44107ac77aba13abe8fad",
       "style": "IPY_MODEL_eb7039242b4c4402bb4a6eb2ce86f3b8",
       "value": "<i>Markieren Sie <ins>alle</ins> passenden Antworten: </i>"
      }
     },
     "3702d961d6ca4e18884904c96adcf37a": {
      "model_module": "@jupyter-widgets/controls",
      "model_module_version": "1.5.0",
      "model_name": "HTMLModel",
      "state": {
       "layout": "IPY_MODEL_f90a4b2f27864d8682b1ce97257de07c",
       "style": "IPY_MODEL_d5fe95ea447a450eb7bba3f3ed25c4c0",
       "value": "<h4 style=\"font-size:14px;\">Welche Aussagen über Adjektive stimmen?</h4>"
      }
     },
     "3728749387484192b2166d6c76dcae25": {
      "model_module": "@jupyter-widgets/controls",
      "model_module_version": "1.5.0",
      "model_name": "DescriptionStyleModel",
      "state": {
       "description_width": ""
      }
     },
     "3748b621428a47ab8f1c379e7e0fa150": {
      "model_module": "@jupyter-widgets/controls",
      "model_module_version": "1.5.0",
      "model_name": "HTMLModel",
      "state": {
       "layout": "IPY_MODEL_2f3a929264ad466b9ef7667dac7523da",
       "style": "IPY_MODEL_8ec534c44c7d43e994487c3fa2c3e279",
       "value": "<h4 style=\"font-size:14px;\">Welche der Beispiele erfüllen die Subsumptionsbeziehung aus 10b nicht?</h4>"
      }
     },
     "3749fc4d8fee49db81e8a2a538249d5e": {
      "model_module": "@jupyter-widgets/controls",
      "model_module_version": "1.5.0",
      "model_name": "HTMLModel",
      "state": {
       "layout": "IPY_MODEL_9cf87c041f5e457d8c58415f2bfe6631",
       "style": "IPY_MODEL_cf433a0185d64c4d8757bfdcc42fc700",
       "value": "<i>Markieren Sie <ins>alle</ins> passenden Antworten: </i>"
      }
     },
     "376fa7cd2f814e37a7b5274252c9cd69": {
      "model_module": "@jupyter-widgets/controls",
      "model_module_version": "1.5.0",
      "model_name": "ButtonStyleModel",
      "state": {
       "button_color": "lightgreen"
      }
     },
     "37c559d98dc0400abb8f4b03f114de38": {
      "model_module": "@jupyter-widgets/base",
      "model_module_version": "1.2.0",
      "model_name": "LayoutModel",
      "state": {}
     },
     "3820f618bc4d491e8f78601310af914c": {
      "model_module": "@jupyter-widgets/controls",
      "model_module_version": "1.5.0",
      "model_name": "CheckboxModel",
      "state": {
       "description": "Die Form des Adjektivs ist in jedem Kasus unterschiedlich.",
       "disabled": false,
       "layout": "IPY_MODEL_84dddfdd08db4e7d9d6aa406abe81c04",
       "style": "IPY_MODEL_7b16c4117f1843638dcdab84da9daefb",
       "value": false
      }
     },
     "38460e9336764df89fbeac312c301236": {
      "model_module": "@jupyter-widgets/controls",
      "model_module_version": "1.5.0",
      "model_name": "ButtonModel",
      "state": {
       "description": "Instrument",
       "layout": "IPY_MODEL_f74df8d73e294028a8b095fc775c57b8",
       "style": "IPY_MODEL_cca6f5f2a7494539ac2d5e587f342cbe"
      }
     },
     "386ab53553824c1e819f58a1754796b6": {
      "model_module": "@jupyter-widgets/base",
      "model_module_version": "1.2.0",
      "model_name": "LayoutModel",
      "state": {
       "width": "250px"
      }
     },
     "38862c1b31ae40e5a6c3541ebf00ad5a": {
      "model_module": "@jupyter-widgets/base",
      "model_module_version": "1.2.0",
      "model_name": "LayoutModel",
      "state": {}
     },
     "38890a3070a74e479d959e67af90de4c": {
      "model_module": "@jupyter-widgets/base",
      "model_module_version": "1.2.0",
      "model_name": "LayoutModel",
      "state": {}
     },
     "389be219c33f4c1c8190000fb0c2f279": {
      "model_module": "@jupyter-widgets/controls",
      "model_module_version": "1.5.0",
      "model_name": "ButtonStyleModel",
      "state": {
       "button_color": "lightgreen"
      }
     },
     "38bf9ad5a8574e0ea0f4ebf1cea350a5": {
      "model_module": "@jupyter-widgets/controls",
      "model_module_version": "1.5.0",
      "model_name": "DescriptionStyleModel",
      "state": {
       "description_width": "initial"
      }
     },
     "38c5f5d5c84b4733bd11646afc2a8497": {
      "model_module": "@jupyter-widgets/controls",
      "model_module_version": "1.5.0",
      "model_name": "ButtonStyleModel",
      "state": {}
     },
     "38d4b2f527f2456a9f3e0edb70ba95f0": {
      "model_module": "@jupyter-widgets/controls",
      "model_module_version": "1.5.0",
      "model_name": "ButtonModel",
      "state": {
       "description": "bestimmten",
       "layout": "IPY_MODEL_e8ef0043479a458193d5567401a66fa4",
       "style": "IPY_MODEL_891ba128f0de48c8b50f90b055421eb7"
      }
     },
     "391aba48463b4f20b2b3ad1a777c443c": {
      "model_module": "@jupyter-widgets/base",
      "model_module_version": "1.2.0",
      "model_name": "LayoutModel",
      "state": {
       "justify_content": "center"
      }
     },
     "392ea06c11864bb6baee569a3df70628": {
      "model_module": "@jupyter-widgets/controls",
      "model_module_version": "1.5.0",
      "model_name": "HTMLModel",
      "state": {
       "layout": "IPY_MODEL_35a03c1242b140b0b438cc6df48592b9",
       "style": "IPY_MODEL_f9ec3d4a80834a3097924ae3c7addfcb",
       "value": "<i>Wählen Sie die <ins>eine</ins> korrekte Antwort aus: </i>"
      }
     },
     "3938eaf29de846c4b05bc9d89692b307": {
      "model_module": "@jupyter-widgets/base",
      "model_module_version": "1.2.0",
      "model_name": "LayoutModel",
      "state": {
       "width": "600px"
      }
     },
     "3947dcbd5c284f7ca0151d80f9d93ea8": {
      "model_module": "@jupyter-widgets/controls",
      "model_module_version": "1.5.0",
      "model_name": "ButtonModel",
      "state": {
       "description": "Korrekt?",
       "layout": "IPY_MODEL_51a05c90f5c748629e39d809f4741a87",
       "style": "IPY_MODEL_87d5d82819b245f3b67062b474be7ac0"
      }
     },
     "394ec8702a8849dc819655ed2d45bbba": {
      "model_module": "@jupyter-widgets/controls",
      "model_module_version": "1.5.0",
      "model_name": "VBoxModel",
      "state": {
       "children": [
        "IPY_MODEL_075c391d72274d39a3b735b921474174",
        "IPY_MODEL_ef440752020946debdadae688c1d30a3",
        "IPY_MODEL_d8f80c16d247420ab3a9a6cd6c96d583"
       ],
       "layout": "IPY_MODEL_19a65b832b06407290516a13e0066c72"
      }
     },
     "395c3e417d554baa896bc0ff342d67a1": {
      "model_module": "@jupyter-widgets/controls",
      "model_module_version": "1.5.0",
      "model_name": "ButtonModel",
      "state": {
       "description": "Korrekt?",
       "layout": "IPY_MODEL_77f659b2033e44359ec4a9eb5b9722c7",
       "style": "IPY_MODEL_11d77a3fc708457385fa178af5137cce"
      }
     },
     "398293c155cb493ead41c12eff729fcc": {
      "model_module": "@jupyter-widgets/base",
      "model_module_version": "1.2.0",
      "model_name": "LayoutModel",
      "state": {
       "width": "250px"
      }
     },
     "39b51569b97843958595af92f992655d": {
      "model_module": "@jupyter-widgets/base",
      "model_module_version": "1.2.0",
      "model_name": "LayoutModel",
      "state": {}
     },
     "39bd4c5d7fb34e399c9dc5cf39d87d4f": {
      "model_module": "@jupyter-widgets/controls",
      "model_module_version": "1.5.0",
      "model_name": "DescriptionStyleModel",
      "state": {
       "description_width": ""
      }
     },
     "39c8048547bc4504a1f18e27183e7d0b": {
      "model_module": "@jupyter-widgets/controls",
      "model_module_version": "1.5.0",
      "model_name": "BoxModel",
      "state": {
       "children": [
        "IPY_MODEL_cca0f1f614364eedae48b25106633410",
        "IPY_MODEL_09634d589962498db0480ca07281302b",
        "IPY_MODEL_ccc8b0b5444a4cf7ac12c5b8ddf89de3",
        "IPY_MODEL_46949f6745354dbc9d5a93ebc44ef704",
        "IPY_MODEL_b653b1350422438fa1d98323bfa1fd7a",
        "IPY_MODEL_8641348ea8304455b64f70f5c38b1831",
        "IPY_MODEL_39e28006d10f4ae68a063f2048ca5a8f",
        "IPY_MODEL_5831ec67025c4ccbb2af3b0829fed65d",
        "IPY_MODEL_11f53cc3dbf6400d9be18c5a01052328",
        "IPY_MODEL_d6ac843abb934936bb4fd53e10c8b645",
        "IPY_MODEL_06949b246b024f5289e7a712c583e2b2"
       ],
       "layout": "IPY_MODEL_c7b93e6f20bc4d6a94308ee0e8ed4721"
      }
     },
     "39d9ed2e09a848abb73b10a8a729b671": {
      "model_module": "@jupyter-widgets/base",
      "model_module_version": "1.2.0",
      "model_name": "LayoutModel",
      "state": {}
     },
     "39e28006d10f4ae68a063f2048ca5a8f": {
      "model_module": "@jupyter-widgets/controls",
      "model_module_version": "1.5.0",
      "model_name": "HTMLModel",
      "state": {
       "layout": "IPY_MODEL_698253f5ab7640e881ba289ae44ac43c",
       "style": "IPY_MODEL_9551ec80f539441d8456f8643f4b69bb",
       "value": "<h4 style=\"font-size:14px;\">keine</h4>"
      }
     },
     "39fbb1abb5b74479a2e2d6a1d9ef7112": {
      "model_module": "@jupyter-widgets/base",
      "model_module_version": "1.2.0",
      "model_name": "LayoutModel",
      "state": {
       "justify_content": "center"
      }
     },
     "3a38b523301d468d91439f6659e09a86": {
      "model_module": "@jupyter-widgets/controls",
      "model_module_version": "1.5.0",
      "model_name": "HBoxModel",
      "state": {
       "children": [
        "IPY_MODEL_b4a4c988e23b41d28a6c33ce9f121230",
        "IPY_MODEL_51cb30a5f2784acf988503dfe8bbf633"
       ],
       "layout": "IPY_MODEL_14fec53b91554ec7b913e9426eb74a0a"
      }
     },
     "3a490d88dd6f4bb590d07fe92d046819": {
      "model_module": "@jupyter-widgets/controls",
      "model_module_version": "1.5.0",
      "model_name": "DescriptionStyleModel",
      "state": {
       "description_width": "initial"
      }
     },
     "3a802c8cbac64562893d261b0834c131": {
      "model_module": "@jupyter-widgets/controls",
      "model_module_version": "1.5.0",
      "model_name": "ButtonModel",
      "state": {
       "description": "Lokativ",
       "layout": "IPY_MODEL_dd7aa266ad5a46d383b526c17e72dbd4",
       "style": "IPY_MODEL_fb8bbf98a41f4031ac9caf9b3971abe3"
      }
     },
     "3a825f38a95743ed8e2185358c8dab8b": {
      "model_module": "@jupyter-widgets/controls",
      "model_module_version": "1.5.0",
      "model_name": "DescriptionStyleModel",
      "state": {
       "description_width": ""
      }
     },
     "3a8ddabaac614237a10b3591bc0bd5f0": {
      "model_module": "@jupyter-widgets/controls",
      "model_module_version": "1.5.0",
      "model_name": "ButtonModel",
      "state": {
       "description": "dictionary",
       "layout": "IPY_MODEL_228c30dbabd5417aaf82955a7fb5880e",
       "style": "IPY_MODEL_d59ae997c5074ec0a0ea32720aac6ef7"
      }
     },
     "3a90d9bf05ee4172a9c446aafe91824f": {
      "model_module": "@jupyter-widgets/controls",
      "model_module_version": "1.5.0",
      "model_name": "VBoxModel",
      "state": {
       "children": [
        "IPY_MODEL_23ed8bafa3c148b394b3bd5c5d39fd67",
        "IPY_MODEL_bd33e5800468447a99912c1f66993337",
        "IPY_MODEL_839472f84f0148beac3bf8440c9887b0",
        "IPY_MODEL_7d14fc7fcd5e4c388fe1e6306e31019c"
       ],
       "layout": "IPY_MODEL_f2269371579b46658baa80c97ca7434e"
      }
     },
     "3ab4b2ec430a4dd9afcf94bd17f91122": {
      "model_module": "@jupyter-widgets/controls",
      "model_module_version": "1.5.0",
      "model_name": "ButtonModel",
      "state": {
       "description": "Korrekt?",
       "layout": "IPY_MODEL_63d9f4c9aa4b45609cb30fd631782bdd",
       "style": "IPY_MODEL_2c89864ce9dc4e85a68eda134e57eac8"
      }
     },
     "3aba2f450dc142c5a1bea59d6f75f4d0": {
      "model_module": "@jupyter-widgets/base",
      "model_module_version": "1.2.0",
      "model_name": "LayoutModel",
      "state": {
       "justify_content": "center"
      }
     },
     "3ac744010c904e9c9e4ea071918892c4": {
      "model_module": "@jupyter-widgets/base",
      "model_module_version": "1.2.0",
      "model_name": "LayoutModel",
      "state": {
       "width": "250px"
      }
     },
     "3acad74cf8804e3e9c4e63b18b66d592": {
      "model_module": "@jupyter-widgets/base",
      "model_module_version": "1.2.0",
      "model_name": "LayoutModel",
      "state": {}
     },
     "3ad097f0188f4b33a45ee2cf01c81a20": {
      "model_module": "@jupyter-widgets/controls",
      "model_module_version": "1.5.0",
      "model_name": "ButtonModel",
      "state": {
       "description": "Keine der anderen Möglichkeiten",
       "layout": "IPY_MODEL_d3d4cfc58a9441ad8281749e48fa797d",
       "style": "IPY_MODEL_c4a575c8eda74a7193ecfbcc48641adf"
      }
     },
     "3af44d7dbc4440d6b58b05a717d05b08": {
      "model_module": "@jupyter-widgets/base",
      "model_module_version": "1.2.0",
      "model_name": "LayoutModel",
      "state": {
       "width": "250px"
      }
     },
     "3b013e19ecf14aec9dece6bddb6ba182": {
      "model_module": "@jupyter-widgets/controls",
      "model_module_version": "1.5.0",
      "model_name": "ButtonStyleModel",
      "state": {}
     },
     "3b18133be8f447cdbe2a6d6a44691bbf": {
      "model_module": "@jupyter-widgets/base",
      "model_module_version": "1.2.0",
      "model_name": "LayoutModel",
      "state": {}
     },
     "3b26b19327a849f1a6301b26185a6aa3": {
      "model_module": "@jupyter-widgets/controls",
      "model_module_version": "1.5.0",
      "model_name": "VBoxModel",
      "state": {
       "children": [
        "IPY_MODEL_6369c34b15594789961f5045c4d3b0cb",
        "IPY_MODEL_7a455209c065404f8b554a27224e0eff",
        "IPY_MODEL_ad4cdcc742e74d3fa84d18ba6b1ec98b",
        "IPY_MODEL_15ef6e4eb4814a7782e12ac77aaa0d10"
       ],
       "layout": "IPY_MODEL_82785fd3850e46c68c0968194fe4a768"
      }
     },
     "3b275c776b8d4c1bb20674db35535699": {
      "model_module": "@jupyter-widgets/controls",
      "model_module_version": "1.5.0",
      "model_name": "ButtonStyleModel",
      "state": {}
     },
     "3b2c33dd0d3b491d9cc2119bd7b6827b": {
      "model_module": "@jupyter-widgets/base",
      "model_module_version": "1.2.0",
      "model_name": "LayoutModel",
      "state": {
       "width": "250px"
      }
     },
     "3b432b2a521b4a3fb711f9a8267776e2": {
      "model_module": "@jupyter-widgets/controls",
      "model_module_version": "1.5.0",
      "model_name": "VBoxModel",
      "state": {
       "children": [
        "IPY_MODEL_79e52c8e98ea4361a1326c9a1bf16b66",
        "IPY_MODEL_96c26d3c3c33485985a4c80d818529cb",
        "IPY_MODEL_1b25fa114a2a4cc39b3f7d683aeb36aa",
        "IPY_MODEL_5f796281480540f9b9527185c65b5722",
        "IPY_MODEL_3493f747b1654f20a0f5b2824a67cb16",
        "IPY_MODEL_bee7505868d6494fa145b138092aa59a"
       ],
       "layout": "IPY_MODEL_95145e6232bf4f60a1e39c8ba0888235"
      }
     },
     "3b46002a1f0f40cfb125f0d3c17d7d94": {
      "model_module": "@jupyter-widgets/controls",
      "model_module_version": "1.5.0",
      "model_name": "HTMLModel",
      "state": {
       "layout": "IPY_MODEL_e0525a6041dc4a0a9955def3ddcbae75",
       "style": "IPY_MODEL_fa91ba42c35542868f92871aac4da5d0",
       "value": "<i>Markieren Sie <ins>alle</ins> passenden Antworten: </i>"
      }
     },
     "3b8ec6a9aeba4ce9a41a5ec814a3eade": {
      "model_module": "@jupyter-widgets/base",
      "model_module_version": "1.2.0",
      "model_name": "LayoutModel",
      "state": {
       "justify_content": "center"
      }
     },
     "3b980ec67041406e8c4e7529570e738b": {
      "model_module": "@jupyter-widgets/controls",
      "model_module_version": "1.5.0",
      "model_name": "VBoxModel",
      "state": {
       "children": [
        "IPY_MODEL_23bf726b06814c619f8c965559d048a5",
        "IPY_MODEL_05e0300585c343c7a1f4eb7333015536",
        "IPY_MODEL_88a1c35c5de34e118dc466ffbde71ff6",
        "IPY_MODEL_763989e72a294fea9c681696da2efc6e"
       ],
       "layout": "IPY_MODEL_d0b30ad7fe1e4b689778332b60a7fd37"
      }
     },
     "3b9c4f621e7740e0b24d06a9377882ae": {
      "model_module": "@jupyter-widgets/controls",
      "model_module_version": "1.5.0",
      "model_name": "HTMLModel",
      "state": {
       "layout": "IPY_MODEL_34dd66f8293443fc8a85d327b68270bd",
       "style": "IPY_MODEL_6e721077cec948d3a7411dc077b85580",
       "value": "<i>Markieren Sie <ins>alle</ins> passenden Antworten: </i>"
      }
     },
     "3c2347e3667c4032abd192565dd77711": {
      "model_module": "@jupyter-widgets/base",
      "model_module_version": "1.2.0",
      "model_name": "LayoutModel",
      "state": {}
     },
     "3c36b5b6c28a45779b290858b967205b": {
      "model_module": "@jupyter-widgets/controls",
      "model_module_version": "1.5.0",
      "model_name": "ButtonStyleModel",
      "state": {}
     },
     "3c6b30e003c141b0928cc42bde278fce": {
      "model_module": "@jupyter-widgets/controls",
      "model_module_version": "1.5.0",
      "model_name": "CheckboxModel",
      "state": {
       "description": "Die Endungen von Adjektiv und Artikel stimmen überein.",
       "disabled": false,
       "layout": "IPY_MODEL_8905b407a0c141fa9981fe605b0dc0b5",
       "style": "IPY_MODEL_6aeee315aa8246f7ab91a3e6d70cece8",
       "value": false
      }
     },
     "3c733e41a4754a60a8085be862d0ea75": {
      "model_module": "@jupyter-widgets/controls",
      "model_module_version": "1.5.0",
      "model_name": "CheckboxModel",
      "state": {
       "description": "FS0 = [CAT = N], FS1 = [CAT = N, GEN = MASK]",
       "disabled": false,
       "layout": "IPY_MODEL_51100e82b3ec4ab6b8938b3a5198b4a8",
       "style": "IPY_MODEL_4793cc710f5b48eb969444f319fed4a9",
       "value": true
      }
     },
     "3c789d35f08a4ed09794457d2b1215c7": {
      "model_module": "@jupyter-widgets/base",
      "model_module_version": "1.2.0",
      "model_name": "LayoutModel",
      "state": {}
     },
     "3d73d505ffb34d3288122d146be67112": {
      "model_module": "@jupyter-widgets/base",
      "model_module_version": "1.2.0",
      "model_name": "LayoutModel",
      "state": {
       "width": "600px"
      }
     },
     "3d7b426c123a4a12afe27e982ecb8d8c": {
      "model_module": "@jupyter-widgets/base",
      "model_module_version": "1.2.0",
      "model_name": "LayoutModel",
      "state": {}
     },
     "3d835379dcdf4f32bfee453be5cbf4e8": {
      "model_module": "@jupyter-widgets/controls",
      "model_module_version": "1.5.0",
      "model_name": "CheckboxModel",
      "state": {
       "description": "FS0 = [CAT = N], FS1 = [CAT = N, GEN = MASK]",
       "disabled": false,
       "layout": "IPY_MODEL_167573074ce547628b15c358e3dcc9d9",
       "style": "IPY_MODEL_d93a5b84a56748678e5cddc0ae96c096",
       "value": false
      }
     },
     "3d8a810b52694bc38e0623e98022b91e": {
      "model_module": "@jupyter-widgets/base",
      "model_module_version": "1.2.0",
      "model_name": "LayoutModel",
      "state": {
       "width": "250px"
      }
     },
     "3d8f7422eb4b4256990c3df5e825d333": {
      "model_module": "@jupyter-widgets/controls",
      "model_module_version": "1.5.0",
      "model_name": "DescriptionStyleModel",
      "state": {
       "description_width": ""
      }
     },
     "3dc402ff1c3b4c8e8040aec6361c8327": {
      "model_module": "@jupyter-widgets/controls",
      "model_module_version": "1.5.0",
      "model_name": "DescriptionStyleModel",
      "state": {
       "description_width": ""
      }
     },
     "3df7a3a068fe43ad80004bddb925ca62": {
      "model_module": "@jupyter-widgets/base",
      "model_module_version": "1.2.0",
      "model_name": "LayoutModel",
      "state": {}
     },
     "3e10a8f5b37e41b38bb844a2b9152a3c": {
      "model_module": "@jupyter-widgets/controls",
      "model_module_version": "1.5.0",
      "model_name": "ButtonModel",
      "state": {
       "description": "Korrekt?",
       "layout": "IPY_MODEL_d84c2c3f5057491d90098dbda1535cf5",
       "style": "IPY_MODEL_99f366ce63704b0a961df34a03247590"
      }
     },
     "3e1b91983de746febcf14fadd8d893bf": {
      "model_module": "@jupyter-widgets/base",
      "model_module_version": "1.2.0",
      "model_name": "LayoutModel",
      "state": {}
     },
     "3e669969081c4427a1a231c89e1b641b": {
      "model_module": "@jupyter-widgets/base",
      "model_module_version": "1.2.0",
      "model_name": "LayoutModel",
      "state": {}
     },
     "3e6eed81054840ec9d1233956f42aa8f": {
      "model_module": "@jupyter-widgets/base",
      "model_module_version": "1.2.0",
      "model_name": "LayoutModel",
      "state": {}
     },
     "3e75aa10504141a7a5f9956ee9fee717": {
      "model_module": "@jupyter-widgets/base",
      "model_module_version": "1.2.0",
      "model_name": "LayoutModel",
      "state": {
       "width": "600px"
      }
     },
     "3e764b0184674d108316ecbf2da963a7": {
      "model_module": "@jupyter-widgets/controls",
      "model_module_version": "1.5.0",
      "model_name": "CheckboxModel",
      "state": {
       "description": "Sie werden gelöscht.",
       "disabled": false,
       "layout": "IPY_MODEL_2d55c9ee4f9f4bacb9b041d40be48849",
       "style": "IPY_MODEL_3f13181d45b74ff5a328265cdbb83ad3",
       "value": false
      }
     },
     "3eb618a07b3048618ed4a445fc433491": {
      "model_module": "@jupyter-widgets/controls",
      "model_module_version": "1.5.0",
      "model_name": "HTMLModel",
      "state": {
       "layout": "IPY_MODEL_bacfd6b79eeb431184be99c286f436d5",
       "style": "IPY_MODEL_9f4d0ced9c9a4c23a3b5551651c34c09",
       "value": "<i>Wählen Sie die <ins>eine</ins> korrekte Antwort aus: </i>"
      }
     },
     "3ec0618c4fcd4b35a9959a320940fd68": {
      "model_module": "@jupyter-widgets/controls",
      "model_module_version": "1.5.0",
      "model_name": "ButtonModel",
      "state": {
       "description": "Korrekt?",
       "layout": "IPY_MODEL_2af215493ec047fdb84496fa55bed4cb",
       "style": "IPY_MODEL_ac05917b9bc94faf93961cdc6a3ddceb"
      }
     },
     "3edc3a142da6468e88e1be447be02751": {
      "model_module": "@jupyter-widgets/controls",
      "model_module_version": "1.5.0",
      "model_name": "DropdownModel",
      "state": {
       "_options_labels": [
        "Adverbial",
        "Nomen",
        "Personalpronomen",
        " "
       ],
       "index": 2,
       "layout": "IPY_MODEL_f61dff2137c945679df41a398385b269",
       "style": "IPY_MODEL_97deb4f5dfd9441b987ace99799b7f04"
      }
     },
     "3f13181d45b74ff5a328265cdbb83ad3": {
      "model_module": "@jupyter-widgets/controls",
      "model_module_version": "1.5.0",
      "model_name": "DescriptionStyleModel",
      "state": {
       "description_width": "initial"
      }
     },
     "3f2739616e244857b8d8cdcf024828fd": {
      "model_module": "@jupyter-widgets/controls",
      "model_module_version": "1.5.0",
      "model_name": "CheckboxModel",
      "state": {
       "description": "Sie werden aktualisiert.",
       "disabled": false,
       "layout": "IPY_MODEL_ce3ccdab0f0742fe8fe94b2a3f16a697",
       "style": "IPY_MODEL_81273686ffd4488e9819ff124efc64b4",
       "value": true
      }
     },
     "3f47cda086e04b7499c9d10cceb34bc9": {
      "model_module": "@jupyter-widgets/controls",
      "model_module_version": "1.5.0",
      "model_name": "DescriptionStyleModel",
      "state": {
       "description_width": "initial"
      }
     },
     "3f548682f38a426f87f5f55f18c21bdb": {
      "model_module": "@jupyter-widgets/controls",
      "model_module_version": "1.5.0",
      "model_name": "HBoxModel",
      "state": {
       "children": [
        "IPY_MODEL_a5f0e5764bde4d198223f27c5792f1e1"
       ],
       "layout": "IPY_MODEL_e9e12540619447cb93e84e67151ea16c"
      }
     },
     "3f55715d467343f39ded62385e263286": {
      "model_module": "@jupyter-widgets/controls",
      "model_module_version": "1.5.0",
      "model_name": "DescriptionStyleModel",
      "state": {
       "description_width": ""
      }
     },
     "3f63d39fbc9b4ba6b6adadfb573be92c": {
      "model_module": "@jupyter-widgets/base",
      "model_module_version": "1.2.0",
      "model_name": "LayoutModel",
      "state": {}
     },
     "3f821b2579824110b58869956e8e56ad": {
      "model_module": "@jupyter-widgets/base",
      "model_module_version": "1.2.0",
      "model_name": "LayoutModel",
      "state": {
       "justify_content": "center"
      }
     },
     "3fa8154b4d1e4f5180ce5476fe25eb3d": {
      "model_module": "@jupyter-widgets/controls",
      "model_module_version": "1.5.0",
      "model_name": "DescriptionStyleModel",
      "state": {
       "description_width": "initial"
      }
     },
     "3fcb995cd97c4491b0bb567c056dafd2": {
      "model_module": "@jupyter-widgets/base",
      "model_module_version": "1.2.0",
      "model_name": "LayoutModel",
      "state": {
       "width": "250px"
      }
     },
     "3ff9b02dfe444ed2bd3180a2cbc02b0b": {
      "model_module": "@jupyter-widgets/controls",
      "model_module_version": "1.5.0",
      "model_name": "HTMLModel",
      "state": {
       "layout": "IPY_MODEL_4698f6a3678c4a70ac71a6288317d4fa",
       "style": "IPY_MODEL_2d0e5703b3bc4e4a8d534a9b2f9fb3d6",
       "value": "<i>Wählen Sie die <ins>eine</ins> korrekte Antwort aus: </i>"
      }
     },
     "401d752ff76a4ae9879b5f728ea52bcd": {
      "model_module": "@jupyter-widgets/controls",
      "model_module_version": "1.5.0",
      "model_name": "HTMLModel",
      "state": {
       "layout": "IPY_MODEL_e71cf839904e41fea38dc1f7627cd616",
       "style": "IPY_MODEL_bb57a616a9bd43aab1879a9bbf70c36a",
       "value": "<i>Markieren Sie <ins>alle</ins> passenden Antworten: </i>"
      }
     },
     "404ed8279a894061bb9f5d19cb690e36": {
      "model_module": "@jupyter-widgets/controls",
      "model_module_version": "1.5.0",
      "model_name": "DescriptionStyleModel",
      "state": {
       "description_width": ""
      }
     },
     "4083900a6a2241c298183177e88d9ffe": {
      "model_module": "@jupyter-widgets/controls",
      "model_module_version": "1.5.0",
      "model_name": "ButtonModel",
      "state": {
       "description": "Korrekt?",
       "layout": "IPY_MODEL_b66f40beb6c041ac8abb58fb3683b00f",
       "style": "IPY_MODEL_2ca5b450ea02403d81bbb4f9d0f1e5d5"
      }
     },
     "40935c2a22d1430fb6b7281e357868d7": {
      "model_module": "@jupyter-widgets/base",
      "model_module_version": "1.2.0",
      "model_name": "LayoutModel",
      "state": {}
     },
     "40a377bf392b409f83d42313574716b2": {
      "model_module": "@jupyter-widgets/base",
      "model_module_version": "1.2.0",
      "model_name": "LayoutModel",
      "state": {
       "width": "250px"
      }
     },
     "40b089afdfdf4757a8a1622566274e22": {
      "model_module": "@jupyter-widgets/controls",
      "model_module_version": "1.5.0",
      "model_name": "DescriptionStyleModel",
      "state": {
       "description_width": ""
      }
     },
     "40d6bdd9f1e0493cb35af5af3c4006da": {
      "model_module": "@jupyter-widgets/controls",
      "model_module_version": "1.5.0",
      "model_name": "DescriptionStyleModel",
      "state": {
       "description_width": ""
      }
     },
     "40ed4d8d749045b8acd3343ca55d5520": {
      "model_module": "@jupyter-widgets/base",
      "model_module_version": "1.2.0",
      "model_name": "LayoutModel",
      "state": {}
     },
     "411ddf5400fc4ea48aa336f384a59c7f": {
      "model_module": "@jupyter-widgets/base",
      "model_module_version": "1.2.0",
      "model_name": "LayoutModel",
      "state": {}
     },
     "413c985919b94b44b21e6cfcd9b6c762": {
      "model_module": "@jupyter-widgets/base",
      "model_module_version": "1.2.0",
      "model_name": "LayoutModel",
      "state": {
       "width": "600px"
      }
     },
     "415df1b179fe494abfbaac0434da85e2": {
      "model_module": "@jupyter-widgets/controls",
      "model_module_version": "1.5.0",
      "model_name": "ButtonStyleModel",
      "state": {
       "button_color": "lightgreen"
      }
     },
     "417306475dad404693d0b32c5b781500": {
      "model_module": "@jupyter-widgets/controls",
      "model_module_version": "1.5.0",
      "model_name": "HBoxModel",
      "state": {
       "children": [
        "IPY_MODEL_9c1c492eabaa4c0483aa5cea938abdc4",
        "IPY_MODEL_5be77375762f44a4a8fa66b40e2b5049"
       ],
       "layout": "IPY_MODEL_0559483729484abc9361fdab01d1fa25"
      }
     },
     "4183b3d41873454fbb14eae852a403e5": {
      "model_module": "@jupyter-widgets/controls",
      "model_module_version": "1.5.0",
      "model_name": "DescriptionStyleModel",
      "state": {
       "description_width": ""
      }
     },
     "41ac9035585d4c34826dff11ec43e327": {
      "model_module": "@jupyter-widgets/controls",
      "model_module_version": "1.5.0",
      "model_name": "DescriptionStyleModel",
      "state": {
       "description_width": "initial"
      }
     },
     "41f39f1b73ad40a9bd9af4fc3c3f1ca1": {
      "model_module": "@jupyter-widgets/controls",
      "model_module_version": "1.5.0",
      "model_name": "VBoxModel",
      "state": {
       "children": [
        "IPY_MODEL_523e4f491d2f488b9d73943d42a41d72",
        "IPY_MODEL_c6bc834867e84cf384fffa0f73fd46d1",
        "IPY_MODEL_dd79e14272814641b70267e30d6de009"
       ],
       "layout": "IPY_MODEL_bc0192377caa4a2b90497ea0a4f180f0"
      }
     },
     "42133f9fb869497aba57bd97ee0a08b9": {
      "model_module": "@jupyter-widgets/controls",
      "model_module_version": "1.5.0",
      "model_name": "DescriptionStyleModel",
      "state": {
       "description_width": ""
      }
     },
     "423194f562c64ffea1ac799c0fbcf4b3": {
      "model_module": "@jupyter-widgets/controls",
      "model_module_version": "1.5.0",
      "model_name": "VBoxModel",
      "state": {
       "children": [
        "IPY_MODEL_9efb04e91e7f4fe595ce608d15f1b451",
        "IPY_MODEL_e62717b6a02844468d2bca61b103f458",
        "IPY_MODEL_7e6953b7dee344029742ba96800e0de4",
        "IPY_MODEL_dbbced82bfd94f9d9845d1cda3622b1a"
       ],
       "layout": "IPY_MODEL_7308ed656079422da0c7b41fa7bd64c3"
      }
     },
     "4237fc98579740baa99e9e1103e6687a": {
      "model_module": "@jupyter-widgets/controls",
      "model_module_version": "1.5.0",
      "model_name": "HTMLModel",
      "state": {
       "layout": "IPY_MODEL_6f08c1f57f8744a6aec09f5e800ae347",
       "style": "IPY_MODEL_404ed8279a894061bb9f5d19cb690e36",
       "value": "<h4 style=\"font-size:14px;\">Wie wird die Deklination der Nominalphrase <i>das alte Bier</i> auch bezeichnet?</h4>"
      }
     },
     "42410cf7d919431c8d22e841e2f347fb": {
      "model_module": "@jupyter-widgets/controls",
      "model_module_version": "1.5.0",
      "model_name": "DescriptionStyleModel",
      "state": {
       "description_width": "initial"
      }
     },
     "4242013c931a4e458778db570e84b00c": {
      "model_module": "@jupyter-widgets/controls",
      "model_module_version": "1.5.0",
      "model_name": "VBoxModel",
      "state": {
       "children": [
        "IPY_MODEL_c427e4db2a5a40eea7862dfa766fc80c",
        "IPY_MODEL_84331ffe8617410e9140dafc3ad59027",
        "IPY_MODEL_68b376573b744a45ade61beac8777797",
        "IPY_MODEL_64830a564d9c456aa9c0705fcf833902"
       ],
       "layout": "IPY_MODEL_a39859cde1854b8f8e305c50a3b62912"
      }
     },
     "4254fa860fbb48e8be56f02ce1c9ec92": {
      "model_module": "@jupyter-widgets/base",
      "model_module_version": "1.2.0",
      "model_name": "LayoutModel",
      "state": {
       "width": "250px"
      }
     },
     "427cc7efec6a470cb00bbe4df75ecf1c": {
      "model_module": "@jupyter-widgets/controls",
      "model_module_version": "1.5.0",
      "model_name": "DescriptionStyleModel",
      "state": {
       "description_width": ""
      }
     },
     "4298ae2047fe4ca6b52a7189e6e95814": {
      "model_module": "@jupyter-widgets/controls",
      "model_module_version": "1.5.0",
      "model_name": "ButtonStyleModel",
      "state": {
       "button_color": "lightgreen"
      }
     },
     "42a134a9b3424ba6941fdf95932976c0": {
      "model_module": "@jupyter-widgets/base",
      "model_module_version": "1.2.0",
      "model_name": "LayoutModel",
      "state": {
       "width": "600px"
      }
     },
     "42aa2f9e922c4082a8ed334c3f6b9d29": {
      "model_module": "@jupyter-widgets/controls",
      "model_module_version": "1.5.0",
      "model_name": "CheckboxModel",
      "state": {
       "description": "Passivierung (Objekt-Promotion)",
       "disabled": false,
       "layout": "IPY_MODEL_cecd0d6dc0644e4ea740822ce9a58480",
       "style": "IPY_MODEL_42410cf7d919431c8d22e841e2f347fb",
       "value": false
      }
     },
     "42b3c30daee34f8496e94ea934602399": {
      "model_module": "@jupyter-widgets/controls",
      "model_module_version": "1.5.0",
      "model_name": "VBoxModel",
      "state": {
       "children": [
        "IPY_MODEL_e1bd2705b5954c5a923bdc92c97307fd",
        "IPY_MODEL_6f7f4b437284477ca67184f3d23adb9a",
        "IPY_MODEL_96399f3b22a04436a8c975a4ffabf054",
        "IPY_MODEL_dfa536f610824bf59da0695ff707906b",
        "IPY_MODEL_96e1e17c63d74496b8fa4a4c84ab00bc",
        "IPY_MODEL_b5f5c7efef46484cb9f8a875de2d015e"
       ],
       "layout": "IPY_MODEL_0d6724735bb2484a981d5c16642206ab"
      }
     },
     "42e9d4aeb0434600ba730747130c1270": {
      "model_module": "@jupyter-widgets/base",
      "model_module_version": "1.2.0",
      "model_name": "LayoutModel",
      "state": {
       "justify_content": "center"
      }
     },
     "4315bdbc970745bd8588c42e375f8924": {
      "model_module": "@jupyter-widgets/base",
      "model_module_version": "1.2.0",
      "model_name": "LayoutModel",
      "state": {
       "width": "250px"
      }
     },
     "431c8bc5da6d49228c765ddcda44a4c7": {
      "model_module": "@jupyter-widgets/controls",
      "model_module_version": "1.5.0",
      "model_name": "HTMLModel",
      "state": {
       "layout": "IPY_MODEL_391aba48463b4f20b2b3ad1a777c443c",
       "style": "IPY_MODEL_11927668da4244c8b49072f5986ee9d0",
       "value": "<h4 style=\"font-size:14px;\">Wie wird die Deklination der Nominalphrase <i>altes Bier</i> auch bezeichnet?</h4>"
      }
     },
     "437cdbe256b14065aa205f4c4d03f6c3": {
      "model_module": "@jupyter-widgets/controls",
      "model_module_version": "1.5.0",
      "model_name": "CheckboxModel",
      "state": {
       "description": "Es ist die allgemeinere Merkmalsstruktur.",
       "disabled": false,
       "layout": "IPY_MODEL_fb9996253fff4d1ea7323b9a1464ab32",
       "style": "IPY_MODEL_f8320f49753047fba8e1471734ea955d",
       "value": false
      }
     },
     "4382c5241d7d4795bf4e421f94dbab8f": {
      "model_module": "@jupyter-widgets/base",
      "model_module_version": "1.2.0",
      "model_name": "LayoutModel",
      "state": {
       "width": "600px"
      }
     },
     "43941d349a1b45ef8d50c24ab3a78491": {
      "model_module": "@jupyter-widgets/controls",
      "model_module_version": "1.5.0",
      "model_name": "ButtonStyleModel",
      "state": {}
     },
     "43e7a77b463741dcb9969bcb428f48a1": {
      "model_module": "@jupyter-widgets/base",
      "model_module_version": "1.2.0",
      "model_name": "LayoutModel",
      "state": {}
     },
     "4446995824444144ac5a83d55d294f18": {
      "model_module": "@jupyter-widgets/base",
      "model_module_version": "1.2.0",
      "model_name": "LayoutModel",
      "state": {
       "width": "600px"
      }
     },
     "4478e92f6d6f4b1e8f62d24c8d2ab39d": {
      "model_module": "@jupyter-widgets/controls",
      "model_module_version": "1.5.0",
      "model_name": "CheckboxModel",
      "state": {
       "description": "Subjekt-Demotion zu Adverbial",
       "disabled": false,
       "layout": "IPY_MODEL_65ce2417c4034f31b7ef2584414996fd",
       "style": "IPY_MODEL_009f1e8e0c2447f5a53b90e2dfdf56e4",
       "value": false
      }
     },
     "447c446f76c44ee2897ca612667e9da4": {
      "model_module": "@jupyter-widgets/base",
      "model_module_version": "1.2.0",
      "model_name": "LayoutModel",
      "state": {
       "width": "250px"
      }
     },
     "44a34dc5707d41a79c486cb13311b9c4": {
      "model_module": "@jupyter-widgets/controls",
      "model_module_version": "1.5.0",
      "model_name": "HTMLModel",
      "state": {
       "layout": "IPY_MODEL_123fe06608154838b413a4d1710f9253",
       "style": "IPY_MODEL_b37bd09b643d45c29d7433ae9989d451",
       "value": "<h4 style=\"font-size:14px;\">Was ist der bevorzugte Kandidat zur Realisierung im Subjekt?</h4>"
      }
     },
     "44d71b84547a4089b85fe25e0c1ed98d": {
      "model_module": "@jupyter-widgets/base",
      "model_module_version": "1.2.0",
      "model_name": "LayoutModel",
      "state": {
       "width": "600px"
      }
     },
     "44d82f4a3aab46beb0167bc7ef71569f": {
      "model_module": "@jupyter-widgets/base",
      "model_module_version": "1.2.0",
      "model_name": "LayoutModel",
      "state": {
       "width": "600px"
      }
     },
     "44f7036ead8e43d099be17b24ac0292d": {
      "model_module": "@jupyter-widgets/controls",
      "model_module_version": "1.5.0",
      "model_name": "HTMLModel",
      "state": {
       "layout": "IPY_MODEL_2168699beb484194a496c32ca089c8f0",
       "style": "IPY_MODEL_2cdd287f206c4d1a91da7a86f3673074",
       "value": "<h4 style=\"font-size:14px;\">Welche Beispiele erfüllen die obige Subsumptionsbeziehung?</h4>"
      }
     },
     "4524bee8c81943cfae17446dc012aa1a": {
      "model_module": "@jupyter-widgets/controls",
      "model_module_version": "1.5.0",
      "model_name": "CheckboxModel",
      "state": {
       "description": "FS0 = [CAT = N, GEN = FEM], FS1 = [CAT = N, GEN = FEM]",
       "disabled": false,
       "layout": "IPY_MODEL_22c4de9a47a94fbc91ae47f8a2155e1e",
       "style": "IPY_MODEL_1112814b80e447f3ac116434adac8a54",
       "value": true
      }
     },
     "453226a651564414953915bc63cbcb9d": {
      "model_module": "@jupyter-widgets/controls",
      "model_module_version": "1.5.0",
      "model_name": "ButtonStyleModel",
      "state": {
       "button_color": "lightgreen"
      }
     },
     "453eea5a798c4af4b554bb8c6729c816": {
      "model_module": "@jupyter-widgets/base",
      "model_module_version": "1.2.0",
      "model_name": "LayoutModel",
      "state": {
       "justify_content": "center"
      }
     },
     "458befb5b3e247f7abcb299acb3e4efd": {
      "model_module": "@jupyter-widgets/controls",
      "model_module_version": "1.5.0",
      "model_name": "VBoxModel",
      "state": {
       "children": [
        "IPY_MODEL_6cc2f2a696e74c05a7b59162da6fb138",
        "IPY_MODEL_92bcb9ca14a5478e82dde7e375ec72d4",
        "IPY_MODEL_2aa8eb5b05c547228a58370efe8a0415",
        "IPY_MODEL_fc4d42c0107149d3a470b99d75380d32"
       ],
       "layout": "IPY_MODEL_075cc1660fb94115bd4469c8a37655aa"
      }
     },
     "4598daf5311a4cf793c8f5fef909e054": {
      "model_module": "@jupyter-widgets/controls",
      "model_module_version": "1.5.0",
      "model_name": "CheckboxModel",
      "state": {
       "description": "Sie werden aktualisiert.",
       "disabled": false,
       "layout": "IPY_MODEL_1312a8771f6e40538f095973e00615b0",
       "style": "IPY_MODEL_1dfdafaf1ec349a284208aea6ad63d2b",
       "value": false
      }
     },
     "459d6be64e074777a8b7b7ef45bf2d95": {
      "model_module": "@jupyter-widgets/controls",
      "model_module_version": "1.5.0",
      "model_name": "ButtonStyleModel",
      "state": {
       "button_color": "lightgreen"
      }
     },
     "45b5199bbc464ed09c037a095900804e": {
      "model_module": "@jupyter-widgets/controls",
      "model_module_version": "1.5.0",
      "model_name": "ButtonModel",
      "state": {
       "description": "Korrekt?",
       "layout": "IPY_MODEL_7f59d060dfdb4b95904860cf729e8fbc",
       "style": "IPY_MODEL_21b956426d4347f6ae9ab16ef0c0ff36"
      }
     },
     "45b814b88af94eb9808737206026f1a5": {
      "model_module": "@jupyter-widgets/controls",
      "model_module_version": "1.5.0",
      "model_name": "DescriptionStyleModel",
      "state": {
       "description_width": "initial"
      }
     },
     "45be16a61f4b402f92ab8fd150fa652e": {
      "model_module": "@jupyter-widgets/controls",
      "model_module_version": "1.5.0",
      "model_name": "ButtonStyleModel",
      "state": {}
     },
     "45f280eb02bf417fadea7fca76cd782f": {
      "model_module": "@jupyter-widgets/controls",
      "model_module_version": "1.5.0",
      "model_name": "CheckboxModel",
      "state": {
       "description": "FS0 = [CAT = N, GEN = FEM], FS1 = [CAT = DET, GEN = FEM]",
       "disabled": false,
       "layout": "IPY_MODEL_bc05c75a51fe4421b5ff36d8af9d33bd",
       "style": "IPY_MODEL_0d024d169743410ba3604678c4fbe9c3",
       "value": false
      }
     },
     "4637b28d0d58482b9fb92e8523bcfd3d": {
      "model_module": "@jupyter-widgets/base",
      "model_module_version": "1.2.0",
      "model_name": "LayoutModel",
      "state": {
       "width": "600px"
      }
     },
     "463d1e2c62c448e9848a63c048eb0edf": {
      "model_module": "@jupyter-widgets/controls",
      "model_module_version": "1.5.0",
      "model_name": "DescriptionStyleModel",
      "state": {
       "description_width": ""
      }
     },
     "46949f6745354dbc9d5a93ebc44ef704": {
      "model_module": "@jupyter-widgets/controls",
      "model_module_version": "1.5.0",
      "model_name": "DropdownModel",
      "state": {
       "_options_labels": [
        "nicht",
        "schwach",
        "stark",
        " "
       ],
       "index": 2,
       "layout": "IPY_MODEL_47f59a595a984ca6a0b5e3fdb2aaf826",
       "style": "IPY_MODEL_21e06c81fcdf4d078b8f8e6d931d0ca1"
      }
     },
     "4698f6a3678c4a70ac71a6288317d4fa": {
      "model_module": "@jupyter-widgets/base",
      "model_module_version": "1.2.0",
      "model_name": "LayoutModel",
      "state": {
       "justify_content": "center"
      }
     },
     "46e8b4ead2db42e59a2a3aa2b0242cb4": {
      "model_module": "@jupyter-widgets/controls",
      "model_module_version": "1.5.0",
      "model_name": "HTMLModel",
      "state": {
       "layout": "IPY_MODEL_0ed5a062831d49e6aabc48438d115111",
       "style": "IPY_MODEL_b0a1910b793949628b26ed6db6b31b60",
       "value": "<h4 style=\"font-size:14px;\">Schildern beide Sätze denselben Sachverhalt?</h4>"
      }
     },
     "475705fce8f84d61a3d7487b8420e6a9": {
      "model_module": "@jupyter-widgets/controls",
      "model_module_version": "1.5.0",
      "model_name": "VBoxModel",
      "state": {
       "children": [
        "IPY_MODEL_dc9925a57c0d44ff86689f97836aa7b0",
        "IPY_MODEL_d0290185ee5a4c39b6583aebac0cdb35",
        "IPY_MODEL_008d95c8e70d42ffbec4334dd4a8253f",
        "IPY_MODEL_b9f54e95c5a04ac788a591535b8e2580"
       ],
       "layout": "IPY_MODEL_8f51227ff7bb49869a71f2478d53aa09"
      }
     },
     "4764af527e1e4939bf1d300c2c5c87e0": {
      "model_module": "@jupyter-widgets/controls",
      "model_module_version": "1.5.0",
      "model_name": "VBoxModel",
      "state": {
       "children": [
        "IPY_MODEL_e02b08af3daa4a9397fcd178750d0f2f",
        "IPY_MODEL_626b9d9294db4f02a5251fcf788525de",
        "IPY_MODEL_21a841e30cef496581f257caf2085aec",
        "IPY_MODEL_a9a37da1570d4af6909bba79cf288f4d"
       ],
       "layout": "IPY_MODEL_4a34cf71285542859365f95a9c189274"
      }
     },
     "4777c088652441a0af097f8ee7d1a230": {
      "model_module": "@jupyter-widgets/controls",
      "model_module_version": "1.5.0",
      "model_name": "DescriptionStyleModel",
      "state": {
       "description_width": ""
      }
     },
     "4786a18de55644dd85fe6c74f09ddeeb": {
      "model_module": "@jupyter-widgets/base",
      "model_module_version": "1.2.0",
      "model_name": "LayoutModel",
      "state": {}
     },
     "4788a472dfff4a8c896e28c0ffbb5fd0": {
      "model_module": "@jupyter-widgets/base",
      "model_module_version": "1.2.0",
      "model_name": "LayoutModel",
      "state": {
       "justify_content": "center"
      }
     },
     "4793cc710f5b48eb969444f319fed4a9": {
      "model_module": "@jupyter-widgets/controls",
      "model_module_version": "1.5.0",
      "model_name": "DescriptionStyleModel",
      "state": {
       "description_width": "initial"
      }
     },
     "479b016447be41ff81492fe57bdea817": {
      "model_module": "@jupyter-widgets/controls",
      "model_module_version": "1.5.0",
      "model_name": "HBoxModel",
      "state": {
       "children": [
        "IPY_MODEL_1c49e186723f4b1e83445f49d4f1b28c",
        "IPY_MODEL_f9608b3499714a43b56bce7698852fc9"
       ],
       "layout": "IPY_MODEL_e79260c2e7b64fd0a88f11aa6de8c2ce"
      }
     },
     "47a5f0fa79e1408f9284cf23b44fb51e": {
      "model_module": "@jupyter-widgets/base",
      "model_module_version": "1.2.0",
      "model_name": "LayoutModel",
      "state": {
       "width": "600px"
      }
     },
     "47aa38df87d943dfbe8a61f9a21e22d0": {
      "model_module": "@jupyter-widgets/controls",
      "model_module_version": "1.5.0",
      "model_name": "VBoxModel",
      "state": {
       "children": [
        "IPY_MODEL_5743a8a1f43f4e00b1e278969f42c022",
        "IPY_MODEL_9a1850c83b8a4c968bbf8ff79569abc4",
        "IPY_MODEL_4e9c7ff4db5c40d6ad0143d6460fc267"
       ],
       "layout": "IPY_MODEL_e13a77d96aac4616af66b08e3f2e85a5"
      }
     },
     "47f59a595a984ca6a0b5e3fdb2aaf826": {
      "model_module": "@jupyter-widgets/base",
      "model_module_version": "1.2.0",
      "model_name": "LayoutModel",
      "state": {
       "width": "150px"
      }
     },
     "480364f435fb42f088a76ffc9ee56bd1": {
      "model_module": "@jupyter-widgets/controls",
      "model_module_version": "1.5.0",
      "model_name": "HTMLModel",
      "state": {
       "layout": "IPY_MODEL_b88cb07735d74020a7929901d1e781d4",
       "style": "IPY_MODEL_2fda96c110ca45d19a8cc41959330ce6",
       "value": "<i>Vervollständigen Sie den Lückentext: </i>"
      }
     },
     "4816c3cd822947779eb00d32bf355234": {
      "model_module": "@jupyter-widgets/base",
      "model_module_version": "1.2.0",
      "model_name": "LayoutModel",
      "state": {
       "width": "600px"
      }
     },
     "482e03c2e93940b8b56c80d5a071323b": {
      "model_module": "@jupyter-widgets/base",
      "model_module_version": "1.2.0",
      "model_name": "LayoutModel",
      "state": {}
     },
     "485a732cef534ac3a401f0a211d2f94a": {
      "model_module": "@jupyter-widgets/controls",
      "model_module_version": "1.5.0",
      "model_name": "CheckboxModel",
      "state": {
       "description": "Subjekt-Demotion zu Adverbial",
       "disabled": false,
       "layout": "IPY_MODEL_6d7b969b1ece40f8afd5bf18a8825678",
       "style": "IPY_MODEL_a8e1c12b592a4a9e9d7617e90591c5e2",
       "value": true
      }
     },
     "48841777f1674fc0a011d0fe2c9f2ddd": {
      "model_module": "@jupyter-widgets/base",
      "model_module_version": "1.2.0",
      "model_name": "LayoutModel",
      "state": {
       "width": "250px"
      }
     },
     "48a69f1fea1f4333982fd3204930e36a": {
      "model_module": "@jupyter-widgets/base",
      "model_module_version": "1.2.0",
      "model_name": "LayoutModel",
      "state": {
       "width": "250px"
      }
     },
     "48adcd27eb9f4269bee6c0d81c27906e": {
      "model_module": "@jupyter-widgets/controls",
      "model_module_version": "1.5.0",
      "model_name": "ButtonStyleModel",
      "state": {
       "button_color": "lightgreen"
      }
     },
     "4906286071ff498cad08337652bbb5db": {
      "model_module": "@jupyter-widgets/base",
      "model_module_version": "1.2.0",
      "model_name": "LayoutModel",
      "state": {
       "width": "250px"
      }
     },
     "490c41f471c449969733fb2a70c952b3": {
      "model_module": "@jupyter-widgets/base",
      "model_module_version": "1.2.0",
      "model_name": "LayoutModel",
      "state": {}
     },
     "4920c0b71a8147489450acad9a9200a4": {
      "model_module": "@jupyter-widgets/controls",
      "model_module_version": "1.5.0",
      "model_name": "HTMLModel",
      "state": {
       "layout": "IPY_MODEL_cab3b6ac9c7f4578b142669f6919e2e4",
       "style": "IPY_MODEL_b3833f032ce842359ad0da7124a0e467",
       "value": "<i>Wählen Sie die <ins>eine</ins> korrekte Antwort aus: </i>"
      }
     },
     "495944c4a50f4767949a3c6ee695f109": {
      "model_module": "@jupyter-widgets/base",
      "model_module_version": "1.2.0",
      "model_name": "LayoutModel",
      "state": {}
     },
     "497d1b1a9b04424b8c872f076e1ecd33": {
      "model_module": "@jupyter-widgets/controls",
      "model_module_version": "1.5.0",
      "model_name": "DescriptionStyleModel",
      "state": {
       "description_width": ""
      }
     },
     "4997fe1b0791438bbf61aa8fc19bfa1a": {
      "model_module": "@jupyter-widgets/base",
      "model_module_version": "1.2.0",
      "model_name": "LayoutModel",
      "state": {
       "width": "600px"
      }
     },
     "49affa7c5ba34f2d9ab61f2a2ab05efd": {
      "model_module": "@jupyter-widgets/controls",
      "model_module_version": "1.5.0",
      "model_name": "ButtonStyleModel",
      "state": {}
     },
     "49b47d909aa84796b228bf3b2b588c54": {
      "model_module": "@jupyter-widgets/controls",
      "model_module_version": "1.5.0",
      "model_name": "DescriptionStyleModel",
      "state": {
       "description_width": ""
      }
     },
     "49f41879cd434c7dbe33695610021631": {
      "model_module": "@jupyter-widgets/controls",
      "model_module_version": "1.5.0",
      "model_name": "DescriptionStyleModel",
      "state": {
       "description_width": "initial"
      }
     },
     "4a34cf71285542859365f95a9c189274": {
      "model_module": "@jupyter-widgets/base",
      "model_module_version": "1.2.0",
      "model_name": "LayoutModel",
      "state": {}
     },
     "4a56df3d0c014535bc50c448d8d397ab": {
      "model_module": "@jupyter-widgets/base",
      "model_module_version": "1.2.0",
      "model_name": "LayoutModel",
      "state": {}
     },
     "4a5c75f6b4974b0e94316bebcefd1b54": {
      "model_module": "@jupyter-widgets/base",
      "model_module_version": "1.2.0",
      "model_name": "LayoutModel",
      "state": {
       "width": "250px"
      }
     },
     "4aab6698feee4649b958583850e832f5": {
      "model_module": "@jupyter-widgets/controls",
      "model_module_version": "1.5.0",
      "model_name": "CheckboxModel",
      "state": {
       "description": "Das Adjektiv übernimmt die Genus- und z.T. die Kasusmarkierung.",
       "disabled": false,
       "layout": "IPY_MODEL_d82ec35b090243359bcae8453599d4ca",
       "style": "IPY_MODEL_679b6a2f615047248044edd601f638b7",
       "value": true
      }
     },
     "4ab1bfb84b19457fb52952692014de5d": {
      "model_module": "@jupyter-widgets/base",
      "model_module_version": "1.2.0",
      "model_name": "LayoutModel",
      "state": {}
     },
     "4ac4b5944cd3434c9662f09592201201": {
      "model_module": "@jupyter-widgets/controls",
      "model_module_version": "1.5.0",
      "model_name": "HTMLModel",
      "state": {
       "layout": "IPY_MODEL_4b792d041d4b4adba1029c2a810ee7a4",
       "style": "IPY_MODEL_92ce4de47e854282aa1cd820f33b6f12",
       "value": "<i>Wählen Sie die <ins>eine</ins> korrekte Antwort aus: </i>"
      }
     },
     "4b792d041d4b4adba1029c2a810ee7a4": {
      "model_module": "@jupyter-widgets/base",
      "model_module_version": "1.2.0",
      "model_name": "LayoutModel",
      "state": {
       "justify_content": "center"
      }
     },
     "4b8c4ff4b225485fac2d6a55de8d5c06": {
      "model_module": "@jupyter-widgets/controls",
      "model_module_version": "1.5.0",
      "model_name": "VBoxModel",
      "state": {
       "children": [
        "IPY_MODEL_9b713d5661d641b09761dd431142e6cf",
        "IPY_MODEL_07466325862544e8813ac28fd7bfc40c",
        "IPY_MODEL_10e0d0560de944cc8723ab89170c8634"
       ],
       "layout": "IPY_MODEL_79bbf2ab92e54c8bafddacf5542638d6"
      }
     },
     "4b9503807fe546f399ab6581e9c043de": {
      "model_module": "@jupyter-widgets/controls",
      "model_module_version": "1.5.0",
      "model_name": "HTMLModel",
      "state": {
       "layout": "IPY_MODEL_a7d4d9a937cd4c45800b69529a6322a3",
       "style": "IPY_MODEL_dfe30733af36441ba204f6091c67a595",
       "value": "<h4 style=\"font-size:14px;\">Was gilt immer für das Ergebnis der Unifikation solcher Merkmalstrukturen?</h4>"
      }
     },
     "4ba05665e14b400893faf1a763dc2b94": {
      "model_module": "@jupyter-widgets/base",
      "model_module_version": "1.2.0",
      "model_name": "LayoutModel",
      "state": {}
     },
     "4bb45def4f51404490a082d03910e7c4": {
      "model_module": "@jupyter-widgets/controls",
      "model_module_version": "1.5.0",
      "model_name": "HBoxModel",
      "state": {
       "children": [
        "IPY_MODEL_cde254be6fcc4a4480a8a2d575878313",
        "IPY_MODEL_6fde0b33481a474e8f772335f73744d4"
       ],
       "layout": "IPY_MODEL_f9c97b9747d94c9d9d784e95f48f3978"
      }
     },
     "4bd9ed435b824f26860cb27a38d65d3c": {
      "model_module": "@jupyter-widgets/base",
      "model_module_version": "1.2.0",
      "model_name": "LayoutModel",
      "state": {}
     },
     "4be1e058eb69419aac50b43e34ea22ed": {
      "model_module": "@jupyter-widgets/controls",
      "model_module_version": "1.5.0",
      "model_name": "CheckboxModel",
      "state": {
       "description": "Es ist undefiniert.",
       "disabled": false,
       "layout": "IPY_MODEL_6bd83a6581a9459f838a79ef77b6f017",
       "style": "IPY_MODEL_14ed42901a7b4f46889a40462a8705cd",
       "value": false
      }
     },
     "4be6be175d074aa78c269dbcd8c5fb33": {
      "model_module": "@jupyter-widgets/controls",
      "model_module_version": "1.5.0",
      "model_name": "DescriptionStyleModel",
      "state": {
       "description_width": "initial"
      }
     },
     "4c058e4a62c74f8eb9447ad6a609458e": {
      "model_module": "@jupyter-widgets/controls",
      "model_module_version": "1.5.0",
      "model_name": "ButtonModel",
      "state": {
       "description": "Korrekt?",
       "layout": "IPY_MODEL_843d45bfa8f04b9f92b26bbc62a16171",
       "style": "IPY_MODEL_389be219c33f4c1c8190000fb0c2f279"
      }
     },
     "4c16c2045a01425bab87cd1d6c7c8948": {
      "model_module": "@jupyter-widgets/controls",
      "model_module_version": "1.5.0",
      "model_name": "ButtonStyleModel",
      "state": {}
     },
     "4c515db9c767417ca90ff825707eb678": {
      "model_module": "@jupyter-widgets/controls",
      "model_module_version": "1.5.0",
      "model_name": "DescriptionStyleModel",
      "state": {
       "description_width": ""
      }
     },
     "4c7c54f232214ef4982bf25161ab64c3": {
      "model_module": "@jupyter-widgets/controls",
      "model_module_version": "1.5.0",
      "model_name": "ButtonModel",
      "state": {
       "description": "starke Deklination",
       "layout": "IPY_MODEL_8ced62cd37304bcdbf760fd2408c6ac8",
       "style": "IPY_MODEL_e45700bd158a418f99504e52473e1e7b"
      }
     },
     "4ccb68c68113403192ae8b11ff8da416": {
      "model_module": "@jupyter-widgets/controls",
      "model_module_version": "1.5.0",
      "model_name": "ButtonStyleModel",
      "state": {
       "button_color": "lightgreen"
      }
     },
     "4cd1b9d702604456b35358ff2515e694": {
      "model_module": "@jupyter-widgets/controls",
      "model_module_version": "1.5.0",
      "model_name": "ButtonStyleModel",
      "state": {}
     },
     "4cd5cc36c4b746cdbd3a669957f8cd6c": {
      "model_module": "@jupyter-widgets/controls",
      "model_module_version": "1.5.0",
      "model_name": "DescriptionStyleModel",
      "state": {
       "description_width": ""
      }
     },
     "4d180c7c17b845d2b1b65a608e62d873": {
      "model_module": "@jupyter-widgets/controls",
      "model_module_version": "1.5.0",
      "model_name": "CheckboxModel",
      "state": {
       "description": "Sie werden aus der Eingabe extrahiert (feature extraction)",
       "disabled": false,
       "layout": "IPY_MODEL_e09d572f62354032bb571079c442aab7",
       "style": "IPY_MODEL_b5f1c7055caf44f7a7ff74666757f3e8",
       "value": false
      }
     },
     "4d1b3413c59d40fdbe14ba56264238a8": {
      "model_module": "@jupyter-widgets/base",
      "model_module_version": "1.2.0",
      "model_name": "LayoutModel",
      "state": {}
     },
     "4d908a748d6d4b12ababcf92d2e7bc3f": {
      "model_module": "@jupyter-widgets/controls",
      "model_module_version": "1.5.0",
      "model_name": "DescriptionStyleModel",
      "state": {
       "description_width": ""
      }
     },
     "4d982299917846ef82aed5b30e656ddc": {
      "model_module": "@jupyter-widgets/controls",
      "model_module_version": "1.5.0",
      "model_name": "VBoxModel",
      "state": {
       "children": [
        "IPY_MODEL_66db379e42cd43b59e1a991dc066a580",
        "IPY_MODEL_fe9363ba35104fa091b57253eb5ad9ff",
        "IPY_MODEL_c3e31b75f7664520b27d822f537457f4",
        "IPY_MODEL_1678dd1eb04c4a7aae208c8a9dd4f93c"
       ],
       "layout": "IPY_MODEL_64b44ac0922f45aba9b4aa8e353d6079"
      }
     },
     "4da57dd5a9004f27b73be5b56dc4e34a": {
      "model_module": "@jupyter-widgets/controls",
      "model_module_version": "1.5.0",
      "model_name": "HTMLModel",
      "state": {
       "layout": "IPY_MODEL_21285abaa8f345f58d7f76c9cf03951e",
       "style": "IPY_MODEL_15ef4205c29d42189a56da5a6a48dbb9",
       "value": "<h4 style=\"font-size:14px;\">dekliniert. Dies mag daran liegen, dass die</h4>"
      }
     },
     "4e41a4ee3d8c49c39bd2f957b8672d61": {
      "model_module": "@jupyter-widgets/controls",
      "model_module_version": "1.5.0",
      "model_name": "CheckboxModel",
      "state": {
       "description": "FS0 = [CAT = DET], FS1 = [CAT = N, GEN = MASK]",
       "disabled": false,
       "layout": "IPY_MODEL_2d78bd776d474f478526210546d3ee04",
       "style": "IPY_MODEL_4be6be175d074aa78c269dbcd8c5fb33",
       "value": true
      }
     },
     "4e664bc2fc6f469dbe6a67b7dbc0ceec": {
      "model_module": "@jupyter-widgets/controls",
      "model_module_version": "1.5.0",
      "model_name": "DescriptionStyleModel",
      "state": {
       "description_width": ""
      }
     },
     "4e72965ac5b34de48b00e67f0988a4bf": {
      "model_module": "@jupyter-widgets/base",
      "model_module_version": "1.2.0",
      "model_name": "LayoutModel",
      "state": {}
     },
     "4e8459b98dc04a9281ce03221ae6d0eb": {
      "model_module": "@jupyter-widgets/controls",
      "model_module_version": "1.5.0",
      "model_name": "DescriptionStyleModel",
      "state": {
       "description_width": ""
      }
     },
     "4e87528e759840989bc3cf99e3b5e349": {
      "model_module": "@jupyter-widgets/controls",
      "model_module_version": "1.5.0",
      "model_name": "CheckboxModel",
      "state": {
       "description": "Variable: <- (1)",
       "disabled": false,
       "layout": "IPY_MODEL_bde70312a75f48dba1e05f2dbd545131",
       "style": "IPY_MODEL_a5f82c162a34485babe7eff92ec7c796",
       "value": false
      }
     },
     "4e985179d0664740bfb31e43464535bf": {
      "model_module": "@jupyter-widgets/controls",
      "model_module_version": "1.5.0",
      "model_name": "CheckboxModel",
      "state": {
       "description": "Passivierung (Objekt-Promotion)",
       "disabled": false,
       "layout": "IPY_MODEL_7e2a1a2dc7964f1fbc19617083dbca51",
       "style": "IPY_MODEL_cb691ef0fae24c4b8bf6149d8fb957e6",
       "value": true
      }
     },
     "4e9abe65c325426891a3a365374f6dcd": {
      "model_module": "@jupyter-widgets/base",
      "model_module_version": "1.2.0",
      "model_name": "LayoutModel",
      "state": {
       "width": "250px"
      }
     },
     "4e9c7ff4db5c40d6ad0143d6460fc267": {
      "model_module": "@jupyter-widgets/controls",
      "model_module_version": "1.5.0",
      "model_name": "CheckboxModel",
      "state": {
       "description": "Sie werden im Vorhinein deklariert (feature lexicon)",
       "disabled": false,
       "layout": "IPY_MODEL_9058fab7c5f94935ae5fc3dde60ca377",
       "style": "IPY_MODEL_eadc57ed7dda40028232d65ea520b1e9",
       "value": true
      }
     },
     "4eabf1162c6a4791b165ea6d1c50182c": {
      "model_module": "@jupyter-widgets/controls",
      "model_module_version": "1.5.0",
      "model_name": "DropdownModel",
      "state": {
       "_options_labels": [
        "1",
        "10",
        "2",
        "4",
        "6",
        "8",
        "Keine der Alternativen"
       ],
       "description": "Antwort:",
       "index": 0,
       "layout": "IPY_MODEL_a5f835d749454309b39189c048ac079f",
       "style": "IPY_MODEL_83070f6201804b479f318579aacdede4"
      }
     },
     "4f153a3e27fe40f6a8562f8114261cdf": {
      "model_module": "@jupyter-widgets/controls",
      "model_module_version": "1.5.0",
      "model_name": "CheckboxModel",
      "state": {
       "description": "x!",
       "disabled": false,
       "layout": "IPY_MODEL_4446995824444144ac5a83d55d294f18",
       "style": "IPY_MODEL_af806ece793d4416be8ea35be29380d6",
       "value": false
      }
     },
     "4f1760b413864959865a3c1bf28eaf04": {
      "model_module": "@jupyter-widgets/base",
      "model_module_version": "1.2.0",
      "model_name": "LayoutModel",
      "state": {
       "width": "150px"
      }
     },
     "4f1cbae722fc431aa0f828530de6f632": {
      "model_module": "@jupyter-widgets/base",
      "model_module_version": "1.2.0",
      "model_name": "LayoutModel",
      "state": {}
     },
     "4f5919eab5ab4ea9b12fd14fe8a3a20e": {
      "model_module": "@jupyter-widgets/controls",
      "model_module_version": "1.5.0",
      "model_name": "HBoxModel",
      "state": {
       "children": [
        "IPY_MODEL_1c94f2dfb52d4212b604a0a7e534a800",
        "IPY_MODEL_d57b29c2faa04e91b680d19c29c98452"
       ],
       "layout": "IPY_MODEL_5d15f39572fb47e19672621d4debefaa"
      }
     },
     "4f7ac60eaceb4971b22b48ba90b6ec7e": {
      "model_module": "@jupyter-widgets/controls",
      "model_module_version": "1.5.0",
      "model_name": "DescriptionStyleModel",
      "state": {
       "description_width": "initial"
      }
     },
     "4f7cd19a5dd24f0aaaf3d273f7233703": {
      "model_module": "@jupyter-widgets/controls",
      "model_module_version": "1.5.0",
      "model_name": "CheckboxModel",
      "state": {
       "description": "Ausrichtung der Empathie",
       "disabled": false,
       "layout": "IPY_MODEL_efbc4e38fbca4c8c915326d020824549",
       "style": "IPY_MODEL_7c6a811dd85e41bcba110fef88206f5e",
       "value": true
      }
     },
     "4fb9cf7156b141b29024085fa4041a9a": {
      "model_module": "@jupyter-widgets/base",
      "model_module_version": "1.2.0",
      "model_name": "LayoutModel",
      "state": {
       "justify_content": "center"
      }
     },
     "4fceae635649424f8d09d99820f3026e": {
      "model_module": "@jupyter-widgets/controls",
      "model_module_version": "1.5.0",
      "model_name": "HTMLModel",
      "state": {
       "layout": "IPY_MODEL_30f0b95893e04c4c8041e132c84ea659",
       "style": "IPY_MODEL_76fa4e91cc904f99afaa6de593b2ffac",
       "value": "<h4 style=\"font-size:14px;\">Welche der Beispiele erfüllen die Subsumptionsbeziehung aus 10b nicht?</h4>"
      }
     },
     "4fcfe743640444cfa1cde4d2a5ec1366": {
      "model_module": "@jupyter-widgets/controls",
      "model_module_version": "1.5.0",
      "model_name": "VBoxModel",
      "state": {
       "children": [
        "IPY_MODEL_6af363b688ec468e82398529944257de",
        "IPY_MODEL_d1f3430a776c46bbb0052137ae98516a",
        "IPY_MODEL_aac0046e7c1c4b8fb06928d66b0ded30",
        "IPY_MODEL_93cf3d78efbf4fc29c2fb8e2fb9513b7"
       ],
       "layout": "IPY_MODEL_f644455880e34854815bcd29ec128940"
      }
     },
     "4fd7b9660ac84e748f798fe9b7cca9d7": {
      "model_module": "@jupyter-widgets/base",
      "model_module_version": "1.2.0",
      "model_name": "LayoutModel",
      "state": {
       "width": "600px"
      }
     },
     "4fdd415361814918b9b367c937e0b438": {
      "model_module": "@jupyter-widgets/base",
      "model_module_version": "1.2.0",
      "model_name": "LayoutModel",
      "state": {}
     },
     "503f8f23b99145c4be4f6e23264d770a": {
      "model_module": "@jupyter-widgets/base",
      "model_module_version": "1.2.0",
      "model_name": "LayoutModel",
      "state": {
       "width": "600px"
      }
     },
     "504f265dd6284ac5b05769c0a275930a": {
      "model_module": "@jupyter-widgets/controls",
      "model_module_version": "1.5.0",
      "model_name": "HBoxModel",
      "state": {
       "children": [
        "IPY_MODEL_9c29bdcb1dd24a77ab3cbc16bdfa036f",
        "IPY_MODEL_6d4dcb84032f498881ed04af709e4ff8"
       ],
       "layout": "IPY_MODEL_2eeb8f8a46de4b1589157d48a76c4a6d"
      }
     },
     "508d53be3fbf4570bb5a4f8b307a99ee": {
      "model_module": "@jupyter-widgets/base",
      "model_module_version": "1.2.0",
      "model_name": "LayoutModel",
      "state": {
       "width": "600px"
      }
     },
     "50c26e93563f404eb114366a4c5154c7": {
      "model_module": "@jupyter-widgets/base",
      "model_module_version": "1.2.0",
      "model_name": "LayoutModel",
      "state": {
       "width": "250px"
      }
     },
     "51100e82b3ec4ab6b8938b3a5198b4a8": {
      "model_module": "@jupyter-widgets/base",
      "model_module_version": "1.2.0",
      "model_name": "LayoutModel",
      "state": {
       "width": "600px"
      }
     },
     "51144cd43c294598b2b8b058f8e1ec24": {
      "model_module": "@jupyter-widgets/controls",
      "model_module_version": "1.5.0",
      "model_name": "ButtonStyleModel",
      "state": {}
     },
     "513c350d4f5040c09d00c92a43129531": {
      "model_module": "@jupyter-widgets/base",
      "model_module_version": "1.2.0",
      "model_name": "LayoutModel",
      "state": {}
     },
     "516c64b2701a455bb2ca649efba80d95": {
      "model_module": "@jupyter-widgets/base",
      "model_module_version": "1.2.0",
      "model_name": "LayoutModel",
      "state": {
       "width": "250px"
      }
     },
     "51a05c90f5c748629e39d809f4741a87": {
      "model_module": "@jupyter-widgets/base",
      "model_module_version": "1.2.0",
      "model_name": "LayoutModel",
      "state": {
       "width": "250px"
      }
     },
     "51bde9218f1d4855b8ec1658c4d34abb": {
      "model_module": "@jupyter-widgets/controls",
      "model_module_version": "1.5.0",
      "model_name": "DescriptionStyleModel",
      "state": {
       "description_width": ""
      }
     },
     "51c8e9aa18604a97aa01593113a35043": {
      "model_module": "@jupyter-widgets/base",
      "model_module_version": "1.2.0",
      "model_name": "LayoutModel",
      "state": {
       "width": "600px"
      }
     },
     "51cb30a5f2784acf988503dfe8bbf633": {
      "model_module": "@jupyter-widgets/controls",
      "model_module_version": "1.5.0",
      "model_name": "ButtonModel",
      "state": {
       "description": "starke Deklination",
       "layout": "IPY_MODEL_10bcf79cfc7249dc896eead819a8b6f2",
       "style": "IPY_MODEL_09bad402f6d74bada86169448e1a337a"
      }
     },
     "51cd1f2f33914a0592dceb2a81c12cd7": {
      "model_module": "@jupyter-widgets/controls",
      "model_module_version": "1.5.0",
      "model_name": "CheckboxModel",
      "state": {
       "description": "Der Artikel übernimmt z. T. die Kasusmarkierung.",
       "disabled": false,
       "layout": "IPY_MODEL_0c67566d08404c66ba92179111f40163",
       "style": "IPY_MODEL_32bf297ea30d4e2d8b58464c9d409919",
       "value": false
      }
     },
     "51d198e9d15a4192aeda7083c84cf690": {
      "model_module": "@jupyter-widgets/controls",
      "model_module_version": "1.5.0",
      "model_name": "DescriptionStyleModel",
      "state": {
       "description_width": "initial"
      }
     },
     "51f3ef909015444eb6622702e683e666": {
      "model_module": "@jupyter-widgets/controls",
      "model_module_version": "1.5.0",
      "model_name": "HTMLModel",
      "state": {
       "layout": "IPY_MODEL_1eff9c4732b44bc3af1d7792e5440a5b",
       "style": "IPY_MODEL_9cc49f71ad204153a5067ec256ad16b7",
       "value": "<h4 style=\"font-size:14px;\">Wie werden Features in formalen Grammatiken verwendet?</h4>"
      }
     },
     "5208611532ab46beadba600b7ff1a051": {
      "model_module": "@jupyter-widgets/base",
      "model_module_version": "1.2.0",
      "model_name": "LayoutModel",
      "state": {}
     },
     "521ce03f64344220bd9a13d4a78f0c1b": {
      "model_module": "@jupyter-widgets/base",
      "model_module_version": "1.2.0",
      "model_name": "LayoutModel",
      "state": {
       "width": "600px"
      }
     },
     "523e4f491d2f488b9d73943d42a41d72": {
      "model_module": "@jupyter-widgets/controls",
      "model_module_version": "1.5.0",
      "model_name": "CheckboxModel",
      "state": {
       "description": "Eine rangiedrigere Rolle übernimmt die Subjektfunktion.",
       "disabled": false,
       "layout": "IPY_MODEL_a10227cfd7bc41e5b353ff93719c2b5f",
       "style": "IPY_MODEL_e174c3810a554d8a8b190696c11d3cde",
       "value": true
      }
     },
     "524d188f75d5431f86fb9b649665790d": {
      "model_module": "@jupyter-widgets/controls",
      "model_module_version": "1.5.0",
      "model_name": "DescriptionStyleModel",
      "state": {
       "description_width": "initial"
      }
     },
     "525b3cb050bf4ef997295db4bf8502f9": {
      "model_module": "@jupyter-widgets/base",
      "model_module_version": "1.2.0",
      "model_name": "LayoutModel",
      "state": {}
     },
     "526d177653a3431ba89c2c6668722200": {
      "model_module": "@jupyter-widgets/controls",
      "model_module_version": "1.5.0",
      "model_name": "ButtonModel",
      "state": {
       "description": "starke Deklination",
       "layout": "IPY_MODEL_50c26e93563f404eb114366a4c5154c7",
       "style": "IPY_MODEL_143699d9fb3c4c449416c66998a7b939"
      }
     },
     "52888cf267ff4293abaff91aad216325": {
      "model_module": "@jupyter-widgets/controls",
      "model_module_version": "1.5.0",
      "model_name": "DescriptionStyleModel",
      "state": {
       "description_width": ""
      }
     },
     "529ee3a002794c6c87eb4fd0b1583a8a": {
      "model_module": "@jupyter-widgets/controls",
      "model_module_version": "1.5.0",
      "model_name": "ButtonStyleModel",
      "state": {}
     },
     "52defd447f3d44ab94eec9314fe678e1": {
      "model_module": "@jupyter-widgets/controls",
      "model_module_version": "1.5.0",
      "model_name": "HTMLModel",
      "state": {
       "layout": "IPY_MODEL_7d1d0589cad54b7cba2b86d60fa960df",
       "style": "IPY_MODEL_6cf6cb00ff17457493606e49cfda6f88",
       "value": "<h4 style=\"font-size:14px;\">keine</h4>"
      }
     },
     "52ee5e9f412942deac29f9f5f77a0872": {
      "model_module": "@jupyter-widgets/controls",
      "model_module_version": "1.5.0",
      "model_name": "ButtonStyleModel",
      "state": {}
     },
     "5313a578273a42f1b68fe6edc31652db": {
      "model_module": "@jupyter-widgets/controls",
      "model_module_version": "1.5.0",
      "model_name": "DescriptionStyleModel",
      "state": {
       "description_width": "initial"
      }
     },
     "5318c2a1ca0e4ddab78fcbdbbd737785": {
      "model_module": "@jupyter-widgets/controls",
      "model_module_version": "1.5.0",
      "model_name": "CheckboxModel",
      "state": {
       "description": "FS0 = [CAT = N, GEN = FEM], FS1 = [CAT = DET, GEN = FEM]",
       "disabled": false,
       "layout": "IPY_MODEL_71fde5cf4f624b5b9258088af62d5a10",
       "style": "IPY_MODEL_1da1d12381eb45d398c073d1d1bdcb1d",
       "value": false
      }
     },
     "5362219416b144b1bc11ed40ff82f5cc": {
      "model_module": "@jupyter-widgets/base",
      "model_module_version": "1.2.0",
      "model_name": "LayoutModel",
      "state": {}
     },
     "5363ebe855424d3692bf713983db3151": {
      "model_module": "@jupyter-widgets/base",
      "model_module_version": "1.2.0",
      "model_name": "LayoutModel",
      "state": {
       "width": "250px"
      }
     },
     "53aba26fdc41493ca74c16ef526becb4": {
      "model_module": "@jupyter-widgets/controls",
      "model_module_version": "1.5.0",
      "model_name": "DescriptionStyleModel",
      "state": {
       "description_width": ""
      }
     },
     "53bcba1864834b1e941f09b7c963c4df": {
      "model_module": "@jupyter-widgets/controls",
      "model_module_version": "1.5.0",
      "model_name": "VBoxModel",
      "state": {
       "children": [
        "IPY_MODEL_218459c416484fcd8262f7bc244e29f9",
        "IPY_MODEL_79d13457d6994e46a40e6984ed2b4ed1",
        "IPY_MODEL_47aa38df87d943dfbe8a61f9a21e22d0",
        "IPY_MODEL_665173bb6c1841eab1148167ced38503"
       ],
       "layout": "IPY_MODEL_9d1b795169bc44f4a35e094236996426"
      }
     },
     "53d5b888c4674900a6ae5583acc96538": {
      "model_module": "@jupyter-widgets/base",
      "model_module_version": "1.2.0",
      "model_name": "LayoutModel",
      "state": {
       "width": "250px"
      }
     },
     "53ecf674e98c483e8e0a9e2b4fd4f61d": {
      "model_module": "@jupyter-widgets/controls",
      "model_module_version": "1.5.0",
      "model_name": "ButtonModel",
      "state": {
       "description": "Zeitangabe",
       "layout": "IPY_MODEL_d1a135b338a54db78948f319c0aac617",
       "style": "IPY_MODEL_05d4899ae0dd488d9313ceb1e73c464e"
      }
     },
     "540d6202e83d46189b1f048b07967a2e": {
      "model_module": "@jupyter-widgets/controls",
      "model_module_version": "1.5.0",
      "model_name": "HBoxModel",
      "state": {
       "children": [
        "IPY_MODEL_e98ad77c042542118abbf5e659f08ba0"
       ],
       "layout": "IPY_MODEL_543ac170d10c4dee889e53979d984c7c"
      }
     },
     "543ac170d10c4dee889e53979d984c7c": {
      "model_module": "@jupyter-widgets/base",
      "model_module_version": "1.2.0",
      "model_name": "LayoutModel",
      "state": {}
     },
     "546cb18ad0b247aeb36379c6f056ccfb": {
      "model_module": "@jupyter-widgets/controls",
      "model_module_version": "1.5.0",
      "model_name": "HBoxModel",
      "state": {
       "children": [
        "IPY_MODEL_9417f7e764824b7fac1f25d79b36960b",
        "IPY_MODEL_4c7c54f232214ef4982bf25161ab64c3"
       ],
       "layout": "IPY_MODEL_ed78cd72ddca47b2bd8cf4ecb8b57768"
      }
     },
     "547b2186cdd7464e86b68b826da7ce7f": {
      "model_module": "@jupyter-widgets/base",
      "model_module_version": "1.2.0",
      "model_name": "LayoutModel",
      "state": {}
     },
     "548c206fce7e42499e6859674fb14219": {
      "model_module": "@jupyter-widgets/controls",
      "model_module_version": "1.5.0",
      "model_name": "DescriptionStyleModel",
      "state": {
       "description_width": "initial"
      }
     },
     "54a15015f49e4f278a0b5598ee48c95f": {
      "model_module": "@jupyter-widgets/controls",
      "model_module_version": "1.5.0",
      "model_name": "VBoxModel",
      "state": {
       "children": [
        "IPY_MODEL_efe69478c66b4241a3daf791a4ac2a5f",
        "IPY_MODEL_36fba67f46bd4331b41e4c666aceeb72",
        "IPY_MODEL_41f39f1b73ad40a9bd9af4fc3c3f1ca1",
        "IPY_MODEL_012d9fc9c68a4ae3825fbbd6b6a68a69"
       ],
       "layout": "IPY_MODEL_c31ece5a34244cb0a7e1da6113202e55"
      }
     },
     "54bc9c6e93034473ba9348f3f5d16d4e": {
      "model_module": "@jupyter-widgets/base",
      "model_module_version": "1.2.0",
      "model_name": "LayoutModel",
      "state": {
       "width": "250px"
      }
     },
     "5507b1c669d94346ae1d531a01ff9066": {
      "model_module": "@jupyter-widgets/controls",
      "model_module_version": "1.5.0",
      "model_name": "HTMLModel",
      "state": {
       "layout": "IPY_MODEL_d699b46d37884e9ca38128e53ea4417c",
       "style": "IPY_MODEL_81eff38a52d441188a701318319320b8",
       "value": "<i>Wählen Sie die <ins>eine</ins> korrekte Antwort aus: </i>"
      }
     },
     "550cc3efeb5c488eb10522193e78b3e5": {
      "model_module": "@jupyter-widgets/controls",
      "model_module_version": "1.5.0",
      "model_name": "CheckboxModel",
      "state": {
       "description": "Sie werden neu eingefügt.",
       "disabled": false,
       "layout": "IPY_MODEL_24fb64b781bb41a781d790189f73d113",
       "style": "IPY_MODEL_b6f2a7146c7a4305b8c1646194f8ea2e",
       "value": false
      }
     },
     "555a7c17b72242f88281cd2887f86a11": {
      "model_module": "@jupyter-widgets/controls",
      "model_module_version": "1.5.0",
      "model_name": "ButtonModel",
      "state": {
       "description": "Agens",
       "layout": "IPY_MODEL_cd3136932bef4d58841f2990bb1e7bc0",
       "style": "IPY_MODEL_bfe7ba1304a542dfadecdf773bbdf868"
      }
     },
     "55602b98228d49638df6042ff617a70f": {
      "model_module": "@jupyter-widgets/base",
      "model_module_version": "1.2.0",
      "model_name": "LayoutModel",
      "state": {
       "width": "250px"
      }
     },
     "556110235c5148058e73608ff753b800": {
      "model_module": "@jupyter-widgets/base",
      "model_module_version": "1.2.0",
      "model_name": "LayoutModel",
      "state": {}
     },
     "55861cb45b944d28b7ff97945b514bec": {
      "model_module": "@jupyter-widgets/controls",
      "model_module_version": "1.5.0",
      "model_name": "ButtonModel",
      "state": {
       "description": "Time",
       "layout": "IPY_MODEL_15cc5aa0afca481a810d2e14040ee594",
       "style": "IPY_MODEL_6b210be95e62436c8605eb13798809e1"
      }
     },
     "559bfb4f53774ca6be4bf46552f3c9be": {
      "model_module": "@jupyter-widgets/base",
      "model_module_version": "1.2.0",
      "model_name": "LayoutModel",
      "state": {
       "width": "250px"
      }
     },
     "55dab069caa347e4baca52165f574983": {
      "model_module": "@jupyter-widgets/controls",
      "model_module_version": "1.5.0",
      "model_name": "DescriptionStyleModel",
      "state": {
       "description_width": ""
      }
     },
     "55ddad23524f41a6b1768210024e8f5a": {
      "model_module": "@jupyter-widgets/controls",
      "model_module_version": "1.5.0",
      "model_name": "DescriptionStyleModel",
      "state": {
       "description_width": ""
      }
     },
     "55dec04649af4f6ba83f8c6330fcf879": {
      "model_module": "@jupyter-widgets/controls",
      "model_module_version": "1.5.0",
      "model_name": "DescriptionStyleModel",
      "state": {
       "description_width": ""
      }
     },
     "55fd7c97ac214c6285bfee60009cc4a4": {
      "model_module": "@jupyter-widgets/base",
      "model_module_version": "1.2.0",
      "model_name": "LayoutModel",
      "state": {
       "width": "250px"
      }
     },
     "5621cad9c338403ab95a77dc4ee45e04": {
      "model_module": "@jupyter-widgets/controls",
      "model_module_version": "1.5.0",
      "model_name": "DescriptionStyleModel",
      "state": {
       "description_width": ""
      }
     },
     "5659d76cfade4f8aa9248952f5a8395c": {
      "model_module": "@jupyter-widgets/base",
      "model_module_version": "1.2.0",
      "model_name": "LayoutModel",
      "state": {}
     },
     "568c32cbbdf9463db0e04749d07450ab": {
      "model_module": "@jupyter-widgets/base",
      "model_module_version": "1.2.0",
      "model_name": "LayoutModel",
      "state": {
       "width": "600px"
      }
     },
     "56d5fffe5ff34fb7b3beb11f6b4635d7": {
      "model_module": "@jupyter-widgets/controls",
      "model_module_version": "1.5.0",
      "model_name": "ButtonStyleModel",
      "state": {}
     },
     "56ed7e7cc9c247fb9002a99e40bab882": {
      "model_module": "@jupyter-widgets/base",
      "model_module_version": "1.2.0",
      "model_name": "LayoutModel",
      "state": {
       "justify_content": "center"
      }
     },
     "56f0cc5580394f0bbc6ed0c9ffa46a04": {
      "model_module": "@jupyter-widgets/controls",
      "model_module_version": "1.5.0",
      "model_name": "DescriptionStyleModel",
      "state": {
       "description_width": ""
      }
     },
     "56fc223339664ab9b1e54dc4580d96b5": {
      "model_module": "@jupyter-widgets/controls",
      "model_module_version": "1.5.0",
      "model_name": "CheckboxModel",
      "state": {
       "description": "Passivierung (Objekt-Promotion)",
       "disabled": false,
       "layout": "IPY_MODEL_d837793109b34140a046494dff7fe966",
       "style": "IPY_MODEL_548c206fce7e42499e6859674fb14219",
       "value": false
      }
     },
     "570e05b5806341189d67c1c29bbfdad6": {
      "model_module": "@jupyter-widgets/base",
      "model_module_version": "1.2.0",
      "model_name": "LayoutModel",
      "state": {
       "width": "600px"
      }
     },
     "5743a8a1f43f4e00b1e278969f42c022": {
      "model_module": "@jupyter-widgets/controls",
      "model_module_version": "1.5.0",
      "model_name": "CheckboxModel",
      "state": {
       "description": "Keine der Alternativen",
       "disabled": false,
       "layout": "IPY_MODEL_363373372b5741838a91cc32a83fef83",
       "style": "IPY_MODEL_cdf41975ea8c4113ab2c94db28b9af7e",
       "value": false
      }
     },
     "574c9b5679814c9ab08ca880ec880fc4": {
      "model_module": "@jupyter-widgets/base",
      "model_module_version": "1.2.0",
      "model_name": "LayoutModel",
      "state": {}
     },
     "57534e3a9df2447c9a03ad2857beb1b9": {
      "model_module": "@jupyter-widgets/base",
      "model_module_version": "1.2.0",
      "model_name": "LayoutModel",
      "state": {
       "width": "250px"
      }
     },
     "578f8a0005ef4f21ad632e7c0f606eba": {
      "model_module": "@jupyter-widgets/controls",
      "model_module_version": "1.5.0",
      "model_name": "HBoxModel",
      "state": {
       "children": [
        "IPY_MODEL_2aed59ab257e4dfb8fe02b1180f41f54",
        "IPY_MODEL_679c8fbc7c6a45b0aa0856e05a2ca50d"
       ],
       "layout": "IPY_MODEL_6cce65e793074d958757782ffdf96e4f"
      }
     },
     "57a02881efe54833bcea01752c4c3874": {
      "model_module": "@jupyter-widgets/controls",
      "model_module_version": "1.5.0",
      "model_name": "ButtonStyleModel",
      "state": {
       "button_color": "lightgreen"
      }
     },
     "57c318be6e7a4f49a1c8d4202d956270": {
      "model_module": "@jupyter-widgets/base",
      "model_module_version": "1.2.0",
      "model_name": "LayoutModel",
      "state": {
       "width": "600px"
      }
     },
     "57cf34e7785347f1898e89073178a837": {
      "model_module": "@jupyter-widgets/base",
      "model_module_version": "1.2.0",
      "model_name": "LayoutModel",
      "state": {
       "width": "250px"
      }
     },
     "57dc8858a6b5497f8858c4078fb67ef0": {
      "model_module": "@jupyter-widgets/controls",
      "model_module_version": "1.5.0",
      "model_name": "HTMLModel",
      "state": {
       "layout": "IPY_MODEL_2b5e19c482c648549c5cee5db3733b7d",
       "style": "IPY_MODEL_40d6bdd9f1e0493cb35af5af3c4006da",
       "value": "<h4 style=\"font-size:14px;\">Welche syntaktischen Unterschiede bestehen?</h4>"
      }
     },
     "57dfb5d5500941399272fd1460013b52": {
      "model_module": "@jupyter-widgets/controls",
      "model_module_version": "1.5.0",
      "model_name": "ButtonModel",
      "state": {
       "description": "unbestimmten",
       "layout": "IPY_MODEL_896e606f25ec4f89a993682b422908d0",
       "style": "IPY_MODEL_0106ddb6b813430c9ef317b65b92397a"
      }
     },
     "57eb4ec1a35a4d2381c2160311c33712": {
      "model_module": "@jupyter-widgets/base",
      "model_module_version": "1.2.0",
      "model_name": "LayoutModel",
      "state": {}
     },
     "581951c061e14bf6a6450b59e08bd290": {
      "model_module": "@jupyter-widgets/controls",
      "model_module_version": "1.5.0",
      "model_name": "HTMLModel",
      "state": {
       "layout": "IPY_MODEL_baf67cc5e8254982bf437ce1ddc51ea9",
       "style": "IPY_MODEL_4e664bc2fc6f469dbe6a67b7dbc0ceec",
       "value": "<i>Wählen Sie die <ins>eine</ins> korrekte Antwort aus: </i>"
      }
     },
     "5831ec67025c4ccbb2af3b0829fed65d": {
      "model_module": "@jupyter-widgets/controls",
      "model_module_version": "1.5.0",
      "model_name": "DropdownModel",
      "state": {
       "_options_labels": [
        "Genusmerkmale",
        "Kasusmerkmale",
        " "
       ],
       "index": 0,
       "layout": "IPY_MODEL_f562017113854580bb615f651295c19a",
       "style": "IPY_MODEL_74d5d17303aa4d1fb1b239ee9f4e73c6"
      }
     },
     "5848c87b929d47c09c01254f59c4451a": {
      "model_module": "@jupyter-widgets/controls",
      "model_module_version": "1.5.0",
      "model_name": "ButtonStyleModel",
      "state": {}
     },
     "585240ab7af74b148aca841c8d7c549b": {
      "model_module": "@jupyter-widgets/controls",
      "model_module_version": "1.5.0",
      "model_name": "ButtonStyleModel",
      "state": {}
     },
     "589d8188159c434bb2ea3007852628df": {
      "model_module": "@jupyter-widgets/controls",
      "model_module_version": "1.5.0",
      "model_name": "ButtonStyleModel",
      "state": {}
     },
     "58a8da60861c4a9e842363bdbc2db18b": {
      "model_module": "@jupyter-widgets/base",
      "model_module_version": "1.2.0",
      "model_name": "LayoutModel",
      "state": {
       "width": "250px"
      }
     },
     "58ec0120dc274181959d7bbc31efe372": {
      "model_module": "@jupyter-widgets/controls",
      "model_module_version": "1.5.0",
      "model_name": "ButtonStyleModel",
      "state": {
       "button_color": "lightgreen"
      }
     },
     "591e1fbbe15c4690aeb850897f3abfa8": {
      "model_module": "@jupyter-widgets/base",
      "model_module_version": "1.2.0",
      "model_name": "LayoutModel",
      "state": {}
     },
     "594be9568d3947238a1847a134a03153": {
      "model_module": "@jupyter-widgets/controls",
      "model_module_version": "1.5.0",
      "model_name": "DescriptionStyleModel",
      "state": {
       "description_width": ""
      }
     },
     "598cd8e88cf342ab8721636a6809d782": {
      "model_module": "@jupyter-widgets/base",
      "model_module_version": "1.2.0",
      "model_name": "LayoutModel",
      "state": {
       "width": "250px"
      }
     },
     "59b05e864bb44be1b1c78366ca59f4aa": {
      "model_module": "@jupyter-widgets/controls",
      "model_module_version": "1.5.0",
      "model_name": "VBoxModel",
      "state": {
       "children": [
        "IPY_MODEL_c7bac7a7840c488b83cd371da9d0c628",
        "IPY_MODEL_adb4d10bd4b84632899ca59a7a5de5c0",
        "IPY_MODEL_a48ac7cf32364d39bdfd253e06ad1c67",
        "IPY_MODEL_21dd5d1c612044dda1fbc8310feb138d"
       ],
       "layout": "IPY_MODEL_1c87cb04ec6b42e5aa4fc021bb6958c7"
      }
     },
     "59b1e1b8d43044a1bd94f66eb9cf21d4": {
      "model_module": "@jupyter-widgets/controls",
      "model_module_version": "1.5.0",
      "model_name": "ButtonStyleModel",
      "state": {
       "button_color": "lightgreen"
      }
     },
     "59c50d1da3ed498492d2890ea16a5f38": {
      "model_module": "@jupyter-widgets/controls",
      "model_module_version": "1.5.0",
      "model_name": "ButtonModel",
      "state": {
       "description": "Ja",
       "layout": "IPY_MODEL_c337cc4509d143098a34a0d8094177f0",
       "style": "IPY_MODEL_76b01c31f0a7431ca072b402be236953"
      }
     },
     "59e669d5d9e040f2b352e58f6af1a0d7": {
      "model_module": "@jupyter-widgets/base",
      "model_module_version": "1.2.0",
      "model_name": "LayoutModel",
      "state": {}
     },
     "59ef0d6329d54de9bd9a4a633fb1ebcb": {
      "model_module": "@jupyter-widgets/base",
      "model_module_version": "1.2.0",
      "model_name": "LayoutModel",
      "state": {}
     },
     "59ef760f25354953951eef11c56c6674": {
      "model_module": "@jupyter-widgets/base",
      "model_module_version": "1.2.0",
      "model_name": "LayoutModel",
      "state": {}
     },
     "59ff92f19cc44a49b52042bc08d451a3": {
      "model_module": "@jupyter-widgets/controls",
      "model_module_version": "1.5.0",
      "model_name": "DescriptionStyleModel",
      "state": {
       "description_width": "initial"
      }
     },
     "5a132fb3c72244069bd33f3c5c8c7926": {
      "model_module": "@jupyter-widgets/base",
      "model_module_version": "1.2.0",
      "model_name": "LayoutModel",
      "state": {
       "width": "600px"
      }
     },
     "5a414d3213e64c17bbeacb4acef4bfe3": {
      "model_module": "@jupyter-widgets/controls",
      "model_module_version": "1.5.0",
      "model_name": "DescriptionStyleModel",
      "state": {
       "description_width": ""
      }
     },
     "5a421af6fdbf434f895515528819c8b6": {
      "model_module": "@jupyter-widgets/controls",
      "model_module_version": "1.5.0",
      "model_name": "ButtonStyleModel",
      "state": {}
     },
     "5a522d2dfc6f4be1890435face777a7c": {
      "model_module": "@jupyter-widgets/base",
      "model_module_version": "1.2.0",
      "model_name": "LayoutModel",
      "state": {
       "width": "600px"
      }
     },
     "5aab5440d38e49e19b5febeeb1bec33b": {
      "model_module": "@jupyter-widgets/controls",
      "model_module_version": "1.5.0",
      "model_name": "ButtonStyleModel",
      "state": {}
     },
     "5ab26c7b7c654cb6aff1e8f31d85f16b": {
      "model_module": "@jupyter-widgets/controls",
      "model_module_version": "1.5.0",
      "model_name": "DescriptionStyleModel",
      "state": {
       "description_width": "initial"
      }
     },
     "5aef44b9d51648d59dd04d04b6f25e2f": {
      "model_module": "@jupyter-widgets/controls",
      "model_module_version": "1.5.0",
      "model_name": "CheckboxModel",
      "state": {
       "description": "Die Endungen von Adjektiv und Artikel stimmen überein.",
       "disabled": false,
       "layout": "IPY_MODEL_11dd46a734c846bb929b51cbe8cc7b1b",
       "style": "IPY_MODEL_2732eaa243704a9bbb87b87476654c23",
       "value": false
      }
     },
     "5b1a6384ab4a4e1883dd2ae069bcec76": {
      "model_module": "@jupyter-widgets/controls",
      "model_module_version": "1.5.0",
      "model_name": "DescriptionStyleModel",
      "state": {
       "description_width": ""
      }
     },
     "5b2197845b7d4a61a10def8b38c5156a": {
      "model_module": "@jupyter-widgets/controls",
      "model_module_version": "1.5.0",
      "model_name": "ButtonStyleModel",
      "state": {}
     },
     "5b4282450fb543f7903f58ae5c085d40": {
      "model_module": "@jupyter-widgets/base",
      "model_module_version": "1.2.0",
      "model_name": "LayoutModel",
      "state": {
       "width": "250px"
      }
     },
     "5b4ac2a3f8ec422cab68d8a04f6dbc5c": {
      "model_module": "@jupyter-widgets/base",
      "model_module_version": "1.2.0",
      "model_name": "LayoutModel",
      "state": {
       "width": "600px"
      }
     },
     "5b8d684398e54513b0f1de7e82c96538": {
      "model_module": "@jupyter-widgets/controls",
      "model_module_version": "1.5.0",
      "model_name": "ButtonModel",
      "state": {
       "description": "Recipient",
       "layout": "IPY_MODEL_ebd2bb44b8a54586b4895812aec21bec",
       "style": "IPY_MODEL_c668cbb5b3584ae88717b6de974a1949"
      }
     },
     "5baaf605239a4cea8d7f37caab4cd43c": {
      "model_module": "@jupyter-widgets/controls",
      "model_module_version": "1.5.0",
      "model_name": "VBoxModel",
      "state": {
       "children": [
        "IPY_MODEL_6b5540cffba94964904641c40e6ed5d7",
        "IPY_MODEL_830540ce4be94f77be3d196db0665df0",
        "IPY_MODEL_90fcc8e60a8443bb9f90f87b1d73e926",
        "IPY_MODEL_d73c9b49a8c0488087162bd258bfd8d9"
       ],
       "layout": "IPY_MODEL_d237bb5d957845e9b6079919c2244051"
      }
     },
     "5bd016ac335d406eb17de76e46e07485": {
      "model_module": "@jupyter-widgets/base",
      "model_module_version": "1.2.0",
      "model_name": "LayoutModel",
      "state": {
       "width": "250px"
      }
     },
     "5bdd91e3f6ba49e58289a99b4d325d99": {
      "model_module": "@jupyter-widgets/controls",
      "model_module_version": "1.5.0",
      "model_name": "DescriptionStyleModel",
      "state": {
       "description_width": ""
      }
     },
     "5be77375762f44a4a8fa66b40e2b5049": {
      "model_module": "@jupyter-widgets/controls",
      "model_module_version": "1.5.0",
      "model_name": "ButtonModel",
      "state": {
       "description": "Nein",
       "layout": "IPY_MODEL_8be8d19a778d468ba530dbfdf0333fe0",
       "style": "IPY_MODEL_e470e0db1b7a40dbb3a4f969f45a09fd"
      }
     },
     "5bf1b98b37cd4f5098e84442ac0cbaca": {
      "model_module": "@jupyter-widgets/base",
      "model_module_version": "1.2.0",
      "model_name": "LayoutModel",
      "state": {
       "width": "600px"
      }
     },
     "5c2362eebabe492da087c4c8365439d0": {
      "model_module": "@jupyter-widgets/controls",
      "model_module_version": "1.5.0",
      "model_name": "DescriptionStyleModel",
      "state": {
       "description_width": ""
      }
     },
     "5c455d78bdba4dfe875e8adb5d0df03c": {
      "model_module": "@jupyter-widgets/controls",
      "model_module_version": "1.5.0",
      "model_name": "ButtonStyleModel",
      "state": {}
     },
     "5c7ea9fecea2439b94b5d80168f40d59": {
      "model_module": "@jupyter-widgets/controls",
      "model_module_version": "1.5.0",
      "model_name": "HBoxModel",
      "state": {
       "children": [
        "IPY_MODEL_f9d3a372849c4ce584e02619ed71491f"
       ],
       "layout": "IPY_MODEL_72be61f1c63543e68f2c9a8928d0aff6"
      }
     },
     "5cb0e1179d8142c08de8e252a5bf83a3": {
      "model_module": "@jupyter-widgets/controls",
      "model_module_version": "1.5.0",
      "model_name": "DescriptionStyleModel",
      "state": {
       "description_width": "initial"
      }
     },
     "5cb30ab6b3bf431db9d9b068f6111890": {
      "model_module": "@jupyter-widgets/controls",
      "model_module_version": "1.5.0",
      "model_name": "VBoxModel",
      "state": {
       "children": [
        "IPY_MODEL_e106fc93a024461db340a1ebe23151e3",
        "IPY_MODEL_1fbf1796c5394994826d8725609456a3",
        "IPY_MODEL_7583fe3a8f454a4eb671b2ec9bc75fa6",
        "IPY_MODEL_792a53073b88460db19339bcf1d347ef"
       ],
       "layout": "IPY_MODEL_b80090eb159a4d68839253784eae1ea5"
      }
     },
     "5cc6e051370348f7a3ad1e65fcc89904": {
      "model_module": "@jupyter-widgets/controls",
      "model_module_version": "1.5.0",
      "model_name": "HBoxModel",
      "state": {
       "children": [
        "IPY_MODEL_b50f49c9ef4745f9a493dd9405014467"
       ],
       "layout": "IPY_MODEL_411ddf5400fc4ea48aa336f384a59c7f"
      }
     },
     "5cd5ffb638f34d9096d0bdf1a87e6362": {
      "model_module": "@jupyter-widgets/base",
      "model_module_version": "1.2.0",
      "model_name": "LayoutModel",
      "state": {
       "justify_content": "center"
      }
     },
     "5d10ba21eaac4bf88b91f0396190dc1d": {
      "model_module": "@jupyter-widgets/controls",
      "model_module_version": "1.5.0",
      "model_name": "CheckboxModel",
      "state": {
       "description": "?x",
       "disabled": false,
       "layout": "IPY_MODEL_de2d03a02e6a4337b78e3eec78e57d3f",
       "style": "IPY_MODEL_cc0c3d4ad6414ee49f5adea649d3ce31",
       "value": true
      }
     },
     "5d15f39572fb47e19672621d4debefaa": {
      "model_module": "@jupyter-widgets/base",
      "model_module_version": "1.2.0",
      "model_name": "LayoutModel",
      "state": {}
     },
     "5d2cca782d51411d9d0759af24310674": {
      "model_module": "@jupyter-widgets/controls",
      "model_module_version": "1.5.0",
      "model_name": "ButtonStyleModel",
      "state": {
       "button_color": "lightgreen"
      }
     },
     "5d49a889d4d547fdb41211a0b8be4534": {
      "model_module": "@jupyter-widgets/base",
      "model_module_version": "1.2.0",
      "model_name": "LayoutModel",
      "state": {
       "width": "600px"
      }
     },
     "5d50055d8c73460891c67453d55b1256": {
      "model_module": "@jupyter-widgets/base",
      "model_module_version": "1.2.0",
      "model_name": "LayoutModel",
      "state": {
       "width": "600px"
      }
     },
     "5d6900361a8b4c60b0865749c81b6530": {
      "model_module": "@jupyter-widgets/controls",
      "model_module_version": "1.5.0",
      "model_name": "DescriptionStyleModel",
      "state": {
       "description_width": ""
      }
     },
     "5d6a234eed3e4898970390a6b5886337": {
      "model_module": "@jupyter-widgets/base",
      "model_module_version": "1.2.0",
      "model_name": "LayoutModel",
      "state": {
       "justify_content": "center"
      }
     },
     "5d82c5fd2a2c4e9ca6d8b214570dd50a": {
      "model_module": "@jupyter-widgets/controls",
      "model_module_version": "1.5.0",
      "model_name": "ButtonModel",
      "state": {
       "description": "Korrekt?",
       "layout": "IPY_MODEL_70c3a0888447438e941995ae14f5778f",
       "style": "IPY_MODEL_da612aab579447f28e1e7a63fef1a1c4"
      }
     },
     "5d8affd309294313921ea5ef9b857af2": {
      "model_module": "@jupyter-widgets/base",
      "model_module_version": "1.2.0",
      "model_name": "LayoutModel",
      "state": {
       "width": "600px"
      }
     },
     "5db8f57f2e49435a94d317d9fa24245f": {
      "model_module": "@jupyter-widgets/base",
      "model_module_version": "1.2.0",
      "model_name": "LayoutModel",
      "state": {}
     },
     "5e01d17ecd26444faabd7b8914acff7e": {
      "model_module": "@jupyter-widgets/controls",
      "model_module_version": "1.5.0",
      "model_name": "ButtonModel",
      "state": {
       "description": "list",
       "layout": "IPY_MODEL_b25b9d9bc04749558476e0ab8a138107",
       "style": "IPY_MODEL_bb0be738181847998bdd085e9d32f909"
      }
     },
     "5e375c2462064475afc1b4a3d6534944": {
      "model_module": "@jupyter-widgets/base",
      "model_module_version": "1.2.0",
      "model_name": "LayoutModel",
      "state": {
       "width": "250px"
      }
     },
     "5e3fe2f992304b13864d552135fc7556": {
      "model_module": "@jupyter-widgets/base",
      "model_module_version": "1.2.0",
      "model_name": "LayoutModel",
      "state": {
       "width": "250px"
      }
     },
     "5e547c1a14e94bfea811381d983dea95": {
      "model_module": "@jupyter-widgets/controls",
      "model_module_version": "1.5.0",
      "model_name": "ButtonStyleModel",
      "state": {
       "button_color": "lightgreen"
      }
     },
     "5eabbe46eb944b75842af86c437feb5c": {
      "model_module": "@jupyter-widgets/base",
      "model_module_version": "1.2.0",
      "model_name": "LayoutModel",
      "state": {}
     },
     "5ebd08b9c9c64c2a88459fb061b97ad3": {
      "model_module": "@jupyter-widgets/base",
      "model_module_version": "1.2.0",
      "model_name": "LayoutModel",
      "state": {
       "width": "250px"
      }
     },
     "5ec6bc48aa074116a94bbc663d349105": {
      "model_module": "@jupyter-widgets/controls",
      "model_module_version": "1.5.0",
      "model_name": "DescriptionStyleModel",
      "state": {
       "description_width": ""
      }
     },
     "5ede819f8c084b3e890530d5fe9fc755": {
      "model_module": "@jupyter-widgets/base",
      "model_module_version": "1.2.0",
      "model_name": "LayoutModel",
      "state": {}
     },
     "5f2b1b29a1764a41aa3638a6aa175973": {
      "model_module": "@jupyter-widgets/controls",
      "model_module_version": "1.5.0",
      "model_name": "DescriptionStyleModel",
      "state": {
       "description_width": ""
      }
     },
     "5f76e623cf83449ea5aa97630a9f93c2": {
      "model_module": "@jupyter-widgets/base",
      "model_module_version": "1.2.0",
      "model_name": "LayoutModel",
      "state": {}
     },
     "5f796281480540f9b9527185c65b5722": {
      "model_module": "@jupyter-widgets/controls",
      "model_module_version": "1.5.0",
      "model_name": "HBoxModel",
      "state": {
       "children": [
        "IPY_MODEL_09ed2e6b8b8b47c1880569792f1c4258",
        "IPY_MODEL_b732b42e6a114c2da74ff8ca4645c801"
       ],
       "layout": "IPY_MODEL_b2b71935a938431086ee7cce90fe029f"
      }
     },
     "5fafc4ed3f58402e9e0c5747102a7445": {
      "model_module": "@jupyter-widgets/controls",
      "model_module_version": "1.5.0",
      "model_name": "DescriptionStyleModel",
      "state": {
       "description_width": ""
      }
     },
     "5fc310d9ad0e45ff841b85206784116d": {
      "model_module": "@jupyter-widgets/controls",
      "model_module_version": "1.5.0",
      "model_name": "DescriptionStyleModel",
      "state": {
       "description_width": "initial"
      }
     },
     "5fca56bdfe354605a505bfcef1d82246": {
      "model_module": "@jupyter-widgets/controls",
      "model_module_version": "1.5.0",
      "model_name": "VBoxModel",
      "state": {
       "children": [
        "IPY_MODEL_fc63f8b4eb3e417aa872f5b9553e0c61",
        "IPY_MODEL_99a6e356d9d24fc4b147fb60edf50464",
        "IPY_MODEL_417306475dad404693d0b32c5b781500"
       ],
       "layout": "IPY_MODEL_0740d3f76bfc4aae9e9b16d170c127a4"
      }
     },
     "5fd5afc3670e4e59b2b29eafe77fa567": {
      "model_module": "@jupyter-widgets/base",
      "model_module_version": "1.2.0",
      "model_name": "LayoutModel",
      "state": {
       "justify_content": "center"
      }
     },
     "5ff17c9bf8694e31a36d578a5c2dbb79": {
      "model_module": "@jupyter-widgets/controls",
      "model_module_version": "1.5.0",
      "model_name": "ButtonStyleModel",
      "state": {}
     },
     "60215c22c1214f41958a06723a7e3faf": {
      "model_module": "@jupyter-widgets/base",
      "model_module_version": "1.2.0",
      "model_name": "LayoutModel",
      "state": {
       "width": "600px"
      }
     },
     "604382715257430293205b630c6c081e": {
      "model_module": "@jupyter-widgets/controls",
      "model_module_version": "1.5.0",
      "model_name": "VBoxModel",
      "state": {
       "children": [
        "IPY_MODEL_f340b51734ff4f5a9af4da24aef7a779",
        "IPY_MODEL_763f59b66f5e4427a726babd9f8ec15d",
        "IPY_MODEL_ad8c5ea324744c9795867eb755a6ac64",
        "IPY_MODEL_4083900a6a2241c298183177e88d9ffe"
       ],
       "layout": "IPY_MODEL_dfae90b6e9d548c09e19468b176466cc"
      }
     },
     "606fa16f6ec84837bbbee67c06cbf77d": {
      "model_module": "@jupyter-widgets/base",
      "model_module_version": "1.2.0",
      "model_name": "LayoutModel",
      "state": {
       "justify_content": "center"
      }
     },
     "608428216b954e1aafcbecd7d5f490b6": {
      "model_module": "@jupyter-widgets/base",
      "model_module_version": "1.2.0",
      "model_name": "LayoutModel",
      "state": {
       "width": "250px"
      }
     },
     "60c2a44c9a6949ca80ed3613208c8723": {
      "model_module": "@jupyter-widgets/base",
      "model_module_version": "1.2.0",
      "model_name": "LayoutModel",
      "state": {
       "justify_content": "center"
      }
     },
     "60c374b674fd4fc4af7f3b469372ca5d": {
      "model_module": "@jupyter-widgets/base",
      "model_module_version": "1.2.0",
      "model_name": "LayoutModel",
      "state": {}
     },
     "60dd51600c65486185b97525ab583ed3": {
      "model_module": "@jupyter-widgets/controls",
      "model_module_version": "1.5.0",
      "model_name": "HTMLModel",
      "state": {
       "layout": "IPY_MODEL_6296f5a0c500443bb217bcd5b50b1855",
       "style": "IPY_MODEL_5ec6bc48aa074116a94bbc663d349105",
       "value": "<h4 style=\"font-size:14px;\">Wie läßt sich im NLTK ein äquivalenter Pfad definieren?</h4>"
      }
     },
     "60ea7dab91414089841a0d33a6f4023f": {
      "model_module": "@jupyter-widgets/controls",
      "model_module_version": "1.5.0",
      "model_name": "DescriptionStyleModel",
      "state": {
       "description_width": "initial"
      }
     },
     "60f51fcd357d48139c5d8cd737e06187": {
      "model_module": "@jupyter-widgets/controls",
      "model_module_version": "1.5.0",
      "model_name": "ButtonModel",
      "state": {
       "description": "Korrekt?",
       "layout": "IPY_MODEL_4906286071ff498cad08337652bbb5db",
       "style": "IPY_MODEL_1eab9beb3e99489ab30485d1a62059cc"
      }
     },
     "611446f7cdd64656b7c6bc9d7020c45c": {
      "model_module": "@jupyter-widgets/base",
      "model_module_version": "1.2.0",
      "model_name": "LayoutModel",
      "state": {}
     },
     "61250aafbe534020968377eca70ff6f1": {
      "model_module": "@jupyter-widgets/controls",
      "model_module_version": "1.5.0",
      "model_name": "VBoxModel",
      "state": {
       "children": [
        "IPY_MODEL_431c8bc5da6d49228c765ddcda44a4c7",
        "IPY_MODEL_392ea06c11864bb6baee569a3df70628",
        "IPY_MODEL_830f1328bdd44b02a0d8c5592d6a358b",
        "IPY_MODEL_e1762992c65f4f7fbba493364116b760"
       ],
       "layout": "IPY_MODEL_91eb6f2359614ee683c5dbaa13fbf6c4"
      }
     },
     "614f8233f2144fe9a60be89d275915ff": {
      "model_module": "@jupyter-widgets/controls",
      "model_module_version": "1.5.0",
      "model_name": "ButtonModel",
      "state": {
       "description": "Keine der anderen Möglichkeiten",
       "layout": "IPY_MODEL_22764e378c9549e581167e639297492f",
       "style": "IPY_MODEL_52ee5e9f412942deac29f9f5f77a0872"
      }
     },
     "61925dd980dc499fa120601d405c7b87": {
      "model_module": "@jupyter-widgets/base",
      "model_module_version": "1.2.0",
      "model_name": "LayoutModel",
      "state": {}
     },
     "61b274bcb682465489be478726f96460": {
      "model_module": "@jupyter-widgets/controls",
      "model_module_version": "1.5.0",
      "model_name": "HTMLModel",
      "state": {
       "layout": "IPY_MODEL_43e7a77b463741dcb9969bcb428f48a1",
       "style": "IPY_MODEL_303851a1be7e4efab9cec7a66333524d",
       "value": "<h4 style=\"font-size:14px;\">Welche kommunikativ-funktionalen Unterschiede bestehen?</h4>"
      }
     },
     "62032ee7de374cc69d7481bd06cba821": {
      "model_module": "@jupyter-widgets/controls",
      "model_module_version": "1.5.0",
      "model_name": "DescriptionStyleModel",
      "state": {
       "description_width": "initial"
      }
     },
     "6206ad7ed009417fb51f24371e7dce12": {
      "model_module": "@jupyter-widgets/controls",
      "model_module_version": "1.5.0",
      "model_name": "CheckboxModel",
      "state": {
       "description": "Es ist die allgemeinere Merkmalsstruktur.",
       "disabled": false,
       "layout": "IPY_MODEL_92250e25680f44978999fd998d5681ff",
       "style": "IPY_MODEL_b3cf852fca7c4a099e2c47a801869b76",
       "value": false
      }
     },
     "62182d5761c14a0c81a9bb3e780662c8": {
      "model_module": "@jupyter-widgets/controls",
      "model_module_version": "1.5.0",
      "model_name": "CheckboxModel",
      "state": {
       "description": "Variable: <- (1)",
       "disabled": false,
       "layout": "IPY_MODEL_42a134a9b3424ba6941fdf95932976c0",
       "style": "IPY_MODEL_b6aca69677e0426c951481ae956d70a7",
       "value": false
      }
     },
     "625c543db85f438eb8cd4affa3d3c93b": {
      "model_module": "@jupyter-widgets/controls",
      "model_module_version": "1.5.0",
      "model_name": "VBoxModel",
      "state": {
       "children": [
        "IPY_MODEL_af07deb28e8d467b85ef31345f1659b0",
        "IPY_MODEL_b028a12c10034efe98c1338ae5c92034",
        "IPY_MODEL_79044fe5ab994b348236e951ac58ef56",
        "IPY_MODEL_0a23042bf0f040fd95b642042664a7eb"
       ],
       "layout": "IPY_MODEL_c70c61fd99894486b9be485391d66b12"
      }
     },
     "626b9d9294db4f02a5251fcf788525de": {
      "model_module": "@jupyter-widgets/controls",
      "model_module_version": "1.5.0",
      "model_name": "HTMLModel",
      "state": {
       "layout": "IPY_MODEL_11add416423e4b8899e2b1041279b88e",
       "style": "IPY_MODEL_e7869c19e84148b984d8f1bd467aa510",
       "value": "<i>Wählen Sie die <ins>eine</ins> korrekte Antwort aus: </i>"
      }
     },
     "62702b08d3804b6e8a8c0028a1acd83b": {
      "model_module": "@jupyter-widgets/controls",
      "model_module_version": "1.5.0",
      "model_name": "DescriptionStyleModel",
      "state": {
       "description_width": "initial"
      }
     },
     "6296f5a0c500443bb217bcd5b50b1855": {
      "model_module": "@jupyter-widgets/base",
      "model_module_version": "1.2.0",
      "model_name": "LayoutModel",
      "state": {}
     },
     "62b97cfded7c4a38b62a98b58ad2296a": {
      "model_module": "@jupyter-widgets/base",
      "model_module_version": "1.2.0",
      "model_name": "LayoutModel",
      "state": {
       "justify_content": "center"
      }
     },
     "62ffd033d4c64e2f9ff8260a215cac69": {
      "model_module": "@jupyter-widgets/controls",
      "model_module_version": "1.5.0",
      "model_name": "CheckboxModel",
      "state": {
       "description": "FS0 = [CAT = N, GEN = FEM], FS1 = [CAT = DET, GEN = FEM]",
       "disabled": false,
       "layout": "IPY_MODEL_a4ff85a82cd64d2d9ca138be0e464d40",
       "style": "IPY_MODEL_8a704d7a23ba4cada81ec8e2ba5ae1d2",
       "value": true
      }
     },
     "63000934384f46e995c78325661403fe": {
      "model_module": "@jupyter-widgets/base",
      "model_module_version": "1.2.0",
      "model_name": "LayoutModel",
      "state": {
       "width": "150px"
      }
     },
     "6314e29b763b489dafa1169efebb5b49": {
      "model_module": "@jupyter-widgets/controls",
      "model_module_version": "1.5.0",
      "model_name": "HTMLModel",
      "state": {
       "layout": "IPY_MODEL_e4f523f88b394e5ca58b78dc92cb06b9",
       "style": "IPY_MODEL_00dad81babf94e06a045ab770669f1e8",
       "value": "<h4 style=\"font-size:14px;\">Wie wird die Deklination der Nominalphrase <i>altes Bier</i> auch bezeichnet?</h4>"
      }
     },
     "6369c34b15594789961f5045c4d3b0cb": {
      "model_module": "@jupyter-widgets/controls",
      "model_module_version": "1.5.0",
      "model_name": "HTMLModel",
      "state": {
       "layout": "IPY_MODEL_3e6eed81054840ec9d1233956f42aa8f",
       "style": "IPY_MODEL_c128c5181963456798e8b5bd3a780385",
       "value": "<h4 style=\"font-size:14px;\">Welche kommunikativ-funktionalen Unterschiede bestehen?</h4>"
      }
     },
     "637e5af9aa344d7fbfed0e3b56e1af3c": {
      "model_module": "@jupyter-widgets/controls",
      "model_module_version": "1.5.0",
      "model_name": "CheckboxModel",
      "state": {
       "description": "Das Fehlen des Artikels hat keine Auswirkungen auf das Adjektiv.",
       "disabled": false,
       "layout": "IPY_MODEL_13ab264f4d45496aba7b330f2f534ccf",
       "style": "IPY_MODEL_a302cc70e1cd43d7a5a542eedb8d3ab5",
       "value": false
      }
     },
     "63acd3940040473097b6ce511b58a082": {
      "model_module": "@jupyter-widgets/base",
      "model_module_version": "1.2.0",
      "model_name": "LayoutModel",
      "state": {
       "width": "600px"
      }
     },
     "63cfd5288deb41898f162c950e6fe5c0": {
      "model_module": "@jupyter-widgets/controls",
      "model_module_version": "1.5.0",
      "model_name": "DescriptionStyleModel",
      "state": {
       "description_width": ""
      }
     },
     "63d9f4c9aa4b45609cb30fd631782bdd": {
      "model_module": "@jupyter-widgets/base",
      "model_module_version": "1.2.0",
      "model_name": "LayoutModel",
      "state": {
       "width": "250px"
      }
     },
     "63ee359db0004911bf6bb403eabbd403": {
      "model_module": "@jupyter-widgets/controls",
      "model_module_version": "1.5.0",
      "model_name": "ButtonStyleModel",
      "state": {}
     },
     "64012e6ad4404776a346666564ebd47a": {
      "model_module": "@jupyter-widgets/base",
      "model_module_version": "1.2.0",
      "model_name": "LayoutModel",
      "state": {
       "width": "600px"
      }
     },
     "6403d5223e294981aeed208ca1645fc2": {
      "model_module": "@jupyter-widgets/controls",
      "model_module_version": "1.5.0",
      "model_name": "HBoxModel",
      "state": {
       "children": [
        "IPY_MODEL_7ead2f34408d44adb82dec69e138ea97"
       ],
       "layout": "IPY_MODEL_1a25436f3d93432b824f580976970dca"
      }
     },
     "6430bb2bef514625bda7cbad79c23753": {
      "model_module": "@jupyter-widgets/controls",
      "model_module_version": "1.5.0",
      "model_name": "DescriptionStyleModel",
      "state": {
       "description_width": "initial"
      }
     },
     "64830a564d9c456aa9c0705fcf833902": {
      "model_module": "@jupyter-widgets/controls",
      "model_module_version": "1.5.0",
      "model_name": "ButtonModel",
      "state": {
       "description": "Korrekt?",
       "layout": "IPY_MODEL_4e9abe65c325426891a3a365374f6dcd",
       "style": "IPY_MODEL_da0056fdf4024f9a8b4f07e361e83bfc"
      }
     },
     "64afcddf9c324dccad638d60243c9383": {
      "model_module": "@jupyter-widgets/controls",
      "model_module_version": "1.5.0",
      "model_name": "HTMLModel",
      "state": {
       "layout": "IPY_MODEL_1ce91d7d7db04bd5b0d685e31c0f1353",
       "style": "IPY_MODEL_791668ea552b48b7839138608fa09aee",
       "value": "<h4 style=\"font-size:14px;\">Beantworten Sie die beiden obigen Fragen.</h4>"
      }
     },
     "64b44ac0922f45aba9b4aa8e353d6079": {
      "model_module": "@jupyter-widgets/base",
      "model_module_version": "1.2.0",
      "model_name": "LayoutModel",
      "state": {}
     },
     "64b668d660134341a0762665cab27038": {
      "model_module": "@jupyter-widgets/base",
      "model_module_version": "1.2.0",
      "model_name": "LayoutModel",
      "state": {
       "width": "150px"
      }
     },
     "64ba5bfbf05b4febab7ac223dd4d7cda": {
      "model_module": "@jupyter-widgets/controls",
      "model_module_version": "1.5.0",
      "model_name": "VBoxModel",
      "state": {
       "children": [
        "IPY_MODEL_1a47d41f79f9481492429cb40dfdb000",
        "IPY_MODEL_b97463cefd3f49e9b601527572c0b48e",
        "IPY_MODEL_479b016447be41ff81492fe57bdea817",
        "IPY_MODEL_0db61f58621345e69bb730b693416714"
       ],
       "layout": "IPY_MODEL_a7b63e4567b9430381776cfeca5a227e"
      }
     },
     "64c2b57bcccd4ed6ad42f2efa2e2b79a": {
      "model_module": "@jupyter-widgets/controls",
      "model_module_version": "1.5.0",
      "model_name": "HBoxModel",
      "state": {
       "children": [
        "IPY_MODEL_dae6127b2cbc4b8b86b03ca4014e30e5",
        "IPY_MODEL_a3936eccbdda4c529c680776c3408269"
       ],
       "layout": "IPY_MODEL_3b18133be8f447cdbe2a6d6a44691bbf"
      }
     },
     "64dd04bf15dc42c3b3616ece5e91bc27": {
      "model_module": "@jupyter-widgets/controls",
      "model_module_version": "1.5.0",
      "model_name": "CheckboxModel",
      "state": {
       "description": "Keine der Alternativen",
       "disabled": false,
       "layout": "IPY_MODEL_f8c4f4c912024e79a80e2a66153cb1b4",
       "style": "IPY_MODEL_45b814b88af94eb9808737206026f1a5",
       "value": false
      }
     },
     "64f19473ea8742178c2f7348b946dcf1": {
      "model_module": "@jupyter-widgets/controls",
      "model_module_version": "1.5.0",
      "model_name": "DescriptionStyleModel",
      "state": {
       "description_width": ""
      }
     },
     "64f3716a0c0d43e3b39d39876d858a4d": {
      "model_module": "@jupyter-widgets/controls",
      "model_module_version": "1.5.0",
      "model_name": "CheckboxModel",
      "state": {
       "description": "Perspektivierung",
       "disabled": false,
       "layout": "IPY_MODEL_786a66746a784ccda2c72e414e394f20",
       "style": "IPY_MODEL_95307ca130454aac8f241d78fad84a32",
       "value": false
      }
     },
     "65048191c174405b9fda4616f6bfa00b": {
      "model_module": "@jupyter-widgets/controls",
      "model_module_version": "1.5.0",
      "model_name": "ButtonStyleModel",
      "state": {
       "button_color": "lightgreen"
      }
     },
     "65108e2a9b384b09ae2a397e3e9e3098": {
      "model_module": "@jupyter-widgets/base",
      "model_module_version": "1.2.0",
      "model_name": "LayoutModel",
      "state": {
       "width": "600px"
      }
     },
     "65744f0623254601a62caaf30c2a48a3": {
      "model_module": "@jupyter-widgets/base",
      "model_module_version": "1.2.0",
      "model_name": "LayoutModel",
      "state": {
       "justify_content": "center"
      }
     },
     "657b4c54894946e4a20b89f29e17b049": {
      "model_module": "@jupyter-widgets/base",
      "model_module_version": "1.2.0",
      "model_name": "LayoutModel",
      "state": {}
     },
     "65ce2417c4034f31b7ef2584414996fd": {
      "model_module": "@jupyter-widgets/base",
      "model_module_version": "1.2.0",
      "model_name": "LayoutModel",
      "state": {
       "width": "600px"
      }
     },
     "65d56be3887b4d43a97fb0ed0dd06695": {
      "model_module": "@jupyter-widgets/controls",
      "model_module_version": "1.5.0",
      "model_name": "DescriptionStyleModel",
      "state": {
       "description_width": "initial"
      }
     },
     "65e68ea1d8ff48b7ad9bd9d60dde0dc4": {
      "model_module": "@jupyter-widgets/base",
      "model_module_version": "1.2.0",
      "model_name": "LayoutModel",
      "state": {
       "width": "600px"
      }
     },
     "660c7e839dea4a8f84deb1f90ac35400": {
      "model_module": "@jupyter-widgets/base",
      "model_module_version": "1.2.0",
      "model_name": "LayoutModel",
      "state": {}
     },
     "660cd054dcc54a97afc11a089a99c7b3": {
      "model_module": "@jupyter-widgets/controls",
      "model_module_version": "1.5.0",
      "model_name": "DescriptionStyleModel",
      "state": {
       "description_width": ""
      }
     },
     "665173bb6c1841eab1148167ced38503": {
      "model_module": "@jupyter-widgets/controls",
      "model_module_version": "1.5.0",
      "model_name": "ButtonModel",
      "state": {
       "description": "Korrekt?",
       "layout": "IPY_MODEL_1545a8628a634bcda4036dc53f5f22e1",
       "style": "IPY_MODEL_5d2cca782d51411d9d0759af24310674"
      }
     },
     "66c7c3de02f4452ebc58c4d5de1b0171": {
      "model_module": "@jupyter-widgets/base",
      "model_module_version": "1.2.0",
      "model_name": "LayoutModel",
      "state": {
       "width": "600px"
      }
     },
     "66cae10cade8496c86e30f36de3af413": {
      "model_module": "@jupyter-widgets/controls",
      "model_module_version": "1.5.0",
      "model_name": "DescriptionStyleModel",
      "state": {
       "description_width": ""
      }
     },
     "66db379e42cd43b59e1a991dc066a580": {
      "model_module": "@jupyter-widgets/controls",
      "model_module_version": "1.5.0",
      "model_name": "HTMLModel",
      "state": {
       "layout": "IPY_MODEL_cd857c1664b442d4a50017b27343fa5b",
       "style": "IPY_MODEL_9dd57fd7509242f7a25f70f462494cb2",
       "value": "<h4 style=\"font-size:14px;\">Wie werden Features in formalen Grammatiken verwendet?</h4>"
      }
     },
     "66ea41da45a245eeb15ffc29397dd8c4": {
      "model_module": "@jupyter-widgets/controls",
      "model_module_version": "1.5.0",
      "model_name": "ButtonModel",
      "state": {
       "description": "Benefaktiv",
       "layout": "IPY_MODEL_9b1993e8ca674f47bd538edcd4adc544",
       "style": "IPY_MODEL_e6f58ac86e22499a891689acdfb3ae76"
      }
     },
     "674c2c83d6744b82a5123f8e722f6271": {
      "model_module": "@jupyter-widgets/base",
      "model_module_version": "1.2.0",
      "model_name": "LayoutModel",
      "state": {
       "justify_content": "center"
      }
     },
     "676b0dfcf0f04fdfb34dad8ecb04acdf": {
      "model_module": "@jupyter-widgets/controls",
      "model_module_version": "1.5.0",
      "model_name": "DescriptionStyleModel",
      "state": {
       "description_width": ""
      }
     },
     "677d876036144fbe93508f4e7f8b8ffd": {
      "model_module": "@jupyter-widgets/controls",
      "model_module_version": "1.5.0",
      "model_name": "DescriptionStyleModel",
      "state": {
       "description_width": "initial"
      }
     },
     "67928c8d73b94924aa3303b9cfdca233": {
      "model_module": "@jupyter-widgets/base",
      "model_module_version": "1.2.0",
      "model_name": "LayoutModel",
      "state": {
       "width": "250px"
      }
     },
     "679999f4d51c43628533eb96288aad11": {
      "model_module": "@jupyter-widgets/controls",
      "model_module_version": "1.5.0",
      "model_name": "HTMLModel",
      "state": {
       "layout": "IPY_MODEL_6ef13f29d87a44e7a8cf3927e3c34a27",
       "style": "IPY_MODEL_2a97f847a8e54428af4345a73913ca82",
       "value": "<i>Markieren Sie <ins>alle</ins> passenden Antworten: </i>"
      }
     },
     "679b6a2f615047248044edd601f638b7": {
      "model_module": "@jupyter-widgets/controls",
      "model_module_version": "1.5.0",
      "model_name": "DescriptionStyleModel",
      "state": {
       "description_width": "initial"
      }
     },
     "679c8fbc7c6a45b0aa0856e05a2ca50d": {
      "model_module": "@jupyter-widgets/controls",
      "model_module_version": "1.5.0",
      "model_name": "ButtonModel",
      "state": {
       "description": "unbestimmten",
       "layout": "IPY_MODEL_1f18154c6e744b56a25c9beac54380f8",
       "style": "IPY_MODEL_83d9e781c9b1491d8a6e0ecb7e92e301"
      }
     },
     "67a189a4236e45798f15ad09846c3aaa": {
      "model_module": "@jupyter-widgets/controls",
      "model_module_version": "1.5.0",
      "model_name": "DescriptionStyleModel",
      "state": {
       "description_width": "initial"
      }
     },
     "6800cba84a864f05a5afdfd7b687d720": {
      "model_module": "@jupyter-widgets/controls",
      "model_module_version": "1.5.0",
      "model_name": "DescriptionStyleModel",
      "state": {
       "description_width": "initial"
      }
     },
     "68161a91d43f4f1dbe9fbe9945da6690": {
      "model_module": "@jupyter-widgets/controls",
      "model_module_version": "1.5.0",
      "model_name": "DescriptionStyleModel",
      "state": {
       "description_width": ""
      }
     },
     "685a29e7d00a417dbb4f103182b70874": {
      "model_module": "@jupyter-widgets/base",
      "model_module_version": "1.2.0",
      "model_name": "LayoutModel",
      "state": {}
     },
     "687e7b93eb234bec82ebf488bc0b0255": {
      "model_module": "@jupyter-widgets/controls",
      "model_module_version": "1.5.0",
      "model_name": "ButtonStyleModel",
      "state": {}
     },
     "688d71f4a50a4ec692e1f31dde9a3ecc": {
      "model_module": "@jupyter-widgets/controls",
      "model_module_version": "1.5.0",
      "model_name": "CheckboxModel",
      "state": {
       "description": "Die Endungen von Adjektiv und Artikel stimmen überein.",
       "disabled": false,
       "layout": "IPY_MODEL_d2c412b9e8394b03bcc5fc9d787d63c5",
       "style": "IPY_MODEL_0f66057151ed4406aaf6270e39099a8a",
       "value": false
      }
     },
     "68b376573b744a45ade61beac8777797": {
      "model_module": "@jupyter-widgets/controls",
      "model_module_version": "1.5.0",
      "model_name": "VBoxModel",
      "state": {
       "children": [
        "IPY_MODEL_4e41a4ee3d8c49c39bd2f957b8672d61",
        "IPY_MODEL_040964cf20e34462ae6bfdab408e9f6e",
        "IPY_MODEL_cf28e3670d9544d9bb386c997f754387",
        "IPY_MODEL_ab92849b470945a69e16f00736a59d6a",
        "IPY_MODEL_8fac5b2e133c4befacbfeaf7bc3035e7"
       ],
       "layout": "IPY_MODEL_90abc7b1de684680bd57ea5ae26ecba3"
      }
     },
     "68b976aac93b40719662571c70119342": {
      "model_module": "@jupyter-widgets/controls",
      "model_module_version": "1.5.0",
      "model_name": "ButtonModel",
      "state": {
       "description": "Korrekt?",
       "layout": "IPY_MODEL_23cbaa8d80364466be5683ad7c0932f8",
       "style": "IPY_MODEL_459d6be64e074777a8b7b7ef45bf2d95"
      }
     },
     "68fa10edb8c34dc8ab782a31065aa798": {
      "model_module": "@jupyter-widgets/controls",
      "model_module_version": "1.5.0",
      "model_name": "CheckboxModel",
      "state": {
       "description": "Perspektivierung",
       "disabled": false,
       "layout": "IPY_MODEL_1919777965f94ca0a03ee3c6730eca4c",
       "style": "IPY_MODEL_7b28fb56a8204da597c95050b12787db",
       "value": false
      }
     },
     "69092b2fc08b493492ccd0fbd4515dc1": {
      "model_module": "@jupyter-widgets/base",
      "model_module_version": "1.2.0",
      "model_name": "LayoutModel",
      "state": {
       "width": "250px"
      }
     },
     "692e9479ab524d21bc83d96412d7483d": {
      "model_module": "@jupyter-widgets/base",
      "model_module_version": "1.2.0",
      "model_name": "LayoutModel",
      "state": {
       "width": "250px"
      }
     },
     "698253f5ab7640e881ba289ae44ac43c": {
      "model_module": "@jupyter-widgets/base",
      "model_module_version": "1.2.0",
      "model_name": "LayoutModel",
      "state": {}
     },
     "69bfd8f2c8384b43b42ffeabc9097200": {
      "model_module": "@jupyter-widgets/base",
      "model_module_version": "1.2.0",
      "model_name": "LayoutModel",
      "state": {}
     },
     "6a247c4c932046c9b267f72db98ab179": {
      "model_module": "@jupyter-widgets/controls",
      "model_module_version": "1.5.0",
      "model_name": "DescriptionStyleModel",
      "state": {
       "description_width": "initial"
      }
     },
     "6a394e8d6ae14a439abd76f259c16c0c": {
      "model_module": "@jupyter-widgets/controls",
      "model_module_version": "1.5.0",
      "model_name": "ButtonModel",
      "state": {
       "description": "Korrekt?",
       "layout": "IPY_MODEL_301b9838f0bc4397ad88885e515b7c04",
       "style": "IPY_MODEL_58ec0120dc274181959d7bbc31efe372"
      }
     },
     "6a5efb9e05154cf9b928763dcb87dab6": {
      "model_module": "@jupyter-widgets/base",
      "model_module_version": "1.2.0",
      "model_name": "LayoutModel",
      "state": {}
     },
     "6a75cae12aea40ed80435ff304667f52": {
      "model_module": "@jupyter-widgets/base",
      "model_module_version": "1.2.0",
      "model_name": "LayoutModel",
      "state": {
       "width": "600px"
      }
     },
     "6a7d666b0f1f41c0b707930715024a5d": {
      "model_module": "@jupyter-widgets/base",
      "model_module_version": "1.2.0",
      "model_name": "LayoutModel",
      "state": {}
     },
     "6a8a3ac21275404d8e4584473c36b548": {
      "model_module": "@jupyter-widgets/base",
      "model_module_version": "1.2.0",
      "model_name": "LayoutModel",
      "state": {}
     },
     "6ab225da856647ef8d3a2fc2a92481e1": {
      "model_module": "@jupyter-widgets/controls",
      "model_module_version": "1.5.0",
      "model_name": "ButtonModel",
      "state": {
       "description": "Korrekt?",
       "layout": "IPY_MODEL_6ccdaeec00ca42d1a2faf72ad8dd3a0a",
       "style": "IPY_MODEL_45be16a61f4b402f92ab8fd150fa652e"
      }
     },
     "6ae475da75f84b2ba7f960fce9b9f030": {
      "model_module": "@jupyter-widgets/base",
      "model_module_version": "1.2.0",
      "model_name": "LayoutModel",
      "state": {}
     },
     "6aeee315aa8246f7ab91a3e6d70cece8": {
      "model_module": "@jupyter-widgets/controls",
      "model_module_version": "1.5.0",
      "model_name": "DescriptionStyleModel",
      "state": {
       "description_width": "initial"
      }
     },
     "6af363b688ec468e82398529944257de": {
      "model_module": "@jupyter-widgets/controls",
      "model_module_version": "1.5.0",
      "model_name": "HTMLModel",
      "state": {
       "layout": "IPY_MODEL_daabb97d128a4e9081ba9a2b3902406f",
       "style": "IPY_MODEL_2b87804f58fe4551b03d6f9665b5d52a",
       "value": "<h4 style=\"font-size:14px;\">Wie werden Features in formalen Grammatiken verwendet?</h4>"
      }
     },
     "6b146226c2694416b8a85db1cdb0f8e2": {
      "model_module": "@jupyter-widgets/base",
      "model_module_version": "1.2.0",
      "model_name": "LayoutModel",
      "state": {
       "width": "250px"
      }
     },
     "6b18ac658bab4156b4337b5bdc469498": {
      "model_module": "@jupyter-widgets/base",
      "model_module_version": "1.2.0",
      "model_name": "LayoutModel",
      "state": {
       "width": "600px"
      }
     },
     "6b210be95e62436c8605eb13798809e1": {
      "model_module": "@jupyter-widgets/controls",
      "model_module_version": "1.5.0",
      "model_name": "ButtonStyleModel",
      "state": {}
     },
     "6b346608dc304e92871cc236568e9630": {
      "model_module": "@jupyter-widgets/controls",
      "model_module_version": "1.5.0",
      "model_name": "DescriptionStyleModel",
      "state": {
       "description_width": ""
      }
     },
     "6b3b0bddd6f1402d8281e9df46198e29": {
      "model_module": "@jupyter-widgets/controls",
      "model_module_version": "1.5.0",
      "model_name": "CheckboxModel",
      "state": {
       "description": "Es ist die spezifischere Merkmalsstruktur.",
       "disabled": false,
       "layout": "IPY_MODEL_7d5ddae21bb34a98a353b17ec9b669f1",
       "style": "IPY_MODEL_62032ee7de374cc69d7481bd06cba821",
       "value": true
      }
     },
     "6b43e7d9298c40a19654935a111355cd": {
      "model_module": "@jupyter-widgets/controls",
      "model_module_version": "1.5.0",
      "model_name": "HTMLModel",
      "state": {
       "layout": "IPY_MODEL_341bc9f88a7442d38ed574937015b251",
       "style": "IPY_MODEL_148be133f7ca4db8a5d9658ee64479df",
       "value": "<h4 style=\"font-size:14px;\">wird das Adjektiv hier</h4>"
      }
     },
     "6b5540cffba94964904641c40e6ed5d7": {
      "model_module": "@jupyter-widgets/controls",
      "model_module_version": "1.5.0",
      "model_name": "CheckboxModel",
      "state": {
       "description": "Ausrichtung der Empathie",
       "disabled": false,
       "layout": "IPY_MODEL_51c8e9aa18604a97aa01593113a35043",
       "style": "IPY_MODEL_23e31f8225f44a698e0c52b7e0477e1f",
       "value": false
      }
     },
     "6b5f3c8240d447f2ac10c6369037b20c": {
      "model_module": "@jupyter-widgets/base",
      "model_module_version": "1.2.0",
      "model_name": "LayoutModel",
      "state": {
       "width": "600px"
      }
     },
     "6b751807b2de449999f72445e117ffa5": {
      "model_module": "@jupyter-widgets/controls",
      "model_module_version": "1.5.0",
      "model_name": "HBoxModel",
      "state": {
       "children": [
        "IPY_MODEL_55861cb45b944d28b7ff97945b514bec"
       ],
       "layout": "IPY_MODEL_86ad6a0c0bb6448ea0935508138f3f0f"
      }
     },
     "6bb1f76b4d64494391626793026a0aa5": {
      "model_module": "@jupyter-widgets/base",
      "model_module_version": "1.2.0",
      "model_name": "LayoutModel",
      "state": {
       "width": "600px"
      }
     },
     "6bba65fdf41649b49715394f611ad543": {
      "model_module": "@jupyter-widgets/controls",
      "model_module_version": "1.5.0",
      "model_name": "DescriptionStyleModel",
      "state": {
       "description_width": ""
      }
     },
     "6bd83a6581a9459f838a79ef77b6f017": {
      "model_module": "@jupyter-widgets/base",
      "model_module_version": "1.2.0",
      "model_name": "LayoutModel",
      "state": {
       "width": "600px"
      }
     },
     "6bda9137a55d4471a322135bc9cd6c87": {
      "model_module": "@jupyter-widgets/base",
      "model_module_version": "1.2.0",
      "model_name": "LayoutModel",
      "state": {}
     },
     "6be157bc2fbf454ea012d776127a978a": {
      "model_module": "@jupyter-widgets/base",
      "model_module_version": "1.2.0",
      "model_name": "LayoutModel",
      "state": {
       "width": "600px"
      }
     },
     "6c012f81c6754d9db3f68180f3dacc1b": {
      "model_module": "@jupyter-widgets/controls",
      "model_module_version": "1.5.0",
      "model_name": "CheckboxModel",
      "state": {
       "description": "Ausrichtung der Empathie",
       "disabled": false,
       "layout": "IPY_MODEL_0f4e71879c4f4a26814be810713376b3",
       "style": "IPY_MODEL_2e1b9583613a42929d15e0e515e07ed0",
       "value": true
      }
     },
     "6c3af86456214dffa96ef8defed418ad": {
      "model_module": "@jupyter-widgets/base",
      "model_module_version": "1.2.0",
      "model_name": "LayoutModel",
      "state": {
       "width": "600px"
      }
     },
     "6c3e1336c3244b5eab1816a1c1e1f961": {
      "model_module": "@jupyter-widgets/controls",
      "model_module_version": "1.5.0",
      "model_name": "DescriptionStyleModel",
      "state": {
       "description_width": ""
      }
     },
     "6ca70c7522fb40cb8bab6887b2799140": {
      "model_module": "@jupyter-widgets/controls",
      "model_module_version": "1.5.0",
      "model_name": "CheckboxModel",
      "state": {
       "description": "Passivierung (Objekt-Promotion)",
       "disabled": false,
       "layout": "IPY_MODEL_57c318be6e7a4f49a1c8d4202d956270",
       "style": "IPY_MODEL_eead23a3e6484b62b47103cb26c95df2",
       "value": false
      }
     },
     "6ca932aea38a4642a90d7c6abe0987f8": {
      "model_module": "@jupyter-widgets/controls",
      "model_module_version": "1.5.0",
      "model_name": "HTMLModel",
      "state": {
       "layout": "IPY_MODEL_06ed38574c2043b98d07748e45a8d382",
       "style": "IPY_MODEL_b32e4339438d4a5e8ce12f357a8a5ede",
       "value": "<h4 style=\"font-size:14px;\">Beantworten Sie die beiden obigen Fragen.</h4>"
      }
     },
     "6cb669340ebb45ddad7b414d0f03a2b6": {
      "model_module": "@jupyter-widgets/controls",
      "model_module_version": "1.5.0",
      "model_name": "DescriptionStyleModel",
      "state": {
       "description_width": "initial"
      }
     },
     "6cc2f2a696e74c05a7b59162da6fb138": {
      "model_module": "@jupyter-widgets/controls",
      "model_module_version": "1.5.0",
      "model_name": "HTMLModel",
      "state": {
       "layout": "IPY_MODEL_7bb3ef0e6e294de2bd8ca7526a49cee2",
       "style": "IPY_MODEL_cf950f4662d74796bd5c52db18f63305",
       "value": "<h4 style=\"font-size:14px;\">Wie werden Features beim POS-Tagging verwendet?</h4>"
      }
     },
     "6ccdaeec00ca42d1a2faf72ad8dd3a0a": {
      "model_module": "@jupyter-widgets/base",
      "model_module_version": "1.2.0",
      "model_name": "LayoutModel",
      "state": {
       "width": "250px"
      }
     },
     "6cce65e793074d958757782ffdf96e4f": {
      "model_module": "@jupyter-widgets/base",
      "model_module_version": "1.2.0",
      "model_name": "LayoutModel",
      "state": {}
     },
     "6cf6cb00ff17457493606e49cfda6f88": {
      "model_module": "@jupyter-widgets/controls",
      "model_module_version": "1.5.0",
      "model_name": "DescriptionStyleModel",
      "state": {
       "description_width": ""
      }
     },
     "6d349453836e41b191709444fccfdb00": {
      "model_module": "@jupyter-widgets/controls",
      "model_module_version": "1.5.0",
      "model_name": "DescriptionStyleModel",
      "state": {
       "description_width": ""
      }
     },
     "6d3aa809f45546699d413952a59ec4f6": {
      "model_module": "@jupyter-widgets/controls",
      "model_module_version": "1.5.0",
      "model_name": "DescriptionStyleModel",
      "state": {
       "description_width": ""
      }
     },
     "6d414ad1749d44f680ffdc2d5363ee3a": {
      "model_module": "@jupyter-widgets/base",
      "model_module_version": "1.2.0",
      "model_name": "LayoutModel",
      "state": {
       "justify_content": "center"
      }
     },
     "6d4dcb84032f498881ed04af709e4ff8": {
      "model_module": "@jupyter-widgets/controls",
      "model_module_version": "1.5.0",
      "model_name": "ButtonModel",
      "state": {
       "description": "Lokativ",
       "layout": "IPY_MODEL_063b66704fad4486a28cd8dcc177e8b9",
       "style": "IPY_MODEL_585240ab7af74b148aca841c8d7c549b"
      }
     },
     "6d5f7055125f4afb9e89d7333d5f0905": {
      "model_module": "@jupyter-widgets/controls",
      "model_module_version": "1.5.0",
      "model_name": "DescriptionStyleModel",
      "state": {
       "description_width": "initial"
      }
     },
     "6d7b969b1ece40f8afd5bf18a8825678": {
      "model_module": "@jupyter-widgets/base",
      "model_module_version": "1.2.0",
      "model_name": "LayoutModel",
      "state": {
       "width": "600px"
      }
     },
     "6d862cc1112049b8bdeef1e345406ee9": {
      "model_module": "@jupyter-widgets/base",
      "model_module_version": "1.2.0",
      "model_name": "LayoutModel",
      "state": {
       "justify_content": "center"
      }
     },
     "6e1efbcad7d8487186133fe7758bed0a": {
      "model_module": "@jupyter-widgets/base",
      "model_module_version": "1.2.0",
      "model_name": "LayoutModel",
      "state": {
       "justify_content": "center"
      }
     },
     "6e4622c3f0874eb1b68cab18bd60c26a": {
      "model_module": "@jupyter-widgets/controls",
      "model_module_version": "1.5.0",
      "model_name": "DescriptionStyleModel",
      "state": {
       "description_width": ""
      }
     },
     "6e6c03e9a5be47738eced095f390e7b0": {
      "model_module": "@jupyter-widgets/controls",
      "model_module_version": "1.5.0",
      "model_name": "ButtonModel",
      "state": {
       "description": "bestimmten",
       "layout": "IPY_MODEL_de5211e54fab4bb4853a0552393e33f7",
       "style": "IPY_MODEL_7f7b4c51c0774a54bf2551c38e8ae7db"
      }
     },
     "6e6fbf20189a40809a7c23b9a7a462bb": {
      "model_module": "@jupyter-widgets/base",
      "model_module_version": "1.2.0",
      "model_name": "LayoutModel",
      "state": {}
     },
     "6e721077cec948d3a7411dc077b85580": {
      "model_module": "@jupyter-widgets/controls",
      "model_module_version": "1.5.0",
      "model_name": "DescriptionStyleModel",
      "state": {
       "description_width": ""
      }
     },
     "6eb11dc6fe4349058d67efeec1a10d4f": {
      "model_module": "@jupyter-widgets/controls",
      "model_module_version": "1.5.0",
      "model_name": "VBoxModel",
      "state": {
       "children": [
        "IPY_MODEL_dcd5d6c83ec340a28f2a1c910f8f5c87",
        "IPY_MODEL_d154343317004213ba95d3d7e0d7fccb",
        "IPY_MODEL_2a96591ccb7c47df860fc9f611085c24",
        "IPY_MODEL_aeb042b9b8434697b9582a7801718878"
       ],
       "layout": "IPY_MODEL_2fa0dd740981481184a72dcf2da6642d"
      }
     },
     "6ed0cad5b9b8476c9f4d43dd6b8c72b2": {
      "model_module": "@jupyter-widgets/base",
      "model_module_version": "1.2.0",
      "model_name": "LayoutModel",
      "state": {
       "width": "600px"
      }
     },
     "6ef13f29d87a44e7a8cf3927e3c34a27": {
      "model_module": "@jupyter-widgets/base",
      "model_module_version": "1.2.0",
      "model_name": "LayoutModel",
      "state": {
       "justify_content": "center"
      }
     },
     "6f08c1f57f8744a6aec09f5e800ae347": {
      "model_module": "@jupyter-widgets/base",
      "model_module_version": "1.2.0",
      "model_name": "LayoutModel",
      "state": {
       "justify_content": "center"
      }
     },
     "6f17e4ee07d349a19c5b02f087c45d28": {
      "model_module": "@jupyter-widgets/controls",
      "model_module_version": "1.5.0",
      "model_name": "ButtonStyleModel",
      "state": {}
     },
     "6f23b0fcbc3b463292425685a4ef9404": {
      "model_module": "@jupyter-widgets/controls",
      "model_module_version": "1.5.0",
      "model_name": "DescriptionStyleModel",
      "state": {
       "description_width": "initial"
      }
     },
     "6f2f01d9546f4e74a4da219083d52491": {
      "model_module": "@jupyter-widgets/controls",
      "model_module_version": "1.5.0",
      "model_name": "ButtonModel",
      "state": {
       "description": "Keine der anderen Möglichkeiten",
       "layout": "IPY_MODEL_77a1c99fc7324e93a7d5e922808f3b94",
       "style": "IPY_MODEL_5aab5440d38e49e19b5febeeb1bec33b"
      }
     },
     "6f51cb049aeb4c33a284d53806606c65": {
      "model_module": "@jupyter-widgets/controls",
      "model_module_version": "1.5.0",
      "model_name": "VBoxModel",
      "state": {
       "children": [
        "IPY_MODEL_a580fb389515476f8f8ea35431a973c8",
        "IPY_MODEL_1825b7b166e94b94a692f17061b20e76",
        "IPY_MODEL_2f8c832f718d471780d450dbc3f012dc"
       ],
       "layout": "IPY_MODEL_6e6fbf20189a40809a7c23b9a7a462bb"
      }
     },
     "6f7f4b437284477ca67184f3d23adb9a": {
      "model_module": "@jupyter-widgets/controls",
      "model_module_version": "1.5.0",
      "model_name": "HTMLModel",
      "state": {
       "layout": "IPY_MODEL_0054df1386c143ddb347c1e5a191a978",
       "style": "IPY_MODEL_bca54ef8a4944783bba339d0ad6c24ea",
       "value": "<i>Wählen Sie die <ins>eine</ins> korrekte Antwort aus: </i>"
      }
     },
     "6fde0b33481a474e8f772335f73744d4": {
      "model_module": "@jupyter-widgets/controls",
      "model_module_version": "1.5.0",
      "model_name": "ButtonModel",
      "state": {
       "description": "starke Deklination",
       "layout": "IPY_MODEL_c4f47361bab7423fab5b87b211154f1b",
       "style": "IPY_MODEL_cfd37d06c2994fceb62cfceaafc53bde"
      }
     },
     "701b364b5e954da69645c834d63184c7": {
      "model_module": "@jupyter-widgets/controls",
      "model_module_version": "1.5.0",
      "model_name": "DropdownModel",
      "state": {
       "_options_labels": [
        "Genusmerkmale",
        "Kasusmerkmale",
        " "
       ],
       "index": 0,
       "layout": "IPY_MODEL_1db91e2c92cb497791f747e16f579ad2",
       "style": "IPY_MODEL_4777c088652441a0af097f8ee7d1a230"
      }
     },
     "702cddc922c14ee1acd54a2a1449b63e": {
      "model_module": "@jupyter-widgets/base",
      "model_module_version": "1.2.0",
      "model_name": "LayoutModel",
      "state": {
       "width": "600px"
      }
     },
     "704cfdfb5ab345ac86638a0afd967688": {
      "model_module": "@jupyter-widgets/controls",
      "model_module_version": "1.5.0",
      "model_name": "HTMLModel",
      "state": {
       "layout": "IPY_MODEL_938c87fbdf4b433497df09a4cfd0c166",
       "style": "IPY_MODEL_2cdf968166b8411cae35f4318347b349",
       "value": "<h4 style=\"font-size:14px;\">Beantworten Sie die beiden obigen Fragen.</h4>"
      }
     },
     "706a6eef2b56491cb0881cbe640d4320": {
      "model_module": "@jupyter-widgets/controls",
      "model_module_version": "1.5.0",
      "model_name": "CheckboxModel",
      "state": {
       "description": "Der Artikel übernimmt z. T. die Kasusmarkierung.",
       "disabled": false,
       "layout": "IPY_MODEL_4637b28d0d58482b9fb92e8523bcfd3d",
       "style": "IPY_MODEL_e2e9a3e0de3f4b36856f9aa2728ff543",
       "value": true
      }
     },
     "707edcb51f894ab59197e1abb118b383": {
      "model_module": "@jupyter-widgets/base",
      "model_module_version": "1.2.0",
      "model_name": "LayoutModel",
      "state": {}
     },
     "70b4375a34124acb8f0ecbbce87383f4": {
      "model_module": "@jupyter-widgets/base",
      "model_module_version": "1.2.0",
      "model_name": "LayoutModel",
      "state": {
       "width": "250px"
      }
     },
     "70b59a4aade74bae9e85912e23bb00a9": {
      "model_module": "@jupyter-widgets/controls",
      "model_module_version": "1.5.0",
      "model_name": "DescriptionStyleModel",
      "state": {
       "description_width": "initial"
      }
     },
     "70ba017fb34f407d9af2dae1d74ac67c": {
      "model_module": "@jupyter-widgets/controls",
      "model_module_version": "1.5.0",
      "model_name": "HTMLModel",
      "state": {
       "layout": "IPY_MODEL_40ed4d8d749045b8acd3343ca55d5520",
       "style": "IPY_MODEL_36947bc574554a0eb93a2206b82ae1ff",
       "value": "<h4 style=\"font-size:14px;\">Welche Aussagen gelten für den Fall, dass das Adjektiv in einer NP ohne Artikel auftritt? (vgl. <i>altes Bier</i>)</h4>"
      }
     },
     "70c3a0888447438e941995ae14f5778f": {
      "model_module": "@jupyter-widgets/base",
      "model_module_version": "1.2.0",
      "model_name": "LayoutModel",
      "state": {
       "width": "250px"
      }
     },
     "70c9ad36a04640c5b4e4ca442fcad830": {
      "model_module": "@jupyter-widgets/controls",
      "model_module_version": "1.5.0",
      "model_name": "DescriptionStyleModel",
      "state": {
       "description_width": ""
      }
     },
     "713be27ede484fb9a6f61c0db055c223": {
      "model_module": "@jupyter-widgets/controls",
      "model_module_version": "1.5.0",
      "model_name": "ButtonStyleModel",
      "state": {
       "button_color": "lightgreen"
      }
     },
     "71628d4c1718454f891dbd41c8f13c39": {
      "model_module": "@jupyter-widgets/base",
      "model_module_version": "1.2.0",
      "model_name": "LayoutModel",
      "state": {}
     },
     "7183e09b4df14a4bbec62d08f88b651d": {
      "model_module": "@jupyter-widgets/controls",
      "model_module_version": "1.5.0",
      "model_name": "CheckboxModel",
      "state": {
       "description": "Das Adjektiv übernimmt die Endungen des Artikels.",
       "disabled": false,
       "layout": "IPY_MODEL_06683546d7184390a67864f5d0dc9a07",
       "style": "IPY_MODEL_d98e358bb73d48a181d5c343e16b700c",
       "value": true
      }
     },
     "71ab0867649b4e8a9777abdcd90eea96": {
      "model_module": "@jupyter-widgets/controls",
      "model_module_version": "1.5.0",
      "model_name": "CheckboxModel",
      "state": {
       "description": "Sie werden aus der Eingabe extrahiert (feature extraction)",
       "disabled": false,
       "layout": "IPY_MODEL_d82f4489aca74fda84c39a2035c0a98e",
       "style": "IPY_MODEL_b9ab265e0c5e4b3294b040dbcae20b54",
       "value": false
      }
     },
     "71bd46234651460d885a1f8fc40b3c2f": {
      "model_module": "@jupyter-widgets/controls",
      "model_module_version": "1.5.0",
      "model_name": "CheckboxModel",
      "state": {
       "description": "x?",
       "disabled": false,
       "layout": "IPY_MODEL_d154b46e6f4244619b918ab021cf5a95",
       "style": "IPY_MODEL_9b0868c0c93546e8b62b584b016b8b24",
       "value": false
      }
     },
     "71cb4e156d4e4d198e07d8cd2e954a63": {
      "model_module": "@jupyter-widgets/base",
      "model_module_version": "1.2.0",
      "model_name": "LayoutModel",
      "state": {}
     },
     "71cf2443027c4ea5a8fedc544e76d8f2": {
      "model_module": "@jupyter-widgets/base",
      "model_module_version": "1.2.0",
      "model_name": "LayoutModel",
      "state": {
       "justify_content": "center"
      }
     },
     "71d04a85942b44bc95c50712928fa4a0": {
      "model_module": "@jupyter-widgets/base",
      "model_module_version": "1.2.0",
      "model_name": "LayoutModel",
      "state": {
       "width": "250px"
      }
     },
     "71ed94b31ddd4779b2f1268c40f51fef": {
      "model_module": "@jupyter-widgets/controls",
      "model_module_version": "1.5.0",
      "model_name": "CheckboxModel",
      "state": {
       "description": "Perspektivierung",
       "disabled": false,
       "layout": "IPY_MODEL_bc1df56be6aa45afb5a11738b4988240",
       "style": "IPY_MODEL_a799aa77de6d42d981faa9318dba9f32",
       "value": true
      }
     },
     "71ee333729734c5e9d63a2b15b5e2295": {
      "model_module": "@jupyter-widgets/base",
      "model_module_version": "1.2.0",
      "model_name": "LayoutModel",
      "state": {}
     },
     "71fde5cf4f624b5b9258088af62d5a10": {
      "model_module": "@jupyter-widgets/base",
      "model_module_version": "1.2.0",
      "model_name": "LayoutModel",
      "state": {
       "width": "600px"
      }
     },
     "7216a2d4d2744a6891338ce53ef9b512": {
      "model_module": "@jupyter-widgets/controls",
      "model_module_version": "1.5.0",
      "model_name": "DescriptionStyleModel",
      "state": {
       "description_width": "initial"
      }
     },
     "7276c88f4b654da59548cdfdf30162f5": {
      "model_module": "@jupyter-widgets/controls",
      "model_module_version": "1.5.0",
      "model_name": "CheckboxModel",
      "state": {
       "description": "Das Adjektiv übernimmt die Genus- und z.T. die Kasusmarkierung.",
       "disabled": false,
       "layout": "IPY_MODEL_36f463a8abc841dba4b4be22ec9a3f0a",
       "style": "IPY_MODEL_aa5af067c9bb4ea8b702aa84b85210de",
       "value": true
      }
     },
     "72a19c4621b243b3bf5a266e6e1cd958": {
      "model_module": "@jupyter-widgets/base",
      "model_module_version": "1.2.0",
      "model_name": "LayoutModel",
      "state": {
       "width": "250px"
      }
     },
     "72b9f76ba02b42598d250b1478b1884d": {
      "model_module": "@jupyter-widgets/controls",
      "model_module_version": "1.5.0",
      "model_name": "ButtonModel",
      "state": {
       "description": "stack",
       "layout": "IPY_MODEL_9692988eaa5a47ccb7b49f04ffe26caa",
       "style": "IPY_MODEL_529ee3a002794c6c87eb4fd0b1583a8a"
      }
     },
     "72ba5a05abc143b1a3c077c3e6afadae": {
      "model_module": "@jupyter-widgets/base",
      "model_module_version": "1.2.0",
      "model_name": "LayoutModel",
      "state": {
       "width": "250px"
      }
     },
     "72be61f1c63543e68f2c9a8928d0aff6": {
      "model_module": "@jupyter-widgets/base",
      "model_module_version": "1.2.0",
      "model_name": "LayoutModel",
      "state": {}
     },
     "72c2ce1fb0c94322a2fd3acd684c77ef": {
      "model_module": "@jupyter-widgets/base",
      "model_module_version": "1.2.0",
      "model_name": "LayoutModel",
      "state": {}
     },
     "72cda2e059f145f6a2b0c1cc14c64c69": {
      "model_module": "@jupyter-widgets/controls",
      "model_module_version": "1.5.0",
      "model_name": "CheckboxModel",
      "state": {
       "description": "Das Genus des Adjektivs ist lexikalisch fix definiert.",
       "disabled": false,
       "layout": "IPY_MODEL_d5a97e3b07564fe9b23ae6a0a05627e9",
       "style": "IPY_MODEL_16e871c0bf8b4ae8a6a3db058851e573",
       "value": false
      }
     },
     "72d0392cda7647a5805557c2d81b2b1e": {
      "model_module": "@jupyter-widgets/base",
      "model_module_version": "1.2.0",
      "model_name": "LayoutModel",
      "state": {
       "justify_content": "center"
      }
     },
     "72ef0c916bac4dc99fc1acd0fda9c086": {
      "model_module": "@jupyter-widgets/base",
      "model_module_version": "1.2.0",
      "model_name": "LayoutModel",
      "state": {
       "width": "250px"
      }
     },
     "72ffd1f4da4d48f69240c6d38b9d174a": {
      "model_module": "@jupyter-widgets/base",
      "model_module_version": "1.2.0",
      "model_name": "LayoutModel",
      "state": {
       "width": "600px"
      }
     },
     "7308ed656079422da0c7b41fa7bd64c3": {
      "model_module": "@jupyter-widgets/base",
      "model_module_version": "1.2.0",
      "model_name": "LayoutModel",
      "state": {}
     },
     "73191565c1eb4f438361ef703ed28fd4": {
      "model_module": "@jupyter-widgets/base",
      "model_module_version": "1.2.0",
      "model_name": "LayoutModel",
      "state": {
       "justify_content": "center"
      }
     },
     "73a3531f0f9748f08d811fea65365b92": {
      "model_module": "@jupyter-widgets/base",
      "model_module_version": "1.2.0",
      "model_name": "LayoutModel",
      "state": {}
     },
     "73b9e5056de44c49a69f4987b0b7d196": {
      "model_module": "@jupyter-widgets/controls",
      "model_module_version": "1.5.0",
      "model_name": "VBoxModel",
      "state": {
       "children": [
        "IPY_MODEL_863d141d1908438c9b53908eadd0d43e",
        "IPY_MODEL_b99a11dd55b1407b8f2e97d4c1eabf30",
        "IPY_MODEL_7ca8d2524cc141f1ad6c5ee753495266",
        "IPY_MODEL_927476d7742e4b37aad9e31e512aaa21"
       ],
       "layout": "IPY_MODEL_ee2322c29f034ac6a2435391ebf65859"
      }
     },
     "73c20f4899164d11a1794e5e3459d5e5": {
      "model_module": "@jupyter-widgets/base",
      "model_module_version": "1.2.0",
      "model_name": "LayoutModel",
      "state": {
       "width": "250px"
      }
     },
     "73ceda03cc7541baa5a769e0b1bb3b11": {
      "model_module": "@jupyter-widgets/controls",
      "model_module_version": "1.5.0",
      "model_name": "ButtonModel",
      "state": {
       "description": "Korrekt?",
       "layout": "IPY_MODEL_f11883e8da3d4773a284b994167c2a76",
       "style": "IPY_MODEL_9659f5ad68fb4217bef422fc333bc5dd"
      }
     },
     "73d4978ea298417abc171f42dfee259d": {
      "model_module": "@jupyter-widgets/controls",
      "model_module_version": "1.5.0",
      "model_name": "CheckboxModel",
      "state": {
       "description": "Keine der Alternativen",
       "disabled": false,
       "layout": "IPY_MODEL_33a64a07a1a14b8a9f99e0f078c42a0d",
       "style": "IPY_MODEL_f507e1d2a49a435fa50cecccbea618a3",
       "value": false
      }
     },
     "7403dafe32d64ebfba25de84cb7ccb7b": {
      "model_module": "@jupyter-widgets/controls",
      "model_module_version": "1.5.0",
      "model_name": "HTMLModel",
      "state": {
       "layout": "IPY_MODEL_d46d83ee7d0c426fb958f25683f13a8f",
       "style": "IPY_MODEL_1ecf310eb16741efbe68fed1f82f00ec",
       "value": "<h4 style=\"font-size:14px;\">Für die Deklination ist hier relevant, ob das Adjektiv mit einem ____________ Artikel auftritt oder nicht.</h4>"
      }
     },
     "7433f47a1d894cf0b01f08e57ef4a031": {
      "model_module": "@jupyter-widgets/controls",
      "model_module_version": "1.5.0",
      "model_name": "CheckboxModel",
      "state": {
       "description": "Die Form des Adjektivs ist in jedem Kasus unterschiedlich.",
       "disabled": false,
       "layout": "IPY_MODEL_d18614ee9455431d924ffdfb459fc2d0",
       "style": "IPY_MODEL_6f23b0fcbc3b463292425685a4ef9404",
       "value": false
      }
     },
     "745a4b4807bc4ac9bcf89fa6e886b283": {
      "model_module": "@jupyter-widgets/controls",
      "model_module_version": "1.5.0",
      "model_name": "ButtonModel",
      "state": {
       "description": "Zeitangabe",
       "layout": "IPY_MODEL_c02da05afb1f416ba6181f46dc86d4fb",
       "style": "IPY_MODEL_0864ea33365e4e78b9573ab76cbfcdad"
      }
     },
     "745ee0ea40aa48f3b863682b0ecb4bbf": {
      "model_module": "@jupyter-widgets/base",
      "model_module_version": "1.2.0",
      "model_name": "LayoutModel",
      "state": {
       "width": "600px"
      }
     },
     "747bcb7eb54242de892c42d6b1488c58": {
      "model_module": "@jupyter-widgets/controls",
      "model_module_version": "1.5.0",
      "model_name": "DescriptionStyleModel",
      "state": {
       "description_width": "initial"
      }
     },
     "74a84be2fbca4d1ba667c45986b578a2": {
      "model_module": "@jupyter-widgets/controls",
      "model_module_version": "1.5.0",
      "model_name": "ButtonStyleModel",
      "state": {}
     },
     "74b27b86c436466d82122cc65512a300": {
      "model_module": "@jupyter-widgets/controls",
      "model_module_version": "1.5.0",
      "model_name": "DescriptionStyleModel",
      "state": {
       "description_width": "initial"
      }
     },
     "74c6d4bb816b4ef3954cd91fa4e6dd8f": {
      "model_module": "@jupyter-widgets/base",
      "model_module_version": "1.2.0",
      "model_name": "LayoutModel",
      "state": {}
     },
     "74d5d17303aa4d1fb1b239ee9f4e73c6": {
      "model_module": "@jupyter-widgets/controls",
      "model_module_version": "1.5.0",
      "model_name": "DescriptionStyleModel",
      "state": {
       "description_width": ""
      }
     },
     "74dd18ab2d924f498f21890b34688217": {
      "model_module": "@jupyter-widgets/base",
      "model_module_version": "1.2.0",
      "model_name": "LayoutModel",
      "state": {}
     },
     "74e4d7ac2c1648bf8ae8cff1cf6cf735": {
      "model_module": "@jupyter-widgets/base",
      "model_module_version": "1.2.0",
      "model_name": "LayoutModel",
      "state": {
       "width": "600px"
      }
     },
     "74f3a2b87fe644788c0dbb1efead571d": {
      "model_module": "@jupyter-widgets/controls",
      "model_module_version": "1.5.0",
      "model_name": "ButtonStyleModel",
      "state": {
       "button_color": "lightgreen"
      }
     },
     "7563e77261af42f79e18723827c0ad19": {
      "model_module": "@jupyter-widgets/controls",
      "model_module_version": "1.5.0",
      "model_name": "DescriptionStyleModel",
      "state": {
       "description_width": "initial"
      }
     },
     "7583fe3a8f454a4eb671b2ec9bc75fa6": {
      "model_module": "@jupyter-widgets/controls",
      "model_module_version": "1.5.0",
      "model_name": "VBoxModel",
      "state": {
       "children": [
        "IPY_MODEL_00e07760d0a34a25809f79180d905e13",
        "IPY_MODEL_1831328ae6c74f52b3cf2ac2e13db5e7",
        "IPY_MODEL_a2be479c16524cd189517c1bb8016b93"
       ],
       "layout": "IPY_MODEL_fe980841d29c42cf8247fdd3eb5ab35d"
      }
     },
     "75a41b4d2dab4330b5ee1b540d48478a": {
      "model_module": "@jupyter-widgets/base",
      "model_module_version": "1.2.0",
      "model_name": "LayoutModel",
      "state": {
       "width": "600px"
      }
     },
     "75c93b18bd6a43b6a66fe7a19317b8d2": {
      "model_module": "@jupyter-widgets/controls",
      "model_module_version": "1.5.0",
      "model_name": "DescriptionStyleModel",
      "state": {
       "description_width": "initial"
      }
     },
     "75d109d3ff9c474eafd64984ea321a7d": {
      "model_module": "@jupyter-widgets/controls",
      "model_module_version": "1.5.0",
      "model_name": "ButtonModel",
      "state": {
       "description": "Patiens",
       "layout": "IPY_MODEL_386ab53553824c1e819f58a1754796b6",
       "style": "IPY_MODEL_88d7ccd3c08147d3b4db63eda0aeab56"
      }
     },
     "75ffca31c8e141d19e54584ae523ced9": {
      "model_module": "@jupyter-widgets/base",
      "model_module_version": "1.2.0",
      "model_name": "LayoutModel",
      "state": {}
     },
     "762b03bc1d5f40699072180aa19e3a4f": {
      "model_module": "@jupyter-widgets/controls",
      "model_module_version": "1.5.0",
      "model_name": "DescriptionStyleModel",
      "state": {
       "description_width": "initial"
      }
     },
     "763989e72a294fea9c681696da2efc6e": {
      "model_module": "@jupyter-widgets/controls",
      "model_module_version": "1.5.0",
      "model_name": "ButtonModel",
      "state": {
       "description": "Korrekt?",
       "layout": "IPY_MODEL_aaa187f7b89048be8ecd75dfc3bce231",
       "style": "IPY_MODEL_28dda166ef84483199c95ca8aeda015d"
      }
     },
     "763f59b66f5e4427a726babd9f8ec15d": {
      "model_module": "@jupyter-widgets/controls",
      "model_module_version": "1.5.0",
      "model_name": "HTMLModel",
      "state": {
       "layout": "IPY_MODEL_bd3a24db60e54e11a8f8225853c4cd19",
       "style": "IPY_MODEL_98cf169daaca4f769b18a84985e425ee",
       "value": "<i>Markieren Sie <ins>alle</ins> passenden Antworten: </i>"
      }
     },
     "764c27ed5e134149a099d7401dad7f61": {
      "model_module": "@jupyter-widgets/base",
      "model_module_version": "1.2.0",
      "model_name": "LayoutModel",
      "state": {
       "width": "600px"
      }
     },
     "767535ad5f704fbb8c198ba041d7a75e": {
      "model_module": "@jupyter-widgets/controls",
      "model_module_version": "1.5.0",
      "model_name": "ButtonStyleModel",
      "state": {}
     },
     "767a94510ac44b869deb4a3f5e5e0e46": {
      "model_module": "@jupyter-widgets/controls",
      "model_module_version": "1.5.0",
      "model_name": "ButtonStyleModel",
      "state": {}
     },
     "76b01c31f0a7431ca072b402be236953": {
      "model_module": "@jupyter-widgets/controls",
      "model_module_version": "1.5.0",
      "model_name": "ButtonStyleModel",
      "state": {}
     },
     "76c4471d049c454e9d65e68224b9bb14": {
      "model_module": "@jupyter-widgets/base",
      "model_module_version": "1.2.0",
      "model_name": "LayoutModel",
      "state": {
       "width": "250px"
      }
     },
     "76c5b69883144fb3a48067681786bf46": {
      "model_module": "@jupyter-widgets/controls",
      "model_module_version": "1.5.0",
      "model_name": "DescriptionStyleModel",
      "state": {
       "description_width": ""
      }
     },
     "76ca369eafa940f2afda45c5eb255ae5": {
      "model_module": "@jupyter-widgets/controls",
      "model_module_version": "1.5.0",
      "model_name": "DescriptionStyleModel",
      "state": {
       "description_width": ""
      }
     },
     "76d6e50551614f41a7c5ca0ba6aef9f7": {
      "model_module": "@jupyter-widgets/base",
      "model_module_version": "1.2.0",
      "model_name": "LayoutModel",
      "state": {}
     },
     "76fa4e91cc904f99afaa6de593b2ffac": {
      "model_module": "@jupyter-widgets/controls",
      "model_module_version": "1.5.0",
      "model_name": "DescriptionStyleModel",
      "state": {
       "description_width": ""
      }
     },
     "7721126381e148b18df6b80508d0abd4": {
      "model_module": "@jupyter-widgets/controls",
      "model_module_version": "1.5.0",
      "model_name": "DescriptionStyleModel",
      "state": {
       "description_width": "initial"
      }
     },
     "777e2aacdec14e2b97152cb56cd1e156": {
      "model_module": "@jupyter-widgets/controls",
      "model_module_version": "1.5.0",
      "model_name": "ButtonModel",
      "state": {
       "description": "Instrument",
       "layout": "IPY_MODEL_5363ebe855424d3692bf713983db3151",
       "style": "IPY_MODEL_9b9cb19e18f940f99077869c4061d1ea"
      }
     },
     "777f2ff9e72044bc82a06d67a027983c": {
      "model_module": "@jupyter-widgets/controls",
      "model_module_version": "1.5.0",
      "model_name": "ButtonModel",
      "state": {
       "description": "Locative",
       "layout": "IPY_MODEL_2f7fe2ac5ef44989abbd8d3bf4e4d7e3",
       "style": "IPY_MODEL_d6a62bad1a044ab9865664f211fed3bb"
      }
     },
     "77893b47cdf24a77b98fb271cd60c3b5": {
      "model_module": "@jupyter-widgets/controls",
      "model_module_version": "1.5.0",
      "model_name": "ButtonStyleModel",
      "state": {
       "button_color": "lightgreen"
      }
     },
     "77a1c99fc7324e93a7d5e922808f3b94": {
      "model_module": "@jupyter-widgets/base",
      "model_module_version": "1.2.0",
      "model_name": "LayoutModel",
      "state": {
       "width": "250px"
      }
     },
     "77ae296ead6040a384ed089f4cd714cc": {
      "model_module": "@jupyter-widgets/controls",
      "model_module_version": "1.5.0",
      "model_name": "VBoxModel",
      "state": {
       "children": [
        "IPY_MODEL_6314e29b763b489dafa1169efebb5b49",
        "IPY_MODEL_11e792abc8fd486d9e1f385b806ea118",
        "IPY_MODEL_4f5919eab5ab4ea9b12fd14fe8a3a20e",
        "IPY_MODEL_3f548682f38a426f87f5f55f18c21bdb"
       ],
       "layout": "IPY_MODEL_e2f80cd0324f47609fbe668a345f3548"
      }
     },
     "77f659b2033e44359ec4a9eb5b9722c7": {
      "model_module": "@jupyter-widgets/base",
      "model_module_version": "1.2.0",
      "model_name": "LayoutModel",
      "state": {
       "width": "250px"
      }
     },
     "781f6be6c9564010962988039b6a9037": {
      "model_module": "@jupyter-widgets/base",
      "model_module_version": "1.2.0",
      "model_name": "LayoutModel",
      "state": {}
     },
     "7822d2be01e44ba0ad46b9d557d8eafa": {
      "model_module": "@jupyter-widgets/base",
      "model_module_version": "1.2.0",
      "model_name": "LayoutModel",
      "state": {}
     },
     "7847f2d86e2a4282b14bc34a76c4338f": {
      "model_module": "@jupyter-widgets/base",
      "model_module_version": "1.2.0",
      "model_name": "LayoutModel",
      "state": {}
     },
     "785e0cceff254af085285152492dbcd1": {
      "model_module": "@jupyter-widgets/controls",
      "model_module_version": "1.5.0",
      "model_name": "ButtonStyleModel",
      "state": {}
     },
     "786a66746a784ccda2c72e414e394f20": {
      "model_module": "@jupyter-widgets/base",
      "model_module_version": "1.2.0",
      "model_name": "LayoutModel",
      "state": {
       "width": "600px"
      }
     },
     "78b0c5c997854b22a66e45936c26b446": {
      "model_module": "@jupyter-widgets/controls",
      "model_module_version": "1.5.0",
      "model_name": "CheckboxModel",
      "state": {
       "description": "Die Form des Adjektivs richtet sich nach dem Genus des Substantivs.",
       "disabled": false,
       "layout": "IPY_MODEL_b329a6ff49d34ce3bf3b9cc5307dca03",
       "style": "IPY_MODEL_f5576bbfd9ae4acda4f12c7d4830ae1d",
       "value": true
      }
     },
     "78dbf451aacd44c8b4d922d386fefbb2": {
      "model_module": "@jupyter-widgets/controls",
      "model_module_version": "1.5.0",
      "model_name": "HTMLModel",
      "state": {
       "layout": "IPY_MODEL_173f9d36facb43e7bc38b7271113d630",
       "style": "IPY_MODEL_156e1b492fca46889e83b24943c24a84",
       "value": "<i>Wählen Sie die <ins>eine</ins> korrekte Antwort aus: </i>"
      }
     },
     "78f8b4b1a3664e4f99a703085de712ba": {
      "model_module": "@jupyter-widgets/base",
      "model_module_version": "1.2.0",
      "model_name": "LayoutModel",
      "state": {
       "justify_content": "center"
      }
     },
     "79044fe5ab994b348236e951ac58ef56": {
      "model_module": "@jupyter-widgets/controls",
      "model_module_version": "1.5.0",
      "model_name": "VBoxModel",
      "state": {
       "children": [
        "IPY_MODEL_1dd26d40dd874ef99a9c51ce8cce02f7",
        "IPY_MODEL_62ffd033d4c64e2f9ff8260a215cac69",
        "IPY_MODEL_a84532bd419a472ea7984ef45cf48762",
        "IPY_MODEL_d76f8bbe19ab4995a9134dd69dee91d5",
        "IPY_MODEL_989b52b779fb4c378d2b7be4b43cf920"
       ],
       "layout": "IPY_MODEL_093416fd902a436a9156c30a3f41ce27"
      }
     },
     "790c02ed740a4345849e8c3e9869074e": {
      "model_module": "@jupyter-widgets/controls",
      "model_module_version": "1.5.0",
      "model_name": "DescriptionStyleModel",
      "state": {
       "description_width": ""
      }
     },
     "791668ea552b48b7839138608fa09aee": {
      "model_module": "@jupyter-widgets/controls",
      "model_module_version": "1.5.0",
      "model_name": "DescriptionStyleModel",
      "state": {
       "description_width": ""
      }
     },
     "792a53073b88460db19339bcf1d347ef": {
      "model_module": "@jupyter-widgets/controls",
      "model_module_version": "1.5.0",
      "model_name": "ButtonModel",
      "state": {
       "description": "Korrekt?",
       "layout": "IPY_MODEL_0d631da6a21a49e4bdf01667aecd9993",
       "style": "IPY_MODEL_0573e66e913646d282c7cb33f8a79da3"
      }
     },
     "792dd1aef591402ebb89df4d6c3a5cbd": {
      "model_module": "@jupyter-widgets/controls",
      "model_module_version": "1.5.0",
      "model_name": "DescriptionStyleModel",
      "state": {
       "description_width": "initial"
      }
     },
     "793baa694f1a4a30b9aacd3f255da99c": {
      "model_module": "@jupyter-widgets/base",
      "model_module_version": "1.2.0",
      "model_name": "LayoutModel",
      "state": {
       "justify_content": "center"
      }
     },
     "794a6353f75b49e0945e2e86aa56aff5": {
      "model_module": "@jupyter-widgets/base",
      "model_module_version": "1.2.0",
      "model_name": "LayoutModel",
      "state": {}
     },
     "796014017dc84456b8111197580d8bb1": {
      "model_module": "@jupyter-widgets/controls",
      "model_module_version": "1.5.0",
      "model_name": "VBoxModel",
      "state": {
       "children": [
        "IPY_MODEL_3f2739616e244857b8d8cdcf024828fd",
        "IPY_MODEL_0ed0d0bb3ac44f458e3cd81611358d5b",
        "IPY_MODEL_16ad40b83ec147bca91da328afa61840"
       ],
       "layout": "IPY_MODEL_0d2de1e1e61c4757923af724435edbbc"
      }
     },
     "79618d8825a143a09dbf493e83f5db93": {
      "model_module": "@jupyter-widgets/controls",
      "model_module_version": "1.5.0",
      "model_name": "DescriptionStyleModel",
      "state": {
       "description_width": ""
      }
     },
     "79787f3d23bc442ead3ecceee8a16b14": {
      "model_module": "@jupyter-widgets/controls",
      "model_module_version": "1.5.0",
      "model_name": "ButtonStyleModel",
      "state": {}
     },
     "797d03d3a3da4fae983d8126b99eda3a": {
      "model_module": "@jupyter-widgets/controls",
      "model_module_version": "1.5.0",
      "model_name": "DescriptionStyleModel",
      "state": {
       "description_width": "initial"
      }
     },
     "7996b12aedaa412f93c62f4ed9f5a204": {
      "model_module": "@jupyter-widgets/controls",
      "model_module_version": "1.5.0",
      "model_name": "DescriptionStyleModel",
      "state": {
       "description_width": ""
      }
     },
     "79bb62c587494e60a739668447ba5b57": {
      "model_module": "@jupyter-widgets/base",
      "model_module_version": "1.2.0",
      "model_name": "LayoutModel",
      "state": {
       "justify_content": "center"
      }
     },
     "79bbf2ab92e54c8bafddacf5542638d6": {
      "model_module": "@jupyter-widgets/base",
      "model_module_version": "1.2.0",
      "model_name": "LayoutModel",
      "state": {}
     },
     "79d13457d6994e46a40e6984ed2b4ed1": {
      "model_module": "@jupyter-widgets/controls",
      "model_module_version": "1.5.0",
      "model_name": "HTMLModel",
      "state": {
       "layout": "IPY_MODEL_42e9d4aeb0434600ba730747130c1270",
       "style": "IPY_MODEL_8c8691a421a64d6ebcacc79c94ec04c3",
       "value": "<i>Wählen Sie die <ins>eine</ins> korrekte Antwort aus: </i>"
      }
     },
     "79e52c8e98ea4361a1326c9a1bf16b66": {
      "model_module": "@jupyter-widgets/controls",
      "model_module_version": "1.5.0",
      "model_name": "HTMLModel",
      "state": {
       "layout": "IPY_MODEL_fadbc8892bfb442a8f5f2b550594616a",
       "style": "IPY_MODEL_83ea38f384ca40b4a68483a5b1446ade",
       "value": "<h4 style=\"font-size:14px;\">Was ist im zweiten Satz das Subjekt?</h4>"
      }
     },
     "7a232de2dd7c463498d9b6dd7778c1cb": {
      "model_module": "@jupyter-widgets/controls",
      "model_module_version": "1.5.0",
      "model_name": "DropdownModel",
      "state": {
       "_options_labels": [
        "Adverbiale",
        "Nomen",
        "Personalpronomina",
        " "
       ],
       "index": 2,
       "layout": "IPY_MODEL_63000934384f46e995c78325661403fe",
       "style": "IPY_MODEL_97fae81a1e734156939afaddf75c1298"
      }
     },
     "7a3af322462e44f3b0de644b516b8592": {
      "model_module": "@jupyter-widgets/controls",
      "model_module_version": "1.5.0",
      "model_name": "ButtonModel",
      "state": {
       "description": "Korrekt?",
       "layout": "IPY_MODEL_845fb393c5564eeabd0923f84ca8dfb0",
       "style": "IPY_MODEL_4298ae2047fe4ca6b52a7189e6e95814"
      }
     },
     "7a455209c065404f8b554a27224e0eff": {
      "model_module": "@jupyter-widgets/controls",
      "model_module_version": "1.5.0",
      "model_name": "HTMLModel",
      "state": {
       "layout": "IPY_MODEL_1113d136f87444e1b058e3a2d1e41a1b",
       "style": "IPY_MODEL_fbeb475f50a349c5ba782b6d3bc7c158",
       "value": "<i>Markieren Sie <ins>alle</ins> passenden Antworten: </i>"
      }
     },
     "7a60b0f2a581417080bc0a028a6dea75": {
      "model_module": "@jupyter-widgets/controls",
      "model_module_version": "1.5.0",
      "model_name": "ButtonStyleModel",
      "state": {}
     },
     "7a624bc083514da9960fd0f671afc88c": {
      "model_module": "@jupyter-widgets/controls",
      "model_module_version": "1.5.0",
      "model_name": "VBoxModel",
      "state": {
       "children": [
        "IPY_MODEL_107340100fc348b1aff493c2064a17b9",
        "IPY_MODEL_80de6ec372374d6eba1948c306a55abe",
        "IPY_MODEL_caa3197fdf9b4b0291ff1dde189e6c6d"
       ],
       "layout": "IPY_MODEL_ef740975c581443fae9d277dc380b1b4"
      }
     },
     "7a75a851fd254ada8608f14bc3175c3e": {
      "model_module": "@jupyter-widgets/base",
      "model_module_version": "1.2.0",
      "model_name": "LayoutModel",
      "state": {}
     },
     "7a76d324959e43e9a5049fe0d1a357af": {
      "model_module": "@jupyter-widgets/base",
      "model_module_version": "1.2.0",
      "model_name": "LayoutModel",
      "state": {
       "width": "600px"
      }
     },
     "7a946f63707e4fd1a0ecb8db9076bd09": {
      "model_module": "@jupyter-widgets/base",
      "model_module_version": "1.2.0",
      "model_name": "LayoutModel",
      "state": {
       "justify_content": "center"
      }
     },
     "7ae6a01ab6d64449bdffff385cd94d14": {
      "model_module": "@jupyter-widgets/controls",
      "model_module_version": "1.5.0",
      "model_name": "HTMLModel",
      "state": {
       "layout": "IPY_MODEL_fe311877fc394158b5497b26bea11b42",
       "style": "IPY_MODEL_d62310382a994c839391bc08216a4f97",
       "value": "<i>Wählen Sie die <ins>eine</ins> korrekte Antwort aus: </i>"
      }
     },
     "7b111e31c8394b8f851cf5e8c2025d11": {
      "model_module": "@jupyter-widgets/controls",
      "model_module_version": "1.5.0",
      "model_name": "DescriptionStyleModel",
      "state": {
       "description_width": "initial"
      }
     },
     "7b16c4117f1843638dcdab84da9daefb": {
      "model_module": "@jupyter-widgets/controls",
      "model_module_version": "1.5.0",
      "model_name": "DescriptionStyleModel",
      "state": {
       "description_width": "initial"
      }
     },
     "7b28fb56a8204da597c95050b12787db": {
      "model_module": "@jupyter-widgets/controls",
      "model_module_version": "1.5.0",
      "model_name": "DescriptionStyleModel",
      "state": {
       "description_width": "initial"
      }
     },
     "7b69e29cc0184f5f9509079d57b632b5": {
      "model_module": "@jupyter-widgets/controls",
      "model_module_version": "1.5.0",
      "model_name": "DescriptionStyleModel",
      "state": {
       "description_width": ""
      }
     },
     "7b7644ca30ad41979292d09b8a881f9c": {
      "model_module": "@jupyter-widgets/controls",
      "model_module_version": "1.5.0",
      "model_name": "VBoxModel",
      "state": {
       "children": [
        "IPY_MODEL_c6ed552b57ed43ffbd3f5405df83faf3",
        "IPY_MODEL_e59af0c2661a47f88fe5fb02a90cab2f",
        "IPY_MODEL_9845f69c43e74329b20fc4a0908878a5"
       ],
       "layout": "IPY_MODEL_5208611532ab46beadba600b7ff1a051"
      }
     },
     "7b9659af2ed647269444fea27623ef8e": {
      "model_module": "@jupyter-widgets/controls",
      "model_module_version": "1.5.0",
      "model_name": "ButtonModel",
      "state": {
       "description": "Benefaktiv",
       "layout": "IPY_MODEL_4315bdbc970745bd8588c42e375f8924",
       "style": "IPY_MODEL_6f17e4ee07d349a19c5b02f087c45d28"
      }
     },
     "7b973c8a1af242ce89864624ef49440e": {
      "model_module": "@jupyter-widgets/controls",
      "model_module_version": "1.5.0",
      "model_name": "DescriptionStyleModel",
      "state": {
       "description_width": "initial"
      }
     },
     "7bb3ef0e6e294de2bd8ca7526a49cee2": {
      "model_module": "@jupyter-widgets/base",
      "model_module_version": "1.2.0",
      "model_name": "LayoutModel",
      "state": {}
     },
     "7be72dc103ab42c9b1c86556f4317e7c": {
      "model_module": "@jupyter-widgets/base",
      "model_module_version": "1.2.0",
      "model_name": "LayoutModel",
      "state": {}
     },
     "7c03141828dd443f9c35f9eb7707be0c": {
      "model_module": "@jupyter-widgets/controls",
      "model_module_version": "1.5.0",
      "model_name": "HTMLModel",
      "state": {
       "layout": "IPY_MODEL_ade9c55819074dae9b0dc208a492d865",
       "style": "IPY_MODEL_64f19473ea8742178c2f7348b946dcf1",
       "value": "<h4 style=\"font-size:14px;\">Wie werden Features beim POS-Tagging verwendet?</h4>"
      }
     },
     "7c3aeede4fa4430aa7b979e7f289516d": {
      "model_module": "@jupyter-widgets/controls",
      "model_module_version": "1.5.0",
      "model_name": "ButtonModel",
      "state": {
       "description": "Korrekt?",
       "layout": "IPY_MODEL_71d04a85942b44bc95c50712928fa4a0",
       "style": "IPY_MODEL_95be9b0c78f94709a32c180be47e85a8"
      }
     },
     "7c47f9b543f849d293555a755ad7de79": {
      "model_module": "@jupyter-widgets/controls",
      "model_module_version": "1.5.0",
      "model_name": "ButtonStyleModel",
      "state": {}
     },
     "7c4cd710678a4399ad4ea0ed2951bf2b": {
      "model_module": "@jupyter-widgets/base",
      "model_module_version": "1.2.0",
      "model_name": "LayoutModel",
      "state": {
       "width": "600px"
      }
     },
     "7c6a811dd85e41bcba110fef88206f5e": {
      "model_module": "@jupyter-widgets/controls",
      "model_module_version": "1.5.0",
      "model_name": "DescriptionStyleModel",
      "state": {
       "description_width": "initial"
      }
     },
     "7c7dd69be57e4a4091e0390bffd39678": {
      "model_module": "@jupyter-widgets/base",
      "model_module_version": "1.2.0",
      "model_name": "LayoutModel",
      "state": {}
     },
     "7c8b0902c10147abb6e10c5afe5a10da": {
      "model_module": "@jupyter-widgets/base",
      "model_module_version": "1.2.0",
      "model_name": "LayoutModel",
      "state": {}
     },
     "7c94a8ddb5594f9daa2d2a6554ae1586": {
      "model_module": "@jupyter-widgets/controls",
      "model_module_version": "1.5.0",
      "model_name": "DescriptionStyleModel",
      "state": {
       "description_width": ""
      }
     },
     "7ca8d2524cc141f1ad6c5ee753495266": {
      "model_module": "@jupyter-widgets/controls",
      "model_module_version": "1.5.0",
      "model_name": "VBoxModel",
      "state": {
       "children": [
        "IPY_MODEL_031f6eab6cc644a19cb55d025c15f5d2",
        "IPY_MODEL_ef01d8170f0142138e9f72ae3842b447",
        "IPY_MODEL_83450d15d0874668a02b5889932a86e2"
       ],
       "layout": "IPY_MODEL_74c6d4bb816b4ef3954cd91fa4e6dd8f"
      }
     },
     "7cb3adb960cd487ea89abab7b26b5fd8": {
      "model_module": "@jupyter-widgets/controls",
      "model_module_version": "1.5.0",
      "model_name": "ButtonModel",
      "state": {
       "description": "Agens",
       "layout": "IPY_MODEL_330e6e233cd64073b3cdf142f29a9622",
       "style": "IPY_MODEL_376fa7cd2f814e37a7b5274252c9cd69"
      }
     },
     "7cdb90511b9143e89b7ad13aa89cb6f2": {
      "model_module": "@jupyter-widgets/base",
      "model_module_version": "1.2.0",
      "model_name": "LayoutModel",
      "state": {
       "width": "250px"
      }
     },
     "7d14fc7fcd5e4c388fe1e6306e31019c": {
      "model_module": "@jupyter-widgets/controls",
      "model_module_version": "1.5.0",
      "model_name": "ButtonModel",
      "state": {
       "description": "Korrekt?",
       "layout": "IPY_MODEL_9764f4682ee149efb0865bfa1b04dc7a",
       "style": "IPY_MODEL_015ad4ef53b343a5a37d018c265fc70f"
      }
     },
     "7d1a5986d0304e2c85f73a8574ea9764": {
      "model_module": "@jupyter-widgets/controls",
      "model_module_version": "1.5.0",
      "model_name": "DescriptionStyleModel",
      "state": {
       "description_width": ""
      }
     },
     "7d1d0589cad54b7cba2b86d60fa960df": {
      "model_module": "@jupyter-widgets/base",
      "model_module_version": "1.2.0",
      "model_name": "LayoutModel",
      "state": {}
     },
     "7d23e5ddb63348598f349f48dd0131f7": {
      "model_module": "@jupyter-widgets/base",
      "model_module_version": "1.2.0",
      "model_name": "LayoutModel",
      "state": {
       "justify_content": "center"
      }
     },
     "7d24d9cddeb34abd8b9929728711f3c4": {
      "model_module": "@jupyter-widgets/base",
      "model_module_version": "1.2.0",
      "model_name": "LayoutModel",
      "state": {}
     },
     "7d25dd0abd284b1db08f4ac3e2737f60": {
      "model_module": "@jupyter-widgets/base",
      "model_module_version": "1.2.0",
      "model_name": "LayoutModel",
      "state": {}
     },
     "7d280f74d4a147c0a9355009757d35ad": {
      "model_module": "@jupyter-widgets/controls",
      "model_module_version": "1.5.0",
      "model_name": "ButtonModel",
      "state": {
       "description": "dictionary",
       "layout": "IPY_MODEL_b9d3a4d7fbe2440cbbe7b40be0bd0c05",
       "style": "IPY_MODEL_fbb17f923ec1441a861e5f4419a836aa"
      }
     },
     "7d4fe2d50dfb4209ae2052f252dc0ad7": {
      "model_module": "@jupyter-widgets/base",
      "model_module_version": "1.2.0",
      "model_name": "LayoutModel",
      "state": {
       "width": "600px"
      }
     },
     "7d5ddae21bb34a98a353b17ec9b669f1": {
      "model_module": "@jupyter-widgets/base",
      "model_module_version": "1.2.0",
      "model_name": "LayoutModel",
      "state": {
       "width": "600px"
      }
     },
     "7d6afdbfa9504fd1a19cb7b722db91bc": {
      "model_module": "@jupyter-widgets/controls",
      "model_module_version": "1.5.0",
      "model_name": "HTMLModel",
      "state": {
       "layout": "IPY_MODEL_5cd5ffb638f34d9096d0bdf1a87e6362",
       "style": "IPY_MODEL_55ddad23524f41a6b1768210024e8f5a",
       "value": "<h4 style=\"font-size:14px;\">Was ist der bevorzugte Kandidat zur Realisierung im Subjekt?</h4>"
      }
     },
     "7d6cab15ec074acd91d58c9a63cbbaa8": {
      "model_module": "@jupyter-widgets/controls",
      "model_module_version": "1.5.0",
      "model_name": "CheckboxModel",
      "state": {
       "description": "x!",
       "disabled": false,
       "layout": "IPY_MODEL_64012e6ad4404776a346666564ebd47a",
       "style": "IPY_MODEL_c40250c2958c46ae845803187b7d5ab5",
       "value": false
      }
     },
     "7d6e9954dd594899b8b55be1666e5835": {
      "model_module": "@jupyter-widgets/controls",
      "model_module_version": "1.5.0",
      "model_name": "VBoxModel",
      "state": {
       "children": [
        "IPY_MODEL_437cdbe256b14065aa205f4c4d03f6c3",
        "IPY_MODEL_6b3b0bddd6f1402d8281e9df46198e29",
        "IPY_MODEL_86ddf85dd83b48738a78766e9ed7e64a"
       ],
       "layout": "IPY_MODEL_a4ba8319ce9e41cb873012f99b9ce4ba"
      }
     },
     "7d8f9667a5074ff88e5cb853be377d82": {
      "model_module": "@jupyter-widgets/base",
      "model_module_version": "1.2.0",
      "model_name": "LayoutModel",
      "state": {}
     },
     "7e2a1a2dc7964f1fbc19617083dbca51": {
      "model_module": "@jupyter-widgets/base",
      "model_module_version": "1.2.0",
      "model_name": "LayoutModel",
      "state": {
       "width": "600px"
      }
     },
     "7e3bfa30cb1b4988ab05a2dba467e52f": {
      "model_module": "@jupyter-widgets/controls",
      "model_module_version": "1.5.0",
      "model_name": "ButtonStyleModel",
      "state": {}
     },
     "7e4c93e5db1e433199c6ab856c2e7116": {
      "model_module": "@jupyter-widgets/base",
      "model_module_version": "1.2.0",
      "model_name": "LayoutModel",
      "state": {}
     },
     "7e4e342f76b2447ab3a18f7563fc82b7": {
      "model_module": "@jupyter-widgets/controls",
      "model_module_version": "1.5.0",
      "model_name": "HTMLModel",
      "state": {
       "layout": "IPY_MODEL_525b3cb050bf4ef997295db4bf8502f9",
       "style": "IPY_MODEL_6c3e1336c3244b5eab1816a1c1e1f961",
       "value": "<h4 style=\"font-size:14px;\">keine</h4>"
      }
     },
     "7e5595e5e4f445be949b206538c23e30": {
      "model_module": "@jupyter-widgets/base",
      "model_module_version": "1.2.0",
      "model_name": "LayoutModel",
      "state": {
       "width": "250px"
      }
     },
     "7e64e8c94b7140a9adc93a7f45b7daaa": {
      "model_module": "@jupyter-widgets/controls",
      "model_module_version": "1.5.0",
      "model_name": "HTMLModel",
      "state": {
       "layout": "IPY_MODEL_20b05c37e7084c8db196d299c54beec3",
       "style": "IPY_MODEL_b38001b8ab4e43bab7caf51b2d482934",
       "value": "<i>Wählen Sie die <ins>eine</ins> korrekte Antwort aus: </i>"
      }
     },
     "7e6953b7dee344029742ba96800e0de4": {
      "model_module": "@jupyter-widgets/controls",
      "model_module_version": "1.5.0",
      "model_name": "CheckboxModel",
      "state": {
       "description": "FS0 = [CAT = N, GEN = MASK], FS1 = [CAT = N]",
       "disabled": false,
       "layout": "IPY_MODEL_b04e839788054433bf2aad67555095f2",
       "style": "IPY_MODEL_34ba2b3c3dd24eabb7467f76d776d200",
       "value": false
      }
     },
     "7e787ae3270c47b896e3c04490e0e029": {
      "model_module": "@jupyter-widgets/base",
      "model_module_version": "1.2.0",
      "model_name": "LayoutModel",
      "state": {
       "width": "600px"
      }
     },
     "7e7bf3e7285d4cab96328868f5da9fa3": {
      "model_module": "@jupyter-widgets/base",
      "model_module_version": "1.2.0",
      "model_name": "LayoutModel",
      "state": {
       "width": "600px"
      }
     },
     "7e990f8a9de4474b9840d1a01d6ee912": {
      "model_module": "@jupyter-widgets/controls",
      "model_module_version": "1.5.0",
      "model_name": "DescriptionStyleModel",
      "state": {
       "description_width": ""
      }
     },
     "7ead2f34408d44adb82dec69e138ea97": {
      "model_module": "@jupyter-widgets/controls",
      "model_module_version": "1.5.0",
      "model_name": "ButtonModel",
      "state": {
       "description": "Time",
       "layout": "IPY_MODEL_e89c2879cdd34917ba355408e447c40f",
       "style": "IPY_MODEL_c200fabd28324104b8ecd7f7cfa0eadb"
      }
     },
     "7f47236a5ab547d59d054f7a306e4e3d": {
      "model_module": "@jupyter-widgets/base",
      "model_module_version": "1.2.0",
      "model_name": "LayoutModel",
      "state": {}
     },
     "7f508248afe84ef3aacf667aa3aa7267": {
      "model_module": "@jupyter-widgets/base",
      "model_module_version": "1.2.0",
      "model_name": "LayoutModel",
      "state": {
       "width": "250px"
      }
     },
     "7f59d060dfdb4b95904860cf729e8fbc": {
      "model_module": "@jupyter-widgets/base",
      "model_module_version": "1.2.0",
      "model_name": "LayoutModel",
      "state": {
       "width": "250px"
      }
     },
     "7f717e182b914698824bf751c29f6555": {
      "model_module": "@jupyter-widgets/controls",
      "model_module_version": "1.5.0",
      "model_name": "VBoxModel",
      "state": {
       "children": [
        "IPY_MODEL_1689ddbfd44c4c0aaa22f395008138c0",
        "IPY_MODEL_813f0a8b23314732bd682ccb2fd8d2e0",
        "IPY_MODEL_2ea6be1310d948369164c622508a9a03"
       ],
       "layout": "IPY_MODEL_f602cbecff824beaa10e6ffc12c7dd62"
      }
     },
     "7f7b4c51c0774a54bf2551c38e8ae7db": {
      "model_module": "@jupyter-widgets/controls",
      "model_module_version": "1.5.0",
      "model_name": "ButtonStyleModel",
      "state": {}
     },
     "7fc3898887e24cc092ce023c78cd2473": {
      "model_module": "@jupyter-widgets/controls",
      "model_module_version": "1.5.0",
      "model_name": "HBoxModel",
      "state": {
       "children": [
        "IPY_MODEL_2fb385dc2c25450495757b2b889b9d82"
       ],
       "layout": "IPY_MODEL_8ea722be67064898833e0c4140762af2"
      }
     },
     "7fd2d90c84a44a5fa6651607af29a3db": {
      "model_module": "@jupyter-widgets/controls",
      "model_module_version": "1.5.0",
      "model_name": "HTMLModel",
      "state": {
       "layout": "IPY_MODEL_eb96b8a7e8784adf9170afb5555dfb0e",
       "style": "IPY_MODEL_8adda580174247a485ee49c6afba181b",
       "value": "<i>Wählen Sie die <ins>eine</ins> korrekte Antwort aus: </i>"
      }
     },
     "7fd4a2db6bd24168ade2351b7fdf81e5": {
      "model_module": "@jupyter-widgets/base",
      "model_module_version": "1.2.0",
      "model_name": "LayoutModel",
      "state": {}
     },
     "803d3b0674fe44b2bf48cb43c9791d63": {
      "model_module": "@jupyter-widgets/controls",
      "model_module_version": "1.5.0",
      "model_name": "DescriptionStyleModel",
      "state": {
       "description_width": ""
      }
     },
     "805489e8724643c6a365cd85bd369f59": {
      "model_module": "@jupyter-widgets/base",
      "model_module_version": "1.2.0",
      "model_name": "LayoutModel",
      "state": {}
     },
     "8087fc0a0bd846f8837c200e2f0394f2": {
      "model_module": "@jupyter-widgets/base",
      "model_module_version": "1.2.0",
      "model_name": "LayoutModel",
      "state": {}
     },
     "80adc789c03045dcbb1d806ae484e78a": {
      "model_module": "@jupyter-widgets/base",
      "model_module_version": "1.2.0",
      "model_name": "LayoutModel",
      "state": {
       "width": "600px"
      }
     },
     "80aec6bd87724f719d69144dce6c97ca": {
      "model_module": "@jupyter-widgets/controls",
      "model_module_version": "1.5.0",
      "model_name": "ButtonModel",
      "state": {
       "description": "Nein",
       "layout": "IPY_MODEL_f3bc266f47684c1bafaed13a537e0744",
       "style": "IPY_MODEL_91549a7bb03944c886b7c4747f777ab7"
      }
     },
     "80de6ec372374d6eba1948c306a55abe": {
      "model_module": "@jupyter-widgets/controls",
      "model_module_version": "1.5.0",
      "model_name": "CheckboxModel",
      "state": {
       "description": "74; ( 'number', 'address')",
       "disabled": false,
       "layout": "IPY_MODEL_2a270fde71994b129662b2fd53cde85e",
       "style": "IPY_MODEL_ff9214d3bf7544579f2033cb62c80379",
       "value": false
      }
     },
     "80f54efb60294bd2a02d3a5df0b47efa": {
      "model_module": "@jupyter-widgets/controls",
      "model_module_version": "1.5.0",
      "model_name": "HTMLModel",
      "state": {
       "layout": "IPY_MODEL_c7b2bc2bff4f45b5b36a1364aabcdaad",
       "style": "IPY_MODEL_27b6eb003ebb412c9decde3adeba99ff",
       "value": "<h4 style=\"font-size:14px;\">Welche Aussagen gelten für Nominalphrasen mit bestimmtem Artikel?</h4>"
      }
     },
     "8100e22058c24d179f9f6ba383f96642": {
      "model_module": "@jupyter-widgets/controls",
      "model_module_version": "1.5.0",
      "model_name": "ButtonStyleModel",
      "state": {
       "button_color": "lightgreen"
      }
     },
     "812723eec3f6422f9570aa1be41dbc6c": {
      "model_module": "@jupyter-widgets/base",
      "model_module_version": "1.2.0",
      "model_name": "LayoutModel",
      "state": {
       "width": "600px"
      }
     },
     "81273686ffd4488e9819ff124efc64b4": {
      "model_module": "@jupyter-widgets/controls",
      "model_module_version": "1.5.0",
      "model_name": "DescriptionStyleModel",
      "state": {
       "description_width": "initial"
      }
     },
     "813f0a8b23314732bd682ccb2fd8d2e0": {
      "model_module": "@jupyter-widgets/controls",
      "model_module_version": "1.5.0",
      "model_name": "CheckboxModel",
      "state": {
       "description": "74; ( 'number', 'address')",
       "disabled": false,
       "layout": "IPY_MODEL_7a76d324959e43e9a5049fe0d1a357af",
       "style": "IPY_MODEL_82982b51c06a4bc5abf0c70d81602ceb",
       "value": false
      }
     },
     "8147524c854e4e228c95df2231f2a14a": {
      "model_module": "@jupyter-widgets/base",
      "model_module_version": "1.2.0",
      "model_name": "LayoutModel",
      "state": {
       "width": "600px"
      }
     },
     "8154d1a4c9e1466292bbc6b61339c129": {
      "model_module": "@jupyter-widgets/controls",
      "model_module_version": "1.5.0",
      "model_name": "VBoxModel",
      "state": {
       "children": [
        "IPY_MODEL_d144ce27edaf4ea3808a3494c22c542b",
        "IPY_MODEL_4920c0b71a8147489450acad9a9200a4",
        "IPY_MODEL_94c9a4e44451473f98f9ab8d18c53334",
        "IPY_MODEL_de17a523e60a4addb2bf537844e58657"
       ],
       "layout": "IPY_MODEL_37c559d98dc0400abb8f4b03f114de38"
      }
     },
     "816e698f789b48d09b0ea91d1f8069c3": {
      "model_module": "@jupyter-widgets/controls",
      "model_module_version": "1.5.0",
      "model_name": "VBoxModel",
      "state": {
       "children": [
        "IPY_MODEL_0aae039d6fff44b7aa248061e0bb154f",
        "IPY_MODEL_e8836746095d4428ab926516d4e0811b",
        "IPY_MODEL_2e5c69a52d5342969d85c0aedc3c249e",
        "IPY_MODEL_6a394e8d6ae14a439abd76f259c16c0c"
       ],
       "layout": "IPY_MODEL_d2339fe1929d4c8e91fe50a3b1c70907"
      }
     },
     "81a51bdcc77c42bf830257fd57b5a939": {
      "model_module": "@jupyter-widgets/controls",
      "model_module_version": "1.5.0",
      "model_name": "VBoxModel",
      "state": {
       "children": [
        "IPY_MODEL_0869af83aaf94b7a99966b168f9be577",
        "IPY_MODEL_3eb618a07b3048618ed4a445fc433491",
        "IPY_MODEL_903d6d9d8ecb40e6866552d9028b9b98",
        "IPY_MODEL_3ec0618c4fcd4b35a9959a320940fd68"
       ],
       "layout": "IPY_MODEL_8ffaa64fc84e415fb5eb7008f9025f42"
      }
     },
     "81df8917796d482b80602ad353bc8670": {
      "model_module": "@jupyter-widgets/base",
      "model_module_version": "1.2.0",
      "model_name": "LayoutModel",
      "state": {}
     },
     "81e153d15d654c618c75afed77bf0a0b": {
      "model_module": "@jupyter-widgets/controls",
      "model_module_version": "1.5.0",
      "model_name": "DescriptionStyleModel",
      "state": {
       "description_width": ""
      }
     },
     "81eff38a52d441188a701318319320b8": {
      "model_module": "@jupyter-widgets/controls",
      "model_module_version": "1.5.0",
      "model_name": "DescriptionStyleModel",
      "state": {
       "description_width": ""
      }
     },
     "824e52ac6d0a43e29621d872c3610f64": {
      "model_module": "@jupyter-widgets/controls",
      "model_module_version": "1.5.0",
      "model_name": "VBoxModel",
      "state": {
       "children": [
        "IPY_MODEL_944ff61ecd1a43d280171c31643a5421",
        "IPY_MODEL_c8e72b03bf7b49dcadf10b0e35bec241",
        "IPY_MODEL_ded19c9859784684b286c12f8f516757"
       ],
       "layout": "IPY_MODEL_6ae475da75f84b2ba7f960fce9b9f030"
      }
     },
     "82785fd3850e46c68c0968194fe4a768": {
      "model_module": "@jupyter-widgets/base",
      "model_module_version": "1.2.0",
      "model_name": "LayoutModel",
      "state": {}
     },
     "828c969f88474fe4a13b920e77991886": {
      "model_module": "@jupyter-widgets/controls",
      "model_module_version": "1.5.0",
      "model_name": "CheckboxModel",
      "state": {
       "description": "Sie werden aktualisiert.",
       "disabled": false,
       "layout": "IPY_MODEL_cb2c5f0c8dea45c9b64db3d95b27a72c",
       "style": "IPY_MODEL_d0790ed05e91435eb6a6d2bbf83fea08",
       "value": false
      }
     },
     "828c9dee796344c78bc39e3148955217": {
      "model_module": "@jupyter-widgets/base",
      "model_module_version": "1.2.0",
      "model_name": "LayoutModel",
      "state": {}
     },
     "82982b51c06a4bc5abf0c70d81602ceb": {
      "model_module": "@jupyter-widgets/controls",
      "model_module_version": "1.5.0",
      "model_name": "DescriptionStyleModel",
      "state": {
       "description_width": "initial"
      }
     },
     "829b0a6ca9b348258320c390bf1c83d1": {
      "model_module": "@jupyter-widgets/base",
      "model_module_version": "1.2.0",
      "model_name": "LayoutModel",
      "state": {
       "width": "250px"
      }
     },
     "82a7cc91cfbf47798f5ea04799d04526": {
      "model_module": "@jupyter-widgets/controls",
      "model_module_version": "1.5.0",
      "model_name": "HBoxModel",
      "state": {
       "children": [
        "IPY_MODEL_6f2f01d9546f4e74a4da219083d52491"
       ],
       "layout": "IPY_MODEL_495944c4a50f4767949a3c6ee695f109"
      }
     },
     "82c8e0d8219543449e681efddf7c3f88": {
      "model_module": "@jupyter-widgets/base",
      "model_module_version": "1.2.0",
      "model_name": "LayoutModel",
      "state": {
       "width": "600px"
      }
     },
     "830540ce4be94f77be3d196db0665df0": {
      "model_module": "@jupyter-widgets/controls",
      "model_module_version": "1.5.0",
      "model_name": "CheckboxModel",
      "state": {
       "description": "Passivierung (Objekt-Promotion)",
       "disabled": false,
       "layout": "IPY_MODEL_745ee0ea40aa48f3b863682b0ecb4bbf",
       "style": "IPY_MODEL_f217a5ce3548433387ff136427f886d5",
       "value": true
      }
     },
     "83070f6201804b479f318579aacdede4": {
      "model_module": "@jupyter-widgets/controls",
      "model_module_version": "1.5.0",
      "model_name": "DescriptionStyleModel",
      "state": {
       "description_width": ""
      }
     },
     "830f1328bdd44b02a0d8c5592d6a358b": {
      "model_module": "@jupyter-widgets/controls",
      "model_module_version": "1.5.0",
      "model_name": "HBoxModel",
      "state": {
       "children": [
        "IPY_MODEL_8468bf3c84514879b3689f536375e541",
        "IPY_MODEL_526d177653a3431ba89c2c6668722200"
       ],
       "layout": "IPY_MODEL_c62d196fe6394d6cb66bb544f8926dd9"
      }
     },
     "8341377c140f404aa6adb33af2fa4a8b": {
      "model_module": "@jupyter-widgets/base",
      "model_module_version": "1.2.0",
      "model_name": "LayoutModel",
      "state": {
       "width": "600px"
      }
     },
     "83450d15d0874668a02b5889932a86e2": {
      "model_module": "@jupyter-widgets/controls",
      "model_module_version": "1.5.0",
      "model_name": "CheckboxModel",
      "state": {
       "description": "Sie werden neu eingefügt.",
       "disabled": false,
       "layout": "IPY_MODEL_3d73d505ffb34d3288122d146be67112",
       "style": "IPY_MODEL_11bb4e8bca314b65a34e35f0cd6b4000",
       "value": false
      }
     },
     "839472f84f0148beac3bf8440c9887b0": {
      "model_module": "@jupyter-widgets/controls",
      "model_module_version": "1.5.0",
      "model_name": "VBoxModel",
      "state": {
       "children": [
        "IPY_MODEL_fa510aafc29347f29f41c863aa9e4773",
        "IPY_MODEL_32ef8b8492ac4899b631080cbf5f6b7e",
        "IPY_MODEL_b7830287ed8e482cb1a40a6aa1bad42d",
        "IPY_MODEL_13fb2343c5d2486a9e5cff87a1c69c26"
       ],
       "layout": "IPY_MODEL_f62f6694d08945bb882e7e8ef7bd456a"
      }
     },
     "83bbb55066094bc8b6e6f22bc7502a1d": {
      "model_module": "@jupyter-widgets/controls",
      "model_module_version": "1.5.0",
      "model_name": "ButtonStyleModel",
      "state": {}
     },
     "83d2665935af4be4891e6e21e8d94446": {
      "model_module": "@jupyter-widgets/base",
      "model_module_version": "1.2.0",
      "model_name": "LayoutModel",
      "state": {}
     },
     "83d9e781c9b1491d8a6e0ecb7e92e301": {
      "model_module": "@jupyter-widgets/controls",
      "model_module_version": "1.5.0",
      "model_name": "ButtonStyleModel",
      "state": {}
     },
     "83ea38f384ca40b4a68483a5b1446ade": {
      "model_module": "@jupyter-widgets/controls",
      "model_module_version": "1.5.0",
      "model_name": "DescriptionStyleModel",
      "state": {
       "description_width": ""
      }
     },
     "841d01efcc9e48dc8e60cd1ea9c54d95": {
      "model_module": "@jupyter-widgets/controls",
      "model_module_version": "1.5.0",
      "model_name": "DescriptionStyleModel",
      "state": {
       "description_width": ""
      }
     },
     "84331ffe8617410e9140dafc3ad59027": {
      "model_module": "@jupyter-widgets/controls",
      "model_module_version": "1.5.0",
      "model_name": "HTMLModel",
      "state": {
       "layout": "IPY_MODEL_caff36fceeed4ea2bf6f4b27ce56ea2f",
       "style": "IPY_MODEL_660cd054dcc54a97afc11a089a99c7b3",
       "value": "<i>Markieren Sie <ins>alle</ins> passenden Antworten: </i>"
      }
     },
     "843d45bfa8f04b9f92b26bbc62a16171": {
      "model_module": "@jupyter-widgets/base",
      "model_module_version": "1.2.0",
      "model_name": "LayoutModel",
      "state": {
       "width": "250px"
      }
     },
     "845fb393c5564eeabd0923f84ca8dfb0": {
      "model_module": "@jupyter-widgets/base",
      "model_module_version": "1.2.0",
      "model_name": "LayoutModel",
      "state": {
       "width": "250px"
      }
     },
     "8466ccf6f3a4414e9995a0efc0e0f86a": {
      "model_module": "@jupyter-widgets/base",
      "model_module_version": "1.2.0",
      "model_name": "LayoutModel",
      "state": {
       "width": "600px"
      }
     },
     "8468bf3c84514879b3689f536375e541": {
      "model_module": "@jupyter-widgets/controls",
      "model_module_version": "1.5.0",
      "model_name": "ButtonModel",
      "state": {
       "description": "schwache Deklination",
       "layout": "IPY_MODEL_d412a0bc873b453db7e86a32885ccba3",
       "style": "IPY_MODEL_0c70507734ef406c9d5eeb60ef928253"
      }
     },
     "84921adfadb94b2da1cfbf39608fcb28": {
      "model_module": "@jupyter-widgets/controls",
      "model_module_version": "1.5.0",
      "model_name": "DescriptionStyleModel",
      "state": {
       "description_width": ""
      }
     },
     "84dddfdd08db4e7d9d6aa406abe81c04": {
      "model_module": "@jupyter-widgets/base",
      "model_module_version": "1.2.0",
      "model_name": "LayoutModel",
      "state": {
       "width": "600px"
      }
     },
     "84ec93b43a10470089219fa189529d72": {
      "model_module": "@jupyter-widgets/base",
      "model_module_version": "1.2.0",
      "model_name": "LayoutModel",
      "state": {}
     },
     "8572b2bffe064681a56c735895094497": {
      "model_module": "@jupyter-widgets/base",
      "model_module_version": "1.2.0",
      "model_name": "LayoutModel",
      "state": {
       "width": "250px"
      }
     },
     "8585ed38dd444173b9b218587258bbae": {
      "model_module": "@jupyter-widgets/controls",
      "model_module_version": "1.5.0",
      "model_name": "HTMLModel",
      "state": {
       "layout": "IPY_MODEL_9a1a8aac7ebd49a5bb25d01cc3341bab",
       "style": "IPY_MODEL_55dec04649af4f6ba83f8c6330fcf879",
       "value": "<i>Wählen Sie die <ins>eine</ins> korrekte Antwort aus: </i>"
      }
     },
     "85946ce48af9459aa3b99722fc011fbd": {
      "model_module": "@jupyter-widgets/controls",
      "model_module_version": "1.5.0",
      "model_name": "CheckboxModel",
      "state": {
       "description": "Sie werden aus der Eingabe extrahiert (feature extraction)",
       "disabled": false,
       "layout": "IPY_MODEL_5d50055d8c73460891c67453d55b1256",
       "style": "IPY_MODEL_5cb0e1179d8142c08de8e252a5bf83a3",
       "value": true
      }
     },
     "85d83af1f4ac4a7390c4d20c10ac8315": {
      "model_module": "@jupyter-widgets/base",
      "model_module_version": "1.2.0",
      "model_name": "LayoutModel",
      "state": {}
     },
     "8621dd5d22da4ed68e180da102a15e11": {
      "model_module": "@jupyter-widgets/base",
      "model_module_version": "1.2.0",
      "model_name": "LayoutModel",
      "state": {
       "width": "600px"
      }
     },
     "8633a58a8ccf48dd8cab365baa49ad76": {
      "model_module": "@jupyter-widgets/controls",
      "model_module_version": "1.5.0",
      "model_name": "HBoxModel",
      "state": {
       "children": [
        "IPY_MODEL_3ad097f0188f4b33a45ee2cf01c81a20"
       ],
       "layout": "IPY_MODEL_61925dd980dc499fa120601d405c7b87"
      }
     },
     "863d141d1908438c9b53908eadd0d43e": {
      "model_module": "@jupyter-widgets/controls",
      "model_module_version": "1.5.0",
      "model_name": "HTMLModel",
      "state": {
       "layout": "IPY_MODEL_af057ab5f44f4c3da5f653d22ad94016",
       "style": "IPY_MODEL_4c515db9c767417ca90ff825707eb678",
       "value": "<h4 style=\"font-size:14px;\">Im Falle, dass im Zuge einer Unifikation Informationen zum Wert eines Pfades x hinzugefügt werden, wie verändern sich die Werte aller zu x äquivalenten Pfade?</h4>"
      }
     },
     "8641348ea8304455b64f70f5c38b1831": {
      "model_module": "@jupyter-widgets/controls",
      "model_module_version": "1.5.0",
      "model_name": "DropdownModel",
      "state": {
       "_options_labels": [
        "Adverbiale",
        "Nomen",
        "Personalpronomina",
        " "
       ],
       "index": 2,
       "layout": "IPY_MODEL_08395e706d164f21bfba56318a94a159",
       "style": "IPY_MODEL_d90080a69f3c435e89a70e630f0b2d9b"
      }
     },
     "865e13c0ad714678989aa287a78de063": {
      "model_module": "@jupyter-widgets/base",
      "model_module_version": "1.2.0",
      "model_name": "LayoutModel",
      "state": {}
     },
     "867dcb0910284421b9e34d00ced5b179": {
      "model_module": "@jupyter-widgets/base",
      "model_module_version": "1.2.0",
      "model_name": "LayoutModel",
      "state": {
       "width": "250px"
      }
     },
     "868e9d28a13d44e081a97518f74692d5": {
      "model_module": "@jupyter-widgets/controls",
      "model_module_version": "1.5.0",
      "model_name": "DescriptionStyleModel",
      "state": {
       "description_width": ""
      }
     },
     "86904055dd964d908434da7d9c62b025": {
      "model_module": "@jupyter-widgets/controls",
      "model_module_version": "1.5.0",
      "model_name": "VBoxModel",
      "state": {
       "children": [
        "IPY_MODEL_999066d979e0405da6c1e113c306a988",
        "IPY_MODEL_4ac4b5944cd3434c9662f09592201201",
        "IPY_MODEL_e11152eb12c4461c81bd81c5be29e7f7",
        "IPY_MODEL_d12ebe2113f64977b7889419c7b1c4fd",
        "IPY_MODEL_ab84f0256c2b4580a792d1e22709fbc2",
        "IPY_MODEL_6403d5223e294981aeed208ca1645fc2"
       ],
       "layout": "IPY_MODEL_9c8d1befcba141e3825ac9458aacc8ba"
      }
     },
     "86a7d0a8caef459b8c6d2170baf5d1a9": {
      "model_module": "@jupyter-widgets/base",
      "model_module_version": "1.2.0",
      "model_name": "LayoutModel",
      "state": {
       "width": "600px"
      }
     },
     "86a88f89c92541ce9f3b9508e8ce5746": {
      "model_module": "@jupyter-widgets/controls",
      "model_module_version": "1.5.0",
      "model_name": "CheckboxModel",
      "state": {
       "description": "74; ('address', 'number')",
       "disabled": false,
       "layout": "IPY_MODEL_2668ee21334c4108a3656f144323e57e",
       "style": "IPY_MODEL_87e3aefb9a5345a0899a90ceaedbb853",
       "value": true
      }
     },
     "86ad6a0c0bb6448ea0935508138f3f0f": {
      "model_module": "@jupyter-widgets/base",
      "model_module_version": "1.2.0",
      "model_name": "LayoutModel",
      "state": {}
     },
     "86d738f9544f49a39ee717286bbaee17": {
      "model_module": "@jupyter-widgets/controls",
      "model_module_version": "1.5.0",
      "model_name": "ButtonModel",
      "state": {
       "description": "Korrekt?",
       "layout": "IPY_MODEL_b726b4157ff04437b7f98c84e149a71e",
       "style": "IPY_MODEL_4cd1b9d702604456b35358ff2515e694"
      }
     },
     "86ddf85dd83b48738a78766e9ed7e64a": {
      "model_module": "@jupyter-widgets/controls",
      "model_module_version": "1.5.0",
      "model_name": "CheckboxModel",
      "state": {
       "description": "Es ist undefiniert.",
       "disabled": false,
       "layout": "IPY_MODEL_8466ccf6f3a4414e9995a0efc0e0f86a",
       "style": "IPY_MODEL_7216a2d4d2744a6891338ce53ef9b512",
       "value": false
      }
     },
     "87302441b6604aae835f15d2277111a4": {
      "model_module": "@jupyter-widgets/controls",
      "model_module_version": "1.5.0",
      "model_name": "VBoxModel",
      "state": {
       "children": [
        "IPY_MODEL_136cd6c5e54d47c4b79d955c859a402a",
        "IPY_MODEL_4e985179d0664740bfb31e43464535bf",
        "IPY_MODEL_64f3716a0c0d43e3b39d39876d858a4d",
        "IPY_MODEL_485a732cef534ac3a401f0a211d2f94a"
       ],
       "layout": "IPY_MODEL_275b0e311e8e41f59653816f2e9c93ba"
      }
     },
     "8735e728ace146e5a92e17d6e236ec71": {
      "model_module": "@jupyter-widgets/controls",
      "model_module_version": "1.5.0",
      "model_name": "DescriptionStyleModel",
      "state": {
       "description_width": ""
      }
     },
     "8740f63ccdf24115954240b5466a145c": {
      "model_module": "@jupyter-widgets/base",
      "model_module_version": "1.2.0",
      "model_name": "LayoutModel",
      "state": {}
     },
     "875102c2a92645ce938a95fed2635a9e": {
      "model_module": "@jupyter-widgets/base",
      "model_module_version": "1.2.0",
      "model_name": "LayoutModel",
      "state": {}
     },
     "8778d25ce70440558b998d575f3405fe": {
      "model_module": "@jupyter-widgets/controls",
      "model_module_version": "1.5.0",
      "model_name": "DescriptionStyleModel",
      "state": {
       "description_width": ""
      }
     },
     "87d5d82819b245f3b67062b474be7ac0": {
      "model_module": "@jupyter-widgets/controls",
      "model_module_version": "1.5.0",
      "model_name": "ButtonStyleModel",
      "state": {
       "button_color": "lightgreen"
      }
     },
     "87e0c37d01594955aa7ab0f7a62c81d5": {
      "model_module": "@jupyter-widgets/base",
      "model_module_version": "1.2.0",
      "model_name": "LayoutModel",
      "state": {}
     },
     "87e3aefb9a5345a0899a90ceaedbb853": {
      "model_module": "@jupyter-widgets/controls",
      "model_module_version": "1.5.0",
      "model_name": "DescriptionStyleModel",
      "state": {
       "description_width": "initial"
      }
     },
     "87e7053aba6249178683baed2d68df79": {
      "model_module": "@jupyter-widgets/controls",
      "model_module_version": "1.5.0",
      "model_name": "DescriptionStyleModel",
      "state": {
       "description_width": ""
      }
     },
     "883e9c6942404d8eac37147f8747b36e": {
      "model_module": "@jupyter-widgets/base",
      "model_module_version": "1.2.0",
      "model_name": "LayoutModel",
      "state": {
       "width": "250px"
      }
     },
     "88418773ea4e4b23a11e1eb36a518296": {
      "model_module": "@jupyter-widgets/base",
      "model_module_version": "1.2.0",
      "model_name": "LayoutModel",
      "state": {
       "width": "600px"
      }
     },
     "884f5f016df7409b975d00b07bc0fc45": {
      "model_module": "@jupyter-widgets/controls",
      "model_module_version": "1.5.0",
      "model_name": "HBoxModel",
      "state": {
       "children": [
        "IPY_MODEL_3a8ddabaac614237a10b3591bc0bd5f0",
        "IPY_MODEL_5e01d17ecd26444faabd7b8914acff7e"
       ],
       "layout": "IPY_MODEL_59e669d5d9e040f2b352e58f6af1a0d7"
      }
     },
     "88a1c35c5de34e118dc466ffbde71ff6": {
      "model_module": "@jupyter-widgets/controls",
      "model_module_version": "1.5.0",
      "model_name": "VBoxModel",
      "state": {
       "children": [
        "IPY_MODEL_c2e172d70ec64ccbbdcf985b25e5af3c",
        "IPY_MODEL_1042ef7a260844bfbedaafdf5fc2a6a3",
        "IPY_MODEL_ac23cc0feab14d67a508a32965f4e5dc",
        "IPY_MODEL_3d835379dcdf4f32bfee453be5cbf4e8"
       ],
       "layout": "IPY_MODEL_ffce896a47f54d90a19f07a6a9c8b8b1"
      }
     },
     "88a51a2bf123425faaced057f5380021": {
      "model_module": "@jupyter-widgets/controls",
      "model_module_version": "1.5.0",
      "model_name": "DescriptionStyleModel",
      "state": {
       "description_width": "initial"
      }
     },
     "88b2f8eb594a4d5580f95fb84437ea85": {
      "model_module": "@jupyter-widgets/base",
      "model_module_version": "1.2.0",
      "model_name": "LayoutModel",
      "state": {
       "width": "600px"
      }
     },
     "88bc8ba43da64436b1248bc29ff3a1f5": {
      "model_module": "@jupyter-widgets/controls",
      "model_module_version": "1.5.0",
      "model_name": "ButtonModel",
      "state": {
       "description": "tuple",
       "layout": "IPY_MODEL_5bd016ac335d406eb17de76e46e07485",
       "style": "IPY_MODEL_a47195bdbbc84a45b76675a3efd4d9b7"
      }
     },
     "88d7ccd3c08147d3b4db63eda0aeab56": {
      "model_module": "@jupyter-widgets/controls",
      "model_module_version": "1.5.0",
      "model_name": "ButtonStyleModel",
      "state": {
       "button_color": "lightgreen"
      }
     },
     "88ed8c00d1f14f04be13e03129ae6f0e": {
      "model_module": "@jupyter-widgets/controls",
      "model_module_version": "1.5.0",
      "model_name": "ButtonModel",
      "state": {
       "description": "Recipient",
       "layout": "IPY_MODEL_ca45610067e64ca09153598f42fbd2d4",
       "style": "IPY_MODEL_b2264582a3f64f1380a463cf9b668c27"
      }
     },
     "88fc05392a5d4a9197223cc7ae673a28": {
      "model_module": "@jupyter-widgets/base",
      "model_module_version": "1.2.0",
      "model_name": "LayoutModel",
      "state": {
       "width": "600px"
      }
     },
     "8905b407a0c141fa9981fe605b0dc0b5": {
      "model_module": "@jupyter-widgets/base",
      "model_module_version": "1.2.0",
      "model_name": "LayoutModel",
      "state": {
       "width": "600px"
      }
     },
     "890da98986144206b24b0c3484c4b157": {
      "model_module": "@jupyter-widgets/controls",
      "model_module_version": "1.5.0",
      "model_name": "CheckboxModel",
      "state": {
       "description": "Sie werden aus der Eingabe extrahiert (feature extraction)",
       "disabled": false,
       "layout": "IPY_MODEL_1529cf582c0044e684f05e97b00fdb34",
       "style": "IPY_MODEL_2bfa3eec9148453aaf0286939c2228ba",
       "value": false
      }
     },
     "891a377be8a840558d109cb05f759efc": {
      "model_module": "@jupyter-widgets/controls",
      "model_module_version": "1.5.0",
      "model_name": "HTMLModel",
      "state": {
       "layout": "IPY_MODEL_985ac1ad608c4b9c8913cf8f2950bc93",
       "style": "IPY_MODEL_ecee24d62cfb421586e8640a977bcf3a",
       "value": "<h4 style=\"font-size:14px;\">Was passiert nach semantischer Hierarchie, wenn kein Agens vorhanden ist?</h4>"
      }
     },
     "891ba128f0de48c8b50f90b055421eb7": {
      "model_module": "@jupyter-widgets/controls",
      "model_module_version": "1.5.0",
      "model_name": "ButtonStyleModel",
      "state": {
       "button_color": "lightgreen"
      }
     },
     "896e606f25ec4f89a993682b422908d0": {
      "model_module": "@jupyter-widgets/base",
      "model_module_version": "1.2.0",
      "model_name": "LayoutModel",
      "state": {
       "width": "250px"
      }
     },
     "897a8b9a306243c7b12c1b31a33a434b": {
      "model_module": "@jupyter-widgets/controls",
      "model_module_version": "1.5.0",
      "model_name": "HTMLModel",
      "state": {
       "layout": "IPY_MODEL_a046ffbdc3034d2191c9213c0dc9f920",
       "style": "IPY_MODEL_70c9ad36a04640c5b4e4ca442fcad830",
       "value": "<h4 style=\"font-size:14px;\">Für die Deklination ist hier relevant, ob das Adjektiv mit einem ____________ Artikel auftritt oder nicht.</h4>"
      }
     },
     "899e2018a3294bfd880a7d9055273d66": {
      "model_module": "@jupyter-widgets/controls",
      "model_module_version": "1.5.0",
      "model_name": "DescriptionStyleModel",
      "state": {
       "description_width": "initial"
      }
     },
     "89d23efab4da4dd89ff0f262fa9db3c8": {
      "model_module": "@jupyter-widgets/controls",
      "model_module_version": "1.5.0",
      "model_name": "DescriptionStyleModel",
      "state": {
       "description_width": "initial"
      }
     },
     "89d675587d424bf29638bfcf779a38e8": {
      "model_module": "@jupyter-widgets/controls",
      "model_module_version": "1.5.0",
      "model_name": "DescriptionStyleModel",
      "state": {
       "description_width": ""
      }
     },
     "89f76f9cb84a41c8988bfd0d9b58156d": {
      "model_module": "@jupyter-widgets/controls",
      "model_module_version": "1.5.0",
      "model_name": "DescriptionStyleModel",
      "state": {
       "description_width": ""
      }
     },
     "8a0afe1faebd42e8ad111b263126f6fd": {
      "model_module": "@jupyter-widgets/controls",
      "model_module_version": "1.5.0",
      "model_name": "CheckboxModel",
      "state": {
       "description": "Ausrichtung der Empathie",
       "disabled": false,
       "layout": "IPY_MODEL_f5bd6b64e0fc46b28467ad4181a428cc",
       "style": "IPY_MODEL_1cb0d82f3947483794c5026829b00f9b",
       "value": true
      }
     },
     "8a2445c7d9d74a5e8081bb906b8b16db": {
      "model_module": "@jupyter-widgets/base",
      "model_module_version": "1.2.0",
      "model_name": "LayoutModel",
      "state": {
       "width": "600px"
      }
     },
     "8a38d64a26dd44f5b9eaf8237383f5b5": {
      "model_module": "@jupyter-widgets/base",
      "model_module_version": "1.2.0",
      "model_name": "LayoutModel",
      "state": {
       "justify_content": "center"
      }
     },
     "8a4aad3d92bc46708c2cb48078888562": {
      "model_module": "@jupyter-widgets/controls",
      "model_module_version": "1.5.0",
      "model_name": "DescriptionStyleModel",
      "state": {
       "description_width": ""
      }
     },
     "8a4f48921d1140e2951aa4f1961a21bc": {
      "model_module": "@jupyter-widgets/controls",
      "model_module_version": "1.5.0",
      "model_name": "DescriptionStyleModel",
      "state": {
       "description_width": ""
      }
     },
     "8a54163368e841aba53305f27a7a81e8": {
      "model_module": "@jupyter-widgets/base",
      "model_module_version": "1.2.0",
      "model_name": "LayoutModel",
      "state": {}
     },
     "8a704d7a23ba4cada81ec8e2ba5ae1d2": {
      "model_module": "@jupyter-widgets/controls",
      "model_module_version": "1.5.0",
      "model_name": "DescriptionStyleModel",
      "state": {
       "description_width": "initial"
      }
     },
     "8ab4b7f8d1d346fe8475c6b5b63833a4": {
      "model_module": "@jupyter-widgets/controls",
      "model_module_version": "1.5.0",
      "model_name": "CheckboxModel",
      "state": {
       "description": "Das Adjektiv übernimmt die Genus- und z.T. die Kasusmarkierung.",
       "disabled": false,
       "layout": "IPY_MODEL_355f331183164914a77cc514bcce5cb2",
       "style": "IPY_MODEL_0e7d669715084725bc6c3537ad1d6e45",
       "value": true
      }
     },
     "8ab97e7660a34b6f854ad526755fb375": {
      "model_module": "@jupyter-widgets/controls",
      "model_module_version": "1.5.0",
      "model_name": "DescriptionStyleModel",
      "state": {
       "description_width": ""
      }
     },
     "8adda580174247a485ee49c6afba181b": {
      "model_module": "@jupyter-widgets/controls",
      "model_module_version": "1.5.0",
      "model_name": "DescriptionStyleModel",
      "state": {
       "description_width": ""
      }
     },
     "8af64d4f411248a0b170a0a18b784715": {
      "model_module": "@jupyter-widgets/controls",
      "model_module_version": "1.5.0",
      "model_name": "DescriptionStyleModel",
      "state": {
       "description_width": "initial"
      }
     },
     "8b34db9a8379436f987e9a17f342398b": {
      "model_module": "@jupyter-widgets/controls",
      "model_module_version": "1.5.0",
      "model_name": "DescriptionStyleModel",
      "state": {
       "description_width": ""
      }
     },
     "8b911a5d06d542a6a735be30a0385bfd": {
      "model_module": "@jupyter-widgets/controls",
      "model_module_version": "1.5.0",
      "model_name": "CheckboxModel",
      "state": {
       "description": "Das Adjektiv übernimmt die Endungen des Artikels.",
       "disabled": false,
       "layout": "IPY_MODEL_b787afccfacc4a21926df7a61c02f4d4",
       "style": "IPY_MODEL_096fa9fac16642f09b88edefb71d6b1e",
       "value": true
      }
     },
     "8bb7b2d83a4b4a16a656de82765709af": {
      "model_module": "@jupyter-widgets/controls",
      "model_module_version": "1.5.0",
      "model_name": "DescriptionStyleModel",
      "state": {
       "description_width": "initial"
      }
     },
     "8bcecee543414dbbb6381f4edde213a3": {
      "model_module": "@jupyter-widgets/controls",
      "model_module_version": "1.5.0",
      "model_name": "DescriptionStyleModel",
      "state": {
       "description_width": ""
      }
     },
     "8be059b7e79748c0885f9660dd04c491": {
      "model_module": "@jupyter-widgets/base",
      "model_module_version": "1.2.0",
      "model_name": "LayoutModel",
      "state": {
       "align_content": "stretch",
       "align_items": "stretch",
       "display": "inline-flex",
       "flex": "flex-grow",
       "flex_flow": "row wrap",
       "justify_content": "flex-start"
      }
     },
     "8be4ba6b75f04613aa4e14af26125d8b": {
      "model_module": "@jupyter-widgets/controls",
      "model_module_version": "1.5.0",
      "model_name": "CheckboxModel",
      "state": {
       "description": "FS0 = [CAT = N, GEN = MASK], FS1 = [CAT = N]",
       "disabled": false,
       "layout": "IPY_MODEL_c5fb53a7dae84895831079486dac0f52",
       "style": "IPY_MODEL_19b0ba437b4c48098e799becf9483373",
       "value": false
      }
     },
     "8be8d19a778d468ba530dbfdf0333fe0": {
      "model_module": "@jupyter-widgets/base",
      "model_module_version": "1.2.0",
      "model_name": "LayoutModel",
      "state": {
       "width": "250px"
      }
     },
     "8bee3e5f048743f3a10a5026adf75596": {
      "model_module": "@jupyter-widgets/controls",
      "model_module_version": "1.5.0",
      "model_name": "DescriptionStyleModel",
      "state": {
       "description_width": ""
      }
     },
     "8c1358abfcfb4cfa96598718fe50e301": {
      "model_module": "@jupyter-widgets/base",
      "model_module_version": "1.2.0",
      "model_name": "LayoutModel",
      "state": {}
     },
     "8c3df7e8cc644bf38e50cef16c90f377": {
      "model_module": "@jupyter-widgets/controls",
      "model_module_version": "1.5.0",
      "model_name": "HTMLModel",
      "state": {
       "layout": "IPY_MODEL_2ed73be4089e4809b96944abb4f1dfb0",
       "style": "IPY_MODEL_790c02ed740a4345849e8c3e9869074e",
       "value": "<i>Markieren Sie <ins>alle</ins> passenden Antworten: </i>"
      }
     },
     "8c40937dccd14ed19b007044125e7a11": {
      "model_module": "@jupyter-widgets/base",
      "model_module_version": "1.2.0",
      "model_name": "LayoutModel",
      "state": {
       "width": "600px"
      }
     },
     "8c7bbca280564aea90d46cff89691e31": {
      "model_module": "@jupyter-widgets/controls",
      "model_module_version": "1.5.0",
      "model_name": "CheckboxModel",
      "state": {
       "description": "Variable: <- (1)",
       "disabled": false,
       "layout": "IPY_MODEL_18f64476216a4e62b51b0c9d381d5a03",
       "style": "IPY_MODEL_e7d74594cb414d36b191f645a34005cb",
       "value": false
      }
     },
     "8c855a44e01740b8b97d80a1a8def157": {
      "model_module": "@jupyter-widgets/controls",
      "model_module_version": "1.5.0",
      "model_name": "CheckboxModel",
      "state": {
       "description": "Passivierung (Objekt-Promotion)",
       "disabled": false,
       "layout": "IPY_MODEL_a6f9f017dd2c44e9836c99ed80448b94",
       "style": "IPY_MODEL_f179457852064a64aaffdc59caa7e2ff",
       "value": true
      }
     },
     "8c8691a421a64d6ebcacc79c94ec04c3": {
      "model_module": "@jupyter-widgets/controls",
      "model_module_version": "1.5.0",
      "model_name": "DescriptionStyleModel",
      "state": {
       "description_width": ""
      }
     },
     "8cb0334f82ea4787925e8ca2977ba373": {
      "model_module": "@jupyter-widgets/base",
      "model_module_version": "1.2.0",
      "model_name": "LayoutModel",
      "state": {
       "width": "250px"
      }
     },
     "8ced62cd37304bcdbf760fd2408c6ac8": {
      "model_module": "@jupyter-widgets/base",
      "model_module_version": "1.2.0",
      "model_name": "LayoutModel",
      "state": {
       "width": "250px"
      }
     },
     "8d52c6e57f2b4e66b028feb694cc8e19": {
      "model_module": "@jupyter-widgets/controls",
      "model_module_version": "1.5.0",
      "model_name": "ButtonModel",
      "state": {
       "description": "Locative",
       "layout": "IPY_MODEL_b7087748cdc34275bc4085a010473b92",
       "style": "IPY_MODEL_ebf03b4fce584491a41ba6847a0a8483"
      }
     },
     "8d61953a1f4c4f12838da6b8c84ebf43": {
      "model_module": "@jupyter-widgets/controls",
      "model_module_version": "1.5.0",
      "model_name": "ButtonStyleModel",
      "state": {
       "button_color": "lightgreen"
      }
     },
     "8d84e1fb76d244f7972781b200e462b5": {
      "model_module": "@jupyter-widgets/controls",
      "model_module_version": "1.5.0",
      "model_name": "HBoxModel",
      "state": {
       "children": [
        "IPY_MODEL_1cba83225e6c45c98f1400b3e98133d3",
        "IPY_MODEL_57dfb5d5500941399272fd1460013b52"
       ],
       "layout": "IPY_MODEL_13179967be36401982be2b0f08b99acb"
      }
     },
     "8db8189586c046168960d9c8d6deeb01": {
      "model_module": "@jupyter-widgets/controls",
      "model_module_version": "1.5.0",
      "model_name": "CheckboxModel",
      "state": {
       "description": "Es ist die spezifischere Merkmalsstruktur.",
       "disabled": false,
       "layout": "IPY_MODEL_812723eec3f6422f9570aa1be41dbc6c",
       "style": "IPY_MODEL_1c9f3d3616734d03a031f08d260ac310",
       "value": true
      }
     },
     "8dce96db91d14446a3e7f0d317022a06": {
      "model_module": "@jupyter-widgets/controls",
      "model_module_version": "1.5.0",
      "model_name": "DescriptionStyleModel",
      "state": {
       "description_width": ""
      }
     },
     "8df7e5e90977438ea230b9440766d704": {
      "model_module": "@jupyter-widgets/controls",
      "model_module_version": "1.5.0",
      "model_name": "CheckboxModel",
      "state": {
       "description": "FS0 = [CAT = N, GEN = MASK], FS1 = [CAT = N]",
       "disabled": false,
       "layout": "IPY_MODEL_a140f8804f2c4f8cbc9c92409c71eb4e",
       "style": "IPY_MODEL_1c4da98793ae4be5b2ce75cf6c11a582",
       "value": false
      }
     },
     "8df8c5b381fa48e9a19cf896897f1de6": {
      "model_module": "@jupyter-widgets/base",
      "model_module_version": "1.2.0",
      "model_name": "LayoutModel",
      "state": {
       "justify_content": "center"
      }
     },
     "8e0015b8ccc74ae2bd23fa186593a248": {
      "model_module": "@jupyter-widgets/controls",
      "model_module_version": "1.5.0",
      "model_name": "VBoxModel",
      "state": {
       "children": [
        "IPY_MODEL_4fceae635649424f8d09d99820f3026e",
        "IPY_MODEL_24e9bdc472a640789264b2aaaa210cf3",
        "IPY_MODEL_31c1899d7fbc4ca489154d0eea290bab",
        "IPY_MODEL_d5ce78931ab648059ef22314dc8d43ad"
       ],
       "layout": "IPY_MODEL_92eade8b29564207b83d74e27de37364"
      }
     },
     "8e01c341b063459c8c9059752b99b257": {
      "model_module": "@jupyter-widgets/controls",
      "model_module_version": "1.5.0",
      "model_name": "CheckboxModel",
      "state": {
       "description": "Sie werden neu eingefügt.",
       "disabled": false,
       "layout": "IPY_MODEL_6b5f3c8240d447f2ac10c6369037b20c",
       "style": "IPY_MODEL_30f19f1deead4c52b3fab92ad4a92699",
       "value": false
      }
     },
     "8e13405de2a84c4bb37770aeb340a174": {
      "model_module": "@jupyter-widgets/base",
      "model_module_version": "1.2.0",
      "model_name": "LayoutModel",
      "state": {}
     },
     "8e35c47145b142608c892a35cea4a369": {
      "model_module": "@jupyter-widgets/controls",
      "model_module_version": "1.5.0",
      "model_name": "VBoxModel",
      "state": {
       "children": [
        "IPY_MODEL_e2eed686647e4f2fbde0657a2771d704",
        "IPY_MODEL_b44a891fa7de47ca9825700ebc2816a2",
        "IPY_MODEL_7d6e9954dd594899b8b55be1666e5835",
        "IPY_MODEL_d4cd3262c920443d93c164bf08edcb95"
       ],
       "layout": "IPY_MODEL_357c07e0db5c4344bdb457de01682b66"
      }
     },
     "8e4b82dd44644151a8cea3a3abc1c7be": {
      "model_module": "@jupyter-widgets/controls",
      "model_module_version": "1.5.0",
      "model_name": "ButtonStyleModel",
      "state": {
       "button_color": "lightgreen"
      }
     },
     "8ea6c0c34a0446c18773cb73db58c846": {
      "model_module": "@jupyter-widgets/controls",
      "model_module_version": "1.5.0",
      "model_name": "VBoxModel",
      "state": {
       "children": [
        "IPY_MODEL_0ca0d159e76c4df8819b3a14018284f6",
        "IPY_MODEL_ff0eba5250d64e538f13a036258e25ea",
        "IPY_MODEL_7a624bc083514da9960fd0f671afc88c",
        "IPY_MODEL_4c058e4a62c74f8eb9447ad6a609458e"
       ],
       "layout": "IPY_MODEL_1a75b927c7f24d9cae698fdaf78b48f4"
      }
     },
     "8ea722be67064898833e0c4140762af2": {
      "model_module": "@jupyter-widgets/base",
      "model_module_version": "1.2.0",
      "model_name": "LayoutModel",
      "state": {}
     },
     "8ec534c44c7d43e994487c3fa2c3e279": {
      "model_module": "@jupyter-widgets/controls",
      "model_module_version": "1.5.0",
      "model_name": "DescriptionStyleModel",
      "state": {
       "description_width": ""
      }
     },
     "8ecea5699ca44515b6f41621de15d1fc": {
      "model_module": "@jupyter-widgets/controls",
      "model_module_version": "1.5.0",
      "model_name": "VBoxModel",
      "state": {
       "children": [
        "IPY_MODEL_0598cc694f234836b10c915070be9b1a",
        "IPY_MODEL_ca934669c76944d787d019741a03cd81",
        "IPY_MODEL_b3ad0775625743e38bff32b965ec3b4f",
        "IPY_MODEL_3e10a8f5b37e41b38bb844a2b9152a3c"
       ],
       "layout": "IPY_MODEL_e1f860b8c481464fa55f97fce3cc25d2"
      }
     },
     "8f3f9d1a96ef457d9610c3fd27cb84d1": {
      "model_module": "@jupyter-widgets/controls",
      "model_module_version": "1.5.0",
      "model_name": "ButtonModel",
      "state": {
       "description": "schwache Deklination",
       "layout": "IPY_MODEL_e8be8687d610444c8d51ca441719a00b",
       "style": "IPY_MODEL_a1989ff0cf994f27b42fef52a3d19701"
      }
     },
     "8f51227ff7bb49869a71f2478d53aa09": {
      "model_module": "@jupyter-widgets/base",
      "model_module_version": "1.2.0",
      "model_name": "LayoutModel",
      "state": {}
     },
     "8f794d8c96944ca09c588459c1d916d1": {
      "model_module": "@jupyter-widgets/base",
      "model_module_version": "1.2.0",
      "model_name": "LayoutModel",
      "state": {
       "width": "600px"
      }
     },
     "8f9678c5a3ff4d2d9eef57fcd2942bb2": {
      "model_module": "@jupyter-widgets/base",
      "model_module_version": "1.2.0",
      "model_name": "LayoutModel",
      "state": {}
     },
     "8fac5b2e133c4befacbfeaf7bc3035e7": {
      "model_module": "@jupyter-widgets/controls",
      "model_module_version": "1.5.0",
      "model_name": "CheckboxModel",
      "state": {
       "description": "FS0 = [CAT = N], FS1 = [CAT = N, GEN = MASK]",
       "disabled": false,
       "layout": "IPY_MODEL_7d4fe2d50dfb4209ae2052f252dc0ad7",
       "style": "IPY_MODEL_bf5e11674aac47ca9b6e2accc046d474",
       "value": false
      }
     },
     "8fea2412f27b4fdcbb567728cf8fed47": {
      "model_module": "@jupyter-widgets/controls",
      "model_module_version": "1.5.0",
      "model_name": "CheckboxModel",
      "state": {
       "description": "Der Artikel übernimmt die Genusmarkierung.",
       "disabled": false,
       "layout": "IPY_MODEL_e1bcccd2d0004dba8c20c02e7d9b5e6a",
       "style": "IPY_MODEL_c1fc7592cba74a4ea2c68fe6a8bea8eb",
       "value": true
      }
     },
     "8feb6931ab2943e8a1ad5129ce0d004d": {
      "model_module": "@jupyter-widgets/controls",
      "model_module_version": "1.5.0",
      "model_name": "HTMLModel",
      "state": {
       "layout": "IPY_MODEL_be18e1422ef645f591d38cd1d43657d9",
       "style": "IPY_MODEL_15ac63484dad4e0db3f169562aeded8b",
       "value": "<i>Markieren Sie <ins>alle</ins> passenden Antworten: </i>"
      }
     },
     "8ffa8abe4e01499080e7010d228b23de": {
      "model_module": "@jupyter-widgets/controls",
      "model_module_version": "1.5.0",
      "model_name": "HTMLModel",
      "state": {
       "layout": "IPY_MODEL_1a49ae7fe9ad403fa3f5780227b999f7",
       "style": "IPY_MODEL_68161a91d43f4f1dbe9fbe9945da6690",
       "value": "<i>Wählen Sie die <ins>eine</ins> korrekte Antwort aus: </i>"
      }
     },
     "8ffaa64fc84e415fb5eb7008f9025f42": {
      "model_module": "@jupyter-widgets/base",
      "model_module_version": "1.2.0",
      "model_name": "LayoutModel",
      "state": {}
     },
     "902e0f397c05441ebd92c937a3950091": {
      "model_module": "@jupyter-widgets/controls",
      "model_module_version": "1.5.0",
      "model_name": "HTMLModel",
      "state": {
       "layout": "IPY_MODEL_cc785c5898f042bf86b0208d05709765",
       "style": "IPY_MODEL_292b988bd8564079b2f0b15f988f34a3",
       "value": "<h4 style=\"font-size:14px;\">Wie läßt sich im NLTK ein äquivalenter Pfad definieren?</h4>"
      }
     },
     "9031eedfd1584b9e8c30d1364f943027": {
      "model_module": "@jupyter-widgets/controls",
      "model_module_version": "1.5.0",
      "model_name": "CheckboxModel",
      "state": {
       "description": "74; ( 'number', 'address')",
       "disabled": false,
       "layout": "IPY_MODEL_faf9c71d0a1e4971ad50e77c9ed40a30",
       "style": "IPY_MODEL_67a189a4236e45798f15ad09846c3aaa",
       "value": false
      }
     },
     "903d6d9d8ecb40e6866552d9028b9b98": {
      "model_module": "@jupyter-widgets/controls",
      "model_module_version": "1.5.0",
      "model_name": "VBoxModel",
      "state": {
       "children": [
        "IPY_MODEL_4598daf5311a4cf793c8f5fef909e054",
        "IPY_MODEL_3e764b0184674d108316ecbf2da963a7",
        "IPY_MODEL_8e01c341b063459c8c9059752b99b257"
       ],
       "layout": "IPY_MODEL_c0bfacc316eb45dc87ad475a8ad05037"
      }
     },
     "9058fab7c5f94935ae5fc3dde60ca377": {
      "model_module": "@jupyter-widgets/base",
      "model_module_version": "1.2.0",
      "model_name": "LayoutModel",
      "state": {
       "width": "600px"
      }
     },
     "90abc7b1de684680bd57ea5ae26ecba3": {
      "model_module": "@jupyter-widgets/base",
      "model_module_version": "1.2.0",
      "model_name": "LayoutModel",
      "state": {}
     },
     "90fcc8e60a8443bb9f90f87b1d73e926": {
      "model_module": "@jupyter-widgets/controls",
      "model_module_version": "1.5.0",
      "model_name": "CheckboxModel",
      "state": {
       "description": "Perspektivierung",
       "disabled": false,
       "layout": "IPY_MODEL_8c40937dccd14ed19b007044125e7a11",
       "style": "IPY_MODEL_f7b32aa4f6b04153a8d8292cbba65e5e",
       "value": false
      }
     },
     "9118b843490b4cc380ccd9a7597b3869": {
      "model_module": "@jupyter-widgets/controls",
      "model_module_version": "1.5.0",
      "model_name": "CheckboxModel",
      "state": {
       "description": "Das Genus des Adjektivs ist lexikalisch fix definiert.",
       "disabled": false,
       "layout": "IPY_MODEL_d3805d60a8f94632826c15d539c36c7b",
       "style": "IPY_MODEL_1de1e91d42774d2ba30bb7de1e4686e6",
       "value": false
      }
     },
     "91549a7bb03944c886b7c4747f777ab7": {
      "model_module": "@jupyter-widgets/controls",
      "model_module_version": "1.5.0",
      "model_name": "ButtonStyleModel",
      "state": {}
     },
     "9181c38bfbbf4e59bf88e705ae9700fb": {
      "model_module": "@jupyter-widgets/controls",
      "model_module_version": "1.5.0",
      "model_name": "HTMLModel",
      "state": {
       "layout": "IPY_MODEL_60c374b674fd4fc4af7f3b469372ca5d",
       "style": "IPY_MODEL_e28648c290ca4a1bba5c4d1792ed6d1e",
       "value": "<h4 style=\"font-size:14px;\">wird das Adjektiv hier</h4>"
      }
     },
     "91c127e8e40046eb9fa60554366221d8": {
      "model_module": "@jupyter-widgets/base",
      "model_module_version": "1.2.0",
      "model_name": "LayoutModel",
      "state": {
       "width": "600px"
      }
     },
     "91e5bd0acee048bfb553baf6220bbb24": {
      "model_module": "@jupyter-widgets/controls",
      "model_module_version": "1.5.0",
      "model_name": "ButtonModel",
      "state": {
       "description": "Lokativ",
       "layout": "IPY_MODEL_31c8fe0bd2d04d29b42473e25bb8ff5f",
       "style": "IPY_MODEL_7c47f9b543f849d293555a755ad7de79"
      }
     },
     "91eb6f2359614ee683c5dbaa13fbf6c4": {
      "model_module": "@jupyter-widgets/base",
      "model_module_version": "1.2.0",
      "model_name": "LayoutModel",
      "state": {}
     },
     "91f306cfea1b4f9c998f48a40fbfaee3": {
      "model_module": "@jupyter-widgets/controls",
      "model_module_version": "1.5.0",
      "model_name": "DescriptionStyleModel",
      "state": {
       "description_width": "initial"
      }
     },
     "92250e25680f44978999fd998d5681ff": {
      "model_module": "@jupyter-widgets/base",
      "model_module_version": "1.2.0",
      "model_name": "LayoutModel",
      "state": {
       "width": "600px"
      }
     },
     "92663015b5ac4923aafa0025cf5fec66": {
      "model_module": "@jupyter-widgets/base",
      "model_module_version": "1.2.0",
      "model_name": "LayoutModel",
      "state": {
       "width": "600px"
      }
     },
     "9273f7ca7e624cc88e21e2d109826d7f": {
      "model_module": "@jupyter-widgets/controls",
      "model_module_version": "1.5.0",
      "model_name": "CheckboxModel",
      "state": {
       "description": "Der Artikel übernimmt z. T. die Kasusmarkierung.",
       "disabled": false,
       "layout": "IPY_MODEL_ba7ffcb763db49759e11b23db236e54d",
       "style": "IPY_MODEL_a01bd73c5ee84a45bf7395cc673d43e8",
       "value": true
      }
     },
     "927476d7742e4b37aad9e31e512aaa21": {
      "model_module": "@jupyter-widgets/controls",
      "model_module_version": "1.5.0",
      "model_name": "ButtonModel",
      "state": {
       "description": "Korrekt?",
       "layout": "IPY_MODEL_067f8d775ec443f0905d31eaf455e053",
       "style": "IPY_MODEL_960eb0b6aa7b49d4953e9de368a1e34c"
      }
     },
     "927d847bcb81428ca86e3690f3b60824": {
      "model_module": "@jupyter-widgets/base",
      "model_module_version": "1.2.0",
      "model_name": "LayoutModel",
      "state": {
       "justify_content": "center"
      }
     },
     "929778a7ede4403fb857b31ced87bcb7": {
      "model_module": "@jupyter-widgets/controls",
      "model_module_version": "1.5.0",
      "model_name": "ButtonModel",
      "state": {
       "description": "Korrekt?",
       "layout": "IPY_MODEL_6b146226c2694416b8a85db1cdb0f8e2",
       "style": "IPY_MODEL_f95110530d0242f9afbb93caddb18074"
      }
     },
     "92b8b2cba85142109fc34fe84236bfc3": {
      "model_module": "@jupyter-widgets/base",
      "model_module_version": "1.2.0",
      "model_name": "LayoutModel",
      "state": {
       "width": "250px"
      }
     },
     "92bcb9ca14a5478e82dde7e375ec72d4": {
      "model_module": "@jupyter-widgets/controls",
      "model_module_version": "1.5.0",
      "model_name": "HTMLModel",
      "state": {
       "layout": "IPY_MODEL_60c2a44c9a6949ca80ed3613208c8723",
       "style": "IPY_MODEL_1e34b6610caf45b4b7514ee4b815edd8",
       "value": "<i>Wählen Sie die <ins>eine</ins> korrekte Antwort aus: </i>"
      }
     },
     "92bdbd95099842719371088258fb5485": {
      "model_module": "@jupyter-widgets/base",
      "model_module_version": "1.2.0",
      "model_name": "LayoutModel",
      "state": {
       "width": "250px"
      }
     },
     "92ce4de47e854282aa1cd820f33b6f12": {
      "model_module": "@jupyter-widgets/controls",
      "model_module_version": "1.5.0",
      "model_name": "DescriptionStyleModel",
      "state": {
       "description_width": ""
      }
     },
     "92eade8b29564207b83d74e27de37364": {
      "model_module": "@jupyter-widgets/base",
      "model_module_version": "1.2.0",
      "model_name": "LayoutModel",
      "state": {}
     },
     "93048bc92cf34b05b6db5280fdb5587e": {
      "model_module": "@jupyter-widgets/base",
      "model_module_version": "1.2.0",
      "model_name": "LayoutModel",
      "state": {
       "width": "150px"
      }
     },
     "932d254bb3ba43bfbfedee4dc485b185": {
      "model_module": "@jupyter-widgets/controls",
      "model_module_version": "1.5.0",
      "model_name": "CheckboxModel",
      "state": {
       "description": "Sie werden im Vorhinein deklariert (feature lexicon)",
       "disabled": false,
       "layout": "IPY_MODEL_66c7c3de02f4452ebc58c4d5de1b0171",
       "style": "IPY_MODEL_022026b48fb742408947edb662f6e312",
       "value": false
      }
     },
     "934745cff60f4f51a5f19b271cc4c9bc": {
      "model_module": "@jupyter-widgets/controls",
      "model_module_version": "1.5.0",
      "model_name": "DescriptionStyleModel",
      "state": {
       "description_width": ""
      }
     },
     "935b32a298f4456cb3aaa9a608a65d84": {
      "model_module": "@jupyter-widgets/controls",
      "model_module_version": "1.5.0",
      "model_name": "HTMLModel",
      "state": {
       "layout": "IPY_MODEL_62b97cfded7c4a38b62a98b58ad2296a",
       "style": "IPY_MODEL_52888cf267ff4293abaff91aad216325",
       "value": "<h4 style=\"font-size:14px;\">Was ist im zweiten Satz das Subjekt?</h4>"
      }
     },
     "936fbd1d31b74066ab6fa9e7d3353891": {
      "model_module": "@jupyter-widgets/controls",
      "model_module_version": "1.5.0",
      "model_name": "DescriptionStyleModel",
      "state": {
       "description_width": ""
      }
     },
     "93803e6ab1ad44ba94e499f498aeaf10": {
      "model_module": "@jupyter-widgets/controls",
      "model_module_version": "1.5.0",
      "model_name": "HTMLModel",
      "state": {
       "layout": "IPY_MODEL_0393a8b68a124edcb370f6a8ce132def",
       "style": "IPY_MODEL_0b3bec7048c74ba29a4cadde19f76b05",
       "value": "<h4 style=\"font-size:14px;\">Welche Aussagen gelten für den Fall, dass das Adjektiv in einer NP ohne Artikel auftritt? (vgl. <i>altes Bier</i>)</h4>"
      }
     },
     "938c87fbdf4b433497df09a4cfd0c166": {
      "model_module": "@jupyter-widgets/base",
      "model_module_version": "1.2.0",
      "model_name": "LayoutModel",
      "state": {}
     },
     "93b1fcae232242b384cd16f7cdbcf9cc": {
      "model_module": "@jupyter-widgets/base",
      "model_module_version": "1.2.0",
      "model_name": "LayoutModel",
      "state": {
       "width": "600px"
      }
     },
     "93c3cb95dfda435ab3afb08054a66ae7": {
      "model_module": "@jupyter-widgets/controls",
      "model_module_version": "1.5.0",
      "model_name": "HBoxModel",
      "state": {
       "children": [
        "IPY_MODEL_1b801d8085c8445c9fd334255787306f",
        "IPY_MODEL_7b9659af2ed647269444fea27623ef8e"
       ],
       "layout": "IPY_MODEL_4f1cbae722fc431aa0f828530de6f632"
      }
     },
     "93c5a638fb1446b69823dcc398d3e181": {
      "model_module": "@jupyter-widgets/controls",
      "model_module_version": "1.5.0",
      "model_name": "CheckboxModel",
      "state": {
       "description": "'rue Pascal'; ('spouse', 'address', 'street')",
       "disabled": false,
       "layout": "IPY_MODEL_5b4ac2a3f8ec422cab68d8a04f6dbc5c",
       "style": "IPY_MODEL_29e0e4caf5c84f25b9f30432d523d8a6",
       "value": false
      }
     },
     "93cf3d78efbf4fc29c2fb8e2fb9513b7": {
      "model_module": "@jupyter-widgets/controls",
      "model_module_version": "1.5.0",
      "model_name": "ButtonModel",
      "state": {
       "description": "Korrekt?",
       "layout": "IPY_MODEL_96cc7315eadb4938b79f27e8b11dceb7",
       "style": "IPY_MODEL_e8f8885cc24c46148c4f49ccbc449b06"
      }
     },
     "93d944e3386c4d448794084c13aa5923": {
      "model_module": "@jupyter-widgets/controls",
      "model_module_version": "1.5.0",
      "model_name": "HBoxModel",
      "state": {
       "children": [
        "IPY_MODEL_993fd7154c3a4f408e080db379243656",
        "IPY_MODEL_1aefe94dd314417ba132fa9e87e61fe7"
       ],
       "layout": "IPY_MODEL_84ec93b43a10470089219fa189529d72"
      }
     },
     "9416de2538bc4f4aab41a88f39599452": {
      "model_module": "@jupyter-widgets/base",
      "model_module_version": "1.2.0",
      "model_name": "LayoutModel",
      "state": {}
     },
     "941717101cf841589df65c12c899a40a": {
      "model_module": "@jupyter-widgets/controls",
      "model_module_version": "1.5.0",
      "model_name": "ButtonStyleModel",
      "state": {}
     },
     "9417f7e764824b7fac1f25d79b36960b": {
      "model_module": "@jupyter-widgets/controls",
      "model_module_version": "1.5.0",
      "model_name": "ButtonModel",
      "state": {
       "description": "schwache Deklination",
       "layout": "IPY_MODEL_f52a88ea6670438b8299f384e75ad6dd",
       "style": "IPY_MODEL_c2576c18d5f347019b8d691fe8f7a3b6"
      }
     },
     "9424f70f5618488893f25410435df9b2": {
      "model_module": "@jupyter-widgets/controls",
      "model_module_version": "1.5.0",
      "model_name": "CheckboxModel",
      "state": {
       "description": "Es übernimmt immer das Patiens die Subjektfunktion.",
       "disabled": false,
       "layout": "IPY_MODEL_9655b0398df64bcd9bc7a8495e38f6b4",
       "style": "IPY_MODEL_f95ffebc107e40a781cce21c77c40826",
       "value": false
      }
     },
     "943d723ae8cc4319b17a278d7f13a0c9": {
      "model_module": "@jupyter-widgets/base",
      "model_module_version": "1.2.0",
      "model_name": "LayoutModel",
      "state": {}
     },
     "944ff61ecd1a43d280171c31643a5421": {
      "model_module": "@jupyter-widgets/controls",
      "model_module_version": "1.5.0",
      "model_name": "CheckboxModel",
      "state": {
       "description": "Eine rangiedrigere Rolle übernimmt die Subjektfunktion.",
       "disabled": false,
       "layout": "IPY_MODEL_8341377c140f404aa6adb33af2fa4a8b",
       "style": "IPY_MODEL_079a1b4195da413886a0ff62f21d8e59",
       "value": false
      }
     },
     "945043f97cc648ceb33b9fa708fe6664": {
      "model_module": "@jupyter-widgets/base",
      "model_module_version": "1.2.0",
      "model_name": "LayoutModel",
      "state": {
       "justify_content": "center"
      }
     },
     "9451a7967ea24940ac8848b1bbcb8e1b": {
      "model_module": "@jupyter-widgets/base",
      "model_module_version": "1.2.0",
      "model_name": "LayoutModel",
      "state": {}
     },
     "9455d72a535246ae8c1dd52b75fd3a1a": {
      "model_module": "@jupyter-widgets/base",
      "model_module_version": "1.2.0",
      "model_name": "LayoutModel",
      "state": {}
     },
     "94671df215104efdb7b484fb2f5bdc2f": {
      "model_module": "@jupyter-widgets/base",
      "model_module_version": "1.2.0",
      "model_name": "LayoutModel",
      "state": {
       "justify_content": "center"
      }
     },
     "946a707b667243c3a1a0905d30b8f740": {
      "model_module": "@jupyter-widgets/base",
      "model_module_version": "1.2.0",
      "model_name": "LayoutModel",
      "state": {}
     },
     "947d20e8956045bd9de0de5898d4ea86": {
      "model_module": "@jupyter-widgets/base",
      "model_module_version": "1.2.0",
      "model_name": "LayoutModel",
      "state": {
       "width": "600px"
      }
     },
     "948c2ff7ef4b40feb6bdd4819ed4f6df": {
      "model_module": "@jupyter-widgets/base",
      "model_module_version": "1.2.0",
      "model_name": "LayoutModel",
      "state": {
       "width": "250px"
      }
     },
     "94ba0b60da9a4be4b2b3d878c895489e": {
      "model_module": "@jupyter-widgets/controls",
      "model_module_version": "1.5.0",
      "model_name": "HBoxModel",
      "state": {
       "children": [
        "IPY_MODEL_235a901ff5bb4d65b7da209f6b52aa74",
        "IPY_MODEL_3326e731837b41cc91ea04c877c411b7"
       ],
       "layout": "IPY_MODEL_4d1b3413c59d40fdbe14ba56264238a8"
      }
     },
     "94c8fcaece33405693ffa77eabdbbeba": {
      "model_module": "@jupyter-widgets/controls",
      "model_module_version": "1.5.0",
      "model_name": "CheckboxModel",
      "state": {
       "description": "Sie werden gelöscht.",
       "disabled": false,
       "layout": "IPY_MODEL_0f561e3beb1a43bba84e7f7513d158a5",
       "style": "IPY_MODEL_efe6fc7e62754780814f4c87ee76f606",
       "value": false
      }
     },
     "94c9a4e44451473f98f9ab8d18c53334": {
      "model_module": "@jupyter-widgets/controls",
      "model_module_version": "1.5.0",
      "model_name": "HBoxModel",
      "state": {
       "children": [
        "IPY_MODEL_f0c03abc2de348fd9137f3a3c99dd8a2",
        "IPY_MODEL_f91be40a44a341d0acdb90bae5f764a7"
       ],
       "layout": "IPY_MODEL_9ec85e9b209f44ffa024f6fc46aaa2ca"
      }
     },
     "94f310d165f44264a6df8eff158aa0dc": {
      "model_module": "@jupyter-widgets/base",
      "model_module_version": "1.2.0",
      "model_name": "LayoutModel",
      "state": {
       "justify_content": "center"
      }
     },
     "94f6234dbfe648a0a013cff11722d14b": {
      "model_module": "@jupyter-widgets/controls",
      "model_module_version": "1.5.0",
      "model_name": "VBoxModel",
      "state": {
       "children": [
        "IPY_MODEL_da6fa0affdb6454e8c89d0945eb060ec",
        "IPY_MODEL_2f3bf5c95ab0474b92c28ebae2079be9",
        "IPY_MODEL_e99beb7165434242b3da5481ea511e0b"
       ],
       "layout": "IPY_MODEL_18bbdf82281f462c8f2a31f59fbe5cce"
      }
     },
     "9504e7d7860f4a628dfc76ad289ec6d0": {
      "model_module": "@jupyter-widgets/base",
      "model_module_version": "1.2.0",
      "model_name": "LayoutModel",
      "state": {}
     },
     "950928378a7a4001b4a45d25e8ae625e": {
      "model_module": "@jupyter-widgets/controls",
      "model_module_version": "1.5.0",
      "model_name": "ButtonModel",
      "state": {
       "description": "Benefaktiv",
       "layout": "IPY_MODEL_fec35c5620ed4aa5a166a3c6e2fc91df",
       "style": "IPY_MODEL_1c2e10d96a5a44f9805334faf304a17d"
      }
     },
     "95145e6232bf4f60a1e39c8ba0888235": {
      "model_module": "@jupyter-widgets/base",
      "model_module_version": "1.2.0",
      "model_name": "LayoutModel",
      "state": {}
     },
     "95307ca130454aac8f241d78fad84a32": {
      "model_module": "@jupyter-widgets/controls",
      "model_module_version": "1.5.0",
      "model_name": "DescriptionStyleModel",
      "state": {
       "description_width": "initial"
      }
     },
     "9551ec80f539441d8456f8643f4b69bb": {
      "model_module": "@jupyter-widgets/controls",
      "model_module_version": "1.5.0",
      "model_name": "DescriptionStyleModel",
      "state": {
       "description_width": ""
      }
     },
     "9582b2823ecb4046b8e9df38c413896a": {
      "model_module": "@jupyter-widgets/base",
      "model_module_version": "1.2.0",
      "model_name": "LayoutModel",
      "state": {
       "width": "250px"
      }
     },
     "95be9b0c78f94709a32c180be47e85a8": {
      "model_module": "@jupyter-widgets/controls",
      "model_module_version": "1.5.0",
      "model_name": "ButtonStyleModel",
      "state": {}
     },
     "95d66c761ddd4e7d8d1b394e2d6acc0d": {
      "model_module": "@jupyter-widgets/controls",
      "model_module_version": "1.5.0",
      "model_name": "HTMLModel",
      "state": {
       "layout": "IPY_MODEL_bf056cb6205943a5bcd453c410755a13",
       "style": "IPY_MODEL_a439fbe3d4e74ec9be88c9f4dafa3970",
       "value": "<h4 style=\"font-size:14px;\">In Verbindung mit einem</h4>"
      }
     },
     "95d9cf30de0c4d0bbdf5d64df22d84c7": {
      "model_module": "@jupyter-widgets/controls",
      "model_module_version": "1.5.0",
      "model_name": "ButtonModel",
      "state": {
       "description": "starke Deklination",
       "layout": "IPY_MODEL_598cd8e88cf342ab8721636a6809d782",
       "style": "IPY_MODEL_acd154fc6e5c4d2db0ee422c2085009e"
      }
     },
     "95e16a8a8cc1434b95625343760561c1": {
      "model_module": "@jupyter-widgets/base",
      "model_module_version": "1.2.0",
      "model_name": "LayoutModel",
      "state": {}
     },
     "95e855b24f45474389b681d39e3112b4": {
      "model_module": "@jupyter-widgets/controls",
      "model_module_version": "1.5.0",
      "model_name": "CheckboxModel",
      "state": {
       "description": "Das Fehlen des Artikels hat keine Auswirkungen auf das Adjektiv.",
       "disabled": false,
       "layout": "IPY_MODEL_ff509a6316e646c28dc8fedad41ea288",
       "style": "IPY_MODEL_abe60d7943664404b4c73acc8d22a696",
       "value": false
      }
     },
     "9606a3b2e9804318b10bd9153e125eeb": {
      "model_module": "@jupyter-widgets/controls",
      "model_module_version": "1.5.0",
      "model_name": "HTMLModel",
      "state": {
       "layout": "IPY_MODEL_4fb9cf7156b141b29024085fa4041a9a",
       "style": "IPY_MODEL_adf06600861a4b3c8a65529fc6cd15b4",
       "value": "<i>Wählen Sie die <ins>eine</ins> korrekte Antwort aus: </i>"
      }
     },
     "960923f5e68045138d7dbfefb1098f0a": {
      "model_module": "@jupyter-widgets/base",
      "model_module_version": "1.2.0",
      "model_name": "LayoutModel",
      "state": {}
     },
     "960eb0b6aa7b49d4953e9de368a1e34c": {
      "model_module": "@jupyter-widgets/controls",
      "model_module_version": "1.5.0",
      "model_name": "ButtonStyleModel",
      "state": {
       "button_color": "lightgreen"
      }
     },
     "961da1fe1ccd42a49a247d67b93d66c2": {
      "model_module": "@jupyter-widgets/base",
      "model_module_version": "1.2.0",
      "model_name": "LayoutModel",
      "state": {}
     },
     "96399f3b22a04436a8c975a4ffabf054": {
      "model_module": "@jupyter-widgets/controls",
      "model_module_version": "1.5.0",
      "model_name": "HBoxModel",
      "state": {
       "children": [
        "IPY_MODEL_aeaf15dbe0544c2d88be9633f0bfbb11",
        "IPY_MODEL_66ea41da45a245eeb15ffc29397dd8c4"
       ],
       "layout": "IPY_MODEL_805489e8724643c6a365cd85bd369f59"
      }
     },
     "9655b0398df64bcd9bc7a8495e38f6b4": {
      "model_module": "@jupyter-widgets/base",
      "model_module_version": "1.2.0",
      "model_name": "LayoutModel",
      "state": {
       "width": "600px"
      }
     },
     "9659f5ad68fb4217bef422fc333bc5dd": {
      "model_module": "@jupyter-widgets/controls",
      "model_module_version": "1.5.0",
      "model_name": "ButtonStyleModel",
      "state": {
       "button_color": "lightgreen"
      }
     },
     "9678ea48ed7d4da295f547a8b4ceda74": {
      "model_module": "@jupyter-widgets/controls",
      "model_module_version": "1.5.0",
      "model_name": "HTMLModel",
      "state": {
       "layout": "IPY_MODEL_c7065592422648679f13af58d4feff32",
       "style": "IPY_MODEL_89d675587d424bf29638bfcf779a38e8",
       "value": "<i>Markieren Sie <ins>alle</ins> passenden Antworten: </i>"
      }
     },
     "9692988eaa5a47ccb7b49f04ffe26caa": {
      "model_module": "@jupyter-widgets/base",
      "model_module_version": "1.2.0",
      "model_name": "LayoutModel",
      "state": {
       "width": "250px"
      }
     },
     "969e0bc81e6846f4b4b9b48c20ffa7a7": {
      "model_module": "@jupyter-widgets/controls",
      "model_module_version": "1.5.0",
      "model_name": "ButtonStyleModel",
      "state": {}
     },
     "96ae36c0c99640ba8518f3cbf523a1bd": {
      "model_module": "@jupyter-widgets/controls",
      "model_module_version": "1.5.0",
      "model_name": "DescriptionStyleModel",
      "state": {
       "description_width": ""
      }
     },
     "96c26d3c3c33485985a4c80d818529cb": {
      "model_module": "@jupyter-widgets/controls",
      "model_module_version": "1.5.0",
      "model_name": "HTMLModel",
      "state": {
       "layout": "IPY_MODEL_7a946f63707e4fd1a0ecb8db9076bd09",
       "style": "IPY_MODEL_ef456978ffb241198de37eb85c57c7ae",
       "value": "<i>Wählen Sie die <ins>eine</ins> korrekte Antwort aus: </i>"
      }
     },
     "96cc7315eadb4938b79f27e8b11dceb7": {
      "model_module": "@jupyter-widgets/base",
      "model_module_version": "1.2.0",
      "model_name": "LayoutModel",
      "state": {
       "width": "250px"
      }
     },
     "96e1e17c63d74496b8fa4a4c84ab00bc": {
      "model_module": "@jupyter-widgets/controls",
      "model_module_version": "1.5.0",
      "model_name": "HBoxModel",
      "state": {
       "children": [
        "IPY_MODEL_d2e91ae17fd84ffca4e0eb1f02fbdc4e",
        "IPY_MODEL_88ed8c00d1f14f04be13e03129ae6f0e"
       ],
       "layout": "IPY_MODEL_39d9ed2e09a848abb73b10a8a729b671"
      }
     },
     "96e25e1b22cd4e9dbdf611ba3ac06299": {
      "model_module": "@jupyter-widgets/controls",
      "model_module_version": "1.5.0",
      "model_name": "VBoxModel",
      "state": {
       "children": [
        "IPY_MODEL_34640b2321eb4474a756c47682349a86",
        "IPY_MODEL_7e64e8c94b7140a9adc93a7f45b7daaa",
        "IPY_MODEL_4bb45def4f51404490a082d03910e7c4",
        "IPY_MODEL_e7fb7d42dd82460fb099f063e077029f"
       ],
       "layout": "IPY_MODEL_221f30ca80e34593aa9650e8f64b73d8"
      }
     },
     "9717b5a04cbf43d888e13cf03efc73c2": {
      "model_module": "@jupyter-widgets/base",
      "model_module_version": "1.2.0",
      "model_name": "LayoutModel",
      "state": {
       "width": "250px"
      }
     },
     "974bc4b280ad4d5a96357cd8cb4b39fb": {
      "model_module": "@jupyter-widgets/controls",
      "model_module_version": "1.5.0",
      "model_name": "VBoxModel",
      "state": {
       "children": [
        "IPY_MODEL_c49deec675ab4f27823c782c41ca29be",
        "IPY_MODEL_adf3e458c6e8486bad001f08d9120f3a",
        "IPY_MODEL_ea40a391895a4e9d9131d2f8d5d780e2",
        "IPY_MODEL_9a2ed859970b4336a8de73fc1fa0de52",
        "IPY_MODEL_4f153a3e27fe40f6a8562f8114261cdf",
        "IPY_MODEL_b73f32eb0b954b68bf3039afd5efa02f"
       ],
       "layout": "IPY_MODEL_81df8917796d482b80602ad353bc8670"
      }
     },
     "974bf6e7c08c406cada51cce5ad4d59a": {
      "model_module": "@jupyter-widgets/controls",
      "model_module_version": "1.5.0",
      "model_name": "ButtonModel",
      "state": {
       "description": "Locative",
       "layout": "IPY_MODEL_fd9aa810b49a470d8ab706d87b72c9eb",
       "style": "IPY_MODEL_183c4628a41844d2bc690eaac054324e"
      }
     },
     "9764f4682ee149efb0865bfa1b04dc7a": {
      "model_module": "@jupyter-widgets/base",
      "model_module_version": "1.2.0",
      "model_name": "LayoutModel",
      "state": {
       "width": "250px"
      }
     },
     "97deb4f5dfd9441b987ace99799b7f04": {
      "model_module": "@jupyter-widgets/controls",
      "model_module_version": "1.5.0",
      "model_name": "DescriptionStyleModel",
      "state": {
       "description_width": ""
      }
     },
     "97fae81a1e734156939afaddf75c1298": {
      "model_module": "@jupyter-widgets/controls",
      "model_module_version": "1.5.0",
      "model_name": "DescriptionStyleModel",
      "state": {
       "description_width": ""
      }
     },
     "98351a6336b34342979698c3da6eb211": {
      "model_module": "@jupyter-widgets/base",
      "model_module_version": "1.2.0",
      "model_name": "LayoutModel",
      "state": {
       "justify_content": "center"
      }
     },
     "9841f1f7cfcc44409be52d9800337e09": {
      "model_module": "@jupyter-widgets/controls",
      "model_module_version": "1.5.0",
      "model_name": "CheckboxModel",
      "state": {
       "description": "Die Form des Adjektivs richtet sich nach dem Genus des Substantivs.",
       "disabled": false,
       "layout": "IPY_MODEL_60215c22c1214f41958a06723a7e3faf",
       "style": "IPY_MODEL_e50e64f1165e4ee38e0f80d4f4f0ade9",
       "value": true
      }
     },
     "9845f69c43e74329b20fc4a0908878a5": {
      "model_module": "@jupyter-widgets/controls",
      "model_module_version": "1.5.0",
      "model_name": "HBoxModel",
      "state": {
       "children": [
        "IPY_MODEL_38d4b2f527f2456a9f3e0edb70ba95f0",
        "IPY_MODEL_dc5b05c5c27a4f1888a7800761a7435f"
       ],
       "layout": "IPY_MODEL_b6b0ff0cd3544a57878da8df2bb59917"
      }
     },
     "984efcbc54144d11b8d10c052b628bd4": {
      "model_module": "@jupyter-widgets/controls",
      "model_module_version": "1.5.0",
      "model_name": "ButtonStyleModel",
      "state": {
       "button_color": "lightgreen"
      }
     },
     "985ac1ad608c4b9c8913cf8f2950bc93": {
      "model_module": "@jupyter-widgets/base",
      "model_module_version": "1.2.0",
      "model_name": "LayoutModel",
      "state": {}
     },
     "985b691fc51c4ce4aaae096dc1bd4008": {
      "model_module": "@jupyter-widgets/controls",
      "model_module_version": "1.5.0",
      "model_name": "ButtonModel",
      "state": {
       "description": "Agens",
       "layout": "IPY_MODEL_0def6be271bb4fca92205540279fa42c",
       "style": "IPY_MODEL_49affa7c5ba34f2d9ab61f2a2ab05efd"
      }
     },
     "9873bf9a398044cdb351e2072733d085": {
      "model_module": "@jupyter-widgets/controls",
      "model_module_version": "1.5.0",
      "model_name": "ButtonStyleModel",
      "state": {}
     },
     "989b52b779fb4c378d2b7be4b43cf920": {
      "model_module": "@jupyter-widgets/controls",
      "model_module_version": "1.5.0",
      "model_name": "CheckboxModel",
      "state": {
       "description": "FS0 = [CAT = N], FS1 = [CAT = N, GEN = MASK]",
       "disabled": false,
       "layout": "IPY_MODEL_a907395033f54f96939a2976a83d9709",
       "style": "IPY_MODEL_bc44014d53084dd79a7a052c85844207",
       "value": false
      }
     },
     "989d9e0921934283ad5808ce3dac222a": {
      "model_module": "@jupyter-widgets/base",
      "model_module_version": "1.2.0",
      "model_name": "LayoutModel",
      "state": {}
     },
     "98ca13f0c4454f7f93084c28c9139d93": {
      "model_module": "@jupyter-widgets/controls",
      "model_module_version": "1.5.0",
      "model_name": "CheckboxModel",
      "state": {
       "description": "Das Adjektiv übernimmt die Endungen des Artikels.",
       "disabled": false,
       "layout": "IPY_MODEL_570e05b5806341189d67c1c29bbfdad6",
       "style": "IPY_MODEL_88a51a2bf123425faaced057f5380021",
       "value": false
      }
     },
     "98cf169daaca4f769b18a84985e425ee": {
      "model_module": "@jupyter-widgets/controls",
      "model_module_version": "1.5.0",
      "model_name": "DescriptionStyleModel",
      "state": {
       "description_width": ""
      }
     },
     "993fd7154c3a4f408e080db379243656": {
      "model_module": "@jupyter-widgets/controls",
      "model_module_version": "1.5.0",
      "model_name": "ButtonModel",
      "state": {
       "description": "stack",
       "layout": "IPY_MODEL_2a4eaaa986d8403396d2844cd6ed793f",
       "style": "IPY_MODEL_43941d349a1b45ef8d50c24ab3a78491"
      }
     },
     "9941c47e7a9b47daad2eb53830b408bd": {
      "model_module": "@jupyter-widgets/base",
      "model_module_version": "1.2.0",
      "model_name": "LayoutModel",
      "state": {
       "width": "250px"
      }
     },
     "999066d979e0405da6c1e113c306a988": {
      "model_module": "@jupyter-widgets/controls",
      "model_module_version": "1.5.0",
      "model_name": "HTMLModel",
      "state": {
       "layout": "IPY_MODEL_78f8b4b1a3664e4f99a703085de712ba",
       "style": "IPY_MODEL_f4fb491a07e6457c9fc38e18ced20c90",
       "value": "<h4 style=\"font-size:14px;\">Was ist der bevorzugte Kandidat zur Realisierung im Subjekt?</h4>"
      }
     },
     "99a239e4d3824c1d9e3f38d44578dba3": {
      "model_module": "@jupyter-widgets/base",
      "model_module_version": "1.2.0",
      "model_name": "LayoutModel",
      "state": {
       "width": "500px"
      }
     },
     "99a6e356d9d24fc4b147fb60edf50464": {
      "model_module": "@jupyter-widgets/controls",
      "model_module_version": "1.5.0",
      "model_name": "HTMLModel",
      "state": {
       "layout": "IPY_MODEL_c45a2a774e7249a68c97f1c206cea6ba",
       "style": "IPY_MODEL_3a825f38a95743ed8e2185358c8dab8b",
       "value": "<i>Wählen Sie die <ins>eine</ins> korrekte Antwort aus: </i>"
      }
     },
     "99f366ce63704b0a961df34a03247590": {
      "model_module": "@jupyter-widgets/controls",
      "model_module_version": "1.5.0",
      "model_name": "ButtonStyleModel",
      "state": {}
     },
     "9a1850c83b8a4c968bbf8ff79569abc4": {
      "model_module": "@jupyter-widgets/controls",
      "model_module_version": "1.5.0",
      "model_name": "CheckboxModel",
      "state": {
       "description": "Sie werden aus der Eingabe extrahiert (feature extraction)",
       "disabled": false,
       "layout": "IPY_MODEL_7e787ae3270c47b896e3c04490e0e029",
       "style": "IPY_MODEL_2d30186925f841f9aeaa66273a3af423",
       "value": false
      }
     },
     "9a1a8aac7ebd49a5bb25d01cc3341bab": {
      "model_module": "@jupyter-widgets/base",
      "model_module_version": "1.2.0",
      "model_name": "LayoutModel",
      "state": {
       "justify_content": "center"
      }
     },
     "9a2ed859970b4336a8de73fc1fa0de52": {
      "model_module": "@jupyter-widgets/controls",
      "model_module_version": "1.5.0",
      "model_name": "CheckboxModel",
      "state": {
       "description": "Variable: <- (1)",
       "disabled": false,
       "layout": "IPY_MODEL_6ed0cad5b9b8476c9f4d43dd6b8c72b2",
       "style": "IPY_MODEL_8af64d4f411248a0b170a0a18b784715",
       "value": false
      }
     },
     "9b0868c0c93546e8b62b584b016b8b24": {
      "model_module": "@jupyter-widgets/controls",
      "model_module_version": "1.5.0",
      "model_name": "DescriptionStyleModel",
      "state": {
       "description_width": "initial"
      }
     },
     "9b0a5c2fb76f4ed39de0abb47f97fd76": {
      "model_module": "@jupyter-widgets/controls",
      "model_module_version": "1.5.0",
      "model_name": "DescriptionStyleModel",
      "state": {
       "description_width": "initial"
      }
     },
     "9b155f0301344259a7a2276c0cca0f49": {
      "model_module": "@jupyter-widgets/base",
      "model_module_version": "1.2.0",
      "model_name": "LayoutModel",
      "state": {}
     },
     "9b1993e8ca674f47bd538edcd4adc544": {
      "model_module": "@jupyter-widgets/base",
      "model_module_version": "1.2.0",
      "model_name": "LayoutModel",
      "state": {
       "width": "250px"
      }
     },
     "9b26ae189b8d4769ad65a35875be97d7": {
      "model_module": "@jupyter-widgets/base",
      "model_module_version": "1.2.0",
      "model_name": "LayoutModel",
      "state": {
       "width": "600px"
      }
     },
     "9b713d5661d641b09761dd431142e6cf": {
      "model_module": "@jupyter-widgets/controls",
      "model_module_version": "1.5.0",
      "model_name": "HTMLModel",
      "state": {
       "layout": "IPY_MODEL_c3c9d1fe229c4aa79e98b608e067be39",
       "style": "IPY_MODEL_b4a23e51fec5426ba406e6f76e8dbb9b",
       "value": "<i>Vervollständigen Sie den Lückentext: </i>"
      }
     },
     "9b9cb19e18f940f99077869c4061d1ea": {
      "model_module": "@jupyter-widgets/controls",
      "model_module_version": "1.5.0",
      "model_name": "ButtonStyleModel",
      "state": {}
     },
     "9ba0fb8758ca44b7bff8ba581f855fa9": {
      "model_module": "@jupyter-widgets/controls",
      "model_module_version": "1.5.0",
      "model_name": "ButtonModel",
      "state": {
       "description": "Benefaktiv",
       "layout": "IPY_MODEL_e6877d4a873f4688a85339544559dc2d",
       "style": "IPY_MODEL_bcbf330e3b114c01aa3a567c1f22394d"
      }
     },
     "9bb7fdfad88944eabea31167d79733b2": {
      "model_module": "@jupyter-widgets/controls",
      "model_module_version": "1.5.0",
      "model_name": "CheckboxModel",
      "state": {
       "description": "Die Form vom Adjektiven hängt niemals von irgendeinem Genus ab.",
       "disabled": false,
       "layout": "IPY_MODEL_0d924749ebc64d5090cec6618787e8f6",
       "style": "IPY_MODEL_3f47cda086e04b7499c9d10cceb34bc9",
       "value": false
      }
     },
     "9bef2c1c360244f485dad6a5a133d02c": {
      "model_module": "@jupyter-widgets/controls",
      "model_module_version": "1.5.0",
      "model_name": "ButtonStyleModel",
      "state": {}
     },
     "9c078412ecc84a98bf130f9e6d7ccd14": {
      "model_module": "@jupyter-widgets/base",
      "model_module_version": "1.2.0",
      "model_name": "LayoutModel",
      "state": {
       "width": "600px"
      }
     },
     "9c090189ee9e466c8201913a840fe777": {
      "model_module": "@jupyter-widgets/controls",
      "model_module_version": "1.5.0",
      "model_name": "DescriptionStyleModel",
      "state": {
       "description_width": ""
      }
     },
     "9c1c492eabaa4c0483aa5cea938abdc4": {
      "model_module": "@jupyter-widgets/controls",
      "model_module_version": "1.5.0",
      "model_name": "ButtonModel",
      "state": {
       "description": "Ja",
       "layout": "IPY_MODEL_7f508248afe84ef3aacf667aa3aa7267",
       "style": "IPY_MODEL_c88cf42c04f741deb738dad4c5e7c2c0"
      }
     },
     "9c296220bb2b42b597623dde6e7e5659": {
      "model_module": "@jupyter-widgets/controls",
      "model_module_version": "1.5.0",
      "model_name": "HTMLModel",
      "state": {
       "layout": "IPY_MODEL_72d0392cda7647a5805557c2d81b2b1e",
       "style": "IPY_MODEL_66cae10cade8496c86e30f36de3af413",
       "value": "<i>Markieren Sie <ins>alle</ins> passenden Antworten: </i>"
      }
     },
     "9c29bdcb1dd24a77ab3cbc16bdfa036f": {
      "model_module": "@jupyter-widgets/controls",
      "model_module_version": "1.5.0",
      "model_name": "ButtonModel",
      "state": {
       "description": "Instrument",
       "layout": "IPY_MODEL_d0541a6f2a394ba09722a028910a35cb",
       "style": "IPY_MODEL_ad423797bb294ea78f0943cfd0a582a4"
      }
     },
     "9c86b0e163d44ebd87be0b9b4eda30e1": {
      "model_module": "@jupyter-widgets/controls",
      "model_module_version": "1.5.0",
      "model_name": "DescriptionStyleModel",
      "state": {
       "description_width": ""
      }
     },
     "9c8d1befcba141e3825ac9458aacc8ba": {
      "model_module": "@jupyter-widgets/base",
      "model_module_version": "1.2.0",
      "model_name": "LayoutModel",
      "state": {}
     },
     "9cbc0dd84e2c42118789874babf235ae": {
      "model_module": "@jupyter-widgets/controls",
      "model_module_version": "1.5.0",
      "model_name": "ButtonModel",
      "state": {
       "description": "Locative",
       "layout": "IPY_MODEL_07d9866589a7419cafe7b0fbdab7a8e6",
       "style": "IPY_MODEL_300882cfe6b144108ed6fefb37d1e945"
      }
     },
     "9cc49f71ad204153a5067ec256ad16b7": {
      "model_module": "@jupyter-widgets/controls",
      "model_module_version": "1.5.0",
      "model_name": "DescriptionStyleModel",
      "state": {
       "description_width": ""
      }
     },
     "9cd0c7e6a2f347829c2061ea80ffa870": {
      "model_module": "@jupyter-widgets/controls",
      "model_module_version": "1.5.0",
      "model_name": "DescriptionStyleModel",
      "state": {
       "description_width": ""
      }
     },
     "9ce21807bc6e4e6c9b82ea9e8c07d610": {
      "model_module": "@jupyter-widgets/controls",
      "model_module_version": "1.5.0",
      "model_name": "VBoxModel",
      "state": {
       "children": [
        "IPY_MODEL_1be899da5f214702a4c06e169c84786f",
        "IPY_MODEL_9031eedfd1584b9e8c30d1364f943027",
        "IPY_MODEL_1475ed2de24d4729b907b96ec038bc1e"
       ],
       "layout": "IPY_MODEL_caf2104682104740b6e6231d001f7bef"
      }
     },
     "9cf87c041f5e457d8c58415f2bfe6631": {
      "model_module": "@jupyter-widgets/base",
      "model_module_version": "1.2.0",
      "model_name": "LayoutModel",
      "state": {
       "justify_content": "center"
      }
     },
     "9d1b795169bc44f4a35e094236996426": {
      "model_module": "@jupyter-widgets/base",
      "model_module_version": "1.2.0",
      "model_name": "LayoutModel",
      "state": {}
     },
     "9d4ccfc26cb94bb3a74033e37e6be0a2": {
      "model_module": "@jupyter-widgets/controls",
      "model_module_version": "1.5.0",
      "model_name": "DescriptionStyleModel",
      "state": {
       "description_width": "initial"
      }
     },
     "9dd57fd7509242f7a25f70f462494cb2": {
      "model_module": "@jupyter-widgets/controls",
      "model_module_version": "1.5.0",
      "model_name": "DescriptionStyleModel",
      "state": {
       "description_width": ""
      }
     },
     "9de01c6589da487dab891dd36f4ac228": {
      "model_module": "@jupyter-widgets/controls",
      "model_module_version": "1.5.0",
      "model_name": "CheckboxModel",
      "state": {
       "description": "Es ist die allgemeinere Merkmalsstruktur.",
       "disabled": false,
       "layout": "IPY_MODEL_4816c3cd822947779eb00d32bf355234",
       "style": "IPY_MODEL_6cb669340ebb45ddad7b414d0f03a2b6",
       "value": false
      }
     },
     "9de2405f36aa4f3f948c019b33a97d7b": {
      "model_module": "@jupyter-widgets/controls",
      "model_module_version": "1.5.0",
      "model_name": "HTMLModel",
      "state": {
       "layout": "IPY_MODEL_8df8c5b381fa48e9a19cf896897f1de6",
       "style": "IPY_MODEL_7e990f8a9de4474b9840d1a01d6ee912",
       "value": "<i>Wählen Sie die <ins>eine</ins> korrekte Antwort aus: </i>"
      }
     },
     "9de9b4cc93d347deb131fce63b884367": {
      "model_module": "@jupyter-widgets/controls",
      "model_module_version": "1.5.0",
      "model_name": "DescriptionStyleModel",
      "state": {
       "description_width": "initial"
      }
     },
     "9e13c02fc25d4cde8fc56a29c8b15376": {
      "model_module": "@jupyter-widgets/controls",
      "model_module_version": "1.5.0",
      "model_name": "VBoxModel",
      "state": {
       "children": [
        "IPY_MODEL_31f5bc18df064156ba660dca4461eecb",
        "IPY_MODEL_030ff32e805f4cf7ad9c1b442dcae6a2",
        "IPY_MODEL_06e3185e9c6b423bafe97c84d2027595",
        "IPY_MODEL_64c2b57bcccd4ed6ad42f2efa2e2b79a"
       ],
       "layout": "IPY_MODEL_bb09c035a14d41c491e23c274ff937bc"
      }
     },
     "9e2be9803d1746c7b9c631a3b68258a7": {
      "model_module": "@jupyter-widgets/base",
      "model_module_version": "1.2.0",
      "model_name": "LayoutModel",
      "state": {}
     },
     "9e2e62616be04be5b0d25dd598765d28": {
      "model_module": "@jupyter-widgets/base",
      "model_module_version": "1.2.0",
      "model_name": "LayoutModel",
      "state": {}
     },
     "9e494fca8dc74e55bdc5b198d618dd8b": {
      "model_module": "@jupyter-widgets/controls",
      "model_module_version": "1.5.0",
      "model_name": "DescriptionStyleModel",
      "state": {
       "description_width": ""
      }
     },
     "9e4b2b1210ef4b8cb5565c0107f68340": {
      "model_module": "@jupyter-widgets/controls",
      "model_module_version": "1.5.0",
      "model_name": "HBoxModel",
      "state": {
       "children": [
        "IPY_MODEL_cf1f0af995f24b2b83f07a5ed7c3d811"
       ],
       "layout": "IPY_MODEL_8a54163368e841aba53305f27a7a81e8"
      }
     },
     "9e4bdec8830c4417a2b733497f4b3128": {
      "model_module": "@jupyter-widgets/base",
      "model_module_version": "1.2.0",
      "model_name": "LayoutModel",
      "state": {}
     },
     "9e4fe2cd46f44107ac77aba13abe8fad": {
      "model_module": "@jupyter-widgets/base",
      "model_module_version": "1.2.0",
      "model_name": "LayoutModel",
      "state": {
       "justify_content": "center"
      }
     },
     "9e862ac0566440258e882cfe683c6efa": {
      "model_module": "@jupyter-widgets/controls",
      "model_module_version": "1.5.0",
      "model_name": "DescriptionStyleModel",
      "state": {
       "description_width": "initial"
      }
     },
     "9e89586baee8453abbc6ab009c61a972": {
      "model_module": "@jupyter-widgets/controls",
      "model_module_version": "1.5.0",
      "model_name": "VBoxModel",
      "state": {
       "children": [
        "IPY_MODEL_7d6afdbfa9504fd1a19cb7b722db91bc",
        "IPY_MODEL_9de2405f36aa4f3f948c019b33a97d7b",
        "IPY_MODEL_b0341f82695a486b8c32a2b0ca3f8983",
        "IPY_MODEL_e188c79e240a462b92d01b6145dd7700",
        "IPY_MODEL_ffec40677cc543b688981f97e26830da",
        "IPY_MODEL_540d6202e83d46189b1f048b07967a2e"
       ],
       "layout": "IPY_MODEL_40935c2a22d1430fb6b7281e357868d7"
      }
     },
     "9e961aa487064005a3b62a5a73957e77": {
      "model_module": "@jupyter-widgets/controls",
      "model_module_version": "1.5.0",
      "model_name": "HTMLModel",
      "state": {
       "layout": "IPY_MODEL_c10effa8961342f096d33a4623273e40",
       "style": "IPY_MODEL_9e494fca8dc74e55bdc5b198d618dd8b",
       "value": "<h4 style=\"font-size:14px;\">wird das Adjektiv hier</h4>"
      }
     },
     "9e9acf5a9478410ca8ef93195b1bedc8": {
      "model_module": "@jupyter-widgets/controls",
      "model_module_version": "1.5.0",
      "model_name": "HBoxModel",
      "state": {
       "children": [
        "IPY_MODEL_75d109d3ff9c474eafd64984ea321a7d",
        "IPY_MODEL_5b8d684398e54513b0f1de7e82c96538"
       ],
       "layout": "IPY_MODEL_7c7dd69be57e4a4091e0390bffd39678"
      }
     },
     "9ebbc99cad98420e81262a88a58b4a9e": {
      "model_module": "@jupyter-widgets/base",
      "model_module_version": "1.2.0",
      "model_name": "LayoutModel",
      "state": {
       "width": "600px"
      }
     },
     "9ec85e9b209f44ffa024f6fc46aaa2ca": {
      "model_module": "@jupyter-widgets/base",
      "model_module_version": "1.2.0",
      "model_name": "LayoutModel",
      "state": {}
     },
     "9eef27b044664fe38ed4c1546e1b2e02": {
      "model_module": "@jupyter-widgets/controls",
      "model_module_version": "1.5.0",
      "model_name": "DescriptionStyleModel",
      "state": {
       "description_width": ""
      }
     },
     "9efb04e91e7f4fe595ce608d15f1b451": {
      "model_module": "@jupyter-widgets/controls",
      "model_module_version": "1.5.0",
      "model_name": "CheckboxModel",
      "state": {
       "description": "FS0 = [CAT = N, GEN = FEM], FS1 = [CAT = DET, GEN = FEM]",
       "disabled": false,
       "layout": "IPY_MODEL_17c60319a78c4003aff2117cedfe04c9",
       "style": "IPY_MODEL_792dd1aef591402ebb89df4d6c3a5cbd",
       "value": false
      }
     },
     "9f045c5116f04828911863edec268286": {
      "model_module": "@jupyter-widgets/controls",
      "model_module_version": "1.5.0",
      "model_name": "ButtonStyleModel",
      "state": {
       "button_color": "lightgreen"
      }
     },
     "9f04f9d402304000827e0e6e50dd274e": {
      "model_module": "@jupyter-widgets/controls",
      "model_module_version": "1.5.0",
      "model_name": "ButtonStyleModel",
      "state": {}
     },
     "9f1c1908aaba490f8f0b42d9cf34ff71": {
      "model_module": "@jupyter-widgets/controls",
      "model_module_version": "1.5.0",
      "model_name": "ButtonModel",
      "state": {
       "description": "Agens",
       "layout": "IPY_MODEL_3599594727084c8da0221e26287bbb4d",
       "style": "IPY_MODEL_4c16c2045a01425bab87cd1d6c7c8948"
      }
     },
     "9f45a8a953e1464f81b45190c88f5170": {
      "model_module": "@jupyter-widgets/controls",
      "model_module_version": "1.5.0",
      "model_name": "DescriptionStyleModel",
      "state": {
       "description_width": ""
      }
     },
     "9f4d0ced9c9a4c23a3b5551651c34c09": {
      "model_module": "@jupyter-widgets/controls",
      "model_module_version": "1.5.0",
      "model_name": "DescriptionStyleModel",
      "state": {
       "description_width": ""
      }
     },
     "9f4f85d1243e485b963da3cb604ef7dc": {
      "model_module": "@jupyter-widgets/controls",
      "model_module_version": "1.5.0",
      "model_name": "CheckboxModel",
      "state": {
       "description": "Variable: -> (1)",
       "disabled": false,
       "layout": "IPY_MODEL_0223da0615f74f96ab6720610586f6bc",
       "style": "IPY_MODEL_3fa8154b4d1e4f5180ce5476fe25eb3d",
       "value": false
      }
     },
     "9f59f73670bf4733ba3538a4919d21ef": {
      "model_module": "@jupyter-widgets/controls",
      "model_module_version": "1.5.0",
      "model_name": "VBoxModel",
      "state": {
       "children": [
        "IPY_MODEL_b672bdba9cdc46a383183ada41356c16",
        "IPY_MODEL_a4edc8b787a2493092f63528b9c88b15",
        "IPY_MODEL_9f4f85d1243e485b963da3cb604ef7dc",
        "IPY_MODEL_62182d5761c14a0c81a9bb3e780662c8",
        "IPY_MODEL_bde9343f8236487198f7127410e2f4a9",
        "IPY_MODEL_2f7a5d6b9b56425b8d305fef827dde3b"
       ],
       "layout": "IPY_MODEL_781f6be6c9564010962988039b6a9037"
      }
     },
     "9f63d64dd42e4a88b3a544b76df1495e": {
      "model_module": "@jupyter-widgets/controls",
      "model_module_version": "1.5.0",
      "model_name": "HTMLModel",
      "state": {
       "layout": "IPY_MODEL_3f821b2579824110b58869956e8e56ad",
       "style": "IPY_MODEL_f1841fada2854dc79e52f976f0cebedb",
       "value": "<i>Vervollständigen Sie den Lückentext: </i>"
      }
     },
     "9fa701364788443eab73c8ae274bea0d": {
      "model_module": "@jupyter-widgets/base",
      "model_module_version": "1.2.0",
      "model_name": "LayoutModel",
      "state": {
       "width": "250px"
      }
     },
     "9fd3116f50e546f8bdc04ee46f884d36": {
      "model_module": "@jupyter-widgets/controls",
      "model_module_version": "1.5.0",
      "model_name": "CheckboxModel",
      "state": {
       "description": "Das Fehlen des Artikels hat keine Auswirkungen auf das Adjektiv.",
       "disabled": false,
       "layout": "IPY_MODEL_82c8e0d8219543449e681efddf7c3f88",
       "style": "IPY_MODEL_41ac9035585d4c34826dff11ec43e327",
       "value": false
      }
     },
     "a00e5c48d3f84ef491d60fe4c727d11c": {
      "model_module": "@jupyter-widgets/controls",
      "model_module_version": "1.5.0",
      "model_name": "VBoxModel",
      "state": {
       "children": [
        "IPY_MODEL_70ba017fb34f407d9af2dae1d74ac67c",
        "IPY_MODEL_8feb6931ab2943e8a1ad5129ce0d004d",
        "IPY_MODEL_f65cc1c404274dcd8a8e86de9a9c0a68",
        "IPY_MODEL_f978844e05af4c92904b5e922ede2509"
       ],
       "layout": "IPY_MODEL_aaf77ae3ffa64cb7964abe60c333d14a"
      }
     },
     "a014006e30eb444a8d42f19e21a069a5": {
      "model_module": "@jupyter-widgets/controls",
      "model_module_version": "1.5.0",
      "model_name": "ButtonStyleModel",
      "state": {
       "button_color": "lightgreen"
      }
     },
     "a01bd73c5ee84a45bf7395cc673d43e8": {
      "model_module": "@jupyter-widgets/controls",
      "model_module_version": "1.5.0",
      "model_name": "DescriptionStyleModel",
      "state": {
       "description_width": "initial"
      }
     },
     "a044ced764f24fb5aa8bca786c3c4920": {
      "model_module": "@jupyter-widgets/controls",
      "model_module_version": "1.5.0",
      "model_name": "CheckboxModel",
      "state": {
       "description": "Es ist die spezifischere Merkmalsstruktur.",
       "disabled": false,
       "layout": "IPY_MODEL_ce23d74ac2c543a9a67cc9ad85dae2fd",
       "style": "IPY_MODEL_4f7ac60eaceb4971b22b48ba90b6ec7e",
       "value": false
      }
     },
     "a046ffbdc3034d2191c9213c0dc9f920": {
      "model_module": "@jupyter-widgets/base",
      "model_module_version": "1.2.0",
      "model_name": "LayoutModel",
      "state": {
       "justify_content": "center"
      }
     },
     "a05e71ede3aa4ff9816fd848bd762bb8": {
      "model_module": "@jupyter-widgets/controls",
      "model_module_version": "1.5.0",
      "model_name": "HTMLModel",
      "state": {
       "layout": "IPY_MODEL_1b122f471b6c46e7b684fdeb381cecc5",
       "style": "IPY_MODEL_08ffb335065b4bf0b77a0c8640abcb7a",
       "value": "<i>Wählen Sie die <ins>eine</ins> korrekte Antwort aus: </i>"
      }
     },
     "a073b0e2f5a6407da7b7078d93360bed": {
      "model_module": "@jupyter-widgets/controls",
      "model_module_version": "1.5.0",
      "model_name": "DescriptionStyleModel",
      "state": {
       "description_width": ""
      }
     },
     "a07fb11327ba40d78566a52f33e9c2fc": {
      "model_module": "@jupyter-widgets/base",
      "model_module_version": "1.2.0",
      "model_name": "LayoutModel",
      "state": {}
     },
     "a10227cfd7bc41e5b353ff93719c2b5f": {
      "model_module": "@jupyter-widgets/base",
      "model_module_version": "1.2.0",
      "model_name": "LayoutModel",
      "state": {
       "width": "600px"
      }
     },
     "a12422bc0fc24838884eee114fdf8fea": {
      "model_module": "@jupyter-widgets/base",
      "model_module_version": "1.2.0",
      "model_name": "LayoutModel",
      "state": {}
     },
     "a140f8804f2c4f8cbc9c92409c71eb4e": {
      "model_module": "@jupyter-widgets/base",
      "model_module_version": "1.2.0",
      "model_name": "LayoutModel",
      "state": {
       "width": "600px"
      }
     },
     "a14a65346e3045958b1a4fe3b9e1cdcc": {
      "model_module": "@jupyter-widgets/controls",
      "model_module_version": "1.5.0",
      "model_name": "HTMLModel",
      "state": {
       "layout": "IPY_MODEL_16b7813c947045e2ba2828097d04999d",
       "style": "IPY_MODEL_d057d23e4bd043919a8a06d7786140e7",
       "value": "<i>Wählen Sie die <ins>eine</ins> korrekte Antwort aus: </i>"
      }
     },
     "a14d4f58ff274b8ba89751e19af760ac": {
      "model_module": "@jupyter-widgets/base",
      "model_module_version": "1.2.0",
      "model_name": "LayoutModel",
      "state": {
       "width": "600px"
      }
     },
     "a15a651be95542c3ac1b6353ff91dc65": {
      "model_module": "@jupyter-widgets/controls",
      "model_module_version": "1.5.0",
      "model_name": "DescriptionStyleModel",
      "state": {
       "description_width": "initial"
      }
     },
     "a17ba3be5a4247a2a790ea6d983fb5fa": {
      "model_module": "@jupyter-widgets/controls",
      "model_module_version": "1.5.0",
      "model_name": "DescriptionStyleModel",
      "state": {
       "description_width": "initial"
      }
     },
     "a1989ff0cf994f27b42fef52a3d19701": {
      "model_module": "@jupyter-widgets/controls",
      "model_module_version": "1.5.0",
      "model_name": "ButtonStyleModel",
      "state": {}
     },
     "a1b2238bcbaf4d8ab3faa0b9a767a84a": {
      "model_module": "@jupyter-widgets/base",
      "model_module_version": "1.2.0",
      "model_name": "LayoutModel",
      "state": {
       "width": "600px"
      }
     },
     "a1d3a496b7c846cd9aea035759337097": {
      "model_module": "@jupyter-widgets/base",
      "model_module_version": "1.2.0",
      "model_name": "LayoutModel",
      "state": {}
     },
     "a207e38f2cf4466289fad3e9e0e96f4e": {
      "model_module": "@jupyter-widgets/base",
      "model_module_version": "1.2.0",
      "model_name": "LayoutModel",
      "state": {
       "width": "250px"
      }
     },
     "a2135240cd7d412c83f6109a8304a100": {
      "model_module": "@jupyter-widgets/controls",
      "model_module_version": "1.5.0",
      "model_name": "CheckboxModel",
      "state": {
       "description": "Ausrichtung der Empathie",
       "disabled": false,
       "layout": "IPY_MODEL_f0ce1a30f24c4152b240a1f4b358a0ca",
       "style": "IPY_MODEL_169b19fa254f4ffaa8148366d6cc394c",
       "value": false
      }
     },
     "a22b440f0aee417db180b766a166cd7a": {
      "model_module": "@jupyter-widgets/base",
      "model_module_version": "1.2.0",
      "model_name": "LayoutModel",
      "state": {
       "width": "250px"
      }
     },
     "a270cf501ec04e74aa2929c82c99b8ba": {
      "model_module": "@jupyter-widgets/controls",
      "model_module_version": "1.5.0",
      "model_name": "HTMLModel",
      "state": {
       "layout": "IPY_MODEL_3aba2f450dc142c5a1bea59d6f75f4d0",
       "style": "IPY_MODEL_120a8b25bd78425dbff76212f37ece2a",
       "value": "<i>Markieren Sie <ins>alle</ins> passenden Antworten: </i>"
      }
     },
     "a28714e089c645f4a2aeb93bb8355bbf": {
      "model_module": "@jupyter-widgets/controls",
      "model_module_version": "1.5.0",
      "model_name": "CheckboxModel",
      "state": {
       "description": "Das Adjektiv übernimmt die Endungen des Artikels.",
       "disabled": false,
       "layout": "IPY_MODEL_f8163ca2b4b544c18f4600aa69057a15",
       "style": "IPY_MODEL_38bf9ad5a8574e0ea0f4ebf1cea350a5",
       "value": true
      }
     },
     "a28e5548f6304b719fa7fff371834536": {
      "model_module": "@jupyter-widgets/controls",
      "model_module_version": "1.5.0",
      "model_name": "ButtonModel",
      "state": {
       "description": "Benefaktiv",
       "layout": "IPY_MODEL_73c20f4899164d11a1794e5e3459d5e5",
       "style": "IPY_MODEL_dae198eaaad1402a8c47c9f79b23ad6c"
      }
     },
     "a2909544e81c46629d4058d7fe6d250b": {
      "model_module": "@jupyter-widgets/controls",
      "model_module_version": "1.5.0",
      "model_name": "ButtonModel",
      "state": {
       "description": "Recipient",
       "layout": "IPY_MODEL_ac52f9cb535e4ae0bb5ad488ef65e20a",
       "style": "IPY_MODEL_63ee359db0004911bf6bb403eabbd403"
      }
     },
     "a2be479c16524cd189517c1bb8016b93": {
      "model_module": "@jupyter-widgets/controls",
      "model_module_version": "1.5.0",
      "model_name": "CheckboxModel",
      "state": {
       "description": "Sie werden im Vorhinein deklariert (feature lexicon)",
       "disabled": false,
       "layout": "IPY_MODEL_bad25bc58ec541c4879ba5d7b3645b2f",
       "style": "IPY_MODEL_b79b2e718cf647e7abd98298447e3527",
       "value": false
      }
     },
     "a2c902777fd34b14906ef05870450e1f": {
      "model_module": "@jupyter-widgets/controls",
      "model_module_version": "1.5.0",
      "model_name": "DescriptionStyleModel",
      "state": {
       "description_width": "initial"
      }
     },
     "a2cb76a8837049ed9ee2b0452806a56f": {
      "model_module": "@jupyter-widgets/controls",
      "model_module_version": "1.5.0",
      "model_name": "DescriptionStyleModel",
      "state": {
       "description_width": "initial"
      }
     },
     "a2cd5dc288f744af82802a07190814f1": {
      "model_module": "@jupyter-widgets/controls",
      "model_module_version": "1.5.0",
      "model_name": "ButtonStyleModel",
      "state": {}
     },
     "a2efa6154ee34339afc62d5d08f542c9": {
      "model_module": "@jupyter-widgets/base",
      "model_module_version": "1.2.0",
      "model_name": "LayoutModel",
      "state": {}
     },
     "a302cc70e1cd43d7a5a542eedb8d3ab5": {
      "model_module": "@jupyter-widgets/controls",
      "model_module_version": "1.5.0",
      "model_name": "DescriptionStyleModel",
      "state": {
       "description_width": "initial"
      }
     },
     "a349cee5a73444198a9dcd6bda18c4d0": {
      "model_module": "@jupyter-widgets/base",
      "model_module_version": "1.2.0",
      "model_name": "LayoutModel",
      "state": {
       "width": "600px"
      }
     },
     "a36a67c0271546e09a51e422da2c3656": {
      "model_module": "@jupyter-widgets/controls",
      "model_module_version": "1.5.0",
      "model_name": "VBoxModel",
      "state": {
       "children": [
        "IPY_MODEL_ff62dc5c979e4ac2a6421547c1cd8582",
        "IPY_MODEL_3b46002a1f0f40cfb125f0d3c17d7d94",
        "IPY_MODEL_e6d395bf25964bc7beca8053a039d01d",
        "IPY_MODEL_73ceda03cc7541baa5a769e0b1bb3b11"
       ],
       "layout": "IPY_MODEL_b312d4eefc6744878086965652205b88"
      }
     },
     "a38aa698d0c94f1c995cdeb639124bbd": {
      "model_module": "@jupyter-widgets/controls",
      "model_module_version": "1.5.0",
      "model_name": "CheckboxModel",
      "state": {
       "description": "Eine rangiedrigere Rolle übernimmt die Subjektfunktion.",
       "disabled": false,
       "layout": "IPY_MODEL_75a41b4d2dab4330b5ee1b540d48478a",
       "style": "IPY_MODEL_899e2018a3294bfd880a7d9055273d66",
       "value": true
      }
     },
     "a3936eccbdda4c529c680776c3408269": {
      "model_module": "@jupyter-widgets/controls",
      "model_module_version": "1.5.0",
      "model_name": "ButtonModel",
      "state": {
       "description": "tuple",
       "layout": "IPY_MODEL_e71c37f38882487fb9b1d29daeb87728",
       "style": "IPY_MODEL_1beff33acf5d4232acc751de63c7f2ad"
      }
     },
     "a39859cde1854b8f8e305c50a3b62912": {
      "model_module": "@jupyter-widgets/base",
      "model_module_version": "1.2.0",
      "model_name": "LayoutModel",
      "state": {}
     },
     "a39c01517f194afb86080312fed5023e": {
      "model_module": "@jupyter-widgets/controls",
      "model_module_version": "1.5.0",
      "model_name": "CheckboxModel",
      "state": {
       "description": "Der Artikel übernimmt z. T. die Kasusmarkierung.",
       "disabled": false,
       "layout": "IPY_MODEL_a497f8e34e8d4d9ebe18a6cd8b6fc4e7",
       "style": "IPY_MODEL_c3a95dc4c0b740acab12299b7791d147",
       "value": true
      }
     },
     "a3adb7368b064239956adaa6d31c170b": {
      "model_module": "@jupyter-widgets/controls",
      "model_module_version": "1.5.0",
      "model_name": "DescriptionStyleModel",
      "state": {
       "description_width": "initial"
      }
     },
     "a3b54aad55834377b3d4b7472ede7be2": {
      "model_module": "@jupyter-widgets/base",
      "model_module_version": "1.2.0",
      "model_name": "LayoutModel",
      "state": {
       "width": "600px"
      }
     },
     "a3f46151cd6d452ca7d2d1e2d07ce04f": {
      "model_module": "@jupyter-widgets/controls",
      "model_module_version": "1.5.0",
      "model_name": "HTMLModel",
      "state": {
       "layout": "IPY_MODEL_453eea5a798c4af4b554bb8c6729c816",
       "style": "IPY_MODEL_7996b12aedaa412f93c62f4ed9f5a204",
       "value": "<i>Wählen Sie die <ins>eine</ins> korrekte Antwort aus: </i>"
      }
     },
     "a435ce6ab2ac4933bd3396f9eb731c55": {
      "model_module": "@jupyter-widgets/controls",
      "model_module_version": "1.5.0",
      "model_name": "HTMLModel",
      "state": {
       "layout": "IPY_MODEL_9455d72a535246ae8c1dd52b75fd3a1a",
       "style": "IPY_MODEL_6d349453836e41b191709444fccfdb00",
       "value": "<h4 style=\"font-size:14px;\">In Verbindung mit einem</h4>"
      }
     },
     "a439fbe3d4e74ec9be88c9f4dafa3970": {
      "model_module": "@jupyter-widgets/controls",
      "model_module_version": "1.5.0",
      "model_name": "DescriptionStyleModel",
      "state": {
       "description_width": ""
      }
     },
     "a47195bdbbc84a45b76675a3efd4d9b7": {
      "model_module": "@jupyter-widgets/controls",
      "model_module_version": "1.5.0",
      "model_name": "ButtonStyleModel",
      "state": {}
     },
     "a48ac7cf32364d39bdfd253e06ad1c67": {
      "model_module": "@jupyter-widgets/controls",
      "model_module_version": "1.5.0",
      "model_name": "VBoxModel",
      "state": {
       "children": [
        "IPY_MODEL_04baee00523249f6a74ebec58f72170b",
        "IPY_MODEL_c73f1598398142e2882f31bb1571a642",
        "IPY_MODEL_e7c70aabe3c4455994eb9e82670d27ae",
        "IPY_MODEL_4e87528e759840989bc3cf99e3b5e349",
        "IPY_MODEL_241c9e6ac9d34d2e9303eebc8938e0e8",
        "IPY_MODEL_71bd46234651460d885a1f8fc40b3c2f"
       ],
       "layout": "IPY_MODEL_74dd18ab2d924f498f21890b34688217"
      }
     },
     "a497f8e34e8d4d9ebe18a6cd8b6fc4e7": {
      "model_module": "@jupyter-widgets/base",
      "model_module_version": "1.2.0",
      "model_name": "LayoutModel",
      "state": {
       "width": "600px"
      }
     },
     "a4ba8319ce9e41cb873012f99b9ce4ba": {
      "model_module": "@jupyter-widgets/base",
      "model_module_version": "1.2.0",
      "model_name": "LayoutModel",
      "state": {}
     },
     "a4edc8b787a2493092f63528b9c88b15": {
      "model_module": "@jupyter-widgets/controls",
      "model_module_version": "1.5.0",
      "model_name": "CheckboxModel",
      "state": {
       "description": "?x",
       "disabled": false,
       "layout": "IPY_MODEL_5a522d2dfc6f4be1890435face777a7c",
       "style": "IPY_MODEL_524d188f75d5431f86fb9b649665790d",
       "value": false
      }
     },
     "a4ff85a82cd64d2d9ca138be0e464d40": {
      "model_module": "@jupyter-widgets/base",
      "model_module_version": "1.2.0",
      "model_name": "LayoutModel",
      "state": {
       "width": "600px"
      }
     },
     "a52bf18221e542fbac0b82a6110ceb60": {
      "model_module": "@jupyter-widgets/controls",
      "model_module_version": "1.5.0",
      "model_name": "ButtonModel",
      "state": {
       "description": "Patiens",
       "layout": "IPY_MODEL_9582b2823ecb4046b8e9df38c413896a",
       "style": "IPY_MODEL_046bf8482b894e7a8b48a55ac3403176"
      }
     },
     "a53b996510824f4a9997788929f2c0d5": {
      "model_module": "@jupyter-widgets/controls",
      "model_module_version": "1.5.0",
      "model_name": "HTMLModel",
      "state": {
       "layout": "IPY_MODEL_79bb62c587494e60a739668447ba5b57",
       "style": "IPY_MODEL_c87c249aeeac436c85c722ae4d7c53e0",
       "value": "<h4 style=\"font-size:14px;\">Wie wird die Deklination der Nominalphrase <i>das alte Bier</i> auch bezeichnet?</h4>"
      }
     },
     "a546f917179e4f1ebd62407b9216bba8": {
      "model_module": "@jupyter-widgets/controls",
      "model_module_version": "1.5.0",
      "model_name": "CheckboxModel",
      "state": {
       "description": "Subjekt-Demotion zu Adverbial",
       "disabled": false,
       "layout": "IPY_MODEL_8621dd5d22da4ed68e180da102a15e11",
       "style": "IPY_MODEL_ef5a8d24699e4319883f98689b05872f",
       "value": true
      }
     },
     "a54a750e4ca54cc6bcb6498d45544c90": {
      "model_module": "@jupyter-widgets/base",
      "model_module_version": "1.2.0",
      "model_name": "LayoutModel",
      "state": {}
     },
     "a5556ded4aa1410c9dca37eff7173256": {
      "model_module": "@jupyter-widgets/controls",
      "model_module_version": "1.5.0",
      "model_name": "DescriptionStyleModel",
      "state": {
       "description_width": ""
      }
     },
     "a580fb389515476f8f8ea35431a973c8": {
      "model_module": "@jupyter-widgets/controls",
      "model_module_version": "1.5.0",
      "model_name": "CheckboxModel",
      "state": {
       "description": "Es ist die allgemeinere Merkmalsstruktur.",
       "disabled": false,
       "layout": "IPY_MODEL_171c3f60bfe14508a9d15875687067db",
       "style": "IPY_MODEL_ce0540021f4f4011960115d28058be2a",
       "value": false
      }
     },
     "a58a5c90c6d94550a4a266e4385bbba9": {
      "model_module": "@jupyter-widgets/base",
      "model_module_version": "1.2.0",
      "model_name": "LayoutModel",
      "state": {}
     },
     "a59de5c8e2094700913bdf02d1bfb796": {
      "model_module": "@jupyter-widgets/controls",
      "model_module_version": "1.5.0",
      "model_name": "HTMLModel",
      "state": {
       "layout": "IPY_MODEL_71cf2443027c4ea5a8fedc544e76d8f2",
       "style": "IPY_MODEL_32d115a0644e49b8a72e4096f3a3ae49",
       "value": "<i>Wählen Sie die <ins>eine</ins> korrekte Antwort aus: </i>"
      }
     },
     "a5b37be31d7a47a99400532b628c59d3": {
      "model_module": "@jupyter-widgets/controls",
      "model_module_version": "1.5.0",
      "model_name": "ButtonStyleModel",
      "state": {}
     },
     "a5ea9f1b48e942bab50057ad2001e67f": {
      "model_module": "@jupyter-widgets/controls",
      "model_module_version": "1.5.0",
      "model_name": "ButtonStyleModel",
      "state": {}
     },
     "a5f0e5764bde4d198223f27c5792f1e1": {
      "model_module": "@jupyter-widgets/controls",
      "model_module_version": "1.5.0",
      "model_name": "ButtonModel",
      "state": {
       "description": "Keine der anderen Möglichkeiten",
       "layout": "IPY_MODEL_f8f55738f4904182a8e7c80a372c4ae2",
       "style": "IPY_MODEL_1e3d3dc1e07e41bb856b3742956549e1"
      }
     },
     "a5f82c162a34485babe7eff92ec7c796": {
      "model_module": "@jupyter-widgets/controls",
      "model_module_version": "1.5.0",
      "model_name": "DescriptionStyleModel",
      "state": {
       "description_width": "initial"
      }
     },
     "a5f835d749454309b39189c048ac079f": {
      "model_module": "@jupyter-widgets/base",
      "model_module_version": "1.2.0",
      "model_name": "LayoutModel",
      "state": {
       "width": "500px"
      }
     },
     "a5fb3cd9576d4b6a97f9efc7d45a8f38": {
      "model_module": "@jupyter-widgets/controls",
      "model_module_version": "1.5.0",
      "model_name": "DropdownModel",
      "state": {
       "_options_labels": [
        "Adverbiale",
        "Nomen",
        "Personalpronomina",
        " "
       ],
       "index": 3,
       "layout": "IPY_MODEL_ecd8d2ff708f4bb58e831ef4f8c40976",
       "style": "IPY_MODEL_594be9568d3947238a1847a134a03153"
      }
     },
     "a62a0e1a0f2343cf94a08e19c876018f": {
      "model_module": "@jupyter-widgets/controls",
      "model_module_version": "1.5.0",
      "model_name": "DescriptionStyleModel",
      "state": {
       "description_width": "initial"
      }
     },
     "a62b458063d24c969e9076d614d0c14c": {
      "model_module": "@jupyter-widgets/controls",
      "model_module_version": "1.5.0",
      "model_name": "DescriptionStyleModel",
      "state": {
       "description_width": "initial"
      }
     },
     "a65002a27a7a4c629daac0a026dbe405": {
      "model_module": "@jupyter-widgets/controls",
      "model_module_version": "1.5.0",
      "model_name": "CheckboxModel",
      "state": {
       "description": "Ausrichtung der Empathie",
       "disabled": false,
       "layout": "IPY_MODEL_b163f3a75e354350854cdf8cd4f32b2a",
       "style": "IPY_MODEL_041381e8d189459e967d137ab811c411",
       "value": false
      }
     },
     "a69cdfb27f31457d8c41301418ce6792": {
      "model_module": "@jupyter-widgets/controls",
      "model_module_version": "1.5.0",
      "model_name": "DescriptionStyleModel",
      "state": {
       "description_width": ""
      }
     },
     "a6b76e5708c14ae3b52a3791542ef8f1": {
      "model_module": "@jupyter-widgets/base",
      "model_module_version": "1.2.0",
      "model_name": "LayoutModel",
      "state": {
       "justify_content": "center"
      }
     },
     "a6e8ddae8a5040d59653f6e72820c885": {
      "model_module": "@jupyter-widgets/controls",
      "model_module_version": "1.5.0",
      "model_name": "ButtonModel",
      "state": {
       "description": "schwache Deklination",
       "layout": "IPY_MODEL_8572b2bffe064681a56c735895094497",
       "style": "IPY_MODEL_984efcbc54144d11b8d10c052b628bd4"
      }
     },
     "a6f9f017dd2c44e9836c99ed80448b94": {
      "model_module": "@jupyter-widgets/base",
      "model_module_version": "1.2.0",
      "model_name": "LayoutModel",
      "state": {
       "width": "600px"
      }
     },
     "a799aa77de6d42d981faa9318dba9f32": {
      "model_module": "@jupyter-widgets/controls",
      "model_module_version": "1.5.0",
      "model_name": "DescriptionStyleModel",
      "state": {
       "description_width": "initial"
      }
     },
     "a7b63e4567b9430381776cfeca5a227e": {
      "model_module": "@jupyter-widgets/base",
      "model_module_version": "1.2.0",
      "model_name": "LayoutModel",
      "state": {}
     },
     "a7d4d9a937cd4c45800b69529a6322a3": {
      "model_module": "@jupyter-widgets/base",
      "model_module_version": "1.2.0",
      "model_name": "LayoutModel",
      "state": {}
     },
     "a83256338b60420aa4b6d0a4435f9e11": {
      "model_module": "@jupyter-widgets/controls",
      "model_module_version": "1.5.0",
      "model_name": "DescriptionStyleModel",
      "state": {
       "description_width": ""
      }
     },
     "a84532bd419a472ea7984ef45cf48762": {
      "model_module": "@jupyter-widgets/controls",
      "model_module_version": "1.5.0",
      "model_name": "CheckboxModel",
      "state": {
       "description": "FS0 = [CAT = N, GEN = FEM], FS1 = [CAT = N, GEN = FEM]",
       "disabled": false,
       "layout": "IPY_MODEL_af4f9bc58f7c4547b3e32301dd507666",
       "style": "IPY_MODEL_a15a651be95542c3ac1b6353ff91dc65",
       "value": false
      }
     },
     "a85b4e50874c40edaac42408554ba85d": {
      "model_module": "@jupyter-widgets/controls",
      "model_module_version": "1.5.0",
      "model_name": "DropdownModel",
      "state": {
       "_options_labels": [
        "Adverbial",
        "Nomen",
        "Personalpronomen",
        " "
       ],
       "index": 3,
       "layout": "IPY_MODEL_64b668d660134341a0762665cab27038",
       "style": "IPY_MODEL_6e4622c3f0874eb1b68cab18bd60c26a"
      }
     },
     "a89a1bcfe68e4666afd46304ceb92af2": {
      "model_module": "@jupyter-widgets/controls",
      "model_module_version": "1.5.0",
      "model_name": "DescriptionStyleModel",
      "state": {
       "description_width": "initial"
      }
     },
     "a8cbcc48498344009dacfa0ff3c9f75b": {
      "model_module": "@jupyter-widgets/controls",
      "model_module_version": "1.5.0",
      "model_name": "ButtonModel",
      "state": {
       "description": "Time",
       "layout": "IPY_MODEL_559bfb4f53774ca6be4bf46552f3c9be",
       "style": "IPY_MODEL_af065af0150b498d9da99ede29ea65e8"
      }
     },
     "a8d3d558b10d44f086d4d3e54b792aff": {
      "model_module": "@jupyter-widgets/controls",
      "model_module_version": "1.5.0",
      "model_name": "ButtonModel",
      "state": {
       "description": "Korrekt?",
       "layout": "IPY_MODEL_4254fa860fbb48e8be56f02ce1c9ec92",
       "style": "IPY_MODEL_0fc7fb9d660d46f5978a01b69f5944fc"
      }
     },
     "a8e1c12b592a4a9e9d7617e90591c5e2": {
      "model_module": "@jupyter-widgets/controls",
      "model_module_version": "1.5.0",
      "model_name": "DescriptionStyleModel",
      "state": {
       "description_width": "initial"
      }
     },
     "a90695b7616b40388e4e0eeca40d99fe": {
      "model_module": "@jupyter-widgets/controls",
      "model_module_version": "1.5.0",
      "model_name": "ButtonStyleModel",
      "state": {}
     },
     "a907395033f54f96939a2976a83d9709": {
      "model_module": "@jupyter-widgets/base",
      "model_module_version": "1.2.0",
      "model_name": "LayoutModel",
      "state": {
       "width": "600px"
      }
     },
     "a91adbf4fffb42e9a2cba6b815fa4e72": {
      "model_module": "@jupyter-widgets/controls",
      "model_module_version": "1.5.0",
      "model_name": "HBoxModel",
      "state": {
       "children": [
        "IPY_MODEL_ead329c081f345e4be5cd1e034f97671",
        "IPY_MODEL_1bb9b6dc0eda4683b4a89acf599439bd"
       ],
       "layout": "IPY_MODEL_4fdd415361814918b9b367c937e0b438"
      }
     },
     "a947f816cfb7489fb87ce2f1d6018b06": {
      "model_module": "@jupyter-widgets/base",
      "model_module_version": "1.2.0",
      "model_name": "LayoutModel",
      "state": {
       "width": "150px"
      }
     },
     "a9a37da1570d4af6909bba79cf288f4d": {
      "model_module": "@jupyter-widgets/controls",
      "model_module_version": "1.5.0",
      "model_name": "ButtonModel",
      "state": {
       "description": "Korrekt?",
       "layout": "IPY_MODEL_ac1da870a4f148139b5553dd4f2f05e6",
       "style": "IPY_MODEL_ee41f52d63044996b9085e3ec0eda57d"
      }
     },
     "a9ac759778c046409838e8b6b89e47b0": {
      "model_module": "@jupyter-widgets/controls",
      "model_module_version": "1.5.0",
      "model_name": "ButtonStyleModel",
      "state": {}
     },
     "a9bc43c49b1247548e988b028221daf1": {
      "model_module": "@jupyter-widgets/controls",
      "model_module_version": "1.5.0",
      "model_name": "CheckboxModel",
      "state": {
       "description": "Keine der Alternativen",
       "disabled": false,
       "layout": "IPY_MODEL_225620a268c84f3e83a5f9cfb0a55f2a",
       "style": "IPY_MODEL_59ff92f19cc44a49b52042bc08d451a3",
       "value": false
      }
     },
     "a9fc642476994a9cbd4f05e1a01fa0cd": {
      "model_module": "@jupyter-widgets/controls",
      "model_module_version": "1.5.0",
      "model_name": "HTMLModel",
      "state": {
       "layout": "IPY_MODEL_cc4e9e50bb964aae90d461a78ded6513",
       "style": "IPY_MODEL_eb2c693cf3ad474d9a8a314cd893d9d4",
       "value": "<i>Markieren Sie <ins>alle</ins> passenden Antworten: </i>"
      }
     },
     "aa07bb7aa6c7459a97cd4d8b4829dc23": {
      "model_module": "@jupyter-widgets/controls",
      "model_module_version": "1.5.0",
      "model_name": "VBoxModel",
      "state": {
       "children": [
        "IPY_MODEL_3748b621428a47ab8f1c379e7e0fa150",
        "IPY_MODEL_8c3df7e8cc644bf38e50cef16c90f377",
        "IPY_MODEL_d160e1fed3694d2a91d8063f2c4f1405",
        "IPY_MODEL_6ab225da856647ef8d3a2fc2a92481e1"
       ],
       "layout": "IPY_MODEL_574c9b5679814c9ab08ca880ec880fc4"
      }
     },
     "aa0a092886744413921e82e374fdfa25": {
      "model_module": "@jupyter-widgets/controls",
      "model_module_version": "1.5.0",
      "model_name": "ButtonModel",
      "state": {
       "description": "stack",
       "layout": "IPY_MODEL_4a5c75f6b4974b0e94316bebcefd1b54",
       "style": "IPY_MODEL_785e0cceff254af085285152492dbcd1"
      }
     },
     "aa5a0b18ced244bb81ff13697a6103b1": {
      "model_module": "@jupyter-widgets/controls",
      "model_module_version": "1.5.0",
      "model_name": "DescriptionStyleModel",
      "state": {
       "description_width": ""
      }
     },
     "aa5af067c9bb4ea8b702aa84b85210de": {
      "model_module": "@jupyter-widgets/controls",
      "model_module_version": "1.5.0",
      "model_name": "DescriptionStyleModel",
      "state": {
       "description_width": "initial"
      }
     },
     "aa915519f12045a8ad04dfb630ff7a19": {
      "model_module": "@jupyter-widgets/base",
      "model_module_version": "1.2.0",
      "model_name": "LayoutModel",
      "state": {
       "width": "600px"
      }
     },
     "aa9252ce7926498eae1988c4a9bbdda2": {
      "model_module": "@jupyter-widgets/base",
      "model_module_version": "1.2.0",
      "model_name": "LayoutModel",
      "state": {
       "width": "600px"
      }
     },
     "aa9568fd70d446e790c497cbabd559cc": {
      "model_module": "@jupyter-widgets/base",
      "model_module_version": "1.2.0",
      "model_name": "LayoutModel",
      "state": {
       "width": "250px"
      }
     },
     "aaa187f7b89048be8ecd75dfc3bce231": {
      "model_module": "@jupyter-widgets/base",
      "model_module_version": "1.2.0",
      "model_name": "LayoutModel",
      "state": {
       "width": "250px"
      }
     },
     "aaa8998acb7142e0ac260833d6007f9d": {
      "model_module": "@jupyter-widgets/controls",
      "model_module_version": "1.5.0",
      "model_name": "DescriptionStyleModel",
      "state": {
       "description_width": "initial"
      }
     },
     "aac0046e7c1c4b8fb06928d66b0ded30": {
      "model_module": "@jupyter-widgets/controls",
      "model_module_version": "1.5.0",
      "model_name": "VBoxModel",
      "state": {
       "children": [
        "IPY_MODEL_d75a29de8e3f41a6ba3a58944ce89405",
        "IPY_MODEL_4d180c7c17b845d2b1b65a608e62d873",
        "IPY_MODEL_e69d6600bdc549b78b7d51aed0f840a0"
       ],
       "layout": "IPY_MODEL_d2cf1bfb76ee41b59eb6a083abb89c7c"
      }
     },
     "aade5af70ca74773ae4f8a102489e5df": {
      "model_module": "@jupyter-widgets/controls",
      "model_module_version": "1.5.0",
      "model_name": "VBoxModel",
      "state": {
       "children": [
        "IPY_MODEL_c585cdfc5926437d889c56c083386180",
        "IPY_MODEL_8585ed38dd444173b9b218587258bbae",
        "IPY_MODEL_94ba0b60da9a4be4b2b3d878c895489e",
        "IPY_MODEL_166b306adb244ebab49ef9930b66b08c",
        "IPY_MODEL_c06edc000cfa42379f4723e2183ae308",
        "IPY_MODEL_9e4b2b1210ef4b8cb5565c0107f68340"
       ],
       "layout": "IPY_MODEL_daa3d272677c4dbc892e5181c1214927"
      }
     },
     "aaf77ae3ffa64cb7964abe60c333d14a": {
      "model_module": "@jupyter-widgets/base",
      "model_module_version": "1.2.0",
      "model_name": "LayoutModel",
      "state": {}
     },
     "ab077d10a90d4825a98671edaf3e11ab": {
      "model_module": "@jupyter-widgets/base",
      "model_module_version": "1.2.0",
      "model_name": "LayoutModel",
      "state": {
       "width": "250px"
      }
     },
     "ab6b55ad87a840df8cc4f0b8e830bc89": {
      "model_module": "@jupyter-widgets/controls",
      "model_module_version": "1.5.0",
      "model_name": "DescriptionStyleModel",
      "state": {
       "description_width": ""
      }
     },
     "ab84f0256c2b4580a792d1e22709fbc2": {
      "model_module": "@jupyter-widgets/controls",
      "model_module_version": "1.5.0",
      "model_name": "HBoxModel",
      "state": {
       "children": [
        "IPY_MODEL_d369df6585f742d5a9957a38744c3c35",
        "IPY_MODEL_04a11d267b4845298489b5719870cb55"
       ],
       "layout": "IPY_MODEL_657b4c54894946e4a20b89f29e17b049"
      }
     },
     "ab92849b470945a69e16f00736a59d6a": {
      "model_module": "@jupyter-widgets/controls",
      "model_module_version": "1.5.0",
      "model_name": "CheckboxModel",
      "state": {
       "description": "FS0 = [CAT = N, GEN = MASK], FS1 = [CAT = N]",
       "disabled": false,
       "layout": "IPY_MODEL_cc827ce28a5246cf99e36c7bfa483c2d",
       "style": "IPY_MODEL_0475f6da2f2a48089449ce4c31ba3763",
       "value": true
      }
     },
     "abb80dca92294d74a8d5b06468499e6c": {
      "model_module": "@jupyter-widgets/controls",
      "model_module_version": "1.5.0",
      "model_name": "HTMLModel",
      "state": {
       "layout": "IPY_MODEL_56ed7e7cc9c247fb9002a99e40bab882",
       "style": "IPY_MODEL_0a29756dc67749a78674072ec9356a64",
       "value": "<i>Wählen Sie die <ins>eine</ins> korrekte Antwort aus: </i>"
      }
     },
     "abb8bfeff3c2443ea8bce2616ad8b19f": {
      "model_module": "@jupyter-widgets/controls",
      "model_module_version": "1.5.0",
      "model_name": "VBoxModel",
      "state": {
       "children": [
        "IPY_MODEL_7c03141828dd443f9c35f9eb7707be0c",
        "IPY_MODEL_5507b1c669d94346ae1d531a01ff9066",
        "IPY_MODEL_02b533a66129439293786145d3bb39f2",
        "IPY_MODEL_193e6dda682348e790d4f2bd4ea4160a"
       ],
       "layout": "IPY_MODEL_71628d4c1718454f891dbd41c8f13c39"
      }
     },
     "abe60d7943664404b4c73acc8d22a696": {
      "model_module": "@jupyter-widgets/controls",
      "model_module_version": "1.5.0",
      "model_name": "DescriptionStyleModel",
      "state": {
       "description_width": "initial"
      }
     },
     "abec51ff152a43498e39554e3b8a1e80": {
      "model_module": "@jupyter-widgets/base",
      "model_module_version": "1.2.0",
      "model_name": "LayoutModel",
      "state": {
       "justify_content": "center"
      }
     },
     "abed0b5383564d5892b979aba836eb7c": {
      "model_module": "@jupyter-widgets/controls",
      "model_module_version": "1.5.0",
      "model_name": "CheckboxModel",
      "state": {
       "description": "Passivierung (Objekt-Promotion)",
       "disabled": false,
       "layout": "IPY_MODEL_88b2f8eb594a4d5580f95fb84437ea85",
       "style": "IPY_MODEL_89d23efab4da4dd89ff0f262fa9db3c8",
       "value": false
      }
     },
     "ac05917b9bc94faf93961cdc6a3ddceb": {
      "model_module": "@jupyter-widgets/controls",
      "model_module_version": "1.5.0",
      "model_name": "ButtonStyleModel",
      "state": {}
     },
     "ac0734257e1844619f61026b9e99a633": {
      "model_module": "@jupyter-widgets/controls",
      "model_module_version": "1.5.0",
      "model_name": "ButtonStyleModel",
      "state": {}
     },
     "ac1da870a4f148139b5553dd4f2f05e6": {
      "model_module": "@jupyter-widgets/base",
      "model_module_version": "1.2.0",
      "model_name": "LayoutModel",
      "state": {
       "width": "250px"
      }
     },
     "ac23cc0feab14d67a508a32965f4e5dc": {
      "model_module": "@jupyter-widgets/controls",
      "model_module_version": "1.5.0",
      "model_name": "CheckboxModel",
      "state": {
       "description": "FS0 = [CAT = N, GEN = MASK], FS1 = [CAT = N]",
       "disabled": false,
       "layout": "IPY_MODEL_6bb1f76b4d64494391626793026a0aa5",
       "style": "IPY_MODEL_026cbf434a4c4ccfafb62ddf2432d33b",
       "value": false
      }
     },
     "ac52f9cb535e4ae0bb5ad488ef65e20a": {
      "model_module": "@jupyter-widgets/base",
      "model_module_version": "1.2.0",
      "model_name": "LayoutModel",
      "state": {
       "width": "250px"
      }
     },
     "acb693c21096497a9e64e47284d87a4c": {
      "model_module": "@jupyter-widgets/base",
      "model_module_version": "1.2.0",
      "model_name": "LayoutModel",
      "state": {
       "width": "250px"
      }
     },
     "acd154fc6e5c4d2db0ee422c2085009e": {
      "model_module": "@jupyter-widgets/controls",
      "model_module_version": "1.5.0",
      "model_name": "ButtonStyleModel",
      "state": {}
     },
     "ace4466c57734d2fb079ea4e6b36c42e": {
      "model_module": "@jupyter-widgets/base",
      "model_module_version": "1.2.0",
      "model_name": "LayoutModel",
      "state": {
       "width": "250px"
      }
     },
     "acfe9273bd284d4982dff304ce878241": {
      "model_module": "@jupyter-widgets/controls",
      "model_module_version": "1.5.0",
      "model_name": "VBoxModel",
      "state": {
       "children": [
        "IPY_MODEL_891a377be8a840558d109cb05f759efc",
        "IPY_MODEL_187d8cd99cb84a4eb52ad5bffe5f0b4a",
        "IPY_MODEL_dd5784dac90c4b8ea82360be85ba447d",
        "IPY_MODEL_b23df8ebe0754b038e7404fa7d3f7c18"
       ],
       "layout": "IPY_MODEL_f971ff32939644d19ae78ac37320c4c6"
      }
     },
     "ad423797bb294ea78f0943cfd0a582a4": {
      "model_module": "@jupyter-widgets/controls",
      "model_module_version": "1.5.0",
      "model_name": "ButtonStyleModel",
      "state": {}
     },
     "ad4cdcc742e74d3fa84d18ba6b1ec98b": {
      "model_module": "@jupyter-widgets/controls",
      "model_module_version": "1.5.0",
      "model_name": "VBoxModel",
      "state": {
       "children": [
        "IPY_MODEL_4f7cd19a5dd24f0aaaf3d273f7233703",
        "IPY_MODEL_56fc223339664ab9b1e54dc4580d96b5",
        "IPY_MODEL_71ed94b31ddd4779b2f1268c40f51fef",
        "IPY_MODEL_f56bff7bbaab465d8dd63cd396adabdf"
       ],
       "layout": "IPY_MODEL_bd0f71d8a5624c4f885958c0791abcd3"
      }
     },
     "ad8c5ea324744c9795867eb755a6ac64": {
      "model_module": "@jupyter-widgets/controls",
      "model_module_version": "1.5.0",
      "model_name": "VBoxModel",
      "state": {
       "children": [
        "IPY_MODEL_8a0afe1faebd42e8ad111b263126f6fd",
        "IPY_MODEL_42aa2f9e922c4082a8ed334c3f6b9d29",
        "IPY_MODEL_f1b2e0f2a4cb41238959941daec2fd10",
        "IPY_MODEL_1c345ff9d03147898c05806908ae5d94"
       ],
       "layout": "IPY_MODEL_75ffca31c8e141d19e54584ae523ced9"
      }
     },
     "adb4d10bd4b84632899ca59a7a5de5c0": {
      "model_module": "@jupyter-widgets/controls",
      "model_module_version": "1.5.0",
      "model_name": "HTMLModel",
      "state": {
       "layout": "IPY_MODEL_148acf2ca2524db9a097f55ac91f98be",
       "style": "IPY_MODEL_8dce96db91d14446a3e7f0d317022a06",
       "value": "<i>Markieren Sie <ins>alle</ins> passenden Antworten: </i>"
      }
     },
     "ade119dfb3d24618bd94c3823888006e": {
      "model_module": "@jupyter-widgets/controls",
      "model_module_version": "1.5.0",
      "model_name": "VBoxModel",
      "state": {
       "children": [
        "IPY_MODEL_2ba894aa34c14a0bb3207a1791f3b567",
        "IPY_MODEL_023bbfb9e0864325a6199c108b9473e2",
        "IPY_MODEL_ec8f5379574f4391a322d859a73ba672",
        "IPY_MODEL_7a3af322462e44f3b0de644b516b8592"
       ],
       "layout": "IPY_MODEL_989d9e0921934283ad5808ce3dac222a"
      }
     },
     "ade9c55819074dae9b0dc208a492d865": {
      "model_module": "@jupyter-widgets/base",
      "model_module_version": "1.2.0",
      "model_name": "LayoutModel",
      "state": {}
     },
     "adf06600861a4b3c8a65529fc6cd15b4": {
      "model_module": "@jupyter-widgets/controls",
      "model_module_version": "1.5.0",
      "model_name": "DescriptionStyleModel",
      "state": {
       "description_width": ""
      }
     },
     "adf3e458c6e8486bad001f08d9120f3a": {
      "model_module": "@jupyter-widgets/controls",
      "model_module_version": "1.5.0",
      "model_name": "CheckboxModel",
      "state": {
       "description": "?x",
       "disabled": false,
       "layout": "IPY_MODEL_a14d4f58ff274b8ba89751e19af760ac",
       "style": "IPY_MODEL_a2c902777fd34b14906ef05870450e1f",
       "value": true
      }
     },
     "ae114231639d4dcab71d40c2abb2e228": {
      "model_module": "@jupyter-widgets/controls",
      "model_module_version": "1.5.0",
      "model_name": "CheckboxModel",
      "state": {
       "description": "Das Adjektiv tritt nur in zwei verschiedenen Formen auf.",
       "disabled": false,
       "layout": "IPY_MODEL_80adc789c03045dcbb1d806ae484e78a",
       "style": "IPY_MODEL_e92913e9ccbf477f990bc24d4cf84e43",
       "value": true
      }
     },
     "ae1d4eedaec740e49526d4bf558077d9": {
      "model_module": "@jupyter-widgets/controls",
      "model_module_version": "1.5.0",
      "model_name": "HTMLModel",
      "state": {
       "layout": "IPY_MODEL_cf3e1c8ba5db4960a2d895c88506ed6a",
       "style": "IPY_MODEL_5a414d3213e64c17bbeacb4acef4bfe3",
       "value": "<i>Markieren Sie <ins>alle</ins> passenden Antworten: </i>"
      }
     },
     "ae1da5c2128f4e9aa9e3d71dcb682836": {
      "model_module": "@jupyter-widgets/base",
      "model_module_version": "1.2.0",
      "model_name": "LayoutModel",
      "state": {}
     },
     "ae91785aec3248638b5a753c7cca44b3": {
      "model_module": "@jupyter-widgets/controls",
      "model_module_version": "1.5.0",
      "model_name": "ButtonModel",
      "state": {
       "description": "Korrekt?",
       "layout": "IPY_MODEL_2477e62bab294b5d82d96fd475cd3c02",
       "style": "IPY_MODEL_35eefc937e0047bd87761dffe306db76"
      }
     },
     "aea376f99bff4edea4206ec5fb9d1589": {
      "model_module": "@jupyter-widgets/controls",
      "model_module_version": "1.5.0",
      "model_name": "DescriptionStyleModel",
      "state": {
       "description_width": ""
      }
     },
     "aea4e62af9cd4c6c9fda1e50db774f50": {
      "model_module": "@jupyter-widgets/controls",
      "model_module_version": "1.5.0",
      "model_name": "ButtonModel",
      "state": {
       "description": "schwache Deklination",
       "layout": "IPY_MODEL_11b6b5092f1b4749b61eb86ebcacc566",
       "style": "IPY_MODEL_48adcd27eb9f4269bee6c0d81c27906e"
      }
     },
     "aeaf15dbe0544c2d88be9633f0bfbb11": {
      "model_module": "@jupyter-widgets/controls",
      "model_module_version": "1.5.0",
      "model_name": "ButtonModel",
      "state": {
       "description": "Agens",
       "layout": "IPY_MODEL_acb693c21096497a9e64e47284d87a4c",
       "style": "IPY_MODEL_2c28f8a64c2a42098d31632e31dc1a2b"
      }
     },
     "aeb042b9b8434697b9582a7801718878": {
      "model_module": "@jupyter-widgets/controls",
      "model_module_version": "1.5.0",
      "model_name": "ButtonModel",
      "state": {
       "description": "Korrekt?",
       "layout": "IPY_MODEL_aa9568fd70d446e790c497cbabd559cc",
       "style": "IPY_MODEL_a014006e30eb444a8d42f19e21a069a5"
      }
     },
     "aedb0106c063485ebae6f20857ba39be": {
      "model_module": "@jupyter-widgets/controls",
      "model_module_version": "1.5.0",
      "model_name": "HTMLModel",
      "state": {
       "layout": "IPY_MODEL_3c789d35f08a4ed09794457d2b1215c7",
       "style": "IPY_MODEL_2ff080af5bdd4012ae5cb6dd01548fdf",
       "value": "<h4 style=\"font-size:14px;\">Um welchen Faktor erhöht sich die Regelanzahl, wenn man Kongruenz (Agreement) in Numerus und Person durch Integration von Merkmalen in die Kategoriensymbole einer CFG modelliert (S → NP_1_SG VP_1_SG usw.)?</h4>"
      }
     },
     "af057ab5f44f4c3da5f653d22ad94016": {
      "model_module": "@jupyter-widgets/base",
      "model_module_version": "1.2.0",
      "model_name": "LayoutModel",
      "state": {}
     },
     "af065af0150b498d9da99ede29ea65e8": {
      "model_module": "@jupyter-widgets/controls",
      "model_module_version": "1.5.0",
      "model_name": "ButtonStyleModel",
      "state": {}
     },
     "af07deb28e8d467b85ef31345f1659b0": {
      "model_module": "@jupyter-widgets/controls",
      "model_module_version": "1.5.0",
      "model_name": "HTMLModel",
      "state": {
       "layout": "IPY_MODEL_2b6a1660378744ac84b359ae0fb56901",
       "style": "IPY_MODEL_6d3aa809f45546699d413952a59ec4f6",
       "value": "<h4 style=\"font-size:14px;\">Welche der Beispiele erfüllen die Subsumptionsbeziehung aus 10b nicht?</h4>"
      }
     },
     "af13e83af41e4050bcbddb61dcbbe603": {
      "model_module": "@jupyter-widgets/controls",
      "model_module_version": "1.5.0",
      "model_name": "CheckboxModel",
      "state": {
       "description": "Sie werden im Vorhinein deklariert (feature lexicon)",
       "disabled": false,
       "layout": "IPY_MODEL_5d49a889d4d547fdb41211a0b8be4534",
       "style": "IPY_MODEL_d37d9ffc116e4b84972fc71a331349c7",
       "value": false
      }
     },
     "af36cc8366584b9eabb55610bfd31cb4": {
      "model_module": "@jupyter-widgets/controls",
      "model_module_version": "1.5.0",
      "model_name": "HTMLModel",
      "state": {
       "layout": "IPY_MODEL_4a56df3d0c014535bc50c448d8d397ab",
       "style": "IPY_MODEL_c31137ea47184ca79ab1aaddee6b91b1",
       "value": "<h4 style=\"font-size:14px;\">Wie läßt sich im NLTK ein äquivalenter Pfad definieren?</h4>"
      }
     },
     "af4f9bc58f7c4547b3e32301dd507666": {
      "model_module": "@jupyter-widgets/base",
      "model_module_version": "1.2.0",
      "model_name": "LayoutModel",
      "state": {
       "width": "600px"
      }
     },
     "af53ec38b92543b989dd1db38dd868f9": {
      "model_module": "@jupyter-widgets/base",
      "model_module_version": "1.2.0",
      "model_name": "LayoutModel",
      "state": {
       "width": "600px"
      }
     },
     "af806ece793d4416be8ea35be29380d6": {
      "model_module": "@jupyter-widgets/controls",
      "model_module_version": "1.5.0",
      "model_name": "DescriptionStyleModel",
      "state": {
       "description_width": "initial"
      }
     },
     "afb6afde4b1d4bc089ec56c55fea33a7": {
      "model_module": "@jupyter-widgets/base",
      "model_module_version": "1.2.0",
      "model_name": "LayoutModel",
      "state": {}
     },
     "afbfd0ae9bca492f90f3fc0eead33ea4": {
      "model_module": "@jupyter-widgets/controls",
      "model_module_version": "1.5.0",
      "model_name": "HTMLModel",
      "state": {
       "layout": "IPY_MODEL_cba98b51b25243818c8fcaf3a027caad",
       "style": "IPY_MODEL_f0220fcb9a72414592b926c0c2561fa6",
       "value": "<h4 style=\"font-size:14px;\">dekliniert. Dies mag daran liegen, dass die</h4>"
      }
     },
     "b028a12c10034efe98c1338ae5c92034": {
      "model_module": "@jupyter-widgets/controls",
      "model_module_version": "1.5.0",
      "model_name": "HTMLModel",
      "state": {
       "layout": "IPY_MODEL_0538fff790644701b36a4ad384930c1c",
       "style": "IPY_MODEL_e19862a969a54ca48db45c06f1ec1db5",
       "value": "<i>Markieren Sie <ins>alle</ins> passenden Antworten: </i>"
      }
     },
     "b0341f82695a486b8c32a2b0ca3f8983": {
      "model_module": "@jupyter-widgets/controls",
      "model_module_version": "1.5.0",
      "model_name": "HBoxModel",
      "state": {
       "children": [
        "IPY_MODEL_150a06964a2644d5a00ea3d5ddaf41e7",
        "IPY_MODEL_9ba0fb8758ca44b7bff8ba581f855fa9"
       ],
       "layout": "IPY_MODEL_4ab1bfb84b19457fb52952692014de5d"
      }
     },
     "b04e839788054433bf2aad67555095f2": {
      "model_module": "@jupyter-widgets/base",
      "model_module_version": "1.2.0",
      "model_name": "LayoutModel",
      "state": {
       "width": "600px"
      }
     },
     "b0a1910b793949628b26ed6db6b31b60": {
      "model_module": "@jupyter-widgets/controls",
      "model_module_version": "1.5.0",
      "model_name": "DescriptionStyleModel",
      "state": {
       "description_width": ""
      }
     },
     "b0c0722158e9479cb90179ee83780794": {
      "model_module": "@jupyter-widgets/controls",
      "model_module_version": "1.5.0",
      "model_name": "DescriptionStyleModel",
      "state": {
       "description_width": ""
      }
     },
     "b0d93ac5c5a14e5493c58d3f81a6c934": {
      "model_module": "@jupyter-widgets/base",
      "model_module_version": "1.2.0",
      "model_name": "LayoutModel",
      "state": {
       "width": "250px"
      }
     },
     "b0e5ac48833a4f7baa6b945ccee09bb4": {
      "model_module": "@jupyter-widgets/base",
      "model_module_version": "1.2.0",
      "model_name": "LayoutModel",
      "state": {}
     },
     "b10c140f9d2342c181a3ab6e6900f6ae": {
      "model_module": "@jupyter-widgets/controls",
      "model_module_version": "1.5.0",
      "model_name": "ButtonModel",
      "state": {
       "description": "Benefaktiv",
       "layout": "IPY_MODEL_343e29d44abc41789d19d7fa2f89b2e8",
       "style": "IPY_MODEL_5ff17c9bf8694e31a36d578a5c2dbb79"
      }
     },
     "b13896ff6a664580964761bcc3094935": {
      "model_module": "@jupyter-widgets/controls",
      "model_module_version": "1.5.0",
      "model_name": "HBoxModel",
      "state": {
       "children": [
        "IPY_MODEL_db0c0169a11441c19bacbb6bbff12d83",
        "IPY_MODEL_0f2f0ddf1d604df68d3d9975ae79ff58"
       ],
       "layout": "IPY_MODEL_e900d083f275456591c5aec8f96a5b6e"
      }
     },
     "b163f3a75e354350854cdf8cd4f32b2a": {
      "model_module": "@jupyter-widgets/base",
      "model_module_version": "1.2.0",
      "model_name": "LayoutModel",
      "state": {
       "width": "600px"
      }
     },
     "b1659ad4b61d4e4081a21c96c100f3db": {
      "model_module": "@jupyter-widgets/controls",
      "model_module_version": "1.5.0",
      "model_name": "ButtonModel",
      "state": {
       "description": "Korrekt?",
       "layout": "IPY_MODEL_692e9479ab524d21bc83d96412d7483d",
       "style": "IPY_MODEL_5a421af6fdbf434f895515528819c8b6"
      }
     },
     "b1918824962e4dc2a5451ac2ec08aafc": {
      "model_module": "@jupyter-widgets/controls",
      "model_module_version": "1.5.0",
      "model_name": "VBoxModel",
      "state": {
       "children": [
        "IPY_MODEL_60dd51600c65486185b97525ab583ed3",
        "IPY_MODEL_dacc877d5dd349faaa936b6001685e71",
        "IPY_MODEL_059b300889774f1fb639737b3f05e8a9",
        "IPY_MODEL_b5bcb0fdf16943a0826d58e786926d0d"
       ],
       "layout": "IPY_MODEL_c3a4e117244f402d951d178ea0dfcbac"
      }
     },
     "b1ac2b07a2dd47a1becc4d93309ff3ba": {
      "model_module": "@jupyter-widgets/base",
      "model_module_version": "1.2.0",
      "model_name": "LayoutModel",
      "state": {}
     },
     "b2264582a3f64f1380a463cf9b668c27": {
      "model_module": "@jupyter-widgets/controls",
      "model_module_version": "1.5.0",
      "model_name": "ButtonStyleModel",
      "state": {}
     },
     "b23df8ebe0754b038e7404fa7d3f7c18": {
      "model_module": "@jupyter-widgets/controls",
      "model_module_version": "1.5.0",
      "model_name": "ButtonModel",
      "state": {
       "description": "Korrekt?",
       "layout": "IPY_MODEL_bbfcc3774d9941ccb620ad857b805e08",
       "style": "IPY_MODEL_8e4b82dd44644151a8cea3a3abc1c7be"
      }
     },
     "b24627e6f96042a38d2e9d9e33748f44": {
      "model_module": "@jupyter-widgets/controls",
      "model_module_version": "1.5.0",
      "model_name": "ButtonStyleModel",
      "state": {
       "button_color": "lightgreen"
      }
     },
     "b25b9d9bc04749558476e0ab8a138107": {
      "model_module": "@jupyter-widgets/base",
      "model_module_version": "1.2.0",
      "model_name": "LayoutModel",
      "state": {
       "width": "250px"
      }
     },
     "b2b71935a938431086ee7cce90fe029f": {
      "model_module": "@jupyter-widgets/base",
      "model_module_version": "1.2.0",
      "model_name": "LayoutModel",
      "state": {}
     },
     "b2cbf05d968643889649e73b70d3b788": {
      "model_module": "@jupyter-widgets/controls",
      "model_module_version": "1.5.0",
      "model_name": "DropdownModel",
      "state": {
       "_options_labels": [
        "nicht",
        "schwach",
        "stark",
        " "
       ],
       "index": 3,
       "layout": "IPY_MODEL_f649f4648c4440939315e9697c73fc27",
       "style": "IPY_MODEL_936fbd1d31b74066ab6fa9e7d3353891"
      }
     },
     "b2db78b2d3a942688b833cc8a3def789": {
      "model_module": "@jupyter-widgets/controls",
      "model_module_version": "1.5.0",
      "model_name": "HTMLModel",
      "state": {
       "layout": "IPY_MODEL_660c7e839dea4a8f84deb1f90ac35400",
       "style": "IPY_MODEL_24f77806c7774d98a3c05d6e0d97131b",
       "value": "<h4 style=\"font-size:14px;\">Was passiert nach semantischer Hierarchie, wenn kein Agens vorhanden ist?</h4>"
      }
     },
     "b300344650f6459b9e2e7ea3ec6a3c27": {
      "model_module": "@jupyter-widgets/controls",
      "model_module_version": "1.5.0",
      "model_name": "ButtonModel",
      "state": {
       "description": "Instrument",
       "layout": "IPY_MODEL_608428216b954e1aafcbecd7d5f490b6",
       "style": "IPY_MODEL_56d5fffe5ff34fb7b3beb11f6b4635d7"
      }
     },
     "b312d4eefc6744878086965652205b88": {
      "model_module": "@jupyter-widgets/base",
      "model_module_version": "1.2.0",
      "model_name": "LayoutModel",
      "state": {}
     },
     "b31db0ae1f4a42778fd1f7691eb4b7cf": {
      "model_module": "@jupyter-widgets/base",
      "model_module_version": "1.2.0",
      "model_name": "LayoutModel",
      "state": {
       "width": "250px"
      }
     },
     "b32621e5a6374141b3589842bae1d2f0": {
      "model_module": "@jupyter-widgets/controls",
      "model_module_version": "1.5.0",
      "model_name": "DescriptionStyleModel",
      "state": {
       "description_width": ""
      }
     },
     "b329a6ff49d34ce3bf3b9cc5307dca03": {
      "model_module": "@jupyter-widgets/base",
      "model_module_version": "1.2.0",
      "model_name": "LayoutModel",
      "state": {
       "width": "600px"
      }
     },
     "b32e4339438d4a5e8ce12f357a8a5ede": {
      "model_module": "@jupyter-widgets/controls",
      "model_module_version": "1.5.0",
      "model_name": "DescriptionStyleModel",
      "state": {
       "description_width": ""
      }
     },
     "b34b4935874b4ab2a7412d385c71fdfe": {
      "model_module": "@jupyter-widgets/controls",
      "model_module_version": "1.5.0",
      "model_name": "HTMLModel",
      "state": {
       "layout": "IPY_MODEL_4788a472dfff4a8c896e28c0ffbb5fd0",
       "style": "IPY_MODEL_3687e694dcca4b3f803cab88c12aebcd",
       "value": "<i>Wählen Sie die <ins>eine</ins> korrekte Antwort aus: </i>"
      }
     },
     "b36063011846463a8924216a85b18060": {
      "model_module": "@jupyter-widgets/controls",
      "model_module_version": "1.5.0",
      "model_name": "HTMLModel",
      "state": {
       "layout": "IPY_MODEL_72c2ce1fb0c94322a2fd3acd684c77ef",
       "style": "IPY_MODEL_f1d06b3499af4ab9b2c4a07a41d54e2c",
       "value": "<h4 style=\"font-size:14px;\">Welche Aussagen gelten für Nominalphrasen mit bestimmtem Artikel?</h4>"
      }
     },
     "b37bd09b643d45c29d7433ae9989d451": {
      "model_module": "@jupyter-widgets/controls",
      "model_module_version": "1.5.0",
      "model_name": "DescriptionStyleModel",
      "state": {
       "description_width": ""
      }
     },
     "b38001b8ab4e43bab7caf51b2d482934": {
      "model_module": "@jupyter-widgets/controls",
      "model_module_version": "1.5.0",
      "model_name": "DescriptionStyleModel",
      "state": {
       "description_width": ""
      }
     },
     "b3833f032ce842359ad0da7124a0e467": {
      "model_module": "@jupyter-widgets/controls",
      "model_module_version": "1.5.0",
      "model_name": "DescriptionStyleModel",
      "state": {
       "description_width": ""
      }
     },
     "b3ad0775625743e38bff32b965ec3b4f": {
      "model_module": "@jupyter-widgets/controls",
      "model_module_version": "1.5.0",
      "model_name": "VBoxModel",
      "state": {
       "children": [
        "IPY_MODEL_2ef2260fd90a42c488a273493132356b",
        "IPY_MODEL_1c9d4269fa604c8cb6907fecccb1ad95",
        "IPY_MODEL_51cd1f2f33914a0592dceb2a81c12cd7",
        "IPY_MODEL_f40b02f0d90f477ebd6be33419d0f476",
        "IPY_MODEL_3820f618bc4d491e8f78601310af914c"
       ],
       "layout": "IPY_MODEL_c46295d13cc140f28adb679248b470ef"
      }
     },
     "b3bd4eaf2551476fbf8d8caa2ff15745": {
      "model_module": "@jupyter-widgets/controls",
      "model_module_version": "1.5.0",
      "model_name": "HTMLModel",
      "state": {
       "layout": "IPY_MODEL_83d2665935af4be4891e6e21e8d94446",
       "style": "IPY_MODEL_49b47d909aa84796b228bf3b2b588c54",
       "value": "<h4 style=\"font-size:14px;\">Welche Aussagen gelten für den Fall, dass das Adjektiv in einer NP ohne Artikel auftritt? (vgl. <i>altes Bier</i>)</h4>"
      }
     },
     "b3cf852fca7c4a099e2c47a801869b76": {
      "model_module": "@jupyter-widgets/controls",
      "model_module_version": "1.5.0",
      "model_name": "DescriptionStyleModel",
      "state": {
       "description_width": "initial"
      }
     },
     "b3fd415bdcfa464f947c673b5be898f9": {
      "model_module": "@jupyter-widgets/base",
      "model_module_version": "1.2.0",
      "model_name": "LayoutModel",
      "state": {}
     },
     "b4000ad35dc54646874ac9a800b63fe5": {
      "model_module": "@jupyter-widgets/controls",
      "model_module_version": "1.5.0",
      "model_name": "HTMLModel",
      "state": {
       "layout": "IPY_MODEL_793baa694f1a4a30b9aacd3f255da99c",
       "style": "IPY_MODEL_300e7da018d74e0e87869063c6393520",
       "value": "<i>Wählen Sie die <ins>eine</ins> korrekte Antwort aus: </i>"
      }
     },
     "b423151d46924e9bb1716570a43a9420": {
      "model_module": "@jupyter-widgets/controls",
      "model_module_version": "1.5.0",
      "model_name": "HTMLModel",
      "state": {
       "layout": "IPY_MODEL_be15ef6006d84a93898d18c67f9c6383",
       "style": "IPY_MODEL_e63dcfbc08a3423983ff6c03f3af475c",
       "value": "<i>Markieren Sie <ins>alle</ins> passenden Antworten: </i>"
      }
     },
     "b42d2a19c57f479d8696d383b882bc3b": {
      "model_module": "@jupyter-widgets/controls",
      "model_module_version": "1.5.0",
      "model_name": "HTMLModel",
      "state": {
       "layout": "IPY_MODEL_effda473f0344f06a8f65db50ac61e31",
       "style": "IPY_MODEL_3550810b91044161aa9f61a3895ad627",
       "value": "<h4 style=\"font-size:14px;\">Welche syntaktischen Unterschiede bestehen?</h4>"
      }
     },
     "b44a891fa7de47ca9825700ebc2816a2": {
      "model_module": "@jupyter-widgets/controls",
      "model_module_version": "1.5.0",
      "model_name": "HTMLModel",
      "state": {
       "layout": "IPY_MODEL_98351a6336b34342979698c3da6eb211",
       "style": "IPY_MODEL_76ca369eafa940f2afda45c5eb255ae5",
       "value": "<i>Wählen Sie die <ins>eine</ins> korrekte Antwort aus: </i>"
      }
     },
     "b48f6b0f0c084a05a4182b1be3756d4a": {
      "model_module": "@jupyter-widgets/base",
      "model_module_version": "1.2.0",
      "model_name": "LayoutModel",
      "state": {
       "justify_content": "center"
      }
     },
     "b4a23e51fec5426ba406e6f76e8dbb9b": {
      "model_module": "@jupyter-widgets/controls",
      "model_module_version": "1.5.0",
      "model_name": "DescriptionStyleModel",
      "state": {
       "description_width": ""
      }
     },
     "b4a4c988e23b41d28a6c33ce9f121230": {
      "model_module": "@jupyter-widgets/controls",
      "model_module_version": "1.5.0",
      "model_name": "ButtonModel",
      "state": {
       "description": "schwache Deklination",
       "layout": "IPY_MODEL_69092b2fc08b493492ccd0fbd4515dc1",
       "style": "IPY_MODEL_7e3bfa30cb1b4988ab05a2dba467e52f"
      }
     },
     "b4c7f6f14650415aa0ae0c0d3de465e4": {
      "model_module": "@jupyter-widgets/controls",
      "model_module_version": "1.5.0",
      "model_name": "CheckboxModel",
      "state": {
       "description": "FS0 = [CAT = N, GEN = FEM], FS1 = [CAT = N, GEN = FEM]",
       "disabled": false,
       "layout": "IPY_MODEL_a1b2238bcbaf4d8ab3faa0b9a767a84a",
       "style": "IPY_MODEL_a17ba3be5a4247a2a790ea6d983fb5fa",
       "value": false
      }
     },
     "b4c82d3ad85f41bfbebfc624c5f45bd5": {
      "model_module": "@jupyter-widgets/base",
      "model_module_version": "1.2.0",
      "model_name": "LayoutModel",
      "state": {
       "width": "250px"
      }
     },
     "b4d86e76c97243d19c43b29a34053d67": {
      "model_module": "@jupyter-widgets/controls",
      "model_module_version": "1.5.0",
      "model_name": "HBoxModel",
      "state": {
       "children": [
        "IPY_MODEL_a6e8ddae8a5040d59653f6e72820c885",
        "IPY_MODEL_95d9cf30de0c4d0bbdf5d64df22d84c7"
       ],
       "layout": "IPY_MODEL_7847f2d86e2a4282b14bc34a76c4338f"
      }
     },
     "b50f49c9ef4745f9a493dd9405014467": {
      "model_module": "@jupyter-widgets/controls",
      "model_module_version": "1.5.0",
      "model_name": "ButtonModel",
      "state": {
       "description": "Keine der anderen Möglichkeiten",
       "layout": "IPY_MODEL_1040ec8878964f8c97e523067696cc56",
       "style": "IPY_MODEL_fc71d059ed9349b4988f8b985148d791"
      }
     },
     "b54190d3c3a24d69b97e9616c66b04f5": {
      "model_module": "@jupyter-widgets/base",
      "model_module_version": "1.2.0",
      "model_name": "LayoutModel",
      "state": {
       "width": "250px"
      }
     },
     "b584438a93de4bf480ec65e146e005c2": {
      "model_module": "@jupyter-widgets/controls",
      "model_module_version": "1.5.0",
      "model_name": "VBoxModel",
      "state": {
       "children": [
        "IPY_MODEL_902e0f397c05441ebd92c937a3950091",
        "IPY_MODEL_ae1d4eedaec740e49526d4bf558077d9",
        "IPY_MODEL_974bc4b280ad4d5a96357cd8cb4b39fb",
        "IPY_MODEL_a8d3d558b10d44f086d4d3e54b792aff"
       ],
       "layout": "IPY_MODEL_9e2e62616be04be5b0d25dd598765d28"
      }
     },
     "b5919498165e491d86ce3b42fd3712e4": {
      "model_module": "@jupyter-widgets/base",
      "model_module_version": "1.2.0",
      "model_name": "LayoutModel",
      "state": {}
     },
     "b5b4dc0b11bb44dea35c5b3807bbaea9": {
      "model_module": "@jupyter-widgets/controls",
      "model_module_version": "1.5.0",
      "model_name": "VBoxModel",
      "state": {
       "children": [
        "IPY_MODEL_ccb94038b8934047ab7204e78cb3dea7",
        "IPY_MODEL_4524bee8c81943cfae17446dc012aa1a",
        "IPY_MODEL_8df7e5e90977438ea230b9440766d704",
        "IPY_MODEL_3c733e41a4754a60a8085be862d0ea75"
       ],
       "layout": "IPY_MODEL_5f76e623cf83449ea5aa97630a9f93c2"
      }
     },
     "b5bcb0fdf16943a0826d58e786926d0d": {
      "model_module": "@jupyter-widgets/controls",
      "model_module_version": "1.5.0",
      "model_name": "ButtonModel",
      "state": {
       "description": "Korrekt?",
       "layout": "IPY_MODEL_feb53948bb2340f2ac330489c448f137",
       "style": "IPY_MODEL_1bfb3ce0f9a24581b1b443f8381ce00a"
      }
     },
     "b5f1c7055caf44f7a7ff74666757f3e8": {
      "model_module": "@jupyter-widgets/controls",
      "model_module_version": "1.5.0",
      "model_name": "DescriptionStyleModel",
      "state": {
       "description_width": "initial"
      }
     },
     "b5f5c7efef46484cb9f8a875de2d015e": {
      "model_module": "@jupyter-widgets/controls",
      "model_module_version": "1.5.0",
      "model_name": "HBoxModel",
      "state": {
       "children": [
        "IPY_MODEL_53ecf674e98c483e8e0a9e2b4fd4f61d"
       ],
       "layout": "IPY_MODEL_afb6afde4b1d4bc089ec56c55fea33a7"
      }
     },
     "b612a63eee47455699570614a2eda2ba": {
      "model_module": "@jupyter-widgets/controls",
      "model_module_version": "1.5.0",
      "model_name": "DescriptionStyleModel",
      "state": {
       "description_width": "initial"
      }
     },
     "b61fa74974594bf2a9ebb27b47f3103b": {
      "model_module": "@jupyter-widgets/controls",
      "model_module_version": "1.5.0",
      "model_name": "VBoxModel",
      "state": {
       "children": [
        "IPY_MODEL_73d4978ea298417abc171f42dfee259d",
        "IPY_MODEL_85946ce48af9459aa3b99722fc011fbd",
        "IPY_MODEL_af13e83af41e4050bcbddb61dcbbe603"
       ],
       "layout": "IPY_MODEL_bb71f88d7e9342ebaf95a179d8364233"
      }
     },
     "b64c0558ed6947d0aed646c96cc1aca6": {
      "model_module": "@jupyter-widgets/controls",
      "model_module_version": "1.5.0",
      "model_name": "HBoxModel",
      "state": {
       "children": [
        "IPY_MODEL_d59c02de5b9e4392b769983fe847a94c"
       ],
       "layout": "IPY_MODEL_0e1f61561a8b4ed394fa0edcdfad0812"
      }
     },
     "b653b1350422438fa1d98323bfa1fd7a": {
      "model_module": "@jupyter-widgets/controls",
      "model_module_version": "1.5.0",
      "model_name": "HTMLModel",
      "state": {
       "layout": "IPY_MODEL_8740f63ccdf24115954240b5466a145c",
       "style": "IPY_MODEL_5d6900361a8b4c60b0865749c81b6530",
       "value": "<h4 style=\"font-size:14px;\">dekliniert. Dies mag daran liegen, dass die</h4>"
      }
     },
     "b66f40beb6c041ac8abb58fb3683b00f": {
      "model_module": "@jupyter-widgets/base",
      "model_module_version": "1.2.0",
      "model_name": "LayoutModel",
      "state": {
       "width": "250px"
      }
     },
     "b672bdba9cdc46a383183ada41356c16": {
      "model_module": "@jupyter-widgets/controls",
      "model_module_version": "1.5.0",
      "model_name": "CheckboxModel",
      "state": {
       "description": "!x",
       "disabled": false,
       "layout": "IPY_MODEL_0e18b85acece43bea87177bbfa1ca6c7",
       "style": "IPY_MODEL_ed7301926b2044b8aee9034d3ef43777",
       "value": false
      }
     },
     "b6aca69677e0426c951481ae956d70a7": {
      "model_module": "@jupyter-widgets/controls",
      "model_module_version": "1.5.0",
      "model_name": "DescriptionStyleModel",
      "state": {
       "description_width": "initial"
      }
     },
     "b6b0ff0cd3544a57878da8df2bb59917": {
      "model_module": "@jupyter-widgets/base",
      "model_module_version": "1.2.0",
      "model_name": "LayoutModel",
      "state": {}
     },
     "b6e37c8ed013480e8ae4b3d78facf90a": {
      "model_module": "@jupyter-widgets/controls",
      "model_module_version": "1.5.0",
      "model_name": "CheckboxModel",
      "state": {
       "description": "Die Form des Adjektivs richtet sich nach dem Genus des Substantivs.",
       "disabled": false,
       "layout": "IPY_MODEL_92663015b5ac4923aafa0025cf5fec66",
       "style": "IPY_MODEL_5313a578273a42f1b68fe6edc31652db",
       "value": true
      }
     },
     "b6f2a7146c7a4305b8c1646194f8ea2e": {
      "model_module": "@jupyter-widgets/controls",
      "model_module_version": "1.5.0",
      "model_name": "DescriptionStyleModel",
      "state": {
       "description_width": "initial"
      }
     },
     "b7087748cdc34275bc4085a010473b92": {
      "model_module": "@jupyter-widgets/base",
      "model_module_version": "1.2.0",
      "model_name": "LayoutModel",
      "state": {
       "width": "250px"
      }
     },
     "b714320c97a74f1785a847c45d6909b6": {
      "model_module": "@jupyter-widgets/controls",
      "model_module_version": "1.5.0",
      "model_name": "DropdownModel",
      "state": {
       "_options_labels": [
        "1",
        "10",
        "2",
        "4",
        "6",
        "8",
        "Keine der Alternativen"
       ],
       "description": "Antwort:",
       "index": 0,
       "layout": "IPY_MODEL_1e96a2c187b34c71a28e496aaf6f7dd3",
       "style": "IPY_MODEL_55dab069caa347e4baca52165f574983"
      }
     },
     "b726b4157ff04437b7f98c84e149a71e": {
      "model_module": "@jupyter-widgets/base",
      "model_module_version": "1.2.0",
      "model_name": "LayoutModel",
      "state": {
       "width": "250px"
      }
     },
     "b732b42e6a114c2da74ff8ca4645c801": {
      "model_module": "@jupyter-widgets/controls",
      "model_module_version": "1.5.0",
      "model_name": "ButtonModel",
      "state": {
       "description": "Lokativ",
       "layout": "IPY_MODEL_8cb0334f82ea4787925e8ca2977ba373",
       "style": "IPY_MODEL_79787f3d23bc442ead3ecceee8a16b14"
      }
     },
     "b734ea4a0b1d4d5ea8c14db27f9d526b": {
      "model_module": "@jupyter-widgets/base",
      "model_module_version": "1.2.0",
      "model_name": "LayoutModel",
      "state": {
       "width": "600px"
      }
     },
     "b73f32eb0b954b68bf3039afd5efa02f": {
      "model_module": "@jupyter-widgets/controls",
      "model_module_version": "1.5.0",
      "model_name": "CheckboxModel",
      "state": {
       "description": "x?",
       "disabled": false,
       "layout": "IPY_MODEL_508d53be3fbf4570bb5a4f8b307a99ee",
       "style": "IPY_MODEL_1e4a7459ef624de1862203656f2d8458",
       "value": false
      }
     },
     "b765eda29a9a4bc68760bf839968f53e": {
      "model_module": "@jupyter-widgets/base",
      "model_module_version": "1.2.0",
      "model_name": "LayoutModel",
      "state": {
       "width": "600px"
      }
     },
     "b76973ead251402f938b61bf0fb55282": {
      "model_module": "@jupyter-widgets/base",
      "model_module_version": "1.2.0",
      "model_name": "LayoutModel",
      "state": {
       "width": "250px"
      }
     },
     "b7830287ed8e482cb1a40a6aa1bad42d": {
      "model_module": "@jupyter-widgets/controls",
      "model_module_version": "1.5.0",
      "model_name": "CheckboxModel",
      "state": {
       "description": "FS0 = [CAT = N, GEN = MASK], FS1 = [CAT = N]",
       "disabled": false,
       "layout": "IPY_MODEL_4997fe1b0791438bbf61aa8fc19bfa1a",
       "style": "IPY_MODEL_2d0bec9bab5548199661aad0bd230e35",
       "value": false
      }
     },
     "b787afccfacc4a21926df7a61c02f4d4": {
      "model_module": "@jupyter-widgets/base",
      "model_module_version": "1.2.0",
      "model_name": "LayoutModel",
      "state": {
       "width": "600px"
      }
     },
     "b79b2e718cf647e7abd98298447e3527": {
      "model_module": "@jupyter-widgets/controls",
      "model_module_version": "1.5.0",
      "model_name": "DescriptionStyleModel",
      "state": {
       "description_width": "initial"
      }
     },
     "b7cb37fc3bc640a6a614af22647348bb": {
      "model_module": "@jupyter-widgets/controls",
      "model_module_version": "1.5.0",
      "model_name": "CheckboxModel",
      "state": {
       "description": "Das Fehlen des Artikels hat keine Auswirkungen auf das Adjektiv.",
       "disabled": false,
       "layout": "IPY_MODEL_47a5f0fa79e1408f9284cf23b44fb51e",
       "style": "IPY_MODEL_9b0a5c2fb76f4ed39de0abb47f97fd76",
       "value": false
      }
     },
     "b80090eb159a4d68839253784eae1ea5": {
      "model_module": "@jupyter-widgets/base",
      "model_module_version": "1.2.0",
      "model_name": "LayoutModel",
      "state": {}
     },
     "b87efb2920a041f78a16a0f7d9b37871": {
      "model_module": "@jupyter-widgets/controls",
      "model_module_version": "1.5.0",
      "model_name": "ButtonModel",
      "state": {
       "description": "Korrekt?",
       "layout": "IPY_MODEL_3d8a810b52694bc38e0623e98022b91e",
       "style": "IPY_MODEL_969e0bc81e6846f4b4b9b48c20ffa7a7"
      }
     },
     "b88cb07735d74020a7929901d1e781d4": {
      "model_module": "@jupyter-widgets/base",
      "model_module_version": "1.2.0",
      "model_name": "LayoutModel",
      "state": {
       "justify_content": "center"
      }
     },
     "b8f83c5f4a964638b89c5933799dec9e": {
      "model_module": "@jupyter-widgets/controls",
      "model_module_version": "1.5.0",
      "model_name": "VBoxModel",
      "state": {
       "children": [
        "IPY_MODEL_9de01c6589da487dab891dd36f4ac228",
        "IPY_MODEL_8db8189586c046168960d9c8d6deeb01",
        "IPY_MODEL_4be1e058eb69419aac50b43e34ea22ed"
       ],
       "layout": "IPY_MODEL_482e03c2e93940b8b56c80d5a071323b"
      }
     },
     "b92d378f1b844edeb83bf7c19976f8d2": {
      "model_module": "@jupyter-widgets/base",
      "model_module_version": "1.2.0",
      "model_name": "LayoutModel",
      "state": {
       "justify_content": "center"
      }
     },
     "b9425ac6cbc24c67bd5220af9a4f9690": {
      "model_module": "@jupyter-widgets/base",
      "model_module_version": "1.2.0",
      "model_name": "LayoutModel",
      "state": {
       "width": "600px"
      }
     },
     "b957383bcd614ec4b60493c124aeb84a": {
      "model_module": "@jupyter-widgets/controls",
      "model_module_version": "1.5.0",
      "model_name": "HTMLModel",
      "state": {
       "layout": "IPY_MODEL_9416de2538bc4f4aab41a88f39599452",
       "style": "IPY_MODEL_6bba65fdf41649b49715394f611ad543",
       "value": "<h4 style=\"font-size:14px;\">keine</h4>"
      }
     },
     "b9664391ae7541cbbce728fadb0586ae": {
      "model_module": "@jupyter-widgets/base",
      "model_module_version": "1.2.0",
      "model_name": "LayoutModel",
      "state": {
       "width": "600px"
      }
     },
     "b97463cefd3f49e9b601527572c0b48e": {
      "model_module": "@jupyter-widgets/controls",
      "model_module_version": "1.5.0",
      "model_name": "HTMLModel",
      "state": {
       "layout": "IPY_MODEL_ffb68ea010114de0a6929bdf7f8e8d08",
       "style": "IPY_MODEL_a69cdfb27f31457d8c41301418ce6792",
       "value": "<i>Wählen Sie die <ins>eine</ins> korrekte Antwort aus: </i>"
      }
     },
     "b99a11dd55b1407b8f2e97d4c1eabf30": {
      "model_module": "@jupyter-widgets/controls",
      "model_module_version": "1.5.0",
      "model_name": "HTMLModel",
      "state": {
       "layout": "IPY_MODEL_a6b76e5708c14ae3b52a3791542ef8f1",
       "style": "IPY_MODEL_ba4fd79d63444eca9580f37ba5e76a0f",
       "value": "<i>Wählen Sie die <ins>eine</ins> korrekte Antwort aus: </i>"
      }
     },
     "b9ab265e0c5e4b3294b040dbcae20b54": {
      "model_module": "@jupyter-widgets/controls",
      "model_module_version": "1.5.0",
      "model_name": "DescriptionStyleModel",
      "state": {
       "description_width": "initial"
      }
     },
     "b9d3a4d7fbe2440cbbe7b40be0bd0c05": {
      "model_module": "@jupyter-widgets/base",
      "model_module_version": "1.2.0",
      "model_name": "LayoutModel",
      "state": {
       "width": "250px"
      }
     },
     "b9f54e95c5a04ac788a591535b8e2580": {
      "model_module": "@jupyter-widgets/controls",
      "model_module_version": "1.5.0",
      "model_name": "ButtonModel",
      "state": {
       "description": "Korrekt?",
       "layout": "IPY_MODEL_d0e52bcf1e144d9f94ed796bb9b76ce3",
       "style": "IPY_MODEL_59b1e1b8d43044a1bd94f66eb9cf21d4"
      }
     },
     "ba09ef68f4eb43e3908ae40ea5d74a5d": {
      "model_module": "@jupyter-widgets/controls",
      "model_module_version": "1.5.0",
      "model_name": "DescriptionStyleModel",
      "state": {
       "description_width": "initial"
      }
     },
     "ba41ee9bee41406681a961d11fbcaac6": {
      "model_module": "@jupyter-widgets/base",
      "model_module_version": "1.2.0",
      "model_name": "LayoutModel",
      "state": {
       "width": "600px"
      }
     },
     "ba45e9d6017c4856b6edd640e12a492f": {
      "model_module": "@jupyter-widgets/controls",
      "model_module_version": "1.5.0",
      "model_name": "VBoxModel",
      "state": {
       "children": [
        "IPY_MODEL_a28714e089c645f4a2aeb93bb8355bbf",
        "IPY_MODEL_7276c88f4b654da59548cdfdf30162f5",
        "IPY_MODEL_95e855b24f45474389b681d39e3112b4"
       ],
       "layout": "IPY_MODEL_f00e499c3f4b4b8fa674bef77d766e84"
      }
     },
     "ba4fd79d63444eca9580f37ba5e76a0f": {
      "model_module": "@jupyter-widgets/controls",
      "model_module_version": "1.5.0",
      "model_name": "DescriptionStyleModel",
      "state": {
       "description_width": ""
      }
     },
     "ba542534441f47d3aa0dc821912f38a9": {
      "model_module": "@jupyter-widgets/base",
      "model_module_version": "1.2.0",
      "model_name": "LayoutModel",
      "state": {}
     },
     "ba7ffcb763db49759e11b23db236e54d": {
      "model_module": "@jupyter-widgets/base",
      "model_module_version": "1.2.0",
      "model_name": "LayoutModel",
      "state": {
       "width": "600px"
      }
     },
     "ba92672c4b674b72986461c0e3c34d4c": {
      "model_module": "@jupyter-widgets/base",
      "model_module_version": "1.2.0",
      "model_name": "LayoutModel",
      "state": {}
     },
     "bacfd6b79eeb431184be99c286f436d5": {
      "model_module": "@jupyter-widgets/base",
      "model_module_version": "1.2.0",
      "model_name": "LayoutModel",
      "state": {
       "justify_content": "center"
      }
     },
     "bad25bc58ec541c4879ba5d7b3645b2f": {
      "model_module": "@jupyter-widgets/base",
      "model_module_version": "1.2.0",
      "model_name": "LayoutModel",
      "state": {
       "width": "600px"
      }
     },
     "bae9977d56024aa784e9c6bb1a883b79": {
      "model_module": "@jupyter-widgets/controls",
      "model_module_version": "1.5.0",
      "model_name": "DescriptionStyleModel",
      "state": {
       "description_width": "initial"
      }
     },
     "baf67cc5e8254982bf437ce1ddc51ea9": {
      "model_module": "@jupyter-widgets/base",
      "model_module_version": "1.2.0",
      "model_name": "LayoutModel",
      "state": {
       "justify_content": "center"
      }
     },
     "bb09c035a14d41c491e23c274ff937bc": {
      "model_module": "@jupyter-widgets/base",
      "model_module_version": "1.2.0",
      "model_name": "LayoutModel",
      "state": {}
     },
     "bb0be738181847998bdd085e9d32f909": {
      "model_module": "@jupyter-widgets/controls",
      "model_module_version": "1.5.0",
      "model_name": "ButtonStyleModel",
      "state": {}
     },
     "bb57a616a9bd43aab1879a9bbf70c36a": {
      "model_module": "@jupyter-widgets/controls",
      "model_module_version": "1.5.0",
      "model_name": "DescriptionStyleModel",
      "state": {
       "description_width": ""
      }
     },
     "bb71f88d7e9342ebaf95a179d8364233": {
      "model_module": "@jupyter-widgets/base",
      "model_module_version": "1.2.0",
      "model_name": "LayoutModel",
      "state": {}
     },
     "bb938a02b7ae4da39fc73fda368de60a": {
      "model_module": "@jupyter-widgets/base",
      "model_module_version": "1.2.0",
      "model_name": "LayoutModel",
      "state": {}
     },
     "bbc262b2ad5e41778b8ebeb0868526f5": {
      "model_module": "@jupyter-widgets/controls",
      "model_module_version": "1.5.0",
      "model_name": "VBoxModel",
      "state": {
       "children": [
        "IPY_MODEL_3702d961d6ca4e18884904c96adcf37a",
        "IPY_MODEL_401d752ff76a4ae9879b5f728ea52bcd",
        "IPY_MODEL_394ec8702a8849dc819655ed2d45bbba",
        "IPY_MODEL_ce41184d92114279a9b5b165ef4ae8a3"
       ],
       "layout": "IPY_MODEL_59ef760f25354953951eef11c56c6674"
      }
     },
     "bbc7668adc134f438865cd560a6eca01": {
      "model_module": "@jupyter-widgets/controls",
      "model_module_version": "1.5.0",
      "model_name": "DescriptionStyleModel",
      "state": {
       "description_width": ""
      }
     },
     "bbfcc3774d9941ccb620ad857b805e08": {
      "model_module": "@jupyter-widgets/base",
      "model_module_version": "1.2.0",
      "model_name": "LayoutModel",
      "state": {
       "width": "250px"
      }
     },
     "bc0192377caa4a2b90497ea0a4f180f0": {
      "model_module": "@jupyter-widgets/base",
      "model_module_version": "1.2.0",
      "model_name": "LayoutModel",
      "state": {}
     },
     "bc05c75a51fe4421b5ff36d8af9d33bd": {
      "model_module": "@jupyter-widgets/base",
      "model_module_version": "1.2.0",
      "model_name": "LayoutModel",
      "state": {
       "width": "600px"
      }
     },
     "bc1df56be6aa45afb5a11738b4988240": {
      "model_module": "@jupyter-widgets/base",
      "model_module_version": "1.2.0",
      "model_name": "LayoutModel",
      "state": {
       "width": "600px"
      }
     },
     "bc44014d53084dd79a7a052c85844207": {
      "model_module": "@jupyter-widgets/controls",
      "model_module_version": "1.5.0",
      "model_name": "DescriptionStyleModel",
      "state": {
       "description_width": "initial"
      }
     },
     "bc8596c9d4dd4271b264c11618f32438": {
      "model_module": "@jupyter-widgets/controls",
      "model_module_version": "1.5.0",
      "model_name": "DescriptionStyleModel",
      "state": {
       "description_width": "initial"
      }
     },
     "bca54ef8a4944783bba339d0ad6c24ea": {
      "model_module": "@jupyter-widgets/controls",
      "model_module_version": "1.5.0",
      "model_name": "DescriptionStyleModel",
      "state": {
       "description_width": ""
      }
     },
     "bcbf330e3b114c01aa3a567c1f22394d": {
      "model_module": "@jupyter-widgets/controls",
      "model_module_version": "1.5.0",
      "model_name": "ButtonStyleModel",
      "state": {}
     },
     "bd0e58f2eccd4de98b5790a57a9c1c70": {
      "model_module": "@jupyter-widgets/base",
      "model_module_version": "1.2.0",
      "model_name": "LayoutModel",
      "state": {
       "justify_content": "center"
      }
     },
     "bd0f71d8a5624c4f885958c0791abcd3": {
      "model_module": "@jupyter-widgets/base",
      "model_module_version": "1.2.0",
      "model_name": "LayoutModel",
      "state": {}
     },
     "bd33e5800468447a99912c1f66993337": {
      "model_module": "@jupyter-widgets/controls",
      "model_module_version": "1.5.0",
      "model_name": "HTMLModel",
      "state": {
       "layout": "IPY_MODEL_7d23e5ddb63348598f349f48dd0131f7",
       "style": "IPY_MODEL_40b089afdfdf4757a8a1622566274e22",
       "value": "<i>Markieren Sie <ins>alle</ins> passenden Antworten: </i>"
      }
     },
     "bd3a24db60e54e11a8f8225853c4cd19": {
      "model_module": "@jupyter-widgets/base",
      "model_module_version": "1.2.0",
      "model_name": "LayoutModel",
      "state": {
       "justify_content": "center"
      }
     },
     "bd76c6122d534a3798b8708dbbf6005a": {
      "model_module": "@jupyter-widgets/controls",
      "model_module_version": "1.5.0",
      "model_name": "DescriptionStyleModel",
      "state": {
       "description_width": "initial"
      }
     },
     "bde70312a75f48dba1e05f2dbd545131": {
      "model_module": "@jupyter-widgets/base",
      "model_module_version": "1.2.0",
      "model_name": "LayoutModel",
      "state": {
       "width": "600px"
      }
     },
     "bde9343f8236487198f7127410e2f4a9": {
      "model_module": "@jupyter-widgets/controls",
      "model_module_version": "1.5.0",
      "model_name": "CheckboxModel",
      "state": {
       "description": "x!",
       "disabled": false,
       "layout": "IPY_MODEL_0a24aa09d8344e4b9de1791ac9609659",
       "style": "IPY_MODEL_ba09ef68f4eb43e3908ae40ea5d74a5d",
       "value": false
      }
     },
     "be15ef6006d84a93898d18c67f9c6383": {
      "model_module": "@jupyter-widgets/base",
      "model_module_version": "1.2.0",
      "model_name": "LayoutModel",
      "state": {
       "justify_content": "center"
      }
     },
     "be18e1422ef645f591d38cd1d43657d9": {
      "model_module": "@jupyter-widgets/base",
      "model_module_version": "1.2.0",
      "model_name": "LayoutModel",
      "state": {
       "justify_content": "center"
      }
     },
     "bebd762d3f3c4443b5fe1359c2cbcd3d": {
      "model_module": "@jupyter-widgets/controls",
      "model_module_version": "1.5.0",
      "model_name": "VBoxModel",
      "state": {
       "children": [
        "IPY_MODEL_935b32a298f4456cb3aaa9a608a65d84",
        "IPY_MODEL_161c030020334715a904a87501640f90",
        "IPY_MODEL_01fa13b41fe340b185d72fdd6e57054b",
        "IPY_MODEL_504f265dd6284ac5b05769c0a275930a",
        "IPY_MODEL_9e9acf5a9478410ca8ef93195b1bedc8",
        "IPY_MODEL_5c7ea9fecea2439b94b5d80168f40d59"
       ],
       "layout": "IPY_MODEL_57eb4ec1a35a4d2381c2160311c33712"
      }
     },
     "bedf40eb47034340938af09170d09fb6": {
      "model_module": "@jupyter-widgets/controls",
      "model_module_version": "1.5.0",
      "model_name": "HTMLModel",
      "state": {
       "layout": "IPY_MODEL_c3f6f6435e0f4351b3e4915c02c24897",
       "style": "IPY_MODEL_497d1b1a9b04424b8c872f076e1ecd33",
       "value": "<h4 style=\"font-size:14px;\">Im Falle, dass im Zuge einer Unifikation Informationen zum Wert eines Pfades x hinzugefügt werden, wie verändern sich die Werte aller zu x äquivalenten Pfade?</h4>"
      }
     },
     "bee20f3ec0504056b29ebf2ea8ee1ec3": {
      "model_module": "@jupyter-widgets/base",
      "model_module_version": "1.2.0",
      "model_name": "LayoutModel",
      "state": {}
     },
     "bee7505868d6494fa145b138092aa59a": {
      "model_module": "@jupyter-widgets/controls",
      "model_module_version": "1.5.0",
      "model_name": "HBoxModel",
      "state": {
       "children": [
        "IPY_MODEL_745a4b4807bc4ac9bcf89fa6e886b283"
       ],
       "layout": "IPY_MODEL_5db8f57f2e49435a94d317d9fa24245f"
      }
     },
     "bef312b8a4b74e9aa6177e00815fc16c": {
      "model_module": "@jupyter-widgets/controls",
      "model_module_version": "1.5.0",
      "model_name": "DescriptionStyleModel",
      "state": {
       "description_width": "initial"
      }
     },
     "bf056cb6205943a5bcd453c410755a13": {
      "model_module": "@jupyter-widgets/base",
      "model_module_version": "1.2.0",
      "model_name": "LayoutModel",
      "state": {}
     },
     "bf0dfed441624c7a9288e810dc8317b5": {
      "model_module": "@jupyter-widgets/controls",
      "model_module_version": "1.5.0",
      "model_name": "VBoxModel",
      "state": {
       "children": [
        "IPY_MODEL_64afcddf9c324dccad638d60243c9383",
        "IPY_MODEL_0c468408eb2143d39371b425d39b1ab9",
        "IPY_MODEL_9ce21807bc6e4e6c9b82ea9e8c07d610",
        "IPY_MODEL_7c3aeede4fa4430aa7b979e7f289516d"
       ],
       "layout": "IPY_MODEL_39b51569b97843958595af92f992655d"
      }
     },
     "bf5a239dfa174503a02e5dba43078e81": {
      "model_module": "@jupyter-widgets/base",
      "model_module_version": "1.2.0",
      "model_name": "LayoutModel",
      "state": {}
     },
     "bf5e11674aac47ca9b6e2accc046d474": {
      "model_module": "@jupyter-widgets/controls",
      "model_module_version": "1.5.0",
      "model_name": "DescriptionStyleModel",
      "state": {
       "description_width": "initial"
      }
     },
     "bf6562a81b064721951fdc5be43853d5": {
      "model_module": "@jupyter-widgets/base",
      "model_module_version": "1.2.0",
      "model_name": "LayoutModel",
      "state": {
       "width": "250px"
      }
     },
     "bfcc5a06d78a40a1a5f1eda931f2c957": {
      "model_module": "@jupyter-widgets/controls",
      "model_module_version": "1.5.0",
      "model_name": "DescriptionStyleModel",
      "state": {
       "description_width": "initial"
      }
     },
     "bfe7ba1304a542dfadecdf773bbdf868": {
      "model_module": "@jupyter-widgets/controls",
      "model_module_version": "1.5.0",
      "model_name": "ButtonStyleModel",
      "state": {
       "button_color": "lightgreen"
      }
     },
     "c02da05afb1f416ba6181f46dc86d4fb": {
      "model_module": "@jupyter-widgets/base",
      "model_module_version": "1.2.0",
      "model_name": "LayoutModel",
      "state": {
       "width": "250px"
      }
     },
     "c06edc000cfa42379f4723e2183ae308": {
      "model_module": "@jupyter-widgets/controls",
      "model_module_version": "1.5.0",
      "model_name": "HBoxModel",
      "state": {
       "children": [
        "IPY_MODEL_0a876f05f3ad4b06b44ee48477d12e0a",
        "IPY_MODEL_f8fb3ef356a149a589ae770734770cdc"
       ],
       "layout": "IPY_MODEL_c45b0aef2a1a4dfca3318867f6129e18"
      }
     },
     "c085199df19f4f0b90dce2a3aff1617e": {
      "model_module": "@jupyter-widgets/base",
      "model_module_version": "1.2.0",
      "model_name": "LayoutModel",
      "state": {}
     },
     "c0971ea0b09a4f3a8caa202918485894": {
      "model_module": "@jupyter-widgets/base",
      "model_module_version": "1.2.0",
      "model_name": "LayoutModel",
      "state": {
       "justify_content": "center"
      }
     },
     "c09b58db683d4f79b626b9976440422a": {
      "model_module": "@jupyter-widgets/controls",
      "model_module_version": "1.5.0",
      "model_name": "DescriptionStyleModel",
      "state": {
       "description_width": "initial"
      }
     },
     "c0a8cc4e88b64e5c854795c70ab2936a": {
      "model_module": "@jupyter-widgets/controls",
      "model_module_version": "1.5.0",
      "model_name": "DescriptionStyleModel",
      "state": {
       "description_width": "initial"
      }
     },
     "c0bfacc316eb45dc87ad475a8ad05037": {
      "model_module": "@jupyter-widgets/base",
      "model_module_version": "1.2.0",
      "model_name": "LayoutModel",
      "state": {}
     },
     "c0c2c515e88d477baa70cb557d4cfdf2": {
      "model_module": "@jupyter-widgets/controls",
      "model_module_version": "1.5.0",
      "model_name": "DropdownModel",
      "state": {
       "_options_labels": [
        "Adverbiale",
        "Nomen",
        "Personalpronomina",
        " "
       ],
       "index": 3,
       "layout": "IPY_MODEL_d93fd0d2b03f429b9fe002b744dafd43",
       "style": "IPY_MODEL_803d3b0674fe44b2bf48cb43c9791d63"
      }
     },
     "c10effa8961342f096d33a4623273e40": {
      "model_module": "@jupyter-widgets/base",
      "model_module_version": "1.2.0",
      "model_name": "LayoutModel",
      "state": {}
     },
     "c110dc4993f5406492dea28c98d632c1": {
      "model_module": "@jupyter-widgets/controls",
      "model_module_version": "1.5.0",
      "model_name": "VBoxModel",
      "state": {
       "children": [
        "IPY_MODEL_e65fc6c4ba9349cea4059c7fdaa8e2dc",
        "IPY_MODEL_ef4c3154e71840918a7368069ceb852a",
        "IPY_MODEL_8d84e1fb76d244f7972781b200e462b5"
       ],
       "layout": "IPY_MODEL_d5ab8d62eeee4f79af7bae7ac8cd0226"
      }
     },
     "c128c5181963456798e8b5bd3a780385": {
      "model_module": "@jupyter-widgets/controls",
      "model_module_version": "1.5.0",
      "model_name": "DescriptionStyleModel",
      "state": {
       "description_width": ""
      }
     },
     "c131c8f69f4a44888de3cc1734844061": {
      "model_module": "@jupyter-widgets/controls",
      "model_module_version": "1.5.0",
      "model_name": "DropdownModel",
      "state": {
       "_options_labels": [
        "nicht",
        "schwach",
        "stark",
        " "
       ],
       "index": 2,
       "layout": "IPY_MODEL_de7ec42e410647c089171e12d64db9b6",
       "style": "IPY_MODEL_268a8c058f714788aaba5aa4b377122a"
      }
     },
     "c13f756b386b418b85e4e931f3e35c41": {
      "model_module": "@jupyter-widgets/base",
      "model_module_version": "1.2.0",
      "model_name": "LayoutModel",
      "state": {
       "width": "250px"
      }
     },
     "c161d0842bb94877bb426906c9ab0459": {
      "model_module": "@jupyter-widgets/controls",
      "model_module_version": "1.5.0",
      "model_name": "ButtonModel",
      "state": {
       "description": "starke Deklination",
       "layout": "IPY_MODEL_259f8514a6f947b791e5a1bf87de0d02",
       "style": "IPY_MODEL_27858d3a6a094bf281792a0d46e417a7"
      }
     },
     "c1c6272b85304f9aa08d916f943e7cf8": {
      "model_module": "@jupyter-widgets/controls",
      "model_module_version": "1.5.0",
      "model_name": "VBoxModel",
      "state": {
       "children": [
        "IPY_MODEL_aedb0106c063485ebae6f20857ba39be",
        "IPY_MODEL_7fd2d90c84a44a5fa6651607af29a3db",
        "IPY_MODEL_fb22236a33e94667afe51af7a76d673f",
        "IPY_MODEL_ae91785aec3248638b5a753c7cca44b3"
       ],
       "layout": "IPY_MODEL_02d8639349a940e49e3c15a7fa08fc29"
      }
     },
     "c1cbffb7f8614206a7ad4884be403dd0": {
      "model_module": "@jupyter-widgets/controls",
      "model_module_version": "1.5.0",
      "model_name": "HTMLModel",
      "state": {
       "layout": "IPY_MODEL_08a5ab57dd5d4886b35ee2ca2f12327a",
       "style": "IPY_MODEL_ebe46bf7772a418f9f958a364ccb5dd5",
       "value": "<h4 style=\"font-size:14px;\">Wie wird die Deklination der Nominalphrase <i>das alte Bier</i> auch bezeichnet?</h4>"
      }
     },
     "c1f1fed6ffdb42989befed3b49822a9b": {
      "model_module": "@jupyter-widgets/base",
      "model_module_version": "1.2.0",
      "model_name": "LayoutModel",
      "state": {
       "width": "250px"
      }
     },
     "c1fc7592cba74a4ea2c68fe6a8bea8eb": {
      "model_module": "@jupyter-widgets/controls",
      "model_module_version": "1.5.0",
      "model_name": "DescriptionStyleModel",
      "state": {
       "description_width": "initial"
      }
     },
     "c200fabd28324104b8ecd7f7cfa0eadb": {
      "model_module": "@jupyter-widgets/controls",
      "model_module_version": "1.5.0",
      "model_name": "ButtonStyleModel",
      "state": {}
     },
     "c240f2115ada418299a03d9c21696f3d": {
      "model_module": "@jupyter-widgets/base",
      "model_module_version": "1.2.0",
      "model_name": "LayoutModel",
      "state": {
       "width": "600px"
      }
     },
     "c244248646284c06b05ca3cc9274d3f6": {
      "model_module": "@jupyter-widgets/controls",
      "model_module_version": "1.5.0",
      "model_name": "CheckboxModel",
      "state": {
       "description": "FS0 = [CAT = N], FS1 = [CAT = N, GEN = MASK]",
       "disabled": false,
       "layout": "IPY_MODEL_a349cee5a73444198a9dcd6bda18c4d0",
       "style": "IPY_MODEL_f4287ac1441440dc97418933fe89085a",
       "value": false
      }
     },
     "c2576c18d5f347019b8d691fe8f7a3b6": {
      "model_module": "@jupyter-widgets/controls",
      "model_module_version": "1.5.0",
      "model_name": "ButtonStyleModel",
      "state": {
       "button_color": "lightgreen"
      }
     },
     "c271c5edfc814b6ca7b53a4765c19627": {
      "model_module": "@jupyter-widgets/controls",
      "model_module_version": "1.5.0",
      "model_name": "VBoxModel",
      "state": {
       "children": [
        "IPY_MODEL_a65002a27a7a4c629daac0a026dbe405",
        "IPY_MODEL_abed0b5383564d5892b979aba836eb7c",
        "IPY_MODEL_c6016005ee1f4e2db161d64ab702bcee",
        "IPY_MODEL_1de7be0de1eb439f969adaf8810bd630"
       ],
       "layout": "IPY_MODEL_59ef0d6329d54de9bd9a4a633fb1ebcb"
      }
     },
     "c2870c99384540a4b96db6727c8a7b24": {
      "model_module": "@jupyter-widgets/controls",
      "model_module_version": "1.5.0",
      "model_name": "ButtonStyleModel",
      "state": {
       "button_color": "lightgreen"
      }
     },
     "c2a82eb711af422d9d815172628f5e1c": {
      "model_module": "@jupyter-widgets/base",
      "model_module_version": "1.2.0",
      "model_name": "LayoutModel",
      "state": {
       "width": "250px"
      }
     },
     "c2e172d70ec64ccbbdcf985b25e5af3c": {
      "model_module": "@jupyter-widgets/controls",
      "model_module_version": "1.5.0",
      "model_name": "CheckboxModel",
      "state": {
       "description": "FS0 = [CAT = N, GEN = FEM], FS1 = [CAT = DET, GEN = FEM]",
       "disabled": false,
       "layout": "IPY_MODEL_e6e1acb61d8e461eb86679d39d97537b",
       "style": "IPY_MODEL_e13e3064c26d4992b6c0517934c8f9cf",
       "value": false
      }
     },
     "c2e46096ff5248a287e4e865489686f9": {
      "model_module": "@jupyter-widgets/controls",
      "model_module_version": "1.5.0",
      "model_name": "ButtonStyleModel",
      "state": {}
     },
     "c31137ea47184ca79ab1aaddee6b91b1": {
      "model_module": "@jupyter-widgets/controls",
      "model_module_version": "1.5.0",
      "model_name": "DescriptionStyleModel",
      "state": {
       "description_width": ""
      }
     },
     "c31ece5a34244cb0a7e1da6113202e55": {
      "model_module": "@jupyter-widgets/base",
      "model_module_version": "1.2.0",
      "model_name": "LayoutModel",
      "state": {}
     },
     "c337cc4509d143098a34a0d8094177f0": {
      "model_module": "@jupyter-widgets/base",
      "model_module_version": "1.2.0",
      "model_name": "LayoutModel",
      "state": {
       "width": "250px"
      }
     },
     "c3735254c1c74f7c8ff38ad3c684f1ec": {
      "model_module": "@jupyter-widgets/base",
      "model_module_version": "1.2.0",
      "model_name": "LayoutModel",
      "state": {}
     },
     "c37c19cc4d1f4762a2ff49dca772cb79": {
      "model_module": "@jupyter-widgets/base",
      "model_module_version": "1.2.0",
      "model_name": "LayoutModel",
      "state": {
       "width": "600px"
      }
     },
     "c3a168ba65a74ab1baf24324ca6cb753": {
      "model_module": "@jupyter-widgets/controls",
      "model_module_version": "1.5.0",
      "model_name": "VBoxModel",
      "state": {
       "children": [
        "IPY_MODEL_bedf40eb47034340938af09170d09fb6",
        "IPY_MODEL_a14a65346e3045958b1a4fe3b9e1cdcc",
        "IPY_MODEL_796014017dc84456b8111197580d8bb1",
        "IPY_MODEL_da2b944b29564beda26478c882d48fd0"
       ],
       "layout": "IPY_MODEL_d8591a37b7fe442e936fd80d1a26ddb9"
      }
     },
     "c3a4e117244f402d951d178ea0dfcbac": {
      "model_module": "@jupyter-widgets/base",
      "model_module_version": "1.2.0",
      "model_name": "LayoutModel",
      "state": {}
     },
     "c3a95dc4c0b740acab12299b7791d147": {
      "model_module": "@jupyter-widgets/controls",
      "model_module_version": "1.5.0",
      "model_name": "DescriptionStyleModel",
      "state": {
       "description_width": "initial"
      }
     },
     "c3aa5467849b435db73a786b1b9628d3": {
      "model_module": "@jupyter-widgets/controls",
      "model_module_version": "1.5.0",
      "model_name": "HBoxModel",
      "state": {
       "children": [
        "IPY_MODEL_59c50d1da3ed498492d2890ea16a5f38",
        "IPY_MODEL_80aec6bd87724f719d69144dce6c97ca"
       ],
       "layout": "IPY_MODEL_1b541ea3359a45d791272cd19f9a0e63"
      }
     },
     "c3c9d1fe229c4aa79e98b608e067be39": {
      "model_module": "@jupyter-widgets/base",
      "model_module_version": "1.2.0",
      "model_name": "LayoutModel",
      "state": {
       "justify_content": "center"
      }
     },
     "c3d42cb5b4384f9f97e37164d0351a55": {
      "model_module": "@jupyter-widgets/controls",
      "model_module_version": "1.5.0",
      "model_name": "HTMLModel",
      "state": {
       "layout": "IPY_MODEL_d5e9121446ea4ea4a5b0efbbd9eedbf8",
       "style": "IPY_MODEL_8778d25ce70440558b998d575f3405fe",
       "value": "<i>Wählen Sie die <ins>eine</ins> korrekte Antwort aus: </i>"
      }
     },
     "c3e31b75f7664520b27d822f537457f4": {
      "model_module": "@jupyter-widgets/controls",
      "model_module_version": "1.5.0",
      "model_name": "VBoxModel",
      "state": {
       "children": [
        "IPY_MODEL_356e8a7fe5a24a4ea305c82078657aed",
        "IPY_MODEL_71ab0867649b4e8a9777abdcd90eea96",
        "IPY_MODEL_cb54f22aee9c43c88c5f681f8bc95cc3"
       ],
       "layout": "IPY_MODEL_ba542534441f47d3aa0dc821912f38a9"
      }
     },
     "c3f6f6435e0f4351b3e4915c02c24897": {
      "model_module": "@jupyter-widgets/base",
      "model_module_version": "1.2.0",
      "model_name": "LayoutModel",
      "state": {}
     },
     "c40250c2958c46ae845803187b7d5ab5": {
      "model_module": "@jupyter-widgets/controls",
      "model_module_version": "1.5.0",
      "model_name": "DescriptionStyleModel",
      "state": {
       "description_width": "initial"
      }
     },
     "c4084986ab3549d4a3b4f8761eb8a593": {
      "model_module": "@jupyter-widgets/controls",
      "model_module_version": "1.5.0",
      "model_name": "DropdownModel",
      "state": {
       "_options_labels": [
        "nicht",
        "schwach",
        "stark",
        " "
       ],
       "index": 3,
       "layout": "IPY_MODEL_f7e0e4ed8c964171b535c84be576bd1f",
       "style": "IPY_MODEL_5b1a6384ab4a4e1883dd2ae069bcec76"
      }
     },
     "c427e4db2a5a40eea7862dfa766fc80c": {
      "model_module": "@jupyter-widgets/controls",
      "model_module_version": "1.5.0",
      "model_name": "HTMLModel",
      "state": {
       "layout": "IPY_MODEL_c7c2a05ab59c464eaf450af5785b4365",
       "style": "IPY_MODEL_347de3120e80434188aaf6afb6af44a8",
       "value": "<h4 style=\"font-size:14px;\">Welche der Beispiele erfüllen die Subsumptionsbeziehung aus 10b nicht?</h4>"
      }
     },
     "c45a2a774e7249a68c97f1c206cea6ba": {
      "model_module": "@jupyter-widgets/base",
      "model_module_version": "1.2.0",
      "model_name": "LayoutModel",
      "state": {
       "justify_content": "center"
      }
     },
     "c45b0aef2a1a4dfca3318867f6129e18": {
      "model_module": "@jupyter-widgets/base",
      "model_module_version": "1.2.0",
      "model_name": "LayoutModel",
      "state": {}
     },
     "c46295d13cc140f28adb679248b470ef": {
      "model_module": "@jupyter-widgets/base",
      "model_module_version": "1.2.0",
      "model_name": "LayoutModel",
      "state": {}
     },
     "c49deec675ab4f27823c782c41ca29be": {
      "model_module": "@jupyter-widgets/controls",
      "model_module_version": "1.5.0",
      "model_name": "CheckboxModel",
      "state": {
       "description": "!x",
       "disabled": false,
       "layout": "IPY_MODEL_91c127e8e40046eb9fa60554366221d8",
       "style": "IPY_MODEL_62702b08d3804b6e8a8c0028a1acd83b",
       "value": false
      }
     },
     "c4a575c8eda74a7193ecfbcc48641adf": {
      "model_module": "@jupyter-widgets/controls",
      "model_module_version": "1.5.0",
      "model_name": "ButtonStyleModel",
      "state": {}
     },
     "c4c8ac47f26e41b7b0842b56d0d9ea46": {
      "model_module": "@jupyter-widgets/controls",
      "model_module_version": "1.5.0",
      "model_name": "DescriptionStyleModel",
      "state": {
       "description_width": "initial"
      }
     },
     "c4daed5bf1d3427ea2dcacc0a8028e94": {
      "model_module": "@jupyter-widgets/base",
      "model_module_version": "1.2.0",
      "model_name": "LayoutModel",
      "state": {
       "width": "600px"
      }
     },
     "c4de03df4bec472d886ebfb6ec03d939": {
      "model_module": "@jupyter-widgets/base",
      "model_module_version": "1.2.0",
      "model_name": "LayoutModel",
      "state": {
       "width": "600px"
      }
     },
     "c4e32647f32c48e6b8385cf712f12e65": {
      "model_module": "@jupyter-widgets/base",
      "model_module_version": "1.2.0",
      "model_name": "LayoutModel",
      "state": {}
     },
     "c4f47361bab7423fab5b87b211154f1b": {
      "model_module": "@jupyter-widgets/base",
      "model_module_version": "1.2.0",
      "model_name": "LayoutModel",
      "state": {
       "width": "250px"
      }
     },
     "c4fb4dff5577437e9804496b2ae7bafe": {
      "model_module": "@jupyter-widgets/base",
      "model_module_version": "1.2.0",
      "model_name": "LayoutModel",
      "state": {}
     },
     "c4fe0237b8b74c008d59f9f639cca5b2": {
      "model_module": "@jupyter-widgets/controls",
      "model_module_version": "1.5.0",
      "model_name": "ButtonStyleModel",
      "state": {}
     },
     "c585cdfc5926437d889c56c083386180": {
      "model_module": "@jupyter-widgets/controls",
      "model_module_version": "1.5.0",
      "model_name": "HTMLModel",
      "state": {
       "layout": "IPY_MODEL_39fbb1abb5b74479a2e2d6a1d9ef7112",
       "style": "IPY_MODEL_23d563a9d1464f2ab5213b459715f6b7",
       "value": "<h4 style=\"font-size:14px;\">Was ist im zweiten Satz das Subjekt?</h4>"
      }
     },
     "c5d59f43db6f4f45b5da90486712e1f4": {
      "model_module": "@jupyter-widgets/controls",
      "model_module_version": "1.5.0",
      "model_name": "HTMLModel",
      "state": {
       "layout": "IPY_MODEL_193b6285638d4a669a8bc15823753d49",
       "style": "IPY_MODEL_8a4f48921d1140e2951aa4f1961a21bc",
       "value": "<h4 style=\"font-size:14px;\">Um welchen Faktor erhöht sich die Regelanzahl, wenn man Kongruenz (Agreement) in Numerus und Person durch Integration von Merkmalen in die Kategoriensymbole einer CFG modelliert (S → NP_1_SG VP_1_SG usw.)?</h4>"
      }
     },
     "c5fb53a7dae84895831079486dac0f52": {
      "model_module": "@jupyter-widgets/base",
      "model_module_version": "1.2.0",
      "model_name": "LayoutModel",
      "state": {
       "width": "600px"
      }
     },
     "c6016005ee1f4e2db161d64ab702bcee": {
      "model_module": "@jupyter-widgets/controls",
      "model_module_version": "1.5.0",
      "model_name": "CheckboxModel",
      "state": {
       "description": "Perspektivierung",
       "disabled": false,
       "layout": "IPY_MODEL_65108e2a9b384b09ae2a397e3e9e3098",
       "style": "IPY_MODEL_aaa8998acb7142e0ac260833d6007f9d",
       "value": false
      }
     },
     "c62d06cb2bd544f1b543977cb2947860": {
      "model_module": "@jupyter-widgets/base",
      "model_module_version": "1.2.0",
      "model_name": "LayoutModel",
      "state": {
       "width": "600px"
      }
     },
     "c62d196fe6394d6cb66bb544f8926dd9": {
      "model_module": "@jupyter-widgets/base",
      "model_module_version": "1.2.0",
      "model_name": "LayoutModel",
      "state": {}
     },
     "c64a50db13e542c0a4b1af1af83a6158": {
      "model_module": "@jupyter-widgets/base",
      "model_module_version": "1.2.0",
      "model_name": "LayoutModel",
      "state": {
       "justify_content": "center"
      }
     },
     "c64b173d5f5343a589a538d6fded52ce": {
      "model_module": "@jupyter-widgets/controls",
      "model_module_version": "1.5.0",
      "model_name": "HTMLModel",
      "state": {
       "layout": "IPY_MODEL_828c9dee796344c78bc39e3148955217",
       "style": "IPY_MODEL_14adffe4a824477fbb6785a64d556129",
       "value": "<h4 style=\"font-size:14px;\">übernehmen.</h4>"
      }
     },
     "c656e99146f245d1b45aee31e6f6c920": {
      "model_module": "@jupyter-widgets/controls",
      "model_module_version": "1.5.0",
      "model_name": "DescriptionStyleModel",
      "state": {
       "description_width": "initial"
      }
     },
     "c6586e03edad41d6b95f8c1bd0a24e84": {
      "model_module": "@jupyter-widgets/controls",
      "model_module_version": "1.5.0",
      "model_name": "ButtonModel",
      "state": {
       "description": "Recipient",
       "layout": "IPY_MODEL_57cf34e7785347f1898e89073178a837",
       "style": "IPY_MODEL_f936b33abad94bd5ae30035ca3cf7a88"
      }
     },
     "c668cbb5b3584ae88717b6de974a1949": {
      "model_module": "@jupyter-widgets/controls",
      "model_module_version": "1.5.0",
      "model_name": "ButtonStyleModel",
      "state": {}
     },
     "c67f149799314526abf32659692454f3": {
      "model_module": "@jupyter-widgets/controls",
      "model_module_version": "1.5.0",
      "model_name": "HTMLModel",
      "state": {
       "layout": "IPY_MODEL_e5626d11556841eab6bbb37c5eac8ef0",
       "style": "IPY_MODEL_b32621e5a6374141b3589842bae1d2f0",
       "value": "<i>Markieren Sie <ins>alle</ins> passenden Antworten: </i>"
      }
     },
     "c6bc834867e84cf384fffa0f73fd46d1": {
      "model_module": "@jupyter-widgets/controls",
      "model_module_version": "1.5.0",
      "model_name": "CheckboxModel",
      "state": {
       "description": "Es muss immer ein Agens vorhanden sein.",
       "disabled": false,
       "layout": "IPY_MODEL_88fc05392a5d4a9197223cc7ae673a28",
       "style": "IPY_MODEL_c0a8cc4e88b64e5c854795c70ab2936a",
       "value": false
      }
     },
     "c6cad750da1b4dc7884d329272699f47": {
      "model_module": "@jupyter-widgets/base",
      "model_module_version": "1.2.0",
      "model_name": "LayoutModel",
      "state": {
       "justify_content": "center"
      }
     },
     "c6ed552b57ed43ffbd3f5405df83faf3": {
      "model_module": "@jupyter-widgets/controls",
      "model_module_version": "1.5.0",
      "model_name": "HTMLModel",
      "state": {
       "layout": "IPY_MODEL_674c2c83d6744b82a5123f8e722f6271",
       "style": "IPY_MODEL_2fae250d585740979335a0391e96652f",
       "value": "<h4 style=\"font-size:14px;\">Für die Deklination ist hier relevant, ob das Adjektiv mit einem ____________ Artikel auftritt oder nicht.</h4>"
      }
     },
     "c7065592422648679f13af58d4feff32": {
      "model_module": "@jupyter-widgets/base",
      "model_module_version": "1.2.0",
      "model_name": "LayoutModel",
      "state": {
       "justify_content": "center"
      }
     },
     "c70c61fd99894486b9be485391d66b12": {
      "model_module": "@jupyter-widgets/base",
      "model_module_version": "1.2.0",
      "model_name": "LayoutModel",
      "state": {}
     },
     "c733069617bb4f2897b3f0bd3c3f292a": {
      "model_module": "@jupyter-widgets/controls",
      "model_module_version": "1.5.0",
      "model_name": "HTMLModel",
      "state": {
       "layout": "IPY_MODEL_7c8b0902c10147abb6e10c5afe5a10da",
       "style": "IPY_MODEL_1622a878007b4aefa0e57ff16118f815",
       "value": "<h4 style=\"font-size:14px;\">Was gilt immer für das Ergebnis der Unifikation solcher Merkmalstrukturen?</h4>"
      }
     },
     "c73f1598398142e2882f31bb1571a642": {
      "model_module": "@jupyter-widgets/controls",
      "model_module_version": "1.5.0",
      "model_name": "CheckboxModel",
      "state": {
       "description": "?x",
       "disabled": false,
       "layout": "IPY_MODEL_c240f2115ada418299a03d9c21696f3d",
       "style": "IPY_MODEL_164fce442b424c58bc4e702050e31f77",
       "value": false
      }
     },
     "c73f97a5023942c9ac13308e2e27df46": {
      "model_module": "@jupyter-widgets/controls",
      "model_module_version": "1.5.0",
      "model_name": "CheckboxModel",
      "state": {
       "description": "FS0 = [CAT = DET], FS1 = [CAT = N, GEN = MASK]",
       "disabled": false,
       "layout": "IPY_MODEL_6b18ac658bab4156b4337b5bdc469498",
       "style": "IPY_MODEL_ec59591fc7294c3796aa0fa8bed97fb0",
       "value": false
      }
     },
     "c782edad5f204fb4933d07f548abfd1e": {
      "model_module": "@jupyter-widgets/controls",
      "model_module_version": "1.5.0",
      "model_name": "HBoxModel",
      "state": {
       "children": [
        "IPY_MODEL_a52bf18221e542fbac0b82a6110ceb60",
        "IPY_MODEL_dad6329821af4292933515ab7b77ae2a"
       ],
       "layout": "IPY_MODEL_b1ac2b07a2dd47a1becc4d93309ff3ba"
      }
     },
     "c7b2bc2bff4f45b5b36a1364aabcdaad": {
      "model_module": "@jupyter-widgets/base",
      "model_module_version": "1.2.0",
      "model_name": "LayoutModel",
      "state": {}
     },
     "c7b93e6f20bc4d6a94308ee0e8ed4721": {
      "model_module": "@jupyter-widgets/base",
      "model_module_version": "1.2.0",
      "model_name": "LayoutModel",
      "state": {
       "align_content": "stretch",
       "align_items": "stretch",
       "display": "inline-flex",
       "flex": "flex-grow",
       "flex_flow": "row wrap",
       "justify_content": "flex-start"
      }
     },
     "c7bac7a7840c488b83cd371da9d0c628": {
      "model_module": "@jupyter-widgets/controls",
      "model_module_version": "1.5.0",
      "model_name": "HTMLModel",
      "state": {
       "layout": "IPY_MODEL_ef1405c2dfa4490cba55141f34edb821",
       "style": "IPY_MODEL_2edcbb97c0724b438cad9e61223efa57",
       "value": "<h4 style=\"font-size:14px;\">Wie läßt sich im NLTK ein äquivalenter Pfad definieren?</h4>"
      }
     },
     "c7c2a05ab59c464eaf450af5785b4365": {
      "model_module": "@jupyter-widgets/base",
      "model_module_version": "1.2.0",
      "model_name": "LayoutModel",
      "state": {}
     },
     "c87c249aeeac436c85c722ae4d7c53e0": {
      "model_module": "@jupyter-widgets/controls",
      "model_module_version": "1.5.0",
      "model_name": "DescriptionStyleModel",
      "state": {
       "description_width": ""
      }
     },
     "c88cf42c04f741deb738dad4c5e7c2c0": {
      "model_module": "@jupyter-widgets/controls",
      "model_module_version": "1.5.0",
      "model_name": "ButtonStyleModel",
      "state": {
       "button_color": "lightgreen"
      }
     },
     "c8e72b03bf7b49dcadf10b0e35bec241": {
      "model_module": "@jupyter-widgets/controls",
      "model_module_version": "1.5.0",
      "model_name": "CheckboxModel",
      "state": {
       "description": "Es muss immer ein Agens vorhanden sein.",
       "disabled": false,
       "layout": "IPY_MODEL_8147524c854e4e228c95df2231f2a14a",
       "style": "IPY_MODEL_5fc310d9ad0e45ff841b85206784116d",
       "value": false
      }
     },
     "c9534cc4d0bb40b0848a51fd542b4638": {
      "model_module": "@jupyter-widgets/controls",
      "model_module_version": "1.5.0",
      "model_name": "ButtonStyleModel",
      "state": {}
     },
     "c95678f847c7466fb592b19607355749": {
      "model_module": "@jupyter-widgets/base",
      "model_module_version": "1.2.0",
      "model_name": "LayoutModel",
      "state": {}
     },
     "c986949740954c1783f9516cccccd4ef": {
      "model_module": "@jupyter-widgets/base",
      "model_module_version": "1.2.0",
      "model_name": "LayoutModel",
      "state": {
       "width": "250px"
      }
     },
     "c9b414349d49432e8dddd938b709bca4": {
      "model_module": "@jupyter-widgets/controls",
      "model_module_version": "1.5.0",
      "model_name": "VBoxModel",
      "state": {
       "children": [
        "IPY_MODEL_f004a7eca4694fdeae4dd7a8a711c8d9",
        "IPY_MODEL_1bd523aea47b44ed895a60d2b562263d",
        "IPY_MODEL_9273f7ca7e624cc88e21e2d109826d7f",
        "IPY_MODEL_688d71f4a50a4ec692e1f31dde9a3ecc",
        "IPY_MODEL_2ffbd80f38e44f30807ab5d8f510a897"
       ],
       "layout": "IPY_MODEL_c4e32647f32c48e6b8385cf712f12e65"
      }
     },
     "ca45610067e64ca09153598f42fbd2d4": {
      "model_module": "@jupyter-widgets/base",
      "model_module_version": "1.2.0",
      "model_name": "LayoutModel",
      "state": {
       "width": "250px"
      }
     },
     "ca715f6a34b1422081ce73f0b8a0363a": {
      "model_module": "@jupyter-widgets/base",
      "model_module_version": "1.2.0",
      "model_name": "LayoutModel",
      "state": {
       "width": "250px"
      }
     },
     "ca8d384c1e5b4a7cb4559cdebf709017": {
      "model_module": "@jupyter-widgets/controls",
      "model_module_version": "1.5.0",
      "model_name": "DescriptionStyleModel",
      "state": {
       "description_width": "initial"
      }
     },
     "ca934669c76944d787d019741a03cd81": {
      "model_module": "@jupyter-widgets/controls",
      "model_module_version": "1.5.0",
      "model_name": "HTMLModel",
      "state": {
       "layout": "IPY_MODEL_8a38d64a26dd44f5b9eaf8237383f5b5",
       "style": "IPY_MODEL_1730d13a0b9849c1bc3fb10c093984d2",
       "value": "<i>Markieren Sie <ins>alle</ins> passenden Antworten: </i>"
      }
     },
     "caa3197fdf9b4b0291ff1dde189e6c6d": {
      "model_module": "@jupyter-widgets/controls",
      "model_module_version": "1.5.0",
      "model_name": "CheckboxModel",
      "state": {
       "description": "74; ('address', 'number')",
       "disabled": false,
       "layout": "IPY_MODEL_f086a08aae564b58a2352897487a36c5",
       "style": "IPY_MODEL_0238d6861b5b499187d87ec76d8adad9",
       "value": true
      }
     },
     "cab3b6ac9c7f4578b142669f6919e2e4": {
      "model_module": "@jupyter-widgets/base",
      "model_module_version": "1.2.0",
      "model_name": "LayoutModel",
      "state": {
       "justify_content": "center"
      }
     },
     "cab3d42ca922464daf6020b04a2f5cda": {
      "model_module": "@jupyter-widgets/controls",
      "model_module_version": "1.5.0",
      "model_name": "HTMLModel",
      "state": {
       "layout": "IPY_MODEL_5fd5afc3670e4e59b2b29eafe77fa567",
       "style": "IPY_MODEL_4cd5cc36c4b746cdbd3a669957f8cd6c",
       "value": "<i>Wählen Sie die <ins>eine</ins> korrekte Antwort aus: </i>"
      }
     },
     "cad7cf8ab6ca4aa9b34d8aad7ca72a54": {
      "model_module": "@jupyter-widgets/base",
      "model_module_version": "1.2.0",
      "model_name": "LayoutModel",
      "state": {}
     },
     "caf2104682104740b6e6231d001f7bef": {
      "model_module": "@jupyter-widgets/base",
      "model_module_version": "1.2.0",
      "model_name": "LayoutModel",
      "state": {}
     },
     "caff36fceeed4ea2bf6f4b27ce56ea2f": {
      "model_module": "@jupyter-widgets/base",
      "model_module_version": "1.2.0",
      "model_name": "LayoutModel",
      "state": {
       "justify_content": "center"
      }
     },
     "cb2c5f0c8dea45c9b64db3d95b27a72c": {
      "model_module": "@jupyter-widgets/base",
      "model_module_version": "1.2.0",
      "model_name": "LayoutModel",
      "state": {
       "width": "600px"
      }
     },
     "cb3c893a5c544722a9cfc02be18e2519": {
      "model_module": "@jupyter-widgets/controls",
      "model_module_version": "1.5.0",
      "model_name": "CheckboxModel",
      "state": {
       "description": "Sie werden aus der Eingabe extrahiert (feature extraction)",
       "disabled": false,
       "layout": "IPY_MODEL_44d71b84547a4089b85fe25e0c1ed98d",
       "style": "IPY_MODEL_03be85a654044059b1d9b2764ac7e134",
       "value": false
      }
     },
     "cb53d7966230449ebcbab12becd8fde2": {
      "model_module": "@jupyter-widgets/controls",
      "model_module_version": "1.5.0",
      "model_name": "VBoxModel",
      "state": {
       "children": [
        "IPY_MODEL_b2db78b2d3a942688b833cc8a3def789",
        "IPY_MODEL_a270cf501ec04e74aa2929c82c99b8ba",
        "IPY_MODEL_824e52ac6d0a43e29621d872c3610f64",
        "IPY_MODEL_2f4e65a56c594dbeb2f0a55378d66b4c"
       ],
       "layout": "IPY_MODEL_71ee333729734c5e9d63a2b15b5e2295"
      }
     },
     "cb54f22aee9c43c88c5f681f8bc95cc3": {
      "model_module": "@jupyter-widgets/controls",
      "model_module_version": "1.5.0",
      "model_name": "CheckboxModel",
      "state": {
       "description": "Sie werden im Vorhinein deklariert (feature lexicon)",
       "disabled": false,
       "layout": "IPY_MODEL_ff4e2adc52394656a49e2354b55bef32",
       "style": "IPY_MODEL_2b8759f307d441d29722b36c3b5964a9",
       "value": true
      }
     },
     "cb68120201974362b87118927fc776c2": {
      "model_module": "@jupyter-widgets/controls",
      "model_module_version": "1.5.0",
      "model_name": "HTMLModel",
      "state": {
       "layout": "IPY_MODEL_c6cad750da1b4dc7884d329272699f47",
       "style": "IPY_MODEL_f00e590bb6c54784a70dea6ab7873f0c",
       "value": "<h4 style=\"font-size:14px;\">Welche native python-Datenstruktur bietet sich für die Deklaration von Merkmalstrukturen als Menge von Attribut-Wert-Paaren an?</h4>"
      }
     },
     "cb691ef0fae24c4b8bf6149d8fb957e6": {
      "model_module": "@jupyter-widgets/controls",
      "model_module_version": "1.5.0",
      "model_name": "DescriptionStyleModel",
      "state": {
       "description_width": "initial"
      }
     },
     "cba062af976b4bb892bab23712d29b7d": {
      "model_module": "@jupyter-widgets/base",
      "model_module_version": "1.2.0",
      "model_name": "LayoutModel",
      "state": {}
     },
     "cba18564187848efa4768de9ef3bc5b8": {
      "model_module": "@jupyter-widgets/base",
      "model_module_version": "1.2.0",
      "model_name": "LayoutModel",
      "state": {
       "justify_content": "center"
      }
     },
     "cba45ace2f3743d3b465c1d567f23486": {
      "model_module": "@jupyter-widgets/base",
      "model_module_version": "1.2.0",
      "model_name": "LayoutModel",
      "state": {}
     },
     "cba98b51b25243818c8fcaf3a027caad": {
      "model_module": "@jupyter-widgets/base",
      "model_module_version": "1.2.0",
      "model_name": "LayoutModel",
      "state": {}
     },
     "cbf91ec6e4a840e08d80a66a7c52402e": {
      "model_module": "@jupyter-widgets/base",
      "model_module_version": "1.2.0",
      "model_name": "LayoutModel",
      "state": {}
     },
     "cc02398fb2354a1ca82fadac4feed248": {
      "model_module": "@jupyter-widgets/base",
      "model_module_version": "1.2.0",
      "model_name": "LayoutModel",
      "state": {}
     },
     "cc0c3d4ad6414ee49f5adea649d3ce31": {
      "model_module": "@jupyter-widgets/controls",
      "model_module_version": "1.5.0",
      "model_name": "DescriptionStyleModel",
      "state": {
       "description_width": "initial"
      }
     },
     "cc4e9e50bb964aae90d461a78ded6513": {
      "model_module": "@jupyter-widgets/base",
      "model_module_version": "1.2.0",
      "model_name": "LayoutModel",
      "state": {
       "justify_content": "center"
      }
     },
     "cc785c5898f042bf86b0208d05709765": {
      "model_module": "@jupyter-widgets/base",
      "model_module_version": "1.2.0",
      "model_name": "LayoutModel",
      "state": {}
     },
     "cc827ce28a5246cf99e36c7bfa483c2d": {
      "model_module": "@jupyter-widgets/base",
      "model_module_version": "1.2.0",
      "model_name": "LayoutModel",
      "state": {
       "width": "600px"
      }
     },
     "cca0f1f614364eedae48b25106633410": {
      "model_module": "@jupyter-widgets/controls",
      "model_module_version": "1.5.0",
      "model_name": "HTMLModel",
      "state": {
       "layout": "IPY_MODEL_7be72dc103ab42c9b1c86556f4317e7c",
       "style": "IPY_MODEL_8ab97e7660a34b6f854ad526755fb375",
       "value": "<h4 style=\"font-size:14px;\">In Verbindung mit einem</h4>"
      }
     },
     "cca6f5f2a7494539ac2d5e587f342cbe": {
      "model_module": "@jupyter-widgets/controls",
      "model_module_version": "1.5.0",
      "model_name": "ButtonStyleModel",
      "state": {}
     },
     "ccb94038b8934047ab7204e78cb3dea7": {
      "model_module": "@jupyter-widgets/controls",
      "model_module_version": "1.5.0",
      "model_name": "CheckboxModel",
      "state": {
       "description": "FS0 = [CAT = N, GEN = FEM], FS1 = [CAT = DET, GEN = FEM]",
       "disabled": false,
       "layout": "IPY_MODEL_095151de5c334c36bf2717c1e9f29c97",
       "style": "IPY_MODEL_05d804701c334417a609b4bd7f8456ab",
       "value": false
      }
     },
     "ccc8b0b5444a4cf7ac12c5b8ddf89de3": {
      "model_module": "@jupyter-widgets/controls",
      "model_module_version": "1.5.0",
      "model_name": "HTMLModel",
      "state": {
       "layout": "IPY_MODEL_3e669969081c4427a1a231c89e1b641b",
       "style": "IPY_MODEL_56f0cc5580394f0bbc6ed0c9ffa46a04",
       "value": "<h4 style=\"font-size:14px;\">wird das Adjektiv hier</h4>"
      }
     },
     "cd3136932bef4d58841f2990bb1e7bc0": {
      "model_module": "@jupyter-widgets/base",
      "model_module_version": "1.2.0",
      "model_name": "LayoutModel",
      "state": {
       "width": "250px"
      }
     },
     "cd857c1664b442d4a50017b27343fa5b": {
      "model_module": "@jupyter-widgets/base",
      "model_module_version": "1.2.0",
      "model_name": "LayoutModel",
      "state": {}
     },
     "cd96f6e27d084f7bbcd02d15e9fad42d": {
      "model_module": "@jupyter-widgets/controls",
      "model_module_version": "1.5.0",
      "model_name": "ButtonStyleModel",
      "state": {
       "button_color": "lightgreen"
      }
     },
     "cda54f6c3e9a4b8aa018a18ec87ce359": {
      "model_module": "@jupyter-widgets/controls",
      "model_module_version": "1.5.0",
      "model_name": "DescriptionStyleModel",
      "state": {
       "description_width": "initial"
      }
     },
     "cde254be6fcc4a4480a8a2d575878313": {
      "model_module": "@jupyter-widgets/controls",
      "model_module_version": "1.5.0",
      "model_name": "ButtonModel",
      "state": {
       "description": "schwache Deklination",
       "layout": "IPY_MODEL_948c2ff7ef4b40feb6bdd4819ed4f6df",
       "style": "IPY_MODEL_5c455d78bdba4dfe875e8adb5d0df03c"
      }
     },
     "cdf41975ea8c4113ab2c94db28b9af7e": {
      "model_module": "@jupyter-widgets/controls",
      "model_module_version": "1.5.0",
      "model_name": "DescriptionStyleModel",
      "state": {
       "description_width": "initial"
      }
     },
     "ce0540021f4f4011960115d28058be2a": {
      "model_module": "@jupyter-widgets/controls",
      "model_module_version": "1.5.0",
      "model_name": "DescriptionStyleModel",
      "state": {
       "description_width": "initial"
      }
     },
     "ce102d2172dc47dc922956605594e4b8": {
      "model_module": "@jupyter-widgets/controls",
      "model_module_version": "1.5.0",
      "model_name": "CheckboxModel",
      "state": {
       "description": "74; ( 'number', 'address')",
       "disabled": false,
       "layout": "IPY_MODEL_c37c19cc4d1f4762a2ff49dca772cb79",
       "style": "IPY_MODEL_1833aa58049649148de9d79540ba4557",
       "value": false
      }
     },
     "ce23d74ac2c543a9a67cc9ad85dae2fd": {
      "model_module": "@jupyter-widgets/base",
      "model_module_version": "1.2.0",
      "model_name": "LayoutModel",
      "state": {
       "width": "600px"
      }
     },
     "ce291455f4d444ee96a4fd2d1784e2d2": {
      "model_module": "@jupyter-widgets/base",
      "model_module_version": "1.2.0",
      "model_name": "LayoutModel",
      "state": {
       "justify_content": "center"
      }
     },
     "ce3ccdab0f0742fe8fe94b2a3f16a697": {
      "model_module": "@jupyter-widgets/base",
      "model_module_version": "1.2.0",
      "model_name": "LayoutModel",
      "state": {
       "width": "600px"
      }
     },
     "ce41184d92114279a9b5b165ef4ae8a3": {
      "model_module": "@jupyter-widgets/controls",
      "model_module_version": "1.5.0",
      "model_name": "ButtonModel",
      "state": {
       "description": "Korrekt?",
       "layout": "IPY_MODEL_5e375c2462064475afc1b4a3d6534944",
       "style": "IPY_MODEL_edd7c356dac748f5b3ecf84a12a8a7df"
      }
     },
     "ce41686824f04ff5aa0b559f2649dbbd": {
      "model_module": "@jupyter-widgets/controls",
      "model_module_version": "1.5.0",
      "model_name": "HTMLModel",
      "state": {
       "layout": "IPY_MODEL_3119fff9005a431bb90ee2d0705f7cb4",
       "style": "IPY_MODEL_6b346608dc304e92871cc236568e9630",
       "value": "<i>Wählen Sie die <ins>eine</ins> korrekte Antwort aus: </i>"
      }
     },
     "ce4ad1cd37d4424189bbeaaba62f6768": {
      "model_module": "@jupyter-widgets/controls",
      "model_module_version": "1.5.0",
      "model_name": "ButtonModel",
      "state": {
       "description": "Korrekt?",
       "layout": "IPY_MODEL_b54190d3c3a24d69b97e9616c66b04f5",
       "style": "IPY_MODEL_ac0734257e1844619f61026b9e99a633"
      }
     },
     "ce5ef3838cdd4429a0f93a2d441ff83e": {
      "model_module": "@jupyter-widgets/controls",
      "model_module_version": "1.5.0",
      "model_name": "CheckboxModel",
      "state": {
       "description": "Passivierung (Objekt-Promotion)",
       "disabled": false,
       "layout": "IPY_MODEL_2455e332ed8e45c69d2eda0aceb3c588",
       "style": "IPY_MODEL_256a4ed46fe64df983988f0a9367afa9",
       "value": false
      }
     },
     "ce6186eea11e46058389513601e4b7fc": {
      "model_module": "@jupyter-widgets/base",
      "model_module_version": "1.2.0",
      "model_name": "LayoutModel",
      "state": {}
     },
     "ce956e727e80452e9576cf0f7f80f7ae": {
      "model_module": "@jupyter-widgets/controls",
      "model_module_version": "1.5.0",
      "model_name": "HBoxModel",
      "state": {
       "children": [
        "IPY_MODEL_6e6c03e9a5be47738eced095f390e7b0",
        "IPY_MODEL_1f47450903494dd7bf8bed28a56d1b22"
       ],
       "layout": "IPY_MODEL_85d83af1f4ac4a7390c4d20c10ac8315"
      }
     },
     "ceb87a09dcd54ada9c9a1f5c95d207f4": {
      "model_module": "@jupyter-widgets/controls",
      "model_module_version": "1.5.0",
      "model_name": "VBoxModel",
      "state": {
       "children": [
        "IPY_MODEL_1232242c150d4875940034f49e7be062",
        "IPY_MODEL_f3b42eaf292d4dfab26ce0225fd0e890",
        "IPY_MODEL_3a38b523301d468d91439f6659e09a86",
        "IPY_MODEL_7fc3898887e24cc092ce023c78cd2473"
       ],
       "layout": "IPY_MODEL_9e4bdec8830c4417a2b733497f4b3128"
      }
     },
     "cecd0d6dc0644e4ea740822ce9a58480": {
      "model_module": "@jupyter-widgets/base",
      "model_module_version": "1.2.0",
      "model_name": "LayoutModel",
      "state": {
       "width": "600px"
      }
     },
     "ced326ae152c42b5b7c8988866475fe7": {
      "model_module": "@jupyter-widgets/controls",
      "model_module_version": "1.5.0",
      "model_name": "DescriptionStyleModel",
      "state": {
       "description_width": ""
      }
     },
     "cf1f0af995f24b2b83f07a5ed7c3d811": {
      "model_module": "@jupyter-widgets/controls",
      "model_module_version": "1.5.0",
      "model_name": "ButtonModel",
      "state": {
       "description": "Zeitangabe",
       "layout": "IPY_MODEL_57534e3a9df2447c9a03ad2857beb1b9",
       "style": "IPY_MODEL_589d8188159c434bb2ea3007852628df"
      }
     },
     "cf28e3670d9544d9bb386c997f754387": {
      "model_module": "@jupyter-widgets/controls",
      "model_module_version": "1.5.0",
      "model_name": "CheckboxModel",
      "state": {
       "description": "FS0 = [CAT = N, GEN = FEM], FS1 = [CAT = N, GEN = FEM]",
       "disabled": false,
       "layout": "IPY_MODEL_3560215f0c6542f898dc57ec4b82a951",
       "style": "IPY_MODEL_9e862ac0566440258e882cfe683c6efa",
       "value": false
      }
     },
     "cf3e1c8ba5db4960a2d895c88506ed6a": {
      "model_module": "@jupyter-widgets/base",
      "model_module_version": "1.2.0",
      "model_name": "LayoutModel",
      "state": {
       "justify_content": "center"
      }
     },
     "cf433a0185d64c4d8757bfdcc42fc700": {
      "model_module": "@jupyter-widgets/controls",
      "model_module_version": "1.5.0",
      "model_name": "DescriptionStyleModel",
      "state": {
       "description_width": ""
      }
     },
     "cf89b5d3ab5a481eb82a665985849c0c": {
      "model_module": "@jupyter-widgets/controls",
      "model_module_version": "1.5.0",
      "model_name": "ButtonStyleModel",
      "state": {
       "button_color": "lightgreen"
      }
     },
     "cf950f4662d74796bd5c52db18f63305": {
      "model_module": "@jupyter-widgets/controls",
      "model_module_version": "1.5.0",
      "model_name": "DescriptionStyleModel",
      "state": {
       "description_width": ""
      }
     },
     "cfaf0843f40f4e7f9f4c799680dc1627": {
      "model_module": "@jupyter-widgets/base",
      "model_module_version": "1.2.0",
      "model_name": "LayoutModel",
      "state": {
       "width": "250px"
      }
     },
     "cfd37d06c2994fceb62cfceaafc53bde": {
      "model_module": "@jupyter-widgets/controls",
      "model_module_version": "1.5.0",
      "model_name": "ButtonStyleModel",
      "state": {
       "button_color": "lightgreen"
      }
     },
     "d020fc5a8c58460697e46ff7feba5503": {
      "model_module": "@jupyter-widgets/controls",
      "model_module_version": "1.5.0",
      "model_name": "ButtonModel",
      "state": {
       "description": "Korrekt?",
       "layout": "IPY_MODEL_58a8da60861c4a9e842363bdbc2db18b",
       "style": "IPY_MODEL_15528865262448c2927ce56635304241"
      }
     },
     "d0290185ee5a4c39b6583aebac0cdb35": {
      "model_module": "@jupyter-widgets/controls",
      "model_module_version": "1.5.0",
      "model_name": "HTMLModel",
      "state": {
       "layout": "IPY_MODEL_1ce84e4704274a2ca3d7299d7ee72431",
       "style": "IPY_MODEL_d84c18ecf8ab4a76b9aa3c03a7637300",
       "value": "<i>Markieren Sie <ins>alle</ins> passenden Antworten: </i>"
      }
     },
     "d0541a6f2a394ba09722a028910a35cb": {
      "model_module": "@jupyter-widgets/base",
      "model_module_version": "1.2.0",
      "model_name": "LayoutModel",
      "state": {
       "width": "250px"
      }
     },
     "d057d23e4bd043919a8a06d7786140e7": {
      "model_module": "@jupyter-widgets/controls",
      "model_module_version": "1.5.0",
      "model_name": "DescriptionStyleModel",
      "state": {
       "description_width": ""
      }
     },
     "d0790ed05e91435eb6a6d2bbf83fea08": {
      "model_module": "@jupyter-widgets/controls",
      "model_module_version": "1.5.0",
      "model_name": "DescriptionStyleModel",
      "state": {
       "description_width": "initial"
      }
     },
     "d091896c9b064cf1baafdf228ac0b850": {
      "model_module": "@jupyter-widgets/base",
      "model_module_version": "1.2.0",
      "model_name": "LayoutModel",
      "state": {}
     },
     "d0b30ad7fe1e4b689778332b60a7fd37": {
      "model_module": "@jupyter-widgets/base",
      "model_module_version": "1.2.0",
      "model_name": "LayoutModel",
      "state": {}
     },
     "d0c17516a2664a48b3077eda314e3442": {
      "model_module": "@jupyter-widgets/base",
      "model_module_version": "1.2.0",
      "model_name": "LayoutModel",
      "state": {}
     },
     "d0e52bcf1e144d9f94ed796bb9b76ce3": {
      "model_module": "@jupyter-widgets/base",
      "model_module_version": "1.2.0",
      "model_name": "LayoutModel",
      "state": {
       "width": "250px"
      }
     },
     "d12ebe2113f64977b7889419c7b1c4fd": {
      "model_module": "@jupyter-widgets/controls",
      "model_module_version": "1.5.0",
      "model_name": "HBoxModel",
      "state": {
       "children": [
        "IPY_MODEL_777e2aacdec14e2b97152cb56cd1e156",
        "IPY_MODEL_9cbc0dd84e2c42118789874babf235ae"
       ],
       "layout": "IPY_MODEL_18a3926ad87e47f0a6e323b19559f9c2"
      }
     },
     "d144ce27edaf4ea3808a3494c22c542b": {
      "model_module": "@jupyter-widgets/controls",
      "model_module_version": "1.5.0",
      "model_name": "HTMLModel",
      "state": {
       "layout": "IPY_MODEL_3b8ec6a9aeba4ce9a41a5ec814a3eade",
       "style": "IPY_MODEL_a83256338b60420aa4b6d0a4435f9e11",
       "value": "<h4 style=\"font-size:14px;\">Welche native python-Datenstruktur bietet sich für die Deklaration von Merkmalstrukturen als Menge von Attribut-Wert-Paaren an?</h4>"
      }
     },
     "d154343317004213ba95d3d7e0d7fccb": {
      "model_module": "@jupyter-widgets/controls",
      "model_module_version": "1.5.0",
      "model_name": "HTMLModel",
      "state": {
       "layout": "IPY_MODEL_ce291455f4d444ee96a4fd2d1784e2d2",
       "style": "IPY_MODEL_0dd507ea61054c9e8e8485e4b9db83fd",
       "value": "<i>Markieren Sie <ins>alle</ins> passenden Antworten: </i>"
      }
     },
     "d154b46e6f4244619b918ab021cf5a95": {
      "model_module": "@jupyter-widgets/base",
      "model_module_version": "1.2.0",
      "model_name": "LayoutModel",
      "state": {
       "width": "600px"
      }
     },
     "d160e1fed3694d2a91d8063f2c4f1405": {
      "model_module": "@jupyter-widgets/controls",
      "model_module_version": "1.5.0",
      "model_name": "VBoxModel",
      "state": {
       "children": [
        "IPY_MODEL_361e42ac15434b80802bd2d9ee65ff39",
        "IPY_MODEL_45f280eb02bf417fadea7fca76cd782f",
        "IPY_MODEL_b4c7f6f14650415aa0ae0c0d3de465e4",
        "IPY_MODEL_8be4ba6b75f04613aa4e14af26125d8b",
        "IPY_MODEL_1db997d378714284bb8a8e4fe5eb193e"
       ],
       "layout": "IPY_MODEL_490c41f471c449969733fb2a70c952b3"
      }
     },
     "d176ae693a524a3487f09c32c24bb7ed": {
      "model_module": "@jupyter-widgets/base",
      "model_module_version": "1.2.0",
      "model_name": "LayoutModel",
      "state": {
       "width": "150px"
      }
     },
     "d18614ee9455431d924ffdfb459fc2d0": {
      "model_module": "@jupyter-widgets/base",
      "model_module_version": "1.2.0",
      "model_name": "LayoutModel",
      "state": {
       "width": "600px"
      }
     },
     "d193556339134c9aab26bb103623cc27": {
      "model_module": "@jupyter-widgets/base",
      "model_module_version": "1.2.0",
      "model_name": "LayoutModel",
      "state": {
       "width": "600px"
      }
     },
     "d1a135b338a54db78948f319c0aac617": {
      "model_module": "@jupyter-widgets/base",
      "model_module_version": "1.2.0",
      "model_name": "LayoutModel",
      "state": {
       "width": "250px"
      }
     },
     "d1aa96bd0311469ea528e6eef408523c": {
      "model_module": "@jupyter-widgets/base",
      "model_module_version": "1.2.0",
      "model_name": "LayoutModel",
      "state": {}
     },
     "d1aaa84793944269af2db7867e646582": {
      "model_module": "@jupyter-widgets/controls",
      "model_module_version": "1.5.0",
      "model_name": "VBoxModel",
      "state": {
       "children": [
        "IPY_MODEL_a2135240cd7d412c83f6109a8304a100",
        "IPY_MODEL_6ca70c7522fb40cb8bab6887b2799140",
        "IPY_MODEL_68fa10edb8c34dc8ab782a31065aa798",
        "IPY_MODEL_0f7fb3eb81294f2683d802f6f1f3b884"
       ],
       "layout": "IPY_MODEL_0da231af33be4dbabab197a98194359d"
      }
     },
     "d1b6b33832cd4077b1c5eb8f1e621ac2": {
      "model_module": "@jupyter-widgets/base",
      "model_module_version": "1.2.0",
      "model_name": "LayoutModel",
      "state": {
       "width": "600px"
      }
     },
     "d1f315c0451b4f049e5773f0b059e0be": {
      "model_module": "@jupyter-widgets/base",
      "model_module_version": "1.2.0",
      "model_name": "LayoutModel",
      "state": {}
     },
     "d1f3430a776c46bbb0052137ae98516a": {
      "model_module": "@jupyter-widgets/controls",
      "model_module_version": "1.5.0",
      "model_name": "HTMLModel",
      "state": {
       "layout": "IPY_MODEL_94f310d165f44264a6df8eff158aa0dc",
       "style": "IPY_MODEL_76c5b69883144fb3a48067681786bf46",
       "value": "<i>Wählen Sie die <ins>eine</ins> korrekte Antwort aus: </i>"
      }
     },
     "d1f8256c371d426ca0d80ae30c210a5f": {
      "model_module": "@jupyter-widgets/base",
      "model_module_version": "1.2.0",
      "model_name": "LayoutModel",
      "state": {
       "justify_content": "center"
      }
     },
     "d2339fe1929d4c8e91fe50a3b1c70907": {
      "model_module": "@jupyter-widgets/base",
      "model_module_version": "1.2.0",
      "model_name": "LayoutModel",
      "state": {}
     },
     "d237bb5d957845e9b6079919c2244051": {
      "model_module": "@jupyter-widgets/base",
      "model_module_version": "1.2.0",
      "model_name": "LayoutModel",
      "state": {}
     },
     "d26246d34de94dd082d68922de4ed201": {
      "model_module": "@jupyter-widgets/controls",
      "model_module_version": "1.5.0",
      "model_name": "DescriptionStyleModel",
      "state": {
       "description_width": "initial"
      }
     },
     "d28a6ffc738c49dc895284efa87cf23d": {
      "model_module": "@jupyter-widgets/controls",
      "model_module_version": "1.5.0",
      "model_name": "VBoxModel",
      "state": {
       "children": [
        "IPY_MODEL_61b274bcb682465489be478726f96460",
        "IPY_MODEL_9c296220bb2b42b597623dde6e7e5659",
        "IPY_MODEL_c271c5edfc814b6ca7b53a4765c19627",
        "IPY_MODEL_5d82c5fd2a2c4e9ca6d8b214570dd50a"
       ],
       "layout": "IPY_MODEL_f24ccc0b2e484a289b06743cb56f1149"
      }
     },
     "d2989449d1a44856aaa884157e58db34": {
      "model_module": "@jupyter-widgets/controls",
      "model_module_version": "1.5.0",
      "model_name": "ButtonStyleModel",
      "state": {}
     },
     "d2c412b9e8394b03bcc5fc9d787d63c5": {
      "model_module": "@jupyter-widgets/base",
      "model_module_version": "1.2.0",
      "model_name": "LayoutModel",
      "state": {
       "width": "600px"
      }
     },
     "d2cf1bfb76ee41b59eb6a083abb89c7c": {
      "model_module": "@jupyter-widgets/base",
      "model_module_version": "1.2.0",
      "model_name": "LayoutModel",
      "state": {}
     },
     "d2d47215656545e79dda3b1c41fd31ed": {
      "model_module": "@jupyter-widgets/controls",
      "model_module_version": "1.5.0",
      "model_name": "DescriptionStyleModel",
      "state": {
       "description_width": ""
      }
     },
     "d2e91ae17fd84ffca4e0eb1f02fbdc4e": {
      "model_module": "@jupyter-widgets/controls",
      "model_module_version": "1.5.0",
      "model_name": "ButtonModel",
      "state": {
       "description": "Patiens",
       "layout": "IPY_MODEL_b4c82d3ad85f41bfbebfc624c5f45bd5",
       "style": "IPY_MODEL_5b2197845b7d4a61a10def8b38c5156a"
      }
     },
     "d331e2aadc9d4a4881d261b84700848b": {
      "model_module": "@jupyter-widgets/controls",
      "model_module_version": "1.5.0",
      "model_name": "ButtonStyleModel",
      "state": {
       "button_color": "lightgreen"
      }
     },
     "d369df6585f742d5a9957a38744c3c35": {
      "model_module": "@jupyter-widgets/controls",
      "model_module_version": "1.5.0",
      "model_name": "ButtonModel",
      "state": {
       "description": "Patiens",
       "layout": "IPY_MODEL_2274a7e364bd4064805e8f38b32afbe5",
       "style": "IPY_MODEL_3c36b5b6c28a45779b290858b967205b"
      }
     },
     "d37d9ffc116e4b84972fc71a331349c7": {
      "model_module": "@jupyter-widgets/controls",
      "model_module_version": "1.5.0",
      "model_name": "DescriptionStyleModel",
      "state": {
       "description_width": "initial"
      }
     },
     "d3805d60a8f94632826c15d539c36c7b": {
      "model_module": "@jupyter-widgets/base",
      "model_module_version": "1.2.0",
      "model_name": "LayoutModel",
      "state": {
       "width": "600px"
      }
     },
     "d3d4cfc58a9441ad8281749e48fa797d": {
      "model_module": "@jupyter-widgets/base",
      "model_module_version": "1.2.0",
      "model_name": "LayoutModel",
      "state": {
       "width": "250px"
      }
     },
     "d412a0bc873b453db7e86a32885ccba3": {
      "model_module": "@jupyter-widgets/base",
      "model_module_version": "1.2.0",
      "model_name": "LayoutModel",
      "state": {
       "width": "250px"
      }
     },
     "d46d83ee7d0c426fb958f25683f13a8f": {
      "model_module": "@jupyter-widgets/base",
      "model_module_version": "1.2.0",
      "model_name": "LayoutModel",
      "state": {
       "justify_content": "center"
      }
     },
     "d483a39946624162983e218daaf8f9ed": {
      "model_module": "@jupyter-widgets/base",
      "model_module_version": "1.2.0",
      "model_name": "LayoutModel",
      "state": {
       "width": "600px"
      }
     },
     "d4cd3262c920443d93c164bf08edcb95": {
      "model_module": "@jupyter-widgets/controls",
      "model_module_version": "1.5.0",
      "model_name": "ButtonModel",
      "state": {
       "description": "Korrekt?",
       "layout": "IPY_MODEL_bf6562a81b064721951fdc5be43853d5",
       "style": "IPY_MODEL_159a20ff5c5441f5ae76a4facc9d1ad6"
      }
     },
     "d4de44ebf0da458592eb2573a325c56a": {
      "model_module": "@jupyter-widgets/controls",
      "model_module_version": "1.5.0",
      "model_name": "DescriptionStyleModel",
      "state": {
       "description_width": "initial"
      }
     },
     "d4eb7d253205455aac26a50fcea38459": {
      "model_module": "@jupyter-widgets/controls",
      "model_module_version": "1.5.0",
      "model_name": "VBoxModel",
      "state": {
       "children": [
        "IPY_MODEL_02def80ccc474d059b6ff91b1ba09862",
        "IPY_MODEL_8c855a44e01740b8b97d80a1a8def157",
        "IPY_MODEL_2f972d7f945947c5ad87d10adb133823",
        "IPY_MODEL_a546f917179e4f1ebd62407b9216bba8"
       ],
       "layout": "IPY_MODEL_191c5e092fe34dfb805e9c7ce9379fc7"
      }
     },
     "d523cf520e8349a187ce26bd64c50131": {
      "model_module": "@jupyter-widgets/controls",
      "model_module_version": "1.5.0",
      "model_name": "HTMLModel",
      "state": {
       "layout": "IPY_MODEL_1e9810832d1c42b590663fe960954861",
       "style": "IPY_MODEL_1f849d4d3ecc47f0a91b81f415e60af9",
       "value": "<h4 style=\"font-size:14px;\">übernehmen.</h4>"
      }
     },
     "d54059302db643c298b7382c3337ceb8": {
      "model_module": "@jupyter-widgets/controls",
      "model_module_version": "1.5.0",
      "model_name": "DescriptionStyleModel",
      "state": {
       "description_width": "initial"
      }
     },
     "d54e64061315483eb07c77b1de9f7ac5": {
      "model_module": "@jupyter-widgets/base",
      "model_module_version": "1.2.0",
      "model_name": "LayoutModel",
      "state": {
       "width": "150px"
      }
     },
     "d57b29c2faa04e91b680d19c29c98452": {
      "model_module": "@jupyter-widgets/controls",
      "model_module_version": "1.5.0",
      "model_name": "ButtonModel",
      "state": {
       "description": "starke Deklination",
       "layout": "IPY_MODEL_e8cb5cfbedb54aff8120c98d32ba8935",
       "style": "IPY_MODEL_453226a651564414953915bc63cbcb9d"
      }
     },
     "d5828007c976476c991d5156deed6c1d": {
      "model_module": "@jupyter-widgets/base",
      "model_module_version": "1.2.0",
      "model_name": "LayoutModel",
      "state": {
       "width": "250px"
      }
     },
     "d5868d08a91a4b84b6b554801ba7dbdc": {
      "model_module": "@jupyter-widgets/controls",
      "model_module_version": "1.5.0",
      "model_name": "HBoxModel",
      "state": {
       "children": [
        "IPY_MODEL_a8cbcc48498344009dacfa0ff3c9f75b"
       ],
       "layout": "IPY_MODEL_a54a750e4ca54cc6bcb6498d45544c90"
      }
     },
     "d59ae997c5074ec0a0ea32720aac6ef7": {
      "model_module": "@jupyter-widgets/controls",
      "model_module_version": "1.5.0",
      "model_name": "ButtonStyleModel",
      "state": {}
     },
     "d59c02de5b9e4392b769983fe847a94c": {
      "model_module": "@jupyter-widgets/controls",
      "model_module_version": "1.5.0",
      "model_name": "ButtonModel",
      "state": {
       "description": "Keine der anderen Möglichkeiten",
       "layout": "IPY_MODEL_200184a8ba4c4fc9be625dafada5c1bf",
       "style": "IPY_MODEL_c9534cc4d0bb40b0848a51fd542b4638"
      }
     },
     "d5a96ce585e04ba18e6015fdad8581e9": {
      "model_module": "@jupyter-widgets/controls",
      "model_module_version": "1.5.0",
      "model_name": "ButtonModel",
      "state": {
       "description": "Korrekt?",
       "layout": "IPY_MODEL_883e9c6942404d8eac37147f8747b36e",
       "style": "IPY_MODEL_415df1b179fe494abfbaac0434da85e2"
      }
     },
     "d5a97e3b07564fe9b23ae6a0a05627e9": {
      "model_module": "@jupyter-widgets/base",
      "model_module_version": "1.2.0",
      "model_name": "LayoutModel",
      "state": {
       "width": "600px"
      }
     },
     "d5ab8d62eeee4f79af7bae7ac8cd0226": {
      "model_module": "@jupyter-widgets/base",
      "model_module_version": "1.2.0",
      "model_name": "LayoutModel",
      "state": {}
     },
     "d5ce78931ab648059ef22314dc8d43ad": {
      "model_module": "@jupyter-widgets/controls",
      "model_module_version": "1.5.0",
      "model_name": "ButtonModel",
      "state": {
       "description": "Korrekt?",
       "layout": "IPY_MODEL_c2a82eb711af422d9d815172628f5e1c",
       "style": "IPY_MODEL_0a81c4da65c14e7fb885b71d19f539d0"
      }
     },
     "d5d3262d55474b6ca36d1fb843c610eb": {
      "model_module": "@jupyter-widgets/controls",
      "model_module_version": "1.5.0",
      "model_name": "DescriptionStyleModel",
      "state": {
       "description_width": ""
      }
     },
     "d5e9121446ea4ea4a5b0efbbd9eedbf8": {
      "model_module": "@jupyter-widgets/base",
      "model_module_version": "1.2.0",
      "model_name": "LayoutModel",
      "state": {
       "justify_content": "center"
      }
     },
     "d5fe95ea447a450eb7bba3f3ed25c4c0": {
      "model_module": "@jupyter-widgets/controls",
      "model_module_version": "1.5.0",
      "model_name": "DescriptionStyleModel",
      "state": {
       "description_width": ""
      }
     },
     "d62310382a994c839391bc08216a4f97": {
      "model_module": "@jupyter-widgets/controls",
      "model_module_version": "1.5.0",
      "model_name": "DescriptionStyleModel",
      "state": {
       "description_width": ""
      }
     },
     "d670136961d7423cb04521dd5b4b8b86": {
      "model_module": "@jupyter-widgets/base",
      "model_module_version": "1.2.0",
      "model_name": "LayoutModel",
      "state": {
       "width": "250px"
      }
     },
     "d699b46d37884e9ca38128e53ea4417c": {
      "model_module": "@jupyter-widgets/base",
      "model_module_version": "1.2.0",
      "model_name": "LayoutModel",
      "state": {
       "justify_content": "center"
      }
     },
     "d6a62bad1a044ab9865664f211fed3bb": {
      "model_module": "@jupyter-widgets/controls",
      "model_module_version": "1.5.0",
      "model_name": "ButtonStyleModel",
      "state": {}
     },
     "d6ac843abb934936bb4fd53e10c8b645": {
      "model_module": "@jupyter-widgets/controls",
      "model_module_version": "1.5.0",
      "model_name": "DropdownModel",
      "state": {
       "_options_labels": [
        "Genusmarkierung",
        "Kasusmarkierung",
        " "
       ],
       "index": 0,
       "layout": "IPY_MODEL_d176ae693a524a3487f09c32c24bb7ed",
       "style": "IPY_MODEL_28db8af5d8ba46b49b84e13cc658da39"
      }
     },
     "d71210e049ab47f59d8030d72704ffc7": {
      "model_module": "@jupyter-widgets/controls",
      "model_module_version": "1.5.0",
      "model_name": "VBoxModel",
      "state": {
       "children": [
        "IPY_MODEL_8b911a5d06d542a6a735be30a0385bfd",
        "IPY_MODEL_4aab6698feee4649b958583850e832f5",
        "IPY_MODEL_b7cb37fc3bc640a6a614af22647348bb"
       ],
       "layout": "IPY_MODEL_5362219416b144b1bc11ed40ff82f5cc"
      }
     },
     "d73c9b49a8c0488087162bd258bfd8d9": {
      "model_module": "@jupyter-widgets/controls",
      "model_module_version": "1.5.0",
      "model_name": "CheckboxModel",
      "state": {
       "description": "Subjekt-Demotion zu Adverbial",
       "disabled": false,
       "layout": "IPY_MODEL_b765eda29a9a4bc68760bf839968f53e",
       "style": "IPY_MODEL_9d4ccfc26cb94bb3a74033e37e6be0a2",
       "value": true
      }
     },
     "d75a29de8e3f41a6ba3a58944ce89405": {
      "model_module": "@jupyter-widgets/controls",
      "model_module_version": "1.5.0",
      "model_name": "CheckboxModel",
      "state": {
       "description": "Keine der Alternativen",
       "disabled": false,
       "layout": "IPY_MODEL_d1b6b33832cd4077b1c5eb8f1e621ac2",
       "style": "IPY_MODEL_bfcc5a06d78a40a1a5f1eda931f2c957",
       "value": false
      }
     },
     "d76f8bbe19ab4995a9134dd69dee91d5": {
      "model_module": "@jupyter-widgets/controls",
      "model_module_version": "1.5.0",
      "model_name": "CheckboxModel",
      "state": {
       "description": "FS0 = [CAT = N, GEN = MASK], FS1 = [CAT = N]",
       "disabled": false,
       "layout": "IPY_MODEL_b9664391ae7541cbbce728fadb0586ae",
       "style": "IPY_MODEL_a2cb76a8837049ed9ee2b0452806a56f",
       "value": true
      }
     },
     "d82ec35b090243359bcae8453599d4ca": {
      "model_module": "@jupyter-widgets/base",
      "model_module_version": "1.2.0",
      "model_name": "LayoutModel",
      "state": {
       "width": "600px"
      }
     },
     "d82f4489aca74fda84c39a2035c0a98e": {
      "model_module": "@jupyter-widgets/base",
      "model_module_version": "1.2.0",
      "model_name": "LayoutModel",
      "state": {
       "width": "600px"
      }
     },
     "d837793109b34140a046494dff7fe966": {
      "model_module": "@jupyter-widgets/base",
      "model_module_version": "1.2.0",
      "model_name": "LayoutModel",
      "state": {
       "width": "600px"
      }
     },
     "d848206e5e9349acab5a6366a8d69b4d": {
      "model_module": "@jupyter-widgets/controls",
      "model_module_version": "1.5.0",
      "model_name": "DescriptionStyleModel",
      "state": {
       "description_width": ""
      }
     },
     "d84c18ecf8ab4a76b9aa3c03a7637300": {
      "model_module": "@jupyter-widgets/controls",
      "model_module_version": "1.5.0",
      "model_name": "DescriptionStyleModel",
      "state": {
       "description_width": ""
      }
     },
     "d84c2c3f5057491d90098dbda1535cf5": {
      "model_module": "@jupyter-widgets/base",
      "model_module_version": "1.2.0",
      "model_name": "LayoutModel",
      "state": {
       "width": "250px"
      }
     },
     "d8591a37b7fe442e936fd80d1a26ddb9": {
      "model_module": "@jupyter-widgets/base",
      "model_module_version": "1.2.0",
      "model_name": "LayoutModel",
      "state": {}
     },
     "d8c2afe9bd86420ab9712b6032abab3d": {
      "model_module": "@jupyter-widgets/base",
      "model_module_version": "1.2.0",
      "model_name": "LayoutModel",
      "state": {
       "width": "600px"
      }
     },
     "d8d962159e844d2a91597bcd917772ec": {
      "model_module": "@jupyter-widgets/controls",
      "model_module_version": "1.5.0",
      "model_name": "HTMLModel",
      "state": {
       "layout": "IPY_MODEL_5ede819f8c084b3e890530d5fe9fc755",
       "style": "IPY_MODEL_4d908a748d6d4b12ababcf92d2e7bc3f",
       "value": "<h4 style=\"font-size:14px;\">dekliniert. Dies mag daran liegen, dass die</h4>"
      }
     },
     "d8f09cc43567428f9e3ef66fb39515c2": {
      "model_module": "@jupyter-widgets/base",
      "model_module_version": "1.2.0",
      "model_name": "LayoutModel",
      "state": {
       "width": "600px"
      }
     },
     "d8f80c16d247420ab3a9a6cd6c96d583": {
      "model_module": "@jupyter-widgets/controls",
      "model_module_version": "1.5.0",
      "model_name": "CheckboxModel",
      "state": {
       "description": "Die Form vom Adjektiven hängt niemals von irgendeinem Genus ab.",
       "disabled": false,
       "layout": "IPY_MODEL_9ebbc99cad98420e81262a88a58b4a9e",
       "style": "IPY_MODEL_1145ff2bf0af4482afc4cb1c828cb1a6",
       "value": false
      }
     },
     "d90080a69f3c435e89a70e630f0b2d9b": {
      "model_module": "@jupyter-widgets/controls",
      "model_module_version": "1.5.0",
      "model_name": "DescriptionStyleModel",
      "state": {
       "description_width": ""
      }
     },
     "d93a5b84a56748678e5cddc0ae96c096": {
      "model_module": "@jupyter-widgets/controls",
      "model_module_version": "1.5.0",
      "model_name": "DescriptionStyleModel",
      "state": {
       "description_width": "initial"
      }
     },
     "d93fd0d2b03f429b9fe002b744dafd43": {
      "model_module": "@jupyter-widgets/base",
      "model_module_version": "1.2.0",
      "model_name": "LayoutModel",
      "state": {
       "width": "150px"
      }
     },
     "d942a9d604ad4084b5fc97586abfeb53": {
      "model_module": "@jupyter-widgets/controls",
      "model_module_version": "1.5.0",
      "model_name": "ButtonStyleModel",
      "state": {
       "button_color": "lightgreen"
      }
     },
     "d964c131188c40be9f9ea68194ab52c5": {
      "model_module": "@jupyter-widgets/controls",
      "model_module_version": "1.5.0",
      "model_name": "ButtonStyleModel",
      "state": {}
     },
     "d98e358bb73d48a181d5c343e16b700c": {
      "model_module": "@jupyter-widgets/controls",
      "model_module_version": "1.5.0",
      "model_name": "DescriptionStyleModel",
      "state": {
       "description_width": "initial"
      }
     },
     "da0056fdf4024f9a8b4f07e361e83bfc": {
      "model_module": "@jupyter-widgets/controls",
      "model_module_version": "1.5.0",
      "model_name": "ButtonStyleModel",
      "state": {
       "button_color": "lightgreen"
      }
     },
     "da067d5f500e4961b40d6fe599d667f9": {
      "model_module": "@jupyter-widgets/controls",
      "model_module_version": "1.5.0",
      "model_name": "ButtonModel",
      "state": {
       "description": "Korrekt?",
       "layout": "IPY_MODEL_3b2c33dd0d3b491d9cc2119bd7b6827b",
       "style": "IPY_MODEL_a5ea9f1b48e942bab50057ad2001e67f"
      }
     },
     "da2b944b29564beda26478c882d48fd0": {
      "model_module": "@jupyter-widgets/controls",
      "model_module_version": "1.5.0",
      "model_name": "ButtonModel",
      "state": {
       "description": "Korrekt?",
       "layout": "IPY_MODEL_dfe09b14fcf94b99b9aef608ed0cc672",
       "style": "IPY_MODEL_c2870c99384540a4b96db6727c8a7b24"
      }
     },
     "da612aab579447f28e1e7a63fef1a1c4": {
      "model_module": "@jupyter-widgets/controls",
      "model_module_version": "1.5.0",
      "model_name": "ButtonStyleModel",
      "state": {}
     },
     "da6fa0affdb6454e8c89d0945eb060ec": {
      "model_module": "@jupyter-widgets/controls",
      "model_module_version": "1.5.0",
      "model_name": "HTMLModel",
      "state": {
       "layout": "IPY_MODEL_163f14594f694056ba678a411b4484d5",
       "style": "IPY_MODEL_9f45a8a953e1464f81b45190c88f5170",
       "value": "<i>Vervollständigen Sie den Lückentext: </i>"
      }
     },
     "daa3d272677c4dbc892e5181c1214927": {
      "model_module": "@jupyter-widgets/base",
      "model_module_version": "1.2.0",
      "model_name": "LayoutModel",
      "state": {}
     },
     "daabb97d128a4e9081ba9a2b3902406f": {
      "model_module": "@jupyter-widgets/base",
      "model_module_version": "1.2.0",
      "model_name": "LayoutModel",
      "state": {}
     },
     "dacc877d5dd349faaa936b6001685e71": {
      "model_module": "@jupyter-widgets/controls",
      "model_module_version": "1.5.0",
      "model_name": "HTMLModel",
      "state": {
       "layout": "IPY_MODEL_fbcbb34512564eb98fe035a6789d8bda",
       "style": "IPY_MODEL_feca53b1bd354eada6a5e38e926604b6",
       "value": "<i>Markieren Sie <ins>alle</ins> passenden Antworten: </i>"
      }
     },
     "dad6329821af4292933515ab7b77ae2a": {
      "model_module": "@jupyter-widgets/controls",
      "model_module_version": "1.5.0",
      "model_name": "ButtonModel",
      "state": {
       "description": "Recipient",
       "layout": "IPY_MODEL_3fcb995cd97c4491b0bb567c056dafd2",
       "style": "IPY_MODEL_a90695b7616b40388e4e0eeca40d99fe"
      }
     },
     "dae198eaaad1402a8c47c9f79b23ad6c": {
      "model_module": "@jupyter-widgets/controls",
      "model_module_version": "1.5.0",
      "model_name": "ButtonStyleModel",
      "state": {}
     },
     "dae6127b2cbc4b8b86b03ca4014e30e5": {
      "model_module": "@jupyter-widgets/controls",
      "model_module_version": "1.5.0",
      "model_name": "ButtonModel",
      "state": {
       "description": "stack",
       "layout": "IPY_MODEL_a207e38f2cf4466289fad3e9e0e96f4e",
       "style": "IPY_MODEL_e8bc667a3ddd40248056ddbc69a3a341"
      }
     },
     "db081f32a7644b97aa896d749d12f541": {
      "model_module": "@jupyter-widgets/base",
      "model_module_version": "1.2.0",
      "model_name": "LayoutModel",
      "state": {
       "width": "500px"
      }
     },
     "db0c0169a11441c19bacbb6bbff12d83": {
      "model_module": "@jupyter-widgets/controls",
      "model_module_version": "1.5.0",
      "model_name": "ButtonModel",
      "state": {
       "description": "Ja",
       "layout": "IPY_MODEL_ca715f6a34b1422081ce73f0b8a0363a",
       "style": "IPY_MODEL_ef2aa1bbebfe4c719e3b50b560eb16db"
      }
     },
     "db78c905cb294e56bb1ead91f9a4f451": {
      "model_module": "@jupyter-widgets/controls",
      "model_module_version": "1.5.0",
      "model_name": "ButtonStyleModel",
      "state": {}
     },
     "db92d212ccf14f929b296329d39fe928": {
      "model_module": "@jupyter-widgets/controls",
      "model_module_version": "1.5.0",
      "model_name": "ButtonModel",
      "state": {
       "description": "Korrekt?",
       "layout": "IPY_MODEL_07f342c558da457fbe1938e29031a22c",
       "style": "IPY_MODEL_74f3a2b87fe644788c0dbb1efead571d"
      }
     },
     "dbbced82bfd94f9d9845d1cda3622b1a": {
      "model_module": "@jupyter-widgets/controls",
      "model_module_version": "1.5.0",
      "model_name": "CheckboxModel",
      "state": {
       "description": "FS0 = [CAT = N], FS1 = [CAT = N, GEN = MASK]",
       "disabled": false,
       "layout": "IPY_MODEL_1829ad32a42340d786bd9c030308897a",
       "style": "IPY_MODEL_d54059302db643c298b7382c3337ceb8",
       "value": false
      }
     },
     "dc5b05c5c27a4f1888a7800761a7435f": {
      "model_module": "@jupyter-widgets/controls",
      "model_module_version": "1.5.0",
      "model_name": "ButtonModel",
      "state": {
       "description": "unbestimmten",
       "layout": "IPY_MODEL_398293c155cb493ead41c12eff729fcc",
       "style": "IPY_MODEL_db78c905cb294e56bb1ead91f9a4f451"
      }
     },
     "dc9925a57c0d44ff86689f97836aa7b0": {
      "model_module": "@jupyter-widgets/controls",
      "model_module_version": "1.5.0",
      "model_name": "HTMLModel",
      "state": {
       "layout": "IPY_MODEL_591e1fbbe15c4690aeb850897f3abfa8",
       "style": "IPY_MODEL_676b0dfcf0f04fdfb34dad8ecb04acdf",
       "value": "<h4 style=\"font-size:14px;\">Was passiert nach semantischer Hierarchie, wenn kein Agens vorhanden ist?</h4>"
      }
     },
     "dcbd8020b53d43f1b05d07f96ac1424d": {
      "model_module": "@jupyter-widgets/controls",
      "model_module_version": "1.5.0",
      "model_name": "ButtonModel",
      "state": {
       "description": "tuple",
       "layout": "IPY_MODEL_72a19c4621b243b3bf5a266e6e1cd958",
       "style": "IPY_MODEL_a9ac759778c046409838e8b6b89e47b0"
      }
     },
     "dcc2fd6d6d66415eb6b77783639f4e30": {
      "model_module": "@jupyter-widgets/base",
      "model_module_version": "1.2.0",
      "model_name": "LayoutModel",
      "state": {
       "width": "250px"
      }
     },
     "dcd5d6c83ec340a28f2a1c910f8f5c87": {
      "model_module": "@jupyter-widgets/controls",
      "model_module_version": "1.5.0",
      "model_name": "HTMLModel",
      "state": {
       "layout": "IPY_MODEL_7d24d9cddeb34abd8b9929728711f3c4",
       "style": "IPY_MODEL_00ea9eb1b3d249249ca170614df5df6c",
       "value": "<h4 style=\"font-size:14px;\">Welche Aussagen über Adjektive stimmen?</h4>"
      }
     },
     "dd5784dac90c4b8ea82360be85ba447d": {
      "model_module": "@jupyter-widgets/controls",
      "model_module_version": "1.5.0",
      "model_name": "VBoxModel",
      "state": {
       "children": [
        "IPY_MODEL_2744ac50f84f461fb3ebb357949b75ee",
        "IPY_MODEL_e19780415e2941c3a6e0acea7c2ab229",
        "IPY_MODEL_9424f70f5618488893f25410435df9b2"
       ],
       "layout": "IPY_MODEL_19f5350a4b984eac884b6366e360e476"
      }
     },
     "dd79e14272814641b70267e30d6de009": {
      "model_module": "@jupyter-widgets/controls",
      "model_module_version": "1.5.0",
      "model_name": "CheckboxModel",
      "state": {
       "description": "Es übernimmt immer das Patiens die Subjektfunktion.",
       "disabled": false,
       "layout": "IPY_MODEL_93b1fcae232242b384cd16f7cdbcf9cc",
       "style": "IPY_MODEL_c656e99146f245d1b45aee31e6f6c920",
       "value": false
      }
     },
     "dd7aa266ad5a46d383b526c17e72dbd4": {
      "model_module": "@jupyter-widgets/base",
      "model_module_version": "1.2.0",
      "model_name": "LayoutModel",
      "state": {
       "width": "250px"
      }
     },
     "dd83fcd241f24f58beb181d565739ddd": {
      "model_module": "@jupyter-widgets/base",
      "model_module_version": "1.2.0",
      "model_name": "LayoutModel",
      "state": {}
     },
     "dda08a1ff8c54413946b2b583886d413": {
      "model_module": "@jupyter-widgets/base",
      "model_module_version": "1.2.0",
      "model_name": "LayoutModel",
      "state": {
       "width": "600px"
      }
     },
     "ddb923ce50934343b2321f949f4f9cd3": {
      "model_module": "@jupyter-widgets/base",
      "model_module_version": "1.2.0",
      "model_name": "LayoutModel",
      "state": {
       "width": "600px"
      }
     },
     "ddfd099fd94b4b91af720661eb8a3de0": {
      "model_module": "@jupyter-widgets/controls",
      "model_module_version": "1.5.0",
      "model_name": "DescriptionStyleModel",
      "state": {
       "description_width": ""
      }
     },
     "de17a523e60a4addb2bf537844e58657": {
      "model_module": "@jupyter-widgets/controls",
      "model_module_version": "1.5.0",
      "model_name": "HBoxModel",
      "state": {
       "children": [
        "IPY_MODEL_72b9f76ba02b42598d250b1478b1884d",
        "IPY_MODEL_dcbd8020b53d43f1b05d07f96ac1424d"
       ],
       "layout": "IPY_MODEL_c3735254c1c74f7c8ff38ad3c684f1ec"
      }
     },
     "de2d03a02e6a4337b78e3eec78e57d3f": {
      "model_module": "@jupyter-widgets/base",
      "model_module_version": "1.2.0",
      "model_name": "LayoutModel",
      "state": {
       "width": "600px"
      }
     },
     "de2d8dea75d0492e8bca14d7ebbfa97c": {
      "model_module": "@jupyter-widgets/controls",
      "model_module_version": "1.5.0",
      "model_name": "CheckboxModel",
      "state": {
       "description": "Keine der Alternativen",
       "disabled": false,
       "layout": "IPY_MODEL_413c985919b94b44b21e6cfcd9b6c762",
       "style": "IPY_MODEL_e054cb8f2a584f279438bbfb285b868d",
       "value": false
      }
     },
     "de33c73cec114566b62f769d7d75f4ce": {
      "model_module": "@jupyter-widgets/controls",
      "model_module_version": "1.5.0",
      "model_name": "CheckboxModel",
      "state": {
       "description": "Sie werden aus der Eingabe extrahiert (feature extraction)",
       "disabled": false,
       "layout": "IPY_MODEL_8f794d8c96944ca09c588459c1d916d1",
       "style": "IPY_MODEL_75c93b18bd6a43b6a66fe7a19317b8d2",
       "value": true
      }
     },
     "de5211e54fab4bb4853a0552393e33f7": {
      "model_module": "@jupyter-widgets/base",
      "model_module_version": "1.2.0",
      "model_name": "LayoutModel",
      "state": {
       "width": "250px"
      }
     },
     "de54fa3d281d4f32998a55b8e566af6e": {
      "model_module": "@jupyter-widgets/controls",
      "model_module_version": "1.5.0",
      "model_name": "DescriptionStyleModel",
      "state": {
       "description_width": ""
      }
     },
     "de7ec42e410647c089171e12d64db9b6": {
      "model_module": "@jupyter-widgets/base",
      "model_module_version": "1.2.0",
      "model_name": "LayoutModel",
      "state": {
       "width": "150px"
      }
     },
     "dec4f5ea4ae742618f90e3b8902e0b77": {
      "model_module": "@jupyter-widgets/controls",
      "model_module_version": "1.5.0",
      "model_name": "DescriptionStyleModel",
      "state": {
       "description_width": "initial"
      }
     },
     "ded19c9859784684b286c12f8f516757": {
      "model_module": "@jupyter-widgets/controls",
      "model_module_version": "1.5.0",
      "model_name": "CheckboxModel",
      "state": {
       "description": "Es übernimmt immer das Patiens die Subjektfunktion.",
       "disabled": false,
       "layout": "IPY_MODEL_4fd7b9660ac84e748f798fe9b7cca9d7",
       "style": "IPY_MODEL_eae8fb0c07c34d2a886a54efba43f255",
       "value": false
      }
     },
     "df3563021f88475da94a9a344daa4f8b": {
      "model_module": "@jupyter-widgets/controls",
      "model_module_version": "1.5.0",
      "model_name": "VBoxModel",
      "state": {
       "children": [
        "IPY_MODEL_897a8b9a306243c7b12c1b31a33a434b",
        "IPY_MODEL_e00a9fc9da97401ab2398df1fa1875de",
        "IPY_MODEL_ce956e727e80452e9576cf0f7f80f7ae"
       ],
       "layout": "IPY_MODEL_ba92672c4b674b72986461c0e3c34d4c"
      }
     },
     "dfa536f610824bf59da0695ff707906b": {
      "model_module": "@jupyter-widgets/controls",
      "model_module_version": "1.5.0",
      "model_name": "HBoxModel",
      "state": {
       "children": [
        "IPY_MODEL_38460e9336764df89fbeac312c301236",
        "IPY_MODEL_91e5bd0acee048bfb553baf6220bbb24"
       ],
       "layout": "IPY_MODEL_73a3531f0f9748f08d811fea65365b92"
      }
     },
     "dfae90b6e9d548c09e19468b176466cc": {
      "model_module": "@jupyter-widgets/base",
      "model_module_version": "1.2.0",
      "model_name": "LayoutModel",
      "state": {}
     },
     "dfe09b14fcf94b99b9aef608ed0cc672": {
      "model_module": "@jupyter-widgets/base",
      "model_module_version": "1.2.0",
      "model_name": "LayoutModel",
      "state": {
       "width": "250px"
      }
     },
     "dfe30733af36441ba204f6091c67a595": {
      "model_module": "@jupyter-widgets/controls",
      "model_module_version": "1.5.0",
      "model_name": "DescriptionStyleModel",
      "state": {
       "description_width": ""
      }
     },
     "e007c6792ad74b65b07ad8bdf616a27e": {
      "model_module": "@jupyter-widgets/base",
      "model_module_version": "1.2.0",
      "model_name": "LayoutModel",
      "state": {
       "width": "600px"
      }
     },
     "e00a9fc9da97401ab2398df1fa1875de": {
      "model_module": "@jupyter-widgets/controls",
      "model_module_version": "1.5.0",
      "model_name": "HTMLModel",
      "state": {
       "layout": "IPY_MODEL_1386ad6d5a8d498498c901672d70e0cf",
       "style": "IPY_MODEL_8bee3e5f048743f3a10a5026adf75596",
       "value": "<i>Wählen Sie die <ins>eine</ins> korrekte Antwort aus: </i>"
      }
     },
     "e00cd17881f44f619dc21fa5adbd3efc": {
      "model_module": "@jupyter-widgets/base",
      "model_module_version": "1.2.0",
      "model_name": "LayoutModel",
      "state": {
       "width": "600px"
      }
     },
     "e02b08af3daa4a9397fcd178750d0f2f": {
      "model_module": "@jupyter-widgets/controls",
      "model_module_version": "1.5.0",
      "model_name": "HTMLModel",
      "state": {
       "layout": "IPY_MODEL_943d723ae8cc4319b17a278d7f13a0c9",
       "style": "IPY_MODEL_5c2362eebabe492da087c4c8365439d0",
       "value": "<h4 style=\"font-size:14px;\">Im Falle, dass im Zuge einer Unifikation Informationen zum Wert eines Pfades x hinzugefügt werden, wie verändern sich die Werte aller zu x äquivalenten Pfade?</h4>"
      }
     },
     "e02bb196478d4f6ab5b230197579f8f9": {
      "model_module": "@jupyter-widgets/controls",
      "model_module_version": "1.5.0",
      "model_name": "ButtonModel",
      "state": {
       "description": "Instrument",
       "layout": "IPY_MODEL_40a377bf392b409f83d42313574716b2",
       "style": "IPY_MODEL_9f04f9d402304000827e0e6e50dd274e"
      }
     },
     "e0525a6041dc4a0a9955def3ddcbae75": {
      "model_module": "@jupyter-widgets/base",
      "model_module_version": "1.2.0",
      "model_name": "LayoutModel",
      "state": {
       "justify_content": "center"
      }
     },
     "e054cb8f2a584f279438bbfb285b868d": {
      "model_module": "@jupyter-widgets/controls",
      "model_module_version": "1.5.0",
      "model_name": "DescriptionStyleModel",
      "state": {
       "description_width": "initial"
      }
     },
     "e09d572f62354032bb571079c442aab7": {
      "model_module": "@jupyter-widgets/base",
      "model_module_version": "1.2.0",
      "model_name": "LayoutModel",
      "state": {
       "width": "600px"
      }
     },
     "e0b260a52cc642b28a37e0e5d76a2b0b": {
      "model_module": "@jupyter-widgets/controls",
      "model_module_version": "1.5.0",
      "model_name": "VBoxModel",
      "state": {
       "children": [
        "IPY_MODEL_af36cc8366584b9eabb55610bfd31cb4",
        "IPY_MODEL_c67f149799314526abf32659692454f3",
        "IPY_MODEL_9f59f73670bf4733ba3538a4919d21ef",
        "IPY_MODEL_929778a7ede4403fb857b31ced87bcb7"
       ],
       "layout": "IPY_MODEL_5eabbe46eb944b75842af86c437feb5c"
      }
     },
     "e106fc93a024461db340a1ebe23151e3": {
      "model_module": "@jupyter-widgets/controls",
      "model_module_version": "1.5.0",
      "model_name": "HTMLModel",
      "state": {
       "layout": "IPY_MODEL_513c350d4f5040c09d00c92a43129531",
       "style": "IPY_MODEL_5621cad9c338403ab95a77dc4ee45e04",
       "value": "<h4 style=\"font-size:14px;\">Wie werden Features beim POS-Tagging verwendet?</h4>"
      }
     },
     "e11152eb12c4461c81bd81c5be29e7f7": {
      "model_module": "@jupyter-widgets/controls",
      "model_module_version": "1.5.0",
      "model_name": "HBoxModel",
      "state": {
       "children": [
        "IPY_MODEL_555a7c17b72242f88281cd2887f86a11",
        "IPY_MODEL_b10c140f9d2342c181a3ab6e6900f6ae"
       ],
       "layout": "IPY_MODEL_547b2186cdd7464e86b68b826da7ce7f"
      }
     },
     "e13a77d96aac4616af66b08e3f2e85a5": {
      "model_module": "@jupyter-widgets/base",
      "model_module_version": "1.2.0",
      "model_name": "LayoutModel",
      "state": {}
     },
     "e13e3064c26d4992b6c0517934c8f9cf": {
      "model_module": "@jupyter-widgets/controls",
      "model_module_version": "1.5.0",
      "model_name": "DescriptionStyleModel",
      "state": {
       "description_width": "initial"
      }
     },
     "e174c3810a554d8a8b190696c11d3cde": {
      "model_module": "@jupyter-widgets/controls",
      "model_module_version": "1.5.0",
      "model_name": "DescriptionStyleModel",
      "state": {
       "description_width": "initial"
      }
     },
     "e1762992c65f4f7fbba493364116b760": {
      "model_module": "@jupyter-widgets/controls",
      "model_module_version": "1.5.0",
      "model_name": "HBoxModel",
      "state": {
       "children": [
        "IPY_MODEL_ef45c93bdf634ec3b3b32bbb478fbd1e"
       ],
       "layout": "IPY_MODEL_8087fc0a0bd846f8837c200e2f0394f2"
      }
     },
     "e188c79e240a462b92d01b6145dd7700": {
      "model_module": "@jupyter-widgets/controls",
      "model_module_version": "1.5.0",
      "model_name": "HBoxModel",
      "state": {
       "children": [
        "IPY_MODEL_b300344650f6459b9e2e7ea3ec6a3c27",
        "IPY_MODEL_8d52c6e57f2b4e66b028feb694cc8e19"
       ],
       "layout": "IPY_MODEL_ae1da5c2128f4e9aa9e3d71dcb682836"
      }
     },
     "e19780415e2941c3a6e0acea7c2ab229": {
      "model_module": "@jupyter-widgets/controls",
      "model_module_version": "1.5.0",
      "model_name": "CheckboxModel",
      "state": {
       "description": "Es muss immer ein Agens vorhanden sein.",
       "disabled": false,
       "layout": "IPY_MODEL_aa915519f12045a8ad04dfb630ff7a19",
       "style": "IPY_MODEL_b612a63eee47455699570614a2eda2ba",
       "value": false
      }
     },
     "e19862a969a54ca48db45c06f1ec1db5": {
      "model_module": "@jupyter-widgets/controls",
      "model_module_version": "1.5.0",
      "model_name": "DescriptionStyleModel",
      "state": {
       "description_width": ""
      }
     },
     "e1b4d3a93bab438985bba7ad55d71ec7": {
      "model_module": "@jupyter-widgets/base",
      "model_module_version": "1.2.0",
      "model_name": "LayoutModel",
      "state": {
       "width": "600px"
      }
     },
     "e1bcccd2d0004dba8c20c02e7d9b5e6a": {
      "model_module": "@jupyter-widgets/base",
      "model_module_version": "1.2.0",
      "model_name": "LayoutModel",
      "state": {
       "width": "600px"
      }
     },
     "e1bd2705b5954c5a923bdc92c97307fd": {
      "model_module": "@jupyter-widgets/controls",
      "model_module_version": "1.5.0",
      "model_name": "HTMLModel",
      "state": {
       "layout": "IPY_MODEL_e89636fe135149f884eac750535ea93d",
       "style": "IPY_MODEL_463d1e2c62c448e9848a63c048eb0edf",
       "value": "<h4 style=\"font-size:14px;\">Was ist im zweiten Satz das Subjekt?</h4>"
      }
     },
     "e1f860b8c481464fa55f97fce3cc25d2": {
      "model_module": "@jupyter-widgets/base",
      "model_module_version": "1.2.0",
      "model_name": "LayoutModel",
      "state": {}
     },
     "e275e3d821e743fd8e828ecf5b5622de": {
      "model_module": "@jupyter-widgets/controls",
      "model_module_version": "1.5.0",
      "model_name": "DescriptionStyleModel",
      "state": {
       "description_width": ""
      }
     },
     "e28648c290ca4a1bba5c4d1792ed6d1e": {
      "model_module": "@jupyter-widgets/controls",
      "model_module_version": "1.5.0",
      "model_name": "DescriptionStyleModel",
      "state": {
       "description_width": ""
      }
     },
     "e2e50b7f60e8478d9ca4ceb8c2021f44": {
      "model_module": "@jupyter-widgets/controls",
      "model_module_version": "1.5.0",
      "model_name": "HTMLModel",
      "state": {
       "layout": "IPY_MODEL_94671df215104efdb7b484fb2f5bdc2f",
       "style": "IPY_MODEL_8b34db9a8379436f987e9a17f342398b",
       "value": "<h4 style=\"font-size:14px;\">Schildern beide Sätze denselben Sachverhalt?</h4>"
      }
     },
     "e2e9a3e0de3f4b36856f9aa2728ff543": {
      "model_module": "@jupyter-widgets/controls",
      "model_module_version": "1.5.0",
      "model_name": "DescriptionStyleModel",
      "state": {
       "description_width": "initial"
      }
     },
     "e2eed686647e4f2fbde0657a2771d704": {
      "model_module": "@jupyter-widgets/controls",
      "model_module_version": "1.5.0",
      "model_name": "HTMLModel",
      "state": {
       "layout": "IPY_MODEL_cba062af976b4bb892bab23712d29b7d",
       "style": "IPY_MODEL_81e153d15d654c618c75afed77bf0a0b",
       "value": "<h4 style=\"font-size:14px;\">Was gilt immer für das Ergebnis der Unifikation solcher Merkmalstrukturen?</h4>"
      }
     },
     "e2f80cd0324f47609fbe668a345f3548": {
      "model_module": "@jupyter-widgets/base",
      "model_module_version": "1.2.0",
      "model_name": "LayoutModel",
      "state": {}
     },
     "e30179e80b1b4814bc92f298ac81bb00": {
      "model_module": "@jupyter-widgets/controls",
      "model_module_version": "1.5.0",
      "model_name": "ButtonModel",
      "state": {
       "description": "Ja",
       "layout": "IPY_MODEL_b0d93ac5c5a14e5493c58d3f81a6c934",
       "style": "IPY_MODEL_713be27ede484fb9a6f61c0db055c223"
      }
     },
     "e3a29dc99467432dadc9731107413b10": {
      "model_module": "@jupyter-widgets/base",
      "model_module_version": "1.2.0",
      "model_name": "LayoutModel",
      "state": {
       "justify_content": "center"
      }
     },
     "e3a3755a08c645dcbe588725636a8ef4": {
      "model_module": "@jupyter-widgets/controls",
      "model_module_version": "1.5.0",
      "model_name": "HTMLModel",
      "state": {
       "layout": "IPY_MODEL_155da6064dc847658f03a82c307e3536",
       "style": "IPY_MODEL_bbc7668adc134f438865cd560a6eca01",
       "value": "<i>Markieren Sie <ins>alle</ins> passenden Antworten: </i>"
      }
     },
     "e3c79959de614f0bacea49a1a1f63056": {
      "model_module": "@jupyter-widgets/base",
      "model_module_version": "1.2.0",
      "model_name": "LayoutModel",
      "state": {
       "justify_content": "center"
      }
     },
     "e45700bd158a418f99504e52473e1e7b": {
      "model_module": "@jupyter-widgets/controls",
      "model_module_version": "1.5.0",
      "model_name": "ButtonStyleModel",
      "state": {}
     },
     "e458907d142a4c66b2e6820571f8aa7a": {
      "model_module": "@jupyter-widgets/controls",
      "model_module_version": "1.5.0",
      "model_name": "DescriptionStyleModel",
      "state": {
       "description_width": ""
      }
     },
     "e470e0db1b7a40dbb3a4f969f45a09fd": {
      "model_module": "@jupyter-widgets/controls",
      "model_module_version": "1.5.0",
      "model_name": "ButtonStyleModel",
      "state": {}
     },
     "e4f2791646ea4e1aa5877c557c76cdb7": {
      "model_module": "@jupyter-widgets/controls",
      "model_module_version": "1.5.0",
      "model_name": "VBoxModel",
      "state": {
       "children": [
        "IPY_MODEL_b42d2a19c57f479d8696d383b882bc3b",
        "IPY_MODEL_679999f4d51c43628533eb96288aad11",
        "IPY_MODEL_d4eb7d253205455aac26a50fcea38459",
        "IPY_MODEL_d5a96ce585e04ba18e6015fdad8581e9"
       ],
       "layout": "IPY_MODEL_ffbfc129e69c45999d4a8137ad63c419"
      }
     },
     "e4f523f88b394e5ca58b78dc92cb06b9": {
      "model_module": "@jupyter-widgets/base",
      "model_module_version": "1.2.0",
      "model_name": "LayoutModel",
      "state": {
       "justify_content": "center"
      }
     },
     "e50e64f1165e4ee38e0f80d4f4f0ade9": {
      "model_module": "@jupyter-widgets/controls",
      "model_module_version": "1.5.0",
      "model_name": "DescriptionStyleModel",
      "state": {
       "description_width": "initial"
      }
     },
     "e510c3b2e69941518271940428538e4d": {
      "model_module": "@jupyter-widgets/controls",
      "model_module_version": "1.5.0",
      "model_name": "HTMLModel",
      "state": {
       "layout": "IPY_MODEL_0b9935f850e44eb8af185229a57f4fa6",
       "style": "IPY_MODEL_42133f9fb869497aba57bd97ee0a08b9",
       "value": "<h4 style=\"font-size:14px;\">Welche Beispiele erfüllen die obige Subsumptionsbeziehung?</h4>"
      }
     },
     "e5626d11556841eab6bbb37c5eac8ef0": {
      "model_module": "@jupyter-widgets/base",
      "model_module_version": "1.2.0",
      "model_name": "LayoutModel",
      "state": {
       "justify_content": "center"
      }
     },
     "e59af0c2661a47f88fe5fb02a90cab2f": {
      "model_module": "@jupyter-widgets/controls",
      "model_module_version": "1.5.0",
      "model_name": "HTMLModel",
      "state": {
       "layout": "IPY_MODEL_606fa16f6ec84837bbbee67c06cbf77d",
       "style": "IPY_MODEL_d5d3262d55474b6ca36d1fb843c610eb",
       "value": "<i>Wählen Sie die <ins>eine</ins> korrekte Antwort aus: </i>"
      }
     },
     "e5d02d12a7e84d8f816ccd68c39e8f0a": {
      "model_module": "@jupyter-widgets/controls",
      "model_module_version": "1.5.0",
      "model_name": "VBoxModel",
      "state": {
       "children": [
        "IPY_MODEL_b3bd4eaf2551476fbf8d8caa2ff15745",
        "IPY_MODEL_2f49b50218ec44c39db34fd9a59da67e",
        "IPY_MODEL_1f1345b475284bd0b3538485e44fb167",
        "IPY_MODEL_68b976aac93b40719662571c70119342"
       ],
       "layout": "IPY_MODEL_1a9c8c7835714013b8fdaa6e2767d7a4"
      }
     },
     "e5d96732375f4729bada6482206e060b": {
      "model_module": "@jupyter-widgets/controls",
      "model_module_version": "1.5.0",
      "model_name": "DropdownModel",
      "state": {
       "_options_labels": [
        "Genusmarkierung",
        "Kasusmarkierung",
        " "
       ],
       "index": 0,
       "layout": "IPY_MODEL_4f1760b413864959865a3c1bf28eaf04",
       "style": "IPY_MODEL_0fb9a000e216470abde8e940d4c2a02e"
      }
     },
     "e62717b6a02844468d2bca61b103f458": {
      "model_module": "@jupyter-widgets/controls",
      "model_module_version": "1.5.0",
      "model_name": "CheckboxModel",
      "state": {
       "description": "FS0 = [CAT = N, GEN = FEM], FS1 = [CAT = N, GEN = FEM]",
       "disabled": false,
       "layout": "IPY_MODEL_88418773ea4e4b23a11e1eb36a518296",
       "style": "IPY_MODEL_fef39bc22be34fcaaba1fdec9b659f1b",
       "value": false
      }
     },
     "e63dcfbc08a3423983ff6c03f3af475c": {
      "model_module": "@jupyter-widgets/controls",
      "model_module_version": "1.5.0",
      "model_name": "DescriptionStyleModel",
      "state": {
       "description_width": ""
      }
     },
     "e6586d85378c451c9eaac466018a9c56": {
      "model_module": "@jupyter-widgets/controls",
      "model_module_version": "1.5.0",
      "model_name": "DescriptionStyleModel",
      "state": {
       "description_width": "initial"
      }
     },
     "e65fc6c4ba9349cea4059c7fdaa8e2dc": {
      "model_module": "@jupyter-widgets/controls",
      "model_module_version": "1.5.0",
      "model_name": "HTMLModel",
      "state": {
       "layout": "IPY_MODEL_73191565c1eb4f438361ef703ed28fd4",
       "style": "IPY_MODEL_08252526dc7e49df99f93c5f05fda23e",
       "value": "<h4 style=\"font-size:14px;\">Für die Deklination ist hier relevant, ob das Adjektiv mit einem ____________ Artikel auftritt oder nicht.</h4>"
      }
     },
     "e6877d4a873f4688a85339544559dc2d": {
      "model_module": "@jupyter-widgets/base",
      "model_module_version": "1.2.0",
      "model_name": "LayoutModel",
      "state": {
       "width": "250px"
      }
     },
     "e69d6600bdc549b78b7d51aed0f840a0": {
      "model_module": "@jupyter-widgets/controls",
      "model_module_version": "1.5.0",
      "model_name": "CheckboxModel",
      "state": {
       "description": "Sie werden im Vorhinein deklariert (feature lexicon)",
       "disabled": false,
       "layout": "IPY_MODEL_6be157bc2fbf454ea012d776127a978a",
       "style": "IPY_MODEL_01fb31af6264490ea87a5813bde479de",
       "value": false
      }
     },
     "e6be08086e8b4c1eabe018904fe107e7": {
      "model_module": "@jupyter-widgets/controls",
      "model_module_version": "1.5.0",
      "model_name": "HTMLModel",
      "state": {
       "layout": "IPY_MODEL_c0971ea0b09a4f3a8caa202918485894",
       "style": "IPY_MODEL_34ba1739b7b141e6b83ffe57ec80f4d7",
       "value": "<i>Wählen Sie die <ins>eine</ins> korrekte Antwort aus: </i>"
      }
     },
     "e6c454fe2a4d45bbbff9fe98d0e15e49": {
      "model_module": "@jupyter-widgets/controls",
      "model_module_version": "1.5.0",
      "model_name": "DescriptionStyleModel",
      "state": {
       "description_width": "initial"
      }
     },
     "e6d395bf25964bc7beca8053a039d01d": {
      "model_module": "@jupyter-widgets/controls",
      "model_module_version": "1.5.0",
      "model_name": "VBoxModel",
      "state": {
       "children": [
        "IPY_MODEL_6c012f81c6754d9db3f68180f3dacc1b",
        "IPY_MODEL_ce5ef3838cdd4429a0f93a2d441ff83e",
        "IPY_MODEL_101dc980a88d43e88ce868bfb2d25980",
        "IPY_MODEL_4478e92f6d6f4b1e8f62d24c8d2ab39d"
       ],
       "layout": "IPY_MODEL_32cf7f523e73419fa74e2825b6371c82"
      }
     },
     "e6e1acb61d8e461eb86679d39d97537b": {
      "model_module": "@jupyter-widgets/base",
      "model_module_version": "1.2.0",
      "model_name": "LayoutModel",
      "state": {
       "width": "600px"
      }
     },
     "e6ed6957c7a740dd949d96c8a63e9890": {
      "model_module": "@jupyter-widgets/base",
      "model_module_version": "1.2.0",
      "model_name": "LayoutModel",
      "state": {
       "width": "250px"
      }
     },
     "e6f58ac86e22499a891689acdfb3ae76": {
      "model_module": "@jupyter-widgets/controls",
      "model_module_version": "1.5.0",
      "model_name": "ButtonStyleModel",
      "state": {}
     },
     "e71c37f38882487fb9b1d29daeb87728": {
      "model_module": "@jupyter-widgets/base",
      "model_module_version": "1.2.0",
      "model_name": "LayoutModel",
      "state": {
       "width": "250px"
      }
     },
     "e71cf839904e41fea38dc1f7627cd616": {
      "model_module": "@jupyter-widgets/base",
      "model_module_version": "1.2.0",
      "model_name": "LayoutModel",
      "state": {
       "justify_content": "center"
      }
     },
     "e727e193c6ff4422b61a4938164cbe55": {
      "model_module": "@jupyter-widgets/base",
      "model_module_version": "1.2.0",
      "model_name": "LayoutModel",
      "state": {
       "width": "250px"
      }
     },
     "e72cf59e977b414d8c4ba68c3ccfe57e": {
      "model_module": "@jupyter-widgets/base",
      "model_module_version": "1.2.0",
      "model_name": "LayoutModel",
      "state": {}
     },
     "e75505c1bf8f4bca888110ac5dc78f1c": {
      "model_module": "@jupyter-widgets/controls",
      "model_module_version": "1.5.0",
      "model_name": "ButtonModel",
      "state": {
       "description": "Nein",
       "layout": "IPY_MODEL_1d84bf05b383489babc590e95f2caad3",
       "style": "IPY_MODEL_d964c131188c40be9f9ea68194ab52c5"
      }
     },
     "e7869c19e84148b984d8f1bd467aa510": {
      "model_module": "@jupyter-widgets/controls",
      "model_module_version": "1.5.0",
      "model_name": "DescriptionStyleModel",
      "state": {
       "description_width": ""
      }
     },
     "e79260c2e7b64fd0a88f11aa6de8c2ce": {
      "model_module": "@jupyter-widgets/base",
      "model_module_version": "1.2.0",
      "model_name": "LayoutModel",
      "state": {}
     },
     "e7c70aabe3c4455994eb9e82670d27ae": {
      "model_module": "@jupyter-widgets/controls",
      "model_module_version": "1.5.0",
      "model_name": "CheckboxModel",
      "state": {
       "description": "Variable: -> (1)",
       "disabled": false,
       "layout": "IPY_MODEL_3938eaf29de846c4b05bc9d89692b307",
       "style": "IPY_MODEL_677d876036144fbe93508f4e7f8b8ffd",
       "value": false
      }
     },
     "e7d74594cb414d36b191f645a34005cb": {
      "model_module": "@jupyter-widgets/controls",
      "model_module_version": "1.5.0",
      "model_name": "DescriptionStyleModel",
      "state": {
       "description_width": "initial"
      }
     },
     "e7fb7d42dd82460fb099f063e077029f": {
      "model_module": "@jupyter-widgets/controls",
      "model_module_version": "1.5.0",
      "model_name": "HBoxModel",
      "state": {
       "children": [
        "IPY_MODEL_614f8233f2144fe9a60be89d275915ff"
       ],
       "layout": "IPY_MODEL_bf5a239dfa174503a02e5dba43078e81"
      }
     },
     "e83901bb82354448a50a10babed0f4ab": {
      "model_module": "@jupyter-widgets/controls",
      "model_module_version": "1.5.0",
      "model_name": "HTMLModel",
      "state": {
       "layout": "IPY_MODEL_1ba25ac1f3924ee08c44847c63f2c24b",
       "style": "IPY_MODEL_9eef27b044664fe38ed4c1546e1b2e02",
       "value": "<i>Markieren Sie <ins>alle</ins> passenden Antworten: </i>"
      }
     },
     "e8836746095d4428ab926516d4e0811b": {
      "model_module": "@jupyter-widgets/controls",
      "model_module_version": "1.5.0",
      "model_name": "HTMLModel",
      "state": {
       "layout": "IPY_MODEL_abec51ff152a43498e39554e3b8a1e80",
       "style": "IPY_MODEL_f4e49bc49ea94488aaf1043c5382f144",
       "value": "<i>Markieren Sie <ins>alle</ins> passenden Antworten: </i>"
      }
     },
     "e89636fe135149f884eac750535ea93d": {
      "model_module": "@jupyter-widgets/base",
      "model_module_version": "1.2.0",
      "model_name": "LayoutModel",
      "state": {
       "justify_content": "center"
      }
     },
     "e89c2879cdd34917ba355408e447c40f": {
      "model_module": "@jupyter-widgets/base",
      "model_module_version": "1.2.0",
      "model_name": "LayoutModel",
      "state": {
       "width": "250px"
      }
     },
     "e8bc667a3ddd40248056ddbc69a3a341": {
      "model_module": "@jupyter-widgets/controls",
      "model_module_version": "1.5.0",
      "model_name": "ButtonStyleModel",
      "state": {}
     },
     "e8be8687d610444c8d51ca441719a00b": {
      "model_module": "@jupyter-widgets/base",
      "model_module_version": "1.2.0",
      "model_name": "LayoutModel",
      "state": {
       "width": "250px"
      }
     },
     "e8cb5cfbedb54aff8120c98d32ba8935": {
      "model_module": "@jupyter-widgets/base",
      "model_module_version": "1.2.0",
      "model_name": "LayoutModel",
      "state": {
       "width": "250px"
      }
     },
     "e8ef0043479a458193d5567401a66fa4": {
      "model_module": "@jupyter-widgets/base",
      "model_module_version": "1.2.0",
      "model_name": "LayoutModel",
      "state": {
       "width": "250px"
      }
     },
     "e8f8885cc24c46148c4f49ccbc449b06": {
      "model_module": "@jupyter-widgets/controls",
      "model_module_version": "1.5.0",
      "model_name": "ButtonStyleModel",
      "state": {}
     },
     "e900d083f275456591c5aec8f96a5b6e": {
      "model_module": "@jupyter-widgets/base",
      "model_module_version": "1.2.0",
      "model_name": "LayoutModel",
      "state": {}
     },
     "e91abb9c459847a092be3c7a33cf7d48": {
      "model_module": "@jupyter-widgets/base",
      "model_module_version": "1.2.0",
      "model_name": "LayoutModel",
      "state": {}
     },
     "e92913e9ccbf477f990bc24d4cf84e43": {
      "model_module": "@jupyter-widgets/controls",
      "model_module_version": "1.5.0",
      "model_name": "DescriptionStyleModel",
      "state": {
       "description_width": "initial"
      }
     },
     "e98ad77c042542118abbf5e659f08ba0": {
      "model_module": "@jupyter-widgets/controls",
      "model_module_version": "1.5.0",
      "model_name": "ButtonModel",
      "state": {
       "description": "Time",
       "layout": "IPY_MODEL_829b0a6ca9b348258320c390bf1c83d1",
       "style": "IPY_MODEL_0483f61a95834bd88b65b31aa75140ca"
      }
     },
     "e99beb7165434242b3da5481ea511e0b": {
      "model_module": "@jupyter-widgets/controls",
      "model_module_version": "1.5.0",
      "model_name": "ButtonModel",
      "state": {
       "description": "Korrekt?",
       "layout": "IPY_MODEL_e6ed6957c7a740dd949d96c8a63e9890",
       "style": "IPY_MODEL_0915cb248b704e1eb0de5cb40d5d818e"
      }
     },
     "e9c970669d5f417abb3aed5c73833d1a": {
      "model_module": "@jupyter-widgets/controls",
      "model_module_version": "1.5.0",
      "model_name": "HTMLModel",
      "state": {
       "layout": "IPY_MODEL_b0e5ac48833a4f7baa6b945ccee09bb4",
       "style": "IPY_MODEL_aa5a0b18ced244bb81ff13697a6103b1",
       "value": "<h4 style=\"font-size:14px;\">realisieren. Das Adjektiv muss also, wie auch beim Fehlen des bestimmten Artikels, die</h4>"
      }
     },
     "e9cd85a3573c4b578acf1506ae36ab0d": {
      "model_module": "@jupyter-widgets/controls",
      "model_module_version": "1.5.0",
      "model_name": "VBoxModel",
      "state": {
       "children": [
        "IPY_MODEL_93c5a638fb1446b69823dcc398d3e181",
        "IPY_MODEL_ce102d2172dc47dc922956605594e4b8",
        "IPY_MODEL_86a88f89c92541ce9f3b9508e8ce5746"
       ],
       "layout": "IPY_MODEL_4bd9ed435b824f26860cb27a38d65d3c"
      }
     },
     "e9e0ae3261434c12bbbd9957110ff83d": {
      "model_module": "@jupyter-widgets/base",
      "model_module_version": "1.2.0",
      "model_name": "LayoutModel",
      "state": {
       "justify_content": "center"
      }
     },
     "e9e12540619447cb93e84e67151ea16c": {
      "model_module": "@jupyter-widgets/base",
      "model_module_version": "1.2.0",
      "model_name": "LayoutModel",
      "state": {}
     },
     "e9e7ca558ac04a2597371a781aff9082": {
      "model_module": "@jupyter-widgets/controls",
      "model_module_version": "1.5.0",
      "model_name": "HTMLModel",
      "state": {
       "layout": "IPY_MODEL_1fab03aca4384ef1aa5f40e8b1b419df",
       "style": "IPY_MODEL_1dfb7dac92ed4bb6b00b4fccb371aba0",
       "value": "<i>Wählen Sie die <ins>eine</ins> korrekte Antwort aus: </i>"
      }
     },
     "ea40a391895a4e9d9131d2f8d5d780e2": {
      "model_module": "@jupyter-widgets/controls",
      "model_module_version": "1.5.0",
      "model_name": "CheckboxModel",
      "state": {
       "description": "Variable: -> (1)",
       "disabled": false,
       "layout": "IPY_MODEL_b9425ac6cbc24c67bd5220af9a4f9690",
       "style": "IPY_MODEL_74b27b86c436466d82122cc65512a300",
       "value": true
      }
     },
     "ea84f54347974f95ace7bda395863c00": {
      "model_module": "@jupyter-widgets/controls",
      "model_module_version": "1.5.0",
      "model_name": "HTMLModel",
      "state": {
       "layout": "IPY_MODEL_2e053cba611b4005bc07c909e48edf49",
       "style": "IPY_MODEL_32070378337a44b0be75b24810cdc4f2",
       "value": "<h4 style=\"font-size:14px;\">realisieren. Das Adjektiv muss also, wie auch beim Fehlen des bestimmten Artikels, die</h4>"
      }
     },
     "ead329c081f345e4be5cd1e034f97671": {
      "model_module": "@jupyter-widgets/controls",
      "model_module_version": "1.5.0",
      "model_name": "ButtonModel",
      "state": {
       "description": "Patiens",
       "layout": "IPY_MODEL_55602b98228d49638df6042ff617a70f",
       "style": "IPY_MODEL_0f66cc147ac2454d82630dcd498327ad"
      }
     },
     "eadc57ed7dda40028232d65ea520b1e9": {
      "model_module": "@jupyter-widgets/controls",
      "model_module_version": "1.5.0",
      "model_name": "DescriptionStyleModel",
      "state": {
       "description_width": "initial"
      }
     },
     "eae8fb0c07c34d2a886a54efba43f255": {
      "model_module": "@jupyter-widgets/controls",
      "model_module_version": "1.5.0",
      "model_name": "DescriptionStyleModel",
      "state": {
       "description_width": "initial"
      }
     },
     "eb0b3e9e3b3947b1885dc770e6028768": {
      "model_module": "@jupyter-widgets/base",
      "model_module_version": "1.2.0",
      "model_name": "LayoutModel",
      "state": {
       "width": "150px"
      }
     },
     "eb2c693cf3ad474d9a8a314cd893d9d4": {
      "model_module": "@jupyter-widgets/controls",
      "model_module_version": "1.5.0",
      "model_name": "DescriptionStyleModel",
      "state": {
       "description_width": ""
      }
     },
     "eb34e714b3f84a51bf17d077b2964c3f": {
      "model_module": "@jupyter-widgets/controls",
      "model_module_version": "1.5.0",
      "model_name": "DescriptionStyleModel",
      "state": {
       "description_width": ""
      }
     },
     "eb46e93c648043e7a8d148ff1a276412": {
      "model_module": "@jupyter-widgets/base",
      "model_module_version": "1.2.0",
      "model_name": "LayoutModel",
      "state": {}
     },
     "eb7039242b4c4402bb4a6eb2ce86f3b8": {
      "model_module": "@jupyter-widgets/controls",
      "model_module_version": "1.5.0",
      "model_name": "DescriptionStyleModel",
      "state": {
       "description_width": ""
      }
     },
     "eb96b8a7e8784adf9170afb5555dfb0e": {
      "model_module": "@jupyter-widgets/base",
      "model_module_version": "1.2.0",
      "model_name": "LayoutModel",
      "state": {
       "justify_content": "center"
      }
     },
     "ebd2bb44b8a54586b4895812aec21bec": {
      "model_module": "@jupyter-widgets/base",
      "model_module_version": "1.2.0",
      "model_name": "LayoutModel",
      "state": {
       "width": "250px"
      }
     },
     "ebe46bf7772a418f9f958a364ccb5dd5": {
      "model_module": "@jupyter-widgets/controls",
      "model_module_version": "1.5.0",
      "model_name": "DescriptionStyleModel",
      "state": {
       "description_width": ""
      }
     },
     "ebf03b4fce584491a41ba6847a0a8483": {
      "model_module": "@jupyter-widgets/controls",
      "model_module_version": "1.5.0",
      "model_name": "ButtonStyleModel",
      "state": {}
     },
     "ec1e0828c38d461a955f1457a53faab6": {
      "model_module": "@jupyter-widgets/base",
      "model_module_version": "1.2.0",
      "model_name": "LayoutModel",
      "state": {
       "width": "150px"
      }
     },
     "ec59591fc7294c3796aa0fa8bed97fb0": {
      "model_module": "@jupyter-widgets/controls",
      "model_module_version": "1.5.0",
      "model_name": "DescriptionStyleModel",
      "state": {
       "description_width": "initial"
      }
     },
     "ec8f5379574f4391a322d859a73ba672": {
      "model_module": "@jupyter-widgets/controls",
      "model_module_version": "1.5.0",
      "model_name": "VBoxModel",
      "state": {
       "children": [
        "IPY_MODEL_0b241458e5f940d6aa94b2c8d7a97b12",
        "IPY_MODEL_9841f1f7cfcc44409be52d9800337e09",
        "IPY_MODEL_2019da7a62ee449f9fed11708e5a754f"
       ],
       "layout": "IPY_MODEL_87e0c37d01594955aa7ab0f7a62c81d5"
      }
     },
     "ecd8d2ff708f4bb58e831ef4f8c40976": {
      "model_module": "@jupyter-widgets/base",
      "model_module_version": "1.2.0",
      "model_name": "LayoutModel",
      "state": {
       "width": "150px"
      }
     },
     "eced0e6e256c44c1be241898a6717866": {
      "model_module": "@jupyter-widgets/controls",
      "model_module_version": "1.5.0",
      "model_name": "VBoxModel",
      "state": {
       "children": [
        "IPY_MODEL_4b9503807fe546f399ab6581e9c043de",
        "IPY_MODEL_3ff9b02dfe444ed2bd3180a2cbc02b0b",
        "IPY_MODEL_b8f83c5f4a964638b89c5933799dec9e",
        "IPY_MODEL_db92d212ccf14f929b296329d39fe928"
       ],
       "layout": "IPY_MODEL_8f9678c5a3ff4d2d9eef57fcd2942bb2"
      }
     },
     "ecee24d62cfb421586e8640a977bcf3a": {
      "model_module": "@jupyter-widgets/controls",
      "model_module_version": "1.5.0",
      "model_name": "DescriptionStyleModel",
      "state": {
       "description_width": ""
      }
     },
     "ed0d301d58534e79a3fad98919d09f7f": {
      "model_module": "@jupyter-widgets/controls",
      "model_module_version": "1.5.0",
      "model_name": "ButtonModel",
      "state": {
       "description": "Korrekt?",
       "layout": "IPY_MODEL_55fd7c97ac214c6285bfee60009cc4a4",
       "style": "IPY_MODEL_4ccb68c68113403192ae8b11ff8da416"
      }
     },
     "ed7301926b2044b8aee9034d3ef43777": {
      "model_module": "@jupyter-widgets/controls",
      "model_module_version": "1.5.0",
      "model_name": "DescriptionStyleModel",
      "state": {
       "description_width": "initial"
      }
     },
     "ed78cd72ddca47b2bd8cf4ecb8b57768": {
      "model_module": "@jupyter-widgets/base",
      "model_module_version": "1.2.0",
      "model_name": "LayoutModel",
      "state": {}
     },
     "ed7fc9ea73f845a298de85fe6a1a87ae": {
      "model_module": "@jupyter-widgets/base",
      "model_module_version": "1.2.0",
      "model_name": "LayoutModel",
      "state": {}
     },
     "ed9b886fcdf74be99f6205a490fdafe4": {
      "model_module": "@jupyter-widgets/controls",
      "model_module_version": "1.5.0",
      "model_name": "ButtonModel",
      "state": {
       "description": "Korrekt?",
       "layout": "IPY_MODEL_e727e193c6ff4422b61a4938164cbe55",
       "style": "IPY_MODEL_b24627e6f96042a38d2e9d9e33748f44"
      }
     },
     "edd7c356dac748f5b3ecf84a12a8a7df": {
      "model_module": "@jupyter-widgets/controls",
      "model_module_version": "1.5.0",
      "model_name": "ButtonStyleModel",
      "state": {}
     },
     "ee2322c29f034ac6a2435391ebf65859": {
      "model_module": "@jupyter-widgets/base",
      "model_module_version": "1.2.0",
      "model_name": "LayoutModel",
      "state": {}
     },
     "ee41f52d63044996b9085e3ec0eda57d": {
      "model_module": "@jupyter-widgets/controls",
      "model_module_version": "1.5.0",
      "model_name": "ButtonStyleModel",
      "state": {}
     },
     "ee4249e7f42c404484fe3da58d74740a": {
      "model_module": "@jupyter-widgets/controls",
      "model_module_version": "1.5.0",
      "model_name": "ButtonStyleModel",
      "state": {}
     },
     "ee9ec46bb9a94e8f81c4226842d2ec33": {
      "model_module": "@jupyter-widgets/controls",
      "model_module_version": "1.5.0",
      "model_name": "VBoxModel",
      "state": {
       "children": [
        "IPY_MODEL_0696cb558963470c89bb3490cffbeb74",
        "IPY_MODEL_581951c061e14bf6a6450b59e08bd290",
        "IPY_MODEL_b61fa74974594bf2a9ebb27b47f3103b",
        "IPY_MODEL_1ceb4ae3993f4074ae348e3c2821af6a"
       ],
       "layout": "IPY_MODEL_865e13c0ad714678989aa287a78de063"
      }
     },
     "eead23a3e6484b62b47103cb26c95df2": {
      "model_module": "@jupyter-widgets/controls",
      "model_module_version": "1.5.0",
      "model_name": "DescriptionStyleModel",
      "state": {
       "description_width": "initial"
      }
     },
     "eef6eff41fab4acc81be53fc013ea255": {
      "model_module": "@jupyter-widgets/controls",
      "model_module_version": "1.5.0",
      "model_name": "ButtonModel",
      "state": {
       "description": "Korrekt?",
       "layout": "IPY_MODEL_c986949740954c1783f9516cccccd4ef",
       "style": "IPY_MODEL_57a02881efe54833bcea01752c4c3874"
      }
     },
     "ef01d8170f0142138e9f72ae3842b447": {
      "model_module": "@jupyter-widgets/controls",
      "model_module_version": "1.5.0",
      "model_name": "CheckboxModel",
      "state": {
       "description": "Sie werden gelöscht.",
       "disabled": false,
       "layout": "IPY_MODEL_331c7f3b088b4e2d992bc0dd736de1da",
       "style": "IPY_MODEL_d4de44ebf0da458592eb2573a325c56a",
       "value": false
      }
     },
     "ef1405c2dfa4490cba55141f34edb821": {
      "model_module": "@jupyter-widgets/base",
      "model_module_version": "1.2.0",
      "model_name": "LayoutModel",
      "state": {}
     },
     "ef2aa1bbebfe4c719e3b50b560eb16db": {
      "model_module": "@jupyter-widgets/controls",
      "model_module_version": "1.5.0",
      "model_name": "ButtonStyleModel",
      "state": {
       "button_color": "lightgreen"
      }
     },
     "ef440752020946debdadae688c1d30a3": {
      "model_module": "@jupyter-widgets/controls",
      "model_module_version": "1.5.0",
      "model_name": "CheckboxModel",
      "state": {
       "description": "Die Form des Adjektivs richtet sich nach dem Genus des Substantivs.",
       "disabled": false,
       "layout": "IPY_MODEL_af53ec38b92543b989dd1db38dd868f9",
       "style": "IPY_MODEL_a3adb7368b064239956adaa6d31c170b",
       "value": false
      }
     },
     "ef456978ffb241198de37eb85c57c7ae": {
      "model_module": "@jupyter-widgets/controls",
      "model_module_version": "1.5.0",
      "model_name": "DescriptionStyleModel",
      "state": {
       "description_width": ""
      }
     },
     "ef45c93bdf634ec3b3b32bbb478fbd1e": {
      "model_module": "@jupyter-widgets/controls",
      "model_module_version": "1.5.0",
      "model_name": "ButtonModel",
      "state": {
       "description": "Keine der anderen Möglichkeiten",
       "layout": "IPY_MODEL_0c7eab7ef04c4fdc94bed410af96318e",
       "style": "IPY_MODEL_0b7230dd297a4788b7e3a9e55000cc2c"
      }
     },
     "ef4c3154e71840918a7368069ceb852a": {
      "model_module": "@jupyter-widgets/controls",
      "model_module_version": "1.5.0",
      "model_name": "HTMLModel",
      "state": {
       "layout": "IPY_MODEL_c64a50db13e542c0a4b1af1af83a6158",
       "style": "IPY_MODEL_87e7053aba6249178683baed2d68df79",
       "value": "<i>Wählen Sie die <ins>eine</ins> korrekte Antwort aus: </i>"
      }
     },
     "ef504a9a28504972b7ab84b952d9cad6": {
      "model_module": "@jupyter-widgets/base",
      "model_module_version": "1.2.0",
      "model_name": "LayoutModel",
      "state": {}
     },
     "ef5a8d24699e4319883f98689b05872f": {
      "model_module": "@jupyter-widgets/controls",
      "model_module_version": "1.5.0",
      "model_name": "DescriptionStyleModel",
      "state": {
       "description_width": "initial"
      }
     },
     "ef6c39243ed44ce8892b615afc959493": {
      "model_module": "@jupyter-widgets/controls",
      "model_module_version": "1.5.0",
      "model_name": "DescriptionStyleModel",
      "state": {
       "description_width": ""
      }
     },
     "ef740975c581443fae9d277dc380b1b4": {
      "model_module": "@jupyter-widgets/base",
      "model_module_version": "1.2.0",
      "model_name": "LayoutModel",
      "state": {}
     },
     "ef9b4d228be54f2b88c28e9160d5e37f": {
      "model_module": "@jupyter-widgets/controls",
      "model_module_version": "1.5.0",
      "model_name": "VBoxModel",
      "state": {
       "children": [
        "IPY_MODEL_f5f7abdaf22247aba9d24969a347a23d",
        "IPY_MODEL_3749fc4d8fee49db81e8a2a538249d5e",
        "IPY_MODEL_0783729ab5aa4eae94408692e3fb7d08",
        "IPY_MODEL_eef6eff41fab4acc81be53fc013ea255"
       ],
       "layout": "IPY_MODEL_b3fd415bdcfa464f947c673b5be898f9"
      }
     },
     "efbc4e38fbca4c8c915326d020824549": {
      "model_module": "@jupyter-widgets/base",
      "model_module_version": "1.2.0",
      "model_name": "LayoutModel",
      "state": {
       "width": "600px"
      }
     },
     "efe69478c66b4241a3daf791a4ac2a5f": {
      "model_module": "@jupyter-widgets/controls",
      "model_module_version": "1.5.0",
      "model_name": "HTMLModel",
      "state": {
       "layout": "IPY_MODEL_c95678f847c7466fb592b19607355749",
       "style": "IPY_MODEL_3d8f7422eb4b4256990c3df5e825d333",
       "value": "<h4 style=\"font-size:14px;\">Was passiert nach semantischer Hierarchie, wenn kein Agens vorhanden ist?</h4>"
      }
     },
     "efe6fc7e62754780814f4c87ee76f606": {
      "model_module": "@jupyter-widgets/controls",
      "model_module_version": "1.5.0",
      "model_name": "DescriptionStyleModel",
      "state": {
       "description_width": "initial"
      }
     },
     "effda473f0344f06a8f65db50ac61e31": {
      "model_module": "@jupyter-widgets/base",
      "model_module_version": "1.2.0",
      "model_name": "LayoutModel",
      "state": {}
     },
     "f004a7eca4694fdeae4dd7a8a711c8d9": {
      "model_module": "@jupyter-widgets/controls",
      "model_module_version": "1.5.0",
      "model_name": "CheckboxModel",
      "state": {
       "description": "Das Adjektiv tritt nur in zwei verschiedenen Formen auf.",
       "disabled": false,
       "layout": "IPY_MODEL_6a75cae12aea40ed80435ff304667f52",
       "style": "IPY_MODEL_06a95e4edafb4d79abe010529da0eb16",
       "value": true
      }
     },
     "f00e499c3f4b4b8fa674bef77d766e84": {
      "model_module": "@jupyter-widgets/base",
      "model_module_version": "1.2.0",
      "model_name": "LayoutModel",
      "state": {}
     },
     "f00e590bb6c54784a70dea6ab7873f0c": {
      "model_module": "@jupyter-widgets/controls",
      "model_module_version": "1.5.0",
      "model_name": "DescriptionStyleModel",
      "state": {
       "description_width": ""
      }
     },
     "f015395249954517ad45b3f0b18aa2f9": {
      "model_module": "@jupyter-widgets/controls",
      "model_module_version": "1.5.0",
      "model_name": "VBoxModel",
      "state": {
       "children": [
        "IPY_MODEL_e510c3b2e69941518271940428538e4d",
        "IPY_MODEL_e83901bb82354448a50a10babed0f4ab",
        "IPY_MODEL_423194f562c64ffea1ac799c0fbcf4b3",
        "IPY_MODEL_da067d5f500e4961b40d6fe599d667f9"
       ],
       "layout": "IPY_MODEL_6bda9137a55d4471a322135bc9cd6c87"
      }
     },
     "f0220fcb9a72414592b926c0c2561fa6": {
      "model_module": "@jupyter-widgets/controls",
      "model_module_version": "1.5.0",
      "model_name": "DescriptionStyleModel",
      "state": {
       "description_width": ""
      }
     },
     "f07194177e9e45a3a915aa22bac12d49": {
      "model_module": "@jupyter-widgets/base",
      "model_module_version": "1.2.0",
      "model_name": "LayoutModel",
      "state": {
       "align_content": "stretch",
       "align_items": "stretch",
       "display": "inline-flex",
       "flex": "flex-grow",
       "flex_flow": "row wrap",
       "justify_content": "flex-start"
      }
     },
     "f086a08aae564b58a2352897487a36c5": {
      "model_module": "@jupyter-widgets/base",
      "model_module_version": "1.2.0",
      "model_name": "LayoutModel",
      "state": {
       "width": "600px"
      }
     },
     "f0c03abc2de348fd9137f3a3c99dd8a2": {
      "model_module": "@jupyter-widgets/controls",
      "model_module_version": "1.5.0",
      "model_name": "ButtonModel",
      "state": {
       "description": "dictionary",
       "layout": "IPY_MODEL_92b8b2cba85142109fc34fe84236bfc3",
       "style": "IPY_MODEL_5e547c1a14e94bfea811381d983dea95"
      }
     },
     "f0ce1a30f24c4152b240a1f4b358a0ca": {
      "model_module": "@jupyter-widgets/base",
      "model_module_version": "1.2.0",
      "model_name": "LayoutModel",
      "state": {
       "width": "600px"
      }
     },
     "f1129be61d6d424093c86f24a66b787c": {
      "model_module": "@jupyter-widgets/controls",
      "model_module_version": "1.5.0",
      "model_name": "DropdownModel",
      "state": {
       "_options_labels": [
        "Genusmerkmale",
        "Kasusmerkmale",
        " "
       ],
       "index": 2,
       "layout": "IPY_MODEL_d54e64061315483eb07c77b1de9f7ac5",
       "style": "IPY_MODEL_058421eb02154d5fab6b062a58ba7fe0"
      }
     },
     "f11883e8da3d4773a284b994167c2a76": {
      "model_module": "@jupyter-widgets/base",
      "model_module_version": "1.2.0",
      "model_name": "LayoutModel",
      "state": {
       "width": "250px"
      }
     },
     "f179457852064a64aaffdc59caa7e2ff": {
      "model_module": "@jupyter-widgets/controls",
      "model_module_version": "1.5.0",
      "model_name": "DescriptionStyleModel",
      "state": {
       "description_width": "initial"
      }
     },
     "f1841fada2854dc79e52f976f0cebedb": {
      "model_module": "@jupyter-widgets/controls",
      "model_module_version": "1.5.0",
      "model_name": "DescriptionStyleModel",
      "state": {
       "description_width": ""
      }
     },
     "f19cbbb884214dd7b1a09d4b4126392b": {
      "model_module": "@jupyter-widgets/controls",
      "model_module_version": "1.5.0",
      "model_name": "DescriptionStyleModel",
      "state": {
       "description_width": "initial"
      }
     },
     "f1b2e0f2a4cb41238959941daec2fd10": {
      "model_module": "@jupyter-widgets/controls",
      "model_module_version": "1.5.0",
      "model_name": "CheckboxModel",
      "state": {
       "description": "Perspektivierung",
       "disabled": false,
       "layout": "IPY_MODEL_521ce03f64344220bd9a13d4a78f0c1b",
       "style": "IPY_MODEL_70b59a4aade74bae9e85912e23bb00a9",
       "value": true
      }
     },
     "f1d06b3499af4ab9b2c4a07a41d54e2c": {
      "model_module": "@jupyter-widgets/controls",
      "model_module_version": "1.5.0",
      "model_name": "DescriptionStyleModel",
      "state": {
       "description_width": ""
      }
     },
     "f217a5ce3548433387ff136427f886d5": {
      "model_module": "@jupyter-widgets/controls",
      "model_module_version": "1.5.0",
      "model_name": "DescriptionStyleModel",
      "state": {
       "description_width": "initial"
      }
     },
     "f2269371579b46658baa80c97ca7434e": {
      "model_module": "@jupyter-widgets/base",
      "model_module_version": "1.2.0",
      "model_name": "LayoutModel",
      "state": {}
     },
     "f244e6ab5beb4586a7860a76a097a45c": {
      "model_module": "@jupyter-widgets/controls",
      "model_module_version": "1.5.0",
      "model_name": "DescriptionStyleModel",
      "state": {
       "description_width": ""
      }
     },
     "f24ccc0b2e484a289b06743cb56f1149": {
      "model_module": "@jupyter-widgets/base",
      "model_module_version": "1.2.0",
      "model_name": "LayoutModel",
      "state": {}
     },
     "f2b9fa3e20554a16a3522f41f81f1751": {
      "model_module": "@jupyter-widgets/base",
      "model_module_version": "1.2.0",
      "model_name": "LayoutModel",
      "state": {
       "justify_content": "center"
      }
     },
     "f337fa5d252b46789004743af13abab9": {
      "model_module": "@jupyter-widgets/controls",
      "model_module_version": "1.5.0",
      "model_name": "DescriptionStyleModel",
      "state": {
       "description_width": ""
      }
     },
     "f340b51734ff4f5a9af4da24aef7a779": {
      "model_module": "@jupyter-widgets/controls",
      "model_module_version": "1.5.0",
      "model_name": "HTMLModel",
      "state": {
       "layout": "IPY_MODEL_e91abb9c459847a092be3c7a33cf7d48",
       "style": "IPY_MODEL_aea376f99bff4edea4206ec5fb9d1589",
       "value": "<h4 style=\"font-size:14px;\">Welche kommunikativ-funktionalen Unterschiede bestehen?</h4>"
      }
     },
     "f38ac6d9a15648798518ae18beabe9e0": {
      "model_module": "@jupyter-widgets/controls",
      "model_module_version": "1.5.0",
      "model_name": "DescriptionStyleModel",
      "state": {
       "description_width": ""
      }
     },
     "f3b42eaf292d4dfab26ce0225fd0e890": {
      "model_module": "@jupyter-widgets/controls",
      "model_module_version": "1.5.0",
      "model_name": "HTMLModel",
      "state": {
       "layout": "IPY_MODEL_18d90b86903d4bcc93f06d848cfa051e",
       "style": "IPY_MODEL_3728749387484192b2166d6c76dcae25",
       "value": "<i>Wählen Sie die <ins>eine</ins> korrekte Antwort aus: </i>"
      }
     },
     "f3bc266f47684c1bafaed13a537e0744": {
      "model_module": "@jupyter-widgets/base",
      "model_module_version": "1.2.0",
      "model_name": "LayoutModel",
      "state": {
       "width": "250px"
      }
     },
     "f3f49362e8944cfbaf269dcd0bcd830c": {
      "model_module": "@jupyter-widgets/base",
      "model_module_version": "1.2.0",
      "model_name": "LayoutModel",
      "state": {
       "justify_content": "center"
      }
     },
     "f40b02f0d90f477ebd6be33419d0f476": {
      "model_module": "@jupyter-widgets/controls",
      "model_module_version": "1.5.0",
      "model_name": "CheckboxModel",
      "state": {
       "description": "Die Endungen von Adjektiv und Artikel stimmen überein.",
       "disabled": false,
       "layout": "IPY_MODEL_ba41ee9bee41406681a961d11fbcaac6",
       "style": "IPY_MODEL_05d368f5c2944b6d9a0ddc4ebe97b451",
       "value": false
      }
     },
     "f4287ac1441440dc97418933fe89085a": {
      "model_module": "@jupyter-widgets/controls",
      "model_module_version": "1.5.0",
      "model_name": "DescriptionStyleModel",
      "state": {
       "description_width": "initial"
      }
     },
     "f4412433a807428c82381e062dc2d2aa": {
      "model_module": "@jupyter-widgets/base",
      "model_module_version": "1.2.0",
      "model_name": "LayoutModel",
      "state": {
       "justify_content": "center"
      }
     },
     "f46921af44c9473084e29ad7420e0119": {
      "model_module": "@jupyter-widgets/base",
      "model_module_version": "1.2.0",
      "model_name": "LayoutModel",
      "state": {
       "width": "250px"
      }
     },
     "f4d909e1372d45feb7be2992aebb0d4f": {
      "model_module": "@jupyter-widgets/base",
      "model_module_version": "1.2.0",
      "model_name": "LayoutModel",
      "state": {
       "width": "600px"
      }
     },
     "f4dc2e601de746d6849887007e4dec91": {
      "model_module": "@jupyter-widgets/controls",
      "model_module_version": "1.5.0",
      "model_name": "HTMLModel",
      "state": {
       "layout": "IPY_MODEL_e3c79959de614f0bacea49a1a1f63056",
       "style": "IPY_MODEL_8735e728ace146e5a92e17d6e236ec71",
       "value": "<i>Markieren Sie <ins>alle</ins> passenden Antworten: </i>"
      }
     },
     "f4e49bc49ea94488aaf1043c5382f144": {
      "model_module": "@jupyter-widgets/controls",
      "model_module_version": "1.5.0",
      "model_name": "DescriptionStyleModel",
      "state": {
       "description_width": ""
      }
     },
     "f4fb491a07e6457c9fc38e18ced20c90": {
      "model_module": "@jupyter-widgets/controls",
      "model_module_version": "1.5.0",
      "model_name": "DescriptionStyleModel",
      "state": {
       "description_width": ""
      }
     },
     "f5042a94bf984802bf4f980c971b6105": {
      "model_module": "@jupyter-widgets/base",
      "model_module_version": "1.2.0",
      "model_name": "LayoutModel",
      "state": {
       "align_content": "stretch",
       "align_items": "stretch",
       "display": "inline-flex",
       "flex": "flex-grow",
       "flex_flow": "row wrap",
       "justify_content": "flex-start"
      }
     },
     "f507e1d2a49a435fa50cecccbea618a3": {
      "model_module": "@jupyter-widgets/controls",
      "model_module_version": "1.5.0",
      "model_name": "DescriptionStyleModel",
      "state": {
       "description_width": "initial"
      }
     },
     "f52a88ea6670438b8299f384e75ad6dd": {
      "model_module": "@jupyter-widgets/base",
      "model_module_version": "1.2.0",
      "model_name": "LayoutModel",
      "state": {
       "width": "250px"
      }
     },
     "f5576bbfd9ae4acda4f12c7d4830ae1d": {
      "model_module": "@jupyter-widgets/controls",
      "model_module_version": "1.5.0",
      "model_name": "DescriptionStyleModel",
      "state": {
       "description_width": "initial"
      }
     },
     "f562017113854580bb615f651295c19a": {
      "model_module": "@jupyter-widgets/base",
      "model_module_version": "1.2.0",
      "model_name": "LayoutModel",
      "state": {
       "width": "150px"
      }
     },
     "f56610a3cbf04f729f181240b8b7787e": {
      "model_module": "@jupyter-widgets/base",
      "model_module_version": "1.2.0",
      "model_name": "LayoutModel",
      "state": {
       "width": "250px"
      }
     },
     "f56bff7bbaab465d8dd63cd396adabdf": {
      "model_module": "@jupyter-widgets/controls",
      "model_module_version": "1.5.0",
      "model_name": "CheckboxModel",
      "state": {
       "description": "Subjekt-Demotion zu Adverbial",
       "disabled": false,
       "layout": "IPY_MODEL_72ffd1f4da4d48f69240c6d38b9d174a",
       "style": "IPY_MODEL_fd84b1e1ae5945d7bd92272c7e78cea9",
       "value": false
      }
     },
     "f5aa5d6c179a4c09971743c72fad3f14": {
      "model_module": "@jupyter-widgets/controls",
      "model_module_version": "1.5.0",
      "model_name": "HTMLModel",
      "state": {
       "layout": "IPY_MODEL_7e4c93e5db1e433199c6ab856c2e7116",
       "style": "IPY_MODEL_9c86b0e163d44ebd87be0b9b4eda30e1",
       "value": "<h4 style=\"font-size:14px;\">Welche syntaktischen Unterschiede bestehen?</h4>"
      }
     },
     "f5bd6b64e0fc46b28467ad4181a428cc": {
      "model_module": "@jupyter-widgets/base",
      "model_module_version": "1.2.0",
      "model_name": "LayoutModel",
      "state": {
       "width": "600px"
      }
     },
     "f5e3be729eb948b7b56897b216f5fd2f": {
      "model_module": "@jupyter-widgets/controls",
      "model_module_version": "1.5.0",
      "model_name": "VBoxModel",
      "state": {
       "children": [
        "IPY_MODEL_44a34dc5707d41a79c486cb13311b9c4",
        "IPY_MODEL_18564e8661ba4df080658ae9b3100a9d",
        "IPY_MODEL_07d6b96173a248838a43cafc773cf7ce",
        "IPY_MODEL_2bd1c04db3c340a0becc99115a1b3541",
        "IPY_MODEL_c782edad5f204fb4933d07f548abfd1e",
        "IPY_MODEL_d5868d08a91a4b84b6b554801ba7dbdc"
       ],
       "layout": "IPY_MODEL_a2efa6154ee34339afc62d5d08f542c9"
      }
     },
     "f5f7abdaf22247aba9d24969a347a23d": {
      "model_module": "@jupyter-widgets/controls",
      "model_module_version": "1.5.0",
      "model_name": "HTMLModel",
      "state": {
       "layout": "IPY_MODEL_6a7d666b0f1f41c0b707930715024a5d",
       "style": "IPY_MODEL_8a4aad3d92bc46708c2cb48078888562",
       "value": "<h4 style=\"font-size:14px;\">Welche Aussagen gelten für Nominalphrasen mit bestimmtem Artikel?</h4>"
      }
     },
     "f602cbecff824beaa10e6ffc12c7dd62": {
      "model_module": "@jupyter-widgets/base",
      "model_module_version": "1.2.0",
      "model_name": "LayoutModel",
      "state": {}
     },
     "f61dff2137c945679df41a398385b269": {
      "model_module": "@jupyter-widgets/base",
      "model_module_version": "1.2.0",
      "model_name": "LayoutModel",
      "state": {
       "width": "150px"
      }
     },
     "f62f6694d08945bb882e7e8ef7bd456a": {
      "model_module": "@jupyter-widgets/base",
      "model_module_version": "1.2.0",
      "model_name": "LayoutModel",
      "state": {}
     },
     "f63c8ed3e6fc43b0a33cce7fc1dcc3c6": {
      "model_module": "@jupyter-widgets/controls",
      "model_module_version": "1.5.0",
      "model_name": "VBoxModel",
      "state": {
       "children": [
        "IPY_MODEL_704cfdfb5ab345ac86638a0afd967688",
        "IPY_MODEL_a05e71ede3aa4ff9816fd848bd762bb8",
        "IPY_MODEL_e9cd85a3573c4b578acf1506ae36ab0d",
        "IPY_MODEL_ed0d301d58534e79a3fad98919d09f7f"
       ],
       "layout": "IPY_MODEL_e72cf59e977b414d8c4ba68c3ccfe57e"
      }
     },
     "f644455880e34854815bcd29ec128940": {
      "model_module": "@jupyter-widgets/base",
      "model_module_version": "1.2.0",
      "model_name": "LayoutModel",
      "state": {}
     },
     "f649f4648c4440939315e9697c73fc27": {
      "model_module": "@jupyter-widgets/base",
      "model_module_version": "1.2.0",
      "model_name": "LayoutModel",
      "state": {
       "width": "150px"
      }
     },
     "f65cc1c404274dcd8a8e86de9a9c0a68": {
      "model_module": "@jupyter-widgets/controls",
      "model_module_version": "1.5.0",
      "model_name": "VBoxModel",
      "state": {
       "children": [
        "IPY_MODEL_98ca13f0c4454f7f93084c28c9139d93",
        "IPY_MODEL_2037081e0e1941a184dfce996a647fc2",
        "IPY_MODEL_9fd3116f50e546f8bdc04ee46f884d36"
       ],
       "layout": "IPY_MODEL_707edcb51f894ab59197e1abb118b383"
      }
     },
     "f66733624cd44e4d882c70ac228d7f71": {
      "model_module": "@jupyter-widgets/controls",
      "model_module_version": "1.5.0",
      "model_name": "HTMLModel",
      "state": {
       "layout": "IPY_MODEL_a58a5c90c6d94550a4a266e4385bbba9",
       "style": "IPY_MODEL_f337fa5d252b46789004743af13abab9",
       "value": "<h4 style=\"font-size:14px;\">Was gilt immer für das Ergebnis der Unifikation solcher Merkmalstrukturen?</h4>"
      }
     },
     "f67709e322354d2aa7694374f26dca5a": {
      "model_module": "@jupyter-widgets/controls",
      "model_module_version": "1.5.0",
      "model_name": "VBoxModel",
      "state": {
       "children": [
        "IPY_MODEL_51f3ef909015444eb6622702e683e666",
        "IPY_MODEL_a59de5c8e2094700913bdf02d1bfb796",
        "IPY_MODEL_18985dcb6a17479abdc8d09119d3eaee",
        "IPY_MODEL_86d738f9544f49a39ee717286bbaee17"
       ],
       "layout": "IPY_MODEL_320a962a1bb4471b8d92c7b47c4053a6"
      }
     },
     "f678add255e44c888a243948b30620ed": {
      "model_module": "@jupyter-widgets/controls",
      "model_module_version": "1.5.0",
      "model_name": "DescriptionStyleModel",
      "state": {
       "description_width": ""
      }
     },
     "f745dc1dc4d34ca69ceae41a5427bb3e": {
      "model_module": "@jupyter-widgets/controls",
      "model_module_version": "1.5.0",
      "model_name": "HTMLModel",
      "state": {
       "layout": "IPY_MODEL_bd0e58f2eccd4de98b5790a57a9c1c70",
       "style": "IPY_MODEL_5bdd91e3f6ba49e58289a99b4d325d99",
       "value": "<i>Markieren Sie <ins>alle</ins> passenden Antworten: </i>"
      }
     },
     "f74df8d73e294028a8b095fc775c57b8": {
      "model_module": "@jupyter-widgets/base",
      "model_module_version": "1.2.0",
      "model_name": "LayoutModel",
      "state": {
       "width": "250px"
      }
     },
     "f78f59ac8fb643e78b8957dd333a342d": {
      "model_module": "@jupyter-widgets/controls",
      "model_module_version": "1.5.0",
      "model_name": "DescriptionStyleModel",
      "state": {
       "description_width": "initial"
      }
     },
     "f79038df5e0e4782bacc49fa48daec4b": {
      "model_module": "@jupyter-widgets/controls",
      "model_module_version": "1.5.0",
      "model_name": "DescriptionStyleModel",
      "state": {
       "description_width": "initial"
      }
     },
     "f7aba7001a8f4bfdaa2505c8ac358c3c": {
      "model_module": "@jupyter-widgets/controls",
      "model_module_version": "1.5.0",
      "model_name": "CheckboxModel",
      "state": {
       "description": "FS0 = [CAT = N, GEN = MASK], FS1 = [CAT = N]",
       "disabled": false,
       "layout": "IPY_MODEL_65e68ea1d8ff48b7ad9bd9d60dde0dc4",
       "style": "IPY_MODEL_7b973c8a1af242ce89864624ef49440e",
       "value": false
      }
     },
     "f7b32aa4f6b04153a8d8292cbba65e5e": {
      "model_module": "@jupyter-widgets/controls",
      "model_module_version": "1.5.0",
      "model_name": "DescriptionStyleModel",
      "state": {
       "description_width": "initial"
      }
     },
     "f7e0e4ed8c964171b535c84be576bd1f": {
      "model_module": "@jupyter-widgets/base",
      "model_module_version": "1.2.0",
      "model_name": "LayoutModel",
      "state": {
       "width": "150px"
      }
     },
     "f7e8d43a65a84a5da86997201fbeb44c": {
      "model_module": "@jupyter-widgets/base",
      "model_module_version": "1.2.0",
      "model_name": "LayoutModel",
      "state": {
       "width": "600px"
      }
     },
     "f8163ca2b4b544c18f4600aa69057a15": {
      "model_module": "@jupyter-widgets/base",
      "model_module_version": "1.2.0",
      "model_name": "LayoutModel",
      "state": {
       "width": "600px"
      }
     },
     "f8320f49753047fba8e1471734ea955d": {
      "model_module": "@jupyter-widgets/controls",
      "model_module_version": "1.5.0",
      "model_name": "DescriptionStyleModel",
      "state": {
       "description_width": "initial"
      }
     },
     "f8b048dce01f49f08f40453ef5460637": {
      "model_module": "@jupyter-widgets/controls",
      "model_module_version": "1.5.0",
      "model_name": "HTMLModel",
      "state": {
       "layout": "IPY_MODEL_945043f97cc648ceb33b9fa708fe6664",
       "style": "IPY_MODEL_f9eeb4af18e649d7a82e288ac4664e0a",
       "value": "<h4 style=\"font-size:14px;\">Wie wird die Deklination der Nominalphrase <i>das alte Bier</i> auch bezeichnet?</h4>"
      }
     },
     "f8c4f4c912024e79a80e2a66153cb1b4": {
      "model_module": "@jupyter-widgets/base",
      "model_module_version": "1.2.0",
      "model_name": "LayoutModel",
      "state": {
       "width": "600px"
      }
     },
     "f8f55738f4904182a8e7c80a372c4ae2": {
      "model_module": "@jupyter-widgets/base",
      "model_module_version": "1.2.0",
      "model_name": "LayoutModel",
      "state": {
       "width": "250px"
      }
     },
     "f8fb3ef356a149a589ae770734770cdc": {
      "model_module": "@jupyter-widgets/controls",
      "model_module_version": "1.5.0",
      "model_name": "ButtonModel",
      "state": {
       "description": "Recipient",
       "layout": "IPY_MODEL_f56610a3cbf04f729f181240b8b7787e",
       "style": "IPY_MODEL_c4fe0237b8b74c008d59f9f639cca5b2"
      }
     },
     "f90a4b2f27864d8682b1ce97257de07c": {
      "model_module": "@jupyter-widgets/base",
      "model_module_version": "1.2.0",
      "model_name": "LayoutModel",
      "state": {}
     },
     "f91be40a44a341d0acdb90bae5f764a7": {
      "model_module": "@jupyter-widgets/controls",
      "model_module_version": "1.5.0",
      "model_name": "ButtonModel",
      "state": {
       "description": "list",
       "layout": "IPY_MODEL_5b4282450fb543f7903f58ae5c085d40",
       "style": "IPY_MODEL_74a84be2fbca4d1ba667c45986b578a2"
      }
     },
     "f936b33abad94bd5ae30035ca3cf7a88": {
      "model_module": "@jupyter-widgets/controls",
      "model_module_version": "1.5.0",
      "model_name": "ButtonStyleModel",
      "state": {}
     },
     "f95110530d0242f9afbb93caddb18074": {
      "model_module": "@jupyter-widgets/controls",
      "model_module_version": "1.5.0",
      "model_name": "ButtonStyleModel",
      "state": {}
     },
     "f9567a0f8ed24ff7827a5e9c76fdd5fb": {
      "model_module": "@jupyter-widgets/base",
      "model_module_version": "1.2.0",
      "model_name": "LayoutModel",
      "state": {
       "width": "250px"
      }
     },
     "f95c7f164d544ff79f09b125f7806620": {
      "model_module": "@jupyter-widgets/controls",
      "model_module_version": "1.5.0",
      "model_name": "ButtonStyleModel",
      "state": {}
     },
     "f95ffebc107e40a781cce21c77c40826": {
      "model_module": "@jupyter-widgets/controls",
      "model_module_version": "1.5.0",
      "model_name": "DescriptionStyleModel",
      "state": {
       "description_width": "initial"
      }
     },
     "f9608b3499714a43b56bce7698852fc9": {
      "model_module": "@jupyter-widgets/controls",
      "model_module_version": "1.5.0",
      "model_name": "ButtonModel",
      "state": {
       "description": "list",
       "layout": "IPY_MODEL_70b4375a34124acb8f0ecbbce87383f4",
       "style": "IPY_MODEL_767535ad5f704fbb8c198ba041d7a75e"
      }
     },
     "f971ff32939644d19ae78ac37320c4c6": {
      "model_module": "@jupyter-widgets/base",
      "model_module_version": "1.2.0",
      "model_name": "LayoutModel",
      "state": {}
     },
     "f978844e05af4c92904b5e922ede2509": {
      "model_module": "@jupyter-widgets/controls",
      "model_module_version": "1.5.0",
      "model_name": "ButtonModel",
      "state": {
       "description": "Korrekt?",
       "layout": "IPY_MODEL_67928c8d73b94924aa3303b9cfdca233",
       "style": "IPY_MODEL_3301078c71f0401ba54e956b0e6a1344"
      }
     },
     "f9c97b9747d94c9d9d784e95f48f3978": {
      "model_module": "@jupyter-widgets/base",
      "model_module_version": "1.2.0",
      "model_name": "LayoutModel",
      "state": {}
     },
     "f9d3a372849c4ce584e02619ed71491f": {
      "model_module": "@jupyter-widgets/controls",
      "model_module_version": "1.5.0",
      "model_name": "ButtonModel",
      "state": {
       "description": "Zeitangabe",
       "layout": "IPY_MODEL_02c77443cedf4f6b82462dfa1cea3e60",
       "style": "IPY_MODEL_ee4249e7f42c404484fe3da58d74740a"
      }
     },
     "f9ec3d4a80834a3097924ae3c7addfcb": {
      "model_module": "@jupyter-widgets/controls",
      "model_module_version": "1.5.0",
      "model_name": "DescriptionStyleModel",
      "state": {
       "description_width": ""
      }
     },
     "f9eeb4af18e649d7a82e288ac4664e0a": {
      "model_module": "@jupyter-widgets/controls",
      "model_module_version": "1.5.0",
      "model_name": "DescriptionStyleModel",
      "state": {
       "description_width": ""
      }
     },
     "fa510aafc29347f29f41c863aa9e4773": {
      "model_module": "@jupyter-widgets/controls",
      "model_module_version": "1.5.0",
      "model_name": "CheckboxModel",
      "state": {
       "description": "FS0 = [CAT = N, GEN = FEM], FS1 = [CAT = DET, GEN = FEM]",
       "disabled": false,
       "layout": "IPY_MODEL_2c846aa6d1654ad7938726b846199ce0",
       "style": "IPY_MODEL_c4c8ac47f26e41b7b0842b56d0d9ea46",
       "value": false
      }
     },
     "fa91ba42c35542868f92871aac4da5d0": {
      "model_module": "@jupyter-widgets/controls",
      "model_module_version": "1.5.0",
      "model_name": "DescriptionStyleModel",
      "state": {
       "description_width": ""
      }
     },
     "fada315b15304d1ca601032657497e6f": {
      "model_module": "@jupyter-widgets/controls",
      "model_module_version": "1.5.0",
      "model_name": "VBoxModel",
      "state": {
       "children": [
        "IPY_MODEL_cb68120201974362b87118927fc776c2",
        "IPY_MODEL_9606a3b2e9804318b10bd9153e125eeb",
        "IPY_MODEL_884f5f016df7409b975d00b07bc0fc45",
        "IPY_MODEL_93d944e3386c4d448794084c13aa5923"
       ],
       "layout": "IPY_MODEL_eb46e93c648043e7a8d148ff1a276412"
      }
     },
     "fadbc8892bfb442a8f5f2b550594616a": {
      "model_module": "@jupyter-widgets/base",
      "model_module_version": "1.2.0",
      "model_name": "LayoutModel",
      "state": {
       "justify_content": "center"
      }
     },
     "faf9c71d0a1e4971ad50e77c9ed40a30": {
      "model_module": "@jupyter-widgets/base",
      "model_module_version": "1.2.0",
      "model_name": "LayoutModel",
      "state": {
       "width": "600px"
      }
     },
     "fb22236a33e94667afe51af7a76d673f": {
      "model_module": "@jupyter-widgets/controls",
      "model_module_version": "1.5.0",
      "model_name": "DropdownModel",
      "state": {
       "_options_labels": [
        "1",
        "10",
        "2",
        "4",
        "6",
        "8",
        "Keine der Alternativen"
       ],
       "description": "Antwort:",
       "index": 4,
       "layout": "IPY_MODEL_99a239e4d3824c1d9e3f38d44578dba3",
       "style": "IPY_MODEL_8bcecee543414dbbb6381f4edde213a3"
      }
     },
     "fb8bbf98a41f4031ac9caf9b3971abe3": {
      "model_module": "@jupyter-widgets/controls",
      "model_module_version": "1.5.0",
      "model_name": "ButtonStyleModel",
      "state": {}
     },
     "fb9996253fff4d1ea7323b9a1464ab32": {
      "model_module": "@jupyter-widgets/base",
      "model_module_version": "1.2.0",
      "model_name": "LayoutModel",
      "state": {
       "width": "600px"
      }
     },
     "fbb17f923ec1441a861e5f4419a836aa": {
      "model_module": "@jupyter-widgets/controls",
      "model_module_version": "1.5.0",
      "model_name": "ButtonStyleModel",
      "state": {
       "button_color": "lightgreen"
      }
     },
     "fbcbb34512564eb98fe035a6789d8bda": {
      "model_module": "@jupyter-widgets/base",
      "model_module_version": "1.2.0",
      "model_name": "LayoutModel",
      "state": {
       "justify_content": "center"
      }
     },
     "fbeb475f50a349c5ba782b6d3bc7c158": {
      "model_module": "@jupyter-widgets/controls",
      "model_module_version": "1.5.0",
      "model_name": "DescriptionStyleModel",
      "state": {
       "description_width": ""
      }
     },
     "fc0232bff9a440bc8c6624039d1c6ad9": {
      "model_module": "@jupyter-widgets/controls",
      "model_module_version": "1.5.0",
      "model_name": "ButtonModel",
      "state": {
       "description": "Korrekt?",
       "layout": "IPY_MODEL_f46921af44c9473084e29ad7420e0119",
       "style": "IPY_MODEL_8d61953a1f4c4f12838da6b8c84ebf43"
      }
     },
     "fc1d018807904f92bb01e88cf9f95979": {
      "model_module": "@jupyter-widgets/base",
      "model_module_version": "1.2.0",
      "model_name": "LayoutModel",
      "state": {
       "width": "600px"
      }
     },
     "fc4d42c0107149d3a470b99d75380d32": {
      "model_module": "@jupyter-widgets/controls",
      "model_module_version": "1.5.0",
      "model_name": "ButtonModel",
      "state": {
       "description": "Korrekt?",
       "layout": "IPY_MODEL_ace4466c57734d2fb079ea4e6b36c42e",
       "style": "IPY_MODEL_a2cd5dc288f744af82802a07190814f1"
      }
     },
     "fc63f8b4eb3e417aa872f5b9553e0c61": {
      "model_module": "@jupyter-widgets/controls",
      "model_module_version": "1.5.0",
      "model_name": "HTMLModel",
      "state": {
       "layout": "IPY_MODEL_927d847bcb81428ca86e3690f3b60824",
       "style": "IPY_MODEL_316ae13386f449e6b58ac0adfea2b9da",
       "value": "<h4 style=\"font-size:14px;\">Schildern beide Sätze denselben Sachverhalt?</h4>"
      }
     },
     "fc71d059ed9349b4988f8b985148d791": {
      "model_module": "@jupyter-widgets/controls",
      "model_module_version": "1.5.0",
      "model_name": "ButtonStyleModel",
      "state": {}
     },
     "fcb8d857d29b4ccebf55509cd171dac3": {
      "model_module": "@jupyter-widgets/controls",
      "model_module_version": "1.5.0",
      "model_name": "ButtonStyleModel",
      "state": {
       "button_color": "lightgreen"
      }
     },
     "fd3bd824cd1e40509587299981319fb3": {
      "model_module": "@jupyter-widgets/controls",
      "model_module_version": "1.5.0",
      "model_name": "HTMLModel",
      "state": {
       "layout": "IPY_MODEL_e9e0ae3261434c12bbbd9957110ff83d",
       "style": "IPY_MODEL_96ae36c0c99640ba8518f3cbf523a1bd",
       "value": "<i>Wählen Sie die <ins>eine</ins> korrekte Antwort aus: </i>"
      }
     },
     "fd84b1e1ae5945d7bd92272c7e78cea9": {
      "model_module": "@jupyter-widgets/controls",
      "model_module_version": "1.5.0",
      "model_name": "DescriptionStyleModel",
      "state": {
       "description_width": "initial"
      }
     },
     "fd9aa810b49a470d8ab706d87b72c9eb": {
      "model_module": "@jupyter-widgets/base",
      "model_module_version": "1.2.0",
      "model_name": "LayoutModel",
      "state": {
       "width": "250px"
      }
     },
     "fda37f2de28a4f8c815ae58ff48bdefe": {
      "model_module": "@jupyter-widgets/controls",
      "model_module_version": "1.5.0",
      "model_name": "ButtonModel",
      "state": {
       "description": "Patiens",
       "layout": "IPY_MODEL_7e5595e5e4f445be949b206538c23e30",
       "style": "IPY_MODEL_0f7baeb3a7874daf85e584a3f112df48"
      }
     },
     "fdac50fd46bf44408c5f3f2d9dca0a84": {
      "model_module": "@jupyter-widgets/controls",
      "model_module_version": "1.5.0",
      "model_name": "ButtonModel",
      "state": {
       "description": "Benefaktiv",
       "layout": "IPY_MODEL_1484352b1437460bb2a71ea557f7651a",
       "style": "IPY_MODEL_9873bf9a398044cdb351e2072733d085"
      }
     },
     "fe2684ca3f744750b897b469b170d53d": {
      "model_module": "@jupyter-widgets/base",
      "model_module_version": "1.2.0",
      "model_name": "LayoutModel",
      "state": {
       "justify_content": "center"
      }
     },
     "fe311877fc394158b5497b26bea11b42": {
      "model_module": "@jupyter-widgets/base",
      "model_module_version": "1.2.0",
      "model_name": "LayoutModel",
      "state": {
       "justify_content": "center"
      }
     },
     "fe3b6b99674b47f29393d74741b5587c": {
      "model_module": "@jupyter-widgets/controls",
      "model_module_version": "1.5.0",
      "model_name": "DescriptionStyleModel",
      "state": {
       "description_width": ""
      }
     },
     "fe85e098d47c42579c54a1b0624bc127": {
      "model_module": "@jupyter-widgets/controls",
      "model_module_version": "1.5.0",
      "model_name": "CheckboxModel",
      "state": {
       "description": "Das Adjektiv tritt nur in zwei verschiedenen Formen auf.",
       "disabled": false,
       "layout": "IPY_MODEL_f7e8d43a65a84a5da86997201fbeb44c",
       "style": "IPY_MODEL_49f41879cd434c7dbe33695610021631",
       "value": true
      }
     },
     "fe9363ba35104fa091b57253eb5ad9ff": {
      "model_module": "@jupyter-widgets/controls",
      "model_module_version": "1.5.0",
      "model_name": "HTMLModel",
      "state": {
       "layout": "IPY_MODEL_31c4c3214c0345c8bc753021504a1ee2",
       "style": "IPY_MODEL_39bd4c5d7fb34e399c9dc5cf39d87d4f",
       "value": "<i>Wählen Sie die <ins>eine</ins> korrekte Antwort aus: </i>"
      }
     },
     "fe980841d29c42cf8247fdd3eb5ab35d": {
      "model_module": "@jupyter-widgets/base",
      "model_module_version": "1.2.0",
      "model_name": "LayoutModel",
      "state": {}
     },
     "feae216a628d4777a3b3df66e20265b7": {
      "model_module": "@jupyter-widgets/controls",
      "model_module_version": "1.5.0",
      "model_name": "VBoxModel",
      "state": {
       "children": [
        "IPY_MODEL_7403dafe32d64ebfba25de84cb7ccb7b",
        "IPY_MODEL_7ae6a01ab6d64449bdffff385cd94d14",
        "IPY_MODEL_578f8a0005ef4f21ad632e7c0f606eba"
       ],
       "layout": "IPY_MODEL_9451a7967ea24940ac8848b1bbcb8e1b"
      }
     },
     "feb53948bb2340f2ac330489c448f137": {
      "model_module": "@jupyter-widgets/base",
      "model_module_version": "1.2.0",
      "model_name": "LayoutModel",
      "state": {
       "width": "250px"
      }
     },
     "fec35c5620ed4aa5a166a3c6e2fc91df": {
      "model_module": "@jupyter-widgets/base",
      "model_module_version": "1.2.0",
      "model_name": "LayoutModel",
      "state": {
       "width": "250px"
      }
     },
     "feca53b1bd354eada6a5e38e926604b6": {
      "model_module": "@jupyter-widgets/controls",
      "model_module_version": "1.5.0",
      "model_name": "DescriptionStyleModel",
      "state": {
       "description_width": ""
      }
     },
     "feeaf6c699d94fe5873026a486cf83b2": {
      "model_module": "@jupyter-widgets/controls",
      "model_module_version": "1.5.0",
      "model_name": "VBoxModel",
      "state": {
       "children": [
        "IPY_MODEL_31fbd4d7f0764b7fbbca85b6bbc1a623",
        "IPY_MODEL_9678ea48ed7d4da295f547a8b4ceda74",
        "IPY_MODEL_d1aaa84793944269af2db7867e646582",
        "IPY_MODEL_b1659ad4b61d4e4081a21c96c100f3db"
       ],
       "layout": "IPY_MODEL_3acad74cf8804e3e9c4e63b18b66d592"
      }
     },
     "fef39bc22be34fcaaba1fdec9b659f1b": {
      "model_module": "@jupyter-widgets/controls",
      "model_module_version": "1.5.0",
      "model_name": "DescriptionStyleModel",
      "state": {
       "description_width": "initial"
      }
     },
     "ff04900cf00c48d58809a96e519c80c9": {
      "model_module": "@jupyter-widgets/base",
      "model_module_version": "1.2.0",
      "model_name": "LayoutModel",
      "state": {
       "width": "600px"
      }
     },
     "ff0eba5250d64e538f13a036258e25ea": {
      "model_module": "@jupyter-widgets/controls",
      "model_module_version": "1.5.0",
      "model_name": "HTMLModel",
      "state": {
       "layout": "IPY_MODEL_65744f0623254601a62caaf30c2a48a3",
       "style": "IPY_MODEL_e275e3d821e743fd8e828ecf5b5622de",
       "value": "<i>Wählen Sie die <ins>eine</ins> korrekte Antwort aus: </i>"
      }
     },
     "ff34f469a0e34be3beebf8bed1be53bd": {
      "model_module": "@jupyter-widgets/base",
      "model_module_version": "1.2.0",
      "model_name": "LayoutModel",
      "state": {
       "width": "600px"
      }
     },
     "ff4e2adc52394656a49e2354b55bef32": {
      "model_module": "@jupyter-widgets/base",
      "model_module_version": "1.2.0",
      "model_name": "LayoutModel",
      "state": {
       "width": "600px"
      }
     },
     "ff509a6316e646c28dc8fedad41ea288": {
      "model_module": "@jupyter-widgets/base",
      "model_module_version": "1.2.0",
      "model_name": "LayoutModel",
      "state": {
       "width": "600px"
      }
     },
     "ff62dc5c979e4ac2a6421547c1cd8582": {
      "model_module": "@jupyter-widgets/controls",
      "model_module_version": "1.5.0",
      "model_name": "HTMLModel",
      "state": {
       "layout": "IPY_MODEL_cba45ace2f3743d3b465c1d567f23486",
       "style": "IPY_MODEL_868e9d28a13d44e081a97518f74692d5",
       "value": "<h4 style=\"font-size:14px;\">Welche kommunikativ-funktionalen Unterschiede bestehen?</h4>"
      }
     },
     "ff9214d3bf7544579f2033cb62c80379": {
      "model_module": "@jupyter-widgets/controls",
      "model_module_version": "1.5.0",
      "model_name": "DescriptionStyleModel",
      "state": {
       "description_width": "initial"
      }
     },
     "ffa5938e210549808ad038ebfc059215": {
      "model_module": "@jupyter-widgets/controls",
      "model_module_version": "1.5.0",
      "model_name": "VBoxModel",
      "state": {
       "children": [
        "IPY_MODEL_4237fc98579740baa99e9e1103e6687a",
        "IPY_MODEL_e9e7ca558ac04a2597371a781aff9082",
        "IPY_MODEL_1bfb986dad4441f49ebc4777fbf9d36f",
        "IPY_MODEL_82a7cc91cfbf47798f5ea04799d04526"
       ],
       "layout": "IPY_MODEL_1b67d0f6f9294b6090c406dff2234adc"
      }
     },
     "ffb68ea010114de0a6929bdf7f8e8d08": {
      "model_module": "@jupyter-widgets/base",
      "model_module_version": "1.2.0",
      "model_name": "LayoutModel",
      "state": {
       "justify_content": "center"
      }
     },
     "ffbfc129e69c45999d4a8137ad63c419": {
      "model_module": "@jupyter-widgets/base",
      "model_module_version": "1.2.0",
      "model_name": "LayoutModel",
      "state": {}
     },
     "ffce896a47f54d90a19f07a6a9c8b8b1": {
      "model_module": "@jupyter-widgets/base",
      "model_module_version": "1.2.0",
      "model_name": "LayoutModel",
      "state": {}
     },
     "ffec40677cc543b688981f97e26830da": {
      "model_module": "@jupyter-widgets/controls",
      "model_module_version": "1.5.0",
      "model_name": "HBoxModel",
      "state": {
       "children": [
        "IPY_MODEL_21423ba7f6c245c1a0a8a37ebdbbf6ee",
        "IPY_MODEL_c6586e03edad41d6b95f8c1bd0a24e84"
       ],
       "layout": "IPY_MODEL_794a6353f75b49e0945e2e86aa56aff5"
      }
     }
    },
    "version_major": 2,
    "version_minor": 0
   }
  }
 },
 "nbformat": 4,
 "nbformat_minor": 2
}
