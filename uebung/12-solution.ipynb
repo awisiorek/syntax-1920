{
 "cells": [
  {
   "cell_type": "markdown",
   "metadata": {},
   "source": [
    "***Vorlesung 'Syntax natürlicher Sprachen', WS 2019/20***\n",
    "\n",
    "---\n",
    "# Übung 12 (Lösung)"
   ]
  },
  {
   "cell_type": "code",
   "execution_count": 1,
   "metadata": {},
   "outputs": [],
   "source": [
    "from exercises_12 import *\n",
    "from questions import aufgabe\n",
    "import nltk\n",
    "from nltk.corpus import treebank\n",
    "from nltk.grammar import ProbabilisticProduction, PCFG\n",
    "from collections import defaultdict"
   ]
  },
  {
   "cell_type": "markdown",
   "metadata": {},
   "source": [
    "---\n",
    "## Aufgabe 1: Herunterladen von Ressourcen\n",
    "\n",
    "#### Laden Sie sich zunächst die Ressource `corpora/treebank` über den NLTK Download-Manager herunter."
   ]
  },
  {
   "cell_type": "code",
   "execution_count": 2,
   "metadata": {},
   "outputs": [],
   "source": [
    "# nltk.download()"
   ]
  },
  {
   "cell_type": "markdown",
   "metadata": {},
   "source": [
    "---\n",
    "## Aufgabe 2: Grammatikinduktion\n",
    "\n",
    "#### In dieser Aufgabe soll vollautomatisch aus Daten (Syntaxbäumen) eine probabilistische, kontextfreie Grammatik erzeugt werden."
   ]
  },
  {
   "cell_type": "markdown",
   "metadata": {},
   "source": [
    "Veranschaulichen Sie sich das Vorgehen zunächst an einem Beispiel. Gegeben sei folgende Grammatik:"
   ]
  },
  {
   "cell_type": "code",
   "execution_count": 3,
   "metadata": {},
   "outputs": [],
   "source": [
    "cfg = \"\"\"\n",
    "S -> NP VP\n",
    "VP -> V NP PP\n",
    "VP -> V NP\n",
    "NP -> DET N\n",
    "NP -> NP PP\n",
    "PP -> P NP\n",
    "\n",
    "DET -> \"the\" | \"a\"\n",
    "N -> \"boy\" | \"woman\" | \"telescope\"\n",
    "V -> \"saw\"\n",
    "P -> \"with\"\n",
    "\"\"\""
   ]
  },
  {
   "cell_type": "markdown",
   "metadata": {},
   "source": [
    "Sie modelliert sehr einfache Sätze der Form SBJ saw OBJ mit optionaler Präpositionalphrase am Ende. Diese Präpositionalphrase kann entweder der näheren Bestimmung des Objekts oder der näheren Bestimmung der in der Verbalphrase ausgedrückten Handlung dienen.\n",
    "\n",
    "**Für welche Regeln müssen wir die Wahrscheinlichkeiten berechnen, wenn wir mit statistischen Methoden untersuchen wollen, ob PPs häufiger Teil der VP oder Teil der NP sind?**\n",
    "\n",
    "Approximieren Sie mittels vergleichbarer Konstruktionen in der Penn Treebank die Wahrscheinlichkeiten für die ersten beiden dieser Regeln."
   ]
  },
  {
   "cell_type": "code",
   "execution_count": 4,
   "metadata": {},
   "outputs": [
    {
     "data": {
      "text/plain": [
       "[(VP -> TO VP, 1257),\n",
       " (VP -> VB NP, 805),\n",
       " (VP -> MD VP, 759),\n",
       " (VP -> VBD SBAR, 631),\n",
       " (VP -> VBZ VP, 459),\n",
       " (VP -> VBD NP, 378),\n",
       " (VP -> VBG NP, 375),\n",
       " (VP -> VBD VP, 361),\n",
       " (VP -> VBP VP, 337),\n",
       " (VP -> VBZ NP, 261),\n",
       " (VP -> VB VP, 258),\n",
       " (VP -> VBN NP, 250),\n",
       " (VP -> VP CC VP, 234),\n",
       " (VP -> VBD S, 223),\n",
       " (VP -> VBZ S, 215),\n",
       " (VP -> VBZ SBAR, 197),\n",
       " (VP -> VBP NP, 185),\n",
       " (VP -> VBN NP PP-CLR, 178),\n",
       " (VP -> VBN NP PP, 170),\n",
       " (VP -> VBZ NP-PRD, 163),\n",
       " (VP -> VB S, 155),\n",
       " (VP -> VBN S, 141),\n",
       " (VP -> VBP SBAR, 121),\n",
       " (VP -> VB PP-CLR, 107),\n",
       " (VP -> VBG S, 89),\n",
       " (VP -> VBP S, 88),\n",
       " (VP -> VB NP PP-CLR, 88),\n",
       " (VP -> VBZ ADJP-PRD, 87),\n",
       " (VP -> VBN VP, 84),\n",
       " (VP -> MD RB VP, 82)]"
      ]
     },
     "execution_count": 4,
     "metadata": {},
     "output_type": "execute_result"
    }
   ],
   "source": [
    "counter = defaultdict(int)\n",
    "\n",
    "for tree in treebank.parsed_sents():\n",
    "    for prod in tree.productions():\n",
    "        if prod.lhs() == nltk.grammar.Nonterminal('VP'):\n",
    "            counter[prod] += 1\n",
    "            \n",
    "constructions = [ (k, counter[k]) for k in sorted(counter.keys(), key=counter.__getitem__, reverse=True) ]\n",
    "constructions[:30]"
   ]
  },
  {
   "cell_type": "code",
   "execution_count": 5,
   "metadata": {},
   "outputs": [
    {
     "data": {
      "text/plain": [
       "(0.12868949232585597, 0.8713105076741441)"
      ]
     },
     "execution_count": 5,
     "metadata": {},
     "output_type": "execute_result"
    }
   ],
   "source": [
    "vp_with_pp = 178 + 170 + 88\n",
    "vp_without_pp = 805 + 378 + 375 + 361 + 337 + 261 + 250 + 185\n",
    "\n",
    "prob1 = vp_with_pp / (vp_with_pp + vp_without_pp)\n",
    "prob2 = vp_without_pp / (vp_with_pp + vp_without_pp)\n",
    "\n",
    "prob1, prob2"
   ]
  },
  {
   "cell_type": "markdown",
   "metadata": {},
   "source": [
    "Im Folgenden wollen wir vollautomatisch eine dem Penn Treebank Schema entsprechende PCFG erzeugen.\n",
    "\n",
    "#### Füllen Sie die Lücken und versuchen Sie mithilfe Ihrer automatisch erstellten Grammatik die folgenden Sätze zu parsen:"
   ]
  },
  {
   "cell_type": "code",
   "execution_count": 6,
   "metadata": {},
   "outputs": [],
   "source": [
    "test_sentences = [\n",
    "    \"the men saw a car .\",\n",
    "    \"the woman gave the man a book .\",\n",
    "    \"she gave a book to the man .\",\n",
    "    \"yesterday , all my trouble seemed so far away .\"\n",
    "]"
   ]
  },
  {
   "cell_type": "code",
   "execution_count": 7,
   "metadata": {},
   "outputs": [],
   "source": [
    "# Production count: the number of times a given production occurs\n",
    "pcount = defaultdict(int)\n",
    "\n",
    "# LHS-count: counts the number of times a given lhs occurs\n",
    "lcount = defaultdict(int)\n",
    "\n",
    "for tree in treebank.parsed_sents():\n",
    "    for prod in tree.productions():\n",
    "        pcount[prod] += 1\n",
    "        lcount[prod.lhs()] += 1\n",
    "        \n",
    "productions = [\n",
    "    ProbabilisticProduction(\n",
    "        p.lhs(), p.rhs(),\n",
    "        prob=pcount[p] / lcount[p.lhs()]\n",
    "    )\n",
    "    for p in pcount\n",
    "]\n",
    "\n",
    "start = nltk.Nonterminal('S')\n",
    "grammar = PCFG(start, productions)\n",
    "parser = nltk.ViterbiParser(grammar)"
   ]
  },
  {
   "cell_type": "code",
   "execution_count": 8,
   "metadata": {},
   "outputs": [
    {
     "name": "stdout",
     "output_type": "stream",
     "text": [
      "2.269940263066198e-15\n",
      "                S                 \n",
      "       _________|_______________   \n",
      "      |             VP          | \n",
      "      |          ___|___        |  \n",
      "    NP-SBJ      |       NP      | \n",
      "  ____|_____    |    ___|___    |  \n",
      " DT        NNS VBD  DT      NN  . \n",
      " |          |   |   |       |   |  \n",
      "the        men saw  a      car  . \n",
      "\n",
      "8.44395440336237e-21\n",
      "                       S                             \n",
      "       ________________|___________________________   \n",
      "      |                        VP                  | \n",
      "      |            ____________|________           |  \n",
      "    NP-SBJ        |        NP         NP-TMP       | \n",
      "  ____|______     |     ___|___     ____|_____     |  \n",
      " DT          NN  VBD   DT      NN  DT         NN   . \n",
      " |           |    |    |       |   |          |    |  \n",
      "the        woman gave the     man  a         book  . \n",
      "\n",
      "1.3157826588159793e-18\n",
      "                     S                         \n",
      "   __________________|_______________________   \n",
      "  |                  VP                      | \n",
      "  |      ____________|_________              |  \n",
      "  |     |        |           PP-CLR          | \n",
      "  |     |        |         ____|_____        |  \n",
      "NP-SBJ  |        NP       |          NP      | \n",
      "  |     |     ___|___     |     _____|___    |  \n",
      " PRP   VBD   DT      NN   TO   DT        NN  . \n",
      "  |     |    |       |    |    |         |   |  \n",
      " she   gave  a      book  to  the       man  . \n",
      "\n",
      "1.7860754913154666e-34\n",
      "                                 S                                    \n",
      "                 ________________|__________________________________   \n",
      "              NP-SBJ                          |                     | \n",
      "     ___________|_____                        |                     |  \n",
      "    |      |          NP                      VP                    | \n",
      "    |      |     _____|____              _____|________________     |  \n",
      "    NP     |    |          NP           |        ADVP-MNR     ADVP  | \n",
      "    |      |    |      ____|_____       |      _____|______    |    |  \n",
      "    NN     ,    DT   PRP$        NN    VBD    RB           RB  RB   . \n",
      "    |      |    |     |          |      |     |            |   |    |  \n",
      "yesterday  ,   all    my      trouble seemed  so          far away  . \n",
      "\n"
     ]
    }
   ],
   "source": [
    "for s in test_sentences:\n",
    "    for t in parser.parse(nltk.word_tokenize(s)):\n",
    "        print(t.prob())\n",
    "        t.pretty_print()"
   ]
  },
  {
   "cell_type": "markdown",
   "metadata": {},
   "source": [
    "---\n",
    "## Aufgabe 3: Neuronale Netze"
   ]
  },
  {
   "cell_type": "markdown",
   "metadata": {},
   "source": [
    "### (a) Lineare Zusammenhänge"
   ]
  },
  {
   "cell_type": "markdown",
   "metadata": {},
   "source": [
    "In dieser Aufgabe sollen Sie die grundlegenden Eigenschaften von Feedforward-Netzen vertiefen.\n",
    "Falls noch nicht geschehen, installieren Sie dafür die `pytorch`-Bibliothek. Befehle dafür finden Sie [hier](https://pytorch.org/get-started/locally/).\n",
    "\n",
    "Wenn Sie den Code der heutigen Übung auf Ihrem eigenen Rechner ausführen wollen, sollten Sie anschließend auch `ignite` installieren, das einige zusätzliche Hilfsfunktionen bereitstellt:\n",
    "\n",
    "Mit pip:\n",
    "```\n",
    "pip install pytorch-ignite\n",
    "```\n",
    "\n",
    "ODER mit conda:\n",
    "```\n",
    "conda install ignite -c pytorch\n",
    "```"
   ]
  },
  {
   "cell_type": "code",
   "execution_count": 9,
   "metadata": {},
   "outputs": [],
   "source": [
    "import torch\n",
    "import matplotlib.pyplot as plt\n",
    "%matplotlib inline  "
   ]
  },
  {
   "cell_type": "markdown",
   "metadata": {},
   "source": [
    "Im folgenden wollen wir ein kleines Beispielproblem simulieren. `x` soll unsere Eingabe sein (etwa Merkmalsvektoren) und `y1` repräsentiert die gewünschte Ausgabe (z.B. scores, um Wahrscheinlichkeiten zu berechnen)."
   ]
  },
  {
   "cell_type": "code",
   "execution_count": 10,
   "metadata": {},
   "outputs": [],
   "source": [
    "x = torch.arange(10, dtype=torch.float).reshape(10,1)\n",
    "y1 = x/2 + 2*torch.rand_like(x)"
   ]
  },
  {
   "cell_type": "markdown",
   "metadata": {},
   "source": [
    "Mit der `show`-Funktion können Sie sich die Daten einfach visualisieren."
   ]
  },
  {
   "cell_type": "code",
   "execution_count": 11,
   "metadata": {},
   "outputs": [],
   "source": [
    "def show(x, y, model=None, epoch=0):\n",
    "    model_label = 'model' if epoch < 1 else 'model {}'.format(epoch)\n",
    "\n",
    "    with torch.no_grad():\n",
    "        if model:\n",
    "            plt.plot(x, model(x), label=model_label)\n",
    "\n",
    "    if epoch < 2:\n",
    "        plt.scatter(x, y, label='truth')\n",
    "    \n",
    "    plt.legend()\n",
    "    plt.xlabel('features')\n",
    "    plt.ylabel('outcome')"
   ]
  },
  {
   "cell_type": "code",
   "execution_count": 12,
   "metadata": {},
   "outputs": [
    {
     "data": {
      "image/png": "[encoded data removed]",
      "text/plain": [
       "<Figure size 432x288 with 1 Axes>"
      ]
     },
     "metadata": {},
     "output_type": "display_data"
    }
   ],
   "source": [
    "show(x, y1)"
   ]
  },
  {
   "cell_type": "markdown",
   "metadata": {},
   "source": [
    "1. Wir vermuten einen linearen Zusammenhang zwischen Eingabe und Ausgabe. Definieren Sie daher zunächst ein einfaches neuronales Netz mit nur einer linearen Schicht."
   ]
  },
  {
   "cell_type": "code",
   "execution_count": 13,
   "metadata": {},
   "outputs": [],
   "source": [
    "model1 = torch.nn.Linear(1, 1)"
   ]
  },
  {
   "cell_type": "code",
   "execution_count": 14,
   "metadata": {},
   "outputs": [
    {
     "data": {
      "image/png": "[encoded data removed]",
      "text/plain": [
       "<Figure size 432x288 with 1 Axes>"
      ]
     },
     "metadata": {},
     "output_type": "display_data"
    }
   ],
   "source": [
    "show(x, y1, model=model1)"
   ]
  },
  {
   "cell_type": "markdown",
   "metadata": {},
   "source": [
    "2. Ein zufällig initialisiertes Modell ist noch nicht optimal. Wir sollten es jetzt trainieren. Initialisieren Sie dafür einen *Stochastic Gradient Descent*-Optimierer mit einer *Learning Rate* von `0.01` und erstellen Sie eine *Loss*-Funktion, die den *Mean Squared Error* berechnet."
   ]
  },
  {
   "cell_type": "code",
   "execution_count": 15,
   "metadata": {},
   "outputs": [],
   "source": [
    "from ignite.engine import Events, create_supervised_trainer\n",
    "\n",
    "opt1 = torch.optim.SGD(model1.parameters(), lr=0.01)\n",
    "loss = torch.nn.MSELoss()\n",
    "trainer = create_supervised_trainer(model1, opt1, loss)"
   ]
  },
  {
   "cell_type": "code",
   "execution_count": 16,
   "metadata": {},
   "outputs": [],
   "source": [
    "@trainer.on(Events.ITERATION_COMPLETED)\n",
    "def log_training_results(trainer):\n",
    "    print('Loss at epoch {}: {}'.format(trainer.state.epoch, trainer.state.output))\n",
    "    show(x, y1, model=model1, epoch=trainer.state.epoch)"
   ]
  },
  {
   "cell_type": "code",
   "execution_count": 17,
   "metadata": {
    "scrolled": false
   },
   "outputs": [
    {
     "name": "stdout",
     "output_type": "stream",
     "text": [
      "Loss at epoch 1: 3.0884761810302734\n",
      "Loss at epoch 2: 0.842806875705719\n",
      "Loss at epoch 3: 0.45441702008247375\n",
      "Loss at epoch 4: 0.38690096139907837\n",
      "Loss at epoch 5: 0.37482428550720215\n"
     ]
    },
    {
     "data": {
      "text/plain": [
       "<ignite.engine.engine.State at 0x7f86b6bfa358>"
      ]
     },
     "execution_count": 17,
     "metadata": {},
     "output_type": "execute_result"
    },
    {
     "data": {
      "image/png": "[encoded data removed]",
      "text/plain": [
       "<Figure size 432x288 with 1 Axes>"
      ]
     },
     "metadata": {},
     "output_type": "display_data"
    }
   ],
   "source": [
    "trainer.run([(x, y1)], max_epochs=5)"
   ]
  },
  {
   "cell_type": "markdown",
   "metadata": {},
   "source": [
    "### (b) Nonlineare Zusammenhänge\n",
    "\n",
    "Bei gleichem Input sehen unsere Zielwerte auf einmal so aus:"
   ]
  },
  {
   "cell_type": "code",
   "execution_count": 18,
   "metadata": {},
   "outputs": [],
   "source": [
    "y2 = (x-4)**2 + 10*torch.rand_like(x)"
   ]
  },
  {
   "cell_type": "code",
   "execution_count": 19,
   "metadata": {},
   "outputs": [
    {
     "data": {
      "image/png": "[encoded data removed]",
      "text/plain": [
       "<Figure size 432x288 with 1 Axes>"
      ]
     },
     "metadata": {},
     "output_type": "display_data"
    }
   ],
   "source": [
    "show(x, y2)"
   ]
  },
  {
   "cell_type": "markdown",
   "metadata": {},
   "source": [
    "Das wird sich mit einer linearen Funktion nicht mehr gut modellieren lassen. Wir fügen daher eine versteckte Schicht (*hidden layer*) zu unserem Modell hinzu. Probieren Sie verschiedene Werte für die Kapazität der versteckten Schicht (*hidden size*); starten Sie dabei mit `10`. Als nicht-lineare Aktivierungsfunktion sollen Sie die aus der Vorlesung bekannte `ReLU`-Funktion nutzen."
   ]
  },
  {
   "cell_type": "code",
   "execution_count": 20,
   "metadata": {},
   "outputs": [],
   "source": [
    "model2 = torch.nn.Sequential(\n",
    "    torch.nn.Linear(1, 300),\n",
    "    torch.nn.ReLU(),\n",
    "    torch.nn.Linear(300, 1)\n",
    ")"
   ]
  },
  {
   "cell_type": "code",
   "execution_count": 21,
   "metadata": {
    "scrolled": true
   },
   "outputs": [
    {
     "data": {
      "image/png": "[encoded data removed]",
      "text/plain": [
       "<Figure size 432x288 with 1 Axes>"
      ]
     },
     "metadata": {},
     "output_type": "display_data"
    }
   ],
   "source": [
    "show(x, y2, model=model2)"
   ]
  },
  {
   "cell_type": "markdown",
   "metadata": {},
   "source": [
    "Wir trainieren wieder unsere zufällig initialisierte Funktion. Testen Sie verschiedene *learning rates* und Optimierer (z.B. `Adam` anstatt `SGD`)."
   ]
  },
  {
   "cell_type": "code",
   "execution_count": 22,
   "metadata": {},
   "outputs": [],
   "source": [
    "from ignite.engine import Events, create_supervised_trainer\n",
    "\n",
    "opt2 = torch.optim.Adam(model2.parameters(), lr=0.01)\n",
    "trainer = create_supervised_trainer(model2, opt2, loss)"
   ]
  },
  {
   "cell_type": "code",
   "execution_count": 23,
   "metadata": {
    "scrolled": false
   },
   "outputs": [
    {
     "data": {
      "text/plain": [
       "<ignite.engine.engine.State at 0x7f86b5b59588>"
      ]
     },
     "execution_count": 23,
     "metadata": {},
     "output_type": "execute_result"
    },
    {
     "data": {
      "text/plain": [
       "2.7860589027404785"
      ]
     },
     "execution_count": 23,
     "metadata": {},
     "output_type": "execute_result"
    }
   ],
   "source": [
    "trainer.run([(x, y2)], max_epochs=1000)\n",
    "trainer.state.output"
   ]
  },
  {
   "cell_type": "code",
   "execution_count": 24,
   "metadata": {},
   "outputs": [
    {
     "data": {
      "image/png": "[encoded data removed]",
      "text/plain": [
       "<Figure size 432x288 with 1 Axes>"
      ]
     },
     "metadata": {},
     "output_type": "display_data"
    }
   ],
   "source": [
    "show(x, y2, model=model2)"
   ]
  },
  {
   "cell_type": "markdown",
   "metadata": {},
   "source": [
    "--- \n",
    "# Hausaufgaben"
   ]
  },
  {
   "cell_type": "markdown",
   "metadata": {},
   "source": [
    "---\n",
    "## Aufgabe 4: PCFGs und Viterbi\n",
    "\n",
    "#### Beantworten Sie die folgenden grundlegenden Fragen über die heute verwendeten Technologien."
   ]
  },
  {
   "cell_type": "code",
   "execution_count": 25,
   "metadata": {},
   "outputs": [
    {
     "data": {
      "application/vnd.jupyter.widget-view+json": {
       "model_id": "3b351adb0c5643389f905f736392f5a8",
       "version_major": 2,
       "version_minor": 0
      },
      "text/plain": [
       "MultipleChoice(children=(HTML(value='<h4 style=\"font-size:14px;\">Welche der folgenden Bedingungen wird an eine…"
      ]
     },
     "metadata": {},
     "output_type": "display_data"
    },
    {
     "data": {
      "application/vnd.jupyter.widget-view+json": {
       "model_id": "0037e283482842209f478b2f7abf997c",
       "version_major": 2,
       "version_minor": 0
      },
      "text/plain": [
       "MultipleChoice(children=(HTML(value='<h4 style=\"font-size:14px;\">Was ist die Aufgabe des Viterbi-Algorithmus?<…"
      ]
     },
     "metadata": {},
     "output_type": "display_data"
    },
    {
     "data": {
      "application/vnd.jupyter.widget-view+json": {
       "model_id": "c21fe08552e7443f9ef0c5a219b87976",
       "version_major": 2,
       "version_minor": 0
      },
      "text/plain": [
       "MultipleChoice(children=(HTML(value='<h4 style=\"font-size:14px;\">Warum muss zwischen zwei Schichten eines Feed…"
      ]
     },
     "metadata": {},
     "output_type": "display_data"
    }
   ],
   "source": [
    "aufgabe(blatt12_4)"
   ]
  },
  {
   "cell_type": "markdown",
   "metadata": {},
   "source": [
    "---\n",
    "## Aufgabe 5: NLTK-Kapitel zu PCFGs\n",
    "\n",
    "#### In folgenden NLTK-Kapiteln wird das Parsing mit Probabilistischen kontextfreien Grammatiken behandelt:\n",
    "- Teilkapitel 8.6 (’Grammar Development’): http://www.nltk.org/book/ch08.html\n",
    "- Teilkapitel 2.12 und 2.13 (’Grammar Induction’ und ’Normal Forms’) des Zusatzkapitels zu Kapitel 8: http://www.nltk.org/book/ch08-extras.html\n",
    "- (Teilkapitel 2.9-2.11 des Zusatzkapitels zu Kapitel 8 behandelt Probabilistische ’Chart Parsing’-Algorithmen: http://www.nltk.org/book/ch08-extras.html)\n",
    "\n",
    "#### Beantworten Sie folgende Fragen zu Teilkapitel 8.6.2 (’Pernicious Ambiguity’):"
   ]
  },
  {
   "cell_type": "markdown",
   "metadata": {},
   "source": [
    "---\n",
    "### Aufgabe 5 a:\n",
    "\n",
    "#### Welche zwei Faktoren führen bei der syntaktischen Analyse natürlicher Sprache mittels formaler Grammatiken zu mehr Ambiguität (Anzahl an Ableitungen)?"
   ]
  },
  {
   "cell_type": "code",
   "execution_count": 26,
   "metadata": {},
   "outputs": [
    {
     "data": {
      "application/vnd.jupyter.widget-view+json": {
       "model_id": "55d67a6b9483498ab05ca3ff43655e02",
       "version_major": 2,
       "version_minor": 0
      },
      "text/plain": [
       "MultipleChoice(children=(HTML(value='<h4 style=\"font-size:14px;\">Welche zwei Faktoren führen bei der syntaktis…"
      ]
     },
     "metadata": {},
     "output_type": "display_data"
    }
   ],
   "source": [
    "aufgabe(blatt12_5a)"
   ]
  },
  {
   "cell_type": "markdown",
   "metadata": {},
   "source": [
    "---\n",
    "### Aufgabe 5 b:\n"
   ]
  },
  {
   "cell_type": "code",
   "execution_count": 27,
   "metadata": {},
   "outputs": [
    {
     "data": {
      "application/vnd.jupyter.widget-view+json": {
       "model_id": "08e22e4a96f54b60abb260badd4dc7b3",
       "version_major": 2,
       "version_minor": 0
      },
      "text/plain": [
       "MultipleChoice(children=(HTML(value='<h4 style=\"font-size:14px;\">Welche zwei Arten von Ambiguität unterscheide…"
      ]
     },
     "metadata": {},
     "output_type": "display_data"
    }
   ],
   "source": [
    "aufgabe(blatt12_5b)"
   ]
  }
 ],
 "metadata": {
  "kernelspec": {
   "display_name": "Python 3",
   "language": "python",
   "name": "python3"
  },
  "language_info": {
   "codemirror_mode": {
    "name": "ipython",
    "version": 3
   },
   "file_extension": ".py",
   "mimetype": "text/x-python",
   "name": "python",
   "nbconvert_exporter": "python",
   "pygments_lexer": "ipython3",
   "version": "3.6.9"
  },
  "widgets": {
   "application/vnd.jupyter.widget-state+json": {
    "state": {
     "002140b4f9c14a2d80359e1e00945e7f": {
      "model_module": "@jupyter-widgets/controls",
      "model_module_version": "1.4.0",
      "model_name": "DescriptionStyleModel",
      "state": {
       "description_width": "initial"
      }
     },
     "002b1b0b255f4b91baf0064cc4656c2a": {
      "model_module": "@jupyter-widgets/base",
      "model_module_version": "1.1.0",
      "model_name": "LayoutModel",
      "state": {
       "width": "600px"
      }
     },
     "0037e283482842209f478b2f7abf997c": {
      "model_module": "@jupyter-widgets/controls",
      "model_module_version": "1.4.0",
      "model_name": "VBoxModel",
      "state": {
       "children": [
        "IPY_MODEL_8e379fd1e5934a0fad07966bbce4ff0c",
        "IPY_MODEL_e25b7341a678412e82878e2fdaa30cce",
        "IPY_MODEL_ce51a298e8d14f36a610770696da4682",
        "IPY_MODEL_54a33f8946754e2c87ce24a0eb6ba47e"
       ],
       "layout": "IPY_MODEL_6893c90e9dd046f7b436e23a4225ea41"
      }
     },
     "007bbf92433543d4bf6a636681b21003": {
      "model_module": "@jupyter-widgets/base",
      "model_module_version": "1.1.0",
      "model_name": "LayoutModel",
      "state": {}
     },
     "00cb2163680046ef821950cf2e0acd1f": {
      "model_module": "@jupyter-widgets/controls",
      "model_module_version": "1.4.0",
      "model_name": "DescriptionStyleModel",
      "state": {
       "description_width": "initial"
      }
     },
     "00d42856a4564dbdb3b741143b2ea8f7": {
      "model_module": "@jupyter-widgets/controls",
      "model_module_version": "1.4.0",
      "model_name": "CheckboxModel",
      "state": {
       "description": "lexikalische Ambiguität",
       "disabled": false,
       "layout": "IPY_MODEL_33ea4627d19a4681a75023411e3d15e6",
       "style": "IPY_MODEL_2f8845778a584798b4903ffb9d9851c1",
       "value": false
      }
     },
     "00d6b2ac958b49dcbec6189810b7260c": {
      "model_module": "@jupyter-widgets/controls",
      "model_module_version": "1.4.0",
      "model_name": "DescriptionStyleModel",
      "state": {
       "description_width": "initial"
      }
     },
     "00e55cf244e24504bf166be1f6cbda36": {
      "model_module": "@jupyter-widgets/controls",
      "model_module_version": "1.4.0",
      "model_name": "HTMLModel",
      "state": {
       "layout": "IPY_MODEL_dd9dfd35ca63412482fa444e4e72e187",
       "style": "IPY_MODEL_9a17812e7cdb4ff6bedda9310d6b7d0c",
       "value": "<h4 style=\"font-size:14px;\">Warum werden die Analysen in den Discard-Zeilen verworfen?</h4>"
      }
     },
     "010ce97af7034df097017eeea875fbe5": {
      "model_module": "@jupyter-widgets/controls",
      "model_module_version": "1.4.0",
      "model_name": "CheckboxModel",
      "state": {
       "description": "Attachment-Ambiguität",
       "disabled": false,
       "layout": "IPY_MODEL_73b4166f8a104da9aa3e7e76d1f4b40e",
       "style": "IPY_MODEL_c972da8ed3e74b9f86c2968302d70c65",
       "value": false
      }
     },
     "012bcb80bbd5442db81a1ec18c1a4846": {
      "model_module": "@jupyter-widgets/controls",
      "model_module_version": "1.4.0",
      "model_name": "CheckboxModel",
      "state": {
       "description": "Koordinierungsambigutiät",
       "disabled": false,
       "layout": "IPY_MODEL_995a53583dac4a80a77740cef5c9b6f1",
       "style": "IPY_MODEL_88248011e6c3431b916c48ace5c406a9",
       "value": false
      }
     },
     "01b6d9f3ab67441db12c33ca4817dcaf": {
      "model_module": "@jupyter-widgets/controls",
      "model_module_version": "1.4.0",
      "model_name": "ButtonModel",
      "state": {
       "description": "Korrekt?",
       "layout": "IPY_MODEL_172b6b667f3e4e6696fb69501c78ef9e",
       "style": "IPY_MODEL_a83f3b585aaa4649ad4f05c0d7e40d6c"
      }
     },
     "01b788abf3074efe8729144242eebe5a": {
      "model_module": "@jupyter-widgets/base",
      "model_module_version": "1.1.0",
      "model_name": "LayoutModel",
      "state": {}
     },
     "021ebb6dc14449a78ae6ae8463caab49": {
      "model_module": "@jupyter-widgets/base",
      "model_module_version": "1.1.0",
      "model_name": "LayoutModel",
      "state": {
       "width": "600px"
      }
     },
     "022d71ce41f44dafb872d3a30af3fc10": {
      "model_module": "@jupyter-widgets/controls",
      "model_module_version": "1.4.0",
      "model_name": "ButtonModel",
      "state": {
       "description": "InsideChartParser",
       "layout": "IPY_MODEL_92b83f61f62b46858b32d8cdc0573e45",
       "style": "IPY_MODEL_e8dc0d2a8d0a4aa3a4d343fc76b2f037"
      }
     },
     "024f5c9b4a7c4630a331132802158c1c": {
      "model_module": "@jupyter-widgets/controls",
      "model_module_version": "1.4.0",
      "model_name": "DescriptionStyleModel",
      "state": {
       "description_width": "initial"
      }
     },
     "02566ba77dd642ee82c76825d80e2d49": {
      "model_module": "@jupyter-widgets/base",
      "model_module_version": "1.1.0",
      "model_name": "LayoutModel",
      "state": {}
     },
     "02e6414365614eb2a4497f9d79114542": {
      "model_module": "@jupyter-widgets/controls",
      "model_module_version": "1.4.0",
      "model_name": "DescriptionStyleModel",
      "state": {
       "description_width": "initial"
      }
     },
     "03120e394a774489b53771d8d3e44418": {
      "model_module": "@jupyter-widgets/controls",
      "model_module_version": "1.4.0",
      "model_name": "DescriptionStyleModel",
      "state": {
       "description_width": "initial"
      }
     },
     "0328cfaccefc4d5aa27bd95e7708c277": {
      "model_module": "@jupyter-widgets/base",
      "model_module_version": "1.1.0",
      "model_name": "LayoutModel",
      "state": {
       "width": "600px"
      }
     },
     "03381ab1f8db44e3948d8a515a36bcef": {
      "model_module": "@jupyter-widgets/controls",
      "model_module_version": "1.4.0",
      "model_name": "ButtonStyleModel",
      "state": {}
     },
     "0384facc24914d0290f0aea348c3700b": {
      "model_module": "@jupyter-widgets/base",
      "model_module_version": "1.1.0",
      "model_name": "LayoutModel",
      "state": {}
     },
     "038fee618f63444ebc9f854f8680b430": {
      "model_module": "@jupyter-widgets/controls",
      "model_module_version": "1.4.0",
      "model_name": "DescriptionStyleModel",
      "state": {
       "description_width": "initial"
      }
     },
     "03941051020542e399ef5e9db7183d7e": {
      "model_module": "@jupyter-widgets/controls",
      "model_module_version": "1.4.0",
      "model_name": "ButtonStyleModel",
      "state": {}
     },
     "03b72cdadb934098b5445cc668468f8f": {
      "model_module": "@jupyter-widgets/controls",
      "model_module_version": "1.4.0",
      "model_name": "DescriptionStyleModel",
      "state": {
       "description_width": ""
      }
     },
     "03f30ca69aa04d8b8a110439639ad21d": {
      "model_module": "@jupyter-widgets/controls",
      "model_module_version": "1.4.0",
      "model_name": "CheckboxModel",
      "state": {
       "description": "Bestimmung der Köpfe und Dependenzrelationen",
       "disabled": false,
       "layout": "IPY_MODEL_d8f781bf508e4ff5bd50ca154bd3f790",
       "style": "IPY_MODEL_e1c8e14db545468e9a9f676c22a4b05f",
       "value": false
      }
     },
     "04e4e29f2d364e6bb10cd4f0282e7112": {
      "model_module": "@jupyter-widgets/controls",
      "model_module_version": "1.4.0",
      "model_name": "DescriptionStyleModel",
      "state": {
       "description_width": "initial"
      }
     },
     "04eaac00d9ce41aabd7af1b12ce7c337": {
      "model_module": "@jupyter-widgets/base",
      "model_module_version": "1.1.0",
      "model_name": "LayoutModel",
      "state": {
       "width": "250px"
      }
     },
     "04fa5614bff144ab96378a7af9ae3f72": {
      "model_module": "@jupyter-widgets/base",
      "model_module_version": "1.1.0",
      "model_name": "LayoutModel",
      "state": {
       "width": "600px"
      }
     },
     "053c65f16650453596452995129a63e9": {
      "model_module": "@jupyter-widgets/controls",
      "model_module_version": "1.4.0",
      "model_name": "VBoxModel",
      "state": {
       "children": [
        "IPY_MODEL_cc5ef2bb58c646aeb4bd220b2fddedc5",
        "IPY_MODEL_cb482719cfd14445be0c94d1b0bedaf1",
        "IPY_MODEL_5138af9978b14b5aa00e5be00f09ec7d",
        "IPY_MODEL_2345e35e4a284328a07fcaade617e0ff"
       ],
       "layout": "IPY_MODEL_3d3e2eaf968b41fe9a735ddf14d12804"
      }
     },
     "0555071566c84272b6c8d2a0bb596f55": {
      "model_module": "@jupyter-widgets/base",
      "model_module_version": "1.1.0",
      "model_name": "LayoutModel",
      "state": {
       "width": "600px"
      }
     },
     "057810c22d9c4f9a8e9183751b917f22": {
      "model_module": "@jupyter-widgets/base",
      "model_module_version": "1.1.0",
      "model_name": "LayoutModel",
      "state": {
       "width": "600px"
      }
     },
     "0663a06a58d74a9b8fa49e7e1d598ff3": {
      "model_module": "@jupyter-widgets/controls",
      "model_module_version": "1.4.0",
      "model_name": "ButtonModel",
      "state": {
       "description": "Korrekt?",
       "layout": "IPY_MODEL_2fa548ed63b942d2b21e2deca94a4534",
       "style": "IPY_MODEL_f2dbe2221480492995e4f15635c6cf35"
      }
     },
     "0668b4f676124bf7b42b757a4261ad2a": {
      "model_module": "@jupyter-widgets/controls",
      "model_module_version": "1.4.0",
      "model_name": "DescriptionStyleModel",
      "state": {
       "description_width": "initial"
      }
     },
     "067d3af46c964269959119e3dce9fe2b": {
      "model_module": "@jupyter-widgets/base",
      "model_module_version": "1.1.0",
      "model_name": "LayoutModel",
      "state": {
       "justify_content": "center"
      }
     },
     "06bb63a69185447aa3a88a5021746289": {
      "model_module": "@jupyter-widgets/base",
      "model_module_version": "1.1.0",
      "model_name": "LayoutModel",
      "state": {}
     },
     "06bb9bbc96534ec78f81b20d8bd9247b": {
      "model_module": "@jupyter-widgets/controls",
      "model_module_version": "1.4.0",
      "model_name": "VBoxModel",
      "state": {
       "children": [
        "IPY_MODEL_79660e1c8cee4a5fa7a346a3f8e36ccf",
        "IPY_MODEL_9616b9fc5d5941a0b17a5e447985629f",
        "IPY_MODEL_6af62be9704e4b2b99b0cc403f03d507",
        "IPY_MODEL_cec6139e4f3a4e64945331fa0a3c5952"
       ],
       "layout": "IPY_MODEL_1991d8074160453c8a074e57290848f6"
      }
     },
     "06bd252d6cc44b1590e9a6f52ade438c": {
      "model_module": "@jupyter-widgets/controls",
      "model_module_version": "1.4.0",
      "model_name": "DescriptionStyleModel",
      "state": {
       "description_width": "initial"
      }
     },
     "06fde347b4b141f28a97f6b2d938762b": {
      "model_module": "@jupyter-widgets/controls",
      "model_module_version": "1.4.0",
      "model_name": "VBoxModel",
      "state": {
       "children": [
        "IPY_MODEL_00e55cf244e24504bf166be1f6cbda36",
        "IPY_MODEL_bda2442a1ad547edb7863487dbe0ff64",
        "IPY_MODEL_9312077959674f46bec5794c90338bf0",
        "IPY_MODEL_6b1631a238e8413388d5e9267be68662"
       ],
       "layout": "IPY_MODEL_39a94f5e1c63463aa46bd98f0b7e7739"
      }
     },
     "072587a4cf7d48c18b41eb94a0c64f1c": {
      "model_module": "@jupyter-widgets/controls",
      "model_module_version": "1.4.0",
      "model_name": "DescriptionStyleModel",
      "state": {
       "description_width": ""
      }
     },
     "0756024f91a84bada94db03367e71a5e": {
      "model_module": "@jupyter-widgets/controls",
      "model_module_version": "1.4.0",
      "model_name": "CheckboxModel",
      "state": {
       "description": "lexikalische Ambiguität",
       "disabled": false,
       "layout": "IPY_MODEL_4f9a30a4dea2481a81ea9a0059eb2dac",
       "style": "IPY_MODEL_450f6b888cc341249270d1a3c05b8739",
       "value": false
      }
     },
     "07c4010c25a34993a586a44ae94a2a52": {
      "model_module": "@jupyter-widgets/controls",
      "model_module_version": "1.4.0",
      "model_name": "DescriptionStyleModel",
      "state": {
       "description_width": "initial"
      }
     },
     "0807e6039af74d2ca5eed6898bd4734f": {
      "model_module": "@jupyter-widgets/base",
      "model_module_version": "1.1.0",
      "model_name": "LayoutModel",
      "state": {}
     },
     "086683e845564778b76407379ae79973": {
      "model_module": "@jupyter-widgets/base",
      "model_module_version": "1.1.0",
      "model_name": "LayoutModel",
      "state": {}
     },
     "0869f88f16104247b389c3bf75a26d24": {
      "model_module": "@jupyter-widgets/controls",
      "model_module_version": "1.4.0",
      "model_name": "CheckboxModel",
      "state": {
       "description": "kürzere Sätze",
       "disabled": false,
       "layout": "IPY_MODEL_ac3c369022544c02a4b6742915872418",
       "style": "IPY_MODEL_4254c589410846c383b766d5ca01c259",
       "value": false
      }
     },
     "0875126280084fb3b7031d7463be98f2": {
      "model_module": "@jupyter-widgets/controls",
      "model_module_version": "1.4.0",
      "model_name": "DescriptionStyleModel",
      "state": {
       "description_width": "initial"
      }
     },
     "087e0891565a4e53be68bf469246d834": {
      "model_module": "@jupyter-widgets/controls",
      "model_module_version": "1.4.0",
      "model_name": "DescriptionStyleModel",
      "state": {
       "description_width": "initial"
      }
     },
     "08b003a10acb451a9de126edafe95d0f": {
      "model_module": "@jupyter-widgets/controls",
      "model_module_version": "1.4.0",
      "model_name": "DescriptionStyleModel",
      "state": {
       "description_width": "initial"
      }
     },
     "08e22e4a96f54b60abb260badd4dc7b3": {
      "model_module": "@jupyter-widgets/controls",
      "model_module_version": "1.4.0",
      "model_name": "VBoxModel",
      "state": {
       "children": [
        "IPY_MODEL_6e9213d9d6de48e590e52ffa9e11b4be",
        "IPY_MODEL_6fef014df88a4313bedcc2e98261f69c",
        "IPY_MODEL_51b7adcd62f6441db9096c427093827e",
        "IPY_MODEL_6b677a75f7a14664ac191ed270408f11"
       ],
       "layout": "IPY_MODEL_0e9eaf81f62f439490649723a9c4a6b4"
      }
     },
     "096638f50c114ef581a128fc328cd9c0": {
      "model_module": "@jupyter-widgets/controls",
      "model_module_version": "1.4.0",
      "model_name": "CheckboxModel",
      "state": {
       "description": "Abnahme der Anzahl von Regeln",
       "disabled": false,
       "layout": "IPY_MODEL_0555071566c84272b6c8d2a0bb596f55",
       "style": "IPY_MODEL_002140b4f9c14a2d80359e1e00945e7f",
       "value": false
      }
     },
     "0980b67473884e6f9833e7e8bd776700": {
      "model_module": "@jupyter-widgets/controls",
      "model_module_version": "1.4.0",
      "model_name": "DescriptionStyleModel",
      "state": {
       "description_width": "initial"
      }
     },
     "09de55b5f21b446887edadfc319b6a35": {
      "model_module": "@jupyter-widgets/base",
      "model_module_version": "1.1.0",
      "model_name": "LayoutModel",
      "state": {
       "justify_content": "center"
      }
     },
     "0a18adb3ec84427497959771bde2c33d": {
      "model_module": "@jupyter-widgets/controls",
      "model_module_version": "1.4.0",
      "model_name": "DescriptionStyleModel",
      "state": {
       "description_width": "initial"
      }
     },
     "0a2ec0732eb34f30adcb98e33046ecf5": {
      "model_module": "@jupyter-widgets/controls",
      "model_module_version": "1.4.0",
      "model_name": "DescriptionStyleModel",
      "state": {
       "description_width": "initial"
      }
     },
     "0a67cdb9f02549cba18d86c4f1991de0": {
      "model_module": "@jupyter-widgets/controls",
      "model_module_version": "1.4.0",
      "model_name": "ButtonModel",
      "state": {
       "description": "Korrekt?",
       "layout": "IPY_MODEL_c731a99164604203965e52078d71333d",
       "style": "IPY_MODEL_369ac3254ac949819eaf4c2e3eb60649"
      }
     },
     "0a942790aaf24745b6434a8e7969481d": {
      "model_module": "@jupyter-widgets/controls",
      "model_module_version": "1.4.0",
      "model_name": "CheckboxModel",
      "state": {
       "description": "strukturelle Ambiguität",
       "disabled": false,
       "layout": "IPY_MODEL_438f49165e1e45409bdd17b9441c44f8",
       "style": "IPY_MODEL_b3f7c5dcba084026b2f761bd87cbbcac",
       "value": true
      }
     },
     "0a9b7a60fbdc4e5bb643c0959a94f96e": {
      "model_module": "@jupyter-widgets/controls",
      "model_module_version": "1.4.0",
      "model_name": "DescriptionStyleModel",
      "state": {
       "description_width": "initial"
      }
     },
     "0adbd93652ef4cf2951fb637c06ff65e": {
      "model_module": "@jupyter-widgets/base",
      "model_module_version": "1.1.0",
      "model_name": "LayoutModel",
      "state": {
       "width": "600px"
      }
     },
     "0adc07243c0044bf8c73d33a1ec3bfb5": {
      "model_module": "@jupyter-widgets/base",
      "model_module_version": "1.1.0",
      "model_name": "LayoutModel",
      "state": {
       "width": "600px"
      }
     },
     "0ae72623bf0340ffae2df548a23811b3": {
      "model_module": "@jupyter-widgets/base",
      "model_module_version": "1.1.0",
      "model_name": "LayoutModel",
      "state": {}
     },
     "0b2d8c8b5b2a4f879b5b81880c57ca77": {
      "model_module": "@jupyter-widgets/controls",
      "model_module_version": "1.4.0",
      "model_name": "HTMLModel",
      "state": {
       "layout": "IPY_MODEL_34d22aeafe634fc2a828cc7d69f96877",
       "style": "IPY_MODEL_2efe1596303546f898fc909768cdddb6",
       "value": "<i>Wählen Sie die zwei korrekten Antworten aus.</i>"
      }
     },
     "0b3dbff01658477fa078efcd87be9908": {
      "model_module": "@jupyter-widgets/controls",
      "model_module_version": "1.4.0",
      "model_name": "CheckboxModel",
      "state": {
       "description": "Attachment-Ambiguität",
       "disabled": false,
       "layout": "IPY_MODEL_bb64df5c0b704d7899501a8839331ed9",
       "style": "IPY_MODEL_0cd9b99d52c048c380c6e2a5a963d5f3",
       "value": false
      }
     },
     "0b8837a3cb464dfd95a9b02a0f0ade96": {
      "model_module": "@jupyter-widgets/controls",
      "model_module_version": "1.4.0",
      "model_name": "DescriptionStyleModel",
      "state": {
       "description_width": ""
      }
     },
     "0ba8434e797e406f8f6b4d555bc56694": {
      "model_module": "@jupyter-widgets/controls",
      "model_module_version": "1.4.0",
      "model_name": "DescriptionStyleModel",
      "state": {
       "description_width": "initial"
      }
     },
     "0bb9c51ded6b404e9b6a37059d0e6568": {
      "model_module": "@jupyter-widgets/base",
      "model_module_version": "1.1.0",
      "model_name": "LayoutModel",
      "state": {
       "width": "600px"
      }
     },
     "0c73c9d4c0664e3d820d8fe9c05d57d4": {
      "model_module": "@jupyter-widgets/controls",
      "model_module_version": "1.4.0",
      "model_name": "DescriptionStyleModel",
      "state": {
       "description_width": "initial"
      }
     },
     "0c89b8c4407549e8b6293ba1389ab388": {
      "model_module": "@jupyter-widgets/controls",
      "model_module_version": "1.4.0",
      "model_name": "DescriptionStyleModel",
      "state": {
       "description_width": "initial"
      }
     },
     "0c976ad29a014e3ba567508df6ccfcd6": {
      "model_module": "@jupyter-widgets/base",
      "model_module_version": "1.1.0",
      "model_name": "LayoutModel",
      "state": {
       "width": "600px"
      }
     },
     "0cd6e4901d0840768f7045c97e698fdc": {
      "model_module": "@jupyter-widgets/base",
      "model_module_version": "1.1.0",
      "model_name": "LayoutModel",
      "state": {}
     },
     "0cd9b99d52c048c380c6e2a5a963d5f3": {
      "model_module": "@jupyter-widgets/controls",
      "model_module_version": "1.4.0",
      "model_name": "DescriptionStyleModel",
      "state": {
       "description_width": "initial"
      }
     },
     "0cfe35a772164b82a35e16e3142f2761": {
      "model_module": "@jupyter-widgets/base",
      "model_module_version": "1.1.0",
      "model_name": "LayoutModel",
      "state": {
       "width": "600px"
      }
     },
     "0d1ad212c7764f55ab960de323bafeb4": {
      "model_module": "@jupyter-widgets/controls",
      "model_module_version": "1.4.0",
      "model_name": "VBoxModel",
      "state": {
       "children": [
        "IPY_MODEL_096638f50c114ef581a128fc328cd9c0",
        "IPY_MODEL_1a67a823dceb483cbf385a12dd1cb8f7",
        "IPY_MODEL_7581dd1c7da54605aa28cfccc9b56676",
        "IPY_MODEL_12ceba4816364b749d92f6ecb47b1d54"
       ],
       "layout": "IPY_MODEL_b24fe578346348af807329c3cd4067a2"
      }
     },
     "0d50a7a2523c433db0ec26a2c49bd221": {
      "model_module": "@jupyter-widgets/controls",
      "model_module_version": "1.4.0",
      "model_name": "CheckboxModel",
      "state": {
       "description": "kürzere Sätze",
       "disabled": false,
       "layout": "IPY_MODEL_2bad121f43404d68b6e3a551410c8bec",
       "style": "IPY_MODEL_08b003a10acb451a9de126edafe95d0f",
       "value": false
      }
     },
     "0e36665b41384d2db6ef357ba844757b": {
      "model_module": "@jupyter-widgets/base",
      "model_module_version": "1.1.0",
      "model_name": "LayoutModel",
      "state": {
       "justify_content": "center"
      }
     },
     "0e9eaf81f62f439490649723a9c4a6b4": {
      "model_module": "@jupyter-widgets/base",
      "model_module_version": "1.1.0",
      "model_name": "LayoutModel",
      "state": {}
     },
     "0e9f0569c77e45b382c3cb60f3bd3015": {
      "model_module": "@jupyter-widgets/base",
      "model_module_version": "1.1.0",
      "model_name": "LayoutModel",
      "state": {
       "justify_content": "center"
      }
     },
     "0f0e7c4cb37146e0bbfc3e387e95c5ad": {
      "model_module": "@jupyter-widgets/base",
      "model_module_version": "1.1.0",
      "model_name": "LayoutModel",
      "state": {
       "width": "600px"
      }
     },
     "0f45ec16e0d246a6b5dcf52515bbe4cb": {
      "model_module": "@jupyter-widgets/base",
      "model_module_version": "1.1.0",
      "model_name": "LayoutModel",
      "state": {
       "justify_content": "center"
      }
     },
     "0ffe8980be244e34a00d59eef29b5f62": {
      "model_module": "@jupyter-widgets/base",
      "model_module_version": "1.1.0",
      "model_name": "LayoutModel",
      "state": {}
     },
     "1042764a61404a72b88dca25c0b2cc8f": {
      "model_module": "@jupyter-widgets/controls",
      "model_module_version": "1.4.0",
      "model_name": "DescriptionStyleModel",
      "state": {
       "description_width": ""
      }
     },
     "10683d0b19b147cdb0d92c22d6652f13": {
      "model_module": "@jupyter-widgets/base",
      "model_module_version": "1.1.0",
      "model_name": "LayoutModel",
      "state": {
       "width": "250px"
      }
     },
     "10e7511ff6c649818394e529b76cddec": {
      "model_module": "@jupyter-widgets/base",
      "model_module_version": "1.1.0",
      "model_name": "LayoutModel",
      "state": {
       "width": "250px"
      }
     },
     "11206b3bc4f54b418a0c36a3a19a9fee": {
      "model_module": "@jupyter-widgets/controls",
      "model_module_version": "1.4.0",
      "model_name": "CheckboxModel",
      "state": {
       "description": "lexikalische Ambiguität",
       "disabled": false,
       "layout": "IPY_MODEL_6a497985dc4e43c8b156538bbbf896b3",
       "style": "IPY_MODEL_038fee618f63444ebc9f854f8680b430",
       "value": false
      }
     },
     "11865fa0b8f84c6da9deab8ed6f881c1": {
      "model_module": "@jupyter-widgets/controls",
      "model_module_version": "1.4.0",
      "model_name": "CheckboxModel",
      "state": {
       "description": "Abnahme der Anzahl von Regeln",
       "disabled": false,
       "layout": "IPY_MODEL_6b61e15d0a0549b8a50047cf2fd60171",
       "style": "IPY_MODEL_fbaa22dec9684c7d9f8ad6fafaa4043a",
       "value": false
      }
     },
     "11a347eb6b8647898d4b38ae889117aa": {
      "model_module": "@jupyter-widgets/controls",
      "model_module_version": "1.4.0",
      "model_name": "CheckboxModel",
      "state": {
       "description": "kürzere Sätze",
       "disabled": false,
       "layout": "IPY_MODEL_d8e6922c11724fff9793b63717cb3ebf",
       "style": "IPY_MODEL_087e0891565a4e53be68bf469246d834",
       "value": false
      }
     },
     "11b52e0e0eb84f37a8c849e4faec3fe3": {
      "model_module": "@jupyter-widgets/base",
      "model_module_version": "1.1.0",
      "model_name": "LayoutModel",
      "state": {}
     },
     "1230f947fdd544e0a855d0033ef080de": {
      "model_module": "@jupyter-widgets/controls",
      "model_module_version": "1.4.0",
      "model_name": "CheckboxModel",
      "state": {
       "description": "Weil Vektoren normalisiert werden müssen, um bestimmte Funktionen zu lernen.",
       "disabled": false,
       "layout": "IPY_MODEL_a787135fe5ef4c69804c242ca4994e64",
       "style": "IPY_MODEL_d37bcb4676014d8c86df5cc0853c5257",
       "value": false
      }
     },
     "126623e2404042a988bbacbde691ff8f": {
      "model_module": "@jupyter-widgets/controls",
      "model_module_version": "1.4.0",
      "model_name": "ButtonModel",
      "state": {
       "description": "Korrekt?",
       "layout": "IPY_MODEL_6d22f169f2ef4378800dbec6418e8aa7",
       "style": "IPY_MODEL_6fdf830616394deea2f451132d4689a5"
      }
     },
     "12a71890b4dc454d94875d4a4587d1a6": {
      "model_module": "@jupyter-widgets/controls",
      "model_module_version": "1.4.0",
      "model_name": "VBoxModel",
      "state": {
       "children": [
        "IPY_MODEL_faeb029082644b8d848ab6f001c78b02",
        "IPY_MODEL_e46ce42583624823b9d012ff61c23ca1",
        "IPY_MODEL_999c4d73918d4bf698a4d1a205f74c62",
        "IPY_MODEL_470de447147d4dc59d197507678a4a77"
       ],
       "layout": "IPY_MODEL_2fb3ffea615d43209b94a3fdbdf1e976"
      }
     },
     "12ceba4816364b749d92f6ecb47b1d54": {
      "model_module": "@jupyter-widgets/controls",
      "model_module_version": "1.4.0",
      "model_name": "CheckboxModel",
      "state": {
       "description": "längere Sätze",
       "disabled": false,
       "layout": "IPY_MODEL_4456f6994f5e4d5fb685edebae4b1714",
       "style": "IPY_MODEL_1dd559d6fa7f4316abfa880b6532a12a",
       "value": false
      }
     },
     "12f6ea141a0c4388b80778aea5ea8fcc": {
      "model_module": "@jupyter-widgets/base",
      "model_module_version": "1.1.0",
      "model_name": "LayoutModel",
      "state": {
       "justify_content": "center"
      }
     },
     "135e0290b7744afa9a6ba9ea44f49188": {
      "model_module": "@jupyter-widgets/controls",
      "model_module_version": "1.4.0",
      "model_name": "VBoxModel",
      "state": {
       "children": [
        "IPY_MODEL_bdbe4982307647e2830f71484cafb924",
        "IPY_MODEL_9d854e98124d4af8915a2408a9642407",
        "IPY_MODEL_43e43b87d673418aad3767f360c2f31f",
        "IPY_MODEL_7801cef43681429d8d74cc172b2df265"
       ],
       "layout": "IPY_MODEL_57567ea5602649ca8ebf9b37b43af5a8"
      }
     },
     "13661fca8e574f54828d1f4071c97407": {
      "model_module": "@jupyter-widgets/controls",
      "model_module_version": "1.4.0",
      "model_name": "VBoxModel",
      "state": {
       "children": [
        "IPY_MODEL_d343830da98249c7bcf0ba09fbcf5518",
        "IPY_MODEL_eea5ad4a31884d22b4429e716428e063",
        "IPY_MODEL_199525d918764223ae330020224152b0",
        "IPY_MODEL_eb207a0302c8442481d4d38ef98c8fad"
       ],
       "layout": "IPY_MODEL_e89537df9c074cbbab324561d23738da"
      }
     },
     "138c2f000e6041558d62bae76a6f0c53": {
      "model_module": "@jupyter-widgets/controls",
      "model_module_version": "1.4.0",
      "model_name": "VBoxModel",
      "state": {
       "children": [
        "IPY_MODEL_c22a1ff3964e476388c93518cfd48d7a",
        "IPY_MODEL_84a329f278554e979ed09244b72e0c04",
        "IPY_MODEL_87ff8654fe1d417da9d28fb323505bf1",
        "IPY_MODEL_34944b2c958b444e9cd579bc1d2dd741"
       ],
       "layout": "IPY_MODEL_1bce3ea9224044d3b53154fb600e2dfa"
      }
     },
     "13bc15ab3c984c91a7ed916ac50d2781": {
      "model_module": "@jupyter-widgets/controls",
      "model_module_version": "1.4.0",
      "model_name": "ButtonModel",
      "state": {
       "description": "Korrekt?",
       "layout": "IPY_MODEL_3f0b6fc631a64f8583a2b63f38cd5090",
       "style": "IPY_MODEL_e647615bcbc94087885a07f9d7c9b011"
      }
     },
     "13d56f858538494680b5e65479a3adc6": {
      "model_module": "@jupyter-widgets/controls",
      "model_module_version": "1.4.0",
      "model_name": "VBoxModel",
      "state": {
       "children": [
        "IPY_MODEL_814e4d49316c4643a7a003facac72592",
        "IPY_MODEL_fcbb99459bf94e29b9fa756b33b402ac",
        "IPY_MODEL_0d50a7a2523c433db0ec26a2c49bd221",
        "IPY_MODEL_9ba12d91dcf04b11b7f7c8c9e0409c54"
       ],
       "layout": "IPY_MODEL_73cd5210b7e445d3a2bbaf972226d773"
      }
     },
     "140addaf057c4c0b80928ea3256bc01e": {
      "model_module": "@jupyter-widgets/base",
      "model_module_version": "1.1.0",
      "model_name": "LayoutModel",
      "state": {
       "width": "600px"
      }
     },
     "1411c2de37c34192a78ba428ec04c82d": {
      "model_module": "@jupyter-widgets/base",
      "model_module_version": "1.1.0",
      "model_name": "LayoutModel",
      "state": {}
     },
     "1426b20b66d34ca8a044ae521f5b5dc7": {
      "model_module": "@jupyter-widgets/controls",
      "model_module_version": "1.4.0",
      "model_name": "CheckboxModel",
      "state": {
       "description": "Weil Vektoren normalisiert werden müssen, um bestimmte Funktionen zu lernen.",
       "disabled": false,
       "layout": "IPY_MODEL_140addaf057c4c0b80928ea3256bc01e",
       "style": "IPY_MODEL_568464cc56a04c7dbba40b2a9aebd5dd",
       "value": false
      }
     },
     "143e25d5dfc34cde8bab199a720cfe12": {
      "model_module": "@jupyter-widgets/controls",
      "model_module_version": "1.4.0",
      "model_name": "DescriptionStyleModel",
      "state": {
       "description_width": ""
      }
     },
     "1448ee3ebde941c4a4ddf48a38659ab0": {
      "model_module": "@jupyter-widgets/controls",
      "model_module_version": "1.4.0",
      "model_name": "DescriptionStyleModel",
      "state": {
       "description_width": "initial"
      }
     },
     "14c9181c27d745d99f71faa4b32e451a": {
      "model_module": "@jupyter-widgets/controls",
      "model_module_version": "1.4.0",
      "model_name": "DescriptionStyleModel",
      "state": {
       "description_width": ""
      }
     },
     "14df82200c73477ea27195e3027d5a61": {
      "model_module": "@jupyter-widgets/controls",
      "model_module_version": "1.4.0",
      "model_name": "ButtonStyleModel",
      "state": {
       "button_color": "lightgreen"
      }
     },
     "150b09715d424b6e846dc5c4a61191cf": {
      "model_module": "@jupyter-widgets/base",
      "model_module_version": "1.1.0",
      "model_name": "LayoutModel",
      "state": {
       "width": "250px"
      }
     },
     "15bc60e3359a42c59b1aa291d8c0d8f7": {
      "model_module": "@jupyter-widgets/controls",
      "model_module_version": "1.4.0",
      "model_name": "ButtonStyleModel",
      "state": {
       "button_color": "lightgreen"
      }
     },
     "15d20b59697e46a085bc32c62ed5ad83": {
      "model_module": "@jupyter-widgets/base",
      "model_module_version": "1.1.0",
      "model_name": "LayoutModel",
      "state": {
       "width": "600px"
      }
     },
     "167dfb24d8c84bc4b11b4887527896b6": {
      "model_module": "@jupyter-widgets/controls",
      "model_module_version": "1.4.0",
      "model_name": "CheckboxModel",
      "state": {
       "description": "Attachment-Ambiguität",
       "disabled": false,
       "layout": "IPY_MODEL_4846ab9b25814f9c91f5537c4a6ba948",
       "style": "IPY_MODEL_69751303a06247e097f9b07a64b40f21",
       "value": false
      }
     },
     "1690ce5c6086478c9c867ad616cb0771": {
      "model_module": "@jupyter-widgets/controls",
      "model_module_version": "1.4.0",
      "model_name": "CheckboxModel",
      "state": {
       "description": "Zunahme der Anzahl von Regeln",
       "disabled": false,
       "layout": "IPY_MODEL_dd0cb8ebdb454fe59ccb83aff51f31fd",
       "style": "IPY_MODEL_e61e9ba33d52493882007c6072dc809c",
       "value": true
      }
     },
     "16e689c3534a40e4b80b08ab5d7e172d": {
      "model_module": "@jupyter-widgets/controls",
      "model_module_version": "1.4.0",
      "model_name": "DescriptionStyleModel",
      "state": {
       "description_width": ""
      }
     },
     "16ef4f95d67f4c99a40571b8ce83b52b": {
      "model_module": "@jupyter-widgets/base",
      "model_module_version": "1.1.0",
      "model_name": "LayoutModel",
      "state": {}
     },
     "1707d21b110c4008942b31a000e188b2": {
      "model_module": "@jupyter-widgets/base",
      "model_module_version": "1.1.0",
      "model_name": "LayoutModel",
      "state": {}
     },
     "172b6b667f3e4e6696fb69501c78ef9e": {
      "model_module": "@jupyter-widgets/base",
      "model_module_version": "1.1.0",
      "model_name": "LayoutModel",
      "state": {
       "width": "250px"
      }
     },
     "178c6bcc5e554430bac094a677ad7091": {
      "model_module": "@jupyter-widgets/base",
      "model_module_version": "1.1.0",
      "model_name": "LayoutModel",
      "state": {
       "width": "250px"
      }
     },
     "17c1608747fd447d87785d863cc135ce": {
      "model_module": "@jupyter-widgets/base",
      "model_module_version": "1.1.0",
      "model_name": "LayoutModel",
      "state": {
       "width": "600px"
      }
     },
     "18052dfad9c646a0bf798a40680eaf35": {
      "model_module": "@jupyter-widgets/base",
      "model_module_version": "1.1.0",
      "model_name": "LayoutModel",
      "state": {}
     },
     "1853854196df44718546ae74e0cd2913": {
      "model_module": "@jupyter-widgets/controls",
      "model_module_version": "1.4.0",
      "model_name": "CheckboxModel",
      "state": {
       "description": "strukturelle Ambiguität",
       "disabled": false,
       "layout": "IPY_MODEL_e1662bff2fc24e568b23f486ae73d881",
       "style": "IPY_MODEL_f2c316ee4e7145a1a430a2e3725c61f1",
       "value": false
      }
     },
     "188b190e9bfb4369ae0566824781d49f": {
      "model_module": "@jupyter-widgets/controls",
      "model_module_version": "1.4.0",
      "model_name": "CheckboxModel",
      "state": {
       "description": "strukturelle Ambiguität",
       "disabled": false,
       "layout": "IPY_MODEL_e79e1092d9f64acc9b121758c1b38bd1",
       "style": "IPY_MODEL_b6f1a06eacec464087608ac5d023c19b",
       "value": true
      }
     },
     "18a6fa931f0746d6997ab3c2777d8824": {
      "model_module": "@jupyter-widgets/controls",
      "model_module_version": "1.4.0",
      "model_name": "HTMLModel",
      "state": {
       "layout": "IPY_MODEL_f31b532cb82a4b579ebe26f25e562d18",
       "style": "IPY_MODEL_558789c85002477d88f928da64e0c4c2",
       "value": "<h4 style=\"font-size:14px;\">Nach welchem Kriterium wird beim Parsen mit dem InsideChartParser (= <i>Lowest-Cost-First</i>-Strategie) die <i>edge queue</i> sortiert?</h4>"
      }
     },
     "18e89570b376485aac39e94607d67b7d": {
      "model_module": "@jupyter-widgets/controls",
      "model_module_version": "1.4.0",
      "model_name": "HTMLModel",
      "state": {
       "layout": "IPY_MODEL_0e36665b41384d2db6ef357ba844757b",
       "style": "IPY_MODEL_de9b4c03551241c4b09741c14696ce04",
       "value": "<i>Wählen Sie die zwei korrekten Antworten aus.</i>"
      }
     },
     "1991d8074160453c8a074e57290848f6": {
      "model_module": "@jupyter-widgets/base",
      "model_module_version": "1.1.0",
      "model_name": "LayoutModel",
      "state": {}
     },
     "199525d918764223ae330020224152b0": {
      "model_module": "@jupyter-widgets/controls",
      "model_module_version": "1.4.0",
      "model_name": "CheckboxModel",
      "state": {
       "description": "kürzere Sätze",
       "disabled": false,
       "layout": "IPY_MODEL_e12224320d9c447580541938167ea001",
       "style": "IPY_MODEL_00d6b2ac958b49dcbec6189810b7260c",
       "value": false
      }
     },
     "19a156b3e33741b5a102d56d36b5a4e8": {
      "model_module": "@jupyter-widgets/controls",
      "model_module_version": "1.4.0",
      "model_name": "CheckboxModel",
      "state": {
       "description": "Weil eine valide Wahrscheinlichkeitsverteilung nur mit Normalisierung gelernt werden kann.",
       "disabled": false,
       "layout": "IPY_MODEL_526acd6723894a2fa704d0d9113d4f72",
       "style": "IPY_MODEL_e197d0e8343c4ef09a200bb43ba697b1",
       "value": false
      }
     },
     "19b16060f663495e92c306317bb80458": {
      "model_module": "@jupyter-widgets/controls",
      "model_module_version": "1.4.0",
      "model_name": "CheckboxModel",
      "state": {
       "description": "Weil die zwei Schichten sonst nicht mehr lernen können als nur eine Schicht.",
       "disabled": false,
       "layout": "IPY_MODEL_497dd3356c9544d48125dc6726073369",
       "style": "IPY_MODEL_2e817d2a2f0c4c35b5d56fd9c57a4c4b",
       "value": false
      }
     },
     "19cb2cb3dadb4d81acfa9cfe6818625d": {
      "model_module": "@jupyter-widgets/base",
      "model_module_version": "1.1.0",
      "model_name": "LayoutModel",
      "state": {
       "width": "600px"
      }
     },
     "19ce399be32d4597b611a371cf9e0bf7": {
      "model_module": "@jupyter-widgets/base",
      "model_module_version": "1.1.0",
      "model_name": "LayoutModel",
      "state": {}
     },
     "19fea70112c94f6dae42f36e84659179": {
      "model_module": "@jupyter-widgets/controls",
      "model_module_version": "1.4.0",
      "model_name": "CheckboxModel",
      "state": {
       "description": "Weil die zwei Schichten sonst nicht mehr lernen können als nur eine Schicht.",
       "disabled": false,
       "layout": "IPY_MODEL_7649c0381d3844ee9e37038ed9c8a1f4",
       "style": "IPY_MODEL_ea86543a8e4640b0acf0e0f7658c4ac8",
       "value": true
      }
     },
     "1a3ccca0d0364445a158c17516dbaaa2": {
      "model_module": "@jupyter-widgets/controls",
      "model_module_version": "1.4.0",
      "model_name": "CheckboxModel",
      "state": {
       "description": "Weil nicht-lineare Funktionen die Effizienz des Netzwerks verbessern.",
       "disabled": false,
       "layout": "IPY_MODEL_6ac8bf58c4594a708b502078fc701407",
       "style": "IPY_MODEL_e0ebe9fffe60456194ede764a7df1f25",
       "value": false
      }
     },
     "1a54c0d0993d4bdaaca64d0e3c4df52b": {
      "model_module": "@jupyter-widgets/controls",
      "model_module_version": "1.4.0",
      "model_name": "CheckboxModel",
      "state": {
       "description": "Weil die zwei Schichten sonst nicht mehr lernen können als nur eine Schicht.",
       "disabled": false,
       "layout": "IPY_MODEL_449f359df5594ddf81f29ba35c8e7631",
       "style": "IPY_MODEL_4961db55a37e41dfac87f6d7397434c0",
       "value": true
      }
     },
     "1a67a823dceb483cbf385a12dd1cb8f7": {
      "model_module": "@jupyter-widgets/controls",
      "model_module_version": "1.4.0",
      "model_name": "CheckboxModel",
      "state": {
       "description": "Zunahme der Anzahl von Regeln",
       "disabled": false,
       "layout": "IPY_MODEL_f7b3f20458cf4ea1ae4809f6e1b9720d",
       "style": "IPY_MODEL_32d7e77eb2674195be9cc9923e59035b",
       "value": false
      }
     },
     "1af2dd329056481da7d24c6618ab18e8": {
      "model_module": "@jupyter-widgets/base",
      "model_module_version": "1.1.0",
      "model_name": "LayoutModel",
      "state": {}
     },
     "1bc470fe18904d3fb1045ca34becae13": {
      "model_module": "@jupyter-widgets/base",
      "model_module_version": "1.1.0",
      "model_name": "LayoutModel",
      "state": {
       "width": "600px"
      }
     },
     "1bce3ea9224044d3b53154fb600e2dfa": {
      "model_module": "@jupyter-widgets/base",
      "model_module_version": "1.1.0",
      "model_name": "LayoutModel",
      "state": {}
     },
     "1becf4ff15da49e5b6e8ca15aab1853a": {
      "model_module": "@jupyter-widgets/base",
      "model_module_version": "1.1.0",
      "model_name": "LayoutModel",
      "state": {}
     },
     "1c563b49567b4270b54e8c1b3907fb3f": {
      "model_module": "@jupyter-widgets/controls",
      "model_module_version": "1.4.0",
      "model_name": "VBoxModel",
      "state": {
       "children": [
        "IPY_MODEL_e2368c74589c40998c3e320cab9fc253",
        "IPY_MODEL_adf1eb26d9e9499a8c48ef2988fc55ca",
        "IPY_MODEL_a91b23b3c94c4b67954473925f0658ee"
       ],
       "layout": "IPY_MODEL_632f68933578424cb804fa524030d8ed"
      }
     },
     "1d3c3221345e483caffd3d87b0efcc86": {
      "model_module": "@jupyter-widgets/base",
      "model_module_version": "1.1.0",
      "model_name": "LayoutModel",
      "state": {}
     },
     "1d3f83d44797438c9fa710ebda016687": {
      "model_module": "@jupyter-widgets/base",
      "model_module_version": "1.1.0",
      "model_name": "LayoutModel",
      "state": {}
     },
     "1d58bb1468a742d0b0d14bea410aa6f7": {
      "model_module": "@jupyter-widgets/controls",
      "model_module_version": "1.4.0",
      "model_name": "VBoxModel",
      "state": {
       "children": [
        "IPY_MODEL_167dfb24d8c84bc4b11b4887527896b6",
        "IPY_MODEL_795982b945984f2da72de66b0fb5a2ef",
        "IPY_MODEL_3ff8795e8eec4f4eaf4551f29a2f2735",
        "IPY_MODEL_db42e756bf5348548683f63323cf0254"
       ],
       "layout": "IPY_MODEL_f6e753def5f4420da089b784fa03e062"
      }
     },
     "1d81a575e28f42f68836638c70292010": {
      "model_module": "@jupyter-widgets/controls",
      "model_module_version": "1.4.0",
      "model_name": "CheckboxModel",
      "state": {
       "description": "kürzere Sätze",
       "disabled": false,
       "layout": "IPY_MODEL_82344b2bb15c40ddb2509bc1273dcd69",
       "style": "IPY_MODEL_a2560c5ca168458e933f58ffcfc32367",
       "value": false
      }
     },
     "1d98540f4cc3456b9df3de3f05f74be8": {
      "model_module": "@jupyter-widgets/controls",
      "model_module_version": "1.4.0",
      "model_name": "CheckboxModel",
      "state": {
       "description": "lexikalische Ambiguität",
       "disabled": false,
       "layout": "IPY_MODEL_b0e1673220ff4f14a41ecab0d00aad4f",
       "style": "IPY_MODEL_d9d9cba6e4994be99d4d6d20c529aaa0",
       "value": true
      }
     },
     "1dd559d6fa7f4316abfa880b6532a12a": {
      "model_module": "@jupyter-widgets/controls",
      "model_module_version": "1.4.0",
      "model_name": "DescriptionStyleModel",
      "state": {
       "description_width": "initial"
      }
     },
     "1dfa113b109a48198abe36dbba25530c": {
      "model_module": "@jupyter-widgets/controls",
      "model_module_version": "1.4.0",
      "model_name": "CheckboxModel",
      "state": {
       "description": "Finden aller Konstituenten",
       "disabled": false,
       "layout": "IPY_MODEL_a227c5ef3bb94e148bfa196b73b961bd",
       "style": "IPY_MODEL_c15b6d5824634fcda84ac366fcb9b584",
       "value": false
      }
     },
     "1e08814904944ae9ab97ff09e9444d25": {
      "model_module": "@jupyter-widgets/controls",
      "model_module_version": "1.4.0",
      "model_name": "DescriptionStyleModel",
      "state": {
       "description_width": "initial"
      }
     },
     "1e12d1e676ef4db18cbdabc67a3ed58b": {
      "model_module": "@jupyter-widgets/base",
      "model_module_version": "1.1.0",
      "model_name": "LayoutModel",
      "state": {
       "width": "600px"
      }
     },
     "1e7d1ef3f3b24145bd06129bb85a698e": {
      "model_module": "@jupyter-widgets/controls",
      "model_module_version": "1.4.0",
      "model_name": "CheckboxModel",
      "state": {
       "description": "Koordinierungsambigutiät",
       "disabled": false,
       "layout": "IPY_MODEL_991387d16865484793712d618d89cf61",
       "style": "IPY_MODEL_312fd00ed68547458831e0354b96a45a",
       "value": false
      }
     },
     "1f14a508404a47df8ecc2e72ee697e9e": {
      "model_module": "@jupyter-widgets/base",
      "model_module_version": "1.1.0",
      "model_name": "LayoutModel",
      "state": {}
     },
     "1f583e7618aa42aa9bee5c40d8e95a20": {
      "model_module": "@jupyter-widgets/controls",
      "model_module_version": "1.4.0",
      "model_name": "ButtonStyleModel",
      "state": {}
     },
     "1f6c15d57df14e33a44baa173e9b1787": {
      "model_module": "@jupyter-widgets/base",
      "model_module_version": "1.1.0",
      "model_name": "LayoutModel",
      "state": {
       "width": "600px"
      }
     },
     "1f8a91d86eea4004b3ae754648cb399b": {
      "model_module": "@jupyter-widgets/controls",
      "model_module_version": "1.4.0",
      "model_name": "ButtonModel",
      "state": {
       "description": "Korrekt?",
       "layout": "IPY_MODEL_c82315f07ee041c3bb33035f3fa237d7",
       "style": "IPY_MODEL_7d1550d09078425ca6fa87260548add4"
      }
     },
     "1fb3f73891404ab9b710c6fa5909027a": {
      "model_module": "@jupyter-widgets/controls",
      "model_module_version": "1.4.0",
      "model_name": "DescriptionStyleModel",
      "state": {
       "description_width": "initial"
      }
     },
     "1fce46871e59403a91a5611663f22fe3": {
      "model_module": "@jupyter-widgets/base",
      "model_module_version": "1.1.0",
      "model_name": "LayoutModel",
      "state": {
       "justify_content": "center"
      }
     },
     "205530abb7a94371b8e7753277792b60": {
      "model_module": "@jupyter-widgets/base",
      "model_module_version": "1.1.0",
      "model_name": "LayoutModel",
      "state": {}
     },
     "2064bc2d4a7045e4b8c5b97c951c255e": {
      "model_module": "@jupyter-widgets/controls",
      "model_module_version": "1.4.0",
      "model_name": "ButtonModel",
      "state": {
       "description": "nach der beam-size",
       "layout": "IPY_MODEL_3006db9cd3c94ec5af49f34df37e7111",
       "style": "IPY_MODEL_6f93e40c26a34d47a146e28cc39534f4"
      }
     },
     "20cf194d912341e281761a64352a5b2d": {
      "model_module": "@jupyter-widgets/controls",
      "model_module_version": "1.4.0",
      "model_name": "ButtonModel",
      "state": {
       "description": "Korrekt?",
       "layout": "IPY_MODEL_bb10687f9b4e454d986ad0a0407483dd",
       "style": "IPY_MODEL_39c37e334c1f4aea87de8a9dbf51225c"
      }
     },
     "217f915f319d40dca46a9d71a3c1f4b0": {
      "model_module": "@jupyter-widgets/controls",
      "model_module_version": "1.4.0",
      "model_name": "DescriptionStyleModel",
      "state": {
       "description_width": "initial"
      }
     },
     "21912a69c3574706865e68f570d98043": {
      "model_module": "@jupyter-widgets/controls",
      "model_module_version": "1.4.0",
      "model_name": "HTMLModel",
      "state": {
       "layout": "IPY_MODEL_3a4820a0d53046ab830deabf9f2f4725",
       "style": "IPY_MODEL_fd7c3256c5f448c488802ca9fc447641",
       "value": "<h4 style=\"font-size:14px;\">Welche zwei Arten von Ambiguität unterscheidet man hier?</h4>"
      }
     },
     "21ec70104d584eaa81fd845c9804352a": {
      "model_module": "@jupyter-widgets/controls",
      "model_module_version": "1.4.0",
      "model_name": "VBoxModel",
      "state": {
       "children": [
        "IPY_MODEL_dd2d3845604f4fbf9512fbc87626eaac",
        "IPY_MODEL_340e5164fc1844caa4fd838f38e5a19e",
        "IPY_MODEL_61553485bdbb4ba6b8ac8aa2aafeb196"
       ],
       "layout": "IPY_MODEL_6b519c84624548c9b0e6d1065d3eae4b"
      }
     },
     "22b434a7277f401096d042c4c19a1d98": {
      "model_module": "@jupyter-widgets/base",
      "model_module_version": "1.1.0",
      "model_name": "LayoutModel",
      "state": {}
     },
     "22d9327359c345d39afa47761cbd451b": {
      "model_module": "@jupyter-widgets/controls",
      "model_module_version": "1.4.0",
      "model_name": "ButtonStyleModel",
      "state": {
       "button_color": "lightgreen"
      }
     },
     "22e8730d41be4afcb11df53b9e710cee": {
      "model_module": "@jupyter-widgets/controls",
      "model_module_version": "1.4.0",
      "model_name": "CheckboxModel",
      "state": {
       "description": "Attachment-Ambiguität",
       "disabled": false,
       "layout": "IPY_MODEL_5245cdb3c27b415aa9ffbc5b80ee6c85",
       "style": "IPY_MODEL_955c090fcda3465680c03bd37219326b",
       "value": false
      }
     },
     "2345e35e4a284328a07fcaade617e0ff": {
      "model_module": "@jupyter-widgets/controls",
      "model_module_version": "1.4.0",
      "model_name": "HBoxModel",
      "state": {
       "children": [
        "IPY_MODEL_69656180faef4a9b8c3861f9d83234ae",
        "IPY_MODEL_48c59a760d2f4196abe543870edbb5f6"
       ],
       "layout": "IPY_MODEL_4c71f2481d254c3da071779879c581a3"
      }
     },
     "237f10e0287c4a13ac3deaad0bad29c9": {
      "model_module": "@jupyter-widgets/controls",
      "model_module_version": "1.4.0",
      "model_name": "ButtonModel",
      "state": {
       "description": "Korrekt?",
       "layout": "IPY_MODEL_bf905861e4e04469a2253bf213eb422c",
       "style": "IPY_MODEL_619e6abe59ff4b4ba4d1e996b2b98454"
      }
     },
     "23aabfb40c184217a661f98cbe0e98c5": {
      "model_module": "@jupyter-widgets/controls",
      "model_module_version": "1.4.0",
      "model_name": "DescriptionStyleModel",
      "state": {
       "description_width": ""
      }
     },
     "23dc3fe7b534478f9bcb7f0a79cfde2f": {
      "model_module": "@jupyter-widgets/controls",
      "model_module_version": "1.4.0",
      "model_name": "CheckboxModel",
      "state": {
       "description": "strukturelle Ambiguität",
       "disabled": false,
       "layout": "IPY_MODEL_f5b1067394ae4e8b8bad9c85b2a501f7",
       "style": "IPY_MODEL_6c7d6cb414774219b5ddf5160de86855",
       "value": false
      }
     },
     "23fb5367b8074da981a38d6522e53f1b": {
      "model_module": "@jupyter-widgets/controls",
      "model_module_version": "1.4.0",
      "model_name": "DescriptionStyleModel",
      "state": {
       "description_width": "initial"
      }
     },
     "2480978ceda44296ab99ac1a0fd91845": {
      "model_module": "@jupyter-widgets/controls",
      "model_module_version": "1.4.0",
      "model_name": "DescriptionStyleModel",
      "state": {
       "description_width": "initial"
      }
     },
     "24f26f7074a84f8bb6a6cb88d6b570ee": {
      "model_module": "@jupyter-widgets/base",
      "model_module_version": "1.1.0",
      "model_name": "LayoutModel",
      "state": {
       "width": "600px"
      }
     },
     "25001a8f326e41d0912a5e75d8faa407": {
      "model_module": "@jupyter-widgets/base",
      "model_module_version": "1.1.0",
      "model_name": "LayoutModel",
      "state": {
       "width": "600px"
      }
     },
     "2508007d28e74d499c15e17785d0fbef": {
      "model_module": "@jupyter-widgets/controls",
      "model_module_version": "1.4.0",
      "model_name": "CheckboxModel",
      "state": {
       "description": "Weil eine valide Wahrscheinlichkeitsverteilung nur mit Normalisierung gelernt werden kann.",
       "disabled": false,
       "layout": "IPY_MODEL_8d73592380c5483a8a3b281deef8f9af",
       "style": "IPY_MODEL_8604e6865fbc4795bedf3b15076ae86c",
       "value": false
      }
     },
     "2562d772f7e445aba335fabf8b5eec9c": {
      "model_module": "@jupyter-widgets/controls",
      "model_module_version": "1.4.0",
      "model_name": "CheckboxModel",
      "state": {
       "description": "Bestimmung der Köpfe und Dependenzrelationen",
       "disabled": false,
       "layout": "IPY_MODEL_a4001c3f7d9d4d2cbdf07d677c6245f8",
       "style": "IPY_MODEL_f4f5217143b24745a26dad41737d3468",
       "value": false
      }
     },
     "25645043c95345939fafa95c8de2a661": {
      "model_module": "@jupyter-widgets/base",
      "model_module_version": "1.1.0",
      "model_name": "LayoutModel",
      "state": {}
     },
     "25afef7f388d47b8a5c3b811506f7bd4": {
      "model_module": "@jupyter-widgets/controls",
      "model_module_version": "1.4.0",
      "model_name": "VBoxModel",
      "state": {
       "children": [
        "IPY_MODEL_ad7e05a5bbc24ecf96697df30961f193",
        "IPY_MODEL_c1244cab331b45b2a72eed00bd515922",
        "IPY_MODEL_82505ba3f6d546b3b495c144b0796e85",
        "IPY_MODEL_f47830f0e80747eea69f66df9a197367"
       ],
       "layout": "IPY_MODEL_39bf43716ea1414495897d7adad596d7"
      }
     },
     "25c91f7590da4c4eb1b7ea034213ab0f": {
      "model_module": "@jupyter-widgets/controls",
      "model_module_version": "1.4.0",
      "model_name": "VBoxModel",
      "state": {
       "children": [
        "IPY_MODEL_c88d88fe39414c8f8b428115ddbf1312",
        "IPY_MODEL_36e33b048bfd445694477e4741691c43",
        "IPY_MODEL_a8bdb50ae3e44246821698d31acce7ac",
        "IPY_MODEL_3f1682a599b74736af8619857208d6c4"
       ],
       "layout": "IPY_MODEL_f615b27ac32c42caa91d7af72c73836a"
      }
     },
     "25e9526c4d2242d2bb53ed454d065c6d": {
      "model_module": "@jupyter-widgets/base",
      "model_module_version": "1.1.0",
      "model_name": "LayoutModel",
      "state": {}
     },
     "2635012e7ace40f98bdb3fd97fd31690": {
      "model_module": "@jupyter-widgets/controls",
      "model_module_version": "1.4.0",
      "model_name": "ButtonModel",
      "state": {
       "description": "Korrekt?",
       "layout": "IPY_MODEL_f3987e7044354260b2f036a6916c9122",
       "style": "IPY_MODEL_7ca1eecd524e4ac08caa53de8a0fbc12"
      }
     },
     "27c85637267148aebe26e2f12783be09": {
      "model_module": "@jupyter-widgets/controls",
      "model_module_version": "1.4.0",
      "model_name": "CheckboxModel",
      "state": {
       "description": "Weil eine valide Wahrscheinlichkeitsverteilung nur mit Normalisierung gelernt werden kann.",
       "disabled": false,
       "layout": "IPY_MODEL_25001a8f326e41d0912a5e75d8faa407",
       "style": "IPY_MODEL_3435c2dbf08447fb82068f4bc724620f",
       "value": false
      }
     },
     "28154a8050124057b857eddb88ec9011": {
      "model_module": "@jupyter-widgets/controls",
      "model_module_version": "1.4.0",
      "model_name": "DescriptionStyleModel",
      "state": {
       "description_width": "initial"
      }
     },
     "288ea698672b438683ec1c78edbd06d6": {
      "model_module": "@jupyter-widgets/base",
      "model_module_version": "1.1.0",
      "model_name": "LayoutModel",
      "state": {
       "width": "600px"
      }
     },
     "2a221321c96a4397a7936f9401212c00": {
      "model_module": "@jupyter-widgets/controls",
      "model_module_version": "1.4.0",
      "model_name": "DescriptionStyleModel",
      "state": {
       "description_width": ""
      }
     },
     "2a487082c72740fdb07486eccea6bb86": {
      "model_module": "@jupyter-widgets/controls",
      "model_module_version": "1.4.0",
      "model_name": "DescriptionStyleModel",
      "state": {
       "description_width": ""
      }
     },
     "2a9fad8cdc5046328a12de8f585a9f8f": {
      "model_module": "@jupyter-widgets/base",
      "model_module_version": "1.1.0",
      "model_name": "LayoutModel",
      "state": {}
     },
     "2ac30cf686154b8ea106bd921e8b70e0": {
      "model_module": "@jupyter-widgets/controls",
      "model_module_version": "1.4.0",
      "model_name": "HTMLModel",
      "state": {
       "layout": "IPY_MODEL_3e116e8256324a7c92bc1d6078c1a15f",
       "style": "IPY_MODEL_b656789d6a9741f9842fd6ceda9d37dc",
       "value": "<h4 style=\"font-size:14px;\">Welche zwei Arten von Ambiguität unterscheidet man hier?</h4>"
      }
     },
     "2af75832b6344dbf875156263c5e6d3e": {
      "model_module": "@jupyter-widgets/base",
      "model_module_version": "1.1.0",
      "model_name": "LayoutModel",
      "state": {
       "width": "600px"
      }
     },
     "2b01bce964ed4d439595d16b569bca93": {
      "model_module": "@jupyter-widgets/controls",
      "model_module_version": "1.4.0",
      "model_name": "VBoxModel",
      "state": {
       "children": [
        "IPY_MODEL_eec6e6ebddd34954897be53486a3be4a",
        "IPY_MODEL_fa647b4486b4423ab2dc541b2818f5a8",
        "IPY_MODEL_36c966538486487cbf7a141f4e88ce65",
        "IPY_MODEL_a280571b5dea418194a6a12b1aa13059"
       ],
       "layout": "IPY_MODEL_b4045d467afe4c24ac5a1c4bc12013be"
      }
     },
     "2b1979628d6047e39ded5f1cfcfa6718": {
      "model_module": "@jupyter-widgets/controls",
      "model_module_version": "1.4.0",
      "model_name": "DescriptionStyleModel",
      "state": {
       "description_width": "initial"
      }
     },
     "2bad121f43404d68b6e3a551410c8bec": {
      "model_module": "@jupyter-widgets/base",
      "model_module_version": "1.1.0",
      "model_name": "LayoutModel",
      "state": {
       "width": "600px"
      }
     },
     "2baf0a27879d48ee890c90da80c7da61": {
      "model_module": "@jupyter-widgets/base",
      "model_module_version": "1.1.0",
      "model_name": "LayoutModel",
      "state": {}
     },
     "2bf45330f6a04bb198d8a16ec8e081f3": {
      "model_module": "@jupyter-widgets/controls",
      "model_module_version": "1.4.0",
      "model_name": "CheckboxModel",
      "state": {
       "description": "Bestimmung des wahrscheinlichsten Syntaxbaums",
       "disabled": false,
       "layout": "IPY_MODEL_fa5881be959c4545b0d4457f0b452b34",
       "style": "IPY_MODEL_b9fb3e879d444403a1a33d08fc404ad8",
       "value": true
      }
     },
     "2bf9869896ef47c3bb2b245df37dbfc5": {
      "model_module": "@jupyter-widgets/controls",
      "model_module_version": "1.4.0",
      "model_name": "VBoxModel",
      "state": {
       "children": [
        "IPY_MODEL_9f424f491e8c4970bca6d1f57201c527",
        "IPY_MODEL_9b767ef19ace4786b76e819cdd773dc5",
        "IPY_MODEL_13d56f858538494680b5e65479a3adc6",
        "IPY_MODEL_5481c451e7684bedb2b1ad91d4864a85"
       ],
       "layout": "IPY_MODEL_96f7fd4de37149ecaa39b2adc04ecfc7"
      }
     },
     "2c6ee79d631345b989b005a610c1e10a": {
      "model_module": "@jupyter-widgets/controls",
      "model_module_version": "1.4.0",
      "model_name": "VBoxModel",
      "state": {
       "children": [
        "IPY_MODEL_56d6b3ce586f4c0a91fd675544e1cb9c",
        "IPY_MODEL_0b2d8c8b5b2a4f879b5b81880c57ca77",
        "IPY_MODEL_135e0290b7744afa9a6ba9ea44f49188",
        "IPY_MODEL_70bd00359ffc4335ac86b8257ae62597"
       ],
       "layout": "IPY_MODEL_8c10c4939c744eacb6f7b7f591581bfc"
      }
     },
     "2cd5ed5b1e3e4aafacc8246301417cde": {
      "model_module": "@jupyter-widgets/controls",
      "model_module_version": "1.4.0",
      "model_name": "HTMLModel",
      "state": {
       "layout": "IPY_MODEL_d22a73743a9d46ceb9a192689b0f91d5",
       "style": "IPY_MODEL_cff4b3583f58426a8d986b5c025340fc",
       "value": "<h4 style=\"font-size:14px;\">Welche der folgenden Bedingungen wird an eine PCFG gestellt?</h4>"
      }
     },
     "2cf6ca5e6add4664bc50ed99ca530a24": {
      "model_module": "@jupyter-widgets/controls",
      "model_module_version": "1.4.0",
      "model_name": "CheckboxModel",
      "state": {
       "description": "Weil nicht-lineare Funktionen die Effizienz des Netzwerks verbessern.",
       "disabled": false,
       "layout": "IPY_MODEL_002b1b0b255f4b91baf0064cc4656c2a",
       "style": "IPY_MODEL_976765dbb63b442cbfa6ea061d39be62",
       "value": false
      }
     },
     "2cf9f5a5c10c40369b0a41bf511beb0c": {
      "model_module": "@jupyter-widgets/controls",
      "model_module_version": "1.4.0",
      "model_name": "DescriptionStyleModel",
      "state": {
       "description_width": "initial"
      }
     },
     "2d15c17b924b4399bda81db5666cb215": {
      "model_module": "@jupyter-widgets/controls",
      "model_module_version": "1.4.0",
      "model_name": "DescriptionStyleModel",
      "state": {
       "description_width": "initial"
      }
     },
     "2d23bdd63bd54a9c8e2934d8554c7c46": {
      "model_module": "@jupyter-widgets/controls",
      "model_module_version": "1.4.0",
      "model_name": "DescriptionStyleModel",
      "state": {
       "description_width": ""
      }
     },
     "2d5ee23d21814bbcb46ceb7c4bc4e3c5": {
      "model_module": "@jupyter-widgets/base",
      "model_module_version": "1.1.0",
      "model_name": "LayoutModel",
      "state": {
       "width": "600px"
      }
     },
     "2d775716052e4b38a1ebbc9e8569e87d": {
      "model_module": "@jupyter-widgets/base",
      "model_module_version": "1.1.0",
      "model_name": "LayoutModel",
      "state": {}
     },
     "2da1ca0d00114135a325f8ee3eab9de8": {
      "model_module": "@jupyter-widgets/base",
      "model_module_version": "1.1.0",
      "model_name": "LayoutModel",
      "state": {
       "width": "600px"
      }
     },
     "2e0d0bed341b466ea8707da45f4d8c54": {
      "model_module": "@jupyter-widgets/controls",
      "model_module_version": "1.4.0",
      "model_name": "HTMLModel",
      "state": {
       "layout": "IPY_MODEL_941ab6d1e70c48238cc5db6b6e5fa5ea",
       "style": "IPY_MODEL_03b72cdadb934098b5445cc668468f8f",
       "value": "<i>Wählen Sie die <ins>eine</ins> korrekte Antwort aus: </i>"
      }
     },
     "2e237d32179346188a05fc0e52d3b9fa": {
      "model_module": "@jupyter-widgets/controls",
      "model_module_version": "1.4.0",
      "model_name": "DescriptionStyleModel",
      "state": {
       "description_width": ""
      }
     },
     "2e316ef9ec1c4753950e56da716359ac": {
      "model_module": "@jupyter-widgets/controls",
      "model_module_version": "1.4.0",
      "model_name": "DescriptionStyleModel",
      "state": {
       "description_width": ""
      }
     },
     "2e44970ee874410eb43ba9be3307c0f1": {
      "model_module": "@jupyter-widgets/base",
      "model_module_version": "1.1.0",
      "model_name": "LayoutModel",
      "state": {
       "justify_content": "center"
      }
     },
     "2e5e42b1fe5a4ff6acecc6bd9756767b": {
      "model_module": "@jupyter-widgets/controls",
      "model_module_version": "1.4.0",
      "model_name": "VBoxModel",
      "state": {
       "children": [
        "IPY_MODEL_4fa4f6b3c0414f8c9c924399fccbe51f",
        "IPY_MODEL_d6d4d6dec3064111bd24a56bde5c038f",
        "IPY_MODEL_0756024f91a84bada94db03367e71a5e",
        "IPY_MODEL_1853854196df44718546ae74e0cd2913"
       ],
       "layout": "IPY_MODEL_cc88ad63040b42a3a89c22af5364889c"
      }
     },
     "2e817d2a2f0c4c35b5d56fd9c57a4c4b": {
      "model_module": "@jupyter-widgets/controls",
      "model_module_version": "1.4.0",
      "model_name": "DescriptionStyleModel",
      "state": {
       "description_width": "initial"
      }
     },
     "2eab6e82609340c58fdccd8d333873a9": {
      "model_module": "@jupyter-widgets/controls",
      "model_module_version": "1.4.0",
      "model_name": "VBoxModel",
      "state": {
       "children": [
        "IPY_MODEL_5d2eeb49ef234cd58b8001336af46877",
        "IPY_MODEL_ce23e0d350d94adb929e3e4eef455d7e",
        "IPY_MODEL_13661fca8e574f54828d1f4071c97407",
        "IPY_MODEL_126623e2404042a988bbacbde691ff8f"
       ],
       "layout": "IPY_MODEL_d563a75564d8410ca82b81cce6d736a3"
      }
     },
     "2eb81fa80d9c44efb16062246e3a95ae": {
      "model_module": "@jupyter-widgets/controls",
      "model_module_version": "1.4.0",
      "model_name": "DescriptionStyleModel",
      "state": {
       "description_width": ""
      }
     },
     "2efe1596303546f898fc909768cdddb6": {
      "model_module": "@jupyter-widgets/controls",
      "model_module_version": "1.4.0",
      "model_name": "DescriptionStyleModel",
      "state": {
       "description_width": ""
      }
     },
     "2f09278cfbde4b339130c93932f99211": {
      "model_module": "@jupyter-widgets/base",
      "model_module_version": "1.1.0",
      "model_name": "LayoutModel",
      "state": {
       "width": "250px"
      }
     },
     "2f8845778a584798b4903ffb9d9851c1": {
      "model_module": "@jupyter-widgets/controls",
      "model_module_version": "1.4.0",
      "model_name": "DescriptionStyleModel",
      "state": {
       "description_width": "initial"
      }
     },
     "2f88ce5c2eff4dbea4cb2434cd5c900c": {
      "model_module": "@jupyter-widgets/base",
      "model_module_version": "1.1.0",
      "model_name": "LayoutModel",
      "state": {
       "width": "600px"
      }
     },
     "2fa548ed63b942d2b21e2deca94a4534": {
      "model_module": "@jupyter-widgets/base",
      "model_module_version": "1.1.0",
      "model_name": "LayoutModel",
      "state": {
       "width": "250px"
      }
     },
     "2fb3ffea615d43209b94a3fdbdf1e976": {
      "model_module": "@jupyter-widgets/base",
      "model_module_version": "1.1.0",
      "model_name": "LayoutModel",
      "state": {}
     },
     "3006db9cd3c94ec5af49f34df37e7111": {
      "model_module": "@jupyter-widgets/base",
      "model_module_version": "1.1.0",
      "model_name": "LayoutModel",
      "state": {
       "width": "250px"
      }
     },
     "30ef9dfa4c4846639e461ee01c0d3524": {
      "model_module": "@jupyter-widgets/controls",
      "model_module_version": "1.4.0",
      "model_name": "DescriptionStyleModel",
      "state": {
       "description_width": "initial"
      }
     },
     "310cbe4a90c44076ad12f9964fa7ff23": {
      "model_module": "@jupyter-widgets/controls",
      "model_module_version": "1.4.0",
      "model_name": "DescriptionStyleModel",
      "state": {
       "description_width": "initial"
      }
     },
     "312fd00ed68547458831e0354b96a45a": {
      "model_module": "@jupyter-widgets/controls",
      "model_module_version": "1.4.0",
      "model_name": "DescriptionStyleModel",
      "state": {
       "description_width": "initial"
      }
     },
     "314b8cd22688454a9ec2e41c3376b12b": {
      "model_module": "@jupyter-widgets/base",
      "model_module_version": "1.1.0",
      "model_name": "LayoutModel",
      "state": {
       "width": "600px"
      }
     },
     "318140fd13764e7a813f73b0a417afd3": {
      "model_module": "@jupyter-widgets/base",
      "model_module_version": "1.1.0",
      "model_name": "LayoutModel",
      "state": {}
     },
     "31822e5bab214a5b957e94664099fa39": {
      "model_module": "@jupyter-widgets/base",
      "model_module_version": "1.1.0",
      "model_name": "LayoutModel",
      "state": {
       "width": "600px"
      }
     },
     "319a82614e934cb9970ee81a9ac6b08f": {
      "model_module": "@jupyter-widgets/controls",
      "model_module_version": "1.4.0",
      "model_name": "HTMLModel",
      "state": {
       "layout": "IPY_MODEL_f4d7daad209a4d9fbf7d6957e5f88e95",
       "style": "IPY_MODEL_5fa63efe1d4d43cdb3fc332d4122bb98",
       "value": "<h4 style=\"font-size:14px;\">Welche zwei Faktoren führen bei der syntaktischen Analyse natürlicher Sprache mittels formaler Grammatiken zu mehr Ambiguität (Anzahl an Ableitungen)?</h4>"
      }
     },
     "324b96f8176646b2b4b82182cdda78a1": {
      "model_module": "@jupyter-widgets/controls",
      "model_module_version": "1.4.0",
      "model_name": "HTMLModel",
      "state": {
       "layout": "IPY_MODEL_f38a78a8e0e34ea5becce2a42fecc4c5",
       "style": "IPY_MODEL_8091925c1ef345f9826eeb201e9d5501",
       "value": "<i>Wählen Sie die zwei korrekten Antworten aus.</i>"
      }
     },
     "3276eeb9858c450c96daa61e917d2347": {
      "model_module": "@jupyter-widgets/controls",
      "model_module_version": "1.4.0",
      "model_name": "CheckboxModel",
      "state": {
       "description": "Bestimmung des wahrscheinlichsten Syntaxbaums",
       "disabled": false,
       "layout": "IPY_MODEL_9dfdaf3667d845198e43a120774fbc24",
       "style": "IPY_MODEL_f42fb013d26c4f52b01aff75c351c27c",
       "value": true
      }
     },
     "32b144bd8e364f07914a77b285fdc822": {
      "model_module": "@jupyter-widgets/controls",
      "model_module_version": "1.4.0",
      "model_name": "CheckboxModel",
      "state": {
       "description": "Zunahme der Anzahl von Regeln",
       "disabled": false,
       "layout": "IPY_MODEL_76b92abfd24d4423b38bd592dad7f51b",
       "style": "IPY_MODEL_649eb8b5cb6e47c3a0c125851ec40b6a",
       "value": false
      }
     },
     "32d7e77eb2674195be9cc9923e59035b": {
      "model_module": "@jupyter-widgets/controls",
      "model_module_version": "1.4.0",
      "model_name": "DescriptionStyleModel",
      "state": {
       "description_width": "initial"
      }
     },
     "331b98f51d5b4db68c521eff5dcbd5d4": {
      "model_module": "@jupyter-widgets/controls",
      "model_module_version": "1.4.0",
      "model_name": "HTMLModel",
      "state": {
       "layout": "IPY_MODEL_7f234f650d7e4933837377835acd67aa",
       "style": "IPY_MODEL_46b3e0b5d8914ac3abcaf76b8ac08c49",
       "value": "<i>Wählen Sie die <ins>eine</ins> korrekte Antwort aus: </i>"
      }
     },
     "3386784a6d314bdfb27cfe039ac539ab": {
      "model_module": "@jupyter-widgets/controls",
      "model_module_version": "1.4.0",
      "model_name": "HTMLModel",
      "state": {
       "layout": "IPY_MODEL_dbc38619cd714a5dbb9fce42ca497a32",
       "style": "IPY_MODEL_5491e0cb08524873b24eb2e85d188b61",
       "value": "<h4 style=\"font-size:14px;\">Welche zwei Arten von Ambiguität unterscheidet man hier?</h4>"
      }
     },
     "33e5bcd5d9e5485fbf09a93af246780e": {
      "model_module": "@jupyter-widgets/controls",
      "model_module_version": "1.4.0",
      "model_name": "DescriptionStyleModel",
      "state": {
       "description_width": "initial"
      }
     },
     "33ea4627d19a4681a75023411e3d15e6": {
      "model_module": "@jupyter-widgets/base",
      "model_module_version": "1.1.0",
      "model_name": "LayoutModel",
      "state": {
       "width": "600px"
      }
     },
     "340e5164fc1844caa4fd838f38e5a19e": {
      "model_module": "@jupyter-widgets/controls",
      "model_module_version": "1.4.0",
      "model_name": "CheckboxModel",
      "state": {
       "description": "Bestimmung des wahrscheinlichsten Syntaxbaums",
       "disabled": false,
       "layout": "IPY_MODEL_da1dfe0e02314a7b923a36b87bebe6f4",
       "style": "IPY_MODEL_f43f2058833b4832a53e48deb3f3733c",
       "value": true
      }
     },
     "3417599e97634580afe79c983a61f49a": {
      "model_module": "@jupyter-widgets/base",
      "model_module_version": "1.1.0",
      "model_name": "LayoutModel",
      "state": {}
     },
     "3435c2dbf08447fb82068f4bc724620f": {
      "model_module": "@jupyter-widgets/controls",
      "model_module_version": "1.4.0",
      "model_name": "DescriptionStyleModel",
      "state": {
       "description_width": "initial"
      }
     },
     "34808c3181c343d7b2a1e63cd75b5405": {
      "model_module": "@jupyter-widgets/controls",
      "model_module_version": "1.4.0",
      "model_name": "DescriptionStyleModel",
      "state": {
       "description_width": "initial"
      }
     },
     "34944b2c958b444e9cd579bc1d2dd741": {
      "model_module": "@jupyter-widgets/controls",
      "model_module_version": "1.4.0",
      "model_name": "ButtonModel",
      "state": {
       "description": "Korrekt?",
       "layout": "IPY_MODEL_ebee321d94204a229aa18481786c1752",
       "style": "IPY_MODEL_443f9bdbdda3432a97f2f9d4e54acbe8"
      }
     },
     "349620056f6a48c688d541b38ee76850": {
      "model_module": "@jupyter-widgets/base",
      "model_module_version": "1.1.0",
      "model_name": "LayoutModel",
      "state": {}
     },
     "34a658e1ce3841afaf03758dc12cda33": {
      "model_module": "@jupyter-widgets/base",
      "model_module_version": "1.1.0",
      "model_name": "LayoutModel",
      "state": {}
     },
     "34d22aeafe634fc2a828cc7d69f96877": {
      "model_module": "@jupyter-widgets/base",
      "model_module_version": "1.1.0",
      "model_name": "LayoutModel",
      "state": {
       "justify_content": "center"
      }
     },
     "34daf16a64c0497a80e6f50525b2d4fe": {
      "model_module": "@jupyter-widgets/base",
      "model_module_version": "1.1.0",
      "model_name": "LayoutModel",
      "state": {
       "width": "250px"
      }
     },
     "35052fa955f444b79f668268a6a981ba": {
      "model_module": "@jupyter-widgets/controls",
      "model_module_version": "1.4.0",
      "model_name": "ButtonModel",
      "state": {
       "description": "ViterbiParser",
       "layout": "IPY_MODEL_34daf16a64c0497a80e6f50525b2d4fe",
       "style": "IPY_MODEL_3e881d433aba45559a56a3796725b931"
      }
     },
     "353776230168400489a25e1cd87f8c7b": {
      "model_module": "@jupyter-widgets/controls",
      "model_module_version": "1.4.0",
      "model_name": "ButtonModel",
      "state": {
       "description": "Korrekt?",
       "layout": "IPY_MODEL_e0d95579bcfa49e38e9ef2bdd44900f6",
       "style": "IPY_MODEL_44f3ee1b10dc44438e48cf422f8efac0"
      }
     },
     "359503e32d10446eb43b91aa92602e49": {
      "model_module": "@jupyter-widgets/base",
      "model_module_version": "1.1.0",
      "model_name": "LayoutModel",
      "state": {
       "width": "600px"
      }
     },
     "35f0656047ad421d9e52be62d4a56900": {
      "model_module": "@jupyter-widgets/controls",
      "model_module_version": "1.4.0",
      "model_name": "CheckboxModel",
      "state": {
       "description": "Koordinierungsambigutiät",
       "disabled": false,
       "layout": "IPY_MODEL_b3bd55206c164ff3b719db05f8b40ba5",
       "style": "IPY_MODEL_9e9641d3154444c195d9c0a7adb619e2",
       "value": false
      }
     },
     "361800e26a874a32b60f986c3b8d923e": {
      "model_module": "@jupyter-widgets/controls",
      "model_module_version": "1.4.0",
      "model_name": "VBoxModel",
      "state": {
       "children": [
        "IPY_MODEL_874a5e110f0c48dfa3a869d1bec6cf6a",
        "IPY_MODEL_331b98f51d5b4db68c521eff5dcbd5d4",
        "IPY_MODEL_21ec70104d584eaa81fd845c9804352a",
        "IPY_MODEL_0663a06a58d74a9b8fa49e7e1d598ff3"
       ],
       "layout": "IPY_MODEL_e723d354d1f649aa9ef404af69874be1"
      }
     },
     "3673b7f493dd43bc9bb88ff25b16ce38": {
      "model_module": "@jupyter-widgets/controls",
      "model_module_version": "1.4.0",
      "model_name": "CheckboxModel",
      "state": {
       "description": "Zunahme der Anzahl von Regeln",
       "disabled": false,
       "layout": "IPY_MODEL_314b8cd22688454a9ec2e41c3376b12b",
       "style": "IPY_MODEL_0a18adb3ec84427497959771bde2c33d",
       "value": false
      }
     },
     "367b290daaec4672b6f88f3426cca66c": {
      "model_module": "@jupyter-widgets/controls",
      "model_module_version": "1.4.0",
      "model_name": "VBoxModel",
      "state": {
       "children": [
        "IPY_MODEL_3d7b018339d84c6697bcf5d5731b881c",
        "IPY_MODEL_bf82392acc5142f29fda9ffa4a88698a",
        "IPY_MODEL_11206b3bc4f54b418a0c36a3a19a9fee",
        "IPY_MODEL_23dc3fe7b534478f9bcb7f0a79cfde2f"
       ],
       "layout": "IPY_MODEL_e997bbf0b5f340848e3feeef420e00cb"
      }
     },
     "369ac3254ac949819eaf4c2e3eb60649": {
      "model_module": "@jupyter-widgets/controls",
      "model_module_version": "1.4.0",
      "model_name": "ButtonStyleModel",
      "state": {}
     },
     "36c966538486487cbf7a141f4e88ce65": {
      "model_module": "@jupyter-widgets/controls",
      "model_module_version": "1.4.0",
      "model_name": "CheckboxModel",
      "state": {
       "description": "lexikalische Ambiguität",
       "disabled": false,
       "layout": "IPY_MODEL_87c40a0c603b42f28f998a917b60c996",
       "style": "IPY_MODEL_8e8544088644410eb7858bff19cbf6f8",
       "value": false
      }
     },
     "36c9cd51f5cf484db0f739ddbe5a4e83": {
      "model_module": "@jupyter-widgets/controls",
      "model_module_version": "1.4.0",
      "model_name": "VBoxModel",
      "state": {
       "children": [
        "IPY_MODEL_684f41d42ff3457681cea0d68193bcce",
        "IPY_MODEL_cc605e1fad0848e4bd787f635cea64e7",
        "IPY_MODEL_df0a80aa2d724f7bb025dee0dd9a188e"
       ],
       "layout": "IPY_MODEL_1becf4ff15da49e5b6e8ca15aab1853a"
      }
     },
     "36cce24792a04177bc88c42b736a622b": {
      "model_module": "@jupyter-widgets/controls",
      "model_module_version": "1.4.0",
      "model_name": "DescriptionStyleModel",
      "state": {
       "description_width": "initial"
      }
     },
     "36e33b048bfd445694477e4741691c43": {
      "model_module": "@jupyter-widgets/controls",
      "model_module_version": "1.4.0",
      "model_name": "HTMLModel",
      "state": {
       "layout": "IPY_MODEL_b41e93f6081e4ec790d61c0d4da1376c",
       "style": "IPY_MODEL_23aabfb40c184217a661f98cbe0e98c5",
       "value": "<i>Wählen Sie die zwei korrekten Antworten aus.</i>"
      }
     },
     "36f892f0129a41d3a9c83393bfcc62ef": {
      "model_module": "@jupyter-widgets/controls",
      "model_module_version": "1.4.0",
      "model_name": "CheckboxModel",
      "state": {
       "description": "Die Summe aller Regelwahrscheinlichkeiten innerhalb einer Grammatik ist 1.",
       "disabled": false,
       "layout": "IPY_MODEL_0f0e7c4cb37146e0bbfc3e387e95c5ad",
       "style": "IPY_MODEL_0c89b8c4407549e8b6293ba1389ab388",
       "value": false
      }
     },
     "3714454b189d4732923b72ab35d616de": {
      "model_module": "@jupyter-widgets/controls",
      "model_module_version": "1.4.0",
      "model_name": "DescriptionStyleModel",
      "state": {
       "description_width": ""
      }
     },
     "376f56f6831d4f3b8608b7ec34dc96a0": {
      "model_module": "@jupyter-widgets/base",
      "model_module_version": "1.1.0",
      "model_name": "LayoutModel",
      "state": {
       "width": "600px"
      }
     },
     "3894c465681f440bad01c241231ac0e1": {
      "model_module": "@jupyter-widgets/base",
      "model_module_version": "1.1.0",
      "model_name": "LayoutModel",
      "state": {
       "width": "600px"
      }
     },
     "3912113ffa214644805a7c1aeb7899ca": {
      "model_module": "@jupyter-widgets/controls",
      "model_module_version": "1.4.0",
      "model_name": "CheckboxModel",
      "state": {
       "description": "längere Sätze",
       "disabled": false,
       "layout": "IPY_MODEL_a2a466a15ffd4b399ebb3f7c7d468381",
       "style": "IPY_MODEL_b44cb0b9bc8a42d98aeadfae88de14aa",
       "value": true
      }
     },
     "391f2751216e44c3a3faf3d35b788064": {
      "model_module": "@jupyter-widgets/base",
      "model_module_version": "1.1.0",
      "model_name": "LayoutModel",
      "state": {
       "width": "600px"
      }
     },
     "395613da49224c3e90fcbaf8b8ca7da1": {
      "model_module": "@jupyter-widgets/base",
      "model_module_version": "1.1.0",
      "model_name": "LayoutModel",
      "state": {}
     },
     "3957146b109f4da8a55402e892e11ac2": {
      "model_module": "@jupyter-widgets/controls",
      "model_module_version": "1.4.0",
      "model_name": "CheckboxModel",
      "state": {
       "description": "längere Sätze",
       "disabled": false,
       "layout": "IPY_MODEL_e24ec5d7bb654e61b5d52cf53885d906",
       "style": "IPY_MODEL_2b1979628d6047e39ded5f1cfcfa6718",
       "value": false
      }
     },
     "3979f36dacb04c4480a513072b75f491": {
      "model_module": "@jupyter-widgets/controls",
      "model_module_version": "1.4.0",
      "model_name": "VBoxModel",
      "state": {
       "children": [
        "IPY_MODEL_f3610cfc9b58427498c0c8bccad4d284",
        "IPY_MODEL_3fe86ca30d664511996728925d3be92f",
        "IPY_MODEL_6fffcffbf25a4e12a2d332f18260fef3",
        "IPY_MODEL_fecb1fd7f13c4df7b98dcb10bdb3d237"
       ],
       "layout": "IPY_MODEL_69d4db76b8f54cdc8d115cebcbda2a23"
      }
     },
     "398e7a39094d4756a100a7567261ae19": {
      "model_module": "@jupyter-widgets/base",
      "model_module_version": "1.1.0",
      "model_name": "LayoutModel",
      "state": {
       "width": "600px"
      }
     },
     "39a94f5e1c63463aa46bd98f0b7e7739": {
      "model_module": "@jupyter-widgets/base",
      "model_module_version": "1.1.0",
      "model_name": "LayoutModel",
      "state": {}
     },
     "39bf43716ea1414495897d7adad596d7": {
      "model_module": "@jupyter-widgets/base",
      "model_module_version": "1.1.0",
      "model_name": "LayoutModel",
      "state": {}
     },
     "39c37e334c1f4aea87de8a9dbf51225c": {
      "model_module": "@jupyter-widgets/controls",
      "model_module_version": "1.4.0",
      "model_name": "ButtonStyleModel",
      "state": {}
     },
     "3a4820a0d53046ab830deabf9f2f4725": {
      "model_module": "@jupyter-widgets/base",
      "model_module_version": "1.1.0",
      "model_name": "LayoutModel",
      "state": {}
     },
     "3a961c231b454958825eb17e43bb4a9b": {
      "model_module": "@jupyter-widgets/base",
      "model_module_version": "1.1.0",
      "model_name": "LayoutModel",
      "state": {
       "justify_content": "center"
      }
     },
     "3acb208654a44b548e5b0c38bd2a8720": {
      "model_module": "@jupyter-widgets/base",
      "model_module_version": "1.1.0",
      "model_name": "LayoutModel",
      "state": {}
     },
     "3ace813003924a99ae9178d1455488a6": {
      "model_module": "@jupyter-widgets/controls",
      "model_module_version": "1.4.0",
      "model_name": "DescriptionStyleModel",
      "state": {
       "description_width": "initial"
      }
     },
     "3aebfed5cc4b42bea6e9f11ad8ca6a7b": {
      "model_module": "@jupyter-widgets/base",
      "model_module_version": "1.1.0",
      "model_name": "LayoutModel",
      "state": {}
     },
     "3afcc9d564d141f2bbac1f780e0da2d3": {
      "model_module": "@jupyter-widgets/controls",
      "model_module_version": "1.4.0",
      "model_name": "CheckboxModel",
      "state": {
       "description": "Abnahme der Anzahl von Regeln",
       "disabled": false,
       "layout": "IPY_MODEL_e634e5e08a53421f88f66962befc5ba2",
       "style": "IPY_MODEL_c5be6e760d81456fb6d46b26e7014f32",
       "value": false
      }
     },
     "3b19a402ae204df8941bf2b576b0677b": {
      "model_module": "@jupyter-widgets/controls",
      "model_module_version": "1.4.0",
      "model_name": "DescriptionStyleModel",
      "state": {
       "description_width": ""
      }
     },
     "3b351adb0c5643389f905f736392f5a8": {
      "model_module": "@jupyter-widgets/controls",
      "model_module_version": "1.4.0",
      "model_name": "VBoxModel",
      "state": {
       "children": [
        "IPY_MODEL_99105a55d3a94ac4b6a8ba011a0cebe6",
        "IPY_MODEL_c5fac12f6896488eb0075fe2bab87ef6",
        "IPY_MODEL_eca6c8c020854cbd9cf94c5aa005897d",
        "IPY_MODEL_95e63f75682c423e831240ccd5373265"
       ],
       "layout": "IPY_MODEL_430473c974744ee7a961d27a4972ef99"
      }
     },
     "3b48cc2a302f41b0a02b2c247699dd66": {
      "model_module": "@jupyter-widgets/controls",
      "model_module_version": "1.4.0",
      "model_name": "DescriptionStyleModel",
      "state": {
       "description_width": "initial"
      }
     },
     "3bbb899cb9524db4bbc5ce83e2790792": {
      "model_module": "@jupyter-widgets/controls",
      "model_module_version": "1.4.0",
      "model_name": "CheckboxModel",
      "state": {
       "description": "strukturelle Ambiguität",
       "disabled": false,
       "layout": "IPY_MODEL_2da1ca0d00114135a325f8ee3eab9de8",
       "style": "IPY_MODEL_f40f7f9fd6c7432794e08b67200c3ac3",
       "value": true
      }
     },
     "3bc9c0153ed64c0ea3ce088331b89bc2": {
      "model_module": "@jupyter-widgets/controls",
      "model_module_version": "1.4.0",
      "model_name": "CheckboxModel",
      "state": {
       "description": "strukturelle Ambiguität",
       "disabled": false,
       "layout": "IPY_MODEL_2d5ee23d21814bbcb46ceb7c4bc4e3c5",
       "style": "IPY_MODEL_5cd1b070db2d4171937e499170e4f77c",
       "value": false
      }
     },
     "3bec9f553bb54c39987a16208a5eee27": {
      "model_module": "@jupyter-widgets/base",
      "model_module_version": "1.1.0",
      "model_name": "LayoutModel",
      "state": {
       "width": "600px"
      }
     },
     "3bf50f48290440738e901191c43d9c2e": {
      "model_module": "@jupyter-widgets/controls",
      "model_module_version": "1.4.0",
      "model_name": "DescriptionStyleModel",
      "state": {
       "description_width": ""
      }
     },
     "3d03f27e08da4c32aa26dbb9edfb3efb": {
      "model_module": "@jupyter-widgets/controls",
      "model_module_version": "1.4.0",
      "model_name": "ButtonModel",
      "state": {
       "description": "Korrekt?",
       "layout": "IPY_MODEL_d90015edb057474eaa35b4fd3a56f1f6",
       "style": "IPY_MODEL_d9baaeaece944308864e6fa892857e82"
      }
     },
     "3d0d53b7cfc84de6a25ba916c595ce94": {
      "model_module": "@jupyter-widgets/base",
      "model_module_version": "1.1.0",
      "model_name": "LayoutModel",
      "state": {
       "width": "600px"
      }
     },
     "3d3e2eaf968b41fe9a735ddf14d12804": {
      "model_module": "@jupyter-widgets/base",
      "model_module_version": "1.1.0",
      "model_name": "LayoutModel",
      "state": {}
     },
     "3d63e6a893a144429bda40177ecf2763": {
      "model_module": "@jupyter-widgets/base",
      "model_module_version": "1.1.0",
      "model_name": "LayoutModel",
      "state": {
       "width": "250px"
      }
     },
     "3d7aac56465e49e2bbccd6c77017d13b": {
      "model_module": "@jupyter-widgets/controls",
      "model_module_version": "1.4.0",
      "model_name": "VBoxModel",
      "state": {
       "children": [
        "IPY_MODEL_598ed5b42317467a9522a3f4646adcd2",
        "IPY_MODEL_b7fc24119b354cf4b4bca7583f1f7adb",
        "IPY_MODEL_8e6b0f4e02184a54b61b9545fe548fc1"
       ],
       "layout": "IPY_MODEL_d720d33ae6a34e78a23c8baab3493be0"
      }
     },
     "3d7b018339d84c6697bcf5d5731b881c": {
      "model_module": "@jupyter-widgets/controls",
      "model_module_version": "1.4.0",
      "model_name": "CheckboxModel",
      "state": {
       "description": "Attachment-Ambiguität",
       "disabled": false,
       "layout": "IPY_MODEL_2f88ce5c2eff4dbea4cb2434cd5c900c",
       "style": "IPY_MODEL_4c36f5b4339b4fbb80d050867e22f510",
       "value": false
      }
     },
     "3dba34bdec3542268c5639486fbcee60": {
      "model_module": "@jupyter-widgets/base",
      "model_module_version": "1.1.0",
      "model_name": "LayoutModel",
      "state": {
       "width": "250px"
      }
     },
     "3e03f63a05594032bfbd218ad0f98e46": {
      "model_module": "@jupyter-widgets/controls",
      "model_module_version": "1.4.0",
      "model_name": "DescriptionStyleModel",
      "state": {
       "description_width": ""
      }
     },
     "3e116e8256324a7c92bc1d6078c1a15f": {
      "model_module": "@jupyter-widgets/base",
      "model_module_version": "1.1.0",
      "model_name": "LayoutModel",
      "state": {}
     },
     "3e4f681eded54ce786fe0bb511083438": {
      "model_module": "@jupyter-widgets/base",
      "model_module_version": "1.1.0",
      "model_name": "LayoutModel",
      "state": {
       "justify_content": "center"
      }
     },
     "3e881d433aba45559a56a3796725b931": {
      "model_module": "@jupyter-widgets/controls",
      "model_module_version": "1.4.0",
      "model_name": "ButtonStyleModel",
      "state": {}
     },
     "3eb552dac36c47cba26a851145334f71": {
      "model_module": "@jupyter-widgets/controls",
      "model_module_version": "1.4.0",
      "model_name": "CheckboxModel",
      "state": {
       "description": "lexikalische Ambiguität",
       "disabled": false,
       "layout": "IPY_MODEL_04fa5614bff144ab96378a7af9ae3f72",
       "style": "IPY_MODEL_04e4e29f2d364e6bb10cd4f0282e7112",
       "value": true
      }
     },
     "3f0b6fc631a64f8583a2b63f38cd5090": {
      "model_module": "@jupyter-widgets/base",
      "model_module_version": "1.1.0",
      "model_name": "LayoutModel",
      "state": {
       "width": "250px"
      }
     },
     "3f1682a599b74736af8619857208d6c4": {
      "model_module": "@jupyter-widgets/controls",
      "model_module_version": "1.4.0",
      "model_name": "ButtonModel",
      "state": {
       "description": "Korrekt?",
       "layout": "IPY_MODEL_b5fddaa604784bfe8f50671860366234",
       "style": "IPY_MODEL_5d40767216334c36a4806c1ef760be2d"
      }
     },
     "3f2e85adab3348dc80ddb451831714ca": {
      "model_module": "@jupyter-widgets/controls",
      "model_module_version": "1.4.0",
      "model_name": "HTMLModel",
      "state": {
       "layout": "IPY_MODEL_40aec4606ec1499c994601ce0f01d4e2",
       "style": "IPY_MODEL_6609b30588f145d0a58fff89204cde1e",
       "value": "<h4 style=\"font-size:14px;\">Welche zwei Arten von Ambiguität unterscheidet man hier?</h4>"
      }
     },
     "3f67cd88127643b6bd5ef9f8e5e9a0ea": {
      "model_module": "@jupyter-widgets/controls",
      "model_module_version": "1.4.0",
      "model_name": "HTMLModel",
      "state": {
       "layout": "IPY_MODEL_09de55b5f21b446887edadfc319b6a35",
       "style": "IPY_MODEL_40be9198d6fc482b8b87378b688f3e18",
       "value": "<i>Wählen Sie die zwei korrekten Antworten aus.</i>"
      }
     },
     "3fa71feac10f44fab50a70d6ced74aa5": {
      "model_module": "@jupyter-widgets/base",
      "model_module_version": "1.1.0",
      "model_name": "LayoutModel",
      "state": {
       "justify_content": "center"
      }
     },
     "3fe86ca30d664511996728925d3be92f": {
      "model_module": "@jupyter-widgets/controls",
      "model_module_version": "1.4.0",
      "model_name": "HTMLModel",
      "state": {
       "layout": "IPY_MODEL_2e44970ee874410eb43ba9be3307c0f1",
       "style": "IPY_MODEL_4a02cc5f1ee9445dba75cfb1acec5224",
       "value": "<i>Wählen Sie die zwei korrekten Antworten aus.</i>"
      }
     },
     "3ff8795e8eec4f4eaf4551f29a2f2735": {
      "model_module": "@jupyter-widgets/controls",
      "model_module_version": "1.4.0",
      "model_name": "CheckboxModel",
      "state": {
       "description": "lexikalische Ambiguität",
       "disabled": false,
       "layout": "IPY_MODEL_a868cbd82a634a1eadb98746cbd1dcd4",
       "style": "IPY_MODEL_a8ffc55092314885b13388c8b205ff16",
       "value": true
      }
     },
     "40606be3be9d4efea4de50f3df31b349": {
      "model_module": "@jupyter-widgets/base",
      "model_module_version": "1.1.0",
      "model_name": "LayoutModel",
      "state": {
       "width": "600px"
      }
     },
     "4094032f58bd45eb8c70553830aa7a9a": {
      "model_module": "@jupyter-widgets/base",
      "model_module_version": "1.1.0",
      "model_name": "LayoutModel",
      "state": {}
     },
     "40aec4606ec1499c994601ce0f01d4e2": {
      "model_module": "@jupyter-widgets/base",
      "model_module_version": "1.1.0",
      "model_name": "LayoutModel",
      "state": {}
     },
     "40be9198d6fc482b8b87378b688f3e18": {
      "model_module": "@jupyter-widgets/controls",
      "model_module_version": "1.4.0",
      "model_name": "DescriptionStyleModel",
      "state": {
       "description_width": ""
      }
     },
     "411c94a90e9d4b46acf33b2303b4d6c7": {
      "model_module": "@jupyter-widgets/base",
      "model_module_version": "1.1.0",
      "model_name": "LayoutModel",
      "state": {
       "width": "250px"
      }
     },
     "412ff788d7ff42fcb4db81575ca771ca": {
      "model_module": "@jupyter-widgets/base",
      "model_module_version": "1.1.0",
      "model_name": "LayoutModel",
      "state": {}
     },
     "4156b80fc8eb4766be3b0df228ca9051": {
      "model_module": "@jupyter-widgets/base",
      "model_module_version": "1.1.0",
      "model_name": "LayoutModel",
      "state": {
       "width": "600px"
      }
     },
     "41d7df3fe08044c08f69c14e425fdf7d": {
      "model_module": "@jupyter-widgets/base",
      "model_module_version": "1.1.0",
      "model_name": "LayoutModel",
      "state": {
       "justify_content": "center"
      }
     },
     "41db22df265d41e2b3b2007a530975e2": {
      "model_module": "@jupyter-widgets/controls",
      "model_module_version": "1.4.0",
      "model_name": "HBoxModel",
      "state": {
       "children": [
        "IPY_MODEL_f9536d81525645a8940d7d3b4c7dbb03",
        "IPY_MODEL_5d723b547a6b4b588690bc988a840823"
       ],
       "layout": "IPY_MODEL_d79c2568e25541e29c31fd204c098fc0"
      }
     },
     "420187cd0f1e402a90fdf89ddbfec621": {
      "model_module": "@jupyter-widgets/base",
      "model_module_version": "1.1.0",
      "model_name": "LayoutModel",
      "state": {
       "width": "250px"
      }
     },
     "4254c589410846c383b766d5ca01c259": {
      "model_module": "@jupyter-widgets/controls",
      "model_module_version": "1.4.0",
      "model_name": "DescriptionStyleModel",
      "state": {
       "description_width": "initial"
      }
     },
     "42bc0c0fb8a8478695a94f18f662998d": {
      "model_module": "@jupyter-widgets/controls",
      "model_module_version": "1.4.0",
      "model_name": "CheckboxModel",
      "state": {
       "description": "Abnahme der Anzahl von Regeln",
       "disabled": false,
       "layout": "IPY_MODEL_f78a12fda9db48bda461ed24f4a19050",
       "style": "IPY_MODEL_310cbe4a90c44076ad12f9964fa7ff23",
       "value": false
      }
     },
     "430473c974744ee7a961d27a4972ef99": {
      "model_module": "@jupyter-widgets/base",
      "model_module_version": "1.1.0",
      "model_name": "LayoutModel",
      "state": {}
     },
     "4317cacef45249f3983feb508c6c457a": {
      "model_module": "@jupyter-widgets/controls",
      "model_module_version": "1.4.0",
      "model_name": "DescriptionStyleModel",
      "state": {
       "description_width": "initial"
      }
     },
     "43446fbff0614ff2b9ee499c54c107d2": {
      "model_module": "@jupyter-widgets/controls",
      "model_module_version": "1.4.0",
      "model_name": "ButtonModel",
      "state": {
       "description": "Korrekt?",
       "layout": "IPY_MODEL_dc2dd93036054efd92c1a0ccbd664a07",
       "style": "IPY_MODEL_dc1ba91c1bfb465e8df5e3e0e215d839"
      }
     },
     "43877404b364492aa3e477cf58d8ff7f": {
      "model_module": "@jupyter-widgets/controls",
      "model_module_version": "1.4.0",
      "model_name": "DescriptionStyleModel",
      "state": {
       "description_width": "initial"
      }
     },
     "438f49165e1e45409bdd17b9441c44f8": {
      "model_module": "@jupyter-widgets/base",
      "model_module_version": "1.1.0",
      "model_name": "LayoutModel",
      "state": {
       "width": "600px"
      }
     },
     "43c7ea64cc914bcebc92f82a5b813a20": {
      "model_module": "@jupyter-widgets/controls",
      "model_module_version": "1.4.0",
      "model_name": "DescriptionStyleModel",
      "state": {
       "description_width": "initial"
      }
     },
     "43e43b87d673418aad3767f360c2f31f": {
      "model_module": "@jupyter-widgets/controls",
      "model_module_version": "1.4.0",
      "model_name": "CheckboxModel",
      "state": {
       "description": "kürzere Sätze",
       "disabled": false,
       "layout": "IPY_MODEL_5a928e647fe343feb2d666842ee0b05f",
       "style": "IPY_MODEL_75c7a75a7fcd46ac817ea5624d869007",
       "value": false
      }
     },
     "443f9bdbdda3432a97f2f9d4e54acbe8": {
      "model_module": "@jupyter-widgets/controls",
      "model_module_version": "1.4.0",
      "model_name": "ButtonStyleModel",
      "state": {}
     },
     "4455f5ae320e4258a2f64317fe3063af": {
      "model_module": "@jupyter-widgets/base",
      "model_module_version": "1.1.0",
      "model_name": "LayoutModel",
      "state": {
       "width": "600px"
      }
     },
     "4456f6994f5e4d5fb685edebae4b1714": {
      "model_module": "@jupyter-widgets/base",
      "model_module_version": "1.1.0",
      "model_name": "LayoutModel",
      "state": {
       "width": "600px"
      }
     },
     "449f359df5594ddf81f29ba35c8e7631": {
      "model_module": "@jupyter-widgets/base",
      "model_module_version": "1.1.0",
      "model_name": "LayoutModel",
      "state": {
       "width": "600px"
      }
     },
     "44d080cbd10a4753abc53247a7459ecc": {
      "model_module": "@jupyter-widgets/controls",
      "model_module_version": "1.4.0",
      "model_name": "HTMLModel",
      "state": {
       "layout": "IPY_MODEL_fbe6a838d18a4e9ea095fa33d4ccacab",
       "style": "IPY_MODEL_bbe3957aad30445bad03577d89879f94",
       "value": "<i>Wählen Sie die zwei korrekten Antworten aus.</i>"
      }
     },
     "44f3ee1b10dc44438e48cf422f8efac0": {
      "model_module": "@jupyter-widgets/controls",
      "model_module_version": "1.4.0",
      "model_name": "ButtonStyleModel",
      "state": {}
     },
     "450f6b888cc341249270d1a3c05b8739": {
      "model_module": "@jupyter-widgets/controls",
      "model_module_version": "1.4.0",
      "model_name": "DescriptionStyleModel",
      "state": {
       "description_width": "initial"
      }
     },
     "4535c4e7109542bda7077f45da8ee37b": {
      "model_module": "@jupyter-widgets/base",
      "model_module_version": "1.1.0",
      "model_name": "LayoutModel",
      "state": {
       "width": "250px"
      }
     },
     "45e142162fbb43ee94ba2495df186908": {
      "model_module": "@jupyter-widgets/base",
      "model_module_version": "1.1.0",
      "model_name": "LayoutModel",
      "state": {
       "width": "600px"
      }
     },
     "4606f9818f9c4fb1838e7e8eb3b005b3": {
      "model_module": "@jupyter-widgets/base",
      "model_module_version": "1.1.0",
      "model_name": "LayoutModel",
      "state": {
       "width": "600px"
      }
     },
     "468de6eac0d9407589fbb3e0f0b87a7d": {
      "model_module": "@jupyter-widgets/controls",
      "model_module_version": "1.4.0",
      "model_name": "CheckboxModel",
      "state": {
       "description": "Bestimmung des wahrscheinlichsten Syntaxbaums",
       "disabled": false,
       "layout": "IPY_MODEL_fb56530f633342c89125608a264218d5",
       "style": "IPY_MODEL_f28529f0c3c7428b922395204a35488e",
       "value": false
      }
     },
     "46b3e0b5d8914ac3abcaf76b8ac08c49": {
      "model_module": "@jupyter-widgets/controls",
      "model_module_version": "1.4.0",
      "model_name": "DescriptionStyleModel",
      "state": {
       "description_width": ""
      }
     },
     "46cad5db308d4cbdae65a87e47a127ff": {
      "model_module": "@jupyter-widgets/base",
      "model_module_version": "1.1.0",
      "model_name": "LayoutModel",
      "state": {}
     },
     "46d56768d8f64592b53f1867c1a90fa6": {
      "model_module": "@jupyter-widgets/base",
      "model_module_version": "1.1.0",
      "model_name": "LayoutModel",
      "state": {}
     },
     "46fd846ad5dc488b98042841f9076ca5": {
      "model_module": "@jupyter-widgets/base",
      "model_module_version": "1.1.0",
      "model_name": "LayoutModel",
      "state": {
       "justify_content": "center"
      }
     },
     "470de447147d4dc59d197507678a4a77": {
      "model_module": "@jupyter-widgets/controls",
      "model_module_version": "1.4.0",
      "model_name": "ButtonModel",
      "state": {
       "description": "Korrekt?",
       "layout": "IPY_MODEL_10683d0b19b147cdb0d92c22d6652f13",
       "style": "IPY_MODEL_9ae762ba3d314258a752a87bbd3e5c1d"
      }
     },
     "47289f7ecd514a628cc5633a37fc6c6c": {
      "model_module": "@jupyter-widgets/controls",
      "model_module_version": "1.4.0",
      "model_name": "CheckboxModel",
      "state": {
       "description": "lexikalische Ambiguität",
       "disabled": false,
       "layout": "IPY_MODEL_c74c246d0bc24c0bb4e337e76e2cfa3d",
       "style": "IPY_MODEL_a41fa472c8b949ddb9dd404dae436fca",
       "value": false
      }
     },
     "4761d83b926b421e96e8dc851378865f": {
      "model_module": "@jupyter-widgets/base",
      "model_module_version": "1.1.0",
      "model_name": "LayoutModel",
      "state": {}
     },
     "4777e7138f604f39ab59ceb924444507": {
      "model_module": "@jupyter-widgets/controls",
      "model_module_version": "1.4.0",
      "model_name": "DescriptionStyleModel",
      "state": {
       "description_width": ""
      }
     },
     "47aec24423ac44f0b1f529363c23d469": {
      "model_module": "@jupyter-widgets/controls",
      "model_module_version": "1.4.0",
      "model_name": "DescriptionStyleModel",
      "state": {
       "description_width": ""
      }
     },
     "47e176c9ae5540b0966a064c515185c2": {
      "model_module": "@jupyter-widgets/controls",
      "model_module_version": "1.4.0",
      "model_name": "CheckboxModel",
      "state": {
       "description": "Attachment-Ambiguität",
       "disabled": false,
       "layout": "IPY_MODEL_8f8c7ec2f81f4fdfb3d3a2a725d7a733",
       "style": "IPY_MODEL_b2f571833e9c43e2beb218297fb8b512",
       "value": false
      }
     },
     "47fe8eee30b64d28a10d5051414f0e79": {
      "model_module": "@jupyter-widgets/controls",
      "model_module_version": "1.4.0",
      "model_name": "DescriptionStyleModel",
      "state": {
       "description_width": "initial"
      }
     },
     "480d8b9bc567412caa25bd7fc3c36b66": {
      "model_module": "@jupyter-widgets/base",
      "model_module_version": "1.1.0",
      "model_name": "LayoutModel",
      "state": {}
     },
     "4846ab9b25814f9c91f5537c4a6ba948": {
      "model_module": "@jupyter-widgets/base",
      "model_module_version": "1.1.0",
      "model_name": "LayoutModel",
      "state": {
       "width": "600px"
      }
     },
     "484b4fdf27014d37b01db7e61280df0b": {
      "model_module": "@jupyter-widgets/base",
      "model_module_version": "1.1.0",
      "model_name": "LayoutModel",
      "state": {
       "justify_content": "center"
      }
     },
     "486a9841abf1403592d7e0898bb5d7d1": {
      "model_module": "@jupyter-widgets/base",
      "model_module_version": "1.1.0",
      "model_name": "LayoutModel",
      "state": {}
     },
     "487c1cb0e1c548caa97e29e3488b51af": {
      "model_module": "@jupyter-widgets/base",
      "model_module_version": "1.1.0",
      "model_name": "LayoutModel",
      "state": {}
     },
     "48c59a760d2f4196abe543870edbb5f6": {
      "model_module": "@jupyter-widgets/controls",
      "model_module_version": "1.4.0",
      "model_name": "ButtonModel",
      "state": {
       "description": "Lösung zeigen",
       "layout": "IPY_MODEL_3aebfed5cc4b42bea6e9f11ad8ca6a7b",
       "style": "IPY_MODEL_a11ffa46185d4d1997d3cf1fd6000456"
      }
     },
     "4925a09a8ee749cda6679f0a138bc592": {
      "model_module": "@jupyter-widgets/controls",
      "model_module_version": "1.4.0",
      "model_name": "DescriptionStyleModel",
      "state": {
       "description_width": "initial"
      }
     },
     "492b8eff50424966a811cbb2b20621f6": {
      "model_module": "@jupyter-widgets/controls",
      "model_module_version": "1.4.0",
      "model_name": "HTMLModel",
      "state": {
       "layout": "IPY_MODEL_eb4118aa0ddd45118cfec72d87927282",
       "style": "IPY_MODEL_9de4d861178b413bbbff4710b70037d3",
       "value": "<i>Wählen Sie die zwei korrekten Antworten aus.</i>"
      }
     },
     "4960567b9662410a904030bef6895834": {
      "model_module": "@jupyter-widgets/base",
      "model_module_version": "1.1.0",
      "model_name": "LayoutModel",
      "state": {
       "justify_content": "center"
      }
     },
     "4961db55a37e41dfac87f6d7397434c0": {
      "model_module": "@jupyter-widgets/controls",
      "model_module_version": "1.4.0",
      "model_name": "DescriptionStyleModel",
      "state": {
       "description_width": "initial"
      }
     },
     "497dd3356c9544d48125dc6726073369": {
      "model_module": "@jupyter-widgets/base",
      "model_module_version": "1.1.0",
      "model_name": "LayoutModel",
      "state": {
       "width": "600px"
      }
     },
     "49923756f1ed4bdf901a2cb4ba15e995": {
      "model_module": "@jupyter-widgets/controls",
      "model_module_version": "1.4.0",
      "model_name": "CheckboxModel",
      "state": {
       "description": "Bestimmung des wahrscheinlichsten Syntaxbaums",
       "disabled": false,
       "layout": "IPY_MODEL_ad8f3680716648f795527e03ce63e587",
       "style": "IPY_MODEL_c076e32f785e45498d59688b30e8a86f",
       "value": false
      }
     },
     "49b048f070f64b3488c93202a05dcba5": {
      "model_module": "@jupyter-widgets/controls",
      "model_module_version": "1.4.0",
      "model_name": "DescriptionStyleModel",
      "state": {
       "description_width": ""
      }
     },
     "49c0e632f6814443a6921f9f341de10e": {
      "model_module": "@jupyter-widgets/base",
      "model_module_version": "1.1.0",
      "model_name": "LayoutModel",
      "state": {
       "width": "250px"
      }
     },
     "49c3ea797f4f4db8abf5f767707cfa6e": {
      "model_module": "@jupyter-widgets/controls",
      "model_module_version": "1.4.0",
      "model_name": "CheckboxModel",
      "state": {
       "description": "Koordinierungsambigutiät",
       "disabled": false,
       "layout": "IPY_MODEL_40606be3be9d4efea4de50f3df31b349",
       "style": "IPY_MODEL_0ba8434e797e406f8f6b4d555bc56694",
       "value": false
      }
     },
     "49e2f122ff1f43419a7060858bb49fa7": {
      "model_module": "@jupyter-widgets/controls",
      "model_module_version": "1.4.0",
      "model_name": "DescriptionStyleModel",
      "state": {
       "description_width": ""
      }
     },
     "49eb183a31224a7aaae266d9c2c5484f": {
      "model_module": "@jupyter-widgets/controls",
      "model_module_version": "1.4.0",
      "model_name": "ButtonModel",
      "state": {
       "description": "Korrekt?",
       "layout": "IPY_MODEL_f0a95d41f75e452ca5d1e90d747efc44",
       "style": "IPY_MODEL_9abd7810cffd42b38f111fef7c50b88e"
      }
     },
     "4a02cc5f1ee9445dba75cfb1acec5224": {
      "model_module": "@jupyter-widgets/controls",
      "model_module_version": "1.4.0",
      "model_name": "DescriptionStyleModel",
      "state": {
       "description_width": ""
      }
     },
     "4a0eb871cc2548709ae615ee12fd6cd9": {
      "model_module": "@jupyter-widgets/base",
      "model_module_version": "1.1.0",
      "model_name": "LayoutModel",
      "state": {
       "justify_content": "center"
      }
     },
     "4a203c1bc33b42c1bec93f05d05cf23b": {
      "model_module": "@jupyter-widgets/controls",
      "model_module_version": "1.4.0",
      "model_name": "CheckboxModel",
      "state": {
       "description": "Die Summe aller Regelwahrscheinlichkeiten innerhalb einer Grammatik ist 1.",
       "disabled": false,
       "layout": "IPY_MODEL_5b98a767cf6740aab8beeb9d40b2c0c7",
       "style": "IPY_MODEL_f01358588fdd415daaf5c0d804101aaf",
       "value": false
      }
     },
     "4a7f89593ffe4e87a6b8582f973007d6": {
      "model_module": "@jupyter-widgets/controls",
      "model_module_version": "1.4.0",
      "model_name": "DescriptionStyleModel",
      "state": {
       "description_width": ""
      }
     },
     "4b0ead9efdc64dd3a36155679c2fa960": {
      "model_module": "@jupyter-widgets/controls",
      "model_module_version": "1.4.0",
      "model_name": "VBoxModel",
      "state": {
       "children": [
        "IPY_MODEL_c1931ebdf72849558ed884492bc167b5",
        "IPY_MODEL_6ef6e3b75b264456bee45d1f1b0a8270",
        "IPY_MODEL_36f892f0129a41d3a9c83393bfcc62ef"
       ],
       "layout": "IPY_MODEL_802f5d05897f45ddaa87a870ae66f3ea"
      }
     },
     "4b14940e3d4a40f99e27375e8efab2fe": {
      "model_module": "@jupyter-widgets/controls",
      "model_module_version": "1.4.0",
      "model_name": "VBoxModel",
      "state": {
       "children": [
        "IPY_MODEL_8d301ef245ea4ef7b5854bb6fde21c4d",
        "IPY_MODEL_7ec968e490f544ceb8d5a2b2d35ef3cf",
        "IPY_MODEL_cf3ad21ce9d34e9fb900ba2186bb4c9a",
        "IPY_MODEL_5a9ce17bfd8046638daacefc979fe0d0"
       ],
       "layout": "IPY_MODEL_a8d19de1c81a4725a42c017ed3e11aa3"
      }
     },
     "4b979b7a39154445abb39ecd08b56054": {
      "model_module": "@jupyter-widgets/base",
      "model_module_version": "1.1.0",
      "model_name": "LayoutModel",
      "state": {
       "justify_content": "center"
      }
     },
     "4bd251a55e47411ca844fd211c1131ff": {
      "model_module": "@jupyter-widgets/base",
      "model_module_version": "1.1.0",
      "model_name": "LayoutModel",
      "state": {
       "width": "600px"
      }
     },
     "4bfa46b82ff34bb69690ec0105cc44ee": {
      "model_module": "@jupyter-widgets/controls",
      "model_module_version": "1.4.0",
      "model_name": "ButtonStyleModel",
      "state": {
       "button_color": "lightgreen"
      }
     },
     "4c07d1c6776347a6b2b68cc02d3420eb": {
      "model_module": "@jupyter-widgets/base",
      "model_module_version": "1.1.0",
      "model_name": "LayoutModel",
      "state": {
       "width": "250px"
      }
     },
     "4c36f5b4339b4fbb80d050867e22f510": {
      "model_module": "@jupyter-widgets/controls",
      "model_module_version": "1.4.0",
      "model_name": "DescriptionStyleModel",
      "state": {
       "description_width": "initial"
      }
     },
     "4c71f2481d254c3da071779879c581a3": {
      "model_module": "@jupyter-widgets/base",
      "model_module_version": "1.1.0",
      "model_name": "LayoutModel",
      "state": {}
     },
     "4c8af294bad14804b67f280ff855ffa8": {
      "model_module": "@jupyter-widgets/controls",
      "model_module_version": "1.4.0",
      "model_name": "DescriptionStyleModel",
      "state": {
       "description_width": "initial"
      }
     },
     "4d13607169a84f41b839521a38635bae": {
      "model_module": "@jupyter-widgets/controls",
      "model_module_version": "1.4.0",
      "model_name": "DescriptionStyleModel",
      "state": {
       "description_width": ""
      }
     },
     "4db965c9e0af492694f62048c1885c6d": {
      "model_module": "@jupyter-widgets/controls",
      "model_module_version": "1.4.0",
      "model_name": "DescriptionStyleModel",
      "state": {
       "description_width": ""
      }
     },
     "4dc6759c032f4acd94f2d3f74b3dc98a": {
      "model_module": "@jupyter-widgets/controls",
      "model_module_version": "1.4.0",
      "model_name": "VBoxModel",
      "state": {
       "children": [
        "IPY_MODEL_d9882e11771d403f943ffc9f6b0891ba",
        "IPY_MODEL_7ebc60fee3de470bb939ee7198a89cd7",
        "IPY_MODEL_e6f78501b4d84d61a9109eb95415a4a5"
       ],
       "layout": "IPY_MODEL_34a658e1ce3841afaf03758dc12cda33"
      }
     },
     "4dc9fdadadd94c03b5cad6191ee0c439": {
      "model_module": "@jupyter-widgets/controls",
      "model_module_version": "1.4.0",
      "model_name": "HTMLModel",
      "state": {
       "layout": "IPY_MODEL_1411c2de37c34192a78ba428ec04c82d",
       "style": "IPY_MODEL_752ed3e886ba43a7941cfc8728395aa5",
       "value": "<h4 style=\"font-size:14px;\">Welche zwei Faktoren führen bei der syntaktischen Analyse natürlicher Sprache mittels formaler Grammatiken zu mehr Ambiguität (Anzahl an Ableitungen)?</h4>"
      }
     },
     "4e8821221c954ec69ee3757ee2cd3d38": {
      "model_module": "@jupyter-widgets/controls",
      "model_module_version": "1.4.0",
      "model_name": "HTMLModel",
      "state": {
       "layout": "IPY_MODEL_46cad5db308d4cbdae65a87e47a127ff",
       "style": "IPY_MODEL_8210d6448c1848409b2a3679ad805139",
       "value": "<h4 style=\"font-size:14px;\">Welche zwei Faktoren führen bei der syntaktischen Analyse natürlicher Sprache mittels formaler Grammatiken zu mehr Ambiguität (Anzahl an Ableitungen)?</h4>"
      }
     },
     "4f9a30a4dea2481a81ea9a0059eb2dac": {
      "model_module": "@jupyter-widgets/base",
      "model_module_version": "1.1.0",
      "model_name": "LayoutModel",
      "state": {
       "width": "600px"
      }
     },
     "4fa4f6b3c0414f8c9c924399fccbe51f": {
      "model_module": "@jupyter-widgets/controls",
      "model_module_version": "1.4.0",
      "model_name": "CheckboxModel",
      "state": {
       "description": "Attachment-Ambiguität",
       "disabled": false,
       "layout": "IPY_MODEL_15d20b59697e46a085bc32c62ed5ad83",
       "style": "IPY_MODEL_b046e55483764c908c33d24b238821aa",
       "value": false
      }
     },
     "4fd05564cf2c4413a2fe862ac0bcf4bc": {
      "model_module": "@jupyter-widgets/controls",
      "model_module_version": "1.4.0",
      "model_name": "CheckboxModel",
      "state": {
       "description": "Abnahme der Anzahl von Regeln",
       "disabled": false,
       "layout": "IPY_MODEL_7a3e4b18250946908de76738947927a1",
       "style": "IPY_MODEL_9e0c5e7fb6344bb1876e65774a504e37",
       "value": false
      }
     },
     "501e48200406425a861f50b24dafdccb": {
      "model_module": "@jupyter-widgets/base",
      "model_module_version": "1.1.0",
      "model_name": "LayoutModel",
      "state": {}
     },
     "5033e471590c4609be208b6167b700ce": {
      "model_module": "@jupyter-widgets/base",
      "model_module_version": "1.1.0",
      "model_name": "LayoutModel",
      "state": {
       "justify_content": "center"
      }
     },
     "50f74ab71463476287ecb4223536e8db": {
      "model_module": "@jupyter-widgets/base",
      "model_module_version": "1.1.0",
      "model_name": "LayoutModel",
      "state": {}
     },
     "5138af9978b14b5aa00e5be00f09ec7d": {
      "model_module": "@jupyter-widgets/controls",
      "model_module_version": "1.4.0",
      "model_name": "TextModel",
      "state": {
       "layout": "IPY_MODEL_7934da37b4734010856d698af4ac457a",
       "style": "IPY_MODEL_7dd91acc60a04f15809e5358061d5ff6"
      }
     },
     "514cfbbb28d4434c92062ca9e9802a6f": {
      "model_module": "@jupyter-widgets/controls",
      "model_module_version": "1.4.0",
      "model_name": "DescriptionStyleModel",
      "state": {
       "description_width": ""
      }
     },
     "519b2695c04b4c7ea5a1df0193b2575d": {
      "model_module": "@jupyter-widgets/controls",
      "model_module_version": "1.4.0",
      "model_name": "CheckboxModel",
      "state": {
       "description": "Weil die zwei Schichten sonst nicht mehr lernen können als nur eine Schicht.",
       "disabled": false,
       "layout": "IPY_MODEL_ae74465b363d4fe9a3318e2f34cde623",
       "style": "IPY_MODEL_07c4010c25a34993a586a44ae94a2a52",
       "value": false
      }
     },
     "51b7adcd62f6441db9096c427093827e": {
      "model_module": "@jupyter-widgets/controls",
      "model_module_version": "1.4.0",
      "model_name": "VBoxModel",
      "state": {
       "children": [
        "IPY_MODEL_22e8730d41be4afcb11df53b9e710cee",
        "IPY_MODEL_012bcb80bbd5442db81a1ec18c1a4846",
        "IPY_MODEL_de85a6b806844d00b3d72ee667e6b873",
        "IPY_MODEL_188b190e9bfb4369ae0566824781d49f"
       ],
       "layout": "IPY_MODEL_2a9fad8cdc5046328a12de8f585a9f8f"
      }
     },
     "5245cdb3c27b415aa9ffbc5b80ee6c85": {
      "model_module": "@jupyter-widgets/base",
      "model_module_version": "1.1.0",
      "model_name": "LayoutModel",
      "state": {
       "width": "600px"
      }
     },
     "526acd6723894a2fa704d0d9113d4f72": {
      "model_module": "@jupyter-widgets/base",
      "model_module_version": "1.1.0",
      "model_name": "LayoutModel",
      "state": {
       "width": "600px"
      }
     },
     "53ed9732033b422281def17b9c72178f": {
      "model_module": "@jupyter-widgets/controls",
      "model_module_version": "1.4.0",
      "model_name": "ButtonModel",
      "state": {
       "description": "Korrekt?",
       "layout": "IPY_MODEL_4535c4e7109542bda7077f45da8ee37b",
       "style": "IPY_MODEL_a6de9a908157435abeafa3e112508319"
      }
     },
     "53f9129e2d1f4409a0fac4b75c62e50d": {
      "model_module": "@jupyter-widgets/base",
      "model_module_version": "1.1.0",
      "model_name": "LayoutModel",
      "state": {
       "width": "600px"
      }
     },
     "5425ed734c5b47dbb94fd79be036fc0e": {
      "model_module": "@jupyter-widgets/controls",
      "model_module_version": "1.4.0",
      "model_name": "HTMLModel",
      "state": {
       "layout": "IPY_MODEL_3e4f681eded54ce786fe0bb511083438",
       "style": "IPY_MODEL_a5f8d452aa794fc89ca3bc6276dcea91",
       "value": "<i>Wählen Sie die zwei korrekten Antworten aus.</i>"
      }
     },
     "543ab5aed11a496eb7a96c39b141a760": {
      "model_module": "@jupyter-widgets/controls",
      "model_module_version": "1.4.0",
      "model_name": "DescriptionStyleModel",
      "state": {
       "description_width": "initial"
      }
     },
     "5481c451e7684bedb2b1ad91d4864a85": {
      "model_module": "@jupyter-widgets/controls",
      "model_module_version": "1.4.0",
      "model_name": "ButtonModel",
      "state": {
       "description": "Korrekt?",
       "layout": "IPY_MODEL_3dba34bdec3542268c5639486fbcee60",
       "style": "IPY_MODEL_d0bf5c5906e04e4098e2fdee925ccb71"
      }
     },
     "5491e0cb08524873b24eb2e85d188b61": {
      "model_module": "@jupyter-widgets/controls",
      "model_module_version": "1.4.0",
      "model_name": "DescriptionStyleModel",
      "state": {
       "description_width": ""
      }
     },
     "54989be193bc43e4ad24af8d68ee71eb": {
      "model_module": "@jupyter-widgets/controls",
      "model_module_version": "1.4.0",
      "model_name": "ButtonStyleModel",
      "state": {
       "button_color": "lightgreen"
      }
     },
     "54a33f8946754e2c87ce24a0eb6ba47e": {
      "model_module": "@jupyter-widgets/controls",
      "model_module_version": "1.4.0",
      "model_name": "ButtonModel",
      "state": {
       "description": "Korrekt?",
       "layout": "IPY_MODEL_56086ab00738438e8301ef8d29aa7230",
       "style": "IPY_MODEL_56390fea756048eda432fab92bd88a6c"
      }
     },
     "5538cf0f86ac45a29fc36f17b706048a": {
      "model_module": "@jupyter-widgets/controls",
      "model_module_version": "1.4.0",
      "model_name": "DescriptionStyleModel",
      "state": {
       "description_width": "initial"
      }
     },
     "558789c85002477d88f928da64e0c4c2": {
      "model_module": "@jupyter-widgets/controls",
      "model_module_version": "1.4.0",
      "model_name": "DescriptionStyleModel",
      "state": {
       "description_width": ""
      }
     },
     "55a556cae7824c7b8f10693c162ec8a5": {
      "model_module": "@jupyter-widgets/base",
      "model_module_version": "1.1.0",
      "model_name": "LayoutModel",
      "state": {
       "justify_content": "center"
      }
     },
     "55d67a6b9483498ab05ca3ff43655e02": {
      "model_module": "@jupyter-widgets/controls",
      "model_module_version": "1.4.0",
      "model_name": "VBoxModel",
      "state": {
       "children": [
        "IPY_MODEL_ff15bb4933474d5fbc853f2dbda1251c",
        "IPY_MODEL_18e89570b376485aac39e94607d67b7d",
        "IPY_MODEL_aaeaa0242b42412282a038dafb7e9ca5",
        "IPY_MODEL_57749e1660484b7fae0f574d1dc5dd9e"
       ],
       "layout": "IPY_MODEL_480d8b9bc567412caa25bd7fc3c36b66"
      }
     },
     "55e635bc9fbc45c09d25eff1dd632871": {
      "model_module": "@jupyter-widgets/controls",
      "model_module_version": "1.4.0",
      "model_name": "DescriptionStyleModel",
      "state": {
       "description_width": "initial"
      }
     },
     "56086ab00738438e8301ef8d29aa7230": {
      "model_module": "@jupyter-widgets/base",
      "model_module_version": "1.1.0",
      "model_name": "LayoutModel",
      "state": {
       "width": "250px"
      }
     },
     "56390fea756048eda432fab92bd88a6c": {
      "model_module": "@jupyter-widgets/controls",
      "model_module_version": "1.4.0",
      "model_name": "ButtonStyleModel",
      "state": {
       "button_color": "lightgreen"
      }
     },
     "565a5d8bd722401ca972e5de7146d671": {
      "model_module": "@jupyter-widgets/controls",
      "model_module_version": "1.4.0",
      "model_name": "DescriptionStyleModel",
      "state": {
       "description_width": "initial"
      }
     },
     "568464cc56a04c7dbba40b2a9aebd5dd": {
      "model_module": "@jupyter-widgets/controls",
      "model_module_version": "1.4.0",
      "model_name": "DescriptionStyleModel",
      "state": {
       "description_width": "initial"
      }
     },
     "568f605162744295a34741af52f27366": {
      "model_module": "@jupyter-widgets/controls",
      "model_module_version": "1.4.0",
      "model_name": "ButtonStyleModel",
      "state": {
       "button_color": "lightgreen"
      }
     },
     "569b8534d5ee4bd383ce2fa15b0e00c2": {
      "model_module": "@jupyter-widgets/controls",
      "model_module_version": "1.4.0",
      "model_name": "DescriptionStyleModel",
      "state": {
       "description_width": ""
      }
     },
     "56d6b3ce586f4c0a91fd675544e1cb9c": {
      "model_module": "@jupyter-widgets/controls",
      "model_module_version": "1.4.0",
      "model_name": "HTMLModel",
      "state": {
       "layout": "IPY_MODEL_8a39779f0fd84af49dc135d5e676d7f7",
       "style": "IPY_MODEL_9e80113af4a94abc9ba5b92058088801",
       "value": "<h4 style=\"font-size:14px;\">Welche zwei Faktoren führen bei der syntaktischen Analyse natürlicher Sprache mittels formaler Grammatiken zu mehr Ambiguität (Anzahl an Ableitungen)?</h4>"
      }
     },
     "57567ea5602649ca8ebf9b37b43af5a8": {
      "model_module": "@jupyter-widgets/base",
      "model_module_version": "1.1.0",
      "model_name": "LayoutModel",
      "state": {}
     },
     "5756e044bd604722b7fd3a7a539ca2f4": {
      "model_module": "@jupyter-widgets/controls",
      "model_module_version": "1.4.0",
      "model_name": "DescriptionStyleModel",
      "state": {
       "description_width": "initial"
      }
     },
     "57749e1660484b7fae0f574d1dc5dd9e": {
      "model_module": "@jupyter-widgets/controls",
      "model_module_version": "1.4.0",
      "model_name": "ButtonModel",
      "state": {
       "description": "Korrekt?",
       "layout": "IPY_MODEL_c15eae45d00447e2a93ccbae07529e33",
       "style": "IPY_MODEL_14df82200c73477ea27195e3027d5a61"
      }
     },
     "5823b3845ee04733a06c3961d0748cbb": {
      "model_module": "@jupyter-widgets/controls",
      "model_module_version": "1.4.0",
      "model_name": "VBoxModel",
      "state": {
       "children": [
        "IPY_MODEL_8ed3e1c0bd584cd5896b3a5e099f76b9",
        "IPY_MODEL_6a3ead2090bb4f76987cec9bd77b4f8a",
        "IPY_MODEL_b7ce43eaff7c4f07b28c24fe903c19e8",
        "IPY_MODEL_5f130f7405554dc7b1408192fff167c1"
       ],
       "layout": "IPY_MODEL_5d185511f2f64d3cab770c545d79bd81"
      }
     },
     "585266113f1943aeb024ee0b5fddaf70": {
      "model_module": "@jupyter-widgets/base",
      "model_module_version": "1.1.0",
      "model_name": "LayoutModel",
      "state": {
       "width": "600px"
      }
     },
     "58726c9b71334b1fa14bd4bca84ca7bc": {
      "model_module": "@jupyter-widgets/controls",
      "model_module_version": "1.4.0",
      "model_name": "ButtonStyleModel",
      "state": {}
     },
     "598ed5b42317467a9522a3f4646adcd2": {
      "model_module": "@jupyter-widgets/controls",
      "model_module_version": "1.4.0",
      "model_name": "CheckboxModel",
      "state": {
       "description": "Die Summe aller Regelwahrscheinlichkeiten für jede LHS ist jeweils 1.",
       "disabled": false,
       "layout": "IPY_MODEL_95e47380b0d44003a73f7bb5c63a5015",
       "style": "IPY_MODEL_8d0623cf417c4a71863fd93d3d8c8fd3",
       "value": true
      }
     },
     "59d0ba9d08184aeb85c6052928369f0b": {
      "model_module": "@jupyter-widgets/controls",
      "model_module_version": "1.4.0",
      "model_name": "DescriptionStyleModel",
      "state": {
       "description_width": ""
      }
     },
     "59e4e0b1650940a4a5a08716b2c8478b": {
      "model_module": "@jupyter-widgets/controls",
      "model_module_version": "1.4.0",
      "model_name": "HTMLModel",
      "state": {
       "layout": "IPY_MODEL_c70001e67c0b4a01a3555f0d448309a8",
       "style": "IPY_MODEL_ef22a59d63904d909affd0c9b44d2eef",
       "value": "<i>Wählen Sie die zwei korrekten Antworten aus.</i>"
      }
     },
     "5a928e647fe343feb2d666842ee0b05f": {
      "model_module": "@jupyter-widgets/base",
      "model_module_version": "1.1.0",
      "model_name": "LayoutModel",
      "state": {
       "width": "600px"
      }
     },
     "5a9ce17bfd8046638daacefc979fe0d0": {
      "model_module": "@jupyter-widgets/controls",
      "model_module_version": "1.4.0",
      "model_name": "HBoxModel",
      "state": {
       "children": [
        "IPY_MODEL_8b452976b3874896bd1cc69a8fbedab8",
        "IPY_MODEL_35052fa955f444b79f668268a6a981ba"
       ],
       "layout": "IPY_MODEL_93f27676b2be4227b38148edf3e99402"
      }
     },
     "5adf3963b53b4ddfb1a780a411754384": {
      "model_module": "@jupyter-widgets/controls",
      "model_module_version": "1.4.0",
      "model_name": "DescriptionStyleModel",
      "state": {
       "description_width": ""
      }
     },
     "5aff972fd8434770af27adc44caa3d4f": {
      "model_module": "@jupyter-widgets/base",
      "model_module_version": "1.1.0",
      "model_name": "LayoutModel",
      "state": {}
     },
     "5b98a767cf6740aab8beeb9d40b2c0c7": {
      "model_module": "@jupyter-widgets/base",
      "model_module_version": "1.1.0",
      "model_name": "LayoutModel",
      "state": {
       "width": "600px"
      }
     },
     "5b9ac8c808884f77800738fee074d2ce": {
      "model_module": "@jupyter-widgets/controls",
      "model_module_version": "1.4.0",
      "model_name": "CheckboxModel",
      "state": {
       "description": "kürzere Sätze",
       "disabled": false,
       "layout": "IPY_MODEL_0adc07243c0044bf8c73d33a1ec3bfb5",
       "style": "IPY_MODEL_2d15c17b924b4399bda81db5666cb215",
       "value": false
      }
     },
     "5bffb057d26d403f8bffe06cfd8cc942": {
      "model_module": "@jupyter-widgets/controls",
      "model_module_version": "1.4.0",
      "model_name": "DescriptionStyleModel",
      "state": {
       "description_width": ""
      }
     },
     "5c154bb70f514073a90de67116b2aa67": {
      "model_module": "@jupyter-widgets/controls",
      "model_module_version": "1.4.0",
      "model_name": "CheckboxModel",
      "state": {
       "description": "lexikalische Ambiguität",
       "disabled": false,
       "layout": "IPY_MODEL_9dec113d816d442384658407b6eca6a8",
       "style": "IPY_MODEL_88e8d6b1033c43d9856d1b793d64af71",
       "value": false
      }
     },
     "5c75c23e607b45609c2578080724eda2": {
      "model_module": "@jupyter-widgets/controls",
      "model_module_version": "1.4.0",
      "model_name": "DescriptionStyleModel",
      "state": {
       "description_width": ""
      }
     },
     "5c98f72addc64d36af576ce082be2c32": {
      "model_module": "@jupyter-widgets/controls",
      "model_module_version": "1.4.0",
      "model_name": "DescriptionStyleModel",
      "state": {
       "description_width": ""
      }
     },
     "5c9d278c065543a59588b20a26c223fe": {
      "model_module": "@jupyter-widgets/controls",
      "model_module_version": "1.4.0",
      "model_name": "CheckboxModel",
      "state": {
       "description": "Zunahme der Anzahl von Regeln",
       "disabled": false,
       "layout": "IPY_MODEL_3894c465681f440bad01c241231ac0e1",
       "style": "IPY_MODEL_4925a09a8ee749cda6679f0a138bc592",
       "value": false
      }
     },
     "5cd1b070db2d4171937e499170e4f77c": {
      "model_module": "@jupyter-widgets/controls",
      "model_module_version": "1.4.0",
      "model_name": "DescriptionStyleModel",
      "state": {
       "description_width": "initial"
      }
     },
     "5ce23212b0f748969954f179758c298f": {
      "model_module": "@jupyter-widgets/controls",
      "model_module_version": "1.4.0",
      "model_name": "HTMLModel",
      "state": {
       "layout": "IPY_MODEL_fdf13df07c4c460f9682a7fc827f033e",
       "style": "IPY_MODEL_9e122d4213814d8a9fdb397d5f04053a",
       "value": "<i>Wählen Sie die <ins>eine</ins> korrekte Antwort aus: </i>"
      }
     },
     "5d185511f2f64d3cab770c545d79bd81": {
      "model_module": "@jupyter-widgets/base",
      "model_module_version": "1.1.0",
      "model_name": "LayoutModel",
      "state": {}
     },
     "5d2292d072cf44ec8c8168865665bd1e": {
      "model_module": "@jupyter-widgets/controls",
      "model_module_version": "1.4.0",
      "model_name": "DescriptionStyleModel",
      "state": {
       "description_width": "initial"
      }
     },
     "5d2eeb49ef234cd58b8001336af46877": {
      "model_module": "@jupyter-widgets/controls",
      "model_module_version": "1.4.0",
      "model_name": "HTMLModel",
      "state": {
       "layout": "IPY_MODEL_99f7abdb6fe643deb0129cc3727eb470",
       "style": "IPY_MODEL_6b75ca38bfb74fd195deb330a57acf42",
       "value": "<h4 style=\"font-size:14px;\">Welche zwei Faktoren führen bei der syntaktischen Analyse natürlicher Sprache mittels formaler Grammatiken zu mehr Ambiguität (Anzahl an Ableitungen)?</h4>"
      }
     },
     "5d40767216334c36a4806c1ef760be2d": {
      "model_module": "@jupyter-widgets/controls",
      "model_module_version": "1.4.0",
      "model_name": "ButtonStyleModel",
      "state": {}
     },
     "5d723b547a6b4b588690bc988a840823": {
      "model_module": "@jupyter-widgets/controls",
      "model_module_version": "1.4.0",
      "model_name": "ButtonModel",
      "state": {
       "description": "nach der Wahrscheinlichkeit",
       "layout": "IPY_MODEL_2f09278cfbde4b339130c93932f99211",
       "style": "IPY_MODEL_c97c94dd3843429192a5c11038f679e3"
      }
     },
     "5e2377f6c2024cfb93642e7222dc431e": {
      "model_module": "@jupyter-widgets/controls",
      "model_module_version": "1.4.0",
      "model_name": "CheckboxModel",
      "state": {
       "description": "Finden aller Konstituenten",
       "disabled": false,
       "layout": "IPY_MODEL_976daa6985d34e6a841358c4bef34781",
       "style": "IPY_MODEL_99edc90790ba40fb8467af106b3a36bf",
       "value": false
      }
     },
     "5e7d408aa6f9473581d7404cdb312697": {
      "model_module": "@jupyter-widgets/base",
      "model_module_version": "1.1.0",
      "model_name": "LayoutModel",
      "state": {
       "width": "600px"
      }
     },
     "5ef33a1ea9944b148fd72c68d1fed047": {
      "model_module": "@jupyter-widgets/base",
      "model_module_version": "1.1.0",
      "model_name": "LayoutModel",
      "state": {
       "width": "600px"
      }
     },
     "5efec39308b044aeb2174baaddcb0afd": {
      "model_module": "@jupyter-widgets/base",
      "model_module_version": "1.1.0",
      "model_name": "LayoutModel",
      "state": {}
     },
     "5f130f7405554dc7b1408192fff167c1": {
      "model_module": "@jupyter-widgets/controls",
      "model_module_version": "1.4.0",
      "model_name": "ButtonModel",
      "state": {
       "description": "Korrekt?",
       "layout": "IPY_MODEL_68afb01c79e743e0b0c28c848512df2e",
       "style": "IPY_MODEL_03381ab1f8db44e3948d8a515a36bcef"
      }
     },
     "5f24ccd957524b7da47a10363333c2d9": {
      "model_module": "@jupyter-widgets/controls",
      "model_module_version": "1.4.0",
      "model_name": "DescriptionStyleModel",
      "state": {
       "description_width": "initial"
      }
     },
     "5f2b05b00201412c8879fc29485767f3": {
      "model_module": "@jupyter-widgets/controls",
      "model_module_version": "1.4.0",
      "model_name": "VBoxModel",
      "state": {
       "children": [
        "IPY_MODEL_6eb4573c7b654747b8ce5d4e557e8e4f",
        "IPY_MODEL_e40fd3b182524952bec9c85c8d663d44",
        "IPY_MODEL_5f693c1516fc4cb8a6ef84a64d41b0ef",
        "IPY_MODEL_c196ca7a3f4848c58a7a14572a5718dc"
       ],
       "layout": "IPY_MODEL_ef54af967004427c8aaecc099a90d49c"
      }
     },
     "5f693c1516fc4cb8a6ef84a64d41b0ef": {
      "model_module": "@jupyter-widgets/controls",
      "model_module_version": "1.4.0",
      "model_name": "VBoxModel",
      "state": {
       "children": [
        "IPY_MODEL_7ed0ec2a25054652bd6ebe412f2089b2",
        "IPY_MODEL_1a54c0d0993d4bdaaca64d0e3c4df52b",
        "IPY_MODEL_2508007d28e74d499c15e17785d0fbef",
        "IPY_MODEL_91f563b8927841d293ca532223d5bb5e"
       ],
       "layout": "IPY_MODEL_ee78cf5d78c54d0f87b29d722ebd1d3a"
      }
     },
     "5f74c33914fa41329ccdea4d30f80bfe": {
      "model_module": "@jupyter-widgets/base",
      "model_module_version": "1.1.0",
      "model_name": "LayoutModel",
      "state": {
       "width": "600px"
      }
     },
     "5fa63efe1d4d43cdb3fc332d4122bb98": {
      "model_module": "@jupyter-widgets/controls",
      "model_module_version": "1.4.0",
      "model_name": "DescriptionStyleModel",
      "state": {
       "description_width": ""
      }
     },
     "606421cd09c741e8aec29ccda03ea92b": {
      "model_module": "@jupyter-widgets/base",
      "model_module_version": "1.1.0",
      "model_name": "LayoutModel",
      "state": {}
     },
     "61553485bdbb4ba6b8ac8aa2aafeb196": {
      "model_module": "@jupyter-widgets/controls",
      "model_module_version": "1.4.0",
      "model_name": "CheckboxModel",
      "state": {
       "description": "Finden aller Konstituenten",
       "disabled": false,
       "layout": "IPY_MODEL_8e8b6646a931460f97190cd8d2f7d1f4",
       "style": "IPY_MODEL_3ace813003924a99ae9178d1455488a6",
       "value": false
      }
     },
     "619c97847f324238a760b0c9f4610dd5": {
      "model_module": "@jupyter-widgets/controls",
      "model_module_version": "1.4.0",
      "model_name": "DescriptionStyleModel",
      "state": {
       "description_width": ""
      }
     },
     "619e6abe59ff4b4ba4d1e996b2b98454": {
      "model_module": "@jupyter-widgets/controls",
      "model_module_version": "1.4.0",
      "model_name": "ButtonStyleModel",
      "state": {}
     },
     "61c5f6f008c04e17af50d17b51ad31d4": {
      "model_module": "@jupyter-widgets/controls",
      "model_module_version": "1.4.0",
      "model_name": "DescriptionStyleModel",
      "state": {
       "description_width": ""
      }
     },
     "61dba8a38e2946a5993c7d780ddb4515": {
      "model_module": "@jupyter-widgets/base",
      "model_module_version": "1.1.0",
      "model_name": "LayoutModel",
      "state": {
       "justify_content": "center"
      }
     },
     "632f68933578424cb804fa524030d8ed": {
      "model_module": "@jupyter-widgets/base",
      "model_module_version": "1.1.0",
      "model_name": "LayoutModel",
      "state": {}
     },
     "635385c5815044558d8580f5da845167": {
      "model_module": "@jupyter-widgets/controls",
      "model_module_version": "1.4.0",
      "model_name": "DescriptionStyleModel",
      "state": {
       "description_width": "initial"
      }
     },
     "6374c59fae7b4d99a120357a9d12d7a4": {
      "model_module": "@jupyter-widgets/controls",
      "model_module_version": "1.4.0",
      "model_name": "DescriptionStyleModel",
      "state": {
       "description_width": "initial"
      }
     },
     "649481ac83264f799de4cdaa349978ef": {
      "model_module": "@jupyter-widgets/base",
      "model_module_version": "1.1.0",
      "model_name": "LayoutModel",
      "state": {}
     },
     "649eb8b5cb6e47c3a0c125851ec40b6a": {
      "model_module": "@jupyter-widgets/controls",
      "model_module_version": "1.4.0",
      "model_name": "DescriptionStyleModel",
      "state": {
       "description_width": "initial"
      }
     },
     "64f66c2534254503b14ac79767856ca2": {
      "model_module": "@jupyter-widgets/base",
      "model_module_version": "1.1.0",
      "model_name": "LayoutModel",
      "state": {
       "width": "600px"
      }
     },
     "65305a5585464f3493163f6fe8b0c2b0": {
      "model_module": "@jupyter-widgets/controls",
      "model_module_version": "1.4.0",
      "model_name": "CheckboxModel",
      "state": {
       "description": "lexikalische Ambiguität",
       "disabled": false,
       "layout": "IPY_MODEL_f0bc36df76014c86a753c7a56ff74176",
       "style": "IPY_MODEL_fdfadbd8d18f4ea8992d0d958ee7d8a8",
       "value": false
      }
     },
     "65720700eb8949debf953c41ec517adb": {
      "model_module": "@jupyter-widgets/base",
      "model_module_version": "1.1.0",
      "model_name": "LayoutModel",
      "state": {}
     },
     "658169e062244a75aee74bc4578d5aef": {
      "model_module": "@jupyter-widgets/base",
      "model_module_version": "1.1.0",
      "model_name": "LayoutModel",
      "state": {
       "width": "600px"
      }
     },
     "65c28bf769f445e482ab8e26e989009e": {
      "model_module": "@jupyter-widgets/controls",
      "model_module_version": "1.4.0",
      "model_name": "VBoxModel",
      "state": {
       "children": [
        "IPY_MODEL_1426b20b66d34ca8a044ae521f5b5dc7",
        "IPY_MODEL_19b16060f663495e92c306317bb80458",
        "IPY_MODEL_19a156b3e33741b5a102d56d36b5a4e8",
        "IPY_MODEL_1a3ccca0d0364445a158c17516dbaaa2"
       ],
       "layout": "IPY_MODEL_c39d05fcadbb40de9700299448cba234"
      }
     },
     "65fc244317fe469b9941f7ab0e427a82": {
      "model_module": "@jupyter-widgets/controls",
      "model_module_version": "1.4.0",
      "model_name": "CheckboxModel",
      "state": {
       "description": "kürzere Sätze",
       "disabled": false,
       "layout": "IPY_MODEL_7d0c5d5c30ff4e0a85e07e0876032b23",
       "style": "IPY_MODEL_8f7074f9efe2470b916aefef1a7b8d84",
       "value": false
      }
     },
     "6609b30588f145d0a58fff89204cde1e": {
      "model_module": "@jupyter-widgets/controls",
      "model_module_version": "1.4.0",
      "model_name": "DescriptionStyleModel",
      "state": {
       "description_width": ""
      }
     },
     "6630ee2ad3834977b50621b0c52bc5cf": {
      "model_module": "@jupyter-widgets/controls",
      "model_module_version": "1.4.0",
      "model_name": "ButtonModel",
      "state": {
       "description": "Korrekt?",
       "layout": "IPY_MODEL_420187cd0f1e402a90fdf89ddbfec621",
       "style": "IPY_MODEL_58726c9b71334b1fa14bd4bca84ca7bc"
      }
     },
     "670763f80bfd405da453e680e4a1909a": {
      "model_module": "@jupyter-widgets/base",
      "model_module_version": "1.1.0",
      "model_name": "LayoutModel",
      "state": {
       "width": "600px"
      }
     },
     "672a0c612f1848c7bac8d78ed6c2b2c1": {
      "model_module": "@jupyter-widgets/controls",
      "model_module_version": "1.4.0",
      "model_name": "HTMLModel",
      "state": {
       "layout": "IPY_MODEL_e07de0ca7ce246e3adff19e1d83bf304",
       "style": "IPY_MODEL_072587a4cf7d48c18b41eb94a0c64f1c",
       "value": "<i>Wählen Sie die zwei korrekten Antworten aus.</i>"
      }
     },
     "678ccc5c89ce43efa523f31a9b1f0834": {
      "model_module": "@jupyter-widgets/base",
      "model_module_version": "1.1.0",
      "model_name": "LayoutModel",
      "state": {}
     },
     "67980574a7b040c19975bbfdb3bc06ee": {
      "model_module": "@jupyter-widgets/base",
      "model_module_version": "1.1.0",
      "model_name": "LayoutModel",
      "state": {
       "width": "600px"
      }
     },
     "67bfdcf36e574f79a0c4294e355816e0": {
      "model_module": "@jupyter-widgets/controls",
      "model_module_version": "1.4.0",
      "model_name": "DescriptionStyleModel",
      "state": {
       "description_width": "initial"
      }
     },
     "67ef6a880aab420c9a667a9ee03cdf20": {
      "model_module": "@jupyter-widgets/base",
      "model_module_version": "1.1.0",
      "model_name": "LayoutModel",
      "state": {}
     },
     "68321b4e4def45309b5f209e7558de02": {
      "model_module": "@jupyter-widgets/controls",
      "model_module_version": "1.4.0",
      "model_name": "VBoxModel",
      "state": {
       "children": [
        "IPY_MODEL_0b3dbff01658477fa078efcd87be9908",
        "IPY_MODEL_a341537a7a9f4f728dfde35c6c4253b5",
        "IPY_MODEL_65305a5585464f3493163f6fe8b0c2b0",
        "IPY_MODEL_d5be7394786a4b17a31b49a9f9cebf8b"
       ],
       "layout": "IPY_MODEL_487c1cb0e1c548caa97e29e3488b51af"
      }
     },
     "6836e52a0a53418191f515f0ea0cc435": {
      "model_module": "@jupyter-widgets/base",
      "model_module_version": "1.1.0",
      "model_name": "LayoutModel",
      "state": {
       "width": "250px"
      }
     },
     "684f41d42ff3457681cea0d68193bcce": {
      "model_module": "@jupyter-widgets/controls",
      "model_module_version": "1.4.0",
      "model_name": "CheckboxModel",
      "state": {
       "description": "Die Summe aller Regelwahrscheinlichkeiten für jede LHS ist jeweils 1.",
       "disabled": false,
       "layout": "IPY_MODEL_ce21f7bffdc64b94a299ae354dd42123",
       "style": "IPY_MODEL_af414f23f9014bd091f5d2f5e3e52649",
       "value": false
      }
     },
     "6893c90e9dd046f7b436e23a4225ea41": {
      "model_module": "@jupyter-widgets/base",
      "model_module_version": "1.1.0",
      "model_name": "LayoutModel",
      "state": {}
     },
     "68afb01c79e743e0b0c28c848512df2e": {
      "model_module": "@jupyter-widgets/base",
      "model_module_version": "1.1.0",
      "model_name": "LayoutModel",
      "state": {
       "width": "250px"
      }
     },
     "691a06a34b3d4e189e8471592625b9b8": {
      "model_module": "@jupyter-widgets/base",
      "model_module_version": "1.1.0",
      "model_name": "LayoutModel",
      "state": {
       "width": "600px"
      }
     },
     "69656180faef4a9b8c3861f9d83234ae": {
      "model_module": "@jupyter-widgets/controls",
      "model_module_version": "1.4.0",
      "model_name": "ButtonModel",
      "state": {
       "description": "OK",
       "layout": "IPY_MODEL_0cd6e4901d0840768f7045c97e698fdc",
       "style": "IPY_MODEL_f887111c9230414eb23455a9a168119f"
      }
     },
     "69726f70637c440bb07de3bd303a5603": {
      "model_module": "@jupyter-widgets/base",
      "model_module_version": "1.1.0",
      "model_name": "LayoutModel",
      "state": {
       "justify_content": "center"
      }
     },
     "69751303a06247e097f9b07a64b40f21": {
      "model_module": "@jupyter-widgets/controls",
      "model_module_version": "1.4.0",
      "model_name": "DescriptionStyleModel",
      "state": {
       "description_width": "initial"
      }
     },
     "69d4db76b8f54cdc8d115cebcbda2a23": {
      "model_module": "@jupyter-widgets/base",
      "model_module_version": "1.1.0",
      "model_name": "LayoutModel",
      "state": {}
     },
     "6a3ead2090bb4f76987cec9bd77b4f8a": {
      "model_module": "@jupyter-widgets/controls",
      "model_module_version": "1.4.0",
      "model_name": "HTMLModel",
      "state": {
       "layout": "IPY_MODEL_61dba8a38e2946a5993c7d780ddb4515",
       "style": "IPY_MODEL_e6f44f0638874297a80e1caf3966fa1c",
       "value": "<i>Wählen Sie die zwei korrekten Antworten aus.</i>"
      }
     },
     "6a497985dc4e43c8b156538bbbf896b3": {
      "model_module": "@jupyter-widgets/base",
      "model_module_version": "1.1.0",
      "model_name": "LayoutModel",
      "state": {
       "width": "600px"
      }
     },
     "6a922d914a0541c686b9ee85d92d8ab3": {
      "model_module": "@jupyter-widgets/base",
      "model_module_version": "1.1.0",
      "model_name": "LayoutModel",
      "state": {
       "width": "600px"
      }
     },
     "6ac8bf58c4594a708b502078fc701407": {
      "model_module": "@jupyter-widgets/base",
      "model_module_version": "1.1.0",
      "model_name": "LayoutModel",
      "state": {
       "width": "600px"
      }
     },
     "6aceee211244498da39096253e77f249": {
      "model_module": "@jupyter-widgets/controls",
      "model_module_version": "1.4.0",
      "model_name": "CheckboxModel",
      "state": {
       "description": "strukturelle Ambiguität",
       "disabled": false,
       "layout": "IPY_MODEL_6a922d914a0541c686b9ee85d92d8ab3",
       "style": "IPY_MODEL_0c73c9d4c0664e3d820d8fe9c05d57d4",
       "value": false
      }
     },
     "6af62be9704e4b2b99b0cc403f03d507": {
      "model_module": "@jupyter-widgets/controls",
      "model_module_version": "1.4.0",
      "model_name": "VBoxModel",
      "state": {
       "children": [
        "IPY_MODEL_8661f9d55a994e209bb07f2a66eecfc9",
        "IPY_MODEL_519b2695c04b4c7ea5a1df0193b2575d",
        "IPY_MODEL_27c85637267148aebe26e2f12783be09",
        "IPY_MODEL_2cf6ca5e6add4664bc50ed99ca530a24"
       ],
       "layout": "IPY_MODEL_65720700eb8949debf953c41ec517adb"
      }
     },
     "6b1631a238e8413388d5e9267be68662": {
      "model_module": "@jupyter-widgets/controls",
      "model_module_version": "1.4.0",
      "model_name": "ButtonModel",
      "state": {
       "description": "Korrekt?",
       "layout": "IPY_MODEL_94f1b10c39774ac1a9b89825078328dc",
       "style": "IPY_MODEL_c55ff8158c6e476eadb933fd59262bf7"
      }
     },
     "6b519c84624548c9b0e6d1065d3eae4b": {
      "model_module": "@jupyter-widgets/base",
      "model_module_version": "1.1.0",
      "model_name": "LayoutModel",
      "state": {}
     },
     "6b5cbc3618164a489212a095786f04fd": {
      "model_module": "@jupyter-widgets/base",
      "model_module_version": "1.1.0",
      "model_name": "LayoutModel",
      "state": {}
     },
     "6b61e15d0a0549b8a50047cf2fd60171": {
      "model_module": "@jupyter-widgets/base",
      "model_module_version": "1.1.0",
      "model_name": "LayoutModel",
      "state": {
       "width": "600px"
      }
     },
     "6b677a75f7a14664ac191ed270408f11": {
      "model_module": "@jupyter-widgets/controls",
      "model_module_version": "1.4.0",
      "model_name": "ButtonModel",
      "state": {
       "description": "Korrekt?",
       "layout": "IPY_MODEL_04eaac00d9ce41aabd7af1b12ce7c337",
       "style": "IPY_MODEL_b86555cc26e24e5894a11bf6beb16bbf"
      }
     },
     "6b75ca38bfb74fd195deb330a57acf42": {
      "model_module": "@jupyter-widgets/controls",
      "model_module_version": "1.4.0",
      "model_name": "DescriptionStyleModel",
      "state": {
       "description_width": ""
      }
     },
     "6bd733a257b247d3a4fa8e7bd628fec0": {
      "model_module": "@jupyter-widgets/controls",
      "model_module_version": "1.4.0",
      "model_name": "DescriptionStyleModel",
      "state": {
       "description_width": "initial"
      }
     },
     "6c7d6cb414774219b5ddf5160de86855": {
      "model_module": "@jupyter-widgets/controls",
      "model_module_version": "1.4.0",
      "model_name": "DescriptionStyleModel",
      "state": {
       "description_width": "initial"
      }
     },
     "6cd4add615a54ba6b4acf8b86c903cde": {
      "model_module": "@jupyter-widgets/controls",
      "model_module_version": "1.4.0",
      "model_name": "ButtonModel",
      "state": {
       "description": "Temporale Ambiguität",
       "layout": "IPY_MODEL_b1c622fa84e0437cbc9372bafae729a5",
       "style": "IPY_MODEL_c5c482ebb6414f5f9afe99aa305e6095"
      }
     },
     "6d22f169f2ef4378800dbec6418e8aa7": {
      "model_module": "@jupyter-widgets/base",
      "model_module_version": "1.1.0",
      "model_name": "LayoutModel",
      "state": {
       "width": "250px"
      }
     },
     "6d707ed8d60747b0a31d29099b5b81bf": {
      "model_module": "@jupyter-widgets/controls",
      "model_module_version": "1.4.0",
      "model_name": "DescriptionStyleModel",
      "state": {
       "description_width": "initial"
      }
     },
     "6d750b059ad0499ebb39711fd428acfd": {
      "model_module": "@jupyter-widgets/base",
      "model_module_version": "1.1.0",
      "model_name": "LayoutModel",
      "state": {}
     },
     "6d950942c7434a9da81d95d6e15c05d2": {
      "model_module": "@jupyter-widgets/base",
      "model_module_version": "1.1.0",
      "model_name": "LayoutModel",
      "state": {}
     },
     "6e6444dbe22e44f48b6d3a683c502302": {
      "model_module": "@jupyter-widgets/controls",
      "model_module_version": "1.4.0",
      "model_name": "VBoxModel",
      "state": {
       "children": [
        "IPY_MODEL_4e8821221c954ec69ee3757ee2cd3d38",
        "IPY_MODEL_a45ab63e0b8041a9b76d2641b9129843",
        "IPY_MODEL_cfc1ad5a1e8d4e3082461a696da0be37",
        "IPY_MODEL_2635012e7ace40f98bdb3fd97fd31690"
       ],
       "layout": "IPY_MODEL_395613da49224c3e90fcbaf8b8ca7da1"
      }
     },
     "6e9213d9d6de48e590e52ffa9e11b4be": {
      "model_module": "@jupyter-widgets/controls",
      "model_module_version": "1.4.0",
      "model_name": "HTMLModel",
      "state": {
       "layout": "IPY_MODEL_6d750b059ad0499ebb39711fd428acfd",
       "style": "IPY_MODEL_f1f20b27082d4fd6b477029b2daf0572",
       "value": "<h4 style=\"font-size:14px;\">Welche zwei Arten von Ambiguität unterscheidet man hier?</h4>"
      }
     },
     "6eb4573c7b654747b8ce5d4e557e8e4f": {
      "model_module": "@jupyter-widgets/controls",
      "model_module_version": "1.4.0",
      "model_name": "HTMLModel",
      "state": {
       "layout": "IPY_MODEL_b03b5fa81f6843fa8deece381bd172ec",
       "style": "IPY_MODEL_4a7f89593ffe4e87a6b8582f973007d6",
       "value": "<h4 style=\"font-size:14px;\">Warum muss zwischen zwei Schichten eines Feedforward-Netzwerks eine nicht-lineare Aktivierungsfunktion eingefügt werden?</h4>"
      }
     },
     "6ef6e3b75b264456bee45d1f1b0a8270": {
      "model_module": "@jupyter-widgets/controls",
      "model_module_version": "1.4.0",
      "model_name": "CheckboxModel",
      "state": {
       "description": "Die Summe aller Regelwahrscheinlichkeiten für jede RHS ist jeweils 1.",
       "disabled": false,
       "layout": "IPY_MODEL_3bec9f553bb54c39987a16208a5eee27",
       "style": "IPY_MODEL_34808c3181c343d7b2a1e63cd75b5405",
       "value": false
      }
     },
     "6f369c389b91483492bd2ae2a6e984df": {
      "model_module": "@jupyter-widgets/base",
      "model_module_version": "1.1.0",
      "model_name": "LayoutModel",
      "state": {
       "width": "600px"
      }
     },
     "6f93e40c26a34d47a146e28cc39534f4": {
      "model_module": "@jupyter-widgets/controls",
      "model_module_version": "1.4.0",
      "model_name": "ButtonStyleModel",
      "state": {}
     },
     "6fbb4ba485074f8c97203171757e5240": {
      "model_module": "@jupyter-widgets/base",
      "model_module_version": "1.1.0",
      "model_name": "LayoutModel",
      "state": {}
     },
     "6fd5e779264841efa9a555c9f6120576": {
      "model_module": "@jupyter-widgets/controls",
      "model_module_version": "1.4.0",
      "model_name": "HTMLModel",
      "state": {
       "layout": "IPY_MODEL_ed3faa645cfe489fb5f934d1b2ca75e3",
       "style": "IPY_MODEL_4db965c9e0af492694f62048c1885c6d",
       "value": "<i>Wählen Sie die zwei korrekten Antworten aus.</i>"
      }
     },
     "6fdf830616394deea2f451132d4689a5": {
      "model_module": "@jupyter-widgets/controls",
      "model_module_version": "1.4.0",
      "model_name": "ButtonStyleModel",
      "state": {}
     },
     "6fef014df88a4313bedcc2e98261f69c": {
      "model_module": "@jupyter-widgets/controls",
      "model_module_version": "1.4.0",
      "model_name": "HTMLModel",
      "state": {
       "layout": "IPY_MODEL_fb4042bfac504a389d783c8872f5041c",
       "style": "IPY_MODEL_e6d57773aa05448483ed69757f0dc9bc",
       "value": "<i>Wählen Sie die zwei korrekten Antworten aus.</i>"
      }
     },
     "6fffcffbf25a4e12a2d332f18260fef3": {
      "model_module": "@jupyter-widgets/controls",
      "model_module_version": "1.4.0",
      "model_name": "VBoxModel",
      "state": {
       "children": [
        "IPY_MODEL_ee6a93343b864227b0d7992613955112",
        "IPY_MODEL_bed779fd7bac4eb5aa173f01d82c80e9",
        "IPY_MODEL_1d98540f4cc3456b9df3de3f05f74be8",
        "IPY_MODEL_0a942790aaf24745b6434a8e7969481d"
       ],
       "layout": "IPY_MODEL_501e48200406425a861f50b24dafdccb"
      }
     },
     "70504c53285d4fe999f9a38a7e7290ff": {
      "model_module": "@jupyter-widgets/controls",
      "model_module_version": "1.4.0",
      "model_name": "DescriptionStyleModel",
      "state": {
       "description_width": "initial"
      }
     },
     "709330e9e6094edf973090ee1e90f2ea": {
      "model_module": "@jupyter-widgets/controls",
      "model_module_version": "1.4.0",
      "model_name": "DescriptionStyleModel",
      "state": {
       "description_width": ""
      }
     },
     "70bd00359ffc4335ac86b8257ae62597": {
      "model_module": "@jupyter-widgets/controls",
      "model_module_version": "1.4.0",
      "model_name": "ButtonModel",
      "state": {
       "description": "Korrekt?",
       "layout": "IPY_MODEL_b01e9a65fae146c5b47efd352862f868",
       "style": "IPY_MODEL_22d9327359c345d39afa47761cbd451b"
      }
     },
     "7106180f43ca49d3908503a016e0e2c7": {
      "model_module": "@jupyter-widgets/base",
      "model_module_version": "1.1.0",
      "model_name": "LayoutModel",
      "state": {
       "width": "600px"
      }
     },
     "7108081bd0aa4ffea55034cfd667dec8": {
      "model_module": "@jupyter-widgets/controls",
      "model_module_version": "1.4.0",
      "model_name": "VBoxModel",
      "state": {
       "children": [
        "IPY_MODEL_cfab4461300546c8ad60d5c55c44d0f1",
        "IPY_MODEL_468de6eac0d9407589fbb3e0f0b87a7d",
        "IPY_MODEL_1dfa113b109a48198abe36dbba25530c"
       ],
       "layout": "IPY_MODEL_e370f5f7a85e477dae2d4d8e1897f02a"
      }
     },
     "71142d2fc3d94c7b9597308b056ca642": {
      "model_module": "@jupyter-widgets/controls",
      "model_module_version": "1.4.0",
      "model_name": "CheckboxModel",
      "state": {
       "description": "längere Sätze",
       "disabled": false,
       "layout": "IPY_MODEL_758628abae3d4eb0be78a17eb5db01ab",
       "style": "IPY_MODEL_91838fc85e3e48328cf986a53ab83169",
       "value": false
      }
     },
     "714a773f9f0c474d8613dd312f32f4c3": {
      "model_module": "@jupyter-widgets/controls",
      "model_module_version": "1.4.0",
      "model_name": "DescriptionStyleModel",
      "state": {
       "description_width": ""
      }
     },
     "71aa20c8606d4216aabbe80aae21d547": {
      "model_module": "@jupyter-widgets/base",
      "model_module_version": "1.1.0",
      "model_name": "LayoutModel",
      "state": {}
     },
     "72155dda48a24ffeb55d85c8fdaca979": {
      "model_module": "@jupyter-widgets/controls",
      "model_module_version": "1.4.0",
      "model_name": "DescriptionStyleModel",
      "state": {
       "description_width": "initial"
      }
     },
     "730d4cc488f44c7a82bc20de4f94f910": {
      "model_module": "@jupyter-widgets/controls",
      "model_module_version": "1.4.0",
      "model_name": "CheckboxModel",
      "state": {
       "description": "Finden aller Konstituenten",
       "disabled": false,
       "layout": "IPY_MODEL_8672f8af53014e76b8972610bae9f846",
       "style": "IPY_MODEL_0a2ec0732eb34f30adcb98e33046ecf5",
       "value": false
      }
     },
     "73152a42c5b44306b8301a88b298a870": {
      "model_module": "@jupyter-widgets/controls",
      "model_module_version": "1.4.0",
      "model_name": "VBoxModel",
      "state": {
       "children": [
        "IPY_MODEL_93edec47c1904632a09aa92087f9d67e",
        "IPY_MODEL_f87ff0f310cc4f06a4051ee2e4ed06ec",
        "IPY_MODEL_1c563b49567b4270b54e8c1b3907fb3f",
        "IPY_MODEL_43446fbff0614ff2b9ee499c54c107d2"
       ],
       "layout": "IPY_MODEL_0807e6039af74d2ca5eed6898bd4734f"
      }
     },
     "731626e3bf1043f0a463966b970d9c9e": {
      "model_module": "@jupyter-widgets/base",
      "model_module_version": "1.1.0",
      "model_name": "LayoutModel",
      "state": {
       "width": "600px"
      }
     },
     "7339a394a3fb4b0ebf378877e1c10011": {
      "model_module": "@jupyter-widgets/controls",
      "model_module_version": "1.4.0",
      "model_name": "HTMLModel",
      "state": {
       "layout": "IPY_MODEL_f2fc2cbffa8746dea8ba27149f0ae452",
       "style": "IPY_MODEL_bb0e4155a23549acbd8c86c9c237b6c1",
       "value": "<i>Wählen Sie die <ins>eine</ins> korrekte Antwort aus: </i>"
      }
     },
     "733a8447122f4153b26b5533a4be131f": {
      "model_module": "@jupyter-widgets/controls",
      "model_module_version": "1.4.0",
      "model_name": "VBoxModel",
      "state": {
       "children": [
        "IPY_MODEL_2ac30cf686154b8ea106bd921e8b70e0",
        "IPY_MODEL_bb3eb806cc2e44cb844670cc95310505",
        "IPY_MODEL_a4c1b08a8cf64d84958cc391472367d1",
        "IPY_MODEL_f9fdd135a08141909d4a9f6b746e18e6"
       ],
       "layout": "IPY_MODEL_a6f24a7cd6ba4c9dbd7484930d0f1b64"
      }
     },
     "73a06f5456344d7d89e5b7ebe4431a77": {
      "model_module": "@jupyter-widgets/controls",
      "model_module_version": "1.4.0",
      "model_name": "HTMLModel",
      "state": {
       "layout": "IPY_MODEL_9d827556814a471eab7c3639977e3cda",
       "style": "IPY_MODEL_59d0ba9d08184aeb85c6052928369f0b",
       "value": "<i>Wählen Sie die zwei korrekten Antworten aus.</i>"
      }
     },
     "73b4166f8a104da9aa3e7e76d1f4b40e": {
      "model_module": "@jupyter-widgets/base",
      "model_module_version": "1.1.0",
      "model_name": "LayoutModel",
      "state": {
       "width": "600px"
      }
     },
     "73cd5210b7e445d3a2bbaf972226d773": {
      "model_module": "@jupyter-widgets/base",
      "model_module_version": "1.1.0",
      "model_name": "LayoutModel",
      "state": {}
     },
     "7409afe0f6204bb792900c28fa674470": {
      "model_module": "@jupyter-widgets/base",
      "model_module_version": "1.1.0",
      "model_name": "LayoutModel",
      "state": {
       "width": "250px"
      }
     },
     "7513456979f740a4b8cdd678254b3ff4": {
      "model_module": "@jupyter-widgets/controls",
      "model_module_version": "1.4.0",
      "model_name": "HTMLModel",
      "state": {
       "layout": "IPY_MODEL_16ef4f95d67f4c99a40571b8ce83b52b",
       "style": "IPY_MODEL_3714454b189d4732923b72ab35d616de",
       "value": "<h4 style=\"font-size:14px;\">Was ist die Aufgabe des Viterbi-Algorithmus?</h4>"
      }
     },
     "7513cb7bebeb4f81a08974384a6b1a7f": {
      "model_module": "@jupyter-widgets/controls",
      "model_module_version": "1.4.0",
      "model_name": "CheckboxModel",
      "state": {
       "description": "längere Sätze",
       "disabled": false,
       "layout": "IPY_MODEL_f284be30545d4626b0d8f1513e14cfbd",
       "style": "IPY_MODEL_1e08814904944ae9ab97ff09e9444d25",
       "value": true
      }
     },
     "752ed3e886ba43a7941cfc8728395aa5": {
      "model_module": "@jupyter-widgets/controls",
      "model_module_version": "1.4.0",
      "model_name": "DescriptionStyleModel",
      "state": {
       "description_width": ""
      }
     },
     "7581dd1c7da54605aa28cfccc9b56676": {
      "model_module": "@jupyter-widgets/controls",
      "model_module_version": "1.4.0",
      "model_name": "CheckboxModel",
      "state": {
       "description": "kürzere Sätze",
       "disabled": false,
       "layout": "IPY_MODEL_8d131e9dccef4107b0ea226594931b7f",
       "style": "IPY_MODEL_d6c26c4b283a40f6bf75bca1d1ae7db0",
       "value": false
      }
     },
     "758628abae3d4eb0be78a17eb5db01ab": {
      "model_module": "@jupyter-widgets/base",
      "model_module_version": "1.1.0",
      "model_name": "LayoutModel",
      "state": {
       "width": "600px"
      }
     },
     "75c7a75a7fcd46ac817ea5624d869007": {
      "model_module": "@jupyter-widgets/controls",
      "model_module_version": "1.4.0",
      "model_name": "DescriptionStyleModel",
      "state": {
       "description_width": "initial"
      }
     },
     "76045308b4f0400c9db3118d8f98b5de": {
      "model_module": "@jupyter-widgets/controls",
      "model_module_version": "1.4.0",
      "model_name": "HBoxModel",
      "state": {
       "children": [
        "IPY_MODEL_c287c4a9f21b46babedc65c16c92b82e",
        "IPY_MODEL_9fb83aee2c3f474dae2563e74137aa0c"
       ],
       "layout": "IPY_MODEL_7ade7fd5c57f416e938c77c338a77446"
      }
     },
     "7609dee6b22d47c0ba3b57d9b79b48ef": {
      "model_module": "@jupyter-widgets/controls",
      "model_module_version": "1.4.0",
      "model_name": "VBoxModel",
      "state": {
       "children": [
        "IPY_MODEL_93fa330c42914bcf95e535631c7602cf",
        "IPY_MODEL_c150b7a6013f4f778e6175fb33b90535",
        "IPY_MODEL_00d42856a4564dbdb3b741143b2ea8f7",
        "IPY_MODEL_95e3b30c392642daad6e539bb18c066a"
       ],
       "layout": "IPY_MODEL_6b5cbc3618164a489212a095786f04fd"
      }
     },
     "761235229f604751a1e0267e1cfa88b3": {
      "model_module": "@jupyter-widgets/controls",
      "model_module_version": "1.4.0",
      "model_name": "CheckboxModel",
      "state": {
       "description": "Weil das Netzwerk nur durch Normalisierung eine valide Wahrscheinlichkeitsverteilung lernen kann.",
       "disabled": false,
       "layout": "IPY_MODEL_bd3f70c3c8d04b4b8f55666c3bec29fc",
       "style": "IPY_MODEL_a12f57b54df8479c8eed1e64af32a670",
       "value": false
      }
     },
     "76295effc17f44fdb9fea3bcb181d481": {
      "model_module": "@jupyter-widgets/controls",
      "model_module_version": "1.4.0",
      "model_name": "HTMLModel",
      "state": {
       "layout": "IPY_MODEL_7d69af59aa69412e99d32d92f9a50141",
       "style": "IPY_MODEL_3bf50f48290440738e901191c43d9c2e",
       "value": "<h4 style=\"font-size:14px;\">Was ist die Aufgabe des Viterbi-Algorithmus?</h4>"
      }
     },
     "7649c0381d3844ee9e37038ed9c8a1f4": {
      "model_module": "@jupyter-widgets/base",
      "model_module_version": "1.1.0",
      "model_name": "LayoutModel",
      "state": {
       "width": "600px"
      }
     },
     "76b92abfd24d4423b38bd592dad7f51b": {
      "model_module": "@jupyter-widgets/base",
      "model_module_version": "1.1.0",
      "model_name": "LayoutModel",
      "state": {
       "width": "600px"
      }
     },
     "7763d1cd8dc34577beb095136fb6b66b": {
      "model_module": "@jupyter-widgets/controls",
      "model_module_version": "1.4.0",
      "model_name": "HTMLModel",
      "state": {
       "layout": "IPY_MODEL_50f74ab71463476287ecb4223536e8db",
       "style": "IPY_MODEL_9cb7e2216d01491b8b646a3464b29c50",
       "value": "<h4 style=\"font-size:14px;\">Was ist die Aufgabe des Viterbi-Algorithmus?</h4>"
      }
     },
     "77c0a8e1451948ab8be4b13616b14642": {
      "model_module": "@jupyter-widgets/controls",
      "model_module_version": "1.4.0",
      "model_name": "DescriptionStyleModel",
      "state": {
       "description_width": ""
      }
     },
     "7801cef43681429d8d74cc172b2df265": {
      "model_module": "@jupyter-widgets/controls",
      "model_module_version": "1.4.0",
      "model_name": "CheckboxModel",
      "state": {
       "description": "längere Sätze",
       "disabled": false,
       "layout": "IPY_MODEL_288ea698672b438683ec1c78edbd06d6",
       "style": "IPY_MODEL_79948b3253af4f028267080cb2662140",
       "value": true
      }
     },
     "787689c63756422db0602fae26878cfd": {
      "model_module": "@jupyter-widgets/controls",
      "model_module_version": "1.4.0",
      "model_name": "CheckboxModel",
      "state": {
       "description": "Koordinierungsambigutiät",
       "disabled": false,
       "layout": "IPY_MODEL_e1356a497fb64264a0279c29451346f7",
       "style": "IPY_MODEL_ad164b76c19a4e37b3a462e586ec1e24",
       "value": false
      }
     },
     "78954d8b69664e7b948b80833b00ee4f": {
      "model_module": "@jupyter-widgets/base",
      "model_module_version": "1.1.0",
      "model_name": "LayoutModel",
      "state": {
       "width": "600px"
      }
     },
     "7934da37b4734010856d698af4ac457a": {
      "model_module": "@jupyter-widgets/base",
      "model_module_version": "1.1.0",
      "model_name": "LayoutModel",
      "state": {}
     },
     "795982b945984f2da72de66b0fb5a2ef": {
      "model_module": "@jupyter-widgets/controls",
      "model_module_version": "1.4.0",
      "model_name": "CheckboxModel",
      "state": {
       "description": "Koordinierungsambigutiät",
       "disabled": false,
       "layout": "IPY_MODEL_19cb2cb3dadb4d81acfa9cfe6818625d",
       "style": "IPY_MODEL_70504c53285d4fe999f9a38a7e7290ff",
       "value": false
      }
     },
     "79660e1c8cee4a5fa7a346a3f8e36ccf": {
      "model_module": "@jupyter-widgets/controls",
      "model_module_version": "1.4.0",
      "model_name": "HTMLModel",
      "state": {
       "layout": "IPY_MODEL_01b788abf3074efe8729144242eebe5a",
       "style": "IPY_MODEL_16e689c3534a40e4b80b08ab5d7e172d",
       "value": "<h4 style=\"font-size:14px;\">Warum muss zwischen zwei Schichten eines Feedforward-Netzwerks eine nicht-lineare Aktivierungsfunktion eingefügt werden?</h4>"
      }
     },
     "79948b3253af4f028267080cb2662140": {
      "model_module": "@jupyter-widgets/controls",
      "model_module_version": "1.4.0",
      "model_name": "DescriptionStyleModel",
      "state": {
       "description_width": "initial"
      }
     },
     "79a1d506c24641e8ac35740e97daf524": {
      "model_module": "@jupyter-widgets/controls",
      "model_module_version": "1.4.0",
      "model_name": "DescriptionStyleModel",
      "state": {
       "description_width": "initial"
      }
     },
     "7a115403342d4ba6b71a6afc5df751f1": {
      "model_module": "@jupyter-widgets/controls",
      "model_module_version": "1.4.0",
      "model_name": "VBoxModel",
      "state": {
       "children": [
        "IPY_MODEL_76295effc17f44fdb9fea3bcb181d481",
        "IPY_MODEL_7339a394a3fb4b0ebf378877e1c10011",
        "IPY_MODEL_4dc6759c032f4acd94f2d3f74b3dc98a",
        "IPY_MODEL_d0947e10d96a4b8aba6e994c8948fea0"
       ],
       "layout": "IPY_MODEL_da5458587f6846a2b5daed0a2c0de5e4"
      }
     },
     "7a3e4b18250946908de76738947927a1": {
      "model_module": "@jupyter-widgets/base",
      "model_module_version": "1.1.0",
      "model_name": "LayoutModel",
      "state": {
       "width": "600px"
      }
     },
     "7aabd24bcb8c495fb142c1cdcb879233": {
      "model_module": "@jupyter-widgets/base",
      "model_module_version": "1.1.0",
      "model_name": "LayoutModel",
      "state": {
       "width": "600px"
      }
     },
     "7aba5e935a2f4acd9d7fb5722693ae6b": {
      "model_module": "@jupyter-widgets/controls",
      "model_module_version": "1.4.0",
      "model_name": "CheckboxModel",
      "state": {
       "description": "Abnahme der Anzahl von Regeln",
       "disabled": false,
       "layout": "IPY_MODEL_057810c22d9c4f9a8e9183751b917f22",
       "style": "IPY_MODEL_93d2ab7017a64f5a899b0e214d155ec2",
       "value": false
      }
     },
     "7ad5ffe2464f4d299c5117de07ac6ba6": {
      "model_module": "@jupyter-widgets/base",
      "model_module_version": "1.1.0",
      "model_name": "LayoutModel",
      "state": {
       "width": "600px"
      }
     },
     "7ade7fd5c57f416e938c77c338a77446": {
      "model_module": "@jupyter-widgets/base",
      "model_module_version": "1.1.0",
      "model_name": "LayoutModel",
      "state": {}
     },
     "7af5922f50564022921169e38081b64a": {
      "model_module": "@jupyter-widgets/controls",
      "model_module_version": "1.4.0",
      "model_name": "DescriptionStyleModel",
      "state": {
       "description_width": "initial"
      }
     },
     "7c0c1992aab3419eb24066d92a1d96bb": {
      "model_module": "@jupyter-widgets/controls",
      "model_module_version": "1.4.0",
      "model_name": "VBoxModel",
      "state": {
       "children": [
        "IPY_MODEL_7763d1cd8dc34577beb095136fb6b66b",
        "IPY_MODEL_5ce23212b0f748969954f179758c298f",
        "IPY_MODEL_7108081bd0aa4ffea55034cfd667dec8",
        "IPY_MODEL_237f10e0287c4a13ac3deaad0bad29c9"
       ],
       "layout": "IPY_MODEL_c78213ced266473e9eafe5887e6404a0"
      }
     },
     "7c9fd78d130a4b73acadd2f55ff49584": {
      "model_module": "@jupyter-widgets/base",
      "model_module_version": "1.1.0",
      "model_name": "LayoutModel",
      "state": {}
     },
     "7ca1eecd524e4ac08caa53de8a0fbc12": {
      "model_module": "@jupyter-widgets/controls",
      "model_module_version": "1.4.0",
      "model_name": "ButtonStyleModel",
      "state": {}
     },
     "7d0c5d5c30ff4e0a85e07e0876032b23": {
      "model_module": "@jupyter-widgets/base",
      "model_module_version": "1.1.0",
      "model_name": "LayoutModel",
      "state": {
       "width": "600px"
      }
     },
     "7d1550d09078425ca6fa87260548add4": {
      "model_module": "@jupyter-widgets/controls",
      "model_module_version": "1.4.0",
      "model_name": "ButtonStyleModel",
      "state": {}
     },
     "7d69af59aa69412e99d32d92f9a50141": {
      "model_module": "@jupyter-widgets/base",
      "model_module_version": "1.1.0",
      "model_name": "LayoutModel",
      "state": {}
     },
     "7dd91acc60a04f15809e5358061d5ff6": {
      "model_module": "@jupyter-widgets/controls",
      "model_module_version": "1.4.0",
      "model_name": "DescriptionStyleModel",
      "state": {
       "description_width": ""
      }
     },
     "7e11dd70cc5947ab98a03cd3165241d0": {
      "model_module": "@jupyter-widgets/controls",
      "model_module_version": "1.4.0",
      "model_name": "ButtonModel",
      "state": {
       "description": "Korrekt?",
       "layout": "IPY_MODEL_adf28c5c25ac4c63a804091ef0f75164",
       "style": "IPY_MODEL_cb5f88b2d8a847dd9ff62b44800d780d"
      }
     },
     "7e7bd681f4f348e4a2b4735e72128c27": {
      "model_module": "@jupyter-widgets/base",
      "model_module_version": "1.1.0",
      "model_name": "LayoutModel",
      "state": {}
     },
     "7eacfa88232c40ee81e62e898552d611": {
      "model_module": "@jupyter-widgets/controls",
      "model_module_version": "1.4.0",
      "model_name": "HTMLModel",
      "state": {
       "layout": "IPY_MODEL_d02b28043b47461caae56c6a01ba9ec4",
       "style": "IPY_MODEL_df636e8c0ba64f6391e4302aa523e46d",
       "value": "<h4 style=\"font-size:14px;\">Welche zwei Faktoren führen bei der syntaktischen Analyse natürlicher Sprache mittels formaler Grammatiken zu mehr Ambiguität (Anzahl an Ableitungen)?</h4>"
      }
     },
     "7ebc60fee3de470bb939ee7198a89cd7": {
      "model_module": "@jupyter-widgets/controls",
      "model_module_version": "1.4.0",
      "model_name": "CheckboxModel",
      "state": {
       "description": "Bestimmung des wahrscheinlichsten Syntaxbaums",
       "disabled": false,
       "layout": "IPY_MODEL_cc0a8e70c1fb44bd93b0bccf4b6377f0",
       "style": "IPY_MODEL_b2673f70881e4618a15e31abd0f97dcf",
       "value": false
      }
     },
     "7ec968e490f544ceb8d5a2b2d35ef3cf": {
      "model_module": "@jupyter-widgets/controls",
      "model_module_version": "1.4.0",
      "model_name": "HTMLModel",
      "state": {
       "layout": "IPY_MODEL_81631cb967d040ebb35710400159fdd5",
       "style": "IPY_MODEL_ef803ad5997645b798f0f20d0517b0de",
       "value": "<i>Wählen Sie die <ins>eine</ins> korrekte Antwort aus: </i>"
      }
     },
     "7ed0ec2a25054652bd6ebe412f2089b2": {
      "model_module": "@jupyter-widgets/controls",
      "model_module_version": "1.4.0",
      "model_name": "CheckboxModel",
      "state": {
       "description": "Weil Vektoren normalisiert werden müssen, um bestimmte Funktionen zu lernen.",
       "disabled": false,
       "layout": "IPY_MODEL_45e142162fbb43ee94ba2495df186908",
       "style": "IPY_MODEL_2480978ceda44296ab99ac1a0fd91845",
       "value": false
      }
     },
     "7ed59200896b46248d8ad5571061900e": {
      "model_module": "@jupyter-widgets/controls",
      "model_module_version": "1.4.0",
      "model_name": "DescriptionStyleModel",
      "state": {
       "description_width": "initial"
      }
     },
     "7f0c1b4c5283444a9b62954575850c86": {
      "model_module": "@jupyter-widgets/controls",
      "model_module_version": "1.4.0",
      "model_name": "CheckboxModel",
      "state": {
       "description": "Das Verwerfen verhindert eine Endlosrekursion.",
       "disabled": false,
       "layout": "IPY_MODEL_c62d2352ed0743ca941d4b018073b74f",
       "style": "IPY_MODEL_817f4702b8ef4fbc86de02e61e09faa2",
       "value": false
      }
     },
     "7f234f650d7e4933837377835acd67aa": {
      "model_module": "@jupyter-widgets/base",
      "model_module_version": "1.1.0",
      "model_name": "LayoutModel",
      "state": {
       "justify_content": "center"
      }
     },
     "7fca8266152b4c00b425560b62521bb1": {
      "model_module": "@jupyter-widgets/base",
      "model_module_version": "1.1.0",
      "model_name": "LayoutModel",
      "state": {
       "width": "250px"
      }
     },
     "802f5d05897f45ddaa87a870ae66f3ea": {
      "model_module": "@jupyter-widgets/base",
      "model_module_version": "1.1.0",
      "model_name": "LayoutModel",
      "state": {}
     },
     "808dc31628a7490db492a0dce2fca7c3": {
      "model_module": "@jupyter-widgets/controls",
      "model_module_version": "1.4.0",
      "model_name": "DescriptionStyleModel",
      "state": {
       "description_width": "initial"
      }
     },
     "8091925c1ef345f9826eeb201e9d5501": {
      "model_module": "@jupyter-widgets/controls",
      "model_module_version": "1.4.0",
      "model_name": "DescriptionStyleModel",
      "state": {
       "description_width": ""
      }
     },
     "8121ff966b5d4bae85c00913d333cdc9": {
      "model_module": "@jupyter-widgets/controls",
      "model_module_version": "1.4.0",
      "model_name": "DescriptionStyleModel",
      "state": {
       "description_width": "initial"
      }
     },
     "814e4d49316c4643a7a003facac72592": {
      "model_module": "@jupyter-widgets/controls",
      "model_module_version": "1.4.0",
      "model_name": "CheckboxModel",
      "state": {
       "description": "Abnahme der Anzahl von Regeln",
       "disabled": false,
       "layout": "IPY_MODEL_e16586a9c9eb40ec9ab5f62bd4c2c543",
       "style": "IPY_MODEL_ff7ef1b016a34b5ebbfcf048b34e50d3",
       "value": false
      }
     },
     "81631cb967d040ebb35710400159fdd5": {
      "model_module": "@jupyter-widgets/base",
      "model_module_version": "1.1.0",
      "model_name": "LayoutModel",
      "state": {
       "justify_content": "center"
      }
     },
     "817f4702b8ef4fbc86de02e61e09faa2": {
      "model_module": "@jupyter-widgets/controls",
      "model_module_version": "1.4.0",
      "model_name": "DescriptionStyleModel",
      "state": {
       "description_width": "initial"
      }
     },
     "81f792a2680b4e719fa45a8b15c84410": {
      "model_module": "@jupyter-widgets/base",
      "model_module_version": "1.1.0",
      "model_name": "LayoutModel",
      "state": {
       "width": "600px"
      }
     },
     "8210d6448c1848409b2a3679ad805139": {
      "model_module": "@jupyter-widgets/controls",
      "model_module_version": "1.4.0",
      "model_name": "DescriptionStyleModel",
      "state": {
       "description_width": ""
      }
     },
     "82344b2bb15c40ddb2509bc1273dcd69": {
      "model_module": "@jupyter-widgets/base",
      "model_module_version": "1.1.0",
      "model_name": "LayoutModel",
      "state": {
       "width": "600px"
      }
     },
     "82505ba3f6d546b3b495c144b0796e85": {
      "model_module": "@jupyter-widgets/controls",
      "model_module_version": "1.4.0",
      "model_name": "VBoxModel",
      "state": {
       "children": [
        "IPY_MODEL_1230f947fdd544e0a855d0033ef080de",
        "IPY_MODEL_761235229f604751a1e0267e1cfa88b3",
        "IPY_MODEL_19fea70112c94f6dae42f36e84659179",
        "IPY_MODEL_c3ae05b6e5ee4f318e09316334a955d1"
       ],
       "layout": "IPY_MODEL_486a9841abf1403592d7e0898bb5d7d1"
      }
     },
     "8261758406a743eabcb80ac1557fa9b6": {
      "model_module": "@jupyter-widgets/controls",
      "model_module_version": "1.4.0",
      "model_name": "ButtonModel",
      "state": {
       "description": "Korrekt?",
       "layout": "IPY_MODEL_8798ad20cfbe44a7a7cfeb361edcb462",
       "style": "IPY_MODEL_9db571fdeac146e69c9eabc5adc87584"
      }
     },
     "82c9ed009c4c43608571bd55246e808d": {
      "model_module": "@jupyter-widgets/controls",
      "model_module_version": "1.4.0",
      "model_name": "DescriptionStyleModel",
      "state": {
       "description_width": ""
      }
     },
     "8385bdc423f14c489524e7154249eeda": {
      "model_module": "@jupyter-widgets/base",
      "model_module_version": "1.1.0",
      "model_name": "LayoutModel",
      "state": {
       "width": "600px"
      }
     },
     "83c74ab48c53458fb66d73090df47c3b": {
      "model_module": "@jupyter-widgets/base",
      "model_module_version": "1.1.0",
      "model_name": "LayoutModel",
      "state": {
       "width": "250px"
      }
     },
     "84251a3992e5458c9d98225afa153375": {
      "model_module": "@jupyter-widgets/controls",
      "model_module_version": "1.4.0",
      "model_name": "ButtonStyleModel",
      "state": {
       "button_color": "lightgreen"
      }
     },
     "842b4ee17ba64142a6d4b3c72bfaf202": {
      "model_module": "@jupyter-widgets/base",
      "model_module_version": "1.1.0",
      "model_name": "LayoutModel",
      "state": {}
     },
     "84a329f278554e979ed09244b72e0c04": {
      "model_module": "@jupyter-widgets/controls",
      "model_module_version": "1.4.0",
      "model_name": "HTMLModel",
      "state": {
       "layout": "IPY_MODEL_ef9ef0d48e9346789e04e323e8579a5a",
       "style": "IPY_MODEL_bb47ab3699944ee1b0b7189669fa07ae",
       "value": "<i>Wählen Sie die zwei korrekten Antworten aus.</i>"
      }
     },
     "84abc3a2199d4fa6a1f470d906a5dbb4": {
      "model_module": "@jupyter-widgets/base",
      "model_module_version": "1.1.0",
      "model_name": "LayoutModel",
      "state": {
       "width": "250px"
      }
     },
     "84c2f12a940a46dfb05bf4df374b196b": {
      "model_module": "@jupyter-widgets/base",
      "model_module_version": "1.1.0",
      "model_name": "LayoutModel",
      "state": {
       "width": "600px"
      }
     },
     "8604e6865fbc4795bedf3b15076ae86c": {
      "model_module": "@jupyter-widgets/controls",
      "model_module_version": "1.4.0",
      "model_name": "DescriptionStyleModel",
      "state": {
       "description_width": "initial"
      }
     },
     "8661f9d55a994e209bb07f2a66eecfc9": {
      "model_module": "@jupyter-widgets/controls",
      "model_module_version": "1.4.0",
      "model_name": "CheckboxModel",
      "state": {
       "description": "Weil Vektoren normalisiert werden müssen, um bestimmte Funktionen zu lernen.",
       "disabled": false,
       "layout": "IPY_MODEL_8ed58502982d4a3fa0c1612a1b2788d0",
       "style": "IPY_MODEL_43877404b364492aa3e477cf58d8ff7f",
       "value": false
      }
     },
     "8672f8af53014e76b8972610bae9f846": {
      "model_module": "@jupyter-widgets/base",
      "model_module_version": "1.1.0",
      "model_name": "LayoutModel",
      "state": {
       "width": "600px"
      }
     },
     "871f3e050c4343e3980578e4ebbccd2f": {
      "model_module": "@jupyter-widgets/controls",
      "model_module_version": "1.4.0",
      "model_name": "DescriptionStyleModel",
      "state": {
       "description_width": "initial"
      }
     },
     "874a5e110f0c48dfa3a869d1bec6cf6a": {
      "model_module": "@jupyter-widgets/controls",
      "model_module_version": "1.4.0",
      "model_name": "HTMLModel",
      "state": {
       "layout": "IPY_MODEL_606421cd09c741e8aec29ccda03ea92b",
       "style": "IPY_MODEL_a39728a73cec4708acfb1e3af94c86a7",
       "value": "<h4 style=\"font-size:14px;\">Was ist die Aufgabe des Viterbi-Algorithmus?</h4>"
      }
     },
     "876fd6771b18418eadd128d769cab317": {
      "model_module": "@jupyter-widgets/controls",
      "model_module_version": "1.4.0",
      "model_name": "HTMLModel",
      "state": {
       "layout": "IPY_MODEL_4960567b9662410a904030bef6895834",
       "style": "IPY_MODEL_1042764a61404a72b88dca25c0b2cc8f",
       "value": "<i>Wählen Sie die <ins>eine</ins> korrekte Antwort aus: </i>"
      }
     },
     "877db854bfc3409a9c1b1ba1322dc2cd": {
      "model_module": "@jupyter-widgets/controls",
      "model_module_version": "1.4.0",
      "model_name": "DescriptionStyleModel",
      "state": {
       "description_width": "initial"
      }
     },
     "8798ad20cfbe44a7a7cfeb361edcb462": {
      "model_module": "@jupyter-widgets/base",
      "model_module_version": "1.1.0",
      "model_name": "LayoutModel",
      "state": {
       "width": "250px"
      }
     },
     "87c40a0c603b42f28f998a917b60c996": {
      "model_module": "@jupyter-widgets/base",
      "model_module_version": "1.1.0",
      "model_name": "LayoutModel",
      "state": {
       "width": "600px"
      }
     },
     "87ff8654fe1d417da9d28fb323505bf1": {
      "model_module": "@jupyter-widgets/controls",
      "model_module_version": "1.4.0",
      "model_name": "VBoxModel",
      "state": {
       "children": [
        "IPY_MODEL_010ce97af7034df097017eeea875fbe5",
        "IPY_MODEL_787689c63756422db0602fae26878cfd",
        "IPY_MODEL_5c154bb70f514073a90de67116b2aa67",
        "IPY_MODEL_6aceee211244498da39096253e77f249"
       ],
       "layout": "IPY_MODEL_3acb208654a44b548e5b0c38bd2a8720"
      }
     },
     "88248011e6c3431b916c48ace5c406a9": {
      "model_module": "@jupyter-widgets/controls",
      "model_module_version": "1.4.0",
      "model_name": "DescriptionStyleModel",
      "state": {
       "description_width": "initial"
      }
     },
     "88e8d6b1033c43d9856d1b793d64af71": {
      "model_module": "@jupyter-widgets/controls",
      "model_module_version": "1.4.0",
      "model_name": "DescriptionStyleModel",
      "state": {
       "description_width": "initial"
      }
     },
     "8a39779f0fd84af49dc135d5e676d7f7": {
      "model_module": "@jupyter-widgets/base",
      "model_module_version": "1.1.0",
      "model_name": "LayoutModel",
      "state": {}
     },
     "8a48ec5d437c4014a3d69f29af084eb6": {
      "model_module": "@jupyter-widgets/controls",
      "model_module_version": "1.4.0",
      "model_name": "DescriptionStyleModel",
      "state": {
       "description_width": "initial"
      }
     },
     "8a6566a7ac4d45e998d9e5c3a5b1f372": {
      "model_module": "@jupyter-widgets/controls",
      "model_module_version": "1.4.0",
      "model_name": "CheckboxModel",
      "state": {
       "description": "Zunahme der Anzahl von Regeln",
       "disabled": false,
       "layout": "IPY_MODEL_8d9aeea615344bfa8eed3de88f770b02",
       "style": "IPY_MODEL_47fe8eee30b64d28a10d5051414f0e79",
       "value": false
      }
     },
     "8a9fcd0e503e4167aa450fcf12e86a40": {
      "model_module": "@jupyter-widgets/base",
      "model_module_version": "1.1.0",
      "model_name": "LayoutModel",
      "state": {
       "width": "600px"
      }
     },
     "8b442be7823c4bcf8abdf6f882a698aa": {
      "model_module": "@jupyter-widgets/base",
      "model_module_version": "1.1.0",
      "model_name": "LayoutModel",
      "state": {}
     },
     "8b452976b3874896bd1cc69a8fbedab8": {
      "model_module": "@jupyter-widgets/controls",
      "model_module_version": "1.4.0",
      "model_name": "ButtonModel",
      "state": {
       "description": "LongestChartParser",
       "layout": "IPY_MODEL_b814556617c44d08b375a23cfc349603",
       "style": "IPY_MODEL_af39e5ddafb2422ca1424eadf5ff7584"
      }
     },
     "8c0a8da69afb46a5890a104635a69c05": {
      "model_module": "@jupyter-widgets/controls",
      "model_module_version": "1.4.0",
      "model_name": "CheckboxModel",
      "state": {
       "description": "längere Sätze",
       "disabled": false,
       "layout": "IPY_MODEL_ca85bd46a67645379b482943b2774d2f",
       "style": "IPY_MODEL_217f915f319d40dca46a9d71a3c1f4b0",
       "value": false
      }
     },
     "8c10c4939c744eacb6f7b7f591581bfc": {
      "model_module": "@jupyter-widgets/base",
      "model_module_version": "1.1.0",
      "model_name": "LayoutModel",
      "state": {}
     },
     "8c86e7d3e78b4937939a1c6f584ff204": {
      "model_module": "@jupyter-widgets/base",
      "model_module_version": "1.1.0",
      "model_name": "LayoutModel",
      "state": {
       "width": "600px"
      }
     },
     "8c8a12f3e6ef4fca9b5ddaae5e28f2b9": {
      "model_module": "@jupyter-widgets/controls",
      "model_module_version": "1.4.0",
      "model_name": "ButtonModel",
      "state": {
       "description": "Korrekt?",
       "layout": "IPY_MODEL_b758b672af6d4a48bcf9dec82729022d",
       "style": "IPY_MODEL_54989be193bc43e4ad24af8d68ee71eb"
      }
     },
     "8cee216bab7045faa4b2a4632f1ce244": {
      "model_module": "@jupyter-widgets/base",
      "model_module_version": "1.1.0",
      "model_name": "LayoutModel",
      "state": {
       "width": "600px"
      }
     },
     "8d0623cf417c4a71863fd93d3d8c8fd3": {
      "model_module": "@jupyter-widgets/controls",
      "model_module_version": "1.4.0",
      "model_name": "DescriptionStyleModel",
      "state": {
       "description_width": "initial"
      }
     },
     "8d131e9dccef4107b0ea226594931b7f": {
      "model_module": "@jupyter-widgets/base",
      "model_module_version": "1.1.0",
      "model_name": "LayoutModel",
      "state": {
       "width": "600px"
      }
     },
     "8d301ef245ea4ef7b5854bb6fde21c4d": {
      "model_module": "@jupyter-widgets/controls",
      "model_module_version": "1.4.0",
      "model_name": "HTMLModel",
      "state": {
       "layout": "IPY_MODEL_a910f1ef25794f5bbedc133ef057ee7c",
       "style": "IPY_MODEL_77c0a8e1451948ab8be4b13616b14642",
       "value": "<h4 style=\"font-size:14px;\">Um welchen Parser kann es sich nicht handeln?</h4>"
      }
     },
     "8d34e04765c5442eac84b2906d4ce029": {
      "model_module": "@jupyter-widgets/base",
      "model_module_version": "1.1.0",
      "model_name": "LayoutModel",
      "state": {}
     },
     "8d73592380c5483a8a3b281deef8f9af": {
      "model_module": "@jupyter-widgets/base",
      "model_module_version": "1.1.0",
      "model_name": "LayoutModel",
      "state": {
       "width": "600px"
      }
     },
     "8d99b85260b349a28a5a7bfbf65dfe15": {
      "model_module": "@jupyter-widgets/controls",
      "model_module_version": "1.4.0",
      "model_name": "CheckboxModel",
      "state": {
       "description": "Abnahme der Anzahl von Regeln",
       "disabled": false,
       "layout": "IPY_MODEL_5ef33a1ea9944b148fd72c68d1fed047",
       "style": "IPY_MODEL_0875126280084fb3b7031d7463be98f2",
       "value": false
      }
     },
     "8d9aeea615344bfa8eed3de88f770b02": {
      "model_module": "@jupyter-widgets/base",
      "model_module_version": "1.1.0",
      "model_name": "LayoutModel",
      "state": {
       "width": "600px"
      }
     },
     "8db9e98116fb404285e7a59207ddbe4a": {
      "model_module": "@jupyter-widgets/controls",
      "model_module_version": "1.4.0",
      "model_name": "HTMLModel",
      "state": {
       "layout": "IPY_MODEL_69726f70637c440bb07de3bd303a5603",
       "style": "IPY_MODEL_2d23bdd63bd54a9c8e2934d8554c7c46",
       "value": "<i>Wählen Sie die zwei korrekten Antworten aus.</i>"
      }
     },
     "8dceb73ede6544cd9a47235039f37799": {
      "model_module": "@jupyter-widgets/controls",
      "model_module_version": "1.4.0",
      "model_name": "ButtonStyleModel",
      "state": {}
     },
     "8de5994c02a44d7ab31a43c52ecea3fb": {
      "model_module": "@jupyter-widgets/base",
      "model_module_version": "1.1.0",
      "model_name": "LayoutModel",
      "state": {
       "width": "600px"
      }
     },
     "8e379fd1e5934a0fad07966bbce4ff0c": {
      "model_module": "@jupyter-widgets/controls",
      "model_module_version": "1.4.0",
      "model_name": "HTMLModel",
      "state": {
       "layout": "IPY_MODEL_abbf9eb0ff674484a96a5740745e1aeb",
       "style": "IPY_MODEL_9c053001a9cb46db952f2e496a8d58ea",
       "value": "<h4 style=\"font-size:14px;\">Was ist die Aufgabe des Viterbi-Algorithmus?</h4>"
      }
     },
     "8e5eb2484a4343c48082476bc9e7781a": {
      "model_module": "@jupyter-widgets/controls",
      "model_module_version": "1.4.0",
      "model_name": "VBoxModel",
      "state": {
       "children": [
        "IPY_MODEL_8d99b85260b349a28a5a7bfbf65dfe15",
        "IPY_MODEL_32b144bd8e364f07914a77b285fdc822",
        "IPY_MODEL_5b9ac8c808884f77800738fee074d2ce",
        "IPY_MODEL_f787c6a3049e4633b2c7614e99ac2710"
       ],
       "layout": "IPY_MODEL_90398b2671c143de8c27e647f31d71f6"
      }
     },
     "8e624060f6f34931bb5decbda443c509": {
      "model_module": "@jupyter-widgets/controls",
      "model_module_version": "1.4.0",
      "model_name": "DescriptionStyleModel",
      "state": {
       "description_width": ""
      }
     },
     "8e6b0f4e02184a54b61b9545fe548fc1": {
      "model_module": "@jupyter-widgets/controls",
      "model_module_version": "1.4.0",
      "model_name": "CheckboxModel",
      "state": {
       "description": "Die Summe aller Regelwahrscheinlichkeiten innerhalb einer Grammatik ist 1.",
       "disabled": false,
       "layout": "IPY_MODEL_5e7d408aa6f9473581d7404cdb312697",
       "style": "IPY_MODEL_7ed59200896b46248d8ad5571061900e",
       "value": false
      }
     },
     "8e8544088644410eb7858bff19cbf6f8": {
      "model_module": "@jupyter-widgets/controls",
      "model_module_version": "1.4.0",
      "model_name": "DescriptionStyleModel",
      "state": {
       "description_width": "initial"
      }
     },
     "8e8b6646a931460f97190cd8d2f7d1f4": {
      "model_module": "@jupyter-widgets/base",
      "model_module_version": "1.1.0",
      "model_name": "LayoutModel",
      "state": {
       "width": "600px"
      }
     },
     "8ec7f4d1043544f3b9685b66f1a57e23": {
      "model_module": "@jupyter-widgets/controls",
      "model_module_version": "1.4.0",
      "model_name": "DescriptionStyleModel",
      "state": {
       "description_width": "initial"
      }
     },
     "8ed3e1c0bd584cd5896b3a5e099f76b9": {
      "model_module": "@jupyter-widgets/controls",
      "model_module_version": "1.4.0",
      "model_name": "HTMLModel",
      "state": {
       "layout": "IPY_MODEL_2d775716052e4b38a1ebbc9e8569e87d",
       "style": "IPY_MODEL_bc05b86e5b754ba8aa9fcf95c07d770d",
       "value": "<h4 style=\"font-size:14px;\">Welche zwei Faktoren führen bei der syntaktischen Analyse natürlicher Sprache mittels formaler Grammatiken zu mehr Ambiguität (Anzahl an Ableitungen)?</h4>"
      }
     },
     "8ed58502982d4a3fa0c1612a1b2788d0": {
      "model_module": "@jupyter-widgets/base",
      "model_module_version": "1.1.0",
      "model_name": "LayoutModel",
      "state": {
       "width": "600px"
      }
     },
     "8f0fe60c3e1d4724999804a0bdcd3c28": {
      "model_module": "@jupyter-widgets/controls",
      "model_module_version": "1.4.0",
      "model_name": "HTMLModel",
      "state": {
       "layout": "IPY_MODEL_0f45ec16e0d246a6b5dcf52515bbe4cb",
       "style": "IPY_MODEL_0b8837a3cb464dfd95a9b02a0f0ade96",
       "value": "<i>Wählen Sie die <ins>eine</ins> korrekte Antwort aus: </i>"
      }
     },
     "8f46017614f74906842fde1d36ec81f8": {
      "model_module": "@jupyter-widgets/controls",
      "model_module_version": "1.4.0",
      "model_name": "HTMLModel",
      "state": {
       "layout": "IPY_MODEL_649481ac83264f799de4cdaa349978ef",
       "style": "IPY_MODEL_fdfbf518fcdd4c13bfe04033de06800d",
       "value": "<h4 style=\"font-size:14px;\">Was ist die Aufgabe des Viterbi-Algorithmus?</h4>"
      }
     },
     "8f6c845e86524d66b5f57237eba29299": {
      "model_module": "@jupyter-widgets/controls",
      "model_module_version": "1.4.0",
      "model_name": "CheckboxModel",
      "state": {
       "description": "Sie analysieren die Eingabesequenz nicht komplett.",
       "disabled": false,
       "layout": "IPY_MODEL_0cfe35a772164b82a35e16e3142f2761",
       "style": "IPY_MODEL_8a48ec5d437c4014a3d69f29af084eb6",
       "value": false
      }
     },
     "8f7074f9efe2470b916aefef1a7b8d84": {
      "model_module": "@jupyter-widgets/controls",
      "model_module_version": "1.4.0",
      "model_name": "DescriptionStyleModel",
      "state": {
       "description_width": "initial"
      }
     },
     "8f71ca109abd457f9a699fa5c4546f11": {
      "model_module": "@jupyter-widgets/base",
      "model_module_version": "1.1.0",
      "model_name": "LayoutModel",
      "state": {}
     },
     "8f8c7ec2f81f4fdfb3d3a2a725d7a733": {
      "model_module": "@jupyter-widgets/base",
      "model_module_version": "1.1.0",
      "model_name": "LayoutModel",
      "state": {
       "width": "600px"
      }
     },
     "902a888008cd4745a4722848a4141590": {
      "model_module": "@jupyter-widgets/base",
      "model_module_version": "1.1.0",
      "model_name": "LayoutModel",
      "state": {
       "width": "600px"
      }
     },
     "90398b2671c143de8c27e647f31d71f6": {
      "model_module": "@jupyter-widgets/base",
      "model_module_version": "1.1.0",
      "model_name": "LayoutModel",
      "state": {}
     },
     "907a33577bf141508a579fb35b4ab726": {
      "model_module": "@jupyter-widgets/controls",
      "model_module_version": "1.4.0",
      "model_name": "VBoxModel",
      "state": {
       "children": [
        "IPY_MODEL_319a82614e934cb9970ee81a9ac6b08f",
        "IPY_MODEL_324b96f8176646b2b4b82182cdda78a1",
        "IPY_MODEL_e5a07ce90d804cf9a862d88435e62504",
        "IPY_MODEL_ee9b437d2e044dc49ab73721aff69e99"
       ],
       "layout": "IPY_MODEL_086683e845564778b76407379ae79973"
      }
     },
     "91484ed7ffda4dd894c387a4db3d7ec4": {
      "model_module": "@jupyter-widgets/controls",
      "model_module_version": "1.4.0",
      "model_name": "ButtonModel",
      "state": {
       "description": "Korrekt?",
       "layout": "IPY_MODEL_de4af587f7ec413686083fe5cc86076e",
       "style": "IPY_MODEL_997624f2305e447da8b8c8c6b10a1edb"
      }
     },
     "91838fc85e3e48328cf986a53ab83169": {
      "model_module": "@jupyter-widgets/controls",
      "model_module_version": "1.4.0",
      "model_name": "DescriptionStyleModel",
      "state": {
       "description_width": "initial"
      }
     },
     "919b2504251c4d4bb93979767e213999": {
      "model_module": "@jupyter-widgets/controls",
      "model_module_version": "1.4.0",
      "model_name": "CheckboxModel",
      "state": {
       "description": "lexikalische Ambiguität",
       "disabled": false,
       "layout": "IPY_MODEL_f7a9b302afb34cacaee42c876c03e73a",
       "style": "IPY_MODEL_8121ff966b5d4bae85c00913d333cdc9",
       "value": false
      }
     },
     "91d8698677644bd88b0d8df411cf5d25": {
      "model_module": "@jupyter-widgets/controls",
      "model_module_version": "1.4.0",
      "model_name": "DescriptionStyleModel",
      "state": {
       "description_width": ""
      }
     },
     "91f563b8927841d293ca532223d5bb5e": {
      "model_module": "@jupyter-widgets/controls",
      "model_module_version": "1.4.0",
      "model_name": "CheckboxModel",
      "state": {
       "description": "Weil nicht-lineare Funktionen die Effizienz des Netzwerks verbessern.",
       "disabled": false,
       "layout": "IPY_MODEL_3d0d53b7cfc84de6a25ba916c595ce94",
       "style": "IPY_MODEL_6374c59fae7b4d99a120357a9d12d7a4",
       "value": false
      }
     },
     "9264176957504b889e1a5178afeaa4d9": {
      "model_module": "@jupyter-widgets/base",
      "model_module_version": "1.1.0",
      "model_name": "LayoutModel",
      "state": {
       "width": "600px"
      }
     },
     "92b83f61f62b46858b32d8cdc0573e45": {
      "model_module": "@jupyter-widgets/base",
      "model_module_version": "1.1.0",
      "model_name": "LayoutModel",
      "state": {
       "width": "250px"
      }
     },
     "9312077959674f46bec5794c90338bf0": {
      "model_module": "@jupyter-widgets/controls",
      "model_module_version": "1.4.0",
      "model_name": "VBoxModel",
      "state": {
       "children": [
        "IPY_MODEL_7f0c1b4c5283444a9b62954575850c86",
        "IPY_MODEL_b3ddda98537742c1bdd6875f1ad3129e",
        "IPY_MODEL_a01dc2b0cbf64487b9dd3f960ec4b1f4",
        "IPY_MODEL_8f6c845e86524d66b5f57237eba29299"
       ],
       "layout": "IPY_MODEL_a80b622862884e36a8d5304a3c95e402"
      }
     },
     "934ebad40b3a4e58b9f321cd3f8b206b": {
      "model_module": "@jupyter-widgets/controls",
      "model_module_version": "1.4.0",
      "model_name": "DescriptionStyleModel",
      "state": {
       "description_width": "initial"
      }
     },
     "93d2ab7017a64f5a899b0e214d155ec2": {
      "model_module": "@jupyter-widgets/controls",
      "model_module_version": "1.4.0",
      "model_name": "DescriptionStyleModel",
      "state": {
       "description_width": "initial"
      }
     },
     "93edec47c1904632a09aa92087f9d67e": {
      "model_module": "@jupyter-widgets/controls",
      "model_module_version": "1.4.0",
      "model_name": "HTMLModel",
      "state": {
       "layout": "IPY_MODEL_3417599e97634580afe79c983a61f49a",
       "style": "IPY_MODEL_5c75c23e607b45609c2578080724eda2",
       "value": "<h4 style=\"font-size:14px;\">Welche der folgenden Bedingungen wird an eine PCFG gestellt?</h4>"
      }
     },
     "93f27676b2be4227b38148edf3e99402": {
      "model_module": "@jupyter-widgets/base",
      "model_module_version": "1.1.0",
      "model_name": "LayoutModel",
      "state": {}
     },
     "93fa330c42914bcf95e535631c7602cf": {
      "model_module": "@jupyter-widgets/controls",
      "model_module_version": "1.4.0",
      "model_name": "CheckboxModel",
      "state": {
       "description": "Attachment-Ambiguität",
       "disabled": false,
       "layout": "IPY_MODEL_c8a4ccfab05b458c8e7ba3b43591c920",
       "style": "IPY_MODEL_5f24ccd957524b7da47a10363333c2d9",
       "value": false
      }
     },
     "941ab6d1e70c48238cc5db6b6e5fa5ea": {
      "model_module": "@jupyter-widgets/base",
      "model_module_version": "1.1.0",
      "model_name": "LayoutModel",
      "state": {
       "justify_content": "center"
      }
     },
     "94312062fcbc44d7a999fdf33a05743a": {
      "model_module": "@jupyter-widgets/controls",
      "model_module_version": "1.4.0",
      "model_name": "CheckboxModel",
      "state": {
       "description": "Die Summe aller Regelwahrscheinlichkeiten für jede LHS ist jeweils 1.",
       "disabled": false,
       "layout": "IPY_MODEL_a50eb3e90d7f4b9c8275c103dfed06ab",
       "style": "IPY_MODEL_06bd252d6cc44b1590e9a6f52ade438c",
       "value": false
      }
     },
     "94bac248d3b74bbbae0126c7c5cd3f0d": {
      "model_module": "@jupyter-widgets/controls",
      "model_module_version": "1.4.0",
      "model_name": "HTMLModel",
      "state": {
       "layout": "IPY_MODEL_1d3c3221345e483caffd3d87b0efcc86",
       "style": "IPY_MODEL_49b048f070f64b3488c93202a05dcba5",
       "value": "<h4 style=\"font-size:14px;\">Welche zwei Arten von Ambiguität unterscheidet man hier?</h4>"
      }
     },
     "94d759686ef0489b83ca7d65585aeb9a": {
      "model_module": "@jupyter-widgets/base",
      "model_module_version": "1.1.0",
      "model_name": "LayoutModel",
      "state": {
       "width": "600px"
      }
     },
     "94f1b10c39774ac1a9b89825078328dc": {
      "model_module": "@jupyter-widgets/base",
      "model_module_version": "1.1.0",
      "model_name": "LayoutModel",
      "state": {
       "width": "250px"
      }
     },
     "955c090fcda3465680c03bd37219326b": {
      "model_module": "@jupyter-widgets/controls",
      "model_module_version": "1.4.0",
      "model_name": "DescriptionStyleModel",
      "state": {
       "description_width": "initial"
      }
     },
     "95af515dab61426aa1635408d4b105eb": {
      "model_module": "@jupyter-widgets/controls",
      "model_module_version": "1.4.0",
      "model_name": "ButtonStyleModel",
      "state": {
       "button_color": "lightgreen"
      }
     },
     "95e3b30c392642daad6e539bb18c066a": {
      "model_module": "@jupyter-widgets/controls",
      "model_module_version": "1.4.0",
      "model_name": "CheckboxModel",
      "state": {
       "description": "strukturelle Ambiguität",
       "disabled": false,
       "layout": "IPY_MODEL_e710779dffed43aab525fd6ee623dbf6",
       "style": "IPY_MODEL_4317cacef45249f3983feb508c6c457a",
       "value": false
      }
     },
     "95e47380b0d44003a73f7bb5c63a5015": {
      "model_module": "@jupyter-widgets/base",
      "model_module_version": "1.1.0",
      "model_name": "LayoutModel",
      "state": {
       "width": "600px"
      }
     },
     "95e63f75682c423e831240ccd5373265": {
      "model_module": "@jupyter-widgets/controls",
      "model_module_version": "1.4.0",
      "model_name": "ButtonModel",
      "state": {
       "description": "Korrekt?",
       "layout": "IPY_MODEL_7fca8266152b4c00b425560b62521bb1",
       "style": "IPY_MODEL_f60f65b3fa9442a1841059f87748d6ac"
      }
     },
     "95f130c87c2344f4b1446adbe00a21a1": {
      "model_module": "@jupyter-widgets/base",
      "model_module_version": "1.1.0",
      "model_name": "LayoutModel",
      "state": {
       "justify_content": "center"
      }
     },
     "9616b9fc5d5941a0b17a5e447985629f": {
      "model_module": "@jupyter-widgets/controls",
      "model_module_version": "1.4.0",
      "model_name": "HTMLModel",
      "state": {
       "layout": "IPY_MODEL_4a0eb871cc2548709ae615ee12fd6cd9",
       "style": "IPY_MODEL_a76aebf016e34c1187b2eb1b35727119",
       "value": "<i>Wählen Sie die <ins>eine</ins> korrekte Antwort aus: </i>"
      }
     },
     "9617b22f732e4a61ab7d76c9fdad3b49": {
      "model_module": "@jupyter-widgets/base",
      "model_module_version": "1.1.0",
      "model_name": "LayoutModel",
      "state": {
       "width": "600px"
      }
     },
     "9657531caa9645e4b4fbc33ac1ee22a5": {
      "model_module": "@jupyter-widgets/controls",
      "model_module_version": "1.4.0",
      "model_name": "VBoxModel",
      "state": {
       "children": [
        "IPY_MODEL_3386784a6d314bdfb27cfe039ac539ab",
        "IPY_MODEL_ca2a5cceda294adb8c20358841fdc265",
        "IPY_MODEL_68321b4e4def45309b5f209e7558de02",
        "IPY_MODEL_8261758406a743eabcb80ac1557fa9b6"
       ],
       "layout": "IPY_MODEL_205530abb7a94371b8e7753277792b60"
      }
     },
     "96842eef27e348e3a55a96f176aec293": {
      "model_module": "@jupyter-widgets/controls",
      "model_module_version": "1.4.0",
      "model_name": "DescriptionStyleModel",
      "state": {
       "description_width": "initial"
      }
     },
     "96f7fd4de37149ecaa39b2adc04ecfc7": {
      "model_module": "@jupyter-widgets/base",
      "model_module_version": "1.1.0",
      "model_name": "LayoutModel",
      "state": {}
     },
     "976765dbb63b442cbfa6ea061d39be62": {
      "model_module": "@jupyter-widgets/controls",
      "model_module_version": "1.4.0",
      "model_name": "DescriptionStyleModel",
      "state": {
       "description_width": "initial"
      }
     },
     "976daa6985d34e6a841358c4bef34781": {
      "model_module": "@jupyter-widgets/base",
      "model_module_version": "1.1.0",
      "model_name": "LayoutModel",
      "state": {
       "width": "600px"
      }
     },
     "986dc668dc3c414386d814e9aa5603aa": {
      "model_module": "@jupyter-widgets/controls",
      "model_module_version": "1.4.0",
      "model_name": "ButtonStyleModel",
      "state": {
       "button_color": "lightgreen"
      }
     },
     "988498e8b82840fc939ac4f81a1dfa89": {
      "model_module": "@jupyter-widgets/controls",
      "model_module_version": "1.4.0",
      "model_name": "HTMLModel",
      "state": {
       "layout": "IPY_MODEL_ff25971e7b544ffea8ede3377c026233",
       "style": "IPY_MODEL_5bffb057d26d403f8bffe06cfd8cc942",
       "value": "<h4 style=\"font-size:14px;\">Welche zwei Arten von Ambiguität unterscheidet man hier?</h4>"
      }
     },
     "99105a55d3a94ac4b6a8ba011a0cebe6": {
      "model_module": "@jupyter-widgets/controls",
      "model_module_version": "1.4.0",
      "model_name": "HTMLModel",
      "state": {
       "layout": "IPY_MODEL_a37ae61ffa554e5ea6ff664058fdea92",
       "style": "IPY_MODEL_61c5f6f008c04e17af50d17b51ad31d4",
       "value": "<h4 style=\"font-size:14px;\">Welche der folgenden Bedingungen wird an eine PCFG gestellt?</h4>"
      }
     },
     "991387d16865484793712d618d89cf61": {
      "model_module": "@jupyter-widgets/base",
      "model_module_version": "1.1.0",
      "model_name": "LayoutModel",
      "state": {
       "width": "600px"
      }
     },
     "995a53583dac4a80a77740cef5c9b6f1": {
      "model_module": "@jupyter-widgets/base",
      "model_module_version": "1.1.0",
      "model_name": "LayoutModel",
      "state": {
       "width": "600px"
      }
     },
     "9964209bba7f4ac38e700d140e2ec58c": {
      "model_module": "@jupyter-widgets/controls",
      "model_module_version": "1.4.0",
      "model_name": "HTMLModel",
      "state": {
       "layout": "IPY_MODEL_a4ede4d5c33a4d21850e536f5b5ffe59",
       "style": "IPY_MODEL_cb212d66929843e7aa2cb1275402655f",
       "value": "<i>Wählen Sie die <ins>eine</ins> korrekte Antwort aus: </i>"
      }
     },
     "997624f2305e447da8b8c8c6b10a1edb": {
      "model_module": "@jupyter-widgets/controls",
      "model_module_version": "1.4.0",
      "model_name": "ButtonStyleModel",
      "state": {
       "button_color": "lightgreen"
      }
     },
     "999c4d73918d4bf698a4d1a205f74c62": {
      "model_module": "@jupyter-widgets/controls",
      "model_module_version": "1.4.0",
      "model_name": "VBoxModel",
      "state": {
       "children": [
        "IPY_MODEL_d9cda01968774f92a3f9ba3679bb2280",
        "IPY_MODEL_b26e181f30b84892b376c8112092b384",
        "IPY_MODEL_b67ca3baf97d428594eb46483fbad5b5",
        "IPY_MODEL_d250abd7f2fd47f395a6d5145f27fb86"
       ],
       "layout": "IPY_MODEL_06bb63a69185447aa3a88a5021746289"
      }
     },
     "99bc35a7c0264b35824f0f1671c26eed": {
      "model_module": "@jupyter-widgets/base",
      "model_module_version": "1.1.0",
      "model_name": "LayoutModel",
      "state": {
       "justify_content": "center"
      }
     },
     "99edc90790ba40fb8467af106b3a36bf": {
      "model_module": "@jupyter-widgets/controls",
      "model_module_version": "1.4.0",
      "model_name": "DescriptionStyleModel",
      "state": {
       "description_width": "initial"
      }
     },
     "99f7abdb6fe643deb0129cc3727eb470": {
      "model_module": "@jupyter-widgets/base",
      "model_module_version": "1.1.0",
      "model_name": "LayoutModel",
      "state": {}
     },
     "9a039a14bd074b24b013cb74d271462a": {
      "model_module": "@jupyter-widgets/base",
      "model_module_version": "1.1.0",
      "model_name": "LayoutModel",
      "state": {
       "justify_content": "center"
      }
     },
     "9a17812e7cdb4ff6bedda9310d6b7d0c": {
      "model_module": "@jupyter-widgets/controls",
      "model_module_version": "1.4.0",
      "model_name": "DescriptionStyleModel",
      "state": {
       "description_width": ""
      }
     },
     "9abd7810cffd42b38f111fef7c50b88e": {
      "model_module": "@jupyter-widgets/controls",
      "model_module_version": "1.4.0",
      "model_name": "ButtonStyleModel",
      "state": {}
     },
     "9ae762ba3d314258a752a87bbd3e5c1d": {
      "model_module": "@jupyter-widgets/controls",
      "model_module_version": "1.4.0",
      "model_name": "ButtonStyleModel",
      "state": {
       "button_color": "lightgreen"
      }
     },
     "9b767ef19ace4786b76e819cdd773dc5": {
      "model_module": "@jupyter-widgets/controls",
      "model_module_version": "1.4.0",
      "model_name": "HTMLModel",
      "state": {
       "layout": "IPY_MODEL_cea4682e95604e73bbe7fa51005de20a",
       "style": "IPY_MODEL_714a773f9f0c474d8613dd312f32f4c3",
       "value": "<i>Wählen Sie die zwei korrekten Antworten aus.</i>"
      }
     },
     "9ba12d91dcf04b11b7f7c8c9e0409c54": {
      "model_module": "@jupyter-widgets/controls",
      "model_module_version": "1.4.0",
      "model_name": "CheckboxModel",
      "state": {
       "description": "längere Sätze",
       "disabled": false,
       "layout": "IPY_MODEL_9264176957504b889e1a5178afeaa4d9",
       "style": "IPY_MODEL_4c8af294bad14804b67f280ff855ffa8",
       "value": true
      }
     },
     "9ba585a2e6ef40e997b4eff8f287c96a": {
      "model_module": "@jupyter-widgets/controls",
      "model_module_version": "1.4.0",
      "model_name": "VBoxModel",
      "state": {
       "children": [
        "IPY_MODEL_2cd5ed5b1e3e4aafacc8246301417cde",
        "IPY_MODEL_9964209bba7f4ac38e700d140e2ec58c",
        "IPY_MODEL_4b0ead9efdc64dd3a36155679c2fa960",
        "IPY_MODEL_b80aee9e56f7469eae774715378a82da"
       ],
       "layout": "IPY_MODEL_678ccc5c89ce43efa523f31a9b1f0834"
      }
     },
     "9bd4ed7dc981480384252feaf356d00d": {
      "model_module": "@jupyter-widgets/controls",
      "model_module_version": "1.4.0",
      "model_name": "DescriptionStyleModel",
      "state": {
       "description_width": ""
      }
     },
     "9be8ae68c0b94c6abb8cca4921a681bc": {
      "model_module": "@jupyter-widgets/base",
      "model_module_version": "1.1.0",
      "model_name": "LayoutModel",
      "state": {
       "width": "250px"
      }
     },
     "9c053001a9cb46db952f2e496a8d58ea": {
      "model_module": "@jupyter-widgets/controls",
      "model_module_version": "1.4.0",
      "model_name": "DescriptionStyleModel",
      "state": {
       "description_width": ""
      }
     },
     "9c21df3ebc9145cf9cc42c45bdfa2601": {
      "model_module": "@jupyter-widgets/controls",
      "model_module_version": "1.4.0",
      "model_name": "DescriptionStyleModel",
      "state": {
       "description_width": "initial"
      }
     },
     "9c4b4875d261437c927532dfc8a845e4": {
      "model_module": "@jupyter-widgets/base",
      "model_module_version": "1.1.0",
      "model_name": "LayoutModel",
      "state": {
       "width": "250px"
      }
     },
     "9cb7e2216d01491b8b646a3464b29c50": {
      "model_module": "@jupyter-widgets/controls",
      "model_module_version": "1.4.0",
      "model_name": "DescriptionStyleModel",
      "state": {
       "description_width": ""
      }
     },
     "9cf0589f5cf44e799243ea686e7de7b7": {
      "model_module": "@jupyter-widgets/controls",
      "model_module_version": "1.4.0",
      "model_name": "VBoxModel",
      "state": {
       "children": [
        "IPY_MODEL_988498e8b82840fc939ac4f81a1dfa89",
        "IPY_MODEL_73a06f5456344d7d89e5b7ebe4431a77",
        "IPY_MODEL_c973429ac1a94011a668c73b537253db",
        "IPY_MODEL_6630ee2ad3834977b50621b0c52bc5cf"
       ],
       "layout": "IPY_MODEL_6d950942c7434a9da81d95d6e15c05d2"
      }
     },
     "9d827556814a471eab7c3639977e3cda": {
      "model_module": "@jupyter-widgets/base",
      "model_module_version": "1.1.0",
      "model_name": "LayoutModel",
      "state": {
       "justify_content": "center"
      }
     },
     "9d854e98124d4af8915a2408a9642407": {
      "model_module": "@jupyter-widgets/controls",
      "model_module_version": "1.4.0",
      "model_name": "CheckboxModel",
      "state": {
       "description": "Zunahme der Anzahl von Regeln",
       "disabled": false,
       "layout": "IPY_MODEL_391f2751216e44c3a3faf3d35b788064",
       "style": "IPY_MODEL_934ebad40b3a4e58b9f321cd3f8b206b",
       "value": true
      }
     },
     "9d9e3a03598e47e58c78a44ba1f1a55b": {
      "model_module": "@jupyter-widgets/controls",
      "model_module_version": "1.4.0",
      "model_name": "VBoxModel",
      "state": {
       "children": [
        "IPY_MODEL_7aba5e935a2f4acd9d7fb5722693ae6b",
        "IPY_MODEL_1690ce5c6086478c9c867ad616cb0771",
        "IPY_MODEL_0869f88f16104247b389c3bf75a26d24",
        "IPY_MODEL_3912113ffa214644805a7c1aeb7899ca"
       ],
       "layout": "IPY_MODEL_b498832a7359490d82f29e3d13a0b88c"
      }
     },
     "9dae8d69174d4a6bab2fc01031ab324c": {
      "model_module": "@jupyter-widgets/controls",
      "model_module_version": "1.4.0",
      "model_name": "DescriptionStyleModel",
      "state": {
       "description_width": "initial"
      }
     },
     "9db571fdeac146e69c9eabc5adc87584": {
      "model_module": "@jupyter-widgets/controls",
      "model_module_version": "1.4.0",
      "model_name": "ButtonStyleModel",
      "state": {}
     },
     "9de4d861178b413bbbff4710b70037d3": {
      "model_module": "@jupyter-widgets/controls",
      "model_module_version": "1.4.0",
      "model_name": "DescriptionStyleModel",
      "state": {
       "description_width": ""
      }
     },
     "9dec113d816d442384658407b6eca6a8": {
      "model_module": "@jupyter-widgets/base",
      "model_module_version": "1.1.0",
      "model_name": "LayoutModel",
      "state": {
       "width": "600px"
      }
     },
     "9dfdaf3667d845198e43a120774fbc24": {
      "model_module": "@jupyter-widgets/base",
      "model_module_version": "1.1.0",
      "model_name": "LayoutModel",
      "state": {
       "width": "600px"
      }
     },
     "9e0c5e7fb6344bb1876e65774a504e37": {
      "model_module": "@jupyter-widgets/controls",
      "model_module_version": "1.4.0",
      "model_name": "DescriptionStyleModel",
      "state": {
       "description_width": "initial"
      }
     },
     "9e122d4213814d8a9fdb397d5f04053a": {
      "model_module": "@jupyter-widgets/controls",
      "model_module_version": "1.4.0",
      "model_name": "DescriptionStyleModel",
      "state": {
       "description_width": ""
      }
     },
     "9e80113af4a94abc9ba5b92058088801": {
      "model_module": "@jupyter-widgets/controls",
      "model_module_version": "1.4.0",
      "model_name": "DescriptionStyleModel",
      "state": {
       "description_width": ""
      }
     },
     "9e9641d3154444c195d9c0a7adb619e2": {
      "model_module": "@jupyter-widgets/controls",
      "model_module_version": "1.4.0",
      "model_name": "DescriptionStyleModel",
      "state": {
       "description_width": "initial"
      }
     },
     "9ef3699edd054973906930308a82e6b6": {
      "model_module": "@jupyter-widgets/controls",
      "model_module_version": "1.4.0",
      "model_name": "DescriptionStyleModel",
      "state": {
       "description_width": ""
      }
     },
     "9f32c092253548d3b7d62328614a6efb": {
      "model_module": "@jupyter-widgets/base",
      "model_module_version": "1.1.0",
      "model_name": "LayoutModel",
      "state": {}
     },
     "9f424f491e8c4970bca6d1f57201c527": {
      "model_module": "@jupyter-widgets/controls",
      "model_module_version": "1.4.0",
      "model_name": "HTMLModel",
      "state": {
       "layout": "IPY_MODEL_19ce399be32d4597b611a371cf9e0bf7",
       "style": "IPY_MODEL_709330e9e6094edf973090ee1e90f2ea",
       "value": "<h4 style=\"font-size:14px;\">Welche zwei Faktoren führen bei der syntaktischen Analyse natürlicher Sprache mittels formaler Grammatiken zu mehr Ambiguität (Anzahl an Ableitungen)?</h4>"
      }
     },
     "9f666408d0294a9e810adaab0693d904": {
      "model_module": "@jupyter-widgets/controls",
      "model_module_version": "1.4.0",
      "model_name": "DescriptionStyleModel",
      "state": {
       "description_width": "initial"
      }
     },
     "9f7fc13739e046498aebcd2647dfce6e": {
      "model_module": "@jupyter-widgets/controls",
      "model_module_version": "1.4.0",
      "model_name": "CheckboxModel",
      "state": {
       "description": "Weil die zwei Schichten sonst nicht mehr lernen können als nur eine Schicht.",
       "disabled": false,
       "layout": "IPY_MODEL_0adbd93652ef4cf2951fb637c06ff65e",
       "style": "IPY_MODEL_0668b4f676124bf7b42b757a4261ad2a",
       "value": true
      }
     },
     "9f82b23b312742c7ba1cd929e1b1250f": {
      "model_module": "@jupyter-widgets/controls",
      "model_module_version": "1.4.0",
      "model_name": "DescriptionStyleModel",
      "state": {
       "description_width": "initial"
      }
     },
     "9fb83aee2c3f474dae2563e74137aa0c": {
      "model_module": "@jupyter-widgets/controls",
      "model_module_version": "1.4.0",
      "model_name": "ButtonModel",
      "state": {
       "description": "PP-Attachment-Ambiguität",
       "layout": "IPY_MODEL_10e7511ff6c649818394e529b76cddec",
       "style": "IPY_MODEL_a16cb126b4514096a2c43e2be1efba2c"
      }
     },
     "a01dc2b0cbf64487b9dd3f960ec4b1f4": {
      "model_module": "@jupyter-widgets/controls",
      "model_module_version": "1.4.0",
      "model_name": "CheckboxModel",
      "state": {
       "description": "Ihre Wahrscheinlichkeiten sind zu gering.",
       "disabled": false,
       "layout": "IPY_MODEL_1bc470fe18904d3fb1045ca34becae13",
       "style": "IPY_MODEL_72155dda48a24ffeb55d85c8fdaca979",
       "value": false
      }
     },
     "a05adce395bc44bbb0afa018e879d1f3": {
      "model_module": "@jupyter-widgets/base",
      "model_module_version": "1.1.0",
      "model_name": "LayoutModel",
      "state": {
       "justify_content": "center"
      }
     },
     "a0bd7f933f1c4c5dbc49d98304302f09": {
      "model_module": "@jupyter-widgets/controls",
      "model_module_version": "1.4.0",
      "model_name": "ButtonStyleModel",
      "state": {}
     },
     "a0e811f49f6e4954ac9fc744a2404377": {
      "model_module": "@jupyter-widgets/controls",
      "model_module_version": "1.4.0",
      "model_name": "DescriptionStyleModel",
      "state": {
       "description_width": "initial"
      }
     },
     "a11ffa46185d4d1997d3cf1fd6000456": {
      "model_module": "@jupyter-widgets/controls",
      "model_module_version": "1.4.0",
      "model_name": "ButtonStyleModel",
      "state": {}
     },
     "a12aedf5edee4d8b882326c33ce5137d": {
      "model_module": "@jupyter-widgets/controls",
      "model_module_version": "1.4.0",
      "model_name": "CheckboxModel",
      "state": {
       "description": "Die Summe aller Regelwahrscheinlichkeiten innerhalb einer Grammatik ist 1.",
       "disabled": false,
       "layout": "IPY_MODEL_4606f9818f9c4fb1838e7e8eb3b005b3",
       "style": "IPY_MODEL_30ef9dfa4c4846639e461ee01c0d3524",
       "value": false
      }
     },
     "a12f57b54df8479c8eed1e64af32a670": {
      "model_module": "@jupyter-widgets/controls",
      "model_module_version": "1.4.0",
      "model_name": "DescriptionStyleModel",
      "state": {
       "description_width": "initial"
      }
     },
     "a16cb126b4514096a2c43e2be1efba2c": {
      "model_module": "@jupyter-widgets/controls",
      "model_module_version": "1.4.0",
      "model_name": "ButtonStyleModel",
      "state": {}
     },
     "a196d21c535549889f462adb5dbb0d23": {
      "model_module": "@jupyter-widgets/controls",
      "model_module_version": "1.4.0",
      "model_name": "VBoxModel",
      "state": {
       "children": [
        "IPY_MODEL_8f46017614f74906842fde1d36ec81f8",
        "IPY_MODEL_a5a3be28b65f4777ae541340c655d7ea",
        "IPY_MODEL_f08dcfe90ea143cfab6bef1becfa7a38",
        "IPY_MODEL_7e11dd70cc5947ab98a03cd3165241d0"
       ],
       "layout": "IPY_MODEL_1f14a508404a47df8ecc2e72ee697e9e"
      }
     },
     "a1dea17e2b7d4ac989784d2e2afe5bed": {
      "model_module": "@jupyter-widgets/controls",
      "model_module_version": "1.4.0",
      "model_name": "DescriptionStyleModel",
      "state": {
       "description_width": "initial"
      }
     },
     "a2108ee96a8d4d7eb13274c8a51fdeb0": {
      "model_module": "@jupyter-widgets/controls",
      "model_module_version": "1.4.0",
      "model_name": "DescriptionStyleModel",
      "state": {
       "description_width": "initial"
      }
     },
     "a227c5ef3bb94e148bfa196b73b961bd": {
      "model_module": "@jupyter-widgets/base",
      "model_module_version": "1.1.0",
      "model_name": "LayoutModel",
      "state": {
       "width": "600px"
      }
     },
     "a227e1526013458ba58e75240e4507b5": {
      "model_module": "@jupyter-widgets/controls",
      "model_module_version": "1.4.0",
      "model_name": "HTMLModel",
      "state": {
       "layout": "IPY_MODEL_8b442be7823c4bcf8abdf6f882a698aa",
       "style": "IPY_MODEL_619c97847f324238a760b0c9f4610dd5",
       "value": "<h4 style=\"font-size:14px;\">Welche zwei Arten von Ambiguität unterscheidet man hier?</h4>"
      }
     },
     "a25028fc2b3248c88d89e9d93a98ca36": {
      "model_module": "@jupyter-widgets/base",
      "model_module_version": "1.1.0",
      "model_name": "LayoutModel",
      "state": {
       "justify_content": "center"
      }
     },
     "a2560c5ca168458e933f58ffcfc32367": {
      "model_module": "@jupyter-widgets/controls",
      "model_module_version": "1.4.0",
      "model_name": "DescriptionStyleModel",
      "state": {
       "description_width": "initial"
      }
     },
     "a280571b5dea418194a6a12b1aa13059": {
      "model_module": "@jupyter-widgets/controls",
      "model_module_version": "1.4.0",
      "model_name": "CheckboxModel",
      "state": {
       "description": "strukturelle Ambiguität",
       "disabled": false,
       "layout": "IPY_MODEL_585266113f1943aeb024ee0b5fddaf70",
       "style": "IPY_MODEL_55e635bc9fbc45c09d25eff1dd632871",
       "value": false
      }
     },
     "a2a466a15ffd4b399ebb3f7c7d468381": {
      "model_module": "@jupyter-widgets/base",
      "model_module_version": "1.1.0",
      "model_name": "LayoutModel",
      "state": {
       "width": "600px"
      }
     },
     "a30ae8ff8c5b4fda9bee3f6eacc75689": {
      "model_module": "@jupyter-widgets/controls",
      "model_module_version": "1.4.0",
      "model_name": "HBoxModel",
      "state": {
       "children": [
        "IPY_MODEL_2064bc2d4a7045e4b8c5b97c951c255e"
       ],
       "layout": "IPY_MODEL_c5f7b68dd29f40a593d0a58c7ea75428"
      }
     },
     "a31cffa1318848d0802e3c7b6878953f": {
      "model_module": "@jupyter-widgets/controls",
      "model_module_version": "1.4.0",
      "model_name": "ButtonModel",
      "state": {
       "description": "Korrekt?",
       "layout": "IPY_MODEL_9be8ae68c0b94c6abb8cca4921a681bc",
       "style": "IPY_MODEL_c882cc9dedde473193463cd827c6e21c"
      }
     },
     "a33d90de71494ba3b9524eb08f8029a2": {
      "model_module": "@jupyter-widgets/controls",
      "model_module_version": "1.4.0",
      "model_name": "CheckboxModel",
      "state": {
       "description": "Abnahme der Anzahl von Regeln",
       "disabled": false,
       "layout": "IPY_MODEL_359503e32d10446eb43b91aa92602e49",
       "style": "IPY_MODEL_b87db711dccb4940bc6213f0a6c2052d",
       "value": false
      }
     },
     "a341537a7a9f4f728dfde35c6c4253b5": {
      "model_module": "@jupyter-widgets/controls",
      "model_module_version": "1.4.0",
      "model_name": "CheckboxModel",
      "state": {
       "description": "Koordinierungsambigutiät",
       "disabled": false,
       "layout": "IPY_MODEL_9617b22f732e4a61ab7d76c9fdad3b49",
       "style": "IPY_MODEL_877db854bfc3409a9c1b1ba1322dc2cd",
       "value": false
      }
     },
     "a37ae61ffa554e5ea6ff664058fdea92": {
      "model_module": "@jupyter-widgets/base",
      "model_module_version": "1.1.0",
      "model_name": "LayoutModel",
      "state": {}
     },
     "a39728a73cec4708acfb1e3af94c86a7": {
      "model_module": "@jupyter-widgets/controls",
      "model_module_version": "1.4.0",
      "model_name": "DescriptionStyleModel",
      "state": {
       "description_width": ""
      }
     },
     "a3cdcef25b454a0fb6b5c56260e1e5b0": {
      "model_module": "@jupyter-widgets/controls",
      "model_module_version": "1.4.0",
      "model_name": "DescriptionStyleModel",
      "state": {
       "description_width": "initial"
      }
     },
     "a4001c3f7d9d4d2cbdf07d677c6245f8": {
      "model_module": "@jupyter-widgets/base",
      "model_module_version": "1.1.0",
      "model_name": "LayoutModel",
      "state": {
       "width": "600px"
      }
     },
     "a41fa472c8b949ddb9dd404dae436fca": {
      "model_module": "@jupyter-widgets/controls",
      "model_module_version": "1.4.0",
      "model_name": "DescriptionStyleModel",
      "state": {
       "description_width": "initial"
      }
     },
     "a4480dc09ce540febacd9d60d6dd7556": {
      "model_module": "@jupyter-widgets/controls",
      "model_module_version": "1.4.0",
      "model_name": "HTMLModel",
      "state": {
       "layout": "IPY_MODEL_a25028fc2b3248c88d89e9d93a98ca36",
       "style": "IPY_MODEL_49e2f122ff1f43419a7060858bb49fa7",
       "value": "<i>Wählen Sie die <ins>eine</ins> korrekte Antwort aus: </i>"
      }
     },
     "a45ab63e0b8041a9b76d2641b9129843": {
      "model_module": "@jupyter-widgets/controls",
      "model_module_version": "1.4.0",
      "model_name": "HTMLModel",
      "state": {
       "layout": "IPY_MODEL_5033e471590c4609be208b6167b700ce",
       "style": "IPY_MODEL_4d13607169a84f41b839521a38635bae",
       "value": "<i>Wählen Sie die zwei korrekten Antworten aus.</i>"
      }
     },
     "a4bd2119f3c145d19bdf81e03e0069d2": {
      "model_module": "@jupyter-widgets/base",
      "model_module_version": "1.1.0",
      "model_name": "LayoutModel",
      "state": {
       "width": "600px"
      }
     },
     "a4c1b08a8cf64d84958cc391472367d1": {
      "model_module": "@jupyter-widgets/controls",
      "model_module_version": "1.4.0",
      "model_name": "VBoxModel",
      "state": {
       "children": [
        "IPY_MODEL_b73223c59bb444c9894cae91e576b98f",
        "IPY_MODEL_35f0656047ad421d9e52be62d4a56900",
        "IPY_MODEL_47289f7ecd514a628cc5633a37fc6c6c",
        "IPY_MODEL_edcff7bc827945a7b7dd10726e9c29d3"
       ],
       "layout": "IPY_MODEL_71aa20c8606d4216aabbe80aae21d547"
      }
     },
     "a4ede4d5c33a4d21850e536f5b5ffe59": {
      "model_module": "@jupyter-widgets/base",
      "model_module_version": "1.1.0",
      "model_name": "LayoutModel",
      "state": {
       "justify_content": "center"
      }
     },
     "a4f68c9ca69d4d4dafc406e4eecfaf36": {
      "model_module": "@jupyter-widgets/base",
      "model_module_version": "1.1.0",
      "model_name": "LayoutModel",
      "state": {}
     },
     "a50eb3e90d7f4b9c8275c103dfed06ab": {
      "model_module": "@jupyter-widgets/base",
      "model_module_version": "1.1.0",
      "model_name": "LayoutModel",
      "state": {
       "width": "600px"
      }
     },
     "a527fae3b37c48b4b868d3a52f6065ab": {
      "model_module": "@jupyter-widgets/controls",
      "model_module_version": "1.4.0",
      "model_name": "VBoxModel",
      "state": {
       "children": [
        "IPY_MODEL_94312062fcbc44d7a999fdf33a05743a",
        "IPY_MODEL_a7592d444796482c98800052e079d022",
        "IPY_MODEL_4a203c1bc33b42c1bec93f05d05cf23b"
       ],
       "layout": "IPY_MODEL_349620056f6a48c688d541b38ee76850"
      }
     },
     "a5677ac1b8974974803c12918695fe50": {
      "model_module": "@jupyter-widgets/base",
      "model_module_version": "1.1.0",
      "model_name": "LayoutModel",
      "state": {}
     },
     "a57fdf0a085341eba06ef148656a007f": {
      "model_module": "@jupyter-widgets/base",
      "model_module_version": "1.1.0",
      "model_name": "LayoutModel",
      "state": {
       "width": "600px"
      }
     },
     "a58f65dd95a14259b14941ba05948530": {
      "model_module": "@jupyter-widgets/base",
      "model_module_version": "1.1.0",
      "model_name": "LayoutModel",
      "state": {}
     },
     "a5a3be28b65f4777ae541340c655d7ea": {
      "model_module": "@jupyter-widgets/controls",
      "model_module_version": "1.4.0",
      "model_name": "HTMLModel",
      "state": {
       "layout": "IPY_MODEL_99bc35a7c0264b35824f0f1671c26eed",
       "style": "IPY_MODEL_f954c7db25b14123a9e839934ae1e82e",
       "value": "<i>Wählen Sie die <ins>eine</ins> korrekte Antwort aus: </i>"
      }
     },
     "a5f8d452aa794fc89ca3bc6276dcea91": {
      "model_module": "@jupyter-widgets/controls",
      "model_module_version": "1.4.0",
      "model_name": "DescriptionStyleModel",
      "state": {
       "description_width": ""
      }
     },
     "a6de9a908157435abeafa3e112508319": {
      "model_module": "@jupyter-widgets/controls",
      "model_module_version": "1.4.0",
      "model_name": "ButtonStyleModel",
      "state": {}
     },
     "a6f24a7cd6ba4c9dbd7484930d0f1b64": {
      "model_module": "@jupyter-widgets/base",
      "model_module_version": "1.1.0",
      "model_name": "LayoutModel",
      "state": {}
     },
     "a719b9136a784801bfc216190a14338e": {
      "model_module": "@jupyter-widgets/controls",
      "model_module_version": "1.4.0",
      "model_name": "HTMLModel",
      "state": {
       "layout": "IPY_MODEL_c49c927e431644918b02f05b8b9c31ae",
       "style": "IPY_MODEL_2a221321c96a4397a7936f9401212c00",
       "value": "<h4 style=\"font-size:14px;\">Warum muss zwischen zwei Schichten eines Feedforward-Netzwerks eine nicht-lineare Aktivierungsfunktion eingefügt werden?</h4>"
      }
     },
     "a72b15821644440d8dcb747ed78483dc": {
      "model_module": "@jupyter-widgets/controls",
      "model_module_version": "1.4.0",
      "model_name": "ButtonStyleModel",
      "state": {
       "button_color": "lightgreen"
      }
     },
     "a7592d444796482c98800052e079d022": {
      "model_module": "@jupyter-widgets/controls",
      "model_module_version": "1.4.0",
      "model_name": "CheckboxModel",
      "state": {
       "description": "Die Summe aller Regelwahrscheinlichkeiten für jede RHS ist jeweils 1.",
       "disabled": false,
       "layout": "IPY_MODEL_902a888008cd4745a4722848a4141590",
       "style": "IPY_MODEL_b4c397a5aef845369f2bfa0a3dc1be43",
       "value": false
      }
     },
     "a75f43a23d024459ae7879f860343c2e": {
      "model_module": "@jupyter-widgets/controls",
      "model_module_version": "1.4.0",
      "model_name": "VBoxModel",
      "state": {
       "children": [
        "IPY_MODEL_4dc9fdadadd94c03b5cad6191ee0c439",
        "IPY_MODEL_f2d2de8dff8f42d082a4b148bf6e5bfa",
        "IPY_MODEL_8e5eb2484a4343c48082476bc9e7781a",
        "IPY_MODEL_353776230168400489a25e1cd87f8c7b"
       ],
       "layout": "IPY_MODEL_0ffe8980be244e34a00d59eef29b5f62"
      }
     },
     "a76aebf016e34c1187b2eb1b35727119": {
      "model_module": "@jupyter-widgets/controls",
      "model_module_version": "1.4.0",
      "model_name": "DescriptionStyleModel",
      "state": {
       "description_width": ""
      }
     },
     "a787135fe5ef4c69804c242ca4994e64": {
      "model_module": "@jupyter-widgets/base",
      "model_module_version": "1.1.0",
      "model_name": "LayoutModel",
      "state": {
       "width": "600px"
      }
     },
     "a80b622862884e36a8d5304a3c95e402": {
      "model_module": "@jupyter-widgets/base",
      "model_module_version": "1.1.0",
      "model_name": "LayoutModel",
      "state": {}
     },
     "a83a9c5b7e3844fe88fb6cc02ac850c0": {
      "model_module": "@jupyter-widgets/controls",
      "model_module_version": "1.4.0",
      "model_name": "VBoxModel",
      "state": {
       "children": [
        "IPY_MODEL_a227e1526013458ba58e75240e4507b5",
        "IPY_MODEL_44d080cbd10a4753abc53247a7459ecc",
        "IPY_MODEL_1d58bb1468a742d0b0d14bea410aa6f7",
        "IPY_MODEL_01b6d9f3ab67441db12c33ca4817dcaf"
       ],
       "layout": "IPY_MODEL_02566ba77dd642ee82c76825d80e2d49"
      }
     },
     "a83f3b585aaa4649ad4f05c0d7e40d6c": {
      "model_module": "@jupyter-widgets/controls",
      "model_module_version": "1.4.0",
      "model_name": "ButtonStyleModel",
      "state": {
       "button_color": "lightgreen"
      }
     },
     "a84665b369214192b3e36f706b8d5702": {
      "model_module": "@jupyter-widgets/controls",
      "model_module_version": "1.4.0",
      "model_name": "CheckboxModel",
      "state": {
       "description": "längere Sätze",
       "disabled": false,
       "layout": "IPY_MODEL_84c2f12a940a46dfb05bf4df374b196b",
       "style": "IPY_MODEL_bb26c37046df45348f7937ad6b8f04b8",
       "value": false
      }
     },
     "a868cbd82a634a1eadb98746cbd1dcd4": {
      "model_module": "@jupyter-widgets/base",
      "model_module_version": "1.1.0",
      "model_name": "LayoutModel",
      "state": {
       "width": "600px"
      }
     },
     "a8bdb50ae3e44246821698d31acce7ac": {
      "model_module": "@jupyter-widgets/controls",
      "model_module_version": "1.4.0",
      "model_name": "VBoxModel",
      "state": {
       "children": [
        "IPY_MODEL_42bc0c0fb8a8478695a94f18f662998d",
        "IPY_MODEL_3673b7f493dd43bc9bb88ff25b16ce38",
        "IPY_MODEL_1d81a575e28f42f68836638c70292010",
        "IPY_MODEL_3957146b109f4da8a55402e892e11ac2"
       ],
       "layout": "IPY_MODEL_c7ae4aebe2c24118a46db083bd6627db"
      }
     },
     "a8d19de1c81a4725a42c017ed3e11aa3": {
      "model_module": "@jupyter-widgets/base",
      "model_module_version": "1.1.0",
      "model_name": "LayoutModel",
      "state": {}
     },
     "a8db93ec84fd49b8b8aa7290712efe02": {
      "model_module": "@jupyter-widgets/controls",
      "model_module_version": "1.4.0",
      "model_name": "DescriptionStyleModel",
      "state": {
       "description_width": "initial"
      }
     },
     "a8ffc55092314885b13388c8b205ff16": {
      "model_module": "@jupyter-widgets/controls",
      "model_module_version": "1.4.0",
      "model_name": "DescriptionStyleModel",
      "state": {
       "description_width": "initial"
      }
     },
     "a910f1ef25794f5bbedc133ef057ee7c": {
      "model_module": "@jupyter-widgets/base",
      "model_module_version": "1.1.0",
      "model_name": "LayoutModel",
      "state": {
       "justify_content": "center"
      }
     },
     "a91b23b3c94c4b67954473925f0658ee": {
      "model_module": "@jupyter-widgets/controls",
      "model_module_version": "1.4.0",
      "model_name": "CheckboxModel",
      "state": {
       "description": "Die Summe aller Regelwahrscheinlichkeiten innerhalb einer Grammatik ist 1.",
       "disabled": false,
       "layout": "IPY_MODEL_e451c1c3a0e847e3bca2836303392e9a",
       "style": "IPY_MODEL_9f82b23b312742c7ba1cd929e1b1250f",
       "value": false
      }
     },
     "a96f7a50ce7d4ef8a8abe2c827555965": {
      "model_module": "@jupyter-widgets/controls",
      "model_module_version": "1.4.0",
      "model_name": "VBoxModel",
      "state": {
       "children": [
        "IPY_MODEL_7eacfa88232c40ee81e62e898552d611",
        "IPY_MODEL_6fd5e779264841efa9a555c9f6120576",
        "IPY_MODEL_0d1ad212c7764f55ab960de323bafeb4",
        "IPY_MODEL_20cf194d912341e281761a64352a5b2d"
       ],
       "layout": "IPY_MODEL_5aff972fd8434770af27adc44caa3d4f"
      }
     },
     "aaeaa0242b42412282a038dafb7e9ca5": {
      "model_module": "@jupyter-widgets/controls",
      "model_module_version": "1.4.0",
      "model_name": "VBoxModel",
      "state": {
       "children": [
        "IPY_MODEL_f803d9e26d9e4a9fbb95e02843ff70b3",
        "IPY_MODEL_e221f2a89bb54bd0bbf8f9cf71ec2ff7",
        "IPY_MODEL_11a347eb6b8647898d4b38ae889117aa",
        "IPY_MODEL_7513cb7bebeb4f81a08974384a6b1a7f"
       ],
       "layout": "IPY_MODEL_5efec39308b044aeb2174baaddcb0afd"
      }
     },
     "aafc694cbab44c3c84814480d7966a9f": {
      "model_module": "@jupyter-widgets/base",
      "model_module_version": "1.1.0",
      "model_name": "LayoutModel",
      "state": {
       "width": "250px"
      }
     },
     "ab81865d9d8742428c6ee1db12c354d1": {
      "model_module": "@jupyter-widgets/controls",
      "model_module_version": "1.4.0",
      "model_name": "CheckboxModel",
      "state": {
       "description": "Zunahme der Anzahl von Regeln",
       "disabled": false,
       "layout": "IPY_MODEL_c427239f618b4aebacf402b4ecf5e1f6",
       "style": "IPY_MODEL_ccf5937430e64d22a05ca8d33aa71d09",
       "value": false
      }
     },
     "abbf9eb0ff674484a96a5740745e1aeb": {
      "model_module": "@jupyter-widgets/base",
      "model_module_version": "1.1.0",
      "model_name": "LayoutModel",
      "state": {}
     },
     "ac3c369022544c02a4b6742915872418": {
      "model_module": "@jupyter-widgets/base",
      "model_module_version": "1.1.0",
      "model_name": "LayoutModel",
      "state": {
       "width": "600px"
      }
     },
     "ac960e4aa47d4faf97b546d94703931f": {
      "model_module": "@jupyter-widgets/controls",
      "model_module_version": "1.4.0",
      "model_name": "DescriptionStyleModel",
      "state": {
       "description_width": "initial"
      }
     },
     "ace0523fe466461ea36fb4ec03c67f97": {
      "model_module": "@jupyter-widgets/base",
      "model_module_version": "1.1.0",
      "model_name": "LayoutModel",
      "state": {}
     },
     "ad164b76c19a4e37b3a462e586ec1e24": {
      "model_module": "@jupyter-widgets/controls",
      "model_module_version": "1.4.0",
      "model_name": "DescriptionStyleModel",
      "state": {
       "description_width": "initial"
      }
     },
     "ad7e05a5bbc24ecf96697df30961f193": {
      "model_module": "@jupyter-widgets/controls",
      "model_module_version": "1.4.0",
      "model_name": "HTMLModel",
      "state": {
       "layout": "IPY_MODEL_e11009fc143e4b6a9e97f24a1f586f13",
       "style": "IPY_MODEL_cfd5bfe8966f4817b20755a47f689efa",
       "value": "<h4 style=\"font-size:14px;\">Warum muss zwischen zwei Schichten eines Feedforward-Netzwerks eine nicht-lineare Aktivierungsfunktion eingefügt werden?</h4>"
      }
     },
     "ad8f3680716648f795527e03ce63e587": {
      "model_module": "@jupyter-widgets/base",
      "model_module_version": "1.1.0",
      "model_name": "LayoutModel",
      "state": {
       "width": "600px"
      }
     },
     "adf1eb26d9e9499a8c48ef2988fc55ca": {
      "model_module": "@jupyter-widgets/controls",
      "model_module_version": "1.4.0",
      "model_name": "CheckboxModel",
      "state": {
       "description": "Die Summe aller Regelwahrscheinlichkeiten für jede RHS ist jeweils 1.",
       "disabled": false,
       "layout": "IPY_MODEL_731626e3bf1043f0a463966b970d9c9e",
       "style": "IPY_MODEL_543ab5aed11a496eb7a96c39b141a760",
       "value": false
      }
     },
     "adf28c5c25ac4c63a804091ef0f75164": {
      "model_module": "@jupyter-widgets/base",
      "model_module_version": "1.1.0",
      "model_name": "LayoutModel",
      "state": {
       "width": "250px"
      }
     },
     "ae74465b363d4fe9a3318e2f34cde623": {
      "model_module": "@jupyter-widgets/base",
      "model_module_version": "1.1.0",
      "model_name": "LayoutModel",
      "state": {
       "width": "600px"
      }
     },
     "ae75ed89f6e841f4930c19f97755430d": {
      "model_module": "@jupyter-widgets/controls",
      "model_module_version": "1.4.0",
      "model_name": "ButtonStyleModel",
      "state": {}
     },
     "af3445de01f84d2782daeb80b85b58ca": {
      "model_module": "@jupyter-widgets/base",
      "model_module_version": "1.1.0",
      "model_name": "LayoutModel",
      "state": {}
     },
     "af39e5ddafb2422ca1424eadf5ff7584": {
      "model_module": "@jupyter-widgets/controls",
      "model_module_version": "1.4.0",
      "model_name": "ButtonStyleModel",
      "state": {}
     },
     "af414f23f9014bd091f5d2f5e3e52649": {
      "model_module": "@jupyter-widgets/controls",
      "model_module_version": "1.4.0",
      "model_name": "DescriptionStyleModel",
      "state": {
       "description_width": "initial"
      }
     },
     "afe45fbf650a4955831a80fdef02ece4": {
      "model_module": "@jupyter-widgets/controls",
      "model_module_version": "1.4.0",
      "model_name": "HTMLModel",
      "state": {
       "layout": "IPY_MODEL_e10534888b6347ed8cf8a206951f87bd",
       "style": "IPY_MODEL_14c9181c27d745d99f71faa4b32e451a",
       "value": "<h4 style=\"font-size:14px;\">Welche zwei Faktoren führen bei der syntaktischen Analyse natürlicher Sprache mittels formaler Grammatiken zu mehr Ambiguität (Anzahl an Ableitungen)?</h4>"
      }
     },
     "b01e9a65fae146c5b47efd352862f868": {
      "model_module": "@jupyter-widgets/base",
      "model_module_version": "1.1.0",
      "model_name": "LayoutModel",
      "state": {
       "width": "250px"
      }
     },
     "b023c691c7ef4a678a7b21dee1ff347c": {
      "model_module": "@jupyter-widgets/controls",
      "model_module_version": "1.4.0",
      "model_name": "CheckboxModel",
      "state": {
       "description": "Die Summe aller Regelwahrscheinlichkeiten für jede LHS ist jeweils 1.",
       "disabled": false,
       "layout": "IPY_MODEL_efdb860205bd47a1bbcb6233d010c6de",
       "style": "IPY_MODEL_33e5bcd5d9e5485fbf09a93af246780e",
       "value": true
      }
     },
     "b03b5fa81f6843fa8deece381bd172ec": {
      "model_module": "@jupyter-widgets/base",
      "model_module_version": "1.1.0",
      "model_name": "LayoutModel",
      "state": {}
     },
     "b046e55483764c908c33d24b238821aa": {
      "model_module": "@jupyter-widgets/controls",
      "model_module_version": "1.4.0",
      "model_name": "DescriptionStyleModel",
      "state": {
       "description_width": "initial"
      }
     },
     "b069fe30ff3142d9ad028a4e9c0e205a": {
      "model_module": "@jupyter-widgets/base",
      "model_module_version": "1.1.0",
      "model_name": "LayoutModel",
      "state": {
       "justify_content": "center"
      }
     },
     "b0808479e2a04f36825e762fe34f0e02": {
      "model_module": "@jupyter-widgets/controls",
      "model_module_version": "1.4.0",
      "model_name": "VBoxModel",
      "state": {
       "children": [
        "IPY_MODEL_a33d90de71494ba3b9524eb08f8029a2",
        "IPY_MODEL_8a6566a7ac4d45e998d9e5c3a5b1f372",
        "IPY_MODEL_de4d897b83514d0ebb77cd2df228b403",
        "IPY_MODEL_d7b16115ee1c48bdb1ab26ccbdc0efe8"
       ],
       "layout": "IPY_MODEL_e99e49be178445e7ac13899fa465b783"
      }
     },
     "b0e1673220ff4f14a41ecab0d00aad4f": {
      "model_module": "@jupyter-widgets/base",
      "model_module_version": "1.1.0",
      "model_name": "LayoutModel",
      "state": {
       "width": "600px"
      }
     },
     "b122e2c1c70141229480c8c99a3130bc": {
      "model_module": "@jupyter-widgets/controls",
      "model_module_version": "1.4.0",
      "model_name": "VBoxModel",
      "state": {
       "children": [
        "IPY_MODEL_21912a69c3574706865e68f570d98043",
        "IPY_MODEL_3f67cd88127643b6bd5ef9f8e5e9a0ea",
        "IPY_MODEL_2e5e42b1fe5a4ff6acecc6bd9756767b",
        "IPY_MODEL_49eb183a31224a7aaae266d9c2c5484f"
       ],
       "layout": "IPY_MODEL_8d34e04765c5442eac84b2906d4ce029"
      }
     },
     "b17c3142e6034b89a1ba70b7d406bc72": {
      "model_module": "@jupyter-widgets/controls",
      "model_module_version": "1.4.0",
      "model_name": "VBoxModel",
      "state": {
       "children": [
        "IPY_MODEL_b23eb71362f640a78fe34a6fc68a75a8",
        "IPY_MODEL_8f0fe60c3e1d4724999804a0bdcd3c28",
        "IPY_MODEL_3d7aac56465e49e2bbccd6c77017d13b",
        "IPY_MODEL_91484ed7ffda4dd894c387a4db3d7ec4"
       ],
       "layout": "IPY_MODEL_25e9526c4d2242d2bb53ed454d065c6d"
      }
     },
     "b1c622fa84e0437cbc9372bafae729a5": {
      "model_module": "@jupyter-widgets/base",
      "model_module_version": "1.1.0",
      "model_name": "LayoutModel",
      "state": {
       "width": "250px"
      }
     },
     "b229f0c6bc8445728c03c2ef06fa3611": {
      "model_module": "@jupyter-widgets/base",
      "model_module_version": "1.1.0",
      "model_name": "LayoutModel",
      "state": {}
     },
     "b23eb71362f640a78fe34a6fc68a75a8": {
      "model_module": "@jupyter-widgets/controls",
      "model_module_version": "1.4.0",
      "model_name": "HTMLModel",
      "state": {
       "layout": "IPY_MODEL_9f32c092253548d3b7d62328614a6efb",
       "style": "IPY_MODEL_2e316ef9ec1c4753950e56da716359ac",
       "value": "<h4 style=\"font-size:14px;\">Welche der folgenden Bedingungen wird an eine PCFG gestellt?</h4>"
      }
     },
     "b24fe578346348af807329c3cd4067a2": {
      "model_module": "@jupyter-widgets/base",
      "model_module_version": "1.1.0",
      "model_name": "LayoutModel",
      "state": {}
     },
     "b2673f70881e4618a15e31abd0f97dcf": {
      "model_module": "@jupyter-widgets/controls",
      "model_module_version": "1.4.0",
      "model_name": "DescriptionStyleModel",
      "state": {
       "description_width": "initial"
      }
     },
     "b26e181f30b84892b376c8112092b384": {
      "model_module": "@jupyter-widgets/controls",
      "model_module_version": "1.4.0",
      "model_name": "CheckboxModel",
      "state": {
       "description": "Koordinierungsambigutiät",
       "disabled": false,
       "layout": "IPY_MODEL_f005948f3caf49d3b07c8bd765d9e3d3",
       "style": "IPY_MODEL_d8a4dfca7da7494c9c1a534ab1e50be8",
       "value": false
      }
     },
     "b2f571833e9c43e2beb218297fb8b512": {
      "model_module": "@jupyter-widgets/controls",
      "model_module_version": "1.4.0",
      "model_name": "DescriptionStyleModel",
      "state": {
       "description_width": "initial"
      }
     },
     "b3bd55206c164ff3b719db05f8b40ba5": {
      "model_module": "@jupyter-widgets/base",
      "model_module_version": "1.1.0",
      "model_name": "LayoutModel",
      "state": {
       "width": "600px"
      }
     },
     "b3c7585c80fc42e6bef9c2076c306b87": {
      "model_module": "@jupyter-widgets/controls",
      "model_module_version": "1.4.0",
      "model_name": "DescriptionStyleModel",
      "state": {
       "description_width": ""
      }
     },
     "b3ddda98537742c1bdd6875f1ad3129e": {
      "model_module": "@jupyter-widgets/controls",
      "model_module_version": "1.4.0",
      "model_name": "CheckboxModel",
      "state": {
       "description": "Die Analysen sind mit der gegebenen Grammatik nicht möglich.",
       "disabled": false,
       "layout": "IPY_MODEL_e4efea17a65846c69cf4268bb40ce075",
       "style": "IPY_MODEL_67bfdcf36e574f79a0c4294e355816e0",
       "value": false
      }
     },
     "b3f7c5dcba084026b2f761bd87cbbcac": {
      "model_module": "@jupyter-widgets/controls",
      "model_module_version": "1.4.0",
      "model_name": "DescriptionStyleModel",
      "state": {
       "description_width": "initial"
      }
     },
     "b4045d467afe4c24ac5a1c4bc12013be": {
      "model_module": "@jupyter-widgets/base",
      "model_module_version": "1.1.0",
      "model_name": "LayoutModel",
      "state": {}
     },
     "b416f9336ba245ed9f5b18d5fbd0c279": {
      "model_module": "@jupyter-widgets/base",
      "model_module_version": "1.1.0",
      "model_name": "LayoutModel",
      "state": {}
     },
     "b41e93f6081e4ec790d61c0d4da1376c": {
      "model_module": "@jupyter-widgets/base",
      "model_module_version": "1.1.0",
      "model_name": "LayoutModel",
      "state": {
       "justify_content": "center"
      }
     },
     "b44cb0b9bc8a42d98aeadfae88de14aa": {
      "model_module": "@jupyter-widgets/controls",
      "model_module_version": "1.4.0",
      "model_name": "DescriptionStyleModel",
      "state": {
       "description_width": "initial"
      }
     },
     "b498832a7359490d82f29e3d13a0b88c": {
      "model_module": "@jupyter-widgets/base",
      "model_module_version": "1.1.0",
      "model_name": "LayoutModel",
      "state": {}
     },
     "b4c397a5aef845369f2bfa0a3dc1be43": {
      "model_module": "@jupyter-widgets/controls",
      "model_module_version": "1.4.0",
      "model_name": "DescriptionStyleModel",
      "state": {
       "description_width": "initial"
      }
     },
     "b4d44214292d4dcb98be2db2614429be": {
      "model_module": "@jupyter-widgets/controls",
      "model_module_version": "1.4.0",
      "model_name": "VBoxModel",
      "state": {
       "children": [
        "IPY_MODEL_afe45fbf650a4955831a80fdef02ece4",
        "IPY_MODEL_8db9e98116fb404285e7a59207ddbe4a",
        "IPY_MODEL_b0808479e2a04f36825e762fe34f0e02",
        "IPY_MODEL_e4640131a26e4107ad42027e48fb6f80"
       ],
       "layout": "IPY_MODEL_a5677ac1b8974974803c12918695fe50"
      }
     },
     "b4e3a509d29c429fa29ccd3d46bb3d73": {
      "model_module": "@jupyter-widgets/controls",
      "model_module_version": "1.4.0",
      "model_name": "DescriptionStyleModel",
      "state": {
       "description_width": ""
      }
     },
     "b4ef6512200d499cb9776bf7783671ff": {
      "model_module": "@jupyter-widgets/controls",
      "model_module_version": "1.4.0",
      "model_name": "CheckboxModel",
      "state": {
       "description": "Zunahme der Anzahl von Regeln",
       "disabled": false,
       "layout": "IPY_MODEL_df362fec8d6240a290aab9140af45829",
       "style": "IPY_MODEL_2cf9f5a5c10c40369b0a41bf511beb0c",
       "value": true
      }
     },
     "b5a458f00e4e44ce87e83afae10fb983": {
      "model_module": "@jupyter-widgets/controls",
      "model_module_version": "1.4.0",
      "model_name": "DescriptionStyleModel",
      "state": {
       "description_width": "initial"
      }
     },
     "b5fddaa604784bfe8f50671860366234": {
      "model_module": "@jupyter-widgets/base",
      "model_module_version": "1.1.0",
      "model_name": "LayoutModel",
      "state": {
       "width": "250px"
      }
     },
     "b622ab5c55ce4d52b72124fe93a17865": {
      "model_module": "@jupyter-widgets/controls",
      "model_module_version": "1.4.0",
      "model_name": "ButtonModel",
      "state": {
       "description": "InsideChartParser mit beam-size",
       "layout": "IPY_MODEL_83c74ab48c53458fb66d73090df47c3b",
       "style": "IPY_MODEL_a0bd7f933f1c4c5dbc49d98304302f09"
      }
     },
     "b625d57aa94942f3b11138a00a3e0f39": {
      "model_module": "@jupyter-widgets/controls",
      "model_module_version": "1.4.0",
      "model_name": "VBoxModel",
      "state": {
       "children": [
        "IPY_MODEL_2562d772f7e445aba335fabf8b5eec9c",
        "IPY_MODEL_2bf45330f6a04bb198d8a16ec8e081f3",
        "IPY_MODEL_5e2377f6c2024cfb93642e7222dc431e"
       ],
       "layout": "IPY_MODEL_7e7bd681f4f348e4a2b4735e72128c27"
      }
     },
     "b656789d6a9741f9842fd6ceda9d37dc": {
      "model_module": "@jupyter-widgets/controls",
      "model_module_version": "1.4.0",
      "model_name": "DescriptionStyleModel",
      "state": {
       "description_width": ""
      }
     },
     "b67ca3baf97d428594eb46483fbad5b5": {
      "model_module": "@jupyter-widgets/controls",
      "model_module_version": "1.4.0",
      "model_name": "CheckboxModel",
      "state": {
       "description": "lexikalische Ambiguität",
       "disabled": false,
       "layout": "IPY_MODEL_bf7bcef70ae045bfb84b9cd9daf353aa",
       "style": "IPY_MODEL_a1dea17e2b7d4ac989784d2e2afe5bed",
       "value": true
      }
     },
     "b6f1a06eacec464087608ac5d023c19b": {
      "model_module": "@jupyter-widgets/controls",
      "model_module_version": "1.4.0",
      "model_name": "DescriptionStyleModel",
      "state": {
       "description_width": "initial"
      }
     },
     "b6fbc1f7dd6c41238105c8fd57a73f98": {
      "model_module": "@jupyter-widgets/controls",
      "model_module_version": "1.4.0",
      "model_name": "CheckboxModel",
      "state": {
       "description": "Bestimmung der Köpfe und Dependenzrelationen",
       "disabled": false,
       "layout": "IPY_MODEL_0328cfaccefc4d5aa27bd95e7708c277",
       "style": "IPY_MODEL_3b48cc2a302f41b0a02b2c247699dd66",
       "value": false
      }
     },
     "b73223c59bb444c9894cae91e576b98f": {
      "model_module": "@jupyter-widgets/controls",
      "model_module_version": "1.4.0",
      "model_name": "CheckboxModel",
      "state": {
       "description": "Attachment-Ambiguität",
       "disabled": false,
       "layout": "IPY_MODEL_670763f80bfd405da453e680e4a1909a",
       "style": "IPY_MODEL_565a5d8bd722401ca972e5de7146d671",
       "value": false
      }
     },
     "b758b672af6d4a48bcf9dec82729022d": {
      "model_module": "@jupyter-widgets/base",
      "model_module_version": "1.1.0",
      "model_name": "LayoutModel",
      "state": {
       "width": "250px"
      }
     },
     "b7ce43eaff7c4f07b28c24fe903c19e8": {
      "model_module": "@jupyter-widgets/controls",
      "model_module_version": "1.4.0",
      "model_name": "VBoxModel",
      "state": {
       "children": [
        "IPY_MODEL_3afcc9d564d141f2bbac1f780e0da2d3",
        "IPY_MODEL_ab81865d9d8742428c6ee1db12c354d1",
        "IPY_MODEL_65fc244317fe469b9941f7ab0e427a82",
        "IPY_MODEL_a84665b369214192b3e36f706b8d5702"
       ],
       "layout": "IPY_MODEL_11b52e0e0eb84f37a8c849e4faec3fe3"
      }
     },
     "b7ef2da66f0d496e89f7b61919752f74": {
      "model_module": "@jupyter-widgets/controls",
      "model_module_version": "1.4.0",
      "model_name": "DescriptionStyleModel",
      "state": {
       "description_width": "initial"
      }
     },
     "b7fc24119b354cf4b4bca7583f1f7adb": {
      "model_module": "@jupyter-widgets/controls",
      "model_module_version": "1.4.0",
      "model_name": "CheckboxModel",
      "state": {
       "description": "Die Summe aller Regelwahrscheinlichkeiten für jede RHS ist jeweils 1.",
       "disabled": false,
       "layout": "IPY_MODEL_cb74d6da2a8048e5b23efdc64cb2448a",
       "style": "IPY_MODEL_36cce24792a04177bc88c42b736a622b",
       "value": false
      }
     },
     "b80aee9e56f7469eae774715378a82da": {
      "model_module": "@jupyter-widgets/controls",
      "model_module_version": "1.4.0",
      "model_name": "ButtonModel",
      "state": {
       "description": "Korrekt?",
       "layout": "IPY_MODEL_b84485f878174296ae2fd9c1eecaddfb",
       "style": "IPY_MODEL_986dc668dc3c414386d814e9aa5603aa"
      }
     },
     "b814556617c44d08b375a23cfc349603": {
      "model_module": "@jupyter-widgets/base",
      "model_module_version": "1.1.0",
      "model_name": "LayoutModel",
      "state": {
       "width": "250px"
      }
     },
     "b84485f878174296ae2fd9c1eecaddfb": {
      "model_module": "@jupyter-widgets/base",
      "model_module_version": "1.1.0",
      "model_name": "LayoutModel",
      "state": {
       "width": "250px"
      }
     },
     "b86555cc26e24e5894a11bf6beb16bbf": {
      "model_module": "@jupyter-widgets/controls",
      "model_module_version": "1.4.0",
      "model_name": "ButtonStyleModel",
      "state": {
       "button_color": "lightgreen"
      }
     },
     "b87a81471fc7413c89324978150e4ced": {
      "model_module": "@jupyter-widgets/controls",
      "model_module_version": "1.4.0",
      "model_name": "HTMLModel",
      "state": {
       "layout": "IPY_MODEL_41d7df3fe08044c08f69c14e425fdf7d",
       "style": "IPY_MODEL_b4e3a509d29c429fa29ccd3d46bb3d73",
       "value": "<i>Wählen Sie die <ins>eine</ins> korrekte Antwort aus: </i>"
      }
     },
     "b87db711dccb4940bc6213f0a6c2052d": {
      "model_module": "@jupyter-widgets/controls",
      "model_module_version": "1.4.0",
      "model_name": "DescriptionStyleModel",
      "state": {
       "description_width": "initial"
      }
     },
     "b89471cea31d4f609e1bf72ed6e42dc8": {
      "model_module": "@jupyter-widgets/base",
      "model_module_version": "1.1.0",
      "model_name": "LayoutModel",
      "state": {
       "width": "600px"
      }
     },
     "b92d3150126448129d599a9ed612c677": {
      "model_module": "@jupyter-widgets/controls",
      "model_module_version": "1.4.0",
      "model_name": "CheckboxModel",
      "state": {
       "description": "längere Sätze",
       "disabled": false,
       "layout": "IPY_MODEL_e730d4cf82444f6b98c49655d3faeb01",
       "style": "IPY_MODEL_635385c5815044558d8580f5da845167",
       "value": true
      }
     },
     "b9fb3e879d444403a1a33d08fc404ad8": {
      "model_module": "@jupyter-widgets/controls",
      "model_module_version": "1.4.0",
      "model_name": "DescriptionStyleModel",
      "state": {
       "description_width": "initial"
      }
     },
     "ba3e96db2aa449ef8e2a1164a249091b": {
      "model_module": "@jupyter-widgets/controls",
      "model_module_version": "1.4.0",
      "model_name": "VBoxModel",
      "state": {
       "children": [
        "IPY_MODEL_bfa55367807c4e6d98e23f9d0ebba64b",
        "IPY_MODEL_b87a81471fc7413c89324978150e4ced",
        "IPY_MODEL_36c9cd51f5cf484db0f739ddbe5a4e83",
        "IPY_MODEL_1f8a91d86eea4004b3ae754648cb399b"
       ],
       "layout": "IPY_MODEL_0ae72623bf0340ffae2df548a23811b3"
      }
     },
     "ba6cd9bec1d5448ba1baf5415293c82c": {
      "model_module": "@jupyter-widgets/controls",
      "model_module_version": "1.4.0",
      "model_name": "DescriptionStyleModel",
      "state": {
       "description_width": "initial"
      }
     },
     "bb0e4155a23549acbd8c86c9c237b6c1": {
      "model_module": "@jupyter-widgets/controls",
      "model_module_version": "1.4.0",
      "model_name": "DescriptionStyleModel",
      "state": {
       "description_width": ""
      }
     },
     "bb10687f9b4e454d986ad0a0407483dd": {
      "model_module": "@jupyter-widgets/base",
      "model_module_version": "1.1.0",
      "model_name": "LayoutModel",
      "state": {
       "width": "250px"
      }
     },
     "bb26c37046df45348f7937ad6b8f04b8": {
      "model_module": "@jupyter-widgets/controls",
      "model_module_version": "1.4.0",
      "model_name": "DescriptionStyleModel",
      "state": {
       "description_width": "initial"
      }
     },
     "bb3eb806cc2e44cb844670cc95310505": {
      "model_module": "@jupyter-widgets/controls",
      "model_module_version": "1.4.0",
      "model_name": "HTMLModel",
      "state": {
       "layout": "IPY_MODEL_484b4fdf27014d37b01db7e61280df0b",
       "style": "IPY_MODEL_2a487082c72740fdb07486eccea6bb86",
       "value": "<i>Wählen Sie die zwei korrekten Antworten aus.</i>"
      }
     },
     "bb47ab3699944ee1b0b7189669fa07ae": {
      "model_module": "@jupyter-widgets/controls",
      "model_module_version": "1.4.0",
      "model_name": "DescriptionStyleModel",
      "state": {
       "description_width": ""
      }
     },
     "bb4b24c8baf14e83bae5d48c947b42f4": {
      "model_module": "@jupyter-widgets/base",
      "model_module_version": "1.1.0",
      "model_name": "LayoutModel",
      "state": {}
     },
     "bb64df5c0b704d7899501a8839331ed9": {
      "model_module": "@jupyter-widgets/base",
      "model_module_version": "1.1.0",
      "model_name": "LayoutModel",
      "state": {
       "width": "600px"
      }
     },
     "bbbf77649850420fa71bb043306d5e28": {
      "model_module": "@jupyter-widgets/controls",
      "model_module_version": "1.4.0",
      "model_name": "HTMLModel",
      "state": {
       "layout": "IPY_MODEL_b229f0c6bc8445728c03c2ef06fa3611",
       "style": "IPY_MODEL_569b8534d5ee4bd383ce2fa15b0e00c2",
       "value": "<h4 style=\"font-size:14px;\">Welche zwei Faktoren führen bei der syntaktischen Analyse natürlicher Sprache mittels formaler Grammatiken zu mehr Ambiguität (Anzahl an Ableitungen)?</h4>"
      }
     },
     "bbe3957aad30445bad03577d89879f94": {
      "model_module": "@jupyter-widgets/controls",
      "model_module_version": "1.4.0",
      "model_name": "DescriptionStyleModel",
      "state": {
       "description_width": ""
      }
     },
     "bbe5254260ac47dbb6fb138386bd3940": {
      "model_module": "@jupyter-widgets/controls",
      "model_module_version": "1.4.0",
      "model_name": "DescriptionStyleModel",
      "state": {
       "description_width": "initial"
      }
     },
     "bc05b86e5b754ba8aa9fcf95c07d770d": {
      "model_module": "@jupyter-widgets/controls",
      "model_module_version": "1.4.0",
      "model_name": "DescriptionStyleModel",
      "state": {
       "description_width": ""
      }
     },
     "bc908e10089e4b5295a6ae53af09a654": {
      "model_module": "@jupyter-widgets/controls",
      "model_module_version": "1.4.0",
      "model_name": "HTMLModel",
      "state": {
       "layout": "IPY_MODEL_318140fd13764e7a813f73b0a417afd3",
       "style": "IPY_MODEL_3b19a402ae204df8941bf2b576b0677b",
       "value": "<h4 style=\"font-size:14px;\">Welche der folgenden Bedingungen wird an eine PCFG gestellt?</h4>"
      }
     },
     "bcb1f7d5946044fea20f30b1da89c593": {
      "model_module": "@jupyter-widgets/controls",
      "model_module_version": "1.4.0",
      "model_name": "HTMLModel",
      "state": {
       "layout": "IPY_MODEL_e624238b568248c3bdc8523de9aac1f8",
       "style": "IPY_MODEL_143e25d5dfc34cde8bab199a720cfe12",
       "value": "<i>Wählen Sie die <ins>eine</ins> korrekte Antwort aus: </i>"
      }
     },
     "bcc62004643640d98e714e4f7b708949": {
      "model_module": "@jupyter-widgets/base",
      "model_module_version": "1.1.0",
      "model_name": "LayoutModel",
      "state": {}
     },
     "bd3f70c3c8d04b4b8f55666c3bec29fc": {
      "model_module": "@jupyter-widgets/base",
      "model_module_version": "1.1.0",
      "model_name": "LayoutModel",
      "state": {
       "width": "600px"
      }
     },
     "bda2442a1ad547edb7863487dbe0ff64": {
      "model_module": "@jupyter-widgets/controls",
      "model_module_version": "1.4.0",
      "model_name": "HTMLModel",
      "state": {
       "layout": "IPY_MODEL_b069fe30ff3142d9ad028a4e9c0e205a",
       "style": "IPY_MODEL_c7556e88ceef4b6795f555f888463e9b",
       "value": "<i>Wählen Sie die <ins>eine</ins> korrekte Antwort aus: </i>"
      }
     },
     "bdbe4982307647e2830f71484cafb924": {
      "model_module": "@jupyter-widgets/controls",
      "model_module_version": "1.4.0",
      "model_name": "CheckboxModel",
      "state": {
       "description": "Abnahme der Anzahl von Regeln",
       "disabled": false,
       "layout": "IPY_MODEL_1e12d1e676ef4db18cbdabc67a3ed58b",
       "style": "IPY_MODEL_43c7ea64cc914bcebc92f82a5b813a20",
       "value": false
      }
     },
     "bdf7d9b5699b46cbb49c50bda602727d": {
      "model_module": "@jupyter-widgets/controls",
      "model_module_version": "1.4.0",
      "model_name": "DescriptionStyleModel",
      "state": {
       "description_width": "initial"
      }
     },
     "bed779fd7bac4eb5aa173f01d82c80e9": {
      "model_module": "@jupyter-widgets/controls",
      "model_module_version": "1.4.0",
      "model_name": "CheckboxModel",
      "state": {
       "description": "Koordinierungsambigutiät",
       "disabled": false,
       "layout": "IPY_MODEL_cc431d00bf0b479989b698518c5036f6",
       "style": "IPY_MODEL_a2108ee96a8d4d7eb13274c8a51fdeb0",
       "value": false
      }
     },
     "bee2ef548c3a43e3a89f7d32eadb4868": {
      "model_module": "@jupyter-widgets/base",
      "model_module_version": "1.1.0",
      "model_name": "LayoutModel",
      "state": {
       "justify_content": "center"
      }
     },
     "bf69b56a02904983b1f2cdd8a5c05941": {
      "model_module": "@jupyter-widgets/controls",
      "model_module_version": "1.4.0",
      "model_name": "ButtonStyleModel",
      "state": {
       "button_color": "lightgreen"
      }
     },
     "bf7bcef70ae045bfb84b9cd9daf353aa": {
      "model_module": "@jupyter-widgets/base",
      "model_module_version": "1.1.0",
      "model_name": "LayoutModel",
      "state": {
       "width": "600px"
      }
     },
     "bf82392acc5142f29fda9ffa4a88698a": {
      "model_module": "@jupyter-widgets/controls",
      "model_module_version": "1.4.0",
      "model_name": "CheckboxModel",
      "state": {
       "description": "Koordinierungsambigutiät",
       "disabled": false,
       "layout": "IPY_MODEL_8c86e7d3e78b4937939a1c6f584ff204",
       "style": "IPY_MODEL_5d2292d072cf44ec8c8168865665bd1e",
       "value": false
      }
     },
     "bf905861e4e04469a2253bf213eb422c": {
      "model_module": "@jupyter-widgets/base",
      "model_module_version": "1.1.0",
      "model_name": "LayoutModel",
      "state": {
       "width": "250px"
      }
     },
     "bfa55367807c4e6d98e23f9d0ebba64b": {
      "model_module": "@jupyter-widgets/controls",
      "model_module_version": "1.4.0",
      "model_name": "HTMLModel",
      "state": {
       "layout": "IPY_MODEL_25645043c95345939fafa95c8de2a661",
       "style": "IPY_MODEL_e51f9b56a4b646a184309f1cf3b955c7",
       "value": "<h4 style=\"font-size:14px;\">Welche der folgenden Bedingungen wird an eine PCFG gestellt?</h4>"
      }
     },
     "c076e32f785e45498d59688b30e8a86f": {
      "model_module": "@jupyter-widgets/controls",
      "model_module_version": "1.4.0",
      "model_name": "DescriptionStyleModel",
      "state": {
       "description_width": "initial"
      }
     },
     "c0889361f8784209b09bed407f094d79": {
      "model_module": "@jupyter-widgets/controls",
      "model_module_version": "1.4.0",
      "model_name": "HTMLModel",
      "state": {
       "layout": "IPY_MODEL_0e9f0569c77e45b382c3cb60f3bd3015",
       "style": "IPY_MODEL_8e624060f6f34931bb5decbda443c509",
       "value": "<i>Wählen Sie die zwei korrekten Antworten aus.</i>"
      }
     },
     "c1244cab331b45b2a72eed00bd515922": {
      "model_module": "@jupyter-widgets/controls",
      "model_module_version": "1.4.0",
      "model_name": "HTMLModel",
      "state": {
       "layout": "IPY_MODEL_9a039a14bd074b24b013cb74d271462a",
       "style": "IPY_MODEL_f8b5aa39a3f8456585d8cd30fd3c0e54",
       "value": "<i>Wählen Sie die <ins>eine</ins> korrekte Antwort aus: </i>"
      }
     },
     "c150b7a6013f4f778e6175fb33b90535": {
      "model_module": "@jupyter-widgets/controls",
      "model_module_version": "1.4.0",
      "model_name": "CheckboxModel",
      "state": {
       "description": "Koordinierungsambigutiät",
       "disabled": false,
       "layout": "IPY_MODEL_7aabd24bcb8c495fb142c1cdcb879233",
       "style": "IPY_MODEL_03120e394a774489b53771d8d3e44418",
       "value": false
      }
     },
     "c15b6d5824634fcda84ac366fcb9b584": {
      "model_module": "@jupyter-widgets/controls",
      "model_module_version": "1.4.0",
      "model_name": "DescriptionStyleModel",
      "state": {
       "description_width": "initial"
      }
     },
     "c15eae45d00447e2a93ccbae07529e33": {
      "model_module": "@jupyter-widgets/base",
      "model_module_version": "1.1.0",
      "model_name": "LayoutModel",
      "state": {
       "width": "250px"
      }
     },
     "c1931ebdf72849558ed884492bc167b5": {
      "model_module": "@jupyter-widgets/controls",
      "model_module_version": "1.4.0",
      "model_name": "CheckboxModel",
      "state": {
       "description": "Die Summe aller Regelwahrscheinlichkeiten für jede LHS ist jeweils 1.",
       "disabled": false,
       "layout": "IPY_MODEL_ee322a0c51ff48caa50cda5c9dca7035",
       "style": "IPY_MODEL_28154a8050124057b857eddb88ec9011",
       "value": true
      }
     },
     "c196ca7a3f4848c58a7a14572a5718dc": {
      "model_module": "@jupyter-widgets/controls",
      "model_module_version": "1.4.0",
      "model_name": "ButtonModel",
      "state": {
       "description": "Korrekt?",
       "layout": "IPY_MODEL_6836e52a0a53418191f515f0ea0cc435",
       "style": "IPY_MODEL_a72b15821644440d8dcb747ed78483dc"
      }
     },
     "c1e23784564444c6bc0ac365e2f185fb": {
      "model_module": "@jupyter-widgets/base",
      "model_module_version": "1.1.0",
      "model_name": "LayoutModel",
      "state": {
       "width": "250px"
      }
     },
     "c21fe08552e7443f9ef0c5a219b87976": {
      "model_module": "@jupyter-widgets/controls",
      "model_module_version": "1.4.0",
      "model_name": "VBoxModel",
      "state": {
       "children": [
        "IPY_MODEL_e00bfcfd261248428f03359a2dcb6702",
        "IPY_MODEL_f6ee93b4262d40468850c99ceb1a41af",
        "IPY_MODEL_ed6f7bf671e542438a7ed61d6c842741",
        "IPY_MODEL_c47fc6d3a80c431d8644d405b859eeaa"
       ],
       "layout": "IPY_MODEL_1af2dd329056481da7d24c6618ab18e8"
      }
     },
     "c22a1ff3964e476388c93518cfd48d7a": {
      "model_module": "@jupyter-widgets/controls",
      "model_module_version": "1.4.0",
      "model_name": "HTMLModel",
      "state": {
       "layout": "IPY_MODEL_e156c28e493c47ea8eedf7d3de28d38d",
       "style": "IPY_MODEL_514cfbbb28d4434c92062ca9e9802a6f",
       "value": "<h4 style=\"font-size:14px;\">Welche zwei Arten von Ambiguität unterscheidet man hier?</h4>"
      }
     },
     "c287c4a9f21b46babedc65c16c92b82e": {
      "model_module": "@jupyter-widgets/controls",
      "model_module_version": "1.4.0",
      "model_name": "ButtonModel",
      "state": {
       "description": "Koordinationsambiguität",
       "layout": "IPY_MODEL_150b09715d424b6e846dc5c4a61191cf",
       "style": "IPY_MODEL_03941051020542e399ef5e9db7183d7e"
      }
     },
     "c3272a1349c746f99f2d2511bc979fc5": {
      "model_module": "@jupyter-widgets/controls",
      "model_module_version": "1.4.0",
      "model_name": "VBoxModel",
      "state": {
       "children": [
        "IPY_MODEL_bc908e10089e4b5295a6ae53af09a654",
        "IPY_MODEL_876fd6771b18418eadd128d769cab317",
        "IPY_MODEL_a527fae3b37c48b4b868d3a52f6065ab",
        "IPY_MODEL_13bc15ab3c984c91a7ed916ac50d2781"
       ],
       "layout": "IPY_MODEL_412ff788d7ff42fcb4db81575ca771ca"
      }
     },
     "c39d05fcadbb40de9700299448cba234": {
      "model_module": "@jupyter-widgets/base",
      "model_module_version": "1.1.0",
      "model_name": "LayoutModel",
      "state": {}
     },
     "c3ae05b6e5ee4f318e09316334a955d1": {
      "model_module": "@jupyter-widgets/controls",
      "model_module_version": "1.4.0",
      "model_name": "CheckboxModel",
      "state": {
       "description": "Weil nicht-lineare Funktionen die Effizienz des Netzwerks verbessern.",
       "disabled": false,
       "layout": "IPY_MODEL_b89471cea31d4f609e1bf72ed6e42dc8",
       "style": "IPY_MODEL_cf4a3b7c3e1a4dfc95ddbeaa6e4e2f2d",
       "value": false
      }
     },
     "c3d7fd1856544197840488fa36c2dd6a": {
      "model_module": "@jupyter-widgets/controls",
      "model_module_version": "1.4.0",
      "model_name": "CheckboxModel",
      "state": {
       "description": "Weil eine valide Wahrscheinlichkeitsverteilung nur mit Normalisierung gelernt werden kann.",
       "disabled": false,
       "layout": "IPY_MODEL_8a9fcd0e503e4167aa450fcf12e86a40",
       "style": "IPY_MODEL_5756e044bd604722b7fd3a7a539ca2f4",
       "value": false
      }
     },
     "c427239f618b4aebacf402b4ecf5e1f6": {
      "model_module": "@jupyter-widgets/base",
      "model_module_version": "1.1.0",
      "model_name": "LayoutModel",
      "state": {
       "width": "600px"
      }
     },
     "c47fc6d3a80c431d8644d405b859eeaa": {
      "model_module": "@jupyter-widgets/controls",
      "model_module_version": "1.4.0",
      "model_name": "ButtonModel",
      "state": {
       "description": "Korrekt?",
       "layout": "IPY_MODEL_c1e23784564444c6bc0ac365e2f185fb",
       "style": "IPY_MODEL_568f605162744295a34741af52f27366"
      }
     },
     "c4957f3125e84a3690f2d2b173676b7d": {
      "model_module": "@jupyter-widgets/base",
      "model_module_version": "1.1.0",
      "model_name": "LayoutModel",
      "state": {
       "width": "250px"
      }
     },
     "c49c927e431644918b02f05b8b9c31ae": {
      "model_module": "@jupyter-widgets/base",
      "model_module_version": "1.1.0",
      "model_name": "LayoutModel",
      "state": {}
     },
     "c5073d998a07418c8f4cc3fc05a16b54": {
      "model_module": "@jupyter-widgets/base",
      "model_module_version": "1.1.0",
      "model_name": "LayoutModel",
      "state": {}
     },
     "c50db977a31d4509a1757b0ec4b9d880": {
      "model_module": "@jupyter-widgets/base",
      "model_module_version": "1.1.0",
      "model_name": "LayoutModel",
      "state": {}
     },
     "c55ff8158c6e476eadb933fd59262bf7": {
      "model_module": "@jupyter-widgets/controls",
      "model_module_version": "1.4.0",
      "model_name": "ButtonStyleModel",
      "state": {}
     },
     "c5be6e760d81456fb6d46b26e7014f32": {
      "model_module": "@jupyter-widgets/controls",
      "model_module_version": "1.4.0",
      "model_name": "DescriptionStyleModel",
      "state": {
       "description_width": "initial"
      }
     },
     "c5c482ebb6414f5f9afe99aa305e6095": {
      "model_module": "@jupyter-widgets/controls",
      "model_module_version": "1.4.0",
      "model_name": "ButtonStyleModel",
      "state": {}
     },
     "c5f7b68dd29f40a593d0a58c7ea75428": {
      "model_module": "@jupyter-widgets/base",
      "model_module_version": "1.1.0",
      "model_name": "LayoutModel",
      "state": {}
     },
     "c5fac12f6896488eb0075fe2bab87ef6": {
      "model_module": "@jupyter-widgets/controls",
      "model_module_version": "1.4.0",
      "model_name": "HTMLModel",
      "state": {
       "layout": "IPY_MODEL_bee2ef548c3a43e3a89f7d32eadb4868",
       "style": "IPY_MODEL_b3c7585c80fc42e6bef9c2076c306b87",
       "value": "<i>Wählen Sie die <ins>eine</ins> korrekte Antwort aus: </i>"
      }
     },
     "c62d2352ed0743ca941d4b018073b74f": {
      "model_module": "@jupyter-widgets/base",
      "model_module_version": "1.1.0",
      "model_name": "LayoutModel",
      "state": {
       "width": "600px"
      }
     },
     "c70001e67c0b4a01a3555f0d448309a8": {
      "model_module": "@jupyter-widgets/base",
      "model_module_version": "1.1.0",
      "model_name": "LayoutModel",
      "state": {
       "justify_content": "center"
      }
     },
     "c731a99164604203965e52078d71333d": {
      "model_module": "@jupyter-widgets/base",
      "model_module_version": "1.1.0",
      "model_name": "LayoutModel",
      "state": {
       "width": "250px"
      }
     },
     "c74c246d0bc24c0bb4e337e76e2cfa3d": {
      "model_module": "@jupyter-widgets/base",
      "model_module_version": "1.1.0",
      "model_name": "LayoutModel",
      "state": {
       "width": "600px"
      }
     },
     "c7556e88ceef4b6795f555f888463e9b": {
      "model_module": "@jupyter-widgets/controls",
      "model_module_version": "1.4.0",
      "model_name": "DescriptionStyleModel",
      "state": {
       "description_width": ""
      }
     },
     "c78213ced266473e9eafe5887e6404a0": {
      "model_module": "@jupyter-widgets/base",
      "model_module_version": "1.1.0",
      "model_name": "LayoutModel",
      "state": {}
     },
     "c7ae4aebe2c24118a46db083bd6627db": {
      "model_module": "@jupyter-widgets/base",
      "model_module_version": "1.1.0",
      "model_name": "LayoutModel",
      "state": {}
     },
     "c7e3827af84144f8b06b3b5e5d6f6e88": {
      "model_module": "@jupyter-widgets/base",
      "model_module_version": "1.1.0",
      "model_name": "LayoutModel",
      "state": {
       "width": "600px"
      }
     },
     "c82315f07ee041c3bb33035f3fa237d7": {
      "model_module": "@jupyter-widgets/base",
      "model_module_version": "1.1.0",
      "model_name": "LayoutModel",
      "state": {
       "width": "250px"
      }
     },
     "c8828c6c90b643cb86943df8c517cfc8": {
      "model_module": "@jupyter-widgets/controls",
      "model_module_version": "1.4.0",
      "model_name": "VBoxModel",
      "state": {
       "children": [
        "IPY_MODEL_efd71c4848a641cda2ce97571c75d336",
        "IPY_MODEL_a4480dc09ce540febacd9d60d6dd7556",
        "IPY_MODEL_76045308b4f0400c9db3118d8f98b5de",
        "IPY_MODEL_cb27a584923b4abd88b30fd28ecc172f"
       ],
       "layout": "IPY_MODEL_af3445de01f84d2782daeb80b85b58ca"
      }
     },
     "c882cc9dedde473193463cd827c6e21c": {
      "model_module": "@jupyter-widgets/controls",
      "model_module_version": "1.4.0",
      "model_name": "ButtonStyleModel",
      "state": {}
     },
     "c88d88fe39414c8f8b428115ddbf1312": {
      "model_module": "@jupyter-widgets/controls",
      "model_module_version": "1.4.0",
      "model_name": "HTMLModel",
      "state": {
       "layout": "IPY_MODEL_c8e5e6467afa4cbb989b6576d79ab7dd",
       "style": "IPY_MODEL_ec1d28a45bdc4ddfb08db979859bbf25",
       "value": "<h4 style=\"font-size:14px;\">Welche zwei Faktoren führen bei der syntaktischen Analyse natürlicher Sprache mittels formaler Grammatiken zu mehr Ambiguität (Anzahl an Ableitungen)?</h4>"
      }
     },
     "c8a4ccfab05b458c8e7ba3b43591c920": {
      "model_module": "@jupyter-widgets/base",
      "model_module_version": "1.1.0",
      "model_name": "LayoutModel",
      "state": {
       "width": "600px"
      }
     },
     "c8e5e6467afa4cbb989b6576d79ab7dd": {
      "model_module": "@jupyter-widgets/base",
      "model_module_version": "1.1.0",
      "model_name": "LayoutModel",
      "state": {}
     },
     "c972da8ed3e74b9f86c2968302d70c65": {
      "model_module": "@jupyter-widgets/controls",
      "model_module_version": "1.4.0",
      "model_name": "DescriptionStyleModel",
      "state": {
       "description_width": "initial"
      }
     },
     "c973429ac1a94011a668c73b537253db": {
      "model_module": "@jupyter-widgets/controls",
      "model_module_version": "1.4.0",
      "model_name": "VBoxModel",
      "state": {
       "children": [
        "IPY_MODEL_edd24a4510974ecc9f9a14a67e38bdce",
        "IPY_MODEL_49c3ea797f4f4db8abf5f767707cfa6e",
        "IPY_MODEL_919b2504251c4d4bb93979767e213999",
        "IPY_MODEL_3bc9c0153ed64c0ea3ce088331b89bc2"
       ],
       "layout": "IPY_MODEL_c5073d998a07418c8f4cc3fc05a16b54"
      }
     },
     "c97c94dd3843429192a5c11038f679e3": {
      "model_module": "@jupyter-widgets/controls",
      "model_module_version": "1.4.0",
      "model_name": "ButtonStyleModel",
      "state": {}
     },
     "c9aba58f62c044f9bff57cfe7b129260": {
      "model_module": "@jupyter-widgets/controls",
      "model_module_version": "1.4.0",
      "model_name": "VBoxModel",
      "state": {
       "children": [
        "IPY_MODEL_7513456979f740a4b8cdd678254b3ff4",
        "IPY_MODEL_edd621f7199c499fa74c92b3c6c21d6a",
        "IPY_MODEL_b625d57aa94942f3b11138a00a3e0f39",
        "IPY_MODEL_de65ff64945148588e5f14791f6abfc2"
       ],
       "layout": "IPY_MODEL_4761d83b926b421e96e8dc851378865f"
      }
     },
     "c9cb163ef17d4af0843cdb739d2ef166": {
      "model_module": "@jupyter-widgets/controls",
      "model_module_version": "1.4.0",
      "model_name": "HTMLModel",
      "state": {
       "layout": "IPY_MODEL_18052dfad9c646a0bf798a40680eaf35",
       "style": "IPY_MODEL_4777e7138f604f39ab59ceb924444507",
       "value": "<h4 style=\"font-size:14px;\">Welche zwei Arten von Ambiguität unterscheidet man hier?</h4>"
      }
     },
     "ca2a5cceda294adb8c20358841fdc265": {
      "model_module": "@jupyter-widgets/controls",
      "model_module_version": "1.4.0",
      "model_name": "HTMLModel",
      "state": {
       "layout": "IPY_MODEL_3fa71feac10f44fab50a70d6ced74aa5",
       "style": "IPY_MODEL_f137d4ce0e9d4f33a85ef26b07b126fc",
       "value": "<i>Wählen Sie die zwei korrekten Antworten aus.</i>"
      }
     },
     "ca85bd46a67645379b482943b2774d2f": {
      "model_module": "@jupyter-widgets/base",
      "model_module_version": "1.1.0",
      "model_name": "LayoutModel",
      "state": {
       "width": "600px"
      }
     },
     "cb212d66929843e7aa2cb1275402655f": {
      "model_module": "@jupyter-widgets/controls",
      "model_module_version": "1.4.0",
      "model_name": "DescriptionStyleModel",
      "state": {
       "description_width": ""
      }
     },
     "cb27a584923b4abd88b30fd28ecc172f": {
      "model_module": "@jupyter-widgets/controls",
      "model_module_version": "1.4.0",
      "model_name": "HBoxModel",
      "state": {
       "children": [
        "IPY_MODEL_6cd4add615a54ba6b4acf8b86c903cde"
       ],
       "layout": "IPY_MODEL_a58f65dd95a14259b14941ba05948530"
      }
     },
     "cb482719cfd14445be0c94d1b0bedaf1": {
      "model_module": "@jupyter-widgets/controls",
      "model_module_version": "1.4.0",
      "model_name": "HTMLModel",
      "state": {
       "layout": "IPY_MODEL_6fbb4ba485074f8c97203171757e5240",
       "style": "IPY_MODEL_9ef3699edd054973906930308a82e6b6",
       "value": "<i>Geben Sie die korrekte Antwort ein: </i>"
      }
     },
     "cb5f88b2d8a847dd9ff62b44800d780d": {
      "model_module": "@jupyter-widgets/controls",
      "model_module_version": "1.4.0",
      "model_name": "ButtonStyleModel",
      "state": {}
     },
     "cb74d6da2a8048e5b23efdc64cb2448a": {
      "model_module": "@jupyter-widgets/base",
      "model_module_version": "1.1.0",
      "model_name": "LayoutModel",
      "state": {
       "width": "600px"
      }
     },
     "cc0a8e70c1fb44bd93b0bccf4b6377f0": {
      "model_module": "@jupyter-widgets/base",
      "model_module_version": "1.1.0",
      "model_name": "LayoutModel",
      "state": {
       "width": "600px"
      }
     },
     "cc431d00bf0b479989b698518c5036f6": {
      "model_module": "@jupyter-widgets/base",
      "model_module_version": "1.1.0",
      "model_name": "LayoutModel",
      "state": {
       "width": "600px"
      }
     },
     "cc5ef2bb58c646aeb4bd220b2fddedc5": {
      "model_module": "@jupyter-widgets/controls",
      "model_module_version": "1.4.0",
      "model_name": "HTMLModel",
      "state": {
       "layout": "IPY_MODEL_b416f9336ba245ed9f5b18d5fbd0c279",
       "style": "IPY_MODEL_2eb81fa80d9c44efb16062246e3a95ae",
       "value": "<h4 style=\"font-size:14px;\">Berechnen Sie die Wahrscheinlichkeit für die Ableitung in der letzten Zeile.</h4>"
      }
     },
     "cc605e1fad0848e4bd787f635cea64e7": {
      "model_module": "@jupyter-widgets/controls",
      "model_module_version": "1.4.0",
      "model_name": "CheckboxModel",
      "state": {
       "description": "Die Summe aller Regelwahrscheinlichkeiten für jede RHS ist jeweils 1.",
       "disabled": false,
       "layout": "IPY_MODEL_94d759686ef0489b83ca7d65585aeb9a",
       "style": "IPY_MODEL_79a1d506c24641e8ac35740e97daf524",
       "value": false
      }
     },
     "cc88ad63040b42a3a89c22af5364889c": {
      "model_module": "@jupyter-widgets/base",
      "model_module_version": "1.1.0",
      "model_name": "LayoutModel",
      "state": {}
     },
     "ccf5937430e64d22a05ca8d33aa71d09": {
      "model_module": "@jupyter-widgets/controls",
      "model_module_version": "1.4.0",
      "model_name": "DescriptionStyleModel",
      "state": {
       "description_width": "initial"
      }
     },
     "ce21f7bffdc64b94a299ae354dd42123": {
      "model_module": "@jupyter-widgets/base",
      "model_module_version": "1.1.0",
      "model_name": "LayoutModel",
      "state": {
       "width": "600px"
      }
     },
     "ce23e0d350d94adb929e3e4eef455d7e": {
      "model_module": "@jupyter-widgets/controls",
      "model_module_version": "1.4.0",
      "model_name": "HTMLModel",
      "state": {
       "layout": "IPY_MODEL_95f130c87c2344f4b1446adbe00a21a1",
       "style": "IPY_MODEL_47aec24423ac44f0b1f529363c23d469",
       "value": "<i>Wählen Sie die zwei korrekten Antworten aus.</i>"
      }
     },
     "ce51a298e8d14f36a610770696da4682": {
      "model_module": "@jupyter-widgets/controls",
      "model_module_version": "1.4.0",
      "model_name": "VBoxModel",
      "state": {
       "children": [
        "IPY_MODEL_b6fbc1f7dd6c41238105c8fd57a73f98",
        "IPY_MODEL_3276eeb9858c450c96daa61e917d2347",
        "IPY_MODEL_e1f24fac30964e3d8c17dc54c162c7a1"
       ],
       "layout": "IPY_MODEL_e3280eaa0b9f49df869fdf8eb98dc8e4"
      }
     },
     "ce57ddad64b74341951a831a8b39aabc": {
      "model_module": "@jupyter-widgets/controls",
      "model_module_version": "1.4.0",
      "model_name": "DescriptionStyleModel",
      "state": {
       "description_width": ""
      }
     },
     "cea4682e95604e73bbe7fa51005de20a": {
      "model_module": "@jupyter-widgets/base",
      "model_module_version": "1.1.0",
      "model_name": "LayoutModel",
      "state": {
       "justify_content": "center"
      }
     },
     "ceaa64bd0f1a40849f3324638c121c27": {
      "model_module": "@jupyter-widgets/controls",
      "model_module_version": "1.4.0",
      "model_name": "HTMLModel",
      "state": {
       "layout": "IPY_MODEL_4094032f58bd45eb8c70553830aa7a9a",
       "style": "IPY_MODEL_9bd4ed7dc981480384252feaf356d00d",
       "value": "<h4 style=\"font-size:14px;\">Welche zwei Faktoren führen bei der syntaktischen Analyse natürlicher Sprache mittels formaler Grammatiken zu mehr Ambiguität (Anzahl an Ableitungen)?</h4>"
      }
     },
     "cec6139e4f3a4e64945331fa0a3c5952": {
      "model_module": "@jupyter-widgets/controls",
      "model_module_version": "1.4.0",
      "model_name": "ButtonModel",
      "state": {
       "description": "Korrekt?",
       "layout": "IPY_MODEL_7409afe0f6204bb792900c28fa674470",
       "style": "IPY_MODEL_d9d925b4c47a4388ae446b1ea3b3ac7a"
      }
     },
     "ced17e9033524fc0963213af3d15484e": {
      "model_module": "@jupyter-widgets/controls",
      "model_module_version": "1.4.0",
      "model_name": "CheckboxModel",
      "state": {
       "description": "kürzere Sätze",
       "disabled": false,
       "layout": "IPY_MODEL_021ebb6dc14449a78ae6ae8463caab49",
       "style": "IPY_MODEL_9dae8d69174d4a6bab2fc01031ab324c",
       "value": false
      }
     },
     "cf256ab0249b4b9998805c1845e999b4": {
      "model_module": "@jupyter-widgets/controls",
      "model_module_version": "1.4.0",
      "model_name": "DescriptionStyleModel",
      "state": {
       "description_width": "initial"
      }
     },
     "cf3ad21ce9d34e9fb900ba2186bb4c9a": {
      "model_module": "@jupyter-widgets/controls",
      "model_module_version": "1.4.0",
      "model_name": "HBoxModel",
      "state": {
       "children": [
        "IPY_MODEL_022d71ce41f44dafb872d3a30af3fc10",
        "IPY_MODEL_b622ab5c55ce4d52b72124fe93a17865"
       ],
       "layout": "IPY_MODEL_46d56768d8f64592b53f1867c1a90fa6"
      }
     },
     "cf4a3b7c3e1a4dfc95ddbeaa6e4e2f2d": {
      "model_module": "@jupyter-widgets/controls",
      "model_module_version": "1.4.0",
      "model_name": "DescriptionStyleModel",
      "state": {
       "description_width": "initial"
      }
     },
     "cfab4461300546c8ad60d5c55c44d0f1": {
      "model_module": "@jupyter-widgets/controls",
      "model_module_version": "1.4.0",
      "model_name": "CheckboxModel",
      "state": {
       "description": "Bestimmung der Köpfe und Dependenzrelationen",
       "disabled": false,
       "layout": "IPY_MODEL_31822e5bab214a5b957e94664099fa39",
       "style": "IPY_MODEL_7af5922f50564022921169e38081b64a",
       "value": false
      }
     },
     "cfc1ad5a1e8d4e3082461a696da0be37": {
      "model_module": "@jupyter-widgets/controls",
      "model_module_version": "1.4.0",
      "model_name": "VBoxModel",
      "state": {
       "children": [
        "IPY_MODEL_fc2520ed25764e61b1441a72319cab9e",
        "IPY_MODEL_e7bdb7e82c8b4e399825207b2c1b4e68",
        "IPY_MODEL_eeced0403d8747f7bf102bcc6db76e03",
        "IPY_MODEL_71142d2fc3d94c7b9597308b056ca642"
       ],
       "layout": "IPY_MODEL_ace0523fe466461ea36fb4ec03c67f97"
      }
     },
     "cfd5bfe8966f4817b20755a47f689efa": {
      "model_module": "@jupyter-widgets/controls",
      "model_module_version": "1.4.0",
      "model_name": "DescriptionStyleModel",
      "state": {
       "description_width": ""
      }
     },
     "cff4b3583f58426a8d986b5c025340fc": {
      "model_module": "@jupyter-widgets/controls",
      "model_module_version": "1.4.0",
      "model_name": "DescriptionStyleModel",
      "state": {
       "description_width": ""
      }
     },
     "d002f521a36d4b02b743206e60b21e60": {
      "model_module": "@jupyter-widgets/base",
      "model_module_version": "1.1.0",
      "model_name": "LayoutModel",
      "state": {
       "width": "600px"
      }
     },
     "d02b28043b47461caae56c6a01ba9ec4": {
      "model_module": "@jupyter-widgets/base",
      "model_module_version": "1.1.0",
      "model_name": "LayoutModel",
      "state": {}
     },
     "d02bb77620ce42649caa05b32f1d0d5e": {
      "model_module": "@jupyter-widgets/controls",
      "model_module_version": "1.4.0",
      "model_name": "VBoxModel",
      "state": {
       "children": [
        "IPY_MODEL_bbbf77649850420fa71bb043306d5e28",
        "IPY_MODEL_eb01101482dc4f00945af11e50ae9336",
        "IPY_MODEL_9d9e3a03598e47e58c78a44ba1f1a55b",
        "IPY_MODEL_8c8a12f3e6ef4fca9b5ddaae5e28f2b9"
       ],
       "layout": "IPY_MODEL_67ef6a880aab420c9a667a9ee03cdf20"
      }
     },
     "d05924f5500648b7b89b8096535b8f13": {
      "model_module": "@jupyter-widgets/base",
      "model_module_version": "1.1.0",
      "model_name": "LayoutModel",
      "state": {
       "width": "600px"
      }
     },
     "d0947e10d96a4b8aba6e994c8948fea0": {
      "model_module": "@jupyter-widgets/controls",
      "model_module_version": "1.4.0",
      "model_name": "ButtonModel",
      "state": {
       "description": "Korrekt?",
       "layout": "IPY_MODEL_9c4b4875d261437c927532dfc8a845e4",
       "style": "IPY_MODEL_8dceb73ede6544cd9a47235039f37799"
      }
     },
     "d0bf5c5906e04e4098e2fdee925ccb71": {
      "model_module": "@jupyter-widgets/controls",
      "model_module_version": "1.4.0",
      "model_name": "ButtonStyleModel",
      "state": {
       "button_color": "lightgreen"
      }
     },
     "d11d7ae605824750b2874fd955a53875": {
      "model_module": "@jupyter-widgets/controls",
      "model_module_version": "1.4.0",
      "model_name": "ButtonModel",
      "state": {
       "description": "Korrekt?",
       "layout": "IPY_MODEL_c4957f3125e84a3690f2d2b173676b7d",
       "style": "IPY_MODEL_4bfa46b82ff34bb69690ec0105cc44ee"
      }
     },
     "d1c4dcd8cadb46f4ae4c27ae6b5d965e": {
      "model_module": "@jupyter-widgets/controls",
      "model_module_version": "1.4.0",
      "model_name": "DescriptionStyleModel",
      "state": {
       "description_width": "initial"
      }
     },
     "d22a73743a9d46ceb9a192689b0f91d5": {
      "model_module": "@jupyter-widgets/base",
      "model_module_version": "1.1.0",
      "model_name": "LayoutModel",
      "state": {}
     },
     "d250abd7f2fd47f395a6d5145f27fb86": {
      "model_module": "@jupyter-widgets/controls",
      "model_module_version": "1.4.0",
      "model_name": "CheckboxModel",
      "state": {
       "description": "strukturelle Ambiguität",
       "disabled": false,
       "layout": "IPY_MODEL_4156b80fc8eb4766be3b0df228ca9051",
       "style": "IPY_MODEL_1448ee3ebde941c4a4ddf48a38659ab0",
       "value": true
      }
     },
     "d3213de612f8403d8da596f5d92ac234": {
      "model_module": "@jupyter-widgets/base",
      "model_module_version": "1.1.0",
      "model_name": "LayoutModel",
      "state": {
       "width": "250px"
      }
     },
     "d343830da98249c7bcf0ba09fbcf5518": {
      "model_module": "@jupyter-widgets/controls",
      "model_module_version": "1.4.0",
      "model_name": "CheckboxModel",
      "state": {
       "description": "Abnahme der Anzahl von Regeln",
       "disabled": false,
       "layout": "IPY_MODEL_d002f521a36d4b02b743206e60b21e60",
       "style": "IPY_MODEL_e24c66e84a2e4fd794f724b065555486",
       "value": false
      }
     },
     "d37bcb4676014d8c86df5cc0853c5257": {
      "model_module": "@jupyter-widgets/controls",
      "model_module_version": "1.4.0",
      "model_name": "DescriptionStyleModel",
      "state": {
       "description_width": "initial"
      }
     },
     "d40cbea17a0f4ecf93ade1acf1555e30": {
      "model_module": "@jupyter-widgets/controls",
      "model_module_version": "1.4.0",
      "model_name": "VBoxModel",
      "state": {
       "children": [
        "IPY_MODEL_c9cb163ef17d4af0843cdb739d2ef166",
        "IPY_MODEL_59e4e0b1650940a4a5a08716b2c8478b",
        "IPY_MODEL_7609dee6b22d47c0ba3b57d9b79b48ef",
        "IPY_MODEL_a31cffa1318848d0802e3c7b6878953f"
       ],
       "layout": "IPY_MODEL_0384facc24914d0290f0aea348c3700b"
      }
     },
     "d443e52f370d4f9faa43d9b484c654c9": {
      "model_module": "@jupyter-widgets/controls",
      "model_module_version": "1.4.0",
      "model_name": "DescriptionStyleModel",
      "state": {
       "description_width": ""
      }
     },
     "d563a75564d8410ca82b81cce6d736a3": {
      "model_module": "@jupyter-widgets/base",
      "model_module_version": "1.1.0",
      "model_name": "LayoutModel",
      "state": {}
     },
     "d5be7394786a4b17a31b49a9f9cebf8b": {
      "model_module": "@jupyter-widgets/controls",
      "model_module_version": "1.4.0",
      "model_name": "CheckboxModel",
      "state": {
       "description": "strukturelle Ambiguität",
       "disabled": false,
       "layout": "IPY_MODEL_8385bdc423f14c489524e7154249eeda",
       "style": "IPY_MODEL_a3cdcef25b454a0fb6b5c56260e1e5b0",
       "value": false
      }
     },
     "d6c26c4b283a40f6bf75bca1d1ae7db0": {
      "model_module": "@jupyter-widgets/controls",
      "model_module_version": "1.4.0",
      "model_name": "DescriptionStyleModel",
      "state": {
       "description_width": "initial"
      }
     },
     "d6d4d6dec3064111bd24a56bde5c038f": {
      "model_module": "@jupyter-widgets/controls",
      "model_module_version": "1.4.0",
      "model_name": "CheckboxModel",
      "state": {
       "description": "Koordinierungsambigutiät",
       "disabled": false,
       "layout": "IPY_MODEL_376f56f6831d4f3b8608b7ec34dc96a0",
       "style": "IPY_MODEL_00cb2163680046ef821950cf2e0acd1f",
       "value": false
      }
     },
     "d720d33ae6a34e78a23c8baab3493be0": {
      "model_module": "@jupyter-widgets/base",
      "model_module_version": "1.1.0",
      "model_name": "LayoutModel",
      "state": {}
     },
     "d761440293f74fddb8fdd62e820c3c11": {
      "model_module": "@jupyter-widgets/controls",
      "model_module_version": "1.4.0",
      "model_name": "VBoxModel",
      "state": {
       "children": [
        "IPY_MODEL_94bac248d3b74bbbae0126c7c5cd3f0d",
        "IPY_MODEL_492b8eff50424966a811cbb2b20621f6",
        "IPY_MODEL_367b290daaec4672b6f88f3426cca66c",
        "IPY_MODEL_0a67cdb9f02549cba18d86c4f1991de0"
       ],
       "layout": "IPY_MODEL_e70dcd6e61c14bb5890d8edb364fd3d2"
      }
     },
     "d79c2568e25541e29c31fd204c098fc0": {
      "model_module": "@jupyter-widgets/base",
      "model_module_version": "1.1.0",
      "model_name": "LayoutModel",
      "state": {}
     },
     "d7b16115ee1c48bdb1ab26ccbdc0efe8": {
      "model_module": "@jupyter-widgets/controls",
      "model_module_version": "1.4.0",
      "model_name": "CheckboxModel",
      "state": {
       "description": "längere Sätze",
       "disabled": false,
       "layout": "IPY_MODEL_67980574a7b040c19975bbfdb3bc06ee",
       "style": "IPY_MODEL_f099d4ff33034e94a90c7d55c5ff8c70",
       "value": false
      }
     },
     "d8a4dfca7da7494c9c1a534ab1e50be8": {
      "model_module": "@jupyter-widgets/controls",
      "model_module_version": "1.4.0",
      "model_name": "DescriptionStyleModel",
      "state": {
       "description_width": "initial"
      }
     },
     "d8b876637e0e4e1a9d41de37e854eb4c": {
      "model_module": "@jupyter-widgets/base",
      "model_module_version": "1.1.0",
      "model_name": "LayoutModel",
      "state": {
       "width": "600px"
      }
     },
     "d8e6922c11724fff9793b63717cb3ebf": {
      "model_module": "@jupyter-widgets/base",
      "model_module_version": "1.1.0",
      "model_name": "LayoutModel",
      "state": {
       "width": "600px"
      }
     },
     "d8f781bf508e4ff5bd50ca154bd3f790": {
      "model_module": "@jupyter-widgets/base",
      "model_module_version": "1.1.0",
      "model_name": "LayoutModel",
      "state": {
       "width": "600px"
      }
     },
     "d90015edb057474eaa35b4fd3a56f1f6": {
      "model_module": "@jupyter-widgets/base",
      "model_module_version": "1.1.0",
      "model_name": "LayoutModel",
      "state": {
       "width": "250px"
      }
     },
     "d9882e11771d403f943ffc9f6b0891ba": {
      "model_module": "@jupyter-widgets/controls",
      "model_module_version": "1.4.0",
      "model_name": "CheckboxModel",
      "state": {
       "description": "Bestimmung der Köpfe und Dependenzrelationen",
       "disabled": false,
       "layout": "IPY_MODEL_d05924f5500648b7b89b8096535b8f13",
       "style": "IPY_MODEL_96842eef27e348e3a55a96f176aec293",
       "value": false
      }
     },
     "d9baaeaece944308864e6fa892857e82": {
      "model_module": "@jupyter-widgets/controls",
      "model_module_version": "1.4.0",
      "model_name": "ButtonStyleModel",
      "state": {}
     },
     "d9c9aa773e31462988263a4ad0d2ab4a": {
      "model_module": "@jupyter-widgets/controls",
      "model_module_version": "1.4.0",
      "model_name": "DescriptionStyleModel",
      "state": {
       "description_width": "initial"
      }
     },
     "d9cda01968774f92a3f9ba3679bb2280": {
      "model_module": "@jupyter-widgets/controls",
      "model_module_version": "1.4.0",
      "model_name": "CheckboxModel",
      "state": {
       "description": "Attachment-Ambiguität",
       "disabled": false,
       "layout": "IPY_MODEL_8de5994c02a44d7ab31a43c52ecea3fb",
       "style": "IPY_MODEL_5538cf0f86ac45a29fc36f17b706048a",
       "value": false
      }
     },
     "d9d925b4c47a4388ae446b1ea3b3ac7a": {
      "model_module": "@jupyter-widgets/controls",
      "model_module_version": "1.4.0",
      "model_name": "ButtonStyleModel",
      "state": {}
     },
     "d9d9cba6e4994be99d4d6d20c529aaa0": {
      "model_module": "@jupyter-widgets/controls",
      "model_module_version": "1.4.0",
      "model_name": "DescriptionStyleModel",
      "state": {
       "description_width": "initial"
      }
     },
     "da1dfe0e02314a7b923a36b87bebe6f4": {
      "model_module": "@jupyter-widgets/base",
      "model_module_version": "1.1.0",
      "model_name": "LayoutModel",
      "state": {
       "width": "600px"
      }
     },
     "da5458587f6846a2b5daed0a2c0de5e4": {
      "model_module": "@jupyter-widgets/base",
      "model_module_version": "1.1.0",
      "model_name": "LayoutModel",
      "state": {}
     },
     "da6df652d65d4d8dacc80bbbc862cc41": {
      "model_module": "@jupyter-widgets/controls",
      "model_module_version": "1.4.0",
      "model_name": "VBoxModel",
      "state": {
       "children": [
        "IPY_MODEL_ceaa64bd0f1a40849f3324638c121c27",
        "IPY_MODEL_5425ed734c5b47dbb94fd79be036fc0e",
        "IPY_MODEL_ed3c9b17bf06433bbd8f98aca6cbfed1",
        "IPY_MODEL_53ed9732033b422281def17b9c72178f"
       ],
       "layout": "IPY_MODEL_f7d730ddc8494ee5a9dd127038241d60"
      }
     },
     "da7b12d90b3343a092e8ebc8fd7a7a6a": {
      "model_module": "@jupyter-widgets/controls",
      "model_module_version": "1.4.0",
      "model_name": "DescriptionStyleModel",
      "state": {
       "description_width": ""
      }
     },
     "daec7eb1549342caa8007e7309f60129": {
      "model_module": "@jupyter-widgets/controls",
      "model_module_version": "1.4.0",
      "model_name": "DescriptionStyleModel",
      "state": {
       "description_width": ""
      }
     },
     "db42e756bf5348548683f63323cf0254": {
      "model_module": "@jupyter-widgets/controls",
      "model_module_version": "1.4.0",
      "model_name": "CheckboxModel",
      "state": {
       "description": "strukturelle Ambiguität",
       "disabled": false,
       "layout": "IPY_MODEL_a57fdf0a085341eba06ef148656a007f",
       "style": "IPY_MODEL_f88ec677f0ca4a258a7a2ceceaf792e7",
       "value": true
      }
     },
     "dbc38619cd714a5dbb9fce42ca497a32": {
      "model_module": "@jupyter-widgets/base",
      "model_module_version": "1.1.0",
      "model_name": "LayoutModel",
      "state": {}
     },
     "dc1ba91c1bfb465e8df5e3e0e215d839": {
      "model_module": "@jupyter-widgets/controls",
      "model_module_version": "1.4.0",
      "model_name": "ButtonStyleModel",
      "state": {}
     },
     "dc2dd93036054efd92c1a0ccbd664a07": {
      "model_module": "@jupyter-widgets/base",
      "model_module_version": "1.1.0",
      "model_name": "LayoutModel",
      "state": {
       "width": "250px"
      }
     },
     "dd0cb8ebdb454fe59ccb83aff51f31fd": {
      "model_module": "@jupyter-widgets/base",
      "model_module_version": "1.1.0",
      "model_name": "LayoutModel",
      "state": {
       "width": "600px"
      }
     },
     "dd2d3845604f4fbf9512fbc87626eaac": {
      "model_module": "@jupyter-widgets/controls",
      "model_module_version": "1.4.0",
      "model_name": "CheckboxModel",
      "state": {
       "description": "Bestimmung der Köpfe und Dependenzrelationen",
       "disabled": false,
       "layout": "IPY_MODEL_8cee216bab7045faa4b2a4632f1ce244",
       "style": "IPY_MODEL_b7ef2da66f0d496e89f7b61919752f74",
       "value": false
      }
     },
     "dd5cbfd301a64798a55de03a3532e9a4": {
      "model_module": "@jupyter-widgets/controls",
      "model_module_version": "1.4.0",
      "model_name": "CheckboxModel",
      "state": {
       "description": "Weil nicht-lineare Funktionen die Effizienz des Netzwerks verbessern.",
       "disabled": false,
       "layout": "IPY_MODEL_24f26f7074a84f8bb6a6cb88d6b570ee",
       "style": "IPY_MODEL_ac960e4aa47d4faf97b546d94703931f",
       "value": false
      }
     },
     "dd631d3f56e1406cadf087e2d5e7c6f8": {
      "model_module": "@jupyter-widgets/base",
      "model_module_version": "1.1.0",
      "model_name": "LayoutModel",
      "state": {}
     },
     "dd9dfd35ca63412482fa444e4e72e187": {
      "model_module": "@jupyter-widgets/base",
      "model_module_version": "1.1.0",
      "model_name": "LayoutModel",
      "state": {}
     },
     "de23fbaab2534281a763de7173050b36": {
      "model_module": "@jupyter-widgets/base",
      "model_module_version": "1.1.0",
      "model_name": "LayoutModel",
      "state": {
       "width": "600px"
      }
     },
     "de4af587f7ec413686083fe5cc86076e": {
      "model_module": "@jupyter-widgets/base",
      "model_module_version": "1.1.0",
      "model_name": "LayoutModel",
      "state": {
       "width": "250px"
      }
     },
     "de4d897b83514d0ebb77cd2df228b403": {
      "model_module": "@jupyter-widgets/controls",
      "model_module_version": "1.4.0",
      "model_name": "CheckboxModel",
      "state": {
       "description": "kürzere Sätze",
       "disabled": false,
       "layout": "IPY_MODEL_5f74c33914fa41329ccdea4d30f80bfe",
       "style": "IPY_MODEL_ba6cd9bec1d5448ba1baf5415293c82c",
       "value": false
      }
     },
     "de65ff64945148588e5f14791f6abfc2": {
      "model_module": "@jupyter-widgets/controls",
      "model_module_version": "1.4.0",
      "model_name": "ButtonModel",
      "state": {
       "description": "Korrekt?",
       "layout": "IPY_MODEL_49c0e632f6814443a6921f9f341de10e",
       "style": "IPY_MODEL_15bc60e3359a42c59b1aa291d8c0d8f7"
      }
     },
     "de85a6b806844d00b3d72ee667e6b873": {
      "model_module": "@jupyter-widgets/controls",
      "model_module_version": "1.4.0",
      "model_name": "CheckboxModel",
      "state": {
       "description": "lexikalische Ambiguität",
       "disabled": false,
       "layout": "IPY_MODEL_81f792a2680b4e719fa45a8b15c84410",
       "style": "IPY_MODEL_024f5c9b4a7c4630a331132802158c1c",
       "value": true
      }
     },
     "de9b4c03551241c4b09741c14696ce04": {
      "model_module": "@jupyter-widgets/controls",
      "model_module_version": "1.4.0",
      "model_name": "DescriptionStyleModel",
      "state": {
       "description_width": ""
      }
     },
     "df0a80aa2d724f7bb025dee0dd9a188e": {
      "model_module": "@jupyter-widgets/controls",
      "model_module_version": "1.4.0",
      "model_name": "CheckboxModel",
      "state": {
       "description": "Die Summe aller Regelwahrscheinlichkeiten innerhalb einer Grammatik ist 1.",
       "disabled": false,
       "layout": "IPY_MODEL_7106180f43ca49d3908503a016e0e2c7",
       "style": "IPY_MODEL_bbe5254260ac47dbb6fb138386bd3940",
       "value": false
      }
     },
     "df362fec8d6240a290aab9140af45829": {
      "model_module": "@jupyter-widgets/base",
      "model_module_version": "1.1.0",
      "model_name": "LayoutModel",
      "state": {
       "width": "600px"
      }
     },
     "df636e8c0ba64f6391e4302aa523e46d": {
      "model_module": "@jupyter-widgets/controls",
      "model_module_version": "1.4.0",
      "model_name": "DescriptionStyleModel",
      "state": {
       "description_width": ""
      }
     },
     "e00bfcfd261248428f03359a2dcb6702": {
      "model_module": "@jupyter-widgets/controls",
      "model_module_version": "1.4.0",
      "model_name": "HTMLModel",
      "state": {
       "layout": "IPY_MODEL_22b434a7277f401096d042c4c19a1d98",
       "style": "IPY_MODEL_f65871d16cc94ecdb40ba38a8179a257",
       "value": "<h4 style=\"font-size:14px;\">Warum muss zwischen zwei Schichten eines Feedforward-Netzwerks eine nicht-lineare Aktivierungsfunktion eingefügt werden?</h4>"
      }
     },
     "e06c463b51b0453fb550632053979ff8": {
      "model_module": "@jupyter-widgets/controls",
      "model_module_version": "1.4.0",
      "model_name": "CheckboxModel",
      "state": {
       "description": "kürzere Sätze",
       "disabled": false,
       "layout": "IPY_MODEL_0c976ad29a014e3ba567508df6ccfcd6",
       "style": "IPY_MODEL_f52545e68a7d40888aae9350d71bbad1",
       "value": false
      }
     },
     "e07de0ca7ce246e3adff19e1d83bf304": {
      "model_module": "@jupyter-widgets/base",
      "model_module_version": "1.1.0",
      "model_name": "LayoutModel",
      "state": {
       "justify_content": "center"
      }
     },
     "e0d95579bcfa49e38e9ef2bdd44900f6": {
      "model_module": "@jupyter-widgets/base",
      "model_module_version": "1.1.0",
      "model_name": "LayoutModel",
      "state": {
       "width": "250px"
      }
     },
     "e0ebe9fffe60456194ede764a7df1f25": {
      "model_module": "@jupyter-widgets/controls",
      "model_module_version": "1.4.0",
      "model_name": "DescriptionStyleModel",
      "state": {
       "description_width": "initial"
      }
     },
     "e10534888b6347ed8cf8a206951f87bd": {
      "model_module": "@jupyter-widgets/base",
      "model_module_version": "1.1.0",
      "model_name": "LayoutModel",
      "state": {}
     },
     "e11009fc143e4b6a9e97f24a1f586f13": {
      "model_module": "@jupyter-widgets/base",
      "model_module_version": "1.1.0",
      "model_name": "LayoutModel",
      "state": {}
     },
     "e12224320d9c447580541938167ea001": {
      "model_module": "@jupyter-widgets/base",
      "model_module_version": "1.1.0",
      "model_name": "LayoutModel",
      "state": {
       "width": "600px"
      }
     },
     "e1356a497fb64264a0279c29451346f7": {
      "model_module": "@jupyter-widgets/base",
      "model_module_version": "1.1.0",
      "model_name": "LayoutModel",
      "state": {
       "width": "600px"
      }
     },
     "e156c28e493c47ea8eedf7d3de28d38d": {
      "model_module": "@jupyter-widgets/base",
      "model_module_version": "1.1.0",
      "model_name": "LayoutModel",
      "state": {}
     },
     "e16586a9c9eb40ec9ab5f62bd4c2c543": {
      "model_module": "@jupyter-widgets/base",
      "model_module_version": "1.1.0",
      "model_name": "LayoutModel",
      "state": {
       "width": "600px"
      }
     },
     "e1662bff2fc24e568b23f486ae73d881": {
      "model_module": "@jupyter-widgets/base",
      "model_module_version": "1.1.0",
      "model_name": "LayoutModel",
      "state": {
       "width": "600px"
      }
     },
     "e197d0e8343c4ef09a200bb43ba697b1": {
      "model_module": "@jupyter-widgets/controls",
      "model_module_version": "1.4.0",
      "model_name": "DescriptionStyleModel",
      "state": {
       "description_width": "initial"
      }
     },
     "e1c8e14db545468e9a9f676c22a4b05f": {
      "model_module": "@jupyter-widgets/controls",
      "model_module_version": "1.4.0",
      "model_name": "DescriptionStyleModel",
      "state": {
       "description_width": "initial"
      }
     },
     "e1f24fac30964e3d8c17dc54c162c7a1": {
      "model_module": "@jupyter-widgets/controls",
      "model_module_version": "1.4.0",
      "model_name": "CheckboxModel",
      "state": {
       "description": "Finden aller Konstituenten",
       "disabled": false,
       "layout": "IPY_MODEL_4bd251a55e47411ca844fd211c1131ff",
       "style": "IPY_MODEL_1fb3f73891404ab9b710c6fa5909027a",
       "value": false
      }
     },
     "e221f2a89bb54bd0bbf8f9cf71ec2ff7": {
      "model_module": "@jupyter-widgets/controls",
      "model_module_version": "1.4.0",
      "model_name": "CheckboxModel",
      "state": {
       "description": "Zunahme der Anzahl von Regeln",
       "disabled": false,
       "layout": "IPY_MODEL_398e7a39094d4756a100a7567261ae19",
       "style": "IPY_MODEL_a8db93ec84fd49b8b8aa7290712efe02",
       "value": true
      }
     },
     "e234c8af55ed439dad895d4a7c2f217b": {
      "model_module": "@jupyter-widgets/controls",
      "model_module_version": "1.4.0",
      "model_name": "DescriptionStyleModel",
      "state": {
       "description_width": ""
      }
     },
     "e2368c74589c40998c3e320cab9fc253": {
      "model_module": "@jupyter-widgets/controls",
      "model_module_version": "1.4.0",
      "model_name": "CheckboxModel",
      "state": {
       "description": "Die Summe aller Regelwahrscheinlichkeiten für jede LHS ist jeweils 1.",
       "disabled": false,
       "layout": "IPY_MODEL_658169e062244a75aee74bc4578d5aef",
       "style": "IPY_MODEL_d9c9aa773e31462988263a4ad0d2ab4a",
       "value": false
      }
     },
     "e24c66e84a2e4fd794f724b065555486": {
      "model_module": "@jupyter-widgets/controls",
      "model_module_version": "1.4.0",
      "model_name": "DescriptionStyleModel",
      "state": {
       "description_width": "initial"
      }
     },
     "e24ec5d7bb654e61b5d52cf53885d906": {
      "model_module": "@jupyter-widgets/base",
      "model_module_version": "1.1.0",
      "model_name": "LayoutModel",
      "state": {
       "width": "600px"
      }
     },
     "e25b7341a678412e82878e2fdaa30cce": {
      "model_module": "@jupyter-widgets/controls",
      "model_module_version": "1.4.0",
      "model_name": "HTMLModel",
      "state": {
       "layout": "IPY_MODEL_fea9e5798f2a48ba94b175bb5aa748ea",
       "style": "IPY_MODEL_3e03f63a05594032bfbd218ad0f98e46",
       "value": "<i>Wählen Sie die <ins>eine</ins> korrekte Antwort aus: </i>"
      }
     },
     "e304011b5a5d4f44850d9f0645fa2a7a": {
      "model_module": "@jupyter-widgets/controls",
      "model_module_version": "1.4.0",
      "model_name": "ButtonStyleModel",
      "state": {}
     },
     "e3280eaa0b9f49df869fdf8eb98dc8e4": {
      "model_module": "@jupyter-widgets/base",
      "model_module_version": "1.1.0",
      "model_name": "LayoutModel",
      "state": {}
     },
     "e3528cbde48c4b998c9b1b95fa74b646": {
      "model_module": "@jupyter-widgets/controls",
      "model_module_version": "1.4.0",
      "model_name": "CheckboxModel",
      "state": {
       "description": "Weil Vektoren normalisiert werden müssen, um bestimmte Funktionen zu lernen.",
       "disabled": false,
       "layout": "IPY_MODEL_691a06a34b3d4e189e8471592625b9b8",
       "style": "IPY_MODEL_cf256ab0249b4b9998805c1845e999b4",
       "value": false
      }
     },
     "e370f5f7a85e477dae2d4d8e1897f02a": {
      "model_module": "@jupyter-widgets/base",
      "model_module_version": "1.1.0",
      "model_name": "LayoutModel",
      "state": {}
     },
     "e40fd3b182524952bec9c85c8d663d44": {
      "model_module": "@jupyter-widgets/controls",
      "model_module_version": "1.4.0",
      "model_name": "HTMLModel",
      "state": {
       "layout": "IPY_MODEL_4b979b7a39154445abb39ecd08b56054",
       "style": "IPY_MODEL_da7b12d90b3343a092e8ebc8fd7a7a6a",
       "value": "<i>Wählen Sie die <ins>eine</ins> korrekte Antwort aus: </i>"
      }
     },
     "e451c1c3a0e847e3bca2836303392e9a": {
      "model_module": "@jupyter-widgets/base",
      "model_module_version": "1.1.0",
      "model_name": "LayoutModel",
      "state": {
       "width": "600px"
      }
     },
     "e4640131a26e4107ad42027e48fb6f80": {
      "model_module": "@jupyter-widgets/controls",
      "model_module_version": "1.4.0",
      "model_name": "ButtonModel",
      "state": {
       "description": "Korrekt?",
       "layout": "IPY_MODEL_3d63e6a893a144429bda40177ecf2763",
       "style": "IPY_MODEL_1f583e7618aa42aa9bee5c40d8e95a20"
      }
     },
     "e46ce42583624823b9d012ff61c23ca1": {
      "model_module": "@jupyter-widgets/controls",
      "model_module_version": "1.4.0",
      "model_name": "HTMLModel",
      "state": {
       "layout": "IPY_MODEL_46fd846ad5dc488b98042841f9076ca5",
       "style": "IPY_MODEL_ce57ddad64b74341951a831a8b39aabc",
       "value": "<i>Wählen Sie die zwei korrekten Antworten aus.</i>"
      }
     },
     "e4efea17a65846c69cf4268bb40ce075": {
      "model_module": "@jupyter-widgets/base",
      "model_module_version": "1.1.0",
      "model_name": "LayoutModel",
      "state": {
       "width": "600px"
      }
     },
     "e51f9b56a4b646a184309f1cf3b955c7": {
      "model_module": "@jupyter-widgets/controls",
      "model_module_version": "1.4.0",
      "model_name": "DescriptionStyleModel",
      "state": {
       "description_width": ""
      }
     },
     "e5a07ce90d804cf9a862d88435e62504": {
      "model_module": "@jupyter-widgets/controls",
      "model_module_version": "1.4.0",
      "model_name": "VBoxModel",
      "state": {
       "children": [
        "IPY_MODEL_11865fa0b8f84c6da9deab8ed6f881c1",
        "IPY_MODEL_b4ef6512200d499cb9776bf7783671ff",
        "IPY_MODEL_e06c463b51b0453fb550632053979ff8",
        "IPY_MODEL_b92d3150126448129d599a9ed612c677"
       ],
       "layout": "IPY_MODEL_ebb775b37ca7484098ccf37ab82d212d"
      }
     },
     "e5d916d748524c46a3c30315c6a1dab9": {
      "model_module": "@jupyter-widgets/controls",
      "model_module_version": "1.4.0",
      "model_name": "HTMLModel",
      "state": {
       "layout": "IPY_MODEL_bcc62004643640d98e714e4f7b708949",
       "style": "IPY_MODEL_2e237d32179346188a05fc0e52d3b9fa",
       "value": "<h4 style=\"font-size:14px;\">Welche zwei Arten von Ambiguität unterscheidet man hier?</h4>"
      }
     },
     "e61e9ba33d52493882007c6072dc809c": {
      "model_module": "@jupyter-widgets/controls",
      "model_module_version": "1.4.0",
      "model_name": "DescriptionStyleModel",
      "state": {
       "description_width": "initial"
      }
     },
     "e624238b568248c3bdc8523de9aac1f8": {
      "model_module": "@jupyter-widgets/base",
      "model_module_version": "1.1.0",
      "model_name": "LayoutModel",
      "state": {
       "justify_content": "center"
      }
     },
     "e634e5e08a53421f88f66962befc5ba2": {
      "model_module": "@jupyter-widgets/base",
      "model_module_version": "1.1.0",
      "model_name": "LayoutModel",
      "state": {
       "width": "600px"
      }
     },
     "e647615bcbc94087885a07f9d7c9b011": {
      "model_module": "@jupyter-widgets/controls",
      "model_module_version": "1.4.0",
      "model_name": "ButtonStyleModel",
      "state": {}
     },
     "e6d57773aa05448483ed69757f0dc9bc": {
      "model_module": "@jupyter-widgets/controls",
      "model_module_version": "1.4.0",
      "model_name": "DescriptionStyleModel",
      "state": {
       "description_width": ""
      }
     },
     "e6f44f0638874297a80e1caf3966fa1c": {
      "model_module": "@jupyter-widgets/controls",
      "model_module_version": "1.4.0",
      "model_name": "DescriptionStyleModel",
      "state": {
       "description_width": ""
      }
     },
     "e6f78501b4d84d61a9109eb95415a4a5": {
      "model_module": "@jupyter-widgets/controls",
      "model_module_version": "1.4.0",
      "model_name": "CheckboxModel",
      "state": {
       "description": "Finden aller Konstituenten",
       "disabled": false,
       "layout": "IPY_MODEL_d8b876637e0e4e1a9d41de37e854eb4c",
       "style": "IPY_MODEL_808dc31628a7490db492a0dce2fca7c3",
       "value": false
      }
     },
     "e70dcd6e61c14bb5890d8edb364fd3d2": {
      "model_module": "@jupyter-widgets/base",
      "model_module_version": "1.1.0",
      "model_name": "LayoutModel",
      "state": {}
     },
     "e710779dffed43aab525fd6ee623dbf6": {
      "model_module": "@jupyter-widgets/base",
      "model_module_version": "1.1.0",
      "model_name": "LayoutModel",
      "state": {
       "width": "600px"
      }
     },
     "e723d354d1f649aa9ef404af69874be1": {
      "model_module": "@jupyter-widgets/base",
      "model_module_version": "1.1.0",
      "model_name": "LayoutModel",
      "state": {}
     },
     "e730d4cf82444f6b98c49655d3faeb01": {
      "model_module": "@jupyter-widgets/base",
      "model_module_version": "1.1.0",
      "model_name": "LayoutModel",
      "state": {
       "width": "600px"
      }
     },
     "e79e1092d9f64acc9b121758c1b38bd1": {
      "model_module": "@jupyter-widgets/base",
      "model_module_version": "1.1.0",
      "model_name": "LayoutModel",
      "state": {
       "width": "600px"
      }
     },
     "e7a5ad08cbb044b4901977b9fd0fe523": {
      "model_module": "@jupyter-widgets/controls",
      "model_module_version": "1.4.0",
      "model_name": "CheckboxModel",
      "state": {
       "description": "Die Summe aller Regelwahrscheinlichkeiten für jede RHS ist jeweils 1.",
       "disabled": false,
       "layout": "IPY_MODEL_eb2a8ea0338647948b2dd79e43a68618",
       "style": "IPY_MODEL_0a9b7a60fbdc4e5bb643c0959a94f96e",
       "value": false
      }
     },
     "e7bdb7e82c8b4e399825207b2c1b4e68": {
      "model_module": "@jupyter-widgets/controls",
      "model_module_version": "1.4.0",
      "model_name": "CheckboxModel",
      "state": {
       "description": "Zunahme der Anzahl von Regeln",
       "disabled": false,
       "layout": "IPY_MODEL_4455f5ae320e4258a2f64317fe3063af",
       "style": "IPY_MODEL_6bd733a257b247d3a4fa8e7bd628fec0",
       "value": false
      }
     },
     "e89537df9c074cbbab324561d23738da": {
      "model_module": "@jupyter-widgets/base",
      "model_module_version": "1.1.0",
      "model_name": "LayoutModel",
      "state": {}
     },
     "e8dc0d2a8d0a4aa3a4d343fc76b2f037": {
      "model_module": "@jupyter-widgets/controls",
      "model_module_version": "1.4.0",
      "model_name": "ButtonStyleModel",
      "state": {}
     },
     "e997bbf0b5f340848e3feeef420e00cb": {
      "model_module": "@jupyter-widgets/base",
      "model_module_version": "1.1.0",
      "model_name": "LayoutModel",
      "state": {}
     },
     "e99e49be178445e7ac13899fa465b783": {
      "model_module": "@jupyter-widgets/base",
      "model_module_version": "1.1.0",
      "model_name": "LayoutModel",
      "state": {}
     },
     "ea48dd168de04829bcddcc8fa8132e0f": {
      "model_module": "@jupyter-widgets/controls",
      "model_module_version": "1.4.0",
      "model_name": "VBoxModel",
      "state": {
       "children": [
        "IPY_MODEL_47e176c9ae5540b0966a064c515185c2",
        "IPY_MODEL_1e7d1ef3f3b24145bd06129bb85a698e",
        "IPY_MODEL_3eb552dac36c47cba26a851145334f71",
        "IPY_MODEL_3bbb899cb9524db4bbc5ce83e2790792"
       ],
       "layout": "IPY_MODEL_c50db977a31d4509a1757b0ec4b9d880"
      }
     },
     "ea86543a8e4640b0acf0e0f7658c4ac8": {
      "model_module": "@jupyter-widgets/controls",
      "model_module_version": "1.4.0",
      "model_name": "DescriptionStyleModel",
      "state": {
       "description_width": "initial"
      }
     },
     "ea9aeec2b92c4d3a8d1038c0a2ccd64a": {
      "model_module": "@jupyter-widgets/controls",
      "model_module_version": "1.4.0",
      "model_name": "VBoxModel",
      "state": {
       "children": [
        "IPY_MODEL_e5d916d748524c46a3c30315c6a1dab9",
        "IPY_MODEL_c0889361f8784209b09bed407f094d79",
        "IPY_MODEL_ea48dd168de04829bcddcc8fa8132e0f",
        "IPY_MODEL_d11d7ae605824750b2874fd955a53875"
       ],
       "layout": "IPY_MODEL_7c9fd78d130a4b73acadd2f55ff49584"
      }
     },
     "eb01101482dc4f00945af11e50ae9336": {
      "model_module": "@jupyter-widgets/controls",
      "model_module_version": "1.4.0",
      "model_name": "HTMLModel",
      "state": {
       "layout": "IPY_MODEL_12f6ea141a0c4388b80778aea5ea8fcc",
       "style": "IPY_MODEL_5adf3963b53b4ddfb1a780a411754384",
       "value": "<i>Wählen Sie die zwei korrekten Antworten aus.</i>"
      }
     },
     "eb207a0302c8442481d4d38ef98c8fad": {
      "model_module": "@jupyter-widgets/controls",
      "model_module_version": "1.4.0",
      "model_name": "CheckboxModel",
      "state": {
       "description": "längere Sätze",
       "disabled": false,
       "layout": "IPY_MODEL_6f369c389b91483492bd2ae2a6e984df",
       "style": "IPY_MODEL_a0e811f49f6e4954ac9fc744a2404377",
       "value": false
      }
     },
     "eb2a8ea0338647948b2dd79e43a68618": {
      "model_module": "@jupyter-widgets/base",
      "model_module_version": "1.1.0",
      "model_name": "LayoutModel",
      "state": {
       "width": "600px"
      }
     },
     "eb4118aa0ddd45118cfec72d87927282": {
      "model_module": "@jupyter-widgets/base",
      "model_module_version": "1.1.0",
      "model_name": "LayoutModel",
      "state": {
       "justify_content": "center"
      }
     },
     "ebb775b37ca7484098ccf37ab82d212d": {
      "model_module": "@jupyter-widgets/base",
      "model_module_version": "1.1.0",
      "model_name": "LayoutModel",
      "state": {}
     },
     "ebee321d94204a229aa18481786c1752": {
      "model_module": "@jupyter-widgets/base",
      "model_module_version": "1.1.0",
      "model_name": "LayoutModel",
      "state": {
       "width": "250px"
      }
     },
     "ec1d28a45bdc4ddfb08db979859bbf25": {
      "model_module": "@jupyter-widgets/controls",
      "model_module_version": "1.4.0",
      "model_name": "DescriptionStyleModel",
      "state": {
       "description_width": ""
      }
     },
     "eca6c8c020854cbd9cf94c5aa005897d": {
      "model_module": "@jupyter-widgets/controls",
      "model_module_version": "1.4.0",
      "model_name": "VBoxModel",
      "state": {
       "children": [
        "IPY_MODEL_b023c691c7ef4a678a7b21dee1ff347c",
        "IPY_MODEL_e7a5ad08cbb044b4901977b9fd0fe523",
        "IPY_MODEL_a12aedf5edee4d8b882326c33ce5137d"
       ],
       "layout": "IPY_MODEL_8f71ca109abd457f9a699fa5c4546f11"
      }
     },
     "ed3c9b17bf06433bbd8f98aca6cbfed1": {
      "model_module": "@jupyter-widgets/controls",
      "model_module_version": "1.4.0",
      "model_name": "VBoxModel",
      "state": {
       "children": [
        "IPY_MODEL_4fd05564cf2c4413a2fe862ac0bcf4bc",
        "IPY_MODEL_5c9d278c065543a59588b20a26c223fe",
        "IPY_MODEL_ced17e9033524fc0963213af3d15484e",
        "IPY_MODEL_8c0a8da69afb46a5890a104635a69c05"
       ],
       "layout": "IPY_MODEL_a4f68c9ca69d4d4dafc406e4eecfaf36"
      }
     },
     "ed3faa645cfe489fb5f934d1b2ca75e3": {
      "model_module": "@jupyter-widgets/base",
      "model_module_version": "1.1.0",
      "model_name": "LayoutModel",
      "state": {
       "justify_content": "center"
      }
     },
     "ed6f7bf671e542438a7ed61d6c842741": {
      "model_module": "@jupyter-widgets/controls",
      "model_module_version": "1.4.0",
      "model_name": "VBoxModel",
      "state": {
       "children": [
        "IPY_MODEL_e3528cbde48c4b998c9b1b95fa74b646",
        "IPY_MODEL_9f7fc13739e046498aebcd2647dfce6e",
        "IPY_MODEL_c3d7fd1856544197840488fa36c2dd6a",
        "IPY_MODEL_dd5cbfd301a64798a55de03a3532e9a4"
       ],
       "layout": "IPY_MODEL_007bbf92433543d4bf6a636681b21003"
      }
     },
     "edcff7bc827945a7b7dd10726e9c29d3": {
      "model_module": "@jupyter-widgets/controls",
      "model_module_version": "1.4.0",
      "model_name": "CheckboxModel",
      "state": {
       "description": "strukturelle Ambiguität",
       "disabled": false,
       "layout": "IPY_MODEL_64f66c2534254503b14ac79767856ca2",
       "style": "IPY_MODEL_b5a458f00e4e44ce87e83afae10fb983",
       "value": false
      }
     },
     "edd24a4510974ecc9f9a14a67e38bdce": {
      "model_module": "@jupyter-widgets/controls",
      "model_module_version": "1.4.0",
      "model_name": "CheckboxModel",
      "state": {
       "description": "Attachment-Ambiguität",
       "disabled": false,
       "layout": "IPY_MODEL_2af75832b6344dbf875156263c5e6d3e",
       "style": "IPY_MODEL_23fb5367b8074da981a38d6522e53f1b",
       "value": false
      }
     },
     "edd621f7199c499fa74c92b3c6c21d6a": {
      "model_module": "@jupyter-widgets/controls",
      "model_module_version": "1.4.0",
      "model_name": "HTMLModel",
      "state": {
       "layout": "IPY_MODEL_55a556cae7824c7b8f10693c162ec8a5",
       "style": "IPY_MODEL_d443e52f370d4f9faa43d9b484c654c9",
       "value": "<i>Wählen Sie die <ins>eine</ins> korrekte Antwort aus: </i>"
      }
     },
     "ee322a0c51ff48caa50cda5c9dca7035": {
      "model_module": "@jupyter-widgets/base",
      "model_module_version": "1.1.0",
      "model_name": "LayoutModel",
      "state": {
       "width": "600px"
      }
     },
     "ee6a93343b864227b0d7992613955112": {
      "model_module": "@jupyter-widgets/controls",
      "model_module_version": "1.4.0",
      "model_name": "CheckboxModel",
      "state": {
       "description": "Attachment-Ambiguität",
       "disabled": false,
       "layout": "IPY_MODEL_53f9129e2d1f4409a0fac4b75c62e50d",
       "style": "IPY_MODEL_871f3e050c4343e3980578e4ebbccd2f",
       "value": false
      }
     },
     "ee78cf5d78c54d0f87b29d722ebd1d3a": {
      "model_module": "@jupyter-widgets/base",
      "model_module_version": "1.1.0",
      "model_name": "LayoutModel",
      "state": {}
     },
     "ee9b437d2e044dc49ab73721aff69e99": {
      "model_module": "@jupyter-widgets/controls",
      "model_module_version": "1.4.0",
      "model_name": "ButtonModel",
      "state": {
       "description": "Korrekt?",
       "layout": "IPY_MODEL_aafc694cbab44c3c84814480d7966a9f",
       "style": "IPY_MODEL_bf69b56a02904983b1f2cdd8a5c05941"
      }
     },
     "eea5ad4a31884d22b4429e716428e063": {
      "model_module": "@jupyter-widgets/controls",
      "model_module_version": "1.4.0",
      "model_name": "CheckboxModel",
      "state": {
       "description": "Zunahme der Anzahl von Regeln",
       "disabled": false,
       "layout": "IPY_MODEL_0bb9c51ded6b404e9b6a37059d0e6568",
       "style": "IPY_MODEL_9f666408d0294a9e810adaab0693d904",
       "value": false
      }
     },
     "eec6e6ebddd34954897be53486a3be4a": {
      "model_module": "@jupyter-widgets/controls",
      "model_module_version": "1.4.0",
      "model_name": "CheckboxModel",
      "state": {
       "description": "Attachment-Ambiguität",
       "disabled": false,
       "layout": "IPY_MODEL_c7e3827af84144f8b06b3b5e5d6f6e88",
       "style": "IPY_MODEL_0980b67473884e6f9833e7e8bd776700",
       "value": false
      }
     },
     "eeced0403d8747f7bf102bcc6db76e03": {
      "model_module": "@jupyter-widgets/controls",
      "model_module_version": "1.4.0",
      "model_name": "CheckboxModel",
      "state": {
       "description": "kürzere Sätze",
       "disabled": false,
       "layout": "IPY_MODEL_de23fbaab2534281a763de7173050b36",
       "style": "IPY_MODEL_02e6414365614eb2a4497f9d79114542",
       "value": false
      }
     },
     "ef22a59d63904d909affd0c9b44d2eef": {
      "model_module": "@jupyter-widgets/controls",
      "model_module_version": "1.4.0",
      "model_name": "DescriptionStyleModel",
      "state": {
       "description_width": ""
      }
     },
     "ef54af967004427c8aaecc099a90d49c": {
      "model_module": "@jupyter-widgets/base",
      "model_module_version": "1.1.0",
      "model_name": "LayoutModel",
      "state": {}
     },
     "ef803ad5997645b798f0f20d0517b0de": {
      "model_module": "@jupyter-widgets/controls",
      "model_module_version": "1.4.0",
      "model_name": "DescriptionStyleModel",
      "state": {
       "description_width": ""
      }
     },
     "ef9ef0d48e9346789e04e323e8579a5a": {
      "model_module": "@jupyter-widgets/base",
      "model_module_version": "1.1.0",
      "model_name": "LayoutModel",
      "state": {
       "justify_content": "center"
      }
     },
     "efd71c4848a641cda2ce97571c75d336": {
      "model_module": "@jupyter-widgets/controls",
      "model_module_version": "1.4.0",
      "model_name": "HTMLModel",
      "state": {
       "layout": "IPY_MODEL_067d3af46c964269959119e3dce9fe2b",
       "style": "IPY_MODEL_e234c8af55ed439dad895d4a7c2f217b",
       "value": "<h4 style=\"font-size:14px;\">Um welche Art der Ambiguität handelt es sich bei den beiden gefundenen Ableitungen?</h4>"
      }
     },
     "efdb860205bd47a1bbcb6233d010c6de": {
      "model_module": "@jupyter-widgets/base",
      "model_module_version": "1.1.0",
      "model_name": "LayoutModel",
      "state": {
       "width": "600px"
      }
     },
     "f005948f3caf49d3b07c8bd765d9e3d3": {
      "model_module": "@jupyter-widgets/base",
      "model_module_version": "1.1.0",
      "model_name": "LayoutModel",
      "state": {
       "width": "600px"
      }
     },
     "f01358588fdd415daaf5c0d804101aaf": {
      "model_module": "@jupyter-widgets/controls",
      "model_module_version": "1.4.0",
      "model_name": "DescriptionStyleModel",
      "state": {
       "description_width": "initial"
      }
     },
     "f08dcfe90ea143cfab6bef1becfa7a38": {
      "model_module": "@jupyter-widgets/controls",
      "model_module_version": "1.4.0",
      "model_name": "VBoxModel",
      "state": {
       "children": [
        "IPY_MODEL_03f30ca69aa04d8b8a110439639ad21d",
        "IPY_MODEL_49923756f1ed4bdf901a2cb4ba15e995",
        "IPY_MODEL_730d4cc488f44c7a82bc20de4f94f910"
       ],
       "layout": "IPY_MODEL_2baf0a27879d48ee890c90da80c7da61"
      }
     },
     "f099d4ff33034e94a90c7d55c5ff8c70": {
      "model_module": "@jupyter-widgets/controls",
      "model_module_version": "1.4.0",
      "model_name": "DescriptionStyleModel",
      "state": {
       "description_width": "initial"
      }
     },
     "f0a95d41f75e452ca5d1e90d747efc44": {
      "model_module": "@jupyter-widgets/base",
      "model_module_version": "1.1.0",
      "model_name": "LayoutModel",
      "state": {
       "width": "250px"
      }
     },
     "f0bc36df76014c86a753c7a56ff74176": {
      "model_module": "@jupyter-widgets/base",
      "model_module_version": "1.1.0",
      "model_name": "LayoutModel",
      "state": {
       "width": "600px"
      }
     },
     "f0f21021898449769beca66be65415b5": {
      "model_module": "@jupyter-widgets/controls",
      "model_module_version": "1.4.0",
      "model_name": "ButtonStyleModel",
      "state": {}
     },
     "f137d4ce0e9d4f33a85ef26b07b126fc": {
      "model_module": "@jupyter-widgets/controls",
      "model_module_version": "1.4.0",
      "model_name": "DescriptionStyleModel",
      "state": {
       "description_width": ""
      }
     },
     "f1f20b27082d4fd6b477029b2daf0572": {
      "model_module": "@jupyter-widgets/controls",
      "model_module_version": "1.4.0",
      "model_name": "DescriptionStyleModel",
      "state": {
       "description_width": ""
      }
     },
     "f284be30545d4626b0d8f1513e14cfbd": {
      "model_module": "@jupyter-widgets/base",
      "model_module_version": "1.1.0",
      "model_name": "LayoutModel",
      "state": {
       "width": "600px"
      }
     },
     "f28529f0c3c7428b922395204a35488e": {
      "model_module": "@jupyter-widgets/controls",
      "model_module_version": "1.4.0",
      "model_name": "DescriptionStyleModel",
      "state": {
       "description_width": "initial"
      }
     },
     "f2c316ee4e7145a1a430a2e3725c61f1": {
      "model_module": "@jupyter-widgets/controls",
      "model_module_version": "1.4.0",
      "model_name": "DescriptionStyleModel",
      "state": {
       "description_width": "initial"
      }
     },
     "f2d2de8dff8f42d082a4b148bf6e5bfa": {
      "model_module": "@jupyter-widgets/controls",
      "model_module_version": "1.4.0",
      "model_name": "HTMLModel",
      "state": {
       "layout": "IPY_MODEL_1fce46871e59403a91a5611663f22fe3",
       "style": "IPY_MODEL_daec7eb1549342caa8007e7309f60129",
       "value": "<i>Wählen Sie die zwei korrekten Antworten aus.</i>"
      }
     },
     "f2dbe2221480492995e4f15635c6cf35": {
      "model_module": "@jupyter-widgets/controls",
      "model_module_version": "1.4.0",
      "model_name": "ButtonStyleModel",
      "state": {
       "button_color": "lightgreen"
      }
     },
     "f2fc2cbffa8746dea8ba27149f0ae452": {
      "model_module": "@jupyter-widgets/base",
      "model_module_version": "1.1.0",
      "model_name": "LayoutModel",
      "state": {
       "justify_content": "center"
      }
     },
     "f3074be99f4644898df12c7dbd3fff9c": {
      "model_module": "@jupyter-widgets/controls",
      "model_module_version": "1.4.0",
      "model_name": "VBoxModel",
      "state": {
       "children": [
        "IPY_MODEL_a719b9136a784801bfc216190a14338e",
        "IPY_MODEL_bcb1f7d5946044fea20f30b1da89c593",
        "IPY_MODEL_65c28bf769f445e482ab8e26e989009e",
        "IPY_MODEL_fc78524991084e6fa21377843037f6a0"
       ],
       "layout": "IPY_MODEL_dd631d3f56e1406cadf087e2d5e7c6f8"
      }
     },
     "f31b532cb82a4b579ebe26f25e562d18": {
      "model_module": "@jupyter-widgets/base",
      "model_module_version": "1.1.0",
      "model_name": "LayoutModel",
      "state": {
       "justify_content": "center"
      }
     },
     "f3610cfc9b58427498c0c8bccad4d284": {
      "model_module": "@jupyter-widgets/controls",
      "model_module_version": "1.4.0",
      "model_name": "HTMLModel",
      "state": {
       "layout": "IPY_MODEL_1d3f83d44797438c9fa710ebda016687",
       "style": "IPY_MODEL_91d8698677644bd88b0d8df411cf5d25",
       "value": "<h4 style=\"font-size:14px;\">Welche zwei Arten von Ambiguität unterscheidet man hier?</h4>"
      }
     },
     "f38a78a8e0e34ea5becce2a42fecc4c5": {
      "model_module": "@jupyter-widgets/base",
      "model_module_version": "1.1.0",
      "model_name": "LayoutModel",
      "state": {
       "justify_content": "center"
      }
     },
     "f3987e7044354260b2f036a6916c9122": {
      "model_module": "@jupyter-widgets/base",
      "model_module_version": "1.1.0",
      "model_name": "LayoutModel",
      "state": {
       "width": "250px"
      }
     },
     "f40f7f9fd6c7432794e08b67200c3ac3": {
      "model_module": "@jupyter-widgets/controls",
      "model_module_version": "1.4.0",
      "model_name": "DescriptionStyleModel",
      "state": {
       "description_width": "initial"
      }
     },
     "f42fb013d26c4f52b01aff75c351c27c": {
      "model_module": "@jupyter-widgets/controls",
      "model_module_version": "1.4.0",
      "model_name": "DescriptionStyleModel",
      "state": {
       "description_width": "initial"
      }
     },
     "f43f2058833b4832a53e48deb3f3733c": {
      "model_module": "@jupyter-widgets/controls",
      "model_module_version": "1.4.0",
      "model_name": "DescriptionStyleModel",
      "state": {
       "description_width": "initial"
      }
     },
     "f47830f0e80747eea69f66df9a197367": {
      "model_module": "@jupyter-widgets/controls",
      "model_module_version": "1.4.0",
      "model_name": "ButtonModel",
      "state": {
       "description": "Korrekt?",
       "layout": "IPY_MODEL_84abc3a2199d4fa6a1f470d906a5dbb4",
       "style": "IPY_MODEL_95af515dab61426aa1635408d4b105eb"
      }
     },
     "f4b8c495b4ac4a1eb7c1df66947af3c5": {
      "model_module": "@jupyter-widgets/controls",
      "model_module_version": "1.4.0",
      "model_name": "DescriptionStyleModel",
      "state": {
       "description_width": ""
      }
     },
     "f4d707e52c594a6baef31bc6bbcd13ba": {
      "model_module": "@jupyter-widgets/controls",
      "model_module_version": "1.4.0",
      "model_name": "VBoxModel",
      "state": {
       "children": [
        "IPY_MODEL_18a6fa931f0746d6997ab3c2777d8824",
        "IPY_MODEL_2e0d0bed341b466ea8707da45f4d8c54",
        "IPY_MODEL_41db22df265d41e2b3b2007a530975e2",
        "IPY_MODEL_a30ae8ff8c5b4fda9bee3f6eacc75689"
       ],
       "layout": "IPY_MODEL_842b4ee17ba64142a6d4b3c72bfaf202"
      }
     },
     "f4d7daad209a4d9fbf7d6957e5f88e95": {
      "model_module": "@jupyter-widgets/base",
      "model_module_version": "1.1.0",
      "model_name": "LayoutModel",
      "state": {}
     },
     "f4f5217143b24745a26dad41737d3468": {
      "model_module": "@jupyter-widgets/controls",
      "model_module_version": "1.4.0",
      "model_name": "DescriptionStyleModel",
      "state": {
       "description_width": "initial"
      }
     },
     "f52545e68a7d40888aae9350d71bbad1": {
      "model_module": "@jupyter-widgets/controls",
      "model_module_version": "1.4.0",
      "model_name": "DescriptionStyleModel",
      "state": {
       "description_width": "initial"
      }
     },
     "f5b1067394ae4e8b8bad9c85b2a501f7": {
      "model_module": "@jupyter-widgets/base",
      "model_module_version": "1.1.0",
      "model_name": "LayoutModel",
      "state": {
       "width": "600px"
      }
     },
     "f60f65b3fa9442a1841059f87748d6ac": {
      "model_module": "@jupyter-widgets/controls",
      "model_module_version": "1.4.0",
      "model_name": "ButtonStyleModel",
      "state": {
       "button_color": "lightgreen"
      }
     },
     "f615b27ac32c42caa91d7af72c73836a": {
      "model_module": "@jupyter-widgets/base",
      "model_module_version": "1.1.0",
      "model_name": "LayoutModel",
      "state": {}
     },
     "f65871d16cc94ecdb40ba38a8179a257": {
      "model_module": "@jupyter-widgets/controls",
      "model_module_version": "1.4.0",
      "model_name": "DescriptionStyleModel",
      "state": {
       "description_width": ""
      }
     },
     "f6e753def5f4420da089b784fa03e062": {
      "model_module": "@jupyter-widgets/base",
      "model_module_version": "1.1.0",
      "model_name": "LayoutModel",
      "state": {}
     },
     "f6ee93b4262d40468850c99ceb1a41af": {
      "model_module": "@jupyter-widgets/controls",
      "model_module_version": "1.4.0",
      "model_name": "HTMLModel",
      "state": {
       "layout": "IPY_MODEL_3a961c231b454958825eb17e43bb4a9b",
       "style": "IPY_MODEL_82c9ed009c4c43608571bd55246e808d",
       "value": "<i>Wählen Sie die <ins>eine</ins> korrekte Antwort aus: </i>"
      }
     },
     "f787c6a3049e4633b2c7614e99ac2710": {
      "model_module": "@jupyter-widgets/controls",
      "model_module_version": "1.4.0",
      "model_name": "CheckboxModel",
      "state": {
       "description": "längere Sätze",
       "disabled": false,
       "layout": "IPY_MODEL_a4bd2119f3c145d19bdf81e03e0069d2",
       "style": "IPY_MODEL_6d707ed8d60747b0a31d29099b5b81bf",
       "value": false
      }
     },
     "f78a12fda9db48bda461ed24f4a19050": {
      "model_module": "@jupyter-widgets/base",
      "model_module_version": "1.1.0",
      "model_name": "LayoutModel",
      "state": {
       "width": "600px"
      }
     },
     "f7a9b302afb34cacaee42c876c03e73a": {
      "model_module": "@jupyter-widgets/base",
      "model_module_version": "1.1.0",
      "model_name": "LayoutModel",
      "state": {
       "width": "600px"
      }
     },
     "f7b3f20458cf4ea1ae4809f6e1b9720d": {
      "model_module": "@jupyter-widgets/base",
      "model_module_version": "1.1.0",
      "model_name": "LayoutModel",
      "state": {
       "width": "600px"
      }
     },
     "f7d730ddc8494ee5a9dd127038241d60": {
      "model_module": "@jupyter-widgets/base",
      "model_module_version": "1.1.0",
      "model_name": "LayoutModel",
      "state": {}
     },
     "f803d9e26d9e4a9fbb95e02843ff70b3": {
      "model_module": "@jupyter-widgets/controls",
      "model_module_version": "1.4.0",
      "model_name": "CheckboxModel",
      "state": {
       "description": "Abnahme der Anzahl von Regeln",
       "disabled": false,
       "layout": "IPY_MODEL_7ad5ffe2464f4d299c5117de07ac6ba6",
       "style": "IPY_MODEL_bdf7d9b5699b46cbb49c50bda602727d",
       "value": false
      }
     },
     "f8128714fd294d05b31517fc88f23459": {
      "model_module": "@jupyter-widgets/controls",
      "model_module_version": "1.4.0",
      "model_name": "VBoxModel",
      "state": {
       "children": [
        "IPY_MODEL_3f2e85adab3348dc80ddb451831714ca",
        "IPY_MODEL_672a0c612f1848c7bac8d78ed6c2b2c1",
        "IPY_MODEL_2b01bce964ed4d439595d16b569bca93",
        "IPY_MODEL_3d03f27e08da4c32aa26dbb9edfb3efb"
       ],
       "layout": "IPY_MODEL_bb4b24c8baf14e83bae5d48c947b42f4"
      }
     },
     "f87ff0f310cc4f06a4051ee2e4ed06ec": {
      "model_module": "@jupyter-widgets/controls",
      "model_module_version": "1.4.0",
      "model_name": "HTMLModel",
      "state": {
       "layout": "IPY_MODEL_a05adce395bc44bbb0afa018e879d1f3",
       "style": "IPY_MODEL_f4b8c495b4ac4a1eb7c1df66947af3c5",
       "value": "<i>Wählen Sie die <ins>eine</ins> korrekte Antwort aus: </i>"
      }
     },
     "f887111c9230414eb23455a9a168119f": {
      "model_module": "@jupyter-widgets/controls",
      "model_module_version": "1.4.0",
      "model_name": "ButtonStyleModel",
      "state": {}
     },
     "f88ec677f0ca4a258a7a2ceceaf792e7": {
      "model_module": "@jupyter-widgets/controls",
      "model_module_version": "1.4.0",
      "model_name": "DescriptionStyleModel",
      "state": {
       "description_width": "initial"
      }
     },
     "f8b5aa39a3f8456585d8cd30fd3c0e54": {
      "model_module": "@jupyter-widgets/controls",
      "model_module_version": "1.4.0",
      "model_name": "DescriptionStyleModel",
      "state": {
       "description_width": ""
      }
     },
     "f9536d81525645a8940d7d3b4c7dbb03": {
      "model_module": "@jupyter-widgets/controls",
      "model_module_version": "1.4.0",
      "model_name": "ButtonModel",
      "state": {
       "description": "nach der Länge der Ableitung",
       "layout": "IPY_MODEL_d3213de612f8403d8da596f5d92ac234",
       "style": "IPY_MODEL_ae75ed89f6e841f4930c19f97755430d"
      }
     },
     "f954c7db25b14123a9e839934ae1e82e": {
      "model_module": "@jupyter-widgets/controls",
      "model_module_version": "1.4.0",
      "model_name": "DescriptionStyleModel",
      "state": {
       "description_width": ""
      }
     },
     "f97a7a77ce0a4a709047ec2ea5f6b7f9": {
      "model_module": "@jupyter-widgets/controls",
      "model_module_version": "1.4.0",
      "model_name": "DescriptionStyleModel",
      "state": {
       "description_width": ""
      }
     },
     "f9fdd135a08141909d4a9f6b746e18e6": {
      "model_module": "@jupyter-widgets/controls",
      "model_module_version": "1.4.0",
      "model_name": "ButtonModel",
      "state": {
       "description": "Korrekt?",
       "layout": "IPY_MODEL_4c07d1c6776347a6b2b68cc02d3420eb",
       "style": "IPY_MODEL_f0f21021898449769beca66be65415b5"
      }
     },
     "fa5881be959c4545b0d4457f0b452b34": {
      "model_module": "@jupyter-widgets/base",
      "model_module_version": "1.1.0",
      "model_name": "LayoutModel",
      "state": {
       "width": "600px"
      }
     },
     "fa647b4486b4423ab2dc541b2818f5a8": {
      "model_module": "@jupyter-widgets/controls",
      "model_module_version": "1.4.0",
      "model_name": "CheckboxModel",
      "state": {
       "description": "Koordinierungsambigutiät",
       "disabled": false,
       "layout": "IPY_MODEL_78954d8b69664e7b948b80833b00ee4f",
       "style": "IPY_MODEL_8ec7f4d1043544f3b9685b66f1a57e23",
       "value": false
      }
     },
     "faeb029082644b8d848ab6f001c78b02": {
      "model_module": "@jupyter-widgets/controls",
      "model_module_version": "1.4.0",
      "model_name": "HTMLModel",
      "state": {
       "layout": "IPY_MODEL_fb588679b63b4d7591fa08c5daad727d",
       "style": "IPY_MODEL_f97a7a77ce0a4a709047ec2ea5f6b7f9",
       "value": "<h4 style=\"font-size:14px;\">Welche zwei Arten von Ambiguität unterscheidet man hier?</h4>"
      }
     },
     "fb4042bfac504a389d783c8872f5041c": {
      "model_module": "@jupyter-widgets/base",
      "model_module_version": "1.1.0",
      "model_name": "LayoutModel",
      "state": {
       "justify_content": "center"
      }
     },
     "fb56530f633342c89125608a264218d5": {
      "model_module": "@jupyter-widgets/base",
      "model_module_version": "1.1.0",
      "model_name": "LayoutModel",
      "state": {
       "width": "600px"
      }
     },
     "fb588679b63b4d7591fa08c5daad727d": {
      "model_module": "@jupyter-widgets/base",
      "model_module_version": "1.1.0",
      "model_name": "LayoutModel",
      "state": {}
     },
     "fbaa22dec9684c7d9f8ad6fafaa4043a": {
      "model_module": "@jupyter-widgets/controls",
      "model_module_version": "1.4.0",
      "model_name": "DescriptionStyleModel",
      "state": {
       "description_width": "initial"
      }
     },
     "fbe6a838d18a4e9ea095fa33d4ccacab": {
      "model_module": "@jupyter-widgets/base",
      "model_module_version": "1.1.0",
      "model_name": "LayoutModel",
      "state": {
       "justify_content": "center"
      }
     },
     "fc2520ed25764e61b1441a72319cab9e": {
      "model_module": "@jupyter-widgets/controls",
      "model_module_version": "1.4.0",
      "model_name": "CheckboxModel",
      "state": {
       "description": "Abnahme der Anzahl von Regeln",
       "disabled": false,
       "layout": "IPY_MODEL_1f6c15d57df14e33a44baa173e9b1787",
       "style": "IPY_MODEL_d1c4dcd8cadb46f4ae4c27ae6b5d965e",
       "value": false
      }
     },
     "fc78524991084e6fa21377843037f6a0": {
      "model_module": "@jupyter-widgets/controls",
      "model_module_version": "1.4.0",
      "model_name": "ButtonModel",
      "state": {
       "description": "Korrekt?",
       "layout": "IPY_MODEL_411c94a90e9d4b46acf33b2303b4d6c7",
       "style": "IPY_MODEL_e304011b5a5d4f44850d9f0645fa2a7a"
      }
     },
     "fcbb99459bf94e29b9fa756b33b402ac": {
      "model_module": "@jupyter-widgets/controls",
      "model_module_version": "1.4.0",
      "model_name": "CheckboxModel",
      "state": {
       "description": "Zunahme der Anzahl von Regeln",
       "disabled": false,
       "layout": "IPY_MODEL_17c1608747fd447d87785d863cc135ce",
       "style": "IPY_MODEL_9c21df3ebc9145cf9cc42c45bdfa2601",
       "value": true
      }
     },
     "fd7c3256c5f448c488802ca9fc447641": {
      "model_module": "@jupyter-widgets/controls",
      "model_module_version": "1.4.0",
      "model_name": "DescriptionStyleModel",
      "state": {
       "description_width": ""
      }
     },
     "fdf13df07c4c460f9682a7fc827f033e": {
      "model_module": "@jupyter-widgets/base",
      "model_module_version": "1.1.0",
      "model_name": "LayoutModel",
      "state": {
       "justify_content": "center"
      }
     },
     "fdfadbd8d18f4ea8992d0d958ee7d8a8": {
      "model_module": "@jupyter-widgets/controls",
      "model_module_version": "1.4.0",
      "model_name": "DescriptionStyleModel",
      "state": {
       "description_width": "initial"
      }
     },
     "fdfbf518fcdd4c13bfe04033de06800d": {
      "model_module": "@jupyter-widgets/controls",
      "model_module_version": "1.4.0",
      "model_name": "DescriptionStyleModel",
      "state": {
       "description_width": ""
      }
     },
     "fea9e5798f2a48ba94b175bb5aa748ea": {
      "model_module": "@jupyter-widgets/base",
      "model_module_version": "1.1.0",
      "model_name": "LayoutModel",
      "state": {
       "justify_content": "center"
      }
     },
     "fecb1fd7f13c4df7b98dcb10bdb3d237": {
      "model_module": "@jupyter-widgets/controls",
      "model_module_version": "1.4.0",
      "model_name": "ButtonModel",
      "state": {
       "description": "Korrekt?",
       "layout": "IPY_MODEL_178c6bcc5e554430bac094a677ad7091",
       "style": "IPY_MODEL_84251a3992e5458c9d98225afa153375"
      }
     },
     "ff15bb4933474d5fbc853f2dbda1251c": {
      "model_module": "@jupyter-widgets/controls",
      "model_module_version": "1.4.0",
      "model_name": "HTMLModel",
      "state": {
       "layout": "IPY_MODEL_1707d21b110c4008942b31a000e188b2",
       "style": "IPY_MODEL_5c98f72addc64d36af576ce082be2c32",
       "value": "<h4 style=\"font-size:14px;\">Welche zwei Faktoren führen bei der syntaktischen Analyse natürlicher Sprache mittels formaler Grammatiken zu mehr Ambiguität (Anzahl an Ableitungen)?</h4>"
      }
     },
     "ff25971e7b544ffea8ede3377c026233": {
      "model_module": "@jupyter-widgets/base",
      "model_module_version": "1.1.0",
      "model_name": "LayoutModel",
      "state": {}
     },
     "ff7ef1b016a34b5ebbfcf048b34e50d3": {
      "model_module": "@jupyter-widgets/controls",
      "model_module_version": "1.4.0",
      "model_name": "DescriptionStyleModel",
      "state": {
       "description_width": "initial"
      }
     }
    },
    "version_major": 2,
    "version_minor": 0
   }
  }
 },
 "nbformat": 4,
 "nbformat_minor": 2
}
