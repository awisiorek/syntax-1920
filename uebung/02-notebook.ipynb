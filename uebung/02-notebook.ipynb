{
 "cells": [
  {
   "cell_type": "markdown",
   "metadata": {},
   "source": [
    "***Vorlesung 'Syntax natürlicher Sprachen', WS 2019/20***\n",
    "\n",
    "---\n",
    "# Übung 2"
   ]
  },
  {
   "cell_type": "code",
   "execution_count": 1,
   "metadata": {},
   "outputs": [],
   "source": [
    "from exercises_2 import *\n",
    "from questions import aufgabe"
   ]
  },
  {
   "cell_type": "markdown",
   "metadata": {},
   "source": [
    "---\n",
    "## Aufgabe 1:  Eine erste syntaktische Analyse\n",
    "\n",
    "#### Kreieren Sie Ihre ersten Syntaxbäume, indem Sie das folgende Python-Skript ausführen. Beantworten Sie im Anschluss die zugehörigen Fragen!"
   ]
  },
  {
   "cell_type": "code",
   "execution_count": 2,
   "metadata": {},
   "outputs": [
    {
     "name": "stdout",
     "output_type": "stream",
     "text": [
      "(S\n",
      "  (NP I)\n",
      "  (VP\n",
      "    (VP (V shot) (NP (Det an) (N elephant)))\n",
      "    (PP (P in) (NP (Det my) (N pajamas)))))\n",
      "     S                                       \n",
      " ┌───┴──────────────┐                         \n",
      " │                  VP                       \n",
      " │        ┌─────────┴──────────┐              \n",
      " │        VP                   PP            \n",
      " │   ┌────┴───┐            ┌───┴───┐          \n",
      " │   │        NP           │       NP        \n",
      " │   │    ┌───┴─────┐      │   ┌───┴─────┐    \n",
      " NP  V   Det        N      P  Det        N   \n",
      " │   │    │         │      │   │         │    \n",
      " I  shot  an     elephant  in  my     pajamas\n",
      "\n",
      "(S\n",
      "  (NP I)\n",
      "  (VP\n",
      "    (V shot)\n",
      "    (NP (Det an) (N elephant) (PP (P in) (NP (Det my) (N pajamas))))))\n",
      "     S                                   \n",
      " ┌───┴──────────┐                         \n",
      " │              VP                       \n",
      " │   ┌──────────┴──────┐                  \n",
      " │   │                 NP                \n",
      " │   │    ┌─────┬──────┴───┐              \n",
      " │   │    │     │          PP            \n",
      " │   │    │     │      ┌───┴───┐          \n",
      " │   │    │     │      │       NP        \n",
      " │   │    │     │      │   ┌───┴─────┐    \n",
      " NP  V   Det    N      P  Det        N   \n",
      " │   │    │     │      │   │         │    \n",
      " I  shot  an elephant  in  my     pajamas\n",
      "\n"
     ]
    }
   ],
   "source": [
    "import nltk\n",
    "\n",
    "grammar = nltk.CFG.fromstring(\"\"\"\n",
    "    S -> NP VP\n",
    "    PP -> P NP\n",
    "    NP -> Det N | Det N PP | 'I'\n",
    "    VP -> V NP | VP PP\n",
    "    Det -> 'an' | 'my'\n",
    "    N -> 'elephant' | 'pajamas'\n",
    "    V -> 'shot'\n",
    "    P -> 'in'\n",
    "\"\"\")\n",
    "\n",
    "parser = nltk.ChartParser(grammar)\n",
    "sent = \"I shot an elephant in my pajamas\".split()\n",
    "for tree in parser.parse(sent):\n",
    "    print(tree)\n",
    "    tree.pretty_print(unicodelines=True)"
   ]
  },
  {
   "cell_type": "markdown",
   "metadata": {},
   "source": [
    "---\n",
    "###  Aufgabe 1 a:"
   ]
  },
  {
   "cell_type": "code",
   "execution_count": 3,
   "metadata": {},
   "outputs": [
    {
     "data": {
      "application/vnd.jupyter.widget-view+json": {
       "model_id": "7926fd431d9b43dca92e6cfc02dafceb",
       "version_major": 2,
       "version_minor": 0
      },
      "text/plain": [
       "SingleChoice(children=(HTML(value='<h4 style=\"font-size:14px;\">Warum gibt die parse-Funktion des Skripts vermu…"
      ]
     },
     "metadata": {},
     "output_type": "display_data"
    },
    {
     "data": {
      "application/vnd.jupyter.widget-view+json": {
       "model_id": "f8fd35a79ff34b6090eeb8c3b8dbfacc",
       "version_major": 2,
       "version_minor": 0
      },
      "text/plain": [
       "SingleChoice(children=(HTML(value='<h4 style=\"font-size:14px;\">Die Alternative <code>tree = parser.parse(sent)…"
      ]
     },
     "metadata": {},
     "output_type": "display_data"
    }
   ],
   "source": [
    "aufgabe(blatt2_1a)"
   ]
  },
  {
   "cell_type": "markdown",
   "metadata": {},
   "source": [
    "---\n",
    "###  Aufgabe 1 b:\n",
    "\n",
    "#### Worin liegen die Unterschiede zwischen den ausgegebenen Bäumen? Beantworten Sie dazu folgende Frage."
   ]
  },
  {
   "cell_type": "code",
   "execution_count": 4,
   "metadata": {
    "scrolled": true
   },
   "outputs": [
    {
     "data": {
      "application/vnd.jupyter.widget-view+json": {
       "model_id": "cf38246d1cba49239f6d62ec631d4306",
       "version_major": 2,
       "version_minor": 0
      },
      "text/plain": [
       "MultipleChoice(children=(HTML(value='<h4 style=\"font-size:14px;\">Zu welcher Phrase kann die Präpositionalphras…"
      ]
     },
     "metadata": {},
     "output_type": "display_data"
    }
   ],
   "source": [
    "aufgabe(blatt2_1b)"
   ]
  },
  {
   "cell_type": "markdown",
   "metadata": {},
   "source": [
    "___\n",
    "### Aufgabe 1 c:\n",
    "\n",
    "#### Warum ist der gegebene Satz \"I shot an elephant in my pajamas\" syntaktisch ambig? Beantworten Sie dazu folgende Fragen."
   ]
  },
  {
   "cell_type": "code",
   "execution_count": 5,
   "metadata": {
    "scrolled": false
   },
   "outputs": [
    {
     "data": {
      "application/vnd.jupyter.widget-view+json": {
       "model_id": "5b03731c5280439a8317eea39cd6a0c9",
       "version_major": 2,
       "version_minor": 0
      },
      "text/plain": [
       "SingleChoice(children=(HTML(value='<h4 style=\"font-size:14px;\">Bzgl. welcher (nicht an der Oberflächensyntax e…"
      ]
     },
     "metadata": {},
     "output_type": "display_data"
    },
    {
     "data": {
      "application/vnd.jupyter.widget-view+json": {
       "model_id": "6cabc13356264cb3a1a8933ea4f6d656",
       "version_major": 2,
       "version_minor": 0
      },
      "text/plain": [
       "SelectionList(children=(HTML(value='<h4 style=\"font-size:14px;\">Was ist der Fall, wenn die PP ein Adverbial is…"
      ]
     },
     "metadata": {},
     "output_type": "display_data"
    },
    {
     "data": {
      "application/vnd.jupyter.widget-view+json": {
       "model_id": "439ddc4d65f04cb1bda488c6c23a4849",
       "version_major": 2,
       "version_minor": 0
      },
      "text/plain": [
       "SelectionList(children=(HTML(value='<h4 style=\"font-size:14px;\">Was ist der Fall, wenn die PP ein Attribut ist…"
      ]
     },
     "metadata": {},
     "output_type": "display_data"
    }
   ],
   "source": [
    "aufgabe(blatt2_1c)"
   ]
  },
  {
   "cell_type": "markdown",
   "metadata": {},
   "source": [
    "---\n",
    "## Aufgabe 2: Was ist Grammatik?\n",
    "\n",
    "#### Gegeben sind folgende Sätze:\n",
    "1. Die Grammatik des Lateinischen ist schwer. Vor allem die Syntax bereitet Schwierigkeiten.\n",
    "2. Der Duden ist eine Grammatik.\n",
    "3. Der Begründer der Dependenzgrammatik ist Lucien Tesnière.\n"
   ]
  },
  {
   "cell_type": "markdown",
   "metadata": {},
   "source": [
    "---\n",
    "### Aufgabe 2 a:\n",
    "\n",
    "#### Erläutern Sie die drei Grammatikbegriffe, die den folgenden Sätzen zugrunde liegen. Beantworten Sie dazu folgende Fragen."
   ]
  },
  {
   "cell_type": "code",
   "execution_count": 6,
   "metadata": {},
   "outputs": [
    {
     "data": {
      "application/vnd.jupyter.widget-view+json": {
       "model_id": "0e792efaefff403580f7dfe1ac1c6d1f",
       "version_major": 2,
       "version_minor": 0
      },
      "text/plain": [
       "SingleChoice(children=(HTML(value='<h4 style=\"font-size:14px;\">Welcher Grammatikbegriff liegt Satz 1 zugrunde?…"
      ]
     },
     "metadata": {},
     "output_type": "display_data"
    },
    {
     "data": {
      "application/vnd.jupyter.widget-view+json": {
       "model_id": "274649bfcbfc4061b0973081c327dfe7",
       "version_major": 2,
       "version_minor": 0
      },
      "text/plain": [
       "SingleChoice(children=(HTML(value='<h4 style=\"font-size:14px;\">Welcher Grammatikbegriff liegt Satz 2 zugrunde?…"
      ]
     },
     "metadata": {},
     "output_type": "display_data"
    },
    {
     "data": {
      "application/vnd.jupyter.widget-view+json": {
       "model_id": "11793233a2d24cde98af1197f7015519",
       "version_major": 2,
       "version_minor": 0
      },
      "text/plain": [
       "SingleChoice(children=(HTML(value='<h4 style=\"font-size:14px;\">Welcher Grammatikbegriff liegt Satz 3 zugrunde?…"
      ]
     },
     "metadata": {},
     "output_type": "display_data"
    }
   ],
   "source": [
    "aufgabe(blatt2_2a)"
   ]
  },
  {
   "cell_type": "markdown",
   "metadata": {},
   "source": [
    "---\n",
    "### Aufgabe 2 b:\n",
    "\n",
    "#### Zeigen Sie am Beispiel von Satz 1 den Unterschied zwischen Grammatik und Syntax auf.  Beantworten Sie dazu folgende Fragen."
   ]
  },
  {
   "cell_type": "code",
   "execution_count": 7,
   "metadata": {},
   "outputs": [
    {
     "data": {
      "application/vnd.jupyter.widget-view+json": {
       "model_id": "2eea8dde76784eec95e6b0a0b4afa841",
       "version_major": 2,
       "version_minor": 0
      },
      "text/plain": [
       "MultipleChoice(children=(HTML(value='<h4 style=\"font-size:14px;\">Welche Gesetzmäßigkeiten umfasst die Grammati…"
      ]
     },
     "metadata": {},
     "output_type": "display_data"
    },
    {
     "data": {
      "application/vnd.jupyter.widget-view+json": {
       "model_id": "1f5cf4d7955e439a8d0107d0b9614cad",
       "version_major": 2,
       "version_minor": 0
      },
      "text/plain": [
       "Lueckentext(children=(HTML(value='<i>Vervollständigen Sie den Lückentext: </i>', layout=Layout(justify_content…"
      ]
     },
     "metadata": {},
     "output_type": "display_data"
    }
   ],
   "source": [
    "aufgabe(blatt2_2b)"
   ]
  },
  {
   "cell_type": "markdown",
   "metadata": {},
   "source": [
    "---\n",
    "## Aufgabe 3: Linguistische Strukturbeschreibung"
   ]
  },
  {
   "cell_type": "markdown",
   "metadata": {},
   "source": [
    "---\n",
    "### Aufgabe 3 a:\n",
    "\n",
    "#### Welche Hierachie-Ebenen lassen sich in der Beschreibung des Aufbaus sprachlicher Strukturen unterscheiden?"
   ]
  },
  {
   "cell_type": "code",
   "execution_count": 8,
   "metadata": {
    "scrolled": false
   },
   "outputs": [
    {
     "data": {
      "application/vnd.jupyter.widget-view+json": {
       "model_id": "c2e3c6dbd0cb4ea193d048b8a9ef38db",
       "version_major": 2,
       "version_minor": 0
      },
      "text/plain": [
       "MultipleChoice(children=(HTML(value='<h4 style=\"font-size:14px;\">Was sind die 3 grundlegenden Beschreibungsebe…"
      ]
     },
     "metadata": {},
     "output_type": "display_data"
    }
   ],
   "source": [
    "aufgabe(blatt2_3a)"
   ]
  },
  {
   "cell_type": "markdown",
   "metadata": {},
   "source": [
    "---\n",
    "### Aufgabe 3 b:\n",
    "\n",
    "#### Wo liegt der Unterschied zwischen dem Wortbegriff einer natürlichen Sprache und dem Wortbegriff einer formalen Sprache?\n",
    "(Was sind die Blätter des Syntaxbaums einer Ableitung eines natürlichsprachlichen Satzes in einer die Sprache modellierenden formalen Grammatik?)"
   ]
  },
  {
   "cell_type": "code",
   "execution_count": 9,
   "metadata": {
    "scrolled": true
   },
   "outputs": [
    {
     "data": {
      "application/vnd.jupyter.widget-view+json": {
       "model_id": "65abefd47cb14316bb65d5cb2ad94455",
       "version_major": 2,
       "version_minor": 0
      },
      "text/plain": [
       "Lueckentext(children=(HTML(value='<i>Vervollständigen Sie den Lückentext: </i>', layout=Layout(justify_content…"
      ]
     },
     "metadata": {},
     "output_type": "display_data"
    }
   ],
   "source": [
    "aufgabe(blatt2_3b)"
   ]
  },
  {
   "cell_type": "markdown",
   "metadata": {},
   "source": [
    "---\n",
    "## Aufgabe 4: Darstellung syntaktischer Strukturen"
   ]
  },
  {
   "cell_type": "markdown",
   "metadata": {},
   "source": [
    "---\n",
    "### Aufgabe 4 a:\n",
    "\n",
    "#### Welche formalen Repräsentationen der syntaktischen Struktur eines natürlichsprachlichen Satzes haben Sie in der Vorlesung kennengelernt? Beantworten Sie dazu folgende Frage."
   ]
  },
  {
   "cell_type": "code",
   "execution_count": 10,
   "metadata": {
    "scrolled": false
   },
   "outputs": [
    {
     "data": {
      "application/vnd.jupyter.widget-view+json": {
       "model_id": "f957e010ac004584b6eae2efeb77ce80",
       "version_major": 2,
       "version_minor": 0
      },
      "text/plain": [
       "MultipleChoice(children=(HTML(value='<h4 style=\"font-size:14px;\">Welche Typen von Syntaxbäumen (auch: Parsebäu…"
      ]
     },
     "metadata": {},
     "output_type": "display_data"
    }
   ],
   "source": [
    "aufgabe(blatt2_4a)"
   ]
  },
  {
   "cell_type": "markdown",
   "metadata": {},
   "source": [
    "---\n",
    "### Aufgabe 4 b:\n",
    "\n",
    "#### Wie kann eine solche Struktur dargestellt werden? Beantworten Sie dazu folgende Fragen."
   ]
  },
  {
   "cell_type": "code",
   "execution_count": 11,
   "metadata": {},
   "outputs": [
    {
     "data": {
      "application/vnd.jupyter.widget-view+json": {
       "model_id": "9b1828e09b9a4e8dbea7356fd14f50f1",
       "version_major": 2,
       "version_minor": 0
      },
      "text/plain": [
       "SingleChoice(children=(HTML(value='<h4 style=\"font-size:14px;\">In welcher Form wird die syntaktische Struktur …"
      ]
     },
     "metadata": {},
     "output_type": "display_data"
    },
    {
     "data": {
      "application/vnd.jupyter.widget-view+json": {
       "model_id": "6b8f0cccd44b4963a92ad715439021ed",
       "version_major": 2,
       "version_minor": 0
      },
      "text/plain": [
       "SingleChoice(children=(HTML(value='<h4 style=\"font-size:14px;\">In welcher Form wird die syntaktische Struktur …"
      ]
     },
     "metadata": {},
     "output_type": "display_data"
    }
   ],
   "source": [
    "aufgabe(blatt2_4b)"
   ]
  },
  {
   "cell_type": "markdown",
   "metadata": {},
   "source": [
    "---\n",
    "### Aufgabe 4 c:\n",
    " \n",
    "#### Geben Sie zu folgendem Syntaxbaum den Klammerausdruck an (für den Fall, dass der Elefant den Pyjama trägt):"
   ]
  },
  {
   "cell_type": "code",
   "execution_count": 12,
   "metadata": {
    "scrolled": true
   },
   "outputs": [
    {
     "name": "stdout",
     "output_type": "stream",
     "text": [
      "         I-shot-an_elepha                                              \n",
      "         nt-in_my_pajamas                                              \n",
      " ┌──────────────┴─────────────────┐                                     \n",
      " │                        shot-an_elephant-                            \n",
      " │                          in_my_pajamas                              \n",
      " │   ┌────────────────────────────┴───────────────┐                     \n",
      " │   │                                       an_elephant-              \n",
      " │   │                                      in_my_pajamas              \n",
      " │   │                            ┌───────────────┴─────────────┐       \n",
      " I  shot                     an_elephant                  in_my_pajamas\n",
      "\n"
     ]
    }
   ],
   "source": [
    "from nltk import Tree\n",
    "tree = Tree.fromstring(blatt2_4c_tree)\n",
    "tree.pretty_print(unicodelines=True)"
   ]
  },
  {
   "cell_type": "code",
   "execution_count": 13,
   "metadata": {},
   "outputs": [
    {
     "name": "stdout",
     "output_type": "stream",
     "text": [
      "    ROOT                          \n",
      " ┌───┼────────┬────────────┐       \n",
      " I  shot an_elephant in_my_pajamas\n",
      "\n"
     ]
    }
   ],
   "source": [
    "tree = Tree.fromstring(\"\"\"\n",
    "(ROOT\n",
    "    I shot an_elephant in_my_pajamas\n",
    ")\n",
    "\"\"\")\n",
    "\n",
    "tree.pretty_print(unicodelines=True)"
   ]
  },
  {
   "cell_type": "markdown",
   "metadata": {},
   "source": [
    "---\n",
    "### Aufgabe 4 d:\n",
    "\n",
    "#### Geben Sie zu folgendem Klammerausdruck den Syntaxbaum an (wer trägt hier den Pyjama?)\n",
    "\n",
    "*[ [I] [ [ [shot] [an elephant] ] [in my pajamas] ] ]*\n",
    "\n",
    "#### Klammern Sie dazu einmal den Klammerausdruck aus 4c um, dann zerlegen Sie den Satz in seine Subkonstituenten."
   ]
  },
  {
   "cell_type": "code",
   "execution_count": 14,
   "metadata": {},
   "outputs": [
    {
     "name": "stdout",
     "output_type": "stream",
     "text": [
      "ROOT\n",
      " │   \n",
      "... \n",
      "\n"
     ]
    }
   ],
   "source": [
    "tree = Tree.fromstring(\"\"\"\n",
    "(ROOT\n",
    "  \n",
    ")  \n",
    "\"\"\")\n",
    "\n",
    "tree.pretty_print(unicodelines=True)"
   ]
  },
  {
   "cell_type": "code",
   "execution_count": 15,
   "metadata": {},
   "outputs": [
    {
     "name": "stdout",
     "output_type": "stream",
     "text": [
      "I-shot-an_elepha\n",
      "nt-in_my_pajamas\n",
      "       │         \n",
      "      ...       \n",
      "\n"
     ]
    }
   ],
   "source": [
    "# Zerlegung gemäß folgender Klammerung:\n",
    "# [ [I] [ [ [shot] [an elephant] ] [in my pajamas] ] ]\n",
    "\n",
    "tree = Tree.fromstring(\"\"\"\n",
    "(I-shot-an_elephant-in_my_pajamas\n",
    "   \n",
    ")\n",
    "\"\"\")\n",
    "\n",
    "tree.pretty_print(unicodelines=True)"
   ]
  },
  {
   "cell_type": "markdown",
   "metadata": {},
   "source": [
    "--- \n",
    "# Hausaufgaben"
   ]
  },
  {
   "cell_type": "markdown",
   "metadata": {},
   "source": [
    "---\n",
    "## Aufgabe 5: Ambiguität\n",
    "\n",
    "\n",
    "#### Sehen Sie sich die folgenden englischen Sätze an. Können Sie sich jeweils zwei unterschiedliche Interpretationen vorstellen?\n",
    "\n",
    "- *Fighting animals could be dangerous.*\n",
    "- *Visiting relatives can be tiresome.*\n"
   ]
  },
  {
   "cell_type": "code",
   "execution_count": 16,
   "metadata": {
    "scrolled": false
   },
   "outputs": [
    {
     "data": {
      "application/vnd.jupyter.widget-view+json": {
       "model_id": "ae72fda4a7174915a11a0d21bb7975c3",
       "version_major": 2,
       "version_minor": 0
      },
      "text/plain": [
       "SingleChoice(children=(HTML(value='<h4 style=\"font-size:14px;\">Was ist der Ursprung der Ambiguität?</h4>', lay…"
      ]
     },
     "metadata": {},
     "output_type": "display_data"
    },
    {
     "data": {
      "application/vnd.jupyter.widget-view+json": {
       "model_id": "a846524c6f3f48cb8bccf7a493dc454c",
       "version_major": 2,
       "version_minor": 0
      },
      "text/plain": [
       "MultipleChoice(children=(HTML(value='<h4 style=\"font-size:14px;\">In welcher Beziehung können Gerund und nachfo…"
      ]
     },
     "metadata": {},
     "output_type": "display_data"
    },
    {
     "data": {
      "application/vnd.jupyter.widget-view+json": {
       "model_id": "a9881a56d46f44ca8c8bcb2b82090876",
       "version_major": 2,
       "version_minor": 0
      },
      "text/plain": [
       "SingleChoice(children=(HTML(value='<h4 style=\"font-size:14px;\">Welche Funktion im Satz nimmt das Nomen ein, we…"
      ]
     },
     "metadata": {},
     "output_type": "display_data"
    },
    {
     "data": {
      "application/vnd.jupyter.widget-view+json": {
       "model_id": "991f24fd52614e49beba38343ad706a4",
       "version_major": 2,
       "version_minor": 0
      },
      "text/plain": [
       "SingleChoice(children=(HTML(value='<h4 style=\"font-size:14px;\">Welche Funktion innerhalb der Gerund-Nomen-Phra…"
      ]
     },
     "metadata": {},
     "output_type": "display_data"
    },
    {
     "data": {
      "application/vnd.jupyter.widget-view+json": {
       "model_id": "3151d25726b044658736b75b22f04a5d",
       "version_major": 2,
       "version_minor": 0
      },
      "text/plain": [
       "SingleChoice(children=(HTML(value='<h4 style=\"font-size:14px;\">Welche Funktion im Hauptsatz nimmt das Gerund e…"
      ]
     },
     "metadata": {},
     "output_type": "display_data"
    },
    {
     "data": {
      "application/vnd.jupyter.widget-view+json": {
       "model_id": "4149177b1314460d8d3d91439f4d2afe",
       "version_major": 2,
       "version_minor": 0
      },
      "text/plain": [
       "SingleChoice(children=(HTML(value='<h4 style=\"font-size:14px;\">Welche Funktion nimmt das Gerund ein, wenn das …"
      ]
     },
     "metadata": {},
     "output_type": "display_data"
    }
   ],
   "source": [
    "aufgabe(blatt2_5)"
   ]
  },
  {
   "cell_type": "markdown",
   "metadata": {},
   "source": [
    "---\n",
    "## Aufgabe 6: Fragen zu NLTK-Kapitel 8.1\n",
    "\n",
    "#### Lesen Sie das Vorwort von NLTK-Kapitel 8 sowie das Kapitel 8.1 (’Some Grammatical Dilemmas’):  http://www.nltk.org/book/ch08.html\n",
    "\n",
    "#### Beantworten sie insbesondere folgende Fragen: "
   ]
  },
  {
   "cell_type": "markdown",
   "metadata": {},
   "source": [
    "---\n",
    "### Aufgabe 6 a:\n"
   ]
  },
  {
   "cell_type": "code",
   "execution_count": 17,
   "metadata": {
    "scrolled": false
   },
   "outputs": [
    {
     "data": {
      "application/vnd.jupyter.widget-view+json": {
       "model_id": "c0b970a4df274fd6b95c7c48b696b57e",
       "version_major": 2,
       "version_minor": 0
      },
      "text/plain": [
       "MultipleChoice(children=(HTML(value='<h4 style=\"font-size:14px;\">Hinsichtlich welcher syntaktischen Grundprinz…"
      ]
     },
     "metadata": {},
     "output_type": "display_data"
    },
    {
     "data": {
      "application/vnd.jupyter.widget-view+json": {
       "model_id": "56b361b096f44438996feabd43d4e02a",
       "version_major": 2,
       "version_minor": 0
      },
      "text/plain": [
       "SingleChoice(children=(HTML(value='<h4 style=\"font-size:14px;\">Konstituenz ist synonym zu:</h4>', layout=Layou…"
      ]
     },
     "metadata": {},
     "output_type": "display_data"
    },
    {
     "data": {
      "application/vnd.jupyter.widget-view+json": {
       "model_id": "7f6374f7e6114ad2a8b0158fa37fec39",
       "version_major": 2,
       "version_minor": 0
      },
      "text/plain": [
       "SingleChoice(children=(HTML(value='<h4 style=\"font-size:14px;\">Dependenz ist synonym zu:</h4>', layout=Layout(…"
      ]
     },
     "metadata": {},
     "output_type": "display_data"
    }
   ],
   "source": [
    "aufgabe(blatt2_6a)"
   ]
  },
  {
   "cell_type": "markdown",
   "metadata": {},
   "source": [
    "---\n",
    "### Aufgabe 6 b:"
   ]
  },
  {
   "cell_type": "code",
   "execution_count": 18,
   "metadata": {
    "scrolled": false
   },
   "outputs": [
    {
     "data": {
      "application/vnd.jupyter.widget-view+json": {
       "model_id": "e1cba06aa0bd4504b90e270fe143d384",
       "version_major": 2,
       "version_minor": 0
      },
      "text/plain": [
       "SingleChoice(children=(HTML(value='<h4 style=\"font-size:14px;\">Welche Mittel kommen in einer formalen Syntaxan…"
      ]
     },
     "metadata": {},
     "output_type": "display_data"
    }
   ],
   "source": [
    "aufgabe(blatt2_6b)"
   ]
  },
  {
   "cell_type": "markdown",
   "metadata": {},
   "source": [
    "---\n",
    "### Aufgabe 6 c:\n",
    "\n",
    "#### Welche ja/nein-Entscheidung bzgl. des Satzes wird bei dieser Analyse unweigerlich getroffen?"
   ]
  },
  {
   "cell_type": "code",
   "execution_count": 19,
   "metadata": {
    "scrolled": false
   },
   "outputs": [
    {
     "data": {
      "application/vnd.jupyter.widget-view+json": {
       "model_id": "2278fdaee07541e0853a35ca3d8cba61",
       "version_major": 2,
       "version_minor": 0
      },
      "text/plain": [
       "MultipleChoice(children=(HTML(value='<h4 style=\"font-size:14px;\">Die ________ eines Satzes bzgl. der formalen …"
      ]
     },
     "metadata": {},
     "output_type": "display_data"
    }
   ],
   "source": [
    "aufgabe(blatt2_6c)"
   ]
  },
  {
   "cell_type": "markdown",
   "metadata": {},
   "source": [
    "---\n",
    "### Aufgabe 6 d:\n"
   ]
  },
  {
   "cell_type": "code",
   "execution_count": 20,
   "metadata": {
    "scrolled": false
   },
   "outputs": [
    {
     "data": {
      "application/vnd.jupyter.widget-view+json": {
       "model_id": "dbe3689e37cc4646bfe63beb8a1cf2eb",
       "version_major": 2,
       "version_minor": 0
      },
      "text/plain": [
       "MultipleChoice(children=(HTML(value='<h4 style=\"font-size:14px;\">Welche Vorteile hat die Modellierung der Satz…"
      ]
     },
     "metadata": {},
     "output_type": "display_data"
    }
   ],
   "source": [
    "aufgabe(blatt2_6d)"
   ]
  }
 ],
 "metadata": {
  "kernelspec": {
   "display_name": "Python 3",
   "language": "python",
   "name": "python3"
  },
  "language_info": {
   "codemirror_mode": {
    "name": "ipython",
    "version": 3
   },
   "file_extension": ".py",
   "mimetype": "text/x-python",
   "name": "python",
   "nbconvert_exporter": "python",
   "pygments_lexer": "ipython3",
   "version": "3.6.1"
  },
  "widgets": {
   "application/vnd.jupyter.widget-state+json": {
    "state": {
     "0030107ab01c4be8863768814c0a6e17": {
      "model_module": "@jupyter-widgets/base",
      "model_module_version": "1.0.0",
      "model_name": "LayoutModel",
      "state": {}
     },
     "00f2d9ec58f34a53925a6bfa98648f6c": {
      "model_module": "@jupyter-widgets/base",
      "model_module_version": "1.0.0",
      "model_name": "LayoutModel",
      "state": {}
     },
     "0165014b13034190bedca7ccc3a0f9d2": {
      "model_module": "@jupyter-widgets/base",
      "model_module_version": "1.0.0",
      "model_name": "LayoutModel",
      "state": {}
     },
     "024206632ce0409586cc55f59ac2b5ce": {
      "model_module": "@jupyter-widgets/controls",
      "model_module_version": "1.2.0",
      "model_name": "ButtonStyleModel",
      "state": {}
     },
     "02bfac78201044c5afe62773fef42122": {
      "model_module": "@jupyter-widgets/base",
      "model_module_version": "1.0.0",
      "model_name": "LayoutModel",
      "state": {
       "justify_content": "center"
      }
     },
     "030d33675c2f4ef8b65e4df50e5126bc": {
      "model_module": "@jupyter-widgets/base",
      "model_module_version": "1.0.0",
      "model_name": "LayoutModel",
      "state": {
       "width": "250px"
      }
     },
     "031881b4669c417d9334bde8be395dc5": {
      "model_module": "@jupyter-widgets/controls",
      "model_module_version": "1.2.0",
      "model_name": "ButtonModel",
      "state": {
       "description": "Keine der anderen Möglichkeiten",
       "layout": "IPY_MODEL_f4f9a57541d042de8e45911ef0b387dc",
       "style": "IPY_MODEL_30563dbb4e12412ea539cf5a99d23354"
      }
     },
     "0328daece4ab46e09c049fb8340aa1f2": {
      "model_module": "@jupyter-widgets/base",
      "model_module_version": "1.0.0",
      "model_name": "LayoutModel",
      "state": {}
     },
     "036b1880f182410680969af6169acca1": {
      "model_module": "@jupyter-widgets/base",
      "model_module_version": "1.0.0",
      "model_name": "LayoutModel",
      "state": {
       "width": "600px"
      }
     },
     "03af34b3901947c097f9226112e774bd": {
      "model_module": "@jupyter-widgets/controls",
      "model_module_version": "1.2.0",
      "model_name": "CheckboxModel",
      "state": {
       "description": "Grammatikalität",
       "disabled": false,
       "layout": "IPY_MODEL_3caf1dc80a994ca3bc3a60fea956f7b8",
       "style": "IPY_MODEL_24db33051467467593ac41c9a8313b15",
       "value": false
      }
     },
     "03d6e28a5b4442388fe930cd023496d5": {
      "model_module": "@jupyter-widgets/controls",
      "model_module_version": "1.2.0",
      "model_name": "CheckboxModel",
      "state": {
       "description": "Dependenzgraph mit gelabelten Kanten",
       "disabled": false,
       "layout": "IPY_MODEL_b89219406be54c7e957cacaf944fcbbe",
       "style": "IPY_MODEL_423c5792202c4b89b5af483f1f8d7655",
       "value": false
      }
     },
     "03e3dc2ceb6b480187ebae773c6c6f72": {
      "model_module": "@jupyter-widgets/base",
      "model_module_version": "1.0.0",
      "model_name": "LayoutModel",
      "state": {
       "width": "600px"
      }
     },
     "03ed9937e5b2428ca1d13fc7e833a965": {
      "model_module": "@jupyter-widgets/controls",
      "model_module_version": "1.2.0",
      "model_name": "ButtonModel",
      "state": {
       "description": "Baumdiagramm",
       "layout": "IPY_MODEL_1d9aab2162834b5badf3f7f3d0d90aec",
       "style": "IPY_MODEL_024206632ce0409586cc55f59ac2b5ce"
      }
     },
     "03fa83e67211451180874e7ada7f9b12": {
      "model_module": "@jupyter-widgets/controls",
      "model_module_version": "1.2.0",
      "model_name": "DescriptionStyleModel",
      "state": {
       "description_width": ""
      }
     },
     "04361920d50c43f4a65daa7b34f4804c": {
      "model_module": "@jupyter-widgets/base",
      "model_module_version": "1.0.0",
      "model_name": "LayoutModel",
      "state": {
       "width": "600px"
      }
     },
     "044c0128e894490c9ca99f339e3f059c": {
      "model_module": "@jupyter-widgets/base",
      "model_module_version": "1.0.0",
      "model_name": "LayoutModel",
      "state": {
       "width": "250px"
      }
     },
     "04a4dc13921e441fad6c3626b4c1256c": {
      "model_module": "@jupyter-widgets/controls",
      "model_module_version": "1.2.0",
      "model_name": "ButtonModel",
      "state": {
       "description": "Theorie der Sprachstruktur",
       "layout": "IPY_MODEL_b47170f5c39249e4ae9a38737398bc5d",
       "style": "IPY_MODEL_9c0979da5dc64d489c24a15dec4564e2"
      }
     },
     "052de710f01d4f53a8bbe5ff0f786857": {
      "model_module": "@jupyter-widgets/controls",
      "model_module_version": "1.2.0",
      "model_name": "HBoxModel",
      "state": {
       "children": [
        "IPY_MODEL_cfd2ca36b6e848cc884f5d9d6c904d63"
       ],
       "layout": "IPY_MODEL_f79741bdc625471e887744d11132c4fe"
      }
     },
     "06293b88cc964079b99de91d737bbabf": {
      "model_module": "@jupyter-widgets/base",
      "model_module_version": "1.0.0",
      "model_name": "LayoutModel",
      "state": {
       "justify_content": "center"
      }
     },
     "064deb39b2ca4ed38aeb422c8671f798": {
      "model_module": "@jupyter-widgets/base",
      "model_module_version": "1.0.0",
      "model_name": "LayoutModel",
      "state": {
       "width": "250px"
      }
     },
     "0752b1215b434b97911f2dab0e99e409": {
      "model_module": "@jupyter-widgets/controls",
      "model_module_version": "1.2.0",
      "model_name": "HBoxModel",
      "state": {
       "children": [
        "IPY_MODEL_a35da3f2d1bb44f398e9b4837aa2fb90"
       ],
       "layout": "IPY_MODEL_0328daece4ab46e09c049fb8340aa1f2"
      }
     },
     "07e151eccd114c3a9ce4a41f044c3eb2": {
      "model_module": "@jupyter-widgets/base",
      "model_module_version": "1.0.0",
      "model_name": "LayoutModel",
      "state": {
       "width": "150px"
      }
     },
     "07e19c0162fa4d8f8246cd0553c13f4b": {
      "model_module": "@jupyter-widgets/controls",
      "model_module_version": "1.2.0",
      "model_name": "ButtonStyleModel",
      "state": {}
     },
     "0859d4bc02a84e5c8ee91efdafd7b980": {
      "model_module": "@jupyter-widgets/base",
      "model_module_version": "1.0.0",
      "model_name": "LayoutModel",
      "state": {
       "align_content": "stretch",
       "align_items": "stretch",
       "display": "inline-flex",
       "flex": "flex-grow",
       "flex_flow": "row wrap",
       "justify_content": "flex-start"
      }
     },
     "087b8940cdef4e2394fc5cc29f54fc5d": {
      "model_module": "@jupyter-widgets/controls",
      "model_module_version": "1.2.0",
      "model_name": "ButtonModel",
      "state": {
       "description": "formale Grammatik",
       "layout": "IPY_MODEL_40bc543c5ed048d0aafe813f861d639c",
       "style": "IPY_MODEL_7396727a0ade4da7a722befb932c3bcb"
      }
     },
     "0896ffc714784c9a98ef9d7adeb8b871": {
      "model_module": "@jupyter-widgets/base",
      "model_module_version": "1.0.0",
      "model_name": "LayoutModel",
      "state": {}
     },
     "08cd58b66ec1431682fafef78ce78b9c": {
      "model_module": "@jupyter-widgets/base",
      "model_module_version": "1.0.0",
      "model_name": "LayoutModel",
      "state": {
       "width": "250px"
      }
     },
     "093a55e8d2b24571b9929b29dcd4c8d8": {
      "model_module": "@jupyter-widgets/controls",
      "model_module_version": "1.2.0",
      "model_name": "CheckboxModel",
      "state": {
       "description": "Eine endliche Menge an Sätzen kann mit unendlichen Mitteln beschrieben werden.",
       "disabled": false,
       "layout": "IPY_MODEL_3a4f1fa70c70465899722132328f0276",
       "style": "IPY_MODEL_c08ff3ffdc6e4322a73bdccf944ce709",
       "value": false
      }
     },
     "094b368f9a424ad1aa9277fb045ee84c": {
      "model_module": "@jupyter-widgets/controls",
      "model_module_version": "1.2.0",
      "model_name": "CheckboxModel",
      "state": {
       "description": "Subjekt-Nominalphrase",
       "disabled": false,
       "layout": "IPY_MODEL_0974b75dc2d141cfb739739b57a62c49",
       "style": "IPY_MODEL_4c8ae3c45fb64f7dace09bec2bb9fdf9",
       "value": false
      }
     },
     "0954224ed07241ca86a25e7e2ffe4606": {
      "model_module": "@jupyter-widgets/base",
      "model_module_version": "1.0.0",
      "model_name": "LayoutModel",
      "state": {
       "width": "250px"
      }
     },
     "09597c60e3214a62a77b4e7f981c0e66": {
      "model_module": "@jupyter-widgets/base",
      "model_module_version": "1.0.0",
      "model_name": "LayoutModel",
      "state": {}
     },
     "0974b75dc2d141cfb739739b57a62c49": {
      "model_module": "@jupyter-widgets/base",
      "model_module_version": "1.0.0",
      "model_name": "LayoutModel",
      "state": {
       "width": "600px"
      }
     },
     "09939960c6384d30a107724d6faac723": {
      "model_module": "@jupyter-widgets/base",
      "model_module_version": "1.0.0",
      "model_name": "LayoutModel",
      "state": {}
     },
     "09b943243bf4489f8821c9e752fc29f6": {
      "model_module": "@jupyter-widgets/base",
      "model_module_version": "1.0.0",
      "model_name": "LayoutModel",
      "state": {
       "width": "250px"
      }
     },
     "0a0199ef1d094cfeb65fbc2478b78afc": {
      "model_module": "@jupyter-widgets/controls",
      "model_module_version": "1.2.0",
      "model_name": "HBoxModel",
      "state": {
       "children": [
        "IPY_MODEL_61f6a73318f04a488531bf9b1eba9308",
        "IPY_MODEL_348396b986c74b299f6a643a88e07784"
       ],
       "layout": "IPY_MODEL_69683bda11cf4a6d905631d8e7f12c25"
      }
     },
     "0adce13d0b6b4923bbe4aca3407df13e": {
      "model_module": "@jupyter-widgets/controls",
      "model_module_version": "1.2.0",
      "model_name": "ButtonStyleModel",
      "state": {}
     },
     "0b57ab2f87ef4a739ce1323949055ce3": {
      "model_module": "@jupyter-widgets/controls",
      "model_module_version": "1.2.0",
      "model_name": "HBoxModel",
      "state": {
       "children": [
        "IPY_MODEL_d815aa20b74e4c1aaee2f4008c15de1a",
        "IPY_MODEL_e88f5192896d4091b80b5f1a3012cd60"
       ],
       "layout": "IPY_MODEL_884931a0754047529ed0ba8e5ce051e9"
      }
     },
     "0b871796432846bbb41566e5178dbd94": {
      "model_module": "@jupyter-widgets/base",
      "model_module_version": "1.0.0",
      "model_name": "LayoutModel",
      "state": {}
     },
     "0c44c3c18e8a4e6381724c557ba3f153": {
      "model_module": "@jupyter-widgets/base",
      "model_module_version": "1.0.0",
      "model_name": "LayoutModel",
      "state": {}
     },
     "0c6e6186300149acaedc887320148500": {
      "model_module": "@jupyter-widgets/base",
      "model_module_version": "1.0.0",
      "model_name": "LayoutModel",
      "state": {
       "width": "250px"
      }
     },
     "0c716be79e0c48efac1ef1ba6a822b34": {
      "model_module": "@jupyter-widgets/controls",
      "model_module_version": "1.2.0",
      "model_name": "ButtonStyleModel",
      "state": {}
     },
     "0cc8d70c7a224fb08817d6828cc1dfca": {
      "model_module": "@jupyter-widgets/controls",
      "model_module_version": "1.2.0",
      "model_name": "HTMLModel",
      "state": {
       "layout": "IPY_MODEL_6d6ba62315024bb696412a9103e049b0",
       "style": "IPY_MODEL_303d77bba09a4d64b78025a633787ba5",
       "value": "<i>Wählen Sie die <ins>eine</ins> korrekte Antwort aus: </i>"
      }
     },
     "0d320b548a3d4918b3573218ed594fb3": {
      "model_module": "@jupyter-widgets/controls",
      "model_module_version": "1.2.0",
      "model_name": "DropdownModel",
      "state": {
       "_options_labels": [
        "Keine der Alternativen",
        "der Ort des Geschehens wird festgelegt",
        "die PP wird dem Substantiv beigefügt",
        "die im Verb ausgedrückte Tätigkeit wird modifiziert"
       ],
       "description": "Antwort:",
       "index": 0,
       "layout": "IPY_MODEL_c413e1068d214d909c3f2c15644531af",
       "style": "IPY_MODEL_a110a5d07b3542deb276f89f66086b0d"
      }
     },
     "0de29de0dac24d859a345b069e5167c1": {
      "model_module": "@jupyter-widgets/controls",
      "model_module_version": "1.2.0",
      "model_name": "DescriptionStyleModel",
      "state": {
       "description_width": "initial"
      }
     },
     "0e5077e8e48b45e7be33825304e143dd": {
      "model_module": "@jupyter-widgets/base",
      "model_module_version": "1.0.0",
      "model_name": "LayoutModel",
      "state": {
       "width": "250px"
      }
     },
     "0e792efaefff403580f7dfe1ac1c6d1f": {
      "model_module": "@jupyter-widgets/controls",
      "model_module_version": "1.2.0",
      "model_name": "VBoxModel",
      "state": {
       "children": [
        "IPY_MODEL_dc81135139e649cc8a1ac6dbea6821ed",
        "IPY_MODEL_9048213b56814cbab97cc8d5fc63cae1",
        "IPY_MODEL_2e5e718afd244e00ac00b58ebf29fb70",
        "IPY_MODEL_99df5335ea254f7da18ecc51bb9c643b",
        "IPY_MODEL_16a82d5fabca4086be5fa756cc194447"
       ],
       "layout": "IPY_MODEL_00f2d9ec58f34a53925a6bfa98648f6c"
      }
     },
     "0edcafe6349b4fa689ffad37471040bf": {
      "model_module": "@jupyter-widgets/controls",
      "model_module_version": "1.2.0",
      "model_name": "ButtonModel",
      "state": {
       "description": "Regelsystem",
       "layout": "IPY_MODEL_08cd58b66ec1431682fafef78ce78b9c",
       "style": "IPY_MODEL_9cc60a18e9f04651b615f7544c31aef8"
      }
     },
     "0f5cec589dbc4ee39cdc645cdd34591d": {
      "model_module": "@jupyter-widgets/controls",
      "model_module_version": "1.2.0",
      "model_name": "CheckboxModel",
      "state": {
       "description": "Synonymie",
       "disabled": false,
       "layout": "IPY_MODEL_3c57f42030314eacaa7bed0d3f8ee9a2",
       "style": "IPY_MODEL_c6e73dec58f8462a857e8a1572849ef1",
       "value": false
      }
     },
     "0fc0b331593c409296fbad8116e79d2e": {
      "model_module": "@jupyter-widgets/base",
      "model_module_version": "1.0.0",
      "model_name": "LayoutModel",
      "state": {
       "width": "250px"
      }
     },
     "0fff01bbc129409cae8f97fda824fded": {
      "model_module": "@jupyter-widgets/controls",
      "model_module_version": "1.2.0",
      "model_name": "DescriptionStyleModel",
      "state": {
       "description_width": ""
      }
     },
     "100f12f64c534b4fbf9da2f23cdfad68": {
      "model_module": "@jupyter-widgets/base",
      "model_module_version": "1.0.0",
      "model_name": "LayoutModel",
      "state": {
       "justify_content": "center"
      }
     },
     "10fbc6a607e44084b5feb03f528df76f": {
      "model_module": "@jupyter-widgets/base",
      "model_module_version": "1.0.0",
      "model_name": "LayoutModel",
      "state": {
       "width": "600px"
      }
     },
     "11589d5f8dc547e481f3f7b362071182": {
      "model_module": "@jupyter-widgets/base",
      "model_module_version": "1.0.0",
      "model_name": "LayoutModel",
      "state": {}
     },
     "11793233a2d24cde98af1197f7015519": {
      "model_module": "@jupyter-widgets/controls",
      "model_module_version": "1.2.0",
      "model_name": "VBoxModel",
      "state": {
       "children": [
        "IPY_MODEL_96637b497a9c4de2a79aaaf6410fe88f",
        "IPY_MODEL_56b1acb5d9204e289660973d1bccb2be",
        "IPY_MODEL_a56ae62170b6473e8c5c05eae9ad6cec",
        "IPY_MODEL_3308505b8daa45aaad8b3760cfc3bade",
        "IPY_MODEL_2ff601b42ed04406a1034c04be23d350"
       ],
       "layout": "IPY_MODEL_c9a8ff4754fa4a9cb88bd72fc98f398a"
      }
     },
     "12371d249e0743e9b15d628536c1928f": {
      "model_module": "@jupyter-widgets/base",
      "model_module_version": "1.0.0",
      "model_name": "LayoutModel",
      "state": {
       "justify_content": "center"
      }
     },
     "12b6c39b4b9547cb885d3a74a6c6b61b": {
      "model_module": "@jupyter-widgets/base",
      "model_module_version": "1.0.0",
      "model_name": "LayoutModel",
      "state": {
       "width": "250px"
      }
     },
     "14b64ca1b3b34bac9c481813647bd8f7": {
      "model_module": "@jupyter-widgets/base",
      "model_module_version": "1.0.0",
      "model_name": "LayoutModel",
      "state": {
       "width": "600px"
      }
     },
     "156104cf05354db69e248fc5a422ae72": {
      "model_module": "@jupyter-widgets/base",
      "model_module_version": "1.0.0",
      "model_name": "LayoutModel",
      "state": {
       "width": "250px"
      }
     },
     "164fc2911eec466db2ac580a252ceb7f": {
      "model_module": "@jupyter-widgets/controls",
      "model_module_version": "1.2.0",
      "model_name": "DescriptionStyleModel",
      "state": {
       "description_width": ""
      }
     },
     "16a82d5fabca4086be5fa756cc194447": {
      "model_module": "@jupyter-widgets/controls",
      "model_module_version": "1.2.0",
      "model_name": "HBoxModel",
      "state": {
       "children": [
        "IPY_MODEL_65e96d9c4f124223a9c04c19d4afc470"
       ],
       "layout": "IPY_MODEL_f71526a08516428887e90d0611fa4900"
      }
     },
     "17208453dcb140499fd67fd7ec27aea1": {
      "model_module": "@jupyter-widgets/base",
      "model_module_version": "1.0.0",
      "model_name": "LayoutModel",
      "state": {
       "width": "600px"
      }
     },
     "17845f17f61e4cfa92ec4dec2ccb3265": {
      "model_module": "@jupyter-widgets/controls",
      "model_module_version": "1.2.0",
      "model_name": "ButtonModel",
      "state": {
       "description": "Objekt",
       "layout": "IPY_MODEL_37e465d476244dbea360227f351f0d32",
       "style": "IPY_MODEL_be910d55b3eb483e898750b0eb7f489e"
      }
     },
     "1792e57e76514cb6b8ee97881fd020bc": {
      "model_module": "@jupyter-widgets/controls",
      "model_module_version": "1.2.0",
      "model_name": "DescriptionStyleModel",
      "state": {
       "description_width": ""
      }
     },
     "184cd409003b44c3a4f2ab7d395be7c7": {
      "model_module": "@jupyter-widgets/controls",
      "model_module_version": "1.2.0",
      "model_name": "DescriptionStyleModel",
      "state": {
       "description_width": ""
      }
     },
     "18a1aa24440b4e76aa70313d6325ee75": {
      "model_module": "@jupyter-widgets/controls",
      "model_module_version": "1.2.0",
      "model_name": "DescriptionStyleModel",
      "state": {
       "description_width": ""
      }
     },
     "193e68886ab542c48132e0e793bf2c55": {
      "model_module": "@jupyter-widgets/controls",
      "model_module_version": "1.2.0",
      "model_name": "DescriptionStyleModel",
      "state": {
       "description_width": ""
      }
     },
     "1a51bf8fe1a2417f888a27193a1ff1f6": {
      "model_module": "@jupyter-widgets/base",
      "model_module_version": "1.0.0",
      "model_name": "LayoutModel",
      "state": {
       "justify_content": "center"
      }
     },
     "1ab86241217249208cb9669b0f8a8b3e": {
      "model_module": "@jupyter-widgets/base",
      "model_module_version": "1.0.0",
      "model_name": "LayoutModel",
      "state": {
       "width": "600px"
      }
     },
     "1af3d209fb6e4d9eaa315db29e1a7d27": {
      "model_module": "@jupyter-widgets/controls",
      "model_module_version": "1.2.0",
      "model_name": "ButtonStyleModel",
      "state": {}
     },
     "1b25b7ad796748ac8895f4db250895bf": {
      "model_module": "@jupyter-widgets/controls",
      "model_module_version": "1.2.0",
      "model_name": "CheckboxModel",
      "state": {
       "description": "Nomen ist Dependent in einem nichtfiniten Teilsatz",
       "disabled": false,
       "layout": "IPY_MODEL_5f58d0395c8a41f59b0bf9db44e9efca",
       "style": "IPY_MODEL_5d4495f0a16943789f8a448f8876b886",
       "value": false
      }
     },
     "1c26bf946f2045bf8b74365c847d6f69": {
      "model_module": "@jupyter-widgets/controls",
      "model_module_version": "1.2.0",
      "model_name": "DescriptionStyleModel",
      "state": {
       "description_width": ""
      }
     },
     "1d6851589eff47f2bbfeb6cfb8e103f1": {
      "model_module": "@jupyter-widgets/controls",
      "model_module_version": "1.2.0",
      "model_name": "HTMLModel",
      "state": {
       "layout": "IPY_MODEL_d66e44504ca844abaacbaba54f735f95",
       "style": "IPY_MODEL_f56f652c2809437d89567f1d3f50e750",
       "value": "<i>Wählen Sie die <ins>eine</ins> korrekte Antwort aus: </i>"
      }
     },
     "1d7443402cc94001b7553e18bd02d874": {
      "model_module": "@jupyter-widgets/base",
      "model_module_version": "1.0.0",
      "model_name": "LayoutModel",
      "state": {
       "width": "600px"
      }
     },
     "1d9aab2162834b5badf3f7f3d0d90aec": {
      "model_module": "@jupyter-widgets/base",
      "model_module_version": "1.0.0",
      "model_name": "LayoutModel",
      "state": {
       "width": "250px"
      }
     },
     "1da591de77cc4fb7bf99a403e1c0f9e5": {
      "model_module": "@jupyter-widgets/base",
      "model_module_version": "1.0.0",
      "model_name": "LayoutModel",
      "state": {}
     },
     "1e41a40236884894992d4aa226763d51": {
      "model_module": "@jupyter-widgets/base",
      "model_module_version": "1.0.0",
      "model_name": "LayoutModel",
      "state": {
       "width": "250px"
      }
     },
     "1ed83782254f4585b89b666fab5864c3": {
      "model_module": "@jupyter-widgets/base",
      "model_module_version": "1.0.0",
      "model_name": "LayoutModel",
      "state": {
       "width": "150px"
      }
     },
     "1ef52a289df74ead937dbf760000dd68": {
      "model_module": "@jupyter-widgets/base",
      "model_module_version": "1.0.0",
      "model_name": "LayoutModel",
      "state": {
       "width": "600px"
      }
     },
     "1f19a1be716a40348a4a3fe8f1433ddf": {
      "model_module": "@jupyter-widgets/controls",
      "model_module_version": "1.2.0",
      "model_name": "HTMLModel",
      "state": {
       "layout": "IPY_MODEL_8aed12741d144b889d2b52f29ea4d349",
       "style": "IPY_MODEL_c4113f6d534f424681f4b9f367858f1e",
       "value": "<h4 style=\"font-size:14px;\">Welche Funktion im Hauptsatz nimmt das Gerund ein, wenn es Kopf der Gerund-Nomen-Phrase ist?</h4>"
      }
     },
     "1f1de2277f114adeb31acc9215fc6105": {
      "model_module": "@jupyter-widgets/controls",
      "model_module_version": "1.2.0",
      "model_name": "ButtonModel",
      "state": {
       "description": "Wissen um Sprachstruktur",
       "layout": "IPY_MODEL_2abdf3adc6f545f3bbfcb4c96e318ce8",
       "style": "IPY_MODEL_86faf294133e482da145bf2b1745e41d"
      }
     },
     "1f5cf4d7955e439a8d0107d0b9614cad": {
      "model_module": "@jupyter-widgets/controls",
      "model_module_version": "1.2.0",
      "model_name": "VBoxModel",
      "state": {
       "children": [
        "IPY_MODEL_c3e74535ee5444878df9af2c253d92b0",
        "IPY_MODEL_982b2f74e63b4cfaa2a811e577f775b8",
        "IPY_MODEL_bd73b6d41eca4caf81776ec4dd655b09"
       ],
       "layout": "IPY_MODEL_0b871796432846bbb41566e5178dbd94"
      }
     },
     "20408a28d3a94b18aaf96e0abbdab255": {
      "model_module": "@jupyter-widgets/controls",
      "model_module_version": "1.2.0",
      "model_name": "HBoxModel",
      "state": {
       "children": [
        "IPY_MODEL_b099cf1e8525451b96883aeaf569d177",
        "IPY_MODEL_4b3348fc5e8847c4b001522c4a23e3bd"
       ],
       "layout": "IPY_MODEL_671db31331584754a1a8a9fbb4aefc6f"
      }
     },
     "209b25031e8f4e37a9706b090555c03e": {
      "model_module": "@jupyter-widgets/base",
      "model_module_version": "1.0.0",
      "model_name": "LayoutModel",
      "state": {}
     },
     "2276712b763e48d797d15fb39d2232a8": {
      "model_module": "@jupyter-widgets/base",
      "model_module_version": "1.0.0",
      "model_name": "LayoutModel",
      "state": {
       "width": "250px"
      }
     },
     "2278fdaee07541e0853a35ca3d8cba61": {
      "model_module": "@jupyter-widgets/controls",
      "model_module_version": "1.2.0",
      "model_name": "VBoxModel",
      "state": {
       "children": [
        "IPY_MODEL_5b08c2f658b843ca9d06f39ba4527054",
        "IPY_MODEL_726b0d64b8ab4b9496b991e1feb5f619",
        "IPY_MODEL_e9d1c1bdc99b4ef881f435133eac69a3",
        "IPY_MODEL_ba2799ce05e747d888fed4c05a951823"
       ],
       "layout": "IPY_MODEL_470fef02a2dc444cb290de2af09c0a8b"
      }
     },
     "22ba6c4999c1409da6c6b88aa8819314": {
      "model_module": "@jupyter-widgets/base",
      "model_module_version": "1.0.0",
      "model_name": "LayoutModel",
      "state": {
       "justify_content": "center"
      }
     },
     "22d8fe0bf83344b88a20d257f09d2d97": {
      "model_module": "@jupyter-widgets/controls",
      "model_module_version": "1.2.0",
      "model_name": "ButtonModel",
      "state": {
       "description": "Regelbuch",
       "layout": "IPY_MODEL_7592c7952e3a4f728aa8b66378bde2be",
       "style": "IPY_MODEL_444de02e115d4173a2df001d9076d588"
      }
     },
     "22e0be353f654e2193bd57dec46dc9b2": {
      "model_module": "@jupyter-widgets/controls",
      "model_module_version": "1.2.0",
      "model_name": "DescriptionStyleModel",
      "state": {
       "description_width": ""
      }
     },
     "241f34c282724523818c2f9ac9f93c8e": {
      "model_module": "@jupyter-widgets/controls",
      "model_module_version": "1.2.0",
      "model_name": "DescriptionStyleModel",
      "state": {
       "description_width": ""
      }
     },
     "2479f8ab96ab4c6daa408ee85566c757": {
      "model_module": "@jupyter-widgets/base",
      "model_module_version": "1.0.0",
      "model_name": "LayoutModel",
      "state": {
       "justify_content": "center"
      }
     },
     "24db33051467467593ac41c9a8313b15": {
      "model_module": "@jupyter-widgets/controls",
      "model_module_version": "1.2.0",
      "model_name": "DescriptionStyleModel",
      "state": {
       "description_width": "initial"
      }
     },
     "2546fe2a30dc46f5b29fdc2c8039a595": {
      "model_module": "@jupyter-widgets/base",
      "model_module_version": "1.0.0",
      "model_name": "LayoutModel",
      "state": {
       "justify_content": "center"
      }
     },
     "25a62ffff6bb4eaa9cc4e82aacc64963": {
      "model_module": "@jupyter-widgets/controls",
      "model_module_version": "1.2.0",
      "model_name": "DescriptionStyleModel",
      "state": {
       "description_width": ""
      }
     },
     "26e86e8ce64e434c90066cf455c40cdf": {
      "model_module": "@jupyter-widgets/controls",
      "model_module_version": "1.2.0",
      "model_name": "HTMLModel",
      "state": {
       "layout": "IPY_MODEL_8090f6538a1745439db3d227f9b8911b",
       "style": "IPY_MODEL_75083c11ac4b4c5e825204a18f382f2d",
       "value": "<i>Wählen Sie die <ins>eine</ins> korrekte Antwort aus: </i>"
      }
     },
     "26eeb7ed9c964f8299516264dbb1731e": {
      "model_module": "@jupyter-widgets/controls",
      "model_module_version": "1.2.0",
      "model_name": "ButtonStyleModel",
      "state": {}
     },
     "274649bfcbfc4061b0973081c327dfe7": {
      "model_module": "@jupyter-widgets/controls",
      "model_module_version": "1.2.0",
      "model_name": "VBoxModel",
      "state": {
       "children": [
        "IPY_MODEL_d376de5957504db3a473daa644394496",
        "IPY_MODEL_862dfe53b7b14849930bc56aab3d51e1",
        "IPY_MODEL_2d313140d03e4fe6b391c2ea09cbec5b",
        "IPY_MODEL_f5ccea2227184321a9fecbe0d05388cc",
        "IPY_MODEL_a7b9155f55254cde9ad1f4a5507ad8bd"
       ],
       "layout": "IPY_MODEL_936e1fcb1827421b9f228edd23d07907"
      }
     },
     "279115e0a3a647c482b376853081fa15": {
      "model_module": "@jupyter-widgets/controls",
      "model_module_version": "1.2.0",
      "model_name": "CheckboxModel",
      "state": {
       "description": "Objekt-Nominalphrase",
       "disabled": false,
       "layout": "IPY_MODEL_8a47a1dbd95f4038b8dbc6e9c6e1ee9a",
       "style": "IPY_MODEL_8d82e03e93814983bae71b186aa8edc1",
       "value": false
      }
     },
     "28b36cfedd2746f49cc1d85b30a4da59": {
      "model_module": "@jupyter-widgets/controls",
      "model_module_version": "1.2.0",
      "model_name": "ButtonStyleModel",
      "state": {}
     },
     "29266c7f61b24e9f8a0383280bfe1c21": {
      "model_module": "@jupyter-widgets/controls",
      "model_module_version": "1.2.0",
      "model_name": "DescriptionStyleModel",
      "state": {
       "description_width": ""
      }
     },
     "29b268c2eede4510a8223cbcced0592a": {
      "model_module": "@jupyter-widgets/base",
      "model_module_version": "1.0.0",
      "model_name": "LayoutModel",
      "state": {}
     },
     "29c30ec5a9fa43a7947e07240251f19b": {
      "model_module": "@jupyter-widgets/base",
      "model_module_version": "1.0.0",
      "model_name": "LayoutModel",
      "state": {}
     },
     "2a742555ba6d4208af76ab8822968f90": {
      "model_module": "@jupyter-widgets/controls",
      "model_module_version": "1.2.0",
      "model_name": "ButtonModel",
      "state": {
       "description": "Attribut",
       "layout": "IPY_MODEL_0fc0b331593c409296fbad8116e79d2e",
       "style": "IPY_MODEL_a0e1115fb8884e1d9db73be04bb90615"
      }
     },
     "2abdf3adc6f545f3bbfcb4c96e318ce8": {
      "model_module": "@jupyter-widgets/base",
      "model_module_version": "1.0.0",
      "model_name": "LayoutModel",
      "state": {
       "width": "250px"
      }
     },
     "2ae5af58844649de88f6383ccc5389ed": {
      "model_module": "@jupyter-widgets/base",
      "model_module_version": "1.0.0",
      "model_name": "LayoutModel",
      "state": {
       "width": "600px"
      }
     },
     "2af8a1eea77d451bafd306509fa08a1b": {
      "model_module": "@jupyter-widgets/controls",
      "model_module_version": "1.2.0",
      "model_name": "ButtonModel",
      "state": {
       "description": "lexikalische Ambiguität",
       "layout": "IPY_MODEL_ba3471e7319c4988b91092455a229ef0",
       "style": "IPY_MODEL_e28f63be36b3424792ebff03ecbb9ef7"
      }
     },
     "2b59a963fa2c4c39b095c1142a386f93": {
      "model_module": "@jupyter-widgets/controls",
      "model_module_version": "1.2.0",
      "model_name": "DescriptionStyleModel",
      "state": {
       "description_width": "initial"
      }
     },
     "2b9af090d61d4ab6a2ed9a53d76592b4": {
      "model_module": "@jupyter-widgets/base",
      "model_module_version": "1.0.0",
      "model_name": "LayoutModel",
      "state": {}
     },
     "2bd5d27aa54d4a329be24fe67f96d0b2": {
      "model_module": "@jupyter-widgets/base",
      "model_module_version": "1.0.0",
      "model_name": "LayoutModel",
      "state": {
       "width": "250px"
      }
     },
     "2bd9a6efaf9a42ddbcf14e3338d9ed43": {
      "model_module": "@jupyter-widgets/controls",
      "model_module_version": "1.2.0",
      "model_name": "ButtonModel",
      "state": {
       "description": "Korrekt?",
       "layout": "IPY_MODEL_a09bdcb16bf1464994a208149d6900f1",
       "style": "IPY_MODEL_e7f64840ebfa4cc88a07369c7cc5e8f1"
      }
     },
     "2c214c8c02fc45fb985f6c8c9066e7fc": {
      "model_module": "@jupyter-widgets/controls",
      "model_module_version": "1.2.0",
      "model_name": "DescriptionStyleModel",
      "state": {
       "description_width": ""
      }
     },
     "2c594576b9804c4a9a4a4d4ce8e2f7a0": {
      "model_module": "@jupyter-widgets/base",
      "model_module_version": "1.0.0",
      "model_name": "LayoutModel",
      "state": {}
     },
     "2d313140d03e4fe6b391c2ea09cbec5b": {
      "model_module": "@jupyter-widgets/controls",
      "model_module_version": "1.2.0",
      "model_name": "HBoxModel",
      "state": {
       "children": [
        "IPY_MODEL_8ee205b069654536a87e69aae7db01f9",
        "IPY_MODEL_d734668fcb37465bbf44a0c148618cd7"
       ],
       "layout": "IPY_MODEL_b4832569d7f74c329bb9411da9569f9d"
      }
     },
     "2d84f3a609d94fb78439c87edf79f5dd": {
      "model_module": "@jupyter-widgets/controls",
      "model_module_version": "1.2.0",
      "model_name": "HTMLModel",
      "state": {
       "layout": "IPY_MODEL_e0074f6531834f2284758f30714b5866",
       "style": "IPY_MODEL_2c214c8c02fc45fb985f6c8c9066e7fc",
       "value": "<h4 style=\"font-size:14px;\">der formalen Sprache; ein analysierter natürlichsprachlicher Satz ist ein in der formalen Grammatik ableitbares</h4>"
      }
     },
     "2e3902db037148f6bef53b07c132c9e9": {
      "model_module": "@jupyter-widgets/controls",
      "model_module_version": "1.2.0",
      "model_name": "HTMLModel",
      "state": {
       "layout": "IPY_MODEL_86cfcdf5859e4afbb665ab83594c2caa",
       "style": "IPY_MODEL_7dc364615896469f9adfceb1f2c9ca26",
       "value": "<i>Wählen Sie die <ins>eine</ins> korrekte Antwort aus: </i>"
      }
     },
     "2e5e718afd244e00ac00b58ebf29fb70": {
      "model_module": "@jupyter-widgets/controls",
      "model_module_version": "1.2.0",
      "model_name": "HBoxModel",
      "state": {
       "children": [
        "IPY_MODEL_22d8fe0bf83344b88a20d257f09d2d97",
        "IPY_MODEL_6a70b132c1fd4beea958516130f3e8a3"
       ],
       "layout": "IPY_MODEL_d02dbe58480d401f933975d4d6f7dca9"
      }
     },
     "2eea8dde76784eec95e6b0a0b4afa841": {
      "model_module": "@jupyter-widgets/controls",
      "model_module_version": "1.2.0",
      "model_name": "VBoxModel",
      "state": {
       "children": [
        "IPY_MODEL_da93f9d1851d4184b6b73340988c17df",
        "IPY_MODEL_bca2a101f1bd4069bd094d102a729c99",
        "IPY_MODEL_39bfc69da4c94434b9302b04338712ca",
        "IPY_MODEL_c38220c06b944538a8abdcb86b684e81"
       ],
       "layout": "IPY_MODEL_29c30ec5a9fa43a7947e07240251f19b"
      }
     },
     "2f2d5dcb5e8740988631292538836085": {
      "model_module": "@jupyter-widgets/base",
      "model_module_version": "1.0.0",
      "model_name": "LayoutModel",
      "state": {
       "width": "150px"
      }
     },
     "2ff601b42ed04406a1034c04be23d350": {
      "model_module": "@jupyter-widgets/controls",
      "model_module_version": "1.2.0",
      "model_name": "HBoxModel",
      "state": {
       "children": [
        "IPY_MODEL_087b8940cdef4e2394fc5cc29f54fc5d"
       ],
       "layout": "IPY_MODEL_57bc35d8b8ac4264933c4d405438e936"
      }
     },
     "3017ab203cf74334b8e4e83be6762e8c": {
      "model_module": "@jupyter-widgets/controls",
      "model_module_version": "1.2.0",
      "model_name": "CheckboxModel",
      "state": {
       "description": "Konstituentenbaum mit Phrasenlabels als Knoten",
       "disabled": false,
       "layout": "IPY_MODEL_370a1b076fd84164b4ac71e619753667",
       "style": "IPY_MODEL_7214436543fc4bca807fd5ab7b435bab",
       "value": false
      }
     },
     "303d77bba09a4d64b78025a633787ba5": {
      "model_module": "@jupyter-widgets/controls",
      "model_module_version": "1.2.0",
      "model_name": "DescriptionStyleModel",
      "state": {
       "description_width": ""
      }
     },
     "30563dbb4e12412ea539cf5a99d23354": {
      "model_module": "@jupyter-widgets/controls",
      "model_module_version": "1.2.0",
      "model_name": "ButtonStyleModel",
      "state": {}
     },
     "3151d25726b044658736b75b22f04a5d": {
      "model_module": "@jupyter-widgets/controls",
      "model_module_version": "1.2.0",
      "model_name": "VBoxModel",
      "state": {
       "children": [
        "IPY_MODEL_1f19a1be716a40348a4a3fe8f1433ddf",
        "IPY_MODEL_a45079fdd2fa4a3aaa52b61d8dfabd24",
        "IPY_MODEL_506ad3e1f5d54905a078ffbd8437e893"
       ],
       "layout": "IPY_MODEL_a3748e3a672a4629871b647ca84c1c88"
      }
     },
     "319532e9722b4cb6be9144e1e1df4363": {
      "model_module": "@jupyter-widgets/controls",
      "model_module_version": "1.2.0",
      "model_name": "HTMLModel",
      "state": {
       "layout": "IPY_MODEL_22ba6c4999c1409da6c6b88aa8819314",
       "style": "IPY_MODEL_c5ca272c3b5643bf9f353a9ed8eaeb53",
       "value": "<h4 style=\"font-size:14px;\">Welche Funktion innerhalb der Gerund-Nomen-Phrase nimmt das Nomen ein, wenn das Gerund Kopf dieser Phrase ist?</h4>"
      }
     },
     "3308505b8daa45aaad8b3760cfc3bade": {
      "model_module": "@jupyter-widgets/controls",
      "model_module_version": "1.2.0",
      "model_name": "HBoxModel",
      "state": {
       "children": [
        "IPY_MODEL_04a4dc13921e441fad6c3626b4c1256c",
        "IPY_MODEL_b9037b0fe52344ca84d016455dda7652"
       ],
       "layout": "IPY_MODEL_bd2d393983774fe8a8df39d833a4a18c"
      }
     },
     "332bd6649d3c49c4904abbd082bf421c": {
      "model_module": "@jupyter-widgets/base",
      "model_module_version": "1.0.0",
      "model_name": "LayoutModel",
      "state": {}
     },
     "335b53eede324ccb92068f3e8dde6ae0": {
      "model_module": "@jupyter-widgets/controls",
      "model_module_version": "1.2.0",
      "model_name": "ButtonStyleModel",
      "state": {}
     },
     "337c260e24a14356b477ddbccf2c5df4": {
      "model_module": "@jupyter-widgets/base",
      "model_module_version": "1.0.0",
      "model_name": "LayoutModel",
      "state": {
       "width": "250px"
      }
     },
     "339ffb70ca44493399d1b29ff36c9de9": {
      "model_module": "@jupyter-widgets/base",
      "model_module_version": "1.0.0",
      "model_name": "LayoutModel",
      "state": {
       "width": "600px"
      }
     },
     "348396b986c74b299f6a643a88e07784": {
      "model_module": "@jupyter-widgets/controls",
      "model_module_version": "1.2.0",
      "model_name": "ButtonModel",
      "state": {
       "description": "mehr als ein",
       "layout": "IPY_MODEL_e3e59c3a018f43d49e4d559d340b6a9c",
       "style": "IPY_MODEL_26eeb7ed9c964f8299516264dbb1731e"
      }
     },
     "34c7b8daec7e47c4ab12526cdac0f0d3": {
      "model_module": "@jupyter-widgets/controls",
      "model_module_version": "1.2.0",
      "model_name": "HBoxModel",
      "state": {
       "children": [
        "IPY_MODEL_2a742555ba6d4208af76ab8822968f90",
        "IPY_MODEL_6ec90d851f124c56bbcddae4cb5b023d"
       ],
       "layout": "IPY_MODEL_848fbd6ec0184d56b22c6eb61ca8d626"
      }
     },
     "34ebfd604c0d4f4dbda757b6422e0cf9": {
      "model_module": "@jupyter-widgets/controls",
      "model_module_version": "1.2.0",
      "model_name": "HTMLModel",
      "state": {
       "layout": "IPY_MODEL_61b1ba1f34a645f88d8149fb7dca0cd0",
       "style": "IPY_MODEL_cc939fae13414bacbc89994bb4bd15f5",
       "value": "<h4 style=\"font-size:14px;\">Was sind die 3 grundlegenden Beschreibungsebenen der Grammatik natürlicher Sprachen?</h4>"
      }
     },
     "350b9640db6545dcb7a27b81204bb384": {
      "model_module": "@jupyter-widgets/controls",
      "model_module_version": "1.2.0",
      "model_name": "HBoxModel",
      "state": {
       "children": [
        "IPY_MODEL_2af8a1eea77d451bafd306509fa08a1b",
        "IPY_MODEL_8f8aecf4fce74f24b50e3a8e2761571c"
       ],
       "layout": "IPY_MODEL_7f140405db064ad5a5b042227b68dd22"
      }
     },
     "35b4ee73e101445d948470dca3ff8088": {
      "model_module": "@jupyter-widgets/base",
      "model_module_version": "1.0.0",
      "model_name": "LayoutModel",
      "state": {
       "width": "600px"
      }
     },
     "366588bd3f4f4c46b1e89956c9cc943c": {
      "model_module": "@jupyter-widgets/base",
      "model_module_version": "1.0.0",
      "model_name": "LayoutModel",
      "state": {
       "width": "250px"
      }
     },
     "36a199d7ef624caa93cf5ba517e596c4": {
      "model_module": "@jupyter-widgets/controls",
      "model_module_version": "1.2.0",
      "model_name": "DescriptionStyleModel",
      "state": {
       "description_width": ""
      }
     },
     "36cac6c1f7ce4078a475800674f52942": {
      "model_module": "@jupyter-widgets/controls",
      "model_module_version": "1.2.0",
      "model_name": "HTMLModel",
      "state": {
       "layout": "IPY_MODEL_ec5d3309bc9f47bba31e11a89f755b09",
       "style": "IPY_MODEL_98a015434eb14603971f8ddaacc1fc70",
       "value": "<i>Vervollständigen Sie den Lückentext: </i>"
      }
     },
     "370a1b076fd84164b4ac71e619753667": {
      "model_module": "@jupyter-widgets/base",
      "model_module_version": "1.0.0",
      "model_name": "LayoutModel",
      "state": {
       "width": "600px"
      }
     },
     "37cd89936d954026baa44f525a6d128f": {
      "model_module": "@jupyter-widgets/controls",
      "model_module_version": "1.2.0",
      "model_name": "ButtonModel",
      "state": {
       "description": "Phrasenstruktur",
       "layout": "IPY_MODEL_2bd5d27aa54d4a329be24fe67f96d0b2",
       "style": "IPY_MODEL_3e94fe6220e641ce90d334869dfcc433"
      }
     },
     "37e465d476244dbea360227f351f0d32": {
      "model_module": "@jupyter-widgets/base",
      "model_module_version": "1.0.0",
      "model_name": "LayoutModel",
      "state": {
       "width": "250px"
      }
     },
     "38259025337c4f789bf9e4e4be813c5b": {
      "model_module": "@jupyter-widgets/base",
      "model_module_version": "1.0.0",
      "model_name": "LayoutModel",
      "state": {}
     },
     "385a98c8d5a64b329344a0efcbe74c52": {
      "model_module": "@jupyter-widgets/controls",
      "model_module_version": "1.2.0",
      "model_name": "ButtonStyleModel",
      "state": {}
     },
     "39248a7dcabb4273a00027e1beced0dd": {
      "model_module": "@jupyter-widgets/controls",
      "model_module_version": "1.2.0",
      "model_name": "CheckboxModel",
      "state": {
       "description": "Eine automatische Strukturanalyse wird möglich.",
       "disabled": false,
       "layout": "IPY_MODEL_339ffb70ca44493399d1b29ff36c9de9",
       "style": "IPY_MODEL_96151efdc4d240438acef4cc84e81f9e",
       "value": false
      }
     },
     "39a0459f57654271804ea6b419e323d9": {
      "model_module": "@jupyter-widgets/controls",
      "model_module_version": "1.2.0",
      "model_name": "DescriptionStyleModel",
      "state": {
       "description_width": ""
      }
     },
     "39bfc69da4c94434b9302b04338712ca": {
      "model_module": "@jupyter-widgets/controls",
      "model_module_version": "1.2.0",
      "model_name": "VBoxModel",
      "state": {
       "children": [
        "IPY_MODEL_5b0e0723f36d47aaa48c8dcfabe7bd50",
        "IPY_MODEL_ed0fcdabc36649c09f787ea8d6db1677",
        "IPY_MODEL_6169cafd7b184dcb9bb4ecc135f6ebbd",
        "IPY_MODEL_82b5d648b3d04dc89106e6ac8d4ba3ab",
        "IPY_MODEL_700cce7107f5491e9dbb557ab7221b13"
       ],
       "layout": "IPY_MODEL_3bfd5cb1d8ec46bfa02a17e648cb9e5d"
      }
     },
     "39c48a800d0f49779117a0fe9d7adada": {
      "model_module": "@jupyter-widgets/controls",
      "model_module_version": "1.2.0",
      "model_name": "HTMLModel",
      "state": {
       "layout": "IPY_MODEL_a299d515ebcf456ca41d0be2c847d74c",
       "style": "IPY_MODEL_84c50983dab044eca95615f2e80e5279",
       "value": "<h4 style=\"font-size:14px;\">Dependenz ist synonym zu:</h4>"
      }
     },
     "3a4f1fa70c70465899722132328f0276": {
      "model_module": "@jupyter-widgets/base",
      "model_module_version": "1.0.0",
      "model_name": "LayoutModel",
      "state": {
       "width": "600px"
      }
     },
     "3b14359e984f48b986bc3440b883282d": {
      "model_module": "@jupyter-widgets/controls",
      "model_module_version": "1.2.0",
      "model_name": "DescriptionStyleModel",
      "state": {
       "description_width": ""
      }
     },
     "3bfd5cb1d8ec46bfa02a17e648cb9e5d": {
      "model_module": "@jupyter-widgets/base",
      "model_module_version": "1.0.0",
      "model_name": "LayoutModel",
      "state": {}
     },
     "3c2fc249baa24dd6b69256ba4dbf5cd2": {
      "model_module": "@jupyter-widgets/base",
      "model_module_version": "1.0.0",
      "model_name": "LayoutModel",
      "state": {
       "width": "250px"
      }
     },
     "3c3cdd6988aa42c3b5a5ea7ee916e8a9": {
      "model_module": "@jupyter-widgets/base",
      "model_module_version": "1.0.0",
      "model_name": "LayoutModel",
      "state": {}
     },
     "3c57f42030314eacaa7bed0d3f8ee9a2": {
      "model_module": "@jupyter-widgets/base",
      "model_module_version": "1.0.0",
      "model_name": "LayoutModel",
      "state": {
       "width": "600px"
      }
     },
     "3caf1dc80a994ca3bc3a60fea956f7b8": {
      "model_module": "@jupyter-widgets/base",
      "model_module_version": "1.0.0",
      "model_name": "LayoutModel",
      "state": {
       "width": "600px"
      }
     },
     "3d844b668b8c43ecbeebf28752fd542a": {
      "model_module": "@jupyter-widgets/controls",
      "model_module_version": "1.2.0",
      "model_name": "ButtonStyleModel",
      "state": {}
     },
     "3e1e76892f894c2d8846cc7e82257f44": {
      "model_module": "@jupyter-widgets/base",
      "model_module_version": "1.0.0",
      "model_name": "LayoutModel",
      "state": {
       "width": "600px"
      }
     },
     "3e57703d2e254aa796fd6b92c420ac85": {
      "model_module": "@jupyter-widgets/base",
      "model_module_version": "1.0.0",
      "model_name": "LayoutModel",
      "state": {
       "width": "250px"
      }
     },
     "3e57c255a3ad46c3ac0de8580f581416": {
      "model_module": "@jupyter-widgets/controls",
      "model_module_version": "1.2.0",
      "model_name": "DescriptionStyleModel",
      "state": {
       "description_width": "initial"
      }
     },
     "3e6ce862fbf740b7979187dcc8e1d820": {
      "model_module": "@jupyter-widgets/controls",
      "model_module_version": "1.2.0",
      "model_name": "DescriptionStyleModel",
      "state": {
       "description_width": ""
      }
     },
     "3e94fe6220e641ce90d334869dfcc433": {
      "model_module": "@jupyter-widgets/controls",
      "model_module_version": "1.2.0",
      "model_name": "ButtonStyleModel",
      "state": {}
     },
     "3effda48d18f4e0dbb0ba5096b018006": {
      "model_module": "@jupyter-widgets/controls",
      "model_module_version": "1.2.0",
      "model_name": "ButtonModel",
      "state": {
       "description": "strukturelle Ambiguität",
       "layout": "IPY_MODEL_f55bdd4d680f44d7b15ad16045135824",
       "style": "IPY_MODEL_1af3d209fb6e4d9eaa315db29e1a7d27"
      }
     },
     "3f544bfbe1e34cc48ed598f5b4e7da71": {
      "model_module": "@jupyter-widgets/controls",
      "model_module_version": "1.2.0",
      "model_name": "HBoxModel",
      "state": {
       "children": [
        "IPY_MODEL_3effda48d18f4e0dbb0ba5096b018006",
        "IPY_MODEL_8aedde5171c8445f871cc99ee791813a"
       ],
       "layout": "IPY_MODEL_45846de28e8a4cc98a8938618acfae95"
      }
     },
     "3fa499861499452c8cc64514c498f68e": {
      "model_module": "@jupyter-widgets/base",
      "model_module_version": "1.0.0",
      "model_name": "LayoutModel",
      "state": {
       "width": "250px"
      }
     },
     "3fcea20e7db24c52bbf6252941aa0976": {
      "model_module": "@jupyter-widgets/controls",
      "model_module_version": "1.2.0",
      "model_name": "HTMLModel",
      "state": {
       "layout": "IPY_MODEL_64e54ae080ee43cdb2d1785ea78b4f55",
       "style": "IPY_MODEL_7fa13f2d3f914ef1b21f7de89451bdd1",
       "value": "<h4 style=\"font-size:14px;\">Was ist der Fall, wenn die PP ein Attribut ist?</h4>"
      }
     },
     "3fe0c768992448528c432060f7b21e6d": {
      "model_module": "@jupyter-widgets/controls",
      "model_module_version": "1.2.0",
      "model_name": "ButtonStyleModel",
      "state": {}
     },
     "400d0d94094845fc859c84d45d8b9799": {
      "model_module": "@jupyter-widgets/base",
      "model_module_version": "1.0.0",
      "model_name": "LayoutModel",
      "state": {}
     },
     "400f85641447458e9fcf1387e8bf9276": {
      "model_module": "@jupyter-widgets/controls",
      "model_module_version": "1.2.0",
      "model_name": "ButtonStyleModel",
      "state": {}
     },
     "40925aa97ccb4d87936078da817a61d6": {
      "model_module": "@jupyter-widgets/controls",
      "model_module_version": "1.2.0",
      "model_name": "ButtonModel",
      "state": {
       "description": "Parser",
       "layout": "IPY_MODEL_a89a489c9aa94e4abfaebc1cf52d2c4e",
       "style": "IPY_MODEL_28b36cfedd2746f49cc1d85b30a4da59"
      }
     },
     "40bc543c5ed048d0aafe813f861d639c": {
      "model_module": "@jupyter-widgets/base",
      "model_module_version": "1.0.0",
      "model_name": "LayoutModel",
      "state": {
       "width": "250px"
      }
     },
     "4149177b1314460d8d3d91439f4d2afe": {
      "model_module": "@jupyter-widgets/controls",
      "model_module_version": "1.2.0",
      "model_name": "VBoxModel",
      "state": {
       "children": [
        "IPY_MODEL_c9c65822e80d49c592027a3a80a9a22d",
        "IPY_MODEL_a7319ddc7281402cb864a6915a507209",
        "IPY_MODEL_34c7b8daec7e47c4ab12526cdac0f0d3"
       ],
       "layout": "IPY_MODEL_c3ca223ba00e440884758e94d756c1aa"
      }
     },
     "417f60ee7c0c4966b0b5ede8247bd618": {
      "model_module": "@jupyter-widgets/controls",
      "model_module_version": "1.2.0",
      "model_name": "ButtonModel",
      "state": {
       "description": "Wortstruktur",
       "layout": "IPY_MODEL_2276712b763e48d797d15fb39d2232a8",
       "style": "IPY_MODEL_e41b849aca4c4f02bcd7bf3a8fce7c5a"
      }
     },
     "423c5792202c4b89b5af483f1f8d7655": {
      "model_module": "@jupyter-widgets/controls",
      "model_module_version": "1.2.0",
      "model_name": "DescriptionStyleModel",
      "state": {
       "description_width": "initial"
      }
     },
     "439ddc4d65f04cb1bda488c6c23a4849": {
      "model_module": "@jupyter-widgets/controls",
      "model_module_version": "1.2.0",
      "model_name": "VBoxModel",
      "state": {
       "children": [
        "IPY_MODEL_3fcea20e7db24c52bbf6252941aa0976",
        "IPY_MODEL_26e86e8ce64e434c90066cf455c40cdf",
        "IPY_MODEL_e72a0a469aeb4353951f1019d4040c7a",
        "IPY_MODEL_e0dcae5a1d6e49b89920a5364aeee6c9"
       ],
       "layout": "IPY_MODEL_6dd7ebcf266b480abe91381600197136"
      }
     },
     "43a5045a8fc1464ea886059f78043f42": {
      "model_module": "@jupyter-widgets/base",
      "model_module_version": "1.0.0",
      "model_name": "LayoutModel",
      "state": {
       "align_content": "stretch",
       "align_items": "stretch",
       "display": "inline-flex",
       "flex": "flex-grow",
       "flex_flow": "row wrap",
       "justify_content": "flex-start"
      }
     },
     "43a5876f4f0a416a9ca24d36119164fb": {
      "model_module": "@jupyter-widgets/controls",
      "model_module_version": "1.2.0",
      "model_name": "HTMLModel",
      "state": {
       "layout": "IPY_MODEL_5ff0b744629a46a48c39c4de212346f4",
       "style": "IPY_MODEL_3e6ce862fbf740b7979187dcc8e1d820",
       "value": "<i>Wählen Sie die <ins>eine</ins> korrekte Antwort aus: </i>"
      }
     },
     "43fc75b7bdea4feb9c7a7fd29d1c5b14": {
      "model_module": "@jupyter-widgets/base",
      "model_module_version": "1.0.0",
      "model_name": "LayoutModel",
      "state": {
       "width": "250px"
      }
     },
     "444de02e115d4173a2df001d9076d588": {
      "model_module": "@jupyter-widgets/controls",
      "model_module_version": "1.2.0",
      "model_name": "ButtonStyleModel",
      "state": {}
     },
     "45846de28e8a4cc98a8938618acfae95": {
      "model_module": "@jupyter-widgets/base",
      "model_module_version": "1.0.0",
      "model_name": "LayoutModel",
      "state": {}
     },
     "458476d605b446a0b9fd6aab34ee39fb": {
      "model_module": "@jupyter-widgets/base",
      "model_module_version": "1.0.0",
      "model_name": "LayoutModel",
      "state": {
       "width": "250px"
      }
     },
     "45f4c3bc6c4b4648915025092a08f3cd": {
      "model_module": "@jupyter-widgets/base",
      "model_module_version": "1.0.0",
      "model_name": "LayoutModel",
      "state": {}
     },
     "460bc6d9ef4a4a22a36c71fceaa795d9": {
      "model_module": "@jupyter-widgets/base",
      "model_module_version": "1.0.0",
      "model_name": "LayoutModel",
      "state": {
       "justify_content": "center"
      }
     },
     "463320300b48400d8afbc23e247eb022": {
      "model_module": "@jupyter-widgets/controls",
      "model_module_version": "1.2.0",
      "model_name": "DescriptionStyleModel",
      "state": {
       "description_width": ""
      }
     },
     "467cc6ff03d24d6a98c82a0b9b3826d2": {
      "model_module": "@jupyter-widgets/controls",
      "model_module_version": "1.2.0",
      "model_name": "ButtonModel",
      "state": {
       "description": "formale Grammatik + Parser",
       "layout": "IPY_MODEL_e4d1ff0397a64b5ca43a6dd96b78d1f4",
       "style": "IPY_MODEL_a8149c90a2e540a0a974d5d1a29dfccc"
      }
     },
     "46873333e27b4bba95c1f47a7f0ed4ab": {
      "model_module": "@jupyter-widgets/controls",
      "model_module_version": "1.2.0",
      "model_name": "ButtonStyleModel",
      "state": {}
     },
     "4698d5476eea473ea65c1d68a3b12b82": {
      "model_module": "@jupyter-widgets/controls",
      "model_module_version": "1.2.0",
      "model_name": "ButtonStyleModel",
      "state": {}
     },
     "46ad54189cf14a7985d4534ceb5a5373": {
      "model_module": "@jupyter-widgets/controls",
      "model_module_version": "1.2.0",
      "model_name": "DescriptionStyleModel",
      "state": {
       "description_width": ""
      }
     },
     "470fef02a2dc444cb290de2af09c0a8b": {
      "model_module": "@jupyter-widgets/base",
      "model_module_version": "1.0.0",
      "model_name": "LayoutModel",
      "state": {}
     },
     "487a2690b1fa4cc8b1b55ba8cbb89ec5": {
      "model_module": "@jupyter-widgets/controls",
      "model_module_version": "1.2.0",
      "model_name": "ButtonModel",
      "state": {
       "description": "Keine der anderen Möglichkeiten",
       "layout": "IPY_MODEL_c8ab15707aca4c839c5b01c5a02a7325",
       "style": "IPY_MODEL_07e19c0162fa4d8f8246cd0553c13f4b"
      }
     },
     "49cd413fbbbe475698bb0968f5ac6d40": {
      "model_module": "@jupyter-widgets/controls",
      "model_module_version": "1.2.0",
      "model_name": "DescriptionStyleModel",
      "state": {
       "description_width": ""
      }
     },
     "4b3348fc5e8847c4b001522c4a23e3bd": {
      "model_module": "@jupyter-widgets/controls",
      "model_module_version": "1.2.0",
      "model_name": "ButtonModel",
      "state": {
       "description": "Wortstruktur",
       "layout": "IPY_MODEL_1e41a40236884894992d4aa226763d51",
       "style": "IPY_MODEL_cc71099e2f3c49d4a72e10e75877d25b"
      }
     },
     "4bee382ca2e04ae2b89c8835f6a31e0c": {
      "model_module": "@jupyter-widgets/controls",
      "model_module_version": "1.2.0",
      "model_name": "ButtonModel",
      "state": {
       "description": "Korrekt?",
       "layout": "IPY_MODEL_4e216e87b2f54439b5cd5c6f15dd5474",
       "style": "IPY_MODEL_8a285262ff024dda9445e1dc8f5b2cd8"
      }
     },
     "4bee44b6c1cc4f729425fbd746531328": {
      "model_module": "@jupyter-widgets/base",
      "model_module_version": "1.0.0",
      "model_name": "LayoutModel",
      "state": {
       "justify_content": "center"
      }
     },
     "4c30edbbfebd48f5af2981d7385528cf": {
      "model_module": "@jupyter-widgets/controls",
      "model_module_version": "1.2.0",
      "model_name": "DescriptionStyleModel",
      "state": {
       "description_width": ""
      }
     },
     "4c81ef67ab0d44dfa4ac8f221cadf58e": {
      "model_module": "@jupyter-widgets/base",
      "model_module_version": "1.0.0",
      "model_name": "LayoutModel",
      "state": {
       "justify_content": "center"
      }
     },
     "4c8ae3c45fb64f7dace09bec2bb9fdf9": {
      "model_module": "@jupyter-widgets/controls",
      "model_module_version": "1.2.0",
      "model_name": "DescriptionStyleModel",
      "state": {
       "description_width": "initial"
      }
     },
     "4d502529ddf94f279e3500799263d6fc": {
      "model_module": "@jupyter-widgets/controls",
      "model_module_version": "1.2.0",
      "model_name": "ButtonStyleModel",
      "state": {}
     },
     "4dec79ad64e74447b19911fa0efb93b9": {
      "model_module": "@jupyter-widgets/controls",
      "model_module_version": "1.2.0",
      "model_name": "ButtonStyleModel",
      "state": {}
     },
     "4dfb1ee7b4f84c5fa8c6a85bf0b56662": {
      "model_module": "@jupyter-widgets/controls",
      "model_module_version": "1.2.0",
      "model_name": "ButtonStyleModel",
      "state": {}
     },
     "4e17120fc9834a4881174e2a64fc89f7": {
      "model_module": "@jupyter-widgets/base",
      "model_module_version": "1.0.0",
      "model_name": "LayoutModel",
      "state": {}
     },
     "4e216e87b2f54439b5cd5c6f15dd5474": {
      "model_module": "@jupyter-widgets/base",
      "model_module_version": "1.0.0",
      "model_name": "LayoutModel",
      "state": {
       "width": "250px"
      }
     },
     "4e42d07e99ed4b449b6a257fa7b75592": {
      "model_module": "@jupyter-widgets/controls",
      "model_module_version": "1.2.0",
      "model_name": "ButtonModel",
      "state": {
       "description": "lexikalische Ambiguität",
       "layout": "IPY_MODEL_ab9058321d564c6a90194ccc50f3a81b",
       "style": "IPY_MODEL_0adce13d0b6b4923bbe4aca3407df13e"
      }
     },
     "4f312e98807f463a93d35cfbddf0a5b1": {
      "model_module": "@jupyter-widgets/controls",
      "model_module_version": "1.2.0",
      "model_name": "ButtonModel",
      "state": {
       "description": "formale Grammatik",
       "layout": "IPY_MODEL_044c0128e894490c9ca99f339e3f059c",
       "style": "IPY_MODEL_c6cd7bc635dd4d2fba088a5c0b4ec720"
      }
     },
     "4f9af5b86cd7477a83a7fd99dfd45f69": {
      "model_module": "@jupyter-widgets/controls",
      "model_module_version": "1.2.0",
      "model_name": "HTMLModel",
      "state": {
       "layout": "IPY_MODEL_d097c2cb49ee4660b5fb07de643aeda2",
       "style": "IPY_MODEL_03fa83e67211451180874e7ada7f9b12",
       "value": "<i>Wählen Sie die <ins>eine</ins> korrekte Antwort aus: </i>"
      }
     },
     "4fa2f8979b3941178ca3f75860bb6b42": {
      "model_module": "@jupyter-widgets/controls",
      "model_module_version": "1.2.0",
      "model_name": "ButtonModel",
      "state": {
       "description": "syntaktische Funktion",
       "layout": "IPY_MODEL_064deb39b2ca4ed38aeb422c8671f798",
       "style": "IPY_MODEL_50578841d4db4a4fafefc63f18e2a3b8"
      }
     },
     "50578841d4db4a4fafefc63f18e2a3b8": {
      "model_module": "@jupyter-widgets/controls",
      "model_module_version": "1.2.0",
      "model_name": "ButtonStyleModel",
      "state": {}
     },
     "506ad3e1f5d54905a078ffbd8437e893": {
      "model_module": "@jupyter-widgets/controls",
      "model_module_version": "1.2.0",
      "model_name": "HBoxModel",
      "state": {
       "children": [
        "IPY_MODEL_17845f17f61e4cfa92ec4dec2ccb3265",
        "IPY_MODEL_6062b4f0b1d341a1b3b93dc3d09845a7"
       ],
       "layout": "IPY_MODEL_93571ec7d53f4a4fbcdbde21b1c67412"
      }
     },
     "50d060c773d0471d902d17a38b9d7438": {
      "model_module": "@jupyter-widgets/base",
      "model_module_version": "1.0.0",
      "model_name": "LayoutModel",
      "state": {
       "width": "250px"
      }
     },
     "512cc6397f4148c5bf5446eb60186ffe": {
      "model_module": "@jupyter-widgets/controls",
      "model_module_version": "1.2.0",
      "model_name": "ButtonStyleModel",
      "state": {}
     },
     "514752b6940844b0b05f9e449da81986": {
      "model_module": "@jupyter-widgets/controls",
      "model_module_version": "1.2.0",
      "model_name": "ButtonStyleModel",
      "state": {}
     },
     "529551332abd4181aea258f08ebe987b": {
      "model_module": "@jupyter-widgets/controls",
      "model_module_version": "1.2.0",
      "model_name": "HTMLModel",
      "state": {
       "layout": "IPY_MODEL_8f9eacc9ed804d638980886cbf34cecb",
       "style": "IPY_MODEL_bdefd2bb995f4994bd3f32c5ba65cd61",
       "value": "<h4 style=\"font-size:14px;\">Was ist der Ursprung der Ambiguität?</h4>"
      }
     },
     "54c6d428f8b34a76957b8dc722f23dcd": {
      "model_module": "@jupyter-widgets/controls",
      "model_module_version": "1.2.0",
      "model_name": "HTMLModel",
      "state": {
       "layout": "IPY_MODEL_ba6512ac022946878bee02f459b678b8",
       "style": "IPY_MODEL_8e031aea6124410ea31acb763124dcf9",
       "value": "<i>Wählen Sie die <ins>eine</ins> korrekte Antwort aus: </i>"
      }
     },
     "560264764ae5476e8f1ab65efb69f1b3": {
      "model_module": "@jupyter-widgets/controls",
      "model_module_version": "1.2.0",
      "model_name": "CheckboxModel",
      "state": {
       "description": "Satzebene, Textebene, Bedeutungsebene",
       "disabled": false,
       "layout": "IPY_MODEL_1ab86241217249208cb9669b0f8a8b3e",
       "style": "IPY_MODEL_f412dd4ee66d4bd29932087a2f0e4b8a",
       "value": false
      }
     },
     "563a186e7c67416eb1b1394e8e6ec05b": {
      "model_module": "@jupyter-widgets/base",
      "model_module_version": "1.0.0",
      "model_name": "LayoutModel",
      "state": {
       "width": "250px"
      }
     },
     "566213c9fbc64e9a8856be6f5368d83e": {
      "model_module": "@jupyter-widgets/controls",
      "model_module_version": "1.2.0",
      "model_name": "CheckboxModel",
      "state": {
       "description": "Verbalphrase",
       "disabled": false,
       "layout": "IPY_MODEL_81c73d2155dd41828edeb10e6324274c",
       "style": "IPY_MODEL_ed5b530213ae468280c9384cb7578d82",
       "value": false
      }
     },
     "5679e39fe6e6407bbdbafec8692ad026": {
      "model_module": "@jupyter-widgets/base",
      "model_module_version": "1.0.0",
      "model_name": "LayoutModel",
      "state": {
       "justify_content": "center"
      }
     },
     "56b1acb5d9204e289660973d1bccb2be": {
      "model_module": "@jupyter-widgets/controls",
      "model_module_version": "1.2.0",
      "model_name": "HTMLModel",
      "state": {
       "layout": "IPY_MODEL_59f8eaad532d41108a91e7c2143c2e19",
       "style": "IPY_MODEL_463320300b48400d8afbc23e247eb022",
       "value": "<i>Wählen Sie die <ins>eine</ins> korrekte Antwort aus: </i>"
      }
     },
     "56b361b096f44438996feabd43d4e02a": {
      "model_module": "@jupyter-widgets/controls",
      "model_module_version": "1.2.0",
      "model_name": "VBoxModel",
      "state": {
       "children": [
        "IPY_MODEL_7f777a474ba445f2ae2e43d32ac83efe",
        "IPY_MODEL_7ed7d425ccc44079959ae49cb7b659d0",
        "IPY_MODEL_0b57ab2f87ef4a739ce1323949055ce3",
        "IPY_MODEL_7cda7f4856d3492384368f07fc2e85d6",
        "IPY_MODEL_b13c4d1851464b928096afbe3d728e8f"
       ],
       "layout": "IPY_MODEL_0896ffc714784c9a98ef9d7adeb8b871"
      }
     },
     "57bc35d8b8ac4264933c4d405438e936": {
      "model_module": "@jupyter-widgets/base",
      "model_module_version": "1.0.0",
      "model_name": "LayoutModel",
      "state": {}
     },
     "581b6168822c46eba729ba3257889b85": {
      "model_module": "@jupyter-widgets/base",
      "model_module_version": "1.0.0",
      "model_name": "LayoutModel",
      "state": {
       "justify_content": "center"
      }
     },
     "585afd38cd2344d191894837dfe6da16": {
      "model_module": "@jupyter-widgets/base",
      "model_module_version": "1.0.0",
      "model_name": "LayoutModel",
      "state": {
       "width": "250px"
      }
     },
     "58c060a8106d4df5a56fc295e1fe2a2c": {
      "model_module": "@jupyter-widgets/controls",
      "model_module_version": "1.2.0",
      "model_name": "VBoxModel",
      "state": {
       "children": [
        "IPY_MODEL_67984e37276e464f949ee0fa3a325801",
        "IPY_MODEL_03d6e28a5b4442388fe930cd023496d5",
        "IPY_MODEL_3017ab203cf74334b8e4e83be6762e8c",
        "IPY_MODEL_f99f51fc0a7040d9ad4d90aaa063080f"
       ],
       "layout": "IPY_MODEL_76c959c4d7f14d9a9f147b1101ece4ea"
      }
     },
     "59276e9e284149c1bc250234e239ad10": {
      "model_module": "@jupyter-widgets/controls",
      "model_module_version": "1.2.0",
      "model_name": "DescriptionStyleModel",
      "state": {
       "description_width": ""
      }
     },
     "598b557e1cdc4ba1a6f290f8279e38db": {
      "model_module": "@jupyter-widgets/controls",
      "model_module_version": "1.2.0",
      "model_name": "ButtonModel",
      "state": {
       "description": "Korrekt?",
       "layout": "IPY_MODEL_94ddbc9069174acfb711e981cb789729",
       "style": "IPY_MODEL_f1cb2250a99143a7858ecfec0693cd4f"
      }
     },
     "59f8eaad532d41108a91e7c2143c2e19": {
      "model_module": "@jupyter-widgets/base",
      "model_module_version": "1.0.0",
      "model_name": "LayoutModel",
      "state": {
       "justify_content": "center"
      }
     },
     "5a542b9825ce4aea91fa8a7efee046ac": {
      "model_module": "@jupyter-widgets/base",
      "model_module_version": "1.0.0",
      "model_name": "LayoutModel",
      "state": {
       "width": "600px"
      }
     },
     "5b03731c5280439a8317eea39cd6a0c9": {
      "model_module": "@jupyter-widgets/controls",
      "model_module_version": "1.2.0",
      "model_name": "VBoxModel",
      "state": {
       "children": [
        "IPY_MODEL_6dd647e0bcc345a9856bd436c80702ec",
        "IPY_MODEL_f7a37cc23a2344b8a09ce6ddbfb08951",
        "IPY_MODEL_5ed38f94169c47deab075d02a5d5d033",
        "IPY_MODEL_a117ea729a2f4488a9b0f3034b140423"
       ],
       "layout": "IPY_MODEL_0165014b13034190bedca7ccc3a0f9d2"
      }
     },
     "5b08c2f658b843ca9d06f39ba4527054": {
      "model_module": "@jupyter-widgets/controls",
      "model_module_version": "1.2.0",
      "model_name": "HTMLModel",
      "state": {
       "layout": "IPY_MODEL_332bd6649d3c49c4904abbd082bf421c",
       "style": "IPY_MODEL_fb8e33dc587347d2a2dbc84fa8ae68b8",
       "value": "<h4 style=\"font-size:14px;\">Die ________ eines Satzes bzgl. der formalen Grammatik wird erkannt.</h4>"
      }
     },
     "5b0e0723f36d47aaa48c8dcfabe7bd50": {
      "model_module": "@jupyter-widgets/controls",
      "model_module_version": "1.2.0",
      "model_name": "CheckboxModel",
      "state": {
       "description": "morphologische",
       "disabled": false,
       "layout": "IPY_MODEL_17208453dcb140499fd67fd7ec27aea1",
       "style": "IPY_MODEL_f508ecd89d3a470a856696e8b2e5b170",
       "value": false
      }
     },
     "5c0f7cbbeea94a5fbf72913ba8c1be2e": {
      "model_module": "@jupyter-widgets/base",
      "model_module_version": "1.0.0",
      "model_name": "LayoutModel",
      "state": {
       "width": "250px"
      }
     },
     "5c81eb985e6540f99be975db134e0e06": {
      "model_module": "@jupyter-widgets/base",
      "model_module_version": "1.0.0",
      "model_name": "LayoutModel",
      "state": {
       "width": "250px"
      }
     },
     "5d4495f0a16943789f8a448f8876b886": {
      "model_module": "@jupyter-widgets/controls",
      "model_module_version": "1.2.0",
      "model_name": "DescriptionStyleModel",
      "state": {
       "description_width": "initial"
      }
     },
     "5e2890841c724d12a4543e98561fd54b": {
      "model_module": "@jupyter-widgets/base",
      "model_module_version": "1.0.0",
      "model_name": "LayoutModel",
      "state": {}
     },
     "5e91488577a94d55b1da8f1dc04a55ca": {
      "model_module": "@jupyter-widgets/base",
      "model_module_version": "1.0.0",
      "model_name": "LayoutModel",
      "state": {}
     },
     "5ed38f94169c47deab075d02a5d5d033": {
      "model_module": "@jupyter-widgets/controls",
      "model_module_version": "1.2.0",
      "model_name": "HBoxModel",
      "state": {
       "children": [
        "IPY_MODEL_757c2073dbd648f7b5432b6d538a766a",
        "IPY_MODEL_f7b4dfbdfade4afd9a6e971bc22e38a7"
       ],
       "layout": "IPY_MODEL_11589d5f8dc547e481f3f7b362071182"
      }
     },
     "5edaf1e2335747e1975f2d1e7ab1375e": {
      "model_module": "@jupyter-widgets/controls",
      "model_module_version": "1.2.0",
      "model_name": "DropdownModel",
      "state": {
       "_options_labels": [
        "Morphem",
        "Symbol",
        "Wort",
        " "
       ],
       "index": 3,
       "layout": "IPY_MODEL_07e151eccd114c3a9ce4a41f044c3eb2",
       "style": "IPY_MODEL_88907d762fe94ee3a7dbfd27c992d4dc"
      }
     },
     "5f12f0f94bd34849a22d01df915ba415": {
      "model_module": "@jupyter-widgets/controls",
      "model_module_version": "1.2.0",
      "model_name": "DropdownModel",
      "state": {
       "_options_labels": [
        "Grundsymbole",
        "Nicht-Terminale",
        " "
       ],
       "index": 2,
       "layout": "IPY_MODEL_1ed83782254f4585b89b666fab5864c3",
       "style": "IPY_MODEL_8bba91e18276469a8fb0b566ce796144"
      }
     },
     "5f58d0395c8a41f59b0bf9db44e9efca": {
      "model_module": "@jupyter-widgets/base",
      "model_module_version": "1.0.0",
      "model_name": "LayoutModel",
      "state": {
       "width": "600px"
      }
     },
     "5f6c525c32c54740930e37571b135718": {
      "model_module": "@jupyter-widgets/controls",
      "model_module_version": "1.2.0",
      "model_name": "ButtonStyleModel",
      "state": {}
     },
     "5ff0b744629a46a48c39c4de212346f4": {
      "model_module": "@jupyter-widgets/base",
      "model_module_version": "1.0.0",
      "model_name": "LayoutModel",
      "state": {
       "justify_content": "center"
      }
     },
     "60000860e45b42e3a89b26ae7258d52f": {
      "model_module": "@jupyter-widgets/base",
      "model_module_version": "1.0.0",
      "model_name": "LayoutModel",
      "state": {}
     },
     "605a4108a17a42789310cbdaac38ed63": {
      "model_module": "@jupyter-widgets/base",
      "model_module_version": "1.0.0",
      "model_name": "LayoutModel",
      "state": {}
     },
     "6062b4f0b1d341a1b3b93dc3d09845a7": {
      "model_module": "@jupyter-widgets/controls",
      "model_module_version": "1.2.0",
      "model_name": "ButtonModel",
      "state": {
       "description": "Subjekt",
       "layout": "IPY_MODEL_5c0f7cbbeea94a5fbf72913ba8c1be2e",
       "style": "IPY_MODEL_385a98c8d5a64b329344a0efcbe74c52"
      }
     },
     "612ebf8e200c4c4cb14f51881788ea65": {
      "model_module": "@jupyter-widgets/base",
      "model_module_version": "1.0.0",
      "model_name": "LayoutModel",
      "state": {
       "justify_content": "center"
      }
     },
     "6169cafd7b184dcb9bb4ecc135f6ebbd": {
      "model_module": "@jupyter-widgets/controls",
      "model_module_version": "1.2.0",
      "model_name": "CheckboxModel",
      "state": {
       "description": "pragmatische",
       "disabled": false,
       "layout": "IPY_MODEL_828d3160e0fc4264a6cdceddf177e487",
       "style": "IPY_MODEL_aa4a914678da442d9842ca2197852034",
       "value": false
      }
     },
     "61b1ba1f34a645f88d8149fb7dca0cd0": {
      "model_module": "@jupyter-widgets/base",
      "model_module_version": "1.0.0",
      "model_name": "LayoutModel",
      "state": {}
     },
     "61f6a73318f04a488531bf9b1eba9308": {
      "model_module": "@jupyter-widgets/controls",
      "model_module_version": "1.2.0",
      "model_name": "ButtonModel",
      "state": {
       "description": "genau ein",
       "layout": "IPY_MODEL_ab5f7294d3154cc7aced771d7d423489",
       "style": "IPY_MODEL_a7e45d8f29834c2c91640d170c6bfe66"
      }
     },
     "62124dc6bb7f4ab6a83e62a4f28e70ae": {
      "model_module": "@jupyter-widgets/controls",
      "model_module_version": "1.2.0",
      "model_name": "DescriptionStyleModel",
      "state": {
       "description_width": ""
      }
     },
     "624e353748da4ba6961f8996b830d6cb": {
      "model_module": "@jupyter-widgets/controls",
      "model_module_version": "1.2.0",
      "model_name": "ButtonModel",
      "state": {
       "description": "Subjekt",
       "layout": "IPY_MODEL_0c6e6186300149acaedc887320148500",
       "style": "IPY_MODEL_e04a7b4f62e143c29bda5a9eb33d87dc"
      }
     },
     "6265ecb5b96d40f6b52d090eeec895be": {
      "model_module": "@jupyter-widgets/controls",
      "model_module_version": "1.2.0",
      "model_name": "ButtonModel",
      "state": {
       "description": "Keine der anderen Möglichkeiten",
       "layout": "IPY_MODEL_585afd38cd2344d191894837dfe6da16",
       "style": "IPY_MODEL_d17e02cb4a4e4dc2800453c544a406b7"
      }
     },
     "62de141e78f44e0fbe9666c6cf16c6e7": {
      "model_module": "@jupyter-widgets/controls",
      "model_module_version": "1.2.0",
      "model_name": "HTMLModel",
      "state": {
       "layout": "IPY_MODEL_f4aa70ec806841e3a3442ae2d874507d",
       "style": "IPY_MODEL_241f34c282724523818c2f9ac9f93c8e",
       "value": "<h4 style=\"font-size:14px;\">Hinsichtlich welcher syntaktischen Grundprinzipien werden natürliche Sprachen mit formalen Methoden analysiert?</h4>"
      }
     },
     "63e4a44a310a46898d1a8b44d0ba2a3d": {
      "model_module": "@jupyter-widgets/controls",
      "model_module_version": "1.2.0",
      "model_name": "CheckboxModel",
      "state": {
       "description": "Wohlgeformtheit",
       "disabled": false,
       "layout": "IPY_MODEL_ce827bfb4bed4d2d914b7c251231e6c2",
       "style": "IPY_MODEL_668d763092d84b7c85c787636708db16",
       "value": false
      }
     },
     "64e54ae080ee43cdb2d1785ea78b4f55": {
      "model_module": "@jupyter-widgets/base",
      "model_module_version": "1.0.0",
      "model_name": "LayoutModel",
      "state": {}
     },
     "657d81ee5de54a99803bad6e8c642d85": {
      "model_module": "@jupyter-widgets/controls",
      "model_module_version": "1.2.0",
      "model_name": "HTMLModel",
      "state": {
       "layout": "IPY_MODEL_66988884e8184685a0bee32de539bdbf",
       "style": "IPY_MODEL_a438c5527bfb40e0ac4aa4a7e4f74f11",
       "value": "<h4 style=\"font-size:14px;\">Warum gibt die parse-Funktion des Skripts vermutlich eine Sequenz zurück?</h4>"
      }
     },
     "65abefd47cb14316bb65d5cb2ad94455": {
      "model_module": "@jupyter-widgets/controls",
      "model_module_version": "1.2.0",
      "model_name": "VBoxModel",
      "state": {
       "children": [
        "IPY_MODEL_36cac6c1f7ce4078a475800674f52942",
        "IPY_MODEL_dce14714d57e4581bc89b4c68bf84cfb",
        "IPY_MODEL_8d84238e46a74a01813a95e4483f025a"
       ],
       "layout": "IPY_MODEL_9a957eccf112413eb7439b22260e44a9"
      }
     },
     "65e96d9c4f124223a9c04c19d4afc470": {
      "model_module": "@jupyter-widgets/controls",
      "model_module_version": "1.2.0",
      "model_name": "ButtonModel",
      "state": {
       "description": "formale Grammatik",
       "layout": "IPY_MODEL_09b943243bf4489f8821c9e752fc29f6",
       "style": "IPY_MODEL_4dec79ad64e74447b19911fa0efb93b9"
      }
     },
     "660998c12ab841c2806a19cb5f1e7bd1": {
      "model_module": "@jupyter-widgets/controls",
      "model_module_version": "1.2.0",
      "model_name": "ButtonStyleModel",
      "state": {}
     },
     "668d763092d84b7c85c787636708db16": {
      "model_module": "@jupyter-widgets/controls",
      "model_module_version": "1.2.0",
      "model_name": "DescriptionStyleModel",
      "state": {
       "description_width": "initial"
      }
     },
     "66988884e8184685a0bee32de539bdbf": {
      "model_module": "@jupyter-widgets/base",
      "model_module_version": "1.0.0",
      "model_name": "LayoutModel",
      "state": {
       "justify_content": "center"
      }
     },
     "671db31331584754a1a8a9fbb4aefc6f": {
      "model_module": "@jupyter-widgets/base",
      "model_module_version": "1.0.0",
      "model_name": "LayoutModel",
      "state": {}
     },
     "67984e37276e464f949ee0fa3a325801": {
      "model_module": "@jupyter-widgets/controls",
      "model_module_version": "1.2.0",
      "model_name": "CheckboxModel",
      "state": {
       "description": "Dependenzgraph mit Phrasenlabels als Knoten",
       "disabled": false,
       "layout": "IPY_MODEL_1ef52a289df74ead937dbf760000dd68",
       "style": "IPY_MODEL_a71b174688b4468b8cc5793869927ff1",
       "value": false
      }
     },
     "680c961b08de48f483c589d3216cfd50": {
      "model_module": "@jupyter-widgets/controls",
      "model_module_version": "1.2.0",
      "model_name": "DescriptionStyleModel",
      "state": {
       "description_width": "initial"
      }
     },
     "69471be1cc3d4699a2b30beef4c8ce9d": {
      "model_module": "@jupyter-widgets/base",
      "model_module_version": "1.0.0",
      "model_name": "LayoutModel",
      "state": {
       "width": "250px"
      }
     },
     "69683bda11cf4a6d905631d8e7f12c25": {
      "model_module": "@jupyter-widgets/base",
      "model_module_version": "1.0.0",
      "model_name": "LayoutModel",
      "state": {}
     },
     "697688089cd24826bdf28047e4f45388": {
      "model_module": "@jupyter-widgets/controls",
      "model_module_version": "1.2.0",
      "model_name": "ButtonModel",
      "state": {
       "description": "Konstituenz",
       "layout": "IPY_MODEL_fff5a7e4e9104b17bac9403f96ea852b",
       "style": "IPY_MODEL_b2df974be4bc4f58847d0a754e6f9f1f"
      }
     },
     "6a70b132c1fd4beea958516130f3e8a3": {
      "model_module": "@jupyter-widgets/controls",
      "model_module_version": "1.2.0",
      "model_name": "ButtonModel",
      "state": {
       "description": "Regelsystem",
       "layout": "IPY_MODEL_8cd76db643a84261bd33fcc5297e52c6",
       "style": "IPY_MODEL_3fe0c768992448528c432060f7b21e6d"
      }
     },
     "6b8f0cccd44b4963a92ad715439021ed": {
      "model_module": "@jupyter-widgets/controls",
      "model_module_version": "1.2.0",
      "model_name": "VBoxModel",
      "state": {
       "children": [
        "IPY_MODEL_f9e703bc335a483bb52615b36bec6bd5",
        "IPY_MODEL_0cc8d70c7a224fb08817d6828cc1dfca",
        "IPY_MODEL_ae4e23f0f7c14439a23d10090cbdbe0d",
        "IPY_MODEL_0752b1215b434b97911f2dab0e99e409"
       ],
       "layout": "IPY_MODEL_09597c60e3214a62a77b4e7f981c0e66"
      }
     },
     "6c134c7b76fd4513945567b5e0989e5f": {
      "model_module": "@jupyter-widgets/controls",
      "model_module_version": "1.2.0",
      "model_name": "HTMLModel",
      "state": {
       "layout": "IPY_MODEL_e68bbd3e8f9c42f2ac40a0a60fd1d320",
       "style": "IPY_MODEL_164fc2911eec466db2ac580a252ceb7f",
       "value": "<h4 style=\"font-size:14px;\">Die Syntax ist ein</h4>"
      }
     },
     "6ca93f6b964045c3ba1c44b5e983f756": {
      "model_module": "@jupyter-widgets/controls",
      "model_module_version": "1.2.0",
      "model_name": "DescriptionStyleModel",
      "state": {
       "description_width": "initial"
      }
     },
     "6cabc13356264cb3a1a8933ea4f6d656": {
      "model_module": "@jupyter-widgets/controls",
      "model_module_version": "1.2.0",
      "model_name": "VBoxModel",
      "state": {
       "children": [
        "IPY_MODEL_aa8cbb93bb7843ba8da989ce0a1377c9",
        "IPY_MODEL_43a5876f4f0a416a9ca24d36119164fb",
        "IPY_MODEL_0d320b548a3d4918b3573218ed594fb3",
        "IPY_MODEL_f4923fa86ba34a418fc2867cbd89abb3"
       ],
       "layout": "IPY_MODEL_9c6712167ef3432abee95b87cfa07844"
      }
     },
     "6d1d12aa85014fb5889139c0e5f2da68": {
      "model_module": "@jupyter-widgets/base",
      "model_module_version": "1.0.0",
      "model_name": "LayoutModel",
      "state": {
       "width": "250px"
      }
     },
     "6d541ace529e447cb59912f1b7822055": {
      "model_module": "@jupyter-widgets/base",
      "model_module_version": "1.0.0",
      "model_name": "LayoutModel",
      "state": {
       "justify_content": "center"
      }
     },
     "6d6ba62315024bb696412a9103e049b0": {
      "model_module": "@jupyter-widgets/base",
      "model_module_version": "1.0.0",
      "model_name": "LayoutModel",
      "state": {
       "justify_content": "center"
      }
     },
     "6d7a0c61a77b480897d2168387fb430f": {
      "model_module": "@jupyter-widgets/base",
      "model_module_version": "1.0.0",
      "model_name": "LayoutModel",
      "state": {
       "justify_content": "center"
      }
     },
     "6dbd98ec7a974c47876179d8f514b6c0": {
      "model_module": "@jupyter-widgets/controls",
      "model_module_version": "1.2.0",
      "model_name": "DescriptionStyleModel",
      "state": {
       "description_width": ""
      }
     },
     "6dd647e0bcc345a9856bd436c80702ec": {
      "model_module": "@jupyter-widgets/controls",
      "model_module_version": "1.2.0",
      "model_name": "HTMLModel",
      "state": {
       "layout": "IPY_MODEL_9b23dcfa62694bb7b26ea6ba7d9aa72d",
       "style": "IPY_MODEL_75a22c216b88443e9ae1884404216234",
       "value": "<h4 style=\"font-size:14px;\">Bzgl. welcher (nicht an der Oberflächensyntax ersichtlichen) Eigenschaft unterscheiden sich die PPs in den beiden Analysen?</h4>"
      }
     },
     "6dd7ebcf266b480abe91381600197136": {
      "model_module": "@jupyter-widgets/base",
      "model_module_version": "1.0.0",
      "model_name": "LayoutModel",
      "state": {}
     },
     "6ddf66b6cd444bf0b9d349c90797bf16": {
      "model_module": "@jupyter-widgets/base",
      "model_module_version": "1.0.0",
      "model_name": "LayoutModel",
      "state": {
       "width": "250px"
      }
     },
     "6de908e9a488456293fcd7ff84976e21": {
      "model_module": "@jupyter-widgets/base",
      "model_module_version": "1.0.0",
      "model_name": "LayoutModel",
      "state": {
       "width": "250px"
      }
     },
     "6df86fdbae95487d89b33d00f1fc830d": {
      "model_module": "@jupyter-widgets/base",
      "model_module_version": "1.0.0",
      "model_name": "LayoutModel",
      "state": {}
     },
     "6e1fe237e678462facfeff449a556642": {
      "model_module": "@jupyter-widgets/controls",
      "model_module_version": "1.2.0",
      "model_name": "DescriptionStyleModel",
      "state": {
       "description_width": "initial"
      }
     },
     "6e88012e15f348528521c817e197666a": {
      "model_module": "@jupyter-widgets/controls",
      "model_module_version": "1.2.0",
      "model_name": "HTMLModel",
      "state": {
       "layout": "IPY_MODEL_d824303e249f4e209849b3f0df938472",
       "style": "IPY_MODEL_3b14359e984f48b986bc3440b883282d",
       "value": "<h4 style=\"font-size:14px;\">In welcher Beziehung können Gerund und nachfolgendes Nomen stehen?</h4>"
      }
     },
     "6ec90d851f124c56bbcddae4cb5b023d": {
      "model_module": "@jupyter-widgets/controls",
      "model_module_version": "1.2.0",
      "model_name": "ButtonModel",
      "state": {
       "description": "Objekt",
       "layout": "IPY_MODEL_6d1d12aa85014fb5889139c0e5f2da68",
       "style": "IPY_MODEL_dc680ae177a74461b5ade3446f77f2f7"
      }
     },
     "6f0fea5d63f34460b257e180ba9f389d": {
      "model_module": "@jupyter-widgets/controls",
      "model_module_version": "1.2.0",
      "model_name": "HBoxModel",
      "state": {
       "children": [
        "IPY_MODEL_cc2105b8ce664b028304559e4335cc17",
        "IPY_MODEL_40925aa97ccb4d87936078da817a61d6"
       ],
       "layout": "IPY_MODEL_90921eee57f240b79d7687a2b0dbd349"
      }
     },
     "6fdd83245fd54be9ae844f4702d74895": {
      "model_module": "@jupyter-widgets/controls",
      "model_module_version": "1.2.0",
      "model_name": "DescriptionStyleModel",
      "state": {
       "description_width": "initial"
      }
     },
     "700cce7107f5491e9dbb557ab7221b13": {
      "model_module": "@jupyter-widgets/controls",
      "model_module_version": "1.2.0",
      "model_name": "CheckboxModel",
      "state": {
       "description": "syntaktische",
       "disabled": false,
       "layout": "IPY_MODEL_35b4ee73e101445d948470dca3ff8088",
       "style": "IPY_MODEL_d1f4fd3ce94a47bdac6d999934bd658b",
       "value": false
      }
     },
     "715a5918039945e3948d807791110cf6": {
      "model_module": "@jupyter-widgets/controls",
      "model_module_version": "1.2.0",
      "model_name": "DescriptionStyleModel",
      "state": {
       "description_width": "initial"
      }
     },
     "71d8576dfe9a4bb0ad3dafb5a6176b00": {
      "model_module": "@jupyter-widgets/base",
      "model_module_version": "1.0.0",
      "model_name": "LayoutModel",
      "state": {}
     },
     "7214436543fc4bca807fd5ab7b435bab": {
      "model_module": "@jupyter-widgets/controls",
      "model_module_version": "1.2.0",
      "model_name": "DescriptionStyleModel",
      "state": {
       "description_width": "initial"
      }
     },
     "726b0d64b8ab4b9496b991e1feb5f619": {
      "model_module": "@jupyter-widgets/controls",
      "model_module_version": "1.2.0",
      "model_name": "HTMLModel",
      "state": {
       "layout": "IPY_MODEL_12371d249e0743e9b15d628536c1928f",
       "style": "IPY_MODEL_1792e57e76514cb6b8ee97881fd020bc",
       "value": "<i>Markieren Sie <ins>alle</ins> passenden Antworten: </i>"
      }
     },
     "7348bfbf065f4c37b84ae3b5a4be46e5": {
      "model_module": "@jupyter-widgets/controls",
      "model_module_version": "1.2.0",
      "model_name": "ButtonModel",
      "state": {
       "description": "Wissen um Sprachstruktur",
       "layout": "IPY_MODEL_6de908e9a488456293fcd7ff84976e21",
       "style": "IPY_MODEL_c0f469ece8bd4f9d8b5daaa3e3b42789"
      }
     },
     "7396727a0ade4da7a722befb932c3bcb": {
      "model_module": "@jupyter-widgets/controls",
      "model_module_version": "1.2.0",
      "model_name": "ButtonStyleModel",
      "state": {}
     },
     "73f75c638238477fb1cd9546d544421e": {
      "model_module": "@jupyter-widgets/controls",
      "model_module_version": "1.2.0",
      "model_name": "DescriptionStyleModel",
      "state": {
       "description_width": ""
      }
     },
     "75083c11ac4b4c5e825204a18f382f2d": {
      "model_module": "@jupyter-widgets/controls",
      "model_module_version": "1.2.0",
      "model_name": "DescriptionStyleModel",
      "state": {
       "description_width": ""
      }
     },
     "753e44ee88b143f999239946730aaf37": {
      "model_module": "@jupyter-widgets/controls",
      "model_module_version": "1.2.0",
      "model_name": "ButtonModel",
      "state": {
       "description": "formale Grammatik",
       "layout": "IPY_MODEL_ed4f645706984144a70e90ab1f6ae06d",
       "style": "IPY_MODEL_3d844b668b8c43ecbeebf28752fd542a"
      }
     },
     "757c2073dbd648f7b5432b6d538a766a": {
      "model_module": "@jupyter-widgets/controls",
      "model_module_version": "1.2.0",
      "model_name": "ButtonModel",
      "state": {
       "description": "Phrasentyp",
       "layout": "IPY_MODEL_156104cf05354db69e248fc5a422ae72",
       "style": "IPY_MODEL_512cc6397f4148c5bf5446eb60186ffe"
      }
     },
     "758d2ec4c2af4c5a91bd122448d63325": {
      "model_module": "@jupyter-widgets/controls",
      "model_module_version": "1.2.0",
      "model_name": "ButtonModel",
      "state": {
       "description": "Regelbuch",
       "layout": "IPY_MODEL_3e57703d2e254aa796fd6b92c420ac85",
       "style": "IPY_MODEL_9ffa34992fa545d0820606e353893206"
      }
     },
     "7592c7952e3a4f728aa8b66378bde2be": {
      "model_module": "@jupyter-widgets/base",
      "model_module_version": "1.0.0",
      "model_name": "LayoutModel",
      "state": {
       "width": "250px"
      }
     },
     "75a22c216b88443e9ae1884404216234": {
      "model_module": "@jupyter-widgets/controls",
      "model_module_version": "1.2.0",
      "model_name": "DescriptionStyleModel",
      "state": {
       "description_width": ""
      }
     },
     "75c59b8453754541a432c95f4a81d964": {
      "model_module": "@jupyter-widgets/base",
      "model_module_version": "1.0.0",
      "model_name": "LayoutModel",
      "state": {
       "width": "250px"
      }
     },
     "7611a0c829f243b194735e245dfea540": {
      "model_module": "@jupyter-widgets/controls",
      "model_module_version": "1.2.0",
      "model_name": "HTMLModel",
      "state": {
       "layout": "IPY_MODEL_1a51bf8fe1a2417f888a27193a1ff1f6",
       "style": "IPY_MODEL_e9dcc07642ed408a844c600e69da18fe",
       "value": "<i>Markieren Sie <ins>alle</ins> passenden Antworten: </i>"
      }
     },
     "76604bac1bb34d4a879335f2fe47f5ab": {
      "model_module": "@jupyter-widgets/controls",
      "model_module_version": "1.2.0",
      "model_name": "ButtonStyleModel",
      "state": {}
     },
     "76c959c4d7f14d9a9f147b1101ece4ea": {
      "model_module": "@jupyter-widgets/base",
      "model_module_version": "1.0.0",
      "model_name": "LayoutModel",
      "state": {}
     },
     "772e59e9a2ce42eaa4fd56c39f46152e": {
      "model_module": "@jupyter-widgets/controls",
      "model_module_version": "1.2.0",
      "model_name": "ButtonStyleModel",
      "state": {}
     },
     "7751387f91c44bfe9a68f8c64069189e": {
      "model_module": "@jupyter-widgets/controls",
      "model_module_version": "1.2.0",
      "model_name": "HTMLModel",
      "state": {
       "layout": "IPY_MODEL_460bc6d9ef4a4a22a36c71fceaa795d9",
       "style": "IPY_MODEL_6dbd98ec7a974c47876179d8f514b6c0",
       "value": "<h4 style=\"font-size:14px;\">Welche Funktion im Satz nimmt das Nomen ein, wenn es Kopf der Gerund-Nomen-Phrase ist?</h4>"
      }
     },
     "77cc030fc08d41559772d995ecb185ec": {
      "model_module": "@jupyter-widgets/base",
      "model_module_version": "1.0.0",
      "model_name": "LayoutModel",
      "state": {}
     },
     "7926fd431d9b43dca92e6cfc02dafceb": {
      "model_module": "@jupyter-widgets/controls",
      "model_module_version": "1.2.0",
      "model_name": "VBoxModel",
      "state": {
       "children": [
        "IPY_MODEL_657d81ee5de54a99803bad6e8c642d85",
        "IPY_MODEL_2e3902db037148f6bef53b07c132c9e9",
        "IPY_MODEL_b0b05f005f3444f5b6076a4c25580669",
        "IPY_MODEL_f1f08530c6d4478c93339383c94519fc"
       ],
       "layout": "IPY_MODEL_fc2c57df15b04e31b3e8e62bc88321cb"
      }
     },
     "7a19c4005404498c81f1288df68169a3": {
      "model_module": "@jupyter-widgets/controls",
      "model_module_version": "1.2.0",
      "model_name": "DescriptionStyleModel",
      "state": {
       "description_width": ""
      }
     },
     "7a695efc8e6d4241bdcc811f47c77b52": {
      "model_module": "@jupyter-widgets/controls",
      "model_module_version": "1.2.0",
      "model_name": "DescriptionStyleModel",
      "state": {
       "description_width": "initial"
      }
     },
     "7a781135c3f04b78b6f16db1c42924ce": {
      "model_module": "@jupyter-widgets/controls",
      "model_module_version": "1.2.0",
      "model_name": "ButtonStyleModel",
      "state": {}
     },
     "7b197edf2e0b4ae4bdcc821726eee4cf": {
      "model_module": "@jupyter-widgets/controls",
      "model_module_version": "1.2.0",
      "model_name": "DescriptionStyleModel",
      "state": {
       "description_width": "initial"
      }
     },
     "7c3567db1e5f44c6ac059de20111b3a2": {
      "model_module": "@jupyter-widgets/base",
      "model_module_version": "1.0.0",
      "model_name": "LayoutModel",
      "state": {}
     },
     "7c899657b08341a3b66a9a32ae9e9187": {
      "model_module": "@jupyter-widgets/base",
      "model_module_version": "1.0.0",
      "model_name": "LayoutModel",
      "state": {
       "width": "150px"
      }
     },
     "7cda7f4856d3492384368f07fc2e85d6": {
      "model_module": "@jupyter-widgets/controls",
      "model_module_version": "1.2.0",
      "model_name": "HBoxModel",
      "state": {
       "children": [
        "IPY_MODEL_37cd89936d954026baa44f525a6d128f",
        "IPY_MODEL_417f60ee7c0c4966b0b5ede8247bd618"
       ],
       "layout": "IPY_MODEL_60000860e45b42e3a89b26ae7258d52f"
      }
     },
     "7dc364615896469f9adfceb1f2c9ca26": {
      "model_module": "@jupyter-widgets/controls",
      "model_module_version": "1.2.0",
      "model_name": "DescriptionStyleModel",
      "state": {
       "description_width": ""
      }
     },
     "7dc6a223e8e945f79c0805937a93d565": {
      "model_module": "@jupyter-widgets/controls",
      "model_module_version": "1.2.0",
      "model_name": "ButtonStyleModel",
      "state": {}
     },
     "7e1bf79b2d1b41c3a03135726646462d": {
      "model_module": "@jupyter-widgets/controls",
      "model_module_version": "1.2.0",
      "model_name": "HTMLModel",
      "state": {
       "layout": "IPY_MODEL_b47bd41342694038bd8531df8c314e76",
       "style": "IPY_MODEL_88aa3884d80545ab889dbbbd6be64686",
       "value": "<h4 style=\"font-size:14px;\">Welche Mittel kommen in einer formalen Syntaxanalyse zum Einsatz?</h4>"
      }
     },
     "7e2022a584d8402fa88c971d8530a21a": {
      "model_module": "@jupyter-widgets/controls",
      "model_module_version": "1.2.0",
      "model_name": "ButtonStyleModel",
      "state": {}
     },
     "7ed7d425ccc44079959ae49cb7b659d0": {
      "model_module": "@jupyter-widgets/controls",
      "model_module_version": "1.2.0",
      "model_name": "HTMLModel",
      "state": {
       "layout": "IPY_MODEL_a59053dc090346798cfba984375b49e3",
       "style": "IPY_MODEL_22e0be353f654e2193bd57dec46dc9b2",
       "value": "<i>Wählen Sie die <ins>eine</ins> korrekte Antwort aus: </i>"
      }
     },
     "7f0f55eea65344729ff82f74af579074": {
      "model_module": "@jupyter-widgets/controls",
      "model_module_version": "1.2.0",
      "model_name": "HTMLModel",
      "state": {
       "layout": "IPY_MODEL_fadc53b727514c81bcbb95ac827865af",
       "style": "IPY_MODEL_de21142c8850464a86bebf216e4612a1",
       "value": "<h4 style=\"font-size:14px;\">Welche Typen von Syntaxbäumen (auch: Parsebäume, Ableitungsbäume) wurden gezeigt?</h4>"
      }
     },
     "7f140405db064ad5a5b042227b68dd22": {
      "model_module": "@jupyter-widgets/base",
      "model_module_version": "1.0.0",
      "model_name": "LayoutModel",
      "state": {}
     },
     "7f6374f7e6114ad2a8b0158fa37fec39": {
      "model_module": "@jupyter-widgets/controls",
      "model_module_version": "1.2.0",
      "model_name": "VBoxModel",
      "state": {
       "children": [
        "IPY_MODEL_39c48a800d0f49779117a0fe9d7adada",
        "IPY_MODEL_823b03d0331c4b988f37af0f6ef60d50",
        "IPY_MODEL_f4b686a5decb4a6d880fafd72183e159",
        "IPY_MODEL_20408a28d3a94b18aaf96e0abbdab255",
        "IPY_MODEL_967b47e7dd6d4c94b5053a4b8faceded"
       ],
       "layout": "IPY_MODEL_605a4108a17a42789310cbdaac38ed63"
      }
     },
     "7f75d862944a4512acaf3dcd1cae7f92": {
      "model_module": "@jupyter-widgets/controls",
      "model_module_version": "1.2.0",
      "model_name": "ButtonStyleModel",
      "state": {}
     },
     "7f777a474ba445f2ae2e43d32ac83efe": {
      "model_module": "@jupyter-widgets/controls",
      "model_module_version": "1.2.0",
      "model_name": "HTMLModel",
      "state": {
       "layout": "IPY_MODEL_4bee44b6c1cc4f729425fbd746531328",
       "style": "IPY_MODEL_18a1aa24440b4e76aa70313d6325ee75",
       "value": "<h4 style=\"font-size:14px;\">Konstituenz ist synonym zu:</h4>"
      }
     },
     "7f8d8183195d4eaba98a4d6c691b1527": {
      "model_module": "@jupyter-widgets/controls",
      "model_module_version": "1.2.0",
      "model_name": "HTMLModel",
      "state": {
       "layout": "IPY_MODEL_06293b88cc964079b99de91d737bbabf",
       "style": "IPY_MODEL_d531ace199b143f0b86c49e3eb2f46d6",
       "value": "<i>Wählen Sie die <ins>eine</ins> korrekte Antwort aus: </i>"
      }
     },
     "7fa13f2d3f914ef1b21f7de89451bdd1": {
      "model_module": "@jupyter-widgets/controls",
      "model_module_version": "1.2.0",
      "model_name": "DescriptionStyleModel",
      "state": {
       "description_width": ""
      }
     },
     "80228ec048ac45a7b3f52558bfd2243c": {
      "model_module": "@jupyter-widgets/base",
      "model_module_version": "1.0.0",
      "model_name": "LayoutModel",
      "state": {
       "justify_content": "center"
      }
     },
     "8090b94c205446e2ba608ea2167cd332": {
      "model_module": "@jupyter-widgets/controls",
      "model_module_version": "1.2.0",
      "model_name": "ButtonModel",
      "state": {
       "description": "Klammernotation",
       "layout": "IPY_MODEL_c5a5b8fc7eab4a7aa76785d5b602cf96",
       "style": "IPY_MODEL_4d502529ddf94f279e3500799263d6fc"
      }
     },
     "8090f6538a1745439db3d227f9b8911b": {
      "model_module": "@jupyter-widgets/base",
      "model_module_version": "1.0.0",
      "model_name": "LayoutModel",
      "state": {
       "justify_content": "center"
      }
     },
     "81c73d2155dd41828edeb10e6324274c": {
      "model_module": "@jupyter-widgets/base",
      "model_module_version": "1.0.0",
      "model_name": "LayoutModel",
      "state": {
       "width": "600px"
      }
     },
     "8238bdf9a9d349e397338a550b4bec96": {
      "model_module": "@jupyter-widgets/controls",
      "model_module_version": "1.2.0",
      "model_name": "ButtonModel",
      "state": {
       "description": "strukturelle Ambiguität",
       "layout": "IPY_MODEL_96586d2150384e1d9f73dd308f6c67c1",
       "style": "IPY_MODEL_7a781135c3f04b78b6f16db1c42924ce"
      }
     },
     "823b03d0331c4b988f37af0f6ef60d50": {
      "model_module": "@jupyter-widgets/controls",
      "model_module_version": "1.2.0",
      "model_name": "HTMLModel",
      "state": {
       "layout": "IPY_MODEL_eba791abed5b44dcae7c7be93b46d4b4",
       "style": "IPY_MODEL_fcd90fd80e5f44aea9862f787d7a9ae2",
       "value": "<i>Wählen Sie die <ins>eine</ins> korrekte Antwort aus: </i>"
      }
     },
     "824a5a21d0b140adb78c74867a93e010": {
      "model_module": "@jupyter-widgets/controls",
      "model_module_version": "1.2.0",
      "model_name": "CheckboxModel",
      "state": {
       "description": "Gerund ist Kopf eines nichtfiniten Teilsatzes",
       "disabled": false,
       "layout": "IPY_MODEL_10fbc6a607e44084b5feb03f528df76f",
       "style": "IPY_MODEL_6e1fe237e678462facfeff449a556642",
       "value": false
      }
     },
     "828d3160e0fc4264a6cdceddf177e487": {
      "model_module": "@jupyter-widgets/base",
      "model_module_version": "1.0.0",
      "model_name": "LayoutModel",
      "state": {
       "width": "600px"
      }
     },
     "8297bb746a864aaf8224883b11378ad9": {
      "model_module": "@jupyter-widgets/controls",
      "model_module_version": "1.2.0",
      "model_name": "ButtonStyleModel",
      "state": {}
     },
     "82b5d648b3d04dc89106e6ac8d4ba3ab": {
      "model_module": "@jupyter-widgets/controls",
      "model_module_version": "1.2.0",
      "model_name": "CheckboxModel",
      "state": {
       "description": "semantische",
       "disabled": false,
       "layout": "IPY_MODEL_04361920d50c43f4a65daa7b34f4804c",
       "style": "IPY_MODEL_b545a69ab457453ba9ef8f6cd240b73d",
       "value": false
      }
     },
     "841ac2dbaa1d4700af7013fdd5b702e4": {
      "model_module": "@jupyter-widgets/base",
      "model_module_version": "1.0.0",
      "model_name": "LayoutModel",
      "state": {
       "width": "250px"
      }
     },
     "848fbd6ec0184d56b22c6eb61ca8d626": {
      "model_module": "@jupyter-widgets/base",
      "model_module_version": "1.0.0",
      "model_name": "LayoutModel",
      "state": {}
     },
     "84c19f7466514f779d26e189906d805e": {
      "model_module": "@jupyter-widgets/controls",
      "model_module_version": "1.2.0",
      "model_name": "DescriptionStyleModel",
      "state": {
       "description_width": ""
      }
     },
     "84c50983dab044eca95615f2e80e5279": {
      "model_module": "@jupyter-widgets/controls",
      "model_module_version": "1.2.0",
      "model_name": "DescriptionStyleModel",
      "state": {
       "description_width": ""
      }
     },
     "862dfe53b7b14849930bc56aab3d51e1": {
      "model_module": "@jupyter-widgets/controls",
      "model_module_version": "1.2.0",
      "model_name": "HTMLModel",
      "state": {
       "layout": "IPY_MODEL_612ebf8e200c4c4cb14f51881788ea65",
       "style": "IPY_MODEL_29266c7f61b24e9f8a0383280bfe1c21",
       "value": "<i>Wählen Sie die <ins>eine</ins> korrekte Antwort aus: </i>"
      }
     },
     "86b3c6273ae44890aa8bf76927f87556": {
      "model_module": "@jupyter-widgets/controls",
      "model_module_version": "1.2.0",
      "model_name": "HTMLModel",
      "state": {
       "layout": "IPY_MODEL_a7167ea495ad42378725f39639be1848",
       "style": "IPY_MODEL_84c19f7466514f779d26e189906d805e",
       "value": "<i>Markieren Sie <ins>alle</ins> passenden Antworten: </i>"
      }
     },
     "86cfcdf5859e4afbb665ab83594c2caa": {
      "model_module": "@jupyter-widgets/base",
      "model_module_version": "1.0.0",
      "model_name": "LayoutModel",
      "state": {
       "justify_content": "center"
      }
     },
     "86faf294133e482da145bf2b1745e41d": {
      "model_module": "@jupyter-widgets/controls",
      "model_module_version": "1.2.0",
      "model_name": "ButtonStyleModel",
      "state": {}
     },
     "884931a0754047529ed0ba8e5ce051e9": {
      "model_module": "@jupyter-widgets/base",
      "model_module_version": "1.0.0",
      "model_name": "LayoutModel",
      "state": {}
     },
     "88907d762fe94ee3a7dbfd27c992d4dc": {
      "model_module": "@jupyter-widgets/controls",
      "model_module_version": "1.2.0",
      "model_name": "DescriptionStyleModel",
      "state": {
       "description_width": ""
      }
     },
     "88aa3884d80545ab889dbbbd6be64686": {
      "model_module": "@jupyter-widgets/controls",
      "model_module_version": "1.2.0",
      "model_name": "DescriptionStyleModel",
      "state": {
       "description_width": ""
      }
     },
     "88c21e071d684301a0f00f470dd2d750": {
      "model_module": "@jupyter-widgets/controls",
      "model_module_version": "1.2.0",
      "model_name": "CheckboxModel",
      "state": {
       "description": "Morphemebene, Phrasenebene, Satzebene",
       "disabled": false,
       "layout": "IPY_MODEL_2ae5af58844649de88f6383ccc5389ed",
       "style": "IPY_MODEL_2b59a963fa2c4c39b095c1142a386f93",
       "value": false
      }
     },
     "88ce62dfef3c49979e9cf7cba9fc0a5c": {
      "model_module": "@jupyter-widgets/base",
      "model_module_version": "1.0.0",
      "model_name": "LayoutModel",
      "state": {
       "width": "250px"
      }
     },
     "8a285262ff024dda9445e1dc8f5b2cd8": {
      "model_module": "@jupyter-widgets/controls",
      "model_module_version": "1.2.0",
      "model_name": "ButtonStyleModel",
      "state": {}
     },
     "8a47a1dbd95f4038b8dbc6e9c6e1ee9a": {
      "model_module": "@jupyter-widgets/base",
      "model_module_version": "1.0.0",
      "model_name": "LayoutModel",
      "state": {
       "width": "600px"
      }
     },
     "8aed12741d144b889d2b52f29ea4d349": {
      "model_module": "@jupyter-widgets/base",
      "model_module_version": "1.0.0",
      "model_name": "LayoutModel",
      "state": {
       "justify_content": "center"
      }
     },
     "8aedde5171c8445f871cc99ee791813a": {
      "model_module": "@jupyter-widgets/controls",
      "model_module_version": "1.2.0",
      "model_name": "ButtonModel",
      "state": {
       "description": "Keine der anderen Möglichkeiten",
       "layout": "IPY_MODEL_030d33675c2f4ef8b65e4df50e5126bc",
       "style": "IPY_MODEL_4dfb1ee7b4f84c5fa8c6a85bf0b56662"
      }
     },
     "8b4bdb40e5d74aacbdcc86c73f7c6bdc": {
      "model_module": "@jupyter-widgets/controls",
      "model_module_version": "1.2.0",
      "model_name": "DropdownModel",
      "state": {
       "_options_labels": [
        "morphologischen",
        "phonologischen",
        "semantischen",
        "syntaktischen",
        " "
       ],
       "index": 4,
       "layout": "IPY_MODEL_7c899657b08341a3b66a9a32ae9e9187",
       "style": "IPY_MODEL_ea710506abf04e07bf478e469d41f190"
      }
     },
     "8bba91e18276469a8fb0b566ce796144": {
      "model_module": "@jupyter-widgets/controls",
      "model_module_version": "1.2.0",
      "model_name": "DescriptionStyleModel",
      "state": {
       "description_width": ""
      }
     },
     "8c1443d607bd45adbc67a0380e2ecd6e": {
      "model_module": "@jupyter-widgets/base",
      "model_module_version": "1.0.0",
      "model_name": "LayoutModel",
      "state": {}
     },
     "8cd76db643a84261bd33fcc5297e52c6": {
      "model_module": "@jupyter-widgets/base",
      "model_module_version": "1.0.0",
      "model_name": "LayoutModel",
      "state": {
       "width": "250px"
      }
     },
     "8d4190e2635d418085e821f3de222165": {
      "model_module": "@jupyter-widgets/controls",
      "model_module_version": "1.2.0",
      "model_name": "HTMLModel",
      "state": {
       "layout": "IPY_MODEL_71d8576dfe9a4bb0ad3dafb5a6176b00",
       "style": "IPY_MODEL_193e68886ab542c48132e0e793bf2c55",
       "value": "<h4 style=\"font-size:14px;\">Zu welcher Phrase kann die Präpositionalphrase \"in my pajamas\" gehören?</h4>"
      }
     },
     "8d82e03e93814983bae71b186aa8edc1": {
      "model_module": "@jupyter-widgets/controls",
      "model_module_version": "1.2.0",
      "model_name": "DescriptionStyleModel",
      "state": {
       "description_width": "initial"
      }
     },
     "8d84238e46a74a01813a95e4483f025a": {
      "model_module": "@jupyter-widgets/controls",
      "model_module_version": "1.2.0",
      "model_name": "ButtonModel",
      "state": {
       "description": "Korrekt?",
       "layout": "IPY_MODEL_0e5077e8e48b45e7be33825304e143dd",
       "style": "IPY_MODEL_c40cd27ac198424e92ce5d40c346cb49"
      }
     },
     "8e031aea6124410ea31acb763124dcf9": {
      "model_module": "@jupyter-widgets/controls",
      "model_module_version": "1.2.0",
      "model_name": "DescriptionStyleModel",
      "state": {
       "description_width": ""
      }
     },
     "8e411d1ea8314fad9de81cf8138d63de": {
      "model_module": "@jupyter-widgets/base",
      "model_module_version": "1.0.0",
      "model_name": "LayoutModel",
      "state": {
       "width": "250px"
      }
     },
     "8ee205b069654536a87e69aae7db01f9": {
      "model_module": "@jupyter-widgets/controls",
      "model_module_version": "1.2.0",
      "model_name": "ButtonModel",
      "state": {
       "description": "Regelbuch",
       "layout": "IPY_MODEL_f65a17afcfc7481e8efde585c26b95ea",
       "style": "IPY_MODEL_5f6c525c32c54740930e37571b135718"
      }
     },
     "8f8aecf4fce74f24b50e3a8e2761571c": {
      "model_module": "@jupyter-widgets/controls",
      "model_module_version": "1.2.0",
      "model_name": "ButtonModel",
      "state": {
       "description": "morphologisch ambige Formen",
       "layout": "IPY_MODEL_50d060c773d0471d902d17a38b9d7438",
       "style": "IPY_MODEL_cf0e237033274e08ac9228e8a351b95d"
      }
     },
     "8f93c31067c043b18b2bc2cf0520b6c5": {
      "model_module": "@jupyter-widgets/controls",
      "model_module_version": "1.2.0",
      "model_name": "DescriptionStyleModel",
      "state": {
       "description_width": "initial"
      }
     },
     "8f9eacc9ed804d638980886cbf34cecb": {
      "model_module": "@jupyter-widgets/base",
      "model_module_version": "1.0.0",
      "model_name": "LayoutModel",
      "state": {
       "justify_content": "center"
      }
     },
     "9048213b56814cbab97cc8d5fc63cae1": {
      "model_module": "@jupyter-widgets/controls",
      "model_module_version": "1.2.0",
      "model_name": "HTMLModel",
      "state": {
       "layout": "IPY_MODEL_b749af90c3c24c5a8308f1927697bb1d",
       "style": "IPY_MODEL_0fff01bbc129409cae8f97fda824fded",
       "value": "<i>Wählen Sie die <ins>eine</ins> korrekte Antwort aus: </i>"
      }
     },
     "90921eee57f240b79d7687a2b0dbd349": {
      "model_module": "@jupyter-widgets/base",
      "model_module_version": "1.0.0",
      "model_name": "LayoutModel",
      "state": {}
     },
     "91c2c1e6d94645d39b90af7b80626f05": {
      "model_module": "@jupyter-widgets/base",
      "model_module_version": "1.0.0",
      "model_name": "LayoutModel",
      "state": {
       "justify_content": "center"
      }
     },
     "92da909f540d47b0bcbeaad4bf2ddea6": {
      "model_module": "@jupyter-widgets/controls",
      "model_module_version": "1.2.0",
      "model_name": "CheckboxModel",
      "state": {
       "description": "Adverbialphrase",
       "disabled": false,
       "layout": "IPY_MODEL_3e1e76892f894c2d8846cc7e82257f44",
       "style": "IPY_MODEL_3e57c255a3ad46c3ac0de8580f581416",
       "value": false
      }
     },
     "93571ec7d53f4a4fbcdbde21b1c67412": {
      "model_module": "@jupyter-widgets/base",
      "model_module_version": "1.0.0",
      "model_name": "LayoutModel",
      "state": {}
     },
     "936e1fcb1827421b9f228edd23d07907": {
      "model_module": "@jupyter-widgets/base",
      "model_module_version": "1.0.0",
      "model_name": "LayoutModel",
      "state": {}
     },
     "94357312c1514bff945d75ffa94ad609": {
      "model_module": "@jupyter-widgets/controls",
      "model_module_version": "1.2.0",
      "model_name": "HTMLModel",
      "state": {
       "layout": "IPY_MODEL_bbdb0ead6c724844b8e9007dce6378ef",
       "style": "IPY_MODEL_e0190ef3e4234b1aa5d15a35fc5ab018",
       "value": "<i>Markieren Sie <ins>alle</ins> passenden Antworten: </i>"
      }
     },
     "94ddbc9069174acfb711e981cb789729": {
      "model_module": "@jupyter-widgets/base",
      "model_module_version": "1.0.0",
      "model_name": "LayoutModel",
      "state": {
       "width": "250px"
      }
     },
     "96151efdc4d240438acef4cc84e81f9e": {
      "model_module": "@jupyter-widgets/controls",
      "model_module_version": "1.2.0",
      "model_name": "DescriptionStyleModel",
      "state": {
       "description_width": "initial"
      }
     },
     "96586d2150384e1d9f73dd308f6c67c1": {
      "model_module": "@jupyter-widgets/base",
      "model_module_version": "1.0.0",
      "model_name": "LayoutModel",
      "state": {
       "width": "250px"
      }
     },
     "96637b497a9c4de2a79aaaf6410fe88f": {
      "model_module": "@jupyter-widgets/controls",
      "model_module_version": "1.2.0",
      "model_name": "HTMLModel",
      "state": {
       "layout": "IPY_MODEL_2546fe2a30dc46f5b29fdc2c8039a595",
       "style": "IPY_MODEL_1c26bf946f2045bf8b74365c847d6f69",
       "value": "<h4 style=\"font-size:14px;\">Welcher Grammatikbegriff liegt Satz 3 zugrunde?</h4>"
      }
     },
     "967b47e7dd6d4c94b5053a4b8faceded": {
      "model_module": "@jupyter-widgets/controls",
      "model_module_version": "1.2.0",
      "model_name": "HBoxModel",
      "state": {
       "children": [
        "IPY_MODEL_031881b4669c417d9334bde8be395dc5"
       ],
       "layout": "IPY_MODEL_ef38d4be22bb46c8837361ac270a076a"
      }
     },
     "969b5ce466194de3ba9c90671d2b99ba": {
      "model_module": "@jupyter-widgets/controls",
      "model_module_version": "1.2.0",
      "model_name": "ButtonModel",
      "state": {
       "description": "Theorie der Sprachstruktur",
       "layout": "IPY_MODEL_c2e734a112a549d68b3404160ea2240a",
       "style": "IPY_MODEL_f5d0cf87e68d48249e8dbf0e2a1bb30b"
      }
     },
     "98110085a5b944b0ae2495327c9182c0": {
      "model_module": "@jupyter-widgets/base",
      "model_module_version": "1.0.0",
      "model_name": "LayoutModel",
      "state": {}
     },
     "982b2f74e63b4cfaa2a811e577f775b8": {
      "model_module": "@jupyter-widgets/controls",
      "model_module_version": "1.2.0",
      "model_name": "BoxModel",
      "state": {
       "children": [
        "IPY_MODEL_6c134c7b76fd4513945567b5e0989e5f",
        "IPY_MODEL_dcccb5bb0c9b4e3e8d46f095bbfa6a11",
        "IPY_MODEL_c7b4339f66d248f3a2517b13678b1920",
        "IPY_MODEL_8b4bdb40e5d74aacbdcc86c73f7c6bdc",
        "IPY_MODEL_b49c3071b27d4e27938b76af3051c052"
       ],
       "layout": "IPY_MODEL_43a5045a8fc1464ea886059f78043f42"
      }
     },
     "98a015434eb14603971f8ddaacc1fc70": {
      "model_module": "@jupyter-widgets/controls",
      "model_module_version": "1.2.0",
      "model_name": "DescriptionStyleModel",
      "state": {
       "description_width": ""
      }
     },
     "991f24fd52614e49beba38343ad706a4": {
      "model_module": "@jupyter-widgets/controls",
      "model_module_version": "1.2.0",
      "model_name": "VBoxModel",
      "state": {
       "children": [
        "IPY_MODEL_319532e9722b4cb6be9144e1e1df4363",
        "IPY_MODEL_1d6851589eff47f2bbfeb6cfb8e103f1",
        "IPY_MODEL_e04b0add3fb844a1b744855d3a87783a"
       ],
       "layout": "IPY_MODEL_c7a0c1367d764ec6a557f479d00d541f"
      }
     },
     "99df5335ea254f7da18ecc51bb9c643b": {
      "model_module": "@jupyter-widgets/controls",
      "model_module_version": "1.2.0",
      "model_name": "HBoxModel",
      "state": {
       "children": [
        "IPY_MODEL_969b5ce466194de3ba9c90671d2b99ba",
        "IPY_MODEL_7348bfbf065f4c37b84ae3b5a4be46e5"
       ],
       "layout": "IPY_MODEL_45f4c3bc6c4b4648915025092a08f3cd"
      }
     },
     "9a1eb56d4a044d84ba024f46da471186": {
      "model_module": "@jupyter-widgets/base",
      "model_module_version": "1.0.0",
      "model_name": "LayoutModel",
      "state": {}
     },
     "9a957eccf112413eb7439b22260e44a9": {
      "model_module": "@jupyter-widgets/base",
      "model_module_version": "1.0.0",
      "model_name": "LayoutModel",
      "state": {}
     },
     "9b1828e09b9a4e8dbea7356fd14f50f1": {
      "model_module": "@jupyter-widgets/controls",
      "model_module_version": "1.2.0",
      "model_name": "VBoxModel",
      "state": {
       "children": [
        "IPY_MODEL_ac3092fc540e41e9a89caaf44f69ac4a",
        "IPY_MODEL_7f8d8183195d4eaba98a4d6c691b1527",
        "IPY_MODEL_c8a491c10e9a4cb3bb9aa55ace222002",
        "IPY_MODEL_052de710f01d4f53a8bbe5ff0f786857"
       ],
       "layout": "IPY_MODEL_3c3cdd6988aa42c3b5a5ea7ee916e8a9"
      }
     },
     "9b23dcfa62694bb7b26ea6ba7d9aa72d": {
      "model_module": "@jupyter-widgets/base",
      "model_module_version": "1.0.0",
      "model_name": "LayoutModel",
      "state": {
       "justify_content": "center"
      }
     },
     "9b4aba59c3f14532896cb6cd1848cb3a": {
      "model_module": "@jupyter-widgets/base",
      "model_module_version": "1.0.0",
      "model_name": "LayoutModel",
      "state": {}
     },
     "9b9d86565a1244868b1f9a3ef16df65b": {
      "model_module": "@jupyter-widgets/controls",
      "model_module_version": "1.2.0",
      "model_name": "CheckboxModel",
      "state": {
       "description": "Nomen ist Dependent einer NP-Phrase",
       "disabled": false,
       "layout": "IPY_MODEL_b863df5deff4447284d4b10c0c487b7f",
       "style": "IPY_MODEL_8f93c31067c043b18b2bc2cf0520b6c5",
       "value": false
      }
     },
     "9c0979da5dc64d489c24a15dec4564e2": {
      "model_module": "@jupyter-widgets/controls",
      "model_module_version": "1.2.0",
      "model_name": "ButtonStyleModel",
      "state": {}
     },
     "9c27b0f5d1434c889bfc462aeb1bf250": {
      "model_module": "@jupyter-widgets/controls",
      "model_module_version": "1.2.0",
      "model_name": "VBoxModel",
      "state": {
       "children": [
        "IPY_MODEL_92da909f540d47b0bcbeaad4bf2ddea6",
        "IPY_MODEL_af1b8a8c6e6f49d187e9586fb22ad6f7",
        "IPY_MODEL_279115e0a3a647c482b376853081fa15",
        "IPY_MODEL_094b368f9a424ad1aa9277fb045ee84c",
        "IPY_MODEL_566213c9fbc64e9a8856be6f5368d83e"
       ],
       "layout": "IPY_MODEL_77cc030fc08d41559772d995ecb185ec"
      }
     },
     "9c6712167ef3432abee95b87cfa07844": {
      "model_module": "@jupyter-widgets/base",
      "model_module_version": "1.0.0",
      "model_name": "LayoutModel",
      "state": {}
     },
     "9cc60a18e9f04651b615f7544c31aef8": {
      "model_module": "@jupyter-widgets/controls",
      "model_module_version": "1.2.0",
      "model_name": "ButtonStyleModel",
      "state": {}
     },
     "9d48bdee7a6a495eaae1ce8b59cfbb9e": {
      "model_module": "@jupyter-widgets/base",
      "model_module_version": "1.0.0",
      "model_name": "LayoutModel",
      "state": {
       "width": "600px"
      }
     },
     "9d8799cb16c743ca92092b750b5430c2": {
      "model_module": "@jupyter-widgets/controls",
      "model_module_version": "1.2.0",
      "model_name": "DescriptionStyleModel",
      "state": {
       "description_width": ""
      }
     },
     "9eabe1f92c4b40e6ac73607ab09a98b8": {
      "model_module": "@jupyter-widgets/controls",
      "model_module_version": "1.2.0",
      "model_name": "HTMLModel",
      "state": {
       "layout": "IPY_MODEL_bf1be74546cf48fcbea9e8060bffa82d",
       "style": "IPY_MODEL_59276e9e284149c1bc250234e239ad10",
       "value": "<i>Wählen Sie die <ins>eine</ins> korrekte Antwort aus: </i>"
      }
     },
     "9f216f7577e746af922e5dd76bbbf95a": {
      "model_module": "@jupyter-widgets/controls",
      "model_module_version": "1.2.0",
      "model_name": "VBoxModel",
      "state": {
       "children": [
        "IPY_MODEL_824a5a21d0b140adb78c74867a93e010",
        "IPY_MODEL_9b9d86565a1244868b1f9a3ef16df65b",
        "IPY_MODEL_1b25b7ad796748ac8895f4db250895bf",
        "IPY_MODEL_c59986b30cab4180af56bc56265729e7"
       ],
       "layout": "IPY_MODEL_a869065575c7436f8a7bd629e182ebb5"
      }
     },
     "9f3f29ecb19044d1acedc0c8dd559f9c": {
      "model_module": "@jupyter-widgets/base",
      "model_module_version": "1.0.0",
      "model_name": "LayoutModel",
      "state": {}
     },
     "9ffa34992fa545d0820606e353893206": {
      "model_module": "@jupyter-widgets/controls",
      "model_module_version": "1.2.0",
      "model_name": "ButtonStyleModel",
      "state": {}
     },
     "a09bdcb16bf1464994a208149d6900f1": {
      "model_module": "@jupyter-widgets/base",
      "model_module_version": "1.0.0",
      "model_name": "LayoutModel",
      "state": {
       "width": "250px"
      }
     },
     "a0e0dcfc19b54ffcb6e24de473a6457c": {
      "model_module": "@jupyter-widgets/base",
      "model_module_version": "1.0.0",
      "model_name": "LayoutModel",
      "state": {
       "width": "250px"
      }
     },
     "a0e1115fb8884e1d9db73be04bb90615": {
      "model_module": "@jupyter-widgets/controls",
      "model_module_version": "1.2.0",
      "model_name": "ButtonStyleModel",
      "state": {}
     },
     "a110a5d07b3542deb276f89f66086b0d": {
      "model_module": "@jupyter-widgets/controls",
      "model_module_version": "1.2.0",
      "model_name": "DescriptionStyleModel",
      "state": {
       "description_width": ""
      }
     },
     "a117ea729a2f4488a9b0f3034b140423": {
      "model_module": "@jupyter-widgets/controls",
      "model_module_version": "1.2.0",
      "model_name": "HBoxModel",
      "state": {
       "children": [
        "IPY_MODEL_4fa2f8979b3941178ca3f75860bb6b42",
        "IPY_MODEL_a5aaf5e80417418f8d58a52cde45eb4a"
       ],
       "layout": "IPY_MODEL_af7b8d686f6846b39bdc6749ee0af50e"
      }
     },
     "a11da92981d14f3cbfab5b48714c0f4e": {
      "model_module": "@jupyter-widgets/base",
      "model_module_version": "1.0.0",
      "model_name": "LayoutModel",
      "state": {}
     },
     "a22c9095316e4ae9be514edbb59e0295": {
      "model_module": "@jupyter-widgets/controls",
      "model_module_version": "1.2.0",
      "model_name": "VBoxModel",
      "state": {
       "children": [
        "IPY_MODEL_b3f85d6683cf44bf832d97c28aa73d77",
        "IPY_MODEL_88c21e071d684301a0f00f470dd2d750",
        "IPY_MODEL_560264764ae5476e8f1ab65efb69f1b3"
       ],
       "layout": "IPY_MODEL_2b9af090d61d4ab6a2ed9a53d76592b4"
      }
     },
     "a299d515ebcf456ca41d0be2c847d74c": {
      "model_module": "@jupyter-widgets/base",
      "model_module_version": "1.0.0",
      "model_name": "LayoutModel",
      "state": {
       "justify_content": "center"
      }
     },
     "a35477260d7d4ad29715ba50106c54f4": {
      "model_module": "@jupyter-widgets/base",
      "model_module_version": "1.0.0",
      "model_name": "LayoutModel",
      "state": {}
     },
     "a35da3f2d1bb44f398e9b4837aa2fb90": {
      "model_module": "@jupyter-widgets/controls",
      "model_module_version": "1.2.0",
      "model_name": "ButtonModel",
      "state": {
       "description": "Keine der anderen Möglichkeiten",
       "layout": "IPY_MODEL_75c59b8453754541a432c95f4a81d964",
       "style": "IPY_MODEL_4698d5476eea473ea65c1d68a3b12b82"
      }
     },
     "a3748e3a672a4629871b647ca84c1c88": {
      "model_module": "@jupyter-widgets/base",
      "model_module_version": "1.0.0",
      "model_name": "LayoutModel",
      "state": {}
     },
     "a438c5527bfb40e0ac4aa4a7e4f74f11": {
      "model_module": "@jupyter-widgets/controls",
      "model_module_version": "1.2.0",
      "model_name": "DescriptionStyleModel",
      "state": {
       "description_width": ""
      }
     },
     "a45079fdd2fa4a3aaa52b61d8dfabd24": {
      "model_module": "@jupyter-widgets/controls",
      "model_module_version": "1.2.0",
      "model_name": "HTMLModel",
      "state": {
       "layout": "IPY_MODEL_f78ae04bb01c4218883d5cc52055c740",
       "style": "IPY_MODEL_73f75c638238477fb1cd9546d544421e",
       "value": "<i>Wählen Sie die <ins>eine</ins> korrekte Antwort aus: </i>"
      }
     },
     "a56ae62170b6473e8c5c05eae9ad6cec": {
      "model_module": "@jupyter-widgets/controls",
      "model_module_version": "1.2.0",
      "model_name": "HBoxModel",
      "state": {
       "children": [
        "IPY_MODEL_758d2ec4c2af4c5a91bd122448d63325",
        "IPY_MODEL_0edcafe6349b4fa689ffad37471040bf"
       ],
       "layout": "IPY_MODEL_b3c79b1fa1174dd08196cf8a1216ebdf"
      }
     },
     "a59053dc090346798cfba984375b49e3": {
      "model_module": "@jupyter-widgets/base",
      "model_module_version": "1.0.0",
      "model_name": "LayoutModel",
      "state": {
       "justify_content": "center"
      }
     },
     "a5aaf5e80417418f8d58a52cde45eb4a": {
      "model_module": "@jupyter-widgets/controls",
      "model_module_version": "1.2.0",
      "model_name": "ButtonModel",
      "state": {
       "description": "Keine der anderen Möglichkeiten",
       "layout": "IPY_MODEL_337c260e24a14356b477ddbccf2c5df4",
       "style": "IPY_MODEL_e752bb9f0240455793fdc8bead1e8cc1"
      }
     },
     "a5dbe4df7ebb499ab7495b6cd3882343": {
      "model_module": "@jupyter-widgets/controls",
      "model_module_version": "1.2.0",
      "model_name": "DescriptionStyleModel",
      "state": {
       "description_width": ""
      }
     },
     "a5dec6828592468cbe657d79512649d8": {
      "model_module": "@jupyter-widgets/controls",
      "model_module_version": "1.2.0",
      "model_name": "ButtonStyleModel",
      "state": {}
     },
     "a63743621e424e10baa396e66d2b64a5": {
      "model_module": "@jupyter-widgets/controls",
      "model_module_version": "1.2.0",
      "model_name": "ButtonStyleModel",
      "state": {}
     },
     "a66bd9fc6a7c4af48da3615a06b6cbfc": {
      "model_module": "@jupyter-widgets/base",
      "model_module_version": "1.0.0",
      "model_name": "LayoutModel",
      "state": {}
     },
     "a7167ea495ad42378725f39639be1848": {
      "model_module": "@jupyter-widgets/base",
      "model_module_version": "1.0.0",
      "model_name": "LayoutModel",
      "state": {
       "justify_content": "center"
      }
     },
     "a71b174688b4468b8cc5793869927ff1": {
      "model_module": "@jupyter-widgets/controls",
      "model_module_version": "1.2.0",
      "model_name": "DescriptionStyleModel",
      "state": {
       "description_width": "initial"
      }
     },
     "a7319ddc7281402cb864a6915a507209": {
      "model_module": "@jupyter-widgets/controls",
      "model_module_version": "1.2.0",
      "model_name": "HTMLModel",
      "state": {
       "layout": "IPY_MODEL_f6c3e92caae9428ebbb3c28fc3cf540f",
       "style": "IPY_MODEL_cd0d84ef6a6a487eae8624c824afd70e",
       "value": "<i>Wählen Sie die <ins>eine</ins> korrekte Antwort aus: </i>"
      }
     },
     "a737cfa7ba6a492da0a5b5c70556467d": {
      "model_module": "@jupyter-widgets/controls",
      "model_module_version": "1.2.0",
      "model_name": "ButtonModel",
      "state": {
       "description": "Klammernotation",
       "layout": "IPY_MODEL_a77ead46f56549e6b4e590b82b5a1feb",
       "style": "IPY_MODEL_e9e7739fa329498ca1903c12a9023525"
      }
     },
     "a77ead46f56549e6b4e590b82b5a1feb": {
      "model_module": "@jupyter-widgets/base",
      "model_module_version": "1.0.0",
      "model_name": "LayoutModel",
      "state": {
       "width": "250px"
      }
     },
     "a7b9155f55254cde9ad1f4a5507ad8bd": {
      "model_module": "@jupyter-widgets/controls",
      "model_module_version": "1.2.0",
      "model_name": "HBoxModel",
      "state": {
       "children": [
        "IPY_MODEL_4f312e98807f463a93d35cfbddf0a5b1"
       ],
       "layout": "IPY_MODEL_29b268c2eede4510a8223cbcced0592a"
      }
     },
     "a7e45d8f29834c2c91640d170c6bfe66": {
      "model_module": "@jupyter-widgets/controls",
      "model_module_version": "1.2.0",
      "model_name": "ButtonStyleModel",
      "state": {}
     },
     "a8149c90a2e540a0a974d5d1a29dfccc": {
      "model_module": "@jupyter-widgets/controls",
      "model_module_version": "1.2.0",
      "model_name": "ButtonStyleModel",
      "state": {}
     },
     "a846524c6f3f48cb8bccf7a493dc454c": {
      "model_module": "@jupyter-widgets/controls",
      "model_module_version": "1.2.0",
      "model_name": "VBoxModel",
      "state": {
       "children": [
        "IPY_MODEL_6e88012e15f348528521c817e197666a",
        "IPY_MODEL_df12601f4b0747b0bf240d1669287deb",
        "IPY_MODEL_9f216f7577e746af922e5dd76bbbf95a",
        "IPY_MODEL_2bd9a6efaf9a42ddbcf14e3338d9ed43"
       ],
       "layout": "IPY_MODEL_9f3f29ecb19044d1acedc0c8dd559f9c"
      }
     },
     "a869065575c7436f8a7bd629e182ebb5": {
      "model_module": "@jupyter-widgets/base",
      "model_module_version": "1.0.0",
      "model_name": "LayoutModel",
      "state": {}
     },
     "a89a489c9aa94e4abfaebc1cf52d2c4e": {
      "model_module": "@jupyter-widgets/base",
      "model_module_version": "1.0.0",
      "model_name": "LayoutModel",
      "state": {
       "width": "250px"
      }
     },
     "a936ffc6b7a9497fb661443083b6d121": {
      "model_module": "@jupyter-widgets/controls",
      "model_module_version": "1.2.0",
      "model_name": "HTMLModel",
      "state": {
       "layout": "IPY_MODEL_5e91488577a94d55b1da8f1dc04a55ca",
       "style": "IPY_MODEL_46ad54189cf14a7985d4534ceb5a5373",
       "value": "<h4 style=\"font-size:14px;\">Welche Vorteile hat die Modellierung der Satzstruktur mit Hilfe einer formalen Grammatik?</h4>"
      }
     },
     "a9881a56d46f44ca8c8bcb2b82090876": {
      "model_module": "@jupyter-widgets/controls",
      "model_module_version": "1.2.0",
      "model_name": "VBoxModel",
      "state": {
       "children": [
        "IPY_MODEL_7751387f91c44bfe9a68f8c64069189e",
        "IPY_MODEL_4f9af5b86cd7477a83a7fd99dfd45f69",
        "IPY_MODEL_adc2d74062a749f7a27097e631aba47c"
       ],
       "layout": "IPY_MODEL_209b25031e8f4e37a9706b090555c03e"
      }
     },
     "aa4a914678da442d9842ca2197852034": {
      "model_module": "@jupyter-widgets/controls",
      "model_module_version": "1.2.0",
      "model_name": "DescriptionStyleModel",
      "state": {
       "description_width": "initial"
      }
     },
     "aa8cbb93bb7843ba8da989ce0a1377c9": {
      "model_module": "@jupyter-widgets/controls",
      "model_module_version": "1.2.0",
      "model_name": "HTMLModel",
      "state": {
       "layout": "IPY_MODEL_cc57d2678758467f8ac0e43436c850cb",
       "style": "IPY_MODEL_36a199d7ef624caa93cf5ba517e596c4",
       "value": "<h4 style=\"font-size:14px;\">Was ist der Fall, wenn die PP ein Adverbial ist?</h4>"
      }
     },
     "ab5f7294d3154cc7aced771d7d423489": {
      "model_module": "@jupyter-widgets/base",
      "model_module_version": "1.0.0",
      "model_name": "LayoutModel",
      "state": {
       "width": "250px"
      }
     },
     "ab696d9a9fa54faaa1dc8cc56eb66b2a": {
      "model_module": "@jupyter-widgets/base",
      "model_module_version": "1.0.0",
      "model_name": "LayoutModel",
      "state": {}
     },
     "ab9058321d564c6a90194ccc50f3a81b": {
      "model_module": "@jupyter-widgets/base",
      "model_module_version": "1.0.0",
      "model_name": "LayoutModel",
      "state": {
       "width": "250px"
      }
     },
     "ac04b64cfcb44f97abfa589557371712": {
      "model_module": "@jupyter-widgets/base",
      "model_module_version": "1.0.0",
      "model_name": "LayoutModel",
      "state": {
       "justify_content": "center"
      }
     },
     "ac3092fc540e41e9a89caaf44f69ac4a": {
      "model_module": "@jupyter-widgets/controls",
      "model_module_version": "1.2.0",
      "model_name": "HTMLModel",
      "state": {
       "layout": "IPY_MODEL_5679e39fe6e6407bbdbafec8692ad026",
       "style": "IPY_MODEL_e5a0fbe40e2a4c05acc57f6bd34a6817",
       "value": "<h4 style=\"font-size:14px;\">In welcher Form wird die syntaktische Struktur eines Satzes beim Aufruf von NLTK print(tree) erstellt?</h4>"
      }
     },
     "accd6538962a42a0aa4c668eca2353fa": {
      "model_module": "@jupyter-widgets/controls",
      "model_module_version": "1.2.0",
      "model_name": "ButtonModel",
      "state": {
       "description": "Objekt",
       "layout": "IPY_MODEL_88ce62dfef3c49979e9cf7cba9fc0a5c",
       "style": "IPY_MODEL_d5e6d574ebb840c399a32f0c1f0c393d"
      }
     },
     "adc2d74062a749f7a27097e631aba47c": {
      "model_module": "@jupyter-widgets/controls",
      "model_module_version": "1.2.0",
      "model_name": "HBoxModel",
      "state": {
       "children": [
        "IPY_MODEL_accd6538962a42a0aa4c668eca2353fa",
        "IPY_MODEL_624e353748da4ba6961f8996b830d6cb"
       ],
       "layout": "IPY_MODEL_e13c5d685bf64b2bbe0b4ea7feb36390"
      }
     },
     "ae4e23f0f7c14439a23d10090cbdbe0d": {
      "model_module": "@jupyter-widgets/controls",
      "model_module_version": "1.2.0",
      "model_name": "HBoxModel",
      "state": {
       "children": [
        "IPY_MODEL_d468c0c8366a47be8b06b02dc063485d",
        "IPY_MODEL_8090b94c205446e2ba608ea2167cd332"
       ],
       "layout": "IPY_MODEL_a11da92981d14f3cbfab5b48714c0f4e"
      }
     },
     "ae72fda4a7174915a11a0d21bb7975c3": {
      "model_module": "@jupyter-widgets/controls",
      "model_module_version": "1.2.0",
      "model_name": "VBoxModel",
      "state": {
       "children": [
        "IPY_MODEL_529551332abd4181aea258f08ebe987b",
        "IPY_MODEL_c9904f341ec94d5983f5b297a3bfeed6",
        "IPY_MODEL_350b9640db6545dcb7a27b81204bb384",
        "IPY_MODEL_3f544bfbe1e34cc48ed598f5b4e7da71"
       ],
       "layout": "IPY_MODEL_9b4aba59c3f14532896cb6cd1848cb3a"
      }
     },
     "af1b8a8c6e6f49d187e9586fb22ad6f7": {
      "model_module": "@jupyter-widgets/controls",
      "model_module_version": "1.2.0",
      "model_name": "CheckboxModel",
      "state": {
       "description": "Attributphrase",
       "disabled": false,
       "layout": "IPY_MODEL_9d48bdee7a6a495eaae1ce8b59cfbb9e",
       "style": "IPY_MODEL_d51b11f118c341cab7deb611b965d119",
       "value": false
      }
     },
     "af5a0bc7b08843e6b19ea0c8ffd96299": {
      "model_module": "@jupyter-widgets/controls",
      "model_module_version": "1.2.0",
      "model_name": "ButtonStyleModel",
      "state": {}
     },
     "af7b8d686f6846b39bdc6749ee0af50e": {
      "model_module": "@jupyter-widgets/base",
      "model_module_version": "1.0.0",
      "model_name": "LayoutModel",
      "state": {}
     },
     "b099cf1e8525451b96883aeaf569d177": {
      "model_module": "@jupyter-widgets/controls",
      "model_module_version": "1.2.0",
      "model_name": "ButtonModel",
      "state": {
       "description": "Phrasenstruktur",
       "layout": "IPY_MODEL_ec23a57a9a4d47f496475796a547ad51",
       "style": "IPY_MODEL_514752b6940844b0b05f9e449da81986"
      }
     },
     "b0b05f005f3444f5b6076a4c25580669": {
      "model_module": "@jupyter-widgets/controls",
      "model_module_version": "1.2.0",
      "model_name": "HBoxModel",
      "state": {
       "children": [
        "IPY_MODEL_4e42d07e99ed4b449b6a257fa7b75592",
        "IPY_MODEL_8238bdf9a9d349e397338a550b4bec96"
       ],
       "layout": "IPY_MODEL_f368178678c246ca8bf2032acc1818dc"
      }
     },
     "b13c4d1851464b928096afbe3d728e8f": {
      "model_module": "@jupyter-widgets/controls",
      "model_module_version": "1.2.0",
      "model_name": "HBoxModel",
      "state": {
       "children": [
        "IPY_MODEL_6265ecb5b96d40f6b52d090eeec895be"
       ],
       "layout": "IPY_MODEL_d3c436113df346e9ab2680a172e48284"
      }
     },
     "b2df974be4bc4f58847d0a754e6f9f1f": {
      "model_module": "@jupyter-widgets/controls",
      "model_module_version": "1.2.0",
      "model_name": "ButtonStyleModel",
      "state": {}
     },
     "b3c79b1fa1174dd08196cf8a1216ebdf": {
      "model_module": "@jupyter-widgets/base",
      "model_module_version": "1.0.0",
      "model_name": "LayoutModel",
      "state": {}
     },
     "b3f85d6683cf44bf832d97c28aa73d77": {
      "model_module": "@jupyter-widgets/controls",
      "model_module_version": "1.2.0",
      "model_name": "CheckboxModel",
      "state": {
       "description": "Lautebene, Wortebene, Satzebene",
       "disabled": false,
       "layout": "IPY_MODEL_03e3dc2ceb6b480187ebae773c6c6f72",
       "style": "IPY_MODEL_680c961b08de48f483c589d3216cfd50",
       "value": false
      }
     },
     "b47170f5c39249e4ae9a38737398bc5d": {
      "model_module": "@jupyter-widgets/base",
      "model_module_version": "1.0.0",
      "model_name": "LayoutModel",
      "state": {
       "width": "250px"
      }
     },
     "b47bd41342694038bd8531df8c314e76": {
      "model_module": "@jupyter-widgets/base",
      "model_module_version": "1.0.0",
      "model_name": "LayoutModel",
      "state": {
       "justify_content": "center"
      }
     },
     "b4832569d7f74c329bb9411da9569f9d": {
      "model_module": "@jupyter-widgets/base",
      "model_module_version": "1.0.0",
      "model_name": "LayoutModel",
      "state": {}
     },
     "b4855c7c1a3449b9885f84c6e492ee38": {
      "model_module": "@jupyter-widgets/controls",
      "model_module_version": "1.2.0",
      "model_name": "ButtonModel",
      "state": {
       "description": "Korrekt?",
       "layout": "IPY_MODEL_e528d4b4b1f644f69c295e7d708bf25b",
       "style": "IPY_MODEL_a63743621e424e10baa396e66d2b64a5"
      }
     },
     "b49c3071b27d4e27938b76af3051c052": {
      "model_module": "@jupyter-widgets/controls",
      "model_module_version": "1.2.0",
      "model_name": "HTMLModel",
      "state": {
       "layout": "IPY_MODEL_d4fb0179a7614fc1a6fd74b3a816ceef",
       "style": "IPY_MODEL_4c30edbbfebd48f5af2981d7385528cf",
       "value": "<h4 style=\"font-size:14px;\">Regularitäten bezieht.</h4>"
      }
     },
     "b545a69ab457453ba9ef8f6cd240b73d": {
      "model_module": "@jupyter-widgets/controls",
      "model_module_version": "1.2.0",
      "model_name": "DescriptionStyleModel",
      "state": {
       "description_width": "initial"
      }
     },
     "b5a30694ee124601ab4a1a8a1750d475": {
      "model_module": "@jupyter-widgets/controls",
      "model_module_version": "1.2.0",
      "model_name": "ButtonModel",
      "state": {
       "description": "Subjekt",
       "layout": "IPY_MODEL_6ddf66b6cd444bf0b9d349c90797bf16",
       "style": "IPY_MODEL_e905e2fb4e70483b9d5f65dc790f7b1b"
      }
     },
     "b6371ae5ba88416486b5071b37fc0696": {
      "model_module": "@jupyter-widgets/controls",
      "model_module_version": "1.2.0",
      "model_name": "ButtonStyleModel",
      "state": {}
     },
     "b749af90c3c24c5a8308f1927697bb1d": {
      "model_module": "@jupyter-widgets/base",
      "model_module_version": "1.0.0",
      "model_name": "LayoutModel",
      "state": {
       "justify_content": "center"
      }
     },
     "b7c80ea12eb444088b013598b5570963": {
      "model_module": "@jupyter-widgets/base",
      "model_module_version": "1.0.0",
      "model_name": "LayoutModel",
      "state": {
       "width": "250px"
      }
     },
     "b7e0ad7c73ba4a0fa9b97bf7ccfaa9d1": {
      "model_module": "@jupyter-widgets/controls",
      "model_module_version": "1.2.0",
      "model_name": "ButtonModel",
      "state": {
       "description": "Abhängigkeitsstruktur",
       "layout": "IPY_MODEL_12b6c39b4b9547cb885d3a74a6c6b61b",
       "style": "IPY_MODEL_a5dec6828592468cbe657d79512649d8"
      }
     },
     "b863df5deff4447284d4b10c0c487b7f": {
      "model_module": "@jupyter-widgets/base",
      "model_module_version": "1.0.0",
      "model_name": "LayoutModel",
      "state": {
       "width": "600px"
      }
     },
     "b89219406be54c7e957cacaf944fcbbe": {
      "model_module": "@jupyter-widgets/base",
      "model_module_version": "1.0.0",
      "model_name": "LayoutModel",
      "state": {
       "width": "600px"
      }
     },
     "b892faa45c7044e9ba86f11c40944569": {
      "model_module": "@jupyter-widgets/controls",
      "model_module_version": "1.2.0",
      "model_name": "CheckboxModel",
      "state": {
       "description": "Eine unendliche Menge an Sätzen kann mit endlichen Mitteln beschrieben werden.",
       "disabled": false,
       "layout": "IPY_MODEL_dd101dd8954d4d76a76fb6d4df0a0405",
       "style": "IPY_MODEL_6ca93f6b964045c3ba1c44b5e983f756",
       "value": false
      }
     },
     "b9037b0fe52344ca84d016455dda7652": {
      "model_module": "@jupyter-widgets/controls",
      "model_module_version": "1.2.0",
      "model_name": "ButtonModel",
      "state": {
       "description": "Wissen um Sprachstruktur",
       "layout": "IPY_MODEL_458476d605b446a0b9fd6aab34ee39fb",
       "style": "IPY_MODEL_8297bb746a864aaf8224883b11378ad9"
      }
     },
     "b9adb7c593214b208e86d0d4baef18bd": {
      "model_module": "@jupyter-widgets/controls",
      "model_module_version": "1.2.0",
      "model_name": "DescriptionStyleModel",
      "state": {
       "description_width": ""
      }
     },
     "ba2799ce05e747d888fed4c05a951823": {
      "model_module": "@jupyter-widgets/controls",
      "model_module_version": "1.2.0",
      "model_name": "ButtonModel",
      "state": {
       "description": "Korrekt?",
       "layout": "IPY_MODEL_b7c80ea12eb444088b013598b5570963",
       "style": "IPY_MODEL_af5a0bc7b08843e6b19ea0c8ffd96299"
      }
     },
     "ba3471e7319c4988b91092455a229ef0": {
      "model_module": "@jupyter-widgets/base",
      "model_module_version": "1.0.0",
      "model_name": "LayoutModel",
      "state": {
       "width": "250px"
      }
     },
     "ba6512ac022946878bee02f459b678b8": {
      "model_module": "@jupyter-widgets/base",
      "model_module_version": "1.0.0",
      "model_name": "LayoutModel",
      "state": {
       "justify_content": "center"
      }
     },
     "bbdb0ead6c724844b8e9007dce6378ef": {
      "model_module": "@jupyter-widgets/base",
      "model_module_version": "1.0.0",
      "model_name": "LayoutModel",
      "state": {
       "justify_content": "center"
      }
     },
     "bbef5d243f1f4f04aceb5a6c72fdd44d": {
      "model_module": "@jupyter-widgets/base",
      "model_module_version": "1.0.0",
      "model_name": "LayoutModel",
      "state": {
       "width": "250px"
      }
     },
     "bca2a101f1bd4069bd094d102a729c99": {
      "model_module": "@jupyter-widgets/controls",
      "model_module_version": "1.2.0",
      "model_name": "HTMLModel",
      "state": {
       "layout": "IPY_MODEL_02bfac78201044c5afe62773fef42122",
       "style": "IPY_MODEL_d1095d9166134311af62281697d2327c",
       "value": "<i>Markieren Sie <ins>alle</ins> passenden Antworten: </i>"
      }
     },
     "bd2d393983774fe8a8df39d833a4a18c": {
      "model_module": "@jupyter-widgets/base",
      "model_module_version": "1.0.0",
      "model_name": "LayoutModel",
      "state": {}
     },
     "bd73b6d41eca4caf81776ec4dd655b09": {
      "model_module": "@jupyter-widgets/controls",
      "model_module_version": "1.2.0",
      "model_name": "ButtonModel",
      "state": {
       "description": "Korrekt?",
       "layout": "IPY_MODEL_bbef5d243f1f4f04aceb5a6c72fdd44d",
       "style": "IPY_MODEL_cd2c00872109401680e343741306067f"
      }
     },
     "bdefd2bb995f4994bd3f32c5ba65cd61": {
      "model_module": "@jupyter-widgets/controls",
      "model_module_version": "1.2.0",
      "model_name": "DescriptionStyleModel",
      "state": {
       "description_width": ""
      }
     },
     "be910d55b3eb483e898750b0eb7f489e": {
      "model_module": "@jupyter-widgets/controls",
      "model_module_version": "1.2.0",
      "model_name": "ButtonStyleModel",
      "state": {}
     },
     "bed74f6cc61e4c088af3bf80b4a548ad": {
      "model_module": "@jupyter-widgets/controls",
      "model_module_version": "1.2.0",
      "model_name": "ButtonModel",
      "state": {
       "description": "Korrekt?",
       "layout": "IPY_MODEL_0954224ed07241ca86a25e7e2ffe4606",
       "style": "IPY_MODEL_cbc6fc9a5754472c8c45805197aef478"
      }
     },
     "bf1be74546cf48fcbea9e8060bffa82d": {
      "model_module": "@jupyter-widgets/base",
      "model_module_version": "1.0.0",
      "model_name": "LayoutModel",
      "state": {
       "justify_content": "center"
      }
     },
     "c08ff3ffdc6e4322a73bdccf944ce709": {
      "model_module": "@jupyter-widgets/controls",
      "model_module_version": "1.2.0",
      "model_name": "DescriptionStyleModel",
      "state": {
       "description_width": "initial"
      }
     },
     "c0b970a4df274fd6b95c7c48b696b57e": {
      "model_module": "@jupyter-widgets/controls",
      "model_module_version": "1.2.0",
      "model_name": "VBoxModel",
      "state": {
       "children": [
        "IPY_MODEL_62de141e78f44e0fbe9666c6cf16c6e7",
        "IPY_MODEL_86b3c6273ae44890aa8bf76927f87556",
        "IPY_MODEL_f0ec253ab5334fb39d4451900f51f49c",
        "IPY_MODEL_4bee382ca2e04ae2b89c8835f6a31e0c"
       ],
       "layout": "IPY_MODEL_1da591de77cc4fb7bf99a403e1c0f9e5"
      }
     },
     "c0f469ece8bd4f9d8b5daaa3e3b42789": {
      "model_module": "@jupyter-widgets/controls",
      "model_module_version": "1.2.0",
      "model_name": "ButtonStyleModel",
      "state": {}
     },
     "c25c9aab172e4ec28d33f6763a185b2b": {
      "model_module": "@jupyter-widgets/controls",
      "model_module_version": "1.2.0",
      "model_name": "CheckboxModel",
      "state": {
       "description": "Korrektheit",
       "disabled": false,
       "layout": "IPY_MODEL_14b64ca1b3b34bac9c481813647bd8f7",
       "style": "IPY_MODEL_c471817de2584f47a09d62b3ee1e697a",
       "value": false
      }
     },
     "c2e3c6dbd0cb4ea193d048b8a9ef38db": {
      "model_module": "@jupyter-widgets/controls",
      "model_module_version": "1.2.0",
      "model_name": "VBoxModel",
      "state": {
       "children": [
        "IPY_MODEL_34ebfd604c0d4f4dbda757b6422e0cf9",
        "IPY_MODEL_c81f26ee26884b0ab3062e267e27303c",
        "IPY_MODEL_a22c9095316e4ae9be514edbb59e0295",
        "IPY_MODEL_bed74f6cc61e4c088af3bf80b4a548ad"
       ],
       "layout": "IPY_MODEL_98110085a5b944b0ae2495327c9182c0"
      }
     },
     "c2e734a112a549d68b3404160ea2240a": {
      "model_module": "@jupyter-widgets/base",
      "model_module_version": "1.0.0",
      "model_name": "LayoutModel",
      "state": {
       "width": "250px"
      }
     },
     "c38220c06b944538a8abdcb86b684e81": {
      "model_module": "@jupyter-widgets/controls",
      "model_module_version": "1.2.0",
      "model_name": "ButtonModel",
      "state": {
       "description": "Korrekt?",
       "layout": "IPY_MODEL_cccbda40bddf4910a3ac2b31cb90bbdd",
       "style": "IPY_MODEL_fc51ba614bca454f9698fbe551e8431e"
      }
     },
     "c3ca223ba00e440884758e94d756c1aa": {
      "model_module": "@jupyter-widgets/base",
      "model_module_version": "1.0.0",
      "model_name": "LayoutModel",
      "state": {}
     },
     "c3e74535ee5444878df9af2c253d92b0": {
      "model_module": "@jupyter-widgets/controls",
      "model_module_version": "1.2.0",
      "model_name": "HTMLModel",
      "state": {
       "layout": "IPY_MODEL_ac04b64cfcb44f97abfa589557371712",
       "style": "IPY_MODEL_9d8799cb16c743ca92092b750b5430c2",
       "value": "<i>Vervollständigen Sie den Lückentext: </i>"
      }
     },
     "c40cd27ac198424e92ce5d40c346cb49": {
      "model_module": "@jupyter-widgets/controls",
      "model_module_version": "1.2.0",
      "model_name": "ButtonStyleModel",
      "state": {}
     },
     "c4113f6d534f424681f4b9f367858f1e": {
      "model_module": "@jupyter-widgets/controls",
      "model_module_version": "1.2.0",
      "model_name": "DescriptionStyleModel",
      "state": {
       "description_width": ""
      }
     },
     "c413e1068d214d909c3f2c15644531af": {
      "model_module": "@jupyter-widgets/base",
      "model_module_version": "1.0.0",
      "model_name": "LayoutModel",
      "state": {
       "width": "500px"
      }
     },
     "c471817de2584f47a09d62b3ee1e697a": {
      "model_module": "@jupyter-widgets/controls",
      "model_module_version": "1.2.0",
      "model_name": "DescriptionStyleModel",
      "state": {
       "description_width": "initial"
      }
     },
     "c515e7f7c62d44a89cdf0654520a2045": {
      "model_module": "@jupyter-widgets/base",
      "model_module_version": "1.0.0",
      "model_name": "LayoutModel",
      "state": {
       "width": "600px"
      }
     },
     "c59986b30cab4180af56bc56265729e7": {
      "model_module": "@jupyter-widgets/controls",
      "model_module_version": "1.2.0",
      "model_name": "CheckboxModel",
      "state": {
       "description": "Nomen ist Kopf einer NP-Phrase",
       "disabled": false,
       "layout": "IPY_MODEL_fb8a94a189a14112ab3fb1231da0cddd",
       "style": "IPY_MODEL_0de29de0dac24d859a345b069e5167c1",
       "value": false
      }
     },
     "c5a5b8fc7eab4a7aa76785d5b602cf96": {
      "model_module": "@jupyter-widgets/base",
      "model_module_version": "1.0.0",
      "model_name": "LayoutModel",
      "state": {
       "width": "250px"
      }
     },
     "c5ca272c3b5643bf9f353a9ed8eaeb53": {
      "model_module": "@jupyter-widgets/controls",
      "model_module_version": "1.2.0",
      "model_name": "DescriptionStyleModel",
      "state": {
       "description_width": ""
      }
     },
     "c5ffeb6f3eca43bfa8b4e427320d2080": {
      "model_module": "@jupyter-widgets/controls",
      "model_module_version": "1.2.0",
      "model_name": "CheckboxModel",
      "state": {
       "description": "Dependenz",
       "disabled": false,
       "layout": "IPY_MODEL_ccac2b5b54e147f79b157672a4ed5b8e",
       "style": "IPY_MODEL_7b197edf2e0b4ae4bdcc821726eee4cf",
       "value": false
      }
     },
     "c6cd7bc635dd4d2fba088a5c0b4ec720": {
      "model_module": "@jupyter-widgets/controls",
      "model_module_version": "1.2.0",
      "model_name": "ButtonStyleModel",
      "state": {}
     },
     "c6e73dec58f8462a857e8a1572849ef1": {
      "model_module": "@jupyter-widgets/controls",
      "model_module_version": "1.2.0",
      "model_name": "DescriptionStyleModel",
      "state": {
       "description_width": "initial"
      }
     },
     "c7a0c1367d764ec6a557f479d00d541f": {
      "model_module": "@jupyter-widgets/base",
      "model_module_version": "1.0.0",
      "model_name": "LayoutModel",
      "state": {}
     },
     "c7b4339f66d248f3a2517b13678b1920": {
      "model_module": "@jupyter-widgets/controls",
      "model_module_version": "1.2.0",
      "model_name": "HTMLModel",
      "state": {
       "layout": "IPY_MODEL_dd2f1256aa384cf2adcb5f07c3d923f2",
       "style": "IPY_MODEL_eefeab5d6ede48e49a0b6aff7a4123b5",
       "value": "<h4 style=\"font-size:14px;\">der Grammatik, der sich auf die</h4>"
      }
     },
     "c81f26ee26884b0ab3062e267e27303c": {
      "model_module": "@jupyter-widgets/controls",
      "model_module_version": "1.2.0",
      "model_name": "HTMLModel",
      "state": {
       "layout": "IPY_MODEL_2479f8ab96ab4c6daa408ee85566c757",
       "style": "IPY_MODEL_49cd413fbbbe475698bb0968f5ac6d40",
       "value": "<i>Wählen Sie die <ins>eine</ins> korrekte Antwort aus: </i>"
      }
     },
     "c8a491c10e9a4cb3bb9aa55ace222002": {
      "model_module": "@jupyter-widgets/controls",
      "model_module_version": "1.2.0",
      "model_name": "HBoxModel",
      "state": {
       "children": [
        "IPY_MODEL_03ed9937e5b2428ca1d13fc7e833a965",
        "IPY_MODEL_a737cfa7ba6a492da0a5b5c70556467d"
       ],
       "layout": "IPY_MODEL_0c44c3c18e8a4e6381724c557ba3f153"
      }
     },
     "c8ab15707aca4c839c5b01c5a02a7325": {
      "model_module": "@jupyter-widgets/base",
      "model_module_version": "1.0.0",
      "model_name": "LayoutModel",
      "state": {
       "width": "250px"
      }
     },
     "c9904f341ec94d5983f5b297a3bfeed6": {
      "model_module": "@jupyter-widgets/controls",
      "model_module_version": "1.2.0",
      "model_name": "HTMLModel",
      "state": {
       "layout": "IPY_MODEL_6d7a0c61a77b480897d2168387fb430f",
       "style": "IPY_MODEL_b9adb7c593214b208e86d0d4baef18bd",
       "value": "<i>Wählen Sie die <ins>eine</ins> korrekte Antwort aus: </i>"
      }
     },
     "c9a8ff4754fa4a9cb88bd72fc98f398a": {
      "model_module": "@jupyter-widgets/base",
      "model_module_version": "1.0.0",
      "model_name": "LayoutModel",
      "state": {}
     },
     "c9c65822e80d49c592027a3a80a9a22d": {
      "model_module": "@jupyter-widgets/controls",
      "model_module_version": "1.2.0",
      "model_name": "HTMLModel",
      "state": {
       "layout": "IPY_MODEL_91c2c1e6d94645d39b90af7b80626f05",
       "style": "IPY_MODEL_cc04617b61954f75bc6de7dfa12e90fe",
       "value": "<h4 style=\"font-size:14px;\">Welche Funktion nimmt das Gerund ein, wenn das Nomen Kopf der Gerund-Nomen-Phrase ist?</h4>"
      }
     },
     "ca0a91b0105a429986e2363e0f71bab3": {
      "model_module": "@jupyter-widgets/base",
      "model_module_version": "1.0.0",
      "model_name": "LayoutModel",
      "state": {
       "justify_content": "center"
      }
     },
     "cb14d047728740f18029e1f33aa39b53": {
      "model_module": "@jupyter-widgets/controls",
      "model_module_version": "1.2.0",
      "model_name": "ButtonModel",
      "state": {
       "description": "Theorie der Sprachstruktur",
       "layout": "IPY_MODEL_a0e0dcfc19b54ffcb6e24de473a6457c",
       "style": "IPY_MODEL_7dc6a223e8e945f79c0805937a93d565"
      }
     },
     "cbc6fc9a5754472c8c45805197aef478": {
      "model_module": "@jupyter-widgets/controls",
      "model_module_version": "1.2.0",
      "model_name": "ButtonStyleModel",
      "state": {}
     },
     "cc04617b61954f75bc6de7dfa12e90fe": {
      "model_module": "@jupyter-widgets/controls",
      "model_module_version": "1.2.0",
      "model_name": "DescriptionStyleModel",
      "state": {
       "description_width": ""
      }
     },
     "cc2105b8ce664b028304559e4335cc17": {
      "model_module": "@jupyter-widgets/controls",
      "model_module_version": "1.2.0",
      "model_name": "ButtonModel",
      "state": {
       "description": "Parsebäume",
       "layout": "IPY_MODEL_69471be1cc3d4699a2b30beef4c8ce9d",
       "style": "IPY_MODEL_400f85641447458e9fcf1387e8bf9276"
      }
     },
     "cc57d2678758467f8ac0e43436c850cb": {
      "model_module": "@jupyter-widgets/base",
      "model_module_version": "1.0.0",
      "model_name": "LayoutModel",
      "state": {}
     },
     "cc71099e2f3c49d4a72e10e75877d25b": {
      "model_module": "@jupyter-widgets/controls",
      "model_module_version": "1.2.0",
      "model_name": "ButtonStyleModel",
      "state": {}
     },
     "cc939fae13414bacbc89994bb4bd15f5": {
      "model_module": "@jupyter-widgets/controls",
      "model_module_version": "1.2.0",
      "model_name": "DescriptionStyleModel",
      "state": {
       "description_width": ""
      }
     },
     "ccac2b5b54e147f79b157672a4ed5b8e": {
      "model_module": "@jupyter-widgets/base",
      "model_module_version": "1.0.0",
      "model_name": "LayoutModel",
      "state": {
       "width": "600px"
      }
     },
     "cccbda40bddf4910a3ac2b31cb90bbdd": {
      "model_module": "@jupyter-widgets/base",
      "model_module_version": "1.0.0",
      "model_name": "LayoutModel",
      "state": {
       "width": "250px"
      }
     },
     "ccd9ca5e45e14cf0b4ed7aa76e976f83": {
      "model_module": "@jupyter-widgets/base",
      "model_module_version": "1.0.0",
      "model_name": "LayoutModel",
      "state": {
       "width": "250px"
      }
     },
     "cd0d84ef6a6a487eae8624c824afd70e": {
      "model_module": "@jupyter-widgets/controls",
      "model_module_version": "1.2.0",
      "model_name": "DescriptionStyleModel",
      "state": {
       "description_width": ""
      }
     },
     "cd2c00872109401680e343741306067f": {
      "model_module": "@jupyter-widgets/controls",
      "model_module_version": "1.2.0",
      "model_name": "ButtonStyleModel",
      "state": {}
     },
     "ce827bfb4bed4d2d914b7c251231e6c2": {
      "model_module": "@jupyter-widgets/base",
      "model_module_version": "1.0.0",
      "model_name": "LayoutModel",
      "state": {
       "width": "600px"
      }
     },
     "cf0e237033274e08ac9228e8a351b95d": {
      "model_module": "@jupyter-widgets/controls",
      "model_module_version": "1.2.0",
      "model_name": "ButtonStyleModel",
      "state": {}
     },
     "cf38246d1cba49239f6d62ec631d4306": {
      "model_module": "@jupyter-widgets/controls",
      "model_module_version": "1.2.0",
      "model_name": "VBoxModel",
      "state": {
       "children": [
        "IPY_MODEL_8d4190e2635d418085e821f3de222165",
        "IPY_MODEL_94357312c1514bff945d75ffa94ad609",
        "IPY_MODEL_9c27b0f5d1434c889bfc462aeb1bf250",
        "IPY_MODEL_598b557e1cdc4ba1a6f290f8279e38db"
       ],
       "layout": "IPY_MODEL_ab696d9a9fa54faaa1dc8cc56eb66b2a"
      }
     },
     "cfd2ca36b6e848cc884f5d9d6c904d63": {
      "model_module": "@jupyter-widgets/controls",
      "model_module_version": "1.2.0",
      "model_name": "ButtonModel",
      "state": {
       "description": "Keine der anderen Möglichkeiten",
       "layout": "IPY_MODEL_3fa499861499452c8cc64514c498f68e",
       "style": "IPY_MODEL_b6371ae5ba88416486b5071b37fc0696"
      }
     },
     "d02dbe58480d401f933975d4d6f7dca9": {
      "model_module": "@jupyter-widgets/base",
      "model_module_version": "1.0.0",
      "model_name": "LayoutModel",
      "state": {}
     },
     "d097c2cb49ee4660b5fb07de643aeda2": {
      "model_module": "@jupyter-widgets/base",
      "model_module_version": "1.0.0",
      "model_name": "LayoutModel",
      "state": {
       "justify_content": "center"
      }
     },
     "d1095d9166134311af62281697d2327c": {
      "model_module": "@jupyter-widgets/controls",
      "model_module_version": "1.2.0",
      "model_name": "DescriptionStyleModel",
      "state": {
       "description_width": ""
      }
     },
     "d17e02cb4a4e4dc2800453c544a406b7": {
      "model_module": "@jupyter-widgets/controls",
      "model_module_version": "1.2.0",
      "model_name": "ButtonStyleModel",
      "state": {}
     },
     "d1f4fd3ce94a47bdac6d999934bd658b": {
      "model_module": "@jupyter-widgets/controls",
      "model_module_version": "1.2.0",
      "model_name": "DescriptionStyleModel",
      "state": {
       "description_width": "initial"
      }
     },
     "d376de5957504db3a473daa644394496": {
      "model_module": "@jupyter-widgets/controls",
      "model_module_version": "1.2.0",
      "model_name": "HTMLModel",
      "state": {
       "layout": "IPY_MODEL_6d541ace529e447cb59912f1b7822055",
       "style": "IPY_MODEL_f7c0ad20710249f1bf9bbd5bdd669c51",
       "value": "<h4 style=\"font-size:14px;\">Welcher Grammatikbegriff liegt Satz 2 zugrunde?</h4>"
      }
     },
     "d3c436113df346e9ab2680a172e48284": {
      "model_module": "@jupyter-widgets/base",
      "model_module_version": "1.0.0",
      "model_name": "LayoutModel",
      "state": {}
     },
     "d468c0c8366a47be8b06b02dc063485d": {
      "model_module": "@jupyter-widgets/controls",
      "model_module_version": "1.2.0",
      "model_name": "ButtonModel",
      "state": {
       "description": "Baumdiagramm",
       "layout": "IPY_MODEL_ec832cf46c824d16bf9f7aa25884c475",
       "style": "IPY_MODEL_76604bac1bb34d4a879335f2fe47f5ab"
      }
     },
     "d4d160e720c046d28bfcbf9b5b3f8acf": {
      "model_module": "@jupyter-widgets/controls",
      "model_module_version": "1.2.0",
      "model_name": "DescriptionStyleModel",
      "state": {
       "description_width": ""
      }
     },
     "d4fb0179a7614fc1a6fd74b3a816ceef": {
      "model_module": "@jupyter-widgets/base",
      "model_module_version": "1.0.0",
      "model_name": "LayoutModel",
      "state": {}
     },
     "d51b11f118c341cab7deb611b965d119": {
      "model_module": "@jupyter-widgets/controls",
      "model_module_version": "1.2.0",
      "model_name": "DescriptionStyleModel",
      "state": {
       "description_width": "initial"
      }
     },
     "d531ace199b143f0b86c49e3eb2f46d6": {
      "model_module": "@jupyter-widgets/controls",
      "model_module_version": "1.2.0",
      "model_name": "DescriptionStyleModel",
      "state": {
       "description_width": ""
      }
     },
     "d5e6d574ebb840c399a32f0c1f0c393d": {
      "model_module": "@jupyter-widgets/controls",
      "model_module_version": "1.2.0",
      "model_name": "ButtonStyleModel",
      "state": {}
     },
     "d66e44504ca844abaacbaba54f735f95": {
      "model_module": "@jupyter-widgets/base",
      "model_module_version": "1.0.0",
      "model_name": "LayoutModel",
      "state": {
       "justify_content": "center"
      }
     },
     "d676ba3a098e403cbc568690e010e6a3": {
      "model_module": "@jupyter-widgets/controls",
      "model_module_version": "1.2.0",
      "model_name": "HTMLModel",
      "state": {
       "layout": "IPY_MODEL_4c81ef67ab0d44dfa4ac8f221cadf58e",
       "style": "IPY_MODEL_25a62ffff6bb4eaa9cc4e82aacc64963",
       "value": "<h4 style=\"font-size:14px;\">Die Alternative <code>tree = parser.parse(sent)</code> ist weniger wünschenswert, da im Allgemeinen ________ Parse-Tree möglich ist.</h4>"
      }
     },
     "d734668fcb37465bbf44a0c148618cd7": {
      "model_module": "@jupyter-widgets/controls",
      "model_module_version": "1.2.0",
      "model_name": "ButtonModel",
      "state": {
       "description": "Regelsystem",
       "layout": "IPY_MODEL_8e411d1ea8314fad9de81cf8138d63de",
       "style": "IPY_MODEL_e1ec86c847a3440ab960c5c6ec7172f3"
      }
     },
     "d815aa20b74e4c1aaee2f4008c15de1a": {
      "model_module": "@jupyter-widgets/controls",
      "model_module_version": "1.2.0",
      "model_name": "ButtonModel",
      "state": {
       "description": "Abhängigkeitsstruktur",
       "layout": "IPY_MODEL_5c81eb985e6540f99be975db134e0e06",
       "style": "IPY_MODEL_660998c12ab841c2806a19cb5f1e7bd1"
      }
     },
     "d824303e249f4e209849b3f0df938472": {
      "model_module": "@jupyter-widgets/base",
      "model_module_version": "1.0.0",
      "model_name": "LayoutModel",
      "state": {}
     },
     "d90b93f7b4f5462abd43ca07df1152fd": {
      "model_module": "@jupyter-widgets/controls",
      "model_module_version": "1.2.0",
      "model_name": "ButtonModel",
      "state": {
       "description": "Korrekt?",
       "layout": "IPY_MODEL_366588bd3f4f4c46b1e89956c9cc943c",
       "style": "IPY_MODEL_edf7b2afaa504a149625acdea14b8113"
      }
     },
     "da846afe861940a686d43a814759c351": {
      "model_module": "@jupyter-widgets/controls",
      "model_module_version": "1.2.0",
      "model_name": "DescriptionStyleModel",
      "state": {
       "description_width": ""
      }
     },
     "da93f9d1851d4184b6b73340988c17df": {
      "model_module": "@jupyter-widgets/controls",
      "model_module_version": "1.2.0",
      "model_name": "HTMLModel",
      "state": {
       "layout": "IPY_MODEL_6df86fdbae95487d89b33d00f1fc830d",
       "style": "IPY_MODEL_fa9f0d904f1b44d89b7bc9a890d3b810",
       "value": "<h4 style=\"font-size:14px;\">Welche Gesetzmäßigkeiten umfasst die Grammatik als Regelsystem?</h4>"
      }
     },
     "dacac433f2ab4774884378ba7a61598e": {
      "model_module": "@jupyter-widgets/controls",
      "model_module_version": "1.2.0",
      "model_name": "CheckboxModel",
      "state": {
       "description": "Konstituenz",
       "disabled": false,
       "layout": "IPY_MODEL_c515e7f7c62d44a89cdf0654520a2045",
       "style": "IPY_MODEL_f9cd89a3a2c14d59a4bedaf18324894e",
       "value": false
      }
     },
     "dbe3689e37cc4646bfe63beb8a1cf2eb": {
      "model_module": "@jupyter-widgets/controls",
      "model_module_version": "1.2.0",
      "model_name": "VBoxModel",
      "state": {
       "children": [
        "IPY_MODEL_a936ffc6b7a9497fb661443083b6d121",
        "IPY_MODEL_7611a0c829f243b194735e245dfea540",
        "IPY_MODEL_e33236b24b9c45079944a17663e2b541",
        "IPY_MODEL_b4855c7c1a3449b9885f84c6e492ee38"
       ],
       "layout": "IPY_MODEL_38259025337c4f789bf9e4e4be813c5b"
      }
     },
     "dc1bc0bfb7614bb785f1f4df09c4aa6c": {
      "model_module": "@jupyter-widgets/controls",
      "model_module_version": "1.2.0",
      "model_name": "ButtonModel",
      "state": {
       "description": "Objekt",
       "layout": "IPY_MODEL_ccd9ca5e45e14cf0b4ed7aa76e976f83",
       "style": "IPY_MODEL_7e2022a584d8402fa88c971d8530a21a"
      }
     },
     "dc680ae177a74461b5ade3446f77f2f7": {
      "model_module": "@jupyter-widgets/controls",
      "model_module_version": "1.2.0",
      "model_name": "ButtonStyleModel",
      "state": {}
     },
     "dc81135139e649cc8a1ac6dbea6821ed": {
      "model_module": "@jupyter-widgets/controls",
      "model_module_version": "1.2.0",
      "model_name": "HTMLModel",
      "state": {
       "layout": "IPY_MODEL_80228ec048ac45a7b3f52558bfd2243c",
       "style": "IPY_MODEL_e4c192cb258f4bf5bf8aae4cc7be5fd2",
       "value": "<h4 style=\"font-size:14px;\">Welcher Grammatikbegriff liegt Satz 1 zugrunde?</h4>"
      }
     },
     "dcccb5bb0c9b4e3e8d46f095bbfa6a11": {
      "model_module": "@jupyter-widgets/controls",
      "model_module_version": "1.2.0",
      "model_name": "DropdownModel",
      "state": {
       "_options_labels": [
        "Oberbegriff",
        "Synonym",
        "Teilbereich",
        " "
       ],
       "index": 3,
       "layout": "IPY_MODEL_2f2d5dcb5e8740988631292538836085",
       "style": "IPY_MODEL_da846afe861940a686d43a814759c351"
      }
     },
     "dce14714d57e4581bc89b4c68bf84cfb": {
      "model_module": "@jupyter-widgets/controls",
      "model_module_version": "1.2.0",
      "model_name": "BoxModel",
      "state": {
       "children": [
        "IPY_MODEL_e964ba7d0d404993888d189930072be8",
        "IPY_MODEL_5f12f0f94bd34849a22d01df915ba415",
        "IPY_MODEL_2d84f3a609d94fb78439c87edf79f5dd",
        "IPY_MODEL_5edaf1e2335747e1975f2d1e7ab1375e",
        "IPY_MODEL_ffa5a63a8c6f4e1aae1132da88429c0c"
       ],
       "layout": "IPY_MODEL_0859d4bc02a84e5c8ee91efdafd7b980"
      }
     },
     "dd101dd8954d4d76a76fb6d4df0a0405": {
      "model_module": "@jupyter-widgets/base",
      "model_module_version": "1.0.0",
      "model_name": "LayoutModel",
      "state": {
       "width": "600px"
      }
     },
     "dd2f1256aa384cf2adcb5f07c3d923f2": {
      "model_module": "@jupyter-widgets/base",
      "model_module_version": "1.0.0",
      "model_name": "LayoutModel",
      "state": {}
     },
     "de21142c8850464a86bebf216e4612a1": {
      "model_module": "@jupyter-widgets/controls",
      "model_module_version": "1.2.0",
      "model_name": "DescriptionStyleModel",
      "state": {
       "description_width": ""
      }
     },
     "df12601f4b0747b0bf240d1669287deb": {
      "model_module": "@jupyter-widgets/controls",
      "model_module_version": "1.2.0",
      "model_name": "HTMLModel",
      "state": {
       "layout": "IPY_MODEL_100f12f64c534b4fbf9da2f23cdfad68",
       "style": "IPY_MODEL_184cd409003b44c3a4f2ab7d395be7c7",
       "value": "<i>Markieren Sie <ins>alle</ins> passenden Antworten: </i>"
      }
     },
     "dfbd0d1f3db14785a1d9ff305ed4c5c3": {
      "model_module": "@jupyter-widgets/base",
      "model_module_version": "1.0.0",
      "model_name": "LayoutModel",
      "state": {}
     },
     "e0074f6531834f2284758f30714b5866": {
      "model_module": "@jupyter-widgets/base",
      "model_module_version": "1.0.0",
      "model_name": "LayoutModel",
      "state": {}
     },
     "e0190ef3e4234b1aa5d15a35fc5ab018": {
      "model_module": "@jupyter-widgets/controls",
      "model_module_version": "1.2.0",
      "model_name": "DescriptionStyleModel",
      "state": {
       "description_width": ""
      }
     },
     "e04a7b4f62e143c29bda5a9eb33d87dc": {
      "model_module": "@jupyter-widgets/controls",
      "model_module_version": "1.2.0",
      "model_name": "ButtonStyleModel",
      "state": {}
     },
     "e04b0add3fb844a1b744855d3a87783a": {
      "model_module": "@jupyter-widgets/controls",
      "model_module_version": "1.2.0",
      "model_name": "HBoxModel",
      "state": {
       "children": [
        "IPY_MODEL_dc1bc0bfb7614bb785f1f4df09c4aa6c",
        "IPY_MODEL_b5a30694ee124601ab4a1a8a1750d475"
       ],
       "layout": "IPY_MODEL_a66bd9fc6a7c4af48da3615a06b6cbfc"
      }
     },
     "e0dcae5a1d6e49b89920a5364aeee6c9": {
      "model_module": "@jupyter-widgets/controls",
      "model_module_version": "1.2.0",
      "model_name": "ButtonModel",
      "state": {
       "description": "Korrekt?",
       "layout": "IPY_MODEL_fb03f3e4342c4ffcb28e9f422e97e814",
       "style": "IPY_MODEL_335b53eede324ccb92068f3e8dde6ae0"
      }
     },
     "e13c5d685bf64b2bbe0b4ea7feb36390": {
      "model_module": "@jupyter-widgets/base",
      "model_module_version": "1.0.0",
      "model_name": "LayoutModel",
      "state": {}
     },
     "e1cba06aa0bd4504b90e270fe143d384": {
      "model_module": "@jupyter-widgets/controls",
      "model_module_version": "1.2.0",
      "model_name": "VBoxModel",
      "state": {
       "children": [
        "IPY_MODEL_7e1bf79b2d1b41c3a03135726646462d",
        "IPY_MODEL_9eabe1f92c4b40e6ac73607ab09a98b8",
        "IPY_MODEL_6f0fea5d63f34460b257e180ba9f389d",
        "IPY_MODEL_fa210e012015404595fe23627895e6d6"
       ],
       "layout": "IPY_MODEL_9a1eb56d4a044d84ba024f46da471186"
      }
     },
     "e1dbd07fd74845449260013c7ad0883a": {
      "model_module": "@jupyter-widgets/base",
      "model_module_version": "1.0.0",
      "model_name": "LayoutModel",
      "state": {
       "width": "500px"
      }
     },
     "e1ec86c847a3440ab960c5c6ec7172f3": {
      "model_module": "@jupyter-widgets/controls",
      "model_module_version": "1.2.0",
      "model_name": "ButtonStyleModel",
      "state": {}
     },
     "e28f63be36b3424792ebff03ecbb9ef7": {
      "model_module": "@jupyter-widgets/controls",
      "model_module_version": "1.2.0",
      "model_name": "ButtonStyleModel",
      "state": {}
     },
     "e33236b24b9c45079944a17663e2b541": {
      "model_module": "@jupyter-widgets/controls",
      "model_module_version": "1.2.0",
      "model_name": "VBoxModel",
      "state": {
       "children": [
        "IPY_MODEL_39248a7dcabb4273a00027e1beced0dd",
        "IPY_MODEL_093a55e8d2b24571b9929b29dcd4c8d8",
        "IPY_MODEL_b892faa45c7044e9ba86f11c40944569"
       ],
       "layout": "IPY_MODEL_0030107ab01c4be8863768814c0a6e17"
      }
     },
     "e3b3e026f1ef415e9e18871b32498516": {
      "model_module": "@jupyter-widgets/controls",
      "model_module_version": "1.2.0",
      "model_name": "CheckboxModel",
      "state": {
       "description": "Sinnhaftigkeit",
       "disabled": false,
       "layout": "IPY_MODEL_5a542b9825ce4aea91fa8a7efee046ac",
       "style": "IPY_MODEL_6fdd83245fd54be9ae844f4702d74895",
       "value": false
      }
     },
     "e3e59c3a018f43d49e4d559d340b6a9c": {
      "model_module": "@jupyter-widgets/base",
      "model_module_version": "1.0.0",
      "model_name": "LayoutModel",
      "state": {
       "width": "250px"
      }
     },
     "e41b849aca4c4f02bcd7bf3a8fce7c5a": {
      "model_module": "@jupyter-widgets/controls",
      "model_module_version": "1.2.0",
      "model_name": "ButtonStyleModel",
      "state": {}
     },
     "e41e252ab16f4cc59c5e27ed8d70bf61": {
      "model_module": "@jupyter-widgets/base",
      "model_module_version": "1.0.0",
      "model_name": "LayoutModel",
      "state": {}
     },
     "e4c192cb258f4bf5bf8aae4cc7be5fd2": {
      "model_module": "@jupyter-widgets/controls",
      "model_module_version": "1.2.0",
      "model_name": "DescriptionStyleModel",
      "state": {
       "description_width": ""
      }
     },
     "e4d1ff0397a64b5ca43a6dd96b78d1f4": {
      "model_module": "@jupyter-widgets/base",
      "model_module_version": "1.0.0",
      "model_name": "LayoutModel",
      "state": {
       "width": "250px"
      }
     },
     "e528d4b4b1f644f69c295e7d708bf25b": {
      "model_module": "@jupyter-widgets/base",
      "model_module_version": "1.0.0",
      "model_name": "LayoutModel",
      "state": {
       "width": "250px"
      }
     },
     "e5a0fbe40e2a4c05acc57f6bd34a6817": {
      "model_module": "@jupyter-widgets/controls",
      "model_module_version": "1.2.0",
      "model_name": "DescriptionStyleModel",
      "state": {
       "description_width": ""
      }
     },
     "e68bbd3e8f9c42f2ac40a0a60fd1d320": {
      "model_module": "@jupyter-widgets/base",
      "model_module_version": "1.0.0",
      "model_name": "LayoutModel",
      "state": {}
     },
     "e72a0a469aeb4353951f1019d4040c7a": {
      "model_module": "@jupyter-widgets/controls",
      "model_module_version": "1.2.0",
      "model_name": "DropdownModel",
      "state": {
       "_options_labels": [
        "Keine der Alternativen",
        "der Ort des Geschehens wird festgelegt",
        "die PP wird dem Substantiv beigefügt",
        "die im Verb ausgedrückte Tätigkeit wird modifiziert"
       ],
       "description": "Antwort:",
       "index": 0,
       "layout": "IPY_MODEL_e1dbd07fd74845449260013c7ad0883a",
       "style": "IPY_MODEL_7a19c4005404498c81f1288df68169a3"
      }
     },
     "e752bb9f0240455793fdc8bead1e8cc1": {
      "model_module": "@jupyter-widgets/controls",
      "model_module_version": "1.2.0",
      "model_name": "ButtonStyleModel",
      "state": {}
     },
     "e7f64840ebfa4cc88a07369c7cc5e8f1": {
      "model_module": "@jupyter-widgets/controls",
      "model_module_version": "1.2.0",
      "model_name": "ButtonStyleModel",
      "state": {}
     },
     "e88f5192896d4091b80b5f1a3012cd60": {
      "model_module": "@jupyter-widgets/controls",
      "model_module_version": "1.2.0",
      "model_name": "ButtonModel",
      "state": {
       "description": "Dependenz",
       "layout": "IPY_MODEL_563a186e7c67416eb1b1394e8e6ec05b",
       "style": "IPY_MODEL_46873333e27b4bba95c1f47a7f0ed4ab"
      }
     },
     "e905e2fb4e70483b9d5f65dc790f7b1b": {
      "model_module": "@jupyter-widgets/controls",
      "model_module_version": "1.2.0",
      "model_name": "ButtonStyleModel",
      "state": {}
     },
     "e964ba7d0d404993888d189930072be8": {
      "model_module": "@jupyter-widgets/controls",
      "model_module_version": "1.2.0",
      "model_name": "HTMLModel",
      "state": {
       "layout": "IPY_MODEL_a35477260d7d4ad29715ba50106c54f4",
       "style": "IPY_MODEL_62124dc6bb7f4ab6a83e62a4f28e70ae",
       "value": "<h4 style=\"font-size:14px;\">Für die Blätter gilt: natürlichsprachliche Wörter sind eine Teilmenge aus dem Alphabet der</h4>"
      }
     },
     "e9d1c1bdc99b4ef881f435133eac69a3": {
      "model_module": "@jupyter-widgets/controls",
      "model_module_version": "1.2.0",
      "model_name": "VBoxModel",
      "state": {
       "children": [
        "IPY_MODEL_03af34b3901947c097f9226112e774bd",
        "IPY_MODEL_e3b3e026f1ef415e9e18871b32498516",
        "IPY_MODEL_63e4a44a310a46898d1a8b44d0ba2a3d"
       ],
       "layout": "IPY_MODEL_09939960c6384d30a107724d6faac723"
      }
     },
     "e9dcc07642ed408a844c600e69da18fe": {
      "model_module": "@jupyter-widgets/controls",
      "model_module_version": "1.2.0",
      "model_name": "DescriptionStyleModel",
      "state": {
       "description_width": ""
      }
     },
     "e9e7739fa329498ca1903c12a9023525": {
      "model_module": "@jupyter-widgets/controls",
      "model_module_version": "1.2.0",
      "model_name": "ButtonStyleModel",
      "state": {}
     },
     "ea710506abf04e07bf478e469d41f190": {
      "model_module": "@jupyter-widgets/controls",
      "model_module_version": "1.2.0",
      "model_name": "DescriptionStyleModel",
      "state": {
       "description_width": ""
      }
     },
     "eba791abed5b44dcae7c7be93b46d4b4": {
      "model_module": "@jupyter-widgets/base",
      "model_module_version": "1.0.0",
      "model_name": "LayoutModel",
      "state": {
       "justify_content": "center"
      }
     },
     "ec23a57a9a4d47f496475796a547ad51": {
      "model_module": "@jupyter-widgets/base",
      "model_module_version": "1.0.0",
      "model_name": "LayoutModel",
      "state": {
       "width": "250px"
      }
     },
     "ec5d3309bc9f47bba31e11a89f755b09": {
      "model_module": "@jupyter-widgets/base",
      "model_module_version": "1.0.0",
      "model_name": "LayoutModel",
      "state": {
       "justify_content": "center"
      }
     },
     "ec832cf46c824d16bf9f7aa25884c475": {
      "model_module": "@jupyter-widgets/base",
      "model_module_version": "1.0.0",
      "model_name": "LayoutModel",
      "state": {
       "width": "250px"
      }
     },
     "ed0fcdabc36649c09f787ea8d6db1677": {
      "model_module": "@jupyter-widgets/controls",
      "model_module_version": "1.2.0",
      "model_name": "CheckboxModel",
      "state": {
       "description": "phonologische",
       "disabled": false,
       "layout": "IPY_MODEL_1d7443402cc94001b7553e18bd02d874",
       "style": "IPY_MODEL_7a695efc8e6d4241bdcc811f47c77b52",
       "value": false
      }
     },
     "ed4f645706984144a70e90ab1f6ae06d": {
      "model_module": "@jupyter-widgets/base",
      "model_module_version": "1.0.0",
      "model_name": "LayoutModel",
      "state": {
       "width": "250px"
      }
     },
     "ed5b530213ae468280c9384cb7578d82": {
      "model_module": "@jupyter-widgets/controls",
      "model_module_version": "1.2.0",
      "model_name": "DescriptionStyleModel",
      "state": {
       "description_width": "initial"
      }
     },
     "edf7b2afaa504a149625acdea14b8113": {
      "model_module": "@jupyter-widgets/controls",
      "model_module_version": "1.2.0",
      "model_name": "ButtonStyleModel",
      "state": {}
     },
     "eeadcce4f46f49f994f8a1a5a1de3616": {
      "model_module": "@jupyter-widgets/controls",
      "model_module_version": "1.2.0",
      "model_name": "HTMLModel",
      "state": {
       "layout": "IPY_MODEL_581b6168822c46eba729ba3257889b85",
       "style": "IPY_MODEL_fe3fef1c0b22484ba153f48e1031a0e3",
       "value": "<i>Markieren Sie <ins>alle</ins> passenden Antworten: </i>"
      }
     },
     "eefeab5d6ede48e49a0b6aff7a4123b5": {
      "model_module": "@jupyter-widgets/controls",
      "model_module_version": "1.2.0",
      "model_name": "DescriptionStyleModel",
      "state": {
       "description_width": ""
      }
     },
     "ef38d4be22bb46c8837361ac270a076a": {
      "model_module": "@jupyter-widgets/base",
      "model_module_version": "1.0.0",
      "model_name": "LayoutModel",
      "state": {}
     },
     "f0ec253ab5334fb39d4451900f51f49c": {
      "model_module": "@jupyter-widgets/controls",
      "model_module_version": "1.2.0",
      "model_name": "VBoxModel",
      "state": {
       "children": [
        "IPY_MODEL_c5ffeb6f3eca43bfa8b4e427320d2080",
        "IPY_MODEL_dacac433f2ab4774884378ba7a61598e",
        "IPY_MODEL_c25c9aab172e4ec28d33f6763a185b2b",
        "IPY_MODEL_0f5cec589dbc4ee39cdc645cdd34591d"
       ],
       "layout": "IPY_MODEL_8c1443d607bd45adbc67a0380e2ecd6e"
      }
     },
     "f1cb2250a99143a7858ecfec0693cd4f": {
      "model_module": "@jupyter-widgets/controls",
      "model_module_version": "1.2.0",
      "model_name": "ButtonStyleModel",
      "state": {}
     },
     "f1f08530c6d4478c93339383c94519fc": {
      "model_module": "@jupyter-widgets/controls",
      "model_module_version": "1.2.0",
      "model_name": "HBoxModel",
      "state": {
       "children": [
        "IPY_MODEL_f983a37d9be040d283d9782ad1f55390",
        "IPY_MODEL_487a2690b1fa4cc8b1b55ba8cbb89ec5"
       ],
       "layout": "IPY_MODEL_4e17120fc9834a4881174e2a64fc89f7"
      }
     },
     "f368178678c246ca8bf2032acc1818dc": {
      "model_module": "@jupyter-widgets/base",
      "model_module_version": "1.0.0",
      "model_name": "LayoutModel",
      "state": {}
     },
     "f412dd4ee66d4bd29932087a2f0e4b8a": {
      "model_module": "@jupyter-widgets/controls",
      "model_module_version": "1.2.0",
      "model_name": "DescriptionStyleModel",
      "state": {
       "description_width": "initial"
      }
     },
     "f4923fa86ba34a418fc2867cbd89abb3": {
      "model_module": "@jupyter-widgets/controls",
      "model_module_version": "1.2.0",
      "model_name": "ButtonModel",
      "state": {
       "description": "Korrekt?",
       "layout": "IPY_MODEL_841ac2dbaa1d4700af7013fdd5b702e4",
       "style": "IPY_MODEL_772e59e9a2ce42eaa4fd56c39f46152e"
      }
     },
     "f4aa70ec806841e3a3442ae2d874507d": {
      "model_module": "@jupyter-widgets/base",
      "model_module_version": "1.0.0",
      "model_name": "LayoutModel",
      "state": {}
     },
     "f4b686a5decb4a6d880fafd72183e159": {
      "model_module": "@jupyter-widgets/controls",
      "model_module_version": "1.2.0",
      "model_name": "HBoxModel",
      "state": {
       "children": [
        "IPY_MODEL_b7e0ad7c73ba4a0fa9b97bf7ccfaa9d1",
        "IPY_MODEL_697688089cd24826bdf28047e4f45388"
       ],
       "layout": "IPY_MODEL_7c3567db1e5f44c6ac059de20111b3a2"
      }
     },
     "f4f9a57541d042de8e45911ef0b387dc": {
      "model_module": "@jupyter-widgets/base",
      "model_module_version": "1.0.0",
      "model_name": "LayoutModel",
      "state": {
       "width": "250px"
      }
     },
     "f508ecd89d3a470a856696e8b2e5b170": {
      "model_module": "@jupyter-widgets/controls",
      "model_module_version": "1.2.0",
      "model_name": "DescriptionStyleModel",
      "state": {
       "description_width": "initial"
      }
     },
     "f55bdd4d680f44d7b15ad16045135824": {
      "model_module": "@jupyter-widgets/base",
      "model_module_version": "1.0.0",
      "model_name": "LayoutModel",
      "state": {
       "width": "250px"
      }
     },
     "f56f652c2809437d89567f1d3f50e750": {
      "model_module": "@jupyter-widgets/controls",
      "model_module_version": "1.2.0",
      "model_name": "DescriptionStyleModel",
      "state": {
       "description_width": ""
      }
     },
     "f5ccea2227184321a9fecbe0d05388cc": {
      "model_module": "@jupyter-widgets/controls",
      "model_module_version": "1.2.0",
      "model_name": "HBoxModel",
      "state": {
       "children": [
        "IPY_MODEL_cb14d047728740f18029e1f33aa39b53",
        "IPY_MODEL_1f1de2277f114adeb31acc9215fc6105"
       ],
       "layout": "IPY_MODEL_dfbd0d1f3db14785a1d9ff305ed4c5c3"
      }
     },
     "f5d0cf87e68d48249e8dbf0e2a1bb30b": {
      "model_module": "@jupyter-widgets/controls",
      "model_module_version": "1.2.0",
      "model_name": "ButtonStyleModel",
      "state": {}
     },
     "f65a17afcfc7481e8efde585c26b95ea": {
      "model_module": "@jupyter-widgets/base",
      "model_module_version": "1.0.0",
      "model_name": "LayoutModel",
      "state": {
       "width": "250px"
      }
     },
     "f6c3e92caae9428ebbb3c28fc3cf540f": {
      "model_module": "@jupyter-widgets/base",
      "model_module_version": "1.0.0",
      "model_name": "LayoutModel",
      "state": {
       "justify_content": "center"
      }
     },
     "f71526a08516428887e90d0611fa4900": {
      "model_module": "@jupyter-widgets/base",
      "model_module_version": "1.0.0",
      "model_name": "LayoutModel",
      "state": {}
     },
     "f78ae04bb01c4218883d5cc52055c740": {
      "model_module": "@jupyter-widgets/base",
      "model_module_version": "1.0.0",
      "model_name": "LayoutModel",
      "state": {
       "justify_content": "center"
      }
     },
     "f79741bdc625471e887744d11132c4fe": {
      "model_module": "@jupyter-widgets/base",
      "model_module_version": "1.0.0",
      "model_name": "LayoutModel",
      "state": {}
     },
     "f7a37cc23a2344b8a09ce6ddbfb08951": {
      "model_module": "@jupyter-widgets/controls",
      "model_module_version": "1.2.0",
      "model_name": "HTMLModel",
      "state": {
       "layout": "IPY_MODEL_f9ed6b43553c4003af20294a0ba48055",
       "style": "IPY_MODEL_39a0459f57654271804ea6b419e323d9",
       "value": "<i>Wählen Sie die <ins>eine</ins> korrekte Antwort aus: </i>"
      }
     },
     "f7b4dfbdfade4afd9a6e971bc22e38a7": {
      "model_module": "@jupyter-widgets/controls",
      "model_module_version": "1.2.0",
      "model_name": "ButtonModel",
      "state": {
       "description": "Wortart des Phrasenkopfes",
       "layout": "IPY_MODEL_3c2fc249baa24dd6b69256ba4dbf5cd2",
       "style": "IPY_MODEL_0c716be79e0c48efac1ef1ba6a822b34"
      }
     },
     "f7c0ad20710249f1bf9bbd5bdd669c51": {
      "model_module": "@jupyter-widgets/controls",
      "model_module_version": "1.2.0",
      "model_name": "DescriptionStyleModel",
      "state": {
       "description_width": ""
      }
     },
     "f8fd35a79ff34b6090eeb8c3b8dbfacc": {
      "model_module": "@jupyter-widgets/controls",
      "model_module_version": "1.2.0",
      "model_name": "VBoxModel",
      "state": {
       "children": [
        "IPY_MODEL_d676ba3a098e403cbc568690e010e6a3",
        "IPY_MODEL_54c6d428f8b34a76957b8dc722f23dcd",
        "IPY_MODEL_0a0199ef1d094cfeb65fbc2478b78afc"
       ],
       "layout": "IPY_MODEL_5e2890841c724d12a4543e98561fd54b"
      }
     },
     "f957e010ac004584b6eae2efeb77ce80": {
      "model_module": "@jupyter-widgets/controls",
      "model_module_version": "1.2.0",
      "model_name": "VBoxModel",
      "state": {
       "children": [
        "IPY_MODEL_7f0f55eea65344729ff82f74af579074",
        "IPY_MODEL_eeadcce4f46f49f994f8a1a5a1de3616",
        "IPY_MODEL_58c060a8106d4df5a56fc295e1fe2a2c",
        "IPY_MODEL_d90b93f7b4f5462abd43ca07df1152fd"
       ],
       "layout": "IPY_MODEL_e41e252ab16f4cc59c5e27ed8d70bf61"
      }
     },
     "f983a37d9be040d283d9782ad1f55390": {
      "model_module": "@jupyter-widgets/controls",
      "model_module_version": "1.2.0",
      "model_name": "ButtonModel",
      "state": {
       "description": "Übergenerierung",
       "layout": "IPY_MODEL_43fc75b7bdea4feb9c7a7fd29d1c5b14",
       "style": "IPY_MODEL_7f75d862944a4512acaf3dcd1cae7f92"
      }
     },
     "f99f51fc0a7040d9ad4d90aaa063080f": {
      "model_module": "@jupyter-widgets/controls",
      "model_module_version": "1.2.0",
      "model_name": "CheckboxModel",
      "state": {
       "description": "Konstituentenbaum mit gelabelten Kanten",
       "disabled": false,
       "layout": "IPY_MODEL_036b1880f182410680969af6169acca1",
       "style": "IPY_MODEL_715a5918039945e3948d807791110cf6",
       "value": false
      }
     },
     "f9cd89a3a2c14d59a4bedaf18324894e": {
      "model_module": "@jupyter-widgets/controls",
      "model_module_version": "1.2.0",
      "model_name": "DescriptionStyleModel",
      "state": {
       "description_width": "initial"
      }
     },
     "f9e703bc335a483bb52615b36bec6bd5": {
      "model_module": "@jupyter-widgets/controls",
      "model_module_version": "1.2.0",
      "model_name": "HTMLModel",
      "state": {
       "layout": "IPY_MODEL_ca0a91b0105a429986e2363e0f71bab3",
       "style": "IPY_MODEL_a5dbe4df7ebb499ab7495b6cd3882343",
       "value": "<h4 style=\"font-size:14px;\">In welcher Form wird die syntaktische Struktur eines Satzes beim Aufruf von NLTK tree.draw() erstellt?</h4>"
      }
     },
     "f9ed6b43553c4003af20294a0ba48055": {
      "model_module": "@jupyter-widgets/base",
      "model_module_version": "1.0.0",
      "model_name": "LayoutModel",
      "state": {
       "justify_content": "center"
      }
     },
     "fa210e012015404595fe23627895e6d6": {
      "model_module": "@jupyter-widgets/controls",
      "model_module_version": "1.2.0",
      "model_name": "HBoxModel",
      "state": {
       "children": [
        "IPY_MODEL_753e44ee88b143f999239946730aaf37",
        "IPY_MODEL_467cc6ff03d24d6a98c82a0b9b3826d2"
       ],
       "layout": "IPY_MODEL_400d0d94094845fc859c84d45d8b9799"
      }
     },
     "fa9f0d904f1b44d89b7bc9a890d3b810": {
      "model_module": "@jupyter-widgets/controls",
      "model_module_version": "1.2.0",
      "model_name": "DescriptionStyleModel",
      "state": {
       "description_width": ""
      }
     },
     "fadc53b727514c81bcbb95ac827865af": {
      "model_module": "@jupyter-widgets/base",
      "model_module_version": "1.0.0",
      "model_name": "LayoutModel",
      "state": {}
     },
     "fb03f3e4342c4ffcb28e9f422e97e814": {
      "model_module": "@jupyter-widgets/base",
      "model_module_version": "1.0.0",
      "model_name": "LayoutModel",
      "state": {
       "width": "250px"
      }
     },
     "fb8a94a189a14112ab3fb1231da0cddd": {
      "model_module": "@jupyter-widgets/base",
      "model_module_version": "1.0.0",
      "model_name": "LayoutModel",
      "state": {
       "width": "600px"
      }
     },
     "fb8e33dc587347d2a2dbc84fa8ae68b8": {
      "model_module": "@jupyter-widgets/controls",
      "model_module_version": "1.2.0",
      "model_name": "DescriptionStyleModel",
      "state": {
       "description_width": ""
      }
     },
     "fc2c57df15b04e31b3e8e62bc88321cb": {
      "model_module": "@jupyter-widgets/base",
      "model_module_version": "1.0.0",
      "model_name": "LayoutModel",
      "state": {}
     },
     "fc51ba614bca454f9698fbe551e8431e": {
      "model_module": "@jupyter-widgets/controls",
      "model_module_version": "1.2.0",
      "model_name": "ButtonStyleModel",
      "state": {}
     },
     "fcd90fd80e5f44aea9862f787d7a9ae2": {
      "model_module": "@jupyter-widgets/controls",
      "model_module_version": "1.2.0",
      "model_name": "DescriptionStyleModel",
      "state": {
       "description_width": ""
      }
     },
     "fe3fef1c0b22484ba153f48e1031a0e3": {
      "model_module": "@jupyter-widgets/controls",
      "model_module_version": "1.2.0",
      "model_name": "DescriptionStyleModel",
      "state": {
       "description_width": ""
      }
     },
     "ffa5a63a8c6f4e1aae1132da88429c0c": {
      "model_module": "@jupyter-widgets/controls",
      "model_module_version": "1.2.0",
      "model_name": "HTMLModel",
      "state": {
       "layout": "IPY_MODEL_2c594576b9804c4a9a4a4d4ce8e2f7a0",
       "style": "IPY_MODEL_d4d160e720c046d28bfcbf9b5b3f8acf",
       "value": "<h4 style=\"font-size:14px;\">der formalen Sprache.</h4>"
      }
     },
     "fff5a7e4e9104b17bac9403f96ea852b": {
      "model_module": "@jupyter-widgets/base",
      "model_module_version": "1.0.0",
      "model_name": "LayoutModel",
      "state": {
       "width": "250px"
      }
     }
    },
    "version_major": 2,
    "version_minor": 0
   }
  }
 },
 "nbformat": 4,
 "nbformat_minor": 2
}
