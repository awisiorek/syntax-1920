{
 "cells": [
  {
   "cell_type": "markdown",
   "metadata": {
    "slideshow": {
     "slide_type": "slide"
    }
   },
   "source": [
    "***Vorlesung 'Syntax natürlicher Sprachen', WS 2019/20***\n",
    "\n",
    "---\n",
    "# Übung 8 - Syntaxbäume mit spaCy (Dependenzbäume)"
   ]
  },
  {
   "cell_type": "code",
   "execution_count": 64,
   "metadata": {
    "slideshow": {
     "slide_type": "fragment"
    }
   },
   "outputs": [],
   "source": [
    "import spacy\n",
    "nlp_en = spacy.load('en_core_web_sm')\n",
    "nlp_de = spacy.load('de_core_news_sm')"
   ]
  },
  {
   "cell_type": "code",
   "execution_count": 76,
   "metadata": {},
   "outputs": [],
   "source": [
    "from spacy import displacy\n",
    "#https://spacy.io/api/top-level/#displacy_options\n",
    "options = {\"compact\": True, \"collapse_phrases\": True, \"distance\" : 100, \"arrow_stroke\":1}"
   ]
  },
  {
   "cell_type": "markdown",
   "metadata": {},
   "source": [
    "### Links:\n",
    "- https://spacy.io/api/top-level/#displacy_options\n",
    "- https://spacy.io/api/annotation/#dependency-parsing\n"
   ]
  },
  {
   "cell_type": "markdown",
   "metadata": {
    "slideshow": {
     "slide_type": "slide"
    }
   },
   "source": [
    "---\n",
    "### Aufgabe 1: Satzklassifikation"
   ]
  },
  {
   "cell_type": "code",
   "execution_count": 78,
   "metadata": {
    "slideshow": {
     "slide_type": "fragment"
    }
   },
   "outputs": [
    {
     "data": {
      "text/html": [
       "<svg xmlns=\"http://www.w3.org/2000/svg\" xmlns:xlink=\"http://www.w3.org/1999/xlink\" xml:lang=\"de\" id=\"15aed527471f4bb7b150b131989baed3-0\" class=\"displacy\" width=\"1650\" height=\"536.0\" direction=\"ltr\" style=\"max-width: none; height: 536.0px; color: #000000; background: #ffffff; font-family: Arial; direction: ltr\">\n",
       "<text class=\"displacy-token\" fill=\"currentColor\" text-anchor=\"middle\" y=\"446.0\">\n",
       "    <tspan class=\"displacy-word\" fill=\"currentColor\" x=\"50\">Als</tspan>\n",
       "    <tspan class=\"displacy-tag\" dy=\"2em\" fill=\"currentColor\" x=\"50\">SCONJ</tspan>\n",
       "</text>\n",
       "\n",
       "<text class=\"displacy-token\" fill=\"currentColor\" text-anchor=\"middle\" y=\"446.0\">\n",
       "    <tspan class=\"displacy-word\" fill=\"currentColor\" x=\"150\">sie</tspan>\n",
       "    <tspan class=\"displacy-tag\" dy=\"2em\" fill=\"currentColor\" x=\"150\">PRON</tspan>\n",
       "</text>\n",
       "\n",
       "<text class=\"displacy-token\" fill=\"currentColor\" text-anchor=\"middle\" y=\"446.0\">\n",
       "    <tspan class=\"displacy-word\" fill=\"currentColor\" x=\"250\">aus</tspan>\n",
       "    <tspan class=\"displacy-tag\" dy=\"2em\" fill=\"currentColor\" x=\"250\">ADP</tspan>\n",
       "</text>\n",
       "\n",
       "<text class=\"displacy-token\" fill=\"currentColor\" text-anchor=\"middle\" y=\"446.0\">\n",
       "    <tspan class=\"displacy-word\" fill=\"currentColor\" x=\"350\">der Kneipe</tspan>\n",
       "    <tspan class=\"displacy-tag\" dy=\"2em\" fill=\"currentColor\" x=\"350\">NOUN</tspan>\n",
       "</text>\n",
       "\n",
       "<text class=\"displacy-token\" fill=\"currentColor\" text-anchor=\"middle\" y=\"446.0\">\n",
       "    <tspan class=\"displacy-word\" fill=\"currentColor\" x=\"450\">kam,</tspan>\n",
       "    <tspan class=\"displacy-tag\" dy=\"2em\" fill=\"currentColor\" x=\"450\">VERB</tspan>\n",
       "</text>\n",
       "\n",
       "<text class=\"displacy-token\" fill=\"currentColor\" text-anchor=\"middle\" y=\"446.0\">\n",
       "    <tspan class=\"displacy-word\" fill=\"currentColor\" x=\"550\">putzte</tspan>\n",
       "    <tspan class=\"displacy-tag\" dy=\"2em\" fill=\"currentColor\" x=\"550\">VERB</tspan>\n",
       "</text>\n",
       "\n",
       "<text class=\"displacy-token\" fill=\"currentColor\" text-anchor=\"middle\" y=\"446.0\">\n",
       "    <tspan class=\"displacy-word\" fill=\"currentColor\" x=\"650\">er</tspan>\n",
       "    <tspan class=\"displacy-tag\" dy=\"2em\" fill=\"currentColor\" x=\"650\">PRON</tspan>\n",
       "</text>\n",
       "\n",
       "<text class=\"displacy-token\" fill=\"currentColor\" text-anchor=\"middle\" y=\"446.0\">\n",
       "    <tspan class=\"displacy-word\" fill=\"currentColor\" x=\"750\">die Fenster,</tspan>\n",
       "    <tspan class=\"displacy-tag\" dy=\"2em\" fill=\"currentColor\" x=\"750\">NOUN</tspan>\n",
       "</text>\n",
       "\n",
       "<text class=\"displacy-token\" fill=\"currentColor\" text-anchor=\"middle\" y=\"446.0\">\n",
       "    <tspan class=\"displacy-word\" fill=\"currentColor\" x=\"850\">damit</tspan>\n",
       "    <tspan class=\"displacy-tag\" dy=\"2em\" fill=\"currentColor\" x=\"850\">SCONJ</tspan>\n",
       "</text>\n",
       "\n",
       "<text class=\"displacy-token\" fill=\"currentColor\" text-anchor=\"middle\" y=\"446.0\">\n",
       "    <tspan class=\"displacy-word\" fill=\"currentColor\" x=\"950\">sie</tspan>\n",
       "    <tspan class=\"displacy-tag\" dy=\"2em\" fill=\"currentColor\" x=\"950\">PRON</tspan>\n",
       "</text>\n",
       "\n",
       "<text class=\"displacy-token\" fill=\"currentColor\" text-anchor=\"middle\" y=\"446.0\">\n",
       "    <tspan class=\"displacy-word\" fill=\"currentColor\" x=\"1050\">endlich</tspan>\n",
       "    <tspan class=\"displacy-tag\" dy=\"2em\" fill=\"currentColor\" x=\"1050\">ADV</tspan>\n",
       "</text>\n",
       "\n",
       "<text class=\"displacy-token\" fill=\"currentColor\" text-anchor=\"middle\" y=\"446.0\">\n",
       "    <tspan class=\"displacy-word\" fill=\"currentColor\" x=\"1150\">einmal</tspan>\n",
       "    <tspan class=\"displacy-tag\" dy=\"2em\" fill=\"currentColor\" x=\"1150\">ADV</tspan>\n",
       "</text>\n",
       "\n",
       "<text class=\"displacy-token\" fill=\"currentColor\" text-anchor=\"middle\" y=\"446.0\">\n",
       "    <tspan class=\"displacy-word\" fill=\"currentColor\" x=\"1250\">keinen Grund</tspan>\n",
       "    <tspan class=\"displacy-tag\" dy=\"2em\" fill=\"currentColor\" x=\"1250\">NOUN</tspan>\n",
       "</text>\n",
       "\n",
       "<text class=\"displacy-token\" fill=\"currentColor\" text-anchor=\"middle\" y=\"446.0\">\n",
       "    <tspan class=\"displacy-word\" fill=\"currentColor\" x=\"1350\">zum</tspan>\n",
       "    <tspan class=\"displacy-tag\" dy=\"2em\" fill=\"currentColor\" x=\"1350\">ADP</tspan>\n",
       "</text>\n",
       "\n",
       "<text class=\"displacy-token\" fill=\"currentColor\" text-anchor=\"middle\" y=\"446.0\">\n",
       "    <tspan class=\"displacy-word\" fill=\"currentColor\" x=\"1450\">Nörgeln</tspan>\n",
       "    <tspan class=\"displacy-tag\" dy=\"2em\" fill=\"currentColor\" x=\"1450\">NOUN</tspan>\n",
       "</text>\n",
       "\n",
       "<text class=\"displacy-token\" fill=\"currentColor\" text-anchor=\"middle\" y=\"446.0\">\n",
       "    <tspan class=\"displacy-word\" fill=\"currentColor\" x=\"1550\">hatte.</tspan>\n",
       "    <tspan class=\"displacy-tag\" dy=\"2em\" fill=\"currentColor\" x=\"1550\">AUX</tspan>\n",
       "</text>\n",
       "\n",
       "<g class=\"displacy-arrow\">\n",
       "    <path class=\"displacy-arc\" id=\"arrow-15aed527471f4bb7b150b131989baed3-0-0\" stroke-width=\"1px\" d=\"M62,401.0 62,334.3333333333333 438.0,334.3333333333333 438.0,401.0\" fill=\"none\" stroke=\"currentColor\"/>\n",
       "    <text dy=\"1.25em\" style=\"font-size: 0.8em; letter-spacing: 1px\">\n",
       "        <textPath xlink:href=\"#arrow-15aed527471f4bb7b150b131989baed3-0-0\" class=\"displacy-label\" startOffset=\"50%\" side=\"left\" fill=\"currentColor\" text-anchor=\"middle\">cp</textPath>\n",
       "    </text>\n",
       "    <path class=\"displacy-arrowhead\" d=\"M62,403.0 L58,395.0 66,395.0\" fill=\"currentColor\"/>\n",
       "</g>\n",
       "\n",
       "<g class=\"displacy-arrow\">\n",
       "    <path class=\"displacy-arc\" id=\"arrow-15aed527471f4bb7b150b131989baed3-0-1\" stroke-width=\"1px\" d=\"M162,401.0 162,351.0 435.0,351.0 435.0,401.0\" fill=\"none\" stroke=\"currentColor\"/>\n",
       "    <text dy=\"1.25em\" style=\"font-size: 0.8em; letter-spacing: 1px\">\n",
       "        <textPath xlink:href=\"#arrow-15aed527471f4bb7b150b131989baed3-0-1\" class=\"displacy-label\" startOffset=\"50%\" side=\"left\" fill=\"currentColor\" text-anchor=\"middle\">sb</textPath>\n",
       "    </text>\n",
       "    <path class=\"displacy-arrowhead\" d=\"M162,403.0 L158,395.0 166,395.0\" fill=\"currentColor\"/>\n",
       "</g>\n",
       "\n",
       "<g class=\"displacy-arrow\">\n",
       "    <path class=\"displacy-arc\" id=\"arrow-15aed527471f4bb7b150b131989baed3-0-2\" stroke-width=\"1px\" d=\"M262,401.0 262,367.6666666666667 432.0,367.6666666666667 432.0,401.0\" fill=\"none\" stroke=\"currentColor\"/>\n",
       "    <text dy=\"1.25em\" style=\"font-size: 0.8em; letter-spacing: 1px\">\n",
       "        <textPath xlink:href=\"#arrow-15aed527471f4bb7b150b131989baed3-0-2\" class=\"displacy-label\" startOffset=\"50%\" side=\"left\" fill=\"currentColor\" text-anchor=\"middle\">mo</textPath>\n",
       "    </text>\n",
       "    <path class=\"displacy-arrowhead\" d=\"M262,403.0 L258,395.0 266,395.0\" fill=\"currentColor\"/>\n",
       "</g>\n",
       "\n",
       "<g class=\"displacy-arrow\">\n",
       "    <path class=\"displacy-arc\" id=\"arrow-15aed527471f4bb7b150b131989baed3-0-3\" stroke-width=\"1px\" d=\"M262,401.0 262,384.3333333333333 329.0,384.3333333333333 329.0,401.0\" fill=\"none\" stroke=\"currentColor\"/>\n",
       "    <text dy=\"1.25em\" style=\"font-size: 0.8em; letter-spacing: 1px\">\n",
       "        <textPath xlink:href=\"#arrow-15aed527471f4bb7b150b131989baed3-0-3\" class=\"displacy-label\" startOffset=\"50%\" side=\"left\" fill=\"currentColor\" text-anchor=\"middle\">nk</textPath>\n",
       "    </text>\n",
       "    <path class=\"displacy-arrowhead\" d=\"M329.0,403.0 L333.0,395.0 325.0,395.0\" fill=\"currentColor\"/>\n",
       "</g>\n",
       "\n",
       "<g class=\"displacy-arrow\">\n",
       "    <path class=\"displacy-arc\" id=\"arrow-15aed527471f4bb7b150b131989baed3-0-4\" stroke-width=\"1px\" d=\"M462,401.0 462,384.3333333333333 529.0,384.3333333333333 529.0,401.0\" fill=\"none\" stroke=\"currentColor\"/>\n",
       "    <text dy=\"1.25em\" style=\"font-size: 0.8em; letter-spacing: 1px\">\n",
       "        <textPath xlink:href=\"#arrow-15aed527471f4bb7b150b131989baed3-0-4\" class=\"displacy-label\" startOffset=\"50%\" side=\"left\" fill=\"currentColor\" text-anchor=\"middle\">mo</textPath>\n",
       "    </text>\n",
       "    <path class=\"displacy-arrowhead\" d=\"M462,403.0 L458,395.0 466,395.0\" fill=\"currentColor\"/>\n",
       "</g>\n",
       "\n",
       "<g class=\"displacy-arrow\">\n",
       "    <path class=\"displacy-arc\" id=\"arrow-15aed527471f4bb7b150b131989baed3-0-5\" stroke-width=\"1px\" d=\"M562,401.0 562,384.3333333333333 629.0,384.3333333333333 629.0,401.0\" fill=\"none\" stroke=\"currentColor\"/>\n",
       "    <text dy=\"1.25em\" style=\"font-size: 0.8em; letter-spacing: 1px\">\n",
       "        <textPath xlink:href=\"#arrow-15aed527471f4bb7b150b131989baed3-0-5\" class=\"displacy-label\" startOffset=\"50%\" side=\"left\" fill=\"currentColor\" text-anchor=\"middle\">sb</textPath>\n",
       "    </text>\n",
       "    <path class=\"displacy-arrowhead\" d=\"M629.0,403.0 L633.0,395.0 625.0,395.0\" fill=\"currentColor\"/>\n",
       "</g>\n",
       "\n",
       "<g class=\"displacy-arrow\">\n",
       "    <path class=\"displacy-arc\" id=\"arrow-15aed527471f4bb7b150b131989baed3-0-6\" stroke-width=\"1px\" d=\"M562,401.0 562,367.6666666666667 732.0,367.6666666666667 732.0,401.0\" fill=\"none\" stroke=\"currentColor\"/>\n",
       "    <text dy=\"1.25em\" style=\"font-size: 0.8em; letter-spacing: 1px\">\n",
       "        <textPath xlink:href=\"#arrow-15aed527471f4bb7b150b131989baed3-0-6\" class=\"displacy-label\" startOffset=\"50%\" side=\"left\" fill=\"currentColor\" text-anchor=\"middle\">oa</textPath>\n",
       "    </text>\n",
       "    <path class=\"displacy-arrowhead\" d=\"M732.0,403.0 L736.0,395.0 728.0,395.0\" fill=\"currentColor\"/>\n",
       "</g>\n",
       "\n",
       "<g class=\"displacy-arrow\">\n",
       "    <path class=\"displacy-arc\" id=\"arrow-15aed527471f4bb7b150b131989baed3-0-7\" stroke-width=\"1px\" d=\"M862,401.0 862,284.3333333333333 1547.0,284.3333333333333 1547.0,401.0\" fill=\"none\" stroke=\"currentColor\"/>\n",
       "    <text dy=\"1.25em\" style=\"font-size: 0.8em; letter-spacing: 1px\">\n",
       "        <textPath xlink:href=\"#arrow-15aed527471f4bb7b150b131989baed3-0-7\" class=\"displacy-label\" startOffset=\"50%\" side=\"left\" fill=\"currentColor\" text-anchor=\"middle\">cp</textPath>\n",
       "    </text>\n",
       "    <path class=\"displacy-arrowhead\" d=\"M862,403.0 L858,395.0 866,395.0\" fill=\"currentColor\"/>\n",
       "</g>\n",
       "\n",
       "<g class=\"displacy-arrow\">\n",
       "    <path class=\"displacy-arc\" id=\"arrow-15aed527471f4bb7b150b131989baed3-0-8\" stroke-width=\"1px\" d=\"M962,401.0 962,301.0 1544.0,301.0 1544.0,401.0\" fill=\"none\" stroke=\"currentColor\"/>\n",
       "    <text dy=\"1.25em\" style=\"font-size: 0.8em; letter-spacing: 1px\">\n",
       "        <textPath xlink:href=\"#arrow-15aed527471f4bb7b150b131989baed3-0-8\" class=\"displacy-label\" startOffset=\"50%\" side=\"left\" fill=\"currentColor\" text-anchor=\"middle\">sb</textPath>\n",
       "    </text>\n",
       "    <path class=\"displacy-arrowhead\" d=\"M962,403.0 L958,395.0 966,395.0\" fill=\"currentColor\"/>\n",
       "</g>\n",
       "\n",
       "<g class=\"displacy-arrow\">\n",
       "    <path class=\"displacy-arc\" id=\"arrow-15aed527471f4bb7b150b131989baed3-0-9\" stroke-width=\"1px\" d=\"M1062,401.0 1062,317.6666666666667 1541.0,317.6666666666667 1541.0,401.0\" fill=\"none\" stroke=\"currentColor\"/>\n",
       "    <text dy=\"1.25em\" style=\"font-size: 0.8em; letter-spacing: 1px\">\n",
       "        <textPath xlink:href=\"#arrow-15aed527471f4bb7b150b131989baed3-0-9\" class=\"displacy-label\" startOffset=\"50%\" side=\"left\" fill=\"currentColor\" text-anchor=\"middle\">mo</textPath>\n",
       "    </text>\n",
       "    <path class=\"displacy-arrowhead\" d=\"M1062,403.0 L1058,395.0 1066,395.0\" fill=\"currentColor\"/>\n",
       "</g>\n",
       "\n",
       "<g class=\"displacy-arrow\">\n",
       "    <path class=\"displacy-arc\" id=\"arrow-15aed527471f4bb7b150b131989baed3-0-10\" stroke-width=\"1px\" d=\"M1062,401.0 1062,384.3333333333333 1129.0,384.3333333333333 1129.0,401.0\" fill=\"none\" stroke=\"currentColor\"/>\n",
       "    <text dy=\"1.25em\" style=\"font-size: 0.8em; letter-spacing: 1px\">\n",
       "        <textPath xlink:href=\"#arrow-15aed527471f4bb7b150b131989baed3-0-10\" class=\"displacy-label\" startOffset=\"50%\" side=\"left\" fill=\"currentColor\" text-anchor=\"middle\">mo</textPath>\n",
       "    </text>\n",
       "    <path class=\"displacy-arrowhead\" d=\"M1129.0,403.0 L1133.0,395.0 1125.0,395.0\" fill=\"currentColor\"/>\n",
       "</g>\n",
       "\n",
       "<g class=\"displacy-arrow\">\n",
       "    <path class=\"displacy-arc\" id=\"arrow-15aed527471f4bb7b150b131989baed3-0-11\" stroke-width=\"1px\" d=\"M1262,401.0 1262,367.6666666666667 1432.0,367.6666666666667 1432.0,401.0\" fill=\"none\" stroke=\"currentColor\"/>\n",
       "    <text dy=\"1.25em\" style=\"font-size: 0.8em; letter-spacing: 1px\">\n",
       "        <textPath xlink:href=\"#arrow-15aed527471f4bb7b150b131989baed3-0-11\" class=\"displacy-label\" startOffset=\"50%\" side=\"left\" fill=\"currentColor\" text-anchor=\"middle\">oa</textPath>\n",
       "    </text>\n",
       "    <path class=\"displacy-arrowhead\" d=\"M1262,403.0 L1258,395.0 1266,395.0\" fill=\"currentColor\"/>\n",
       "</g>\n",
       "\n",
       "<g class=\"displacy-arrow\">\n",
       "    <path class=\"displacy-arc\" id=\"arrow-15aed527471f4bb7b150b131989baed3-0-12\" stroke-width=\"1px\" d=\"M1262,401.0 1262,384.3333333333333 1329.0,384.3333333333333 1329.0,401.0\" fill=\"none\" stroke=\"currentColor\"/>\n",
       "    <text dy=\"1.25em\" style=\"font-size: 0.8em; letter-spacing: 1px\">\n",
       "        <textPath xlink:href=\"#arrow-15aed527471f4bb7b150b131989baed3-0-12\" class=\"displacy-label\" startOffset=\"50%\" side=\"left\" fill=\"currentColor\" text-anchor=\"middle\">mnr</textPath>\n",
       "    </text>\n",
       "    <path class=\"displacy-arrowhead\" d=\"M1329.0,403.0 L1333.0,395.0 1325.0,395.0\" fill=\"currentColor\"/>\n",
       "</g>\n",
       "\n",
       "<g class=\"displacy-arrow\">\n",
       "    <path class=\"displacy-arc\" id=\"arrow-15aed527471f4bb7b150b131989baed3-0-13\" stroke-width=\"1px\" d=\"M1462,401.0 1462,384.3333333333333 1529.0,384.3333333333333 1529.0,401.0\" fill=\"none\" stroke=\"currentColor\"/>\n",
       "    <text dy=\"1.25em\" style=\"font-size: 0.8em; letter-spacing: 1px\">\n",
       "        <textPath xlink:href=\"#arrow-15aed527471f4bb7b150b131989baed3-0-13\" class=\"displacy-label\" startOffset=\"50%\" side=\"left\" fill=\"currentColor\" text-anchor=\"middle\">punct</textPath>\n",
       "    </text>\n",
       "    <path class=\"displacy-arrowhead\" d=\"M1462,403.0 L1458,395.0 1466,395.0\" fill=\"currentColor\"/>\n",
       "</g>\n",
       "\n",
       "<g class=\"displacy-arrow\">\n",
       "    <path class=\"displacy-arc\" id=\"arrow-15aed527471f4bb7b150b131989baed3-0-14\" stroke-width=\"1px\" d=\"M562,401.0 562,267.66666666666663 1550.0,267.66666666666663 1550.0,401.0\" fill=\"none\" stroke=\"currentColor\"/>\n",
       "    <text dy=\"1.25em\" style=\"font-size: 0.8em; letter-spacing: 1px\">\n",
       "        <textPath xlink:href=\"#arrow-15aed527471f4bb7b150b131989baed3-0-14\" class=\"displacy-label\" startOffset=\"50%\" side=\"left\" fill=\"currentColor\" text-anchor=\"middle\">mo</textPath>\n",
       "    </text>\n",
       "    <path class=\"displacy-arrowhead\" d=\"M1550.0,403.0 L1554.0,395.0 1546.0,395.0\" fill=\"currentColor\"/>\n",
       "</g>\n",
       "</svg>"
      ],
      "text/plain": [
       "<IPython.core.display.HTML object>"
      ]
     },
     "metadata": {},
     "output_type": "display_data"
    }
   ],
   "source": [
    "doc = nlp_de('Als sie aus der Kneipe kam, putzte er die Fenster, damit sie endlich einmal keinen Grund zum Nörgeln hatte.')\n",
    "displacy.render(doc, style=\"dep\", options=options)"
   ]
  },
  {
   "cell_type": "markdown",
   "metadata": {
    "slideshow": {
     "slide_type": "subslide"
    }
   },
   "source": [
    "#### Klassifizieren Sie die Nebensätze des obigen Satzes nach syntaktischen, semantischen und formalen Gesichtspunkten.\n",
    "\n",
    "- *Als sie aus der Kneipe kam, putzte er die Fenster, damit sie endlich einmal keinen Grund zum Nörgeln hatte.*\n",
    "\n",
    "#### Beantworten Sie zu diesem Satz die folgenden Fragen."
   ]
  },
  {
   "cell_type": "markdown",
   "metadata": {
    "slideshow": {
     "slide_type": "slide"
    }
   },
   "source": [
    "--- \n",
    "## Aufgabe 5: Syntaxregeln komplexer Sätze\n",
    "#### Geben Sie zu den folgenden Outputs des Stanford-Parsers (trainiert auf Penn-Treebank bzw. mit UD-Schema) anhand der Ableitungsbäume die Regeln der jeweils auftretenden komplexen Satzkonstruktionen an (CFG- sowie Dependenzregeln) und benennen Sie den Satz- bzw. Konstruktionstyp. "
   ]
  },
  {
   "cell_type": "markdown",
   "metadata": {
    "slideshow": {
     "slide_type": "subslide"
    }
   },
   "source": [
    "---\n",
    "\n",
    "---\n",
    "## Aufgabe 5a: "
   ]
  },
  {
   "cell_type": "code",
   "execution_count": 85,
   "metadata": {
    "slideshow": {
     "slide_type": "fragment"
    }
   },
   "outputs": [
    {
     "data": {
      "text/html": [
       "<svg xmlns=\"http://www.w3.org/2000/svg\" xmlns:xlink=\"http://www.w3.org/1999/xlink\" xml:lang=\"en\" id=\"1be85f1356b74f4e88538bf37736460b-0\" class=\"displacy\" width=\"550\" height=\"286.0\" direction=\"ltr\" style=\"max-width: none; height: 286.0px; color: #000000; background: #ffffff; font-family: Arial; direction: ltr\">\n",
       "<text class=\"displacy-token\" fill=\"currentColor\" text-anchor=\"middle\" y=\"196.0\">\n",
       "    <tspan class=\"displacy-word\" fill=\"currentColor\" x=\"50\">I</tspan>\n",
       "    <tspan class=\"displacy-tag\" dy=\"2em\" fill=\"currentColor\" x=\"50\">PRON</tspan>\n",
       "</text>\n",
       "\n",
       "<text class=\"displacy-token\" fill=\"currentColor\" text-anchor=\"middle\" y=\"196.0\">\n",
       "    <tspan class=\"displacy-word\" fill=\"currentColor\" x=\"150\">believe</tspan>\n",
       "    <tspan class=\"displacy-tag\" dy=\"2em\" fill=\"currentColor\" x=\"150\">VERB</tspan>\n",
       "</text>\n",
       "\n",
       "<text class=\"displacy-token\" fill=\"currentColor\" text-anchor=\"middle\" y=\"196.0\">\n",
       "    <tspan class=\"displacy-word\" fill=\"currentColor\" x=\"250\">that</tspan>\n",
       "    <tspan class=\"displacy-tag\" dy=\"2em\" fill=\"currentColor\" x=\"250\">SCONJ</tspan>\n",
       "</text>\n",
       "\n",
       "<text class=\"displacy-token\" fill=\"currentColor\" text-anchor=\"middle\" y=\"196.0\">\n",
       "    <tspan class=\"displacy-word\" fill=\"currentColor\" x=\"350\">you</tspan>\n",
       "    <tspan class=\"displacy-tag\" dy=\"2em\" fill=\"currentColor\" x=\"350\">PRON</tspan>\n",
       "</text>\n",
       "\n",
       "<text class=\"displacy-token\" fill=\"currentColor\" text-anchor=\"middle\" y=\"196.0\">\n",
       "    <tspan class=\"displacy-word\" fill=\"currentColor\" x=\"450\">win.</tspan>\n",
       "    <tspan class=\"displacy-tag\" dy=\"2em\" fill=\"currentColor\" x=\"450\">VERB</tspan>\n",
       "</text>\n",
       "\n",
       "<g class=\"displacy-arrow\">\n",
       "    <path class=\"displacy-arc\" id=\"arrow-1be85f1356b74f4e88538bf37736460b-0-0\" stroke-width=\"1px\" d=\"M62,151.0 62,134.33333333333334 144.0,134.33333333333334 144.0,151.0\" fill=\"none\" stroke=\"currentColor\"/>\n",
       "    <text dy=\"1.25em\" style=\"font-size: 0.8em; letter-spacing: 1px\">\n",
       "        <textPath xlink:href=\"#arrow-1be85f1356b74f4e88538bf37736460b-0-0\" class=\"displacy-label\" startOffset=\"50%\" side=\"left\" fill=\"currentColor\" text-anchor=\"middle\">nsubj</textPath>\n",
       "    </text>\n",
       "    <path class=\"displacy-arrowhead\" d=\"M62,153.0 L58,145.0 66,145.0\" fill=\"currentColor\"/>\n",
       "</g>\n",
       "\n",
       "<g class=\"displacy-arrow\">\n",
       "    <path class=\"displacy-arc\" id=\"arrow-1be85f1356b74f4e88538bf37736460b-0-1\" stroke-width=\"1px\" d=\"M262,151.0 262,117.66666666666666 447.0,117.66666666666666 447.0,151.0\" fill=\"none\" stroke=\"currentColor\"/>\n",
       "    <text dy=\"1.25em\" style=\"font-size: 0.8em; letter-spacing: 1px\">\n",
       "        <textPath xlink:href=\"#arrow-1be85f1356b74f4e88538bf37736460b-0-1\" class=\"displacy-label\" startOffset=\"50%\" side=\"left\" fill=\"currentColor\" text-anchor=\"middle\">mark</textPath>\n",
       "    </text>\n",
       "    <path class=\"displacy-arrowhead\" d=\"M262,153.0 L258,145.0 266,145.0\" fill=\"currentColor\"/>\n",
       "</g>\n",
       "\n",
       "<g class=\"displacy-arrow\">\n",
       "    <path class=\"displacy-arc\" id=\"arrow-1be85f1356b74f4e88538bf37736460b-0-2\" stroke-width=\"1px\" d=\"M362,151.0 362,134.33333333333334 444.0,134.33333333333334 444.0,151.0\" fill=\"none\" stroke=\"currentColor\"/>\n",
       "    <text dy=\"1.25em\" style=\"font-size: 0.8em; letter-spacing: 1px\">\n",
       "        <textPath xlink:href=\"#arrow-1be85f1356b74f4e88538bf37736460b-0-2\" class=\"displacy-label\" startOffset=\"50%\" side=\"left\" fill=\"currentColor\" text-anchor=\"middle\">nsubj</textPath>\n",
       "    </text>\n",
       "    <path class=\"displacy-arrowhead\" d=\"M362,153.0 L358,145.0 366,145.0\" fill=\"currentColor\"/>\n",
       "</g>\n",
       "\n",
       "<g class=\"displacy-arrow\">\n",
       "    <path class=\"displacy-arc\" id=\"arrow-1be85f1356b74f4e88538bf37736460b-0-3\" stroke-width=\"1px\" d=\"M162,151.0 162,101.0 450.0,101.0 450.0,151.0\" fill=\"none\" stroke=\"currentColor\"/>\n",
       "    <text dy=\"1.25em\" style=\"font-size: 0.8em; letter-spacing: 1px\">\n",
       "        <textPath xlink:href=\"#arrow-1be85f1356b74f4e88538bf37736460b-0-3\" class=\"displacy-label\" startOffset=\"50%\" side=\"left\" fill=\"currentColor\" text-anchor=\"middle\">ccomp</textPath>\n",
       "    </text>\n",
       "    <path class=\"displacy-arrowhead\" d=\"M450.0,153.0 L454.0,145.0 446.0,145.0\" fill=\"currentColor\"/>\n",
       "</g>\n",
       "</svg>"
      ],
      "text/plain": [
       "<IPython.core.display.HTML object>"
      ]
     },
     "metadata": {},
     "output_type": "display_data"
    }
   ],
   "source": [
    "sentence = \"I believe that you win.\"\n",
    "doc = nlp_en(sentence)\n",
    "displacy.render(doc, style=\"dep\", options=options)"
   ]
  },
  {
   "cell_type": "markdown",
   "metadata": {
    "slideshow": {
     "slide_type": "subslide"
    }
   },
   "source": [
    "---\n",
    "\n",
    "---\n",
    "## Aufgabe 5b: "
   ]
  },
  {
   "cell_type": "code",
   "execution_count": 79,
   "metadata": {
    "slideshow": {
     "slide_type": "fragment"
    }
   },
   "outputs": [
    {
     "data": {
      "text/html": [
       "<svg xmlns=\"http://www.w3.org/2000/svg\" xmlns:xlink=\"http://www.w3.org/1999/xlink\" xml:lang=\"en\" id=\"9f0daffb5b0840f69cfeb158204bfed2-0\" class=\"displacy\" width=\"450\" height=\"236.0\" direction=\"ltr\" style=\"max-width: none; height: 236.0px; color: #000000; background: #ffffff; font-family: Arial; direction: ltr\">\n",
       "<text class=\"displacy-token\" fill=\"currentColor\" text-anchor=\"middle\" y=\"146.0\">\n",
       "    <tspan class=\"displacy-word\" fill=\"currentColor\" x=\"50\">I</tspan>\n",
       "    <tspan class=\"displacy-tag\" dy=\"2em\" fill=\"currentColor\" x=\"50\">PRON</tspan>\n",
       "</text>\n",
       "\n",
       "<text class=\"displacy-token\" fill=\"currentColor\" text-anchor=\"middle\" y=\"146.0\">\n",
       "    <tspan class=\"displacy-word\" fill=\"currentColor\" x=\"150\">want</tspan>\n",
       "    <tspan class=\"displacy-tag\" dy=\"2em\" fill=\"currentColor\" x=\"150\">VERB</tspan>\n",
       "</text>\n",
       "\n",
       "<text class=\"displacy-token\" fill=\"currentColor\" text-anchor=\"middle\" y=\"146.0\">\n",
       "    <tspan class=\"displacy-word\" fill=\"currentColor\" x=\"250\">to</tspan>\n",
       "    <tspan class=\"displacy-tag\" dy=\"2em\" fill=\"currentColor\" x=\"250\">PART</tspan>\n",
       "</text>\n",
       "\n",
       "<text class=\"displacy-token\" fill=\"currentColor\" text-anchor=\"middle\" y=\"146.0\">\n",
       "    <tspan class=\"displacy-word\" fill=\"currentColor\" x=\"350\">believe.</tspan>\n",
       "    <tspan class=\"displacy-tag\" dy=\"2em\" fill=\"currentColor\" x=\"350\">VERB</tspan>\n",
       "</text>\n",
       "\n",
       "<g class=\"displacy-arrow\">\n",
       "    <path class=\"displacy-arc\" id=\"arrow-9f0daffb5b0840f69cfeb158204bfed2-0-0\" stroke-width=\"1px\" d=\"M62,101.0 62,84.33333333333333 147.0,84.33333333333333 147.0,101.0\" fill=\"none\" stroke=\"currentColor\"/>\n",
       "    <text dy=\"1.25em\" style=\"font-size: 0.8em; letter-spacing: 1px\">\n",
       "        <textPath xlink:href=\"#arrow-9f0daffb5b0840f69cfeb158204bfed2-0-0\" class=\"displacy-label\" startOffset=\"50%\" side=\"left\" fill=\"currentColor\" text-anchor=\"middle\">nsubj</textPath>\n",
       "    </text>\n",
       "    <path class=\"displacy-arrowhead\" d=\"M62,103.0 L58,95.0 66,95.0\" fill=\"currentColor\"/>\n",
       "</g>\n",
       "\n",
       "<g class=\"displacy-arrow\">\n",
       "    <path class=\"displacy-arc\" id=\"arrow-9f0daffb5b0840f69cfeb158204bfed2-0-1\" stroke-width=\"1px\" d=\"M262,101.0 262,84.33333333333333 347.0,84.33333333333333 347.0,101.0\" fill=\"none\" stroke=\"currentColor\"/>\n",
       "    <text dy=\"1.25em\" style=\"font-size: 0.8em; letter-spacing: 1px\">\n",
       "        <textPath xlink:href=\"#arrow-9f0daffb5b0840f69cfeb158204bfed2-0-1\" class=\"displacy-label\" startOffset=\"50%\" side=\"left\" fill=\"currentColor\" text-anchor=\"middle\">aux</textPath>\n",
       "    </text>\n",
       "    <path class=\"displacy-arrowhead\" d=\"M262,103.0 L258,95.0 266,95.0\" fill=\"currentColor\"/>\n",
       "</g>\n",
       "\n",
       "<g class=\"displacy-arrow\">\n",
       "    <path class=\"displacy-arc\" id=\"arrow-9f0daffb5b0840f69cfeb158204bfed2-0-2\" stroke-width=\"1px\" d=\"M162,101.0 162,67.66666666666666 350.0,67.66666666666666 350.0,101.0\" fill=\"none\" stroke=\"currentColor\"/>\n",
       "    <text dy=\"1.25em\" style=\"font-size: 0.8em; letter-spacing: 1px\">\n",
       "        <textPath xlink:href=\"#arrow-9f0daffb5b0840f69cfeb158204bfed2-0-2\" class=\"displacy-label\" startOffset=\"50%\" side=\"left\" fill=\"currentColor\" text-anchor=\"middle\">xcomp</textPath>\n",
       "    </text>\n",
       "    <path class=\"displacy-arrowhead\" d=\"M350.0,103.0 L354.0,95.0 346.0,95.0\" fill=\"currentColor\"/>\n",
       "</g>\n",
       "</svg>"
      ],
      "text/plain": [
       "<IPython.core.display.HTML object>"
      ]
     },
     "metadata": {},
     "output_type": "display_data"
    }
   ],
   "source": [
    "sentence = \"I want to believe.\"\n",
    "doc = nlp_en(sentence)\n",
    "displacy.render(doc, style=\"dep\", options=options)"
   ]
  },
  {
   "cell_type": "markdown",
   "metadata": {
    "slideshow": {
     "slide_type": "subslide"
    }
   },
   "source": [
    "---\n",
    "\n",
    "---\n",
    "## Aufgabe 5c: "
   ]
  },
  {
   "cell_type": "code",
   "execution_count": 80,
   "metadata": {
    "slideshow": {
     "slide_type": "fragment"
    }
   },
   "outputs": [
    {
     "data": {
      "text/html": [
       "<svg xmlns=\"http://www.w3.org/2000/svg\" xmlns:xlink=\"http://www.w3.org/1999/xlink\" xml:lang=\"en\" id=\"e360d972614a4a6d91d2ae400c96b49e-0\" class=\"displacy\" width=\"550\" height=\"236.0\" direction=\"ltr\" style=\"max-width: none; height: 236.0px; color: #000000; background: #ffffff; font-family: Arial; direction: ltr\">\n",
       "<text class=\"displacy-token\" fill=\"currentColor\" text-anchor=\"middle\" y=\"146.0\">\n",
       "    <tspan class=\"displacy-word\" fill=\"currentColor\" x=\"50\">the man</tspan>\n",
       "    <tspan class=\"displacy-tag\" dy=\"2em\" fill=\"currentColor\" x=\"50\">NOUN</tspan>\n",
       "</text>\n",
       "\n",
       "<text class=\"displacy-token\" fill=\"currentColor\" text-anchor=\"middle\" y=\"146.0\">\n",
       "    <tspan class=\"displacy-word\" fill=\"currentColor\" x=\"150\">who</tspan>\n",
       "    <tspan class=\"displacy-tag\" dy=\"2em\" fill=\"currentColor\" x=\"150\">PRON</tspan>\n",
       "</text>\n",
       "\n",
       "<text class=\"displacy-token\" fill=\"currentColor\" text-anchor=\"middle\" y=\"146.0\">\n",
       "    <tspan class=\"displacy-word\" fill=\"currentColor\" x=\"250\">knew</tspan>\n",
       "    <tspan class=\"displacy-tag\" dy=\"2em\" fill=\"currentColor\" x=\"250\">VERB</tspan>\n",
       "</text>\n",
       "\n",
       "<text class=\"displacy-token\" fill=\"currentColor\" text-anchor=\"middle\" y=\"146.0\">\n",
       "    <tspan class=\"displacy-word\" fill=\"currentColor\" x=\"350\">too</tspan>\n",
       "    <tspan class=\"displacy-tag\" dy=\"2em\" fill=\"currentColor\" x=\"350\">ADV</tspan>\n",
       "</text>\n",
       "\n",
       "<text class=\"displacy-token\" fill=\"currentColor\" text-anchor=\"middle\" y=\"146.0\">\n",
       "    <tspan class=\"displacy-word\" fill=\"currentColor\" x=\"450\">much</tspan>\n",
       "    <tspan class=\"displacy-tag\" dy=\"2em\" fill=\"currentColor\" x=\"450\">ADV</tspan>\n",
       "</text>\n",
       "\n",
       "<g class=\"displacy-arrow\">\n",
       "    <path class=\"displacy-arc\" id=\"arrow-e360d972614a4a6d91d2ae400c96b49e-0-0\" stroke-width=\"1px\" d=\"M162,101.0 162,84.33333333333333 247.0,84.33333333333333 247.0,101.0\" fill=\"none\" stroke=\"currentColor\"/>\n",
       "    <text dy=\"1.25em\" style=\"font-size: 0.8em; letter-spacing: 1px\">\n",
       "        <textPath xlink:href=\"#arrow-e360d972614a4a6d91d2ae400c96b49e-0-0\" class=\"displacy-label\" startOffset=\"50%\" side=\"left\" fill=\"currentColor\" text-anchor=\"middle\">nsubj</textPath>\n",
       "    </text>\n",
       "    <path class=\"displacy-arrowhead\" d=\"M162,103.0 L158,95.0 166,95.0\" fill=\"currentColor\"/>\n",
       "</g>\n",
       "\n",
       "<g class=\"displacy-arrow\">\n",
       "    <path class=\"displacy-arc\" id=\"arrow-e360d972614a4a6d91d2ae400c96b49e-0-1\" stroke-width=\"1px\" d=\"M62,101.0 62,67.66666666666666 250.0,67.66666666666666 250.0,101.0\" fill=\"none\" stroke=\"currentColor\"/>\n",
       "    <text dy=\"1.25em\" style=\"font-size: 0.8em; letter-spacing: 1px\">\n",
       "        <textPath xlink:href=\"#arrow-e360d972614a4a6d91d2ae400c96b49e-0-1\" class=\"displacy-label\" startOffset=\"50%\" side=\"left\" fill=\"currentColor\" text-anchor=\"middle\">relcl</textPath>\n",
       "    </text>\n",
       "    <path class=\"displacy-arrowhead\" d=\"M250.0,103.0 L254.0,95.0 246.0,95.0\" fill=\"currentColor\"/>\n",
       "</g>\n",
       "\n",
       "<g class=\"displacy-arrow\">\n",
       "    <path class=\"displacy-arc\" id=\"arrow-e360d972614a4a6d91d2ae400c96b49e-0-2\" stroke-width=\"1px\" d=\"M362,101.0 362,84.33333333333333 447.0,84.33333333333333 447.0,101.0\" fill=\"none\" stroke=\"currentColor\"/>\n",
       "    <text dy=\"1.25em\" style=\"font-size: 0.8em; letter-spacing: 1px\">\n",
       "        <textPath xlink:href=\"#arrow-e360d972614a4a6d91d2ae400c96b49e-0-2\" class=\"displacy-label\" startOffset=\"50%\" side=\"left\" fill=\"currentColor\" text-anchor=\"middle\">advmod</textPath>\n",
       "    </text>\n",
       "    <path class=\"displacy-arrowhead\" d=\"M362,103.0 L358,95.0 366,95.0\" fill=\"currentColor\"/>\n",
       "</g>\n",
       "\n",
       "<g class=\"displacy-arrow\">\n",
       "    <path class=\"displacy-arc\" id=\"arrow-e360d972614a4a6d91d2ae400c96b49e-0-3\" stroke-width=\"1px\" d=\"M262,101.0 262,67.66666666666666 450.0,67.66666666666666 450.0,101.0\" fill=\"none\" stroke=\"currentColor\"/>\n",
       "    <text dy=\"1.25em\" style=\"font-size: 0.8em; letter-spacing: 1px\">\n",
       "        <textPath xlink:href=\"#arrow-e360d972614a4a6d91d2ae400c96b49e-0-3\" class=\"displacy-label\" startOffset=\"50%\" side=\"left\" fill=\"currentColor\" text-anchor=\"middle\">advmod</textPath>\n",
       "    </text>\n",
       "    <path class=\"displacy-arrowhead\" d=\"M450.0,103.0 L454.0,95.0 446.0,95.0\" fill=\"currentColor\"/>\n",
       "</g>\n",
       "</svg>"
      ],
      "text/plain": [
       "<IPython.core.display.HTML object>"
      ]
     },
     "metadata": {},
     "output_type": "display_data"
    }
   ],
   "source": [
    "sentence = \"the man who knew too much\"\n",
    "doc = nlp_en(sentence)\n",
    "displacy.render(doc, style=\"dep\", options=options)"
   ]
  },
  {
   "cell_type": "markdown",
   "metadata": {
    "slideshow": {
     "slide_type": "subslide"
    }
   },
   "source": [
    "---\n",
    "\n",
    "---\n",
    "## Aufgabe 5d: "
   ]
  },
  {
   "cell_type": "code",
   "execution_count": 81,
   "metadata": {
    "slideshow": {
     "slide_type": "fragment"
    }
   },
   "outputs": [
    {
     "data": {
      "text/html": [
       "<svg xmlns=\"http://www.w3.org/2000/svg\" xmlns:xlink=\"http://www.w3.org/1999/xlink\" xml:lang=\"en\" id=\"ad81a097032c43bcb9b64b15c9fd7614-0\" class=\"displacy\" width=\"650\" height=\"236.0\" direction=\"ltr\" style=\"max-width: none; height: 236.0px; color: #000000; background: #ffffff; font-family: Arial; direction: ltr\">\n",
       "<text class=\"displacy-token\" fill=\"currentColor\" text-anchor=\"middle\" y=\"146.0\">\n",
       "    <tspan class=\"displacy-word\" fill=\"currentColor\" x=\"50\">They</tspan>\n",
       "    <tspan class=\"displacy-tag\" dy=\"2em\" fill=\"currentColor\" x=\"50\">PRON</tspan>\n",
       "</text>\n",
       "\n",
       "<text class=\"displacy-token\" fill=\"currentColor\" text-anchor=\"middle\" y=\"146.0\">\n",
       "    <tspan class=\"displacy-word\" fill=\"currentColor\" x=\"150\">left,</tspan>\n",
       "    <tspan class=\"displacy-tag\" dy=\"2em\" fill=\"currentColor\" x=\"150\">VERB</tspan>\n",
       "</text>\n",
       "\n",
       "<text class=\"displacy-token\" fill=\"currentColor\" text-anchor=\"middle\" y=\"146.0\">\n",
       "    <tspan class=\"displacy-word\" fill=\"currentColor\" x=\"250\">but</tspan>\n",
       "    <tspan class=\"displacy-tag\" dy=\"2em\" fill=\"currentColor\" x=\"250\">CCONJ</tspan>\n",
       "</text>\n",
       "\n",
       "<text class=\"displacy-token\" fill=\"currentColor\" text-anchor=\"middle\" y=\"146.0\">\n",
       "    <tspan class=\"displacy-word\" fill=\"currentColor\" x=\"350\">they</tspan>\n",
       "    <tspan class=\"displacy-tag\" dy=\"2em\" fill=\"currentColor\" x=\"350\">PRON</tspan>\n",
       "</text>\n",
       "\n",
       "<text class=\"displacy-token\" fill=\"currentColor\" text-anchor=\"middle\" y=\"146.0\">\n",
       "    <tspan class=\"displacy-word\" fill=\"currentColor\" x=\"450\">came</tspan>\n",
       "    <tspan class=\"displacy-tag\" dy=\"2em\" fill=\"currentColor\" x=\"450\">VERB</tspan>\n",
       "</text>\n",
       "\n",
       "<text class=\"displacy-token\" fill=\"currentColor\" text-anchor=\"middle\" y=\"146.0\">\n",
       "    <tspan class=\"displacy-word\" fill=\"currentColor\" x=\"550\">back.</tspan>\n",
       "    <tspan class=\"displacy-tag\" dy=\"2em\" fill=\"currentColor\" x=\"550\">ADV</tspan>\n",
       "</text>\n",
       "\n",
       "<g class=\"displacy-arrow\">\n",
       "    <path class=\"displacy-arc\" id=\"arrow-ad81a097032c43bcb9b64b15c9fd7614-0-0\" stroke-width=\"1px\" d=\"M62,101.0 62,84.33333333333333 147.0,84.33333333333333 147.0,101.0\" fill=\"none\" stroke=\"currentColor\"/>\n",
       "    <text dy=\"1.25em\" style=\"font-size: 0.8em; letter-spacing: 1px\">\n",
       "        <textPath xlink:href=\"#arrow-ad81a097032c43bcb9b64b15c9fd7614-0-0\" class=\"displacy-label\" startOffset=\"50%\" side=\"left\" fill=\"currentColor\" text-anchor=\"middle\">nsubj</textPath>\n",
       "    </text>\n",
       "    <path class=\"displacy-arrowhead\" d=\"M62,103.0 L58,95.0 66,95.0\" fill=\"currentColor\"/>\n",
       "</g>\n",
       "\n",
       "<g class=\"displacy-arrow\">\n",
       "    <path class=\"displacy-arc\" id=\"arrow-ad81a097032c43bcb9b64b15c9fd7614-0-1\" stroke-width=\"1px\" d=\"M162,101.0 162,84.33333333333333 247.0,84.33333333333333 247.0,101.0\" fill=\"none\" stroke=\"currentColor\"/>\n",
       "    <text dy=\"1.25em\" style=\"font-size: 0.8em; letter-spacing: 1px\">\n",
       "        <textPath xlink:href=\"#arrow-ad81a097032c43bcb9b64b15c9fd7614-0-1\" class=\"displacy-label\" startOffset=\"50%\" side=\"left\" fill=\"currentColor\" text-anchor=\"middle\">cc</textPath>\n",
       "    </text>\n",
       "    <path class=\"displacy-arrowhead\" d=\"M247.0,103.0 L251.0,95.0 243.0,95.0\" fill=\"currentColor\"/>\n",
       "</g>\n",
       "\n",
       "<g class=\"displacy-arrow\">\n",
       "    <path class=\"displacy-arc\" id=\"arrow-ad81a097032c43bcb9b64b15c9fd7614-0-2\" stroke-width=\"1px\" d=\"M362,101.0 362,84.33333333333333 447.0,84.33333333333333 447.0,101.0\" fill=\"none\" stroke=\"currentColor\"/>\n",
       "    <text dy=\"1.25em\" style=\"font-size: 0.8em; letter-spacing: 1px\">\n",
       "        <textPath xlink:href=\"#arrow-ad81a097032c43bcb9b64b15c9fd7614-0-2\" class=\"displacy-label\" startOffset=\"50%\" side=\"left\" fill=\"currentColor\" text-anchor=\"middle\">nsubj</textPath>\n",
       "    </text>\n",
       "    <path class=\"displacy-arrowhead\" d=\"M362,103.0 L358,95.0 366,95.0\" fill=\"currentColor\"/>\n",
       "</g>\n",
       "\n",
       "<g class=\"displacy-arrow\">\n",
       "    <path class=\"displacy-arc\" id=\"arrow-ad81a097032c43bcb9b64b15c9fd7614-0-3\" stroke-width=\"1px\" d=\"M162,101.0 162,67.66666666666666 450.0,67.66666666666666 450.0,101.0\" fill=\"none\" stroke=\"currentColor\"/>\n",
       "    <text dy=\"1.25em\" style=\"font-size: 0.8em; letter-spacing: 1px\">\n",
       "        <textPath xlink:href=\"#arrow-ad81a097032c43bcb9b64b15c9fd7614-0-3\" class=\"displacy-label\" startOffset=\"50%\" side=\"left\" fill=\"currentColor\" text-anchor=\"middle\">conj</textPath>\n",
       "    </text>\n",
       "    <path class=\"displacy-arrowhead\" d=\"M450.0,103.0 L454.0,95.0 446.0,95.0\" fill=\"currentColor\"/>\n",
       "</g>\n",
       "\n",
       "<g class=\"displacy-arrow\">\n",
       "    <path class=\"displacy-arc\" id=\"arrow-ad81a097032c43bcb9b64b15c9fd7614-0-4\" stroke-width=\"1px\" d=\"M462,101.0 462,84.33333333333333 547.0,84.33333333333333 547.0,101.0\" fill=\"none\" stroke=\"currentColor\"/>\n",
       "    <text dy=\"1.25em\" style=\"font-size: 0.8em; letter-spacing: 1px\">\n",
       "        <textPath xlink:href=\"#arrow-ad81a097032c43bcb9b64b15c9fd7614-0-4\" class=\"displacy-label\" startOffset=\"50%\" side=\"left\" fill=\"currentColor\" text-anchor=\"middle\">advmod</textPath>\n",
       "    </text>\n",
       "    <path class=\"displacy-arrowhead\" d=\"M547.0,103.0 L551.0,95.0 543.0,95.0\" fill=\"currentColor\"/>\n",
       "</g>\n",
       "</svg>"
      ],
      "text/plain": [
       "<IPython.core.display.HTML object>"
      ]
     },
     "metadata": {},
     "output_type": "display_data"
    }
   ],
   "source": [
    "sentence = \"They left, but they came back.\"\n",
    "doc = nlp_en(sentence)\n",
    "displacy.render(doc, style=\"dep\", options=options)"
   ]
  },
  {
   "cell_type": "markdown",
   "metadata": {
    "slideshow": {
     "slide_type": "subslide"
    }
   },
   "source": [
    "---\n",
    "\n",
    "---\n",
    "## Aufgabe 5e: "
   ]
  },
  {
   "cell_type": "code",
   "execution_count": 82,
   "metadata": {
    "slideshow": {
     "slide_type": "fragment"
    }
   },
   "outputs": [
    {
     "data": {
      "text/html": [
       "<svg xmlns=\"http://www.w3.org/2000/svg\" xmlns:xlink=\"http://www.w3.org/1999/xlink\" xml:lang=\"en\" id=\"c2046bb4939c49eaac44f167f7d4ff61-0\" class=\"displacy\" width=\"550\" height=\"286.0\" direction=\"ltr\" style=\"max-width: none; height: 286.0px; color: #000000; background: #ffffff; font-family: Arial; direction: ltr\">\n",
       "<text class=\"displacy-token\" fill=\"currentColor\" text-anchor=\"middle\" y=\"196.0\">\n",
       "    <tspan class=\"displacy-word\" fill=\"currentColor\" x=\"50\">This</tspan>\n",
       "    <tspan class=\"displacy-tag\" dy=\"2em\" fill=\"currentColor\" x=\"50\">DET</tspan>\n",
       "</text>\n",
       "\n",
       "<text class=\"displacy-token\" fill=\"currentColor\" text-anchor=\"middle\" y=\"196.0\">\n",
       "    <tspan class=\"displacy-word\" fill=\"currentColor\" x=\"150\">ca</tspan>\n",
       "    <tspan class=\"displacy-tag\" dy=\"2em\" fill=\"currentColor\" x=\"150\">AUX</tspan>\n",
       "</text>\n",
       "\n",
       "<text class=\"displacy-token\" fill=\"currentColor\" text-anchor=\"middle\" y=\"196.0\">\n",
       "    <tspan class=\"displacy-word\" fill=\"currentColor\" x=\"250\">n't</tspan>\n",
       "    <tspan class=\"displacy-tag\" dy=\"2em\" fill=\"currentColor\" x=\"250\">PART</tspan>\n",
       "</text>\n",
       "\n",
       "<text class=\"displacy-token\" fill=\"currentColor\" text-anchor=\"middle\" y=\"196.0\">\n",
       "    <tspan class=\"displacy-word\" fill=\"currentColor\" x=\"350\">be</tspan>\n",
       "    <tspan class=\"displacy-tag\" dy=\"2em\" fill=\"currentColor\" x=\"350\">AUX</tspan>\n",
       "</text>\n",
       "\n",
       "<text class=\"displacy-token\" fill=\"currentColor\" text-anchor=\"middle\" y=\"196.0\">\n",
       "    <tspan class=\"displacy-word\" fill=\"currentColor\" x=\"450\">right.</tspan>\n",
       "    <tspan class=\"displacy-tag\" dy=\"2em\" fill=\"currentColor\" x=\"450\">ADJ</tspan>\n",
       "</text>\n",
       "\n",
       "<g class=\"displacy-arrow\">\n",
       "    <path class=\"displacy-arc\" id=\"arrow-c2046bb4939c49eaac44f167f7d4ff61-0-0\" stroke-width=\"1px\" d=\"M62,151.0 62,101.0 350.0,101.0 350.0,151.0\" fill=\"none\" stroke=\"currentColor\"/>\n",
       "    <text dy=\"1.25em\" style=\"font-size: 0.8em; letter-spacing: 1px\">\n",
       "        <textPath xlink:href=\"#arrow-c2046bb4939c49eaac44f167f7d4ff61-0-0\" class=\"displacy-label\" startOffset=\"50%\" side=\"left\" fill=\"currentColor\" text-anchor=\"middle\">nsubj</textPath>\n",
       "    </text>\n",
       "    <path class=\"displacy-arrowhead\" d=\"M62,153.0 L58,145.0 66,145.0\" fill=\"currentColor\"/>\n",
       "</g>\n",
       "\n",
       "<g class=\"displacy-arrow\">\n",
       "    <path class=\"displacy-arc\" id=\"arrow-c2046bb4939c49eaac44f167f7d4ff61-0-1\" stroke-width=\"1px\" d=\"M162,151.0 162,117.66666666666666 347.0,117.66666666666666 347.0,151.0\" fill=\"none\" stroke=\"currentColor\"/>\n",
       "    <text dy=\"1.25em\" style=\"font-size: 0.8em; letter-spacing: 1px\">\n",
       "        <textPath xlink:href=\"#arrow-c2046bb4939c49eaac44f167f7d4ff61-0-1\" class=\"displacy-label\" startOffset=\"50%\" side=\"left\" fill=\"currentColor\" text-anchor=\"middle\">aux</textPath>\n",
       "    </text>\n",
       "    <path class=\"displacy-arrowhead\" d=\"M162,153.0 L158,145.0 166,145.0\" fill=\"currentColor\"/>\n",
       "</g>\n",
       "\n",
       "<g class=\"displacy-arrow\">\n",
       "    <path class=\"displacy-arc\" id=\"arrow-c2046bb4939c49eaac44f167f7d4ff61-0-2\" stroke-width=\"1px\" d=\"M262,151.0 262,134.33333333333334 344.0,134.33333333333334 344.0,151.0\" fill=\"none\" stroke=\"currentColor\"/>\n",
       "    <text dy=\"1.25em\" style=\"font-size: 0.8em; letter-spacing: 1px\">\n",
       "        <textPath xlink:href=\"#arrow-c2046bb4939c49eaac44f167f7d4ff61-0-2\" class=\"displacy-label\" startOffset=\"50%\" side=\"left\" fill=\"currentColor\" text-anchor=\"middle\">neg</textPath>\n",
       "    </text>\n",
       "    <path class=\"displacy-arrowhead\" d=\"M262,153.0 L258,145.0 266,145.0\" fill=\"currentColor\"/>\n",
       "</g>\n",
       "\n",
       "<g class=\"displacy-arrow\">\n",
       "    <path class=\"displacy-arc\" id=\"arrow-c2046bb4939c49eaac44f167f7d4ff61-0-3\" stroke-width=\"1px\" d=\"M362,151.0 362,134.33333333333334 444.0,134.33333333333334 444.0,151.0\" fill=\"none\" stroke=\"currentColor\"/>\n",
       "    <text dy=\"1.25em\" style=\"font-size: 0.8em; letter-spacing: 1px\">\n",
       "        <textPath xlink:href=\"#arrow-c2046bb4939c49eaac44f167f7d4ff61-0-3\" class=\"displacy-label\" startOffset=\"50%\" side=\"left\" fill=\"currentColor\" text-anchor=\"middle\">acomp</textPath>\n",
       "    </text>\n",
       "    <path class=\"displacy-arrowhead\" d=\"M444.0,153.0 L448.0,145.0 440.0,145.0\" fill=\"currentColor\"/>\n",
       "</g>\n",
       "</svg>"
      ],
      "text/plain": [
       "<IPython.core.display.HTML object>"
      ]
     },
     "metadata": {},
     "output_type": "display_data"
    }
   ],
   "source": [
    "sentence = \"This can't be right.\"\n",
    "doc = nlp_en(sentence)\n",
    "displacy.render(doc, style=\"dep\", options=options)"
   ]
  },
  {
   "cell_type": "markdown",
   "metadata": {
    "slideshow": {
     "slide_type": "subslide"
    }
   },
   "source": [
    "---\n",
    "\n",
    "---\n",
    "## Aufgabe 5f: "
   ]
  },
  {
   "cell_type": "code",
   "execution_count": 83,
   "metadata": {
    "slideshow": {
     "slide_type": "fragment"
    }
   },
   "outputs": [
    {
     "data": {
      "text/html": [
       "<svg xmlns=\"http://www.w3.org/2000/svg\" xmlns:xlink=\"http://www.w3.org/1999/xlink\" xml:lang=\"en\" id=\"fa08bc26e0ee4532a82623179f1296c0-0\" class=\"displacy\" width=\"750\" height=\"236.0\" direction=\"ltr\" style=\"max-width: none; height: 236.0px; color: #000000; background: #ffffff; font-family: Arial; direction: ltr\">\n",
       "<text class=\"displacy-token\" fill=\"currentColor\" text-anchor=\"middle\" y=\"146.0\">\n",
       "    <tspan class=\"displacy-word\" fill=\"currentColor\" x=\"50\">When</tspan>\n",
       "    <tspan class=\"displacy-tag\" dy=\"2em\" fill=\"currentColor\" x=\"50\">ADV</tspan>\n",
       "</text>\n",
       "\n",
       "<text class=\"displacy-token\" fill=\"currentColor\" text-anchor=\"middle\" y=\"146.0\">\n",
       "    <tspan class=\"displacy-word\" fill=\"currentColor\" x=\"150\">the storm</tspan>\n",
       "    <tspan class=\"displacy-tag\" dy=\"2em\" fill=\"currentColor\" x=\"150\">NOUN</tspan>\n",
       "</text>\n",
       "\n",
       "<text class=\"displacy-token\" fill=\"currentColor\" text-anchor=\"middle\" y=\"146.0\">\n",
       "    <tspan class=\"displacy-word\" fill=\"currentColor\" x=\"250\">started,</tspan>\n",
       "    <tspan class=\"displacy-tag\" dy=\"2em\" fill=\"currentColor\" x=\"250\">VERB</tspan>\n",
       "</text>\n",
       "\n",
       "<text class=\"displacy-token\" fill=\"currentColor\" text-anchor=\"middle\" y=\"146.0\">\n",
       "    <tspan class=\"displacy-word\" fill=\"currentColor\" x=\"350\">she</tspan>\n",
       "    <tspan class=\"displacy-tag\" dy=\"2em\" fill=\"currentColor\" x=\"350\">PRON</tspan>\n",
       "</text>\n",
       "\n",
       "<text class=\"displacy-token\" fill=\"currentColor\" text-anchor=\"middle\" y=\"146.0\">\n",
       "    <tspan class=\"displacy-word\" fill=\"currentColor\" x=\"450\">was</tspan>\n",
       "    <tspan class=\"displacy-tag\" dy=\"2em\" fill=\"currentColor\" x=\"450\">AUX</tspan>\n",
       "</text>\n",
       "\n",
       "<text class=\"displacy-token\" fill=\"currentColor\" text-anchor=\"middle\" y=\"146.0\">\n",
       "    <tspan class=\"displacy-word\" fill=\"currentColor\" x=\"550\">still</tspan>\n",
       "    <tspan class=\"displacy-tag\" dy=\"2em\" fill=\"currentColor\" x=\"550\">ADV</tspan>\n",
       "</text>\n",
       "\n",
       "<text class=\"displacy-token\" fill=\"currentColor\" text-anchor=\"middle\" y=\"146.0\">\n",
       "    <tspan class=\"displacy-word\" fill=\"currentColor\" x=\"650\">outside.</tspan>\n",
       "    <tspan class=\"displacy-tag\" dy=\"2em\" fill=\"currentColor\" x=\"650\">ADV</tspan>\n",
       "</text>\n",
       "\n",
       "<g class=\"displacy-arrow\">\n",
       "    <path class=\"displacy-arc\" id=\"arrow-fa08bc26e0ee4532a82623179f1296c0-0-0\" stroke-width=\"1px\" d=\"M62,101.0 62,67.66666666666666 250.0,67.66666666666666 250.0,101.0\" fill=\"none\" stroke=\"currentColor\"/>\n",
       "    <text dy=\"1.25em\" style=\"font-size: 0.8em; letter-spacing: 1px\">\n",
       "        <textPath xlink:href=\"#arrow-fa08bc26e0ee4532a82623179f1296c0-0-0\" class=\"displacy-label\" startOffset=\"50%\" side=\"left\" fill=\"currentColor\" text-anchor=\"middle\">advmod</textPath>\n",
       "    </text>\n",
       "    <path class=\"displacy-arrowhead\" d=\"M62,103.0 L58,95.0 66,95.0\" fill=\"currentColor\"/>\n",
       "</g>\n",
       "\n",
       "<g class=\"displacy-arrow\">\n",
       "    <path class=\"displacy-arc\" id=\"arrow-fa08bc26e0ee4532a82623179f1296c0-0-1\" stroke-width=\"1px\" d=\"M162,101.0 162,84.33333333333333 247.0,84.33333333333333 247.0,101.0\" fill=\"none\" stroke=\"currentColor\"/>\n",
       "    <text dy=\"1.25em\" style=\"font-size: 0.8em; letter-spacing: 1px\">\n",
       "        <textPath xlink:href=\"#arrow-fa08bc26e0ee4532a82623179f1296c0-0-1\" class=\"displacy-label\" startOffset=\"50%\" side=\"left\" fill=\"currentColor\" text-anchor=\"middle\">nsubj</textPath>\n",
       "    </text>\n",
       "    <path class=\"displacy-arrowhead\" d=\"M162,103.0 L158,95.0 166,95.0\" fill=\"currentColor\"/>\n",
       "</g>\n",
       "\n",
       "<g class=\"displacy-arrow\">\n",
       "    <path class=\"displacy-arc\" id=\"arrow-fa08bc26e0ee4532a82623179f1296c0-0-2\" stroke-width=\"1px\" d=\"M262,101.0 262,67.66666666666666 450.0,67.66666666666666 450.0,101.0\" fill=\"none\" stroke=\"currentColor\"/>\n",
       "    <text dy=\"1.25em\" style=\"font-size: 0.8em; letter-spacing: 1px\">\n",
       "        <textPath xlink:href=\"#arrow-fa08bc26e0ee4532a82623179f1296c0-0-2\" class=\"displacy-label\" startOffset=\"50%\" side=\"left\" fill=\"currentColor\" text-anchor=\"middle\">advcl</textPath>\n",
       "    </text>\n",
       "    <path class=\"displacy-arrowhead\" d=\"M262,103.0 L258,95.0 266,95.0\" fill=\"currentColor\"/>\n",
       "</g>\n",
       "\n",
       "<g class=\"displacy-arrow\">\n",
       "    <path class=\"displacy-arc\" id=\"arrow-fa08bc26e0ee4532a82623179f1296c0-0-3\" stroke-width=\"1px\" d=\"M362,101.0 362,84.33333333333333 447.0,84.33333333333333 447.0,101.0\" fill=\"none\" stroke=\"currentColor\"/>\n",
       "    <text dy=\"1.25em\" style=\"font-size: 0.8em; letter-spacing: 1px\">\n",
       "        <textPath xlink:href=\"#arrow-fa08bc26e0ee4532a82623179f1296c0-0-3\" class=\"displacy-label\" startOffset=\"50%\" side=\"left\" fill=\"currentColor\" text-anchor=\"middle\">nsubj</textPath>\n",
       "    </text>\n",
       "    <path class=\"displacy-arrowhead\" d=\"M362,103.0 L358,95.0 366,95.0\" fill=\"currentColor\"/>\n",
       "</g>\n",
       "\n",
       "<g class=\"displacy-arrow\">\n",
       "    <path class=\"displacy-arc\" id=\"arrow-fa08bc26e0ee4532a82623179f1296c0-0-4\" stroke-width=\"1px\" d=\"M462,101.0 462,84.33333333333333 547.0,84.33333333333333 547.0,101.0\" fill=\"none\" stroke=\"currentColor\"/>\n",
       "    <text dy=\"1.25em\" style=\"font-size: 0.8em; letter-spacing: 1px\">\n",
       "        <textPath xlink:href=\"#arrow-fa08bc26e0ee4532a82623179f1296c0-0-4\" class=\"displacy-label\" startOffset=\"50%\" side=\"left\" fill=\"currentColor\" text-anchor=\"middle\">advmod</textPath>\n",
       "    </text>\n",
       "    <path class=\"displacy-arrowhead\" d=\"M547.0,103.0 L551.0,95.0 543.0,95.0\" fill=\"currentColor\"/>\n",
       "</g>\n",
       "\n",
       "<g class=\"displacy-arrow\">\n",
       "    <path class=\"displacy-arc\" id=\"arrow-fa08bc26e0ee4532a82623179f1296c0-0-5\" stroke-width=\"1px\" d=\"M462,101.0 462,67.66666666666666 650.0,67.66666666666666 650.0,101.0\" fill=\"none\" stroke=\"currentColor\"/>\n",
       "    <text dy=\"1.25em\" style=\"font-size: 0.8em; letter-spacing: 1px\">\n",
       "        <textPath xlink:href=\"#arrow-fa08bc26e0ee4532a82623179f1296c0-0-5\" class=\"displacy-label\" startOffset=\"50%\" side=\"left\" fill=\"currentColor\" text-anchor=\"middle\">advmod</textPath>\n",
       "    </text>\n",
       "    <path class=\"displacy-arrowhead\" d=\"M650.0,103.0 L654.0,95.0 646.0,95.0\" fill=\"currentColor\"/>\n",
       "</g>\n",
       "</svg>"
      ],
      "text/plain": [
       "<IPython.core.display.HTML object>"
      ]
     },
     "metadata": {},
     "output_type": "display_data"
    }
   ],
   "source": [
    "sentence = \"When the storm started, she was still outside.\"\n",
    "doc = nlp_en(sentence)\n",
    "displacy.render(doc, style=\"dep\", options=options)"
   ]
  },
  {
   "cell_type": "markdown",
   "metadata": {
    "slideshow": {
     "slide_type": "subslide"
    }
   },
   "source": [
    "---\n",
    "\n",
    "\n",
    "---\n",
    "## Aufgabe 5g: "
   ]
  },
  {
   "cell_type": "code",
   "execution_count": 84,
   "metadata": {
    "slideshow": {
     "slide_type": "fragment"
    }
   },
   "outputs": [
    {
     "data": {
      "text/html": [
       "<svg xmlns=\"http://www.w3.org/2000/svg\" xmlns:xlink=\"http://www.w3.org/1999/xlink\" xml:lang=\"en\" id=\"975c547f2d874776a06b332b28f1a0f9-0\" class=\"displacy\" width=\"650\" height=\"236.0\" direction=\"ltr\" style=\"max-width: none; height: 236.0px; color: #000000; background: #ffffff; font-family: Arial; direction: ltr\">\n",
       "<text class=\"displacy-token\" fill=\"currentColor\" text-anchor=\"middle\" y=\"146.0\">\n",
       "    <tspan class=\"displacy-word\" fill=\"currentColor\" x=\"50\">To</tspan>\n",
       "    <tspan class=\"displacy-tag\" dy=\"2em\" fill=\"currentColor\" x=\"50\">PART</tspan>\n",
       "</text>\n",
       "\n",
       "<text class=\"displacy-token\" fill=\"currentColor\" text-anchor=\"middle\" y=\"146.0\">\n",
       "    <tspan class=\"displacy-word\" fill=\"currentColor\" x=\"150\">go</tspan>\n",
       "    <tspan class=\"displacy-tag\" dy=\"2em\" fill=\"currentColor\" x=\"150\">VERB</tspan>\n",
       "</text>\n",
       "\n",
       "<text class=\"displacy-token\" fill=\"currentColor\" text-anchor=\"middle\" y=\"146.0\">\n",
       "    <tspan class=\"displacy-word\" fill=\"currentColor\" x=\"250\">now</tspan>\n",
       "    <tspan class=\"displacy-tag\" dy=\"2em\" fill=\"currentColor\" x=\"250\">ADV</tspan>\n",
       "</text>\n",
       "\n",
       "<text class=\"displacy-token\" fill=\"currentColor\" text-anchor=\"middle\" y=\"146.0\">\n",
       "    <tspan class=\"displacy-word\" fill=\"currentColor\" x=\"350\">would</tspan>\n",
       "    <tspan class=\"displacy-tag\" dy=\"2em\" fill=\"currentColor\" x=\"350\">AUX</tspan>\n",
       "</text>\n",
       "\n",
       "<text class=\"displacy-token\" fill=\"currentColor\" text-anchor=\"middle\" y=\"146.0\">\n",
       "    <tspan class=\"displacy-word\" fill=\"currentColor\" x=\"450\">be</tspan>\n",
       "    <tspan class=\"displacy-tag\" dy=\"2em\" fill=\"currentColor\" x=\"450\">AUX</tspan>\n",
       "</text>\n",
       "\n",
       "<text class=\"displacy-token\" fill=\"currentColor\" text-anchor=\"middle\" y=\"146.0\">\n",
       "    <tspan class=\"displacy-word\" fill=\"currentColor\" x=\"550\">a mistake.</tspan>\n",
       "    <tspan class=\"displacy-tag\" dy=\"2em\" fill=\"currentColor\" x=\"550\">NOUN</tspan>\n",
       "</text>\n",
       "\n",
       "<g class=\"displacy-arrow\">\n",
       "    <path class=\"displacy-arc\" id=\"arrow-975c547f2d874776a06b332b28f1a0f9-0-0\" stroke-width=\"1px\" d=\"M62,101.0 62,84.33333333333333 147.0,84.33333333333333 147.0,101.0\" fill=\"none\" stroke=\"currentColor\"/>\n",
       "    <text dy=\"1.25em\" style=\"font-size: 0.8em; letter-spacing: 1px\">\n",
       "        <textPath xlink:href=\"#arrow-975c547f2d874776a06b332b28f1a0f9-0-0\" class=\"displacy-label\" startOffset=\"50%\" side=\"left\" fill=\"currentColor\" text-anchor=\"middle\">aux</textPath>\n",
       "    </text>\n",
       "    <path class=\"displacy-arrowhead\" d=\"M62,103.0 L58,95.0 66,95.0\" fill=\"currentColor\"/>\n",
       "</g>\n",
       "\n",
       "<g class=\"displacy-arrow\">\n",
       "    <path class=\"displacy-arc\" id=\"arrow-975c547f2d874776a06b332b28f1a0f9-0-1\" stroke-width=\"1px\" d=\"M162,101.0 162,67.66666666666666 450.0,67.66666666666666 450.0,101.0\" fill=\"none\" stroke=\"currentColor\"/>\n",
       "    <text dy=\"1.25em\" style=\"font-size: 0.8em; letter-spacing: 1px\">\n",
       "        <textPath xlink:href=\"#arrow-975c547f2d874776a06b332b28f1a0f9-0-1\" class=\"displacy-label\" startOffset=\"50%\" side=\"left\" fill=\"currentColor\" text-anchor=\"middle\">csubj</textPath>\n",
       "    </text>\n",
       "    <path class=\"displacy-arrowhead\" d=\"M162,103.0 L158,95.0 166,95.0\" fill=\"currentColor\"/>\n",
       "</g>\n",
       "\n",
       "<g class=\"displacy-arrow\">\n",
       "    <path class=\"displacy-arc\" id=\"arrow-975c547f2d874776a06b332b28f1a0f9-0-2\" stroke-width=\"1px\" d=\"M162,101.0 162,84.33333333333333 247.0,84.33333333333333 247.0,101.0\" fill=\"none\" stroke=\"currentColor\"/>\n",
       "    <text dy=\"1.25em\" style=\"font-size: 0.8em; letter-spacing: 1px\">\n",
       "        <textPath xlink:href=\"#arrow-975c547f2d874776a06b332b28f1a0f9-0-2\" class=\"displacy-label\" startOffset=\"50%\" side=\"left\" fill=\"currentColor\" text-anchor=\"middle\">advmod</textPath>\n",
       "    </text>\n",
       "    <path class=\"displacy-arrowhead\" d=\"M247.0,103.0 L251.0,95.0 243.0,95.0\" fill=\"currentColor\"/>\n",
       "</g>\n",
       "\n",
       "<g class=\"displacy-arrow\">\n",
       "    <path class=\"displacy-arc\" id=\"arrow-975c547f2d874776a06b332b28f1a0f9-0-3\" stroke-width=\"1px\" d=\"M362,101.0 362,84.33333333333333 447.0,84.33333333333333 447.0,101.0\" fill=\"none\" stroke=\"currentColor\"/>\n",
       "    <text dy=\"1.25em\" style=\"font-size: 0.8em; letter-spacing: 1px\">\n",
       "        <textPath xlink:href=\"#arrow-975c547f2d874776a06b332b28f1a0f9-0-3\" class=\"displacy-label\" startOffset=\"50%\" side=\"left\" fill=\"currentColor\" text-anchor=\"middle\">aux</textPath>\n",
       "    </text>\n",
       "    <path class=\"displacy-arrowhead\" d=\"M362,103.0 L358,95.0 366,95.0\" fill=\"currentColor\"/>\n",
       "</g>\n",
       "\n",
       "<g class=\"displacy-arrow\">\n",
       "    <path class=\"displacy-arc\" id=\"arrow-975c547f2d874776a06b332b28f1a0f9-0-4\" stroke-width=\"1px\" d=\"M462,101.0 462,84.33333333333333 547.0,84.33333333333333 547.0,101.0\" fill=\"none\" stroke=\"currentColor\"/>\n",
       "    <text dy=\"1.25em\" style=\"font-size: 0.8em; letter-spacing: 1px\">\n",
       "        <textPath xlink:href=\"#arrow-975c547f2d874776a06b332b28f1a0f9-0-4\" class=\"displacy-label\" startOffset=\"50%\" side=\"left\" fill=\"currentColor\" text-anchor=\"middle\">attr</textPath>\n",
       "    </text>\n",
       "    <path class=\"displacy-arrowhead\" d=\"M547.0,103.0 L551.0,95.0 543.0,95.0\" fill=\"currentColor\"/>\n",
       "</g>\n",
       "</svg>"
      ],
      "text/plain": [
       "<IPython.core.display.HTML object>"
      ]
     },
     "metadata": {},
     "output_type": "display_data"
    }
   ],
   "source": [
    "sentence = \"To go now would be a mistake.\"\n",
    "doc = nlp_en(sentence)\n",
    "displacy.render(doc, style=\"dep\", options=options)"
   ]
  }
 ],
 "metadata": {
  "kernelspec": {
   "display_name": "Python 3",
   "language": "python",
   "name": "python3"
  },
  "language_info": {
   "codemirror_mode": {
    "name": "ipython",
    "version": 3
   },
   "file_extension": ".py",
   "mimetype": "text/x-python",
   "name": "python",
   "nbconvert_exporter": "python",
   "pygments_lexer": "ipython3",
   "version": "3.6.1"
  },
  "widgets": {
   "application/vnd.jupyter.widget-state+json": {
    "state": {
     "00285a0e7d7a4ee3ac652426860f5cf8": {
      "model_module": "@jupyter-widgets/base",
      "model_module_version": "1.1.0",
      "model_name": "LayoutModel",
      "state": {}
     },
     "0061b5c91fbe44b88b139b30e79d9b9a": {
      "model_module": "@jupyter-widgets/controls",
      "model_module_version": "1.4.0",
      "model_name": "CheckboxModel",
      "state": {
       "description": "Fragepronomen",
       "disabled": false,
       "layout": "IPY_MODEL_b0d05b853e99481da1b785c7b2d85607",
       "style": "IPY_MODEL_b7745bdc935d4bc89d7683d9b2454f4d",
       "value": false
      }
     },
     "006d641c29e3440ba461fb70592a6ed7": {
      "model_module": "@jupyter-widgets/controls",
      "model_module_version": "1.4.0",
      "model_name": "CheckboxModel",
      "state": {
       "description": "steigende Intonation",
       "disabled": false,
       "layout": "IPY_MODEL_531854304eac4beda05d5d1eea7b1df2",
       "style": "IPY_MODEL_a11ea4b66264430d90f88df640c9b397",
       "value": false
      }
     },
     "00cfb61b7cd2463496e441557d849843": {
      "model_module": "@jupyter-widgets/controls",
      "model_module_version": "1.4.0",
      "model_name": "VBoxModel",
      "state": {
       "children": [
        "IPY_MODEL_97bb7bce0a804c8dbaecda5e1a6cd35f",
        "IPY_MODEL_7fb1067039d04f098005317e997b0873",
        "IPY_MODEL_089fde21b7f14a62b0408021da64e062",
        "IPY_MODEL_4dc027a96a8f470380d5faad011626de"
       ],
       "layout": "IPY_MODEL_bd5e838ef3ea4bcdbd70ba6a61d88b13"
      }
     },
     "00daa2ec6dca4abbbc998d0162a13638": {
      "model_module": "@jupyter-widgets/controls",
      "model_module_version": "1.4.0",
      "model_name": "DescriptionStyleModel",
      "state": {
       "description_width": ""
      }
     },
     "015d1aa610b24deaa9fd855d3744f303": {
      "model_module": "@jupyter-widgets/controls",
      "model_module_version": "1.4.0",
      "model_name": "ButtonStyleModel",
      "state": {}
     },
     "01fecfafaf384b959fc461411ab900c1": {
      "model_module": "@jupyter-widgets/controls",
      "model_module_version": "1.4.0",
      "model_name": "DescriptionStyleModel",
      "state": {
       "description_width": "initial"
      }
     },
     "02265147286c45419382ee61eaf11d57": {
      "model_module": "@jupyter-widgets/controls",
      "model_module_version": "1.4.0",
      "model_name": "CheckboxModel",
      "state": {
       "description": "Peter gesungen hat",
       "disabled": false,
       "layout": "IPY_MODEL_5605c74902e74445ae3270a8e8fa5384",
       "style": "IPY_MODEL_d040f3cab3664bac97c5f709f009d3b6",
       "value": false
      }
     },
     "0230f312beae4d23b9e47e2d18d5df80": {
      "model_module": "@jupyter-widgets/controls",
      "model_module_version": "1.4.0",
      "model_name": "DescriptionStyleModel",
      "state": {
       "description_width": ""
      }
     },
     "02364eafdeeb4eff8e8542a2e735c5f1": {
      "model_module": "@jupyter-widgets/controls",
      "model_module_version": "1.4.0",
      "model_name": "ButtonModel",
      "state": {
       "description": "infinites Verb",
       "layout": "IPY_MODEL_b3f42d7d6b0e4d63bda9a64af810921b",
       "style": "IPY_MODEL_49c1850a95f1413fa2d6290120cc6491"
      }
     },
     "023ec3d3c9c04d42aae8f57a7cd36eef": {
      "model_module": "@jupyter-widgets/base",
      "model_module_version": "1.1.0",
      "model_name": "LayoutModel",
      "state": {
       "justify_content": "center"
      }
     },
     "029c0e4e1b96488f8392334da6f9b20c": {
      "model_module": "@jupyter-widgets/controls",
      "model_module_version": "1.4.0",
      "model_name": "HTMLModel",
      "state": {
       "layout": "IPY_MODEL_7c334512a3474dbd925e28027d90b1fa",
       "style": "IPY_MODEL_404e25fbeb54443a990e93385140c819",
       "value": "<i>Wählen Sie die <ins>eine</ins> korrekte Antwort aus: </i>"
      }
     },
     "02de6eccc8774c7f9e6c4cdd61162473": {
      "model_module": "@jupyter-widgets/base",
      "model_module_version": "1.1.0",
      "model_name": "LayoutModel",
      "state": {}
     },
     "03476d2eb03f43738f785af9c6958734": {
      "model_module": "@jupyter-widgets/controls",
      "model_module_version": "1.4.0",
      "model_name": "VBoxModel",
      "state": {
       "children": [
        "IPY_MODEL_42155764a6404a3cb6adfa92f8de4533",
        "IPY_MODEL_50f06ab10502456694a4fbd19512c9ab",
        "IPY_MODEL_932be4a138ee4ea788e5681df033596d",
        "IPY_MODEL_d13bd083904042e7b61462595914ee86"
       ],
       "layout": "IPY_MODEL_bc9474cd563840c8b933c00e69f74c1a"
      }
     },
     "041dcf67122a4b7882127a86efeb95ed": {
      "model_module": "@jupyter-widgets/base",
      "model_module_version": "1.1.0",
      "model_name": "LayoutModel",
      "state": {}
     },
     "0424949ee9ce476198a998a4b0c12097": {
      "model_module": "@jupyter-widgets/controls",
      "model_module_version": "1.4.0",
      "model_name": "HTMLModel",
      "state": {
       "layout": "IPY_MODEL_65cb29d8a0c6491c9b7af507d0c37631",
       "style": "IPY_MODEL_36942079e14547bbabd261efc49cb9cc",
       "value": "<i>Wählen Sie die <ins>eine</ins> korrekte Antwort aus: </i>"
      }
     },
     "0454d111c862437ca634cf23597ebb0d": {
      "model_module": "@jupyter-widgets/base",
      "model_module_version": "1.1.0",
      "model_name": "LayoutModel",
      "state": {
       "width": "250px"
      }
     },
     "045940423fb34162bb2814a5e6371688": {
      "model_module": "@jupyter-widgets/controls",
      "model_module_version": "1.4.0",
      "model_name": "ButtonModel",
      "state": {
       "description": "S-bar",
       "layout": "IPY_MODEL_e717613bd0534ce19b6144ef0f48e043",
       "style": "IPY_MODEL_262ea806530948428a5b9e7a6b8b8917"
      }
     },
     "048fbbcf116e4748b73036664cc4c0b9": {
      "model_module": "@jupyter-widgets/controls",
      "model_module_version": "1.4.0",
      "model_name": "CheckboxModel",
      "state": {
       "description": "Die linke SK ist unbesetzt.",
       "disabled": false,
       "layout": "IPY_MODEL_6d6937a360654074bf71f2e71307b92c",
       "style": "IPY_MODEL_6f33aeebd7df4c74989f695c120548bf",
       "value": false
      }
     },
     "052e32f74ee14e06a63ec78b6f805bfd": {
      "model_module": "@jupyter-widgets/base",
      "model_module_version": "1.1.0",
      "model_name": "LayoutModel",
      "state": {
       "width": "600px"
      }
     },
     "0531c89c5468478d857351b56193314d": {
      "model_module": "@jupyter-widgets/base",
      "model_module_version": "1.1.0",
      "model_name": "LayoutModel",
      "state": {}
     },
     "05376cdfb9ba4651b8bd218a28322e12": {
      "model_module": "@jupyter-widgets/controls",
      "model_module_version": "1.4.0",
      "model_name": "HBoxModel",
      "state": {
       "children": [
        "IPY_MODEL_5f4916c03e254231892533b0c4740db9",
        "IPY_MODEL_6f69daaec94949889cae82e70b24f341"
       ],
       "layout": "IPY_MODEL_7f28cea8eb10498887eeda984b9cf9eb"
      }
     },
     "053d393097514d3b9bbe6c3fcc2f14a9": {
      "model_module": "@jupyter-widgets/base",
      "model_module_version": "1.1.0",
      "model_name": "LayoutModel",
      "state": {
       "width": "600px"
      }
     },
     "05a5a7635bb24d01bfb653c32327648c": {
      "model_module": "@jupyter-widgets/base",
      "model_module_version": "1.1.0",
      "model_name": "LayoutModel",
      "state": {
       "width": "600px"
      }
     },
     "05b8d2beca124fcd95ceb6cdd6e988e6": {
      "model_module": "@jupyter-widgets/controls",
      "model_module_version": "1.4.0",
      "model_name": "HTMLModel",
      "state": {
       "layout": "IPY_MODEL_f9e263070b6b4350898003d49290f40d",
       "style": "IPY_MODEL_e6a4c7465e0c477aaaf141f6f84385f7",
       "value": "<i>Wählen Sie die <ins>eine</ins> korrekte Antwort aus: </i>"
      }
     },
     "05cae83fd3df4fd39b7418fac9f66ce0": {
      "model_module": "@jupyter-widgets/controls",
      "model_module_version": "1.4.0",
      "model_name": "VBoxModel",
      "state": {
       "children": [
        "IPY_MODEL_cffb0af204574a8795604bf32d77e013",
        "IPY_MODEL_0424949ee9ce476198a998a4b0c12097",
        "IPY_MODEL_97ee4df1f4384d938c012b239c5793fd",
        "IPY_MODEL_a82c763f73084edfa4a48a0e91cbdcc5"
       ],
       "layout": "IPY_MODEL_a647f1c6b4bf439d86fe2e953491604a"
      }
     },
     "061f56a39bf945cca9627b1aff76ea07": {
      "model_module": "@jupyter-widgets/controls",
      "model_module_version": "1.4.0",
      "model_name": "DescriptionStyleModel",
      "state": {
       "description_width": ""
      }
     },
     "06438625dc3f4a3ab8a5d986cc22836c": {
      "model_module": "@jupyter-widgets/controls",
      "model_module_version": "1.4.0",
      "model_name": "HTMLModel",
      "state": {
       "layout": "IPY_MODEL_1eeb9245d645477c8408a08de5fa1e69",
       "style": "IPY_MODEL_891efbf91cf44a2c86952386aadc9ad7",
       "value": "<i>Wählen Sie die <ins>eine</ins> korrekte Antwort aus: </i>"
      }
     },
     "06611d439b904a7fb375c2233231fd82": {
      "model_module": "@jupyter-widgets/controls",
      "model_module_version": "1.4.0",
      "model_name": "HTMLModel",
      "state": {
       "layout": "IPY_MODEL_51a1465861df4ca084f54f9dd9949434",
       "style": "IPY_MODEL_e15a7c3385284f408e585a6786215598",
       "value": "<h4 style=\"font-size:14px;\">Welche Form der Kontrolle liegt in folgendem Satz vor: <i>Sie überreden ihn, nach München zu fahren</i>?</h4>"
      }
     },
     "06769f739c994318bb74c712993e67dd": {
      "model_module": "@jupyter-widgets/controls",
      "model_module_version": "1.4.0",
      "model_name": "DropdownModel",
      "state": {
       "_options_labels": [
        "Finalsatz",
        "Kausalsatz",
        "Keine der Alternativen",
        "Lokalsatz",
        "Modalsatz",
        "Relativsatz",
        "Temporalsatz"
       ],
       "description": "Antwort:",
       "index": 0,
       "layout": "IPY_MODEL_eb960f2e2c184c198a31a7a54bd35b7a",
       "style": "IPY_MODEL_8a986cf4a6434d1eaf00c5238a95be8c"
      }
     },
     "068becf03d654ad898483186039310d2": {
      "model_module": "@jupyter-widgets/controls",
      "model_module_version": "1.4.0",
      "model_name": "DescriptionStyleModel",
      "state": {
       "description_width": ""
      }
     },
     "06b055f120164d66b42233772ad41337": {
      "model_module": "@jupyter-widgets/controls",
      "model_module_version": "1.4.0",
      "model_name": "ButtonModel",
      "state": {
       "description": "koordiniert",
       "layout": "IPY_MODEL_277e183549374eddbeedf612be199757",
       "style": "IPY_MODEL_30c3afcdd1174a2f8645e8a7cd94ed9c"
      }
     },
     "06ba405c613246dfa3963237c4e696ff": {
      "model_module": "@jupyter-widgets/base",
      "model_module_version": "1.1.0",
      "model_name": "LayoutModel",
      "state": {
       "width": "600px"
      }
     },
     "0792a56e266f41a084f54a83f0d4487b": {
      "model_module": "@jupyter-widgets/controls",
      "model_module_version": "1.4.0",
      "model_name": "DescriptionStyleModel",
      "state": {
       "description_width": "initial"
      }
     },
     "07dd7b71e7a042bfa32c36e1a314ef8e": {
      "model_module": "@jupyter-widgets/controls",
      "model_module_version": "1.4.0",
      "model_name": "VBoxModel",
      "state": {
       "children": [
        "IPY_MODEL_08786c98771345e883f5d7d67427b5f8",
        "IPY_MODEL_51d71665a5c74c8b8ad248e390131ee5",
        "IPY_MODEL_c0a5933d0b9d4547b7536f2d892d5b81",
        "IPY_MODEL_665d745489eb4950bc1ffaa3d9ea0a02",
        "IPY_MODEL_9d4db4933e2048b69362408ed996fc2f"
       ],
       "layout": "IPY_MODEL_0c40502b3aea4fcaae6271e8a553723f"
      }
     },
     "0807732c3af94fea8b846b9e6c5b4ef4": {
      "model_module": "@jupyter-widgets/base",
      "model_module_version": "1.1.0",
      "model_name": "LayoutModel",
      "state": {
       "width": "600px"
      }
     },
     "081ca6c01b5849089a0ed6bb839b9576": {
      "model_module": "@jupyter-widgets/controls",
      "model_module_version": "1.4.0",
      "model_name": "HBoxModel",
      "state": {
       "children": [
        "IPY_MODEL_21bf34f15371425d9be9cb1c42706cae",
        "IPY_MODEL_1d5b4bbc0ade41b8bc2e8f6aca646da3"
       ],
       "layout": "IPY_MODEL_33799bdfbb004d678a413ace46da8555"
      }
     },
     "08786c98771345e883f5d7d67427b5f8": {
      "model_module": "@jupyter-widgets/controls",
      "model_module_version": "1.4.0",
      "model_name": "CheckboxModel",
      "state": {
       "description": "Konjunktionalsatz",
       "disabled": false,
       "layout": "IPY_MODEL_84fed8e58c234d008488fa95ee63195b",
       "style": "IPY_MODEL_539bf85420684867aed6bba2afcfc7b3",
       "value": false
      }
     },
     "08806d03660b4ab6bfa6089c00e7979e": {
      "model_module": "@jupyter-widgets/controls",
      "model_module_version": "1.4.0",
      "model_name": "ButtonStyleModel",
      "state": {}
     },
     "0893861bb6ba48f6aab499bc1174db4c": {
      "model_module": "@jupyter-widgets/base",
      "model_module_version": "1.1.0",
      "model_name": "LayoutModel",
      "state": {
       "width": "600px"
      }
     },
     "089fde21b7f14a62b0408021da64e062": {
      "model_module": "@jupyter-widgets/controls",
      "model_module_version": "1.4.0",
      "model_name": "VBoxModel",
      "state": {
       "children": [
        "IPY_MODEL_6cb5e47c6f404b6386599b4e92c5d309",
        "IPY_MODEL_57534a7dcfa44b24ba85ef5503308d9a",
        "IPY_MODEL_deefc7556fad47798b75d02e8737abcc",
        "IPY_MODEL_93ce1ffa62d3464d921c2bbb435da6c0"
       ],
       "layout": "IPY_MODEL_d809225e11364413a560beb0d2272a1c"
      }
     },
     "08c3dee2bd2c48179c4ce1189f03f4b4": {
      "model_module": "@jupyter-widgets/controls",
      "model_module_version": "1.4.0",
      "model_name": "DescriptionStyleModel",
      "state": {
       "description_width": "initial"
      }
     },
     "08d4cd18cae348798c607f5b334e1b0b": {
      "model_module": "@jupyter-widgets/base",
      "model_module_version": "1.1.0",
      "model_name": "LayoutModel",
      "state": {}
     },
     "0900214f1d7a48029d90b1abf55695ef": {
      "model_module": "@jupyter-widgets/base",
      "model_module_version": "1.1.0",
      "model_name": "LayoutModel",
      "state": {
       "width": "600px"
      }
     },
     "091834a9cf1145159593f64df376215b": {
      "model_module": "@jupyter-widgets/base",
      "model_module_version": "1.1.0",
      "model_name": "LayoutModel",
      "state": {
       "justify_content": "center"
      }
     },
     "09892aa53927487b9777b9b6a5ee0f7d": {
      "model_module": "@jupyter-widgets/controls",
      "model_module_version": "1.4.0",
      "model_name": "HBoxModel",
      "state": {
       "children": [
        "IPY_MODEL_92f241ca0cc3449dacb009c3f04343f5"
       ],
       "layout": "IPY_MODEL_00285a0e7d7a4ee3ac652426860f5cf8"
      }
     },
     "09e7d8f803ee45ffb8aafaa29f9f1d0e": {
      "model_module": "@jupyter-widgets/controls",
      "model_module_version": "1.4.0",
      "model_name": "ButtonModel",
      "state": {
       "description": "Korrekt?",
       "layout": "IPY_MODEL_70f8f05f81624e268278462a2df70690",
       "style": "IPY_MODEL_4ce3ba0cd1f3480181e73220eda4bdbb"
      }
     },
     "0a0419b9e83d40e2aa95b6848ab53d2f": {
      "model_module": "@jupyter-widgets/controls",
      "model_module_version": "1.4.0",
      "model_name": "VBoxModel",
      "state": {
       "children": [
        "IPY_MODEL_50220277a5d44ad4bc52ebc261f5c024",
        "IPY_MODEL_de392251b9a7490e8ab05026934ca1a5",
        "IPY_MODEL_8327a8e43bdf4c1198511bbdb84a42e7",
        "IPY_MODEL_5ba6c97d0c4a443cacc9f958e05792a6"
       ],
       "layout": "IPY_MODEL_f1346354a11c46bf8b70efc96c7cbe7d"
      }
     },
     "0a13717c520b41f4893a813e798fd3bb": {
      "model_module": "@jupyter-widgets/controls",
      "model_module_version": "1.4.0",
      "model_name": "DescriptionStyleModel",
      "state": {
       "description_width": ""
      }
     },
     "0a2312f08e474e459d02e470972457a4": {
      "model_module": "@jupyter-widgets/controls",
      "model_module_version": "1.4.0",
      "model_name": "HTMLModel",
      "state": {
       "layout": "IPY_MODEL_73b4430ee4604a35a64666280b28457d",
       "style": "IPY_MODEL_de974b1102364f7aa128e5152ee8c4a8",
       "value": "<h4 style=\"font-size:14px;\">Was für eine Satzkonstruktion liegt hier vor?</h4>"
      }
     },
     "0a2e55ad8afa4505968b5dd97b1af96f": {
      "model_module": "@jupyter-widgets/base",
      "model_module_version": "1.1.0",
      "model_name": "LayoutModel",
      "state": {
       "width": "600px"
      }
     },
     "0a6ded0e817347029833c055b3adc6c0": {
      "model_module": "@jupyter-widgets/controls",
      "model_module_version": "1.4.0",
      "model_name": "DescriptionStyleModel",
      "state": {
       "description_width": ""
      }
     },
     "0a83d2716ae84ac18d12e83bc143d4b0": {
      "model_module": "@jupyter-widgets/base",
      "model_module_version": "1.1.0",
      "model_name": "LayoutModel",
      "state": {}
     },
     "0a8ca8e2a4d1469ab53b75e59f273feb": {
      "model_module": "@jupyter-widgets/controls",
      "model_module_version": "1.4.0",
      "model_name": "DescriptionStyleModel",
      "state": {
       "description_width": ""
      }
     },
     "0b0a697a92264bc496911c4f9e775aef": {
      "model_module": "@jupyter-widgets/controls",
      "model_module_version": "1.4.0",
      "model_name": "DescriptionStyleModel",
      "state": {
       "description_width": "initial"
      }
     },
     "0b8cba8d795a4be0b342ee225c0457cb": {
      "model_module": "@jupyter-widgets/base",
      "model_module_version": "1.1.0",
      "model_name": "LayoutModel",
      "state": {
       "width": "250px"
      }
     },
     "0c2ebeef26ed46809fe65357ffef8636": {
      "model_module": "@jupyter-widgets/base",
      "model_module_version": "1.1.0",
      "model_name": "LayoutModel",
      "state": {
       "width": "250px"
      }
     },
     "0c40502b3aea4fcaae6271e8a553723f": {
      "model_module": "@jupyter-widgets/base",
      "model_module_version": "1.1.0",
      "model_name": "LayoutModel",
      "state": {}
     },
     "0c8bcc72f7f9465089273b5c031079c3": {
      "model_module": "@jupyter-widgets/base",
      "model_module_version": "1.1.0",
      "model_name": "LayoutModel",
      "state": {}
     },
     "0ceff864dc7640bf847f1856a5a7d249": {
      "model_module": "@jupyter-widgets/controls",
      "model_module_version": "1.4.0",
      "model_name": "HTMLModel",
      "state": {
       "layout": "IPY_MODEL_4193b32a901e4f92b862778f6556bf2c",
       "style": "IPY_MODEL_ff1968cf4e8d49bbb73db83ae00daa76",
       "value": "<i>Markieren Sie <ins>alle</ins> passenden Antworten: </i>"
      }
     },
     "0d1f8333600749d38fe0e47d937b4ec6": {
      "model_module": "@jupyter-widgets/base",
      "model_module_version": "1.1.0",
      "model_name": "LayoutModel",
      "state": {
       "width": "600px"
      }
     },
     "0d2e68c9ecd64b22b98fbe57712a9a18": {
      "model_module": "@jupyter-widgets/controls",
      "model_module_version": "1.4.0",
      "model_name": "CheckboxModel",
      "state": {
       "description": "Verbzweitstellung",
       "disabled": false,
       "layout": "IPY_MODEL_d267e289ee004155b743c7720642cbc0",
       "style": "IPY_MODEL_50307c5abba94568bb1ff1bdcecdb6e8",
       "value": false
      }
     },
     "0d5ad153aa704fb9bf99dd9e3d31ceb3": {
      "model_module": "@jupyter-widgets/base",
      "model_module_version": "1.1.0",
      "model_name": "LayoutModel",
      "state": {}
     },
     "0d81efa3ff5048b3a6bd2b958ca151a1": {
      "model_module": "@jupyter-widgets/controls",
      "model_module_version": "1.4.0",
      "model_name": "ButtonStyleModel",
      "state": {}
     },
     "0d9e324e0c424eb4ace9ffc2d6706c9c": {
      "model_module": "@jupyter-widgets/controls",
      "model_module_version": "1.4.0",
      "model_name": "VBoxModel",
      "state": {
       "children": [
        "IPY_MODEL_5598532f66274b5dafd6ab9fb4ce40bf",
        "IPY_MODEL_029c0e4e1b96488f8392334da6f9b20c",
        "IPY_MODEL_e924c042ac9645d8a251f152a0b4e2d0",
        "IPY_MODEL_802bb927decb4cab8ad83de668d4a776"
       ],
       "layout": "IPY_MODEL_de994597e2064c2fa8c56246e1df5f5c"
      }
     },
     "0dc6de7ae5994c72981f446102a3318d": {
      "model_module": "@jupyter-widgets/controls",
      "model_module_version": "1.4.0",
      "model_name": "DescriptionStyleModel",
      "state": {
       "description_width": "initial"
      }
     },
     "0dd5efcc006d48ab83978312a5b3922d": {
      "model_module": "@jupyter-widgets/controls",
      "model_module_version": "1.4.0",
      "model_name": "DescriptionStyleModel",
      "state": {
       "description_width": ""
      }
     },
     "0deebdc298a8444e93560d4d0f2cad90": {
      "model_module": "@jupyter-widgets/controls",
      "model_module_version": "1.4.0",
      "model_name": "DescriptionStyleModel",
      "state": {
       "description_width": "initial"
      }
     },
     "0e2a622236344a6ba65080102d490d1d": {
      "model_module": "@jupyter-widgets/controls",
      "model_module_version": "1.4.0",
      "model_name": "HTMLModel",
      "state": {
       "layout": "IPY_MODEL_daccc71eaa994894a6fae2470ecbf517",
       "style": "IPY_MODEL_efb609b558df4aa3bf0ddc9387229fb5",
       "value": "<i>Wählen Sie die <ins>eine</ins> korrekte Antwort aus: </i>"
      }
     },
     "0e302d80bdf14b4982f9946ef135e81e": {
      "model_module": "@jupyter-widgets/controls",
      "model_module_version": "1.4.0",
      "model_name": "DescriptionStyleModel",
      "state": {
       "description_width": ""
      }
     },
     "0e63a238fbaf4be29f659882b05fa5a9": {
      "model_module": "@jupyter-widgets/base",
      "model_module_version": "1.1.0",
      "model_name": "LayoutModel",
      "state": {
       "width": "250px"
      }
     },
     "0e6727e915934ecb9bc74c396b795103": {
      "model_module": "@jupyter-widgets/controls",
      "model_module_version": "1.4.0",
      "model_name": "DropdownModel",
      "state": {
       "_options_labels": [
        "Infinitiv-Subjektsatz",
        "Kausalsatz",
        "Keine der Alternativen",
        "Lokalsatz",
        "Modalsatz",
        "Objektsatz",
        "Relativsatz",
        "Temporalsatz"
       ],
       "description": "Antwort:",
       "index": 0,
       "layout": "IPY_MODEL_82ba2fe7d08e4da8a7e2ec6a5159be47",
       "style": "IPY_MODEL_6197db64589b480898262dfb4229a8f2"
      }
     },
     "0e8df13f505e49379a3a7e816872d083": {
      "model_module": "@jupyter-widgets/controls",
      "model_module_version": "1.4.0",
      "model_name": "DescriptionStyleModel",
      "state": {
       "description_width": "initial"
      }
     },
     "0ec4355dcc56453aa41b23c938f74233": {
      "model_module": "@jupyter-widgets/controls",
      "model_module_version": "1.4.0",
      "model_name": "DescriptionStyleModel",
      "state": {
       "description_width": ""
      }
     },
     "0ee432e3be6e4d3abc88382222f0f1f1": {
      "model_module": "@jupyter-widgets/controls",
      "model_module_version": "1.4.0",
      "model_name": "ButtonStyleModel",
      "state": {}
     },
     "0eed330740f1472c8ded6ddd64241164": {
      "model_module": "@jupyter-widgets/controls",
      "model_module_version": "1.4.0",
      "model_name": "CheckboxModel",
      "state": {
       "description": "Buch",
       "disabled": false,
       "layout": "IPY_MODEL_98798ab998b14e24b376ca9bb813e702",
       "style": "IPY_MODEL_d52420387e5942fb8eeb3050fc0583a7",
       "value": false
      }
     },
     "0f29c654256541fa9390cfdcb42149dc": {
      "model_module": "@jupyter-widgets/base",
      "model_module_version": "1.1.0",
      "model_name": "LayoutModel",
      "state": {
       "width": "250px"
      }
     },
     "0f3cf1fac005417db4df9902f9ffee64": {
      "model_module": "@jupyter-widgets/controls",
      "model_module_version": "1.4.0",
      "model_name": "DescriptionStyleModel",
      "state": {
       "description_width": ""
      }
     },
     "0f7febb37f8f4ce8af619196f18790ba": {
      "model_module": "@jupyter-widgets/controls",
      "model_module_version": "1.4.0",
      "model_name": "CheckboxModel",
      "state": {
       "description": "Es handelt sich kommunikativ um eine Aufforderung.",
       "disabled": false,
       "layout": "IPY_MODEL_d18b15eef53c4a82880bb759c1a04b6c",
       "style": "IPY_MODEL_83c0728434c64cb984f3bed4af040fd1",
       "value": false
      }
     },
     "0fcbc275aa5c4d878f194663c81407c3": {
      "model_module": "@jupyter-widgets/controls",
      "model_module_version": "1.4.0",
      "model_name": "DescriptionStyleModel",
      "state": {
       "description_width": "initial"
      }
     },
     "101b7bccf0d4498f8b46fca34e4045fd": {
      "model_module": "@jupyter-widgets/controls",
      "model_module_version": "1.4.0",
      "model_name": "ButtonStyleModel",
      "state": {}
     },
     "10624577a7904314b9d8a02537afc117": {
      "model_module": "@jupyter-widgets/controls",
      "model_module_version": "1.4.0",
      "model_name": "HTMLModel",
      "state": {
       "layout": "IPY_MODEL_406200dec527432b9b61158573627596",
       "style": "IPY_MODEL_94209af7a38844f48eeaa97ded4c98dc",
       "value": "<i>Wählen Sie die <ins>eine</ins> korrekte Antwort aus: </i>"
      }
     },
     "108596e292114e019ab090a8cf0ffd8f": {
      "model_module": "@jupyter-widgets/controls",
      "model_module_version": "1.4.0",
      "model_name": "DescriptionStyleModel",
      "state": {
       "description_width": "initial"
      }
     },
     "10be098e7dca44a78eb09193885f7fd5": {
      "model_module": "@jupyter-widgets/controls",
      "model_module_version": "1.4.0",
      "model_name": "CheckboxModel",
      "state": {
       "description": "Nein, der Satz wird dann ungrammatisch.",
       "disabled": false,
       "layout": "IPY_MODEL_0900214f1d7a48029d90b1abf55695ef",
       "style": "IPY_MODEL_516cbdcea00d4091ac4ae5e9b28647f9",
       "value": false
      }
     },
     "113232d763074d419afe729cc1f752bf": {
      "model_module": "@jupyter-widgets/controls",
      "model_module_version": "1.4.0",
      "model_name": "DescriptionStyleModel",
      "state": {
       "description_width": ""
      }
     },
     "118261be4abb46bcb26be68389f3dba0": {
      "model_module": "@jupyter-widgets/controls",
      "model_module_version": "1.4.0",
      "model_name": "DescriptionStyleModel",
      "state": {
       "description_width": "initial"
      }
     },
     "1189935fa4564cd589ff5b979135d76a": {
      "model_module": "@jupyter-widgets/controls",
      "model_module_version": "1.4.0",
      "model_name": "ButtonStyleModel",
      "state": {}
     },
     "11c09734e2404db7a273ee4674ba63a0": {
      "model_module": "@jupyter-widgets/controls",
      "model_module_version": "1.4.0",
      "model_name": "VBoxModel",
      "state": {
       "children": [
        "IPY_MODEL_f0cb22ab94ec48698b64cc340a095897",
        "IPY_MODEL_997ee96eddfc44189a1f7683056c49da",
        "IPY_MODEL_b1fb843fc3df4e4ab6c32733c65c3e7d",
        "IPY_MODEL_2ebed04338d84e21ab2fe5f8946bb437"
       ],
       "layout": "IPY_MODEL_fe12453383da46cc998794ac45527fc5"
      }
     },
     "1222825420424d06b24894e6400d5617": {
      "model_module": "@jupyter-widgets/base",
      "model_module_version": "1.1.0",
      "model_name": "LayoutModel",
      "state": {
       "width": "600px"
      }
     },
     "12302c434d534647803988a68cca0d1b": {
      "model_module": "@jupyter-widgets/controls",
      "model_module_version": "1.4.0",
      "model_name": "DescriptionStyleModel",
      "state": {
       "description_width": "initial"
      }
     },
     "12666e16abd04d1aa879aa03cf859f3a": {
      "model_module": "@jupyter-widgets/controls",
      "model_module_version": "1.4.0",
      "model_name": "DescriptionStyleModel",
      "state": {
       "description_width": "initial"
      }
     },
     "1273ca0e35a243e989b1938cd2c176e6": {
      "model_module": "@jupyter-widgets/controls",
      "model_module_version": "1.4.0",
      "model_name": "ButtonModel",
      "state": {
       "description": "Satz 4",
       "layout": "IPY_MODEL_6b4d9c6277714b168f94da77b33a838f",
       "style": "IPY_MODEL_c51ca8ebc0f84e66b7cb275a3ee7ca43"
      }
     },
     "129ad8e6318846f1a298c4ea351bcfec": {
      "model_module": "@jupyter-widgets/controls",
      "model_module_version": "1.4.0",
      "model_name": "ButtonStyleModel",
      "state": {}
     },
     "1336c79f504b455b95cba3074705269d": {
      "model_module": "@jupyter-widgets/base",
      "model_module_version": "1.1.0",
      "model_name": "LayoutModel",
      "state": {
       "justify_content": "center"
      }
     },
     "138203870ad04efcbfb1f518a86029e6": {
      "model_module": "@jupyter-widgets/base",
      "model_module_version": "1.1.0",
      "model_name": "LayoutModel",
      "state": {
       "width": "250px"
      }
     },
     "13e41a185f064597b368c814a29bc290": {
      "model_module": "@jupyter-widgets/controls",
      "model_module_version": "1.4.0",
      "model_name": "VBoxModel",
      "state": {
       "children": [
        "IPY_MODEL_9c703c4991f54749938538d359bee32d",
        "IPY_MODEL_f9eed13a128e44e99444814eb3498cec",
        "IPY_MODEL_a7202aa93aae4c3a92824b785ccc8b44",
        "IPY_MODEL_32d7ef8c8933419f9033571c9afc7e11"
       ],
       "layout": "IPY_MODEL_21d14280941b405a944be32b1bdd2979"
      }
     },
     "145ee126ae354a70a79740e448dac291": {
      "model_module": "@jupyter-widgets/controls",
      "model_module_version": "1.4.0",
      "model_name": "ButtonStyleModel",
      "state": {}
     },
     "14d2562ae21f4e41837da2022aa9a3c8": {
      "model_module": "@jupyter-widgets/base",
      "model_module_version": "1.1.0",
      "model_name": "LayoutModel",
      "state": {}
     },
     "1516a2ed2a894350be43e3403dd2fef5": {
      "model_module": "@jupyter-widgets/controls",
      "model_module_version": "1.4.0",
      "model_name": "CheckboxModel",
      "state": {
       "description": "Der",
       "disabled": false,
       "layout": "IPY_MODEL_7cb42e1654794c44931b7d9709e8df3c",
       "style": "IPY_MODEL_4d177e9845d9489fa982880db9c664db",
       "value": false
      }
     },
     "152c5aff685643dcafc7a8a0b96c9342": {
      "model_module": "@jupyter-widgets/controls",
      "model_module_version": "1.4.0",
      "model_name": "HTMLModel",
      "state": {
       "layout": "IPY_MODEL_15bd63bc7c6d4445a324284d72767c56",
       "style": "IPY_MODEL_cbf12474ece54245b2ff77aa4dc7eeed",
       "value": "<i>Wählen Sie die <ins>eine</ins> korrekte Antwort aus: </i>"
      }
     },
     "153ab621eea343faad23f8ca1c249d07": {
      "model_module": "@jupyter-widgets/controls",
      "model_module_version": "1.4.0",
      "model_name": "ButtonModel",
      "state": {
       "description": "Fragesatz",
       "layout": "IPY_MODEL_a9f82968f4064d18b4135bc0c9020b21",
       "style": "IPY_MODEL_59bd7677c5b24bcea133fc0d98fcb1d4"
      }
     },
     "1589af6baae44c64812888411e3d74e6": {
      "model_module": "@jupyter-widgets/controls",
      "model_module_version": "1.4.0",
      "model_name": "ButtonModel",
      "state": {
       "description": "Keine der anderen Möglichkeiten",
       "layout": "IPY_MODEL_e05f0f6672bb49c2baab29b7e469d682",
       "style": "IPY_MODEL_0ee432e3be6e4d3abc88382222f0f1f1"
      }
     },
     "15bd63bc7c6d4445a324284d72767c56": {
      "model_module": "@jupyter-widgets/base",
      "model_module_version": "1.1.0",
      "model_name": "LayoutModel",
      "state": {
       "justify_content": "center"
      }
     },
     "1619d50159164428b98e6191c94b5cb3": {
      "model_module": "@jupyter-widgets/base",
      "model_module_version": "1.1.0",
      "model_name": "LayoutModel",
      "state": {
       "width": "600px"
      }
     },
     "167a5858e0794c8991e7914be05d8fb1": {
      "model_module": "@jupyter-widgets/base",
      "model_module_version": "1.1.0",
      "model_name": "LayoutModel",
      "state": {}
     },
     "168d30176aa641bbb06a6636b0500c03": {
      "model_module": "@jupyter-widgets/controls",
      "model_module_version": "1.4.0",
      "model_name": "DescriptionStyleModel",
      "state": {
       "description_width": ""
      }
     },
     "168db4a66a4e4e229cf9f49caa7fb335": {
      "model_module": "@jupyter-widgets/controls",
      "model_module_version": "1.4.0",
      "model_name": "ButtonStyleModel",
      "state": {}
     },
     "16c5f9aff9424da09d8d0c352752c8b3": {
      "model_module": "@jupyter-widgets/controls",
      "model_module_version": "1.4.0",
      "model_name": "DescriptionStyleModel",
      "state": {
       "description_width": ""
      }
     },
     "16d79d26119542d585bb8f760cb637dc": {
      "model_module": "@jupyter-widgets/controls",
      "model_module_version": "1.4.0",
      "model_name": "CheckboxModel",
      "state": {
       "description": "linke Satzklammer",
       "disabled": false,
       "layout": "IPY_MODEL_eaf0ec4510684e0dacab90b0dc03ae6f",
       "style": "IPY_MODEL_c146503be7ec4857bcb6e53b4937421d",
       "value": false
      }
     },
     "16faffe4a7b844658bb66ea8f972ec0f": {
      "model_module": "@jupyter-widgets/controls",
      "model_module_version": "1.4.0",
      "model_name": "DescriptionStyleModel",
      "state": {
       "description_width": ""
      }
     },
     "173524ebac6b4f06a6afac8c8006b62e": {
      "model_module": "@jupyter-widgets/controls",
      "model_module_version": "1.4.0",
      "model_name": "ButtonStyleModel",
      "state": {}
     },
     "1777820721b140baad88735c8f8030e9": {
      "model_module": "@jupyter-widgets/base",
      "model_module_version": "1.1.0",
      "model_name": "LayoutModel",
      "state": {}
     },
     "17ba3190772749efb491cc82ed67b0d1": {
      "model_module": "@jupyter-widgets/controls",
      "model_module_version": "1.4.0",
      "model_name": "CheckboxModel",
      "state": {
       "description": "Fragepronomen",
       "disabled": false,
       "layout": "IPY_MODEL_7b272eabaf0341c7bdfd9f9f494f7f90",
       "style": "IPY_MODEL_53ad2d02587649ee97f7543c54dac4be",
       "value": false
      }
     },
     "17bc70336bb7462b8be59d18de5d87a7": {
      "model_module": "@jupyter-widgets/base",
      "model_module_version": "1.1.0",
      "model_name": "LayoutModel",
      "state": {
       "justify_content": "center"
      }
     },
     "17dfa1338b3e49ec96523e4e21c6942b": {
      "model_module": "@jupyter-widgets/controls",
      "model_module_version": "1.4.0",
      "model_name": "CheckboxModel",
      "state": {
       "description": "Verbzweitstellung",
       "disabled": false,
       "layout": "IPY_MODEL_da5d07f575db4bb883f9dadd0b07f2a5",
       "style": "IPY_MODEL_4cd3a00dea704d45bd444be309842510",
       "value": false
      }
     },
     "183119b56c634b36bdcf0979f08cce15": {
      "model_module": "@jupyter-widgets/base",
      "model_module_version": "1.1.0",
      "model_name": "LayoutModel",
      "state": {}
     },
     "1859a0e574394f9eb67ff7e06ec62655": {
      "model_module": "@jupyter-widgets/controls",
      "model_module_version": "1.4.0",
      "model_name": "ButtonStyleModel",
      "state": {}
     },
     "186c9518fc90445eb8d49c653c848aab": {
      "model_module": "@jupyter-widgets/controls",
      "model_module_version": "1.4.0",
      "model_name": "DescriptionStyleModel",
      "state": {
       "description_width": ""
      }
     },
     "187884f8249c4f83a9dd2f9af9c479bd": {
      "model_module": "@jupyter-widgets/controls",
      "model_module_version": "1.4.0",
      "model_name": "ButtonModel",
      "state": {
       "description": "Korrekt?",
       "layout": "IPY_MODEL_c08b93dc90494e4cbedb3899eaeb2c3c",
       "style": "IPY_MODEL_c52e1f2f1e7e4590a905b4905b18ec4a"
      }
     },
     "18bf75b6285c4859bbb3fdb0a942e1c3": {
      "model_module": "@jupyter-widgets/controls",
      "model_module_version": "1.4.0",
      "model_name": "VBoxModel",
      "state": {
       "children": [
        "IPY_MODEL_fd30fdb79e72409ba88e8429c4395867",
        "IPY_MODEL_9ea1ce61d95e4aa58563a4ba15c0869b",
        "IPY_MODEL_6335c94ab6b249dcb0572e089074edb5",
        "IPY_MODEL_05376cdfb9ba4651b8bd218a28322e12"
       ],
       "layout": "IPY_MODEL_b14f3870214649b1994bd5b798b90ef7"
      }
     },
     "193f63237e794071977738ff13918961": {
      "model_module": "@jupyter-widgets/controls",
      "model_module_version": "1.4.0",
      "model_name": "ButtonModel",
      "state": {
       "description": "Subjektkontrolle",
       "layout": "IPY_MODEL_891fdb6285d843ac9caddd5a9bc56ceb",
       "style": "IPY_MODEL_1859a0e574394f9eb67ff7e06ec62655"
      }
     },
     "1985d6120d914806b86c1e4a26349559": {
      "model_module": "@jupyter-widgets/controls",
      "model_module_version": "1.4.0",
      "model_name": "HBoxModel",
      "state": {
       "children": [
        "IPY_MODEL_ab836de45e444d729ced243bc6df6906",
        "IPY_MODEL_02364eafdeeb4eff8e8542a2e735c5f1"
       ],
       "layout": "IPY_MODEL_7357c1ee5056460dba7bd828ee6af590"
      }
     },
     "19c368d08be1419a900827432f6e7acb": {
      "model_module": "@jupyter-widgets/controls",
      "model_module_version": "1.4.0",
      "model_name": "DescriptionStyleModel",
      "state": {
       "description_width": "initial"
      }
     },
     "1a121cb301734f0c9f7e3195580df624": {
      "model_module": "@jupyter-widgets/base",
      "model_module_version": "1.1.0",
      "model_name": "LayoutModel",
      "state": {
       "width": "600px"
      }
     },
     "1a1cae1423494d7c8c8afb8e3cd591ba": {
      "model_module": "@jupyter-widgets/controls",
      "model_module_version": "1.4.0",
      "model_name": "DescriptionStyleModel",
      "state": {
       "description_width": ""
      }
     },
     "1a83c64edcf5481d919e93eb43d00c60": {
      "model_module": "@jupyter-widgets/controls",
      "model_module_version": "1.4.0",
      "model_name": "DescriptionStyleModel",
      "state": {
       "description_width": ""
      }
     },
     "1ab0dd5faffb4ef1b6e32f463daa9fa8": {
      "model_module": "@jupyter-widgets/controls",
      "model_module_version": "1.4.0",
      "model_name": "ButtonModel",
      "state": {
       "description": "Satz 2",
       "layout": "IPY_MODEL_c906611e5fa4460fb867276ef1706633",
       "style": "IPY_MODEL_29ee091efd9042d687ebe2fdbd3273cf"
      }
     },
     "1aefd35ea12a42c0adb248fc199f3fec": {
      "model_module": "@jupyter-widgets/controls",
      "model_module_version": "1.4.0",
      "model_name": "DescriptionStyleModel",
      "state": {
       "description_width": ""
      }
     },
     "1b916fa007894450898c0b9a648e5253": {
      "model_module": "@jupyter-widgets/controls",
      "model_module_version": "1.4.0",
      "model_name": "DescriptionStyleModel",
      "state": {
       "description_width": "initial"
      }
     },
     "1bbd0696623541f28c745eaccecaf822": {
      "model_module": "@jupyter-widgets/base",
      "model_module_version": "1.1.0",
      "model_name": "LayoutModel",
      "state": {
       "width": "250px"
      }
     },
     "1c2eeb2d6b634e12805236ff30307827": {
      "model_module": "@jupyter-widgets/controls",
      "model_module_version": "1.4.0",
      "model_name": "ButtonStyleModel",
      "state": {}
     },
     "1c36689751d244708a7f4fea4edae0b0": {
      "model_module": "@jupyter-widgets/controls",
      "model_module_version": "1.4.0",
      "model_name": "CheckboxModel",
      "state": {
       "description": "heute",
       "disabled": false,
       "layout": "IPY_MODEL_ba666e03a6334147afb000982bf3ac9b",
       "style": "IPY_MODEL_12666e16abd04d1aa879aa03cf859f3a",
       "value": false
      }
     },
     "1c4f906956a54811b37f701e2c90c6d4": {
      "model_module": "@jupyter-widgets/base",
      "model_module_version": "1.1.0",
      "model_name": "LayoutModel",
      "state": {
       "justify_content": "center"
      }
     },
     "1c4ffb26b79947b8bb622363ae35db07": {
      "model_module": "@jupyter-widgets/base",
      "model_module_version": "1.1.0",
      "model_name": "LayoutModel",
      "state": {
       "width": "600px"
      }
     },
     "1ca94ffc5f7547658b7d844f5258f1bb": {
      "model_module": "@jupyter-widgets/base",
      "model_module_version": "1.1.0",
      "model_name": "LayoutModel",
      "state": {}
     },
     "1cabb3f1a40c4575862abc86feab41a4": {
      "model_module": "@jupyter-widgets/controls",
      "model_module_version": "1.4.0",
      "model_name": "ButtonStyleModel",
      "state": {}
     },
     "1d5b4bbc0ade41b8bc2e8f6aca646da3": {
      "model_module": "@jupyter-widgets/controls",
      "model_module_version": "1.4.0",
      "model_name": "ButtonModel",
      "state": {
       "description": "subordiniert",
       "layout": "IPY_MODEL_a0b1acf9151f4d63a2fafe95597fccbb",
       "style": "IPY_MODEL_7f54c5cb113c4f6f9ef7e5822c19766c"
      }
     },
     "1d9b3ba9b0754c6c97c1cdb2a169779a": {
      "model_module": "@jupyter-widgets/controls",
      "model_module_version": "1.4.0",
      "model_name": "DescriptionStyleModel",
      "state": {
       "description_width": ""
      }
     },
     "1dc59e6e759948e8a675a6cf4ee5dbef": {
      "model_module": "@jupyter-widgets/base",
      "model_module_version": "1.1.0",
      "model_name": "LayoutModel",
      "state": {
       "width": "250px"
      }
     },
     "1dcd56a61d0940c7b7fa0d3246081bbd": {
      "model_module": "@jupyter-widgets/controls",
      "model_module_version": "1.4.0",
      "model_name": "DescriptionStyleModel",
      "state": {
       "description_width": "initial"
      }
     },
     "1e590f0aa8f94d95a9e6cf69343bf1ea": {
      "model_module": "@jupyter-widgets/controls",
      "model_module_version": "1.4.0",
      "model_name": "DescriptionStyleModel",
      "state": {
       "description_width": "initial"
      }
     },
     "1e851c3105ef4387aa8b88b6071ce000": {
      "model_module": "@jupyter-widgets/base",
      "model_module_version": "1.1.0",
      "model_name": "LayoutModel",
      "state": {
       "width": "250px"
      }
     },
     "1e94ba80b0784ad59206eddaa8e1b896": {
      "model_module": "@jupyter-widgets/base",
      "model_module_version": "1.1.0",
      "model_name": "LayoutModel",
      "state": {
       "width": "250px"
      }
     },
     "1e9ff7806ab241abbd23082fa888cd3a": {
      "model_module": "@jupyter-widgets/controls",
      "model_module_version": "1.4.0",
      "model_name": "CheckboxModel",
      "state": {
       "description": "Modus: Indikativ",
       "disabled": false,
       "layout": "IPY_MODEL_70635511963440248c7ba0bd8cf7a6cd",
       "style": "IPY_MODEL_3859144a632b4009bc18b892279645d0",
       "value": false
      }
     },
     "1eacd78a5f184af08d55bbdf1eed7d97": {
      "model_module": "@jupyter-widgets/controls",
      "model_module_version": "1.4.0",
      "model_name": "ButtonStyleModel",
      "state": {}
     },
     "1eb3e9b38a6e4b11928930c58fe2a018": {
      "model_module": "@jupyter-widgets/controls",
      "model_module_version": "1.4.0",
      "model_name": "ButtonModel",
      "state": {
       "description": "Satz 3",
       "layout": "IPY_MODEL_138203870ad04efcbfb1f518a86029e6",
       "style": "IPY_MODEL_b3531d7d5df347d3805b5f9c3655b1e0"
      }
     },
     "1eeb9245d645477c8408a08de5fa1e69": {
      "model_module": "@jupyter-widgets/base",
      "model_module_version": "1.1.0",
      "model_name": "LayoutModel",
      "state": {
       "justify_content": "center"
      }
     },
     "1efe8d3fcd9e46a995f424c4352e0ecf": {
      "model_module": "@jupyter-widgets/controls",
      "model_module_version": "1.4.0",
      "model_name": "DescriptionStyleModel",
      "state": {
       "description_width": ""
      }
     },
     "1f45e2abb20d4ebe8694138f8425ec86": {
      "model_module": "@jupyter-widgets/base",
      "model_module_version": "1.1.0",
      "model_name": "LayoutModel",
      "state": {}
     },
     "1f6ee26adf444738a790199f1d36cb02": {
      "model_module": "@jupyter-widgets/controls",
      "model_module_version": "1.4.0",
      "model_name": "HBoxModel",
      "state": {
       "children": [
        "IPY_MODEL_5cad179f3abc468992a2b5169ac083c9",
        "IPY_MODEL_ff53d967544649079ece3ae494da28d8"
       ],
       "layout": "IPY_MODEL_b73a2b4a42fe45fba4dcc9890461ef4e"
      }
     },
     "212f8aa9ff3242efa32d7ac40d67ec80": {
      "model_module": "@jupyter-widgets/controls",
      "model_module_version": "1.4.0",
      "model_name": "ButtonModel",
      "state": {
       "description": "Satz 3",
       "layout": "IPY_MODEL_797de28610514b77b75c8572a160064d",
       "style": "IPY_MODEL_7ebd26a4572e46cf95c273d48c24d67d"
      }
     },
     "21587f0e4908434ea028a7dd06274e9a": {
      "model_module": "@jupyter-widgets/controls",
      "model_module_version": "1.4.0",
      "model_name": "DescriptionStyleModel",
      "state": {
       "description_width": ""
      }
     },
     "21722cef52024c8d9ce2e7cc165f45fd": {
      "model_module": "@jupyter-widgets/controls",
      "model_module_version": "1.4.0",
      "model_name": "HTMLModel",
      "state": {
       "layout": "IPY_MODEL_c152ff0032d24c819e0bf1b519d58428",
       "style": "IPY_MODEL_8441edd39bf440c68090c1d225d74f9f",
       "value": "<h4 style=\"font-size:14px;\">Welche Wörter sind Teil der linken Satzklammer?</h4>"
      }
     },
     "21bf34f15371425d9be9cb1c42706cae": {
      "model_module": "@jupyter-widgets/controls",
      "model_module_version": "1.4.0",
      "model_name": "ButtonModel",
      "state": {
       "description": "koordiniert",
       "layout": "IPY_MODEL_1dc59e6e759948e8a675a6cf4ee5dbef",
       "style": "IPY_MODEL_9f4663ec4f4c456687f249fa9fb5efd7"
      }
     },
     "21d14280941b405a944be32b1bdd2979": {
      "model_module": "@jupyter-widgets/base",
      "model_module_version": "1.1.0",
      "model_name": "LayoutModel",
      "state": {}
     },
     "21df7276451749e5b725866d585374da": {
      "model_module": "@jupyter-widgets/controls",
      "model_module_version": "1.4.0",
      "model_name": "HBoxModel",
      "state": {
       "children": [
        "IPY_MODEL_5e160df9288343009b12c9f0f657ddc0",
        "IPY_MODEL_a63c3ea9992348099538d33602b4f522"
       ],
       "layout": "IPY_MODEL_8173d07b1ab54c57808ad41293e2a4ec"
      }
     },
     "2243fe6384a449fc96c2a8cae15d346e": {
      "model_module": "@jupyter-widgets/controls",
      "model_module_version": "1.4.0",
      "model_name": "DescriptionStyleModel",
      "state": {
       "description_width": "initial"
      }
     },
     "22b5780deb374384933c46e9b0f34467": {
      "model_module": "@jupyter-widgets/base",
      "model_module_version": "1.1.0",
      "model_name": "LayoutModel",
      "state": {
       "width": "600px"
      }
     },
     "22cd10f6243c49148675eef93934136d": {
      "model_module": "@jupyter-widgets/controls",
      "model_module_version": "1.4.0",
      "model_name": "ButtonStyleModel",
      "state": {}
     },
     "22e1ff4d1ec1446aa36b5341c26aa18c": {
      "model_module": "@jupyter-widgets/base",
      "model_module_version": "1.1.0",
      "model_name": "LayoutModel",
      "state": {}
     },
     "22e3b86df639459290480591a8132cc6": {
      "model_module": "@jupyter-widgets/base",
      "model_module_version": "1.1.0",
      "model_name": "LayoutModel",
      "state": {}
     },
     "2324b84748d64955bd4a333a732f7637": {
      "model_module": "@jupyter-widgets/controls",
      "model_module_version": "1.4.0",
      "model_name": "VBoxModel",
      "state": {
       "children": [
        "IPY_MODEL_7191c50a567241d789d0b55d1a8cdebd",
        "IPY_MODEL_65a769b36a7c4d7aa5e03a95ac1abf3f",
        "IPY_MODEL_78ef8ba983874b278771c85164984a31"
       ],
       "layout": "IPY_MODEL_4618bf0a77cc42bfa1f6a4d5df56d8c4"
      }
     },
     "23338029e127499398bad451f16b429d": {
      "model_module": "@jupyter-widgets/controls",
      "model_module_version": "1.4.0",
      "model_name": "VBoxModel",
      "state": {
       "children": [
        "IPY_MODEL_c14779abe7fc400f8a377740b42ec286",
        "IPY_MODEL_43d632b4597043e58d2e6ca53fa4f8f8",
        "IPY_MODEL_df1b1b5787d64e1f84539ba43be30d96",
        "IPY_MODEL_71bf7eba3c9c44719ba21022b7d9cf07"
       ],
       "layout": "IPY_MODEL_599ec4c24959420a85d70732b69e0773"
      }
     },
     "237e3302d24443d7a5917d2b6994d6f9": {
      "model_module": "@jupyter-widgets/base",
      "model_module_version": "1.1.0",
      "model_name": "LayoutModel",
      "state": {
       "width": "600px"
      }
     },
     "2393b67ac8974a98be3bb320724969c7": {
      "model_module": "@jupyter-widgets/controls",
      "model_module_version": "1.4.0",
      "model_name": "ButtonStyleModel",
      "state": {}
     },
     "23995a322cb94f2fac7168db90801b08": {
      "model_module": "@jupyter-widgets/base",
      "model_module_version": "1.1.0",
      "model_name": "LayoutModel",
      "state": {
       "width": "600px"
      }
     },
     "23dcc763a72642cb9013f301c911922e": {
      "model_module": "@jupyter-widgets/base",
      "model_module_version": "1.1.0",
      "model_name": "LayoutModel",
      "state": {}
     },
     "23df85859e194ba9a37f8afc76be69fe": {
      "model_module": "@jupyter-widgets/base",
      "model_module_version": "1.1.0",
      "model_name": "LayoutModel",
      "state": {
       "width": "600px"
      }
     },
     "23e99a7c50ff4faaa23834276173f963": {
      "model_module": "@jupyter-widgets/base",
      "model_module_version": "1.1.0",
      "model_name": "LayoutModel",
      "state": {
       "width": "600px"
      }
     },
     "242fd5f8a90c40a4950a448abafb71b0": {
      "model_module": "@jupyter-widgets/controls",
      "model_module_version": "1.4.0",
      "model_name": "DescriptionStyleModel",
      "state": {
       "description_width": ""
      }
     },
     "2445d8c39dbd4a97a138fc19baa65830": {
      "model_module": "@jupyter-widgets/controls",
      "model_module_version": "1.4.0",
      "model_name": "DescriptionStyleModel",
      "state": {
       "description_width": ""
      }
     },
     "245771664fb440e39d1f05ac7e753ca0": {
      "model_module": "@jupyter-widgets/controls",
      "model_module_version": "1.4.0",
      "model_name": "CheckboxModel",
      "state": {
       "description": "das",
       "disabled": false,
       "layout": "IPY_MODEL_ae210aab8b2a41d78a8847cb55a0775f",
       "style": "IPY_MODEL_7faaaf34ec3243d9a5e22aff683f5dc7",
       "value": false
      }
     },
     "246eb680ebca42b7a90987c78da5e8f0": {
      "model_module": "@jupyter-widgets/controls",
      "model_module_version": "1.4.0",
      "model_name": "ButtonModel",
      "state": {
       "description": "Korrekt?",
       "layout": "IPY_MODEL_6dc7ef86131d49198c0c97f7a36e660b",
       "style": "IPY_MODEL_25f3558d24ee4f92820f962f386ce532"
      }
     },
     "24eb7f373b61429098f923bbc64670b9": {
      "model_module": "@jupyter-widgets/controls",
      "model_module_version": "1.4.0",
      "model_name": "DescriptionStyleModel",
      "state": {
       "description_width": "initial"
      }
     },
     "2542362f70df4e309c52809404fa1e4f": {
      "model_module": "@jupyter-widgets/controls",
      "model_module_version": "1.4.0",
      "model_name": "CheckboxModel",
      "state": {
       "description": "steigende Intonation",
       "disabled": false,
       "layout": "IPY_MODEL_49ad32405d3a479f88beff18898ef646",
       "style": "IPY_MODEL_b39eefe6f94244b98edaf019bab6d704",
       "value": false
      }
     },
     "256451fea9fd4a4a9fe7282f200a2ac9": {
      "model_module": "@jupyter-widgets/base",
      "model_module_version": "1.1.0",
      "model_name": "LayoutModel",
      "state": {}
     },
     "25a507d87fc744978f8d7605f26b0483": {
      "model_module": "@jupyter-widgets/controls",
      "model_module_version": "1.4.0",
      "model_name": "ButtonStyleModel",
      "state": {}
     },
     "25f3558d24ee4f92820f962f386ce532": {
      "model_module": "@jupyter-widgets/controls",
      "model_module_version": "1.4.0",
      "model_name": "ButtonStyleModel",
      "state": {}
     },
     "25f64b39d8b845a9a9575ff7f4c00827": {
      "model_module": "@jupyter-widgets/controls",
      "model_module_version": "1.4.0",
      "model_name": "HBoxModel",
      "state": {
       "children": [
        "IPY_MODEL_9f1fbea9a7ec42c385b4cef8d3f638c6",
        "IPY_MODEL_333a0d4ec5d04f7997b951242d9aef64"
       ],
       "layout": "IPY_MODEL_eb1e91c205004deeb37bbc9fe0851a98"
      }
     },
     "25fcf5164e364a2691fe4d305aedba8c": {
      "model_module": "@jupyter-widgets/controls",
      "model_module_version": "1.4.0",
      "model_name": "CheckboxModel",
      "state": {
       "description": "kleine",
       "disabled": false,
       "layout": "IPY_MODEL_4b1a6fb4ad74436fbfe983edf58df0ae",
       "style": "IPY_MODEL_dff79462de474e9394757218f5eebbf0",
       "value": false
      }
     },
     "2606c3041a604ec98640fe5034e8a171": {
      "model_module": "@jupyter-widgets/base",
      "model_module_version": "1.1.0",
      "model_name": "LayoutModel",
      "state": {
       "width": "250px"
      }
     },
     "262ea806530948428a5b9e7a6b8b8917": {
      "model_module": "@jupyter-widgets/controls",
      "model_module_version": "1.4.0",
      "model_name": "ButtonStyleModel",
      "state": {}
     },
     "264bb6b2d3be4c409719e69c95a6222a": {
      "model_module": "@jupyter-widgets/controls",
      "model_module_version": "1.4.0",
      "model_name": "CheckboxModel",
      "state": {
       "description": "schenkte",
       "disabled": false,
       "layout": "IPY_MODEL_1c4ffb26b79947b8bb622363ae35db07",
       "style": "IPY_MODEL_2243fe6384a449fc96c2a8cae15d346e",
       "value": false
      }
     },
     "26cf5374ceca4cae90beb53bc60db2ae": {
      "model_module": "@jupyter-widgets/base",
      "model_module_version": "1.1.0",
      "model_name": "LayoutModel",
      "state": {
       "justify_content": "center"
      }
     },
     "26dd3e9d0536433193ae81eb133da1ae": {
      "model_module": "@jupyter-widgets/controls",
      "model_module_version": "1.4.0",
      "model_name": "ButtonStyleModel",
      "state": {}
     },
     "26f2db721a18464c9a7074b4b6b53eeb": {
      "model_module": "@jupyter-widgets/base",
      "model_module_version": "1.1.0",
      "model_name": "LayoutModel",
      "state": {
       "width": "600px"
      }
     },
     "277e183549374eddbeedf612be199757": {
      "model_module": "@jupyter-widgets/base",
      "model_module_version": "1.1.0",
      "model_name": "LayoutModel",
      "state": {
       "width": "250px"
      }
     },
     "278b366e34724233bf597911139ce8fb": {
      "model_module": "@jupyter-widgets/controls",
      "model_module_version": "1.4.0",
      "model_name": "ButtonModel",
      "state": {
       "description": "Korrekt?",
       "layout": "IPY_MODEL_f18f813c50ed4becb37ad0d88696334a",
       "style": "IPY_MODEL_015d1aa610b24deaa9fd855d3744f303"
      }
     },
     "28042e02b1674b56b8167cf93e062e62": {
      "model_module": "@jupyter-widgets/controls",
      "model_module_version": "1.4.0",
      "model_name": "VBoxModel",
      "state": {
       "children": [
        "IPY_MODEL_87553f0342764441a00427492589b4e3",
        "IPY_MODEL_880556e6becb4d18b0c9793e88437534",
        "IPY_MODEL_c58570db9ca640f29fa2acf12d131524",
        "IPY_MODEL_47a8de08814a4ede98e4c68f2b551619",
        "IPY_MODEL_fdc68ac6c8c44be78ff23711be8a8cf5",
        "IPY_MODEL_0d2e68c9ecd64b22b98fbe57712a9a18",
        "IPY_MODEL_2542362f70df4e309c52809404fa1e4f"
       ],
       "layout": "IPY_MODEL_d00be6e16b65401cbf3ef993684d4f8a"
      }
     },
     "283825f4834b4fb38e86226148e840c1": {
      "model_module": "@jupyter-widgets/base",
      "model_module_version": "1.1.0",
      "model_name": "LayoutModel",
      "state": {
       "width": "600px"
      }
     },
     "288d26659e97435584eb24885f570b27": {
      "model_module": "@jupyter-widgets/base",
      "model_module_version": "1.1.0",
      "model_name": "LayoutModel",
      "state": {}
     },
     "28cadac7c8f747fd8a4a066290f3a6d4": {
      "model_module": "@jupyter-widgets/controls",
      "model_module_version": "1.4.0",
      "model_name": "CheckboxModel",
      "state": {
       "description": "der",
       "disabled": false,
       "layout": "IPY_MODEL_0807732c3af94fea8b846b9e6c5b4ef4",
       "style": "IPY_MODEL_86e80a8efe674fbdbb3ae83aac3cc488",
       "value": false
      }
     },
     "295b1b31affd4dbdac81e4991cf1dea0": {
      "model_module": "@jupyter-widgets/controls",
      "model_module_version": "1.4.0",
      "model_name": "ButtonModel",
      "state": {
       "description": "Korrekt?",
       "layout": "IPY_MODEL_f1567c0c94cd4deb94595d42400d4fd2",
       "style": "IPY_MODEL_1189935fa4564cd589ff5b979135d76a"
      }
     },
     "29a794a177a54c7a8d465b7942d340aa": {
      "model_module": "@jupyter-widgets/base",
      "model_module_version": "1.1.0",
      "model_name": "LayoutModel",
      "state": {}
     },
     "29ebf7ed234346cd9d4996d2dd5710b1": {
      "model_module": "@jupyter-widgets/controls",
      "model_module_version": "1.4.0",
      "model_name": "HTMLModel",
      "state": {
       "layout": "IPY_MODEL_99642a1640e8452f9063fab931d0f4c5",
       "style": "IPY_MODEL_42eea96861354bedb06f88c8ec8f939c",
       "value": "<h4 style=\"font-size:14px;\">Welche Aussagen stimmen für den Teilsatz <i>damit sie ...</i> formal gesehen?</h4>"
      }
     },
     "29ee091efd9042d687ebe2fdbd3273cf": {
      "model_module": "@jupyter-widgets/controls",
      "model_module_version": "1.4.0",
      "model_name": "ButtonStyleModel",
      "state": {}
     },
     "29fac3aa8aa14db8bf8de292ca02a2f0": {
      "model_module": "@jupyter-widgets/controls",
      "model_module_version": "1.4.0",
      "model_name": "DescriptionStyleModel",
      "state": {
       "description_width": "initial"
      }
     },
     "2a05948c76a049c0b94d4fd2ec2cfbe1": {
      "model_module": "@jupyter-widgets/controls",
      "model_module_version": "1.4.0",
      "model_name": "ButtonModel",
      "state": {
       "description": "Korrekt?",
       "layout": "IPY_MODEL_d1f6473e4e2243ebafec4ffd60148758",
       "style": "IPY_MODEL_101b7bccf0d4498f8b46fca34e4045fd"
      }
     },
     "2a8e38a268724709a730f0fc3d32d84d": {
      "model_module": "@jupyter-widgets/base",
      "model_module_version": "1.1.0",
      "model_name": "LayoutModel",
      "state": {}
     },
     "2ae5eaab5dc94945acd3545581f2b500": {
      "model_module": "@jupyter-widgets/controls",
      "model_module_version": "1.4.0",
      "model_name": "DescriptionStyleModel",
      "state": {
       "description_width": ""
      }
     },
     "2b92a54382864d0592bac71d7999f9c9": {
      "model_module": "@jupyter-widgets/controls",
      "model_module_version": "1.4.0",
      "model_name": "ButtonModel",
      "state": {
       "description": "koordiniert",
       "layout": "IPY_MODEL_0c2ebeef26ed46809fe65357ffef8636",
       "style": "IPY_MODEL_5d559833e0694e9eb84c79c0aaab74d2"
      }
     },
     "2bc8e975576b4c41a3f75038f8170bb3": {
      "model_module": "@jupyter-widgets/controls",
      "model_module_version": "1.4.0",
      "model_name": "ButtonModel",
      "state": {
       "description": "Satz 2",
       "layout": "IPY_MODEL_3ed8547177764da495ab60f4912197dc",
       "style": "IPY_MODEL_6abc85c0ddd647788c9a247dfb44276e"
      }
     },
     "2bd513f508da4bc9b6389d774e9a1537": {
      "model_module": "@jupyter-widgets/controls",
      "model_module_version": "1.4.0",
      "model_name": "ButtonStyleModel",
      "state": {}
     },
     "2c0f3033c82c46089a0e8de392a792cc": {
      "model_module": "@jupyter-widgets/controls",
      "model_module_version": "1.4.0",
      "model_name": "VBoxModel",
      "state": {
       "children": [
        "IPY_MODEL_8842af31a6104411b5120cbef98991e1",
        "IPY_MODEL_6ad0fb6df1fb4321aaae550646815cfe"
       ],
       "layout": "IPY_MODEL_b6918793f04244c9b966eff8dc37e1b7"
      }
     },
     "2c6a79c099e7468fb558d11c8ff73a4b": {
      "model_module": "@jupyter-widgets/controls",
      "model_module_version": "1.4.0",
      "model_name": "CheckboxModel",
      "state": {
       "description": "ihm",
       "disabled": false,
       "layout": "IPY_MODEL_30d88dd2d4b5411c844924ce5a8cae3a",
       "style": "IPY_MODEL_1e590f0aa8f94d95a9e6cf69343bf1ea",
       "value": false
      }
     },
     "2c7a9ce547704e7ca98161bb030722e0": {
      "model_module": "@jupyter-widgets/controls",
      "model_module_version": "1.4.0",
      "model_name": "VBoxModel",
      "state": {
       "children": [
        "IPY_MODEL_499f84203fab4ec78b3e8adf1c28bfba",
        "IPY_MODEL_47bf64893b954feaa0da5c4f72cb9268",
        "IPY_MODEL_c2bfd24bfb6448c585af1495ca2eb307",
        "IPY_MODEL_54c50294968947c4bfe283e00d6ce902"
       ],
       "layout": "IPY_MODEL_576cd5b402324dcd93e3e406ce4ecb53"
      }
     },
     "2c8c246cfcd74bbfb686f274d6ca14b8": {
      "model_module": "@jupyter-widgets/controls",
      "model_module_version": "1.4.0",
      "model_name": "DescriptionStyleModel",
      "state": {
       "description_width": "initial"
      }
     },
     "2cf0e7cce5e34d10b7d48c07f4d0b70d": {
      "model_module": "@jupyter-widgets/controls",
      "model_module_version": "1.4.0",
      "model_name": "ButtonStyleModel",
      "state": {}
     },
     "2cfa0c417265460ba382b09fd07f969d": {
      "model_module": "@jupyter-widgets/controls",
      "model_module_version": "1.4.0",
      "model_name": "ButtonStyleModel",
      "state": {}
     },
     "2d29a335103641d19a68d6e4d585dd9b": {
      "model_module": "@jupyter-widgets/controls",
      "model_module_version": "1.4.0",
      "model_name": "DropdownModel",
      "state": {
       "_options_labels": [
        "Kausalsatz",
        "Keine der Alternativen",
        "Keine der Alternativen",
        "Lokalsatz",
        "Modalsatz",
        "Objektsatz",
        "Relativsatz",
        "Subjektsatz",
        "Temporalsatz"
       ],
       "description": "Antwort:",
       "index": 0,
       "layout": "IPY_MODEL_5eca334ccde649039fa4383cecd1047b",
       "style": "IPY_MODEL_760435eba52145289bbbc3421c17404d"
      }
     },
     "2d47a182dd894ce791b4663871448779": {
      "model_module": "@jupyter-widgets/controls",
      "model_module_version": "1.4.0",
      "model_name": "HTMLModel",
      "state": {
       "layout": "IPY_MODEL_ad6abf29b0084d858ee70314416402b6",
       "style": "IPY_MODEL_91352bd4a581429698d473795508f29c",
       "value": "<h4 style=\"font-size:14px;\">Welcher eingebettete Satztyp liegt vor?</h4>"
      }
     },
     "2d566955d0d949f784620fd0590efd89": {
      "model_module": "@jupyter-widgets/base",
      "model_module_version": "1.1.0",
      "model_name": "LayoutModel",
      "state": {
       "width": "600px"
      }
     },
     "2d7381e45fc149d3bec6562fd58a6413": {
      "model_module": "@jupyter-widgets/controls",
      "model_module_version": "1.4.0",
      "model_name": "DescriptionStyleModel",
      "state": {
       "description_width": ""
      }
     },
     "2d8a82298e9d4118bfe02744b7338434": {
      "model_module": "@jupyter-widgets/controls",
      "model_module_version": "1.4.0",
      "model_name": "CheckboxModel",
      "state": {
       "description": "Relativsatz",
       "disabled": false,
       "layout": "IPY_MODEL_cc1e36966342415aadfaf249d171aff5",
       "style": "IPY_MODEL_9af9b5cd82034638b2bf72e950a822bb",
       "value": false
      }
     },
     "2daa75cd35984078a8690936be9bd527": {
      "model_module": "@jupyter-widgets/base",
      "model_module_version": "1.1.0",
      "model_name": "LayoutModel",
      "state": {}
     },
     "2e188758f59e4b9c9d359f2c1de08921": {
      "model_module": "@jupyter-widgets/controls",
      "model_module_version": "1.4.0",
      "model_name": "ButtonStyleModel",
      "state": {}
     },
     "2e5b8d0e292947cba4ca0aebf2332ad4": {
      "model_module": "@jupyter-widgets/controls",
      "model_module_version": "1.4.0",
      "model_name": "CheckboxModel",
      "state": {
       "description": "Satzschlusszeichen: Fragezeichen",
       "disabled": false,
       "layout": "IPY_MODEL_6f593fbfa49f4301802964bf3766a628",
       "style": "IPY_MODEL_8c25c967940b40a5af48a84d7456ffbf",
       "value": false
      }
     },
     "2ea151404b0c425dbd372a6791284c45": {
      "model_module": "@jupyter-widgets/controls",
      "model_module_version": "1.4.0",
      "model_name": "HBoxModel",
      "state": {
       "children": [
        "IPY_MODEL_697ba0ddda2148569fdac64f0ccd73a4",
        "IPY_MODEL_6f192568f39d4c8bbcad60053341c18f"
       ],
       "layout": "IPY_MODEL_69d46547439d492fbed11f5bf12e85bb"
      }
     },
     "2ebed04338d84e21ab2fe5f8946bb437": {
      "model_module": "@jupyter-widgets/controls",
      "model_module_version": "1.4.0",
      "model_name": "ButtonModel",
      "state": {
       "description": "Korrekt?",
       "layout": "IPY_MODEL_c9cc597aae954f618aff696f4e06ef42",
       "style": "IPY_MODEL_49d7979f702a4cdda773b1e4f323ced5"
      }
     },
     "2ef2d22d02774e1db7377f0e277062c0": {
      "model_module": "@jupyter-widgets/controls",
      "model_module_version": "1.4.0",
      "model_name": "HBoxModel",
      "state": {
       "children": [
        "IPY_MODEL_3913a61a9a884ad69249313ef4666b93"
       ],
       "layout": "IPY_MODEL_ca4f03ddbbca443eb37ba3e6d4eb39b9"
      }
     },
     "2ef88a2d525f4b63bc5996e0407b0b35": {
      "model_module": "@jupyter-widgets/base",
      "model_module_version": "1.1.0",
      "model_name": "LayoutModel",
      "state": {
       "width": "600px"
      }
     },
     "2f142276a8ad4754ae40471dcda22e30": {
      "model_module": "@jupyter-widgets/base",
      "model_module_version": "1.1.0",
      "model_name": "LayoutModel",
      "state": {
       "width": "250px"
      }
     },
     "2f2b4e754b90451cbe0a5f1ddc4ba12e": {
      "model_module": "@jupyter-widgets/controls",
      "model_module_version": "1.4.0",
      "model_name": "HBoxModel",
      "state": {
       "children": [
        "IPY_MODEL_ec8689511b31444a9ddc16b87ba0a415",
        "IPY_MODEL_d02a4deeba1e4c269cc7ecedb5705d71"
       ],
       "layout": "IPY_MODEL_9a7b37460026420ea9c5643c41160a32"
      }
     },
     "2f46302a7d1543dbb2c984dbe904ff88": {
      "model_module": "@jupyter-widgets/controls",
      "model_module_version": "1.4.0",
      "model_name": "ButtonStyleModel",
      "state": {}
     },
     "2f6ec329136749dcb74add538faa15f3": {
      "model_module": "@jupyter-widgets/controls",
      "model_module_version": "1.4.0",
      "model_name": "DescriptionStyleModel",
      "state": {
       "description_width": "initial"
      }
     },
     "2fdf9a5a2e2548a88bb5e574833735fc": {
      "model_module": "@jupyter-widgets/controls",
      "model_module_version": "1.4.0",
      "model_name": "DescriptionStyleModel",
      "state": {
       "description_width": "initial"
      }
     },
     "30b0762b8c6442d0a5c564a9f35f5b85": {
      "model_module": "@jupyter-widgets/base",
      "model_module_version": "1.1.0",
      "model_name": "LayoutModel",
      "state": {
       "width": "600px"
      }
     },
     "30b2acbf370f4a2b840fd416589e800e": {
      "model_module": "@jupyter-widgets/controls",
      "model_module_version": "1.4.0",
      "model_name": "DescriptionStyleModel",
      "state": {
       "description_width": ""
      }
     },
     "30c3afcdd1174a2f8645e8a7cd94ed9c": {
      "model_module": "@jupyter-widgets/controls",
      "model_module_version": "1.4.0",
      "model_name": "ButtonStyleModel",
      "state": {}
     },
     "30cd0d1681764b36b2609e492faac62d": {
      "model_module": "@jupyter-widgets/controls",
      "model_module_version": "1.4.0",
      "model_name": "ButtonModel",
      "state": {
       "description": "Fragesatz",
       "layout": "IPY_MODEL_6bc448ca722643ee8e5b024984fa15aa",
       "style": "IPY_MODEL_6262e158872d463389b27c5d5caae735"
      }
     },
     "30d88dd2d4b5411c844924ce5a8cae3a": {
      "model_module": "@jupyter-widgets/base",
      "model_module_version": "1.1.0",
      "model_name": "LayoutModel",
      "state": {
       "width": "600px"
      }
     },
     "310a035e2f664ae593a9befadb94c849": {
      "model_module": "@jupyter-widgets/controls",
      "model_module_version": "1.4.0",
      "model_name": "CheckboxModel",
      "state": {
       "description": "Nebensatz 1. Grades",
       "disabled": false,
       "layout": "IPY_MODEL_6d09527d79ec4182a0a81b6750f5e243",
       "style": "IPY_MODEL_12302c434d534647803988a68cca0d1b",
       "value": false
      }
     },
     "3136c258bdbe4c578e19c785ff29f3ac": {
      "model_module": "@jupyter-widgets/controls",
      "model_module_version": "1.4.0",
      "model_name": "VBoxModel",
      "state": {
       "children": [
        "IPY_MODEL_5ef0d6b6865749df9c87ffe362bdb717",
        "IPY_MODEL_152c5aff685643dcafc7a8a0b96c9342",
        "IPY_MODEL_f53eb68e622f484693ec99ec87c49ca6",
        "IPY_MODEL_5dd08f4147d54eb7a590f609757ff40d"
       ],
       "layout": "IPY_MODEL_e078ecb839804d659908a2da28651de5"
      }
     },
     "3195b4de15df4eb3ad00c1b80e80f3d3": {
      "model_module": "@jupyter-widgets/base",
      "model_module_version": "1.1.0",
      "model_name": "LayoutModel",
      "state": {
       "width": "600px"
      }
     },
     "323b24034451434c95187295a1a37d1f": {
      "model_module": "@jupyter-widgets/controls",
      "model_module_version": "1.4.0",
      "model_name": "DescriptionStyleModel",
      "state": {
       "description_width": ""
      }
     },
     "3254d28840904914b5e138996cb8a3c0": {
      "model_module": "@jupyter-widgets/base",
      "model_module_version": "1.1.0",
      "model_name": "LayoutModel",
      "state": {
       "width": "600px"
      }
     },
     "32700fec618d4d26ba8ef4f1a1403276": {
      "model_module": "@jupyter-widgets/controls",
      "model_module_version": "1.4.0",
      "model_name": "HTMLModel",
      "state": {
       "layout": "IPY_MODEL_8b54edb3c8a74baaa89cc7bf0fee4285",
       "style": "IPY_MODEL_1efe8d3fcd9e46a995f424c4352e0ecf",
       "value": "<h4 style=\"font-size:14px;\">Um welche Satzart handelt es sich bei Satz 1?</h4>"
      }
     },
     "32c12d550cd04768aec7d5c20f9ca5a5": {
      "model_module": "@jupyter-widgets/controls",
      "model_module_version": "1.4.0",
      "model_name": "CheckboxModel",
      "state": {
       "description": "Junge",
       "disabled": false,
       "layout": "IPY_MODEL_cb85503a87d64d209d6aa3e3c9f8a2fa",
       "style": "IPY_MODEL_108596e292114e019ab090a8cf0ffd8f",
       "value": false
      }
     },
     "32c4500cb26e4b5baca32f8fc79a576c": {
      "model_module": "@jupyter-widgets/controls",
      "model_module_version": "1.4.0",
      "model_name": "DescriptionStyleModel",
      "state": {
       "description_width": ""
      }
     },
     "32cc4edbaab64ceb8bd592335968b681": {
      "model_module": "@jupyter-widgets/controls",
      "model_module_version": "1.4.0",
      "model_name": "HTMLModel",
      "state": {
       "layout": "IPY_MODEL_02de6eccc8774c7f9e6c4cdd61162473",
       "style": "IPY_MODEL_795450920f8f40f4a41a241d463959ee",
       "value": "<h4 style=\"font-size:14px;\">Was ist <i>damit sie ...</i> semantisch für ein Satz?</h4>"
      }
     },
     "32d7ef8c8933419f9033571c9afc7e11": {
      "model_module": "@jupyter-widgets/controls",
      "model_module_version": "1.4.0",
      "model_name": "HBoxModel",
      "state": {
       "children": [
        "IPY_MODEL_b7fc9383850f4f8086693980169ddb2e"
       ],
       "layout": "IPY_MODEL_881d058ff8024badab129c3deaf3461d"
      }
     },
     "333a0d4ec5d04f7997b951242d9aef64": {
      "model_module": "@jupyter-widgets/controls",
      "model_module_version": "1.4.0",
      "model_name": "ButtonModel",
      "state": {
       "description": "Aussagesatz",
       "layout": "IPY_MODEL_9702fa7965e94594ab20ae2f3d4d2c26",
       "style": "IPY_MODEL_786fdfd2954c40da81c48e17a5527b82"
      }
     },
     "333eb1a3f9ef45ccb1d335340ef7d3ef": {
      "model_module": "@jupyter-widgets/controls",
      "model_module_version": "1.4.0",
      "model_name": "CheckboxModel",
      "state": {
       "description": "kleine",
       "disabled": false,
       "layout": "IPY_MODEL_cf044fce8f334328ba25846c7b677dc8",
       "style": "IPY_MODEL_d27efe33a6ce44fe834e0b9a54b4497c",
       "value": false
      }
     },
     "333f37ea4e3f4c9c97584f5d6b38413f": {
      "model_module": "@jupyter-widgets/base",
      "model_module_version": "1.1.0",
      "model_name": "LayoutModel",
      "state": {}
     },
     "33799bdfbb004d678a413ace46da8555": {
      "model_module": "@jupyter-widgets/base",
      "model_module_version": "1.1.0",
      "model_name": "LayoutModel",
      "state": {}
     },
     "33a2817c9ea248c8a3ed960f908c2f5b": {
      "model_module": "@jupyter-widgets/controls",
      "model_module_version": "1.4.0",
      "model_name": "DescriptionStyleModel",
      "state": {
       "description_width": ""
      }
     },
     "3451eb2ed20c45d5abb4294da67e6283": {
      "model_module": "@jupyter-widgets/base",
      "model_module_version": "1.1.0",
      "model_name": "LayoutModel",
      "state": {
       "justify_content": "center"
      }
     },
     "345e992defa54c3aa7ff9e5946078c3b": {
      "model_module": "@jupyter-widgets/controls",
      "model_module_version": "1.4.0",
      "model_name": "HTMLModel",
      "state": {
       "layout": "IPY_MODEL_350ee9fb2b344f1e9db44d060f8ba880",
       "style": "IPY_MODEL_a8c8c62bf018493d8c423cfc791de408",
       "value": "<h4 style=\"font-size:14px;\">Welche Wörter stehen im Mittelfeld?</h4>"
      }
     },
     "3498cc1683614f37939fb7acf8f5f0e5": {
      "model_module": "@jupyter-widgets/controls",
      "model_module_version": "1.4.0",
      "model_name": "ButtonStyleModel",
      "state": {}
     },
     "350ee9fb2b344f1e9db44d060f8ba880": {
      "model_module": "@jupyter-widgets/base",
      "model_module_version": "1.1.0",
      "model_name": "LayoutModel",
      "state": {}
     },
     "352d0c8f5b5043289c00714820e6bea4": {
      "model_module": "@jupyter-widgets/controls",
      "model_module_version": "1.4.0",
      "model_name": "ButtonStyleModel",
      "state": {}
     },
     "358a2d33cf17402fb2fd7453cea58642": {
      "model_module": "@jupyter-widgets/base",
      "model_module_version": "1.1.0",
      "model_name": "LayoutModel",
      "state": {
       "width": "250px"
      }
     },
     "36063001370949ce91150a8c5464ce0a": {
      "model_module": "@jupyter-widgets/controls",
      "model_module_version": "1.4.0",
      "model_name": "ButtonStyleModel",
      "state": {}
     },
     "36468e8a963e4ce0b6c604b6c21f6e24": {
      "model_module": "@jupyter-widgets/base",
      "model_module_version": "1.1.0",
      "model_name": "LayoutModel",
      "state": {
       "width": "250px"
      }
     },
     "36806c617f494a29b9ec364765414580": {
      "model_module": "@jupyter-widgets/controls",
      "model_module_version": "1.4.0",
      "model_name": "ButtonStyleModel",
      "state": {}
     },
     "36942079e14547bbabd261efc49cb9cc": {
      "model_module": "@jupyter-widgets/controls",
      "model_module_version": "1.4.0",
      "model_name": "DescriptionStyleModel",
      "state": {
       "description_width": ""
      }
     },
     "36da70ee2ea6488cb0691f7d3dcb2193": {
      "model_module": "@jupyter-widgets/base",
      "model_module_version": "1.1.0",
      "model_name": "LayoutModel",
      "state": {}
     },
     "36fba345a5b94eb287e68a06d9d69033": {
      "model_module": "@jupyter-widgets/controls",
      "model_module_version": "1.4.0",
      "model_name": "HTMLModel",
      "state": {
       "layout": "IPY_MODEL_41122eb7164647998589f79a4893e486",
       "style": "IPY_MODEL_0230f312beae4d23b9e47e2d18d5df80",
       "value": "<i>Markieren Sie <ins>alle</ins> passenden Antworten: </i>"
      }
     },
     "370a838a921f4b1a864ec23207456dd5": {
      "model_module": "@jupyter-widgets/controls",
      "model_module_version": "1.4.0",
      "model_name": "ButtonModel",
      "state": {
       "description": "VP",
       "layout": "IPY_MODEL_45f60fb4533449fc984257cff3cfb300",
       "style": "IPY_MODEL_ef32507d6ff141c0a660f47d18a96936"
      }
     },
     "373040a8322a4d3ab437ed3db51082bd": {
      "model_module": "@jupyter-widgets/controls",
      "model_module_version": "1.4.0",
      "model_name": "DescriptionStyleModel",
      "state": {
       "description_width": "initial"
      }
     },
     "3753de90a65543fdbf44debeebd34945": {
      "model_module": "@jupyter-widgets/base",
      "model_module_version": "1.1.0",
      "model_name": "LayoutModel",
      "state": {
       "width": "250px"
      }
     },
     "3765a918335a4f41a3348715d61737d2": {
      "model_module": "@jupyter-widgets/controls",
      "model_module_version": "1.4.0",
      "model_name": "ButtonModel",
      "state": {
       "description": "Korrekt?",
       "layout": "IPY_MODEL_0454d111c862437ca634cf23597ebb0d",
       "style": "IPY_MODEL_6443b69cff82445e8e10574936556d07"
      }
     },
     "377e7967c0e4470981e4eb2998b0d273": {
      "model_module": "@jupyter-widgets/controls",
      "model_module_version": "1.4.0",
      "model_name": "DescriptionStyleModel",
      "state": {
       "description_width": "initial"
      }
     },
     "37b59eedbe6e47ddb78d6be2b724882d": {
      "model_module": "@jupyter-widgets/controls",
      "model_module_version": "1.4.0",
      "model_name": "DescriptionStyleModel",
      "state": {
       "description_width": "initial"
      }
     },
     "383fb477e6c049f2ab784040ede12fa1": {
      "model_module": "@jupyter-widgets/base",
      "model_module_version": "1.1.0",
      "model_name": "LayoutModel",
      "state": {
       "justify_content": "center"
      }
     },
     "3859144a632b4009bc18b892279645d0": {
      "model_module": "@jupyter-widgets/controls",
      "model_module_version": "1.4.0",
      "model_name": "DescriptionStyleModel",
      "state": {
       "description_width": "initial"
      }
     },
     "385d8f0f8c944f9c88aacb78aef322e1": {
      "model_module": "@jupyter-widgets/base",
      "model_module_version": "1.1.0",
      "model_name": "LayoutModel",
      "state": {}
     },
     "385e24111e4c46578931ea725c43d4f2": {
      "model_module": "@jupyter-widgets/base",
      "model_module_version": "1.1.0",
      "model_name": "LayoutModel",
      "state": {}
     },
     "38b6ad09f0104954b042f3ec3b53be03": {
      "model_module": "@jupyter-widgets/base",
      "model_module_version": "1.1.0",
      "model_name": "LayoutModel",
      "state": {}
     },
     "38e6cb8c0ddd450cb1c0206f2264db22": {
      "model_module": "@jupyter-widgets/base",
      "model_module_version": "1.1.0",
      "model_name": "LayoutModel",
      "state": {}
     },
     "3910bb4292614a068cbf42bae7a477da": {
      "model_module": "@jupyter-widgets/base",
      "model_module_version": "1.1.0",
      "model_name": "LayoutModel",
      "state": {
       "width": "500px"
      }
     },
     "3913a61a9a884ad69249313ef4666b93": {
      "model_module": "@jupyter-widgets/controls",
      "model_module_version": "1.4.0",
      "model_name": "ButtonModel",
      "state": {
       "description": "Keine der anderen Möglichkeiten",
       "layout": "IPY_MODEL_4094940934044e1aab058aae1e8a4bb9",
       "style": "IPY_MODEL_a74c5849c7ac41199b1bdf2a60a0a439"
      }
     },
     "3933ed2d047e4b49af1f685115f1fe4d": {
      "model_module": "@jupyter-widgets/controls",
      "model_module_version": "1.4.0",
      "model_name": "HTMLModel",
      "state": {
       "layout": "IPY_MODEL_6ad53bc4f56545339668060d766e79a8",
       "style": "IPY_MODEL_7559205a017e473caca4093e8c58ba98",
       "value": "<i>Wählen Sie die <ins>eine</ins> korrekte Antwort aus: </i>"
      }
     },
     "3978e823dfc8475f9d6b794d29332945": {
      "model_module": "@jupyter-widgets/controls",
      "model_module_version": "1.4.0",
      "model_name": "DescriptionStyleModel",
      "state": {
       "description_width": "initial"
      }
     },
     "3985d5a250954ed58383716d8d8b5fb5": {
      "model_module": "@jupyter-widgets/controls",
      "model_module_version": "1.4.0",
      "model_name": "DescriptionStyleModel",
      "state": {
       "description_width": "initial"
      }
     },
     "39deb3334dab422f9d677360fffe6e72": {
      "model_module": "@jupyter-widgets/base",
      "model_module_version": "1.1.0",
      "model_name": "LayoutModel",
      "state": {}
     },
     "3a365ed3850a4c80870b840616f0e2c7": {
      "model_module": "@jupyter-widgets/controls",
      "model_module_version": "1.4.0",
      "model_name": "DescriptionStyleModel",
      "state": {
       "description_width": "initial"
      }
     },
     "3a9171988d1f4cf683f64de3c1c12a54": {
      "model_module": "@jupyter-widgets/controls",
      "model_module_version": "1.4.0",
      "model_name": "ButtonModel",
      "state": {
       "description": "Wunschsatz",
       "layout": "IPY_MODEL_6df4f2cef5184f2db7ebf01d30d1c8c4",
       "style": "IPY_MODEL_b59f0f79a8ec4099811f2ce67c4952d8"
      }
     },
     "3aee60a759b34caba09f24f81f2bac07": {
      "model_module": "@jupyter-widgets/controls",
      "model_module_version": "1.4.0",
      "model_name": "DescriptionStyleModel",
      "state": {
       "description_width": ""
      }
     },
     "3b3b301a13b74aae801590018fe70021": {
      "model_module": "@jupyter-widgets/controls",
      "model_module_version": "1.4.0",
      "model_name": "ButtonStyleModel",
      "state": {}
     },
     "3b67a09f317f4a119a458fb02181b371": {
      "model_module": "@jupyter-widgets/controls",
      "model_module_version": "1.4.0",
      "model_name": "HTMLModel",
      "state": {
       "layout": "IPY_MODEL_383fb477e6c049f2ab784040ede12fa1",
       "style": "IPY_MODEL_e17832964f1545a598ed0f2e20cdabc1",
       "value": "<i>Markieren Sie <ins>alle</ins> passenden Antworten: </i>"
      }
     },
     "3b9592d2fa1641a9a209d6364298ea5b": {
      "model_module": "@jupyter-widgets/base",
      "model_module_version": "1.1.0",
      "model_name": "LayoutModel",
      "state": {
       "width": "600px"
      }
     },
     "3beeebf4f40d45ec80c8c7fa39c4aad0": {
      "model_module": "@jupyter-widgets/controls",
      "model_module_version": "1.4.0",
      "model_name": "DescriptionStyleModel",
      "state": {
       "description_width": ""
      }
     },
     "3c5a872117fc4d29a5c98e55907b14c2": {
      "model_module": "@jupyter-widgets/controls",
      "model_module_version": "1.4.0",
      "model_name": "HTMLModel",
      "state": {
       "layout": "IPY_MODEL_ea4aa4070c3b4af4b50a1767de062f52",
       "style": "IPY_MODEL_3e0939c8ad1240e890d6452a74b6b3c9",
       "value": "<h4 style=\"font-size:14px;\">Was für eine Satzkonstruktion liegt hier vor?</h4>"
      }
     },
     "3cc84910d4c14ed4b573edd703856e06": {
      "model_module": "@jupyter-widgets/base",
      "model_module_version": "1.1.0",
      "model_name": "LayoutModel",
      "state": {
       "width": "600px"
      }
     },
     "3cd5813862c54305ad6a5682f4ee9aad": {
      "model_module": "@jupyter-widgets/controls",
      "model_module_version": "1.4.0",
      "model_name": "DescriptionStyleModel",
      "state": {
       "description_width": ""
      }
     },
     "3d0fe4b88e3e41748c6d081393fe4dc9": {
      "model_module": "@jupyter-widgets/controls",
      "model_module_version": "1.4.0",
      "model_name": "HBoxModel",
      "state": {
       "children": [
        "IPY_MODEL_7c1549c8249d46c4a73742475c05b13d",
        "IPY_MODEL_193f63237e794071977738ff13918961"
       ],
       "layout": "IPY_MODEL_1ca94ffc5f7547658b7d844f5258f1bb"
      }
     },
     "3d2b6393585f404983e11f50270381c1": {
      "model_module": "@jupyter-widgets/controls",
      "model_module_version": "1.4.0",
      "model_name": "VBoxModel",
      "state": {
       "children": [
        "IPY_MODEL_048fbbcf116e4748b73036664cc4c0b9",
        "IPY_MODEL_4eaf605f87ba45b99842c9d7a018c229",
        "IPY_MODEL_5e7dc0be5cf74c85a22af58377fc55d4",
        "IPY_MODEL_e347494acbdc4622aab51a32214a6c43",
        "IPY_MODEL_2c6a79c099e7468fb558d11c8ff73a4b",
        "IPY_MODEL_81af1aba554649799493b72d98107f61",
        "IPY_MODEL_c5a76633a67246d897dabb83db611aff",
        "IPY_MODEL_f85e2f427cf54e099447fea2917fa033"
       ],
       "layout": "IPY_MODEL_582d1c9093564bf0ba9b5479a58886cc"
      }
     },
     "3d2bca8d991745c9938306cb8bf34783": {
      "model_module": "@jupyter-widgets/base",
      "model_module_version": "1.1.0",
      "model_name": "LayoutModel",
      "state": {
       "width": "250px"
      }
     },
     "3e0939c8ad1240e890d6452a74b6b3c9": {
      "model_module": "@jupyter-widgets/controls",
      "model_module_version": "1.4.0",
      "model_name": "DescriptionStyleModel",
      "state": {
       "description_width": ""
      }
     },
     "3e54715201a048859bebd7585fe755d5": {
      "model_module": "@jupyter-widgets/controls",
      "model_module_version": "1.4.0",
      "model_name": "CheckboxModel",
      "state": {
       "description": "heute",
       "disabled": false,
       "layout": "IPY_MODEL_bb640a7bae25471080efafacc3c7364e",
       "style": "IPY_MODEL_7e1024834983451585e9946930176601",
       "value": false
      }
     },
     "3e6f507a1c26458594899e72b8269437": {
      "model_module": "@jupyter-widgets/base",
      "model_module_version": "1.1.0",
      "model_name": "LayoutModel",
      "state": {
       "width": "500px"
      }
     },
     "3e80b3aea4f34167b83a1b6245335fa4": {
      "model_module": "@jupyter-widgets/controls",
      "model_module_version": "1.4.0",
      "model_name": "DescriptionStyleModel",
      "state": {
       "description_width": ""
      }
     },
     "3e88a059f2524ed98f9b7a385496631d": {
      "model_module": "@jupyter-widgets/controls",
      "model_module_version": "1.4.0",
      "model_name": "DescriptionStyleModel",
      "state": {
       "description_width": ""
      }
     },
     "3eadefcad48247b6b98a73c1bf8a0128": {
      "model_module": "@jupyter-widgets/controls",
      "model_module_version": "1.4.0",
      "model_name": "DescriptionStyleModel",
      "state": {
       "description_width": ""
      }
     },
     "3eaefc85f91c4184885b47efe58d1512": {
      "model_module": "@jupyter-widgets/controls",
      "model_module_version": "1.4.0",
      "model_name": "DescriptionStyleModel",
      "state": {
       "description_width": "initial"
      }
     },
     "3ed8547177764da495ab60f4912197dc": {
      "model_module": "@jupyter-widgets/base",
      "model_module_version": "1.1.0",
      "model_name": "LayoutModel",
      "state": {
       "width": "250px"
      }
     },
     "3f34db049e544a7b8912227dc5dd5d01": {
      "model_module": "@jupyter-widgets/controls",
      "model_module_version": "1.4.0",
      "model_name": "DescriptionStyleModel",
      "state": {
       "description_width": ""
      }
     },
     "3f85b76f9b1a4e68816630b0899673ca": {
      "model_module": "@jupyter-widgets/controls",
      "model_module_version": "1.4.0",
      "model_name": "DescriptionStyleModel",
      "state": {
       "description_width": ""
      }
     },
     "402e4661d87648fca9381d8490e1b7c5": {
      "model_module": "@jupyter-widgets/controls",
      "model_module_version": "1.4.0",
      "model_name": "DescriptionStyleModel",
      "state": {
       "description_width": ""
      }
     },
     "404bb5cd633d470db8e30bc4087d830a": {
      "model_module": "@jupyter-widgets/base",
      "model_module_version": "1.1.0",
      "model_name": "LayoutModel",
      "state": {
       "width": "600px"
      }
     },
     "404e25fbeb54443a990e93385140c819": {
      "model_module": "@jupyter-widgets/controls",
      "model_module_version": "1.4.0",
      "model_name": "DescriptionStyleModel",
      "state": {
       "description_width": ""
      }
     },
     "406200dec527432b9b61158573627596": {
      "model_module": "@jupyter-widgets/base",
      "model_module_version": "1.1.0",
      "model_name": "LayoutModel",
      "state": {
       "justify_content": "center"
      }
     },
     "4094940934044e1aab058aae1e8a4bb9": {
      "model_module": "@jupyter-widgets/base",
      "model_module_version": "1.1.0",
      "model_name": "LayoutModel",
      "state": {
       "width": "250px"
      }
     },
     "40ab6ab5e1af4b009c1e1c72a9968aad": {
      "model_module": "@jupyter-widgets/controls",
      "model_module_version": "1.4.0",
      "model_name": "HTMLModel",
      "state": {
       "layout": "IPY_MODEL_ec2c347064d440618578198418fcae32",
       "style": "IPY_MODEL_323b24034451434c95187295a1a37d1f",
       "value": "<h4 style=\"font-size:14px;\">Wieso?</h4>"
      }
     },
     "40c9a9a25fd344a3ba5f549bcd4e89da": {
      "model_module": "@jupyter-widgets/base",
      "model_module_version": "1.1.0",
      "model_name": "LayoutModel",
      "state": {
       "justify_content": "center"
      }
     },
     "40e96ddbd16a469fb29b9f0d138690bc": {
      "model_module": "@jupyter-widgets/base",
      "model_module_version": "1.1.0",
      "model_name": "LayoutModel",
      "state": {}
     },
     "40fd36a90f5e4e2c8aa8f6b6b0b31551": {
      "model_module": "@jupyter-widgets/controls",
      "model_module_version": "1.4.0",
      "model_name": "DescriptionStyleModel",
      "state": {
       "description_width": "initial"
      }
     },
     "41122eb7164647998589f79a4893e486": {
      "model_module": "@jupyter-widgets/base",
      "model_module_version": "1.1.0",
      "model_name": "LayoutModel",
      "state": {
       "justify_content": "center"
      }
     },
     "41359d378bdc4c0c892158f380a5499f": {
      "model_module": "@jupyter-widgets/base",
      "model_module_version": "1.1.0",
      "model_name": "LayoutModel",
      "state": {
       "width": "600px"
      }
     },
     "4135fe5f61084a57a026005a3969c613": {
      "model_module": "@jupyter-widgets/controls",
      "model_module_version": "1.4.0",
      "model_name": "HTMLModel",
      "state": {
       "layout": "IPY_MODEL_66bdf509925a402ba4a5698552dc5d07",
       "style": "IPY_MODEL_068becf03d654ad898483186039310d2",
       "value": "<h4 style=\"font-size:14px;\">Welcher eingebettete Satztyp liegt vor?</h4>"
      }
     },
     "414127f9e5b34b71914a84a3ccce5a79": {
      "model_module": "@jupyter-widgets/controls",
      "model_module_version": "1.4.0",
      "model_name": "HTMLModel",
      "state": {
       "layout": "IPY_MODEL_17bc70336bb7462b8be59d18de5d87a7",
       "style": "IPY_MODEL_ccf844c7db21417a9d7564470e9fbb99",
       "value": "<i>Markieren Sie <ins>alle</ins> passenden Antworten: </i>"
      }
     },
     "416568b541df4a3fac90cc71351f324f": {
      "model_module": "@jupyter-widgets/controls",
      "model_module_version": "1.4.0",
      "model_name": "DescriptionStyleModel",
      "state": {
       "description_width": "initial"
      }
     },
     "4193b32a901e4f92b862778f6556bf2c": {
      "model_module": "@jupyter-widgets/base",
      "model_module_version": "1.1.0",
      "model_name": "LayoutModel",
      "state": {
       "justify_content": "center"
      }
     },
     "42155764a6404a3cb6adfa92f8de4533": {
      "model_module": "@jupyter-widgets/controls",
      "model_module_version": "1.4.0",
      "model_name": "HTMLModel",
      "state": {
       "layout": "IPY_MODEL_a6b64d5e02cc46a79def38ac4baa906a",
       "style": "IPY_MODEL_d0d8b968d52044b7afdde9521f3c2b7b",
       "value": "<h4 style=\"font-size:14px;\">Wenn der Nebensatz durch eine Konjunktion eingeleitet wird, wo steht diese im Stellungsfeldermodell?</h4>"
      }
     },
     "42379e05df7f48749681fe696294c017": {
      "model_module": "@jupyter-widgets/controls",
      "model_module_version": "1.4.0",
      "model_name": "DescriptionStyleModel",
      "state": {
       "description_width": ""
      }
     },
     "42412e7ea10042a59f73a6e741015cfa": {
      "model_module": "@jupyter-widgets/controls",
      "model_module_version": "1.4.0",
      "model_name": "ButtonStyleModel",
      "state": {}
     },
     "4266bedaf0a74553a9956513d4b9b427": {
      "model_module": "@jupyter-widgets/controls",
      "model_module_version": "1.4.0",
      "model_name": "ButtonStyleModel",
      "state": {}
     },
     "42badf5ed4b245a89985c22f2a33d5bf": {
      "model_module": "@jupyter-widgets/controls",
      "model_module_version": "1.4.0",
      "model_name": "ButtonModel",
      "state": {
       "description": "Korrekt?",
       "layout": "IPY_MODEL_1e851c3105ef4387aa8b88b6071ce000",
       "style": "IPY_MODEL_56c9eb34ea6643d5afd58c9becf71de8"
      }
     },
     "42e3e5cb2ced4aa78cfa77ad2bac9f8b": {
      "model_module": "@jupyter-widgets/controls",
      "model_module_version": "1.4.0",
      "model_name": "HTMLModel",
      "state": {
       "layout": "IPY_MODEL_57b5cff46f0c4b73b5c7ca9eb5b5ac47",
       "style": "IPY_MODEL_db4b6da284224fb2b3907e93904dd9d1",
       "value": "<h4 style=\"font-size:14px;\">Welche Form der Kontrolle liegt hier vor?</h4>"
      }
     },
     "42eea96861354bedb06f88c8ec8f939c": {
      "model_module": "@jupyter-widgets/controls",
      "model_module_version": "1.4.0",
      "model_name": "DescriptionStyleModel",
      "state": {
       "description_width": ""
      }
     },
     "431a41c499e949a2b22e6baac4dbc92a": {
      "model_module": "@jupyter-widgets/base",
      "model_module_version": "1.1.0",
      "model_name": "LayoutModel",
      "state": {}
     },
     "439cf93d783d40e799a1e3716a757d6e": {
      "model_module": "@jupyter-widgets/controls",
      "model_module_version": "1.4.0",
      "model_name": "VBoxModel",
      "state": {
       "children": [
        "IPY_MODEL_e60368a9aa3a4f1f925a839cfdac2775",
        "IPY_MODEL_9d2add2630234c6b807b9378fb88269b",
        "IPY_MODEL_a506a85c160c409780857bebb144b4f9",
        "IPY_MODEL_591387e7ee7e4a188283e54368bf282e",
        "IPY_MODEL_28cadac7c8f747fd8a4a066290f3a6d4",
        "IPY_MODEL_d1f6be4ebce2495681e024f81cbfa9dd",
        "IPY_MODEL_7c744c7990f54ca0a9f4a91be6c85e95",
        "IPY_MODEL_d0dce537d98c4a4e8a39b1dec1743d5c",
        "IPY_MODEL_333eb1a3f9ef45ccb1d335340ef7d3ef"
       ],
       "layout": "IPY_MODEL_bfe22c995b774b49847ed0c509fb5bbc"
      }
     },
     "43ac72078c964a02850457bbfe5771f6": {
      "model_module": "@jupyter-widgets/controls",
      "model_module_version": "1.4.0",
      "model_name": "ButtonModel",
      "state": {
       "description": "subordiniert",
       "layout": "IPY_MODEL_de0bd2da53fc4bc08551ff9b8a35754e",
       "style": "IPY_MODEL_145ee126ae354a70a79740e448dac291"
      }
     },
     "43c900f20069465bb1406acd647bf7a4": {
      "model_module": "@jupyter-widgets/base",
      "model_module_version": "1.1.0",
      "model_name": "LayoutModel",
      "state": {}
     },
     "43d632b4597043e58d2e6ca53fa4f8f8": {
      "model_module": "@jupyter-widgets/controls",
      "model_module_version": "1.4.0",
      "model_name": "HTMLModel",
      "state": {
       "layout": "IPY_MODEL_ea82a81322894605b4fdab5795f4e1b3",
       "style": "IPY_MODEL_53c75e68db8c45baa1b3ea8e4684ae9b",
       "value": "<i>Wählen Sie die <ins>eine</ins> korrekte Antwort aus: </i>"
      }
     },
     "43d9c37433164a28897e792f1f4536d5": {
      "model_module": "@jupyter-widgets/base",
      "model_module_version": "1.1.0",
      "model_name": "LayoutModel",
      "state": {
       "justify_content": "center"
      }
     },
     "443a7384035c4cd9b74715c20aacfbe0": {
      "model_module": "@jupyter-widgets/base",
      "model_module_version": "1.1.0",
      "model_name": "LayoutModel",
      "state": {
       "justify_content": "center"
      }
     },
     "453fa39749fd4f06a282f72d870a22f6": {
      "model_module": "@jupyter-widgets/controls",
      "model_module_version": "1.4.0",
      "model_name": "ButtonModel",
      "state": {
       "description": "Korrekt?",
       "layout": "IPY_MODEL_d7d512cbf07240a284039ee973c19749",
       "style": "IPY_MODEL_5b1821fd22164d849fa17be1bf11cb2c"
      }
     },
     "45c9d6a2f605497d821fa1f40e8184be": {
      "model_module": "@jupyter-widgets/controls",
      "model_module_version": "1.4.0",
      "model_name": "DescriptionStyleModel",
      "state": {
       "description_width": ""
      }
     },
     "45e615e571d74f76b36bd1c0621abc69": {
      "model_module": "@jupyter-widgets/controls",
      "model_module_version": "1.4.0",
      "model_name": "HTMLModel",
      "state": {
       "layout": "IPY_MODEL_6ec158c2bea2448bb89a28a83c525573",
       "style": "IPY_MODEL_df6dbd5d9f3a46a1825540c7e6d4c03b",
       "value": "<h4 style=\"font-size:14px;\">Welche Wörter sind Teil der linken Satzklammer?</h4>"
      }
     },
     "45f19d5bd4da48cbb684553e179e6fba": {
      "model_module": "@jupyter-widgets/controls",
      "model_module_version": "1.4.0",
      "model_name": "CheckboxModel",
      "state": {
       "description": "Lied gesungen",
       "disabled": false,
       "layout": "IPY_MODEL_b8279bb2a4844019ab9c9872c83978f1",
       "style": "IPY_MODEL_b7c8195da322447a8f1ef76af21468f8",
       "value": false
      }
     },
     "45f60fb4533449fc984257cff3cfb300": {
      "model_module": "@jupyter-widgets/base",
      "model_module_version": "1.1.0",
      "model_name": "LayoutModel",
      "state": {
       "width": "250px"
      }
     },
     "4618bf0a77cc42bfa1f6a4d5df56d8c4": {
      "model_module": "@jupyter-widgets/base",
      "model_module_version": "1.1.0",
      "model_name": "LayoutModel",
      "state": {}
     },
     "464f20739571479eb3975f937d802864": {
      "model_module": "@jupyter-widgets/controls",
      "model_module_version": "1.4.0",
      "model_name": "ButtonStyleModel",
      "state": {}
     },
     "46ed395471d64dbd9e05d4b92c02dd42": {
      "model_module": "@jupyter-widgets/controls",
      "model_module_version": "1.4.0",
      "model_name": "DescriptionStyleModel",
      "state": {
       "description_width": "initial"
      }
     },
     "470b205741304eb9969044fe896da3f6": {
      "model_module": "@jupyter-widgets/base",
      "model_module_version": "1.1.0",
      "model_name": "LayoutModel",
      "state": {}
     },
     "471529b4fdc24c578e7f8be7b305cd02": {
      "model_module": "@jupyter-widgets/controls",
      "model_module_version": "1.4.0",
      "model_name": "ButtonModel",
      "state": {
       "description": "Objektkontrolle",
       "layout": "IPY_MODEL_ceff27affadd4194ba346ee1aa7f2b13",
       "style": "IPY_MODEL_7dada8def42a4857a3fb6c495df2aa26"
      }
     },
     "47276a68fdd745a880c2c21c8cddc034": {
      "model_module": "@jupyter-widgets/base",
      "model_module_version": "1.1.0",
      "model_name": "LayoutModel",
      "state": {
       "width": "500px"
      }
     },
     "47494c6fd1d848feb33c89bf17ef756c": {
      "model_module": "@jupyter-widgets/controls",
      "model_module_version": "1.4.0",
      "model_name": "ButtonStyleModel",
      "state": {}
     },
     "475dbc14281548f695e7d70856d05f40": {
      "model_module": "@jupyter-widgets/base",
      "model_module_version": "1.1.0",
      "model_name": "LayoutModel",
      "state": {
       "justify_content": "center"
      }
     },
     "477e8108560a4439bd7e384167afb692": {
      "model_module": "@jupyter-widgets/controls",
      "model_module_version": "1.4.0",
      "model_name": "DescriptionStyleModel",
      "state": {
       "description_width": "initial"
      }
     },
     "4786de6e65ba4978bb0b57f703cf85d7": {
      "model_module": "@jupyter-widgets/base",
      "model_module_version": "1.1.0",
      "model_name": "LayoutModel",
      "state": {}
     },
     "47a8de08814a4ede98e4c68f2b551619": {
      "model_module": "@jupyter-widgets/controls",
      "model_module_version": "1.4.0",
      "model_name": "CheckboxModel",
      "state": {
       "description": "Satzschlusszeichen: Fragezeichen",
       "disabled": false,
       "layout": "IPY_MODEL_9a181e87f76d4b8f8e4b4769181f3916",
       "style": "IPY_MODEL_fbdb44e22a234a23a9c98b8185b5956d",
       "value": false
      }
     },
     "47bf64893b954feaa0da5c4f72cb9268": {
      "model_module": "@jupyter-widgets/controls",
      "model_module_version": "1.4.0",
      "model_name": "HTMLModel",
      "state": {
       "layout": "IPY_MODEL_7c6dee19163c43ac8dfd1083417abfe5",
       "style": "IPY_MODEL_1a1cae1423494d7c8c8afb8e3cd591ba",
       "value": "<i>Markieren Sie <ins>alle</ins> passenden Antworten: </i>"
      }
     },
     "484cfb66e83141c4862c96f853a22de0": {
      "model_module": "@jupyter-widgets/controls",
      "model_module_version": "1.4.0",
      "model_name": "DescriptionStyleModel",
      "state": {
       "description_width": ""
      }
     },
     "484d12e498204b658d05f0c7d36b618a": {
      "model_module": "@jupyter-widgets/base",
      "model_module_version": "1.1.0",
      "model_name": "LayoutModel",
      "state": {
       "justify_content": "center"
      }
     },
     "488bbd3c694342a3a7660249f3973df5": {
      "model_module": "@jupyter-widgets/base",
      "model_module_version": "1.1.0",
      "model_name": "LayoutModel",
      "state": {
       "justify_content": "center"
      }
     },
     "48df702727e440ac9c2293f0ace89c0d": {
      "model_module": "@jupyter-widgets/controls",
      "model_module_version": "1.4.0",
      "model_name": "DescriptionStyleModel",
      "state": {
       "description_width": "initial"
      }
     },
     "4952c5b6c83a40faae5b542d0fa2b845": {
      "model_module": "@jupyter-widgets/controls",
      "model_module_version": "1.4.0",
      "model_name": "ButtonStyleModel",
      "state": {}
     },
     "495629e1548144e8916fec81b1a46862": {
      "model_module": "@jupyter-widgets/base",
      "model_module_version": "1.1.0",
      "model_name": "LayoutModel",
      "state": {
       "width": "250px"
      }
     },
     "499f84203fab4ec78b3e8adf1c28bfba": {
      "model_module": "@jupyter-widgets/controls",
      "model_module_version": "1.4.0",
      "model_name": "HTMLModel",
      "state": {
       "layout": "IPY_MODEL_842ee1d2f6cc43e5a0fadb685bcb3e71",
       "style": "IPY_MODEL_61910cae44644f03b30ebe21f8d76b3d",
       "value": "<h4 style=\"font-size:14px;\">Welche Wörter stehen im Mittelfeld?</h4>"
      }
     },
     "49ad32405d3a479f88beff18898ef646": {
      "model_module": "@jupyter-widgets/base",
      "model_module_version": "1.1.0",
      "model_name": "LayoutModel",
      "state": {
       "width": "600px"
      }
     },
     "49bfe74afa92413985a1fdb673deea73": {
      "model_module": "@jupyter-widgets/controls",
      "model_module_version": "1.4.0",
      "model_name": "DescriptionStyleModel",
      "state": {
       "description_width": ""
      }
     },
     "49c1850a95f1413fa2d6290120cc6491": {
      "model_module": "@jupyter-widgets/controls",
      "model_module_version": "1.4.0",
      "model_name": "ButtonStyleModel",
      "state": {}
     },
     "49d7979f702a4cdda773b1e4f323ced5": {
      "model_module": "@jupyter-widgets/controls",
      "model_module_version": "1.4.0",
      "model_name": "ButtonStyleModel",
      "state": {}
     },
     "49f0f5d56cf74eec9d0277334efffa82": {
      "model_module": "@jupyter-widgets/controls",
      "model_module_version": "1.4.0",
      "model_name": "CheckboxModel",
      "state": {
       "description": "gelesen",
       "disabled": false,
       "layout": "IPY_MODEL_f0c2c55e7aab4b199319e43d96f5d400",
       "style": "IPY_MODEL_dd658c195e514ae39bde1e39020ae33b",
       "value": false
      }
     },
     "4a198b852c964955949fd7d23f39ab8e": {
      "model_module": "@jupyter-widgets/controls",
      "model_module_version": "1.4.0",
      "model_name": "HTMLModel",
      "state": {
       "layout": "IPY_MODEL_b2fae575c60d4ccd89d0baa534182d38",
       "style": "IPY_MODEL_8c3a2b45318a4f36ab9d9d8505288067",
       "value": "<i>Wählen Sie die <ins>eine</ins> korrekte Antwort aus: </i>"
      }
     },
     "4a2a56424d5a42e199e2d6baf4796e53": {
      "model_module": "@jupyter-widgets/controls",
      "model_module_version": "1.4.0",
      "model_name": "DescriptionStyleModel",
      "state": {
       "description_width": ""
      }
     },
     "4ab14d08c86145f9ab4bd3f16944f78b": {
      "model_module": "@jupyter-widgets/base",
      "model_module_version": "1.1.0",
      "model_name": "LayoutModel",
      "state": {}
     },
     "4af4e9fa58294a9e8619691ac48c78a2": {
      "model_module": "@jupyter-widgets/base",
      "model_module_version": "1.1.0",
      "model_name": "LayoutModel",
      "state": {}
     },
     "4b1a6fb4ad74436fbfe983edf58df0ae": {
      "model_module": "@jupyter-widgets/base",
      "model_module_version": "1.1.0",
      "model_name": "LayoutModel",
      "state": {
       "width": "600px"
      }
     },
     "4b86750f16ba46d1ac9314b051df1011": {
      "model_module": "@jupyter-widgets/base",
      "model_module_version": "1.1.0",
      "model_name": "LayoutModel",
      "state": {}
     },
     "4c3d715104884587926e3e2a520b7bcd": {
      "model_module": "@jupyter-widgets/base",
      "model_module_version": "1.1.0",
      "model_name": "LayoutModel",
      "state": {
       "width": "600px"
      }
     },
     "4c42656df2a648d697f2b63f797654fd": {
      "model_module": "@jupyter-widgets/base",
      "model_module_version": "1.1.0",
      "model_name": "LayoutModel",
      "state": {
       "justify_content": "center"
      }
     },
     "4c7f72fc604843d4a6a90e930c07ecb0": {
      "model_module": "@jupyter-widgets/controls",
      "model_module_version": "1.4.0",
      "model_name": "DescriptionStyleModel",
      "state": {
       "description_width": "initial"
      }
     },
     "4c968f4f2d884451ae3236093e657ab3": {
      "model_module": "@jupyter-widgets/controls",
      "model_module_version": "1.4.0",
      "model_name": "DescriptionStyleModel",
      "state": {
       "description_width": "initial"
      }
     },
     "4cab735a7f494f2492d3ffee51b6098c": {
      "model_module": "@jupyter-widgets/base",
      "model_module_version": "1.1.0",
      "model_name": "LayoutModel",
      "state": {
       "width": "250px"
      }
     },
     "4cb9d097bc874546b75485f19439b394": {
      "model_module": "@jupyter-widgets/base",
      "model_module_version": "1.1.0",
      "model_name": "LayoutModel",
      "state": {
       "justify_content": "center"
      }
     },
     "4cbee1a9813d4025a8392549dbfcee22": {
      "model_module": "@jupyter-widgets/controls",
      "model_module_version": "1.4.0",
      "model_name": "ButtonModel",
      "state": {
       "description": "Korrekt?",
       "layout": "IPY_MODEL_1bbd0696623541f28c745eaccecaf822",
       "style": "IPY_MODEL_352d0c8f5b5043289c00714820e6bea4"
      }
     },
     "4cd3a00dea704d45bd444be309842510": {
      "model_module": "@jupyter-widgets/controls",
      "model_module_version": "1.4.0",
      "model_name": "DescriptionStyleModel",
      "state": {
       "description_width": "initial"
      }
     },
     "4ce3ba0cd1f3480181e73220eda4bdbb": {
      "model_module": "@jupyter-widgets/controls",
      "model_module_version": "1.4.0",
      "model_name": "ButtonStyleModel",
      "state": {}
     },
     "4d177e9845d9489fa982880db9c664db": {
      "model_module": "@jupyter-widgets/controls",
      "model_module_version": "1.4.0",
      "model_name": "DescriptionStyleModel",
      "state": {
       "description_width": "initial"
      }
     },
     "4d424ceb6510450484cacf987f385c33": {
      "model_module": "@jupyter-widgets/base",
      "model_module_version": "1.1.0",
      "model_name": "LayoutModel",
      "state": {}
     },
     "4dc027a96a8f470380d5faad011626de": {
      "model_module": "@jupyter-widgets/controls",
      "model_module_version": "1.4.0",
      "model_name": "ButtonModel",
      "state": {
       "description": "Korrekt?",
       "layout": "IPY_MODEL_ed22cccf75714034a6c71d00087c8448",
       "style": "IPY_MODEL_ab949632181246749e1437bf0ebf82aa"
      }
     },
     "4dc4f841ea10467a85422d1936f12be5": {
      "model_module": "@jupyter-widgets/base",
      "model_module_version": "1.1.0",
      "model_name": "LayoutModel",
      "state": {}
     },
     "4ddebeaff87a40cd935b805f572eaf36": {
      "model_module": "@jupyter-widgets/controls",
      "model_module_version": "1.4.0",
      "model_name": "DescriptionStyleModel",
      "state": {
       "description_width": ""
      }
     },
     "4e649b3ae45b4a48a4bc016e99667663": {
      "model_module": "@jupyter-widgets/base",
      "model_module_version": "1.1.0",
      "model_name": "LayoutModel",
      "state": {}
     },
     "4eaf605f87ba45b99842c9d7a018c229": {
      "model_module": "@jupyter-widgets/controls",
      "model_module_version": "1.4.0",
      "model_name": "CheckboxModel",
      "state": {
       "description": "Vater",
       "disabled": false,
       "layout": "IPY_MODEL_052e32f74ee14e06a63ec78b6f805bfd",
       "style": "IPY_MODEL_3eaefc85f91c4184885b47efe58d1512",
       "value": false
      }
     },
     "4ef86c242fb94f969e5b41c0401c7825": {
      "model_module": "@jupyter-widgets/controls",
      "model_module_version": "1.4.0",
      "model_name": "ButtonModel",
      "state": {
       "description": "Satz 2",
       "layout": "IPY_MODEL_e675b72497044bf19ebc798f7e89948a",
       "style": "IPY_MODEL_8e1e63cc078f4c0299ca2cb73fde4efc"
      }
     },
     "4f03d1f5093f4c6fb254f70151218ad5": {
      "model_module": "@jupyter-widgets/base",
      "model_module_version": "1.1.0",
      "model_name": "LayoutModel",
      "state": {
       "width": "250px"
      }
     },
     "4f21b1bde04042749114d4ded306978d": {
      "model_module": "@jupyter-widgets/base",
      "model_module_version": "1.1.0",
      "model_name": "LayoutModel",
      "state": {
       "width": "250px"
      }
     },
     "4fe1bda7dee24dbb8895e2cfd489b643": {
      "model_module": "@jupyter-widgets/base",
      "model_module_version": "1.1.0",
      "model_name": "LayoutModel",
      "state": {}
     },
     "500994886c0a4080a1d5529e71738f9a": {
      "model_module": "@jupyter-widgets/base",
      "model_module_version": "1.1.0",
      "model_name": "LayoutModel",
      "state": {
       "width": "250px"
      }
     },
     "50220277a5d44ad4bc52ebc261f5c024": {
      "model_module": "@jupyter-widgets/controls",
      "model_module_version": "1.4.0",
      "model_name": "HTMLModel",
      "state": {
       "layout": "IPY_MODEL_c915f94a2fbb4b1fb6c2a0c97d1799ed",
       "style": "IPY_MODEL_9268ae1222ab497186ff0ff3633ff5c9",
       "value": "<h4 style=\"font-size:14px;\">Kann diese Position theoretisch auch leer bleiben?</h4>"
      }
     },
     "502df7e8cf67437c9e115736a45bde40": {
      "model_module": "@jupyter-widgets/controls",
      "model_module_version": "1.4.0",
      "model_name": "ButtonStyleModel",
      "state": {}
     },
     "50307c5abba94568bb1ff1bdcecdb6e8": {
      "model_module": "@jupyter-widgets/controls",
      "model_module_version": "1.4.0",
      "model_name": "DescriptionStyleModel",
      "state": {
       "description_width": "initial"
      }
     },
     "5069d0c8ca9444308a72c5f4215be994": {
      "model_module": "@jupyter-widgets/controls",
      "model_module_version": "1.4.0",
      "model_name": "DescriptionStyleModel",
      "state": {
       "description_width": ""
      }
     },
     "506c9a56c14445a78bf9468d955885e9": {
      "model_module": "@jupyter-widgets/base",
      "model_module_version": "1.1.0",
      "model_name": "LayoutModel",
      "state": {
       "width": "250px"
      }
     },
     "50f06ab10502456694a4fbd19512c9ab": {
      "model_module": "@jupyter-widgets/controls",
      "model_module_version": "1.4.0",
      "model_name": "HTMLModel",
      "state": {
       "layout": "IPY_MODEL_43d9c37433164a28897e792f1f4536d5",
       "style": "IPY_MODEL_d32b798f674b4f9baebfeaa635ccc77f",
       "value": "<i>Markieren Sie <ins>alle</ins> passenden Antworten: </i>"
      }
     },
     "510c09b8a07f481799caab5c07275b7f": {
      "model_module": "@jupyter-widgets/controls",
      "model_module_version": "1.4.0",
      "model_name": "ButtonStyleModel",
      "state": {}
     },
     "5149b93bca754c22ae0a397319baa13a": {
      "model_module": "@jupyter-widgets/controls",
      "model_module_version": "1.4.0",
      "model_name": "VBoxModel",
      "state": {
       "children": [
        "IPY_MODEL_ee14d367f9a04718a59da7d242a92e89",
        "IPY_MODEL_c76e9a52bf924400969c95118129e6e5",
        "IPY_MODEL_e282d07018604847b0f0ae00f3b52fe8",
        "IPY_MODEL_187884f8249c4f83a9dd2f9af9c479bd"
       ],
       "layout": "IPY_MODEL_40e96ddbd16a469fb29b9f0d138690bc"
      }
     },
     "5154886ae0244f69bab99b023d150a85": {
      "model_module": "@jupyter-widgets/base",
      "model_module_version": "1.1.0",
      "model_name": "LayoutModel",
      "state": {
       "width": "250px"
      }
     },
     "516cbdcea00d4091ac4ae5e9b28647f9": {
      "model_module": "@jupyter-widgets/controls",
      "model_module_version": "1.4.0",
      "model_name": "DescriptionStyleModel",
      "state": {
       "description_width": "initial"
      }
     },
     "519f6760f33747959d42d9f00a00ca23": {
      "model_module": "@jupyter-widgets/controls",
      "model_module_version": "1.4.0",
      "model_name": "ButtonStyleModel",
      "state": {}
     },
     "51a1465861df4ca084f54f9dd9949434": {
      "model_module": "@jupyter-widgets/base",
      "model_module_version": "1.1.0",
      "model_name": "LayoutModel",
      "state": {
       "justify_content": "center"
      }
     },
     "51d71665a5c74c8b8ad248e390131ee5": {
      "model_module": "@jupyter-widgets/controls",
      "model_module_version": "1.4.0",
      "model_name": "CheckboxModel",
      "state": {
       "description": "Nachsatz",
       "disabled": false,
       "layout": "IPY_MODEL_83186e77cd814d7c94427d855040686d",
       "style": "IPY_MODEL_3978e823dfc8475f9d6b794d29332945",
       "value": false
      }
     },
     "51dc458569c0450188c59ed1d76c8364": {
      "model_module": "@jupyter-widgets/controls",
      "model_module_version": "1.4.0",
      "model_name": "DescriptionStyleModel",
      "state": {
       "description_width": "initial"
      }
     },
     "51fde4f08f104179b77b2aa27454c61b": {
      "model_module": "@jupyter-widgets/controls",
      "model_module_version": "1.4.0",
      "model_name": "DropdownModel",
      "state": {
       "_options_labels": [
        "Adverbialsatz",
        "Attributsatz",
        "Keine der Alternativen",
        "Komplementsatz",
        "Matrixsatz"
       ],
       "description": "Antwort:",
       "index": 0,
       "layout": "IPY_MODEL_925695d8c7b449dc944d0f37b4112002",
       "style": "IPY_MODEL_ecbcb9c7ffab432db6fefafc086b5ef2"
      }
     },
     "531854304eac4beda05d5d1eea7b1df2": {
      "model_module": "@jupyter-widgets/base",
      "model_module_version": "1.1.0",
      "model_name": "LayoutModel",
      "state": {
       "width": "600px"
      }
     },
     "533445740d974be0b1b23c945e34e175": {
      "model_module": "@jupyter-widgets/controls",
      "model_module_version": "1.4.0",
      "model_name": "CheckboxModel",
      "state": {
       "description": "das",
       "disabled": false,
       "layout": "IPY_MODEL_7699f22486b74a5ba98061e1fbbfc54f",
       "style": "IPY_MODEL_2c8c246cfcd74bbfb686f274d6ca14b8",
       "value": false
      }
     },
     "539bf85420684867aed6bba2afcfc7b3": {
      "model_module": "@jupyter-widgets/controls",
      "model_module_version": "1.4.0",
      "model_name": "DescriptionStyleModel",
      "state": {
       "description_width": "initial"
      }
     },
     "53ad2d02587649ee97f7543c54dac4be": {
      "model_module": "@jupyter-widgets/controls",
      "model_module_version": "1.4.0",
      "model_name": "DescriptionStyleModel",
      "state": {
       "description_width": "initial"
      }
     },
     "53aec3eb00834f1f8d9078631679b3af": {
      "model_module": "@jupyter-widgets/controls",
      "model_module_version": "1.4.0",
      "model_name": "ButtonModel",
      "state": {
       "description": "subordiniert",
       "layout": "IPY_MODEL_e31882250e9d40fa83c61ee72b834a14",
       "style": "IPY_MODEL_47494c6fd1d848feb33c89bf17ef756c"
      }
     },
     "53c75e68db8c45baa1b3ea8e4684ae9b": {
      "model_module": "@jupyter-widgets/controls",
      "model_module_version": "1.4.0",
      "model_name": "DescriptionStyleModel",
      "state": {
       "description_width": ""
      }
     },
     "53d8cfcb141c497bad1b5238f5e20887": {
      "model_module": "@jupyter-widgets/controls",
      "model_module_version": "1.4.0",
      "model_name": "VBoxModel",
      "state": {
       "children": [
        "IPY_MODEL_ddf83abcc2fa42c79c55cf3abd44004c",
        "IPY_MODEL_c3597a198e0b4cff98f8ad6de8776e8f",
        "IPY_MODEL_acea8244bdd041fd932555bcfbfa3a74",
        "IPY_MODEL_4cbee1a9813d4025a8392549dbfcee22"
       ],
       "layout": "IPY_MODEL_0a83d2716ae84ac18d12e83bc143d4b0"
      }
     },
     "542f056c56ef4348a2ad564262908455": {
      "model_module": "@jupyter-widgets/controls",
      "model_module_version": "1.4.0",
      "model_name": "CheckboxModel",
      "state": {
       "description": "damit sie ...",
       "disabled": false,
       "layout": "IPY_MODEL_c6574ec0c20648a0adda7dc69f169252",
       "style": "IPY_MODEL_a0e4cd82df1649f49711c24c7be9233e",
       "value": false
      }
     },
     "54c50294968947c4bfe283e00d6ce902": {
      "model_module": "@jupyter-widgets/controls",
      "model_module_version": "1.4.0",
      "model_name": "ButtonModel",
      "state": {
       "description": "Korrekt?",
       "layout": "IPY_MODEL_7a72867342bb41fb89c2054d13e25966",
       "style": "IPY_MODEL_1cabb3f1a40c4575862abc86feab41a4"
      }
     },
     "558d35d2e3854a95b34ccbf61bcb9db3": {
      "model_module": "@jupyter-widgets/controls",
      "model_module_version": "1.4.0",
      "model_name": "DescriptionStyleModel",
      "state": {
       "description_width": "initial"
      }
     },
     "5598532f66274b5dafd6ab9fb4ce40bf": {
      "model_module": "@jupyter-widgets/controls",
      "model_module_version": "1.4.0",
      "model_name": "HTMLModel",
      "state": {
       "layout": "IPY_MODEL_1f45e2abb20d4ebe8694138f8425ec86",
       "style": "IPY_MODEL_e48e371d473044598bff0b7c425c4a9d",
       "value": "<h4 style=\"font-size:14px;\">Welcher eingebettete Satztyp liegt vor?</h4>"
      }
     },
     "55f34ec947b4474ea1b0e2effbb9258e": {
      "model_module": "@jupyter-widgets/controls",
      "model_module_version": "1.4.0",
      "model_name": "HTMLModel",
      "state": {
       "layout": "IPY_MODEL_b6e53404db1a40c48fb8a18ec7622621",
       "style": "IPY_MODEL_4ddebeaff87a40cd935b805f572eaf36",
       "value": "<i>Wählen Sie die <ins>eine</ins> korrekte Antwort aus: </i>"
      }
     },
     "5602c732c0b14ffca5c4868d447b7cc5": {
      "model_module": "@jupyter-widgets/base",
      "model_module_version": "1.1.0",
      "model_name": "LayoutModel",
      "state": {
       "width": "250px"
      }
     },
     "5603ea7ac2014359957f8725ef79da11": {
      "model_module": "@jupyter-widgets/controls",
      "model_module_version": "1.4.0",
      "model_name": "HBoxModel",
      "state": {
       "children": [
        "IPY_MODEL_d48c7cfbdf914ca9acfd6b91dba5f5a2",
        "IPY_MODEL_83bd2ccd152c4e06acda2010e5067ff2"
       ],
       "layout": "IPY_MODEL_c77f2ae4aa0f4e6ab83c533cf5b22aeb"
      }
     },
     "5605c74902e74445ae3270a8e8fa5384": {
      "model_module": "@jupyter-widgets/base",
      "model_module_version": "1.1.0",
      "model_name": "LayoutModel",
      "state": {
       "width": "600px"
      }
     },
     "561346d05c1a45c49b5bab8637a0185d": {
      "model_module": "@jupyter-widgets/controls",
      "model_module_version": "1.4.0",
      "model_name": "CheckboxModel",
      "state": {
       "description": "Ein Lied gesungen hat",
       "disabled": false,
       "layout": "IPY_MODEL_87a459a993f74b81b4a1ba22c20674bc",
       "style": "IPY_MODEL_a8f38e68f942444484fcf8f5998df451",
       "value": false
      }
     },
     "567b490684004944836f35187d6e5d28": {
      "model_module": "@jupyter-widgets/base",
      "model_module_version": "1.1.0",
      "model_name": "LayoutModel",
      "state": {
       "width": "250px"
      }
     },
     "56874178663a4d0c97df41d0b8381128": {
      "model_module": "@jupyter-widgets/controls",
      "model_module_version": "1.4.0",
      "model_name": "VBoxModel",
      "state": {
       "children": [
        "IPY_MODEL_efe75ad32fe24cf2a215797d43a7d633",
        "IPY_MODEL_738bcd242d2d4822ba09873e3b8f9d05",
        "IPY_MODEL_e5a5e939b4db41fb88875a9999f5e141",
        "IPY_MODEL_453fa39749fd4f06a282f72d870a22f6"
       ],
       "layout": "IPY_MODEL_4fe1bda7dee24dbb8895e2cfd489b643"
      }
     },
     "56c9eb34ea6643d5afd58c9becf71de8": {
      "model_module": "@jupyter-widgets/controls",
      "model_module_version": "1.4.0",
      "model_name": "ButtonStyleModel",
      "state": {}
     },
     "5735231b69ee48dbbd5c0f8eec2ab177": {
      "model_module": "@jupyter-widgets/controls",
      "model_module_version": "1.4.0",
      "model_name": "ButtonStyleModel",
      "state": {}
     },
     "573b49db227a4763af49cac7e5ea110c": {
      "model_module": "@jupyter-widgets/base",
      "model_module_version": "1.1.0",
      "model_name": "LayoutModel",
      "state": {
       "width": "250px"
      }
     },
     "57534a7dcfa44b24ba85ef5503308d9a": {
      "model_module": "@jupyter-widgets/controls",
      "model_module_version": "1.4.0",
      "model_name": "CheckboxModel",
      "state": {
       "description": "Relativsatz (<code>acl:relcl</code>)",
       "disabled": false,
       "layout": "IPY_MODEL_b3e670c01d5f45e0a2a1d9975b61594b",
       "style": "IPY_MODEL_24eb7f373b61429098f923bbc64670b9",
       "value": false
      }
     },
     "576cd5b402324dcd93e3e406ce4ecb53": {
      "model_module": "@jupyter-widgets/base",
      "model_module_version": "1.1.0",
      "model_name": "LayoutModel",
      "state": {}
     },
     "57b5cff46f0c4b73b5c7ca9eb5b5ac47": {
      "model_module": "@jupyter-widgets/base",
      "model_module_version": "1.1.0",
      "model_name": "LayoutModel",
      "state": {
       "justify_content": "center"
      }
     },
     "582d1c9093564bf0ba9b5479a58886cc": {
      "model_module": "@jupyter-widgets/base",
      "model_module_version": "1.1.0",
      "model_name": "LayoutModel",
      "state": {}
     },
     "58634799c18b4d10bfe305ec9229b3e9": {
      "model_module": "@jupyter-widgets/base",
      "model_module_version": "1.1.0",
      "model_name": "LayoutModel",
      "state": {
       "width": "250px"
      }
     },
     "58a933131cde4f25b20a89ba9d141d9d": {
      "model_module": "@jupyter-widgets/controls",
      "model_module_version": "1.4.0",
      "model_name": "ButtonModel",
      "state": {
       "description": "koordiniert",
       "layout": "IPY_MODEL_5602c732c0b14ffca5c4868d447b7cc5",
       "style": "IPY_MODEL_0d81efa3ff5048b3a6bd2b958ca151a1"
      }
     },
     "58aab9b1ee0747c980f9c8ba8ba98d7e": {
      "model_module": "@jupyter-widgets/base",
      "model_module_version": "1.1.0",
      "model_name": "LayoutModel",
      "state": {
       "width": "600px"
      }
     },
     "58d9b4ed26d64f3fbf136b8f68b9da32": {
      "model_module": "@jupyter-widgets/controls",
      "model_module_version": "1.4.0",
      "model_name": "CheckboxModel",
      "state": {
       "description": "hat",
       "disabled": false,
       "layout": "IPY_MODEL_05a5a7635bb24d01bfb653c32327648c",
       "style": "IPY_MODEL_c10bd18e96a64dadbbc0598c1f865d07",
       "value": false
      }
     },
     "591387e7ee7e4a188283e54368bf282e": {
      "model_module": "@jupyter-widgets/controls",
      "model_module_version": "1.4.0",
      "model_name": "CheckboxModel",
      "state": {
       "description": "das",
       "disabled": false,
       "layout": "IPY_MODEL_4c3d715104884587926e3e2a520b7bcd",
       "style": "IPY_MODEL_c4bcdab943304826bc868146d88f05a9",
       "value": false
      }
     },
     "593d2b21e84b4ec98f0626014f91f610": {
      "model_module": "@jupyter-widgets/controls",
      "model_module_version": "1.4.0",
      "model_name": "ButtonModel",
      "state": {
       "description": "Korrekt?",
       "layout": "IPY_MODEL_9639412f05da4bd181552ceecea0f142",
       "style": "IPY_MODEL_4952c5b6c83a40faae5b542d0fa2b845"
      }
     },
     "596dcb2c34b84819a672c38a4c2005b6": {
      "model_module": "@jupyter-widgets/controls",
      "model_module_version": "1.4.0",
      "model_name": "DescriptionStyleModel",
      "state": {
       "description_width": "initial"
      }
     },
     "599ec4c24959420a85d70732b69e0773": {
      "model_module": "@jupyter-widgets/base",
      "model_module_version": "1.1.0",
      "model_name": "LayoutModel",
      "state": {}
     },
     "59bd7677c5b24bcea133fc0d98fcb1d4": {
      "model_module": "@jupyter-widgets/controls",
      "model_module_version": "1.4.0",
      "model_name": "ButtonStyleModel",
      "state": {}
     },
     "59c236ae26254adc90878ddba2ccd690": {
      "model_module": "@jupyter-widgets/base",
      "model_module_version": "1.1.0",
      "model_name": "LayoutModel",
      "state": {}
     },
     "5a35a4d4f32c4bd9ad2635b9c76c0985": {
      "model_module": "@jupyter-widgets/controls",
      "model_module_version": "1.4.0",
      "model_name": "VBoxModel",
      "state": {
       "children": [
        "IPY_MODEL_cae7adaa88a04b3badf62f31ff9b5080",
        "IPY_MODEL_be0d4e1c50eb4a83865fc1ab43c73eb1",
        "IPY_MODEL_9a1724650760411baedec1ab80bd4a1c",
        "IPY_MODEL_561346d05c1a45c49b5bab8637a0185d",
        "IPY_MODEL_45f19d5bd4da48cbb684553e179e6fba",
        "IPY_MODEL_7b9949e66b944006928a6267ce67a6e2",
        "IPY_MODEL_84ca2ebb5ba749889ce65f9322f9fed4",
        "IPY_MODEL_02265147286c45419382ee61eaf11d57",
        "IPY_MODEL_ad69cef223dd4c73820d95700362dd66"
       ],
       "layout": "IPY_MODEL_9dc49ad2a6c54e3e8136d41efdc38e00"
      }
     },
     "5ad96a648d934271a34fa8bae2773a61": {
      "model_module": "@jupyter-widgets/controls",
      "model_module_version": "1.4.0",
      "model_name": "ButtonModel",
      "state": {
       "description": "Keine der anderen Möglichkeiten",
       "layout": "IPY_MODEL_84dfd96504804568896b581254e3e149",
       "style": "IPY_MODEL_464f20739571479eb3975f937d802864"
      }
     },
     "5aed4c6ee4034368801d27f30f41ddc9": {
      "model_module": "@jupyter-widgets/controls",
      "model_module_version": "1.4.0",
      "model_name": "ButtonModel",
      "state": {
       "description": "Korrekt?",
       "layout": "IPY_MODEL_872fc61a20304067a6321e381b7b4c97",
       "style": "IPY_MODEL_b18517c662034bfbbc040f33f8761d6b"
      }
     },
     "5b05995af4fd4b5490c30aa107a98647": {
      "model_module": "@jupyter-widgets/controls",
      "model_module_version": "1.4.0",
      "model_name": "ButtonModel",
      "state": {
       "description": "Korrekt?",
       "layout": "IPY_MODEL_f9bb61d463504a40af269dfc3cc0f818",
       "style": "IPY_MODEL_502df7e8cf67437c9e115736a45bde40"
      }
     },
     "5b1821fd22164d849fa17be1bf11cb2c": {
      "model_module": "@jupyter-widgets/controls",
      "model_module_version": "1.4.0",
      "model_name": "ButtonStyleModel",
      "state": {}
     },
     "5b1d76f53069484bbaed064958571afa": {
      "model_module": "@jupyter-widgets/controls",
      "model_module_version": "1.4.0",
      "model_name": "HTMLModel",
      "state": {
       "layout": "IPY_MODEL_624dc0ce3f394c7b930ccd6c4f5fd6f7",
       "style": "IPY_MODEL_2ae5eaab5dc94945acd3545581f2b500",
       "value": "<i>Markieren Sie <ins>alle</ins> passenden Antworten: </i>"
      }
     },
     "5b49d4e539c54fa3bfb060fffe34b04f": {
      "model_module": "@jupyter-widgets/base",
      "model_module_version": "1.1.0",
      "model_name": "LayoutModel",
      "state": {
       "width": "600px"
      }
     },
     "5b572f90e4e34c6495e3dbe2ca89cd99": {
      "model_module": "@jupyter-widgets/controls",
      "model_module_version": "1.4.0",
      "model_name": "VBoxModel",
      "state": {
       "children": [
        "IPY_MODEL_85c73dd5ac544434b7529204d8728252",
        "IPY_MODEL_f9e3194324884ccda3e025d65c4a8920",
        "IPY_MODEL_a5633ea63efd47fe8512d3f918f58f64",
        "IPY_MODEL_09e7d8f803ee45ffb8aafaa29f9f1d0e"
       ],
       "layout": "IPY_MODEL_0531c89c5468478d857351b56193314d"
      }
     },
     "5b87d1c9daba40daa5e9c34ed2019ccd": {
      "model_module": "@jupyter-widgets/controls",
      "model_module_version": "1.4.0",
      "model_name": "HTMLModel",
      "state": {
       "layout": "IPY_MODEL_c4e426b5a3de4a0f8d39d6df269a8683",
       "style": "IPY_MODEL_16c5f9aff9424da09d8d0c352752c8b3",
       "value": "<h4 style=\"font-size:14px;\">Welche eingebettete Satztyp liegt vor?</h4>"
      }
     },
     "5ba6c97d0c4a443cacc9f958e05792a6": {
      "model_module": "@jupyter-widgets/controls",
      "model_module_version": "1.4.0",
      "model_name": "ButtonModel",
      "state": {
       "description": "Korrekt?",
       "layout": "IPY_MODEL_c02abaa2be0542468c1d0752751ce40d",
       "style": "IPY_MODEL_6f8f7c569b294c0a9d03449bf863c6ef"
      }
     },
     "5c5f61718a24456aa3dec468bd7355a5": {
      "model_module": "@jupyter-widgets/controls",
      "model_module_version": "1.4.0",
      "model_name": "DescriptionStyleModel",
      "state": {
       "description_width": "initial"
      }
     },
     "5cad179f3abc468992a2b5169ac083c9": {
      "model_module": "@jupyter-widgets/controls",
      "model_module_version": "1.4.0",
      "model_name": "ButtonModel",
      "state": {
       "description": "Aufforderungssatz",
       "layout": "IPY_MODEL_b048492e29bd460298010b0cb1696fa9",
       "style": "IPY_MODEL_66eb69aee066462b8108a6ae62513ec1"
      }
     },
     "5d5588f4ed8e443c979084626acdb995": {
      "model_module": "@jupyter-widgets/base",
      "model_module_version": "1.1.0",
      "model_name": "LayoutModel",
      "state": {}
     },
     "5d559833e0694e9eb84c79c0aaab74d2": {
      "model_module": "@jupyter-widgets/controls",
      "model_module_version": "1.4.0",
      "model_name": "ButtonStyleModel",
      "state": {}
     },
     "5dac84c9539b4db481896a410fe903ea": {
      "model_module": "@jupyter-widgets/controls",
      "model_module_version": "1.4.0",
      "model_name": "HBoxModel",
      "state": {
       "children": [
        "IPY_MODEL_e5425377acb446b18eb4c790b15801fb",
        "IPY_MODEL_2bc8e975576b4c41a3f75038f8170bb3"
       ],
       "layout": "IPY_MODEL_958f9ff256bb4b79bc3b69c0a73541fe"
      }
     },
     "5dd08f4147d54eb7a590f609757ff40d": {
      "model_module": "@jupyter-widgets/controls",
      "model_module_version": "1.4.0",
      "model_name": "HBoxModel",
      "state": {
       "children": [
        "IPY_MODEL_c70f5597032449df892a694cb128bcd3",
        "IPY_MODEL_1273ca0e35a243e989b1938cd2c176e6"
       ],
       "layout": "IPY_MODEL_183119b56c634b36bdcf0979f08cce15"
      }
     },
     "5e160df9288343009b12c9f0f657ddc0": {
      "model_module": "@jupyter-widgets/controls",
      "model_module_version": "1.4.0",
      "model_name": "ButtonModel",
      "state": {
       "description": "Aufforderungssatz",
       "layout": "IPY_MODEL_2606c3041a604ec98640fe5034e8a171",
       "style": "IPY_MODEL_62bf894177414e2194add7a2f1e5eb3f"
      }
     },
     "5e3eae536f074139a96b19c3bd150d65": {
      "model_module": "@jupyter-widgets/controls",
      "model_module_version": "1.4.0",
      "model_name": "DescriptionStyleModel",
      "state": {
       "description_width": "initial"
      }
     },
     "5e7dc0be5cf74c85a22af58377fc55d4": {
      "model_module": "@jupyter-widgets/controls",
      "model_module_version": "1.4.0",
      "model_name": "CheckboxModel",
      "state": {
       "description": "Weihnachten",
       "disabled": false,
       "layout": "IPY_MODEL_c5806d493d8849f98ea742d01bcb8412",
       "style": "IPY_MODEL_a043474e7441456bb91c9383e48fe2bf",
       "value": false
      }
     },
     "5e8c967b52b64ca3a1ab67b06ed36df8": {
      "model_module": "@jupyter-widgets/base",
      "model_module_version": "1.1.0",
      "model_name": "LayoutModel",
      "state": {
       "width": "250px"
      }
     },
     "5ec83a20c2de48dea7dce44cba7be362": {
      "model_module": "@jupyter-widgets/base",
      "model_module_version": "1.1.0",
      "model_name": "LayoutModel",
      "state": {
       "width": "600px"
      }
     },
     "5eca334ccde649039fa4383cecd1047b": {
      "model_module": "@jupyter-widgets/base",
      "model_module_version": "1.1.0",
      "model_name": "LayoutModel",
      "state": {
       "width": "500px"
      }
     },
     "5ed56fc0e70647d788112762259ba478": {
      "model_module": "@jupyter-widgets/base",
      "model_module_version": "1.1.0",
      "model_name": "LayoutModel",
      "state": {
       "width": "500px"
      }
     },
     "5eef3b1531b94decbc4fe2f7eef3f104": {
      "model_module": "@jupyter-widgets/controls",
      "model_module_version": "1.4.0",
      "model_name": "CheckboxModel",
      "state": {
       "description": "Es handelt sich kommunikativ um eine Aufforderung.",
       "disabled": false,
       "layout": "IPY_MODEL_58aab9b1ee0747c980f9c8ba8ba98d7e",
       "style": "IPY_MODEL_985598033f9f4dd39e7f3e880c82a885",
       "value": false
      }
     },
     "5ef0d6b6865749df9c87ffe362bdb717": {
      "model_module": "@jupyter-widgets/controls",
      "model_module_version": "1.4.0",
      "model_name": "HTMLModel",
      "state": {
       "layout": "IPY_MODEL_e26b121d3ada4c48950413308e3ab937",
       "style": "IPY_MODEL_0a8ca8e2a4d1469ab53b75e59f273feb",
       "value": "<h4 style=\"font-size:14px;\">'Präpositionale Objekte stehen in Verbendsätzen in der Regel unmittelbar vor dem finiten Verb.'</h4>"
      }
     },
     "5ef5310e266e497a990744510a87c7dd": {
      "model_module": "@jupyter-widgets/base",
      "model_module_version": "1.1.0",
      "model_name": "LayoutModel",
      "state": {}
     },
     "5f3922bc209846c39938a36e543898e7": {
      "model_module": "@jupyter-widgets/controls",
      "model_module_version": "1.4.0",
      "model_name": "HBoxModel",
      "state": {
       "children": [
        "IPY_MODEL_58a933131cde4f25b20a89ba9d141d9d",
        "IPY_MODEL_fb111804ab02403493f5e56f419e3b66"
       ],
       "layout": "IPY_MODEL_88cf5b68fddb45a9aa98a52a009646c4"
      }
     },
     "5f4916c03e254231892533b0c4740db9": {
      "model_module": "@jupyter-widgets/controls",
      "model_module_version": "1.4.0",
      "model_name": "ButtonModel",
      "state": {
       "description": "Satz 3",
       "layout": "IPY_MODEL_8e70042cc2d44b9eab8b0966cc5e5159",
       "style": "IPY_MODEL_9e13f7288421445889e74329d2452202"
      }
     },
     "5f4aa8317fa44fd78ba3eae2ab3af87b": {
      "model_module": "@jupyter-widgets/controls",
      "model_module_version": "1.4.0",
      "model_name": "DescriptionStyleModel",
      "state": {
       "description_width": "initial"
      }
     },
     "5f5343b24107478ab5fe85175d823b4b": {
      "model_module": "@jupyter-widgets/controls",
      "model_module_version": "1.4.0",
      "model_name": "DescriptionStyleModel",
      "state": {
       "description_width": ""
      }
     },
     "5f67b4081d3549c69425b2d83ea01e15": {
      "model_module": "@jupyter-widgets/controls",
      "model_module_version": "1.4.0",
      "model_name": "VBoxModel",
      "state": {
       "children": [
        "IPY_MODEL_75d159cb0716413bb1d6989ec06eee3a",
        "IPY_MODEL_a2b80887dc684ca78fd9b50bf82d0d6c",
        "IPY_MODEL_2f2b4e754b90451cbe0a5f1ddc4ba12e",
        "IPY_MODEL_7a9b5f944047471c9d903f5ce8db35b2"
       ],
       "layout": "IPY_MODEL_aeb6b95d83744d1ba52fd8e6dfd38e22"
      }
     },
     "6093099c70b447899a363df9a9ff14df": {
      "model_module": "@jupyter-widgets/controls",
      "model_module_version": "1.4.0",
      "model_name": "DescriptionStyleModel",
      "state": {
       "description_width": ""
      }
     },
     "60e51866717949fbb5241ad3728aa5b6": {
      "model_module": "@jupyter-widgets/controls",
      "model_module_version": "1.4.0",
      "model_name": "DescriptionStyleModel",
      "state": {
       "description_width": "initial"
      }
     },
     "6112cb5038504f3db388c30e1f54d5c8": {
      "model_module": "@jupyter-widgets/base",
      "model_module_version": "1.1.0",
      "model_name": "LayoutModel",
      "state": {
       "justify_content": "center"
      }
     },
     "61341901d86b4d31b2bffaba13527d59": {
      "model_module": "@jupyter-widgets/controls",
      "model_module_version": "1.4.0",
      "model_name": "DescriptionStyleModel",
      "state": {
       "description_width": ""
      }
     },
     "6167d61a80db4a4ea524d67a251b2943": {
      "model_module": "@jupyter-widgets/controls",
      "model_module_version": "1.4.0",
      "model_name": "ButtonModel",
      "state": {
       "description": "Korrekt?",
       "layout": "IPY_MODEL_500994886c0a4080a1d5529e71738f9a",
       "style": "IPY_MODEL_f5012c95082b407abbd27d3b04712ba8"
      }
     },
     "61701262de514d78b1e55fe91261d4dd": {
      "model_module": "@jupyter-widgets/controls",
      "model_module_version": "1.4.0",
      "model_name": "ButtonStyleModel",
      "state": {}
     },
     "61910cae44644f03b30ebe21f8d76b3d": {
      "model_module": "@jupyter-widgets/controls",
      "model_module_version": "1.4.0",
      "model_name": "DescriptionStyleModel",
      "state": {
       "description_width": ""
      }
     },
     "6197db64589b480898262dfb4229a8f2": {
      "model_module": "@jupyter-widgets/controls",
      "model_module_version": "1.4.0",
      "model_name": "DescriptionStyleModel",
      "state": {
       "description_width": ""
      }
     },
     "61a1853ba3434c44a6fcd48ff459461a": {
      "model_module": "@jupyter-widgets/base",
      "model_module_version": "1.1.0",
      "model_name": "LayoutModel",
      "state": {
       "width": "600px"
      }
     },
     "61d6e685894045a493b877dfca74c9bf": {
      "model_module": "@jupyter-widgets/controls",
      "model_module_version": "1.4.0",
      "model_name": "HTMLModel",
      "state": {
       "layout": "IPY_MODEL_38b6ad09f0104954b042f3ec3b53be03",
       "style": "IPY_MODEL_e124bc74ba70450993fbcab7a075dc54",
       "value": "<h4 style=\"font-size:14px;\">Welche satzwertigen Funktionen können Infinitivkonstruktionen erfüllen?</h4>"
      }
     },
     "61e9c91ca6254928a6a03b2852d5c805": {
      "model_module": "@jupyter-widgets/controls",
      "model_module_version": "1.4.0",
      "model_name": "DescriptionStyleModel",
      "state": {
       "description_width": "initial"
      }
     },
     "621f5b490d9944299bb6092c41b49886": {
      "model_module": "@jupyter-widgets/controls",
      "model_module_version": "1.4.0",
      "model_name": "VBoxModel",
      "state": {
       "children": [
        "IPY_MODEL_d58c04c0b8224c0eac04f0440e23306f",
        "IPY_MODEL_ea12ce121e11412eacc4b471527ea867",
        "IPY_MODEL_5f3922bc209846c39938a36e543898e7",
        "IPY_MODEL_d94cbceecc5a4319b838c449eb172502"
       ],
       "layout": "IPY_MODEL_f12354c8692c4f87b0f1733160871cd9"
      }
     },
     "62472749c20848bf8593df3ed3efadb0": {
      "model_module": "@jupyter-widgets/base",
      "model_module_version": "1.1.0",
      "model_name": "LayoutModel",
      "state": {
       "width": "600px"
      }
     },
     "624dc0ce3f394c7b930ccd6c4f5fd6f7": {
      "model_module": "@jupyter-widgets/base",
      "model_module_version": "1.1.0",
      "model_name": "LayoutModel",
      "state": {
       "justify_content": "center"
      }
     },
     "6262e158872d463389b27c5d5caae735": {
      "model_module": "@jupyter-widgets/controls",
      "model_module_version": "1.4.0",
      "model_name": "ButtonStyleModel",
      "state": {}
     },
     "62bd52ef8fef485d883091b94d00cf10": {
      "model_module": "@jupyter-widgets/base",
      "model_module_version": "1.1.0",
      "model_name": "LayoutModel",
      "state": {}
     },
     "62bf894177414e2194add7a2f1e5eb3f": {
      "model_module": "@jupyter-widgets/controls",
      "model_module_version": "1.4.0",
      "model_name": "ButtonStyleModel",
      "state": {}
     },
     "6335c94ab6b249dcb0572e089074edb5": {
      "model_module": "@jupyter-widgets/controls",
      "model_module_version": "1.4.0",
      "model_name": "HBoxModel",
      "state": {
       "children": [
        "IPY_MODEL_8cea8389ce9d4ffb929351d08430ca40",
        "IPY_MODEL_4ef86c242fb94f969e5b41c0401c7825"
       ],
       "layout": "IPY_MODEL_c5eb8b26ebdc4febaad8f790bdad98c9"
      }
     },
     "63f6f32ed7104b3baef02400b54dd510": {
      "model_module": "@jupyter-widgets/base",
      "model_module_version": "1.1.0",
      "model_name": "LayoutModel",
      "state": {
       "justify_content": "center"
      }
     },
     "6443b69cff82445e8e10574936556d07": {
      "model_module": "@jupyter-widgets/controls",
      "model_module_version": "1.4.0",
      "model_name": "ButtonStyleModel",
      "state": {}
     },
     "64c84e0ee5ef4ac6a85b46e7c6fa0040": {
      "model_module": "@jupyter-widgets/controls",
      "model_module_version": "1.4.0",
      "model_name": "HTMLModel",
      "state": {
       "layout": "IPY_MODEL_7d9bc9587bd54aa992cb2ca64a089fad",
       "style": "IPY_MODEL_1a83c64edcf5481d919e93eb43d00c60",
       "value": "<i>Wählen Sie die <ins>eine</ins> korrekte Antwort aus: </i>"
      }
     },
     "64e9581548c44d5381bae9f51444b1b9": {
      "model_module": "@jupyter-widgets/base",
      "model_module_version": "1.1.0",
      "model_name": "LayoutModel",
      "state": {
       "width": "250px"
      }
     },
     "65a769b36a7c4d7aa5e03a95ac1abf3f": {
      "model_module": "@jupyter-widgets/controls",
      "model_module_version": "1.4.0",
      "model_name": "HTMLModel",
      "state": {
       "layout": "IPY_MODEL_f0b45f53bd3f48249a1c8b6025a66449",
       "style": "IPY_MODEL_a11920e59511457483b3ac12b4ca63d4",
       "value": "<i>Wählen Sie die <ins>eine</ins> korrekte Antwort aus: </i>"
      }
     },
     "65cb29d8a0c6491c9b7af507d0c37631": {
      "model_module": "@jupyter-widgets/base",
      "model_module_version": "1.1.0",
      "model_name": "LayoutModel",
      "state": {
       "justify_content": "center"
      }
     },
     "665d745489eb4950bc1ffaa3d9ea0a02": {
      "model_module": "@jupyter-widgets/controls",
      "model_module_version": "1.4.0",
      "model_name": "CheckboxModel",
      "state": {
       "description": "Nebensatz 2. Grades",
       "disabled": false,
       "layout": "IPY_MODEL_ff74bd0e670946848b73023ae7f91190",
       "style": "IPY_MODEL_1b916fa007894450898c0b9a648e5253",
       "value": false
      }
     },
     "669bd545bb1a4460bba5ed2fae8dc959": {
      "model_module": "@jupyter-widgets/base",
      "model_module_version": "1.1.0",
      "model_name": "LayoutModel",
      "state": {
       "width": "600px"
      }
     },
     "66bdf509925a402ba4a5698552dc5d07": {
      "model_module": "@jupyter-widgets/base",
      "model_module_version": "1.1.0",
      "model_name": "LayoutModel",
      "state": {}
     },
     "66e9e8434930467ca61d41732b2be9c2": {
      "model_module": "@jupyter-widgets/base",
      "model_module_version": "1.1.0",
      "model_name": "LayoutModel",
      "state": {}
     },
     "66eb69aee066462b8108a6ae62513ec1": {
      "model_module": "@jupyter-widgets/controls",
      "model_module_version": "1.4.0",
      "model_name": "ButtonStyleModel",
      "state": {}
     },
     "6702d8efed23448a9703d5fe3d19c156": {
      "model_module": "@jupyter-widgets/base",
      "model_module_version": "1.1.0",
      "model_name": "LayoutModel",
      "state": {
       "width": "600px"
      }
     },
     "672a104390e342fda6d6f9d8574eb849": {
      "model_module": "@jupyter-widgets/controls",
      "model_module_version": "1.4.0",
      "model_name": "VBoxModel",
      "state": {
       "children": [
        "IPY_MODEL_fbfd46343aff491ab6c627dbb7e17e6b",
        "IPY_MODEL_d581165e8d304ccfae2b3e9ac0465260",
        "IPY_MODEL_724f2f444c6b42018a733c3ef782f639",
        "IPY_MODEL_f54179dc10ab40c0bb13c01fcad1c909"
       ],
       "layout": "IPY_MODEL_cfe70b57c66048fc8fa77e0d41708cd1"
      }
     },
     "6741f1398eef461c9e1140c23e3702fb": {
      "model_module": "@jupyter-widgets/base",
      "model_module_version": "1.1.0",
      "model_name": "LayoutModel",
      "state": {}
     },
     "6763ccf1cd5b4ff3b40c0e99877507f5": {
      "model_module": "@jupyter-widgets/controls",
      "model_module_version": "1.4.0",
      "model_name": "CheckboxModel",
      "state": {
       "description": "putzte er ...",
       "disabled": false,
       "layout": "IPY_MODEL_cad8ebc67cc54b19941e556627ac9d3f",
       "style": "IPY_MODEL_4c7f72fc604843d4a6a90e930c07ecb0",
       "value": false
      }
     },
     "67d3352f37054c268488e7b39af73753": {
      "model_module": "@jupyter-widgets/base",
      "model_module_version": "1.1.0",
      "model_name": "LayoutModel",
      "state": {
       "width": "500px"
      }
     },
     "6827996d690548ca9260decbb5cee2ec": {
      "model_module": "@jupyter-widgets/controls",
      "model_module_version": "1.4.0",
      "model_name": "DescriptionStyleModel",
      "state": {
       "description_width": "initial"
      }
     },
     "6838141bdf3740ff8435dd3ee63bfdc9": {
      "model_module": "@jupyter-widgets/base",
      "model_module_version": "1.1.0",
      "model_name": "LayoutModel",
      "state": {
       "width": "600px"
      }
     },
     "686e217236744574ae2e66188b967560": {
      "model_module": "@jupyter-widgets/controls",
      "model_module_version": "1.4.0",
      "model_name": "HTMLModel",
      "state": {
       "layout": "IPY_MODEL_e31fea746a6c4e269f18091e5a229cd6",
       "style": "IPY_MODEL_99a827cf21274da1bca91cdcc268f326",
       "value": "<h4 style=\"font-size:14px;\">Wie läßt sich dieser Satztyp klassifizieren?</h4>"
      }
     },
     "68c8e9a62ac14e0abe6146851b1aa3cd": {
      "model_module": "@jupyter-widgets/base",
      "model_module_version": "1.1.0",
      "model_name": "LayoutModel",
      "state": {
       "justify_content": "center"
      }
     },
     "697ba0ddda2148569fdac64f0ccd73a4": {
      "model_module": "@jupyter-widgets/controls",
      "model_module_version": "1.4.0",
      "model_name": "ButtonModel",
      "state": {
       "description": "Objekt",
       "layout": "IPY_MODEL_edf19f7c751d4981b83fbec598a206c4",
       "style": "IPY_MODEL_22cd10f6243c49148675eef93934136d"
      }
     },
     "698a0f422dff48ba8f0e89e0af8dafd2": {
      "model_module": "@jupyter-widgets/base",
      "model_module_version": "1.1.0",
      "model_name": "LayoutModel",
      "state": {
       "width": "600px"
      }
     },
     "698c6690bd5040e0ac4a640f767fe078": {
      "model_module": "@jupyter-widgets/controls",
      "model_module_version": "1.4.0",
      "model_name": "HBoxModel",
      "state": {
       "children": [
        "IPY_MODEL_9f79849082c843ab81cddc30faecb442"
       ],
       "layout": "IPY_MODEL_a147475593ff42d9b50fe6f166e68c28"
      }
     },
     "69a62138b24b44a0ab3a34c9cb73fa0e": {
      "model_module": "@jupyter-widgets/base",
      "model_module_version": "1.1.0",
      "model_name": "LayoutModel",
      "state": {}
     },
     "69b4a57ef6f04b6c8265b4060db21035": {
      "model_module": "@jupyter-widgets/base",
      "model_module_version": "1.1.0",
      "model_name": "LayoutModel",
      "state": {
       "justify_content": "center"
      }
     },
     "69d1c6374cef4e58a2d25152f879bea0": {
      "model_module": "@jupyter-widgets/controls",
      "model_module_version": "1.4.0",
      "model_name": "DescriptionStyleModel",
      "state": {
       "description_width": ""
      }
     },
     "69d46547439d492fbed11f5bf12e85bb": {
      "model_module": "@jupyter-widgets/base",
      "model_module_version": "1.1.0",
      "model_name": "LayoutModel",
      "state": {}
     },
     "69e3e88ebeb14d94b81b27fcc8e91d7d": {
      "model_module": "@jupyter-widgets/base",
      "model_module_version": "1.1.0",
      "model_name": "LayoutModel",
      "state": {
       "width": "600px"
      }
     },
     "6aa9914176f7470b83197a6e7839886a": {
      "model_module": "@jupyter-widgets/base",
      "model_module_version": "1.1.0",
      "model_name": "LayoutModel",
      "state": {
       "justify_content": "center"
      }
     },
     "6abc85c0ddd647788c9a247dfb44276e": {
      "model_module": "@jupyter-widgets/controls",
      "model_module_version": "1.4.0",
      "model_name": "ButtonStyleModel",
      "state": {}
     },
     "6ac9109d42a24b3a8882c870e05d05a2": {
      "model_module": "@jupyter-widgets/base",
      "model_module_version": "1.1.0",
      "model_name": "LayoutModel",
      "state": {
       "width": "600px"
      }
     },
     "6ad0fb6df1fb4321aaae550646815cfe": {
      "model_module": "@jupyter-widgets/controls",
      "model_module_version": "1.4.0",
      "model_name": "CheckboxModel",
      "state": {
       "description": "Wenn es sich bei dem Satzglied um das Subjekt handelt.",
       "disabled": false,
       "layout": "IPY_MODEL_fead56cdcb414d8aab1f97b351b87ec6",
       "style": "IPY_MODEL_e8e53027481f4f62b51418ee41a4bf34",
       "value": false
      }
     },
     "6ad53bc4f56545339668060d766e79a8": {
      "model_module": "@jupyter-widgets/base",
      "model_module_version": "1.1.0",
      "model_name": "LayoutModel",
      "state": {
       "justify_content": "center"
      }
     },
     "6ae359cba40c4ec1bd6737615d4d1a76": {
      "model_module": "@jupyter-widgets/controls",
      "model_module_version": "1.4.0",
      "model_name": "VBoxModel",
      "state": {
       "children": [
        "IPY_MODEL_2d47a182dd894ce791b4663871448779",
        "IPY_MODEL_e1d2f5da9b7e4327962b015d630f1670",
        "IPY_MODEL_d44ca23e2fe8458b80968086f8f59c27",
        "IPY_MODEL_42badf5ed4b245a89985c22f2a33d5bf"
       ],
       "layout": "IPY_MODEL_08d4cd18cae348798c607f5b334e1b0b"
      }
     },
     "6af28b25b04c40999bb84014a79ad07c": {
      "model_module": "@jupyter-widgets/controls",
      "model_module_version": "1.4.0",
      "model_name": "DescriptionStyleModel",
      "state": {
       "description_width": ""
      }
     },
     "6b4d9c6277714b168f94da77b33a838f": {
      "model_module": "@jupyter-widgets/base",
      "model_module_version": "1.1.0",
      "model_name": "LayoutModel",
      "state": {
       "width": "250px"
      }
     },
     "6b5a04256cd6425e9b18aa48d7ae563a": {
      "model_module": "@jupyter-widgets/controls",
      "model_module_version": "1.4.0",
      "model_name": "DescriptionStyleModel",
      "state": {
       "description_width": ""
      }
     },
     "6bc448ca722643ee8e5b024984fa15aa": {
      "model_module": "@jupyter-widgets/base",
      "model_module_version": "1.1.0",
      "model_name": "LayoutModel",
      "state": {
       "width": "250px"
      }
     },
     "6c4848a203984764a93079e5b04e2b4a": {
      "model_module": "@jupyter-widgets/controls",
      "model_module_version": "1.4.0",
      "model_name": "DescriptionStyleModel",
      "state": {
       "description_width": "initial"
      }
     },
     "6cb5e47c6f404b6386599b4e92c5d309": {
      "model_module": "@jupyter-widgets/controls",
      "model_module_version": "1.4.0",
      "model_name": "CheckboxModel",
      "state": {
       "description": "Adverbialsatz: <i>er tanzte, bis ...</i>",
       "disabled": false,
       "layout": "IPY_MODEL_0d1f8333600749d38fe0e47d937b4ec6",
       "style": "IPY_MODEL_596dcb2c34b84819a672c38a4c2005b6",
       "value": false
      }
     },
     "6ccebbb3b9ae45f487005269bf6050cd": {
      "model_module": "@jupyter-widgets/controls",
      "model_module_version": "1.4.0",
      "model_name": "DescriptionStyleModel",
      "state": {
       "description_width": ""
      }
     },
     "6cd0f9efb99c4d4197f84bdedea8977b": {
      "model_module": "@jupyter-widgets/controls",
      "model_module_version": "1.4.0",
      "model_name": "DescriptionStyleModel",
      "state": {
       "description_width": "initial"
      }
     },
     "6d09527d79ec4182a0a81b6750f5e243": {
      "model_module": "@jupyter-widgets/base",
      "model_module_version": "1.1.0",
      "model_name": "LayoutModel",
      "state": {
       "width": "600px"
      }
     },
     "6d499f00b0ba4bfa870750e66162e630": {
      "model_module": "@jupyter-widgets/controls",
      "model_module_version": "1.4.0",
      "model_name": "ButtonModel",
      "state": {
       "description": "Korrekt?",
       "layout": "IPY_MODEL_58634799c18b4d10bfe305ec9229b3e9",
       "style": "IPY_MODEL_e28814a882da42e9951731f68fdac417"
      }
     },
     "6d6937a360654074bf71f2e71307b92c": {
      "model_module": "@jupyter-widgets/base",
      "model_module_version": "1.1.0",
      "model_name": "LayoutModel",
      "state": {
       "width": "600px"
      }
     },
     "6d96cf8286d14ea8a51753541c1e5c60": {
      "model_module": "@jupyter-widgets/controls",
      "model_module_version": "1.4.0",
      "model_name": "DescriptionStyleModel",
      "state": {
       "description_width": ""
      }
     },
     "6dc7ef86131d49198c0c97f7a36e660b": {
      "model_module": "@jupyter-widgets/base",
      "model_module_version": "1.1.0",
      "model_name": "LayoutModel",
      "state": {
       "width": "250px"
      }
     },
     "6df4f2cef5184f2db7ebf01d30d1c8c4": {
      "model_module": "@jupyter-widgets/base",
      "model_module_version": "1.1.0",
      "model_name": "LayoutModel",
      "state": {
       "width": "250px"
      }
     },
     "6df5ef7486ba4c1db85d5a39a037e3e1": {
      "model_module": "@jupyter-widgets/controls",
      "model_module_version": "1.4.0",
      "model_name": "DescriptionStyleModel",
      "state": {
       "description_width": "initial"
      }
     },
     "6e457ffdb5f34b1ca226f5a9829560fc": {
      "model_module": "@jupyter-widgets/controls",
      "model_module_version": "1.4.0",
      "model_name": "VBoxModel",
      "state": {
       "children": [
        "IPY_MODEL_9910497454b84fbbaf0012479e4626db",
        "IPY_MODEL_a756749a6eba47f799325f9fc2b8cf65",
        "IPY_MODEL_081ca6c01b5849089a0ed6bb839b9576",
        "IPY_MODEL_698c6690bd5040e0ac4a640f767fe078"
       ],
       "layout": "IPY_MODEL_f75a5a44bc09480fbff2233d2308c220"
      }
     },
     "6e6f62a45c284001ba3391e99df8725e": {
      "model_module": "@jupyter-widgets/controls",
      "model_module_version": "1.4.0",
      "model_name": "HTMLModel",
      "state": {
       "layout": "IPY_MODEL_b6bce404667c4e398d2f8abc166c860c",
       "style": "IPY_MODEL_e47ed8a0e9874105ba15efa1a3e6ad52",
       "value": "<i>Wählen Sie die <ins>eine</ins> korrekte Antwort aus: </i>"
      }
     },
     "6ec158c2bea2448bb89a28a83c525573": {
      "model_module": "@jupyter-widgets/base",
      "model_module_version": "1.1.0",
      "model_name": "LayoutModel",
      "state": {}
     },
     "6edab403d30e4acfbf8235785d8194ea": {
      "model_module": "@jupyter-widgets/controls",
      "model_module_version": "1.4.0",
      "model_name": "DescriptionStyleModel",
      "state": {
       "description_width": ""
      }
     },
     "6f068f1acf5f4f2cb54aa9c415baa845": {
      "model_module": "@jupyter-widgets/base",
      "model_module_version": "1.1.0",
      "model_name": "LayoutModel",
      "state": {
       "width": "600px"
      }
     },
     "6f0a8694563a4d6fbe2174c2d6ce03b8": {
      "model_module": "@jupyter-widgets/controls",
      "model_module_version": "1.4.0",
      "model_name": "HBoxModel",
      "state": {
       "children": [
        "IPY_MODEL_c091fa1ec561483fac72cc5a88f4493e",
        "IPY_MODEL_b278888bc1224f8aae85204cd1451124"
       ],
       "layout": "IPY_MODEL_ce4445a54c354a71ae04e46b54099e49"
      }
     },
     "6f192568f39d4c8bbcad60053341c18f": {
      "model_module": "@jupyter-widgets/controls",
      "model_module_version": "1.4.0",
      "model_name": "ButtonModel",
      "state": {
       "description": "Subjekt",
       "layout": "IPY_MODEL_5154886ae0244f69bab99b023d150a85",
       "style": "IPY_MODEL_7f67e26f0c944bc195379bbf5e42ad96"
      }
     },
     "6f33aeebd7df4c74989f695c120548bf": {
      "model_module": "@jupyter-widgets/controls",
      "model_module_version": "1.4.0",
      "model_name": "DescriptionStyleModel",
      "state": {
       "description_width": "initial"
      }
     },
     "6f593fbfa49f4301802964bf3766a628": {
      "model_module": "@jupyter-widgets/base",
      "model_module_version": "1.1.0",
      "model_name": "LayoutModel",
      "state": {
       "width": "600px"
      }
     },
     "6f69daaec94949889cae82e70b24f341": {
      "model_module": "@jupyter-widgets/controls",
      "model_module_version": "1.4.0",
      "model_name": "ButtonModel",
      "state": {
       "description": "Satz 4",
       "layout": "IPY_MODEL_7913977125314740bbaf8ce80792514f",
       "style": "IPY_MODEL_8a4e9af777d24293b61db539e112abd3"
      }
     },
     "6f8f7c569b294c0a9d03449bf863c6ef": {
      "model_module": "@jupyter-widgets/controls",
      "model_module_version": "1.4.0",
      "model_name": "ButtonStyleModel",
      "state": {}
     },
     "703b05773ea94259bbbc7cc31fe5167c": {
      "model_module": "@jupyter-widgets/controls",
      "model_module_version": "1.4.0",
      "model_name": "DescriptionStyleModel",
      "state": {
       "description_width": ""
      }
     },
     "704863833a5a4c99b0214a499be57457": {
      "model_module": "@jupyter-widgets/base",
      "model_module_version": "1.1.0",
      "model_name": "LayoutModel",
      "state": {
       "width": "600px"
      }
     },
     "70635511963440248c7ba0bd8cf7a6cd": {
      "model_module": "@jupyter-widgets/base",
      "model_module_version": "1.1.0",
      "model_name": "LayoutModel",
      "state": {
       "width": "600px"
      }
     },
     "70bb28aa3ac34cf380feb0629fec1ff6": {
      "model_module": "@jupyter-widgets/controls",
      "model_module_version": "1.4.0",
      "model_name": "VBoxModel",
      "state": {
       "children": [
        "IPY_MODEL_abe695a6c08646ffa6dff5a9f2d3ca28",
        "IPY_MODEL_ddc8eb61f6fd45be8d720db95c99185d",
        "IPY_MODEL_f730234998f9408cb75acdf2faa7b903",
        "IPY_MODEL_2d8a82298e9d4118bfe02744b7338434"
       ],
       "layout": "IPY_MODEL_38e6cb8c0ddd450cb1c0206f2264db22"
      }
     },
     "70f8f05f81624e268278462a2df70690": {
      "model_module": "@jupyter-widgets/base",
      "model_module_version": "1.1.0",
      "model_name": "LayoutModel",
      "state": {
       "width": "250px"
      }
     },
     "7100dae0c54546a78a2e2e9508de4126": {
      "model_module": "@jupyter-widgets/controls",
      "model_module_version": "1.4.0",
      "model_name": "HBoxModel",
      "state": {
       "children": [
        "IPY_MODEL_471529b4fdc24c578e7f8be7b305cd02",
        "IPY_MODEL_953612de12af4658aa02136b4f7d3471"
       ],
       "layout": "IPY_MODEL_ad6ef1d063214cef9b35b0a1b79be5a0"
      }
     },
     "7191c50a567241d789d0b55d1a8cdebd": {
      "model_module": "@jupyter-widgets/controls",
      "model_module_version": "1.4.0",
      "model_name": "HTMLModel",
      "state": {
       "layout": "IPY_MODEL_6112cb5038504f3db388c30e1f54d5c8",
       "style": "IPY_MODEL_723abb507f2c49b380e0d887cf4bc19f",
       "value": "<h4 style=\"font-size:14px;\">Welche Aussage über das Nachfeld des Hauptsatzes ist korrekt?</h4>"
      }
     },
     "71aaaeb9453d45ed9cdaef18f0c60194": {
      "model_module": "@jupyter-widgets/base",
      "model_module_version": "1.1.0",
      "model_name": "LayoutModel",
      "state": {
       "width": "250px"
      }
     },
     "71bf7eba3c9c44719ba21022b7d9cf07": {
      "model_module": "@jupyter-widgets/controls",
      "model_module_version": "1.4.0",
      "model_name": "ButtonModel",
      "state": {
       "description": "Korrekt?",
       "layout": "IPY_MODEL_506c9a56c14445a78bf9468d955885e9",
       "style": "IPY_MODEL_89a04a5742bc4ec2aa9312f042004e77"
      }
     },
     "71ec835c41934e41af82560015521d8a": {
      "model_module": "@jupyter-widgets/controls",
      "model_module_version": "1.4.0",
      "model_name": "VBoxModel",
      "state": {
       "children": [
        "IPY_MODEL_32cc4edbaab64ceb8bd592335968b681",
        "IPY_MODEL_a4595612efa046faa4a9ed3826e20ef2",
        "IPY_MODEL_06769f739c994318bb74c712993e67dd",
        "IPY_MODEL_5b05995af4fd4b5490c30aa107a98647"
       ],
       "layout": "IPY_MODEL_89415828f1d844f4bee24e27577c906e"
      }
     },
     "723abb507f2c49b380e0d887cf4bc19f": {
      "model_module": "@jupyter-widgets/controls",
      "model_module_version": "1.4.0",
      "model_name": "DescriptionStyleModel",
      "state": {
       "description_width": ""
      }
     },
     "724f2f444c6b42018a733c3ef782f639": {
      "model_module": "@jupyter-widgets/controls",
      "model_module_version": "1.4.0",
      "model_name": "VBoxModel",
      "state": {
       "children": [
        "IPY_MODEL_cbc462a7b16642c28ee6be78bf9c957e",
        "IPY_MODEL_caf07f26bb1649e7b153839b6de18391",
        "IPY_MODEL_f173930dbc064c0a8820de682c77510f",
        "IPY_MODEL_dfd766a39d294df5809a61a5d657d10a",
        "IPY_MODEL_74aeb57b51a84ba897d5699164a7ccc7",
        "IPY_MODEL_7ed76513a467480596b67a4ef39ce19c",
        "IPY_MODEL_c0d0e549237d44a69977a76e2ac5d9e3",
        "IPY_MODEL_3e54715201a048859bebd7585fe755d5",
        "IPY_MODEL_25fcf5164e364a2691fe4d305aedba8c"
       ],
       "layout": "IPY_MODEL_fd4ac7d5ca7c47caabbfbafda473f682"
      }
     },
     "729812e590134b53a97c6e11049a16f6": {
      "model_module": "@jupyter-widgets/controls",
      "model_module_version": "1.4.0",
      "model_name": "DescriptionStyleModel",
      "state": {
       "description_width": ""
      }
     },
     "72b867e06c614120a9dface54680905a": {
      "model_module": "@jupyter-widgets/controls",
      "model_module_version": "1.4.0",
      "model_name": "DescriptionStyleModel",
      "state": {
       "description_width": "initial"
      }
     },
     "72c575f7a30846a49ac3cb74a486a00d": {
      "model_module": "@jupyter-widgets/controls",
      "model_module_version": "1.4.0",
      "model_name": "DescriptionStyleModel",
      "state": {
       "description_width": "initial"
      }
     },
     "72c92d1283e942c186c7977f5d772225": {
      "model_module": "@jupyter-widgets/base",
      "model_module_version": "1.1.0",
      "model_name": "LayoutModel",
      "state": {}
     },
     "7357c1ee5056460dba7bd828ee6af590": {
      "model_module": "@jupyter-widgets/base",
      "model_module_version": "1.1.0",
      "model_name": "LayoutModel",
      "state": {}
     },
     "735a2c2957304c84a560ad749e470395": {
      "model_module": "@jupyter-widgets/controls",
      "model_module_version": "1.4.0",
      "model_name": "ButtonStyleModel",
      "state": {}
     },
     "738bcd242d2d4822ba09873e3b8f9d05": {
      "model_module": "@jupyter-widgets/controls",
      "model_module_version": "1.4.0",
      "model_name": "HTMLModel",
      "state": {
       "layout": "IPY_MODEL_9b01a6ff1fcc4879b6979168ced6d3d8",
       "style": "IPY_MODEL_d3d8498025584b0b99698b82ddf17c7c",
       "value": "<i>Wählen Sie die <ins>eine</ins> korrekte Antwort aus: </i>"
      }
     },
     "73b4430ee4604a35a64666280b28457d": {
      "model_module": "@jupyter-widgets/base",
      "model_module_version": "1.1.0",
      "model_name": "LayoutModel",
      "state": {
       "justify_content": "center"
      }
     },
     "73da768fccc645daaf741f547a78820d": {
      "model_module": "@jupyter-widgets/controls",
      "model_module_version": "1.4.0",
      "model_name": "HTMLModel",
      "state": {
       "layout": "IPY_MODEL_f3b3b78949c64f52b146d174f1ca499f",
       "style": "IPY_MODEL_846bbfa881f94e39a0b3922813a8e298",
       "value": "<h4 style=\"font-size:14px;\">Um was für einen Satz handelt es sich syntaktisch bei <i>als sie ...</i>?</h4>"
      }
     },
     "7429833e39614b05a9ee56ffa0320656": {
      "model_module": "@jupyter-widgets/controls",
      "model_module_version": "1.4.0",
      "model_name": "VBoxModel",
      "state": {
       "children": [
        "IPY_MODEL_686e217236744574ae2e66188b967560",
        "IPY_MODEL_938ba9c2dc004b8bba0cfe42735b9de7",
        "IPY_MODEL_b6b2096b96144c3da6d19596498fe652",
        "IPY_MODEL_a14d332278984dbb8eb17d5fdee792c5"
       ],
       "layout": "IPY_MODEL_dc4e538d3c23434e8a5461cbe0fb0f7d"
      }
     },
     "74402fce7ed545e3b3386dcac3dcd1ea": {
      "model_module": "@jupyter-widgets/controls",
      "model_module_version": "1.4.0",
      "model_name": "ButtonModel",
      "state": {
       "description": "Korrekt?",
       "layout": "IPY_MODEL_f94305bd4dbe4544848463aa4c255bb6",
       "style": "IPY_MODEL_85c7d03a59a14a4e89f0a78e95f964ab"
      }
     },
     "74aeb57b51a84ba897d5699164a7ccc7": {
      "model_module": "@jupyter-widgets/controls",
      "model_module_version": "1.4.0",
      "model_name": "CheckboxModel",
      "state": {
       "description": "der",
       "disabled": false,
       "layout": "IPY_MODEL_b2a686ed1837400698d67e6d2df6ca07",
       "style": "IPY_MODEL_6827996d690548ca9260decbb5cee2ec",
       "value": false
      }
     },
     "74cba71f7b814915bcfb94955e6e16d4": {
      "model_module": "@jupyter-widgets/controls",
      "model_module_version": "1.4.0",
      "model_name": "DescriptionStyleModel",
      "state": {
       "description_width": ""
      }
     },
     "754d8929480e4762944a9d67c1808b7f": {
      "model_module": "@jupyter-widgets/controls",
      "model_module_version": "1.4.0",
      "model_name": "CheckboxModel",
      "state": {
       "description": "Nachfeld",
       "disabled": false,
       "layout": "IPY_MODEL_698a0f422dff48ba8f0e89e0af8dafd2",
       "style": "IPY_MODEL_558d35d2e3854a95b34ccbf61bcb9db3",
       "value": false
      }
     },
     "7559205a017e473caca4093e8c58ba98": {
      "model_module": "@jupyter-widgets/controls",
      "model_module_version": "1.4.0",
      "model_name": "DescriptionStyleModel",
      "state": {
       "description_width": ""
      }
     },
     "7598ffb2b93649efbc229aacc3815a2f": {
      "model_module": "@jupyter-widgets/controls",
      "model_module_version": "1.4.0",
      "model_name": "DescriptionStyleModel",
      "state": {
       "description_width": "initial"
      }
     },
     "75d159cb0716413bb1d6989ec06eee3a": {
      "model_module": "@jupyter-widgets/controls",
      "model_module_version": "1.4.0",
      "model_name": "HTMLModel",
      "state": {
       "layout": "IPY_MODEL_4cb9d097bc874546b75485f19439b394",
       "style": "IPY_MODEL_168d30176aa641bbb06a6636b0500c03",
       "value": "<h4 style=\"font-size:14px;\">'Die (markierte) Abfolge ›Subjekt vor Akkusativobjekt vor Dativobjekt‹ für nominale Satzglieder ist nur möglich, wenn bestimmte Bedingungen erfüllt sind (insbesondere Thema vor Rhema).'</h4>"
      }
     },
     "760435eba52145289bbbc3421c17404d": {
      "model_module": "@jupyter-widgets/controls",
      "model_module_version": "1.4.0",
      "model_name": "DescriptionStyleModel",
      "state": {
       "description_width": ""
      }
     },
     "764259303e9349999ec3a313ea93b9e3": {
      "model_module": "@jupyter-widgets/controls",
      "model_module_version": "1.4.0",
      "model_name": "ButtonModel",
      "state": {
       "description": "Korrekt?",
       "layout": "IPY_MODEL_0e63a238fbaf4be29f659882b05fa5a9",
       "style": "IPY_MODEL_e5943e2f92d941c79e1b03fc7df5060b"
      }
     },
     "7699f22486b74a5ba98061e1fbbfc54f": {
      "model_module": "@jupyter-widgets/base",
      "model_module_version": "1.1.0",
      "model_name": "LayoutModel",
      "state": {
       "width": "600px"
      }
     },
     "76aab9ff43d741509182f2de1fa725cf": {
      "model_module": "@jupyter-widgets/controls",
      "model_module_version": "1.4.0",
      "model_name": "HBoxModel",
      "state": {
       "children": [
        "IPY_MODEL_30cd0d1681764b36b2609e492faac62d",
        "IPY_MODEL_aee63bb05f5d43f4ac4cf9719d45c77f"
       ],
       "layout": "IPY_MODEL_99adcf3cf2024f5b947cee85df26806d"
      }
     },
     "76eea94002cc4843a107fa8285ac645f": {
      "model_module": "@jupyter-widgets/controls",
      "model_module_version": "1.4.0",
      "model_name": "CheckboxModel",
      "state": {
       "description": "Verbzweitstellung",
       "disabled": false,
       "layout": "IPY_MODEL_1619d50159164428b98e6191c94b5cb3",
       "style": "IPY_MODEL_e118a68a6c7a4c8581ee3c80bb26c85e",
       "value": false
      }
     },
     "76fa74631f5f4eef8edf7d33e88185c9": {
      "model_module": "@jupyter-widgets/base",
      "model_module_version": "1.1.0",
      "model_name": "LayoutModel",
      "state": {
       "width": "250px"
      }
     },
     "77aa2c8115ec4427a6cf928099fd9f68": {
      "model_module": "@jupyter-widgets/base",
      "model_module_version": "1.1.0",
      "model_name": "LayoutModel",
      "state": {}
     },
     "77aa501db49043b78750ecc081b57556": {
      "model_module": "@jupyter-widgets/base",
      "model_module_version": "1.1.0",
      "model_name": "LayoutModel",
      "state": {
       "width": "500px"
      }
     },
     "77bc845aa0ef46518dc2c59e6dc5aa7c": {
      "model_module": "@jupyter-widgets/controls",
      "model_module_version": "1.4.0",
      "model_name": "DescriptionStyleModel",
      "state": {
       "description_width": ""
      }
     },
     "786fdfd2954c40da81c48e17a5527b82": {
      "model_module": "@jupyter-widgets/controls",
      "model_module_version": "1.4.0",
      "model_name": "ButtonStyleModel",
      "state": {}
     },
     "789ff5033c04449b88bef949e5a302e4": {
      "model_module": "@jupyter-widgets/base",
      "model_module_version": "1.1.0",
      "model_name": "LayoutModel",
      "state": {
       "width": "600px"
      }
     },
     "78eea503c5e944a2b8edda6d01f43929": {
      "model_module": "@jupyter-widgets/controls",
      "model_module_version": "1.4.0",
      "model_name": "ButtonStyleModel",
      "state": {}
     },
     "78ef8ba983874b278771c85164984a31": {
      "model_module": "@jupyter-widgets/controls",
      "model_module_version": "1.4.0",
      "model_name": "HBoxModel",
      "state": {
       "children": [
        "IPY_MODEL_de13c1d22cd347abb0594f4ce255d2a8",
        "IPY_MODEL_d6cde4d31dd34585bb037ef0a47719e8"
       ],
       "layout": "IPY_MODEL_ca78fe74b11f4a318a507bbb06249a11"
      }
     },
     "78f3d4d513fb4a0ab6a7b6d46b2bf0c0": {
      "model_module": "@jupyter-widgets/controls",
      "model_module_version": "1.4.0",
      "model_name": "ButtonStyleModel",
      "state": {}
     },
     "78fc41cbc5134d3797cc915107b557bd": {
      "model_module": "@jupyter-widgets/base",
      "model_module_version": "1.1.0",
      "model_name": "LayoutModel",
      "state": {
       "width": "600px"
      }
     },
     "78fe46de9c8b4d1585befc3e0ae80581": {
      "model_module": "@jupyter-widgets/controls",
      "model_module_version": "1.4.0",
      "model_name": "CheckboxModel",
      "state": {
       "description": "als sie ...",
       "disabled": false,
       "layout": "IPY_MODEL_da130fb4cd3048d89c51ac862ff0fe8e",
       "style": "IPY_MODEL_960661bc11aa4c71ad2722b9de5af591",
       "value": false
      }
     },
     "7913977125314740bbaf8ce80792514f": {
      "model_module": "@jupyter-widgets/base",
      "model_module_version": "1.1.0",
      "model_name": "LayoutModel",
      "state": {
       "width": "250px"
      }
     },
     "7924cdf68dce45139c9a6773f8db9a91": {
      "model_module": "@jupyter-widgets/base",
      "model_module_version": "1.1.0",
      "model_name": "LayoutModel",
      "state": {
       "width": "250px"
      }
     },
     "792fa5d5c92c47ab8ba31475051d9bb7": {
      "model_module": "@jupyter-widgets/controls",
      "model_module_version": "1.4.0",
      "model_name": "ButtonStyleModel",
      "state": {}
     },
     "794c970ae0464c059c8567f09a56d6c8": {
      "model_module": "@jupyter-widgets/controls",
      "model_module_version": "1.4.0",
      "model_name": "DescriptionStyleModel",
      "state": {
       "description_width": "initial"
      }
     },
     "795450920f8f40f4a41a241d463959ee": {
      "model_module": "@jupyter-widgets/controls",
      "model_module_version": "1.4.0",
      "model_name": "DescriptionStyleModel",
      "state": {
       "description_width": ""
      }
     },
     "796ff1117743475298e65bfdc5ff6079": {
      "model_module": "@jupyter-widgets/controls",
      "model_module_version": "1.4.0",
      "model_name": "DescriptionStyleModel",
      "state": {
       "description_width": ""
      }
     },
     "797de28610514b77b75c8572a160064d": {
      "model_module": "@jupyter-widgets/base",
      "model_module_version": "1.1.0",
      "model_name": "LayoutModel",
      "state": {
       "width": "250px"
      }
     },
     "79e19c867d264dfd8fcce5181c8bc7d1": {
      "model_module": "@jupyter-widgets/controls",
      "model_module_version": "1.4.0",
      "model_name": "DescriptionStyleModel",
      "state": {
       "description_width": ""
      }
     },
     "7a1962fc5d914a69ba750dfbb723c938": {
      "model_module": "@jupyter-widgets/base",
      "model_module_version": "1.1.0",
      "model_name": "LayoutModel",
      "state": {
       "width": "600px"
      }
     },
     "7a1a3d1bdbb84072907fe6608cca4634": {
      "model_module": "@jupyter-widgets/controls",
      "model_module_version": "1.4.0",
      "model_name": "HTMLModel",
      "state": {
       "layout": "IPY_MODEL_93a1a58591f541d4a71f1fe13cfa91d7",
       "style": "IPY_MODEL_3e80b3aea4f34167b83a1b6245335fa4",
       "value": "<i>Markieren Sie <ins>alle</ins> passenden Antworten: </i>"
      }
     },
     "7a72867342bb41fb89c2054d13e25966": {
      "model_module": "@jupyter-widgets/base",
      "model_module_version": "1.1.0",
      "model_name": "LayoutModel",
      "state": {
       "width": "250px"
      }
     },
     "7a920af3ed4c494383c8cd37c88b7374": {
      "model_module": "@jupyter-widgets/base",
      "model_module_version": "1.1.0",
      "model_name": "LayoutModel",
      "state": {}
     },
     "7a9b5f944047471c9d903f5ce8db35b2": {
      "model_module": "@jupyter-widgets/controls",
      "model_module_version": "1.4.0",
      "model_name": "HBoxModel",
      "state": {
       "children": [
        "IPY_MODEL_212f8aa9ff3242efa32d7ac40d67ec80",
        "IPY_MODEL_f788c401a8fe46fa85a42271db033988"
       ],
       "layout": "IPY_MODEL_470b205741304eb9969044fe896da3f6"
      }
     },
     "7ab4d946c09843e6a1443eb2363d1935": {
      "model_module": "@jupyter-widgets/base",
      "model_module_version": "1.1.0",
      "model_name": "LayoutModel",
      "state": {}
     },
     "7b092b5cb7b145ad963d5d68d7041dd2": {
      "model_module": "@jupyter-widgets/controls",
      "model_module_version": "1.4.0",
      "model_name": "HTMLModel",
      "state": {
       "layout": "IPY_MODEL_a27af09380b745deaf61658a809a044d",
       "style": "IPY_MODEL_77bc845aa0ef46518dc2c59e6dc5aa7c",
       "value": "<i>Wählen Sie die <ins>eine</ins> korrekte Antwort aus: </i>"
      }
     },
     "7b272eabaf0341c7bdfd9f9f494f7f90": {
      "model_module": "@jupyter-widgets/base",
      "model_module_version": "1.1.0",
      "model_name": "LayoutModel",
      "state": {
       "width": "600px"
      }
     },
     "7b533cd97beb44f7ab784381c539be06": {
      "model_module": "@jupyter-widgets/base",
      "model_module_version": "1.1.0",
      "model_name": "LayoutModel",
      "state": {}
     },
     "7b9949e66b944006928a6267ce67a6e2": {
      "model_module": "@jupyter-widgets/controls",
      "model_module_version": "1.4.0",
      "model_name": "CheckboxModel",
      "state": {
       "description": "Peter",
       "disabled": false,
       "layout": "IPY_MODEL_2ef88a2d525f4b63bc5996e0407b0b35",
       "style": "IPY_MODEL_377e7967c0e4470981e4eb2998b0d273",
       "value": false
      }
     },
     "7bdee53bfe1b4b269bf09bbc1ba21cec": {
      "model_module": "@jupyter-widgets/controls",
      "model_module_version": "1.4.0",
      "model_name": "DescriptionStyleModel",
      "state": {
       "description_width": ""
      }
     },
     "7c1549c8249d46c4a73742475c05b13d": {
      "model_module": "@jupyter-widgets/controls",
      "model_module_version": "1.4.0",
      "model_name": "ButtonModel",
      "state": {
       "description": "Objektkontrolle",
       "layout": "IPY_MODEL_3d2bca8d991745c9938306cb8bf34783",
       "style": "IPY_MODEL_42412e7ea10042a59f73a6e741015cfa"
      }
     },
     "7c334512a3474dbd925e28027d90b1fa": {
      "model_module": "@jupyter-widgets/base",
      "model_module_version": "1.1.0",
      "model_name": "LayoutModel",
      "state": {
       "justify_content": "center"
      }
     },
     "7c563b5c49bb4900b6522eea1ec858e8": {
      "model_module": "@jupyter-widgets/controls",
      "model_module_version": "1.4.0",
      "model_name": "DescriptionStyleModel",
      "state": {
       "description_width": "initial"
      }
     },
     "7c6dee19163c43ac8dfd1083417abfe5": {
      "model_module": "@jupyter-widgets/base",
      "model_module_version": "1.1.0",
      "model_name": "LayoutModel",
      "state": {
       "justify_content": "center"
      }
     },
     "7c744c7990f54ca0a9f4a91be6c85e95": {
      "model_module": "@jupyter-widgets/controls",
      "model_module_version": "1.4.0",
      "model_name": "CheckboxModel",
      "state": {
       "description": "hat",
       "disabled": false,
       "layout": "IPY_MODEL_ee23c4c943b04fdaa19bba538d716e16",
       "style": "IPY_MODEL_e7ba9b0d478242458ad7e752402aa86f",
       "value": false
      }
     },
     "7c91c3f4179246509d0985efc92bca75": {
      "model_module": "@jupyter-widgets/controls",
      "model_module_version": "1.4.0",
      "model_name": "VBoxModel",
      "state": {
       "children": [
        "IPY_MODEL_ba24243a8e134c309b4ecc96f67219cf",
        "IPY_MODEL_0ceff864dc7640bf847f1856a5a7d249",
        "IPY_MODEL_07dd7b71e7a042bfa32c36e1a314ef8e",
        "IPY_MODEL_cfe6ede0f6ea4c63ada4ecdc9bdb0a89"
       ],
       "layout": "IPY_MODEL_23dcc763a72642cb9013f301c911922e"
      }
     },
     "7cb42e1654794c44931b7d9709e8df3c": {
      "model_module": "@jupyter-widgets/base",
      "model_module_version": "1.1.0",
      "model_name": "LayoutModel",
      "state": {
       "width": "600px"
      }
     },
     "7cd1b25a4a6a4df7b57528cea9a902cc": {
      "model_module": "@jupyter-widgets/controls",
      "model_module_version": "1.4.0",
      "model_name": "VBoxModel",
      "state": {
       "children": [
        "IPY_MODEL_b64c754279eb44a686282f3a54e2727b",
        "IPY_MODEL_6e6f62a45c284001ba3391e99df8725e",
        "IPY_MODEL_5dac84c9539b4db481896a410fe903ea",
        "IPY_MODEL_bd535401457e4448be70c8f25c72ab8e"
       ],
       "layout": "IPY_MODEL_431a41c499e949a2b22e6baac4dbc92a"
      }
     },
     "7d346241b92a4ec2b4e3213f6c96537c": {
      "model_module": "@jupyter-widgets/controls",
      "model_module_version": "1.4.0",
      "model_name": "CheckboxModel",
      "state": {
       "description": "das",
       "disabled": false,
       "layout": "IPY_MODEL_cd3aca7e78c34f57a2a4d45e90a2b8c0",
       "style": "IPY_MODEL_d88bd9cf3e4f424a9f76e82bb32437dd",
       "value": false
      }
     },
     "7d9bc9587bd54aa992cb2ca64a089fad": {
      "model_module": "@jupyter-widgets/base",
      "model_module_version": "1.1.0",
      "model_name": "LayoutModel",
      "state": {
       "justify_content": "center"
      }
     },
     "7dada8def42a4857a3fb6c495df2aa26": {
      "model_module": "@jupyter-widgets/controls",
      "model_module_version": "1.4.0",
      "model_name": "ButtonStyleModel",
      "state": {}
     },
     "7dd1d6db205f4f208780d4b525eb21c3": {
      "model_module": "@jupyter-widgets/base",
      "model_module_version": "1.1.0",
      "model_name": "LayoutModel",
      "state": {}
     },
     "7e079bd48815445c906f82732f8c2f85": {
      "model_module": "@jupyter-widgets/controls",
      "model_module_version": "1.4.0",
      "model_name": "DescriptionStyleModel",
      "state": {
       "description_width": "initial"
      }
     },
     "7e1024834983451585e9946930176601": {
      "model_module": "@jupyter-widgets/controls",
      "model_module_version": "1.4.0",
      "model_name": "DescriptionStyleModel",
      "state": {
       "description_width": "initial"
      }
     },
     "7e5bf5fecaf0499d9bc41270dacf73f2": {
      "model_module": "@jupyter-widgets/controls",
      "model_module_version": "1.4.0",
      "model_name": "ButtonStyleModel",
      "state": {}
     },
     "7e6663696de644289d7efa2b7e9fc37b": {
      "model_module": "@jupyter-widgets/controls",
      "model_module_version": "1.4.0",
      "model_name": "DescriptionStyleModel",
      "state": {
       "description_width": "initial"
      }
     },
     "7ea7a756ce204c4e9c4061ef6bc0b281": {
      "model_module": "@jupyter-widgets/base",
      "model_module_version": "1.1.0",
      "model_name": "LayoutModel",
      "state": {
       "width": "250px"
      }
     },
     "7ebd26a4572e46cf95c273d48c24d67d": {
      "model_module": "@jupyter-widgets/controls",
      "model_module_version": "1.4.0",
      "model_name": "ButtonStyleModel",
      "state": {}
     },
     "7ec02809d2c14c61a32cd87767ce9984": {
      "model_module": "@jupyter-widgets/controls",
      "model_module_version": "1.4.0",
      "model_name": "DescriptionStyleModel",
      "state": {
       "description_width": ""
      }
     },
     "7ed76513a467480596b67a4ef39ce19c": {
      "model_module": "@jupyter-widgets/controls",
      "model_module_version": "1.4.0",
      "model_name": "CheckboxModel",
      "state": {
       "description": "gelesen",
       "disabled": false,
       "layout": "IPY_MODEL_78fc41cbc5134d3797cc915107b557bd",
       "style": "IPY_MODEL_c0998ea04d23457a8cac68c9cded2874",
       "value": false
      }
     },
     "7ef45976773c4f34b267762b746a0a8d": {
      "model_module": "@jupyter-widgets/base",
      "model_module_version": "1.1.0",
      "model_name": "LayoutModel",
      "state": {
       "width": "250px"
      }
     },
     "7f28cea8eb10498887eeda984b9cf9eb": {
      "model_module": "@jupyter-widgets/base",
      "model_module_version": "1.1.0",
      "model_name": "LayoutModel",
      "state": {}
     },
     "7f4f2934b27740709112340d753b0963": {
      "model_module": "@jupyter-widgets/controls",
      "model_module_version": "1.4.0",
      "model_name": "VBoxModel",
      "state": {
       "children": [
        "IPY_MODEL_42e3e5cb2ced4aa78cfa77ad2bac9f8b",
        "IPY_MODEL_55f34ec947b4474ea1b0e2effbb9258e",
        "IPY_MODEL_7100dae0c54546a78a2e2e9508de4126"
       ],
       "layout": "IPY_MODEL_4dc4f841ea10467a85422d1936f12be5"
      }
     },
     "7f54c5cb113c4f6f9ef7e5822c19766c": {
      "model_module": "@jupyter-widgets/controls",
      "model_module_version": "1.4.0",
      "model_name": "ButtonStyleModel",
      "state": {}
     },
     "7f67e26f0c944bc195379bbf5e42ad96": {
      "model_module": "@jupyter-widgets/controls",
      "model_module_version": "1.4.0",
      "model_name": "ButtonStyleModel",
      "state": {}
     },
     "7f7249430f974634b37ff3e97470494e": {
      "model_module": "@jupyter-widgets/controls",
      "model_module_version": "1.4.0",
      "model_name": "ButtonStyleModel",
      "state": {}
     },
     "7f72bb20036f46f58004089c70cd6f10": {
      "model_module": "@jupyter-widgets/controls",
      "model_module_version": "1.4.0",
      "model_name": "ButtonModel",
      "state": {
       "description": "Satz 4",
       "layout": "IPY_MODEL_f6929280ccdb40cc94f3fa6a2b3d1d7f",
       "style": "IPY_MODEL_5735231b69ee48dbbd5c0f8eec2ab177"
      }
     },
     "7faaaf34ec3243d9a5e22aff683f5dc7": {
      "model_module": "@jupyter-widgets/controls",
      "model_module_version": "1.4.0",
      "model_name": "DescriptionStyleModel",
      "state": {
       "description_width": "initial"
      }
     },
     "7fb1067039d04f098005317e997b0873": {
      "model_module": "@jupyter-widgets/controls",
      "model_module_version": "1.4.0",
      "model_name": "HTMLModel",
      "state": {
       "layout": "IPY_MODEL_3451eb2ed20c45d5abb4294da67e6283",
       "style": "IPY_MODEL_00daa2ec6dca4abbbc998d0162a13638",
       "value": "<i>Markieren Sie <ins>alle</ins> passenden Antworten: </i>"
      }
     },
     "7fe2e9c9efaa4903b1fd7c13628407c0": {
      "model_module": "@jupyter-widgets/base",
      "model_module_version": "1.1.0",
      "model_name": "LayoutModel",
      "state": {}
     },
     "802bb927decb4cab8ad83de668d4a776": {
      "model_module": "@jupyter-widgets/controls",
      "model_module_version": "1.4.0",
      "model_name": "ButtonModel",
      "state": {
       "description": "Korrekt?",
       "layout": "IPY_MODEL_4cab735a7f494f2492d3ffee51b6098c",
       "style": "IPY_MODEL_792fa5d5c92c47ab8ba31475051d9bb7"
      }
     },
     "802fcfa54aa14a27a832e3a5f2f82512": {
      "model_module": "@jupyter-widgets/controls",
      "model_module_version": "1.4.0",
      "model_name": "CheckboxModel",
      "state": {
       "description": "Mittelfeld",
       "disabled": false,
       "layout": "IPY_MODEL_8a5ee90528b345f2ac5c53f35dc0b4af",
       "style": "IPY_MODEL_4c968f4f2d884451ae3236093e657ab3",
       "value": false
      }
     },
     "80dd72de24814feb8bd802ff291e101a": {
      "model_module": "@jupyter-widgets/base",
      "model_module_version": "1.1.0",
      "model_name": "LayoutModel",
      "state": {
       "justify_content": "center"
      }
     },
     "8140f09b2da84696beeaaea0771a0e11": {
      "model_module": "@jupyter-widgets/controls",
      "model_module_version": "1.4.0",
      "model_name": "DescriptionStyleModel",
      "state": {
       "description_width": "initial"
      }
     },
     "8173d07b1ab54c57808ad41293e2a4ec": {
      "model_module": "@jupyter-widgets/base",
      "model_module_version": "1.1.0",
      "model_name": "LayoutModel",
      "state": {}
     },
     "817783d68fc54d3090a355b65f14657f": {
      "model_module": "@jupyter-widgets/controls",
      "model_module_version": "1.4.0",
      "model_name": "DescriptionStyleModel",
      "state": {
       "description_width": ""
      }
     },
     "81af1aba554649799493b72d98107f61": {
      "model_module": "@jupyter-widgets/controls",
      "model_module_version": "1.4.0",
      "model_name": "CheckboxModel",
      "state": {
       "description": "schenkte",
       "disabled": false,
       "layout": "IPY_MODEL_22b5780deb374384933c46e9b0f34467",
       "style": "IPY_MODEL_7e6663696de644289d7efa2b7e9fc37b",
       "value": false
      }
     },
     "82090b52679e4992a89e7db0e66d923d": {
      "model_module": "@jupyter-widgets/controls",
      "model_module_version": "1.4.0",
      "model_name": "CheckboxModel",
      "state": {
       "description": "Die rechte SK ist unbesetzt.",
       "disabled": false,
       "layout": "IPY_MODEL_cc0a432e11974ee491ce3c884c6ca137",
       "style": "IPY_MODEL_f7022dad5d344be8bfe3b7397e742cbb",
       "value": false
      }
     },
     "824d5a9bd66f4fb99e0f6bcdf46027c2": {
      "model_module": "@jupyter-widgets/base",
      "model_module_version": "1.1.0",
      "model_name": "LayoutModel",
      "state": {}
     },
     "82ba2fe7d08e4da8a7e2ec6a5159be47": {
      "model_module": "@jupyter-widgets/base",
      "model_module_version": "1.1.0",
      "model_name": "LayoutModel",
      "state": {
       "width": "500px"
      }
     },
     "82d31807556b45419a86d35f441cd18a": {
      "model_module": "@jupyter-widgets/base",
      "model_module_version": "1.1.0",
      "model_name": "LayoutModel",
      "state": {
       "width": "600px"
      }
     },
     "82e24f3931d648c2ad459e263d4cc454": {
      "model_module": "@jupyter-widgets/controls",
      "model_module_version": "1.4.0",
      "model_name": "DescriptionStyleModel",
      "state": {
       "description_width": ""
      }
     },
     "83186e77cd814d7c94427d855040686d": {
      "model_module": "@jupyter-widgets/base",
      "model_module_version": "1.1.0",
      "model_name": "LayoutModel",
      "state": {
       "width": "600px"
      }
     },
     "8327a8e43bdf4c1198511bbdb84a42e7": {
      "model_module": "@jupyter-widgets/controls",
      "model_module_version": "1.4.0",
      "model_name": "VBoxModel",
      "state": {
       "children": [
        "IPY_MODEL_f69c431459ff439ea83a1ef9ee29ffdd",
        "IPY_MODEL_10be098e7dca44a78eb09193885f7fd5"
       ],
       "layout": "IPY_MODEL_a54db0cb390349a790164a9681358be9"
      }
     },
     "8374b3c3697446bea392255fa974d006": {
      "model_module": "@jupyter-widgets/controls",
      "model_module_version": "1.4.0",
      "model_name": "DropdownModel",
      "state": {
       "_options_labels": [
        "Adverbialsatz",
        "Attributsatz",
        "Keine der Alternativen",
        "Komplementsatz",
        "Matrixsatz"
       ],
       "description": "Antwort:",
       "index": 0,
       "layout": "IPY_MODEL_c62be84315a0471aa292bf37b1abd080",
       "style": "IPY_MODEL_74cba71f7b814915bcfb94955e6e16d4"
      }
     },
     "8396e1e6661445c0924d23662078dfe8": {
      "model_module": "@jupyter-widgets/base",
      "model_module_version": "1.1.0",
      "model_name": "LayoutModel",
      "state": {
       "justify_content": "center"
      }
     },
     "83bd2ccd152c4e06acda2010e5067ff2": {
      "model_module": "@jupyter-widgets/controls",
      "model_module_version": "1.4.0",
      "model_name": "ButtonModel",
      "state": {
       "description": "Adverb",
       "layout": "IPY_MODEL_dac0443a1962404ab8d8b08addc37ecc",
       "style": "IPY_MODEL_2cf0e7cce5e34d10b7d48c07f4d0b70d"
      }
     },
     "83c0728434c64cb984f3bed4af040fd1": {
      "model_module": "@jupyter-widgets/controls",
      "model_module_version": "1.4.0",
      "model_name": "DescriptionStyleModel",
      "state": {
       "description_width": "initial"
      }
     },
     "83dd21f2ed0641a7bc62f723a40cbb36": {
      "model_module": "@jupyter-widgets/base",
      "model_module_version": "1.1.0",
      "model_name": "LayoutModel",
      "state": {
       "width": "600px"
      }
     },
     "83fb01539d724fdbb877351647635df9": {
      "model_module": "@jupyter-widgets/controls",
      "model_module_version": "1.4.0",
      "model_name": "DescriptionStyleModel",
      "state": {
       "description_width": "initial"
      }
     },
     "8426a9c992314befbcf2698879109dfb": {
      "model_module": "@jupyter-widgets/controls",
      "model_module_version": "1.4.0",
      "model_name": "ButtonStyleModel",
      "state": {}
     },
     "842ee1d2f6cc43e5a0fadb685bcb3e71": {
      "model_module": "@jupyter-widgets/base",
      "model_module_version": "1.1.0",
      "model_name": "LayoutModel",
      "state": {}
     },
     "8441edd39bf440c68090c1d225d74f9f": {
      "model_module": "@jupyter-widgets/controls",
      "model_module_version": "1.4.0",
      "model_name": "DescriptionStyleModel",
      "state": {
       "description_width": ""
      }
     },
     "84688ca6e511461e8f919a4474a88ee3": {
      "model_module": "@jupyter-widgets/base",
      "model_module_version": "1.1.0",
      "model_name": "LayoutModel",
      "state": {
       "width": "600px"
      }
     },
     "846bbfa881f94e39a0b3922813a8e298": {
      "model_module": "@jupyter-widgets/controls",
      "model_module_version": "1.4.0",
      "model_name": "DescriptionStyleModel",
      "state": {
       "description_width": ""
      }
     },
     "848df2396ed845029e09822836b25842": {
      "model_module": "@jupyter-widgets/controls",
      "model_module_version": "1.4.0",
      "model_name": "DropdownModel",
      "state": {
       "_options_labels": [
        "Adverbialsatz",
        "Attributsatz",
        "Keine der Alternativen",
        "Komplementsatz",
        "Matrixsatz"
       ],
       "description": "Antwort:",
       "index": 0,
       "layout": "IPY_MODEL_77aa501db49043b78750ecc081b57556",
       "style": "IPY_MODEL_3f34db049e544a7b8912227dc5dd5d01"
      }
     },
     "84ca2ebb5ba749889ce65f9322f9fed4": {
      "model_module": "@jupyter-widgets/controls",
      "model_module_version": "1.4.0",
      "model_name": "CheckboxModel",
      "state": {
       "description": "Peter gesungen",
       "disabled": false,
       "layout": "IPY_MODEL_f312e8b62bb34e199298e24f111a6644",
       "style": "IPY_MODEL_2fdf9a5a2e2548a88bb5e574833735fc",
       "value": false
      }
     },
     "84dfd96504804568896b581254e3e149": {
      "model_module": "@jupyter-widgets/base",
      "model_module_version": "1.1.0",
      "model_name": "LayoutModel",
      "state": {
       "width": "250px"
      }
     },
     "84fed8e58c234d008488fa95ee63195b": {
      "model_module": "@jupyter-widgets/base",
      "model_module_version": "1.1.0",
      "model_name": "LayoutModel",
      "state": {
       "width": "600px"
      }
     },
     "8537f437340549b4b4ed1aa953877e94": {
      "model_module": "@jupyter-widgets/controls",
      "model_module_version": "1.4.0",
      "model_name": "HBoxModel",
      "state": {
       "children": [
        "IPY_MODEL_5ad96a648d934271a34fa8bae2773a61",
        "IPY_MODEL_8ec6d8e7d75b4a2c88c0f9052b3ddf2a"
       ],
       "layout": "IPY_MODEL_ae5c1821da4f4b889bab6edd869072ca"
      }
     },
     "855b6dab284a41048069559d50145086": {
      "model_module": "@jupyter-widgets/controls",
      "model_module_version": "1.4.0",
      "model_name": "VBoxModel",
      "state": {
       "children": [
        "IPY_MODEL_9e24359ea7f54f2b9a83bbd12b331035",
        "IPY_MODEL_5b1d76f53069484bbaed064958571afa",
        "IPY_MODEL_5a35a4d4f32c4bd9ad2635b9c76c0985",
        "IPY_MODEL_764259303e9349999ec3a313ea93b9e3"
       ],
       "layout": "IPY_MODEL_0d5ad153aa704fb9bf99dd9e3d31ceb3"
      }
     },
     "85c73dd5ac544434b7529204d8728252": {
      "model_module": "@jupyter-widgets/controls",
      "model_module_version": "1.4.0",
      "model_name": "HTMLModel",
      "state": {
       "layout": "IPY_MODEL_2a8e38a268724709a730f0fc3d32d84d",
       "style": "IPY_MODEL_817783d68fc54d3090a355b65f14657f",
       "value": "<h4 style=\"font-size:14px;\">Welche Satzteile sind Nebensätze?</h4>"
      }
     },
     "85c7d03a59a14a4e89f0a78e95f964ab": {
      "model_module": "@jupyter-widgets/controls",
      "model_module_version": "1.4.0",
      "model_name": "ButtonStyleModel",
      "state": {}
     },
     "86999844baba40cf9b65d44f46926079": {
      "model_module": "@jupyter-widgets/base",
      "model_module_version": "1.1.0",
      "model_name": "LayoutModel",
      "state": {
       "justify_content": "center"
      }
     },
     "869de650b7604ed3b0a81664b69d8e3b": {
      "model_module": "@jupyter-widgets/controls",
      "model_module_version": "1.4.0",
      "model_name": "VBoxModel",
      "state": {
       "children": [
        "IPY_MODEL_d17bc246a20b4d38bf33adc95f963752",
        "IPY_MODEL_c5346d4d9d5345e893a7ad2f5a735303",
        "IPY_MODEL_51fde4f08f104179b77b2aa27454c61b",
        "IPY_MODEL_6167d61a80db4a4ea524d67a251b2943"
       ],
       "layout": "IPY_MODEL_1777820721b140baad88735c8f8030e9"
      }
     },
     "86d8f9dfa915418fa0d523b905d689d7": {
      "model_module": "@jupyter-widgets/controls",
      "model_module_version": "1.4.0",
      "model_name": "DescriptionStyleModel",
      "state": {
       "description_width": "initial"
      }
     },
     "86e80a8efe674fbdbb3ae83aac3cc488": {
      "model_module": "@jupyter-widgets/controls",
      "model_module_version": "1.4.0",
      "model_name": "DescriptionStyleModel",
      "state": {
       "description_width": "initial"
      }
     },
     "86f0fd526b51425c96286b8d6093b6b0": {
      "model_module": "@jupyter-widgets/controls",
      "model_module_version": "1.4.0",
      "model_name": "CheckboxModel",
      "state": {
       "description": "Nebensatz 2. Grades",
       "disabled": false,
       "layout": "IPY_MODEL_df9b9b4cbe2e4f98aaa8df06219bd840",
       "style": "IPY_MODEL_902e545e644b4acbbd357f8795072a0a",
       "value": false
      }
     },
     "872fc61a20304067a6321e381b7b4c97": {
      "model_module": "@jupyter-widgets/base",
      "model_module_version": "1.1.0",
      "model_name": "LayoutModel",
      "state": {
       "width": "250px"
      }
     },
     "87553f0342764441a00427492589b4e3": {
      "model_module": "@jupyter-widgets/controls",
      "model_module_version": "1.4.0",
      "model_name": "CheckboxModel",
      "state": {
       "description": "Es handelt sich kommunikativ um eine Aufforderung.",
       "disabled": false,
       "layout": "IPY_MODEL_ba3a8bfbb49040c281ac229ee76f4f18",
       "style": "IPY_MODEL_01fecfafaf384b959fc461411ab900c1",
       "value": false
      }
     },
     "87a3362ba51c476ba46f23ae11e20b5a": {
      "model_module": "@jupyter-widgets/base",
      "model_module_version": "1.1.0",
      "model_name": "LayoutModel",
      "state": {}
     },
     "87a459a993f74b81b4a1ba22c20674bc": {
      "model_module": "@jupyter-widgets/base",
      "model_module_version": "1.1.0",
      "model_name": "LayoutModel",
      "state": {
       "width": "600px"
      }
     },
     "87ce873f28eb4223ae08f926ef59efca": {
      "model_module": "@jupyter-widgets/base",
      "model_module_version": "1.1.0",
      "model_name": "LayoutModel",
      "state": {
       "justify_content": "center"
      }
     },
     "880556e6becb4d18b0c9793e88437534": {
      "model_module": "@jupyter-widgets/controls",
      "model_module_version": "1.4.0",
      "model_name": "CheckboxModel",
      "state": {
       "description": "Fragepronomen",
       "disabled": false,
       "layout": "IPY_MODEL_a511e67518fc4d03a22b610ac4636034",
       "style": "IPY_MODEL_48df702727e440ac9c2293f0ace89c0d",
       "value": false
      }
     },
     "881d058ff8024badab129c3deaf3461d": {
      "model_module": "@jupyter-widgets/base",
      "model_module_version": "1.1.0",
      "model_name": "LayoutModel",
      "state": {}
     },
     "8836612a0b8a43ec9933ddbf4b0f8479": {
      "model_module": "@jupyter-widgets/controls",
      "model_module_version": "1.4.0",
      "model_name": "DescriptionStyleModel",
      "state": {
       "description_width": ""
      }
     },
     "8842af31a6104411b5120cbef98991e1": {
      "model_module": "@jupyter-widgets/controls",
      "model_module_version": "1.4.0",
      "model_name": "CheckboxModel",
      "state": {
       "description": "Wenn es sich bei dem Satzglied um das Objekt handelt.",
       "disabled": false,
       "layout": "IPY_MODEL_0893861bb6ba48f6aab499bc1174db4c",
       "style": "IPY_MODEL_910d650ca2154e5eb93cf29a222c6aef",
       "value": false
      }
     },
     "88cf5b68fddb45a9aa98a52a009646c4": {
      "model_module": "@jupyter-widgets/base",
      "model_module_version": "1.1.0",
      "model_name": "LayoutModel",
      "state": {}
     },
     "88d3691e1b1b44728995716c1d312c3e": {
      "model_module": "@jupyter-widgets/base",
      "model_module_version": "1.1.0",
      "model_name": "LayoutModel",
      "state": {
       "width": "250px"
      }
     },
     "88d6ffae1aa94bb9a916e2be9a2c9e69": {
      "model_module": "@jupyter-widgets/controls",
      "model_module_version": "1.4.0",
      "model_name": "HTMLModel",
      "state": {
       "layout": "IPY_MODEL_091834a9cf1145159593f64df376215b",
       "style": "IPY_MODEL_3eadefcad48247b6b98a73c1bf8a0128",
       "value": "<h4 style=\"font-size:14px;\">Von welchem Satzteil wird diese Position gefüllt, wenn die Konjunktion fehlt?</h4>"
      }
     },
     "88f1cdf6782840669e5659177cab36cf": {
      "model_module": "@jupyter-widgets/controls",
      "model_module_version": "1.4.0",
      "model_name": "VBoxModel",
      "state": {
       "children": [
        "IPY_MODEL_61d6e685894045a493b877dfca74c9bf",
        "IPY_MODEL_ecb970ec53224a84b6013c309c9449cc",
        "IPY_MODEL_70bb28aa3ac34cf380feb0629fec1ff6",
        "IPY_MODEL_6d499f00b0ba4bfa870750e66162e630"
       ],
       "layout": "IPY_MODEL_9a17cec2adf241758a44321b1c3593ba"
      }
     },
     "891efbf91cf44a2c86952386aadc9ad7": {
      "model_module": "@jupyter-widgets/controls",
      "model_module_version": "1.4.0",
      "model_name": "DescriptionStyleModel",
      "state": {
       "description_width": ""
      }
     },
     "891fdb6285d843ac9caddd5a9bc56ceb": {
      "model_module": "@jupyter-widgets/base",
      "model_module_version": "1.1.0",
      "model_name": "LayoutModel",
      "state": {
       "width": "250px"
      }
     },
     "89415828f1d844f4bee24e27577c906e": {
      "model_module": "@jupyter-widgets/base",
      "model_module_version": "1.1.0",
      "model_name": "LayoutModel",
      "state": {}
     },
     "89535d56da434c8595c14a6a4c192590": {
      "model_module": "@jupyter-widgets/controls",
      "model_module_version": "1.4.0",
      "model_name": "VBoxModel",
      "state": {
       "children": [
        "IPY_MODEL_29ebf7ed234346cd9d4996d2dd5710b1",
        "IPY_MODEL_c9fc2aca5e0947619e0f14e113db4e19",
        "IPY_MODEL_e18df4e534be44c0adbd6c2544509882",
        "IPY_MODEL_593d2b21e84b4ec98f0626014f91f610"
       ],
       "layout": "IPY_MODEL_62bd52ef8fef485d883091b94d00cf10"
      }
     },
     "89a04a5742bc4ec2aa9312f042004e77": {
      "model_module": "@jupyter-widgets/controls",
      "model_module_version": "1.4.0",
      "model_name": "ButtonStyleModel",
      "state": {}
     },
     "89aa99fae22c41a38ae035460cca2751": {
      "model_module": "@jupyter-widgets/controls",
      "model_module_version": "1.4.0",
      "model_name": "VBoxModel",
      "state": {
       "children": [
        "IPY_MODEL_4135fe5f61084a57a026005a3969c613",
        "IPY_MODEL_be938a5b173e45bb8293c5a657a6c1e1",
        "IPY_MODEL_0e6727e915934ecb9bc74c396b795103",
        "IPY_MODEL_ba091d05ff5a486b98fd41ef25e3abb3"
       ],
       "layout": "IPY_MODEL_5ef5310e266e497a990744510a87c7dd"
      }
     },
     "89db8a3c0a5b4d4eb9077cf7539c4e0b": {
      "model_module": "@jupyter-widgets/controls",
      "model_module_version": "1.4.0",
      "model_name": "VBoxModel",
      "state": {
       "children": [
        "IPY_MODEL_a811d1c7767e436bb99bf8207d69b03d",
        "IPY_MODEL_be4d606afcd3447482ca5c8f23cd1c85",
        "IPY_MODEL_fa32f6308e6f4c08b808bf137b887aca",
        "IPY_MODEL_cc3d179eb44e48f6bc151482eba0b6d8"
       ],
       "layout": "IPY_MODEL_29a794a177a54c7a8d465b7942d340aa"
      }
     },
     "8a0107126209463e838b599f5463963b": {
      "model_module": "@jupyter-widgets/controls",
      "model_module_version": "1.4.0",
      "model_name": "CheckboxModel",
      "state": {
       "description": "Satzschlusszeichen: Punkt",
       "disabled": false,
       "layout": "IPY_MODEL_8f88e241dfa54ee0b01c54a9c6a0c2c3",
       "style": "IPY_MODEL_6c4848a203984764a93079e5b04e2b4a",
       "value": false
      }
     },
     "8a4e9af777d24293b61db539e112abd3": {
      "model_module": "@jupyter-widgets/controls",
      "model_module_version": "1.4.0",
      "model_name": "ButtonStyleModel",
      "state": {}
     },
     "8a54cd9aff7942f8b9351546131541af": {
      "model_module": "@jupyter-widgets/controls",
      "model_module_version": "1.4.0",
      "model_name": "DescriptionStyleModel",
      "state": {
       "description_width": ""
      }
     },
     "8a5ee90528b345f2ac5c53f35dc0b4af": {
      "model_module": "@jupyter-widgets/base",
      "model_module_version": "1.1.0",
      "model_name": "LayoutModel",
      "state": {
       "width": "600px"
      }
     },
     "8a986cf4a6434d1eaf00c5238a95be8c": {
      "model_module": "@jupyter-widgets/controls",
      "model_module_version": "1.4.0",
      "model_name": "DescriptionStyleModel",
      "state": {
       "description_width": ""
      }
     },
     "8b2e94d1f7814936a103e6e4f2cab473": {
      "model_module": "@jupyter-widgets/controls",
      "model_module_version": "1.4.0",
      "model_name": "VBoxModel",
      "state": {
       "children": [
        "IPY_MODEL_f41a540344bc43a0baca416e06bb3159",
        "IPY_MODEL_0e2a622236344a6ba65080102d490d1d",
        "IPY_MODEL_848df2396ed845029e09822836b25842",
        "IPY_MODEL_f99e6424825040e4bcf95d6662ca2a27"
       ],
       "layout": "IPY_MODEL_90caae4c5b814333a5902fac8abaf2a6"
      }
     },
     "8b54edb3c8a74baaa89cc7bf0fee4285": {
      "model_module": "@jupyter-widgets/base",
      "model_module_version": "1.1.0",
      "model_name": "LayoutModel",
      "state": {
       "justify_content": "center"
      }
     },
     "8b5af272c46546099a06175fd609d8c9": {
      "model_module": "@jupyter-widgets/controls",
      "model_module_version": "1.4.0",
      "model_name": "CheckboxModel",
      "state": {
       "description": "ihm",
       "disabled": false,
       "layout": "IPY_MODEL_e738d44609554c09a93502c3f1b0daf1",
       "style": "IPY_MODEL_8b75e2ab5aac4b2d89a28cd52a124c99",
       "value": false
      }
     },
     "8b75e2ab5aac4b2d89a28cd52a124c99": {
      "model_module": "@jupyter-widgets/controls",
      "model_module_version": "1.4.0",
      "model_name": "DescriptionStyleModel",
      "state": {
       "description_width": "initial"
      }
     },
     "8b8dccc42cb442f0a80930b835b5ebd1": {
      "model_module": "@jupyter-widgets/controls",
      "model_module_version": "1.4.0",
      "model_name": "VBoxModel",
      "state": {
       "children": [
        "IPY_MODEL_21722cef52024c8d9ce2e7cc165f45fd",
        "IPY_MODEL_414127f9e5b34b71914a84a3ccce5a79",
        "IPY_MODEL_439cf93d783d40e799a1e3716a757d6e",
        "IPY_MODEL_295b1b31affd4dbdac81e4991cf1dea0"
       ],
       "layout": "IPY_MODEL_e148ffec88904117a29e56ca0d32c9c7"
      }
     },
     "8c25c967940b40a5af48a84d7456ffbf": {
      "model_module": "@jupyter-widgets/controls",
      "model_module_version": "1.4.0",
      "model_name": "DescriptionStyleModel",
      "state": {
       "description_width": "initial"
      }
     },
     "8c3a2b45318a4f36ab9d9d8505288067": {
      "model_module": "@jupyter-widgets/controls",
      "model_module_version": "1.4.0",
      "model_name": "DescriptionStyleModel",
      "state": {
       "description_width": ""
      }
     },
     "8c3b042b9bad4c4b8fca484b22eeaa54": {
      "model_module": "@jupyter-widgets/base",
      "model_module_version": "1.1.0",
      "model_name": "LayoutModel",
      "state": {
       "width": "600px"
      }
     },
     "8c43f3d85fae4affa9a689dd20a53438": {
      "model_module": "@jupyter-widgets/controls",
      "model_module_version": "1.4.0",
      "model_name": "HTMLModel",
      "state": {
       "layout": "IPY_MODEL_256451fea9fd4a4a9fe7282f200a2ac9",
       "style": "IPY_MODEL_3aee60a759b34caba09f24f81f2bac07",
       "value": "<h4 style=\"font-size:14px;\">Wie läßt sich dieser Satztyp klassifizieren?</h4>"
      }
     },
     "8cea8389ce9d4ffb929351d08430ca40": {
      "model_module": "@jupyter-widgets/controls",
      "model_module_version": "1.4.0",
      "model_name": "ButtonModel",
      "state": {
       "description": "Satz 1",
       "layout": "IPY_MODEL_ec3f8437f37740819194e43dbaba56e9",
       "style": "IPY_MODEL_2393b67ac8974a98be3bb320724969c7"
      }
     },
     "8e1b99be18fc425fad417468dc327545": {
      "model_module": "@jupyter-widgets/controls",
      "model_module_version": "1.4.0",
      "model_name": "CheckboxModel",
      "state": {
       "description": "das",
       "disabled": false,
       "layout": "IPY_MODEL_c9f2dfbc2e95495195b96cd2b5ffd1ca",
       "style": "IPY_MODEL_5c5f61718a24456aa3dec468bd7355a5",
       "value": false
      }
     },
     "8e1e63cc078f4c0299ca2cb73fde4efc": {
      "model_module": "@jupyter-widgets/controls",
      "model_module_version": "1.4.0",
      "model_name": "ButtonStyleModel",
      "state": {}
     },
     "8e70042cc2d44b9eab8b0966cc5e5159": {
      "model_module": "@jupyter-widgets/base",
      "model_module_version": "1.1.0",
      "model_name": "LayoutModel",
      "state": {
       "width": "250px"
      }
     },
     "8ea5937b55074122abf431e634c443f3": {
      "model_module": "@jupyter-widgets/controls",
      "model_module_version": "1.4.0",
      "model_name": "VBoxModel",
      "state": {
       "children": [
        "IPY_MODEL_3c5a872117fc4d29a5c98e55907b14c2",
        "IPY_MODEL_05b8d2beca124fcd95ceb6cdd6e988e6",
        "IPY_MODEL_6f0a8694563a4d6fbe2174c2d6ce03b8",
        "IPY_MODEL_09892aa53927487b9777b9b6a5ee0f7d"
       ],
       "layout": "IPY_MODEL_f49fb45fb13742e1a373de913124e3c9"
      }
     },
     "8ec6d8e7d75b4a2c88c0f9052b3ddf2a": {
      "model_module": "@jupyter-widgets/controls",
      "model_module_version": "1.4.0",
      "model_name": "ButtonModel",
      "state": {
       "description": "koordiniert",
       "layout": "IPY_MODEL_0f29c654256541fa9390cfdcb42149dc",
       "style": "IPY_MODEL_3b3b301a13b74aae801590018fe70021"
      }
     },
     "8ee8efb8bdc14f5b8f67b908c01b64d8": {
      "model_module": "@jupyter-widgets/controls",
      "model_module_version": "1.4.0",
      "model_name": "DescriptionStyleModel",
      "state": {
       "description_width": ""
      }
     },
     "8f88e241dfa54ee0b01c54a9c6a0c2c3": {
      "model_module": "@jupyter-widgets/base",
      "model_module_version": "1.1.0",
      "model_name": "LayoutModel",
      "state": {
       "width": "600px"
      }
     },
     "8f9ae06108764ae28b26c341425e58b2": {
      "model_module": "@jupyter-widgets/base",
      "model_module_version": "1.1.0",
      "model_name": "LayoutModel",
      "state": {
       "justify_content": "center"
      }
     },
     "8ff1e52abbca4191b2a5297816795957": {
      "model_module": "@jupyter-widgets/base",
      "model_module_version": "1.1.0",
      "model_name": "LayoutModel",
      "state": {
       "width": "500px"
      }
     },
     "8ffdd758ca814808bcb901d8f7c696a8": {
      "model_module": "@jupyter-widgets/controls",
      "model_module_version": "1.4.0",
      "model_name": "DescriptionStyleModel",
      "state": {
       "description_width": "initial"
      }
     },
     "902e545e644b4acbbd357f8795072a0a": {
      "model_module": "@jupyter-widgets/controls",
      "model_module_version": "1.4.0",
      "model_name": "DescriptionStyleModel",
      "state": {
       "description_width": "initial"
      }
     },
     "905adf802dd24ad0a1efb1cf8bd4f633": {
      "model_module": "@jupyter-widgets/controls",
      "model_module_version": "1.4.0",
      "model_name": "HTMLModel",
      "state": {
       "layout": "IPY_MODEL_8396e1e6661445c0924d23662078dfe8",
       "style": "IPY_MODEL_16faffe4a7b844658bb66ea8f972ec0f",
       "value": "<i>Wählen Sie die <ins>eine</ins> korrekte Antwort aus: </i>"
      }
     },
     "906ec493e1e842b78da6736f7587262e": {
      "model_module": "@jupyter-widgets/controls",
      "model_module_version": "1.4.0",
      "model_name": "CheckboxModel",
      "state": {
       "description": "sein",
       "disabled": false,
       "layout": "IPY_MODEL_ce6bcaf884ee4a7686ab2c1da729a2b0",
       "style": "IPY_MODEL_9265d02fcce64c4895590d5b2d9eb6c7",
       "value": false
      }
     },
     "90c049d33659475d9f3a0e69e7369d22": {
      "model_module": "@jupyter-widgets/controls",
      "model_module_version": "1.4.0",
      "model_name": "ButtonModel",
      "state": {
       "description": "koordiniert",
       "layout": "IPY_MODEL_d2a2b83984d34a779141f332b2efe9e4",
       "style": "IPY_MODEL_e7d165d2d41b4c0b92e2883accefc836"
      }
     },
     "90caae4c5b814333a5902fac8abaf2a6": {
      "model_module": "@jupyter-widgets/base",
      "model_module_version": "1.1.0",
      "model_name": "LayoutModel",
      "state": {}
     },
     "910d650ca2154e5eb93cf29a222c6aef": {
      "model_module": "@jupyter-widgets/controls",
      "model_module_version": "1.4.0",
      "model_name": "DescriptionStyleModel",
      "state": {
       "description_width": "initial"
      }
     },
     "91352bd4a581429698d473795508f29c": {
      "model_module": "@jupyter-widgets/controls",
      "model_module_version": "1.4.0",
      "model_name": "DescriptionStyleModel",
      "state": {
       "description_width": ""
      }
     },
     "918a5afcc94244b49e770ea79258b0c2": {
      "model_module": "@jupyter-widgets/base",
      "model_module_version": "1.1.0",
      "model_name": "LayoutModel",
      "state": {
       "justify_content": "center"
      }
     },
     "91cb96467b91439f8bf3fb05211351de": {
      "model_module": "@jupyter-widgets/controls",
      "model_module_version": "1.4.0",
      "model_name": "ButtonStyleModel",
      "state": {}
     },
     "91f93afa431945fbb5b7288eb39ac7f3": {
      "model_module": "@jupyter-widgets/controls",
      "model_module_version": "1.4.0",
      "model_name": "ButtonStyleModel",
      "state": {}
     },
     "921573acf0e34150bc49934f1ac783a4": {
      "model_module": "@jupyter-widgets/controls",
      "model_module_version": "1.4.0",
      "model_name": "ButtonModel",
      "state": {
       "description": "Korrekt?",
       "layout": "IPY_MODEL_b5ed2f2755734fb8b44f9a9afaccf228",
       "style": "IPY_MODEL_fa90353f1d3f4261a3dd84366cff68fa"
      }
     },
     "9234b78b230a43c2b07c927fd94c6c12": {
      "model_module": "@jupyter-widgets/base",
      "model_module_version": "1.1.0",
      "model_name": "LayoutModel",
      "state": {
       "width": "250px"
      }
     },
     "925695d8c7b449dc944d0f37b4112002": {
      "model_module": "@jupyter-widgets/base",
      "model_module_version": "1.1.0",
      "model_name": "LayoutModel",
      "state": {
       "width": "500px"
      }
     },
     "9265d02fcce64c4895590d5b2d9eb6c7": {
      "model_module": "@jupyter-widgets/controls",
      "model_module_version": "1.4.0",
      "model_name": "DescriptionStyleModel",
      "state": {
       "description_width": "initial"
      }
     },
     "9268ae1222ab497186ff0ff3633ff5c9": {
      "model_module": "@jupyter-widgets/controls",
      "model_module_version": "1.4.0",
      "model_name": "DescriptionStyleModel",
      "state": {
       "description_width": ""
      }
     },
     "92f241ca0cc3449dacb009c3f04343f5": {
      "model_module": "@jupyter-widgets/controls",
      "model_module_version": "1.4.0",
      "model_name": "ButtonModel",
      "state": {
       "description": "Keine der anderen Möglichkeiten",
       "layout": "IPY_MODEL_dde98260a57547bd8af5ce3bfe5359e4",
       "style": "IPY_MODEL_61701262de514d78b1e55fe91261d4dd"
      }
     },
     "93023d32264a456c8435b56acdb9a955": {
      "model_module": "@jupyter-widgets/controls",
      "model_module_version": "1.4.0",
      "model_name": "DescriptionStyleModel",
      "state": {
       "description_width": ""
      }
     },
     "932be4a138ee4ea788e5681df033596d": {
      "model_module": "@jupyter-widgets/controls",
      "model_module_version": "1.4.0",
      "model_name": "VBoxModel",
      "state": {
       "children": [
        "IPY_MODEL_802fcfa54aa14a27a832e3a5f2f82512",
        "IPY_MODEL_754d8929480e4762944a9d67c1808b7f",
        "IPY_MODEL_9a32a945d91649a89094c96def46fec7",
        "IPY_MODEL_16d79d26119542d585bb8f760cb637dc",
        "IPY_MODEL_c7fccecd29f54549a14593b0766cf0fc"
       ],
       "layout": "IPY_MODEL_041dcf67122a4b7882127a86efeb95ed"
      }
     },
     "9353df7152e948d9af0519dd257131ae": {
      "model_module": "@jupyter-widgets/controls",
      "model_module_version": "1.4.0",
      "model_name": "HTMLModel",
      "state": {
       "layout": "IPY_MODEL_cc37a3fe233942b0afaf0d30c1e8753a",
       "style": "IPY_MODEL_703b05773ea94259bbbc7cc31fe5167c",
       "value": "<h4 style=\"font-size:14px;\">Welche Wörter stehen im Vorfeld?</h4>"
      }
     },
     "938ba9c2dc004b8bba0cfe42735b9de7": {
      "model_module": "@jupyter-widgets/controls",
      "model_module_version": "1.4.0",
      "model_name": "HTMLModel",
      "state": {
       "layout": "IPY_MODEL_a5d90906763a4b0193c7ef441126b332",
       "style": "IPY_MODEL_45c9d6a2f605497d821fa1f40e8184be",
       "value": "<i>Wählen Sie die <ins>eine</ins> korrekte Antwort aus: </i>"
      }
     },
     "93a1a58591f541d4a71f1fe13cfa91d7": {
      "model_module": "@jupyter-widgets/base",
      "model_module_version": "1.1.0",
      "model_name": "LayoutModel",
      "state": {
       "justify_content": "center"
      }
     },
     "93ce1ffa62d3464d921c2bbb435da6c0": {
      "model_module": "@jupyter-widgets/controls",
      "model_module_version": "1.4.0",
      "model_name": "CheckboxModel",
      "state": {
       "description": "satzwertiger Nominalmodifikator (<code>acl</code>): <i>der amtierende Präsident</i>",
       "disabled": false,
       "layout": "IPY_MODEL_3cc84910d4c14ed4b573edd703856e06",
       "style": "IPY_MODEL_a4f33cf28deb43efb14754844b98a7c3",
       "value": false
      }
     },
     "94209af7a38844f48eeaa97ded4c98dc": {
      "model_module": "@jupyter-widgets/controls",
      "model_module_version": "1.4.0",
      "model_name": "DescriptionStyleModel",
      "state": {
       "description_width": ""
      }
     },
     "9529d82ca450451a921b8d609376714a": {
      "model_module": "@jupyter-widgets/controls",
      "model_module_version": "1.4.0",
      "model_name": "ButtonStyleModel",
      "state": {}
     },
     "953612de12af4658aa02136b4f7d3471": {
      "model_module": "@jupyter-widgets/controls",
      "model_module_version": "1.4.0",
      "model_name": "ButtonModel",
      "state": {
       "description": "Subjektkontrolle",
       "layout": "IPY_MODEL_98ca45d9dbaa414eb0310a754183067b",
       "style": "IPY_MODEL_36063001370949ce91150a8c5464ce0a"
      }
     },
     "957be716b3a44954b073a5e278680083": {
      "model_module": "@jupyter-widgets/base",
      "model_module_version": "1.1.0",
      "model_name": "LayoutModel",
      "state": {
       "width": "250px"
      }
     },
     "958f9ff256bb4b79bc3b69c0a73541fe": {
      "model_module": "@jupyter-widgets/base",
      "model_module_version": "1.1.0",
      "model_name": "LayoutModel",
      "state": {}
     },
     "95b5b201276e480f924ef031cb4993ec": {
      "model_module": "@jupyter-widgets/base",
      "model_module_version": "1.1.0",
      "model_name": "LayoutModel",
      "state": {
       "width": "250px"
      }
     },
     "95fbf98d3b1646339c5a72cbc97270ed": {
      "model_module": "@jupyter-widgets/base",
      "model_module_version": "1.1.0",
      "model_name": "LayoutModel",
      "state": {
       "width": "250px"
      }
     },
     "960661bc11aa4c71ad2722b9de5af591": {
      "model_module": "@jupyter-widgets/controls",
      "model_module_version": "1.4.0",
      "model_name": "DescriptionStyleModel",
      "state": {
       "description_width": "initial"
      }
     },
     "9618f3b143eb4cb3b748a7fd9b0bb679": {
      "model_module": "@jupyter-widgets/controls",
      "model_module_version": "1.4.0",
      "model_name": "VBoxModel",
      "state": {
       "children": [
        "IPY_MODEL_5b87d1c9daba40daa5e9c34ed2019ccd",
        "IPY_MODEL_3933ed2d047e4b49af1f685115f1fe4d",
        "IPY_MODEL_e675562ff6bd4084b1d00d7822e0b41b",
        "IPY_MODEL_278b366e34724233bf597911139ce8fb"
       ],
       "layout": "IPY_MODEL_824d5a9bd66f4fb99e0f6bcdf46027c2"
      }
     },
     "9639412f05da4bd181552ceecea0f142": {
      "model_module": "@jupyter-widgets/base",
      "model_module_version": "1.1.0",
      "model_name": "LayoutModel",
      "state": {
       "width": "250px"
      }
     },
     "964fe2a33b854d9fa7630316023f5caf": {
      "model_module": "@jupyter-widgets/controls",
      "model_module_version": "1.4.0",
      "model_name": "HTMLModel",
      "state": {
       "layout": "IPY_MODEL_f6bd857a2f1943e794fdad7ab56ee29d",
       "style": "IPY_MODEL_d75c848e2120404d8040ec5dc7fba3a2",
       "value": "<h4 style=\"font-size:14px;\">Welcher eingebettete Satztyp liegt vor?</h4>"
      }
     },
     "968c10a5ab9e4ebca6549a55beff2767": {
      "model_module": "@jupyter-widgets/base",
      "model_module_version": "1.1.0",
      "model_name": "LayoutModel",
      "state": {
       "width": "250px"
      }
     },
     "96aaff7d479340efa68e72cb965086a2": {
      "model_module": "@jupyter-widgets/base",
      "model_module_version": "1.1.0",
      "model_name": "LayoutModel",
      "state": {
       "width": "600px"
      }
     },
     "9702fa7965e94594ab20ae2f3d4d2c26": {
      "model_module": "@jupyter-widgets/base",
      "model_module_version": "1.1.0",
      "model_name": "LayoutModel",
      "state": {
       "width": "250px"
      }
     },
     "973dc66b1c4045cf940e48608dfae697": {
      "model_module": "@jupyter-widgets/controls",
      "model_module_version": "1.4.0",
      "model_name": "ButtonModel",
      "state": {
       "description": "Korrekt?",
       "layout": "IPY_MODEL_f2bd520cbe484796a81f0d8e083048af",
       "style": "IPY_MODEL_36806c617f494a29b9ec364765414580"
      }
     },
     "97bb7bce0a804c8dbaecda5e1a6cd35f": {
      "model_module": "@jupyter-widgets/controls",
      "model_module_version": "1.4.0",
      "model_name": "HTMLModel",
      "state": {
       "layout": "IPY_MODEL_7fe2e9c9efaa4903b1fd7c13628407c0",
       "style": "IPY_MODEL_3beeebf4f40d45ec80c8c7fa39c4aad0",
       "value": "<h4 style=\"font-size:14px;\">Welche Attributsatztypen haben Sie in der Vorlesung kennengelernt?</h4>"
      }
     },
     "97bdfd0125c549b6ba468d3de68b84c0": {
      "model_module": "@jupyter-widgets/base",
      "model_module_version": "1.1.0",
      "model_name": "LayoutModel",
      "state": {}
     },
     "97ee4df1f4384d938c012b239c5793fd": {
      "model_module": "@jupyter-widgets/controls",
      "model_module_version": "1.4.0",
      "model_name": "HBoxModel",
      "state": {
       "children": [
        "IPY_MODEL_90c049d33659475d9f3a0e69e7369d22",
        "IPY_MODEL_f7f3b5520ef94094abf50a1367b374b9"
       ],
       "layout": "IPY_MODEL_66e9e8434930467ca61d41732b2be9c2"
      }
     },
     "97f7b86d68c746c5a60a0bbda1d2e215": {
      "model_module": "@jupyter-widgets/base",
      "model_module_version": "1.1.0",
      "model_name": "LayoutModel",
      "state": {}
     },
     "97fcaafbdc76476e84ff8b03e1bb040f": {
      "model_module": "@jupyter-widgets/base",
      "model_module_version": "1.1.0",
      "model_name": "LayoutModel",
      "state": {}
     },
     "9821fa57e8804d08871c795b2e0ca15d": {
      "model_module": "@jupyter-widgets/controls",
      "model_module_version": "1.4.0",
      "model_name": "HTMLModel",
      "state": {
       "layout": "IPY_MODEL_63f6f32ed7104b3baef02400b54dd510",
       "style": "IPY_MODEL_6093099c70b447899a363df9a9ff14df",
       "value": "<h4 style=\"font-size:14px;\">Um welche Satzart handelt es sich bei Satz 3?</h4>"
      }
     },
     "983616dd372f484eba177ad0d59d16ee": {
      "model_module": "@jupyter-widgets/controls",
      "model_module_version": "1.4.0",
      "model_name": "HTMLModel",
      "state": {
       "layout": "IPY_MODEL_cb8b8d520b9541b78f6fbfc892670616",
       "style": "IPY_MODEL_6edab403d30e4acfbf8235785d8194ea",
       "value": "<i>Wählen Sie die <ins>eine</ins> korrekte Antwort aus: </i>"
      }
     },
     "985598033f9f4dd39e7f3e880c82a885": {
      "model_module": "@jupyter-widgets/controls",
      "model_module_version": "1.4.0",
      "model_name": "DescriptionStyleModel",
      "state": {
       "description_width": "initial"
      }
     },
     "98798ab998b14e24b376ca9bb813e702": {
      "model_module": "@jupyter-widgets/base",
      "model_module_version": "1.1.0",
      "model_name": "LayoutModel",
      "state": {
       "width": "600px"
      }
     },
     "98b8e3b072444c7ab71af7a8c7ab2a2e": {
      "model_module": "@jupyter-widgets/controls",
      "model_module_version": "1.4.0",
      "model_name": "HTMLModel",
      "state": {
       "layout": "IPY_MODEL_2daa75cd35984078a8690936be9bd527",
       "style": "IPY_MODEL_82e24f3931d648c2ad459e263d4cc454",
       "value": "<h4 style=\"font-size:14px;\">Was ist <i>als sie ...</i> semantisch für ein Satz?</h4>"
      }
     },
     "98ca45d9dbaa414eb0310a754183067b": {
      "model_module": "@jupyter-widgets/base",
      "model_module_version": "1.1.0",
      "model_name": "LayoutModel",
      "state": {
       "width": "250px"
      }
     },
     "9910497454b84fbbaf0012479e4626db": {
      "model_module": "@jupyter-widgets/controls",
      "model_module_version": "1.4.0",
      "model_name": "HTMLModel",
      "state": {
       "layout": "IPY_MODEL_918a5afcc94244b49e770ea79258b0c2",
       "style": "IPY_MODEL_ff435f824d6c4487a1b7ae5a3f5ab0b9",
       "value": "<h4 style=\"font-size:14px;\">Was für eine Satzkonstruktion liegt hier vor?</h4>"
      }
     },
     "99208e964f5c4952aa87d654bd943e9e": {
      "model_module": "@jupyter-widgets/base",
      "model_module_version": "1.1.0",
      "model_name": "LayoutModel",
      "state": {}
     },
     "99398d6e50cf4b97a47b2f02de744a18": {
      "model_module": "@jupyter-widgets/base",
      "model_module_version": "1.1.0",
      "model_name": "LayoutModel",
      "state": {
       "width": "600px"
      }
     },
     "99642a1640e8452f9063fab931d0f4c5": {
      "model_module": "@jupyter-widgets/base",
      "model_module_version": "1.1.0",
      "model_name": "LayoutModel",
      "state": {}
     },
     "996852ed8cab4ba7a1702bc89aa46e81": {
      "model_module": "@jupyter-widgets/controls",
      "model_module_version": "1.4.0",
      "model_name": "HTMLModel",
      "state": {
       "layout": "IPY_MODEL_7a920af3ed4c494383c8cd37c88b7374",
       "style": "IPY_MODEL_e7391a228bfb4112b8f2d6d2987dfa78",
       "value": "<h4 style=\"font-size:14px;\">Wann ist die Konstituentenverbindung <i>Satzglied + infinites Verb</i> im Vorfeld inakzeptabel?</h4>"
      }
     },
     "997ee96eddfc44189a1f7683056c49da": {
      "model_module": "@jupyter-widgets/controls",
      "model_module_version": "1.4.0",
      "model_name": "HTMLModel",
      "state": {
       "layout": "IPY_MODEL_b137b119887444f491b881f760ba3ca4",
       "style": "IPY_MODEL_3e88a059f2524ed98f9b7a385496631d",
       "value": "<i>Markieren Sie <ins>alle</ins> passenden Antworten: </i>"
      }
     },
     "999465b645bc41abb0931578914ccfc1": {
      "model_module": "@jupyter-widgets/controls",
      "model_module_version": "1.4.0",
      "model_name": "CheckboxModel",
      "state": {
       "description": "sein",
       "disabled": false,
       "layout": "IPY_MODEL_7a1962fc5d914a69ba750dfbb723c938",
       "style": "IPY_MODEL_0e8df13f505e49379a3a7e816872d083",
       "value": false
      }
     },
     "99a827cf21274da1bca91cdcc268f326": {
      "model_module": "@jupyter-widgets/controls",
      "model_module_version": "1.4.0",
      "model_name": "DescriptionStyleModel",
      "state": {
       "description_width": ""
      }
     },
     "99adcf3cf2024f5b947cee85df26806d": {
      "model_module": "@jupyter-widgets/base",
      "model_module_version": "1.1.0",
      "model_name": "LayoutModel",
      "state": {}
     },
     "99e354c7e1c445399da204a82017fc2c": {
      "model_module": "@jupyter-widgets/base",
      "model_module_version": "1.1.0",
      "model_name": "LayoutModel",
      "state": {
       "justify_content": "center"
      }
     },
     "9a1724650760411baedec1ab80bd4a1c": {
      "model_module": "@jupyter-widgets/controls",
      "model_module_version": "1.4.0",
      "model_name": "CheckboxModel",
      "state": {
       "description": "Ein Lied gesungen",
       "disabled": false,
       "layout": "IPY_MODEL_6f068f1acf5f4f2cb54aa9c415baa845",
       "style": "IPY_MODEL_3985d5a250954ed58383716d8d8b5fb5",
       "value": false
      }
     },
     "9a17cec2adf241758a44321b1c3593ba": {
      "model_module": "@jupyter-widgets/base",
      "model_module_version": "1.1.0",
      "model_name": "LayoutModel",
      "state": {}
     },
     "9a181e87f76d4b8f8e4b4769181f3916": {
      "model_module": "@jupyter-widgets/base",
      "model_module_version": "1.1.0",
      "model_name": "LayoutModel",
      "state": {
       "width": "600px"
      }
     },
     "9a32a945d91649a89094c96def46fec7": {
      "model_module": "@jupyter-widgets/controls",
      "model_module_version": "1.4.0",
      "model_name": "CheckboxModel",
      "state": {
       "description": "Vorfeld",
       "disabled": false,
       "layout": "IPY_MODEL_c8e130cd6ea44bbf879c1fe1ad618662",
       "style": "IPY_MODEL_7e079bd48815445c906f82732f8c2f85",
       "value": false
      }
     },
     "9a37c3eb9bea42ee9c35f54f524d1429": {
      "model_module": "@jupyter-widgets/controls",
      "model_module_version": "1.4.0",
      "model_name": "HBoxModel",
      "state": {
       "children": [
        "IPY_MODEL_2b92a54382864d0592bac71d7999f9c9",
        "IPY_MODEL_43ac72078c964a02850457bbfe5771f6"
       ],
       "layout": "IPY_MODEL_69a62138b24b44a0ab3a34c9cb73fa0e"
      }
     },
     "9a58bc33b91147beb55a852a027d979b": {
      "model_module": "@jupyter-widgets/controls",
      "model_module_version": "1.4.0",
      "model_name": "CheckboxModel",
      "state": {
       "description": "Satzschlusszeichen: Fragezeichen",
       "disabled": false,
       "layout": "IPY_MODEL_edc85a0f5ff74c73ba36ad544e4a3cb6",
       "style": "IPY_MODEL_dab316383b7d487093e6f3e2ec9c2cb5",
       "value": false
      }
     },
     "9a7b37460026420ea9c5643c41160a32": {
      "model_module": "@jupyter-widgets/base",
      "model_module_version": "1.1.0",
      "model_name": "LayoutModel",
      "state": {}
     },
     "9a97cd4071894e7b8c2bebc7d5b9a198": {
      "model_module": "@jupyter-widgets/controls",
      "model_module_version": "1.4.0",
      "model_name": "HTMLModel",
      "state": {
       "layout": "IPY_MODEL_40c9a9a25fd344a3ba5f549bcd4e89da",
       "style": "IPY_MODEL_a347e09aa4cf4b979ba52fd6207ea7fd",
       "value": "<i>Wählen Sie die <ins>eine</ins> korrekte Antwort aus: </i>"
      }
     },
     "9ae368f0eba649778097edd1568a0838": {
      "model_module": "@jupyter-widgets/controls",
      "model_module_version": "1.4.0",
      "model_name": "DescriptionStyleModel",
      "state": {
       "description_width": ""
      }
     },
     "9ae5a9c8f6744a19b312feb65a831a21": {
      "model_module": "@jupyter-widgets/base",
      "model_module_version": "1.1.0",
      "model_name": "LayoutModel",
      "state": {
       "justify_content": "center"
      }
     },
     "9af9b5cd82034638b2bf72e950a822bb": {
      "model_module": "@jupyter-widgets/controls",
      "model_module_version": "1.4.0",
      "model_name": "DescriptionStyleModel",
      "state": {
       "description_width": "initial"
      }
     },
     "9b01a6ff1fcc4879b6979168ced6d3d8": {
      "model_module": "@jupyter-widgets/base",
      "model_module_version": "1.1.0",
      "model_name": "LayoutModel",
      "state": {
       "justify_content": "center"
      }
     },
     "9bcfb55c8910436ab472ddeb703dc033": {
      "model_module": "@jupyter-widgets/base",
      "model_module_version": "1.1.0",
      "model_name": "LayoutModel",
      "state": {
       "width": "500px"
      }
     },
     "9c0f483585a04572b7451e0ba23ac57b": {
      "model_module": "@jupyter-widgets/controls",
      "model_module_version": "1.4.0",
      "model_name": "HTMLModel",
      "state": {
       "layout": "IPY_MODEL_6aa9914176f7470b83197a6e7839886a",
       "style": "IPY_MODEL_0f3cf1fac005417db4df9902f9ffee64",
       "value": "<h4 style=\"font-size:14px;\">Welche übergeordnete Konstituente läßt sich im Fall des erfolgreichen Permutationstests durch gemeinsame Verschiebung ins Vorfeld feststellen?</h4>"
      }
     },
     "9c1c1665b3644e02b97b361bc8a208e5": {
      "model_module": "@jupyter-widgets/base",
      "model_module_version": "1.1.0",
      "model_name": "LayoutModel",
      "state": {
       "justify_content": "center"
      }
     },
     "9c6cf7a85a744e82a27ff233a7faf1f5": {
      "model_module": "@jupyter-widgets/controls",
      "model_module_version": "1.4.0",
      "model_name": "HTMLModel",
      "state": {
       "layout": "IPY_MODEL_b4c53752f91c468ca06cd6a5b4f4dacb",
       "style": "IPY_MODEL_61341901d86b4d31b2bffaba13527d59",
       "value": "<i>Markieren Sie <ins>alle</ins> passenden Antworten: </i>"
      }
     },
     "9c703c4991f54749938538d359bee32d": {
      "model_module": "@jupyter-widgets/controls",
      "model_module_version": "1.4.0",
      "model_name": "HTMLModel",
      "state": {
       "layout": "IPY_MODEL_488bbd3c694342a3a7660249f3973df5",
       "style": "IPY_MODEL_729812e590134b53a97c6e11049a16f6",
       "value": "<h4 style=\"font-size:14px;\">Was für eine Satzkonstruktion liegt hier vor?</h4>"
      }
     },
     "9cb1ae0af84a4bfaad9d243193672f12": {
      "model_module": "@jupyter-widgets/base",
      "model_module_version": "1.1.0",
      "model_name": "LayoutModel",
      "state": {}
     },
     "9cc7089bbdc947958de5f159a8371011": {
      "model_module": "@jupyter-widgets/controls",
      "model_module_version": "1.4.0",
      "model_name": "DescriptionStyleModel",
      "state": {
       "description_width": "initial"
      }
     },
     "9cd4a793037447cc957016611e9c126b": {
      "model_module": "@jupyter-widgets/controls",
      "model_module_version": "1.4.0",
      "model_name": "HTMLModel",
      "state": {
       "layout": "IPY_MODEL_d0f00dfdefc945f79bfcee230a708e2c",
       "style": "IPY_MODEL_79e19c867d264dfd8fcce5181c8bc7d1",
       "value": "<h4 style=\"font-size:14px;\">Was für eine Satzkonstruktion liegt hier vor?</h4>"
      }
     },
     "9d2add2630234c6b807b9378fb88269b": {
      "model_module": "@jupyter-widgets/controls",
      "model_module_version": "1.4.0",
      "model_name": "CheckboxModel",
      "state": {
       "description": "Die linke SK ist unbesetzt.",
       "disabled": false,
       "layout": "IPY_MODEL_69e3e88ebeb14d94b81b27fcc8e91d7d",
       "style": "IPY_MODEL_3a365ed3850a4c80870b840616f0e2c7",
       "value": false
      }
     },
     "9d4db4933e2048b69362408ed996fc2f": {
      "model_module": "@jupyter-widgets/controls",
      "model_module_version": "1.4.0",
      "model_name": "CheckboxModel",
      "state": {
       "description": "Vordersatz",
       "disabled": false,
       "layout": "IPY_MODEL_e1817b9aa4214566b1b7e4181bf1f031",
       "style": "IPY_MODEL_1dcd56a61d0940c7b7fa0d3246081bbd",
       "value": false
      }
     },
     "9dc49ad2a6c54e3e8136d41efdc38e00": {
      "model_module": "@jupyter-widgets/base",
      "model_module_version": "1.1.0",
      "model_name": "LayoutModel",
      "state": {}
     },
     "9dd269a106d24a3fb0d37403643302a5": {
      "model_module": "@jupyter-widgets/controls",
      "model_module_version": "1.4.0",
      "model_name": "CheckboxModel",
      "state": {
       "description": "Buch",
       "disabled": false,
       "layout": "IPY_MODEL_23df85859e194ba9a37f8afc76be69fe",
       "style": "IPY_MODEL_8140f09b2da84696beeaaea0771a0e11",
       "value": false
      }
     },
     "9e13f7288421445889e74329d2452202": {
      "model_module": "@jupyter-widgets/controls",
      "model_module_version": "1.4.0",
      "model_name": "ButtonStyleModel",
      "state": {}
     },
     "9e1fd6b18181489b9dd90cabd8a708ac": {
      "model_module": "@jupyter-widgets/base",
      "model_module_version": "1.1.0",
      "model_name": "LayoutModel",
      "state": {
       "justify_content": "center"
      }
     },
     "9e22eacf25244a9d959df80f1a78f048": {
      "model_module": "@jupyter-widgets/controls",
      "model_module_version": "1.4.0",
      "model_name": "HTMLModel",
      "state": {
       "layout": "IPY_MODEL_dba7555cd995498b93c1a10ed7d78b61",
       "style": "IPY_MODEL_484cfb66e83141c4862c96f853a22de0",
       "value": "<h4 style=\"font-size:14px;\">Um was für einen Satz handelt es sich syntaktisch bei <i>damit sie ...</i>?</h4>"
      }
     },
     "9e24359ea7f54f2b9a83bbd12b331035": {
      "model_module": "@jupyter-widgets/controls",
      "model_module_version": "1.4.0",
      "model_name": "HTMLModel",
      "state": {
       "layout": "IPY_MODEL_39deb3334dab422f9d677360fffe6e72",
       "style": "IPY_MODEL_0a6ded0e817347029833c055b3adc6c0",
       "value": "<h4 style=\"font-size:14px;\">Identifizieren Sie das Vorfeld des ersten und das Vorfeld des zweiten Satzes.</h4>"
      }
     },
     "9ea0366bc1254994b5217762e925cafd": {
      "model_module": "@jupyter-widgets/controls",
      "model_module_version": "1.4.0",
      "model_name": "VBoxModel",
      "state": {
       "children": [
        "IPY_MODEL_9e22eacf25244a9d959df80f1a78f048",
        "IPY_MODEL_905adf802dd24ad0a1efb1cf8bd4f633",
        "IPY_MODEL_f1153414f854439f8a8d344b44c13b72",
        "IPY_MODEL_3765a918335a4f41a3348715d61737d2"
       ],
       "layout": "IPY_MODEL_fbfd7be934474d6c964aef017932fc98"
      }
     },
     "9ea1ce61d95e4aa58563a4ba15c0869b": {
      "model_module": "@jupyter-widgets/controls",
      "model_module_version": "1.4.0",
      "model_name": "HTMLModel",
      "state": {
       "layout": "IPY_MODEL_86999844baba40cf9b65d44f46926079",
       "style": "IPY_MODEL_7bdee53bfe1b4b269bf09bbc1ba21cec",
       "value": "<i>Wählen Sie die <ins>eine</ins> korrekte Antwort aus: </i>"
      }
     },
     "9ee864e7c2214367abd1e99b5cb598c6": {
      "model_module": "@jupyter-widgets/base",
      "model_module_version": "1.1.0",
      "model_name": "LayoutModel",
      "state": {
       "justify_content": "center"
      }
     },
     "9f1fbea9a7ec42c385b4cef8d3f638c6": {
      "model_module": "@jupyter-widgets/controls",
      "model_module_version": "1.4.0",
      "model_name": "ButtonModel",
      "state": {
       "description": "Aufforderungssatz",
       "layout": "IPY_MODEL_567b490684004944836f35187d6e5d28",
       "style": "IPY_MODEL_26dd3e9d0536433193ae81eb133da1ae"
      }
     },
     "9f39ef519935457a9906874a8fd294a1": {
      "model_module": "@jupyter-widgets/base",
      "model_module_version": "1.1.0",
      "model_name": "LayoutModel",
      "state": {
       "width": "250px"
      }
     },
     "9f3e592f37c445bea6a0f33096d95569": {
      "model_module": "@jupyter-widgets/base",
      "model_module_version": "1.1.0",
      "model_name": "LayoutModel",
      "state": {
       "width": "250px"
      }
     },
     "9f3ef56da9714c8fbe15acc5965b716e": {
      "model_module": "@jupyter-widgets/controls",
      "model_module_version": "1.4.0",
      "model_name": "HTMLModel",
      "state": {
       "layout": "IPY_MODEL_475dbc14281548f695e7d70856d05f40",
       "style": "IPY_MODEL_1d9b3ba9b0754c6c97c1cdb2a169779a",
       "value": "<i>Wählen Sie die <ins>eine</ins> korrekte Antwort aus: </i>"
      }
     },
     "9f4128cfe5fd4f189191200cde96f387": {
      "model_module": "@jupyter-widgets/controls",
      "model_module_version": "1.4.0",
      "model_name": "DescriptionStyleModel",
      "state": {
       "description_width": "initial"
      }
     },
     "9f44c21641574500adf6ec562dbf2f29": {
      "model_module": "@jupyter-widgets/base",
      "model_module_version": "1.1.0",
      "model_name": "LayoutModel",
      "state": {
       "width": "600px"
      }
     },
     "9f4663ec4f4c456687f249fa9fb5efd7": {
      "model_module": "@jupyter-widgets/controls",
      "model_module_version": "1.4.0",
      "model_name": "ButtonStyleModel",
      "state": {}
     },
     "9f79849082c843ab81cddc30faecb442": {
      "model_module": "@jupyter-widgets/controls",
      "model_module_version": "1.4.0",
      "model_name": "ButtonModel",
      "state": {
       "description": "Keine der anderen Möglichkeiten",
       "layout": "IPY_MODEL_88d3691e1b1b44728995716c1d312c3e",
       "style": "IPY_MODEL_f8c43ab10c8b41638f09a1e3ad652a1c"
      }
     },
     "9fddaa6d01a846be9296abe78605b756": {
      "model_module": "@jupyter-widgets/base",
      "model_module_version": "1.1.0",
      "model_name": "LayoutModel",
      "state": {
       "width": "600px"
      }
     },
     "a043474e7441456bb91c9383e48fe2bf": {
      "model_module": "@jupyter-widgets/controls",
      "model_module_version": "1.4.0",
      "model_name": "DescriptionStyleModel",
      "state": {
       "description_width": "initial"
      }
     },
     "a08a073e1e744ee7a98558a9564c19cf": {
      "model_module": "@jupyter-widgets/controls",
      "model_module_version": "1.4.0",
      "model_name": "CheckboxModel",
      "state": {
       "description": "Weihnachten",
       "disabled": false,
       "layout": "IPY_MODEL_f8fe8f4c15394cbea97b632da75b6885",
       "style": "IPY_MODEL_c139ac8357ef4706a8973ac0087e952b",
       "value": false
      }
     },
     "a0b1acf9151f4d63a2fafe95597fccbb": {
      "model_module": "@jupyter-widgets/base",
      "model_module_version": "1.1.0",
      "model_name": "LayoutModel",
      "state": {
       "width": "250px"
      }
     },
     "a0e4cd82df1649f49711c24c7be9233e": {
      "model_module": "@jupyter-widgets/controls",
      "model_module_version": "1.4.0",
      "model_name": "DescriptionStyleModel",
      "state": {
       "description_width": "initial"
      }
     },
     "a11920e59511457483b3ac12b4ca63d4": {
      "model_module": "@jupyter-widgets/controls",
      "model_module_version": "1.4.0",
      "model_name": "DescriptionStyleModel",
      "state": {
       "description_width": ""
      }
     },
     "a11ea4b66264430d90f88df640c9b397": {
      "model_module": "@jupyter-widgets/controls",
      "model_module_version": "1.4.0",
      "model_name": "DescriptionStyleModel",
      "state": {
       "description_width": "initial"
      }
     },
     "a124f1c961174e629ac84a9f4d2a66c4": {
      "model_module": "@jupyter-widgets/controls",
      "model_module_version": "1.4.0",
      "model_name": "ButtonStyleModel",
      "state": {}
     },
     "a1385836f0714508a006749bc7101ada": {
      "model_module": "@jupyter-widgets/controls",
      "model_module_version": "1.4.0",
      "model_name": "CheckboxModel",
      "state": {
       "description": "Das Mittelfeld ist unbesetzt.",
       "disabled": false,
       "layout": "IPY_MODEL_efcd1d6ac0c4475782dfe093380d41aa",
       "style": "IPY_MODEL_86d8f9dfa915418fa0d523b905d689d7",
       "value": false
      }
     },
     "a147475593ff42d9b50fe6f166e68c28": {
      "model_module": "@jupyter-widgets/base",
      "model_module_version": "1.1.0",
      "model_name": "LayoutModel",
      "state": {}
     },
     "a14d332278984dbb8eb17d5fdee792c5": {
      "model_module": "@jupyter-widgets/controls",
      "model_module_version": "1.4.0",
      "model_name": "ButtonModel",
      "state": {
       "description": "Korrekt?",
       "layout": "IPY_MODEL_ec7d051b7d364e90ba8bf3e5acd56d93",
       "style": "IPY_MODEL_a124f1c961174e629ac84a9f4d2a66c4"
      }
     },
     "a18ecbab57e549d99b5f8f90939a2e1b": {
      "model_module": "@jupyter-widgets/controls",
      "model_module_version": "1.4.0",
      "model_name": "ButtonModel",
      "state": {
       "description": "Korrekt?",
       "layout": "IPY_MODEL_9f39ef519935457a9906874a8fd294a1",
       "style": "IPY_MODEL_2f46302a7d1543dbb2c984dbe904ff88"
      }
     },
     "a27344755362473d876c2b354b78b2bd": {
      "model_module": "@jupyter-widgets/controls",
      "model_module_version": "1.4.0",
      "model_name": "DescriptionStyleModel",
      "state": {
       "description_width": "initial"
      }
     },
     "a27af09380b745deaf61658a809a044d": {
      "model_module": "@jupyter-widgets/base",
      "model_module_version": "1.1.0",
      "model_name": "LayoutModel",
      "state": {
       "justify_content": "center"
      }
     },
     "a28fb551227949fca75382cd397de311": {
      "model_module": "@jupyter-widgets/controls",
      "model_module_version": "1.4.0",
      "model_name": "CheckboxModel",
      "state": {
       "description": "zu",
       "disabled": false,
       "layout": "IPY_MODEL_b951c5e1144a42d18f36305fec8d0c68",
       "style": "IPY_MODEL_0deebdc298a8444e93560d4d0f2cad90",
       "value": false
      }
     },
     "a2b80887dc684ca78fd9b50bf82d0d6c": {
      "model_module": "@jupyter-widgets/controls",
      "model_module_version": "1.4.0",
      "model_name": "HTMLModel",
      "state": {
       "layout": "IPY_MODEL_ce2049d5c424496c92140b3188d88817",
       "style": "IPY_MODEL_4a2a56424d5a42e199e2d6baf4796e53",
       "value": "<i>Wählen Sie die <ins>eine</ins> korrekte Antwort aus: </i>"
      }
     },
     "a2cc4578511749108b850e7abca9ce57": {
      "model_module": "@jupyter-widgets/controls",
      "model_module_version": "1.4.0",
      "model_name": "HTMLModel",
      "state": {
       "layout": "IPY_MODEL_1c4f906956a54811b37f701e2c90c6d4",
       "style": "IPY_MODEL_3f85b76f9b1a4e68816630b0899673ca",
       "value": "<i>Wählen Sie die <ins>eine</ins> korrekte Antwort aus: </i>"
      }
     },
     "a347e09aa4cf4b979ba52fd6207ea7fd": {
      "model_module": "@jupyter-widgets/controls",
      "model_module_version": "1.4.0",
      "model_name": "DescriptionStyleModel",
      "state": {
       "description_width": ""
      }
     },
     "a36b048644634dcc9693a368e794744f": {
      "model_module": "@jupyter-widgets/base",
      "model_module_version": "1.1.0",
      "model_name": "LayoutModel",
      "state": {
       "width": "250px"
      }
     },
     "a430a49b5ce242acbe991daed9ca5987": {
      "model_module": "@jupyter-widgets/base",
      "model_module_version": "1.1.0",
      "model_name": "LayoutModel",
      "state": {
       "justify_content": "center"
      }
     },
     "a43af757f9e044178e1f3342098dbd82": {
      "model_module": "@jupyter-widgets/controls",
      "model_module_version": "1.4.0",
      "model_name": "CheckboxModel",
      "state": {
       "description": "kleine",
       "disabled": false,
       "layout": "IPY_MODEL_053d393097514d3b9bbe6c3fcc2f14a9",
       "style": "IPY_MODEL_794c970ae0464c059c8567f09a56d6c8",
       "value": false
      }
     },
     "a43dc6593eac4a828a3e2cf4557f344a": {
      "model_module": "@jupyter-widgets/controls",
      "model_module_version": "1.4.0",
      "model_name": "ButtonModel",
      "state": {
       "description": "Korrekt?",
       "layout": "IPY_MODEL_36468e8a963e4ce0b6c604b6c21f6e24",
       "style": "IPY_MODEL_2cfa0c417265460ba382b09fd07f969d"
      }
     },
     "a4595612efa046faa4a9ed3826e20ef2": {
      "model_module": "@jupyter-widgets/controls",
      "model_module_version": "1.4.0",
      "model_name": "HTMLModel",
      "state": {
       "layout": "IPY_MODEL_add5f8c65a9c4eda9843dfb891d25b03",
       "style": "IPY_MODEL_2d7381e45fc149d3bec6562fd58a6413",
       "value": "<i>Wählen Sie die <ins>eine</ins> korrekte Antwort aus: </i>"
      }
     },
     "a4f33cf28deb43efb14754844b98a7c3": {
      "model_module": "@jupyter-widgets/controls",
      "model_module_version": "1.4.0",
      "model_name": "DescriptionStyleModel",
      "state": {
       "description_width": "initial"
      }
     },
     "a506a85c160c409780857bebb144b4f9": {
      "model_module": "@jupyter-widgets/controls",
      "model_module_version": "1.4.0",
      "model_name": "CheckboxModel",
      "state": {
       "description": "Junge",
       "disabled": false,
       "layout": "IPY_MODEL_3195b4de15df4eb3ad00c1b80e80f3d3",
       "style": "IPY_MODEL_40fd36a90f5e4e2c8aa8f6b6b0b31551",
       "value": false
      }
     },
     "a511e67518fc4d03a22b610ac4636034": {
      "model_module": "@jupyter-widgets/base",
      "model_module_version": "1.1.0",
      "model_name": "LayoutModel",
      "state": {
       "width": "600px"
      }
     },
     "a52c0a2c68984a75bb13300725d8b1ff": {
      "model_module": "@jupyter-widgets/controls",
      "model_module_version": "1.4.0",
      "model_name": "VBoxModel",
      "state": {
       "children": [
        "IPY_MODEL_73da768fccc645daaf741f547a78820d",
        "IPY_MODEL_c94ef108f663422ea9dff96a999baa54",
        "IPY_MODEL_d4dfb7bd716d4de99b7c3713e6d1c89c",
        "IPY_MODEL_921573acf0e34150bc49934f1ac783a4"
       ],
       "layout": "IPY_MODEL_4e649b3ae45b4a48a4bc016e99667663"
      }
     },
     "a548a70342194c5c89b11f919e2ce839": {
      "model_module": "@jupyter-widgets/controls",
      "model_module_version": "1.4.0",
      "model_name": "ButtonStyleModel",
      "state": {}
     },
     "a54db0cb390349a790164a9681358be9": {
      "model_module": "@jupyter-widgets/base",
      "model_module_version": "1.1.0",
      "model_name": "LayoutModel",
      "state": {}
     },
     "a5633ea63efd47fe8512d3f918f58f64": {
      "model_module": "@jupyter-widgets/controls",
      "model_module_version": "1.4.0",
      "model_name": "VBoxModel",
      "state": {
       "children": [
        "IPY_MODEL_78fe46de9c8b4d1585befc3e0ae80581",
        "IPY_MODEL_542f056c56ef4348a2ad564262908455",
        "IPY_MODEL_6763ccf1cd5b4ff3b40c0e99877507f5"
       ],
       "layout": "IPY_MODEL_4d424ceb6510450484cacf987f385c33"
      }
     },
     "a5d90906763a4b0193c7ef441126b332": {
      "model_module": "@jupyter-widgets/base",
      "model_module_version": "1.1.0",
      "model_name": "LayoutModel",
      "state": {
       "justify_content": "center"
      }
     },
     "a5e4ff53f72847779fe6142e97f8e63d": {
      "model_module": "@jupyter-widgets/controls",
      "model_module_version": "1.4.0",
      "model_name": "VBoxModel",
      "state": {
       "children": [
        "IPY_MODEL_9353df7152e948d9af0519dd257131ae",
        "IPY_MODEL_9c6cf7a85a744e82a27ff233a7faf1f5",
        "IPY_MODEL_f028a59361fa4f1daf42d37eb2b99dcc",
        "IPY_MODEL_973dc66b1c4045cf940e48608dfae697"
       ],
       "layout": "IPY_MODEL_f35c4007c08f4c61b0003457d1b587da"
      }
     },
     "a62623a1d3c640b49c37ee452b1ff241": {
      "model_module": "@jupyter-widgets/controls",
      "model_module_version": "1.4.0",
      "model_name": "VBoxModel",
      "state": {
       "children": [
        "IPY_MODEL_e1a078b730b24e919c918c9c6cbb928f",
        "IPY_MODEL_d500840ac4e740d98b7f1ab2dd9b4daf",
        "IPY_MODEL_25f64b39d8b845a9a9575ff7f4c00827",
        "IPY_MODEL_e70edba8bfed4c9f8b9c3fee5b04b31d"
       ],
       "layout": "IPY_MODEL_77aa2c8115ec4427a6cf928099fd9f68"
      }
     },
     "a63c3ea9992348099538d33602b4f522": {
      "model_module": "@jupyter-widgets/controls",
      "model_module_version": "1.4.0",
      "model_name": "ButtonModel",
      "state": {
       "description": "Aussagesatz",
       "layout": "IPY_MODEL_bb225e87a2584960a3dcdebd81a3b2b4",
       "style": "IPY_MODEL_173524ebac6b4f06a6afac8c8006b62e"
      }
     },
     "a647f1c6b4bf439d86fe2e953491604a": {
      "model_module": "@jupyter-widgets/base",
      "model_module_version": "1.1.0",
      "model_name": "LayoutModel",
      "state": {}
     },
     "a6717b7a3b794056ba3b0fa243edf86b": {
      "model_module": "@jupyter-widgets/controls",
      "model_module_version": "1.4.0",
      "model_name": "DescriptionStyleModel",
      "state": {
       "description_width": ""
      }
     },
     "a6b64d5e02cc46a79def38ac4baa906a": {
      "model_module": "@jupyter-widgets/base",
      "model_module_version": "1.1.0",
      "model_name": "LayoutModel",
      "state": {}
     },
     "a6cc218456054ba287a33f333e085970": {
      "model_module": "@jupyter-widgets/base",
      "model_module_version": "1.1.0",
      "model_name": "LayoutModel",
      "state": {
       "justify_content": "center"
      }
     },
     "a7202aa93aae4c3a92824b785ccc8b44": {
      "model_module": "@jupyter-widgets/controls",
      "model_module_version": "1.4.0",
      "model_name": "HBoxModel",
      "state": {
       "children": [
        "IPY_MODEL_06b055f120164d66b42233772ad41337",
        "IPY_MODEL_53aec3eb00834f1f8d9078631679b3af"
       ],
       "layout": "IPY_MODEL_e0b050b0f8eb4e73a73666643906dbd9"
      }
     },
     "a72891dc89b24b53a7fbcd00721b11b4": {
      "model_module": "@jupyter-widgets/controls",
      "model_module_version": "1.4.0",
      "model_name": "DescriptionStyleModel",
      "state": {
       "description_width": "initial"
      }
     },
     "a74c5849c7ac41199b1bdf2a60a0a439": {
      "model_module": "@jupyter-widgets/controls",
      "model_module_version": "1.4.0",
      "model_name": "ButtonStyleModel",
      "state": {}
     },
     "a756749a6eba47f799325f9fc2b8cf65": {
      "model_module": "@jupyter-widgets/controls",
      "model_module_version": "1.4.0",
      "model_name": "HTMLModel",
      "state": {
       "layout": "IPY_MODEL_26cf5374ceca4cae90beb53bc60db2ae",
       "style": "IPY_MODEL_c4b8d4e3262f470ab4244693040bcdcf",
       "value": "<i>Wählen Sie die <ins>eine</ins> korrekte Antwort aus: </i>"
      }
     },
     "a811d1c7767e436bb99bf8207d69b03d": {
      "model_module": "@jupyter-widgets/controls",
      "model_module_version": "1.4.0",
      "model_name": "HTMLModel",
      "state": {
       "layout": "IPY_MODEL_e8402c19a5314e1a8d96c1bfe4c29b2e",
       "style": "IPY_MODEL_bc8a79d2080d433bb400c7a305739d4d",
       "value": "<h4 style=\"font-size:14px;\">Wieso?</h4>"
      }
     },
     "a8201c256b8c4f938caa8cdb2d1afc90": {
      "model_module": "@jupyter-widgets/base",
      "model_module_version": "1.1.0",
      "model_name": "LayoutModel",
      "state": {}
     },
     "a82c763f73084edfa4a48a0e91cbdcc5": {
      "model_module": "@jupyter-widgets/controls",
      "model_module_version": "1.4.0",
      "model_name": "HBoxModel",
      "state": {
       "children": [
        "IPY_MODEL_fe4f314e57f947ef927a682de55b1977"
       ],
       "layout": "IPY_MODEL_b6b96ad64e984ed99863764d71cb8a4e"
      }
     },
     "a8c8c62bf018493d8c423cfc791de408": {
      "model_module": "@jupyter-widgets/controls",
      "model_module_version": "1.4.0",
      "model_name": "DescriptionStyleModel",
      "state": {
       "description_width": ""
      }
     },
     "a8dfc85dcdd149ad9018109456c9f7cd": {
      "model_module": "@jupyter-widgets/controls",
      "model_module_version": "1.4.0",
      "model_name": "DescriptionStyleModel",
      "state": {
       "description_width": ""
      }
     },
     "a8f0eaeb7cce405e9648cd9251852cd4": {
      "model_module": "@jupyter-widgets/controls",
      "model_module_version": "1.4.0",
      "model_name": "ButtonStyleModel",
      "state": {}
     },
     "a8f38e68f942444484fcf8f5998df451": {
      "model_module": "@jupyter-widgets/controls",
      "model_module_version": "1.4.0",
      "model_name": "DescriptionStyleModel",
      "state": {
       "description_width": "initial"
      }
     },
     "a95114ea735e47d4b6397f900bf18db2": {
      "model_module": "@jupyter-widgets/base",
      "model_module_version": "1.1.0",
      "model_name": "LayoutModel",
      "state": {
       "width": "500px"
      }
     },
     "a95baacd37fe448e8637a3e1ee85fcaa": {
      "model_module": "@jupyter-widgets/controls",
      "model_module_version": "1.4.0",
      "model_name": "DescriptionStyleModel",
      "state": {
       "description_width": "initial"
      }
     },
     "a9f82968f4064d18b4135bc0c9020b21": {
      "model_module": "@jupyter-widgets/base",
      "model_module_version": "1.1.0",
      "model_name": "LayoutModel",
      "state": {
       "width": "250px"
      }
     },
     "aa8c91425c7244579bc3d142b20c0b4e": {
      "model_module": "@jupyter-widgets/controls",
      "model_module_version": "1.4.0",
      "model_name": "HTMLModel",
      "state": {
       "layout": "IPY_MODEL_59c236ae26254adc90878ddba2ccd690",
       "style": "IPY_MODEL_8836612a0b8a43ec9933ddbf4b0f8479",
       "value": "<h4 style=\"font-size:14px;\">Wieso?</h4>"
      }
     },
     "ab5bf0e76f00472db8e886547ed993fd": {
      "model_module": "@jupyter-widgets/controls",
      "model_module_version": "1.4.0",
      "model_name": "DescriptionStyleModel",
      "state": {
       "description_width": ""
      }
     },
     "ab836de45e444d729ced243bc6df6906": {
      "model_module": "@jupyter-widgets/controls",
      "model_module_version": "1.4.0",
      "model_name": "ButtonModel",
      "state": {
       "description": "finites Verb",
       "layout": "IPY_MODEL_9234b78b230a43c2b07c927fd94c6c12",
       "style": "IPY_MODEL_735a2c2957304c84a560ad749e470395"
      }
     },
     "ab949632181246749e1437bf0ebf82aa": {
      "model_module": "@jupyter-widgets/controls",
      "model_module_version": "1.4.0",
      "model_name": "ButtonStyleModel",
      "state": {}
     },
     "abaeceaa552e4b6eb181c03cd2795f4c": {
      "model_module": "@jupyter-widgets/controls",
      "model_module_version": "1.4.0",
      "model_name": "VBoxModel",
      "state": {
       "children": [
        "IPY_MODEL_06611d439b904a7fb375c2233231fd82",
        "IPY_MODEL_a2cc4578511749108b850e7abca9ce57",
        "IPY_MODEL_3d0fe4b88e3e41748c6d081393fe4dc9"
       ],
       "layout": "IPY_MODEL_22e3b86df639459290480591a8132cc6"
      }
     },
     "abe695a6c08646ffa6dff5a9f2d3ca28": {
      "model_module": "@jupyter-widgets/controls",
      "model_module_version": "1.4.0",
      "model_name": "CheckboxModel",
      "state": {
       "description": "Adverbialsatz (<code>advcl</code>)",
       "disabled": false,
       "layout": "IPY_MODEL_237e3302d24443d7a5917d2b6994d6f9",
       "style": "IPY_MODEL_6df5ef7486ba4c1db85d5a39a037e3e1",
       "value": false
      }
     },
     "ac90d4f56bce4b71ae43957a2fda2380": {
      "model_module": "@jupyter-widgets/base",
      "model_module_version": "1.1.0",
      "model_name": "LayoutModel",
      "state": {}
     },
     "acea8244bdd041fd932555bcfbfa3a74": {
      "model_module": "@jupyter-widgets/controls",
      "model_module_version": "1.4.0",
      "model_name": "DropdownModel",
      "state": {
       "_options_labels": [
        "Adverbialsatz",
        "Attributsatz",
        "Keine der Alternativen",
        "Komplementsatz",
        "Matrixsatz",
        "Satz mit komplexer VP"
       ],
       "description": "Antwort:",
       "index": 0,
       "layout": "IPY_MODEL_47276a68fdd745a880c2c21c8cddc034",
       "style": "IPY_MODEL_0e302d80bdf14b4982f9946ef135e81e"
      }
     },
     "acebf5fc36ba4a52b646b7403e50bfd0": {
      "model_module": "@jupyter-widgets/base",
      "model_module_version": "1.1.0",
      "model_name": "LayoutModel",
      "state": {
       "width": "600px"
      }
     },
     "ad2b8eda127247588a0ed83bbc4769b8": {
      "model_module": "@jupyter-widgets/controls",
      "model_module_version": "1.4.0",
      "model_name": "VBoxModel",
      "state": {
       "children": [
        "IPY_MODEL_88d6ffae1aa94bb9a916e2be9a2c9e69",
        "IPY_MODEL_983616dd372f484eba177ad0d59d16ee",
        "IPY_MODEL_5603ea7ac2014359957f8725ef79da11",
        "IPY_MODEL_2ea151404b0c425dbd372a6791284c45",
        "IPY_MODEL_1985d6120d914806b86c1e4a26349559"
       ],
       "layout": "IPY_MODEL_f2a74e578e16447f9c79a02f3df88810"
      }
     },
     "ad43839502804be682210e192cdcc7a5": {
      "model_module": "@jupyter-widgets/controls",
      "model_module_version": "1.4.0",
      "model_name": "VBoxModel",
      "state": {
       "children": [
        "IPY_MODEL_8c43f3d85fae4affa9a689dd20a53438",
        "IPY_MODEL_06438625dc3f4a3ab8a5d986cc22836c",
        "IPY_MODEL_e7d28c38a1e942b7b23a321e81fe1f4f",
        "IPY_MODEL_246eb680ebca42b7a90987c78da5e8f0"
       ],
       "layout": "IPY_MODEL_167a5858e0794c8991e7914be05d8fb1"
      }
     },
     "ad5ff7436fbb4185a4aa59d8ca293613": {
      "model_module": "@jupyter-widgets/base",
      "model_module_version": "1.1.0",
      "model_name": "LayoutModel",
      "state": {
       "justify_content": "center"
      }
     },
     "ad69cef223dd4c73820d95700362dd66": {
      "model_module": "@jupyter-widgets/controls",
      "model_module_version": "1.4.0",
      "model_name": "CheckboxModel",
      "state": {
       "description": "gesungen",
       "disabled": false,
       "layout": "IPY_MODEL_23995a322cb94f2fac7168db90801b08",
       "style": "IPY_MODEL_6cd0f9efb99c4d4197f84bdedea8977b",
       "value": false
      }
     },
     "ad6abf29b0084d858ee70314416402b6": {
      "model_module": "@jupyter-widgets/base",
      "model_module_version": "1.1.0",
      "model_name": "LayoutModel",
      "state": {}
     },
     "ad6ef1d063214cef9b35b0a1b79be5a0": {
      "model_module": "@jupyter-widgets/base",
      "model_module_version": "1.1.0",
      "model_name": "LayoutModel",
      "state": {}
     },
     "ad8fe2a0001747aca9bd1b014ec81e4b": {
      "model_module": "@jupyter-widgets/controls",
      "model_module_version": "1.4.0",
      "model_name": "CheckboxModel",
      "state": {
       "description": "Konjunktionalsatz",
       "disabled": false,
       "layout": "IPY_MODEL_ec09e515e08e4620937167265b0338b4",
       "style": "IPY_MODEL_0dc6de7ae5994c72981f446102a3318d",
       "value": false
      }
     },
     "add5f8c65a9c4eda9843dfb891d25b03": {
      "model_module": "@jupyter-widgets/base",
      "model_module_version": "1.1.0",
      "model_name": "LayoutModel",
      "state": {
       "justify_content": "center"
      }
     },
     "ae210aab8b2a41d78a8847cb55a0775f": {
      "model_module": "@jupyter-widgets/base",
      "model_module_version": "1.1.0",
      "model_name": "LayoutModel",
      "state": {
       "width": "600px"
      }
     },
     "ae5c1821da4f4b889bab6edd869072ca": {
      "model_module": "@jupyter-widgets/base",
      "model_module_version": "1.1.0",
      "model_name": "LayoutModel",
      "state": {}
     },
     "aeb6b95d83744d1ba52fd8e6dfd38e22": {
      "model_module": "@jupyter-widgets/base",
      "model_module_version": "1.1.0",
      "model_name": "LayoutModel",
      "state": {}
     },
     "aed630de262c48d2ac24723e84305b0a": {
      "model_module": "@jupyter-widgets/controls",
      "model_module_version": "1.4.0",
      "model_name": "DescriptionStyleModel",
      "state": {
       "description_width": "initial"
      }
     },
     "aee63bb05f5d43f4ac4cf9719d45c77f": {
      "model_module": "@jupyter-widgets/controls",
      "model_module_version": "1.4.0",
      "model_name": "ButtonModel",
      "state": {
       "description": "Wunschsatz",
       "layout": "IPY_MODEL_71aaaeb9453d45ed9cdaef18f0c60194",
       "style": "IPY_MODEL_a8f0eaeb7cce405e9648cd9251852cd4"
      }
     },
     "af4211d9507a455ab773bd9d6634731c": {
      "model_module": "@jupyter-widgets/controls",
      "model_module_version": "1.4.0",
      "model_name": "CheckboxModel",
      "state": {
       "description": "heute",
       "disabled": false,
       "layout": "IPY_MODEL_82d31807556b45419a86d35f441cd18a",
       "style": "IPY_MODEL_f9b8aa64b62c46ce80e9bbbdb38b1819",
       "value": false
      }
     },
     "aff754d34fb54e27a8bed0bb0436f5e6": {
      "model_module": "@jupyter-widgets/controls",
      "model_module_version": "1.4.0",
      "model_name": "HTMLModel",
      "state": {
       "layout": "IPY_MODEL_69b4a57ef6f04b6c8265b4060db21035",
       "style": "IPY_MODEL_402e4661d87648fca9381d8490e1b7c5",
       "value": "<i>Wählen Sie die <ins>eine</ins> korrekte Antwort aus: </i>"
      }
     },
     "b048492e29bd460298010b0cb1696fa9": {
      "model_module": "@jupyter-widgets/base",
      "model_module_version": "1.1.0",
      "model_name": "LayoutModel",
      "state": {
       "width": "250px"
      }
     },
     "b0b6baadb5234d199d637d8d2287dfb0": {
      "model_module": "@jupyter-widgets/controls",
      "model_module_version": "1.4.0",
      "model_name": "ButtonModel",
      "state": {
       "description": "Korrekt?",
       "layout": "IPY_MODEL_7ea7a756ce204c4e9c4061ef6bc0b281",
       "style": "IPY_MODEL_ee653d885dad479f83284ecdd4e0d86b"
      }
     },
     "b0d05b853e99481da1b785c7b2d85607": {
      "model_module": "@jupyter-widgets/base",
      "model_module_version": "1.1.0",
      "model_name": "LayoutModel",
      "state": {
       "width": "600px"
      }
     },
     "b137b119887444f491b881f760ba3ca4": {
      "model_module": "@jupyter-widgets/base",
      "model_module_version": "1.1.0",
      "model_name": "LayoutModel",
      "state": {
       "justify_content": "center"
      }
     },
     "b14f3870214649b1994bd5b798b90ef7": {
      "model_module": "@jupyter-widgets/base",
      "model_module_version": "1.1.0",
      "model_name": "LayoutModel",
      "state": {}
     },
     "b18517c662034bfbbc040f33f8761d6b": {
      "model_module": "@jupyter-widgets/controls",
      "model_module_version": "1.4.0",
      "model_name": "ButtonStyleModel",
      "state": {}
     },
     "b1bdc8cacc9440e49021d071ae682663": {
      "model_module": "@jupyter-widgets/controls",
      "model_module_version": "1.4.0",
      "model_name": "VBoxModel",
      "state": {
       "children": [
        "IPY_MODEL_996852ed8cab4ba7a1702bc89aa46e81",
        "IPY_MODEL_9f3ef56da9714c8fbe15acc5965b716e",
        "IPY_MODEL_2c0f3033c82c46089a0e8de392a792cc",
        "IPY_MODEL_ddd95f267f524a34b3980848dc367eb5"
       ],
       "layout": "IPY_MODEL_288d26659e97435584eb24885f570b27"
      }
     },
     "b1fb843fc3df4e4ab6c32733c65c3e7d": {
      "model_module": "@jupyter-widgets/controls",
      "model_module_version": "1.4.0",
      "model_name": "VBoxModel",
      "state": {
       "children": [
        "IPY_MODEL_82090b52679e4992a89e7db0e66d923d",
        "IPY_MODEL_f23a36cc883f46b7b415f22d8b0121ae",
        "IPY_MODEL_f226a96730074ce1b1d9b7e709dfdf4e",
        "IPY_MODEL_533445740d974be0b1b23c945e34e175",
        "IPY_MODEL_d3b2c0bf0246413f9bd57191d30829be",
        "IPY_MODEL_264bb6b2d3be4c409719e69c95a6222a",
        "IPY_MODEL_906ec493e1e842b78da6736f7587262e",
        "IPY_MODEL_fa2f5102b6714eb68acc9f3240fc1a47"
       ],
       "layout": "IPY_MODEL_72c92d1283e942c186c7977f5d772225"
      }
     },
     "b278888bc1224f8aae85204cd1451124": {
      "model_module": "@jupyter-widgets/controls",
      "model_module_version": "1.4.0",
      "model_name": "ButtonModel",
      "state": {
       "description": "subordiniert",
       "layout": "IPY_MODEL_4f21b1bde04042749114d4ded306978d",
       "style": "IPY_MODEL_2e188758f59e4b9c9d359f2c1de08921"
      }
     },
     "b28d6ae249a64e3ba09117fa4cb44d14": {
      "model_module": "@jupyter-widgets/controls",
      "model_module_version": "1.4.0",
      "model_name": "ButtonModel",
      "state": {
       "description": "Wunschsatz",
       "layout": "IPY_MODEL_d682aec0233541aa91d21b4e764a1bb3",
       "style": "IPY_MODEL_ed9021a0996e4a308a2c38b07ecd3416"
      }
     },
     "b2a686ed1837400698d67e6d2df6ca07": {
      "model_module": "@jupyter-widgets/base",
      "model_module_version": "1.1.0",
      "model_name": "LayoutModel",
      "state": {
       "width": "600px"
      }
     },
     "b2db270b304449019948be54b689a0d4": {
      "model_module": "@jupyter-widgets/controls",
      "model_module_version": "1.4.0",
      "model_name": "VBoxModel",
      "state": {
       "children": [
        "IPY_MODEL_0a2312f08e474e459d02e470972457a4",
        "IPY_MODEL_7b092b5cb7b145ad963d5d68d7041dd2",
        "IPY_MODEL_8537f437340549b4b4ed1aa953877e94",
        "IPY_MODEL_dd533750d504447ebbd2515c28a18c76"
       ],
       "layout": "IPY_MODEL_43c900f20069465bb1406acd647bf7a4"
      }
     },
     "b2fae575c60d4ccd89d0baa534182d38": {
      "model_module": "@jupyter-widgets/base",
      "model_module_version": "1.1.0",
      "model_name": "LayoutModel",
      "state": {
       "justify_content": "center"
      }
     },
     "b319a9a1d5f64ca5b9b77380b0e77c99": {
      "model_module": "@jupyter-widgets/controls",
      "model_module_version": "1.4.0",
      "model_name": "CheckboxModel",
      "state": {
       "description": "Junge",
       "disabled": false,
       "layout": "IPY_MODEL_83dd21f2ed0641a7bc62f723a40cbb36",
       "style": "IPY_MODEL_e7502726fec5454490112a5d25ef5cfb",
       "value": false
      }
     },
     "b3531d7d5df347d3805b5f9c3655b1e0": {
      "model_module": "@jupyter-widgets/controls",
      "model_module_version": "1.4.0",
      "model_name": "ButtonStyleModel",
      "state": {}
     },
     "b36c5d6c8a0b48d5b32f8c37fb438a30": {
      "model_module": "@jupyter-widgets/controls",
      "model_module_version": "1.4.0",
      "model_name": "DescriptionStyleModel",
      "state": {
       "description_width": ""
      }
     },
     "b39eefe6f94244b98edaf019bab6d704": {
      "model_module": "@jupyter-widgets/controls",
      "model_module_version": "1.4.0",
      "model_name": "DescriptionStyleModel",
      "state": {
       "description_width": "initial"
      }
     },
     "b3abcf48004b4602a059a4443d2d6ff2": {
      "model_module": "@jupyter-widgets/base",
      "model_module_version": "1.1.0",
      "model_name": "LayoutModel",
      "state": {
       "justify_content": "center"
      }
     },
     "b3e670c01d5f45e0a2a1d9975b61594b": {
      "model_module": "@jupyter-widgets/base",
      "model_module_version": "1.1.0",
      "model_name": "LayoutModel",
      "state": {
       "width": "600px"
      }
     },
     "b3f42d7d6b0e4d63bda9a64af810921b": {
      "model_module": "@jupyter-widgets/base",
      "model_module_version": "1.1.0",
      "model_name": "LayoutModel",
      "state": {
       "width": "250px"
      }
     },
     "b448e308ef3d4fc88bb4ffd4df2b5152": {
      "model_module": "@jupyter-widgets/controls",
      "model_module_version": "1.4.0",
      "model_name": "HTMLModel",
      "state": {
       "layout": "IPY_MODEL_a8201c256b8c4f938caa8cdb2d1afc90",
       "style": "IPY_MODEL_7ec02809d2c14c61a32cd87767ce9984",
       "value": "<h4 style=\"font-size:14px;\">Welcher eingebettete Satztyp liegt vor?</h4>"
      }
     },
     "b46e7784938d4557b2bfb52ed76ca5f6": {
      "model_module": "@jupyter-widgets/base",
      "model_module_version": "1.1.0",
      "model_name": "LayoutModel",
      "state": {}
     },
     "b4a6a8aea92c4311b2364c5c67c0956d": {
      "model_module": "@jupyter-widgets/controls",
      "model_module_version": "1.4.0",
      "model_name": "VBoxModel",
      "state": {
       "children": [
        "IPY_MODEL_f254f3069498405296f1321d7b38d6ae",
        "IPY_MODEL_f67bd1a8a8584e6896d79fa2c024fdf3",
        "IPY_MODEL_8374b3c3697446bea392255fa974d006",
        "IPY_MODEL_eb8b3507b52d4698b99ffce44a25c8a7"
       ],
       "layout": "IPY_MODEL_97bdfd0125c549b6ba468d3de68b84c0"
      }
     },
     "b4c53752f91c468ca06cd6a5b4f4dacb": {
      "model_module": "@jupyter-widgets/base",
      "model_module_version": "1.1.0",
      "model_name": "LayoutModel",
      "state": {
       "justify_content": "center"
      }
     },
     "b4cddcc428504edfb70e6ef336e24fb3": {
      "model_module": "@jupyter-widgets/controls",
      "model_module_version": "1.4.0",
      "model_name": "CheckboxModel",
      "state": {
       "description": "gelesen",
       "disabled": false,
       "layout": "IPY_MODEL_61a1853ba3434c44a6fcd48ff459461a",
       "style": "IPY_MODEL_0792a56e266f41a084f54a83f0d4487b",
       "value": false
      }
     },
     "b4de253513034be3bbd49fecc4f4e3fd": {
      "model_module": "@jupyter-widgets/controls",
      "model_module_version": "1.4.0",
      "model_name": "CheckboxModel",
      "state": {
       "description": "sein",
       "disabled": false,
       "layout": "IPY_MODEL_5ec83a20c2de48dea7dce44cba7be362",
       "style": "IPY_MODEL_fbfe2a2260c14f57b7152d4834ce6f4a",
       "value": false
      }
     },
     "b4eb9c92f3c94879b623c11ec7dc9ae7": {
      "model_module": "@jupyter-widgets/base",
      "model_module_version": "1.1.0",
      "model_name": "LayoutModel",
      "state": {
       "justify_content": "center"
      }
     },
     "b59f0f79a8ec4099811f2ce67c4952d8": {
      "model_module": "@jupyter-widgets/controls",
      "model_module_version": "1.4.0",
      "model_name": "ButtonStyleModel",
      "state": {}
     },
     "b5ed2f2755734fb8b44f9a9afaccf228": {
      "model_module": "@jupyter-widgets/base",
      "model_module_version": "1.1.0",
      "model_name": "LayoutModel",
      "state": {
       "width": "250px"
      }
     },
     "b5f957c1c0c54b18aa30367c2685fe7f": {
      "model_module": "@jupyter-widgets/base",
      "model_module_version": "1.1.0",
      "model_name": "LayoutModel",
      "state": {
       "width": "600px"
      }
     },
     "b64c754279eb44a686282f3a54e2727b": {
      "model_module": "@jupyter-widgets/controls",
      "model_module_version": "1.4.0",
      "model_name": "HTMLModel",
      "state": {
       "layout": "IPY_MODEL_9c1c1665b3644e02b97b361bc8a208e5",
       "style": "IPY_MODEL_e3d7a154f4624c4e8ef94031792a084b",
       "value": "<h4 style=\"font-size:14px;\">'Die Abfolgeregularität für Personalpronomina ist normalerweise ›Subjekt vor Akkusativobjekt vor Dativobjekt‹.'</h4>"
      }
     },
     "b6918793f04244c9b966eff8dc37e1b7": {
      "model_module": "@jupyter-widgets/base",
      "model_module_version": "1.1.0",
      "model_name": "LayoutModel",
      "state": {}
     },
     "b6b2096b96144c3da6d19596498fe652": {
      "model_module": "@jupyter-widgets/controls",
      "model_module_version": "1.4.0",
      "model_name": "DropdownModel",
      "state": {
       "_options_labels": [
        "Adverbialsatz",
        "Attributsatz",
        "Keine der Alternativen",
        "Komplementsatz",
        "Matrixsatz"
       ],
       "description": "Antwort:",
       "index": 0,
       "layout": "IPY_MODEL_f7ec5b4096594c219b6c61e294539883",
       "style": "IPY_MODEL_ab5bf0e76f00472db8e886547ed993fd"
      }
     },
     "b6b96ad64e984ed99863764d71cb8a4e": {
      "model_module": "@jupyter-widgets/base",
      "model_module_version": "1.1.0",
      "model_name": "LayoutModel",
      "state": {}
     },
     "b6bce404667c4e398d2f8abc166c860c": {
      "model_module": "@jupyter-widgets/base",
      "model_module_version": "1.1.0",
      "model_name": "LayoutModel",
      "state": {
       "justify_content": "center"
      }
     },
     "b6e53404db1a40c48fb8a18ec7622621": {
      "model_module": "@jupyter-widgets/base",
      "model_module_version": "1.1.0",
      "model_name": "LayoutModel",
      "state": {
       "justify_content": "center"
      }
     },
     "b73a2b4a42fe45fba4dcc9890461ef4e": {
      "model_module": "@jupyter-widgets/base",
      "model_module_version": "1.1.0",
      "model_name": "LayoutModel",
      "state": {}
     },
     "b76b0155ae0f468ba6aea36194a14aef": {
      "model_module": "@jupyter-widgets/controls",
      "model_module_version": "1.4.0",
      "model_name": "ButtonModel",
      "state": {
       "description": "subordiniert",
       "layout": "IPY_MODEL_1e94ba80b0784ad59206eddaa8e1b896",
       "style": "IPY_MODEL_8426a9c992314befbcf2698879109dfb"
      }
     },
     "b7745bdc935d4bc89d7683d9b2454f4d": {
      "model_module": "@jupyter-widgets/controls",
      "model_module_version": "1.4.0",
      "model_name": "DescriptionStyleModel",
      "state": {
       "description_width": "initial"
      }
     },
     "b7c8195da322447a8f1ef76af21468f8": {
      "model_module": "@jupyter-widgets/controls",
      "model_module_version": "1.4.0",
      "model_name": "DescriptionStyleModel",
      "state": {
       "description_width": "initial"
      }
     },
     "b7f1b91bdbb148cc8ff1e887a6c20cac": {
      "model_module": "@jupyter-widgets/controls",
      "model_module_version": "1.4.0",
      "model_name": "VBoxModel",
      "state": {
       "children": [
        "IPY_MODEL_b448e308ef3d4fc88bb4ffd4df2b5152",
        "IPY_MODEL_10624577a7904314b9d8a02537afc117",
        "IPY_MODEL_2d29a335103641d19a68d6e4d585dd9b",
        "IPY_MODEL_a18ecbab57e549d99b5f8f90939a2e1b"
       ],
       "layout": "IPY_MODEL_7dd1d6db205f4f208780d4b525eb21c3"
      }
     },
     "b7fc9383850f4f8086693980169ddb2e": {
      "model_module": "@jupyter-widgets/controls",
      "model_module_version": "1.4.0",
      "model_name": "ButtonModel",
      "state": {
       "description": "Keine der anderen Möglichkeiten",
       "layout": "IPY_MODEL_c04730e4cec34bddb41feec9442ca4d9",
       "style": "IPY_MODEL_7e5bf5fecaf0499d9bc41270dacf73f2"
      }
     },
     "b814a7fb97234fa7965b7caf2e83c03f": {
      "model_module": "@jupyter-widgets/base",
      "model_module_version": "1.1.0",
      "model_name": "LayoutModel",
      "state": {}
     },
     "b8279bb2a4844019ab9c9872c83978f1": {
      "model_module": "@jupyter-widgets/base",
      "model_module_version": "1.1.0",
      "model_name": "LayoutModel",
      "state": {
       "width": "600px"
      }
     },
     "b85d511e1c804b6d8955b73e407c69e5": {
      "model_module": "@jupyter-widgets/controls",
      "model_module_version": "1.4.0",
      "model_name": "HBoxModel",
      "state": {
       "children": [
        "IPY_MODEL_045940423fb34162bb2814a5e6371688",
        "IPY_MODEL_370a838a921f4b1a864ec23207456dd5"
       ],
       "layout": "IPY_MODEL_ac90d4f56bce4b71ae43957a2fda2380"
      }
     },
     "b86ade97f3604246acdb166aec5cee26": {
      "model_module": "@jupyter-widgets/base",
      "model_module_version": "1.1.0",
      "model_name": "LayoutModel",
      "state": {
       "width": "600px"
      }
     },
     "b8eecb4cf82f442dbd272701e939091b": {
      "model_module": "@jupyter-widgets/controls",
      "model_module_version": "1.4.0",
      "model_name": "CheckboxModel",
      "state": {
       "description": "Vater",
       "disabled": false,
       "layout": "IPY_MODEL_283825f4834b4fb38e86226148e840c1",
       "style": "IPY_MODEL_8ffdd758ca814808bcb901d8f7c696a8",
       "value": false
      }
     },
     "b90235e0e6e84146812bd8fe89468bb4": {
      "model_module": "@jupyter-widgets/controls",
      "model_module_version": "1.4.0",
      "model_name": "VBoxModel",
      "state": {
       "children": [
        "IPY_MODEL_40ab6ab5e1af4b009c1e1c72a9968aad",
        "IPY_MODEL_36fba345a5b94eb287e68a06d9d69033",
        "IPY_MODEL_28042e02b1674b56b8167cf93e062e62",
        "IPY_MODEL_a43dc6593eac4a828a3e2cf4557f344a"
       ],
       "layout": "IPY_MODEL_4786de6e65ba4978bb0b57f703cf85d7"
      }
     },
     "b910564f3d4344dfab07a59eab9a2f1d": {
      "model_module": "@jupyter-widgets/controls",
      "model_module_version": "1.4.0",
      "model_name": "DescriptionStyleModel",
      "state": {
       "description_width": "initial"
      }
     },
     "b951c5e1144a42d18f36305fec8d0c68": {
      "model_module": "@jupyter-widgets/base",
      "model_module_version": "1.1.0",
      "model_name": "LayoutModel",
      "state": {
       "width": "600px"
      }
     },
     "b9b73e872da0468ba222c6dc9dab0f23": {
      "model_module": "@jupyter-widgets/controls",
      "model_module_version": "1.4.0",
      "model_name": "CheckboxModel",
      "state": {
       "description": "Vordersatz",
       "disabled": false,
       "layout": "IPY_MODEL_0a2e55ad8afa4505968b5dd97b1af96f",
       "style": "IPY_MODEL_cd0fcfa118a440e89084d92aec6c22a5",
       "value": false
      }
     },
     "b9cc74c8383e4ded999c7ba8ad6fc897": {
      "model_module": "@jupyter-widgets/controls",
      "model_module_version": "1.4.0",
      "model_name": "ButtonStyleModel",
      "state": {}
     },
     "ba091d05ff5a486b98fd41ef25e3abb3": {
      "model_module": "@jupyter-widgets/controls",
      "model_module_version": "1.4.0",
      "model_name": "ButtonModel",
      "state": {
       "description": "Korrekt?",
       "layout": "IPY_MODEL_f353cb1ddf1e4ad0bc584654741cddfa",
       "style": "IPY_MODEL_91cb96467b91439f8bf3fb05211351de"
      }
     },
     "ba24243a8e134c309b4ecc96f67219cf": {
      "model_module": "@jupyter-widgets/controls",
      "model_module_version": "1.4.0",
      "model_name": "HTMLModel",
      "state": {
       "layout": "IPY_MODEL_ec68c14bd1ee4af79808f1565129d87f",
       "style": "IPY_MODEL_f5e37173cab040ab8bdb64ae9b3511af",
       "value": "<h4 style=\"font-size:14px;\">Welche Aussagen stimmen für den Teilsatz <i>als sie ...</i> formal gesehen?</h4>"
      }
     },
     "ba3a8bfbb49040c281ac229ee76f4f18": {
      "model_module": "@jupyter-widgets/base",
      "model_module_version": "1.1.0",
      "model_name": "LayoutModel",
      "state": {
       "width": "600px"
      }
     },
     "ba666e03a6334147afb000982bf3ac9b": {
      "model_module": "@jupyter-widgets/base",
      "model_module_version": "1.1.0",
      "model_name": "LayoutModel",
      "state": {
       "width": "600px"
      }
     },
     "bafff5298d2e4539a23fc534ef8ba988": {
      "model_module": "@jupyter-widgets/controls",
      "model_module_version": "1.4.0",
      "model_name": "VBoxModel",
      "state": {
       "children": [
        "IPY_MODEL_45e615e571d74f76b36bd1c0621abc69",
        "IPY_MODEL_3b67a09f317f4a119a458fb02181b371",
        "IPY_MODEL_3d2b6393585f404983e11f50270381c1",
        "IPY_MODEL_5aed4c6ee4034368801d27f30f41ddc9"
       ],
       "layout": "IPY_MODEL_e1ddcb93fc9d4403be4f094ecd4e033c"
      }
     },
     "bb225e87a2584960a3dcdebd81a3b2b4": {
      "model_module": "@jupyter-widgets/base",
      "model_module_version": "1.1.0",
      "model_name": "LayoutModel",
      "state": {
       "width": "250px"
      }
     },
     "bb60d7d6dbb842ecb24518b472a80bd2": {
      "model_module": "@jupyter-widgets/controls",
      "model_module_version": "1.4.0",
      "model_name": "ButtonStyleModel",
      "state": {}
     },
     "bb640a7bae25471080efafacc3c7364e": {
      "model_module": "@jupyter-widgets/base",
      "model_module_version": "1.1.0",
      "model_name": "LayoutModel",
      "state": {
       "width": "600px"
      }
     },
     "bb90ceff2dae46d0a9df8de5864ce574": {
      "model_module": "@jupyter-widgets/controls",
      "model_module_version": "1.4.0",
      "model_name": "ButtonStyleModel",
      "state": {}
     },
     "bc8a79d2080d433bb400c7a305739d4d": {
      "model_module": "@jupyter-widgets/controls",
      "model_module_version": "1.4.0",
      "model_name": "DescriptionStyleModel",
      "state": {
       "description_width": ""
      }
     },
     "bc9474cd563840c8b933c00e69f74c1a": {
      "model_module": "@jupyter-widgets/base",
      "model_module_version": "1.1.0",
      "model_name": "LayoutModel",
      "state": {}
     },
     "bcd6ea35e88744cba8ff23e8f8b37822": {
      "model_module": "@jupyter-widgets/controls",
      "model_module_version": "1.4.0",
      "model_name": "DescriptionStyleModel",
      "state": {
       "description_width": "initial"
      }
     },
     "bcdb2c46fa8e41a8815d6e5ed68343fc": {
      "model_module": "@jupyter-widgets/controls",
      "model_module_version": "1.4.0",
      "model_name": "CheckboxModel",
      "state": {
       "description": "Modus: Indikativ",
       "disabled": false,
       "layout": "IPY_MODEL_5b49d4e539c54fa3bfb060fffe34b04f",
       "style": "IPY_MODEL_9cc7089bbdc947958de5f159a8371011",
       "value": false
      }
     },
     "bce78ad801ad4e28884e1db26d182f1e": {
      "model_module": "@jupyter-widgets/base",
      "model_module_version": "1.1.0",
      "model_name": "LayoutModel",
      "state": {
       "justify_content": "center"
      }
     },
     "bd06ee76651d404fb6bb397e9b80754e": {
      "model_module": "@jupyter-widgets/controls",
      "model_module_version": "1.4.0",
      "model_name": "DescriptionStyleModel",
      "state": {
       "description_width": ""
      }
     },
     "bd0e5a7a995f47f68e4e46bd0b958586": {
      "model_module": "@jupyter-widgets/controls",
      "model_module_version": "1.4.0",
      "model_name": "CheckboxModel",
      "state": {
       "description": "Das Mittelfeld ist unbesetzt.",
       "disabled": false,
       "layout": "IPY_MODEL_cafb135f56ee40cb836fb71f9f73ded1",
       "style": "IPY_MODEL_29fac3aa8aa14db8bf8de292ca02a2f0",
       "value": false
      }
     },
     "bd535401457e4448be70c8f25c72ab8e": {
      "model_module": "@jupyter-widgets/controls",
      "model_module_version": "1.4.0",
      "model_name": "HBoxModel",
      "state": {
       "children": [
        "IPY_MODEL_1eb3e9b38a6e4b11928930c58fe2a018",
        "IPY_MODEL_7f72bb20036f46f58004089c70cd6f10"
       ],
       "layout": "IPY_MODEL_4af4e9fa58294a9e8619691ac48c78a2"
      }
     },
     "bd5e838ef3ea4bcdbd70ba6a61d88b13": {
      "model_module": "@jupyter-widgets/base",
      "model_module_version": "1.1.0",
      "model_name": "LayoutModel",
      "state": {}
     },
     "bd665091f40b4401a53e745384a9c720": {
      "model_module": "@jupyter-widgets/controls",
      "model_module_version": "1.4.0",
      "model_name": "DropdownModel",
      "state": {
       "_options_labels": [
        "Finalsatz",
        "Kausalsatz",
        "Keine der Alternativen",
        "Lokalsatz",
        "Modalsatz",
        "Relativsatz",
        "Temporalsatz"
       ],
       "description": "Antwort:",
       "index": 0,
       "layout": "IPY_MODEL_5ed56fc0e70647d788112762259ba478",
       "style": "IPY_MODEL_6d96cf8286d14ea8a51753541c1e5c60"
      }
     },
     "bda7e8d3e63a43fa80dc393b556b40a9": {
      "model_module": "@jupyter-widgets/controls",
      "model_module_version": "1.4.0",
      "model_name": "VBoxModel",
      "state": {
       "children": [
        "IPY_MODEL_964fe2a33b854d9fa7630316023f5caf",
        "IPY_MODEL_ddc1693f9afb4a99a02a970ae2e5b867",
        "IPY_MODEL_c6ffb182434c4b7ebd42ba293b1d772b",
        "IPY_MODEL_74402fce7ed545e3b3386dcac3dcd1ea"
       ],
       "layout": "IPY_MODEL_f6872afeb13642999c87b91b548e820f"
      }
     },
     "be0d4e1c50eb4a83865fc1ab43c73eb1": {
      "model_module": "@jupyter-widgets/controls",
      "model_module_version": "1.4.0",
      "model_name": "CheckboxModel",
      "state": {
       "description": "Ein Lied",
       "disabled": false,
       "layout": "IPY_MODEL_cf86b22e1c7749acba877b77929817e0",
       "style": "IPY_MODEL_d4558a4e8da943529dca2f8975e5646b",
       "value": false
      }
     },
     "be4d606afcd3447482ca5c8f23cd1c85": {
      "model_module": "@jupyter-widgets/controls",
      "model_module_version": "1.4.0",
      "model_name": "HTMLModel",
      "state": {
       "layout": "IPY_MODEL_a430a49b5ce242acbe991daed9ca5987",
       "style": "IPY_MODEL_c67cc7b27e1048689c0e39c2034cf201",
       "value": "<i>Markieren Sie <ins>alle</ins> passenden Antworten: </i>"
      }
     },
     "be938a5b173e45bb8293c5a657a6c1e1": {
      "model_module": "@jupyter-widgets/controls",
      "model_module_version": "1.4.0",
      "model_name": "HTMLModel",
      "state": {
       "layout": "IPY_MODEL_1336c79f504b455b95cba3074705269d",
       "style": "IPY_MODEL_b36c5d6c8a0b48d5b32f8c37fb438a30",
       "value": "<i>Wählen Sie die <ins>eine</ins> korrekte Antwort aus: </i>"
      }
     },
     "bfdd49f25bf74959a48144ecd5e760d5": {
      "model_module": "@jupyter-widgets/controls",
      "model_module_version": "1.4.0",
      "model_name": "ButtonModel",
      "state": {
       "description": "Satz 1",
       "layout": "IPY_MODEL_ecb2c8ccf6f74309a4a793f79cb5d463",
       "style": "IPY_MODEL_1eacd78a5f184af08d55bbdf1eed7d97"
      }
     },
     "bfe22c995b774b49847ed0c509fb5bbc": {
      "model_module": "@jupyter-widgets/base",
      "model_module_version": "1.1.0",
      "model_name": "LayoutModel",
      "state": {}
     },
     "c02abaa2be0542468c1d0752751ce40d": {
      "model_module": "@jupyter-widgets/base",
      "model_module_version": "1.1.0",
      "model_name": "LayoutModel",
      "state": {
       "width": "250px"
      }
     },
     "c04730e4cec34bddb41feec9442ca4d9": {
      "model_module": "@jupyter-widgets/base",
      "model_module_version": "1.1.0",
      "model_name": "LayoutModel",
      "state": {
       "width": "250px"
      }
     },
     "c08b93dc90494e4cbedb3899eaeb2c3c": {
      "model_module": "@jupyter-widgets/base",
      "model_module_version": "1.1.0",
      "model_name": "LayoutModel",
      "state": {
       "width": "250px"
      }
     },
     "c091fa1ec561483fac72cc5a88f4493e": {
      "model_module": "@jupyter-widgets/controls",
      "model_module_version": "1.4.0",
      "model_name": "ButtonModel",
      "state": {
       "description": "koordiniert",
       "layout": "IPY_MODEL_7924cdf68dce45139c9a6773f8db9a91",
       "style": "IPY_MODEL_c3d01fc615234d9f94038841af18c6bc"
      }
     },
     "c0998ea04d23457a8cac68c9cded2874": {
      "model_module": "@jupyter-widgets/controls",
      "model_module_version": "1.4.0",
      "model_name": "DescriptionStyleModel",
      "state": {
       "description_width": "initial"
      }
     },
     "c0a5933d0b9d4547b7536f2d892d5b81": {
      "model_module": "@jupyter-widgets/controls",
      "model_module_version": "1.4.0",
      "model_name": "CheckboxModel",
      "state": {
       "description": "Nebensatz 1. Grades",
       "disabled": false,
       "layout": "IPY_MODEL_cfb2eff4c8874b4f9eb53125ac579d87",
       "style": "IPY_MODEL_b910564f3d4344dfab07a59eab9a2f1d",
       "value": false
      }
     },
     "c0d0e549237d44a69977a76e2ac5d9e3": {
      "model_module": "@jupyter-widgets/controls",
      "model_module_version": "1.4.0",
      "model_name": "CheckboxModel",
      "state": {
       "description": "hat",
       "disabled": false,
       "layout": "IPY_MODEL_dec3d98fc0db4c2bae4d5f82e3cf0ac3",
       "style": "IPY_MODEL_e00234bad77d41bfb9ef2495c57918c0",
       "value": false
      }
     },
     "c10bd18e96a64dadbbc0598c1f865d07": {
      "model_module": "@jupyter-widgets/controls",
      "model_module_version": "1.4.0",
      "model_name": "DescriptionStyleModel",
      "state": {
       "description_width": "initial"
      }
     },
     "c139ac8357ef4706a8973ac0087e952b": {
      "model_module": "@jupyter-widgets/controls",
      "model_module_version": "1.4.0",
      "model_name": "DescriptionStyleModel",
      "state": {
       "description_width": "initial"
      }
     },
     "c146503be7ec4857bcb6e53b4937421d": {
      "model_module": "@jupyter-widgets/controls",
      "model_module_version": "1.4.0",
      "model_name": "DescriptionStyleModel",
      "state": {
       "description_width": "initial"
      }
     },
     "c14779abe7fc400f8a377740b42ec286": {
      "model_module": "@jupyter-widgets/controls",
      "model_module_version": "1.4.0",
      "model_name": "HTMLModel",
      "state": {
       "layout": "IPY_MODEL_e6e21a4ef34a48be8378e57cc3d90e5d",
       "style": "IPY_MODEL_6b5a04256cd6425e9b18aa48d7ae563a",
       "value": "<h4 style=\"font-size:14px;\">Wie läßt sich dieser Satztyp klassifizieren?</h4>"
      }
     },
     "c152ff0032d24c819e0bf1b519d58428": {
      "model_module": "@jupyter-widgets/base",
      "model_module_version": "1.1.0",
      "model_name": "LayoutModel",
      "state": {}
     },
     "c204a566ddbd4399b93f4fbd8ef135b6": {
      "model_module": "@jupyter-widgets/controls",
      "model_module_version": "1.4.0",
      "model_name": "CheckboxModel",
      "state": {
       "description": "Weihnachten",
       "disabled": false,
       "layout": "IPY_MODEL_fb13e187cdbb419cb7c981b653c696fa",
       "style": "IPY_MODEL_cd42296c7d0c4b28bc6e25dea3449492",
       "value": false
      }
     },
     "c2bfd24bfb6448c585af1495ca2eb307": {
      "model_module": "@jupyter-widgets/controls",
      "model_module_version": "1.4.0",
      "model_name": "VBoxModel",
      "state": {
       "children": [
        "IPY_MODEL_bd0e5a7a995f47f68e4e46bd0b958586",
        "IPY_MODEL_e85c6fabcfa14106b2dfeb6ec4dc9a8e",
        "IPY_MODEL_c204a566ddbd4399b93f4fbd8ef135b6",
        "IPY_MODEL_8e1b99be18fc425fad417468dc327545",
        "IPY_MODEL_de9f64b9d62948f68c2c6565113d6371",
        "IPY_MODEL_f7f0f4b01b7c4192afcee8adca8490db",
        "IPY_MODEL_999465b645bc41abb0931578914ccfc1",
        "IPY_MODEL_cb33418040a246a8a05efe68dc169c49"
       ],
       "layout": "IPY_MODEL_97fcaafbdc76476e84ff8b03e1bb040f"
      }
     },
     "c3597a198e0b4cff98f8ad6de8776e8f": {
      "model_module": "@jupyter-widgets/controls",
      "model_module_version": "1.4.0",
      "model_name": "HTMLModel",
      "state": {
       "layout": "IPY_MODEL_443a7384035c4cd9b74715c20aacfbe0",
       "style": "IPY_MODEL_f51a513238454918b77d9c149ce456c1",
       "value": "<i>Wählen Sie die <ins>eine</ins> korrekte Antwort aus: </i>"
      }
     },
     "c38d3a1149b94d81b0f1e5639bdc7485": {
      "model_module": "@jupyter-widgets/controls",
      "model_module_version": "1.4.0",
      "model_name": "ButtonStyleModel",
      "state": {}
     },
     "c399e66402a84bc897f190210058903c": {
      "model_module": "@jupyter-widgets/base",
      "model_module_version": "1.1.0",
      "model_name": "LayoutModel",
      "state": {}
     },
     "c3d01fc615234d9f94038841af18c6bc": {
      "model_module": "@jupyter-widgets/controls",
      "model_module_version": "1.4.0",
      "model_name": "ButtonStyleModel",
      "state": {}
     },
     "c49641cbd890425cbe21dff1fc5426da": {
      "model_module": "@jupyter-widgets/controls",
      "model_module_version": "1.4.0",
      "model_name": "HTMLModel",
      "state": {
       "layout": "IPY_MODEL_9e1fd6b18181489b9dd90cabd8a708ac",
       "style": "IPY_MODEL_c544bd74da284e93b520eb07c18cbbcc",
       "value": "<i>Wählen Sie die <ins>eine</ins> korrekte Antwort aus: </i>"
      }
     },
     "c4b8d4e3262f470ab4244693040bcdcf": {
      "model_module": "@jupyter-widgets/controls",
      "model_module_version": "1.4.0",
      "model_name": "DescriptionStyleModel",
      "state": {
       "description_width": ""
      }
     },
     "c4bcdab943304826bc868146d88f05a9": {
      "model_module": "@jupyter-widgets/controls",
      "model_module_version": "1.4.0",
      "model_name": "DescriptionStyleModel",
      "state": {
       "description_width": "initial"
      }
     },
     "c4e426b5a3de4a0f8d39d6df269a8683": {
      "model_module": "@jupyter-widgets/base",
      "model_module_version": "1.1.0",
      "model_name": "LayoutModel",
      "state": {}
     },
     "c51ca8ebc0f84e66b7cb275a3ee7ca43": {
      "model_module": "@jupyter-widgets/controls",
      "model_module_version": "1.4.0",
      "model_name": "ButtonStyleModel",
      "state": {}
     },
     "c52e1f2f1e7e4590a905b4905b18ec4a": {
      "model_module": "@jupyter-widgets/controls",
      "model_module_version": "1.4.0",
      "model_name": "ButtonStyleModel",
      "state": {}
     },
     "c5346d4d9d5345e893a7ad2f5a735303": {
      "model_module": "@jupyter-widgets/controls",
      "model_module_version": "1.4.0",
      "model_name": "HTMLModel",
      "state": {
       "layout": "IPY_MODEL_dd5cf81217094c4cac419c49d26fa1d6",
       "style": "IPY_MODEL_eb3c1ff2c39b4fa69eeba2564495b139",
       "value": "<i>Wählen Sie die <ins>eine</ins> korrekte Antwort aus: </i>"
      }
     },
     "c544bd74da284e93b520eb07c18cbbcc": {
      "model_module": "@jupyter-widgets/controls",
      "model_module_version": "1.4.0",
      "model_name": "DescriptionStyleModel",
      "state": {
       "description_width": ""
      }
     },
     "c5806d493d8849f98ea742d01bcb8412": {
      "model_module": "@jupyter-widgets/base",
      "model_module_version": "1.1.0",
      "model_name": "LayoutModel",
      "state": {
       "width": "600px"
      }
     },
     "c58570db9ca640f29fa2acf12d131524": {
      "model_module": "@jupyter-widgets/controls",
      "model_module_version": "1.4.0",
      "model_name": "CheckboxModel",
      "state": {
       "description": "Modus: Indikativ",
       "disabled": false,
       "layout": "IPY_MODEL_84688ca6e511461e8f919a4474a88ee3",
       "style": "IPY_MODEL_0b0a697a92264bc496911c4f9e775aef",
       "value": false
      }
     },
     "c5a76633a67246d897dabb83db611aff": {
      "model_module": "@jupyter-widgets/controls",
      "model_module_version": "1.4.0",
      "model_name": "CheckboxModel",
      "state": {
       "description": "sein",
       "disabled": false,
       "layout": "IPY_MODEL_41359d378bdc4c0c892158f380a5499f",
       "style": "IPY_MODEL_f9e9854630174932b0be9e95cf6ec5fe",
       "value": false
      }
     },
     "c5eb8b26ebdc4febaad8f790bdad98c9": {
      "model_module": "@jupyter-widgets/base",
      "model_module_version": "1.1.0",
      "model_name": "LayoutModel",
      "state": {}
     },
     "c62be84315a0471aa292bf37b1abd080": {
      "model_module": "@jupyter-widgets/base",
      "model_module_version": "1.1.0",
      "model_name": "LayoutModel",
      "state": {
       "width": "500px"
      }
     },
     "c6574ec0c20648a0adda7dc69f169252": {
      "model_module": "@jupyter-widgets/base",
      "model_module_version": "1.1.0",
      "model_name": "LayoutModel",
      "state": {
       "width": "600px"
      }
     },
     "c657715b1a5444f38c5870137a178f2b": {
      "model_module": "@jupyter-widgets/controls",
      "model_module_version": "1.4.0",
      "model_name": "DescriptionStyleModel",
      "state": {
       "description_width": "initial"
      }
     },
     "c67cc7b27e1048689c0e39c2034cf201": {
      "model_module": "@jupyter-widgets/controls",
      "model_module_version": "1.4.0",
      "model_name": "DescriptionStyleModel",
      "state": {
       "description_width": ""
      }
     },
     "c6ffb182434c4b7ebd42ba293b1d772b": {
      "model_module": "@jupyter-widgets/controls",
      "model_module_version": "1.4.0",
      "model_name": "DropdownModel",
      "state": {
       "_options_labels": [
        "Kausalsatz",
        "Keine der Alternativen",
        "Lokalsatz",
        "Modalsatz",
        "Objektsatz",
        "Relativsatz",
        "Subjektsatz",
        "Temporalsatz"
       ],
       "description": "Antwort:",
       "index": 0,
       "layout": "IPY_MODEL_f9197e59c25d41fe8759f53115ac2c0d",
       "style": "IPY_MODEL_32c4500cb26e4b5baca32f8fc79a576c"
      }
     },
     "c70f5597032449df892a694cb128bcd3": {
      "model_module": "@jupyter-widgets/controls",
      "model_module_version": "1.4.0",
      "model_name": "ButtonModel",
      "state": {
       "description": "Satz 3",
       "layout": "IPY_MODEL_a36b048644634dcc9693a368e794744f",
       "style": "IPY_MODEL_7f7249430f974634b37ff3e97470494e"
      }
     },
     "c72c28fe146a4ae3801a009dcd87e3b8": {
      "model_module": "@jupyter-widgets/controls",
      "model_module_version": "1.4.0",
      "model_name": "DescriptionStyleModel",
      "state": {
       "description_width": "initial"
      }
     },
     "c76e9a52bf924400969c95118129e6e5": {
      "model_module": "@jupyter-widgets/controls",
      "model_module_version": "1.4.0",
      "model_name": "HTMLModel",
      "state": {
       "layout": "IPY_MODEL_87ce873f28eb4223ae08f926ef59efca",
       "style": "IPY_MODEL_1aefd35ea12a42c0adb248fc199f3fec",
       "value": "<i>Markieren Sie <ins>alle</ins> passenden Antworten: </i>"
      }
     },
     "c77f2ae4aa0f4e6ab83c533cf5b22aeb": {
      "model_module": "@jupyter-widgets/base",
      "model_module_version": "1.1.0",
      "model_name": "LayoutModel",
      "state": {}
     },
     "c7a30d1c0c5948cc92ab1e03bc8dec46": {
      "model_module": "@jupyter-widgets/controls",
      "model_module_version": "1.4.0",
      "model_name": "ButtonModel",
      "state": {
       "description": "Fragesatz",
       "layout": "IPY_MODEL_5e8c967b52b64ca3a1ab67b06ed36df8",
       "style": "IPY_MODEL_fb4ef372000b462aa7a14a5ae8b6c147"
      }
     },
     "c7fccecd29f54549a14593b0766cf0fc": {
      "model_module": "@jupyter-widgets/controls",
      "model_module_version": "1.4.0",
      "model_name": "CheckboxModel",
      "state": {
       "description": "rechte Satzklammer",
       "disabled": false,
       "layout": "IPY_MODEL_6ac9109d42a24b3a8882c870e05d05a2",
       "style": "IPY_MODEL_5f4aa8317fa44fd78ba3eae2ab3af87b",
       "value": false
      }
     },
     "c8e130cd6ea44bbf879c1fe1ad618662": {
      "model_module": "@jupyter-widgets/base",
      "model_module_version": "1.1.0",
      "model_name": "LayoutModel",
      "state": {
       "width": "600px"
      }
     },
     "c8e6e17ea93e4f4ea0c79338f557757f": {
      "model_module": "@jupyter-widgets/base",
      "model_module_version": "1.1.0",
      "model_name": "LayoutModel",
      "state": {}
     },
     "c906611e5fa4460fb867276ef1706633": {
      "model_module": "@jupyter-widgets/base",
      "model_module_version": "1.1.0",
      "model_name": "LayoutModel",
      "state": {
       "width": "250px"
      }
     },
     "c915f94a2fbb4b1fb6c2a0c97d1799ed": {
      "model_module": "@jupyter-widgets/base",
      "model_module_version": "1.1.0",
      "model_name": "LayoutModel",
      "state": {}
     },
     "c94ef108f663422ea9dff96a999baa54": {
      "model_module": "@jupyter-widgets/controls",
      "model_module_version": "1.4.0",
      "model_name": "HTMLModel",
      "state": {
       "layout": "IPY_MODEL_68c8e9a62ac14e0abe6146851b1aa3cd",
       "style": "IPY_MODEL_ef1b3517420b488fa4d17c41cf0c3b54",
       "value": "<i>Wählen Sie die <ins>eine</ins> korrekte Antwort aus: </i>"
      }
     },
     "c9cc597aae954f618aff696f4e06ef42": {
      "model_module": "@jupyter-widgets/base",
      "model_module_version": "1.1.0",
      "model_name": "LayoutModel",
      "state": {
       "width": "250px"
      }
     },
     "c9f2dfbc2e95495195b96cd2b5ffd1ca": {
      "model_module": "@jupyter-widgets/base",
      "model_module_version": "1.1.0",
      "model_name": "LayoutModel",
      "state": {
       "width": "600px"
      }
     },
     "c9fc2aca5e0947619e0f14e113db4e19": {
      "model_module": "@jupyter-widgets/controls",
      "model_module_version": "1.4.0",
      "model_name": "HTMLModel",
      "state": {
       "layout": "IPY_MODEL_e6f4341a158348b8a5b96114db187eea",
       "style": "IPY_MODEL_49bfe74afa92413985a1fdb673deea73",
       "value": "<i>Markieren Sie <ins>alle</ins> passenden Antworten: </i>"
      }
     },
     "ca4f03ddbbca443eb37ba3e6d4eb39b9": {
      "model_module": "@jupyter-widgets/base",
      "model_module_version": "1.1.0",
      "model_name": "LayoutModel",
      "state": {}
     },
     "ca78fe74b11f4a318a507bbb06249a11": {
      "model_module": "@jupyter-widgets/base",
      "model_module_version": "1.1.0",
      "model_name": "LayoutModel",
      "state": {}
     },
     "cad8ebc67cc54b19941e556627ac9d3f": {
      "model_module": "@jupyter-widgets/base",
      "model_module_version": "1.1.0",
      "model_name": "LayoutModel",
      "state": {
       "width": "600px"
      }
     },
     "cae7adaa88a04b3badf62f31ff9b5080": {
      "model_module": "@jupyter-widgets/controls",
      "model_module_version": "1.4.0",
      "model_name": "CheckboxModel",
      "state": {
       "description": "Ein",
       "disabled": false,
       "layout": "IPY_MODEL_ee2719fdac6540b48e478df6f77e01a0",
       "style": "IPY_MODEL_ed9932edfb3b45b4a124a125e885b0dc",
       "value": false
      }
     },
     "caf07f26bb1649e7b153839b6de18391": {
      "model_module": "@jupyter-widgets/controls",
      "model_module_version": "1.4.0",
      "model_name": "CheckboxModel",
      "state": {
       "description": "Die rechte SK ist unbesetzt.",
       "disabled": false,
       "layout": "IPY_MODEL_b86ade97f3604246acdb166aec5cee26",
       "style": "IPY_MODEL_aed630de262c48d2ac24723e84305b0a",
       "value": false
      }
     },
     "cafb135f56ee40cb836fb71f9f73ded1": {
      "model_module": "@jupyter-widgets/base",
      "model_module_version": "1.1.0",
      "model_name": "LayoutModel",
      "state": {
       "width": "600px"
      }
     },
     "cb33418040a246a8a05efe68dc169c49": {
      "model_module": "@jupyter-widgets/controls",
      "model_module_version": "1.4.0",
      "model_name": "CheckboxModel",
      "state": {
       "description": "zu",
       "disabled": false,
       "layout": "IPY_MODEL_6838141bdf3740ff8435dd3ee63bfdc9",
       "style": "IPY_MODEL_f12e53523dba40c89c702b31d4bbe28b",
       "value": false
      }
     },
     "cb85503a87d64d209d6aa3e3c9f8a2fa": {
      "model_module": "@jupyter-widgets/base",
      "model_module_version": "1.1.0",
      "model_name": "LayoutModel",
      "state": {
       "width": "600px"
      }
     },
     "cb8b8d520b9541b78f6fbfc892670616": {
      "model_module": "@jupyter-widgets/base",
      "model_module_version": "1.1.0",
      "model_name": "LayoutModel",
      "state": {
       "justify_content": "center"
      }
     },
     "cbc462a7b16642c28ee6be78bf9c957e": {
      "model_module": "@jupyter-widgets/controls",
      "model_module_version": "1.4.0",
      "model_name": "CheckboxModel",
      "state": {
       "description": "Buch",
       "disabled": false,
       "layout": "IPY_MODEL_3b9592d2fa1641a9a209d6364298ea5b",
       "style": "IPY_MODEL_5e3eae536f074139a96b19c3bd150d65",
       "value": false
      }
     },
     "cbf12474ece54245b2ff77aa4dc7eeed": {
      "model_module": "@jupyter-widgets/controls",
      "model_module_version": "1.4.0",
      "model_name": "DescriptionStyleModel",
      "state": {
       "description_width": ""
      }
     },
     "cc0a432e11974ee491ce3c884c6ca137": {
      "model_module": "@jupyter-widgets/base",
      "model_module_version": "1.1.0",
      "model_name": "LayoutModel",
      "state": {
       "width": "600px"
      }
     },
     "cc196a39def04a538c343378590ae12b": {
      "model_module": "@jupyter-widgets/controls",
      "model_module_version": "1.4.0",
      "model_name": "CheckboxModel",
      "state": {
       "description": "steigende Intonation",
       "disabled": false,
       "layout": "IPY_MODEL_d1fee27ac74a41a08c526137f5a8ec3d",
       "style": "IPY_MODEL_c72c28fe146a4ae3801a009dcd87e3b8",
       "value": false
      }
     },
     "cc1e36966342415aadfaf249d171aff5": {
      "model_module": "@jupyter-widgets/base",
      "model_module_version": "1.1.0",
      "model_name": "LayoutModel",
      "state": {
       "width": "600px"
      }
     },
     "cc37a3fe233942b0afaf0d30c1e8753a": {
      "model_module": "@jupyter-widgets/base",
      "model_module_version": "1.1.0",
      "model_name": "LayoutModel",
      "state": {}
     },
     "cc3d179eb44e48f6bc151482eba0b6d8": {
      "model_module": "@jupyter-widgets/controls",
      "model_module_version": "1.4.0",
      "model_name": "ButtonModel",
      "state": {
       "description": "Korrekt?",
       "layout": "IPY_MODEL_fa187e304e564eb9893b2ddac19c41cb",
       "style": "IPY_MODEL_f71decba951a4244800aad1e13854c8b"
      }
     },
     "cc6b98f8261f43058df6a78e55260ccd": {
      "model_module": "@jupyter-widgets/controls",
      "model_module_version": "1.4.0",
      "model_name": "VBoxModel",
      "state": {
       "children": [
        "IPY_MODEL_aa8c91425c7244579bc3d142b20c0b4e",
        "IPY_MODEL_7a1a3d1bdbb84072907fe6608cca4634",
        "IPY_MODEL_d3845535aeb44501b34a24c648296ec8",
        "IPY_MODEL_2a05948c76a049c0b94d4fd2ec2cfbe1"
       ],
       "layout": "IPY_MODEL_333f37ea4e3f4c9c97584f5d6b38413f"
      }
     },
     "cce1df55790c4fdb8f42e5b956c823b8": {
      "model_module": "@jupyter-widgets/base",
      "model_module_version": "1.1.0",
      "model_name": "LayoutModel",
      "state": {
       "width": "600px"
      }
     },
     "ccf844c7db21417a9d7564470e9fbb99": {
      "model_module": "@jupyter-widgets/controls",
      "model_module_version": "1.4.0",
      "model_name": "DescriptionStyleModel",
      "state": {
       "description_width": ""
      }
     },
     "cd0fcfa118a440e89084d92aec6c22a5": {
      "model_module": "@jupyter-widgets/controls",
      "model_module_version": "1.4.0",
      "model_name": "DescriptionStyleModel",
      "state": {
       "description_width": "initial"
      }
     },
     "cd3aca7e78c34f57a2a4d45e90a2b8c0": {
      "model_module": "@jupyter-widgets/base",
      "model_module_version": "1.1.0",
      "model_name": "LayoutModel",
      "state": {
       "width": "600px"
      }
     },
     "cd42296c7d0c4b28bc6e25dea3449492": {
      "model_module": "@jupyter-widgets/controls",
      "model_module_version": "1.4.0",
      "model_name": "DescriptionStyleModel",
      "state": {
       "description_width": "initial"
      }
     },
     "cd5cc44485174217b6eb85ea744b10ea": {
      "model_module": "@jupyter-widgets/controls",
      "model_module_version": "1.4.0",
      "model_name": "VBoxModel",
      "state": {
       "children": [
        "IPY_MODEL_9821fa57e8804d08871c795b2e0ca15d",
        "IPY_MODEL_aff754d34fb54e27a8bed0bb0436f5e6",
        "IPY_MODEL_21df7276451749e5b725866d585374da",
        "IPY_MODEL_cddadc0671bd4d0693115bb73ace3e11"
       ],
       "layout": "IPY_MODEL_7b533cd97beb44f7ab784381c539be06"
      }
     },
     "cd6e5cd5b486479c91998249f1b38aff": {
      "model_module": "@jupyter-widgets/controls",
      "model_module_version": "1.4.0",
      "model_name": "ButtonStyleModel",
      "state": {}
     },
     "cddadc0671bd4d0693115bb73ace3e11": {
      "model_module": "@jupyter-widgets/controls",
      "model_module_version": "1.4.0",
      "model_name": "HBoxModel",
      "state": {
       "children": [
        "IPY_MODEL_c7a30d1c0c5948cc92ab1e03bc8dec46",
        "IPY_MODEL_b28d6ae249a64e3ba09117fa4cb44d14"
       ],
       "layout": "IPY_MODEL_0c8bcc72f7f9465089273b5c031079c3"
      }
     },
     "ce2049d5c424496c92140b3188d88817": {
      "model_module": "@jupyter-widgets/base",
      "model_module_version": "1.1.0",
      "model_name": "LayoutModel",
      "state": {
       "justify_content": "center"
      }
     },
     "ce4445a54c354a71ae04e46b54099e49": {
      "model_module": "@jupyter-widgets/base",
      "model_module_version": "1.1.0",
      "model_name": "LayoutModel",
      "state": {}
     },
     "ce6bcaf884ee4a7686ab2c1da729a2b0": {
      "model_module": "@jupyter-widgets/base",
      "model_module_version": "1.1.0",
      "model_name": "LayoutModel",
      "state": {
       "width": "600px"
      }
     },
     "ce94f753b9914251b7181e81ce0db50e": {
      "model_module": "@jupyter-widgets/base",
      "model_module_version": "1.1.0",
      "model_name": "LayoutModel",
      "state": {
       "width": "500px"
      }
     },
     "ceff27affadd4194ba346ee1aa7f2b13": {
      "model_module": "@jupyter-widgets/base",
      "model_module_version": "1.1.0",
      "model_name": "LayoutModel",
      "state": {
       "width": "250px"
      }
     },
     "cf044fce8f334328ba25846c7b677dc8": {
      "model_module": "@jupyter-widgets/base",
      "model_module_version": "1.1.0",
      "model_name": "LayoutModel",
      "state": {
       "width": "600px"
      }
     },
     "cf3f305907ae4f9fa40d6c744dd4e028": {
      "model_module": "@jupyter-widgets/base",
      "model_module_version": "1.1.0",
      "model_name": "LayoutModel",
      "state": {
       "width": "600px"
      }
     },
     "cf86b22e1c7749acba877b77929817e0": {
      "model_module": "@jupyter-widgets/base",
      "model_module_version": "1.1.0",
      "model_name": "LayoutModel",
      "state": {
       "width": "600px"
      }
     },
     "cfb2eff4c8874b4f9eb53125ac579d87": {
      "model_module": "@jupyter-widgets/base",
      "model_module_version": "1.1.0",
      "model_name": "LayoutModel",
      "state": {
       "width": "600px"
      }
     },
     "cfbae70cbeb14de99fef4f25e5ed637c": {
      "model_module": "@jupyter-widgets/controls",
      "model_module_version": "1.4.0",
      "model_name": "VBoxModel",
      "state": {
       "children": [
        "IPY_MODEL_9cd4a793037447cc957016611e9c126b",
        "IPY_MODEL_9a97cd4071894e7b8c2bebc7d5b9a198",
        "IPY_MODEL_9a37c3eb9bea42ee9c35f54f524d1429",
        "IPY_MODEL_2ef2d22d02774e1db7377f0e277062c0"
       ],
       "layout": "IPY_MODEL_e5764c86fded4b46b81f9780c05c474b"
      }
     },
     "cfe6ede0f6ea4c63ada4ecdc9bdb0a89": {
      "model_module": "@jupyter-widgets/controls",
      "model_module_version": "1.4.0",
      "model_name": "ButtonModel",
      "state": {
       "description": "Korrekt?",
       "layout": "IPY_MODEL_358a2d33cf17402fb2fd7453cea58642",
       "style": "IPY_MODEL_78f3d4d513fb4a0ab6a7b6d46b2bf0c0"
      }
     },
     "cfe70b57c66048fc8fa77e0d41708cd1": {
      "model_module": "@jupyter-widgets/base",
      "model_module_version": "1.1.0",
      "model_name": "LayoutModel",
      "state": {}
     },
     "cffb0af204574a8795604bf32d77e013": {
      "model_module": "@jupyter-widgets/controls",
      "model_module_version": "1.4.0",
      "model_name": "HTMLModel",
      "state": {
       "layout": "IPY_MODEL_484d12e498204b658d05f0c7d36b618a",
       "style": "IPY_MODEL_9ae368f0eba649778097edd1568a0838",
       "value": "<h4 style=\"font-size:14px;\">Was für eine Satzkonstruktion liegt hier vor?</h4>"
      }
     },
     "d00be6e16b65401cbf3ef993684d4f8a": {
      "model_module": "@jupyter-widgets/base",
      "model_module_version": "1.1.0",
      "model_name": "LayoutModel",
      "state": {}
     },
     "d02a4deeba1e4c269cc7ecedb5705d71": {
      "model_module": "@jupyter-widgets/controls",
      "model_module_version": "1.4.0",
      "model_name": "ButtonModel",
      "state": {
       "description": "Satz 2",
       "layout": "IPY_MODEL_95fbf98d3b1646339c5a72cbc97270ed",
       "style": "IPY_MODEL_510c09b8a07f481799caab5c07275b7f"
      }
     },
     "d040f3cab3664bac97c5f709f009d3b6": {
      "model_module": "@jupyter-widgets/controls",
      "model_module_version": "1.4.0",
      "model_name": "DescriptionStyleModel",
      "state": {
       "description_width": "initial"
      }
     },
     "d080fda319614f628fc376d95173b7d5": {
      "model_module": "@jupyter-widgets/controls",
      "model_module_version": "1.4.0",
      "model_name": "CheckboxModel",
      "state": {
       "description": "Der",
       "disabled": false,
       "layout": "IPY_MODEL_9fddaa6d01a846be9296abe78605b756",
       "style": "IPY_MODEL_72c575f7a30846a49ac3cb74a486a00d",
       "value": false
      }
     },
     "d0d8b968d52044b7afdde9521f3c2b7b": {
      "model_module": "@jupyter-widgets/controls",
      "model_module_version": "1.4.0",
      "model_name": "DescriptionStyleModel",
      "state": {
       "description_width": ""
      }
     },
     "d0dce537d98c4a4e8a39b1dec1743d5c": {
      "model_module": "@jupyter-widgets/controls",
      "model_module_version": "1.4.0",
      "model_name": "CheckboxModel",
      "state": {
       "description": "heute",
       "disabled": false,
       "layout": "IPY_MODEL_06ba405c613246dfa3963237c4e696ff",
       "style": "IPY_MODEL_0fcbc275aa5c4d878f194663c81407c3",
       "value": false
      }
     },
     "d0f00dfdefc945f79bfcee230a708e2c": {
      "model_module": "@jupyter-widgets/base",
      "model_module_version": "1.1.0",
      "model_name": "LayoutModel",
      "state": {
       "justify_content": "center"
      }
     },
     "d13857fa280347ed9bee031cfbe2b4a8": {
      "model_module": "@jupyter-widgets/controls",
      "model_module_version": "1.4.0",
      "model_name": "DescriptionStyleModel",
      "state": {
       "description_width": ""
      }
     },
     "d13bd083904042e7b61462595914ee86": {
      "model_module": "@jupyter-widgets/controls",
      "model_module_version": "1.4.0",
      "model_name": "ButtonModel",
      "state": {
       "description": "Korrekt?",
       "layout": "IPY_MODEL_76fa74631f5f4eef8edf7d33e88185c9",
       "style": "IPY_MODEL_a548a70342194c5c89b11f919e2ce839"
      }
     },
     "d13beeb8e26e4c0482f782985655e0a7": {
      "model_module": "@jupyter-widgets/base",
      "model_module_version": "1.1.0",
      "model_name": "LayoutModel",
      "state": {
       "width": "500px"
      }
     },
     "d1504a37e89a4007a8a12c0a7eca9063": {
      "model_module": "@jupyter-widgets/controls",
      "model_module_version": "1.4.0",
      "model_name": "HBoxModel",
      "state": {
       "children": [
        "IPY_MODEL_ef5a9de6c9b04822891db617f4e0b8a6",
        "IPY_MODEL_e1223c54b4b04b09a28b7a1430d97555"
       ],
       "layout": "IPY_MODEL_22e1ff4d1ec1446aa36b5341c26aa18c"
      }
     },
     "d16379bf6515440589a4a4e5143990c3": {
      "model_module": "@jupyter-widgets/controls",
      "model_module_version": "1.4.0",
      "model_name": "VBoxModel",
      "state": {
       "children": [
        "IPY_MODEL_32700fec618d4d26ba8ef4f1a1403276",
        "IPY_MODEL_c49641cbd890425cbe21dff1fc5426da",
        "IPY_MODEL_1f6ee26adf444738a790199f1d36cb02",
        "IPY_MODEL_76aab9ff43d741509182f2de1fa725cf"
       ],
       "layout": "IPY_MODEL_99208e964f5c4952aa87d654bd943e9e"
      }
     },
     "d17bc246a20b4d38bf33adc95f963752": {
      "model_module": "@jupyter-widgets/controls",
      "model_module_version": "1.4.0",
      "model_name": "HTMLModel",
      "state": {
       "layout": "IPY_MODEL_9cb1ae0af84a4bfaad9d243193672f12",
       "style": "IPY_MODEL_5f5343b24107478ab5fe85175d823b4b",
       "value": "<h4 style=\"font-size:14px;\">Wie läßt sich dieser Satztyp klassifizieren?</h4>"
      }
     },
     "d18b15eef53c4a82880bb759c1a04b6c": {
      "model_module": "@jupyter-widgets/base",
      "model_module_version": "1.1.0",
      "model_name": "LayoutModel",
      "state": {
       "width": "600px"
      }
     },
     "d1f6473e4e2243ebafec4ffd60148758": {
      "model_module": "@jupyter-widgets/base",
      "model_module_version": "1.1.0",
      "model_name": "LayoutModel",
      "state": {
       "width": "250px"
      }
     },
     "d1f6be4ebce2495681e024f81cbfa9dd": {
      "model_module": "@jupyter-widgets/controls",
      "model_module_version": "1.4.0",
      "model_name": "CheckboxModel",
      "state": {
       "description": "gelesen",
       "disabled": false,
       "layout": "IPY_MODEL_96aaff7d479340efa68e72cb965086a2",
       "style": "IPY_MODEL_a72891dc89b24b53a7fbcd00721b11b4",
       "value": false
      }
     },
     "d1fee27ac74a41a08c526137f5a8ec3d": {
      "model_module": "@jupyter-widgets/base",
      "model_module_version": "1.1.0",
      "model_name": "LayoutModel",
      "state": {
       "width": "600px"
      }
     },
     "d230d479edec4bc396b9e1f16c81833e": {
      "model_module": "@jupyter-widgets/base",
      "model_module_version": "1.1.0",
      "model_name": "LayoutModel",
      "state": {
       "width": "250px"
      }
     },
     "d267e289ee004155b743c7720642cbc0": {
      "model_module": "@jupyter-widgets/base",
      "model_module_version": "1.1.0",
      "model_name": "LayoutModel",
      "state": {
       "width": "600px"
      }
     },
     "d27efe33a6ce44fe834e0b9a54b4497c": {
      "model_module": "@jupyter-widgets/controls",
      "model_module_version": "1.4.0",
      "model_name": "DescriptionStyleModel",
      "state": {
       "description_width": "initial"
      }
     },
     "d2a2b83984d34a779141f332b2efe9e4": {
      "model_module": "@jupyter-widgets/base",
      "model_module_version": "1.1.0",
      "model_name": "LayoutModel",
      "state": {
       "width": "250px"
      }
     },
     "d32b798f674b4f9baebfeaa635ccc77f": {
      "model_module": "@jupyter-widgets/controls",
      "model_module_version": "1.4.0",
      "model_name": "DescriptionStyleModel",
      "state": {
       "description_width": ""
      }
     },
     "d3845535aeb44501b34a24c648296ec8": {
      "model_module": "@jupyter-widgets/controls",
      "model_module_version": "1.4.0",
      "model_name": "VBoxModel",
      "state": {
       "children": [
        "IPY_MODEL_5eef3b1531b94decbc4fe2f7eef3f104",
        "IPY_MODEL_0061b5c91fbe44b88b139b30e79d9b9a",
        "IPY_MODEL_1e9ff7806ab241abbd23082fa888cd3a",
        "IPY_MODEL_2e5b8d0e292947cba4ca0aebf2332ad4",
        "IPY_MODEL_8a0107126209463e838b599f5463963b",
        "IPY_MODEL_17dfa1338b3e49ec96523e4e21c6942b",
        "IPY_MODEL_cc196a39def04a538c343378590ae12b"
       ],
       "layout": "IPY_MODEL_d5080c816850492381ae7fe5069e5ba3"
      }
     },
     "d3b2c0bf0246413f9bd57191d30829be": {
      "model_module": "@jupyter-widgets/controls",
      "model_module_version": "1.4.0",
      "model_name": "CheckboxModel",
      "state": {
       "description": "ihm",
       "disabled": false,
       "layout": "IPY_MODEL_9f44c21641574500adf6ec562dbf2f29",
       "style": "IPY_MODEL_a95baacd37fe448e8637a3e1ee85fcaa",
       "value": false
      }
     },
     "d3d8498025584b0b99698b82ddf17c7c": {
      "model_module": "@jupyter-widgets/controls",
      "model_module_version": "1.4.0",
      "model_name": "DescriptionStyleModel",
      "state": {
       "description_width": ""
      }
     },
     "d3d929366c07436bb1008bbe668fc262": {
      "model_module": "@jupyter-widgets/controls",
      "model_module_version": "1.4.0",
      "model_name": "VBoxModel",
      "state": {
       "children": [
        "IPY_MODEL_345e992defa54c3aa7ff9e5946078c3b",
        "IPY_MODEL_ec9d37f74f7947b3854aac1e14a3649a",
        "IPY_MODEL_fe73cc17be5e43889c17b7e53309a111",
        "IPY_MODEL_b0b6baadb5234d199d637d8d2287dfb0"
       ],
       "layout": "IPY_MODEL_c399e66402a84bc897f190210058903c"
      }
     },
     "d44ca23e2fe8458b80968086f8f59c27": {
      "model_module": "@jupyter-widgets/controls",
      "model_module_version": "1.4.0",
      "model_name": "DropdownModel",
      "state": {
       "_options_labels": [
        "Kausalsatz",
        "Keine der Alternativen",
        "Lokalsatz",
        "Modalsatz",
        "Objektsatz",
        "Relativsatz",
        "Subjektsatz",
        "Temporalsatz"
       ],
       "description": "Antwort:",
       "index": 0,
       "layout": "IPY_MODEL_67d3352f37054c268488e7b39af73753",
       "style": "IPY_MODEL_0dd5efcc006d48ab83978312a5b3922d"
      }
     },
     "d4558a4e8da943529dca2f8975e5646b": {
      "model_module": "@jupyter-widgets/controls",
      "model_module_version": "1.4.0",
      "model_name": "DescriptionStyleModel",
      "state": {
       "description_width": "initial"
      }
     },
     "d48c7cfbdf914ca9acfd6b91dba5f5a2": {
      "model_module": "@jupyter-widgets/controls",
      "model_module_version": "1.4.0",
      "model_name": "ButtonModel",
      "state": {
       "description": "Adjektiv",
       "layout": "IPY_MODEL_573b49db227a4763af49cac7e5ea110c",
       "style": "IPY_MODEL_168db4a66a4e4e229cf9f49caa7fb335"
      }
     },
     "d4dfb7bd716d4de99b7c3713e6d1c89c": {
      "model_module": "@jupyter-widgets/controls",
      "model_module_version": "1.4.0",
      "model_name": "DropdownModel",
      "state": {
       "_options_labels": [
        "Adverbialsatz",
        "Attributsatz",
        "Keine der Alternativen",
        "Komplementsatz",
        "Matrixsatz"
       ],
       "description": "Antwort:",
       "index": 0,
       "layout": "IPY_MODEL_ce94f753b9914251b7181e81ce0db50e",
       "style": "IPY_MODEL_42379e05df7f48749681fe696294c017"
      }
     },
     "d4dfea083d5a46fb9ab76659f093ff0c": {
      "model_module": "@jupyter-widgets/controls",
      "model_module_version": "1.4.0",
      "model_name": "DescriptionStyleModel",
      "state": {
       "description_width": ""
      }
     },
     "d500840ac4e740d98b7f1ab2dd9b4daf": {
      "model_module": "@jupyter-widgets/controls",
      "model_module_version": "1.4.0",
      "model_name": "HTMLModel",
      "state": {
       "layout": "IPY_MODEL_8f9ae06108764ae28b26c341425e58b2",
       "style": "IPY_MODEL_e72b0c7b2d1040e0a57c9a836136f570",
       "value": "<i>Wählen Sie die <ins>eine</ins> korrekte Antwort aus: </i>"
      }
     },
     "d5080c816850492381ae7fe5069e5ba3": {
      "model_module": "@jupyter-widgets/base",
      "model_module_version": "1.1.0",
      "model_name": "LayoutModel",
      "state": {}
     },
     "d52420387e5942fb8eeb3050fc0583a7": {
      "model_module": "@jupyter-widgets/controls",
      "model_module_version": "1.4.0",
      "model_name": "DescriptionStyleModel",
      "state": {
       "description_width": "initial"
      }
     },
     "d581165e8d304ccfae2b3e9ac0465260": {
      "model_module": "@jupyter-widgets/controls",
      "model_module_version": "1.4.0",
      "model_name": "HTMLModel",
      "state": {
       "layout": "IPY_MODEL_023ec3d3c9c04d42aae8f57a7cd36eef",
       "style": "IPY_MODEL_a6717b7a3b794056ba3b0fa243edf86b",
       "value": "<i>Markieren Sie <ins>alle</ins> passenden Antworten: </i>"
      }
     },
     "d58c04c0b8224c0eac04f0440e23306f": {
      "model_module": "@jupyter-widgets/controls",
      "model_module_version": "1.4.0",
      "model_name": "HTMLModel",
      "state": {
       "layout": "IPY_MODEL_80dd72de24814feb8bd802ff291e101a",
       "style": "IPY_MODEL_8a54cd9aff7942f8b9351546131541af",
       "value": "<h4 style=\"font-size:14px;\">Was für eine Satzkonstruktion liegt hier vor?</h4>"
      }
     },
     "d6039e8ece8b46dea167fd6f78fa95fe": {
      "model_module": "@jupyter-widgets/controls",
      "model_module_version": "1.4.0",
      "model_name": "CheckboxModel",
      "state": {
       "description": "schenkte",
       "disabled": false,
       "layout": "IPY_MODEL_1222825420424d06b24894e6400d5617",
       "style": "IPY_MODEL_a27344755362473d876c2b354b78b2bd",
       "value": false
      }
     },
     "d682aec0233541aa91d21b4e764a1bb3": {
      "model_module": "@jupyter-widgets/base",
      "model_module_version": "1.1.0",
      "model_name": "LayoutModel",
      "state": {
       "width": "250px"
      }
     },
     "d6cde4d31dd34585bb037ef0a47719e8": {
      "model_module": "@jupyter-widgets/controls",
      "model_module_version": "1.4.0",
      "model_name": "ButtonModel",
      "state": {
       "description": "Der Nebensatz steht im Nachfeld.",
       "layout": "IPY_MODEL_ee2379f0e33d4f4bbaf82da3f74e69f9",
       "style": "IPY_MODEL_25a507d87fc744978f8d7605f26b0483"
      }
     },
     "d6f59d139cea4c89963bb648f194aaff": {
      "model_module": "@jupyter-widgets/base",
      "model_module_version": "1.1.0",
      "model_name": "LayoutModel",
      "state": {}
     },
     "d75c848e2120404d8040ec5dc7fba3a2": {
      "model_module": "@jupyter-widgets/controls",
      "model_module_version": "1.4.0",
      "model_name": "DescriptionStyleModel",
      "state": {
       "description_width": ""
      }
     },
     "d786d09615ea45519327dcb9675f63b1": {
      "model_module": "@jupyter-widgets/controls",
      "model_module_version": "1.4.0",
      "model_name": "CheckboxModel",
      "state": {
       "description": "das",
       "disabled": false,
       "layout": "IPY_MODEL_e3ff71f95d58481681a2972c5ec2b31d",
       "style": "IPY_MODEL_e0f1f0d1d7c146e2824f969ef3d46819",
       "value": false
      }
     },
     "d7b409712461415da2d22ec7b1bbd726": {
      "model_module": "@jupyter-widgets/controls",
      "model_module_version": "1.4.0",
      "model_name": "DescriptionStyleModel",
      "state": {
       "description_width": ""
      }
     },
     "d7d512cbf07240a284039ee973c19749": {
      "model_module": "@jupyter-widgets/base",
      "model_module_version": "1.1.0",
      "model_name": "LayoutModel",
      "state": {
       "width": "250px"
      }
     },
     "d809225e11364413a560beb0d2272a1c": {
      "model_module": "@jupyter-widgets/base",
      "model_module_version": "1.1.0",
      "model_name": "LayoutModel",
      "state": {}
     },
     "d88bd9cf3e4f424a9f76e82bb32437dd": {
      "model_module": "@jupyter-widgets/controls",
      "model_module_version": "1.4.0",
      "model_name": "DescriptionStyleModel",
      "state": {
       "description_width": "initial"
      }
     },
     "d94cbceecc5a4319b838c449eb172502": {
      "model_module": "@jupyter-widgets/controls",
      "model_module_version": "1.4.0",
      "model_name": "HBoxModel",
      "state": {
       "children": [
        "IPY_MODEL_1589af6baae44c64812888411e3d74e6"
       ],
       "layout": "IPY_MODEL_f32d444629a640ffb970bab71292112d"
      }
     },
     "da130fb4cd3048d89c51ac862ff0fe8e": {
      "model_module": "@jupyter-widgets/base",
      "model_module_version": "1.1.0",
      "model_name": "LayoutModel",
      "state": {
       "width": "600px"
      }
     },
     "da5d07f575db4bb883f9dadd0b07f2a5": {
      "model_module": "@jupyter-widgets/base",
      "model_module_version": "1.1.0",
      "model_name": "LayoutModel",
      "state": {
       "width": "600px"
      }
     },
     "dab316383b7d487093e6f3e2ec9c2cb5": {
      "model_module": "@jupyter-widgets/controls",
      "model_module_version": "1.4.0",
      "model_name": "DescriptionStyleModel",
      "state": {
       "description_width": "initial"
      }
     },
     "dac0443a1962404ab8d8b08addc37ecc": {
      "model_module": "@jupyter-widgets/base",
      "model_module_version": "1.1.0",
      "model_name": "LayoutModel",
      "state": {
       "width": "250px"
      }
     },
     "daccc71eaa994894a6fae2470ecbf517": {
      "model_module": "@jupyter-widgets/base",
      "model_module_version": "1.1.0",
      "model_name": "LayoutModel",
      "state": {
       "justify_content": "center"
      }
     },
     "db4b6da284224fb2b3907e93904dd9d1": {
      "model_module": "@jupyter-widgets/controls",
      "model_module_version": "1.4.0",
      "model_name": "DescriptionStyleModel",
      "state": {
       "description_width": ""
      }
     },
     "dba7555cd995498b93c1a10ed7d78b61": {
      "model_module": "@jupyter-widgets/base",
      "model_module_version": "1.1.0",
      "model_name": "LayoutModel",
      "state": {}
     },
     "dc4e538d3c23434e8a5461cbe0fb0f7d": {
      "model_module": "@jupyter-widgets/base",
      "model_module_version": "1.1.0",
      "model_name": "LayoutModel",
      "state": {}
     },
     "dd533750d504447ebbd2515c28a18c76": {
      "model_module": "@jupyter-widgets/controls",
      "model_module_version": "1.4.0",
      "model_name": "HBoxModel",
      "state": {
       "children": [
        "IPY_MODEL_b76b0155ae0f468ba6aea36194a14aef"
       ],
       "layout": "IPY_MODEL_4b86750f16ba46d1ac9314b051df1011"
      }
     },
     "dd5cf81217094c4cac419c49d26fa1d6": {
      "model_module": "@jupyter-widgets/base",
      "model_module_version": "1.1.0",
      "model_name": "LayoutModel",
      "state": {
       "justify_content": "center"
      }
     },
     "dd658c195e514ae39bde1e39020ae33b": {
      "model_module": "@jupyter-widgets/controls",
      "model_module_version": "1.4.0",
      "model_name": "DescriptionStyleModel",
      "state": {
       "description_width": "initial"
      }
     },
     "ddc1693f9afb4a99a02a970ae2e5b867": {
      "model_module": "@jupyter-widgets/controls",
      "model_module_version": "1.4.0",
      "model_name": "HTMLModel",
      "state": {
       "layout": "IPY_MODEL_b3abcf48004b4602a059a4443d2d6ff2",
       "style": "IPY_MODEL_6af28b25b04c40999bb84014a79ad07c",
       "value": "<i>Wählen Sie die <ins>eine</ins> korrekte Antwort aus: </i>"
      }
     },
     "ddc8eb61f6fd45be8d720db95c99185d": {
      "model_module": "@jupyter-widgets/controls",
      "model_module_version": "1.4.0",
      "model_name": "CheckboxModel",
      "state": {
       "description": "Attributsatz (<code>acl</code>)",
       "disabled": false,
       "layout": "IPY_MODEL_62472749c20848bf8593df3ed3efadb0",
       "style": "IPY_MODEL_373040a8322a4d3ab437ed3db51082bd",
       "value": false
      }
     },
     "ddd95f267f524a34b3980848dc367eb5": {
      "model_module": "@jupyter-widgets/controls",
      "model_module_version": "1.4.0",
      "model_name": "ButtonModel",
      "state": {
       "description": "Korrekt?",
       "layout": "IPY_MODEL_7ef45976773c4f34b267762b746a0a8d",
       "style": "IPY_MODEL_c38d3a1149b94d81b0f1e5639bdc7485"
      }
     },
     "dde98260a57547bd8af5ce3bfe5359e4": {
      "model_module": "@jupyter-widgets/base",
      "model_module_version": "1.1.0",
      "model_name": "LayoutModel",
      "state": {
       "width": "250px"
      }
     },
     "ddf83abcc2fa42c79c55cf3abd44004c": {
      "model_module": "@jupyter-widgets/controls",
      "model_module_version": "1.4.0",
      "model_name": "HTMLModel",
      "state": {
       "layout": "IPY_MODEL_c8e6e17ea93e4f4ea0c79338f557757f",
       "style": "IPY_MODEL_0a13717c520b41f4893a813e798fd3bb",
       "value": "<h4 style=\"font-size:14px;\">Wie läßt sich dieser Satztyp klassifizieren?</h4>"
      }
     },
     "de0bd2da53fc4bc08551ff9b8a35754e": {
      "model_module": "@jupyter-widgets/base",
      "model_module_version": "1.1.0",
      "model_name": "LayoutModel",
      "state": {
       "width": "250px"
      }
     },
     "de13c1d22cd347abb0594f4ce255d2a8": {
      "model_module": "@jupyter-widgets/controls",
      "model_module_version": "1.4.0",
      "model_name": "ButtonModel",
      "state": {
       "description": "Das Nachfeld ist unbesetzt.",
       "layout": "IPY_MODEL_0b8cba8d795a4be0b342ee225c0457cb",
       "style": "IPY_MODEL_1c2eeb2d6b634e12805236ff30307827"
      }
     },
     "de392251b9a7490e8ab05026934ca1a5": {
      "model_module": "@jupyter-widgets/controls",
      "model_module_version": "1.4.0",
      "model_name": "HTMLModel",
      "state": {
       "layout": "IPY_MODEL_4c42656df2a648d697f2b63f797654fd",
       "style": "IPY_MODEL_a8dfc85dcdd149ad9018109456c9f7cd",
       "value": "<i>Markieren Sie <ins>alle</ins> passenden Antworten: </i>"
      }
     },
     "de974b1102364f7aa128e5152ee8c4a8": {
      "model_module": "@jupyter-widgets/controls",
      "model_module_version": "1.4.0",
      "model_name": "DescriptionStyleModel",
      "state": {
       "description_width": ""
      }
     },
     "de994597e2064c2fa8c56246e1df5f5c": {
      "model_module": "@jupyter-widgets/base",
      "model_module_version": "1.1.0",
      "model_name": "LayoutModel",
      "state": {}
     },
     "de9f64b9d62948f68c2c6565113d6371": {
      "model_module": "@jupyter-widgets/controls",
      "model_module_version": "1.4.0",
      "model_name": "CheckboxModel",
      "state": {
       "description": "ihm",
       "disabled": false,
       "layout": "IPY_MODEL_669bd545bb1a4460bba5ed2fae8dc959",
       "style": "IPY_MODEL_51dc458569c0450188c59ed1d76c8364",
       "value": false
      }
     },
     "dec3d98fc0db4c2bae4d5f82e3cf0ac3": {
      "model_module": "@jupyter-widgets/base",
      "model_module_version": "1.1.0",
      "model_name": "LayoutModel",
      "state": {
       "width": "600px"
      }
     },
     "deefc7556fad47798b75d02e8737abcc": {
      "model_module": "@jupyter-widgets/controls",
      "model_module_version": "1.4.0",
      "model_name": "CheckboxModel",
      "state": {
       "description": "adnominaler Substantivsatz: <i>die Frage, wie ... </i>",
       "disabled": false,
       "layout": "IPY_MODEL_30b0762b8c6442d0a5c564a9f35f5b85",
       "style": "IPY_MODEL_bcd6ea35e88744cba8ff23e8f8b37822",
       "value": false
      }
     },
     "df1b1b5787d64e1f84539ba43be30d96": {
      "model_module": "@jupyter-widgets/controls",
      "model_module_version": "1.4.0",
      "model_name": "DropdownModel",
      "state": {
       "_options_labels": [
        "Adverbialsatz",
        "Attributsatz",
        "Keine der Alternativen",
        "Komplementsatz",
        "Matrixsatz"
       ],
       "description": "Antwort:",
       "index": 0,
       "layout": "IPY_MODEL_8ff1e52abbca4191b2a5297816795957",
       "style": "IPY_MODEL_93023d32264a456c8435b56acdb9a955"
      }
     },
     "df6dbd5d9f3a46a1825540c7e6d4c03b": {
      "model_module": "@jupyter-widgets/controls",
      "model_module_version": "1.4.0",
      "model_name": "DescriptionStyleModel",
      "state": {
       "description_width": ""
      }
     },
     "df9b9b4cbe2e4f98aaa8df06219bd840": {
      "model_module": "@jupyter-widgets/base",
      "model_module_version": "1.1.0",
      "model_name": "LayoutModel",
      "state": {
       "width": "600px"
      }
     },
     "dfd766a39d294df5809a61a5d657d10a": {
      "model_module": "@jupyter-widgets/controls",
      "model_module_version": "1.4.0",
      "model_name": "CheckboxModel",
      "state": {
       "description": "das",
       "disabled": false,
       "layout": "IPY_MODEL_26f2db721a18464c9a7074b4b6b53eeb",
       "style": "IPY_MODEL_f40f6266a8fc4badb6cf296fbf76f09b",
       "value": false
      }
     },
     "dff79462de474e9394757218f5eebbf0": {
      "model_module": "@jupyter-widgets/controls",
      "model_module_version": "1.4.0",
      "model_name": "DescriptionStyleModel",
      "state": {
       "description_width": "initial"
      }
     },
     "e00234bad77d41bfb9ef2495c57918c0": {
      "model_module": "@jupyter-widgets/controls",
      "model_module_version": "1.4.0",
      "model_name": "DescriptionStyleModel",
      "state": {
       "description_width": "initial"
      }
     },
     "e05f0f6672bb49c2baab29b7e469d682": {
      "model_module": "@jupyter-widgets/base",
      "model_module_version": "1.1.0",
      "model_name": "LayoutModel",
      "state": {
       "width": "250px"
      }
     },
     "e078ecb839804d659908a2da28651de5": {
      "model_module": "@jupyter-widgets/base",
      "model_module_version": "1.1.0",
      "model_name": "LayoutModel",
      "state": {}
     },
     "e0b050b0f8eb4e73a73666643906dbd9": {
      "model_module": "@jupyter-widgets/base",
      "model_module_version": "1.1.0",
      "model_name": "LayoutModel",
      "state": {}
     },
     "e0f1f0d1d7c146e2824f969ef3d46819": {
      "model_module": "@jupyter-widgets/controls",
      "model_module_version": "1.4.0",
      "model_name": "DescriptionStyleModel",
      "state": {
       "description_width": "initial"
      }
     },
     "e118a68a6c7a4c8581ee3c80bb26c85e": {
      "model_module": "@jupyter-widgets/controls",
      "model_module_version": "1.4.0",
      "model_name": "DescriptionStyleModel",
      "state": {
       "description_width": "initial"
      }
     },
     "e1223c54b4b04b09a28b7a1430d97555": {
      "model_module": "@jupyter-widgets/controls",
      "model_module_version": "1.4.0",
      "model_name": "ButtonModel",
      "state": {
       "description": "ccomp",
       "layout": "IPY_MODEL_d230d479edec4bc396b9e1f16c81833e",
       "style": "IPY_MODEL_bb60d7d6dbb842ecb24518b472a80bd2"
      }
     },
     "e124bc74ba70450993fbcab7a075dc54": {
      "model_module": "@jupyter-widgets/controls",
      "model_module_version": "1.4.0",
      "model_name": "DescriptionStyleModel",
      "state": {
       "description_width": ""
      }
     },
     "e148ffec88904117a29e56ca0d32c9c7": {
      "model_module": "@jupyter-widgets/base",
      "model_module_version": "1.1.0",
      "model_name": "LayoutModel",
      "state": {}
     },
     "e15a7c3385284f408e585a6786215598": {
      "model_module": "@jupyter-widgets/controls",
      "model_module_version": "1.4.0",
      "model_name": "DescriptionStyleModel",
      "state": {
       "description_width": ""
      }
     },
     "e17832964f1545a598ed0f2e20cdabc1": {
      "model_module": "@jupyter-widgets/controls",
      "model_module_version": "1.4.0",
      "model_name": "DescriptionStyleModel",
      "state": {
       "description_width": ""
      }
     },
     "e1817b9aa4214566b1b7e4181bf1f031": {
      "model_module": "@jupyter-widgets/base",
      "model_module_version": "1.1.0",
      "model_name": "LayoutModel",
      "state": {
       "width": "600px"
      }
     },
     "e18df4e534be44c0adbd6c2544509882": {
      "model_module": "@jupyter-widgets/controls",
      "model_module_version": "1.4.0",
      "model_name": "VBoxModel",
      "state": {
       "children": [
        "IPY_MODEL_ad8fe2a0001747aca9bd1b014ec81e4b",
        "IPY_MODEL_faa5a8b4fe9b4fa4beeb31138cc408f1",
        "IPY_MODEL_310a035e2f664ae593a9befadb94c849",
        "IPY_MODEL_86f0fd526b51425c96286b8d6093b6b0",
        "IPY_MODEL_b9b73e872da0468ba222c6dc9dab0f23"
       ],
       "layout": "IPY_MODEL_36da70ee2ea6488cb0691f7d3dcb2193"
      }
     },
     "e1a078b730b24e919c918c9c6cbb928f": {
      "model_module": "@jupyter-widgets/controls",
      "model_module_version": "1.4.0",
      "model_name": "HTMLModel",
      "state": {
       "layout": "IPY_MODEL_bce78ad801ad4e28884e1db26d182f1e",
       "style": "IPY_MODEL_186c9518fc90445eb8d49c653c848aab",
       "value": "<h4 style=\"font-size:14px;\">Um welche Satzart handelt es sich bei Satz 2?</h4>"
      }
     },
     "e1b15a1e081642729ebc308f5283648b": {
      "model_module": "@jupyter-widgets/controls",
      "model_module_version": "1.4.0",
      "model_name": "DescriptionStyleModel",
      "state": {
       "description_width": ""
      }
     },
     "e1d2f5da9b7e4327962b015d630f1670": {
      "model_module": "@jupyter-widgets/controls",
      "model_module_version": "1.4.0",
      "model_name": "HTMLModel",
      "state": {
       "layout": "IPY_MODEL_99e354c7e1c445399da204a82017fc2c",
       "style": "IPY_MODEL_2445d8c39dbd4a97a138fc19baa65830",
       "value": "<i>Wählen Sie die <ins>eine</ins> korrekte Antwort aus: </i>"
      }
     },
     "e1ddcb93fc9d4403be4f094ecd4e033c": {
      "model_module": "@jupyter-widgets/base",
      "model_module_version": "1.1.0",
      "model_name": "LayoutModel",
      "state": {}
     },
     "e22a3ddc466140749c5b5fc7bb4f6ba1": {
      "model_module": "@jupyter-widgets/base",
      "model_module_version": "1.1.0",
      "model_name": "LayoutModel",
      "state": {
       "width": "250px"
      }
     },
     "e251e06567464ccb9ccfe4a3c2c34cc6": {
      "model_module": "@jupyter-widgets/base",
      "model_module_version": "1.1.0",
      "model_name": "LayoutModel",
      "state": {
       "width": "600px"
      }
     },
     "e26b121d3ada4c48950413308e3ab937": {
      "model_module": "@jupyter-widgets/base",
      "model_module_version": "1.1.0",
      "model_name": "LayoutModel",
      "state": {
       "justify_content": "center"
      }
     },
     "e282d07018604847b0f0ae00f3b52fe8": {
      "model_module": "@jupyter-widgets/controls",
      "model_module_version": "1.4.0",
      "model_name": "VBoxModel",
      "state": {
       "children": [
        "IPY_MODEL_f4c6e350aeaa4b49a6c0c7a3b8367ca0",
        "IPY_MODEL_b8eecb4cf82f442dbd272701e939091b",
        "IPY_MODEL_a08a073e1e744ee7a98558a9564c19cf",
        "IPY_MODEL_7d346241b92a4ec2b4e3213f6c96537c",
        "IPY_MODEL_8b5af272c46546099a06175fd609d8c9",
        "IPY_MODEL_d6039e8ece8b46dea167fd6f78fa95fe",
        "IPY_MODEL_b4de253513034be3bbd49fecc4f4e3fd",
        "IPY_MODEL_a28fb551227949fca75382cd397de311"
       ],
       "layout": "IPY_MODEL_6741f1398eef461c9e1140c23e3702fb"
      }
     },
     "e28814a882da42e9951731f68fdac417": {
      "model_module": "@jupyter-widgets/controls",
      "model_module_version": "1.4.0",
      "model_name": "ButtonStyleModel",
      "state": {}
     },
     "e31882250e9d40fa83c61ee72b834a14": {
      "model_module": "@jupyter-widgets/base",
      "model_module_version": "1.1.0",
      "model_name": "LayoutModel",
      "state": {
       "width": "250px"
      }
     },
     "e31cda2e02c546f489b232742475665e": {
      "model_module": "@jupyter-widgets/base",
      "model_module_version": "1.1.0",
      "model_name": "LayoutModel",
      "state": {}
     },
     "e31fea746a6c4e269f18091e5a229cd6": {
      "model_module": "@jupyter-widgets/base",
      "model_module_version": "1.1.0",
      "model_name": "LayoutModel",
      "state": {}
     },
     "e347494acbdc4622aab51a32214a6c43": {
      "model_module": "@jupyter-widgets/controls",
      "model_module_version": "1.4.0",
      "model_name": "CheckboxModel",
      "state": {
       "description": "das",
       "disabled": false,
       "layout": "IPY_MODEL_eb482665f8f24fe7b1418fcda310b249",
       "style": "IPY_MODEL_72b867e06c614120a9dface54680905a",
       "value": false
      }
     },
     "e3d7a154f4624c4e8ef94031792a084b": {
      "model_module": "@jupyter-widgets/controls",
      "model_module_version": "1.4.0",
      "model_name": "DescriptionStyleModel",
      "state": {
       "description_width": ""
      }
     },
     "e3ff71f95d58481681a2972c5ec2b31d": {
      "model_module": "@jupyter-widgets/base",
      "model_module_version": "1.1.0",
      "model_name": "LayoutModel",
      "state": {
       "width": "600px"
      }
     },
     "e47ed8a0e9874105ba15efa1a3e6ad52": {
      "model_module": "@jupyter-widgets/controls",
      "model_module_version": "1.4.0",
      "model_name": "DescriptionStyleModel",
      "state": {
       "description_width": ""
      }
     },
     "e48e371d473044598bff0b7c425c4a9d": {
      "model_module": "@jupyter-widgets/controls",
      "model_module_version": "1.4.0",
      "model_name": "DescriptionStyleModel",
      "state": {
       "description_width": ""
      }
     },
     "e5425377acb446b18eb4c790b15801fb": {
      "model_module": "@jupyter-widgets/controls",
      "model_module_version": "1.4.0",
      "model_name": "ButtonModel",
      "state": {
       "description": "Satz 1",
       "layout": "IPY_MODEL_95b5b201276e480f924ef031cb4993ec",
       "style": "IPY_MODEL_2bd513f508da4bc9b6389d774e9a1537"
      }
     },
     "e5764c86fded4b46b81f9780c05c474b": {
      "model_module": "@jupyter-widgets/base",
      "model_module_version": "1.1.0",
      "model_name": "LayoutModel",
      "state": {}
     },
     "e5943e2f92d941c79e1b03fc7df5060b": {
      "model_module": "@jupyter-widgets/controls",
      "model_module_version": "1.4.0",
      "model_name": "ButtonStyleModel",
      "state": {}
     },
     "e5a5e939b4db41fb88875a9999f5e141": {
      "model_module": "@jupyter-widgets/controls",
      "model_module_version": "1.4.0",
      "model_name": "DropdownModel",
      "state": {
       "_options_labels": [
        "Infinitiv-Objektsatz",
        "Kausalsatz",
        "Keine der Alternativen",
        "Lokalsatz",
        "Modalsatz",
        "Relativsatz",
        "Subjektsatz",
        "Temporalsatz"
       ],
       "description": "Antwort:",
       "index": 0,
       "layout": "IPY_MODEL_a95114ea735e47d4b6397f900bf18db2",
       "style": "IPY_MODEL_5069d0c8ca9444308a72c5f4215be994"
      }
     },
     "e60368a9aa3a4f1f925a839cfdac2775": {
      "model_module": "@jupyter-widgets/controls",
      "model_module_version": "1.4.0",
      "model_name": "CheckboxModel",
      "state": {
       "description": "Buch",
       "disabled": false,
       "layout": "IPY_MODEL_404bb5cd633d470db8e30bc4087d830a",
       "style": "IPY_MODEL_08c3dee2bd2c48179c4ce1189f03f4b4",
       "value": false
      }
     },
     "e675562ff6bd4084b1d00d7822e0b41b": {
      "model_module": "@jupyter-widgets/controls",
      "model_module_version": "1.4.0",
      "model_name": "DropdownModel",
      "state": {
       "_options_labels": [
        "Kausalsatz",
        "Keine der Alternativen",
        "Keine der Alternativen",
        "Lokalsatz",
        "Modalsatz",
        "Objektsatz",
        "Relativsatz",
        "Subjektsatz",
        "Temporalsatz"
       ],
       "description": "Antwort:",
       "index": 0,
       "layout": "IPY_MODEL_3e6f507a1c26458594899e72b8269437",
       "style": "IPY_MODEL_d7b409712461415da2d22ec7b1bbd726"
      }
     },
     "e675b72497044bf19ebc798f7e89948a": {
      "model_module": "@jupyter-widgets/base",
      "model_module_version": "1.1.0",
      "model_name": "LayoutModel",
      "state": {
       "width": "250px"
      }
     },
     "e686cbfdb9c14ffabee578b27e7ddb4b": {
      "model_module": "@jupyter-widgets/controls",
      "model_module_version": "1.4.0",
      "model_name": "ButtonModel",
      "state": {
       "description": "Korrekt?",
       "layout": "IPY_MODEL_957be716b3a44954b073a5e278680083",
       "style": "IPY_MODEL_78eea503c5e944a2b8edda6d01f43929"
      }
     },
     "e6a4c7465e0c477aaaf141f6f84385f7": {
      "model_module": "@jupyter-widgets/controls",
      "model_module_version": "1.4.0",
      "model_name": "DescriptionStyleModel",
      "state": {
       "description_width": ""
      }
     },
     "e6e21a4ef34a48be8378e57cc3d90e5d": {
      "model_module": "@jupyter-widgets/base",
      "model_module_version": "1.1.0",
      "model_name": "LayoutModel",
      "state": {}
     },
     "e6f4341a158348b8a5b96114db187eea": {
      "model_module": "@jupyter-widgets/base",
      "model_module_version": "1.1.0",
      "model_name": "LayoutModel",
      "state": {
       "justify_content": "center"
      }
     },
     "e70edba8bfed4c9f8b9c3fee5b04b31d": {
      "model_module": "@jupyter-widgets/controls",
      "model_module_version": "1.4.0",
      "model_name": "HBoxModel",
      "state": {
       "children": [
        "IPY_MODEL_153ab621eea343faad23f8ca1c249d07",
        "IPY_MODEL_3a9171988d1f4cf683f64de3c1c12a54"
       ],
       "layout": "IPY_MODEL_fc59f315bff94fc3b8daff33aefaa17f"
      }
     },
     "e717613bd0534ce19b6144ef0f48e043": {
      "model_module": "@jupyter-widgets/base",
      "model_module_version": "1.1.0",
      "model_name": "LayoutModel",
      "state": {
       "width": "250px"
      }
     },
     "e72b0c7b2d1040e0a57c9a836136f570": {
      "model_module": "@jupyter-widgets/controls",
      "model_module_version": "1.4.0",
      "model_name": "DescriptionStyleModel",
      "state": {
       "description_width": ""
      }
     },
     "e738d44609554c09a93502c3f1b0daf1": {
      "model_module": "@jupyter-widgets/base",
      "model_module_version": "1.1.0",
      "model_name": "LayoutModel",
      "state": {
       "width": "600px"
      }
     },
     "e7391a228bfb4112b8f2d6d2987dfa78": {
      "model_module": "@jupyter-widgets/controls",
      "model_module_version": "1.4.0",
      "model_name": "DescriptionStyleModel",
      "state": {
       "description_width": ""
      }
     },
     "e7502726fec5454490112a5d25ef5cfb": {
      "model_module": "@jupyter-widgets/controls",
      "model_module_version": "1.4.0",
      "model_name": "DescriptionStyleModel",
      "state": {
       "description_width": "initial"
      }
     },
     "e7ba9b0d478242458ad7e752402aa86f": {
      "model_module": "@jupyter-widgets/controls",
      "model_module_version": "1.4.0",
      "model_name": "DescriptionStyleModel",
      "state": {
       "description_width": "initial"
      }
     },
     "e7d165d2d41b4c0b92e2883accefc836": {
      "model_module": "@jupyter-widgets/controls",
      "model_module_version": "1.4.0",
      "model_name": "ButtonStyleModel",
      "state": {}
     },
     "e7d28c38a1e942b7b23a321e81fe1f4f": {
      "model_module": "@jupyter-widgets/controls",
      "model_module_version": "1.4.0",
      "model_name": "DropdownModel",
      "state": {
       "_options_labels": [
        "Adverbialsatz",
        "Attributsatz",
        "Keine der Alternativen",
        "Komplementsatz",
        "Matrixsatz"
       ],
       "description": "Antwort:",
       "index": 0,
       "layout": "IPY_MODEL_3910bb4292614a068cbf42bae7a477da",
       "style": "IPY_MODEL_6ccebbb3b9ae45f487005269bf6050cd"
      }
     },
     "e7e598a606d443ec906f9a4dc5d68e0a": {
      "model_module": "@jupyter-widgets/base",
      "model_module_version": "1.1.0",
      "model_name": "LayoutModel",
      "state": {
       "width": "600px"
      }
     },
     "e824c1e212474c07b08d8186b97dc32f": {
      "model_module": "@jupyter-widgets/base",
      "model_module_version": "1.1.0",
      "model_name": "LayoutModel",
      "state": {
       "justify_content": "center"
      }
     },
     "e8402c19a5314e1a8d96c1bfe4c29b2e": {
      "model_module": "@jupyter-widgets/base",
      "model_module_version": "1.1.0",
      "model_name": "LayoutModel",
      "state": {}
     },
     "e85c6fabcfa14106b2dfeb6ec4dc9a8e": {
      "model_module": "@jupyter-widgets/controls",
      "model_module_version": "1.4.0",
      "model_name": "CheckboxModel",
      "state": {
       "description": "Vater",
       "disabled": false,
       "layout": "IPY_MODEL_cce1df55790c4fdb8f42e5b956c823b8",
       "style": "IPY_MODEL_61e9c91ca6254928a6a03b2852d5c805",
       "value": false
      }
     },
     "e8e53027481f4f62b51418ee41a4bf34": {
      "model_module": "@jupyter-widgets/controls",
      "model_module_version": "1.4.0",
      "model_name": "DescriptionStyleModel",
      "state": {
       "description_width": "initial"
      }
     },
     "e924c042ac9645d8a251f152a0b4e2d0": {
      "model_module": "@jupyter-widgets/controls",
      "model_module_version": "1.4.0",
      "model_name": "DropdownModel",
      "state": {
       "_options_labels": [
        "Kausalsatz",
        "Keine der Alternativen",
        "Lokalsatz",
        "Modalsatz",
        "Objektsatz",
        "Relativsatz",
        "Subjektsatz",
        "Temporalsatz"
       ],
       "description": "Antwort:",
       "index": 0,
       "layout": "IPY_MODEL_9bcfb55c8910436ab472ddeb703dc033",
       "style": "IPY_MODEL_796ff1117743475298e65bfdc5ff6079"
      }
     },
     "ea12ce121e11412eacc4b471527ea867": {
      "model_module": "@jupyter-widgets/controls",
      "model_module_version": "1.4.0",
      "model_name": "HTMLModel",
      "state": {
       "layout": "IPY_MODEL_ad5ff7436fbb4185a4aa59d8ca293613",
       "style": "IPY_MODEL_3cd5813862c54305ad6a5682f4ee9aad",
       "value": "<i>Wählen Sie die <ins>eine</ins> korrekte Antwort aus: </i>"
      }
     },
     "ea4aa4070c3b4af4b50a1767de062f52": {
      "model_module": "@jupyter-widgets/base",
      "model_module_version": "1.1.0",
      "model_name": "LayoutModel",
      "state": {
       "justify_content": "center"
      }
     },
     "ea82a81322894605b4fdab5795f4e1b3": {
      "model_module": "@jupyter-widgets/base",
      "model_module_version": "1.1.0",
      "model_name": "LayoutModel",
      "state": {
       "justify_content": "center"
      }
     },
     "eaf0ec4510684e0dacab90b0dc03ae6f": {
      "model_module": "@jupyter-widgets/base",
      "model_module_version": "1.1.0",
      "model_name": "LayoutModel",
      "state": {
       "width": "600px"
      }
     },
     "eb1e91c205004deeb37bbc9fe0851a98": {
      "model_module": "@jupyter-widgets/base",
      "model_module_version": "1.1.0",
      "model_name": "LayoutModel",
      "state": {}
     },
     "eb3c1ff2c39b4fa69eeba2564495b139": {
      "model_module": "@jupyter-widgets/controls",
      "model_module_version": "1.4.0",
      "model_name": "DescriptionStyleModel",
      "state": {
       "description_width": ""
      }
     },
     "eb482665f8f24fe7b1418fcda310b249": {
      "model_module": "@jupyter-widgets/base",
      "model_module_version": "1.1.0",
      "model_name": "LayoutModel",
      "state": {
       "width": "600px"
      }
     },
     "eb8b3507b52d4698b99ffce44a25c8a7": {
      "model_module": "@jupyter-widgets/controls",
      "model_module_version": "1.4.0",
      "model_name": "ButtonModel",
      "state": {
       "description": "Korrekt?",
       "layout": "IPY_MODEL_495629e1548144e8916fec81b1a46862",
       "style": "IPY_MODEL_9529d82ca450451a921b8d609376714a"
      }
     },
     "eb960f2e2c184c198a31a7a54bd35b7a": {
      "model_module": "@jupyter-widgets/base",
      "model_module_version": "1.1.0",
      "model_name": "LayoutModel",
      "state": {
       "width": "500px"
      }
     },
     "ec09e515e08e4620937167265b0338b4": {
      "model_module": "@jupyter-widgets/base",
      "model_module_version": "1.1.0",
      "model_name": "LayoutModel",
      "state": {
       "width": "600px"
      }
     },
     "ec2c347064d440618578198418fcae32": {
      "model_module": "@jupyter-widgets/base",
      "model_module_version": "1.1.0",
      "model_name": "LayoutModel",
      "state": {}
     },
     "ec2e03c236114769919ce41e871196cb": {
      "model_module": "@jupyter-widgets/controls",
      "model_module_version": "1.4.0",
      "model_name": "CheckboxModel",
      "state": {
       "description": "Das Vorfeld ist unbesetzt.",
       "disabled": false,
       "layout": "IPY_MODEL_e7e598a606d443ec906f9a4dc5d68e0a",
       "style": "IPY_MODEL_7598ffb2b93649efbc229aacc3815a2f",
       "value": false
      }
     },
     "ec3f8437f37740819194e43dbaba56e9": {
      "model_module": "@jupyter-widgets/base",
      "model_module_version": "1.1.0",
      "model_name": "LayoutModel",
      "state": {
       "width": "250px"
      }
     },
     "ec68c14bd1ee4af79808f1565129d87f": {
      "model_module": "@jupyter-widgets/base",
      "model_module_version": "1.1.0",
      "model_name": "LayoutModel",
      "state": {}
     },
     "ec7d051b7d364e90ba8bf3e5acd56d93": {
      "model_module": "@jupyter-widgets/base",
      "model_module_version": "1.1.0",
      "model_name": "LayoutModel",
      "state": {
       "width": "250px"
      }
     },
     "ec8689511b31444a9ddc16b87ba0a415": {
      "model_module": "@jupyter-widgets/controls",
      "model_module_version": "1.4.0",
      "model_name": "ButtonModel",
      "state": {
       "description": "Satz 1",
       "layout": "IPY_MODEL_3753de90a65543fdbf44debeebd34945",
       "style": "IPY_MODEL_129ad8e6318846f1a298c4ea351bcfec"
      }
     },
     "ec9d37f74f7947b3854aac1e14a3649a": {
      "model_module": "@jupyter-widgets/controls",
      "model_module_version": "1.4.0",
      "model_name": "HTMLModel",
      "state": {
       "layout": "IPY_MODEL_9ee864e7c2214367abd1e99b5cb598c6",
       "style": "IPY_MODEL_69d1c6374cef4e58a2d25152f879bea0",
       "value": "<i>Markieren Sie <ins>alle</ins> passenden Antworten: </i>"
      }
     },
     "ecb2c8ccf6f74309a4a793f79cb5d463": {
      "model_module": "@jupyter-widgets/base",
      "model_module_version": "1.1.0",
      "model_name": "LayoutModel",
      "state": {
       "width": "250px"
      }
     },
     "ecb970ec53224a84b6013c309c9449cc": {
      "model_module": "@jupyter-widgets/controls",
      "model_module_version": "1.4.0",
      "model_name": "HTMLModel",
      "state": {
       "layout": "IPY_MODEL_a6cc218456054ba287a33f333e085970",
       "style": "IPY_MODEL_242fd5f8a90c40a4950a448abafb71b0",
       "value": "<i>Markieren Sie <ins>alle</ins> passenden Antworten: </i>"
      }
     },
     "ecbcb9c7ffab432db6fefafc086b5ef2": {
      "model_module": "@jupyter-widgets/controls",
      "model_module_version": "1.4.0",
      "model_name": "DescriptionStyleModel",
      "state": {
       "description_width": ""
      }
     },
     "ed22cccf75714034a6c71d00087c8448": {
      "model_module": "@jupyter-widgets/base",
      "model_module_version": "1.1.0",
      "model_name": "LayoutModel",
      "state": {
       "width": "250px"
      }
     },
     "ed9021a0996e4a308a2c38b07ecd3416": {
      "model_module": "@jupyter-widgets/controls",
      "model_module_version": "1.4.0",
      "model_name": "ButtonStyleModel",
      "state": {}
     },
     "ed9932edfb3b45b4a124a125e885b0dc": {
      "model_module": "@jupyter-widgets/controls",
      "model_module_version": "1.4.0",
      "model_name": "DescriptionStyleModel",
      "state": {
       "description_width": "initial"
      }
     },
     "edc85a0f5ff74c73ba36ad544e4a3cb6": {
      "model_module": "@jupyter-widgets/base",
      "model_module_version": "1.1.0",
      "model_name": "LayoutModel",
      "state": {
       "width": "600px"
      }
     },
     "edf19f7c751d4981b83fbec598a206c4": {
      "model_module": "@jupyter-widgets/base",
      "model_module_version": "1.1.0",
      "model_name": "LayoutModel",
      "state": {
       "width": "250px"
      }
     },
     "ee02984830df436a99b96eaadc6b7a09": {
      "model_module": "@jupyter-widgets/base",
      "model_module_version": "1.1.0",
      "model_name": "LayoutModel",
      "state": {
       "width": "250px"
      }
     },
     "ee14d367f9a04718a59da7d242a92e89": {
      "model_module": "@jupyter-widgets/controls",
      "model_module_version": "1.4.0",
      "model_name": "HTMLModel",
      "state": {
       "layout": "IPY_MODEL_d6f59d139cea4c89963bb648f194aaff",
       "style": "IPY_MODEL_d13857fa280347ed9bee031cfbe2b4a8",
       "value": "<h4 style=\"font-size:14px;\">Welche Wörter stehen im Vorfeld?</h4>"
      }
     },
     "ee2379f0e33d4f4bbaf82da3f74e69f9": {
      "model_module": "@jupyter-widgets/base",
      "model_module_version": "1.1.0",
      "model_name": "LayoutModel",
      "state": {
       "width": "250px"
      }
     },
     "ee23c4c943b04fdaa19bba538d716e16": {
      "model_module": "@jupyter-widgets/base",
      "model_module_version": "1.1.0",
      "model_name": "LayoutModel",
      "state": {
       "width": "600px"
      }
     },
     "ee2719fdac6540b48e478df6f77e01a0": {
      "model_module": "@jupyter-widgets/base",
      "model_module_version": "1.1.0",
      "model_name": "LayoutModel",
      "state": {
       "width": "600px"
      }
     },
     "ee653d885dad479f83284ecdd4e0d86b": {
      "model_module": "@jupyter-widgets/controls",
      "model_module_version": "1.4.0",
      "model_name": "ButtonStyleModel",
      "state": {}
     },
     "ef1b3517420b488fa4d17c41cf0c3b54": {
      "model_module": "@jupyter-widgets/controls",
      "model_module_version": "1.4.0",
      "model_name": "DescriptionStyleModel",
      "state": {
       "description_width": ""
      }
     },
     "ef32507d6ff141c0a660f47d18a96936": {
      "model_module": "@jupyter-widgets/controls",
      "model_module_version": "1.4.0",
      "model_name": "ButtonStyleModel",
      "state": {}
     },
     "ef5a9de6c9b04822891db617f4e0b8a6": {
      "model_module": "@jupyter-widgets/controls",
      "model_module_version": "1.4.0",
      "model_name": "ButtonModel",
      "state": {
       "description": "aux",
       "layout": "IPY_MODEL_968c10a5ab9e4ebca6549a55beff2767",
       "style": "IPY_MODEL_cd6e5cd5b486479c91998249f1b38aff"
      }
     },
     "ef71706420bf4d39b61ac5a0df13a5a1": {
      "model_module": "@jupyter-widgets/controls",
      "model_module_version": "1.4.0",
      "model_name": "DescriptionStyleModel",
      "state": {
       "description_width": "initial"
      }
     },
     "efb609b558df4aa3bf0ddc9387229fb5": {
      "model_module": "@jupyter-widgets/controls",
      "model_module_version": "1.4.0",
      "model_name": "DescriptionStyleModel",
      "state": {
       "description_width": ""
      }
     },
     "efcd1d6ac0c4475782dfe093380d41aa": {
      "model_module": "@jupyter-widgets/base",
      "model_module_version": "1.1.0",
      "model_name": "LayoutModel",
      "state": {
       "width": "600px"
      }
     },
     "efe75ad32fe24cf2a215797d43a7d633": {
      "model_module": "@jupyter-widgets/controls",
      "model_module_version": "1.4.0",
      "model_name": "HTMLModel",
      "state": {
       "layout": "IPY_MODEL_87a3362ba51c476ba46f23ae11e20b5a",
       "style": "IPY_MODEL_d4dfea083d5a46fb9ab76659f093ff0c",
       "value": "<h4 style=\"font-size:14px;\">Welcher eingebettete Satztyp liegt vor?</h4>"
      }
     },
     "f028a59361fa4f1daf42d37eb2b99dcc": {
      "model_module": "@jupyter-widgets/controls",
      "model_module_version": "1.4.0",
      "model_name": "VBoxModel",
      "state": {
       "children": [
        "IPY_MODEL_0eed330740f1472c8ded6ddd64241164",
        "IPY_MODEL_ec2e03c236114769919ce41e871196cb",
        "IPY_MODEL_1516a2ed2a894350be43e3403dd2fef5",
        "IPY_MODEL_32c12d550cd04768aec7d5c20f9ca5a5",
        "IPY_MODEL_d786d09615ea45519327dcb9675f63b1",
        "IPY_MODEL_49f0f5d56cf74eec9d0277334efffa82",
        "IPY_MODEL_58d9b4ed26d64f3fbf136b8f68b9da32",
        "IPY_MODEL_af4211d9507a455ab773bd9d6634731c",
        "IPY_MODEL_f04e24dd648e48daabde35bde71ccacf"
       ],
       "layout": "IPY_MODEL_b46e7784938d4557b2bfb52ed76ca5f6"
      }
     },
     "f04e24dd648e48daabde35bde71ccacf": {
      "model_module": "@jupyter-widgets/controls",
      "model_module_version": "1.4.0",
      "model_name": "CheckboxModel",
      "state": {
       "description": "kleine",
       "disabled": false,
       "layout": "IPY_MODEL_fafbeaac84cf4a85993442c43d4d979d",
       "style": "IPY_MODEL_19c368d08be1419a900827432f6e7acb",
       "value": false
      }
     },
     "f0b45f53bd3f48249a1c8b6025a66449": {
      "model_module": "@jupyter-widgets/base",
      "model_module_version": "1.1.0",
      "model_name": "LayoutModel",
      "state": {
       "justify_content": "center"
      }
     },
     "f0c2c55e7aab4b199319e43d96f5d400": {
      "model_module": "@jupyter-widgets/base",
      "model_module_version": "1.1.0",
      "model_name": "LayoutModel",
      "state": {
       "width": "600px"
      }
     },
     "f0cb22ab94ec48698b64cc340a095897": {
      "model_module": "@jupyter-widgets/controls",
      "model_module_version": "1.4.0",
      "model_name": "HTMLModel",
      "state": {
       "layout": "IPY_MODEL_385d8f0f8c944f9c88aacb78aef322e1",
       "style": "IPY_MODEL_8ee8efb8bdc14f5b8f67b908c01b64d8",
       "value": "<h4 style=\"font-size:14px;\">Welche Wörter sind Teil der rechten Satzklammer?</h4>"
      }
     },
     "f1153414f854439f8a8d344b44c13b72": {
      "model_module": "@jupyter-widgets/controls",
      "model_module_version": "1.4.0",
      "model_name": "DropdownModel",
      "state": {
       "_options_labels": [
        "Adverbialsatz",
        "Attributsatz",
        "Keine der Alternativen",
        "Komplementsatz",
        "Matrixsatz"
       ],
       "description": "Antwort:",
       "index": 0,
       "layout": "IPY_MODEL_d13beeb8e26e4c0482f782985655e0a7",
       "style": "IPY_MODEL_0ec4355dcc56453aa41b23c938f74233"
      }
     },
     "f1172423e84545eca4bfe2248de17b94": {
      "model_module": "@jupyter-widgets/controls",
      "model_module_version": "1.4.0",
      "model_name": "VBoxModel",
      "state": {
       "children": [
        "IPY_MODEL_9c0f483585a04572b7451e0ba23ac57b",
        "IPY_MODEL_4a198b852c964955949fd7d23f39ab8e",
        "IPY_MODEL_b85d511e1c804b6d8955b73e407c69e5",
        "IPY_MODEL_d1504a37e89a4007a8a12c0a7eca9063"
       ],
       "layout": "IPY_MODEL_4ab14d08c86145f9ab4bd3f16944f78b"
      }
     },
     "f12354c8692c4f87b0f1733160871cd9": {
      "model_module": "@jupyter-widgets/base",
      "model_module_version": "1.1.0",
      "model_name": "LayoutModel",
      "state": {}
     },
     "f12e53523dba40c89c702b31d4bbe28b": {
      "model_module": "@jupyter-widgets/controls",
      "model_module_version": "1.4.0",
      "model_name": "DescriptionStyleModel",
      "state": {
       "description_width": "initial"
      }
     },
     "f1346354a11c46bf8b70efc96c7cbe7d": {
      "model_module": "@jupyter-widgets/base",
      "model_module_version": "1.1.0",
      "model_name": "LayoutModel",
      "state": {}
     },
     "f1567c0c94cd4deb94595d42400d4fd2": {
      "model_module": "@jupyter-widgets/base",
      "model_module_version": "1.1.0",
      "model_name": "LayoutModel",
      "state": {
       "width": "250px"
      }
     },
     "f173930dbc064c0a8820de682c77510f": {
      "model_module": "@jupyter-widgets/controls",
      "model_module_version": "1.4.0",
      "model_name": "CheckboxModel",
      "state": {
       "description": "Junge",
       "disabled": false,
       "layout": "IPY_MODEL_e251e06567464ccb9ccfe4a3c2c34cc6",
       "style": "IPY_MODEL_f3fff394a8c94d56abfeb241825f9bb1",
       "value": false
      }
     },
     "f18f813c50ed4becb37ad0d88696334a": {
      "model_module": "@jupyter-widgets/base",
      "model_module_version": "1.1.0",
      "model_name": "LayoutModel",
      "state": {
       "width": "250px"
      }
     },
     "f226a96730074ce1b1d9b7e709dfdf4e": {
      "model_module": "@jupyter-widgets/controls",
      "model_module_version": "1.4.0",
      "model_name": "CheckboxModel",
      "state": {
       "description": "Weihnachten",
       "disabled": false,
       "layout": "IPY_MODEL_23e99a7c50ff4faaa23834276173f963",
       "style": "IPY_MODEL_2f6ec329136749dcb74add538faa15f3",
       "value": false
      }
     },
     "f23a36cc883f46b7b415f22d8b0121ae": {
      "model_module": "@jupyter-widgets/controls",
      "model_module_version": "1.4.0",
      "model_name": "CheckboxModel",
      "state": {
       "description": "Vater",
       "disabled": false,
       "layout": "IPY_MODEL_3254d28840904914b5e138996cb8a3c0",
       "style": "IPY_MODEL_7c563b5c49bb4900b6522eea1ec858e8",
       "value": false
      }
     },
     "f254f3069498405296f1321d7b38d6ae": {
      "model_module": "@jupyter-widgets/controls",
      "model_module_version": "1.4.0",
      "model_name": "HTMLModel",
      "state": {
       "layout": "IPY_MODEL_385e24111e4c46578931ea725c43d4f2",
       "style": "IPY_MODEL_061f56a39bf945cca9627b1aff76ea07",
       "value": "<h4 style=\"font-size:14px;\">Welcher Satztyp kommt vor?</h4>"
      }
     },
     "f2a74e578e16447f9c79a02f3df88810": {
      "model_module": "@jupyter-widgets/base",
      "model_module_version": "1.1.0",
      "model_name": "LayoutModel",
      "state": {}
     },
     "f2bd520cbe484796a81f0d8e083048af": {
      "model_module": "@jupyter-widgets/base",
      "model_module_version": "1.1.0",
      "model_name": "LayoutModel",
      "state": {
       "width": "250px"
      }
     },
     "f312e8b62bb34e199298e24f111a6644": {
      "model_module": "@jupyter-widgets/base",
      "model_module_version": "1.1.0",
      "model_name": "LayoutModel",
      "state": {
       "width": "600px"
      }
     },
     "f32d444629a640ffb970bab71292112d": {
      "model_module": "@jupyter-widgets/base",
      "model_module_version": "1.1.0",
      "model_name": "LayoutModel",
      "state": {}
     },
     "f33f6c89a5b643a9ac6141cb4c501a99": {
      "model_module": "@jupyter-widgets/controls",
      "model_module_version": "1.4.0",
      "model_name": "VBoxModel",
      "state": {
       "children": [
        "IPY_MODEL_98b8e3b072444c7ab71af7a8c7ab2a2e",
        "IPY_MODEL_64c84e0ee5ef4ac6a85b46e7c6fa0040",
        "IPY_MODEL_bd665091f40b4401a53e745384a9c720",
        "IPY_MODEL_e686cbfdb9c14ffabee578b27e7ddb4b"
       ],
       "layout": "IPY_MODEL_b814a7fb97234fa7965b7caf2e83c03f"
      }
     },
     "f353cb1ddf1e4ad0bc584654741cddfa": {
      "model_module": "@jupyter-widgets/base",
      "model_module_version": "1.1.0",
      "model_name": "LayoutModel",
      "state": {
       "width": "250px"
      }
     },
     "f35c4007c08f4c61b0003457d1b587da": {
      "model_module": "@jupyter-widgets/base",
      "model_module_version": "1.1.0",
      "model_name": "LayoutModel",
      "state": {}
     },
     "f3b3b78949c64f52b146d174f1ca499f": {
      "model_module": "@jupyter-widgets/base",
      "model_module_version": "1.1.0",
      "model_name": "LayoutModel",
      "state": {}
     },
     "f3fff394a8c94d56abfeb241825f9bb1": {
      "model_module": "@jupyter-widgets/controls",
      "model_module_version": "1.4.0",
      "model_name": "DescriptionStyleModel",
      "state": {
       "description_width": "initial"
      }
     },
     "f40f6266a8fc4badb6cf296fbf76f09b": {
      "model_module": "@jupyter-widgets/controls",
      "model_module_version": "1.4.0",
      "model_name": "DescriptionStyleModel",
      "state": {
       "description_width": "initial"
      }
     },
     "f41a540344bc43a0baca416e06bb3159": {
      "model_module": "@jupyter-widgets/controls",
      "model_module_version": "1.4.0",
      "model_name": "HTMLModel",
      "state": {
       "layout": "IPY_MODEL_14d2562ae21f4e41837da2022aa9a3c8",
       "style": "IPY_MODEL_113232d763074d419afe729cc1f752bf",
       "value": "<h4 style=\"font-size:14px;\">Wie läßt sich dieser Satztyp klassifizieren?</h4>"
      }
     },
     "f47ce4c0b98a45d99eadd061a54b1c80": {
      "model_module": "@jupyter-widgets/controls",
      "model_module_version": "1.4.0",
      "model_name": "CheckboxModel",
      "state": {
       "description": "hat",
       "disabled": false,
       "layout": "IPY_MODEL_789ff5033c04449b88bef949e5a302e4",
       "style": "IPY_MODEL_416568b541df4a3fac90cc71351f324f",
       "value": false
      }
     },
     "f49fb45fb13742e1a373de913124e3c9": {
      "model_module": "@jupyter-widgets/base",
      "model_module_version": "1.1.0",
      "model_name": "LayoutModel",
      "state": {}
     },
     "f4c6e350aeaa4b49a6c0c7a3b8367ca0": {
      "model_module": "@jupyter-widgets/controls",
      "model_module_version": "1.4.0",
      "model_name": "CheckboxModel",
      "state": {
       "description": "Das Vorfeld ist unbesetzt.",
       "disabled": false,
       "layout": "IPY_MODEL_acebf5fc36ba4a52b646b7403e50bfd0",
       "style": "IPY_MODEL_9f4128cfe5fd4f189191200cde96f387",
       "value": false
      }
     },
     "f4f26ce89f6c4289acf1efdc3ac84096": {
      "model_module": "@jupyter-widgets/base",
      "model_module_version": "1.1.0",
      "model_name": "LayoutModel",
      "state": {
       "width": "250px"
      }
     },
     "f5012c95082b407abbd27d3b04712ba8": {
      "model_module": "@jupyter-widgets/controls",
      "model_module_version": "1.4.0",
      "model_name": "ButtonStyleModel",
      "state": {}
     },
     "f51a513238454918b77d9c149ce456c1": {
      "model_module": "@jupyter-widgets/controls",
      "model_module_version": "1.4.0",
      "model_name": "DescriptionStyleModel",
      "state": {
       "description_width": ""
      }
     },
     "f53eb68e622f484693ec99ec87c49ca6": {
      "model_module": "@jupyter-widgets/controls",
      "model_module_version": "1.4.0",
      "model_name": "HBoxModel",
      "state": {
       "children": [
        "IPY_MODEL_bfdd49f25bf74959a48144ecd5e760d5",
        "IPY_MODEL_1ab0dd5faffb4ef1b6e32f463daa9fa8"
       ],
       "layout": "IPY_MODEL_97f7b86d68c746c5a60a0bbda1d2e215"
      }
     },
     "f54179dc10ab40c0bb13c01fcad1c909": {
      "model_module": "@jupyter-widgets/controls",
      "model_module_version": "1.4.0",
      "model_name": "ButtonModel",
      "state": {
       "description": "Korrekt?",
       "layout": "IPY_MODEL_e22a3ddc466140749c5b5fc7bb4f6ba1",
       "style": "IPY_MODEL_08806d03660b4ab6bfa6089c00e7979e"
      }
     },
     "f555eca0eb0740a8844fa7fad8eb223b": {
      "model_module": "@jupyter-widgets/base",
      "model_module_version": "1.1.0",
      "model_name": "LayoutModel",
      "state": {
       "justify_content": "center"
      }
     },
     "f5e37173cab040ab8bdb64ae9b3511af": {
      "model_module": "@jupyter-widgets/controls",
      "model_module_version": "1.4.0",
      "model_name": "DescriptionStyleModel",
      "state": {
       "description_width": ""
      }
     },
     "f67bd1a8a8584e6896d79fa2c024fdf3": {
      "model_module": "@jupyter-widgets/controls",
      "model_module_version": "1.4.0",
      "model_name": "HTMLModel",
      "state": {
       "layout": "IPY_MODEL_b4eb9c92f3c94879b623c11ec7dc9ae7",
       "style": "IPY_MODEL_bd06ee76651d404fb6bb397e9b80754e",
       "value": "<i>Wählen Sie die <ins>eine</ins> korrekte Antwort aus: </i>"
      }
     },
     "f6872afeb13642999c87b91b548e820f": {
      "model_module": "@jupyter-widgets/base",
      "model_module_version": "1.1.0",
      "model_name": "LayoutModel",
      "state": {}
     },
     "f6929280ccdb40cc94f3fa6a2b3d1d7f": {
      "model_module": "@jupyter-widgets/base",
      "model_module_version": "1.1.0",
      "model_name": "LayoutModel",
      "state": {
       "width": "250px"
      }
     },
     "f69c431459ff439ea83a1ef9ee29ffdd": {
      "model_module": "@jupyter-widgets/controls",
      "model_module_version": "1.4.0",
      "model_name": "CheckboxModel",
      "state": {
       "description": "Ja, der Satz bleibt unverändert grammatisch.",
       "disabled": false,
       "layout": "IPY_MODEL_99398d6e50cf4b97a47b2f02de744a18",
       "style": "IPY_MODEL_83fb01539d724fdbb877351647635df9",
       "value": false
      }
     },
     "f6bd857a2f1943e794fdad7ab56ee29d": {
      "model_module": "@jupyter-widgets/base",
      "model_module_version": "1.1.0",
      "model_name": "LayoutModel",
      "state": {}
     },
     "f7022dad5d344be8bfe3b7397e742cbb": {
      "model_module": "@jupyter-widgets/controls",
      "model_module_version": "1.4.0",
      "model_name": "DescriptionStyleModel",
      "state": {
       "description_width": "initial"
      }
     },
     "f71decba951a4244800aad1e13854c8b": {
      "model_module": "@jupyter-widgets/controls",
      "model_module_version": "1.4.0",
      "model_name": "ButtonStyleModel",
      "state": {}
     },
     "f730234998f9408cb75acdf2faa7b903": {
      "model_module": "@jupyter-widgets/controls",
      "model_module_version": "1.4.0",
      "model_name": "CheckboxModel",
      "state": {
       "description": "Komplementsatz (<code>xcomp</code>)",
       "disabled": false,
       "layout": "IPY_MODEL_2d566955d0d949f784620fd0590efd89",
       "style": "IPY_MODEL_37b59eedbe6e47ddb78d6be2b724882d",
       "value": false
      }
     },
     "f75a5a44bc09480fbff2233d2308c220": {
      "model_module": "@jupyter-widgets/base",
      "model_module_version": "1.1.0",
      "model_name": "LayoutModel",
      "state": {}
     },
     "f788c401a8fe46fa85a42271db033988": {
      "model_module": "@jupyter-widgets/controls",
      "model_module_version": "1.4.0",
      "model_name": "ButtonModel",
      "state": {
       "description": "Satz 4",
       "layout": "IPY_MODEL_ee02984830df436a99b96eaadc6b7a09",
       "style": "IPY_MODEL_4266bedaf0a74553a9956513d4b9b427"
      }
     },
     "f7e29266b4c9445399e7b8512b10361b": {
      "model_module": "@jupyter-widgets/controls",
      "model_module_version": "1.4.0",
      "model_name": "CheckboxModel",
      "state": {
       "description": "Satzschlusszeichen: Punkt",
       "disabled": false,
       "layout": "IPY_MODEL_cf3f305907ae4f9fa40d6c744dd4e028",
       "style": "IPY_MODEL_46ed395471d64dbd9e05d4b92c02dd42",
       "value": false
      }
     },
     "f7ec5b4096594c219b6c61e294539883": {
      "model_module": "@jupyter-widgets/base",
      "model_module_version": "1.1.0",
      "model_name": "LayoutModel",
      "state": {
       "width": "500px"
      }
     },
     "f7f0f4b01b7c4192afcee8adca8490db": {
      "model_module": "@jupyter-widgets/controls",
      "model_module_version": "1.4.0",
      "model_name": "CheckboxModel",
      "state": {
       "description": "schenkte",
       "disabled": false,
       "layout": "IPY_MODEL_6702d8efed23448a9703d5fe3d19c156",
       "style": "IPY_MODEL_477e8108560a4439bd7e384167afb692",
       "value": false
      }
     },
     "f7f3b5520ef94094abf50a1367b374b9": {
      "model_module": "@jupyter-widgets/controls",
      "model_module_version": "1.4.0",
      "model_name": "ButtonModel",
      "state": {
       "description": "subordiniert",
       "layout": "IPY_MODEL_2f142276a8ad4754ae40471dcda22e30",
       "style": "IPY_MODEL_519f6760f33747959d42d9f00a00ca23"
      }
     },
     "f85e2f427cf54e099447fea2917fa033": {
      "model_module": "@jupyter-widgets/controls",
      "model_module_version": "1.4.0",
      "model_name": "CheckboxModel",
      "state": {
       "description": "zu",
       "disabled": false,
       "layout": "IPY_MODEL_8c3b042b9bad4c4b8fca484b22eeaa54",
       "style": "IPY_MODEL_c657715b1a5444f38c5870137a178f2b",
       "value": false
      }
     },
     "f8c43ab10c8b41638f09a1e3ad652a1c": {
      "model_module": "@jupyter-widgets/controls",
      "model_module_version": "1.4.0",
      "model_name": "ButtonStyleModel",
      "state": {}
     },
     "f8fe8f4c15394cbea97b632da75b6885": {
      "model_module": "@jupyter-widgets/base",
      "model_module_version": "1.1.0",
      "model_name": "LayoutModel",
      "state": {
       "width": "600px"
      }
     },
     "f9197e59c25d41fe8759f53115ac2c0d": {
      "model_module": "@jupyter-widgets/base",
      "model_module_version": "1.1.0",
      "model_name": "LayoutModel",
      "state": {
       "width": "500px"
      }
     },
     "f94305bd4dbe4544848463aa4c255bb6": {
      "model_module": "@jupyter-widgets/base",
      "model_module_version": "1.1.0",
      "model_name": "LayoutModel",
      "state": {
       "width": "250px"
      }
     },
     "f99e6424825040e4bcf95d6662ca2a27": {
      "model_module": "@jupyter-widgets/controls",
      "model_module_version": "1.4.0",
      "model_name": "ButtonModel",
      "state": {
       "description": "Korrekt?",
       "layout": "IPY_MODEL_9f3e592f37c445bea6a0f33096d95569",
       "style": "IPY_MODEL_bb90ceff2dae46d0a9df8de5864ce574"
      }
     },
     "f9b8aa64b62c46ce80e9bbbdb38b1819": {
      "model_module": "@jupyter-widgets/controls",
      "model_module_version": "1.4.0",
      "model_name": "DescriptionStyleModel",
      "state": {
       "description_width": "initial"
      }
     },
     "f9bb61d463504a40af269dfc3cc0f818": {
      "model_module": "@jupyter-widgets/base",
      "model_module_version": "1.1.0",
      "model_name": "LayoutModel",
      "state": {
       "width": "250px"
      }
     },
     "f9e263070b6b4350898003d49290f40d": {
      "model_module": "@jupyter-widgets/base",
      "model_module_version": "1.1.0",
      "model_name": "LayoutModel",
      "state": {
       "justify_content": "center"
      }
     },
     "f9e3194324884ccda3e025d65c4a8920": {
      "model_module": "@jupyter-widgets/controls",
      "model_module_version": "1.4.0",
      "model_name": "HTMLModel",
      "state": {
       "layout": "IPY_MODEL_9ae5a9c8f6744a19b312feb65a831a21",
       "style": "IPY_MODEL_e1b15a1e081642729ebc308f5283648b",
       "value": "<i>Markieren Sie <ins>alle</ins> passenden Antworten: </i>"
      }
     },
     "f9e9854630174932b0be9e95cf6ec5fe": {
      "model_module": "@jupyter-widgets/controls",
      "model_module_version": "1.4.0",
      "model_name": "DescriptionStyleModel",
      "state": {
       "description_width": "initial"
      }
     },
     "f9eed13a128e44e99444814eb3498cec": {
      "model_module": "@jupyter-widgets/controls",
      "model_module_version": "1.4.0",
      "model_name": "HTMLModel",
      "state": {
       "layout": "IPY_MODEL_e824c1e212474c07b08d8186b97dc32f",
       "style": "IPY_MODEL_30b2acbf370f4a2b840fd416589e800e",
       "value": "<i>Wählen Sie die <ins>eine</ins> korrekte Antwort aus: </i>"
      }
     },
     "fa187e304e564eb9893b2ddac19c41cb": {
      "model_module": "@jupyter-widgets/base",
      "model_module_version": "1.1.0",
      "model_name": "LayoutModel",
      "state": {
       "width": "250px"
      }
     },
     "fa2f5102b6714eb68acc9f3240fc1a47": {
      "model_module": "@jupyter-widgets/controls",
      "model_module_version": "1.4.0",
      "model_name": "CheckboxModel",
      "state": {
       "description": "zu",
       "disabled": false,
       "layout": "IPY_MODEL_b5f957c1c0c54b18aa30367c2685fe7f",
       "style": "IPY_MODEL_ef71706420bf4d39b61ac5a0df13a5a1",
       "value": false
      }
     },
     "fa32f6308e6f4c08b808bf137b887aca": {
      "model_module": "@jupyter-widgets/controls",
      "model_module_version": "1.4.0",
      "model_name": "VBoxModel",
      "state": {
       "children": [
        "IPY_MODEL_0f7febb37f8f4ce8af619196f18790ba",
        "IPY_MODEL_17ba3190772749efb491cc82ed67b0d1",
        "IPY_MODEL_bcdb2c46fa8e41a8815d6e5ed68343fc",
        "IPY_MODEL_9a58bc33b91147beb55a852a027d979b",
        "IPY_MODEL_f7e29266b4c9445399e7b8512b10361b",
        "IPY_MODEL_76eea94002cc4843a107fa8285ac645f",
        "IPY_MODEL_006d641c29e3440ba461fb70592a6ed7"
       ],
       "layout": "IPY_MODEL_7ab4d946c09843e6a1443eb2363d1935"
      }
     },
     "fa90353f1d3f4261a3dd84366cff68fa": {
      "model_module": "@jupyter-widgets/controls",
      "model_module_version": "1.4.0",
      "model_name": "ButtonStyleModel",
      "state": {}
     },
     "faa5a8b4fe9b4fa4beeb31138cc408f1": {
      "model_module": "@jupyter-widgets/controls",
      "model_module_version": "1.4.0",
      "model_name": "CheckboxModel",
      "state": {
       "description": "Nachsatz",
       "disabled": false,
       "layout": "IPY_MODEL_1a121cb301734f0c9f7e3195580df624",
       "style": "IPY_MODEL_60e51866717949fbb5241ad3728aa5b6",
       "value": false
      }
     },
     "fafbeaac84cf4a85993442c43d4d979d": {
      "model_module": "@jupyter-widgets/base",
      "model_module_version": "1.1.0",
      "model_name": "LayoutModel",
      "state": {
       "width": "600px"
      }
     },
     "fb111804ab02403493f5e56f419e3b66": {
      "model_module": "@jupyter-widgets/controls",
      "model_module_version": "1.4.0",
      "model_name": "ButtonModel",
      "state": {
       "description": "subordiniert",
       "layout": "IPY_MODEL_64e9581548c44d5381bae9f51444b1b9",
       "style": "IPY_MODEL_3498cc1683614f37939fb7acf8f5f0e5"
      }
     },
     "fb13e187cdbb419cb7c981b653c696fa": {
      "model_module": "@jupyter-widgets/base",
      "model_module_version": "1.1.0",
      "model_name": "LayoutModel",
      "state": {
       "width": "600px"
      }
     },
     "fb4ef372000b462aa7a14a5ae8b6c147": {
      "model_module": "@jupyter-widgets/controls",
      "model_module_version": "1.4.0",
      "model_name": "ButtonStyleModel",
      "state": {}
     },
     "fbdb44e22a234a23a9c98b8185b5956d": {
      "model_module": "@jupyter-widgets/controls",
      "model_module_version": "1.4.0",
      "model_name": "DescriptionStyleModel",
      "state": {
       "description_width": "initial"
      }
     },
     "fbfd46343aff491ab6c627dbb7e17e6b": {
      "model_module": "@jupyter-widgets/controls",
      "model_module_version": "1.4.0",
      "model_name": "HTMLModel",
      "state": {
       "layout": "IPY_MODEL_e31cda2e02c546f489b232742475665e",
       "style": "IPY_MODEL_33a2817c9ea248c8a3ed960f908c2f5b",
       "value": "<h4 style=\"font-size:14px;\">Welche Wörter sind Teil der rechten Satzklammer?</h4>"
      }
     },
     "fbfd7be934474d6c964aef017932fc98": {
      "model_module": "@jupyter-widgets/base",
      "model_module_version": "1.1.0",
      "model_name": "LayoutModel",
      "state": {}
     },
     "fbfe2a2260c14f57b7152d4834ce6f4a": {
      "model_module": "@jupyter-widgets/controls",
      "model_module_version": "1.4.0",
      "model_name": "DescriptionStyleModel",
      "state": {
       "description_width": "initial"
      }
     },
     "fc59f315bff94fc3b8daff33aefaa17f": {
      "model_module": "@jupyter-widgets/base",
      "model_module_version": "1.1.0",
      "model_name": "LayoutModel",
      "state": {}
     },
     "fd30fdb79e72409ba88e8429c4395867": {
      "model_module": "@jupyter-widgets/controls",
      "model_module_version": "1.4.0",
      "model_name": "HTMLModel",
      "state": {
       "layout": "IPY_MODEL_f555eca0eb0740a8844fa7fad8eb223b",
       "style": "IPY_MODEL_21587f0e4908434ea028a7dd06274e9a",
       "value": "<h4 style=\"font-size:14px;\">'Im unmarkierten Fall steht die Modalpartikel nicht an der an der linken Peripherie des Mittelfelds (Wackernagel-Position).'</h4>"
      }
     },
     "fd4ac7d5ca7c47caabbfbafda473f682": {
      "model_module": "@jupyter-widgets/base",
      "model_module_version": "1.1.0",
      "model_name": "LayoutModel",
      "state": {}
     },
     "fdc68ac6c8c44be78ff23711be8a8cf5": {
      "model_module": "@jupyter-widgets/controls",
      "model_module_version": "1.4.0",
      "model_name": "CheckboxModel",
      "state": {
       "description": "Satzschlusszeichen: Punkt",
       "disabled": false,
       "layout": "IPY_MODEL_704863833a5a4c99b0214a499be57457",
       "style": "IPY_MODEL_118261be4abb46bcb26be68389f3dba0",
       "value": false
      }
     },
     "fe12453383da46cc998794ac45527fc5": {
      "model_module": "@jupyter-widgets/base",
      "model_module_version": "1.1.0",
      "model_name": "LayoutModel",
      "state": {}
     },
     "fe4f314e57f947ef927a682de55b1977": {
      "model_module": "@jupyter-widgets/controls",
      "model_module_version": "1.4.0",
      "model_name": "ButtonModel",
      "state": {
       "description": "Keine der anderen Möglichkeiten",
       "layout": "IPY_MODEL_f4f26ce89f6c4289acf1efdc3ac84096",
       "style": "IPY_MODEL_b9cc74c8383e4ded999c7ba8ad6fc897"
      }
     },
     "fe73cc17be5e43889c17b7e53309a111": {
      "model_module": "@jupyter-widgets/controls",
      "model_module_version": "1.4.0",
      "model_name": "VBoxModel",
      "state": {
       "children": [
        "IPY_MODEL_9dd269a106d24a3fb0d37403643302a5",
        "IPY_MODEL_a1385836f0714508a006749bc7101ada",
        "IPY_MODEL_d080fda319614f628fc376d95173b7d5",
        "IPY_MODEL_b319a9a1d5f64ca5b9b77380b0e77c99",
        "IPY_MODEL_245771664fb440e39d1f05ac7e753ca0",
        "IPY_MODEL_b4cddcc428504edfb70e6ef336e24fb3",
        "IPY_MODEL_f47ce4c0b98a45d99eadd061a54b1c80",
        "IPY_MODEL_1c36689751d244708a7f4fea4edae0b0",
        "IPY_MODEL_a43af757f9e044178e1f3342098dbd82"
       ],
       "layout": "IPY_MODEL_5d5588f4ed8e443c979084626acdb995"
      }
     },
     "fead56cdcb414d8aab1f97b351b87ec6": {
      "model_module": "@jupyter-widgets/base",
      "model_module_version": "1.1.0",
      "model_name": "LayoutModel",
      "state": {
       "width": "600px"
      }
     },
     "ff1968cf4e8d49bbb73db83ae00daa76": {
      "model_module": "@jupyter-widgets/controls",
      "model_module_version": "1.4.0",
      "model_name": "DescriptionStyleModel",
      "state": {
       "description_width": ""
      }
     },
     "ff435f824d6c4487a1b7ae5a3f5ab0b9": {
      "model_module": "@jupyter-widgets/controls",
      "model_module_version": "1.4.0",
      "model_name": "DescriptionStyleModel",
      "state": {
       "description_width": ""
      }
     },
     "ff53d967544649079ece3ae494da28d8": {
      "model_module": "@jupyter-widgets/controls",
      "model_module_version": "1.4.0",
      "model_name": "ButtonModel",
      "state": {
       "description": "Aussagesatz",
       "layout": "IPY_MODEL_4f03d1f5093f4c6fb254f70151218ad5",
       "style": "IPY_MODEL_91f93afa431945fbb5b7288eb39ac7f3"
      }
     },
     "ff74bd0e670946848b73023ae7f91190": {
      "model_module": "@jupyter-widgets/base",
      "model_module_version": "1.1.0",
      "model_name": "LayoutModel",
      "state": {
       "width": "600px"
      }
     }
    },
    "version_major": 2,
    "version_minor": 0
   }
  }
 },
 "nbformat": 4,
 "nbformat_minor": 2
}
