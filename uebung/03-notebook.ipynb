{
 "cells": [
  {
   "cell_type": "markdown",
   "metadata": {},
   "source": [
    "***Vorlesung 'Syntax natürlicher Sprachen', WS 2019/20***\n",
    "\n",
    "---\n",
    "# Übung 3"
   ]
  },
  {
   "cell_type": "code",
   "execution_count": 1,
   "metadata": {},
   "outputs": [],
   "source": [
    "from exercises_3 import *\n",
    "from questions import aufgabe\n",
    "from nltk.tree import Tree"
   ]
  },
  {
   "cell_type": "markdown",
   "metadata": {},
   "source": [
    "---\n",
    "## Aufgabe 1: Wortarten\n",
    "\n",
    "#### Bestimmen Sie die Wortarten des folgenden Satzes. Geben Sie jeweils das entsprechende Tag aus dem Universal Dependency (http://universaldependencies.org/u/pos/) Tagset an.\n",
    "\n",
    "- *Sie gab ihm das neue Buch von Chomsky, aber er zeigte kein Interesse daran.*"
   ]
  },
  {
   "cell_type": "markdown",
   "metadata": {},
   "source": [
    "| Sie | gab | ihm | das | neue | Buch | von | Chomsky, | aber | er  | zeigte | kein | Interesse | daran.\n",
    "| --- | --- | --- | --- | ---- | ---- | --- | -------- | ---- | --- | ------ | ---- | --------- | ------ |\n",
    "| TAG | TAG | TAG | TAG | TAG  | TAG  | TAG | TAG      | TAG  | TAG | TAG    | TAG  | TAG       | TAG    |"
   ]
  },
  {
   "cell_type": "markdown",
   "metadata": {},
   "source": [
    "#### Vergleichen Sie ihre Tabelle anschließend mit dem Output des Stanford-Parsers, dessen deutsches Modell auf einem Korpus mit STTS-Tiger-Tagset trainiert wurde (https://www.linguistik.hu-berlin.de/de/institut/professuren/korpuslinguistik/mitarbeiter-innen/hagen/STTS_Tagset_Tiger):"
   ]
  },
  {
   "cell_type": "code",
   "execution_count": 2,
   "metadata": {},
   "outputs": [],
   "source": [
    "from nltk.parse.stanford import StanfordParser, StanfordDependencyParser\n",
    "import os\n",
    "\n",
    "PATH_TO_CORE = os.getenv(\"HOME\") + \"/nltk_data/stanford-corenlp-full-2018-10-05\"\n",
    "PATH_TO_GER_MODEL = os.getenv(\"HOME\") + \"/nltk_data/stanford-models-2018-10-05\"\n",
    "\n",
    "jar = os.path.join(PATH_TO_CORE, \"stanford-corenlp-3.9.2.jar\")\n",
    "ger_model = os.path.join(PATH_TO_GER_MODEL, \"stanford-german-corenlp-2018-10-05-models.jar\")\n",
    "\n",
    "parser = StanfordParser(jar, ger_model, model_path=\"edu/stanford/nlp/models/lexparser/\" + \"germanPCFG.ser.gz\")"
   ]
  },
  {
   "cell_type": "code",
   "execution_count": null,
   "metadata": {},
   "outputs": [],
   "source": [
    "tree_list = list(parser.raw_parse('Sie gab ihm das neue Buch von Chomsky, aber er zeigte kein Interesse daran.'))\n",
    "tree_list[0].pretty_print(unicodelines=True)"
   ]
  },
  {
   "cell_type": "markdown",
   "metadata": {},
   "source": [
    "---\n",
    "## Aufgabe 2: Wortarten im Kontext\n",
    "\n",
    "#### Betrachten sie folgende Sätze:\n",
    "1. *Er spielt gerne Schach.*\n",
    "2. *Er spielt gut Schach.*\n"
   ]
  },
  {
   "cell_type": "markdown",
   "metadata": {},
   "source": [
    "---\n",
    "### Aufgabe 2 a:\n",
    "\n",
    "#### Diskutieren Sie, ob es sich bei dem Wort *gerne* in Satz 1 um ein Adverb oder ein Adjektiv handelt."
   ]
  },
  {
   "cell_type": "code",
   "execution_count": 4,
   "metadata": {},
   "outputs": [
    {
     "data": {
      "application/vnd.jupyter.widget-view+json": {
       "model_id": "87fd97b402e04881982459054f2cff7e",
       "version_major": 2,
       "version_minor": 0
      },
      "text/plain": [
       "MultipleChoice(children=(HTML(value='<h4 style=\"font-size:14px;\">Welche Eigenschaften hat <i>gerne</i> in Satz…"
      ]
     },
     "metadata": {},
     "output_type": "display_data"
    },
    {
     "data": {
      "application/vnd.jupyter.widget-view+json": {
       "model_id": "e641b9f293e943e58d413d65a1a8d94d",
       "version_major": 2,
       "version_minor": 0
      },
      "text/plain": [
       "SingleChoice(children=(HTML(value='<h4 style=\"font-size:14px;\">Welche Wortart folgt damit für das Wort <i>gern…"
      ]
     },
     "metadata": {},
     "output_type": "display_data"
    }
   ],
   "source": [
    "aufgabe(blatt3_2a)"
   ]
  },
  {
   "cell_type": "markdown",
   "metadata": {},
   "source": [
    "---\n",
    "### Aufgabe 2 b:\n",
    "\n",
    "#### Um welche Wortart handelt es sich bei dem Lexem *gut* in Satz 2? Diskutieren Sie die Probleme, die hier bei der Wortartenbestimmung auftreten."
   ]
  },
  {
   "cell_type": "code",
   "execution_count": 5,
   "metadata": {},
   "outputs": [
    {
     "data": {
      "application/vnd.jupyter.widget-view+json": {
       "model_id": "c02a93e0f9d54fd5a64ecd3214e900db",
       "version_major": 2,
       "version_minor": 0
      },
      "text/plain": [
       "MultipleChoice(children=(HTML(value='<h4 style=\"font-size:14px;\">Welche Eigenschaften hat <i>gut</i> in Satz 2…"
      ]
     },
     "metadata": {},
     "output_type": "display_data"
    },
    {
     "data": {
      "application/vnd.jupyter.widget-view+json": {
       "model_id": "da85da95685449beb435fdf9d9e79c3b",
       "version_major": 2,
       "version_minor": 0
      },
      "text/plain": [
       "SingleChoice(children=(HTML(value='<h4 style=\"font-size:14px;\">Welche Wortart folgt damit für das Wort <i>gut<…"
      ]
     },
     "metadata": {},
     "output_type": "display_data"
    },
    {
     "data": {
      "application/vnd.jupyter.widget-view+json": {
       "model_id": "a7315b365cbe40859a705f1d1c2b28aa",
       "version_major": 2,
       "version_minor": 0
      },
      "text/plain": [
       "SingleChoice(children=(HTML(value='<h4 style=\"font-size:14px;\">Welche Wortart könnte man für das Wort <i>gut<…"
      ]
     },
     "metadata": {},
     "output_type": "display_data"
    }
   ],
   "source": [
    "aufgabe(blatt3_2b)"
   ]
  },
  {
   "cell_type": "markdown",
   "metadata": {},
   "source": [
    "---\n",
    "## Aufgabe 3: Phrasenstruktur\n",
    "\n",
    "#### Geben Sie für den folgenden Satz einen Phrasenstrukturbaum an.\n",
    "\n",
    "- *Die Studierenden schenkten ihnen ein Buch von Chomsky.*\n",
    "\n",
    "#### Erinnern Sie sich, dass Sie mit der Klasse `Tree` aus dem NLTK auch per Hand Syntaxbäume erstellen können (siehe nächste Codezelle).\n",
    "#### Sie dürfen aber auch gerne Papier und Stift benutzen :-)"
   ]
  },
  {
   "cell_type": "code",
   "execution_count": 6,
   "metadata": {
    "scrolled": true
   },
   "outputs": [
    {
     "name": "stdout",
     "output_type": "stream",
     "text": [
      "             S                \n",
      "     ┌───────┴───────────┐     \n",
      "     NP                  VP   \n",
      " ┌───┴───────┐           │     \n",
      "ART          N           V    \n",
      " │           │           │     \n",
      "Die     Studierenden schenkten\n",
      "\n"
     ]
    }
   ],
   "source": [
    "#TEMPLATE:\n",
    "np1 = Tree(\n",
    "    'NP',\n",
    "    [Tree('ART', ['Die']),Tree('N', ['Studierenden'])]\n",
    ")\n",
    "vp = Tree(\n",
    "    'VP',\n",
    "    [Tree('V', ['schenkten'])]\n",
    ")\n",
    "s = Tree(\n",
    "    'S',\n",
    "    [np1, vp]\n",
    ")\n",
    "\n",
    "s.pretty_print(unicodelines=True)"
   ]
  },
  {
   "cell_type": "markdown",
   "metadata": {},
   "source": [
    "#### Vergleichen Sie Ihren Syntaxbaum anschließend mit dem Output des Stanford-Parsers (Syntaxmodell trainiert auf TIGER/NEGRA-Korpus)."
   ]
  },
  {
   "cell_type": "code",
   "execution_count": null,
   "metadata": {},
   "outputs": [],
   "source": [
    "tree_list = list(parser.raw_parse('Die Studierenden schenkten ihnen ein Buch von Chomsky.'))\n",
    "tree_list[0].pretty_print(unicodelines=True)"
   ]
  },
  {
   "cell_type": "markdown",
   "metadata": {},
   "source": [
    "---\n",
    "## Aufgabe 4: Konstituententests"
   ]
  },
  {
   "cell_type": "markdown",
   "metadata": {},
   "source": [
    "#### Füllen Sie folgende Tabelle aus, indem Sie den jeweils angegebenen Konstituententest am folgenden Satz ausführen.\n",
    "\n",
    "- *Die Studierenden schenkten ihnen ein Buch über Fußball.*\n",
    "\n",
    "| Wortgruppe | Substitutionstest | Eliminierungstest | Permutationstest | Konstituente?\n",
    "| ---------- | ----------------- | ----------------- | ---------------- | ------------- |\n",
    "| Die Studierenden | ... | ... | ... | ... |\n",
    "| ihnen ein | ... | ... | ... | ... |\n",
    "| Buch über Fußball | ... | ... | ... | ... |\n",
    "| über Fußball | ... | ... | ... | ... |"
   ]
  },
  {
   "cell_type": "markdown",
   "metadata": {},
   "source": [
    "---\n",
    "## Aufgabe 5: Phrasen und Konstituenten"
   ]
  },
  {
   "cell_type": "markdown",
   "metadata": {},
   "source": [
    "#### Erläutern Sie am Beispiel des Wortes *Verloren* im folgenden Satz den Unterschied zwischen Konstituente und Phrase.\n",
    "\n",
    "- *Verloren hat er seinen Schlüsselbund zwar noch nie, aber oft genug verlegt.*"
   ]
  },
  {
   "cell_type": "code",
   "execution_count": 8,
   "metadata": {
    "scrolled": true
   },
   "outputs": [
    {
     "data": {
      "application/vnd.jupyter.widget-view+json": {
       "model_id": "024f83622c8f4ece96174c2cae015a0b",
       "version_major": 2,
       "version_minor": 0
      },
      "text/plain": [
       "Lueckentext(children=(HTML(value='<i>Vervollständigen Sie den Lückentext: </i>', layout=Layout(justify_content…"
      ]
     },
     "metadata": {},
     "output_type": "display_data"
    }
   ],
   "source": [
    "aufgabe(blatt3_5)"
   ]
  },
  {
   "cell_type": "markdown",
   "metadata": {},
   "source": [
    "--- \n",
    "# Hausaufgaben"
   ]
  },
  {
   "cell_type": "markdown",
   "metadata": {},
   "source": [
    "---\n",
    "## Aufgabe 6: Phrasenstruktur\n",
    "\n",
    "\n",
    "#### Zerlegen Sie den folgenden Satz in seine Konstituenten. Stellen Sie die Konstituentenstruktur mit einem Kastendiagramm dar und erstellen Sie dann mit NLTK den entsprechenden Syntaxbaum.\n",
    "\n",
    "- *Die Kunst des Ausruhens ist ein Teil der Kunst des Arbeitens.*"
   ]
  },
  {
   "cell_type": "markdown",
   "metadata": {},
   "source": [
    "\n",
    "| Die | Kunst | des | Ausruhens | ist | ein | Teil | der | Kunst | des  | Arbeitens |\n",
    "\n",
    "| Die  Kunst | ..."
   ]
  },
  {
   "cell_type": "code",
   "execution_count": 9,
   "metadata": {},
   "outputs": [
    {
     "name": "stdout",
     "output_type": "stream",
     "text": [
      "          S      \n",
      "     ┌────┴────┐  \n",
      "     NP        VP\n",
      " ┌───┴────┐    │  \n",
      "ART       N    V \n",
      " │        │    │  \n",
      "Die     Kunst ist\n",
      "\n"
     ]
    }
   ],
   "source": [
    "#TEMPLATE:\n",
    "np1 = Tree(\n",
    "    'NP',\n",
    "    [Tree('ART', ['Die']),Tree('N', ['Kunst'])]\n",
    ")\n",
    "vp = Tree(\n",
    "    'VP',\n",
    "    [Tree('V', ['ist'])]\n",
    ")\n",
    "s = Tree(\n",
    "    'S',\n",
    "    [np1, vp]\n",
    ")\n",
    "\n",
    "s.pretty_print(unicodelines=True)"
   ]
  },
  {
   "cell_type": "markdown",
   "metadata": {},
   "source": [
    "---\n",
    "## Aufgabe 7: Konstituententests"
   ]
  },
  {
   "cell_type": "markdown",
   "metadata": {},
   "source": [
    "#### Zeigen Sie mit dem Substitutionstest, dass es sich in folgendem Satz bei der Wortverbingung *nur mit einem Schritt* um eine Konstituente handelt.\n",
    "\n",
    "- Eine Reise von tausend Meilen beginnt auch nur mit einem Schritt.\n",
    "\n",
    "#### Beantworten Sie anschließend die folgenden Fragen!"
   ]
  },
  {
   "cell_type": "markdown",
   "metadata": {},
   "source": [
    "Substitutionstest: *Hier fehlt Ihre Lösung*"
   ]
  },
  {
   "cell_type": "code",
   "execution_count": 10,
   "metadata": {},
   "outputs": [
    {
     "data": {
      "application/vnd.jupyter.widget-view+json": {
       "model_id": "17816a2bb2554912bb2209168a13bfae",
       "version_major": 2,
       "version_minor": 0
      },
      "text/plain": [
       "MultipleChoice(children=(HTML(value='<h4 style=\"font-size:14px;\">Welcher ist der richtig permutierte Satz?</h4…"
      ]
     },
     "metadata": {},
     "output_type": "display_data"
    },
    {
     "data": {
      "application/vnd.jupyter.widget-view+json": {
       "model_id": "9ff8bf2157ea4c20b676617aad0049a3",
       "version_major": 2,
       "version_minor": 0
      },
      "text/plain": [
       "MultipleChoice(children=(HTML(value='<h4 style=\"font-size:14px;\"><i>Eine Reise beginnt auch nur mit einem Schr…"
      ]
     },
     "metadata": {},
     "output_type": "display_data"
    }
   ],
   "source": [
    "aufgabe(blatt3_7)"
   ]
  },
  {
   "cell_type": "markdown",
   "metadata": {},
   "source": [
    "---\n",
    "## Aufgabe 8: Fragen zu NLTK-Kapitel 5"
   ]
  },
  {
   "cell_type": "markdown",
   "metadata": {},
   "source": [
    "#### Lesen Sie das Vorwort von NLTK-Kapitel 5 (’Categorizing and Tagging Words’) sowie die Teilkapitel 5.1, 5.2 und 5.7: http://www.nltk.org/book/ch05.html.\n",
    "\n",
    "#### Beantworten Sie insbesondere folgende Fragen:"
   ]
  },
  {
   "cell_type": "markdown",
   "metadata": {},
   "source": [
    "---\n",
    "### Aufgabe 8 a:"
   ]
  },
  {
   "cell_type": "code",
   "execution_count": 11,
   "metadata": {},
   "outputs": [
    {
     "data": {
      "application/vnd.jupyter.widget-view+json": {
       "model_id": "b454b0089fa347a99dc32066837124c8",
       "version_major": 2,
       "version_minor": 0
      },
      "text/plain": [
       "SingleChoice(children=(HTML(value='<h4 style=\"font-size:14px;\">Was ist der Input eines Part-of-Speech-Taggers?…"
      ]
     },
     "metadata": {},
     "output_type": "display_data"
    },
    {
     "data": {
      "application/vnd.jupyter.widget-view+json": {
       "model_id": "3c8c98f8cff54f0db672561dca46c2cd",
       "version_major": 2,
       "version_minor": 0
      },
      "text/plain": [
       "SingleChoice(children=(HTML(value='<h4 style=\"font-size:14px;\">Was ist der Output eines Part-of-Speech-Taggers…"
      ]
     },
     "metadata": {},
     "output_type": "display_data"
    },
    {
     "data": {
      "application/vnd.jupyter.widget-view+json": {
       "model_id": "edb0007c4cc4409d99d8404c647bcee7",
       "version_major": 2,
       "version_minor": 0
      },
      "text/plain": [
       "OpenTextfield(children=(HTML(value='<h4 style=\"font-size:14px;\">Wie wirt der POS-Tagger im NLTK aufgerufen?</h…"
      ]
     },
     "metadata": {},
     "output_type": "display_data"
    }
   ],
   "source": [
    "aufgabe(blatt3_8a)"
   ]
  },
  {
   "cell_type": "markdown",
   "metadata": {},
   "source": [
    "---\n",
    "### Aufgabe 8 b:\n",
    "\n",
    "#### Sehen Sie sich folgenden Codeblock und dessen Output an (s. auch NLTK 5.1):"
   ]
  },
  {
   "cell_type": "code",
   "execution_count": 12,
   "metadata": {},
   "outputs": [
    {
     "name": "stdout",
     "output_type": "stream",
     "text": [
      "the his this that their one any no her its in our my some your each it\n",
      "all another of\n",
      "\n",
      "\n",
      "good much simple one new little white young sure beautiful that is\n",
      "time quiet certain great small proud bad thin\n",
      "\n",
      "\n",
      "time way day year man state work world moment country house group case\n",
      "room war church area job point car\n"
     ]
    }
   ],
   "source": [
    "import nltk\n",
    "text = nltk.Text(word.lower() for word in nltk.corpus.brown.words())\n",
    "\n",
    "text.similar('a')\n",
    "print('\\n')\n",
    "text.similar('nice')\n",
    "print('\\n')\n",
    "text.similar('book')"
   ]
  },
  {
   "cell_type": "code",
   "execution_count": 13,
   "metadata": {},
   "outputs": [
    {
     "data": {
      "application/vnd.jupyter.widget-view+json": {
       "model_id": "d1b22b86c4204f7da71f0d32f2936baa",
       "version_major": 2,
       "version_minor": 0
      },
      "text/plain": [
       "MultipleChoice(children=(HTML(value='<h4 style=\"font-size:14px;\">Was leistet die Funktion <code>nltk.similar()…"
      ]
     },
     "metadata": {},
     "output_type": "display_data"
    }
   ],
   "source": [
    "aufgabe(blatt3_8b)"
   ]
  },
  {
   "cell_type": "markdown",
   "metadata": {},
   "source": [
    "---\n",
    "### Aufgabe 8 c:\n",
    "\n",
    "#### Erklären Sie, wie im zweiten der folgenden Codeblocks (NLTK 5.2.3/4) syntaktische Muster festgestellt werden. \n",
    "\n",
    "#### Füllen Sie mit diesem Wissen den Lückentext."
   ]
  },
  {
   "cell_type": "code",
   "execution_count": 14,
   "metadata": {},
   "outputs": [
    {
     "name": "stdout",
     "output_type": "stream",
     "text": [
      "(('The', 'DET'), ('Fulton', 'NOUN'))\n",
      "(('Fulton', 'NOUN'), ('County', 'NOUN'))\n",
      "(('County', 'NOUN'), ('Grand', 'ADJ'))\n"
     ]
    }
   ],
   "source": [
    "from nltk.corpus import brown\n",
    "brown_news_tagged = brown.tagged_words(categories='news', tagset='universal')\n",
    "word_tag_pairs = nltk.bigrams(brown_news_tagged)\n",
    "word_tag_pairs_list = list(word_tag_pairs)\n",
    "print(word_tag_pairs_list[0])\n",
    "print(word_tag_pairs_list[1])\n",
    "print(word_tag_pairs_list[2])"
   ]
  },
  {
   "cell_type": "code",
   "execution_count": 15,
   "metadata": {},
   "outputs": [
    {
     "data": {
      "text/plain": [
       "['NOUN',\n",
       " 'DET',\n",
       " 'ADJ',\n",
       " 'ADP',\n",
       " '.',\n",
       " 'VERB',\n",
       " 'CONJ',\n",
       " 'NUM',\n",
       " 'ADV',\n",
       " 'PRT',\n",
       " 'PRON',\n",
       " 'X']"
      ]
     },
     "execution_count": 15,
     "metadata": {},
     "output_type": "execute_result"
    }
   ],
   "source": [
    "word_tag_pairs = nltk.bigrams(brown_news_tagged)\n",
    "noun_preceders = [a[1] for (a, b) in word_tag_pairs if b[1] == 'NOUN']\n",
    "fdist = nltk.FreqDist(noun_preceders)\n",
    "[tag for (tag, _) in fdist.most_common()]"
   ]
  },
  {
   "cell_type": "code",
   "execution_count": 16,
   "metadata": {},
   "outputs": [
    {
     "data": {
      "application/vnd.jupyter.widget-view+json": {
       "model_id": "b0ed340950fe45609f315190b2385226",
       "version_major": 2,
       "version_minor": 0
      },
      "text/plain": [
       "Lueckentext(children=(HTML(value='<i>Vervollständigen Sie den Lückentext: </i>', layout=Layout(justify_content…"
      ]
     },
     "metadata": {},
     "output_type": "display_data"
    }
   ],
   "source": [
    "aufgabe(blatt3_8c)"
   ]
  },
  {
   "cell_type": "markdown",
   "metadata": {},
   "source": [
    "---\n",
    "### Aufgabe 8 d:"
   ]
  },
  {
   "cell_type": "code",
   "execution_count": 17,
   "metadata": {},
   "outputs": [
    {
     "data": {
      "application/vnd.jupyter.widget-view+json": {
       "model_id": "effc1bdb4efb46c984345bac17fc0b3e",
       "version_major": 2,
       "version_minor": 0
      },
      "text/plain": [
       "MultipleChoice(children=(HTML(value='<h4 style=\"font-size:14px;\">Was sind morphologische Kriterien für Wortkat…"
      ]
     },
     "metadata": {},
     "output_type": "display_data"
    },
    {
     "data": {
      "application/vnd.jupyter.widget-view+json": {
       "model_id": "e5ceb83d82d54a75abc4ac7b1198405f",
       "version_major": 2,
       "version_minor": 0
      },
      "text/plain": [
       "MultipleChoice(children=(HTML(value='<h4 style=\"font-size:14px;\">Was sind syntaktische Kriterien für Wortkateg…"
      ]
     },
     "metadata": {},
     "output_type": "display_data"
    },
    {
     "data": {
      "application/vnd.jupyter.widget-view+json": {
       "model_id": "61173ff9dacb4157974394b7bf1a1e4c",
       "version_major": 2,
       "version_minor": 0
      },
      "text/plain": [
       "SingleChoice(children=(HTML(value='<h4 style=\"font-size:14px;\">Was bedeutet das Tag <i>VB</i> im Browntagset (…"
      ]
     },
     "metadata": {},
     "output_type": "display_data"
    },
    {
     "data": {
      "application/vnd.jupyter.widget-view+json": {
       "model_id": "1fe94638e48d49c7a314fd073e85a393",
       "version_major": 2,
       "version_minor": 0
      },
      "text/plain": [
       "SingleChoice(children=(HTML(value='<h4 style=\"font-size:14px;\">Was bedeutet das Tag <i>VBZ</i> im Browntagset …"
      ]
     },
     "metadata": {},
     "output_type": "display_data"
    },
    {
     "data": {
      "application/vnd.jupyter.widget-view+json": {
       "model_id": "e123cc44215346fcb9525a56aecec6c4",
       "version_major": 2,
       "version_minor": 0
      },
      "text/plain": [
       "SingleChoice(children=(HTML(value='<h4 style=\"font-size:14px;\">Was bedeutet das Tag <i>VBN</i> im Browntagset …"
      ]
     },
     "metadata": {},
     "output_type": "display_data"
    },
    {
     "data": {
      "application/vnd.jupyter.widget-view+json": {
       "model_id": "2d127811339c46a5a4ef2860dc34d2ed",
       "version_major": 2,
       "version_minor": 0
      },
      "text/plain": [
       "SingleChoice(children=(HTML(value='<h4 style=\"font-size:14px;\">Was bedeutet das Tag <i>VBG</i> im Browntagset …"
      ]
     },
     "metadata": {},
     "output_type": "display_data"
    },
    {
     "data": {
      "application/vnd.jupyter.widget-view+json": {
       "model_id": "4cd965063ad246efa1a6bbe11199084c",
       "version_major": 2,
       "version_minor": 0
      },
      "text/plain": [
       "SingleChoice(children=(HTML(value='<h4 style=\"font-size:14px;\">Was bedeutet das Tag <i>VBD</i> im Browntagset …"
      ]
     },
     "metadata": {},
     "output_type": "display_data"
    }
   ],
   "source": [
    "aufgabe(blatt3_8d)"
   ]
  },
  {
   "cell_type": "markdown",
   "metadata": {},
   "source": [
    "---\n",
    "## Aufgabe 9: Fragen zu NLTK-Kapitel 8.2"
   ]
  },
  {
   "cell_type": "markdown",
   "metadata": {},
   "source": [
    "#### Lesen Sie das NLTK-Teilkapitel 8.2 (’What’s the Use of Syntax?’): http://www.nltk.org/book/ch08.html.\n",
    "\n",
    "#### Beantworten Sie insbesondere folgende Fragen:"
   ]
  },
  {
   "cell_type": "markdown",
   "metadata": {},
   "source": [
    "---\n",
    "### Aufgabe 9 a:\n",
    "\n",
    "#### Durch welches Prinzip lassen sich Konstituenten nachweisen?"
   ]
  },
  {
   "cell_type": "code",
   "execution_count": 18,
   "metadata": {},
   "outputs": [
    {
     "data": {
      "application/vnd.jupyter.widget-view+json": {
       "model_id": "8899c6286b1149fba69685b05c849ff8",
       "version_major": 2,
       "version_minor": 0
      },
      "text/plain": [
       "Lueckentext(children=(HTML(value='<i>Vervollständigen Sie den Lückentext: </i>', layout=Layout(justify_content…"
      ]
     },
     "metadata": {},
     "output_type": "display_data"
    }
   ],
   "source": [
    "aufgabe(blatt3_9a)"
   ]
  },
  {
   "cell_type": "markdown",
   "metadata": {},
   "source": [
    "---\n",
    "### Aufgabe 9 b:\n",
    "\n",
    "#### Führen Sie (incl. lexikalischer und phrasaler Labels) eine Ersetzung (oder Pronominalisierung oder Eliminierung) in folgendem Satz durch, bis sie bei einem 2-Wort-Satz ankommen:\n",
    "\n",
    "- Fischers Fritz fischt die frischen Fische aus dem Fluss."
   ]
  },
  {
   "cell_type": "markdown",
   "metadata": {},
   "source": [
    "Fischers (N) Fritz (N) fischt (V) die (...) frischen () Fische () aus () dem () Fluss ()\n",
    "\n",
    "Er (NP) ..."
   ]
  },
  {
   "cell_type": "markdown",
   "metadata": {},
   "source": [
    "---\n",
    "### Aufgabe 9 c:\n",
    "\n",
    "#### Welche Einschränkung gibt es bei der Koordinierung von Phrasen?"
   ]
  },
  {
   "cell_type": "code",
   "execution_count": 19,
   "metadata": {},
   "outputs": [
    {
     "data": {
      "application/vnd.jupyter.widget-view+json": {
       "model_id": "77c6583ca75745bd9b0bb73248c36550",
       "version_major": 2,
       "version_minor": 0
      },
      "text/plain": [
       "Lueckentext(children=(HTML(value='<i>Vervollständigen Sie den Lückentext: </i>', layout=Layout(justify_content…"
      ]
     },
     "metadata": {},
     "output_type": "display_data"
    }
   ],
   "source": [
    "aufgabe(blatt3_9c)"
   ]
  }
 ],
 "metadata": {
  "kernelspec": {
   "display_name": "Python 3",
   "language": "python",
   "name": "python3"
  },
  "language_info": {
   "codemirror_mode": {
    "name": "ipython",
    "version": 3
   },
   "file_extension": ".py",
   "mimetype": "text/x-python",
   "name": "python",
   "nbconvert_exporter": "python",
   "pygments_lexer": "ipython3",
   "version": "3.6.1"
  },
  "widgets": {
   "application/vnd.jupyter.widget-state+json": {
    "state": {
     "00449f2b0ed94f9b963ce05d08731d04": {
      "model_module": "@jupyter-widgets/base",
      "model_module_version": "1.0.0",
      "model_name": "LayoutModel",
      "state": {
       "align_content": "stretch",
       "align_items": "stretch",
       "display": "inline-flex",
       "flex": "flex-grow",
       "flex_flow": "row wrap",
       "justify_content": "flex-start"
      }
     },
     "007f9c34595f470f922514ef60696014": {
      "model_module": "@jupyter-widgets/controls",
      "model_module_version": "1.2.0",
      "model_name": "DescriptionStyleModel",
      "state": {
       "description_width": "initial"
      }
     },
     "00f453c5b7ba413983d8c30289bef0e5": {
      "model_module": "@jupyter-widgets/controls",
      "model_module_version": "1.2.0",
      "model_name": "ButtonModel",
      "state": {
       "description": "simple past",
       "layout": "IPY_MODEL_1de7eff9b107414f908f9811fd60d2d0",
       "style": "IPY_MODEL_0808af00e63a42ed85f3f42af3c83b00"
      }
     },
     "012498370be84cb0863df52b00df7c60": {
      "model_module": "@jupyter-widgets/controls",
      "model_module_version": "1.2.0",
      "model_name": "DescriptionStyleModel",
      "state": {
       "description_width": ""
      }
     },
     "0124d5cf8f974662afa78b52661f44d3": {
      "model_module": "@jupyter-widgets/controls",
      "model_module_version": "1.2.0",
      "model_name": "DescriptionStyleModel",
      "state": {
       "description_width": ""
      }
     },
     "02392ba5908f46e881408cba4d156aa3": {
      "model_module": "@jupyter-widgets/controls",
      "model_module_version": "1.2.0",
      "model_name": "CheckboxModel",
      "state": {
       "description": "Zu einem Wort wird ein Index seiner Kontexte aufgebaut.",
       "disabled": false,
       "layout": "IPY_MODEL_1848792065e840b6baf8630ef0906b49",
       "style": "IPY_MODEL_b3788f4020334c77b8e83f212f81330b",
       "value": false
      }
     },
     "024c4c2fbf1642bdaf3b43b89f66b619": {
      "model_module": "@jupyter-widgets/base",
      "model_module_version": "1.0.0",
      "model_name": "LayoutModel",
      "state": {
       "width": "150px"
      }
     },
     "024f83622c8f4ece96174c2cae015a0b": {
      "model_module": "@jupyter-widgets/controls",
      "model_module_version": "1.2.0",
      "model_name": "VBoxModel",
      "state": {
       "children": [
        "IPY_MODEL_5d52f5a620524583b5dc72d830f687f0",
        "IPY_MODEL_12e418ad818a465ab09128dcf2c03aa6",
        "IPY_MODEL_2083f7543bd146d9ad3c759f8fb790aa"
       ],
       "layout": "IPY_MODEL_6c2b37c6222c4d90ac29eb3028ce56c0"
      }
     },
     "027bd97ac0a1419993513f08dc27b8bd": {
      "model_module": "@jupyter-widgets/controls",
      "model_module_version": "1.2.0",
      "model_name": "DescriptionStyleModel",
      "state": {
       "description_width": "initial"
      }
     },
     "039fc9c2fbbe45669ab8df24a5f577d5": {
      "model_module": "@jupyter-widgets/controls",
      "model_module_version": "1.2.0",
      "model_name": "DescriptionStyleModel",
      "state": {
       "description_width": ""
      }
     },
     "04122469b16f41829c5aea8ca6d2931d": {
      "model_module": "@jupyter-widgets/base",
      "model_module_version": "1.0.0",
      "model_name": "LayoutModel",
      "state": {
       "width": "600px"
      }
     },
     "0504eea5ade84105990b5426b49075e3": {
      "model_module": "@jupyter-widgets/controls",
      "model_module_version": "1.2.0",
      "model_name": "ButtonModel",
      "state": {
       "description": "Korrekt?",
       "layout": "IPY_MODEL_164ce34be3f8487591f11d616948676d",
       "style": "IPY_MODEL_db025827effe4423bb24744f00d30096"
      }
     },
     "0524a9c283984e56af918953ea199b5a": {
      "model_module": "@jupyter-widgets/controls",
      "model_module_version": "1.2.0",
      "model_name": "HTMLModel",
      "state": {
       "layout": "IPY_MODEL_e80df3b900ec42efac1ff1fc32b19a49",
       "style": "IPY_MODEL_ee8000319f864071b41af29601f888a2",
       "value": "<h4 style=\"font-size:14px;\">Welche Wortart könnte man für das Wort <i>gut</i> in Satz 2 vermuten, wenn man Adverbien nicht morphologisch, sondern semantisch charakterisiert (als Wortart, die der Modifizierung des Verbalgeschehens dient)?</h4>"
      }
     },
     "0570d63c6a6b4b8baa6c5eb1d23786c4": {
      "model_module": "@jupyter-widgets/controls",
      "model_module_version": "1.2.0",
      "model_name": "DropdownModel",
      "state": {
       "_options_labels": [
        "Köpfe",
        "Länge",
        "Phrasenstruktur",
        " "
       ],
       "index": 3,
       "layout": "IPY_MODEL_c61e83fc977843c98d7cf7f7f60763e0",
       "style": "IPY_MODEL_9d77c6b6d876423baf30e736a99f74cf"
      }
     },
     "0647317b3536448791ae540ac4fdcc17": {
      "model_module": "@jupyter-widgets/base",
      "model_module_version": "1.0.0",
      "model_name": "LayoutModel",
      "state": {
       "width": "600px"
      }
     },
     "069eafa7622f4904985c4516dbae98f7": {
      "model_module": "@jupyter-widgets/controls",
      "model_module_version": "1.2.0",
      "model_name": "HBoxModel",
      "state": {
       "children": [
        "IPY_MODEL_a2c782b02a124655a4cf0895585d037f",
        "IPY_MODEL_e470c6e5a3c94cb18a03e5357ca9c3da"
       ],
       "layout": "IPY_MODEL_5757423803c140a0a25dd98e0d50f814"
      }
     },
     "0701671b3b4f4fe1a48389e3f28c458b": {
      "model_module": "@jupyter-widgets/base",
      "model_module_version": "1.0.0",
      "model_name": "LayoutModel",
      "state": {
       "justify_content": "center"
      }
     },
     "0742fcc8468543f3a1e2a5c4bdd0ea80": {
      "model_module": "@jupyter-widgets/controls",
      "model_module_version": "1.2.0",
      "model_name": "ButtonModel",
      "state": {
       "description": "3rd singular present",
       "layout": "IPY_MODEL_22e226183b324ed9a592e71c64642b01",
       "style": "IPY_MODEL_394566c0b85a4212af68c397e3043525"
      }
     },
     "0808af00e63a42ed85f3f42af3c83b00": {
      "model_module": "@jupyter-widgets/controls",
      "model_module_version": "1.2.0",
      "model_name": "ButtonStyleModel",
      "state": {}
     },
     "08a21a26a18b4ebdaf514a5b7311789b": {
      "model_module": "@jupyter-widgets/controls",
      "model_module_version": "1.2.0",
      "model_name": "ButtonStyleModel",
      "state": {}
     },
     "08ce9e3de7d146aaad3ec897b85e38d9": {
      "model_module": "@jupyter-widgets/controls",
      "model_module_version": "1.2.0",
      "model_name": "CheckboxModel",
      "state": {
       "description": "Zu einem Wort werden alle Wörter gefunden, die in gleichen Kontexten vorkommen.",
       "disabled": false,
       "layout": "IPY_MODEL_70d4e2456f9a479cac08f887ffe00b99",
       "style": "IPY_MODEL_c297deca40ac42ea80a0f7385d818138",
       "value": false
      }
     },
     "08d2816401004c049c1d572cc30cdb9c": {
      "model_module": "@jupyter-widgets/controls",
      "model_module_version": "1.2.0",
      "model_name": "CheckboxModel",
      "state": {
       "description": "gleiche syntagmatische Position",
       "disabled": false,
       "layout": "IPY_MODEL_30b28c0bb75f4fb486781e86aca563af",
       "style": "IPY_MODEL_bff319fb465f45d483386cacadacc972",
       "value": false
      }
     },
     "0991a2b0f9c941e58c7c038e231e86ca": {
      "model_module": "@jupyter-widgets/base",
      "model_module_version": "1.0.0",
      "model_name": "LayoutModel",
      "state": {
       "justify_content": "center"
      }
     },
     "09bdf03cdcdb40b28d726d5104a39abd": {
      "model_module": "@jupyter-widgets/base",
      "model_module_version": "1.0.0",
      "model_name": "LayoutModel",
      "state": {
       "width": "250px"
      }
     },
     "0a43b69a589945adb11436294a907986": {
      "model_module": "@jupyter-widgets/controls",
      "model_module_version": "1.2.0",
      "model_name": "ButtonStyleModel",
      "state": {}
     },
     "0a96a0f16efa46b88f5c89b9986dd0a0": {
      "model_module": "@jupyter-widgets/base",
      "model_module_version": "1.0.0",
      "model_name": "LayoutModel",
      "state": {}
     },
     "0b82e2b1cd8949efa5cf22f0772ca485": {
      "model_module": "@jupyter-widgets/controls",
      "model_module_version": "1.2.0",
      "model_name": "HTMLModel",
      "state": {
       "layout": "IPY_MODEL_f62bb734c1464d54b6436236c60e83df",
       "style": "IPY_MODEL_fa2e402678694d92b9534a53cf4808f2",
       "value": "<i>Wählen Sie die <ins>eine</ins> korrekte Antwort aus: </i>"
      }
     },
     "0bbc1621cf7342549eb0234aebf49504": {
      "model_module": "@jupyter-widgets/base",
      "model_module_version": "1.0.0",
      "model_name": "LayoutModel",
      "state": {}
     },
     "0bbd6b18afff4dce942e841dfabb962b": {
      "model_module": "@jupyter-widgets/controls",
      "model_module_version": "1.2.0",
      "model_name": "HTMLModel",
      "state": {
       "layout": "IPY_MODEL_7e296cef41cd4001b43d88fe2bf65fd9",
       "style": "IPY_MODEL_5b32572b10454201ac2a2f2657796718",
       "value": "<i>Wählen Sie die <ins>eine</ins> korrekte Antwort aus: </i>"
      }
     },
     "0c198d55c7b44a1eac0bb73b758e0798": {
      "model_module": "@jupyter-widgets/controls",
      "model_module_version": "1.2.0",
      "model_name": "HBoxModel",
      "state": {
       "children": [
        "IPY_MODEL_ac27543300c94a318d6450f8de6f6818"
       ],
       "layout": "IPY_MODEL_b6426dd4c6a7412f952b377cea988e76"
      }
     },
     "0d178be3cbb844e1adb92f1ff5e2469f": {
      "model_module": "@jupyter-widgets/controls",
      "model_module_version": "1.2.0",
      "model_name": "ButtonModel",
      "state": {
       "description": "Korrekt?",
       "layout": "IPY_MODEL_5562c8f77c7f4793aac9d19b8ec5bca5",
       "style": "IPY_MODEL_f594dae7584140b1a48cef9556c56218"
      }
     },
     "0f1fbaa407c244fea2feb9f162415c4c": {
      "model_module": "@jupyter-widgets/base",
      "model_module_version": "1.0.0",
      "model_name": "LayoutModel",
      "state": {
       "width": "250px"
      }
     },
     "0f69e4c8cf704c718a87b34b1a81ebf1": {
      "model_module": "@jupyter-widgets/controls",
      "model_module_version": "1.2.0",
      "model_name": "DescriptionStyleModel",
      "state": {
       "description_width": ""
      }
     },
     "0f9f87de339d4e5095f51e029637877a": {
      "model_module": "@jupyter-widgets/base",
      "model_module_version": "1.0.0",
      "model_name": "LayoutModel",
      "state": {}
     },
     "0fafcdb090494a9ead8a8ce5d8bd4d2d": {
      "model_module": "@jupyter-widgets/controls",
      "model_module_version": "1.2.0",
      "model_name": "HTMLModel",
      "state": {
       "layout": "IPY_MODEL_6430c7cc0d9f4b03bbf2ed38cfb1695f",
       "style": "IPY_MODEL_aab0813133624f4cb7c9394deab09cd2",
       "value": "<i>Wählen Sie die <ins>eine</ins> korrekte Antwort aus: </i>"
      }
     },
     "10a11880a2a74ac0912e04eee3c8762c": {
      "model_module": "@jupyter-widgets/base",
      "model_module_version": "1.0.0",
      "model_name": "LayoutModel",
      "state": {}
     },
     "10f664b5688e45d09c0322463503cd7c": {
      "model_module": "@jupyter-widgets/controls",
      "model_module_version": "1.2.0",
      "model_name": "DropdownModel",
      "state": {
       "_options_labels": [
        "Konstituenten",
        "Phrasen",
        " "
       ],
       "index": 2,
       "layout": "IPY_MODEL_960aaa682d6545678f8db85cc7b52fc9",
       "style": "IPY_MODEL_cac2963480c6460ea11a01d8af39fa6c"
      }
     },
     "1129652d9bcd4174a5d6d6445bc65a83": {
      "model_module": "@jupyter-widgets/controls",
      "model_module_version": "1.2.0",
      "model_name": "BoxModel",
      "state": {
       "children": [
        "IPY_MODEL_68dbb3cd628b4cb0b22da3e0ca5718f7",
        "IPY_MODEL_f1efb97b85fd47b091be0238efd7e431",
        "IPY_MODEL_2b8b18f71cc24c159e85ea7fc5e544bc",
        "IPY_MODEL_e8f4f3b514594e94ba71fe9985e0bc2e",
        "IPY_MODEL_92cf92ef89b949ca997db64008be9d32",
        "IPY_MODEL_58402f1f193d4e22b576e60f130c5932",
        "IPY_MODEL_67b97671b51b46bfb103ce4e401c5e23",
        "IPY_MODEL_0570d63c6a6b4b8baa6c5eb1d23786c4",
        "IPY_MODEL_614f6933850a45c8ab8d79229352a8b3"
       ],
       "layout": "IPY_MODEL_00449f2b0ed94f9b963ce05d08731d04"
      }
     },
     "113eacc79584464db2e6e6fc373064e8": {
      "model_module": "@jupyter-widgets/controls",
      "model_module_version": "1.2.0",
      "model_name": "ButtonModel",
      "state": {
       "description": "simple past",
       "layout": "IPY_MODEL_8c78e8ac09d04573946e769a1e82b3d1",
       "style": "IPY_MODEL_9685df1a19c1445ea5a8efb737d2167c"
      }
     },
     "1207ceb78add4a59aa3bd7632074e5f2": {
      "model_module": "@jupyter-widgets/base",
      "model_module_version": "1.0.0",
      "model_name": "LayoutModel",
      "state": {}
     },
     "1216b4e77a4c4fed8ccedf0d711a285c": {
      "model_module": "@jupyter-widgets/controls",
      "model_module_version": "1.2.0",
      "model_name": "DescriptionStyleModel",
      "state": {
       "description_width": ""
      }
     },
     "12e418ad818a465ab09128dcf2c03aa6": {
      "model_module": "@jupyter-widgets/controls",
      "model_module_version": "1.2.0",
      "model_name": "BoxModel",
      "state": {
       "children": [
        "IPY_MODEL_e7e91ccb19094d2cb89ecb5c44ae39c2",
        "IPY_MODEL_3bd4767ec78f4347a59125fd4b0bc84d",
        "IPY_MODEL_631af9189d6445a6b43fc98595e282e6",
        "IPY_MODEL_a26c62df755c4c4b82bfbf97b837426b",
        "IPY_MODEL_177d7f4a0d9d4d0d94c66699f866d3f6",
        "IPY_MODEL_ef07efa4d49248fbbdd56e045d843c89",
        "IPY_MODEL_99692ecf23dc4935b2e003adf718406f",
        "IPY_MODEL_9f45ca41d52c4d9a8b37d69e8bb43305",
        "IPY_MODEL_3d4936c7e3c146439a1c3dea27d0d5ee",
        "IPY_MODEL_cdea58d28d4d4eed9f011e008d9344db",
        "IPY_MODEL_41386bf8395e41c28a454b2f17af086d",
        "IPY_MODEL_10f664b5688e45d09c0322463503cd7c",
        "IPY_MODEL_f03047f11bad485cb3f670b0a8c21243"
       ],
       "layout": "IPY_MODEL_85e245e3a63b486a9473e267b851ae0b"
      }
     },
     "1397cd3966a44dfc9ee4b3173a720f14": {
      "model_module": "@jupyter-widgets/base",
      "model_module_version": "1.0.0",
      "model_name": "LayoutModel",
      "state": {}
     },
     "13cc09b9b0d94876ab9cba44f80305e3": {
      "model_module": "@jupyter-widgets/base",
      "model_module_version": "1.0.0",
      "model_name": "LayoutModel",
      "state": {
       "width": "250px"
      }
     },
     "13fc4d89fa3541f7990f15e0173d23e6": {
      "model_module": "@jupyter-widgets/controls",
      "model_module_version": "1.2.0",
      "model_name": "DescriptionStyleModel",
      "state": {
       "description_width": ""
      }
     },
     "1491e550cc4341b1bc84910db00dc7fd": {
      "model_module": "@jupyter-widgets/controls",
      "model_module_version": "1.2.0",
      "model_name": "VBoxModel",
      "state": {
       "children": [
        "IPY_MODEL_561f9ce973c8463bb820c9f7df2167a9",
        "IPY_MODEL_d86f836d33e944dba2341796847b7814",
        "IPY_MODEL_2e724c77e88f4325aa39903df9a00ef5",
        "IPY_MODEL_46bf84cf6aab4473b68a09b108fffd43"
       ],
       "layout": "IPY_MODEL_0f9f87de339d4e5095f51e029637877a"
      }
     },
     "14c1d72ee9e647d197f4f8b5cf87419b": {
      "model_module": "@jupyter-widgets/controls",
      "model_module_version": "1.2.0",
      "model_name": "DescriptionStyleModel",
      "state": {
       "description_width": ""
      }
     },
     "14ee09181f604d3b90b42d22e4e6ed7b": {
      "model_module": "@jupyter-widgets/controls",
      "model_module_version": "1.2.0",
      "model_name": "HTMLModel",
      "state": {
       "layout": "IPY_MODEL_3ad05ae167f147c791b442fdde9fd0b6",
       "style": "IPY_MODEL_6ec2639ad2ba413ca17ae375b44b8d44",
       "value": "<h4 style=\"font-size:14px;\">Was leistet die Funktion <code>nltk.similar()</code>?</h4>"
      }
     },
     "153f931fc2684cf09ee0e1c3c8eae514": {
      "model_module": "@jupyter-widgets/base",
      "model_module_version": "1.0.0",
      "model_name": "LayoutModel",
      "state": {
       "width": "600px"
      }
     },
     "1628f23d68d340389838f244e6c3cd9d": {
      "model_module": "@jupyter-widgets/controls",
      "model_module_version": "1.2.0",
      "model_name": "DescriptionStyleModel",
      "state": {
       "description_width": ""
      }
     },
     "164ce34be3f8487591f11d616948676d": {
      "model_module": "@jupyter-widgets/base",
      "model_module_version": "1.0.0",
      "model_name": "LayoutModel",
      "state": {
       "width": "250px"
      }
     },
     "1662ef1ffb9742f88626945ebdd3dae5": {
      "model_module": "@jupyter-widgets/base",
      "model_module_version": "1.0.0",
      "model_name": "LayoutModel",
      "state": {}
     },
     "16cec20895024c138ec796efb50d9f50": {
      "model_module": "@jupyter-widgets/base",
      "model_module_version": "1.0.0",
      "model_name": "LayoutModel",
      "state": {
       "width": "600px"
      }
     },
     "177d7f4a0d9d4d0d94c66699f866d3f6": {
      "model_module": "@jupyter-widgets/controls",
      "model_module_version": "1.2.0",
      "model_name": "HTMLModel",
      "state": {
       "layout": "IPY_MODEL_95270ef71e9d41088cfd4f0e341f8ef5",
       "style": "IPY_MODEL_1216b4e77a4c4fed8ccedf0d711a285c",
       "value": "<h4 style=\"font-size:14px;\">. Es gehört zu einer komplexen</h4>"
      }
     },
     "17816a2bb2554912bb2209168a13bfae": {
      "model_module": "@jupyter-widgets/controls",
      "model_module_version": "1.2.0",
      "model_name": "VBoxModel",
      "state": {
       "children": [
        "IPY_MODEL_9e3c6f1e052f42338a18c2ab2c6a56ec",
        "IPY_MODEL_c95f240ee16e4a749411477d0e18607f",
        "IPY_MODEL_6f214c0598ca4c6984bcc2ddb275e240",
        "IPY_MODEL_2e2e1a7ee54a44e0a7aeaf76f8f89f1e"
       ],
       "layout": "IPY_MODEL_1207ceb78add4a59aa3bd7632074e5f2"
      }
     },
     "180119d9177a4ec180171f191b626aa1": {
      "model_module": "@jupyter-widgets/base",
      "model_module_version": "1.0.0",
      "model_name": "LayoutModel",
      "state": {
       "width": "600px"
      }
     },
     "1848792065e840b6baf8630ef0906b49": {
      "model_module": "@jupyter-widgets/base",
      "model_module_version": "1.0.0",
      "model_name": "LayoutModel",
      "state": {
       "width": "600px"
      }
     },
     "18733d18e18d462da31a2df57f4728ba": {
      "model_module": "@jupyter-widgets/base",
      "model_module_version": "1.0.0",
      "model_name": "LayoutModel",
      "state": {
       "width": "250px"
      }
     },
     "19307d1ca48640e89f805a2e48e52688": {
      "model_module": "@jupyter-widgets/controls",
      "model_module_version": "1.2.0",
      "model_name": "ButtonStyleModel",
      "state": {}
     },
     "19e34c3ff5dd40989c869847bd3373ee": {
      "model_module": "@jupyter-widgets/base",
      "model_module_version": "1.0.0",
      "model_name": "LayoutModel",
      "state": {
       "width": "600px"
      }
     },
     "1a4445ac78264fb9b0c96eea7ebc11f7": {
      "model_module": "@jupyter-widgets/controls",
      "model_module_version": "1.2.0",
      "model_name": "HBoxModel",
      "state": {
       "children": [
        "IPY_MODEL_6a3e0af62ba84631ad20b0982ea06167",
        "IPY_MODEL_6f6a50b552704f0ea6d16b5cbd0c5662"
       ],
       "layout": "IPY_MODEL_6480eb33ad614ce8979872d6a09f7d98"
      }
     },
     "1a8be7b08140421494c8bfff7ba637ad": {
      "model_module": "@jupyter-widgets/base",
      "model_module_version": "1.0.0",
      "model_name": "LayoutModel",
      "state": {}
     },
     "1aaf6b9447ab4fb790f49c3cd260453e": {
      "model_module": "@jupyter-widgets/controls",
      "model_module_version": "1.2.0",
      "model_name": "DescriptionStyleModel",
      "state": {
       "description_width": ""
      }
     },
     "1b1c11299bef4d99805f5a1cc298233d": {
      "model_module": "@jupyter-widgets/controls",
      "model_module_version": "1.2.0",
      "model_name": "ButtonStyleModel",
      "state": {}
     },
     "1c506e9507f64ecc829588fc891a7617": {
      "model_module": "@jupyter-widgets/controls",
      "model_module_version": "1.2.0",
      "model_name": "ButtonModel",
      "state": {
       "description": "Keine der anderen Möglichkeiten",
       "layout": "IPY_MODEL_5ab786a0f5a34d62b749278d98f79243",
       "style": "IPY_MODEL_b189873262ff4bc5830181d3ce7607b1"
      }
     },
     "1ce3a39a2f8341328719a211d84d6a70": {
      "model_module": "@jupyter-widgets/controls",
      "model_module_version": "1.2.0",
      "model_name": "DescriptionStyleModel",
      "state": {
       "description_width": ""
      }
     },
     "1d19dfc7e1a446b085d64c7d57bc7728": {
      "model_module": "@jupyter-widgets/controls",
      "model_module_version": "1.2.0",
      "model_name": "ButtonStyleModel",
      "state": {}
     },
     "1d2a2923a88f4dc586732dc7f1d935b7": {
      "model_module": "@jupyter-widgets/base",
      "model_module_version": "1.0.0",
      "model_name": "LayoutModel",
      "state": {
       "width": "150px"
      }
     },
     "1d932f8c08614568954c3efbf7794acc": {
      "model_module": "@jupyter-widgets/controls",
      "model_module_version": "1.2.0",
      "model_name": "DescriptionStyleModel",
      "state": {
       "description_width": "initial"
      }
     },
     "1de7eff9b107414f908f9811fd60d2d0": {
      "model_module": "@jupyter-widgets/base",
      "model_module_version": "1.0.0",
      "model_name": "LayoutModel",
      "state": {
       "width": "250px"
      }
     },
     "1dfa3b462d7942a6b2da7037aa805ecb": {
      "model_module": "@jupyter-widgets/controls",
      "model_module_version": "1.2.0",
      "model_name": "HBoxModel",
      "state": {
       "children": [
        "IPY_MODEL_113eacc79584464db2e6e6fc373064e8"
       ],
       "layout": "IPY_MODEL_4e450695d7b04fa8aef383b09c151dac"
      }
     },
     "1f7eb56abd1e49b4b3e042fbfab120ee": {
      "model_module": "@jupyter-widgets/controls",
      "model_module_version": "1.2.0",
      "model_name": "ButtonModel",
      "state": {
       "description": "Korrekt?",
       "layout": "IPY_MODEL_60aead5d6bd644708945efc8ab906be8",
       "style": "IPY_MODEL_ebc357452fb94b9c8072608f77a07ac0"
      }
     },
     "1fb89c562943408895453b10f4c09c4b": {
      "model_module": "@jupyter-widgets/controls",
      "model_module_version": "1.2.0",
      "model_name": "HTMLModel",
      "state": {
       "layout": "IPY_MODEL_e1ff9575fb6c49c5a524d67e9ab0f1ae",
       "style": "IPY_MODEL_88adfdba4f364692a5a3f7fe18ae500e",
       "value": "<i>Vervollständigen Sie den Lückentext: </i>"
      }
     },
     "1fe94638e48d49c7a314fd073e85a393": {
      "model_module": "@jupyter-widgets/controls",
      "model_module_version": "1.2.0",
      "model_name": "VBoxModel",
      "state": {
       "children": [
        "IPY_MODEL_e67781a5610a4191a83cb2964e1b0464",
        "IPY_MODEL_f447c6818445467e950711851f4bdac5",
        "IPY_MODEL_ede92e1603484625a948848a5a70e401",
        "IPY_MODEL_721adf84eea74b10bb78d5bb2cbaab10",
        "IPY_MODEL_b57889043a92464596d88aaf5ed2b0f4"
       ],
       "layout": "IPY_MODEL_f7dde597b2394e7591680ede456a3331"
      }
     },
     "20062eb162794f61a81cd527f369f4c1": {
      "model_module": "@jupyter-widgets/base",
      "model_module_version": "1.0.0",
      "model_name": "LayoutModel",
      "state": {}
     },
     "201beefd563c41e9a90c27a8940770c7": {
      "model_module": "@jupyter-widgets/controls",
      "model_module_version": "1.2.0",
      "model_name": "CheckboxModel",
      "state": {
       "description": "Mit einem Schritt beginnt eine Reise von tausend Meilen auch nur.",
       "disabled": false,
       "layout": "IPY_MODEL_afaaa893a5704a0b92d9b44ef6b85ac0",
       "style": "IPY_MODEL_c77a41dca3ea41e6863a67df2a3da3a7",
       "value": false
      }
     },
     "2083f7543bd146d9ad3c759f8fb790aa": {
      "model_module": "@jupyter-widgets/controls",
      "model_module_version": "1.2.0",
      "model_name": "ButtonModel",
      "state": {
       "description": "Korrekt?",
       "layout": "IPY_MODEL_9e3017d5301248f59431a52263f6efcd",
       "style": "IPY_MODEL_a58608fb00814e54b58d50bbf9ed9bf1"
      }
     },
     "20e620417a6940faa657d7f59052c5f1": {
      "model_module": "@jupyter-widgets/base",
      "model_module_version": "1.0.0",
      "model_name": "LayoutModel",
      "state": {}
     },
     "220ded222f3e40c48c20dfc72661d05f": {
      "model_module": "@jupyter-widgets/controls",
      "model_module_version": "1.2.0",
      "model_name": "DescriptionStyleModel",
      "state": {
       "description_width": ""
      }
     },
     "228faa4aabb44b0f9b5ea00152fd65e2": {
      "model_module": "@jupyter-widgets/controls",
      "model_module_version": "1.2.0",
      "model_name": "CheckboxModel",
      "state": {
       "description": "Es bezeichnet die näheren Umstände des im Verb ausgedrückten Geschehens.",
       "disabled": false,
       "layout": "IPY_MODEL_87d57202027a4893a1de89cfd529c73a",
       "style": "IPY_MODEL_dc10ae3bb84444e086be1900120e4a4c",
       "value": false
      }
     },
     "22e226183b324ed9a592e71c64642b01": {
      "model_module": "@jupyter-widgets/base",
      "model_module_version": "1.0.0",
      "model_name": "LayoutModel",
      "state": {
       "width": "250px"
      }
     },
     "233df370d76e4bb6abcc2aa9abeba85a": {
      "model_module": "@jupyter-widgets/base",
      "model_module_version": "1.0.0",
      "model_name": "LayoutModel",
      "state": {
       "width": "250px"
      }
     },
     "234e121b52ec4431b597f33612498db4": {
      "model_module": "@jupyter-widgets/base",
      "model_module_version": "1.0.0",
      "model_name": "LayoutModel",
      "state": {
       "justify_content": "center"
      }
     },
     "23bb8c260ae54975999fc69b5810c75d": {
      "model_module": "@jupyter-widgets/controls",
      "model_module_version": "1.2.0",
      "model_name": "HTMLModel",
      "state": {
       "layout": "IPY_MODEL_45dc8295aa2943f38cc6deb64bef187b",
       "style": "IPY_MODEL_ae24f583c2614377af16f7ad6a76f938",
       "value": "<h4 style=\"font-size:14px;\"><i>Eine Reise beginnt auch nur mit einem Schritt.</i><br>Welche Tests wurden angewandt?</h4>"
      }
     },
     "23c78d9df96e4dca85e501dcb43eba63": {
      "model_module": "@jupyter-widgets/controls",
      "model_module_version": "1.2.0",
      "model_name": "DescriptionStyleModel",
      "state": {
       "description_width": ""
      }
     },
     "240dc31847c349d7a2538c4c511ed257": {
      "model_module": "@jupyter-widgets/base",
      "model_module_version": "1.0.0",
      "model_name": "LayoutModel",
      "state": {
       "width": "150px"
      }
     },
     "24357942c9fc4cf4ba8e3b1fa377583a": {
      "model_module": "@jupyter-widgets/controls",
      "model_module_version": "1.2.0",
      "model_name": "ButtonModel",
      "state": {
       "description": "Korrekt?",
       "layout": "IPY_MODEL_4d8d516fd60747979ca01f064fcc4cd6",
       "style": "IPY_MODEL_3a570152a00943f9b3e038c7adc52fec"
      }
     },
     "2444b86536c446e6bd5cc77dd01cf02a": {
      "model_module": "@jupyter-widgets/controls",
      "model_module_version": "1.2.0",
      "model_name": "ButtonModel",
      "state": {
       "description": "gerund",
       "layout": "IPY_MODEL_8d747fd58c0f4dd8bed64f3894076b2d",
       "style": "IPY_MODEL_a98f9b51381b40f98cda989bd2a8f841"
      }
     },
     "24692c62cb3847f18bd7a3d1cd12e9e4": {
      "model_module": "@jupyter-widgets/base",
      "model_module_version": "1.0.0",
      "model_name": "LayoutModel",
      "state": {
       "width": "250px"
      }
     },
     "24782c9e5ad84ae8ba2b2f6d7b659767": {
      "model_module": "@jupyter-widgets/controls",
      "model_module_version": "1.2.0",
      "model_name": "DescriptionStyleModel",
      "state": {
       "description_width": ""
      }
     },
     "24b1a8fa60d543c881b14f4749067daa": {
      "model_module": "@jupyter-widgets/controls",
      "model_module_version": "1.2.0",
      "model_name": "DescriptionStyleModel",
      "state": {
       "description_width": "initial"
      }
     },
     "25537d3e92d941e0860ed3ecbc6eab65": {
      "model_module": "@jupyter-widgets/controls",
      "model_module_version": "1.2.0",
      "model_name": "HBoxModel",
      "state": {
       "children": [
        "IPY_MODEL_2be6815d92694d2f8f511723d09ef409",
        "IPY_MODEL_67f0618185614065bf4b272d4d5d083e"
       ],
       "layout": "IPY_MODEL_6e303cacd03348928abf879574ae8577"
      }
     },
     "25aa458f345d4673a8c73f317737355c": {
      "model_module": "@jupyter-widgets/base",
      "model_module_version": "1.0.0",
      "model_name": "LayoutModel",
      "state": {
       "width": "250px"
      }
     },
     "2624f768552d4ab494c1ad576a0d439e": {
      "model_module": "@jupyter-widgets/controls",
      "model_module_version": "1.2.0",
      "model_name": "DescriptionStyleModel",
      "state": {
       "description_width": ""
      }
     },
     "268716e0262e45848cc8b0748fb07f5f": {
      "model_module": "@jupyter-widgets/controls",
      "model_module_version": "1.2.0",
      "model_name": "ButtonModel",
      "state": {
       "description": "Korrekt?",
       "layout": "IPY_MODEL_a78995967edb4f5ea56fc6ae03073bd7",
       "style": "IPY_MODEL_d6f13373b9c948369b9dbab1d6b37170"
      }
     },
     "26c628a378c84208b9608d00d333ac67": {
      "model_module": "@jupyter-widgets/base",
      "model_module_version": "1.0.0",
      "model_name": "LayoutModel",
      "state": {
       "justify_content": "center"
      }
     },
     "26ceb55f362247c5834f44bc3ee633f7": {
      "model_module": "@jupyter-widgets/controls",
      "model_module_version": "1.2.0",
      "model_name": "DescriptionStyleModel",
      "state": {
       "description_width": ""
      }
     },
     "2715b573e0264dec86d9ae56a126081e": {
      "model_module": "@jupyter-widgets/controls",
      "model_module_version": "1.2.0",
      "model_name": "ButtonModel",
      "state": {
       "description": "Wortfolge",
       "layout": "IPY_MODEL_282008668046495585bd8c03f4d4bc2f",
       "style": "IPY_MODEL_d2a031b67a084ce893cebe18623542c1"
      }
     },
     "27586f3dd50544f3a0a850cc8a679337": {
      "model_module": "@jupyter-widgets/controls",
      "model_module_version": "1.2.0",
      "model_name": "DescriptionStyleModel",
      "state": {
       "description_width": "initial"
      }
     },
     "276acf880ced4fec925767959762a0a8": {
      "model_module": "@jupyter-widgets/controls",
      "model_module_version": "1.2.0",
      "model_name": "ButtonStyleModel",
      "state": {}
     },
     "28023a8ed5bb488f81933f85e2ff24f5": {
      "model_module": "@jupyter-widgets/controls",
      "model_module_version": "1.2.0",
      "model_name": "CheckboxModel",
      "state": {
       "description": "Eliminierungstest",
       "disabled": false,
       "layout": "IPY_MODEL_fcf8d604629f4478a287664004464d12",
       "style": "IPY_MODEL_2f92049bb91847dcad8882515e1c070e",
       "value": false
      }
     },
     "282008668046495585bd8c03f4d4bc2f": {
      "model_module": "@jupyter-widgets/base",
      "model_module_version": "1.0.0",
      "model_name": "LayoutModel",
      "state": {
       "width": "250px"
      }
     },
     "290a2a5c14d54a58b13abfa61414cbfd": {
      "model_module": "@jupyter-widgets/base",
      "model_module_version": "1.0.0",
      "model_name": "LayoutModel",
      "state": {
       "width": "250px"
      }
     },
     "29afabfd83bd42bfb0053cb35ff7d47d": {
      "model_module": "@jupyter-widgets/base",
      "model_module_version": "1.0.0",
      "model_name": "LayoutModel",
      "state": {
       "width": "150px"
      }
     },
     "29d3da8d36144ffd9086c401c0000a5b": {
      "model_module": "@jupyter-widgets/controls",
      "model_module_version": "1.2.0",
      "model_name": "DescriptionStyleModel",
      "state": {
       "description_width": ""
      }
     },
     "29d734add7934cecb5f8c78c248310f8": {
      "model_module": "@jupyter-widgets/controls",
      "model_module_version": "1.2.0",
      "model_name": "HTMLModel",
      "state": {
       "layout": "IPY_MODEL_a586bbd103c04aec87bd64b1de55bc16",
       "style": "IPY_MODEL_1628f23d68d340389838f244e6c3cd9d",
       "value": "<i>Markieren Sie <ins>alle</ins> passenden Antworten: </i>"
      }
     },
     "2a425998ee1347f090b6bc1b616c45e7": {
      "model_module": "@jupyter-widgets/controls",
      "model_module_version": "1.2.0",
      "model_name": "ButtonModel",
      "state": {
       "description": "past participle",
       "layout": "IPY_MODEL_90acbf1c381d40708f295e119dd9bb09",
       "style": "IPY_MODEL_57f6732ee3be42bb8ad37bc119bc64a9"
      }
     },
     "2b33116e1b274726934151f2fdf96dbf": {
      "model_module": "@jupyter-widgets/controls",
      "model_module_version": "1.2.0",
      "model_name": "ButtonStyleModel",
      "state": {}
     },
     "2b8b18f71cc24c159e85ea7fc5e544bc": {
      "model_module": "@jupyter-widgets/controls",
      "model_module_version": "1.2.0",
      "model_name": "HTMLModel",
      "state": {
       "layout": "IPY_MODEL_821397599b5e4d0592be094b3f78117a",
       "style": "IPY_MODEL_fda335c415024914b7801476a70df688",
       "value": "<h4 style=\"font-size:14px;\">-Tupel von</h4>"
      }
     },
     "2be6815d92694d2f8f511723d09ef409": {
      "model_module": "@jupyter-widgets/controls",
      "model_module_version": "1.2.0",
      "model_name": "ButtonModel",
      "state": {
       "description": "Adjektiv",
       "layout": "IPY_MODEL_51e29fd4a20e453c8ed39f2873fecb4f",
       "style": "IPY_MODEL_559cc1af1f1c41999c4d7aba266b0b95"
      }
     },
     "2c5f7112d58d4be087253e78a2b7ee9e": {
      "model_module": "@jupyter-widgets/controls",
      "model_module_version": "1.2.0",
      "model_name": "DescriptionStyleModel",
      "state": {
       "description_width": ""
      }
     },
     "2c6c7fb575354b1b9eba368b6fa53bc0": {
      "model_module": "@jupyter-widgets/controls",
      "model_module_version": "1.2.0",
      "model_name": "DescriptionStyleModel",
      "state": {
       "description_width": ""
      }
     },
     "2d127811339c46a5a4ef2860dc34d2ed": {
      "model_module": "@jupyter-widgets/controls",
      "model_module_version": "1.2.0",
      "model_name": "VBoxModel",
      "state": {
       "children": [
        "IPY_MODEL_520fd0a2861344b6ba81d121dbe87cce",
        "IPY_MODEL_42a05f0b255e4ae2bfbc514a6ab4474d",
        "IPY_MODEL_9a0eaa0774a04b7c99c5bf77744060d8",
        "IPY_MODEL_4391576b38434c4cbf179d48f63cdb43",
        "IPY_MODEL_5b718c345d43438d854f89d364d87db0"
       ],
       "layout": "IPY_MODEL_346162111fe740c8b9089ba6e2bd11d6"
      }
     },
     "2d3239825ef744379755b3fb0db48efc": {
      "model_module": "@jupyter-widgets/controls",
      "model_module_version": "1.2.0",
      "model_name": "ButtonStyleModel",
      "state": {}
     },
     "2dc14269408a43eeb9114bb5c8c48cbe": {
      "model_module": "@jupyter-widgets/base",
      "model_module_version": "1.0.0",
      "model_name": "LayoutModel",
      "state": {
       "width": "150px"
      }
     },
     "2e2e1a7ee54a44e0a7aeaf76f8f89f1e": {
      "model_module": "@jupyter-widgets/controls",
      "model_module_version": "1.2.0",
      "model_name": "ButtonModel",
      "state": {
       "description": "Korrekt?",
       "layout": "IPY_MODEL_18733d18e18d462da31a2df57f4728ba",
       "style": "IPY_MODEL_38e0e5999571426c88c6d253c38fc166"
      }
     },
     "2e724c77e88f4325aa39903df9a00ef5": {
      "model_module": "@jupyter-widgets/controls",
      "model_module_version": "1.2.0",
      "model_name": "CheckboxModel",
      "state": {
       "description": "gleiche syntagmatische Position",
       "disabled": false,
       "layout": "IPY_MODEL_6da1dfd85c214a39869c009d2b9c93fe",
       "style": "IPY_MODEL_6a3a1f5cd3ff4587bd705e866727a12d",
       "value": false
      }
     },
     "2f0921833bcd41cf8582cd10ed8176bb": {
      "model_module": "@jupyter-widgets/base",
      "model_module_version": "1.0.0",
      "model_name": "LayoutModel",
      "state": {}
     },
     "2f92049bb91847dcad8882515e1c070e": {
      "model_module": "@jupyter-widgets/controls",
      "model_module_version": "1.2.0",
      "model_name": "DescriptionStyleModel",
      "state": {
       "description_width": "initial"
      }
     },
     "2fe1aaa58f5c4c6da283e6ecf86c5b6e": {
      "model_module": "@jupyter-widgets/controls",
      "model_module_version": "1.2.0",
      "model_name": "ButtonModel",
      "state": {
       "description": "Adjektiv",
       "layout": "IPY_MODEL_dc6979e38ccd4b6d842cd4d251a27879",
       "style": "IPY_MODEL_1d19dfc7e1a446b085d64c7d57bc7728"
      }
     },
     "30b28c0bb75f4fb486781e86aca563af": {
      "model_module": "@jupyter-widgets/base",
      "model_module_version": "1.0.0",
      "model_name": "LayoutModel",
      "state": {
       "width": "600px"
      }
     },
     "30e959b7b66549beac4c21c84d33766f": {
      "model_module": "@jupyter-widgets/base",
      "model_module_version": "1.0.0",
      "model_name": "LayoutModel",
      "state": {}
     },
     "311cae451a4b4a98b94a6794d35d3afa": {
      "model_module": "@jupyter-widgets/controls",
      "model_module_version": "1.2.0",
      "model_name": "HTMLModel",
      "state": {
       "layout": "IPY_MODEL_6177259c915842c99cb8ada7ec558608",
       "style": "IPY_MODEL_039fc9c2fbbe45669ab8df24a5f577d5",
       "value": "<i>Wählen Sie die <ins>eine</ins> korrekte Antwort aus: </i>"
      }
     },
     "315eeb32dc89405caf4c576677a18630": {
      "model_module": "@jupyter-widgets/controls",
      "model_module_version": "1.2.0",
      "model_name": "DescriptionStyleModel",
      "state": {
       "description_width": ""
      }
     },
     "31c0862a37dc4f478e34a611692e4f22": {
      "model_module": "@jupyter-widgets/base",
      "model_module_version": "1.0.0",
      "model_name": "LayoutModel",
      "state": {}
     },
     "3223157b9448495fa6f69e858149aee2": {
      "model_module": "@jupyter-widgets/controls",
      "model_module_version": "1.2.0",
      "model_name": "HBoxModel",
      "state": {
       "children": [
        "IPY_MODEL_2444b86536c446e6bd5cc77dd01cf02a",
        "IPY_MODEL_b958b0ce750241fcbe0d087a544b7058"
       ],
       "layout": "IPY_MODEL_e8c2692bad344ae7943ae13446693d0c"
      }
     },
     "328cddbd80074647824f829e3177501c": {
      "model_module": "@jupyter-widgets/controls",
      "model_module_version": "1.2.0",
      "model_name": "HTMLModel",
      "state": {
       "layout": "IPY_MODEL_234e121b52ec4431b597f33612498db4",
       "style": "IPY_MODEL_26ceb55f362247c5834f44bc3ee633f7",
       "value": "<h4 style=\"font-size:14px;\">Was ist der Output eines Part-of-Speech-Taggers?</h4>"
      }
     },
     "33c75ad01bc44023bcd6addd47c7d85a": {
      "model_module": "@jupyter-widgets/base",
      "model_module_version": "1.0.0",
      "model_name": "LayoutModel",
      "state": {}
     },
     "346162111fe740c8b9089ba6e2bd11d6": {
      "model_module": "@jupyter-widgets/base",
      "model_module_version": "1.0.0",
      "model_name": "LayoutModel",
      "state": {}
     },
     "3489e3543a2b4bfe8ec7428842afa8fc": {
      "model_module": "@jupyter-widgets/controls",
      "model_module_version": "1.2.0",
      "model_name": "ButtonStyleModel",
      "state": {}
     },
     "35290e3add2a4c1d8145bb559a090f0c": {
      "model_module": "@jupyter-widgets/controls",
      "model_module_version": "1.2.0",
      "model_name": "VBoxModel",
      "state": {
       "children": [
        "IPY_MODEL_96ce4fa389fa45a9976d1e59230fd9a9",
        "IPY_MODEL_3811dab688214277b31b6f6be8753408",
        "IPY_MODEL_08d2816401004c049c1d572cc30cdb9c",
        "IPY_MODEL_65090e776f8043e8b3869a0f41e8e1a1"
       ],
       "layout": "IPY_MODEL_3ed03462f3514d33b6a546a2e0f387c7"
      }
     },
     "35b69c667de24b3998917c20d8b55747": {
      "model_module": "@jupyter-widgets/controls",
      "model_module_version": "1.2.0",
      "model_name": "DescriptionStyleModel",
      "state": {
       "description_width": "initial"
      }
     },
     "35c0b92d62984346816a6528e789aa30": {
      "model_module": "@jupyter-widgets/controls",
      "model_module_version": "1.2.0",
      "model_name": "DescriptionStyleModel",
      "state": {
       "description_width": ""
      }
     },
     "35cd203cb6364045b59ceb30f65762a4": {
      "model_module": "@jupyter-widgets/controls",
      "model_module_version": "1.2.0",
      "model_name": "DescriptionStyleModel",
      "state": {
       "description_width": ""
      }
     },
     "3811dab688214277b31b6f6be8753408": {
      "model_module": "@jupyter-widgets/controls",
      "model_module_version": "1.2.0",
      "model_name": "CheckboxModel",
      "state": {
       "description": "gleiche Endungen",
       "disabled": false,
       "layout": "IPY_MODEL_f6c5969182fc4b7f95fcdf7f3ac85b32",
       "style": "IPY_MODEL_6dc95da159834a4bb9149fcbd0465a07",
       "value": false
      }
     },
     "3858954a33ce4cdca44a5c0f1026863b": {
      "model_module": "@jupyter-widgets/controls",
      "model_module_version": "1.2.0",
      "model_name": "ButtonModel",
      "state": {
       "description": "Korrekt?",
       "layout": "IPY_MODEL_8922618be88649988d5fdc9020bb8e57",
       "style": "IPY_MODEL_3df6881a2931442bba0d4e486d792637"
      }
     },
     "38e0e5999571426c88c6d253c38fc166": {
      "model_module": "@jupyter-widgets/controls",
      "model_module_version": "1.2.0",
      "model_name": "ButtonStyleModel",
      "state": {}
     },
     "38e40af0ff144cc483d5bf8014c20e68": {
      "model_module": "@jupyter-widgets/controls",
      "model_module_version": "1.2.0",
      "model_name": "HBoxModel",
      "state": {
       "children": [
        "IPY_MODEL_00f453c5b7ba413983d8c30289bef0e5"
       ],
       "layout": "IPY_MODEL_4e4c3a3c4ef9419181e12d41115a3580"
      }
     },
     "38e62baf71254aeb948ed158a822c9af": {
      "model_module": "@jupyter-widgets/controls",
      "model_module_version": "1.2.0",
      "model_name": "CheckboxModel",
      "state": {
       "description": "Koordinationstest",
       "disabled": false,
       "layout": "IPY_MODEL_d37c164447ed4670a705dcf402aec631",
       "style": "IPY_MODEL_8321b3e1546c48eaa113c3ffcdd7f972",
       "value": false
      }
     },
     "393ec98ae7a449c089e4663cec905d03": {
      "model_module": "@jupyter-widgets/controls",
      "model_module_version": "1.2.0",
      "model_name": "BoxModel",
      "state": {
       "children": [
        "IPY_MODEL_91106bd392824fa6a92bb758a954b70a",
        "IPY_MODEL_68632d671b494bceb9940acb56b626dc",
        "IPY_MODEL_eb0a830773ea4054b781dbb73b36a14f",
        "IPY_MODEL_f8f27fe81c2c412cac5d5ab14bb5a30c",
        "IPY_MODEL_4c6b301a2f3e428ead2036f5a1fe5717",
        "IPY_MODEL_f086786a409f40d09ec996687e874065",
        "IPY_MODEL_c7e4f6a9cd70449994f48e30f5c39bec"
       ],
       "layout": "IPY_MODEL_ea9f7fc928e64ceca0d96d09a416d1ba"
      }
     },
     "394566c0b85a4212af68c397e3043525": {
      "model_module": "@jupyter-widgets/controls",
      "model_module_version": "1.2.0",
      "model_name": "ButtonStyleModel",
      "state": {}
     },
     "398c903848b54ba8a1a5d8fa7dd5a523": {
      "model_module": "@jupyter-widgets/base",
      "model_module_version": "1.0.0",
      "model_name": "LayoutModel",
      "state": {
       "width": "150px"
      }
     },
     "3a570152a00943f9b3e038c7adc52fec": {
      "model_module": "@jupyter-widgets/controls",
      "model_module_version": "1.2.0",
      "model_name": "ButtonStyleModel",
      "state": {}
     },
     "3ab16abddf194e6c9eea5bab18e1ea1b": {
      "model_module": "@jupyter-widgets/controls",
      "model_module_version": "1.2.0",
      "model_name": "CheckboxModel",
      "state": {
       "description": "Nur beginnt eine Reise von tausend Meilen auch mit einem Schritt",
       "disabled": false,
       "layout": "IPY_MODEL_65f7981e7eee4df9be81b722334b6743",
       "style": "IPY_MODEL_dca5818bf472424dbd6518e8cb8251cd",
       "value": false
      }
     },
     "3ad05ae167f147c791b442fdde9fd0b6": {
      "model_module": "@jupyter-widgets/base",
      "model_module_version": "1.0.0",
      "model_name": "LayoutModel",
      "state": {}
     },
     "3ad8fd3d183e471e8ebea93412de4c52": {
      "model_module": "@jupyter-widgets/controls",
      "model_module_version": "1.2.0",
      "model_name": "BoxModel",
      "state": {
       "children": [
        "IPY_MODEL_a01f520073ba4e51b5ad61f92cacad29",
        "IPY_MODEL_89c26080a6ab4820b143a64443fde3ab",
        "IPY_MODEL_5240c03da2a249fa8ac705a85770f3ee",
        "IPY_MODEL_c4e7c0cd030d450b9fa7f43225700f91",
        "IPY_MODEL_d0ebc0bbe7e146b5acd1f1f073190f66"
       ],
       "layout": "IPY_MODEL_e36d817f600d42bab94ae5a79d2a45b1"
      }
     },
     "3b0f37022656413f8183b849348d7df8": {
      "model_module": "@jupyter-widgets/base",
      "model_module_version": "1.0.0",
      "model_name": "LayoutModel",
      "state": {}
     },
     "3ba4f0da71a64e10a9159b4b4725249b": {
      "model_module": "@jupyter-widgets/controls",
      "model_module_version": "1.2.0",
      "model_name": "ButtonModel",
      "state": {
       "description": "Keine der anderen Möglichkeiten",
       "layout": "IPY_MODEL_b20561cc8dd143d981f4c0d64cae3657",
       "style": "IPY_MODEL_ea1cdea0376143d7b24f895bf81c5f44"
      }
     },
     "3bd4767ec78f4347a59125fd4b0bc84d": {
      "model_module": "@jupyter-widgets/controls",
      "model_module_version": "1.2.0",
      "model_name": "DropdownModel",
      "state": {
       "_options_labels": [
        "Konstituente",
        "Phrase",
        " "
       ],
       "index": 2,
       "layout": "IPY_MODEL_1d2a2923a88f4dc586732dc7f1d935b7",
       "style": "IPY_MODEL_c4abc1d557db452d9ae7e5940d8664ad"
      }
     },
     "3bf32b8a77634bb7a4ca5dd41572a5f3": {
      "model_module": "@jupyter-widgets/controls",
      "model_module_version": "1.2.0",
      "model_name": "ButtonModel",
      "state": {
       "description": "gerund",
       "layout": "IPY_MODEL_d0bda699a5864b08a6ae9425536fbb89",
       "style": "IPY_MODEL_5e1bea57420749fba09e511a891a6d28"
      }
     },
     "3c8c98f8cff54f0db672561dca46c2cd": {
      "model_module": "@jupyter-widgets/controls",
      "model_module_version": "1.2.0",
      "model_name": "VBoxModel",
      "state": {
       "children": [
        "IPY_MODEL_328cddbd80074647824f829e3177501c",
        "IPY_MODEL_af3dc3d493f34e47b872e28b2642b5f4",
        "IPY_MODEL_7a1a6d76e304447e992f6f1f6975ebdd",
        "IPY_MODEL_0c198d55c7b44a1eac0bb73b758e0798"
       ],
       "layout": "IPY_MODEL_b2d4afaced1a4d938dfb8a3813f45213"
      }
     },
     "3d4936c7e3c146439a1c3dea27d0d5ee": {
      "model_module": "@jupyter-widgets/controls",
      "model_module_version": "1.2.0",
      "model_name": "HTMLModel",
      "state": {
       "layout": "IPY_MODEL_a0dd8ddc1a1d41b3847d31f852781c51",
       "style": "IPY_MODEL_c8680a27a530493196cda6e1d3a161be",
       "value": "<h4 style=\"font-size:14px;\">gestellt. Die gesamte</h4>"
      }
     },
     "3df6881a2931442bba0d4e486d792637": {
      "model_module": "@jupyter-widgets/controls",
      "model_module_version": "1.2.0",
      "model_name": "ButtonStyleModel",
      "state": {}
     },
     "3e259c6983bb44fba9ba1542d2e75ad7": {
      "model_module": "@jupyter-widgets/base",
      "model_module_version": "1.0.0",
      "model_name": "LayoutModel",
      "state": {
       "width": "250px"
      }
     },
     "3ed03462f3514d33b6a546a2e0f387c7": {
      "model_module": "@jupyter-widgets/base",
      "model_module_version": "1.0.0",
      "model_name": "LayoutModel",
      "state": {}
     },
     "3ee7657aee274c8390b5942701fabc31": {
      "model_module": "@jupyter-widgets/controls",
      "model_module_version": "1.2.0",
      "model_name": "DescriptionStyleModel",
      "state": {
       "description_width": "initial"
      }
     },
     "3f4b0f27c3434c0a948fd978f9a1d755": {
      "model_module": "@jupyter-widgets/base",
      "model_module_version": "1.0.0",
      "model_name": "LayoutModel",
      "state": {
       "width": "500px"
      }
     },
     "3fb8d394b31e489588f87cd1e0be74c5": {
      "model_module": "@jupyter-widgets/base",
      "model_module_version": "1.0.0",
      "model_name": "LayoutModel",
      "state": {
       "justify_content": "center"
      }
     },
     "41386bf8395e41c28a454b2f17af086d": {
      "model_module": "@jupyter-widgets/controls",
      "model_module_version": "1.2.0",
      "model_name": "HTMLModel",
      "state": {
       "layout": "IPY_MODEL_ce00cceffffa425b9004a96ff8f2c3ca",
       "style": "IPY_MODEL_edb3c357ecd346bc9d0b9bf71f89c3e6",
       "value": "<h4 style=\"font-size:14px;\">umfasst die</h4>"
      }
     },
     "41ea83da7ef149f9b0c0f2327f562890": {
      "model_module": "@jupyter-widgets/base",
      "model_module_version": "1.0.0",
      "model_name": "LayoutModel",
      "state": {}
     },
     "425a586a266e495ca87a2a545f703f62": {
      "model_module": "@jupyter-widgets/controls",
      "model_module_version": "1.2.0",
      "model_name": "DescriptionStyleModel",
      "state": {
       "description_width": ""
      }
     },
     "42a05f0b255e4ae2bfbc514a6ab4474d": {
      "model_module": "@jupyter-widgets/controls",
      "model_module_version": "1.2.0",
      "model_name": "HTMLModel",
      "state": {
       "layout": "IPY_MODEL_c1a68855478d4f90a478d274a308b045",
       "style": "IPY_MODEL_35cd203cb6364045b59ceb30f65762a4",
       "value": "<i>Wählen Sie die <ins>eine</ins> korrekte Antwort aus: </i>"
      }
     },
     "4391576b38434c4cbf179d48f63cdb43": {
      "model_module": "@jupyter-widgets/controls",
      "model_module_version": "1.2.0",
      "model_name": "HBoxModel",
      "state": {
       "children": [
        "IPY_MODEL_8f606bdfbd28472ca940a3e92da0adb0",
        "IPY_MODEL_72c190beeb74429f99cee353ddefa8b9"
       ],
       "layout": "IPY_MODEL_558787e389e844e58dd10c2433b0a196"
      }
     },
     "44976ef0ac6a4800babaa01bee7e327a": {
      "model_module": "@jupyter-widgets/base",
      "model_module_version": "1.0.0",
      "model_name": "LayoutModel",
      "state": {
       "width": "250px"
      }
     },
     "449a7d92eb1246ecbb9a474779907215": {
      "model_module": "@jupyter-widgets/controls",
      "model_module_version": "1.2.0",
      "model_name": "HTMLModel",
      "state": {
       "layout": "IPY_MODEL_ce4b33522a3e4140a2e16766d4cf25ca",
       "style": "IPY_MODEL_af87f171c1d7480fbb5317631d0f13cf",
       "value": "<i>Geben Sie die entsprechende Funktion anstelle des Unterstrichs ein.</i>"
      }
     },
     "44fc14cc23ad45bb9029193b12cffb59": {
      "model_module": "@jupyter-widgets/base",
      "model_module_version": "1.0.0",
      "model_name": "LayoutModel",
      "state": {
       "width": "250px"
      }
     },
     "45baa596287e48fe9b984bb3d1d4e629": {
      "model_module": "@jupyter-widgets/controls",
      "model_module_version": "1.2.0",
      "model_name": "ButtonStyleModel",
      "state": {}
     },
     "45dc8295aa2943f38cc6deb64bef187b": {
      "model_module": "@jupyter-widgets/base",
      "model_module_version": "1.0.0",
      "model_name": "LayoutModel",
      "state": {}
     },
     "46bf84cf6aab4473b68a09b108fffd43": {
      "model_module": "@jupyter-widgets/controls",
      "model_module_version": "1.2.0",
      "model_name": "CheckboxModel",
      "state": {
       "description": "gleicher Kontext",
       "disabled": false,
       "layout": "IPY_MODEL_16cec20895024c138ec796efb50d9f50",
       "style": "IPY_MODEL_007f9c34595f470f922514ef60696014",
       "value": false
      }
     },
     "46d36a71b40a48e1988156a6388c2e7f": {
      "model_module": "@jupyter-widgets/controls",
      "model_module_version": "1.2.0",
      "model_name": "CheckboxModel",
      "state": {
       "description": "Zu einem Wort werden alle Synonyme gefunden.",
       "disabled": false,
       "layout": "IPY_MODEL_180119d9177a4ec180171f191b626aa1",
       "style": "IPY_MODEL_27586f3dd50544f3a0a850cc8a679337",
       "value": false
      }
     },
     "46d95d5382c644d79998e0bd374ab7fb": {
      "model_module": "@jupyter-widgets/controls",
      "model_module_version": "1.2.0",
      "model_name": "DescriptionStyleModel",
      "state": {
       "description_width": ""
      }
     },
     "4830dbd1d78640cd8b7ccaad2762f0e7": {
      "model_module": "@jupyter-widgets/controls",
      "model_module_version": "1.2.0",
      "model_name": "DescriptionStyleModel",
      "state": {
       "description_width": ""
      }
     },
     "499004b6113d43459f64643837d2e61f": {
      "model_module": "@jupyter-widgets/controls",
      "model_module_version": "1.2.0",
      "model_name": "DescriptionStyleModel",
      "state": {
       "description_width": ""
      }
     },
     "4aba00d123c74455a8aa60f8edbc9559": {
      "model_module": "@jupyter-widgets/base",
      "model_module_version": "1.0.0",
      "model_name": "LayoutModel",
      "state": {
       "width": "150px"
      }
     },
     "4b0fad7ce9fa4f6683de5c870d302ba6": {
      "model_module": "@jupyter-widgets/controls",
      "model_module_version": "1.2.0",
      "model_name": "ButtonStyleModel",
      "state": {}
     },
     "4c5d5138e5944b939a9d666bbf2b52c0": {
      "model_module": "@jupyter-widgets/base",
      "model_module_version": "1.0.0",
      "model_name": "LayoutModel",
      "state": {
       "width": "250px"
      }
     },
     "4c6b301a2f3e428ead2036f5a1fe5717": {
      "model_module": "@jupyter-widgets/controls",
      "model_module_version": "1.2.0",
      "model_name": "HTMLModel",
      "state": {
       "layout": "IPY_MODEL_7df9db9c3bb742a3be5537a8a2283a0c",
       "style": "IPY_MODEL_5c0cac023ed049a9b119b293b9312a4b",
       "value": "<h4 style=\"font-size:14px;\">Sequenz unter Erhalt der</h4>"
      }
     },
     "4cd14356dc9c46efb2365f5af56a374b": {
      "model_module": "@jupyter-widgets/controls",
      "model_module_version": "1.2.0",
      "model_name": "ButtonModel",
      "state": {
       "description": "past participle",
       "layout": "IPY_MODEL_819eb10843b74fed96eeaa9105cf6b14",
       "style": "IPY_MODEL_a85edb1da26f45fcb4217fdbfd74dfe2"
      }
     },
     "4cd965063ad246efa1a6bbe11199084c": {
      "model_module": "@jupyter-widgets/controls",
      "model_module_version": "1.2.0",
      "model_name": "VBoxModel",
      "state": {
       "children": [
        "IPY_MODEL_da384ba8905f47cdb4d79aea7cafcbde",
        "IPY_MODEL_311cae451a4b4a98b94a6794d35d3afa",
        "IPY_MODEL_1a4445ac78264fb9b0c96eea7ebc11f7",
        "IPY_MODEL_3223157b9448495fa6f69e858149aee2",
        "IPY_MODEL_1dfa3b462d7942a6b2da7037aa805ecb"
       ],
       "layout": "IPY_MODEL_64eaeb7144794df1a162f6f54628eb78"
      }
     },
     "4d7ad742b84d4809912d32a67c4f7755": {
      "model_module": "@jupyter-widgets/controls",
      "model_module_version": "1.2.0",
      "model_name": "HBoxModel",
      "state": {
       "children": [
        "IPY_MODEL_24357942c9fc4cf4ba8e3b1fa377583a",
        "IPY_MODEL_66eebabb02b94b3ebdedbf4e50c353e9"
       ],
       "layout": "IPY_MODEL_9acaca7c4ab140c1b3608badf57123ba"
      }
     },
     "4d8d516fd60747979ca01f064fcc4cd6": {
      "model_module": "@jupyter-widgets/base",
      "model_module_version": "1.0.0",
      "model_name": "LayoutModel",
      "state": {
       "width": "350px"
      }
     },
     "4e018ba5f2da4169a705767936841ac1": {
      "model_module": "@jupyter-widgets/base",
      "model_module_version": "1.0.0",
      "model_name": "LayoutModel",
      "state": {
       "width": "250px"
      }
     },
     "4e09c9f4c6f6444f948dd77e6b9cab65": {
      "model_module": "@jupyter-widgets/base",
      "model_module_version": "1.0.0",
      "model_name": "LayoutModel",
      "state": {
       "width": "250px"
      }
     },
     "4e450695d7b04fa8aef383b09c151dac": {
      "model_module": "@jupyter-widgets/base",
      "model_module_version": "1.0.0",
      "model_name": "LayoutModel",
      "state": {}
     },
     "4e4c3a3c4ef9419181e12d41115a3580": {
      "model_module": "@jupyter-widgets/base",
      "model_module_version": "1.0.0",
      "model_name": "LayoutModel",
      "state": {}
     },
     "4efd24b8dbaf4bedb5eb341d19cf7e40": {
      "model_module": "@jupyter-widgets/base",
      "model_module_version": "1.0.0",
      "model_name": "LayoutModel",
      "state": {}
     },
     "510b02527c5c4affbc173a4f3704b66d": {
      "model_module": "@jupyter-widgets/controls",
      "model_module_version": "1.2.0",
      "model_name": "HTMLModel",
      "state": {
       "layout": "IPY_MODEL_0701671b3b4f4fe1a48389e3f28c458b",
       "style": "IPY_MODEL_fc57900e84c6473c83eb5d29395a26a9",
       "value": "<i>Vervollständigen Sie den Lückentext: </i>"
      }
     },
     "5156096f820c42aa8a54d17649eef8e8": {
      "model_module": "@jupyter-widgets/base",
      "model_module_version": "1.0.0",
      "model_name": "LayoutModel",
      "state": {}
     },
     "51e29fd4a20e453c8ed39f2873fecb4f": {
      "model_module": "@jupyter-widgets/base",
      "model_module_version": "1.0.0",
      "model_name": "LayoutModel",
      "state": {
       "width": "250px"
      }
     },
     "520fd0a2861344b6ba81d121dbe87cce": {
      "model_module": "@jupyter-widgets/controls",
      "model_module_version": "1.2.0",
      "model_name": "HTMLModel",
      "state": {
       "layout": "IPY_MODEL_26c628a378c84208b9608d00d333ac67",
       "style": "IPY_MODEL_7b0afcc6f3a048e8b9da3b4e36df1de4",
       "value": "<h4 style=\"font-size:14px;\">Was bedeutet das Tag <i>VBG</i> im Browntagset (siehe 5.7)?</h4>"
      }
     },
     "5240c03da2a249fa8ac705a85770f3ee": {
      "model_module": "@jupyter-widgets/controls",
      "model_module_version": "1.2.0",
      "model_name": "HTMLModel",
      "state": {
       "layout": "IPY_MODEL_8d38e1ac7cb3447ba084cb462d6bacba",
       "style": "IPY_MODEL_d685e79b881a4849b8f50cde47ca4692",
       "value": "<h4 style=\"font-size:14px;\">Phrasen verkettet werden können. Das Ergebnis ist eine Phrase des gleichen Typs, also der gleichen</h4>"
      }
     },
     "53805651a9644efc810fabccfc85b196": {
      "model_module": "@jupyter-widgets/base",
      "model_module_version": "1.0.0",
      "model_name": "LayoutModel",
      "state": {
       "width": "250px"
      }
     },
     "539a023290814d7db8f0cd3f7e1828f8": {
      "model_module": "@jupyter-widgets/controls",
      "model_module_version": "1.2.0",
      "model_name": "ButtonModel",
      "state": {
       "description": "gerund",
       "layout": "IPY_MODEL_09bdf03cdcdb40b28d726d5104a39abd",
       "style": "IPY_MODEL_08a21a26a18b4ebdaf514a5b7311789b"
      }
     },
     "53ffc08aafa042eda571ecccd223ad22": {
      "model_module": "@jupyter-widgets/controls",
      "model_module_version": "1.2.0",
      "model_name": "DescriptionStyleModel",
      "state": {
       "description_width": ""
      }
     },
     "54aaa45bee3f4a19a30e55f4a408c7f4": {
      "model_module": "@jupyter-widgets/base",
      "model_module_version": "1.0.0",
      "model_name": "LayoutModel",
      "state": {}
     },
     "54f22a977cf2478484067fd2e524367e": {
      "model_module": "@jupyter-widgets/controls",
      "model_module_version": "1.2.0",
      "model_name": "ButtonModel",
      "state": {
       "description": "past participle",
       "layout": "IPY_MODEL_44fc14cc23ad45bb9029193b12cffb59",
       "style": "IPY_MODEL_7572019992144dd2a9a11b1201c15760"
      }
     },
     "5562c8f77c7f4793aac9d19b8ec5bca5": {
      "model_module": "@jupyter-widgets/base",
      "model_module_version": "1.0.0",
      "model_name": "LayoutModel",
      "state": {
       "width": "250px"
      }
     },
     "558787e389e844e58dd10c2433b0a196": {
      "model_module": "@jupyter-widgets/base",
      "model_module_version": "1.0.0",
      "model_name": "LayoutModel",
      "state": {}
     },
     "559cc1af1f1c41999c4d7aba266b0b95": {
      "model_module": "@jupyter-widgets/controls",
      "model_module_version": "1.2.0",
      "model_name": "ButtonStyleModel",
      "state": {}
     },
     "561f9ce973c8463bb820c9f7df2167a9": {
      "model_module": "@jupyter-widgets/controls",
      "model_module_version": "1.2.0",
      "model_name": "CheckboxModel",
      "state": {
       "description": "Flexionstyp",
       "disabled": false,
       "layout": "IPY_MODEL_92b269ec3ff74c1fa4b46857a13c116e",
       "style": "IPY_MODEL_f44ed2fcb44d4cbeb60ec7dd7bd79567",
       "value": false
      }
     },
     "56309f647adb4f558d94dcc83c0218f5": {
      "model_module": "@jupyter-widgets/controls",
      "model_module_version": "1.2.0",
      "model_name": "HTMLModel",
      "state": {
       "layout": "IPY_MODEL_a71f0e5041b145ffac7621345af73835",
       "style": "IPY_MODEL_a621d0c4e6bd413a85522e9f4ef7aece",
       "value": "<h4 style=\"font-size:14px;\">Was sind morphologische Kriterien für Wortkategorien?</h4>"
      }
     },
     "56b8cec836284138830d7eaf15718809": {
      "model_module": "@jupyter-widgets/base",
      "model_module_version": "1.0.0",
      "model_name": "LayoutModel",
      "state": {
       "width": "250px"
      }
     },
     "5757423803c140a0a25dd98e0d50f814": {
      "model_module": "@jupyter-widgets/base",
      "model_module_version": "1.0.0",
      "model_name": "LayoutModel",
      "state": {}
     },
     "57c69d76782d40b4810a25cbaa9d502e": {
      "model_module": "@jupyter-widgets/controls",
      "model_module_version": "1.2.0",
      "model_name": "DescriptionStyleModel",
      "state": {
       "description_width": ""
      }
     },
     "57c70a6889fe447bafd15767a84ca6b8": {
      "model_module": "@jupyter-widgets/controls",
      "model_module_version": "1.2.0",
      "model_name": "CheckboxModel",
      "state": {
       "description": "Permutationstest",
       "disabled": false,
       "layout": "IPY_MODEL_0647317b3536448791ae540ac4fdcc17",
       "style": "IPY_MODEL_f88bd5e1efd84ba787aed82a1d84d704",
       "value": false
      }
     },
     "57f6732ee3be42bb8ad37bc119bc64a9": {
      "model_module": "@jupyter-widgets/controls",
      "model_module_version": "1.2.0",
      "model_name": "ButtonStyleModel",
      "state": {}
     },
     "58402f1f193d4e22b576e60f130c5932": {
      "model_module": "@jupyter-widgets/controls",
      "model_module_version": "1.2.0",
      "model_name": "DropdownModel",
      "state": {
       "_options_labels": [
        "'ADJ'",
        "'DET'",
        "'NOUN'",
        " "
       ],
       "index": 3,
       "layout": "IPY_MODEL_5eacacd5728d4aa2b2a56b306afc85b9",
       "style": "IPY_MODEL_c3caa7a8839a4cedbf003fb1c1edc3ec"
      }
     },
     "58c9869448fa4f5c9054c0204976cee9": {
      "model_module": "@jupyter-widgets/controls",
      "model_module_version": "1.2.0",
      "model_name": "HBoxModel",
      "state": {
       "children": [
        "IPY_MODEL_f0596e29ee364d1ab79d4ecaac04fd03",
        "IPY_MODEL_3ba4f0da71a64e10a9159b4b4725249b"
       ],
       "layout": "IPY_MODEL_f131a7fbac744717842a04331dd2ea35"
      }
     },
     "59286f9a7c6b4e8ca3217579b5bac644": {
      "model_module": "@jupyter-widgets/controls",
      "model_module_version": "1.2.0",
      "model_name": "HBoxModel",
      "state": {
       "children": [
        "IPY_MODEL_3bf32b8a77634bb7a4ca5dd41572a5f3",
        "IPY_MODEL_4cd14356dc9c46efb2365f5af56a374b"
       ],
       "layout": "IPY_MODEL_86c69ccbdd3846f7a32a8af1134e0993"
      }
     },
     "5987faf8ab32465295f233bab97085b4": {
      "model_module": "@jupyter-widgets/controls",
      "model_module_version": "1.2.0",
      "model_name": "ButtonStyleModel",
      "state": {}
     },
     "59ea4c4d4b1042288573d8deb80104d1": {
      "model_module": "@jupyter-widgets/controls",
      "model_module_version": "1.2.0",
      "model_name": "DescriptionStyleModel",
      "state": {
       "description_width": "initial"
      }
     },
     "5ab786a0f5a34d62b749278d98f79243": {
      "model_module": "@jupyter-widgets/base",
      "model_module_version": "1.0.0",
      "model_name": "LayoutModel",
      "state": {
       "width": "250px"
      }
     },
     "5b1ab111a58f45b394a384e7c50eebef": {
      "model_module": "@jupyter-widgets/controls",
      "model_module_version": "1.2.0",
      "model_name": "DescriptionStyleModel",
      "state": {
       "description_width": ""
      }
     },
     "5b32572b10454201ac2a2f2657796718": {
      "model_module": "@jupyter-widgets/controls",
      "model_module_version": "1.2.0",
      "model_name": "DescriptionStyleModel",
      "state": {
       "description_width": ""
      }
     },
     "5b718c345d43438d854f89d364d87db0": {
      "model_module": "@jupyter-widgets/controls",
      "model_module_version": "1.2.0",
      "model_name": "HBoxModel",
      "state": {
       "children": [
        "IPY_MODEL_d07275317772447b9235cefea7166964"
       ],
       "layout": "IPY_MODEL_d57cab2ae75d4a7c917beee127074128"
      }
     },
     "5c0cac023ed049a9b119b293b9312a4b": {
      "model_module": "@jupyter-widgets/controls",
      "model_module_version": "1.2.0",
      "model_name": "DescriptionStyleModel",
      "state": {
       "description_width": ""
      }
     },
     "5c14a3982b414b26ae95dd418f4fb4d3": {
      "model_module": "@jupyter-widgets/controls",
      "model_module_version": "1.2.0",
      "model_name": "ButtonStyleModel",
      "state": {}
     },
     "5ca958991ee24537902a04cca277049b": {
      "model_module": "@jupyter-widgets/base",
      "model_module_version": "1.0.0",
      "model_name": "LayoutModel",
      "state": {
       "justify_content": "center"
      }
     },
     "5d14ee903330442987ec1c123d503c82": {
      "model_module": "@jupyter-widgets/controls",
      "model_module_version": "1.2.0",
      "model_name": "ButtonModel",
      "state": {
       "description": "Korrekt?",
       "layout": "IPY_MODEL_290a2a5c14d54a58b13abfa61414cbfd",
       "style": "IPY_MODEL_4b0fad7ce9fa4f6683de5c870d302ba6"
      }
     },
     "5d52f5a620524583b5dc72d830f687f0": {
      "model_module": "@jupyter-widgets/controls",
      "model_module_version": "1.2.0",
      "model_name": "HTMLModel",
      "state": {
       "layout": "IPY_MODEL_b4e41ba127004f5bb29ff07fb2ded6f7",
       "style": "IPY_MODEL_2624f768552d4ab494c1ad576a0d439e",
       "value": "<i>Vervollständigen Sie den Lückentext: </i>"
      }
     },
     "5e1bea57420749fba09e511a891a6d28": {
      "model_module": "@jupyter-widgets/controls",
      "model_module_version": "1.2.0",
      "model_name": "ButtonStyleModel",
      "state": {}
     },
     "5eacacd5728d4aa2b2a56b306afc85b9": {
      "model_module": "@jupyter-widgets/base",
      "model_module_version": "1.0.0",
      "model_name": "LayoutModel",
      "state": {
       "width": "150px"
      }
     },
     "5f205ea7827d4806afc0bd7873a2e49d": {
      "model_module": "@jupyter-widgets/base",
      "model_module_version": "1.0.0",
      "model_name": "LayoutModel",
      "state": {
       "width": "250px"
      }
     },
     "5f7b86774a9e490b9378e7a1c035b184": {
      "model_module": "@jupyter-widgets/controls",
      "model_module_version": "1.2.0",
      "model_name": "HTMLModel",
      "state": {
       "layout": "IPY_MODEL_6ddd066b177a478a9a0a1abf7eb9c6b1",
       "style": "IPY_MODEL_a0153ec4a08244e3b7f2bdd12dd2695e",
       "value": "<i>Markieren Sie <ins>alle</ins> passenden Antworten: </i>"
      }
     },
     "60aead5d6bd644708945efc8ab906be8": {
      "model_module": "@jupyter-widgets/base",
      "model_module_version": "1.0.0",
      "model_name": "LayoutModel",
      "state": {
       "width": "250px"
      }
     },
     "60da577950cc44f5bdbe5c2e602f1dff": {
      "model_module": "@jupyter-widgets/controls",
      "model_module_version": "1.2.0",
      "model_name": "DescriptionStyleModel",
      "state": {
       "description_width": ""
      }
     },
     "61173ff9dacb4157974394b7bf1a1e4c": {
      "model_module": "@jupyter-widgets/controls",
      "model_module_version": "1.2.0",
      "model_name": "VBoxModel",
      "state": {
       "children": [
        "IPY_MODEL_65bd2b27ab3545a48046212736b6a25b",
        "IPY_MODEL_d1d4cc279c69407d97b3b653cec34afc",
        "IPY_MODEL_069eafa7622f4904985c4516dbae98f7",
        "IPY_MODEL_59286f9a7c6b4e8ca3217579b5bac644",
        "IPY_MODEL_38e40af0ff144cc483d5bf8014c20e68"
       ],
       "layout": "IPY_MODEL_1662ef1ffb9742f88626945ebdd3dae5"
      }
     },
     "614f6933850a45c8ab8d79229352a8b3": {
      "model_module": "@jupyter-widgets/controls",
      "model_module_version": "1.2.0",
      "model_name": "HTMLModel",
      "state": {
       "layout": "IPY_MODEL_f36ff34b1e1b4a339b7cd0ebd827ed1d",
       "style": "IPY_MODEL_24782c9e5ad84ae8ba2b2f6d7b659767",
       "value": "<h4 style=\"font-size:14px;\">im Englischen.</h4>"
      }
     },
     "6177259c915842c99cb8ada7ec558608": {
      "model_module": "@jupyter-widgets/base",
      "model_module_version": "1.0.0",
      "model_name": "LayoutModel",
      "state": {
       "justify_content": "center"
      }
     },
     "62408add54c84d8ba663b896301551d7": {
      "model_module": "@jupyter-widgets/controls",
      "model_module_version": "1.2.0",
      "model_name": "ButtonStyleModel",
      "state": {}
     },
     "62cc7943fd2a4576a4debd564e0f12c8": {
      "model_module": "@jupyter-widgets/controls",
      "model_module_version": "1.2.0",
      "model_name": "CheckboxModel",
      "state": {
       "description": "Es fungiert als Satzglied mit der syntaktischen Funktion Adverbial.",
       "disabled": false,
       "layout": "IPY_MODEL_e998e366a8804f95982fc1bf8ff80b43",
       "style": "IPY_MODEL_89573bd3870048e4b5c4873615a19acf",
       "value": false
      }
     },
     "631af9189d6445a6b43fc98595e282e6": {
      "model_module": "@jupyter-widgets/controls",
      "model_module_version": "1.2.0",
      "model_name": "HTMLModel",
      "state": {
       "layout": "IPY_MODEL_edb8034db1d443b2b2a060dbb28644b1",
       "style": "IPY_MODEL_60da577950cc44f5bdbe5c2e602f1dff",
       "value": "<h4 style=\"font-size:14px;\">, aber keine</h4>"
      }
     },
     "6346387dce7b42e4a973075fae82af61": {
      "model_module": "@jupyter-widgets/controls",
      "model_module_version": "1.2.0",
      "model_name": "DescriptionStyleModel",
      "state": {
       "description_width": "initial"
      }
     },
     "6430c7cc0d9f4b03bbf2ed38cfb1695f": {
      "model_module": "@jupyter-widgets/base",
      "model_module_version": "1.0.0",
      "model_name": "LayoutModel",
      "state": {
       "justify_content": "center"
      }
     },
     "6480eb33ad614ce8979872d6a09f7d98": {
      "model_module": "@jupyter-widgets/base",
      "model_module_version": "1.0.0",
      "model_name": "LayoutModel",
      "state": {}
     },
     "64eaeb7144794df1a162f6f54628eb78": {
      "model_module": "@jupyter-widgets/base",
      "model_module_version": "1.0.0",
      "model_name": "LayoutModel",
      "state": {}
     },
     "65090e776f8043e8b3869a0f41e8e1a1": {
      "model_module": "@jupyter-widgets/controls",
      "model_module_version": "1.2.0",
      "model_name": "CheckboxModel",
      "state": {
       "description": "gleicher Kontext",
       "disabled": false,
       "layout": "IPY_MODEL_d91627f300e94ed58afb2331042f6ee3",
       "style": "IPY_MODEL_d29d760f3042440db6910ccbda587362",
       "value": false
      }
     },
     "65179165a53e4ddab30e70fe5b4b2ebe": {
      "model_module": "@jupyter-widgets/base",
      "model_module_version": "1.0.0",
      "model_name": "LayoutModel",
      "state": {
       "width": "150px"
      }
     },
     "65a4e9831f3e4fbdac06dc80170ef973": {
      "model_module": "@jupyter-widgets/controls",
      "model_module_version": "1.2.0",
      "model_name": "DescriptionStyleModel",
      "state": {
       "description_width": ""
      }
     },
     "65bd2b27ab3545a48046212736b6a25b": {
      "model_module": "@jupyter-widgets/controls",
      "model_module_version": "1.2.0",
      "model_name": "HTMLModel",
      "state": {
       "layout": "IPY_MODEL_d7916f2316bf49c6ba37c9b61de6770f",
       "style": "IPY_MODEL_65a4e9831f3e4fbdac06dc80170ef973",
       "value": "<h4 style=\"font-size:14px;\">Was bedeutet das Tag <i>VB</i> im Browntagset (siehe 5.7)?</h4>"
      }
     },
     "65f7981e7eee4df9be81b722334b6743": {
      "model_module": "@jupyter-widgets/base",
      "model_module_version": "1.0.0",
      "model_name": "LayoutModel",
      "state": {
       "width": "600px"
      }
     },
     "66831d7bddb84c59a82feb3bfbff819c": {
      "model_module": "@jupyter-widgets/controls",
      "model_module_version": "1.2.0",
      "model_name": "ButtonModel",
      "state": {
       "description": "Adverb",
       "layout": "IPY_MODEL_44976ef0ac6a4800babaa01bee7e327a",
       "style": "IPY_MODEL_f4bbb64d9965425fa24c6264ff749b0b"
      }
     },
     "66bfe553a2854b419849223b53fc4593": {
      "model_module": "@jupyter-widgets/base",
      "model_module_version": "1.0.0",
      "model_name": "LayoutModel",
      "state": {}
     },
     "66eebabb02b94b3ebdedbf4e50c353e9": {
      "model_module": "@jupyter-widgets/controls",
      "model_module_version": "1.2.0",
      "model_name": "ButtonModel",
      "state": {
       "description": "Lösung zeigen",
       "layout": "IPY_MODEL_f07fe1d7eca14112830fca813d643b3c",
       "style": "IPY_MODEL_bfd9d956fa34446eb171acf91d157002"
      }
     },
     "677f41e4973a478fbc148dad0d7fd95f": {
      "model_module": "@jupyter-widgets/controls",
      "model_module_version": "1.2.0",
      "model_name": "HTMLModel",
      "state": {
       "layout": "IPY_MODEL_e29788577aaf425a8bbcb04cf696252e",
       "style": "IPY_MODEL_35c0b92d62984346816a6528e789aa30",
       "value": "<h4 style=\"font-size:14px;\">Wie wirt der POS-Tagger im NLTK aufgerufen?</h4>"
      }
     },
     "67b97671b51b46bfb103ce4e401c5e23": {
      "model_module": "@jupyter-widgets/controls",
      "model_module_version": "1.2.0",
      "model_name": "HTMLModel",
      "state": {
       "layout": "IPY_MODEL_90fe0dede92445c6be6f2e568eb91e31",
       "style": "IPY_MODEL_57c69d76782d40b4810a25cbaa9d502e",
       "value": "<h4 style=\"font-size:14px;\">trägt. Das Ergebnis sind die häufigsten zweistelligen syntaktischen Muster des Englischen mit NOUN als rechtem Kontext, nämlich NOUN+NOUN, DET+NOUN und ADJ+NOUN; diese Ergebnisse geben Hinweis auf die NP-</h4>"
      }
     },
     "67f0618185614065bf4b272d4d5d083e": {
      "model_module": "@jupyter-widgets/controls",
      "model_module_version": "1.2.0",
      "model_name": "ButtonModel",
      "state": {
       "description": "Adverb",
       "layout": "IPY_MODEL_8a2d174ef5b249cf911cdfbf32e1b14c",
       "style": "IPY_MODEL_ae29cca0253145228f31475b536b5122"
      }
     },
     "68632d671b494bceb9940acb56b626dc": {
      "model_module": "@jupyter-widgets/controls",
      "model_module_version": "1.2.0",
      "model_name": "DropdownModel",
      "state": {
       "_options_labels": [
        "kürzeren",
        "längeren",
        " "
       ],
       "index": 2,
       "layout": "IPY_MODEL_398c903848b54ba8a1a5d8fa7dd5a523",
       "style": "IPY_MODEL_8f89a240ec314bd6adb6d257acbc8fb0"
      }
     },
     "68dbb3cd628b4cb0b22da3e0ca5718f7": {
      "model_module": "@jupyter-widgets/controls",
      "model_module_version": "1.2.0",
      "model_name": "HTMLModel",
      "state": {
       "layout": "IPY_MODEL_ad42514636d84b6cb88ab8d5244cad2f",
       "style": "IPY_MODEL_b9e50293babb4f8bbd0d06145beacc30",
       "value": "<h4 style=\"font-size:14px;\">In der ersten Zeile des Codes werden</h4>"
      }
     },
     "6a3a1f5cd3ff4587bd705e866727a12d": {
      "model_module": "@jupyter-widgets/controls",
      "model_module_version": "1.2.0",
      "model_name": "DescriptionStyleModel",
      "state": {
       "description_width": "initial"
      }
     },
     "6a3e0af62ba84631ad20b0982ea06167": {
      "model_module": "@jupyter-widgets/controls",
      "model_module_version": "1.2.0",
      "model_name": "ButtonModel",
      "state": {
       "description": "3rd singular present",
       "layout": "IPY_MODEL_233df370d76e4bb6abcc2aa9abeba85a",
       "style": "IPY_MODEL_ae1a7d071bb34fd98a76c9e75aaeffff"
      }
     },
     "6adcefaae0294a3694ac4a9b5a25e684": {
      "model_module": "@jupyter-widgets/base",
      "model_module_version": "1.0.0",
      "model_name": "LayoutModel",
      "state": {}
     },
     "6b4bfd338c474105b73643f1f6909a56": {
      "model_module": "@jupyter-widgets/base",
      "model_module_version": "1.0.0",
      "model_name": "LayoutModel",
      "state": {}
     },
     "6c2b37c6222c4d90ac29eb3028ce56c0": {
      "model_module": "@jupyter-widgets/base",
      "model_module_version": "1.0.0",
      "model_name": "LayoutModel",
      "state": {}
     },
     "6da1dfd85c214a39869c009d2b9c93fe": {
      "model_module": "@jupyter-widgets/base",
      "model_module_version": "1.0.0",
      "model_name": "LayoutModel",
      "state": {
       "width": "600px"
      }
     },
     "6dc95da159834a4bb9149fcbd0465a07": {
      "model_module": "@jupyter-widgets/controls",
      "model_module_version": "1.2.0",
      "model_name": "DescriptionStyleModel",
      "state": {
       "description_width": "initial"
      }
     },
     "6ddd066b177a478a9a0a1abf7eb9c6b1": {
      "model_module": "@jupyter-widgets/base",
      "model_module_version": "1.0.0",
      "model_name": "LayoutModel",
      "state": {
       "justify_content": "center"
      }
     },
     "6e303cacd03348928abf879574ae8577": {
      "model_module": "@jupyter-widgets/base",
      "model_module_version": "1.0.0",
      "model_name": "LayoutModel",
      "state": {}
     },
     "6ea12a0d29c94325b00e1cd0bcdf2867": {
      "model_module": "@jupyter-widgets/base",
      "model_module_version": "1.0.0",
      "model_name": "LayoutModel",
      "state": {
       "width": "150px"
      }
     },
     "6ec2639ad2ba413ca17ae375b44b8d44": {
      "model_module": "@jupyter-widgets/controls",
      "model_module_version": "1.2.0",
      "model_name": "DescriptionStyleModel",
      "state": {
       "description_width": ""
      }
     },
     "6ed580f68ab6488686208cca96316e0a": {
      "model_module": "@jupyter-widgets/controls",
      "model_module_version": "1.2.0",
      "model_name": "DescriptionStyleModel",
      "state": {
       "description_width": ""
      }
     },
     "6f214c0598ca4c6984bcc2ddb275e240": {
      "model_module": "@jupyter-widgets/controls",
      "model_module_version": "1.2.0",
      "model_name": "VBoxModel",
      "state": {
       "children": [
        "IPY_MODEL_201beefd563c41e9a90c27a8940770c7",
        "IPY_MODEL_3ab16abddf194e6c9eea5bab18e1ea1b",
        "IPY_MODEL_dbd99e94c8094b5885ce009f2cbde433",
        "IPY_MODEL_7afa78420a9b4b19b7745ef059cd94fa"
       ],
       "layout": "IPY_MODEL_c02542edd3ca4000b98218032ad73855"
      }
     },
     "6f6a4946211048ec83efb812dfde0f05": {
      "model_module": "@jupyter-widgets/controls",
      "model_module_version": "1.2.0",
      "model_name": "HBoxModel",
      "state": {
       "children": [
        "IPY_MODEL_8450906d39e34679a4007ea708b5e87d",
        "IPY_MODEL_54f22a977cf2478484067fd2e524367e"
       ],
       "layout": "IPY_MODEL_78a61df8e2a043da8538c103bdcd43aa"
      }
     },
     "6f6a50b552704f0ea6d16b5cbd0c5662": {
      "model_module": "@jupyter-widgets/controls",
      "model_module_version": "1.2.0",
      "model_name": "ButtonModel",
      "state": {
       "description": "base",
       "layout": "IPY_MODEL_56b8cec836284138830d7eaf15718809",
       "style": "IPY_MODEL_f1e57d7987bc4487bdd579e754a75547"
      }
     },
     "6f9e1b68e6f4417db977a61daa852a37": {
      "model_module": "@jupyter-widgets/base",
      "model_module_version": "1.0.0",
      "model_name": "LayoutModel",
      "state": {}
     },
     "6fbf77496c0f4f2f89e7706987c54e1f": {
      "model_module": "@jupyter-widgets/base",
      "model_module_version": "1.0.0",
      "model_name": "LayoutModel",
      "state": {
       "width": "250px"
      }
     },
     "709559abfe9b404dbeb961a695b4bfaf": {
      "model_module": "@jupyter-widgets/controls",
      "model_module_version": "1.2.0",
      "model_name": "DescriptionStyleModel",
      "state": {
       "description_width": ""
      }
     },
     "70d4e2456f9a479cac08f887ffe00b99": {
      "model_module": "@jupyter-widgets/base",
      "model_module_version": "1.0.0",
      "model_name": "LayoutModel",
      "state": {
       "width": "600px"
      }
     },
     "721adf84eea74b10bb78d5bb2cbaab10": {
      "model_module": "@jupyter-widgets/controls",
      "model_module_version": "1.2.0",
      "model_name": "HBoxModel",
      "state": {
       "children": [
        "IPY_MODEL_539a023290814d7db8f0cd3f7e1828f8",
        "IPY_MODEL_2a425998ee1347f090b6bc1b616c45e7"
       ],
       "layout": "IPY_MODEL_fcc108ccf1084dbf8b1b60efbb508e18"
      }
     },
     "72c190beeb74429f99cee353ddefa8b9": {
      "model_module": "@jupyter-widgets/controls",
      "model_module_version": "1.2.0",
      "model_name": "ButtonModel",
      "state": {
       "description": "past participle",
       "layout": "IPY_MODEL_bf5e3760885f43c88d12fea223167895",
       "style": "IPY_MODEL_2d3239825ef744379755b3fb0db48efc"
      }
     },
     "736fa1a69b624a2998d818e39b6c5206": {
      "model_module": "@jupyter-widgets/base",
      "model_module_version": "1.0.0",
      "model_name": "LayoutModel",
      "state": {}
     },
     "73ac5854d8744ed98119af037b0627c4": {
      "model_module": "@jupyter-widgets/controls",
      "model_module_version": "1.2.0",
      "model_name": "HTMLModel",
      "state": {
       "layout": "IPY_MODEL_5ca958991ee24537902a04cca277049b",
       "style": "IPY_MODEL_5b1ab111a58f45b394a384e7c50eebef",
       "value": "<i>Vervollständigen Sie den Lückentext: </i>"
      }
     },
     "74c6936ab6234be08fe8fb86f528a067": {
      "model_module": "@jupyter-widgets/controls",
      "model_module_version": "1.2.0",
      "model_name": "DescriptionStyleModel",
      "state": {
       "description_width": ""
      }
     },
     "7572019992144dd2a9a11b1201c15760": {
      "model_module": "@jupyter-widgets/controls",
      "model_module_version": "1.2.0",
      "model_name": "ButtonStyleModel",
      "state": {}
     },
     "76195d3c27d34d81ad434a565b7f28c5": {
      "model_module": "@jupyter-widgets/controls",
      "model_module_version": "1.2.0",
      "model_name": "DescriptionStyleModel",
      "state": {
       "description_width": ""
      }
     },
     "77c6583ca75745bd9b0bb73248c36550": {
      "model_module": "@jupyter-widgets/controls",
      "model_module_version": "1.2.0",
      "model_name": "VBoxModel",
      "state": {
       "children": [
        "IPY_MODEL_1fb89c562943408895453b10f4c09c4b",
        "IPY_MODEL_3ad8fd3d183e471e8ebea93412de4c52",
        "IPY_MODEL_0d178be3cbb844e1adb92f1ff5e2469f"
       ],
       "layout": "IPY_MODEL_6b4bfd338c474105b73643f1f6909a56"
      }
     },
     "78a61df8e2a043da8538c103bdcd43aa": {
      "model_module": "@jupyter-widgets/base",
      "model_module_version": "1.0.0",
      "model_name": "LayoutModel",
      "state": {}
     },
     "78c3d276f910441dac1c1680ac0523c8": {
      "model_module": "@jupyter-widgets/base",
      "model_module_version": "1.0.0",
      "model_name": "LayoutModel",
      "state": {}
     },
     "78fd9e3cc57f441bac3a22ad60d32005": {
      "model_module": "@jupyter-widgets/base",
      "model_module_version": "1.0.0",
      "model_name": "LayoutModel",
      "state": {}
     },
     "79b39c40811d440bb7aa26a8bf78422a": {
      "model_module": "@jupyter-widgets/base",
      "model_module_version": "1.0.0",
      "model_name": "LayoutModel",
      "state": {
       "width": "250px"
      }
     },
     "7a1a6d76e304447e992f6f1f6975ebdd": {
      "model_module": "@jupyter-widgets/controls",
      "model_module_version": "1.2.0",
      "model_name": "HBoxModel",
      "state": {
       "children": [
        "IPY_MODEL_d8a4c362b7204a90a825040e0e3ee6d7",
        "IPY_MODEL_d97cd2965707442899e9250eeaaefd17"
       ],
       "layout": "IPY_MODEL_78c3d276f910441dac1c1680ac0523c8"
      }
     },
     "7afa78420a9b4b19b7745ef059cd94fa": {
      "model_module": "@jupyter-widgets/controls",
      "model_module_version": "1.2.0",
      "model_name": "CheckboxModel",
      "state": {
       "description": "Nur mit einem Schritt beginnt auch eine Reise von tausend Meilen.",
       "disabled": false,
       "layout": "IPY_MODEL_debe50979dc045309160b086d7563729",
       "style": "IPY_MODEL_24b1a8fa60d543c881b14f4749067daa",
       "value": false
      }
     },
     "7b0afcc6f3a048e8b9da3b4e36df1de4": {
      "model_module": "@jupyter-widgets/controls",
      "model_module_version": "1.2.0",
      "model_name": "DescriptionStyleModel",
      "state": {
       "description_width": ""
      }
     },
     "7c32b4f0371542a9851b3422cdc02159": {
      "model_module": "@jupyter-widgets/base",
      "model_module_version": "1.0.0",
      "model_name": "LayoutModel",
      "state": {
       "justify_content": "center"
      }
     },
     "7cfbd9890b82478ea0cde58684ae1b10": {
      "model_module": "@jupyter-widgets/controls",
      "model_module_version": "1.2.0",
      "model_name": "ButtonStyleModel",
      "state": {}
     },
     "7df9db9c3bb742a3be5537a8a2283a0c": {
      "model_module": "@jupyter-widgets/base",
      "model_module_version": "1.0.0",
      "model_name": "LayoutModel",
      "state": {}
     },
     "7e296cef41cd4001b43d88fe2bf65fd9": {
      "model_module": "@jupyter-widgets/base",
      "model_module_version": "1.0.0",
      "model_name": "LayoutModel",
      "state": {
       "justify_content": "center"
      }
     },
     "7eb2ee56921a46db81c9a6b98944063f": {
      "model_module": "@jupyter-widgets/controls",
      "model_module_version": "1.2.0",
      "model_name": "HBoxModel",
      "state": {
       "children": [
        "IPY_MODEL_f59925a5309a41bb8eeac2027bfd1644",
        "IPY_MODEL_66831d7bddb84c59a82feb3bfbff819c"
       ],
       "layout": "IPY_MODEL_736fa1a69b624a2998d818e39b6c5206"
      }
     },
     "8128de0c474b441697ce26fa0de2b82a": {
      "model_module": "@jupyter-widgets/base",
      "model_module_version": "1.0.0",
      "model_name": "LayoutModel",
      "state": {
       "justify_content": "center"
      }
     },
     "819eb10843b74fed96eeaa9105cf6b14": {
      "model_module": "@jupyter-widgets/base",
      "model_module_version": "1.0.0",
      "model_name": "LayoutModel",
      "state": {
       "width": "250px"
      }
     },
     "821397599b5e4d0592be094b3f78117a": {
      "model_module": "@jupyter-widgets/base",
      "model_module_version": "1.0.0",
      "model_name": "LayoutModel",
      "state": {}
     },
     "8321b3e1546c48eaa113c3ffcdd7f972": {
      "model_module": "@jupyter-widgets/controls",
      "model_module_version": "1.2.0",
      "model_name": "DescriptionStyleModel",
      "state": {
       "description_width": "initial"
      }
     },
     "842f379519bd45d1a44b13b64214011a": {
      "model_module": "@jupyter-widgets/base",
      "model_module_version": "1.0.0",
      "model_name": "LayoutModel",
      "state": {}
     },
     "8450906d39e34679a4007ea708b5e87d": {
      "model_module": "@jupyter-widgets/controls",
      "model_module_version": "1.2.0",
      "model_name": "ButtonModel",
      "state": {
       "description": "gerund",
       "layout": "IPY_MODEL_6fbf77496c0f4f2f89e7706987c54e1f",
       "style": "IPY_MODEL_1b1c11299bef4d99805f5a1cc298233d"
      }
     },
     "85740f02e07f45fc83cfa7049a0218c6": {
      "model_module": "@jupyter-widgets/controls",
      "model_module_version": "1.2.0",
      "model_name": "ButtonModel",
      "state": {
       "description": "3rd singular present",
       "layout": "IPY_MODEL_9bbb488dc8e64c5ca87705554265556d",
       "style": "IPY_MODEL_b7978862abad421b9e8fdf070f878d55"
      }
     },
     "85d70b512380460bb5e089f0edebff03": {
      "model_module": "@jupyter-widgets/base",
      "model_module_version": "1.0.0",
      "model_name": "LayoutModel",
      "state": {
       "width": "250px"
      }
     },
     "85e245e3a63b486a9473e267b851ae0b": {
      "model_module": "@jupyter-widgets/base",
      "model_module_version": "1.0.0",
      "model_name": "LayoutModel",
      "state": {
       "align_content": "stretch",
       "align_items": "stretch",
       "display": "inline-flex",
       "flex": "flex-grow",
       "flex_flow": "row wrap",
       "justify_content": "flex-start"
      }
     },
     "86710adbe43a45e7bc1aa44dcbad3f74": {
      "model_module": "@jupyter-widgets/controls",
      "model_module_version": "1.2.0",
      "model_name": "DescriptionStyleModel",
      "state": {
       "description_width": ""
      }
     },
     "86c69ccbdd3846f7a32a8af1134e0993": {
      "model_module": "@jupyter-widgets/base",
      "model_module_version": "1.0.0",
      "model_name": "LayoutModel",
      "state": {}
     },
     "871ecbfa8f954d49809462ef7cc48dca": {
      "model_module": "@jupyter-widgets/base",
      "model_module_version": "1.0.0",
      "model_name": "LayoutModel",
      "state": {
       "width": "250px"
      }
     },
     "879b2881fe064fbfa22d4246acf9a1fc": {
      "model_module": "@jupyter-widgets/controls",
      "model_module_version": "1.2.0",
      "model_name": "VBoxModel",
      "state": {
       "children": [
        "IPY_MODEL_8effc39a3c86498da4ac479a6778aedf",
        "IPY_MODEL_94f38f5e10c44b5383acdadbf8439a49",
        "IPY_MODEL_90cb10ce1f3a4462a3e2ca3c52775698"
       ],
       "layout": "IPY_MODEL_842f379519bd45d1a44b13b64214011a"
      }
     },
     "87baf589b49c49a9b69155b25a8047f0": {
      "model_module": "@jupyter-widgets/base",
      "model_module_version": "1.0.0",
      "model_name": "LayoutModel",
      "state": {
       "justify_content": "center"
      }
     },
     "87c122ed71064e8a97616bd2e1e80b0a": {
      "model_module": "@jupyter-widgets/controls",
      "model_module_version": "1.2.0",
      "model_name": "DescriptionStyleModel",
      "state": {
       "description_width": ""
      }
     },
     "87d57202027a4893a1de89cfd529c73a": {
      "model_module": "@jupyter-widgets/base",
      "model_module_version": "1.0.0",
      "model_name": "LayoutModel",
      "state": {
       "width": "600px"
      }
     },
     "87ef6b4ed8cb4a7dbba5d955f61f221f": {
      "model_module": "@jupyter-widgets/controls",
      "model_module_version": "1.2.0",
      "model_name": "ButtonStyleModel",
      "state": {}
     },
     "87fd97b402e04881982459054f2cff7e": {
      "model_module": "@jupyter-widgets/controls",
      "model_module_version": "1.2.0",
      "model_name": "VBoxModel",
      "state": {
       "children": [
        "IPY_MODEL_a297464fadc940b69041c231c0d778aa",
        "IPY_MODEL_96c20291016f44cabcf93acc544cf8a0",
        "IPY_MODEL_879b2881fe064fbfa22d4246acf9a1fc",
        "IPY_MODEL_d074d851f133422b8e8cc09b6564f23b"
       ],
       "layout": "IPY_MODEL_78fd9e3cc57f441bac3a22ad60d32005"
      }
     },
     "8899c6286b1149fba69685b05c849ff8": {
      "model_module": "@jupyter-widgets/controls",
      "model_module_version": "1.2.0",
      "model_name": "VBoxModel",
      "state": {
       "children": [
        "IPY_MODEL_73ac5854d8744ed98119af037b0627c4",
        "IPY_MODEL_393ec98ae7a449c089e4663cec905d03",
        "IPY_MODEL_5d14ee903330442987ec1c123d503c82"
       ],
       "layout": "IPY_MODEL_e12fc0d00f6f43daab4c95b383071578"
      }
     },
     "88adfdba4f364692a5a3f7fe18ae500e": {
      "model_module": "@jupyter-widgets/controls",
      "model_module_version": "1.2.0",
      "model_name": "DescriptionStyleModel",
      "state": {
       "description_width": ""
      }
     },
     "8922618be88649988d5fdc9020bb8e57": {
      "model_module": "@jupyter-widgets/base",
      "model_module_version": "1.0.0",
      "model_name": "LayoutModel",
      "state": {
       "width": "250px"
      }
     },
     "89573bd3870048e4b5c4873615a19acf": {
      "model_module": "@jupyter-widgets/controls",
      "model_module_version": "1.2.0",
      "model_name": "DescriptionStyleModel",
      "state": {
       "description_width": "initial"
      }
     },
     "89787cab7599428489125aa931834cb0": {
      "model_module": "@jupyter-widgets/controls",
      "model_module_version": "1.2.0",
      "model_name": "ButtonModel",
      "state": {
       "description": "3rd singular present",
       "layout": "IPY_MODEL_ec998b9d4efd4189bec22cfb7ce46bae",
       "style": "IPY_MODEL_276acf880ced4fec925767959762a0a8"
      }
     },
     "89c26080a6ab4820b143a64443fde3ab": {
      "model_module": "@jupyter-widgets/controls",
      "model_module_version": "1.2.0",
      "model_name": "DropdownModel",
      "state": {
       "_options_labels": [
        "gleichartige",
        "unterschiedliche",
        " "
       ],
       "index": 2,
       "layout": "IPY_MODEL_29afabfd83bd42bfb0053cb35ff7d47d",
       "style": "IPY_MODEL_76195d3c27d34d81ad434a565b7f28c5"
      }
     },
     "8a2d174ef5b249cf911cdfbf32e1b14c": {
      "model_module": "@jupyter-widgets/base",
      "model_module_version": "1.0.0",
      "model_name": "LayoutModel",
      "state": {
       "width": "250px"
      }
     },
     "8a53a48568524e2881f2e9dd49c9fc2d": {
      "model_module": "@jupyter-widgets/base",
      "model_module_version": "1.0.0",
      "model_name": "LayoutModel",
      "state": {}
     },
     "8c78e8ac09d04573946e769a1e82b3d1": {
      "model_module": "@jupyter-widgets/base",
      "model_module_version": "1.0.0",
      "model_name": "LayoutModel",
      "state": {
       "width": "250px"
      }
     },
     "8c7b5e7c69a24546bdf22d2ff1938b5d": {
      "model_module": "@jupyter-widgets/controls",
      "model_module_version": "1.2.0",
      "model_name": "ButtonStyleModel",
      "state": {}
     },
     "8ca55ca5756043c48e9ab52a62f20c95": {
      "model_module": "@jupyter-widgets/controls",
      "model_module_version": "1.2.0",
      "model_name": "ButtonModel",
      "state": {
       "description": "simple past",
       "layout": "IPY_MODEL_eb4bd681fb4a4525bca2230041cee7de",
       "style": "IPY_MODEL_19307d1ca48640e89f805a2e48e52688"
      }
     },
     "8ceee9c9c4f94d68b635bbca53abd6c4": {
      "model_module": "@jupyter-widgets/controls",
      "model_module_version": "1.2.0",
      "model_name": "ButtonStyleModel",
      "state": {}
     },
     "8d38e1ac7cb3447ba084cb462d6bacba": {
      "model_module": "@jupyter-widgets/base",
      "model_module_version": "1.0.0",
      "model_name": "LayoutModel",
      "state": {}
     },
     "8d747fd58c0f4dd8bed64f3894076b2d": {
      "model_module": "@jupyter-widgets/base",
      "model_module_version": "1.0.0",
      "model_name": "LayoutModel",
      "state": {
       "width": "250px"
      }
     },
     "8e47e777a1ab42c2aaa9f122c43eb3f1": {
      "model_module": "@jupyter-widgets/base",
      "model_module_version": "1.0.0",
      "model_name": "LayoutModel",
      "state": {
       "width": "250px"
      }
     },
     "8effc39a3c86498da4ac479a6778aedf": {
      "model_module": "@jupyter-widgets/controls",
      "model_module_version": "1.2.0",
      "model_name": "CheckboxModel",
      "state": {
       "description": "Es bezeichnet die näheren Umstände des im Verb ausgedrückten Geschehens.",
       "disabled": false,
       "layout": "IPY_MODEL_a1cc05eceeac401f836546d93402329e",
       "style": "IPY_MODEL_35b69c667de24b3998917c20d8b55747",
       "value": false
      }
     },
     "8f606bdfbd28472ca940a3e92da0adb0": {
      "model_module": "@jupyter-widgets/controls",
      "model_module_version": "1.2.0",
      "model_name": "ButtonModel",
      "state": {
       "description": "gerund",
       "layout": "IPY_MODEL_79b39c40811d440bb7aa26a8bf78422a",
       "style": "IPY_MODEL_0a43b69a589945adb11436294a907986"
      }
     },
     "8f89a240ec314bd6adb6d257acbc8fb0": {
      "model_module": "@jupyter-widgets/controls",
      "model_module_version": "1.2.0",
      "model_name": "DescriptionStyleModel",
      "state": {
       "description_width": ""
      }
     },
     "90acbf1c381d40708f295e119dd9bb09": {
      "model_module": "@jupyter-widgets/base",
      "model_module_version": "1.0.0",
      "model_name": "LayoutModel",
      "state": {
       "width": "250px"
      }
     },
     "90bff698cbfb4565b6543ca97c0f866d": {
      "model_module": "@jupyter-widgets/controls",
      "model_module_version": "1.2.0",
      "model_name": "DescriptionStyleModel",
      "state": {
       "description_width": ""
      }
     },
     "90cb10ce1f3a4462a3e2ca3c52775698": {
      "model_module": "@jupyter-widgets/controls",
      "model_module_version": "1.2.0",
      "model_name": "CheckboxModel",
      "state": {
       "description": "Es ist flektierbar.",
       "disabled": false,
       "layout": "IPY_MODEL_19e34c3ff5dd40989c869847bd3373ee",
       "style": "IPY_MODEL_6346387dce7b42e4a973075fae82af61",
       "value": false
      }
     },
     "90fe0dede92445c6be6f2e568eb91e31": {
      "model_module": "@jupyter-widgets/base",
      "model_module_version": "1.0.0",
      "model_name": "LayoutModel",
      "state": {}
     },
     "91106bd392824fa6a92bb758a954b70a": {
      "model_module": "@jupyter-widgets/controls",
      "model_module_version": "1.2.0",
      "model_name": "HTMLModel",
      "state": {
       "layout": "IPY_MODEL_66bfe553a2854b419849223b53fc4593",
       "style": "IPY_MODEL_ab9c93617349431f80f32f4fcc14568f",
       "value": "<h4 style=\"font-size:14px;\">Ersetzbarkeit einer</h4>"
      }
     },
     "91217e833ba84aad8b3f55171853ec65": {
      "model_module": "@jupyter-widgets/controls",
      "model_module_version": "1.2.0",
      "model_name": "DescriptionStyleModel",
      "state": {
       "description_width": ""
      }
     },
     "91413d467e834166a914f52a56cbc1cf": {
      "model_module": "@jupyter-widgets/base",
      "model_module_version": "1.0.0",
      "model_name": "LayoutModel",
      "state": {}
     },
     "92b269ec3ff74c1fa4b46857a13c116e": {
      "model_module": "@jupyter-widgets/base",
      "model_module_version": "1.0.0",
      "model_name": "LayoutModel",
      "state": {
       "width": "600px"
      }
     },
     "92cf92ef89b949ca997db64008be9d32": {
      "model_module": "@jupyter-widgets/controls",
      "model_module_version": "1.2.0",
      "model_name": "HTMLModel",
      "state": {
       "layout": "IPY_MODEL_bc8e94214e6d46f389ecb9938b76d9f2",
       "style": "IPY_MODEL_edbc110347fc461aba80940a87714532",
       "value": "<h4 style=\"font-size:14px;\">-Tupeln aus einem englischen Korpus erstellt. Zeile 2 und 3 dienen der Erzeugung einer Frequenzliste von POS-Tags derjenigen Bigramme, deren zweites Element das POS-Tag</h4>"
      }
     },
     "94f38f5e10c44b5383acdadbf8439a49": {
      "model_module": "@jupyter-widgets/controls",
      "model_module_version": "1.2.0",
      "model_name": "CheckboxModel",
      "state": {
       "description": "Es fungiert als Satzglied mit der syntaktischen Funktion Adverbial.",
       "disabled": false,
       "layout": "IPY_MODEL_153f931fc2684cf09ee0e1c3c8eae514",
       "style": "IPY_MODEL_027bd97ac0a1419993513f08dc27b8bd",
       "value": false
      }
     },
     "95270ef71e9d41088cfd4f0e341f8ef5": {
      "model_module": "@jupyter-widgets/base",
      "model_module_version": "1.0.0",
      "model_name": "LayoutModel",
      "state": {}
     },
     "960aaa682d6545678f8db85cc7b52fc9": {
      "model_module": "@jupyter-widgets/base",
      "model_module_version": "1.0.0",
      "model_name": "LayoutModel",
      "state": {
       "width": "150px"
      }
     },
     "9685df1a19c1445ea5a8efb737d2167c": {
      "model_module": "@jupyter-widgets/controls",
      "model_module_version": "1.2.0",
      "model_name": "ButtonStyleModel",
      "state": {}
     },
     "96c20291016f44cabcf93acc544cf8a0": {
      "model_module": "@jupyter-widgets/controls",
      "model_module_version": "1.2.0",
      "model_name": "HTMLModel",
      "state": {
       "layout": "IPY_MODEL_d060edb0e6d2439bbda00ada9ffbf62d",
       "style": "IPY_MODEL_90bff698cbfb4565b6543ca97c0f866d",
       "value": "<i>Markieren Sie <ins>alle</ins> passenden Antworten: </i>"
      }
     },
     "96ce4fa389fa45a9976d1e59230fd9a9": {
      "model_module": "@jupyter-widgets/controls",
      "model_module_version": "1.2.0",
      "model_name": "CheckboxModel",
      "state": {
       "description": "Flexionstyp",
       "disabled": false,
       "layout": "IPY_MODEL_04122469b16f41829c5aea8ca6d2931d",
       "style": "IPY_MODEL_59ea4c4d4b1042288573d8deb80104d1",
       "value": false
      }
     },
     "96e26d4afaa24d6e80a09e517e74263a": {
      "model_module": "@jupyter-widgets/controls",
      "model_module_version": "1.2.0",
      "model_name": "ButtonStyleModel",
      "state": {}
     },
     "97fd149547ea47cfb1f8a4999ff673c7": {
      "model_module": "@jupyter-widgets/controls",
      "model_module_version": "1.2.0",
      "model_name": "DescriptionStyleModel",
      "state": {
       "description_width": ""
      }
     },
     "99692ecf23dc4935b2e003adf718406f": {
      "model_module": "@jupyter-widgets/controls",
      "model_module_version": "1.2.0",
      "model_name": "HTMLModel",
      "state": {
       "layout": "IPY_MODEL_c0c532f2ada34b93b1fa0624e3dbe686",
       "style": "IPY_MODEL_e13a78b99e8249809d6e7194eaba54a9",
       "value": "<h4 style=\"font-size:14px;\">. Aus dieser wurde es extrahiert und ins</h4>"
      }
     },
     "9a0eaa0774a04b7c99c5bf77744060d8": {
      "model_module": "@jupyter-widgets/controls",
      "model_module_version": "1.2.0",
      "model_name": "HBoxModel",
      "state": {
       "children": [
        "IPY_MODEL_89787cab7599428489125aa931834cb0",
        "IPY_MODEL_bb0740ca33df40c6adfcb3cb56d365ac"
       ],
       "layout": "IPY_MODEL_0a96a0f16efa46b88f5c89b9986dd0a0"
      }
     },
     "9acaca7c4ab140c1b3608badf57123ba": {
      "model_module": "@jupyter-widgets/base",
      "model_module_version": "1.0.0",
      "model_name": "LayoutModel",
      "state": {}
     },
     "9adaf04661414dd4a33aa0452eda00ad": {
      "model_module": "@jupyter-widgets/controls",
      "model_module_version": "1.2.0",
      "model_name": "ButtonModel",
      "state": {
       "description": "base",
       "layout": "IPY_MODEL_3e259c6983bb44fba9ba1542d2e75ad7",
       "style": "IPY_MODEL_8c7b5e7c69a24546bdf22d2ff1938b5d"
      }
     },
     "9b724dcdeec840adb11319b59e4d089a": {
      "model_module": "@jupyter-widgets/controls",
      "model_module_version": "1.2.0",
      "model_name": "ButtonModel",
      "state": {
       "description": "base",
       "layout": "IPY_MODEL_4c5d5138e5944b939a9d666bbf2b52c0",
       "style": "IPY_MODEL_be031e8f6725400d960f5e692b550b78"
      }
     },
     "9bbb488dc8e64c5ca87705554265556d": {
      "model_module": "@jupyter-widgets/base",
      "model_module_version": "1.0.0",
      "model_name": "LayoutModel",
      "state": {
       "width": "250px"
      }
     },
     "9bd49a33a893421999e1208a465bb302": {
      "model_module": "@jupyter-widgets/base",
      "model_module_version": "1.0.0",
      "model_name": "LayoutModel",
      "state": {}
     },
     "9cbe4d3d8773495086bb474351a9b2b4": {
      "model_module": "@jupyter-widgets/base",
      "model_module_version": "1.0.0",
      "model_name": "LayoutModel",
      "state": {
       "width": "600px"
      }
     },
     "9d77c6b6d876423baf30e736a99f74cf": {
      "model_module": "@jupyter-widgets/controls",
      "model_module_version": "1.2.0",
      "model_name": "DescriptionStyleModel",
      "state": {
       "description_width": ""
      }
     },
     "9e3017d5301248f59431a52263f6efcd": {
      "model_module": "@jupyter-widgets/base",
      "model_module_version": "1.0.0",
      "model_name": "LayoutModel",
      "state": {
       "width": "250px"
      }
     },
     "9e3c6f1e052f42338a18c2ab2c6a56ec": {
      "model_module": "@jupyter-widgets/controls",
      "model_module_version": "1.2.0",
      "model_name": "HTMLModel",
      "state": {
       "layout": "IPY_MODEL_d5697907b13e4b2db30e550e9390a971",
       "style": "IPY_MODEL_23c78d9df96e4dca85e501dcb43eba63",
       "value": "<h4 style=\"font-size:14px;\">Welcher ist der richtig permutierte Satz?</h4>"
      }
     },
     "9e4549cf2a9142e5885731aca55148ae": {
      "model_module": "@jupyter-widgets/base",
      "model_module_version": "1.0.0",
      "model_name": "LayoutModel",
      "state": {
       "justify_content": "center"
      }
     },
     "9e6a15930cca43e7902e3ab1960e110f": {
      "model_module": "@jupyter-widgets/base",
      "model_module_version": "1.0.0",
      "model_name": "LayoutModel",
      "state": {
       "width": "150px"
      }
     },
     "9f45ca41d52c4d9a8b37d69e8bb43305": {
      "model_module": "@jupyter-widgets/controls",
      "model_module_version": "1.2.0",
      "model_name": "DropdownModel",
      "state": {
       "_options_labels": [
        "Mittelfeld",
        "Nachfeld",
        "Vorfeld",
        " "
       ],
       "index": 3,
       "layout": "IPY_MODEL_6ea12a0d29c94325b00e1cd0bcdf2867",
       "style": "IPY_MODEL_1aaf6b9447ab4fb790f49c3cd260453e"
      }
     },
     "9ff8bf2157ea4c20b676617aad0049a3": {
      "model_module": "@jupyter-widgets/controls",
      "model_module_version": "1.2.0",
      "model_name": "VBoxModel",
      "state": {
       "children": [
        "IPY_MODEL_23bb8c260ae54975999fc69b5810c75d",
        "IPY_MODEL_5f7b86774a9e490b9378e7a1c035b184",
        "IPY_MODEL_b7d42246503a49bf9e9bbb58290ae7cc",
        "IPY_MODEL_268716e0262e45848cc8b0748fb07f5f"
       ],
       "layout": "IPY_MODEL_cfb4fbc3dad645beb74e928e97a9df2b"
      }
     },
     "a001f2db1fbe48618209b0843491f668": {
      "model_module": "@jupyter-widgets/base",
      "model_module_version": "1.0.0",
      "model_name": "LayoutModel",
      "state": {}
     },
     "a0153ec4a08244e3b7f2bdd12dd2695e": {
      "model_module": "@jupyter-widgets/controls",
      "model_module_version": "1.2.0",
      "model_name": "DescriptionStyleModel",
      "state": {
       "description_width": ""
      }
     },
     "a01f520073ba4e51b5ad61f92cacad29": {
      "model_module": "@jupyter-widgets/controls",
      "model_module_version": "1.2.0",
      "model_name": "HTMLModel",
      "state": {
       "layout": "IPY_MODEL_b4b8b7f1171b4d3aa4720683485a1ce9",
       "style": "IPY_MODEL_87c122ed71064e8a97616bd2e1e80b0a",
       "value": "<h4 style=\"font-size:14px;\">Die Koordination von Phrasen ist dadurch eingeschränkt, dass nur</h4>"
      }
     },
     "a081a402741a47169321804171de990c": {
      "model_module": "@jupyter-widgets/controls",
      "model_module_version": "1.2.0",
      "model_name": "DescriptionStyleModel",
      "state": {
       "description_width": ""
      }
     },
     "a0ba3b8a14234ebdb8348f6f4edc9541": {
      "model_module": "@jupyter-widgets/controls",
      "model_module_version": "1.2.0",
      "model_name": "ButtonStyleModel",
      "state": {}
     },
     "a0dd8ddc1a1d41b3847d31f852781c51": {
      "model_module": "@jupyter-widgets/base",
      "model_module_version": "1.0.0",
      "model_name": "LayoutModel",
      "state": {}
     },
     "a1cc05eceeac401f836546d93402329e": {
      "model_module": "@jupyter-widgets/base",
      "model_module_version": "1.0.0",
      "model_name": "LayoutModel",
      "state": {
       "width": "600px"
      }
     },
     "a1cdfbf4c81643d392db96e10b463443": {
      "model_module": "@jupyter-widgets/base",
      "model_module_version": "1.0.0",
      "model_name": "LayoutModel",
      "state": {
       "width": "250px"
      }
     },
     "a20ab568e1ad4b1585147fa4cf8e7e3a": {
      "model_module": "@jupyter-widgets/controls",
      "model_module_version": "1.2.0",
      "model_name": "HBoxModel",
      "state": {
       "children": [
        "IPY_MODEL_a5b290241cd74623b9f298efbee7d605",
        "IPY_MODEL_bd7c8780342d4eedb29c6b3dc89159c3"
       ],
       "layout": "IPY_MODEL_2f0921833bcd41cf8582cd10ed8176bb"
      }
     },
     "a26c62df755c4c4b82bfbf97b837426b": {
      "model_module": "@jupyter-widgets/controls",
      "model_module_version": "1.2.0",
      "model_name": "DropdownModel",
      "state": {
       "_options_labels": [
        "Konstituente",
        "Phrase",
        " "
       ],
       "index": 2,
       "layout": "IPY_MODEL_240dc31847c349d7a2538c4c511ed257",
       "style": "IPY_MODEL_53ffc08aafa042eda571ecccd223ad22"
      }
     },
     "a297464fadc940b69041c231c0d778aa": {
      "model_module": "@jupyter-widgets/controls",
      "model_module_version": "1.2.0",
      "model_name": "HTMLModel",
      "state": {
       "layout": "IPY_MODEL_1397cd3966a44dfc9ee4b3173a720f14",
       "style": "IPY_MODEL_74c6936ab6234be08fe8fb86f528a067",
       "value": "<h4 style=\"font-size:14px;\">Welche Eigenschaften hat <i>gerne</i> in Satz 1?</h4>"
      }
     },
     "a2c782b02a124655a4cf0895585d037f": {
      "model_module": "@jupyter-widgets/controls",
      "model_module_version": "1.2.0",
      "model_name": "ButtonModel",
      "state": {
       "description": "3rd singular present",
       "layout": "IPY_MODEL_a5366b4ff4524df28264a3955f39f943",
       "style": "IPY_MODEL_96e26d4afaa24d6e80a09e517e74263a"
      }
     },
     "a306dbddd62d47a7b83ea065a9ac840b": {
      "model_module": "@jupyter-widgets/base",
      "model_module_version": "1.0.0",
      "model_name": "LayoutModel",
      "state": {}
     },
     "a38a603c8fff4afaa24b88f8c79916c5": {
      "model_module": "@jupyter-widgets/controls",
      "model_module_version": "1.2.0",
      "model_name": "DescriptionStyleModel",
      "state": {
       "description_width": "initial"
      }
     },
     "a3a7eee1577f4bbd958f91904759b415": {
      "model_module": "@jupyter-widgets/base",
      "model_module_version": "1.0.0",
      "model_name": "LayoutModel",
      "state": {
       "justify_content": "center"
      }
     },
     "a4545e31e10f446e839b84a281e44d08": {
      "model_module": "@jupyter-widgets/controls",
      "model_module_version": "1.2.0",
      "model_name": "ButtonModel",
      "state": {
       "description": "Keine der anderen Möglichkeiten",
       "layout": "IPY_MODEL_53805651a9644efc810fabccfc85b196",
       "style": "IPY_MODEL_f39c0d152b2c4d99bea3f97a023e1eb4"
      }
     },
     "a5366b4ff4524df28264a3955f39f943": {
      "model_module": "@jupyter-widgets/base",
      "model_module_version": "1.0.0",
      "model_name": "LayoutModel",
      "state": {
       "width": "250px"
      }
     },
     "a53d1fef89484268bfd7cb793d6afbe3": {
      "model_module": "@jupyter-widgets/controls",
      "model_module_version": "1.2.0",
      "model_name": "HTMLModel",
      "state": {
       "layout": "IPY_MODEL_a3a7eee1577f4bbd958f91904759b415",
       "style": "IPY_MODEL_cc6e9bc5494643a191d0090bac5d1e9f",
       "value": "<h4 style=\"font-size:14px;\">Was bedeutet das Tag <i>VBN</i> im Browntagset (siehe 5.7)?</h4>"
      }
     },
     "a58608fb00814e54b58d50bbf9ed9bf1": {
      "model_module": "@jupyter-widgets/controls",
      "model_module_version": "1.2.0",
      "model_name": "ButtonStyleModel",
      "state": {}
     },
     "a586bbd103c04aec87bd64b1de55bc16": {
      "model_module": "@jupyter-widgets/base",
      "model_module_version": "1.0.0",
      "model_name": "LayoutModel",
      "state": {
       "justify_content": "center"
      }
     },
     "a5b290241cd74623b9f298efbee7d605": {
      "model_module": "@jupyter-widgets/controls",
      "model_module_version": "1.2.0",
      "model_name": "ButtonModel",
      "state": {
       "description": "Partikel",
       "layout": "IPY_MODEL_85d70b512380460bb5e089f0edebff03",
       "style": "IPY_MODEL_ac353fbf829a400db55ace4b9d5a2e3f"
      }
     },
     "a5c7f3074f344a7fb84f15653df207e7": {
      "model_module": "@jupyter-widgets/controls",
      "model_module_version": "1.2.0",
      "model_name": "ButtonStyleModel",
      "state": {}
     },
     "a621d0c4e6bd413a85522e9f4ef7aece": {
      "model_module": "@jupyter-widgets/controls",
      "model_module_version": "1.2.0",
      "model_name": "DescriptionStyleModel",
      "state": {
       "description_width": ""
      }
     },
     "a6cf8b89536f42599425faf59ca2896d": {
      "model_module": "@jupyter-widgets/controls",
      "model_module_version": "1.2.0",
      "model_name": "ButtonStyleModel",
      "state": {}
     },
     "a71f0e5041b145ffac7621345af73835": {
      "model_module": "@jupyter-widgets/base",
      "model_module_version": "1.0.0",
      "model_name": "LayoutModel",
      "state": {}
     },
     "a7315b365cbe40859a705f1d1c2b28aa": {
      "model_module": "@jupyter-widgets/controls",
      "model_module_version": "1.2.0",
      "model_name": "VBoxModel",
      "state": {
       "children": [
        "IPY_MODEL_0524a9c283984e56af918953ea199b5a",
        "IPY_MODEL_0fafcdb090494a9ead8a8ce5d8bd4d2d",
        "IPY_MODEL_25537d3e92d941e0860ed3ecbc6eab65",
        "IPY_MODEL_eda30332615e42f7a312078fc2133c27"
       ],
       "layout": "IPY_MODEL_d480ff32ecd048e3b1c9473b1ba7d6f2"
      }
     },
     "a78995967edb4f5ea56fc6ae03073bd7": {
      "model_module": "@jupyter-widgets/base",
      "model_module_version": "1.0.0",
      "model_name": "LayoutModel",
      "state": {
       "width": "250px"
      }
     },
     "a85edb1da26f45fcb4217fdbfd74dfe2": {
      "model_module": "@jupyter-widgets/controls",
      "model_module_version": "1.2.0",
      "model_name": "ButtonStyleModel",
      "state": {}
     },
     "a98f9b51381b40f98cda989bd2a8f841": {
      "model_module": "@jupyter-widgets/controls",
      "model_module_version": "1.2.0",
      "model_name": "ButtonStyleModel",
      "state": {}
     },
     "aab0813133624f4cb7c9394deab09cd2": {
      "model_module": "@jupyter-widgets/controls",
      "model_module_version": "1.2.0",
      "model_name": "DescriptionStyleModel",
      "state": {
       "description_width": ""
      }
     },
     "ab9c93617349431f80f32f4fcc14568f": {
      "model_module": "@jupyter-widgets/controls",
      "model_module_version": "1.2.0",
      "model_name": "DescriptionStyleModel",
      "state": {
       "description_width": ""
      }
     },
     "abe59f7bc7064b9a86f6d65f37559624": {
      "model_module": "@jupyter-widgets/controls",
      "model_module_version": "1.2.0",
      "model_name": "ButtonModel",
      "state": {
       "description": "Partikel",
       "layout": "IPY_MODEL_f9c51e4ee6be4065aa71c036dfbf86e4",
       "style": "IPY_MODEL_8ceee9c9c4f94d68b635bbca53abd6c4"
      }
     },
     "ac27543300c94a318d6450f8de6f6818": {
      "model_module": "@jupyter-widgets/controls",
      "model_module_version": "1.2.0",
      "model_name": "ButtonModel",
      "state": {
       "description": "Keine der anderen Möglichkeiten",
       "layout": "IPY_MODEL_4e09c9f4c6f6444f948dd77e6b9cab65",
       "style": "IPY_MODEL_a6cf8b89536f42599425faf59ca2896d"
      }
     },
     "ac353fbf829a400db55ace4b9d5a2e3f": {
      "model_module": "@jupyter-widgets/controls",
      "model_module_version": "1.2.0",
      "model_name": "ButtonStyleModel",
      "state": {}
     },
     "ac355ab178db4f68bf9463bf20c50698": {
      "model_module": "@jupyter-widgets/controls",
      "model_module_version": "1.2.0",
      "model_name": "ButtonModel",
      "state": {
       "description": "Korrekt?",
       "layout": "IPY_MODEL_4e018ba5f2da4169a705767936841ac1",
       "style": "IPY_MODEL_eeb7b1bccd0a450c977ef115651dcfd8"
      }
     },
     "ad42514636d84b6cb88ab8d5244cad2f": {
      "model_module": "@jupyter-widgets/base",
      "model_module_version": "1.0.0",
      "model_name": "LayoutModel",
      "state": {}
     },
     "ae1a7d071bb34fd98a76c9e75aaeffff": {
      "model_module": "@jupyter-widgets/controls",
      "model_module_version": "1.2.0",
      "model_name": "ButtonStyleModel",
      "state": {}
     },
     "ae24f583c2614377af16f7ad6a76f938": {
      "model_module": "@jupyter-widgets/controls",
      "model_module_version": "1.2.0",
      "model_name": "DescriptionStyleModel",
      "state": {
       "description_width": ""
      }
     },
     "ae29cca0253145228f31475b536b5122": {
      "model_module": "@jupyter-widgets/controls",
      "model_module_version": "1.2.0",
      "model_name": "ButtonStyleModel",
      "state": {}
     },
     "ae5649a1e7b948ba9e719aa376d2bfb9": {
      "model_module": "@jupyter-widgets/controls",
      "model_module_version": "1.2.0",
      "model_name": "HTMLModel",
      "state": {
       "layout": "IPY_MODEL_c7c4367c91064e9eb70ebe7285d744dc",
       "style": "IPY_MODEL_29d3da8d36144ffd9086c401c0000a5b",
       "value": "<h4 style=\"font-size:14px;\">Was ist der Input eines Part-of-Speech-Taggers?</h4>"
      }
     },
     "af3dc3d493f34e47b872e28b2642b5f4": {
      "model_module": "@jupyter-widgets/controls",
      "model_module_version": "1.2.0",
      "model_name": "HTMLModel",
      "state": {
       "layout": "IPY_MODEL_bab5073820b1462f93e8988b2c2d1d03",
       "style": "IPY_MODEL_97fd149547ea47cfb1f8a4999ff673c7",
       "value": "<i>Wählen Sie die <ins>eine</ins> korrekte Antwort aus: </i>"
      }
     },
     "af87f171c1d7480fbb5317631d0f13cf": {
      "model_module": "@jupyter-widgets/controls",
      "model_module_version": "1.2.0",
      "model_name": "DescriptionStyleModel",
      "state": {
       "description_width": ""
      }
     },
     "afaaa893a5704a0b92d9b44ef6b85ac0": {
      "model_module": "@jupyter-widgets/base",
      "model_module_version": "1.0.0",
      "model_name": "LayoutModel",
      "state": {
       "width": "600px"
      }
     },
     "afba3415b8a24470af14c7ba15e06bae": {
      "model_module": "@jupyter-widgets/controls",
      "model_module_version": "1.2.0",
      "model_name": "HTMLModel",
      "state": {
       "layout": "IPY_MODEL_87baf589b49c49a9b69155b25a8047f0",
       "style": "IPY_MODEL_012498370be84cb0863df52b00df7c60",
       "value": "<h4 style=\"font-size:14px;\">Welche Wortart folgt damit für das Wort <i>gerne</i> in Satz 1?</h4>"
      }
     },
     "b08bd04e8680440eac277a8cff0d7b5a": {
      "model_module": "@jupyter-widgets/controls",
      "model_module_version": "1.2.0",
      "model_name": "HBoxModel",
      "state": {
       "children": [
        "IPY_MODEL_b13016cd00e240f3a93dcc4782d5d8c8",
        "IPY_MODEL_2715b573e0264dec86d9ae56a126081e"
       ],
       "layout": "IPY_MODEL_30e959b7b66549beac4c21c84d33766f"
      }
     },
     "b0a1678b58464468a41c5b6bbbd671f9": {
      "model_module": "@jupyter-widgets/base",
      "model_module_version": "1.0.0",
      "model_name": "LayoutModel",
      "state": {
       "width": "250px"
      }
     },
     "b0ed340950fe45609f315190b2385226": {
      "model_module": "@jupyter-widgets/controls",
      "model_module_version": "1.2.0",
      "model_name": "VBoxModel",
      "state": {
       "children": [
        "IPY_MODEL_510b02527c5c4affbc173a4f3704b66d",
        "IPY_MODEL_1129652d9bcd4174a5d6d6445bc65a83",
        "IPY_MODEL_ee92d62e76bd4832a9374c6167f4c5e6"
       ],
       "layout": "IPY_MODEL_8a53a48568524e2881f2e9dd49c9fc2d"
      }
     },
     "b13016cd00e240f3a93dcc4782d5d8c8": {
      "model_module": "@jupyter-widgets/controls",
      "model_module_version": "1.2.0",
      "model_name": "ButtonModel",
      "state": {
       "description": "Folge von Wortklassen",
       "layout": "IPY_MODEL_25aa458f345d4673a8c73f317737355c",
       "style": "IPY_MODEL_b7bd326e63d14a1ca12cab5073d69ea5"
      }
     },
     "b189873262ff4bc5830181d3ce7607b1": {
      "model_module": "@jupyter-widgets/controls",
      "model_module_version": "1.2.0",
      "model_name": "ButtonStyleModel",
      "state": {}
     },
     "b20561cc8dd143d981f4c0d64cae3657": {
      "model_module": "@jupyter-widgets/base",
      "model_module_version": "1.0.0",
      "model_name": "LayoutModel",
      "state": {
       "width": "250px"
      }
     },
     "b2a1ce9caaef4d1889e40d2efb6c44a4": {
      "model_module": "@jupyter-widgets/controls",
      "model_module_version": "1.2.0",
      "model_name": "HTMLModel",
      "state": {
       "layout": "IPY_MODEL_b9a35fcc69da43179c133aa07683eaa9",
       "style": "IPY_MODEL_709559abfe9b404dbeb961a695b4bfaf",
       "value": "<i>Wählen Sie die <ins>eine</ins> korrekte Antwort aus: </i>"
      }
     },
     "b2d4afaced1a4d938dfb8a3813f45213": {
      "model_module": "@jupyter-widgets/base",
      "model_module_version": "1.0.0",
      "model_name": "LayoutModel",
      "state": {}
     },
     "b3788f4020334c77b8e83f212f81330b": {
      "model_module": "@jupyter-widgets/controls",
      "model_module_version": "1.2.0",
      "model_name": "DescriptionStyleModel",
      "state": {
       "description_width": "initial"
      }
     },
     "b3fcd1ee851745ce86b977fdf6b507bf": {
      "model_module": "@jupyter-widgets/controls",
      "model_module_version": "1.2.0",
      "model_name": "DescriptionStyleModel",
      "state": {
       "description_width": ""
      }
     },
     "b431228592ee4240bdf9d5e3175fd0af": {
      "model_module": "@jupyter-widgets/base",
      "model_module_version": "1.0.0",
      "model_name": "LayoutModel",
      "state": {
       "justify_content": "center"
      }
     },
     "b454b0089fa347a99dc32066837124c8": {
      "model_module": "@jupyter-widgets/controls",
      "model_module_version": "1.2.0",
      "model_name": "VBoxModel",
      "state": {
       "children": [
        "IPY_MODEL_ae5649a1e7b948ba9e719aa376d2bfb9",
        "IPY_MODEL_0b82e2b1cd8949efa5cf22f0772ca485",
        "IPY_MODEL_b08bd04e8680440eac277a8cff0d7b5a",
        "IPY_MODEL_b872cf174671441c86c650380e7685eb"
       ],
       "layout": "IPY_MODEL_41ea83da7ef149f9b0c0f2327f562890"
      }
     },
     "b47238a9870d4b5689c7adae938fa438": {
      "model_module": "@jupyter-widgets/base",
      "model_module_version": "1.0.0",
      "model_name": "LayoutModel",
      "state": {}
     },
     "b4b8b7f1171b4d3aa4720683485a1ce9": {
      "model_module": "@jupyter-widgets/base",
      "model_module_version": "1.0.0",
      "model_name": "LayoutModel",
      "state": {}
     },
     "b4e41ba127004f5bb29ff07fb2ded6f7": {
      "model_module": "@jupyter-widgets/base",
      "model_module_version": "1.0.0",
      "model_name": "LayoutModel",
      "state": {
       "justify_content": "center"
      }
     },
     "b51eb656480d47f2bfb53ae8757456d1": {
      "model_module": "@jupyter-widgets/base",
      "model_module_version": "1.0.0",
      "model_name": "LayoutModel",
      "state": {
       "width": "250px"
      }
     },
     "b57889043a92464596d88aaf5ed2b0f4": {
      "model_module": "@jupyter-widgets/controls",
      "model_module_version": "1.2.0",
      "model_name": "HBoxModel",
      "state": {
       "children": [
        "IPY_MODEL_f3ed6ce31c0445bea7f938cadcb02d76"
       ],
       "layout": "IPY_MODEL_fd734f9e1f05400ab4f796362992de45"
      }
     },
     "b6426dd4c6a7412f952b377cea988e76": {
      "model_module": "@jupyter-widgets/base",
      "model_module_version": "1.0.0",
      "model_name": "LayoutModel",
      "state": {}
     },
     "b7978862abad421b9e8fdf070f878d55": {
      "model_module": "@jupyter-widgets/controls",
      "model_module_version": "1.2.0",
      "model_name": "ButtonStyleModel",
      "state": {}
     },
     "b7bd326e63d14a1ca12cab5073d69ea5": {
      "model_module": "@jupyter-widgets/controls",
      "model_module_version": "1.2.0",
      "model_name": "ButtonStyleModel",
      "state": {}
     },
     "b7d42246503a49bf9e9bbb58290ae7cc": {
      "model_module": "@jupyter-widgets/controls",
      "model_module_version": "1.2.0",
      "model_name": "VBoxModel",
      "state": {
       "children": [
        "IPY_MODEL_28023a8ed5bb488f81933f85e2ff24f5",
        "IPY_MODEL_38e62baf71254aeb948ed158a822c9af",
        "IPY_MODEL_57c70a6889fe447bafd15767a84ca6b8",
        "IPY_MODEL_d5492967650448ecb2e3da8a63458f30"
       ],
       "layout": "IPY_MODEL_c8046800856645ebbcb630cb33f876a0"
      }
     },
     "b87114c0e50d4213a8a3aa65ee3272b3": {
      "model_module": "@jupyter-widgets/controls",
      "model_module_version": "1.2.0",
      "model_name": "VBoxModel",
      "state": {
       "children": [
        "IPY_MODEL_228faa4aabb44b0f9b5ea00152fd65e2",
        "IPY_MODEL_62cc7943fd2a4576a4debd564e0f12c8",
        "IPY_MODEL_e98e257f4780442f9c0e0a0169639a63"
       ],
       "layout": "IPY_MODEL_a306dbddd62d47a7b83ea065a9ac840b"
      }
     },
     "b872cf174671441c86c650380e7685eb": {
      "model_module": "@jupyter-widgets/controls",
      "model_module_version": "1.2.0",
      "model_name": "HBoxModel",
      "state": {
       "children": [
        "IPY_MODEL_a4545e31e10f446e839b84a281e44d08"
       ],
       "layout": "IPY_MODEL_6adcefaae0294a3694ac4a9b5a25e684"
      }
     },
     "b958b0ce750241fcbe0d087a544b7058": {
      "model_module": "@jupyter-widgets/controls",
      "model_module_version": "1.2.0",
      "model_name": "ButtonModel",
      "state": {
       "description": "past participle",
       "layout": "IPY_MODEL_24692c62cb3847f18bd7a3d1cd12e9e4",
       "style": "IPY_MODEL_45baa596287e48fe9b984bb3d1d4e629"
      }
     },
     "b9a35fcc69da43179c133aa07683eaa9": {
      "model_module": "@jupyter-widgets/base",
      "model_module_version": "1.0.0",
      "model_name": "LayoutModel",
      "state": {
       "justify_content": "center"
      }
     },
     "b9e50293babb4f8bbd0d06145beacc30": {
      "model_module": "@jupyter-widgets/controls",
      "model_module_version": "1.2.0",
      "model_name": "DescriptionStyleModel",
      "state": {
       "description_width": ""
      }
     },
     "bab5073820b1462f93e8988b2c2d1d03": {
      "model_module": "@jupyter-widgets/base",
      "model_module_version": "1.0.0",
      "model_name": "LayoutModel",
      "state": {
       "justify_content": "center"
      }
     },
     "bb0740ca33df40c6adfcb3cb56d365ac": {
      "model_module": "@jupyter-widgets/controls",
      "model_module_version": "1.2.0",
      "model_name": "ButtonModel",
      "state": {
       "description": "base",
       "layout": "IPY_MODEL_e535d52fc2004b2e80891c755d46e6e5",
       "style": "IPY_MODEL_3489e3543a2b4bfe8ec7428842afa8fc"
      }
     },
     "bb644f708b954dc591abed7a975ad3f9": {
      "model_module": "@jupyter-widgets/base",
      "model_module_version": "1.0.0",
      "model_name": "LayoutModel",
      "state": {}
     },
     "bc8e94214e6d46f389ecb9938b76d9f2": {
      "model_module": "@jupyter-widgets/base",
      "model_module_version": "1.0.0",
      "model_name": "LayoutModel",
      "state": {}
     },
     "bd7c8780342d4eedb29c6b3dc89159c3": {
      "model_module": "@jupyter-widgets/controls",
      "model_module_version": "1.2.0",
      "model_name": "ButtonModel",
      "state": {
       "description": "Keine der anderen Möglichkeiten",
       "layout": "IPY_MODEL_8e47e777a1ab42c2aaa9f122c43eb3f1",
       "style": "IPY_MODEL_ff707b40c9974d7788603c679165f07d"
      }
     },
     "be031e8f6725400d960f5e692b550b78": {
      "model_module": "@jupyter-widgets/controls",
      "model_module_version": "1.2.0",
      "model_name": "ButtonStyleModel",
      "state": {}
     },
     "be41b2ca8fb046baa6597723b243f1c6": {
      "model_module": "@jupyter-widgets/base",
      "model_module_version": "1.0.0",
      "model_name": "LayoutModel",
      "state": {}
     },
     "bf5e3760885f43c88d12fea223167895": {
      "model_module": "@jupyter-widgets/base",
      "model_module_version": "1.0.0",
      "model_name": "LayoutModel",
      "state": {
       "width": "250px"
      }
     },
     "bfd9d956fa34446eb171acf91d157002": {
      "model_module": "@jupyter-widgets/controls",
      "model_module_version": "1.2.0",
      "model_name": "ButtonStyleModel",
      "state": {}
     },
     "bff319fb465f45d483386cacadacc972": {
      "model_module": "@jupyter-widgets/controls",
      "model_module_version": "1.2.0",
      "model_name": "DescriptionStyleModel",
      "state": {
       "description_width": "initial"
      }
     },
     "c02542edd3ca4000b98218032ad73855": {
      "model_module": "@jupyter-widgets/base",
      "model_module_version": "1.0.0",
      "model_name": "LayoutModel",
      "state": {}
     },
     "c02a93e0f9d54fd5a64ecd3214e900db": {
      "model_module": "@jupyter-widgets/controls",
      "model_module_version": "1.2.0",
      "model_name": "VBoxModel",
      "state": {
       "children": [
        "IPY_MODEL_d4fcf5899f084b86bb213ccb3ee03255",
        "IPY_MODEL_eeac249b2c3c4751adcb84ff3fcf9bb6",
        "IPY_MODEL_b87114c0e50d4213a8a3aa65ee3272b3",
        "IPY_MODEL_0504eea5ade84105990b5426b49075e3"
       ],
       "layout": "IPY_MODEL_3b0f37022656413f8183b849348d7df8"
      }
     },
     "c0bd7d739ae84a109c2252f8ea4084e2": {
      "model_module": "@jupyter-widgets/controls",
      "model_module_version": "1.2.0",
      "model_name": "DescriptionStyleModel",
      "state": {
       "description_width": ""
      }
     },
     "c0c532f2ada34b93b1fa0624e3dbe686": {
      "model_module": "@jupyter-widgets/base",
      "model_module_version": "1.0.0",
      "model_name": "LayoutModel",
      "state": {}
     },
     "c1a68855478d4f90a478d274a308b045": {
      "model_module": "@jupyter-widgets/base",
      "model_module_version": "1.0.0",
      "model_name": "LayoutModel",
      "state": {
       "justify_content": "center"
      }
     },
     "c281c7bd8bec4839a35b7af2e97d4a80": {
      "model_module": "@jupyter-widgets/controls",
      "model_module_version": "1.2.0",
      "model_name": "HTMLModel",
      "state": {
       "layout": "IPY_MODEL_de3dc19647c04f858d100c0bef286f48",
       "style": "IPY_MODEL_14c1d72ee9e647d197f4f8b5cf87419b",
       "value": "<h4 style=\"font-size:14px;\">Was sind syntaktische Kriterien für Wortkategorien?</h4>"
      }
     },
     "c297deca40ac42ea80a0f7385d818138": {
      "model_module": "@jupyter-widgets/controls",
      "model_module_version": "1.2.0",
      "model_name": "DescriptionStyleModel",
      "state": {
       "description_width": "initial"
      }
     },
     "c2be9c0edad1419b90b63ad3a3c3193f": {
      "model_module": "@jupyter-widgets/controls",
      "model_module_version": "1.2.0",
      "model_name": "ButtonStyleModel",
      "state": {}
     },
     "c3caa7a8839a4cedbf003fb1c1edc3ec": {
      "model_module": "@jupyter-widgets/controls",
      "model_module_version": "1.2.0",
      "model_name": "DescriptionStyleModel",
      "state": {
       "description_width": ""
      }
     },
     "c4abc1d557db452d9ae7e5940d8664ad": {
      "model_module": "@jupyter-widgets/controls",
      "model_module_version": "1.2.0",
      "model_name": "DescriptionStyleModel",
      "state": {
       "description_width": ""
      }
     },
     "c4e7c0cd030d450b9fa7f43225700f91": {
      "model_module": "@jupyter-widgets/controls",
      "model_module_version": "1.2.0",
      "model_name": "DropdownModel",
      "state": {
       "_options_labels": [
        "morphologischen",
        "syntaktischen",
        " "
       ],
       "index": 2,
       "layout": "IPY_MODEL_d38e0a1a9ac443fd8d91e027b2885c70",
       "style": "IPY_MODEL_4830dbd1d78640cd8b7ccaad2762f0e7"
      }
     },
     "c4f7a5feecd04bc88d10fd5df4d0fa4e": {
      "model_module": "@jupyter-widgets/base",
      "model_module_version": "1.0.0",
      "model_name": "LayoutModel",
      "state": {
       "justify_content": "center"
      }
     },
     "c61e83fc977843c98d7cf7f7f60763e0": {
      "model_module": "@jupyter-widgets/base",
      "model_module_version": "1.0.0",
      "model_name": "LayoutModel",
      "state": {
       "width": "150px"
      }
     },
     "c77a41dca3ea41e6863a67df2a3da3a7": {
      "model_module": "@jupyter-widgets/controls",
      "model_module_version": "1.2.0",
      "model_name": "DescriptionStyleModel",
      "state": {
       "description_width": "initial"
      }
     },
     "c7c4367c91064e9eb70ebe7285d744dc": {
      "model_module": "@jupyter-widgets/base",
      "model_module_version": "1.0.0",
      "model_name": "LayoutModel",
      "state": {
       "justify_content": "center"
      }
     },
     "c7e4f6a9cd70449994f48e30f5c39bec": {
      "model_module": "@jupyter-widgets/controls",
      "model_module_version": "1.2.0",
      "model_name": "HTMLModel",
      "state": {
       "layout": "IPY_MODEL_1a8be7b08140421494c8bfff7ba637ad",
       "style": "IPY_MODEL_f3b2c1f723ee4386b838d4126f3f3d20",
       "value": "<h4 style=\"font-size:14px;\"></h4>"
      }
     },
     "c7f56d6824b749b49ce900c8190a8d7a": {
      "model_module": "@jupyter-widgets/base",
      "model_module_version": "1.0.0",
      "model_name": "LayoutModel",
      "state": {
       "width": "150px"
      }
     },
     "c8046800856645ebbcb630cb33f876a0": {
      "model_module": "@jupyter-widgets/base",
      "model_module_version": "1.0.0",
      "model_name": "LayoutModel",
      "state": {}
     },
     "c8680a27a530493196cda6e1d3a161be": {
      "model_module": "@jupyter-widgets/controls",
      "model_module_version": "1.2.0",
      "model_name": "DescriptionStyleModel",
      "state": {
       "description_width": ""
      }
     },
     "c953693355784eb0b9db3d49e9d7c62f": {
      "model_module": "@jupyter-widgets/controls",
      "model_module_version": "1.2.0",
      "model_name": "DescriptionStyleModel",
      "state": {
       "description_width": ""
      }
     },
     "c95f240ee16e4a749411477d0e18607f": {
      "model_module": "@jupyter-widgets/controls",
      "model_module_version": "1.2.0",
      "model_name": "HTMLModel",
      "state": {
       "layout": "IPY_MODEL_3fb8d394b31e489588f87cd1e0be74c5",
       "style": "IPY_MODEL_220ded222f3e40c48c20dfc72661d05f",
       "value": "<i>Wählen Sie die <ins>eine</ins> korrekte Antwort aus: </i>"
      }
     },
     "cac2963480c6460ea11a01d8af39fa6c": {
      "model_module": "@jupyter-widgets/controls",
      "model_module_version": "1.2.0",
      "model_name": "DescriptionStyleModel",
      "state": {
       "description_width": ""
      }
     },
     "cc6e9bc5494643a191d0090bac5d1e9f": {
      "model_module": "@jupyter-widgets/controls",
      "model_module_version": "1.2.0",
      "model_name": "DescriptionStyleModel",
      "state": {
       "description_width": ""
      }
     },
     "cdea58d28d4d4eed9f011e008d9344db": {
      "model_module": "@jupyter-widgets/controls",
      "model_module_version": "1.2.0",
      "model_name": "DropdownModel",
      "state": {
       "_options_labels": [
        " ",
        "NP",
        "PP",
        "VP",
        " "
       ],
       "index": 0,
       "layout": "IPY_MODEL_4aba00d123c74455a8aa60f8edbc9559",
       "style": "IPY_MODEL_0f69e4c8cf704c718a87b34b1a81ebf1"
      }
     },
     "ce00cceffffa425b9004a96ff8f2c3ca": {
      "model_module": "@jupyter-widgets/base",
      "model_module_version": "1.0.0",
      "model_name": "LayoutModel",
      "state": {}
     },
     "ce4b33522a3e4140a2e16766d4cf25ca": {
      "model_module": "@jupyter-widgets/base",
      "model_module_version": "1.0.0",
      "model_name": "LayoutModel",
      "state": {}
     },
     "ce56de3a599a4188a26f73d371a6eff5": {
      "model_module": "@jupyter-widgets/controls",
      "model_module_version": "1.2.0",
      "model_name": "CheckboxModel",
      "state": {
       "description": "Zu einem Wort werden seine Kookkurrenzpartner gefunden.",
       "disabled": false,
       "layout": "IPY_MODEL_f2aeed61d6d841beb0c8655ad9bd41d5",
       "style": "IPY_MODEL_1d932f8c08614568954c3efbf7794acc",
       "value": false
      }
     },
     "ce6e16d54c0840f9822f50ed9569f44b": {
      "model_module": "@jupyter-widgets/controls",
      "model_module_version": "1.2.0",
      "model_name": "HBoxModel",
      "state": {
       "children": [
        "IPY_MODEL_2fe1aaa58f5c4c6da283e6ecf86c5b6e",
        "IPY_MODEL_d89a47b15399467b987a6f9fd76088bd"
       ],
       "layout": "IPY_MODEL_31c0862a37dc4f478e34a611692e4f22"
      }
     },
     "cfb4fbc3dad645beb74e928e97a9df2b": {
      "model_module": "@jupyter-widgets/base",
      "model_module_version": "1.0.0",
      "model_name": "LayoutModel",
      "state": {}
     },
     "cfcf51c28e9b4b3a92d7aee9207160db": {
      "model_module": "@jupyter-widgets/base",
      "model_module_version": "1.0.0",
      "model_name": "LayoutModel",
      "state": {}
     },
     "d060edb0e6d2439bbda00ada9ffbf62d": {
      "model_module": "@jupyter-widgets/base",
      "model_module_version": "1.0.0",
      "model_name": "LayoutModel",
      "state": {
       "justify_content": "center"
      }
     },
     "d07275317772447b9235cefea7166964": {
      "model_module": "@jupyter-widgets/controls",
      "model_module_version": "1.2.0",
      "model_name": "ButtonModel",
      "state": {
       "description": "simple past",
       "layout": "IPY_MODEL_5f205ea7827d4806afc0bd7873a2e49d",
       "style": "IPY_MODEL_c2be9c0edad1419b90b63ad3a3c3193f"
      }
     },
     "d074d851f133422b8e8cc09b6564f23b": {
      "model_module": "@jupyter-widgets/controls",
      "model_module_version": "1.2.0",
      "model_name": "ButtonModel",
      "state": {
       "description": "Korrekt?",
       "layout": "IPY_MODEL_b51eb656480d47f2bfb53ae8757456d1",
       "style": "IPY_MODEL_a0ba3b8a14234ebdb8348f6f4edc9541"
      }
     },
     "d0bda699a5864b08a6ae9425536fbb89": {
      "model_module": "@jupyter-widgets/base",
      "model_module_version": "1.0.0",
      "model_name": "LayoutModel",
      "state": {
       "width": "250px"
      }
     },
     "d0ebc0bbe7e146b5acd1f1f073190f66": {
      "model_module": "@jupyter-widgets/controls",
      "model_module_version": "1.2.0",
      "model_name": "HTMLModel",
      "state": {
       "layout": "IPY_MODEL_33c75ad01bc44023bcd6addd47c7d85a",
       "style": "IPY_MODEL_6ed580f68ab6488686208cca96316e0a",
       "value": "<h4 style=\"font-size:14px;\">Kategorie.</h4>"
      }
     },
     "d1b22b86c4204f7da71f0d32f2936baa": {
      "model_module": "@jupyter-widgets/controls",
      "model_module_version": "1.2.0",
      "model_name": "VBoxModel",
      "state": {
       "children": [
        "IPY_MODEL_14ee09181f604d3b90b42d22e4e6ed7b",
        "IPY_MODEL_0bbd6b18afff4dce942e841dfabb962b",
        "IPY_MODEL_fa359d4422654babbb8c9b1f1164c629",
        "IPY_MODEL_ac355ab178db4f68bf9463bf20c50698"
       ],
       "layout": "IPY_MODEL_a001f2db1fbe48618209b0843491f668"
      }
     },
     "d1d4cc279c69407d97b3b653cec34afc": {
      "model_module": "@jupyter-widgets/controls",
      "model_module_version": "1.2.0",
      "model_name": "HTMLModel",
      "state": {
       "layout": "IPY_MODEL_b431228592ee4240bdf9d5e3175fd0af",
       "style": "IPY_MODEL_1ce3a39a2f8341328719a211d84d6a70",
       "value": "<i>Wählen Sie die <ins>eine</ins> korrekte Antwort aus: </i>"
      }
     },
     "d29d760f3042440db6910ccbda587362": {
      "model_module": "@jupyter-widgets/controls",
      "model_module_version": "1.2.0",
      "model_name": "DescriptionStyleModel",
      "state": {
       "description_width": "initial"
      }
     },
     "d2a031b67a084ce893cebe18623542c1": {
      "model_module": "@jupyter-widgets/controls",
      "model_module_version": "1.2.0",
      "model_name": "ButtonStyleModel",
      "state": {}
     },
     "d32960fefee34adf9c7636d344298dc4": {
      "model_module": "@jupyter-widgets/base",
      "model_module_version": "1.0.0",
      "model_name": "LayoutModel",
      "state": {
       "width": "250px"
      }
     },
     "d33965232c5149b68facee4e6fc9b732": {
      "model_module": "@jupyter-widgets/controls",
      "model_module_version": "1.2.0",
      "model_name": "DescriptionStyleModel",
      "state": {
       "description_width": "initial"
      }
     },
     "d37c164447ed4670a705dcf402aec631": {
      "model_module": "@jupyter-widgets/base",
      "model_module_version": "1.0.0",
      "model_name": "LayoutModel",
      "state": {
       "width": "600px"
      }
     },
     "d38e0a1a9ac443fd8d91e027b2885c70": {
      "model_module": "@jupyter-widgets/base",
      "model_module_version": "1.0.0",
      "model_name": "LayoutModel",
      "state": {
       "width": "150px"
      }
     },
     "d480ff32ecd048e3b1c9473b1ba7d6f2": {
      "model_module": "@jupyter-widgets/base",
      "model_module_version": "1.0.0",
      "model_name": "LayoutModel",
      "state": {}
     },
     "d4fcf5899f084b86bb213ccb3ee03255": {
      "model_module": "@jupyter-widgets/controls",
      "model_module_version": "1.2.0",
      "model_name": "HTMLModel",
      "state": {
       "layout": "IPY_MODEL_0bbc1621cf7342549eb0234aebf49504",
       "style": "IPY_MODEL_46d95d5382c644d79998e0bd374ab7fb",
       "value": "<h4 style=\"font-size:14px;\">Welche Eigenschaften hat <i>gut</i> in Satz 2?</h4>"
      }
     },
     "d5492967650448ecb2e3da8a63458f30": {
      "model_module": "@jupyter-widgets/controls",
      "model_module_version": "1.2.0",
      "model_name": "CheckboxModel",
      "state": {
       "description": "Substitutionstest",
       "disabled": false,
       "layout": "IPY_MODEL_d6c877a4cae74f1f88aaae21b61193d1",
       "style": "IPY_MODEL_3ee7657aee274c8390b5942701fabc31",
       "value": false
      }
     },
     "d5697907b13e4b2db30e550e9390a971": {
      "model_module": "@jupyter-widgets/base",
      "model_module_version": "1.0.0",
      "model_name": "LayoutModel",
      "state": {}
     },
     "d57cab2ae75d4a7c917beee127074128": {
      "model_module": "@jupyter-widgets/base",
      "model_module_version": "1.0.0",
      "model_name": "LayoutModel",
      "state": {}
     },
     "d63a8062dd3c4ab7aa8175106a8716b3": {
      "model_module": "@jupyter-widgets/controls",
      "model_module_version": "1.2.0",
      "model_name": "DescriptionStyleModel",
      "state": {
       "description_width": ""
      }
     },
     "d685e79b881a4849b8f50cde47ca4692": {
      "model_module": "@jupyter-widgets/controls",
      "model_module_version": "1.2.0",
      "model_name": "DescriptionStyleModel",
      "state": {
       "description_width": ""
      }
     },
     "d6c877a4cae74f1f88aaae21b61193d1": {
      "model_module": "@jupyter-widgets/base",
      "model_module_version": "1.0.0",
      "model_name": "LayoutModel",
      "state": {
       "width": "600px"
      }
     },
     "d6f13373b9c948369b9dbab1d6b37170": {
      "model_module": "@jupyter-widgets/controls",
      "model_module_version": "1.2.0",
      "model_name": "ButtonStyleModel",
      "state": {}
     },
     "d7916f2316bf49c6ba37c9b61de6770f": {
      "model_module": "@jupyter-widgets/base",
      "model_module_version": "1.0.0",
      "model_name": "LayoutModel",
      "state": {
       "justify_content": "center"
      }
     },
     "d86f836d33e944dba2341796847b7814": {
      "model_module": "@jupyter-widgets/controls",
      "model_module_version": "1.2.0",
      "model_name": "CheckboxModel",
      "state": {
       "description": "gleiche Endungen",
       "disabled": false,
       "layout": "IPY_MODEL_f9c102d239f941e88fb45545322b0a47",
       "style": "IPY_MODEL_a38a603c8fff4afaa24b88f8c79916c5",
       "value": false
      }
     },
     "d89a47b15399467b987a6f9fd76088bd": {
      "model_module": "@jupyter-widgets/controls",
      "model_module_version": "1.2.0",
      "model_name": "ButtonModel",
      "state": {
       "description": "Adverb",
       "layout": "IPY_MODEL_0f1fbaa407c244fea2feb9f162415c4c",
       "style": "IPY_MODEL_e44fd4491a244270b13789950103ec08"
      }
     },
     "d8a4c362b7204a90a825040e0e3ee6d7": {
      "model_module": "@jupyter-widgets/controls",
      "model_module_version": "1.2.0",
      "model_name": "ButtonModel",
      "state": {
       "description": "Folge von Wortklassen",
       "layout": "IPY_MODEL_b0a1678b58464468a41c5b6bbbd671f9",
       "style": "IPY_MODEL_87ef6b4ed8cb4a7dbba5d955f61f221f"
      }
     },
     "d91627f300e94ed58afb2331042f6ee3": {
      "model_module": "@jupyter-widgets/base",
      "model_module_version": "1.0.0",
      "model_name": "LayoutModel",
      "state": {
       "width": "600px"
      }
     },
     "d97cd2965707442899e9250eeaaefd17": {
      "model_module": "@jupyter-widgets/controls",
      "model_module_version": "1.2.0",
      "model_name": "ButtonModel",
      "state": {
       "description": "Wortfolge",
       "layout": "IPY_MODEL_871ecbfa8f954d49809462ef7cc48dca",
       "style": "IPY_MODEL_7cfbd9890b82478ea0cde58684ae1b10"
      }
     },
     "da384ba8905f47cdb4d79aea7cafcbde": {
      "model_module": "@jupyter-widgets/controls",
      "model_module_version": "1.2.0",
      "model_name": "HTMLModel",
      "state": {
       "layout": "IPY_MODEL_0991a2b0f9c941e58c7c038e231e86ca",
       "style": "IPY_MODEL_c0bd7d739ae84a109c2252f8ea4084e2",
       "value": "<h4 style=\"font-size:14px;\">Was bedeutet das Tag <i>VBD</i> im Browntagset (siehe 5.7)?</h4>"
      }
     },
     "da85da95685449beb435fdf9d9e79c3b": {
      "model_module": "@jupyter-widgets/controls",
      "model_module_version": "1.2.0",
      "model_name": "VBoxModel",
      "state": {
       "children": [
        "IPY_MODEL_deed370006cb4b7499d7113aa965ad85",
        "IPY_MODEL_f0726593cc1e467e8c042c7a1d6291e3",
        "IPY_MODEL_7eb2ee56921a46db81c9a6b98944063f",
        "IPY_MODEL_a20ab568e1ad4b1585147fa4cf8e7e3a"
       ],
       "layout": "IPY_MODEL_b47238a9870d4b5689c7adae938fa438"
      }
     },
     "db025827effe4423bb24744f00d30096": {
      "model_module": "@jupyter-widgets/controls",
      "model_module_version": "1.2.0",
      "model_name": "ButtonStyleModel",
      "state": {}
     },
     "db5bd933455542b0a92a64fdcf4f4044": {
      "model_module": "@jupyter-widgets/base",
      "model_module_version": "1.0.0",
      "model_name": "LayoutModel",
      "state": {
       "justify_content": "center"
      }
     },
     "dbd99e94c8094b5885ce009f2cbde433": {
      "model_module": "@jupyter-widgets/controls",
      "model_module_version": "1.2.0",
      "model_name": "CheckboxModel",
      "state": {
       "description": "Nur mit beginnt eine Reise von tausend Meilen auch einem Schritt.",
       "disabled": false,
       "layout": "IPY_MODEL_9cbe4d3d8773495086bb474351a9b2b4",
       "style": "IPY_MODEL_d33965232c5149b68facee4e6fc9b732",
       "value": false
      }
     },
     "dc10ae3bb84444e086be1900120e4a4c": {
      "model_module": "@jupyter-widgets/controls",
      "model_module_version": "1.2.0",
      "model_name": "DescriptionStyleModel",
      "state": {
       "description_width": "initial"
      }
     },
     "dc6979e38ccd4b6d842cd4d251a27879": {
      "model_module": "@jupyter-widgets/base",
      "model_module_version": "1.0.0",
      "model_name": "LayoutModel",
      "state": {
       "width": "250px"
      }
     },
     "dca5818bf472424dbd6518e8cb8251cd": {
      "model_module": "@jupyter-widgets/controls",
      "model_module_version": "1.2.0",
      "model_name": "DescriptionStyleModel",
      "state": {
       "description_width": "initial"
      }
     },
     "de3dc19647c04f858d100c0bef286f48": {
      "model_module": "@jupyter-widgets/base",
      "model_module_version": "1.0.0",
      "model_name": "LayoutModel",
      "state": {}
     },
     "de821af5cf3049b88e3f9639575bcf7d": {
      "model_module": "@jupyter-widgets/controls",
      "model_module_version": "1.2.0",
      "model_name": "HTMLModel",
      "state": {
       "layout": "IPY_MODEL_8128de0c474b441697ce26fa0de2b82a",
       "style": "IPY_MODEL_315eeb32dc89405caf4c576677a18630",
       "value": "<i>Markieren Sie <ins>alle</ins> passenden Antworten: </i>"
      }
     },
     "debe50979dc045309160b086d7563729": {
      "model_module": "@jupyter-widgets/base",
      "model_module_version": "1.0.0",
      "model_name": "LayoutModel",
      "state": {
       "width": "600px"
      }
     },
     "deed370006cb4b7499d7113aa965ad85": {
      "model_module": "@jupyter-widgets/controls",
      "model_module_version": "1.2.0",
      "model_name": "HTMLModel",
      "state": {
       "layout": "IPY_MODEL_c4f7a5feecd04bc88d10fd5df4d0fa4e",
       "style": "IPY_MODEL_df151d8f75094fb8b2295732f38d832f",
       "value": "<h4 style=\"font-size:14px;\">Welche Wortart folgt damit für das Wort <i>gut</i> in Satz 2?</h4>"
      }
     },
     "df151d8f75094fb8b2295732f38d832f": {
      "model_module": "@jupyter-widgets/controls",
      "model_module_version": "1.2.0",
      "model_name": "DescriptionStyleModel",
      "state": {
       "description_width": ""
      }
     },
     "dff88b17082f4a499b60bb4e76955155": {
      "model_module": "@jupyter-widgets/controls",
      "model_module_version": "1.2.0",
      "model_name": "DescriptionStyleModel",
      "state": {
       "description_width": "initial"
      }
     },
     "e123cc44215346fcb9525a56aecec6c4": {
      "model_module": "@jupyter-widgets/controls",
      "model_module_version": "1.2.0",
      "model_name": "VBoxModel",
      "state": {
       "children": [
        "IPY_MODEL_a53d1fef89484268bfd7cb793d6afbe3",
        "IPY_MODEL_b2a1ce9caaef4d1889e40d2efb6c44a4",
        "IPY_MODEL_e1567a72f70c4b269f99474943143874",
        "IPY_MODEL_6f6a4946211048ec83efb812dfde0f05",
        "IPY_MODEL_f826828c4f034293bc2af90e16f7f3bd"
       ],
       "layout": "IPY_MODEL_9bd49a33a893421999e1208a465bb302"
      }
     },
     "e12fc0d00f6f43daab4c95b383071578": {
      "model_module": "@jupyter-widgets/base",
      "model_module_version": "1.0.0",
      "model_name": "LayoutModel",
      "state": {}
     },
     "e13a78b99e8249809d6e7194eaba54a9": {
      "model_module": "@jupyter-widgets/controls",
      "model_module_version": "1.2.0",
      "model_name": "DescriptionStyleModel",
      "state": {
       "description_width": ""
      }
     },
     "e1567a72f70c4b269f99474943143874": {
      "model_module": "@jupyter-widgets/controls",
      "model_module_version": "1.2.0",
      "model_name": "HBoxModel",
      "state": {
       "children": [
        "IPY_MODEL_85740f02e07f45fc83cfa7049a0218c6",
        "IPY_MODEL_9b724dcdeec840adb11319b59e4d089a"
       ],
       "layout": "IPY_MODEL_bb644f708b954dc591abed7a975ad3f9"
      }
     },
     "e1bee78d7ca744c0bcdbc16b43d1b940": {
      "model_module": "@jupyter-widgets/base",
      "model_module_version": "1.0.0",
      "model_name": "LayoutModel",
      "state": {
       "width": "600px"
      }
     },
     "e1ff9575fb6c49c5a524d67e9ab0f1ae": {
      "model_module": "@jupyter-widgets/base",
      "model_module_version": "1.0.0",
      "model_name": "LayoutModel",
      "state": {
       "justify_content": "center"
      }
     },
     "e29788577aaf425a8bbcb04cf696252e": {
      "model_module": "@jupyter-widgets/base",
      "model_module_version": "1.0.0",
      "model_name": "LayoutModel",
      "state": {}
     },
     "e36d817f600d42bab94ae5a79d2a45b1": {
      "model_module": "@jupyter-widgets/base",
      "model_module_version": "1.0.0",
      "model_name": "LayoutModel",
      "state": {
       "align_content": "stretch",
       "align_items": "stretch",
       "display": "inline-flex",
       "flex": "flex-grow",
       "flex_flow": "row wrap",
       "justify_content": "flex-start"
      }
     },
     "e44fd4491a244270b13789950103ec08": {
      "model_module": "@jupyter-widgets/controls",
      "model_module_version": "1.2.0",
      "model_name": "ButtonStyleModel",
      "state": {}
     },
     "e470c6e5a3c94cb18a03e5357ca9c3da": {
      "model_module": "@jupyter-widgets/controls",
      "model_module_version": "1.2.0",
      "model_name": "ButtonModel",
      "state": {
       "description": "base",
       "layout": "IPY_MODEL_f7335a7d1bc6461295605329c5b31db9",
       "style": "IPY_MODEL_2b33116e1b274726934151f2fdf96dbf"
      }
     },
     "e535d52fc2004b2e80891c755d46e6e5": {
      "model_module": "@jupyter-widgets/base",
      "model_module_version": "1.0.0",
      "model_name": "LayoutModel",
      "state": {
       "width": "250px"
      }
     },
     "e57193b62faa4882b538bdf3641115c6": {
      "model_module": "@jupyter-widgets/controls",
      "model_module_version": "1.2.0",
      "model_name": "DescriptionStyleModel",
      "state": {
       "description_width": ""
      }
     },
     "e5ceb83d82d54a75abc4ac7b1198405f": {
      "model_module": "@jupyter-widgets/controls",
      "model_module_version": "1.2.0",
      "model_name": "VBoxModel",
      "state": {
       "children": [
        "IPY_MODEL_c281c7bd8bec4839a35b7af2e97d4a80",
        "IPY_MODEL_de821af5cf3049b88e3f9639575bcf7d",
        "IPY_MODEL_1491e550cc4341b1bc84910db00dc7fd",
        "IPY_MODEL_3858954a33ce4cdca44a5c0f1026863b"
       ],
       "layout": "IPY_MODEL_4efd24b8dbaf4bedb5eb341d19cf7e40"
      }
     },
     "e641b9f293e943e58d413d65a1a8d94d": {
      "model_module": "@jupyter-widgets/controls",
      "model_module_version": "1.2.0",
      "model_name": "VBoxModel",
      "state": {
       "children": [
        "IPY_MODEL_afba3415b8a24470af14c7ba15e06bae",
        "IPY_MODEL_efba99500f7042038c2a593c00c00229",
        "IPY_MODEL_ce6e16d54c0840f9822f50ed9569f44b",
        "IPY_MODEL_58c9869448fa4f5c9054c0204976cee9"
       ],
       "layout": "IPY_MODEL_91413d467e834166a914f52a56cbc1cf"
      }
     },
     "e67781a5610a4191a83cb2964e1b0464": {
      "model_module": "@jupyter-widgets/controls",
      "model_module_version": "1.2.0",
      "model_name": "HTMLModel",
      "state": {
       "layout": "IPY_MODEL_7c32b4f0371542a9851b3422cdc02159",
       "style": "IPY_MODEL_499004b6113d43459f64643837d2e61f",
       "value": "<h4 style=\"font-size:14px;\">Was bedeutet das Tag <i>VBZ</i> im Browntagset (siehe 5.7)?</h4>"
      }
     },
     "e7e91ccb19094d2cb89ecb5c44ae39c2": {
      "model_module": "@jupyter-widgets/controls",
      "model_module_version": "1.2.0",
      "model_name": "HTMLModel",
      "state": {
       "layout": "IPY_MODEL_54aaa45bee3f4a19a30e55f4a408c7f4",
       "style": "IPY_MODEL_2c5f7112d58d4be087253e78a2b7ee9e",
       "value": "<h4 style=\"font-size:14px;\">Das Partizip <i>Verloren<i> ist eine</h4>"
      }
     },
     "e80df3b900ec42efac1ff1fc32b19a49": {
      "model_module": "@jupyter-widgets/base",
      "model_module_version": "1.0.0",
      "model_name": "LayoutModel",
      "state": {
       "justify_content": "center"
      }
     },
     "e8c2692bad344ae7943ae13446693d0c": {
      "model_module": "@jupyter-widgets/base",
      "model_module_version": "1.0.0",
      "model_name": "LayoutModel",
      "state": {}
     },
     "e8f4f3b514594e94ba71fe9985e0bc2e": {
      "model_module": "@jupyter-widgets/controls",
      "model_module_version": "1.2.0",
      "model_name": "DropdownModel",
      "state": {
       "_options_labels": [
        "POS",
        "POS+Wort+POS",
        "Wort+POS-Tag",
        " "
       ],
       "index": 3,
       "layout": "IPY_MODEL_c7f56d6824b749b49ce900c8190a8d7a",
       "style": "IPY_MODEL_a081a402741a47169321804171de990c"
      }
     },
     "e98e257f4780442f9c0e0a0169639a63": {
      "model_module": "@jupyter-widgets/controls",
      "model_module_version": "1.2.0",
      "model_name": "CheckboxModel",
      "state": {
       "description": "Es ist flektierbar.",
       "disabled": false,
       "layout": "IPY_MODEL_e1bee78d7ca744c0bcdbc16b43d1b940",
       "style": "IPY_MODEL_dff88b17082f4a499b60bb4e76955155",
       "value": false
      }
     },
     "e998e366a8804f95982fc1bf8ff80b43": {
      "model_module": "@jupyter-widgets/base",
      "model_module_version": "1.0.0",
      "model_name": "LayoutModel",
      "state": {
       "width": "600px"
      }
     },
     "ea1cdea0376143d7b24f895bf81c5f44": {
      "model_module": "@jupyter-widgets/controls",
      "model_module_version": "1.2.0",
      "model_name": "ButtonStyleModel",
      "state": {}
     },
     "ea9f7fc928e64ceca0d96d09a416d1ba": {
      "model_module": "@jupyter-widgets/base",
      "model_module_version": "1.0.0",
      "model_name": "LayoutModel",
      "state": {
       "align_content": "stretch",
       "align_items": "stretch",
       "display": "inline-flex",
       "flex": "flex-grow",
       "flex_flow": "row wrap",
       "justify_content": "flex-start"
      }
     },
     "eb0a830773ea4054b781dbb73b36a14f": {
      "model_module": "@jupyter-widgets/controls",
      "model_module_version": "1.2.0",
      "model_name": "HTMLModel",
      "state": {
       "layout": "IPY_MODEL_20e620417a6940faa657d7f59052c5f1",
       "style": "IPY_MODEL_13fc4d89fa3541f7990f15e0173d23e6",
       "value": "<h4 style=\"font-size:14px;\">durch eine</h4>"
      }
     },
     "eb4bd681fb4a4525bca2230041cee7de": {
      "model_module": "@jupyter-widgets/base",
      "model_module_version": "1.0.0",
      "model_name": "LayoutModel",
      "state": {
       "width": "250px"
      }
     },
     "eba42fce217647409e19a7814befdcc5": {
      "model_module": "@jupyter-widgets/base",
      "model_module_version": "1.0.0",
      "model_name": "LayoutModel",
      "state": {}
     },
     "ebc357452fb94b9c8072608f77a07ac0": {
      "model_module": "@jupyter-widgets/controls",
      "model_module_version": "1.2.0",
      "model_name": "ButtonStyleModel",
      "state": {}
     },
     "ec998b9d4efd4189bec22cfb7ce46bae": {
      "model_module": "@jupyter-widgets/base",
      "model_module_version": "1.0.0",
      "model_name": "LayoutModel",
      "state": {
       "width": "250px"
      }
     },
     "eda30332615e42f7a312078fc2133c27": {
      "model_module": "@jupyter-widgets/controls",
      "model_module_version": "1.2.0",
      "model_name": "HBoxModel",
      "state": {
       "children": [
        "IPY_MODEL_abe59f7bc7064b9a86f6d65f37559624",
        "IPY_MODEL_1c506e9507f64ecc829588fc891a7617"
       ],
       "layout": "IPY_MODEL_10a11880a2a74ac0912e04eee3c8762c"
      }
     },
     "edb0007c4cc4409d99d8404c647bcee7": {
      "model_module": "@jupyter-widgets/controls",
      "model_module_version": "1.2.0",
      "model_name": "VBoxModel",
      "state": {
       "children": [
        "IPY_MODEL_677f41e4973a478fbc148dad0d7fd95f",
        "IPY_MODEL_449a7d92eb1246ecbb9a474779907215",
        "IPY_MODEL_fb5751f205db4ce18b7ce620169c268c",
        "IPY_MODEL_4d7ad742b84d4809912d32a67c4f7755"
       ],
       "layout": "IPY_MODEL_20062eb162794f61a81cd527f369f4c1"
      }
     },
     "edb3c357ecd346bc9d0b9bf71f89c3e6": {
      "model_module": "@jupyter-widgets/controls",
      "model_module_version": "1.2.0",
      "model_name": "DescriptionStyleModel",
      "state": {
       "description_width": ""
      }
     },
     "edb8034db1d443b2b2a060dbb28644b1": {
      "model_module": "@jupyter-widgets/base",
      "model_module_version": "1.0.0",
      "model_name": "LayoutModel",
      "state": {}
     },
     "edbc110347fc461aba80940a87714532": {
      "model_module": "@jupyter-widgets/controls",
      "model_module_version": "1.2.0",
      "model_name": "DescriptionStyleModel",
      "state": {
       "description_width": ""
      }
     },
     "ede92e1603484625a948848a5a70e401": {
      "model_module": "@jupyter-widgets/controls",
      "model_module_version": "1.2.0",
      "model_name": "HBoxModel",
      "state": {
       "children": [
        "IPY_MODEL_0742fcc8468543f3a1e2a5c4bdd0ea80",
        "IPY_MODEL_9adaf04661414dd4a33aa0452eda00ad"
       ],
       "layout": "IPY_MODEL_eba42fce217647409e19a7814befdcc5"
      }
     },
     "ee8000319f864071b41af29601f888a2": {
      "model_module": "@jupyter-widgets/controls",
      "model_module_version": "1.2.0",
      "model_name": "DescriptionStyleModel",
      "state": {
       "description_width": ""
      }
     },
     "ee92d62e76bd4832a9374c6167f4c5e6": {
      "model_module": "@jupyter-widgets/controls",
      "model_module_version": "1.2.0",
      "model_name": "ButtonModel",
      "state": {
       "description": "Korrekt?",
       "layout": "IPY_MODEL_fed4f58d46db4953bcb4f7ff8f20b2f4",
       "style": "IPY_MODEL_62408add54c84d8ba663b896301551d7"
      }
     },
     "eeac249b2c3c4751adcb84ff3fcf9bb6": {
      "model_module": "@jupyter-widgets/controls",
      "model_module_version": "1.2.0",
      "model_name": "HTMLModel",
      "state": {
       "layout": "IPY_MODEL_db5bd933455542b0a92a64fdcf4f4044",
       "style": "IPY_MODEL_425a586a266e495ca87a2a545f703f62",
       "value": "<i>Markieren Sie <ins>alle</ins> passenden Antworten: </i>"
      }
     },
     "eeb7b1bccd0a450c977ef115651dcfd8": {
      "model_module": "@jupyter-widgets/controls",
      "model_module_version": "1.2.0",
      "model_name": "ButtonStyleModel",
      "state": {}
     },
     "ef07efa4d49248fbbdd56e045d843c89": {
      "model_module": "@jupyter-widgets/controls",
      "model_module_version": "1.2.0",
      "model_name": "DropdownModel",
      "state": {
       "_options_labels": [
        "NP",
        "PP",
        "VP",
        " "
       ],
       "index": 3,
       "layout": "IPY_MODEL_9e6a15930cca43e7902e3ab1960e110f",
       "style": "IPY_MODEL_d63a8062dd3c4ab7aa8175106a8716b3"
      }
     },
     "efba99500f7042038c2a593c00c00229": {
      "model_module": "@jupyter-widgets/controls",
      "model_module_version": "1.2.0",
      "model_name": "HTMLModel",
      "state": {
       "layout": "IPY_MODEL_9e4549cf2a9142e5885731aca55148ae",
       "style": "IPY_MODEL_2c6c7fb575354b1b9eba368b6fa53bc0",
       "value": "<i>Wählen Sie die <ins>eine</ins> korrekte Antwort aus: </i>"
      }
     },
     "effc1bdb4efb46c984345bac17fc0b3e": {
      "model_module": "@jupyter-widgets/controls",
      "model_module_version": "1.2.0",
      "model_name": "VBoxModel",
      "state": {
       "children": [
        "IPY_MODEL_56309f647adb4f558d94dcc83c0218f5",
        "IPY_MODEL_29d734add7934cecb5f8c78c248310f8",
        "IPY_MODEL_35290e3add2a4c1d8145bb559a090f0c",
        "IPY_MODEL_1f7eb56abd1e49b4b3e042fbfab120ee"
       ],
       "layout": "IPY_MODEL_be41b2ca8fb046baa6597723b243f1c6"
      }
     },
     "f03047f11bad485cb3f670b0a8c21243": {
      "model_module": "@jupyter-widgets/controls",
      "model_module_version": "1.2.0",
      "model_name": "HTMLModel",
      "state": {
       "layout": "IPY_MODEL_5156096f820c42aa8a54d17649eef8e8",
       "style": "IPY_MODEL_c953693355784eb0b9db3d49e9d7c62f",
       "value": "<h4 style=\"font-size:14px;\"><i>seinen Schlüsselbund zwar noch nie verloren haben.</i></h4>"
      }
     },
     "f0596e29ee364d1ab79d4ecaac04fd03": {
      "model_module": "@jupyter-widgets/controls",
      "model_module_version": "1.2.0",
      "model_name": "ButtonModel",
      "state": {
       "description": "Partikel",
       "layout": "IPY_MODEL_a1cdfbf4c81643d392db96e10b463443",
       "style": "IPY_MODEL_5c14a3982b414b26ae95dd418f4fb4d3"
      }
     },
     "f0726593cc1e467e8c042c7a1d6291e3": {
      "model_module": "@jupyter-widgets/controls",
      "model_module_version": "1.2.0",
      "model_name": "HTMLModel",
      "state": {
       "layout": "IPY_MODEL_f62c7b80eb314918a8d98cee870bd7a9",
       "style": "IPY_MODEL_86710adbe43a45e7bc1aa44dcbad3f74",
       "value": "<i>Wählen Sie die <ins>eine</ins> korrekte Antwort aus: </i>"
      }
     },
     "f07fe1d7eca14112830fca813d643b3c": {
      "model_module": "@jupyter-widgets/base",
      "model_module_version": "1.0.0",
      "model_name": "LayoutModel",
      "state": {
       "width": "150px"
      }
     },
     "f086786a409f40d09ec996687e874065": {
      "model_module": "@jupyter-widgets/controls",
      "model_module_version": "1.2.0",
      "model_name": "DropdownModel",
      "state": {
       "_options_labels": [
        "Bedeutung",
        "Wohlgeformtheit",
        " "
       ],
       "index": 2,
       "layout": "IPY_MODEL_2dc14269408a43eeb9114bb5c8c48cbe",
       "style": "IPY_MODEL_ff02dc43ad1f4eb1abe872e7a5851a41"
      }
     },
     "f131a7fbac744717842a04331dd2ea35": {
      "model_module": "@jupyter-widgets/base",
      "model_module_version": "1.0.0",
      "model_name": "LayoutModel",
      "state": {}
     },
     "f1e57d7987bc4487bdd579e754a75547": {
      "model_module": "@jupyter-widgets/controls",
      "model_module_version": "1.2.0",
      "model_name": "ButtonStyleModel",
      "state": {}
     },
     "f1efb97b85fd47b091be0238efd7e431": {
      "model_module": "@jupyter-widgets/controls",
      "model_module_version": "1.2.0",
      "model_name": "DropdownModel",
      "state": {
       "_options_labels": [
        "Bigramm",
        "Trigramm",
        "Unigramm",
        " "
       ],
       "index": 3,
       "layout": "IPY_MODEL_024c4c2fbf1642bdaf3b43b89f66b619",
       "style": "IPY_MODEL_0124d5cf8f974662afa78b52661f44d3"
      }
     },
     "f2aeed61d6d841beb0c8655ad9bd41d5": {
      "model_module": "@jupyter-widgets/base",
      "model_module_version": "1.0.0",
      "model_name": "LayoutModel",
      "state": {
       "width": "600px"
      }
     },
     "f36ff34b1e1b4a339b7cd0ebd827ed1d": {
      "model_module": "@jupyter-widgets/base",
      "model_module_version": "1.0.0",
      "model_name": "LayoutModel",
      "state": {}
     },
     "f39c0d152b2c4d99bea3f97a023e1eb4": {
      "model_module": "@jupyter-widgets/controls",
      "model_module_version": "1.2.0",
      "model_name": "ButtonStyleModel",
      "state": {}
     },
     "f3b2c1f723ee4386b838d4126f3f3d20": {
      "model_module": "@jupyter-widgets/controls",
      "model_module_version": "1.2.0",
      "model_name": "DescriptionStyleModel",
      "state": {
       "description_width": ""
      }
     },
     "f3ed6ce31c0445bea7f938cadcb02d76": {
      "model_module": "@jupyter-widgets/controls",
      "model_module_version": "1.2.0",
      "model_name": "ButtonModel",
      "state": {
       "description": "simple past",
       "layout": "IPY_MODEL_d32960fefee34adf9c7636d344298dc4",
       "style": "IPY_MODEL_5987faf8ab32465295f233bab97085b4"
      }
     },
     "f447c6818445467e950711851f4bdac5": {
      "model_module": "@jupyter-widgets/controls",
      "model_module_version": "1.2.0",
      "model_name": "HTMLModel",
      "state": {
       "layout": "IPY_MODEL_ff82f5daf6194ae89dd3ee96aa81f56f",
       "style": "IPY_MODEL_91217e833ba84aad8b3f55171853ec65",
       "value": "<i>Wählen Sie die <ins>eine</ins> korrekte Antwort aus: </i>"
      }
     },
     "f44ed2fcb44d4cbeb60ec7dd7bd79567": {
      "model_module": "@jupyter-widgets/controls",
      "model_module_version": "1.2.0",
      "model_name": "DescriptionStyleModel",
      "state": {
       "description_width": "initial"
      }
     },
     "f4bbb64d9965425fa24c6264ff749b0b": {
      "model_module": "@jupyter-widgets/controls",
      "model_module_version": "1.2.0",
      "model_name": "ButtonStyleModel",
      "state": {}
     },
     "f594dae7584140b1a48cef9556c56218": {
      "model_module": "@jupyter-widgets/controls",
      "model_module_version": "1.2.0",
      "model_name": "ButtonStyleModel",
      "state": {}
     },
     "f59925a5309a41bb8eeac2027bfd1644": {
      "model_module": "@jupyter-widgets/controls",
      "model_module_version": "1.2.0",
      "model_name": "ButtonModel",
      "state": {
       "description": "Adjektiv",
       "layout": "IPY_MODEL_13cc09b9b0d94876ab9cba44f80305e3",
       "style": "IPY_MODEL_a5c7f3074f344a7fb84f15653df207e7"
      }
     },
     "f62bb734c1464d54b6436236c60e83df": {
      "model_module": "@jupyter-widgets/base",
      "model_module_version": "1.0.0",
      "model_name": "LayoutModel",
      "state": {
       "justify_content": "center"
      }
     },
     "f62c7b80eb314918a8d98cee870bd7a9": {
      "model_module": "@jupyter-widgets/base",
      "model_module_version": "1.0.0",
      "model_name": "LayoutModel",
      "state": {
       "justify_content": "center"
      }
     },
     "f6c5969182fc4b7f95fcdf7f3ac85b32": {
      "model_module": "@jupyter-widgets/base",
      "model_module_version": "1.0.0",
      "model_name": "LayoutModel",
      "state": {
       "width": "600px"
      }
     },
     "f7335a7d1bc6461295605329c5b31db9": {
      "model_module": "@jupyter-widgets/base",
      "model_module_version": "1.0.0",
      "model_name": "LayoutModel",
      "state": {
       "width": "250px"
      }
     },
     "f7dde597b2394e7591680ede456a3331": {
      "model_module": "@jupyter-widgets/base",
      "model_module_version": "1.0.0",
      "model_name": "LayoutModel",
      "state": {}
     },
     "f826828c4f034293bc2af90e16f7f3bd": {
      "model_module": "@jupyter-widgets/controls",
      "model_module_version": "1.2.0",
      "model_name": "HBoxModel",
      "state": {
       "children": [
        "IPY_MODEL_8ca55ca5756043c48e9ab52a62f20c95"
       ],
       "layout": "IPY_MODEL_6f9e1b68e6f4417db977a61daa852a37"
      }
     },
     "f88bd5e1efd84ba787aed82a1d84d704": {
      "model_module": "@jupyter-widgets/controls",
      "model_module_version": "1.2.0",
      "model_name": "DescriptionStyleModel",
      "state": {
       "description_width": "initial"
      }
     },
     "f8f27fe81c2c412cac5d5ab14bb5a30c": {
      "model_module": "@jupyter-widgets/controls",
      "model_module_version": "1.2.0",
      "model_name": "DropdownModel",
      "state": {
       "_options_labels": [
        "kürzere",
        "längere",
        " "
       ],
       "index": 2,
       "layout": "IPY_MODEL_65179165a53e4ddab30e70fe5b4b2ebe",
       "style": "IPY_MODEL_b3fcd1ee851745ce86b977fdf6b507bf"
      }
     },
     "f9c102d239f941e88fb45545322b0a47": {
      "model_module": "@jupyter-widgets/base",
      "model_module_version": "1.0.0",
      "model_name": "LayoutModel",
      "state": {
       "width": "600px"
      }
     },
     "f9c51e4ee6be4065aa71c036dfbf86e4": {
      "model_module": "@jupyter-widgets/base",
      "model_module_version": "1.0.0",
      "model_name": "LayoutModel",
      "state": {
       "width": "250px"
      }
     },
     "fa2e402678694d92b9534a53cf4808f2": {
      "model_module": "@jupyter-widgets/controls",
      "model_module_version": "1.2.0",
      "model_name": "DescriptionStyleModel",
      "state": {
       "description_width": ""
      }
     },
     "fa359d4422654babbb8c9b1f1164c629": {
      "model_module": "@jupyter-widgets/controls",
      "model_module_version": "1.2.0",
      "model_name": "VBoxModel",
      "state": {
       "children": [
        "IPY_MODEL_46d36a71b40a48e1988156a6388c2e7f",
        "IPY_MODEL_08ce9e3de7d146aaad3ec897b85e38d9",
        "IPY_MODEL_ce56de3a599a4188a26f73d371a6eff5",
        "IPY_MODEL_02392ba5908f46e881408cba4d156aa3"
       ],
       "layout": "IPY_MODEL_cfcf51c28e9b4b3a92d7aee9207160db"
      }
     },
     "fb5751f205db4ce18b7ce620169c268c": {
      "model_module": "@jupyter-widgets/controls",
      "model_module_version": "1.2.0",
      "model_name": "TextareaModel",
      "state": {
       "layout": "IPY_MODEL_3f4b0f27c3434c0a948fd978f9a1d755",
       "placeholder": "Type something",
       "style": "IPY_MODEL_e57193b62faa4882b538bdf3641115c6",
       "value": "nltk.____()"
      }
     },
     "fc57900e84c6473c83eb5d29395a26a9": {
      "model_module": "@jupyter-widgets/controls",
      "model_module_version": "1.2.0",
      "model_name": "DescriptionStyleModel",
      "state": {
       "description_width": ""
      }
     },
     "fcc108ccf1084dbf8b1b60efbb508e18": {
      "model_module": "@jupyter-widgets/base",
      "model_module_version": "1.0.0",
      "model_name": "LayoutModel",
      "state": {}
     },
     "fcf8d604629f4478a287664004464d12": {
      "model_module": "@jupyter-widgets/base",
      "model_module_version": "1.0.0",
      "model_name": "LayoutModel",
      "state": {
       "width": "600px"
      }
     },
     "fd734f9e1f05400ab4f796362992de45": {
      "model_module": "@jupyter-widgets/base",
      "model_module_version": "1.0.0",
      "model_name": "LayoutModel",
      "state": {}
     },
     "fda335c415024914b7801476a70df688": {
      "model_module": "@jupyter-widgets/controls",
      "model_module_version": "1.2.0",
      "model_name": "DescriptionStyleModel",
      "state": {
       "description_width": ""
      }
     },
     "fed4f58d46db4953bcb4f7ff8f20b2f4": {
      "model_module": "@jupyter-widgets/base",
      "model_module_version": "1.0.0",
      "model_name": "LayoutModel",
      "state": {
       "width": "250px"
      }
     },
     "ff02dc43ad1f4eb1abe872e7a5851a41": {
      "model_module": "@jupyter-widgets/controls",
      "model_module_version": "1.2.0",
      "model_name": "DescriptionStyleModel",
      "state": {
       "description_width": ""
      }
     },
     "ff707b40c9974d7788603c679165f07d": {
      "model_module": "@jupyter-widgets/controls",
      "model_module_version": "1.2.0",
      "model_name": "ButtonStyleModel",
      "state": {}
     },
     "ff82f5daf6194ae89dd3ee96aa81f56f": {
      "model_module": "@jupyter-widgets/base",
      "model_module_version": "1.0.0",
      "model_name": "LayoutModel",
      "state": {
       "justify_content": "center"
      }
     }
    },
    "version_major": 2,
    "version_minor": 0
   }
  }
 },
 "nbformat": 4,
 "nbformat_minor": 2
}
