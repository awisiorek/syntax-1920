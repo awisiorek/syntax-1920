{
 "cells": [
  {
   "cell_type": "markdown",
   "metadata": {},
   "source": [
    "***Vorlesung 'Syntax natürlicher Sprachen', WS 2019/20***\n",
    "\n",
    "---\n",
    "# Übung 10"
   ]
  },
  {
   "cell_type": "code",
   "execution_count": 1,
   "metadata": {},
   "outputs": [],
   "source": [
    "import nltk\n",
    "from nltk.featstruct import FeatStruct\n",
    "from nltk.featstruct import Feature, UnificationFailure\n",
    "import itertools\n",
    "from exercises_10 import *\n",
    "from questions import aufgabe"
   ]
  },
  {
   "cell_type": "markdown",
   "metadata": {},
   "source": [
    "---\n",
    "## Aufgabe 1: Unifikation I\n",
    "\n",
    "#### Gegeben seien folgende Merkmalstrukturen:"
   ]
  },
  {
   "cell_type": "code",
   "execution_count": 2,
   "metadata": {},
   "outputs": [],
   "source": [
    "f1 = FeatStruct(\n",
    "    '[Vorname=Max, Nachname=Mustermann,' + \n",
    "    'Privat=[Strasse=Hauptstrasse, Ort=[Muenchen]]]'\n",
    ")\n",
    "f2 = FeatStruct(\n",
    "    '[Arbeit=[Strasse=\"Oettingenstrasse\", Ort=(1)[\"Muenchen\"]],' +\n",
    "    'Privat=[Ort->(1)]]')\n",
    "f3 = FeatStruct(\n",
    "    '[Strasse=\"Hauptstrasse\"]'\n",
    ")\n",
    "f4 = FeatStruct(\n",
    "    '[Privat=[Strasse=\"Hauptstrasse\", Ort=[\"Passau\"]]]'\n",
    ")"
   ]
  },
  {
   "cell_type": "markdown",
   "metadata": {},
   "source": [
    "#### Unifizieren Sie:\n",
    "- f1 mit f2\n",
    "- f2 mit f4\n",
    "\n",
    "#### Kontrollieren sie am Ende ihre Lösung zuerst mit Hilfe der interaktiven Fragen und überdenken Sie diese gegebenenfalls.\n",
    "\n",
    "#### Mit der Ausführung der unteren beiden print-Statements können Sie abschließend die Lösung einsehen."
   ]
  },
  {
   "cell_type": "code",
   "execution_count": 3,
   "metadata": {
    "scrolled": false
   },
   "outputs": [
    {
     "data": {
      "application/vnd.jupyter.widget-view+json": {
       "model_id": "c40ad8512e4146d7b7b99abe4fafde82",
       "version_major": 2,
       "version_minor": 0
      },
      "text/plain": [
       "SingleChoice(children=(HTML(value='<h4 style=\"font-size:14px;\">Unifizieren f1 und f2?</h4>', layout=Layout(jus…"
      ]
     },
     "metadata": {},
     "output_type": "display_data"
    },
    {
     "data": {
      "application/vnd.jupyter.widget-view+json": {
       "model_id": "73cd5859a2414c108cc59510f927c402",
       "version_major": 2,
       "version_minor": 0
      },
      "text/plain": [
       "SingleChoice(children=(HTML(value='<h4 style=\"font-size:14px;\">Unifizieren f2 und f4?</h4>', layout=Layout(jus…"
      ]
     },
     "metadata": {},
     "output_type": "display_data"
    }
   ],
   "source": [
    "aufgabe(blatt10_1)"
   ]
  },
  {
   "cell_type": "code",
   "execution_count": null,
   "metadata": {},
   "outputs": [],
   "source": [
    "print(f1.unify(f2).__repr__())"
   ]
  },
  {
   "cell_type": "code",
   "execution_count": null,
   "metadata": {},
   "outputs": [],
   "source": [
    "print(f2.unify(f4).__repr__())"
   ]
  },
  {
   "cell_type": "markdown",
   "metadata": {},
   "source": [
    "---\n",
    "## Aufgabe 2:  Typhierarchie im NLTK\n",
    "\n",
    "#### Gegeben sei folgende Typhierarchie:\n",
    "\n",
    "$$\\bot \\sqsubseteq \\text{Genitiv}$$\n",
    "$$\\bot \\sqsubseteq \\text{nicht-Genitiv}$$\n",
    "$$\\text{nicht-Genitiv} \\sqsubseteq \\text{Nominativ-Akkusativ}$$\n",
    "$$\\text{nicht-Genitiv} \\sqsubseteq \\text{Dativ}$$\n",
    "$$\\text{Nominativ-Akkusativ} \\sqsubseteq \\text{Nominativ}$$\n",
    "$$\\text{Nominativ-Akkusativ} \\sqsubseteq \\text{Akkusativ}$$\n",
    "\n",
    "#### Implementieren Sie mithilfe der Klasse `HierarchicalFeature`, die Sie mit der folgenden Zelle importieren können, ein Feature `CASE`, das der vorgegebenen Typhierarchie entspricht.\n"
   ]
  },
  {
   "cell_type": "code",
   "execution_count": 4,
   "metadata": {},
   "outputs": [],
   "source": [
    "from collections import defaultdict\n",
    "TYPE = nltk.featstruct.TYPE\n",
    "\n",
    "\n",
    "def check_sanity_constraints(th):\n",
    "    for type1, type2 in itertools.product(th, th):\n",
    "        if type1 in th[type2] and type2 in th[type1]:\n",
    "            if type1 != type2:\n",
    "                raise ValueError(\n",
    "                    \"The type hierarchy is not antisymmetric! \" +\n",
    "                    \"{} subsumes {} and vice versa!\".format(\n",
    "                        type1, type2\n",
    "                    )\n",
    "                )\n",
    "\n",
    "\n",
    "def refl_trans_closure(type_hierarchy):\n",
    "    # make everything a set\n",
    "    # and compute reflexive closure\n",
    "    closure = defaultdict(set)\n",
    "    for t in type_hierarchy:\n",
    "        closure[t] = set(type_hierarchy[t])\n",
    "        closure[t].add(t)\n",
    "\n",
    "    # compute transitive closure\n",
    "    still_changes = True\n",
    "    while still_changes:\n",
    "        still_changes = False\n",
    "        for x in closure:\n",
    "            new_for_x = set()\n",
    "            for y in closure[x]:\n",
    "                for z in closure[y]:\n",
    "                    new_for_x.add(z)\n",
    "            len_before = len(closure[x])\n",
    "            closure[x].update(new_for_x)\n",
    "            still_changes |= len(closure[x]) > len_before\n",
    "\n",
    "    return closure\n",
    "\n",
    "\n",
    "class HierarchicalFeature(Feature):\n",
    "    def __init__(self, name, type_hierarchy, **kwargs):\n",
    "        super(HierarchicalFeature, self).__init__(name, **kwargs)\n",
    "\n",
    "        self.hierarchy = refl_trans_closure(type_hierarchy)\n",
    "        check_sanity_constraints(self.hierarchy)\n",
    "\n",
    "    def unify_base_values(self, fval1, fval2, bindings):\n",
    "        candidates = self.hierarchy[fval1].intersection(self.hierarchy[fval2])\n",
    "        score = {t: 0 for t in candidates}\n",
    "        for type1, type2 in itertools.product(candidates, candidates):\n",
    "            if type1 in self.hierarchy[type2]:\n",
    "                score[type1] += 1\n",
    "\n",
    "        return min(candidates, key=score.__getitem__, default=UnificationFailure)\n"
   ]
  },
  {
   "cell_type": "markdown",
   "metadata": {},
   "source": [
    "\n",
    "#### Nutzen Sie dieses Feature dann, um Übergenerierung in folgender Grammatik zu vermeiden:"
   ]
  },
  {
   "cell_type": "code",
   "execution_count": 5,
   "metadata": {},
   "outputs": [],
   "source": [
    "grammar = \"\"\"\n",
    "S -> NP VP\n",
    "NP -> DET NOM\n",
    "NOM -> N NP | N\n",
    "VP -> V\n",
    "\n",
    "V -> \"schläft\"\n",
    "DET[GEN=mask] -> \"der\" | \"des\"\n",
    "DET[GEN=fem] -> \"die\" | \"der\"\n",
    "DET[GEN=neut] -> \"das\" | \"des\"\n",
    "N[GEN=mask] -> \"Mann\" | \"Mannes\"\n",
    "N[GEN=fem] -> \"Frau\"\n",
    "N[GEN=neut] -> \"Kind\" | \"Kindes\"\n",
    "\"\"\""
   ]
  },
  {
   "cell_type": "markdown",
   "metadata": {},
   "source": [
    "#### Hier muss die Typhierarchie in Form eines `Dictionary` definiert werden:"
   ]
  },
  {
   "cell_type": "code",
   "execution_count": 6,
   "metadata": {},
   "outputs": [],
   "source": [
    "type_hierarchy = {\n",
    "    \n",
    "}"
   ]
  },
  {
   "cell_type": "code",
   "execution_count": 7,
   "metadata": {},
   "outputs": [],
   "source": [
    "CASE = HierarchicalFeature(\"CASE\", type_hierarchy)\n",
    "compiled_grammar = nltk.grammar.FeatureGrammar.fromstring(\n",
    "    grammar, features=(CASE, TYPE)\n",
    ")\n",
    "parser = nltk.FeatureEarleyChartParser(compiled_grammar)"
   ]
  },
  {
   "cell_type": "markdown",
   "metadata": {},
   "source": [
    "#### Folgendes sollte funktionieren:"
   ]
  },
  {
   "cell_type": "code",
   "execution_count": 8,
   "metadata": {},
   "outputs": [
    {
     "name": "stdout",
     "output_type": "stream",
     "text": [
      "(S[]\n",
      "  (NP[]\n",
      "    (DET[GEN='neut'] das)\n",
      "    (NOM[]\n",
      "      (N[GEN='neut'] Kind)\n",
      "      (NP[] (DET[GEN='neut'] des) (NOM[] (N[GEN='mask'] Mannes)))))\n",
      "  (VP[] (V[] schläft)))\n",
      "(S[]\n",
      "  (NP[]\n",
      "    (DET[GEN='neut'] das)\n",
      "    (NOM[]\n",
      "      (N[GEN='neut'] Kind)\n",
      "      (NP[] (DET[GEN='mask'] des) (NOM[] (N[GEN='mask'] Mannes)))))\n",
      "  (VP[] (V[] schläft)))\n"
     ]
    }
   ],
   "source": [
    "for t in parser.parse(\"das Kind des Mannes schläft\".split()):\n",
    "    print(t)"
   ]
  },
  {
   "cell_type": "markdown",
   "metadata": {},
   "source": [
    "#### Folgendes sollte leer sein:"
   ]
  },
  {
   "cell_type": "code",
   "execution_count": 9,
   "metadata": {},
   "outputs": [
    {
     "data": {
      "text/plain": [
       "[Tree(S[], [Tree(NP[], [Tree(DET[GEN='neut'], ['des']), Tree(NOM[], [Tree(N[GEN='mask'], ['Mannes'])])]), Tree(VP[], [Tree(V[], ['schläft'])])]),\n",
       " Tree(S[], [Tree(NP[], [Tree(DET[GEN='mask'], ['des']), Tree(NOM[], [Tree(N[GEN='mask'], ['Mannes'])])]), Tree(VP[], [Tree(V[], ['schläft'])])])]"
      ]
     },
     "execution_count": 9,
     "metadata": {},
     "output_type": "execute_result"
    }
   ],
   "source": [
    "list(parser.parse(\"des Mannes schläft\".split()))"
   ]
  },
  {
   "cell_type": "markdown",
   "metadata": {},
   "source": [
    "---\n",
    "# Hausaufgaben"
   ]
  },
  {
   "cell_type": "markdown",
   "metadata": {},
   "source": [
    "---\n",
    "## Aufgabe 3: Unifikation II\n",
    "\n",
    "#### Es seien wieder die Merkmalstrukturen aus Aufgabe 1 gegeben.\n",
    "\n",
    "#### Unifizieren Sie:\n",
    "- f1 mit f4\n",
    "- f2 mit f3\n",
    "\n",
    "#### Kontrollieren sie am Ende ihre Lösung zuerst mit Hilfe der interaktiven Fragen und überdenken Sie diese gegebenenfalls.\n",
    "\n",
    "#### Mit der Ausführung der unteren beiden print-Statements können Sie abschließend die Lösung einsehen."
   ]
  },
  {
   "cell_type": "code",
   "execution_count": 10,
   "metadata": {},
   "outputs": [
    {
     "data": {
      "application/vnd.jupyter.widget-view+json": {
       "model_id": "b2f0aab25bb9434ead9913f207bfc22f",
       "version_major": 2,
       "version_minor": 0
      },
      "text/plain": [
       "SingleChoice(children=(HTML(value='<h4 style=\"font-size:14px;\">Unifizieren f1 und f4?</h4>', layout=Layout(jus…"
      ]
     },
     "metadata": {},
     "output_type": "display_data"
    },
    {
     "data": {
      "application/vnd.jupyter.widget-view+json": {
       "model_id": "8a15a834a69540d58f9c02b50e26a714",
       "version_major": 2,
       "version_minor": 0
      },
      "text/plain": [
       "SingleChoice(children=(HTML(value='<h4 style=\"font-size:14px;\">Unifizieren f2 und f3?</h4>', layout=Layout(jus…"
      ]
     },
     "metadata": {},
     "output_type": "display_data"
    }
   ],
   "source": [
    "aufgabe(blatt10_3)"
   ]
  },
  {
   "cell_type": "code",
   "execution_count": null,
   "metadata": {},
   "outputs": [],
   "source": [
    "print(f1.unify(f4).__repr__())"
   ]
  },
  {
   "cell_type": "code",
   "execution_count": null,
   "metadata": {
    "scrolled": true
   },
   "outputs": [],
   "source": [
    "print(f2.unify(f3).__repr__())"
   ]
  },
  {
   "cell_type": "markdown",
   "metadata": {},
   "source": [
    "---\n",
    "## Aufgabe 4: Weniger Redundanz dank besonderer Merkmale\n",
    "\n",
    "#### Beseitigen Sie die Redundanz in den lexikalischen Regeln (Zeilen 8 - 32) der folgenden Grammatik durch eine Typhierarchie (wo dies nötig ist). Achten Sie darauf, die Menge der akzeptierten Sätze weder zu verkleinern noch zu vergrößern!\n",
    "\n",
    "#### Anzugeben sind die neuen Grammatikregeln, sowie Ihre Typhierarchie (z. B. in graphischer Form)."
   ]
  },
  {
   "cell_type": "code",
   "execution_count": null,
   "metadata": {},
   "outputs": [],
   "source": [
    "redundant_grammar = \"\"\"\n",
    "S -> NP[KAS=nom] VP\n",
    "\n",
    "NP[KAS=?y] -> DET[GEN=?x,KAS=?y] NOM[GEN=?x,KAS=?y]\n",
    "NOM[GEN=?x,KAS=?y] -> N[GEN=?x,KAS=?y] NP[KAS=gen]\n",
    "NOM[GEN=?x,KAS=?y] -> N[GEN=?x,KAS=?y]\n",
    "\n",
    "DET[GEN=mask,KAS=nom] -> \"der\"\n",
    "DET[GEN=mask,KAS=gen] -> \"des\"\n",
    "DET[GEN=mask,KAS=dat] -> \"dem\"\n",
    "DET[GEN=mask,KAS=akk] -> \"den\"\n",
    "DET[GEN=fem,KAS=nom] -> \"die\"\n",
    "DET[GEN=fem,KAS=gen] -> \"der\"\n",
    "DET[GEN=fem,KAS=dat] -> \"der\"\n",
    "DET[GEN=fem,KAS=akk] -> \"die\"\n",
    "DET[GEN=neut,KAS=nom] -> \"das\"\n",
    "DET[GEN=neut,KAS=gen] -> \"des\"\n",
    "DET[GEN=neut,KAS=dat] -> \"dem\"\n",
    "DET[GEN=neut,KAS=akk] -> \"das\"\n",
    "\n",
    "N[GEN=mask,KAS=nom] -> \"Mann\"\n",
    "N[GEN=mask,KAS=gen] -> \"Mannes\"\n",
    "N[GEN=mask,KAS=dat] -> \"Mann\"\n",
    "N[GEN=mask,KAS=akk] -> \"Mann\"\n",
    "N[GEN=fem,KAS=nom] -> \"Frau\"\n",
    "N[GEN=fem,KAS=gen] -> \"Frau\"\n",
    "N[GEN=fem,KAS=dat] -> \"Frau\"\n",
    "N[GEN=fem,KAS=akk] -> \"Frau\"\n",
    "N[GEN=neut,KAS=nom] -> \"Buch\"\n",
    "N[GEN=neut,KAS=gen] -> \"Buches\"\n",
    "N[GEN=neut,KAS=dat] -> \"Buch\"\n",
    "N[GEN=neut,KAS=akk] -> \"Buch\"\n",
    "\n",
    "VP -> V NP[KAS=dat] NP[KAS=akk]\n",
    "V -> \"gibt\" | \"schenkt\"\n",
    "\"\"\""
   ]
  },
  {
   "cell_type": "code",
   "execution_count": null,
   "metadata": {},
   "outputs": [],
   "source": [
    "pos_sentences = [\n",
    "    \"der Mann gibt der Frau das Buch\",\n",
    "    \"die Frau des Mannes gibt dem Mann der Frau das Buch des Buches\"\n",
    "]"
   ]
  },
  {
   "cell_type": "markdown",
   "metadata": {},
   "source": [
    "#### Testen Sie mit Ihren eigenen Negativbeispielen!"
   ]
  },
  {
   "cell_type": "code",
   "execution_count": null,
   "metadata": {},
   "outputs": [],
   "source": [
    "neg_sentences = [\n",
    "    \n",
    "]"
   ]
  },
  {
   "cell_type": "code",
   "execution_count": null,
   "metadata": {},
   "outputs": [],
   "source": [
    "from IPython.display import display\n",
    "\n",
    "def test_grammar(grammar, sentences):\n",
    "    cfg = nltk.grammar.FeatureGrammar.fromstring(grammar)\n",
    "    parser = nltk.parse.FeatureEarleyChartParser(cfg)\n",
    "    \n",
    "    for i, sent in enumerate(sentences, 1):\n",
    "        print(\"Satz {}: {}\".format(i, sent))\n",
    "        results = parser.parse(sent.split())\n",
    "        analyzed = False\n",
    "        for tree in results:\n",
    "            print(tree)  # oder display(tree)\n",
    "            analyzed = True\n",
    "        if not analyzed:\n",
    "            print(\"Keine Analyse möglich\", file=sys.stderr)"
   ]
  },
  {
   "cell_type": "code",
   "execution_count": null,
   "metadata": {
    "scrolled": false
   },
   "outputs": [],
   "source": [
    "test_grammar(redundant_grammar, pos_sentences)"
   ]
  }
 ],
 "metadata": {
  "kernelspec": {
   "display_name": "Python 3",
   "language": "python",
   "name": "python3"
  },
  "language_info": {
   "codemirror_mode": {
    "name": "ipython",
    "version": 3
   },
   "file_extension": ".py",
   "mimetype": "text/x-python",
   "name": "python",
   "nbconvert_exporter": "python",
   "pygments_lexer": "ipython3",
   "version": "3.7.4"
  },
  "widgets": {
   "application/vnd.jupyter.widget-state+json": {
    "state": {
     "00528c5ef6f946c0a04362c98e15b5e6": {
      "model_module": "@jupyter-widgets/controls",
      "model_module_version": "1.5.0",
      "model_name": "HBoxModel",
      "state": {
       "children": [
        "IPY_MODEL_7fb4c7e5f88b4c45bd8804ab39d47189",
        "IPY_MODEL_8c8420c3ee824fe2ae963312ac480de7"
       ],
       "layout": "IPY_MODEL_11f74a46496440df99035f007b0ca518"
      }
     },
     "006d2bf4f23c4a25b642109d2af86e8a": {
      "model_module": "@jupyter-widgets/base",
      "model_module_version": "1.2.0",
      "model_name": "LayoutModel",
      "state": {}
     },
     "0100289e5fd94d7f8d6d6a33da069f90": {
      "model_module": "@jupyter-widgets/controls",
      "model_module_version": "1.5.0",
      "model_name": "ButtonStyleModel",
      "state": {}
     },
     "010358f61c62421fb240931646c5ecd6": {
      "model_module": "@jupyter-widgets/controls",
      "model_module_version": "1.5.0",
      "model_name": "DescriptionStyleModel",
      "state": {
       "description_width": ""
      }
     },
     "035748e536c24ef4a494ef217cb3e9ac": {
      "model_module": "@jupyter-widgets/controls",
      "model_module_version": "1.5.0",
      "model_name": "ButtonModel",
      "state": {
       "description": "Nein",
       "layout": "IPY_MODEL_6064c6bf90864eddac3fc63d59fb47c8",
       "style": "IPY_MODEL_33c9b8ec6dca49a2acd35689563133c5"
      }
     },
     "03b0f4c48b4942cea913d1d79fceadd8": {
      "model_module": "@jupyter-widgets/base",
      "model_module_version": "1.2.0",
      "model_name": "LayoutModel",
      "state": {
       "justify_content": "center"
      }
     },
     "040a878cbddf4beb8887f54e7bd0ad20": {
      "model_module": "@jupyter-widgets/controls",
      "model_module_version": "1.5.0",
      "model_name": "ButtonStyleModel",
      "state": {}
     },
     "05252691bace4668bd9d1e599ebf2b75": {
      "model_module": "@jupyter-widgets/base",
      "model_module_version": "1.2.0",
      "model_name": "LayoutModel",
      "state": {
       "justify_content": "center"
      }
     },
     "05ad098a00d64e2c953edfb6762f6afa": {
      "model_module": "@jupyter-widgets/controls",
      "model_module_version": "1.5.0",
      "model_name": "ButtonStyleModel",
      "state": {}
     },
     "05d16f651d2e4065ac3de0d5e279675d": {
      "model_module": "@jupyter-widgets/controls",
      "model_module_version": "1.5.0",
      "model_name": "DescriptionStyleModel",
      "state": {
       "description_width": ""
      }
     },
     "067971efd5094d6193877201baf9ca6a": {
      "model_module": "@jupyter-widgets/base",
      "model_module_version": "1.2.0",
      "model_name": "LayoutModel",
      "state": {}
     },
     "07865fe943f443f0b94ebe89125a1634": {
      "model_module": "@jupyter-widgets/controls",
      "model_module_version": "1.5.0",
      "model_name": "HTMLModel",
      "state": {
       "layout": "IPY_MODEL_475f192fac4d46018ac3d0e639eb6a1e",
       "style": "IPY_MODEL_a69494b91c374f64b9d19b0355c5a00c",
       "value": "<h4 style=\"font-size:14px;\">Unifizieren f2 und f3?</h4>"
      }
     },
     "0893a04e40c64f848bb0cbe2aabbce16": {
      "model_module": "@jupyter-widgets/base",
      "model_module_version": "1.2.0",
      "model_name": "LayoutModel",
      "state": {
       "width": "250px"
      }
     },
     "08e92911b5ac4b99963171b8bdf71717": {
      "model_module": "@jupyter-widgets/controls",
      "model_module_version": "1.5.0",
      "model_name": "HBoxModel",
      "state": {
       "children": [
        "IPY_MODEL_ecbd230aede6409da3e88e2ad799d3e3",
        "IPY_MODEL_2b16ea3f52664f6bb61e111994b0e079"
       ],
       "layout": "IPY_MODEL_f9ae40e387f248b2aad1936485d4d394"
      }
     },
     "093c5b187f8f441c8e586167edb17b6e": {
      "model_module": "@jupyter-widgets/controls",
      "model_module_version": "1.5.0",
      "model_name": "ButtonModel",
      "state": {
       "description": "Ja",
       "layout": "IPY_MODEL_1f9b2ac5377249599356189c54cd2fe3",
       "style": "IPY_MODEL_3bf9a6c7ad9f4039aec27a899e6f3519"
      }
     },
     "0a4d05d211e748a5907b04bc07423314": {
      "model_module": "@jupyter-widgets/controls",
      "model_module_version": "1.5.0",
      "model_name": "HTMLModel",
      "state": {
       "layout": "IPY_MODEL_3e3a77c8b07243ee89adb90849874385",
       "style": "IPY_MODEL_7b22540755404a0d90daf0a57e63ce76",
       "value": "<h4 style=\"font-size:14px;\">Unifizieren f1 und f2?</h4>"
      }
     },
     "0b8ae2abfdf546be96142e17a98fab7c": {
      "model_module": "@jupyter-widgets/base",
      "model_module_version": "1.2.0",
      "model_name": "LayoutModel",
      "state": {
       "justify_content": "center"
      }
     },
     "0c95b687176f4c4fb0a417d34782b0fe": {
      "model_module": "@jupyter-widgets/base",
      "model_module_version": "1.2.0",
      "model_name": "LayoutModel",
      "state": {}
     },
     "0ce16efe8cc4437984f83e7a37a522be": {
      "model_module": "@jupyter-widgets/controls",
      "model_module_version": "1.5.0",
      "model_name": "HTMLModel",
      "state": {
       "layout": "IPY_MODEL_adadcd0d5fd54469ac92f87ed36804af",
       "style": "IPY_MODEL_70f5d7bb7f454b5d9edfb155b9041a53",
       "value": "<i>Wählen Sie die <ins>eine</ins> korrekte Antwort aus: </i>"
      }
     },
     "0d1456fd1d1e466c86ec5dad4f3dd34d": {
      "model_module": "@jupyter-widgets/base",
      "model_module_version": "1.2.0",
      "model_name": "LayoutModel",
      "state": {
       "justify_content": "center"
      }
     },
     "0d9798a72ff64a59bb941ff32858fbf3": {
      "model_module": "@jupyter-widgets/base",
      "model_module_version": "1.2.0",
      "model_name": "LayoutModel",
      "state": {
       "width": "250px"
      }
     },
     "0dba7e687fa14c81a28e8e9a99ee0098": {
      "model_module": "@jupyter-widgets/controls",
      "model_module_version": "1.5.0",
      "model_name": "HBoxModel",
      "state": {
       "children": [
        "IPY_MODEL_7243052366b04f0696cb05ef2f47b153",
        "IPY_MODEL_b382fc9f96dc4d459daf66c7fd944677"
       ],
       "layout": "IPY_MODEL_99ab52199c324262b9275d8b042cd5d2"
      }
     },
     "0e73401874ee4e08b178e9d41fa1fa3c": {
      "model_module": "@jupyter-widgets/base",
      "model_module_version": "1.2.0",
      "model_name": "LayoutModel",
      "state": {
       "width": "250px"
      }
     },
     "1041a994954f4efaae14bf7a85e74abc": {
      "model_module": "@jupyter-widgets/controls",
      "model_module_version": "1.5.0",
      "model_name": "HTMLModel",
      "state": {
       "layout": "IPY_MODEL_85a7c02c7485475baf60102475c1563b",
       "style": "IPY_MODEL_50394d0f1c544c8cac91de3102e310a6",
       "value": "<i>Wählen Sie die <ins>eine</ins> korrekte Antwort aus: </i>"
      }
     },
     "1058bbba54af4194ac92960f6a0e4539": {
      "model_module": "@jupyter-widgets/controls",
      "model_module_version": "1.5.0",
      "model_name": "HBoxModel",
      "state": {
       "children": [
        "IPY_MODEL_7a240d7f05a5430197777ff4e66ec166",
        "IPY_MODEL_f44f5c290f9748c3b995b98e262ea7a0"
       ],
       "layout": "IPY_MODEL_dbe71192545f414089c32294ed1c7387"
      }
     },
     "11f74a46496440df99035f007b0ca518": {
      "model_module": "@jupyter-widgets/base",
      "model_module_version": "1.2.0",
      "model_name": "LayoutModel",
      "state": {}
     },
     "135d0be6666c47a3ac651dc2fbdc521f": {
      "model_module": "@jupyter-widgets/controls",
      "model_module_version": "1.5.0",
      "model_name": "HTMLModel",
      "state": {
       "layout": "IPY_MODEL_244c3cbb6962415d9ccd092269ecd231",
       "style": "IPY_MODEL_e4ce2b78b28f4093ba538bde2db31916",
       "value": "<h4 style=\"font-size:14px;\">Unifizieren f2 und f3?</h4>"
      }
     },
     "153da9f0e1274246b6477777f2f7263a": {
      "model_module": "@jupyter-widgets/controls",
      "model_module_version": "1.5.0",
      "model_name": "HTMLModel",
      "state": {
       "layout": "IPY_MODEL_237fc72414b940deb5b816d3c4910d74",
       "style": "IPY_MODEL_38fb6716bfb449538813296e6138c8b3",
       "value": "<h4 style=\"font-size:14px;\">Unifizieren f2 und f4?</h4>"
      }
     },
     "1710f026d7424d9f8a700191aa7e5281": {
      "model_module": "@jupyter-widgets/base",
      "model_module_version": "1.2.0",
      "model_name": "LayoutModel",
      "state": {
       "width": "250px"
      }
     },
     "187f8152c6c74485bbda79880600ca9b": {
      "model_module": "@jupyter-widgets/controls",
      "model_module_version": "1.5.0",
      "model_name": "ButtonStyleModel",
      "state": {}
     },
     "18e17311c9ca4431bd14ec2736ffef53": {
      "model_module": "@jupyter-widgets/controls",
      "model_module_version": "1.5.0",
      "model_name": "ButtonModel",
      "state": {
       "description": "Ja",
       "layout": "IPY_MODEL_68ea674bd7454c2585fa6ba3f7a7bea6",
       "style": "IPY_MODEL_f24a7abddf66488785291efa47242bab"
      }
     },
     "1996d2cb8ccb4eba92332d2493ff63f5": {
      "model_module": "@jupyter-widgets/controls",
      "model_module_version": "1.5.0",
      "model_name": "VBoxModel",
      "state": {
       "children": [
        "IPY_MODEL_f4451e8182c2473e958c4daea3f14f54",
        "IPY_MODEL_c97e0996d5484e6f97355a581ec8a7c4",
        "IPY_MODEL_cb3ae06ff2dc44b9b310d6f49cd99229"
       ],
       "layout": "IPY_MODEL_77d24691bc4046f49161ad6a958ef516"
      }
     },
     "19f1e41e292d4c4fba040638d9ab16ca": {
      "model_module": "@jupyter-widgets/base",
      "model_module_version": "1.2.0",
      "model_name": "LayoutModel",
      "state": {
       "width": "250px"
      }
     },
     "1a4ea1579f774419b95dbc051b6cd80a": {
      "model_module": "@jupyter-widgets/controls",
      "model_module_version": "1.5.0",
      "model_name": "HTMLModel",
      "state": {
       "layout": "IPY_MODEL_55250d7f75c04d009963169fa3f7146b",
       "style": "IPY_MODEL_1c5851d721e947f58240e662c470787d",
       "value": "<h4 style=\"font-size:14px;\">Unifizieren f2 und f3?</h4>"
      }
     },
     "1a80ecb87d2442ee8856169a60c8d177": {
      "model_module": "@jupyter-widgets/controls",
      "model_module_version": "1.5.0",
      "model_name": "HBoxModel",
      "state": {
       "children": [
        "IPY_MODEL_d8485607fa124850b8dbed00545233cc",
        "IPY_MODEL_f24135418899438e8da47ebb34bb722e"
       ],
       "layout": "IPY_MODEL_8a414b7ea1b44db59bb77b17c12e0fc7"
      }
     },
     "1c5851d721e947f58240e662c470787d": {
      "model_module": "@jupyter-widgets/controls",
      "model_module_version": "1.5.0",
      "model_name": "DescriptionStyleModel",
      "state": {
       "description_width": ""
      }
     },
     "1d05b10c974c4bc4b0e0b03f4f600037": {
      "model_module": "@jupyter-widgets/controls",
      "model_module_version": "1.5.0",
      "model_name": "ButtonModel",
      "state": {
       "description": "Nein",
       "layout": "IPY_MODEL_59441256cea04b7c8948f10c3169b037",
       "style": "IPY_MODEL_21748836cb654e838d14d680a0848ffc"
      }
     },
     "1de22c6b3058455aacacf09c3eccca16": {
      "model_module": "@jupyter-widgets/controls",
      "model_module_version": "1.5.0",
      "model_name": "DescriptionStyleModel",
      "state": {
       "description_width": ""
      }
     },
     "1de42823e56c48b09b016a319d5eeca0": {
      "model_module": "@jupyter-widgets/controls",
      "model_module_version": "1.5.0",
      "model_name": "ButtonModel",
      "state": {
       "description": "Nein",
       "layout": "IPY_MODEL_a0401e50a9d6455d89c7241776b2d594",
       "style": "IPY_MODEL_efdd265926b446f79b03ee76192be766"
      }
     },
     "1edceb7947ed434cb8b01da364ee1c47": {
      "model_module": "@jupyter-widgets/controls",
      "model_module_version": "1.5.0",
      "model_name": "ButtonStyleModel",
      "state": {}
     },
     "1f19041f585340f19d10af7f21e45fb3": {
      "model_module": "@jupyter-widgets/base",
      "model_module_version": "1.2.0",
      "model_name": "LayoutModel",
      "state": {
       "justify_content": "center"
      }
     },
     "1f9b2ac5377249599356189c54cd2fe3": {
      "model_module": "@jupyter-widgets/base",
      "model_module_version": "1.2.0",
      "model_name": "LayoutModel",
      "state": {
       "width": "250px"
      }
     },
     "1fd3c24258834a02918367cfd015dca6": {
      "model_module": "@jupyter-widgets/controls",
      "model_module_version": "1.5.0",
      "model_name": "ButtonModel",
      "state": {
       "description": "Ja",
       "layout": "IPY_MODEL_0e73401874ee4e08b178e9d41fa1fa3c",
       "style": "IPY_MODEL_eab026e48d2146ae808acab3ab3cdf30"
      }
     },
     "2028e887f4b749f59d9c89ac60f809b0": {
      "model_module": "@jupyter-widgets/base",
      "model_module_version": "1.2.0",
      "model_name": "LayoutModel",
      "state": {
       "width": "250px"
      }
     },
     "212eb7d400914248a59a9806f395d657": {
      "model_module": "@jupyter-widgets/controls",
      "model_module_version": "1.5.0",
      "model_name": "DescriptionStyleModel",
      "state": {
       "description_width": ""
      }
     },
     "2142817a9eae4e9cb61b6bdb64f15b90": {
      "model_module": "@jupyter-widgets/controls",
      "model_module_version": "1.5.0",
      "model_name": "DescriptionStyleModel",
      "state": {
       "description_width": ""
      }
     },
     "21748836cb654e838d14d680a0848ffc": {
      "model_module": "@jupyter-widgets/controls",
      "model_module_version": "1.5.0",
      "model_name": "ButtonStyleModel",
      "state": {}
     },
     "223db965b600457ca664d10914f00397": {
      "model_module": "@jupyter-widgets/base",
      "model_module_version": "1.2.0",
      "model_name": "LayoutModel",
      "state": {}
     },
     "224e1999320c4f9f82857b4e8e60f4c3": {
      "model_module": "@jupyter-widgets/controls",
      "model_module_version": "1.5.0",
      "model_name": "HBoxModel",
      "state": {
       "children": [
        "IPY_MODEL_df6d6b7dd1e44417bcef34e3ae5e95a0",
        "IPY_MODEL_6d5fe147e4cf43f8ada8c43cab26e037"
       ],
       "layout": "IPY_MODEL_cab90c0632974448bd58579352608119"
      }
     },
     "22af9f14d09e415f9959b2d0a7ab5afc": {
      "model_module": "@jupyter-widgets/controls",
      "model_module_version": "1.5.0",
      "model_name": "HBoxModel",
      "state": {
       "children": [
        "IPY_MODEL_8e0b61ed9a4f48b3b8a9634d51351340",
        "IPY_MODEL_c84ef9ab7e6b4afba6ae6a2e18931e5b"
       ],
       "layout": "IPY_MODEL_589c006b5cfd4f3295cf0d880e7dc44c"
      }
     },
     "237fc72414b940deb5b816d3c4910d74": {
      "model_module": "@jupyter-widgets/base",
      "model_module_version": "1.2.0",
      "model_name": "LayoutModel",
      "state": {
       "justify_content": "center"
      }
     },
     "244c3cbb6962415d9ccd092269ecd231": {
      "model_module": "@jupyter-widgets/base",
      "model_module_version": "1.2.0",
      "model_name": "LayoutModel",
      "state": {
       "justify_content": "center"
      }
     },
     "26e7b0f790c34e10a6fcdd2855190242": {
      "model_module": "@jupyter-widgets/base",
      "model_module_version": "1.2.0",
      "model_name": "LayoutModel",
      "state": {}
     },
     "28a53cb6f029493d878708328e5f0077": {
      "model_module": "@jupyter-widgets/controls",
      "model_module_version": "1.5.0",
      "model_name": "HBoxModel",
      "state": {
       "children": [
        "IPY_MODEL_093c5b187f8f441c8e586167edb17b6e",
        "IPY_MODEL_bac6e496597049ec83b8d71afe003b22"
       ],
       "layout": "IPY_MODEL_223db965b600457ca664d10914f00397"
      }
     },
     "28fda81e53444b7a911a686cdb6e3c9d": {
      "model_module": "@jupyter-widgets/base",
      "model_module_version": "1.2.0",
      "model_name": "LayoutModel",
      "state": {}
     },
     "2965765a584a4bebba2beca7d2034a90": {
      "model_module": "@jupyter-widgets/controls",
      "model_module_version": "1.5.0",
      "model_name": "ButtonModel",
      "state": {
       "description": "Ja",
       "layout": "IPY_MODEL_0d9798a72ff64a59bb941ff32858fbf3",
       "style": "IPY_MODEL_187f8152c6c74485bbda79880600ca9b"
      }
     },
     "29c67778a5df41a8b529ac5ca35113f1": {
      "model_module": "@jupyter-widgets/base",
      "model_module_version": "1.2.0",
      "model_name": "LayoutModel",
      "state": {}
     },
     "2b16ea3f52664f6bb61e111994b0e079": {
      "model_module": "@jupyter-widgets/controls",
      "model_module_version": "1.5.0",
      "model_name": "ButtonModel",
      "state": {
       "description": "Nein",
       "layout": "IPY_MODEL_fbe43849cb444408acb9893fcb5506d5",
       "style": "IPY_MODEL_eb57dcd1c52146d48beb1ca823ae80bd"
      }
     },
     "2d5dea65066340a88c4c80484cc43736": {
      "model_module": "@jupyter-widgets/base",
      "model_module_version": "1.2.0",
      "model_name": "LayoutModel",
      "state": {
       "width": "250px"
      }
     },
     "2dde9f6f47b54c6e866992d9dbadeb61": {
      "model_module": "@jupyter-widgets/controls",
      "model_module_version": "1.5.0",
      "model_name": "DescriptionStyleModel",
      "state": {
       "description_width": ""
      }
     },
     "2ed352c4fa2d42f781ebdcf513003721": {
      "model_module": "@jupyter-widgets/base",
      "model_module_version": "1.2.0",
      "model_name": "LayoutModel",
      "state": {
       "width": "250px"
      }
     },
     "31af88a1bed241da988680296867d8b1": {
      "model_module": "@jupyter-widgets/controls",
      "model_module_version": "1.5.0",
      "model_name": "DescriptionStyleModel",
      "state": {
       "description_width": ""
      }
     },
     "33c9b8ec6dca49a2acd35689563133c5": {
      "model_module": "@jupyter-widgets/controls",
      "model_module_version": "1.5.0",
      "model_name": "ButtonStyleModel",
      "state": {}
     },
     "33fd2cadb60546aa85d52c7aa63f1ffd": {
      "model_module": "@jupyter-widgets/base",
      "model_module_version": "1.2.0",
      "model_name": "LayoutModel",
      "state": {}
     },
     "348d59a5c7f24da5a03d464b26f4d439": {
      "model_module": "@jupyter-widgets/controls",
      "model_module_version": "1.5.0",
      "model_name": "ButtonStyleModel",
      "state": {}
     },
     "36bb600cb7ab4d56b0f36338e040ee2d": {
      "model_module": "@jupyter-widgets/controls",
      "model_module_version": "1.5.0",
      "model_name": "HTMLModel",
      "state": {
       "layout": "IPY_MODEL_dbd63cdef9d144d2aaf510732ef66117",
       "style": "IPY_MODEL_9816d215d5c945dca6aa64981ad66b7f",
       "value": "<h4 style=\"font-size:14px;\">Unifizieren f1 und f2?</h4>"
      }
     },
     "36de11f808c2437ba3cdd8ccab20110e": {
      "model_module": "@jupyter-widgets/controls",
      "model_module_version": "1.5.0",
      "model_name": "DescriptionStyleModel",
      "state": {
       "description_width": ""
      }
     },
     "36e46433ade14aebaaadfdfc9db0e91d": {
      "model_module": "@jupyter-widgets/controls",
      "model_module_version": "1.5.0",
      "model_name": "DescriptionStyleModel",
      "state": {
       "description_width": ""
      }
     },
     "376668bab84546bb8e4036b09ec262b4": {
      "model_module": "@jupyter-widgets/controls",
      "model_module_version": "1.5.0",
      "model_name": "ButtonStyleModel",
      "state": {}
     },
     "387317a252e04421b236517a74ae88e5": {
      "model_module": "@jupyter-widgets/controls",
      "model_module_version": "1.5.0",
      "model_name": "DescriptionStyleModel",
      "state": {
       "description_width": ""
      }
     },
     "38fb6716bfb449538813296e6138c8b3": {
      "model_module": "@jupyter-widgets/controls",
      "model_module_version": "1.5.0",
      "model_name": "DescriptionStyleModel",
      "state": {
       "description_width": ""
      }
     },
     "3a6d07f4366e451097a96e08f7320e94": {
      "model_module": "@jupyter-widgets/controls",
      "model_module_version": "1.5.0",
      "model_name": "ButtonStyleModel",
      "state": {}
     },
     "3b492b2e3fcc4945802a85315cb411c3": {
      "model_module": "@jupyter-widgets/base",
      "model_module_version": "1.2.0",
      "model_name": "LayoutModel",
      "state": {
       "justify_content": "center"
      }
     },
     "3bf9a6c7ad9f4039aec27a899e6f3519": {
      "model_module": "@jupyter-widgets/controls",
      "model_module_version": "1.5.0",
      "model_name": "ButtonStyleModel",
      "state": {}
     },
     "3e3a77c8b07243ee89adb90849874385": {
      "model_module": "@jupyter-widgets/base",
      "model_module_version": "1.2.0",
      "model_name": "LayoutModel",
      "state": {
       "justify_content": "center"
      }
     },
     "3e7b5591464247429b47610c6afebed0": {
      "model_module": "@jupyter-widgets/controls",
      "model_module_version": "1.5.0",
      "model_name": "HTMLModel",
      "state": {
       "layout": "IPY_MODEL_7ec0fabc9b7e499ba352b08e56ff5cb1",
       "style": "IPY_MODEL_53aa7ac8a4624cac872251b0d3254b96",
       "value": "<h4 style=\"font-size:14px;\">Unifizieren f1 und f4?</h4>"
      }
     },
     "403346e66fe8431f8d2bb1405e38f3d8": {
      "model_module": "@jupyter-widgets/base",
      "model_module_version": "1.2.0",
      "model_name": "LayoutModel",
      "state": {}
     },
     "40f6eb1b49884781961b45b10108288d": {
      "model_module": "@jupyter-widgets/controls",
      "model_module_version": "1.5.0",
      "model_name": "ButtonStyleModel",
      "state": {}
     },
     "413f683bdc9c41cd9e392bfdf865ee22": {
      "model_module": "@jupyter-widgets/base",
      "model_module_version": "1.2.0",
      "model_name": "LayoutModel",
      "state": {
       "justify_content": "center"
      }
     },
     "4156ffd66fe9468f906df52737eca74d": {
      "model_module": "@jupyter-widgets/controls",
      "model_module_version": "1.5.0",
      "model_name": "ButtonModel",
      "state": {
       "description": "Nein",
       "layout": "IPY_MODEL_516a45c8a2a641bca2fdce894b39562f",
       "style": "IPY_MODEL_e8054b44be4a4d9a87b73e2d73d6a6bc"
      }
     },
     "44197b19183049bc86a53fb219a322e2": {
      "model_module": "@jupyter-widgets/controls",
      "model_module_version": "1.5.0",
      "model_name": "DescriptionStyleModel",
      "state": {
       "description_width": ""
      }
     },
     "475f192fac4d46018ac3d0e639eb6a1e": {
      "model_module": "@jupyter-widgets/base",
      "model_module_version": "1.2.0",
      "model_name": "LayoutModel",
      "state": {
       "justify_content": "center"
      }
     },
     "4899112a68f84c9884a8f884e624d403": {
      "model_module": "@jupyter-widgets/controls",
      "model_module_version": "1.5.0",
      "model_name": "VBoxModel",
      "state": {
       "children": [
        "IPY_MODEL_135d0be6666c47a3ac651dc2fbdc521f",
        "IPY_MODEL_71f6babd81844b44b43bfc1baff2da62",
        "IPY_MODEL_00528c5ef6f946c0a04362c98e15b5e6"
       ],
       "layout": "IPY_MODEL_4b2d19d8710b4a3bb3ab716252fd3d57"
      }
     },
     "4b2d19d8710b4a3bb3ab716252fd3d57": {
      "model_module": "@jupyter-widgets/base",
      "model_module_version": "1.2.0",
      "model_name": "LayoutModel",
      "state": {}
     },
     "50394d0f1c544c8cac91de3102e310a6": {
      "model_module": "@jupyter-widgets/controls",
      "model_module_version": "1.5.0",
      "model_name": "DescriptionStyleModel",
      "state": {
       "description_width": ""
      }
     },
     "50c1080d9dc74ea49169c9729e2fbb51": {
      "model_module": "@jupyter-widgets/base",
      "model_module_version": "1.2.0",
      "model_name": "LayoutModel",
      "state": {
       "width": "250px"
      }
     },
     "516a45c8a2a641bca2fdce894b39562f": {
      "model_module": "@jupyter-widgets/base",
      "model_module_version": "1.2.0",
      "model_name": "LayoutModel",
      "state": {
       "width": "250px"
      }
     },
     "52f95c5aeed44b6f9d968e77838e99af": {
      "model_module": "@jupyter-widgets/base",
      "model_module_version": "1.2.0",
      "model_name": "LayoutModel",
      "state": {}
     },
     "53aa7ac8a4624cac872251b0d3254b96": {
      "model_module": "@jupyter-widgets/controls",
      "model_module_version": "1.5.0",
      "model_name": "DescriptionStyleModel",
      "state": {
       "description_width": ""
      }
     },
     "55250d7f75c04d009963169fa3f7146b": {
      "model_module": "@jupyter-widgets/base",
      "model_module_version": "1.2.0",
      "model_name": "LayoutModel",
      "state": {
       "justify_content": "center"
      }
     },
     "5742ea65b82b4a9691d6c127c590bde6": {
      "model_module": "@jupyter-widgets/controls",
      "model_module_version": "1.5.0",
      "model_name": "ButtonStyleModel",
      "state": {}
     },
     "589c006b5cfd4f3295cf0d880e7dc44c": {
      "model_module": "@jupyter-widgets/base",
      "model_module_version": "1.2.0",
      "model_name": "LayoutModel",
      "state": {}
     },
     "59441256cea04b7c8948f10c3169b037": {
      "model_module": "@jupyter-widgets/base",
      "model_module_version": "1.2.0",
      "model_name": "LayoutModel",
      "state": {
       "width": "250px"
      }
     },
     "5a1be7ce44634285918fc2f7058425b1": {
      "model_module": "@jupyter-widgets/base",
      "model_module_version": "1.2.0",
      "model_name": "LayoutModel",
      "state": {
       "justify_content": "center"
      }
     },
     "5ab22ef60fb84579be25cf67ebc5d777": {
      "model_module": "@jupyter-widgets/controls",
      "model_module_version": "1.5.0",
      "model_name": "HBoxModel",
      "state": {
       "children": [
        "IPY_MODEL_1fd3c24258834a02918367cfd015dca6",
        "IPY_MODEL_df17b6538f3245c0a0ca45ff5c52e298"
       ],
       "layout": "IPY_MODEL_f8b589e2bc62461b80ae88271deb1000"
      }
     },
     "5eed9b53ac90497f95368be13def90e3": {
      "model_module": "@jupyter-widgets/base",
      "model_module_version": "1.2.0",
      "model_name": "LayoutModel",
      "state": {
       "justify_content": "center"
      }
     },
     "5f5054a28ff549ee98a08ce07bc7528b": {
      "model_module": "@jupyter-widgets/controls",
      "model_module_version": "1.5.0",
      "model_name": "HTMLModel",
      "state": {
       "layout": "IPY_MODEL_03b0f4c48b4942cea913d1d79fceadd8",
       "style": "IPY_MODEL_2142817a9eae4e9cb61b6bdb64f15b90",
       "value": "<i>Wählen Sie die <ins>eine</ins> korrekte Antwort aus: </i>"
      }
     },
     "6064c6bf90864eddac3fc63d59fb47c8": {
      "model_module": "@jupyter-widgets/base",
      "model_module_version": "1.2.0",
      "model_name": "LayoutModel",
      "state": {
       "width": "250px"
      }
     },
     "64c1047ecfbe444a93839289a5799b93": {
      "model_module": "@jupyter-widgets/controls",
      "model_module_version": "1.5.0",
      "model_name": "DescriptionStyleModel",
      "state": {
       "description_width": ""
      }
     },
     "64d21c03af154514a210c7f7fe2afaf6": {
      "model_module": "@jupyter-widgets/base",
      "model_module_version": "1.2.0",
      "model_name": "LayoutModel",
      "state": {
       "justify_content": "center"
      }
     },
     "656a62338b9842b7b932fa92090df36e": {
      "model_module": "@jupyter-widgets/controls",
      "model_module_version": "1.5.0",
      "model_name": "HBoxModel",
      "state": {
       "children": [
        "IPY_MODEL_8646d902261649bb90fcefd60e13ab26",
        "IPY_MODEL_1d05b10c974c4bc4b0e0b03f4f600037"
       ],
       "layout": "IPY_MODEL_0c95b687176f4c4fb0a417d34782b0fe"
      }
     },
     "670f0125ebaf403e973cd3eebd4fd081": {
      "model_module": "@jupyter-widgets/base",
      "model_module_version": "1.2.0",
      "model_name": "LayoutModel",
      "state": {
       "width": "250px"
      }
     },
     "681e5765872248c4983ec54ad12072f3": {
      "model_module": "@jupyter-widgets/controls",
      "model_module_version": "1.5.0",
      "model_name": "HTMLModel",
      "state": {
       "layout": "IPY_MODEL_7da613097191425097968b0c905de7d7",
       "style": "IPY_MODEL_830d0f064e1748509a7864ca355f3f5a",
       "value": "<i>Wählen Sie die <ins>eine</ins> korrekte Antwort aus: </i>"
      }
     },
     "6877fb7fc47a45d78982be92c2d6e6e1": {
      "model_module": "@jupyter-widgets/base",
      "model_module_version": "1.2.0",
      "model_name": "LayoutModel",
      "state": {
       "justify_content": "center"
      }
     },
     "68ea674bd7454c2585fa6ba3f7a7bea6": {
      "model_module": "@jupyter-widgets/base",
      "model_module_version": "1.2.0",
      "model_name": "LayoutModel",
      "state": {
       "width": "250px"
      }
     },
     "6b82fdf1164a4ba9af77abc87c450fca": {
      "model_module": "@jupyter-widgets/controls",
      "model_module_version": "1.5.0",
      "model_name": "VBoxModel",
      "state": {
       "children": [
        "IPY_MODEL_3e7b5591464247429b47610c6afebed0",
        "IPY_MODEL_944fef3d1378473e91f5ebb21a43a991",
        "IPY_MODEL_0dba7e687fa14c81a28e8e9a99ee0098"
       ],
       "layout": "IPY_MODEL_dbd149e9db2340c0a986ceb8c64dadc0"
      }
     },
     "6bb19c14f3ff4d0aa2e24ae3f2af0edb": {
      "model_module": "@jupyter-widgets/controls",
      "model_module_version": "1.5.0",
      "model_name": "VBoxModel",
      "state": {
       "children": [
        "IPY_MODEL_b56a6c47a97449d9b5f9cbc20ae523ca",
        "IPY_MODEL_0ce16efe8cc4437984f83e7a37a522be",
        "IPY_MODEL_a5b92f4a310c4784b9e89dc64550f907"
       ],
       "layout": "IPY_MODEL_067971efd5094d6193877201baf9ca6a"
      }
     },
     "6c67c0d1be034ffe99eebfe9eee8233b": {
      "model_module": "@jupyter-widgets/controls",
      "model_module_version": "1.5.0",
      "model_name": "HBoxModel",
      "state": {
       "children": [
        "IPY_MODEL_c4db22198cd34d64995dacc2535bcb21",
        "IPY_MODEL_e7778807082a48e09b3ca0b3db5db7f3"
       ],
       "layout": "IPY_MODEL_403346e66fe8431f8d2bb1405e38f3d8"
      }
     },
     "6d5fe147e4cf43f8ada8c43cab26e037": {
      "model_module": "@jupyter-widgets/controls",
      "model_module_version": "1.5.0",
      "model_name": "ButtonModel",
      "state": {
       "description": "Nein",
       "layout": "IPY_MODEL_f7b6cf6546984f66825b29aaffe153ad",
       "style": "IPY_MODEL_f2e576d4b6e34b80885eaa99325b1a40"
      }
     },
     "6d6e854d61b04b3e95eb641b373de5b2": {
      "model_module": "@jupyter-widgets/base",
      "model_module_version": "1.2.0",
      "model_name": "LayoutModel",
      "state": {}
     },
     "6d71ccba379043dcb4af351f1d168efd": {
      "model_module": "@jupyter-widgets/base",
      "model_module_version": "1.2.0",
      "model_name": "LayoutModel",
      "state": {}
     },
     "6dd1e33712584c8f94aac47f14c38d4b": {
      "model_module": "@jupyter-widgets/controls",
      "model_module_version": "1.5.0",
      "model_name": "DescriptionStyleModel",
      "state": {
       "description_width": ""
      }
     },
     "70e1806c8f5e45e29c2696c491cdff18": {
      "model_module": "@jupyter-widgets/controls",
      "model_module_version": "1.5.0",
      "model_name": "ButtonStyleModel",
      "state": {}
     },
     "70f5d7bb7f454b5d9edfb155b9041a53": {
      "model_module": "@jupyter-widgets/controls",
      "model_module_version": "1.5.0",
      "model_name": "DescriptionStyleModel",
      "state": {
       "description_width": ""
      }
     },
     "71f6babd81844b44b43bfc1baff2da62": {
      "model_module": "@jupyter-widgets/controls",
      "model_module_version": "1.5.0",
      "model_name": "HTMLModel",
      "state": {
       "layout": "IPY_MODEL_efab3c4bd3f44ddd90bcb91aed7b2d6e",
       "style": "IPY_MODEL_a7be52ae01ba408ebcb032ba22d0629a",
       "value": "<i>Wählen Sie die <ins>eine</ins> korrekte Antwort aus: </i>"
      }
     },
     "7243052366b04f0696cb05ef2f47b153": {
      "model_module": "@jupyter-widgets/controls",
      "model_module_version": "1.5.0",
      "model_name": "ButtonModel",
      "state": {
       "description": "Ja",
       "layout": "IPY_MODEL_93a9146b0ad64c47ab097bcf1a0d7da4",
       "style": "IPY_MODEL_d3fce2750481416eb36ba8800f70b0c1"
      }
     },
     "73cd5859a2414c108cc59510f927c402": {
      "model_module": "@jupyter-widgets/controls",
      "model_module_version": "1.5.0",
      "model_name": "VBoxModel",
      "state": {
       "children": [
        "IPY_MODEL_84636dc0bb9945fe94c0f338d31da1bd",
        "IPY_MODEL_ca7228d6761944cea9373e91addc92c7",
        "IPY_MODEL_28a53cb6f029493d878708328e5f0077"
       ],
       "layout": "IPY_MODEL_52f95c5aeed44b6f9d968e77838e99af"
      }
     },
     "75abfe1d2c3d4598bdba648683835908": {
      "model_module": "@jupyter-widgets/controls",
      "model_module_version": "1.5.0",
      "model_name": "HTMLModel",
      "state": {
       "layout": "IPY_MODEL_0b8ae2abfdf546be96142e17a98fab7c",
       "style": "IPY_MODEL_1de22c6b3058455aacacf09c3eccca16",
       "value": "<i>Wählen Sie die <ins>eine</ins> korrekte Antwort aus: </i>"
      }
     },
     "77d24691bc4046f49161ad6a958ef516": {
      "model_module": "@jupyter-widgets/base",
      "model_module_version": "1.2.0",
      "model_name": "LayoutModel",
      "state": {}
     },
     "77dee4d9d6794a4b90a035b63dafb505": {
      "model_module": "@jupyter-widgets/base",
      "model_module_version": "1.2.0",
      "model_name": "LayoutModel",
      "state": {}
     },
     "7a240d7f05a5430197777ff4e66ec166": {
      "model_module": "@jupyter-widgets/controls",
      "model_module_version": "1.5.0",
      "model_name": "ButtonModel",
      "state": {
       "description": "Ja",
       "layout": "IPY_MODEL_cee198ee6d204f2b829793b913ecd6e6",
       "style": "IPY_MODEL_70e1806c8f5e45e29c2696c491cdff18"
      }
     },
     "7b1f0c77094b4c29b80d66cf26ca5672": {
      "model_module": "@jupyter-widgets/controls",
      "model_module_version": "1.5.0",
      "model_name": "ButtonStyleModel",
      "state": {}
     },
     "7b22540755404a0d90daf0a57e63ce76": {
      "model_module": "@jupyter-widgets/controls",
      "model_module_version": "1.5.0",
      "model_name": "DescriptionStyleModel",
      "state": {
       "description_width": ""
      }
     },
     "7da613097191425097968b0c905de7d7": {
      "model_module": "@jupyter-widgets/base",
      "model_module_version": "1.2.0",
      "model_name": "LayoutModel",
      "state": {
       "justify_content": "center"
      }
     },
     "7e23466f34224978bbb371c839930579": {
      "model_module": "@jupyter-widgets/base",
      "model_module_version": "1.2.0",
      "model_name": "LayoutModel",
      "state": {
       "justify_content": "center"
      }
     },
     "7ec0fabc9b7e499ba352b08e56ff5cb1": {
      "model_module": "@jupyter-widgets/base",
      "model_module_version": "1.2.0",
      "model_name": "LayoutModel",
      "state": {
       "justify_content": "center"
      }
     },
     "7fb4c7e5f88b4c45bd8804ab39d47189": {
      "model_module": "@jupyter-widgets/controls",
      "model_module_version": "1.5.0",
      "model_name": "ButtonModel",
      "state": {
       "description": "Ja",
       "layout": "IPY_MODEL_eb321bc643a24486bfd04221a9f2426c",
       "style": "IPY_MODEL_05ad098a00d64e2c953edfb6762f6afa"
      }
     },
     "7fc8d34c52c148848ee1eab56d7a36a4": {
      "model_module": "@jupyter-widgets/base",
      "model_module_version": "1.2.0",
      "model_name": "LayoutModel",
      "state": {
       "justify_content": "center"
      }
     },
     "817b825cfb754f38a406dd765808029b": {
      "model_module": "@jupyter-widgets/base",
      "model_module_version": "1.2.0",
      "model_name": "LayoutModel",
      "state": {}
     },
     "830d0f064e1748509a7864ca355f3f5a": {
      "model_module": "@jupyter-widgets/controls",
      "model_module_version": "1.5.0",
      "model_name": "DescriptionStyleModel",
      "state": {
       "description_width": ""
      }
     },
     "83d9818378d241fc8cde0a34ccf63287": {
      "model_module": "@jupyter-widgets/controls",
      "model_module_version": "1.5.0",
      "model_name": "ButtonModel",
      "state": {
       "description": "Ja",
       "layout": "IPY_MODEL_2d5dea65066340a88c4c80484cc43736",
       "style": "IPY_MODEL_fb1b8d50615846e19a44453fbaf3414a"
      }
     },
     "83f4b81528804fc583c2fe549cf21fcd": {
      "model_module": "@jupyter-widgets/controls",
      "model_module_version": "1.5.0",
      "model_name": "VBoxModel",
      "state": {
       "children": [
        "IPY_MODEL_b02b10b64a064bc5a52823b1d421107b",
        "IPY_MODEL_5f5054a28ff549ee98a08ce07bc7528b",
        "IPY_MODEL_98c8734b5c2d4a4a95dc58a9c92e65ef"
       ],
       "layout": "IPY_MODEL_cee5f1af523e45769891a4d4ea5105b7"
      }
     },
     "844e5248d1b64411b2d827d2377be301": {
      "model_module": "@jupyter-widgets/controls",
      "model_module_version": "1.5.0",
      "model_name": "HTMLModel",
      "state": {
       "layout": "IPY_MODEL_6877fb7fc47a45d78982be92c2d6e6e1",
       "style": "IPY_MODEL_c78342684743466c8092ac1c47da7b16",
       "value": "<i>Wählen Sie die <ins>eine</ins> korrekte Antwort aus: </i>"
      }
     },
     "84636dc0bb9945fe94c0f338d31da1bd": {
      "model_module": "@jupyter-widgets/controls",
      "model_module_version": "1.5.0",
      "model_name": "HTMLModel",
      "state": {
       "layout": "IPY_MODEL_a26f46373d0b43a384b4b30353d3d64a",
       "style": "IPY_MODEL_387317a252e04421b236517a74ae88e5",
       "value": "<h4 style=\"font-size:14px;\">Unifizieren f2 und f4?</h4>"
      }
     },
     "8486255685374f45a41705f214573802": {
      "model_module": "@jupyter-widgets/base",
      "model_module_version": "1.2.0",
      "model_name": "LayoutModel",
      "state": {
       "width": "250px"
      }
     },
     "85a7c02c7485475baf60102475c1563b": {
      "model_module": "@jupyter-widgets/base",
      "model_module_version": "1.2.0",
      "model_name": "LayoutModel",
      "state": {
       "justify_content": "center"
      }
     },
     "8646d902261649bb90fcefd60e13ab26": {
      "model_module": "@jupyter-widgets/controls",
      "model_module_version": "1.5.0",
      "model_name": "ButtonModel",
      "state": {
       "description": "Ja",
       "layout": "IPY_MODEL_2028e887f4b749f59d9c89ac60f809b0",
       "style": "IPY_MODEL_d7f6cc7888464af0aed21f6d26d7a7e3"
      }
     },
     "874201e1e27b418594786bf67afa65fa": {
      "model_module": "@jupyter-widgets/controls",
      "model_module_version": "1.5.0",
      "model_name": "HTMLModel",
      "state": {
       "layout": "IPY_MODEL_e0f917a439c640678d0b5668a9913f9a",
       "style": "IPY_MODEL_9b836f0c288d4a07b7b8a706f015ecf9",
       "value": "<i>Wählen Sie die <ins>eine</ins> korrekte Antwort aus: </i>"
      }
     },
     "8a15a834a69540d58f9c02b50e26a714": {
      "model_module": "@jupyter-widgets/controls",
      "model_module_version": "1.5.0",
      "model_name": "VBoxModel",
      "state": {
       "children": [
        "IPY_MODEL_07865fe943f443f0b94ebe89125a1634",
        "IPY_MODEL_1041a994954f4efaae14bf7a85e74abc",
        "IPY_MODEL_a473272d79da422fb81dd33f45f54e65"
       ],
       "layout": "IPY_MODEL_29c67778a5df41a8b529ac5ca35113f1"
      }
     },
     "8a414b7ea1b44db59bb77b17c12e0fc7": {
      "model_module": "@jupyter-widgets/base",
      "model_module_version": "1.2.0",
      "model_name": "LayoutModel",
      "state": {}
     },
     "8c8420c3ee824fe2ae963312ac480de7": {
      "model_module": "@jupyter-widgets/controls",
      "model_module_version": "1.5.0",
      "model_name": "ButtonModel",
      "state": {
       "description": "Nein",
       "layout": "IPY_MODEL_e7dcb4269cd947369f099763f6b070c5",
       "style": "IPY_MODEL_0100289e5fd94d7f8d6d6a33da069f90"
      }
     },
     "8da63c97ce0c47e8aea5255bdbc0daba": {
      "model_module": "@jupyter-widgets/base",
      "model_module_version": "1.2.0",
      "model_name": "LayoutModel",
      "state": {}
     },
     "8e0b61ed9a4f48b3b8a9634d51351340": {
      "model_module": "@jupyter-widgets/controls",
      "model_module_version": "1.5.0",
      "model_name": "ButtonModel",
      "state": {
       "description": "Ja",
       "layout": "IPY_MODEL_1710f026d7424d9f8a700191aa7e5281",
       "style": "IPY_MODEL_a18f66326f734bc19833a5f4556f569b"
      }
     },
     "904d09910a5149f6ad9384b695673cb4": {
      "model_module": "@jupyter-widgets/base",
      "model_module_version": "1.2.0",
      "model_name": "LayoutModel",
      "state": {
       "width": "250px"
      }
     },
     "9137f2a8f87748929f31450af7a62947": {
      "model_module": "@jupyter-widgets/base",
      "model_module_version": "1.2.0",
      "model_name": "LayoutModel",
      "state": {}
     },
     "92b2f66b1c514da199f631190ea955e7": {
      "model_module": "@jupyter-widgets/controls",
      "model_module_version": "1.5.0",
      "model_name": "HBoxModel",
      "state": {
       "children": [
        "IPY_MODEL_83d9818378d241fc8cde0a34ccf63287",
        "IPY_MODEL_c248b8dc27e44c77a484a3b3c8527958"
       ],
       "layout": "IPY_MODEL_e957a840624943198aaedc51687c8cf4"
      }
     },
     "93a9146b0ad64c47ab097bcf1a0d7da4": {
      "model_module": "@jupyter-widgets/base",
      "model_module_version": "1.2.0",
      "model_name": "LayoutModel",
      "state": {
       "width": "250px"
      }
     },
     "944fef3d1378473e91f5ebb21a43a991": {
      "model_module": "@jupyter-widgets/controls",
      "model_module_version": "1.5.0",
      "model_name": "HTMLModel",
      "state": {
       "layout": "IPY_MODEL_c1ea92c3882b4e6e909a9f4784759dad",
       "style": "IPY_MODEL_b217ce0ee45c40ae8dc5f2a724a0f567",
       "value": "<i>Wählen Sie die <ins>eine</ins> korrekte Antwort aus: </i>"
      }
     },
     "9816d215d5c945dca6aa64981ad66b7f": {
      "model_module": "@jupyter-widgets/controls",
      "model_module_version": "1.5.0",
      "model_name": "DescriptionStyleModel",
      "state": {
       "description_width": ""
      }
     },
     "98c8734b5c2d4a4a95dc58a9c92e65ef": {
      "model_module": "@jupyter-widgets/controls",
      "model_module_version": "1.5.0",
      "model_name": "HBoxModel",
      "state": {
       "children": [
        "IPY_MODEL_2965765a584a4bebba2beca7d2034a90",
        "IPY_MODEL_a177221bbec14915ad3b50196323e002"
       ],
       "layout": "IPY_MODEL_8da63c97ce0c47e8aea5255bdbc0daba"
      }
     },
     "99ab52199c324262b9275d8b042cd5d2": {
      "model_module": "@jupyter-widgets/base",
      "model_module_version": "1.2.0",
      "model_name": "LayoutModel",
      "state": {}
     },
     "9b836f0c288d4a07b7b8a706f015ecf9": {
      "model_module": "@jupyter-widgets/controls",
      "model_module_version": "1.5.0",
      "model_name": "DescriptionStyleModel",
      "state": {
       "description_width": ""
      }
     },
     "9f85f9446e1946bdb51bf84076043b83": {
      "model_module": "@jupyter-widgets/controls",
      "model_module_version": "1.5.0",
      "model_name": "ButtonStyleModel",
      "state": {}
     },
     "a0401e50a9d6455d89c7241776b2d594": {
      "model_module": "@jupyter-widgets/base",
      "model_module_version": "1.2.0",
      "model_name": "LayoutModel",
      "state": {
       "width": "250px"
      }
     },
     "a177221bbec14915ad3b50196323e002": {
      "model_module": "@jupyter-widgets/controls",
      "model_module_version": "1.5.0",
      "model_name": "ButtonModel",
      "state": {
       "description": "Nein",
       "layout": "IPY_MODEL_fcc36522fa6147f094fea30a483506b8",
       "style": "IPY_MODEL_40f6eb1b49884781961b45b10108288d"
      }
     },
     "a18f66326f734bc19833a5f4556f569b": {
      "model_module": "@jupyter-widgets/controls",
      "model_module_version": "1.5.0",
      "model_name": "ButtonStyleModel",
      "state": {}
     },
     "a26f46373d0b43a384b4b30353d3d64a": {
      "model_module": "@jupyter-widgets/base",
      "model_module_version": "1.2.0",
      "model_name": "LayoutModel",
      "state": {
       "justify_content": "center"
      }
     },
     "a41bd6b17f4f439c8aa6f46a20d8b335": {
      "model_module": "@jupyter-widgets/base",
      "model_module_version": "1.2.0",
      "model_name": "LayoutModel",
      "state": {
       "justify_content": "center"
      }
     },
     "a473272d79da422fb81dd33f45f54e65": {
      "model_module": "@jupyter-widgets/controls",
      "model_module_version": "1.5.0",
      "model_name": "HBoxModel",
      "state": {
       "children": [
        "IPY_MODEL_bb5c98420b004a34985de8193ae0e573",
        "IPY_MODEL_4156ffd66fe9468f906df52737eca74d"
       ],
       "layout": "IPY_MODEL_6d71ccba379043dcb4af351f1d168efd"
      }
     },
     "a5b92f4a310c4784b9e89dc64550f907": {
      "model_module": "@jupyter-widgets/controls",
      "model_module_version": "1.5.0",
      "model_name": "HBoxModel",
      "state": {
       "children": [
        "IPY_MODEL_d9ed9a6647504b9cad24a265917671cb",
        "IPY_MODEL_035748e536c24ef4a494ef217cb3e9ac"
       ],
       "layout": "IPY_MODEL_6d6e854d61b04b3e95eb641b373de5b2"
      }
     },
     "a5fe57ff65f84ba3990bab11afa1b77f": {
      "model_module": "@jupyter-widgets/base",
      "model_module_version": "1.2.0",
      "model_name": "LayoutModel",
      "state": {
       "justify_content": "center"
      }
     },
     "a69494b91c374f64b9d19b0355c5a00c": {
      "model_module": "@jupyter-widgets/controls",
      "model_module_version": "1.5.0",
      "model_name": "DescriptionStyleModel",
      "state": {
       "description_width": ""
      }
     },
     "a7be52ae01ba408ebcb032ba22d0629a": {
      "model_module": "@jupyter-widgets/controls",
      "model_module_version": "1.5.0",
      "model_name": "DescriptionStyleModel",
      "state": {
       "description_width": ""
      }
     },
     "acec30d5e4e948aabdc9283e492a9178": {
      "model_module": "@jupyter-widgets/controls",
      "model_module_version": "1.5.0",
      "model_name": "VBoxModel",
      "state": {
       "children": [
        "IPY_MODEL_f8f8cc01ef5841dc8f85340c7e74e675",
        "IPY_MODEL_75abfe1d2c3d4598bdba648683835908",
        "IPY_MODEL_1058bbba54af4194ac92960f6a0e4539"
       ],
       "layout": "IPY_MODEL_28fda81e53444b7a911a686cdb6e3c9d"
      }
     },
     "acff96baa6f54ea581ca7b121dc1410c": {
      "model_module": "@jupyter-widgets/controls",
      "model_module_version": "1.5.0",
      "model_name": "VBoxModel",
      "state": {
       "children": [
        "IPY_MODEL_153da9f0e1274246b6477777f2f7263a",
        "IPY_MODEL_844e5248d1b64411b2d827d2377be301",
        "IPY_MODEL_92b2f66b1c514da199f631190ea955e7"
       ],
       "layout": "IPY_MODEL_fcc031fd154140f981d4d97e284cc6b3"
      }
     },
     "adadcd0d5fd54469ac92f87ed36804af": {
      "model_module": "@jupyter-widgets/base",
      "model_module_version": "1.2.0",
      "model_name": "LayoutModel",
      "state": {
       "justify_content": "center"
      }
     },
     "aecbab2ba6a44447beb84b2c9cf62b45": {
      "model_module": "@jupyter-widgets/base",
      "model_module_version": "1.2.0",
      "model_name": "LayoutModel",
      "state": {
       "width": "250px"
      }
     },
     "aef753d95e34441cb05219e1914d0582": {
      "model_module": "@jupyter-widgets/controls",
      "model_module_version": "1.5.0",
      "model_name": "ButtonStyleModel",
      "state": {}
     },
     "b02b10b64a064bc5a52823b1d421107b": {
      "model_module": "@jupyter-widgets/controls",
      "model_module_version": "1.5.0",
      "model_name": "HTMLModel",
      "state": {
       "layout": "IPY_MODEL_5a1be7ce44634285918fc2f7058425b1",
       "style": "IPY_MODEL_da225553cd4d4056af017a5efc450f50",
       "value": "<h4 style=\"font-size:14px;\">Unifizieren f2 und f4?</h4>"
      }
     },
     "b0741082f46b493ab5085dfd2c0c6081": {
      "model_module": "@jupyter-widgets/base",
      "model_module_version": "1.2.0",
      "model_name": "LayoutModel",
      "state": {
       "width": "250px"
      }
     },
     "b12f9eeaaa2b45378a6f34a9cc36516b": {
      "model_module": "@jupyter-widgets/base",
      "model_module_version": "1.2.0",
      "model_name": "LayoutModel",
      "state": {}
     },
     "b217ce0ee45c40ae8dc5f2a724a0f567": {
      "model_module": "@jupyter-widgets/controls",
      "model_module_version": "1.5.0",
      "model_name": "DescriptionStyleModel",
      "state": {
       "description_width": ""
      }
     },
     "b23a5d80dc8045e0a44a576894ebcef1": {
      "model_module": "@jupyter-widgets/base",
      "model_module_version": "1.2.0",
      "model_name": "LayoutModel",
      "state": {
       "width": "250px"
      }
     },
     "b2f0aab25bb9434ead9913f207bfc22f": {
      "model_module": "@jupyter-widgets/controls",
      "model_module_version": "1.5.0",
      "model_name": "VBoxModel",
      "state": {
       "children": [
        "IPY_MODEL_ff61e9e5e8014334980678e92a531a80",
        "IPY_MODEL_da64d866ef2940e3a1ee7f1ce28953d2",
        "IPY_MODEL_656a62338b9842b7b932fa92090df36e"
       ],
       "layout": "IPY_MODEL_26e7b0f790c34e10a6fcdd2855190242"
      }
     },
     "b382fc9f96dc4d459daf66c7fd944677": {
      "model_module": "@jupyter-widgets/controls",
      "model_module_version": "1.5.0",
      "model_name": "ButtonModel",
      "state": {
       "description": "Nein",
       "layout": "IPY_MODEL_670f0125ebaf403e973cd3eebd4fd081",
       "style": "IPY_MODEL_9f85f9446e1946bdb51bf84076043b83"
      }
     },
     "b56a6c47a97449d9b5f9cbc20ae523ca": {
      "model_module": "@jupyter-widgets/controls",
      "model_module_version": "1.5.0",
      "model_name": "HTMLModel",
      "state": {
       "layout": "IPY_MODEL_05252691bace4668bd9d1e599ebf2b75",
       "style": "IPY_MODEL_c295f6456492482abddfd244ed2c1613",
       "value": "<h4 style=\"font-size:14px;\">Unifizieren f1 und f2?</h4>"
      }
     },
     "b83ec0a5f29d4ae9970875d1e483ad0b": {
      "model_module": "@jupyter-widgets/base",
      "model_module_version": "1.2.0",
      "model_name": "LayoutModel",
      "state": {}
     },
     "ba4d9b42f253457f9f1d76999b980fff": {
      "model_module": "@jupyter-widgets/controls",
      "model_module_version": "1.5.0",
      "model_name": "VBoxModel",
      "state": {
       "children": [
        "IPY_MODEL_1a4ea1579f774419b95dbc051b6cd80a",
        "IPY_MODEL_c3f63d05f56546d99c696c299783548e",
        "IPY_MODEL_08e92911b5ac4b99963171b8bdf71717"
       ],
       "layout": "IPY_MODEL_b83ec0a5f29d4ae9970875d1e483ad0b"
      }
     },
     "bac6e496597049ec83b8d71afe003b22": {
      "model_module": "@jupyter-widgets/controls",
      "model_module_version": "1.5.0",
      "model_name": "ButtonModel",
      "state": {
       "description": "Nein",
       "layout": "IPY_MODEL_50c1080d9dc74ea49169c9729e2fbb51",
       "style": "IPY_MODEL_aef753d95e34441cb05219e1914d0582"
      }
     },
     "bb5c98420b004a34985de8193ae0e573": {
      "model_module": "@jupyter-widgets/controls",
      "model_module_version": "1.5.0",
      "model_name": "ButtonModel",
      "state": {
       "description": "Ja",
       "layout": "IPY_MODEL_19f1e41e292d4c4fba040638d9ab16ca",
       "style": "IPY_MODEL_ce6654b0835f4cfd8243f05111402298"
      }
     },
     "bc4a1c6ed2b6447ab0eac8c133c8f744": {
      "model_module": "@jupyter-widgets/controls",
      "model_module_version": "1.5.0",
      "model_name": "VBoxModel",
      "state": {
       "children": [
        "IPY_MODEL_fb53a1e76de542e8a5d810ad0817f550",
        "IPY_MODEL_c00d24c2418b455c963efc049c7c864e",
        "IPY_MODEL_5ab22ef60fb84579be25cf67ebc5d777"
       ],
       "layout": "IPY_MODEL_33fd2cadb60546aa85d52c7aa63f1ffd"
      }
     },
     "c00d24c2418b455c963efc049c7c864e": {
      "model_module": "@jupyter-widgets/controls",
      "model_module_version": "1.5.0",
      "model_name": "HTMLModel",
      "state": {
       "layout": "IPY_MODEL_a5fe57ff65f84ba3990bab11afa1b77f",
       "style": "IPY_MODEL_31af88a1bed241da988680296867d8b1",
       "value": "<i>Wählen Sie die <ins>eine</ins> korrekte Antwort aus: </i>"
      }
     },
     "c03b5e0b22184eb6803402315e937f0b": {
      "model_module": "@jupyter-widgets/controls",
      "model_module_version": "1.5.0",
      "model_name": "ButtonStyleModel",
      "state": {}
     },
     "c1974ca5ced6489982b0be481259b180": {
      "model_module": "@jupyter-widgets/base",
      "model_module_version": "1.2.0",
      "model_name": "LayoutModel",
      "state": {
       "width": "250px"
      }
     },
     "c1ea92c3882b4e6e909a9f4784759dad": {
      "model_module": "@jupyter-widgets/base",
      "model_module_version": "1.2.0",
      "model_name": "LayoutModel",
      "state": {
       "justify_content": "center"
      }
     },
     "c2328bc941bd4e5d88b0cdedcf8127ab": {
      "model_module": "@jupyter-widgets/base",
      "model_module_version": "1.2.0",
      "model_name": "LayoutModel",
      "state": {
       "justify_content": "center"
      }
     },
     "c248b8dc27e44c77a484a3b3c8527958": {
      "model_module": "@jupyter-widgets/controls",
      "model_module_version": "1.5.0",
      "model_name": "ButtonModel",
      "state": {
       "description": "Nein",
       "layout": "IPY_MODEL_8486255685374f45a41705f214573802",
       "style": "IPY_MODEL_1edceb7947ed434cb8b01da364ee1c47"
      }
     },
     "c295f6456492482abddfd244ed2c1613": {
      "model_module": "@jupyter-widgets/controls",
      "model_module_version": "1.5.0",
      "model_name": "DescriptionStyleModel",
      "state": {
       "description_width": ""
      }
     },
     "c2fb64e6b02042308ec76237be255b65": {
      "model_module": "@jupyter-widgets/controls",
      "model_module_version": "1.5.0",
      "model_name": "VBoxModel",
      "state": {
       "children": [
        "IPY_MODEL_da88d3f10f6c4a868acfeaeb69696df8",
        "IPY_MODEL_874201e1e27b418594786bf67afa65fa",
        "IPY_MODEL_1a80ecb87d2442ee8856169a60c8d177"
       ],
       "layout": "IPY_MODEL_77dee4d9d6794a4b90a035b63dafb505"
      }
     },
     "c36f2c79ae5a458aa4942c012a25a7ab": {
      "model_module": "@jupyter-widgets/controls",
      "model_module_version": "1.5.0",
      "model_name": "ButtonStyleModel",
      "state": {}
     },
     "c3f63d05f56546d99c696c299783548e": {
      "model_module": "@jupyter-widgets/controls",
      "model_module_version": "1.5.0",
      "model_name": "HTMLModel",
      "state": {
       "layout": "IPY_MODEL_e808e8a046974811bd49cae23523a80a",
       "style": "IPY_MODEL_212eb7d400914248a59a9806f395d657",
       "value": "<i>Wählen Sie die <ins>eine</ins> korrekte Antwort aus: </i>"
      }
     },
     "c40ad8512e4146d7b7b99abe4fafde82": {
      "model_module": "@jupyter-widgets/controls",
      "model_module_version": "1.5.0",
      "model_name": "VBoxModel",
      "state": {
       "children": [
        "IPY_MODEL_cfa0ae54b6714d5690a658f6ca1b26a1",
        "IPY_MODEL_d0c3d284514f42efbcdf9b0d3b25e31b",
        "IPY_MODEL_6c67c0d1be034ffe99eebfe9eee8233b"
       ],
       "layout": "IPY_MODEL_b12f9eeaaa2b45378a6f34a9cc36516b"
      }
     },
     "c4db22198cd34d64995dacc2535bcb21": {
      "model_module": "@jupyter-widgets/controls",
      "model_module_version": "1.5.0",
      "model_name": "ButtonModel",
      "state": {
       "description": "Ja",
       "layout": "IPY_MODEL_d37bc98635a14ca9bdb35ed1a6c2fd3c",
       "style": "IPY_MODEL_7b1f0c77094b4c29b80d66cf26ca5672"
      }
     },
     "c55629dbc40c4570992ecf31dc92ae50": {
      "model_module": "@jupyter-widgets/controls",
      "model_module_version": "1.5.0",
      "model_name": "DescriptionStyleModel",
      "state": {
       "description_width": ""
      }
     },
     "c78342684743466c8092ac1c47da7b16": {
      "model_module": "@jupyter-widgets/controls",
      "model_module_version": "1.5.0",
      "model_name": "DescriptionStyleModel",
      "state": {
       "description_width": ""
      }
     },
     "c84ef9ab7e6b4afba6ae6a2e18931e5b": {
      "model_module": "@jupyter-widgets/controls",
      "model_module_version": "1.5.0",
      "model_name": "ButtonModel",
      "state": {
       "description": "Nein",
       "layout": "IPY_MODEL_d0c35fc484e74ca4a3fc4f02f3ac7156",
       "style": "IPY_MODEL_c03b5e0b22184eb6803402315e937f0b"
      }
     },
     "c97e0996d5484e6f97355a581ec8a7c4": {
      "model_module": "@jupyter-widgets/controls",
      "model_module_version": "1.5.0",
      "model_name": "HTMLModel",
      "state": {
       "layout": "IPY_MODEL_413f683bdc9c41cd9e392bfdf865ee22",
       "style": "IPY_MODEL_36e46433ade14aebaaadfdfc9db0e91d",
       "value": "<i>Wählen Sie die <ins>eine</ins> korrekte Antwort aus: </i>"
      }
     },
     "c9a4839716804ceaacda440563a5bb07": {
      "model_module": "@jupyter-widgets/base",
      "model_module_version": "1.2.0",
      "model_name": "LayoutModel",
      "state": {
       "width": "250px"
      }
     },
     "ca7228d6761944cea9373e91addc92c7": {
      "model_module": "@jupyter-widgets/controls",
      "model_module_version": "1.5.0",
      "model_name": "HTMLModel",
      "state": {
       "layout": "IPY_MODEL_cde8e8e09e17446781b30b04dc2ba0dc",
       "style": "IPY_MODEL_c55629dbc40c4570992ecf31dc92ae50",
       "value": "<i>Wählen Sie die <ins>eine</ins> korrekte Antwort aus: </i>"
      }
     },
     "cab90c0632974448bd58579352608119": {
      "model_module": "@jupyter-widgets/base",
      "model_module_version": "1.2.0",
      "model_name": "LayoutModel",
      "state": {}
     },
     "cb3ae06ff2dc44b9b310d6f49cd99229": {
      "model_module": "@jupyter-widgets/controls",
      "model_module_version": "1.5.0",
      "model_name": "HBoxModel",
      "state": {
       "children": [
        "IPY_MODEL_18e17311c9ca4431bd14ec2736ffef53",
        "IPY_MODEL_1de42823e56c48b09b016a319d5eeca0"
       ],
       "layout": "IPY_MODEL_817b825cfb754f38a406dd765808029b"
      }
     },
     "ccce7cc68f5649d0a8491afea7e9c562": {
      "model_module": "@jupyter-widgets/controls",
      "model_module_version": "1.5.0",
      "model_name": "DescriptionStyleModel",
      "state": {
       "description_width": ""
      }
     },
     "cde8e8e09e17446781b30b04dc2ba0dc": {
      "model_module": "@jupyter-widgets/base",
      "model_module_version": "1.2.0",
      "model_name": "LayoutModel",
      "state": {
       "justify_content": "center"
      }
     },
     "ce6654b0835f4cfd8243f05111402298": {
      "model_module": "@jupyter-widgets/controls",
      "model_module_version": "1.5.0",
      "model_name": "ButtonStyleModel",
      "state": {}
     },
     "cee198ee6d204f2b829793b913ecd6e6": {
      "model_module": "@jupyter-widgets/base",
      "model_module_version": "1.2.0",
      "model_name": "LayoutModel",
      "state": {
       "width": "250px"
      }
     },
     "cee5f1af523e45769891a4d4ea5105b7": {
      "model_module": "@jupyter-widgets/base",
      "model_module_version": "1.2.0",
      "model_name": "LayoutModel",
      "state": {}
     },
     "cfa0ae54b6714d5690a658f6ca1b26a1": {
      "model_module": "@jupyter-widgets/controls",
      "model_module_version": "1.5.0",
      "model_name": "HTMLModel",
      "state": {
       "layout": "IPY_MODEL_7fc8d34c52c148848ee1eab56d7a36a4",
       "style": "IPY_MODEL_64c1047ecfbe444a93839289a5799b93",
       "value": "<h4 style=\"font-size:14px;\">Unifizieren f1 und f2?</h4>"
      }
     },
     "d0c35fc484e74ca4a3fc4f02f3ac7156": {
      "model_module": "@jupyter-widgets/base",
      "model_module_version": "1.2.0",
      "model_name": "LayoutModel",
      "state": {
       "width": "250px"
      }
     },
     "d0c3d284514f42efbcdf9b0d3b25e31b": {
      "model_module": "@jupyter-widgets/controls",
      "model_module_version": "1.5.0",
      "model_name": "HTMLModel",
      "state": {
       "layout": "IPY_MODEL_c2328bc941bd4e5d88b0cdedcf8127ab",
       "style": "IPY_MODEL_6dd1e33712584c8f94aac47f14c38d4b",
       "value": "<i>Wählen Sie die <ins>eine</ins> korrekte Antwort aus: </i>"
      }
     },
     "d37bc98635a14ca9bdb35ed1a6c2fd3c": {
      "model_module": "@jupyter-widgets/base",
      "model_module_version": "1.2.0",
      "model_name": "LayoutModel",
      "state": {
       "width": "250px"
      }
     },
     "d3fce2750481416eb36ba8800f70b0c1": {
      "model_module": "@jupyter-widgets/controls",
      "model_module_version": "1.5.0",
      "model_name": "ButtonStyleModel",
      "state": {}
     },
     "d7226bd8bb694fef8f3a8eec460ba747": {
      "model_module": "@jupyter-widgets/controls",
      "model_module_version": "1.5.0",
      "model_name": "ButtonStyleModel",
      "state": {}
     },
     "d7f6cc7888464af0aed21f6d26d7a7e3": {
      "model_module": "@jupyter-widgets/controls",
      "model_module_version": "1.5.0",
      "model_name": "ButtonStyleModel",
      "state": {}
     },
     "d8485607fa124850b8dbed00545233cc": {
      "model_module": "@jupyter-widgets/controls",
      "model_module_version": "1.5.0",
      "model_name": "ButtonModel",
      "state": {
       "description": "Ja",
       "layout": "IPY_MODEL_2ed352c4fa2d42f781ebdcf513003721",
       "style": "IPY_MODEL_348d59a5c7f24da5a03d464b26f4d439"
      }
     },
     "d9ed9a6647504b9cad24a265917671cb": {
      "model_module": "@jupyter-widgets/controls",
      "model_module_version": "1.5.0",
      "model_name": "ButtonModel",
      "state": {
       "description": "Ja",
       "layout": "IPY_MODEL_b0741082f46b493ab5085dfd2c0c6081",
       "style": "IPY_MODEL_d7226bd8bb694fef8f3a8eec460ba747"
      }
     },
     "da225553cd4d4056af017a5efc450f50": {
      "model_module": "@jupyter-widgets/controls",
      "model_module_version": "1.5.0",
      "model_name": "DescriptionStyleModel",
      "state": {
       "description_width": ""
      }
     },
     "da64d866ef2940e3a1ee7f1ce28953d2": {
      "model_module": "@jupyter-widgets/controls",
      "model_module_version": "1.5.0",
      "model_name": "HTMLModel",
      "state": {
       "layout": "IPY_MODEL_64d21c03af154514a210c7f7fe2afaf6",
       "style": "IPY_MODEL_010358f61c62421fb240931646c5ecd6",
       "value": "<i>Wählen Sie die <ins>eine</ins> korrekte Antwort aus: </i>"
      }
     },
     "da88d3f10f6c4a868acfeaeb69696df8": {
      "model_module": "@jupyter-widgets/controls",
      "model_module_version": "1.5.0",
      "model_name": "HTMLModel",
      "state": {
       "layout": "IPY_MODEL_0d1456fd1d1e466c86ec5dad4f3dd34d",
       "style": "IPY_MODEL_36de11f808c2437ba3cdd8ccab20110e",
       "value": "<h4 style=\"font-size:14px;\">Unifizieren f2 und f3?</h4>"
      }
     },
     "dbd149e9db2340c0a986ceb8c64dadc0": {
      "model_module": "@jupyter-widgets/base",
      "model_module_version": "1.2.0",
      "model_name": "LayoutModel",
      "state": {}
     },
     "dbd63cdef9d144d2aaf510732ef66117": {
      "model_module": "@jupyter-widgets/base",
      "model_module_version": "1.2.0",
      "model_name": "LayoutModel",
      "state": {
       "justify_content": "center"
      }
     },
     "dbe71192545f414089c32294ed1c7387": {
      "model_module": "@jupyter-widgets/base",
      "model_module_version": "1.2.0",
      "model_name": "LayoutModel",
      "state": {}
     },
     "dcd5d044930c400b9fa1e566a5abaa3b": {
      "model_module": "@jupyter-widgets/controls",
      "model_module_version": "1.5.0",
      "model_name": "HTMLModel",
      "state": {
       "layout": "IPY_MODEL_3b492b2e3fcc4945802a85315cb411c3",
       "style": "IPY_MODEL_ccce7cc68f5649d0a8491afea7e9c562",
       "value": "<i>Wählen Sie die <ins>eine</ins> korrekte Antwort aus: </i>"
      }
     },
     "df17b6538f3245c0a0ca45ff5c52e298": {
      "model_module": "@jupyter-widgets/controls",
      "model_module_version": "1.5.0",
      "model_name": "ButtonModel",
      "state": {
       "description": "Nein",
       "layout": "IPY_MODEL_0893a04e40c64f848bb0cbe2aabbce16",
       "style": "IPY_MODEL_040a878cbddf4beb8887f54e7bd0ad20"
      }
     },
     "df6d6b7dd1e44417bcef34e3ae5e95a0": {
      "model_module": "@jupyter-widgets/controls",
      "model_module_version": "1.5.0",
      "model_name": "ButtonModel",
      "state": {
       "description": "Ja",
       "layout": "IPY_MODEL_c9a4839716804ceaacda440563a5bb07",
       "style": "IPY_MODEL_c36f2c79ae5a458aa4942c012a25a7ab"
      }
     },
     "e0f917a439c640678d0b5668a9913f9a": {
      "model_module": "@jupyter-widgets/base",
      "model_module_version": "1.2.0",
      "model_name": "LayoutModel",
      "state": {
       "justify_content": "center"
      }
     },
     "e4ce2b78b28f4093ba538bde2db31916": {
      "model_module": "@jupyter-widgets/controls",
      "model_module_version": "1.5.0",
      "model_name": "DescriptionStyleModel",
      "state": {
       "description_width": ""
      }
     },
     "e7778807082a48e09b3ca0b3db5db7f3": {
      "model_module": "@jupyter-widgets/controls",
      "model_module_version": "1.5.0",
      "model_name": "ButtonModel",
      "state": {
       "description": "Nein",
       "layout": "IPY_MODEL_904d09910a5149f6ad9384b695673cb4",
       "style": "IPY_MODEL_3a6d07f4366e451097a96e08f7320e94"
      }
     },
     "e7a8307742ff4480b66eb1a00473684d": {
      "model_module": "@jupyter-widgets/controls",
      "model_module_version": "1.5.0",
      "model_name": "VBoxModel",
      "state": {
       "children": [
        "IPY_MODEL_0a4d05d211e748a5907b04bc07423314",
        "IPY_MODEL_681e5765872248c4983ec54ad12072f3",
        "IPY_MODEL_22af9f14d09e415f9959b2d0a7ab5afc"
       ],
       "layout": "IPY_MODEL_9137f2a8f87748929f31450af7a62947"
      }
     },
     "e7dcb4269cd947369f099763f6b070c5": {
      "model_module": "@jupyter-widgets/base",
      "model_module_version": "1.2.0",
      "model_name": "LayoutModel",
      "state": {
       "width": "250px"
      }
     },
     "e8054b44be4a4d9a87b73e2d73d6a6bc": {
      "model_module": "@jupyter-widgets/controls",
      "model_module_version": "1.5.0",
      "model_name": "ButtonStyleModel",
      "state": {}
     },
     "e808e8a046974811bd49cae23523a80a": {
      "model_module": "@jupyter-widgets/base",
      "model_module_version": "1.2.0",
      "model_name": "LayoutModel",
      "state": {
       "justify_content": "center"
      }
     },
     "e957a840624943198aaedc51687c8cf4": {
      "model_module": "@jupyter-widgets/base",
      "model_module_version": "1.2.0",
      "model_name": "LayoutModel",
      "state": {}
     },
     "eab026e48d2146ae808acab3ab3cdf30": {
      "model_module": "@jupyter-widgets/controls",
      "model_module_version": "1.5.0",
      "model_name": "ButtonStyleModel",
      "state": {}
     },
     "eb321bc643a24486bfd04221a9f2426c": {
      "model_module": "@jupyter-widgets/base",
      "model_module_version": "1.2.0",
      "model_name": "LayoutModel",
      "state": {
       "width": "250px"
      }
     },
     "eb57dcd1c52146d48beb1ca823ae80bd": {
      "model_module": "@jupyter-widgets/controls",
      "model_module_version": "1.5.0",
      "model_name": "ButtonStyleModel",
      "state": {}
     },
     "ecbd230aede6409da3e88e2ad799d3e3": {
      "model_module": "@jupyter-widgets/controls",
      "model_module_version": "1.5.0",
      "model_name": "ButtonModel",
      "state": {
       "description": "Ja",
       "layout": "IPY_MODEL_aecbab2ba6a44447beb84b2c9cf62b45",
       "style": "IPY_MODEL_f0b8cf698f044f8d93e54c64e4bbe1e8"
      }
     },
     "ed62b0a1c3a647c5afbf19aedbbc6a07": {
      "model_module": "@jupyter-widgets/controls",
      "model_module_version": "1.5.0",
      "model_name": "VBoxModel",
      "state": {
       "children": [
        "IPY_MODEL_36bb600cb7ab4d56b0f36338e040ee2d",
        "IPY_MODEL_dcd5d044930c400b9fa1e566a5abaa3b",
        "IPY_MODEL_224e1999320c4f9f82857b4e8e60f4c3"
       ],
       "layout": "IPY_MODEL_006d2bf4f23c4a25b642109d2af86e8a"
      }
     },
     "efab3c4bd3f44ddd90bcb91aed7b2d6e": {
      "model_module": "@jupyter-widgets/base",
      "model_module_version": "1.2.0",
      "model_name": "LayoutModel",
      "state": {
       "justify_content": "center"
      }
     },
     "efdd265926b446f79b03ee76192be766": {
      "model_module": "@jupyter-widgets/controls",
      "model_module_version": "1.5.0",
      "model_name": "ButtonStyleModel",
      "state": {}
     },
     "f0b8cf698f044f8d93e54c64e4bbe1e8": {
      "model_module": "@jupyter-widgets/controls",
      "model_module_version": "1.5.0",
      "model_name": "ButtonStyleModel",
      "state": {}
     },
     "f24135418899438e8da47ebb34bb722e": {
      "model_module": "@jupyter-widgets/controls",
      "model_module_version": "1.5.0",
      "model_name": "ButtonModel",
      "state": {
       "description": "Nein",
       "layout": "IPY_MODEL_c1974ca5ced6489982b0be481259b180",
       "style": "IPY_MODEL_5742ea65b82b4a9691d6c127c590bde6"
      }
     },
     "f24a7abddf66488785291efa47242bab": {
      "model_module": "@jupyter-widgets/controls",
      "model_module_version": "1.5.0",
      "model_name": "ButtonStyleModel",
      "state": {}
     },
     "f2e576d4b6e34b80885eaa99325b1a40": {
      "model_module": "@jupyter-widgets/controls",
      "model_module_version": "1.5.0",
      "model_name": "ButtonStyleModel",
      "state": {}
     },
     "f3680b17c8bf4520982a4a909184d026": {
      "model_module": "@jupyter-widgets/controls",
      "model_module_version": "1.5.0",
      "model_name": "DescriptionStyleModel",
      "state": {
       "description_width": ""
      }
     },
     "f4451e8182c2473e958c4daea3f14f54": {
      "model_module": "@jupyter-widgets/controls",
      "model_module_version": "1.5.0",
      "model_name": "HTMLModel",
      "state": {
       "layout": "IPY_MODEL_5eed9b53ac90497f95368be13def90e3",
       "style": "IPY_MODEL_f3680b17c8bf4520982a4a909184d026",
       "value": "<h4 style=\"font-size:14px;\">Unifizieren f1 und f4?</h4>"
      }
     },
     "f44f5c290f9748c3b995b98e262ea7a0": {
      "model_module": "@jupyter-widgets/controls",
      "model_module_version": "1.5.0",
      "model_name": "ButtonModel",
      "state": {
       "description": "Nein",
       "layout": "IPY_MODEL_b23a5d80dc8045e0a44a576894ebcef1",
       "style": "IPY_MODEL_376668bab84546bb8e4036b09ec262b4"
      }
     },
     "f7b6cf6546984f66825b29aaffe153ad": {
      "model_module": "@jupyter-widgets/base",
      "model_module_version": "1.2.0",
      "model_name": "LayoutModel",
      "state": {
       "width": "250px"
      }
     },
     "f8b589e2bc62461b80ae88271deb1000": {
      "model_module": "@jupyter-widgets/base",
      "model_module_version": "1.2.0",
      "model_name": "LayoutModel",
      "state": {}
     },
     "f8f8cc01ef5841dc8f85340c7e74e675": {
      "model_module": "@jupyter-widgets/controls",
      "model_module_version": "1.5.0",
      "model_name": "HTMLModel",
      "state": {
       "layout": "IPY_MODEL_1f19041f585340f19d10af7f21e45fb3",
       "style": "IPY_MODEL_05d16f651d2e4065ac3de0d5e279675d",
       "value": "<h4 style=\"font-size:14px;\">Unifizieren f1 und f4?</h4>"
      }
     },
     "f9ae40e387f248b2aad1936485d4d394": {
      "model_module": "@jupyter-widgets/base",
      "model_module_version": "1.2.0",
      "model_name": "LayoutModel",
      "state": {}
     },
     "fb1b8d50615846e19a44453fbaf3414a": {
      "model_module": "@jupyter-widgets/controls",
      "model_module_version": "1.5.0",
      "model_name": "ButtonStyleModel",
      "state": {}
     },
     "fb53a1e76de542e8a5d810ad0817f550": {
      "model_module": "@jupyter-widgets/controls",
      "model_module_version": "1.5.0",
      "model_name": "HTMLModel",
      "state": {
       "layout": "IPY_MODEL_7e23466f34224978bbb371c839930579",
       "style": "IPY_MODEL_2dde9f6f47b54c6e866992d9dbadeb61",
       "value": "<h4 style=\"font-size:14px;\">Unifizieren f2 und f4?</h4>"
      }
     },
     "fbe43849cb444408acb9893fcb5506d5": {
      "model_module": "@jupyter-widgets/base",
      "model_module_version": "1.2.0",
      "model_name": "LayoutModel",
      "state": {
       "width": "250px"
      }
     },
     "fcc031fd154140f981d4d97e284cc6b3": {
      "model_module": "@jupyter-widgets/base",
      "model_module_version": "1.2.0",
      "model_name": "LayoutModel",
      "state": {}
     },
     "fcc36522fa6147f094fea30a483506b8": {
      "model_module": "@jupyter-widgets/base",
      "model_module_version": "1.2.0",
      "model_name": "LayoutModel",
      "state": {
       "width": "250px"
      }
     },
     "ff61e9e5e8014334980678e92a531a80": {
      "model_module": "@jupyter-widgets/controls",
      "model_module_version": "1.5.0",
      "model_name": "HTMLModel",
      "state": {
       "layout": "IPY_MODEL_a41bd6b17f4f439c8aa6f46a20d8b335",
       "style": "IPY_MODEL_44197b19183049bc86a53fb219a322e2",
       "value": "<h4 style=\"font-size:14px;\">Unifizieren f1 und f4?</h4>"
      }
     }
    },
    "version_major": 2,
    "version_minor": 0
   }
  }
 },
 "nbformat": 4,
 "nbformat_minor": 2
}
