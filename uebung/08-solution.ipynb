{
 "cells": [
  {
   "cell_type": "markdown",
   "metadata": {
    "slideshow": {
     "slide_type": "slide"
    }
   },
   "source": [
    "***Vorlesung 'Syntax natürlicher Sprachen', WS 2019/20***\n",
    "\n",
    "---\n",
    "# Übung 8 (Lösung)"
   ]
  },
  {
   "cell_type": "code",
   "execution_count": 1,
   "metadata": {
    "slideshow": {
     "slide_type": "fragment"
    }
   },
   "outputs": [],
   "source": [
    "from exercises_8 import *\n",
    "from questions import aufgabe"
   ]
  },
  {
   "cell_type": "code",
   "execution_count": 9,
   "metadata": {},
   "outputs": [],
   "source": [
    "import warnings\n",
    "warnings.filterwarnings('ignore')"
   ]
  },
  {
   "cell_type": "code",
   "execution_count": 10,
   "metadata": {
    "slideshow": {
     "slide_type": "skip"
    }
   },
   "outputs": [],
   "source": [
    "from nltk.parse.stanford import StanfordParser, StanfordDependencyParser\n",
    "import os\n",
    "\n",
    "PATH_TO_CORE = os.getenv(\"HOME\") + os.sep + os.path.join(\"nltk_data\", \"stanford-corenlp-full-2018-10-05\")\n",
    "PATH_TO_GER_MODEL = os.getenv(\"HOME\") + os.sep + os.path.join(\"nltk_data\", \"stanford-models-2018-10-05\")\n",
    "\n",
    "jar = os.path.join(PATH_TO_CORE, \"stanford-corenlp-3.9.2.jar\")\n",
    "model = os.path.join(PATH_TO_CORE,\"stanford-corenlp-3.9.2-models.jar\")\n",
    "ger_model = os.path.join(PATH_TO_GER_MODEL, \"stanford-german-corenlp-2018-10-05-models.jar\")\n",
    "\n",
    "parser = StanfordParser(jar, model, model_path=\"edu/stanford/nlp/models/lexparser/\" + \"englishPCFG.ser.gz\")\n",
    "ger_parser = StanfordParser(jar, ger_model, model_path=\"edu/stanford/nlp/models/lexparser/\" + \"germanPCFG.ser.gz\")\n",
    "\n",
    "dep_parser = StanfordDependencyParser(jar, model, model_path=\"edu/stanford/nlp/models/lexparser/\" + \"englishPCFG.ser.gz\")"
   ]
  },
  {
   "cell_type": "markdown",
   "metadata": {
    "slideshow": {
     "slide_type": "slide"
    }
   },
   "source": [
    "---\n",
    "### Aufgabe 1: Satzklassifikation"
   ]
  },
  {
   "cell_type": "code",
   "execution_count": 3,
   "metadata": {
    "slideshow": {
     "slide_type": "fragment"
    }
   },
   "outputs": [
    {
     "data": {
      "image/png": "[encoded data removed]",
      "text/plain": [
       "Tree('ROOT', [Tree('S', [Tree('S', [Tree('KOUS', ['Als']), Tree('PPER', ['sie']), Tree('PP', [Tree('APPR', ['aus']), Tree('ART', ['der']), Tree('NN', ['Kneipe'])]), Tree('VVFIN', ['kam'])]), Tree('$,', [',']), Tree('VVFIN', ['putzte']), Tree('PPER', ['er']), Tree('NP', [Tree('ART', ['die']), Tree('NN', ['Fenster'])]), Tree('$,', [',']), Tree('S', [Tree('KOUS', ['damit']), Tree('PPER', ['sie']), Tree('ADV', ['endlich']), Tree('NP', [Tree('ADV', ['einmal']), Tree('PIAT', ['keinen']), Tree('NN', ['Grund']), Tree('PP', [Tree('APPRART', ['zum']), Tree('NN', ['Nörgeln'])])]), Tree('VAFIN', ['hatte'])]), Tree('$.', ['.'])])])"
      ]
     },
     "metadata": {},
     "output_type": "display_data"
    }
   ],
   "source": [
    "tree_list = list(ger_parser.raw_parse('Als sie aus der Kneipe kam, putzte er die Fenster, damit sie endlich einmal keinen Grund zum Nörgeln hatte.'))\n",
    "display(tree_list[0])"
   ]
  },
  {
   "cell_type": "markdown",
   "metadata": {
    "slideshow": {
     "slide_type": "subslide"
    }
   },
   "source": [
    "#### Klassifizieren Sie die Nebensätze des obigen Satzes nach syntaktischen, semantischen und formalen Gesichtspunkten.\n",
    "\n",
    "- *Als sie aus der Kneipe kam, putzte er die Fenster, damit sie endlich einmal keinen Grund zum Nörgeln hatte.*\n",
    "\n",
    "#### Beantworten Sie zu diesem Satz die folgenden Fragen."
   ]
  },
  {
   "cell_type": "code",
   "execution_count": 2,
   "metadata": {
    "slideshow": {
     "slide_type": "subslide"
    }
   },
   "outputs": [
    {
     "data": {
      "application/vnd.jupyter.widget-view+json": {
       "model_id": "6b29200ee87744659bad55acb5c92483",
       "version_major": 2,
       "version_minor": 0
      },
      "text/plain": [
       "MultipleChoice(children=(HTML(value='<h4 style=\"font-size:14px;\">Welche Satzteile sind Nebensätze?</h4>'), HTM…"
      ]
     },
     "metadata": {},
     "output_type": "display_data"
    },
    {
     "data": {
      "application/vnd.jupyter.widget-view+json": {
       "model_id": "13cf3d81503342478fed7ef003f2444d",
       "version_major": 2,
       "version_minor": 0
      },
      "text/plain": [
       "SelectionList(children=(HTML(value='<h4 style=\"font-size:14px;\">Um was für einen Satz handelt es sich syntakti…"
      ]
     },
     "metadata": {},
     "output_type": "display_data"
    },
    {
     "data": {
      "application/vnd.jupyter.widget-view+json": {
       "model_id": "13b8fb90bd274438b63ae4f370eaadfc",
       "version_major": 2,
       "version_minor": 0
      },
      "text/plain": [
       "SelectionList(children=(HTML(value='<h4 style=\"font-size:14px;\">Was ist <i>als sie ...</i> semantisch für ein …"
      ]
     },
     "metadata": {},
     "output_type": "display_data"
    },
    {
     "data": {
      "application/vnd.jupyter.widget-view+json": {
       "model_id": "606824c66c0f4053affed74d9f2afbfc",
       "version_major": 2,
       "version_minor": 0
      },
      "text/plain": [
       "MultipleChoice(children=(HTML(value='<h4 style=\"font-size:14px;\">Welche Aussagen stimmen für den Teilsatz <i>a…"
      ]
     },
     "metadata": {},
     "output_type": "display_data"
    },
    {
     "data": {
      "application/vnd.jupyter.widget-view+json": {
       "model_id": "83a9b6f1207a409f9bfa306c0922c965",
       "version_major": 2,
       "version_minor": 0
      },
      "text/plain": [
       "SelectionList(children=(HTML(value='<h4 style=\"font-size:14px;\">Um was für einen Satz handelt es sich syntakti…"
      ]
     },
     "metadata": {},
     "output_type": "display_data"
    },
    {
     "data": {
      "application/vnd.jupyter.widget-view+json": {
       "model_id": "91e21cb0f4324c879cdbf77126f2c238",
       "version_major": 2,
       "version_minor": 0
      },
      "text/plain": [
       "SelectionList(children=(HTML(value='<h4 style=\"font-size:14px;\">Was ist <i>damit sie ...</i> semantisch für ei…"
      ]
     },
     "metadata": {},
     "output_type": "display_data"
    },
    {
     "data": {
      "application/vnd.jupyter.widget-view+json": {
       "model_id": "7390d824664647f39f5b55ba1c1afe4f",
       "version_major": 2,
       "version_minor": 0
      },
      "text/plain": [
       "MultipleChoice(children=(HTML(value='<h4 style=\"font-size:14px;\">Welche Aussagen stimmen für den Teilsatz <i>d…"
      ]
     },
     "metadata": {},
     "output_type": "display_data"
    }
   ],
   "source": [
    "aufgabe(blatt8_1)"
   ]
  },
  {
   "cell_type": "markdown",
   "metadata": {
    "slideshow": {
     "slide_type": "slide"
    }
   },
   "source": [
    "---\n",
    "## Aufgabe 2: Stellungsfeldermodell\n",
    "\n",
    "#### Zerlegen Sie den folgenden Satz in Satzklammern und Stellungsfelder. Analysieren Sie sowohl den Haupt- als auch den Nebensatz auf diese Weise.\n",
    "\n",
    "- *Der kleine Junge hat heute das Buch gelesen, das ihm sein Vater zu Weihnachten schenkte.*"
   ]
  },
  {
   "cell_type": "markdown",
   "metadata": {
    "slideshow": {
     "slide_type": "fragment"
    }
   },
   "source": [
    "#### Beantworten Sie folgende Fragen zum Hauptsatz:"
   ]
  },
  {
   "cell_type": "code",
   "execution_count": 3,
   "metadata": {
    "slideshow": {
     "slide_type": "subslide"
    }
   },
   "outputs": [
    {
     "data": {
      "application/vnd.jupyter.widget-view+json": {
       "model_id": "b11e9ee29e0246cb93c90e80b8bf11b5",
       "version_major": 2,
       "version_minor": 0
      },
      "text/plain": [
       "MultipleChoice(children=(HTML(value='<h4 style=\"font-size:14px;\">Welche Wörter stehen im Vorfeld?</h4>'), HTML…"
      ]
     },
     "metadata": {},
     "output_type": "display_data"
    },
    {
     "data": {
      "application/vnd.jupyter.widget-view+json": {
       "model_id": "f04e1b0059404da2b9e61ad29702cfa1",
       "version_major": 2,
       "version_minor": 0
      },
      "text/plain": [
       "MultipleChoice(children=(HTML(value='<h4 style=\"font-size:14px;\">Welche Wörter sind Teil der linken Satzklamme…"
      ]
     },
     "metadata": {},
     "output_type": "display_data"
    },
    {
     "data": {
      "application/vnd.jupyter.widget-view+json": {
       "model_id": "cdb6af244ad8441782b24bdc5a6996df",
       "version_major": 2,
       "version_minor": 0
      },
      "text/plain": [
       "MultipleChoice(children=(HTML(value='<h4 style=\"font-size:14px;\">Welche Wörter stehen im Mittelfeld?</h4>'), H…"
      ]
     },
     "metadata": {},
     "output_type": "display_data"
    },
    {
     "data": {
      "application/vnd.jupyter.widget-view+json": {
       "model_id": "ec4fe253297f42108aa70f8990a9372f",
       "version_major": 2,
       "version_minor": 0
      },
      "text/plain": [
       "MultipleChoice(children=(HTML(value='<h4 style=\"font-size:14px;\">Welche Wörter sind Teil der rechten Satzklamm…"
      ]
     },
     "metadata": {},
     "output_type": "display_data"
    },
    {
     "data": {
      "application/vnd.jupyter.widget-view+json": {
       "model_id": "babefd28a9be48a0b2eb0425bc736f8a",
       "version_major": 2,
       "version_minor": 0
      },
      "text/plain": [
       "SingleChoice(children=(HTML(value='<h4 style=\"font-size:14px;\">Welche Aussage über das Nachfeld des Hauptsatze…"
      ]
     },
     "metadata": {},
     "output_type": "display_data"
    }
   ],
   "source": [
    "aufgabe(blatt8_2a)"
   ]
  },
  {
   "cell_type": "markdown",
   "metadata": {
    "slideshow": {
     "slide_type": "subslide"
    }
   },
   "source": [
    "#### Beantworten Sie nun die folgenden Fragen zum Nebensatz."
   ]
  },
  {
   "cell_type": "code",
   "execution_count": 4,
   "metadata": {
    "slideshow": {
     "slide_type": "fragment"
    }
   },
   "outputs": [
    {
     "data": {
      "application/vnd.jupyter.widget-view+json": {
       "model_id": "f4cc72265a21486d98c22ac772e7f898",
       "version_major": 2,
       "version_minor": 0
      },
      "text/plain": [
       "MultipleChoice(children=(HTML(value='<h4 style=\"font-size:14px;\">Welche Wörter stehen im Vorfeld?</h4>'), HTML…"
      ]
     },
     "metadata": {},
     "output_type": "display_data"
    },
    {
     "data": {
      "application/vnd.jupyter.widget-view+json": {
       "model_id": "576c8dbf2c844777a93f3b773310c721",
       "version_major": 2,
       "version_minor": 0
      },
      "text/plain": [
       "MultipleChoice(children=(HTML(value='<h4 style=\"font-size:14px;\">Welche Wörter sind Teil der linken Satzklamme…"
      ]
     },
     "metadata": {},
     "output_type": "display_data"
    },
    {
     "data": {
      "application/vnd.jupyter.widget-view+json": {
       "model_id": "62e05d41a9244d87859bf70479146a62",
       "version_major": 2,
       "version_minor": 0
      },
      "text/plain": [
       "MultipleChoice(children=(HTML(value='<h4 style=\"font-size:14px;\">Welche Wörter stehen im Mittelfeld?</h4>'), H…"
      ]
     },
     "metadata": {},
     "output_type": "display_data"
    },
    {
     "data": {
      "application/vnd.jupyter.widget-view+json": {
       "model_id": "a6123031a96c41168e64fc56352a1282",
       "version_major": 2,
       "version_minor": 0
      },
      "text/plain": [
       "MultipleChoice(children=(HTML(value='<h4 style=\"font-size:14px;\">Welche Wörter sind Teil der rechten Satzklamm…"
      ]
     },
     "metadata": {},
     "output_type": "display_data"
    }
   ],
   "source": [
    "aufgabe(blatt8_2b)"
   ]
  },
  {
   "cell_type": "markdown",
   "metadata": {
    "slideshow": {
     "slide_type": "slide"
    }
   },
   "source": [
    "---\n",
    "## Aufgabe 3: Konstituenten im Vorfeld\n",
    "\n",
    "#### Vergleichen Sie die folgenden Beispielsätze. Wie erklären Sie die unterschiedliche Akzeptabilität dieser Sätze?\n",
    "\n",
    "- *&ast;Peter gesungen hat ein Lied.*\n",
    "- *Ein Lied gesungen hat Peter.*\n",
    "\n",
    "#### Beantworten Sie hierzu die folgenden Fragen."
   ]
  },
  {
   "cell_type": "code",
   "execution_count": 5,
   "metadata": {
    "slideshow": {
     "slide_type": "subslide"
    }
   },
   "outputs": [
    {
     "data": {
      "application/vnd.jupyter.widget-view+json": {
       "model_id": "59e1936321b6478b923443912072adcc",
       "version_major": 2,
       "version_minor": 0
      },
      "text/plain": [
       "MultipleChoice(children=(HTML(value='<h4 style=\"font-size:14px;\">Identifizieren Sie das Vorfeld des ersten und…"
      ]
     },
     "metadata": {},
     "output_type": "display_data"
    },
    {
     "data": {
      "application/vnd.jupyter.widget-view+json": {
       "model_id": "670716a3b8b04ee1af5fd36aa1b193dc",
       "version_major": 2,
       "version_minor": 0
      },
      "text/plain": [
       "MultipleChoice(children=(HTML(value='<h4 style=\"font-size:14px;\">Wann ist die Konstituentenverbindung <i>Satzg…"
      ]
     },
     "metadata": {},
     "output_type": "display_data"
    },
    {
     "data": {
      "application/vnd.jupyter.widget-view+json": {
       "model_id": "d5825856529d4341857ff7ffc43bc09a",
       "version_major": 2,
       "version_minor": 0
      },
      "text/plain": [
       "SingleChoice(children=(HTML(value='<h4 style=\"font-size:14px;\">Welche übergeordnete Konstituente läßt sich im …"
      ]
     },
     "metadata": {},
     "output_type": "display_data"
    }
   ],
   "source": [
    "aufgabe(blatt8_3)"
   ]
  },
  {
   "cell_type": "markdown",
   "metadata": {
    "slideshow": {
     "slide_type": "slide"
    }
   },
   "source": [
    "---\n",
    "## Aufgabe 4: Stellungsregeln\n",
    "\n",
    "#### Erläutern Sie, warum die folgenden Sätze nur bedingt akzeptabel sind:\n",
    "1. *? Ich weiß, dass Peter auf den Tisch die Lampe stellt.*\n",
    "1. *? Ich weiß, dass Peter 100 Rosen seiner Freundin geschenkt hat.*\n",
    "1. *? Ich weiß, dass Peter ihr sie geschenkt hat.*\n",
    "1. *? Ich weiß, dass Peter immer zu spät halt kommt.*"
   ]
  },
  {
   "cell_type": "markdown",
   "metadata": {
    "slideshow": {
     "slide_type": "subslide"
    }
   },
   "source": [
    "#### Geben Sie für jede der folgenden Stellungsregeln des Deutschen an, welcher der obigen Sätze diese verletzt:"
   ]
  },
  {
   "cell_type": "code",
   "execution_count": 6,
   "metadata": {
    "slideshow": {
     "slide_type": "fragment"
    }
   },
   "outputs": [
    {
     "data": {
      "application/vnd.jupyter.widget-view+json": {
       "model_id": "26e1e9eac8154db28127bdec77bb14b8",
       "version_major": 2,
       "version_minor": 0
      },
      "text/plain": [
       "SingleChoice(children=(HTML(value='<h4 style=\"font-size:14px;\">\\'Präpositionale Objekte stehen in Verbendsät…"
      ]
     },
     "metadata": {},
     "output_type": "display_data"
    },
    {
     "data": {
      "application/vnd.jupyter.widget-view+json": {
       "model_id": "c1fcfd8d6ae04bc99e58be5ed535f1c5",
       "version_major": 2,
       "version_minor": 0
      },
      "text/plain": [
       "SingleChoice(children=(HTML(value='<h4 style=\"font-size:14px;\">\\'Die Abfolgeregularität für Personalpronomina…"
      ]
     },
     "metadata": {},
     "output_type": "display_data"
    },
    {
     "data": {
      "application/vnd.jupyter.widget-view+json": {
       "model_id": "0a6369e458754416bf84b6a6a4415ce7",
       "version_major": 2,
       "version_minor": 0
      },
      "text/plain": [
       "SingleChoice(children=(HTML(value='<h4 style=\"font-size:14px;\">\\'Im unmarkierten Fall steht die Modalpartikel …"
      ]
     },
     "metadata": {},
     "output_type": "display_data"
    },
    {
     "data": {
      "application/vnd.jupyter.widget-view+json": {
       "model_id": "03667a2b721f4cde8267a4ff4c96c6f9",
       "version_major": 2,
       "version_minor": 0
      },
      "text/plain": [
       "SingleChoice(children=(HTML(value='<h4 style=\"font-size:14px;\">\\'Die (markierte) Abfolge ›Subjekt vor Akkusati…"
      ]
     },
     "metadata": {},
     "output_type": "display_data"
    }
   ],
   "source": [
    "aufgabe(blatt8_4)"
   ]
  },
  {
   "cell_type": "markdown",
   "metadata": {
    "slideshow": {
     "slide_type": "slide"
    }
   },
   "source": [
    "--- \n",
    "## Aufgabe 5: Syntaxregeln komplexer Sätze\n",
    "#### Geben Sie zu den folgenden Outputs des Stanford-Parsers (trainiert auf Penn-Treebank bzw. mit UD-Schema) anhand der Ableitungsbäume die Regeln der jeweils auftretenden komplexen Satzkonstruktionen an (CFG- sowie Dependenzregeln) und benennen Sie den Satz- bzw. Konstruktionstyp. "
   ]
  },
  {
   "cell_type": "markdown",
   "metadata": {
    "slideshow": {
     "slide_type": "subslide"
    }
   },
   "source": [
    "---\n",
    "### Aufgabe 5a: "
   ]
  },
  {
   "cell_type": "code",
   "execution_count": 12,
   "metadata": {
    "slideshow": {
     "slide_type": "fragment"
    }
   },
   "outputs": [],
   "source": [
    "sentence = \"I believe that you win.\""
   ]
  },
  {
   "cell_type": "code",
   "execution_count": 7,
   "metadata": {
    "slideshow": {
     "slide_type": "subslide"
    }
   },
   "outputs": [
    {
     "data": {
      "application/vnd.jupyter.widget-view+json": {
       "model_id": "52535a5aee4a427bb981232fd6c77699",
       "version_major": 2,
       "version_minor": 0
      },
      "text/plain": [
       "SingleChoice(children=(HTML(value='<h4 style=\"font-size:14px;\">Was für eine Satzkonstruktion liegt hier vor?</…"
      ]
     },
     "metadata": {},
     "output_type": "display_data"
    },
    {
     "data": {
      "application/vnd.jupyter.widget-view+json": {
       "model_id": "f560212670f341e1997547e45916a13b",
       "version_major": 2,
       "version_minor": 0
      },
      "text/plain": [
       "SelectionList(children=(HTML(value='<h4 style=\"font-size:14px;\">Welcher eingebettete Satztyp liegt vor?</h4>')…"
      ]
     },
     "metadata": {},
     "output_type": "display_data"
    },
    {
     "data": {
      "application/vnd.jupyter.widget-view+json": {
       "model_id": "11771c49cd0f49729bd3f1659cce1e66",
       "version_major": 2,
       "version_minor": 0
      },
      "text/plain": [
       "SelectionList(children=(HTML(value='<h4 style=\"font-size:14px;\">Wie läßt sich dieser Satztyp klassifizieren?</…"
      ]
     },
     "metadata": {},
     "output_type": "display_data"
    }
   ],
   "source": [
    "aufgabe(blatt8_5a)"
   ]
  },
  {
   "cell_type": "markdown",
   "metadata": {
    "slideshow": {
     "slide_type": "subslide"
    }
   },
   "source": [
    "### *Konstituentenanalyse:*"
   ]
  },
  {
   "cell_type": "code",
   "execution_count": 11,
   "metadata": {
    "slideshow": {
     "slide_type": "fragment"
    }
   },
   "outputs": [
    {
     "data": {
      "image/png": "[encoded data removed]",
      "text/plain": [
       "Tree('ROOT', [Tree('S', [Tree('NP', [Tree('PRP', ['I'])]), Tree('VP', [Tree('VBP', ['believe']), Tree('SBAR', [Tree('IN', ['that']), Tree('S', [Tree('NP', [Tree('PRP', ['you'])]), Tree('VP', [Tree('VBP', ['win'])])])])]), Tree('.', ['.'])])])"
      ]
     },
     "metadata": {},
     "output_type": "display_data"
    }
   ],
   "source": [
    "tree_list = list(parser.raw_parse(sentence))\n",
    "display(tree_list[0])"
   ]
  },
  {
   "cell_type": "markdown",
   "metadata": {
    "slideshow": {
     "slide_type": "fragment"
    }
   },
   "source": [
    "#### Geben Sie die CFG-Ableitungsregeln für diese komplexe Satzkonstruktion an:"
   ]
  },
  {
   "cell_type": "markdown",
   "metadata": {
    "slideshow": {
     "slide_type": "subslide"
    }
   },
   "source": [
    "*Lösung:*\n",
    "\n",
    "`VP -> VBP SBAR`\n",
    "\n",
    "`SBAR -> IN S`"
   ]
  },
  {
   "cell_type": "markdown",
   "metadata": {
    "slideshow": {
     "slide_type": "subslide"
    }
   },
   "source": [
    "---\n",
    "### *Dependenzanalyse:*"
   ]
  },
  {
   "cell_type": "code",
   "execution_count": 13,
   "metadata": {
    "slideshow": {
     "slide_type": "fragment"
    }
   },
   "outputs": [
    {
     "data": {
      "image/svg+xml": [
       "<?xml version=\"1.0\" encoding=\"UTF-8\" standalone=\"no\"?>\n",
       "<!DOCTYPE svg PUBLIC \"-//W3C//DTD SVG 1.1//EN\"\n",
       " \"http://www.w3.org/Graphics/SVG/1.1/DTD/svg11.dtd\">\n",
       "<!-- Generated by graphviz version 2.40.1 (20161225.0304)\n",
       " -->\n",
       "<!-- Title: G Pages: 1 -->\n",
       "<svg width=\"173pt\" height=\"302pt\"\n",
       " viewBox=\"0.00 0.00 173.41 302.00\" xmlns=\"http://www.w3.org/2000/svg\" xmlns:xlink=\"http://www.w3.org/1999/xlink\">\n",
       "<g id=\"graph0\" class=\"graph\" transform=\"scale(1 1) rotate(0) translate(4 298)\">\n",
       "<title>G</title>\n",
       "<polygon fill=\"#ffffff\" stroke=\"transparent\" points=\"-4,4 -4,-298 169.4121,-298 169.4121,4 -4,4\"/>\n",
       "<!-- 0 -->\n",
       "<g id=\"node1\" class=\"node\">\n",
       "<title>0</title>\n",
       "<text text-anchor=\"middle\" x=\"53\" y=\"-271.8\" font-family=\"Times,serif\" font-size=\"14.00\" fill=\"#000000\">0 (None)</text>\n",
       "</g>\n",
       "<!-- 2 -->\n",
       "<g id=\"node2\" class=\"node\">\n",
       "<title>2</title>\n",
       "<text text-anchor=\"middle\" x=\"53\" y=\"-185.8\" font-family=\"Times,serif\" font-size=\"14.00\" fill=\"#000000\">2 (believe)</text>\n",
       "</g>\n",
       "<!-- 0&#45;&gt;2 -->\n",
       "<g id=\"edge1\" class=\"edge\">\n",
       "<title>0&#45;&gt;2</title>\n",
       "<path fill=\"none\" stroke=\"#000000\" d=\"M53,-257.7616C53,-246.3597 53,-231.4342 53,-218.494\"/>\n",
       "<polygon fill=\"#000000\" stroke=\"#000000\" points=\"56.5001,-218.2121 53,-208.2121 49.5001,-218.2121 56.5001,-218.2121\"/>\n",
       "<text text-anchor=\"middle\" x=\"64.2759\" y=\"-228.8\" font-family=\"Times,serif\" font-size=\"14.00\" fill=\"#000000\">root</text>\n",
       "</g>\n",
       "<!-- 1 -->\n",
       "<g id=\"node3\" class=\"node\">\n",
       "<title>1</title>\n",
       "<text text-anchor=\"middle\" x=\"27\" y=\"-99.8\" font-family=\"Times,serif\" font-size=\"14.00\" fill=\"#000000\">1 (I)</text>\n",
       "</g>\n",
       "<!-- 2&#45;&gt;1 -->\n",
       "<g id=\"edge2\" class=\"edge\">\n",
       "<title>2&#45;&gt;1</title>\n",
       "<path fill=\"none\" stroke=\"#000000\" d=\"M44.5023,-171.9432C42.0587,-166.2843 39.5475,-159.959 37.6621,-154 35.4675,-147.0636 33.5851,-139.443 32.0401,-132.2876\"/>\n",
       "<polygon fill=\"#000000\" stroke=\"#000000\" points=\"35.428,-131.3817 30.0207,-122.2706 28.566,-132.7651 35.428,-131.3817\"/>\n",
       "<text text-anchor=\"middle\" x=\"53.1689\" y=\"-142.8\" font-family=\"Times,serif\" font-size=\"14.00\" fill=\"#000000\">nsubj</text>\n",
       "</g>\n",
       "<!-- 5 -->\n",
       "<g id=\"node4\" class=\"node\">\n",
       "<title>5</title>\n",
       "<text text-anchor=\"middle\" x=\"100\" y=\"-99.8\" font-family=\"Times,serif\" font-size=\"14.00\" fill=\"#000000\">5 (win)</text>\n",
       "</g>\n",
       "<!-- 2&#45;&gt;5 -->\n",
       "<g id=\"edge3\" class=\"edge\">\n",
       "<title>2&#45;&gt;5</title>\n",
       "<path fill=\"none\" stroke=\"#000000\" d=\"M62.9675,-171.7616C69.3857,-160.0176 77.8469,-144.5355 85.0612,-131.3349\"/>\n",
       "<polygon fill=\"#000000\" stroke=\"#000000\" points=\"88.3224,-132.6657 90.0469,-122.2121 82.1799,-129.3087 88.3224,-132.6657\"/>\n",
       "<text text-anchor=\"middle\" x=\"98.6587\" y=\"-142.8\" font-family=\"Times,serif\" font-size=\"14.00\" fill=\"#000000\">ccomp</text>\n",
       "</g>\n",
       "<!-- 3 -->\n",
       "<g id=\"node5\" class=\"node\">\n",
       "<title>3</title>\n",
       "<text text-anchor=\"middle\" x=\"62\" y=\"-13.8\" font-family=\"Times,serif\" font-size=\"14.00\" fill=\"#000000\">3 (that)</text>\n",
       "</g>\n",
       "<!-- 5&#45;&gt;3 -->\n",
       "<g id=\"edge4\" class=\"edge\">\n",
       "<title>5&#45;&gt;3</title>\n",
       "<path fill=\"none\" stroke=\"#000000\" d=\"M91.3492,-85.7413C88.704,-80.0743 85.8134,-73.795 83.2344,-68 80.0181,-60.7732 76.63,-52.9146 73.5278,-45.614\"/>\n",
       "<polygon fill=\"#000000\" stroke=\"#000000\" points=\"76.6319,-43.9675 69.5179,-36.1163 70.1831,-46.6902 76.6319,-43.9675\"/>\n",
       "<text text-anchor=\"middle\" x=\"98.3828\" y=\"-56.8\" font-family=\"Times,serif\" font-size=\"14.00\" fill=\"#000000\">mark</text>\n",
       "</g>\n",
       "<!-- 4 -->\n",
       "<g id=\"node6\" class=\"node\">\n",
       "<title>4</title>\n",
       "<text text-anchor=\"middle\" x=\"137\" y=\"-13.8\" font-family=\"Times,serif\" font-size=\"14.00\" fill=\"#000000\">4 (you)</text>\n",
       "</g>\n",
       "<!-- 5&#45;&gt;4 -->\n",
       "<g id=\"edge5\" class=\"edge\">\n",
       "<title>5&#45;&gt;4</title>\n",
       "<path fill=\"none\" stroke=\"#000000\" d=\"M107.8467,-85.7616C112.8503,-74.1316 119.4311,-58.8357 125.074,-45.72\"/>\n",
       "<polygon fill=\"#000000\" stroke=\"#000000\" points=\"128.4275,-46.7813 129.1646,-36.2121 121.9974,-44.0148 128.4275,-46.7813\"/>\n",
       "<text text-anchor=\"middle\" x=\"135.1689\" y=\"-56.8\" font-family=\"Times,serif\" font-size=\"14.00\" fill=\"#000000\">nsubj</text>\n",
       "</g>\n",
       "</g>\n",
       "</svg>\n"
      ],
      "text/plain": [
       "<DependencyGraph with 6 nodes>"
      ]
     },
     "metadata": {},
     "output_type": "display_data"
    }
   ],
   "source": [
    "tree_list = list(dep_parser.raw_parse(sentence))\n",
    "display(tree_list[0])"
   ]
  },
  {
   "cell_type": "markdown",
   "metadata": {
    "slideshow": {
     "slide_type": "fragment"
    }
   },
   "source": [
    "#### Geben Sie die Dependenzregeln für diese komplexe Satzkonstruktion an:"
   ]
  },
  {
   "cell_type": "markdown",
   "metadata": {
    "slideshow": {
     "slide_type": "subslide"
    }
   },
   "source": [
    "*Lösung:*\n",
    "\n",
    "`VBP -> VBP (ccomp)`\n",
    "\n",
    "`VBP -> IN (mark)`"
   ]
  },
  {
   "cell_type": "markdown",
   "metadata": {
    "slideshow": {
     "slide_type": "subslide"
    }
   },
   "source": [
    "---\n",
    "### Aufgabe 5b: "
   ]
  },
  {
   "cell_type": "code",
   "execution_count": 14,
   "metadata": {
    "slideshow": {
     "slide_type": "fragment"
    }
   },
   "outputs": [],
   "source": [
    "sentence = \"I want to believe.\""
   ]
  },
  {
   "cell_type": "code",
   "execution_count": 15,
   "metadata": {
    "slideshow": {
     "slide_type": "subslide"
    }
   },
   "outputs": [
    {
     "data": {
      "application/vnd.jupyter.widget-view+json": {
       "model_id": "538585f9f1054ea6a3bcb5129b2e8694",
       "version_major": 2,
       "version_minor": 0
      },
      "text/plain": [
       "SingleChoice(children=(HTML(value='<h4 style=\"font-size:14px;\">Was für eine Satzkonstruktion liegt hier vor?</…"
      ]
     },
     "metadata": {},
     "output_type": "display_data"
    },
    {
     "data": {
      "application/vnd.jupyter.widget-view+json": {
       "model_id": "26ef7540ae024a1bbcead79e85ee3890",
       "version_major": 2,
       "version_minor": 0
      },
      "text/plain": [
       "SelectionList(children=(HTML(value='<h4 style=\"font-size:14px;\">Welcher eingebettete Satztyp liegt vor?</h4>')…"
      ]
     },
     "metadata": {},
     "output_type": "display_data"
    },
    {
     "data": {
      "application/vnd.jupyter.widget-view+json": {
       "model_id": "76cd3ab6481242088c3640c765b91c9b",
       "version_major": 2,
       "version_minor": 0
      },
      "text/plain": [
       "SelectionList(children=(HTML(value='<h4 style=\"font-size:14px;\">Wie läßt sich dieser Satztyp klassifizieren?</…"
      ]
     },
     "metadata": {},
     "output_type": "display_data"
    }
   ],
   "source": [
    "aufgabe(blatt8_5b)"
   ]
  },
  {
   "cell_type": "markdown",
   "metadata": {
    "slideshow": {
     "slide_type": "subslide"
    }
   },
   "source": [
    "### *Konstituentenanalyse:*"
   ]
  },
  {
   "cell_type": "code",
   "execution_count": 16,
   "metadata": {
    "slideshow": {
     "slide_type": "fragment"
    }
   },
   "outputs": [
    {
     "data": {
      "image/png": "[encoded data removed]",
      "text/plain": [
       "Tree('ROOT', [Tree('S', [Tree('NP', [Tree('PRP', ['I'])]), Tree('VP', [Tree('VBP', ['want']), Tree('S', [Tree('VP', [Tree('TO', ['to']), Tree('VP', [Tree('VB', ['believe'])])])])]), Tree('.', ['.'])])])"
      ]
     },
     "metadata": {},
     "output_type": "display_data"
    }
   ],
   "source": [
    "tree_list = list(parser.raw_parse(sentence))\n",
    "display(tree_list[0])"
   ]
  },
  {
   "cell_type": "markdown",
   "metadata": {
    "slideshow": {
     "slide_type": "fragment"
    }
   },
   "source": [
    "#### Geben Sie die CFG-Ableitungsregeln für diese komplexe Satzkonstruktion an:"
   ]
  },
  {
   "cell_type": "markdown",
   "metadata": {
    "slideshow": {
     "slide_type": "subslide"
    }
   },
   "source": [
    "*Lösung:*\n",
    "\n",
    "`VP -> VBP S`\n",
    "\n",
    "`S -> VP` # Satzregel für subjektlose Infinitivsätze notwendig\n",
    "\n",
    "`VP -> TO VP`"
   ]
  },
  {
   "cell_type": "markdown",
   "metadata": {
    "slideshow": {
     "slide_type": "slide"
    }
   },
   "source": [
    "---\n",
    "### *Dependenzanalyse:*"
   ]
  },
  {
   "cell_type": "code",
   "execution_count": 17,
   "metadata": {
    "slideshow": {
     "slide_type": "fragment"
    }
   },
   "outputs": [
    {
     "data": {
      "image/svg+xml": [
       "<?xml version=\"1.0\" encoding=\"UTF-8\" standalone=\"no\"?>\n",
       "<!DOCTYPE svg PUBLIC \"-//W3C//DTD SVG 1.1//EN\"\n",
       " \"http://www.w3.org/Graphics/SVG/1.1/DTD/svg11.dtd\">\n",
       "<!-- Generated by graphviz version 2.40.1 (20161225.0304)\n",
       " -->\n",
       "<!-- Title: G Pages: 1 -->\n",
       "<svg width=\"156pt\" height=\"302pt\"\n",
       " viewBox=\"0.00 0.00 156.12 302.00\" xmlns=\"http://www.w3.org/2000/svg\" xmlns:xlink=\"http://www.w3.org/1999/xlink\">\n",
       "<g id=\"graph0\" class=\"graph\" transform=\"scale(1 1) rotate(0) translate(4 298)\">\n",
       "<title>G</title>\n",
       "<polygon fill=\"#ffffff\" stroke=\"transparent\" points=\"-4,4 -4,-298 152.1226,-298 152.1226,4 -4,4\"/>\n",
       "<!-- 0 -->\n",
       "<g id=\"node1\" class=\"node\">\n",
       "<title>0</title>\n",
       "<text text-anchor=\"middle\" x=\"61\" y=\"-271.8\" font-family=\"Times,serif\" font-size=\"14.00\" fill=\"#000000\">0 (None)</text>\n",
       "</g>\n",
       "<!-- 2 -->\n",
       "<g id=\"node2\" class=\"node\">\n",
       "<title>2</title>\n",
       "<text text-anchor=\"middle\" x=\"61\" y=\"-185.8\" font-family=\"Times,serif\" font-size=\"14.00\" fill=\"#000000\">2 (want)</text>\n",
       "</g>\n",
       "<!-- 0&#45;&gt;2 -->\n",
       "<g id=\"edge1\" class=\"edge\">\n",
       "<title>0&#45;&gt;2</title>\n",
       "<path fill=\"none\" stroke=\"#000000\" d=\"M61,-257.7616C61,-246.3597 61,-231.4342 61,-218.494\"/>\n",
       "<polygon fill=\"#000000\" stroke=\"#000000\" points=\"64.5001,-218.2121 61,-208.2121 57.5001,-218.2121 64.5001,-218.2121\"/>\n",
       "<text text-anchor=\"middle\" x=\"72.2759\" y=\"-228.8\" font-family=\"Times,serif\" font-size=\"14.00\" fill=\"#000000\">root</text>\n",
       "</g>\n",
       "<!-- 1 -->\n",
       "<g id=\"node3\" class=\"node\">\n",
       "<title>1</title>\n",
       "<text text-anchor=\"middle\" x=\"27\" y=\"-99.8\" font-family=\"Times,serif\" font-size=\"14.00\" fill=\"#000000\">1 (I)</text>\n",
       "</g>\n",
       "<!-- 2&#45;&gt;1 -->\n",
       "<g id=\"edge2\" class=\"edge\">\n",
       "<title>2&#45;&gt;1</title>\n",
       "<path fill=\"none\" stroke=\"#000000\" d=\"M51.066,-171.9628C48.1535,-166.3048 45.0996,-159.9749 42.6621,-154 39.8457,-147.0961 37.2271,-139.4873 34.9684,-132.3327\"/>\n",
       "<polygon fill=\"#000000\" stroke=\"#000000\" points=\"38.1821,-130.8681 31.9357,-122.3105 31.4821,-132.8956 38.1821,-130.8681\"/>\n",
       "<text text-anchor=\"middle\" x=\"57.1689\" y=\"-142.8\" font-family=\"Times,serif\" font-size=\"14.00\" fill=\"#000000\">nsubj</text>\n",
       "</g>\n",
       "<!-- 4 -->\n",
       "<g id=\"node4\" class=\"node\">\n",
       "<title>4</title>\n",
       "<text text-anchor=\"middle\" x=\"110\" y=\"-99.8\" font-family=\"Times,serif\" font-size=\"14.00\" fill=\"#000000\">4 (believe)</text>\n",
       "</g>\n",
       "<!-- 2&#45;&gt;4 -->\n",
       "<g id=\"edge3\" class=\"edge\">\n",
       "<title>2&#45;&gt;4</title>\n",
       "<path fill=\"none\" stroke=\"#000000\" d=\"M71.3916,-171.7616C78.148,-159.9036 87.0757,-144.2345 94.6442,-130.951\"/>\n",
       "<polygon fill=\"#000000\" stroke=\"#000000\" points=\"97.7138,-132.6334 99.6233,-122.2121 91.6318,-129.1681 97.7138,-132.6334\"/>\n",
       "<text text-anchor=\"middle\" x=\"107.0518\" y=\"-142.8\" font-family=\"Times,serif\" font-size=\"14.00\" fill=\"#000000\">xcomp</text>\n",
       "</g>\n",
       "<!-- 3 -->\n",
       "<g id=\"node5\" class=\"node\">\n",
       "<title>3</title>\n",
       "<text text-anchor=\"middle\" x=\"110\" y=\"-13.8\" font-family=\"Times,serif\" font-size=\"14.00\" fill=\"#000000\">3 (to)</text>\n",
       "</g>\n",
       "<!-- 4&#45;&gt;3 -->\n",
       "<g id=\"edge4\" class=\"edge\">\n",
       "<title>4&#45;&gt;3</title>\n",
       "<path fill=\"none\" stroke=\"#000000\" d=\"M110,-85.7616C110,-74.3597 110,-59.4342 110,-46.494\"/>\n",
       "<polygon fill=\"#000000\" stroke=\"#000000\" points=\"113.5001,-46.2121 110,-36.2121 106.5001,-46.2121 113.5001,-46.2121\"/>\n",
       "<text text-anchor=\"middle\" x=\"124.3828\" y=\"-56.8\" font-family=\"Times,serif\" font-size=\"14.00\" fill=\"#000000\">mark</text>\n",
       "</g>\n",
       "</g>\n",
       "</svg>\n"
      ],
      "text/plain": [
       "<DependencyGraph with 5 nodes>"
      ]
     },
     "metadata": {},
     "output_type": "display_data"
    }
   ],
   "source": [
    "tree_list = list(dep_parser.raw_parse(sentence))\n",
    "display(tree_list[0])"
   ]
  },
  {
   "cell_type": "markdown",
   "metadata": {
    "slideshow": {
     "slide_type": "fragment"
    }
   },
   "source": [
    "#### Geben Sie die Dependenzregeln für diese komplexe Satzkonstruktion an:"
   ]
  },
  {
   "cell_type": "markdown",
   "metadata": {
    "slideshow": {
     "slide_type": "subslide"
    }
   },
   "source": [
    "*Lösung:*\n",
    "\n",
    "`VBP/want -> VB/believe (xcomp)`\n",
    "\n",
    "`VB/believe -> TO/to (mark)`"
   ]
  },
  {
   "cell_type": "markdown",
   "metadata": {
    "slideshow": {
     "slide_type": "subslide"
    }
   },
   "source": [
    "#### Beantworten Sie noch folgende Zusatzfragen zu Aufgabe 5b:"
   ]
  },
  {
   "cell_type": "code",
   "execution_count": 18,
   "metadata": {
    "scrolled": false,
    "slideshow": {
     "slide_type": "fragment"
    }
   },
   "outputs": [
    {
     "data": {
      "application/vnd.jupyter.widget-view+json": {
       "model_id": "94478c8f120c485c8a17404e1be5ed5a",
       "version_major": 2,
       "version_minor": 0
      },
      "text/plain": [
       "SingleChoice(children=(HTML(value='<h4 style=\"font-size:14px;\">Welche Form der Kontrolle liegt hier vor?</h4>'…"
      ]
     },
     "metadata": {},
     "output_type": "display_data"
    },
    {
     "data": {
      "application/vnd.jupyter.widget-view+json": {
       "model_id": "d1412f63d6d745db8597fc7de5745ff7",
       "version_major": 2,
       "version_minor": 0
      },
      "text/plain": [
       "SingleChoice(children=(HTML(value='<h4 style=\"font-size:14px;\">Welche Form der Kontrolle liegt in folgendem Sa…"
      ]
     },
     "metadata": {},
     "output_type": "display_data"
    },
    {
     "data": {
      "application/vnd.jupyter.widget-view+json": {
       "model_id": "7c57242e7373480692bac4619f58b9ff",
       "version_major": 2,
       "version_minor": 0
      },
      "text/plain": [
       "MultipleChoice(children=(HTML(value='<h4 style=\"font-size:14px;\">Welche satzwertigen Funktionen können Infinit…"
      ]
     },
     "metadata": {},
     "output_type": "display_data"
    }
   ],
   "source": [
    "aufgabe(blatt8_5b_zusatz)"
   ]
  },
  {
   "cell_type": "markdown",
   "metadata": {
    "slideshow": {
     "slide_type": "subslide"
    }
   },
   "source": [
    "---\n",
    "### Aufgabe 5c: "
   ]
  },
  {
   "cell_type": "code",
   "execution_count": 19,
   "metadata": {
    "slideshow": {
     "slide_type": "fragment"
    }
   },
   "outputs": [],
   "source": [
    "sentence = \"the man who knew too much\""
   ]
  },
  {
   "cell_type": "code",
   "execution_count": 20,
   "metadata": {
    "slideshow": {
     "slide_type": "subslide"
    }
   },
   "outputs": [
    {
     "data": {
      "application/vnd.jupyter.widget-view+json": {
       "model_id": "948705a224144c25944ae56e59540c17",
       "version_major": 2,
       "version_minor": 0
      },
      "text/plain": [
       "SingleChoice(children=(HTML(value='<h4 style=\"font-size:14px;\">Was für eine Satzkonstruktion liegt hier vor?</…"
      ]
     },
     "metadata": {},
     "output_type": "display_data"
    },
    {
     "data": {
      "application/vnd.jupyter.widget-view+json": {
       "model_id": "bf675ab95a9e48ccaf11c8c06687ad23",
       "version_major": 2,
       "version_minor": 0
      },
      "text/plain": [
       "SelectionList(children=(HTML(value='<h4 style=\"font-size:14px;\">Welcher eingebettete Satztyp liegt vor?</h4>')…"
      ]
     },
     "metadata": {},
     "output_type": "display_data"
    },
    {
     "data": {
      "application/vnd.jupyter.widget-view+json": {
       "model_id": "92745b8b99e34e88b5df5ade8c033249",
       "version_major": 2,
       "version_minor": 0
      },
      "text/plain": [
       "SelectionList(children=(HTML(value='<h4 style=\"font-size:14px;\">Wie läßt sich dieser Satztyp klassifizieren?</…"
      ]
     },
     "metadata": {},
     "output_type": "display_data"
    }
   ],
   "source": [
    "aufgabe(blatt8_5c)"
   ]
  },
  {
   "cell_type": "markdown",
   "metadata": {
    "slideshow": {
     "slide_type": "subslide"
    }
   },
   "source": [
    "### *Konstituentenanalyse:*"
   ]
  },
  {
   "cell_type": "code",
   "execution_count": 21,
   "metadata": {
    "slideshow": {
     "slide_type": "fragment"
    }
   },
   "outputs": [
    {
     "data": {
      "image/png": "[encoded data removed]",
      "text/plain": [
       "Tree('ROOT', [Tree('FRAG', [Tree('NP', [Tree('NP', [Tree('DT', ['the']), Tree('NN', ['man'])]), Tree('SBAR', [Tree('WHNP', [Tree('WP', ['who'])]), Tree('S', [Tree('VP', [Tree('VBD', ['knew']), Tree('ADJP', [Tree('RB', ['too']), Tree('JJ', ['much'])])])])])])])])"
      ]
     },
     "metadata": {},
     "output_type": "display_data"
    }
   ],
   "source": [
    "tree_list = list(parser.raw_parse(sentence))\n",
    "display(tree_list[0])"
   ]
  },
  {
   "cell_type": "markdown",
   "metadata": {
    "slideshow": {
     "slide_type": "fragment"
    }
   },
   "source": [
    "#### Geben Sie die CFG-Ableitungsregeln für diese komplexe Satzkonstruktion an:"
   ]
  },
  {
   "cell_type": "markdown",
   "metadata": {
    "slideshow": {
     "slide_type": "subslide"
    }
   },
   "source": [
    "*Lösung:*\n",
    "\n",
    "`NP -> NP SBAR`\n",
    "\n",
    "`SBAR -> WHNP S`\n",
    "\n",
    "`WHNP -> WP`\n",
    "\n",
    "`S -> VP`\n"
   ]
  },
  {
   "cell_type": "markdown",
   "metadata": {
    "slideshow": {
     "slide_type": "subslide"
    }
   },
   "source": [
    "---\n",
    "### *Dependenzanalyse:*"
   ]
  },
  {
   "cell_type": "code",
   "execution_count": 22,
   "metadata": {
    "slideshow": {
     "slide_type": "fragment"
    }
   },
   "outputs": [
    {
     "data": {
      "image/svg+xml": [
       "<?xml version=\"1.0\" encoding=\"UTF-8\" standalone=\"no\"?>\n",
       "<!DOCTYPE svg PUBLIC \"-//W3C//DTD SVG 1.1//EN\"\n",
       " \"http://www.w3.org/Graphics/SVG/1.1/DTD/svg11.dtd\">\n",
       "<!-- Generated by graphviz version 2.40.1 (20161225.0304)\n",
       " -->\n",
       "<!-- Title: G Pages: 1 -->\n",
       "<svg width=\"205pt\" height=\"388pt\"\n",
       " viewBox=\"0.00 0.00 205.10 388.00\" xmlns=\"http://www.w3.org/2000/svg\" xmlns:xlink=\"http://www.w3.org/1999/xlink\">\n",
       "<g id=\"graph0\" class=\"graph\" transform=\"scale(1 1) rotate(0) translate(4 384)\">\n",
       "<title>G</title>\n",
       "<polygon fill=\"#ffffff\" stroke=\"transparent\" points=\"-4,4 -4,-384 201.1035,-384 201.1035,4 -4,4\"/>\n",
       "<!-- 0 -->\n",
       "<g id=\"node1\" class=\"node\">\n",
       "<title>0</title>\n",
       "<text text-anchor=\"middle\" x=\"56\" y=\"-357.8\" font-family=\"Times,serif\" font-size=\"14.00\" fill=\"#000000\">0 (None)</text>\n",
       "</g>\n",
       "<!-- 2 -->\n",
       "<g id=\"node2\" class=\"node\">\n",
       "<title>2</title>\n",
       "<text text-anchor=\"middle\" x=\"56\" y=\"-271.8\" font-family=\"Times,serif\" font-size=\"14.00\" fill=\"#000000\">2 (man)</text>\n",
       "</g>\n",
       "<!-- 0&#45;&gt;2 -->\n",
       "<g id=\"edge1\" class=\"edge\">\n",
       "<title>0&#45;&gt;2</title>\n",
       "<path fill=\"none\" stroke=\"#000000\" d=\"M56,-343.7616C56,-332.3597 56,-317.4342 56,-304.494\"/>\n",
       "<polygon fill=\"#000000\" stroke=\"#000000\" points=\"59.5001,-304.2121 56,-294.2121 52.5001,-304.2121 59.5001,-304.2121\"/>\n",
       "<text text-anchor=\"middle\" x=\"67.2759\" y=\"-314.8\" font-family=\"Times,serif\" font-size=\"14.00\" fill=\"#000000\">root</text>\n",
       "</g>\n",
       "<!-- 1 -->\n",
       "<g id=\"node3\" class=\"node\">\n",
       "<title>1</title>\n",
       "<text text-anchor=\"middle\" x=\"27\" y=\"-185.8\" font-family=\"Times,serif\" font-size=\"14.00\" fill=\"#000000\">1 (the)</text>\n",
       "</g>\n",
       "<!-- 2&#45;&gt;1 -->\n",
       "<g id=\"edge2\" class=\"edge\">\n",
       "<title>2&#45;&gt;1</title>\n",
       "<path fill=\"none\" stroke=\"#000000\" d=\"M49.8498,-257.7616C45.9281,-246.1316 40.7702,-230.8357 36.3474,-217.72\"/>\n",
       "<polygon fill=\"#000000\" stroke=\"#000000\" points=\"39.6532,-216.5695 33.1413,-208.2121 33.0202,-218.8062 39.6532,-216.5695\"/>\n",
       "<text text-anchor=\"middle\" x=\"52.5518\" y=\"-228.8\" font-family=\"Times,serif\" font-size=\"14.00\" fill=\"#000000\">det</text>\n",
       "</g>\n",
       "<!-- 4 -->\n",
       "<g id=\"node4\" class=\"node\">\n",
       "<title>4</title>\n",
       "<text text-anchor=\"middle\" x=\"105\" y=\"-185.8\" font-family=\"Times,serif\" font-size=\"14.00\" fill=\"#000000\">4 (knew)</text>\n",
       "</g>\n",
       "<!-- 2&#45;&gt;4 -->\n",
       "<g id=\"edge3\" class=\"edge\">\n",
       "<title>2&#45;&gt;4</title>\n",
       "<path fill=\"none\" stroke=\"#000000\" d=\"M66.3916,-257.7616C73.148,-245.9036 82.0757,-230.2345 89.6442,-216.951\"/>\n",
       "<polygon fill=\"#000000\" stroke=\"#000000\" points=\"92.7138,-218.6334 94.6233,-208.2121 86.6318,-215.1681 92.7138,-218.6334\"/>\n",
       "<text text-anchor=\"middle\" x=\"105.5381\" y=\"-228.8\" font-family=\"Times,serif\" font-size=\"14.00\" fill=\"#000000\">acl:relcl</text>\n",
       "</g>\n",
       "<!-- 3 -->\n",
       "<g id=\"node5\" class=\"node\">\n",
       "<title>3</title>\n",
       "<text text-anchor=\"middle\" x=\"71\" y=\"-99.8\" font-family=\"Times,serif\" font-size=\"14.00\" fill=\"#000000\">3 (who)</text>\n",
       "</g>\n",
       "<!-- 4&#45;&gt;3 -->\n",
       "<g id=\"edge4\" class=\"edge\">\n",
       "<title>4&#45;&gt;3</title>\n",
       "<path fill=\"none\" stroke=\"#000000\" d=\"M94.2072,-171.6722C91.1935,-166.1113 88.0843,-159.9079 85.6621,-154 82.8493,-147.1393 80.3345,-139.5459 78.2154,-132.3925\"/>\n",
       "<polygon fill=\"#000000\" stroke=\"#000000\" points=\"81.4735,-131.0479 75.405,-122.3632 74.7331,-132.9367 81.4735,-131.0479\"/>\n",
       "<text text-anchor=\"middle\" x=\"100.1689\" y=\"-142.8\" font-family=\"Times,serif\" font-size=\"14.00\" fill=\"#000000\">nsubj</text>\n",
       "</g>\n",
       "<!-- 6 -->\n",
       "<g id=\"node6\" class=\"node\">\n",
       "<title>6</title>\n",
       "<text text-anchor=\"middle\" x=\"152\" y=\"-99.8\" font-family=\"Times,serif\" font-size=\"14.00\" fill=\"#000000\">6 (much)</text>\n",
       "</g>\n",
       "<!-- 4&#45;&gt;6 -->\n",
       "<g id=\"edge5\" class=\"edge\">\n",
       "<title>4&#45;&gt;6</title>\n",
       "<path fill=\"none\" stroke=\"#000000\" d=\"M114.9675,-171.7616C121.3857,-160.0176 129.8469,-144.5355 137.0612,-131.3349\"/>\n",
       "<polygon fill=\"#000000\" stroke=\"#000000\" points=\"140.3224,-132.6657 142.0469,-122.2121 134.1799,-129.3087 140.3224,-132.6657\"/>\n",
       "<text text-anchor=\"middle\" x=\"150.0518\" y=\"-142.8\" font-family=\"Times,serif\" font-size=\"14.00\" fill=\"#000000\">xcomp</text>\n",
       "</g>\n",
       "<!-- 5 -->\n",
       "<g id=\"node7\" class=\"node\">\n",
       "<title>5</title>\n",
       "<text text-anchor=\"middle\" x=\"152\" y=\"-13.8\" font-family=\"Times,serif\" font-size=\"14.00\" fill=\"#000000\">5 (too)</text>\n",
       "</g>\n",
       "<!-- 6&#45;&gt;5 -->\n",
       "<g id=\"edge6\" class=\"edge\">\n",
       "<title>6&#45;&gt;5</title>\n",
       "<path fill=\"none\" stroke=\"#000000\" d=\"M152,-85.7616C152,-74.3597 152,-59.4342 152,-46.494\"/>\n",
       "<polygon fill=\"#000000\" stroke=\"#000000\" points=\"155.5001,-46.2121 152,-36.2121 148.5001,-46.2121 155.5001,-46.2121\"/>\n",
       "<text text-anchor=\"middle\" x=\"174.5518\" y=\"-56.8\" font-family=\"Times,serif\" font-size=\"14.00\" fill=\"#000000\">advmod</text>\n",
       "</g>\n",
       "</g>\n",
       "</svg>\n"
      ],
      "text/plain": [
       "<DependencyGraph with 7 nodes>"
      ]
     },
     "metadata": {},
     "output_type": "display_data"
    }
   ],
   "source": [
    "tree_list = list(dep_parser.raw_parse(sentence))\n",
    "display(tree_list[0])"
   ]
  },
  {
   "cell_type": "markdown",
   "metadata": {
    "slideshow": {
     "slide_type": "fragment"
    }
   },
   "source": [
    "#### Geben Sie die Dependenzregeln für diese komplexe Satzkonstruktion an:"
   ]
  },
  {
   "cell_type": "markdown",
   "metadata": {
    "slideshow": {
     "slide_type": "subslide"
    }
   },
   "source": [
    "*Lösung:*\n",
    "\n",
    "`NN/man -> VBP/knew (acl:relcl)`\n",
    "\n",
    "`VBP/knew -> WP/who (nsubj)`\n"
   ]
  },
  {
   "cell_type": "markdown",
   "metadata": {
    "slideshow": {
     "slide_type": "subslide"
    }
   },
   "source": [
    "#### Beantworten Sie noch folgende Zusatzfrage zu Aufgabe 5c:"
   ]
  },
  {
   "cell_type": "code",
   "execution_count": 23,
   "metadata": {
    "slideshow": {
     "slide_type": "fragment"
    }
   },
   "outputs": [
    {
     "data": {
      "application/vnd.jupyter.widget-view+json": {
       "model_id": "89b1207573e948529aa8aee545161fdd",
       "version_major": 2,
       "version_minor": 0
      },
      "text/plain": [
       "MultipleChoice(children=(HTML(value='<h4 style=\"font-size:14px;\">Welche Attributsatztypen haben Sie in der Vor…"
      ]
     },
     "metadata": {},
     "output_type": "display_data"
    }
   ],
   "source": [
    "aufgabe(blatt8_5c_zusatz)"
   ]
  },
  {
   "cell_type": "markdown",
   "metadata": {
    "slideshow": {
     "slide_type": "subslide"
    }
   },
   "source": [
    "---\n",
    "### Aufgabe 5d: "
   ]
  },
  {
   "cell_type": "code",
   "execution_count": 24,
   "metadata": {
    "slideshow": {
     "slide_type": "fragment"
    }
   },
   "outputs": [],
   "source": [
    "sentence = \"They left, but they came back.\""
   ]
  },
  {
   "cell_type": "code",
   "execution_count": 25,
   "metadata": {
    "slideshow": {
     "slide_type": "subslide"
    }
   },
   "outputs": [
    {
     "data": {
      "application/vnd.jupyter.widget-view+json": {
       "model_id": "e330ce25ad024338b48ee70797bc3920",
       "version_major": 2,
       "version_minor": 0
      },
      "text/plain": [
       "SingleChoice(children=(HTML(value='<h4 style=\"font-size:14px;\">Was für eine Satzkonstruktion liegt hier vor?</…"
      ]
     },
     "metadata": {},
     "output_type": "display_data"
    },
    {
     "data": {
      "application/vnd.jupyter.widget-view+json": {
       "model_id": "13670a16bc21491dbe64e4e3a0372a1c",
       "version_major": 2,
       "version_minor": 0
      },
      "text/plain": [
       "SelectionList(children=(HTML(value='<h4 style=\"font-size:14px;\">Welcher eingebettete Satztyp liegt vor?</h4>')…"
      ]
     },
     "metadata": {},
     "output_type": "display_data"
    },
    {
     "data": {
      "application/vnd.jupyter.widget-view+json": {
       "model_id": "a63c17ed007a4c7eb110527077382c1d",
       "version_major": 2,
       "version_minor": 0
      },
      "text/plain": [
       "SelectionList(children=(HTML(value='<h4 style=\"font-size:14px;\">Welcher Satztyp kommt vor?</h4>'), HTML(value=…"
      ]
     },
     "metadata": {},
     "output_type": "display_data"
    }
   ],
   "source": [
    "aufgabe(blatt8_5d)"
   ]
  },
  {
   "cell_type": "markdown",
   "metadata": {
    "slideshow": {
     "slide_type": "subslide"
    }
   },
   "source": [
    "### *Konstituentenanalyse:*"
   ]
  },
  {
   "cell_type": "code",
   "execution_count": 26,
   "metadata": {
    "scrolled": true,
    "slideshow": {
     "slide_type": "fragment"
    }
   },
   "outputs": [
    {
     "data": {
      "image/png": "[encoded data removed]",
      "text/plain": [
       "Tree('ROOT', [Tree('S', [Tree('S', [Tree('NP', [Tree('PRP', ['They'])]), Tree('VP', [Tree('VBD', ['left'])])]), Tree(',', [',']), Tree('CC', ['but']), Tree('S', [Tree('NP', [Tree('PRP', ['they'])]), Tree('VP', [Tree('VBD', ['came']), Tree('ADVP', [Tree('RB', ['back'])])])]), Tree('.', ['.'])])])"
      ]
     },
     "metadata": {},
     "output_type": "display_data"
    }
   ],
   "source": [
    "tree_list = list(parser.raw_parse(sentence))\n",
    "display(tree_list[0])"
   ]
  },
  {
   "cell_type": "markdown",
   "metadata": {
    "slideshow": {
     "slide_type": "fragment"
    }
   },
   "source": [
    "#### Geben Sie die CFG-Ableitungsregeln für diese komplexe Satzkonstruktion an:"
   ]
  },
  {
   "cell_type": "markdown",
   "metadata": {
    "slideshow": {
     "slide_type": "subslide"
    }
   },
   "source": [
    "*Lösung:*\n",
    "\n",
    "`S -> S , CC S .`\n",
    "\n",
    "`CC -> 'but'`\n",
    "\n",
    "`, -> ','`\n",
    "\n",
    "`. -> '.'`\n"
   ]
  },
  {
   "cell_type": "markdown",
   "metadata": {
    "slideshow": {
     "slide_type": "subslide"
    }
   },
   "source": [
    "---\n",
    "### *Dependenzanalyse:*"
   ]
  },
  {
   "cell_type": "code",
   "execution_count": 27,
   "metadata": {
    "slideshow": {
     "slide_type": "fragment"
    }
   },
   "outputs": [
    {
     "data": {
      "image/svg+xml": [
       "<?xml version=\"1.0\" encoding=\"UTF-8\" standalone=\"no\"?>\n",
       "<!DOCTYPE svg PUBLIC \"-//W3C//DTD SVG 1.1//EN\"\n",
       " \"http://www.w3.org/Graphics/SVG/1.1/DTD/svg11.dtd\">\n",
       "<!-- Generated by graphviz version 2.40.1 (20161225.0304)\n",
       " -->\n",
       "<!-- Title: G Pages: 1 -->\n",
       "<svg width=\"265pt\" height=\"302pt\"\n",
       " viewBox=\"0.00 0.00 265.42 302.00\" xmlns=\"http://www.w3.org/2000/svg\" xmlns:xlink=\"http://www.w3.org/1999/xlink\">\n",
       "<g id=\"graph0\" class=\"graph\" transform=\"scale(1 1) rotate(0) translate(4 298)\">\n",
       "<title>G</title>\n",
       "<polygon fill=\"#ffffff\" stroke=\"transparent\" points=\"-4,4 -4,-298 261.4209,-298 261.4209,4 -4,4\"/>\n",
       "<!-- 0 -->\n",
       "<g id=\"node1\" class=\"node\">\n",
       "<title>0</title>\n",
       "<text text-anchor=\"middle\" x=\"109.2949\" y=\"-271.8\" font-family=\"Times,serif\" font-size=\"14.00\" fill=\"#000000\">0 (None)</text>\n",
       "</g>\n",
       "<!-- 2 -->\n",
       "<g id=\"node2\" class=\"node\">\n",
       "<title>2</title>\n",
       "<text text-anchor=\"middle\" x=\"109.2949\" y=\"-185.8\" font-family=\"Times,serif\" font-size=\"14.00\" fill=\"#000000\">2 (left)</text>\n",
       "</g>\n",
       "<!-- 0&#45;&gt;2 -->\n",
       "<g id=\"edge1\" class=\"edge\">\n",
       "<title>0&#45;&gt;2</title>\n",
       "<path fill=\"none\" stroke=\"#000000\" d=\"M109.2949,-257.7616C109.2949,-246.3597 109.2949,-231.4342 109.2949,-218.494\"/>\n",
       "<polygon fill=\"#000000\" stroke=\"#000000\" points=\"112.795,-218.2121 109.2949,-208.2121 105.795,-218.2121 112.795,-218.2121\"/>\n",
       "<text text-anchor=\"middle\" x=\"120.5708\" y=\"-228.8\" font-family=\"Times,serif\" font-size=\"14.00\" fill=\"#000000\">root</text>\n",
       "</g>\n",
       "<!-- 1 -->\n",
       "<g id=\"node3\" class=\"node\">\n",
       "<title>1</title>\n",
       "<text text-anchor=\"middle\" x=\"32.2949\" y=\"-99.8\" font-family=\"Times,serif\" font-size=\"14.00\" fill=\"#000000\">1 (They)</text>\n",
       "</g>\n",
       "<!-- 2&#45;&gt;1 -->\n",
       "<g id=\"edge2\" class=\"edge\">\n",
       "<title>2&#45;&gt;1</title>\n",
       "<path fill=\"none\" stroke=\"#000000\" d=\"M91.6277,-171.8702C86.2121,-166.2084 80.2802,-159.8997 74.957,-154 68.1083,-146.4095 60.828,-138.0079 54.257,-130.2925\"/>\n",
       "<polygon fill=\"#000000\" stroke=\"#000000\" points=\"56.5912,-127.6327 47.4592,-122.2608 51.248,-132.155 56.5912,-127.6327\"/>\n",
       "<text text-anchor=\"middle\" x=\"90.4639\" y=\"-142.8\" font-family=\"Times,serif\" font-size=\"14.00\" fill=\"#000000\">nsubj</text>\n",
       "</g>\n",
       "<!-- 4 -->\n",
       "<g id=\"node4\" class=\"node\">\n",
       "<title>4</title>\n",
       "<text text-anchor=\"middle\" x=\"109.2949\" y=\"-99.8\" font-family=\"Times,serif\" font-size=\"14.00\" fill=\"#000000\">4 (but)</text>\n",
       "</g>\n",
       "<!-- 2&#45;&gt;4 -->\n",
       "<g id=\"edge3\" class=\"edge\">\n",
       "<title>2&#45;&gt;4</title>\n",
       "<path fill=\"none\" stroke=\"#000000\" d=\"M109.2949,-171.7616C109.2949,-160.3597 109.2949,-145.4342 109.2949,-132.494\"/>\n",
       "<polygon fill=\"#000000\" stroke=\"#000000\" points=\"112.795,-132.2121 109.2949,-122.2121 105.795,-132.2121 112.795,-132.2121\"/>\n",
       "<text text-anchor=\"middle\" x=\"115.5088\" y=\"-142.8\" font-family=\"Times,serif\" font-size=\"14.00\" fill=\"#000000\">cc</text>\n",
       "</g>\n",
       "<!-- 6 -->\n",
       "<g id=\"node5\" class=\"node\">\n",
       "<title>6</title>\n",
       "<text text-anchor=\"middle\" x=\"187.2949\" y=\"-99.8\" font-family=\"Times,serif\" font-size=\"14.00\" fill=\"#000000\">6 (came)</text>\n",
       "</g>\n",
       "<!-- 2&#45;&gt;6 -->\n",
       "<g id=\"edge4\" class=\"edge\">\n",
       "<title>2&#45;&gt;6</title>\n",
       "<path fill=\"none\" stroke=\"#000000\" d=\"M125.8367,-171.7616C136.9019,-159.5615 151.6259,-143.3273 163.888,-129.8076\"/>\n",
       "<polygon fill=\"#000000\" stroke=\"#000000\" points=\"166.6513,-131.9707 170.777,-122.2121 161.4663,-127.268 166.6513,-131.9707\"/>\n",
       "<text text-anchor=\"middle\" x=\"165.3467\" y=\"-142.8\" font-family=\"Times,serif\" font-size=\"14.00\" fill=\"#000000\">conj</text>\n",
       "</g>\n",
       "<!-- 5 -->\n",
       "<g id=\"node6\" class=\"node\">\n",
       "<title>5</title>\n",
       "<text text-anchor=\"middle\" x=\"147.2949\" y=\"-13.8\" font-family=\"Times,serif\" font-size=\"14.00\" fill=\"#000000\">5 (they)</text>\n",
       "</g>\n",
       "<!-- 6&#45;&gt;5 -->\n",
       "<g id=\"edge5\" class=\"edge\">\n",
       "<title>6&#45;&gt;5</title>\n",
       "<path fill=\"none\" stroke=\"#000000\" d=\"M178.3921,-85.7251C175.6583,-80.0574 172.6592,-73.7818 169.957,-68 166.5725,-60.7581 162.9731,-52.8943 159.6629,-45.5936\"/>\n",
       "<polygon fill=\"#000000\" stroke=\"#000000\" points=\"162.6808,-43.772 155.3757,-36.0982 156.3009,-46.6526 162.6808,-43.772\"/>\n",
       "<text text-anchor=\"middle\" x=\"185.4639\" y=\"-56.8\" font-family=\"Times,serif\" font-size=\"14.00\" fill=\"#000000\">nsubj</text>\n",
       "</g>\n",
       "<!-- 7 -->\n",
       "<g id=\"node7\" class=\"node\">\n",
       "<title>7</title>\n",
       "<text text-anchor=\"middle\" x=\"226.2949\" y=\"-13.8\" font-family=\"Times,serif\" font-size=\"14.00\" fill=\"#000000\">7 (back)</text>\n",
       "</g>\n",
       "<!-- 6&#45;&gt;7 -->\n",
       "<g id=\"edge6\" class=\"edge\">\n",
       "<title>6&#45;&gt;7</title>\n",
       "<path fill=\"none\" stroke=\"#000000\" d=\"M195.5658,-85.7616C200.8916,-74.0176 207.9126,-58.5355 213.8989,-45.3349\"/>\n",
       "<polygon fill=\"#000000\" stroke=\"#000000\" points=\"217.0934,-46.7649 218.0359,-36.2121 210.7183,-43.8739 217.0934,-46.7649\"/>\n",
       "<text text-anchor=\"middle\" x=\"230.8467\" y=\"-56.8\" font-family=\"Times,serif\" font-size=\"14.00\" fill=\"#000000\">advmod</text>\n",
       "</g>\n",
       "</g>\n",
       "</svg>\n"
      ],
      "text/plain": [
       "<DependencyGraph with 7 nodes>"
      ]
     },
     "metadata": {},
     "output_type": "display_data"
    }
   ],
   "source": [
    "tree_list = list(dep_parser.raw_parse(sentence))\n",
    "display(tree_list[0])"
   ]
  },
  {
   "cell_type": "markdown",
   "metadata": {
    "slideshow": {
     "slide_type": "fragment"
    }
   },
   "source": [
    "#### Geben Sie die Dependenzregeln für diese komplexe Satzkonstruktion an:"
   ]
  },
  {
   "cell_type": "markdown",
   "metadata": {
    "slideshow": {
     "slide_type": "subslide"
    }
   },
   "source": [
    "*Lösung:*\n",
    "\n",
    "`VBD/left -> CC/but (cc)`\n",
    "\n",
    "`VBD/left -> VBD/came (conj)`\n"
   ]
  },
  {
   "cell_type": "markdown",
   "metadata": {
    "slideshow": {
     "slide_type": "subslide"
    }
   },
   "source": [
    "---\n",
    "### Aufgabe 5e: "
   ]
  },
  {
   "cell_type": "code",
   "execution_count": 28,
   "metadata": {
    "slideshow": {
     "slide_type": "fragment"
    }
   },
   "outputs": [],
   "source": [
    "sentence = \"This can't be right.\""
   ]
  },
  {
   "cell_type": "code",
   "execution_count": 29,
   "metadata": {
    "scrolled": false,
    "slideshow": {
     "slide_type": "subslide"
    }
   },
   "outputs": [
    {
     "data": {
      "application/vnd.jupyter.widget-view+json": {
       "model_id": "73ddea37e1af44a29abb6f39dd0718d1",
       "version_major": 2,
       "version_minor": 0
      },
      "text/plain": [
       "SingleChoice(children=(HTML(value='<h4 style=\"font-size:14px;\">Was für eine Satzkonstruktion liegt hier vor?</…"
      ]
     },
     "metadata": {},
     "output_type": "display_data"
    },
    {
     "data": {
      "application/vnd.jupyter.widget-view+json": {
       "model_id": "113bfa87bfec4047a8c89f01c9e488d1",
       "version_major": 2,
       "version_minor": 0
      },
      "text/plain": [
       "SelectionList(children=(HTML(value='<h4 style=\"font-size:14px;\">Welche eingebettete Satztyp liegt vor?</h4>'),…"
      ]
     },
     "metadata": {},
     "output_type": "display_data"
    },
    {
     "data": {
      "application/vnd.jupyter.widget-view+json": {
       "model_id": "a72844854fcb44cd9cacada450534f82",
       "version_major": 2,
       "version_minor": 0
      },
      "text/plain": [
       "SelectionList(children=(HTML(value='<h4 style=\"font-size:14px;\">Wie läßt sich dieser Satztyp klassifizieren?</…"
      ]
     },
     "metadata": {},
     "output_type": "display_data"
    }
   ],
   "source": [
    "aufgabe(blatt8_5e)"
   ]
  },
  {
   "cell_type": "markdown",
   "metadata": {
    "slideshow": {
     "slide_type": "subslide"
    }
   },
   "source": [
    "### *Konstituentenanalyse:*"
   ]
  },
  {
   "cell_type": "code",
   "execution_count": 30,
   "metadata": {
    "scrolled": true,
    "slideshow": {
     "slide_type": "fragment"
    }
   },
   "outputs": [
    {
     "data": {
      "image/png": "[encoded data removed]",
      "text/plain": [
       "Tree('ROOT', [Tree('S', [Tree('NP', [Tree('DT', ['This'])]), Tree('VP', [Tree('MD', ['ca']), Tree('RB', [\"n't\"]), Tree('VP', [Tree('VB', ['be']), Tree('ADJP', [Tree('JJ', ['right'])])])]), Tree('.', ['.'])])])"
      ]
     },
     "metadata": {},
     "output_type": "display_data"
    }
   ],
   "source": [
    "tree_list = list(parser.raw_parse(sentence))\n",
    "display(tree_list[0])"
   ]
  },
  {
   "cell_type": "markdown",
   "metadata": {
    "slideshow": {
     "slide_type": "fragment"
    }
   },
   "source": [
    "#### Geben Sie die CFG-Ableitungsregeln für diese komplexe Satzkonstruktion an:"
   ]
  },
  {
   "cell_type": "markdown",
   "metadata": {
    "slideshow": {
     "slide_type": "subslide"
    }
   },
   "source": [
    "*Lösung:*\n",
    "\n",
    "`VP -> MD RB VP`"
   ]
  },
  {
   "cell_type": "markdown",
   "metadata": {
    "slideshow": {
     "slide_type": "subslide"
    }
   },
   "source": [
    "---\n",
    "### *Dependenzanalyse:*"
   ]
  },
  {
   "cell_type": "code",
   "execution_count": 31,
   "metadata": {
    "slideshow": {
     "slide_type": "fragment"
    }
   },
   "outputs": [
    {
     "data": {
      "image/svg+xml": [
       "<?xml version=\"1.0\" encoding=\"UTF-8\" standalone=\"no\"?>\n",
       "<!DOCTYPE svg PUBLIC \"-//W3C//DTD SVG 1.1//EN\"\n",
       " \"http://www.w3.org/Graphics/SVG/1.1/DTD/svg11.dtd\">\n",
       "<!-- Generated by graphviz version 2.40.1 (20161225.0304)\n",
       " -->\n",
       "<!-- Title: G Pages: 1 -->\n",
       "<svg width=\"284pt\" height=\"216pt\"\n",
       " viewBox=\"0.00 0.00 284.36 216.00\" xmlns=\"http://www.w3.org/2000/svg\" xmlns:xlink=\"http://www.w3.org/1999/xlink\">\n",
       "<g id=\"graph0\" class=\"graph\" transform=\"scale(1 1) rotate(0) translate(4 212)\">\n",
       "<title>G</title>\n",
       "<polygon fill=\"#ffffff\" stroke=\"transparent\" points=\"-4,4 -4,-212 280.3569,-212 280.3569,4 -4,4\"/>\n",
       "<!-- 0 -->\n",
       "<g id=\"node1\" class=\"node\">\n",
       "<title>0</title>\n",
       "<text text-anchor=\"middle\" x=\"141.3569\" y=\"-185.8\" font-family=\"Times,serif\" font-size=\"14.00\" fill=\"#000000\">0 (None)</text>\n",
       "</g>\n",
       "<!-- 5 -->\n",
       "<g id=\"node2\" class=\"node\">\n",
       "<title>5</title>\n",
       "<text text-anchor=\"middle\" x=\"141.3569\" y=\"-99.8\" font-family=\"Times,serif\" font-size=\"14.00\" fill=\"#000000\">5 (right)</text>\n",
       "</g>\n",
       "<!-- 0&#45;&gt;5 -->\n",
       "<g id=\"edge1\" class=\"edge\">\n",
       "<title>0&#45;&gt;5</title>\n",
       "<path fill=\"none\" stroke=\"#000000\" d=\"M141.3569,-171.7616C141.3569,-160.3597 141.3569,-145.4342 141.3569,-132.494\"/>\n",
       "<polygon fill=\"#000000\" stroke=\"#000000\" points=\"144.857,-132.2121 141.3569,-122.2121 137.857,-132.2121 144.857,-132.2121\"/>\n",
       "<text text-anchor=\"middle\" x=\"152.6328\" y=\"-142.8\" font-family=\"Times,serif\" font-size=\"14.00\" fill=\"#000000\">root</text>\n",
       "</g>\n",
       "<!-- 1 -->\n",
       "<g id=\"node3\" class=\"node\">\n",
       "<title>1</title>\n",
       "<text text-anchor=\"middle\" x=\"30.3569\" y=\"-13.8\" font-family=\"Times,serif\" font-size=\"14.00\" fill=\"#000000\">1 (This)</text>\n",
       "</g>\n",
       "<!-- 5&#45;&gt;1 -->\n",
       "<g id=\"edge2\" class=\"edge\">\n",
       "<title>5&#45;&gt;1</title>\n",
       "<path fill=\"none\" stroke=\"#000000\" d=\"M111.7668,-85.9538C103.2674,-80.4509 94.1129,-74.2082 86.019,-68 76.0542,-60.3567 65.6772,-51.3553 56.6206,-43.1117\"/>\n",
       "<polygon fill=\"#000000\" stroke=\"#000000\" points=\"58.7662,-40.3289 49.0452,-36.1156 54.017,-45.4714 58.7662,-40.3289\"/>\n",
       "<text text-anchor=\"middle\" x=\"101.5259\" y=\"-56.8\" font-family=\"Times,serif\" font-size=\"14.00\" fill=\"#000000\">nsubj</text>\n",
       "</g>\n",
       "<!-- 2 -->\n",
       "<g id=\"node4\" class=\"node\">\n",
       "<title>2</title>\n",
       "<text text-anchor=\"middle\" x=\"105.3569\" y=\"-13.8\" font-family=\"Times,serif\" font-size=\"14.00\" fill=\"#000000\">2 (ca)</text>\n",
       "</g>\n",
       "<!-- 5&#45;&gt;2 -->\n",
       "<g id=\"edge3\" class=\"edge\">\n",
       "<title>5&#45;&gt;2</title>\n",
       "<path fill=\"none\" stroke=\"#000000\" d=\"M133.7223,-85.7616C128.8539,-74.1316 122.451,-58.8357 116.9607,-45.72\"/>\n",
       "<polygon fill=\"#000000\" stroke=\"#000000\" points=\"120.0706,-44.085 112.9806,-36.2121 113.6135,-46.788 120.0706,-44.085\"/>\n",
       "<text text-anchor=\"middle\" x=\"135.4639\" y=\"-56.8\" font-family=\"Times,serif\" font-size=\"14.00\" fill=\"#000000\">aux</text>\n",
       "</g>\n",
       "<!-- 3 -->\n",
       "<g id=\"node5\" class=\"node\">\n",
       "<title>3</title>\n",
       "<text text-anchor=\"middle\" x=\"177.3569\" y=\"-13.8\" font-family=\"Times,serif\" font-size=\"14.00\" fill=\"#000000\">3 (n&#39;t)</text>\n",
       "</g>\n",
       "<!-- 5&#45;&gt;3 -->\n",
       "<g id=\"edge4\" class=\"edge\">\n",
       "<title>5&#45;&gt;3</title>\n",
       "<path fill=\"none\" stroke=\"#000000\" d=\"M148.9916,-85.7616C153.86,-74.1316 160.2629,-58.8357 165.7532,-45.72\"/>\n",
       "<polygon fill=\"#000000\" stroke=\"#000000\" points=\"169.1004,-46.788 169.7333,-36.2121 162.6433,-44.085 169.1004,-46.788\"/>\n",
       "<text text-anchor=\"middle\" x=\"171.4639\" y=\"-56.8\" font-family=\"Times,serif\" font-size=\"14.00\" fill=\"#000000\">neg</text>\n",
       "</g>\n",
       "<!-- 4 -->\n",
       "<g id=\"node6\" class=\"node\">\n",
       "<title>4</title>\n",
       "<text text-anchor=\"middle\" x=\"249.3569\" y=\"-13.8\" font-family=\"Times,serif\" font-size=\"14.00\" fill=\"#000000\">4 (be)</text>\n",
       "</g>\n",
       "<!-- 5&#45;&gt;4 -->\n",
       "<g id=\"edge5\" class=\"edge\">\n",
       "<title>5&#45;&gt;4</title>\n",
       "<path fill=\"none\" stroke=\"#000000\" d=\"M163.9973,-85.9716C179.8376,-73.358 201.1874,-56.3573 218.5721,-42.5139\"/>\n",
       "<polygon fill=\"#000000\" stroke=\"#000000\" points=\"221.1038,-44.972 226.7464,-36.0047 216.7433,-39.496 221.1038,-44.972\"/>\n",
       "<text text-anchor=\"middle\" x=\"211.4639\" y=\"-56.8\" font-family=\"Times,serif\" font-size=\"14.00\" fill=\"#000000\">cop</text>\n",
       "</g>\n",
       "</g>\n",
       "</svg>\n"
      ],
      "text/plain": [
       "<DependencyGraph with 6 nodes>"
      ]
     },
     "metadata": {},
     "output_type": "display_data"
    }
   ],
   "source": [
    "tree_list = list(dep_parser.raw_parse(sentence))\n",
    "display(tree_list[0])"
   ]
  },
  {
   "cell_type": "markdown",
   "metadata": {
    "slideshow": {
     "slide_type": "fragment"
    }
   },
   "source": [
    "#### Geben Sie die Dependenzregeln für diese komplexe Satzkonstruktion an:"
   ]
  },
  {
   "cell_type": "markdown",
   "metadata": {
    "slideshow": {
     "slide_type": "subslide"
    }
   },
   "source": [
    "*Lösung:*\n",
    "\n",
    "`ROOT/None -> JJ/right (root)`\n",
    "\n",
    "`JJ/right -> MD/ca(n't) (aux)`\n",
    "\n",
    "`JJ/right -> VB/be (cop)`\n"
   ]
  },
  {
   "cell_type": "markdown",
   "metadata": {
    "slideshow": {
     "slide_type": "subslide"
    }
   },
   "source": [
    "---\n",
    "### Aufgabe 5f: "
   ]
  },
  {
   "cell_type": "code",
   "execution_count": 32,
   "metadata": {
    "slideshow": {
     "slide_type": "fragment"
    }
   },
   "outputs": [],
   "source": [
    "sentence = \"When the storm started, she was still outside.\""
   ]
  },
  {
   "cell_type": "code",
   "execution_count": 33,
   "metadata": {
    "slideshow": {
     "slide_type": "subslide"
    }
   },
   "outputs": [
    {
     "data": {
      "application/vnd.jupyter.widget-view+json": {
       "model_id": "2cc8003c6dd74e2f8c6c39f1d39acc53",
       "version_major": 2,
       "version_minor": 0
      },
      "text/plain": [
       "SingleChoice(children=(HTML(value='<h4 style=\"font-size:14px;\">Was für eine Satzkonstruktion liegt hier vor?</…"
      ]
     },
     "metadata": {},
     "output_type": "display_data"
    },
    {
     "data": {
      "application/vnd.jupyter.widget-view+json": {
       "model_id": "be219049465542cd8822e6b902bc9ab7",
       "version_major": 2,
       "version_minor": 0
      },
      "text/plain": [
       "SelectionList(children=(HTML(value='<h4 style=\"font-size:14px;\">Welcher eingebettete Satztyp liegt vor?</h4>')…"
      ]
     },
     "metadata": {},
     "output_type": "display_data"
    },
    {
     "data": {
      "application/vnd.jupyter.widget-view+json": {
       "model_id": "b67efa2fabe74a8a997f3449514a05ea",
       "version_major": 2,
       "version_minor": 0
      },
      "text/plain": [
       "SelectionList(children=(HTML(value='<h4 style=\"font-size:14px;\">Wie läßt sich dieser Satztyp klassifizieren?</…"
      ]
     },
     "metadata": {},
     "output_type": "display_data"
    }
   ],
   "source": [
    "aufgabe(blatt8_5f)"
   ]
  },
  {
   "cell_type": "markdown",
   "metadata": {
    "slideshow": {
     "slide_type": "subslide"
    }
   },
   "source": [
    "### *Konstituentenanalyse:*"
   ]
  },
  {
   "cell_type": "code",
   "execution_count": 34,
   "metadata": {
    "scrolled": true,
    "slideshow": {
     "slide_type": "fragment"
    }
   },
   "outputs": [
    {
     "data": {
      "image/png": "[encoded data removed]",
      "text/plain": [
       "Tree('ROOT', [Tree('S', [Tree('SBAR', [Tree('WHADVP', [Tree('WRB', ['When'])]), Tree('S', [Tree('NP', [Tree('DT', ['the']), Tree('NN', ['storm'])]), Tree('VP', [Tree('VBD', ['started'])])])]), Tree(',', [',']), Tree('NP', [Tree('PRP', ['she'])]), Tree('VP', [Tree('VBD', ['was']), Tree('ADVP', [Tree('RB', ['still'])]), Tree('ADVP', [Tree('RB', ['outside'])])]), Tree('.', ['.'])])])"
      ]
     },
     "metadata": {},
     "output_type": "display_data"
    }
   ],
   "source": [
    "tree_list = list(parser.raw_parse(sentence))\n",
    "display(tree_list[0])"
   ]
  },
  {
   "cell_type": "markdown",
   "metadata": {
    "slideshow": {
     "slide_type": "fragment"
    }
   },
   "source": [
    "#### Geben Sie die CFG-Ableitungsregeln für diese komplexe Satzkonstruktion an:"
   ]
  },
  {
   "cell_type": "markdown",
   "metadata": {
    "slideshow": {
     "slide_type": "subslide"
    }
   },
   "source": [
    "*Lösung:*\n",
    "\n",
    "`S -> SBAR , NP VP .`\n",
    "\n",
    "`SBAR -> WHADVP S`\n",
    "\n",
    "`WHADVP -> WRB`"
   ]
  },
  {
   "cell_type": "markdown",
   "metadata": {
    "slideshow": {
     "slide_type": "subslide"
    }
   },
   "source": [
    "---\n",
    "### *Dependenzanalyse:*"
   ]
  },
  {
   "cell_type": "code",
   "execution_count": 35,
   "metadata": {
    "slideshow": {
     "slide_type": "fragment"
    }
   },
   "outputs": [
    {
     "data": {
      "image/svg+xml": [
       "<?xml version=\"1.0\" encoding=\"UTF-8\" standalone=\"no\"?>\n",
       "<!DOCTYPE svg PUBLIC \"-//W3C//DTD SVG 1.1//EN\"\n",
       " \"http://www.w3.org/Graphics/SVG/1.1/DTD/svg11.dtd\">\n",
       "<!-- Generated by graphviz version 2.40.1 (20161225.0304)\n",
       " -->\n",
       "<!-- Title: G Pages: 1 -->\n",
       "<svg width=\"356pt\" height=\"388pt\"\n",
       " viewBox=\"0.00 0.00 355.76 388.00\" xmlns=\"http://www.w3.org/2000/svg\" xmlns:xlink=\"http://www.w3.org/1999/xlink\">\n",
       "<g id=\"graph0\" class=\"graph\" transform=\"scale(1 1) rotate(0) translate(4 384)\">\n",
       "<title>G</title>\n",
       "<polygon fill=\"#ffffff\" stroke=\"transparent\" points=\"-4,4 -4,-384 351.7588,-384 351.7588,4 -4,4\"/>\n",
       "<!-- 0 -->\n",
       "<g id=\"node1\" class=\"node\">\n",
       "<title>0</title>\n",
       "<text text-anchor=\"middle\" x=\"187.626\" y=\"-357.8\" font-family=\"Times,serif\" font-size=\"14.00\" fill=\"#000000\">0 (None)</text>\n",
       "</g>\n",
       "<!-- 7 -->\n",
       "<g id=\"node2\" class=\"node\">\n",
       "<title>7</title>\n",
       "<text text-anchor=\"middle\" x=\"187.626\" y=\"-271.8\" font-family=\"Times,serif\" font-size=\"14.00\" fill=\"#000000\">7 (was)</text>\n",
       "</g>\n",
       "<!-- 0&#45;&gt;7 -->\n",
       "<g id=\"edge1\" class=\"edge\">\n",
       "<title>0&#45;&gt;7</title>\n",
       "<path fill=\"none\" stroke=\"#000000\" d=\"M187.626,-343.7616C187.626,-332.3597 187.626,-317.4342 187.626,-304.494\"/>\n",
       "<polygon fill=\"#000000\" stroke=\"#000000\" points=\"191.1261,-304.2121 187.626,-294.2121 184.1261,-304.2121 191.1261,-304.2121\"/>\n",
       "<text text-anchor=\"middle\" x=\"198.9019\" y=\"-314.8\" font-family=\"Times,serif\" font-size=\"14.00\" fill=\"#000000\">root</text>\n",
       "</g>\n",
       "<!-- 4 -->\n",
       "<g id=\"node6\" class=\"node\">\n",
       "<title>4</title>\n",
       "<text text-anchor=\"middle\" x=\"68.626\" y=\"-185.8\" font-family=\"Times,serif\" font-size=\"14.00\" fill=\"#000000\">4 (started)</text>\n",
       "</g>\n",
       "<!-- 7&#45;&gt;4 -->\n",
       "<g id=\"edge5\" class=\"edge\">\n",
       "<title>7&#45;&gt;4</title>\n",
       "<path fill=\"none\" stroke=\"#000000\" d=\"M159.4492,-257.8851C150.96,-252.2779 141.6774,-245.9959 133.3086,-240 122.1105,-231.9771 110.1063,-222.8509 99.5167,-214.6111\"/>\n",
       "<polygon fill=\"#000000\" stroke=\"#000000\" points=\"101.4009,-211.6411 91.3698,-208.231 97.0849,-217.1522 101.4009,-211.6411\"/>\n",
       "<text text-anchor=\"middle\" x=\"148.7847\" y=\"-228.8\" font-family=\"Times,serif\" font-size=\"14.00\" fill=\"#000000\">advcl</text>\n",
       "</g>\n",
       "<!-- 6 -->\n",
       "<g id=\"node7\" class=\"node\">\n",
       "<title>6</title>\n",
       "<text text-anchor=\"middle\" x=\"150.626\" y=\"-185.8\" font-family=\"Times,serif\" font-size=\"14.00\" fill=\"#000000\">6 (she)</text>\n",
       "</g>\n",
       "<!-- 7&#45;&gt;6 -->\n",
       "<g id=\"edge6\" class=\"edge\">\n",
       "<title>7&#45;&gt;6</title>\n",
       "<path fill=\"none\" stroke=\"#000000\" d=\"M179.7792,-257.7616C174.7756,-246.1316 168.1948,-230.8357 162.552,-217.72\"/>\n",
       "<polygon fill=\"#000000\" stroke=\"#000000\" points=\"165.6286,-216.0148 158.4614,-208.2121 159.1985,-218.7813 165.6286,-216.0148\"/>\n",
       "<text text-anchor=\"middle\" x=\"186.7949\" y=\"-228.8\" font-family=\"Times,serif\" font-size=\"14.00\" fill=\"#000000\">nsubj</text>\n",
       "</g>\n",
       "<!-- 8 -->\n",
       "<g id=\"node8\" class=\"node\">\n",
       "<title>8</title>\n",
       "<text text-anchor=\"middle\" x=\"224.626\" y=\"-185.8\" font-family=\"Times,serif\" font-size=\"14.00\" fill=\"#000000\">8 (still)</text>\n",
       "</g>\n",
       "<!-- 7&#45;&gt;8 -->\n",
       "<g id=\"edge7\" class=\"edge\">\n",
       "<title>7&#45;&gt;8</title>\n",
       "<path fill=\"none\" stroke=\"#000000\" d=\"M195.4727,-257.7616C200.4763,-246.1316 207.0571,-230.8357 212.6999,-217.72\"/>\n",
       "<polygon fill=\"#000000\" stroke=\"#000000\" points=\"216.0535,-218.7813 216.7905,-208.2121 209.6233,-216.0148 216.0535,-218.7813\"/>\n",
       "<text text-anchor=\"middle\" x=\"231.1777\" y=\"-228.8\" font-family=\"Times,serif\" font-size=\"14.00\" fill=\"#000000\">advmod</text>\n",
       "</g>\n",
       "<!-- 9 -->\n",
       "<g id=\"node9\" class=\"node\">\n",
       "<title>9</title>\n",
       "<text text-anchor=\"middle\" x=\"309.626\" y=\"-185.8\" font-family=\"Times,serif\" font-size=\"14.00\" fill=\"#000000\">9 (outside)</text>\n",
       "</g>\n",
       "<!-- 7&#45;&gt;9 -->\n",
       "<g id=\"edge8\" class=\"edge\">\n",
       "<title>7&#45;&gt;9</title>\n",
       "<path fill=\"none\" stroke=\"#000000\" d=\"M216.3026,-263.5821C229.4146,-257.3291 244.8391,-249.1365 257.626,-240 267.7142,-232.7918 277.7765,-223.6811 286.3242,-215.2174\"/>\n",
       "<polygon fill=\"#000000\" stroke=\"#000000\" points=\"288.8946,-217.5954 293.4085,-208.0102 283.9024,-212.6883 288.8946,-217.5954\"/>\n",
       "<text text-anchor=\"middle\" x=\"296.1777\" y=\"-228.8\" font-family=\"Times,serif\" font-size=\"14.00\" fill=\"#000000\">advmod</text>\n",
       "</g>\n",
       "<!-- 1 -->\n",
       "<g id=\"node3\" class=\"node\">\n",
       "<title>1</title>\n",
       "<text text-anchor=\"middle\" x=\"34.626\" y=\"-99.8\" font-family=\"Times,serif\" font-size=\"14.00\" fill=\"#000000\">1 (When)</text>\n",
       "</g>\n",
       "<!-- 2 -->\n",
       "<g id=\"node4\" class=\"node\">\n",
       "<title>2</title>\n",
       "<text text-anchor=\"middle\" x=\"120.626\" y=\"-13.8\" font-family=\"Times,serif\" font-size=\"14.00\" fill=\"#000000\">2 (the)</text>\n",
       "</g>\n",
       "<!-- 3 -->\n",
       "<g id=\"node5\" class=\"node\">\n",
       "<title>3</title>\n",
       "<text text-anchor=\"middle\" x=\"120.626\" y=\"-99.8\" font-family=\"Times,serif\" font-size=\"14.00\" fill=\"#000000\">3 (storm)</text>\n",
       "</g>\n",
       "<!-- 3&#45;&gt;2 -->\n",
       "<g id=\"edge2\" class=\"edge\">\n",
       "<title>3&#45;&gt;2</title>\n",
       "<path fill=\"none\" stroke=\"#000000\" d=\"M120.626,-85.7616C120.626,-74.3597 120.626,-59.4342 120.626,-46.494\"/>\n",
       "<polygon fill=\"#000000\" stroke=\"#000000\" points=\"124.1261,-46.2121 120.626,-36.2121 117.1261,-46.2121 124.1261,-46.2121\"/>\n",
       "<text text-anchor=\"middle\" x=\"129.1777\" y=\"-56.8\" font-family=\"Times,serif\" font-size=\"14.00\" fill=\"#000000\">det</text>\n",
       "</g>\n",
       "<!-- 4&#45;&gt;1 -->\n",
       "<g id=\"edge3\" class=\"edge\">\n",
       "<title>4&#45;&gt;1</title>\n",
       "<path fill=\"none\" stroke=\"#000000\" d=\"M54.3814,-171.7379C50.6951,-166.28 47.0554,-160.1151 44.5225,-154 41.6684,-147.1097 39.6209,-139.3369 38.1583,-132.0095\"/>\n",
       "<polygon fill=\"#000000\" stroke=\"#000000\" points=\"41.5965,-131.3505 36.4569,-122.0858 34.6972,-132.5334 41.5965,-131.3505\"/>\n",
       "<text text-anchor=\"middle\" x=\"67.1777\" y=\"-142.8\" font-family=\"Times,serif\" font-size=\"14.00\" fill=\"#000000\">advmod</text>\n",
       "</g>\n",
       "<!-- 4&#45;&gt;3 -->\n",
       "<g id=\"edge4\" class=\"edge\">\n",
       "<title>4&#45;&gt;3</title>\n",
       "<path fill=\"none\" stroke=\"#000000\" d=\"M79.6538,-171.7616C86.8238,-159.9036 96.2981,-144.2345 104.33,-130.951\"/>\n",
       "<polygon fill=\"#000000\" stroke=\"#000000\" points=\"107.4348,-132.5804 109.614,-122.2121 101.4447,-128.9584 107.4348,-132.5804\"/>\n",
       "<text text-anchor=\"middle\" x=\"113.7949\" y=\"-142.8\" font-family=\"Times,serif\" font-size=\"14.00\" fill=\"#000000\">nsubj</text>\n",
       "</g>\n",
       "</g>\n",
       "</svg>\n"
      ],
      "text/plain": [
       "<DependencyGraph with 9 nodes>"
      ]
     },
     "metadata": {},
     "output_type": "display_data"
    }
   ],
   "source": [
    "tree_list = list(dep_parser.raw_parse(sentence))\n",
    "display(tree_list[0])"
   ]
  },
  {
   "cell_type": "markdown",
   "metadata": {
    "slideshow": {
     "slide_type": "fragment"
    }
   },
   "source": [
    "#### Geben Sie die Dependenzregeln für diese komplexe Satzkonstruktion an:"
   ]
  },
  {
   "cell_type": "markdown",
   "metadata": {
    "slideshow": {
     "slide_type": "subslide"
    }
   },
   "source": [
    "*Lösung:*\n",
    "\n",
    "`VBD/was -> VBD/started (advcl)`\n",
    "\n",
    "`VBD/started -> WRB/when (advmod)`\n",
    "\n"
   ]
  },
  {
   "cell_type": "markdown",
   "metadata": {
    "slideshow": {
     "slide_type": "subslide"
    }
   },
   "source": [
    "---\n",
    "### Aufgabe 5g: "
   ]
  },
  {
   "cell_type": "code",
   "execution_count": 36,
   "metadata": {
    "slideshow": {
     "slide_type": "fragment"
    }
   },
   "outputs": [],
   "source": [
    "sentence = \"To go now would be a mistake.\""
   ]
  },
  {
   "cell_type": "code",
   "execution_count": 37,
   "metadata": {
    "scrolled": false,
    "slideshow": {
     "slide_type": "subslide"
    }
   },
   "outputs": [
    {
     "data": {
      "application/vnd.jupyter.widget-view+json": {
       "model_id": "bce115051b874f578f95b9d812fcd789",
       "version_major": 2,
       "version_minor": 0
      },
      "text/plain": [
       "SingleChoice(children=(HTML(value='<h4 style=\"font-size:14px;\">Was für eine Satzkonstruktion liegt hier vor?</…"
      ]
     },
     "metadata": {},
     "output_type": "display_data"
    },
    {
     "data": {
      "application/vnd.jupyter.widget-view+json": {
       "model_id": "dc76051f68d2415f94c8a3596b9f7924",
       "version_major": 2,
       "version_minor": 0
      },
      "text/plain": [
       "SelectionList(children=(HTML(value='<h4 style=\"font-size:14px;\">Welcher eingebettete Satztyp liegt vor?</h4>')…"
      ]
     },
     "metadata": {},
     "output_type": "display_data"
    },
    {
     "data": {
      "application/vnd.jupyter.widget-view+json": {
       "model_id": "ba2e8ff4d0144f34881e669c3c653aaa",
       "version_major": 2,
       "version_minor": 0
      },
      "text/plain": [
       "SelectionList(children=(HTML(value='<h4 style=\"font-size:14px;\">Wie läßt sich dieser Satztyp klassifizieren?</…"
      ]
     },
     "metadata": {},
     "output_type": "display_data"
    }
   ],
   "source": [
    "aufgabe(blatt8_5g)"
   ]
  },
  {
   "cell_type": "markdown",
   "metadata": {
    "slideshow": {
     "slide_type": "subslide"
    }
   },
   "source": [
    "### *Konstituentenanalyse:*"
   ]
  },
  {
   "cell_type": "code",
   "execution_count": 38,
   "metadata": {
    "scrolled": true,
    "slideshow": {
     "slide_type": "fragment"
    }
   },
   "outputs": [
    {
     "data": {
      "image/png": "[encoded data removed]",
      "text/plain": [
       "Tree('ROOT', [Tree('S', [Tree('S', [Tree('VP', [Tree('TO', ['To']), Tree('VP', [Tree('VB', ['go']), Tree('ADVP', [Tree('RB', ['now'])])])])]), Tree('VP', [Tree('MD', ['would']), Tree('VP', [Tree('VB', ['be']), Tree('NP', [Tree('DT', ['a']), Tree('NN', ['mistake'])])])]), Tree('.', ['.'])])])"
      ]
     },
     "metadata": {},
     "output_type": "display_data"
    }
   ],
   "source": [
    "tree_list = list(parser.raw_parse(sentence))\n",
    "display(tree_list[0])"
   ]
  },
  {
   "cell_type": "markdown",
   "metadata": {
    "slideshow": {
     "slide_type": "fragment"
    }
   },
   "source": [
    "#### Geben Sie die CFG-Ableitungsregeln für diese komplexe Satzkonstruktion an:"
   ]
  },
  {
   "cell_type": "markdown",
   "metadata": {
    "slideshow": {
     "slide_type": "subslide"
    }
   },
   "source": [
    "*Lösung:*\n",
    "\n",
    "`S -> S VP .`\n",
    "\n",
    "`VP -> MD VP`"
   ]
  },
  {
   "cell_type": "markdown",
   "metadata": {
    "slideshow": {
     "slide_type": "subslide"
    }
   },
   "source": [
    "---\n",
    "### *Dependenzanalyse:*"
   ]
  },
  {
   "cell_type": "code",
   "execution_count": 39,
   "metadata": {
    "slideshow": {
     "slide_type": "fragment"
    }
   },
   "outputs": [
    {
     "data": {
      "image/svg+xml": [
       "<?xml version=\"1.0\" encoding=\"UTF-8\" standalone=\"no\"?>\n",
       "<!DOCTYPE svg PUBLIC \"-//W3C//DTD SVG 1.1//EN\"\n",
       " \"http://www.w3.org/Graphics/SVG/1.1/DTD/svg11.dtd\">\n",
       "<!-- Generated by graphviz version 2.40.1 (20161225.0304)\n",
       " -->\n",
       "<!-- Title: G Pages: 1 -->\n",
       "<svg width=\"331pt\" height=\"302pt\"\n",
       " viewBox=\"0.00 0.00 331.00 302.00\" xmlns=\"http://www.w3.org/2000/svg\" xmlns:xlink=\"http://www.w3.org/1999/xlink\">\n",
       "<g id=\"graph0\" class=\"graph\" transform=\"scale(1 1) rotate(0) translate(4 298)\">\n",
       "<title>G</title>\n",
       "<polygon fill=\"#ffffff\" stroke=\"transparent\" points=\"-4,4 -4,-298 327,-298 327,4 -4,4\"/>\n",
       "<!-- 0 -->\n",
       "<g id=\"node1\" class=\"node\">\n",
       "<title>0</title>\n",
       "<text text-anchor=\"middle\" x=\"184\" y=\"-271.8\" font-family=\"Times,serif\" font-size=\"14.00\" fill=\"#000000\">0 (None)</text>\n",
       "</g>\n",
       "<!-- 7 -->\n",
       "<g id=\"node2\" class=\"node\">\n",
       "<title>7</title>\n",
       "<text text-anchor=\"middle\" x=\"184\" y=\"-185.8\" font-family=\"Times,serif\" font-size=\"14.00\" fill=\"#000000\">7 (mistake)</text>\n",
       "</g>\n",
       "<!-- 0&#45;&gt;7 -->\n",
       "<g id=\"edge1\" class=\"edge\">\n",
       "<title>0&#45;&gt;7</title>\n",
       "<path fill=\"none\" stroke=\"#000000\" d=\"M184,-257.7616C184,-246.3597 184,-231.4342 184,-218.494\"/>\n",
       "<polygon fill=\"#000000\" stroke=\"#000000\" points=\"187.5001,-218.2121 184,-208.2121 180.5001,-218.2121 187.5001,-218.2121\"/>\n",
       "<text text-anchor=\"middle\" x=\"195.2759\" y=\"-228.8\" font-family=\"Times,serif\" font-size=\"14.00\" fill=\"#000000\">root</text>\n",
       "</g>\n",
       "<!-- 2 -->\n",
       "<g id=\"node4\" class=\"node\">\n",
       "<title>2</title>\n",
       "<text text-anchor=\"middle\" x=\"64\" y=\"-99.8\" font-family=\"Times,serif\" font-size=\"14.00\" fill=\"#000000\">2 (go)</text>\n",
       "</g>\n",
       "<!-- 7&#45;&gt;2 -->\n",
       "<g id=\"edge4\" class=\"edge\">\n",
       "<title>7&#45;&gt;2</title>\n",
       "<path fill=\"none\" stroke=\"#000000\" d=\"M155.1435,-171.9582C146.46,-166.3535 136.9756,-160.0545 128.4482,-154 117.1503,-145.9784 105.0741,-136.7846 94.4648,-128.4865\"/>\n",
       "<polygon fill=\"#000000\" stroke=\"#000000\" points=\"96.3345,-125.5037 86.3139,-122.063 92.0017,-131.0017 96.3345,-125.5037\"/>\n",
       "<text text-anchor=\"middle\" x=\"143.7759\" y=\"-142.8\" font-family=\"Times,serif\" font-size=\"14.00\" fill=\"#000000\">csubj</text>\n",
       "</g>\n",
       "<!-- 4 -->\n",
       "<g id=\"node6\" class=\"node\">\n",
       "<title>4</title>\n",
       "<text text-anchor=\"middle\" x=\"144\" y=\"-99.8\" font-family=\"Times,serif\" font-size=\"14.00\" fill=\"#000000\">4 (would)</text>\n",
       "</g>\n",
       "<!-- 7&#45;&gt;4 -->\n",
       "<g id=\"edge5\" class=\"edge\">\n",
       "<title>7&#45;&gt;4</title>\n",
       "<path fill=\"none\" stroke=\"#000000\" d=\"M175.517,-171.7616C170.0547,-160.0176 162.8537,-144.5355 156.7139,-131.3349\"/>\n",
       "<polygon fill=\"#000000\" stroke=\"#000000\" points=\"159.8616,-129.8032 152.4707,-122.2121 153.5146,-132.7554 159.8616,-129.8032\"/>\n",
       "<text text-anchor=\"middle\" x=\"177.1069\" y=\"-142.8\" font-family=\"Times,serif\" font-size=\"14.00\" fill=\"#000000\">aux</text>\n",
       "</g>\n",
       "<!-- 5 -->\n",
       "<g id=\"node7\" class=\"node\">\n",
       "<title>5</title>\n",
       "<text text-anchor=\"middle\" x=\"224\" y=\"-99.8\" font-family=\"Times,serif\" font-size=\"14.00\" fill=\"#000000\">5 (be)</text>\n",
       "</g>\n",
       "<!-- 7&#45;&gt;5 -->\n",
       "<g id=\"edge6\" class=\"edge\">\n",
       "<title>7&#45;&gt;5</title>\n",
       "<path fill=\"none\" stroke=\"#000000\" d=\"M192.483,-171.7616C197.9453,-160.0176 205.1463,-144.5355 211.2861,-131.3349\"/>\n",
       "<polygon fill=\"#000000\" stroke=\"#000000\" points=\"214.4854,-132.7554 215.5293,-122.2121 208.1384,-129.8032 214.4854,-132.7554\"/>\n",
       "<text text-anchor=\"middle\" x=\"217.1069\" y=\"-142.8\" font-family=\"Times,serif\" font-size=\"14.00\" fill=\"#000000\">cop</text>\n",
       "</g>\n",
       "<!-- 6 -->\n",
       "<g id=\"node8\" class=\"node\">\n",
       "<title>6</title>\n",
       "<text text-anchor=\"middle\" x=\"296\" y=\"-99.8\" font-family=\"Times,serif\" font-size=\"14.00\" fill=\"#000000\">6 (a)</text>\n",
       "</g>\n",
       "<!-- 7&#45;&gt;6 -->\n",
       "<g id=\"edge7\" class=\"edge\">\n",
       "<title>7&#45;&gt;6</title>\n",
       "<path fill=\"none\" stroke=\"#000000\" d=\"M207.9174,-171.6954C215.3193,-166.0265 223.499,-159.7577 231,-154 241.8719,-145.6548 253.7586,-136.5156 264.3596,-128.3596\"/>\n",
       "<polygon fill=\"#000000\" stroke=\"#000000\" points=\"266.751,-130.9357 272.5417,-122.0634 262.482,-125.3881 266.751,-130.9357\"/>\n",
       "<text text-anchor=\"middle\" x=\"257.5518\" y=\"-142.8\" font-family=\"Times,serif\" font-size=\"14.00\" fill=\"#000000\">det</text>\n",
       "</g>\n",
       "<!-- 1 -->\n",
       "<g id=\"node3\" class=\"node\">\n",
       "<title>1</title>\n",
       "<text text-anchor=\"middle\" x=\"27\" y=\"-13.8\" font-family=\"Times,serif\" font-size=\"14.00\" fill=\"#000000\">1 (To)</text>\n",
       "</g>\n",
       "<!-- 2&#45;&gt;1 -->\n",
       "<g id=\"edge2\" class=\"edge\">\n",
       "<title>2&#45;&gt;1</title>\n",
       "<path fill=\"none\" stroke=\"#000000\" d=\"M56.1533,-85.7616C51.1497,-74.1316 44.5689,-58.8357 38.926,-45.72\"/>\n",
       "<polygon fill=\"#000000\" stroke=\"#000000\" points=\"42.0026,-44.0148 34.8354,-36.2121 35.5725,-46.7813 42.0026,-44.0148\"/>\n",
       "<text text-anchor=\"middle\" x=\"62.3828\" y=\"-56.8\" font-family=\"Times,serif\" font-size=\"14.00\" fill=\"#000000\">mark</text>\n",
       "</g>\n",
       "<!-- 3 -->\n",
       "<g id=\"node5\" class=\"node\">\n",
       "<title>3</title>\n",
       "<text text-anchor=\"middle\" x=\"102\" y=\"-13.8\" font-family=\"Times,serif\" font-size=\"14.00\" fill=\"#000000\">3 (now)</text>\n",
       "</g>\n",
       "<!-- 2&#45;&gt;3 -->\n",
       "<g id=\"edge3\" class=\"edge\">\n",
       "<title>2&#45;&gt;3</title>\n",
       "<path fill=\"none\" stroke=\"#000000\" d=\"M72.1528,-85.6917C74.673,-80.0227 77.4551,-73.7547 80,-68 83.2171,-60.7252 86.6877,-52.85 89.9004,-45.5489\"/>\n",
       "<polygon fill=\"#000000\" stroke=\"#000000\" points=\"93.252,-46.6218 94.0734,-36.0589 86.8441,-43.8041 93.252,-46.6218\"/>\n",
       "<text text-anchor=\"middle\" x=\"109.5518\" y=\"-56.8\" font-family=\"Times,serif\" font-size=\"14.00\" fill=\"#000000\">advmod</text>\n",
       "</g>\n",
       "</g>\n",
       "</svg>\n"
      ],
      "text/plain": [
       "<DependencyGraph with 8 nodes>"
      ]
     },
     "metadata": {},
     "output_type": "display_data"
    }
   ],
   "source": [
    "tree_list = list(dep_parser.raw_parse(sentence))\n",
    "display(tree_list[0])"
   ]
  },
  {
   "cell_type": "markdown",
   "metadata": {
    "slideshow": {
     "slide_type": "fragment"
    }
   },
   "source": [
    "#### Geben Sie die Dependenzregeln für diese komplexe Satzkonstruktion an:"
   ]
  },
  {
   "cell_type": "markdown",
   "metadata": {
    "slideshow": {
     "slide_type": "subslide"
    }
   },
   "source": [
    "*Lösung:*\n",
    "\n",
    "`NN/mistake -> VB/go (csubj)`\n",
    "\n",
    "`VB/go -> TO/to (mark)`\n"
   ]
  },
  {
   "cell_type": "markdown",
   "metadata": {
    "slideshow": {
     "slide_type": "slide"
    }
   },
   "source": [
    "---\n",
    "# Hausaufgaben"
   ]
  },
  {
   "cell_type": "markdown",
   "metadata": {
    "slideshow": {
     "slide_type": "slide"
    }
   },
   "source": [
    "---\n",
    "## Aufgabe 6: Satzarten\n",
    "\n",
    "#### Betrachten Sie die folgenden Beispielsätze. Um welche Satzart handelt es sich? (Aussagesatz, Fragesatz, Aufforderungssatz, Wunschsatz) Begründen Sie Ihre Entscheidung.\n",
    "\n",
    "1. *Ich befehle, dass sofort alle Kriegshandlungen eingestellt werden.*\n",
    "1. *Wo ist das Flugticket?*\n",
    "1. *Ich habe dich gefragt, wo das Flugticket ist.*\n",
    "\n",
    "#### Beantworten Sie zusätzlich noch die folgenden Fragen."
   ]
  },
  {
   "cell_type": "code",
   "execution_count": 40,
   "metadata": {
    "slideshow": {
     "slide_type": "subslide"
    }
   },
   "outputs": [
    {
     "data": {
      "application/vnd.jupyter.widget-view+json": {
       "model_id": "85db509f3b87462d8ca6d2789a492d3f",
       "version_major": 2,
       "version_minor": 0
      },
      "text/plain": [
       "SingleChoice(children=(HTML(value='<h4 style=\"font-size:14px;\">Um welche Satzart handelt es sich bei Satz 1?</…"
      ]
     },
     "metadata": {},
     "output_type": "display_data"
    },
    {
     "data": {
      "application/vnd.jupyter.widget-view+json": {
       "model_id": "ca524f292387405dbdfbe75f96453579",
       "version_major": 2,
       "version_minor": 0
      },
      "text/plain": [
       "MultipleChoice(children=(HTML(value='<h4 style=\"font-size:14px;\">Wieso?</h4>'), HTML(value='<i>Markieren Sie <…"
      ]
     },
     "metadata": {},
     "output_type": "display_data"
    },
    {
     "data": {
      "application/vnd.jupyter.widget-view+json": {
       "model_id": "e40d74d817b54603a7024d5ba8e0068b",
       "version_major": 2,
       "version_minor": 0
      },
      "text/plain": [
       "SingleChoice(children=(HTML(value='<h4 style=\"font-size:14px;\">Um welche Satzart handelt es sich bei Satz 2?</…"
      ]
     },
     "metadata": {},
     "output_type": "display_data"
    },
    {
     "data": {
      "application/vnd.jupyter.widget-view+json": {
       "model_id": "5e3b9b430b084bdd851130859b653870",
       "version_major": 2,
       "version_minor": 0
      },
      "text/plain": [
       "MultipleChoice(children=(HTML(value='<h4 style=\"font-size:14px;\">Wieso?</h4>'), HTML(value='<i>Markieren Sie <…"
      ]
     },
     "metadata": {},
     "output_type": "display_data"
    },
    {
     "data": {
      "application/vnd.jupyter.widget-view+json": {
       "model_id": "b30bd0c5cced474f94bdd9513e71c6c1",
       "version_major": 2,
       "version_minor": 0
      },
      "text/plain": [
       "SingleChoice(children=(HTML(value='<h4 style=\"font-size:14px;\">Um welche Satzart handelt es sich bei Satz 3?</…"
      ]
     },
     "metadata": {},
     "output_type": "display_data"
    },
    {
     "data": {
      "application/vnd.jupyter.widget-view+json": {
       "model_id": "732330d337e647e49579f0d62b4622fb",
       "version_major": 2,
       "version_minor": 0
      },
      "text/plain": [
       "MultipleChoice(children=(HTML(value='<h4 style=\"font-size:14px;\">Wieso?</h4>'), HTML(value='<i>Markieren Sie <…"
      ]
     },
     "metadata": {},
     "output_type": "display_data"
    }
   ],
   "source": [
    "aufgabe(blatt8_6)"
   ]
  },
  {
   "cell_type": "markdown",
   "metadata": {
    "slideshow": {
     "slide_type": "slide"
    }
   },
   "source": [
    "---\n",
    "## Aufgabe 7: Wortstellung im Nebensatz\n",
    "\n",
    "#### Betrachten Sie die folgenden beiden Sätze:\n",
    "- *Peter sagt, er habe kein Geld.*\n",
    "- *Peter sagt, dass er kein Geld habe.*\n",
    "\n",
    "#### Der erste Nebensatz  ist durch eine Konjunktion eingeleitet, der zweite Nebensatz ist ohne Einleitewort. Leiten Sie daraus eine Regularität zur Stellung des finiten Verbs im Nebensatz ab.\n",
    "\n",
    "#### Füllen Sie zusätzlich den Lückentext aus:"
   ]
  },
  {
   "cell_type": "code",
   "execution_count": 41,
   "metadata": {
    "slideshow": {
     "slide_type": "subslide"
    }
   },
   "outputs": [
    {
     "data": {
      "application/vnd.jupyter.widget-view+json": {
       "model_id": "4597b0825ea8469e9e15e3183ac08f57",
       "version_major": 2,
       "version_minor": 0
      },
      "text/plain": [
       "MultipleChoice(children=(HTML(value='<h4 style=\"font-size:14px;\">Wenn der Nebensatz durch eine Konjunktion ein…"
      ]
     },
     "metadata": {},
     "output_type": "display_data"
    },
    {
     "data": {
      "application/vnd.jupyter.widget-view+json": {
       "model_id": "18fe046df02f43d5921da9089317ea12",
       "version_major": 2,
       "version_minor": 0
      },
      "text/plain": [
       "SingleChoice(children=(HTML(value='<h4 style=\"font-size:14px;\">Von welchem Satzteil wird diese Position gefüll…"
      ]
     },
     "metadata": {},
     "output_type": "display_data"
    },
    {
     "data": {
      "application/vnd.jupyter.widget-view+json": {
       "model_id": "5704e7f083554352b92de901906bca4f",
       "version_major": 2,
       "version_minor": 0
      },
      "text/plain": [
       "MultipleChoice(children=(HTML(value='<h4 style=\"font-size:14px;\">Kann diese Position theoretisch auch leer ble…"
      ]
     },
     "metadata": {},
     "output_type": "display_data"
    }
   ],
   "source": [
    "aufgabe(blatt8_7)"
   ]
  }
 ],
 "metadata": {
  "kernelspec": {
   "display_name": "Python 3",
   "language": "python",
   "name": "python3"
  },
  "language_info": {
   "codemirror_mode": {
    "name": "ipython",
    "version": 3
   },
   "file_extension": ".py",
   "mimetype": "text/x-python",
   "name": "python",
   "nbconvert_exporter": "python",
   "pygments_lexer": "ipython3",
   "version": "3.6.1"
  },
  "widgets": {
   "application/vnd.jupyter.widget-state+json": {
    "state": {
     "006d7c57bf8b4a3aac6eb19aee76a099": {
      "model_module": "@jupyter-widgets/controls",
      "model_module_version": "1.2.0",
      "model_name": "DescriptionStyleModel",
      "state": {
       "description_width": "initial"
      }
     },
     "00ef92bbed87471e8a212279d823a203": {
      "model_module": "@jupyter-widgets/controls",
      "model_module_version": "1.2.0",
      "model_name": "DescriptionStyleModel",
      "state": {
       "description_width": ""
      }
     },
     "01004e322a604704bb8309791b8dec37": {
      "model_module": "@jupyter-widgets/controls",
      "model_module_version": "1.2.0",
      "model_name": "ButtonStyleModel",
      "state": {}
     },
     "012433fa1a7842c48a6afa001716d961": {
      "model_module": "@jupyter-widgets/controls",
      "model_module_version": "1.2.0",
      "model_name": "DescriptionStyleModel",
      "state": {
       "description_width": "initial"
      }
     },
     "012893698bb04169a8465d0b13bb7462": {
      "model_module": "@jupyter-widgets/base",
      "model_module_version": "1.0.0",
      "model_name": "LayoutModel",
      "state": {
       "justify_content": "center"
      }
     },
     "018a27ecd0744be5a4d3dd070cd70688": {
      "model_module": "@jupyter-widgets/controls",
      "model_module_version": "1.2.0",
      "model_name": "CheckboxModel",
      "state": {
       "description": "Das Mittelfeld ist unbesetzt.",
       "disabled": false,
       "layout": "IPY_MODEL_714ac144bcf8475db7fd3b15bdbe885e",
       "style": "IPY_MODEL_a198c9c1050241ba901255054d13c028",
       "value": false
      }
     },
     "01ce93bfec134415b64515a34ed71936": {
      "model_module": "@jupyter-widgets/base",
      "model_module_version": "1.0.0",
      "model_name": "LayoutModel",
      "state": {}
     },
     "01e3889e2cab40319306ec9e247cdda3": {
      "model_module": "@jupyter-widgets/controls",
      "model_module_version": "1.2.0",
      "model_name": "DescriptionStyleModel",
      "state": {
       "description_width": ""
      }
     },
     "01f5bedf85ac4093bfe29caa2f847860": {
      "model_module": "@jupyter-widgets/controls",
      "model_module_version": "1.2.0",
      "model_name": "ButtonModel",
      "state": {
       "description": "subordiniert",
       "layout": "IPY_MODEL_98056abcd8864e48a88b96d38b46330b",
       "style": "IPY_MODEL_34aa01f8abe746e1aacaed6fcc0815f1"
      }
     },
     "023196d6d22347cc9c277c231c751184": {
      "model_module": "@jupyter-widgets/base",
      "model_module_version": "1.0.0",
      "model_name": "LayoutModel",
      "state": {}
     },
     "02326d57af5a4260883901a0a5183188": {
      "model_module": "@jupyter-widgets/controls",
      "model_module_version": "1.2.0",
      "model_name": "DropdownModel",
      "state": {
       "_options_labels": [
        "Infinitiv-Subjektsatz",
        "Kausalsatz",
        "Keine der Alternativen",
        "Lokalsatz",
        "Modalsatz",
        "Objektsatz",
        "Relativsatz",
        "Temporalsatz"
       ],
       "description": "Antwort:",
       "index": 0,
       "layout": "IPY_MODEL_62dbafa7b8cf4ff0a5e84321e00a7479",
       "style": "IPY_MODEL_dae3b0b7f416491faf862adfe4557c54"
      }
     },
     "0239de72f48b42a6af856496187a3b2b": {
      "model_module": "@jupyter-widgets/base",
      "model_module_version": "1.0.0",
      "model_name": "LayoutModel",
      "state": {
       "width": "600px"
      }
     },
     "028725ef3b854968a8bf3b9979c8ecba": {
      "model_module": "@jupyter-widgets/controls",
      "model_module_version": "1.2.0",
      "model_name": "DescriptionStyleModel",
      "state": {
       "description_width": "initial"
      }
     },
     "02920666692a4240b5b54b3b5faeee4c": {
      "model_module": "@jupyter-widgets/controls",
      "model_module_version": "1.2.0",
      "model_name": "DescriptionStyleModel",
      "state": {
       "description_width": ""
      }
     },
     "02921cee6c594defa873646a6f4c0cc9": {
      "model_module": "@jupyter-widgets/controls",
      "model_module_version": "1.2.0",
      "model_name": "ButtonStyleModel",
      "state": {}
     },
     "029608085f0b43279e56fd222160fea8": {
      "model_module": "@jupyter-widgets/controls",
      "model_module_version": "1.2.0",
      "model_name": "ButtonStyleModel",
      "state": {
       "button_color": "lightgreen"
      }
     },
     "02c4e80810694447bf248d7ce572594b": {
      "model_module": "@jupyter-widgets/base",
      "model_module_version": "1.0.0",
      "model_name": "LayoutModel",
      "state": {
       "width": "600px"
      }
     },
     "0345b6c61888494d9af0f1915fdfede0": {
      "model_module": "@jupyter-widgets/controls",
      "model_module_version": "1.2.0",
      "model_name": "DescriptionStyleModel",
      "state": {
       "description_width": ""
      }
     },
     "03667a2b721f4cde8267a4ff4c96c6f9": {
      "model_module": "@jupyter-widgets/controls",
      "model_module_version": "1.2.0",
      "model_name": "VBoxModel",
      "state": {
       "children": [
        "IPY_MODEL_8d1ed654c8034ffc9cd4aba36f76d39a",
        "IPY_MODEL_150235a6482c427abae567aba180c274",
        "IPY_MODEL_4f5ca98fd9f1408381fbad5dd1a03318",
        "IPY_MODEL_de58625b986048a89d7299223f9a0587"
       ],
       "layout": "IPY_MODEL_b2dffc1e139d4447a5f224996625f666"
      }
     },
     "037d68c13cf541eb8c730c00fa4a800d": {
      "model_module": "@jupyter-widgets/base",
      "model_module_version": "1.0.0",
      "model_name": "LayoutModel",
      "state": {
       "width": "500px"
      }
     },
     "039f1c6363ba439b94ec9cb10a88203d": {
      "model_module": "@jupyter-widgets/base",
      "model_module_version": "1.0.0",
      "model_name": "LayoutModel",
      "state": {}
     },
     "03d76212fe5e4fc5a622548710526305": {
      "model_module": "@jupyter-widgets/controls",
      "model_module_version": "1.2.0",
      "model_name": "ButtonStyleModel",
      "state": {}
     },
     "03e757e550854ae8b29450c99839c38f": {
      "model_module": "@jupyter-widgets/base",
      "model_module_version": "1.0.0",
      "model_name": "LayoutModel",
      "state": {}
     },
     "04046f16e78a4a6490edac9f48eb9aa8": {
      "model_module": "@jupyter-widgets/base",
      "model_module_version": "1.0.0",
      "model_name": "LayoutModel",
      "state": {
       "justify_content": "center"
      }
     },
     "041e344e503e40a687b42e4cdaa5e67b": {
      "model_module": "@jupyter-widgets/base",
      "model_module_version": "1.0.0",
      "model_name": "LayoutModel",
      "state": {}
     },
     "041e65e1905048fea1b80e1e7b720efe": {
      "model_module": "@jupyter-widgets/controls",
      "model_module_version": "1.2.0",
      "model_name": "DescriptionStyleModel",
      "state": {
       "description_width": "initial"
      }
     },
     "041e732ed8e2443aa6362d384989b496": {
      "model_module": "@jupyter-widgets/controls",
      "model_module_version": "1.2.0",
      "model_name": "HTMLModel",
      "state": {
       "layout": "IPY_MODEL_ce029ab190034e6ea2219578ae9302cd",
       "style": "IPY_MODEL_db0dabd190bb4c20af6d7ddcd4d96b4c",
       "value": "<i>Markieren Sie <ins>alle</ins> passenden Antworten: </i>"
      }
     },
     "042206b844594feea6d3ba4be7f967ae": {
      "model_module": "@jupyter-widgets/base",
      "model_module_version": "1.0.0",
      "model_name": "LayoutModel",
      "state": {
       "width": "250px"
      }
     },
     "046d45df413e4535882f35752bbc6de1": {
      "model_module": "@jupyter-widgets/base",
      "model_module_version": "1.0.0",
      "model_name": "LayoutModel",
      "state": {
       "width": "250px"
      }
     },
     "04b469765d504eca92b305d2d64c37ed": {
      "model_module": "@jupyter-widgets/base",
      "model_module_version": "1.0.0",
      "model_name": "LayoutModel",
      "state": {
       "width": "250px"
      }
     },
     "04c11e8db8cc4886bff405ba835d6476": {
      "model_module": "@jupyter-widgets/controls",
      "model_module_version": "1.2.0",
      "model_name": "DescriptionStyleModel",
      "state": {
       "description_width": "initial"
      }
     },
     "04fb5b81325a4de48e0303d3908fe3f5": {
      "model_module": "@jupyter-widgets/controls",
      "model_module_version": "1.2.0",
      "model_name": "DescriptionStyleModel",
      "state": {
       "description_width": "initial"
      }
     },
     "0501db2a3bc646deb37ca90f4cd6ee6a": {
      "model_module": "@jupyter-widgets/controls",
      "model_module_version": "1.2.0",
      "model_name": "ButtonStyleModel",
      "state": {}
     },
     "050f8faa5805401db5c6214685c082b6": {
      "model_module": "@jupyter-widgets/base",
      "model_module_version": "1.0.0",
      "model_name": "LayoutModel",
      "state": {
       "width": "600px"
      }
     },
     "05280017c68b46048843926f529c2752": {
      "model_module": "@jupyter-widgets/controls",
      "model_module_version": "1.2.0",
      "model_name": "ButtonStyleModel",
      "state": {
       "button_color": "lightgreen"
      }
     },
     "058516eb2f304764b01a3d91ccc571c7": {
      "model_module": "@jupyter-widgets/controls",
      "model_module_version": "1.2.0",
      "model_name": "DescriptionStyleModel",
      "state": {
       "description_width": ""
      }
     },
     "0594b879c743465ab9dbd92ee333966e": {
      "model_module": "@jupyter-widgets/base",
      "model_module_version": "1.0.0",
      "model_name": "LayoutModel",
      "state": {}
     },
     "05c00a8e15d143d784151d4469be2b42": {
      "model_module": "@jupyter-widgets/controls",
      "model_module_version": "1.2.0",
      "model_name": "ButtonModel",
      "state": {
       "description": "Fragesatz",
       "layout": "IPY_MODEL_5e116190ad994213a2fdd0337cf375e9",
       "style": "IPY_MODEL_f47b28988d664a42b0eaf167b2313826"
      }
     },
     "05d2e0d6b49446a6a19c948ef4c19297": {
      "model_module": "@jupyter-widgets/controls",
      "model_module_version": "1.2.0",
      "model_name": "ButtonStyleModel",
      "state": {}
     },
     "05da053ff2814effa9d2e8675c138178": {
      "model_module": "@jupyter-widgets/base",
      "model_module_version": "1.0.0",
      "model_name": "LayoutModel",
      "state": {}
     },
     "0600179ca7754173b91b3e901fc4896d": {
      "model_module": "@jupyter-widgets/base",
      "model_module_version": "1.0.0",
      "model_name": "LayoutModel",
      "state": {}
     },
     "0600ec26a5d14236954fdb6885c6f8ae": {
      "model_module": "@jupyter-widgets/base",
      "model_module_version": "1.0.0",
      "model_name": "LayoutModel",
      "state": {
       "width": "600px"
      }
     },
     "063417aac7374929a5fe87473c3440c7": {
      "model_module": "@jupyter-widgets/controls",
      "model_module_version": "1.2.0",
      "model_name": "ButtonStyleModel",
      "state": {}
     },
     "063bb9e6110d4eee84c9bdc6e083fb42": {
      "model_module": "@jupyter-widgets/controls",
      "model_module_version": "1.2.0",
      "model_name": "DescriptionStyleModel",
      "state": {
       "description_width": ""
      }
     },
     "065599ae912a4a46ac6af40d8648cb31": {
      "model_module": "@jupyter-widgets/controls",
      "model_module_version": "1.2.0",
      "model_name": "HTMLModel",
      "state": {
       "layout": "IPY_MODEL_36b32e4594024d29861ef2f6fc1443b1",
       "style": "IPY_MODEL_f023118a88ff45899c3e3bfd9719f66d",
       "value": "<i>Markieren Sie <ins>alle</ins> passenden Antworten: </i>"
      }
     },
     "066e3ef3e96c4cf5a79010d8e3eec7d7": {
      "model_module": "@jupyter-widgets/base",
      "model_module_version": "1.0.0",
      "model_name": "LayoutModel",
      "state": {
       "width": "250px"
      }
     },
     "06c42b3cb72449358b280c901b8ad4e9": {
      "model_module": "@jupyter-widgets/base",
      "model_module_version": "1.0.0",
      "model_name": "LayoutModel",
      "state": {}
     },
     "06ce26e524cc4f14a7e615aebfad48b7": {
      "model_module": "@jupyter-widgets/controls",
      "model_module_version": "1.2.0",
      "model_name": "ButtonStyleModel",
      "state": {
       "button_color": "lightgreen"
      }
     },
     "070b26c390bc47c9830ee109403e1581": {
      "model_module": "@jupyter-widgets/base",
      "model_module_version": "1.0.0",
      "model_name": "LayoutModel",
      "state": {}
     },
     "0713d298882b4d1287e372e03d335479": {
      "model_module": "@jupyter-widgets/controls",
      "model_module_version": "1.2.0",
      "model_name": "DescriptionStyleModel",
      "state": {
       "description_width": ""
      }
     },
     "071fd3418c9548a28cabd6c179e2d361": {
      "model_module": "@jupyter-widgets/controls",
      "model_module_version": "1.2.0",
      "model_name": "ButtonModel",
      "state": {
       "description": "Satz 4",
       "layout": "IPY_MODEL_77ae55d4a5134dc8afde01201e2ea153",
       "style": "IPY_MODEL_6d4a564519b14d17b098c4690b30f576"
      }
     },
     "077c83771fa442b79f80141f76e5bf24": {
      "model_module": "@jupyter-widgets/controls",
      "model_module_version": "1.2.0",
      "model_name": "DescriptionStyleModel",
      "state": {
       "description_width": ""
      }
     },
     "07cb478d84a14cdeb209655de2972ee7": {
      "model_module": "@jupyter-widgets/base",
      "model_module_version": "1.0.0",
      "model_name": "LayoutModel",
      "state": {}
     },
     "07f111c59eae4c26b4b94e00ef91efae": {
      "model_module": "@jupyter-widgets/controls",
      "model_module_version": "1.2.0",
      "model_name": "DescriptionStyleModel",
      "state": {
       "description_width": ""
      }
     },
     "080d7f1aa3c843e987aafa73c73ccae7": {
      "model_module": "@jupyter-widgets/controls",
      "model_module_version": "1.2.0",
      "model_name": "ButtonStyleModel",
      "state": {}
     },
     "081228a415944e3c9f12ac1c281cf4c3": {
      "model_module": "@jupyter-widgets/controls",
      "model_module_version": "1.2.0",
      "model_name": "CheckboxModel",
      "state": {
       "description": "Vater",
       "disabled": false,
       "layout": "IPY_MODEL_e8da9f2c6f32475aa39d65a121d80dfb",
       "style": "IPY_MODEL_3843ffa7eb2c4a3ebb91dcd5ea7b9069",
       "value": true
      }
     },
     "08daef993dae46f080951c6e641fa48c": {
      "model_module": "@jupyter-widgets/controls",
      "model_module_version": "1.2.0",
      "model_name": "DescriptionStyleModel",
      "state": {
       "description_width": "initial"
      }
     },
     "08de6025d63943978206e242c3aeb073": {
      "model_module": "@jupyter-widgets/controls",
      "model_module_version": "1.2.0",
      "model_name": "CheckboxModel",
      "state": {
       "description": "Nebensatz 2. Grades",
       "disabled": false,
       "layout": "IPY_MODEL_4ddde1b03035423e866c8661d70785cc",
       "style": "IPY_MODEL_cc67de00d5304e15a7e1b9a717ad4db5",
       "value": false
      }
     },
     "097edd8969984583ada87cb2d83eb0f4": {
      "model_module": "@jupyter-widgets/controls",
      "model_module_version": "1.2.0",
      "model_name": "ButtonStyleModel",
      "state": {
       "button_color": "lightgreen"
      }
     },
     "0998c52d13a449d290f2a933ae48e29b": {
      "model_module": "@jupyter-widgets/controls",
      "model_module_version": "1.2.0",
      "model_name": "ButtonStyleModel",
      "state": {}
     },
     "09c6cf577f714a3dbdaad1e7dd1b0c75": {
      "model_module": "@jupyter-widgets/controls",
      "model_module_version": "1.2.0",
      "model_name": "DescriptionStyleModel",
      "state": {
       "description_width": "initial"
      }
     },
     "09c98cbb399640dd814ed36de7d742b2": {
      "model_module": "@jupyter-widgets/base",
      "model_module_version": "1.0.0",
      "model_name": "LayoutModel",
      "state": {
       "width": "600px"
      }
     },
     "09f2d618d12f426596e805348e72754b": {
      "model_module": "@jupyter-widgets/controls",
      "model_module_version": "1.2.0",
      "model_name": "ButtonModel",
      "state": {
       "description": "Keine der anderen Möglichkeiten",
       "layout": "IPY_MODEL_fe2768f1c22147739625ddb5a5f62f98",
       "style": "IPY_MODEL_02921cee6c594defa873646a6f4c0cc9"
      }
     },
     "09f51e9ac2e94bf2a2fe41551877983a": {
      "model_module": "@jupyter-widgets/controls",
      "model_module_version": "1.2.0",
      "model_name": "CheckboxModel",
      "state": {
       "description": "hat",
       "disabled": false,
       "layout": "IPY_MODEL_0ecf683637504714a02e1474b0310d0c",
       "style": "IPY_MODEL_70b423323ec8417b965ed66a29d10620",
       "value": true
      }
     },
     "0a1054d0a4544242a4a2db874271d680": {
      "model_module": "@jupyter-widgets/controls",
      "model_module_version": "1.2.0",
      "model_name": "HTMLModel",
      "state": {
       "layout": "IPY_MODEL_05da053ff2814effa9d2e8675c138178",
       "style": "IPY_MODEL_82297e518be74a88b24e084b65919e2a",
       "value": "<h4 style=\"font-size:14px;\">Welcher eingebettete Satztyp liegt vor?</h4>"
      }
     },
     "0a6369e458754416bf84b6a6a4415ce7": {
      "model_module": "@jupyter-widgets/controls",
      "model_module_version": "1.2.0",
      "model_name": "VBoxModel",
      "state": {
       "children": [
        "IPY_MODEL_9a15ba8fcd72419aba3c971907af1136",
        "IPY_MODEL_d2d4a5834f6e4eab9d8b288c8c4e5275",
        "IPY_MODEL_31f65f42da8842059fc629a9dca4a5a2",
        "IPY_MODEL_89eb67b8f67f44d99c1eab7fcf7a6d5c"
       ],
       "layout": "IPY_MODEL_71c68114bb734e0abdc36b08377df16f"
      }
     },
     "0a6d9219c5914bc582a12824a443160b": {
      "model_module": "@jupyter-widgets/controls",
      "model_module_version": "1.2.0",
      "model_name": "CheckboxModel",
      "state": {
       "description": "Satzschlusszeichen: Punkt",
       "disabled": false,
       "layout": "IPY_MODEL_8784668d9f89493ab2eba958c2f14bbb",
       "style": "IPY_MODEL_490a8b7f14464756952b79a3897fa1d4",
       "value": true
      }
     },
     "0ab8eb6bd6ac4371b5c59e20a94dbd18": {
      "model_module": "@jupyter-widgets/controls",
      "model_module_version": "1.2.0",
      "model_name": "DescriptionStyleModel",
      "state": {
       "description_width": ""
      }
     },
     "0b9bd17834a54847a9679fc5adba30df": {
      "model_module": "@jupyter-widgets/base",
      "model_module_version": "1.0.0",
      "model_name": "LayoutModel",
      "state": {
       "width": "600px"
      }
     },
     "0bb9a7478f614c2ba994b1fc3e3d7bac": {
      "model_module": "@jupyter-widgets/base",
      "model_module_version": "1.0.0",
      "model_name": "LayoutModel",
      "state": {
       "width": "600px"
      }
     },
     "0c399a6bd5274169af803ba7fd8dce78": {
      "model_module": "@jupyter-widgets/controls",
      "model_module_version": "1.2.0",
      "model_name": "DescriptionStyleModel",
      "state": {
       "description_width": ""
      }
     },
     "0c4d3b5977714f30bb38d0a25b89a6c2": {
      "model_module": "@jupyter-widgets/controls",
      "model_module_version": "1.2.0",
      "model_name": "DescriptionStyleModel",
      "state": {
       "description_width": ""
      }
     },
     "0c9be4e7a00c4a2aaaecccf4f83acf9a": {
      "model_module": "@jupyter-widgets/base",
      "model_module_version": "1.0.0",
      "model_name": "LayoutModel",
      "state": {
       "justify_content": "center"
      }
     },
     "0cace686b9514bb8bfd1e373d339942e": {
      "model_module": "@jupyter-widgets/base",
      "model_module_version": "1.0.0",
      "model_name": "LayoutModel",
      "state": {}
     },
     "0d31fb1727904b94b24587cdad152cfb": {
      "model_module": "@jupyter-widgets/controls",
      "model_module_version": "1.2.0",
      "model_name": "CheckboxModel",
      "state": {
       "description": "zu",
       "disabled": false,
       "layout": "IPY_MODEL_b6d12f96050c4ca8a20ec8ad4e81fcc2",
       "style": "IPY_MODEL_650f33870bbd471182e5894a29698a31",
       "value": true
      }
     },
     "0d8b760ad8244ccc8e45b463d6fcd82d": {
      "model_module": "@jupyter-widgets/base",
      "model_module_version": "1.0.0",
      "model_name": "LayoutModel",
      "state": {
       "width": "250px"
      }
     },
     "0da36764ee8849088fefba173b65a788": {
      "model_module": "@jupyter-widgets/controls",
      "model_module_version": "1.2.0",
      "model_name": "ButtonModel",
      "state": {
       "description": "subordiniert",
       "layout": "IPY_MODEL_594be0b499294bd5875de59efb91f7b1",
       "style": "IPY_MODEL_fa6254f3c266426d823954bfae3eb570"
      }
     },
     "0da95c73fb1b479c9950448514e407e2": {
      "model_module": "@jupyter-widgets/controls",
      "model_module_version": "1.2.0",
      "model_name": "CheckboxModel",
      "state": {
       "description": "schenkte",
       "disabled": false,
       "layout": "IPY_MODEL_da0ad849adb24f5f88132ebe27de3c78",
       "style": "IPY_MODEL_83f719771e324b0685ca94164556fa86",
       "value": true
      }
     },
     "0ddc90296c4c46e9957a04c3c0191c19": {
      "model_module": "@jupyter-widgets/controls",
      "model_module_version": "1.2.0",
      "model_name": "CheckboxModel",
      "state": {
       "description": "Buch",
       "disabled": false,
       "layout": "IPY_MODEL_f51bf3a9781c4d669c68eff1de8d3416",
       "style": "IPY_MODEL_5b8b8c1ffc554fa6b2ef135867637d3c",
       "value": false
      }
     },
     "0de82bc19fb940918649c630b85e4157": {
      "model_module": "@jupyter-widgets/controls",
      "model_module_version": "1.2.0",
      "model_name": "HBoxModel",
      "state": {
       "children": [
        "IPY_MODEL_b5b30cd9695340c492669611f741925d",
        "IPY_MODEL_0da36764ee8849088fefba173b65a788"
       ],
       "layout": "IPY_MODEL_fc634b44977f430894989feae21dd460"
      }
     },
     "0deac1e8059347f29f23303efbbf4c45": {
      "model_module": "@jupyter-widgets/base",
      "model_module_version": "1.0.0",
      "model_name": "LayoutModel",
      "state": {}
     },
     "0df638f5438a4e6ebc224be380394f39": {
      "model_module": "@jupyter-widgets/controls",
      "model_module_version": "1.2.0",
      "model_name": "HTMLModel",
      "state": {
       "layout": "IPY_MODEL_271d7c5f45d64f30a23f473710eb4bbc",
       "style": "IPY_MODEL_d5e0ae9014774869886bd5a562339e6f",
       "value": "<h4 style=\"font-size:14px;\">Um was für einen Satz handelt es sich syntaktisch bei <i>als sie ...</i>?</h4>"
      }
     },
     "0e93e0e147654bdca4bfd8a9f44cf997": {
      "model_module": "@jupyter-widgets/controls",
      "model_module_version": "1.2.0",
      "model_name": "HTMLModel",
      "state": {
       "layout": "IPY_MODEL_8030f84eee5f4b8e91add5a283a61969",
       "style": "IPY_MODEL_d6e1fdb2528d414ba4d8e220644d7af5",
       "value": "<h4 style=\"font-size:14px;\">Welche Wörter sind Teil der linken Satzklammer?</h4>"
      }
     },
     "0e9baecc71a24d20b2daa30f4ff27157": {
      "model_module": "@jupyter-widgets/controls",
      "model_module_version": "1.2.0",
      "model_name": "DropdownModel",
      "state": {
       "_options_labels": [
        "Adverbialsatz",
        "Attributsatz",
        "Keine der Alternativen",
        "Komplementsatz",
        "Matrixsatz"
       ],
       "description": "Antwort:",
       "index": 3,
       "layout": "IPY_MODEL_29f92949d80640438a6c2e9c348d02f1",
       "style": "IPY_MODEL_b7ff8ac886b142689e8bbca77b0eb623"
      }
     },
     "0ecf683637504714a02e1474b0310d0c": {
      "model_module": "@jupyter-widgets/base",
      "model_module_version": "1.0.0",
      "model_name": "LayoutModel",
      "state": {
       "width": "600px"
      }
     },
     "0f01822ffa54409a80788f7a2c7ed874": {
      "model_module": "@jupyter-widgets/base",
      "model_module_version": "1.0.0",
      "model_name": "LayoutModel",
      "state": {
       "width": "250px"
      }
     },
     "0f22506a77ba4daeb6725fb2a35b363b": {
      "model_module": "@jupyter-widgets/controls",
      "model_module_version": "1.2.0",
      "model_name": "DescriptionStyleModel",
      "state": {
       "description_width": "initial"
      }
     },
     "0f47cfba29eb4592bd9124ce79c3986b": {
      "model_module": "@jupyter-widgets/controls",
      "model_module_version": "1.2.0",
      "model_name": "CheckboxModel",
      "state": {
       "description": "Nebensatz 1. Grades",
       "disabled": false,
       "layout": "IPY_MODEL_9627d8b174fb441cb489bd6ca023ec79",
       "style": "IPY_MODEL_bede73c63124436c9c6e2a4016dbe058",
       "value": true
      }
     },
     "0fc8b5a14ed9405281de9489b19e647c": {
      "model_module": "@jupyter-widgets/controls",
      "model_module_version": "1.2.0",
      "model_name": "CheckboxModel",
      "state": {
       "description": "Junge",
       "disabled": false,
       "layout": "IPY_MODEL_23dea3cb134341319b5f426d52fba3f3",
       "style": "IPY_MODEL_f37182184ba64d86861d542cfd9fa558",
       "value": false
      }
     },
     "0fe0af6e05684a3dbfd6c2c7677cf3a2": {
      "model_module": "@jupyter-widgets/controls",
      "model_module_version": "1.2.0",
      "model_name": "HTMLModel",
      "state": {
       "layout": "IPY_MODEL_cac974b64dfc41eeac426fd58ae572c8",
       "style": "IPY_MODEL_70a5555901f749a498f79687257719fe",
       "value": "<i>Markieren Sie <ins>alle</ins> passenden Antworten: </i>"
      }
     },
     "1030de4d8c9f4341ac922f971d4827a6": {
      "model_module": "@jupyter-widgets/controls",
      "model_module_version": "1.2.0",
      "model_name": "DescriptionStyleModel",
      "state": {
       "description_width": ""
      }
     },
     "1043c3728b9e49ed8a8c6c6f2cd918ba": {
      "model_module": "@jupyter-widgets/base",
      "model_module_version": "1.0.0",
      "model_name": "LayoutModel",
      "state": {
       "justify_content": "center"
      }
     },
     "10c13b0887c54a2eabfd1ff739bf96a4": {
      "model_module": "@jupyter-widgets/controls",
      "model_module_version": "1.2.0",
      "model_name": "CheckboxModel",
      "state": {
       "description": "Vater",
       "disabled": false,
       "layout": "IPY_MODEL_5150183982d34ca18afd269b6a0ab148",
       "style": "IPY_MODEL_d1ae2637f13846d993d1eb48d2104715",
       "value": false
      }
     },
     "1134952e16454401a3521d19f6cb8335": {
      "model_module": "@jupyter-widgets/controls",
      "model_module_version": "1.2.0",
      "model_name": "ButtonStyleModel",
      "state": {}
     },
     "113bfa87bfec4047a8c89f01c9e488d1": {
      "model_module": "@jupyter-widgets/controls",
      "model_module_version": "1.2.0",
      "model_name": "VBoxModel",
      "state": {
       "children": [
        "IPY_MODEL_47249f13c1134b1a88b3f8ada41c04fb",
        "IPY_MODEL_45fece877d994c5ba76e65de2ac72371",
        "IPY_MODEL_29793ea47b9740679999674cb34798f5",
        "IPY_MODEL_612d889cc23441268c5e2689bf370464"
       ],
       "layout": "IPY_MODEL_e2058cbbaffb4f74a43d4653c4bc45ec"
      }
     },
     "115a307d3e4b45758a46ce8a2c930253": {
      "model_module": "@jupyter-widgets/controls",
      "model_module_version": "1.2.0",
      "model_name": "VBoxModel",
      "state": {
       "children": [
        "IPY_MODEL_17e292109e0d48138ab16552011d9db3",
        "IPY_MODEL_72230ee21f01401597410286002bf4e7",
        "IPY_MODEL_89aac913ab3d44158fe9789629b6478e",
        "IPY_MODEL_08de6025d63943978206e242c3aeb073",
        "IPY_MODEL_ff1563ae438e4fff888d97a39e8f60fb"
       ],
       "layout": "IPY_MODEL_30f5dd84cc624272b70e6694f2808f81"
      }
     },
     "11771c49cd0f49729bd3f1659cce1e66": {
      "model_module": "@jupyter-widgets/controls",
      "model_module_version": "1.2.0",
      "model_name": "VBoxModel",
      "state": {
       "children": [
        "IPY_MODEL_98cff123aaa84bbfbf700349b4beb866",
        "IPY_MODEL_c61a17aea1724831b7e377cc263ee4de",
        "IPY_MODEL_3cc5b75445d14c64bef87dc8f736a7a2",
        "IPY_MODEL_14af42d7422e4f9a974ce3d5d63d1636"
       ],
       "layout": "IPY_MODEL_26c26135163e406181ee848117071812"
      }
     },
     "117750ee3ea947b2a0abf234a87bd084": {
      "model_module": "@jupyter-widgets/controls",
      "model_module_version": "1.2.0",
      "model_name": "DescriptionStyleModel",
      "state": {
       "description_width": ""
      }
     },
     "118a3e48c39f4bdd8f9fee791d9ad41f": {
      "model_module": "@jupyter-widgets/controls",
      "model_module_version": "1.2.0",
      "model_name": "ButtonStyleModel",
      "state": {
       "button_color": "lightgreen"
      }
     },
     "118efaeee8654d5db982199ac2908ea4": {
      "model_module": "@jupyter-widgets/controls",
      "model_module_version": "1.2.0",
      "model_name": "HTMLModel",
      "state": {
       "layout": "IPY_MODEL_0c9be4e7a00c4a2aaaecccf4f83acf9a",
       "style": "IPY_MODEL_350a63eb7fd24f25ae6301ae865e1a62",
       "value": "<i>Markieren Sie <ins>alle</ins> passenden Antworten: </i>"
      }
     },
     "11cb9a992cf24072824236f7eb358d5a": {
      "model_module": "@jupyter-widgets/base",
      "model_module_version": "1.0.0",
      "model_name": "LayoutModel",
      "state": {
       "justify_content": "center"
      }
     },
     "11d3f7244e394c23bf0d1ce0d2585e66": {
      "model_module": "@jupyter-widgets/controls",
      "model_module_version": "1.2.0",
      "model_name": "CheckboxModel",
      "state": {
       "description": "Peter",
       "disabled": false,
       "layout": "IPY_MODEL_388682476ddc4b79994d5cd2714bc905",
       "style": "IPY_MODEL_fa26ebe5379145bdb6a7b98776e4f305",
       "value": false
      }
     },
     "11d6f98b2a604e3db618d32bd1508a9f": {
      "model_module": "@jupyter-widgets/base",
      "model_module_version": "1.0.0",
      "model_name": "LayoutModel",
      "state": {
       "justify_content": "center"
      }
     },
     "11d8d9caa59c449bbe793e41236a716b": {
      "model_module": "@jupyter-widgets/controls",
      "model_module_version": "1.2.0",
      "model_name": "HTMLModel",
      "state": {
       "layout": "IPY_MODEL_a633d01477604c26bc450c9d8bbabe2d",
       "style": "IPY_MODEL_20771d23b06a4398b545c14f6000e529",
       "value": "<i>Wählen Sie die <ins>eine</ins> korrekte Antwort aus: </i>"
      }
     },
     "11e92653cf0b41aaab182dfa788198a3": {
      "model_module": "@jupyter-widgets/controls",
      "model_module_version": "1.2.0",
      "model_name": "HBoxModel",
      "state": {
       "children": [
        "IPY_MODEL_c47da863d87846ac8fea839ffb3bd081",
        "IPY_MODEL_bab4e1624ef743ffad361c0403fc8196"
       ],
       "layout": "IPY_MODEL_ff15da94b3ef4d17a2a17dedf36fcc3d"
      }
     },
     "12179e9325e148bd870e7ecd3a03c6e8": {
      "model_module": "@jupyter-widgets/controls",
      "model_module_version": "1.2.0",
      "model_name": "CheckboxModel",
      "state": {
       "description": "Wenn es sich bei dem Satzglied um das Subjekt handelt.",
       "disabled": false,
       "layout": "IPY_MODEL_6378638836a243808c72a8fd184a5073",
       "style": "IPY_MODEL_c3d7e0419a02410e82f8ed1bfa0bafd7",
       "value": true
      }
     },
     "127f3d6d00364bb088aeab7eca394dce": {
      "model_module": "@jupyter-widgets/controls",
      "model_module_version": "1.2.0",
      "model_name": "CheckboxModel",
      "state": {
       "description": "sein",
       "disabled": false,
       "layout": "IPY_MODEL_6b751518b97646f690e1157b56d45f5c",
       "style": "IPY_MODEL_33f1f52fa1da490888b7b01f890b9234",
       "value": false
      }
     },
     "12a5b5e417824edab02588bb4aad337a": {
      "model_module": "@jupyter-widgets/base",
      "model_module_version": "1.0.0",
      "model_name": "LayoutModel",
      "state": {
       "justify_content": "center"
      }
     },
     "12c902356bfd411483976aed61a9b742": {
      "model_module": "@jupyter-widgets/controls",
      "model_module_version": "1.2.0",
      "model_name": "DescriptionStyleModel",
      "state": {
       "description_width": ""
      }
     },
     "12e8584163274ab7904a521935c5576f": {
      "model_module": "@jupyter-widgets/base",
      "model_module_version": "1.0.0",
      "model_name": "LayoutModel",
      "state": {
       "width": "250px"
      }
     },
     "12ef6b3229924160a2ed8d2f2a15f3f4": {
      "model_module": "@jupyter-widgets/controls",
      "model_module_version": "1.2.0",
      "model_name": "HTMLModel",
      "state": {
       "layout": "IPY_MODEL_99faf8376e1042a5a115dc2e3cd0cc1b",
       "style": "IPY_MODEL_464f82e907404a71b335fa3669392366",
       "value": "<h4 style=\"font-size:14px;\">Wieso?</h4>"
      }
     },
     "13003debdba2404f8324d70168f09d0e": {
      "model_module": "@jupyter-widgets/controls",
      "model_module_version": "1.2.0",
      "model_name": "DescriptionStyleModel",
      "state": {
       "description_width": ""
      }
     },
     "13670a16bc21491dbe64e4e3a0372a1c": {
      "model_module": "@jupyter-widgets/controls",
      "model_module_version": "1.2.0",
      "model_name": "VBoxModel",
      "state": {
       "children": [
        "IPY_MODEL_4b188be97283424fa0fffb09dcff5238",
        "IPY_MODEL_abc34c40c0e745cc9c148320a06c26cf",
        "IPY_MODEL_cc85d038c1494886a96311c4f6ea203c",
        "IPY_MODEL_437325f6dcb847fc98e2dd21c77922b3"
       ],
       "layout": "IPY_MODEL_f8b0994b0f864f0bbc7bc5c2290d0bbc"
      }
     },
     "13b8fb90bd274438b63ae4f370eaadfc": {
      "model_module": "@jupyter-widgets/controls",
      "model_module_version": "1.2.0",
      "model_name": "VBoxModel",
      "state": {
       "children": [
        "IPY_MODEL_de2097110f0045e3b44bfe8a7f23c734",
        "IPY_MODEL_1a3c5ae7cfd24b41a2d0e99dc3522f6c",
        "IPY_MODEL_bdad07517c8c48a496d03e874a1b13d6",
        "IPY_MODEL_f9257529f1c8417485b66ee32f8ccd07"
       ],
       "layout": "IPY_MODEL_4d4a25388b054e21acd5b059fa1ca434"
      }
     },
     "13cf3d81503342478fed7ef003f2444d": {
      "model_module": "@jupyter-widgets/controls",
      "model_module_version": "1.2.0",
      "model_name": "VBoxModel",
      "state": {
       "children": [
        "IPY_MODEL_0df638f5438a4e6ebc224be380394f39",
        "IPY_MODEL_da5693e3de0d4df095282c6daa91e01a",
        "IPY_MODEL_143292aa194040358c2ea3e735f5db04",
        "IPY_MODEL_5188a03761444159a2d02ed0136b7424"
       ],
       "layout": "IPY_MODEL_723320474bd642bbb6d474496663e3fd"
      }
     },
     "1418c09e9e4d4e84baa28857eb151413": {
      "model_module": "@jupyter-widgets/controls",
      "model_module_version": "1.2.0",
      "model_name": "DescriptionStyleModel",
      "state": {
       "description_width": ""
      }
     },
     "143292aa194040358c2ea3e735f5db04": {
      "model_module": "@jupyter-widgets/controls",
      "model_module_version": "1.2.0",
      "model_name": "DropdownModel",
      "state": {
       "_options_labels": [
        "Adverbialsatz",
        "Attributsatz",
        "Keine der Alternativen",
        "Komplementsatz",
        "Matrixsatz"
       ],
       "description": "Antwort:",
       "index": 0,
       "layout": "IPY_MODEL_354b4a05341348ec9d6c2c9e06ed504b",
       "style": "IPY_MODEL_faf035791c064092b6754108aea16dec"
      }
     },
     "14af42d7422e4f9a974ce3d5d63d1636": {
      "model_module": "@jupyter-widgets/controls",
      "model_module_version": "1.2.0",
      "model_name": "ButtonModel",
      "state": {
       "description": "Korrekt?",
       "layout": "IPY_MODEL_a9925ae1158d4b08bd4c1ec599c83a7a",
       "style": "IPY_MODEL_586984ee63914fd08bd65b6299c20218"
      }
     },
     "14c83267fa184d56a259e45ba47ac76d": {
      "model_module": "@jupyter-widgets/controls",
      "model_module_version": "1.2.0",
      "model_name": "ButtonModel",
      "state": {
       "description": "Objektkontrolle",
       "layout": "IPY_MODEL_f99d6449c140471f8b18861e2a8a9528",
       "style": "IPY_MODEL_9d134d6a6b8346d186b9669bc3f6a111"
      }
     },
     "14fcee5f64e341c0b78a5f2357d390d7": {
      "model_module": "@jupyter-widgets/controls",
      "model_module_version": "1.2.0",
      "model_name": "CheckboxModel",
      "state": {
       "description": "Fragepronomen",
       "disabled": false,
       "layout": "IPY_MODEL_d61a97588fb94368841a17c1dd25f77d",
       "style": "IPY_MODEL_aaf9637536c34280b89680c7132b00e0",
       "value": false
      }
     },
     "150235a6482c427abae567aba180c274": {
      "model_module": "@jupyter-widgets/controls",
      "model_module_version": "1.2.0",
      "model_name": "HTMLModel",
      "state": {
       "layout": "IPY_MODEL_cbf124936a42496a9596e2207e9f929b",
       "style": "IPY_MODEL_ebb7e166cd6f421fbf2956f48eba27c7",
       "value": "<i>Wählen Sie die <ins>eine</ins> korrekte Antwort aus: </i>"
      }
     },
     "15a768519e274ba88c61afbd9bb5b24a": {
      "model_module": "@jupyter-widgets/base",
      "model_module_version": "1.0.0",
      "model_name": "LayoutModel",
      "state": {
       "justify_content": "center"
      }
     },
     "160731c1c38843109b285a685bed15b1": {
      "model_module": "@jupyter-widgets/base",
      "model_module_version": "1.0.0",
      "model_name": "LayoutModel",
      "state": {
       "justify_content": "center"
      }
     },
     "160aa33a23db448f9daa0fc37bce63d3": {
      "model_module": "@jupyter-widgets/base",
      "model_module_version": "1.0.0",
      "model_name": "LayoutModel",
      "state": {
       "width": "250px"
      }
     },
     "160cd742238b4b0b88af46bdae761a29": {
      "model_module": "@jupyter-widgets/controls",
      "model_module_version": "1.2.0",
      "model_name": "DescriptionStyleModel",
      "state": {
       "description_width": ""
      }
     },
     "161cc7e5c74445539140a81ac7da44f6": {
      "model_module": "@jupyter-widgets/base",
      "model_module_version": "1.0.0",
      "model_name": "LayoutModel",
      "state": {
       "justify_content": "center"
      }
     },
     "162ddb3d16a04086b3dece0dfc991d0e": {
      "model_module": "@jupyter-widgets/controls",
      "model_module_version": "1.2.0",
      "model_name": "ButtonModel",
      "state": {
       "description": "Korrekt?",
       "layout": "IPY_MODEL_f9a8a32215b9445b9c2e974557021b43",
       "style": "IPY_MODEL_ece5e6282eb342cc8ae8cd042e4cb219"
      }
     },
     "162e9af9086d473d999c829b5b1d9b42": {
      "model_module": "@jupyter-widgets/controls",
      "model_module_version": "1.2.0",
      "model_name": "ButtonModel",
      "state": {
       "description": "Adverb",
       "layout": "IPY_MODEL_932b65c51a2d4b8d953e75562d8d17c8",
       "style": "IPY_MODEL_a1dc3acbf3e44936b9e45b455d742178"
      }
     },
     "163f6784c6ad4b16b21b205bc3c8df11": {
      "model_module": "@jupyter-widgets/controls",
      "model_module_version": "1.2.0",
      "model_name": "CheckboxModel",
      "state": {
       "description": "gelesen",
       "disabled": false,
       "layout": "IPY_MODEL_0bb9a7478f614c2ba994b1fc3e3d7bac",
       "style": "IPY_MODEL_d6840eee93764d279615b6ab2e2fb42c",
       "value": true
      }
     },
     "16dc9b9d48454257a1a71d33a381c7ae": {
      "model_module": "@jupyter-widgets/controls",
      "model_module_version": "1.2.0",
      "model_name": "DescriptionStyleModel",
      "state": {
       "description_width": ""
      }
     },
     "17e292109e0d48138ab16552011d9db3": {
      "model_module": "@jupyter-widgets/controls",
      "model_module_version": "1.2.0",
      "model_name": "CheckboxModel",
      "state": {
       "description": "Konjunktionalsatz",
       "disabled": false,
       "layout": "IPY_MODEL_84365c1aa9cf4fb0a300207921ea5180",
       "style": "IPY_MODEL_c3abcca7ac1a4e21b77718346a7a0ae3",
       "value": true
      }
     },
     "17fea7719d6b4f1a84288e7ff9fe33f3": {
      "model_module": "@jupyter-widgets/controls",
      "model_module_version": "1.2.0",
      "model_name": "ButtonModel",
      "state": {
       "description": "subordiniert",
       "layout": "IPY_MODEL_ca7756d6ca68400c805c3da5b53ea643",
       "style": "IPY_MODEL_1f8e5f07356e40c7a71d553529da282a"
      }
     },
     "183b51bd264b45e2b10b84d1f3ee2dac": {
      "model_module": "@jupyter-widgets/controls",
      "model_module_version": "1.2.0",
      "model_name": "DescriptionStyleModel",
      "state": {
       "description_width": "initial"
      }
     },
     "18cffbc4e1cd497a8c3daddb18890720": {
      "model_module": "@jupyter-widgets/controls",
      "model_module_version": "1.2.0",
      "model_name": "CheckboxModel",
      "state": {
       "description": "Ja, der Satz bleibt unverändert grammatisch.",
       "disabled": false,
       "layout": "IPY_MODEL_64a07c506666449a9f007cc0e4048d34",
       "style": "IPY_MODEL_32cb97c396624cf0b308259537d358fa",
       "value": false
      }
     },
     "18fe046df02f43d5921da9089317ea12": {
      "model_module": "@jupyter-widgets/controls",
      "model_module_version": "1.2.0",
      "model_name": "VBoxModel",
      "state": {
       "children": [
        "IPY_MODEL_e1cd08c5bc814f58aa2786f44c00ada0",
        "IPY_MODEL_699abe53c2244768b8b13f98d950fb6e",
        "IPY_MODEL_6fb8df8fa7ff4eb4bc5d1d588c719bf1",
        "IPY_MODEL_7ce443c77081478b898cf10e2c96595b",
        "IPY_MODEL_91171090f72e4421bbb7fbdda84cbfe1"
       ],
       "layout": "IPY_MODEL_fcbb4e98e0524173a03f78a7083aa2cd"
      }
     },
     "1979b8acf4cf4c6d901aff619564c8a7": {
      "model_module": "@jupyter-widgets/controls",
      "model_module_version": "1.2.0",
      "model_name": "DescriptionStyleModel",
      "state": {
       "description_width": "initial"
      }
     },
     "197bdfd53995497db9971c8fca878635": {
      "model_module": "@jupyter-widgets/base",
      "model_module_version": "1.0.0",
      "model_name": "LayoutModel",
      "state": {
       "width": "600px"
      }
     },
     "19a8593badfa4b3e9ec29cfcdbe43c94": {
      "model_module": "@jupyter-widgets/controls",
      "model_module_version": "1.2.0",
      "model_name": "CheckboxModel",
      "state": {
       "description": "Wenn es sich bei dem Satzglied um das Objekt handelt.",
       "disabled": false,
       "layout": "IPY_MODEL_f6867768f7b74e5e844e7858885260b2",
       "style": "IPY_MODEL_9269f7e5daf54725bb18f8e88a367aca",
       "value": false
      }
     },
     "19bf849ac5434f39b297553417bc4ccd": {
      "model_module": "@jupyter-widgets/base",
      "model_module_version": "1.0.0",
      "model_name": "LayoutModel",
      "state": {
       "width": "250px"
      }
     },
     "19e8d74704ec4bc8860c2e69e76af0e5": {
      "model_module": "@jupyter-widgets/controls",
      "model_module_version": "1.2.0",
      "model_name": "CheckboxModel",
      "state": {
       "description": "gelesen",
       "disabled": false,
       "layout": "IPY_MODEL_6cfebd324f5748828f1b7b43b5843cdf",
       "style": "IPY_MODEL_b166eb90ba614100a42fe4ebdab0f43c",
       "value": false
      }
     },
     "19edf58f35574fa6bff67913c6268a52": {
      "model_module": "@jupyter-widgets/controls",
      "model_module_version": "1.2.0",
      "model_name": "ButtonModel",
      "state": {
       "description": "Korrekt?",
       "layout": "IPY_MODEL_23ad1f47581e499cba9c8cdd6405f09a",
       "style": "IPY_MODEL_e664e2783bee48bc8bea04435f931013"
      }
     },
     "1a012ce58dc84057b3b6ec7c4da67326": {
      "model_module": "@jupyter-widgets/controls",
      "model_module_version": "1.2.0",
      "model_name": "ButtonStyleModel",
      "state": {
       "button_color": "lightgreen"
      }
     },
     "1a3c5ae7cfd24b41a2d0e99dc3522f6c": {
      "model_module": "@jupyter-widgets/controls",
      "model_module_version": "1.2.0",
      "model_name": "HTMLModel",
      "state": {
       "layout": "IPY_MODEL_2f0cef3781b74cfdb9bc43d66fce7108",
       "style": "IPY_MODEL_9d99b69a913b4b1884621233c57bef18",
       "value": "<i>Wählen Sie die <ins>eine</ins> korrekte Antwort aus: </i>"
      }
     },
     "1adffcd764a34ae3ad5e35f712cb6662": {
      "model_module": "@jupyter-widgets/controls",
      "model_module_version": "1.2.0",
      "model_name": "DescriptionStyleModel",
      "state": {
       "description_width": "initial"
      }
     },
     "1ae2edba69964c7ab56515745570bef8": {
      "model_module": "@jupyter-widgets/controls",
      "model_module_version": "1.2.0",
      "model_name": "DescriptionStyleModel",
      "state": {
       "description_width": "initial"
      }
     },
     "1ba15528366b44faba419b184b9f4263": {
      "model_module": "@jupyter-widgets/controls",
      "model_module_version": "1.2.0",
      "model_name": "HBoxModel",
      "state": {
       "children": [
        "IPY_MODEL_a21bcb4a0e064f80a5fe8fff850ea2a6"
       ],
       "layout": "IPY_MODEL_b354db5cdd754a3baf34c48c02315cba"
      }
     },
     "1bc6becfecbd4964af5482b4f91da1c8": {
      "model_module": "@jupyter-widgets/controls",
      "model_module_version": "1.2.0",
      "model_name": "DescriptionStyleModel",
      "state": {
       "description_width": "initial"
      }
     },
     "1bca3ca1c954410e8f6791457dc2e436": {
      "model_module": "@jupyter-widgets/controls",
      "model_module_version": "1.2.0",
      "model_name": "ButtonStyleModel",
      "state": {
       "button_color": "lightgreen"
      }
     },
     "1bda289941af422a9a51b388f15b03ac": {
      "model_module": "@jupyter-widgets/base",
      "model_module_version": "1.0.0",
      "model_name": "LayoutModel",
      "state": {
       "width": "250px"
      }
     },
     "1c1ba67c6b59491c8171c467841ba0c3": {
      "model_module": "@jupyter-widgets/base",
      "model_module_version": "1.0.0",
      "model_name": "LayoutModel",
      "state": {
       "width": "250px"
      }
     },
     "1c525f5e9a0b4adab98e1cc5aa31767f": {
      "model_module": "@jupyter-widgets/base",
      "model_module_version": "1.0.0",
      "model_name": "LayoutModel",
      "state": {
       "width": "250px"
      }
     },
     "1c5b85bc5d4c46ef8b821fa31838d893": {
      "model_module": "@jupyter-widgets/controls",
      "model_module_version": "1.2.0",
      "model_name": "ButtonStyleModel",
      "state": {}
     },
     "1c65dba54fe04813b937b08befc97fc0": {
      "model_module": "@jupyter-widgets/controls",
      "model_module_version": "1.2.0",
      "model_name": "HTMLModel",
      "state": {
       "layout": "IPY_MODEL_7990540d262840268a795bd6f1bc3e27",
       "style": "IPY_MODEL_5706b486ca8f493881edeb3be93f21ef",
       "value": "<i>Wählen Sie die <ins>eine</ins> korrekte Antwort aus: </i>"
      }
     },
     "1c8ebbc9a4d745f98797bd7fe5c4adee": {
      "model_module": "@jupyter-widgets/controls",
      "model_module_version": "1.2.0",
      "model_name": "DescriptionStyleModel",
      "state": {
       "description_width": ""
      }
     },
     "1dd7d4d00de749c2bd4ab577b0f560de": {
      "model_module": "@jupyter-widgets/base",
      "model_module_version": "1.0.0",
      "model_name": "LayoutModel",
      "state": {}
     },
     "1dfe13c0550c4dbb8d79eb173ef3bbe1": {
      "model_module": "@jupyter-widgets/base",
      "model_module_version": "1.0.0",
      "model_name": "LayoutModel",
      "state": {
       "width": "250px"
      }
     },
     "1e4aa450441c4c44bdd40092d3090b45": {
      "model_module": "@jupyter-widgets/controls",
      "model_module_version": "1.2.0",
      "model_name": "HTMLModel",
      "state": {
       "layout": "IPY_MODEL_69c0535fcee443a09d829e98ae6046da",
       "style": "IPY_MODEL_9ef64d2c21f6476da475ed3865e03501",
       "value": "<h4 style=\"font-size:14px;\">Was für eine Satzkonstruktion liegt hier vor?</h4>"
      }
     },
     "1e57a58f918a48caa73fc025c04c7c71": {
      "model_module": "@jupyter-widgets/base",
      "model_module_version": "1.0.0",
      "model_name": "LayoutModel",
      "state": {
       "width": "600px"
      }
     },
     "1e748a5dfa53480f8bf362e1c9e84f91": {
      "model_module": "@jupyter-widgets/controls",
      "model_module_version": "1.2.0",
      "model_name": "DescriptionStyleModel",
      "state": {
       "description_width": ""
      }
     },
     "1f047803ce524e4da9cf0e53793ab225": {
      "model_module": "@jupyter-widgets/base",
      "model_module_version": "1.0.0",
      "model_name": "LayoutModel",
      "state": {
       "width": "600px"
      }
     },
     "1f69d154765e4187b946d583f5f45b61": {
      "model_module": "@jupyter-widgets/controls",
      "model_module_version": "1.2.0",
      "model_name": "DescriptionStyleModel",
      "state": {
       "description_width": ""
      }
     },
     "1f7e2f9c12ba49a3a067afcb4eecb80a": {
      "model_module": "@jupyter-widgets/controls",
      "model_module_version": "1.2.0",
      "model_name": "DescriptionStyleModel",
      "state": {
       "description_width": ""
      }
     },
     "1f89efd34a3f4892a5e23eb6aeba073f": {
      "model_module": "@jupyter-widgets/base",
      "model_module_version": "1.0.0",
      "model_name": "LayoutModel",
      "state": {}
     },
     "1f8e5f07356e40c7a71d553529da282a": {
      "model_module": "@jupyter-widgets/controls",
      "model_module_version": "1.2.0",
      "model_name": "ButtonStyleModel",
      "state": {
       "button_color": "lightgreen"
      }
     },
     "1f9d67cc8d9b40278cc3da15c238e0ec": {
      "model_module": "@jupyter-widgets/base",
      "model_module_version": "1.0.0",
      "model_name": "LayoutModel",
      "state": {}
     },
     "1fad1eb634d048ab9786838ba01666cb": {
      "model_module": "@jupyter-widgets/controls",
      "model_module_version": "1.2.0",
      "model_name": "HBoxModel",
      "state": {
       "children": [
        "IPY_MODEL_01f5bedf85ac4093bfe29caa2f847860"
       ],
       "layout": "IPY_MODEL_b071d5b4a6394bcd90d1442cd1186bee"
      }
     },
     "1fe763835c5a477da00ebcdea41e10ad": {
      "model_module": "@jupyter-widgets/controls",
      "model_module_version": "1.2.0",
      "model_name": "CheckboxModel",
      "state": {
       "description": "gelesen",
       "disabled": false,
       "layout": "IPY_MODEL_aab29f89761b41a286690f734f18b95e",
       "style": "IPY_MODEL_9ff2519a597d4ab5a8953f73929f9c97",
       "value": false
      }
     },
     "20771d23b06a4398b545c14f6000e529": {
      "model_module": "@jupyter-widgets/controls",
      "model_module_version": "1.2.0",
      "model_name": "DescriptionStyleModel",
      "state": {
       "description_width": ""
      }
     },
     "20771ecd93df4bf8b6bb886ecb300ffb": {
      "model_module": "@jupyter-widgets/controls",
      "model_module_version": "1.2.0",
      "model_name": "DescriptionStyleModel",
      "state": {
       "description_width": "initial"
      }
     },
     "20baac0f40734f0985b0d056b55281d6": {
      "model_module": "@jupyter-widgets/controls",
      "model_module_version": "1.2.0",
      "model_name": "DescriptionStyleModel",
      "state": {
       "description_width": ""
      }
     },
     "20c7f5f05e9f4605a1e3cac3e879be74": {
      "model_module": "@jupyter-widgets/controls",
      "model_module_version": "1.2.0",
      "model_name": "DescriptionStyleModel",
      "state": {
       "description_width": "initial"
      }
     },
     "213828bc25e047e1b6b78837e341f211": {
      "model_module": "@jupyter-widgets/base",
      "model_module_version": "1.0.0",
      "model_name": "LayoutModel",
      "state": {}
     },
     "21724b69cd9e4a55ad397c1da9349ded": {
      "model_module": "@jupyter-widgets/controls",
      "model_module_version": "1.2.0",
      "model_name": "DescriptionStyleModel",
      "state": {
       "description_width": ""
      }
     },
     "218144f5eae040f7a439b8fea0d402c3": {
      "model_module": "@jupyter-widgets/controls",
      "model_module_version": "1.2.0",
      "model_name": "ButtonStyleModel",
      "state": {}
     },
     "21b391a2b9114a8a8f07c83d4d535223": {
      "model_module": "@jupyter-widgets/controls",
      "model_module_version": "1.2.0",
      "model_name": "ButtonModel",
      "state": {
       "description": "Korrekt?",
       "layout": "IPY_MODEL_2f4e4ae0309f479b94a17f95fa91da75",
       "style": "IPY_MODEL_793399d90189419c961aceb8933bdfc7"
      }
     },
     "21eefb891c1f4509a54443b19fc83e9b": {
      "model_module": "@jupyter-widgets/controls",
      "model_module_version": "1.2.0",
      "model_name": "DescriptionStyleModel",
      "state": {
       "description_width": ""
      }
     },
     "22170b9c871d46bfb2d9bf665d003213": {
      "model_module": "@jupyter-widgets/base",
      "model_module_version": "1.0.0",
      "model_name": "LayoutModel",
      "state": {}
     },
     "221a87ab849f461bbaf856076b94f2d8": {
      "model_module": "@jupyter-widgets/controls",
      "model_module_version": "1.2.0",
      "model_name": "CheckboxModel",
      "state": {
       "description": "Satzschlusszeichen: Punkt",
       "disabled": false,
       "layout": "IPY_MODEL_5e0daa72e091453b84c01f93c5ff82ac",
       "style": "IPY_MODEL_979d875374074d1aa17cac37f86a60ca",
       "value": false
      }
     },
     "22732de1051144ec83ed6c61c11edc20": {
      "model_module": "@jupyter-widgets/base",
      "model_module_version": "1.0.0",
      "model_name": "LayoutModel",
      "state": {}
     },
     "22801e26760c41738047dc574ba3cbbc": {
      "model_module": "@jupyter-widgets/base",
      "model_module_version": "1.0.0",
      "model_name": "LayoutModel",
      "state": {}
     },
     "22d2657ec44d4db096c6402ca7aabee1": {
      "model_module": "@jupyter-widgets/controls",
      "model_module_version": "1.2.0",
      "model_name": "HTMLModel",
      "state": {
       "layout": "IPY_MODEL_12a5b5e417824edab02588bb4aad337a",
       "style": "IPY_MODEL_16dc9b9d48454257a1a71d33a381c7ae",
       "value": "<i>Markieren Sie <ins>alle</ins> passenden Antworten: </i>"
      }
     },
     "23425480715a4c5a9637577c6903edab": {
      "model_module": "@jupyter-widgets/controls",
      "model_module_version": "1.2.0",
      "model_name": "DescriptionStyleModel",
      "state": {
       "description_width": "initial"
      }
     },
     "23480e217bb04ef389d121dd25ea5288": {
      "model_module": "@jupyter-widgets/controls",
      "model_module_version": "1.2.0",
      "model_name": "DescriptionStyleModel",
      "state": {
       "description_width": "initial"
      }
     },
     "23754b2c64214da3af49bfe5a21bfd70": {
      "model_module": "@jupyter-widgets/controls",
      "model_module_version": "1.2.0",
      "model_name": "ButtonModel",
      "state": {
       "description": "Wunschsatz",
       "layout": "IPY_MODEL_4f50060db66b4ab08545d8881a9418fe",
       "style": "IPY_MODEL_5ad5bd79e45f47b6a28aff5abbc8b504"
      }
     },
     "237da62d61d345a291069a77b152d6fa": {
      "model_module": "@jupyter-widgets/base",
      "model_module_version": "1.0.0",
      "model_name": "LayoutModel",
      "state": {
       "width": "500px"
      }
     },
     "23a64bb7d3f44a0f945d92f70aa2a788": {
      "model_module": "@jupyter-widgets/controls",
      "model_module_version": "1.2.0",
      "model_name": "CheckboxModel",
      "state": {
       "description": "Vorfeld",
       "disabled": false,
       "layout": "IPY_MODEL_a1f1cc50528a467d8c3f4f8559f46795",
       "style": "IPY_MODEL_7ffd599cf3c94be988d580df8cdec611",
       "value": false
      }
     },
     "23ad1f47581e499cba9c8cdd6405f09a": {
      "model_module": "@jupyter-widgets/base",
      "model_module_version": "1.0.0",
      "model_name": "LayoutModel",
      "state": {
       "width": "250px"
      }
     },
     "23daf4d6a30846f9a28022745f4237d1": {
      "model_module": "@jupyter-widgets/controls",
      "model_module_version": "1.2.0",
      "model_name": "HTMLModel",
      "state": {
       "layout": "IPY_MODEL_04046f16e78a4a6490edac9f48eb9aa8",
       "style": "IPY_MODEL_74da9f443a9640218f2c67cf855d7aa7",
       "value": "<h4 style=\"font-size:14px;\">'Die Abfolgeregularität für Personalpronomina ist normalerweise ›Subjekt vor Akkusativobjekt vor Dativobjekt‹.'</h4>"
      }
     },
     "23dea3cb134341319b5f426d52fba3f3": {
      "model_module": "@jupyter-widgets/base",
      "model_module_version": "1.0.0",
      "model_name": "LayoutModel",
      "state": {
       "width": "600px"
      }
     },
     "23f4bd529c474903909f1f1fe686e9a5": {
      "model_module": "@jupyter-widgets/controls",
      "model_module_version": "1.2.0",
      "model_name": "ButtonStyleModel",
      "state": {
       "button_color": "lightgreen"
      }
     },
     "240077c0ce2543c280d8c9c875fd1130": {
      "model_module": "@jupyter-widgets/controls",
      "model_module_version": "1.2.0",
      "model_name": "CheckboxModel",
      "state": {
       "description": "Attributsatz (<code>acl</code>)",
       "disabled": false,
       "layout": "IPY_MODEL_54e19de201364e9d9f4edd44c262e0b7",
       "style": "IPY_MODEL_ac0f8b5242094b20aa1416b3422518b9",
       "value": true
      }
     },
     "241993c352b246408c01f66a885ff648": {
      "model_module": "@jupyter-widgets/base",
      "model_module_version": "1.0.0",
      "model_name": "LayoutModel",
      "state": {}
     },
     "243048a8efae4de680bbbba4588afb74": {
      "model_module": "@jupyter-widgets/base",
      "model_module_version": "1.0.0",
      "model_name": "LayoutModel",
      "state": {
       "justify_content": "center"
      }
     },
     "246342ebca754b8e885dbf363a76fd9d": {
      "model_module": "@jupyter-widgets/controls",
      "model_module_version": "1.2.0",
      "model_name": "DescriptionStyleModel",
      "state": {
       "description_width": ""
      }
     },
     "24c05d0924da44be898397204c698d96": {
      "model_module": "@jupyter-widgets/controls",
      "model_module_version": "1.2.0",
      "model_name": "DescriptionStyleModel",
      "state": {
       "description_width": "initial"
      }
     },
     "24d350329d7241f4a3195fc9636f98b0": {
      "model_module": "@jupyter-widgets/controls",
      "model_module_version": "1.2.0",
      "model_name": "CheckboxModel",
      "state": {
       "description": "Die linke SK ist unbesetzt.",
       "disabled": false,
       "layout": "IPY_MODEL_921bb71a005b4019bf43d8d305e54eb8",
       "style": "IPY_MODEL_feeff5ddb3fb4b8aabcf98340884ad21",
       "value": false
      }
     },
     "257822b38cc34db7b73abf705d3856fb": {
      "model_module": "@jupyter-widgets/base",
      "model_module_version": "1.0.0",
      "model_name": "LayoutModel",
      "state": {
       "justify_content": "center"
      }
     },
     "258625efd8434c4ea4779086f5e9f728": {
      "model_module": "@jupyter-widgets/controls",
      "model_module_version": "1.2.0",
      "model_name": "HTMLModel",
      "state": {
       "layout": "IPY_MODEL_abe17e744bfc49e2a7b2a304f4e003c9",
       "style": "IPY_MODEL_1c8ebbc9a4d745f98797bd7fe5c4adee",
       "value": "<i>Wählen Sie die <ins>eine</ins> korrekte Antwort aus: </i>"
      }
     },
     "263c8fab2b3a4f9181207d4a64545c9d": {
      "model_module": "@jupyter-widgets/controls",
      "model_module_version": "1.2.0",
      "model_name": "ButtonModel",
      "state": {
       "description": "Korrekt?",
       "layout": "IPY_MODEL_42c6a79e31924b4784317281ebdee862",
       "style": "IPY_MODEL_097edd8969984583ada87cb2d83eb0f4"
      }
     },
     "265b649be9a64a27bb2efa231fa92542": {
      "model_module": "@jupyter-widgets/controls",
      "model_module_version": "1.2.0",
      "model_name": "DescriptionStyleModel",
      "state": {
       "description_width": "initial"
      }
     },
     "26c26135163e406181ee848117071812": {
      "model_module": "@jupyter-widgets/base",
      "model_module_version": "1.0.0",
      "model_name": "LayoutModel",
      "state": {}
     },
     "26e1e9eac8154db28127bdec77bb14b8": {
      "model_module": "@jupyter-widgets/controls",
      "model_module_version": "1.2.0",
      "model_name": "VBoxModel",
      "state": {
       "children": [
        "IPY_MODEL_f7b22229118a4a4aa8c87abcb18fed3f",
        "IPY_MODEL_d95b94f8e52a4d60a305712d220f2b98",
        "IPY_MODEL_a47a09a17f78404e9398a7f00c2c6224",
        "IPY_MODEL_11e92653cf0b41aaab182dfa788198a3"
       ],
       "layout": "IPY_MODEL_b6b73fa57dbb488ea6c9ac71040347c6"
      }
     },
     "26ef7540ae024a1bbcead79e85ee3890": {
      "model_module": "@jupyter-widgets/controls",
      "model_module_version": "1.2.0",
      "model_name": "VBoxModel",
      "state": {
       "children": [
        "IPY_MODEL_ed23da0dafac4dc4a953ad2c6226f574",
        "IPY_MODEL_54a9302aa3274e5eae52ccad22242bcd",
        "IPY_MODEL_cb23496a5a03420c9e189cdb9dbfc521",
        "IPY_MODEL_80db58293bd84e2bb73594c54d0c5e15"
       ],
       "layout": "IPY_MODEL_7e1afe4f51d446c8aeaa8c1cde01688d"
      }
     },
     "271d7c5f45d64f30a23f473710eb4bbc": {
      "model_module": "@jupyter-widgets/base",
      "model_module_version": "1.0.0",
      "model_name": "LayoutModel",
      "state": {}
     },
     "2778d1756c0c4cdaa9b41303c95898b0": {
      "model_module": "@jupyter-widgets/base",
      "model_module_version": "1.0.0",
      "model_name": "LayoutModel",
      "state": {
       "width": "600px"
      }
     },
     "2789db4deae24026aa58661ee1c0bde0": {
      "model_module": "@jupyter-widgets/base",
      "model_module_version": "1.0.0",
      "model_name": "LayoutModel",
      "state": {
       "justify_content": "center"
      }
     },
     "27fde34eb91b4a969c9339fda5853d39": {
      "model_module": "@jupyter-widgets/base",
      "model_module_version": "1.0.0",
      "model_name": "LayoutModel",
      "state": {
       "width": "250px"
      }
     },
     "2850e15282ba4529a5417b646e7998f3": {
      "model_module": "@jupyter-widgets/controls",
      "model_module_version": "1.2.0",
      "model_name": "ButtonModel",
      "state": {
       "description": "Keine der anderen Möglichkeiten",
       "layout": "IPY_MODEL_60fa1786e6e74dc3860db7bbafc6131e",
       "style": "IPY_MODEL_01004e322a604704bb8309791b8dec37"
      }
     },
     "285ca6d83113448d968384798af14db4": {
      "model_module": "@jupyter-widgets/controls",
      "model_module_version": "1.2.0",
      "model_name": "ButtonModel",
      "state": {
       "description": "Korrekt?",
       "layout": "IPY_MODEL_3ee07c0b5bbe4d6fb31bc4abf6a4a6d5",
       "style": "IPY_MODEL_4aaef66060a7441da85619153d6c73ff"
      }
     },
     "2862cf2c2bc34beab69e39477728173a": {
      "model_module": "@jupyter-widgets/controls",
      "model_module_version": "1.2.0",
      "model_name": "HTMLModel",
      "state": {
       "layout": "IPY_MODEL_3d101a1e644945d3b617ff3aff47591e",
       "style": "IPY_MODEL_7b6745b1ae594e0cbd8ab3e6ac930db1",
       "value": "<h4 style=\"font-size:14px;\">Welcher eingebettete Satztyp liegt vor?</h4>"
      }
     },
     "28753240652e4981a286bc1e63924cf3": {
      "model_module": "@jupyter-widgets/controls",
      "model_module_version": "1.2.0",
      "model_name": "CheckboxModel",
      "state": {
       "description": "Ein",
       "disabled": false,
       "layout": "IPY_MODEL_fd3d132016134df59cd001e32bef5150",
       "style": "IPY_MODEL_46e28d53f0264f8abf6e70337f51a11e",
       "value": false
      }
     },
     "287a7adc7d2c4d3290d845ff849c5226": {
      "model_module": "@jupyter-widgets/base",
      "model_module_version": "1.0.0",
      "model_name": "LayoutModel",
      "state": {
       "width": "500px"
      }
     },
     "28ab226097034ce8b70a5e5039be9903": {
      "model_module": "@jupyter-widgets/controls",
      "model_module_version": "1.2.0",
      "model_name": "HTMLModel",
      "state": {
       "layout": "IPY_MODEL_76323ecdb7ee4690a2e8ce167b9d4d89",
       "style": "IPY_MODEL_64475d09c90a495ba149fc1ddabafc4c",
       "value": "<i>Markieren Sie <ins>alle</ins> passenden Antworten: </i>"
      }
     },
     "28de8ce8e31a41fa9d61f9812e191135": {
      "model_module": "@jupyter-widgets/base",
      "model_module_version": "1.0.0",
      "model_name": "LayoutModel",
      "state": {
       "justify_content": "center"
      }
     },
     "28e2cbf5d68041f8ba105af6630e784f": {
      "model_module": "@jupyter-widgets/controls",
      "model_module_version": "1.2.0",
      "model_name": "HBoxModel",
      "state": {
       "children": [
        "IPY_MODEL_6ec506c49b444ed395894594b2d1eaed",
        "IPY_MODEL_17fea7719d6b4f1a84288e7ff9fe33f3"
       ],
       "layout": "IPY_MODEL_d11d96a825ef4cfaa07e6a16a6926c46"
      }
     },
     "28e81f80d2c947128487df6431dc3a3b": {
      "model_module": "@jupyter-widgets/controls",
      "model_module_version": "1.2.0",
      "model_name": "DescriptionStyleModel",
      "state": {
       "description_width": ""
      }
     },
     "29793ea47b9740679999674cb34798f5": {
      "model_module": "@jupyter-widgets/controls",
      "model_module_version": "1.2.0",
      "model_name": "DropdownModel",
      "state": {
       "_options_labels": [
        "Kausalsatz",
        "Keine der Alternativen",
        "Keine der Alternativen",
        "Lokalsatz",
        "Modalsatz",
        "Objektsatz",
        "Relativsatz",
        "Subjektsatz",
        "Temporalsatz"
       ],
       "description": "Antwort:",
       "index": 1,
       "layout": "IPY_MODEL_e2c7c60660a24bd5926bbd94bbb9242b",
       "style": "IPY_MODEL_20baac0f40734f0985b0d056b55281d6"
      }
     },
     "2981d8313b3e404daa00181d98f4bbc5": {
      "model_module": "@jupyter-widgets/base",
      "model_module_version": "1.0.0",
      "model_name": "LayoutModel",
      "state": {
       "width": "250px"
      }
     },
     "29bbc364c1ef471f8baa21c92da9648b": {
      "model_module": "@jupyter-widgets/base",
      "model_module_version": "1.0.0",
      "model_name": "LayoutModel",
      "state": {}
     },
     "29f92949d80640438a6c2e9c348d02f1": {
      "model_module": "@jupyter-widgets/base",
      "model_module_version": "1.0.0",
      "model_name": "LayoutModel",
      "state": {
       "width": "500px"
      }
     },
     "2a282e45539e42f980d06610f3d4e389": {
      "model_module": "@jupyter-widgets/controls",
      "model_module_version": "1.2.0",
      "model_name": "DescriptionStyleModel",
      "state": {
       "description_width": ""
      }
     },
     "2a29d1fcec23421f99a6dc11f6661379": {
      "model_module": "@jupyter-widgets/base",
      "model_module_version": "1.0.0",
      "model_name": "LayoutModel",
      "state": {
       "justify_content": "center"
      }
     },
     "2a485d80ceb64e61a5097bf24bbd7d71": {
      "model_module": "@jupyter-widgets/base",
      "model_module_version": "1.0.0",
      "model_name": "LayoutModel",
      "state": {
       "width": "250px"
      }
     },
     "2b3bacb0d8794861b7c9265e85f0fc1d": {
      "model_module": "@jupyter-widgets/controls",
      "model_module_version": "1.2.0",
      "model_name": "DescriptionStyleModel",
      "state": {
       "description_width": ""
      }
     },
     "2b65bc9e917042029e9cc24b767de3b3": {
      "model_module": "@jupyter-widgets/base",
      "model_module_version": "1.0.0",
      "model_name": "LayoutModel",
      "state": {
       "width": "600px"
      }
     },
     "2bacd89daa4a4aca9c7b902255812a72": {
      "model_module": "@jupyter-widgets/controls",
      "model_module_version": "1.2.0",
      "model_name": "DropdownModel",
      "state": {
       "_options_labels": [
        "Kausalsatz",
        "Keine der Alternativen",
        "Lokalsatz",
        "Modalsatz",
        "Objektsatz",
        "Relativsatz",
        "Subjektsatz",
        "Temporalsatz"
       ],
       "description": "Antwort:",
       "index": 7,
       "layout": "IPY_MODEL_037d68c13cf541eb8c730c00fa4a800d",
       "style": "IPY_MODEL_0c399a6bd5274169af803ba7fd8dce78"
      }
     },
     "2c10bf4d6d324920b698cfe3eca7b2ba": {
      "model_module": "@jupyter-widgets/controls",
      "model_module_version": "1.2.0",
      "model_name": "CheckboxModel",
      "state": {
       "description": "satzwertiger Nominalmodifikator (<code>acl</code>): <i>der amtierende Präsident</i>",
       "disabled": false,
       "layout": "IPY_MODEL_db917978a98f42ac8f37ebba738d034d",
       "style": "IPY_MODEL_3e406126b7ac465b8062f791de253119",
       "value": true
      }
     },
     "2c4cd413388c4c349a4e4bce9dc1b859": {
      "model_module": "@jupyter-widgets/controls",
      "model_module_version": "1.2.0",
      "model_name": "CheckboxModel",
      "state": {
       "description": "zu",
       "disabled": false,
       "layout": "IPY_MODEL_8d6c0401bb0d43e2907c59a7cc51248a",
       "style": "IPY_MODEL_f8e43317f3214e2ca8c0811102590781",
       "value": false
      }
     },
     "2c98e5c630004f90b7dcfaee2d048b56": {
      "model_module": "@jupyter-widgets/base",
      "model_module_version": "1.0.0",
      "model_name": "LayoutModel",
      "state": {}
     },
     "2c9e1be6248e40b18a43587053cb4869": {
      "model_module": "@jupyter-widgets/controls",
      "model_module_version": "1.2.0",
      "model_name": "CheckboxModel",
      "state": {
       "description": "Fragepronomen",
       "disabled": false,
       "layout": "IPY_MODEL_b25a09b695854ad283a62907ba3f714a",
       "style": "IPY_MODEL_9a2589712829426492352fce8dc8d2ee",
       "value": true
      }
     },
     "2ca89e98be284a73b83655d50d4d1efe": {
      "model_module": "@jupyter-widgets/controls",
      "model_module_version": "1.2.0",
      "model_name": "CheckboxModel",
      "state": {
       "description": "Ein Lied gesungen",
       "disabled": false,
       "layout": "IPY_MODEL_5b8b9fc6f60c46578f89b060517dd5f7",
       "style": "IPY_MODEL_1979b8acf4cf4c6d901aff619564c8a7",
       "value": true
      }
     },
     "2cc8003c6dd74e2f8c6c39f1d39acc53": {
      "model_module": "@jupyter-widgets/controls",
      "model_module_version": "1.2.0",
      "model_name": "VBoxModel",
      "state": {
       "children": [
        "IPY_MODEL_7462f3d278654d90a7f4b19c409ed3ed",
        "IPY_MODEL_258625efd8434c4ea4779086f5e9f728",
        "IPY_MODEL_28e2cbf5d68041f8ba105af6630e784f",
        "IPY_MODEL_aeb0bc60145145aa84d26a9338535751"
       ],
       "layout": "IPY_MODEL_919d37bd7bc54d539c811192fa3ff8c3"
      }
     },
     "2cd5d4bd71914e1d8736bf2e5ed8b768": {
      "model_module": "@jupyter-widgets/base",
      "model_module_version": "1.0.0",
      "model_name": "LayoutModel",
      "state": {
       "justify_content": "center"
      }
     },
     "2d1ea4179d39409782cd6502f82aa79f": {
      "model_module": "@jupyter-widgets/controls",
      "model_module_version": "1.2.0",
      "model_name": "DescriptionStyleModel",
      "state": {
       "description_width": "initial"
      }
     },
     "2d367eae237447dc82325713a2b81246": {
      "model_module": "@jupyter-widgets/controls",
      "model_module_version": "1.2.0",
      "model_name": "CheckboxModel",
      "state": {
       "description": "Die rechte SK ist unbesetzt.",
       "disabled": false,
       "layout": "IPY_MODEL_a72857184d9a453480081ee8dff88044",
       "style": "IPY_MODEL_638b13737ce943f69b8edef94a57b842",
       "value": false
      }
     },
     "2d54ed94596c47f38940efddbb6fd578": {
      "model_module": "@jupyter-widgets/controls",
      "model_module_version": "1.2.0",
      "model_name": "DescriptionStyleModel",
      "state": {
       "description_width": ""
      }
     },
     "2d883b3cbddc42debdce380f028a84ac": {
      "model_module": "@jupyter-widgets/controls",
      "model_module_version": "1.2.0",
      "model_name": "HTMLModel",
      "state": {
       "layout": "IPY_MODEL_e6ed70da3f3a4c3ca21e4ec2ce04ae83",
       "style": "IPY_MODEL_8e1a562d6b0846c2ac65d5dc51431867",
       "value": "<i>Wählen Sie die <ins>eine</ins> korrekte Antwort aus: </i>"
      }
     },
     "2dc7debcbce3447499a7554adfdd291b": {
      "model_module": "@jupyter-widgets/controls",
      "model_module_version": "1.2.0",
      "model_name": "DescriptionStyleModel",
      "state": {
       "description_width": ""
      }
     },
     "2dfc2f5fe8ba4d70a3235d914182406c": {
      "model_module": "@jupyter-widgets/controls",
      "model_module_version": "1.2.0",
      "model_name": "DescriptionStyleModel",
      "state": {
       "description_width": ""
      }
     },
     "2ec32542b8ae47988bb5258b5d84c9f7": {
      "model_module": "@jupyter-widgets/base",
      "model_module_version": "1.0.0",
      "model_name": "LayoutModel",
      "state": {
       "justify_content": "center"
      }
     },
     "2ed9320216b647d3a2355f2f32338304": {
      "model_module": "@jupyter-widgets/controls",
      "model_module_version": "1.2.0",
      "model_name": "DescriptionStyleModel",
      "state": {
       "description_width": ""
      }
     },
     "2f0cef3781b74cfdb9bc43d66fce7108": {
      "model_module": "@jupyter-widgets/base",
      "model_module_version": "1.0.0",
      "model_name": "LayoutModel",
      "state": {
       "justify_content": "center"
      }
     },
     "2f131d85e1854004a7d24df900d1b4f7": {
      "model_module": "@jupyter-widgets/controls",
      "model_module_version": "1.2.0",
      "model_name": "DescriptionStyleModel",
      "state": {
       "description_width": "initial"
      }
     },
     "2f1e4968746d493abcd3f358ba64b004": {
      "model_module": "@jupyter-widgets/controls",
      "model_module_version": "1.2.0",
      "model_name": "HTMLModel",
      "state": {
       "layout": "IPY_MODEL_1f89efd34a3f4892a5e23eb6aeba073f",
       "style": "IPY_MODEL_69165e0ee99e4128a0176cfbb807a7f7",
       "value": "<h4 style=\"font-size:14px;\">Identifizieren Sie das Vorfeld des ersten und das Vorfeld des zweiten Satzes.</h4>"
      }
     },
     "2f4e4ae0309f479b94a17f95fa91da75": {
      "model_module": "@jupyter-widgets/base",
      "model_module_version": "1.0.0",
      "model_name": "LayoutModel",
      "state": {
       "width": "250px"
      }
     },
     "2f9ed8cac3f5485591ce1c43421fc784": {
      "model_module": "@jupyter-widgets/controls",
      "model_module_version": "1.2.0",
      "model_name": "ButtonStyleModel",
      "state": {}
     },
     "2fa23e4ac6054f7e851da001942b11fa": {
      "model_module": "@jupyter-widgets/controls",
      "model_module_version": "1.2.0",
      "model_name": "VBoxModel",
      "state": {
       "children": [
        "IPY_MODEL_ea93857d70334d418f27059dcfaf117f",
        "IPY_MODEL_a2664d95e2bd4bb4a432abd4d4acd9e5",
        "IPY_MODEL_4141ea8bb2864ab8b1274a9c8a12873f"
       ],
       "layout": "IPY_MODEL_619ce0f0c2a54de0898e059ffececd8c"
      }
     },
     "2fa67bfce02442d19f02cda48914c01f": {
      "model_module": "@jupyter-widgets/controls",
      "model_module_version": "1.2.0",
      "model_name": "DescriptionStyleModel",
      "state": {
       "description_width": "initial"
      }
     },
     "301ed6e1ca004dbda59b79b83ebc29ea": {
      "model_module": "@jupyter-widgets/base",
      "model_module_version": "1.0.0",
      "model_name": "LayoutModel",
      "state": {
       "width": "600px"
      }
     },
     "3025c855701e4850a32f16a9e751f15c": {
      "model_module": "@jupyter-widgets/controls",
      "model_module_version": "1.2.0",
      "model_name": "DescriptionStyleModel",
      "state": {
       "description_width": "initial"
      }
     },
     "30f5dd84cc624272b70e6694f2808f81": {
      "model_module": "@jupyter-widgets/base",
      "model_module_version": "1.0.0",
      "model_name": "LayoutModel",
      "state": {}
     },
     "3147502afb7a4562902524ff4cfe2a85": {
      "model_module": "@jupyter-widgets/controls",
      "model_module_version": "1.2.0",
      "model_name": "DescriptionStyleModel",
      "state": {
       "description_width": "initial"
      }
     },
     "3181723dc8ce4879b4ff09c7204172bb": {
      "model_module": "@jupyter-widgets/base",
      "model_module_version": "1.0.0",
      "model_name": "LayoutModel",
      "state": {
       "width": "250px"
      }
     },
     "31b1e8686fad4ecd93b24085c2f71901": {
      "model_module": "@jupyter-widgets/controls",
      "model_module_version": "1.2.0",
      "model_name": "HTMLModel",
      "state": {
       "layout": "IPY_MODEL_39da41774b0942409619d3702a1539df",
       "style": "IPY_MODEL_347193fe7a0e42c79ef4677a04c16a8e",
       "value": "<i>Wählen Sie die <ins>eine</ins> korrekte Antwort aus: </i>"
      }
     },
     "31c1654d507f4c4baa4966e2091064db": {
      "model_module": "@jupyter-widgets/controls",
      "model_module_version": "1.2.0",
      "model_name": "ButtonModel",
      "state": {
       "description": "Keine der anderen Möglichkeiten",
       "layout": "IPY_MODEL_94d1758c7e534fa786e2d8bce037aff2",
       "style": "IPY_MODEL_ba5fb92056a84149b1476cc247a14c1f"
      }
     },
     "31f65f42da8842059fc629a9dca4a5a2": {
      "model_module": "@jupyter-widgets/controls",
      "model_module_version": "1.2.0",
      "model_name": "HBoxModel",
      "state": {
       "children": [
        "IPY_MODEL_db02ef9074e9453ebe2f7caa9719d911",
        "IPY_MODEL_a971426fea0b44019addda2a3b23f2d2"
       ],
       "layout": "IPY_MODEL_55c0c71966ad424ea9c0b550cc1335a7"
      }
     },
     "32164add790245bfabe8f66b293569a2": {
      "model_module": "@jupyter-widgets/base",
      "model_module_version": "1.0.0",
      "model_name": "LayoutModel",
      "state": {
       "width": "250px"
      }
     },
     "3222dfac138241eab5c5d4ede37bf237": {
      "model_module": "@jupyter-widgets/controls",
      "model_module_version": "1.2.0",
      "model_name": "DescriptionStyleModel",
      "state": {
       "description_width": ""
      }
     },
     "328d677b40ba42f58cdbac0b676f7d6f": {
      "model_module": "@jupyter-widgets/controls",
      "model_module_version": "1.2.0",
      "model_name": "DescriptionStyleModel",
      "state": {
       "description_width": ""
      }
     },
     "32cb97c396624cf0b308259537d358fa": {
      "model_module": "@jupyter-widgets/controls",
      "model_module_version": "1.2.0",
      "model_name": "DescriptionStyleModel",
      "state": {
       "description_width": "initial"
      }
     },
     "32fefe89b89a4d2e8cd968a7e8234194": {
      "model_module": "@jupyter-widgets/controls",
      "model_module_version": "1.2.0",
      "model_name": "CheckboxModel",
      "state": {
       "description": "Vater",
       "disabled": false,
       "layout": "IPY_MODEL_448c2c503fe2472f9aec7e19e0e6b132",
       "style": "IPY_MODEL_5b8a9067bcb443d8b618febc4072ffd1",
       "value": false
      }
     },
     "334fa65648b34d08baf79f0e2905b996": {
      "model_module": "@jupyter-widgets/base",
      "model_module_version": "1.0.0",
      "model_name": "LayoutModel",
      "state": {}
     },
     "33b7403338ac484683986b7585725f17": {
      "model_module": "@jupyter-widgets/controls",
      "model_module_version": "1.2.0",
      "model_name": "DescriptionStyleModel",
      "state": {
       "description_width": "initial"
      }
     },
     "33f1f52fa1da490888b7b01f890b9234": {
      "model_module": "@jupyter-widgets/controls",
      "model_module_version": "1.2.0",
      "model_name": "DescriptionStyleModel",
      "state": {
       "description_width": "initial"
      }
     },
     "347193fe7a0e42c79ef4677a04c16a8e": {
      "model_module": "@jupyter-widgets/controls",
      "model_module_version": "1.2.0",
      "model_name": "DescriptionStyleModel",
      "state": {
       "description_width": ""
      }
     },
     "347f24dc2ae545719f5f3aacd4ef58bb": {
      "model_module": "@jupyter-widgets/controls",
      "model_module_version": "1.2.0",
      "model_name": "HTMLModel",
      "state": {
       "layout": "IPY_MODEL_cad99c023c3f4adb8d236159ae869cac",
       "style": "IPY_MODEL_f03728b7d3ee435190eecefe3a77b046",
       "value": "<i>Wählen Sie die <ins>eine</ins> korrekte Antwort aus: </i>"
      }
     },
     "34aa01f8abe746e1aacaed6fcc0815f1": {
      "model_module": "@jupyter-widgets/controls",
      "model_module_version": "1.2.0",
      "model_name": "ButtonStyleModel",
      "state": {}
     },
     "34d107b1a83e416fa492b5d2ab228b8e": {
      "model_module": "@jupyter-widgets/controls",
      "model_module_version": "1.2.0",
      "model_name": "DescriptionStyleModel",
      "state": {
       "description_width": "initial"
      }
     },
     "34e355cab8404527ad6fa871bb73eddc": {
      "model_module": "@jupyter-widgets/controls",
      "model_module_version": "1.2.0",
      "model_name": "CheckboxModel",
      "state": {
       "description": "heute",
       "disabled": false,
       "layout": "IPY_MODEL_5a71b47c4e974110a878f8b0710ea2b1",
       "style": "IPY_MODEL_9c498985b5434241b184ce101ee24d4e",
       "value": true
      }
     },
     "350a63eb7fd24f25ae6301ae865e1a62": {
      "model_module": "@jupyter-widgets/controls",
      "model_module_version": "1.2.0",
      "model_name": "DescriptionStyleModel",
      "state": {
       "description_width": ""
      }
     },
     "350ae394fd8d4aa7883b0e0ca926bc23": {
      "model_module": "@jupyter-widgets/controls",
      "model_module_version": "1.2.0",
      "model_name": "ButtonStyleModel",
      "state": {}
     },
     "35150f9c7f1441d48c2a79223a606d2d": {
      "model_module": "@jupyter-widgets/controls",
      "model_module_version": "1.2.0",
      "model_name": "CheckboxModel",
      "state": {
       "description": "das",
       "disabled": false,
       "layout": "IPY_MODEL_467eaa6055ea41a6ab35b196fd1f2637",
       "style": "IPY_MODEL_d3bd36f0c2d44c15bdcada5f3f47002c",
       "value": false
      }
     },
     "354b4a05341348ec9d6c2c9e06ed504b": {
      "model_module": "@jupyter-widgets/base",
      "model_module_version": "1.0.0",
      "model_name": "LayoutModel",
      "state": {
       "width": "500px"
      }
     },
     "35cf4399bb734976ab762f747add404d": {
      "model_module": "@jupyter-widgets/base",
      "model_module_version": "1.0.0",
      "model_name": "LayoutModel",
      "state": {}
     },
     "35d5c109316441679948690879c6bf99": {
      "model_module": "@jupyter-widgets/controls",
      "model_module_version": "1.2.0",
      "model_name": "ButtonStyleModel",
      "state": {
       "button_color": "lightgreen"
      }
     },
     "36030d922931440cb7fb2b49b97e1149": {
      "model_module": "@jupyter-widgets/controls",
      "model_module_version": "1.2.0",
      "model_name": "DescriptionStyleModel",
      "state": {
       "description_width": ""
      }
     },
     "3615f55770244089b0a6193a86253ec1": {
      "model_module": "@jupyter-widgets/controls",
      "model_module_version": "1.2.0",
      "model_name": "CheckboxModel",
      "state": {
       "description": "zu",
       "disabled": false,
       "layout": "IPY_MODEL_e9367d5f6eb548c08116c70b755d80ca",
       "style": "IPY_MODEL_a0455abfc141431794f4ac84c46b75e7",
       "value": false
      }
     },
     "3655ccd4521b4ef8ab23f768846a9ff2": {
      "model_module": "@jupyter-widgets/controls",
      "model_module_version": "1.2.0",
      "model_name": "ButtonStyleModel",
      "state": {}
     },
     "367655bd87054025b3258c772d71fcce": {
      "model_module": "@jupyter-widgets/base",
      "model_module_version": "1.0.0",
      "model_name": "LayoutModel",
      "state": {}
     },
     "36b32e4594024d29861ef2f6fc1443b1": {
      "model_module": "@jupyter-widgets/base",
      "model_module_version": "1.0.0",
      "model_name": "LayoutModel",
      "state": {
       "justify_content": "center"
      }
     },
     "36e999e6c7474bff8ab1d2a995b992bf": {
      "model_module": "@jupyter-widgets/base",
      "model_module_version": "1.0.0",
      "model_name": "LayoutModel",
      "state": {
       "width": "600px"
      }
     },
     "36fe71f2ecf94454b63a26a22fde0b65": {
      "model_module": "@jupyter-widgets/base",
      "model_module_version": "1.0.0",
      "model_name": "LayoutModel",
      "state": {
       "width": "600px"
      }
     },
     "37d4adca7156436e86d17a1febfd009d": {
      "model_module": "@jupyter-widgets/base",
      "model_module_version": "1.0.0",
      "model_name": "LayoutModel",
      "state": {
       "width": "500px"
      }
     },
     "37e78b46d4a54e69a90b678eeb133875": {
      "model_module": "@jupyter-widgets/base",
      "model_module_version": "1.0.0",
      "model_name": "LayoutModel",
      "state": {
       "justify_content": "center"
      }
     },
     "37eeeee287624acabe108174c83fc15e": {
      "model_module": "@jupyter-widgets/controls",
      "model_module_version": "1.2.0",
      "model_name": "DescriptionStyleModel",
      "state": {
       "description_width": ""
      }
     },
     "3843ffa7eb2c4a3ebb91dcd5ea7b9069": {
      "model_module": "@jupyter-widgets/controls",
      "model_module_version": "1.2.0",
      "model_name": "DescriptionStyleModel",
      "state": {
       "description_width": "initial"
      }
     },
     "384e12c2a61a43bc8834cbcc5edb7a1e": {
      "model_module": "@jupyter-widgets/controls",
      "model_module_version": "1.2.0",
      "model_name": "ButtonStyleModel",
      "state": {
       "button_color": "lightgreen"
      }
     },
     "388682476ddc4b79994d5cd2714bc905": {
      "model_module": "@jupyter-widgets/base",
      "model_module_version": "1.0.0",
      "model_name": "LayoutModel",
      "state": {
       "width": "600px"
      }
     },
     "398f7a54ed934ee693e2ed5b6b136e6d": {
      "model_module": "@jupyter-widgets/base",
      "model_module_version": "1.0.0",
      "model_name": "LayoutModel",
      "state": {
       "justify_content": "center"
      }
     },
     "39da41774b0942409619d3702a1539df": {
      "model_module": "@jupyter-widgets/base",
      "model_module_version": "1.0.0",
      "model_name": "LayoutModel",
      "state": {
       "justify_content": "center"
      }
     },
     "3a23d84864d940428471bb5485311b4a": {
      "model_module": "@jupyter-widgets/base",
      "model_module_version": "1.0.0",
      "model_name": "LayoutModel",
      "state": {}
     },
     "3a3d30b6f5d34d3886ad3a465b780a8c": {
      "model_module": "@jupyter-widgets/controls",
      "model_module_version": "1.2.0",
      "model_name": "CheckboxModel",
      "state": {
       "description": "sein",
       "disabled": false,
       "layout": "IPY_MODEL_5859670bc06f4fbb8b9f00d83d16c2ca",
       "style": "IPY_MODEL_40ee87164c4c4247802c8d6870970298",
       "value": false
      }
     },
     "3ab7ef364246467eb7481c09433a45c6": {
      "model_module": "@jupyter-widgets/controls",
      "model_module_version": "1.2.0",
      "model_name": "ButtonModel",
      "state": {
       "description": "Aussagesatz",
       "layout": "IPY_MODEL_04b469765d504eca92b305d2d64c37ed",
       "style": "IPY_MODEL_b8082496c12542498341d353bbb79e53"
      }
     },
     "3ac8fda2906f4680851b0adef699cfaa": {
      "model_module": "@jupyter-widgets/base",
      "model_module_version": "1.0.0",
      "model_name": "LayoutModel",
      "state": {}
     },
     "3af06372d3ce494986504de2f761b0fc": {
      "model_module": "@jupyter-widgets/base",
      "model_module_version": "1.0.0",
      "model_name": "LayoutModel",
      "state": {
       "width": "250px"
      }
     },
     "3af85a4b759b470081634632e3e505a1": {
      "model_module": "@jupyter-widgets/controls",
      "model_module_version": "1.2.0",
      "model_name": "HTMLModel",
      "state": {
       "layout": "IPY_MODEL_85ee399090c34f59a713a77f9ae12357",
       "style": "IPY_MODEL_68b986a59fb5482e9f81ecacdf85f1c1",
       "value": "<h4 style=\"font-size:14px;\">Was für eine Satzkonstruktion liegt hier vor?</h4>"
      }
     },
     "3b09e4a6f485416da673ec316091fcec": {
      "model_module": "@jupyter-widgets/controls",
      "model_module_version": "1.2.0",
      "model_name": "ButtonModel",
      "state": {
       "description": "Aufforderungssatz",
       "layout": "IPY_MODEL_626b68b19d9e4d7397a0fa0d6a8a9dfa",
       "style": "IPY_MODEL_b1f56a2856ce4ff2822b9c81e2df027c"
      }
     },
     "3b6ef6a2b1b74e56903fe94388cf134c": {
      "model_module": "@jupyter-widgets/controls",
      "model_module_version": "1.2.0",
      "model_name": "HTMLModel",
      "state": {
       "layout": "IPY_MODEL_4aca19c4e7d145f0afc54d053aff3915",
       "style": "IPY_MODEL_52f33e49f70a474bbecf53d9e59d7b64",
       "value": "<i>Markieren Sie <ins>alle</ins> passenden Antworten: </i>"
      }
     },
     "3c72a7e3f6c442b8af6d371fc0c17cf3": {
      "model_module": "@jupyter-widgets/base",
      "model_module_version": "1.0.0",
      "model_name": "LayoutModel",
      "state": {
       "width": "600px"
      }
     },
     "3c790d04e42142efb1bc557d0818049a": {
      "model_module": "@jupyter-widgets/base",
      "model_module_version": "1.0.0",
      "model_name": "LayoutModel",
      "state": {
       "justify_content": "center"
      }
     },
     "3cc5b75445d14c64bef87dc8f736a7a2": {
      "model_module": "@jupyter-widgets/controls",
      "model_module_version": "1.2.0",
      "model_name": "DropdownModel",
      "state": {
       "_options_labels": [
        "Adverbialsatz",
        "Attributsatz",
        "Keine der Alternativen",
        "Komplementsatz",
        "Matrixsatz"
       ],
       "description": "Antwort:",
       "index": 3,
       "layout": "IPY_MODEL_40a045afefda486c8e4324f47fdfabb0",
       "style": "IPY_MODEL_6842e13423a44201b7b55b4be3c2bd3c"
      }
     },
     "3d101a1e644945d3b617ff3aff47591e": {
      "model_module": "@jupyter-widgets/base",
      "model_module_version": "1.0.0",
      "model_name": "LayoutModel",
      "state": {}
     },
     "3d4b817d6a7144fbbcf7a1816300d07f": {
      "model_module": "@jupyter-widgets/controls",
      "model_module_version": "1.2.0",
      "model_name": "DescriptionStyleModel",
      "state": {
       "description_width": "initial"
      }
     },
     "3dc87500896f4614a45e0d9988bf664b": {
      "model_module": "@jupyter-widgets/base",
      "model_module_version": "1.0.0",
      "model_name": "LayoutModel",
      "state": {
       "width": "250px"
      }
     },
     "3dcf446a33f54719a4d9faf9b3c4cb3e": {
      "model_module": "@jupyter-widgets/base",
      "model_module_version": "1.0.0",
      "model_name": "LayoutModel",
      "state": {}
     },
     "3e0ee0688ae4471a9256e07d3f721f5e": {
      "model_module": "@jupyter-widgets/base",
      "model_module_version": "1.0.0",
      "model_name": "LayoutModel",
      "state": {
       "justify_content": "center"
      }
     },
     "3e406126b7ac465b8062f791de253119": {
      "model_module": "@jupyter-widgets/controls",
      "model_module_version": "1.2.0",
      "model_name": "DescriptionStyleModel",
      "state": {
       "description_width": "initial"
      }
     },
     "3e7283a51fd846bfb0d8b8a89da53e83": {
      "model_module": "@jupyter-widgets/controls",
      "model_module_version": "1.2.0",
      "model_name": "DescriptionStyleModel",
      "state": {
       "description_width": ""
      }
     },
     "3e7ba166f5eb480aa32db78c533a514a": {
      "model_module": "@jupyter-widgets/controls",
      "model_module_version": "1.2.0",
      "model_name": "HTMLModel",
      "state": {
       "layout": "IPY_MODEL_82b04fd6ed72465f998b2295f1691f19",
       "style": "IPY_MODEL_4a451a67f13b4f2db633db3fdd2031af",
       "value": "<h4 style=\"font-size:14px;\">Um welche Satzart handelt es sich bei Satz 1?</h4>"
      }
     },
     "3ec78fa601d64d31a13c151404e297cb": {
      "model_module": "@jupyter-widgets/base",
      "model_module_version": "1.0.0",
      "model_name": "LayoutModel",
      "state": {
       "width": "600px"
      }
     },
     "3ee07c0b5bbe4d6fb31bc4abf6a4a6d5": {
      "model_module": "@jupyter-widgets/base",
      "model_module_version": "1.0.0",
      "model_name": "LayoutModel",
      "state": {
       "width": "250px"
      }
     },
     "3f81fd476a004078a8f1c5601a395fed": {
      "model_module": "@jupyter-widgets/controls",
      "model_module_version": "1.2.0",
      "model_name": "DescriptionStyleModel",
      "state": {
       "description_width": ""
      }
     },
     "404cd337e3a449e0a4a171c4713de43d": {
      "model_module": "@jupyter-widgets/base",
      "model_module_version": "1.0.0",
      "model_name": "LayoutModel",
      "state": {
       "width": "600px"
      }
     },
     "4093edf50a024a0d93c916c9a8f28767": {
      "model_module": "@jupyter-widgets/controls",
      "model_module_version": "1.2.0",
      "model_name": "CheckboxModel",
      "state": {
       "description": "der",
       "disabled": false,
       "layout": "IPY_MODEL_77b72e4a546942cc8f834978a9beb957",
       "style": "IPY_MODEL_96764d37ebe2422aada49c23347978a0",
       "value": false
      }
     },
     "4095287188f54ccfb84784b85516f6e3": {
      "model_module": "@jupyter-widgets/base",
      "model_module_version": "1.0.0",
      "model_name": "LayoutModel",
      "state": {
       "width": "500px"
      }
     },
     "40a045afefda486c8e4324f47fdfabb0": {
      "model_module": "@jupyter-widgets/base",
      "model_module_version": "1.0.0",
      "model_name": "LayoutModel",
      "state": {
       "width": "500px"
      }
     },
     "40dc1c44d2c944339050c667d7d42529": {
      "model_module": "@jupyter-widgets/controls",
      "model_module_version": "1.2.0",
      "model_name": "ButtonModel",
      "state": {
       "description": "Korrekt?",
       "layout": "IPY_MODEL_1dfe13c0550c4dbb8d79eb173ef3bbe1",
       "style": "IPY_MODEL_911010b62e4b4c49b0ccc2cb093c2c9d"
      }
     },
     "40ed816f4ed54c5c9fe8d1a47580bf15": {
      "model_module": "@jupyter-widgets/base",
      "model_module_version": "1.0.0",
      "model_name": "LayoutModel",
      "state": {
       "width": "250px"
      }
     },
     "40ee87164c4c4247802c8d6870970298": {
      "model_module": "@jupyter-widgets/controls",
      "model_module_version": "1.2.0",
      "model_name": "DescriptionStyleModel",
      "state": {
       "description_width": "initial"
      }
     },
     "410503fd782241f3b8d4764aa39e8f26": {
      "model_module": "@jupyter-widgets/base",
      "model_module_version": "1.0.0",
      "model_name": "LayoutModel",
      "state": {}
     },
     "4108a1b9de844e388a837ff7672e6da9": {
      "model_module": "@jupyter-widgets/controls",
      "model_module_version": "1.2.0",
      "model_name": "CheckboxModel",
      "state": {
       "description": "Modus: Indikativ",
       "disabled": false,
       "layout": "IPY_MODEL_d9ee40c0b7954d03ae75c9c99aba65b4",
       "style": "IPY_MODEL_c1cfd85c800f402eaa2840f5edd6734b",
       "value": true
      }
     },
     "4141ea8bb2864ab8b1274a9c8a12873f": {
      "model_module": "@jupyter-widgets/controls",
      "model_module_version": "1.2.0",
      "model_name": "CheckboxModel",
      "state": {
       "description": "putzte er ...",
       "disabled": false,
       "layout": "IPY_MODEL_65b024dac2d9406ab060f0047d4ba5c5",
       "style": "IPY_MODEL_70672ef5cbd349b8b0c88253d52c3799",
       "value": false
      }
     },
     "41568af52bd743da88509a20624d8d43": {
      "model_module": "@jupyter-widgets/controls",
      "model_module_version": "1.2.0",
      "model_name": "ButtonModel",
      "state": {
       "description": "Korrekt?",
       "layout": "IPY_MODEL_60bd07a00c7b4829812e41ac636fa51f",
       "style": "IPY_MODEL_802b32930f0142318aa5bb8b5c915e08"
      }
     },
     "415cd8a4fd92472095e53729bc88a762": {
      "model_module": "@jupyter-widgets/base",
      "model_module_version": "1.0.0",
      "model_name": "LayoutModel",
      "state": {}
     },
     "4177258e45c049febd0a3fbf1c9d39d6": {
      "model_module": "@jupyter-widgets/controls",
      "model_module_version": "1.2.0",
      "model_name": "CheckboxModel",
      "state": {
       "description": "sein",
       "disabled": false,
       "layout": "IPY_MODEL_b02b19cb290b41b0b5a6b075a93fe99c",
       "style": "IPY_MODEL_a3ec8aab448542d9b309b7d0c32de1e6",
       "value": false
      }
     },
     "41a0d3c789774091afbf15af30d43a83": {
      "model_module": "@jupyter-widgets/controls",
      "model_module_version": "1.2.0",
      "model_name": "CheckboxModel",
      "state": {
       "description": "Fragepronomen",
       "disabled": false,
       "layout": "IPY_MODEL_dd0159087c9f48aa83f2d8233f987ef3",
       "style": "IPY_MODEL_ee7d4b75d1204388a812682edbc034a9",
       "value": false
      }
     },
     "41a2b22e189541bf9927583315d6077e": {
      "model_module": "@jupyter-widgets/base",
      "model_module_version": "1.0.0",
      "model_name": "LayoutModel",
      "state": {
       "width": "600px"
      }
     },
     "42c6a79e31924b4784317281ebdee862": {
      "model_module": "@jupyter-widgets/base",
      "model_module_version": "1.0.0",
      "model_name": "LayoutModel",
      "state": {
       "width": "250px"
      }
     },
     "42dcf9e8788e439cbc44f61c918f4aba": {
      "model_module": "@jupyter-widgets/base",
      "model_module_version": "1.0.0",
      "model_name": "LayoutModel",
      "state": {
       "width": "600px"
      }
     },
     "437325f6dcb847fc98e2dd21c77922b3": {
      "model_module": "@jupyter-widgets/controls",
      "model_module_version": "1.2.0",
      "model_name": "ButtonModel",
      "state": {
       "description": "Korrekt?",
       "layout": "IPY_MODEL_a4ee0c736e8d418f8a7ff0bb943b5517",
       "style": "IPY_MODEL_f78a0074dff04bd7b961a5a22f762a15"
      }
     },
     "43aaea42c2df4b528dc87605bebbac7b": {
      "model_module": "@jupyter-widgets/base",
      "model_module_version": "1.0.0",
      "model_name": "LayoutModel",
      "state": {
       "width": "600px"
      }
     },
     "43af599ec71840e98f8fac8e795952a1": {
      "model_module": "@jupyter-widgets/controls",
      "model_module_version": "1.2.0",
      "model_name": "ButtonStyleModel",
      "state": {}
     },
     "43b78467d8f24f988ae18241fa84fb6b": {
      "model_module": "@jupyter-widgets/base",
      "model_module_version": "1.0.0",
      "model_name": "LayoutModel",
      "state": {}
     },
     "43d2bf2800bc439499cf65303ef421c8": {
      "model_module": "@jupyter-widgets/controls",
      "model_module_version": "1.2.0",
      "model_name": "ButtonStyleModel",
      "state": {}
     },
     "446bd30827b643b195f56e52e207022c": {
      "model_module": "@jupyter-widgets/controls",
      "model_module_version": "1.2.0",
      "model_name": "ButtonModel",
      "state": {
       "description": "Korrekt?",
       "layout": "IPY_MODEL_7d1b3f380a274a97ab0cf478492b3622",
       "style": "IPY_MODEL_384e12c2a61a43bc8834cbcc5edb7a1e"
      }
     },
     "4478265c030c4b99ba339b6553ff24ee": {
      "model_module": "@jupyter-widgets/controls",
      "model_module_version": "1.2.0",
      "model_name": "ButtonModel",
      "state": {
       "description": "infinites Verb",
       "layout": "IPY_MODEL_4d52b51ce0534036be4fc725d4e30bef",
       "style": "IPY_MODEL_063417aac7374929a5fe87473c3440c7"
      }
     },
     "447fc52ada4f47a88023b0a7ed8bed31": {
      "model_module": "@jupyter-widgets/base",
      "model_module_version": "1.0.0",
      "model_name": "LayoutModel",
      "state": {}
     },
     "448c2c503fe2472f9aec7e19e0e6b132": {
      "model_module": "@jupyter-widgets/base",
      "model_module_version": "1.0.0",
      "model_name": "LayoutModel",
      "state": {
       "width": "600px"
      }
     },
     "44a8a03ae35b4b53be0bcfb02df11407": {
      "model_module": "@jupyter-widgets/controls",
      "model_module_version": "1.2.0",
      "model_name": "DescriptionStyleModel",
      "state": {
       "description_width": "initial"
      }
     },
     "45037c56b6a642468238f333395d9a7c": {
      "model_module": "@jupyter-widgets/base",
      "model_module_version": "1.0.0",
      "model_name": "LayoutModel",
      "state": {
       "justify_content": "center"
      }
     },
     "45076771525e4fcab7a9e85884fb6694": {
      "model_module": "@jupyter-widgets/base",
      "model_module_version": "1.0.0",
      "model_name": "LayoutModel",
      "state": {
       "width": "600px"
      }
     },
     "4597b0825ea8469e9e15e3183ac08f57": {
      "model_module": "@jupyter-widgets/controls",
      "model_module_version": "1.2.0",
      "model_name": "VBoxModel",
      "state": {
       "children": [
        "IPY_MODEL_912d88a83e4f4a118452633696645b26",
        "IPY_MODEL_6f2164ce7aa84407a10e80b2d1a5507e",
        "IPY_MODEL_d36102734f2745ef88462dbcb089c501",
        "IPY_MODEL_6447bbd87e7a42ada2cd54c072ff3be0"
       ],
       "layout": "IPY_MODEL_913818651a0b4f8980244bf2b2ea1832"
      }
     },
     "4597b7700b434ba7aab823f11bb4eefd": {
      "model_module": "@jupyter-widgets/controls",
      "model_module_version": "1.2.0",
      "model_name": "HTMLModel",
      "state": {
       "layout": "IPY_MODEL_747c9e6b58c84175afd1d7097209618d",
       "style": "IPY_MODEL_ec8c593a6a80412c80163158cc5e8aa0",
       "value": "<h4 style=\"font-size:14px;\">Wie läßt sich dieser Satztyp klassifizieren?</h4>"
      }
     },
     "45d60dc774ae4332984cc4bf460e80ed": {
      "model_module": "@jupyter-widgets/base",
      "model_module_version": "1.0.0",
      "model_name": "LayoutModel",
      "state": {
       "width": "250px"
      }
     },
     "45fece877d994c5ba76e65de2ac72371": {
      "model_module": "@jupyter-widgets/controls",
      "model_module_version": "1.2.0",
      "model_name": "HTMLModel",
      "state": {
       "layout": "IPY_MODEL_6d0dde0ff5f140f79bd345e5372d69af",
       "style": "IPY_MODEL_6924d16d18464b47bdea714cd3a4657a",
       "value": "<i>Wählen Sie die <ins>eine</ins> korrekte Antwort aus: </i>"
      }
     },
     "464f82e907404a71b335fa3669392366": {
      "model_module": "@jupyter-widgets/controls",
      "model_module_version": "1.2.0",
      "model_name": "DescriptionStyleModel",
      "state": {
       "description_width": ""
      }
     },
     "467eaa6055ea41a6ab35b196fd1f2637": {
      "model_module": "@jupyter-widgets/base",
      "model_module_version": "1.0.0",
      "model_name": "LayoutModel",
      "state": {
       "width": "600px"
      }
     },
     "468c0e49fbd5455486c9ea89b40a7c3e": {
      "model_module": "@jupyter-widgets/base",
      "model_module_version": "1.0.0",
      "model_name": "LayoutModel",
      "state": {
       "width": "600px"
      }
     },
     "46a73c53b4ee4dee9184bce93b341c8b": {
      "model_module": "@jupyter-widgets/controls",
      "model_module_version": "1.2.0",
      "model_name": "DescriptionStyleModel",
      "state": {
       "description_width": "initial"
      }
     },
     "46b70ed5caaa478ebaafd9b9073f2590": {
      "model_module": "@jupyter-widgets/base",
      "model_module_version": "1.0.0",
      "model_name": "LayoutModel",
      "state": {
       "width": "500px"
      }
     },
     "46e28d53f0264f8abf6e70337f51a11e": {
      "model_module": "@jupyter-widgets/controls",
      "model_module_version": "1.2.0",
      "model_name": "DescriptionStyleModel",
      "state": {
       "description_width": "initial"
      }
     },
     "470baadd9c9746e6a7bc67506759845a": {
      "model_module": "@jupyter-widgets/controls",
      "model_module_version": "1.2.0",
      "model_name": "ButtonStyleModel",
      "state": {}
     },
     "47249f13c1134b1a88b3f8ada41c04fb": {
      "model_module": "@jupyter-widgets/controls",
      "model_module_version": "1.2.0",
      "model_name": "HTMLModel",
      "state": {
       "layout": "IPY_MODEL_6681123166ec47178c3e42eb465f45c3",
       "style": "IPY_MODEL_830f2fd8931d43f79b228ad119efdbdc",
       "value": "<h4 style=\"font-size:14px;\">Welche eingebettete Satztyp liegt vor?</h4>"
      }
     },
     "479b50dda6494937908ace1fe91b8b95": {
      "model_module": "@jupyter-widgets/base",
      "model_module_version": "1.0.0",
      "model_name": "LayoutModel",
      "state": {
       "width": "600px"
      }
     },
     "4840a8da6f8648538db0e2d68bcc0fcc": {
      "model_module": "@jupyter-widgets/controls",
      "model_module_version": "1.2.0",
      "model_name": "ButtonModel",
      "state": {
       "description": "Satz 4",
       "layout": "IPY_MODEL_ed43b63d363a452687bdde5d575eb711",
       "style": "IPY_MODEL_78b7942bd1cd44e9b16546bade045aee"
      }
     },
     "488ea9dc115e45e58e8cf73fe8cedf25": {
      "model_module": "@jupyter-widgets/base",
      "model_module_version": "1.0.0",
      "model_name": "LayoutModel",
      "state": {
       "width": "500px"
      }
     },
     "48b4d8f56f83417cae2b46797027e416": {
      "model_module": "@jupyter-widgets/controls",
      "model_module_version": "1.2.0",
      "model_name": "DescriptionStyleModel",
      "state": {
       "description_width": "initial"
      }
     },
     "48fa3b088e1746d28c4c14cf968caa44": {
      "model_module": "@jupyter-widgets/controls",
      "model_module_version": "1.2.0",
      "model_name": "DescriptionStyleModel",
      "state": {
       "description_width": ""
      }
     },
     "490a8b7f14464756952b79a3897fa1d4": {
      "model_module": "@jupyter-widgets/controls",
      "model_module_version": "1.2.0",
      "model_name": "DescriptionStyleModel",
      "state": {
       "description_width": "initial"
      }
     },
     "490e7c391fc8412e866a8bb0eeeeda2c": {
      "model_module": "@jupyter-widgets/base",
      "model_module_version": "1.0.0",
      "model_name": "LayoutModel",
      "state": {
       "width": "600px"
      }
     },
     "49165eb79e7342adaaf9926eaf1375be": {
      "model_module": "@jupyter-widgets/controls",
      "model_module_version": "1.2.0",
      "model_name": "HTMLModel",
      "state": {
       "layout": "IPY_MODEL_d24fe62f69d64082a46854bdb3e9c181",
       "style": "IPY_MODEL_48fa3b088e1746d28c4c14cf968caa44",
       "value": "<h4 style=\"font-size:14px;\">Was ist <i>damit sie ...</i> semantisch für ein Satz?</h4>"
      }
     },
     "4946e35ca20a4f65b5256d8467f86e93": {
      "model_module": "@jupyter-widgets/controls",
      "model_module_version": "1.2.0",
      "model_name": "DescriptionStyleModel",
      "state": {
       "description_width": "initial"
      }
     },
     "49b957c736364d9eb93ea7cef6246ea0": {
      "model_module": "@jupyter-widgets/base",
      "model_module_version": "1.0.0",
      "model_name": "LayoutModel",
      "state": {}
     },
     "4a02c0a73c4a4c68b8aa5b46cdd438d7": {
      "model_module": "@jupyter-widgets/controls",
      "model_module_version": "1.2.0",
      "model_name": "HTMLModel",
      "state": {
       "layout": "IPY_MODEL_22801e26760c41738047dc574ba3cbbc",
       "style": "IPY_MODEL_21724b69cd9e4a55ad397c1da9349ded",
       "value": "<h4 style=\"font-size:14px;\">Welcher Satztyp kommt vor?</h4>"
      }
     },
     "4a09c47310984ff8bcbea9914272e55f": {
      "model_module": "@jupyter-widgets/base",
      "model_module_version": "1.0.0",
      "model_name": "LayoutModel",
      "state": {
       "width": "600px"
      }
     },
     "4a451a67f13b4f2db633db3fdd2031af": {
      "model_module": "@jupyter-widgets/controls",
      "model_module_version": "1.2.0",
      "model_name": "DescriptionStyleModel",
      "state": {
       "description_width": ""
      }
     },
     "4a688d81c8494442a35644221ddc76c1": {
      "model_module": "@jupyter-widgets/controls",
      "model_module_version": "1.2.0",
      "model_name": "DescriptionStyleModel",
      "state": {
       "description_width": ""
      }
     },
     "4a85d7bca46446a0ae918451b3012b9d": {
      "model_module": "@jupyter-widgets/base",
      "model_module_version": "1.0.0",
      "model_name": "LayoutModel",
      "state": {
       "width": "250px"
      }
     },
     "4aaef66060a7441da85619153d6c73ff": {
      "model_module": "@jupyter-widgets/controls",
      "model_module_version": "1.2.0",
      "model_name": "ButtonStyleModel",
      "state": {
       "button_color": "lightgreen"
      }
     },
     "4aca19c4e7d145f0afc54d053aff3915": {
      "model_module": "@jupyter-widgets/base",
      "model_module_version": "1.0.0",
      "model_name": "LayoutModel",
      "state": {
       "justify_content": "center"
      }
     },
     "4b188be97283424fa0fffb09dcff5238": {
      "model_module": "@jupyter-widgets/controls",
      "model_module_version": "1.2.0",
      "model_name": "HTMLModel",
      "state": {
       "layout": "IPY_MODEL_cb4251c8b68f4f55bcf1623d182bfce7",
       "style": "IPY_MODEL_063bb9e6110d4eee84c9bdc6e083fb42",
       "value": "<h4 style=\"font-size:14px;\">Welcher eingebettete Satztyp liegt vor?</h4>"
      }
     },
     "4b4f92e9a7fb49108443f8c2d51c24ce": {
      "model_module": "@jupyter-widgets/controls",
      "model_module_version": "1.2.0",
      "model_name": "HTMLModel",
      "state": {
       "layout": "IPY_MODEL_b559d3701276474a9fbac3a5a3acc6c4",
       "style": "IPY_MODEL_808c0974652d4097b850e3b5214d9ab8",
       "value": "<h4 style=\"font-size:14px;\">Wie läßt sich dieser Satztyp klassifizieren?</h4>"
      }
     },
     "4bdd3cb5dc2c46d1b4e77fcccd246793": {
      "model_module": "@jupyter-widgets/base",
      "model_module_version": "1.0.0",
      "model_name": "LayoutModel",
      "state": {
       "width": "600px"
      }
     },
     "4c855a9636664098b9f1da56c5701f1f": {
      "model_module": "@jupyter-widgets/base",
      "model_module_version": "1.0.0",
      "model_name": "LayoutModel",
      "state": {}
     },
     "4c88456ba2464640a8968b9081fa5b9b": {
      "model_module": "@jupyter-widgets/controls",
      "model_module_version": "1.2.0",
      "model_name": "ButtonModel",
      "state": {
       "description": "Fragesatz",
       "layout": "IPY_MODEL_e5218f80947a4f51bed554cabbd08796",
       "style": "IPY_MODEL_6e879211b8f14162bd3abe3656b94276"
      }
     },
     "4c89eb6bb88a4cf8a00b3cda7037552e": {
      "model_module": "@jupyter-widgets/base",
      "model_module_version": "1.0.0",
      "model_name": "LayoutModel",
      "state": {
       "width": "600px"
      }
     },
     "4cc5c47fdbc94a1caf3f24ff23cdc001": {
      "model_module": "@jupyter-widgets/controls",
      "model_module_version": "1.2.0",
      "model_name": "HBoxModel",
      "state": {
       "children": [
        "IPY_MODEL_4c88456ba2464640a8968b9081fa5b9b",
        "IPY_MODEL_23754b2c64214da3af49bfe5a21bfd70"
       ],
       "layout": "IPY_MODEL_0600179ca7754173b91b3e901fc4896d"
      }
     },
     "4cc85eaaa07a435fae38de74051265fa": {
      "model_module": "@jupyter-widgets/controls",
      "model_module_version": "1.2.0",
      "model_name": "ButtonModel",
      "state": {
       "description": "Keine der anderen Möglichkeiten",
       "layout": "IPY_MODEL_7d227bbb836442c6b9d01d3a908c0807",
       "style": "IPY_MODEL_59ad98d029fa41da8c55f739f76b01c9"
      }
     },
     "4d08150f7a2e4ddeb4e15bb3462a4ba5": {
      "model_module": "@jupyter-widgets/controls",
      "model_module_version": "1.2.0",
      "model_name": "DescriptionStyleModel",
      "state": {
       "description_width": ""
      }
     },
     "4d191a2c173c4833be72438d5aa9a36a": {
      "model_module": "@jupyter-widgets/controls",
      "model_module_version": "1.2.0",
      "model_name": "DescriptionStyleModel",
      "state": {
       "description_width": "initial"
      }
     },
     "4d4a25388b054e21acd5b059fa1ca434": {
      "model_module": "@jupyter-widgets/base",
      "model_module_version": "1.0.0",
      "model_name": "LayoutModel",
      "state": {}
     },
     "4d52b51ce0534036be4fc725d4e30bef": {
      "model_module": "@jupyter-widgets/base",
      "model_module_version": "1.0.0",
      "model_name": "LayoutModel",
      "state": {
       "width": "250px"
      }
     },
     "4d69ca39339640bf89dd559651afae13": {
      "model_module": "@jupyter-widgets/controls",
      "model_module_version": "1.2.0",
      "model_name": "ButtonStyleModel",
      "state": {}
     },
     "4d87cb4395834bafa144c8b9049068cc": {
      "model_module": "@jupyter-widgets/base",
      "model_module_version": "1.0.0",
      "model_name": "LayoutModel",
      "state": {
       "width": "250px"
      }
     },
     "4ddde1b03035423e866c8661d70785cc": {
      "model_module": "@jupyter-widgets/base",
      "model_module_version": "1.0.0",
      "model_name": "LayoutModel",
      "state": {
       "width": "600px"
      }
     },
     "4e5c0b7e94294a57bc90a264d694e290": {
      "model_module": "@jupyter-widgets/base",
      "model_module_version": "1.0.0",
      "model_name": "LayoutModel",
      "state": {}
     },
     "4e6d75fd6f3042d7aaa4cd1458952654": {
      "model_module": "@jupyter-widgets/controls",
      "model_module_version": "1.2.0",
      "model_name": "ButtonModel",
      "state": {
       "description": "Satz 1",
       "layout": "IPY_MODEL_f570907873ee40b5a9f10c6b545ef9a7",
       "style": "IPY_MODEL_885413036a9647a7a090d611928c310e"
      }
     },
     "4e7bdb2e2154437788a424678465b483": {
      "model_module": "@jupyter-widgets/base",
      "model_module_version": "1.0.0",
      "model_name": "LayoutModel",
      "state": {}
     },
     "4f50060db66b4ab08545d8881a9418fe": {
      "model_module": "@jupyter-widgets/base",
      "model_module_version": "1.0.0",
      "model_name": "LayoutModel",
      "state": {
       "width": "250px"
      }
     },
     "4f5ca98fd9f1408381fbad5dd1a03318": {
      "model_module": "@jupyter-widgets/controls",
      "model_module_version": "1.2.0",
      "model_name": "HBoxModel",
      "state": {
       "children": [
        "IPY_MODEL_88e173ab033e498a885532cde867a39f",
        "IPY_MODEL_ac4b48c9c78d41d3ae769b52881e753f"
       ],
       "layout": "IPY_MODEL_c79689ac646d4692b2b853340b8c6bfd"
      }
     },
     "4f9c3579e48c497397696ea4c85bb2f0": {
      "model_module": "@jupyter-widgets/base",
      "model_module_version": "1.0.0",
      "model_name": "LayoutModel",
      "state": {}
     },
     "5034643f1995407b9099e162e69689a8": {
      "model_module": "@jupyter-widgets/base",
      "model_module_version": "1.0.0",
      "model_name": "LayoutModel",
      "state": {}
     },
     "50a727744fd445d9924cb4fbfba2b836": {
      "model_module": "@jupyter-widgets/base",
      "model_module_version": "1.0.0",
      "model_name": "LayoutModel",
      "state": {
       "justify_content": "center"
      }
     },
     "50a8f02da3de418ea70670cf7d35397c": {
      "model_module": "@jupyter-widgets/controls",
      "model_module_version": "1.2.0",
      "model_name": "HTMLModel",
      "state": {
       "layout": "IPY_MODEL_60c3b65daa954801b6a942f9d5724151",
       "style": "IPY_MODEL_784a40388a9e4b869764c3286c76f41b",
       "value": "<h4 style=\"font-size:14px;\">Welche Form der Kontrolle liegt hier vor?</h4>"
      }
     },
     "50ad6e1ef2e14bf09048b0632bc8e874": {
      "model_module": "@jupyter-widgets/controls",
      "model_module_version": "1.2.0",
      "model_name": "VBoxModel",
      "state": {
       "children": [
        "IPY_MODEL_7eb4c1b9053f45d39d8203ab8c88e993",
        "IPY_MODEL_14fcee5f64e341c0b78a5f2357d390d7",
        "IPY_MODEL_4108a1b9de844e388a837ff7672e6da9",
        "IPY_MODEL_c78a0e93819d464396c97b8eee5fd1ba",
        "IPY_MODEL_0a6d9219c5914bc582a12824a443160b",
        "IPY_MODEL_d2faccb58eaa454c9abdf78f2faf7f64",
        "IPY_MODEL_633bfad31ea74b148133fce8a39e706f"
       ],
       "layout": "IPY_MODEL_b708733eb1404e70aa3a8a98b36a9055"
      }
     },
     "50e6833ec06e497ea104085602032cce": {
      "model_module": "@jupyter-widgets/base",
      "model_module_version": "1.0.0",
      "model_name": "LayoutModel",
      "state": {
       "width": "600px"
      }
     },
     "50e6d98c6dd84b64b91525683362af2c": {
      "model_module": "@jupyter-widgets/controls",
      "model_module_version": "1.2.0",
      "model_name": "HTMLModel",
      "state": {
       "layout": "IPY_MODEL_9916aa3421d54370bdd61f106be97d00",
       "style": "IPY_MODEL_b85deb5379764a2c8bc671feb46ff411",
       "value": "<h4 style=\"font-size:14px;\">Wie läßt sich dieser Satztyp klassifizieren?</h4>"
      }
     },
     "5150183982d34ca18afd269b6a0ab148": {
      "model_module": "@jupyter-widgets/base",
      "model_module_version": "1.0.0",
      "model_name": "LayoutModel",
      "state": {
       "width": "600px"
      }
     },
     "5188a03761444159a2d02ed0136b7424": {
      "model_module": "@jupyter-widgets/controls",
      "model_module_version": "1.2.0",
      "model_name": "ButtonModel",
      "state": {
       "description": "Korrekt?",
       "layout": "IPY_MODEL_8960af8b6de0482794dee52197674da5",
       "style": "IPY_MODEL_d55da9a6c6844fe589874bf512af7e05"
      }
     },
     "5197a2cc39c84e4f9e8e6da17d97fd12": {
      "model_module": "@jupyter-widgets/controls",
      "model_module_version": "1.2.0",
      "model_name": "DescriptionStyleModel",
      "state": {
       "description_width": "initial"
      }
     },
     "519a1b6718824930a4227aa76b67a704": {
      "model_module": "@jupyter-widgets/controls",
      "model_module_version": "1.2.0",
      "model_name": "ButtonStyleModel",
      "state": {
       "button_color": "lightgreen"
      }
     },
     "51a703652283473bbf593434b87bc481": {
      "model_module": "@jupyter-widgets/controls",
      "model_module_version": "1.2.0",
      "model_name": "CheckboxModel",
      "state": {
       "description": "Relativsatz",
       "disabled": false,
       "layout": "IPY_MODEL_f633bcbcb2714ed993646041df55ce5f",
       "style": "IPY_MODEL_cf4362287e054a3b9b94112117e84213",
       "value": false
      }
     },
     "52535a5aee4a427bb981232fd6c77699": {
      "model_module": "@jupyter-widgets/controls",
      "model_module_version": "1.2.0",
      "model_name": "VBoxModel",
      "state": {
       "children": [
        "IPY_MODEL_3af85a4b759b470081634632e3e505a1",
        "IPY_MODEL_347f24dc2ae545719f5f3aacd4ef58bb",
        "IPY_MODEL_dd6f3e9680a14f158e1123f10089efbf",
        "IPY_MODEL_1ba15528366b44faba419b184b9f4263"
       ],
       "layout": "IPY_MODEL_90246230f1e0450e8b025a8ed9f931f2"
      }
     },
     "529ceae9b18742628ef1538407c07a03": {
      "model_module": "@jupyter-widgets/controls",
      "model_module_version": "1.2.0",
      "model_name": "HTMLModel",
      "state": {
       "layout": "IPY_MODEL_79131c67f522423aaef5b6b0825d7bae",
       "style": "IPY_MODEL_618a997b933b498281bd8d805e35aba0",
       "value": "<h4 style=\"font-size:14px;\">Welche Wörter stehen im Mittelfeld?</h4>"
      }
     },
     "52dd663e9a244127a3dba8da98cf15c5": {
      "model_module": "@jupyter-widgets/base",
      "model_module_version": "1.0.0",
      "model_name": "LayoutModel",
      "state": {
       "justify_content": "center"
      }
     },
     "52ee7e5f86fd42b6bee488d8457091b8": {
      "model_module": "@jupyter-widgets/base",
      "model_module_version": "1.0.0",
      "model_name": "LayoutModel",
      "state": {}
     },
     "52f33e49f70a474bbecf53d9e59d7b64": {
      "model_module": "@jupyter-widgets/controls",
      "model_module_version": "1.2.0",
      "model_name": "DescriptionStyleModel",
      "state": {
       "description_width": ""
      }
     },
     "534f8bfe7ec543f08ef2a0f7bf0955d9": {
      "model_module": "@jupyter-widgets/base",
      "model_module_version": "1.0.0",
      "model_name": "LayoutModel",
      "state": {
       "width": "250px"
      }
     },
     "538585f9f1054ea6a3bcb5129b2e8694": {
      "model_module": "@jupyter-widgets/controls",
      "model_module_version": "1.2.0",
      "model_name": "VBoxModel",
      "state": {
       "children": [
        "IPY_MODEL_bdb75c13e135481b8d42c3130191e7f5",
        "IPY_MODEL_c48aa1e587ac40979df98d779b008309",
        "IPY_MODEL_e8338b15b96d4ffc97ba84da7d947049",
        "IPY_MODEL_8b01a2a2d15445278edf94b63e46726d"
       ],
       "layout": "IPY_MODEL_64be2853675249b897013c1a1e0dec99"
      }
     },
     "539a64d159c849e6b6b4698731f6ebb5": {
      "model_module": "@jupyter-widgets/controls",
      "model_module_version": "1.2.0",
      "model_name": "CheckboxModel",
      "state": {
       "description": "Der",
       "disabled": false,
       "layout": "IPY_MODEL_4c89eb6bb88a4cf8a00b3cda7037552e",
       "style": "IPY_MODEL_6a85d01466234597a69a8de7ed7f5a7b",
       "value": true
      }
     },
     "53bb0e600b864cc2a53aa3c7a9bc6e13": {
      "model_module": "@jupyter-widgets/base",
      "model_module_version": "1.0.0",
      "model_name": "LayoutModel",
      "state": {}
     },
     "53bd7c701cda43c3b13cb27d2722c0f4": {
      "model_module": "@jupyter-widgets/controls",
      "model_module_version": "1.2.0",
      "model_name": "DescriptionStyleModel",
      "state": {
       "description_width": "initial"
      }
     },
     "53be2742f9424dc6bd58459387f479a5": {
      "model_module": "@jupyter-widgets/base",
      "model_module_version": "1.0.0",
      "model_name": "LayoutModel",
      "state": {}
     },
     "5432325c97d64174b0dcd288625997e7": {
      "model_module": "@jupyter-widgets/controls",
      "model_module_version": "1.2.0",
      "model_name": "DescriptionStyleModel",
      "state": {
       "description_width": "initial"
      }
     },
     "5498cfdd826747578e3cf96de63c7ec5": {
      "model_module": "@jupyter-widgets/controls",
      "model_module_version": "1.2.0",
      "model_name": "VBoxModel",
      "state": {
       "children": [
        "IPY_MODEL_28753240652e4981a286bc1e63924cf3",
        "IPY_MODEL_a75eebd457c844938814744523f1a032",
        "IPY_MODEL_2ca89e98be284a73b83655d50d4d1efe",
        "IPY_MODEL_87646b2910e74abe9797ce06c92724b1",
        "IPY_MODEL_7b8ff31219e44c6897a9ce6a8854b031",
        "IPY_MODEL_11d3f7244e394c23bf0d1ce0d2585e66",
        "IPY_MODEL_b822a8aa6a30411c9974a88112d2aaf3",
        "IPY_MODEL_e8769294241e4ab09182ecdd8f2c3743",
        "IPY_MODEL_b993f70406c44e3aaaba3b1e8f37b963"
       ],
       "layout": "IPY_MODEL_d1df419f19f942c4b3ec442d3e55c495"
      }
     },
     "54a9302aa3274e5eae52ccad22242bcd": {
      "model_module": "@jupyter-widgets/controls",
      "model_module_version": "1.2.0",
      "model_name": "HTMLModel",
      "state": {
       "layout": "IPY_MODEL_b65d65ec834b42d599fc9fe45db62356",
       "style": "IPY_MODEL_e8386102d53a47d2b1c154477158e04f",
       "value": "<i>Wählen Sie die <ins>eine</ins> korrekte Antwort aus: </i>"
      }
     },
     "54af4b06f65845638a88843a07e22fc4": {
      "model_module": "@jupyter-widgets/base",
      "model_module_version": "1.0.0",
      "model_name": "LayoutModel",
      "state": {}
     },
     "54e19de201364e9d9f4edd44c262e0b7": {
      "model_module": "@jupyter-widgets/base",
      "model_module_version": "1.0.0",
      "model_name": "LayoutModel",
      "state": {
       "width": "600px"
      }
     },
     "55c0c71966ad424ea9c0b550cc1335a7": {
      "model_module": "@jupyter-widgets/base",
      "model_module_version": "1.0.0",
      "model_name": "LayoutModel",
      "state": {}
     },
     "560ccaa32df44722930ada20a4c64a47": {
      "model_module": "@jupyter-widgets/controls",
      "model_module_version": "1.2.0",
      "model_name": "VBoxModel",
      "state": {
       "children": [
        "IPY_MODEL_a2122ab9f7e34f178c96a6f22304a325",
        "IPY_MODEL_41a0d3c789774091afbf15af30d43a83",
        "IPY_MODEL_e3c112d31be4465cb6014201baf7ec72",
        "IPY_MODEL_7136ccca8ba1497599f41fa68721c85a",
        "IPY_MODEL_eca356f95a984558808bad193b92fa04",
        "IPY_MODEL_78c96de56b0744df81a0e3e0bfcbb840",
        "IPY_MODEL_f803eda02b32438b9e2f66ab07fca747"
       ],
       "layout": "IPY_MODEL_9614d4e77f9e46818d6fcd8651f56a0d"
      }
     },
     "562a434f4b024b629fd036712354f2b8": {
      "model_module": "@jupyter-widgets/controls",
      "model_module_version": "1.2.0",
      "model_name": "HBoxModel",
      "state": {
       "children": [
        "IPY_MODEL_09f2d618d12f426596e805348e72754b"
       ],
       "layout": "IPY_MODEL_d7a814013e344bbea40fca58c3ad5037"
      }
     },
     "563195f40b084e18b429302b4971da29": {
      "model_module": "@jupyter-widgets/base",
      "model_module_version": "1.0.0",
      "model_name": "LayoutModel",
      "state": {}
     },
     "566ff94d7f8848f89538b2bcabedf69d": {
      "model_module": "@jupyter-widgets/controls",
      "model_module_version": "1.2.0",
      "model_name": "ButtonModel",
      "state": {
       "description": "Keine der anderen Möglichkeiten",
       "layout": "IPY_MODEL_f13d8d9fd035402ab7ddb8667b1406ac",
       "style": "IPY_MODEL_43af599ec71840e98f8fac8e795952a1"
      }
     },
     "5704e7f083554352b92de901906bca4f": {
      "model_module": "@jupyter-widgets/controls",
      "model_module_version": "1.2.0",
      "model_name": "VBoxModel",
      "state": {
       "children": [
        "IPY_MODEL_bdc60111b999493eb49eae7d2bb52af5",
        "IPY_MODEL_bb3715c8cd774c939a742cf0dce149c8",
        "IPY_MODEL_a1d0ac93693a48f18b1dc8306aed65fa",
        "IPY_MODEL_8261c8cfdd0e49c99628c23983e1ad80"
       ],
       "layout": "IPY_MODEL_8bcfd04be05b45f59cffb297f0965d5e"
      }
     },
     "5706b486ca8f493881edeb3be93f21ef": {
      "model_module": "@jupyter-widgets/controls",
      "model_module_version": "1.2.0",
      "model_name": "DescriptionStyleModel",
      "state": {
       "description_width": ""
      }
     },
     "571045bc5faa47629fa2ca304204c459": {
      "model_module": "@jupyter-widgets/controls",
      "model_module_version": "1.2.0",
      "model_name": "DescriptionStyleModel",
      "state": {
       "description_width": ""
      }
     },
     "575bb0a652a24d6a8f96769beb12bffc": {
      "model_module": "@jupyter-widgets/controls",
      "model_module_version": "1.2.0",
      "model_name": "DescriptionStyleModel",
      "state": {
       "description_width": ""
      }
     },
     "576c8dbf2c844777a93f3b773310c721": {
      "model_module": "@jupyter-widgets/controls",
      "model_module_version": "1.2.0",
      "model_name": "VBoxModel",
      "state": {
       "children": [
        "IPY_MODEL_0e93e0e147654bdca4bfd8a9f44cf997",
        "IPY_MODEL_a53e5cc413ed45428d4531394ee5182b",
        "IPY_MODEL_68a286cce7ca42c38250743534762f44",
        "IPY_MODEL_19edf58f35574fa6bff67913c6268a52"
       ],
       "layout": "IPY_MODEL_03e757e550854ae8b29450c99839c38f"
      }
     },
     "5770824dabf546af9058082dc24bf543": {
      "model_module": "@jupyter-widgets/controls",
      "model_module_version": "1.2.0",
      "model_name": "HBoxModel",
      "state": {
       "children": [
        "IPY_MODEL_14c83267fa184d56a259e45ba47ac76d",
        "IPY_MODEL_8e6ac1ed81994853bf0b8e1fa741749b"
       ],
       "layout": "IPY_MODEL_efdf41eb35a741c0829daff6f5f2ccc1"
      }
     },
     "57eb120217064bf792d7ef2f9e403c96": {
      "model_module": "@jupyter-widgets/controls",
      "model_module_version": "1.2.0",
      "model_name": "CheckboxModel",
      "state": {
       "description": "Es handelt sich kommunikativ um eine Aufforderung.",
       "disabled": false,
       "layout": "IPY_MODEL_a36696fd60b940faa3f9399e4cbce3ce",
       "style": "IPY_MODEL_eeecbead777e4581ab8bf09c2a19966c",
       "value": false
      }
     },
     "583f575854e64420a369be7a64e60f41": {
      "model_module": "@jupyter-widgets/base",
      "model_module_version": "1.0.0",
      "model_name": "LayoutModel",
      "state": {}
     },
     "5859670bc06f4fbb8b9f00d83d16c2ca": {
      "model_module": "@jupyter-widgets/base",
      "model_module_version": "1.0.0",
      "model_name": "LayoutModel",
      "state": {
       "width": "600px"
      }
     },
     "586984ee63914fd08bd65b6299c20218": {
      "model_module": "@jupyter-widgets/controls",
      "model_module_version": "1.2.0",
      "model_name": "ButtonStyleModel",
      "state": {
       "button_color": "lightgreen"
      }
     },
     "587781239d574e35a0aa8ed3a01c7ea1": {
      "model_module": "@jupyter-widgets/base",
      "model_module_version": "1.0.0",
      "model_name": "LayoutModel",
      "state": {
       "width": "250px"
      }
     },
     "5889a7d68cec4e34a79e7d2b6a83d4f6": {
      "model_module": "@jupyter-widgets/controls",
      "model_module_version": "1.2.0",
      "model_name": "DescriptionStyleModel",
      "state": {
       "description_width": ""
      }
     },
     "594be0b499294bd5875de59efb91f7b1": {
      "model_module": "@jupyter-widgets/base",
      "model_module_version": "1.0.0",
      "model_name": "LayoutModel",
      "state": {
       "width": "250px"
      }
     },
     "597152af7b5745908562f7ca95aa99d6": {
      "model_module": "@jupyter-widgets/base",
      "model_module_version": "1.0.0",
      "model_name": "LayoutModel",
      "state": {
       "width": "600px"
      }
     },
     "599a29776f284dd7ad45ad85cd8728ef": {
      "model_module": "@jupyter-widgets/controls",
      "model_module_version": "1.2.0",
      "model_name": "ButtonStyleModel",
      "state": {
       "button_color": "lightgreen"
      }
     },
     "59ad98d029fa41da8c55f739f76b01c9": {
      "model_module": "@jupyter-widgets/controls",
      "model_module_version": "1.2.0",
      "model_name": "ButtonStyleModel",
      "state": {}
     },
     "59e1936321b6478b923443912072adcc": {
      "model_module": "@jupyter-widgets/controls",
      "model_module_version": "1.2.0",
      "model_name": "VBoxModel",
      "state": {
       "children": [
        "IPY_MODEL_2f1e4968746d493abcd3f358ba64b004",
        "IPY_MODEL_0fe0af6e05684a3dbfd6c2c7677cf3a2",
        "IPY_MODEL_5498cfdd826747578e3cf96de63c7ec5",
        "IPY_MODEL_f8fcde98f510453495e482de912317a6"
       ],
       "layout": "IPY_MODEL_070b26c390bc47c9830ee109403e1581"
      }
     },
     "5a0f473c83f34c81b88b9e8e9ac259bc": {
      "model_module": "@jupyter-widgets/base",
      "model_module_version": "1.0.0",
      "model_name": "LayoutModel",
      "state": {
       "width": "600px"
      }
     },
     "5a71b47c4e974110a878f8b0710ea2b1": {
      "model_module": "@jupyter-widgets/base",
      "model_module_version": "1.0.0",
      "model_name": "LayoutModel",
      "state": {
       "width": "600px"
      }
     },
     "5a940ea612c246f9a2f5abbbb77e640f": {
      "model_module": "@jupyter-widgets/controls",
      "model_module_version": "1.2.0",
      "model_name": "ButtonStyleModel",
      "state": {}
     },
     "5aa584e2686c4dcc87da4726f73b04fa": {
      "model_module": "@jupyter-widgets/controls",
      "model_module_version": "1.2.0",
      "model_name": "ButtonStyleModel",
      "state": {
       "button_color": "lightgreen"
      }
     },
     "5ad5bd79e45f47b6a28aff5abbc8b504": {
      "model_module": "@jupyter-widgets/controls",
      "model_module_version": "1.2.0",
      "model_name": "ButtonStyleModel",
      "state": {}
     },
     "5b02670a7282432592f44e84caa1b22f": {
      "model_module": "@jupyter-widgets/controls",
      "model_module_version": "1.2.0",
      "model_name": "DescriptionStyleModel",
      "state": {
       "description_width": ""
      }
     },
     "5b5c113a83fe46a38faa703420681a59": {
      "model_module": "@jupyter-widgets/base",
      "model_module_version": "1.0.0",
      "model_name": "LayoutModel",
      "state": {}
     },
     "5b7e10ab86c24eaa944fb58c9e68d5d8": {
      "model_module": "@jupyter-widgets/base",
      "model_module_version": "1.0.0",
      "model_name": "LayoutModel",
      "state": {
       "width": "250px"
      }
     },
     "5b850e2a54824b508a94f2125d6e78dc": {
      "model_module": "@jupyter-widgets/controls",
      "model_module_version": "1.2.0",
      "model_name": "DescriptionStyleModel",
      "state": {
       "description_width": ""
      }
     },
     "5b8a9067bcb443d8b618febc4072ffd1": {
      "model_module": "@jupyter-widgets/controls",
      "model_module_version": "1.2.0",
      "model_name": "DescriptionStyleModel",
      "state": {
       "description_width": "initial"
      }
     },
     "5b8b8c1ffc554fa6b2ef135867637d3c": {
      "model_module": "@jupyter-widgets/controls",
      "model_module_version": "1.2.0",
      "model_name": "DescriptionStyleModel",
      "state": {
       "description_width": "initial"
      }
     },
     "5b8b9fc6f60c46578f89b060517dd5f7": {
      "model_module": "@jupyter-widgets/base",
      "model_module_version": "1.0.0",
      "model_name": "LayoutModel",
      "state": {
       "width": "600px"
      }
     },
     "5be12f23bae84282b835efaee9c903b5": {
      "model_module": "@jupyter-widgets/controls",
      "model_module_version": "1.2.0",
      "model_name": "ButtonStyleModel",
      "state": {
       "button_color": "lightgreen"
      }
     },
     "5c3abdbf03c84d229a1dbd3733c22fcd": {
      "model_module": "@jupyter-widgets/controls",
      "model_module_version": "1.2.0",
      "model_name": "DescriptionStyleModel",
      "state": {
       "description_width": ""
      }
     },
     "5c3cd5ff1532461789fe768034f912af": {
      "model_module": "@jupyter-widgets/base",
      "model_module_version": "1.0.0",
      "model_name": "LayoutModel",
      "state": {
       "width": "600px"
      }
     },
     "5ded81cee25f4ae2b6b5906bd31c8d0a": {
      "model_module": "@jupyter-widgets/controls",
      "model_module_version": "1.2.0",
      "model_name": "ButtonModel",
      "state": {
       "description": "Wunschsatz",
       "layout": "IPY_MODEL_4a85d7bca46446a0ae918451b3012b9d",
       "style": "IPY_MODEL_8684db0a2b2742c099e4972ab138935b"
      }
     },
     "5e0bb6f8448c494da2ca3cb168a538d6": {
      "model_module": "@jupyter-widgets/base",
      "model_module_version": "1.0.0",
      "model_name": "LayoutModel",
      "state": {
       "width": "600px"
      }
     },
     "5e0daa72e091453b84c01f93c5ff82ac": {
      "model_module": "@jupyter-widgets/base",
      "model_module_version": "1.0.0",
      "model_name": "LayoutModel",
      "state": {
       "width": "600px"
      }
     },
     "5e116190ad994213a2fdd0337cf375e9": {
      "model_module": "@jupyter-widgets/base",
      "model_module_version": "1.0.0",
      "model_name": "LayoutModel",
      "state": {
       "width": "250px"
      }
     },
     "5e265f0f42384c9f9346895cc0d518fc": {
      "model_module": "@jupyter-widgets/base",
      "model_module_version": "1.0.0",
      "model_name": "LayoutModel",
      "state": {
       "width": "250px"
      }
     },
     "5e2871d933eb4c47a79c9ed399551182": {
      "model_module": "@jupyter-widgets/controls",
      "model_module_version": "1.2.0",
      "model_name": "VBoxModel",
      "state": {
       "children": [
        "IPY_MODEL_9f7a374a8a7845f3af9bbb7ad5d094a8",
        "IPY_MODEL_2d367eae237447dc82325713a2b81246",
        "IPY_MODEL_7a9775ad7b7d4f1c97072e0807445dae",
        "IPY_MODEL_951254de7d4a435684798dcf7335560f",
        "IPY_MODEL_4093edf50a024a0d93c916c9a8f28767",
        "IPY_MODEL_163f6784c6ad4b16b21b205bc3c8df11",
        "IPY_MODEL_a54747412b3948e8b5b341c8a708a885",
        "IPY_MODEL_a989cfd99660491182503fd16e0e1ebc",
        "IPY_MODEL_ddbe917622254a67887fbfc1424e820f"
       ],
       "layout": "IPY_MODEL_b4fbd3e2996542278e11cc72eb49ff4c"
      }
     },
     "5e3b9b430b084bdd851130859b653870": {
      "model_module": "@jupyter-widgets/controls",
      "model_module_version": "1.2.0",
      "model_name": "VBoxModel",
      "state": {
       "children": [
        "IPY_MODEL_12ef6b3229924160a2ed8d2f2a15f3f4",
        "IPY_MODEL_7c8c2a37f9ff48d783bd92a17b560f10",
        "IPY_MODEL_911342f0113a4688ac989bb50542a5ce",
        "IPY_MODEL_e302cc9ec4134b68bc44b356a26135c7"
       ],
       "layout": "IPY_MODEL_bb46b452f7c943f69141957f294bb747"
      }
     },
     "5ee2a2139c3a469d91efadcec992202b": {
      "model_module": "@jupyter-widgets/base",
      "model_module_version": "1.0.0",
      "model_name": "LayoutModel",
      "state": {}
     },
     "5ef3ca9c1cee40ecbb25b3fe5a78abc4": {
      "model_module": "@jupyter-widgets/controls",
      "model_module_version": "1.2.0",
      "model_name": "HTMLModel",
      "state": {
       "layout": "IPY_MODEL_93419e7497344caca2710daa7bfef510",
       "style": "IPY_MODEL_2a282e45539e42f980d06610f3d4e389",
       "value": "<i>Wählen Sie die <ins>eine</ins> korrekte Antwort aus: </i>"
      }
     },
     "5f15ce0c1a504aaaa8d0e82f0fb3bb63": {
      "model_module": "@jupyter-widgets/controls",
      "model_module_version": "1.2.0",
      "model_name": "HBoxModel",
      "state": {
       "children": [
        "IPY_MODEL_31c1654d507f4c4baa4966e2091064db"
       ],
       "layout": "IPY_MODEL_4c855a9636664098b9f1da56c5701f1f"
      }
     },
     "5fcb6273a75347c89cf9ce1bbf614b72": {
      "model_module": "@jupyter-widgets/base",
      "model_module_version": "1.0.0",
      "model_name": "LayoutModel",
      "state": {
       "justify_content": "center"
      }
     },
     "6014e9f57e1e47ac9bcdfa3d2bfa4ca4": {
      "model_module": "@jupyter-widgets/base",
      "model_module_version": "1.0.0",
      "model_name": "LayoutModel",
      "state": {
       "width": "600px"
      }
     },
     "60167122c8af4cbda6c17afc9cf5c07d": {
      "model_module": "@jupyter-widgets/controls",
      "model_module_version": "1.2.0",
      "model_name": "ButtonModel",
      "state": {
       "description": "Korrekt?",
       "layout": "IPY_MODEL_32164add790245bfabe8f66b293569a2",
       "style": "IPY_MODEL_78b081584cdb4998aaef687b0e847451"
      }
     },
     "60561ef0a7d043d38bf9700b9a7ab6f7": {
      "model_module": "@jupyter-widgets/controls",
      "model_module_version": "1.2.0",
      "model_name": "ButtonModel",
      "state": {
       "description": "Objektkontrolle",
       "layout": "IPY_MODEL_b6ffd621e9f54c7b9f6acecb8f1b82f1",
       "style": "IPY_MODEL_d4124897453d4ce2b0a58a3c8cd6c90c"
      }
     },
     "606824c66c0f4053affed74d9f2afbfc": {
      "model_module": "@jupyter-widgets/controls",
      "model_module_version": "1.2.0",
      "model_name": "VBoxModel",
      "state": {
       "children": [
        "IPY_MODEL_ec55f90a1c0a4b17ae161701d1a74404",
        "IPY_MODEL_cd7555d8f64b48118670e9a8ac05bef2",
        "IPY_MODEL_642e9f9d2e8a4edc9c1c0020b43cf37f",
        "IPY_MODEL_21b391a2b9114a8a8f07c83d4d535223"
       ],
       "layout": "IPY_MODEL_22732de1051144ec83ed6c61c11edc20"
      }
     },
     "60a4b3b115ad40d0bedda6f0296f29fe": {
      "model_module": "@jupyter-widgets/base",
      "model_module_version": "1.0.0",
      "model_name": "LayoutModel",
      "state": {
       "width": "250px"
      }
     },
     "60bbf0f13451473da5a64e05ce4ee64e": {
      "model_module": "@jupyter-widgets/controls",
      "model_module_version": "1.2.0",
      "model_name": "CheckboxModel",
      "state": {
       "description": "heute",
       "disabled": false,
       "layout": "IPY_MODEL_9c2ba8893056404db43a413f30b7f2c0",
       "style": "IPY_MODEL_34d107b1a83e416fa492b5d2ab228b8e",
       "value": false
      }
     },
     "60bd07a00c7b4829812e41ac636fa51f": {
      "model_module": "@jupyter-widgets/base",
      "model_module_version": "1.0.0",
      "model_name": "LayoutModel",
      "state": {
       "width": "250px"
      }
     },
     "60c3b65daa954801b6a942f9d5724151": {
      "model_module": "@jupyter-widgets/base",
      "model_module_version": "1.0.0",
      "model_name": "LayoutModel",
      "state": {
       "justify_content": "center"
      }
     },
     "60f58260e9ec4805aa18ffb9f7c2f983": {
      "model_module": "@jupyter-widgets/base",
      "model_module_version": "1.0.0",
      "model_name": "LayoutModel",
      "state": {
       "width": "250px"
      }
     },
     "60fa1786e6e74dc3860db7bbafc6131e": {
      "model_module": "@jupyter-widgets/base",
      "model_module_version": "1.0.0",
      "model_name": "LayoutModel",
      "state": {
       "width": "250px"
      }
     },
     "612686a1a491485193c527cedc725256": {
      "model_module": "@jupyter-widgets/controls",
      "model_module_version": "1.2.0",
      "model_name": "HBoxModel",
      "state": {
       "children": [
        "IPY_MODEL_de7b3987ff804515bfa1d05beb035ce5",
        "IPY_MODEL_6ac1f1498fc74a51af4e031bb1dc1192"
       ],
       "layout": "IPY_MODEL_039f1c6363ba439b94ec9cb10a88203d"
      }
     },
     "612d889cc23441268c5e2689bf370464": {
      "model_module": "@jupyter-widgets/controls",
      "model_module_version": "1.2.0",
      "model_name": "ButtonModel",
      "state": {
       "description": "Korrekt?",
       "layout": "IPY_MODEL_76ed959119db43679a2eee91ba4f301e",
       "style": "IPY_MODEL_23f4bd529c474903909f1f1fe686e9a5"
      }
     },
     "6140b3f67c3248e7a01ea172d67bff6a": {
      "model_module": "@jupyter-widgets/base",
      "model_module_version": "1.0.0",
      "model_name": "LayoutModel",
      "state": {
       "width": "600px"
      }
     },
     "618a997b933b498281bd8d805e35aba0": {
      "model_module": "@jupyter-widgets/controls",
      "model_module_version": "1.2.0",
      "model_name": "DescriptionStyleModel",
      "state": {
       "description_width": ""
      }
     },
     "619ce0f0c2a54de0898e059ffececd8c": {
      "model_module": "@jupyter-widgets/base",
      "model_module_version": "1.0.0",
      "model_name": "LayoutModel",
      "state": {}
     },
     "61bc39229a0a40169d7977756eeee7f9": {
      "model_module": "@jupyter-widgets/base",
      "model_module_version": "1.0.0",
      "model_name": "LayoutModel",
      "state": {}
     },
     "61f7fa75ba774cc8a484dee7d5f06284": {
      "model_module": "@jupyter-widgets/controls",
      "model_module_version": "1.2.0",
      "model_name": "HTMLModel",
      "state": {
       "layout": "IPY_MODEL_82b7a261747f4e70a21b2eeaaea1a865",
       "style": "IPY_MODEL_28e81f80d2c947128487df6431dc3a3b",
       "value": "<h4 style=\"font-size:14px;\">Welche Aussagen stimmen für den Teilsatz <i>damit sie ...</i> formal gesehen?</h4>"
      }
     },
     "6228a6df7b564f96a51671314e193fab": {
      "model_module": "@jupyter-widgets/base",
      "model_module_version": "1.0.0",
      "model_name": "LayoutModel",
      "state": {
       "justify_content": "center"
      }
     },
     "626b68b19d9e4d7397a0fa0d6a8a9dfa": {
      "model_module": "@jupyter-widgets/base",
      "model_module_version": "1.0.0",
      "model_name": "LayoutModel",
      "state": {
       "width": "250px"
      }
     },
     "629b1d3ca89d457abf1600823aeaae46": {
      "model_module": "@jupyter-widgets/base",
      "model_module_version": "1.0.0",
      "model_name": "LayoutModel",
      "state": {
       "width": "250px"
      }
     },
     "62dbafa7b8cf4ff0a5e84321e00a7479": {
      "model_module": "@jupyter-widgets/base",
      "model_module_version": "1.0.0",
      "model_name": "LayoutModel",
      "state": {
       "width": "500px"
      }
     },
     "62e05d41a9244d87859bf70479146a62": {
      "model_module": "@jupyter-widgets/controls",
      "model_module_version": "1.2.0",
      "model_name": "VBoxModel",
      "state": {
       "children": [
        "IPY_MODEL_529ceae9b18742628ef1538407c07a03",
        "IPY_MODEL_065599ae912a4a46ac6af40d8648cb31",
        "IPY_MODEL_72bce3a3b604490f8745b06a87f5cc8b",
        "IPY_MODEL_c569751553c84e518c5d297dea73b51c"
       ],
       "layout": "IPY_MODEL_023196d6d22347cc9c277c231c751184"
      }
     },
     "6313adb3ea464f97a91cc1c8df0e87fb": {
      "model_module": "@jupyter-widgets/controls",
      "model_module_version": "1.2.0",
      "model_name": "HBoxModel",
      "state": {
       "children": [
        "IPY_MODEL_84cc0d5a932e4f2098b20768370e6d42",
        "IPY_MODEL_b5a0eb5b4c7e4b74a581412947c3bb0a"
       ],
       "layout": "IPY_MODEL_823fa2a534c74e7ea0ac45a68c7bd20d"
      }
     },
     "633bfad31ea74b148133fce8a39e706f": {
      "model_module": "@jupyter-widgets/controls",
      "model_module_version": "1.2.0",
      "model_name": "CheckboxModel",
      "state": {
       "description": "steigende Intonation",
       "disabled": false,
       "layout": "IPY_MODEL_cb00243fc4b64032adb13932bd186f4d",
       "style": "IPY_MODEL_eb05e89a069f40cc8489abbb9c278237",
       "value": false
      }
     },
     "6378638836a243808c72a8fd184a5073": {
      "model_module": "@jupyter-widgets/base",
      "model_module_version": "1.0.0",
      "model_name": "LayoutModel",
      "state": {
       "width": "600px"
      }
     },
     "638b13737ce943f69b8edef94a57b842": {
      "model_module": "@jupyter-widgets/controls",
      "model_module_version": "1.2.0",
      "model_name": "DescriptionStyleModel",
      "state": {
       "description_width": "initial"
      }
     },
     "63ae61ca348842c1ab2cbc4a2d31b94c": {
      "model_module": "@jupyter-widgets/base",
      "model_module_version": "1.0.0",
      "model_name": "LayoutModel",
      "state": {}
     },
     "63fa974be6954befacc3620ac4db766a": {
      "model_module": "@jupyter-widgets/base",
      "model_module_version": "1.0.0",
      "model_name": "LayoutModel",
      "state": {
       "width": "600px"
      }
     },
     "642e9f9d2e8a4edc9c1c0020b43cf37f": {
      "model_module": "@jupyter-widgets/controls",
      "model_module_version": "1.2.0",
      "model_name": "VBoxModel",
      "state": {
       "children": [
        "IPY_MODEL_b08d55892d4c47658f9ceefb2ba13345",
        "IPY_MODEL_c195ef1ff7f648a1ad2713f429e1d93e",
        "IPY_MODEL_0f47cfba29eb4592bd9124ce79c3986b",
        "IPY_MODEL_e2e85af107d04166aada7607b47c96b5",
        "IPY_MODEL_6b3c2167d1b64802aa7a997c43610d19"
       ],
       "layout": "IPY_MODEL_c0c3127291f141ff9844c7c22e4f17d7"
      }
     },
     "64475d09c90a495ba149fc1ddabafc4c": {
      "model_module": "@jupyter-widgets/controls",
      "model_module_version": "1.2.0",
      "model_name": "DescriptionStyleModel",
      "state": {
       "description_width": ""
      }
     },
     "6447bbd87e7a42ada2cd54c072ff3be0": {
      "model_module": "@jupyter-widgets/controls",
      "model_module_version": "1.2.0",
      "model_name": "ButtonModel",
      "state": {
       "description": "Korrekt?",
       "layout": "IPY_MODEL_851327fffafd45b8a94ac1fb01d33233",
       "style": "IPY_MODEL_98d7b310b66e435b8074a667c7d4a47f"
      }
     },
     "64778004b0904c0d8c6f260295181fc1": {
      "model_module": "@jupyter-widgets/controls",
      "model_module_version": "1.2.0",
      "model_name": "HTMLModel",
      "state": {
       "layout": "IPY_MODEL_61bc39229a0a40169d7977756eeee7f9",
       "style": "IPY_MODEL_12c902356bfd411483976aed61a9b742",
       "value": "<h4 style=\"font-size:14px;\">Wieso?</h4>"
      }
     },
     "64884aabda1b4182834eaadda1511dbc": {
      "model_module": "@jupyter-widgets/base",
      "model_module_version": "1.0.0",
      "model_name": "LayoutModel",
      "state": {
       "width": "600px"
      }
     },
     "64a07c506666449a9f007cc0e4048d34": {
      "model_module": "@jupyter-widgets/base",
      "model_module_version": "1.0.0",
      "model_name": "LayoutModel",
      "state": {
       "width": "600px"
      }
     },
     "64be2853675249b897013c1a1e0dec99": {
      "model_module": "@jupyter-widgets/base",
      "model_module_version": "1.0.0",
      "model_name": "LayoutModel",
      "state": {}
     },
     "64f75f87e3cd49f9892bd0d472d6a20d": {
      "model_module": "@jupyter-widgets/controls",
      "model_module_version": "1.2.0",
      "model_name": "DescriptionStyleModel",
      "state": {
       "description_width": "initial"
      }
     },
     "65001ce0de004691a417bb80eb0d23d8": {
      "model_module": "@jupyter-widgets/base",
      "model_module_version": "1.0.0",
      "model_name": "LayoutModel",
      "state": {}
     },
     "650f33870bbd471182e5894a29698a31": {
      "model_module": "@jupyter-widgets/controls",
      "model_module_version": "1.2.0",
      "model_name": "DescriptionStyleModel",
      "state": {
       "description_width": "initial"
      }
     },
     "65b024dac2d9406ab060f0047d4ba5c5": {
      "model_module": "@jupyter-widgets/base",
      "model_module_version": "1.0.0",
      "model_name": "LayoutModel",
      "state": {
       "width": "600px"
      }
     },
     "65eb91dbedb34fb2aaa59ccc340699ca": {
      "model_module": "@jupyter-widgets/controls",
      "model_module_version": "1.2.0",
      "model_name": "ButtonStyleModel",
      "state": {
       "button_color": "lightgreen"
      }
     },
     "6681123166ec47178c3e42eb465f45c3": {
      "model_module": "@jupyter-widgets/base",
      "model_module_version": "1.0.0",
      "model_name": "LayoutModel",
      "state": {}
     },
     "66dfffc96aa44714b11a2ec45be807b5": {
      "model_module": "@jupyter-widgets/controls",
      "model_module_version": "1.2.0",
      "model_name": "DescriptionStyleModel",
      "state": {
       "description_width": "initial"
      }
     },
     "66ea5067566b4fa18e6eac8a089bbbde": {
      "model_module": "@jupyter-widgets/base",
      "model_module_version": "1.0.0",
      "model_name": "LayoutModel",
      "state": {
       "width": "600px"
      }
     },
     "670716a3b8b04ee1af5fd36aa1b193dc": {
      "model_module": "@jupyter-widgets/controls",
      "model_module_version": "1.2.0",
      "model_name": "VBoxModel",
      "state": {
       "children": [
        "IPY_MODEL_fd630416d6e0461581f62c2904fe1f94",
        "IPY_MODEL_7102418aeb884cdd8380c89756ac2da2",
        "IPY_MODEL_a115e02ac59145969dd93f8baaf39997",
        "IPY_MODEL_f2d2aeb43e45468dac7db2493ecd7c46"
       ],
       "layout": "IPY_MODEL_1f9d67cc8d9b40278cc3da15c238e0ec"
      }
     },
     "6752933b45824388b1339e486e6f0964": {
      "model_module": "@jupyter-widgets/controls",
      "model_module_version": "1.2.0",
      "model_name": "DescriptionStyleModel",
      "state": {
       "description_width": ""
      }
     },
     "67d497fcb74a4ac0a90338866aca9c5a": {
      "model_module": "@jupyter-widgets/base",
      "model_module_version": "1.0.0",
      "model_name": "LayoutModel",
      "state": {}
     },
     "67f1aa439a484164bbead8ab35eb6a6a": {
      "model_module": "@jupyter-widgets/controls",
      "model_module_version": "1.2.0",
      "model_name": "HTMLModel",
      "state": {
       "layout": "IPY_MODEL_160731c1c38843109b285a685bed15b1",
       "style": "IPY_MODEL_dfa6422603b64db4a00746672af87c16",
       "value": "<i>Markieren Sie <ins>alle</ins> passenden Antworten: </i>"
      }
     },
     "68260289488244a2abc8f7da6d8b7f05": {
      "model_module": "@jupyter-widgets/controls",
      "model_module_version": "1.2.0",
      "model_name": "HTMLModel",
      "state": {
       "layout": "IPY_MODEL_2c98e5c630004f90b7dcfaee2d048b56",
       "style": "IPY_MODEL_00ef92bbed87471e8a212279d823a203",
       "value": "<h4 style=\"font-size:14px;\">Welche Wörter stehen im Mittelfeld?</h4>"
      }
     },
     "6842e13423a44201b7b55b4be3c2bd3c": {
      "model_module": "@jupyter-widgets/controls",
      "model_module_version": "1.2.0",
      "model_name": "DescriptionStyleModel",
      "state": {
       "description_width": ""
      }
     },
     "68873790f15347a990e3a6483e55ae47": {
      "model_module": "@jupyter-widgets/controls",
      "model_module_version": "1.2.0",
      "model_name": "CheckboxModel",
      "state": {
       "description": "schenkte",
       "disabled": false,
       "layout": "IPY_MODEL_64884aabda1b4182834eaadda1511dbc",
       "style": "IPY_MODEL_08daef993dae46f080951c6e641fa48c",
       "value": false
      }
     },
     "68a286cce7ca42c38250743534762f44": {
      "model_module": "@jupyter-widgets/controls",
      "model_module_version": "1.2.0",
      "model_name": "VBoxModel",
      "state": {
       "children": [
        "IPY_MODEL_b24b34639d0c4118be40483e579456fa",
        "IPY_MODEL_32fefe89b89a4d2e8cd968a7e8234194",
        "IPY_MODEL_b9cbbea442c945c3b80722dc3db0b3d8",
        "IPY_MODEL_de7daf32b89441a8b7db6afd7299edd6",
        "IPY_MODEL_70abd6c60fdf4b2d860b3cceef15ad05",
        "IPY_MODEL_bfc592d542e3407585e7b328a42c5a8e",
        "IPY_MODEL_3a3d30b6f5d34d3886ad3a465b780a8c",
        "IPY_MODEL_2c4cd413388c4c349a4e4bce9dc1b859"
       ],
       "layout": "IPY_MODEL_5034643f1995407b9099e162e69689a8"
      }
     },
     "68b986a59fb5482e9f81ecacdf85f1c1": {
      "model_module": "@jupyter-widgets/controls",
      "model_module_version": "1.2.0",
      "model_name": "DescriptionStyleModel",
      "state": {
       "description_width": ""
      }
     },
     "69165e0ee99e4128a0176cfbb807a7f7": {
      "model_module": "@jupyter-widgets/controls",
      "model_module_version": "1.2.0",
      "model_name": "DescriptionStyleModel",
      "state": {
       "description_width": ""
      }
     },
     "6924d16d18464b47bdea714cd3a4657a": {
      "model_module": "@jupyter-widgets/controls",
      "model_module_version": "1.2.0",
      "model_name": "DescriptionStyleModel",
      "state": {
       "description_width": ""
      }
     },
     "69604fcf77ff4b14954479784b87cb20": {
      "model_module": "@jupyter-widgets/controls",
      "model_module_version": "1.2.0",
      "model_name": "HTMLModel",
      "state": {
       "layout": "IPY_MODEL_6f6fec2c5e334134b5675efb80ee78bc",
       "style": "IPY_MODEL_a7b690100bbf4116ad917a5874d1b4c7",
       "value": "<i>Wählen Sie die <ins>eine</ins> korrekte Antwort aus: </i>"
      }
     },
     "699abe53c2244768b8b13f98d950fb6e": {
      "model_module": "@jupyter-widgets/controls",
      "model_module_version": "1.2.0",
      "model_name": "HTMLModel",
      "state": {
       "layout": "IPY_MODEL_2ec32542b8ae47988bb5258b5d84c9f7",
       "style": "IPY_MODEL_7da7655493234b34afc29bfecd5110f3",
       "value": "<i>Wählen Sie die <ins>eine</ins> korrekte Antwort aus: </i>"
      }
     },
     "69c0535fcee443a09d829e98ae6046da": {
      "model_module": "@jupyter-widgets/base",
      "model_module_version": "1.0.0",
      "model_name": "LayoutModel",
      "state": {
       "justify_content": "center"
      }
     },
     "69f3db00737f4ee4ae68aa3677418272": {
      "model_module": "@jupyter-widgets/base",
      "model_module_version": "1.0.0",
      "model_name": "LayoutModel",
      "state": {
       "width": "600px"
      }
     },
     "6a0fda55808b49a9affddfd45f6cc6db": {
      "model_module": "@jupyter-widgets/controls",
      "model_module_version": "1.2.0",
      "model_name": "CheckboxModel",
      "state": {
       "description": "hat",
       "disabled": false,
       "layout": "IPY_MODEL_1e57a58f918a48caa73fc025c04c7c71",
       "style": "IPY_MODEL_24c05d0924da44be898397204c698d96",
       "value": false
      }
     },
     "6a85d01466234597a69a8de7ed7f5a7b": {
      "model_module": "@jupyter-widgets/controls",
      "model_module_version": "1.2.0",
      "model_name": "DescriptionStyleModel",
      "state": {
       "description_width": "initial"
      }
     },
     "6a8cc18718e5438ea6d44ab4e12cf6bd": {
      "model_module": "@jupyter-widgets/base",
      "model_module_version": "1.0.0",
      "model_name": "LayoutModel",
      "state": {}
     },
     "6ac1f1498fc74a51af4e031bb1dc1192": {
      "model_module": "@jupyter-widgets/controls",
      "model_module_version": "1.2.0",
      "model_name": "ButtonModel",
      "state": {
       "description": "subordiniert",
       "layout": "IPY_MODEL_1bda289941af422a9a51b388f15b03ac",
       "style": "IPY_MODEL_3655ccd4521b4ef8ab23f768846a9ff2"
      }
     },
     "6b1bb47a299d4c059f97258e0431e6c5": {
      "model_module": "@jupyter-widgets/controls",
      "model_module_version": "1.2.0",
      "model_name": "DescriptionStyleModel",
      "state": {
       "description_width": ""
      }
     },
     "6b29200ee87744659bad55acb5c92483": {
      "model_module": "@jupyter-widgets/controls",
      "model_module_version": "1.2.0",
      "model_name": "VBoxModel",
      "state": {
       "children": [
        "IPY_MODEL_a168065627c54ebb86809c9d6633adaf",
        "IPY_MODEL_3b6ef6a2b1b74e56903fe94388cf134c",
        "IPY_MODEL_2fa23e4ac6054f7e851da001942b11fa",
        "IPY_MODEL_162ddb3d16a04086b3dece0dfc991d0e"
       ],
       "layout": "IPY_MODEL_f99273cc1aa14dd6a66db15310eeefc8"
      }
     },
     "6b3c2167d1b64802aa7a997c43610d19": {
      "model_module": "@jupyter-widgets/controls",
      "model_module_version": "1.2.0",
      "model_name": "CheckboxModel",
      "state": {
       "description": "Vordersatz",
       "disabled": false,
       "layout": "IPY_MODEL_197bdfd53995497db9971c8fca878635",
       "style": "IPY_MODEL_c227364b767348039cbf71254776d67c",
       "value": true
      }
     },
     "6b751518b97646f690e1157b56d45f5c": {
      "model_module": "@jupyter-widgets/base",
      "model_module_version": "1.0.0",
      "model_name": "LayoutModel",
      "state": {
       "width": "600px"
      }
     },
     "6bd74d5895ae43719c3e6456a118d37d": {
      "model_module": "@jupyter-widgets/controls",
      "model_module_version": "1.2.0",
      "model_name": "HTMLModel",
      "state": {
       "layout": "IPY_MODEL_808485524a9d4838bb3512f09c9db140",
       "style": "IPY_MODEL_d6c3de0d089046129789d7d57fe28eba",
       "value": "<h4 style=\"font-size:14px;\">Um welche Satzart handelt es sich bei Satz 3?</h4>"
      }
     },
     "6c25a3a44aa543b9ba560608ccf16262": {
      "model_module": "@jupyter-widgets/base",
      "model_module_version": "1.0.0",
      "model_name": "LayoutModel",
      "state": {
       "width": "250px"
      }
     },
     "6cd30b24df4f46c98b604d60c748e5dd": {
      "model_module": "@jupyter-widgets/controls",
      "model_module_version": "1.2.0",
      "model_name": "DescriptionStyleModel",
      "state": {
       "description_width": ""
      }
     },
     "6cfebd324f5748828f1b7b43b5843cdf": {
      "model_module": "@jupyter-widgets/base",
      "model_module_version": "1.0.0",
      "model_name": "LayoutModel",
      "state": {
       "width": "600px"
      }
     },
     "6d0dde0ff5f140f79bd345e5372d69af": {
      "model_module": "@jupyter-widgets/base",
      "model_module_version": "1.0.0",
      "model_name": "LayoutModel",
      "state": {
       "justify_content": "center"
      }
     },
     "6d4a564519b14d17b098c4690b30f576": {
      "model_module": "@jupyter-widgets/controls",
      "model_module_version": "1.2.0",
      "model_name": "ButtonStyleModel",
      "state": {}
     },
     "6d96199978314d8cafe706b06f9a40b2": {
      "model_module": "@jupyter-widgets/controls",
      "model_module_version": "1.2.0",
      "model_name": "ButtonStyleModel",
      "state": {
       "button_color": "lightgreen"
      }
     },
     "6e0277091ff7469a9f2317b98126b929": {
      "model_module": "@jupyter-widgets/controls",
      "model_module_version": "1.2.0",
      "model_name": "HTMLModel",
      "state": {
       "layout": "IPY_MODEL_f13690fc73184666ac8ce30097d684a1",
       "style": "IPY_MODEL_9b81eb9dc0c640d89366af0d2c5d366c",
       "value": "<i>Wählen Sie die <ins>eine</ins> korrekte Antwort aus: </i>"
      }
     },
     "6e879211b8f14162bd3abe3656b94276": {
      "model_module": "@jupyter-widgets/controls",
      "model_module_version": "1.2.0",
      "model_name": "ButtonStyleModel",
      "state": {
       "button_color": "lightgreen"
      }
     },
     "6ec506c49b444ed395894594b2d1eaed": {
      "model_module": "@jupyter-widgets/controls",
      "model_module_version": "1.2.0",
      "model_name": "ButtonModel",
      "state": {
       "description": "koordiniert",
       "layout": "IPY_MODEL_12e8584163274ab7904a521935c5576f",
       "style": "IPY_MODEL_fff923ae05964e6db657b24fe769e5c4"
      }
     },
     "6f16091c722d45cbae2b3c825da9ee86": {
      "model_module": "@jupyter-widgets/base",
      "model_module_version": "1.0.0",
      "model_name": "LayoutModel",
      "state": {
       "width": "600px"
      }
     },
     "6f2164ce7aa84407a10e80b2d1a5507e": {
      "model_module": "@jupyter-widgets/controls",
      "model_module_version": "1.2.0",
      "model_name": "HTMLModel",
      "state": {
       "layout": "IPY_MODEL_7ea8dbc2b5584b16b0bcb7d7420909fe",
       "style": "IPY_MODEL_9710fef9cebf4ca6b825e5c1f8bae2d0",
       "value": "<i>Markieren Sie <ins>alle</ins> passenden Antworten: </i>"
      }
     },
     "6f30d26a79744d468502ee4755c188e7": {
      "model_module": "@jupyter-widgets/controls",
      "model_module_version": "1.2.0",
      "model_name": "HTMLModel",
      "state": {
       "layout": "IPY_MODEL_c4c0246e4f2e40448f483b0f0f0e1f8d",
       "style": "IPY_MODEL_1030de4d8c9f4341ac922f971d4827a6",
       "value": "<h4 style=\"font-size:14px;\">Welche Aussage über das Nachfeld des Hauptsatzes ist korrekt?</h4>"
      }
     },
     "6f568ee48f2e433ea3480b82d0fbd885": {
      "model_module": "@jupyter-widgets/controls",
      "model_module_version": "1.2.0",
      "model_name": "DescriptionStyleModel",
      "state": {
       "description_width": ""
      }
     },
     "6f6fec2c5e334134b5675efb80ee78bc": {
      "model_module": "@jupyter-widgets/base",
      "model_module_version": "1.0.0",
      "model_name": "LayoutModel",
      "state": {
       "justify_content": "center"
      }
     },
     "6fb8df8fa7ff4eb4bc5d1d588c719bf1": {
      "model_module": "@jupyter-widgets/controls",
      "model_module_version": "1.2.0",
      "model_name": "HBoxModel",
      "state": {
       "children": [
        "IPY_MODEL_9503f92f6f4d4665acbda54ac781ebac",
        "IPY_MODEL_162e9af9086d473d999c829b5b1d9b42"
       ],
       "layout": "IPY_MODEL_e3e0c64b2b4a4e6484c670458fe51e9d"
      }
     },
     "6fca6b65bb1446dfad6ecaa4156db811": {
      "model_module": "@jupyter-widgets/base",
      "model_module_version": "1.0.0",
      "model_name": "LayoutModel",
      "state": {
       "justify_content": "center"
      }
     },
     "70672ef5cbd349b8b0c88253d52c3799": {
      "model_module": "@jupyter-widgets/controls",
      "model_module_version": "1.2.0",
      "model_name": "DescriptionStyleModel",
      "state": {
       "description_width": "initial"
      }
     },
     "70a5555901f749a498f79687257719fe": {
      "model_module": "@jupyter-widgets/controls",
      "model_module_version": "1.2.0",
      "model_name": "DescriptionStyleModel",
      "state": {
       "description_width": ""
      }
     },
     "70abd6c60fdf4b2d860b3cceef15ad05": {
      "model_module": "@jupyter-widgets/controls",
      "model_module_version": "1.2.0",
      "model_name": "CheckboxModel",
      "state": {
       "description": "ihm",
       "disabled": false,
       "layout": "IPY_MODEL_e6ca505147c447c9af9f4fac45432b36",
       "style": "IPY_MODEL_b155ebb261b74aabbced131aabe17648",
       "value": false
      }
     },
     "70ae3c1357e241528437dd16b011720a": {
      "model_module": "@jupyter-widgets/controls",
      "model_module_version": "1.2.0",
      "model_name": "DescriptionStyleModel",
      "state": {
       "description_width": "initial"
      }
     },
     "70b423323ec8417b965ed66a29d10620": {
      "model_module": "@jupyter-widgets/controls",
      "model_module_version": "1.2.0",
      "model_name": "DescriptionStyleModel",
      "state": {
       "description_width": "initial"
      }
     },
     "70eb99d9bac74d96b25505f3ed5daf5a": {
      "model_module": "@jupyter-widgets/controls",
      "model_module_version": "1.2.0",
      "model_name": "ButtonStyleModel",
      "state": {}
     },
     "70ec826e3cb748cf95bdaaa99d167d65": {
      "model_module": "@jupyter-widgets/controls",
      "model_module_version": "1.2.0",
      "model_name": "HBoxModel",
      "state": {
       "children": [
        "IPY_MODEL_05c00a8e15d143d784151d4469be2b42",
        "IPY_MODEL_839c068e2ae049058fda9cbd174ab795"
       ],
       "layout": "IPY_MODEL_415cd8a4fd92472095e53729bc88a762"
      }
     },
     "7102418aeb884cdd8380c89756ac2da2": {
      "model_module": "@jupyter-widgets/controls",
      "model_module_version": "1.2.0",
      "model_name": "HTMLModel",
      "state": {
       "layout": "IPY_MODEL_fa19e72ce9a0447c918588bf4b3cca74",
       "style": "IPY_MODEL_5c3abdbf03c84d229a1dbd3733c22fcd",
       "value": "<i>Wählen Sie die <ins>eine</ins> korrekte Antwort aus: </i>"
      }
     },
     "7136ccca8ba1497599f41fa68721c85a": {
      "model_module": "@jupyter-widgets/controls",
      "model_module_version": "1.2.0",
      "model_name": "CheckboxModel",
      "state": {
       "description": "Satzschlusszeichen: Fragezeichen",
       "disabled": false,
       "layout": "IPY_MODEL_f8250076545e4ed8862cf9e9b52b7002",
       "style": "IPY_MODEL_23425480715a4c5a9637577c6903edab",
       "value": false
      }
     },
     "714ac144bcf8475db7fd3b15bdbe885e": {
      "model_module": "@jupyter-widgets/base",
      "model_module_version": "1.0.0",
      "model_name": "LayoutModel",
      "state": {
       "width": "600px"
      }
     },
     "71bea86b321c4b24b8f73269c91d0ae4": {
      "model_module": "@jupyter-widgets/base",
      "model_module_version": "1.0.0",
      "model_name": "LayoutModel",
      "state": {
       "width": "600px"
      }
     },
     "71c68114bb734e0abdc36b08377df16f": {
      "model_module": "@jupyter-widgets/base",
      "model_module_version": "1.0.0",
      "model_name": "LayoutModel",
      "state": {}
     },
     "72230ee21f01401597410286002bf4e7": {
      "model_module": "@jupyter-widgets/controls",
      "model_module_version": "1.2.0",
      "model_name": "CheckboxModel",
      "state": {
       "description": "Nachsatz",
       "disabled": false,
       "layout": "IPY_MODEL_e062f0ac19294d818a44d1c37a95e205",
       "style": "IPY_MODEL_04c11e8db8cc4886bff405ba835d6476",
       "value": true
      }
     },
     "723320474bd642bbb6d474496663e3fd": {
      "model_module": "@jupyter-widgets/base",
      "model_module_version": "1.0.0",
      "model_name": "LayoutModel",
      "state": {}
     },
     "72859f71cea5434794d465f43036c342": {
      "model_module": "@jupyter-widgets/base",
      "model_module_version": "1.0.0",
      "model_name": "LayoutModel",
      "state": {
       "width": "500px"
      }
     },
     "72bce3a3b604490f8745b06a87f5cc8b": {
      "model_module": "@jupyter-widgets/controls",
      "model_module_version": "1.2.0",
      "model_name": "VBoxModel",
      "state": {
       "children": [
        "IPY_MODEL_a3364e12285246459576d35a2c67b5a4",
        "IPY_MODEL_081228a415944e3c9f12ac1c281cf4c3",
        "IPY_MODEL_bc383d3dd20b4284bf4f70edc0ff2ea0",
        "IPY_MODEL_f09123e5d2874aefa0d3e02033dededb",
        "IPY_MODEL_8b699d6164d0493abdee7a3426f4ed85",
        "IPY_MODEL_fdc3e1201a4843aa9c590ff1dc99bd7f",
        "IPY_MODEL_942c761947814c0a91575df73c30d646",
        "IPY_MODEL_0d31fb1727904b94b24587cdad152cfb"
       ],
       "layout": "IPY_MODEL_e92a9bc81cc24fc4b830d4a4fe540b4d"
      }
     },
     "732330d337e647e49579f0d62b4622fb": {
      "model_module": "@jupyter-widgets/controls",
      "model_module_version": "1.2.0",
      "model_name": "VBoxModel",
      "state": {
       "children": [
        "IPY_MODEL_64778004b0904c0d8c6f260295181fc1",
        "IPY_MODEL_22d2657ec44d4db096c6402ca7aabee1",
        "IPY_MODEL_560ccaa32df44722930ada20a4c64a47",
        "IPY_MODEL_41568af52bd743da88509a20624d8d43"
       ],
       "layout": "IPY_MODEL_b2747346a6294abcb9f828d0481a8235"
      }
     },
     "7390d824664647f39f5b55ba1c1afe4f": {
      "model_module": "@jupyter-widgets/controls",
      "model_module_version": "1.2.0",
      "model_name": "VBoxModel",
      "state": {
       "children": [
        "IPY_MODEL_61f7fa75ba774cc8a484dee7d5f06284",
        "IPY_MODEL_9ae42971f6d04075925d04754cb1f5be",
        "IPY_MODEL_115a307d3e4b45758a46ce8a2c930253",
        "IPY_MODEL_f6b85154e724426e9c2773e2667e6529"
       ],
       "layout": "IPY_MODEL_0594b879c743465ab9dbd92ee333966e"
      }
     },
     "73a4ea7d68de4379a66a85ab47959901": {
      "model_module": "@jupyter-widgets/controls",
      "model_module_version": "1.2.0",
      "model_name": "CheckboxModel",
      "state": {
       "description": "kleine",
       "disabled": false,
       "layout": "IPY_MODEL_41a2b22e189541bf9927583315d6077e",
       "style": "IPY_MODEL_f3ce1ee6b03a4825a09bfb06d899554b",
       "value": false
      }
     },
     "73af5c26c9fc4cb199990c0753cd5ee8": {
      "model_module": "@jupyter-widgets/controls",
      "model_module_version": "1.2.0",
      "model_name": "DescriptionStyleModel",
      "state": {
       "description_width": ""
      }
     },
     "73cbf7389f6442b9af4de26e8d45c192": {
      "model_module": "@jupyter-widgets/controls",
      "model_module_version": "1.2.0",
      "model_name": "DescriptionStyleModel",
      "state": {
       "description_width": "initial"
      }
     },
     "73ddea37e1af44a29abb6f39dd0718d1": {
      "model_module": "@jupyter-widgets/controls",
      "model_module_version": "1.2.0",
      "model_name": "VBoxModel",
      "state": {
       "children": [
        "IPY_MODEL_af757bcaf7bd4fa2aacd2ad3100c5231",
        "IPY_MODEL_877fdf8007654a629ca22a17134cc4f5",
        "IPY_MODEL_fdf2bc3d7837438a8247c8add3eeddd8",
        "IPY_MODEL_1fad1eb634d048ab9786838ba01666cb"
       ],
       "layout": "IPY_MODEL_beef23b66a4f42c0b0821e8c7d45bbcd"
      }
     },
     "7462f3d278654d90a7f4b19c409ed3ed": {
      "model_module": "@jupyter-widgets/controls",
      "model_module_version": "1.2.0",
      "model_name": "HTMLModel",
      "state": {
       "layout": "IPY_MODEL_8794edfdb5f448ba8dfb875f23c8ca76",
       "style": "IPY_MODEL_6cd30b24df4f46c98b604d60c748e5dd",
       "value": "<h4 style=\"font-size:14px;\">Was für eine Satzkonstruktion liegt hier vor?</h4>"
      }
     },
     "747c9e6b58c84175afd1d7097209618d": {
      "model_module": "@jupyter-widgets/base",
      "model_module_version": "1.0.0",
      "model_name": "LayoutModel",
      "state": {}
     },
     "74da9f443a9640218f2c67cf855d7aa7": {
      "model_module": "@jupyter-widgets/controls",
      "model_module_version": "1.2.0",
      "model_name": "DescriptionStyleModel",
      "state": {
       "description_width": ""
      }
     },
     "753c6cfa834e4718bfca586c023588f6": {
      "model_module": "@jupyter-widgets/controls",
      "model_module_version": "1.2.0",
      "model_name": "ButtonStyleModel",
      "state": {
       "button_color": "lightgreen"
      }
     },
     "75a0fd8fe70f41d8920fc2f8d6fa6c6d": {
      "model_module": "@jupyter-widgets/controls",
      "model_module_version": "1.2.0",
      "model_name": "ButtonModel",
      "state": {
       "description": "Das Nachfeld ist unbesetzt.",
       "layout": "IPY_MODEL_3181723dc8ce4879b4ff09c7204172bb",
       "style": "IPY_MODEL_8e609e13fb464fbeb603878693d89e3b"
      }
     },
     "75d6efdddc164ea68e7e9bb05dfe9c7a": {
      "model_module": "@jupyter-widgets/controls",
      "model_module_version": "1.2.0",
      "model_name": "HTMLModel",
      "state": {
       "layout": "IPY_MODEL_2789db4deae24026aa58661ee1c0bde0",
       "style": "IPY_MODEL_8486cb5b3f0c4ac4baf7b426d28fb7d9",
       "value": "<i>Wählen Sie die <ins>eine</ins> korrekte Antwort aus: </i>"
      }
     },
     "76323ecdb7ee4690a2e8ce167b9d4d89": {
      "model_module": "@jupyter-widgets/base",
      "model_module_version": "1.0.0",
      "model_name": "LayoutModel",
      "state": {
       "justify_content": "center"
      }
     },
     "7647d673b60d46d09fb02888cd33e3ad": {
      "model_module": "@jupyter-widgets/controls",
      "model_module_version": "1.2.0",
      "model_name": "DescriptionStyleModel",
      "state": {
       "description_width": "initial"
      }
     },
     "765793b7c0eb4fb5ac86521bb0541ace": {
      "model_module": "@jupyter-widgets/controls",
      "model_module_version": "1.2.0",
      "model_name": "DescriptionStyleModel",
      "state": {
       "description_width": "initial"
      }
     },
     "7688995b04f64ae7a59ea7ee3ea15d59": {
      "model_module": "@jupyter-widgets/controls",
      "model_module_version": "1.2.0",
      "model_name": "DescriptionStyleModel",
      "state": {
       "description_width": ""
      }
     },
     "76cd3ab6481242088c3640c765b91c9b": {
      "model_module": "@jupyter-widgets/controls",
      "model_module_version": "1.2.0",
      "model_name": "VBoxModel",
      "state": {
       "children": [
        "IPY_MODEL_50e6d98c6dd84b64b91525683362af2c",
        "IPY_MODEL_31b1e8686fad4ecd93b24085c2f71901",
        "IPY_MODEL_7e4c16e5538d44e9b67b36dccceaba09",
        "IPY_MODEL_d30c07db2ffd4cfe9593e60b0d0354e7"
       ],
       "layout": "IPY_MODEL_65001ce0de004691a417bb80eb0d23d8"
      }
     },
     "76ed959119db43679a2eee91ba4f301e": {
      "model_module": "@jupyter-widgets/base",
      "model_module_version": "1.0.0",
      "model_name": "LayoutModel",
      "state": {
       "width": "250px"
      }
     },
     "77192748d5904a4c8425d121ec7d3bec": {
      "model_module": "@jupyter-widgets/controls",
      "model_module_version": "1.2.0",
      "model_name": "DescriptionStyleModel",
      "state": {
       "description_width": ""
      }
     },
     "77ae55d4a5134dc8afde01201e2ea153": {
      "model_module": "@jupyter-widgets/base",
      "model_module_version": "1.0.0",
      "model_name": "LayoutModel",
      "state": {
       "width": "250px"
      }
     },
     "77b72e4a546942cc8f834978a9beb957": {
      "model_module": "@jupyter-widgets/base",
      "model_module_version": "1.0.0",
      "model_name": "LayoutModel",
      "state": {
       "width": "600px"
      }
     },
     "77b921b6f3884a5a98f7082c63a83a9f": {
      "model_module": "@jupyter-widgets/controls",
      "model_module_version": "1.2.0",
      "model_name": "ButtonStyleModel",
      "state": {
       "button_color": "lightgreen"
      }
     },
     "7810f2ccd9334083887a442a3bfe8dc3": {
      "model_module": "@jupyter-widgets/controls",
      "model_module_version": "1.2.0",
      "model_name": "CheckboxModel",
      "state": {
       "description": "Der",
       "disabled": false,
       "layout": "IPY_MODEL_3c72a7e3f6c442b8af6d371fc0c17cf3",
       "style": "IPY_MODEL_2fa67bfce02442d19f02cda48914c01f",
       "value": false
      }
     },
     "78151b90a9434399884498bf63169149": {
      "model_module": "@jupyter-widgets/base",
      "model_module_version": "1.0.0",
      "model_name": "LayoutModel",
      "state": {}
     },
     "782e19e1e84242f782b1d51ea52f8b1d": {
      "model_module": "@jupyter-widgets/controls",
      "model_module_version": "1.2.0",
      "model_name": "ButtonModel",
      "state": {
       "description": "Keine der anderen Möglichkeiten",
       "layout": "IPY_MODEL_8354ec33251d454c9a96db77e8588c34",
       "style": "IPY_MODEL_1bca3ca1c954410e8f6791457dc2e436"
      }
     },
     "784a40388a9e4b869764c3286c76f41b": {
      "model_module": "@jupyter-widgets/controls",
      "model_module_version": "1.2.0",
      "model_name": "DescriptionStyleModel",
      "state": {
       "description_width": ""
      }
     },
     "784f4547f5124b63a4f1be19882a0ed6": {
      "model_module": "@jupyter-widgets/controls",
      "model_module_version": "1.2.0",
      "model_name": "HTMLModel",
      "state": {
       "layout": "IPY_MODEL_b91bae1222944d3f8c429b7c79cdfaf7",
       "style": "IPY_MODEL_1418c09e9e4d4e84baa28857eb151413",
       "value": "<h4 style=\"font-size:14px;\">Welche Wörter stehen im Vorfeld?</h4>"
      }
     },
     "78b081584cdb4998aaef687b0e847451": {
      "model_module": "@jupyter-widgets/controls",
      "model_module_version": "1.2.0",
      "model_name": "ButtonStyleModel",
      "state": {
       "button_color": "lightgreen"
      }
     },
     "78b7942bd1cd44e9b16546bade045aee": {
      "model_module": "@jupyter-widgets/controls",
      "model_module_version": "1.2.0",
      "model_name": "ButtonStyleModel",
      "state": {
       "button_color": "lightgreen"
      }
     },
     "78c96de56b0744df81a0e3e0bfcbb840": {
      "model_module": "@jupyter-widgets/controls",
      "model_module_version": "1.2.0",
      "model_name": "CheckboxModel",
      "state": {
       "description": "Verbzweitstellung",
       "disabled": false,
       "layout": "IPY_MODEL_02c4e80810694447bf248d7ce572594b",
       "style": "IPY_MODEL_dcc12070298d4b7f909104da971fac62",
       "value": true
      }
     },
     "79131c67f522423aaef5b6b0825d7bae": {
      "model_module": "@jupyter-widgets/base",
      "model_module_version": "1.0.0",
      "model_name": "LayoutModel",
      "state": {}
     },
     "793399d90189419c961aceb8933bdfc7": {
      "model_module": "@jupyter-widgets/controls",
      "model_module_version": "1.2.0",
      "model_name": "ButtonStyleModel",
      "state": {
       "button_color": "lightgreen"
      }
     },
     "79385ac9e9a3449d923905e1149ece02": {
      "model_module": "@jupyter-widgets/base",
      "model_module_version": "1.0.0",
      "model_name": "LayoutModel",
      "state": {}
     },
     "7964be19e32f4ee884bf6aab4be58d4d": {
      "model_module": "@jupyter-widgets/base",
      "model_module_version": "1.0.0",
      "model_name": "LayoutModel",
      "state": {}
     },
     "7974e5304c4a4f60beebc062af4ed143": {
      "model_module": "@jupyter-widgets/controls",
      "model_module_version": "1.2.0",
      "model_name": "CheckboxModel",
      "state": {
       "description": "hat",
       "disabled": false,
       "layout": "IPY_MODEL_f3acd4771c604366a7850be65d79a962",
       "style": "IPY_MODEL_5432325c97d64174b0dcd288625997e7",
       "value": false
      }
     },
     "7990540d262840268a795bd6f1bc3e27": {
      "model_module": "@jupyter-widgets/base",
      "model_module_version": "1.0.0",
      "model_name": "LayoutModel",
      "state": {
       "justify_content": "center"
      }
     },
     "79b79a7c237e495795e9eea28f19696f": {
      "model_module": "@jupyter-widgets/controls",
      "model_module_version": "1.2.0",
      "model_name": "ButtonStyleModel",
      "state": {}
     },
     "79bca8f57e1440ebae817d10ad7e85ed": {
      "model_module": "@jupyter-widgets/controls",
      "model_module_version": "1.2.0",
      "model_name": "DescriptionStyleModel",
      "state": {
       "description_width": ""
      }
     },
     "79c42df5ac994d39b289013f5e225557": {
      "model_module": "@jupyter-widgets/controls",
      "model_module_version": "1.2.0",
      "model_name": "DescriptionStyleModel",
      "state": {
       "description_width": ""
      }
     },
     "7a78f6c62ea04d8cb68ee1f99ac27d40": {
      "model_module": "@jupyter-widgets/base",
      "model_module_version": "1.0.0",
      "model_name": "LayoutModel",
      "state": {}
     },
     "7a9775ad7b7d4f1c97072e0807445dae": {
      "model_module": "@jupyter-widgets/controls",
      "model_module_version": "1.2.0",
      "model_name": "CheckboxModel",
      "state": {
       "description": "Junge",
       "disabled": false,
       "layout": "IPY_MODEL_0b9bd17834a54847a9679fc5adba30df",
       "style": "IPY_MODEL_4946e35ca20a4f65b5256d8467f86e93",
       "value": false
      }
     },
     "7b0b746772ab4ecf9c3fbdf57157cd22": {
      "model_module": "@jupyter-widgets/controls",
      "model_module_version": "1.2.0",
      "model_name": "ButtonStyleModel",
      "state": {
       "button_color": "lightgreen"
      }
     },
     "7b6745b1ae594e0cbd8ab3e6ac930db1": {
      "model_module": "@jupyter-widgets/controls",
      "model_module_version": "1.2.0",
      "model_name": "DescriptionStyleModel",
      "state": {
       "description_width": ""
      }
     },
     "7b8ff31219e44c6897a9ce6a8854b031": {
      "model_module": "@jupyter-widgets/controls",
      "model_module_version": "1.2.0",
      "model_name": "CheckboxModel",
      "state": {
       "description": "Lied gesungen",
       "disabled": false,
       "layout": "IPY_MODEL_ba365f391b9946259332f6233fee5b28",
       "style": "IPY_MODEL_d27161cbe0be4b4b99149a8ecd994156",
       "value": false
      }
     },
     "7c57242e7373480692bac4619f58b9ff": {
      "model_module": "@jupyter-widgets/controls",
      "model_module_version": "1.2.0",
      "model_name": "VBoxModel",
      "state": {
       "children": [
        "IPY_MODEL_f1daf6a8eb0d46369ebb0e9ac2ce9b97",
        "IPY_MODEL_041e732ed8e2443aa6362d384989b496",
        "IPY_MODEL_d3a105caff054dafab1f530c6284448e",
        "IPY_MODEL_86b1a9aedf8441a9904e97d49799eb2a"
       ],
       "layout": "IPY_MODEL_e2fb19b750a14bb39b0690f2324b3d4d"
      }
     },
     "7c5d2d28659d45c3ab26283c3a08e685": {
      "model_module": "@jupyter-widgets/base",
      "model_module_version": "1.0.0",
      "model_name": "LayoutModel",
      "state": {
       "width": "250px"
      }
     },
     "7c66b11ec3a849e2b2132805dd0f7ef3": {
      "model_module": "@jupyter-widgets/controls",
      "model_module_version": "1.2.0",
      "model_name": "HBoxModel",
      "state": {
       "children": [
        "IPY_MODEL_9b02726daa1043279c2ff654d1fb15d6",
        "IPY_MODEL_3ab7ef364246467eb7481c09433a45c6"
       ],
       "layout": "IPY_MODEL_87c6b89c01024e4fb7829a0b2bacf4b7"
      }
     },
     "7c8c2a37f9ff48d783bd92a17b560f10": {
      "model_module": "@jupyter-widgets/controls",
      "model_module_version": "1.2.0",
      "model_name": "HTMLModel",
      "state": {
       "layout": "IPY_MODEL_52dd663e9a244127a3dba8da98cf15c5",
       "style": "IPY_MODEL_dc0f9ff917ac476cade7090fb66e7472",
       "value": "<i>Markieren Sie <ins>alle</ins> passenden Antworten: </i>"
      }
     },
     "7cd0458633fd4ead94dd82b4b6dd6040": {
      "model_module": "@jupyter-widgets/controls",
      "model_module_version": "1.2.0",
      "model_name": "DescriptionStyleModel",
      "state": {
       "description_width": "initial"
      }
     },
     "7ce443c77081478b898cf10e2c96595b": {
      "model_module": "@jupyter-widgets/controls",
      "model_module_version": "1.2.0",
      "model_name": "HBoxModel",
      "state": {
       "children": [
        "IPY_MODEL_999bdb96f34241ac92ace2bb1d67f00b",
        "IPY_MODEL_86e62a00bb734139b87023406cadfeb8"
       ],
       "layout": "IPY_MODEL_b369c958f4234efdbe7897142cd4893f"
      }
     },
     "7d1b3f380a274a97ab0cf478492b3622": {
      "model_module": "@jupyter-widgets/base",
      "model_module_version": "1.0.0",
      "model_name": "LayoutModel",
      "state": {
       "width": "250px"
      }
     },
     "7d207072a9f949f68883930cdf3c936a": {
      "model_module": "@jupyter-widgets/controls",
      "model_module_version": "1.2.0",
      "model_name": "HBoxModel",
      "state": {
       "children": [
        "IPY_MODEL_c4b06a7f05554fb381d18b2c8fa4524f",
        "IPY_MODEL_8fcd075e62354221a5fea8e05bca8958"
       ],
       "layout": "IPY_MODEL_95911f8182dc4b8386b79201915ac40a"
      }
     },
     "7d227bbb836442c6b9d01d3a908c0807": {
      "model_module": "@jupyter-widgets/base",
      "model_module_version": "1.0.0",
      "model_name": "LayoutModel",
      "state": {
       "width": "250px"
      }
     },
     "7d419e7c0281464985d084170a38c5ab": {
      "model_module": "@jupyter-widgets/controls",
      "model_module_version": "1.2.0",
      "model_name": "DescriptionStyleModel",
      "state": {
       "description_width": "initial"
      }
     },
     "7da7655493234b34afc29bfecd5110f3": {
      "model_module": "@jupyter-widgets/controls",
      "model_module_version": "1.2.0",
      "model_name": "DescriptionStyleModel",
      "state": {
       "description_width": ""
      }
     },
     "7dd66078514e40c19f32ce3e3a6fe6ca": {
      "model_module": "@jupyter-widgets/controls",
      "model_module_version": "1.2.0",
      "model_name": "ButtonModel",
      "state": {
       "description": "Satz 4",
       "layout": "IPY_MODEL_efc5efd28d514c3a9976f921c496be63",
       "style": "IPY_MODEL_7ede98919be2430c831fc66d4b00a932"
      }
     },
     "7e1747a0f1a54374964b95c6a58fbdd9": {
      "model_module": "@jupyter-widgets/controls",
      "model_module_version": "1.2.0",
      "model_name": "DescriptionStyleModel",
      "state": {
       "description_width": ""
      }
     },
     "7e1afe4f51d446c8aeaa8c1cde01688d": {
      "model_module": "@jupyter-widgets/base",
      "model_module_version": "1.0.0",
      "model_name": "LayoutModel",
      "state": {}
     },
     "7e4c16e5538d44e9b67b36dccceaba09": {
      "model_module": "@jupyter-widgets/controls",
      "model_module_version": "1.2.0",
      "model_name": "DropdownModel",
      "state": {
       "_options_labels": [
        "Adverbialsatz",
        "Attributsatz",
        "Keine der Alternativen",
        "Komplementsatz",
        "Matrixsatz"
       ],
       "description": "Antwort:",
       "index": 3,
       "layout": "IPY_MODEL_4095287188f54ccfb84784b85516f6e3",
       "style": "IPY_MODEL_b5ecef2a99cb4538bb7ddf5402eb30b1"
      }
     },
     "7ea8dbc2b5584b16b0bcb7d7420909fe": {
      "model_module": "@jupyter-widgets/base",
      "model_module_version": "1.0.0",
      "model_name": "LayoutModel",
      "state": {
       "justify_content": "center"
      }
     },
     "7eb4c1b9053f45d39d8203ab8c88e993": {
      "model_module": "@jupyter-widgets/controls",
      "model_module_version": "1.2.0",
      "model_name": "CheckboxModel",
      "state": {
       "description": "Es handelt sich kommunikativ um eine Aufforderung.",
       "disabled": false,
       "layout": "IPY_MODEL_3ec78fa601d64d31a13c151404e297cb",
       "style": "IPY_MODEL_ebc880376eb540a096eb183ba100bc7f",
       "value": false
      }
     },
     "7ecaaed8a8024d0abea40d7383958947": {
      "model_module": "@jupyter-widgets/controls",
      "model_module_version": "1.2.0",
      "model_name": "ButtonStyleModel",
      "state": {}
     },
     "7ede98919be2430c831fc66d4b00a932": {
      "model_module": "@jupyter-widgets/controls",
      "model_module_version": "1.2.0",
      "model_name": "ButtonStyleModel",
      "state": {}
     },
     "7fc4e3ff07d1403eb6c163856f18e45b": {
      "model_module": "@jupyter-widgets/controls",
      "model_module_version": "1.2.0",
      "model_name": "ButtonModel",
      "state": {
       "description": "subordiniert",
       "layout": "IPY_MODEL_cb771936127b461a869a397f1d00aab9",
       "style": "IPY_MODEL_8b804687d07741ab9118a52a4b48e633"
      }
     },
     "7ffd599cf3c94be988d580df8cdec611": {
      "model_module": "@jupyter-widgets/controls",
      "model_module_version": "1.2.0",
      "model_name": "DescriptionStyleModel",
      "state": {
       "description_width": "initial"
      }
     },
     "802b32930f0142318aa5bb8b5c915e08": {
      "model_module": "@jupyter-widgets/controls",
      "model_module_version": "1.2.0",
      "model_name": "ButtonStyleModel",
      "state": {
       "button_color": "lightgreen"
      }
     },
     "8030f84eee5f4b8e91add5a283a61969": {
      "model_module": "@jupyter-widgets/base",
      "model_module_version": "1.0.0",
      "model_name": "LayoutModel",
      "state": {}
     },
     "8082f818604f470384e263ec47da1364": {
      "model_module": "@jupyter-widgets/base",
      "model_module_version": "1.0.0",
      "model_name": "LayoutModel",
      "state": {
       "width": "600px"
      }
     },
     "808485524a9d4838bb3512f09c9db140": {
      "model_module": "@jupyter-widgets/base",
      "model_module_version": "1.0.0",
      "model_name": "LayoutModel",
      "state": {
       "justify_content": "center"
      }
     },
     "808c0974652d4097b850e3b5214d9ab8": {
      "model_module": "@jupyter-widgets/controls",
      "model_module_version": "1.2.0",
      "model_name": "DescriptionStyleModel",
      "state": {
       "description_width": ""
      }
     },
     "80aaca20786f410dac4bd4b0f3ba3aff": {
      "model_module": "@jupyter-widgets/controls",
      "model_module_version": "1.2.0",
      "model_name": "HBoxModel",
      "state": {
       "children": [
        "IPY_MODEL_75a0fd8fe70f41d8920fc2f8d6fa6c6d",
        "IPY_MODEL_a2ef5ed73125458a9a3c8781bb324da8"
       ],
       "layout": "IPY_MODEL_c46760bb72e04813aa67602563caaeb9"
      }
     },
     "80db58293bd84e2bb73594c54d0c5e15": {
      "model_module": "@jupyter-widgets/controls",
      "model_module_version": "1.2.0",
      "model_name": "ButtonModel",
      "state": {
       "description": "Korrekt?",
       "layout": "IPY_MODEL_60a4b3b115ad40d0bedda6f0296f29fe",
       "style": "IPY_MODEL_f5ca4fc83a544b21af5b455dc1facc9d"
      }
     },
     "8173c9c70f844ffb8e3422d879fa6954": {
      "model_module": "@jupyter-widgets/controls",
      "model_module_version": "1.2.0",
      "model_name": "ButtonStyleModel",
      "state": {
       "button_color": "lightgreen"
      }
     },
     "82297e518be74a88b24e084b65919e2a": {
      "model_module": "@jupyter-widgets/controls",
      "model_module_version": "1.2.0",
      "model_name": "DescriptionStyleModel",
      "state": {
       "description_width": ""
      }
     },
     "823fa2a534c74e7ea0ac45a68c7bd20d": {
      "model_module": "@jupyter-widgets/base",
      "model_module_version": "1.0.0",
      "model_name": "LayoutModel",
      "state": {}
     },
     "8261c8cfdd0e49c99628c23983e1ad80": {
      "model_module": "@jupyter-widgets/controls",
      "model_module_version": "1.2.0",
      "model_name": "ButtonModel",
      "state": {
       "description": "Korrekt?",
       "layout": "IPY_MODEL_8fb48282e1d3431faa8b3c95a841389b",
       "style": "IPY_MODEL_753c6cfa834e4718bfca586c023588f6"
      }
     },
     "8267bb0930154d5d8c7022dc35977e81": {
      "model_module": "@jupyter-widgets/base",
      "model_module_version": "1.0.0",
      "model_name": "LayoutModel",
      "state": {
       "width": "250px"
      }
     },
     "82b04fd6ed72465f998b2295f1691f19": {
      "model_module": "@jupyter-widgets/base",
      "model_module_version": "1.0.0",
      "model_name": "LayoutModel",
      "state": {
       "justify_content": "center"
      }
     },
     "82b7a261747f4e70a21b2eeaaea1a865": {
      "model_module": "@jupyter-widgets/base",
      "model_module_version": "1.0.0",
      "model_name": "LayoutModel",
      "state": {}
     },
     "82f65530d9884af2a36d2fd56104b84b": {
      "model_module": "@jupyter-widgets/controls",
      "model_module_version": "1.2.0",
      "model_name": "HTMLModel",
      "state": {
       "layout": "IPY_MODEL_985083c866a24e059aac39d140b1dd11",
       "style": "IPY_MODEL_328d677b40ba42f58cdbac0b676f7d6f",
       "value": "<i>Wählen Sie die <ins>eine</ins> korrekte Antwort aus: </i>"
      }
     },
     "830f2fd8931d43f79b228ad119efdbdc": {
      "model_module": "@jupyter-widgets/controls",
      "model_module_version": "1.2.0",
      "model_name": "DescriptionStyleModel",
      "state": {
       "description_width": ""
      }
     },
     "833ea84cb4aa497493beace6bd5cd009": {
      "model_module": "@jupyter-widgets/base",
      "model_module_version": "1.0.0",
      "model_name": "LayoutModel",
      "state": {
       "justify_content": "center"
      }
     },
     "8354ec33251d454c9a96db77e8588c34": {
      "model_module": "@jupyter-widgets/base",
      "model_module_version": "1.0.0",
      "model_name": "LayoutModel",
      "state": {
       "width": "250px"
      }
     },
     "838562865c6742229ee64d6c58f9bd1a": {
      "model_module": "@jupyter-widgets/controls",
      "model_module_version": "1.2.0",
      "model_name": "ButtonModel",
      "state": {
       "description": "Aufforderungssatz",
       "layout": "IPY_MODEL_5e265f0f42384c9f9346895cc0d518fc",
       "style": "IPY_MODEL_8a8ff0705f994a1eafcd3f7381099b02"
      }
     },
     "839c068e2ae049058fda9cbd174ab795": {
      "model_module": "@jupyter-widgets/controls",
      "model_module_version": "1.2.0",
      "model_name": "ButtonModel",
      "state": {
       "description": "Wunschsatz",
       "layout": "IPY_MODEL_efa56b6fbb2e4cecac7517773071ca94",
       "style": "IPY_MODEL_a374b3ab9c5e4891b18e3d4168b70a91"
      }
     },
     "83a9b6f1207a409f9bfa306c0922c965": {
      "model_module": "@jupyter-widgets/controls",
      "model_module_version": "1.2.0",
      "model_name": "VBoxModel",
      "state": {
       "children": [
        "IPY_MODEL_e1f189ce8fa1448f9d060e2b1ae8dddf",
        "IPY_MODEL_69604fcf77ff4b14954479784b87cb20",
        "IPY_MODEL_e3f8030b90d6403495a86b4e19b89f1b",
        "IPY_MODEL_ebf57b1270a44a1aba02155f53f0aa2d"
       ],
       "layout": "IPY_MODEL_8b1a690aafa240c0b7e6f32893ae5ea5"
      }
     },
     "83c03373055445d28935a8b2f97b164e": {
      "model_module": "@jupyter-widgets/controls",
      "model_module_version": "1.2.0",
      "model_name": "DescriptionStyleModel",
      "state": {
       "description_width": "initial"
      }
     },
     "83e7ac26d9524688b111f181a92fb7b1": {
      "model_module": "@jupyter-widgets/base",
      "model_module_version": "1.0.0",
      "model_name": "LayoutModel",
      "state": {
       "width": "250px"
      }
     },
     "83f0a5315800415fb824cc4cfb431529": {
      "model_module": "@jupyter-widgets/base",
      "model_module_version": "1.0.0",
      "model_name": "LayoutModel",
      "state": {
       "width": "600px"
      }
     },
     "83f719771e324b0685ca94164556fa86": {
      "model_module": "@jupyter-widgets/controls",
      "model_module_version": "1.2.0",
      "model_name": "DescriptionStyleModel",
      "state": {
       "description_width": "initial"
      }
     },
     "841820574a064aee9cbfe80767cf9713": {
      "model_module": "@jupyter-widgets/base",
      "model_module_version": "1.0.0",
      "model_name": "LayoutModel",
      "state": {}
     },
     "8430db5a962948af8809f1fd4ffaa8bf": {
      "model_module": "@jupyter-widgets/base",
      "model_module_version": "1.0.0",
      "model_name": "LayoutModel",
      "state": {}
     },
     "84365c1aa9cf4fb0a300207921ea5180": {
      "model_module": "@jupyter-widgets/base",
      "model_module_version": "1.0.0",
      "model_name": "LayoutModel",
      "state": {
       "width": "600px"
      }
     },
     "8486cb5b3f0c4ac4baf7b426d28fb7d9": {
      "model_module": "@jupyter-widgets/controls",
      "model_module_version": "1.2.0",
      "model_name": "DescriptionStyleModel",
      "state": {
       "description_width": ""
      }
     },
     "84cc0d5a932e4f2098b20768370e6d42": {
      "model_module": "@jupyter-widgets/controls",
      "model_module_version": "1.2.0",
      "model_name": "ButtonModel",
      "state": {
       "description": "S-bar",
       "layout": "IPY_MODEL_4d87cb4395834bafa144c8b9049068cc",
       "style": "IPY_MODEL_2f9ed8cac3f5485591ce1c43421fc784"
      }
     },
     "851327fffafd45b8a94ac1fb01d33233": {
      "model_module": "@jupyter-widgets/base",
      "model_module_version": "1.0.0",
      "model_name": "LayoutModel",
      "state": {
       "width": "250px"
      }
     },
     "8529cd0141a543b4aa18ecb798efed21": {
      "model_module": "@jupyter-widgets/base",
      "model_module_version": "1.0.0",
      "model_name": "LayoutModel",
      "state": {}
     },
     "858c960945f041569dc09cfce40c4d70": {
      "model_module": "@jupyter-widgets/base",
      "model_module_version": "1.0.0",
      "model_name": "LayoutModel",
      "state": {
       "width": "250px"
      }
     },
     "85ad606adca845d4af94cf5480552f96": {
      "model_module": "@jupyter-widgets/controls",
      "model_module_version": "1.2.0",
      "model_name": "ButtonModel",
      "state": {
       "description": "koordiniert",
       "layout": "IPY_MODEL_5b7e10ab86c24eaa944fb58c9e68d5d8",
       "style": "IPY_MODEL_c93e435a371e4a36be18486a5e821c4c"
      }
     },
     "85afc5e65b2a43b39ef42aa7d9f50ab4": {
      "model_module": "@jupyter-widgets/controls",
      "model_module_version": "1.2.0",
      "model_name": "CheckboxModel",
      "state": {
       "description": "adnominaler Substantivsatz: <i>die Frage, wie ... </i>",
       "disabled": false,
       "layout": "IPY_MODEL_43aaea42c2df4b528dc87605bebbac7b",
       "style": "IPY_MODEL_f8b1e592777342d7956c6939cac322b5",
       "value": true
      }
     },
     "85db509f3b87462d8ca6d2789a492d3f": {
      "model_module": "@jupyter-widgets/controls",
      "model_module_version": "1.2.0",
      "model_name": "VBoxModel",
      "state": {
       "children": [
        "IPY_MODEL_3e7ba166f5eb480aa32db78c533a514a",
        "IPY_MODEL_a43ba2fed4ac429692977d945ab7e599",
        "IPY_MODEL_7c66b11ec3a849e2b2132805dd0f7ef3",
        "IPY_MODEL_a29ed0d8948841ca87d7f410ad548348"
       ],
       "layout": "IPY_MODEL_53be2742f9424dc6bd58459387f479a5"
      }
     },
     "85ee399090c34f59a713a77f9ae12357": {
      "model_module": "@jupyter-widgets/base",
      "model_module_version": "1.0.0",
      "model_name": "LayoutModel",
      "state": {
       "justify_content": "center"
      }
     },
     "861b191b6936437abd1951cc2d7a9afc": {
      "model_module": "@jupyter-widgets/controls",
      "model_module_version": "1.2.0",
      "model_name": "ButtonStyleModel",
      "state": {}
     },
     "864714148f294d199f1e984c746ccd2a": {
      "model_module": "@jupyter-widgets/controls",
      "model_module_version": "1.2.0",
      "model_name": "ButtonStyleModel",
      "state": {}
     },
     "8684db0a2b2742c099e4972ab138935b": {
      "model_module": "@jupyter-widgets/controls",
      "model_module_version": "1.2.0",
      "model_name": "ButtonStyleModel",
      "state": {}
     },
     "86acd13d32ae4510b9178ca8e145d3cb": {
      "model_module": "@jupyter-widgets/controls",
      "model_module_version": "1.2.0",
      "model_name": "DescriptionStyleModel",
      "state": {
       "description_width": ""
      }
     },
     "86aff73e44434207bf7ea38ee3dca3ed": {
      "model_module": "@jupyter-widgets/controls",
      "model_module_version": "1.2.0",
      "model_name": "DescriptionStyleModel",
      "state": {
       "description_width": "initial"
      }
     },
     "86b1a9aedf8441a9904e97d49799eb2a": {
      "model_module": "@jupyter-widgets/controls",
      "model_module_version": "1.2.0",
      "model_name": "ButtonModel",
      "state": {
       "description": "Korrekt?",
       "layout": "IPY_MODEL_d583cd206e31483daa0bd4705eeda5b5",
       "style": "IPY_MODEL_907a3ebda5c346e79ea37998af53f85a"
      }
     },
     "86e62a00bb734139b87023406cadfeb8": {
      "model_module": "@jupyter-widgets/controls",
      "model_module_version": "1.2.0",
      "model_name": "ButtonModel",
      "state": {
       "description": "Subjekt",
       "layout": "IPY_MODEL_6c25a3a44aa543b9ba560608ccf16262",
       "style": "IPY_MODEL_fde0c6ac4b334baeb568e0c3e8a7ec2b"
      }
     },
     "86edeff442d24b96a4bfd379595883c3": {
      "model_module": "@jupyter-widgets/base",
      "model_module_version": "1.0.0",
      "model_name": "LayoutModel",
      "state": {
       "width": "600px"
      }
     },
     "87646b2910e74abe9797ce06c92724b1": {
      "model_module": "@jupyter-widgets/controls",
      "model_module_version": "1.2.0",
      "model_name": "CheckboxModel",
      "state": {
       "description": "Ein Lied gesungen hat",
       "disabled": false,
       "layout": "IPY_MODEL_b199db21f6ea4f3ba93423a64a71cb2d",
       "style": "IPY_MODEL_23480e217bb04ef389d121dd25ea5288",
       "value": false
      }
     },
     "8765206e062843b5bf148d1c7d741f8d": {
      "model_module": "@jupyter-widgets/base",
      "model_module_version": "1.0.0",
      "model_name": "LayoutModel",
      "state": {
       "width": "250px"
      }
     },
     "87670efb95f840dd94fe165761b92c0d": {
      "model_module": "@jupyter-widgets/controls",
      "model_module_version": "1.2.0",
      "model_name": "HTMLModel",
      "state": {
       "layout": "IPY_MODEL_3c790d04e42142efb1bc557d0818049a",
       "style": "IPY_MODEL_0ab8eb6bd6ac4371b5c59e20a94dbd18",
       "value": "<i>Wählen Sie die <ins>eine</ins> korrekte Antwort aus: </i>"
      }
     },
     "877fdf8007654a629ca22a17134cc4f5": {
      "model_module": "@jupyter-widgets/controls",
      "model_module_version": "1.2.0",
      "model_name": "HTMLModel",
      "state": {
       "layout": "IPY_MODEL_e0e78d5c057342b6b76122d2fbc638b8",
       "style": "IPY_MODEL_3f81fd476a004078a8f1c5601a395fed",
       "value": "<i>Wählen Sie die <ins>eine</ins> korrekte Antwort aus: </i>"
      }
     },
     "8784668d9f89493ab2eba958c2f14bbb": {
      "model_module": "@jupyter-widgets/base",
      "model_module_version": "1.0.0",
      "model_name": "LayoutModel",
      "state": {
       "width": "600px"
      }
     },
     "8794edfdb5f448ba8dfb875f23c8ca76": {
      "model_module": "@jupyter-widgets/base",
      "model_module_version": "1.0.0",
      "model_name": "LayoutModel",
      "state": {
       "justify_content": "center"
      }
     },
     "87c36c13fbdb4f12aa7299696a5f4687": {
      "model_module": "@jupyter-widgets/controls",
      "model_module_version": "1.2.0",
      "model_name": "ButtonStyleModel",
      "state": {}
     },
     "87c6b89c01024e4fb7829a0b2bacf4b7": {
      "model_module": "@jupyter-widgets/base",
      "model_module_version": "1.0.0",
      "model_name": "LayoutModel",
      "state": {}
     },
     "881f6d36910746c891ec485f763bf9c1": {
      "model_module": "@jupyter-widgets/controls",
      "model_module_version": "1.2.0",
      "model_name": "CheckboxModel",
      "state": {
       "description": "steigende Intonation",
       "disabled": false,
       "layout": "IPY_MODEL_479b50dda6494937908ace1fe91b8b95",
       "style": "IPY_MODEL_ee1f9aa24eee47c5b34aa4c4bd1abdf0",
       "value": true
      }
     },
     "885413036a9647a7a090d611928c310e": {
      "model_module": "@jupyter-widgets/controls",
      "model_module_version": "1.2.0",
      "model_name": "ButtonStyleModel",
      "state": {
       "button_color": "lightgreen"
      }
     },
     "88555ae4d4324344ae9e13c36b97290d": {
      "model_module": "@jupyter-widgets/controls",
      "model_module_version": "1.2.0",
      "model_name": "HTMLModel",
      "state": {
       "layout": "IPY_MODEL_6228a6df7b564f96a51671314e193fab",
       "style": "IPY_MODEL_946f16dd17e840ccbf487fb43553c56b",
       "value": "<i>Wählen Sie die <ins>eine</ins> korrekte Antwort aus: </i>"
      }
     },
     "8882dccad96e47dbbf7013ae7a1cedf5": {
      "model_module": "@jupyter-widgets/controls",
      "model_module_version": "1.2.0",
      "model_name": "CheckboxModel",
      "state": {
       "description": "Weihnachten",
       "disabled": false,
       "layout": "IPY_MODEL_50e6833ec06e497ea104085602032cce",
       "style": "IPY_MODEL_a1c8aebe1a7941c5bacc69df8643cf76",
       "value": false
      }
     },
     "88d803b1d7474b42befd5942a97be7fc": {
      "model_module": "@jupyter-widgets/base",
      "model_module_version": "1.0.0",
      "model_name": "LayoutModel",
      "state": {}
     },
     "88e173ab033e498a885532cde867a39f": {
      "model_module": "@jupyter-widgets/controls",
      "model_module_version": "1.2.0",
      "model_name": "ButtonModel",
      "state": {
       "description": "Satz 1",
       "layout": "IPY_MODEL_9757a0ea26f7496299fb9000b959a042",
       "style": "IPY_MODEL_70eb99d9bac74d96b25505f3ed5daf5a"
      }
     },
     "8960af8b6de0482794dee52197674da5": {
      "model_module": "@jupyter-widgets/base",
      "model_module_version": "1.0.0",
      "model_name": "LayoutModel",
      "state": {
       "width": "250px"
      }
     },
     "89aac913ab3d44158fe9789629b6478e": {
      "model_module": "@jupyter-widgets/controls",
      "model_module_version": "1.2.0",
      "model_name": "CheckboxModel",
      "state": {
       "description": "Nebensatz 1. Grades",
       "disabled": false,
       "layout": "IPY_MODEL_86edeff442d24b96a4bfd379595883c3",
       "style": "IPY_MODEL_b73f5ab76e55437b8afa5305e00a8b25",
       "value": true
      }
     },
     "89b1207573e948529aa8aee545161fdd": {
      "model_module": "@jupyter-widgets/controls",
      "model_module_version": "1.2.0",
      "model_name": "VBoxModel",
      "state": {
       "children": [
        "IPY_MODEL_c693355b7fd74982b230a010af1d328f",
        "IPY_MODEL_c7bb156d5d7142b8b49b8a537c1f9127",
        "IPY_MODEL_d9998c5f414347e9a18fe366ee812e1b",
        "IPY_MODEL_9be64cac3b5d4b9db852da63280aabab"
       ],
       "layout": "IPY_MODEL_cca2f63554be4aa1979e2efe757271e3"
      }
     },
     "89ca34b1ead945c186d3a6277bec0e0d": {
      "model_module": "@jupyter-widgets/base",
      "model_module_version": "1.0.0",
      "model_name": "LayoutModel",
      "state": {
       "width": "500px"
      }
     },
     "89eb67b8f67f44d99c1eab7fcf7a6d5c": {
      "model_module": "@jupyter-widgets/controls",
      "model_module_version": "1.2.0",
      "model_name": "HBoxModel",
      "state": {
       "children": [
        "IPY_MODEL_b225c873c68a4c30af0be2f83a542c16",
        "IPY_MODEL_4840a8da6f8648538db0e2d68bcc0fcc"
       ],
       "layout": "IPY_MODEL_410503fd782241f3b8d4764aa39e8f26"
      }
     },
     "8a3ade3155f748d7919b40de3f27c5e4": {
      "model_module": "@jupyter-widgets/base",
      "model_module_version": "1.0.0",
      "model_name": "LayoutModel",
      "state": {
       "width": "500px"
      }
     },
     "8a8ff0705f994a1eafcd3f7381099b02": {
      "model_module": "@jupyter-widgets/controls",
      "model_module_version": "1.2.0",
      "model_name": "ButtonStyleModel",
      "state": {}
     },
     "8b01a2a2d15445278edf94b63e46726d": {
      "model_module": "@jupyter-widgets/controls",
      "model_module_version": "1.2.0",
      "model_name": "HBoxModel",
      "state": {
       "children": [
        "IPY_MODEL_566ff94d7f8848f89538b2bcabedf69d"
       ],
       "layout": "IPY_MODEL_b5a0e08f699e498597866ec9c03af639"
      }
     },
     "8b0776a8b2b246eca99b124c0043ef42": {
      "model_module": "@jupyter-widgets/controls",
      "model_module_version": "1.2.0",
      "model_name": "DescriptionStyleModel",
      "state": {
       "description_width": ""
      }
     },
     "8b1a690aafa240c0b7e6f32893ae5ea5": {
      "model_module": "@jupyter-widgets/base",
      "model_module_version": "1.0.0",
      "model_name": "LayoutModel",
      "state": {}
     },
     "8b699d6164d0493abdee7a3426f4ed85": {
      "model_module": "@jupyter-widgets/controls",
      "model_module_version": "1.2.0",
      "model_name": "CheckboxModel",
      "state": {
       "description": "ihm",
       "disabled": false,
       "layout": "IPY_MODEL_4bdd3cb5dc2c46d1b4e77fcccd246793",
       "style": "IPY_MODEL_a88c49674c9649a18a5b883ce9c1dc27",
       "value": true
      }
     },
     "8b804687d07741ab9118a52a4b48e633": {
      "model_module": "@jupyter-widgets/controls",
      "model_module_version": "1.2.0",
      "model_name": "ButtonStyleModel",
      "state": {
       "button_color": "lightgreen"
      }
     },
     "8bcfd04be05b45f59cffb297f0965d5e": {
      "model_module": "@jupyter-widgets/base",
      "model_module_version": "1.0.0",
      "model_name": "LayoutModel",
      "state": {}
     },
     "8c9705c073fd4231b7617c79d17f24c8": {
      "model_module": "@jupyter-widgets/controls",
      "model_module_version": "1.2.0",
      "model_name": "DropdownModel",
      "state": {
       "_options_labels": [
        "Kausalsatz",
        "Keine der Alternativen",
        "Lokalsatz",
        "Modalsatz",
        "Objektsatz",
        "Relativsatz",
        "Subjektsatz",
        "Temporalsatz"
       ],
       "description": "Antwort:",
       "index": 4,
       "layout": "IPY_MODEL_237da62d61d345a291069a77b152d6fa",
       "style": "IPY_MODEL_93caec223e6e470580f369fc11fc44ee"
      }
     },
     "8d1cbab0be71459ab4c4fadc3868d2d2": {
      "model_module": "@jupyter-widgets/controls",
      "model_module_version": "1.2.0",
      "model_name": "HTMLModel",
      "state": {
       "layout": "IPY_MODEL_c826301816904a66a1d235c3ed6c861b",
       "style": "IPY_MODEL_9f70abcde0e74bcb919d025d936fc12f",
       "value": "<i>Wählen Sie die <ins>eine</ins> korrekte Antwort aus: </i>"
      }
     },
     "8d1ed654c8034ffc9cd4aba36f76d39a": {
      "model_module": "@jupyter-widgets/controls",
      "model_module_version": "1.2.0",
      "model_name": "HTMLModel",
      "state": {
       "layout": "IPY_MODEL_abe70317c1a549c6a74bce4f665f9b4a",
       "style": "IPY_MODEL_0345b6c61888494d9af0f1915fdfede0",
       "value": "<h4 style=\"font-size:14px;\">'Die (markierte) Abfolge ›Subjekt vor Akkusativobjekt vor Dativobjekt‹ für nominale Satzglieder ist nur möglich, wenn bestimmte Bedingungen erfüllt sind (insbesondere Thema vor Rhema).'</h4>"
      }
     },
     "8d6c0401bb0d43e2907c59a7cc51248a": {
      "model_module": "@jupyter-widgets/base",
      "model_module_version": "1.0.0",
      "model_name": "LayoutModel",
      "state": {
       "width": "600px"
      }
     },
     "8d85bd88f55b46c09514c02a2413bb98": {
      "model_module": "@jupyter-widgets/controls",
      "model_module_version": "1.2.0",
      "model_name": "DescriptionStyleModel",
      "state": {
       "description_width": "initial"
      }
     },
     "8e1a562d6b0846c2ac65d5dc51431867": {
      "model_module": "@jupyter-widgets/controls",
      "model_module_version": "1.2.0",
      "model_name": "DescriptionStyleModel",
      "state": {
       "description_width": ""
      }
     },
     "8e609e13fb464fbeb603878693d89e3b": {
      "model_module": "@jupyter-widgets/controls",
      "model_module_version": "1.2.0",
      "model_name": "ButtonStyleModel",
      "state": {}
     },
     "8e6ac1ed81994853bf0b8e1fa741749b": {
      "model_module": "@jupyter-widgets/controls",
      "model_module_version": "1.2.0",
      "model_name": "ButtonModel",
      "state": {
       "description": "Subjektkontrolle",
       "layout": "IPY_MODEL_e7c3610a6cd94470bd16a9edae641a6d",
       "style": "IPY_MODEL_861b191b6936437abd1951cc2d7a9afc"
      }
     },
     "8f36babcd1cc4f48b0bc8418ea833334": {
      "model_module": "@jupyter-widgets/base",
      "model_module_version": "1.0.0",
      "model_name": "LayoutModel",
      "state": {
       "width": "600px"
      }
     },
     "8f8b94238cd543bb891868b5f02f355d": {
      "model_module": "@jupyter-widgets/controls",
      "model_module_version": "1.2.0",
      "model_name": "CheckboxModel",
      "state": {
       "description": "Junge",
       "disabled": false,
       "layout": "IPY_MODEL_5e0bb6f8448c494da2ca3cb168a538d6",
       "style": "IPY_MODEL_265b649be9a64a27bb2efa231fa92542",
       "value": true
      }
     },
     "8fb48282e1d3431faa8b3c95a841389b": {
      "model_module": "@jupyter-widgets/base",
      "model_module_version": "1.0.0",
      "model_name": "LayoutModel",
      "state": {
       "width": "250px"
      }
     },
     "8fbb233b247e4a0abc05f475a9f3ca85": {
      "model_module": "@jupyter-widgets/base",
      "model_module_version": "1.0.0",
      "model_name": "LayoutModel",
      "state": {
       "width": "600px"
      }
     },
     "8fcd075e62354221a5fea8e05bca8958": {
      "model_module": "@jupyter-widgets/controls",
      "model_module_version": "1.2.0",
      "model_name": "ButtonModel",
      "state": {
       "description": "subordiniert",
       "layout": "IPY_MODEL_0f01822ffa54409a80788f7a2c7ed874",
       "style": "IPY_MODEL_c4534e1a76c04d36be95daf1ca8815e0"
      }
     },
     "8fd60143b27c4dfc8f1fad20dea8d606": {
      "model_module": "@jupyter-widgets/base",
      "model_module_version": "1.0.0",
      "model_name": "LayoutModel",
      "state": {
       "width": "250px"
      }
     },
     "8fe75fdee3064b3d91f9abc625e7ad2d": {
      "model_module": "@jupyter-widgets/controls",
      "model_module_version": "1.2.0",
      "model_name": "CheckboxModel",
      "state": {
       "description": "kleine",
       "disabled": false,
       "layout": "IPY_MODEL_c640534e275842c09d7085865377db67",
       "style": "IPY_MODEL_5197a2cc39c84e4f9e8e6da17d97fd12",
       "value": true
      }
     },
     "90246230f1e0450e8b025a8ed9f931f2": {
      "model_module": "@jupyter-widgets/base",
      "model_module_version": "1.0.0",
      "model_name": "LayoutModel",
      "state": {}
     },
     "9039191b74db43fb8080ae512f5566bf": {
      "model_module": "@jupyter-widgets/controls",
      "model_module_version": "1.2.0",
      "model_name": "DescriptionStyleModel",
      "state": {
       "description_width": "initial"
      }
     },
     "905d1de1aa474e20b5f533f76bc4b75e": {
      "model_module": "@jupyter-widgets/base",
      "model_module_version": "1.0.0",
      "model_name": "LayoutModel",
      "state": {
       "width": "600px"
      }
     },
     "907a3ebda5c346e79ea37998af53f85a": {
      "model_module": "@jupyter-widgets/controls",
      "model_module_version": "1.2.0",
      "model_name": "ButtonStyleModel",
      "state": {
       "button_color": "lightgreen"
      }
     },
     "90a5c52beae3453a9fc6251da733ae92": {
      "model_module": "@jupyter-widgets/base",
      "model_module_version": "1.0.0",
      "model_name": "LayoutModel",
      "state": {
       "width": "600px"
      }
     },
     "90e054cb0b4e4024ba1f28fb79295aa3": {
      "model_module": "@jupyter-widgets/controls",
      "model_module_version": "1.2.0",
      "model_name": "DescriptionStyleModel",
      "state": {
       "description_width": ""
      }
     },
     "911010b62e4b4c49b0ccc2cb093c2c9d": {
      "model_module": "@jupyter-widgets/controls",
      "model_module_version": "1.2.0",
      "model_name": "ButtonStyleModel",
      "state": {
       "button_color": "lightgreen"
      }
     },
     "911342f0113a4688ac989bb50542a5ce": {
      "model_module": "@jupyter-widgets/controls",
      "model_module_version": "1.2.0",
      "model_name": "VBoxModel",
      "state": {
       "children": [
        "IPY_MODEL_57eb120217064bf792d7ef2f9e403c96",
        "IPY_MODEL_2c9e1be6248e40b18a43587053cb4869",
        "IPY_MODEL_9e0c75aebde54b428ce14b7c6c08f7ab",
        "IPY_MODEL_dbc033f5685844b196f663259bc59dfb",
        "IPY_MODEL_221a87ab849f461bbaf856076b94f2d8",
        "IPY_MODEL_9ae30b2755e34480bcba6b854a93d721",
        "IPY_MODEL_881f6d36910746c891ec485f763bf9c1"
       ],
       "layout": "IPY_MODEL_9e6bd0244f9448dbae9c20d2aa6966d4"
      }
     },
     "91171090f72e4421bbb7fbdda84cbfe1": {
      "model_module": "@jupyter-widgets/controls",
      "model_module_version": "1.2.0",
      "model_name": "HBoxModel",
      "state": {
       "children": [
        "IPY_MODEL_e4201bee6acb4a648227b8c0973785f6",
        "IPY_MODEL_4478265c030c4b99ba339b6553ff24ee"
       ],
       "layout": "IPY_MODEL_563195f40b084e18b429302b4971da29"
      }
     },
     "912d88a83e4f4a118452633696645b26": {
      "model_module": "@jupyter-widgets/controls",
      "model_module_version": "1.2.0",
      "model_name": "HTMLModel",
      "state": {
       "layout": "IPY_MODEL_334fa65648b34d08baf79f0e2905b996",
       "style": "IPY_MODEL_7e1747a0f1a54374964b95c6a58fbdd9",
       "value": "<h4 style=\"font-size:14px;\">Wenn der Nebensatz durch eine Konjunktion eingeleitet wird, wo steht diese im Stellungsfeldermodell?</h4>"
      }
     },
     "913818651a0b4f8980244bf2b2ea1832": {
      "model_module": "@jupyter-widgets/base",
      "model_module_version": "1.0.0",
      "model_name": "LayoutModel",
      "state": {}
     },
     "91416934a64e4d0c9b20cf4d1a7d62b7": {
      "model_module": "@jupyter-widgets/controls",
      "model_module_version": "1.2.0",
      "model_name": "DropdownModel",
      "state": {
       "_options_labels": [
        "Adverbialsatz",
        "Attributsatz",
        "Keine der Alternativen",
        "Komplementsatz",
        "Matrixsatz"
       ],
       "description": "Antwort:",
       "index": 0,
       "layout": "IPY_MODEL_89ca34b1ead945c186d3a6277bec0e0d",
       "style": "IPY_MODEL_02920666692a4240b5b54b3b5faeee4c"
      }
     },
     "918de13cee8d44eeb862d78c6278bffd": {
      "model_module": "@jupyter-widgets/controls",
      "model_module_version": "1.2.0",
      "model_name": "VBoxModel",
      "state": {
       "children": [
        "IPY_MODEL_cd553cd793ec44bbb4cfb05db807f469",
        "IPY_MODEL_10c13b0887c54a2eabfd1ff739bf96a4",
        "IPY_MODEL_8882dccad96e47dbbf7013ae7a1cedf5",
        "IPY_MODEL_c7eb7096172b4b789c0366a5d086c018",
        "IPY_MODEL_c9119794dbf54367b35cfbf37bdadbd7",
        "IPY_MODEL_68873790f15347a990e3a6483e55ae47",
        "IPY_MODEL_127f3d6d00364bb088aeab7eca394dce",
        "IPY_MODEL_3615f55770244089b0a6193a86253ec1"
       ],
       "layout": "IPY_MODEL_ba7dcdea3b54430eb0259fd6b494fae4"
      }
     },
     "919d37bd7bc54d539c811192fa3ff8c3": {
      "model_module": "@jupyter-widgets/base",
      "model_module_version": "1.0.0",
      "model_name": "LayoutModel",
      "state": {}
     },
     "91a526b6354d4e3c983b54884f3a0c52": {
      "model_module": "@jupyter-widgets/controls",
      "model_module_version": "1.2.0",
      "model_name": "HBoxModel",
      "state": {
       "children": [
        "IPY_MODEL_bfecc3062f8b4e6d8bc669a5b256b47f",
        "IPY_MODEL_a27c5daaf0b24863a13c5070949319f1"
       ],
       "layout": "IPY_MODEL_f2423abf98a54e6d83b9e9b82d55ca37"
      }
     },
     "91a7039901384e4b9bd88a66b7f732b4": {
      "model_module": "@jupyter-widgets/controls",
      "model_module_version": "1.2.0",
      "model_name": "DescriptionStyleModel",
      "state": {
       "description_width": "initial"
      }
     },
     "91b52ed2ca4749e68e4d70567ebaea44": {
      "model_module": "@jupyter-widgets/base",
      "model_module_version": "1.0.0",
      "model_name": "LayoutModel",
      "state": {
       "justify_content": "center"
      }
     },
     "91cea8c5674a4bd6a05cd728c8adf4b9": {
      "model_module": "@jupyter-widgets/controls",
      "model_module_version": "1.2.0",
      "model_name": "ButtonModel",
      "state": {
       "description": "Subjektkontrolle",
       "layout": "IPY_MODEL_8267bb0930154d5d8c7022dc35977e81",
       "style": "IPY_MODEL_9fa53892bf6d40d08029a1337a0adc2f"
      }
     },
     "91e21cb0f4324c879cdbf77126f2c238": {
      "model_module": "@jupyter-widgets/controls",
      "model_module_version": "1.2.0",
      "model_name": "VBoxModel",
      "state": {
       "children": [
        "IPY_MODEL_49165eb79e7342adaaf9926eaf1375be",
        "IPY_MODEL_8d1cbab0be71459ab4c4fadc3868d2d2",
        "IPY_MODEL_cd61a5f1b11243748a2c7881e00df114",
        "IPY_MODEL_f081b3346a874305a7c658ea56f122af"
       ],
       "layout": "IPY_MODEL_7964be19e32f4ee884bf6aab4be58d4d"
      }
     },
     "921bb71a005b4019bf43d8d305e54eb8": {
      "model_module": "@jupyter-widgets/base",
      "model_module_version": "1.0.0",
      "model_name": "LayoutModel",
      "state": {
       "width": "600px"
      }
     },
     "9269f7e5daf54725bb18f8e88a367aca": {
      "model_module": "@jupyter-widgets/controls",
      "model_module_version": "1.2.0",
      "model_name": "DescriptionStyleModel",
      "state": {
       "description_width": "initial"
      }
     },
     "92745b8b99e34e88b5df5ade8c033249": {
      "model_module": "@jupyter-widgets/controls",
      "model_module_version": "1.2.0",
      "model_name": "VBoxModel",
      "state": {
       "children": [
        "IPY_MODEL_4b4f92e9a7fb49108443f8c2d51c24ce",
        "IPY_MODEL_d6cf702e36b34f8ead694262d5d8c19c",
        "IPY_MODEL_a70ea14c7b1648e4b9af814b18fa099b",
        "IPY_MODEL_f2de7f9c51bf483e8bde74942a48cf9c"
       ],
       "layout": "IPY_MODEL_aedd6817444c488fb5e3d0aac4989479"
      }
     },
     "92dccdb871504294bde682358161ded4": {
      "model_module": "@jupyter-widgets/controls",
      "model_module_version": "1.2.0",
      "model_name": "DescriptionStyleModel",
      "state": {
       "description_width": "initial"
      }
     },
     "932b10a336ce478d97fad87cd3affb8e": {
      "model_module": "@jupyter-widgets/controls",
      "model_module_version": "1.2.0",
      "model_name": "CheckboxModel",
      "state": {
       "description": "das",
       "disabled": false,
       "layout": "IPY_MODEL_9dad9bc5fbab4eb4a775aee84797a490",
       "style": "IPY_MODEL_df76b8324c3e4213a97adb0f28046e5c",
       "value": false
      }
     },
     "932b65c51a2d4b8d953e75562d8d17c8": {
      "model_module": "@jupyter-widgets/base",
      "model_module_version": "1.0.0",
      "model_name": "LayoutModel",
      "state": {
       "width": "250px"
      }
     },
     "93419e7497344caca2710daa7bfef510": {
      "model_module": "@jupyter-widgets/base",
      "model_module_version": "1.0.0",
      "model_name": "LayoutModel",
      "state": {
       "justify_content": "center"
      }
     },
     "936031de631144adac5f4158a11ec673": {
      "model_module": "@jupyter-widgets/controls",
      "model_module_version": "1.2.0",
      "model_name": "DescriptionStyleModel",
      "state": {
       "description_width": ""
      }
     },
     "93caec223e6e470580f369fc11fc44ee": {
      "model_module": "@jupyter-widgets/controls",
      "model_module_version": "1.2.0",
      "model_name": "DescriptionStyleModel",
      "state": {
       "description_width": ""
      }
     },
     "942c761947814c0a91575df73c30d646": {
      "model_module": "@jupyter-widgets/controls",
      "model_module_version": "1.2.0",
      "model_name": "CheckboxModel",
      "state": {
       "description": "sein",
       "disabled": false,
       "layout": "IPY_MODEL_404cd337e3a449e0a4a171c4713de43d",
       "style": "IPY_MODEL_44a8a03ae35b4b53be0bcfb02df11407",
       "value": true
      }
     },
     "94478c8f120c485c8a17404e1be5ed5a": {
      "model_module": "@jupyter-widgets/controls",
      "model_module_version": "1.2.0",
      "model_name": "VBoxModel",
      "state": {
       "children": [
        "IPY_MODEL_50a8f02da3de418ea70670cf7d35397c",
        "IPY_MODEL_6e0277091ff7469a9f2317b98126b929",
        "IPY_MODEL_c51c8dac4d2846a9bfbd26b404c0d013"
       ],
       "layout": "IPY_MODEL_4f9c3579e48c497397696ea4c85bb2f0"
      }
     },
     "946f16dd17e840ccbf487fb43553c56b": {
      "model_module": "@jupyter-widgets/controls",
      "model_module_version": "1.2.0",
      "model_name": "DescriptionStyleModel",
      "state": {
       "description_width": ""
      }
     },
     "947b6bf2e03644898119d22bb267bd9c": {
      "model_module": "@jupyter-widgets/controls",
      "model_module_version": "1.2.0",
      "model_name": "HTMLModel",
      "state": {
       "layout": "IPY_MODEL_dd619cca36764bd6b29016d2a7c2d260",
       "style": "IPY_MODEL_f34e1bd29d2d4bf0af0ac44380dee218",
       "value": "<h4 style=\"font-size:14px;\">Welche übergeordnete Konstituente läßt sich im Fall des erfolgreichen Permutationstests durch gemeinsame Verschiebung ins Vorfeld feststellen?</h4>"
      }
     },
     "948705a224144c25944ae56e59540c17": {
      "model_module": "@jupyter-widgets/controls",
      "model_module_version": "1.2.0",
      "model_name": "VBoxModel",
      "state": {
       "children": [
        "IPY_MODEL_c826852de30045f1896f82c5834c11e9",
        "IPY_MODEL_c2796705c7bc46d9a8a5b85c4988a478",
        "IPY_MODEL_0de82bc19fb940918649c630b85e4157",
        "IPY_MODEL_562a434f4b024b629fd036712354f2b8"
       ],
       "layout": "IPY_MODEL_8529cd0141a543b4aa18ecb798efed21"
      }
     },
     "94a1036699d840648f0a483c6dca50e0": {
      "model_module": "@jupyter-widgets/controls",
      "model_module_version": "1.2.0",
      "model_name": "DropdownModel",
      "state": {
       "_options_labels": [
        "Adverbialsatz",
        "Attributsatz",
        "Hauptsatz",
        "Keine der Alternativen",
        "Komplementsatz",
        "Matrixsatz"
       ],
       "description": "Antwort:",
       "index": 2,
       "layout": "IPY_MODEL_37d4adca7156436e86d17a1febfd009d",
       "style": "IPY_MODEL_bb744a1a122c4cab8481fb938e70fcc2"
      }
     },
     "94a4280eafc6473ab857601b385e6a1f": {
      "model_module": "@jupyter-widgets/base",
      "model_module_version": "1.0.0",
      "model_name": "LayoutModel",
      "state": {}
     },
     "94d1758c7e534fa786e2d8bce037aff2": {
      "model_module": "@jupyter-widgets/base",
      "model_module_version": "1.0.0",
      "model_name": "LayoutModel",
      "state": {
       "width": "250px"
      }
     },
     "9503f92f6f4d4665acbda54ac781ebac": {
      "model_module": "@jupyter-widgets/controls",
      "model_module_version": "1.2.0",
      "model_name": "ButtonModel",
      "state": {
       "description": "Adjektiv",
       "layout": "IPY_MODEL_19bf849ac5434f39b297553417bc4ccd",
       "style": "IPY_MODEL_864714148f294d199f1e984c746ccd2a"
      }
     },
     "951254de7d4a435684798dcf7335560f": {
      "model_module": "@jupyter-widgets/controls",
      "model_module_version": "1.2.0",
      "model_name": "CheckboxModel",
      "state": {
       "description": "das",
       "disabled": false,
       "layout": "IPY_MODEL_0600ec26a5d14236954fdb6885c6f8ae",
       "style": "IPY_MODEL_8d85bd88f55b46c09514c02a2413bb98",
       "value": false
      }
     },
     "95911f8182dc4b8386b79201915ac40a": {
      "model_module": "@jupyter-widgets/base",
      "model_module_version": "1.0.0",
      "model_name": "LayoutModel",
      "state": {}
     },
     "9614d4e77f9e46818d6fcd8651f56a0d": {
      "model_module": "@jupyter-widgets/base",
      "model_module_version": "1.0.0",
      "model_name": "LayoutModel",
      "state": {}
     },
     "9627d8b174fb441cb489bd6ca023ec79": {
      "model_module": "@jupyter-widgets/base",
      "model_module_version": "1.0.0",
      "model_name": "LayoutModel",
      "state": {
       "width": "600px"
      }
     },
     "96764d37ebe2422aada49c23347978a0": {
      "model_module": "@jupyter-widgets/controls",
      "model_module_version": "1.2.0",
      "model_name": "DescriptionStyleModel",
      "state": {
       "description_width": "initial"
      }
     },
     "9710fef9cebf4ca6b825e5c1f8bae2d0": {
      "model_module": "@jupyter-widgets/controls",
      "model_module_version": "1.2.0",
      "model_name": "DescriptionStyleModel",
      "state": {
       "description_width": ""
      }
     },
     "9757a0ea26f7496299fb9000b959a042": {
      "model_module": "@jupyter-widgets/base",
      "model_module_version": "1.0.0",
      "model_name": "LayoutModel",
      "state": {
       "width": "250px"
      }
     },
     "979d875374074d1aa17cac37f86a60ca": {
      "model_module": "@jupyter-widgets/controls",
      "model_module_version": "1.2.0",
      "model_name": "DescriptionStyleModel",
      "state": {
       "description_width": "initial"
      }
     },
     "97cd8784a417436eb339f6904f0ed6b5": {
      "model_module": "@jupyter-widgets/controls",
      "model_module_version": "1.2.0",
      "model_name": "DescriptionStyleModel",
      "state": {
       "description_width": "initial"
      }
     },
     "97e6e9fb6a0042cda156849805972149": {
      "model_module": "@jupyter-widgets/base",
      "model_module_version": "1.0.0",
      "model_name": "LayoutModel",
      "state": {}
     },
     "97f9cbe2afd143158385f5824742b46b": {
      "model_module": "@jupyter-widgets/controls",
      "model_module_version": "1.2.0",
      "model_name": "CheckboxModel",
      "state": {
       "description": "Buch",
       "disabled": false,
       "layout": "IPY_MODEL_83f0a5315800415fb824cc4cfb431529",
       "style": "IPY_MODEL_70ae3c1357e241528437dd16b011720a",
       "value": true
      }
     },
     "98056abcd8864e48a88b96d38b46330b": {
      "model_module": "@jupyter-widgets/base",
      "model_module_version": "1.0.0",
      "model_name": "LayoutModel",
      "state": {
       "width": "250px"
      }
     },
     "98325a11ce314812a7cf3530450b41cd": {
      "model_module": "@jupyter-widgets/base",
      "model_module_version": "1.0.0",
      "model_name": "LayoutModel",
      "state": {
       "justify_content": "center"
      }
     },
     "985083c866a24e059aac39d140b1dd11": {
      "model_module": "@jupyter-widgets/base",
      "model_module_version": "1.0.0",
      "model_name": "LayoutModel",
      "state": {
       "justify_content": "center"
      }
     },
     "986b30b73fe8445b82e9d6ca6acb1d3e": {
      "model_module": "@jupyter-widgets/base",
      "model_module_version": "1.0.0",
      "model_name": "LayoutModel",
      "state": {
       "width": "600px"
      }
     },
     "98cff123aaa84bbfbf700349b4beb866": {
      "model_module": "@jupyter-widgets/controls",
      "model_module_version": "1.2.0",
      "model_name": "HTMLModel",
      "state": {
       "layout": "IPY_MODEL_88d803b1d7474b42befd5942a97be7fc",
       "style": "IPY_MODEL_d61a5d9ce42e4e2e84494828887db685",
       "value": "<h4 style=\"font-size:14px;\">Wie läßt sich dieser Satztyp klassifizieren?</h4>"
      }
     },
     "98d7b310b66e435b8074a667c7d4a47f": {
      "model_module": "@jupyter-widgets/controls",
      "model_module_version": "1.2.0",
      "model_name": "ButtonStyleModel",
      "state": {
       "button_color": "lightgreen"
      }
     },
     "9916aa3421d54370bdd61f106be97d00": {
      "model_module": "@jupyter-widgets/base",
      "model_module_version": "1.0.0",
      "model_name": "LayoutModel",
      "state": {}
     },
     "999bdb96f34241ac92ace2bb1d67f00b": {
      "model_module": "@jupyter-widgets/controls",
      "model_module_version": "1.2.0",
      "model_name": "ButtonModel",
      "state": {
       "description": "Objekt",
       "layout": "IPY_MODEL_587781239d574e35a0aa8ed3a01c7ea1",
       "style": "IPY_MODEL_79b79a7c237e495795e9eea28f19696f"
      }
     },
     "999ea141e8954c05867ce9dba1147c64": {
      "model_module": "@jupyter-widgets/controls",
      "model_module_version": "1.2.0",
      "model_name": "ButtonStyleModel",
      "state": {}
     },
     "99faf8376e1042a5a115dc2e3cd0cc1b": {
      "model_module": "@jupyter-widgets/base",
      "model_module_version": "1.0.0",
      "model_name": "LayoutModel",
      "state": {}
     },
     "9a15ba8fcd72419aba3c971907af1136": {
      "model_module": "@jupyter-widgets/controls",
      "model_module_version": "1.2.0",
      "model_name": "HTMLModel",
      "state": {
       "layout": "IPY_MODEL_243048a8efae4de680bbbba4588afb74",
       "style": "IPY_MODEL_5b02670a7282432592f44e84caa1b22f",
       "value": "<h4 style=\"font-size:14px;\">'Im unmarkierten Fall steht die Modalpartikel an der linken Peripherie des Mittelfelds (Wackernagel-Position).'</h4>"
      }
     },
     "9a2589712829426492352fce8dc8d2ee": {
      "model_module": "@jupyter-widgets/controls",
      "model_module_version": "1.2.0",
      "model_name": "DescriptionStyleModel",
      "state": {
       "description_width": "initial"
      }
     },
     "9a93fd1301f14d16a3ce44cf3e578d0a": {
      "model_module": "@jupyter-widgets/base",
      "model_module_version": "1.0.0",
      "model_name": "LayoutModel",
      "state": {}
     },
     "9ae30b2755e34480bcba6b854a93d721": {
      "model_module": "@jupyter-widgets/controls",
      "model_module_version": "1.2.0",
      "model_name": "CheckboxModel",
      "state": {
       "description": "Verbzweitstellung",
       "disabled": false,
       "layout": "IPY_MODEL_e2b4cd176c174e46b6cb2e22d592bc3c",
       "style": "IPY_MODEL_a1cb0eda76c84eec82fb14c82c02c3f3",
       "value": false
      }
     },
     "9ae42971f6d04075925d04754cb1f5be": {
      "model_module": "@jupyter-widgets/controls",
      "model_module_version": "1.2.0",
      "model_name": "HTMLModel",
      "state": {
       "layout": "IPY_MODEL_e8c45ddc2d954005845ffceef9fce422",
       "style": "IPY_MODEL_077c83771fa442b79f80141f76e5bf24",
       "value": "<i>Markieren Sie <ins>alle</ins> passenden Antworten: </i>"
      }
     },
     "9aefd71f76fb4393842cba06791d0b99": {
      "model_module": "@jupyter-widgets/controls",
      "model_module_version": "1.2.0",
      "model_name": "DescriptionStyleModel",
      "state": {
       "description_width": "initial"
      }
     },
     "9b02726daa1043279c2ff654d1fb15d6": {
      "model_module": "@jupyter-widgets/controls",
      "model_module_version": "1.2.0",
      "model_name": "ButtonModel",
      "state": {
       "description": "Aufforderungssatz",
       "layout": "IPY_MODEL_066e3ef3e96c4cf5a79010d8e3eec7d7",
       "style": "IPY_MODEL_999ea141e8954c05867ce9dba1147c64"
      }
     },
     "9b0b41ab9e2e4aeca174367c37aa0f38": {
      "model_module": "@jupyter-widgets/base",
      "model_module_version": "1.0.0",
      "model_name": "LayoutModel",
      "state": {
       "width": "250px"
      }
     },
     "9b81eb9dc0c640d89366af0d2c5d366c": {
      "model_module": "@jupyter-widgets/controls",
      "model_module_version": "1.2.0",
      "model_name": "DescriptionStyleModel",
      "state": {
       "description_width": ""
      }
     },
     "9ba1976860b14951bba3b46c392ac448": {
      "model_module": "@jupyter-widgets/controls",
      "model_module_version": "1.2.0",
      "model_name": "CheckboxModel",
      "state": {
       "description": "zu",
       "disabled": false,
       "layout": "IPY_MODEL_6014e9f57e1e47ac9bcdfa3d2bfa4ca4",
       "style": "IPY_MODEL_ab25f97953e44817af26ce68fc3a9fba",
       "value": false
      }
     },
     "9bae1d7846e949ccbe8f1e9169c40593": {
      "model_module": "@jupyter-widgets/base",
      "model_module_version": "1.0.0",
      "model_name": "LayoutModel",
      "state": {
       "width": "250px"
      }
     },
     "9be64cac3b5d4b9db852da63280aabab": {
      "model_module": "@jupyter-widgets/controls",
      "model_module_version": "1.2.0",
      "model_name": "ButtonModel",
      "state": {
       "description": "Korrekt?",
       "layout": "IPY_MODEL_c7f1716f2e7f4536bc9acd63e5431472",
       "style": "IPY_MODEL_b4618230573c47999ce1e9d74d8206e8"
      }
     },
     "9c242805659a46f5b905b4644c920b3e": {
      "model_module": "@jupyter-widgets/controls",
      "model_module_version": "1.2.0",
      "model_name": "DescriptionStyleModel",
      "state": {
       "description_width": ""
      }
     },
     "9c2ba8893056404db43a413f30b7f2c0": {
      "model_module": "@jupyter-widgets/base",
      "model_module_version": "1.0.0",
      "model_name": "LayoutModel",
      "state": {
       "width": "600px"
      }
     },
     "9c498985b5434241b184ce101ee24d4e": {
      "model_module": "@jupyter-widgets/controls",
      "model_module_version": "1.2.0",
      "model_name": "DescriptionStyleModel",
      "state": {
       "description_width": "initial"
      }
     },
     "9c5f15fd3d1b456899c84da1f6b2932d": {
      "model_module": "@jupyter-widgets/controls",
      "model_module_version": "1.2.0",
      "model_name": "ButtonStyleModel",
      "state": {
       "button_color": "lightgreen"
      }
     },
     "9ca65b3a77704af995cd94edcf3e4fc2": {
      "model_module": "@jupyter-widgets/controls",
      "model_module_version": "1.2.0",
      "model_name": "VBoxModel",
      "state": {
       "children": [
        "IPY_MODEL_c776c969b2db46b2b88ee232f32e9969",
        "IPY_MODEL_f56b0b99278544e4bf9ec5f9af654793",
        "IPY_MODEL_da44fb0f0b2147fb9d9dda2d7644a5aa",
        "IPY_MODEL_a48d3c41e7d348a18f50038b704091b4",
        "IPY_MODEL_cb8cde58894a420c8693df4da64c708f",
        "IPY_MODEL_0da95c73fb1b479c9950448514e407e2",
        "IPY_MODEL_4177258e45c049febd0a3fbf1c9d39d6",
        "IPY_MODEL_9ba1976860b14951bba3b46c392ac448"
       ],
       "layout": "IPY_MODEL_97e6e9fb6a0042cda156849805972149"
      }
     },
     "9ccba032ac2245dab5f2a4ac66fa1b02": {
      "model_module": "@jupyter-widgets/controls",
      "model_module_version": "1.2.0",
      "model_name": "DescriptionStyleModel",
      "state": {
       "description_width": "initial"
      }
     },
     "9cfe33d35f2f40a1828a1f87bdcd1b89": {
      "model_module": "@jupyter-widgets/base",
      "model_module_version": "1.0.0",
      "model_name": "LayoutModel",
      "state": {
       "width": "500px"
      }
     },
     "9d134d6a6b8346d186b9669bc3f6a111": {
      "model_module": "@jupyter-widgets/controls",
      "model_module_version": "1.2.0",
      "model_name": "ButtonStyleModel",
      "state": {
       "button_color": "lightgreen"
      }
     },
     "9d99b69a913b4b1884621233c57bef18": {
      "model_module": "@jupyter-widgets/controls",
      "model_module_version": "1.2.0",
      "model_name": "DescriptionStyleModel",
      "state": {
       "description_width": ""
      }
     },
     "9dad9bc5fbab4eb4a775aee84797a490": {
      "model_module": "@jupyter-widgets/base",
      "model_module_version": "1.0.0",
      "model_name": "LayoutModel",
      "state": {
       "width": "600px"
      }
     },
     "9ddccb131f30451f9adf4df212f66710": {
      "model_module": "@jupyter-widgets/controls",
      "model_module_version": "1.2.0",
      "model_name": "DescriptionStyleModel",
      "state": {
       "description_width": "initial"
      }
     },
     "9e0c75aebde54b428ce14b7c6c08f7ab": {
      "model_module": "@jupyter-widgets/controls",
      "model_module_version": "1.2.0",
      "model_name": "CheckboxModel",
      "state": {
       "description": "Modus: Indikativ",
       "disabled": false,
       "layout": "IPY_MODEL_f7ebf674cf4344ec8f4c622b4ce1c155",
       "style": "IPY_MODEL_028725ef3b854968a8bf3b9979c8ecba",
       "value": false
      }
     },
     "9e6bd0244f9448dbae9c20d2aa6966d4": {
      "model_module": "@jupyter-widgets/base",
      "model_module_version": "1.0.0",
      "model_name": "LayoutModel",
      "state": {}
     },
     "9ec27bf3e0e24569b5b44be71ed53972": {
      "model_module": "@jupyter-widgets/controls",
      "model_module_version": "1.2.0",
      "model_name": "DescriptionStyleModel",
      "state": {
       "description_width": "initial"
      }
     },
     "9ef64d2c21f6476da475ed3865e03501": {
      "model_module": "@jupyter-widgets/controls",
      "model_module_version": "1.2.0",
      "model_name": "DescriptionStyleModel",
      "state": {
       "description_width": ""
      }
     },
     "9f162727c79b490fb736a37009851a88": {
      "model_module": "@jupyter-widgets/controls",
      "model_module_version": "1.2.0",
      "model_name": "DescriptionStyleModel",
      "state": {
       "description_width": "initial"
      }
     },
     "9f435925fdf44cc4909a200dab005a1b": {
      "model_module": "@jupyter-widgets/base",
      "model_module_version": "1.0.0",
      "model_name": "LayoutModel",
      "state": {
       "width": "250px"
      }
     },
     "9f5dcaa4a4af436d81b5951c4973cb97": {
      "model_module": "@jupyter-widgets/controls",
      "model_module_version": "1.2.0",
      "model_name": "CheckboxModel",
      "state": {
       "description": "Adverbialsatz: <i>er tanzte, bis ...</i>",
       "disabled": false,
       "layout": "IPY_MODEL_a4e5045b93714cf7aba9c71345b9dc73",
       "style": "IPY_MODEL_0f22506a77ba4daeb6725fb2a35b363b",
       "value": false
      }
     },
     "9f70abcde0e74bcb919d025d936fc12f": {
      "model_module": "@jupyter-widgets/controls",
      "model_module_version": "1.2.0",
      "model_name": "DescriptionStyleModel",
      "state": {
       "description_width": ""
      }
     },
     "9f7a374a8a7845f3af9bbb7ad5d094a8": {
      "model_module": "@jupyter-widgets/controls",
      "model_module_version": "1.2.0",
      "model_name": "CheckboxModel",
      "state": {
       "description": "Buch",
       "disabled": false,
       "layout": "IPY_MODEL_ea25f844b2654788926830623a4bd5f1",
       "style": "IPY_MODEL_765793b7c0eb4fb5ac86521bb0541ace",
       "value": false
      }
     },
     "9f863d96f79c41e2854443e8e196bf9d": {
      "model_module": "@jupyter-widgets/controls",
      "model_module_version": "1.2.0",
      "model_name": "CheckboxModel",
      "state": {
       "description": "Relativsatz (<code>acl:relcl</code>)",
       "disabled": false,
       "layout": "IPY_MODEL_ce26178830554ed683db68db557446fa",
       "style": "IPY_MODEL_64f75f87e3cd49f9892bd0d472d6a20d",
       "value": true
      }
     },
     "9fa53892bf6d40d08029a1337a0adc2f": {
      "model_module": "@jupyter-widgets/controls",
      "model_module_version": "1.2.0",
      "model_name": "ButtonStyleModel",
      "state": {
       "button_color": "lightgreen"
      }
     },
     "9ff2519a597d4ab5a8953f73929f9c97": {
      "model_module": "@jupyter-widgets/controls",
      "model_module_version": "1.2.0",
      "model_name": "DescriptionStyleModel",
      "state": {
       "description_width": "initial"
      }
     },
     "a0426097a82c47ad98e3726e6cc5ceb6": {
      "model_module": "@jupyter-widgets/base",
      "model_module_version": "1.0.0",
      "model_name": "LayoutModel",
      "state": {
       "width": "600px"
      }
     },
     "a0455abfc141431794f4ac84c46b75e7": {
      "model_module": "@jupyter-widgets/controls",
      "model_module_version": "1.2.0",
      "model_name": "DescriptionStyleModel",
      "state": {
       "description_width": "initial"
      }
     },
     "a10ce0d5a07742c2a48dbf051d3ec0b1": {
      "model_module": "@jupyter-widgets/controls",
      "model_module_version": "1.2.0",
      "model_name": "ButtonModel",
      "state": {
       "description": "Korrekt?",
       "layout": "IPY_MODEL_cb72e82a6d5741b685ea6883f10ec845",
       "style": "IPY_MODEL_b2f152c0348148ddb89d9b33eae8e0df"
      }
     },
     "a115e02ac59145969dd93f8baaf39997": {
      "model_module": "@jupyter-widgets/controls",
      "model_module_version": "1.2.0",
      "model_name": "VBoxModel",
      "state": {
       "children": [
        "IPY_MODEL_19a8593badfa4b3e9ec29cfcdbe43c94",
        "IPY_MODEL_12179e9325e148bd870e7ecd3a03c6e8"
       ],
       "layout": "IPY_MODEL_447fc52ada4f47a88023b0a7ed8bed31"
      }
     },
     "a11980a0009c48ce84a4f390989e0ebe": {
      "model_module": "@jupyter-widgets/controls",
      "model_module_version": "1.2.0",
      "model_name": "DescriptionStyleModel",
      "state": {
       "description_width": "initial"
      }
     },
     "a168065627c54ebb86809c9d6633adaf": {
      "model_module": "@jupyter-widgets/controls",
      "model_module_version": "1.2.0",
      "model_name": "HTMLModel",
      "state": {
       "layout": "IPY_MODEL_1dd7d4d00de749c2bd4ab577b0f560de",
       "style": "IPY_MODEL_160cd742238b4b0b88af46bdae761a29",
       "value": "<h4 style=\"font-size:14px;\">Welche Satzteile sind Nebensätze?</h4>"
      }
     },
     "a198c9c1050241ba901255054d13c028": {
      "model_module": "@jupyter-widgets/controls",
      "model_module_version": "1.2.0",
      "model_name": "DescriptionStyleModel",
      "state": {
       "description_width": "initial"
      }
     },
     "a1c8aebe1a7941c5bacc69df8643cf76": {
      "model_module": "@jupyter-widgets/controls",
      "model_module_version": "1.2.0",
      "model_name": "DescriptionStyleModel",
      "state": {
       "description_width": "initial"
      }
     },
     "a1cb0eda76c84eec82fb14c82c02c3f3": {
      "model_module": "@jupyter-widgets/controls",
      "model_module_version": "1.2.0",
      "model_name": "DescriptionStyleModel",
      "state": {
       "description_width": "initial"
      }
     },
     "a1d0ac93693a48f18b1dc8306aed65fa": {
      "model_module": "@jupyter-widgets/controls",
      "model_module_version": "1.2.0",
      "model_name": "VBoxModel",
      "state": {
       "children": [
        "IPY_MODEL_18cffbc4e1cd497a8c3daddb18890720",
        "IPY_MODEL_ff54d149dd764ffe81ab238b2afbc44f"
       ],
       "layout": "IPY_MODEL_06c42b3cb72449358b280c901b8ad4e9"
      }
     },
     "a1dc3acbf3e44936b9e45b455d742178": {
      "model_module": "@jupyter-widgets/controls",
      "model_module_version": "1.2.0",
      "model_name": "ButtonStyleModel",
      "state": {}
     },
     "a1f1cc50528a467d8c3f4f8559f46795": {
      "model_module": "@jupyter-widgets/base",
      "model_module_version": "1.0.0",
      "model_name": "LayoutModel",
      "state": {
       "width": "600px"
      }
     },
     "a2122ab9f7e34f178c96a6f22304a325": {
      "model_module": "@jupyter-widgets/controls",
      "model_module_version": "1.2.0",
      "model_name": "CheckboxModel",
      "state": {
       "description": "Es handelt sich kommunikativ um eine Aufforderung.",
       "disabled": false,
       "layout": "IPY_MODEL_1f047803ce524e4da9cf0e53793ab225",
       "style": "IPY_MODEL_e86969d6d35a4fa7b4367c5bf994e076",
       "value": false
      }
     },
     "a21bcb4a0e064f80a5fe8fff850ea2a6": {
      "model_module": "@jupyter-widgets/controls",
      "model_module_version": "1.2.0",
      "model_name": "ButtonModel",
      "state": {
       "description": "Keine der anderen Möglichkeiten",
       "layout": "IPY_MODEL_60f58260e9ec4805aa18ffb9f7c2f983",
       "style": "IPY_MODEL_0998c52d13a449d290f2a933ae48e29b"
      }
     },
     "a2664d95e2bd4bb4a432abd4d4acd9e5": {
      "model_module": "@jupyter-widgets/controls",
      "model_module_version": "1.2.0",
      "model_name": "CheckboxModel",
      "state": {
       "description": "damit sie ...",
       "disabled": false,
       "layout": "IPY_MODEL_905d1de1aa474e20b5f533f76bc4b75e",
       "style": "IPY_MODEL_3147502afb7a4562902524ff4cfe2a85",
       "value": true
      }
     },
     "a27c5daaf0b24863a13c5070949319f1": {
      "model_module": "@jupyter-widgets/controls",
      "model_module_version": "1.2.0",
      "model_name": "ButtonModel",
      "state": {
       "description": "Satz 2",
       "layout": "IPY_MODEL_c8dd9eff357b46b0afabc3f8e10aee00",
       "style": "IPY_MODEL_f04eaf69b42f4ef09fbf8b52a93ee8f8"
      }
     },
     "a29ed0d8948841ca87d7f410ad548348": {
      "model_module": "@jupyter-widgets/controls",
      "model_module_version": "1.2.0",
      "model_name": "HBoxModel",
      "state": {
       "children": [
        "IPY_MODEL_c1d8bc80c673482fbe8f88e3eb77d025",
        "IPY_MODEL_5ded81cee25f4ae2b6b5906bd31c8d0a"
       ],
       "layout": "IPY_MODEL_ab5affe0173e47d89163101aa8da12b9"
      }
     },
     "a2a40cb1803f4b38ae70715826e80c11": {
      "model_module": "@jupyter-widgets/controls",
      "model_module_version": "1.2.0",
      "model_name": "HTMLModel",
      "state": {
       "layout": "IPY_MODEL_eed99c967992489fa80a9bf17ae7b5ea",
       "style": "IPY_MODEL_c75ad9c75d464a53be5657bb1c91a6c5",
       "value": "<h4 style=\"font-size:14px;\">Welche Form der Kontrolle liegt in folgendem Satz vor: <i>Sie überreden ihn, nach München zu fahren</i>?</h4>"
      }
     },
     "a2ef5ed73125458a9a3c8781bb324da8": {
      "model_module": "@jupyter-widgets/controls",
      "model_module_version": "1.2.0",
      "model_name": "ButtonModel",
      "state": {
       "description": "Der Nebensatz steht im Nachfeld.",
       "layout": "IPY_MODEL_b4b5951d3e65483eae5426e34199f15d",
       "style": "IPY_MODEL_fc3b371cdd2c4b9baa2684908063a1b3"
      }
     },
     "a3364e12285246459576d35a2c67b5a4": {
      "model_module": "@jupyter-widgets/controls",
      "model_module_version": "1.2.0",
      "model_name": "CheckboxModel",
      "state": {
       "description": "Das Mittelfeld ist unbesetzt.",
       "disabled": false,
       "layout": "IPY_MODEL_a3c3c968693d43b08c6bb10a4493f5fc",
       "style": "IPY_MODEL_d647dd7e80df47b8a005b4c3555bda04",
       "value": false
      }
     },
     "a36696fd60b940faa3f9399e4cbce3ce": {
      "model_module": "@jupyter-widgets/base",
      "model_module_version": "1.0.0",
      "model_name": "LayoutModel",
      "state": {
       "width": "600px"
      }
     },
     "a374b3ab9c5e4891b18e3d4168b70a91": {
      "model_module": "@jupyter-widgets/controls",
      "model_module_version": "1.2.0",
      "model_name": "ButtonStyleModel",
      "state": {}
     },
     "a3c3c968693d43b08c6bb10a4493f5fc": {
      "model_module": "@jupyter-widgets/base",
      "model_module_version": "1.0.0",
      "model_name": "LayoutModel",
      "state": {
       "width": "600px"
      }
     },
     "a3ec8aab448542d9b309b7d0c32de1e6": {
      "model_module": "@jupyter-widgets/controls",
      "model_module_version": "1.2.0",
      "model_name": "DescriptionStyleModel",
      "state": {
       "description_width": "initial"
      }
     },
     "a43ba2fed4ac429692977d945ab7e599": {
      "model_module": "@jupyter-widgets/controls",
      "model_module_version": "1.2.0",
      "model_name": "HTMLModel",
      "state": {
       "layout": "IPY_MODEL_eb242543f8574c559dd075db7eeb6c44",
       "style": "IPY_MODEL_fce38bbef4284433b758647f8107076c",
       "value": "<i>Wählen Sie die <ins>eine</ins> korrekte Antwort aus: </i>"
      }
     },
     "a44bdcca47084db381d2726198c01e5a": {
      "model_module": "@jupyter-widgets/base",
      "model_module_version": "1.0.0",
      "model_name": "LayoutModel",
      "state": {
       "width": "250px"
      }
     },
     "a47a09a17f78404e9398a7f00c2c6224": {
      "model_module": "@jupyter-widgets/controls",
      "model_module_version": "1.2.0",
      "model_name": "HBoxModel",
      "state": {
       "children": [
        "IPY_MODEL_4e6d75fd6f3042d7aaa4cd1458952654",
        "IPY_MODEL_c36a38a1d39d4cb4bc6140ea3745739e"
       ],
       "layout": "IPY_MODEL_a58dae9be2c14c36ada83763a4081fcf"
      }
     },
     "a48d3c41e7d348a18f50038b704091b4": {
      "model_module": "@jupyter-widgets/controls",
      "model_module_version": "1.2.0",
      "model_name": "CheckboxModel",
      "state": {
       "description": "das",
       "disabled": false,
       "layout": "IPY_MODEL_eb142c631904459cbf3551192ebc67bb",
       "style": "IPY_MODEL_09c6cf577f714a3dbdaad1e7dd1b0c75",
       "value": false
      }
     },
     "a4e5045b93714cf7aba9c71345b9dc73": {
      "model_module": "@jupyter-widgets/base",
      "model_module_version": "1.0.0",
      "model_name": "LayoutModel",
      "state": {
       "width": "600px"
      }
     },
     "a4ee0c736e8d418f8a7ff0bb943b5517": {
      "model_module": "@jupyter-widgets/base",
      "model_module_version": "1.0.0",
      "model_name": "LayoutModel",
      "state": {
       "width": "250px"
      }
     },
     "a4f5def15b024e36b31590a01776f476": {
      "model_module": "@jupyter-widgets/base",
      "model_module_version": "1.0.0",
      "model_name": "LayoutModel",
      "state": {
       "width": "600px"
      }
     },
     "a53e5cc413ed45428d4531394ee5182b": {
      "model_module": "@jupyter-widgets/controls",
      "model_module_version": "1.2.0",
      "model_name": "HTMLModel",
      "state": {
       "layout": "IPY_MODEL_fc244453cfff4ff5844845154ef736ce",
       "style": "IPY_MODEL_246342ebca754b8e885dbf363a76fd9d",
       "value": "<i>Markieren Sie <ins>alle</ins> passenden Antworten: </i>"
      }
     },
     "a54747412b3948e8b5b341c8a708a885": {
      "model_module": "@jupyter-widgets/controls",
      "model_module_version": "1.2.0",
      "model_name": "CheckboxModel",
      "state": {
       "description": "hat",
       "disabled": false,
       "layout": "IPY_MODEL_dc2f4e039db64fababd813e4c5d092a7",
       "style": "IPY_MODEL_d471c8a49d794938be8c88bdd460ca85",
       "value": false
      }
     },
     "a58dae9be2c14c36ada83763a4081fcf": {
      "model_module": "@jupyter-widgets/base",
      "model_module_version": "1.0.0",
      "model_name": "LayoutModel",
      "state": {}
     },
     "a5916144440f42f98e799282a5d7355d": {
      "model_module": "@jupyter-widgets/base",
      "model_module_version": "1.0.0",
      "model_name": "LayoutModel",
      "state": {}
     },
     "a6123031a96c41168e64fc56352a1282": {
      "model_module": "@jupyter-widgets/controls",
      "model_module_version": "1.2.0",
      "model_name": "VBoxModel",
      "state": {
       "children": [
        "IPY_MODEL_b83c20daf9304a799b045694260f7908",
        "IPY_MODEL_ad7f078a567f43298b3fe90080d53461",
        "IPY_MODEL_9ca65b3a77704af995cd94edcf3e4fc2",
        "IPY_MODEL_caa69f78651d4e00988bd923a1ea490e"
       ],
       "layout": "IPY_MODEL_3dcf446a33f54719a4d9faf9b3c4cb3e"
      }
     },
     "a633d01477604c26bc450c9d8bbabe2d": {
      "model_module": "@jupyter-widgets/base",
      "model_module_version": "1.0.0",
      "model_name": "LayoutModel",
      "state": {
       "justify_content": "center"
      }
     },
     "a63c17ed007a4c7eb110527077382c1d": {
      "model_module": "@jupyter-widgets/controls",
      "model_module_version": "1.2.0",
      "model_name": "VBoxModel",
      "state": {
       "children": [
        "IPY_MODEL_4a02c0a73c4a4c68b8aa5b46cdd438d7",
        "IPY_MODEL_87670efb95f840dd94fe165761b92c0d",
        "IPY_MODEL_94a1036699d840648f0a483c6dca50e0",
        "IPY_MODEL_bff9057c3b474f6492e30c3694b39f8c"
       ],
       "layout": "IPY_MODEL_8430db5a962948af8809f1fd4ffaa8bf"
      }
     },
     "a6692cebd4eb433eb77d84c4bd7d5c6b": {
      "model_module": "@jupyter-widgets/base",
      "model_module_version": "1.0.0",
      "model_name": "LayoutModel",
      "state": {}
     },
     "a6e70a9e0c7a41b7822cdc6e19473f2d": {
      "model_module": "@jupyter-widgets/controls",
      "model_module_version": "1.2.0",
      "model_name": "ButtonModel",
      "state": {
       "description": "aux",
       "layout": "IPY_MODEL_c74de90d44ba4e9d9f2e537812eadcb9",
       "style": "IPY_MODEL_5a940ea612c246f9a2f5abbbb77e640f"
      }
     },
     "a70ea14c7b1648e4b9af814b18fa099b": {
      "model_module": "@jupyter-widgets/controls",
      "model_module_version": "1.2.0",
      "model_name": "DropdownModel",
      "state": {
       "_options_labels": [
        "Adverbialsatz",
        "Attributsatz",
        "Keine der Alternativen",
        "Komplementsatz",
        "Matrixsatz"
       ],
       "description": "Antwort:",
       "index": 1,
       "layout": "IPY_MODEL_46b70ed5caaa478ebaafd9b9073f2590",
       "style": "IPY_MODEL_36030d922931440cb7fb2b49b97e1149"
      }
     },
     "a72844854fcb44cd9cacada450534f82": {
      "model_module": "@jupyter-widgets/controls",
      "model_module_version": "1.2.0",
      "model_name": "VBoxModel",
      "state": {
       "children": [
        "IPY_MODEL_d77e5a4ec84641f78b9dc6b4c77c806a",
        "IPY_MODEL_c74f556e85844d8c9bede2f5f37b8e45",
        "IPY_MODEL_c700c5f226a24d30937c658c1d409963",
        "IPY_MODEL_263c8fab2b3a4f9181207d4a64545c9d"
       ],
       "layout": "IPY_MODEL_213828bc25e047e1b6b78837e341f211"
      }
     },
     "a72857184d9a453480081ee8dff88044": {
      "model_module": "@jupyter-widgets/base",
      "model_module_version": "1.0.0",
      "model_name": "LayoutModel",
      "state": {
       "width": "600px"
      }
     },
     "a75cf33d8701406e931e58b60cea4921": {
      "model_module": "@jupyter-widgets/controls",
      "model_module_version": "1.2.0",
      "model_name": "HTMLModel",
      "state": {
       "layout": "IPY_MODEL_1043c3728b9e49ed8a8c6c6f2cd918ba",
       "style": "IPY_MODEL_5889a7d68cec4e34a79e7d2b6a83d4f6",
       "value": "<h4 style=\"font-size:14px;\">Was für eine Satzkonstruktion liegt hier vor?</h4>"
      }
     },
     "a75eebd457c844938814744523f1a032": {
      "model_module": "@jupyter-widgets/controls",
      "model_module_version": "1.2.0",
      "model_name": "CheckboxModel",
      "state": {
       "description": "Ein Lied",
       "disabled": false,
       "layout": "IPY_MODEL_301ed6e1ca004dbda59b79b83ebc29ea",
       "style": "IPY_MODEL_33b7403338ac484683986b7585725f17",
       "value": false
      }
     },
     "a7b690100bbf4116ad917a5874d1b4c7": {
      "model_module": "@jupyter-widgets/controls",
      "model_module_version": "1.2.0",
      "model_name": "DescriptionStyleModel",
      "state": {
       "description_width": ""
      }
     },
     "a7bc444fc8984c30a59819084b92d193": {
      "model_module": "@jupyter-widgets/base",
      "model_module_version": "1.0.0",
      "model_name": "LayoutModel",
      "state": {
       "justify_content": "center"
      }
     },
     "a7d4a67e96f54af39b18074565bf8eb6": {
      "model_module": "@jupyter-widgets/base",
      "model_module_version": "1.0.0",
      "model_name": "LayoutModel",
      "state": {}
     },
     "a812cbc9125f4829b93356a2d38a4c18": {
      "model_module": "@jupyter-widgets/controls",
      "model_module_version": "1.2.0",
      "model_name": "ButtonModel",
      "state": {
       "description": "Korrekt?",
       "layout": "IPY_MODEL_27fde34eb91b4a969c9339fda5853d39",
       "style": "IPY_MODEL_5be12f23bae84282b835efaee9c903b5"
      }
     },
     "a8322b7593fc4615a20a7e8cba62882d": {
      "model_module": "@jupyter-widgets/controls",
      "model_module_version": "1.2.0",
      "model_name": "CheckboxModel",
      "state": {
       "description": "das",
       "disabled": false,
       "layout": "IPY_MODEL_d670174b0c884d4989206095ce7f66e8",
       "style": "IPY_MODEL_7647d673b60d46d09fb02888cd33e3ad",
       "value": true
      }
     },
     "a88c49674c9649a18a5b883ce9c1dc27": {
      "model_module": "@jupyter-widgets/controls",
      "model_module_version": "1.2.0",
      "model_name": "DescriptionStyleModel",
      "state": {
       "description_width": "initial"
      }
     },
     "a8eaefc8fed94fbfba05884be52bda8c": {
      "model_module": "@jupyter-widgets/base",
      "model_module_version": "1.0.0",
      "model_name": "LayoutModel",
      "state": {
       "width": "500px"
      }
     },
     "a904900d1ce84586b091314265d97881": {
      "model_module": "@jupyter-widgets/base",
      "model_module_version": "1.0.0",
      "model_name": "LayoutModel",
      "state": {
       "width": "250px"
      }
     },
     "a91e6945699644b8ae09714033888f20": {
      "model_module": "@jupyter-widgets/controls",
      "model_module_version": "1.2.0",
      "model_name": "DescriptionStyleModel",
      "state": {
       "description_width": ""
      }
     },
     "a951b06f0fed42a0b9c52443cffdd4af": {
      "model_module": "@jupyter-widgets/controls",
      "model_module_version": "1.2.0",
      "model_name": "HTMLModel",
      "state": {
       "layout": "IPY_MODEL_0deac1e8059347f29f23303efbbf4c45",
       "style": "IPY_MODEL_f0e013b35f0542fb90a6fb52a1d3792c",
       "value": "<h4 style=\"font-size:14px;\">Welcher eingebettete Satztyp liegt vor?</h4>"
      }
     },
     "a971426fea0b44019addda2a3b23f2d2": {
      "model_module": "@jupyter-widgets/controls",
      "model_module_version": "1.2.0",
      "model_name": "ButtonModel",
      "state": {
       "description": "Satz 2",
       "layout": "IPY_MODEL_046d45df413e4535882f35752bbc6de1",
       "style": "IPY_MODEL_080d7f1aa3c843e987aafa73c73ccae7"
      }
     },
     "a989cfd99660491182503fd16e0e1ebc": {
      "model_module": "@jupyter-widgets/controls",
      "model_module_version": "1.2.0",
      "model_name": "CheckboxModel",
      "state": {
       "description": "heute",
       "disabled": false,
       "layout": "IPY_MODEL_71bea86b321c4b24b8f73269c91d0ae4",
       "style": "IPY_MODEL_7cd0458633fd4ead94dd82b4b6dd6040",
       "value": false
      }
     },
     "a98c262d490e443988351b245d2dba8d": {
      "model_module": "@jupyter-widgets/base",
      "model_module_version": "1.0.0",
      "model_name": "LayoutModel",
      "state": {
       "width": "250px"
      }
     },
     "a9924cab0b484891be68b72fa820825e": {
      "model_module": "@jupyter-widgets/base",
      "model_module_version": "1.0.0",
      "model_name": "LayoutModel",
      "state": {}
     },
     "a9925ae1158d4b08bd4c1ec599c83a7a": {
      "model_module": "@jupyter-widgets/base",
      "model_module_version": "1.0.0",
      "model_name": "LayoutModel",
      "state": {
       "width": "250px"
      }
     },
     "a9b73c5d3b4945ea88b23eacc83a794b": {
      "model_module": "@jupyter-widgets/base",
      "model_module_version": "1.0.0",
      "model_name": "LayoutModel",
      "state": {}
     },
     "a9c19ba1ee2a4938b41f1b5530fc782d": {
      "model_module": "@jupyter-widgets/controls",
      "model_module_version": "1.2.0",
      "model_name": "HTMLModel",
      "state": {
       "layout": "IPY_MODEL_50a727744fd445d9924cb4fbfba2b836",
       "style": "IPY_MODEL_01e3889e2cab40319306ec9e247cdda3",
       "value": "<i>Wählen Sie die <ins>eine</ins> korrekte Antwort aus: </i>"
      }
     },
     "aab29f89761b41a286690f734f18b95e": {
      "model_module": "@jupyter-widgets/base",
      "model_module_version": "1.0.0",
      "model_name": "LayoutModel",
      "state": {
       "width": "600px"
      }
     },
     "aaf9637536c34280b89680c7132b00e0": {
      "model_module": "@jupyter-widgets/controls",
      "model_module_version": "1.2.0",
      "model_name": "DescriptionStyleModel",
      "state": {
       "description_width": "initial"
      }
     },
     "ab25f97953e44817af26ce68fc3a9fba": {
      "model_module": "@jupyter-widgets/controls",
      "model_module_version": "1.2.0",
      "model_name": "DescriptionStyleModel",
      "state": {
       "description_width": "initial"
      }
     },
     "ab5affe0173e47d89163101aa8da12b9": {
      "model_module": "@jupyter-widgets/base",
      "model_module_version": "1.0.0",
      "model_name": "LayoutModel",
      "state": {}
     },
     "abc34c40c0e745cc9c148320a06c26cf": {
      "model_module": "@jupyter-widgets/controls",
      "model_module_version": "1.2.0",
      "model_name": "HTMLModel",
      "state": {
       "layout": "IPY_MODEL_f3bb5121db8449d68f3bb1466f4d17a8",
       "style": "IPY_MODEL_2dc7debcbce3447499a7554adfdd291b",
       "value": "<i>Wählen Sie die <ins>eine</ins> korrekte Antwort aus: </i>"
      }
     },
     "abe17e744bfc49e2a7b2a304f4e003c9": {
      "model_module": "@jupyter-widgets/base",
      "model_module_version": "1.0.0",
      "model_name": "LayoutModel",
      "state": {
       "justify_content": "center"
      }
     },
     "abe70317c1a549c6a74bce4f665f9b4a": {
      "model_module": "@jupyter-widgets/base",
      "model_module_version": "1.0.0",
      "model_name": "LayoutModel",
      "state": {
       "justify_content": "center"
      }
     },
     "ac0f8b5242094b20aa1416b3422518b9": {
      "model_module": "@jupyter-widgets/controls",
      "model_module_version": "1.2.0",
      "model_name": "DescriptionStyleModel",
      "state": {
       "description_width": "initial"
      }
     },
     "ac4b48c9c78d41d3ae769b52881e753f": {
      "model_module": "@jupyter-widgets/controls",
      "model_module_version": "1.2.0",
      "model_name": "ButtonModel",
      "state": {
       "description": "Satz 2",
       "layout": "IPY_MODEL_fa5e3e156b964e2b90f1ba52b03e9124",
       "style": "IPY_MODEL_bf74e928ffa94c15a01f4940b29ae419"
      }
     },
     "acb63e7c63f44752aa4586e81b1203ff": {
      "model_module": "@jupyter-widgets/controls",
      "model_module_version": "1.2.0",
      "model_name": "ButtonModel",
      "state": {
       "description": "koordiniert",
       "layout": "IPY_MODEL_3dc87500896f4614a45e0d9988bf664b",
       "style": "IPY_MODEL_4d69ca39339640bf89dd559651afae13"
      }
     },
     "ad7f078a567f43298b3fe90080d53461": {
      "model_module": "@jupyter-widgets/controls",
      "model_module_version": "1.2.0",
      "model_name": "HTMLModel",
      "state": {
       "layout": "IPY_MODEL_833ea84cb4aa497493beace6bd5cd009",
       "style": "IPY_MODEL_4a688d81c8494442a35644221ddc76c1",
       "value": "<i>Markieren Sie <ins>alle</ins> passenden Antworten: </i>"
      }
     },
     "ada1c2a8ab2f4d8e8ed8b259482d215f": {
      "model_module": "@jupyter-widgets/controls",
      "model_module_version": "1.2.0",
      "model_name": "HTMLModel",
      "state": {
       "layout": "IPY_MODEL_fef9b54bd0fb4bd3b4fac17c41c1414f",
       "style": "IPY_MODEL_07f111c59eae4c26b4b94e00ef91efae",
       "value": "<i>Markieren Sie <ins>alle</ins> passenden Antworten: </i>"
      }
     },
     "ae525a3e61ac46e48d3f90243c9e1b2a": {
      "model_module": "@jupyter-widgets/controls",
      "model_module_version": "1.2.0",
      "model_name": "HTMLModel",
      "state": {
       "layout": "IPY_MODEL_5b5c113a83fe46a38faa703420681a59",
       "style": "IPY_MODEL_1f69d154765e4187b946d583f5f45b61",
       "value": "<h4 style=\"font-size:14px;\">Welche Wörter sind Teil der rechten Satzklammer?</h4>"
      }
     },
     "aeb0bc60145145aa84d26a9338535751": {
      "model_module": "@jupyter-widgets/controls",
      "model_module_version": "1.2.0",
      "model_name": "HBoxModel",
      "state": {
       "children": [
        "IPY_MODEL_2850e15282ba4529a5417b646e7998f3"
       ],
       "layout": "IPY_MODEL_3ac8fda2906f4680851b0adef699cfaa"
      }
     },
     "aedd6817444c488fb5e3d0aac4989479": {
      "model_module": "@jupyter-widgets/base",
      "model_module_version": "1.0.0",
      "model_name": "LayoutModel",
      "state": {}
     },
     "af3eaf0ad6344aa59517fd6db42cd010": {
      "model_module": "@jupyter-widgets/controls",
      "model_module_version": "1.2.0",
      "model_name": "CheckboxModel",
      "state": {
       "description": "linke Satzklammer",
       "disabled": false,
       "layout": "IPY_MODEL_f0929f7b512c4a3bb93766708cfd48cd",
       "style": "IPY_MODEL_1ae2edba69964c7ab56515745570bef8",
       "value": true
      }
     },
     "af641fa5317f473b853499f5547dcd73": {
      "model_module": "@jupyter-widgets/base",
      "model_module_version": "1.0.0",
      "model_name": "LayoutModel",
      "state": {
       "width": "600px"
      }
     },
     "af6a00d412934d12975b983f2d6edef3": {
      "model_module": "@jupyter-widgets/controls",
      "model_module_version": "1.2.0",
      "model_name": "VBoxModel",
      "state": {
       "children": [
        "IPY_MODEL_97f9cbe2afd143158385f5824742b46b",
        "IPY_MODEL_018a27ecd0744be5a4d3dd070cd70688",
        "IPY_MODEL_7810f2ccd9334083887a442a3bfe8dc3",
        "IPY_MODEL_fab4541cc18a4b379d4e3270d1264507",
        "IPY_MODEL_a8322b7593fc4615a20a7e8cba62882d",
        "IPY_MODEL_b98b220f30004c1f93f51b403a98aa5a",
        "IPY_MODEL_6a0fda55808b49a9affddfd45f6cc6db",
        "IPY_MODEL_34e355cab8404527ad6fa871bb73eddc",
        "IPY_MODEL_d5095dabb69147cb96fb08031069e98b"
       ],
       "layout": "IPY_MODEL_4e5c0b7e94294a57bc90a264d694e290"
      }
     },
     "af757bcaf7bd4fa2aacd2ad3100c5231": {
      "model_module": "@jupyter-widgets/controls",
      "model_module_version": "1.2.0",
      "model_name": "HTMLModel",
      "state": {
       "layout": "IPY_MODEL_012893698bb04169a8465d0b13bb7462",
       "style": "IPY_MODEL_90e054cb0b4e4024ba1f28fb79295aa3",
       "value": "<h4 style=\"font-size:14px;\">Was für eine Satzkonstruktion liegt hier vor?</h4>"
      }
     },
     "b02b19cb290b41b0b5a6b075a93fe99c": {
      "model_module": "@jupyter-widgets/base",
      "model_module_version": "1.0.0",
      "model_name": "LayoutModel",
      "state": {
       "width": "600px"
      }
     },
     "b05578505502494a8d87f7f5ced106d1": {
      "model_module": "@jupyter-widgets/controls",
      "model_module_version": "1.2.0",
      "model_name": "ButtonStyleModel",
      "state": {
       "button_color": "lightgreen"
      }
     },
     "b071d5b4a6394bcd90d1442cd1186bee": {
      "model_module": "@jupyter-widgets/base",
      "model_module_version": "1.0.0",
      "model_name": "LayoutModel",
      "state": {}
     },
     "b08d55892d4c47658f9ceefb2ba13345": {
      "model_module": "@jupyter-widgets/controls",
      "model_module_version": "1.2.0",
      "model_name": "CheckboxModel",
      "state": {
       "description": "Konjunktionalsatz",
       "disabled": false,
       "layout": "IPY_MODEL_66ea5067566b4fa18e6eac8a089bbbde",
       "style": "IPY_MODEL_9f162727c79b490fb736a37009851a88",
       "value": true
      }
     },
     "b11e9ee29e0246cb93c90e80b8bf11b5": {
      "model_module": "@jupyter-widgets/controls",
      "model_module_version": "1.2.0",
      "model_name": "VBoxModel",
      "state": {
       "children": [
        "IPY_MODEL_784f4547f5124b63a4f1be19882a0ed6",
        "IPY_MODEL_fa5eae759a184b1c994b7fcb0d5dcb4b",
        "IPY_MODEL_fd24043ff68c4ff580174906a23fe375",
        "IPY_MODEL_a10ce0d5a07742c2a48dbf051d3ec0b1"
       ],
       "layout": "IPY_MODEL_c9d3d8142da94bb1b9743dd2e016bace"
      }
     },
     "b155ebb261b74aabbced131aabe17648": {
      "model_module": "@jupyter-widgets/controls",
      "model_module_version": "1.2.0",
      "model_name": "DescriptionStyleModel",
      "state": {
       "description_width": "initial"
      }
     },
     "b166eb90ba614100a42fe4ebdab0f43c": {
      "model_module": "@jupyter-widgets/controls",
      "model_module_version": "1.2.0",
      "model_name": "DescriptionStyleModel",
      "state": {
       "description_width": "initial"
      }
     },
     "b199db21f6ea4f3ba93423a64a71cb2d": {
      "model_module": "@jupyter-widgets/base",
      "model_module_version": "1.0.0",
      "model_name": "LayoutModel",
      "state": {
       "width": "600px"
      }
     },
     "b1f56a2856ce4ff2822b9c81e2df027c": {
      "model_module": "@jupyter-widgets/controls",
      "model_module_version": "1.2.0",
      "model_name": "ButtonStyleModel",
      "state": {}
     },
     "b225c873c68a4c30af0be2f83a542c16": {
      "model_module": "@jupyter-widgets/controls",
      "model_module_version": "1.2.0",
      "model_name": "ButtonModel",
      "state": {
       "description": "Satz 3",
       "layout": "IPY_MODEL_042206b844594feea6d3ba4be7f967ae",
       "style": "IPY_MODEL_87c36c13fbdb4f12aa7299696a5f4687"
      }
     },
     "b24b34639d0c4118be40483e579456fa": {
      "model_module": "@jupyter-widgets/controls",
      "model_module_version": "1.2.0",
      "model_name": "CheckboxModel",
      "state": {
       "description": "Die linke SK ist unbesetzt.",
       "disabled": false,
       "layout": "IPY_MODEL_2778d1756c0c4cdaa9b41303c95898b0",
       "style": "IPY_MODEL_ff907eeaa4934a76abfaca94800e0b4e",
       "value": false
      }
     },
     "b24f169616ba440b82bb3802c9318bc2": {
      "model_module": "@jupyter-widgets/base",
      "model_module_version": "1.0.0",
      "model_name": "LayoutModel",
      "state": {}
     },
     "b25a09b695854ad283a62907ba3f714a": {
      "model_module": "@jupyter-widgets/base",
      "model_module_version": "1.0.0",
      "model_name": "LayoutModel",
      "state": {
       "width": "600px"
      }
     },
     "b2747346a6294abcb9f828d0481a8235": {
      "model_module": "@jupyter-widgets/base",
      "model_module_version": "1.0.0",
      "model_name": "LayoutModel",
      "state": {}
     },
     "b2dffc1e139d4447a5f224996625f666": {
      "model_module": "@jupyter-widgets/base",
      "model_module_version": "1.0.0",
      "model_name": "LayoutModel",
      "state": {}
     },
     "b2f152c0348148ddb89d9b33eae8e0df": {
      "model_module": "@jupyter-widgets/controls",
      "model_module_version": "1.2.0",
      "model_name": "ButtonStyleModel",
      "state": {
       "button_color": "lightgreen"
      }
     },
     "b30bd0c5cced474f94bdd9513e71c6c1": {
      "model_module": "@jupyter-widgets/controls",
      "model_module_version": "1.2.0",
      "model_name": "VBoxModel",
      "state": {
       "children": [
        "IPY_MODEL_6bd74d5895ae43719c3e6456a118d37d",
        "IPY_MODEL_75d6efdddc164ea68e7e9bb05dfe9c7a",
        "IPY_MODEL_eec374ebb9ca4606b7fa40237393a18e",
        "IPY_MODEL_70ec826e3cb748cf95bdaaa99d167d65"
       ],
       "layout": "IPY_MODEL_4e7bdb2e2154437788a424678465b483"
      }
     },
     "b354db5cdd754a3baf34c48c02315cba": {
      "model_module": "@jupyter-widgets/base",
      "model_module_version": "1.0.0",
      "model_name": "LayoutModel",
      "state": {}
     },
     "b3679fe4dde146259d78bc17f5a4f9df": {
      "model_module": "@jupyter-widgets/controls",
      "model_module_version": "1.2.0",
      "model_name": "DropdownModel",
      "state": {
       "_options_labels": [
        "Kausalsatz",
        "Keine der Alternativen",
        "Lokalsatz",
        "Modalsatz",
        "Objektsatz",
        "Relativsatz",
        "Subjektsatz",
        "Temporalsatz"
       ],
       "description": "Antwort:",
       "index": 5,
       "layout": "IPY_MODEL_a8eaefc8fed94fbfba05884be52bda8c",
       "style": "IPY_MODEL_d8a47a0fb658410ebd89fac65c37b2ab"
      }
     },
     "b369c958f4234efdbe7897142cd4893f": {
      "model_module": "@jupyter-widgets/base",
      "model_module_version": "1.0.0",
      "model_name": "LayoutModel",
      "state": {}
     },
     "b3ca55c9597b4ceb99f4c0ae6c1adbcd": {
      "model_module": "@jupyter-widgets/controls",
      "model_module_version": "1.2.0",
      "model_name": "HTMLModel",
      "state": {
       "layout": "IPY_MODEL_78151b90a9434399884498bf63169149",
       "style": "IPY_MODEL_058516eb2f304764b01a3d91ccc571c7",
       "value": "<h4 style=\"font-size:14px;\">Welche Wörter stehen im Vorfeld?</h4>"
      }
     },
     "b4618230573c47999ce1e9d74d8206e8": {
      "model_module": "@jupyter-widgets/controls",
      "model_module_version": "1.2.0",
      "model_name": "ButtonStyleModel",
      "state": {
       "button_color": "lightgreen"
      }
     },
     "b496dcc7e9974266b49222ee1f9bd0ca": {
      "model_module": "@jupyter-widgets/base",
      "model_module_version": "1.0.0",
      "model_name": "LayoutModel",
      "state": {
       "justify_content": "center"
      }
     },
     "b4b5951d3e65483eae5426e34199f15d": {
      "model_module": "@jupyter-widgets/base",
      "model_module_version": "1.0.0",
      "model_name": "LayoutModel",
      "state": {
       "width": "250px"
      }
     },
     "b4c916521afd4bc896f77bf92c504e24": {
      "model_module": "@jupyter-widgets/controls",
      "model_module_version": "1.2.0",
      "model_name": "ButtonModel",
      "state": {
       "description": "Satz 3",
       "layout": "IPY_MODEL_9b0b41ab9e2e4aeca174367c37aa0f38",
       "style": "IPY_MODEL_1134952e16454401a3521d19f6cb8335"
      }
     },
     "b4fbd3e2996542278e11cc72eb49ff4c": {
      "model_module": "@jupyter-widgets/base",
      "model_module_version": "1.0.0",
      "model_name": "LayoutModel",
      "state": {}
     },
     "b52d0121ef5e4b218a1b0f587210fa47": {
      "model_module": "@jupyter-widgets/controls",
      "model_module_version": "1.2.0",
      "model_name": "VBoxModel",
      "state": {
       "children": [
        "IPY_MODEL_0ddc90296c4c46e9957a04c3c0191c19",
        "IPY_MODEL_24d350329d7241f4a3195fc9636f98b0",
        "IPY_MODEL_0fc8b5a14ed9405281de9489b19e647c",
        "IPY_MODEL_932b10a336ce478d97fad87cd3affb8e",
        "IPY_MODEL_b6679878893d460683783b0057e4f420",
        "IPY_MODEL_19e8d74704ec4bc8860c2e69e76af0e5",
        "IPY_MODEL_09f51e9ac2e94bf2a2fe41551877983a",
        "IPY_MODEL_dce4f6eb6ea34e90bead259a6bce755e",
        "IPY_MODEL_73a4ea7d68de4379a66a85ab47959901"
       ],
       "layout": "IPY_MODEL_0cace686b9514bb8bfd1e373d339942e"
      }
     },
     "b559d3701276474a9fbac3a5a3acc6c4": {
      "model_module": "@jupyter-widgets/base",
      "model_module_version": "1.0.0",
      "model_name": "LayoutModel",
      "state": {}
     },
     "b573ba6ee1764eaf87fc6e7f34d62023": {
      "model_module": "@jupyter-widgets/controls",
      "model_module_version": "1.2.0",
      "model_name": "ButtonStyleModel",
      "state": {}
     },
     "b580efaadab244f397836772e4995035": {
      "model_module": "@jupyter-widgets/base",
      "model_module_version": "1.0.0",
      "model_name": "LayoutModel",
      "state": {}
     },
     "b5a0e08f699e498597866ec9c03af639": {
      "model_module": "@jupyter-widgets/base",
      "model_module_version": "1.0.0",
      "model_name": "LayoutModel",
      "state": {}
     },
     "b5a0eb5b4c7e4b74a581412947c3bb0a": {
      "model_module": "@jupyter-widgets/controls",
      "model_module_version": "1.2.0",
      "model_name": "ButtonModel",
      "state": {
       "description": "VP",
       "layout": "IPY_MODEL_858c960945f041569dc09cfce40c4d70",
       "style": "IPY_MODEL_6d96199978314d8cafe706b06f9a40b2"
      }
     },
     "b5b30cd9695340c492669611f741925d": {
      "model_module": "@jupyter-widgets/controls",
      "model_module_version": "1.2.0",
      "model_name": "ButtonModel",
      "state": {
       "description": "koordiniert",
       "layout": "IPY_MODEL_bab11d1c03fb4076b7ad1984f942145c",
       "style": "IPY_MODEL_05d2e0d6b49446a6a19c948ef4c19297"
      }
     },
     "b5ecef2a99cb4538bb7ddf5402eb30b1": {
      "model_module": "@jupyter-widgets/controls",
      "model_module_version": "1.2.0",
      "model_name": "DescriptionStyleModel",
      "state": {
       "description_width": ""
      }
     },
     "b6014bfc01514ea79d984164215bef8b": {
      "model_module": "@jupyter-widgets/controls",
      "model_module_version": "1.2.0",
      "model_name": "HTMLModel",
      "state": {
       "layout": "IPY_MODEL_161cc7e5c74445539140a81ac7da44f6",
       "style": "IPY_MODEL_73af5c26c9fc4cb199990c0753cd5ee8",
       "value": "<i>Wählen Sie die <ins>eine</ins> korrekte Antwort aus: </i>"
      }
     },
     "b65d65ec834b42d599fc9fe45db62356": {
      "model_module": "@jupyter-widgets/base",
      "model_module_version": "1.0.0",
      "model_name": "LayoutModel",
      "state": {
       "justify_content": "center"
      }
     },
     "b6679878893d460683783b0057e4f420": {
      "model_module": "@jupyter-widgets/controls",
      "model_module_version": "1.2.0",
      "model_name": "CheckboxModel",
      "state": {
       "description": "der",
       "disabled": false,
       "layout": "IPY_MODEL_8f36babcd1cc4f48b0bc8418ea833334",
       "style": "IPY_MODEL_1bc6becfecbd4964af5482b4f91da1c8",
       "value": false
      }
     },
     "b67efa2fabe74a8a997f3449514a05ea": {
      "model_module": "@jupyter-widgets/controls",
      "model_module_version": "1.2.0",
      "model_name": "VBoxModel",
      "state": {
       "children": [
        "IPY_MODEL_4597b7700b434ba7aab823f11bb4eefd",
        "IPY_MODEL_2d883b3cbddc42debdce380f028a84ac",
        "IPY_MODEL_91416934a64e4d0c9b20cf4d1a7d62b7",
        "IPY_MODEL_446bd30827b643b195f56e52e207022c"
       ],
       "layout": "IPY_MODEL_f2a44b65074544ed91d24185b88db1cc"
      }
     },
     "b6b73fa57dbb488ea6c9ac71040347c6": {
      "model_module": "@jupyter-widgets/base",
      "model_module_version": "1.0.0",
      "model_name": "LayoutModel",
      "state": {}
     },
     "b6d12f96050c4ca8a20ec8ad4e81fcc2": {
      "model_module": "@jupyter-widgets/base",
      "model_module_version": "1.0.0",
      "model_name": "LayoutModel",
      "state": {
       "width": "600px"
      }
     },
     "b6ffd621e9f54c7b9f6acecb8f1b82f1": {
      "model_module": "@jupyter-widgets/base",
      "model_module_version": "1.0.0",
      "model_name": "LayoutModel",
      "state": {
       "width": "250px"
      }
     },
     "b708733eb1404e70aa3a8a98b36a9055": {
      "model_module": "@jupyter-widgets/base",
      "model_module_version": "1.0.0",
      "model_name": "LayoutModel",
      "state": {}
     },
     "b73de61c39bf46648e75031404101f22": {
      "model_module": "@jupyter-widgets/controls",
      "model_module_version": "1.2.0",
      "model_name": "CheckboxModel",
      "state": {
       "description": "Buch",
       "disabled": false,
       "layout": "IPY_MODEL_f5f1406c17f945b7a1d7c7e4896f6419",
       "style": "IPY_MODEL_2d1ea4179d39409782cd6502f82aa79f",
       "value": false
      }
     },
     "b73f5ab76e55437b8afa5305e00a8b25": {
      "model_module": "@jupyter-widgets/controls",
      "model_module_version": "1.2.0",
      "model_name": "DescriptionStyleModel",
      "state": {
       "description_width": "initial"
      }
     },
     "b7ff8ac886b142689e8bbca77b0eb623": {
      "model_module": "@jupyter-widgets/controls",
      "model_module_version": "1.2.0",
      "model_name": "DescriptionStyleModel",
      "state": {
       "description_width": ""
      }
     },
     "b8082496c12542498341d353bbb79e53": {
      "model_module": "@jupyter-widgets/controls",
      "model_module_version": "1.2.0",
      "model_name": "ButtonStyleModel",
      "state": {
       "button_color": "lightgreen"
      }
     },
     "b822a8aa6a30411c9974a88112d2aaf3": {
      "model_module": "@jupyter-widgets/controls",
      "model_module_version": "1.2.0",
      "model_name": "CheckboxModel",
      "state": {
       "description": "Peter gesungen",
       "disabled": false,
       "layout": "IPY_MODEL_c79ab3ebf87246aab12e0533e8d0f541",
       "style": "IPY_MODEL_a11980a0009c48ce84a4f390989e0ebe",
       "value": true
      }
     },
     "b83c20daf9304a799b045694260f7908": {
      "model_module": "@jupyter-widgets/controls",
      "model_module_version": "1.2.0",
      "model_name": "HTMLModel",
      "state": {
       "layout": "IPY_MODEL_eca2b5c017bb476dbd8758e7e6347a06",
       "style": "IPY_MODEL_9c242805659a46f5b905b4644c920b3e",
       "value": "<h4 style=\"font-size:14px;\">Welche Wörter sind Teil der rechten Satzklammer?</h4>"
      }
     },
     "b84c513db4684e2f95c2da9fcf38258e": {
      "model_module": "@jupyter-widgets/controls",
      "model_module_version": "1.2.0",
      "model_name": "HTMLModel",
      "state": {
       "layout": "IPY_MODEL_43b78467d8f24f988ae18241fa84fb6b",
       "style": "IPY_MODEL_5b850e2a54824b508a94f2125d6e78dc",
       "value": "<h4 style=\"font-size:14px;\">Welche Wörter sind Teil der linken Satzklammer?</h4>"
      }
     },
     "b85deb5379764a2c8bc671feb46ff411": {
      "model_module": "@jupyter-widgets/controls",
      "model_module_version": "1.2.0",
      "model_name": "DescriptionStyleModel",
      "state": {
       "description_width": ""
      }
     },
     "b8e1cc3d61eb4737814d2f096f7c0b77": {
      "model_module": "@jupyter-widgets/controls",
      "model_module_version": "1.2.0",
      "model_name": "DescriptionStyleModel",
      "state": {
       "description_width": ""
      }
     },
     "b91bae1222944d3f8c429b7c79cdfaf7": {
      "model_module": "@jupyter-widgets/base",
      "model_module_version": "1.0.0",
      "model_name": "LayoutModel",
      "state": {}
     },
     "b98b220f30004c1f93f51b403a98aa5a": {
      "model_module": "@jupyter-widgets/controls",
      "model_module_version": "1.2.0",
      "model_name": "CheckboxModel",
      "state": {
       "description": "gelesen",
       "disabled": false,
       "layout": "IPY_MODEL_986b30b73fe8445b82e9d6ca6acb1d3e",
       "style": "IPY_MODEL_d58cec701e304e1daf6c505a12905afd",
       "value": false
      }
     },
     "b993f70406c44e3aaaba3b1e8f37b963": {
      "model_module": "@jupyter-widgets/controls",
      "model_module_version": "1.2.0",
      "model_name": "CheckboxModel",
      "state": {
       "description": "gesungen",
       "disabled": false,
       "layout": "IPY_MODEL_bbae842d5d5d48ee8815850801a382cd",
       "style": "IPY_MODEL_9ccba032ac2245dab5f2a4ac66fa1b02",
       "value": false
      }
     },
     "b9cbbea442c945c3b80722dc3db0b3d8": {
      "model_module": "@jupyter-widgets/controls",
      "model_module_version": "1.2.0",
      "model_name": "CheckboxModel",
      "state": {
       "description": "Weihnachten",
       "disabled": false,
       "layout": "IPY_MODEL_42dcf9e8788e439cbc44f61c918f4aba",
       "style": "IPY_MODEL_7d419e7c0281464985d084170a38c5ab",
       "value": false
      }
     },
     "ba2e8ff4d0144f34881e669c3c653aaa": {
      "model_module": "@jupyter-widgets/controls",
      "model_module_version": "1.2.0",
      "model_name": "VBoxModel",
      "state": {
       "children": [
        "IPY_MODEL_cf8a3eb641634606956cf94617ab82a5",
        "IPY_MODEL_11d8d9caa59c449bbe793e41236a716b",
        "IPY_MODEL_0e9baecc71a24d20b2daa30f4ff27157",
        "IPY_MODEL_e09fc399d65d491ca1d3bca53923fcd0"
       ],
       "layout": "IPY_MODEL_94a4280eafc6473ab857601b385e6a1f"
      }
     },
     "ba365f391b9946259332f6233fee5b28": {
      "model_module": "@jupyter-widgets/base",
      "model_module_version": "1.0.0",
      "model_name": "LayoutModel",
      "state": {
       "width": "600px"
      }
     },
     "ba5fb92056a84149b1476cc247a14c1f": {
      "model_module": "@jupyter-widgets/controls",
      "model_module_version": "1.2.0",
      "model_name": "ButtonStyleModel",
      "state": {}
     },
     "ba7dcdea3b54430eb0259fd6b494fae4": {
      "model_module": "@jupyter-widgets/base",
      "model_module_version": "1.0.0",
      "model_name": "LayoutModel",
      "state": {}
     },
     "baadf952804249f5ad711754010a2f27": {
      "model_module": "@jupyter-widgets/base",
      "model_module_version": "1.0.0",
      "model_name": "LayoutModel",
      "state": {}
     },
     "bab11d1c03fb4076b7ad1984f942145c": {
      "model_module": "@jupyter-widgets/base",
      "model_module_version": "1.0.0",
      "model_name": "LayoutModel",
      "state": {
       "width": "250px"
      }
     },
     "bab4e1624ef743ffad361c0403fc8196": {
      "model_module": "@jupyter-widgets/controls",
      "model_module_version": "1.2.0",
      "model_name": "ButtonModel",
      "state": {
       "description": "Satz 4",
       "layout": "IPY_MODEL_9f435925fdf44cc4909a200dab005a1b",
       "style": "IPY_MODEL_350ae394fd8d4aa7883b0e0ca926bc23"
      }
     },
     "babefd28a9be48a0b2eb0425bc736f8a": {
      "model_module": "@jupyter-widgets/controls",
      "model_module_version": "1.2.0",
      "model_name": "VBoxModel",
      "state": {
       "children": [
        "IPY_MODEL_6f30d26a79744d468502ee4755c188e7",
        "IPY_MODEL_82f65530d9884af2a36d2fd56104b84b",
        "IPY_MODEL_80aaca20786f410dac4bd4b0f3ba3aff"
       ],
       "layout": "IPY_MODEL_f9f4d57dba1c4c69b58a5143b5685dd7"
      }
     },
     "bac276893f604d9c8cf1af216e58f484": {
      "model_module": "@jupyter-widgets/controls",
      "model_module_version": "1.2.0",
      "model_name": "DescriptionStyleModel",
      "state": {
       "description_width": "initial"
      }
     },
     "bb3715c8cd774c939a742cf0dce149c8": {
      "model_module": "@jupyter-widgets/controls",
      "model_module_version": "1.2.0",
      "model_name": "HTMLModel",
      "state": {
       "layout": "IPY_MODEL_6fca6b65bb1446dfad6ecaa4156db811",
       "style": "IPY_MODEL_13003debdba2404f8324d70168f09d0e",
       "value": "<i>Markieren Sie <ins>alle</ins> passenden Antworten: </i>"
      }
     },
     "bb46b452f7c943f69141957f294bb747": {
      "model_module": "@jupyter-widgets/base",
      "model_module_version": "1.0.0",
      "model_name": "LayoutModel",
      "state": {}
     },
     "bb744a1a122c4cab8481fb938e70fcc2": {
      "model_module": "@jupyter-widgets/controls",
      "model_module_version": "1.2.0",
      "model_name": "DescriptionStyleModel",
      "state": {
       "description_width": ""
      }
     },
     "bbae842d5d5d48ee8815850801a382cd": {
      "model_module": "@jupyter-widgets/base",
      "model_module_version": "1.0.0",
      "model_name": "LayoutModel",
      "state": {
       "width": "600px"
      }
     },
     "bbf90ce0716d41d7b50b092cc1e468ca": {
      "model_module": "@jupyter-widgets/controls",
      "model_module_version": "1.2.0",
      "model_name": "ButtonModel",
      "state": {
       "description": "subordiniert",
       "layout": "IPY_MODEL_2a485d80ceb64e61a5097bf24bbd7d71",
       "style": "IPY_MODEL_e7bdc84943444f97b4d722293dc5bce4"
      }
     },
     "bc01f7d755634ac7b967b148418ff097": {
      "model_module": "@jupyter-widgets/base",
      "model_module_version": "1.0.0",
      "model_name": "LayoutModel",
      "state": {
       "width": "250px"
      }
     },
     "bc383d3dd20b4284bf4f70edc0ff2ea0": {
      "model_module": "@jupyter-widgets/controls",
      "model_module_version": "1.2.0",
      "model_name": "CheckboxModel",
      "state": {
       "description": "Weihnachten",
       "disabled": false,
       "layout": "IPY_MODEL_8fbb233b247e4a0abc05f475a9f3ca85",
       "style": "IPY_MODEL_9aefd71f76fb4393842cba06791d0b99",
       "value": true
      }
     },
     "bce115051b874f578f95b9d812fcd789": {
      "model_module": "@jupyter-widgets/controls",
      "model_module_version": "1.2.0",
      "model_name": "VBoxModel",
      "state": {
       "children": [
        "IPY_MODEL_1e4aa450441c4c44bdd40092d3090b45",
        "IPY_MODEL_c6fb2c5466f2427a8a80bf4a934bf1a2",
        "IPY_MODEL_7d207072a9f949f68883930cdf3c936a",
        "IPY_MODEL_5f15ce0c1a504aaaa8d0e82f0fb3bb63"
       ],
       "layout": "IPY_MODEL_a6692cebd4eb433eb77d84c4bd7d5c6b"
      }
     },
     "bd94a1ae4c2c4f60bc459963f7d7b4d4": {
      "model_module": "@jupyter-widgets/controls",
      "model_module_version": "1.2.0",
      "model_name": "HTMLModel",
      "state": {
       "layout": "IPY_MODEL_f2ee3c1dd99341e2add62f21aff238fd",
       "style": "IPY_MODEL_21eefb891c1f4509a54443b19fc83e9b",
       "value": "<h4 style=\"font-size:14px;\">Um welche Satzart handelt es sich bei Satz 2?</h4>"
      }
     },
     "bdad07517c8c48a496d03e874a1b13d6": {
      "model_module": "@jupyter-widgets/controls",
      "model_module_version": "1.2.0",
      "model_name": "DropdownModel",
      "state": {
       "_options_labels": [
        "Finalsatz",
        "Kausalsatz",
        "Keine der Alternativen",
        "Lokalsatz",
        "Modalsatz",
        "Relativsatz",
        "Temporalsatz"
       ],
       "description": "Antwort:",
       "index": 6,
       "layout": "IPY_MODEL_488ea9dc115e45e58e8cf73fe8cedf25",
       "style": "IPY_MODEL_c53eadb8dbbf4b7180440bf8c5205549"
      }
     },
     "bdb75c13e135481b8d42c3130191e7f5": {
      "model_module": "@jupyter-widgets/controls",
      "model_module_version": "1.2.0",
      "model_name": "HTMLModel",
      "state": {
       "layout": "IPY_MODEL_257822b38cc34db7b73abf705d3856fb",
       "style": "IPY_MODEL_a91e6945699644b8ae09714033888f20",
       "value": "<h4 style=\"font-size:14px;\">Was für eine Satzkonstruktion liegt hier vor?</h4>"
      }
     },
     "bdbf4714f4a248d392b8d78e31c1af1a": {
      "model_module": "@jupyter-widgets/controls",
      "model_module_version": "1.2.0",
      "model_name": "HTMLModel",
      "state": {
       "layout": "IPY_MODEL_15a768519e274ba88c61afbd9bb5b24a",
       "style": "IPY_MODEL_f187faf88fe94072a1fd083fb96eb0ba",
       "value": "<i>Wählen Sie die <ins>eine</ins> korrekte Antwort aus: </i>"
      }
     },
     "bdc60111b999493eb49eae7d2bb52af5": {
      "model_module": "@jupyter-widgets/controls",
      "model_module_version": "1.2.0",
      "model_name": "HTMLModel",
      "state": {
       "layout": "IPY_MODEL_35cf4399bb734976ab762f747add404d",
       "style": "IPY_MODEL_f433cf4f7d6a4ca38870e110e55bbabe",
       "value": "<h4 style=\"font-size:14px;\">Kann diese Position theoretisch auch leer bleiben?</h4>"
      }
     },
     "bdea195fd01146ee9a2d3188a5afef77": {
      "model_module": "@jupyter-widgets/base",
      "model_module_version": "1.0.0",
      "model_name": "LayoutModel",
      "state": {
       "width": "600px"
      }
     },
     "be219049465542cd8822e6b902bc9ab7": {
      "model_module": "@jupyter-widgets/controls",
      "model_module_version": "1.2.0",
      "model_name": "VBoxModel",
      "state": {
       "children": [
        "IPY_MODEL_a951b06f0fed42a0b9c52443cffdd4af",
        "IPY_MODEL_a9c19ba1ee2a4938b41f1b5530fc782d",
        "IPY_MODEL_2bacd89daa4a4aca9c7b902255812a72",
        "IPY_MODEL_40dc1c44d2c944339050c667d7d42529"
       ],
       "layout": "IPY_MODEL_a7d4a67e96f54af39b18074565bf8eb6"
      }
     },
     "be9f2bda23cc4cbb98b708435ecb15f3": {
      "model_module": "@jupyter-widgets/controls",
      "model_module_version": "1.2.0",
      "model_name": "ButtonModel",
      "state": {
       "description": "Korrekt?",
       "layout": "IPY_MODEL_a44bdcca47084db381d2726198c01e5a",
       "style": "IPY_MODEL_b05578505502494a8d87f7f5ced106d1"
      }
     },
     "bede73c63124436c9c6e2a4016dbe058": {
      "model_module": "@jupyter-widgets/controls",
      "model_module_version": "1.2.0",
      "model_name": "DescriptionStyleModel",
      "state": {
       "description_width": "initial"
      }
     },
     "beef23b66a4f42c0b0821e8c7d45bbcd": {
      "model_module": "@jupyter-widgets/base",
      "model_module_version": "1.0.0",
      "model_name": "LayoutModel",
      "state": {}
     },
     "bf675ab95a9e48ccaf11c8c06687ad23": {
      "model_module": "@jupyter-widgets/controls",
      "model_module_version": "1.2.0",
      "model_name": "VBoxModel",
      "state": {
       "children": [
        "IPY_MODEL_d511eab17a4d4baea87383b4b19527a1",
        "IPY_MODEL_d05e56b54b42499e9902df01a621c5b3",
        "IPY_MODEL_b3679fe4dde146259d78bc17f5a4f9df",
        "IPY_MODEL_c90cb4e32563465695fcfd12c375043f"
       ],
       "layout": "IPY_MODEL_a9924cab0b484891be68b72fa820825e"
      }
     },
     "bf74e928ffa94c15a01f4940b29ae419": {
      "model_module": "@jupyter-widgets/controls",
      "model_module_version": "1.2.0",
      "model_name": "ButtonStyleModel",
      "state": {
       "button_color": "lightgreen"
      }
     },
     "bf9804a67442472f85cd58a76b6c990b": {
      "model_module": "@jupyter-widgets/controls",
      "model_module_version": "1.2.0",
      "model_name": "HBoxModel",
      "state": {
       "children": [
        "IPY_MODEL_c1f3f90b2df649f6ae321a96b34ff11f",
        "IPY_MODEL_071fd3418c9548a28cabd6c179e2d361"
       ],
       "layout": "IPY_MODEL_d407d9173c304b799a3e1aea42004817"
      }
     },
     "bfc592d542e3407585e7b328a42c5a8e": {
      "model_module": "@jupyter-widgets/controls",
      "model_module_version": "1.2.0",
      "model_name": "CheckboxModel",
      "state": {
       "description": "schenkte",
       "disabled": false,
       "layout": "IPY_MODEL_8082f818604f470384e263ec47da1364",
       "style": "IPY_MODEL_2f131d85e1854004a7d24df900d1b4f7",
       "value": false
      }
     },
     "bfecc3062f8b4e6d8bc669a5b256b47f": {
      "model_module": "@jupyter-widgets/controls",
      "model_module_version": "1.2.0",
      "model_name": "ButtonModel",
      "state": {
       "description": "Satz 1",
       "layout": "IPY_MODEL_8fd60143b27c4dfc8f1fad20dea8d606",
       "style": "IPY_MODEL_43d2bf2800bc439499cf65303ef421c8"
      }
     },
     "bff9057c3b474f6492e30c3694b39f8c": {
      "model_module": "@jupyter-widgets/controls",
      "model_module_version": "1.2.0",
      "model_name": "ButtonModel",
      "state": {
       "description": "Korrekt?",
       "layout": "IPY_MODEL_629b1d3ca89d457abf1600823aeaae46",
       "style": "IPY_MODEL_519a1b6718824930a4227aa76b67a704"
      }
     },
     "bffd431382014850bcfd860e1722c24c": {
      "model_module": "@jupyter-widgets/base",
      "model_module_version": "1.0.0",
      "model_name": "LayoutModel",
      "state": {
       "width": "600px"
      }
     },
     "c03bf9dfcc8f4466b36042581d719807": {
      "model_module": "@jupyter-widgets/controls",
      "model_module_version": "1.2.0",
      "model_name": "DescriptionStyleModel",
      "state": {
       "description_width": ""
      }
     },
     "c08b3456f9314e0f8eb47fd6cc3e97f8": {
      "model_module": "@jupyter-widgets/controls",
      "model_module_version": "1.2.0",
      "model_name": "HBoxModel",
      "state": {
       "children": [
        "IPY_MODEL_3b09e4a6f485416da673ec316091fcec",
        "IPY_MODEL_cacd88da33b6452999e036e67581fb59"
       ],
       "layout": "IPY_MODEL_e7783216d46e4c148325b878c9b68d2e"
      }
     },
     "c0b9dd8c78424135b56f31162f600976": {
      "model_module": "@jupyter-widgets/controls",
      "model_module_version": "1.2.0",
      "model_name": "DescriptionStyleModel",
      "state": {
       "description_width": "initial"
      }
     },
     "c0c3127291f141ff9844c7c22e4f17d7": {
      "model_module": "@jupyter-widgets/base",
      "model_module_version": "1.0.0",
      "model_name": "LayoutModel",
      "state": {}
     },
     "c0c4064ab6a446d1a0295354bc486ab6": {
      "model_module": "@jupyter-widgets/base",
      "model_module_version": "1.0.0",
      "model_name": "LayoutModel",
      "state": {
       "justify_content": "center"
      }
     },
     "c0ee94a325fc4ae68d88bae0956e631b": {
      "model_module": "@jupyter-widgets/controls",
      "model_module_version": "1.2.0",
      "model_name": "HBoxModel",
      "state": {
       "children": [
        "IPY_MODEL_4cc85eaaa07a435fae38de74051265fa"
       ],
       "layout": "IPY_MODEL_3a23d84864d940428471bb5485311b4a"
      }
     },
     "c192eef34118424184a313db4fb87788": {
      "model_module": "@jupyter-widgets/controls",
      "model_module_version": "1.2.0",
      "model_name": "HTMLModel",
      "state": {
       "layout": "IPY_MODEL_91b52ed2ca4749e68e4d70567ebaea44",
       "style": "IPY_MODEL_79c42df5ac994d39b289013f5e225557",
       "value": "<i>Wählen Sie die <ins>eine</ins> korrekte Antwort aus: </i>"
      }
     },
     "c195ef1ff7f648a1ad2713f429e1d93e": {
      "model_module": "@jupyter-widgets/controls",
      "model_module_version": "1.2.0",
      "model_name": "CheckboxModel",
      "state": {
       "description": "Nachsatz",
       "disabled": false,
       "layout": "IPY_MODEL_fdce789f24af483ab1b48f929f9ec940",
       "style": "IPY_MODEL_97cd8784a417436eb339f6904f0ed6b5",
       "value": false
      }
     },
     "c1cfd85c800f402eaa2840f5edd6734b": {
      "model_module": "@jupyter-widgets/controls",
      "model_module_version": "1.2.0",
      "model_name": "DescriptionStyleModel",
      "state": {
       "description_width": "initial"
      }
     },
     "c1d8bc80c673482fbe8f88e3eb77d025": {
      "model_module": "@jupyter-widgets/controls",
      "model_module_version": "1.2.0",
      "model_name": "ButtonModel",
      "state": {
       "description": "Fragesatz",
       "layout": "IPY_MODEL_a98c262d490e443988351b245d2dba8d",
       "style": "IPY_MODEL_f5a9a4d803ab48e29f423b18e4afb880"
      }
     },
     "c1f3f90b2df649f6ae321a96b34ff11f": {
      "model_module": "@jupyter-widgets/controls",
      "model_module_version": "1.2.0",
      "model_name": "ButtonModel",
      "state": {
       "description": "Satz 3",
       "layout": "IPY_MODEL_c3f077233a614571a63be10d5eb75f80",
       "style": "IPY_MODEL_118a3e48c39f4bdd8f9fee791d9ad41f"
      }
     },
     "c1fcfd8d6ae04bc99e58be5ed535f1c5": {
      "model_module": "@jupyter-widgets/controls",
      "model_module_version": "1.2.0",
      "model_name": "VBoxModel",
      "state": {
       "children": [
        "IPY_MODEL_23daf4d6a30846f9a28022745f4237d1",
        "IPY_MODEL_1c65dba54fe04813b937b08befc97fc0",
        "IPY_MODEL_91a526b6354d4e3c983b54884f3a0c52",
        "IPY_MODEL_bf9804a67442472f85cd58a76b6c990b"
       ],
       "layout": "IPY_MODEL_841820574a064aee9cbfe80767cf9713"
      }
     },
     "c227364b767348039cbf71254776d67c": {
      "model_module": "@jupyter-widgets/controls",
      "model_module_version": "1.2.0",
      "model_name": "DescriptionStyleModel",
      "state": {
       "description_width": "initial"
      }
     },
     "c2796705c7bc46d9a8a5b85c4988a478": {
      "model_module": "@jupyter-widgets/controls",
      "model_module_version": "1.2.0",
      "model_name": "HTMLModel",
      "state": {
       "layout": "IPY_MODEL_cec2f2bafcbc416284a01eda509c4e6c",
       "style": "IPY_MODEL_0713d298882b4d1287e372e03d335479",
       "value": "<i>Wählen Sie die <ins>eine</ins> korrekte Antwort aus: </i>"
      }
     },
     "c2b81b161da44b528c4ad5f2ff09359c": {
      "model_module": "@jupyter-widgets/base",
      "model_module_version": "1.0.0",
      "model_name": "LayoutModel",
      "state": {
       "width": "250px"
      }
     },
     "c36a38a1d39d4cb4bc6140ea3745739e": {
      "model_module": "@jupyter-widgets/controls",
      "model_module_version": "1.2.0",
      "model_name": "ButtonModel",
      "state": {
       "description": "Satz 2",
       "layout": "IPY_MODEL_1c525f5e9a0b4adab98e1cc5aa31767f",
       "style": "IPY_MODEL_218144f5eae040f7a439b8fea0d402c3"
      }
     },
     "c38d84d825264535a75eb5f4e5d347a3": {
      "model_module": "@jupyter-widgets/base",
      "model_module_version": "1.0.0",
      "model_name": "LayoutModel",
      "state": {}
     },
     "c39c0dddfaa14c82bc8f415467fdb099": {
      "model_module": "@jupyter-widgets/controls",
      "model_module_version": "1.2.0",
      "model_name": "ButtonModel",
      "state": {
       "description": "Aussagesatz",
       "layout": "IPY_MODEL_40ed816f4ed54c5c9fe8d1a47580bf15",
       "style": "IPY_MODEL_d9fa14d90f764bb3ba1eaa49bb51b04f"
      }
     },
     "c3abcca7ac1a4e21b77718346a7a0ae3": {
      "model_module": "@jupyter-widgets/controls",
      "model_module_version": "1.2.0",
      "model_name": "DescriptionStyleModel",
      "state": {
       "description_width": "initial"
      }
     },
     "c3d7e0419a02410e82f8ed1bfa0bafd7": {
      "model_module": "@jupyter-widgets/controls",
      "model_module_version": "1.2.0",
      "model_name": "DescriptionStyleModel",
      "state": {
       "description_width": "initial"
      }
     },
     "c3f077233a614571a63be10d5eb75f80": {
      "model_module": "@jupyter-widgets/base",
      "model_module_version": "1.0.0",
      "model_name": "LayoutModel",
      "state": {
       "width": "250px"
      }
     },
     "c4534e1a76c04d36be95daf1ca8815e0": {
      "model_module": "@jupyter-widgets/controls",
      "model_module_version": "1.2.0",
      "model_name": "ButtonStyleModel",
      "state": {
       "button_color": "lightgreen"
      }
     },
     "c46760bb72e04813aa67602563caaeb9": {
      "model_module": "@jupyter-widgets/base",
      "model_module_version": "1.0.0",
      "model_name": "LayoutModel",
      "state": {}
     },
     "c47da863d87846ac8fea839ffb3bd081": {
      "model_module": "@jupyter-widgets/controls",
      "model_module_version": "1.2.0",
      "model_name": "ButtonModel",
      "state": {
       "description": "Satz 3",
       "layout": "IPY_MODEL_e38f626c0d13442eb78215c536349723",
       "style": "IPY_MODEL_1c5b85bc5d4c46ef8b821fa31838d893"
      }
     },
     "c48aa1e587ac40979df98d779b008309": {
      "model_module": "@jupyter-widgets/controls",
      "model_module_version": "1.2.0",
      "model_name": "HTMLModel",
      "state": {
       "layout": "IPY_MODEL_398f7a54ed934ee693e2ed5b6b136e6d",
       "style": "IPY_MODEL_c03bf9dfcc8f4466b36042581d719807",
       "value": "<i>Wählen Sie die <ins>eine</ins> korrekte Antwort aus: </i>"
      }
     },
     "c4b06a7f05554fb381d18b2c8fa4524f": {
      "model_module": "@jupyter-widgets/controls",
      "model_module_version": "1.2.0",
      "model_name": "ButtonModel",
      "state": {
       "description": "koordiniert",
       "layout": "IPY_MODEL_daaad387d3484097bca71b8c88faa12f",
       "style": "IPY_MODEL_7ecaaed8a8024d0abea40d7383958947"
      }
     },
     "c4c0246e4f2e40448f483b0f0f0e1f8d": {
      "model_module": "@jupyter-widgets/base",
      "model_module_version": "1.0.0",
      "model_name": "LayoutModel",
      "state": {
       "justify_content": "center"
      }
     },
     "c4cdee2177854536a8f70d262c4a8c40": {
      "model_module": "@jupyter-widgets/controls",
      "model_module_version": "1.2.0",
      "model_name": "ButtonStyleModel",
      "state": {
       "button_color": "lightgreen"
      }
     },
     "c4fe5bfdf6b94f1688e8483341cf12ef": {
      "model_module": "@jupyter-widgets/base",
      "model_module_version": "1.0.0",
      "model_name": "LayoutModel",
      "state": {
       "width": "600px"
      }
     },
     "c51c8dac4d2846a9bfbd26b404c0d013": {
      "model_module": "@jupyter-widgets/controls",
      "model_module_version": "1.2.0",
      "model_name": "HBoxModel",
      "state": {
       "children": [
        "IPY_MODEL_60561ef0a7d043d38bf9700b9a7ab6f7",
        "IPY_MODEL_91cea8c5674a4bd6a05cd728c8adf4b9"
       ],
       "layout": "IPY_MODEL_63ae61ca348842c1ab2cbc4a2d31b94c"
      }
     },
     "c53eadb8dbbf4b7180440bf8c5205549": {
      "model_module": "@jupyter-widgets/controls",
      "model_module_version": "1.2.0",
      "model_name": "DescriptionStyleModel",
      "state": {
       "description_width": ""
      }
     },
     "c569751553c84e518c5d297dea73b51c": {
      "model_module": "@jupyter-widgets/controls",
      "model_module_version": "1.2.0",
      "model_name": "ButtonModel",
      "state": {
       "description": "Korrekt?",
       "layout": "IPY_MODEL_cb94d9ee2e1e490d90f6d48f265508a2",
       "style": "IPY_MODEL_1a012ce58dc84057b3b6ec7c4da67326"
      }
     },
     "c61a17aea1724831b7e377cc263ee4de": {
      "model_module": "@jupyter-widgets/controls",
      "model_module_version": "1.2.0",
      "model_name": "HTMLModel",
      "state": {
       "layout": "IPY_MODEL_28de8ce8e31a41fa9d61f9812e191135",
       "style": "IPY_MODEL_2d54ed94596c47f38940efddbb6fd578",
       "value": "<i>Wählen Sie die <ins>eine</ins> korrekte Antwort aus: </i>"
      }
     },
     "c640534e275842c09d7085865377db67": {
      "model_module": "@jupyter-widgets/base",
      "model_module_version": "1.0.0",
      "model_name": "LayoutModel",
      "state": {
       "width": "600px"
      }
     },
     "c693355b7fd74982b230a010af1d328f": {
      "model_module": "@jupyter-widgets/controls",
      "model_module_version": "1.2.0",
      "model_name": "HTMLModel",
      "state": {
       "layout": "IPY_MODEL_cdf0819511ff4db9881d3e95a2f95270",
       "style": "IPY_MODEL_117750ee3ea947b2a0abf234a87bd084",
       "value": "<h4 style=\"font-size:14px;\">Welche Attributsatztypen haben Sie in der Vorlesung kennengelernt?</h4>"
      }
     },
     "c6a510d0a2fb40f38f09eecfa59d4c26": {
      "model_module": "@jupyter-widgets/base",
      "model_module_version": "1.0.0",
      "model_name": "LayoutModel",
      "state": {
       "width": "600px"
      }
     },
     "c6b3b5631a594f57bd7ac043e16b63f7": {
      "model_module": "@jupyter-widgets/base",
      "model_module_version": "1.0.0",
      "model_name": "LayoutModel",
      "state": {
       "justify_content": "center"
      }
     },
     "c6c55f8ad6c4402e9f8b4f1ade60c275": {
      "model_module": "@jupyter-widgets/controls",
      "model_module_version": "1.2.0",
      "model_name": "HTMLModel",
      "state": {
       "layout": "IPY_MODEL_cbcaa055b60e4c29bf807cd70292b9f8",
       "style": "IPY_MODEL_2dfc2f5fe8ba4d70a3235d914182406c",
       "value": "<h4 style=\"font-size:14px;\">Wieso?</h4>"
      }
     },
     "c6d8d5e030c2455dadecccd96bca3afa": {
      "model_module": "@jupyter-widgets/base",
      "model_module_version": "1.0.0",
      "model_name": "LayoutModel",
      "state": {
       "width": "250px"
      }
     },
     "c6fb2c5466f2427a8a80bf4a934bf1a2": {
      "model_module": "@jupyter-widgets/controls",
      "model_module_version": "1.2.0",
      "model_name": "HTMLModel",
      "state": {
       "layout": "IPY_MODEL_c6b3b5631a594f57bd7ac043e16b63f7",
       "style": "IPY_MODEL_0c4d3b5977714f30bb38d0a25b89a6c2",
       "value": "<i>Wählen Sie die <ins>eine</ins> korrekte Antwort aus: </i>"
      }
     },
     "c700c5f226a24d30937c658c1d409963": {
      "model_module": "@jupyter-widgets/controls",
      "model_module_version": "1.2.0",
      "model_name": "DropdownModel",
      "state": {
       "_options_labels": [
        "Adverbialsatz",
        "Attributsatz",
        "Keine der Alternativen",
        "Komplementsatz",
        "Matrixsatz",
        "Satz mit komplexer VP"
       ],
       "description": "Antwort:",
       "index": 5,
       "layout": "IPY_MODEL_9cfe33d35f2f40a1828a1f87bdcd1b89",
       "style": "IPY_MODEL_2ed9320216b647d3a2355f2f32338304"
      }
     },
     "c703cdcf292144ecba9a4f4ce4b21755": {
      "model_module": "@jupyter-widgets/base",
      "model_module_version": "1.0.0",
      "model_name": "LayoutModel",
      "state": {
       "width": "500px"
      }
     },
     "c71b6c52e85c48ef8902e91ce8a5e7ab": {
      "model_module": "@jupyter-widgets/controls",
      "model_module_version": "1.2.0",
      "model_name": "ButtonStyleModel",
      "state": {
       "button_color": "lightgreen"
      }
     },
     "c74de90d44ba4e9d9f2e537812eadcb9": {
      "model_module": "@jupyter-widgets/base",
      "model_module_version": "1.0.0",
      "model_name": "LayoutModel",
      "state": {
       "width": "250px"
      }
     },
     "c74f556e85844d8c9bede2f5f37b8e45": {
      "model_module": "@jupyter-widgets/controls",
      "model_module_version": "1.2.0",
      "model_name": "HTMLModel",
      "state": {
       "layout": "IPY_MODEL_2a29d1fcec23421f99a6dc11f6661379",
       "style": "IPY_MODEL_ff4d7a03c5d74c979e6a2a211c193913",
       "value": "<i>Wählen Sie die <ins>eine</ins> korrekte Antwort aus: </i>"
      }
     },
     "c75ad9c75d464a53be5657bb1c91a6c5": {
      "model_module": "@jupyter-widgets/controls",
      "model_module_version": "1.2.0",
      "model_name": "DescriptionStyleModel",
      "state": {
       "description_width": ""
      }
     },
     "c776c969b2db46b2b88ee232f32e9969": {
      "model_module": "@jupyter-widgets/controls",
      "model_module_version": "1.2.0",
      "model_name": "CheckboxModel",
      "state": {
       "description": "Die rechte SK ist unbesetzt.",
       "disabled": false,
       "layout": "IPY_MODEL_69f3db00737f4ee4ae68aa3677418272",
       "style": "IPY_MODEL_46a73c53b4ee4dee9184bce93b341c8b",
       "value": false
      }
     },
     "c78a0e93819d464396c97b8eee5fd1ba": {
      "model_module": "@jupyter-widgets/controls",
      "model_module_version": "1.2.0",
      "model_name": "CheckboxModel",
      "state": {
       "description": "Satzschlusszeichen: Fragezeichen",
       "disabled": false,
       "layout": "IPY_MODEL_a4f5def15b024e36b31590a01776f476",
       "style": "IPY_MODEL_9039191b74db43fb8080ae512f5566bf",
       "value": false
      }
     },
     "c79689ac646d4692b2b853340b8c6bfd": {
      "model_module": "@jupyter-widgets/base",
      "model_module_version": "1.0.0",
      "model_name": "LayoutModel",
      "state": {}
     },
     "c79ab3ebf87246aab12e0533e8d0f541": {
      "model_module": "@jupyter-widgets/base",
      "model_module_version": "1.0.0",
      "model_name": "LayoutModel",
      "state": {
       "width": "600px"
      }
     },
     "c7bb156d5d7142b8b49b8a537c1f9127": {
      "model_module": "@jupyter-widgets/controls",
      "model_module_version": "1.2.0",
      "model_name": "HTMLModel",
      "state": {
       "layout": "IPY_MODEL_d93e56fa25a64856971d8148d3fb8727",
       "style": "IPY_MODEL_d400e23cfb2940f79c40e31d519346de",
       "value": "<i>Markieren Sie <ins>alle</ins> passenden Antworten: </i>"
      }
     },
     "c7eb7096172b4b789c0366a5d086c018": {
      "model_module": "@jupyter-widgets/controls",
      "model_module_version": "1.2.0",
      "model_name": "CheckboxModel",
      "state": {
       "description": "das",
       "disabled": false,
       "layout": "IPY_MODEL_cabfa262dad742ae8ccf611ee93f011b",
       "style": "IPY_MODEL_4d191a2c173c4833be72438d5aa9a36a",
       "value": false
      }
     },
     "c7f1716f2e7f4536bc9acd63e5431472": {
      "model_module": "@jupyter-widgets/base",
      "model_module_version": "1.0.0",
      "model_name": "LayoutModel",
      "state": {
       "width": "250px"
      }
     },
     "c826301816904a66a1d235c3ed6c861b": {
      "model_module": "@jupyter-widgets/base",
      "model_module_version": "1.0.0",
      "model_name": "LayoutModel",
      "state": {
       "justify_content": "center"
      }
     },
     "c826852de30045f1896f82c5834c11e9": {
      "model_module": "@jupyter-widgets/controls",
      "model_module_version": "1.2.0",
      "model_name": "HTMLModel",
      "state": {
       "layout": "IPY_MODEL_b496dcc7e9974266b49222ee1f9bd0ca",
       "style": "IPY_MODEL_86acd13d32ae4510b9178ca8e145d3cb",
       "value": "<h4 style=\"font-size:14px;\">Was für eine Satzkonstruktion liegt hier vor?</h4>"
      }
     },
     "c88fd28c924c41e598e8c76506e147df": {
      "model_module": "@jupyter-widgets/base",
      "model_module_version": "1.0.0",
      "model_name": "LayoutModel",
      "state": {}
     },
     "c8af63cd485540deb4eebed8a83f0604": {
      "model_module": "@jupyter-widgets/base",
      "model_module_version": "1.0.0",
      "model_name": "LayoutModel",
      "state": {}
     },
     "c8dd9eff357b46b0afabc3f8e10aee00": {
      "model_module": "@jupyter-widgets/base",
      "model_module_version": "1.0.0",
      "model_name": "LayoutModel",
      "state": {
       "width": "250px"
      }
     },
     "c90cb4e32563465695fcfd12c375043f": {
      "model_module": "@jupyter-widgets/controls",
      "model_module_version": "1.2.0",
      "model_name": "ButtonModel",
      "state": {
       "description": "Korrekt?",
       "layout": "IPY_MODEL_2981d8313b3e404daa00181d98f4bbc5",
       "style": "IPY_MODEL_c4cdee2177854536a8f70d262c4a8c40"
      }
     },
     "c9119794dbf54367b35cfbf37bdadbd7": {
      "model_module": "@jupyter-widgets/controls",
      "model_module_version": "1.2.0",
      "model_name": "CheckboxModel",
      "state": {
       "description": "ihm",
       "disabled": false,
       "layout": "IPY_MODEL_cf8189b1aed2467cb5682e1f985abe8d",
       "style": "IPY_MODEL_006d7c57bf8b4a3aac6eb19aee76a099",
       "value": false
      }
     },
     "c93e435a371e4a36be18486a5e821c4c": {
      "model_module": "@jupyter-widgets/controls",
      "model_module_version": "1.2.0",
      "model_name": "ButtonStyleModel",
      "state": {}
     },
     "c9aa43da9b7c484bb5a7e5951cbfd3a5": {
      "model_module": "@jupyter-widgets/base",
      "model_module_version": "1.0.0",
      "model_name": "LayoutModel",
      "state": {
       "width": "600px"
      }
     },
     "c9d3d8142da94bb1b9743dd2e016bace": {
      "model_module": "@jupyter-widgets/base",
      "model_module_version": "1.0.0",
      "model_name": "LayoutModel",
      "state": {}
     },
     "ca20730d248c40f4af701b50da862580": {
      "model_module": "@jupyter-widgets/base",
      "model_module_version": "1.0.0",
      "model_name": "LayoutModel",
      "state": {}
     },
     "ca524f292387405dbdfbe75f96453579": {
      "model_module": "@jupyter-widgets/controls",
      "model_module_version": "1.2.0",
      "model_name": "VBoxModel",
      "state": {
       "children": [
        "IPY_MODEL_c6c55f8ad6c4402e9f8b4f1ade60c275",
        "IPY_MODEL_f4e911b98138452baeb672557618b164",
        "IPY_MODEL_50ad6e1ef2e14bf09048b0632bc8e874",
        "IPY_MODEL_e254002f36df4c51b76b487327ae5fa9"
       ],
       "layout": "IPY_MODEL_07cb478d84a14cdeb209655de2972ee7"
      }
     },
     "ca7756d6ca68400c805c3da5b53ea643": {
      "model_module": "@jupyter-widgets/base",
      "model_module_version": "1.0.0",
      "model_name": "LayoutModel",
      "state": {
       "width": "250px"
      }
     },
     "caa69f78651d4e00988bd923a1ea490e": {
      "model_module": "@jupyter-widgets/controls",
      "model_module_version": "1.2.0",
      "model_name": "ButtonModel",
      "state": {
       "description": "Korrekt?",
       "layout": "IPY_MODEL_0d8b760ad8244ccc8e45b463d6fcd82d",
       "style": "IPY_MODEL_5aa584e2686c4dcc87da4726f73b04fa"
      }
     },
     "cabfa262dad742ae8ccf611ee93f011b": {
      "model_module": "@jupyter-widgets/base",
      "model_module_version": "1.0.0",
      "model_name": "LayoutModel",
      "state": {
       "width": "600px"
      }
     },
     "cac974b64dfc41eeac426fd58ae572c8": {
      "model_module": "@jupyter-widgets/base",
      "model_module_version": "1.0.0",
      "model_name": "LayoutModel",
      "state": {
       "justify_content": "center"
      }
     },
     "cacd88da33b6452999e036e67581fb59": {
      "model_module": "@jupyter-widgets/controls",
      "model_module_version": "1.2.0",
      "model_name": "ButtonModel",
      "state": {
       "description": "Aussagesatz",
       "layout": "IPY_MODEL_f839369c8ded4031bc56c2d891066f71",
       "style": "IPY_MODEL_03d76212fe5e4fc5a622548710526305"
      }
     },
     "cad99c023c3f4adb8d236159ae869cac": {
      "model_module": "@jupyter-widgets/base",
      "model_module_version": "1.0.0",
      "model_name": "LayoutModel",
      "state": {
       "justify_content": "center"
      }
     },
     "cb00243fc4b64032adb13932bd186f4d": {
      "model_module": "@jupyter-widgets/base",
      "model_module_version": "1.0.0",
      "model_name": "LayoutModel",
      "state": {
       "width": "600px"
      }
     },
     "cb23496a5a03420c9e189cdb9dbfc521": {
      "model_module": "@jupyter-widgets/controls",
      "model_module_version": "1.2.0",
      "model_name": "DropdownModel",
      "state": {
       "_options_labels": [
        "Infinitiv-Objektsatz",
        "Kausalsatz",
        "Keine der Alternativen",
        "Lokalsatz",
        "Modalsatz",
        "Relativsatz",
        "Subjektsatz",
        "Temporalsatz"
       ],
       "description": "Antwort:",
       "index": 0,
       "layout": "IPY_MODEL_8a3ade3155f748d7919b40de3f27c5e4",
       "style": "IPY_MODEL_571045bc5faa47629fa2ca304204c459"
      }
     },
     "cb4251c8b68f4f55bcf1623d182bfce7": {
      "model_module": "@jupyter-widgets/base",
      "model_module_version": "1.0.0",
      "model_name": "LayoutModel",
      "state": {}
     },
     "cb72e82a6d5741b685ea6883f10ec845": {
      "model_module": "@jupyter-widgets/base",
      "model_module_version": "1.0.0",
      "model_name": "LayoutModel",
      "state": {
       "width": "250px"
      }
     },
     "cb771936127b461a869a397f1d00aab9": {
      "model_module": "@jupyter-widgets/base",
      "model_module_version": "1.0.0",
      "model_name": "LayoutModel",
      "state": {
       "width": "250px"
      }
     },
     "cb8cde58894a420c8693df4da64c708f": {
      "model_module": "@jupyter-widgets/controls",
      "model_module_version": "1.2.0",
      "model_name": "CheckboxModel",
      "state": {
       "description": "ihm",
       "disabled": false,
       "layout": "IPY_MODEL_c4fe5bfdf6b94f1688e8483341cf12ef",
       "style": "IPY_MODEL_cefd33b7d6d349a49dc3a4431387d4d7",
       "value": false
      }
     },
     "cb94d9ee2e1e490d90f6d48f265508a2": {
      "model_module": "@jupyter-widgets/base",
      "model_module_version": "1.0.0",
      "model_name": "LayoutModel",
      "state": {
       "width": "250px"
      }
     },
     "cbcaa055b60e4c29bf807cd70292b9f8": {
      "model_module": "@jupyter-widgets/base",
      "model_module_version": "1.0.0",
      "model_name": "LayoutModel",
      "state": {}
     },
     "cbf124936a42496a9596e2207e9f929b": {
      "model_module": "@jupyter-widgets/base",
      "model_module_version": "1.0.0",
      "model_name": "LayoutModel",
      "state": {
       "justify_content": "center"
      }
     },
     "cc67de00d5304e15a7e1b9a717ad4db5": {
      "model_module": "@jupyter-widgets/controls",
      "model_module_version": "1.2.0",
      "model_name": "DescriptionStyleModel",
      "state": {
       "description_width": "initial"
      }
     },
     "cc85d038c1494886a96311c4f6ea203c": {
      "model_module": "@jupyter-widgets/controls",
      "model_module_version": "1.2.0",
      "model_name": "DropdownModel",
      "state": {
       "_options_labels": [
        "Kausalsatz",
        "Keine der Alternativen",
        "Keine der Alternativen",
        "Lokalsatz",
        "Modalsatz",
        "Objektsatz",
        "Relativsatz",
        "Subjektsatz",
        "Temporalsatz"
       ],
       "description": "Antwort:",
       "index": 1,
       "layout": "IPY_MODEL_72859f71cea5434794d465f43036c342",
       "style": "IPY_MODEL_7688995b04f64ae7a59ea7ee3ea15d59"
      }
     },
     "cca2f63554be4aa1979e2efe757271e3": {
      "model_module": "@jupyter-widgets/base",
      "model_module_version": "1.0.0",
      "model_name": "LayoutModel",
      "state": {}
     },
     "cd553cd793ec44bbb4cfb05db807f469": {
      "model_module": "@jupyter-widgets/controls",
      "model_module_version": "1.2.0",
      "model_name": "CheckboxModel",
      "state": {
       "description": "Das Vorfeld ist unbesetzt.",
       "disabled": false,
       "layout": "IPY_MODEL_f502832011354441a5ddfa8aefbb79a4",
       "style": "IPY_MODEL_48b4d8f56f83417cae2b46797027e416",
       "value": true
      }
     },
     "cd61a5f1b11243748a2c7881e00df114": {
      "model_module": "@jupyter-widgets/controls",
      "model_module_version": "1.2.0",
      "model_name": "DropdownModel",
      "state": {
       "_options_labels": [
        "Finalsatz",
        "Kausalsatz",
        "Keine der Alternativen",
        "Lokalsatz",
        "Modalsatz",
        "Relativsatz",
        "Temporalsatz"
       ],
       "description": "Antwort:",
       "index": 0,
       "layout": "IPY_MODEL_c703cdcf292144ecba9a4f4ce4b21755",
       "style": "IPY_MODEL_ea45f3e22f234db0ac0d5db7ad900b3e"
      }
     },
     "cd7555d8f64b48118670e9a8ac05bef2": {
      "model_module": "@jupyter-widgets/controls",
      "model_module_version": "1.2.0",
      "model_name": "HTMLModel",
      "state": {
       "layout": "IPY_MODEL_37e78b46d4a54e69a90b678eeb133875",
       "style": "IPY_MODEL_b8e1cc3d61eb4737814d2f096f7c0b77",
       "value": "<i>Markieren Sie <ins>alle</ins> passenden Antworten: </i>"
      }
     },
     "cdb6af244ad8441782b24bdc5a6996df": {
      "model_module": "@jupyter-widgets/controls",
      "model_module_version": "1.2.0",
      "model_name": "VBoxModel",
      "state": {
       "children": [
        "IPY_MODEL_68260289488244a2abc8f7da6d8b7f05",
        "IPY_MODEL_67f1aa439a484164bbead8ab35eb6a6a",
        "IPY_MODEL_af6a00d412934d12975b983f2d6edef3",
        "IPY_MODEL_a812cbc9125f4829b93356a2d38a4c18"
       ],
       "layout": "IPY_MODEL_54af4b06f65845638a88843a07e22fc4"
      }
     },
     "cdd82565667248b7acb4a08fa2cdea1d": {
      "model_module": "@jupyter-widgets/base",
      "model_module_version": "1.0.0",
      "model_name": "LayoutModel",
      "state": {
       "width": "250px"
      }
     },
     "cdf0819511ff4db9881d3e95a2f95270": {
      "model_module": "@jupyter-widgets/base",
      "model_module_version": "1.0.0",
      "model_name": "LayoutModel",
      "state": {}
     },
     "ce029ab190034e6ea2219578ae9302cd": {
      "model_module": "@jupyter-widgets/base",
      "model_module_version": "1.0.0",
      "model_name": "LayoutModel",
      "state": {
       "justify_content": "center"
      }
     },
     "ce26178830554ed683db68db557446fa": {
      "model_module": "@jupyter-widgets/base",
      "model_module_version": "1.0.0",
      "model_name": "LayoutModel",
      "state": {
       "width": "600px"
      }
     },
     "cec2f2bafcbc416284a01eda509c4e6c": {
      "model_module": "@jupyter-widgets/base",
      "model_module_version": "1.0.0",
      "model_name": "LayoutModel",
      "state": {
       "justify_content": "center"
      }
     },
     "ced8fa281ea649819cb13e7cb649125b": {
      "model_module": "@jupyter-widgets/base",
      "model_module_version": "1.0.0",
      "model_name": "LayoutModel",
      "state": {
       "width": "250px"
      }
     },
     "cefd33b7d6d349a49dc3a4431387d4d7": {
      "model_module": "@jupyter-widgets/controls",
      "model_module_version": "1.2.0",
      "model_name": "DescriptionStyleModel",
      "state": {
       "description_width": "initial"
      }
     },
     "cf4362287e054a3b9b94112117e84213": {
      "model_module": "@jupyter-widgets/controls",
      "model_module_version": "1.2.0",
      "model_name": "DescriptionStyleModel",
      "state": {
       "description_width": "initial"
      }
     },
     "cf8189b1aed2467cb5682e1f985abe8d": {
      "model_module": "@jupyter-widgets/base",
      "model_module_version": "1.0.0",
      "model_name": "LayoutModel",
      "state": {
       "width": "600px"
      }
     },
     "cf8a3eb641634606956cf94617ab82a5": {
      "model_module": "@jupyter-widgets/controls",
      "model_module_version": "1.2.0",
      "model_name": "HTMLModel",
      "state": {
       "layout": "IPY_MODEL_b580efaadab244f397836772e4995035",
       "style": "IPY_MODEL_6f568ee48f2e433ea3480b82d0fbd885",
       "value": "<h4 style=\"font-size:14px;\">Wie läßt sich dieser Satztyp klassifizieren?</h4>"
      }
     },
     "d05e56b54b42499e9902df01a621c5b3": {
      "model_module": "@jupyter-widgets/controls",
      "model_module_version": "1.2.0",
      "model_name": "HTMLModel",
      "state": {
       "layout": "IPY_MODEL_11d6f98b2a604e3db618d32bd1508a9f",
       "style": "IPY_MODEL_1f7e2f9c12ba49a3a067afcb4eecb80a",
       "value": "<i>Wählen Sie die <ins>eine</ins> korrekte Antwort aus: </i>"
      }
     },
     "d09907bd000d49059b91ee9d9accc827": {
      "model_module": "@jupyter-widgets/controls",
      "model_module_version": "1.2.0",
      "model_name": "ButtonStyleModel",
      "state": {
       "button_color": "lightgreen"
      }
     },
     "d0f7c654146a4064b1c7310d707dc771": {
      "model_module": "@jupyter-widgets/controls",
      "model_module_version": "1.2.0",
      "model_name": "DescriptionStyleModel",
      "state": {
       "description_width": "initial"
      }
     },
     "d11d96a825ef4cfaa07e6a16a6926c46": {
      "model_module": "@jupyter-widgets/base",
      "model_module_version": "1.0.0",
      "model_name": "LayoutModel",
      "state": {}
     },
     "d1412f63d6d745db8597fc7de5745ff7": {
      "model_module": "@jupyter-widgets/controls",
      "model_module_version": "1.2.0",
      "model_name": "VBoxModel",
      "state": {
       "children": [
        "IPY_MODEL_a2a40cb1803f4b38ae70715826e80c11",
        "IPY_MODEL_bdbf4714f4a248d392b8d78e31c1af1a",
        "IPY_MODEL_5770824dabf546af9058082dc24bf543"
       ],
       "layout": "IPY_MODEL_b24f169616ba440b82bb3802c9318bc2"
      }
     },
     "d1ae2637f13846d993d1eb48d2104715": {
      "model_module": "@jupyter-widgets/controls",
      "model_module_version": "1.2.0",
      "model_name": "DescriptionStyleModel",
      "state": {
       "description_width": "initial"
      }
     },
     "d1df419f19f942c4b3ec442d3e55c495": {
      "model_module": "@jupyter-widgets/base",
      "model_module_version": "1.0.0",
      "model_name": "LayoutModel",
      "state": {}
     },
     "d21834517cb54a439ade7b31c5603b65": {
      "model_module": "@jupyter-widgets/base",
      "model_module_version": "1.0.0",
      "model_name": "LayoutModel",
      "state": {
       "width": "600px"
      }
     },
     "d24fe62f69d64082a46854bdb3e9c181": {
      "model_module": "@jupyter-widgets/base",
      "model_module_version": "1.0.0",
      "model_name": "LayoutModel",
      "state": {}
     },
     "d27161cbe0be4b4b99149a8ecd994156": {
      "model_module": "@jupyter-widgets/controls",
      "model_module_version": "1.2.0",
      "model_name": "DescriptionStyleModel",
      "state": {
       "description_width": "initial"
      }
     },
     "d2d4a5834f6e4eab9d8b288c8c4e5275": {
      "model_module": "@jupyter-widgets/controls",
      "model_module_version": "1.2.0",
      "model_name": "HTMLModel",
      "state": {
       "layout": "IPY_MODEL_11cb9a992cf24072824236f7eb358d5a",
       "style": "IPY_MODEL_6752933b45824388b1339e486e6f0964",
       "value": "<i>Wählen Sie die <ins>eine</ins> korrekte Antwort aus: </i>"
      }
     },
     "d2faccb58eaa454c9abdf78f2faf7f64": {
      "model_module": "@jupyter-widgets/controls",
      "model_module_version": "1.2.0",
      "model_name": "CheckboxModel",
      "state": {
       "description": "Verbzweitstellung",
       "disabled": false,
       "layout": "IPY_MODEL_6f16091c722d45cbae2b3c825da9ee86",
       "style": "IPY_MODEL_3d4b817d6a7144fbbcf7a1816300d07f",
       "value": true
      }
     },
     "d30c07db2ffd4cfe9593e60b0d0354e7": {
      "model_module": "@jupyter-widgets/controls",
      "model_module_version": "1.2.0",
      "model_name": "ButtonModel",
      "state": {
       "description": "Korrekt?",
       "layout": "IPY_MODEL_de7784ccb02c444e8f3bc45e72dd1f5f",
       "style": "IPY_MODEL_05280017c68b46048843926f529c2752"
      }
     },
     "d36102734f2745ef88462dbcb089c501": {
      "model_module": "@jupyter-widgets/controls",
      "model_module_version": "1.2.0",
      "model_name": "VBoxModel",
      "state": {
       "children": [
        "IPY_MODEL_e7f25ac0effd41a7834655f8db69110c",
        "IPY_MODEL_e7098efd1c754d3da105452e15e9e6a7",
        "IPY_MODEL_23a64bb7d3f44a0f945d92f70aa2a788",
        "IPY_MODEL_af3eaf0ad6344aa59517fd6db42cd010",
        "IPY_MODEL_e2ae67c0d2744d859b27b683ff45eb82"
       ],
       "layout": "IPY_MODEL_53bb0e600b864cc2a53aa3c7a9bc6e13"
      }
     },
     "d3a105caff054dafab1f530c6284448e": {
      "model_module": "@jupyter-widgets/controls",
      "model_module_version": "1.2.0",
      "model_name": "VBoxModel",
      "state": {
       "children": [
        "IPY_MODEL_dc069e615c0b4cd1b2f8bcc5157cf031",
        "IPY_MODEL_240077c0ce2543c280d8c9c875fd1130",
        "IPY_MODEL_ea12774ded694572bfaebc3d0bb02fb7",
        "IPY_MODEL_51a703652283473bbf593434b87bc481"
       ],
       "layout": "IPY_MODEL_583f575854e64420a369be7a64e60f41"
      }
     },
     "d3bd36f0c2d44c15bdcada5f3f47002c": {
      "model_module": "@jupyter-widgets/controls",
      "model_module_version": "1.2.0",
      "model_name": "DescriptionStyleModel",
      "state": {
       "description_width": "initial"
      }
     },
     "d400e23cfb2940f79c40e31d519346de": {
      "model_module": "@jupyter-widgets/controls",
      "model_module_version": "1.2.0",
      "model_name": "DescriptionStyleModel",
      "state": {
       "description_width": ""
      }
     },
     "d407d9173c304b799a3e1aea42004817": {
      "model_module": "@jupyter-widgets/base",
      "model_module_version": "1.0.0",
      "model_name": "LayoutModel",
      "state": {}
     },
     "d4124897453d4ce2b0a58a3c8cd6c90c": {
      "model_module": "@jupyter-widgets/controls",
      "model_module_version": "1.2.0",
      "model_name": "ButtonStyleModel",
      "state": {}
     },
     "d4411c9c3a434a4caa064480581924d9": {
      "model_module": "@jupyter-widgets/controls",
      "model_module_version": "1.2.0",
      "model_name": "ButtonStyleModel",
      "state": {
       "button_color": "lightgreen"
      }
     },
     "d471c8a49d794938be8c88bdd460ca85": {
      "model_module": "@jupyter-widgets/controls",
      "model_module_version": "1.2.0",
      "model_name": "DescriptionStyleModel",
      "state": {
       "description_width": "initial"
      }
     },
     "d5095dabb69147cb96fb08031069e98b": {
      "model_module": "@jupyter-widgets/controls",
      "model_module_version": "1.2.0",
      "model_name": "CheckboxModel",
      "state": {
       "description": "kleine",
       "disabled": false,
       "layout": "IPY_MODEL_bffd431382014850bcfd860e1722c24c",
       "style": "IPY_MODEL_73cbf7389f6442b9af4de26e8d45c192",
       "value": false
      }
     },
     "d511eab17a4d4baea87383b4b19527a1": {
      "model_module": "@jupyter-widgets/controls",
      "model_module_version": "1.2.0",
      "model_name": "HTMLModel",
      "state": {
       "layout": "IPY_MODEL_c38d84d825264535a75eb5f4e5d347a3",
       "style": "IPY_MODEL_2b3bacb0d8794861b7c9265e85f0fc1d",
       "value": "<h4 style=\"font-size:14px;\">Welcher eingebettete Satztyp liegt vor?</h4>"
      }
     },
     "d55da9a6c6844fe589874bf512af7e05": {
      "model_module": "@jupyter-widgets/controls",
      "model_module_version": "1.2.0",
      "model_name": "ButtonStyleModel",
      "state": {
       "button_color": "lightgreen"
      }
     },
     "d5825856529d4341857ff7ffc43bc09a": {
      "model_module": "@jupyter-widgets/controls",
      "model_module_version": "1.2.0",
      "model_name": "VBoxModel",
      "state": {
       "children": [
        "IPY_MODEL_947b6bf2e03644898119d22bb267bd9c",
        "IPY_MODEL_b6014bfc01514ea79d984164215bef8b",
        "IPY_MODEL_6313adb3ea464f97a91cc1c8df0e87fb",
        "IPY_MODEL_e837c17819fb45ceb821047ad07c6efc"
       ],
       "layout": "IPY_MODEL_9a93fd1301f14d16a3ce44cf3e578d0a"
      }
     },
     "d583cd206e31483daa0bd4705eeda5b5": {
      "model_module": "@jupyter-widgets/base",
      "model_module_version": "1.0.0",
      "model_name": "LayoutModel",
      "state": {
       "width": "250px"
      }
     },
     "d58cec701e304e1daf6c505a12905afd": {
      "model_module": "@jupyter-widgets/controls",
      "model_module_version": "1.2.0",
      "model_name": "DescriptionStyleModel",
      "state": {
       "description_width": "initial"
      }
     },
     "d5c36fee5ca14a1ab586882b8996a1c2": {
      "model_module": "@jupyter-widgets/base",
      "model_module_version": "1.0.0",
      "model_name": "LayoutModel",
      "state": {
       "width": "250px"
      }
     },
     "d5e0ae9014774869886bd5a562339e6f": {
      "model_module": "@jupyter-widgets/controls",
      "model_module_version": "1.2.0",
      "model_name": "DescriptionStyleModel",
      "state": {
       "description_width": ""
      }
     },
     "d61a5d9ce42e4e2e84494828887db685": {
      "model_module": "@jupyter-widgets/controls",
      "model_module_version": "1.2.0",
      "model_name": "DescriptionStyleModel",
      "state": {
       "description_width": ""
      }
     },
     "d61a97588fb94368841a17c1dd25f77d": {
      "model_module": "@jupyter-widgets/base",
      "model_module_version": "1.0.0",
      "model_name": "LayoutModel",
      "state": {
       "width": "600px"
      }
     },
     "d647dd7e80df47b8a005b4c3555bda04": {
      "model_module": "@jupyter-widgets/controls",
      "model_module_version": "1.2.0",
      "model_name": "DescriptionStyleModel",
      "state": {
       "description_width": "initial"
      }
     },
     "d670174b0c884d4989206095ce7f66e8": {
      "model_module": "@jupyter-widgets/base",
      "model_module_version": "1.0.0",
      "model_name": "LayoutModel",
      "state": {
       "width": "600px"
      }
     },
     "d6840eee93764d279615b6ab2e2fb42c": {
      "model_module": "@jupyter-widgets/controls",
      "model_module_version": "1.2.0",
      "model_name": "DescriptionStyleModel",
      "state": {
       "description_width": "initial"
      }
     },
     "d6c3de0d089046129789d7d57fe28eba": {
      "model_module": "@jupyter-widgets/controls",
      "model_module_version": "1.2.0",
      "model_name": "DescriptionStyleModel",
      "state": {
       "description_width": ""
      }
     },
     "d6cf702e36b34f8ead694262d5d8c19c": {
      "model_module": "@jupyter-widgets/controls",
      "model_module_version": "1.2.0",
      "model_name": "HTMLModel",
      "state": {
       "layout": "IPY_MODEL_45037c56b6a642468238f333395d9a7c",
       "style": "IPY_MODEL_37eeeee287624acabe108174c83fc15e",
       "value": "<i>Wählen Sie die <ins>eine</ins> korrekte Antwort aus: </i>"
      }
     },
     "d6e1fdb2528d414ba4d8e220644d7af5": {
      "model_module": "@jupyter-widgets/controls",
      "model_module_version": "1.2.0",
      "model_name": "DescriptionStyleModel",
      "state": {
       "description_width": ""
      }
     },
     "d77e5a4ec84641f78b9dc6b4c77c806a": {
      "model_module": "@jupyter-widgets/controls",
      "model_module_version": "1.2.0",
      "model_name": "HTMLModel",
      "state": {
       "layout": "IPY_MODEL_01ce93bfec134415b64515a34ed71936",
       "style": "IPY_MODEL_3222dfac138241eab5c5d4ede37bf237",
       "value": "<h4 style=\"font-size:14px;\">Wie läßt sich dieser Satztyp klassifizieren?</h4>"
      }
     },
     "d7a814013e344bbea40fca58c3ad5037": {
      "model_module": "@jupyter-widgets/base",
      "model_module_version": "1.0.0",
      "model_name": "LayoutModel",
      "state": {}
     },
     "d8a47a0fb658410ebd89fac65c37b2ab": {
      "model_module": "@jupyter-widgets/controls",
      "model_module_version": "1.2.0",
      "model_name": "DescriptionStyleModel",
      "state": {
       "description_width": ""
      }
     },
     "d93e56fa25a64856971d8148d3fb8727": {
      "model_module": "@jupyter-widgets/base",
      "model_module_version": "1.0.0",
      "model_name": "LayoutModel",
      "state": {
       "justify_content": "center"
      }
     },
     "d95b94f8e52a4d60a305712d220f2b98": {
      "model_module": "@jupyter-widgets/controls",
      "model_module_version": "1.2.0",
      "model_name": "HTMLModel",
      "state": {
       "layout": "IPY_MODEL_3e0ee0688ae4471a9256e07d3f721f5e",
       "style": "IPY_MODEL_936031de631144adac5f4158a11ec673",
       "value": "<i>Wählen Sie die <ins>eine</ins> korrekte Antwort aus: </i>"
      }
     },
     "d9998c5f414347e9a18fe366ee812e1b": {
      "model_module": "@jupyter-widgets/controls",
      "model_module_version": "1.2.0",
      "model_name": "VBoxModel",
      "state": {
       "children": [
        "IPY_MODEL_9f5dcaa4a4af436d81b5951c4973cb97",
        "IPY_MODEL_9f863d96f79c41e2854443e8e196bf9d",
        "IPY_MODEL_85afc5e65b2a43b39ef42aa7d9f50ab4",
        "IPY_MODEL_2c10bf4d6d324920b698cfe3eca7b2ba"
       ],
       "layout": "IPY_MODEL_79385ac9e9a3449d923905e1149ece02"
      }
     },
     "d9ee40c0b7954d03ae75c9c99aba65b4": {
      "model_module": "@jupyter-widgets/base",
      "model_module_version": "1.0.0",
      "model_name": "LayoutModel",
      "state": {
       "width": "600px"
      }
     },
     "d9fa14d90f764bb3ba1eaa49bb51b04f": {
      "model_module": "@jupyter-widgets/controls",
      "model_module_version": "1.2.0",
      "model_name": "ButtonStyleModel",
      "state": {
       "button_color": "lightgreen"
      }
     },
     "da0ad849adb24f5f88132ebe27de3c78": {
      "model_module": "@jupyter-widgets/base",
      "model_module_version": "1.0.0",
      "model_name": "LayoutModel",
      "state": {
       "width": "600px"
      }
     },
     "da44fb0f0b2147fb9d9dda2d7644a5aa": {
      "model_module": "@jupyter-widgets/controls",
      "model_module_version": "1.2.0",
      "model_name": "CheckboxModel",
      "state": {
       "description": "Weihnachten",
       "disabled": false,
       "layout": "IPY_MODEL_5c3cd5ff1532461789fe768034f912af",
       "style": "IPY_MODEL_04fb5b81325a4de48e0303d3908fe3f5",
       "value": false
      }
     },
     "da5693e3de0d4df095282c6daa91e01a": {
      "model_module": "@jupyter-widgets/controls",
      "model_module_version": "1.2.0",
      "model_name": "HTMLModel",
      "state": {
       "layout": "IPY_MODEL_2cd5d4bd71914e1d8736bf2e5ed8b768",
       "style": "IPY_MODEL_db7c4c5696ad42a885e050b41d3dc66c",
       "value": "<i>Wählen Sie die <ins>eine</ins> korrekte Antwort aus: </i>"
      }
     },
     "daaad387d3484097bca71b8c88faa12f": {
      "model_module": "@jupyter-widgets/base",
      "model_module_version": "1.0.0",
      "model_name": "LayoutModel",
      "state": {
       "width": "250px"
      }
     },
     "dae3b0b7f416491faf862adfe4557c54": {
      "model_module": "@jupyter-widgets/controls",
      "model_module_version": "1.2.0",
      "model_name": "DescriptionStyleModel",
      "state": {
       "description_width": ""
      }
     },
     "db02ef9074e9453ebe2f7caa9719d911": {
      "model_module": "@jupyter-widgets/controls",
      "model_module_version": "1.2.0",
      "model_name": "ButtonModel",
      "state": {
       "description": "Satz 1",
       "layout": "IPY_MODEL_c2b81b161da44b528c4ad5f2ff09359c",
       "style": "IPY_MODEL_b573ba6ee1764eaf87fc6e7f34d62023"
      }
     },
     "db0dabd190bb4c20af6d7ddcd4d96b4c": {
      "model_module": "@jupyter-widgets/controls",
      "model_module_version": "1.2.0",
      "model_name": "DescriptionStyleModel",
      "state": {
       "description_width": ""
      }
     },
     "db26992f87c743bcb8ec0093d67ea5e8": {
      "model_module": "@jupyter-widgets/controls",
      "model_module_version": "1.2.0",
      "model_name": "ButtonModel",
      "state": {
       "description": "ccomp",
       "layout": "IPY_MODEL_3af06372d3ce494986504de2f761b0fc",
       "style": "IPY_MODEL_0501db2a3bc646deb37ca90f4cd6ee6a"
      }
     },
     "db7c4c5696ad42a885e050b41d3dc66c": {
      "model_module": "@jupyter-widgets/controls",
      "model_module_version": "1.2.0",
      "model_name": "DescriptionStyleModel",
      "state": {
       "description_width": ""
      }
     },
     "db917978a98f42ac8f37ebba738d034d": {
      "model_module": "@jupyter-widgets/base",
      "model_module_version": "1.0.0",
      "model_name": "LayoutModel",
      "state": {
       "width": "600px"
      }
     },
     "dbc033f5685844b196f663259bc59dfb": {
      "model_module": "@jupyter-widgets/controls",
      "model_module_version": "1.2.0",
      "model_name": "CheckboxModel",
      "state": {
       "description": "Satzschlusszeichen: Fragezeichen",
       "disabled": false,
       "layout": "IPY_MODEL_0239de72f48b42a6af856496187a3b2b",
       "style": "IPY_MODEL_1adffcd764a34ae3ad5e35f712cb6662",
       "value": true
      }
     },
     "dc069e615c0b4cd1b2f8bcc5157cf031": {
      "model_module": "@jupyter-widgets/controls",
      "model_module_version": "1.2.0",
      "model_name": "CheckboxModel",
      "state": {
       "description": "Adverbialsatz (<code>advcl</code>)",
       "disabled": false,
       "layout": "IPY_MODEL_c6a510d0a2fb40f38f09eecfa59d4c26",
       "style": "IPY_MODEL_3025c855701e4850a32f16a9e751f15c",
       "value": true
      }
     },
     "dc0f9ff917ac476cade7090fb66e7472": {
      "model_module": "@jupyter-widgets/controls",
      "model_module_version": "1.2.0",
      "model_name": "DescriptionStyleModel",
      "state": {
       "description_width": ""
      }
     },
     "dc2f4e039db64fababd813e4c5d092a7": {
      "model_module": "@jupyter-widgets/base",
      "model_module_version": "1.0.0",
      "model_name": "LayoutModel",
      "state": {
       "width": "600px"
      }
     },
     "dc75fedc58ed476dbc6228f028e58af0": {
      "model_module": "@jupyter-widgets/base",
      "model_module_version": "1.0.0",
      "model_name": "LayoutModel",
      "state": {}
     },
     "dc76051f68d2415f94c8a3596b9f7924": {
      "model_module": "@jupyter-widgets/controls",
      "model_module_version": "1.2.0",
      "model_name": "VBoxModel",
      "state": {
       "children": [
        "IPY_MODEL_2862cf2c2bc34beab69e39477728173a",
        "IPY_MODEL_88555ae4d4324344ae9e13c36b97290d",
        "IPY_MODEL_02326d57af5a4260883901a0a5183188",
        "IPY_MODEL_fed2f14e1e7d43d0b861e91d4c9bbf2e"
       ],
       "layout": "IPY_MODEL_22170b9c871d46bfb2d9bf665d003213"
      }
     },
     "dcc12070298d4b7f909104da971fac62": {
      "model_module": "@jupyter-widgets/controls",
      "model_module_version": "1.2.0",
      "model_name": "DescriptionStyleModel",
      "state": {
       "description_width": "initial"
      }
     },
     "dce4f6eb6ea34e90bead259a6bce755e": {
      "model_module": "@jupyter-widgets/controls",
      "model_module_version": "1.2.0",
      "model_name": "CheckboxModel",
      "state": {
       "description": "heute",
       "disabled": false,
       "layout": "IPY_MODEL_45076771525e4fcab7a9e85884fb6694",
       "style": "IPY_MODEL_66dfffc96aa44714b11a2ec45be807b5",
       "value": false
      }
     },
     "dd0159087c9f48aa83f2d8233f987ef3": {
      "model_module": "@jupyter-widgets/base",
      "model_module_version": "1.0.0",
      "model_name": "LayoutModel",
      "state": {
       "width": "600px"
      }
     },
     "dd619cca36764bd6b29016d2a7c2d260": {
      "model_module": "@jupyter-widgets/base",
      "model_module_version": "1.0.0",
      "model_name": "LayoutModel",
      "state": {
       "justify_content": "center"
      }
     },
     "dd6f3e9680a14f158e1123f10089efbf": {
      "model_module": "@jupyter-widgets/controls",
      "model_module_version": "1.2.0",
      "model_name": "HBoxModel",
      "state": {
       "children": [
        "IPY_MODEL_acb63e7c63f44752aa4586e81b1203ff",
        "IPY_MODEL_bbf90ce0716d41d7b50b092cc1e468ca"
       ],
       "layout": "IPY_MODEL_f18f4ffd8f314a658c9d129a6cb36eb7"
      }
     },
     "ddbe917622254a67887fbfc1424e820f": {
      "model_module": "@jupyter-widgets/controls",
      "model_module_version": "1.2.0",
      "model_name": "CheckboxModel",
      "state": {
       "description": "kleine",
       "disabled": false,
       "layout": "IPY_MODEL_2b65bc9e917042029e9cc24b767de3b3",
       "style": "IPY_MODEL_183b51bd264b45e2b10b84d1f3ee2dac",
       "value": false
      }
     },
     "de2097110f0045e3b44bfe8a7f23c734": {
      "model_module": "@jupyter-widgets/controls",
      "model_module_version": "1.2.0",
      "model_name": "HTMLModel",
      "state": {
       "layout": "IPY_MODEL_52ee7e5f86fd42b6bee488d8457091b8",
       "style": "IPY_MODEL_f6eacf0c6a3c45bb9fb3e57e7f8d81e3",
       "value": "<h4 style=\"font-size:14px;\">Was ist <i>als sie ...</i> semantisch für ein Satz?</h4>"
      }
     },
     "de58625b986048a89d7299223f9a0587": {
      "model_module": "@jupyter-widgets/controls",
      "model_module_version": "1.2.0",
      "model_name": "HBoxModel",
      "state": {
       "children": [
        "IPY_MODEL_b4c916521afd4bc896f77bf92c504e24",
        "IPY_MODEL_7dd66078514e40c19f32ce3e3a6fe6ca"
       ],
       "layout": "IPY_MODEL_29bbc364c1ef471f8baa21c92da9648b"
      }
     },
     "de7784ccb02c444e8f3bc45e72dd1f5f": {
      "model_module": "@jupyter-widgets/base",
      "model_module_version": "1.0.0",
      "model_name": "LayoutModel",
      "state": {
       "width": "250px"
      }
     },
     "de7b3987ff804515bfa1d05beb035ce5": {
      "model_module": "@jupyter-widgets/controls",
      "model_module_version": "1.2.0",
      "model_name": "ButtonModel",
      "state": {
       "description": "koordiniert",
       "layout": "IPY_MODEL_ced8fa281ea649819cb13e7cb649125b",
       "style": "IPY_MODEL_35d5c109316441679948690879c6bf99"
      }
     },
     "de7daf32b89441a8b7db6afd7299edd6": {
      "model_module": "@jupyter-widgets/controls",
      "model_module_version": "1.2.0",
      "model_name": "CheckboxModel",
      "state": {
       "description": "das",
       "disabled": false,
       "layout": "IPY_MODEL_fd44d6fe7dc04f6fac30fba3933706bb",
       "style": "IPY_MODEL_9ec27bf3e0e24569b5b44be71ed53972",
       "value": true
      }
     },
     "df704f89a38b403f82254750956e8c24": {
      "model_module": "@jupyter-widgets/controls",
      "model_module_version": "1.2.0",
      "model_name": "DescriptionStyleModel",
      "state": {
       "description_width": "initial"
      }
     },
     "df76b8324c3e4213a97adb0f28046e5c": {
      "model_module": "@jupyter-widgets/controls",
      "model_module_version": "1.2.0",
      "model_name": "DescriptionStyleModel",
      "state": {
       "description_width": "initial"
      }
     },
     "dfa6422603b64db4a00746672af87c16": {
      "model_module": "@jupyter-widgets/controls",
      "model_module_version": "1.2.0",
      "model_name": "DescriptionStyleModel",
      "state": {
       "description_width": ""
      }
     },
     "e016f03b2ceb4989b813d66697c45314": {
      "model_module": "@jupyter-widgets/controls",
      "model_module_version": "1.2.0",
      "model_name": "DescriptionStyleModel",
      "state": {
       "description_width": ""
      }
     },
     "e062f0ac19294d818a44d1c37a95e205": {
      "model_module": "@jupyter-widgets/base",
      "model_module_version": "1.0.0",
      "model_name": "LayoutModel",
      "state": {
       "width": "600px"
      }
     },
     "e09fc399d65d491ca1d3bca53923fcd0": {
      "model_module": "@jupyter-widgets/controls",
      "model_module_version": "1.2.0",
      "model_name": "ButtonModel",
      "state": {
       "description": "Korrekt?",
       "layout": "IPY_MODEL_a904900d1ce84586b091314265d97881",
       "style": "IPY_MODEL_77b921b6f3884a5a98f7082c63a83a9f"
      }
     },
     "e0a1c40a39734b608e4d6f3f366cbc81": {
      "model_module": "@jupyter-widgets/controls",
      "model_module_version": "1.2.0",
      "model_name": "ButtonStyleModel",
      "state": {
       "button_color": "lightgreen"
      }
     },
     "e0e78d5c057342b6b76122d2fbc638b8": {
      "model_module": "@jupyter-widgets/base",
      "model_module_version": "1.0.0",
      "model_name": "LayoutModel",
      "state": {
       "justify_content": "center"
      }
     },
     "e1cd08c5bc814f58aa2786f44c00ada0": {
      "model_module": "@jupyter-widgets/controls",
      "model_module_version": "1.2.0",
      "model_name": "HTMLModel",
      "state": {
       "layout": "IPY_MODEL_5fcb6273a75347c89cf9ce1bbf614b72",
       "style": "IPY_MODEL_4d08150f7a2e4ddeb4e15bb3462a4ba5",
       "value": "<h4 style=\"font-size:14px;\">Von welchem Satzteil wird diese Position gefüllt, wenn die Konjunktion fehlt?</h4>"
      }
     },
     "e1f189ce8fa1448f9d060e2b1ae8dddf": {
      "model_module": "@jupyter-widgets/controls",
      "model_module_version": "1.2.0",
      "model_name": "HTMLModel",
      "state": {
       "layout": "IPY_MODEL_241993c352b246408c01f66a885ff648",
       "style": "IPY_MODEL_f813a3854287497a9f3fff3f3621d918",
       "value": "<h4 style=\"font-size:14px;\">Um was für einen Satz handelt es sich syntaktisch bei <i>damit sie ...</i>?</h4>"
      }
     },
     "e2058cbbaffb4f74a43d4653c4bc45ec": {
      "model_module": "@jupyter-widgets/base",
      "model_module_version": "1.0.0",
      "model_name": "LayoutModel",
      "state": {}
     },
     "e254002f36df4c51b76b487327ae5fa9": {
      "model_module": "@jupyter-widgets/controls",
      "model_module_version": "1.2.0",
      "model_name": "ButtonModel",
      "state": {
       "description": "Korrekt?",
       "layout": "IPY_MODEL_f3999548fd5d4a7fb037dee5c4b39ac2",
       "style": "IPY_MODEL_599a29776f284dd7ad45ad85cd8728ef"
      }
     },
     "e2a6e85cd9484a43a90ad3169028368d": {
      "model_module": "@jupyter-widgets/controls",
      "model_module_version": "1.2.0",
      "model_name": "ButtonModel",
      "state": {
       "description": "koordiniert",
       "layout": "IPY_MODEL_cdd82565667248b7acb4a08fa2cdea1d",
       "style": "IPY_MODEL_470baadd9c9746e6a7bc67506759845a"
      }
     },
     "e2ae67c0d2744d859b27b683ff45eb82": {
      "model_module": "@jupyter-widgets/controls",
      "model_module_version": "1.2.0",
      "model_name": "CheckboxModel",
      "state": {
       "description": "rechte Satzklammer",
       "disabled": false,
       "layout": "IPY_MODEL_bdea195fd01146ee9a2d3188a5afef77",
       "style": "IPY_MODEL_fcb7b372b0564189b309bfb375aa8789",
       "value": false
      }
     },
     "e2b4cd176c174e46b6cb2e22d592bc3c": {
      "model_module": "@jupyter-widgets/base",
      "model_module_version": "1.0.0",
      "model_name": "LayoutModel",
      "state": {
       "width": "600px"
      }
     },
     "e2c7c60660a24bd5926bbd94bbb9242b": {
      "model_module": "@jupyter-widgets/base",
      "model_module_version": "1.0.0",
      "model_name": "LayoutModel",
      "state": {
       "width": "500px"
      }
     },
     "e2e85af107d04166aada7607b47c96b5": {
      "model_module": "@jupyter-widgets/controls",
      "model_module_version": "1.2.0",
      "model_name": "CheckboxModel",
      "state": {
       "description": "Nebensatz 2. Grades",
       "disabled": false,
       "layout": "IPY_MODEL_050f8faa5805401db5c6214685c082b6",
       "style": "IPY_MODEL_c0b9dd8c78424135b56f31162f600976",
       "value": false
      }
     },
     "e2fb19b750a14bb39b0690f2324b3d4d": {
      "model_module": "@jupyter-widgets/base",
      "model_module_version": "1.0.0",
      "model_name": "LayoutModel",
      "state": {}
     },
     "e302cc9ec4134b68bc44b356a26135c7": {
      "model_module": "@jupyter-widgets/controls",
      "model_module_version": "1.2.0",
      "model_name": "ButtonModel",
      "state": {
       "description": "Korrekt?",
       "layout": "IPY_MODEL_8765206e062843b5bf148d1c7d741f8d",
       "style": "IPY_MODEL_7b0b746772ab4ecf9c3fbdf57157cd22"
      }
     },
     "e330ce25ad024338b48ee70797bc3920": {
      "model_module": "@jupyter-widgets/controls",
      "model_module_version": "1.2.0",
      "model_name": "VBoxModel",
      "state": {
       "children": [
        "IPY_MODEL_a75cf33d8701406e931e58b60cea4921",
        "IPY_MODEL_5ef3ca9c1cee40ecbb25b3fe5a78abc4",
        "IPY_MODEL_612686a1a491485193c527cedc725256",
        "IPY_MODEL_c0ee94a325fc4ae68d88bae0956e631b"
       ],
       "layout": "IPY_MODEL_eea127a7d03f43e180ee705a3a39756d"
      }
     },
     "e38f626c0d13442eb78215c536349723": {
      "model_module": "@jupyter-widgets/base",
      "model_module_version": "1.0.0",
      "model_name": "LayoutModel",
      "state": {
       "width": "250px"
      }
     },
     "e3c112d31be4465cb6014201baf7ec72": {
      "model_module": "@jupyter-widgets/controls",
      "model_module_version": "1.2.0",
      "model_name": "CheckboxModel",
      "state": {
       "description": "Modus: Indikativ",
       "disabled": false,
       "layout": "IPY_MODEL_6140b3f67c3248e7a01ea172d67bff6a",
       "style": "IPY_MODEL_92dccdb871504294bde682358161ded4",
       "value": true
      }
     },
     "e3e0c64b2b4a4e6484c670458fe51e9d": {
      "model_module": "@jupyter-widgets/base",
      "model_module_version": "1.0.0",
      "model_name": "LayoutModel",
      "state": {}
     },
     "e3f8030b90d6403495a86b4e19b89f1b": {
      "model_module": "@jupyter-widgets/controls",
      "model_module_version": "1.2.0",
      "model_name": "DropdownModel",
      "state": {
       "_options_labels": [
        "Adverbialsatz",
        "Attributsatz",
        "Keine der Alternativen",
        "Komplementsatz",
        "Matrixsatz"
       ],
       "description": "Antwort:",
       "index": 0,
       "layout": "IPY_MODEL_287a7adc7d2c4d3290d845ff849c5226",
       "style": "IPY_MODEL_6b1bb47a299d4c059f97258e0431e6c5"
      }
     },
     "e40d74d817b54603a7024d5ba8e0068b": {
      "model_module": "@jupyter-widgets/controls",
      "model_module_version": "1.2.0",
      "model_name": "VBoxModel",
      "state": {
       "children": [
        "IPY_MODEL_bd94a1ae4c2c4f60bc459963f7d7b4d4",
        "IPY_MODEL_c192eef34118424184a313db4fb87788",
        "IPY_MODEL_c08b3456f9314e0f8eb47fd6cc3e97f8",
        "IPY_MODEL_4cc5c47fdbc94a1caf3f24ff23cdc001"
       ],
       "layout": "IPY_MODEL_baadf952804249f5ad711754010a2f27"
      }
     },
     "e4201bee6acb4a648227b8c0973785f6": {
      "model_module": "@jupyter-widgets/controls",
      "model_module_version": "1.2.0",
      "model_name": "ButtonModel",
      "state": {
       "description": "finites Verb",
       "layout": "IPY_MODEL_7c5d2d28659d45c3ab26283c3a08e685",
       "style": "IPY_MODEL_c71b6c52e85c48ef8902e91ce8a5e7ab"
      }
     },
     "e5218f80947a4f51bed554cabbd08796": {
      "model_module": "@jupyter-widgets/base",
      "model_module_version": "1.0.0",
      "model_name": "LayoutModel",
      "state": {
       "width": "250px"
      }
     },
     "e664e2783bee48bc8bea04435f931013": {
      "model_module": "@jupyter-widgets/controls",
      "model_module_version": "1.2.0",
      "model_name": "ButtonStyleModel",
      "state": {
       "button_color": "lightgreen"
      }
     },
     "e6ca505147c447c9af9f4fac45432b36": {
      "model_module": "@jupyter-widgets/base",
      "model_module_version": "1.0.0",
      "model_name": "LayoutModel",
      "state": {
       "width": "600px"
      }
     },
     "e6ed70da3f3a4c3ca21e4ec2ce04ae83": {
      "model_module": "@jupyter-widgets/base",
      "model_module_version": "1.0.0",
      "model_name": "LayoutModel",
      "state": {
       "justify_content": "center"
      }
     },
     "e7098efd1c754d3da105452e15e9e6a7": {
      "model_module": "@jupyter-widgets/controls",
      "model_module_version": "1.2.0",
      "model_name": "CheckboxModel",
      "state": {
       "description": "Nachfeld",
       "disabled": false,
       "layout": "IPY_MODEL_468c0e49fbd5455486c9ea89b40a7c3e",
       "style": "IPY_MODEL_bac276893f604d9c8cf1af216e58f484",
       "value": false
      }
     },
     "e7783216d46e4c148325b878c9b68d2e": {
      "model_module": "@jupyter-widgets/base",
      "model_module_version": "1.0.0",
      "model_name": "LayoutModel",
      "state": {}
     },
     "e7bdc84943444f97b4d722293dc5bce4": {
      "model_module": "@jupyter-widgets/controls",
      "model_module_version": "1.2.0",
      "model_name": "ButtonStyleModel",
      "state": {
       "button_color": "lightgreen"
      }
     },
     "e7c0d80f73ec42b7a7925dee9e0cec58": {
      "model_module": "@jupyter-widgets/controls",
      "model_module_version": "1.2.0",
      "model_name": "HTMLModel",
      "state": {
       "layout": "IPY_MODEL_98325a11ce314812a7cf3530450b41cd",
       "style": "IPY_MODEL_575bb0a652a24d6a8f96769beb12bffc",
       "value": "<i>Wählen Sie die <ins>eine</ins> korrekte Antwort aus: </i>"
      }
     },
     "e7c3610a6cd94470bd16a9edae641a6d": {
      "model_module": "@jupyter-widgets/base",
      "model_module_version": "1.0.0",
      "model_name": "LayoutModel",
      "state": {
       "width": "250px"
      }
     },
     "e7f25ac0effd41a7834655f8db69110c": {
      "model_module": "@jupyter-widgets/controls",
      "model_module_version": "1.2.0",
      "model_name": "CheckboxModel",
      "state": {
       "description": "Mittelfeld",
       "disabled": false,
       "layout": "IPY_MODEL_90a5c52beae3453a9fc6251da733ae92",
       "style": "IPY_MODEL_f030bf5086474e839dbed868e75eb6ad",
       "value": false
      }
     },
     "e8338b15b96d4ffc97ba84da7d947049": {
      "model_module": "@jupyter-widgets/controls",
      "model_module_version": "1.2.0",
      "model_name": "HBoxModel",
      "state": {
       "children": [
        "IPY_MODEL_85ad606adca845d4af94cf5480552f96",
        "IPY_MODEL_7fc4e3ff07d1403eb6c163856f18e45b"
       ],
       "layout": "IPY_MODEL_c8af63cd485540deb4eebed8a83f0604"
      }
     },
     "e837c17819fb45ceb821047ad07c6efc": {
      "model_module": "@jupyter-widgets/controls",
      "model_module_version": "1.2.0",
      "model_name": "HBoxModel",
      "state": {
       "children": [
        "IPY_MODEL_a6e70a9e0c7a41b7822cdc6e19473f2d",
        "IPY_MODEL_db26992f87c743bcb8ec0093d67ea5e8"
       ],
       "layout": "IPY_MODEL_c88fd28c924c41e598e8c76506e147df"
      }
     },
     "e8386102d53a47d2b1c154477158e04f": {
      "model_module": "@jupyter-widgets/controls",
      "model_module_version": "1.2.0",
      "model_name": "DescriptionStyleModel",
      "state": {
       "description_width": ""
      }
     },
     "e86969d6d35a4fa7b4367c5bf994e076": {
      "model_module": "@jupyter-widgets/controls",
      "model_module_version": "1.2.0",
      "model_name": "DescriptionStyleModel",
      "state": {
       "description_width": "initial"
      }
     },
     "e8769294241e4ab09182ecdd8f2c3743": {
      "model_module": "@jupyter-widgets/controls",
      "model_module_version": "1.2.0",
      "model_name": "CheckboxModel",
      "state": {
       "description": "Peter gesungen hat",
       "disabled": false,
       "layout": "IPY_MODEL_490e7c391fc8412e866a8bb0eeeeda2c",
       "style": "IPY_MODEL_012433fa1a7842c48a6afa001716d961",
       "value": false
      }
     },
     "e8c45ddc2d954005845ffceef9fce422": {
      "model_module": "@jupyter-widgets/base",
      "model_module_version": "1.0.0",
      "model_name": "LayoutModel",
      "state": {
       "justify_content": "center"
      }
     },
     "e8da9f2c6f32475aa39d65a121d80dfb": {
      "model_module": "@jupyter-widgets/base",
      "model_module_version": "1.0.0",
      "model_name": "LayoutModel",
      "state": {
       "width": "600px"
      }
     },
     "e92a9bc81cc24fc4b830d4a4fe540b4d": {
      "model_module": "@jupyter-widgets/base",
      "model_module_version": "1.0.0",
      "model_name": "LayoutModel",
      "state": {}
     },
     "e9367d5f6eb548c08116c70b755d80ca": {
      "model_module": "@jupyter-widgets/base",
      "model_module_version": "1.0.0",
      "model_name": "LayoutModel",
      "state": {
       "width": "600px"
      }
     },
     "e9aec102f3324be5852d828a8242aa6a": {
      "model_module": "@jupyter-widgets/controls",
      "model_module_version": "1.2.0",
      "model_name": "ButtonModel",
      "state": {
       "description": "Korrekt?",
       "layout": "IPY_MODEL_534f8bfe7ec543f08ef2a0f7bf0955d9",
       "style": "IPY_MODEL_9c5f15fd3d1b456899c84da1f6b2932d"
      }
     },
     "ea12774ded694572bfaebc3d0bb02fb7": {
      "model_module": "@jupyter-widgets/controls",
      "model_module_version": "1.2.0",
      "model_name": "CheckboxModel",
      "state": {
       "description": "Komplementsatz (<code>xcomp</code>)",
       "disabled": false,
       "layout": "IPY_MODEL_d21834517cb54a439ade7b31c5603b65",
       "style": "IPY_MODEL_df704f89a38b403f82254750956e8c24",
       "value": true
      }
     },
     "ea25f844b2654788926830623a4bd5f1": {
      "model_module": "@jupyter-widgets/base",
      "model_module_version": "1.0.0",
      "model_name": "LayoutModel",
      "state": {
       "width": "600px"
      }
     },
     "ea45f3e22f234db0ac0d5db7ad900b3e": {
      "model_module": "@jupyter-widgets/controls",
      "model_module_version": "1.2.0",
      "model_name": "DescriptionStyleModel",
      "state": {
       "description_width": ""
      }
     },
     "ea93857d70334d418f27059dcfaf117f": {
      "model_module": "@jupyter-widgets/controls",
      "model_module_version": "1.2.0",
      "model_name": "CheckboxModel",
      "state": {
       "description": "als sie ...",
       "disabled": false,
       "layout": "IPY_MODEL_4a09c47310984ff8bcbea9914272e55f",
       "style": "IPY_MODEL_20c7f5f05e9f4605a1e3cac3e879be74",
       "value": true
      }
     },
     "eb05e89a069f40cc8489abbb9c278237": {
      "model_module": "@jupyter-widgets/controls",
      "model_module_version": "1.2.0",
      "model_name": "DescriptionStyleModel",
      "state": {
       "description_width": "initial"
      }
     },
     "eb142c631904459cbf3551192ebc67bb": {
      "model_module": "@jupyter-widgets/base",
      "model_module_version": "1.0.0",
      "model_name": "LayoutModel",
      "state": {
       "width": "600px"
      }
     },
     "eb242543f8574c559dd075db7eeb6c44": {
      "model_module": "@jupyter-widgets/base",
      "model_module_version": "1.0.0",
      "model_name": "LayoutModel",
      "state": {
       "justify_content": "center"
      }
     },
     "ebb7e166cd6f421fbf2956f48eba27c7": {
      "model_module": "@jupyter-widgets/controls",
      "model_module_version": "1.2.0",
      "model_name": "DescriptionStyleModel",
      "state": {
       "description_width": ""
      }
     },
     "ebc880376eb540a096eb183ba100bc7f": {
      "model_module": "@jupyter-widgets/controls",
      "model_module_version": "1.2.0",
      "model_name": "DescriptionStyleModel",
      "state": {
       "description_width": "initial"
      }
     },
     "ebf57b1270a44a1aba02155f53f0aa2d": {
      "model_module": "@jupyter-widgets/controls",
      "model_module_version": "1.2.0",
      "model_name": "ButtonModel",
      "state": {
       "description": "Korrekt?",
       "layout": "IPY_MODEL_1c1ba67c6b59491c8171c467841ba0c3",
       "style": "IPY_MODEL_d4411c9c3a434a4caa064480581924d9"
      }
     },
     "ec4fe253297f42108aa70f8990a9372f": {
      "model_module": "@jupyter-widgets/controls",
      "model_module_version": "1.2.0",
      "model_name": "VBoxModel",
      "state": {
       "children": [
        "IPY_MODEL_ae525a3e61ac46e48d3f90243c9e1b2a",
        "IPY_MODEL_118efaeee8654d5db982199ac2908ea4",
        "IPY_MODEL_5e2871d933eb4c47a79c9ed399551182",
        "IPY_MODEL_e9aec102f3324be5852d828a8242aa6a"
       ],
       "layout": "IPY_MODEL_67d497fcb74a4ac0a90338866aca9c5a"
      }
     },
     "ec55f90a1c0a4b17ae161701d1a74404": {
      "model_module": "@jupyter-widgets/controls",
      "model_module_version": "1.2.0",
      "model_name": "HTMLModel",
      "state": {
       "layout": "IPY_MODEL_7a78f6c62ea04d8cb68ee1f99ac27d40",
       "style": "IPY_MODEL_3e7283a51fd846bfb0d8b8a89da53e83",
       "value": "<h4 style=\"font-size:14px;\">Welche Aussagen stimmen für den Teilsatz <i>als sie ...</i> formal gesehen?</h4>"
      }
     },
     "ec8c593a6a80412c80163158cc5e8aa0": {
      "model_module": "@jupyter-widgets/controls",
      "model_module_version": "1.2.0",
      "model_name": "DescriptionStyleModel",
      "state": {
       "description_width": ""
      }
     },
     "eca2b5c017bb476dbd8758e7e6347a06": {
      "model_module": "@jupyter-widgets/base",
      "model_module_version": "1.0.0",
      "model_name": "LayoutModel",
      "state": {}
     },
     "eca356f95a984558808bad193b92fa04": {
      "model_module": "@jupyter-widgets/controls",
      "model_module_version": "1.2.0",
      "model_name": "CheckboxModel",
      "state": {
       "description": "Satzschlusszeichen: Punkt",
       "disabled": false,
       "layout": "IPY_MODEL_a0426097a82c47ad98e3726e6cc5ceb6",
       "style": "IPY_MODEL_d0f7c654146a4064b1c7310d707dc771",
       "value": true
      }
     },
     "ece5e6282eb342cc8ae8cd042e4cb219": {
      "model_module": "@jupyter-widgets/controls",
      "model_module_version": "1.2.0",
      "model_name": "ButtonStyleModel",
      "state": {
       "button_color": "lightgreen"
      }
     },
     "ed23da0dafac4dc4a953ad2c6226f574": {
      "model_module": "@jupyter-widgets/controls",
      "model_module_version": "1.2.0",
      "model_name": "HTMLModel",
      "state": {
       "layout": "IPY_MODEL_ca20730d248c40f4af701b50da862580",
       "style": "IPY_MODEL_e016f03b2ceb4989b813d66697c45314",
       "value": "<h4 style=\"font-size:14px;\">Welcher eingebettete Satztyp liegt vor?</h4>"
      }
     },
     "ed43b63d363a452687bdde5d575eb711": {
      "model_module": "@jupyter-widgets/base",
      "model_module_version": "1.0.0",
      "model_name": "LayoutModel",
      "state": {
       "width": "250px"
      }
     },
     "ee1f9aa24eee47c5b34aa4c4bd1abdf0": {
      "model_module": "@jupyter-widgets/controls",
      "model_module_version": "1.2.0",
      "model_name": "DescriptionStyleModel",
      "state": {
       "description_width": "initial"
      }
     },
     "ee7d4b75d1204388a812682edbc034a9": {
      "model_module": "@jupyter-widgets/controls",
      "model_module_version": "1.2.0",
      "model_name": "DescriptionStyleModel",
      "state": {
       "description_width": "initial"
      }
     },
     "ee9c340910784de7a90a63f965025340": {
      "model_module": "@jupyter-widgets/controls",
      "model_module_version": "1.2.0",
      "model_name": "DescriptionStyleModel",
      "state": {
       "description_width": "initial"
      }
     },
     "eea127a7d03f43e180ee705a3a39756d": {
      "model_module": "@jupyter-widgets/base",
      "model_module_version": "1.0.0",
      "model_name": "LayoutModel",
      "state": {}
     },
     "eec374ebb9ca4606b7fa40237393a18e": {
      "model_module": "@jupyter-widgets/controls",
      "model_module_version": "1.2.0",
      "model_name": "HBoxModel",
      "state": {
       "children": [
        "IPY_MODEL_838562865c6742229ee64d6c58f9bd1a",
        "IPY_MODEL_c39c0dddfaa14c82bc8f415467fdb099"
       ],
       "layout": "IPY_MODEL_a5916144440f42f98e799282a5d7355d"
      }
     },
     "eed99c967992489fa80a9bf17ae7b5ea": {
      "model_module": "@jupyter-widgets/base",
      "model_module_version": "1.0.0",
      "model_name": "LayoutModel",
      "state": {
       "justify_content": "center"
      }
     },
     "eeecbead777e4581ab8bf09c2a19966c": {
      "model_module": "@jupyter-widgets/controls",
      "model_module_version": "1.2.0",
      "model_name": "DescriptionStyleModel",
      "state": {
       "description_width": "initial"
      }
     },
     "ef1529d185154687b3d168560b00e07d": {
      "model_module": "@jupyter-widgets/base",
      "model_module_version": "1.0.0",
      "model_name": "LayoutModel",
      "state": {
       "justify_content": "center"
      }
     },
     "efa56b6fbb2e4cecac7517773071ca94": {
      "model_module": "@jupyter-widgets/base",
      "model_module_version": "1.0.0",
      "model_name": "LayoutModel",
      "state": {
       "width": "250px"
      }
     },
     "efc5efd28d514c3a9976f921c496be63": {
      "model_module": "@jupyter-widgets/base",
      "model_module_version": "1.0.0",
      "model_name": "LayoutModel",
      "state": {
       "width": "250px"
      }
     },
     "efdf41eb35a741c0829daff6f5f2ccc1": {
      "model_module": "@jupyter-widgets/base",
      "model_module_version": "1.0.0",
      "model_name": "LayoutModel",
      "state": {}
     },
     "f023118a88ff45899c3e3bfd9719f66d": {
      "model_module": "@jupyter-widgets/controls",
      "model_module_version": "1.2.0",
      "model_name": "DescriptionStyleModel",
      "state": {
       "description_width": ""
      }
     },
     "f030bf5086474e839dbed868e75eb6ad": {
      "model_module": "@jupyter-widgets/controls",
      "model_module_version": "1.2.0",
      "model_name": "DescriptionStyleModel",
      "state": {
       "description_width": "initial"
      }
     },
     "f03728b7d3ee435190eecefe3a77b046": {
      "model_module": "@jupyter-widgets/controls",
      "model_module_version": "1.2.0",
      "model_name": "DescriptionStyleModel",
      "state": {
       "description_width": ""
      }
     },
     "f04e1b0059404da2b9e61ad29702cfa1": {
      "model_module": "@jupyter-widgets/controls",
      "model_module_version": "1.2.0",
      "model_name": "VBoxModel",
      "state": {
       "children": [
        "IPY_MODEL_b84c513db4684e2f95c2da9fcf38258e",
        "IPY_MODEL_ada1c2a8ab2f4d8e8ed8b259482d215f",
        "IPY_MODEL_b52d0121ef5e4b218a1b0f587210fa47",
        "IPY_MODEL_285ca6d83113448d968384798af14db4"
       ],
       "layout": "IPY_MODEL_dc75fedc58ed476dbc6228f028e58af0"
      }
     },
     "f04eaf69b42f4ef09fbf8b52a93ee8f8": {
      "model_module": "@jupyter-widgets/controls",
      "model_module_version": "1.2.0",
      "model_name": "ButtonStyleModel",
      "state": {}
     },
     "f081b3346a874305a7c658ea56f122af": {
      "model_module": "@jupyter-widgets/controls",
      "model_module_version": "1.2.0",
      "model_name": "ButtonModel",
      "state": {
       "description": "Korrekt?",
       "layout": "IPY_MODEL_9bae1d7846e949ccbe8f1e9169c40593",
       "style": "IPY_MODEL_e0a1c40a39734b608e4d6f3f366cbc81"
      }
     },
     "f09123e5d2874aefa0d3e02033dededb": {
      "model_module": "@jupyter-widgets/controls",
      "model_module_version": "1.2.0",
      "model_name": "CheckboxModel",
      "state": {
       "description": "das",
       "disabled": false,
       "layout": "IPY_MODEL_36e999e6c7474bff8ab1d2a995b992bf",
       "style": "IPY_MODEL_ee9c340910784de7a90a63f965025340",
       "value": false
      }
     },
     "f0929f7b512c4a3bb93766708cfd48cd": {
      "model_module": "@jupyter-widgets/base",
      "model_module_version": "1.0.0",
      "model_name": "LayoutModel",
      "state": {
       "width": "600px"
      }
     },
     "f0e013b35f0542fb90a6fb52a1d3792c": {
      "model_module": "@jupyter-widgets/controls",
      "model_module_version": "1.2.0",
      "model_name": "DescriptionStyleModel",
      "state": {
       "description_width": ""
      }
     },
     "f13690fc73184666ac8ce30097d684a1": {
      "model_module": "@jupyter-widgets/base",
      "model_module_version": "1.0.0",
      "model_name": "LayoutModel",
      "state": {
       "justify_content": "center"
      }
     },
     "f13d8d9fd035402ab7ddb8667b1406ac": {
      "model_module": "@jupyter-widgets/base",
      "model_module_version": "1.0.0",
      "model_name": "LayoutModel",
      "state": {
       "width": "250px"
      }
     },
     "f187faf88fe94072a1fd083fb96eb0ba": {
      "model_module": "@jupyter-widgets/controls",
      "model_module_version": "1.2.0",
      "model_name": "DescriptionStyleModel",
      "state": {
       "description_width": ""
      }
     },
     "f18f4ffd8f314a658c9d129a6cb36eb7": {
      "model_module": "@jupyter-widgets/base",
      "model_module_version": "1.0.0",
      "model_name": "LayoutModel",
      "state": {}
     },
     "f1daf6a8eb0d46369ebb0e9ac2ce9b97": {
      "model_module": "@jupyter-widgets/controls",
      "model_module_version": "1.2.0",
      "model_name": "HTMLModel",
      "state": {
       "layout": "IPY_MODEL_49b957c736364d9eb93ea7cef6246ea0",
       "style": "IPY_MODEL_8b0776a8b2b246eca99b124c0043ef42",
       "value": "<h4 style=\"font-size:14px;\">Welche satzwertigen Funktionen können Infinitivkonstruktionen erfüllen?</h4>"
      }
     },
     "f2423abf98a54e6d83b9e9b82d55ca37": {
      "model_module": "@jupyter-widgets/base",
      "model_module_version": "1.0.0",
      "model_name": "LayoutModel",
      "state": {}
     },
     "f2a44b65074544ed91d24185b88db1cc": {
      "model_module": "@jupyter-widgets/base",
      "model_module_version": "1.0.0",
      "model_name": "LayoutModel",
      "state": {}
     },
     "f2d2aeb43e45468dac7db2493ecd7c46": {
      "model_module": "@jupyter-widgets/controls",
      "model_module_version": "1.2.0",
      "model_name": "ButtonModel",
      "state": {
       "description": "Korrekt?",
       "layout": "IPY_MODEL_d5c36fee5ca14a1ab586882b8996a1c2",
       "style": "IPY_MODEL_06ce26e524cc4f14a7e615aebfad48b7"
      }
     },
     "f2de7f9c51bf483e8bde74942a48cf9c": {
      "model_module": "@jupyter-widgets/controls",
      "model_module_version": "1.2.0",
      "model_name": "ButtonModel",
      "state": {
       "description": "Korrekt?",
       "layout": "IPY_MODEL_45d60dc774ae4332984cc4bf460e80ed",
       "style": "IPY_MODEL_fb48362bf2b44429bd583245a80a2ddc"
      }
     },
     "f2ee3c1dd99341e2add62f21aff238fd": {
      "model_module": "@jupyter-widgets/base",
      "model_module_version": "1.0.0",
      "model_name": "LayoutModel",
      "state": {
       "justify_content": "center"
      }
     },
     "f34e1bd29d2d4bf0af0ac44380dee218": {
      "model_module": "@jupyter-widgets/controls",
      "model_module_version": "1.2.0",
      "model_name": "DescriptionStyleModel",
      "state": {
       "description_width": ""
      }
     },
     "f37182184ba64d86861d542cfd9fa558": {
      "model_module": "@jupyter-widgets/controls",
      "model_module_version": "1.2.0",
      "model_name": "DescriptionStyleModel",
      "state": {
       "description_width": "initial"
      }
     },
     "f3999548fd5d4a7fb037dee5c4b39ac2": {
      "model_module": "@jupyter-widgets/base",
      "model_module_version": "1.0.0",
      "model_name": "LayoutModel",
      "state": {
       "width": "250px"
      }
     },
     "f3acd4771c604366a7850be65d79a962": {
      "model_module": "@jupyter-widgets/base",
      "model_module_version": "1.0.0",
      "model_name": "LayoutModel",
      "state": {
       "width": "600px"
      }
     },
     "f3bb5121db8449d68f3bb1466f4d17a8": {
      "model_module": "@jupyter-widgets/base",
      "model_module_version": "1.0.0",
      "model_name": "LayoutModel",
      "state": {
       "justify_content": "center"
      }
     },
     "f3ce1ee6b03a4825a09bfb06d899554b": {
      "model_module": "@jupyter-widgets/controls",
      "model_module_version": "1.2.0",
      "model_name": "DescriptionStyleModel",
      "state": {
       "description_width": "initial"
      }
     },
     "f433cf4f7d6a4ca38870e110e55bbabe": {
      "model_module": "@jupyter-widgets/controls",
      "model_module_version": "1.2.0",
      "model_name": "DescriptionStyleModel",
      "state": {
       "description_width": ""
      }
     },
     "f47b28988d664a42b0eaf167b2313826": {
      "model_module": "@jupyter-widgets/controls",
      "model_module_version": "1.2.0",
      "model_name": "ButtonStyleModel",
      "state": {}
     },
     "f4cc72265a21486d98c22ac772e7f898": {
      "model_module": "@jupyter-widgets/controls",
      "model_module_version": "1.2.0",
      "model_name": "VBoxModel",
      "state": {
       "children": [
        "IPY_MODEL_b3ca55c9597b4ceb99f4c0ae6c1adbcd",
        "IPY_MODEL_28ab226097034ce8b70a5e5039be9903",
        "IPY_MODEL_918de13cee8d44eeb862d78c6278bffd",
        "IPY_MODEL_60167122c8af4cbda6c17afc9cf5c07d"
       ],
       "layout": "IPY_MODEL_367655bd87054025b3258c772d71fcce"
      }
     },
     "f4e911b98138452baeb672557618b164": {
      "model_module": "@jupyter-widgets/controls",
      "model_module_version": "1.2.0",
      "model_name": "HTMLModel",
      "state": {
       "layout": "IPY_MODEL_ef1529d185154687b3d168560b00e07d",
       "style": "IPY_MODEL_1e748a5dfa53480f8bf362e1c9e84f91",
       "value": "<i>Markieren Sie <ins>alle</ins> passenden Antworten: </i>"
      }
     },
     "f502832011354441a5ddfa8aefbb79a4": {
      "model_module": "@jupyter-widgets/base",
      "model_module_version": "1.0.0",
      "model_name": "LayoutModel",
      "state": {
       "width": "600px"
      }
     },
     "f51bf3a9781c4d669c68eff1de8d3416": {
      "model_module": "@jupyter-widgets/base",
      "model_module_version": "1.0.0",
      "model_name": "LayoutModel",
      "state": {
       "width": "600px"
      }
     },
     "f560212670f341e1997547e45916a13b": {
      "model_module": "@jupyter-widgets/controls",
      "model_module_version": "1.2.0",
      "model_name": "VBoxModel",
      "state": {
       "children": [
        "IPY_MODEL_0a1054d0a4544242a4a2db874271d680",
        "IPY_MODEL_e7c0d80f73ec42b7a7925dee9e0cec58",
        "IPY_MODEL_8c9705c073fd4231b7617c79d17f24c8",
        "IPY_MODEL_be9f2bda23cc4cbb98b708435ecb15f3"
       ],
       "layout": "IPY_MODEL_5ee2a2139c3a469d91efadcec992202b"
      }
     },
     "f56b0b99278544e4bf9ec5f9af654793": {
      "model_module": "@jupyter-widgets/controls",
      "model_module_version": "1.2.0",
      "model_name": "CheckboxModel",
      "state": {
       "description": "Vater",
       "disabled": false,
       "layout": "IPY_MODEL_36fe71f2ecf94454b63a26a22fde0b65",
       "style": "IPY_MODEL_83c03373055445d28935a8b2f97b164e",
       "value": false
      }
     },
     "f570907873ee40b5a9f10c6b545ef9a7": {
      "model_module": "@jupyter-widgets/base",
      "model_module_version": "1.0.0",
      "model_name": "LayoutModel",
      "state": {
       "width": "250px"
      }
     },
     "f5a9a4d803ab48e29f423b18e4afb880": {
      "model_module": "@jupyter-widgets/controls",
      "model_module_version": "1.2.0",
      "model_name": "ButtonStyleModel",
      "state": {}
     },
     "f5ca4fc83a544b21af5b455dc1facc9d": {
      "model_module": "@jupyter-widgets/controls",
      "model_module_version": "1.2.0",
      "model_name": "ButtonStyleModel",
      "state": {
       "button_color": "lightgreen"
      }
     },
     "f5f1406c17f945b7a1d7c7e4896f6419": {
      "model_module": "@jupyter-widgets/base",
      "model_module_version": "1.0.0",
      "model_name": "LayoutModel",
      "state": {
       "width": "600px"
      }
     },
     "f633bcbcb2714ed993646041df55ce5f": {
      "model_module": "@jupyter-widgets/base",
      "model_module_version": "1.0.0",
      "model_name": "LayoutModel",
      "state": {
       "width": "600px"
      }
     },
     "f6867768f7b74e5e844e7858885260b2": {
      "model_module": "@jupyter-widgets/base",
      "model_module_version": "1.0.0",
      "model_name": "LayoutModel",
      "state": {
       "width": "600px"
      }
     },
     "f6b85154e724426e9c2773e2667e6529": {
      "model_module": "@jupyter-widgets/controls",
      "model_module_version": "1.2.0",
      "model_name": "ButtonModel",
      "state": {
       "description": "Korrekt?",
       "layout": "IPY_MODEL_c6d8d5e030c2455dadecccd96bca3afa",
       "style": "IPY_MODEL_029608085f0b43279e56fd222160fea8"
      }
     },
     "f6eacf0c6a3c45bb9fb3e57e7f8d81e3": {
      "model_module": "@jupyter-widgets/controls",
      "model_module_version": "1.2.0",
      "model_name": "DescriptionStyleModel",
      "state": {
       "description_width": ""
      }
     },
     "f78a0074dff04bd7b961a5a22f762a15": {
      "model_module": "@jupyter-widgets/controls",
      "model_module_version": "1.2.0",
      "model_name": "ButtonStyleModel",
      "state": {
       "button_color": "lightgreen"
      }
     },
     "f7b22229118a4a4aa8c87abcb18fed3f": {
      "model_module": "@jupyter-widgets/controls",
      "model_module_version": "1.2.0",
      "model_name": "HTMLModel",
      "state": {
       "layout": "IPY_MODEL_c0c4064ab6a446d1a0295354bc486ab6",
       "style": "IPY_MODEL_fa6ac91ece20428d8e7e0c80c55e898e",
       "value": "<h4 style=\"font-size:14px;\">'Präpositionale Objekte stehen in Verbendsätzen in der Regel unmittelbar vor dem finiten Verb.'</h4>"
      }
     },
     "f7ebf674cf4344ec8f4c622b4ce1c155": {
      "model_module": "@jupyter-widgets/base",
      "model_module_version": "1.0.0",
      "model_name": "LayoutModel",
      "state": {
       "width": "600px"
      }
     },
     "f803eda02b32438b9e2f66ab07fca747": {
      "model_module": "@jupyter-widgets/controls",
      "model_module_version": "1.2.0",
      "model_name": "CheckboxModel",
      "state": {
       "description": "steigende Intonation",
       "disabled": false,
       "layout": "IPY_MODEL_c9aa43da9b7c484bb5a7e5951cbfd3a5",
       "style": "IPY_MODEL_86aff73e44434207bf7ea38ee3dca3ed",
       "value": false
      }
     },
     "f813a3854287497a9f3fff3f3621d918": {
      "model_module": "@jupyter-widgets/controls",
      "model_module_version": "1.2.0",
      "model_name": "DescriptionStyleModel",
      "state": {
       "description_width": ""
      }
     },
     "f8250076545e4ed8862cf9e9b52b7002": {
      "model_module": "@jupyter-widgets/base",
      "model_module_version": "1.0.0",
      "model_name": "LayoutModel",
      "state": {
       "width": "600px"
      }
     },
     "f839369c8ded4031bc56c2d891066f71": {
      "model_module": "@jupyter-widgets/base",
      "model_module_version": "1.0.0",
      "model_name": "LayoutModel",
      "state": {
       "width": "250px"
      }
     },
     "f8b0994b0f864f0bbc7bc5c2290d0bbc": {
      "model_module": "@jupyter-widgets/base",
      "model_module_version": "1.0.0",
      "model_name": "LayoutModel",
      "state": {}
     },
     "f8b1e592777342d7956c6939cac322b5": {
      "model_module": "@jupyter-widgets/controls",
      "model_module_version": "1.2.0",
      "model_name": "DescriptionStyleModel",
      "state": {
       "description_width": "initial"
      }
     },
     "f8e43317f3214e2ca8c0811102590781": {
      "model_module": "@jupyter-widgets/controls",
      "model_module_version": "1.2.0",
      "model_name": "DescriptionStyleModel",
      "state": {
       "description_width": "initial"
      }
     },
     "f8fcde98f510453495e482de912317a6": {
      "model_module": "@jupyter-widgets/controls",
      "model_module_version": "1.2.0",
      "model_name": "ButtonModel",
      "state": {
       "description": "Korrekt?",
       "layout": "IPY_MODEL_160aa33a23db448f9daa0fc37bce63d3",
       "style": "IPY_MODEL_d09907bd000d49059b91ee9d9accc827"
      }
     },
     "f9257529f1c8417485b66ee32f8ccd07": {
      "model_module": "@jupyter-widgets/controls",
      "model_module_version": "1.2.0",
      "model_name": "ButtonModel",
      "state": {
       "description": "Korrekt?",
       "layout": "IPY_MODEL_83e7ac26d9524688b111f181a92fb7b1",
       "style": "IPY_MODEL_8173c9c70f844ffb8e3422d879fa6954"
      }
     },
     "f99273cc1aa14dd6a66db15310eeefc8": {
      "model_module": "@jupyter-widgets/base",
      "model_module_version": "1.0.0",
      "model_name": "LayoutModel",
      "state": {}
     },
     "f99d6449c140471f8b18861e2a8a9528": {
      "model_module": "@jupyter-widgets/base",
      "model_module_version": "1.0.0",
      "model_name": "LayoutModel",
      "state": {
       "width": "250px"
      }
     },
     "f9a8a32215b9445b9c2e974557021b43": {
      "model_module": "@jupyter-widgets/base",
      "model_module_version": "1.0.0",
      "model_name": "LayoutModel",
      "state": {
       "width": "250px"
      }
     },
     "f9f4d57dba1c4c69b58a5143b5685dd7": {
      "model_module": "@jupyter-widgets/base",
      "model_module_version": "1.0.0",
      "model_name": "LayoutModel",
      "state": {}
     },
     "fa19e72ce9a0447c918588bf4b3cca74": {
      "model_module": "@jupyter-widgets/base",
      "model_module_version": "1.0.0",
      "model_name": "LayoutModel",
      "state": {
       "justify_content": "center"
      }
     },
     "fa26ebe5379145bdb6a7b98776e4f305": {
      "model_module": "@jupyter-widgets/controls",
      "model_module_version": "1.2.0",
      "model_name": "DescriptionStyleModel",
      "state": {
       "description_width": "initial"
      }
     },
     "fa5e3e156b964e2b90f1ba52b03e9124": {
      "model_module": "@jupyter-widgets/base",
      "model_module_version": "1.0.0",
      "model_name": "LayoutModel",
      "state": {
       "width": "250px"
      }
     },
     "fa5eae759a184b1c994b7fcb0d5dcb4b": {
      "model_module": "@jupyter-widgets/controls",
      "model_module_version": "1.2.0",
      "model_name": "HTMLModel",
      "state": {
       "layout": "IPY_MODEL_a7bc444fc8984c30a59819084b92d193",
       "style": "IPY_MODEL_77192748d5904a4c8425d121ec7d3bec",
       "value": "<i>Markieren Sie <ins>alle</ins> passenden Antworten: </i>"
      }
     },
     "fa6254f3c266426d823954bfae3eb570": {
      "model_module": "@jupyter-widgets/controls",
      "model_module_version": "1.2.0",
      "model_name": "ButtonStyleModel",
      "state": {
       "button_color": "lightgreen"
      }
     },
     "fa6ac91ece20428d8e7e0c80c55e898e": {
      "model_module": "@jupyter-widgets/controls",
      "model_module_version": "1.2.0",
      "model_name": "DescriptionStyleModel",
      "state": {
       "description_width": ""
      }
     },
     "fab4541cc18a4b379d4e3270d1264507": {
      "model_module": "@jupyter-widgets/controls",
      "model_module_version": "1.2.0",
      "model_name": "CheckboxModel",
      "state": {
       "description": "Junge",
       "disabled": false,
       "layout": "IPY_MODEL_5a0f473c83f34c81b88b9e8e9ac259bc",
       "style": "IPY_MODEL_041e65e1905048fea1b80e1e7b720efe",
       "value": false
      }
     },
     "faf035791c064092b6754108aea16dec": {
      "model_module": "@jupyter-widgets/controls",
      "model_module_version": "1.2.0",
      "model_name": "DescriptionStyleModel",
      "state": {
       "description_width": ""
      }
     },
     "fb48362bf2b44429bd583245a80a2ddc": {
      "model_module": "@jupyter-widgets/controls",
      "model_module_version": "1.2.0",
      "model_name": "ButtonStyleModel",
      "state": {
       "button_color": "lightgreen"
      }
     },
     "fc244453cfff4ff5844845154ef736ce": {
      "model_module": "@jupyter-widgets/base",
      "model_module_version": "1.0.0",
      "model_name": "LayoutModel",
      "state": {
       "justify_content": "center"
      }
     },
     "fc3b371cdd2c4b9baa2684908063a1b3": {
      "model_module": "@jupyter-widgets/controls",
      "model_module_version": "1.2.0",
      "model_name": "ButtonStyleModel",
      "state": {
       "button_color": "lightgreen"
      }
     },
     "fc634b44977f430894989feae21dd460": {
      "model_module": "@jupyter-widgets/base",
      "model_module_version": "1.0.0",
      "model_name": "LayoutModel",
      "state": {}
     },
     "fcb7b372b0564189b309bfb375aa8789": {
      "model_module": "@jupyter-widgets/controls",
      "model_module_version": "1.2.0",
      "model_name": "DescriptionStyleModel",
      "state": {
       "description_width": "initial"
      }
     },
     "fcbb4e98e0524173a03f78a7083aa2cd": {
      "model_module": "@jupyter-widgets/base",
      "model_module_version": "1.0.0",
      "model_name": "LayoutModel",
      "state": {}
     },
     "fce38bbef4284433b758647f8107076c": {
      "model_module": "@jupyter-widgets/controls",
      "model_module_version": "1.2.0",
      "model_name": "DescriptionStyleModel",
      "state": {
       "description_width": ""
      }
     },
     "fd1f8da46b604e2798f2acc71950a3cf": {
      "model_module": "@jupyter-widgets/controls",
      "model_module_version": "1.2.0",
      "model_name": "CheckboxModel",
      "state": {
       "description": "Das Vorfeld ist unbesetzt.",
       "disabled": false,
       "layout": "IPY_MODEL_63fa974be6954befacc3620ac4db766a",
       "style": "IPY_MODEL_91a7039901384e4b9bd88a66b7f732b4",
       "value": false
      }
     },
     "fd24043ff68c4ff580174906a23fe375": {
      "model_module": "@jupyter-widgets/controls",
      "model_module_version": "1.2.0",
      "model_name": "VBoxModel",
      "state": {
       "children": [
        "IPY_MODEL_b73de61c39bf46648e75031404101f22",
        "IPY_MODEL_fd1f8da46b604e2798f2acc71950a3cf",
        "IPY_MODEL_539a64d159c849e6b6b4698731f6ebb5",
        "IPY_MODEL_8f8b94238cd543bb891868b5f02f355d",
        "IPY_MODEL_35150f9c7f1441d48c2a79223a606d2d",
        "IPY_MODEL_1fe763835c5a477da00ebcdea41e10ad",
        "IPY_MODEL_7974e5304c4a4f60beebc062af4ed143",
        "IPY_MODEL_60bbf0f13451473da5a64e05ce4ee64e",
        "IPY_MODEL_8fe75fdee3064b3d91f9abc625e7ad2d"
       ],
       "layout": "IPY_MODEL_a9b73c5d3b4945ea88b23eacc83a794b"
      }
     },
     "fd3d132016134df59cd001e32bef5150": {
      "model_module": "@jupyter-widgets/base",
      "model_module_version": "1.0.0",
      "model_name": "LayoutModel",
      "state": {
       "width": "600px"
      }
     },
     "fd44d6fe7dc04f6fac30fba3933706bb": {
      "model_module": "@jupyter-widgets/base",
      "model_module_version": "1.0.0",
      "model_name": "LayoutModel",
      "state": {
       "width": "600px"
      }
     },
     "fd630416d6e0461581f62c2904fe1f94": {
      "model_module": "@jupyter-widgets/controls",
      "model_module_version": "1.2.0",
      "model_name": "HTMLModel",
      "state": {
       "layout": "IPY_MODEL_6a8cc18718e5438ea6d44ab4e12cf6bd",
       "style": "IPY_MODEL_79bca8f57e1440ebae817d10ad7e85ed",
       "value": "<h4 style=\"font-size:14px;\">Wann ist die Konstituentenverbindung <i>Satzglied + infinites Verb</i> im Vorfeld inakzeptabel?</h4>"
      }
     },
     "fdc3e1201a4843aa9c590ff1dc99bd7f": {
      "model_module": "@jupyter-widgets/controls",
      "model_module_version": "1.2.0",
      "model_name": "CheckboxModel",
      "state": {
       "description": "schenkte",
       "disabled": false,
       "layout": "IPY_MODEL_597152af7b5745908562f7ca95aa99d6",
       "style": "IPY_MODEL_53bd7c701cda43c3b13cb27d2722c0f4",
       "value": false
      }
     },
     "fdce789f24af483ab1b48f929f9ec940": {
      "model_module": "@jupyter-widgets/base",
      "model_module_version": "1.0.0",
      "model_name": "LayoutModel",
      "state": {
       "width": "600px"
      }
     },
     "fde0c6ac4b334baeb568e0c3e8a7ec2b": {
      "model_module": "@jupyter-widgets/controls",
      "model_module_version": "1.2.0",
      "model_name": "ButtonStyleModel",
      "state": {}
     },
     "fdf2bc3d7837438a8247c8add3eeddd8": {
      "model_module": "@jupyter-widgets/controls",
      "model_module_version": "1.2.0",
      "model_name": "HBoxModel",
      "state": {
       "children": [
        "IPY_MODEL_782e19e1e84242f782b1d51ea52f8b1d",
        "IPY_MODEL_e2a6e85cd9484a43a90ad3169028368d"
       ],
       "layout": "IPY_MODEL_041e344e503e40a687b42e4cdaa5e67b"
      }
     },
     "fe2768f1c22147739625ddb5a5f62f98": {
      "model_module": "@jupyter-widgets/base",
      "model_module_version": "1.0.0",
      "model_name": "LayoutModel",
      "state": {
       "width": "250px"
      }
     },
     "fed2f14e1e7d43d0b861e91d4c9bbf2e": {
      "model_module": "@jupyter-widgets/controls",
      "model_module_version": "1.2.0",
      "model_name": "ButtonModel",
      "state": {
       "description": "Korrekt?",
       "layout": "IPY_MODEL_bc01f7d755634ac7b967b148418ff097",
       "style": "IPY_MODEL_65eb91dbedb34fb2aaa59ccc340699ca"
      }
     },
     "feeff5ddb3fb4b8aabcf98340884ad21": {
      "model_module": "@jupyter-widgets/controls",
      "model_module_version": "1.2.0",
      "model_name": "DescriptionStyleModel",
      "state": {
       "description_width": "initial"
      }
     },
     "fef9b54bd0fb4bd3b4fac17c41c1414f": {
      "model_module": "@jupyter-widgets/base",
      "model_module_version": "1.0.0",
      "model_name": "LayoutModel",
      "state": {
       "justify_content": "center"
      }
     },
     "ff1563ae438e4fff888d97a39e8f60fb": {
      "model_module": "@jupyter-widgets/controls",
      "model_module_version": "1.2.0",
      "model_name": "CheckboxModel",
      "state": {
       "description": "Vordersatz",
       "disabled": false,
       "layout": "IPY_MODEL_af641fa5317f473b853499f5547dcd73",
       "style": "IPY_MODEL_20771ecd93df4bf8b6bb886ecb300ffb",
       "value": false
      }
     },
     "ff15da94b3ef4d17a2a17dedf36fcc3d": {
      "model_module": "@jupyter-widgets/base",
      "model_module_version": "1.0.0",
      "model_name": "LayoutModel",
      "state": {}
     },
     "ff4d7a03c5d74c979e6a2a211c193913": {
      "model_module": "@jupyter-widgets/controls",
      "model_module_version": "1.2.0",
      "model_name": "DescriptionStyleModel",
      "state": {
       "description_width": ""
      }
     },
     "ff54d149dd764ffe81ab238b2afbc44f": {
      "model_module": "@jupyter-widgets/controls",
      "model_module_version": "1.2.0",
      "model_name": "CheckboxModel",
      "state": {
       "description": "Nein, der Satz wird dann ungrammatisch.",
       "disabled": false,
       "layout": "IPY_MODEL_09c98cbb399640dd814ed36de7d742b2",
       "style": "IPY_MODEL_9ddccb131f30451f9adf4df212f66710",
       "value": true
      }
     },
     "ff907eeaa4934a76abfaca94800e0b4e": {
      "model_module": "@jupyter-widgets/controls",
      "model_module_version": "1.2.0",
      "model_name": "DescriptionStyleModel",
      "state": {
       "description_width": "initial"
      }
     },
     "fff923ae05964e6db657b24fe769e5c4": {
      "model_module": "@jupyter-widgets/controls",
      "model_module_version": "1.2.0",
      "model_name": "ButtonStyleModel",
      "state": {}
     }
    },
    "version_major": 2,
    "version_minor": 0
   }
  }
 },
 "nbformat": 4,
 "nbformat_minor": 2
}
