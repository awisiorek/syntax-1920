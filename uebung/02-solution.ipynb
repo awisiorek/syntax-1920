{
 "cells": [
  {
   "cell_type": "markdown",
   "metadata": {},
   "source": [
    "***Vorlesung 'Syntax natürlicher Sprachen', WS 2019/20***\n",
    "\n",
    "---\n",
    "# Übung 2 (Lösung)"
   ]
  },
  {
   "cell_type": "code",
   "execution_count": 1,
   "metadata": {},
   "outputs": [],
   "source": [
    "from exercises_2 import *\n",
    "from questions import aufgabe"
   ]
  },
  {
   "cell_type": "markdown",
   "metadata": {},
   "source": [
    "---\n",
    "## Aufgabe 1:  Eine erste syntaktische Analyse\n",
    "\n",
    "#### Kreieren Sie Ihre ersten Syntaxbäume, indem Sie das folgende Python-Skript ausführen. Beantworten Sie im Anschluss die zugehörigen Fragen!"
   ]
  },
  {
   "cell_type": "code",
   "execution_count": 2,
   "metadata": {},
   "outputs": [
    {
     "name": "stdout",
     "output_type": "stream",
     "text": [
      "(S\n",
      "  (NP I)\n",
      "  (VP\n",
      "    (VP (V shot) (NP (Det an) (N elephant)))\n",
      "    (PP (P in) (NP (Det my) (N pajamas)))))\n",
      "     S                                       \n",
      " ┌───┴──────────────┐                         \n",
      " │                  VP                       \n",
      " │        ┌─────────┴──────────┐              \n",
      " │        VP                   PP            \n",
      " │   ┌────┴───┐            ┌───┴───┐          \n",
      " │   │        NP           │       NP        \n",
      " │   │    ┌───┴─────┐      │   ┌───┴─────┐    \n",
      " NP  V   Det        N      P  Det        N   \n",
      " │   │    │         │      │   │         │    \n",
      " I  shot  an     elephant  in  my     pajamas\n",
      "\n",
      "(S\n",
      "  (NP I)\n",
      "  (VP\n",
      "    (V shot)\n",
      "    (NP (Det an) (N elephant) (PP (P in) (NP (Det my) (N pajamas))))))\n",
      "     S                                   \n",
      " ┌───┴──────────┐                         \n",
      " │              VP                       \n",
      " │   ┌──────────┴──────┐                  \n",
      " │   │                 NP                \n",
      " │   │    ┌─────┬──────┴───┐              \n",
      " │   │    │     │          PP            \n",
      " │   │    │     │      ┌───┴───┐          \n",
      " │   │    │     │      │       NP        \n",
      " │   │    │     │      │   ┌───┴─────┐    \n",
      " NP  V   Det    N      P  Det        N   \n",
      " │   │    │     │      │   │         │    \n",
      " I  shot  an elephant  in  my     pajamas\n",
      "\n"
     ]
    }
   ],
   "source": [
    "import nltk\n",
    "\n",
    "grammar = nltk.CFG.fromstring(\"\"\"\n",
    "    S -> NP VP\n",
    "    PP -> P NP\n",
    "    NP -> Det N | Det N PP | 'I'\n",
    "    VP -> V NP | VP PP\n",
    "    Det -> 'an' | 'my'\n",
    "    N -> 'elephant' | 'pajamas'\n",
    "    V -> 'shot'\n",
    "    P -> 'in'\n",
    "\"\"\")\n",
    "\n",
    "parser = nltk.ChartParser(grammar)\n",
    "sent = \"I shot an elephant in my pajamas\".split()\n",
    "for tree in parser.parse(sent):\n",
    "    print(tree)\n",
    "    tree.pretty_print(unicodelines=True)"
   ]
  },
  {
   "cell_type": "markdown",
   "metadata": {},
   "source": [
    "---\n",
    "###  Aufgabe 1 a:"
   ]
  },
  {
   "cell_type": "code",
   "execution_count": 3,
   "metadata": {},
   "outputs": [
    {
     "data": {
      "application/vnd.jupyter.widget-view+json": {
       "model_id": "f0dcc4705daf42228e0399e02d8bc5ba",
       "version_major": 2,
       "version_minor": 0
      },
      "text/plain": [
       "SingleChoice(children=(HTML(value='<h4 style=\"font-size:14px;\">Warum gibt die parse-Funktion des Skripts vermu…"
      ]
     },
     "metadata": {},
     "output_type": "display_data"
    },
    {
     "data": {
      "application/vnd.jupyter.widget-view+json": {
       "model_id": "5bb62e5a5d8e42a38896354d04cefd17",
       "version_major": 2,
       "version_minor": 0
      },
      "text/plain": [
       "SingleChoice(children=(HTML(value='<h4 style=\"font-size:14px;\">Die Alternative <code>tree = parser.parse(sent)…"
      ]
     },
     "metadata": {},
     "output_type": "display_data"
    }
   ],
   "source": [
    "aufgabe(blatt2_1a)"
   ]
  },
  {
   "cell_type": "markdown",
   "metadata": {},
   "source": [
    "---\n",
    "###  Aufgabe 1 b:\n",
    "\n",
    "#### Worin liegen die Unterschiede zwischen den ausgegebenen Bäumen? Beantworten Sie dazu folgende Frage."
   ]
  },
  {
   "cell_type": "code",
   "execution_count": 4,
   "metadata": {
    "scrolled": true
   },
   "outputs": [
    {
     "data": {
      "application/vnd.jupyter.widget-view+json": {
       "model_id": "7f0d55d82c2d44c5a872d693b4efcaf7",
       "version_major": 2,
       "version_minor": 0
      },
      "text/plain": [
       "MultipleChoice(children=(HTML(value='<h4 style=\"font-size:14px;\">Zu welcher Phrase kann die Präpositionalphras…"
      ]
     },
     "metadata": {},
     "output_type": "display_data"
    }
   ],
   "source": [
    "aufgabe(blatt2_1b)"
   ]
  },
  {
   "cell_type": "markdown",
   "metadata": {},
   "source": [
    "___\n",
    "### Aufgabe 1 c:\n",
    "\n",
    "#### Warum ist der gegebene Satz \"I shot an elephant in my pajamas\" syntaktisch ambig? Beantworten Sie dazu folgende Fragen."
   ]
  },
  {
   "cell_type": "code",
   "execution_count": 5,
   "metadata": {
    "scrolled": false
   },
   "outputs": [
    {
     "data": {
      "application/vnd.jupyter.widget-view+json": {
       "model_id": "0c01728fdc1e4a4ca98f6061059c22d4",
       "version_major": 2,
       "version_minor": 0
      },
      "text/plain": [
       "SingleChoice(children=(HTML(value='<h4 style=\"font-size:14px;\">Bzgl. welcher (nicht an der Oberflächensyntax e…"
      ]
     },
     "metadata": {},
     "output_type": "display_data"
    },
    {
     "data": {
      "application/vnd.jupyter.widget-view+json": {
       "model_id": "7e978ed5b0724b1485823285a18d082d",
       "version_major": 2,
       "version_minor": 0
      },
      "text/plain": [
       "SelectionList(children=(HTML(value='<h4 style=\"font-size:14px;\">Was ist der Fall, wenn die PP ein Adverbial is…"
      ]
     },
     "metadata": {},
     "output_type": "display_data"
    },
    {
     "data": {
      "application/vnd.jupyter.widget-view+json": {
       "model_id": "4d182ab8aec740028765451ddc32e9d1",
       "version_major": 2,
       "version_minor": 0
      },
      "text/plain": [
       "SelectionList(children=(HTML(value='<h4 style=\"font-size:14px;\">Was ist der Fall, wenn die PP ein Attribut ist…"
      ]
     },
     "metadata": {},
     "output_type": "display_data"
    }
   ],
   "source": [
    "aufgabe(blatt2_1c)"
   ]
  },
  {
   "cell_type": "markdown",
   "metadata": {},
   "source": [
    "---\n",
    "## Aufgabe 2: Was ist Grammatik?\n",
    "\n",
    "#### Gegeben sind folgende Sätze:\n",
    "1. Die Grammatik des Lateinischen ist schwer. Vor allem die Syntax bereitet Schwierigkeiten.\n",
    "2. Der Duden ist eine Grammatik.\n",
    "3. Der Begründer der Dependenzgrammatik ist Lucien Tesnière.\n"
   ]
  },
  {
   "cell_type": "markdown",
   "metadata": {},
   "source": [
    "---\n",
    "### Aufgabe 2 a:\n",
    "\n",
    "#### Erläutern Sie die drei Grammatikbegriffe, die den folgenden Sätzen zugrunde liegen. Beantworten Sie dazu folgende Fragen."
   ]
  },
  {
   "cell_type": "code",
   "execution_count": 6,
   "metadata": {},
   "outputs": [
    {
     "data": {
      "application/vnd.jupyter.widget-view+json": {
       "model_id": "672ce81dccf34a36b0f78ff5d919d848",
       "version_major": 2,
       "version_minor": 0
      },
      "text/plain": [
       "SingleChoice(children=(HTML(value='<h4 style=\"font-size:14px;\">Welcher Grammatikbegriff liegt Satz 1 zugrunde?…"
      ]
     },
     "metadata": {},
     "output_type": "display_data"
    },
    {
     "data": {
      "application/vnd.jupyter.widget-view+json": {
       "model_id": "52a5ecec8bb940bfaf86ffa6594f854c",
       "version_major": 2,
       "version_minor": 0
      },
      "text/plain": [
       "SingleChoice(children=(HTML(value='<h4 style=\"font-size:14px;\">Welcher Grammatikbegriff liegt Satz 2 zugrunde?…"
      ]
     },
     "metadata": {},
     "output_type": "display_data"
    },
    {
     "data": {
      "application/vnd.jupyter.widget-view+json": {
       "model_id": "13054058c09648d0a9ebb1c85940f631",
       "version_major": 2,
       "version_minor": 0
      },
      "text/plain": [
       "SingleChoice(children=(HTML(value='<h4 style=\"font-size:14px;\">Welcher Grammatikbegriff liegt Satz 3 zugrunde?…"
      ]
     },
     "metadata": {},
     "output_type": "display_data"
    }
   ],
   "source": [
    "aufgabe(blatt2_2a)"
   ]
  },
  {
   "cell_type": "markdown",
   "metadata": {},
   "source": [
    "---\n",
    "### Aufgabe 2 b:\n",
    "\n",
    "#### Zeigen Sie am Beispiel von Satz 1 den Unterschied zwischen Grammatik und Syntax auf.  Beantworten Sie dazu folgende Fragen."
   ]
  },
  {
   "cell_type": "code",
   "execution_count": 7,
   "metadata": {},
   "outputs": [
    {
     "data": {
      "application/vnd.jupyter.widget-view+json": {
       "model_id": "28a73f9750904dfd8d57682d90d75630",
       "version_major": 2,
       "version_minor": 0
      },
      "text/plain": [
       "MultipleChoice(children=(HTML(value='<h4 style=\"font-size:14px;\">Welche Gesetzmäßigkeiten umfasst die Grammati…"
      ]
     },
     "metadata": {},
     "output_type": "display_data"
    },
    {
     "data": {
      "application/vnd.jupyter.widget-view+json": {
       "model_id": "e92dba417161472b9dc7aa8b283e7179",
       "version_major": 2,
       "version_minor": 0
      },
      "text/plain": [
       "Lueckentext(children=(HTML(value='<i>Vervollständigen Sie den Lückentext: </i>', layout=Layout(justify_content…"
      ]
     },
     "metadata": {},
     "output_type": "display_data"
    }
   ],
   "source": [
    "aufgabe(blatt2_2b)"
   ]
  },
  {
   "cell_type": "markdown",
   "metadata": {},
   "source": [
    "---\n",
    "## Aufgabe 3: Linguistische Strukturbeschreibung"
   ]
  },
  {
   "cell_type": "markdown",
   "metadata": {},
   "source": [
    "---\n",
    "### Aufgabe 3 a:\n",
    "\n",
    "#### Welche Hierachie-Ebenen lassen sich in der Beschreibung des Aufbaus sprachlicher Strukturen unterscheiden?"
   ]
  },
  {
   "cell_type": "code",
   "execution_count": 8,
   "metadata": {
    "scrolled": false
   },
   "outputs": [
    {
     "data": {
      "application/vnd.jupyter.widget-view+json": {
       "model_id": "3ddc2e9ba4db4cb29d9b036d3685c15c",
       "version_major": 2,
       "version_minor": 0
      },
      "text/plain": [
       "MultipleChoice(children=(HTML(value='<h4 style=\"font-size:14px;\">Was sind die 3 grundlegenden Beschreibungsebe…"
      ]
     },
     "metadata": {},
     "output_type": "display_data"
    }
   ],
   "source": [
    "aufgabe(blatt2_3a)"
   ]
  },
  {
   "cell_type": "markdown",
   "metadata": {},
   "source": [
    "---\n",
    "### Aufgabe 3 b:\n",
    "\n",
    "#### Wo liegt der Unterschied zwischen dem Wortbegriff einer natürlichen Sprache und dem Wortbegriff einer formalen Sprache?\n",
    "(Was sind die Blätter des Syntaxbaums einer Ableitung eines natürlichsprachlichen Satzes in einer die Sprache modellierenden formalen Grammatik?)"
   ]
  },
  {
   "cell_type": "code",
   "execution_count": 9,
   "metadata": {
    "scrolled": true
   },
   "outputs": [
    {
     "data": {
      "application/vnd.jupyter.widget-view+json": {
       "model_id": "90b385a7b80340d3b3f87d58ebea000d",
       "version_major": 2,
       "version_minor": 0
      },
      "text/plain": [
       "Lueckentext(children=(HTML(value='<i>Vervollständigen Sie den Lückentext: </i>', layout=Layout(justify_content…"
      ]
     },
     "metadata": {},
     "output_type": "display_data"
    }
   ],
   "source": [
    "aufgabe(blatt2_3b)"
   ]
  },
  {
   "cell_type": "markdown",
   "metadata": {},
   "source": [
    "---\n",
    "## Aufgabe 4: Darstellung syntaktischer Strukturen"
   ]
  },
  {
   "cell_type": "markdown",
   "metadata": {},
   "source": [
    "---\n",
    "### Aufgabe 4 a:\n",
    "\n",
    "#### Welche formalen Repräsentationen der syntaktischen Struktur eines natürlichsprachlichen Satzes haben Sie in der Vorlesung kennengelernt? Beantworten Sie dazu folgende Frage."
   ]
  },
  {
   "cell_type": "code",
   "execution_count": 10,
   "metadata": {
    "scrolled": false
   },
   "outputs": [
    {
     "data": {
      "application/vnd.jupyter.widget-view+json": {
       "model_id": "414f176fd55e44039ffcf5f6e7c5406b",
       "version_major": 2,
       "version_minor": 0
      },
      "text/plain": [
       "MultipleChoice(children=(HTML(value='<h4 style=\"font-size:14px;\">Welche Typen von Syntaxbäumen (auch: Parsebäu…"
      ]
     },
     "metadata": {},
     "output_type": "display_data"
    }
   ],
   "source": [
    "aufgabe(blatt2_4a)"
   ]
  },
  {
   "cell_type": "markdown",
   "metadata": {},
   "source": [
    "---\n",
    "### Aufgabe 4 b:\n",
    "\n",
    "#### Wie kann eine solche Struktur dargestellt werden? Beantworten Sie dazu folgende Fragen."
   ]
  },
  {
   "cell_type": "code",
   "execution_count": 11,
   "metadata": {},
   "outputs": [
    {
     "data": {
      "application/vnd.jupyter.widget-view+json": {
       "model_id": "ddf13a89113241c5af623ec3889cd190",
       "version_major": 2,
       "version_minor": 0
      },
      "text/plain": [
       "SingleChoice(children=(HTML(value='<h4 style=\"font-size:14px;\">In welcher Form wird die syntaktische Struktur …"
      ]
     },
     "metadata": {},
     "output_type": "display_data"
    },
    {
     "data": {
      "application/vnd.jupyter.widget-view+json": {
       "model_id": "2d48d4ca277343a292bf9a79c35793c1",
       "version_major": 2,
       "version_minor": 0
      },
      "text/plain": [
       "SingleChoice(children=(HTML(value='<h4 style=\"font-size:14px;\">In welcher Form wird die syntaktische Struktur …"
      ]
     },
     "metadata": {},
     "output_type": "display_data"
    }
   ],
   "source": [
    "aufgabe(blatt2_4b)"
   ]
  },
  {
   "cell_type": "markdown",
   "metadata": {},
   "source": [
    "---\n",
    "### Aufgabe 4 c:\n",
    " \n",
    "#### Geben Sie zu folgendem Syntaxbaum den Klammerausdruck an (für den Fall, dass der Elefant den Pyjama trägt):"
   ]
  },
  {
   "cell_type": "code",
   "execution_count": 12,
   "metadata": {
    "scrolled": true
   },
   "outputs": [
    {
     "name": "stdout",
     "output_type": "stream",
     "text": [
      "         I-shot-an_elepha                                              \n",
      "         nt-in_my_pajamas                                              \n",
      " ┌──────────────┴─────────────────┐                                     \n",
      " │                        shot-an_elephant-                            \n",
      " │                          in_my_pajamas                              \n",
      " │   ┌────────────────────────────┴───────────────┐                     \n",
      " │   │                                       an_elephant-              \n",
      " │   │                                      in_my_pajamas              \n",
      " │   │                            ┌───────────────┴─────────────┐       \n",
      " I  shot                     an_elephant                  in_my_pajamas\n",
      "\n"
     ]
    }
   ],
   "source": [
    "from nltk import Tree\n",
    "tree = Tree.fromstring(blatt2_4c_tree)\n",
    "tree.pretty_print(unicodelines=True)"
   ]
  },
  {
   "cell_type": "code",
   "execution_count": 13,
   "metadata": {},
   "outputs": [
    {
     "name": "stdout",
     "output_type": "stream",
     "text": [
      "         ROOT                              \n",
      " ┌────────┴────────┐                        \n",
      " │                                         \n",
      " │   ┌─────────────┴───────┐                \n",
      " │   │                                     \n",
      " │   │             ┌───────┴────────┐       \n",
      " I  shot      an_elephant     in_my_pajamas\n",
      " │   │             │                │       \n",
      "... ...           ...              ...     \n",
      "\n"
     ]
    }
   ],
   "source": [
    "tree = Tree.fromstring(\"\"\"\n",
    "(ROOT\n",
    "    (I) ((shot) ((an_elephant) (in_my_pajamas)))\n",
    ")\n",
    "\"\"\")\n",
    "\n",
    "tree.pretty_print(unicodelines=True)"
   ]
  },
  {
   "cell_type": "markdown",
   "metadata": {},
   "source": [
    "---\n",
    "### Aufgabe 4 d:\n",
    "\n",
    "#### Geben Sie zu folgendem Klammerausdruck den Syntaxbaum an (wer trägt hier den Pyjama?)\n",
    "\n",
    "*[ [I] [ [ [shot] [an elephant] ] [in my pajamas] ] ]*\n",
    "\n",
    "#### Klammern Sie dazu einmal den Klammerausdruck aus 4c um, dann zerlegen Sie den Satz in seine Subkonstituenten."
   ]
  },
  {
   "cell_type": "code",
   "execution_count": 14,
   "metadata": {},
   "outputs": [
    {
     "name": "stdout",
     "output_type": "stream",
     "text": [
      "         ROOT                          \n",
      " ┌────────┴────────┐                    \n",
      " │                                     \n",
      " │        ┌────────┴────────────┐       \n",
      " │                              │      \n",
      " │   ┌────┴────────┐            │       \n",
      " I  shot      an_elephant in_my_pajamas\n",
      " │   │             │            │       \n",
      "... ...           ...          ...     \n",
      "\n"
     ]
    }
   ],
   "source": [
    "tree = Tree.fromstring(\"\"\"\n",
    "(ROOT\n",
    "    (I) (((shot) (an_elephant)) (in_my_pajamas))\n",
    ")\n",
    "\"\"\")\n",
    "\n",
    "tree.pretty_print(unicodelines=True)"
   ]
  },
  {
   "cell_type": "code",
   "execution_count": 15,
   "metadata": {},
   "outputs": [
    {
     "name": "stdout",
     "output_type": "stream",
     "text": [
      "         I-shot-an_elepha                                \n",
      "         nt-in_my_pajamas                                \n",
      " ┌──────────────┴─────────────────┐                       \n",
      " │                        shot-an_elephant-              \n",
      " │                          in_my_pajamas                \n",
      " │              ┌─────────────────┴───────────────┐       \n",
      " │       shot-an_elephant                         │      \n",
      " │   ┌──────────┴─────────────────┐               │       \n",
      " I  shot                     an_elephant    in_my_pajamas\n",
      " │   │                            │               │       \n",
      "... ...                          ...             ...     \n",
      "\n"
     ]
    }
   ],
   "source": [
    "# Zerlegung gemäß folgender Klammerung:\n",
    "# [ [I] [ [ [shot] [an elephant] ] [in my pajamas] ] ]\n",
    "\n",
    "tree = Tree.fromstring(\"\"\"\n",
    "(I-shot-an_elephant-in_my_pajamas\n",
    "    (I)\n",
    "    (shot-an_elephant-in_my_pajamas\n",
    "        (shot-an_elephant\n",
    "            (shot)\n",
    "            (an_elephant)\n",
    "        )\n",
    "        (in_my_pajamas)\n",
    "    )\n",
    ")\n",
    "\"\"\")\n",
    "\n",
    "tree.pretty_print(unicodelines=True)"
   ]
  },
  {
   "cell_type": "markdown",
   "metadata": {},
   "source": [
    "--- \n",
    "# Hausaufgaben"
   ]
  },
  {
   "cell_type": "markdown",
   "metadata": {},
   "source": [
    "---\n",
    "## Aufgabe 5: Ambiguität\n",
    "\n",
    "\n",
    "#### Sehen Sie sich die folgenden englischen Sätze an. Können Sie sich jeweils zwei unterschiedliche Interpretationen vorstellen?\n",
    "\n",
    "- *Fighting animals could be dangerous.*\n",
    "- *Visiting relatives can be tiresome.*\n"
   ]
  },
  {
   "cell_type": "code",
   "execution_count": 16,
   "metadata": {
    "scrolled": false
   },
   "outputs": [
    {
     "data": {
      "application/vnd.jupyter.widget-view+json": {
       "model_id": "1eb048273f5448ac806fbffba31ebc3f",
       "version_major": 2,
       "version_minor": 0
      },
      "text/plain": [
       "SingleChoice(children=(HTML(value='<h4 style=\"font-size:14px;\">Was ist der Ursprung der Ambiguität?</h4>', lay…"
      ]
     },
     "metadata": {},
     "output_type": "display_data"
    },
    {
     "data": {
      "application/vnd.jupyter.widget-view+json": {
       "model_id": "14220c7e9fbe4e3e81d4a0d71e64bb7b",
       "version_major": 2,
       "version_minor": 0
      },
      "text/plain": [
       "MultipleChoice(children=(HTML(value='<h4 style=\"font-size:14px;\">In welcher Beziehung können Gerund und nachfo…"
      ]
     },
     "metadata": {},
     "output_type": "display_data"
    },
    {
     "data": {
      "application/vnd.jupyter.widget-view+json": {
       "model_id": "fa66886a6aba43a4b49c0f5e9ee203db",
       "version_major": 2,
       "version_minor": 0
      },
      "text/plain": [
       "SingleChoice(children=(HTML(value='<h4 style=\"font-size:14px;\">Welche Funktion im Satz nimmt das Nomen ein, we…"
      ]
     },
     "metadata": {},
     "output_type": "display_data"
    },
    {
     "data": {
      "application/vnd.jupyter.widget-view+json": {
       "model_id": "f48a0cc3a2b142358945ffd0ad30d95b",
       "version_major": 2,
       "version_minor": 0
      },
      "text/plain": [
       "SingleChoice(children=(HTML(value='<h4 style=\"font-size:14px;\">Welche Funktion innerhalb der Gerund-Nomen-Phra…"
      ]
     },
     "metadata": {},
     "output_type": "display_data"
    },
    {
     "data": {
      "application/vnd.jupyter.widget-view+json": {
       "model_id": "fd9b907f362042089e1e1d4b82a83289",
       "version_major": 2,
       "version_minor": 0
      },
      "text/plain": [
       "SingleChoice(children=(HTML(value='<h4 style=\"font-size:14px;\">Welche Funktion im Hauptsatz nimmt das Gerund e…"
      ]
     },
     "metadata": {},
     "output_type": "display_data"
    },
    {
     "data": {
      "application/vnd.jupyter.widget-view+json": {
       "model_id": "59fbc8868f184fd08fa114281ed543e7",
       "version_major": 2,
       "version_minor": 0
      },
      "text/plain": [
       "SingleChoice(children=(HTML(value='<h4 style=\"font-size:14px;\">Welche Funktion nimmt das Gerund ein, wenn das …"
      ]
     },
     "metadata": {},
     "output_type": "display_data"
    }
   ],
   "source": [
    "aufgabe(blatt2_5)"
   ]
  },
  {
   "cell_type": "markdown",
   "metadata": {},
   "source": [
    "---\n",
    "## Aufgabe 6: Fragen zu NLTK-Kapitel 8.1\n",
    "\n",
    "#### Lesen Sie das Vorwort von NLTK-Kapitel 8 sowie das Kapitel 8.1 (’Some Grammatical Dilemmas’):  http://www.nltk.org/book/ch08.html\n",
    "\n",
    "#### Beantworten sie insbesondere folgende Fragen: "
   ]
  },
  {
   "cell_type": "markdown",
   "metadata": {},
   "source": [
    "---\n",
    "### Aufgabe 6 a:\n"
   ]
  },
  {
   "cell_type": "code",
   "execution_count": 17,
   "metadata": {
    "scrolled": false
   },
   "outputs": [
    {
     "data": {
      "application/vnd.jupyter.widget-view+json": {
       "model_id": "be4eba23bdfd4536825dc0bca90d99cf",
       "version_major": 2,
       "version_minor": 0
      },
      "text/plain": [
       "MultipleChoice(children=(HTML(value='<h4 style=\"font-size:14px;\">Hinsichtlich welcher syntaktischen Grundprinz…"
      ]
     },
     "metadata": {},
     "output_type": "display_data"
    },
    {
     "data": {
      "application/vnd.jupyter.widget-view+json": {
       "model_id": "31a61b867a444aa4b314f71a090c4718",
       "version_major": 2,
       "version_minor": 0
      },
      "text/plain": [
       "SingleChoice(children=(HTML(value='<h4 style=\"font-size:14px;\">Konstituenz ist synonym zu:</h4>', layout=Layou…"
      ]
     },
     "metadata": {},
     "output_type": "display_data"
    },
    {
     "data": {
      "application/vnd.jupyter.widget-view+json": {
       "model_id": "7be205dc5012450b91d7e4dc42e0240d",
       "version_major": 2,
       "version_minor": 0
      },
      "text/plain": [
       "SingleChoice(children=(HTML(value='<h4 style=\"font-size:14px;\">Dependenz ist synonym zu:</h4>', layout=Layout(…"
      ]
     },
     "metadata": {},
     "output_type": "display_data"
    }
   ],
   "source": [
    "aufgabe(blatt2_6a)"
   ]
  },
  {
   "cell_type": "markdown",
   "metadata": {},
   "source": [
    "---\n",
    "### Aufgabe 6 b:"
   ]
  },
  {
   "cell_type": "code",
   "execution_count": 18,
   "metadata": {
    "scrolled": false
   },
   "outputs": [
    {
     "data": {
      "application/vnd.jupyter.widget-view+json": {
       "model_id": "79ce797531a34ae28c430242e6bbcce5",
       "version_major": 2,
       "version_minor": 0
      },
      "text/plain": [
       "SingleChoice(children=(HTML(value='<h4 style=\"font-size:14px;\">Welche Mittel kommen in einer formalen Syntaxan…"
      ]
     },
     "metadata": {},
     "output_type": "display_data"
    }
   ],
   "source": [
    "aufgabe(blatt2_6b)"
   ]
  },
  {
   "cell_type": "markdown",
   "metadata": {},
   "source": [
    "---\n",
    "### Aufgabe 6 c:\n",
    "\n",
    "#### Welche ja/nein-Entscheidung bzgl. des Satzes wird bei dieser Analyse unweigerlich getroffen?"
   ]
  },
  {
   "cell_type": "code",
   "execution_count": 19,
   "metadata": {
    "scrolled": false
   },
   "outputs": [
    {
     "data": {
      "application/vnd.jupyter.widget-view+json": {
       "model_id": "184238da3dd348a6a258b05604d4c15a",
       "version_major": 2,
       "version_minor": 0
      },
      "text/plain": [
       "MultipleChoice(children=(HTML(value='<h4 style=\"font-size:14px;\">Die ________ eines Satzes bzgl. der formalen …"
      ]
     },
     "metadata": {},
     "output_type": "display_data"
    }
   ],
   "source": [
    "aufgabe(blatt2_6c)"
   ]
  },
  {
   "cell_type": "markdown",
   "metadata": {},
   "source": [
    "---\n",
    "### Aufgabe 6 d:\n"
   ]
  },
  {
   "cell_type": "code",
   "execution_count": 20,
   "metadata": {
    "scrolled": false
   },
   "outputs": [
    {
     "data": {
      "application/vnd.jupyter.widget-view+json": {
       "model_id": "39dc33c6a10d4e5a8162d4a381a0d9ff",
       "version_major": 2,
       "version_minor": 0
      },
      "text/plain": [
       "MultipleChoice(children=(HTML(value='<h4 style=\"font-size:14px;\">Welche Vorteile hat die Modellierung der Satz…"
      ]
     },
     "metadata": {},
     "output_type": "display_data"
    }
   ],
   "source": [
    "aufgabe(blatt2_6d)"
   ]
  }
 ],
 "metadata": {
  "kernelspec": {
   "display_name": "Python 3",
   "language": "python",
   "name": "python3"
  },
  "language_info": {
   "codemirror_mode": {
    "name": "ipython",
    "version": 3
   },
   "file_extension": ".py",
   "mimetype": "text/x-python",
   "name": "python",
   "nbconvert_exporter": "python",
   "pygments_lexer": "ipython3",
   "version": "3.6.1"
  },
  "widgets": {
   "application/vnd.jupyter.widget-state+json": {
    "state": {
     "009420cbbd2648cc88d93fa73d59e42b": {
      "model_module": "@jupyter-widgets/base",
      "model_module_version": "1.0.0",
      "model_name": "LayoutModel",
      "state": {}
     },
     "00b666929d22465db762082e33ff075f": {
      "model_module": "@jupyter-widgets/controls",
      "model_module_version": "1.2.0",
      "model_name": "DescriptionStyleModel",
      "state": {
       "description_width": ""
      }
     },
     "0114081da1f84c92aef5407fdc851b36": {
      "model_module": "@jupyter-widgets/controls",
      "model_module_version": "1.2.0",
      "model_name": "DescriptionStyleModel",
      "state": {
       "description_width": ""
      }
     },
     "01b304ea8bfb488a8409b28e44f5ac4c": {
      "model_module": "@jupyter-widgets/controls",
      "model_module_version": "1.2.0",
      "model_name": "DropdownModel",
      "state": {
       "_options_labels": [
        "Keine der Alternativen",
        "der Ort des Geschehens wird festgelegt",
        "die PP wird dem Substantiv beigefügt",
        "die im Verb ausgedrückte Tätigkeit wird modifiziert"
       ],
       "description": "Antwort:",
       "index": 3,
       "layout": "IPY_MODEL_3fecea848af54affa247e0258212ca05",
       "style": "IPY_MODEL_96f178d8104a4533a3c3e28abe3e4084"
      }
     },
     "01e310926c984dd0af6f08179192ff0a": {
      "model_module": "@jupyter-widgets/controls",
      "model_module_version": "1.2.0",
      "model_name": "DescriptionStyleModel",
      "state": {
       "description_width": "initial"
      }
     },
     "0286cdec4a1b402ab52ab078bd2642a2": {
      "model_module": "@jupyter-widgets/base",
      "model_module_version": "1.0.0",
      "model_name": "LayoutModel",
      "state": {
       "width": "250px"
      }
     },
     "0297b3d6e93545f6bf1b5d3976c65e7b": {
      "model_module": "@jupyter-widgets/base",
      "model_module_version": "1.0.0",
      "model_name": "LayoutModel",
      "state": {
       "justify_content": "center"
      }
     },
     "02cf9558640e47b693d151c408fd17d6": {
      "model_module": "@jupyter-widgets/controls",
      "model_module_version": "1.2.0",
      "model_name": "CheckboxModel",
      "state": {
       "description": "semantische",
       "disabled": false,
       "layout": "IPY_MODEL_4b356f304d454d3eb85a0bb462352dd4",
       "style": "IPY_MODEL_9e6e730460ab4707b76560d45d1e9e32",
       "value": false
      }
     },
     "038c7dac968644c691818388c542bf4f": {
      "model_module": "@jupyter-widgets/base",
      "model_module_version": "1.0.0",
      "model_name": "LayoutModel",
      "state": {
       "width": "250px"
      }
     },
     "04025fb8499d46febca85bdb346b314c": {
      "model_module": "@jupyter-widgets/controls",
      "model_module_version": "1.2.0",
      "model_name": "CheckboxModel",
      "state": {
       "description": "pragmatische",
       "disabled": false,
       "layout": "IPY_MODEL_80d9bdcf6c964fae82c07be4c2a6b141",
       "style": "IPY_MODEL_06c2dd614ed544b4958f45591f344cc0",
       "value": false
      }
     },
     "041a4dd65dd2407f9d837c7bcd08e3cc": {
      "model_module": "@jupyter-widgets/controls",
      "model_module_version": "1.2.0",
      "model_name": "ButtonStyleModel",
      "state": {}
     },
     "041b18373f3047ebac05bd081f8a3739": {
      "model_module": "@jupyter-widgets/controls",
      "model_module_version": "1.2.0",
      "model_name": "DescriptionStyleModel",
      "state": {
       "description_width": ""
      }
     },
     "043d5dd9471848c59561d5ea556c71fa": {
      "model_module": "@jupyter-widgets/controls",
      "model_module_version": "1.2.0",
      "model_name": "HBoxModel",
      "state": {
       "children": [
        "IPY_MODEL_ee26dcd2fcd1420aaa4310551585c295",
        "IPY_MODEL_d40e2c784fcc4a1f9da9266797f90266"
       ],
       "layout": "IPY_MODEL_eefc4a55172e48b586240586936a2fd7"
      }
     },
     "04dfb3b22e95449a9940fae0cd7f6663": {
      "model_module": "@jupyter-widgets/base",
      "model_module_version": "1.0.0",
      "model_name": "LayoutModel",
      "state": {
       "width": "600px"
      }
     },
     "065074b1e7ce41768b5ad277bcdd0356": {
      "model_module": "@jupyter-widgets/controls",
      "model_module_version": "1.2.0",
      "model_name": "ButtonStyleModel",
      "state": {}
     },
     "06c2dd614ed544b4958f45591f344cc0": {
      "model_module": "@jupyter-widgets/controls",
      "model_module_version": "1.2.0",
      "model_name": "DescriptionStyleModel",
      "state": {
       "description_width": "initial"
      }
     },
     "074e25643aa64750a96fe32b42b93e94": {
      "model_module": "@jupyter-widgets/controls",
      "model_module_version": "1.2.0",
      "model_name": "ButtonModel",
      "state": {
       "description": "formale Grammatik + Parser",
       "layout": "IPY_MODEL_ab9d58b6b1ac4a1589bd01dd850eebc7",
       "style": "IPY_MODEL_8caae2048fef4e3e86219651a4424116"
      }
     },
     "0832517303b446d49400a10f15f97c53": {
      "model_module": "@jupyter-widgets/controls",
      "model_module_version": "1.2.0",
      "model_name": "ButtonModel",
      "state": {
       "description": "Phrasentyp",
       "layout": "IPY_MODEL_1d0f18bdc14b415086e8d02a74c66efc",
       "style": "IPY_MODEL_39b1e50a5b7d4022a52c6cbf9c0edc82"
      }
     },
     "088bd993f1a64fea8c3fe88802c2fa13": {
      "model_module": "@jupyter-widgets/controls",
      "model_module_version": "1.2.0",
      "model_name": "DescriptionStyleModel",
      "state": {
       "description_width": ""
      }
     },
     "08da925220ee4691b5936bcff9cac9ea": {
      "model_module": "@jupyter-widgets/base",
      "model_module_version": "1.0.0",
      "model_name": "LayoutModel",
      "state": {
       "width": "250px"
      }
     },
     "08fa1e18bf24408fac1ea64ae6555fa7": {
      "model_module": "@jupyter-widgets/base",
      "model_module_version": "1.0.0",
      "model_name": "LayoutModel",
      "state": {
       "width": "250px"
      }
     },
     "09007c5d329d448caf7892d7a6e1eed3": {
      "model_module": "@jupyter-widgets/controls",
      "model_module_version": "1.2.0",
      "model_name": "ButtonStyleModel",
      "state": {}
     },
     "091740feea3b476ea2ebc059e36ece2c": {
      "model_module": "@jupyter-widgets/base",
      "model_module_version": "1.0.0",
      "model_name": "LayoutModel",
      "state": {}
     },
     "096374ec781c4a81ab06e309c4ad6c66": {
      "model_module": "@jupyter-widgets/base",
      "model_module_version": "1.0.0",
      "model_name": "LayoutModel",
      "state": {
       "width": "250px"
      }
     },
     "09b2cfd932004759ace8a3bbf1b9206b": {
      "model_module": "@jupyter-widgets/controls",
      "model_module_version": "1.2.0",
      "model_name": "ButtonModel",
      "state": {
       "description": "Korrekt?",
       "layout": "IPY_MODEL_e70b4a731da94615b919d7905e1fd863",
       "style": "IPY_MODEL_76e8ebfe56024affb5196ed057e55129"
      }
     },
     "09d5501f536a43d49a5049e26e5213fa": {
      "model_module": "@jupyter-widgets/controls",
      "model_module_version": "1.2.0",
      "model_name": "HTMLModel",
      "state": {
       "layout": "IPY_MODEL_36ee51631cc541a792111c911267dc48",
       "style": "IPY_MODEL_e875e2a23e794a6c9bc5cc884edaa5d8",
       "value": "<h4 style=\"font-size:14px;\">Welche Funktion innerhalb der Gerund-Nomen-Phrase nimmt das Nomen ein, wenn das Gerund Kopf dieser Phrase ist?</h4>"
      }
     },
     "0a10a95a7a5a474e9949723900ddec80": {
      "model_module": "@jupyter-widgets/base",
      "model_module_version": "1.0.0",
      "model_name": "LayoutModel",
      "state": {
       "width": "250px"
      }
     },
     "0ada6439de9f4722b80ce1e1ae63fe47": {
      "model_module": "@jupyter-widgets/controls",
      "model_module_version": "1.2.0",
      "model_name": "ButtonStyleModel",
      "state": {
       "button_color": "lightgreen"
      }
     },
     "0b0b86de08eb44f9ac732702d091749c": {
      "model_module": "@jupyter-widgets/controls",
      "model_module_version": "1.2.0",
      "model_name": "DescriptionStyleModel",
      "state": {
       "description_width": ""
      }
     },
     "0b6fd67609f144eb8b0b523c8a027edf": {
      "model_module": "@jupyter-widgets/controls",
      "model_module_version": "1.2.0",
      "model_name": "ButtonModel",
      "state": {
       "description": "Attribut",
       "layout": "IPY_MODEL_038c7dac968644c691818388c542bf4f",
       "style": "IPY_MODEL_c504d093a3a646ffb43790b0bc9ccf40"
      }
     },
     "0c01728fdc1e4a4ca98f6061059c22d4": {
      "model_module": "@jupyter-widgets/controls",
      "model_module_version": "1.2.0",
      "model_name": "VBoxModel",
      "state": {
       "children": [
        "IPY_MODEL_159347391d974ad8b62e072256ad35d3",
        "IPY_MODEL_ac3aff9c36624733b069b74c3acffe8e",
        "IPY_MODEL_865f13d94bc34c13a79ae62cd1ae87bb",
        "IPY_MODEL_5b7f85d757484304a520af850f070f12"
       ],
       "layout": "IPY_MODEL_23e869db373d44d090a5b4b1f09cce90"
      }
     },
     "0c2dc920822a47e8a8afa36fdb938a7d": {
      "model_module": "@jupyter-widgets/controls",
      "model_module_version": "1.2.0",
      "model_name": "ButtonStyleModel",
      "state": {}
     },
     "0c5f97d695264f67a599bb734be5b3e1": {
      "model_module": "@jupyter-widgets/base",
      "model_module_version": "1.0.0",
      "model_name": "LayoutModel",
      "state": {
       "width": "250px"
      }
     },
     "0c96563722e74ce8abbc2886a3221cac": {
      "model_module": "@jupyter-widgets/controls",
      "model_module_version": "1.2.0",
      "model_name": "ButtonModel",
      "state": {
       "description": "strukturelle Ambiguität",
       "layout": "IPY_MODEL_dbd1539a6955473db73e61685cc6e62e",
       "style": "IPY_MODEL_4e03d9a26d5046e994d08852734ee772"
      }
     },
     "0cde9c06f6fb4505841e2a61472b89be": {
      "model_module": "@jupyter-widgets/controls",
      "model_module_version": "1.2.0",
      "model_name": "HBoxModel",
      "state": {
       "children": [
        "IPY_MODEL_4deb34e4b0dd4ad6836e39750818f762",
        "IPY_MODEL_67c021a4296a4c2ab92cbbaf7b7c570c"
       ],
       "layout": "IPY_MODEL_a0ac9c33410749cbbad5ce8f02bf34bd"
      }
     },
     "0d0481c337b14274a060922b734ab65c": {
      "model_module": "@jupyter-widgets/base",
      "model_module_version": "1.0.0",
      "model_name": "LayoutModel",
      "state": {}
     },
     "0d1320c81fc043aaa4623102ef447b0e": {
      "model_module": "@jupyter-widgets/controls",
      "model_module_version": "1.2.0",
      "model_name": "ButtonModel",
      "state": {
       "description": "Korrekt?",
       "layout": "IPY_MODEL_9435a40c25474962b32a1e53520b86b6",
       "style": "IPY_MODEL_ccd8d01fc6314a11abd16f375db57914"
      }
     },
     "0deb10e13e4f434586f6a1247e93fd4f": {
      "model_module": "@jupyter-widgets/controls",
      "model_module_version": "1.2.0",
      "model_name": "DescriptionStyleModel",
      "state": {
       "description_width": ""
      }
     },
     "0dee0071a5754de68f4f84b72e5babfc": {
      "model_module": "@jupyter-widgets/base",
      "model_module_version": "1.0.0",
      "model_name": "LayoutModel",
      "state": {}
     },
     "0e29a5dee1664c769c264c54646266cb": {
      "model_module": "@jupyter-widgets/controls",
      "model_module_version": "1.2.0",
      "model_name": "ButtonStyleModel",
      "state": {
       "button_color": "lightgreen"
      }
     },
     "0e4dcd82fc0f45699cad33337ff56dd8": {
      "model_module": "@jupyter-widgets/controls",
      "model_module_version": "1.2.0",
      "model_name": "DescriptionStyleModel",
      "state": {
       "description_width": "initial"
      }
     },
     "0e62fa8b9710492187d932af39559988": {
      "model_module": "@jupyter-widgets/base",
      "model_module_version": "1.0.0",
      "model_name": "LayoutModel",
      "state": {
       "width": "600px"
      }
     },
     "0f7b10c9c00f49d2863994c74a1e14f0": {
      "model_module": "@jupyter-widgets/base",
      "model_module_version": "1.0.0",
      "model_name": "LayoutModel",
      "state": {
       "justify_content": "center"
      }
     },
     "0fce9b4fffb84783a6ba32790e0aa451": {
      "model_module": "@jupyter-widgets/base",
      "model_module_version": "1.0.0",
      "model_name": "LayoutModel",
      "state": {
       "justify_content": "center"
      }
     },
     "0feeaa6330114af88a7491d2f13ed3c1": {
      "model_module": "@jupyter-widgets/controls",
      "model_module_version": "1.2.0",
      "model_name": "HBoxModel",
      "state": {
       "children": [
        "IPY_MODEL_650de52fe60d47338bab768e662a12e1",
        "IPY_MODEL_10eaec6c5c4042b8a0a87ac4734193f8"
       ],
       "layout": "IPY_MODEL_c8fd477d1b9945e48435358508b44512"
      }
     },
     "10866ed749be4d1b88e3efcef7ee2946": {
      "model_module": "@jupyter-widgets/controls",
      "model_module_version": "1.2.0",
      "model_name": "ButtonModel",
      "state": {
       "description": "Übergenerierung",
       "layout": "IPY_MODEL_a48dffd3b8154a6b890dc44cce688f03",
       "style": "IPY_MODEL_d326441a217d47b58efad17811405812"
      }
     },
     "10eaec6c5c4042b8a0a87ac4734193f8": {
      "model_module": "@jupyter-widgets/controls",
      "model_module_version": "1.2.0",
      "model_name": "ButtonModel",
      "state": {
       "description": "Regelsystem",
       "layout": "IPY_MODEL_743eef51d90840e6ac79908cd57ce2ed",
       "style": "IPY_MODEL_76d96138c15840c690277bfec62bb1d2"
      }
     },
     "1168e228922340f29c154e9d235a1e68": {
      "model_module": "@jupyter-widgets/base",
      "model_module_version": "1.0.0",
      "model_name": "LayoutModel",
      "state": {
       "width": "250px"
      }
     },
     "11c468eaf0df4af8937066c0947d39e7": {
      "model_module": "@jupyter-widgets/controls",
      "model_module_version": "1.2.0",
      "model_name": "DescriptionStyleModel",
      "state": {
       "description_width": ""
      }
     },
     "121808d4d9f34ce5b8f96817ad0d59bc": {
      "model_module": "@jupyter-widgets/controls",
      "model_module_version": "1.2.0",
      "model_name": "ButtonStyleModel",
      "state": {}
     },
     "12c34e7c224f47aa967c683c1102a1a0": {
      "model_module": "@jupyter-widgets/base",
      "model_module_version": "1.0.0",
      "model_name": "LayoutModel",
      "state": {}
     },
     "12ced8a8266d4d209de8afccd0636b09": {
      "model_module": "@jupyter-widgets/controls",
      "model_module_version": "1.2.0",
      "model_name": "DropdownModel",
      "state": {
       "_options_labels": [
        "Grundsymbole",
        "Nicht-Terminale",
        " "
       ],
       "index": 0,
       "layout": "IPY_MODEL_7421df1e67274ffb98393d4cb545b4c5",
       "style": "IPY_MODEL_d9487a4547864d209db23afff4661fa0"
      }
     },
     "13054058c09648d0a9ebb1c85940f631": {
      "model_module": "@jupyter-widgets/controls",
      "model_module_version": "1.2.0",
      "model_name": "VBoxModel",
      "state": {
       "children": [
        "IPY_MODEL_fc2b81b715854b87b6bbbefe32c53a17",
        "IPY_MODEL_bb7b60324af2490a9d0b27a9436f625d",
        "IPY_MODEL_d1f869b81e0f46c88c011ddd2fa38061",
        "IPY_MODEL_6f4367bd98f14afda5ce2b0f75865e8b",
        "IPY_MODEL_ebb821f71e6642729a1c6e4eee5f37c8"
       ],
       "layout": "IPY_MODEL_b1f5b5816e0e4c52850a9e8a995c644d"
      }
     },
     "130d332b09a84da48e8732220e470b7b": {
      "model_module": "@jupyter-widgets/base",
      "model_module_version": "1.0.0",
      "model_name": "LayoutModel",
      "state": {}
     },
     "134c0e93c02d48e58c9910924451e47d": {
      "model_module": "@jupyter-widgets/controls",
      "model_module_version": "1.2.0",
      "model_name": "ButtonModel",
      "state": {
       "description": "Abhängigkeitsstruktur",
       "layout": "IPY_MODEL_e2c8382e50274c098d49649fe9bae1dd",
       "style": "IPY_MODEL_19b0ccbc46d74b6b9676f57a49793de9"
      }
     },
     "14220c7e9fbe4e3e81d4a0d71e64bb7b": {
      "model_module": "@jupyter-widgets/controls",
      "model_module_version": "1.2.0",
      "model_name": "VBoxModel",
      "state": {
       "children": [
        "IPY_MODEL_3f9c2e1b1c624ba78f2818e7512a7575",
        "IPY_MODEL_f6e542cdfd45416b8e380c1c33402eca",
        "IPY_MODEL_90feb89cf6d24186a38ad48ef6f01f8f",
        "IPY_MODEL_abba5c0b3f6b4f12a1d6ff78f06234f0"
       ],
       "layout": "IPY_MODEL_cc8c79f28dd14a7c9a478a4e0e89887b"
      }
     },
     "152c3428c2bc44238ed3856bacd3fb6c": {
      "model_module": "@jupyter-widgets/controls",
      "model_module_version": "1.2.0",
      "model_name": "DescriptionStyleModel",
      "state": {
       "description_width": ""
      }
     },
     "1544233fb46f49e2bab0627217d381bb": {
      "model_module": "@jupyter-widgets/controls",
      "model_module_version": "1.2.0",
      "model_name": "CheckboxModel",
      "state": {
       "description": "Objekt-Nominalphrase",
       "disabled": false,
       "layout": "IPY_MODEL_e8b5a10a098b4ac698dc1632fccf6f33",
       "style": "IPY_MODEL_46176e617d07418c917a7fc06c6b21be",
       "value": true
      }
     },
     "159347391d974ad8b62e072256ad35d3": {
      "model_module": "@jupyter-widgets/controls",
      "model_module_version": "1.2.0",
      "model_name": "HTMLModel",
      "state": {
       "layout": "IPY_MODEL_15d7fc9c0bc249208f2ae17bc5624e00",
       "style": "IPY_MODEL_7e32eefa9ad745dab59b4eb8e1e391de",
       "value": "<h4 style=\"font-size:14px;\">Bzgl. welcher (nicht an der Oberflächensyntax ersichtlichen) Eigenschaft unterscheiden sich die PPs in den beiden Analysen?</h4>"
      }
     },
     "15b4e526fc274c7f94191c17a1ab912f": {
      "model_module": "@jupyter-widgets/controls",
      "model_module_version": "1.2.0",
      "model_name": "ButtonModel",
      "state": {
       "description": "Klammernotation",
       "layout": "IPY_MODEL_1ba5fadb492345768dae95d41cd42461",
       "style": "IPY_MODEL_4f46e54161ee4d7082b2d7001c04ef02"
      }
     },
     "15d7fc9c0bc249208f2ae17bc5624e00": {
      "model_module": "@jupyter-widgets/base",
      "model_module_version": "1.0.0",
      "model_name": "LayoutModel",
      "state": {
       "justify_content": "center"
      }
     },
     "16099be0c0ae4751a14b0cfc49fe875a": {
      "model_module": "@jupyter-widgets/controls",
      "model_module_version": "1.2.0",
      "model_name": "HTMLModel",
      "state": {
       "layout": "IPY_MODEL_e990f97ee92b47acad8e2724e14d975f",
       "style": "IPY_MODEL_32dcc8396a7b465b9e59151035fadfde",
       "value": "<h4 style=\"font-size:14px;\">Was ist der Fall, wenn die PP ein Attribut ist?</h4>"
      }
     },
     "16e021ff14e74343bf42159468fd090f": {
      "model_module": "@jupyter-widgets/controls",
      "model_module_version": "1.2.0",
      "model_name": "HTMLModel",
      "state": {
       "layout": "IPY_MODEL_091740feea3b476ea2ebc059e36ece2c",
       "style": "IPY_MODEL_3db0eb0462274c4494d254a249ee3199",
       "value": "<h4 style=\"font-size:14px;\">Was ist der Fall, wenn die PP ein Adverbial ist?</h4>"
      }
     },
     "1716e23fcddb4f7d956e0dc690d4f7a4": {
      "model_module": "@jupyter-widgets/base",
      "model_module_version": "1.0.0",
      "model_name": "LayoutModel",
      "state": {}
     },
     "17703e54706f4bccb6412d151925c640": {
      "model_module": "@jupyter-widgets/controls",
      "model_module_version": "1.2.0",
      "model_name": "DescriptionStyleModel",
      "state": {
       "description_width": "initial"
      }
     },
     "17c487877ca84197baa02aab540d87c3": {
      "model_module": "@jupyter-widgets/controls",
      "model_module_version": "1.2.0",
      "model_name": "ButtonModel",
      "state": {
       "description": "Regelbuch",
       "layout": "IPY_MODEL_41812c408ef642fdbb97a554f46669a1",
       "style": "IPY_MODEL_041a4dd65dd2407f9d837c7bcd08e3cc"
      }
     },
     "1817aa9e556e40438f670474e3ad4f46": {
      "model_module": "@jupyter-widgets/controls",
      "model_module_version": "1.2.0",
      "model_name": "ButtonStyleModel",
      "state": {}
     },
     "184238da3dd348a6a258b05604d4c15a": {
      "model_module": "@jupyter-widgets/controls",
      "model_module_version": "1.2.0",
      "model_name": "VBoxModel",
      "state": {
       "children": [
        "IPY_MODEL_72f86d22fb1d414abfe4a34c048109db",
        "IPY_MODEL_e2fe37dcdf8341df9e47e3df5edaebce",
        "IPY_MODEL_4bcd3105083a4e6783d26f3e35401c31",
        "IPY_MODEL_0d1320c81fc043aaa4623102ef447b0e"
       ],
       "layout": "IPY_MODEL_8671d841e37d4f28a5dd47d8e6dd82e7"
      }
     },
     "185115ee054947a6b85884294853814c": {
      "model_module": "@jupyter-widgets/base",
      "model_module_version": "1.0.0",
      "model_name": "LayoutModel",
      "state": {}
     },
     "1857dd24621440acacec6c8f5cc1849e": {
      "model_module": "@jupyter-widgets/controls",
      "model_module_version": "1.2.0",
      "model_name": "DescriptionStyleModel",
      "state": {
       "description_width": ""
      }
     },
     "18dc27cfc4914972b1c1758f01661aee": {
      "model_module": "@jupyter-widgets/controls",
      "model_module_version": "1.2.0",
      "model_name": "ButtonModel",
      "state": {
       "description": "Wortstruktur",
       "layout": "IPY_MODEL_f94a0456deb34c70924b2cc0ab6b57cc",
       "style": "IPY_MODEL_d1e5e3f143fa4177961188c0a81a17c4"
      }
     },
     "18f49356522141678bc2436969fbb265": {
      "model_module": "@jupyter-widgets/controls",
      "model_module_version": "1.2.0",
      "model_name": "DescriptionStyleModel",
      "state": {
       "description_width": ""
      }
     },
     "190d4ebfdf03455db925dfb92f5188a4": {
      "model_module": "@jupyter-widgets/controls",
      "model_module_version": "1.2.0",
      "model_name": "HTMLModel",
      "state": {
       "layout": "IPY_MODEL_b197f880bb2f43619acf1bc5429163d0",
       "style": "IPY_MODEL_e26bf3127166425f884064a179616fbe",
       "value": "<h4 style=\"font-size:14px;\">In welcher Form wird die syntaktische Struktur eines Satzes beim Aufruf von NLTK print(tree) erstellt?</h4>"
      }
     },
     "19b0ccbc46d74b6b9676f57a49793de9": {
      "model_module": "@jupyter-widgets/controls",
      "model_module_version": "1.2.0",
      "model_name": "ButtonStyleModel",
      "state": {}
     },
     "1a9a2745a107408ab7d626e8bf8f831b": {
      "model_module": "@jupyter-widgets/controls",
      "model_module_version": "1.2.0",
      "model_name": "VBoxModel",
      "state": {
       "children": [
        "IPY_MODEL_d1004b30a88a4411b6f83ce6fd7ae761",
        "IPY_MODEL_7fd9f6b34f034017b91e500f26b80fce",
        "IPY_MODEL_04025fb8499d46febca85bdb346b314c",
        "IPY_MODEL_02cf9558640e47b693d151c408fd17d6",
        "IPY_MODEL_b44d9dfb95784bd28cfaff0f9f7d471e"
       ],
       "layout": "IPY_MODEL_28fd3a92b8a9445eab3863139449ba7c"
      }
     },
     "1ba5fadb492345768dae95d41cd42461": {
      "model_module": "@jupyter-widgets/base",
      "model_module_version": "1.0.0",
      "model_name": "LayoutModel",
      "state": {
       "width": "250px"
      }
     },
     "1be13ff06ceb40c7bff8356434c931ab": {
      "model_module": "@jupyter-widgets/base",
      "model_module_version": "1.0.0",
      "model_name": "LayoutModel",
      "state": {
       "justify_content": "center"
      }
     },
     "1c06f457506d4c66b597ece3eeac2ce3": {
      "model_module": "@jupyter-widgets/controls",
      "model_module_version": "1.2.0",
      "model_name": "BoxModel",
      "state": {
       "children": [
        "IPY_MODEL_4113eb74e55042b1b78a8b83a6c05134",
        "IPY_MODEL_12ced8a8266d4d209de8afccd0636b09",
        "IPY_MODEL_d961c2cfbd234628954e52da4d9312ec",
        "IPY_MODEL_66f7725d8b9d4431a647d0e84231c556",
        "IPY_MODEL_f030dac9ee10474db6af1f68ef0a89ff"
       ],
       "layout": "IPY_MODEL_eac96775ed7e4f1185cc618bbe5a4c1f"
      }
     },
     "1cb3da3da453461aa97392c4808be6b5": {
      "model_module": "@jupyter-widgets/controls",
      "model_module_version": "1.2.0",
      "model_name": "DescriptionStyleModel",
      "state": {
       "description_width": ""
      }
     },
     "1cfa88b4c41743a682f693af4ca2cae0": {
      "model_module": "@jupyter-widgets/controls",
      "model_module_version": "1.2.0",
      "model_name": "DescriptionStyleModel",
      "state": {
       "description_width": ""
      }
     },
     "1d0f18bdc14b415086e8d02a74c66efc": {
      "model_module": "@jupyter-widgets/base",
      "model_module_version": "1.0.0",
      "model_name": "LayoutModel",
      "state": {
       "width": "250px"
      }
     },
     "1d2ed2f1679b43d99678b6872ad80e70": {
      "model_module": "@jupyter-widgets/base",
      "model_module_version": "1.0.0",
      "model_name": "LayoutModel",
      "state": {
       "width": "250px"
      }
     },
     "1d4ebfa65c124712a808dddcd531ac58": {
      "model_module": "@jupyter-widgets/controls",
      "model_module_version": "1.2.0",
      "model_name": "VBoxModel",
      "state": {
       "children": [
        "IPY_MODEL_dca4d33a7d7446ac843b9996c51c2ee3",
        "IPY_MODEL_7c7a0abd9f354260937f1de743836211",
        "IPY_MODEL_a0cfe6dc07a6473e95f2f03f7e423652"
       ],
       "layout": "IPY_MODEL_43328034ea624e8d8c23423fb7dd6105"
      }
     },
     "1d8d2b7adfff4749b6f304f540d55ec3": {
      "model_module": "@jupyter-widgets/controls",
      "model_module_version": "1.2.0",
      "model_name": "ButtonModel",
      "state": {
       "description": "Objekt",
       "layout": "IPY_MODEL_d34ac3b4538346c7b3ae69c9f014f6be",
       "style": "IPY_MODEL_1817aa9e556e40438f670474e3ad4f46"
      }
     },
     "1e068834c0cd43049251bfc8515ec106": {
      "model_module": "@jupyter-widgets/base",
      "model_module_version": "1.0.0",
      "model_name": "LayoutModel",
      "state": {
       "justify_content": "center"
      }
     },
     "1e7d528b427b4f018854f95e6af5f370": {
      "model_module": "@jupyter-widgets/controls",
      "model_module_version": "1.2.0",
      "model_name": "DescriptionStyleModel",
      "state": {
       "description_width": ""
      }
     },
     "1eb048273f5448ac806fbffba31ebc3f": {
      "model_module": "@jupyter-widgets/controls",
      "model_module_version": "1.2.0",
      "model_name": "VBoxModel",
      "state": {
       "children": [
        "IPY_MODEL_7308bac29b1448129a4ee9bb15ff6180",
        "IPY_MODEL_e061c12e569f4d52a572e4641595219b",
        "IPY_MODEL_49ec4e34419a47faae00dc1f367fb39e",
        "IPY_MODEL_ff74eebea056499fb455ae119bfc0750"
       ],
       "layout": "IPY_MODEL_f3a590fdec3949cda0ef485291b247ab"
      }
     },
     "1eb9982831a9427ca336540428e69ba0": {
      "model_module": "@jupyter-widgets/controls",
      "model_module_version": "1.2.0",
      "model_name": "HBoxModel",
      "state": {
       "children": [
        "IPY_MODEL_5448944ef38744d0b13f721b5f6da6dd",
        "IPY_MODEL_f699d4e882b74aeda38637602eb8e02c"
       ],
       "layout": "IPY_MODEL_53f1f1ce42334142b4edd548f00fe63e"
      }
     },
     "1f48bc6009934782aa68848c0f0132f4": {
      "model_module": "@jupyter-widgets/controls",
      "model_module_version": "1.2.0",
      "model_name": "DescriptionStyleModel",
      "state": {
       "description_width": ""
      }
     },
     "1f5360c0b16d4fbc833743a42123c8d1": {
      "model_module": "@jupyter-widgets/base",
      "model_module_version": "1.0.0",
      "model_name": "LayoutModel",
      "state": {
       "width": "600px"
      }
     },
     "1fd3de04fe3846b29ca48e4bf2670558": {
      "model_module": "@jupyter-widgets/base",
      "model_module_version": "1.0.0",
      "model_name": "LayoutModel",
      "state": {
       "width": "250px"
      }
     },
     "20743c0b482e4263b736f0e21856bed6": {
      "model_module": "@jupyter-widgets/controls",
      "model_module_version": "1.2.0",
      "model_name": "DescriptionStyleModel",
      "state": {
       "description_width": ""
      }
     },
     "21e7902fc226418888d34c12307e8a0f": {
      "model_module": "@jupyter-widgets/controls",
      "model_module_version": "1.2.0",
      "model_name": "DescriptionStyleModel",
      "state": {
       "description_width": ""
      }
     },
     "220f895bdb574443b1303e8d0731c0cb": {
      "model_module": "@jupyter-widgets/controls",
      "model_module_version": "1.2.0",
      "model_name": "ButtonModel",
      "state": {
       "description": "Keine der anderen Möglichkeiten",
       "layout": "IPY_MODEL_c122495faf1c4fe1b4d9d2316db86f76",
       "style": "IPY_MODEL_644cbc685e2f401cbda391128d359cf9"
      }
     },
     "22269c1023ef49e58fb22f96ee182f95": {
      "model_module": "@jupyter-widgets/controls",
      "model_module_version": "1.2.0",
      "model_name": "ButtonModel",
      "state": {
       "description": "Konstituenz",
       "layout": "IPY_MODEL_a882e2b9e5194d599f171a5ad28606a4",
       "style": "IPY_MODEL_abd9bad1a59c457ca57bd4ceacbe83c5"
      }
     },
     "22eb484bb8f946709ac624616b018583": {
      "model_module": "@jupyter-widgets/base",
      "model_module_version": "1.0.0",
      "model_name": "LayoutModel",
      "state": {}
     },
     "22fdddf024784bb48131a803518762c2": {
      "model_module": "@jupyter-widgets/controls",
      "model_module_version": "1.2.0",
      "model_name": "ButtonModel",
      "state": {
       "description": "Theorie der Sprachstruktur",
       "layout": "IPY_MODEL_e72990bcdca74dcab6101ce3fbcbf607",
       "style": "IPY_MODEL_0ada6439de9f4722b80ce1e1ae63fe47"
      }
     },
     "23e869db373d44d090a5b4b1f09cce90": {
      "model_module": "@jupyter-widgets/base",
      "model_module_version": "1.0.0",
      "model_name": "LayoutModel",
      "state": {}
     },
     "243cb06c4c8b4523a4ded176fa922ec8": {
      "model_module": "@jupyter-widgets/base",
      "model_module_version": "1.0.0",
      "model_name": "LayoutModel",
      "state": {}
     },
     "24d9946220cb4751a4d11094ff6e9681": {
      "model_module": "@jupyter-widgets/controls",
      "model_module_version": "1.2.0",
      "model_name": "ButtonStyleModel",
      "state": {
       "button_color": "lightgreen"
      }
     },
     "25eb8ae2baa647c398a0ce54823b51d0": {
      "model_module": "@jupyter-widgets/base",
      "model_module_version": "1.0.0",
      "model_name": "LayoutModel",
      "state": {
       "width": "150px"
      }
     },
     "2716584e178745e2adf4b5b26ea5a38b": {
      "model_module": "@jupyter-widgets/base",
      "model_module_version": "1.0.0",
      "model_name": "LayoutModel",
      "state": {
       "width": "250px"
      }
     },
     "282507e995ac44b29a1267291a668129": {
      "model_module": "@jupyter-widgets/controls",
      "model_module_version": "1.2.0",
      "model_name": "ButtonModel",
      "state": {
       "description": "Korrekt?",
       "layout": "IPY_MODEL_35f88887256444ae86bb64940ff6ad9d",
       "style": "IPY_MODEL_396bbb45ba9645e3bf3105f4ebabc5cc"
      }
     },
     "28523e007bab4e55a1b04556f15f9180": {
      "model_module": "@jupyter-widgets/base",
      "model_module_version": "1.0.0",
      "model_name": "LayoutModel",
      "state": {
       "justify_content": "center"
      }
     },
     "28a73f9750904dfd8d57682d90d75630": {
      "model_module": "@jupyter-widgets/controls",
      "model_module_version": "1.2.0",
      "model_name": "VBoxModel",
      "state": {
       "children": [
        "IPY_MODEL_68965e4430ce4e2e9bd20b00a6b2af42",
        "IPY_MODEL_e05f231c56984936ba411dbd243c2961",
        "IPY_MODEL_1a9a2745a107408ab7d626e8bf8f831b",
        "IPY_MODEL_30dcdc5bfce3499b86e0a24a93e3b661"
       ],
       "layout": "IPY_MODEL_9a4bfdbebc9049b7a95ef6c9d9ef2fee"
      }
     },
     "28fbb905f8da43c58967f5920222f062": {
      "model_module": "@jupyter-widgets/controls",
      "model_module_version": "1.2.0",
      "model_name": "ButtonStyleModel",
      "state": {
       "button_color": "lightgreen"
      }
     },
     "28fd3a92b8a9445eab3863139449ba7c": {
      "model_module": "@jupyter-widgets/base",
      "model_module_version": "1.0.0",
      "model_name": "LayoutModel",
      "state": {}
     },
     "297fe124bd0143d8a16b254134ff4b72": {
      "model_module": "@jupyter-widgets/controls",
      "model_module_version": "1.2.0",
      "model_name": "DescriptionStyleModel",
      "state": {
       "description_width": ""
      }
     },
     "2a4a4411f3b4457fbc6c4357a78cee79": {
      "model_module": "@jupyter-widgets/controls",
      "model_module_version": "1.2.0",
      "model_name": "ButtonStyleModel",
      "state": {
       "button_color": "lightgreen"
      }
     },
     "2a61dca0ee3a4c139c9f75b502b1dc00": {
      "model_module": "@jupyter-widgets/controls",
      "model_module_version": "1.2.0",
      "model_name": "DescriptionStyleModel",
      "state": {
       "description_width": ""
      }
     },
     "2b4c481efbe24deb9344628f52e22fa2": {
      "model_module": "@jupyter-widgets/base",
      "model_module_version": "1.0.0",
      "model_name": "LayoutModel",
      "state": {}
     },
     "2b6398b88af3412d90b36f21a44a20d2": {
      "model_module": "@jupyter-widgets/controls",
      "model_module_version": "1.2.0",
      "model_name": "HTMLModel",
      "state": {
       "layout": "IPY_MODEL_85a95ed6fe5a4f038bf6f2521e650b78",
       "style": "IPY_MODEL_fde5c3e7e548464ea9da6cdb91ff842d",
       "value": "<h4 style=\"font-size:14px;\">Konstituenz ist synonym zu:</h4>"
      }
     },
     "2c08d7e7e7a94e619c02c60f242be796": {
      "model_module": "@jupyter-widgets/controls",
      "model_module_version": "1.2.0",
      "model_name": "HTMLModel",
      "state": {
       "layout": "IPY_MODEL_b80383ec60eb4464aefc2368e572bb45",
       "style": "IPY_MODEL_00b666929d22465db762082e33ff075f",
       "value": "<h4 style=\"font-size:14px;\">der Grammatik, der sich auf die</h4>"
      }
     },
     "2ce42f4da52f4e29b1ea318c642b41cd": {
      "model_module": "@jupyter-widgets/controls",
      "model_module_version": "1.2.0",
      "model_name": "DescriptionStyleModel",
      "state": {
       "description_width": ""
      }
     },
     "2cfb6f729aea49c78af438a8ab5c26ec": {
      "model_module": "@jupyter-widgets/base",
      "model_module_version": "1.0.0",
      "model_name": "LayoutModel",
      "state": {}
     },
     "2d48d4ca277343a292bf9a79c35793c1": {
      "model_module": "@jupyter-widgets/controls",
      "model_module_version": "1.2.0",
      "model_name": "VBoxModel",
      "state": {
       "children": [
        "IPY_MODEL_8fea05ea1f4b4c19bb97d849fd71aba1",
        "IPY_MODEL_3844b06b47fe4e5da3a5808a714add23",
        "IPY_MODEL_ed1f268434f24b228d29b1c316a79738",
        "IPY_MODEL_e7343da402d84594953b038cefb0a654"
       ],
       "layout": "IPY_MODEL_8b20f5c2ca934a3ebdc22a2615e4540d"
      }
     },
     "2d836c22b8a84436ab6cabe383faf1c7": {
      "model_module": "@jupyter-widgets/controls",
      "model_module_version": "1.2.0",
      "model_name": "DescriptionStyleModel",
      "state": {
       "description_width": ""
      }
     },
     "2e1c8feac9734c339a698112aaa2296d": {
      "model_module": "@jupyter-widgets/controls",
      "model_module_version": "1.2.0",
      "model_name": "ButtonModel",
      "state": {
       "description": "Wissen um Sprachstruktur",
       "layout": "IPY_MODEL_4edf2e38a7234a518b89e489ec031ccc",
       "style": "IPY_MODEL_9dc4253431184f60ae1eeadb027e5515"
      }
     },
     "2e6504dd7038435f80c747ba38a6502c": {
      "model_module": "@jupyter-widgets/base",
      "model_module_version": "1.0.0",
      "model_name": "LayoutModel",
      "state": {}
     },
     "2fa2756c23b94ce5b89f19a2ac230245": {
      "model_module": "@jupyter-widgets/base",
      "model_module_version": "1.0.0",
      "model_name": "LayoutModel",
      "state": {}
     },
     "2fbcaad323a846a38e5204bb76392273": {
      "model_module": "@jupyter-widgets/controls",
      "model_module_version": "1.2.0",
      "model_name": "HBoxModel",
      "state": {
       "children": [
        "IPY_MODEL_ca6aa164784e4d33aa39327c09708206",
        "IPY_MODEL_65061439dad24df0aeac3e9e709dd1cb"
       ],
       "layout": "IPY_MODEL_747a48b4b2e847bfaf6d383fa39460f6"
      }
     },
     "302720c05bab4ce98fe69ed546eac9f7": {
      "model_module": "@jupyter-widgets/base",
      "model_module_version": "1.0.0",
      "model_name": "LayoutModel",
      "state": {
       "justify_content": "center"
      }
     },
     "30a4a55ee12d4cac961401e6df1198c6": {
      "model_module": "@jupyter-widgets/controls",
      "model_module_version": "1.2.0",
      "model_name": "ButtonStyleModel",
      "state": {}
     },
     "30dcdc5bfce3499b86e0a24a93e3b661": {
      "model_module": "@jupyter-widgets/controls",
      "model_module_version": "1.2.0",
      "model_name": "ButtonModel",
      "state": {
       "description": "Korrekt?",
       "layout": "IPY_MODEL_4ec70ab75598492880de904cfe043ca2",
       "style": "IPY_MODEL_d84374a31c35474d8cc2b5c49c0d64b3"
      }
     },
     "30f3b185c9634406be67773b9a066a47": {
      "model_module": "@jupyter-widgets/controls",
      "model_module_version": "1.2.0",
      "model_name": "DescriptionStyleModel",
      "state": {
       "description_width": "initial"
      }
     },
     "314965d0021f4049a325b9a402fae4b6": {
      "model_module": "@jupyter-widgets/base",
      "model_module_version": "1.0.0",
      "model_name": "LayoutModel",
      "state": {
       "justify_content": "center"
      }
     },
     "31a61b867a444aa4b314f71a090c4718": {
      "model_module": "@jupyter-widgets/controls",
      "model_module_version": "1.2.0",
      "model_name": "VBoxModel",
      "state": {
       "children": [
        "IPY_MODEL_2b6398b88af3412d90b36f21a44a20d2",
        "IPY_MODEL_affa6690a5164b43bb249afd4c14b51d",
        "IPY_MODEL_772e8fd7739d4dca92b11c90217723d2",
        "IPY_MODEL_0cde9c06f6fb4505841e2a61472b89be",
        "IPY_MODEL_4448273d3c414072b6b633930145a4dd"
       ],
       "layout": "IPY_MODEL_53fb88dc36c442528b6a5c467ee1474a"
      }
     },
     "31ec3745523a4160acf231c12e0a2f0e": {
      "model_module": "@jupyter-widgets/base",
      "model_module_version": "1.0.0",
      "model_name": "LayoutModel",
      "state": {}
     },
     "32312563b7914135b7533815c0bf8be3": {
      "model_module": "@jupyter-widgets/base",
      "model_module_version": "1.0.0",
      "model_name": "LayoutModel",
      "state": {
       "width": "250px"
      }
     },
     "32db301835c04682b8654091d12341a3": {
      "model_module": "@jupyter-widgets/controls",
      "model_module_version": "1.2.0",
      "model_name": "DescriptionStyleModel",
      "state": {
       "description_width": ""
      }
     },
     "32dcc8396a7b465b9e59151035fadfde": {
      "model_module": "@jupyter-widgets/controls",
      "model_module_version": "1.2.0",
      "model_name": "DescriptionStyleModel",
      "state": {
       "description_width": ""
      }
     },
     "35f88887256444ae86bb64940ff6ad9d": {
      "model_module": "@jupyter-widgets/base",
      "model_module_version": "1.0.0",
      "model_name": "LayoutModel",
      "state": {
       "width": "250px"
      }
     },
     "361585a038dc4945ad6a9f76d02f6580": {
      "model_module": "@jupyter-widgets/base",
      "model_module_version": "1.0.0",
      "model_name": "LayoutModel",
      "state": {}
     },
     "362914bd701048be90a1da732fd0f8c2": {
      "model_module": "@jupyter-widgets/controls",
      "model_module_version": "1.2.0",
      "model_name": "ButtonStyleModel",
      "state": {}
     },
     "3630011de5bc4a7b8f79aec1c36f61f7": {
      "model_module": "@jupyter-widgets/controls",
      "model_module_version": "1.2.0",
      "model_name": "ButtonStyleModel",
      "state": {
       "button_color": "lightgreen"
      }
     },
     "366dee28fc7f4b369d9a714426ec70cb": {
      "model_module": "@jupyter-widgets/controls",
      "model_module_version": "1.2.0",
      "model_name": "ButtonStyleModel",
      "state": {}
     },
     "36be738e01b2406d8d43e8d4b57b79d7": {
      "model_module": "@jupyter-widgets/controls",
      "model_module_version": "1.2.0",
      "model_name": "ButtonStyleModel",
      "state": {}
     },
     "36c408519a954f8a9185cd920f7e7aea": {
      "model_module": "@jupyter-widgets/controls",
      "model_module_version": "1.2.0",
      "model_name": "ButtonModel",
      "state": {
       "description": "Parser",
       "layout": "IPY_MODEL_4650182c523a43449c5f21328ef6fc40",
       "style": "IPY_MODEL_7b7c897820d54a9db34447b3c8bf33ef"
      }
     },
     "36ee51631cc541a792111c911267dc48": {
      "model_module": "@jupyter-widgets/base",
      "model_module_version": "1.0.0",
      "model_name": "LayoutModel",
      "state": {
       "justify_content": "center"
      }
     },
     "36ee5256567046e5bae68f39c4db0d49": {
      "model_module": "@jupyter-widgets/base",
      "model_module_version": "1.0.0",
      "model_name": "LayoutModel",
      "state": {
       "justify_content": "center"
      }
     },
     "37e2aa89a22d4f708aa718a53651d632": {
      "model_module": "@jupyter-widgets/base",
      "model_module_version": "1.0.0",
      "model_name": "LayoutModel",
      "state": {}
     },
     "3810dea8963b455b8a21c2821935b67d": {
      "model_module": "@jupyter-widgets/controls",
      "model_module_version": "1.2.0",
      "model_name": "CheckboxModel",
      "state": {
       "description": "Subjekt-Nominalphrase",
       "disabled": false,
       "layout": "IPY_MODEL_be1df8f15dc545c694f9b9ac2393ce76",
       "style": "IPY_MODEL_6e5ea4832f7a4727987b642e0f92b433",
       "value": false
      }
     },
     "38352a8e9abc4ce3934dd7501da7a2e6": {
      "model_module": "@jupyter-widgets/controls",
      "model_module_version": "1.2.0",
      "model_name": "HBoxModel",
      "state": {
       "children": [
        "IPY_MODEL_70130908fd4f489ead902fe1d21b0cbf",
        "IPY_MODEL_22269c1023ef49e58fb22f96ee182f95"
       ],
       "layout": "IPY_MODEL_943b00a0c57541c08dfe2b93074e9a1c"
      }
     },
     "3844b06b47fe4e5da3a5808a714add23": {
      "model_module": "@jupyter-widgets/controls",
      "model_module_version": "1.2.0",
      "model_name": "HTMLModel",
      "state": {
       "layout": "IPY_MODEL_818938172f7f47739dc1580883a8efd0",
       "style": "IPY_MODEL_883d44e9a8ac4565b0f0b96139dc742f",
       "value": "<i>Wählen Sie die <ins>eine</ins> korrekte Antwort aus: </i>"
      }
     },
     "3882defc55274e58a52744206dd73c93": {
      "model_module": "@jupyter-widgets/controls",
      "model_module_version": "1.2.0",
      "model_name": "ButtonStyleModel",
      "state": {}
     },
     "389bda23950542e0a2371634d2a21281": {
      "model_module": "@jupyter-widgets/controls",
      "model_module_version": "1.2.0",
      "model_name": "HTMLModel",
      "state": {
       "layout": "IPY_MODEL_679ea22b14f64c998b05a052ab45d414",
       "style": "IPY_MODEL_5415d1e468994ae4ae603ea2061e671f",
       "value": "<i>Wählen Sie die <ins>eine</ins> korrekte Antwort aus: </i>"
      }
     },
     "3935268a3a3b40e0a1bb1b158063fe0f": {
      "model_module": "@jupyter-widgets/controls",
      "model_module_version": "1.2.0",
      "model_name": "DescriptionStyleModel",
      "state": {
       "description_width": "initial"
      }
     },
     "396bbb45ba9645e3bf3105f4ebabc5cc": {
      "model_module": "@jupyter-widgets/controls",
      "model_module_version": "1.2.0",
      "model_name": "ButtonStyleModel",
      "state": {
       "button_color": "lightgreen"
      }
     },
     "39b1e50a5b7d4022a52c6cbf9c0edc82": {
      "model_module": "@jupyter-widgets/controls",
      "model_module_version": "1.2.0",
      "model_name": "ButtonStyleModel",
      "state": {}
     },
     "39dc33c6a10d4e5a8162d4a381a0d9ff": {
      "model_module": "@jupyter-widgets/controls",
      "model_module_version": "1.2.0",
      "model_name": "VBoxModel",
      "state": {
       "children": [
        "IPY_MODEL_87f5cb6ae6f744c2b186f94e0d440e93",
        "IPY_MODEL_644e6536882a4c949bf7bb1ae6444e55",
        "IPY_MODEL_43132910abed4ce0b9e92d6f2ef0ac9f",
        "IPY_MODEL_282507e995ac44b29a1267291a668129"
       ],
       "layout": "IPY_MODEL_fc476cdf38204a9299e4c158dd824807"
      }
     },
     "3a77c209e94c4b01b966bcbc84b2b769": {
      "model_module": "@jupyter-widgets/controls",
      "model_module_version": "1.2.0",
      "model_name": "ButtonStyleModel",
      "state": {}
     },
     "3ace9b1bf77042a8b54ad5ef181f98f8": {
      "model_module": "@jupyter-widgets/controls",
      "model_module_version": "1.2.0",
      "model_name": "HTMLModel",
      "state": {
       "layout": "IPY_MODEL_c8fcb1f9aef542b28b5f8118abdd53b5",
       "style": "IPY_MODEL_9eebdd665bbe4b988dded8e2dea0d1df",
       "value": "<h4 style=\"font-size:14px;\">Was sind die 3 grundlegenden Beschreibungsebenen der Grammatik natürlicher Sprachen?</h4>"
      }
     },
     "3b706b91d10941149d3452f706493810": {
      "model_module": "@jupyter-widgets/base",
      "model_module_version": "1.0.0",
      "model_name": "LayoutModel",
      "state": {
       "width": "250px"
      }
     },
     "3bcb41992f9f411d83605f41fff20797": {
      "model_module": "@jupyter-widgets/controls",
      "model_module_version": "1.2.0",
      "model_name": "DescriptionStyleModel",
      "state": {
       "description_width": ""
      }
     },
     "3c4b8c7f25964639a67cbbc11f9c74aa": {
      "model_module": "@jupyter-widgets/base",
      "model_module_version": "1.0.0",
      "model_name": "LayoutModel",
      "state": {
       "width": "250px"
      }
     },
     "3cf0f4175cf541b88ead335cf8b6141f": {
      "model_module": "@jupyter-widgets/base",
      "model_module_version": "1.0.0",
      "model_name": "LayoutModel",
      "state": {
       "width": "250px"
      }
     },
     "3d1435b65b114e0095b174183c5276fb": {
      "model_module": "@jupyter-widgets/controls",
      "model_module_version": "1.2.0",
      "model_name": "DropdownModel",
      "state": {
       "_options_labels": [
        "morphologischen",
        "phonologischen",
        "semantischen",
        "syntaktischen",
        " "
       ],
       "index": 3,
       "layout": "IPY_MODEL_801227077d874582bf04621ceedf2544",
       "style": "IPY_MODEL_bd9aa186898c496e9fc55783f8cda244"
      }
     },
     "3d37a1d04f8c464d91f099cb1d06b4e3": {
      "model_module": "@jupyter-widgets/controls",
      "model_module_version": "1.2.0",
      "model_name": "DescriptionStyleModel",
      "state": {
       "description_width": ""
      }
     },
     "3dac4248342949cba888f2cd2e9111cb": {
      "model_module": "@jupyter-widgets/base",
      "model_module_version": "1.0.0",
      "model_name": "LayoutModel",
      "state": {
       "width": "250px"
      }
     },
     "3db0eb0462274c4494d254a249ee3199": {
      "model_module": "@jupyter-widgets/controls",
      "model_module_version": "1.2.0",
      "model_name": "DescriptionStyleModel",
      "state": {
       "description_width": ""
      }
     },
     "3dca6edfcecf460eb107d9a48b7f3156": {
      "model_module": "@jupyter-widgets/base",
      "model_module_version": "1.0.0",
      "model_name": "LayoutModel",
      "state": {
       "justify_content": "center"
      }
     },
     "3ddc2e9ba4db4cb29d9b036d3685c15c": {
      "model_module": "@jupyter-widgets/controls",
      "model_module_version": "1.2.0",
      "model_name": "VBoxModel",
      "state": {
       "children": [
        "IPY_MODEL_3ace9b1bf77042a8b54ad5ef181f98f8",
        "IPY_MODEL_7e22ffea1a5d4ab0a3480468a4d747f5",
        "IPY_MODEL_1d4ebfa65c124712a808dddcd531ac58",
        "IPY_MODEL_99e8e070cebb4c3e812bb344d35bbaee"
       ],
       "layout": "IPY_MODEL_2e6504dd7038435f80c747ba38a6502c"
      }
     },
     "3e244e7750ce4afb90086b1bb1991e24": {
      "model_module": "@jupyter-widgets/controls",
      "model_module_version": "1.2.0",
      "model_name": "HTMLModel",
      "state": {
       "layout": "IPY_MODEL_ce78d50ba38d4477b2d961415e2c54c7",
       "style": "IPY_MODEL_d9b498a0800a403e955046f8e2bb92a6",
       "value": "<i>Wählen Sie die <ins>eine</ins> korrekte Antwort aus: </i>"
      }
     },
     "3e3a3414c6374d38ae2dc9be227ae15b": {
      "model_module": "@jupyter-widgets/controls",
      "model_module_version": "1.2.0",
      "model_name": "HBoxModel",
      "state": {
       "children": [
        "IPY_MODEL_b259ea46c50e49578880de25672d2258"
       ],
       "layout": "IPY_MODEL_c3258a6ace0540cdb65827556b23794b"
      }
     },
     "3eaaf31c34684b87b9239eaefa216f0a": {
      "model_module": "@jupyter-widgets/base",
      "model_module_version": "1.0.0",
      "model_name": "LayoutModel",
      "state": {
       "width": "600px"
      }
     },
     "3ef0ac4fb88a48e5b5d88e6a92d541c4": {
      "model_module": "@jupyter-widgets/controls",
      "model_module_version": "1.2.0",
      "model_name": "HTMLModel",
      "state": {
       "layout": "IPY_MODEL_6f560c559ca1469b8496828d1f4d4d10",
       "style": "IPY_MODEL_9e09448146d64bada6690391cb106898",
       "value": "<h4 style=\"font-size:14px;\">Welche Mittel kommen in einer formalen Syntaxanalyse zum Einsatz?</h4>"
      }
     },
     "3f9c2e1b1c624ba78f2818e7512a7575": {
      "model_module": "@jupyter-widgets/controls",
      "model_module_version": "1.2.0",
      "model_name": "HTMLModel",
      "state": {
       "layout": "IPY_MODEL_185115ee054947a6b85884294853814c",
       "style": "IPY_MODEL_32db301835c04682b8654091d12341a3",
       "value": "<h4 style=\"font-size:14px;\">In welcher Beziehung können Gerund und nachfolgendes Nomen stehen?</h4>"
      }
     },
     "3fecea848af54affa247e0258212ca05": {
      "model_module": "@jupyter-widgets/base",
      "model_module_version": "1.0.0",
      "model_name": "LayoutModel",
      "state": {
       "width": "500px"
      }
     },
     "40436bf191524483b3b8c0e6ea29c6ba": {
      "model_module": "@jupyter-widgets/controls",
      "model_module_version": "1.2.0",
      "model_name": "ButtonModel",
      "state": {
       "description": "formale Grammatik",
       "layout": "IPY_MODEL_af87e7dcf3fe43c0817aa1d4ba677e4f",
       "style": "IPY_MODEL_d3a82b041b4e4928aa0db11cb85eb9fc"
      }
     },
     "4043bb0645414055bac5c65265eb3ad1": {
      "model_module": "@jupyter-widgets/controls",
      "model_module_version": "1.2.0",
      "model_name": "ButtonModel",
      "state": {
       "description": "Korrekt?",
       "layout": "IPY_MODEL_eb6a2b5a47614d5ba20d4df7ba4ca1a1",
       "style": "IPY_MODEL_24d9946220cb4751a4d11094ff6e9681"
      }
     },
     "40adcba2a79649cc8e62050ef5ebba32": {
      "model_module": "@jupyter-widgets/controls",
      "model_module_version": "1.2.0",
      "model_name": "DescriptionStyleModel",
      "state": {
       "description_width": "initial"
      }
     },
     "40dcc46c53b44a32a21e70321118ccb0": {
      "model_module": "@jupyter-widgets/controls",
      "model_module_version": "1.2.0",
      "model_name": "CheckboxModel",
      "state": {
       "description": "Dependenzgraph mit gelabelten Kanten",
       "disabled": false,
       "layout": "IPY_MODEL_60163cb3793946869169fa60244478dc",
       "style": "IPY_MODEL_a1396e8b0ad0476aa1e4ed1b1760feb0",
       "value": true
      }
     },
     "4113eb74e55042b1b78a8b83a6c05134": {
      "model_module": "@jupyter-widgets/controls",
      "model_module_version": "1.2.0",
      "model_name": "HTMLModel",
      "state": {
       "layout": "IPY_MODEL_6608d317d58241c4b1227a07df6a9043",
       "style": "IPY_MODEL_1857dd24621440acacec6c8f5cc1849e",
       "value": "<h4 style=\"font-size:14px;\">Für die Blätter gilt: natürlichsprachliche Wörter sind eine Teilmenge aus dem Alphabet der</h4>"
      }
     },
     "414f176fd55e44039ffcf5f6e7c5406b": {
      "model_module": "@jupyter-widgets/controls",
      "model_module_version": "1.2.0",
      "model_name": "VBoxModel",
      "state": {
       "children": [
        "IPY_MODEL_79c700ca5dfd443f8d13a8e6737fedcb",
        "IPY_MODEL_e4f2e3ddfb594dc485d997b59ebcf73b",
        "IPY_MODEL_796db94db7e744f0a83563f70237ffba",
        "IPY_MODEL_ddfd42c28a9d4a6083523ddf3fc406c9"
       ],
       "layout": "IPY_MODEL_d4c030f39db14b64b8801812e20ed980"
      }
     },
     "41812c408ef642fdbb97a554f46669a1": {
      "model_module": "@jupyter-widgets/base",
      "model_module_version": "1.0.0",
      "model_name": "LayoutModel",
      "state": {
       "width": "250px"
      }
     },
     "4253a7fd8a1c4b578f885739373ff3d8": {
      "model_module": "@jupyter-widgets/controls",
      "model_module_version": "1.2.0",
      "model_name": "CheckboxModel",
      "state": {
       "description": "Eine endliche Menge an Sätzen kann mit unendlichen Mitteln beschrieben werden.",
       "disabled": false,
       "layout": "IPY_MODEL_9a171b0ba4d745369ab338ffd98db151",
       "style": "IPY_MODEL_ff3c7377a9ac4168b60de3c34e048513",
       "value": false
      }
     },
     "429a2360c5c5424b9b2b610f35da1b17": {
      "model_module": "@jupyter-widgets/base",
      "model_module_version": "1.0.0",
      "model_name": "LayoutModel",
      "state": {
       "width": "600px"
      }
     },
     "43132910abed4ce0b9e92d6f2ef0ac9f": {
      "model_module": "@jupyter-widgets/controls",
      "model_module_version": "1.2.0",
      "model_name": "VBoxModel",
      "state": {
       "children": [
        "IPY_MODEL_6eff48b7b0f741b58b14b77ed7a40738",
        "IPY_MODEL_4253a7fd8a1c4b578f885739373ff3d8",
        "IPY_MODEL_a81df7d9fcdb44cb95790c7a1c7d83fb"
       ],
       "layout": "IPY_MODEL_f845b515c89747f3b900d0c16101b66b"
      }
     },
     "43328034ea624e8d8c23423fb7dd6105": {
      "model_module": "@jupyter-widgets/base",
      "model_module_version": "1.0.0",
      "model_name": "LayoutModel",
      "state": {}
     },
     "4448273d3c414072b6b633930145a4dd": {
      "model_module": "@jupyter-widgets/controls",
      "model_module_version": "1.2.0",
      "model_name": "HBoxModel",
      "state": {
       "children": [
        "IPY_MODEL_cdac2a0213ee4f768643ec1b8231a8bf"
       ],
       "layout": "IPY_MODEL_9b5588d182d8459189b4a768fd97b1b0"
      }
     },
     "4590a42d979444f8961ee35eaa1ca9b4": {
      "model_module": "@jupyter-widgets/controls",
      "model_module_version": "1.2.0",
      "model_name": "ButtonModel",
      "state": {
       "description": "Baumdiagramm",
       "layout": "IPY_MODEL_857ab01c76f7487baa192c063d478d8d",
       "style": "IPY_MODEL_3882defc55274e58a52744206dd73c93"
      }
     },
     "46176e617d07418c917a7fc06c6b21be": {
      "model_module": "@jupyter-widgets/controls",
      "model_module_version": "1.2.0",
      "model_name": "DescriptionStyleModel",
      "state": {
       "description_width": "initial"
      }
     },
     "4650182c523a43449c5f21328ef6fc40": {
      "model_module": "@jupyter-widgets/base",
      "model_module_version": "1.0.0",
      "model_name": "LayoutModel",
      "state": {
       "width": "250px"
      }
     },
     "466545d104b04cf9ac5ccc0c6359e7ff": {
      "model_module": "@jupyter-widgets/controls",
      "model_module_version": "1.2.0",
      "model_name": "VBoxModel",
      "state": {
       "children": [
        "IPY_MODEL_6e3552a5eedd4f37abc90708d8d5787f",
        "IPY_MODEL_78abfcd06ca64eb895a3240d447131b6",
        "IPY_MODEL_1544233fb46f49e2bab0627217d381bb",
        "IPY_MODEL_3810dea8963b455b8a21c2821935b67d",
        "IPY_MODEL_e6abfa1ce57d4733b7629de1ed8b4bf9"
       ],
       "layout": "IPY_MODEL_243cb06c4c8b4523a4ded176fa922ec8"
      }
     },
     "46698c7d93494e34b64df43c1688eca2": {
      "model_module": "@jupyter-widgets/controls",
      "model_module_version": "1.2.0",
      "model_name": "ButtonModel",
      "state": {
       "description": "Regelsystem",
       "layout": "IPY_MODEL_3c4b8c7f25964639a67cbbc11f9c74aa",
       "style": "IPY_MODEL_09007c5d329d448caf7892d7a6e1eed3"
      }
     },
     "468d1663fad245e2912714de3d0b9557": {
      "model_module": "@jupyter-widgets/base",
      "model_module_version": "1.0.0",
      "model_name": "LayoutModel",
      "state": {}
     },
     "47908bbaa76941d888a5abc3ca5733bd": {
      "model_module": "@jupyter-widgets/base",
      "model_module_version": "1.0.0",
      "model_name": "LayoutModel",
      "state": {}
     },
     "47c95034bfb3499099e2655f0b7a6c57": {
      "model_module": "@jupyter-widgets/base",
      "model_module_version": "1.0.0",
      "model_name": "LayoutModel",
      "state": {
       "justify_content": "center"
      }
     },
     "47d9af2637514847bb8a9276c0e23559": {
      "model_module": "@jupyter-widgets/controls",
      "model_module_version": "1.2.0",
      "model_name": "DescriptionStyleModel",
      "state": {
       "description_width": "initial"
      }
     },
     "482f7290142b4e58a26e17507a801156": {
      "model_module": "@jupyter-widgets/controls",
      "model_module_version": "1.2.0",
      "model_name": "HTMLModel",
      "state": {
       "layout": "IPY_MODEL_79dd1e425882499283b63e98999e30d3",
       "style": "IPY_MODEL_18f49356522141678bc2436969fbb265",
       "value": "<h4 style=\"font-size:14px;\">Die Alternative <code>tree = parser.parse(sent)</code> ist weniger wünschenswert, da im Allgemeinen ________ Parse-Tree möglich ist.</h4>"
      }
     },
     "4862e78504e3460b92a87098e996ef62": {
      "model_module": "@jupyter-widgets/controls",
      "model_module_version": "1.2.0",
      "model_name": "CheckboxModel",
      "state": {
       "description": "Synonymie",
       "disabled": false,
       "layout": "IPY_MODEL_e13f8425af4f4c9c87795b718ff8ca33",
       "style": "IPY_MODEL_f76be11596dc41c8938d5bb3957aa7b0",
       "value": false
      }
     },
     "48ca5e6390ee4617823ce0d4cb07a262": {
      "model_module": "@jupyter-widgets/base",
      "model_module_version": "1.0.0",
      "model_name": "LayoutModel",
      "state": {}
     },
     "49108a0157e845908505496c614c4caf": {
      "model_module": "@jupyter-widgets/controls",
      "model_module_version": "1.2.0",
      "model_name": "DescriptionStyleModel",
      "state": {
       "description_width": "initial"
      }
     },
     "494771d86dd44602acd5c6d6eb5de316": {
      "model_module": "@jupyter-widgets/controls",
      "model_module_version": "1.2.0",
      "model_name": "ButtonStyleModel",
      "state": {
       "button_color": "lightgreen"
      }
     },
     "49ec4e34419a47faae00dc1f367fb39e": {
      "model_module": "@jupyter-widgets/controls",
      "model_module_version": "1.2.0",
      "model_name": "HBoxModel",
      "state": {
       "children": [
        "IPY_MODEL_eb04f714da89433c95c3550f42f58361",
        "IPY_MODEL_5cb8061a362848448ab432d916cedc50"
       ],
       "layout": "IPY_MODEL_0dee0071a5754de68f4f84b72e5babfc"
      }
     },
     "49f0a510241346469fa391932f2220df": {
      "model_module": "@jupyter-widgets/controls",
      "model_module_version": "1.2.0",
      "model_name": "DescriptionStyleModel",
      "state": {
       "description_width": ""
      }
     },
     "4b356f304d454d3eb85a0bb462352dd4": {
      "model_module": "@jupyter-widgets/base",
      "model_module_version": "1.0.0",
      "model_name": "LayoutModel",
      "state": {
       "width": "600px"
      }
     },
     "4b42ba4907584177a2bf4d2c154692a9": {
      "model_module": "@jupyter-widgets/controls",
      "model_module_version": "1.2.0",
      "model_name": "HTMLModel",
      "state": {
       "layout": "IPY_MODEL_718285047ed545bdbf2d084ba579b2c8",
       "style": "IPY_MODEL_d8e2fe2ab0344819bb690031d7b0f8e2",
       "value": "<h4 style=\"font-size:14px;\">Dependenz ist synonym zu:</h4>"
      }
     },
     "4bcd3105083a4e6783d26f3e35401c31": {
      "model_module": "@jupyter-widgets/controls",
      "model_module_version": "1.2.0",
      "model_name": "VBoxModel",
      "state": {
       "children": [
        "IPY_MODEL_cd5edffed03841e0a87df51d486f9c9d",
        "IPY_MODEL_8f4a804ad9344516a8e4aa68a37f11b7",
        "IPY_MODEL_66daf041648a47e49c6a134dd0b62c10"
       ],
       "layout": "IPY_MODEL_7d8404ac38f34627b1667e2231e0bb12"
      }
     },
     "4cf5e7e0b7e14f47aaee99931a216283": {
      "model_module": "@jupyter-widgets/base",
      "model_module_version": "1.0.0",
      "model_name": "LayoutModel",
      "state": {
       "justify_content": "center"
      }
     },
     "4d182ab8aec740028765451ddc32e9d1": {
      "model_module": "@jupyter-widgets/controls",
      "model_module_version": "1.2.0",
      "model_name": "VBoxModel",
      "state": {
       "children": [
        "IPY_MODEL_16099be0c0ae4751a14b0cfc49fe875a",
        "IPY_MODEL_3e244e7750ce4afb90086b1bb1991e24",
        "IPY_MODEL_71b837bbea4d430390beaa8887d4b553",
        "IPY_MODEL_b866ec142fde4cddb36ebef21dc5262b"
       ],
       "layout": "IPY_MODEL_f72a121b64d14b47b99a9a4c180911a3"
      }
     },
     "4deb34e4b0dd4ad6836e39750818f762": {
      "model_module": "@jupyter-widgets/controls",
      "model_module_version": "1.2.0",
      "model_name": "ButtonModel",
      "state": {
       "description": "Phrasenstruktur",
       "layout": "IPY_MODEL_879425a4eb9a4542b003dfaf0f44b537",
       "style": "IPY_MODEL_d3d6181dde31468493eed72f5e2c8b0b"
      }
     },
     "4df139ca40a84c2f877af06951914e64": {
      "model_module": "@jupyter-widgets/base",
      "model_module_version": "1.0.0",
      "model_name": "LayoutModel",
      "state": {
       "width": "250px"
      }
     },
     "4e03d9a26d5046e994d08852734ee772": {
      "model_module": "@jupyter-widgets/controls",
      "model_module_version": "1.2.0",
      "model_name": "ButtonStyleModel",
      "state": {
       "button_color": "lightgreen"
      }
     },
     "4e57e0a2f48044d9b051c55f3c59f9fe": {
      "model_module": "@jupyter-widgets/controls",
      "model_module_version": "1.2.0",
      "model_name": "ButtonStyleModel",
      "state": {
       "button_color": "lightgreen"
      }
     },
     "4ea2daedfb90463299fe1bfd3ee754a8": {
      "model_module": "@jupyter-widgets/base",
      "model_module_version": "1.0.0",
      "model_name": "LayoutModel",
      "state": {
       "width": "250px"
      }
     },
     "4ec70ab75598492880de904cfe043ca2": {
      "model_module": "@jupyter-widgets/base",
      "model_module_version": "1.0.0",
      "model_name": "LayoutModel",
      "state": {
       "width": "250px"
      }
     },
     "4edf2e38a7234a518b89e489ec031ccc": {
      "model_module": "@jupyter-widgets/base",
      "model_module_version": "1.0.0",
      "model_name": "LayoutModel",
      "state": {
       "width": "250px"
      }
     },
     "4f43ae1e02f64ea4a87b5295877288d3": {
      "model_module": "@jupyter-widgets/controls",
      "model_module_version": "1.2.0",
      "model_name": "HBoxModel",
      "state": {
       "children": [
        "IPY_MODEL_1d8d2b7adfff4749b6f304f540d55ec3",
        "IPY_MODEL_f3ac113e7d7a44ab9b3ba24bf4529ae8"
       ],
       "layout": "IPY_MODEL_47908bbaa76941d888a5abc3ca5733bd"
      }
     },
     "4f46e54161ee4d7082b2d7001c04ef02": {
      "model_module": "@jupyter-widgets/controls",
      "model_module_version": "1.2.0",
      "model_name": "ButtonStyleModel",
      "state": {
       "button_color": "lightgreen"
      }
     },
     "4f833bc77ae6408488d321f4fc856737": {
      "model_module": "@jupyter-widgets/base",
      "model_module_version": "1.0.0",
      "model_name": "LayoutModel",
      "state": {}
     },
     "4fe5908885ac4a7b97c554522815eb36": {
      "model_module": "@jupyter-widgets/controls",
      "model_module_version": "1.2.0",
      "model_name": "DescriptionStyleModel",
      "state": {
       "description_width": ""
      }
     },
     "5040e4652c7b46f4a785aeff2f88dca9": {
      "model_module": "@jupyter-widgets/base",
      "model_module_version": "1.0.0",
      "model_name": "LayoutModel",
      "state": {
       "width": "600px"
      }
     },
     "508fcc06bae6458e8b3eb94b14922dd4": {
      "model_module": "@jupyter-widgets/controls",
      "model_module_version": "1.2.0",
      "model_name": "HTMLModel",
      "state": {
       "layout": "IPY_MODEL_c45a7bef21874068b4b57bd793686a1f",
       "style": "IPY_MODEL_9c5cde49c3af46f882bcfd20bf08b0d3",
       "value": "<i>Wählen Sie die <ins>eine</ins> korrekte Antwort aus: </i>"
      }
     },
     "5148955d26cc4c9f9bd4621e3902bc16": {
      "model_module": "@jupyter-widgets/base",
      "model_module_version": "1.0.0",
      "model_name": "LayoutModel",
      "state": {
       "width": "250px"
      }
     },
     "514c5a93fd594955b9fcd80a3387ef59": {
      "model_module": "@jupyter-widgets/controls",
      "model_module_version": "1.2.0",
      "model_name": "DescriptionStyleModel",
      "state": {
       "description_width": "initial"
      }
     },
     "5230a25c9388465fb3031727749d8328": {
      "model_module": "@jupyter-widgets/base",
      "model_module_version": "1.0.0",
      "model_name": "LayoutModel",
      "state": {
       "justify_content": "center"
      }
     },
     "52a5ecec8bb940bfaf86ffa6594f854c": {
      "model_module": "@jupyter-widgets/controls",
      "model_module_version": "1.2.0",
      "model_name": "VBoxModel",
      "state": {
       "children": [
        "IPY_MODEL_841c1cd4ba864d26ad9663a26910dd5b",
        "IPY_MODEL_7cb91d246215432f8c4e3973d8f45f5c",
        "IPY_MODEL_0feeaa6330114af88a7491d2f13ed3c1",
        "IPY_MODEL_1eb9982831a9427ca336540428e69ba0",
        "IPY_MODEL_53b5da510e894faa963329bde53958f6"
       ],
       "layout": "IPY_MODEL_6609cb156f744344891505859fb96453"
      }
     },
     "5359463a59234d0690b5b697b549a892": {
      "model_module": "@jupyter-widgets/base",
      "model_module_version": "1.0.0",
      "model_name": "LayoutModel",
      "state": {}
     },
     "53b5da510e894faa963329bde53958f6": {
      "model_module": "@jupyter-widgets/controls",
      "model_module_version": "1.2.0",
      "model_name": "HBoxModel",
      "state": {
       "children": [
        "IPY_MODEL_dc57fbd9a71d465ebbff29d019665d85"
       ],
       "layout": "IPY_MODEL_83d8349f21974fcfb13ec8e36cc7bf31"
      }
     },
     "53f1f1ce42334142b4edd548f00fe63e": {
      "model_module": "@jupyter-widgets/base",
      "model_module_version": "1.0.0",
      "model_name": "LayoutModel",
      "state": {}
     },
     "53fb88dc36c442528b6a5c467ee1474a": {
      "model_module": "@jupyter-widgets/base",
      "model_module_version": "1.0.0",
      "model_name": "LayoutModel",
      "state": {}
     },
     "5415d1e468994ae4ae603ea2061e671f": {
      "model_module": "@jupyter-widgets/controls",
      "model_module_version": "1.2.0",
      "model_name": "DescriptionStyleModel",
      "state": {
       "description_width": ""
      }
     },
     "5424b88cdcbc40f9bb00b7d1cffaee54": {
      "model_module": "@jupyter-widgets/controls",
      "model_module_version": "1.2.0",
      "model_name": "HTMLModel",
      "state": {
       "layout": "IPY_MODEL_28523e007bab4e55a1b04556f15f9180",
       "style": "IPY_MODEL_1cb3da3da453461aa97392c4808be6b5",
       "value": "<i>Wählen Sie die <ins>eine</ins> korrekte Antwort aus: </i>"
      }
     },
     "5433d5a580fc40079ed87ea35e807f2b": {
      "model_module": "@jupyter-widgets/base",
      "model_module_version": "1.0.0",
      "model_name": "LayoutModel",
      "state": {
       "width": "250px"
      }
     },
     "5448944ef38744d0b13f721b5f6da6dd": {
      "model_module": "@jupyter-widgets/controls",
      "model_module_version": "1.2.0",
      "model_name": "ButtonModel",
      "state": {
       "description": "Theorie der Sprachstruktur",
       "layout": "IPY_MODEL_e06e06b61f8a45329ae185c5e5c79bf2",
       "style": "IPY_MODEL_9b75cac06f4d4ca3834b03bc03d42e40"
      }
     },
     "55f8c129f5e34b00b1d55e0acc28f340": {
      "model_module": "@jupyter-widgets/controls",
      "model_module_version": "1.2.0",
      "model_name": "HTMLModel",
      "state": {
       "layout": "IPY_MODEL_5230a25c9388465fb3031727749d8328",
       "style": "IPY_MODEL_0b0b86de08eb44f9ac732702d091749c",
       "value": "<i>Wählen Sie die <ins>eine</ins> korrekte Antwort aus: </i>"
      }
     },
     "5675415a60454b48ab5e51e9223dce3c": {
      "model_module": "@jupyter-widgets/controls",
      "model_module_version": "1.2.0",
      "model_name": "DescriptionStyleModel",
      "state": {
       "description_width": ""
      }
     },
     "587c138b9ad14f689cfedd0cbb43ade0": {
      "model_module": "@jupyter-widgets/base",
      "model_module_version": "1.0.0",
      "model_name": "LayoutModel",
      "state": {
       "width": "250px"
      }
     },
     "58ac1755d7bb43f7ba8103b95071ce13": {
      "model_module": "@jupyter-widgets/base",
      "model_module_version": "1.0.0",
      "model_name": "LayoutModel",
      "state": {
       "justify_content": "center"
      }
     },
     "59bdb4874f844d7abc76798bdd673772": {
      "model_module": "@jupyter-widgets/base",
      "model_module_version": "1.0.0",
      "model_name": "LayoutModel",
      "state": {}
     },
     "59fbc8868f184fd08fa114281ed543e7": {
      "model_module": "@jupyter-widgets/controls",
      "model_module_version": "1.2.0",
      "model_name": "VBoxModel",
      "state": {
       "children": [
        "IPY_MODEL_79463a02ea3247ea97547fb915dad00d",
        "IPY_MODEL_a52a8b1af1d44ec1830ab236891e092b",
        "IPY_MODEL_dbb70c56ab39406b9e7bec12fa7b9a48"
       ],
       "layout": "IPY_MODEL_bca78f8d16e843fe9aa697472c368ffb"
      }
     },
     "5b65da35530e433a8798a951e22937ab": {
      "model_module": "@jupyter-widgets/controls",
      "model_module_version": "1.2.0",
      "model_name": "HTMLModel",
      "state": {
       "layout": "IPY_MODEL_738801365955432fb45269158b7c59a9",
       "style": "IPY_MODEL_11c468eaf0df4af8937066c0947d39e7",
       "value": "<h4 style=\"font-size:14px;\">Welche Funktion im Satz nimmt das Nomen ein, wenn es Kopf der Gerund-Nomen-Phrase ist?</h4>"
      }
     },
     "5b7f85d757484304a520af850f070f12": {
      "model_module": "@jupyter-widgets/controls",
      "model_module_version": "1.2.0",
      "model_name": "HBoxModel",
      "state": {
       "children": [
        "IPY_MODEL_d7aba326d90546e68d15631988687fc4",
        "IPY_MODEL_220f895bdb574443b1303e8d0731c0cb"
       ],
       "layout": "IPY_MODEL_90a9019c74bf4cc5969e1bcc384ac92f"
      }
     },
     "5b8c8e06350c4615a197b730263432be": {
      "model_module": "@jupyter-widgets/base",
      "model_module_version": "1.0.0",
      "model_name": "LayoutModel",
      "state": {}
     },
     "5bb62e5a5d8e42a38896354d04cefd17": {
      "model_module": "@jupyter-widgets/controls",
      "model_module_version": "1.2.0",
      "model_name": "VBoxModel",
      "state": {
       "children": [
        "IPY_MODEL_482f7290142b4e58a26e17507a801156",
        "IPY_MODEL_98e9d1ba128c479f93da87408dd0e650",
        "IPY_MODEL_2fbcaad323a846a38e5204bb76392273"
       ],
       "layout": "IPY_MODEL_ee602c2eddb14a7fb5379d3c8869229e"
      }
     },
     "5c1eda1a103d4b148412164ffc4cb11f": {
      "model_module": "@jupyter-widgets/controls",
      "model_module_version": "1.2.0",
      "model_name": "DescriptionStyleModel",
      "state": {
       "description_width": ""
      }
     },
     "5cb8061a362848448ab432d916cedc50": {
      "model_module": "@jupyter-widgets/controls",
      "model_module_version": "1.2.0",
      "model_name": "ButtonModel",
      "state": {
       "description": "morphologisch ambige Formen",
       "layout": "IPY_MODEL_b0ae570c1353433085fa7fa9671f093c",
       "style": "IPY_MODEL_0c2dc920822a47e8a8afa36fdb938a7d"
      }
     },
     "5eb6616c2bd2476593ca0aa7a57e3a4c": {
      "model_module": "@jupyter-widgets/controls",
      "model_module_version": "1.2.0",
      "model_name": "ButtonModel",
      "state": {
       "description": "Regelsystem",
       "layout": "IPY_MODEL_bf7903c6ab0647e49e71ab1be440b674",
       "style": "IPY_MODEL_9f05daa21464474d8bc691b9da4c83e9"
      }
     },
     "5ebb1a4848584fea8134ae67271c6b0b": {
      "model_module": "@jupyter-widgets/controls",
      "model_module_version": "1.2.0",
      "model_name": "HBoxModel",
      "state": {
       "children": [
        "IPY_MODEL_7432a80ae1b840ff8617684c9e4f72c9",
        "IPY_MODEL_c4fc2d52068d41bbb283dd3619cc4159"
       ],
       "layout": "IPY_MODEL_a2539887792847b99e88df9e294de32d"
      }
     },
     "5f3499bad0da47148827a87ef5f76f8e": {
      "model_module": "@jupyter-widgets/base",
      "model_module_version": "1.0.0",
      "model_name": "LayoutModel",
      "state": {
       "width": "250px"
      }
     },
     "60163cb3793946869169fa60244478dc": {
      "model_module": "@jupyter-widgets/base",
      "model_module_version": "1.0.0",
      "model_name": "LayoutModel",
      "state": {
       "width": "600px"
      }
     },
     "623a86f46b854de88f2ab199d59c9d2d": {
      "model_module": "@jupyter-widgets/controls",
      "model_module_version": "1.2.0",
      "model_name": "CheckboxModel",
      "state": {
       "description": "Nomen ist Dependent in einem nichtfiniten Teilsatz",
       "disabled": false,
       "layout": "IPY_MODEL_0e62fa8b9710492187d932af39559988",
       "style": "IPY_MODEL_514c5a93fd594955b9fcd80a3387ef59",
       "value": true
      }
     },
     "62e616d60adb40b79c53638c0862ca5d": {
      "model_module": "@jupyter-widgets/base",
      "model_module_version": "1.0.0",
      "model_name": "LayoutModel",
      "state": {}
     },
     "633014e823904dd196e5460082368a0f": {
      "model_module": "@jupyter-widgets/base",
      "model_module_version": "1.0.0",
      "model_name": "LayoutModel",
      "state": {
       "width": "600px"
      }
     },
     "6330b25779a849dcb8e658aa43e11b4e": {
      "model_module": "@jupyter-widgets/controls",
      "model_module_version": "1.2.0",
      "model_name": "HBoxModel",
      "state": {
       "children": [
        "IPY_MODEL_d12a3356e3d74ba28743566b7db30560",
        "IPY_MODEL_2e1c8feac9734c339a698112aaa2296d"
       ],
       "layout": "IPY_MODEL_62e616d60adb40b79c53638c0862ca5d"
      }
     },
     "644cbc685e2f401cbda391128d359cf9": {
      "model_module": "@jupyter-widgets/controls",
      "model_module_version": "1.2.0",
      "model_name": "ButtonStyleModel",
      "state": {}
     },
     "644e6536882a4c949bf7bb1ae6444e55": {
      "model_module": "@jupyter-widgets/controls",
      "model_module_version": "1.2.0",
      "model_name": "HTMLModel",
      "state": {
       "layout": "IPY_MODEL_924e593080fc41fa96d0f73403f0fa0f",
       "style": "IPY_MODEL_20743c0b482e4263b736f0e21856bed6",
       "value": "<i>Markieren Sie <ins>alle</ins> passenden Antworten: </i>"
      }
     },
     "65061439dad24df0aeac3e9e709dd1cb": {
      "model_module": "@jupyter-widgets/controls",
      "model_module_version": "1.2.0",
      "model_name": "ButtonModel",
      "state": {
       "description": "mehr als ein",
       "layout": "IPY_MODEL_9c6ad76881244e269e0b007cfaba91f9",
       "style": "IPY_MODEL_494771d86dd44602acd5c6d6eb5de316"
      }
     },
     "650de52fe60d47338bab768e662a12e1": {
      "model_module": "@jupyter-widgets/controls",
      "model_module_version": "1.2.0",
      "model_name": "ButtonModel",
      "state": {
       "description": "Regelbuch",
       "layout": "IPY_MODEL_8bf59c29fd7342c98a6ccca70830148b",
       "style": "IPY_MODEL_e40f2efe22f04a208c137f45fd366d45"
      }
     },
     "65104fa9ed9c4bab9228857297b2b308": {
      "model_module": "@jupyter-widgets/controls",
      "model_module_version": "1.2.0",
      "model_name": "HBoxModel",
      "state": {
       "children": [
        "IPY_MODEL_6a416817aa9a4b74b57e042c7a3ef45b",
        "IPY_MODEL_36c408519a954f8a9185cd920f7e7aea"
       ],
       "layout": "IPY_MODEL_4f833bc77ae6408488d321f4fc856737"
      }
     },
     "654c5e6b10224a83b4124fc23be051fa": {
      "model_module": "@jupyter-widgets/controls",
      "model_module_version": "1.2.0",
      "model_name": "DescriptionStyleModel",
      "state": {
       "description_width": ""
      }
     },
     "65c78199293a413996f07b63ef479e92": {
      "model_module": "@jupyter-widgets/controls",
      "model_module_version": "1.2.0",
      "model_name": "HTMLModel",
      "state": {
       "layout": "IPY_MODEL_ea59e22e734a4014b6560ba3a6364a37",
       "style": "IPY_MODEL_2ce42f4da52f4e29b1ea318c642b41cd",
       "value": "<i>Wählen Sie die <ins>eine</ins> korrekte Antwort aus: </i>"
      }
     },
     "6608d317d58241c4b1227a07df6a9043": {
      "model_module": "@jupyter-widgets/base",
      "model_module_version": "1.0.0",
      "model_name": "LayoutModel",
      "state": {}
     },
     "6609cb156f744344891505859fb96453": {
      "model_module": "@jupyter-widgets/base",
      "model_module_version": "1.0.0",
      "model_name": "LayoutModel",
      "state": {}
     },
     "6673699f36b549128b2e2ff4ce2b6c07": {
      "model_module": "@jupyter-widgets/controls",
      "model_module_version": "1.2.0",
      "model_name": "DescriptionStyleModel",
      "state": {
       "description_width": ""
      }
     },
     "66841ae74c134e72a1e256a85857ad87": {
      "model_module": "@jupyter-widgets/controls",
      "model_module_version": "1.2.0",
      "model_name": "DescriptionStyleModel",
      "state": {
       "description_width": "initial"
      }
     },
     "66daf041648a47e49c6a134dd0b62c10": {
      "model_module": "@jupyter-widgets/controls",
      "model_module_version": "1.2.0",
      "model_name": "CheckboxModel",
      "state": {
       "description": "Wohlgeformtheit",
       "disabled": false,
       "layout": "IPY_MODEL_6903d2773e634bf9bc5414eb22228ea4",
       "style": "IPY_MODEL_69b558d9c8a943769e7cfecd9f7ff7c7",
       "value": true
      }
     },
     "66f7725d8b9d4431a647d0e84231c556": {
      "model_module": "@jupyter-widgets/controls",
      "model_module_version": "1.2.0",
      "model_name": "DropdownModel",
      "state": {
       "_options_labels": [
        "Morphem",
        "Symbol",
        "Wort",
        " "
       ],
       "index": 2,
       "layout": "IPY_MODEL_8eed659a2d374c9686e53b280d4089fb",
       "style": "IPY_MODEL_d9ca7c5b7ca047698187dd70ea3a3b2e"
      }
     },
     "672ce81dccf34a36b0f78ff5d919d848": {
      "model_module": "@jupyter-widgets/controls",
      "model_module_version": "1.2.0",
      "model_name": "VBoxModel",
      "state": {
       "children": [
        "IPY_MODEL_d5fc0b7309c2494aaf8ffd59a861daca",
        "IPY_MODEL_65c78199293a413996f07b63ef479e92",
        "IPY_MODEL_ab062e76da7949268b3ddf813f7aa970",
        "IPY_MODEL_6330b25779a849dcb8e658aa43e11b4e",
        "IPY_MODEL_3e3a3414c6374d38ae2dc9be227ae15b"
       ],
       "layout": "IPY_MODEL_12c34e7c224f47aa967c683c1102a1a0"
      }
     },
     "67608cd08c2441f8865f280baa16a81d": {
      "model_module": "@jupyter-widgets/controls",
      "model_module_version": "1.2.0",
      "model_name": "ButtonStyleModel",
      "state": {}
     },
     "679e1ffdd6c84f01a4b78db0f56c1242": {
      "model_module": "@jupyter-widgets/controls",
      "model_module_version": "1.2.0",
      "model_name": "DescriptionStyleModel",
      "state": {
       "description_width": ""
      }
     },
     "679ea22b14f64c998b05a052ab45d414": {
      "model_module": "@jupyter-widgets/base",
      "model_module_version": "1.0.0",
      "model_name": "LayoutModel",
      "state": {
       "justify_content": "center"
      }
     },
     "67c021a4296a4c2ab92cbbaf7b7c570c": {
      "model_module": "@jupyter-widgets/controls",
      "model_module_version": "1.2.0",
      "model_name": "ButtonModel",
      "state": {
       "description": "Wortstruktur",
       "layout": "IPY_MODEL_a48bc3b0199d40fb85c16ad19109939f",
       "style": "IPY_MODEL_67608cd08c2441f8865f280baa16a81d"
      }
     },
     "68965e4430ce4e2e9bd20b00a6b2af42": {
      "model_module": "@jupyter-widgets/controls",
      "model_module_version": "1.2.0",
      "model_name": "HTMLModel",
      "state": {
       "layout": "IPY_MODEL_98c08e7e5c6543cba37e2622d9dca06e",
       "style": "IPY_MODEL_b086552ceaa840f0824fe3f35f1bc36f",
       "value": "<h4 style=\"font-size:14px;\">Welche Gesetzmäßigkeiten umfasst die Grammatik als Regelsystem?</h4>"
      }
     },
     "6903d2773e634bf9bc5414eb22228ea4": {
      "model_module": "@jupyter-widgets/base",
      "model_module_version": "1.0.0",
      "model_name": "LayoutModel",
      "state": {
       "width": "600px"
      }
     },
     "69a6e599214748319c25d6952af980da": {
      "model_module": "@jupyter-widgets/base",
      "model_module_version": "1.0.0",
      "model_name": "LayoutModel",
      "state": {
       "width": "250px"
      }
     },
     "69b558d9c8a943769e7cfecd9f7ff7c7": {
      "model_module": "@jupyter-widgets/controls",
      "model_module_version": "1.2.0",
      "model_name": "DescriptionStyleModel",
      "state": {
       "description_width": "initial"
      }
     },
     "69bbcfcb2a454c6eaf0c7a09863ccb15": {
      "model_module": "@jupyter-widgets/controls",
      "model_module_version": "1.2.0",
      "model_name": "HTMLModel",
      "state": {
       "layout": "IPY_MODEL_937abb50709d4e92b209a240a4d352ac",
       "style": "IPY_MODEL_1cfa88b4c41743a682f693af4ca2cae0",
       "value": "<h4 style=\"font-size:14px;\">Regularitäten bezieht.</h4>"
      }
     },
     "69cb18ed215c431d95a3100536981437": {
      "model_module": "@jupyter-widgets/controls",
      "model_module_version": "1.2.0",
      "model_name": "HTMLModel",
      "state": {
       "layout": "IPY_MODEL_f8e6839d5b7141939a6dc70a79dac414",
       "style": "IPY_MODEL_9663bd847dbe4fb09cfb2cd192ead5a9",
       "value": "<i>Vervollständigen Sie den Lückentext: </i>"
      }
     },
     "69e694b197e74df99989efc595968536": {
      "model_module": "@jupyter-widgets/controls",
      "model_module_version": "1.2.0",
      "model_name": "ButtonStyleModel",
      "state": {}
     },
     "6a416817aa9a4b74b57e042c7a3ef45b": {
      "model_module": "@jupyter-widgets/controls",
      "model_module_version": "1.2.0",
      "model_name": "ButtonModel",
      "state": {
       "description": "Parsebäume",
       "layout": "IPY_MODEL_6a9f389c6f3e454691a6d9972a316006",
       "style": "IPY_MODEL_c467c28cb92445b59e895a3d5af4aad6"
      }
     },
     "6a9f389c6f3e454691a6d9972a316006": {
      "model_module": "@jupyter-widgets/base",
      "model_module_version": "1.0.0",
      "model_name": "LayoutModel",
      "state": {
       "width": "250px"
      }
     },
     "6b193a4285bc49078bb599060367d452": {
      "model_module": "@jupyter-widgets/controls",
      "model_module_version": "1.2.0",
      "model_name": "HTMLModel",
      "state": {
       "layout": "IPY_MODEL_aa167ab98e5748ed94a2d01d050c7fee",
       "style": "IPY_MODEL_97a06199fb674757a52a799febd17707",
       "value": "<h4 style=\"font-size:14px;\">Hinsichtlich welcher syntaktischen Grundprinzipien werden natürliche Sprachen mit formalen Methoden analysiert?</h4>"
      }
     },
     "6c2f57044fee45a1b268d36d08c5c94e": {
      "model_module": "@jupyter-widgets/base",
      "model_module_version": "1.0.0",
      "model_name": "LayoutModel",
      "state": {
       "width": "600px"
      }
     },
     "6cf774de64a14a0a969c36ab902e9bbb": {
      "model_module": "@jupyter-widgets/controls",
      "model_module_version": "1.2.0",
      "model_name": "ButtonStyleModel",
      "state": {}
     },
     "6d774404b0284b928f07f2d391e617bd": {
      "model_module": "@jupyter-widgets/controls",
      "model_module_version": "1.2.0",
      "model_name": "ButtonStyleModel",
      "state": {}
     },
     "6df969bad2884c0b9754d7e8662a9f73": {
      "model_module": "@jupyter-widgets/base",
      "model_module_version": "1.0.0",
      "model_name": "LayoutModel",
      "state": {
       "width": "250px"
      }
     },
     "6e3552a5eedd4f37abc90708d8d5787f": {
      "model_module": "@jupyter-widgets/controls",
      "model_module_version": "1.2.0",
      "model_name": "CheckboxModel",
      "state": {
       "description": "Adverbialphrase",
       "disabled": false,
       "layout": "IPY_MODEL_c769cbdce24f4c3f89e67505ae414a12",
       "style": "IPY_MODEL_30f3b185c9634406be67773b9a066a47",
       "value": false
      }
     },
     "6e59797471af444091858523c53118f3": {
      "model_module": "@jupyter-widgets/controls",
      "model_module_version": "1.2.0",
      "model_name": "ButtonStyleModel",
      "state": {}
     },
     "6e5ea4832f7a4727987b642e0f92b433": {
      "model_module": "@jupyter-widgets/controls",
      "model_module_version": "1.2.0",
      "model_name": "DescriptionStyleModel",
      "state": {
       "description_width": "initial"
      }
     },
     "6eff48b7b0f741b58b14b77ed7a40738": {
      "model_module": "@jupyter-widgets/controls",
      "model_module_version": "1.2.0",
      "model_name": "CheckboxModel",
      "state": {
       "description": "Eine automatische Strukturanalyse wird möglich.",
       "disabled": false,
       "layout": "IPY_MODEL_c4214c1d999a42419e513e3958f4587b",
       "style": "IPY_MODEL_0e4dcd82fc0f45699cad33337ff56dd8",
       "value": true
      }
     },
     "6f30025f65a3416bac2323c5d8650ebe": {
      "model_module": "@jupyter-widgets/base",
      "model_module_version": "1.0.0",
      "model_name": "LayoutModel",
      "state": {}
     },
     "6f4367bd98f14afda5ce2b0f75865e8b": {
      "model_module": "@jupyter-widgets/controls",
      "model_module_version": "1.2.0",
      "model_name": "HBoxModel",
      "state": {
       "children": [
        "IPY_MODEL_22fdddf024784bb48131a803518762c2",
        "IPY_MODEL_cc9337acfa424c458c2108e0e26a21e4"
       ],
       "layout": "IPY_MODEL_a478d059bdea4a1fb6bb219b1d71ecc2"
      }
     },
     "6f4e52fff1594ea2a7397ee0d4378ecb": {
      "model_module": "@jupyter-widgets/base",
      "model_module_version": "1.0.0",
      "model_name": "LayoutModel",
      "state": {
       "width": "500px"
      }
     },
     "6f560c559ca1469b8496828d1f4d4d10": {
      "model_module": "@jupyter-widgets/base",
      "model_module_version": "1.0.0",
      "model_name": "LayoutModel",
      "state": {
       "justify_content": "center"
      }
     },
     "70130908fd4f489ead902fe1d21b0cbf": {
      "model_module": "@jupyter-widgets/controls",
      "model_module_version": "1.2.0",
      "model_name": "ButtonModel",
      "state": {
       "description": "Abhängigkeitsstruktur",
       "layout": "IPY_MODEL_08da925220ee4691b5936bcff9cac9ea",
       "style": "IPY_MODEL_e604ff9519c5424f8c08609b9aaf8e8e"
      }
     },
     "718285047ed545bdbf2d084ba579b2c8": {
      "model_module": "@jupyter-widgets/base",
      "model_module_version": "1.0.0",
      "model_name": "LayoutModel",
      "state": {
       "justify_content": "center"
      }
     },
     "71b837bbea4d430390beaa8887d4b553": {
      "model_module": "@jupyter-widgets/controls",
      "model_module_version": "1.2.0",
      "model_name": "DropdownModel",
      "state": {
       "_options_labels": [
        "Keine der Alternativen",
        "der Ort des Geschehens wird festgelegt",
        "die PP wird dem Substantiv beigefügt",
        "die im Verb ausgedrückte Tätigkeit wird modifiziert"
       ],
       "description": "Antwort:",
       "index": 2,
       "layout": "IPY_MODEL_6f4e52fff1594ea2a7397ee0d4378ecb",
       "style": "IPY_MODEL_f2e20ca1283740e291b1e243683df07a"
      }
     },
     "72f86d22fb1d414abfe4a34c048109db": {
      "model_module": "@jupyter-widgets/controls",
      "model_module_version": "1.2.0",
      "model_name": "HTMLModel",
      "state": {
       "layout": "IPY_MODEL_1716e23fcddb4f7d956e0dc690d4f7a4",
       "style": "IPY_MODEL_c6871f4b3b7641aab57184bc6ba077a2",
       "value": "<h4 style=\"font-size:14px;\">Die ________ eines Satzes bzgl. der formalen Grammatik wird erkannt.</h4>"
      }
     },
     "7308bac29b1448129a4ee9bb15ff6180": {
      "model_module": "@jupyter-widgets/controls",
      "model_module_version": "1.2.0",
      "model_name": "HTMLModel",
      "state": {
       "layout": "IPY_MODEL_f1fda0d6b3b64890a18dbc24860d3226",
       "style": "IPY_MODEL_0deb10e13e4f434586f6a1247e93fd4f",
       "value": "<h4 style=\"font-size:14px;\">Was ist der Ursprung der Ambiguität?</h4>"
      }
     },
     "73249804415a4c3cb2bec5185d024dc0": {
      "model_module": "@jupyter-widgets/base",
      "model_module_version": "1.0.0",
      "model_name": "LayoutModel",
      "state": {
       "justify_content": "center"
      }
     },
     "738801365955432fb45269158b7c59a9": {
      "model_module": "@jupyter-widgets/base",
      "model_module_version": "1.0.0",
      "model_name": "LayoutModel",
      "state": {
       "justify_content": "center"
      }
     },
     "7395d78299704501955172eb5f2ecd19": {
      "model_module": "@jupyter-widgets/base",
      "model_module_version": "1.0.0",
      "model_name": "LayoutModel",
      "state": {
       "width": "600px"
      }
     },
     "7421df1e67274ffb98393d4cb545b4c5": {
      "model_module": "@jupyter-widgets/base",
      "model_module_version": "1.0.0",
      "model_name": "LayoutModel",
      "state": {
       "width": "150px"
      }
     },
     "7432a80ae1b840ff8617684c9e4f72c9": {
      "model_module": "@jupyter-widgets/controls",
      "model_module_version": "1.2.0",
      "model_name": "ButtonModel",
      "state": {
       "description": "Objekt",
       "layout": "IPY_MODEL_3dac4248342949cba888f2cd2e9111cb",
       "style": "IPY_MODEL_dabdb31a6d794fffb3d31e2f12641b33"
      }
     },
     "743eef51d90840e6ac79908cd57ce2ed": {
      "model_module": "@jupyter-widgets/base",
      "model_module_version": "1.0.0",
      "model_name": "LayoutModel",
      "state": {
       "width": "250px"
      }
     },
     "747a48b4b2e847bfaf6d383fa39460f6": {
      "model_module": "@jupyter-widgets/base",
      "model_module_version": "1.0.0",
      "model_name": "LayoutModel",
      "state": {}
     },
     "7626cf62d5f341cda146f9fc35d6667d": {
      "model_module": "@jupyter-widgets/controls",
      "model_module_version": "1.2.0",
      "model_name": "ButtonStyleModel",
      "state": {
       "button_color": "lightgreen"
      }
     },
     "76d96138c15840c690277bfec62bb1d2": {
      "model_module": "@jupyter-widgets/controls",
      "model_module_version": "1.2.0",
      "model_name": "ButtonStyleModel",
      "state": {}
     },
     "76e8ebfe56024affb5196ed057e55129": {
      "model_module": "@jupyter-widgets/controls",
      "model_module_version": "1.2.0",
      "model_name": "ButtonStyleModel",
      "state": {
       "button_color": "lightgreen"
      }
     },
     "77297ee1f19c4f009a4c308c279f63dd": {
      "model_module": "@jupyter-widgets/controls",
      "model_module_version": "1.2.0",
      "model_name": "BoxModel",
      "state": {
       "children": [
        "IPY_MODEL_812baab96382493aaffe663ece831df3",
        "IPY_MODEL_ea6bb18b708b4032a351dcf6acd0e357",
        "IPY_MODEL_2c08d7e7e7a94e619c02c60f242be796",
        "IPY_MODEL_3d1435b65b114e0095b174183c5276fb",
        "IPY_MODEL_69bbcfcb2a454c6eaf0c7a09863ccb15"
       ],
       "layout": "IPY_MODEL_9677dca3c5f146bf9c50a11b6e52dd29"
      }
     },
     "772e8fd7739d4dca92b11c90217723d2": {
      "model_module": "@jupyter-widgets/controls",
      "model_module_version": "1.2.0",
      "model_name": "HBoxModel",
      "state": {
       "children": [
        "IPY_MODEL_134c0e93c02d48e58c9910924451e47d",
        "IPY_MODEL_e7d99b898cc7461da99b5e2b3f2a83dd"
       ],
       "layout": "IPY_MODEL_fbdcbe89c0984b618020137da32d2133"
      }
     },
     "77c69aa1718f464cb0d2a92063cb255a": {
      "model_module": "@jupyter-widgets/controls",
      "model_module_version": "1.2.0",
      "model_name": "CheckboxModel",
      "state": {
       "description": "Konstituenz",
       "disabled": false,
       "layout": "IPY_MODEL_920aba0afb7447cfabf0cdc8d9c9b535",
       "style": "IPY_MODEL_e3da27fbb99f4cae855f2b65275d9cee",
       "value": true
      }
     },
     "78abfcd06ca64eb895a3240d447131b6": {
      "model_module": "@jupyter-widgets/controls",
      "model_module_version": "1.2.0",
      "model_name": "CheckboxModel",
      "state": {
       "description": "Attributphrase",
       "disabled": false,
       "layout": "IPY_MODEL_901d4d58e29a4a30aac9baf4fff25ee1",
       "style": "IPY_MODEL_911979533d9c41ac822b08303dc0b31b",
       "value": false
      }
     },
     "793717ed5dba4257b7c5dbc842df942b": {
      "model_module": "@jupyter-widgets/controls",
      "model_module_version": "1.2.0",
      "model_name": "ButtonStyleModel",
      "state": {}
     },
     "79463a02ea3247ea97547fb915dad00d": {
      "model_module": "@jupyter-widgets/controls",
      "model_module_version": "1.2.0",
      "model_name": "HTMLModel",
      "state": {
       "layout": "IPY_MODEL_58ac1755d7bb43f7ba8103b95071ce13",
       "style": "IPY_MODEL_0114081da1f84c92aef5407fdc851b36",
       "value": "<h4 style=\"font-size:14px;\">Welche Funktion nimmt das Gerund ein, wenn das Nomen Kopf der Gerund-Nomen-Phrase ist?</h4>"
      }
     },
     "796db94db7e744f0a83563f70237ffba": {
      "model_module": "@jupyter-widgets/controls",
      "model_module_version": "1.2.0",
      "model_name": "VBoxModel",
      "state": {
       "children": [
        "IPY_MODEL_a622165f5eea43159a201d4c7d6e2737",
        "IPY_MODEL_40dcc46c53b44a32a21e70321118ccb0",
        "IPY_MODEL_e561a559e554477b840e282306bd2c8f",
        "IPY_MODEL_cda6cf460f4e49448f314d9f007608d3"
       ],
       "layout": "IPY_MODEL_d118aa800ba24d7ab2c110c4e91be941"
      }
     },
     "79c700ca5dfd443f8d13a8e6737fedcb": {
      "model_module": "@jupyter-widgets/controls",
      "model_module_version": "1.2.0",
      "model_name": "HTMLModel",
      "state": {
       "layout": "IPY_MODEL_2fa2756c23b94ce5b89f19a2ac230245",
       "style": "IPY_MODEL_654c5e6b10224a83b4124fc23be051fa",
       "value": "<h4 style=\"font-size:14px;\">Welche Typen von Syntaxbäumen (auch: Parsebäume, Ableitungsbäume) wurden gezeigt?</h4>"
      }
     },
     "79ce797531a34ae28c430242e6bbcce5": {
      "model_module": "@jupyter-widgets/controls",
      "model_module_version": "1.2.0",
      "model_name": "VBoxModel",
      "state": {
       "children": [
        "IPY_MODEL_3ef0ac4fb88a48e5b5d88e6a92d541c4",
        "IPY_MODEL_5424b88cdcbc40f9bb00b7d1cffaee54",
        "IPY_MODEL_65104fa9ed9c4bab9228857297b2b308",
        "IPY_MODEL_95c4bfce808644f69f6e70b856bf8ce3"
       ],
       "layout": "IPY_MODEL_8d2204372ef74c0b8768f1282fd61ead"
      }
     },
     "79d05b08866544d3b6dcbd30c2d43301": {
      "model_module": "@jupyter-widgets/controls",
      "model_module_version": "1.2.0",
      "model_name": "DescriptionStyleModel",
      "state": {
       "description_width": ""
      }
     },
     "79dd1e425882499283b63e98999e30d3": {
      "model_module": "@jupyter-widgets/base",
      "model_module_version": "1.0.0",
      "model_name": "LayoutModel",
      "state": {
       "justify_content": "center"
      }
     },
     "7a7e063134fc4ddba265a699b8f337da": {
      "model_module": "@jupyter-widgets/controls",
      "model_module_version": "1.2.0",
      "model_name": "HTMLModel",
      "state": {
       "layout": "IPY_MODEL_3dca6edfcecf460eb107d9a48b7f3156",
       "style": "IPY_MODEL_79d05b08866544d3b6dcbd30c2d43301",
       "value": "<h4 style=\"font-size:14px;\">Warum gibt die parse-Funktion des Skripts vermutlich eine Sequenz zurück?</h4>"
      }
     },
     "7b7c897820d54a9db34447b3c8bf33ef": {
      "model_module": "@jupyter-widgets/controls",
      "model_module_version": "1.2.0",
      "model_name": "ButtonStyleModel",
      "state": {}
     },
     "7be205dc5012450b91d7e4dc42e0240d": {
      "model_module": "@jupyter-widgets/controls",
      "model_module_version": "1.2.0",
      "model_name": "VBoxModel",
      "state": {
       "children": [
        "IPY_MODEL_4b42ba4907584177a2bf4d2c154692a9",
        "IPY_MODEL_dc8b23ff442d42998d5c6b4b921fd944",
        "IPY_MODEL_38352a8e9abc4ce3934dd7501da7a2e6",
        "IPY_MODEL_c2fee4111ef04033b0963aa0b8035dcb",
        "IPY_MODEL_82b8149edb874222ad3a31802ef58a73"
       ],
       "layout": "IPY_MODEL_22eb484bb8f946709ac624616b018583"
      }
     },
     "7c7a0abd9f354260937f1de743836211": {
      "model_module": "@jupyter-widgets/controls",
      "model_module_version": "1.2.0",
      "model_name": "CheckboxModel",
      "state": {
       "description": "Morphemebene, Phrasenebene, Satzebene",
       "disabled": false,
       "layout": "IPY_MODEL_e552d15ed21541ca9cab7cd7ef9c6196",
       "style": "IPY_MODEL_c6fc8382cc644bac9819bcfb145bdc4d",
       "value": false
      }
     },
     "7cadf1ff923e4f0994a69235565203dd": {
      "model_module": "@jupyter-widgets/controls",
      "model_module_version": "1.2.0",
      "model_name": "HBoxModel",
      "state": {
       "children": [
        "IPY_MODEL_10866ed749be4d1b88e3efcef7ee2946",
        "IPY_MODEL_c08b3fd7834f4310bb2e73c8e46b0b49"
       ],
       "layout": "IPY_MODEL_37e2aa89a22d4f708aa718a53651d632"
      }
     },
     "7cb91d246215432f8c4e3973d8f45f5c": {
      "model_module": "@jupyter-widgets/controls",
      "model_module_version": "1.2.0",
      "model_name": "HTMLModel",
      "state": {
       "layout": "IPY_MODEL_314965d0021f4049a325b9a402fae4b6",
       "style": "IPY_MODEL_152c3428c2bc44238ed3856bacd3fb6c",
       "value": "<i>Wählen Sie die <ins>eine</ins> korrekte Antwort aus: </i>"
      }
     },
     "7d8404ac38f34627b1667e2231e0bb12": {
      "model_module": "@jupyter-widgets/base",
      "model_module_version": "1.0.0",
      "model_name": "LayoutModel",
      "state": {}
     },
     "7e22ffea1a5d4ab0a3480468a4d747f5": {
      "model_module": "@jupyter-widgets/controls",
      "model_module_version": "1.2.0",
      "model_name": "HTMLModel",
      "state": {
       "layout": "IPY_MODEL_36ee5256567046e5bae68f39c4db0d49",
       "style": "IPY_MODEL_d9f8bdb61dc84ef0afc9a27beec3aeb7",
       "value": "<i>Wählen Sie die <ins>eine</ins> korrekte Antwort aus: </i>"
      }
     },
     "7e32eefa9ad745dab59b4eb8e1e391de": {
      "model_module": "@jupyter-widgets/controls",
      "model_module_version": "1.2.0",
      "model_name": "DescriptionStyleModel",
      "state": {
       "description_width": ""
      }
     },
     "7e978ed5b0724b1485823285a18d082d": {
      "model_module": "@jupyter-widgets/controls",
      "model_module_version": "1.2.0",
      "model_name": "VBoxModel",
      "state": {
       "children": [
        "IPY_MODEL_16e021ff14e74343bf42159468fd090f",
        "IPY_MODEL_55f8c129f5e34b00b1d55e0acc28f340",
        "IPY_MODEL_01b304ea8bfb488a8409b28e44f5ac4c",
        "IPY_MODEL_09b2cfd932004759ace8a3bbf1b9206b"
       ],
       "layout": "IPY_MODEL_ea24245e133d4a48a307d4c3a90d06f2"
      }
     },
     "7f0d55d82c2d44c5a872d693b4efcaf7": {
      "model_module": "@jupyter-widgets/controls",
      "model_module_version": "1.2.0",
      "model_name": "VBoxModel",
      "state": {
       "children": [
        "IPY_MODEL_e4ad01c8475e4a5896540acfb6d65572",
        "IPY_MODEL_c68e8f26eab549dbb88d26c3941b3198",
        "IPY_MODEL_466545d104b04cf9ac5ccc0c6359e7ff",
        "IPY_MODEL_4043bb0645414055bac5c65265eb3ad1"
       ],
       "layout": "IPY_MODEL_b5f23093a4734b3ab222becda5d5e13e"
      }
     },
     "7f299910929446e5ac331761169d4567": {
      "model_module": "@jupyter-widgets/base",
      "model_module_version": "1.0.0",
      "model_name": "LayoutModel",
      "state": {}
     },
     "7fd9f6b34f034017b91e500f26b80fce": {
      "model_module": "@jupyter-widgets/controls",
      "model_module_version": "1.2.0",
      "model_name": "CheckboxModel",
      "state": {
       "description": "phonologische",
       "disabled": false,
       "layout": "IPY_MODEL_04dfb3b22e95449a9940fae0cd7f6663",
       "style": "IPY_MODEL_a4303329751943539fcab72c929aa7b3",
       "value": true
      }
     },
     "801227077d874582bf04621ceedf2544": {
      "model_module": "@jupyter-widgets/base",
      "model_module_version": "1.0.0",
      "model_name": "LayoutModel",
      "state": {
       "width": "150px"
      }
     },
     "80d9bdcf6c964fae82c07be4c2a6b141": {
      "model_module": "@jupyter-widgets/base",
      "model_module_version": "1.0.0",
      "model_name": "LayoutModel",
      "state": {
       "width": "600px"
      }
     },
     "812baab96382493aaffe663ece831df3": {
      "model_module": "@jupyter-widgets/controls",
      "model_module_version": "1.2.0",
      "model_name": "HTMLModel",
      "state": {
       "layout": "IPY_MODEL_c14e2e4fd69d40309c7581ff86f772df",
       "style": "IPY_MODEL_088bd993f1a64fea8c3fe88802c2fa13",
       "value": "<h4 style=\"font-size:14px;\">Die Syntax ist ein</h4>"
      }
     },
     "818938172f7f47739dc1580883a8efd0": {
      "model_module": "@jupyter-widgets/base",
      "model_module_version": "1.0.0",
      "model_name": "LayoutModel",
      "state": {
       "justify_content": "center"
      }
     },
     "82b8149edb874222ad3a31802ef58a73": {
      "model_module": "@jupyter-widgets/controls",
      "model_module_version": "1.2.0",
      "model_name": "HBoxModel",
      "state": {
       "children": [
        "IPY_MODEL_9b35287377e9407189b40d1c34293bfe"
       ],
       "layout": "IPY_MODEL_8b5cb4e9c9ce409ba05444181593846f"
      }
     },
     "833f172c4c1d414b950ccda44d098197": {
      "model_module": "@jupyter-widgets/controls",
      "model_module_version": "1.2.0",
      "model_name": "DescriptionStyleModel",
      "state": {
       "description_width": ""
      }
     },
     "83d8349f21974fcfb13ec8e36cc7bf31": {
      "model_module": "@jupyter-widgets/base",
      "model_module_version": "1.0.0",
      "model_name": "LayoutModel",
      "state": {}
     },
     "841c1cd4ba864d26ad9663a26910dd5b": {
      "model_module": "@jupyter-widgets/controls",
      "model_module_version": "1.2.0",
      "model_name": "HTMLModel",
      "state": {
       "layout": "IPY_MODEL_0f7b10c9c00f49d2863994c74a1e14f0",
       "style": "IPY_MODEL_bc28f3817a434cc3929454efd670a4fe",
       "value": "<h4 style=\"font-size:14px;\">Welcher Grammatikbegriff liegt Satz 2 zugrunde?</h4>"
      }
     },
     "853f1864969e4375bccf5a729948d671": {
      "model_module": "@jupyter-widgets/controls",
      "model_module_version": "1.2.0",
      "model_name": "HTMLModel",
      "state": {
       "layout": "IPY_MODEL_1be13ff06ceb40c7bff8356434c931ab",
       "style": "IPY_MODEL_5675415a60454b48ab5e51e9223dce3c",
       "value": "<h4 style=\"font-size:14px;\">Welche Funktion im Hauptsatz nimmt das Gerund ein, wenn es Kopf der Gerund-Nomen-Phrase ist?</h4>"
      }
     },
     "857ab01c76f7487baa192c063d478d8d": {
      "model_module": "@jupyter-widgets/base",
      "model_module_version": "1.0.0",
      "model_name": "LayoutModel",
      "state": {
       "width": "250px"
      }
     },
     "85a95ed6fe5a4f038bf6f2521e650b78": {
      "model_module": "@jupyter-widgets/base",
      "model_module_version": "1.0.0",
      "model_name": "LayoutModel",
      "state": {
       "justify_content": "center"
      }
     },
     "865f13d94bc34c13a79ae62cd1ae87bb": {
      "model_module": "@jupyter-widgets/controls",
      "model_module_version": "1.2.0",
      "model_name": "HBoxModel",
      "state": {
       "children": [
        "IPY_MODEL_0832517303b446d49400a10f15f97c53",
        "IPY_MODEL_af2d70b272da4d64921e4c7ffa0509a5"
       ],
       "layout": "IPY_MODEL_468d1663fad245e2912714de3d0b9557"
      }
     },
     "8671d841e37d4f28a5dd47d8e6dd82e7": {
      "model_module": "@jupyter-widgets/base",
      "model_module_version": "1.0.0",
      "model_name": "LayoutModel",
      "state": {}
     },
     "879425a4eb9a4542b003dfaf0f44b537": {
      "model_module": "@jupyter-widgets/base",
      "model_module_version": "1.0.0",
      "model_name": "LayoutModel",
      "state": {
       "width": "250px"
      }
     },
     "87f5cb6ae6f744c2b186f94e0d440e93": {
      "model_module": "@jupyter-widgets/controls",
      "model_module_version": "1.2.0",
      "model_name": "HTMLModel",
      "state": {
       "layout": "IPY_MODEL_d1ec7a9a773f47378a5b20a29aeaa879",
       "style": "IPY_MODEL_4fe5908885ac4a7b97c554522815eb36",
       "value": "<h4 style=\"font-size:14px;\">Welche Vorteile hat die Modellierung der Satzstruktur mit Hilfe einer formalen Grammatik?</h4>"
      }
     },
     "883d44e9a8ac4565b0f0b96139dc742f": {
      "model_module": "@jupyter-widgets/controls",
      "model_module_version": "1.2.0",
      "model_name": "DescriptionStyleModel",
      "state": {
       "description_width": ""
      }
     },
     "88eff74d2bb343c0b36ebb11785826c9": {
      "model_module": "@jupyter-widgets/controls",
      "model_module_version": "1.2.0",
      "model_name": "HBoxModel",
      "state": {
       "children": [
        "IPY_MODEL_4590a42d979444f8961ee35eaa1ca9b4",
        "IPY_MODEL_15b4e526fc274c7f94191c17a1ab912f"
       ],
       "layout": "IPY_MODEL_2b4c481efbe24deb9344628f52e22fa2"
      }
     },
     "8aa3823306164efb962d6d7062b0aad6": {
      "model_module": "@jupyter-widgets/base",
      "model_module_version": "1.0.0",
      "model_name": "LayoutModel",
      "state": {
       "width": "600px"
      }
     },
     "8aba5b49a25342fe8b16d313be6a70cb": {
      "model_module": "@jupyter-widgets/controls",
      "model_module_version": "1.2.0",
      "model_name": "ButtonModel",
      "state": {
       "description": "Objekt",
       "layout": "IPY_MODEL_0c5f97d695264f67a599bb734be5b3e1",
       "style": "IPY_MODEL_121808d4d9f34ce5b8f96817ad0d59bc"
      }
     },
     "8b20f5c2ca934a3ebdc22a2615e4540d": {
      "model_module": "@jupyter-widgets/base",
      "model_module_version": "1.0.0",
      "model_name": "LayoutModel",
      "state": {}
     },
     "8b3022d98b034395bdcb62c20ae4c226": {
      "model_module": "@jupyter-widgets/controls",
      "model_module_version": "1.2.0",
      "model_name": "HTMLModel",
      "state": {
       "layout": "IPY_MODEL_4cf5e7e0b7e14f47aaee99931a216283",
       "style": "IPY_MODEL_3d37a1d04f8c464d91f099cb1d06b4e3",
       "value": "<i>Wählen Sie die <ins>eine</ins> korrekte Antwort aus: </i>"
      }
     },
     "8b5cb4e9c9ce409ba05444181593846f": {
      "model_module": "@jupyter-widgets/base",
      "model_module_version": "1.0.0",
      "model_name": "LayoutModel",
      "state": {}
     },
     "8bf59c29fd7342c98a6ccca70830148b": {
      "model_module": "@jupyter-widgets/base",
      "model_module_version": "1.0.0",
      "model_name": "LayoutModel",
      "state": {
       "width": "250px"
      }
     },
     "8c644f35af3943e3a0af78584fb73a62": {
      "model_module": "@jupyter-widgets/controls",
      "model_module_version": "1.2.0",
      "model_name": "ButtonStyleModel",
      "state": {}
     },
     "8caae2048fef4e3e86219651a4424116": {
      "model_module": "@jupyter-widgets/controls",
      "model_module_version": "1.2.0",
      "model_name": "ButtonStyleModel",
      "state": {
       "button_color": "lightgreen"
      }
     },
     "8d01f9479ec84e9f9b8c99729c62bfd2": {
      "model_module": "@jupyter-widgets/controls",
      "model_module_version": "1.2.0",
      "model_name": "CheckboxModel",
      "state": {
       "description": "Gerund ist Kopf eines nichtfiniten Teilsatzes",
       "disabled": false,
       "layout": "IPY_MODEL_7395d78299704501955172eb5f2ecd19",
       "style": "IPY_MODEL_66841ae74c134e72a1e256a85857ad87",
       "value": true
      }
     },
     "8d2204372ef74c0b8768f1282fd61ead": {
      "model_module": "@jupyter-widgets/base",
      "model_module_version": "1.0.0",
      "model_name": "LayoutModel",
      "state": {}
     },
     "8d9ca9388f1247e088d175f20098ac40": {
      "model_module": "@jupyter-widgets/controls",
      "model_module_version": "1.2.0",
      "model_name": "ButtonModel",
      "state": {
       "description": "Baumdiagramm",
       "layout": "IPY_MODEL_096374ec781c4a81ab06e309c4ad6c66",
       "style": "IPY_MODEL_c2ddffb5713144b986b6e7e15edd5284"
      }
     },
     "8dbe88b941eb4cd29312cdc322d3a1a4": {
      "model_module": "@jupyter-widgets/controls",
      "model_module_version": "1.2.0",
      "model_name": "CheckboxModel",
      "state": {
       "description": "Nomen ist Kopf einer NP-Phrase",
       "disabled": false,
       "layout": "IPY_MODEL_633014e823904dd196e5460082368a0f",
       "style": "IPY_MODEL_47d9af2637514847bb8a9276c0e23559",
       "value": true
      }
     },
     "8eed659a2d374c9686e53b280d4089fb": {
      "model_module": "@jupyter-widgets/base",
      "model_module_version": "1.0.0",
      "model_name": "LayoutModel",
      "state": {
       "width": "150px"
      }
     },
     "8f4a804ad9344516a8e4aa68a37f11b7": {
      "model_module": "@jupyter-widgets/controls",
      "model_module_version": "1.2.0",
      "model_name": "CheckboxModel",
      "state": {
       "description": "Sinnhaftigkeit",
       "disabled": false,
       "layout": "IPY_MODEL_a9e8f3762d024358829e75336b981644",
       "style": "IPY_MODEL_01e310926c984dd0af6f08179192ff0a",
       "value": false
      }
     },
     "8fea05ea1f4b4c19bb97d849fd71aba1": {
      "model_module": "@jupyter-widgets/controls",
      "model_module_version": "1.2.0",
      "model_name": "HTMLModel",
      "state": {
       "layout": "IPY_MODEL_9b337911b2ce44b5bd377ca646e25acd",
       "style": "IPY_MODEL_ca97e40c75c74f2bb129d0ce20d79f21",
       "value": "<h4 style=\"font-size:14px;\">In welcher Form wird die syntaktische Struktur eines Satzes beim Aufruf von NLTK tree.draw() erstellt?</h4>"
      }
     },
     "90173747f2ab454ba2d4dc7617dd2839": {
      "model_module": "@jupyter-widgets/controls",
      "model_module_version": "1.2.0",
      "model_name": "ButtonStyleModel",
      "state": {
       "button_color": "lightgreen"
      }
     },
     "901d4d58e29a4a30aac9baf4fff25ee1": {
      "model_module": "@jupyter-widgets/base",
      "model_module_version": "1.0.0",
      "model_name": "LayoutModel",
      "state": {
       "width": "600px"
      }
     },
     "90a9019c74bf4cc5969e1bcc384ac92f": {
      "model_module": "@jupyter-widgets/base",
      "model_module_version": "1.0.0",
      "model_name": "LayoutModel",
      "state": {}
     },
     "90b385a7b80340d3b3f87d58ebea000d": {
      "model_module": "@jupyter-widgets/controls",
      "model_module_version": "1.2.0",
      "model_name": "VBoxModel",
      "state": {
       "children": [
        "IPY_MODEL_69cb18ed215c431d95a3100536981437",
        "IPY_MODEL_1c06f457506d4c66b597ece3eeac2ce3",
        "IPY_MODEL_ef9d3bb2029446d093141bceccb8f816"
       ],
       "layout": "IPY_MODEL_0d0481c337b14274a060922b734ab65c"
      }
     },
     "90feb89cf6d24186a38ad48ef6f01f8f": {
      "model_module": "@jupyter-widgets/controls",
      "model_module_version": "1.2.0",
      "model_name": "VBoxModel",
      "state": {
       "children": [
        "IPY_MODEL_8d01f9479ec84e9f9b8c99729c62bfd2",
        "IPY_MODEL_b6e17fb47b9248e784940e6735c44d5b",
        "IPY_MODEL_623a86f46b854de88f2ab199d59c9d2d",
        "IPY_MODEL_8dbe88b941eb4cd29312cdc322d3a1a4"
       ],
       "layout": "IPY_MODEL_130d332b09a84da48e8732220e470b7b"
      }
     },
     "911979533d9c41ac822b08303dc0b31b": {
      "model_module": "@jupyter-widgets/controls",
      "model_module_version": "1.2.0",
      "model_name": "DescriptionStyleModel",
      "state": {
       "description_width": "initial"
      }
     },
     "920aba0afb7447cfabf0cdc8d9c9b535": {
      "model_module": "@jupyter-widgets/base",
      "model_module_version": "1.0.0",
      "model_name": "LayoutModel",
      "state": {
       "width": "600px"
      }
     },
     "924e593080fc41fa96d0f73403f0fa0f": {
      "model_module": "@jupyter-widgets/base",
      "model_module_version": "1.0.0",
      "model_name": "LayoutModel",
      "state": {
       "justify_content": "center"
      }
     },
     "937abb50709d4e92b209a240a4d352ac": {
      "model_module": "@jupyter-widgets/base",
      "model_module_version": "1.0.0",
      "model_name": "LayoutModel",
      "state": {}
     },
     "9435a40c25474962b32a1e53520b86b6": {
      "model_module": "@jupyter-widgets/base",
      "model_module_version": "1.0.0",
      "model_name": "LayoutModel",
      "state": {
       "width": "250px"
      }
     },
     "943b00a0c57541c08dfe2b93074e9a1c": {
      "model_module": "@jupyter-widgets/base",
      "model_module_version": "1.0.0",
      "model_name": "LayoutModel",
      "state": {}
     },
     "9569107fc79c4862871be548e51fedad": {
      "model_module": "@jupyter-widgets/controls",
      "model_module_version": "1.2.0",
      "model_name": "ButtonStyleModel",
      "state": {}
     },
     "95c4bfce808644f69f6e70b856bf8ce3": {
      "model_module": "@jupyter-widgets/controls",
      "model_module_version": "1.2.0",
      "model_name": "HBoxModel",
      "state": {
       "children": [
        "IPY_MODEL_dd9f4f868aef4b868c3e64279cad5e53",
        "IPY_MODEL_074e25643aa64750a96fe32b42b93e94"
       ],
       "layout": "IPY_MODEL_59bdb4874f844d7abc76798bdd673772"
      }
     },
     "95d5416568b043cbbe9d639c208f18c3": {
      "model_module": "@jupyter-widgets/base",
      "model_module_version": "1.0.0",
      "model_name": "LayoutModel",
      "state": {
       "width": "600px"
      }
     },
     "9663bd847dbe4fb09cfb2cd192ead5a9": {
      "model_module": "@jupyter-widgets/controls",
      "model_module_version": "1.2.0",
      "model_name": "DescriptionStyleModel",
      "state": {
       "description_width": ""
      }
     },
     "9677dca3c5f146bf9c50a11b6e52dd29": {
      "model_module": "@jupyter-widgets/base",
      "model_module_version": "1.0.0",
      "model_name": "LayoutModel",
      "state": {
       "align_content": "stretch",
       "align_items": "stretch",
       "display": "inline-flex",
       "flex": "flex-grow",
       "flex_flow": "row wrap",
       "justify_content": "flex-start"
      }
     },
     "96a5df1cff45415395d4d51f221b8432": {
      "model_module": "@jupyter-widgets/base",
      "model_module_version": "1.0.0",
      "model_name": "LayoutModel",
      "state": {
       "width": "600px"
      }
     },
     "96f178d8104a4533a3c3e28abe3e4084": {
      "model_module": "@jupyter-widgets/controls",
      "model_module_version": "1.2.0",
      "model_name": "DescriptionStyleModel",
      "state": {
       "description_width": ""
      }
     },
     "97a06199fb674757a52a799febd17707": {
      "model_module": "@jupyter-widgets/controls",
      "model_module_version": "1.2.0",
      "model_name": "DescriptionStyleModel",
      "state": {
       "description_width": ""
      }
     },
     "983f4771325a4002ad4f11687706fb37": {
      "model_module": "@jupyter-widgets/controls",
      "model_module_version": "1.2.0",
      "model_name": "ButtonStyleModel",
      "state": {
       "button_color": "lightgreen"
      }
     },
     "98c08e7e5c6543cba37e2622d9dca06e": {
      "model_module": "@jupyter-widgets/base",
      "model_module_version": "1.0.0",
      "model_name": "LayoutModel",
      "state": {}
     },
     "98e9d1ba128c479f93da87408dd0e650": {
      "model_module": "@jupyter-widgets/controls",
      "model_module_version": "1.2.0",
      "model_name": "HTMLModel",
      "state": {
       "layout": "IPY_MODEL_73249804415a4c3cb2bec5185d024dc0",
       "style": "IPY_MODEL_ac160b204755441988b1fd44c1607e56",
       "value": "<i>Wählen Sie die <ins>eine</ins> korrekte Antwort aus: </i>"
      }
     },
     "99e8e070cebb4c3e812bb344d35bbaee": {
      "model_module": "@jupyter-widgets/controls",
      "model_module_version": "1.2.0",
      "model_name": "ButtonModel",
      "state": {
       "description": "Korrekt?",
       "layout": "IPY_MODEL_a679704b801b48a0bb3b184ab144747b",
       "style": "IPY_MODEL_0e29a5dee1664c769c264c54646266cb"
      }
     },
     "9a171b0ba4d745369ab338ffd98db151": {
      "model_module": "@jupyter-widgets/base",
      "model_module_version": "1.0.0",
      "model_name": "LayoutModel",
      "state": {
       "width": "600px"
      }
     },
     "9a4bfdbebc9049b7a95ef6c9d9ef2fee": {
      "model_module": "@jupyter-widgets/base",
      "model_module_version": "1.0.0",
      "model_name": "LayoutModel",
      "state": {}
     },
     "9a6f0434b4fb4055816711ed2fdf2b58": {
      "model_module": "@jupyter-widgets/controls",
      "model_module_version": "1.2.0",
      "model_name": "ButtonStyleModel",
      "state": {}
     },
     "9b337911b2ce44b5bd377ca646e25acd": {
      "model_module": "@jupyter-widgets/base",
      "model_module_version": "1.0.0",
      "model_name": "LayoutModel",
      "state": {
       "justify_content": "center"
      }
     },
     "9b35287377e9407189b40d1c34293bfe": {
      "model_module": "@jupyter-widgets/controls",
      "model_module_version": "1.2.0",
      "model_name": "ButtonModel",
      "state": {
       "description": "Keine der anderen Möglichkeiten",
       "layout": "IPY_MODEL_e5818330216e462c97b1df59d9fbc02c",
       "style": "IPY_MODEL_8c644f35af3943e3a0af78584fb73a62"
      }
     },
     "9b5588d182d8459189b4a768fd97b1b0": {
      "model_module": "@jupyter-widgets/base",
      "model_module_version": "1.0.0",
      "model_name": "LayoutModel",
      "state": {}
     },
     "9b75cac06f4d4ca3834b03bc03d42e40": {
      "model_module": "@jupyter-widgets/controls",
      "model_module_version": "1.2.0",
      "model_name": "ButtonStyleModel",
      "state": {}
     },
     "9bfe089e65104a0c9f710d06a72b0626": {
      "model_module": "@jupyter-widgets/controls",
      "model_module_version": "1.2.0",
      "model_name": "ButtonModel",
      "state": {
       "description": "Keine der anderen Möglichkeiten",
       "layout": "IPY_MODEL_1d2ed2f1679b43d99678b6872ad80e70",
       "style": "IPY_MODEL_9569107fc79c4862871be548e51fedad"
      }
     },
     "9c5cde49c3af46f882bcfd20bf08b0d3": {
      "model_module": "@jupyter-widgets/controls",
      "model_module_version": "1.2.0",
      "model_name": "DescriptionStyleModel",
      "state": {
       "description_width": ""
      }
     },
     "9c6ad76881244e269e0b007cfaba91f9": {
      "model_module": "@jupyter-widgets/base",
      "model_module_version": "1.0.0",
      "model_name": "LayoutModel",
      "state": {
       "width": "250px"
      }
     },
     "9d918a6f2fc44cb69ef3f4a1a5239da9": {
      "model_module": "@jupyter-widgets/base",
      "model_module_version": "1.0.0",
      "model_name": "LayoutModel",
      "state": {
       "justify_content": "center"
      }
     },
     "9dc4253431184f60ae1eeadb027e5515": {
      "model_module": "@jupyter-widgets/controls",
      "model_module_version": "1.2.0",
      "model_name": "ButtonStyleModel",
      "state": {}
     },
     "9e09448146d64bada6690391cb106898": {
      "model_module": "@jupyter-widgets/controls",
      "model_module_version": "1.2.0",
      "model_name": "DescriptionStyleModel",
      "state": {
       "description_width": ""
      }
     },
     "9e6e730460ab4707b76560d45d1e9e32": {
      "model_module": "@jupyter-widgets/controls",
      "model_module_version": "1.2.0",
      "model_name": "DescriptionStyleModel",
      "state": {
       "description_width": "initial"
      }
     },
     "9eebdd665bbe4b988dded8e2dea0d1df": {
      "model_module": "@jupyter-widgets/controls",
      "model_module_version": "1.2.0",
      "model_name": "DescriptionStyleModel",
      "state": {
       "description_width": ""
      }
     },
     "9f05daa21464474d8bc691b9da4c83e9": {
      "model_module": "@jupyter-widgets/controls",
      "model_module_version": "1.2.0",
      "model_name": "ButtonStyleModel",
      "state": {
       "button_color": "lightgreen"
      }
     },
     "a009619d5f7745b38d8e772450d55a37": {
      "model_module": "@jupyter-widgets/base",
      "model_module_version": "1.0.0",
      "model_name": "LayoutModel",
      "state": {
       "width": "250px"
      }
     },
     "a0303c41ce6a40b7acdc42ff47bfad0b": {
      "model_module": "@jupyter-widgets/base",
      "model_module_version": "1.0.0",
      "model_name": "LayoutModel",
      "state": {}
     },
     "a0ac9c33410749cbbad5ce8f02bf34bd": {
      "model_module": "@jupyter-widgets/base",
      "model_module_version": "1.0.0",
      "model_name": "LayoutModel",
      "state": {}
     },
     "a0cfe6dc07a6473e95f2f03f7e423652": {
      "model_module": "@jupyter-widgets/controls",
      "model_module_version": "1.2.0",
      "model_name": "CheckboxModel",
      "state": {
       "description": "Satzebene, Textebene, Bedeutungsebene",
       "disabled": false,
       "layout": "IPY_MODEL_e1d9301ba01d4f529cd6b96aaf249c07",
       "style": "IPY_MODEL_edd387d4a007432981e9cd7ef50ac386",
       "value": false
      }
     },
     "a1385450a0c84dad9d7706897e2ac404": {
      "model_module": "@jupyter-widgets/controls",
      "model_module_version": "1.2.0",
      "model_name": "ButtonModel",
      "state": {
       "description": "Subjekt",
       "layout": "IPY_MODEL_ea4bfb606de64525bab64f24de254506",
       "style": "IPY_MODEL_28fbb905f8da43c58967f5920222f062"
      }
     },
     "a1396e8b0ad0476aa1e4ed1b1760feb0": {
      "model_module": "@jupyter-widgets/controls",
      "model_module_version": "1.2.0",
      "model_name": "DescriptionStyleModel",
      "state": {
       "description_width": "initial"
      }
     },
     "a18d8b82b95a418295da4c23bf068dd4": {
      "model_module": "@jupyter-widgets/controls",
      "model_module_version": "1.2.0",
      "model_name": "DescriptionStyleModel",
      "state": {
       "description_width": ""
      }
     },
     "a1c05d300b324886b4508a89ef8301cd": {
      "model_module": "@jupyter-widgets/controls",
      "model_module_version": "1.2.0",
      "model_name": "ButtonStyleModel",
      "state": {}
     },
     "a2539887792847b99e88df9e294de32d": {
      "model_module": "@jupyter-widgets/base",
      "model_module_version": "1.0.0",
      "model_name": "LayoutModel",
      "state": {}
     },
     "a2b2192aa03a4b72ac42723096fb2a21": {
      "model_module": "@jupyter-widgets/controls",
      "model_module_version": "1.2.0",
      "model_name": "DescriptionStyleModel",
      "state": {
       "description_width": "initial"
      }
     },
     "a2ce657da6734233b17c6efbd033f187": {
      "model_module": "@jupyter-widgets/base",
      "model_module_version": "1.0.0",
      "model_name": "LayoutModel",
      "state": {}
     },
     "a3d1f3c1068e412a9cc4cc8070740d73": {
      "model_module": "@jupyter-widgets/base",
      "model_module_version": "1.0.0",
      "model_name": "LayoutModel",
      "state": {
       "justify_content": "center"
      }
     },
     "a4303329751943539fcab72c929aa7b3": {
      "model_module": "@jupyter-widgets/controls",
      "model_module_version": "1.2.0",
      "model_name": "DescriptionStyleModel",
      "state": {
       "description_width": "initial"
      }
     },
     "a478d059bdea4a1fb6bb219b1d71ecc2": {
      "model_module": "@jupyter-widgets/base",
      "model_module_version": "1.0.0",
      "model_name": "LayoutModel",
      "state": {}
     },
     "a48bc3b0199d40fb85c16ad19109939f": {
      "model_module": "@jupyter-widgets/base",
      "model_module_version": "1.0.0",
      "model_name": "LayoutModel",
      "state": {
       "width": "250px"
      }
     },
     "a48dffd3b8154a6b890dc44cce688f03": {
      "model_module": "@jupyter-widgets/base",
      "model_module_version": "1.0.0",
      "model_name": "LayoutModel",
      "state": {
       "width": "250px"
      }
     },
     "a52a8b1af1d44ec1830ab236891e092b": {
      "model_module": "@jupyter-widgets/controls",
      "model_module_version": "1.2.0",
      "model_name": "HTMLModel",
      "state": {
       "layout": "IPY_MODEL_9d918a6f2fc44cb69ef3f4a1a5239da9",
       "style": "IPY_MODEL_2a61dca0ee3a4c139c9f75b502b1dc00",
       "value": "<i>Wählen Sie die <ins>eine</ins> korrekte Antwort aus: </i>"
      }
     },
     "a567d6c1bd1e49ae974a65f839c1fcbf": {
      "model_module": "@jupyter-widgets/base",
      "model_module_version": "1.0.0",
      "model_name": "LayoutModel",
      "state": {
       "width": "250px"
      }
     },
     "a622165f5eea43159a201d4c7d6e2737": {
      "model_module": "@jupyter-widgets/controls",
      "model_module_version": "1.2.0",
      "model_name": "CheckboxModel",
      "state": {
       "description": "Dependenzgraph mit Phrasenlabels als Knoten",
       "disabled": false,
       "layout": "IPY_MODEL_5040e4652c7b46f4a785aeff2f88dca9",
       "style": "IPY_MODEL_bc238e48d49b4d4b91b81c46c397da19",
       "value": false
      }
     },
     "a679704b801b48a0bb3b184ab144747b": {
      "model_module": "@jupyter-widgets/base",
      "model_module_version": "1.0.0",
      "model_name": "LayoutModel",
      "state": {
       "width": "250px"
      }
     },
     "a67d1a9bb40e419d921bf137ba443517": {
      "model_module": "@jupyter-widgets/controls",
      "model_module_version": "1.2.0",
      "model_name": "ButtonModel",
      "state": {
       "description": "Objekt",
       "layout": "IPY_MODEL_69a6e599214748319c25d6952af980da",
       "style": "IPY_MODEL_065074b1e7ce41768b5ad277bcdd0356"
      }
     },
     "a6fd4901691a4fa1a931acf717f4e27d": {
      "model_module": "@jupyter-widgets/controls",
      "model_module_version": "1.2.0",
      "model_name": "HTMLModel",
      "state": {
       "layout": "IPY_MODEL_0297b3d6e93545f6bf1b5d3976c65e7b",
       "style": "IPY_MODEL_2d836c22b8a84436ab6cabe383faf1c7",
       "value": "<i>Wählen Sie die <ins>eine</ins> korrekte Antwort aus: </i>"
      }
     },
     "a81df7d9fcdb44cb95790c7a1c7d83fb": {
      "model_module": "@jupyter-widgets/controls",
      "model_module_version": "1.2.0",
      "model_name": "CheckboxModel",
      "state": {
       "description": "Eine unendliche Menge an Sätzen kann mit endlichen Mitteln beschrieben werden.",
       "disabled": false,
       "layout": "IPY_MODEL_96a5df1cff45415395d4d51f221b8432",
       "style": "IPY_MODEL_e9900f84e5a54ecb9d1d87d3d22ee9b2",
       "value": true
      }
     },
     "a882e2b9e5194d599f171a5ad28606a4": {
      "model_module": "@jupyter-widgets/base",
      "model_module_version": "1.0.0",
      "model_name": "LayoutModel",
      "state": {
       "width": "250px"
      }
     },
     "a8b6055b7d4e4f12a9c8485ea3930791": {
      "model_module": "@jupyter-widgets/controls",
      "model_module_version": "1.2.0",
      "model_name": "ButtonStyleModel",
      "state": {}
     },
     "a9e8f3762d024358829e75336b981644": {
      "model_module": "@jupyter-widgets/base",
      "model_module_version": "1.0.0",
      "model_name": "LayoutModel",
      "state": {
       "width": "600px"
      }
     },
     "aa167ab98e5748ed94a2d01d050c7fee": {
      "model_module": "@jupyter-widgets/base",
      "model_module_version": "1.0.0",
      "model_name": "LayoutModel",
      "state": {}
     },
     "ab062e76da7949268b3ddf813f7aa970": {
      "model_module": "@jupyter-widgets/controls",
      "model_module_version": "1.2.0",
      "model_name": "HBoxModel",
      "state": {
       "children": [
        "IPY_MODEL_ccad9de1107d4da5af18635e67c60cfa",
        "IPY_MODEL_5eb6616c2bd2476593ca0aa7a57e3a4c"
       ],
       "layout": "IPY_MODEL_5359463a59234d0690b5b697b549a892"
      }
     },
     "ab9d58b6b1ac4a1589bd01dd850eebc7": {
      "model_module": "@jupyter-widgets/base",
      "model_module_version": "1.0.0",
      "model_name": "LayoutModel",
      "state": {
       "width": "250px"
      }
     },
     "abba5c0b3f6b4f12a1d6ff78f06234f0": {
      "model_module": "@jupyter-widgets/controls",
      "model_module_version": "1.2.0",
      "model_name": "ButtonModel",
      "state": {
       "description": "Korrekt?",
       "layout": "IPY_MODEL_0a10a95a7a5a474e9949723900ddec80",
       "style": "IPY_MODEL_d5706abfe4644a49a6a2878781e6f21c"
      }
     },
     "abd9bad1a59c457ca57bd4ceacbe83c5": {
      "model_module": "@jupyter-widgets/controls",
      "model_module_version": "1.2.0",
      "model_name": "ButtonStyleModel",
      "state": {}
     },
     "ac160b204755441988b1fd44c1607e56": {
      "model_module": "@jupyter-widgets/controls",
      "model_module_version": "1.2.0",
      "model_name": "DescriptionStyleModel",
      "state": {
       "description_width": ""
      }
     },
     "ac3aff9c36624733b069b74c3acffe8e": {
      "model_module": "@jupyter-widgets/controls",
      "model_module_version": "1.2.0",
      "model_name": "HTMLModel",
      "state": {
       "layout": "IPY_MODEL_a3d1f3c1068e412a9cc4cc8070740d73",
       "style": "IPY_MODEL_297fe124bd0143d8a16b254134ff4b72",
       "value": "<i>Wählen Sie die <ins>eine</ins> korrekte Antwort aus: </i>"
      }
     },
     "ae61cffc0b244f62b838f30799e1ce09": {
      "model_module": "@jupyter-widgets/base",
      "model_module_version": "1.0.0",
      "model_name": "LayoutModel",
      "state": {}
     },
     "af2d70b272da4d64921e4c7ffa0509a5": {
      "model_module": "@jupyter-widgets/controls",
      "model_module_version": "1.2.0",
      "model_name": "ButtonModel",
      "state": {
       "description": "Wortart des Phrasenkopfes",
       "layout": "IPY_MODEL_b15f3ce5d9e14f098b3300f8ecc21202",
       "style": "IPY_MODEL_793717ed5dba4257b7c5dbc842df942b"
      }
     },
     "af45f59d5b134efa92770965d8ae2861": {
      "model_module": "@jupyter-widgets/base",
      "model_module_version": "1.0.0",
      "model_name": "LayoutModel",
      "state": {
       "justify_content": "center"
      }
     },
     "af87e7dcf3fe43c0817aa1d4ba677e4f": {
      "model_module": "@jupyter-widgets/base",
      "model_module_version": "1.0.0",
      "model_name": "LayoutModel",
      "state": {
       "width": "250px"
      }
     },
     "affa6690a5164b43bb249afd4c14b51d": {
      "model_module": "@jupyter-widgets/controls",
      "model_module_version": "1.2.0",
      "model_name": "HTMLModel",
      "state": {
       "layout": "IPY_MODEL_c5b008beebea42dc945bb0e6ab41e222",
       "style": "IPY_MODEL_d1a1ccb4fe72489f9aa4f0836055d249",
       "value": "<i>Wählen Sie die <ins>eine</ins> korrekte Antwort aus: </i>"
      }
     },
     "b086552ceaa840f0824fe3f35f1bc36f": {
      "model_module": "@jupyter-widgets/controls",
      "model_module_version": "1.2.0",
      "model_name": "DescriptionStyleModel",
      "state": {
       "description_width": ""
      }
     },
     "b0a8ff472d234d16b3383d98e3dc4f49": {
      "model_module": "@jupyter-widgets/base",
      "model_module_version": "1.0.0",
      "model_name": "LayoutModel",
      "state": {
       "width": "250px"
      }
     },
     "b0ae570c1353433085fa7fa9671f093c": {
      "model_module": "@jupyter-widgets/base",
      "model_module_version": "1.0.0",
      "model_name": "LayoutModel",
      "state": {
       "width": "250px"
      }
     },
     "b124627c7d73446dac1345c4c5d2613d": {
      "model_module": "@jupyter-widgets/base",
      "model_module_version": "1.0.0",
      "model_name": "LayoutModel",
      "state": {
       "justify_content": "center"
      }
     },
     "b12eeaaca5e04c57ba7ead81158a8b81": {
      "model_module": "@jupyter-widgets/controls",
      "model_module_version": "1.2.0",
      "model_name": "ButtonStyleModel",
      "state": {
       "button_color": "lightgreen"
      }
     },
     "b15f3ce5d9e14f098b3300f8ecc21202": {
      "model_module": "@jupyter-widgets/base",
      "model_module_version": "1.0.0",
      "model_name": "LayoutModel",
      "state": {
       "width": "250px"
      }
     },
     "b197f880bb2f43619acf1bc5429163d0": {
      "model_module": "@jupyter-widgets/base",
      "model_module_version": "1.0.0",
      "model_name": "LayoutModel",
      "state": {
       "justify_content": "center"
      }
     },
     "b1f5b5816e0e4c52850a9e8a995c644d": {
      "model_module": "@jupyter-widgets/base",
      "model_module_version": "1.0.0",
      "model_name": "LayoutModel",
      "state": {}
     },
     "b1f8d4f563a343ccbedc80d324dc5a02": {
      "model_module": "@jupyter-widgets/base",
      "model_module_version": "1.0.0",
      "model_name": "LayoutModel",
      "state": {
       "width": "250px"
      }
     },
     "b259ea46c50e49578880de25672d2258": {
      "model_module": "@jupyter-widgets/controls",
      "model_module_version": "1.2.0",
      "model_name": "ButtonModel",
      "state": {
       "description": "formale Grammatik",
       "layout": "IPY_MODEL_587c138b9ad14f689cfedd0cbb43ade0",
       "style": "IPY_MODEL_3a77c209e94c4b01b966bcbc84b2b769"
      }
     },
     "b37f8e75caa04783acb2c220af7bb455": {
      "model_module": "@jupyter-widgets/controls",
      "model_module_version": "1.2.0",
      "model_name": "HBoxModel",
      "state": {
       "children": [
        "IPY_MODEL_8aba5b49a25342fe8b16d313be6a70cb",
        "IPY_MODEL_a1385450a0c84dad9d7706897e2ac404"
       ],
       "layout": "IPY_MODEL_a0303c41ce6a40b7acdc42ff47bfad0b"
      }
     },
     "b3c97d6efe0e4404a756ef5a1f2b5435": {
      "model_module": "@jupyter-widgets/base",
      "model_module_version": "1.0.0",
      "model_name": "LayoutModel",
      "state": {
       "width": "250px"
      }
     },
     "b44d9dfb95784bd28cfaff0f9f7d471e": {
      "model_module": "@jupyter-widgets/controls",
      "model_module_version": "1.2.0",
      "model_name": "CheckboxModel",
      "state": {
       "description": "syntaktische",
       "disabled": false,
       "layout": "IPY_MODEL_95d5416568b043cbbe9d639c208f18c3",
       "style": "IPY_MODEL_17703e54706f4bccb6412d151925c640",
       "value": true
      }
     },
     "b510a15921f5424bb078eefb804abaf0": {
      "model_module": "@jupyter-widgets/controls",
      "model_module_version": "1.2.0",
      "model_name": "DescriptionStyleModel",
      "state": {
       "description_width": "initial"
      }
     },
     "b5f23093a4734b3ab222becda5d5e13e": {
      "model_module": "@jupyter-widgets/base",
      "model_module_version": "1.0.0",
      "model_name": "LayoutModel",
      "state": {}
     },
     "b5ff08f5eed54096a49daec05ab52a65": {
      "model_module": "@jupyter-widgets/controls",
      "model_module_version": "1.2.0",
      "model_name": "DescriptionStyleModel",
      "state": {
       "description_width": "initial"
      }
     },
     "b6e17fb47b9248e784940e6735c44d5b": {
      "model_module": "@jupyter-widgets/controls",
      "model_module_version": "1.2.0",
      "model_name": "CheckboxModel",
      "state": {
       "description": "Nomen ist Dependent einer NP-Phrase",
       "disabled": false,
       "layout": "IPY_MODEL_6c2f57044fee45a1b268d36d08c5c94e",
       "style": "IPY_MODEL_b510a15921f5424bb078eefb804abaf0",
       "value": false
      }
     },
     "b7f4ba5b69584cf8af997a7aa79a38c7": {
      "model_module": "@jupyter-widgets/base",
      "model_module_version": "1.0.0",
      "model_name": "LayoutModel",
      "state": {}
     },
     "b80383ec60eb4464aefc2368e572bb45": {
      "model_module": "@jupyter-widgets/base",
      "model_module_version": "1.0.0",
      "model_name": "LayoutModel",
      "state": {}
     },
     "b866ec142fde4cddb36ebef21dc5262b": {
      "model_module": "@jupyter-widgets/controls",
      "model_module_version": "1.2.0",
      "model_name": "ButtonModel",
      "state": {
       "description": "Korrekt?",
       "layout": "IPY_MODEL_0286cdec4a1b402ab52ab078bd2642a2",
       "style": "IPY_MODEL_b12eeaaca5e04c57ba7ead81158a8b81"
      }
     },
     "bafb625ee6a546579898116034e76d0f": {
      "model_module": "@jupyter-widgets/controls",
      "model_module_version": "1.2.0",
      "model_name": "HTMLModel",
      "state": {
       "layout": "IPY_MODEL_f974abcda47e424299019145b5c85497",
       "style": "IPY_MODEL_d78332985ca3482296fb8867a3afa664",
       "value": "<i>Markieren Sie <ins>alle</ins> passenden Antworten: </i>"
      }
     },
     "bb7b60324af2490a9d0b27a9436f625d": {
      "model_module": "@jupyter-widgets/controls",
      "model_module_version": "1.2.0",
      "model_name": "HTMLModel",
      "state": {
       "layout": "IPY_MODEL_af45f59d5b134efa92770965d8ae2861",
       "style": "IPY_MODEL_dcdf7c068f6a4fa7a014cc81183c5da3",
       "value": "<i>Wählen Sie die <ins>eine</ins> korrekte Antwort aus: </i>"
      }
     },
     "bc238e48d49b4d4b91b81c46c397da19": {
      "model_module": "@jupyter-widgets/controls",
      "model_module_version": "1.2.0",
      "model_name": "DescriptionStyleModel",
      "state": {
       "description_width": "initial"
      }
     },
     "bc28f3817a434cc3929454efd670a4fe": {
      "model_module": "@jupyter-widgets/controls",
      "model_module_version": "1.2.0",
      "model_name": "DescriptionStyleModel",
      "state": {
       "description_width": ""
      }
     },
     "bca78f8d16e843fe9aa697472c368ffb": {
      "model_module": "@jupyter-widgets/base",
      "model_module_version": "1.0.0",
      "model_name": "LayoutModel",
      "state": {}
     },
     "bcce670345384f24801b4ed079cfc703": {
      "model_module": "@jupyter-widgets/base",
      "model_module_version": "1.0.0",
      "model_name": "LayoutModel",
      "state": {
       "justify_content": "center"
      }
     },
     "bd18497e39a44f93bd28368ed519d0e1": {
      "model_module": "@jupyter-widgets/base",
      "model_module_version": "1.0.0",
      "model_name": "LayoutModel",
      "state": {}
     },
     "bd9aa186898c496e9fc55783f8cda244": {
      "model_module": "@jupyter-widgets/controls",
      "model_module_version": "1.2.0",
      "model_name": "DescriptionStyleModel",
      "state": {
       "description_width": ""
      }
     },
     "be1df8f15dc545c694f9b9ac2393ce76": {
      "model_module": "@jupyter-widgets/base",
      "model_module_version": "1.0.0",
      "model_name": "LayoutModel",
      "state": {
       "width": "600px"
      }
     },
     "be4eba23bdfd4536825dc0bca90d99cf": {
      "model_module": "@jupyter-widgets/controls",
      "model_module_version": "1.2.0",
      "model_name": "VBoxModel",
      "state": {
       "children": [
        "IPY_MODEL_6b193a4285bc49078bb599060367d452",
        "IPY_MODEL_bafb625ee6a546579898116034e76d0f",
        "IPY_MODEL_dd5e58e7f9b54728900a65963d5a24dc",
        "IPY_MODEL_ccc1a52236d84648863d163dc8b5112f"
       ],
       "layout": "IPY_MODEL_361585a038dc4945ad6a9f76d02f6580"
      }
     },
     "be9dd68199ae4ed0ad7bec133362f90a": {
      "model_module": "@jupyter-widgets/base",
      "model_module_version": "1.0.0",
      "model_name": "LayoutModel",
      "state": {}
     },
     "bf7903c6ab0647e49e71ab1be440b674": {
      "model_module": "@jupyter-widgets/base",
      "model_module_version": "1.0.0",
      "model_name": "LayoutModel",
      "state": {
       "width": "250px"
      }
     },
     "bfa5890fdee64b739baaa128885143c8": {
      "model_module": "@jupyter-widgets/base",
      "model_module_version": "1.0.0",
      "model_name": "LayoutModel",
      "state": {
       "width": "250px"
      }
     },
     "bfd717c108ff4fac99ac618a55776cda": {
      "model_module": "@jupyter-widgets/controls",
      "model_module_version": "1.2.0",
      "model_name": "HBoxModel",
      "state": {
       "children": [
        "IPY_MODEL_ff948f8f51a04052917cca8dd0be5e70"
       ],
       "layout": "IPY_MODEL_d5944f668bd149bab75eb43667861f97"
      }
     },
     "c06e9c77b1b94cc2a188beaa5802e58b": {
      "model_module": "@jupyter-widgets/controls",
      "model_module_version": "1.2.0",
      "model_name": "HTMLModel",
      "state": {
       "layout": "IPY_MODEL_47c95034bfb3499099e2655f0b7a6c57",
       "style": "IPY_MODEL_21e7902fc226418888d34c12307e8a0f",
       "value": "<i>Vervollständigen Sie den Lückentext: </i>"
      }
     },
     "c08b3fd7834f4310bb2e73c8e46b0b49": {
      "model_module": "@jupyter-widgets/controls",
      "model_module_version": "1.2.0",
      "model_name": "ButtonModel",
      "state": {
       "description": "Keine der anderen Möglichkeiten",
       "layout": "IPY_MODEL_3cf0f4175cf541b88ead335cf8b6141f",
       "style": "IPY_MODEL_a1c05d300b324886b4508a89ef8301cd"
      }
     },
     "c0f1329982704394b1327b4be4d86f62": {
      "model_module": "@jupyter-widgets/base",
      "model_module_version": "1.0.0",
      "model_name": "LayoutModel",
      "state": {}
     },
     "c122495faf1c4fe1b4d9d2316db86f76": {
      "model_module": "@jupyter-widgets/base",
      "model_module_version": "1.0.0",
      "model_name": "LayoutModel",
      "state": {
       "width": "250px"
      }
     },
     "c14e2e4fd69d40309c7581ff86f772df": {
      "model_module": "@jupyter-widgets/base",
      "model_module_version": "1.0.0",
      "model_name": "LayoutModel",
      "state": {}
     },
     "c2ddffb5713144b986b6e7e15edd5284": {
      "model_module": "@jupyter-widgets/controls",
      "model_module_version": "1.2.0",
      "model_name": "ButtonStyleModel",
      "state": {
       "button_color": "lightgreen"
      }
     },
     "c2fee4111ef04033b0963aa0b8035dcb": {
      "model_module": "@jupyter-widgets/controls",
      "model_module_version": "1.2.0",
      "model_name": "HBoxModel",
      "state": {
       "children": [
        "IPY_MODEL_dcc9952d31a64048ba3cc3784c8fb08f",
        "IPY_MODEL_18dc27cfc4914972b1c1758f01661aee"
       ],
       "layout": "IPY_MODEL_009420cbbd2648cc88d93fa73d59e42b"
      }
     },
     "c3258a6ace0540cdb65827556b23794b": {
      "model_module": "@jupyter-widgets/base",
      "model_module_version": "1.0.0",
      "model_name": "LayoutModel",
      "state": {}
     },
     "c4214c1d999a42419e513e3958f4587b": {
      "model_module": "@jupyter-widgets/base",
      "model_module_version": "1.0.0",
      "model_name": "LayoutModel",
      "state": {
       "width": "600px"
      }
     },
     "c45a7bef21874068b4b57bd793686a1f": {
      "model_module": "@jupyter-widgets/base",
      "model_module_version": "1.0.0",
      "model_name": "LayoutModel",
      "state": {
       "justify_content": "center"
      }
     },
     "c467c28cb92445b59e895a3d5af4aad6": {
      "model_module": "@jupyter-widgets/controls",
      "model_module_version": "1.2.0",
      "model_name": "ButtonStyleModel",
      "state": {}
     },
     "c4fc2d52068d41bbb283dd3619cc4159": {
      "model_module": "@jupyter-widgets/controls",
      "model_module_version": "1.2.0",
      "model_name": "ButtonModel",
      "state": {
       "description": "Subjekt",
       "layout": "IPY_MODEL_5148955d26cc4c9f9bd4621e3902bc16",
       "style": "IPY_MODEL_30a4a55ee12d4cac961401e6df1198c6"
      }
     },
     "c504d093a3a646ffb43790b0bc9ccf40": {
      "model_module": "@jupyter-widgets/controls",
      "model_module_version": "1.2.0",
      "model_name": "ButtonStyleModel",
      "state": {
       "button_color": "lightgreen"
      }
     },
     "c5b008beebea42dc945bb0e6ab41e222": {
      "model_module": "@jupyter-widgets/base",
      "model_module_version": "1.0.0",
      "model_name": "LayoutModel",
      "state": {
       "justify_content": "center"
      }
     },
     "c6142d3b211142c780a107e6b9d96f4d": {
      "model_module": "@jupyter-widgets/base",
      "model_module_version": "1.0.0",
      "model_name": "LayoutModel",
      "state": {
       "width": "600px"
      }
     },
     "c656e61ddaa047368b2668dae791204a": {
      "model_module": "@jupyter-widgets/controls",
      "model_module_version": "1.2.0",
      "model_name": "DescriptionStyleModel",
      "state": {
       "description_width": "initial"
      }
     },
     "c6871f4b3b7641aab57184bc6ba077a2": {
      "model_module": "@jupyter-widgets/controls",
      "model_module_version": "1.2.0",
      "model_name": "DescriptionStyleModel",
      "state": {
       "description_width": ""
      }
     },
     "c68e8f26eab549dbb88d26c3941b3198": {
      "model_module": "@jupyter-widgets/controls",
      "model_module_version": "1.2.0",
      "model_name": "HTMLModel",
      "state": {
       "layout": "IPY_MODEL_b124627c7d73446dac1345c4c5d2613d",
       "style": "IPY_MODEL_a18d8b82b95a418295da4c23bf068dd4",
       "value": "<i>Markieren Sie <ins>alle</ins> passenden Antworten: </i>"
      }
     },
     "c6fc8382cc644bac9819bcfb145bdc4d": {
      "model_module": "@jupyter-widgets/controls",
      "model_module_version": "1.2.0",
      "model_name": "DescriptionStyleModel",
      "state": {
       "description_width": "initial"
      }
     },
     "c769cbdce24f4c3f89e67505ae414a12": {
      "model_module": "@jupyter-widgets/base",
      "model_module_version": "1.0.0",
      "model_name": "LayoutModel",
      "state": {
       "width": "600px"
      }
     },
     "c8f8bb26b7b24b8abd20c0fddbf3cace": {
      "model_module": "@jupyter-widgets/base",
      "model_module_version": "1.0.0",
      "model_name": "LayoutModel",
      "state": {
       "justify_content": "center"
      }
     },
     "c8fcb1f9aef542b28b5f8118abdd53b5": {
      "model_module": "@jupyter-widgets/base",
      "model_module_version": "1.0.0",
      "model_name": "LayoutModel",
      "state": {}
     },
     "c8fd477d1b9945e48435358508b44512": {
      "model_module": "@jupyter-widgets/base",
      "model_module_version": "1.0.0",
      "model_name": "LayoutModel",
      "state": {}
     },
     "ca45c6a4badf42ada517a5284371bebc": {
      "model_module": "@jupyter-widgets/controls",
      "model_module_version": "1.2.0",
      "model_name": "DescriptionStyleModel",
      "state": {
       "description_width": ""
      }
     },
     "ca6aa164784e4d33aa39327c09708206": {
      "model_module": "@jupyter-widgets/controls",
      "model_module_version": "1.2.0",
      "model_name": "ButtonModel",
      "state": {
       "description": "genau ein",
       "layout": "IPY_MODEL_b0a8ff472d234d16b3383d98e3dc4f49",
       "style": "IPY_MODEL_ca80a931abdf4604a0c35e2dfca2be0b"
      }
     },
     "ca80a931abdf4604a0c35e2dfca2be0b": {
      "model_module": "@jupyter-widgets/controls",
      "model_module_version": "1.2.0",
      "model_name": "ButtonStyleModel",
      "state": {}
     },
     "ca97e40c75c74f2bb129d0ce20d79f21": {
      "model_module": "@jupyter-widgets/controls",
      "model_module_version": "1.2.0",
      "model_name": "DescriptionStyleModel",
      "state": {
       "description_width": ""
      }
     },
     "cbca433fe78246f3a7a7b003e1ff9f7a": {
      "model_module": "@jupyter-widgets/base",
      "model_module_version": "1.0.0",
      "model_name": "LayoutModel",
      "state": {
       "width": "250px"
      }
     },
     "cc8c79f28dd14a7c9a478a4e0e89887b": {
      "model_module": "@jupyter-widgets/base",
      "model_module_version": "1.0.0",
      "model_name": "LayoutModel",
      "state": {}
     },
     "cc9337acfa424c458c2108e0e26a21e4": {
      "model_module": "@jupyter-widgets/controls",
      "model_module_version": "1.2.0",
      "model_name": "ButtonModel",
      "state": {
       "description": "Wissen um Sprachstruktur",
       "layout": "IPY_MODEL_d4d0d45c34184ebfbf931b56132cb9ef",
       "style": "IPY_MODEL_fa133f57ce0847d68ff75928e8fe37ca"
      }
     },
     "ccad9de1107d4da5af18635e67c60cfa": {
      "model_module": "@jupyter-widgets/controls",
      "model_module_version": "1.2.0",
      "model_name": "ButtonModel",
      "state": {
       "description": "Regelbuch",
       "layout": "IPY_MODEL_a009619d5f7745b38d8e772450d55a37",
       "style": "IPY_MODEL_69e694b197e74df99989efc595968536"
      }
     },
     "ccb8a5cc533d441494460d0f115f81a0": {
      "model_module": "@jupyter-widgets/controls",
      "model_module_version": "1.2.0",
      "model_name": "CheckboxModel",
      "state": {
       "description": "Korrektheit",
       "disabled": false,
       "layout": "IPY_MODEL_3eaaf31c34684b87b9239eaefa216f0a",
       "style": "IPY_MODEL_3935268a3a3b40e0a1bb1b158063fe0f",
       "value": false
      }
     },
     "ccc1a52236d84648863d163dc8b5112f": {
      "model_module": "@jupyter-widgets/controls",
      "model_module_version": "1.2.0",
      "model_name": "ButtonModel",
      "state": {
       "description": "Korrekt?",
       "layout": "IPY_MODEL_bfa5890fdee64b739baaa128885143c8",
       "style": "IPY_MODEL_e02db0c6b4b945e997d60132dd3d4dfb"
      }
     },
     "ccd8d01fc6314a11abd16f375db57914": {
      "model_module": "@jupyter-widgets/controls",
      "model_module_version": "1.2.0",
      "model_name": "ButtonStyleModel",
      "state": {
       "button_color": "lightgreen"
      }
     },
     "cd25aeb746e34a7ebf60b26750b7cce8": {
      "model_module": "@jupyter-widgets/base",
      "model_module_version": "1.0.0",
      "model_name": "LayoutModel",
      "state": {
       "justify_content": "center"
      }
     },
     "cd5edffed03841e0a87df51d486f9c9d": {
      "model_module": "@jupyter-widgets/controls",
      "model_module_version": "1.2.0",
      "model_name": "CheckboxModel",
      "state": {
       "description": "Grammatikalität",
       "disabled": false,
       "layout": "IPY_MODEL_df29ff7e631a475a8081b7a4d5950ffb",
       "style": "IPY_MODEL_c656e61ddaa047368b2668dae791204a",
       "value": true
      }
     },
     "cda6cf460f4e49448f314d9f007608d3": {
      "model_module": "@jupyter-widgets/controls",
      "model_module_version": "1.2.0",
      "model_name": "CheckboxModel",
      "state": {
       "description": "Konstituentenbaum mit gelabelten Kanten",
       "disabled": false,
       "layout": "IPY_MODEL_d5b138ad6f73424b8c2c51388bae6e56",
       "style": "IPY_MODEL_a2b2192aa03a4b72ac42723096fb2a21",
       "value": false
      }
     },
     "cdac2a0213ee4f768643ec1b8231a8bf": {
      "model_module": "@jupyter-widgets/controls",
      "model_module_version": "1.2.0",
      "model_name": "ButtonModel",
      "state": {
       "description": "Keine der anderen Möglichkeiten",
       "layout": "IPY_MODEL_ef4026d761d747268cccf67253a887cd",
       "style": "IPY_MODEL_6e59797471af444091858523c53118f3"
      }
     },
     "ce78d50ba38d4477b2d961415e2c54c7": {
      "model_module": "@jupyter-widgets/base",
      "model_module_version": "1.0.0",
      "model_name": "LayoutModel",
      "state": {
       "justify_content": "center"
      }
     },
     "cf90c430002d4fbc8e307cf9a5c435ad": {
      "model_module": "@jupyter-widgets/base",
      "model_module_version": "1.0.0",
      "model_name": "LayoutModel",
      "state": {
       "width": "250px"
      }
     },
     "cff3d56fe7c643a598366234474f00bf": {
      "model_module": "@jupyter-widgets/controls",
      "model_module_version": "1.2.0",
      "model_name": "ButtonStyleModel",
      "state": {}
     },
     "d086acd35eb74ff09b4b8b645fd3a27f": {
      "model_module": "@jupyter-widgets/base",
      "model_module_version": "1.0.0",
      "model_name": "LayoutModel",
      "state": {
       "justify_content": "center"
      }
     },
     "d1004b30a88a4411b6f83ce6fd7ae761": {
      "model_module": "@jupyter-widgets/controls",
      "model_module_version": "1.2.0",
      "model_name": "CheckboxModel",
      "state": {
       "description": "morphologische",
       "disabled": false,
       "layout": "IPY_MODEL_fa657c7b805a4df0928a34d19595653c",
       "style": "IPY_MODEL_f4cabe0f804f4c2fae63f614827ac742",
       "value": true
      }
     },
     "d118aa800ba24d7ab2c110c4e91be941": {
      "model_module": "@jupyter-widgets/base",
      "model_module_version": "1.0.0",
      "model_name": "LayoutModel",
      "state": {}
     },
     "d12a3356e3d74ba28743566b7db30560": {
      "model_module": "@jupyter-widgets/controls",
      "model_module_version": "1.2.0",
      "model_name": "ButtonModel",
      "state": {
       "description": "Theorie der Sprachstruktur",
       "layout": "IPY_MODEL_5f3499bad0da47148827a87ef5f76f8e",
       "style": "IPY_MODEL_6cf774de64a14a0a969c36ab902e9bbb"
      }
     },
     "d1a1ccb4fe72489f9aa4f0836055d249": {
      "model_module": "@jupyter-widgets/controls",
      "model_module_version": "1.2.0",
      "model_name": "DescriptionStyleModel",
      "state": {
       "description_width": ""
      }
     },
     "d1e5e3f143fa4177961188c0a81a17c4": {
      "model_module": "@jupyter-widgets/controls",
      "model_module_version": "1.2.0",
      "model_name": "ButtonStyleModel",
      "state": {}
     },
     "d1ec7a9a773f47378a5b20a29aeaa879": {
      "model_module": "@jupyter-widgets/base",
      "model_module_version": "1.0.0",
      "model_name": "LayoutModel",
      "state": {}
     },
     "d1f869b81e0f46c88c011ddd2fa38061": {
      "model_module": "@jupyter-widgets/controls",
      "model_module_version": "1.2.0",
      "model_name": "HBoxModel",
      "state": {
       "children": [
        "IPY_MODEL_17c487877ca84197baa02aab540d87c3",
        "IPY_MODEL_46698c7d93494e34b64df43c1688eca2"
       ],
       "layout": "IPY_MODEL_bd18497e39a44f93bd28368ed519d0e1"
      }
     },
     "d2594457a42f40dd9452d995063462d6": {
      "model_module": "@jupyter-widgets/base",
      "model_module_version": "1.0.0",
      "model_name": "LayoutModel",
      "state": {
       "justify_content": "center"
      }
     },
     "d326441a217d47b58efad17811405812": {
      "model_module": "@jupyter-widgets/controls",
      "model_module_version": "1.2.0",
      "model_name": "ButtonStyleModel",
      "state": {}
     },
     "d34ac3b4538346c7b3ae69c9f014f6be": {
      "model_module": "@jupyter-widgets/base",
      "model_module_version": "1.0.0",
      "model_name": "LayoutModel",
      "state": {
       "width": "250px"
      }
     },
     "d3a82b041b4e4928aa0db11cb85eb9fc": {
      "model_module": "@jupyter-widgets/controls",
      "model_module_version": "1.2.0",
      "model_name": "ButtonStyleModel",
      "state": {}
     },
     "d3d6181dde31468493eed72f5e2c8b0b": {
      "model_module": "@jupyter-widgets/controls",
      "model_module_version": "1.2.0",
      "model_name": "ButtonStyleModel",
      "state": {
       "button_color": "lightgreen"
      }
     },
     "d40e2c784fcc4a1f9da9266797f90266": {
      "model_module": "@jupyter-widgets/controls",
      "model_module_version": "1.2.0",
      "model_name": "ButtonModel",
      "state": {
       "description": "strukturelle Ambiguität",
       "layout": "IPY_MODEL_5433d5a580fc40079ed87ea35e807f2b",
       "style": "IPY_MODEL_7626cf62d5f341cda146f9fc35d6667d"
      }
     },
     "d43650c7098a4fb8b4870433bdcef244": {
      "model_module": "@jupyter-widgets/base",
      "model_module_version": "1.0.0",
      "model_name": "LayoutModel",
      "state": {}
     },
     "d4c030f39db14b64b8801812e20ed980": {
      "model_module": "@jupyter-widgets/base",
      "model_module_version": "1.0.0",
      "model_name": "LayoutModel",
      "state": {}
     },
     "d4d0d45c34184ebfbf931b56132cb9ef": {
      "model_module": "@jupyter-widgets/base",
      "model_module_version": "1.0.0",
      "model_name": "LayoutModel",
      "state": {
       "width": "250px"
      }
     },
     "d4fe588d60584194a831d9f23e4c1a73": {
      "model_module": "@jupyter-widgets/controls",
      "model_module_version": "1.2.0",
      "model_name": "HTMLModel",
      "state": {
       "layout": "IPY_MODEL_c8f8bb26b7b24b8abd20c0fddbf3cace",
       "style": "IPY_MODEL_6673699f36b549128b2e2ff4ce2b6c07",
       "value": "<i>Wählen Sie die <ins>eine</ins> korrekte Antwort aus: </i>"
      }
     },
     "d5706abfe4644a49a6a2878781e6f21c": {
      "model_module": "@jupyter-widgets/controls",
      "model_module_version": "1.2.0",
      "model_name": "ButtonStyleModel",
      "state": {
       "button_color": "lightgreen"
      }
     },
     "d5944f668bd149bab75eb43667861f97": {
      "model_module": "@jupyter-widgets/base",
      "model_module_version": "1.0.0",
      "model_name": "LayoutModel",
      "state": {}
     },
     "d5b138ad6f73424b8c2c51388bae6e56": {
      "model_module": "@jupyter-widgets/base",
      "model_module_version": "1.0.0",
      "model_name": "LayoutModel",
      "state": {
       "width": "600px"
      }
     },
     "d5fc0b7309c2494aaf8ffd59a861daca": {
      "model_module": "@jupyter-widgets/controls",
      "model_module_version": "1.2.0",
      "model_name": "HTMLModel",
      "state": {
       "layout": "IPY_MODEL_bcce670345384f24801b4ed079cfc703",
       "style": "IPY_MODEL_833f172c4c1d414b950ccda44d098197",
       "value": "<h4 style=\"font-size:14px;\">Welcher Grammatikbegriff liegt Satz 1 zugrunde?</h4>"
      }
     },
     "d78332985ca3482296fb8867a3afa664": {
      "model_module": "@jupyter-widgets/controls",
      "model_module_version": "1.2.0",
      "model_name": "DescriptionStyleModel",
      "state": {
       "description_width": ""
      }
     },
     "d7aba326d90546e68d15631988687fc4": {
      "model_module": "@jupyter-widgets/controls",
      "model_module_version": "1.2.0",
      "model_name": "ButtonModel",
      "state": {
       "description": "syntaktische Funktion",
       "layout": "IPY_MODEL_a567d6c1bd1e49ae974a65f839c1fcbf",
       "style": "IPY_MODEL_2a4a4411f3b4457fbc6c4357a78cee79"
      }
     },
     "d84374a31c35474d8cc2b5c49c0d64b3": {
      "model_module": "@jupyter-widgets/controls",
      "model_module_version": "1.2.0",
      "model_name": "ButtonStyleModel",
      "state": {
       "button_color": "lightgreen"
      }
     },
     "d8e2fe2ab0344819bb690031d7b0f8e2": {
      "model_module": "@jupyter-widgets/controls",
      "model_module_version": "1.2.0",
      "model_name": "DescriptionStyleModel",
      "state": {
       "description_width": ""
      }
     },
     "d8f4221dcf43406ab2682e036c799009": {
      "model_module": "@jupyter-widgets/controls",
      "model_module_version": "1.2.0",
      "model_name": "ButtonModel",
      "state": {
       "description": "Korrekt?",
       "layout": "IPY_MODEL_cf90c430002d4fbc8e307cf9a5c435ad",
       "style": "IPY_MODEL_983f4771325a4002ad4f11687706fb37"
      }
     },
     "d9487a4547864d209db23afff4661fa0": {
      "model_module": "@jupyter-widgets/controls",
      "model_module_version": "1.2.0",
      "model_name": "DescriptionStyleModel",
      "state": {
       "description_width": ""
      }
     },
     "d961c2cfbd234628954e52da4d9312ec": {
      "model_module": "@jupyter-widgets/controls",
      "model_module_version": "1.2.0",
      "model_name": "HTMLModel",
      "state": {
       "layout": "IPY_MODEL_6f30025f65a3416bac2323c5d8650ebe",
       "style": "IPY_MODEL_5c1eda1a103d4b148412164ffc4cb11f",
       "value": "<h4 style=\"font-size:14px;\">der formalen Sprache; ein analysierter natürlichsprachlicher Satz ist ein in der formalen Grammatik ableitbares</h4>"
      }
     },
     "d9b498a0800a403e955046f8e2bb92a6": {
      "model_module": "@jupyter-widgets/controls",
      "model_module_version": "1.2.0",
      "model_name": "DescriptionStyleModel",
      "state": {
       "description_width": ""
      }
     },
     "d9ca7c5b7ca047698187dd70ea3a3b2e": {
      "model_module": "@jupyter-widgets/controls",
      "model_module_version": "1.2.0",
      "model_name": "DescriptionStyleModel",
      "state": {
       "description_width": ""
      }
     },
     "d9f8bdb61dc84ef0afc9a27beec3aeb7": {
      "model_module": "@jupyter-widgets/controls",
      "model_module_version": "1.2.0",
      "model_name": "DescriptionStyleModel",
      "state": {
       "description_width": ""
      }
     },
     "da2eecb164da43308f6a3c3a8acf7a70": {
      "model_module": "@jupyter-widgets/controls",
      "model_module_version": "1.2.0",
      "model_name": "ButtonStyleModel",
      "state": {}
     },
     "dabdb31a6d794fffb3d31e2f12641b33": {
      "model_module": "@jupyter-widgets/controls",
      "model_module_version": "1.2.0",
      "model_name": "ButtonStyleModel",
      "state": {
       "button_color": "lightgreen"
      }
     },
     "daed25f084fb48cfa582ba435301fe84": {
      "model_module": "@jupyter-widgets/controls",
      "model_module_version": "1.2.0",
      "model_name": "CheckboxModel",
      "state": {
       "description": "Dependenz",
       "disabled": false,
       "layout": "IPY_MODEL_1f5360c0b16d4fbc833743a42123c8d1",
       "style": "IPY_MODEL_b5ff08f5eed54096a49daec05ab52a65",
       "value": true
      }
     },
     "dbb70c56ab39406b9e7bec12fa7b9a48": {
      "model_module": "@jupyter-widgets/controls",
      "model_module_version": "1.2.0",
      "model_name": "HBoxModel",
      "state": {
       "children": [
        "IPY_MODEL_0b6fd67609f144eb8b0b523c8a027edf",
        "IPY_MODEL_a67d1a9bb40e419d921bf137ba443517"
       ],
       "layout": "IPY_MODEL_d43650c7098a4fb8b4870433bdcef244"
      }
     },
     "dbd1539a6955473db73e61685cc6e62e": {
      "model_module": "@jupyter-widgets/base",
      "model_module_version": "1.0.0",
      "model_name": "LayoutModel",
      "state": {
       "width": "250px"
      }
     },
     "dc57fbd9a71d465ebbff29d019665d85": {
      "model_module": "@jupyter-widgets/controls",
      "model_module_version": "1.2.0",
      "model_name": "ButtonModel",
      "state": {
       "description": "formale Grammatik",
       "layout": "IPY_MODEL_4df139ca40a84c2f877af06951914e64",
       "style": "IPY_MODEL_6d774404b0284b928f07f2d391e617bd"
      }
     },
     "dc8b23ff442d42998d5c6b4b921fd944": {
      "model_module": "@jupyter-widgets/controls",
      "model_module_version": "1.2.0",
      "model_name": "HTMLModel",
      "state": {
       "layout": "IPY_MODEL_e9a6a3b0fa0644d19d93e5a585d3ba37",
       "style": "IPY_MODEL_041b18373f3047ebac05bd081f8a3739",
       "value": "<i>Wählen Sie die <ins>eine</ins> korrekte Antwort aus: </i>"
      }
     },
     "dca4d33a7d7446ac843b9996c51c2ee3": {
      "model_module": "@jupyter-widgets/controls",
      "model_module_version": "1.2.0",
      "model_name": "CheckboxModel",
      "state": {
       "description": "Lautebene, Wortebene, Satzebene",
       "disabled": false,
       "layout": "IPY_MODEL_8aa3823306164efb962d6d7062b0aad6",
       "style": "IPY_MODEL_49108a0157e845908505496c614c4caf",
       "value": true
      }
     },
     "dcc9952d31a64048ba3cc3784c8fb08f": {
      "model_module": "@jupyter-widgets/controls",
      "model_module_version": "1.2.0",
      "model_name": "ButtonModel",
      "state": {
       "description": "Phrasenstruktur",
       "layout": "IPY_MODEL_6df969bad2884c0b9754d7e8662a9f73",
       "style": "IPY_MODEL_362914bd701048be90a1da732fd0f8c2"
      }
     },
     "dcdf7c068f6a4fa7a014cc81183c5da3": {
      "model_module": "@jupyter-widgets/controls",
      "model_module_version": "1.2.0",
      "model_name": "DescriptionStyleModel",
      "state": {
       "description_width": ""
      }
     },
     "dd5e58e7f9b54728900a65963d5a24dc": {
      "model_module": "@jupyter-widgets/controls",
      "model_module_version": "1.2.0",
      "model_name": "VBoxModel",
      "state": {
       "children": [
        "IPY_MODEL_daed25f084fb48cfa582ba435301fe84",
        "IPY_MODEL_77c69aa1718f464cb0d2a92063cb255a",
        "IPY_MODEL_ccb8a5cc533d441494460d0f115f81a0",
        "IPY_MODEL_4862e78504e3460b92a87098e996ef62"
       ],
       "layout": "IPY_MODEL_b7f4ba5b69584cf8af997a7aa79a38c7"
      }
     },
     "dd9f4f868aef4b868c3e64279cad5e53": {
      "model_module": "@jupyter-widgets/controls",
      "model_module_version": "1.2.0",
      "model_name": "ButtonModel",
      "state": {
       "description": "formale Grammatik",
       "layout": "IPY_MODEL_b3c97d6efe0e4404a756ef5a1f2b5435",
       "style": "IPY_MODEL_9a6f0434b4fb4055816711ed2fdf2b58"
      }
     },
     "ddf13a89113241c5af623ec3889cd190": {
      "model_module": "@jupyter-widgets/controls",
      "model_module_version": "1.2.0",
      "model_name": "VBoxModel",
      "state": {
       "children": [
        "IPY_MODEL_190d4ebfdf03455db925dfb92f5188a4",
        "IPY_MODEL_508fcc06bae6458e8b3eb94b14922dd4",
        "IPY_MODEL_88eff74d2bb343c0b36ebb11785826c9",
        "IPY_MODEL_bfd717c108ff4fac99ac618a55776cda"
       ],
       "layout": "IPY_MODEL_5b8c8e06350c4615a197b730263432be"
      }
     },
     "ddfd42c28a9d4a6083523ddf3fc406c9": {
      "model_module": "@jupyter-widgets/controls",
      "model_module_version": "1.2.0",
      "model_name": "ButtonModel",
      "state": {
       "description": "Korrekt?",
       "layout": "IPY_MODEL_1168e228922340f29c154e9d235a1e68",
       "style": "IPY_MODEL_90173747f2ab454ba2d4dc7617dd2839"
      }
     },
     "df29ff7e631a475a8081b7a4d5950ffb": {
      "model_module": "@jupyter-widgets/base",
      "model_module_version": "1.0.0",
      "model_name": "LayoutModel",
      "state": {
       "width": "600px"
      }
     },
     "df5c94b6daa34c068ffec38d4956f482": {
      "model_module": "@jupyter-widgets/controls",
      "model_module_version": "1.2.0",
      "model_name": "ButtonModel",
      "state": {
       "description": "Klammernotation",
       "layout": "IPY_MODEL_cbca433fe78246f3a7a7b003e1ff9f7a",
       "style": "IPY_MODEL_36be738e01b2406d8d43e8d4b57b79d7"
      }
     },
     "e02db0c6b4b945e997d60132dd3d4dfb": {
      "model_module": "@jupyter-widgets/controls",
      "model_module_version": "1.2.0",
      "model_name": "ButtonStyleModel",
      "state": {
       "button_color": "lightgreen"
      }
     },
     "e05f231c56984936ba411dbd243c2961": {
      "model_module": "@jupyter-widgets/controls",
      "model_module_version": "1.2.0",
      "model_name": "HTMLModel",
      "state": {
       "layout": "IPY_MODEL_302720c05bab4ce98fe69ed546eac9f7",
       "style": "IPY_MODEL_3bcb41992f9f411d83605f41fff20797",
       "value": "<i>Markieren Sie <ins>alle</ins> passenden Antworten: </i>"
      }
     },
     "e061c12e569f4d52a572e4641595219b": {
      "model_module": "@jupyter-widgets/controls",
      "model_module_version": "1.2.0",
      "model_name": "HTMLModel",
      "state": {
       "layout": "IPY_MODEL_0fce9b4fffb84783a6ba32790e0aa451",
       "style": "IPY_MODEL_1e7d528b427b4f018854f95e6af5f370",
       "value": "<i>Wählen Sie die <ins>eine</ins> korrekte Antwort aus: </i>"
      }
     },
     "e06e06b61f8a45329ae185c5e5c79bf2": {
      "model_module": "@jupyter-widgets/base",
      "model_module_version": "1.0.0",
      "model_name": "LayoutModel",
      "state": {
       "width": "250px"
      }
     },
     "e13f8425af4f4c9c87795b718ff8ca33": {
      "model_module": "@jupyter-widgets/base",
      "model_module_version": "1.0.0",
      "model_name": "LayoutModel",
      "state": {
       "width": "600px"
      }
     },
     "e1d9301ba01d4f529cd6b96aaf249c07": {
      "model_module": "@jupyter-widgets/base",
      "model_module_version": "1.0.0",
      "model_name": "LayoutModel",
      "state": {
       "width": "600px"
      }
     },
     "e26bf3127166425f884064a179616fbe": {
      "model_module": "@jupyter-widgets/controls",
      "model_module_version": "1.2.0",
      "model_name": "DescriptionStyleModel",
      "state": {
       "description_width": ""
      }
     },
     "e26daf45d27d49259a3681e751651111": {
      "model_module": "@jupyter-widgets/base",
      "model_module_version": "1.0.0",
      "model_name": "LayoutModel",
      "state": {}
     },
     "e2c8382e50274c098d49649fe9bae1dd": {
      "model_module": "@jupyter-widgets/base",
      "model_module_version": "1.0.0",
      "model_name": "LayoutModel",
      "state": {
       "width": "250px"
      }
     },
     "e2fe37dcdf8341df9e47e3df5edaebce": {
      "model_module": "@jupyter-widgets/controls",
      "model_module_version": "1.2.0",
      "model_name": "HTMLModel",
      "state": {
       "layout": "IPY_MODEL_1e068834c0cd43049251bfc8515ec106",
       "style": "IPY_MODEL_e8d11a80883a470892319382159bcbad",
       "value": "<i>Markieren Sie <ins>alle</ins> passenden Antworten: </i>"
      }
     },
     "e3da27fbb99f4cae855f2b65275d9cee": {
      "model_module": "@jupyter-widgets/controls",
      "model_module_version": "1.2.0",
      "model_name": "DescriptionStyleModel",
      "state": {
       "description_width": "initial"
      }
     },
     "e40f2efe22f04a208c137f45fd366d45": {
      "model_module": "@jupyter-widgets/controls",
      "model_module_version": "1.2.0",
      "model_name": "ButtonStyleModel",
      "state": {
       "button_color": "lightgreen"
      }
     },
     "e4ad01c8475e4a5896540acfb6d65572": {
      "model_module": "@jupyter-widgets/controls",
      "model_module_version": "1.2.0",
      "model_name": "HTMLModel",
      "state": {
       "layout": "IPY_MODEL_7f299910929446e5ac331761169d4567",
       "style": "IPY_MODEL_f869894044e24a02a4fd77031f72c4d5",
       "value": "<h4 style=\"font-size:14px;\">Zu welcher Phrase kann die Präpositionalphrase \"in my pajamas\" gehören?</h4>"
      }
     },
     "e4f2e3ddfb594dc485d997b59ebcf73b": {
      "model_module": "@jupyter-widgets/controls",
      "model_module_version": "1.2.0",
      "model_name": "HTMLModel",
      "state": {
       "layout": "IPY_MODEL_cd25aeb746e34a7ebf60b26750b7cce8",
       "style": "IPY_MODEL_679e1ffdd6c84f01a4b78db0f56c1242",
       "value": "<i>Markieren Sie <ins>alle</ins> passenden Antworten: </i>"
      }
     },
     "e514f1e55d1d459d931053789009de9e": {
      "model_module": "@jupyter-widgets/base",
      "model_module_version": "1.0.0",
      "model_name": "LayoutModel",
      "state": {}
     },
     "e552d15ed21541ca9cab7cd7ef9c6196": {
      "model_module": "@jupyter-widgets/base",
      "model_module_version": "1.0.0",
      "model_name": "LayoutModel",
      "state": {
       "width": "600px"
      }
     },
     "e561a559e554477b840e282306bd2c8f": {
      "model_module": "@jupyter-widgets/controls",
      "model_module_version": "1.2.0",
      "model_name": "CheckboxModel",
      "state": {
       "description": "Konstituentenbaum mit Phrasenlabels als Knoten",
       "disabled": false,
       "layout": "IPY_MODEL_c6142d3b211142c780a107e6b9d96f4d",
       "style": "IPY_MODEL_f421a22733b046f8902ad1321638edce",
       "value": true
      }
     },
     "e5818330216e462c97b1df59d9fbc02c": {
      "model_module": "@jupyter-widgets/base",
      "model_module_version": "1.0.0",
      "model_name": "LayoutModel",
      "state": {
       "width": "250px"
      }
     },
     "e604ff9519c5424f8c08609b9aaf8e8e": {
      "model_module": "@jupyter-widgets/controls",
      "model_module_version": "1.2.0",
      "model_name": "ButtonStyleModel",
      "state": {
       "button_color": "lightgreen"
      }
     },
     "e66ee0739db44ec3b50376ef4d3372c5": {
      "model_module": "@jupyter-widgets/base",
      "model_module_version": "1.0.0",
      "model_name": "LayoutModel",
      "state": {}
     },
     "e6abfa1ce57d4733b7629de1ed8b4bf9": {
      "model_module": "@jupyter-widgets/controls",
      "model_module_version": "1.2.0",
      "model_name": "CheckboxModel",
      "state": {
       "description": "Verbalphrase",
       "disabled": false,
       "layout": "IPY_MODEL_429a2360c5c5424b9b2b610f35da1b17",
       "style": "IPY_MODEL_40adcba2a79649cc8e62050ef5ebba32",
       "value": true
      }
     },
     "e70b4a731da94615b919d7905e1fd863": {
      "model_module": "@jupyter-widgets/base",
      "model_module_version": "1.0.0",
      "model_name": "LayoutModel",
      "state": {
       "width": "250px"
      }
     },
     "e72990bcdca74dcab6101ce3fbcbf607": {
      "model_module": "@jupyter-widgets/base",
      "model_module_version": "1.0.0",
      "model_name": "LayoutModel",
      "state": {
       "width": "250px"
      }
     },
     "e7343da402d84594953b038cefb0a654": {
      "model_module": "@jupyter-widgets/controls",
      "model_module_version": "1.2.0",
      "model_name": "HBoxModel",
      "state": {
       "children": [
        "IPY_MODEL_fa4237d705654deaa3000c4ab0a443cf"
       ],
       "layout": "IPY_MODEL_e66ee0739db44ec3b50376ef4d3372c5"
      }
     },
     "e7d99b898cc7461da99b5e2b3f2a83dd": {
      "model_module": "@jupyter-widgets/controls",
      "model_module_version": "1.2.0",
      "model_name": "ButtonModel",
      "state": {
       "description": "Dependenz",
       "layout": "IPY_MODEL_3b706b91d10941149d3452f706493810",
       "style": "IPY_MODEL_366dee28fc7f4b369d9a714426ec70cb"
      }
     },
     "e875e2a23e794a6c9bc5cc884edaa5d8": {
      "model_module": "@jupyter-widgets/controls",
      "model_module_version": "1.2.0",
      "model_name": "DescriptionStyleModel",
      "state": {
       "description_width": ""
      }
     },
     "e8b5a10a098b4ac698dc1632fccf6f33": {
      "model_module": "@jupyter-widgets/base",
      "model_module_version": "1.0.0",
      "model_name": "LayoutModel",
      "state": {
       "width": "600px"
      }
     },
     "e8d11a80883a470892319382159bcbad": {
      "model_module": "@jupyter-widgets/controls",
      "model_module_version": "1.2.0",
      "model_name": "DescriptionStyleModel",
      "state": {
       "description_width": ""
      }
     },
     "e92dba417161472b9dc7aa8b283e7179": {
      "model_module": "@jupyter-widgets/controls",
      "model_module_version": "1.2.0",
      "model_name": "VBoxModel",
      "state": {
       "children": [
        "IPY_MODEL_c06e9c77b1b94cc2a188beaa5802e58b",
        "IPY_MODEL_77297ee1f19c4f009a4c308c279f63dd",
        "IPY_MODEL_d8f4221dcf43406ab2682e036c799009"
       ],
       "layout": "IPY_MODEL_be9dd68199ae4ed0ad7bec133362f90a"
      }
     },
     "e9900f84e5a54ecb9d1d87d3d22ee9b2": {
      "model_module": "@jupyter-widgets/controls",
      "model_module_version": "1.2.0",
      "model_name": "DescriptionStyleModel",
      "state": {
       "description_width": "initial"
      }
     },
     "e990f97ee92b47acad8e2724e14d975f": {
      "model_module": "@jupyter-widgets/base",
      "model_module_version": "1.0.0",
      "model_name": "LayoutModel",
      "state": {}
     },
     "e9a6a3b0fa0644d19d93e5a585d3ba37": {
      "model_module": "@jupyter-widgets/base",
      "model_module_version": "1.0.0",
      "model_name": "LayoutModel",
      "state": {
       "justify_content": "center"
      }
     },
     "ea24245e133d4a48a307d4c3a90d06f2": {
      "model_module": "@jupyter-widgets/base",
      "model_module_version": "1.0.0",
      "model_name": "LayoutModel",
      "state": {}
     },
     "ea4bfb606de64525bab64f24de254506": {
      "model_module": "@jupyter-widgets/base",
      "model_module_version": "1.0.0",
      "model_name": "LayoutModel",
      "state": {
       "width": "250px"
      }
     },
     "ea59e22e734a4014b6560ba3a6364a37": {
      "model_module": "@jupyter-widgets/base",
      "model_module_version": "1.0.0",
      "model_name": "LayoutModel",
      "state": {
       "justify_content": "center"
      }
     },
     "ea6bb18b708b4032a351dcf6acd0e357": {
      "model_module": "@jupyter-widgets/controls",
      "model_module_version": "1.2.0",
      "model_name": "DropdownModel",
      "state": {
       "_options_labels": [
        "Oberbegriff",
        "Synonym",
        "Teilbereich",
        " "
       ],
       "index": 2,
       "layout": "IPY_MODEL_25eb8ae2baa647c398a0ce54823b51d0",
       "style": "IPY_MODEL_fcdc377e0e9240a1b75e6f9bfa02176f"
      }
     },
     "eac96775ed7e4f1185cc618bbe5a4c1f": {
      "model_module": "@jupyter-widgets/base",
      "model_module_version": "1.0.0",
      "model_name": "LayoutModel",
      "state": {
       "align_content": "stretch",
       "align_items": "stretch",
       "display": "inline-flex",
       "flex": "flex-grow",
       "flex_flow": "row wrap",
       "justify_content": "flex-start"
      }
     },
     "eb04f714da89433c95c3550f42f58361": {
      "model_module": "@jupyter-widgets/controls",
      "model_module_version": "1.2.0",
      "model_name": "ButtonModel",
      "state": {
       "description": "lexikalische Ambiguität",
       "layout": "IPY_MODEL_1fd3de04fe3846b29ca48e4bf2670558",
       "style": "IPY_MODEL_a8b6055b7d4e4f12a9c8485ea3930791"
      }
     },
     "eb6a2b5a47614d5ba20d4df7ba4ca1a1": {
      "model_module": "@jupyter-widgets/base",
      "model_module_version": "1.0.0",
      "model_name": "LayoutModel",
      "state": {
       "width": "250px"
      }
     },
     "ebb821f71e6642729a1c6e4eee5f37c8": {
      "model_module": "@jupyter-widgets/controls",
      "model_module_version": "1.2.0",
      "model_name": "HBoxModel",
      "state": {
       "children": [
        "IPY_MODEL_40436bf191524483b3b8c0e6ea29c6ba"
       ],
       "layout": "IPY_MODEL_e514f1e55d1d459d931053789009de9e"
      }
     },
     "ec80b15b143f431c9b8eb1d5c910f7be": {
      "model_module": "@jupyter-widgets/controls",
      "model_module_version": "1.2.0",
      "model_name": "ButtonStyleModel",
      "state": {}
     },
     "ed1f268434f24b228d29b1c316a79738": {
      "model_module": "@jupyter-widgets/controls",
      "model_module_version": "1.2.0",
      "model_name": "HBoxModel",
      "state": {
       "children": [
        "IPY_MODEL_8d9ca9388f1247e088d175f20098ac40",
        "IPY_MODEL_df5c94b6daa34c068ffec38d4956f482"
       ],
       "layout": "IPY_MODEL_ae61cffc0b244f62b838f30799e1ce09"
      }
     },
     "edd387d4a007432981e9cd7ef50ac386": {
      "model_module": "@jupyter-widgets/controls",
      "model_module_version": "1.2.0",
      "model_name": "DescriptionStyleModel",
      "state": {
       "description_width": "initial"
      }
     },
     "ee26dcd2fcd1420aaa4310551585c295": {
      "model_module": "@jupyter-widgets/controls",
      "model_module_version": "1.2.0",
      "model_name": "ButtonModel",
      "state": {
       "description": "lexikalische Ambiguität",
       "layout": "IPY_MODEL_32312563b7914135b7533815c0bf8be3",
       "style": "IPY_MODEL_fb01f96def3644a5a5f76a8c8dd654b7"
      }
     },
     "ee602c2eddb14a7fb5379d3c8869229e": {
      "model_module": "@jupyter-widgets/base",
      "model_module_version": "1.0.0",
      "model_name": "LayoutModel",
      "state": {}
     },
     "eefc4a55172e48b586240586936a2fd7": {
      "model_module": "@jupyter-widgets/base",
      "model_module_version": "1.0.0",
      "model_name": "LayoutModel",
      "state": {}
     },
     "ef4026d761d747268cccf67253a887cd": {
      "model_module": "@jupyter-widgets/base",
      "model_module_version": "1.0.0",
      "model_name": "LayoutModel",
      "state": {
       "width": "250px"
      }
     },
     "ef9d3bb2029446d093141bceccb8f816": {
      "model_module": "@jupyter-widgets/controls",
      "model_module_version": "1.2.0",
      "model_name": "ButtonModel",
      "state": {
       "description": "Korrekt?",
       "layout": "IPY_MODEL_f615fb911e644fc38b608be311a8220f",
       "style": "IPY_MODEL_3630011de5bc4a7b8f79aec1c36f61f7"
      }
     },
     "f030dac9ee10474db6af1f68ef0a89ff": {
      "model_module": "@jupyter-widgets/controls",
      "model_module_version": "1.2.0",
      "model_name": "HTMLModel",
      "state": {
       "layout": "IPY_MODEL_a2ce657da6734233b17c6efbd033f187",
       "style": "IPY_MODEL_1f48bc6009934782aa68848c0f0132f4",
       "value": "<h4 style=\"font-size:14px;\">der formalen Sprache.</h4>"
      }
     },
     "f0dcc4705daf42228e0399e02d8bc5ba": {
      "model_module": "@jupyter-widgets/controls",
      "model_module_version": "1.2.0",
      "model_name": "VBoxModel",
      "state": {
       "children": [
        "IPY_MODEL_7a7e063134fc4ddba265a699b8f337da",
        "IPY_MODEL_8b3022d98b034395bdcb62c20ae4c226",
        "IPY_MODEL_043d5dd9471848c59561d5ea556c71fa",
        "IPY_MODEL_7cadf1ff923e4f0994a69235565203dd"
       ],
       "layout": "IPY_MODEL_2cfb6f729aea49c78af438a8ab5c26ec"
      }
     },
     "f1fda0d6b3b64890a18dbc24860d3226": {
      "model_module": "@jupyter-widgets/base",
      "model_module_version": "1.0.0",
      "model_name": "LayoutModel",
      "state": {
       "justify_content": "center"
      }
     },
     "f2e20ca1283740e291b1e243683df07a": {
      "model_module": "@jupyter-widgets/controls",
      "model_module_version": "1.2.0",
      "model_name": "DescriptionStyleModel",
      "state": {
       "description_width": ""
      }
     },
     "f3a590fdec3949cda0ef485291b247ab": {
      "model_module": "@jupyter-widgets/base",
      "model_module_version": "1.0.0",
      "model_name": "LayoutModel",
      "state": {}
     },
     "f3ac113e7d7a44ab9b3ba24bf4529ae8": {
      "model_module": "@jupyter-widgets/controls",
      "model_module_version": "1.2.0",
      "model_name": "ButtonModel",
      "state": {
       "description": "Subjekt",
       "layout": "IPY_MODEL_2716584e178745e2adf4b5b26ea5a38b",
       "style": "IPY_MODEL_4e57e0a2f48044d9b051c55f3c59f9fe"
      }
     },
     "f421a22733b046f8902ad1321638edce": {
      "model_module": "@jupyter-widgets/controls",
      "model_module_version": "1.2.0",
      "model_name": "DescriptionStyleModel",
      "state": {
       "description_width": "initial"
      }
     },
     "f48a0cc3a2b142358945ffd0ad30d95b": {
      "model_module": "@jupyter-widgets/controls",
      "model_module_version": "1.2.0",
      "model_name": "VBoxModel",
      "state": {
       "children": [
        "IPY_MODEL_09d5501f536a43d49a5049e26e5213fa",
        "IPY_MODEL_a6fd4901691a4fa1a931acf717f4e27d",
        "IPY_MODEL_5ebb1a4848584fea8134ae67271c6b0b"
       ],
       "layout": "IPY_MODEL_e26daf45d27d49259a3681e751651111"
      }
     },
     "f4cabe0f804f4c2fae63f614827ac742": {
      "model_module": "@jupyter-widgets/controls",
      "model_module_version": "1.2.0",
      "model_name": "DescriptionStyleModel",
      "state": {
       "description_width": "initial"
      }
     },
     "f615fb911e644fc38b608be311a8220f": {
      "model_module": "@jupyter-widgets/base",
      "model_module_version": "1.0.0",
      "model_name": "LayoutModel",
      "state": {
       "width": "250px"
      }
     },
     "f699d4e882b74aeda38637602eb8e02c": {
      "model_module": "@jupyter-widgets/controls",
      "model_module_version": "1.2.0",
      "model_name": "ButtonModel",
      "state": {
       "description": "Wissen um Sprachstruktur",
       "layout": "IPY_MODEL_4ea2daedfb90463299fe1bfd3ee754a8",
       "style": "IPY_MODEL_da2eecb164da43308f6a3c3a8acf7a70"
      }
     },
     "f6e542cdfd45416b8e380c1c33402eca": {
      "model_module": "@jupyter-widgets/controls",
      "model_module_version": "1.2.0",
      "model_name": "HTMLModel",
      "state": {
       "layout": "IPY_MODEL_d2594457a42f40dd9452d995063462d6",
       "style": "IPY_MODEL_ca45c6a4badf42ada517a5284371bebc",
       "value": "<i>Markieren Sie <ins>alle</ins> passenden Antworten: </i>"
      }
     },
     "f72a121b64d14b47b99a9a4c180911a3": {
      "model_module": "@jupyter-widgets/base",
      "model_module_version": "1.0.0",
      "model_name": "LayoutModel",
      "state": {}
     },
     "f76be11596dc41c8938d5bb3957aa7b0": {
      "model_module": "@jupyter-widgets/controls",
      "model_module_version": "1.2.0",
      "model_name": "DescriptionStyleModel",
      "state": {
       "description_width": "initial"
      }
     },
     "f845b515c89747f3b900d0c16101b66b": {
      "model_module": "@jupyter-widgets/base",
      "model_module_version": "1.0.0",
      "model_name": "LayoutModel",
      "state": {}
     },
     "f869894044e24a02a4fd77031f72c4d5": {
      "model_module": "@jupyter-widgets/controls",
      "model_module_version": "1.2.0",
      "model_name": "DescriptionStyleModel",
      "state": {
       "description_width": ""
      }
     },
     "f8e6839d5b7141939a6dc70a79dac414": {
      "model_module": "@jupyter-widgets/base",
      "model_module_version": "1.0.0",
      "model_name": "LayoutModel",
      "state": {
       "justify_content": "center"
      }
     },
     "f94a0456deb34c70924b2cc0ab6b57cc": {
      "model_module": "@jupyter-widgets/base",
      "model_module_version": "1.0.0",
      "model_name": "LayoutModel",
      "state": {
       "width": "250px"
      }
     },
     "f974abcda47e424299019145b5c85497": {
      "model_module": "@jupyter-widgets/base",
      "model_module_version": "1.0.0",
      "model_name": "LayoutModel",
      "state": {
       "justify_content": "center"
      }
     },
     "fa133f57ce0847d68ff75928e8fe37ca": {
      "model_module": "@jupyter-widgets/controls",
      "model_module_version": "1.2.0",
      "model_name": "ButtonStyleModel",
      "state": {}
     },
     "fa4237d705654deaa3000c4ab0a443cf": {
      "model_module": "@jupyter-widgets/controls",
      "model_module_version": "1.2.0",
      "model_name": "ButtonModel",
      "state": {
       "description": "Keine der anderen Möglichkeiten",
       "layout": "IPY_MODEL_08fa1e18bf24408fac1ea64ae6555fa7",
       "style": "IPY_MODEL_cff3d56fe7c643a598366234474f00bf"
      }
     },
     "fa657c7b805a4df0928a34d19595653c": {
      "model_module": "@jupyter-widgets/base",
      "model_module_version": "1.0.0",
      "model_name": "LayoutModel",
      "state": {
       "width": "600px"
      }
     },
     "fa66886a6aba43a4b49c0f5e9ee203db": {
      "model_module": "@jupyter-widgets/controls",
      "model_module_version": "1.2.0",
      "model_name": "VBoxModel",
      "state": {
       "children": [
        "IPY_MODEL_5b65da35530e433a8798a951e22937ab",
        "IPY_MODEL_389bda23950542e0a2371634d2a21281",
        "IPY_MODEL_4f43ae1e02f64ea4a87b5295877288d3"
       ],
       "layout": "IPY_MODEL_c0f1329982704394b1327b4be4d86f62"
      }
     },
     "fb01f96def3644a5a5f76a8c8dd654b7": {
      "model_module": "@jupyter-widgets/controls",
      "model_module_version": "1.2.0",
      "model_name": "ButtonStyleModel",
      "state": {}
     },
     "fbdcbe89c0984b618020137da32d2133": {
      "model_module": "@jupyter-widgets/base",
      "model_module_version": "1.0.0",
      "model_name": "LayoutModel",
      "state": {}
     },
     "fc2b81b715854b87b6bbbefe32c53a17": {
      "model_module": "@jupyter-widgets/controls",
      "model_module_version": "1.2.0",
      "model_name": "HTMLModel",
      "state": {
       "layout": "IPY_MODEL_d086acd35eb74ff09b4b8b645fd3a27f",
       "style": "IPY_MODEL_49f0a510241346469fa391932f2220df",
       "value": "<h4 style=\"font-size:14px;\">Welcher Grammatikbegriff liegt Satz 3 zugrunde?</h4>"
      }
     },
     "fc476cdf38204a9299e4c158dd824807": {
      "model_module": "@jupyter-widgets/base",
      "model_module_version": "1.0.0",
      "model_name": "LayoutModel",
      "state": {}
     },
     "fcdc377e0e9240a1b75e6f9bfa02176f": {
      "model_module": "@jupyter-widgets/controls",
      "model_module_version": "1.2.0",
      "model_name": "DescriptionStyleModel",
      "state": {
       "description_width": ""
      }
     },
     "fd9b907f362042089e1e1d4b82a83289": {
      "model_module": "@jupyter-widgets/controls",
      "model_module_version": "1.2.0",
      "model_name": "VBoxModel",
      "state": {
       "children": [
        "IPY_MODEL_853f1864969e4375bccf5a729948d671",
        "IPY_MODEL_d4fe588d60584194a831d9f23e4c1a73",
        "IPY_MODEL_b37f8e75caa04783acb2c220af7bb455"
       ],
       "layout": "IPY_MODEL_48ca5e6390ee4617823ce0d4cb07a262"
      }
     },
     "fde5c3e7e548464ea9da6cdb91ff842d": {
      "model_module": "@jupyter-widgets/controls",
      "model_module_version": "1.2.0",
      "model_name": "DescriptionStyleModel",
      "state": {
       "description_width": ""
      }
     },
     "ff3c7377a9ac4168b60de3c34e048513": {
      "model_module": "@jupyter-widgets/controls",
      "model_module_version": "1.2.0",
      "model_name": "DescriptionStyleModel",
      "state": {
       "description_width": "initial"
      }
     },
     "ff74eebea056499fb455ae119bfc0750": {
      "model_module": "@jupyter-widgets/controls",
      "model_module_version": "1.2.0",
      "model_name": "HBoxModel",
      "state": {
       "children": [
        "IPY_MODEL_0c96563722e74ce8abbc2886a3221cac",
        "IPY_MODEL_9bfe089e65104a0c9f710d06a72b0626"
       ],
       "layout": "IPY_MODEL_31ec3745523a4160acf231c12e0a2f0e"
      }
     },
     "ff948f8f51a04052917cca8dd0be5e70": {
      "model_module": "@jupyter-widgets/controls",
      "model_module_version": "1.2.0",
      "model_name": "ButtonModel",
      "state": {
       "description": "Keine der anderen Möglichkeiten",
       "layout": "IPY_MODEL_b1f8d4f563a343ccbedc80d324dc5a02",
       "style": "IPY_MODEL_ec80b15b143f431c9b8eb1d5c910f7be"
      }
     }
    },
    "version_major": 2,
    "version_minor": 0
   }
  }
 },
 "nbformat": 4,
 "nbformat_minor": 2
}
