{
 "cells": [
  {
   "cell_type": "markdown",
   "metadata": {},
   "source": [
    "***Vorlesung 'Syntax natürlicher Sprachen', WS 2019/20***\n",
    "\n",
    "---\n",
    "# Übung 4 (Lösung)"
   ]
  },
  {
   "cell_type": "code",
   "execution_count": 1,
   "metadata": {},
   "outputs": [],
   "source": [
    "from exercises_4 import *\n",
    "from questions import aufgabe\n",
    "import nltk\n",
    "import sys"
   ]
  },
  {
   "cell_type": "markdown",
   "metadata": {},
   "source": [
    "---\n",
    "\n",
    "## Aufgabe 1: Eine erste (Phrasenstruktur-)Grammatik\n",
    "\n",
    "#### Werfen Sie einen Blick auf die folgende sehr einfache kontextfreie Grammatik und erklären Sie deren Funktionsweise."
   ]
  },
  {
   "cell_type": "code",
   "execution_count": 2,
   "metadata": {},
   "outputs": [],
   "source": [
    "grammar1 = \"\"\"\n",
    "    S -> NP VP\n",
    "    NP -> DET N\n",
    "    DET -> \"der\" | \"die\" | \"das\"\n",
    "    N -> \"Mann\" | \"Frau\" | \"Buch\"\n",
    "    VP -> V NP NP\n",
    "    V -> \"gibt\" | \"schenkt\"\n",
    "\"\"\""
   ]
  },
  {
   "cell_type": "markdown",
   "metadata": {},
   "source": [
    "---\n",
    "#### Sammeln Sie Sätze, die als grammatisch erkannt werden sollten, am besten in einer Liste."
   ]
  },
  {
   "cell_type": "code",
   "execution_count": 3,
   "metadata": {},
   "outputs": [],
   "source": [
    "test_sentences1 = [\n",
    "    \"der Mann gibt der Frau das Buch\"\n",
    "]"
   ]
  },
  {
   "cell_type": "markdown",
   "metadata": {},
   "source": [
    "---\n",
    "#### Die folgende Funktion kann Ihnen helfen, eine Reihe von Sätzen zu analysieren."
   ]
  },
  {
   "cell_type": "code",
   "execution_count": 4,
   "metadata": {},
   "outputs": [],
   "source": [
    "def test_grammar(grammar, sentences):\n",
    "    cfg = nltk.CFG.fromstring(grammar)\n",
    "    rd_parser = nltk.RecursiveDescentParser(cfg)\n",
    "    \n",
    "    for i, sent in enumerate(sentences, 1):\n",
    "        print(\"Satz {}: {}\".format(i, sent))\n",
    "        results = rd_parser.parse(sent.split())\n",
    "        analyzed = False\n",
    "        for tree in results:\n",
    "            tree.pretty_print(unicodelines=True)\n",
    "            analyzed = True\n",
    "        if not analyzed:\n",
    "            print(\"Keine Analyse möglich\", file=sys.stderr)"
   ]
  },
  {
   "cell_type": "markdown",
   "metadata": {},
   "source": [
    "---\n",
    "#### Führen Sie den Test jetzt für `grammar1` aus!"
   ]
  },
  {
   "cell_type": "code",
   "execution_count": 5,
   "metadata": {},
   "outputs": [
    {
     "name": "stdout",
     "output_type": "stream",
     "text": [
      "Satz 1: der Mann gibt der Frau das Buch\n",
      "                   S                       \n",
      "     ┌─────────────┴───────┐                \n",
      "     │                     VP              \n",
      "     │        ┌────────┬───┴────────┐       \n",
      "     NP       │        NP           NP     \n",
      " ┌───┴───┐    │    ┌───┴───┐    ┌───┴───┐   \n",
      "DET      N    V   DET      N   DET      N  \n",
      " │       │    │    │       │    │       │   \n",
      "der     Mann gibt der     Frau das     Buch\n",
      "\n"
     ]
    }
   ],
   "source": [
    "test_grammar(grammar1, test_sentences1)"
   ]
  },
  {
   "cell_type": "markdown",
   "metadata": {},
   "source": [
    "---\n",
    "## Aufgabe 2: Ein- und zweistellige Verben\n",
    "\n",
    "#### Bis jetzt akzeptiert die Grammatik in `grammar1` lediglich dreistellige Verben. Erweitern Sie sie so, dass auch Verben mit weniger als zwei Objekten korrekte Verbalphrasen bilden können.\n",
    "\n",
    "#### Folgende Sätze sollten akzeptiert werden:"
   ]
  },
  {
   "cell_type": "code",
   "execution_count": 6,
   "metadata": {},
   "outputs": [],
   "source": [
    "test_sentences2 = [\n",
    "    \"der Mann gibt der Frau das Buch\",\n",
    "    \"der Mann schläft\",\n",
    "    \"das Buch gefällt der Frau\",\n",
    "    \"die Frau kennt das Buch\"\n",
    "]"
   ]
  },
  {
   "cell_type": "code",
   "execution_count": 7,
   "metadata": {},
   "outputs": [],
   "source": [
    "grammar2 = \"\"\"\n",
    "    S -> NP VP\n",
    "    NP -> DET N\n",
    "    DET -> \"der\" | \"die\" | \"das\"\n",
    "    N -> \"Mann\" | \"Frau\" | \"Buch\"\n",
    "    VP -> V NP NP | V NP | V\n",
    "    V -> \"gibt\" | \"schenkt\" | \"schläft\" | \"gefällt\" | \"kennt\"\n",
    "\"\"\""
   ]
  },
  {
   "cell_type": "code",
   "execution_count": 8,
   "metadata": {
    "scrolled": false
   },
   "outputs": [
    {
     "name": "stdout",
     "output_type": "stream",
     "text": [
      "Satz 1: der Mann gibt der Frau das Buch\n",
      "                   S                       \n",
      "     ┌─────────────┴───────┐                \n",
      "     │                     VP              \n",
      "     │        ┌────────┬───┴────────┐       \n",
      "     NP       │        NP           NP     \n",
      " ┌───┴───┐    │    ┌───┴───┐    ┌───┴───┐   \n",
      "DET      N    V   DET      N   DET      N  \n",
      " │       │    │    │       │    │       │   \n",
      "der     Mann gibt der     Frau das     Buch\n",
      "\n",
      "Satz 2: der Mann schläft\n",
      "         S          \n",
      "     ┌───┴──────┐    \n",
      "     NP         VP  \n",
      " ┌───┴───┐      │    \n",
      "DET      N      V   \n",
      " │       │      │    \n",
      "der     Mann schläft\n",
      "\n",
      "Satz 3: das Buch gefällt der Frau\n",
      "                S                \n",
      "     ┌──────────┴─────┐           \n",
      "     │                VP         \n",
      "     │          ┌─────┴───┐       \n",
      "     NP         │         NP     \n",
      " ┌───┴───┐      │     ┌───┴───┐   \n",
      "DET      N      V    DET      N  \n",
      " │       │      │     │       │   \n",
      "das     Buch gefällt der     Frau\n",
      "\n",
      "Satz 4: die Frau kennt das Buch\n",
      "               S               \n",
      "     ┌─────────┴────┐           \n",
      "     │              VP         \n",
      "     │         ┌────┴───┐       \n",
      "     NP        │        NP     \n",
      " ┌───┴───┐     │    ┌───┴───┐   \n",
      "DET      N     V   DET      N  \n",
      " │       │     │    │       │   \n",
      "die     Frau kennt das     Buch\n",
      "\n"
     ]
    }
   ],
   "source": [
    "test_grammar(grammar2, test_sentences2)"
   ]
  },
  {
   "cell_type": "markdown",
   "metadata": {},
   "source": [
    "---\n",
    "\n",
    "## Aufgabe 3: Beliebig lange Phrasen (rekursive X-Bar-Phrasenstruktur)\n",
    "\n",
    "#### Erweitern Sie die Grammatik (`grammar2`) nun derart, dass Nominalphrasen auch Adjektive enthalten dürfen – und zwar beliebig viele.  Beachten Sie dabei, dass andererseits nur genau ein Determinierer in der NP-Phrase enthalten sein darf (und zwar als erstes Element). \n",
    "\n",
    "#### Verwenden Sie `NOM` als Label für die nominale Zwischenebene.\n",
    "\n",
    "#### Beispiele:"
   ]
  },
  {
   "cell_type": "code",
   "execution_count": 9,
   "metadata": {},
   "outputs": [],
   "source": [
    "test_sentences3 = [\n",
    "    \"die kluge schöne Frau kennt das Buch\",\n",
    "    \"der schöne kluge Mann gibt der Frau das dicke Buch\",\n",
    "    \"das dicke schöne kluge Buch schläft\"\n",
    "]"
   ]
  },
  {
   "cell_type": "code",
   "execution_count": 10,
   "metadata": {},
   "outputs": [],
   "source": [
    "grammar3 = \"\"\"\n",
    "    S -> NP VP\n",
    "    NP -> DET NOM \n",
    "    NOM -> ADJ NOM | N\n",
    "    DET -> \"der\" | \"die\" | \"das\"\n",
    "    N -> \"Mann\" | \"Frau\" | \"Buch\"\n",
    "    VP -> V NP NP | V NP | V\n",
    "    V -> \"gibt\" | \"schenkt\" | \"schläft\" | \"gefällt\" | \"kennt\"\n",
    "    ADJ -> \"kluge\" | \"schöne\" | \"dicke\"\n",
    "\"\"\""
   ]
  },
  {
   "cell_type": "code",
   "execution_count": 11,
   "metadata": {},
   "outputs": [
    {
     "name": "stdout",
     "output_type": "stream",
     "text": [
      "Satz 1: die kluge schöne Frau kennt das Buch\n",
      "                          S                     \n",
      "           ┌──────────────┴──────────┐           \n",
      "           NP                        │          \n",
      " ┌─────────┴────┐                    │           \n",
      " │             NOM                   VP         \n",
      " │    ┌─────────┴─────┐         ┌────┴───┐       \n",
      " │    │              NOM        │        NP     \n",
      " │    │         ┌─────┴───┐     │    ┌───┴───┐   \n",
      " │    │         │        NOM    │    │      NOM \n",
      " │    │         │         │     │    │       │   \n",
      "DET  ADJ       ADJ        N     V   DET      N  \n",
      " │    │         │         │     │    │       │   \n",
      "die kluge     schöne     Frau kennt das     Buch\n",
      "\n",
      "Satz 2: der schöne kluge Mann gibt der Frau das dicke Buch\n",
      "                               S                                  \n",
      "            ┌──────────────────┴────────────┐                      \n",
      "            NP                              VP                    \n",
      " ┌──────────┴────┐             ┌────────┬───┴─────────┐            \n",
      " │              NOM            │        │             NP          \n",
      " │    ┌──────────┴────┐        │        │        ┌────┴────┐       \n",
      " │    │              NOM       │        NP       │        NOM     \n",
      " │    │          ┌────┴───┐    │    ┌───┴───┐    │    ┌────┴───┐   \n",
      " │    │          │       NOM   │    │      NOM   │    │       NOM \n",
      " │    │          │        │    │    │       │    │    │        │   \n",
      "DET  ADJ        ADJ       N    V   DET      N   DET  ADJ       N  \n",
      " │    │          │        │    │    │       │    │    │        │   \n",
      "der schöne     kluge     Mann gibt der     Frau das dicke     Buch\n",
      "\n",
      "Satz 3: das dicke schöne kluge Buch schläft\n",
      "                       S                   \n",
      "            ┌──────────┴───────────────┐    \n",
      "            NP                         │   \n",
      " ┌──────────┴─────┐                    │    \n",
      " │               NOM                   │   \n",
      " │    ┌───────────┴────┐               │    \n",
      " │    │               NOM              │   \n",
      " │    │     ┌──────────┴────┐          │    \n",
      " │    │     │              NOM         │   \n",
      " │    │     │          ┌────┴───┐      │    \n",
      " │    │     │          │       NOM     VP  \n",
      " │    │     │          │        │      │    \n",
      "DET  ADJ   ADJ        ADJ       N      V   \n",
      " │    │     │          │        │      │    \n",
      "das dicke schöne     kluge     Buch schläft\n",
      "\n"
     ]
    }
   ],
   "source": [
    "test_grammar(grammar3, test_sentences3)"
   ]
  },
  {
   "cell_type": "markdown",
   "metadata": {},
   "source": [
    "---\n",
    "## * Erweiterte Negativtests\n",
    "#### Testen Sie auch, ob die Grammatik für die folgenden (ungrammatischen) Sätze keine Ableitung liefert:"
   ]
  },
  {
   "cell_type": "code",
   "execution_count": 12,
   "metadata": {},
   "outputs": [],
   "source": [
    "negative_examples_np_rec = [\n",
    "    \"der der dicke der Mann gibt der Frau das Buch\"\n",
    "]"
   ]
  },
  {
   "cell_type": "code",
   "execution_count": 13,
   "metadata": {},
   "outputs": [
    {
     "name": "stdout",
     "output_type": "stream",
     "text": [
      "Satz 1: der der dicke der Mann gibt der Frau das Buch\n"
     ]
    },
    {
     "name": "stderr",
     "output_type": "stream",
     "text": [
      "Keine Analyse möglich\n"
     ]
    }
   ],
   "source": [
    "test_grammar(grammar3, negative_examples_np_rec)"
   ]
  },
  {
   "cell_type": "markdown",
   "metadata": {},
   "source": [
    "#### Folgende Grammatik mit rekursiven NP-Regeln ohne die nominale Zwischenebene (`NOM`) erkennt dagegen diese ungrammatischen Sätze und ist insofern keine korrektes Modell der NP-Phrasenstruktur des Deutschen:"
   ]
  },
  {
   "cell_type": "code",
   "execution_count": 14,
   "metadata": {},
   "outputs": [],
   "source": [
    "grammar_np_rec = \"\"\"\n",
    "    S -> NP VP\n",
    "    NP -> N | ADJ NP | DET NP \n",
    "    DET -> \"der\" | \"die\" | \"das\"\n",
    "    N -> \"Mann\" | \"Frau\" | \"Buch\"\n",
    "    VP -> V NP NP\n",
    "    V -> \"gibt\" | \"schenkt\"\n",
    "    ADJ -> \"dicke\"\n",
    "\"\"\""
   ]
  },
  {
   "cell_type": "code",
   "execution_count": 15,
   "metadata": {},
   "outputs": [
    {
     "name": "stdout",
     "output_type": "stream",
     "text": [
      "Satz 1: der der dicke der Mann gibt der Frau das Buch\n",
      "                           S                                 \n",
      "          ┌────────────────┴─────────────────┐                \n",
      "          NP                                 │               \n",
      " ┌────────┴────┐                             │                \n",
      " │             NP                            │               \n",
      " │   ┌─────────┴───┐                         │                \n",
      " │   │             NP                        VP              \n",
      " │   │    ┌────────┴───┐        ┌────────┬───┴────────┐       \n",
      " │   │    │            NP       │        NP           NP     \n",
      " │   │    │        ┌───┴───┐    │    ┌───┴───┐    ┌───┴───┐   \n",
      " │   │    │        │       NP   │    │       NP   │       NP \n",
      " │   │    │        │       │    │    │       │    │       │   \n",
      "DET DET  ADJ      DET      N    V   DET      N   DET      N  \n",
      " │   │    │        │       │    │    │       │    │       │   \n",
      "der der dicke     der     Mann gibt der     Frau das     Buch\n",
      "\n"
     ]
    }
   ],
   "source": [
    "test_grammar(grammar_np_rec, negative_examples_np_rec)"
   ]
  },
  {
   "cell_type": "markdown",
   "metadata": {},
   "source": [
    "---\n",
    "## * Hinweis zu verschiedenen Ursachen für Überproduktion von CFGs\n",
    "\n",
    " Die hier besprochene Begrenzung der CFG-Grammatik durch X-Bar-Regeln bezieht sich auf die Wohlgeformtheit hinsichtlich der linearen Anordnung der Wörter (als der terminalen Symbole der CFG), d. h. also auf die Konstituenten- bzw. Phrasenstruktur (deshalb auch **Phrasenstrukturgrammatik**). Dazu zählt etwa die Vermeidung der Erkennung von sich wiederholenden Determinierern (*der der Mann*) durch die Einführung einer phrasalen Zwischenebene (N' oder NOM).\n",
    " \n",
    "Zu den anderen Gründe, die zu Überproduktion führen (also auch die Erkennung ungrammatischer Sätze zulassen), und die in dieser einfache CFG-Phrasenstrukturgrammatik nicht berücksichtigt sind, zählen **Subkategorisierung, Rektion und Agreement/Kongruenz**.\n",
    "\n",
    "Diese Probleme können u.a. durch Erweiterung der Nonterminalsymbole der CFG gelöst werden, allerdings führt dies für Sprachen mit umfangreicher Morphoysntax zu einer Aufblähung der CFG-Grammatik und wird entweder über merkmalbasierte (*feature-based grammars*) oder probabilistische Erweiterungen (PCFGs) gelöst. Dazu mehr in den folgenden Sitzungen.\n",
    "\n",
    "\n",
    "#### Im Folgenden sehen Sie ein Beispiel für die Nonterminal-Erweiterung einer CFG zur Lösung der Überproduktion durch die Verletzung von Subkategorisierungsbeschränkungen:"
   ]
  },
  {
   "cell_type": "code",
   "execution_count": 16,
   "metadata": {},
   "outputs": [],
   "source": [
    "grammar_vp_subcat = \"\"\"\n",
    "    S -> NP VP\n",
    "    NP -> DET N\n",
    "    DET -> \"der\" | \"die\" | \"das\"\n",
    "    N -> \"Mann\" | \"Frau\" | \"Buch\"\n",
    "    VP -> Vditrans NP NP | Vintrans\n",
    "    Vditrans -> \"gibt\"\n",
    "    Vintrans -> \"schläft\"\n",
    "\"\"\""
   ]
  },
  {
   "cell_type": "markdown",
   "metadata": {},
   "source": [
    "#### Folgendene Negativbeispiele werden von dieser Grammatik nicht erkannt:"
   ]
  },
  {
   "cell_type": "code",
   "execution_count": 17,
   "metadata": {},
   "outputs": [],
   "source": [
    "negative_examples_vp_subcat = [\n",
    "    \"der Mann schläft das Buch\",\n",
    "    \"der Mann gibt das Buch\"    \n",
    "]"
   ]
  },
  {
   "cell_type": "code",
   "execution_count": 18,
   "metadata": {},
   "outputs": [
    {
     "name": "stdout",
     "output_type": "stream",
     "text": [
      "Satz 1: der Mann schläft das Buch\n",
      "Satz 2: der Mann gibt das Buch\n"
     ]
    },
    {
     "name": "stderr",
     "output_type": "stream",
     "text": [
      "Keine Analyse möglich\n",
      "Keine Analyse möglich\n"
     ]
    }
   ],
   "source": [
    "test_grammar(grammar_vp_subcat, negative_examples_vp_subcat)"
   ]
  },
  {
   "cell_type": "markdown",
   "metadata": {},
   "source": [
    "#### Folgende Sätze (mit korrekter Anzahl an Komplementen) werden erkannt:"
   ]
  },
  {
   "cell_type": "code",
   "execution_count": 19,
   "metadata": {},
   "outputs": [],
   "source": [
    "positive_examples_vp_subcat = [\n",
    "    \"der Mann schläft\",\n",
    "    \"der Mann gibt der Frau das Buch\"    \n",
    "]"
   ]
  },
  {
   "cell_type": "code",
   "execution_count": 20,
   "metadata": {},
   "outputs": [
    {
     "name": "stdout",
     "output_type": "stream",
     "text": [
      "Satz 1: der Mann schläft\n",
      "         S           \n",
      "     ┌───┴──────┐     \n",
      "     NP         VP   \n",
      " ┌───┴───┐      │     \n",
      "DET      N   Vintrans\n",
      " │       │      │     \n",
      "der     Mann schläft \n",
      "\n",
      "Satz 2: der Mann gibt der Frau das Buch\n",
      "                       S                       \n",
      "     ┌─────────────────┴───────┐                \n",
      "     │                         VP              \n",
      "     │          ┌──────────┬───┴────────┐       \n",
      "     NP         │          NP           NP     \n",
      " ┌───┴───┐      │      ┌───┴───┐    ┌───┴───┐   \n",
      "DET      N   Vditrans DET      N   DET      N  \n",
      " │       │      │      │       │    │       │   \n",
      "der     Mann   gibt   der     Frau das     Buch\n",
      "\n"
     ]
    }
   ],
   "source": [
    "test_grammar(grammar_vp_subcat, positive_examples_vp_subcat)"
   ]
  },
  {
   "cell_type": "markdown",
   "metadata": {},
   "source": [
    "#### Dagegen erkennt die oben erstellte `grammar2` ohne diese Berücksichtigung von Subkategorisierung auch die beiden Negativbeispiele (die die Subkategorisierungrahmen der Verben verletzen):"
   ]
  },
  {
   "cell_type": "code",
   "execution_count": 21,
   "metadata": {},
   "outputs": [
    {
     "name": "stdout",
     "output_type": "stream",
     "text": [
      "Satz 1: der Mann schläft das Buch\n",
      "                S                \n",
      "     ┌──────────┴─────┐           \n",
      "     │                VP         \n",
      "     │          ┌─────┴───┐       \n",
      "     NP         │         NP     \n",
      " ┌───┴───┐      │     ┌───┴───┐   \n",
      "DET      N      V    DET      N  \n",
      " │       │      │     │       │   \n",
      "der     Mann schläft das     Buch\n",
      "\n",
      "Satz 2: der Mann gibt das Buch\n",
      "              S               \n",
      "     ┌────────┴────┐           \n",
      "     │             VP         \n",
      "     │        ┌────┴───┐       \n",
      "     NP       │        NP     \n",
      " ┌───┴───┐    │    ┌───┴───┐   \n",
      "DET      N    V   DET      N  \n",
      " │       │    │    │       │   \n",
      "der     Mann gibt das     Buch\n",
      "\n"
     ]
    }
   ],
   "source": [
    "test_grammar(grammar2, negative_examples_vp_subcat)"
   ]
  },
  {
   "cell_type": "markdown",
   "metadata": {},
   "source": [
    "---\n",
    "# Hausaufgaben"
   ]
  },
  {
   "cell_type": "markdown",
   "metadata": {},
   "source": [
    "---\n",
    "## Aufgabe 4: Eigennamen\n",
    "\n",
    "#### Eigennamen können auch ohne Artikel eine Nominalphrase bilden. Erweitern Sie die Grammatik (`grammar3`) entsprechend.\n",
    "\n",
    "#### Folgende Sätze sollten korrekt analysiert werden:"
   ]
  },
  {
   "cell_type": "code",
   "execution_count": 22,
   "metadata": {},
   "outputs": [],
   "source": [
    "test_sentences4 = [\n",
    "    \"der Mann kennt Chomsky\",\n",
    "    \"Marie gibt Fritz das Buch\"\n",
    "]"
   ]
  },
  {
   "cell_type": "markdown",
   "metadata": {},
   "source": [
    "#### Stellen Sie außerdem sicher, dass folgende Sätze KEINE Analyse liefern!"
   ]
  },
  {
   "cell_type": "code",
   "execution_count": 23,
   "metadata": {},
   "outputs": [],
   "source": [
    "negative_examples4 = [\n",
    "    \"Mann gibt Frau Buch\",\n",
    "    \"Mann schläft\"\n",
    "    ]"
   ]
  },
  {
   "cell_type": "code",
   "execution_count": 24,
   "metadata": {},
   "outputs": [],
   "source": [
    "grammar4 = \"\"\"\n",
    "    S -> NP VP\n",
    "    NP -> DET NOM | PROPN\n",
    "    NOM -> ADJ NOM | N\n",
    "    DET -> \"der\" | \"die\" | \"das\"\n",
    "    N -> \"Mann\" | \"Frau\" | \"Buch\"\n",
    "    VP -> V NP NP | V NP | V\n",
    "    V -> \"gibt\" | \"schenkt\" | \"schläft\" | \"gefällt\" | \"kennt\"\n",
    "    ADJ -> \"kluge\" | \"schöne\" | \"dicke\"\n",
    "    PROPN -> \"Chomsky\" | \"Fritz\" | \"Marie\"\n",
    "\"\"\""
   ]
  },
  {
   "cell_type": "code",
   "execution_count": 25,
   "metadata": {},
   "outputs": [
    {
     "name": "stdout",
     "output_type": "stream",
     "text": [
      "Satz 1: der Mann kennt Chomsky\n",
      "              S                   \n",
      "     ┌────────┴─────────┐          \n",
      "     NP                 VP        \n",
      " ┌───┴───┐         ┌────┴─────┐    \n",
      " │      NOM        │          NP  \n",
      " │       │         │          │    \n",
      "DET      N         V        PROPN \n",
      " │       │         │          │    \n",
      "der     Mann     kennt     Chomsky\n",
      "\n",
      "Satz 2: Marie gibt Fritz das Buch\n",
      "       S                     \n",
      "  ┌────┴─────┐                \n",
      "  │          VP              \n",
      "  │    ┌─────┼────────┐       \n",
      "  │    │     │        NP     \n",
      "  │    │     │    ┌───┴───┐   \n",
      "  NP   │     NP   │      NOM \n",
      "  │    │     │    │       │   \n",
      "PROPN  V   PROPN DET      N  \n",
      "  │    │     │    │       │   \n",
      "Marie gibt Fritz das     Buch\n",
      "\n"
     ]
    }
   ],
   "source": [
    "test_grammar(grammar4, test_sentences4)"
   ]
  },
  {
   "cell_type": "code",
   "execution_count": 26,
   "metadata": {},
   "outputs": [
    {
     "name": "stdout",
     "output_type": "stream",
     "text": [
      "Satz 1: Mann gibt Frau Buch\n",
      "Satz 2: Mann schläft\n"
     ]
    },
    {
     "name": "stderr",
     "output_type": "stream",
     "text": [
      "Keine Analyse möglich\n",
      "Keine Analyse möglich\n"
     ]
    }
   ],
   "source": [
    "test_grammar(grammar4, negative_examples4)"
   ]
  },
  {
   "cell_type": "markdown",
   "metadata": {},
   "source": [
    "---\n",
    "## Aufgabe 5: Präpositionalphrasen\n",
    "\n",
    "#### Erweitern Sie die Grammatik (`grammar4`) nun derart, dass sowohl Nominalphrasen als auch Verbalphrasen durch Präpositionalphrasen modifiziert werden können. Erkennen Sie die Ambiguität von Übungsblatt 2 wieder?\n",
    "\n",
    "#### Folgende Sätze sollten akzeptiert werden:"
   ]
  },
  {
   "cell_type": "code",
   "execution_count": 27,
   "metadata": {},
   "outputs": [],
   "source": [
    "test_sentences5 = [\n",
    "    \"der Mann schläft neben dem Buch\",\n",
    "    \"die Frau kennt das dicke Buch über Chomsky\",\n",
    "    \"die Frau schenkt dem Mann das Buch auf dem Tisch\"\n",
    "]"
   ]
  },
  {
   "cell_type": "markdown",
   "metadata": {},
   "source": [
    "#### Beachten Sie, dass die Form des Artikels *dem* und das Nomen *Tisch* auch noch als lexikalische Regeln ergänzt werden müssen. \n",
    "\n",
    "#### Stellen Sie zudem sicher, dass für den 2. und 3. Satz zwei Analysen generiert werden.\n",
    "\n",
    "#### Achten Sie außerdem darauf, dass Ihre Erweiterung nicht die Analyse zuvor akzeptierter grammatischer Sätze verhindert!"
   ]
  },
  {
   "cell_type": "code",
   "execution_count": 28,
   "metadata": {},
   "outputs": [],
   "source": [
    "grammar5 = \"\"\"\n",
    "    S -> NP VP\n",
    "    NP -> DET NOM | PROPN | DET NOM PP\n",
    "    NOM -> ADJ NOM | N\n",
    "    DET -> \"der\" | \"die\" | \"das\" | \"dem\"\n",
    "    N -> \"Mann\" | \"Frau\" | \"Buch\" | \"Tisch\"\n",
    "    VP -> V NP NP | V NP | V | V NP NP PP | V NP PP | V PP \n",
    "    V -> \"gibt\" | \"schenkt\" | \"schläft\" | \"gefällt\" | \"kennt\"\n",
    "    ADJ -> \"kluge\" | \"schöne\" | \"dicke\"\n",
    "    PROPN -> \"Chomsky\" | \"Fritz\" | \"Marie\"\n",
    "    PP -> P NP\n",
    "    P -> \"neben\" | \"über\" | \"auf\"\n",
    "\"\"\""
   ]
  },
  {
   "cell_type": "code",
   "execution_count": 29,
   "metadata": {},
   "outputs": [
    {
     "name": "stdout",
     "output_type": "stream",
     "text": [
      "Satz 1: der Mann schläft neben dem Buch\n",
      "                S                          \n",
      "     ┌──────────┴───────────┐               \n",
      "     │                      VP             \n",
      "     │          ┌───────────┴───┐           \n",
      "     │          │               PP         \n",
      "     │          │      ┌────────┴───┐       \n",
      "     NP         │      │            NP     \n",
      " ┌───┴───┐      │      │        ┌───┴───┐   \n",
      " │      NOM     │      │        │      NOM \n",
      " │       │      │      │        │       │   \n",
      "DET      N      V      P       DET      N  \n",
      " │       │      │      │        │       │   \n",
      "der     Mann schläft neben     dem     Buch\n",
      "\n",
      "Satz 2: die Frau kennt das dicke Buch über Chomsky\n",
      "                    S                                 \n",
      "     ┌──────────────┴────┐                             \n",
      "     │                   VP                           \n",
      "     │         ┌─────────┴────────┐                    \n",
      "     │         │                  NP                  \n",
      "     │         │    ┌─────────┬───┴─────────┐          \n",
      "     NP        │    │        NOM            PP        \n",
      " ┌───┴───┐     │    │    ┌────┴───┐    ┌────┴─────┐    \n",
      " │      NOM    │    │    │       NOM   │          NP  \n",
      " │       │     │    │    │        │    │          │    \n",
      "DET      N     V   DET  ADJ       N    P        PROPN \n",
      " │       │     │    │    │        │    │          │    \n",
      "die     Frau kennt das dicke     Buch über     Chomsky\n",
      "\n",
      "                    S                                 \n",
      "     ┌──────────────┴────┐                             \n",
      "     │                   VP                           \n",
      "     │         ┌─────────┼──────────────────┐          \n",
      "     │         │         NP                 │         \n",
      "     │         │    ┌────┴────┐             │          \n",
      "     NP        │    │        NOM            PP        \n",
      " ┌───┴───┐     │    │    ┌────┴───┐    ┌────┴─────┐    \n",
      " │      NOM    │    │    │       NOM   │          NP  \n",
      " │       │     │    │    │        │    │          │    \n",
      "DET      N     V   DET  ADJ       N    P        PROPN \n",
      " │       │     │    │    │        │    │          │    \n",
      "die     Frau kennt das dicke     Buch über     Chomsky\n",
      "\n",
      "Satz 3: die Frau schenkt dem Mann das Buch auf dem Tisch\n",
      "                              S                             \n",
      "     ┌────────────────────────┴────┐                         \n",
      "     │                             VP                       \n",
      "     │          ┌─────────┬────────┴────────┐                \n",
      "     │          │         │                 NP              \n",
      "     │          │         │        ┌───┬────┴───┐            \n",
      "     │          │         │        │   │        PP          \n",
      "     │          │         │        │   │    ┌───┴───┐        \n",
      "     NP         │         NP       │   │    │       NP      \n",
      " ┌───┴───┐      │     ┌───┴───┐    │   │    │   ┌───┴────┐   \n",
      " │      NOM     │     │      NOM   │  NOM   │   │       NOM \n",
      " │       │      │     │       │    │   │    │   │        │   \n",
      "DET      N      V    DET      N   DET  N    P  DET       N  \n",
      " │       │      │     │       │    │   │    │   │        │   \n",
      "die     Frau schenkt dem     Mann das Buch auf dem     Tisch\n",
      "\n",
      "                              S                                 \n",
      "     ┌────────────────────────┴────┐                             \n",
      "     │                             VP                           \n",
      "     │          ┌─────────┬────────┴───┬────────────┐            \n",
      "     │          │         │            │            PP          \n",
      "     │          │         │            │        ┌───┴───┐        \n",
      "     NP         │         NP           NP       │       NP      \n",
      " ┌───┴───┐      │     ┌───┴───┐    ┌───┴───┐    │   ┌───┴────┐   \n",
      " │      NOM     │     │      NOM   │      NOM   │   │       NOM \n",
      " │       │      │     │       │    │       │    │   │        │   \n",
      "DET      N      V    DET      N   DET      N    P  DET       N  \n",
      " │       │      │     │       │    │       │    │   │        │   \n",
      "die     Frau schenkt dem     Mann das     Buch auf dem     Tisch\n",
      "\n"
     ]
    }
   ],
   "source": [
    "test_grammar(grammar5, test_sentences5)"
   ]
  },
  {
   "cell_type": "markdown",
   "metadata": {},
   "source": [
    "---\n",
    "## * Erweiterte Lösung mit X-Bar-Phrasenstruktur\n",
    "\n",
    "In einer X-Bar-Analyse mit Komplement-Adjunkt-Distinktion wird die PP als NP- bzw- VP-Modifizierer (=Adjunkt) dem X'-Knoten angehängt. Dies führt aber mit obiger Testfunktion zu einem `recursion error`, da der dort verwendete `rdParser` (Recursive-Descent-Parser) nicht mit linksrekursiven Regeln umgehen kann. Deshalb verwenden wir in folgender Definition einen anderen Parser (`ChartParser`).\n",
    "\n",
    "#### Überlegen Sie, warum Satz 2 in dieser Analyse 3 Ableitungen hat."
   ]
  },
  {
   "cell_type": "code",
   "execution_count": 30,
   "metadata": {},
   "outputs": [],
   "source": [
    "def test_grammar_chart_parser(grammar, sentences):\n",
    "    cfg = nltk.CFG.fromstring(grammar)\n",
    "    rd_parser = nltk.ChartParser(cfg)\n",
    "    \n",
    "    for i, sent in enumerate(sentences, 1):\n",
    "        print(\"Satz {}: {}\".format(i, sent))\n",
    "        results = rd_parser.parse(sent.split())\n",
    "        analyzed = False\n",
    "        for tree in results:\n",
    "            tree.pretty_print(unicodelines=True)\n",
    "            analyzed = True\n",
    "        if not analyzed:\n",
    "            print(\"Keine Analyse möglich\", file=sys.stderr)"
   ]
  },
  {
   "cell_type": "code",
   "execution_count": 31,
   "metadata": {},
   "outputs": [],
   "source": [
    "grammar5_xbar = \"\"\"\n",
    "    S -> NP VP\n",
    "    NP -> DET NOM | PROPN\n",
    "    NOM -> ADJ NOM | N\n",
    "    NOM -> NOM PP\n",
    "    DET -> \"der\" | \"die\" | \"das\" | \"dem\"\n",
    "    N -> \"Mann\" | \"Frau\" | \"Buch\" | \"Tisch\"\n",
    "    VP -> VERB\n",
    "    VERB -> V NP NP | V NP | V\n",
    "    VERB -> VERB PP\n",
    "    V -> \"gibt\" | \"schenkt\" | \"schläft\" | \"gefällt\" | \"kennt\"\n",
    "    ADJ -> \"kluge\" | \"schöne\" | \"dicke\"\n",
    "    PROPN -> \"Chomsky\" | \"Fritz\" | \"Marie\"\n",
    "    PP -> P NP\n",
    "    P -> \"neben\" | \"über\" | \"auf\"\n",
    "\"\"\""
   ]
  },
  {
   "cell_type": "code",
   "execution_count": 32,
   "metadata": {
    "scrolled": true
   },
   "outputs": [
    {
     "name": "stdout",
     "output_type": "stream",
     "text": [
      "Satz 1: der Mann schläft neben dem Buch\n",
      "                S                           \n",
      "     ┌──────────┴───────────┐                \n",
      "     │                      VP              \n",
      "     │                      │                \n",
      "     │                     VERB             \n",
      "     │          ┌───────────┴────┐           \n",
      "     │          │                PP         \n",
      "     │          │      ┌─────────┴───┐       \n",
      "     NP         │      │             NP     \n",
      " ┌───┴───┐      │      │         ┌───┴───┐   \n",
      " │      NOM    VERB    │         │      NOM \n",
      " │       │      │      │         │       │   \n",
      "DET      N      V      P        DET      N  \n",
      " │       │      │      │         │       │   \n",
      "der     Mann schläft neben      dem     Buch\n",
      "\n",
      "Satz 2: die Frau kennt das dicke Buch über Chomsky\n",
      "                    S                                      \n",
      "     ┌──────────────┴─────────┐                             \n",
      "     │                        VP                           \n",
      "     │                        │                             \n",
      "     │                       VERB                          \n",
      "     │                  ┌─────┴──────────────────┐          \n",
      "     │                 VERB                      │         \n",
      "     │         ┌────────┴─────┐                  │          \n",
      "     │         │              NP                 │         \n",
      "     │         │    ┌─────────┴────┐             │          \n",
      "     NP        │    │             NOM            PP        \n",
      " ┌───┴───┐     │    │         ┌────┴───┐    ┌────┴─────┐    \n",
      " │      NOM    │    │         │       NOM   │          NP  \n",
      " │       │     │    │         │        │    │          │    \n",
      "DET      N     V   DET       ADJ       N    P        PROPN \n",
      " │       │     │    │         │        │    │          │    \n",
      "die     Frau kennt das      dicke     Buch über     Chomsky\n",
      "\n",
      "                    S                                     \n",
      "     ┌──────────────┴────┐                                 \n",
      "     │                   VP                               \n",
      "     │                   │                                 \n",
      "     │                  VERB                              \n",
      "     │         ┌─────────┴────────┐                        \n",
      "     │         │                  NP                      \n",
      "     │         │    ┌─────────────┴────┐                   \n",
      "     │         │    │                 NOM                 \n",
      "     │         │    │         ┌────────┴────────┐          \n",
      "     NP        │    │        NOM                PP        \n",
      " ┌───┴───┐     │    │    ┌────┴───┐        ┌────┴─────┐    \n",
      " │      NOM    │    │    │       NOM       │          NP  \n",
      " │       │     │    │    │        │        │          │    \n",
      "DET      N     V   DET  ADJ       N        P        PROPN \n",
      " │       │     │    │    │        │        │          │    \n",
      "die     Frau kennt das dicke     Buch     über     Chomsky\n",
      "\n",
      "                    S                                 \n",
      "     ┌──────────────┴────┐                             \n",
      "     │                   VP                           \n",
      "     │                   │                             \n",
      "     │                  VERB                          \n",
      "     │         ┌─────────┴────┐                        \n",
      "     │         │              NP                      \n",
      "     │         │    ┌─────────┴────┐                   \n",
      "     │         │    │             NOM                 \n",
      "     │         │    │    ┌─────────┴───┐               \n",
      "     │         │    │    │            NOM             \n",
      "     │         │    │    │    ┌────────┴────┐          \n",
      "     NP        │    │    │    │             PP        \n",
      " ┌───┴───┐     │    │    │    │        ┌────┴─────┐    \n",
      " │      NOM    │    │    │   NOM       │          NP  \n",
      " │       │     │    │    │    │        │          │    \n",
      "DET      N     V   DET  ADJ   N        P        PROPN \n",
      " │       │     │    │    │    │        │          │    \n",
      "die     Frau kennt das dicke Buch     über     Chomsky\n",
      "\n",
      "Satz 3: die Frau schenkt dem Mann das Buch auf dem Tisch\n",
      "                              S                                  \n",
      "     ┌────────────────────────┴────┐                              \n",
      "     │                             VP                            \n",
      "     │                             │                              \n",
      "     │                            VERB                           \n",
      "     │                        ┌────┴─────────────────┐            \n",
      "     │                       VERB                    PP          \n",
      "     │          ┌─────────┬───┴─────────┐        ┌───┴───┐        \n",
      "     NP         │         NP            NP       │       NP      \n",
      " ┌───┴───┐      │     ┌───┴───┐    ┌────┴───┐    │   ┌───┴────┐   \n",
      " │      NOM     │     │      NOM   │       NOM   │   │       NOM \n",
      " │       │      │     │       │    │        │    │   │        │   \n",
      "DET      N      V    DET      N   DET       N    P  DET       N  \n",
      " │       │      │     │       │    │        │    │   │        │   \n",
      "die     Frau schenkt dem     Mann das      Buch auf dem     Tisch\n",
      "\n",
      "                              S                                  \n",
      "     ┌────────────────────────┴────┐                              \n",
      "     │                             VP                            \n",
      "     │                             │                              \n",
      "     │                            VERB                           \n",
      "     │          ┌─────────┬────────┴─────────┐                    \n",
      "     │          │         │                  NP                  \n",
      "     │          │         │        ┌─────────┴───┐                \n",
      "     │          │         │        │            NOM              \n",
      "     │          │         │        │    ┌────────┴───┐            \n",
      "     │          │         │        │    │            PP          \n",
      "     │          │         │        │    │    ┌───────┴───┐        \n",
      "     NP         │         NP       │    │    │           NP      \n",
      " ┌───┴───┐      │     ┌───┴───┐    │    │    │       ┌───┴────┐   \n",
      " │      NOM     │     │      NOM   │   NOM   │       │       NOM \n",
      " │       │      │     │       │    │    │    │       │        │   \n",
      "DET      N      V    DET      N   DET   N    P      DET       N  \n",
      " │       │      │     │       │    │    │    │       │        │   \n",
      "die     Frau schenkt dem     Mann das  Buch auf     dem     Tisch\n",
      "\n"
     ]
    }
   ],
   "source": [
    "test_grammar_chart_parser(grammar5_xbar, test_sentences5)"
   ]
  },
  {
   "cell_type": "markdown",
   "metadata": {},
   "source": [
    "---\n",
    "## Aufgabe 6: Fragen zu NLTK-Kapitel 8.3\n",
    "\n",
    "#### Lesen Sie das NLTK-Teilkapitel 8.3 (’Context Free Grammar’): http://www.nltk.org/book/ch08.html.\n",
    "\n",
    "#### Beantworten Sie insbesondere folgende Fragen:"
   ]
  },
  {
   "cell_type": "markdown",
   "metadata": {},
   "source": [
    "---\n",
    "### Aufgabe 6 a:"
   ]
  },
  {
   "cell_type": "code",
   "execution_count": 33,
   "metadata": {},
   "outputs": [
    {
     "data": {
      "application/vnd.jupyter.widget-view+json": {
       "model_id": "13e2725cc2034c2cac78717b80fc452b",
       "version_major": 2,
       "version_minor": 0
      },
      "text/plain": [
       "MultipleChoice(children=(HTML(value='<h4 style=\"font-size:14px;\">Wie ist im NLTK vorzugehen, wenn ein (wohlgef…"
      ]
     },
     "metadata": {},
     "output_type": "display_data"
    }
   ],
   "source": [
    "aufgabe(blatt4_6a)"
   ]
  },
  {
   "cell_type": "markdown",
   "metadata": {},
   "source": [
    "---\n",
    "### Aufgabe 6 b:"
   ]
  },
  {
   "cell_type": "code",
   "execution_count": 34,
   "metadata": {},
   "outputs": [
    {
     "data": {
      "application/vnd.jupyter.widget-view+json": {
       "model_id": "d0ffa1d669c64ca394e1cd8a5253ac34",
       "version_major": 2,
       "version_minor": 0
      },
      "text/plain": [
       "OpenTextfield(children=(HTML(value='<h4 style=\"font-size:14px;\">Wie können im NLTK die Regeln einer Grammatik …"
      ]
     },
     "metadata": {},
     "output_type": "display_data"
    }
   ],
   "source": [
    "aufgabe(blatt4_6b)"
   ]
  },
  {
   "cell_type": "markdown",
   "metadata": {},
   "source": [
    "---\n",
    "### Aufgabe 6 c:\n",
    "\n",
    "#### Geben Sie 2 NP-Phrasenstrukturregeln mit indirekter Rekursion an und beantworten Sie danach die folgende Frage!"
   ]
  },
  {
   "cell_type": "code",
   "execution_count": 35,
   "metadata": {},
   "outputs": [
    {
     "data": {
      "application/vnd.jupyter.widget-view+json": {
       "model_id": "a09c512e98154104b8a19678fd872888",
       "version_major": 2,
       "version_minor": 0
      },
      "text/plain": [
       "MultipleChoice(children=(HTML(value='<h4 style=\"font-size:14px;\">Welche Beispiele zeigen direkte Rekursion?</h…"
      ]
     },
     "metadata": {},
     "output_type": "display_data"
    }
   ],
   "source": [
    "aufgabe(blatt4_6c)"
   ]
  },
  {
   "cell_type": "markdown",
   "metadata": {},
   "source": [
    "---\n",
    "### Aufgabe 6 d:\n",
    "\n",
    "#### Geben Sie ein Beispiel für eine links- sowie eine rechtsrekursive NP-Phrasenstrukturregel an.\n",
    "\n",
    "#### Beantworten Sie auch die folgenden Fragen:"
   ]
  },
  {
   "cell_type": "code",
   "execution_count": 36,
   "metadata": {},
   "outputs": [
    {
     "data": {
      "application/vnd.jupyter.widget-view+json": {
       "model_id": "1fae4401c60340559a3dda322c65a1e7",
       "version_major": 2,
       "version_minor": 0
      },
      "text/plain": [
       "MultipleChoice(children=(HTML(value='<h4 style=\"font-size:14px;\">Welche Beispiele für Phrasenstrukturregeln si…"
      ]
     },
     "metadata": {},
     "output_type": "display_data"
    },
    {
     "data": {
      "application/vnd.jupyter.widget-view+json": {
       "model_id": "03c2ddb1908342828e26a992ed4ec426",
       "version_major": 2,
       "version_minor": 0
      },
      "text/plain": [
       "MultipleChoice(children=(HTML(value='<h4 style=\"font-size:14px;\">Welche Beispiele sind rechtsrekursiv?</h4>'),…"
      ]
     },
     "metadata": {},
     "output_type": "display_data"
    }
   ],
   "source": [
    "aufgabe(blatt4_6d)"
   ]
  }
 ],
 "metadata": {
  "kernelspec": {
   "display_name": "Python 3",
   "language": "python",
   "name": "python3"
  },
  "language_info": {
   "codemirror_mode": {
    "name": "ipython",
    "version": 3
   },
   "file_extension": ".py",
   "mimetype": "text/x-python",
   "name": "python",
   "nbconvert_exporter": "python",
   "pygments_lexer": "ipython3",
   "version": "3.7.4"
  },
  "widgets": {
   "application/vnd.jupyter.widget-state+json": {
    "state": {
     "01275ddd4368431a89b2cbdb9145a770": {
      "model_module": "@jupyter-widgets/controls",
      "model_module_version": "1.2.0",
      "model_name": "DescriptionStyleModel",
      "state": {
       "description_width": "initial"
      }
     },
     "0178d623601242d0aec59cac4c1c0df8": {
      "model_module": "@jupyter-widgets/controls",
      "model_module_version": "1.2.0",
      "model_name": "HTMLModel",
      "state": {
       "layout": "IPY_MODEL_2cec1af1dd21498e9c7a83bae8f1a204",
       "style": "IPY_MODEL_6033ba71b770442bb3b668819eb4b922",
       "value": "<i>Markieren Sie <ins>alle</ins> passenden Antworten: </i>"
      }
     },
     "01d4bf28da6f47ae8c124a6cd677e194": {
      "model_module": "@jupyter-widgets/controls",
      "model_module_version": "1.2.0",
      "model_name": "HTMLModel",
      "state": {
       "layout": "IPY_MODEL_2c1d2320c8d941d696ba6607a120c0cc",
       "style": "IPY_MODEL_250ae0b0a6b44c2f983a9b1bb670b23e",
       "value": "<i>Vervollständigen Sie die Listcomprehension, indem sie an den Stellen der Unterstriche die richtigen Funktionen einsetzen.</i>"
      }
     },
     "02253ec7c83a4c63b8a42ad33b85c644": {
      "model_module": "@jupyter-widgets/controls",
      "model_module_version": "1.2.0",
      "model_name": "CheckboxModel",
      "state": {
       "description": "PP -> P NP",
       "disabled": false,
       "layout": "IPY_MODEL_667d311b7d5e475ab64eab8afafbc9bb",
       "style": "IPY_MODEL_8ed5b23e0b76411eabbd2a0cf6d43b3f",
       "value": false
      }
     },
     "03c2ddb1908342828e26a992ed4ec426": {
      "model_module": "@jupyter-widgets/controls",
      "model_module_version": "1.2.0",
      "model_name": "VBoxModel",
      "state": {
       "children": [
        "IPY_MODEL_19033563f4af4de99177bdc11b0557eb",
        "IPY_MODEL_0178d623601242d0aec59cac4c1c0df8",
        "IPY_MODEL_8a8cf4b2c87e49c998fbe94d1f4e38b2",
        "IPY_MODEL_d82b8f34a10f4182ac030981326bbbd3"
       ],
       "layout": "IPY_MODEL_6bf75c876f554f62a586e8bc59874db9"
      }
     },
     "0877bd11fcab41c4899b5e01cfa26028": {
      "model_module": "@jupyter-widgets/controls",
      "model_module_version": "1.2.0",
      "model_name": "CheckboxModel",
      "state": {
       "description": "NP -> NP",
       "disabled": false,
       "layout": "IPY_MODEL_af5ebf87906f4e5292db4651835a246d",
       "style": "IPY_MODEL_b7f172b428ea4bee9ccfeb6d47c38408",
       "value": false
      }
     },
     "0934bcaebcaf409c9343c48337349e20": {
      "model_module": "@jupyter-widgets/controls",
      "model_module_version": "1.2.0",
      "model_name": "ButtonStyleModel",
      "state": {
       "button_color": "lightgreen"
      }
     },
     "0a4b2421a0cd4891b92b9bc175395285": {
      "model_module": "@jupyter-widgets/base",
      "model_module_version": "1.0.0",
      "model_name": "LayoutModel",
      "state": {}
     },
     "0b76ebc75a634d309bbac4574eb43b5f": {
      "model_module": "@jupyter-widgets/base",
      "model_module_version": "1.0.0",
      "model_name": "LayoutModel",
      "state": {
       "width": "600px"
      }
     },
     "0c01eb3a1ba54425b621af892ccd66de": {
      "model_module": "@jupyter-widgets/controls",
      "model_module_version": "1.2.0",
      "model_name": "DescriptionStyleModel",
      "state": {
       "description_width": "initial"
      }
     },
     "0c14c7c2ffd44a669c50e7f38daeeb7b": {
      "model_module": "@jupyter-widgets/base",
      "model_module_version": "1.0.0",
      "model_name": "LayoutModel",
      "state": {
       "justify_content": "center"
      }
     },
     "0e5e699a28744a2db14d102ae3ecbbe0": {
      "model_module": "@jupyter-widgets/controls",
      "model_module_version": "1.2.0",
      "model_name": "DescriptionStyleModel",
      "state": {
       "description_width": "initial"
      }
     },
     "0f7b16451c7a4da8a940d419842909ff": {
      "model_module": "@jupyter-widgets/base",
      "model_module_version": "1.0.0",
      "model_name": "LayoutModel",
      "state": {
       "width": "600px"
      }
     },
     "10b9699bbf1f415b87dd6a0d7ebaa54a": {
      "model_module": "@jupyter-widgets/base",
      "model_module_version": "1.0.0",
      "model_name": "LayoutModel",
      "state": {
       "width": "600px"
      }
     },
     "10d631c5e8b4405e88743cc4aec7fe2f": {
      "model_module": "@jupyter-widgets/controls",
      "model_module_version": "1.2.0",
      "model_name": "ButtonStyleModel",
      "state": {}
     },
     "12f9ca6c76b84c3b9ed1160732eef675": {
      "model_module": "@jupyter-widgets/controls",
      "model_module_version": "1.2.0",
      "model_name": "VBoxModel",
      "state": {
       "children": [
        "IPY_MODEL_7c6803cb2b714a7892a3cfc5f1f25225",
        "IPY_MODEL_51b6bee37cf5462dbfb13a69a21fc1be",
        "IPY_MODEL_3cc80c1c5a854a2aaca9d70ee52d1e1d",
        "IPY_MODEL_e805433a7d6143af92b28fd5b6c45354"
       ],
       "layout": "IPY_MODEL_d22b559bbbfc4af3b7b94a3517261d4f"
      }
     },
     "13e2725cc2034c2cac78717b80fc452b": {
      "model_module": "@jupyter-widgets/controls",
      "model_module_version": "1.2.0",
      "model_name": "VBoxModel",
      "state": {
       "children": [
        "IPY_MODEL_76463e58468c4c0696b264604ed9e351",
        "IPY_MODEL_9178a8ea690c48339693e81b3165cffa",
        "IPY_MODEL_f2e2fc83f06b472688cf7d7aa8f9d583",
        "IPY_MODEL_c4d08aeda779441d8184caa1d9265baf"
       ],
       "layout": "IPY_MODEL_3b00f8c5455f4bb9b727757eee400a24"
      }
     },
     "14c14e545baa461e82b3369195e59f76": {
      "model_module": "@jupyter-widgets/controls",
      "model_module_version": "1.2.0",
      "model_name": "HTMLModel",
      "state": {
       "layout": "IPY_MODEL_ed78e0ba48d843ffadb6e17d3031bcc4",
       "style": "IPY_MODEL_ef62f2f204334e218a1e9c87e4614403",
       "value": "<h4 style=\"font-size:14px;\">Welche Beispiele für Phrasenstrukturregeln sind linksrekursiv?</h4>"
      }
     },
     "15af4d08c16e4e5dabb97edaf5f5c5e9": {
      "model_module": "@jupyter-widgets/controls",
      "model_module_version": "1.2.0",
      "model_name": "HTMLModel",
      "state": {
       "layout": "IPY_MODEL_ccac7681f2ad4079b25116bb0ac16f05",
       "style": "IPY_MODEL_f6b68d82ae1c42ba8f433be30255bb1c",
       "value": "<h4 style=\"font-size:14px;\">Wie können im NLTK die Regeln einer Grammatik ausgegeben werden?</h4>"
      }
     },
     "1659c2d749c747d9bc3a341b2fe602fa": {
      "model_module": "@jupyter-widgets/controls",
      "model_module_version": "1.2.0",
      "model_name": "CheckboxModel",
      "state": {
       "description": "Grammatik neu einlesen",
       "disabled": false,
       "layout": "IPY_MODEL_c6b41c9cf22740beab5320471841ba05",
       "style": "IPY_MODEL_dc93c82465fd4d6686237a167fc382a9",
       "value": false
      }
     },
     "17297b2f6a5043c2baed8ab64e9884c6": {
      "model_module": "@jupyter-widgets/base",
      "model_module_version": "1.0.0",
      "model_name": "LayoutModel",
      "state": {}
     },
     "175d99ce81e942a49237f5d6f63053f9": {
      "model_module": "@jupyter-widgets/controls",
      "model_module_version": "1.2.0",
      "model_name": "TextareaModel",
      "state": {
       "layout": "IPY_MODEL_c7b32012cdda425198a8438eddf97d11",
       "placeholder": "Type something",
       "style": "IPY_MODEL_4389131095d2472ca1d6b4ffdea3d613",
       "value": "for p in grammar1.productions(): print(p)"
      }
     },
     "18067d98025b42e6b6e624a1a168930e": {
      "model_module": "@jupyter-widgets/controls",
      "model_module_version": "1.2.0",
      "model_name": "DescriptionStyleModel",
      "state": {
       "description_width": ""
      }
     },
     "19033563f4af4de99177bdc11b0557eb": {
      "model_module": "@jupyter-widgets/controls",
      "model_module_version": "1.2.0",
      "model_name": "HTMLModel",
      "state": {
       "layout": "IPY_MODEL_c3398f63a5c44a75a7230e633e625e61",
       "style": "IPY_MODEL_5d79eb75b0da44fe86fdb26a5ced5a17",
       "value": "<h4 style=\"font-size:14px;\">Welche Beispiele sind rechtsrekursiv?</h4>"
      }
     },
     "1a378f5e923344d1bb987aa5bad9254c": {
      "model_module": "@jupyter-widgets/controls",
      "model_module_version": "1.2.0",
      "model_name": "VBoxModel",
      "state": {
       "children": [
        "IPY_MODEL_c94bcdae920d4b359709d160e8f0e8c4",
        "IPY_MODEL_9de18f630831423ca93da73e30704097",
        "IPY_MODEL_7707c6a10e834621824d2e5f9a8e484c",
        "IPY_MODEL_7f98e224040a4977abbb4bf6bd400c4b"
       ],
       "layout": "IPY_MODEL_17297b2f6a5043c2baed8ab64e9884c6"
      }
     },
     "1a79f62f8e6d4038805d2d01831c2a44": {
      "model_module": "@jupyter-widgets/controls",
      "model_module_version": "1.2.0",
      "model_name": "CheckboxModel",
      "state": {
       "description": "NOM -> ADJ NOM",
       "disabled": false,
       "layout": "IPY_MODEL_deed9ee60f8d455f8c7827734443db99",
       "style": "IPY_MODEL_9c9888e798e64c45b9ef2f470ef26753",
       "value": false
      }
     },
     "1b57e024341b4719987295b51ed9d3a9": {
      "model_module": "@jupyter-widgets/controls",
      "model_module_version": "1.2.0",
      "model_name": "HTMLModel",
      "state": {
       "layout": "IPY_MODEL_dd31bd42d09d4b97b002d3217f540a49",
       "style": "IPY_MODEL_f9bc7c8c7e064fcb8de5a5b7f1c3fde9",
       "value": "<i>Markieren Sie <ins>alle</ins> passenden Antworten: </i>"
      }
     },
     "1b7842b62a664b08baeb039ff7b28688": {
      "model_module": "@jupyter-widgets/controls",
      "model_module_version": "1.2.0",
      "model_name": "ButtonModel",
      "state": {
       "description": "Richtig!",
       "layout": "IPY_MODEL_f56cb2283350442b9d0c4cd35fb04bfa",
       "style": "IPY_MODEL_733481b354974ce098eebab76849fc9d"
      }
     },
     "1ea1fde16e5a4d4cacf1e1240ab0bef2": {
      "model_module": "@jupyter-widgets/controls",
      "model_module_version": "1.2.0",
      "model_name": "DescriptionStyleModel",
      "state": {
       "description_width": ""
      }
     },
     "1ef5922219c2469b87cd9db70c976ec1": {
      "model_module": "@jupyter-widgets/controls",
      "model_module_version": "1.2.0",
      "model_name": "DescriptionStyleModel",
      "state": {
       "description_width": ""
      }
     },
     "1f707ee4393c42adba2d9ecd4d2f4d42": {
      "model_module": "@jupyter-widgets/controls",
      "model_module_version": "1.2.0",
      "model_name": "DescriptionStyleModel",
      "state": {
       "description_width": ""
      }
     },
     "1fae4401c60340559a3dda322c65a1e7": {
      "model_module": "@jupyter-widgets/controls",
      "model_module_version": "1.2.0",
      "model_name": "VBoxModel",
      "state": {
       "children": [
        "IPY_MODEL_14c14e545baa461e82b3369195e59f76",
        "IPY_MODEL_f2cfad4af7d34a72b6bd1b56f417d95e",
        "IPY_MODEL_b684768a9c9a4745906d49beef40990a",
        "IPY_MODEL_da30938c5e144d3cb373d65829e4639b"
       ],
       "layout": "IPY_MODEL_a49fad07030d467e820eef1328ae374d"
      }
     },
     "20036a8f67b3427aa606723affb249d9": {
      "model_module": "@jupyter-widgets/base",
      "model_module_version": "1.0.0",
      "model_name": "LayoutModel",
      "state": {}
     },
     "200ed718975647ccb8f9980cedfe34b0": {
      "model_module": "@jupyter-widgets/controls",
      "model_module_version": "1.2.0",
      "model_name": "DescriptionStyleModel",
      "state": {
       "description_width": ""
      }
     },
     "2075927a69f3442e9722c84907fd0b9f": {
      "model_module": "@jupyter-widgets/controls",
      "model_module_version": "1.2.0",
      "model_name": "DescriptionStyleModel",
      "state": {
       "description_width": ""
      }
     },
     "20f3d2b38a0f48d2b195b6745ecc65f1": {
      "model_module": "@jupyter-widgets/controls",
      "model_module_version": "1.2.0",
      "model_name": "ButtonModel",
      "state": {
       "description": "Korrekt?",
       "layout": "IPY_MODEL_cb8e9af732514cba9a01042822b0a7f1",
       "style": "IPY_MODEL_f1b2edfef16f43e8a3e746d2cbc913bb"
      }
     },
     "20fbdfb0b8324f18abda57a3dff5d393": {
      "model_module": "@jupyter-widgets/base",
      "model_module_version": "1.0.0",
      "model_name": "LayoutModel",
      "state": {
       "width": "250px"
      }
     },
     "226bc8372ab4426d901fe9dcfe6a5946": {
      "model_module": "@jupyter-widgets/base",
      "model_module_version": "1.0.0",
      "model_name": "LayoutModel",
      "state": {
       "width": "600px"
      }
     },
     "2308a99fb49d4dafabf5b89254139879": {
      "model_module": "@jupyter-widgets/controls",
      "model_module_version": "1.2.0",
      "model_name": "DescriptionStyleModel",
      "state": {
       "description_width": "initial"
      }
     },
     "237bbb652de24f209299ac17c1ce36cd": {
      "model_module": "@jupyter-widgets/controls",
      "model_module_version": "1.2.0",
      "model_name": "VBoxModel",
      "state": {
       "children": [
        "IPY_MODEL_a913ed55450a43d0a05acc5408707aae",
        "IPY_MODEL_ff43b219efc04e07a9222e7bb1838882",
        "IPY_MODEL_02253ec7c83a4c63b8a42ad33b85c644"
       ],
       "layout": "IPY_MODEL_2e1dc25e9a4c43eeb16a44d6fe844ea7"
      }
     },
     "250ae0b0a6b44c2f983a9b1bb670b23e": {
      "model_module": "@jupyter-widgets/controls",
      "model_module_version": "1.2.0",
      "model_name": "DescriptionStyleModel",
      "state": {
       "description_width": ""
      }
     },
     "256fbae5726e44d4abcc40d73ada3c0c": {
      "model_module": "@jupyter-widgets/controls",
      "model_module_version": "1.2.0",
      "model_name": "DescriptionStyleModel",
      "state": {
       "description_width": ""
      }
     },
     "25cde0b134b447558b2f6e667de67d19": {
      "model_module": "@jupyter-widgets/controls",
      "model_module_version": "1.2.0",
      "model_name": "HTMLModel",
      "state": {
       "layout": "IPY_MODEL_2a9bd084ab0345ac949c29041751c275",
       "style": "IPY_MODEL_e8b9706faba64a4e80cc5f8c3762dc95",
       "value": "<h4 style=\"font-size:14px;\">Welche Beispiele für Phrasenstrukturregeln sind linksrekursiv?</h4>"
      }
     },
     "266e239e2cef434d8e6dfa80de229e41": {
      "model_module": "@jupyter-widgets/controls",
      "model_module_version": "1.2.0",
      "model_name": "DescriptionStyleModel",
      "state": {
       "description_width": "initial"
      }
     },
     "26acea37e9c9405fa54f9c4062f8021e": {
      "model_module": "@jupyter-widgets/controls",
      "model_module_version": "1.2.0",
      "model_name": "DescriptionStyleModel",
      "state": {
       "description_width": "initial"
      }
     },
     "26c21909d90d4c13ba1603d33ed76856": {
      "model_module": "@jupyter-widgets/base",
      "model_module_version": "1.0.0",
      "model_name": "LayoutModel",
      "state": {}
     },
     "271bf387d1dc499184e376b5942aa8a0": {
      "model_module": "@jupyter-widgets/controls",
      "model_module_version": "1.2.0",
      "model_name": "VBoxModel",
      "state": {
       "children": [
        "IPY_MODEL_50523b9b27344ebf9eb89606aff07608",
        "IPY_MODEL_445415ab63e44026bb1870abbd9ed185",
        "IPY_MODEL_7bc5aaea67f3407db651434cda1d4528"
       ],
       "layout": "IPY_MODEL_b40dc5a5c320407ba8684e190769e35d"
      }
     },
     "27afc1867cfb47728267dcd08fcf7227": {
      "model_module": "@jupyter-widgets/base",
      "model_module_version": "1.0.0",
      "model_name": "LayoutModel",
      "state": {
       "width": "150px"
      }
     },
     "2827256a5d2f403caf5bd1a776755aa4": {
      "model_module": "@jupyter-widgets/base",
      "model_module_version": "1.0.0",
      "model_name": "LayoutModel",
      "state": {}
     },
     "28fd91c11a784f6c89984ce0d6f3e5aa": {
      "model_module": "@jupyter-widgets/controls",
      "model_module_version": "1.2.0",
      "model_name": "HTMLModel",
      "state": {
       "layout": "IPY_MODEL_bb8ce4655b024b8a9c03f8257a4c51e8",
       "style": "IPY_MODEL_51b6c86b97314235a7a67b7220103a6d",
       "value": "<i>Markieren Sie <ins>alle</ins> passenden Antworten: </i>"
      }
     },
     "29a4f3fc14a549b39907343ecdbae77a": {
      "model_module": "@jupyter-widgets/controls",
      "model_module_version": "1.2.0",
      "model_name": "HTMLModel",
      "state": {
       "layout": "IPY_MODEL_800dcbd0aed6486ca5895e46251edc24",
       "style": "IPY_MODEL_ae6785ae407a41df8708cd35862411f4",
       "value": "<i>Wählen Sie die <ins>eine</ins> korrekte Antwort aus: </i>"
      }
     },
     "2a9bd084ab0345ac949c29041751c275": {
      "model_module": "@jupyter-widgets/base",
      "model_module_version": "1.0.0",
      "model_name": "LayoutModel",
      "state": {}
     },
     "2ae58d024b8245d0bc8dc8fd636ac814": {
      "model_module": "@jupyter-widgets/base",
      "model_module_version": "1.0.0",
      "model_name": "LayoutModel",
      "state": {
       "width": "600px"
      }
     },
     "2b3e386733284320a38da621e9977311": {
      "model_module": "@jupyter-widgets/base",
      "model_module_version": "1.0.0",
      "model_name": "LayoutModel",
      "state": {
       "width": "150px"
      }
     },
     "2c1d2320c8d941d696ba6607a120c0cc": {
      "model_module": "@jupyter-widgets/base",
      "model_module_version": "1.0.0",
      "model_name": "LayoutModel",
      "state": {}
     },
     "2c6678e403b5454c8849ee58fa13d4ec": {
      "model_module": "@jupyter-widgets/base",
      "model_module_version": "1.0.0",
      "model_name": "LayoutModel",
      "state": {
       "width": "250px"
      }
     },
     "2cae34cce5354059af9dc442c7bae30f": {
      "model_module": "@jupyter-widgets/controls",
      "model_module_version": "1.2.0",
      "model_name": "DescriptionStyleModel",
      "state": {
       "description_width": ""
      }
     },
     "2cbc844664e54d95aada0028246004e9": {
      "model_module": "@jupyter-widgets/controls",
      "model_module_version": "1.2.0",
      "model_name": "DescriptionStyleModel",
      "state": {
       "description_width": "initial"
      }
     },
     "2cec1af1dd21498e9c7a83bae8f1a204": {
      "model_module": "@jupyter-widgets/base",
      "model_module_version": "1.0.0",
      "model_name": "LayoutModel",
      "state": {
       "justify_content": "center"
      }
     },
     "2cef78228625419db72bfef0ffdc9a74": {
      "model_module": "@jupyter-widgets/controls",
      "model_module_version": "1.2.0",
      "model_name": "DescriptionStyleModel",
      "state": {
       "description_width": ""
      }
     },
     "2cfb7ec0961e4209a1d9f7a0afc2961f": {
      "model_module": "@jupyter-widgets/base",
      "model_module_version": "1.0.0",
      "model_name": "LayoutModel",
      "state": {
       "justify_content": "center"
      }
     },
     "2e1dc25e9a4c43eeb16a44d6fe844ea7": {
      "model_module": "@jupyter-widgets/base",
      "model_module_version": "1.0.0",
      "model_name": "LayoutModel",
      "state": {}
     },
     "2e792c63d9b443d48e01f0becb2e806b": {
      "model_module": "@jupyter-widgets/controls",
      "model_module_version": "1.2.0",
      "model_name": "CheckboxModel",
      "state": {
       "description": "NOM -> NOM PP",
       "disabled": false,
       "layout": "IPY_MODEL_a92d57c0246e45b8a1ffa35bec512295",
       "style": "IPY_MODEL_f26748c3e09344609624a3fb6cd39b3b",
       "value": true
      }
     },
     "2f72bcbba5824b1aa86a6ac4844c3ffb": {
      "model_module": "@jupyter-widgets/controls",
      "model_module_version": "1.2.0",
      "model_name": "ButtonStyleModel",
      "state": {
       "button_color": "lightgreen"
      }
     },
     "2fe48555b83f4a53aaa6c34e15ab7860": {
      "model_module": "@jupyter-widgets/controls",
      "model_module_version": "1.2.0",
      "model_name": "ButtonModel",
      "state": {
       "description": "Korrekt?",
       "layout": "IPY_MODEL_7c262a10d3084d9988a7cadb19a38528",
       "style": "IPY_MODEL_6ed4ab0818594821b1471d8a70e438f5"
      }
     },
     "3042ca9ceed64ccda121d7da5077e029": {
      "model_module": "@jupyter-widgets/controls",
      "model_module_version": "1.2.0",
      "model_name": "CheckboxModel",
      "state": {
       "description": "<code>trace</code>-Output aktivieren und überprüfen",
       "disabled": false,
       "layout": "IPY_MODEL_6196235146a645a0b336e4a7707a74de",
       "style": "IPY_MODEL_fd3c0bddc66946b39b5b27bdded87eb9",
       "value": false
      }
     },
     "317c4d931ecf46f9a459f14965336374": {
      "model_module": "@jupyter-widgets/controls",
      "model_module_version": "1.2.0",
      "model_name": "CheckboxModel",
      "state": {
       "description": "anderen Parser verwenden",
       "disabled": false,
       "layout": "IPY_MODEL_96957ab215e7429eb49812b0dcda38bd",
       "style": "IPY_MODEL_58948815eb95465ab919fb12fe75bca9",
       "value": false
      }
     },
     "32131b4376c84b0db01d264125d2417c": {
      "model_module": "@jupyter-widgets/base",
      "model_module_version": "1.0.0",
      "model_name": "LayoutModel",
      "state": {}
     },
     "3314a27328174fc7b1890f24fd8c333e": {
      "model_module": "@jupyter-widgets/controls",
      "model_module_version": "1.2.0",
      "model_name": "CheckboxModel",
      "state": {
       "description": "<code>trace</code>-Output aktivieren und überprüfen",
       "disabled": false,
       "layout": "IPY_MODEL_91540a747ed34c8ca44449b0c68a6f45",
       "style": "IPY_MODEL_c81a98efd0a04cfeabd0430f2a0ae72e",
       "value": true
      }
     },
     "334b1d89c1a54292b3c55f61a68138ea": {
      "model_module": "@jupyter-widgets/controls",
      "model_module_version": "1.2.0",
      "model_name": "DescriptionStyleModel",
      "state": {
       "description_width": "initial"
      }
     },
     "33a03329004b4f46a60170020778d132": {
      "model_module": "@jupyter-widgets/base",
      "model_module_version": "1.0.0",
      "model_name": "LayoutModel",
      "state": {}
     },
     "33b010bcf340419dace05f48080fd62a": {
      "model_module": "@jupyter-widgets/base",
      "model_module_version": "1.0.0",
      "model_name": "LayoutModel",
      "state": {}
     },
     "3537ba765a8d48b4946b101855f9497d": {
      "model_module": "@jupyter-widgets/controls",
      "model_module_version": "1.2.0",
      "model_name": "VBoxModel",
      "state": {
       "children": [
        "IPY_MODEL_def95c5d20da45e58691c1f028bf53da",
        "IPY_MODEL_919e2a21264344b29443b3899f806ff9",
        "IPY_MODEL_271bf387d1dc499184e376b5942aa8a0",
        "IPY_MODEL_ef218a6b84ab44cc89009ce4e397524c"
       ],
       "layout": "IPY_MODEL_4c309693dc8a4a6987fdf24b5d75d822"
      }
     },
     "3546c0e012b64a3c8d3b7d8d25285ce9": {
      "model_module": "@jupyter-widgets/controls",
      "model_module_version": "1.2.0",
      "model_name": "CheckboxModel",
      "state": {
       "description": "PP -> P NP",
       "disabled": false,
       "layout": "IPY_MODEL_d09c0e7c92a741458564e9701768e413",
       "style": "IPY_MODEL_0c01eb3a1ba54425b621af892ccd66de",
       "value": false
      }
     },
     "37e7eea6b9004eb18c60295a2499d9b8": {
      "model_module": "@jupyter-widgets/base",
      "model_module_version": "1.0.0",
      "model_name": "LayoutModel",
      "state": {
       "width": "600px"
      }
     },
     "39b3e6087ae0498a8baefbe3cd71c2e7": {
      "model_module": "@jupyter-widgets/base",
      "model_module_version": "1.0.0",
      "model_name": "LayoutModel",
      "state": {}
     },
     "3b00f8c5455f4bb9b727757eee400a24": {
      "model_module": "@jupyter-widgets/base",
      "model_module_version": "1.0.0",
      "model_name": "LayoutModel",
      "state": {}
     },
     "3b590dda456c4846bd0de4bf31d8fece": {
      "model_module": "@jupyter-widgets/base",
      "model_module_version": "1.0.0",
      "model_name": "LayoutModel",
      "state": {
       "width": "600px"
      }
     },
     "3c7aeddfd6e440e6a14bd7ab4e9ddada": {
      "model_module": "@jupyter-widgets/controls",
      "model_module_version": "1.2.0",
      "model_name": "VBoxModel",
      "state": {
       "children": [
        "IPY_MODEL_25cde0b134b447558b2f6e667de67d19",
        "IPY_MODEL_1b57e024341b4719987295b51ed9d3a9",
        "IPY_MODEL_e8d5018022704c9da772fd230b10cec7",
        "IPY_MODEL_549525a8e0ae4d2bafc8773a32f02551"
       ],
       "layout": "IPY_MODEL_6652fbb091364b71a8d4b249fc66f783"
      }
     },
     "3cc80c1c5a854a2aaca9d70ee52d1e1d": {
      "model_module": "@jupyter-widgets/controls",
      "model_module_version": "1.2.0",
      "model_name": "TextareaModel",
      "state": {
       "layout": "IPY_MODEL_c31b6af7992547dc9db2133e2317423e",
       "placeholder": "Type something",
       "style": "IPY_MODEL_f197b2e14d03495bbd9c0a4a0f07920d",
       "value": "for p in grammar1.________(): _______(p)"
      }
     },
     "3dacd05d664044458010f9fe99eb4ce5": {
      "model_module": "@jupyter-widgets/controls",
      "model_module_version": "1.2.0",
      "model_name": "ButtonModel",
      "state": {
       "description": "Lösung zeigen",
       "layout": "IPY_MODEL_27afc1867cfb47728267dcd08fcf7227",
       "style": "IPY_MODEL_74c7f22163de48f09c6eac8ece8edc61"
      }
     },
     "3db382e904b449afacae3339211e94f6": {
      "model_module": "@jupyter-widgets/controls",
      "model_module_version": "1.2.0",
      "model_name": "DescriptionStyleModel",
      "state": {
       "description_width": ""
      }
     },
     "3dbb1a7faa454a168141607ae2b89751": {
      "model_module": "@jupyter-widgets/controls",
      "model_module_version": "1.2.0",
      "model_name": "DescriptionStyleModel",
      "state": {
       "description_width": ""
      }
     },
     "3e6ec4da4eb9447d9e93ec7733cb5bd0": {
      "model_module": "@jupyter-widgets/base",
      "model_module_version": "1.0.0",
      "model_name": "LayoutModel",
      "state": {}
     },
     "3ebb6ffddaf34b3b95b5eed7b7bff35f": {
      "model_module": "@jupyter-widgets/base",
      "model_module_version": "1.0.0",
      "model_name": "LayoutModel",
      "state": {
       "width": "600px"
      }
     },
     "3edef88083ba4f0fa1ea21c49adf1caa": {
      "model_module": "@jupyter-widgets/controls",
      "model_module_version": "1.2.0",
      "model_name": "DescriptionStyleModel",
      "state": {
       "description_width": "initial"
      }
     },
     "3f17186e8a1e47ca8d8377a504c525c8": {
      "model_module": "@jupyter-widgets/controls",
      "model_module_version": "1.2.0",
      "model_name": "DescriptionStyleModel",
      "state": {
       "description_width": "initial"
      }
     },
     "3f3262b5008a4804888376582d221117": {
      "model_module": "@jupyter-widgets/controls",
      "model_module_version": "1.2.0",
      "model_name": "HTMLModel",
      "state": {
       "layout": "IPY_MODEL_bc5d19ee869a47f4b9a49e4019484de5",
       "style": "IPY_MODEL_200ed718975647ccb8f9980cedfe34b0",
       "value": "<h4 style=\"font-size:14px;\">Welche Beispiele zeigen direkte Rekursion?</h4>"
      }
     },
     "3f3c8b2426e94931a0f7668dfc6ad587": {
      "model_module": "@jupyter-widgets/controls",
      "model_module_version": "1.2.0",
      "model_name": "HTMLModel",
      "state": {
       "layout": "IPY_MODEL_c05adb9ee6a34a5cad2ada0bbd32a1a3",
       "style": "IPY_MODEL_256fbae5726e44d4abcc40d73ada3c0c",
       "value": "<i>Vervollständigen Sie die Listcomprehension, indem sie an den Stellen der Unterstriche die richtigen Funktionen einsetzen.</i>"
      }
     },
     "3fa7dd0cd87a4a2da5f03e88a6992784": {
      "model_module": "@jupyter-widgets/controls",
      "model_module_version": "1.2.0",
      "model_name": "DescriptionStyleModel",
      "state": {
       "description_width": ""
      }
     },
     "3fc92fdd468f47a6a1b10c3d22fcc437": {
      "model_module": "@jupyter-widgets/controls",
      "model_module_version": "1.2.0",
      "model_name": "VBoxModel",
      "state": {
       "children": [
        "IPY_MODEL_bc48a309c45e4f64a61c7b85e8c1ef23",
        "IPY_MODEL_01d4bf28da6f47ae8c124a6cd677e194",
        "IPY_MODEL_7b9ce1d03f0c4da895772d3fed2e3892",
        "IPY_MODEL_9fdaa7af6179404593a022bd42ffecdf"
       ],
       "layout": "IPY_MODEL_4e273ba6048e448ba92ab7fbcfc4b44b"
      }
     },
     "4123e928f2f242eabb0ef34399ece078": {
      "model_module": "@jupyter-widgets/base",
      "model_module_version": "1.0.0",
      "model_name": "LayoutModel",
      "state": {
       "width": "150px"
      }
     },
     "4381689343dc4ec4ab10b62e5c6c6a85": {
      "model_module": "@jupyter-widgets/base",
      "model_module_version": "1.0.0",
      "model_name": "LayoutModel",
      "state": {
       "width": "600px"
      }
     },
     "43884c4aadd540e09fe3914af20a4e8f": {
      "model_module": "@jupyter-widgets/controls",
      "model_module_version": "1.2.0",
      "model_name": "CheckboxModel",
      "state": {
       "description": "NOM -> ADJ NOM",
       "disabled": false,
       "layout": "IPY_MODEL_5272a4cb597f4ecf81783511a86745b0",
       "style": "IPY_MODEL_b4a30ab6490347fb8a5949de23c4ae4b",
       "value": false
      }
     },
     "4389131095d2472ca1d6b4ffdea3d613": {
      "model_module": "@jupyter-widgets/controls",
      "model_module_version": "1.2.0",
      "model_name": "DescriptionStyleModel",
      "state": {
       "description_width": ""
      }
     },
     "43b30d171b1b4ecebea7a0ada3d9b198": {
      "model_module": "@jupyter-widgets/controls",
      "model_module_version": "1.2.0",
      "model_name": "DescriptionStyleModel",
      "state": {
       "description_width": "initial"
      }
     },
     "43fd105188f54b49adc5d63c6003e647": {
      "model_module": "@jupyter-widgets/controls",
      "model_module_version": "1.2.0",
      "model_name": "ButtonModel",
      "state": {
       "description": "Korrekt?",
       "layout": "IPY_MODEL_4a2a78f749ed41d98a2ecdb65e45d021",
       "style": "IPY_MODEL_2f72bcbba5824b1aa86a6ac4844c3ffb"
      }
     },
     "445415ab63e44026bb1870abbd9ed185": {
      "model_module": "@jupyter-widgets/controls",
      "model_module_version": "1.2.0",
      "model_name": "CheckboxModel",
      "state": {
       "description": "NOM -> NOM PP",
       "disabled": false,
       "layout": "IPY_MODEL_7efc3634c43d4f2b98809cc7a6088296",
       "style": "IPY_MODEL_84c9fd7204e5435e8f57ca754cae4aef",
       "value": false
      }
     },
     "449dbec0435d4b5cb1ba4ad459c69a70": {
      "model_module": "@jupyter-widgets/controls",
      "model_module_version": "1.2.0",
      "model_name": "DescriptionStyleModel",
      "state": {
       "description_width": ""
      }
     },
     "44bdd08dbe014558a7f17e2602403c2f": {
      "model_module": "@jupyter-widgets/controls",
      "model_module_version": "1.2.0",
      "model_name": "DescriptionStyleModel",
      "state": {
       "description_width": ""
      }
     },
     "459ca35bbc3e473598bca52cbebe9940": {
      "model_module": "@jupyter-widgets/controls",
      "model_module_version": "1.2.0",
      "model_name": "DescriptionStyleModel",
      "state": {
       "description_width": ""
      }
     },
     "4607edda68994d938993b35397e59e55": {
      "model_module": "@jupyter-widgets/controls",
      "model_module_version": "1.2.0",
      "model_name": "DescriptionStyleModel",
      "state": {
       "description_width": "initial"
      }
     },
     "466aea6ee51d4e33ba024884cde66128": {
      "model_module": "@jupyter-widgets/controls",
      "model_module_version": "1.2.0",
      "model_name": "ButtonModel",
      "state": {
       "description": "Lösung zeigen",
       "layout": "IPY_MODEL_4123e928f2f242eabb0ef34399ece078",
       "style": "IPY_MODEL_93216e72f2ec478eb2890023d5609ba3"
      }
     },
     "46ad1cd8824e4dc79e4279438b0ade81": {
      "model_module": "@jupyter-widgets/controls",
      "model_module_version": "1.2.0",
      "model_name": "DescriptionStyleModel",
      "state": {
       "description_width": ""
      }
     },
     "477d604fcc6242328b5ae51baa7e95b9": {
      "model_module": "@jupyter-widgets/base",
      "model_module_version": "1.0.0",
      "model_name": "LayoutModel",
      "state": {}
     },
     "4a2a78f749ed41d98a2ecdb65e45d021": {
      "model_module": "@jupyter-widgets/base",
      "model_module_version": "1.0.0",
      "model_name": "LayoutModel",
      "state": {
       "width": "250px"
      }
     },
     "4af3859d8dde415a8021b6f5b24ffb6b": {
      "model_module": "@jupyter-widgets/base",
      "model_module_version": "1.0.0",
      "model_name": "LayoutModel",
      "state": {
       "width": "600px"
      }
     },
     "4b006ba8d55b4112b1857c164af59e2f": {
      "model_module": "@jupyter-widgets/controls",
      "model_module_version": "1.2.0",
      "model_name": "DescriptionStyleModel",
      "state": {
       "description_width": "initial"
      }
     },
     "4becbed4d2a641179d8cec1d2ac73cfd": {
      "model_module": "@jupyter-widgets/controls",
      "model_module_version": "1.2.0",
      "model_name": "ButtonModel",
      "state": {
       "description": "Korrekt?",
       "layout": "IPY_MODEL_a0a1817ecd474dcf940660cb0cb53b73",
       "style": "IPY_MODEL_d4c33aecaddd4f4b8d51c7142361c576"
      }
     },
     "4c1350df070f4d809c98ccc21901372b": {
      "model_module": "@jupyter-widgets/controls",
      "model_module_version": "1.2.0",
      "model_name": "CheckboxModel",
      "state": {
       "description": "NOM -> ADJ NOM",
       "disabled": false,
       "layout": "IPY_MODEL_4af3859d8dde415a8021b6f5b24ffb6b",
       "style": "IPY_MODEL_e55a77a7342a4f518d15132e01d4b1f7",
       "value": true
      }
     },
     "4c20735104de4f378fef6f1e5292d1bc": {
      "model_module": "@jupyter-widgets/controls",
      "model_module_version": "1.2.0",
      "model_name": "CheckboxModel",
      "state": {
       "description": "PP -> P NP",
       "disabled": false,
       "layout": "IPY_MODEL_cca215e59a87491fa94509b2cc3a2320",
       "style": "IPY_MODEL_2308a99fb49d4dafabf5b89254139879",
       "value": false
      }
     },
     "4c3043de8d1d43a381c61a1deb775485": {
      "model_module": "@jupyter-widgets/controls",
      "model_module_version": "1.2.0",
      "model_name": "HTMLModel",
      "state": {
       "layout": "IPY_MODEL_bac49e41b0584f108d55c3e65772fb61",
       "style": "IPY_MODEL_845c6c5052f84dc0a32e26c62e3a093e",
       "value": "<h4 style=\"font-size:14px;\">Welche Beispiele zeigen direkte Rekursion?</h4>"
      }
     },
     "4c309693dc8a4a6987fdf24b5d75d822": {
      "model_module": "@jupyter-widgets/base",
      "model_module_version": "1.0.0",
      "model_name": "LayoutModel",
      "state": {}
     },
     "4e273ba6048e448ba92ab7fbcfc4b44b": {
      "model_module": "@jupyter-widgets/base",
      "model_module_version": "1.0.0",
      "model_name": "LayoutModel",
      "state": {}
     },
     "4efc98aace5041e38bde2b7d05ce6f34": {
      "model_module": "@jupyter-widgets/controls",
      "model_module_version": "1.2.0",
      "model_name": "DescriptionStyleModel",
      "state": {
       "description_width": ""
      }
     },
     "502d8b058c5e4a7eaec51216a4deb9f9": {
      "model_module": "@jupyter-widgets/base",
      "model_module_version": "1.0.0",
      "model_name": "LayoutModel",
      "state": {
       "width": "500px"
      }
     },
     "50523b9b27344ebf9eb89606aff07608": {
      "model_module": "@jupyter-widgets/controls",
      "model_module_version": "1.2.0",
      "model_name": "CheckboxModel",
      "state": {
       "description": "NOM -> ADJ NOM",
       "disabled": false,
       "layout": "IPY_MODEL_3b590dda456c4846bd0de4bf31d8fece",
       "style": "IPY_MODEL_3edef88083ba4f0fa1ea21c49adf1caa",
       "value": false
      }
     },
     "51b6bee37cf5462dbfb13a69a21fc1be": {
      "model_module": "@jupyter-widgets/controls",
      "model_module_version": "1.2.0",
      "model_name": "HTMLModel",
      "state": {
       "layout": "IPY_MODEL_a9d87cac74a44b678534c4f7f318d5bb",
       "style": "IPY_MODEL_54a8532c220142c78f110503987bb2d5",
       "value": "<i>Vervollständigen Sie die Listcomprehension, indem sie an den Stellen der Unterstriche die richtigen Funktionen einsetzen.</i>"
      }
     },
     "51b6c86b97314235a7a67b7220103a6d": {
      "model_module": "@jupyter-widgets/controls",
      "model_module_version": "1.2.0",
      "model_name": "DescriptionStyleModel",
      "state": {
       "description_width": ""
      }
     },
     "52475c7d64c748afb4381b1f82ad794c": {
      "model_module": "@jupyter-widgets/controls",
      "model_module_version": "1.2.0",
      "model_name": "DescriptionStyleModel",
      "state": {
       "description_width": "initial"
      }
     },
     "5272a4cb597f4ecf81783511a86745b0": {
      "model_module": "@jupyter-widgets/base",
      "model_module_version": "1.0.0",
      "model_name": "LayoutModel",
      "state": {
       "width": "600px"
      }
     },
     "53359267c75544c79993ea25d644dabb": {
      "model_module": "@jupyter-widgets/controls",
      "model_module_version": "1.2.0",
      "model_name": "DescriptionStyleModel",
      "state": {
       "description_width": ""
      }
     },
     "549525a8e0ae4d2bafc8773a32f02551": {
      "model_module": "@jupyter-widgets/controls",
      "model_module_version": "1.2.0",
      "model_name": "ButtonModel",
      "state": {
       "description": "Korrekt?",
       "layout": "IPY_MODEL_20fbdfb0b8324f18abda57a3dff5d393",
       "style": "IPY_MODEL_f5a95d64dc2341c3ab0b6409c0afedb4"
      }
     },
     "54a8532c220142c78f110503987bb2d5": {
      "model_module": "@jupyter-widgets/controls",
      "model_module_version": "1.2.0",
      "model_name": "DescriptionStyleModel",
      "state": {
       "description_width": ""
      }
     },
     "54af0280083e4e4ab65a494640812c1c": {
      "model_module": "@jupyter-widgets/base",
      "model_module_version": "1.0.0",
      "model_name": "LayoutModel",
      "state": {
       "justify_content": "center"
      }
     },
     "55247e5f583e42e28b8d7fafca3c73de": {
      "model_module": "@jupyter-widgets/base",
      "model_module_version": "1.0.0",
      "model_name": "LayoutModel",
      "state": {}
     },
     "561d28e51881409385ec8c2a7145ce43": {
      "model_module": "@jupyter-widgets/controls",
      "model_module_version": "1.2.0",
      "model_name": "CheckboxModel",
      "state": {
       "description": "NP -> NP",
       "disabled": false,
       "layout": "IPY_MODEL_b34d953a92604acbac4018ab3434ef31",
       "style": "IPY_MODEL_7ae00d2666a04583bda95fd106774edb",
       "value": true
      }
     },
     "56d8e39e412643b7a282d94fa62c4b24": {
      "model_module": "@jupyter-widgets/base",
      "model_module_version": "1.0.0",
      "model_name": "LayoutModel",
      "state": {
       "width": "600px"
      }
     },
     "58948815eb95465ab919fb12fe75bca9": {
      "model_module": "@jupyter-widgets/controls",
      "model_module_version": "1.2.0",
      "model_name": "DescriptionStyleModel",
      "state": {
       "description_width": "initial"
      }
     },
     "589defff67e841989367edb4e075c554": {
      "model_module": "@jupyter-widgets/base",
      "model_module_version": "1.0.0",
      "model_name": "LayoutModel",
      "state": {
       "width": "600px"
      }
     },
     "58d9386b0fa84af48fb57b9ec878e3f7": {
      "model_module": "@jupyter-widgets/base",
      "model_module_version": "1.0.0",
      "model_name": "LayoutModel",
      "state": {
       "justify_content": "center"
      }
     },
     "58fbc8c01b2b4e33a482f22623f14860": {
      "model_module": "@jupyter-widgets/controls",
      "model_module_version": "1.2.0",
      "model_name": "HTMLModel",
      "state": {
       "layout": "IPY_MODEL_91bf4b0dba964809be4774e1cdc05f20",
       "style": "IPY_MODEL_2075927a69f3442e9722c84907fd0b9f",
       "value": "<h4 style=\"font-size:14px;\">Welche Beispiele zeigen direkte Rekursion?</h4>"
      }
     },
     "593176babecf43a29d6e7be5867c4d66": {
      "model_module": "@jupyter-widgets/base",
      "model_module_version": "1.0.0",
      "model_name": "LayoutModel",
      "state": {
       "width": "250px"
      }
     },
     "59a185a8720649a3af08b0ad0868fb5b": {
      "model_module": "@jupyter-widgets/base",
      "model_module_version": "1.0.0",
      "model_name": "LayoutModel",
      "state": {
       "justify_content": "center"
      }
     },
     "59ce227e2d8349ac9a76fa370f5ff503": {
      "model_module": "@jupyter-widgets/controls",
      "model_module_version": "1.2.0",
      "model_name": "DescriptionStyleModel",
      "state": {
       "description_width": "initial"
      }
     },
     "5a6c6c35590c4f068b861cba4c3dc421": {
      "model_module": "@jupyter-widgets/controls",
      "model_module_version": "1.2.0",
      "model_name": "ButtonModel",
      "state": {
       "description": "Korrekt?",
       "layout": "IPY_MODEL_680cc0125ac34a1f9438632ae2048c6b",
       "style": "IPY_MODEL_7cad273f3be6464a94b200b03482525c"
      }
     },
     "5c1fd03fa03f4936a692d9a413f09cbd": {
      "model_module": "@jupyter-widgets/controls",
      "model_module_version": "1.2.0",
      "model_name": "ButtonStyleModel",
      "state": {
       "button_color": "lightgreen"
      }
     },
     "5c8ced6858df47099bae113ed92b9236": {
      "model_module": "@jupyter-widgets/base",
      "model_module_version": "1.0.0",
      "model_name": "LayoutModel",
      "state": {
       "width": "250px"
      }
     },
     "5d1752d89c724ef69c026a0a4dd82808": {
      "model_module": "@jupyter-widgets/controls",
      "model_module_version": "1.2.0",
      "model_name": "VBoxModel",
      "state": {
       "children": [
        "IPY_MODEL_ff25f2bccbd947759f33a53f009f91cd",
        "IPY_MODEL_c9bc71c0ec4943929c61bb550e558bb0",
        "IPY_MODEL_4c20735104de4f378fef6f1e5292d1bc"
       ],
       "layout": "IPY_MODEL_fcdc0fa188e34730a6c44d1ee6a1c9d7"
      }
     },
     "5d79eb75b0da44fe86fdb26a5ced5a17": {
      "model_module": "@jupyter-widgets/controls",
      "model_module_version": "1.2.0",
      "model_name": "DescriptionStyleModel",
      "state": {
       "description_width": ""
      }
     },
     "5e2b097535534e2da8e35bf599adb596": {
      "model_module": "@jupyter-widgets/base",
      "model_module_version": "1.0.0",
      "model_name": "LayoutModel",
      "state": {
       "width": "600px"
      }
     },
     "5ea6fa96209b4f678d096fd6c7b771dd": {
      "model_module": "@jupyter-widgets/controls",
      "model_module_version": "1.2.0",
      "model_name": "ButtonStyleModel",
      "state": {
       "button_color": "lightgreen"
      }
     },
     "6033ba71b770442bb3b668819eb4b922": {
      "model_module": "@jupyter-widgets/controls",
      "model_module_version": "1.2.0",
      "model_name": "DescriptionStyleModel",
      "state": {
       "description_width": ""
      }
     },
     "60ee8d7f26e24a28876b73a4e4623747": {
      "model_module": "@jupyter-widgets/controls",
      "model_module_version": "1.2.0",
      "model_name": "DescriptionStyleModel",
      "state": {
       "description_width": "initial"
      }
     },
     "612c0557d4a9498fa2554c762dbab30a": {
      "model_module": "@jupyter-widgets/controls",
      "model_module_version": "1.2.0",
      "model_name": "ButtonStyleModel",
      "state": {
       "button_color": "lightgreen"
      }
     },
     "618fbdaa399d4a8fae27a37a950cc304": {
      "model_module": "@jupyter-widgets/controls",
      "model_module_version": "1.2.0",
      "model_name": "DescriptionStyleModel",
      "state": {
       "description_width": "initial"
      }
     },
     "619208b79c3f4e6ebdafd1cc94094128": {
      "model_module": "@jupyter-widgets/controls",
      "model_module_version": "1.2.0",
      "model_name": "CheckboxModel",
      "state": {
       "description": "NP -> DET N PP",
       "disabled": false,
       "layout": "IPY_MODEL_5e2b097535534e2da8e35bf599adb596",
       "style": "IPY_MODEL_bfb8a35a3c7642db8600f10f8a43c82b",
       "value": false
      }
     },
     "6196235146a645a0b336e4a7707a74de": {
      "model_module": "@jupyter-widgets/base",
      "model_module_version": "1.0.0",
      "model_name": "LayoutModel",
      "state": {
       "width": "600px"
      }
     },
     "6251c253269841cea9a40479aea4c43d": {
      "model_module": "@jupyter-widgets/controls",
      "model_module_version": "1.2.0",
      "model_name": "DescriptionStyleModel",
      "state": {
       "description_width": "initial"
      }
     },
     "659f440f967447f7b33daeeec9045536": {
      "model_module": "@jupyter-widgets/controls",
      "model_module_version": "1.2.0",
      "model_name": "ButtonStyleModel",
      "state": {}
     },
     "65a4ff44e2f842d1ab6827049853c6cf": {
      "model_module": "@jupyter-widgets/controls",
      "model_module_version": "1.2.0",
      "model_name": "DescriptionStyleModel",
      "state": {
       "description_width": "initial"
      }
     },
     "6652fbb091364b71a8d4b249fc66f783": {
      "model_module": "@jupyter-widgets/base",
      "model_module_version": "1.0.0",
      "model_name": "LayoutModel",
      "state": {}
     },
     "667d311b7d5e475ab64eab8afafbc9bb": {
      "model_module": "@jupyter-widgets/base",
      "model_module_version": "1.0.0",
      "model_name": "LayoutModel",
      "state": {
       "width": "600px"
      }
     },
     "680cc0125ac34a1f9438632ae2048c6b": {
      "model_module": "@jupyter-widgets/base",
      "model_module_version": "1.0.0",
      "model_name": "LayoutModel",
      "state": {
       "width": "250px"
      }
     },
     "6869ead61e2348e08434b6d4d15236fb": {
      "model_module": "@jupyter-widgets/controls",
      "model_module_version": "1.2.0",
      "model_name": "VBoxModel",
      "state": {
       "children": [
        "IPY_MODEL_3f3262b5008a4804888376582d221117",
        "IPY_MODEL_6f99f72e26964a0bac9bc100b0ff49db",
        "IPY_MODEL_95d23906e141468188de0b9c6f0e4cb1",
        "IPY_MODEL_5a6c6c35590c4f068b861cba4c3dc421"
       ],
       "layout": "IPY_MODEL_b3dd048e04e04366bc186b39bbc577d5"
      }
     },
     "69c7ba8b430e4172969e962693b93bde": {
      "model_module": "@jupyter-widgets/controls",
      "model_module_version": "1.2.0",
      "model_name": "HTMLModel",
      "state": {
       "layout": "IPY_MODEL_a7502d92366d4a38bcefda92a8ba7dd5",
       "style": "IPY_MODEL_f48b16923de841ef9dd1ba2c2996c715",
       "value": "<i>Vervollständigen Sie die Listcomprehension, indem sie an den Stellen der Unterstriche die richtigen Funktionen einsetzen.</i>"
      }
     },
     "6a5c380a0e874ca6af01479dc238e735": {
      "model_module": "@jupyter-widgets/controls",
      "model_module_version": "1.2.0",
      "model_name": "DescriptionStyleModel",
      "state": {
       "description_width": ""
      }
     },
     "6bab54eea3b64ff8a99473694d1ab6a6": {
      "model_module": "@jupyter-widgets/controls",
      "model_module_version": "1.2.0",
      "model_name": "VBoxModel",
      "state": {
       "children": [
        "IPY_MODEL_3314a27328174fc7b1890f24fd8c333e",
        "IPY_MODEL_e9b817266117431ebf1eb02ecfd6e3f5",
        "IPY_MODEL_92d55564f6114bfc8102ab9c7c6ca434"
       ],
       "layout": "IPY_MODEL_886d34d9019f47eca86c1e20ffbe2cbc"
      }
     },
     "6bf75c876f554f62a586e8bc59874db9": {
      "model_module": "@jupyter-widgets/base",
      "model_module_version": "1.0.0",
      "model_name": "LayoutModel",
      "state": {}
     },
     "6bfcd05a32c94c74b0aec4f0e134f628": {
      "model_module": "@jupyter-widgets/controls",
      "model_module_version": "1.2.0",
      "model_name": "DescriptionStyleModel",
      "state": {
       "description_width": ""
      }
     },
     "6c40466578df43a8b559cae327b65003": {
      "model_module": "@jupyter-widgets/controls",
      "model_module_version": "1.2.0",
      "model_name": "CheckboxModel",
      "state": {
       "description": "NP -> DET N PP",
       "disabled": false,
       "layout": "IPY_MODEL_7d7da1b8af104814b579ec4ae0930364",
       "style": "IPY_MODEL_ce11dcab9fe74539ba7881a9ed86f766",
       "value": false
      }
     },
     "6c4d983acdae413b912dd0660c6cf15d": {
      "model_module": "@jupyter-widgets/controls",
      "model_module_version": "1.2.0",
      "model_name": "CheckboxModel",
      "state": {
       "description": "NOM -> ADJ NOM",
       "disabled": false,
       "layout": "IPY_MODEL_d220eecb68af4b09a32d13084edb089e",
       "style": "IPY_MODEL_b1cefb0e841a4b5d9ea718811707a045",
       "value": false
      }
     },
     "6ed4ab0818594821b1471d8a70e438f5": {
      "model_module": "@jupyter-widgets/controls",
      "model_module_version": "1.2.0",
      "model_name": "ButtonStyleModel",
      "state": {}
     },
     "6f8226d26faf45408af1f9d34c7fef4f": {
      "model_module": "@jupyter-widgets/base",
      "model_module_version": "1.0.0",
      "model_name": "LayoutModel",
      "state": {}
     },
     "6f99f72e26964a0bac9bc100b0ff49db": {
      "model_module": "@jupyter-widgets/controls",
      "model_module_version": "1.2.0",
      "model_name": "HTMLModel",
      "state": {
       "layout": "IPY_MODEL_54af0280083e4e4ab65a494640812c1c",
       "style": "IPY_MODEL_dbca3066a0b74f318b8f1a562b00f1a3",
       "value": "<i>Markieren Sie <ins>alle</ins> passenden Antworten: </i>"
      }
     },
     "71424d61343542e8a16b26f74fb523f3": {
      "model_module": "@jupyter-widgets/controls",
      "model_module_version": "1.2.0",
      "model_name": "DescriptionStyleModel",
      "state": {
       "description_width": ""
      }
     },
     "714c97080e0f4dd1a327fa4f399c1db1": {
      "model_module": "@jupyter-widgets/base",
      "model_module_version": "1.0.0",
      "model_name": "LayoutModel",
      "state": {
       "width": "600px"
      }
     },
     "7184950bf92c48fcacfda2bd82c35ce9": {
      "model_module": "@jupyter-widgets/controls",
      "model_module_version": "1.2.0",
      "model_name": "ButtonStyleModel",
      "state": {
       "button_color": "lightgreen"
      }
     },
     "733481b354974ce098eebab76849fc9d": {
      "model_module": "@jupyter-widgets/controls",
      "model_module_version": "1.2.0",
      "model_name": "ButtonStyleModel",
      "state": {
       "button_color": "lightgreen"
      }
     },
     "735550d3f5d5405b8f670d8a87f57289": {
      "model_module": "@jupyter-widgets/base",
      "model_module_version": "1.0.0",
      "model_name": "LayoutModel",
      "state": {
       "width": "600px"
      }
     },
     "7370ffa0523143219afa8f32666d0cdd": {
      "model_module": "@jupyter-widgets/controls",
      "model_module_version": "1.2.0",
      "model_name": "ButtonStyleModel",
      "state": {}
     },
     "74c7f22163de48f09c6eac8ece8edc61": {
      "model_module": "@jupyter-widgets/controls",
      "model_module_version": "1.2.0",
      "model_name": "ButtonStyleModel",
      "state": {}
     },
     "74ef5c393bad4fb989adf42ba1a1f03f": {
      "model_module": "@jupyter-widgets/controls",
      "model_module_version": "1.2.0",
      "model_name": "HTMLModel",
      "state": {
       "layout": "IPY_MODEL_8b1f7863b6bf4a4eabd9a9fa7b74d5c1",
       "style": "IPY_MODEL_3fa7dd0cd87a4a2da5f03e88a6992784",
       "value": "<i>Markieren Sie <ins>alle</ins> passenden Antworten: </i>"
      }
     },
     "7513d34a09314720b48ed7bf71394680": {
      "model_module": "@jupyter-widgets/controls",
      "model_module_version": "1.2.0",
      "model_name": "VBoxModel",
      "state": {
       "children": [
        "IPY_MODEL_6c40466578df43a8b559cae327b65003",
        "IPY_MODEL_561d28e51881409385ec8c2a7145ce43",
        "IPY_MODEL_9cb2b0c8d97d4ef3af1c2a9aee13c3a0"
       ],
       "layout": "IPY_MODEL_8469db48b250460491a42975ae503e8c"
      }
     },
     "75c82d408d114246aeed2290a874a5f0": {
      "model_module": "@jupyter-widgets/base",
      "model_module_version": "1.0.0",
      "model_name": "LayoutModel",
      "state": {}
     },
     "76463e58468c4c0696b264604ed9e351": {
      "model_module": "@jupyter-widgets/controls",
      "model_module_version": "1.2.0",
      "model_name": "HTMLModel",
      "state": {
       "layout": "IPY_MODEL_b4fd57b119a8443e86218136a81cd630",
       "style": "IPY_MODEL_459ca35bbc3e473598bca52cbebe9940",
       "value": "<h4 style=\"font-size:14px;\">Wie ist im NLTK vorzugehen, wenn ein (wohlgeformter) Satz von einer Grammatik nicht erkannt wird?</h4>"
      }
     },
     "76feb7de9a9842da8cc2dbcd0d4249b7": {
      "model_module": "@jupyter-widgets/base",
      "model_module_version": "1.0.0",
      "model_name": "LayoutModel",
      "state": {}
     },
     "7707c6a10e834621824d2e5f9a8e484c": {
      "model_module": "@jupyter-widgets/controls",
      "model_module_version": "1.2.0",
      "model_name": "VBoxModel",
      "state": {
       "children": [
        "IPY_MODEL_6c4d983acdae413b912dd0660c6cf15d",
        "IPY_MODEL_e3c9e8a53f374679b0c21fcaf4b3b59a",
        "IPY_MODEL_f2e2671185bf4a1abdb001daf2a1eadb"
       ],
       "layout": "IPY_MODEL_76feb7de9a9842da8cc2dbcd0d4249b7"
      }
     },
     "77b53b669d5f46fe8fcee19f37b56b27": {
      "model_module": "@jupyter-widgets/base",
      "model_module_version": "1.0.0",
      "model_name": "LayoutModel",
      "state": {
       "width": "600px"
      }
     },
     "788743b2e5634026a081911fa4aca2c3": {
      "model_module": "@jupyter-widgets/controls",
      "model_module_version": "1.2.0",
      "model_name": "DescriptionStyleModel",
      "state": {
       "description_width": ""
      }
     },
     "7914c30ca8654631bdffeb7eda7fc71c": {
      "model_module": "@jupyter-widgets/base",
      "model_module_version": "1.0.0",
      "model_name": "LayoutModel",
      "state": {
       "width": "250px"
      }
     },
     "7926e23ff9bb480a91321bfb0166fb3d": {
      "model_module": "@jupyter-widgets/controls",
      "model_module_version": "1.2.0",
      "model_name": "CheckboxModel",
      "state": {
       "description": "anderen Parser verwenden",
       "disabled": false,
       "layout": "IPY_MODEL_4381689343dc4ec4ab10b62e5c6c6a85",
       "style": "IPY_MODEL_6251c253269841cea9a40479aea4c43d",
       "value": false
      }
     },
     "79d303c269a649388b82a890df41cc63": {
      "model_module": "@jupyter-widgets/controls",
      "model_module_version": "1.2.0",
      "model_name": "ButtonModel",
      "state": {
       "description": "Richtig!",
       "layout": "IPY_MODEL_ed32155c785940fa9c250acae4147d9f",
       "style": "IPY_MODEL_0934bcaebcaf409c9343c48337349e20"
      }
     },
     "7ae00d2666a04583bda95fd106774edb": {
      "model_module": "@jupyter-widgets/controls",
      "model_module_version": "1.2.0",
      "model_name": "DescriptionStyleModel",
      "state": {
       "description_width": "initial"
      }
     },
     "7b10598d0a134ee882d45951801d8ac0": {
      "model_module": "@jupyter-widgets/base",
      "model_module_version": "1.0.0",
      "model_name": "LayoutModel",
      "state": {
       "width": "600px"
      }
     },
     "7b7548c94ece4a47ad795cacab28fd29": {
      "model_module": "@jupyter-widgets/controls",
      "model_module_version": "1.2.0",
      "model_name": "ButtonModel",
      "state": {
       "description": "Korrekt?",
       "layout": "IPY_MODEL_8a2fd41c0be843508a3d3dc9b50d3b72",
       "style": "IPY_MODEL_5c1fd03fa03f4936a692d9a413f09cbd"
      }
     },
     "7b9ce1d03f0c4da895772d3fed2e3892": {
      "model_module": "@jupyter-widgets/controls",
      "model_module_version": "1.2.0",
      "model_name": "TextareaModel",
      "state": {
       "layout": "IPY_MODEL_906d697af50246f5ac696960f474c695",
       "placeholder": "Type something",
       "style": "IPY_MODEL_1f707ee4393c42adba2d9ecd4d2f4d42",
       "value": "for p in grammar1.productions():print(p)"
      }
     },
     "7bc5aaea67f3407db651434cda1d4528": {
      "model_module": "@jupyter-widgets/controls",
      "model_module_version": "1.2.0",
      "model_name": "CheckboxModel",
      "state": {
       "description": "PP -> P NP",
       "disabled": false,
       "layout": "IPY_MODEL_b9d1716d69c54024b687625995ce6777",
       "style": "IPY_MODEL_4607edda68994d938993b35397e59e55",
       "value": false
      }
     },
     "7c262a10d3084d9988a7cadb19a38528": {
      "model_module": "@jupyter-widgets/base",
      "model_module_version": "1.0.0",
      "model_name": "LayoutModel",
      "state": {
       "width": "250px"
      }
     },
     "7c36c5cffa7d488bae0394657989c70c": {
      "model_module": "@jupyter-widgets/controls",
      "model_module_version": "1.2.0",
      "model_name": "DescriptionStyleModel",
      "state": {
       "description_width": ""
      }
     },
     "7c57c1fc29b1411db697a32c8f432153": {
      "model_module": "@jupyter-widgets/base",
      "model_module_version": "1.0.0",
      "model_name": "LayoutModel",
      "state": {
       "width": "600px"
      }
     },
     "7c6803cb2b714a7892a3cfc5f1f25225": {
      "model_module": "@jupyter-widgets/controls",
      "model_module_version": "1.2.0",
      "model_name": "HTMLModel",
      "state": {
       "layout": "IPY_MODEL_33b010bcf340419dace05f48080fd62a",
       "style": "IPY_MODEL_44bdd08dbe014558a7f17e2602403c2f",
       "value": "<h4 style=\"font-size:14px;\">Wie können im NLTK die Regeln einer Grammatik ausgegeben werden?</h4>"
      }
     },
     "7cad273f3be6464a94b200b03482525c": {
      "model_module": "@jupyter-widgets/controls",
      "model_module_version": "1.2.0",
      "model_name": "ButtonStyleModel",
      "state": {}
     },
     "7ce344379625407ebb497942f3418d95": {
      "model_module": "@jupyter-widgets/controls",
      "model_module_version": "1.2.0",
      "model_name": "CheckboxModel",
      "state": {
       "description": "<code>trace</code>-Output aktivieren und überprüfen",
       "disabled": false,
       "layout": "IPY_MODEL_7b10598d0a134ee882d45951801d8ac0",
       "style": "IPY_MODEL_26acea37e9c9405fa54f9c4062f8021e",
       "value": true
      }
     },
     "7d0137c7300c4755bdb4be24646cfc25": {
      "model_module": "@jupyter-widgets/controls",
      "model_module_version": "1.2.0",
      "model_name": "VBoxModel",
      "state": {
       "children": [
        "IPY_MODEL_fd28a2212dff4edb960380f496e2b505",
        "IPY_MODEL_29a4f3fc14a549b39907343ecdbae77a",
        "IPY_MODEL_6bab54eea3b64ff8a99473694d1ab6a6",
        "IPY_MODEL_d646e4b5be994a7baa2068b790acedf1"
       ],
       "layout": "IPY_MODEL_c7bf62ea914b4b35a2398ef65cf83702"
      }
     },
     "7d6aab5e6274448fbf64960768a28d4c": {
      "model_module": "@jupyter-widgets/base",
      "model_module_version": "1.0.0",
      "model_name": "LayoutModel",
      "state": {
       "width": "600px"
      }
     },
     "7d7da1b8af104814b579ec4ae0930364": {
      "model_module": "@jupyter-widgets/base",
      "model_module_version": "1.0.0",
      "model_name": "LayoutModel",
      "state": {
       "width": "600px"
      }
     },
     "7e95ccd8d7a9440897de1adb7b44eebf": {
      "model_module": "@jupyter-widgets/controls",
      "model_module_version": "1.2.0",
      "model_name": "DescriptionStyleModel",
      "state": {
       "description_width": "initial"
      }
     },
     "7efc3634c43d4f2b98809cc7a6088296": {
      "model_module": "@jupyter-widgets/base",
      "model_module_version": "1.0.0",
      "model_name": "LayoutModel",
      "state": {
       "width": "600px"
      }
     },
     "7f98e224040a4977abbb4bf6bd400c4b": {
      "model_module": "@jupyter-widgets/controls",
      "model_module_version": "1.2.0",
      "model_name": "ButtonModel",
      "state": {
       "description": "Korrekt?",
       "layout": "IPY_MODEL_5c8ced6858df47099bae113ed92b9236",
       "style": "IPY_MODEL_659f440f967447f7b33daeeec9045536"
      }
     },
     "800dcbd0aed6486ca5895e46251edc24": {
      "model_module": "@jupyter-widgets/base",
      "model_module_version": "1.0.0",
      "model_name": "LayoutModel",
      "state": {
       "justify_content": "center"
      }
     },
     "8021fbedcf624f91982ec995f70dc8da": {
      "model_module": "@jupyter-widgets/controls",
      "model_module_version": "1.2.0",
      "model_name": "VBoxModel",
      "state": {
       "children": [
        "IPY_MODEL_d81e3c318a384f64bfcb04766a59a722",
        "IPY_MODEL_a9e0f72736504782840f7cabe4aa829a",
        "IPY_MODEL_a648f2286bb6485c94aa7c4053f7555b",
        "IPY_MODEL_cc8e0beb2edd4078826bf144855e719a"
       ],
       "layout": "IPY_MODEL_26c21909d90d4c13ba1603d33ed76856"
      }
     },
     "80893f3b3e364454a06ee2e68a59a742": {
      "model_module": "@jupyter-widgets/controls",
      "model_module_version": "1.2.0",
      "model_name": "CheckboxModel",
      "state": {
       "description": "NOM -> ADJ NOM",
       "disabled": false,
       "layout": "IPY_MODEL_85122ff7e06444028538d4591aeed070",
       "style": "IPY_MODEL_8d6ab36acf7c4f7c8c1ce946cccb2139",
       "value": false
      }
     },
     "80deb62721d64784966524c645ba8dea": {
      "model_module": "@jupyter-widgets/base",
      "model_module_version": "1.0.0",
      "model_name": "LayoutModel",
      "state": {}
     },
     "80ecbe4bf6d341aa981dd9b0514bce9d": {
      "model_module": "@jupyter-widgets/controls",
      "model_module_version": "1.2.0",
      "model_name": "VBoxModel",
      "state": {
       "children": [
        "IPY_MODEL_c418269caefc4493aed07ccbde9222cf",
        "IPY_MODEL_3f3c8b2426e94931a0f7668dfc6ad587",
        "IPY_MODEL_a5d5bbf026c04ca781f44b2d90e286d9",
        "IPY_MODEL_e223f05abf464096bdfc2b377554943d"
       ],
       "layout": "IPY_MODEL_2827256a5d2f403caf5bd1a776755aa4"
      }
     },
     "8158658fa5d04a7fa402dc401fd9d311": {
      "model_module": "@jupyter-widgets/controls",
      "model_module_version": "1.2.0",
      "model_name": "HTMLModel",
      "state": {
       "layout": "IPY_MODEL_d4bfd42bb5c74ebdadee35dd6101a830",
       "style": "IPY_MODEL_3db382e904b449afacae3339211e94f6",
       "value": "<i>Markieren Sie <ins>alle</ins> passenden Antworten: </i>"
      }
     },
     "826a334f48604c67930266fb30fb0afe": {
      "model_module": "@jupyter-widgets/base",
      "model_module_version": "1.0.0",
      "model_name": "LayoutModel",
      "state": {}
     },
     "83c292a5d2e84fce86fd210da99c8e3c": {
      "model_module": "@jupyter-widgets/controls",
      "model_module_version": "1.2.0",
      "model_name": "HTMLModel",
      "state": {
       "layout": "IPY_MODEL_ce5de573e6374579b06e5385839206dd",
       "style": "IPY_MODEL_18067d98025b42e6b6e624a1a168930e",
       "value": "<h4 style=\"font-size:14px;\">Welche Beispiele für Phrasenstrukturregeln sind linksrekursiv?</h4>"
      }
     },
     "845c6c5052f84dc0a32e26c62e3a093e": {
      "model_module": "@jupyter-widgets/controls",
      "model_module_version": "1.2.0",
      "model_name": "DescriptionStyleModel",
      "state": {
       "description_width": ""
      }
     },
     "8469db48b250460491a42975ae503e8c": {
      "model_module": "@jupyter-widgets/base",
      "model_module_version": "1.0.0",
      "model_name": "LayoutModel",
      "state": {}
     },
     "84c9fd7204e5435e8f57ca754cae4aef": {
      "model_module": "@jupyter-widgets/controls",
      "model_module_version": "1.2.0",
      "model_name": "DescriptionStyleModel",
      "state": {
       "description_width": "initial"
      }
     },
     "84e0d565d89f4ee78315d7328ddd8777": {
      "model_module": "@jupyter-widgets/controls",
      "model_module_version": "1.2.0",
      "model_name": "HTMLModel",
      "state": {
       "layout": "IPY_MODEL_ebd9bcf7ef974416873a4672b74dc34f",
       "style": "IPY_MODEL_46ad1cd8824e4dc79e4279438b0ade81",
       "value": "<h4 style=\"font-size:14px;\">Welche Beispiele zeigen direkte Rekursion?</h4>"
      }
     },
     "85122ff7e06444028538d4591aeed070": {
      "model_module": "@jupyter-widgets/base",
      "model_module_version": "1.0.0",
      "model_name": "LayoutModel",
      "state": {
       "width": "600px"
      }
     },
     "855914dd32224b61ab84e53c246d57ba": {
      "model_module": "@jupyter-widgets/controls",
      "model_module_version": "1.2.0",
      "model_name": "ButtonStyleModel",
      "state": {}
     },
     "85ba57ae577d424c85ec219ca848f3ba": {
      "model_module": "@jupyter-widgets/controls",
      "model_module_version": "1.2.0",
      "model_name": "CheckboxModel",
      "state": {
       "description": "NOM -> NOM PP",
       "disabled": false,
       "layout": "IPY_MODEL_99e5fa590341416fac68d3dfdfff0da9",
       "style": "IPY_MODEL_af76111a808b45519941ebe17ca2a100",
       "value": false
      }
     },
     "85d2a139a252469ea1ade294d7f16913": {
      "model_module": "@jupyter-widgets/base",
      "model_module_version": "1.0.0",
      "model_name": "LayoutModel",
      "state": {
       "width": "250px"
      }
     },
     "85d3517335ac452cb12238d9f038e745": {
      "model_module": "@jupyter-widgets/base",
      "model_module_version": "1.0.0",
      "model_name": "LayoutModel",
      "state": {
       "width": "250px"
      }
     },
     "85fa90123b6e4a2c8f73eae6b5ec4964": {
      "model_module": "@jupyter-widgets/controls",
      "model_module_version": "1.2.0",
      "model_name": "CheckboxModel",
      "state": {
       "description": "Grammatik neu einlesen",
       "disabled": false,
       "layout": "IPY_MODEL_77b53b669d5f46fe8fcee19f37b56b27",
       "style": "IPY_MODEL_4b006ba8d55b4112b1857c164af59e2f",
       "value": false
      }
     },
     "86fa31c6749c4f5095445517d11be5aa": {
      "model_module": "@jupyter-widgets/base",
      "model_module_version": "1.0.0",
      "model_name": "LayoutModel",
      "state": {
       "width": "250px"
      }
     },
     "886d34d9019f47eca86c1e20ffbe2cbc": {
      "model_module": "@jupyter-widgets/base",
      "model_module_version": "1.0.0",
      "model_name": "LayoutModel",
      "state": {}
     },
     "8a2fd41c0be843508a3d3dc9b50d3b72": {
      "model_module": "@jupyter-widgets/base",
      "model_module_version": "1.0.0",
      "model_name": "LayoutModel",
      "state": {
       "width": "250px"
      }
     },
     "8a8cf4b2c87e49c998fbe94d1f4e38b2": {
      "model_module": "@jupyter-widgets/controls",
      "model_module_version": "1.2.0",
      "model_name": "VBoxModel",
      "state": {
       "children": [
        "IPY_MODEL_4c1350df070f4d809c98ccc21901372b",
        "IPY_MODEL_dd495b4190f04a52b298e1644a442291",
        "IPY_MODEL_d978a0135bf24f5384c0a568eb5c4842"
       ],
       "layout": "IPY_MODEL_92a2c88469e441a29763d27caab37b6f"
      }
     },
     "8aaae32097594d08b09521ac129b4b41": {
      "model_module": "@jupyter-widgets/controls",
      "model_module_version": "1.2.0",
      "model_name": "DescriptionStyleModel",
      "state": {
       "description_width": "initial"
      }
     },
     "8b1f7863b6bf4a4eabd9a9fa7b74d5c1": {
      "model_module": "@jupyter-widgets/base",
      "model_module_version": "1.0.0",
      "model_name": "LayoutModel",
      "state": {
       "justify_content": "center"
      }
     },
     "8c38a6d5fb774ea88decadc25137b4ad": {
      "model_module": "@jupyter-widgets/controls",
      "model_module_version": "1.2.0",
      "model_name": "ButtonModel",
      "state": {
       "description": "Lösung zeigen",
       "layout": "IPY_MODEL_2b3e386733284320a38da621e9977311",
       "style": "IPY_MODEL_d36c9db70cdd4ad0993d076953bf3de6"
      }
     },
     "8c629294ddfe4a789c0b7d9ab9aab7ab": {
      "model_module": "@jupyter-widgets/base",
      "model_module_version": "1.0.0",
      "model_name": "LayoutModel",
      "state": {
       "width": "250px"
      }
     },
     "8cb9c5f1ab0947be85e321b1204fbe36": {
      "model_module": "@jupyter-widgets/base",
      "model_module_version": "1.0.0",
      "model_name": "LayoutModel",
      "state": {
       "justify_content": "center"
      }
     },
     "8d64a145727d421898cc54fe7373fe3f": {
      "model_module": "@jupyter-widgets/base",
      "model_module_version": "1.0.0",
      "model_name": "LayoutModel",
      "state": {
       "width": "600px"
      }
     },
     "8d6ab36acf7c4f7c8c1ce946cccb2139": {
      "model_module": "@jupyter-widgets/controls",
      "model_module_version": "1.2.0",
      "model_name": "DescriptionStyleModel",
      "state": {
       "description_width": "initial"
      }
     },
     "8e1e186ae9e749b0aa9506de38e37922": {
      "model_module": "@jupyter-widgets/base",
      "model_module_version": "1.0.0",
      "model_name": "LayoutModel",
      "state": {
       "width": "600px"
      }
     },
     "8ed5b23e0b76411eabbd2a0cf6d43b3f": {
      "model_module": "@jupyter-widgets/controls",
      "model_module_version": "1.2.0",
      "model_name": "DescriptionStyleModel",
      "state": {
       "description_width": "initial"
      }
     },
     "8f5742d3413e433e979f108e366c624d": {
      "model_module": "@jupyter-widgets/base",
      "model_module_version": "1.0.0",
      "model_name": "LayoutModel",
      "state": {}
     },
     "903abbcb44fc44ae9eeb93336f3eaf5f": {
      "model_module": "@jupyter-widgets/base",
      "model_module_version": "1.0.0",
      "model_name": "LayoutModel",
      "state": {
       "width": "600px"
      }
     },
     "906d697af50246f5ac696960f474c695": {
      "model_module": "@jupyter-widgets/base",
      "model_module_version": "1.0.0",
      "model_name": "LayoutModel",
      "state": {
       "width": "500px"
      }
     },
     "91540a747ed34c8ca44449b0c68a6f45": {
      "model_module": "@jupyter-widgets/base",
      "model_module_version": "1.0.0",
      "model_name": "LayoutModel",
      "state": {
       "width": "600px"
      }
     },
     "9178a8ea690c48339693e81b3165cffa": {
      "model_module": "@jupyter-widgets/controls",
      "model_module_version": "1.2.0",
      "model_name": "HTMLModel",
      "state": {
       "layout": "IPY_MODEL_a923da451cf8453589f81d3aec64aa4f",
       "style": "IPY_MODEL_f0e79137ca12477bbbdb58e62cf1fbd0",
       "value": "<i>Wählen Sie die <ins>eine</ins> korrekte Antwort aus: </i>"
      }
     },
     "919e2a21264344b29443b3899f806ff9": {
      "model_module": "@jupyter-widgets/controls",
      "model_module_version": "1.2.0",
      "model_name": "HTMLModel",
      "state": {
       "layout": "IPY_MODEL_0c14c7c2ffd44a669c50e7f38daeeb7b",
       "style": "IPY_MODEL_2cae34cce5354059af9dc442c7bae30f",
       "value": "<i>Markieren Sie <ins>alle</ins> passenden Antworten: </i>"
      }
     },
     "91bf4b0dba964809be4774e1cdc05f20": {
      "model_module": "@jupyter-widgets/base",
      "model_module_version": "1.0.0",
      "model_name": "LayoutModel",
      "state": {}
     },
     "924137723b3443bdb1e174483e8ce0d0": {
      "model_module": "@jupyter-widgets/controls",
      "model_module_version": "1.2.0",
      "model_name": "DescriptionStyleModel",
      "state": {
       "description_width": ""
      }
     },
     "92a2c88469e441a29763d27caab37b6f": {
      "model_module": "@jupyter-widgets/base",
      "model_module_version": "1.0.0",
      "model_name": "LayoutModel",
      "state": {}
     },
     "92d55564f6114bfc8102ab9c7c6ca434": {
      "model_module": "@jupyter-widgets/controls",
      "model_module_version": "1.2.0",
      "model_name": "CheckboxModel",
      "state": {
       "description": "anderen Parser verwenden",
       "disabled": false,
       "layout": "IPY_MODEL_8e1e186ae9e749b0aa9506de38e37922",
       "style": "IPY_MODEL_c31f4bdd44ad447bbca968ec4afc549c",
       "value": false
      }
     },
     "93216e72f2ec478eb2890023d5609ba3": {
      "model_module": "@jupyter-widgets/controls",
      "model_module_version": "1.2.0",
      "model_name": "ButtonStyleModel",
      "state": {}
     },
     "938e80b876744732b092a56ac17c259e": {
      "model_module": "@jupyter-widgets/base",
      "model_module_version": "1.0.0",
      "model_name": "LayoutModel",
      "state": {}
     },
     "93f7ae1633364126948ad0a2451b129d": {
      "model_module": "@jupyter-widgets/base",
      "model_module_version": "1.0.0",
      "model_name": "LayoutModel",
      "state": {}
     },
     "9525b1ed990743fc87258bf2d104f18e": {
      "model_module": "@jupyter-widgets/controls",
      "model_module_version": "1.2.0",
      "model_name": "ButtonModel",
      "state": {
       "description": "Korrekt?",
       "layout": "IPY_MODEL_85d3517335ac452cb12238d9f038e745",
       "style": "IPY_MODEL_10d631c5e8b4405e88743cc4aec7fe2f"
      }
     },
     "95d23906e141468188de0b9c6f0e4cb1": {
      "model_module": "@jupyter-widgets/controls",
      "model_module_version": "1.2.0",
      "model_name": "VBoxModel",
      "state": {
       "children": [
        "IPY_MODEL_619208b79c3f4e6ebdafd1cc94094128",
        "IPY_MODEL_0877bd11fcab41c4899b5e01cfa26028",
        "IPY_MODEL_d3dc00bd393341de8eeee82af37c1138"
       ],
       "layout": "IPY_MODEL_b94fc5982e38448a9e098bb4b2cdc3f4"
      }
     },
     "9687558518f04fb693f415be41c5e608": {
      "model_module": "@jupyter-widgets/controls",
      "model_module_version": "1.2.0",
      "model_name": "DescriptionStyleModel",
      "state": {
       "description_width": "initial"
      }
     },
     "96957ab215e7429eb49812b0dcda38bd": {
      "model_module": "@jupyter-widgets/base",
      "model_module_version": "1.0.0",
      "model_name": "LayoutModel",
      "state": {
       "width": "600px"
      }
     },
     "99d82b38c6814c2d894833052d10e0de": {
      "model_module": "@jupyter-widgets/controls",
      "model_module_version": "1.2.0",
      "model_name": "VBoxModel",
      "state": {
       "children": [
        "IPY_MODEL_83c292a5d2e84fce86fd210da99c8e3c",
        "IPY_MODEL_74ef5c393bad4fb989adf42ba1a1f03f",
        "IPY_MODEL_f3fd99ba8e104f0a89fdb0b6be39e49b",
        "IPY_MODEL_43fd105188f54b49adc5d63c6003e647"
       ],
       "layout": "IPY_MODEL_a823b3a91e944d1d8e66743b03a00b0c"
      }
     },
     "99e5fa590341416fac68d3dfdfff0da9": {
      "model_module": "@jupyter-widgets/base",
      "model_module_version": "1.0.0",
      "model_name": "LayoutModel",
      "state": {
       "width": "600px"
      }
     },
     "9c9888e798e64c45b9ef2f470ef26753": {
      "model_module": "@jupyter-widgets/controls",
      "model_module_version": "1.2.0",
      "model_name": "DescriptionStyleModel",
      "state": {
       "description_width": "initial"
      }
     },
     "9cb2b0c8d97d4ef3af1c2a9aee13c3a0": {
      "model_module": "@jupyter-widgets/controls",
      "model_module_version": "1.2.0",
      "model_name": "CheckboxModel",
      "state": {
       "description": "PP -> P NP",
       "disabled": false,
       "layout": "IPY_MODEL_7c57c1fc29b1411db697a32c8f432153",
       "style": "IPY_MODEL_01275ddd4368431a89b2cbdb9145a770",
       "value": false
      }
     },
     "9cff778ce01f4929b7bebe649402dc2b": {
      "model_module": "@jupyter-widgets/controls",
      "model_module_version": "1.2.0",
      "model_name": "ButtonStyleModel",
      "state": {
       "button_color": "lightgreen"
      }
     },
     "9d764c2bbfd5406f907568788c7d5ecb": {
      "model_module": "@jupyter-widgets/controls",
      "model_module_version": "1.2.0",
      "model_name": "CheckboxModel",
      "state": {
       "description": "Grammatik neu einlesen",
       "disabled": false,
       "layout": "IPY_MODEL_37e7eea6b9004eb18c60295a2499d9b8",
       "style": "IPY_MODEL_c5883ccf88a34c348bb7656cc6255886",
       "value": false
      }
     },
     "9de18f630831423ca93da73e30704097": {
      "model_module": "@jupyter-widgets/controls",
      "model_module_version": "1.2.0",
      "model_name": "HTMLModel",
      "state": {
       "layout": "IPY_MODEL_59a185a8720649a3af08b0ad0868fb5b",
       "style": "IPY_MODEL_1ef5922219c2469b87cd9db70c976ec1",
       "value": "<i>Markieren Sie <ins>alle</ins> passenden Antworten: </i>"
      }
     },
     "9e5580c45dea4fe396294a6560f1e699": {
      "model_module": "@jupyter-widgets/base",
      "model_module_version": "1.0.0",
      "model_name": "LayoutModel",
      "state": {}
     },
     "9fdaa7af6179404593a022bd42ffecdf": {
      "model_module": "@jupyter-widgets/controls",
      "model_module_version": "1.2.0",
      "model_name": "HBoxModel",
      "state": {
       "children": [
        "IPY_MODEL_79d303c269a649388b82a890df41cc63",
        "IPY_MODEL_3dacd05d664044458010f9fe99eb4ce5"
       ],
       "layout": "IPY_MODEL_a25dedca5f694dc3a41689592870b107"
      }
     },
     "a04c0f436ace423380a36b5ef9cbb803": {
      "model_module": "@jupyter-widgets/controls",
      "model_module_version": "1.2.0",
      "model_name": "HBoxModel",
      "state": {
       "children": [
        "IPY_MODEL_1b7842b62a664b08baeb039ff7b28688",
        "IPY_MODEL_b97461e80c094bfda7596202e72002fd"
       ],
       "layout": "IPY_MODEL_eeaa994acc8241559918f9fe35c14d45"
      }
     },
     "a07552cc15384b3c975e7cf23946ea4d": {
      "model_module": "@jupyter-widgets/base",
      "model_module_version": "1.0.0",
      "model_name": "LayoutModel",
      "state": {}
     },
     "a0840ca2a1444916bc80e58d5a20cec3": {
      "model_module": "@jupyter-widgets/controls",
      "model_module_version": "1.2.0",
      "model_name": "CheckboxModel",
      "state": {
       "description": "<code>trace</code>-Output aktivieren und überprüfen",
       "disabled": false,
       "layout": "IPY_MODEL_56d8e39e412643b7a282d94fa62c4b24",
       "style": "IPY_MODEL_52475c7d64c748afb4381b1f82ad794c",
       "value": false
      }
     },
     "a09c512e98154104b8a19678fd872888": {
      "model_module": "@jupyter-widgets/controls",
      "model_module_version": "1.2.0",
      "model_name": "VBoxModel",
      "state": {
       "children": [
        "IPY_MODEL_84e0d565d89f4ee78315d7328ddd8777",
        "IPY_MODEL_28fd91c11a784f6c89984ce0d6f3e5aa",
        "IPY_MODEL_7513d34a09314720b48ed7bf71394680",
        "IPY_MODEL_7b7548c94ece4a47ad795cacab28fd29"
       ],
       "layout": "IPY_MODEL_c65ed4035cf7465b963fb4dd04b560ed"
      }
     },
     "a0a1817ecd474dcf940660cb0cb53b73": {
      "model_module": "@jupyter-widgets/base",
      "model_module_version": "1.0.0",
      "model_name": "LayoutModel",
      "state": {
       "width": "350px"
      }
     },
     "a1af08a4b8ff47c0b15e82538628d5fe": {
      "model_module": "@jupyter-widgets/controls",
      "model_module_version": "1.2.0",
      "model_name": "CheckboxModel",
      "state": {
       "description": "anderen Parser verwenden",
       "disabled": false,
       "layout": "IPY_MODEL_8d64a145727d421898cc54fe7373fe3f",
       "style": "IPY_MODEL_9687558518f04fb693f415be41c5e608",
       "value": false
      }
     },
     "a25dedca5f694dc3a41689592870b107": {
      "model_module": "@jupyter-widgets/base",
      "model_module_version": "1.0.0",
      "model_name": "LayoutModel",
      "state": {}
     },
     "a26f5505f184494e8f1e2e9a532963ca": {
      "model_module": "@jupyter-widgets/controls",
      "model_module_version": "1.2.0",
      "model_name": "HTMLModel",
      "state": {
       "layout": "IPY_MODEL_b1c1d91bf17d40b9a488eb3486d40607",
       "style": "IPY_MODEL_4efc98aace5041e38bde2b7d05ce6f34",
       "value": "<i>Markieren Sie <ins>alle</ins> passenden Antworten: </i>"
      }
     },
     "a408c81878c94655a947d4e971eb05fd": {
      "model_module": "@jupyter-widgets/controls",
      "model_module_version": "1.2.0",
      "model_name": "ButtonStyleModel",
      "state": {}
     },
     "a41c10b4fdcf4c66854803a7316948bb": {
      "model_module": "@jupyter-widgets/base",
      "model_module_version": "1.0.0",
      "model_name": "LayoutModel",
      "state": {
       "width": "600px"
      }
     },
     "a41f3bb0161649148123991124b83890": {
      "model_module": "@jupyter-widgets/controls",
      "model_module_version": "1.2.0",
      "model_name": "DescriptionStyleModel",
      "state": {
       "description_width": "initial"
      }
     },
     "a423e000af3c4b71ba2470a6d4f9d489": {
      "model_module": "@jupyter-widgets/controls",
      "model_module_version": "1.2.0",
      "model_name": "HTMLModel",
      "state": {
       "layout": "IPY_MODEL_0a4b2421a0cd4891b92b9bc175395285",
       "style": "IPY_MODEL_6bfcd05a32c94c74b0aec4f0e134f628",
       "value": "<h4 style=\"font-size:14px;\">Wie ist im NLTK vorzugehen, wenn ein (wohlgeformter) Satz von einer Grammatik nicht erkannt wird?</h4>"
      }
     },
     "a4351f8677c5491c9cb4b949773ede79": {
      "model_module": "@jupyter-widgets/base",
      "model_module_version": "1.0.0",
      "model_name": "LayoutModel",
      "state": {
       "width": "600px"
      }
     },
     "a49fad07030d467e820eef1328ae374d": {
      "model_module": "@jupyter-widgets/base",
      "model_module_version": "1.0.0",
      "model_name": "LayoutModel",
      "state": {}
     },
     "a4d217032d964a478dab5ccca3e1013c": {
      "model_module": "@jupyter-widgets/controls",
      "model_module_version": "1.2.0",
      "model_name": "CheckboxModel",
      "state": {
       "description": "PP -> P NP",
       "disabled": false,
       "layout": "IPY_MODEL_ea692a45a7d74209ad88d4ea7fe72986",
       "style": "IPY_MODEL_d0338c2fc37b4236bc257433108f909f",
       "value": false
      }
     },
     "a5d5bbf026c04ca781f44b2d90e286d9": {
      "model_module": "@jupyter-widgets/controls",
      "model_module_version": "1.2.0",
      "model_name": "TextareaModel",
      "state": {
       "layout": "IPY_MODEL_502d8b058c5e4a7eaec51216a4deb9f9",
       "placeholder": "Type something",
       "style": "IPY_MODEL_6a5c380a0e874ca6af01479dc238e735",
       "value": "for p in grammar1.________(): _______(p)"
      }
     },
     "a648f2286bb6485c94aa7c4053f7555b": {
      "model_module": "@jupyter-widgets/controls",
      "model_module_version": "1.2.0",
      "model_name": "VBoxModel",
      "state": {
       "children": [
        "IPY_MODEL_a0840ca2a1444916bc80e58d5a20cec3",
        "IPY_MODEL_9d764c2bbfd5406f907568788c7d5ecb",
        "IPY_MODEL_317c4d931ecf46f9a459f14965336374"
       ],
       "layout": "IPY_MODEL_ab784c9cde6f4593a7f4667f65f8e0bf"
      }
     },
     "a7502d92366d4a38bcefda92a8ba7dd5": {
      "model_module": "@jupyter-widgets/base",
      "model_module_version": "1.0.0",
      "model_name": "LayoutModel",
      "state": {}
     },
     "a823b3a91e944d1d8e66743b03a00b0c": {
      "model_module": "@jupyter-widgets/base",
      "model_module_version": "1.0.0",
      "model_name": "LayoutModel",
      "state": {}
     },
     "a913ed55450a43d0a05acc5408707aae": {
      "model_module": "@jupyter-widgets/controls",
      "model_module_version": "1.2.0",
      "model_name": "CheckboxModel",
      "state": {
       "description": "NP -> DET N PP",
       "disabled": false,
       "layout": "IPY_MODEL_7d6aab5e6274448fbf64960768a28d4c",
       "style": "IPY_MODEL_43b30d171b1b4ecebea7a0ada3d9b198",
       "value": false
      }
     },
     "a923da451cf8453589f81d3aec64aa4f": {
      "model_module": "@jupyter-widgets/base",
      "model_module_version": "1.0.0",
      "model_name": "LayoutModel",
      "state": {
       "justify_content": "center"
      }
     },
     "a92d57c0246e45b8a1ffa35bec512295": {
      "model_module": "@jupyter-widgets/base",
      "model_module_version": "1.0.0",
      "model_name": "LayoutModel",
      "state": {
       "width": "600px"
      }
     },
     "a9d87cac74a44b678534c4f7f318d5bb": {
      "model_module": "@jupyter-widgets/base",
      "model_module_version": "1.0.0",
      "model_name": "LayoutModel",
      "state": {}
     },
     "a9e0f72736504782840f7cabe4aa829a": {
      "model_module": "@jupyter-widgets/controls",
      "model_module_version": "1.2.0",
      "model_name": "HTMLModel",
      "state": {
       "layout": "IPY_MODEL_8cb9c5f1ab0947be85e321b1204fbe36",
       "style": "IPY_MODEL_924137723b3443bdb1e174483e8ce0d0",
       "value": "<i>Wählen Sie die <ins>eine</ins> korrekte Antwort aus: </i>"
      }
     },
     "ab784c9cde6f4593a7f4667f65f8e0bf": {
      "model_module": "@jupyter-widgets/base",
      "model_module_version": "1.0.0",
      "model_name": "LayoutModel",
      "state": {}
     },
     "ac0e601126cd45b1a0f241600e893749": {
      "model_module": "@jupyter-widgets/controls",
      "model_module_version": "1.2.0",
      "model_name": "DescriptionStyleModel",
      "state": {
       "description_width": ""
      }
     },
     "ac9c7cba633040b485b4bf8d1ee16ede": {
      "model_module": "@jupyter-widgets/controls",
      "model_module_version": "1.2.0",
      "model_name": "VBoxModel",
      "state": {
       "children": [
        "IPY_MODEL_3042ca9ceed64ccda121d7da5077e029",
        "IPY_MODEL_1659c2d749c747d9bc3a341b2fe602fa",
        "IPY_MODEL_a1af08a4b8ff47c0b15e82538628d5fe"
       ],
       "layout": "IPY_MODEL_477d604fcc6242328b5ae51baa7e95b9"
      }
     },
     "accc71e15cad4c44ab7d562e1a7935ea": {
      "model_module": "@jupyter-widgets/controls",
      "model_module_version": "1.2.0",
      "model_name": "CheckboxModel",
      "state": {
       "description": "NOM -> ADJ NOM",
       "disabled": false,
       "layout": "IPY_MODEL_735550d3f5d5405b8f670d8a87f57289",
       "style": "IPY_MODEL_ea9fa8ffde644b528be8e0fdf1c3c5a3",
       "value": false
      }
     },
     "ae6785ae407a41df8708cd35862411f4": {
      "model_module": "@jupyter-widgets/controls",
      "model_module_version": "1.2.0",
      "model_name": "DescriptionStyleModel",
      "state": {
       "description_width": ""
      }
     },
     "af5ebf87906f4e5292db4651835a246d": {
      "model_module": "@jupyter-widgets/base",
      "model_module_version": "1.0.0",
      "model_name": "LayoutModel",
      "state": {
       "width": "600px"
      }
     },
     "af76111a808b45519941ebe17ca2a100": {
      "model_module": "@jupyter-widgets/controls",
      "model_module_version": "1.2.0",
      "model_name": "DescriptionStyleModel",
      "state": {
       "description_width": "initial"
      }
     },
     "b103290881a54512a32eb7981d884d0e": {
      "model_module": "@jupyter-widgets/controls",
      "model_module_version": "1.2.0",
      "model_name": "VBoxModel",
      "state": {
       "children": [
        "IPY_MODEL_4c3043de8d1d43a381c61a1deb775485",
        "IPY_MODEL_a26f5505f184494e8f1e2e9a532963ca",
        "IPY_MODEL_5d1752d89c724ef69c026a0a4dd82808",
        "IPY_MODEL_f5b0ddaaf1c34d329bcec41cffbb8785"
       ],
       "layout": "IPY_MODEL_75c82d408d114246aeed2290a874a5f0"
      }
     },
     "b1c1d91bf17d40b9a488eb3486d40607": {
      "model_module": "@jupyter-widgets/base",
      "model_module_version": "1.0.0",
      "model_name": "LayoutModel",
      "state": {
       "justify_content": "center"
      }
     },
     "b1cefb0e841a4b5d9ea718811707a045": {
      "model_module": "@jupyter-widgets/controls",
      "model_module_version": "1.2.0",
      "model_name": "DescriptionStyleModel",
      "state": {
       "description_width": "initial"
      }
     },
     "b2e5c832bdf64aceb2ad7b9f61cad1cb": {
      "model_module": "@jupyter-widgets/controls",
      "model_module_version": "1.2.0",
      "model_name": "HTMLModel",
      "state": {
       "layout": "IPY_MODEL_2cfb7ec0961e4209a1d9f7a0afc2961f",
       "style": "IPY_MODEL_7c36c5cffa7d488bae0394657989c70c",
       "value": "<i>Markieren Sie <ins>alle</ins> passenden Antworten: </i>"
      }
     },
     "b34d953a92604acbac4018ab3434ef31": {
      "model_module": "@jupyter-widgets/base",
      "model_module_version": "1.0.0",
      "model_name": "LayoutModel",
      "state": {
       "width": "600px"
      }
     },
     "b3dd048e04e04366bc186b39bbc577d5": {
      "model_module": "@jupyter-widgets/base",
      "model_module_version": "1.0.0",
      "model_name": "LayoutModel",
      "state": {}
     },
     "b40dc5a5c320407ba8684e190769e35d": {
      "model_module": "@jupyter-widgets/base",
      "model_module_version": "1.0.0",
      "model_name": "LayoutModel",
      "state": {}
     },
     "b4a30ab6490347fb8a5949de23c4ae4b": {
      "model_module": "@jupyter-widgets/controls",
      "model_module_version": "1.2.0",
      "model_name": "DescriptionStyleModel",
      "state": {
       "description_width": "initial"
      }
     },
     "b4fd57b119a8443e86218136a81cd630": {
      "model_module": "@jupyter-widgets/base",
      "model_module_version": "1.0.0",
      "model_name": "LayoutModel",
      "state": {}
     },
     "b542ed7c542f46328b165a7ed7869991": {
      "model_module": "@jupyter-widgets/controls",
      "model_module_version": "1.2.0",
      "model_name": "DescriptionStyleModel",
      "state": {
       "description_width": "initial"
      }
     },
     "b684768a9c9a4745906d49beef40990a": {
      "model_module": "@jupyter-widgets/controls",
      "model_module_version": "1.2.0",
      "model_name": "VBoxModel",
      "state": {
       "children": [
        "IPY_MODEL_80893f3b3e364454a06ee2e68a59a742",
        "IPY_MODEL_f7745b1de0e14f66a5b6bee6252fa2d0",
        "IPY_MODEL_3546c0e012b64a3c8d3b7d8d25285ce9"
       ],
       "layout": "IPY_MODEL_9e5580c45dea4fe396294a6560f1e699"
      }
     },
     "b7f172b428ea4bee9ccfeb6d47c38408": {
      "model_module": "@jupyter-widgets/controls",
      "model_module_version": "1.2.0",
      "model_name": "DescriptionStyleModel",
      "state": {
       "description_width": "initial"
      }
     },
     "b8bf542f9e764f4dbda8ad20d0092ff5": {
      "model_module": "@jupyter-widgets/controls",
      "model_module_version": "1.2.0",
      "model_name": "HTMLModel",
      "state": {
       "layout": "IPY_MODEL_6f8226d26faf45408af1f9d34c7fef4f",
       "style": "IPY_MODEL_71424d61343542e8a16b26f74fb523f3",
       "value": "<h4 style=\"font-size:14px;\">Welche Beispiele sind rechtsrekursiv?</h4>"
      }
     },
     "b8d5041003d94d6597c98975e20b9c1b": {
      "model_module": "@jupyter-widgets/base",
      "model_module_version": "1.0.0",
      "model_name": "LayoutModel",
      "state": {}
     },
     "b94fc5982e38448a9e098bb4b2cdc3f4": {
      "model_module": "@jupyter-widgets/base",
      "model_module_version": "1.0.0",
      "model_name": "LayoutModel",
      "state": {}
     },
     "b97461e80c094bfda7596202e72002fd": {
      "model_module": "@jupyter-widgets/controls",
      "model_module_version": "1.2.0",
      "model_name": "ButtonModel",
      "state": {
       "description": "Lösung zeigen",
       "layout": "IPY_MODEL_c8267b98aa984d01b2f02e1c7e07b32f",
       "style": "IPY_MODEL_fce71cca043a4fa5a14a6d62cb7ec8a0"
      }
     },
     "b9d1716d69c54024b687625995ce6777": {
      "model_module": "@jupyter-widgets/base",
      "model_module_version": "1.0.0",
      "model_name": "LayoutModel",
      "state": {
       "width": "600px"
      }
     },
     "bac49e41b0584f108d55c3e65772fb61": {
      "model_module": "@jupyter-widgets/base",
      "model_module_version": "1.0.0",
      "model_name": "LayoutModel",
      "state": {}
     },
     "bb8ce4655b024b8a9c03f8257a4c51e8": {
      "model_module": "@jupyter-widgets/base",
      "model_module_version": "1.0.0",
      "model_name": "LayoutModel",
      "state": {
       "justify_content": "center"
      }
     },
     "bc48a309c45e4f64a61c7b85e8c1ef23": {
      "model_module": "@jupyter-widgets/controls",
      "model_module_version": "1.2.0",
      "model_name": "HTMLModel",
      "state": {
       "layout": "IPY_MODEL_20036a8f67b3427aa606723affb249d9",
       "style": "IPY_MODEL_ac0e601126cd45b1a0f241600e893749",
       "value": "<h4 style=\"font-size:14px;\">Wie können im NLTK die Regeln einer Grammatik ausgegeben werden?</h4>"
      }
     },
     "bc5d19ee869a47f4b9a49e4019484de5": {
      "model_module": "@jupyter-widgets/base",
      "model_module_version": "1.0.0",
      "model_name": "LayoutModel",
      "state": {}
     },
     "bda6627c92304b62b5637f76162c98ee": {
      "model_module": "@jupyter-widgets/controls",
      "model_module_version": "1.2.0",
      "model_name": "ButtonStyleModel",
      "state": {}
     },
     "bdb8d7b50a604584b1c913f17cfa536f": {
      "model_module": "@jupyter-widgets/controls",
      "model_module_version": "1.2.0",
      "model_name": "ButtonModel",
      "state": {
       "description": "Korrekt?",
       "layout": "IPY_MODEL_85d2a139a252469ea1ade294d7f16913",
       "style": "IPY_MODEL_9cff778ce01f4929b7bebe649402dc2b"
      }
     },
     "bdc5ee55dcd1445a968a741c28db76b4": {
      "model_module": "@jupyter-widgets/controls",
      "model_module_version": "1.2.0",
      "model_name": "DescriptionStyleModel",
      "state": {
       "description_width": "initial"
      }
     },
     "be48ac92071d4974b029024cc1690905": {
      "model_module": "@jupyter-widgets/controls",
      "model_module_version": "1.2.0",
      "model_name": "HTMLModel",
      "state": {
       "layout": "IPY_MODEL_e47e62fdc74148538bc7ca8083006e58",
       "style": "IPY_MODEL_cc1dd49d6ec44977b3ec4f29d5157f93",
       "value": "<i>Markieren Sie <ins>alle</ins> passenden Antworten: </i>"
      }
     },
     "bec14afd93374559b58ab57750ed1562": {
      "model_module": "@jupyter-widgets/base",
      "model_module_version": "1.0.0",
      "model_name": "LayoutModel",
      "state": {}
     },
     "bef1f14cc8de463bad6bbedaf4a1e3bd": {
      "model_module": "@jupyter-widgets/base",
      "model_module_version": "1.0.0",
      "model_name": "LayoutModel",
      "state": {
       "width": "600px"
      }
     },
     "bf54ac6cbe944e8f841af2157c0b7f99": {
      "model_module": "@jupyter-widgets/base",
      "model_module_version": "1.0.0",
      "model_name": "LayoutModel",
      "state": {
       "width": "600px"
      }
     },
     "bfb8a35a3c7642db8600f10f8a43c82b": {
      "model_module": "@jupyter-widgets/controls",
      "model_module_version": "1.2.0",
      "model_name": "DescriptionStyleModel",
      "state": {
       "description_width": "initial"
      }
     },
     "c05adb9ee6a34a5cad2ada0bbd32a1a3": {
      "model_module": "@jupyter-widgets/base",
      "model_module_version": "1.0.0",
      "model_name": "LayoutModel",
      "state": {}
     },
     "c0cb70dd8ff747da959140c53ed3b447": {
      "model_module": "@jupyter-widgets/base",
      "model_module_version": "1.0.0",
      "model_name": "LayoutModel",
      "state": {}
     },
     "c31b6af7992547dc9db2133e2317423e": {
      "model_module": "@jupyter-widgets/base",
      "model_module_version": "1.0.0",
      "model_name": "LayoutModel",
      "state": {
       "width": "500px"
      }
     },
     "c31f4bdd44ad447bbca968ec4afc549c": {
      "model_module": "@jupyter-widgets/controls",
      "model_module_version": "1.2.0",
      "model_name": "DescriptionStyleModel",
      "state": {
       "description_width": "initial"
      }
     },
     "c3398f63a5c44a75a7230e633e625e61": {
      "model_module": "@jupyter-widgets/base",
      "model_module_version": "1.0.0",
      "model_name": "LayoutModel",
      "state": {}
     },
     "c3aedbe8f7b64c82b88375c322d3faf0": {
      "model_module": "@jupyter-widgets/base",
      "model_module_version": "1.0.0",
      "model_name": "LayoutModel",
      "state": {
       "width": "250px"
      }
     },
     "c418269caefc4493aed07ccbde9222cf": {
      "model_module": "@jupyter-widgets/controls",
      "model_module_version": "1.2.0",
      "model_name": "HTMLModel",
      "state": {
       "layout": "IPY_MODEL_826a334f48604c67930266fb30fb0afe",
       "style": "IPY_MODEL_2cef78228625419db72bfef0ffdc9a74",
       "value": "<h4 style=\"font-size:14px;\">Wie können im NLTK die Regeln einer Grammatik ausgegeben werden?</h4>"
      }
     },
     "c4d08aeda779441d8184caa1d9265baf": {
      "model_module": "@jupyter-widgets/controls",
      "model_module_version": "1.2.0",
      "model_name": "ButtonModel",
      "state": {
       "description": "Korrekt?",
       "layout": "IPY_MODEL_86fa31c6749c4f5095445517d11be5aa",
       "style": "IPY_MODEL_612c0557d4a9498fa2554c762dbab30a"
      }
     },
     "c4d2b169ea45479497b7dc8bfe75e40b": {
      "model_module": "@jupyter-widgets/controls",
      "model_module_version": "1.2.0",
      "model_name": "DescriptionStyleModel",
      "state": {
       "description_width": "initial"
      }
     },
     "c5883ccf88a34c348bb7656cc6255886": {
      "model_module": "@jupyter-widgets/controls",
      "model_module_version": "1.2.0",
      "model_name": "DescriptionStyleModel",
      "state": {
       "description_width": "initial"
      }
     },
     "c65ed4035cf7465b963fb4dd04b560ed": {
      "model_module": "@jupyter-widgets/base",
      "model_module_version": "1.0.0",
      "model_name": "LayoutModel",
      "state": {}
     },
     "c65ff1a6fa094b62a938b415b1871f09": {
      "model_module": "@jupyter-widgets/controls",
      "model_module_version": "1.2.0",
      "model_name": "CheckboxModel",
      "state": {
       "description": "NOM -> NOM PP",
       "disabled": false,
       "layout": "IPY_MODEL_bf54ac6cbe944e8f841af2157c0b7f99",
       "style": "IPY_MODEL_59ce227e2d8349ac9a76fa370f5ff503",
       "value": false
      }
     },
     "c689470b15114e63baa10a5ce208dd20": {
      "model_module": "@jupyter-widgets/controls",
      "model_module_version": "1.2.0",
      "model_name": "VBoxModel",
      "state": {
       "children": [
        "IPY_MODEL_b8bf542f9e764f4dbda8ad20d0092ff5",
        "IPY_MODEL_b2e5c832bdf64aceb2ad7b9f61cad1cb",
        "IPY_MODEL_e7964db6cfe7479a945d255c2b270714",
        "IPY_MODEL_2fe48555b83f4a53aaa6c34e15ab7860"
       ],
       "layout": "IPY_MODEL_55247e5f583e42e28b8d7fafca3c73de"
      }
     },
     "c6b41c9cf22740beab5320471841ba05": {
      "model_module": "@jupyter-widgets/base",
      "model_module_version": "1.0.0",
      "model_name": "LayoutModel",
      "state": {
       "width": "600px"
      }
     },
     "c736070425024b6191c9060d1aa4b27b": {
      "model_module": "@jupyter-widgets/controls",
      "model_module_version": "1.2.0",
      "model_name": "VBoxModel",
      "state": {
       "children": [
        "IPY_MODEL_a423e000af3c4b71ba2470a6d4f9d489",
        "IPY_MODEL_d4bf8fd0ef274918aa516274c34ebcbf",
        "IPY_MODEL_ac9c7cba633040b485b4bf8d1ee16ede",
        "IPY_MODEL_9525b1ed990743fc87258bf2d104f18e"
       ],
       "layout": "IPY_MODEL_e216d76095d049f081a13964ced6e1ad"
      }
     },
     "c7b32012cdda425198a8438eddf97d11": {
      "model_module": "@jupyter-widgets/base",
      "model_module_version": "1.0.0",
      "model_name": "LayoutModel",
      "state": {
       "width": "500px"
      }
     },
     "c7bf62ea914b4b35a2398ef65cf83702": {
      "model_module": "@jupyter-widgets/base",
      "model_module_version": "1.0.0",
      "model_name": "LayoutModel",
      "state": {}
     },
     "c81a98efd0a04cfeabd0430f2a0ae72e": {
      "model_module": "@jupyter-widgets/controls",
      "model_module_version": "1.2.0",
      "model_name": "DescriptionStyleModel",
      "state": {
       "description_width": "initial"
      }
     },
     "c8267b98aa984d01b2f02e1c7e07b32f": {
      "model_module": "@jupyter-widgets/base",
      "model_module_version": "1.0.0",
      "model_name": "LayoutModel",
      "state": {
       "width": "150px"
      }
     },
     "c94bcdae920d4b359709d160e8f0e8c4": {
      "model_module": "@jupyter-widgets/controls",
      "model_module_version": "1.2.0",
      "model_name": "HTMLModel",
      "state": {
       "layout": "IPY_MODEL_32131b4376c84b0db01d264125d2417c",
       "style": "IPY_MODEL_3dbb1a7faa454a168141607ae2b89751",
       "value": "<h4 style=\"font-size:14px;\">Welche Beispiele sind rechtsrekursiv?</h4>"
      }
     },
     "c9bc71c0ec4943929c61bb550e558bb0": {
      "model_module": "@jupyter-widgets/controls",
      "model_module_version": "1.2.0",
      "model_name": "CheckboxModel",
      "state": {
       "description": "NP -> NP",
       "disabled": false,
       "layout": "IPY_MODEL_3ebb6ffddaf34b3b95b5eed7b7bff35f",
       "style": "IPY_MODEL_7e95ccd8d7a9440897de1adb7b44eebf",
       "value": false
      }
     },
     "cb32ae031c3f43d8b4a725d465651ad0": {
      "model_module": "@jupyter-widgets/controls",
      "model_module_version": "1.2.0",
      "model_name": "CheckboxModel",
      "state": {
       "description": "PP -> P NP",
       "disabled": false,
       "layout": "IPY_MODEL_a4351f8677c5491c9cb4b949773ede79",
       "style": "IPY_MODEL_3f17186e8a1e47ca8d8377a504c525c8",
       "value": false
      }
     },
     "cb8e9af732514cba9a01042822b0a7f1": {
      "model_module": "@jupyter-widgets/base",
      "model_module_version": "1.0.0",
      "model_name": "LayoutModel",
      "state": {
       "width": "250px"
      }
     },
     "cc1dd49d6ec44977b3ec4f29d5157f93": {
      "model_module": "@jupyter-widgets/controls",
      "model_module_version": "1.2.0",
      "model_name": "DescriptionStyleModel",
      "state": {
       "description_width": ""
      }
     },
     "cc8e0beb2edd4078826bf144855e719a": {
      "model_module": "@jupyter-widgets/controls",
      "model_module_version": "1.2.0",
      "model_name": "ButtonModel",
      "state": {
       "description": "Korrekt?",
       "layout": "IPY_MODEL_593176babecf43a29d6e7be5867c4d66",
       "style": "IPY_MODEL_a408c81878c94655a947d4e971eb05fd"
      }
     },
     "cca215e59a87491fa94509b2cc3a2320": {
      "model_module": "@jupyter-widgets/base",
      "model_module_version": "1.0.0",
      "model_name": "LayoutModel",
      "state": {
       "width": "600px"
      }
     },
     "ccac7681f2ad4079b25116bb0ac16f05": {
      "model_module": "@jupyter-widgets/base",
      "model_module_version": "1.0.0",
      "model_name": "LayoutModel",
      "state": {}
     },
     "ce11dcab9fe74539ba7881a9ed86f766": {
      "model_module": "@jupyter-widgets/controls",
      "model_module_version": "1.2.0",
      "model_name": "DescriptionStyleModel",
      "state": {
       "description_width": "initial"
      }
     },
     "ce5de573e6374579b06e5385839206dd": {
      "model_module": "@jupyter-widgets/base",
      "model_module_version": "1.0.0",
      "model_name": "LayoutModel",
      "state": {}
     },
     "cf3190c4c3f948a6b9256ee23bac2b32": {
      "model_module": "@jupyter-widgets/controls",
      "model_module_version": "1.2.0",
      "model_name": "CheckboxModel",
      "state": {
       "description": "PP -> P NP",
       "disabled": false,
       "layout": "IPY_MODEL_ebb7d875012444a7b53cfd5fecb253e3",
       "style": "IPY_MODEL_bdc5ee55dcd1445a968a741c28db76b4",
       "value": false
      }
     },
     "d0338c2fc37b4236bc257433108f909f": {
      "model_module": "@jupyter-widgets/controls",
      "model_module_version": "1.2.0",
      "model_name": "DescriptionStyleModel",
      "state": {
       "description_width": "initial"
      }
     },
     "d09c0e7c92a741458564e9701768e413": {
      "model_module": "@jupyter-widgets/base",
      "model_module_version": "1.0.0",
      "model_name": "LayoutModel",
      "state": {
       "width": "600px"
      }
     },
     "d0ffa1d669c64ca394e1cd8a5253ac34": {
      "model_module": "@jupyter-widgets/controls",
      "model_module_version": "1.2.0",
      "model_name": "VBoxModel",
      "state": {
       "children": [
        "IPY_MODEL_15af4d08c16e4e5dabb97edaf5f5c5e9",
        "IPY_MODEL_69c7ba8b430e4172969e962693b93bde",
        "IPY_MODEL_175d99ce81e942a49237f5d6f63053f9",
        "IPY_MODEL_a04c0f436ace423380a36b5ef9cbb803"
       ],
       "layout": "IPY_MODEL_d1dc487b1a7c4cf18be34ce02e9bcf92"
      }
     },
     "d1dc487b1a7c4cf18be34ce02e9bcf92": {
      "model_module": "@jupyter-widgets/base",
      "model_module_version": "1.0.0",
      "model_name": "LayoutModel",
      "state": {}
     },
     "d220eecb68af4b09a32d13084edb089e": {
      "model_module": "@jupyter-widgets/base",
      "model_module_version": "1.0.0",
      "model_name": "LayoutModel",
      "state": {
       "width": "600px"
      }
     },
     "d22b559bbbfc4af3b7b94a3517261d4f": {
      "model_module": "@jupyter-widgets/base",
      "model_module_version": "1.0.0",
      "model_name": "LayoutModel",
      "state": {}
     },
     "d36c9db70cdd4ad0993d076953bf3de6": {
      "model_module": "@jupyter-widgets/controls",
      "model_module_version": "1.2.0",
      "model_name": "ButtonStyleModel",
      "state": {}
     },
     "d3dc00bd393341de8eeee82af37c1138": {
      "model_module": "@jupyter-widgets/controls",
      "model_module_version": "1.2.0",
      "model_name": "CheckboxModel",
      "state": {
       "description": "PP -> P NP",
       "disabled": false,
       "layout": "IPY_MODEL_714c97080e0f4dd1a327fa4f399c1db1",
       "style": "IPY_MODEL_618fbdaa399d4a8fae27a37a950cc304",
       "value": false
      }
     },
     "d3de1453fa244e42995c04d732c1aec7": {
      "model_module": "@jupyter-widgets/base",
      "model_module_version": "1.0.0",
      "model_name": "LayoutModel",
      "state": {
       "width": "250px"
      }
     },
     "d4bf8fd0ef274918aa516274c34ebcbf": {
      "model_module": "@jupyter-widgets/controls",
      "model_module_version": "1.2.0",
      "model_name": "HTMLModel",
      "state": {
       "layout": "IPY_MODEL_f79efd8f888049e4855ab98458acf683",
       "style": "IPY_MODEL_ead276b1555541a18ad542c986dbb32a",
       "value": "<i>Wählen Sie die <ins>eine</ins> korrekte Antwort aus: </i>"
      }
     },
     "d4bfd42bb5c74ebdadee35dd6101a830": {
      "model_module": "@jupyter-widgets/base",
      "model_module_version": "1.0.0",
      "model_name": "LayoutModel",
      "state": {
       "justify_content": "center"
      }
     },
     "d4c33aecaddd4f4b8d51c7142361c576": {
      "model_module": "@jupyter-widgets/controls",
      "model_module_version": "1.2.0",
      "model_name": "ButtonStyleModel",
      "state": {}
     },
     "d646e4b5be994a7baa2068b790acedf1": {
      "model_module": "@jupyter-widgets/controls",
      "model_module_version": "1.2.0",
      "model_name": "ButtonModel",
      "state": {
       "description": "Korrekt?",
       "layout": "IPY_MODEL_2c6678e403b5454c8849ee58fa13d4ec",
       "style": "IPY_MODEL_7184950bf92c48fcacfda2bd82c35ce9"
      }
     },
     "d7216f7c8cbc428597f1cf06a88ed467": {
      "model_module": "@jupyter-widgets/controls",
      "model_module_version": "1.2.0",
      "model_name": "DescriptionStyleModel",
      "state": {
       "description_width": ""
      }
     },
     "d7c2e06687114f2ba64d0c86740c3852": {
      "model_module": "@jupyter-widgets/base",
      "model_module_version": "1.0.0",
      "model_name": "LayoutModel",
      "state": {
       "width": "600px"
      }
     },
     "d81e3c318a384f64bfcb04766a59a722": {
      "model_module": "@jupyter-widgets/controls",
      "model_module_version": "1.2.0",
      "model_name": "HTMLModel",
      "state": {
       "layout": "IPY_MODEL_dc9828373cc143efa9c0d9c93fd5f8fe",
       "style": "IPY_MODEL_d7216f7c8cbc428597f1cf06a88ed467",
       "value": "<h4 style=\"font-size:14px;\">Wie ist im NLTK vorzugehen, wenn ein (wohlgeformter) Satz von einer Grammatik nicht erkannt wird?</h4>"
      }
     },
     "d82b8f34a10f4182ac030981326bbbd3": {
      "model_module": "@jupyter-widgets/controls",
      "model_module_version": "1.2.0",
      "model_name": "ButtonModel",
      "state": {
       "description": "Korrekt?",
       "layout": "IPY_MODEL_c3aedbe8f7b64c82b88375c322d3faf0",
       "style": "IPY_MODEL_5ea6fa96209b4f678d096fd6c7b771dd"
      }
     },
     "d965d00e94be4ad39ed8fb99bfdd0a6e": {
      "model_module": "@jupyter-widgets/controls",
      "model_module_version": "1.2.0",
      "model_name": "CheckboxModel",
      "state": {
       "description": "PP -> P NP",
       "disabled": false,
       "layout": "IPY_MODEL_903abbcb44fc44ae9eeb93336f3eaf5f",
       "style": "IPY_MODEL_8aaae32097594d08b09521ac129b4b41",
       "value": false
      }
     },
     "d978a0135bf24f5384c0a568eb5c4842": {
      "model_module": "@jupyter-widgets/controls",
      "model_module_version": "1.2.0",
      "model_name": "CheckboxModel",
      "state": {
       "description": "PP -> P NP",
       "disabled": false,
       "layout": "IPY_MODEL_ef759a9a95c84f189d0f5f4ec3c90ce9",
       "style": "IPY_MODEL_334b1d89c1a54292b3c55f61a68138ea",
       "value": false
      }
     },
     "da30938c5e144d3cb373d65829e4639b": {
      "model_module": "@jupyter-widgets/controls",
      "model_module_version": "1.2.0",
      "model_name": "ButtonModel",
      "state": {
       "description": "Korrekt?",
       "layout": "IPY_MODEL_7914c30ca8654631bdffeb7eda7fc71c",
       "style": "IPY_MODEL_daf9f8b44bd0437b985772b521cb9c00"
      }
     },
     "daf9f8b44bd0437b985772b521cb9c00": {
      "model_module": "@jupyter-widgets/controls",
      "model_module_version": "1.2.0",
      "model_name": "ButtonStyleModel",
      "state": {
       "button_color": "lightgreen"
      }
     },
     "dbca3066a0b74f318b8f1a562b00f1a3": {
      "model_module": "@jupyter-widgets/controls",
      "model_module_version": "1.2.0",
      "model_name": "DescriptionStyleModel",
      "state": {
       "description_width": ""
      }
     },
     "dc93c82465fd4d6686237a167fc382a9": {
      "model_module": "@jupyter-widgets/controls",
      "model_module_version": "1.2.0",
      "model_name": "DescriptionStyleModel",
      "state": {
       "description_width": "initial"
      }
     },
     "dc9828373cc143efa9c0d9c93fd5f8fe": {
      "model_module": "@jupyter-widgets/base",
      "model_module_version": "1.0.0",
      "model_name": "LayoutModel",
      "state": {}
     },
     "dd31bd42d09d4b97b002d3217f540a49": {
      "model_module": "@jupyter-widgets/base",
      "model_module_version": "1.0.0",
      "model_name": "LayoutModel",
      "state": {
       "justify_content": "center"
      }
     },
     "dd495b4190f04a52b298e1644a442291": {
      "model_module": "@jupyter-widgets/controls",
      "model_module_version": "1.2.0",
      "model_name": "CheckboxModel",
      "state": {
       "description": "NOM -> NOM PP",
       "disabled": false,
       "layout": "IPY_MODEL_0b76ebc75a634d309bbac4574eb43b5f",
       "style": "IPY_MODEL_0e5e699a28744a2db14d102ae3ecbbe0",
       "value": false
      }
     },
     "deed9ee60f8d455f8c7827734443db99": {
      "model_module": "@jupyter-widgets/base",
      "model_module_version": "1.0.0",
      "model_name": "LayoutModel",
      "state": {
       "width": "600px"
      }
     },
     "def95c5d20da45e58691c1f028bf53da": {
      "model_module": "@jupyter-widgets/controls",
      "model_module_version": "1.2.0",
      "model_name": "HTMLModel",
      "state": {
       "layout": "IPY_MODEL_bec14afd93374559b58ab57750ed1562",
       "style": "IPY_MODEL_1ea1fde16e5a4d4cacf1e1240ab0bef2",
       "value": "<h4 style=\"font-size:14px;\">Welche Beispiele für Phrasenstrukturregeln sind linksrekursiv?</h4>"
      }
     },
     "df641390010c42cd8ae5796facfb0e0b": {
      "model_module": "@jupyter-widgets/controls",
      "model_module_version": "1.2.0",
      "model_name": "VBoxModel",
      "state": {
       "children": [
        "IPY_MODEL_e0793be158a742d1b2127eb2e7013033",
        "IPY_MODEL_85ba57ae577d424c85ec219ca848f3ba",
        "IPY_MODEL_a4d217032d964a478dab5ccca3e1013c"
       ],
       "layout": "IPY_MODEL_8f5742d3413e433e979f108e366c624d"
      }
     },
     "e0793be158a742d1b2127eb2e7013033": {
      "model_module": "@jupyter-widgets/controls",
      "model_module_version": "1.2.0",
      "model_name": "CheckboxModel",
      "state": {
       "description": "NOM -> ADJ NOM",
       "disabled": false,
       "layout": "IPY_MODEL_a41c10b4fdcf4c66854803a7316948bb",
       "style": "IPY_MODEL_c4d2b169ea45479497b7dc8bfe75e40b",
       "value": true
      }
     },
     "e216d76095d049f081a13964ced6e1ad": {
      "model_module": "@jupyter-widgets/base",
      "model_module_version": "1.0.0",
      "model_name": "LayoutModel",
      "state": {}
     },
     "e223f05abf464096bdfc2b377554943d": {
      "model_module": "@jupyter-widgets/controls",
      "model_module_version": "1.2.0",
      "model_name": "HBoxModel",
      "state": {
       "children": [
        "IPY_MODEL_4becbed4d2a641179d8cec1d2ac73cfd",
        "IPY_MODEL_8c38a6d5fb774ea88decadc25137b4ad"
       ],
       "layout": "IPY_MODEL_33a03329004b4f46a60170020778d132"
      }
     },
     "e3c9e8a53f374679b0c21fcaf4b3b59a": {
      "model_module": "@jupyter-widgets/controls",
      "model_module_version": "1.2.0",
      "model_name": "CheckboxModel",
      "state": {
       "description": "NOM -> NOM PP",
       "disabled": false,
       "layout": "IPY_MODEL_2ae58d024b8245d0bc8dc8fd636ac814",
       "style": "IPY_MODEL_266e239e2cef434d8e6dfa80de229e41",
       "value": false
      }
     },
     "e47e62fdc74148538bc7ca8083006e58": {
      "model_module": "@jupyter-widgets/base",
      "model_module_version": "1.0.0",
      "model_name": "LayoutModel",
      "state": {
       "justify_content": "center"
      }
     },
     "e4c8311e490f494696be3de4809b8efe": {
      "model_module": "@jupyter-widgets/controls",
      "model_module_version": "1.2.0",
      "model_name": "DescriptionStyleModel",
      "state": {
       "description_width": "initial"
      }
     },
     "e55a77a7342a4f518d15132e01d4b1f7": {
      "model_module": "@jupyter-widgets/controls",
      "model_module_version": "1.2.0",
      "model_name": "DescriptionStyleModel",
      "state": {
       "description_width": "initial"
      }
     },
     "e7964db6cfe7479a945d255c2b270714": {
      "model_module": "@jupyter-widgets/controls",
      "model_module_version": "1.2.0",
      "model_name": "VBoxModel",
      "state": {
       "children": [
        "IPY_MODEL_1a79f62f8e6d4038805d2d01831c2a44",
        "IPY_MODEL_f8cdfb7c1ff54c93b6203810dff33fe7",
        "IPY_MODEL_cb32ae031c3f43d8b4a725d465651ad0"
       ],
       "layout": "IPY_MODEL_938e80b876744732b092a56ac17c259e"
      }
     },
     "e805433a7d6143af92b28fd5b6c45354": {
      "model_module": "@jupyter-widgets/controls",
      "model_module_version": "1.2.0",
      "model_name": "HBoxModel",
      "state": {
       "children": [
        "IPY_MODEL_eb681a36309a4ba5b6359a651d9db78d",
        "IPY_MODEL_466aea6ee51d4e33ba024884cde66128"
       ],
       "layout": "IPY_MODEL_c0cb70dd8ff747da959140c53ed3b447"
      }
     },
     "e8b9706faba64a4e80cc5f8c3762dc95": {
      "model_module": "@jupyter-widgets/controls",
      "model_module_version": "1.2.0",
      "model_name": "DescriptionStyleModel",
      "state": {
       "description_width": ""
      }
     },
     "e8d5018022704c9da772fd230b10cec7": {
      "model_module": "@jupyter-widgets/controls",
      "model_module_version": "1.2.0",
      "model_name": "VBoxModel",
      "state": {
       "children": [
        "IPY_MODEL_43884c4aadd540e09fe3914af20a4e8f",
        "IPY_MODEL_c65ff1a6fa094b62a938b415b1871f09",
        "IPY_MODEL_cf3190c4c3f948a6b9256ee23bac2b32"
       ],
       "layout": "IPY_MODEL_80deb62721d64784966524c645ba8dea"
      }
     },
     "e9478791c7f246ffba6efa5bb67049ab": {
      "model_module": "@jupyter-widgets/controls",
      "model_module_version": "1.2.0",
      "model_name": "VBoxModel",
      "state": {
       "children": [
        "IPY_MODEL_58fbc8c01b2b4e33a482f22623f14860",
        "IPY_MODEL_be48ac92071d4974b029024cc1690905",
        "IPY_MODEL_237bbb652de24f209299ac17c1ce36cd",
        "IPY_MODEL_bdb8d7b50a604584b1c913f17cfa536f"
       ],
       "layout": "IPY_MODEL_ea14d5b21adc43bfac22f6566fcaa9c8"
      }
     },
     "e9b817266117431ebf1eb02ecfd6e3f5": {
      "model_module": "@jupyter-widgets/controls",
      "model_module_version": "1.2.0",
      "model_name": "CheckboxModel",
      "state": {
       "description": "Grammatik neu einlesen",
       "disabled": false,
       "layout": "IPY_MODEL_226bc8372ab4426d901fe9dcfe6a5946",
       "style": "IPY_MODEL_65a4ff44e2f842d1ab6827049853c6cf",
       "value": false
      }
     },
     "ea14d5b21adc43bfac22f6566fcaa9c8": {
      "model_module": "@jupyter-widgets/base",
      "model_module_version": "1.0.0",
      "model_name": "LayoutModel",
      "state": {}
     },
     "ea692a45a7d74209ad88d4ea7fe72986": {
      "model_module": "@jupyter-widgets/base",
      "model_module_version": "1.0.0",
      "model_name": "LayoutModel",
      "state": {
       "width": "600px"
      }
     },
     "ea9fa8ffde644b528be8e0fdf1c3c5a3": {
      "model_module": "@jupyter-widgets/controls",
      "model_module_version": "1.2.0",
      "model_name": "DescriptionStyleModel",
      "state": {
       "description_width": "initial"
      }
     },
     "ead276b1555541a18ad542c986dbb32a": {
      "model_module": "@jupyter-widgets/controls",
      "model_module_version": "1.2.0",
      "model_name": "DescriptionStyleModel",
      "state": {
       "description_width": ""
      }
     },
     "eb681a36309a4ba5b6359a651d9db78d": {
      "model_module": "@jupyter-widgets/controls",
      "model_module_version": "1.2.0",
      "model_name": "ButtonModel",
      "state": {
       "description": "Korrekt?",
       "layout": "IPY_MODEL_f5d42a2e539b41429c5e4a772947d7c6",
       "style": "IPY_MODEL_855914dd32224b61ab84e53c246d57ba"
      }
     },
     "ebb7d875012444a7b53cfd5fecb253e3": {
      "model_module": "@jupyter-widgets/base",
      "model_module_version": "1.0.0",
      "model_name": "LayoutModel",
      "state": {
       "width": "600px"
      }
     },
     "ebd9bcf7ef974416873a4672b74dc34f": {
      "model_module": "@jupyter-widgets/base",
      "model_module_version": "1.0.0",
      "model_name": "LayoutModel",
      "state": {}
     },
     "ed32155c785940fa9c250acae4147d9f": {
      "model_module": "@jupyter-widgets/base",
      "model_module_version": "1.0.0",
      "model_name": "LayoutModel",
      "state": {
       "width": "350px"
      }
     },
     "ed78e0ba48d843ffadb6e17d3031bcc4": {
      "model_module": "@jupyter-widgets/base",
      "model_module_version": "1.0.0",
      "model_name": "LayoutModel",
      "state": {}
     },
     "eeaa994acc8241559918f9fe35c14d45": {
      "model_module": "@jupyter-widgets/base",
      "model_module_version": "1.0.0",
      "model_name": "LayoutModel",
      "state": {}
     },
     "ef218a6b84ab44cc89009ce4e397524c": {
      "model_module": "@jupyter-widgets/controls",
      "model_module_version": "1.2.0",
      "model_name": "ButtonModel",
      "state": {
       "description": "Korrekt?",
       "layout": "IPY_MODEL_8c629294ddfe4a789c0b7d9ab9aab7ab",
       "style": "IPY_MODEL_bda6627c92304b62b5637f76162c98ee"
      }
     },
     "ef62f2f204334e218a1e9c87e4614403": {
      "model_module": "@jupyter-widgets/controls",
      "model_module_version": "1.2.0",
      "model_name": "DescriptionStyleModel",
      "state": {
       "description_width": ""
      }
     },
     "ef63ea0584174cd7a13cd2a3019b8f51": {
      "model_module": "@jupyter-widgets/controls",
      "model_module_version": "1.2.0",
      "model_name": "VBoxModel",
      "state": {
       "children": [
        "IPY_MODEL_f90d834932744800bb091e74338d5ed8",
        "IPY_MODEL_8158658fa5d04a7fa402dc401fd9d311",
        "IPY_MODEL_df641390010c42cd8ae5796facfb0e0b",
        "IPY_MODEL_20f3d2b38a0f48d2b195b6745ecc65f1"
       ],
       "layout": "IPY_MODEL_93f7ae1633364126948ad0a2451b129d"
      }
     },
     "ef759a9a95c84f189d0f5f4ec3c90ce9": {
      "model_module": "@jupyter-widgets/base",
      "model_module_version": "1.0.0",
      "model_name": "LayoutModel",
      "state": {
       "width": "600px"
      }
     },
     "f0e79137ca12477bbbdb58e62cf1fbd0": {
      "model_module": "@jupyter-widgets/controls",
      "model_module_version": "1.2.0",
      "model_name": "DescriptionStyleModel",
      "state": {
       "description_width": ""
      }
     },
     "f197b2e14d03495bbd9c0a4a0f07920d": {
      "model_module": "@jupyter-widgets/controls",
      "model_module_version": "1.2.0",
      "model_name": "DescriptionStyleModel",
      "state": {
       "description_width": ""
      }
     },
     "f1b2edfef16f43e8a3e746d2cbc913bb": {
      "model_module": "@jupyter-widgets/controls",
      "model_module_version": "1.2.0",
      "model_name": "ButtonStyleModel",
      "state": {
       "button_color": "lightgreen"
      }
     },
     "f26748c3e09344609624a3fb6cd39b3b": {
      "model_module": "@jupyter-widgets/controls",
      "model_module_version": "1.2.0",
      "model_name": "DescriptionStyleModel",
      "state": {
       "description_width": "initial"
      }
     },
     "f2cfad4af7d34a72b6bd1b56f417d95e": {
      "model_module": "@jupyter-widgets/controls",
      "model_module_version": "1.2.0",
      "model_name": "HTMLModel",
      "state": {
       "layout": "IPY_MODEL_58d9386b0fa84af48fb57b9ec878e3f7",
       "style": "IPY_MODEL_449dbec0435d4b5cb1ba4ad459c69a70",
       "value": "<i>Markieren Sie <ins>alle</ins> passenden Antworten: </i>"
      }
     },
     "f2e2671185bf4a1abdb001daf2a1eadb": {
      "model_module": "@jupyter-widgets/controls",
      "model_module_version": "1.2.0",
      "model_name": "CheckboxModel",
      "state": {
       "description": "PP -> P NP",
       "disabled": false,
       "layout": "IPY_MODEL_bef1f14cc8de463bad6bbedaf4a1e3bd",
       "style": "IPY_MODEL_a41f3bb0161649148123991124b83890",
       "value": false
      }
     },
     "f2e2fc83f06b472688cf7d7aa8f9d583": {
      "model_module": "@jupyter-widgets/controls",
      "model_module_version": "1.2.0",
      "model_name": "VBoxModel",
      "state": {
       "children": [
        "IPY_MODEL_7ce344379625407ebb497942f3418d95",
        "IPY_MODEL_85fa90123b6e4a2c8f73eae6b5ec4964",
        "IPY_MODEL_7926e23ff9bb480a91321bfb0166fb3d"
       ],
       "layout": "IPY_MODEL_a07552cc15384b3c975e7cf23946ea4d"
      }
     },
     "f3fd99ba8e104f0a89fdb0b6be39e49b": {
      "model_module": "@jupyter-widgets/controls",
      "model_module_version": "1.2.0",
      "model_name": "VBoxModel",
      "state": {
       "children": [
        "IPY_MODEL_accc71e15cad4c44ab7d562e1a7935ea",
        "IPY_MODEL_2e792c63d9b443d48e01f0becb2e806b",
        "IPY_MODEL_d965d00e94be4ad39ed8fb99bfdd0a6e"
       ],
       "layout": "IPY_MODEL_3e6ec4da4eb9447d9e93ec7733cb5bd0"
      }
     },
     "f48b16923de841ef9dd1ba2c2996c715": {
      "model_module": "@jupyter-widgets/controls",
      "model_module_version": "1.2.0",
      "model_name": "DescriptionStyleModel",
      "state": {
       "description_width": ""
      }
     },
     "f56cb2283350442b9d0c4cd35fb04bfa": {
      "model_module": "@jupyter-widgets/base",
      "model_module_version": "1.0.0",
      "model_name": "LayoutModel",
      "state": {
       "width": "350px"
      }
     },
     "f5a95d64dc2341c3ab0b6409c0afedb4": {
      "model_module": "@jupyter-widgets/controls",
      "model_module_version": "1.2.0",
      "model_name": "ButtonStyleModel",
      "state": {}
     },
     "f5b0ddaaf1c34d329bcec41cffbb8785": {
      "model_module": "@jupyter-widgets/controls",
      "model_module_version": "1.2.0",
      "model_name": "ButtonModel",
      "state": {
       "description": "Korrekt?",
       "layout": "IPY_MODEL_d3de1453fa244e42995c04d732c1aec7",
       "style": "IPY_MODEL_7370ffa0523143219afa8f32666d0cdd"
      }
     },
     "f5d42a2e539b41429c5e4a772947d7c6": {
      "model_module": "@jupyter-widgets/base",
      "model_module_version": "1.0.0",
      "model_name": "LayoutModel",
      "state": {
       "width": "350px"
      }
     },
     "f6b68d82ae1c42ba8f433be30255bb1c": {
      "model_module": "@jupyter-widgets/controls",
      "model_module_version": "1.2.0",
      "model_name": "DescriptionStyleModel",
      "state": {
       "description_width": ""
      }
     },
     "f7745b1de0e14f66a5b6bee6252fa2d0": {
      "model_module": "@jupyter-widgets/controls",
      "model_module_version": "1.2.0",
      "model_name": "CheckboxModel",
      "state": {
       "description": "NOM -> NOM PP",
       "disabled": false,
       "layout": "IPY_MODEL_10b9699bbf1f415b87dd6a0d7ebaa54a",
       "style": "IPY_MODEL_60ee8d7f26e24a28876b73a4e4623747",
       "value": true
      }
     },
     "f79efd8f888049e4855ab98458acf683": {
      "model_module": "@jupyter-widgets/base",
      "model_module_version": "1.0.0",
      "model_name": "LayoutModel",
      "state": {
       "justify_content": "center"
      }
     },
     "f8cdfb7c1ff54c93b6203810dff33fe7": {
      "model_module": "@jupyter-widgets/controls",
      "model_module_version": "1.2.0",
      "model_name": "CheckboxModel",
      "state": {
       "description": "NOM -> NOM PP",
       "disabled": false,
       "layout": "IPY_MODEL_d7c2e06687114f2ba64d0c86740c3852",
       "style": "IPY_MODEL_2cbc844664e54d95aada0028246004e9",
       "value": false
      }
     },
     "f90d834932744800bb091e74338d5ed8": {
      "model_module": "@jupyter-widgets/controls",
      "model_module_version": "1.2.0",
      "model_name": "HTMLModel",
      "state": {
       "layout": "IPY_MODEL_b8d5041003d94d6597c98975e20b9c1b",
       "style": "IPY_MODEL_53359267c75544c79993ea25d644dabb",
       "value": "<h4 style=\"font-size:14px;\">Welche Beispiele sind rechtsrekursiv?</h4>"
      }
     },
     "f9bc7c8c7e064fcb8de5a5b7f1c3fde9": {
      "model_module": "@jupyter-widgets/controls",
      "model_module_version": "1.2.0",
      "model_name": "DescriptionStyleModel",
      "state": {
       "description_width": ""
      }
     },
     "fcdc0fa188e34730a6c44d1ee6a1c9d7": {
      "model_module": "@jupyter-widgets/base",
      "model_module_version": "1.0.0",
      "model_name": "LayoutModel",
      "state": {}
     },
     "fce71cca043a4fa5a14a6d62cb7ec8a0": {
      "model_module": "@jupyter-widgets/controls",
      "model_module_version": "1.2.0",
      "model_name": "ButtonStyleModel",
      "state": {}
     },
     "fd28a2212dff4edb960380f496e2b505": {
      "model_module": "@jupyter-widgets/controls",
      "model_module_version": "1.2.0",
      "model_name": "HTMLModel",
      "state": {
       "layout": "IPY_MODEL_39b3e6087ae0498a8baefbe3cd71c2e7",
       "style": "IPY_MODEL_788743b2e5634026a081911fa4aca2c3",
       "value": "<h4 style=\"font-size:14px;\">Wie ist im NLTK vorzugehen, wenn ein (wohlgeformter) Satz von einer Grammatik nicht erkannt wird?</h4>"
      }
     },
     "fd3c0bddc66946b39b5b27bdded87eb9": {
      "model_module": "@jupyter-widgets/controls",
      "model_module_version": "1.2.0",
      "model_name": "DescriptionStyleModel",
      "state": {
       "description_width": "initial"
      }
     },
     "ff25f2bccbd947759f33a53f009f91cd": {
      "model_module": "@jupyter-widgets/controls",
      "model_module_version": "1.2.0",
      "model_name": "CheckboxModel",
      "state": {
       "description": "NP -> DET N PP",
       "disabled": false,
       "layout": "IPY_MODEL_0f7b16451c7a4da8a940d419842909ff",
       "style": "IPY_MODEL_b542ed7c542f46328b165a7ed7869991",
       "value": false
      }
     },
     "ff43b219efc04e07a9222e7bb1838882": {
      "model_module": "@jupyter-widgets/controls",
      "model_module_version": "1.2.0",
      "model_name": "CheckboxModel",
      "state": {
       "description": "NP -> NP",
       "disabled": false,
       "layout": "IPY_MODEL_589defff67e841989367edb4e075c554",
       "style": "IPY_MODEL_e4c8311e490f494696be3de4809b8efe",
       "value": true
      }
     }
    },
    "version_major": 2,
    "version_minor": 0
   }
  }
 },
 "nbformat": 4,
 "nbformat_minor": 2
}
