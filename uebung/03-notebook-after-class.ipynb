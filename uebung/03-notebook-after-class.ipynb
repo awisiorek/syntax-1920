{
 "cells": [
  {
   "cell_type": "markdown",
   "metadata": {},
   "source": [
    "***Vorlesung 'Syntax natürlicher Sprachen', WS 2019/20***\n",
    "\n",
    "---\n",
    "# Übung 3"
   ]
  },
  {
   "cell_type": "code",
   "execution_count": 1,
   "metadata": {},
   "outputs": [],
   "source": [
    "from exercises_3 import *\n",
    "from questions import aufgabe\n",
    "from nltk.tree import Tree"
   ]
  },
  {
   "cell_type": "markdown",
   "metadata": {},
   "source": [
    "---\n",
    "## Aufgabe 1: Wortarten\n",
    "\n",
    "#### Bestimmen Sie die Wortarten des folgenden Satzes. Geben Sie jeweils das entsprechende Tag aus dem Universal Dependency (http://universaldependencies.org/u/pos/) Tagset an.\n",
    "\n",
    "- *Sie gab ihm das neue Buch von Chomsky, aber er zeigte kein Interesse daran.*"
   ]
  },
  {
   "cell_type": "markdown",
   "metadata": {},
   "source": [
    "| Sie | gab | ihm | das | neue | Buch | von | Chomsky, | aber | er  | zeigte | kein | Interesse | daran.\n",
    "| --- | --- | --- | --- | ---- | ---- | --- | -------- | ---- | --- | ------ | ---- | --------- | ------ |\n",
    "| PRON | VERB | PRON | DET | ADJ | NOUN  | ADP | PROPN      | CCONJ  | PRON | VERB    | DET | NOUN    | PRON/ADV  |"
   ]
  },
  {
   "cell_type": "markdown",
   "metadata": {},
   "source": [
    "#### Vergleichen Sie ihre Tabelle anschließend mit dem Output des Spacy-Taggers."
   ]
  },
  {
   "cell_type": "code",
   "execution_count": 2,
   "metadata": {},
   "outputs": [],
   "source": [
    "import spacy\n",
    "\n",
    "nlp = spacy.load(\"de_core_news_sm\")\n",
    "doc = nlp('Sie gab ihm das neue Buch von Chomsky, aber er zeigte kein Interesse daran.')"
   ]
  },
  {
   "cell_type": "code",
   "execution_count": 3,
   "metadata": {},
   "outputs": [
    {
     "name": "stdout",
     "output_type": "stream",
     "text": [
      "Text       UD Tag     TIGER Tag \n",
      "========== ========== ==========\n",
      "Sie        PRON       PPER      \n",
      "gab        VERB       VVFIN     \n",
      "ihm        PRON       PPER      \n",
      "das        DET        ART       \n",
      "neue       ADJ        ADJA      \n",
      "Buch       NOUN       NN        \n",
      "von        ADP        APPR      \n",
      "Chomsky    PROPN      NE        \n",
      ",          PUNCT      $,        \n",
      "aber       CONJ       KON       \n",
      "er         PRON       PPER      \n",
      "zeigte     VERB       VVFIN     \n",
      "kein       DET        PIAT      \n",
      "Interesse  NOUN       NN        \n",
      "daran      ADV        PROAV     \n",
      ".          PUNCT      $.        \n"
     ]
    }
   ],
   "source": [
    "format_string = '{:10s} {:10s} {:10s}'\n",
    "print(format_string.format('Text', 'UD Tag', 'TIGER Tag'))\n",
    "print(format_string.format(*(['==========']*3)))\n",
    "for token in doc:\n",
    "    print(format_string.format(token.text, token.pos_, token.tag_))"
   ]
  },
  {
   "cell_type": "code",
   "execution_count": 4,
   "metadata": {},
   "outputs": [
    {
     "data": {
      "text/plain": [
       "'attributive indefinite pronoun without determiner'"
      ]
     },
     "execution_count": 4,
     "metadata": {},
     "output_type": "execute_result"
    }
   ],
   "source": [
    "spacy.explain('PIAT')"
   ]
  },
  {
   "cell_type": "code",
   "execution_count": 5,
   "metadata": {},
   "outputs": [
    {
     "data": {
      "text/plain": [
       "'pronominal adverb'"
      ]
     },
     "execution_count": 5,
     "metadata": {},
     "output_type": "execute_result"
    }
   ],
   "source": [
    "spacy.explain('PROAV')"
   ]
  },
  {
   "cell_type": "markdown",
   "metadata": {},
   "source": [
    "---\n",
    "## Aufgabe 2: Wortarten im Kontext\n",
    "\n",
    "#### Betrachten sie folgende Sätze:\n",
    "1. *Er spielt gerne Schach.*\n",
    "2. *Er spielt gut Schach.*\n"
   ]
  },
  {
   "cell_type": "markdown",
   "metadata": {},
   "source": [
    "---\n",
    "### Aufgabe 2 a:\n",
    "\n",
    "#### Diskutieren Sie, ob es sich bei dem Wort *gerne* in Satz 1 um ein Adverb oder ein Adjektiv handelt."
   ]
  },
  {
   "cell_type": "code",
   "execution_count": 6,
   "metadata": {},
   "outputs": [
    {
     "data": {
      "application/vnd.jupyter.widget-view+json": {
       "model_id": "d9212a492a3f43808b129ff8d66421ba",
       "version_major": 2,
       "version_minor": 0
      },
      "text/plain": [
       "MultipleChoice(children=(HTML(value='<h4 style=\"font-size:14px;\">Welche Eigenschaften hat <i>gerne</i> in Satz…"
      ]
     },
     "metadata": {},
     "output_type": "display_data"
    },
    {
     "data": {
      "application/vnd.jupyter.widget-view+json": {
       "model_id": "f143471971024e839486c955599c464d",
       "version_major": 2,
       "version_minor": 0
      },
      "text/plain": [
       "SingleChoice(children=(HTML(value='<h4 style=\"font-size:14px;\">Welche Wortart folgt damit für das Wort <i>gern…"
      ]
     },
     "metadata": {},
     "output_type": "display_data"
    }
   ],
   "source": [
    "aufgabe(blatt3_2a)"
   ]
  },
  {
   "cell_type": "markdown",
   "metadata": {},
   "source": [
    "---\n",
    "### Aufgabe 2 b:\n",
    "\n",
    "#### Um welche Wortart handelt es sich bei dem Lexem *gut* in Satz 2? Diskutieren Sie die Probleme, die hier bei der Wortartenbestimmung auftreten."
   ]
  },
  {
   "cell_type": "code",
   "execution_count": 7,
   "metadata": {},
   "outputs": [
    {
     "data": {
      "application/vnd.jupyter.widget-view+json": {
       "model_id": "0aba952f1dde491f9004a930edc02e53",
       "version_major": 2,
       "version_minor": 0
      },
      "text/plain": [
       "MultipleChoice(children=(HTML(value='<h4 style=\"font-size:14px;\">Welche Eigenschaften hat <i>gut</i> in Satz 2…"
      ]
     },
     "metadata": {},
     "output_type": "display_data"
    },
    {
     "data": {
      "application/vnd.jupyter.widget-view+json": {
       "model_id": "85b9c0574eee44358089ff99d7a60461",
       "version_major": 2,
       "version_minor": 0
      },
      "text/plain": [
       "SingleChoice(children=(HTML(value='<h4 style=\"font-size:14px;\">Welche Wortart folgt damit für das Wort <i>gut<…"
      ]
     },
     "metadata": {},
     "output_type": "display_data"
    },
    {
     "data": {
      "application/vnd.jupyter.widget-view+json": {
       "model_id": "337f783a91944dea84d8e5cffc054961",
       "version_major": 2,
       "version_minor": 0
      },
      "text/plain": [
       "SingleChoice(children=(HTML(value='<h4 style=\"font-size:14px;\">Welche Wortart könnte man für das Wort <i>gut<…"
      ]
     },
     "metadata": {},
     "output_type": "display_data"
    }
   ],
   "source": [
    "aufgabe(blatt3_2b)"
   ]
  },
  {
   "cell_type": "markdown",
   "metadata": {},
   "source": [
    "---\n",
    "## Aufgabe 3: Phrasenstruktur\n",
    "\n",
    "#### Geben Sie für den folgenden Satz einen Phrasenstrukturbaum an.\n",
    "\n",
    "- *Die Studierenden schenkten ihnen ein Buch von Chomsky.*\n",
    "\n",
    "#### Erinnern Sie sich, dass Sie mit der Klasse `Tree` aus dem NLTK auch per Hand Syntaxbäume erstellen können (siehe nächste Codezelle).\n",
    "#### Sie dürfen aber auch gerne Papier und Stift benutzen :-)"
   ]
  },
  {
   "cell_type": "code",
   "execution_count": 8,
   "metadata": {
    "scrolled": true
   },
   "outputs": [
    {
     "name": "stdout",
     "output_type": "stream",
     "text": [
      "             S                \n",
      "     ┌───────┴───────────┐     \n",
      "     NP                  VP   \n",
      " ┌───┴───────┐           │     \n",
      "ART          N           V    \n",
      " │           │           │     \n",
      "Die     Studierenden schenkten\n",
      "\n"
     ]
    }
   ],
   "source": [
    "#TEMPLATE:\n",
    "np1 = Tree(\n",
    "    'NP',\n",
    "    [Tree('ART', ['Die']),Tree('N', ['Studierenden'])]\n",
    ")\n",
    "vp = Tree(\n",
    "    'VP',\n",
    "    [Tree('V', ['schenkten'])]\n",
    ")\n",
    "s = Tree(\n",
    "    'S',\n",
    "    [np1, vp]\n",
    ")\n",
    "\n",
    "s.pretty_print(unicodelines=True)"
   ]
  },
  {
   "cell_type": "markdown",
   "metadata": {},
   "source": [
    "---\n",
    "## Aufgabe 4: Konstituententests"
   ]
  },
  {
   "cell_type": "markdown",
   "metadata": {},
   "source": [
    "#### Füllen Sie folgende Tabelle aus, indem Sie den jeweils angegebenen Konstituententest am folgenden Satz ausführen.\n",
    "\n",
    "- *Die Studierenden schenkten ihnen ein Buch über Fußball.*\n",
    "\n",
    "| Wortgruppe | Substitutionstest | Eliminierungstest | Permutationstest | Konstituente?\n",
    "| ---------- | ----------------- | ----------------- | ---------------- | ------------- |\n",
    "| Die Studierenden | 1 | 2 | 3, 4 | ja |\n",
    "| ihnen ein | ... | ... | ... | ... |\n",
    "| Buch über Fußball | 5 | 6 | 7 | nein |\n",
    "| über Fußball | ... | ... | ... | ... |\n",
    "\n",
    "1. Sie schenkten ihnen ein Buch über Fußball.\n",
    "2. *schenkten ihnen ein Buch über Fußball.\n",
    "3. Ein Buch über Fußball schenkten ihnen die Studierenden.\n",
    "4. *Die ein Buch über Fußball schenkten ihnen Studierenden.\n",
    "\n",
    "\n",
    "5. Die Studierenden schenkten ihnen ein Auto.\n",
    "6. ??Die Studierenden schenkten ihnen ein.\n",
    "7. *Buch über Fußball schenkten ihnen ein die Studierenden."
   ]
  },
  {
   "cell_type": "markdown",
   "metadata": {},
   "source": [
    "---\n",
    "## Aufgabe 5: Phrasen und Konstituenten"
   ]
  },
  {
   "cell_type": "markdown",
   "metadata": {},
   "source": [
    "#### Erläutern Sie am Beispiel des Wortes *Verloren* im folgenden Satz den Unterschied zwischen Konstituente und Phrase.\n",
    "\n",
    "- *Verloren hat er seinen Schlüsselbund zwar noch nie, aber oft genug verlegt.*"
   ]
  },
  {
   "cell_type": "code",
   "execution_count": 9,
   "metadata": {
    "scrolled": true
   },
   "outputs": [
    {
     "data": {
      "application/vnd.jupyter.widget-view+json": {
       "model_id": "378ce7d3206741f8b2338e96c88ffb98",
       "version_major": 2,
       "version_minor": 0
      },
      "text/plain": [
       "Lueckentext(children=(HTML(value='<i>Vervollständigen Sie den Lückentext: </i>', layout=Layout(justify_content…"
      ]
     },
     "metadata": {},
     "output_type": "display_data"
    }
   ],
   "source": [
    "aufgabe(blatt3_5)"
   ]
  },
  {
   "cell_type": "markdown",
   "metadata": {},
   "source": [
    "--- \n",
    "# Hausaufgaben"
   ]
  },
  {
   "cell_type": "markdown",
   "metadata": {},
   "source": [
    "---\n",
    "## Aufgabe 6: Phrasenstruktur\n",
    "\n",
    "\n",
    "#### Zerlegen Sie den folgenden Satz in seine Konstituenten. Stellen Sie die Konstituentenstruktur mit einem Kastendiagramm dar und erstellen Sie dann mit NLTK den entsprechenden Syntaxbaum.\n",
    "\n",
    "- *Die Kunst des Ausruhens ist ein Teil der Kunst des Arbeitens.*"
   ]
  },
  {
   "cell_type": "markdown",
   "metadata": {},
   "source": [
    "\n",
    "| Die | Kunst | des | Ausruhens | ist | ein | Teil | der | Kunst | des  | Arbeitens |\n",
    "\n",
    "| Die  Kunst | ..."
   ]
  },
  {
   "cell_type": "code",
   "execution_count": null,
   "metadata": {},
   "outputs": [],
   "source": [
    "#TEMPLATE:\n",
    "np1 = Tree(\n",
    "    'NP',\n",
    "    [Tree('ART', ['Die']),Tree('N', ['Kunst'])]\n",
    ")\n",
    "vp = Tree(\n",
    "    'VP',\n",
    "    [Tree('V', ['ist'])]\n",
    ")\n",
    "s = Tree(\n",
    "    'S',\n",
    "    [np1, vp]\n",
    ")\n",
    "\n",
    "s.pretty_print(unicodelines=True)"
   ]
  },
  {
   "cell_type": "markdown",
   "metadata": {},
   "source": [
    "---\n",
    "## Aufgabe 7: Konstituententests"
   ]
  },
  {
   "cell_type": "markdown",
   "metadata": {},
   "source": [
    "#### Zeigen Sie mit dem Substitutionstest, dass es sich in folgendem Satz bei der Wortverbingung *nur mit einem Schritt* um eine Konstituente handelt.\n",
    "\n",
    "- Eine Reise von tausend Meilen beginnt auch nur mit einem Schritt.\n",
    "\n",
    "#### Beantworten Sie anschließend die folgenden Fragen!"
   ]
  },
  {
   "cell_type": "markdown",
   "metadata": {},
   "source": [
    "Substitutionstest: *Hier fehlt Ihre Lösung*"
   ]
  },
  {
   "cell_type": "code",
   "execution_count": 6,
   "metadata": {},
   "outputs": [
    {
     "data": {
      "application/vnd.jupyter.widget-view+json": {
       "model_id": "a3f0437d6c4c43079d869e841c5994fa",
       "version_major": 2,
       "version_minor": 0
      },
      "text/plain": [
       "MultipleChoice(children=(HTML(value='<h4 style=\"font-size:14px;\">Welcher ist der richtig permutierte Satz?</h4…"
      ]
     },
     "metadata": {},
     "output_type": "display_data"
    },
    {
     "data": {
      "application/vnd.jupyter.widget-view+json": {
       "model_id": "dc986843d97d4083b815083f8af2d402",
       "version_major": 2,
       "version_minor": 0
      },
      "text/plain": [
       "MultipleChoice(children=(HTML(value='<h4 style=\"font-size:14px;\"><i>Eine Reise beginnt auch nur mit einem Schr…"
      ]
     },
     "metadata": {},
     "output_type": "display_data"
    }
   ],
   "source": [
    "aufgabe(blatt3_7)"
   ]
  },
  {
   "cell_type": "markdown",
   "metadata": {},
   "source": [
    "---\n",
    "## Aufgabe 8: Fragen zu NLTK-Kapitel 5"
   ]
  },
  {
   "cell_type": "markdown",
   "metadata": {},
   "source": [
    "#### Lesen Sie das Vorwort von NLTK-Kapitel 5 (’Categorizing and Tagging Words’) sowie die Teilkapitel 5.1, 5.2 und 5.7: http://www.nltk.org/book/ch05.html.\n",
    "\n",
    "#### Beantworten Sie insbesondere folgende Fragen:"
   ]
  },
  {
   "cell_type": "markdown",
   "metadata": {},
   "source": [
    "---\n",
    "### Aufgabe 8 a:"
   ]
  },
  {
   "cell_type": "code",
   "execution_count": 11,
   "metadata": {},
   "outputs": [
    {
     "data": {
      "application/vnd.jupyter.widget-view+json": {
       "model_id": "a882f6b84f344c7b9c282f11c8b087ce",
       "version_major": 2,
       "version_minor": 0
      },
      "text/plain": [
       "SingleChoice(children=(HTML(value='<h4 style=\"font-size:14px;\">Was ist der Input eines Part-of-Speech-Taggers?…"
      ]
     },
     "metadata": {},
     "output_type": "display_data"
    },
    {
     "data": {
      "application/vnd.jupyter.widget-view+json": {
       "model_id": "63329da9085c447e8e2a67213fe1e425",
       "version_major": 2,
       "version_minor": 0
      },
      "text/plain": [
       "SingleChoice(children=(HTML(value='<h4 style=\"font-size:14px;\">Was ist der Output eines Part-of-Speech-Taggers…"
      ]
     },
     "metadata": {},
     "output_type": "display_data"
    },
    {
     "data": {
      "application/vnd.jupyter.widget-view+json": {
       "model_id": "576b9565d33f426489920f69b602cfe5",
       "version_major": 2,
       "version_minor": 0
      },
      "text/plain": [
       "OpenTextfield(children=(HTML(value='<h4 style=\"font-size:14px;\">Wie wirt der POS-Tagger im NLTK aufgerufen?</h…"
      ]
     },
     "metadata": {},
     "output_type": "display_data"
    }
   ],
   "source": [
    "aufgabe(blatt3_8a)"
   ]
  },
  {
   "cell_type": "markdown",
   "metadata": {},
   "source": [
    "---\n",
    "### Aufgabe 8 b:\n",
    "\n",
    "#### Sehen Sie sich folgenden Codeblock und dessen Output an (s. auch NLTK 5.1):"
   ]
  },
  {
   "cell_type": "code",
   "execution_count": 12,
   "metadata": {},
   "outputs": [
    {
     "name": "stdout",
     "output_type": "stream",
     "text": [
      "the his this that their one any no her its in our my some your each it\n",
      "all another of\n",
      "\n",
      "\n",
      "good much simple one new little white young sure beautiful that is\n",
      "time quiet certain great small proud bad thin\n",
      "\n",
      "\n",
      "time way day year man state work world moment country house group case\n",
      "room war church area job point car\n"
     ]
    }
   ],
   "source": [
    "import nltk\n",
    "text = nltk.Text(word.lower() for word in nltk.corpus.brown.words())\n",
    "\n",
    "text.similar('a')\n",
    "print('\\n')\n",
    "text.similar('nice')\n",
    "print('\\n')\n",
    "text.similar('book')"
   ]
  },
  {
   "cell_type": "code",
   "execution_count": 13,
   "metadata": {},
   "outputs": [
    {
     "data": {
      "application/vnd.jupyter.widget-view+json": {
       "model_id": "7fcc832ef19046a4904d30ccf73add21",
       "version_major": 2,
       "version_minor": 0
      },
      "text/plain": [
       "MultipleChoice(children=(HTML(value='<h4 style=\"font-size:14px;\">Was leistet die Funktion <code>nltk.similar()…"
      ]
     },
     "metadata": {},
     "output_type": "display_data"
    }
   ],
   "source": [
    "aufgabe(blatt3_8b)"
   ]
  },
  {
   "cell_type": "markdown",
   "metadata": {},
   "source": [
    "---\n",
    "### Aufgabe 8 c:\n",
    "\n",
    "#### Erklären Sie, wie im zweiten der folgenden Codeblocks (NLTK 5.2.3/4) syntaktische Muster festgestellt werden. \n",
    "\n",
    "#### Füllen Sie mit diesem Wissen den Lückentext."
   ]
  },
  {
   "cell_type": "code",
   "execution_count": 14,
   "metadata": {},
   "outputs": [
    {
     "name": "stdout",
     "output_type": "stream",
     "text": [
      "(('The', 'DET'), ('Fulton', 'NOUN'))\n",
      "(('Fulton', 'NOUN'), ('County', 'NOUN'))\n",
      "(('County', 'NOUN'), ('Grand', 'ADJ'))\n"
     ]
    }
   ],
   "source": [
    "from nltk.corpus import brown\n",
    "brown_news_tagged = brown.tagged_words(categories='news', tagset='universal')\n",
    "word_tag_pairs = nltk.bigrams(brown_news_tagged)\n",
    "word_tag_pairs_list = list(word_tag_pairs)\n",
    "print(word_tag_pairs_list[0])\n",
    "print(word_tag_pairs_list[1])\n",
    "print(word_tag_pairs_list[2])"
   ]
  },
  {
   "cell_type": "code",
   "execution_count": 15,
   "metadata": {},
   "outputs": [
    {
     "data": {
      "text/plain": [
       "['NOUN',\n",
       " 'DET',\n",
       " 'ADJ',\n",
       " 'ADP',\n",
       " '.',\n",
       " 'VERB',\n",
       " 'CONJ',\n",
       " 'NUM',\n",
       " 'ADV',\n",
       " 'PRT',\n",
       " 'PRON',\n",
       " 'X']"
      ]
     },
     "execution_count": 15,
     "metadata": {},
     "output_type": "execute_result"
    }
   ],
   "source": [
    "word_tag_pairs = nltk.bigrams(brown_news_tagged)\n",
    "noun_preceders = [a[1] for (a, b) in word_tag_pairs if b[1] == 'NOUN']\n",
    "fdist = nltk.FreqDist(noun_preceders)\n",
    "[tag for (tag, _) in fdist.most_common()]"
   ]
  },
  {
   "cell_type": "code",
   "execution_count": 16,
   "metadata": {},
   "outputs": [
    {
     "data": {
      "application/vnd.jupyter.widget-view+json": {
       "model_id": "b957a15f1a3e464cbf6a63c0d2de2ccb",
       "version_major": 2,
       "version_minor": 0
      },
      "text/plain": [
       "Lueckentext(children=(HTML(value='<i>Vervollständigen Sie den Lückentext: </i>', layout=Layout(justify_content…"
      ]
     },
     "metadata": {},
     "output_type": "display_data"
    }
   ],
   "source": [
    "aufgabe(blatt3_8c)"
   ]
  },
  {
   "cell_type": "markdown",
   "metadata": {},
   "source": [
    "---\n",
    "### Aufgabe 8 d:"
   ]
  },
  {
   "cell_type": "code",
   "execution_count": 17,
   "metadata": {},
   "outputs": [
    {
     "data": {
      "application/vnd.jupyter.widget-view+json": {
       "model_id": "d674b5c817ed446da5c477d482cbe259",
       "version_major": 2,
       "version_minor": 0
      },
      "text/plain": [
       "MultipleChoice(children=(HTML(value='<h4 style=\"font-size:14px;\">Was sind morphologische Kriterien für Wortkat…"
      ]
     },
     "metadata": {},
     "output_type": "display_data"
    },
    {
     "data": {
      "application/vnd.jupyter.widget-view+json": {
       "model_id": "fbc715f37fa54c1196a6e856814591b7",
       "version_major": 2,
       "version_minor": 0
      },
      "text/plain": [
       "MultipleChoice(children=(HTML(value='<h4 style=\"font-size:14px;\">Was sind syntaktische Kriterien für Wortkateg…"
      ]
     },
     "metadata": {},
     "output_type": "display_data"
    },
    {
     "data": {
      "application/vnd.jupyter.widget-view+json": {
       "model_id": "cde5af8e3b894eefbe6afb678ce73996",
       "version_major": 2,
       "version_minor": 0
      },
      "text/plain": [
       "SingleChoice(children=(HTML(value='<h4 style=\"font-size:14px;\">Was bedeutet das Tag <i>VB</i> im Browntagset (…"
      ]
     },
     "metadata": {},
     "output_type": "display_data"
    },
    {
     "data": {
      "application/vnd.jupyter.widget-view+json": {
       "model_id": "b34f2cff385842e58a06ee6e51b7e87e",
       "version_major": 2,
       "version_minor": 0
      },
      "text/plain": [
       "SingleChoice(children=(HTML(value='<h4 style=\"font-size:14px;\">Was bedeutet das Tag <i>VBZ</i> im Browntagset …"
      ]
     },
     "metadata": {},
     "output_type": "display_data"
    },
    {
     "data": {
      "application/vnd.jupyter.widget-view+json": {
       "model_id": "629734cb2d774d449fe8dd41a8090599",
       "version_major": 2,
       "version_minor": 0
      },
      "text/plain": [
       "SingleChoice(children=(HTML(value='<h4 style=\"font-size:14px;\">Was bedeutet das Tag <i>VBN</i> im Browntagset …"
      ]
     },
     "metadata": {},
     "output_type": "display_data"
    },
    {
     "data": {
      "application/vnd.jupyter.widget-view+json": {
       "model_id": "148e763b8afa4830997acfbdac49f928",
       "version_major": 2,
       "version_minor": 0
      },
      "text/plain": [
       "SingleChoice(children=(HTML(value='<h4 style=\"font-size:14px;\">Was bedeutet das Tag <i>VBG</i> im Browntagset …"
      ]
     },
     "metadata": {},
     "output_type": "display_data"
    },
    {
     "data": {
      "application/vnd.jupyter.widget-view+json": {
       "model_id": "48860a1b30c74f6c9b20dc382c9a4d0f",
       "version_major": 2,
       "version_minor": 0
      },
      "text/plain": [
       "SingleChoice(children=(HTML(value='<h4 style=\"font-size:14px;\">Was bedeutet das Tag <i>VBD</i> im Browntagset …"
      ]
     },
     "metadata": {},
     "output_type": "display_data"
    }
   ],
   "source": [
    "aufgabe(blatt3_8d)"
   ]
  },
  {
   "cell_type": "markdown",
   "metadata": {},
   "source": [
    "---\n",
    "## Aufgabe 9: Fragen zu NLTK-Kapitel 8.2"
   ]
  },
  {
   "cell_type": "markdown",
   "metadata": {},
   "source": [
    "#### Lesen Sie das NLTK-Teilkapitel 8.2 (’What’s the Use of Syntax?’): http://www.nltk.org/book/ch08.html.\n",
    "\n",
    "#### Beantworten Sie insbesondere folgende Fragen:"
   ]
  },
  {
   "cell_type": "markdown",
   "metadata": {},
   "source": [
    "---\n",
    "### Aufgabe 9 a:\n",
    "\n",
    "#### Durch welches Prinzip lassen sich Konstituenten nachweisen?"
   ]
  },
  {
   "cell_type": "code",
   "execution_count": 18,
   "metadata": {},
   "outputs": [
    {
     "data": {
      "application/vnd.jupyter.widget-view+json": {
       "model_id": "2e2585b3f4ee4d39a69cc455971256cf",
       "version_major": 2,
       "version_minor": 0
      },
      "text/plain": [
       "Lueckentext(children=(HTML(value='<i>Vervollständigen Sie den Lückentext: </i>', layout=Layout(justify_content…"
      ]
     },
     "metadata": {},
     "output_type": "display_data"
    }
   ],
   "source": [
    "aufgabe(blatt3_9a)"
   ]
  },
  {
   "cell_type": "markdown",
   "metadata": {},
   "source": [
    "---\n",
    "### Aufgabe 9 b:\n",
    "\n",
    "#### Führen Sie (incl. lexikalischer und phrasaler Labels) eine Ersetzung (oder Pronominalisierung oder Eliminierung) in folgendem Satz durch, bis sie bei einem 2-Wort-Satz ankommen:\n",
    "\n",
    "- Fischers Fritz fischt die frischen Fische aus dem Fluss."
   ]
  },
  {
   "cell_type": "markdown",
   "metadata": {},
   "source": [
    "Fischers (N) Fritz (N) fischt (V) die (...) frischen () Fische () aus () dem () Fluss ()\n",
    "\n",
    "Er (NP) ..."
   ]
  },
  {
   "cell_type": "markdown",
   "metadata": {},
   "source": [
    "---\n",
    "### Aufgabe 9 c:\n",
    "\n",
    "#### Welche Einschränkung gibt es bei der Koordinierung von Phrasen?"
   ]
  },
  {
   "cell_type": "code",
   "execution_count": 19,
   "metadata": {},
   "outputs": [
    {
     "data": {
      "application/vnd.jupyter.widget-view+json": {
       "model_id": "4251eb9a815844cc8dde41db5a02a0d3",
       "version_major": 2,
       "version_minor": 0
      },
      "text/plain": [
       "Lueckentext(children=(HTML(value='<i>Vervollständigen Sie den Lückentext: </i>', layout=Layout(justify_content…"
      ]
     },
     "metadata": {},
     "output_type": "display_data"
    }
   ],
   "source": [
    "aufgabe(blatt3_9c)"
   ]
  }
 ],
 "metadata": {
  "kernelspec": {
   "display_name": "Python 3",
   "language": "python",
   "name": "python3"
  },
  "language_info": {
   "codemirror_mode": {
    "name": "ipython",
    "version": 3
   },
   "file_extension": ".py",
   "mimetype": "text/x-python",
   "name": "python",
   "nbconvert_exporter": "python",
   "pygments_lexer": "ipython3",
   "version": "3.7.4"
  },
  "widgets": {
   "application/vnd.jupyter.widget-state+json": {
    "state": {
     "00a9ef48009e4b2c8b96f24a5ce06df7": {
      "model_module": "@jupyter-widgets/controls",
      "model_module_version": "1.5.0",
      "model_name": "ButtonModel",
      "state": {
       "description": "Partikel",
       "layout": "IPY_MODEL_eed4ba0008c84a17927c37e9f4b744e0",
       "style": "IPY_MODEL_69e77247d3c14d57b2988aab578f46e2"
      }
     },
     "00ce1e212ee3416795e380e1edc6c872": {
      "model_module": "@jupyter-widgets/base",
      "model_module_version": "1.2.0",
      "model_name": "LayoutModel",
      "state": {}
     },
     "0145f612d48e4a189abd64358e9f8f24": {
      "model_module": "@jupyter-widgets/controls",
      "model_module_version": "1.5.0",
      "model_name": "ButtonStyleModel",
      "state": {}
     },
     "016610765ef248af9246a4d1087c6cb9": {
      "model_module": "@jupyter-widgets/controls",
      "model_module_version": "1.5.0",
      "model_name": "CheckboxModel",
      "state": {
       "description": "Substitutionstest",
       "disabled": false,
       "layout": "IPY_MODEL_f34e934d7dc24bdfbdc314a8c301874c",
       "style": "IPY_MODEL_c7436f60b46048abbaa17d48e27f9912",
       "value": false
      }
     },
     "016a69f3f2184996aa00b2185d68308e": {
      "model_module": "@jupyter-widgets/base",
      "model_module_version": "1.2.0",
      "model_name": "LayoutModel",
      "state": {
       "justify_content": "center"
      }
     },
     "018841f5711e4d5980872064d8c8cc97": {
      "model_module": "@jupyter-widgets/controls",
      "model_module_version": "1.5.0",
      "model_name": "VBoxModel",
      "state": {
       "children": [
        "IPY_MODEL_f5459294f2384cbaac5f73c3632abc22",
        "IPY_MODEL_3e88b8b636d4453a90c112218b522652",
        "IPY_MODEL_cb060d0118d24822b1ebb718710ddd61"
       ],
       "layout": "IPY_MODEL_73d69da0f9004b9fa7f7c674630da44f"
      }
     },
     "0199960b33f24385971bdc30c6f0d182": {
      "model_module": "@jupyter-widgets/base",
      "model_module_version": "1.2.0",
      "model_name": "LayoutModel",
      "state": {}
     },
     "01a2e208e05d4cc5a23654c96f85bbf9": {
      "model_module": "@jupyter-widgets/controls",
      "model_module_version": "1.5.0",
      "model_name": "ButtonStyleModel",
      "state": {}
     },
     "01bdc0c5b8de4aa991980be55be774e3": {
      "model_module": "@jupyter-widgets/controls",
      "model_module_version": "1.5.0",
      "model_name": "DescriptionStyleModel",
      "state": {
       "description_width": ""
      }
     },
     "020920dd653b4ce49df49866e7a09ee7": {
      "model_module": "@jupyter-widgets/controls",
      "model_module_version": "1.5.0",
      "model_name": "ButtonStyleModel",
      "state": {}
     },
     "0214f3cc0df744b7ba8a0db2f76548ac": {
      "model_module": "@jupyter-widgets/controls",
      "model_module_version": "1.5.0",
      "model_name": "HBoxModel",
      "state": {
       "children": [
        "IPY_MODEL_4ea5831b382049629269dcaa4cd45e2b"
       ],
       "layout": "IPY_MODEL_81cd72886c2a49a89076d3753161963d"
      }
     },
     "022cc736a05147719cd6a3f6f603b414": {
      "model_module": "@jupyter-widgets/controls",
      "model_module_version": "1.5.0",
      "model_name": "ButtonStyleModel",
      "state": {}
     },
     "024a00e3b37e4d5faec52c340f003e44": {
      "model_module": "@jupyter-widgets/controls",
      "model_module_version": "1.5.0",
      "model_name": "CheckboxModel",
      "state": {
       "description": "gleiche Endungen",
       "disabled": false,
       "layout": "IPY_MODEL_7cb1f9c3958a4139ae76460608daeddb",
       "style": "IPY_MODEL_5f676eb6d1e347e2bbd4b255f0b9675a",
       "value": false
      }
     },
     "02603071cbb04569b8af47d1f47e9e2e": {
      "model_module": "@jupyter-widgets/base",
      "model_module_version": "1.2.0",
      "model_name": "LayoutModel",
      "state": {
       "width": "250px"
      }
     },
     "02a2c99632f9408c8470524a445ec141": {
      "model_module": "@jupyter-widgets/controls",
      "model_module_version": "1.5.0",
      "model_name": "DescriptionStyleModel",
      "state": {
       "description_width": "initial"
      }
     },
     "02d922fcc84d4f309e6854e7dc695a30": {
      "model_module": "@jupyter-widgets/base",
      "model_module_version": "1.2.0",
      "model_name": "LayoutModel",
      "state": {
       "width": "250px"
      }
     },
     "032c2499ca2441c4926bce720dbab931": {
      "model_module": "@jupyter-widgets/controls",
      "model_module_version": "1.5.0",
      "model_name": "ButtonModel",
      "state": {
       "description": "simple past",
       "layout": "IPY_MODEL_c0e79b3d0efc4b7f9130d09607927222",
       "style": "IPY_MODEL_8a496ecf77dd41aaadf210760eaae160"
      }
     },
     "0331d3895e744c1cb81a9440f7221ecd": {
      "model_module": "@jupyter-widgets/base",
      "model_module_version": "1.2.0",
      "model_name": "LayoutModel",
      "state": {
       "width": "250px"
      }
     },
     "0339a896582348e88bd4ea6135a1f75c": {
      "model_module": "@jupyter-widgets/controls",
      "model_module_version": "1.5.0",
      "model_name": "HTMLModel",
      "state": {
       "layout": "IPY_MODEL_a234b96246084cce9eb059eda50ed7fa",
       "style": "IPY_MODEL_e4b1b2eb8a604a3b8f25b4af3fb5ac6e",
       "value": "<i>Vervollständigen Sie den Lückentext: </i>"
      }
     },
     "034b4de393874041b839f4ad3e5d398b": {
      "model_module": "@jupyter-widgets/controls",
      "model_module_version": "1.5.0",
      "model_name": "DropdownModel",
      "state": {
       "_options_labels": [
        "kürzeren",
        "längeren",
        " "
       ],
       "index": 2,
       "layout": "IPY_MODEL_210ef53e974542488266c5dee91c41f4",
       "style": "IPY_MODEL_80efcda924f7416bbc741ad146b69f7b"
      }
     },
     "03604810a6014f25b9c1d645d007dfd2": {
      "model_module": "@jupyter-widgets/controls",
      "model_module_version": "1.5.0",
      "model_name": "ButtonModel",
      "state": {
       "description": "Adjektiv",
       "layout": "IPY_MODEL_93cd7cb22ac84193b67abd826010b409",
       "style": "IPY_MODEL_1b006cadd6774771bf5ad949c798a20a"
      }
     },
     "0398ccd62b5544e3b33e1ab398ac2759": {
      "model_module": "@jupyter-widgets/base",
      "model_module_version": "1.2.0",
      "model_name": "LayoutModel",
      "state": {
       "width": "600px"
      }
     },
     "039e4cb3dd224f55b2da660fb0450234": {
      "model_module": "@jupyter-widgets/controls",
      "model_module_version": "1.5.0",
      "model_name": "DescriptionStyleModel",
      "state": {
       "description_width": ""
      }
     },
     "03c36132d33c40b6b116a6db9264de09": {
      "model_module": "@jupyter-widgets/base",
      "model_module_version": "1.2.0",
      "model_name": "LayoutModel",
      "state": {}
     },
     "04cc9e919b104e148a05a952386bb18e": {
      "model_module": "@jupyter-widgets/base",
      "model_module_version": "1.2.0",
      "model_name": "LayoutModel",
      "state": {
       "width": "600px"
      }
     },
     "04eebb1a825b43919af749b424bff899": {
      "model_module": "@jupyter-widgets/base",
      "model_module_version": "1.2.0",
      "model_name": "LayoutModel",
      "state": {}
     },
     "051814da4d7648e39b34277a9296907b": {
      "model_module": "@jupyter-widgets/controls",
      "model_module_version": "1.5.0",
      "model_name": "ButtonModel",
      "state": {
       "description": "simple past",
       "layout": "IPY_MODEL_89cd6e9822d74b7cb575ac4102b4505a",
       "style": "IPY_MODEL_2237e6b79dcb40a1b008c94f519bf292"
      }
     },
     "053fc1fb4dfd430aa9266066a3a11754": {
      "model_module": "@jupyter-widgets/controls",
      "model_module_version": "1.5.0",
      "model_name": "ButtonModel",
      "state": {
       "description": "Korrekt?",
       "layout": "IPY_MODEL_63352c54a5654fdebf039675141d4761",
       "style": "IPY_MODEL_ba3eb72d4d7e4c5287a3aace3bcb2f44"
      }
     },
     "0559978e4edd4c0d8ee1a5339e8b7204": {
      "model_module": "@jupyter-widgets/controls",
      "model_module_version": "1.5.0",
      "model_name": "ButtonStyleModel",
      "state": {}
     },
     "056b8ce7fd0f46c4b2938941fc77fde9": {
      "model_module": "@jupyter-widgets/controls",
      "model_module_version": "1.5.0",
      "model_name": "ButtonStyleModel",
      "state": {}
     },
     "064c75f803844507ac1e59defe8d5a54": {
      "model_module": "@jupyter-widgets/controls",
      "model_module_version": "1.5.0",
      "model_name": "DescriptionStyleModel",
      "state": {
       "description_width": ""
      }
     },
     "06d1fc3fae7444119bafbff969c1f989": {
      "model_module": "@jupyter-widgets/controls",
      "model_module_version": "1.5.0",
      "model_name": "ButtonStyleModel",
      "state": {}
     },
     "06e73b7f65184eedb27caa7fd16c2af6": {
      "model_module": "@jupyter-widgets/base",
      "model_module_version": "1.2.0",
      "model_name": "LayoutModel",
      "state": {
       "justify_content": "center"
      }
     },
     "07370c6fb69d4452a37bf009e904fb54": {
      "model_module": "@jupyter-widgets/base",
      "model_module_version": "1.2.0",
      "model_name": "LayoutModel",
      "state": {
       "width": "250px"
      }
     },
     "074f12bbb25b487f81e7efee0c61140f": {
      "model_module": "@jupyter-widgets/controls",
      "model_module_version": "1.5.0",
      "model_name": "DescriptionStyleModel",
      "state": {
       "description_width": ""
      }
     },
     "077f52fa9d9442549ca83b1fa4f47e8d": {
      "model_module": "@jupyter-widgets/base",
      "model_module_version": "1.2.0",
      "model_name": "LayoutModel",
      "state": {
       "width": "150px"
      }
     },
     "07971228923a4ef89939e070f2672f7c": {
      "model_module": "@jupyter-widgets/base",
      "model_module_version": "1.2.0",
      "model_name": "LayoutModel",
      "state": {}
     },
     "07e57404e0f34632bbd3b0b334d513f2": {
      "model_module": "@jupyter-widgets/controls",
      "model_module_version": "1.5.0",
      "model_name": "DescriptionStyleModel",
      "state": {
       "description_width": ""
      }
     },
     "084d706c30d14835b9c6567d167c6425": {
      "model_module": "@jupyter-widgets/controls",
      "model_module_version": "1.5.0",
      "model_name": "HTMLModel",
      "state": {
       "layout": "IPY_MODEL_0c8cb747d4084addb959e5b2ae98a52b",
       "style": "IPY_MODEL_b97d71bc42834b108df232647418f595",
       "value": "<i>Wählen Sie die <ins>eine</ins> korrekte Antwort aus: </i>"
      }
     },
     "0856cfc3117a462c935d1000e5986151": {
      "model_module": "@jupyter-widgets/controls",
      "model_module_version": "1.5.0",
      "model_name": "HTMLModel",
      "state": {
       "layout": "IPY_MODEL_2c866bb0ed6e4ec296d8ea648bcdbbd6",
       "style": "IPY_MODEL_e9747e32d8654c118ed4c12337996a23",
       "value": "<h4 style=\"font-size:14px;\">Welche Eigenschaften hat <i>gut</i> in Satz 2?</h4>"
      }
     },
     "088143bbed0c4c7185aa97d5e014d260": {
      "model_module": "@jupyter-widgets/controls",
      "model_module_version": "1.5.0",
      "model_name": "DescriptionStyleModel",
      "state": {
       "description_width": "initial"
      }
     },
     "0883c7dcf0844483ba6d5cfcb8806780": {
      "model_module": "@jupyter-widgets/controls",
      "model_module_version": "1.5.0",
      "model_name": "HTMLModel",
      "state": {
       "layout": "IPY_MODEL_678af91981e14ff9ac83a79cc87a7f50",
       "style": "IPY_MODEL_d32c6299240f41d89af8700d62af69f3",
       "value": "<i>Markieren Sie <ins>alle</ins> passenden Antworten: </i>"
      }
     },
     "0895d6a9b2774d36a36edd0c02955b45": {
      "model_module": "@jupyter-widgets/base",
      "model_module_version": "1.2.0",
      "model_name": "LayoutModel",
      "state": {
       "width": "250px"
      }
     },
     "08a0321f44f74d91b3faa39b60922693": {
      "model_module": "@jupyter-widgets/base",
      "model_module_version": "1.2.0",
      "model_name": "LayoutModel",
      "state": {
       "align_content": "stretch",
       "align_items": "stretch",
       "display": "inline-flex",
       "flex": "flex-grow",
       "flex_flow": "row wrap",
       "justify_content": "flex-start"
      }
     },
     "08a5e0b311df48119b9d4d7cd98cc81c": {
      "model_module": "@jupyter-widgets/controls",
      "model_module_version": "1.5.0",
      "model_name": "HTMLModel",
      "state": {
       "layout": "IPY_MODEL_7a2dd570603d4db7b24d29ea2d8936c5",
       "style": "IPY_MODEL_107bf1aedd4944fb8278040fdf060500",
       "value": "<h4 style=\"font-size:14px;\">, aber keine</h4>"
      }
     },
     "08b674057a324b82b44a9237fb60bf4e": {
      "model_module": "@jupyter-widgets/base",
      "model_module_version": "1.2.0",
      "model_name": "LayoutModel",
      "state": {
       "width": "150px"
      }
     },
     "08ef450f61684c4b9c00337310bf5b04": {
      "model_module": "@jupyter-widgets/controls",
      "model_module_version": "1.5.0",
      "model_name": "ButtonStyleModel",
      "state": {}
     },
     "092085f9cd244a4aa75b9d1a6fce9d4c": {
      "model_module": "@jupyter-widgets/controls",
      "model_module_version": "1.5.0",
      "model_name": "DescriptionStyleModel",
      "state": {
       "description_width": ""
      }
     },
     "0a1bc548ee6d4a29869dadfaa10bedf3": {
      "model_module": "@jupyter-widgets/controls",
      "model_module_version": "1.5.0",
      "model_name": "HTMLModel",
      "state": {
       "layout": "IPY_MODEL_6050938627a54219a64ddedc313bf32c",
       "style": "IPY_MODEL_3a3b195d331648e8b2429034dc39c090",
       "value": "<i>Markieren Sie <ins>alle</ins> passenden Antworten: </i>"
      }
     },
     "0a2100088c544266a662a1a8c16f30d2": {
      "model_module": "@jupyter-widgets/controls",
      "model_module_version": "1.5.0",
      "model_name": "HTMLModel",
      "state": {
       "layout": "IPY_MODEL_3af8008981714526958bb6e1de855e62",
       "style": "IPY_MODEL_886c67b753734c85869966b9f02bfd17",
       "value": "<i>Wählen Sie die <ins>eine</ins> korrekte Antwort aus: </i>"
      }
     },
     "0aba952f1dde491f9004a930edc02e53": {
      "model_module": "@jupyter-widgets/controls",
      "model_module_version": "1.5.0",
      "model_name": "VBoxModel",
      "state": {
       "children": [
        "IPY_MODEL_0856cfc3117a462c935d1000e5986151",
        "IPY_MODEL_a4ef7d62aee4499f89db2539a2887ff8",
        "IPY_MODEL_d4b6de6e4df0451f94d66a5304e8086b",
        "IPY_MODEL_89d7243fa1fe4779b3bc08ab54ca4602"
       ],
       "layout": "IPY_MODEL_a68ddd9c5a6c43429426f111d8cc0ff7"
      }
     },
     "0ac22328f7ad4650a4e4225bddf2cd0a": {
      "model_module": "@jupyter-widgets/controls",
      "model_module_version": "1.5.0",
      "model_name": "ButtonModel",
      "state": {
       "description": "Korrekt?",
       "layout": "IPY_MODEL_ca5b497526184daf836677f5f69a7f9d",
       "style": "IPY_MODEL_8735bcff6d86483d8c4a1c6e12493987"
      }
     },
     "0ae3bd758fe84d8b89c166f692a84876": {
      "model_module": "@jupyter-widgets/base",
      "model_module_version": "1.2.0",
      "model_name": "LayoutModel",
      "state": {
       "width": "250px"
      }
     },
     "0ae78b74c3ba40bf9b3134a0b17f1f0b": {
      "model_module": "@jupyter-widgets/base",
      "model_module_version": "1.2.0",
      "model_name": "LayoutModel",
      "state": {}
     },
     "0affd181fb5d4029824c78da23da7aef": {
      "model_module": "@jupyter-widgets/controls",
      "model_module_version": "1.5.0",
      "model_name": "DescriptionStyleModel",
      "state": {
       "description_width": ""
      }
     },
     "0b4774bbca054ae89e4b60ad10bf1ef3": {
      "model_module": "@jupyter-widgets/base",
      "model_module_version": "1.2.0",
      "model_name": "LayoutModel",
      "state": {}
     },
     "0bb12edad75b47aba2b6213b163bd95c": {
      "model_module": "@jupyter-widgets/controls",
      "model_module_version": "1.5.0",
      "model_name": "CheckboxModel",
      "state": {
       "description": "Zu einem Wort werden seine Kookkurrenzpartner gefunden.",
       "disabled": false,
       "layout": "IPY_MODEL_642ab6a520bd4e3c84ea1252c21c284e",
       "style": "IPY_MODEL_1897960f1c4f4dc9b86fece7a8d40c3b",
       "value": false
      }
     },
     "0bd39b6cf30d4ad89cff57bf347d3e85": {
      "model_module": "@jupyter-widgets/controls",
      "model_module_version": "1.5.0",
      "model_name": "BoxModel",
      "state": {
       "children": [
        "IPY_MODEL_dcebe00cae8b4c2a8a47a1177277ca96",
        "IPY_MODEL_4e6a3ded3e5048d99c74f7037c193b95",
        "IPY_MODEL_862c025f3abf4cc68d99723646d8b144",
        "IPY_MODEL_9864bfbcf966450d8e54dcf9d7a93823",
        "IPY_MODEL_f37ae06e30734f01a6cc91ce70123fe2",
        "IPY_MODEL_ecba28366e7d419282eec9613afebf6f",
        "IPY_MODEL_9863de7b0e3b4da8ad6f88edb84739ea"
       ],
       "layout": "IPY_MODEL_bec820022a164d47bcd7d3f663f7f45f"
      }
     },
     "0bea9aa3d8f94b64bbd3f6e9d089ac86": {
      "model_module": "@jupyter-widgets/base",
      "model_module_version": "1.2.0",
      "model_name": "LayoutModel",
      "state": {
       "width": "250px"
      }
     },
     "0c6fc09f341941b5b7ecd896e86fb730": {
      "model_module": "@jupyter-widgets/controls",
      "model_module_version": "1.5.0",
      "model_name": "DescriptionStyleModel",
      "state": {
       "description_width": ""
      }
     },
     "0c79605769d1460abecf6655b55fad95": {
      "model_module": "@jupyter-widgets/base",
      "model_module_version": "1.2.0",
      "model_name": "LayoutModel",
      "state": {
       "width": "250px"
      }
     },
     "0c8cb747d4084addb959e5b2ae98a52b": {
      "model_module": "@jupyter-widgets/base",
      "model_module_version": "1.2.0",
      "model_name": "LayoutModel",
      "state": {
       "justify_content": "center"
      }
     },
     "0c8d5d7a2e0c4964b019d4209e253537": {
      "model_module": "@jupyter-widgets/controls",
      "model_module_version": "1.5.0",
      "model_name": "ButtonModel",
      "state": {
       "description": "simple past",
       "layout": "IPY_MODEL_a5cd85f27d4d4d4babc8f5ae214a1302",
       "style": "IPY_MODEL_5bcf55b8d00e4db48e2e97ba43d57a3d"
      }
     },
     "0c8e764703be491da459523831b86ff1": {
      "model_module": "@jupyter-widgets/base",
      "model_module_version": "1.2.0",
      "model_name": "LayoutModel",
      "state": {
       "width": "250px"
      }
     },
     "0cb00f98156844ec8cdef0a02772a265": {
      "model_module": "@jupyter-widgets/controls",
      "model_module_version": "1.5.0",
      "model_name": "ButtonStyleModel",
      "state": {}
     },
     "0cd8abdb2e934550bdddc954117bf2c9": {
      "model_module": "@jupyter-widgets/controls",
      "model_module_version": "1.5.0",
      "model_name": "HTMLModel",
      "state": {
       "layout": "IPY_MODEL_0eb41fa4047e40ff893a5ac3330e7eff",
       "style": "IPY_MODEL_e7dbcb24085b46aba2684ee1491403fc",
       "value": "<i>Wählen Sie die <ins>eine</ins> korrekte Antwort aus: </i>"
      }
     },
     "0da377dbcb534382935133d10fece247": {
      "model_module": "@jupyter-widgets/controls",
      "model_module_version": "1.5.0",
      "model_name": "DescriptionStyleModel",
      "state": {
       "description_width": ""
      }
     },
     "0e195802f1174a52b85f65ce6e384e12": {
      "model_module": "@jupyter-widgets/controls",
      "model_module_version": "1.5.0",
      "model_name": "DropdownModel",
      "state": {
       "_options_labels": [
        "Bedeutung",
        "Wohlgeformtheit",
        " "
       ],
       "index": 2,
       "layout": "IPY_MODEL_d922babe899f49588a183d5e225ef77b",
       "style": "IPY_MODEL_75922b896e24474ab0476c7f24391bc9"
      }
     },
     "0e2710706f6a48c5ad36371cac2abcc4": {
      "model_module": "@jupyter-widgets/base",
      "model_module_version": "1.2.0",
      "model_name": "LayoutModel",
      "state": {
       "width": "150px"
      }
     },
     "0e56a6b2965e49979ae67eb44102c0d9": {
      "model_module": "@jupyter-widgets/controls",
      "model_module_version": "1.5.0",
      "model_name": "CheckboxModel",
      "state": {
       "description": "Flexionstyp",
       "disabled": false,
       "layout": "IPY_MODEL_d1e674185bf743259680c27b00c89c4b",
       "style": "IPY_MODEL_f944bac7fdcb48159777a1711e9e3eca",
       "value": false
      }
     },
     "0e7341fce88040cb8879a88c958f4a55": {
      "model_module": "@jupyter-widgets/base",
      "model_module_version": "1.2.0",
      "model_name": "LayoutModel",
      "state": {
       "width": "250px"
      }
     },
     "0eb41fa4047e40ff893a5ac3330e7eff": {
      "model_module": "@jupyter-widgets/base",
      "model_module_version": "1.2.0",
      "model_name": "LayoutModel",
      "state": {
       "justify_content": "center"
      }
     },
     "0efcde9c1ec34383953f0288a7124ee3": {
      "model_module": "@jupyter-widgets/base",
      "model_module_version": "1.2.0",
      "model_name": "LayoutModel",
      "state": {
       "width": "150px"
      }
     },
     "0f09fbba790f446aa6b2f45511a94dac": {
      "model_module": "@jupyter-widgets/controls",
      "model_module_version": "1.5.0",
      "model_name": "HTMLModel",
      "state": {
       "layout": "IPY_MODEL_1150734d82cf42e5bb4b38f5e7629eec",
       "style": "IPY_MODEL_039e4cb3dd224f55b2da660fb0450234",
       "value": "<h4 style=\"font-size:14px;\">In der ersten Zeile des Codes werden</h4>"
      }
     },
     "0f23486fd5e743438ee20bf001681e10": {
      "model_module": "@jupyter-widgets/controls",
      "model_module_version": "1.5.0",
      "model_name": "DescriptionStyleModel",
      "state": {
       "description_width": ""
      }
     },
     "0f2c7653ddac49cb8bb8545baae0c9ec": {
      "model_module": "@jupyter-widgets/controls",
      "model_module_version": "1.5.0",
      "model_name": "ButtonModel",
      "state": {
       "description": "Korrekt?",
       "layout": "IPY_MODEL_ad358638c6074f89abf827c1f6b815db",
       "style": "IPY_MODEL_d728b8178cf843f8a46461afb9ff2217"
      }
     },
     "0f359c093c134da89f36970c61088ba5": {
      "model_module": "@jupyter-widgets/controls",
      "model_module_version": "1.5.0",
      "model_name": "ButtonModel",
      "state": {
       "description": "gerund",
       "layout": "IPY_MODEL_24667aeb60a4402ebd89e055a9cd6e3a",
       "style": "IPY_MODEL_db14c74785d84a37b76c0d23414eec31"
      }
     },
     "0f675a9116794718b773e9ab66f79b7a": {
      "model_module": "@jupyter-widgets/controls",
      "model_module_version": "1.5.0",
      "model_name": "DescriptionStyleModel",
      "state": {
       "description_width": ""
      }
     },
     "0fbb28f5f2b7467490e1004216584ab2": {
      "model_module": "@jupyter-widgets/controls",
      "model_module_version": "1.5.0",
      "model_name": "HTMLModel",
      "state": {
       "layout": "IPY_MODEL_523f057aa557407f9b7a9dfdbfe704e4",
       "style": "IPY_MODEL_c7f3800d9ce8468b94dcd80e361ab0e0",
       "value": "<h4 style=\"font-size:14px;\">Was bedeutet das Tag <i>VBG</i> im Browntagset (siehe 5.7)?</h4>"
      }
     },
     "0fedc96f9b4d41be8005e6f177b70c73": {
      "model_module": "@jupyter-widgets/base",
      "model_module_version": "1.2.0",
      "model_name": "LayoutModel",
      "state": {
       "justify_content": "center"
      }
     },
     "0ffe20227dc54d5fb3134fef93805202": {
      "model_module": "@jupyter-widgets/base",
      "model_module_version": "1.2.0",
      "model_name": "LayoutModel",
      "state": {}
     },
     "101eac1dbbb14810a65605bab81cbfd0": {
      "model_module": "@jupyter-widgets/base",
      "model_module_version": "1.2.0",
      "model_name": "LayoutModel",
      "state": {
       "justify_content": "center"
      }
     },
     "107bf1aedd4944fb8278040fdf060500": {
      "model_module": "@jupyter-widgets/controls",
      "model_module_version": "1.5.0",
      "model_name": "DescriptionStyleModel",
      "state": {
       "description_width": ""
      }
     },
     "10d8aeaf7acc4ddea2184ca236b34f91": {
      "model_module": "@jupyter-widgets/controls",
      "model_module_version": "1.5.0",
      "model_name": "DescriptionStyleModel",
      "state": {
       "description_width": ""
      }
     },
     "1150734d82cf42e5bb4b38f5e7629eec": {
      "model_module": "@jupyter-widgets/base",
      "model_module_version": "1.2.0",
      "model_name": "LayoutModel",
      "state": {}
     },
     "118639f4cab14b858fcb5f6572ed57d2": {
      "model_module": "@jupyter-widgets/controls",
      "model_module_version": "1.5.0",
      "model_name": "HBoxModel",
      "state": {
       "children": [
        "IPY_MODEL_49aa290e15904db49fc3c60be3197d08",
        "IPY_MODEL_50a99899e306439d8f1d1725b5622658"
       ],
       "layout": "IPY_MODEL_61784999c5774033b9ab9139a632ab57"
      }
     },
     "11a2b9df2ab144e7972e804550ba5f56": {
      "model_module": "@jupyter-widgets/controls",
      "model_module_version": "1.5.0",
      "model_name": "DropdownModel",
      "state": {
       "_options_labels": [
        "Mittelfeld",
        "Nachfeld",
        "Vorfeld",
        " "
       ],
       "index": 3,
       "layout": "IPY_MODEL_4ace9d3a91974c27b29d84cda69d9c42",
       "style": "IPY_MODEL_1f411b63a47944aa8e28218475f45fce"
      }
     },
     "11ed632acc7f4391b33bf1e9a1c0c683": {
      "model_module": "@jupyter-widgets/controls",
      "model_module_version": "1.5.0",
      "model_name": "DropdownModel",
      "state": {
       "_options_labels": [
        "Konstituenten",
        "Phrasen",
        " "
       ],
       "index": 0,
       "layout": "IPY_MODEL_fa1194f3fabd4415b3814ff8fb1e3533",
       "style": "IPY_MODEL_0f675a9116794718b773e9ab66f79b7a"
      }
     },
     "1248e1fb754d41579c6f145ee5089ec3": {
      "model_module": "@jupyter-widgets/base",
      "model_module_version": "1.2.0",
      "model_name": "LayoutModel",
      "state": {}
     },
     "1267fc01798d447b956b5a9258cf92b8": {
      "model_module": "@jupyter-widgets/base",
      "model_module_version": "1.2.0",
      "model_name": "LayoutModel",
      "state": {
       "justify_content": "center"
      }
     },
     "12ec1e291dc944ee954cb6aba64f598e": {
      "model_module": "@jupyter-widgets/controls",
      "model_module_version": "1.5.0",
      "model_name": "HBoxModel",
      "state": {
       "children": [
        "IPY_MODEL_369ed72d8a634abb910adf5b0d2274ba",
        "IPY_MODEL_e02515e85aeb4ba6a59a6757faec8a10"
       ],
       "layout": "IPY_MODEL_cb98be18cfdf477d9a4cc13eee537a54"
      }
     },
     "13201489024747beb8514e019a96484b": {
      "model_module": "@jupyter-widgets/controls",
      "model_module_version": "1.5.0",
      "model_name": "CheckboxModel",
      "state": {
       "description": "Flexionstyp",
       "disabled": false,
       "layout": "IPY_MODEL_235b5672b44e43b290424d4f1a01e0c2",
       "style": "IPY_MODEL_cd17bc81b44f46ae83a591e63526f4f9",
       "value": false
      }
     },
     "1379c82546f54bde885240dde463d370": {
      "model_module": "@jupyter-widgets/controls",
      "model_module_version": "1.5.0",
      "model_name": "DescriptionStyleModel",
      "state": {
       "description_width": ""
      }
     },
     "13e0c98a57384389b03d4f2c8c946597": {
      "model_module": "@jupyter-widgets/base",
      "model_module_version": "1.2.0",
      "model_name": "LayoutModel",
      "state": {}
     },
     "13f286ab7e4847dbb314d13182186df2": {
      "model_module": "@jupyter-widgets/controls",
      "model_module_version": "1.5.0",
      "model_name": "DescriptionStyleModel",
      "state": {
       "description_width": ""
      }
     },
     "140d3e685db0429da11e6fcfc5abbf1b": {
      "model_module": "@jupyter-widgets/controls",
      "model_module_version": "1.5.0",
      "model_name": "HTMLModel",
      "state": {
       "layout": "IPY_MODEL_0ffe20227dc54d5fb3134fef93805202",
       "style": "IPY_MODEL_5f05b109b4994b4198c71e4b420fadca",
       "value": "<h4 style=\"font-size:14px;\">Was leistet die Funktion <code>nltk.similar()</code>?</h4>"
      }
     },
     "143ca80a73e748f2a1cbbe94ca6cf522": {
      "model_module": "@jupyter-widgets/controls",
      "model_module_version": "1.5.0",
      "model_name": "CheckboxModel",
      "state": {
       "description": "Mit einem Schritt beginnt eine Reise von tausend Meilen auch nur.",
       "disabled": false,
       "layout": "IPY_MODEL_401cd1e5eec14e9a9969a1c13fb82f16",
       "style": "IPY_MODEL_d710d61cd6ed4ba19af632b82e3769e6",
       "value": false
      }
     },
     "1486cb2f25d54ffba4067addcabf34ce": {
      "model_module": "@jupyter-widgets/controls",
      "model_module_version": "1.5.0",
      "model_name": "DescriptionStyleModel",
      "state": {
       "description_width": ""
      }
     },
     "148e763b8afa4830997acfbdac49f928": {
      "model_module": "@jupyter-widgets/controls",
      "model_module_version": "1.5.0",
      "model_name": "VBoxModel",
      "state": {
       "children": [
        "IPY_MODEL_17c5fc8687f44f0aa404075f8197be22",
        "IPY_MODEL_5cf4b66e9bfa441288eec46da4439c98",
        "IPY_MODEL_673c99dd7b4f452384849cc2be331692",
        "IPY_MODEL_6fbafcbf149445a0950361d84f806ce6",
        "IPY_MODEL_45433e1d24064e3696eb4181eec65f1a"
       ],
       "layout": "IPY_MODEL_b51a14ba5d524c80be935458f336fc4d"
      }
     },
     "14903240d9c04a9ca19b017a621f4baa": {
      "model_module": "@jupyter-widgets/controls",
      "model_module_version": "1.5.0",
      "model_name": "HTMLModel",
      "state": {
       "layout": "IPY_MODEL_b39f6611ab2b4de3b485c439873f344c",
       "style": "IPY_MODEL_6e76a98841324baeba073ef07bff9b66",
       "value": "<h4 style=\"font-size:14px;\">Welche Wortart könnte man für das Wort <i>gut</i> in Satz 2 vermuten, wenn man Adverbien nicht morphologisch, sondern semantisch charakterisiert (als Wortart, die der Modifizierung des Verbalgeschehens dient)?</h4>"
      }
     },
     "14935c001d38408d8f880ccbc903ecb6": {
      "model_module": "@jupyter-widgets/controls",
      "model_module_version": "1.5.0",
      "model_name": "ButtonModel",
      "state": {
       "description": "past participle",
       "layout": "IPY_MODEL_59e0236665ea4329a8001843b17a79b6",
       "style": "IPY_MODEL_928aebf578e346b191e8ce17a04bc483"
      }
     },
     "149a4c27e79d498fb44de0e7e6437a34": {
      "model_module": "@jupyter-widgets/controls",
      "model_module_version": "1.5.0",
      "model_name": "ButtonStyleModel",
      "state": {}
     },
     "14ddcf4f2fea493db090dc8387f38ba3": {
      "model_module": "@jupyter-widgets/base",
      "model_module_version": "1.2.0",
      "model_name": "LayoutModel",
      "state": {}
     },
     "150e0eca2626498c95a69bcc1881f537": {
      "model_module": "@jupyter-widgets/base",
      "model_module_version": "1.2.0",
      "model_name": "LayoutModel",
      "state": {
       "width": "250px"
      }
     },
     "1522923e0f6d490eaac4df7f0596d3b4": {
      "model_module": "@jupyter-widgets/controls",
      "model_module_version": "1.5.0",
      "model_name": "HBoxModel",
      "state": {
       "children": [
        "IPY_MODEL_bc803dabf0084829a3e2f7210df4ee65"
       ],
       "layout": "IPY_MODEL_3fe2d0ff788d4f7b895aa5573c20322a"
      }
     },
     "155b62ab859949a7a413608e5189f6f7": {
      "model_module": "@jupyter-widgets/base",
      "model_module_version": "1.2.0",
      "model_name": "LayoutModel",
      "state": {}
     },
     "155e71d17e144ec3b2ade669ed8b7630": {
      "model_module": "@jupyter-widgets/controls",
      "model_module_version": "1.5.0",
      "model_name": "DescriptionStyleModel",
      "state": {
       "description_width": "initial"
      }
     },
     "159b7b4a5c2a44499d944b4b5e93b60e": {
      "model_module": "@jupyter-widgets/controls",
      "model_module_version": "1.5.0",
      "model_name": "HTMLModel",
      "state": {
       "layout": "IPY_MODEL_3bf514e6b0ce42ebac18d5873a18bba8",
       "style": "IPY_MODEL_d90e96bc90614d69bb16602a37b17435",
       "value": "<h4 style=\"font-size:14px;\">. Es gehört zu einer komplexen</h4>"
      }
     },
     "161c623215244cff85f852d72f7969fb": {
      "model_module": "@jupyter-widgets/base",
      "model_module_version": "1.2.0",
      "model_name": "LayoutModel",
      "state": {
       "width": "150px"
      }
     },
     "16420ed9c3e3441d940e94f4fe8110d0": {
      "model_module": "@jupyter-widgets/base",
      "model_module_version": "1.2.0",
      "model_name": "LayoutModel",
      "state": {}
     },
     "17a1a30d3d1944ef95c58091bfae92a2": {
      "model_module": "@jupyter-widgets/controls",
      "model_module_version": "1.5.0",
      "model_name": "DescriptionStyleModel",
      "state": {
       "description_width": ""
      }
     },
     "17c5fc8687f44f0aa404075f8197be22": {
      "model_module": "@jupyter-widgets/controls",
      "model_module_version": "1.5.0",
      "model_name": "HTMLModel",
      "state": {
       "layout": "IPY_MODEL_216d01bd98494110a38b44df23a0739b",
       "style": "IPY_MODEL_912b3363be404b748e7ba536c4b7b6ab",
       "value": "<h4 style=\"font-size:14px;\">Was bedeutet das Tag <i>VBG</i> im Browntagset (siehe 5.7)?</h4>"
      }
     },
     "18373a923ee345cbb8ca2e84779f7e44": {
      "model_module": "@jupyter-widgets/controls",
      "model_module_version": "1.5.0",
      "model_name": "CheckboxModel",
      "state": {
       "description": "Eliminierungstest",
       "disabled": false,
       "layout": "IPY_MODEL_3a080fa2eace4cafa8cc4c6b292ef46b",
       "style": "IPY_MODEL_4804d0662faf46cba5b12e1ca8359cbc",
       "value": false
      }
     },
     "18381b6ebbf743ccae465a8e088d47ac": {
      "model_module": "@jupyter-widgets/base",
      "model_module_version": "1.2.0",
      "model_name": "LayoutModel",
      "state": {
       "justify_content": "center"
      }
     },
     "1897960f1c4f4dc9b86fece7a8d40c3b": {
      "model_module": "@jupyter-widgets/controls",
      "model_module_version": "1.5.0",
      "model_name": "DescriptionStyleModel",
      "state": {
       "description_width": "initial"
      }
     },
     "18a71fad30eb4fa7bd4ff8ff1c901615": {
      "model_module": "@jupyter-widgets/base",
      "model_module_version": "1.2.0",
      "model_name": "LayoutModel",
      "state": {
       "width": "600px"
      }
     },
     "18deb90ed80c495a9d28b0c8e917893b": {
      "model_module": "@jupyter-widgets/controls",
      "model_module_version": "1.5.0",
      "model_name": "HBoxModel",
      "state": {
       "children": [
        "IPY_MODEL_5146739a55f845059613e3d711c73b31",
        "IPY_MODEL_867138d3f028450baaddfe3d57a2c68a"
       ],
       "layout": "IPY_MODEL_7f02499c72e049bda2ef220534f967d1"
      }
     },
     "191a6184601b43889f4c0c294fc0f3f8": {
      "model_module": "@jupyter-widgets/base",
      "model_module_version": "1.2.0",
      "model_name": "LayoutModel",
      "state": {
       "width": "350px"
      }
     },
     "1922660e261d4498a242b9ab4bc51f0d": {
      "model_module": "@jupyter-widgets/controls",
      "model_module_version": "1.5.0",
      "model_name": "DescriptionStyleModel",
      "state": {
       "description_width": ""
      }
     },
     "19440408c8404fcfa06645d1a32c6c2a": {
      "model_module": "@jupyter-widgets/controls",
      "model_module_version": "1.5.0",
      "model_name": "DescriptionStyleModel",
      "state": {
       "description_width": ""
      }
     },
     "194d9ab51c82421eb4779e4eba217fa6": {
      "model_module": "@jupyter-widgets/controls",
      "model_module_version": "1.5.0",
      "model_name": "HTMLModel",
      "state": {
       "layout": "IPY_MODEL_a43f5646eb5e4819879cb84b67ec8263",
       "style": "IPY_MODEL_31504c33f76b4220abe58ae822b9ab9a",
       "value": "<h4 style=\"font-size:14px;\">Sequenz unter Erhalt der</h4>"
      }
     },
     "19bd8e19f55344e4851ce43bcc7c3ce5": {
      "model_module": "@jupyter-widgets/controls",
      "model_module_version": "1.5.0",
      "model_name": "VBoxModel",
      "state": {
       "children": [
        "IPY_MODEL_f6b295521fe34aa09f52dad240d7ed4b",
        "IPY_MODEL_c2e1ab4671204f75b781617ac9883f34",
        "IPY_MODEL_c40360b946ed4aa5b82157ec17562ce6",
        "IPY_MODEL_b5112de75c2e4228b34508c77365836f"
       ],
       "layout": "IPY_MODEL_a67463c9bc234382a6815edcd1b0d77f"
      }
     },
     "19ee20fc7311487e812dc33b630cbfdb": {
      "model_module": "@jupyter-widgets/base",
      "model_module_version": "1.2.0",
      "model_name": "LayoutModel",
      "state": {
       "justify_content": "center"
      }
     },
     "19f2b7c29e2344f199383c8ccf99f146": {
      "model_module": "@jupyter-widgets/controls",
      "model_module_version": "1.5.0",
      "model_name": "CheckboxModel",
      "state": {
       "description": "gleicher Kontext",
       "disabled": false,
       "layout": "IPY_MODEL_4fcf98cd9e6b44c8ac7c4e48b53d7174",
       "style": "IPY_MODEL_cb6b1561a4594c9096e8cbd83ce08217",
       "value": false
      }
     },
     "1a3c4c17a8104e4d9d1f898227ef3693": {
      "model_module": "@jupyter-widgets/controls",
      "model_module_version": "1.5.0",
      "model_name": "VBoxModel",
      "state": {
       "children": [
        "IPY_MODEL_b5224026f24f4ec8836982a001651130",
        "IPY_MODEL_bb34753343474f489bbf25b591ac6de6",
        "IPY_MODEL_19bd8e19f55344e4851ce43bcc7c3ce5",
        "IPY_MODEL_a00646f77a014d898d5edc77ad4ff4ca"
       ],
       "layout": "IPY_MODEL_ca7e984b336d46e3b5c4e42503f517e0"
      }
     },
     "1a41644d7ed144cdaad33ca7fdddec6d": {
      "model_module": "@jupyter-widgets/controls",
      "model_module_version": "1.5.0",
      "model_name": "HTMLModel",
      "state": {
       "layout": "IPY_MODEL_1b823806ba0046afb62270a45e458bde",
       "style": "IPY_MODEL_0da377dbcb534382935133d10fece247",
       "value": "<h4 style=\"font-size:14px;\">Welcher ist der richtig permutierte Satz?</h4>"
      }
     },
     "1a67f4726f93450482bc7c080a77ab48": {
      "model_module": "@jupyter-widgets/controls",
      "model_module_version": "1.5.0",
      "model_name": "CheckboxModel",
      "state": {
       "description": "gleicher Kontext",
       "disabled": false,
       "layout": "IPY_MODEL_9fb4d731032f43548e157187015d550b",
       "style": "IPY_MODEL_f2c458b63bf34085abac87b2518ab3e0",
       "value": false
      }
     },
     "1ad4f6d0d43f46a8af534e928e28c530": {
      "model_module": "@jupyter-widgets/base",
      "model_module_version": "1.2.0",
      "model_name": "LayoutModel",
      "state": {
       "align_content": "stretch",
       "align_items": "stretch",
       "display": "inline-flex",
       "flex": "flex-grow",
       "flex_flow": "row wrap",
       "justify_content": "flex-start"
      }
     },
     "1adf45bf53ea4200b044b7df97104bd4": {
      "model_module": "@jupyter-widgets/controls",
      "model_module_version": "1.5.0",
      "model_name": "ButtonStyleModel",
      "state": {}
     },
     "1b006cadd6774771bf5ad949c798a20a": {
      "model_module": "@jupyter-widgets/controls",
      "model_module_version": "1.5.0",
      "model_name": "ButtonStyleModel",
      "state": {}
     },
     "1b0faa6216e44dc4864818443401974a": {
      "model_module": "@jupyter-widgets/base",
      "model_module_version": "1.2.0",
      "model_name": "LayoutModel",
      "state": {
       "width": "600px"
      }
     },
     "1b1a84aa89d447eab24ea44e463b554a": {
      "model_module": "@jupyter-widgets/base",
      "model_module_version": "1.2.0",
      "model_name": "LayoutModel",
      "state": {
       "justify_content": "center"
      }
     },
     "1b823806ba0046afb62270a45e458bde": {
      "model_module": "@jupyter-widgets/base",
      "model_module_version": "1.2.0",
      "model_name": "LayoutModel",
      "state": {}
     },
     "1b8ac638cf4e4bb49107dfff566c622f": {
      "model_module": "@jupyter-widgets/base",
      "model_module_version": "1.2.0",
      "model_name": "LayoutModel",
      "state": {
       "justify_content": "center"
      }
     },
     "1bcd3b565498455f9f5e72cb5ee8ec25": {
      "model_module": "@jupyter-widgets/controls",
      "model_module_version": "1.5.0",
      "model_name": "BoxModel",
      "state": {
       "children": [
        "IPY_MODEL_0f09fbba790f446aa6b2f45511a94dac",
        "IPY_MODEL_efd88a7e3f5541409be1e211e11080cf",
        "IPY_MODEL_6d8c1bfd5fb6462f8c3d3ca866571c41",
        "IPY_MODEL_40d885793db646ad9d4a6b6d7e5a372c",
        "IPY_MODEL_bcc6c1ac22f341fb8818f29e9588d3c4",
        "IPY_MODEL_a82b69f5f263441384f2af246568e601",
        "IPY_MODEL_3effbb57c120446a8392a2c5a876ef43",
        "IPY_MODEL_49fcc4afb1cb4bfe8cd3cc6428c0910b",
        "IPY_MODEL_3b0bb13be4934f2e91c1f77dfa9b53f4"
       ],
       "layout": "IPY_MODEL_08a0321f44f74d91b3faa39b60922693"
      }
     },
     "1c6dc1b4873047699545993c6b5dfb74": {
      "model_module": "@jupyter-widgets/controls",
      "model_module_version": "1.5.0",
      "model_name": "DescriptionStyleModel",
      "state": {
       "description_width": "initial"
      }
     },
     "1c97df8ed65c4026baa14847b9aec6e6": {
      "model_module": "@jupyter-widgets/base",
      "model_module_version": "1.2.0",
      "model_name": "LayoutModel",
      "state": {
       "width": "500px"
      }
     },
     "1cbd0cb6769c490f81d037e3c6be98fa": {
      "model_module": "@jupyter-widgets/controls",
      "model_module_version": "1.5.0",
      "model_name": "ButtonStyleModel",
      "state": {
       "button_color": "lightgreen"
      }
     },
     "1cc3081b9a3d4920a7683c255273d7bf": {
      "model_module": "@jupyter-widgets/controls",
      "model_module_version": "1.5.0",
      "model_name": "DropdownModel",
      "state": {
       "_options_labels": [
        "NP",
        "PP",
        "VP",
        " "
       ],
       "index": 2,
       "layout": "IPY_MODEL_645e554edf3648efaba83802775262e4",
       "style": "IPY_MODEL_0affd181fb5d4029824c78da23da7aef"
      }
     },
     "1d102485215440349807a418bf067ff5": {
      "model_module": "@jupyter-widgets/base",
      "model_module_version": "1.2.0",
      "model_name": "LayoutModel",
      "state": {
       "width": "250px"
      }
     },
     "1d93eb7c58f5484b89dfc63e588baeec": {
      "model_module": "@jupyter-widgets/controls",
      "model_module_version": "1.5.0",
      "model_name": "DescriptionStyleModel",
      "state": {
       "description_width": "initial"
      }
     },
     "1dc12fb096324edbb650daa4415b6344": {
      "model_module": "@jupyter-widgets/controls",
      "model_module_version": "1.5.0",
      "model_name": "HBoxModel",
      "state": {
       "children": [
        "IPY_MODEL_ea8959ce63744890b0a388566f22aa7e",
        "IPY_MODEL_7914205e280349dc8d3d98323a9531bd"
       ],
       "layout": "IPY_MODEL_2d28a1fef00c49f8a9e6d3263b5215a7"
      }
     },
     "1e18396ada6a4622a8cdeff65d82f440": {
      "model_module": "@jupyter-widgets/controls",
      "model_module_version": "1.5.0",
      "model_name": "DescriptionStyleModel",
      "state": {
       "description_width": "initial"
      }
     },
     "1ea7424d83774b3c8d9e808444660597": {
      "model_module": "@jupyter-widgets/controls",
      "model_module_version": "1.5.0",
      "model_name": "VBoxModel",
      "state": {
       "children": [
        "IPY_MODEL_6afa18b643b94d8a9b2581544341cff0",
        "IPY_MODEL_7d3596b7e8314a9ea180a944cc9dcfd0",
        "IPY_MODEL_292fddc63c7f462fbd83a64362dc6e71",
        "IPY_MODEL_7efc64d6d6024f5f8d04ba2ac4e74289"
       ],
       "layout": "IPY_MODEL_26b91bf613d74fa1a740b5148070c440"
      }
     },
     "1eb465f6d3284a0ea6a2f1fed4d9afb7": {
      "model_module": "@jupyter-widgets/base",
      "model_module_version": "1.2.0",
      "model_name": "LayoutModel",
      "state": {}
     },
     "1ef81e179a6a4444a33e31284b56d4f8": {
      "model_module": "@jupyter-widgets/base",
      "model_module_version": "1.2.0",
      "model_name": "LayoutModel",
      "state": {
       "align_content": "stretch",
       "align_items": "stretch",
       "display": "inline-flex",
       "flex": "flex-grow",
       "flex_flow": "row wrap",
       "justify_content": "flex-start"
      }
     },
     "1f209c77fb324f41ab616763b41a367b": {
      "model_module": "@jupyter-widgets/base",
      "model_module_version": "1.2.0",
      "model_name": "LayoutModel",
      "state": {
       "width": "250px"
      }
     },
     "1f3a3ee085a142eaa122a1dd17922bec": {
      "model_module": "@jupyter-widgets/controls",
      "model_module_version": "1.5.0",
      "model_name": "HTMLModel",
      "state": {
       "layout": "IPY_MODEL_a174b2a4fc634077b10913a4e281ecf9",
       "style": "IPY_MODEL_9afcd0bf42814f3a85c3ca3a9041ae1e",
       "value": "<h4 style=\"font-size:14px;\"><i>seinen Schlüsselbund zwar noch nie verloren haben.</i></h4>"
      }
     },
     "1f411b63a47944aa8e28218475f45fce": {
      "model_module": "@jupyter-widgets/controls",
      "model_module_version": "1.5.0",
      "model_name": "DescriptionStyleModel",
      "state": {
       "description_width": ""
      }
     },
     "1f7ff264911f43b89ed5c66dab9808d5": {
      "model_module": "@jupyter-widgets/controls",
      "model_module_version": "1.5.0",
      "model_name": "HTMLModel",
      "state": {
       "layout": "IPY_MODEL_389eb773a8a74f278e7a95138487ed70",
       "style": "IPY_MODEL_34b219e1ccc44106a31b9dfca6f81aad",
       "value": "<h4 style=\"font-size:14px;\">Welche Eigenschaften hat <i>gerne</i> in Satz 1?</h4>"
      }
     },
     "1fd22afb8d7d427ead6bd0f8f87ab9f2": {
      "model_module": "@jupyter-widgets/controls",
      "model_module_version": "1.5.0",
      "model_name": "ButtonStyleModel",
      "state": {}
     },
     "20053c3973864effaa9efe2bdd3b70aa": {
      "model_module": "@jupyter-widgets/controls",
      "model_module_version": "1.5.0",
      "model_name": "HTMLModel",
      "state": {
       "layout": "IPY_MODEL_04eebb1a825b43919af749b424bff899",
       "style": "IPY_MODEL_bab808a1bc494df2a218486e3299dd9e",
       "value": "<h4 style=\"font-size:14px;\">trägt. Das Ergebnis sind die häufigsten zweistelligen syntaktischen Muster des Englischen mit NOUN als rechtem Kontext, nämlich NOUN+NOUN, DET+NOUN und ADJ+NOUN; diese Ergebnisse geben Hinweis auf die NP-</h4>"
      }
     },
     "200b6e0699164f36bedf95f1b32b26f8": {
      "model_module": "@jupyter-widgets/controls",
      "model_module_version": "1.5.0",
      "model_name": "VBoxModel",
      "state": {
       "children": [
        "IPY_MODEL_a39122c401f340f39d2aaa6254e08485",
        "IPY_MODEL_b561a97583c44659bae8ac134ed0ea02",
        "IPY_MODEL_52e86c30cd2241f599b3954a66f5040d"
       ],
       "layout": "IPY_MODEL_aff636e8c1564086946aecbfc12de46b"
      }
     },
     "20438ec34366485e9c3eb4767123eebe": {
      "model_module": "@jupyter-widgets/controls",
      "model_module_version": "1.5.0",
      "model_name": "HBoxModel",
      "state": {
       "children": [
        "IPY_MODEL_80074657d18f41e9998aabf0e42a1c12",
        "IPY_MODEL_425849be26ec4798b2b520380d887064"
       ],
       "layout": "IPY_MODEL_5967160de5f6400b8bb65ac8b4f863f1"
      }
     },
     "205f334bb47c44f69cac71ab7d883b2d": {
      "model_module": "@jupyter-widgets/controls",
      "model_module_version": "1.5.0",
      "model_name": "ButtonStyleModel",
      "state": {}
     },
     "2099a0eb9d004a67b70cc91c3a7cd8bf": {
      "model_module": "@jupyter-widgets/controls",
      "model_module_version": "1.5.0",
      "model_name": "HTMLModel",
      "state": {
       "layout": "IPY_MODEL_f665927117d74eef8f599b28bb483930",
       "style": "IPY_MODEL_8c716d2374da43aabc2ce9f0111a72da",
       "value": "<h4 style=\"font-size:14px;\">Das Partizip <i>Verloren<i> ist eine</h4>"
      }
     },
     "20d230ab9db64bdba07f4a4c5df53b70": {
      "model_module": "@jupyter-widgets/controls",
      "model_module_version": "1.5.0",
      "model_name": "DropdownModel",
      "state": {
       "_options_labels": [
        "Köpfe",
        "Länge",
        "Phrasenstruktur",
        " "
       ],
       "index": 3,
       "layout": "IPY_MODEL_8f006a5887554dabb25ba3071bc88082",
       "style": "IPY_MODEL_50a1b104447446368a7ae26f0c67fda9"
      }
     },
     "20fcaae9341c44f08f85626a4c9f1e80": {
      "model_module": "@jupyter-widgets/base",
      "model_module_version": "1.2.0",
      "model_name": "LayoutModel",
      "state": {
       "width": "250px"
      }
     },
     "210ef53e974542488266c5dee91c41f4": {
      "model_module": "@jupyter-widgets/base",
      "model_module_version": "1.2.0",
      "model_name": "LayoutModel",
      "state": {
       "width": "150px"
      }
     },
     "214c768bb24f49b8becb6787b6becea2": {
      "model_module": "@jupyter-widgets/base",
      "model_module_version": "1.2.0",
      "model_name": "LayoutModel",
      "state": {
       "width": "600px"
      }
     },
     "216d01bd98494110a38b44df23a0739b": {
      "model_module": "@jupyter-widgets/base",
      "model_module_version": "1.2.0",
      "model_name": "LayoutModel",
      "state": {
       "justify_content": "center"
      }
     },
     "216e542da8d34a879be02043e3e6f132": {
      "model_module": "@jupyter-widgets/controls",
      "model_module_version": "1.5.0",
      "model_name": "DescriptionStyleModel",
      "state": {
       "description_width": ""
      }
     },
     "2192bc7f4d0e44c5bd56abb4ecfff8ac": {
      "model_module": "@jupyter-widgets/base",
      "model_module_version": "1.2.0",
      "model_name": "LayoutModel",
      "state": {}
     },
     "21b839a674ed4c98ae6bb71f6216e1ab": {
      "model_module": "@jupyter-widgets/controls",
      "model_module_version": "1.5.0",
      "model_name": "ButtonStyleModel",
      "state": {}
     },
     "21ef15f69ed4459b9b9c23d0f0776a55": {
      "model_module": "@jupyter-widgets/controls",
      "model_module_version": "1.5.0",
      "model_name": "DescriptionStyleModel",
      "state": {
       "description_width": ""
      }
     },
     "220bf138ddbe4af29f4af921fd4dc99b": {
      "model_module": "@jupyter-widgets/controls",
      "model_module_version": "1.5.0",
      "model_name": "CheckboxModel",
      "state": {
       "description": "Zu einem Wort werden alle Wörter gefunden, die in gleichen Kontexten vorkommen.",
       "disabled": false,
       "layout": "IPY_MODEL_da801cf9f17d4dc1911b9e6c7c692164",
       "style": "IPY_MODEL_65d90eab08f64e7483934c989c58e71a",
       "value": false
      }
     },
     "222b8d61b7f84501a3f6cb3a31e69f98": {
      "model_module": "@jupyter-widgets/controls",
      "model_module_version": "1.5.0",
      "model_name": "DescriptionStyleModel",
      "state": {
       "description_width": ""
      }
     },
     "2237e6b79dcb40a1b008c94f519bf292": {
      "model_module": "@jupyter-widgets/controls",
      "model_module_version": "1.5.0",
      "model_name": "ButtonStyleModel",
      "state": {}
     },
     "224fe57769f548bca973e7836e3f4d2f": {
      "model_module": "@jupyter-widgets/controls",
      "model_module_version": "1.5.0",
      "model_name": "ButtonModel",
      "state": {
       "description": "past participle",
       "layout": "IPY_MODEL_db04f441e4e645c4ad01a45e63375021",
       "style": "IPY_MODEL_31af965f46be44618beed98ed0e0c0e3"
      }
     },
     "22538befe4ef46e88ad6ce0268e74bd6": {
      "model_module": "@jupyter-widgets/base",
      "model_module_version": "1.2.0",
      "model_name": "LayoutModel",
      "state": {}
     },
     "225a7bacfc82404391564b7076e54945": {
      "model_module": "@jupyter-widgets/controls",
      "model_module_version": "1.5.0",
      "model_name": "HTMLModel",
      "state": {
       "layout": "IPY_MODEL_03c36132d33c40b6b116a6db9264de09",
       "style": "IPY_MODEL_6d6ce6be25624620885a17389bfdc6f0",
       "value": "<h4 style=\"font-size:14px;\">Was sind syntaktische Kriterien für Wortkategorien?</h4>"
      }
     },
     "22bb76315b0b4a06a3219ec69cc48019": {
      "model_module": "@jupyter-widgets/base",
      "model_module_version": "1.2.0",
      "model_name": "LayoutModel",
      "state": {
       "width": "250px"
      }
     },
     "22be8c65b07c4811995800c52ef45127": {
      "model_module": "@jupyter-widgets/controls",
      "model_module_version": "1.5.0",
      "model_name": "HTMLModel",
      "state": {
       "layout": "IPY_MODEL_13e0c98a57384389b03d4f2c8c946597",
       "style": "IPY_MODEL_5b7b758751bb45f7a6139f15906afe27",
       "value": "<h4 style=\"font-size:14px;\">Die Koordination von Phrasen ist dadurch eingeschränkt, dass nur</h4>"
      }
     },
     "22cffb5bdaba48f3bc5551d768085451": {
      "model_module": "@jupyter-widgets/controls",
      "model_module_version": "1.5.0",
      "model_name": "HBoxModel",
      "state": {
       "children": [
        "IPY_MODEL_0f359c093c134da89f36970c61088ba5",
        "IPY_MODEL_3d6ddb1ccdd942b5a6629b2d4ef7cdcb"
       ],
       "layout": "IPY_MODEL_43631f2832164c80b0a2bda6a439bea7"
      }
     },
     "2301831845fa45269d167223aef2342f": {
      "model_module": "@jupyter-widgets/base",
      "model_module_version": "1.2.0",
      "model_name": "LayoutModel",
      "state": {}
     },
     "2301f151919f454384a0345d5768bc30": {
      "model_module": "@jupyter-widgets/controls",
      "model_module_version": "1.5.0",
      "model_name": "CheckboxModel",
      "state": {
       "description": "Es bezeichnet die näheren Umstände des im Verb ausgedrückten Geschehens.",
       "disabled": false,
       "layout": "IPY_MODEL_c0010bddc0c74d869b515dc06bccc588",
       "style": "IPY_MODEL_a8d382db9e0c4e72ba986a658a3a5711",
       "value": true
      }
     },
     "23066c93c6804a7a8bb194cba50e8e66": {
      "model_module": "@jupyter-widgets/controls",
      "model_module_version": "1.5.0",
      "model_name": "HTMLModel",
      "state": {
       "layout": "IPY_MODEL_7a0962695e5946bdb28512a9e4b1bb39",
       "style": "IPY_MODEL_e3bcc786e4144b49912127d7da4652c4",
       "value": "<h4 style=\"font-size:14px;\">Ersetzbarkeit einer</h4>"
      }
     },
     "231e176c0f1a462e8e2a42509a858809": {
      "model_module": "@jupyter-widgets/base",
      "model_module_version": "1.2.0",
      "model_name": "LayoutModel",
      "state": {
       "width": "600px"
      }
     },
     "232d318ce74e49789abdda0889d607b4": {
      "model_module": "@jupyter-widgets/base",
      "model_module_version": "1.2.0",
      "model_name": "LayoutModel",
      "state": {
       "width": "250px"
      }
     },
     "233cf8683c58434a918dfb0a90e3de49": {
      "model_module": "@jupyter-widgets/base",
      "model_module_version": "1.2.0",
      "model_name": "LayoutModel",
      "state": {
       "width": "250px"
      }
     },
     "235b5672b44e43b290424d4f1a01e0c2": {
      "model_module": "@jupyter-widgets/base",
      "model_module_version": "1.2.0",
      "model_name": "LayoutModel",
      "state": {
       "width": "600px"
      }
     },
     "23e82255d6e34d2097a530a20450ba34": {
      "model_module": "@jupyter-widgets/controls",
      "model_module_version": "1.5.0",
      "model_name": "HBoxModel",
      "state": {
       "children": [
        "IPY_MODEL_ea599bd66e264aecaabc87514851e8c7"
       ],
       "layout": "IPY_MODEL_a149bf8e85ec4a8ea044a5ecd7568bc9"
      }
     },
     "2426cd7876114bc89c687f665f8df4ce": {
      "model_module": "@jupyter-widgets/base",
      "model_module_version": "1.2.0",
      "model_name": "LayoutModel",
      "state": {
       "justify_content": "center"
      }
     },
     "24667aeb60a4402ebd89e055a9cd6e3a": {
      "model_module": "@jupyter-widgets/base",
      "model_module_version": "1.2.0",
      "model_name": "LayoutModel",
      "state": {
       "width": "250px"
      }
     },
     "24929e0352a24bab8655592ad3f4e43c": {
      "model_module": "@jupyter-widgets/controls",
      "model_module_version": "1.5.0",
      "model_name": "VBoxModel",
      "state": {
       "children": [
        "IPY_MODEL_5a99601d5e134f4c8e9b3772916f09a4",
        "IPY_MODEL_024a00e3b37e4d5faec52c340f003e44",
        "IPY_MODEL_b14aa26f8ce447268be777c4f305afde",
        "IPY_MODEL_19f2b7c29e2344f199383c8ccf99f146"
       ],
       "layout": "IPY_MODEL_5c2868547c6047eeb17a10f4c26d2111"
      }
     },
     "24fcacd03eaf4c43a67c3c8c4043ca8d": {
      "model_module": "@jupyter-widgets/controls",
      "model_module_version": "1.5.0",
      "model_name": "DescriptionStyleModel",
      "state": {
       "description_width": ""
      }
     },
     "253a5bacc94d4481b4f032cbb22ea8c1": {
      "model_module": "@jupyter-widgets/controls",
      "model_module_version": "1.5.0",
      "model_name": "CheckboxModel",
      "state": {
       "description": "Flexionstyp",
       "disabled": false,
       "layout": "IPY_MODEL_bf5bdaf4d44741a79cf3b9c1f17fbe75",
       "style": "IPY_MODEL_e74613ba0b394665a24b5ec0abc0e9cf",
       "value": false
      }
     },
     "2556fc3486b042d3afbe642d26173206": {
      "model_module": "@jupyter-widgets/controls",
      "model_module_version": "1.5.0",
      "model_name": "DescriptionStyleModel",
      "state": {
       "description_width": ""
      }
     },
     "25b5da7a8b8546bfaacc31cd43aed8fa": {
      "model_module": "@jupyter-widgets/controls",
      "model_module_version": "1.5.0",
      "model_name": "VBoxModel",
      "state": {
       "children": [
        "IPY_MODEL_c7d202e2330e4b9c88e38d9957290428",
        "IPY_MODEL_084d706c30d14835b9c6567d167c6425",
        "IPY_MODEL_9405768e190e4983b3b90b5fa9809825",
        "IPY_MODEL_f280eb4b34464ef4a99a3fd06ffdf60b"
       ],
       "layout": "IPY_MODEL_39843ca104ae4205ae3c46478f59142e"
      }
     },
     "25d0a5969ba04186a5e69eb47c8a0878": {
      "model_module": "@jupyter-widgets/controls",
      "model_module_version": "1.5.0",
      "model_name": "ButtonModel",
      "state": {
       "description": "Folge von Wortklassen",
       "layout": "IPY_MODEL_a4b91beca75248a9b3cf8f4ef49fc79a",
       "style": "IPY_MODEL_98e5e4fe85da4fd7826935cae9afb951"
      }
     },
     "25d70c24eaca4a55977bd482205f3a65": {
      "model_module": "@jupyter-widgets/controls",
      "model_module_version": "1.5.0",
      "model_name": "DescriptionStyleModel",
      "state": {
       "description_width": "initial"
      }
     },
     "25ee1d5893a44d8c84c8f1b42f2a299d": {
      "model_module": "@jupyter-widgets/base",
      "model_module_version": "1.2.0",
      "model_name": "LayoutModel",
      "state": {}
     },
     "260bafbc6b7245c2a53e4e49a30dd734": {
      "model_module": "@jupyter-widgets/controls",
      "model_module_version": "1.5.0",
      "model_name": "DescriptionStyleModel",
      "state": {
       "description_width": "initial"
      }
     },
     "261e012da5af47719d68ce4f45ca27b5": {
      "model_module": "@jupyter-widgets/base",
      "model_module_version": "1.2.0",
      "model_name": "LayoutModel",
      "state": {
       "width": "250px"
      }
     },
     "26744cdc2ca44f4da372351f437f729e": {
      "model_module": "@jupyter-widgets/controls",
      "model_module_version": "1.5.0",
      "model_name": "ButtonStyleModel",
      "state": {}
     },
     "26a01565c49845ebbe016df3fa21df16": {
      "model_module": "@jupyter-widgets/base",
      "model_module_version": "1.2.0",
      "model_name": "LayoutModel",
      "state": {}
     },
     "26b91bf613d74fa1a740b5148070c440": {
      "model_module": "@jupyter-widgets/base",
      "model_module_version": "1.2.0",
      "model_name": "LayoutModel",
      "state": {}
     },
     "26d3ce0fe9cc4fddaa3903e074359ac9": {
      "model_module": "@jupyter-widgets/base",
      "model_module_version": "1.2.0",
      "model_name": "LayoutModel",
      "state": {
       "width": "150px"
      }
     },
     "26d7994388fc4508b6607d2d3c1c2d95": {
      "model_module": "@jupyter-widgets/base",
      "model_module_version": "1.2.0",
      "model_name": "LayoutModel",
      "state": {}
     },
     "26ef83046c7d48bba594ddaa4343a87a": {
      "model_module": "@jupyter-widgets/controls",
      "model_module_version": "1.5.0",
      "model_name": "ButtonStyleModel",
      "state": {}
     },
     "26f34ae6b65647d79b0680ebb0c9ef77": {
      "model_module": "@jupyter-widgets/controls",
      "model_module_version": "1.5.0",
      "model_name": "DescriptionStyleModel",
      "state": {
       "description_width": ""
      }
     },
     "271dfb73469a49d18d51130a7088f955": {
      "model_module": "@jupyter-widgets/controls",
      "model_module_version": "1.5.0",
      "model_name": "HTMLModel",
      "state": {
       "layout": "IPY_MODEL_efe7071dc4b444d98086ad12f7eb31e5",
       "style": "IPY_MODEL_2d13bc3caec342ff99ef23baf1c186c2",
       "value": "<i>Wählen Sie die <ins>eine</ins> korrekte Antwort aus: </i>"
      }
     },
     "272c57f43746485ca0e822d37e2ac5ef": {
      "model_module": "@jupyter-widgets/controls",
      "model_module_version": "1.5.0",
      "model_name": "ButtonStyleModel",
      "state": {}
     },
     "28282b28c45247d2b91b7b2cf70a7cb6": {
      "model_module": "@jupyter-widgets/controls",
      "model_module_version": "1.5.0",
      "model_name": "ButtonStyleModel",
      "state": {}
     },
     "28c9ae188b9e43dca93ca830fcde053f": {
      "model_module": "@jupyter-widgets/base",
      "model_module_version": "1.2.0",
      "model_name": "LayoutModel",
      "state": {
       "width": "250px"
      }
     },
     "292fddc63c7f462fbd83a64362dc6e71": {
      "model_module": "@jupyter-widgets/controls",
      "model_module_version": "1.5.0",
      "model_name": "VBoxModel",
      "state": {
       "children": [
        "IPY_MODEL_253a5bacc94d4481b4f032cbb22ea8c1",
        "IPY_MODEL_c5d12191b0a7458f8e29c57158a298ba",
        "IPY_MODEL_b99aa57238704508bee1988288c14f97",
        "IPY_MODEL_a44651eb859c41ed8971acada950cce0"
       ],
       "layout": "IPY_MODEL_bf39cb165c014e18b4c34496fea44d31"
      }
     },
     "294e8d79a5f64fd1806529d0c2f0ab2f": {
      "model_module": "@jupyter-widgets/base",
      "model_module_version": "1.2.0",
      "model_name": "LayoutModel",
      "state": {
       "width": "250px"
      }
     },
     "296e9ac0175741ac8fdf4998d7218e07": {
      "model_module": "@jupyter-widgets/controls",
      "model_module_version": "1.5.0",
      "model_name": "HTMLModel",
      "state": {
       "layout": "IPY_MODEL_4ae47ca969f843278ea5b09599a92470",
       "style": "IPY_MODEL_19440408c8404fcfa06645d1a32c6c2a",
       "value": "<h4 style=\"font-size:14px;\">Welche Eigenschaften hat <i>gerne</i> in Satz 1?</h4>"
      }
     },
     "2976b3cab49e411581fd34acd8ec42eb": {
      "model_module": "@jupyter-widgets/controls",
      "model_module_version": "1.5.0",
      "model_name": "HTMLModel",
      "state": {
       "layout": "IPY_MODEL_40cb38e994004e11b3fd8a4602b67a21",
       "style": "IPY_MODEL_627f54ad91b54f47a6c1671b13ba4f98",
       "value": "<h4 style=\"font-size:14px;\">Die Koordination von Phrasen ist dadurch eingeschränkt, dass nur</h4>"
      }
     },
     "29b0200793994af6a39b10d318846a9c": {
      "model_module": "@jupyter-widgets/controls",
      "model_module_version": "1.5.0",
      "model_name": "DescriptionStyleModel",
      "state": {
       "description_width": ""
      }
     },
     "29dcc14a17214bb9ba00bc789e2678fd": {
      "model_module": "@jupyter-widgets/base",
      "model_module_version": "1.2.0",
      "model_name": "LayoutModel",
      "state": {
       "width": "250px"
      }
     },
     "29def116916a4e73a132dc4324ccfed3": {
      "model_module": "@jupyter-widgets/base",
      "model_module_version": "1.2.0",
      "model_name": "LayoutModel",
      "state": {}
     },
     "29e8295895d44b59bca613abc9eca36e": {
      "model_module": "@jupyter-widgets/controls",
      "model_module_version": "1.5.0",
      "model_name": "HBoxModel",
      "state": {
       "children": [
        "IPY_MODEL_f59853a662334d93b0bd46df20b2661d",
        "IPY_MODEL_de798b2bc8fe4de2b2306fa17a507b3a"
       ],
       "layout": "IPY_MODEL_b3cace5bd6264738a973567c35885ba6"
      }
     },
     "2a65c8269a604cba867e3d7f3663e7fd": {
      "model_module": "@jupyter-widgets/base",
      "model_module_version": "1.2.0",
      "model_name": "LayoutModel",
      "state": {}
     },
     "2a7c0e324db74c358f0cc2775b139df6": {
      "model_module": "@jupyter-widgets/base",
      "model_module_version": "1.2.0",
      "model_name": "LayoutModel",
      "state": {
       "width": "600px"
      }
     },
     "2a7fee660d4941c7830b0c4c4bdc924d": {
      "model_module": "@jupyter-widgets/controls",
      "model_module_version": "1.5.0",
      "model_name": "VBoxModel",
      "state": {
       "children": [
        "IPY_MODEL_296e9ac0175741ac8fdf4998d7218e07",
        "IPY_MODEL_69f2583c3f1644ebbac79896a58b046c",
        "IPY_MODEL_a012ce5d974244c7bb201bd576a0666b",
        "IPY_MODEL_bdff20a586de4bf5a51d6cb19ea1824b"
       ],
       "layout": "IPY_MODEL_d7c8e7fe61a1449bb65b6a8363c68735"
      }
     },
     "2a932d35993a46d391c7f3fff23d4be9": {
      "model_module": "@jupyter-widgets/controls",
      "model_module_version": "1.5.0",
      "model_name": "CheckboxModel",
      "state": {
       "description": "Nur mit beginnt eine Reise von tausend Meilen auch einem Schritt.",
       "disabled": false,
       "layout": "IPY_MODEL_7e505e1f0a6d40049160530ca973235e",
       "style": "IPY_MODEL_02a2c99632f9408c8470524a445ec141",
       "value": false
      }
     },
     "2ac13be1bd7440dcaac727f1d49c8dbb": {
      "model_module": "@jupyter-widgets/base",
      "model_module_version": "1.2.0",
      "model_name": "LayoutModel",
      "state": {}
     },
     "2ad2ca7f6c7b4ac99d8ef6ae6e86f268": {
      "model_module": "@jupyter-widgets/controls",
      "model_module_version": "1.5.0",
      "model_name": "DescriptionStyleModel",
      "state": {
       "description_width": ""
      }
     },
     "2b646154436b44fa994835fc8485a63b": {
      "model_module": "@jupyter-widgets/base",
      "model_module_version": "1.2.0",
      "model_name": "LayoutModel",
      "state": {}
     },
     "2b8f2b97b378437da9b37718d2491622": {
      "model_module": "@jupyter-widgets/base",
      "model_module_version": "1.2.0",
      "model_name": "LayoutModel",
      "state": {
       "width": "600px"
      }
     },
     "2b9a9fbc7b43452cac28c3ab9253291e": {
      "model_module": "@jupyter-widgets/controls",
      "model_module_version": "1.5.0",
      "model_name": "VBoxModel",
      "state": {
       "children": [
        "IPY_MODEL_c3a020671f0a4d818d8a084701172179",
        "IPY_MODEL_310b7493ffeb4d149491ec261a6629e7",
        "IPY_MODEL_6fb8198958d6461893b94fecbc676e81",
        "IPY_MODEL_ae44d44bfe894158a0264b2c4d8db91c"
       ],
       "layout": "IPY_MODEL_df1b5aef4f6746079c86a99088591c27"
      }
     },
     "2bfac8ca60424915800cfeda579f47a4": {
      "model_module": "@jupyter-widgets/controls",
      "model_module_version": "1.5.0",
      "model_name": "ButtonModel",
      "state": {
       "description": "gerund",
       "layout": "IPY_MODEL_8c1317427e2644dfa1e1cbbcfbddca67",
       "style": "IPY_MODEL_5e2062f92b474991b577a61073c4b0d1"
      }
     },
     "2c160e72b9f24714ae1ef2f9e6ad1992": {
      "model_module": "@jupyter-widgets/controls",
      "model_module_version": "1.5.0",
      "model_name": "ButtonModel",
      "state": {
       "description": "Korrekt?",
       "layout": "IPY_MODEL_61fd47be42594d0ea01e443e0af2c8a7",
       "style": "IPY_MODEL_3da3aaacb8ef4f3b92c20207cf3dacde"
      }
     },
     "2c71ba5562e94597b4aa98f510939ca5": {
      "model_module": "@jupyter-widgets/controls",
      "model_module_version": "1.5.0",
      "model_name": "DescriptionStyleModel",
      "state": {
       "description_width": ""
      }
     },
     "2c866bb0ed6e4ec296d8ea648bcdbbd6": {
      "model_module": "@jupyter-widgets/base",
      "model_module_version": "1.2.0",
      "model_name": "LayoutModel",
      "state": {}
     },
     "2cf005a408ee4b77b00bca6b2245e035": {
      "model_module": "@jupyter-widgets/base",
      "model_module_version": "1.2.0",
      "model_name": "LayoutModel",
      "state": {}
     },
     "2cff9246dd9e47cdb8cd4ff5df4ec30a": {
      "model_module": "@jupyter-widgets/base",
      "model_module_version": "1.2.0",
      "model_name": "LayoutModel",
      "state": {}
     },
     "2d13bc3caec342ff99ef23baf1c186c2": {
      "model_module": "@jupyter-widgets/controls",
      "model_module_version": "1.5.0",
      "model_name": "DescriptionStyleModel",
      "state": {
       "description_width": ""
      }
     },
     "2d1eef325ed34207b0dd893a0b66861a": {
      "model_module": "@jupyter-widgets/controls",
      "model_module_version": "1.5.0",
      "model_name": "ButtonStyleModel",
      "state": {}
     },
     "2d28a1fef00c49f8a9e6d3263b5215a7": {
      "model_module": "@jupyter-widgets/base",
      "model_module_version": "1.2.0",
      "model_name": "LayoutModel",
      "state": {}
     },
     "2d3d5063c40d4d8ea8a6a19e7d744006": {
      "model_module": "@jupyter-widgets/controls",
      "model_module_version": "1.5.0",
      "model_name": "DescriptionStyleModel",
      "state": {
       "description_width": ""
      }
     },
     "2d459d51cfd84c1dabceeb8edfd93aa5": {
      "model_module": "@jupyter-widgets/controls",
      "model_module_version": "1.5.0",
      "model_name": "ButtonModel",
      "state": {
       "description": "3rd singular present",
       "layout": "IPY_MODEL_8327935f0fd14209a4249b46571f9203",
       "style": "IPY_MODEL_020920dd653b4ce49df49866e7a09ee7"
      }
     },
     "2d48bfe2f28040fc8058d7ade7ba59ff": {
      "model_module": "@jupyter-widgets/controls",
      "model_module_version": "1.5.0",
      "model_name": "ButtonModel",
      "state": {
       "description": "base",
       "layout": "IPY_MODEL_3461827bc34b41a9b3db155d0a439581",
       "style": "IPY_MODEL_7c4ec3e42a8d4807bddc5902d6b58a9e"
      }
     },
     "2d581c1bfdcb47e3a8fc678a03dcda81": {
      "model_module": "@jupyter-widgets/controls",
      "model_module_version": "1.5.0",
      "model_name": "CheckboxModel",
      "state": {
       "description": "Zu einem Wort werden seine Kookkurrenzpartner gefunden.",
       "disabled": false,
       "layout": "IPY_MODEL_d901d31af6be4b0f82d009e415534e3a",
       "style": "IPY_MODEL_7bf82efb0b79476684298ab3144a6999",
       "value": false
      }
     },
     "2da0408830d64653b9ed0da1adc4f96c": {
      "model_module": "@jupyter-widgets/controls",
      "model_module_version": "1.5.0",
      "model_name": "HBoxModel",
      "state": {
       "children": [
        "IPY_MODEL_87c83875fbd24646adac9a6fa420a489"
       ],
       "layout": "IPY_MODEL_8fb5f976803a43689d682c595de75f9f"
      }
     },
     "2dc18c3b3f374aaa84bd840debd592bc": {
      "model_module": "@jupyter-widgets/controls",
      "model_module_version": "1.5.0",
      "model_name": "ButtonStyleModel",
      "state": {}
     },
     "2df41de2eca54018ac2a392613ba9c2d": {
      "model_module": "@jupyter-widgets/base",
      "model_module_version": "1.2.0",
      "model_name": "LayoutModel",
      "state": {}
     },
     "2df55c8edbba4d2f80561076d877a0d8": {
      "model_module": "@jupyter-widgets/controls",
      "model_module_version": "1.5.0",
      "model_name": "HBoxModel",
      "state": {
       "children": [
        "IPY_MODEL_6c9c49de78604132a50206680f35f1fe",
        "IPY_MODEL_520333c19c804ce5bf3a178ccbd765b4"
       ],
       "layout": "IPY_MODEL_2b646154436b44fa994835fc8485a63b"
      }
     },
     "2dfc7e33049a4ac0ac0b9b3b4d84592e": {
      "model_module": "@jupyter-widgets/controls",
      "model_module_version": "1.5.0",
      "model_name": "HBoxModel",
      "state": {
       "children": [
        "IPY_MODEL_051814da4d7648e39b34277a9296907b"
       ],
       "layout": "IPY_MODEL_d50ce8dee63b4e889114debc4fbff238"
      }
     },
     "2dff4d44a72846ca8fd5ee8b649d01be": {
      "model_module": "@jupyter-widgets/controls",
      "model_module_version": "1.5.0",
      "model_name": "DropdownModel",
      "state": {
       "_options_labels": [
        "morphologischen",
        "syntaktischen",
        " "
       ],
       "index": 2,
       "layout": "IPY_MODEL_47c4a7fa156b4ed4b20c038636a62442",
       "style": "IPY_MODEL_a36210a75e67433995f71dd70b8c2933"
      }
     },
     "2e2585b3f4ee4d39a69cc455971256cf": {
      "model_module": "@jupyter-widgets/controls",
      "model_module_version": "1.5.0",
      "model_name": "VBoxModel",
      "state": {
       "children": [
        "IPY_MODEL_dad344a190254f1cb98259ce492022a3",
        "IPY_MODEL_0bd39b6cf30d4ad89cff57bf347d3e85",
        "IPY_MODEL_0f2c7653ddac49cb8bb8545baae0c9ec"
       ],
       "layout": "IPY_MODEL_2cf005a408ee4b77b00bca6b2245e035"
      }
     },
     "2e4815eb93074f70a7c7b1133ff6a2fb": {
      "model_module": "@jupyter-widgets/base",
      "model_module_version": "1.2.0",
      "model_name": "LayoutModel",
      "state": {
       "justify_content": "center"
      }
     },
     "2e5d933f3a064b42969ec0bf531b5eef": {
      "model_module": "@jupyter-widgets/controls",
      "model_module_version": "1.5.0",
      "model_name": "DescriptionStyleModel",
      "state": {
       "description_width": "initial"
      }
     },
     "2eb861931cb0450098ae532675b4b6ff": {
      "model_module": "@jupyter-widgets/base",
      "model_module_version": "1.2.0",
      "model_name": "LayoutModel",
      "state": {
       "width": "250px"
      }
     },
     "2ef16186c1894c4e8721e6baabcc6539": {
      "model_module": "@jupyter-widgets/controls",
      "model_module_version": "1.5.0",
      "model_name": "HBoxModel",
      "state": {
       "children": [
        "IPY_MODEL_d00169b47352490fba4f891f95c66353",
        "IPY_MODEL_c3d414ce5b0640c293c69471dd1f94e9"
       ],
       "layout": "IPY_MODEL_93bc2e2b618e438b8023cbfbfdbfd915"
      }
     },
     "2f2d5b44ddb1480ba05585fa6ee3672b": {
      "model_module": "@jupyter-widgets/controls",
      "model_module_version": "1.5.0",
      "model_name": "HTMLModel",
      "state": {
       "layout": "IPY_MODEL_1267fc01798d447b956b5a9258cf92b8",
       "style": "IPY_MODEL_a4c97e77185141a7af3b5a380b950f7c",
       "value": "<i>Wählen Sie die <ins>eine</ins> korrekte Antwort aus: </i>"
      }
     },
     "2f69580d374440759d0cc1951164a6a5": {
      "model_module": "@jupyter-widgets/controls",
      "model_module_version": "1.5.0",
      "model_name": "DescriptionStyleModel",
      "state": {
       "description_width": "initial"
      }
     },
     "2fb2d6253996433ba7fdd25b086154fc": {
      "model_module": "@jupyter-widgets/controls",
      "model_module_version": "1.5.0",
      "model_name": "ButtonStyleModel",
      "state": {
       "button_color": "lightgreen"
      }
     },
     "303be143e7b04ce4b7225170c160e05d": {
      "model_module": "@jupyter-widgets/controls",
      "model_module_version": "1.5.0",
      "model_name": "HBoxModel",
      "state": {
       "children": [
        "IPY_MODEL_775931ba2b164eacb3d87ebe6f06e0df",
        "IPY_MODEL_bd6df672cc194d9a9aaed252180aa0fa"
       ],
       "layout": "IPY_MODEL_1eb465f6d3284a0ea6a2f1fed4d9afb7"
      }
     },
     "304f9c10ebe74043a967b56e2d878b58": {
      "model_module": "@jupyter-widgets/base",
      "model_module_version": "1.2.0",
      "model_name": "LayoutModel",
      "state": {
       "justify_content": "center"
      }
     },
     "30947eceb7fc49138753f6dfa376952d": {
      "model_module": "@jupyter-widgets/controls",
      "model_module_version": "1.5.0",
      "model_name": "DescriptionStyleModel",
      "state": {
       "description_width": ""
      }
     },
     "310b7493ffeb4d149491ec261a6629e7": {
      "model_module": "@jupyter-widgets/controls",
      "model_module_version": "1.5.0",
      "model_name": "CheckboxModel",
      "state": {
       "description": "Nur beginnt eine Reise von tausend Meilen auch mit einem Schritt",
       "disabled": false,
       "layout": "IPY_MODEL_7931afa94b66448caa3cdbf816940ff0",
       "style": "IPY_MODEL_fe261a0d1365437a84c98785f4410b52",
       "value": false
      }
     },
     "31504c33f76b4220abe58ae822b9ab9a": {
      "model_module": "@jupyter-widgets/controls",
      "model_module_version": "1.5.0",
      "model_name": "DescriptionStyleModel",
      "state": {
       "description_width": ""
      }
     },
     "317f2c174fe044abbbd6d48dd7f0a9f8": {
      "model_module": "@jupyter-widgets/controls",
      "model_module_version": "1.5.0",
      "model_name": "ButtonStyleModel",
      "state": {}
     },
     "31a2eab8b2da450aa685402ab5483980": {
      "model_module": "@jupyter-widgets/controls",
      "model_module_version": "1.5.0",
      "model_name": "DescriptionStyleModel",
      "state": {
       "description_width": ""
      }
     },
     "31af965f46be44618beed98ed0e0c0e3": {
      "model_module": "@jupyter-widgets/controls",
      "model_module_version": "1.5.0",
      "model_name": "ButtonStyleModel",
      "state": {}
     },
     "31d592b1152b4c358f2478bcb37e4e5a": {
      "model_module": "@jupyter-widgets/controls",
      "model_module_version": "1.5.0",
      "model_name": "ButtonStyleModel",
      "state": {}
     },
     "31d7627f1a2e40fca504f7682bae8026": {
      "model_module": "@jupyter-widgets/base",
      "model_module_version": "1.2.0",
      "model_name": "LayoutModel",
      "state": {}
     },
     "31e42254cc194322b0e9afe74c4c491f": {
      "model_module": "@jupyter-widgets/controls",
      "model_module_version": "1.5.0",
      "model_name": "HTMLModel",
      "state": {
       "layout": "IPY_MODEL_6610469e4de845668cb3fef3a49dea25",
       "style": "IPY_MODEL_db497838d8184d56abe71d5f5fc296e9",
       "value": "<i>Markieren Sie <ins>alle</ins> passenden Antworten: </i>"
      }
     },
     "324c5f87a65d428cb5533ca08852e161": {
      "model_module": "@jupyter-widgets/controls",
      "model_module_version": "1.5.0",
      "model_name": "VBoxModel",
      "state": {
       "children": [
        "IPY_MODEL_5bfbe602d2b542a9823e652d7cd92964",
        "IPY_MODEL_0a2100088c544266a662a1a8c16f30d2",
        "IPY_MODEL_cc580e7479a34bf09e5d548b98fbafe1",
        "IPY_MODEL_b712f295a6764352a7cbf392af2701e0",
        "IPY_MODEL_ef887c4b9f2e4a70af40acb05452cf93"
       ],
       "layout": "IPY_MODEL_7b95e47fda7b4d50b4e0a6b4c89a5192"
      }
     },
     "326222f8370440758e4ae968be068a14": {
      "model_module": "@jupyter-widgets/controls",
      "model_module_version": "1.5.0",
      "model_name": "HTMLModel",
      "state": {
       "layout": "IPY_MODEL_7bbcbd846c1e4292ab8b7ef759136506",
       "style": "IPY_MODEL_42d226560790443aa3238b1a8bf49740",
       "value": "<h4 style=\"font-size:14px;\"><i>Eine Reise beginnt auch nur mit einem Schritt.</i><br>Welche Tests wurden angewandt?</h4>"
      }
     },
     "327edd0414a24d68a15d445d358bceab": {
      "model_module": "@jupyter-widgets/controls",
      "model_module_version": "1.5.0",
      "model_name": "ButtonModel",
      "state": {
       "description": "Korrekt?",
       "layout": "IPY_MODEL_191a6184601b43889f4c0c294fc0f3f8",
       "style": "IPY_MODEL_420f45f76f654bb3af795b1975cfb171"
      }
     },
     "3370158731944baeb727303a915ba344": {
      "model_module": "@jupyter-widgets/base",
      "model_module_version": "1.2.0",
      "model_name": "LayoutModel",
      "state": {
       "width": "250px"
      }
     },
     "337f783a91944dea84d8e5cffc054961": {
      "model_module": "@jupyter-widgets/controls",
      "model_module_version": "1.5.0",
      "model_name": "VBoxModel",
      "state": {
       "children": [
        "IPY_MODEL_14903240d9c04a9ca19b017a621f4baa",
        "IPY_MODEL_826e6525d53342678bfb91cf7be0f873",
        "IPY_MODEL_7301071473524debb432ecafda45eaf3",
        "IPY_MODEL_77faadb7187a4caebd414a5d3b1c5f5a"
       ],
       "layout": "IPY_MODEL_0b4774bbca054ae89e4b60ad10bf1ef3"
      }
     },
     "33ba865f3c544fcf8ed0d2d31bd49ea7": {
      "model_module": "@jupyter-widgets/base",
      "model_module_version": "1.2.0",
      "model_name": "LayoutModel",
      "state": {
       "width": "150px"
      }
     },
     "343627fb09b842979d4f4b2f9583f4f9": {
      "model_module": "@jupyter-widgets/base",
      "model_module_version": "1.2.0",
      "model_name": "LayoutModel",
      "state": {}
     },
     "3461827bc34b41a9b3db155d0a439581": {
      "model_module": "@jupyter-widgets/base",
      "model_module_version": "1.2.0",
      "model_name": "LayoutModel",
      "state": {
       "width": "250px"
      }
     },
     "34b219e1ccc44106a31b9dfca6f81aad": {
      "model_module": "@jupyter-widgets/controls",
      "model_module_version": "1.5.0",
      "model_name": "DescriptionStyleModel",
      "state": {
       "description_width": ""
      }
     },
     "34de899f577f485789ecc532ae825e2f": {
      "model_module": "@jupyter-widgets/base",
      "model_module_version": "1.2.0",
      "model_name": "LayoutModel",
      "state": {}
     },
     "34fcef3705b34a88ad7a7d07bfcb4858": {
      "model_module": "@jupyter-widgets/base",
      "model_module_version": "1.2.0",
      "model_name": "LayoutModel",
      "state": {
       "width": "250px"
      }
     },
     "353354a0bf984c5bbdf90f8d5711d7f3": {
      "model_module": "@jupyter-widgets/controls",
      "model_module_version": "1.5.0",
      "model_name": "CheckboxModel",
      "state": {
       "description": "Es fungiert als Satzglied mit der syntaktischen Funktion Adverbial.",
       "disabled": false,
       "layout": "IPY_MODEL_3a7381f01bd14f85a5e0d879dcb86182",
       "style": "IPY_MODEL_5ad6fc20a9354ff1bd6a9b5fa273cd18",
       "value": true
      }
     },
     "3535103e6efa447eb93305135c9b40a0": {
      "model_module": "@jupyter-widgets/controls",
      "model_module_version": "1.5.0",
      "model_name": "ButtonStyleModel",
      "state": {}
     },
     "35c165880070461fb9558f83b92b76a7": {
      "model_module": "@jupyter-widgets/controls",
      "model_module_version": "1.5.0",
      "model_name": "CheckboxModel",
      "state": {
       "description": "Zu einem Wort werden alle Wörter gefunden, die in gleichen Kontexten vorkommen.",
       "disabled": false,
       "layout": "IPY_MODEL_c7e036d791d74f128dc23055eed85c40",
       "style": "IPY_MODEL_8b3689a82e9141afb7354d1476219846",
       "value": false
      }
     },
     "35e6ae368ece4506b91cd68185a23724": {
      "model_module": "@jupyter-widgets/controls",
      "model_module_version": "1.5.0",
      "model_name": "DropdownModel",
      "state": {
       "_options_labels": [
        "gleichartige",
        "unterschiedliche",
        " "
       ],
       "index": 2,
       "layout": "IPY_MODEL_0efcde9c1ec34383953f0288a7124ee3",
       "style": "IPY_MODEL_5e9f9bc34f8a4888a3b29e77aba6da74"
      }
     },
     "360a443bed864dc79484299df7f1702f": {
      "model_module": "@jupyter-widgets/controls",
      "model_module_version": "1.5.0",
      "model_name": "DescriptionStyleModel",
      "state": {
       "description_width": ""
      }
     },
     "3625b331bcd84c798d57dea2f035ec87": {
      "model_module": "@jupyter-widgets/base",
      "model_module_version": "1.2.0",
      "model_name": "LayoutModel",
      "state": {
       "width": "600px"
      }
     },
     "36766519cca74ab68ab3dbf70214529b": {
      "model_module": "@jupyter-widgets/controls",
      "model_module_version": "1.5.0",
      "model_name": "ButtonModel",
      "state": {
       "description": "Korrekt?",
       "layout": "IPY_MODEL_294e8d79a5f64fd1806529d0c2f0ab2f",
       "style": "IPY_MODEL_36d214e02d0a4549bf37fc0539b1457c"
      }
     },
     "369ed72d8a634abb910adf5b0d2274ba": {
      "model_module": "@jupyter-widgets/controls",
      "model_module_version": "1.5.0",
      "model_name": "ButtonModel",
      "state": {
       "description": "Folge von Wortklassen",
       "layout": "IPY_MODEL_0c8e764703be491da459523831b86ff1",
       "style": "IPY_MODEL_840923520d15458194abd785eb25cb2d"
      }
     },
     "36d047127f2f4c4bb28c052570bd9323": {
      "model_module": "@jupyter-widgets/base",
      "model_module_version": "1.2.0",
      "model_name": "LayoutModel",
      "state": {
       "width": "600px"
      }
     },
     "36d214e02d0a4549bf37fc0539b1457c": {
      "model_module": "@jupyter-widgets/controls",
      "model_module_version": "1.5.0",
      "model_name": "ButtonStyleModel",
      "state": {}
     },
     "373cc5aaec2849f3af82a0b257a50d95": {
      "model_module": "@jupyter-widgets/base",
      "model_module_version": "1.2.0",
      "model_name": "LayoutModel",
      "state": {
       "width": "250px"
      }
     },
     "378ce7d3206741f8b2338e96c88ffb98": {
      "model_module": "@jupyter-widgets/controls",
      "model_module_version": "1.5.0",
      "model_name": "VBoxModel",
      "state": {
       "children": [
        "IPY_MODEL_80b1e2be46a54663be0402c5f9863e2c",
        "IPY_MODEL_b6f476e4975c4e47beb34d94d63392db",
        "IPY_MODEL_cea0973b5cf44e80acf68d43540f31dd"
       ],
       "layout": "IPY_MODEL_8de2a6d3e37640d7b055815854c636e9"
      }
     },
     "37ade008506f4a4ea17bee603fb80b16": {
      "model_module": "@jupyter-widgets/controls",
      "model_module_version": "1.5.0",
      "model_name": "ButtonStyleModel",
      "state": {}
     },
     "37df46df6a44449fbfc5aa5e1df2a2bb": {
      "model_module": "@jupyter-widgets/base",
      "model_module_version": "1.2.0",
      "model_name": "LayoutModel",
      "state": {
       "justify_content": "center"
      }
     },
     "37e135ccfe1c49c6803fb0175b7a8bca": {
      "model_module": "@jupyter-widgets/controls",
      "model_module_version": "1.5.0",
      "model_name": "HTMLModel",
      "state": {
       "layout": "IPY_MODEL_5c9ec4c8fc394412a8c336fe3a37c77d",
       "style": "IPY_MODEL_79ce2d353e9b4d00a33a2aa5cd8e232e",
       "value": "<h4 style=\"font-size:14px;\">Was ist der Output eines Part-of-Speech-Taggers?</h4>"
      }
     },
     "37e907b898534cd1a2ed8c316702a115": {
      "model_module": "@jupyter-widgets/controls",
      "model_module_version": "1.5.0",
      "model_name": "HTMLModel",
      "state": {
       "layout": "IPY_MODEL_d95d87273dce47ecbd1ba8ab623aad7c",
       "style": "IPY_MODEL_21ef15f69ed4459b9b9c23d0f0776a55",
       "value": "<i>Wählen Sie die <ins>eine</ins> korrekte Antwort aus: </i>"
      }
     },
     "389eb773a8a74f278e7a95138487ed70": {
      "model_module": "@jupyter-widgets/base",
      "model_module_version": "1.2.0",
      "model_name": "LayoutModel",
      "state": {}
     },
     "38b5bb96b52e4b36acac55e202b252df": {
      "model_module": "@jupyter-widgets/base",
      "model_module_version": "1.2.0",
      "model_name": "LayoutModel",
      "state": {
       "justify_content": "center"
      }
     },
     "38e4c76b4aba48ee8b9ff0311edc316d": {
      "model_module": "@jupyter-widgets/base",
      "model_module_version": "1.2.0",
      "model_name": "LayoutModel",
      "state": {
       "justify_content": "center"
      }
     },
     "391cd214fa264eefb3858256417188f1": {
      "model_module": "@jupyter-widgets/base",
      "model_module_version": "1.2.0",
      "model_name": "LayoutModel",
      "state": {
       "justify_content": "center"
      }
     },
     "39843ca104ae4205ae3c46478f59142e": {
      "model_module": "@jupyter-widgets/base",
      "model_module_version": "1.2.0",
      "model_name": "LayoutModel",
      "state": {}
     },
     "39d5ed76799b4f31b0f24cb52e2dda8d": {
      "model_module": "@jupyter-widgets/controls",
      "model_module_version": "1.5.0",
      "model_name": "DescriptionStyleModel",
      "state": {
       "description_width": ""
      }
     },
     "3a080fa2eace4cafa8cc4c6b292ef46b": {
      "model_module": "@jupyter-widgets/base",
      "model_module_version": "1.2.0",
      "model_name": "LayoutModel",
      "state": {
       "width": "600px"
      }
     },
     "3a3b195d331648e8b2429034dc39c090": {
      "model_module": "@jupyter-widgets/controls",
      "model_module_version": "1.5.0",
      "model_name": "DescriptionStyleModel",
      "state": {
       "description_width": ""
      }
     },
     "3a6b3502925d466086021aaa4d7bb13e": {
      "model_module": "@jupyter-widgets/controls",
      "model_module_version": "1.5.0",
      "model_name": "HTMLModel",
      "state": {
       "layout": "IPY_MODEL_7c2b9d31783441879b7a0c5d101cde57",
       "style": "IPY_MODEL_7fa88dd49ea8408dae461c4a1360bd8a",
       "value": "<h4 style=\"font-size:14px;\">Was bedeutet das Tag <i>VB</i> im Browntagset (siehe 5.7)?</h4>"
      }
     },
     "3a7381f01bd14f85a5e0d879dcb86182": {
      "model_module": "@jupyter-widgets/base",
      "model_module_version": "1.2.0",
      "model_name": "LayoutModel",
      "state": {
       "width": "600px"
      }
     },
     "3aef876e20f64c49973c0b5c2237af3f": {
      "model_module": "@jupyter-widgets/base",
      "model_module_version": "1.2.0",
      "model_name": "LayoutModel",
      "state": {
       "width": "250px"
      }
     },
     "3af8008981714526958bb6e1de855e62": {
      "model_module": "@jupyter-widgets/base",
      "model_module_version": "1.2.0",
      "model_name": "LayoutModel",
      "state": {
       "justify_content": "center"
      }
     },
     "3b07ee9588de4709ae731b8c3ea7cac6": {
      "model_module": "@jupyter-widgets/base",
      "model_module_version": "1.2.0",
      "model_name": "LayoutModel",
      "state": {
       "width": "250px"
      }
     },
     "3b0bb13be4934f2e91c1f77dfa9b53f4": {
      "model_module": "@jupyter-widgets/controls",
      "model_module_version": "1.5.0",
      "model_name": "HTMLModel",
      "state": {
       "layout": "IPY_MODEL_ddfeea0a4a5a4a2399a0755442096455",
       "style": "IPY_MODEL_42abc5ec4da841ca97ad62c40045278a",
       "value": "<h4 style=\"font-size:14px;\">im Englischen.</h4>"
      }
     },
     "3b49c46d5f024dd6b9846052d438b05d": {
      "model_module": "@jupyter-widgets/controls",
      "model_module_version": "1.5.0",
      "model_name": "DescriptionStyleModel",
      "state": {
       "description_width": "initial"
      }
     },
     "3b927bd5f7d54bb0adcf28ac41f0242b": {
      "model_module": "@jupyter-widgets/controls",
      "model_module_version": "1.5.0",
      "model_name": "HTMLModel",
      "state": {
       "layout": "IPY_MODEL_8e7e3dd66a714fa8a66d577fdbede45b",
       "style": "IPY_MODEL_412209a76f0841d28ef2713189e11159",
       "value": "<h4 style=\"font-size:14px;\">Welche Wortart folgt damit für das Wort <i>gerne</i> in Satz 1?</h4>"
      }
     },
     "3bf514e6b0ce42ebac18d5873a18bba8": {
      "model_module": "@jupyter-widgets/base",
      "model_module_version": "1.2.0",
      "model_name": "LayoutModel",
      "state": {}
     },
     "3c25cf4d649445e9b7e19e5ba178f802": {
      "model_module": "@jupyter-widgets/controls",
      "model_module_version": "1.5.0",
      "model_name": "DescriptionStyleModel",
      "state": {
       "description_width": ""
      }
     },
     "3c772c66c7f0446aa33189425b5ba8a8": {
      "model_module": "@jupyter-widgets/controls",
      "model_module_version": "1.5.0",
      "model_name": "ButtonModel",
      "state": {
       "description": "Keine der anderen Möglichkeiten",
       "layout": "IPY_MODEL_6785ea14c4854f50a22ee3bc80f024f0",
       "style": "IPY_MODEL_977b3859bbef46b8986652f846b86be6"
      }
     },
     "3ca5553966f5495fb1d7e8e9d95437d5": {
      "model_module": "@jupyter-widgets/controls",
      "model_module_version": "1.5.0",
      "model_name": "ButtonStyleModel",
      "state": {}
     },
     "3cc67d1a506843579b686941b9ecff82": {
      "model_module": "@jupyter-widgets/base",
      "model_module_version": "1.2.0",
      "model_name": "LayoutModel",
      "state": {}
     },
     "3cf6224c5b9a4e6485fafb1e31627c75": {
      "model_module": "@jupyter-widgets/base",
      "model_module_version": "1.2.0",
      "model_name": "LayoutModel",
      "state": {}
     },
     "3d069fff3d7f4b2b9be7be475bc5d752": {
      "model_module": "@jupyter-widgets/base",
      "model_module_version": "1.2.0",
      "model_name": "LayoutModel",
      "state": {
       "width": "250px"
      }
     },
     "3d149ca198e045019b141fdedfd9f1bf": {
      "model_module": "@jupyter-widgets/base",
      "model_module_version": "1.2.0",
      "model_name": "LayoutModel",
      "state": {
       "width": "250px"
      }
     },
     "3d34730a1910465488cbac563b7f24cc": {
      "model_module": "@jupyter-widgets/base",
      "model_module_version": "1.2.0",
      "model_name": "LayoutModel",
      "state": {}
     },
     "3d4fb1a196d0426db69a5d8a340cc0ba": {
      "model_module": "@jupyter-widgets/controls",
      "model_module_version": "1.5.0",
      "model_name": "ButtonModel",
      "state": {
       "description": "simple past",
       "layout": "IPY_MODEL_f49940dfedcf4288bc248de183427e85",
       "style": "IPY_MODEL_0559978e4edd4c0d8ee1a5339e8b7204"
      }
     },
     "3d6ddb1ccdd942b5a6629b2d4ef7cdcb": {
      "model_module": "@jupyter-widgets/controls",
      "model_module_version": "1.5.0",
      "model_name": "ButtonModel",
      "state": {
       "description": "past participle",
       "layout": "IPY_MODEL_44925dc5e416432c988ac1ced5dbedca",
       "style": "IPY_MODEL_d6934ba0ab544de6b0cc3c5adc87da6e"
      }
     },
     "3da3aaacb8ef4f3b92c20207cf3dacde": {
      "model_module": "@jupyter-widgets/controls",
      "model_module_version": "1.5.0",
      "model_name": "ButtonStyleModel",
      "state": {}
     },
     "3e88b8b636d4453a90c112218b522652": {
      "model_module": "@jupyter-widgets/controls",
      "model_module_version": "1.5.0",
      "model_name": "BoxModel",
      "state": {
       "children": [
        "IPY_MODEL_23066c93c6804a7a8bb194cba50e8e66",
        "IPY_MODEL_034b4de393874041b839f4ad3e5d398b",
        "IPY_MODEL_4748e61ee1554a3fb240287b1928c4e3",
        "IPY_MODEL_73e9e0dcf58a45758ed3fbe87d83cd22",
        "IPY_MODEL_194d9ab51c82421eb4779e4eba217fa6",
        "IPY_MODEL_0e195802f1174a52b85f65ce6e384e12",
        "IPY_MODEL_98a9a001c1784c029a9b48e320039377"
       ],
       "layout": "IPY_MODEL_4aad96bd72834f0b840b853399f994b0"
      }
     },
     "3e961e16008d4f20a3fe484bf520d4c1": {
      "model_module": "@jupyter-widgets/base",
      "model_module_version": "1.2.0",
      "model_name": "LayoutModel",
      "state": {
       "width": "500px"
      }
     },
     "3e9eb529caea4ca08db29316c591bec3": {
      "model_module": "@jupyter-widgets/controls",
      "model_module_version": "1.5.0",
      "model_name": "DescriptionStyleModel",
      "state": {
       "description_width": "initial"
      }
     },
     "3ea1482438b8419bacbe4225155e6c88": {
      "model_module": "@jupyter-widgets/controls",
      "model_module_version": "1.5.0",
      "model_name": "DescriptionStyleModel",
      "state": {
       "description_width": "initial"
      }
     },
     "3effbb57c120446a8392a2c5a876ef43": {
      "model_module": "@jupyter-widgets/controls",
      "model_module_version": "1.5.0",
      "model_name": "HTMLModel",
      "state": {
       "layout": "IPY_MODEL_26d7994388fc4508b6607d2d3c1c2d95",
       "style": "IPY_MODEL_c48affd4183d48dd9450aabfb40af9a9",
       "value": "<h4 style=\"font-size:14px;\">trägt. Das Ergebnis sind die häufigsten zweistelligen syntaktischen Muster des Englischen mit NOUN als rechtem Kontext, nämlich NOUN+NOUN, DET+NOUN und ADJ+NOUN; diese Ergebnisse geben Hinweis auf die NP-</h4>"
      }
     },
     "3f65c8616c6c45efab575546476eefbe": {
      "model_module": "@jupyter-widgets/controls",
      "model_module_version": "1.5.0",
      "model_name": "VBoxModel",
      "state": {
       "children": [
        "IPY_MODEL_b2ff81489fb04592bfe6fbe2b302135a",
        "IPY_MODEL_ee9d996837734163a247cbbcb86bc3b9",
        "IPY_MODEL_f6cc51e65bfc48b2b773f59f3d88b6d9",
        "IPY_MODEL_118639f4cab14b858fcb5f6572ed57d2"
       ],
       "layout": "IPY_MODEL_d9bab29d4f5643cbb33ab36f096ba05d"
      }
     },
     "3f88b172838147b1831f4a1b52fd3a1e": {
      "model_module": "@jupyter-widgets/controls",
      "model_module_version": "1.5.0",
      "model_name": "HTMLModel",
      "state": {
       "layout": "IPY_MODEL_648ee7becfc34a3d8401978e18b9ee70",
       "style": "IPY_MODEL_448e0c6c481e44dca73a7e8d3b91ec4d",
       "value": "<h4 style=\"font-size:14px;\">In der ersten Zeile des Codes werden</h4>"
      }
     },
     "3f933053dd4b4e11a00f1c90b5a7a8fa": {
      "model_module": "@jupyter-widgets/controls",
      "model_module_version": "1.5.0",
      "model_name": "DescriptionStyleModel",
      "state": {
       "description_width": ""
      }
     },
     "3fb139a3551c4051aa58090ecff8c292": {
      "model_module": "@jupyter-widgets/controls",
      "model_module_version": "1.5.0",
      "model_name": "CheckboxModel",
      "state": {
       "description": "Es fungiert als Satzglied mit der syntaktischen Funktion Adverbial.",
       "disabled": false,
       "layout": "IPY_MODEL_a278a95e4d3f4d2f8a4eae6a4c464117",
       "style": "IPY_MODEL_a878e53abf854262ba4feef6f2c36495",
       "value": false
      }
     },
     "3fbf8b7fa6114f3093ca8f8378be59c9": {
      "model_module": "@jupyter-widgets/controls",
      "model_module_version": "1.5.0",
      "model_name": "ButtonModel",
      "state": {
       "description": "Korrekt?",
       "layout": "IPY_MODEL_0331d3895e744c1cb81a9440f7221ecd",
       "style": "IPY_MODEL_d05a997576144bfaa21514493a8d76ef"
      }
     },
     "3fe2d0ff788d4f7b895aa5573c20322a": {
      "model_module": "@jupyter-widgets/base",
      "model_module_version": "1.2.0",
      "model_name": "LayoutModel",
      "state": {}
     },
     "401cd1e5eec14e9a9969a1c13fb82f16": {
      "model_module": "@jupyter-widgets/base",
      "model_module_version": "1.2.0",
      "model_name": "LayoutModel",
      "state": {
       "width": "600px"
      }
     },
     "4022b78b35e949579d5b20aa961f5f71": {
      "model_module": "@jupyter-widgets/controls",
      "model_module_version": "1.5.0",
      "model_name": "ButtonStyleModel",
      "state": {}
     },
     "40bae55292e547cfb3c06342809a73c3": {
      "model_module": "@jupyter-widgets/base",
      "model_module_version": "1.2.0",
      "model_name": "LayoutModel",
      "state": {}
     },
     "40cb38e994004e11b3fd8a4602b67a21": {
      "model_module": "@jupyter-widgets/base",
      "model_module_version": "1.2.0",
      "model_name": "LayoutModel",
      "state": {}
     },
     "40d885793db646ad9d4a6b6d7e5a372c": {
      "model_module": "@jupyter-widgets/controls",
      "model_module_version": "1.5.0",
      "model_name": "DropdownModel",
      "state": {
       "_options_labels": [
        "POS",
        "POS+Wort+POS",
        "Wort+POS-Tag",
        " "
       ],
       "index": 3,
       "layout": "IPY_MODEL_dd7b74673b224fc384620983f062fcb9",
       "style": "IPY_MODEL_f482adf84f9a4a62b3e8a7286da0b351"
      }
     },
     "4110742e5b864696aef69c98bba33998": {
      "model_module": "@jupyter-widgets/base",
      "model_module_version": "1.2.0",
      "model_name": "LayoutModel",
      "state": {}
     },
     "412209a76f0841d28ef2713189e11159": {
      "model_module": "@jupyter-widgets/controls",
      "model_module_version": "1.5.0",
      "model_name": "DescriptionStyleModel",
      "state": {
       "description_width": ""
      }
     },
     "41505fa34bb84d0dbc49a0b5217366ff": {
      "model_module": "@jupyter-widgets/controls",
      "model_module_version": "1.5.0",
      "model_name": "CheckboxModel",
      "state": {
       "description": "Es bezeichnet die näheren Umstände des im Verb ausgedrückten Geschehens.",
       "disabled": false,
       "layout": "IPY_MODEL_1b0faa6216e44dc4864818443401974a",
       "style": "IPY_MODEL_8d5646d94378420fb457d853c03704fe",
       "value": true
      }
     },
     "41617db9a1674cfb8efb67cb16df26e4": {
      "model_module": "@jupyter-widgets/controls",
      "model_module_version": "1.5.0",
      "model_name": "ButtonModel",
      "state": {
       "description": "Keine der anderen Möglichkeiten",
       "layout": "IPY_MODEL_07370c6fb69d4452a37bf009e904fb54",
       "style": "IPY_MODEL_6ac0e125e0934759b871607012e44fc8"
      }
     },
     "420f45f76f654bb3af795b1975cfb171": {
      "model_module": "@jupyter-widgets/controls",
      "model_module_version": "1.5.0",
      "model_name": "ButtonStyleModel",
      "state": {}
     },
     "4251eb9a815844cc8dde41db5a02a0d3": {
      "model_module": "@jupyter-widgets/controls",
      "model_module_version": "1.5.0",
      "model_name": "VBoxModel",
      "state": {
       "children": [
        "IPY_MODEL_0339a896582348e88bd4ea6135a1f75c",
        "IPY_MODEL_c20dfc60a27f45fb9293fd1c4286d472",
        "IPY_MODEL_3fbf8b7fa6114f3093ca8f8378be59c9"
       ],
       "layout": "IPY_MODEL_e26c035c2d5a436d9839f742377dab98"
      }
     },
     "425849be26ec4798b2b520380d887064": {
      "model_module": "@jupyter-widgets/controls",
      "model_module_version": "1.5.0",
      "model_name": "ButtonModel",
      "state": {
       "description": "base",
       "layout": "IPY_MODEL_02603071cbb04569b8af47d1f47e9e2e",
       "style": "IPY_MODEL_2d1eef325ed34207b0dd893a0b66861a"
      }
     },
     "4273ef39f795432d9a05b5e2b7c17848": {
      "model_module": "@jupyter-widgets/controls",
      "model_module_version": "1.5.0",
      "model_name": "HTMLModel",
      "state": {
       "layout": "IPY_MODEL_a287b3cb39b84a28858d701a7b6bebc8",
       "style": "IPY_MODEL_98b9b3d36f7b413f9c80a37a9b3971ba",
       "value": "<i>Vervollständigen Sie den Lückentext: </i>"
      }
     },
     "42aa27c3f6fc49b0aa8f252db905201c": {
      "model_module": "@jupyter-widgets/base",
      "model_module_version": "1.2.0",
      "model_name": "LayoutModel",
      "state": {}
     },
     "42abc5ec4da841ca97ad62c40045278a": {
      "model_module": "@jupyter-widgets/controls",
      "model_module_version": "1.5.0",
      "model_name": "DescriptionStyleModel",
      "state": {
       "description_width": ""
      }
     },
     "42d226560790443aa3238b1a8bf49740": {
      "model_module": "@jupyter-widgets/controls",
      "model_module_version": "1.5.0",
      "model_name": "DescriptionStyleModel",
      "state": {
       "description_width": ""
      }
     },
     "42d8b944d73f4b9ea86726ebbca958b3": {
      "model_module": "@jupyter-widgets/controls",
      "model_module_version": "1.5.0",
      "model_name": "ButtonStyleModel",
      "state": {}
     },
     "42e7fe6b3f8144c7bdc0f3682cc38c0c": {
      "model_module": "@jupyter-widgets/base",
      "model_module_version": "1.2.0",
      "model_name": "LayoutModel",
      "state": {
       "width": "600px"
      }
     },
     "42ec44bfe8004a0196616204070d5c6a": {
      "model_module": "@jupyter-widgets/base",
      "model_module_version": "1.2.0",
      "model_name": "LayoutModel",
      "state": {
       "justify_content": "center"
      }
     },
     "430f341fc0f64c74a66c99bfd8a7e887": {
      "model_module": "@jupyter-widgets/controls",
      "model_module_version": "1.5.0",
      "model_name": "HTMLModel",
      "state": {
       "layout": "IPY_MODEL_42ec44bfe8004a0196616204070d5c6a",
       "style": "IPY_MODEL_ce09b8a6c89240ed823645ae5b7f19c0",
       "value": "<h4 style=\"font-size:14px;\">Welche Wortart folgt damit für das Wort <i>gut</i> in Satz 2?</h4>"
      }
     },
     "434f96154cd648789e1a0e0beaa5bc48": {
      "model_module": "@jupyter-widgets/base",
      "model_module_version": "1.2.0",
      "model_name": "LayoutModel",
      "state": {
       "width": "250px"
      }
     },
     "43631f2832164c80b0a2bda6a439bea7": {
      "model_module": "@jupyter-widgets/base",
      "model_module_version": "1.2.0",
      "model_name": "LayoutModel",
      "state": {}
     },
     "439aa35473634ba394787a9b72a78060": {
      "model_module": "@jupyter-widgets/controls",
      "model_module_version": "1.5.0",
      "model_name": "DescriptionStyleModel",
      "state": {
       "description_width": ""
      }
     },
     "43c57469262e4c109849a00470eef1d0": {
      "model_module": "@jupyter-widgets/controls",
      "model_module_version": "1.5.0",
      "model_name": "DescriptionStyleModel",
      "state": {
       "description_width": "initial"
      }
     },
     "43ddc2a1301649729d3ef1bd6e1643c0": {
      "model_module": "@jupyter-widgets/base",
      "model_module_version": "1.2.0",
      "model_name": "LayoutModel",
      "state": {
       "width": "250px"
      }
     },
     "44130b7e9209410c9e109a107558076b": {
      "model_module": "@jupyter-widgets/controls",
      "model_module_version": "1.5.0",
      "model_name": "HTMLModel",
      "state": {
       "layout": "IPY_MODEL_ac2ca515b52c4605a7e7bf3826bfa61b",
       "style": "IPY_MODEL_01bdc0c5b8de4aa991980be55be774e3",
       "value": "<h4 style=\"font-size:14px;\">Welcher ist der richtig permutierte Satz?</h4>"
      }
     },
     "44181c33bdef4e298092a15671d0f22b": {
      "model_module": "@jupyter-widgets/base",
      "model_module_version": "1.2.0",
      "model_name": "LayoutModel",
      "state": {
       "width": "150px"
      }
     },
     "448e0c6c481e44dca73a7e8d3b91ec4d": {
      "model_module": "@jupyter-widgets/controls",
      "model_module_version": "1.5.0",
      "model_name": "DescriptionStyleModel",
      "state": {
       "description_width": ""
      }
     },
     "44925dc5e416432c988ac1ced5dbedca": {
      "model_module": "@jupyter-widgets/base",
      "model_module_version": "1.2.0",
      "model_name": "LayoutModel",
      "state": {
       "width": "250px"
      }
     },
     "45433e1d24064e3696eb4181eec65f1a": {
      "model_module": "@jupyter-widgets/controls",
      "model_module_version": "1.5.0",
      "model_name": "HBoxModel",
      "state": {
       "children": [
        "IPY_MODEL_9b8c3b4eee554d6a88f89d7a1dc6f932"
       ],
       "layout": "IPY_MODEL_e55ef68df45e41f6a0db261df1a3f0d4"
      }
     },
     "458f752b7680459b9138945c13b844fc": {
      "model_module": "@jupyter-widgets/controls",
      "model_module_version": "1.5.0",
      "model_name": "DescriptionStyleModel",
      "state": {
       "description_width": ""
      }
     },
     "46168b9126984f0abce2f1cf948839f8": {
      "model_module": "@jupyter-widgets/controls",
      "model_module_version": "1.5.0",
      "model_name": "DropdownModel",
      "state": {
       "_options_labels": [
        "Konstituenten",
        "Phrasen",
        " "
       ],
       "index": 2,
       "layout": "IPY_MODEL_161c623215244cff85f852d72f7969fb",
       "style": "IPY_MODEL_a197249906bb4433871afc1818a8a85a"
      }
     },
     "4660feac78b74c56b0e1ec9f6fb86239": {
      "model_module": "@jupyter-widgets/base",
      "model_module_version": "1.2.0",
      "model_name": "LayoutModel",
      "state": {
       "width": "150px"
      }
     },
     "46686051cb7d467c82cfe92b29a7bd95": {
      "model_module": "@jupyter-widgets/base",
      "model_module_version": "1.2.0",
      "model_name": "LayoutModel",
      "state": {
       "width": "250px"
      }
     },
     "46ee2bb7b82146f3a125eebe392a4523": {
      "model_module": "@jupyter-widgets/controls",
      "model_module_version": "1.5.0",
      "model_name": "DropdownModel",
      "state": {
       "_options_labels": [
        "NP",
        "PP",
        "VP",
        " "
       ],
       "index": 3,
       "layout": "IPY_MODEL_fb669dc3591049d4b10fe3bf5e5f0e39",
       "style": "IPY_MODEL_8424f1ff1bef481fb34607f18b0a7d1f"
      }
     },
     "470875bb643f4d8dbf50dd8bb179aec7": {
      "model_module": "@jupyter-widgets/base",
      "model_module_version": "1.2.0",
      "model_name": "LayoutModel",
      "state": {
       "width": "250px"
      }
     },
     "4747e9b3af21417b8839c4dec51a58fb": {
      "model_module": "@jupyter-widgets/base",
      "model_module_version": "1.2.0",
      "model_name": "LayoutModel",
      "state": {}
     },
     "4748e61ee1554a3fb240287b1928c4e3": {
      "model_module": "@jupyter-widgets/controls",
      "model_module_version": "1.5.0",
      "model_name": "HTMLModel",
      "state": {
       "layout": "IPY_MODEL_6ecdefab2dfb4037ab82ee05b8a45899",
       "style": "IPY_MODEL_87223edd40494ecdba84c5f282789fa3",
       "value": "<h4 style=\"font-size:14px;\">durch eine</h4>"
      }
     },
     "47c4a7fa156b4ed4b20c038636a62442": {
      "model_module": "@jupyter-widgets/base",
      "model_module_version": "1.2.0",
      "model_name": "LayoutModel",
      "state": {
       "width": "150px"
      }
     },
     "47ee738425e14b5698f895ac6257fba6": {
      "model_module": "@jupyter-widgets/controls",
      "model_module_version": "1.5.0",
      "model_name": "ButtonStyleModel",
      "state": {}
     },
     "4804d0662faf46cba5b12e1ca8359cbc": {
      "model_module": "@jupyter-widgets/controls",
      "model_module_version": "1.5.0",
      "model_name": "DescriptionStyleModel",
      "state": {
       "description_width": "initial"
      }
     },
     "4827933d01b64b72bfc3317e334f0c1d": {
      "model_module": "@jupyter-widgets/controls",
      "model_module_version": "1.5.0",
      "model_name": "DescriptionStyleModel",
      "state": {
       "description_width": "initial"
      }
     },
     "483243e0c7fe46f39d85557e7f2a2d05": {
      "model_module": "@jupyter-widgets/controls",
      "model_module_version": "1.5.0",
      "model_name": "DropdownModel",
      "state": {
       "_options_labels": [
        "Konstituente",
        "Phrase",
        " "
       ],
       "index": 2,
       "layout": "IPY_MODEL_26d3ce0fe9cc4fddaa3903e074359ac9",
       "style": "IPY_MODEL_854333aea7d44d199a2bb4d35367cf5a"
      }
     },
     "48860a1b30c74f6c9b20dc382c9a4d0f": {
      "model_module": "@jupyter-widgets/controls",
      "model_module_version": "1.5.0",
      "model_name": "VBoxModel",
      "state": {
       "children": [
        "IPY_MODEL_b0a144fb35ad43169ff9cac199ac1bf7",
        "IPY_MODEL_d09023a10b314aaf9583d37504f10777",
        "IPY_MODEL_a87acb93413241bb90e71d88dc14e3cb",
        "IPY_MODEL_f6be7c2734bf412bb0aee1706e90aa8f",
        "IPY_MODEL_23e82255d6e34d2097a530a20450ba34"
       ],
       "layout": "IPY_MODEL_a821ed52c92c4ce38888e75280d9ebd9"
      }
     },
     "48f8d0df766d422e857982dbc07a7f39": {
      "model_module": "@jupyter-widgets/controls",
      "model_module_version": "1.5.0",
      "model_name": "HBoxModel",
      "state": {
       "children": [
        "IPY_MODEL_752eac3d3a0b478b9e50d3870cc8d41f",
        "IPY_MODEL_b4d534c55f17431a8aa5e2ab368a0bf9"
       ],
       "layout": "IPY_MODEL_07971228923a4ef89939e070f2672f7c"
      }
     },
     "4904f38276e34246a1eea7ff7fcdf9eb": {
      "model_module": "@jupyter-widgets/controls",
      "model_module_version": "1.5.0",
      "model_name": "ButtonStyleModel",
      "state": {}
     },
     "4915fb5e9e4646e8a65a52d42670ce4c": {
      "model_module": "@jupyter-widgets/controls",
      "model_module_version": "1.5.0",
      "model_name": "DescriptionStyleModel",
      "state": {
       "description_width": ""
      }
     },
     "491a44485c1e4e909304837cf2b2c88f": {
      "model_module": "@jupyter-widgets/base",
      "model_module_version": "1.2.0",
      "model_name": "LayoutModel",
      "state": {}
     },
     "49aa290e15904db49fc3c60be3197d08": {
      "model_module": "@jupyter-widgets/controls",
      "model_module_version": "1.5.0",
      "model_name": "ButtonModel",
      "state": {
       "description": "Partikel",
       "layout": "IPY_MODEL_373cc5aaec2849f3af82a0b257a50d95",
       "style": "IPY_MODEL_aef82a86a09940d78f4067735f223add"
      }
     },
     "49fcc4afb1cb4bfe8cd3cc6428c0910b": {
      "model_module": "@jupyter-widgets/controls",
      "model_module_version": "1.5.0",
      "model_name": "DropdownModel",
      "state": {
       "_options_labels": [
        "Köpfe",
        "Länge",
        "Phrasenstruktur",
        " "
       ],
       "index": 3,
       "layout": "IPY_MODEL_7de5be379a474916bc03edb81c78db76",
       "style": "IPY_MODEL_5cc8262fb7564a48827a2eccf3a34289"
      }
     },
     "4a20d73d0e554493a8f2fe2023bf8179": {
      "model_module": "@jupyter-widgets/controls",
      "model_module_version": "1.5.0",
      "model_name": "HTMLModel",
      "state": {
       "layout": "IPY_MODEL_8208d34a6210410591accbb86e4fcfac",
       "style": "IPY_MODEL_2d3d5063c40d4d8ea8a6a19e7d744006",
       "value": "<i>Markieren Sie <ins>alle</ins> passenden Antworten: </i>"
      }
     },
     "4a60443b46374636a867139a859c2a5d": {
      "model_module": "@jupyter-widgets/base",
      "model_module_version": "1.2.0",
      "model_name": "LayoutModel",
      "state": {
       "width": "600px"
      }
     },
     "4a7cf34c59f4434c987ca38c35e91ec0": {
      "model_module": "@jupyter-widgets/controls",
      "model_module_version": "1.5.0",
      "model_name": "ButtonStyleModel",
      "state": {}
     },
     "4aad96bd72834f0b840b853399f994b0": {
      "model_module": "@jupyter-widgets/base",
      "model_module_version": "1.2.0",
      "model_name": "LayoutModel",
      "state": {
       "align_content": "stretch",
       "align_items": "stretch",
       "display": "inline-flex",
       "flex": "flex-grow",
       "flex_flow": "row wrap",
       "justify_content": "flex-start"
      }
     },
     "4ac781ee2dc24e5491cb316c7dba6b17": {
      "model_module": "@jupyter-widgets/controls",
      "model_module_version": "1.5.0",
      "model_name": "DescriptionStyleModel",
      "state": {
       "description_width": ""
      }
     },
     "4ace9d3a91974c27b29d84cda69d9c42": {
      "model_module": "@jupyter-widgets/base",
      "model_module_version": "1.2.0",
      "model_name": "LayoutModel",
      "state": {
       "width": "150px"
      }
     },
     "4ae47ca969f843278ea5b09599a92470": {
      "model_module": "@jupyter-widgets/base",
      "model_module_version": "1.2.0",
      "model_name": "LayoutModel",
      "state": {}
     },
     "4cdfb3bb094543cfab0b310282762b60": {
      "model_module": "@jupyter-widgets/controls",
      "model_module_version": "1.5.0",
      "model_name": "DescriptionStyleModel",
      "state": {
       "description_width": "initial"
      }
     },
     "4ced131beda244e5a231798af036bec2": {
      "model_module": "@jupyter-widgets/controls",
      "model_module_version": "1.5.0",
      "model_name": "ButtonModel",
      "state": {
       "description": "simple past",
       "layout": "IPY_MODEL_f4531a1d25da408b9a3273a6c9c00c8c",
       "style": "IPY_MODEL_4a7cf34c59f4434c987ca38c35e91ec0"
      }
     },
     "4d12b59c3c95411795767c1d19ee6051": {
      "model_module": "@jupyter-widgets/base",
      "model_module_version": "1.2.0",
      "model_name": "LayoutModel",
      "state": {}
     },
     "4ddcc5902d584a35a5e36da48cc34cb5": {
      "model_module": "@jupyter-widgets/controls",
      "model_module_version": "1.5.0",
      "model_name": "HTMLModel",
      "state": {
       "layout": "IPY_MODEL_6d2b2bb6968d49eaa8442730bdf933bd",
       "style": "IPY_MODEL_e6444d01057248968f2191c59c4f4a44",
       "value": "<i>Wählen Sie die <ins>eine</ins> korrekte Antwort aus: </i>"
      }
     },
     "4e6a3ded3e5048d99c74f7037c193b95": {
      "model_module": "@jupyter-widgets/controls",
      "model_module_version": "1.5.0",
      "model_name": "DropdownModel",
      "state": {
       "_options_labels": [
        "kürzeren",
        "längeren",
        " "
       ],
       "index": 2,
       "layout": "IPY_MODEL_4660feac78b74c56b0e1ec9f6fb86239",
       "style": "IPY_MODEL_691789ddc7d94ca584180b1b48943093"
      }
     },
     "4e87b9fdb33641e5af1824988e5ed8c4": {
      "model_module": "@jupyter-widgets/controls",
      "model_module_version": "1.5.0",
      "model_name": "CheckboxModel",
      "state": {
       "description": "Nur beginnt eine Reise von tausend Meilen auch mit einem Schritt",
       "disabled": false,
       "layout": "IPY_MODEL_214c768bb24f49b8becb6787b6becea2",
       "style": "IPY_MODEL_4827933d01b64b72bfc3317e334f0c1d",
       "value": false
      }
     },
     "4ea5831b382049629269dcaa4cd45e2b": {
      "model_module": "@jupyter-widgets/controls",
      "model_module_version": "1.5.0",
      "model_name": "ButtonModel",
      "state": {
       "description": "simple past",
       "layout": "IPY_MODEL_5dd95848c4d24b75b581c3a63b9b8543",
       "style": "IPY_MODEL_88961a58ef8742b0a75f450d5b923135"
      }
     },
     "4eca5da237aa4390b0a648457bf78f27": {
      "model_module": "@jupyter-widgets/controls",
      "model_module_version": "1.5.0",
      "model_name": "DescriptionStyleModel",
      "state": {
       "description_width": ""
      }
     },
     "4f04538ccccc4ebe9d2676aa62f5606a": {
      "model_module": "@jupyter-widgets/base",
      "model_module_version": "1.2.0",
      "model_name": "LayoutModel",
      "state": {}
     },
     "4f22ab30c86a4ca69f10e1238beccca4": {
      "model_module": "@jupyter-widgets/controls",
      "model_module_version": "1.5.0",
      "model_name": "DescriptionStyleModel",
      "state": {
       "description_width": "initial"
      }
     },
     "4f64b3d5d591477f901156d61f75511e": {
      "model_module": "@jupyter-widgets/base",
      "model_module_version": "1.2.0",
      "model_name": "LayoutModel",
      "state": {
       "justify_content": "center"
      }
     },
     "4f7a6f75b3414fbca843a06210901a8d": {
      "model_module": "@jupyter-widgets/controls",
      "model_module_version": "1.5.0",
      "model_name": "ButtonStyleModel",
      "state": {}
     },
     "4f7d0beab396423fb06ef859d0d027b3": {
      "model_module": "@jupyter-widgets/base",
      "model_module_version": "1.2.0",
      "model_name": "LayoutModel",
      "state": {}
     },
     "4fcf98cd9e6b44c8ac7c4e48b53d7174": {
      "model_module": "@jupyter-widgets/base",
      "model_module_version": "1.2.0",
      "model_name": "LayoutModel",
      "state": {
       "width": "600px"
      }
     },
     "50480fe35f6f4050b8dffca61afe8995": {
      "model_module": "@jupyter-widgets/controls",
      "model_module_version": "1.5.0",
      "model_name": "CheckboxModel",
      "state": {
       "description": "Es bezeichnet die näheren Umstände des im Verb ausgedrückten Geschehens.",
       "disabled": false,
       "layout": "IPY_MODEL_2a7c0e324db74c358f0cc2775b139df6",
       "style": "IPY_MODEL_1e18396ada6a4622a8cdeff65d82f440",
       "value": false
      }
     },
     "50794fc51a1441ec895d4914f44012ee": {
      "model_module": "@jupyter-widgets/controls",
      "model_module_version": "1.5.0",
      "model_name": "ButtonModel",
      "state": {
       "description": "past participle",
       "layout": "IPY_MODEL_3370158731944baeb727303a915ba344",
       "style": "IPY_MODEL_c2d1d48006024d6a8496f50b54e65a46"
      }
     },
     "50851a6554dd4858b1bc4b80e4acbd40": {
      "model_module": "@jupyter-widgets/controls",
      "model_module_version": "1.5.0",
      "model_name": "ButtonModel",
      "state": {
       "description": "Korrekt?",
       "layout": "IPY_MODEL_5faf710d42f248feb78ce429f34d3c7f",
       "style": "IPY_MODEL_a066b4270a7e43ceab60f437ae32880e"
      }
     },
     "5094cdc49f2542f4b2334cb9d640226f": {
      "model_module": "@jupyter-widgets/controls",
      "model_module_version": "1.5.0",
      "model_name": "VBoxModel",
      "state": {
       "children": [
        "IPY_MODEL_7bb0b9d00e7c4fdc8117b90045df4805",
        "IPY_MODEL_0a1bc548ee6d4a29869dadfaa10bedf3",
        "IPY_MODEL_9b8d4c8792914aa5aa375cf138f65d8e",
        "IPY_MODEL_2c160e72b9f24714ae1ef2f9e6ad1992"
       ],
       "layout": "IPY_MODEL_cd8e9604b25147fc9d12972b96b833b5"
      }
     },
     "50a1b104447446368a7ae26f0c67fda9": {
      "model_module": "@jupyter-widgets/controls",
      "model_module_version": "1.5.0",
      "model_name": "DescriptionStyleModel",
      "state": {
       "description_width": ""
      }
     },
     "50a99899e306439d8f1d1725b5622658": {
      "model_module": "@jupyter-widgets/controls",
      "model_module_version": "1.5.0",
      "model_name": "ButtonModel",
      "state": {
       "description": "Keine der anderen Möglichkeiten",
       "layout": "IPY_MODEL_3aef876e20f64c49973c0b5c2237af3f",
       "style": "IPY_MODEL_fec2985352334f2283838229e92e2041"
      }
     },
     "50b072fa4a8b4d0a91a23491f13d3b7c": {
      "model_module": "@jupyter-widgets/base",
      "model_module_version": "1.2.0",
      "model_name": "LayoutModel",
      "state": {
       "width": "250px"
      }
     },
     "50e4671b5da04c248b14c50b23815a95": {
      "model_module": "@jupyter-widgets/base",
      "model_module_version": "1.2.0",
      "model_name": "LayoutModel",
      "state": {}
     },
     "50eaf96c197d49489ed2b667ecdfd57c": {
      "model_module": "@jupyter-widgets/controls",
      "model_module_version": "1.5.0",
      "model_name": "ButtonModel",
      "state": {
       "description": "3rd singular present",
       "layout": "IPY_MODEL_c96f4e264ce84d3bbe7c8bbd6d897f08",
       "style": "IPY_MODEL_21b839a674ed4c98ae6bb71f6216e1ab"
      }
     },
     "5128ce65fcd741b2b0b34d79c240eb02": {
      "model_module": "@jupyter-widgets/base",
      "model_module_version": "1.2.0",
      "model_name": "LayoutModel",
      "state": {
       "width": "250px"
      }
     },
     "5146739a55f845059613e3d711c73b31": {
      "model_module": "@jupyter-widgets/controls",
      "model_module_version": "1.5.0",
      "model_name": "ButtonModel",
      "state": {
       "description": "3rd singular present",
       "layout": "IPY_MODEL_bc3addb0350345e1a04d6e55a77eae15",
       "style": "IPY_MODEL_533b480ab2c24e7988326b617634b25a"
      }
     },
     "51d6f69fd3d94763a08edcdb8d6b84f7": {
      "model_module": "@jupyter-widgets/controls",
      "model_module_version": "1.5.0",
      "model_name": "TextareaModel",
      "state": {
       "layout": "IPY_MODEL_1c97df8ed65c4026baa14847b9aec6e6",
       "placeholder": "Type something",
       "style": "IPY_MODEL_766a4fb22a4f414b80488f5115f66cb3",
       "value": "nltk.____()"
      }
     },
     "51fa5a359f294206b88e482cfa0ce93f": {
      "model_module": "@jupyter-widgets/controls",
      "model_module_version": "1.5.0",
      "model_name": "DescriptionStyleModel",
      "state": {
       "description_width": ""
      }
     },
     "520333c19c804ce5bf3a178ccbd765b4": {
      "model_module": "@jupyter-widgets/controls",
      "model_module_version": "1.5.0",
      "model_name": "ButtonModel",
      "state": {
       "description": "Lösung zeigen",
       "layout": "IPY_MODEL_aaf2ab8f7ff3418790f545061227c464",
       "style": "IPY_MODEL_547ec2f4692a445d82f0e6091b7dd660"
      }
     },
     "5217bdec0a2c47c18f19df07f79a84a8": {
      "model_module": "@jupyter-widgets/controls",
      "model_module_version": "1.5.0",
      "model_name": "HBoxModel",
      "state": {
       "children": [
        "IPY_MODEL_4ced131beda244e5a231798af036bec2"
       ],
       "layout": "IPY_MODEL_658490e747464d07b160065303f5bf36"
      }
     },
     "523f057aa557407f9b7a9dfdbfe704e4": {
      "model_module": "@jupyter-widgets/base",
      "model_module_version": "1.2.0",
      "model_name": "LayoutModel",
      "state": {
       "justify_content": "center"
      }
     },
     "5260a6fc16344eb9a7573cad8bcece8f": {
      "model_module": "@jupyter-widgets/controls",
      "model_module_version": "1.5.0",
      "model_name": "ButtonStyleModel",
      "state": {}
     },
     "526432b4f1294da0bdfac2ba20dcaaf3": {
      "model_module": "@jupyter-widgets/base",
      "model_module_version": "1.2.0",
      "model_name": "LayoutModel",
      "state": {}
     },
     "52c0b13292f145c5a57c4123320297fa": {
      "model_module": "@jupyter-widgets/controls",
      "model_module_version": "1.5.0",
      "model_name": "ButtonStyleModel",
      "state": {}
     },
     "52e86c30cd2241f599b3954a66f5040d": {
      "model_module": "@jupyter-widgets/controls",
      "model_module_version": "1.5.0",
      "model_name": "ButtonModel",
      "state": {
       "description": "Korrekt?",
       "layout": "IPY_MODEL_be46a72bf1304c6e87d162b2ac532719",
       "style": "IPY_MODEL_6d9ef9475dea43caa09b404d49a02167"
      }
     },
     "530a3466e8334b50805a43e9113ceb97": {
      "model_module": "@jupyter-widgets/controls",
      "model_module_version": "1.5.0",
      "model_name": "ButtonStyleModel",
      "state": {}
     },
     "5313505224b84c59a620aa185939c200": {
      "model_module": "@jupyter-widgets/base",
      "model_module_version": "1.2.0",
      "model_name": "LayoutModel",
      "state": {}
     },
     "533b480ab2c24e7988326b617634b25a": {
      "model_module": "@jupyter-widgets/controls",
      "model_module_version": "1.5.0",
      "model_name": "ButtonStyleModel",
      "state": {}
     },
     "534ade22f2b1485fb3d11c56ab13791f": {
      "model_module": "@jupyter-widgets/base",
      "model_module_version": "1.2.0",
      "model_name": "LayoutModel",
      "state": {}
     },
     "53bc9442d12d4a4bb9ebade2fc170370": {
      "model_module": "@jupyter-widgets/base",
      "model_module_version": "1.2.0",
      "model_name": "LayoutModel",
      "state": {
       "width": "600px"
      }
     },
     "53cc8e85d63846eaa46e27c5d46b5bf1": {
      "model_module": "@jupyter-widgets/base",
      "model_module_version": "1.2.0",
      "model_name": "LayoutModel",
      "state": {
       "width": "250px"
      }
     },
     "547ec2f4692a445d82f0e6091b7dd660": {
      "model_module": "@jupyter-widgets/controls",
      "model_module_version": "1.5.0",
      "model_name": "ButtonStyleModel",
      "state": {}
     },
     "553442aa58364372b31848caf62db948": {
      "model_module": "@jupyter-widgets/controls",
      "model_module_version": "1.5.0",
      "model_name": "DropdownModel",
      "state": {
       "_options_labels": [
        " ",
        "NP",
        "PP",
        "VP",
        " "
       ],
       "index": 0,
       "layout": "IPY_MODEL_c7003ca5a72f4579987665489b12d9bc",
       "style": "IPY_MODEL_51fa5a359f294206b88e482cfa0ce93f"
      }
     },
     "55a7582bdd114c06bd908d3f37f085fd": {
      "model_module": "@jupyter-widgets/base",
      "model_module_version": "1.2.0",
      "model_name": "LayoutModel",
      "state": {
       "width": "600px"
      }
     },
     "55f66180b9ed40728845e274cfb4209d": {
      "model_module": "@jupyter-widgets/controls",
      "model_module_version": "1.5.0",
      "model_name": "DescriptionStyleModel",
      "state": {
       "description_width": ""
      }
     },
     "562582964fba4e9f853c3cbaf83c8e5a": {
      "model_module": "@jupyter-widgets/base",
      "model_module_version": "1.2.0",
      "model_name": "LayoutModel",
      "state": {}
     },
     "564a900836e04fe3bbbd76a52d539792": {
      "model_module": "@jupyter-widgets/controls",
      "model_module_version": "1.5.0",
      "model_name": "DescriptionStyleModel",
      "state": {
       "description_width": ""
      }
     },
     "564ad36b10e74db283656c71e37e4904": {
      "model_module": "@jupyter-widgets/controls",
      "model_module_version": "1.5.0",
      "model_name": "DescriptionStyleModel",
      "state": {
       "description_width": ""
      }
     },
     "575e55e0d5ff40d9b7a41a1e4f2fce3f": {
      "model_module": "@jupyter-widgets/controls",
      "model_module_version": "1.5.0",
      "model_name": "HBoxModel",
      "state": {
       "children": [
        "IPY_MODEL_0c8d5d7a2e0c4964b019d4209e253537"
       ],
       "layout": "IPY_MODEL_87b64cd2bb7c4f059ebcd53e1ba2a1f9"
      }
     },
     "576b9565d33f426489920f69b602cfe5": {
      "model_module": "@jupyter-widgets/controls",
      "model_module_version": "1.5.0",
      "model_name": "VBoxModel",
      "state": {
       "children": [
        "IPY_MODEL_859360f1f9794bd99ae171301d8b45c1",
        "IPY_MODEL_78524f60a41248b3a4e2a4502a8d4b1c",
        "IPY_MODEL_51d6f69fd3d94763a08edcdb8d6b84f7",
        "IPY_MODEL_2df55c8edbba4d2f80561076d877a0d8"
       ],
       "layout": "IPY_MODEL_2301831845fa45269d167223aef2342f"
      }
     },
     "5807ff4146d94d79a741eafade443941": {
      "model_module": "@jupyter-widgets/base",
      "model_module_version": "1.2.0",
      "model_name": "LayoutModel",
      "state": {
       "width": "250px"
      }
     },
     "588134aa66a243bfab6377b6e10f258f": {
      "model_module": "@jupyter-widgets/base",
      "model_module_version": "1.2.0",
      "model_name": "LayoutModel",
      "state": {
       "justify_content": "center"
      }
     },
     "58923876b8e247d98a0e475d0620c9c4": {
      "model_module": "@jupyter-widgets/controls",
      "model_module_version": "1.5.0",
      "model_name": "DropdownModel",
      "state": {
       "_options_labels": [
        "Bigramm",
        "Trigramm",
        "Unigramm",
        " "
       ],
       "index": 3,
       "layout": "IPY_MODEL_077f52fa9d9442549ca83b1fa4f47e8d",
       "style": "IPY_MODEL_4eca5da237aa4390b0a648457bf78f27"
      }
     },
     "58acc3add67348068eb73ccd94b13d0e": {
      "model_module": "@jupyter-widgets/controls",
      "model_module_version": "1.5.0",
      "model_name": "BoxModel",
      "state": {
       "children": [
        "IPY_MODEL_3f88b172838147b1831f4a1b52fd3a1e",
        "IPY_MODEL_58923876b8e247d98a0e475d0620c9c4",
        "IPY_MODEL_99bc462b3689473b8860db9cf5462f20",
        "IPY_MODEL_f48bc4913c5945bfbb622ab0b1aa959e",
        "IPY_MODEL_f9207a58a1bb46e3b617a1e84122d6fb",
        "IPY_MODEL_5f5819ad5179456ebd6843202ed06ee3",
        "IPY_MODEL_20053c3973864effaa9efe2bdd3b70aa",
        "IPY_MODEL_20d230ab9db64bdba07f4a4c5df53b70",
        "IPY_MODEL_77c459db566b4bfb9220ee0b6c93a4d2"
       ],
       "layout": "IPY_MODEL_eafc6acef63042898e91abe8c1cbdd22"
      }
     },
     "58d4ba98c81a4a3291ccefc55c10d527": {
      "model_module": "@jupyter-widgets/controls",
      "model_module_version": "1.5.0",
      "model_name": "VBoxModel",
      "state": {
       "children": [
        "IPY_MODEL_fe0750561c66489ea254737550cb1912",
        "IPY_MODEL_1bcd3b565498455f9f5e72cb5ee8ec25",
        "IPY_MODEL_36766519cca74ab68ab3dbf70214529b"
       ],
       "layout": "IPY_MODEL_71aa68ab86f34008abbea1d4df47012f"
      }
     },
     "594356fd977d4c60be0e936700a11913": {
      "model_module": "@jupyter-widgets/controls",
      "model_module_version": "1.5.0",
      "model_name": "VBoxModel",
      "state": {
       "children": [
        "IPY_MODEL_725ca25d5ec64c2fb56eff591e0fa822",
        "IPY_MODEL_37e907b898534cd1a2ed8c316702a115",
        "IPY_MODEL_7f35b4fa3a4b4d94a4d439b8f09a8e3e",
        "IPY_MODEL_9530b7f2ebb54be7a2a149220628e317"
       ],
       "layout": "IPY_MODEL_9a0b0d1173a34a328207ca3679bf396b"
      }
     },
     "5967160de5f6400b8bb65ac8b4f863f1": {
      "model_module": "@jupyter-widgets/base",
      "model_module_version": "1.2.0",
      "model_name": "LayoutModel",
      "state": {}
     },
     "59c9fec7f9f843d8ad12316fea0b0164": {
      "model_module": "@jupyter-widgets/controls",
      "model_module_version": "1.5.0",
      "model_name": "CheckboxModel",
      "state": {
       "description": "Zu einem Wort wird ein Index seiner Kontexte aufgebaut.",
       "disabled": false,
       "layout": "IPY_MODEL_edf3035888fc456a84b64d407688f526",
       "style": "IPY_MODEL_8df1322cb7fc46259c93d6a1967dcb34",
       "value": false
      }
     },
     "59e0236665ea4329a8001843b17a79b6": {
      "model_module": "@jupyter-widgets/base",
      "model_module_version": "1.2.0",
      "model_name": "LayoutModel",
      "state": {
       "width": "250px"
      }
     },
     "5a99601d5e134f4c8e9b3772916f09a4": {
      "model_module": "@jupyter-widgets/controls",
      "model_module_version": "1.5.0",
      "model_name": "CheckboxModel",
      "state": {
       "description": "Flexionstyp",
       "disabled": false,
       "layout": "IPY_MODEL_2b8f2b97b378437da9b37718d2491622",
       "style": "IPY_MODEL_60b78e3edf9447ae92a95254b688386b",
       "value": false
      }
     },
     "5ab2217f805d41baa0281d6d764989ef": {
      "model_module": "@jupyter-widgets/controls",
      "model_module_version": "1.5.0",
      "model_name": "DescriptionStyleModel",
      "state": {
       "description_width": ""
      }
     },
     "5ad6fc20a9354ff1bd6a9b5fa273cd18": {
      "model_module": "@jupyter-widgets/controls",
      "model_module_version": "1.5.0",
      "model_name": "DescriptionStyleModel",
      "state": {
       "description_width": "initial"
      }
     },
     "5ad992f2f632489896aefeff36fec0df": {
      "model_module": "@jupyter-widgets/base",
      "model_module_version": "1.2.0",
      "model_name": "LayoutModel",
      "state": {
       "width": "250px"
      }
     },
     "5b7b758751bb45f7a6139f15906afe27": {
      "model_module": "@jupyter-widgets/controls",
      "model_module_version": "1.5.0",
      "model_name": "DescriptionStyleModel",
      "state": {
       "description_width": ""
      }
     },
     "5bcf55b8d00e4db48e2e97ba43d57a3d": {
      "model_module": "@jupyter-widgets/controls",
      "model_module_version": "1.5.0",
      "model_name": "ButtonStyleModel",
      "state": {}
     },
     "5bfbe602d2b542a9823e652d7cd92964": {
      "model_module": "@jupyter-widgets/controls",
      "model_module_version": "1.5.0",
      "model_name": "HTMLModel",
      "state": {
       "layout": "IPY_MODEL_101eac1dbbb14810a65605bab81cbfd0",
       "style": "IPY_MODEL_e0ce49d73fd3469fbb7a0346a8084c63",
       "value": "<h4 style=\"font-size:14px;\">Was bedeutet das Tag <i>VB</i> im Browntagset (siehe 5.7)?</h4>"
      }
     },
     "5c2868547c6047eeb17a10f4c26d2111": {
      "model_module": "@jupyter-widgets/base",
      "model_module_version": "1.2.0",
      "model_name": "LayoutModel",
      "state": {}
     },
     "5c7baef0d080414da46a19b7b706bc80": {
      "model_module": "@jupyter-widgets/controls",
      "model_module_version": "1.5.0",
      "model_name": "ButtonStyleModel",
      "state": {}
     },
     "5c9ec4c8fc394412a8c336fe3a37c77d": {
      "model_module": "@jupyter-widgets/base",
      "model_module_version": "1.2.0",
      "model_name": "LayoutModel",
      "state": {
       "justify_content": "center"
      }
     },
     "5cc8262fb7564a48827a2eccf3a34289": {
      "model_module": "@jupyter-widgets/controls",
      "model_module_version": "1.5.0",
      "model_name": "DescriptionStyleModel",
      "state": {
       "description_width": ""
      }
     },
     "5ceb7d2f8b43403a825d1f9731b640ba": {
      "model_module": "@jupyter-widgets/controls",
      "model_module_version": "1.5.0",
      "model_name": "HTMLModel",
      "state": {
       "layout": "IPY_MODEL_8abc1751db48434c91841ab01fc72516",
       "style": "IPY_MODEL_4ac781ee2dc24e5491cb316c7dba6b17",
       "value": "<i>Wählen Sie die <ins>eine</ins> korrekte Antwort aus: </i>"
      }
     },
     "5cf4b66e9bfa441288eec46da4439c98": {
      "model_module": "@jupyter-widgets/controls",
      "model_module_version": "1.5.0",
      "model_name": "HTMLModel",
      "state": {
       "layout": "IPY_MODEL_19ee20fc7311487e812dc33b630cbfdb",
       "style": "IPY_MODEL_c50dc17e289d47318156b82e01a70c1f",
       "value": "<i>Wählen Sie die <ins>eine</ins> korrekte Antwort aus: </i>"
      }
     },
     "5d4a2bfec4714e8186bc12e86d4beb2e": {
      "model_module": "@jupyter-widgets/base",
      "model_module_version": "1.2.0",
      "model_name": "LayoutModel",
      "state": {}
     },
     "5d8c3239e5a547d785e264b07da63c0f": {
      "model_module": "@jupyter-widgets/controls",
      "model_module_version": "1.5.0",
      "model_name": "ButtonStyleModel",
      "state": {
       "button_color": "lightgreen"
      }
     },
     "5dd95848c4d24b75b581c3a63b9b8543": {
      "model_module": "@jupyter-widgets/base",
      "model_module_version": "1.2.0",
      "model_name": "LayoutModel",
      "state": {
       "width": "250px"
      }
     },
     "5e2062f92b474991b577a61073c4b0d1": {
      "model_module": "@jupyter-widgets/controls",
      "model_module_version": "1.5.0",
      "model_name": "ButtonStyleModel",
      "state": {}
     },
     "5e847ffbd6384728ae85a9bdfb8728d0": {
      "model_module": "@jupyter-widgets/controls",
      "model_module_version": "1.5.0",
      "model_name": "VBoxModel",
      "state": {
       "children": [
        "IPY_MODEL_1a41644d7ed144cdaad33ca7fdddec6d",
        "IPY_MODEL_b4fc7faa570e474a8b11cdd7e9aab338",
        "IPY_MODEL_2b9a9fbc7b43452cac28c3ab9253291e",
        "IPY_MODEL_82904930552e4108a7bba80e2990a054"
       ],
       "layout": "IPY_MODEL_155b62ab859949a7a413608e5189f6f7"
      }
     },
     "5e9f9bc34f8a4888a3b29e77aba6da74": {
      "model_module": "@jupyter-widgets/controls",
      "model_module_version": "1.5.0",
      "model_name": "DescriptionStyleModel",
      "state": {
       "description_width": ""
      }
     },
     "5f05b109b4994b4198c71e4b420fadca": {
      "model_module": "@jupyter-widgets/controls",
      "model_module_version": "1.5.0",
      "model_name": "DescriptionStyleModel",
      "state": {
       "description_width": ""
      }
     },
     "5f5819ad5179456ebd6843202ed06ee3": {
      "model_module": "@jupyter-widgets/controls",
      "model_module_version": "1.5.0",
      "model_name": "DropdownModel",
      "state": {
       "_options_labels": [
        "'ADJ'",
        "'DET'",
        "'NOUN'",
        " "
       ],
       "index": 3,
       "layout": "IPY_MODEL_f59b06e6822e4a018734eee2dffb3f68",
       "style": "IPY_MODEL_d03ef6364ff040ebaa328f567c2bd17c"
      }
     },
     "5f676eb6d1e347e2bbd4b255f0b9675a": {
      "model_module": "@jupyter-widgets/controls",
      "model_module_version": "1.5.0",
      "model_name": "DescriptionStyleModel",
      "state": {
       "description_width": "initial"
      }
     },
     "5f879974337040798d2dfdbf9bfea980": {
      "model_module": "@jupyter-widgets/controls",
      "model_module_version": "1.5.0",
      "model_name": "HBoxModel",
      "state": {
       "children": [
        "IPY_MODEL_c08118464c7244e58519b802c09d28bf",
        "IPY_MODEL_50794fc51a1441ec895d4914f44012ee"
       ],
       "layout": "IPY_MODEL_d2c7c0043c8f47179e1f8113eeda335a"
      }
     },
     "5fa5597d8ad3469faf3186fdaf0233e9": {
      "model_module": "@jupyter-widgets/controls",
      "model_module_version": "1.5.0",
      "model_name": "DescriptionStyleModel",
      "state": {
       "description_width": ""
      }
     },
     "5faf710d42f248feb78ce429f34d3c7f": {
      "model_module": "@jupyter-widgets/base",
      "model_module_version": "1.2.0",
      "model_name": "LayoutModel",
      "state": {
       "width": "250px"
      }
     },
     "5fb0a430a66945bc95fb73cb9381ab24": {
      "model_module": "@jupyter-widgets/base",
      "model_module_version": "1.2.0",
      "model_name": "LayoutModel",
      "state": {
       "width": "600px"
      }
     },
     "600d0521bd654534b9c555a684c1e6f0": {
      "model_module": "@jupyter-widgets/base",
      "model_module_version": "1.2.0",
      "model_name": "LayoutModel",
      "state": {}
     },
     "6050938627a54219a64ddedc313bf32c": {
      "model_module": "@jupyter-widgets/base",
      "model_module_version": "1.2.0",
      "model_name": "LayoutModel",
      "state": {
       "justify_content": "center"
      }
     },
     "6066dda680a441c6832d7b1b7bda346a": {
      "model_module": "@jupyter-widgets/base",
      "model_module_version": "1.2.0",
      "model_name": "LayoutModel",
      "state": {
       "width": "600px"
      }
     },
     "6093a9bdebfa42bf9207d42594fa66d7": {
      "model_module": "@jupyter-widgets/base",
      "model_module_version": "1.2.0",
      "model_name": "LayoutModel",
      "state": {
       "justify_content": "center"
      }
     },
     "60a26109946e4b23b952c663bd1aea42": {
      "model_module": "@jupyter-widgets/controls",
      "model_module_version": "1.5.0",
      "model_name": "ButtonModel",
      "state": {
       "description": "past participle",
       "layout": "IPY_MODEL_233cf8683c58434a918dfb0a90e3de49",
       "style": "IPY_MODEL_bb425f5278aa41be961318728da776d7"
      }
     },
     "60b78e3edf9447ae92a95254b688386b": {
      "model_module": "@jupyter-widgets/controls",
      "model_module_version": "1.5.0",
      "model_name": "DescriptionStyleModel",
      "state": {
       "description_width": "initial"
      }
     },
     "60f3b42e98a4443db764746c87380e03": {
      "model_module": "@jupyter-widgets/base",
      "model_module_version": "1.2.0",
      "model_name": "LayoutModel",
      "state": {}
     },
     "61001c649ccb41988080d0e3cbecc8b5": {
      "model_module": "@jupyter-widgets/controls",
      "model_module_version": "1.5.0",
      "model_name": "HTMLModel",
      "state": {
       "layout": "IPY_MODEL_06e73b7f65184eedb27caa7fd16c2af6",
       "style": "IPY_MODEL_d8ac27b3b6ab45cb8f4d72d91ede0813",
       "value": "<h4 style=\"font-size:14px;\">Welche Wortart folgt damit für das Wort <i>gut</i> in Satz 2?</h4>"
      }
     },
     "61398f72f8494830b82f0e09f8fe9678": {
      "model_module": "@jupyter-widgets/base",
      "model_module_version": "1.2.0",
      "model_name": "LayoutModel",
      "state": {
       "width": "150px"
      }
     },
     "61784999c5774033b9ab9139a632ab57": {
      "model_module": "@jupyter-widgets/base",
      "model_module_version": "1.2.0",
      "model_name": "LayoutModel",
      "state": {}
     },
     "61d57622fe95483fb114c17cf1000023": {
      "model_module": "@jupyter-widgets/base",
      "model_module_version": "1.2.0",
      "model_name": "LayoutModel",
      "state": {}
     },
     "61fd47be42594d0ea01e443e0af2c8a7": {
      "model_module": "@jupyter-widgets/base",
      "model_module_version": "1.2.0",
      "model_name": "LayoutModel",
      "state": {
       "width": "250px"
      }
     },
     "62164e1bffbd423ca5d2431be27e6b13": {
      "model_module": "@jupyter-widgets/controls",
      "model_module_version": "1.5.0",
      "model_name": "ButtonModel",
      "state": {
       "description": "Korrekt?",
       "layout": "IPY_MODEL_7e528f7efdec45d0b31943aefbcf9c64",
       "style": "IPY_MODEL_317f2c174fe044abbbd6d48dd7f0a9f8"
      }
     },
     "62723e060c884c19af5e0696229d39c8": {
      "model_module": "@jupyter-widgets/controls",
      "model_module_version": "1.5.0",
      "model_name": "HTMLModel",
      "state": {
       "layout": "IPY_MODEL_deedd79c9ac345bcb7a4690f43d8169f",
       "style": "IPY_MODEL_996b72743e5b4859b31ebcc40fcad35e",
       "value": "<i>Markieren Sie <ins>alle</ins> passenden Antworten: </i>"
      }
     },
     "627f54ad91b54f47a6c1671b13ba4f98": {
      "model_module": "@jupyter-widgets/controls",
      "model_module_version": "1.5.0",
      "model_name": "DescriptionStyleModel",
      "state": {
       "description_width": ""
      }
     },
     "629734cb2d774d449fe8dd41a8090599": {
      "model_module": "@jupyter-widgets/controls",
      "model_module_version": "1.5.0",
      "model_name": "VBoxModel",
      "state": {
       "children": [
        "IPY_MODEL_b45ff2a01ccc48029100bad1f2a09712",
        "IPY_MODEL_f53e7d0782924fd3bc212171114883f5",
        "IPY_MODEL_20438ec34366485e9c3eb4767123eebe",
        "IPY_MODEL_1dc12fb096324edbb650daa4415b6344",
        "IPY_MODEL_2dfc7e33049a4ac0ac0b9b3b4d84592e"
       ],
       "layout": "IPY_MODEL_e589351266d842f5a113c644a4a876cc"
      }
     },
     "629b83d5656b4bcba9e22e3b2b78a613": {
      "model_module": "@jupyter-widgets/controls",
      "model_module_version": "1.5.0",
      "model_name": "CheckboxModel",
      "state": {
       "description": "Es ist flektierbar.",
       "disabled": false,
       "layout": "IPY_MODEL_6066dda680a441c6832d7b1b7bda346a",
       "style": "IPY_MODEL_260bafbc6b7245c2a53e4e49a30dd734",
       "value": true
      }
     },
     "630599fd239b42f3a03b45d80a18c5da": {
      "model_module": "@jupyter-widgets/base",
      "model_module_version": "1.2.0",
      "model_name": "LayoutModel",
      "state": {
       "width": "600px"
      }
     },
     "63329da9085c447e8e2a67213fe1e425": {
      "model_module": "@jupyter-widgets/controls",
      "model_module_version": "1.5.0",
      "model_name": "VBoxModel",
      "state": {
       "children": [
        "IPY_MODEL_d49b46b98cde40caafb7927c786974c3",
        "IPY_MODEL_271dfb73469a49d18d51130a7088f955",
        "IPY_MODEL_90a1d8293aec4f87befeb62e03dc13e3",
        "IPY_MODEL_7edd4c683cb64cffa9bb4adc758b00f0"
       ],
       "layout": "IPY_MODEL_6f3ddc7ce0bf462586a4af5b3a7a7366"
      }
     },
     "63333a3eeac34f5ca391bc8f3aa3e9c1": {
      "model_module": "@jupyter-widgets/base",
      "model_module_version": "1.2.0",
      "model_name": "LayoutModel",
      "state": {
       "width": "250px"
      }
     },
     "63352c54a5654fdebf039675141d4761": {
      "model_module": "@jupyter-widgets/base",
      "model_module_version": "1.2.0",
      "model_name": "LayoutModel",
      "state": {
       "width": "250px"
      }
     },
     "638bb12308c4406c842a946dec233584": {
      "model_module": "@jupyter-widgets/base",
      "model_module_version": "1.2.0",
      "model_name": "LayoutModel",
      "state": {}
     },
     "639e65caf95c419282680cd4f85de6d0": {
      "model_module": "@jupyter-widgets/base",
      "model_module_version": "1.2.0",
      "model_name": "LayoutModel",
      "state": {
       "width": "600px"
      }
     },
     "642ab6a520bd4e3c84ea1252c21c284e": {
      "model_module": "@jupyter-widgets/base",
      "model_module_version": "1.2.0",
      "model_name": "LayoutModel",
      "state": {
       "width": "600px"
      }
     },
     "645e554edf3648efaba83802775262e4": {
      "model_module": "@jupyter-widgets/base",
      "model_module_version": "1.2.0",
      "model_name": "LayoutModel",
      "state": {
       "width": "150px"
      }
     },
     "6467eb9ddbc84a3bb84b231b91255746": {
      "model_module": "@jupyter-widgets/base",
      "model_module_version": "1.2.0",
      "model_name": "LayoutModel",
      "state": {}
     },
     "648ee7becfc34a3d8401978e18b9ee70": {
      "model_module": "@jupyter-widgets/base",
      "model_module_version": "1.2.0",
      "model_name": "LayoutModel",
      "state": {}
     },
     "64a65bf89486425fa0a7ba2ceba88e72": {
      "model_module": "@jupyter-widgets/controls",
      "model_module_version": "1.5.0",
      "model_name": "DropdownModel",
      "state": {
       "_options_labels": [
        "morphologischen",
        "syntaktischen",
        " "
       ],
       "index": 2,
       "layout": "IPY_MODEL_8edbd4d4122a415f8b1cd8452ae49a5a",
       "style": "IPY_MODEL_74ad3ed7cdcf442c9cda58a5c2c2a4fe"
      }
     },
     "64f467b5cbb5496ab43f10e2e9720812": {
      "model_module": "@jupyter-widgets/base",
      "model_module_version": "1.2.0",
      "model_name": "LayoutModel",
      "state": {
       "width": "250px"
      }
     },
     "64fd2306496241e0b5d3fec625a31910": {
      "model_module": "@jupyter-widgets/controls",
      "model_module_version": "1.5.0",
      "model_name": "DescriptionStyleModel",
      "state": {
       "description_width": ""
      }
     },
     "65221c97a281472dba23362488289f98": {
      "model_module": "@jupyter-widgets/base",
      "model_module_version": "1.2.0",
      "model_name": "LayoutModel",
      "state": {}
     },
     "658490e747464d07b160065303f5bf36": {
      "model_module": "@jupyter-widgets/base",
      "model_module_version": "1.2.0",
      "model_name": "LayoutModel",
      "state": {}
     },
     "659384963e0f43c5be2153933214a56b": {
      "model_module": "@jupyter-widgets/base",
      "model_module_version": "1.2.0",
      "model_name": "LayoutModel",
      "state": {}
     },
     "65d90eab08f64e7483934c989c58e71a": {
      "model_module": "@jupyter-widgets/controls",
      "model_module_version": "1.5.0",
      "model_name": "DescriptionStyleModel",
      "state": {
       "description_width": "initial"
      }
     },
     "6610469e4de845668cb3fef3a49dea25": {
      "model_module": "@jupyter-widgets/base",
      "model_module_version": "1.2.0",
      "model_name": "LayoutModel",
      "state": {
       "justify_content": "center"
      }
     },
     "66a27add57184220ae57bdd2ac84f758": {
      "model_module": "@jupyter-widgets/base",
      "model_module_version": "1.2.0",
      "model_name": "LayoutModel",
      "state": {
       "justify_content": "center"
      }
     },
     "66cfacf8efe74ac69649f18ccf66d229": {
      "model_module": "@jupyter-widgets/base",
      "model_module_version": "1.2.0",
      "model_name": "LayoutModel",
      "state": {}
     },
     "673c99dd7b4f452384849cc2be331692": {
      "model_module": "@jupyter-widgets/controls",
      "model_module_version": "1.5.0",
      "model_name": "HBoxModel",
      "state": {
       "children": [
        "IPY_MODEL_858b37afdd154421b213faaef723e171",
        "IPY_MODEL_2d48bfe2f28040fc8058d7ade7ba59ff"
       ],
       "layout": "IPY_MODEL_6d43812b02684a979f28bf803ad7d3ae"
      }
     },
     "6750704c06ee44a99bf25748dd304e1b": {
      "model_module": "@jupyter-widgets/base",
      "model_module_version": "1.2.0",
      "model_name": "LayoutModel",
      "state": {
       "width": "350px"
      }
     },
     "6785ea14c4854f50a22ee3bc80f024f0": {
      "model_module": "@jupyter-widgets/base",
      "model_module_version": "1.2.0",
      "model_name": "LayoutModel",
      "state": {
       "width": "250px"
      }
     },
     "678af91981e14ff9ac83a79cc87a7f50": {
      "model_module": "@jupyter-widgets/base",
      "model_module_version": "1.2.0",
      "model_name": "LayoutModel",
      "state": {
       "justify_content": "center"
      }
     },
     "679695f2120b4b60aa15dda341a97b4f": {
      "model_module": "@jupyter-widgets/controls",
      "model_module_version": "1.5.0",
      "model_name": "VBoxModel",
      "state": {
       "children": [
        "IPY_MODEL_143ca80a73e748f2a1cbbe94ca6cf522",
        "IPY_MODEL_4e87b9fdb33641e5af1824988e5ed8c4",
        "IPY_MODEL_2a932d35993a46d391c7f3fff23d4be9",
        "IPY_MODEL_787fdf44631a41c985681abefb8985e3"
       ],
       "layout": "IPY_MODEL_65221c97a281472dba23362488289f98"
      }
     },
     "686d5244b7324df09cf0d8b6e60af0f8": {
      "model_module": "@jupyter-widgets/base",
      "model_module_version": "1.2.0",
      "model_name": "LayoutModel",
      "state": {}
     },
     "68b4b6e770774988bb0860fd7cbb26b3": {
      "model_module": "@jupyter-widgets/controls",
      "model_module_version": "1.5.0",
      "model_name": "HTMLModel",
      "state": {
       "layout": "IPY_MODEL_ad47c24e058a40b39e995e6b1bb859c4",
       "style": "IPY_MODEL_2ad2ca7f6c7b4ac99d8ef6ae6e86f268",
       "value": "<h4 style=\"font-size:14px;\">Phrasen verkettet werden können. Das Ergebnis ist eine Phrase des gleichen Typs, also der gleichen</h4>"
      }
     },
     "691789ddc7d94ca584180b1b48943093": {
      "model_module": "@jupyter-widgets/controls",
      "model_module_version": "1.5.0",
      "model_name": "DescriptionStyleModel",
      "state": {
       "description_width": ""
      }
     },
     "696019fa692c4f318be6d457e34de0b1": {
      "model_module": "@jupyter-widgets/controls",
      "model_module_version": "1.5.0",
      "model_name": "HTMLModel",
      "state": {
       "layout": "IPY_MODEL_ae4c45581f6c40a38062132f86060f97",
       "style": "IPY_MODEL_07e57404e0f34632bbd3b0b334d513f2",
       "value": "<h4 style=\"font-size:14px;\">Was bedeutet das Tag <i>VBZ</i> im Browntagset (siehe 5.7)?</h4>"
      }
     },
     "69b8a9a83afb4cdb99cb45697e3bda89": {
      "model_module": "@jupyter-widgets/base",
      "model_module_version": "1.2.0",
      "model_name": "LayoutModel",
      "state": {}
     },
     "69e77247d3c14d57b2988aab578f46e2": {
      "model_module": "@jupyter-widgets/controls",
      "model_module_version": "1.5.0",
      "model_name": "ButtonStyleModel",
      "state": {}
     },
     "69f2583c3f1644ebbac79896a58b046c": {
      "model_module": "@jupyter-widgets/controls",
      "model_module_version": "1.5.0",
      "model_name": "HTMLModel",
      "state": {
       "layout": "IPY_MODEL_6f3156554c514ad7a524243e52902a4a",
       "style": "IPY_MODEL_9e9d8011f10f4c289c4571455880edb2",
       "value": "<i>Markieren Sie <ins>alle</ins> passenden Antworten: </i>"
      }
     },
     "6a7a9eec6c34459cb50a936628fbb333": {
      "model_module": "@jupyter-widgets/base",
      "model_module_version": "1.2.0",
      "model_name": "LayoutModel",
      "state": {
       "width": "250px"
      }
     },
     "6a82e4d5cc424fa5a61c689da7055ebb": {
      "model_module": "@jupyter-widgets/controls",
      "model_module_version": "1.5.0",
      "model_name": "DescriptionStyleModel",
      "state": {
       "description_width": ""
      }
     },
     "6ac0e125e0934759b871607012e44fc8": {
      "model_module": "@jupyter-widgets/controls",
      "model_module_version": "1.5.0",
      "model_name": "ButtonStyleModel",
      "state": {}
     },
     "6ac190432b434d748a47ce26cb581fae": {
      "model_module": "@jupyter-widgets/controls",
      "model_module_version": "1.5.0",
      "model_name": "DescriptionStyleModel",
      "state": {
       "description_width": ""
      }
     },
     "6afa18b643b94d8a9b2581544341cff0": {
      "model_module": "@jupyter-widgets/controls",
      "model_module_version": "1.5.0",
      "model_name": "HTMLModel",
      "state": {
       "layout": "IPY_MODEL_6eb0d33bde064fb581a5b693b8255a5b",
       "style": "IPY_MODEL_216e542da8d34a879be02043e3e6f132",
       "value": "<h4 style=\"font-size:14px;\">Was sind morphologische Kriterien für Wortkategorien?</h4>"
      }
     },
     "6bd9a9a226eb454884be4ac20e0be1ac": {
      "model_module": "@jupyter-widgets/controls",
      "model_module_version": "1.5.0",
      "model_name": "DescriptionStyleModel",
      "state": {
       "description_width": ""
      }
     },
     "6c9960ab50b147a3bbfdd9b56f0ebad4": {
      "model_module": "@jupyter-widgets/base",
      "model_module_version": "1.2.0",
      "model_name": "LayoutModel",
      "state": {}
     },
     "6c9c49de78604132a50206680f35f1fe": {
      "model_module": "@jupyter-widgets/controls",
      "model_module_version": "1.5.0",
      "model_name": "ButtonModel",
      "state": {
       "description": "Korrekt?",
       "layout": "IPY_MODEL_6750704c06ee44a99bf25748dd304e1b",
       "style": "IPY_MODEL_f7d045deea824fc2908d27a8cde14c3d"
      }
     },
     "6cb1e4d32a1c41eb8240661650a82f1c": {
      "model_module": "@jupyter-widgets/controls",
      "model_module_version": "1.5.0",
      "model_name": "HBoxModel",
      "state": {
       "children": [
        "IPY_MODEL_d7450bc5eafa48978000a5ce539d59e0"
       ],
       "layout": "IPY_MODEL_6c9960ab50b147a3bbfdd9b56f0ebad4"
      }
     },
     "6cef14e40bf44f4eab5ae0c7f893d2d2": {
      "model_module": "@jupyter-widgets/base",
      "model_module_version": "1.2.0",
      "model_name": "LayoutModel",
      "state": {
       "width": "150px"
      }
     },
     "6d2b2bb6968d49eaa8442730bdf933bd": {
      "model_module": "@jupyter-widgets/base",
      "model_module_version": "1.2.0",
      "model_name": "LayoutModel",
      "state": {
       "justify_content": "center"
      }
     },
     "6d393fd966304b369b1fa2986116ccd3": {
      "model_module": "@jupyter-widgets/controls",
      "model_module_version": "1.5.0",
      "model_name": "DescriptionStyleModel",
      "state": {
       "description_width": ""
      }
     },
     "6d43812b02684a979f28bf803ad7d3ae": {
      "model_module": "@jupyter-widgets/base",
      "model_module_version": "1.2.0",
      "model_name": "LayoutModel",
      "state": {}
     },
     "6d6ce6be25624620885a17389bfdc6f0": {
      "model_module": "@jupyter-widgets/controls",
      "model_module_version": "1.5.0",
      "model_name": "DescriptionStyleModel",
      "state": {
       "description_width": ""
      }
     },
     "6d8c1bfd5fb6462f8c3d3ca866571c41": {
      "model_module": "@jupyter-widgets/controls",
      "model_module_version": "1.5.0",
      "model_name": "HTMLModel",
      "state": {
       "layout": "IPY_MODEL_25ee1d5893a44d8c84c8f1b42f2a299d",
       "style": "IPY_MODEL_d2c721841e1540f4987491c43c90edf1",
       "value": "<h4 style=\"font-size:14px;\">-Tupel von</h4>"
      }
     },
     "6d9ef9475dea43caa09b404d49a02167": {
      "model_module": "@jupyter-widgets/controls",
      "model_module_version": "1.5.0",
      "model_name": "ButtonStyleModel",
      "state": {}
     },
     "6dba55f1e68d414caa636a2940b79255": {
      "model_module": "@jupyter-widgets/base",
      "model_module_version": "1.2.0",
      "model_name": "LayoutModel",
      "state": {}
     },
     "6e76a98841324baeba073ef07bff9b66": {
      "model_module": "@jupyter-widgets/controls",
      "model_module_version": "1.5.0",
      "model_name": "DescriptionStyleModel",
      "state": {
       "description_width": ""
      }
     },
     "6e9dffebf25f455e95da71e07805610e": {
      "model_module": "@jupyter-widgets/base",
      "model_module_version": "1.2.0",
      "model_name": "LayoutModel",
      "state": {
       "justify_content": "center"
      }
     },
     "6eb0d33bde064fb581a5b693b8255a5b": {
      "model_module": "@jupyter-widgets/base",
      "model_module_version": "1.2.0",
      "model_name": "LayoutModel",
      "state": {}
     },
     "6ecdefab2dfb4037ab82ee05b8a45899": {
      "model_module": "@jupyter-widgets/base",
      "model_module_version": "1.2.0",
      "model_name": "LayoutModel",
      "state": {}
     },
     "6f3156554c514ad7a524243e52902a4a": {
      "model_module": "@jupyter-widgets/base",
      "model_module_version": "1.2.0",
      "model_name": "LayoutModel",
      "state": {
       "justify_content": "center"
      }
     },
     "6f3ddc7ce0bf462586a4af5b3a7a7366": {
      "model_module": "@jupyter-widgets/base",
      "model_module_version": "1.2.0",
      "model_name": "LayoutModel",
      "state": {}
     },
     "6f65e3ad03f64bcd9f514c436ffc749f": {
      "model_module": "@jupyter-widgets/controls",
      "model_module_version": "1.5.0",
      "model_name": "VBoxModel",
      "state": {
       "children": [
        "IPY_MODEL_13201489024747beb8514e019a96484b",
        "IPY_MODEL_ed71879bc1e44bdb90e74d126eaed801",
        "IPY_MODEL_db3cf2b64bdd425d9e9db2af2a75f7dd",
        "IPY_MODEL_1a67f4726f93450482bc7c080a77ab48"
       ],
       "layout": "IPY_MODEL_f04dd4b1b9c04404a273a708fefd5f27"
      }
     },
     "6f98cb999ae241d9afd6bdf923c5f443": {
      "model_module": "@jupyter-widgets/base",
      "model_module_version": "1.2.0",
      "model_name": "LayoutModel",
      "state": {
       "width": "600px"
      }
     },
     "6fb8198958d6461893b94fecbc676e81": {
      "model_module": "@jupyter-widgets/controls",
      "model_module_version": "1.5.0",
      "model_name": "CheckboxModel",
      "state": {
       "description": "Nur mit beginnt eine Reise von tausend Meilen auch einem Schritt.",
       "disabled": false,
       "layout": "IPY_MODEL_6f98cb999ae241d9afd6bdf923c5f443",
       "style": "IPY_MODEL_7687ff110ff64b23a88f899e2ccf12a0",
       "value": false
      }
     },
     "6fbafcbf149445a0950361d84f806ce6": {
      "model_module": "@jupyter-widgets/controls",
      "model_module_version": "1.5.0",
      "model_name": "HBoxModel",
      "state": {
       "children": [
        "IPY_MODEL_8988a8a7fd2a4e00954f5354a3ac5320",
        "IPY_MODEL_9835d68bbd7a493ca93f7e5f1700238e"
       ],
       "layout": "IPY_MODEL_4110742e5b864696aef69c98bba33998"
      }
     },
     "6fc1fa03ec174caf8374acefcadfcf46": {
      "model_module": "@jupyter-widgets/controls",
      "model_module_version": "1.5.0",
      "model_name": "VBoxModel",
      "state": {
       "children": [
        "IPY_MODEL_430f341fc0f64c74a66c99bfd8a7e887",
        "IPY_MODEL_e10a2c1cad474592bffe9753964b70c1",
        "IPY_MODEL_2ef16186c1894c4e8721e6baabcc6539",
        "IPY_MODEL_9ba1f25b25ca452fae31ae43058c559e"
       ],
       "layout": "IPY_MODEL_e0daf1a6a48548e1a202ccf407ba871a"
      }
     },
     "703a0d0dde934cd692fa9052465e7d91": {
      "model_module": "@jupyter-widgets/controls",
      "model_module_version": "1.5.0",
      "model_name": "CheckboxModel",
      "state": {
       "description": "gleiche Endungen",
       "disabled": false,
       "layout": "IPY_MODEL_c5abc37a63db447a838d510deda6dced",
       "style": "IPY_MODEL_2e5d933f3a064b42969ec0bf531b5eef",
       "value": false
      }
     },
     "7063ed1c201346a1ac7d692296164718": {
      "model_module": "@jupyter-widgets/controls",
      "model_module_version": "1.5.0",
      "model_name": "VBoxModel",
      "state": {
       "children": [
        "IPY_MODEL_ef6ab316f10c4f6eb02babb00b75d149",
        "IPY_MODEL_a37a3e4581814be6b37a00d7bb90ba08",
        "IPY_MODEL_e711b143bfb94fb898fb5f32b4d16938",
        "IPY_MODEL_ae191e74fac64dad961f81a8956c007a",
        "IPY_MODEL_1522923e0f6d490eaac4df7f0596d3b4"
       ],
       "layout": "IPY_MODEL_912a037a245047f4a66819d34f23a641"
      }
     },
     "70899ed51ebb449f93d1fd63247b2de7": {
      "model_module": "@jupyter-widgets/controls",
      "model_module_version": "1.5.0",
      "model_name": "ButtonStyleModel",
      "state": {}
     },
     "70b645a3753a4e16930883b795c6adbf": {
      "model_module": "@jupyter-widgets/base",
      "model_module_version": "1.2.0",
      "model_name": "LayoutModel",
      "state": {
       "width": "250px"
      }
     },
     "70b76b3a8ee240e78bf41a98ef0ae750": {
      "model_module": "@jupyter-widgets/controls",
      "model_module_version": "1.5.0",
      "model_name": "ButtonModel",
      "state": {
       "description": "base",
       "layout": "IPY_MODEL_a20b0c54a3cd421c98e663a6df54123d",
       "style": "IPY_MODEL_530a3466e8334b50805a43e9113ceb97"
      }
     },
     "70d030c30cc34ba284a6cfe0b212fb7f": {
      "model_module": "@jupyter-widgets/base",
      "model_module_version": "1.2.0",
      "model_name": "LayoutModel",
      "state": {
       "width": "250px"
      }
     },
     "710e3ed2ba5f4f4391303121027367c7": {
      "model_module": "@jupyter-widgets/controls",
      "model_module_version": "1.5.0",
      "model_name": "DescriptionStyleModel",
      "state": {
       "description_width": "initial"
      }
     },
     "71aa68ab86f34008abbea1d4df47012f": {
      "model_module": "@jupyter-widgets/base",
      "model_module_version": "1.2.0",
      "model_name": "LayoutModel",
      "state": {}
     },
     "72109b10e1544a13a3f9df706cee4653": {
      "model_module": "@jupyter-widgets/controls",
      "model_module_version": "1.5.0",
      "model_name": "ButtonModel",
      "state": {
       "description": "base",
       "layout": "IPY_MODEL_ef2aa5bb3a8c45799c3915c7fe2463a4",
       "style": "IPY_MODEL_5260a6fc16344eb9a7573cad8bcece8f"
      }
     },
     "725ca25d5ec64c2fb56eff591e0fa822": {
      "model_module": "@jupyter-widgets/controls",
      "model_module_version": "1.5.0",
      "model_name": "HTMLModel",
      "state": {
       "layout": "IPY_MODEL_3cc67d1a506843579b686941b9ecff82",
       "style": "IPY_MODEL_0c6fc09f341941b5b7ecd896e86fb730",
       "value": "<h4 style=\"font-size:14px;\">Was leistet die Funktion <code>nltk.similar()</code>?</h4>"
      }
     },
     "728599594e2945488978ca8df33fefc4": {
      "model_module": "@jupyter-widgets/controls",
      "model_module_version": "1.5.0",
      "model_name": "ButtonStyleModel",
      "state": {
       "button_color": "lightgreen"
      }
     },
     "7301071473524debb432ecafda45eaf3": {
      "model_module": "@jupyter-widgets/controls",
      "model_module_version": "1.5.0",
      "model_name": "HBoxModel",
      "state": {
       "children": [
        "IPY_MODEL_bc197f62446c49cc98a1b9fdefafa173",
        "IPY_MODEL_7dff540f9b88498ebd00abc0c40169a7"
       ],
       "layout": "IPY_MODEL_bfaa03db1edc4ae08ce7b75341ec67c8"
      }
     },
     "734064f86b134523bca1969b7a60bb0c": {
      "model_module": "@jupyter-widgets/base",
      "model_module_version": "1.2.0",
      "model_name": "LayoutModel",
      "state": {
       "width": "250px"
      }
     },
     "73d69da0f9004b9fa7f7c674630da44f": {
      "model_module": "@jupyter-widgets/base",
      "model_module_version": "1.2.0",
      "model_name": "LayoutModel",
      "state": {}
     },
     "73e9e0dcf58a45758ed3fbe87d83cd22": {
      "model_module": "@jupyter-widgets/controls",
      "model_module_version": "1.5.0",
      "model_name": "DropdownModel",
      "state": {
       "_options_labels": [
        "kürzere",
        "längere",
        " "
       ],
       "index": 2,
       "layout": "IPY_MODEL_fb640dce9bd74e3f92dc04abfcc72033",
       "style": "IPY_MODEL_29b0200793994af6a39b10d318846a9c"
      }
     },
     "74ad3ed7cdcf442c9cda58a5c2c2a4fe": {
      "model_module": "@jupyter-widgets/controls",
      "model_module_version": "1.5.0",
      "model_name": "DescriptionStyleModel",
      "state": {
       "description_width": ""
      }
     },
     "751f3a40baef49be8f2261a1db79ee44": {
      "model_module": "@jupyter-widgets/base",
      "model_module_version": "1.2.0",
      "model_name": "LayoutModel",
      "state": {
       "width": "250px"
      }
     },
     "752eac3d3a0b478b9e50d3870cc8d41f": {
      "model_module": "@jupyter-widgets/controls",
      "model_module_version": "1.5.0",
      "model_name": "ButtonModel",
      "state": {
       "description": "Partikel",
       "layout": "IPY_MODEL_261e012da5af47719d68ce4f45ca27b5",
       "style": "IPY_MODEL_e6d4368cae654683b354f408d57cbd93"
      }
     },
     "754a7bb53783446f841fac677ba76439": {
      "model_module": "@jupyter-widgets/controls",
      "model_module_version": "1.5.0",
      "model_name": "ButtonStyleModel",
      "state": {}
     },
     "75922b896e24474ab0476c7f24391bc9": {
      "model_module": "@jupyter-widgets/controls",
      "model_module_version": "1.5.0",
      "model_name": "DescriptionStyleModel",
      "state": {
       "description_width": ""
      }
     },
     "764b33ca4eff47b789a9c4c8223dc4e0": {
      "model_module": "@jupyter-widgets/controls",
      "model_module_version": "1.5.0",
      "model_name": "DropdownModel",
      "state": {
       "_options_labels": [
        "Konstituente",
        "Phrase",
        " "
       ],
       "index": 0,
       "layout": "IPY_MODEL_9991029761d94702a89015ef82f8b510",
       "style": "IPY_MODEL_cc214c5f71454c6695f0d52f2ef42e96"
      }
     },
     "766a4fb22a4f414b80488f5115f66cb3": {
      "model_module": "@jupyter-widgets/controls",
      "model_module_version": "1.5.0",
      "model_name": "DescriptionStyleModel",
      "state": {
       "description_width": ""
      }
     },
     "7687ff110ff64b23a88f899e2ccf12a0": {
      "model_module": "@jupyter-widgets/controls",
      "model_module_version": "1.5.0",
      "model_name": "DescriptionStyleModel",
      "state": {
       "description_width": "initial"
      }
     },
     "76d97c0fbe2b461080ac78cf5593095e": {
      "model_module": "@jupyter-widgets/base",
      "model_module_version": "1.2.0",
      "model_name": "LayoutModel",
      "state": {}
     },
     "76ea38bd429b4086b0e5d1b1428c62c4": {
      "model_module": "@jupyter-widgets/controls",
      "model_module_version": "1.5.0",
      "model_name": "DescriptionStyleModel",
      "state": {
       "description_width": ""
      }
     },
     "775931ba2b164eacb3d87ebe6f06e0df": {
      "model_module": "@jupyter-widgets/controls",
      "model_module_version": "1.5.0",
      "model_name": "ButtonModel",
      "state": {
       "description": "Adjektiv",
       "layout": "IPY_MODEL_a150964ee16149fb8e921b8cc0fd45a9",
       "style": "IPY_MODEL_c3fe458af4db435eab1e14b2d47905a6"
      }
     },
     "77a6e32be5624dc58777a109e860c367": {
      "model_module": "@jupyter-widgets/controls",
      "model_module_version": "1.5.0",
      "model_name": "ButtonModel",
      "state": {
       "description": "Korrekt?",
       "layout": "IPY_MODEL_9d19a25d2d2a4736a11a721d8a9cc0a9",
       "style": "IPY_MODEL_1cbd0cb6769c490f81d037e3c6be98fa"
      }
     },
     "77c459db566b4bfb9220ee0b6c93a4d2": {
      "model_module": "@jupyter-widgets/controls",
      "model_module_version": "1.5.0",
      "model_name": "HTMLModel",
      "state": {
       "layout": "IPY_MODEL_83943de0091b43f286d96bfc4a1a0f37",
       "style": "IPY_MODEL_c189e0a8f108498ca69b1ec7999489e8",
       "value": "<h4 style=\"font-size:14px;\">im Englischen.</h4>"
      }
     },
     "77d0d280cb76479ca0d9a653d989741c": {
      "model_module": "@jupyter-widgets/base",
      "model_module_version": "1.2.0",
      "model_name": "LayoutModel",
      "state": {}
     },
     "77faadb7187a4caebd414a5d3b1c5f5a": {
      "model_module": "@jupyter-widgets/controls",
      "model_module_version": "1.5.0",
      "model_name": "HBoxModel",
      "state": {
       "children": [
        "IPY_MODEL_b50132f928f042cf884da8e51246d6be",
        "IPY_MODEL_fe07d20f275044eaa15e619c4c48637d"
       ],
       "layout": "IPY_MODEL_2cff9246dd9e47cdb8cd4ff5df4ec30a"
      }
     },
     "78304aa871574e41a9f1b99ba78d25bc": {
      "model_module": "@jupyter-widgets/controls",
      "model_module_version": "1.5.0",
      "model_name": "HTMLModel",
      "state": {
       "layout": "IPY_MODEL_c5bbcf83b5884986a4380f08c0939547",
       "style": "IPY_MODEL_30947eceb7fc49138753f6dfa376952d",
       "value": "<i>Wählen Sie die <ins>eine</ins> korrekte Antwort aus: </i>"
      }
     },
     "78524f60a41248b3a4e2a4502a8d4b1c": {
      "model_module": "@jupyter-widgets/controls",
      "model_module_version": "1.5.0",
      "model_name": "HTMLModel",
      "state": {
       "layout": "IPY_MODEL_89aed906270242599f4cb565bb8ca78f",
       "style": "IPY_MODEL_b5c92a5493e04da4a39375d3887de990",
       "value": "<i>Geben Sie die entsprechende Funktion anstelle des Unterstrichs ein.</i>"
      }
     },
     "787992ee76d74862b2f5daf8e609ffa3": {
      "model_module": "@jupyter-widgets/base",
      "model_module_version": "1.2.0",
      "model_name": "LayoutModel",
      "state": {
       "width": "250px"
      }
     },
     "787fdf44631a41c985681abefb8985e3": {
      "model_module": "@jupyter-widgets/controls",
      "model_module_version": "1.5.0",
      "model_name": "CheckboxModel",
      "state": {
       "description": "Nur mit einem Schritt beginnt auch eine Reise von tausend Meilen.",
       "disabled": false,
       "layout": "IPY_MODEL_fb7e1d209d6f435086b4199621db9968",
       "style": "IPY_MODEL_d77c7bcec6014c42a3abf6d32f983df4",
       "value": false
      }
     },
     "78a6b8a270544d51b4f6b3c4cf460fa4": {
      "model_module": "@jupyter-widgets/base",
      "model_module_version": "1.2.0",
      "model_name": "LayoutModel",
      "state": {
       "width": "600px"
      }
     },
     "78da35e27fe94200b39d8da961368107": {
      "model_module": "@jupyter-widgets/controls",
      "model_module_version": "1.5.0",
      "model_name": "ButtonModel",
      "state": {
       "description": "gerund",
       "layout": "IPY_MODEL_a6ce072640c54c2c9f098e49f9bbec38",
       "style": "IPY_MODEL_fdb02e9a6d684b7481a9237c3b544194"
      }
     },
     "7914205e280349dc8d3d98323a9531bd": {
      "model_module": "@jupyter-widgets/controls",
      "model_module_version": "1.5.0",
      "model_name": "ButtonModel",
      "state": {
       "description": "past participle",
       "layout": "IPY_MODEL_50b072fa4a8b4d0a91a23491f13d3b7c",
       "style": "IPY_MODEL_5c7baef0d080414da46a19b7b706bc80"
      }
     },
     "7931afa94b66448caa3cdbf816940ff0": {
      "model_module": "@jupyter-widgets/base",
      "model_module_version": "1.2.0",
      "model_name": "LayoutModel",
      "state": {
       "width": "600px"
      }
     },
     "793c6879d3c547349f02dcd95403dc69": {
      "model_module": "@jupyter-widgets/controls",
      "model_module_version": "1.5.0",
      "model_name": "ButtonModel",
      "state": {
       "description": "Keine der anderen Möglichkeiten",
       "layout": "IPY_MODEL_a2c5016c36c247cdaccbc1f4249f9283",
       "style": "IPY_MODEL_e37855ba75324c32ae6ac2f83446ebd9"
      }
     },
     "795416e94f0c41e7a9d924b51b62892e": {
      "model_module": "@jupyter-widgets/controls",
      "model_module_version": "1.5.0",
      "model_name": "HTMLModel",
      "state": {
       "layout": "IPY_MODEL_37df46df6a44449fbfc5aa5e1df2a2bb",
       "style": "IPY_MODEL_87e002ed405347ae9ccaa5b1e737c28a",
       "value": "<h4 style=\"font-size:14px;\">Was bedeutet das Tag <i>VBZ</i> im Browntagset (siehe 5.7)?</h4>"
      }
     },
     "796e41755e494cf7a7a9b404e72c96c5": {
      "model_module": "@jupyter-widgets/controls",
      "model_module_version": "1.5.0",
      "model_name": "HBoxModel",
      "state": {
       "children": [
        "IPY_MODEL_25d0a5969ba04186a5e69eb47c8a0878",
        "IPY_MODEL_b0d3aa9c82e24fc496de605b07aa9cd1"
       ],
       "layout": "IPY_MODEL_b953f18a2bf047aa9313f1d24614eb59"
      }
     },
     "79ce2d353e9b4d00a33a2aa5cd8e232e": {
      "model_module": "@jupyter-widgets/controls",
      "model_module_version": "1.5.0",
      "model_name": "DescriptionStyleModel",
      "state": {
       "description_width": ""
      }
     },
     "79e6f960c4484f9586344f6f74d0d795": {
      "model_module": "@jupyter-widgets/controls",
      "model_module_version": "1.5.0",
      "model_name": "DescriptionStyleModel",
      "state": {
       "description_width": ""
      }
     },
     "79f42d90784c46eab481203709c247c2": {
      "model_module": "@jupyter-widgets/base",
      "model_module_version": "1.2.0",
      "model_name": "LayoutModel",
      "state": {}
     },
     "7a0962695e5946bdb28512a9e4b1bb39": {
      "model_module": "@jupyter-widgets/base",
      "model_module_version": "1.2.0",
      "model_name": "LayoutModel",
      "state": {}
     },
     "7a2dd570603d4db7b24d29ea2d8936c5": {
      "model_module": "@jupyter-widgets/base",
      "model_module_version": "1.2.0",
      "model_name": "LayoutModel",
      "state": {}
     },
     "7a379c75da7143a1984b64da451ade10": {
      "model_module": "@jupyter-widgets/controls",
      "model_module_version": "1.5.0",
      "model_name": "ButtonModel",
      "state": {
       "description": "Keine der anderen Möglichkeiten",
       "layout": "IPY_MODEL_d4b881baabd24fdc9ec27782c9ae024a",
       "style": "IPY_MODEL_eccd5ebb6b7e41e3b9c942b24d3175c4"
      }
     },
     "7b530b08ecb347a7940fc0d830051a51": {
      "model_module": "@jupyter-widgets/controls",
      "model_module_version": "1.5.0",
      "model_name": "VBoxModel",
      "state": {
       "children": [
        "IPY_MODEL_a6811c44f97a4c82927f195e52b6d1eb",
        "IPY_MODEL_62723e060c884c19af5e0696229d39c8",
        "IPY_MODEL_f4a6cacc0a424425b4769ca168c31cff",
        "IPY_MODEL_0ac22328f7ad4650a4e4225bddf2cd0a"
       ],
       "layout": "IPY_MODEL_eed99dc82c2c403fb1cb3be10d43b7eb"
      }
     },
     "7b684477041e47c085eee90c63f2d62f": {
      "model_module": "@jupyter-widgets/controls",
      "model_module_version": "1.5.0",
      "model_name": "ButtonStyleModel",
      "state": {}
     },
     "7b95e47fda7b4d50b4e0a6b4c89a5192": {
      "model_module": "@jupyter-widgets/base",
      "model_module_version": "1.2.0",
      "model_name": "LayoutModel",
      "state": {}
     },
     "7bb0b9d00e7c4fdc8117b90045df4805": {
      "model_module": "@jupyter-widgets/controls",
      "model_module_version": "1.5.0",
      "model_name": "HTMLModel",
      "state": {
       "layout": "IPY_MODEL_96af9212ac0d440ca00111f9dba420cd",
       "style": "IPY_MODEL_564a900836e04fe3bbbd76a52d539792",
       "value": "<h4 style=\"font-size:14px;\">Was sind syntaktische Kriterien für Wortkategorien?</h4>"
      }
     },
     "7bbcbd846c1e4292ab8b7ef759136506": {
      "model_module": "@jupyter-widgets/base",
      "model_module_version": "1.2.0",
      "model_name": "LayoutModel",
      "state": {}
     },
     "7bf82efb0b79476684298ab3144a6999": {
      "model_module": "@jupyter-widgets/controls",
      "model_module_version": "1.5.0",
      "model_name": "DescriptionStyleModel",
      "state": {
       "description_width": "initial"
      }
     },
     "7c2b9d31783441879b7a0c5d101cde57": {
      "model_module": "@jupyter-widgets/base",
      "model_module_version": "1.2.0",
      "model_name": "LayoutModel",
      "state": {
       "justify_content": "center"
      }
     },
     "7c4ec3e42a8d4807bddc5902d6b58a9e": {
      "model_module": "@jupyter-widgets/controls",
      "model_module_version": "1.5.0",
      "model_name": "ButtonStyleModel",
      "state": {}
     },
     "7cb1f9c3958a4139ae76460608daeddb": {
      "model_module": "@jupyter-widgets/base",
      "model_module_version": "1.2.0",
      "model_name": "LayoutModel",
      "state": {
       "width": "600px"
      }
     },
     "7cde3950b15446c7b435def80c90c846": {
      "model_module": "@jupyter-widgets/base",
      "model_module_version": "1.2.0",
      "model_name": "LayoutModel",
      "state": {}
     },
     "7d3596b7e8314a9ea180a944cc9dcfd0": {
      "model_module": "@jupyter-widgets/controls",
      "model_module_version": "1.5.0",
      "model_name": "HTMLModel",
      "state": {
       "layout": "IPY_MODEL_2426cd7876114bc89c687f665f8df4ce",
       "style": "IPY_MODEL_17a1a30d3d1944ef95c58091bfae92a2",
       "value": "<i>Markieren Sie <ins>alle</ins> passenden Antworten: </i>"
      }
     },
     "7d5a25856a4745279101073745e46d60": {
      "model_module": "@jupyter-widgets/controls",
      "model_module_version": "1.5.0",
      "model_name": "DescriptionStyleModel",
      "state": {
       "description_width": "initial"
      }
     },
     "7de5be379a474916bc03edb81c78db76": {
      "model_module": "@jupyter-widgets/base",
      "model_module_version": "1.2.0",
      "model_name": "LayoutModel",
      "state": {
       "width": "150px"
      }
     },
     "7dff540f9b88498ebd00abc0c40169a7": {
      "model_module": "@jupyter-widgets/controls",
      "model_module_version": "1.5.0",
      "model_name": "ButtonModel",
      "state": {
       "description": "Adverb",
       "layout": "IPY_MODEL_787992ee76d74862b2f5daf8e609ffa3",
       "style": "IPY_MODEL_5d8c3239e5a547d785e264b07da63c0f"
      }
     },
     "7e505e1f0a6d40049160530ca973235e": {
      "model_module": "@jupyter-widgets/base",
      "model_module_version": "1.2.0",
      "model_name": "LayoutModel",
      "state": {
       "width": "600px"
      }
     },
     "7e528f7efdec45d0b31943aefbcf9c64": {
      "model_module": "@jupyter-widgets/base",
      "model_module_version": "1.2.0",
      "model_name": "LayoutModel",
      "state": {
       "width": "250px"
      }
     },
     "7e7f78a21f9549bd892db3c8a134d263": {
      "model_module": "@jupyter-widgets/controls",
      "model_module_version": "1.5.0",
      "model_name": "HTMLModel",
      "state": {
       "layout": "IPY_MODEL_526432b4f1294da0bdfac2ba20dcaaf3",
       "style": "IPY_MODEL_844f308f3ff448c0ad4c969549ae4599",
       "value": "<h4 style=\"font-size:14px;\">Phrasen verkettet werden können. Das Ergebnis ist eine Phrase des gleichen Typs, also der gleichen</h4>"
      }
     },
     "7ed31fa19cd54f0ab9ade8552db35fda": {
      "model_module": "@jupyter-widgets/base",
      "model_module_version": "1.2.0",
      "model_name": "LayoutModel",
      "state": {
       "justify_content": "center"
      }
     },
     "7edd4c683cb64cffa9bb4adc758b00f0": {
      "model_module": "@jupyter-widgets/controls",
      "model_module_version": "1.5.0",
      "model_name": "HBoxModel",
      "state": {
       "children": [
        "IPY_MODEL_7a379c75da7143a1984b64da451ade10"
       ],
       "layout": "IPY_MODEL_df59282f16ee47c99e726c85a36a8804"
      }
     },
     "7eeeb7e90fd244198ad1ab39df69d943": {
      "model_module": "@jupyter-widgets/base",
      "model_module_version": "1.2.0",
      "model_name": "LayoutModel",
      "state": {}
     },
     "7efc64d6d6024f5f8d04ba2ac4e74289": {
      "model_module": "@jupyter-widgets/controls",
      "model_module_version": "1.5.0",
      "model_name": "ButtonModel",
      "state": {
       "description": "Korrekt?",
       "layout": "IPY_MODEL_43ddc2a1301649729d3ef1bd6e1643c0",
       "style": "IPY_MODEL_f1f4465fbe7d4c278466d2c8ba516256"
      }
     },
     "7f02499c72e049bda2ef220534f967d1": {
      "model_module": "@jupyter-widgets/base",
      "model_module_version": "1.2.0",
      "model_name": "LayoutModel",
      "state": {}
     },
     "7f35b4fa3a4b4d94a4d439b8f09a8e3e": {
      "model_module": "@jupyter-widgets/controls",
      "model_module_version": "1.5.0",
      "model_name": "VBoxModel",
      "state": {
       "children": [
        "IPY_MODEL_ba6dc3df52834657b70c4033304905af",
        "IPY_MODEL_35c165880070461fb9558f83b92b76a7",
        "IPY_MODEL_0bb12edad75b47aba2b6213b163bd95c",
        "IPY_MODEL_59c9fec7f9f843d8ad12316fea0b0164"
       ],
       "layout": "IPY_MODEL_eef767e1f921493abcbe42117357e51a"
      }
     },
     "7fa6f69195f84781a74d3dc4f12973ad": {
      "model_module": "@jupyter-widgets/base",
      "model_module_version": "1.2.0",
      "model_name": "LayoutModel",
      "state": {
       "width": "250px"
      }
     },
     "7fa88dd49ea8408dae461c4a1360bd8a": {
      "model_module": "@jupyter-widgets/controls",
      "model_module_version": "1.5.0",
      "model_name": "DescriptionStyleModel",
      "state": {
       "description_width": ""
      }
     },
     "7fcc832ef19046a4904d30ccf73add21": {
      "model_module": "@jupyter-widgets/controls",
      "model_module_version": "1.5.0",
      "model_name": "VBoxModel",
      "state": {
       "children": [
        "IPY_MODEL_140d3e685db0429da11e6fcfc5abbf1b",
        "IPY_MODEL_abb1b53a44c74b50bf4a10bd243878ff",
        "IPY_MODEL_ad433e4bdffa4c3fb32c4f2b96b68567",
        "IPY_MODEL_be4c5ff041ba4f0080027e1eef5f8159"
       ],
       "layout": "IPY_MODEL_4f7d0beab396423fb06ef859d0d027b3"
      }
     },
     "7ff3995ef37e488897cfce11331283ac": {
      "model_module": "@jupyter-widgets/controls",
      "model_module_version": "1.5.0",
      "model_name": "HTMLModel",
      "state": {
       "layout": "IPY_MODEL_686d5244b7324df09cf0d8b6e60af0f8",
       "style": "IPY_MODEL_a85a47a24a42435da191555ced17c9ac",
       "value": "<h4 style=\"font-size:14px;\">umfasst die</h4>"
      }
     },
     "8002cb757ade41c781e3dd3c1bb61b5f": {
      "model_module": "@jupyter-widgets/base",
      "model_module_version": "1.2.0",
      "model_name": "LayoutModel",
      "state": {
       "width": "150px"
      }
     },
     "80074657d18f41e9998aabf0e42a1c12": {
      "model_module": "@jupyter-widgets/controls",
      "model_module_version": "1.5.0",
      "model_name": "ButtonModel",
      "state": {
       "description": "3rd singular present",
       "layout": "IPY_MODEL_a9c8657c9e544bf585351fa0236ff472",
       "style": "IPY_MODEL_fd0e35d799464102824d0b8432c221a7"
      }
     },
     "801afd7a1fd34a9e97ee7f52de5898f8": {
      "model_module": "@jupyter-widgets/base",
      "model_module_version": "1.2.0",
      "model_name": "LayoutModel",
      "state": {}
     },
     "807e838a8383423db1957b95058a96e8": {
      "model_module": "@jupyter-widgets/controls",
      "model_module_version": "1.5.0",
      "model_name": "DescriptionStyleModel",
      "state": {
       "description_width": ""
      }
     },
     "80b1e2be46a54663be0402c5f9863e2c": {
      "model_module": "@jupyter-widgets/controls",
      "model_module_version": "1.5.0",
      "model_name": "HTMLModel",
      "state": {
       "layout": "IPY_MODEL_38b5bb96b52e4b36acac55e202b252df",
       "style": "IPY_MODEL_458f752b7680459b9138945c13b844fc",
       "value": "<i>Vervollständigen Sie den Lückentext: </i>"
      }
     },
     "80efcda924f7416bbc741ad146b69f7b": {
      "model_module": "@jupyter-widgets/controls",
      "model_module_version": "1.5.0",
      "model_name": "DescriptionStyleModel",
      "state": {
       "description_width": ""
      }
     },
     "81a4cb76cb194df88ae2c9a5cfd8dc2a": {
      "model_module": "@jupyter-widgets/controls",
      "model_module_version": "1.5.0",
      "model_name": "DescriptionStyleModel",
      "state": {
       "description_width": ""
      }
     },
     "81cd72886c2a49a89076d3753161963d": {
      "model_module": "@jupyter-widgets/base",
      "model_module_version": "1.2.0",
      "model_name": "LayoutModel",
      "state": {}
     },
     "81dcfba7c086419ead98ec87394ecb42": {
      "model_module": "@jupyter-widgets/controls",
      "model_module_version": "1.5.0",
      "model_name": "ButtonModel",
      "state": {
       "description": "Lösung zeigen",
       "layout": "IPY_MODEL_8002cb757ade41c781e3dd3c1bb61b5f",
       "style": "IPY_MODEL_1fd22afb8d7d427ead6bd0f8f87ab9f2"
      }
     },
     "8208d34a6210410591accbb86e4fcfac": {
      "model_module": "@jupyter-widgets/base",
      "model_module_version": "1.2.0",
      "model_name": "LayoutModel",
      "state": {
       "justify_content": "center"
      }
     },
     "826e6525d53342678bfb91cf7be0f873": {
      "model_module": "@jupyter-widgets/controls",
      "model_module_version": "1.5.0",
      "model_name": "HTMLModel",
      "state": {
       "layout": "IPY_MODEL_cea54cfec8024d4484d5a1c61004dde0",
       "style": "IPY_MODEL_d8c56480b27344109ee42a58fd669e97",
       "value": "<i>Wählen Sie die <ins>eine</ins> korrekte Antwort aus: </i>"
      }
     },
     "82904930552e4108a7bba80e2990a054": {
      "model_module": "@jupyter-widgets/controls",
      "model_module_version": "1.5.0",
      "model_name": "ButtonModel",
      "state": {
       "description": "Korrekt?",
       "layout": "IPY_MODEL_b960c29639ba4ef0b0fd4baa2356acbb",
       "style": "IPY_MODEL_8f33ed23bf8f4c8fbabb85a3b304d164"
      }
     },
     "82f64159e5994c238d50fe77d2065e50": {
      "model_module": "@jupyter-widgets/controls",
      "model_module_version": "1.5.0",
      "model_name": "HBoxModel",
      "state": {
       "children": [
        "IPY_MODEL_e81a6a885b9746168c7d509cdf8a4907",
        "IPY_MODEL_ec3b1f55d1714161bffeb454f933f542"
       ],
       "layout": "IPY_MODEL_0199960b33f24385971bdc30c6f0d182"
      }
     },
     "8327935f0fd14209a4249b46571f9203": {
      "model_module": "@jupyter-widgets/base",
      "model_module_version": "1.2.0",
      "model_name": "LayoutModel",
      "state": {
       "width": "250px"
      }
     },
     "837b9c1168c94c8cb3395249312a08c0": {
      "model_module": "@jupyter-widgets/base",
      "model_module_version": "1.2.0",
      "model_name": "LayoutModel",
      "state": {
       "width": "250px"
      }
     },
     "83943de0091b43f286d96bfc4a1a0f37": {
      "model_module": "@jupyter-widgets/base",
      "model_module_version": "1.2.0",
      "model_name": "LayoutModel",
      "state": {}
     },
     "840923520d15458194abd785eb25cb2d": {
      "model_module": "@jupyter-widgets/controls",
      "model_module_version": "1.5.0",
      "model_name": "ButtonStyleModel",
      "state": {}
     },
     "8424f1ff1bef481fb34607f18b0a7d1f": {
      "model_module": "@jupyter-widgets/controls",
      "model_module_version": "1.5.0",
      "model_name": "DescriptionStyleModel",
      "state": {
       "description_width": ""
      }
     },
     "844f308f3ff448c0ad4c969549ae4599": {
      "model_module": "@jupyter-widgets/controls",
      "model_module_version": "1.5.0",
      "model_name": "DescriptionStyleModel",
      "state": {
       "description_width": ""
      }
     },
     "84cf1803afbe4393b2001fc107f2d43c": {
      "model_module": "@jupyter-widgets/base",
      "model_module_version": "1.2.0",
      "model_name": "LayoutModel",
      "state": {
       "width": "250px"
      }
     },
     "84e9ce6357d84e3dbe4674b08f6bcad0": {
      "model_module": "@jupyter-widgets/base",
      "model_module_version": "1.2.0",
      "model_name": "LayoutModel",
      "state": {
       "width": "600px"
      }
     },
     "853a0f5c79f94e6e9b5a862984943394": {
      "model_module": "@jupyter-widgets/base",
      "model_module_version": "1.2.0",
      "model_name": "LayoutModel",
      "state": {}
     },
     "854333aea7d44d199a2bb4d35367cf5a": {
      "model_module": "@jupyter-widgets/controls",
      "model_module_version": "1.5.0",
      "model_name": "DescriptionStyleModel",
      "state": {
       "description_width": ""
      }
     },
     "858b37afdd154421b213faaef723e171": {
      "model_module": "@jupyter-widgets/controls",
      "model_module_version": "1.5.0",
      "model_name": "ButtonModel",
      "state": {
       "description": "3rd singular present",
       "layout": "IPY_MODEL_63333a3eeac34f5ca391bc8f3aa3e9c1",
       "style": "IPY_MODEL_1adf45bf53ea4200b044b7df97104bd4"
      }
     },
     "859360f1f9794bd99ae171301d8b45c1": {
      "model_module": "@jupyter-widgets/controls",
      "model_module_version": "1.5.0",
      "model_name": "HTMLModel",
      "state": {
       "layout": "IPY_MODEL_491a44485c1e4e909304837cf2b2c88f",
       "style": "IPY_MODEL_31a2eab8b2da450aa685402ab5483980",
       "value": "<h4 style=\"font-size:14px;\">Wie wirt der POS-Tagger im NLTK aufgerufen?</h4>"
      }
     },
     "859ccfe12e9d4c4a9a5f7f25ee7d8ec7": {
      "model_module": "@jupyter-widgets/controls",
      "model_module_version": "1.5.0",
      "model_name": "DropdownModel",
      "state": {
       "_options_labels": [
        "Konstituente",
        "Phrase",
        " "
       ],
       "index": 2,
       "layout": "IPY_MODEL_33ba865f3c544fcf8ed0d2d31bd49ea7",
       "style": "IPY_MODEL_10d8aeaf7acc4ddea2184ca236b34f91"
      }
     },
     "85b9c0574eee44358089ff99d7a60461": {
      "model_module": "@jupyter-widgets/controls",
      "model_module_version": "1.5.0",
      "model_name": "VBoxModel",
      "state": {
       "children": [
        "IPY_MODEL_61001c649ccb41988080d0e3cbecc8b5",
        "IPY_MODEL_0cd8abdb2e934550bdddc954117bf2c9",
        "IPY_MODEL_303be143e7b04ce4b7225170c160e05d",
        "IPY_MODEL_d09f9ec6cf224f10af9c79f09ce5b147"
       ],
       "layout": "IPY_MODEL_4d12b59c3c95411795767c1d19ee6051"
      }
     },
     "86265e28192e44719ab9d43bc0528c49": {
      "model_module": "@jupyter-widgets/controls",
      "model_module_version": "1.5.0",
      "model_name": "VBoxModel",
      "state": {
       "children": [
        "IPY_MODEL_0fbb28f5f2b7467490e1004216584ab2",
        "IPY_MODEL_99bdb23d5e49444aa13a0c6ef259f55c",
        "IPY_MODEL_29e8295895d44b59bca613abc9eca36e",
        "IPY_MODEL_95f2c9e9a6d04bfeaad751c5044a0146",
        "IPY_MODEL_5217bdec0a2c47c18f19df07f79a84a8"
       ],
       "layout": "IPY_MODEL_4747e9b3af21417b8839c4dec51a58fb"
      }
     },
     "862c025f3abf4cc68d99723646d8b144": {
      "model_module": "@jupyter-widgets/controls",
      "model_module_version": "1.5.0",
      "model_name": "HTMLModel",
      "state": {
       "layout": "IPY_MODEL_42aa27c3f6fc49b0aa8f252db905201c",
       "style": "IPY_MODEL_81a4cb76cb194df88ae2c9a5cfd8dc2a",
       "value": "<h4 style=\"font-size:14px;\">durch eine</h4>"
      }
     },
     "867138d3f028450baaddfe3d57a2c68a": {
      "model_module": "@jupyter-widgets/controls",
      "model_module_version": "1.5.0",
      "model_name": "ButtonModel",
      "state": {
       "description": "base",
       "layout": "IPY_MODEL_434f96154cd648789e1a0e0beaa5bc48",
       "style": "IPY_MODEL_fcf2beed325f489bb271cfd9266e3849"
      }
     },
     "86d220a80c70469c81262e638191ab69": {
      "model_module": "@jupyter-widgets/controls",
      "model_module_version": "1.5.0",
      "model_name": "CheckboxModel",
      "state": {
       "description": "gleiche syntagmatische Position",
       "disabled": false,
       "layout": "IPY_MODEL_18a71fad30eb4fa7bd4ff8ff1c901615",
       "style": "IPY_MODEL_3ea1482438b8419bacbe4225155e6c88",
       "value": false
      }
     },
     "86d6fd8624bf44fcae66e584f41a0916": {
      "model_module": "@jupyter-widgets/controls",
      "model_module_version": "1.5.0",
      "model_name": "DescriptionStyleModel",
      "state": {
       "description_width": ""
      }
     },
     "87223edd40494ecdba84c5f282789fa3": {
      "model_module": "@jupyter-widgets/controls",
      "model_module_version": "1.5.0",
      "model_name": "DescriptionStyleModel",
      "state": {
       "description_width": ""
      }
     },
     "8735bcff6d86483d8c4a1c6e12493987": {
      "model_module": "@jupyter-widgets/controls",
      "model_module_version": "1.5.0",
      "model_name": "ButtonStyleModel",
      "state": {}
     },
     "87a61cf2696f4196bafd37f279261bf0": {
      "model_module": "@jupyter-widgets/controls",
      "model_module_version": "1.5.0",
      "model_name": "ButtonStyleModel",
      "state": {}
     },
     "87b64cd2bb7c4f059ebcd53e1ba2a1f9": {
      "model_module": "@jupyter-widgets/base",
      "model_module_version": "1.2.0",
      "model_name": "LayoutModel",
      "state": {}
     },
     "87c83875fbd24646adac9a6fa420a489": {
      "model_module": "@jupyter-widgets/controls",
      "model_module_version": "1.5.0",
      "model_name": "ButtonModel",
      "state": {
       "description": "Keine der anderen Möglichkeiten",
       "layout": "IPY_MODEL_b8acd08c6df44c3abf1815a965d2b526",
       "style": "IPY_MODEL_e0920a9d57854086bb84d6b581de0dc2"
      }
     },
     "87da5f831c3849c4bf5a10fd36bfa1a8": {
      "model_module": "@jupyter-widgets/controls",
      "model_module_version": "1.5.0",
      "model_name": "DescriptionStyleModel",
      "state": {
       "description_width": ""
      }
     },
     "87e002ed405347ae9ccaa5b1e737c28a": {
      "model_module": "@jupyter-widgets/controls",
      "model_module_version": "1.5.0",
      "model_name": "DescriptionStyleModel",
      "state": {
       "description_width": ""
      }
     },
     "886c67b753734c85869966b9f02bfd17": {
      "model_module": "@jupyter-widgets/controls",
      "model_module_version": "1.5.0",
      "model_name": "DescriptionStyleModel",
      "state": {
       "description_width": ""
      }
     },
     "88961a58ef8742b0a75f450d5b923135": {
      "model_module": "@jupyter-widgets/controls",
      "model_module_version": "1.5.0",
      "model_name": "ButtonStyleModel",
      "state": {}
     },
     "8988a8a7fd2a4e00954f5354a3ac5320": {
      "model_module": "@jupyter-widgets/controls",
      "model_module_version": "1.5.0",
      "model_name": "ButtonModel",
      "state": {
       "description": "gerund",
       "layout": "IPY_MODEL_5ad992f2f632489896aefeff36fec0df",
       "style": "IPY_MODEL_d620106d76f64e6abbed3958f72bcd4f"
      }
     },
     "89aed906270242599f4cb565bb8ca78f": {
      "model_module": "@jupyter-widgets/base",
      "model_module_version": "1.2.0",
      "model_name": "LayoutModel",
      "state": {}
     },
     "89b4e6237c7a4f05a1a51bd084161a77": {
      "model_module": "@jupyter-widgets/controls",
      "model_module_version": "1.5.0",
      "model_name": "ButtonModel",
      "state": {
       "description": "past participle",
       "layout": "IPY_MODEL_b7695ad2ddef4dca8e3b55eb28dfeeac",
       "style": "IPY_MODEL_2dc18c3b3f374aaa84bd840debd592bc"
      }
     },
     "89cd6e9822d74b7cb575ac4102b4505a": {
      "model_module": "@jupyter-widgets/base",
      "model_module_version": "1.2.0",
      "model_name": "LayoutModel",
      "state": {
       "width": "250px"
      }
     },
     "89d7243fa1fe4779b3bc08ab54ca4602": {
      "model_module": "@jupyter-widgets/controls",
      "model_module_version": "1.5.0",
      "model_name": "ButtonModel",
      "state": {
       "description": "Korrekt?",
       "layout": "IPY_MODEL_2eb861931cb0450098ae532675b4b6ff",
       "style": "IPY_MODEL_2fb2d6253996433ba7fdd25b086154fc"
      }
     },
     "8a0772768e2840d5abd213cf78929aad": {
      "model_module": "@jupyter-widgets/controls",
      "model_module_version": "1.5.0",
      "model_name": "HTMLModel",
      "state": {
       "layout": "IPY_MODEL_1248e1fb754d41579c6f145ee5089ec3",
       "style": "IPY_MODEL_79e6f960c4484f9586344f6f74d0d795",
       "value": "<h4 style=\"font-size:14px;\">. Es gehört zu einer komplexen</h4>"
      }
     },
     "8a08a3287e4e474187119e39a5fe9e35": {
      "model_module": "@jupyter-widgets/controls",
      "model_module_version": "1.5.0",
      "model_name": "ButtonStyleModel",
      "state": {}
     },
     "8a28be463c7347c692df0677b8b16bad": {
      "model_module": "@jupyter-widgets/base",
      "model_module_version": "1.2.0",
      "model_name": "LayoutModel",
      "state": {}
     },
     "8a496ecf77dd41aaadf210760eaae160": {
      "model_module": "@jupyter-widgets/controls",
      "model_module_version": "1.5.0",
      "model_name": "ButtonStyleModel",
      "state": {}
     },
     "8a54dabbb8e349d6b45c781a317d83c7": {
      "model_module": "@jupyter-widgets/base",
      "model_module_version": "1.2.0",
      "model_name": "LayoutModel",
      "state": {}
     },
     "8abc1751db48434c91841ab01fc72516": {
      "model_module": "@jupyter-widgets/base",
      "model_module_version": "1.2.0",
      "model_name": "LayoutModel",
      "state": {
       "justify_content": "center"
      }
     },
     "8ae91c2d7e4d47099e759e3ec2e3e6c6": {
      "model_module": "@jupyter-widgets/controls",
      "model_module_version": "1.5.0",
      "model_name": "ButtonModel",
      "state": {
       "description": "Keine der anderen Möglichkeiten",
       "layout": "IPY_MODEL_0ae3bd758fe84d8b89c166f692a84876",
       "style": "IPY_MODEL_dc9a82b0e52f41fba78f60e79b2b2185"
      }
     },
     "8aedf036625f48d387d18e1e49020b73": {
      "model_module": "@jupyter-widgets/controls",
      "model_module_version": "1.5.0",
      "model_name": "DescriptionStyleModel",
      "state": {
       "description_width": ""
      }
     },
     "8b11e38939f54a8a812efbc602716532": {
      "model_module": "@jupyter-widgets/base",
      "model_module_version": "1.2.0",
      "model_name": "LayoutModel",
      "state": {
       "width": "250px"
      }
     },
     "8b182d6739fb487ab2aa204b9e2015e0": {
      "model_module": "@jupyter-widgets/controls",
      "model_module_version": "1.5.0",
      "model_name": "ButtonStyleModel",
      "state": {}
     },
     "8b3689a82e9141afb7354d1476219846": {
      "model_module": "@jupyter-widgets/controls",
      "model_module_version": "1.5.0",
      "model_name": "DescriptionStyleModel",
      "state": {
       "description_width": "initial"
      }
     },
     "8b390b053d63413fba1b859b3962a437": {
      "model_module": "@jupyter-widgets/controls",
      "model_module_version": "1.5.0",
      "model_name": "CheckboxModel",
      "state": {
       "description": "Koordinationstest",
       "disabled": false,
       "layout": "IPY_MODEL_fce4e199a91143baad6983e30099975f",
       "style": "IPY_MODEL_710e3ed2ba5f4f4391303121027367c7",
       "value": false
      }
     },
     "8b955a8d74df4addbd93798ef7f36574": {
      "model_module": "@jupyter-widgets/base",
      "model_module_version": "1.2.0",
      "model_name": "LayoutModel",
      "state": {}
     },
     "8ba1f5eaeffa4dbe8c2aad04b98ff0eb": {
      "model_module": "@jupyter-widgets/base",
      "model_module_version": "1.2.0",
      "model_name": "LayoutModel",
      "state": {
       "width": "250px"
      }
     },
     "8be7b05f85cc461291b7ba849be860ff": {
      "model_module": "@jupyter-widgets/controls",
      "model_module_version": "1.5.0",
      "model_name": "HBoxModel",
      "state": {
       "children": [
        "IPY_MODEL_032c2499ca2441c4926bce720dbab931"
       ],
       "layout": "IPY_MODEL_a1c886e477b24b5daffdba874528e05f"
      }
     },
     "8bef8515a58845c48fcf2d7a9748090f": {
      "model_module": "@jupyter-widgets/controls",
      "model_module_version": "1.5.0",
      "model_name": "DropdownModel",
      "state": {
       "_options_labels": [
        " ",
        "NP",
        "PP",
        "VP",
        " "
       ],
       "index": 3,
       "layout": "IPY_MODEL_6cef14e40bf44f4eab5ae0c7f893d2d2",
       "style": "IPY_MODEL_092085f9cd244a4aa75b9d1a6fce9d4c"
      }
     },
     "8bf7fed136b148e4b0cf45db912e069f": {
      "model_module": "@jupyter-widgets/controls",
      "model_module_version": "1.5.0",
      "model_name": "DescriptionStyleModel",
      "state": {
       "description_width": "initial"
      }
     },
     "8c1317427e2644dfa1e1cbbcfbddca67": {
      "model_module": "@jupyter-widgets/base",
      "model_module_version": "1.2.0",
      "model_name": "LayoutModel",
      "state": {
       "width": "250px"
      }
     },
     "8c716d2374da43aabc2ce9f0111a72da": {
      "model_module": "@jupyter-widgets/controls",
      "model_module_version": "1.5.0",
      "model_name": "DescriptionStyleModel",
      "state": {
       "description_width": ""
      }
     },
     "8cba596bb15545a099c5522f453da002": {
      "model_module": "@jupyter-widgets/controls",
      "model_module_version": "1.5.0",
      "model_name": "HTMLModel",
      "state": {
       "layout": "IPY_MODEL_40bae55292e547cfb3c06342809a73c3",
       "style": "IPY_MODEL_beef2561e8f84f01b58cef4e71f21d9c",
       "value": "<i>Geben Sie die entsprechende Funktion anstelle des Unterstrichs ein.</i>"
      }
     },
     "8d5646d94378420fb457d853c03704fe": {
      "model_module": "@jupyter-widgets/controls",
      "model_module_version": "1.5.0",
      "model_name": "DescriptionStyleModel",
      "state": {
       "description_width": "initial"
      }
     },
     "8d6b659c91ed4917a4f68b97c1cc9b79": {
      "model_module": "@jupyter-widgets/controls",
      "model_module_version": "1.5.0",
      "model_name": "DescriptionStyleModel",
      "state": {
       "description_width": ""
      }
     },
     "8de2a6d3e37640d7b055815854c636e9": {
      "model_module": "@jupyter-widgets/base",
      "model_module_version": "1.2.0",
      "model_name": "LayoutModel",
      "state": {}
     },
     "8df1322cb7fc46259c93d6a1967dcb34": {
      "model_module": "@jupyter-widgets/controls",
      "model_module_version": "1.5.0",
      "model_name": "DescriptionStyleModel",
      "state": {
       "description_width": "initial"
      }
     },
     "8e7e3dd66a714fa8a66d577fdbede45b": {
      "model_module": "@jupyter-widgets/base",
      "model_module_version": "1.2.0",
      "model_name": "LayoutModel",
      "state": {
       "justify_content": "center"
      }
     },
     "8eac09e75c994b4a922a314dcff7aeb9": {
      "model_module": "@jupyter-widgets/controls",
      "model_module_version": "1.5.0",
      "model_name": "HTMLModel",
      "state": {
       "layout": "IPY_MODEL_18381b6ebbf743ccae465a8e088d47ac",
       "style": "IPY_MODEL_8aedf036625f48d387d18e1e49020b73",
       "value": "<i>Wählen Sie die <ins>eine</ins> korrekte Antwort aus: </i>"
      }
     },
     "8edbd4d4122a415f8b1cd8452ae49a5a": {
      "model_module": "@jupyter-widgets/base",
      "model_module_version": "1.2.0",
      "model_name": "LayoutModel",
      "state": {
       "width": "150px"
      }
     },
     "8f006a5887554dabb25ba3071bc88082": {
      "model_module": "@jupyter-widgets/base",
      "model_module_version": "1.2.0",
      "model_name": "LayoutModel",
      "state": {
       "width": "150px"
      }
     },
     "8f33ed23bf8f4c8fbabb85a3b304d164": {
      "model_module": "@jupyter-widgets/controls",
      "model_module_version": "1.5.0",
      "model_name": "ButtonStyleModel",
      "state": {}
     },
     "8fb43da704914bcfaa593254433c8318": {
      "model_module": "@jupyter-widgets/base",
      "model_module_version": "1.2.0",
      "model_name": "LayoutModel",
      "state": {
       "width": "600px"
      }
     },
     "8fb5f976803a43689d682c595de75f9f": {
      "model_module": "@jupyter-widgets/base",
      "model_module_version": "1.2.0",
      "model_name": "LayoutModel",
      "state": {}
     },
     "90a1d8293aec4f87befeb62e03dc13e3": {
      "model_module": "@jupyter-widgets/controls",
      "model_module_version": "1.5.0",
      "model_name": "HBoxModel",
      "state": {
       "children": [
        "IPY_MODEL_efa14cd4f4234e5f879681dccff5bb7b",
        "IPY_MODEL_aa2210d67a75459ab48acaf19c23b440"
       ],
       "layout": "IPY_MODEL_ae358c621b414a628cc9f197e6cddfdf"
      }
     },
     "912a037a245047f4a66819d34f23a641": {
      "model_module": "@jupyter-widgets/base",
      "model_module_version": "1.2.0",
      "model_name": "LayoutModel",
      "state": {}
     },
     "912b3363be404b748e7ba536c4b7b6ab": {
      "model_module": "@jupyter-widgets/controls",
      "model_module_version": "1.5.0",
      "model_name": "DescriptionStyleModel",
      "state": {
       "description_width": ""
      }
     },
     "917472e4af984b5bb695a02c5b9aa1d9": {
      "model_module": "@jupyter-widgets/controls",
      "model_module_version": "1.5.0",
      "model_name": "HTMLModel",
      "state": {
       "layout": "IPY_MODEL_0fedc96f9b4d41be8005e6f177b70c73",
       "style": "IPY_MODEL_b790429c47534a9087dcfcd040268383",
       "value": "<h4 style=\"font-size:14px;\">Welche Wortart könnte man für das Wort <i>gut</i> in Satz 2 vermuten, wenn man Adverbien nicht morphologisch, sondern semantisch charakterisiert (als Wortart, die der Modifizierung des Verbalgeschehens dient)?</h4>"
      }
     },
     "920c4007be074f4586915c8934bc37c3": {
      "model_module": "@jupyter-widgets/controls",
      "model_module_version": "1.5.0",
      "model_name": "DescriptionStyleModel",
      "state": {
       "description_width": ""
      }
     },
     "9254f783b53549aa9d3dfb25d6b44789": {
      "model_module": "@jupyter-widgets/base",
      "model_module_version": "1.2.0",
      "model_name": "LayoutModel",
      "state": {}
     },
     "928aebf578e346b191e8ce17a04bc483": {
      "model_module": "@jupyter-widgets/controls",
      "model_module_version": "1.5.0",
      "model_name": "ButtonStyleModel",
      "state": {}
     },
     "92ecb572a8ff4be485f04a41591b85d6": {
      "model_module": "@jupyter-widgets/controls",
      "model_module_version": "1.5.0",
      "model_name": "DescriptionStyleModel",
      "state": {
       "description_width": ""
      }
     },
     "92ef83ae3b8b4fa681fb8065d559dfff": {
      "model_module": "@jupyter-widgets/controls",
      "model_module_version": "1.5.0",
      "model_name": "HTMLModel",
      "state": {
       "layout": "IPY_MODEL_2192bc7f4d0e44c5bd56abb4ecfff8ac",
       "style": "IPY_MODEL_3c25cf4d649445e9b7e19e5ba178f802",
       "value": "<h4 style=\"font-size:14px;\">, aber keine</h4>"
      }
     },
     "9306e79046aa4052ae1f53f139ed0e56": {
      "model_module": "@jupyter-widgets/base",
      "model_module_version": "1.2.0",
      "model_name": "LayoutModel",
      "state": {}
     },
     "938196b75ccd4ac5a227c9e3b7b9a8de": {
      "model_module": "@jupyter-widgets/controls",
      "model_module_version": "1.5.0",
      "model_name": "DescriptionStyleModel",
      "state": {
       "description_width": ""
      }
     },
     "938dd4f7729747988a8276e55b6399b2": {
      "model_module": "@jupyter-widgets/controls",
      "model_module_version": "1.5.0",
      "model_name": "HTMLModel",
      "state": {
       "layout": "IPY_MODEL_61d57622fe95483fb114c17cf1000023",
       "style": "IPY_MODEL_d916d2e453834df4bb6b57bd6274c393",
       "value": "<h4 style=\"font-size:14px;\">Kategorie.</h4>"
      }
     },
     "9399b70633e54dcebcbf66c92901cf1b": {
      "model_module": "@jupyter-widgets/base",
      "model_module_version": "1.2.0",
      "model_name": "LayoutModel",
      "state": {
       "width": "250px"
      }
     },
     "93bc2e2b618e438b8023cbfbfdbfd915": {
      "model_module": "@jupyter-widgets/base",
      "model_module_version": "1.2.0",
      "model_name": "LayoutModel",
      "state": {}
     },
     "93cd7cb22ac84193b67abd826010b409": {
      "model_module": "@jupyter-widgets/base",
      "model_module_version": "1.2.0",
      "model_name": "LayoutModel",
      "state": {
       "width": "250px"
      }
     },
     "93f81c7e32e948c3b9a6355404019ef7": {
      "model_module": "@jupyter-widgets/base",
      "model_module_version": "1.2.0",
      "model_name": "LayoutModel",
      "state": {}
     },
     "9405768e190e4983b3b90b5fa9809825": {
      "model_module": "@jupyter-widgets/controls",
      "model_module_version": "1.5.0",
      "model_name": "HBoxModel",
      "state": {
       "children": [
        "IPY_MODEL_f50ca64ad9104031a1aeaa94875e7d41",
        "IPY_MODEL_b437e14faa964740a1f4e9a937ae9d5e"
       ],
       "layout": "IPY_MODEL_638bb12308c4406c842a946dec233584"
      }
     },
     "94210cf917d74af09ef99f71bbafa5c6": {
      "model_module": "@jupyter-widgets/controls",
      "model_module_version": "1.5.0",
      "model_name": "HBoxModel",
      "state": {
       "children": [
        "IPY_MODEL_b0be71d018f54afe8c46a64aaa0da55d",
        "IPY_MODEL_3c772c66c7f0446aa33189425b5ba8a8"
       ],
       "layout": "IPY_MODEL_f9b2fc8b8044445b9cf45be1b5ae6f01"
      }
     },
     "945887a0ca2348989e948cfcdcac3222": {
      "model_module": "@jupyter-widgets/base",
      "model_module_version": "1.2.0",
      "model_name": "LayoutModel",
      "state": {}
     },
     "9530b7f2ebb54be7a2a149220628e317": {
      "model_module": "@jupyter-widgets/controls",
      "model_module_version": "1.5.0",
      "model_name": "ButtonModel",
      "state": {
       "description": "Korrekt?",
       "layout": "IPY_MODEL_46686051cb7d467c82cfe92b29a7bd95",
       "style": "IPY_MODEL_ccf2c0889551436c9f646241ad0445f1"
      }
     },
     "954d8a76d4ee46c0b0f1177bb36e332e": {
      "model_module": "@jupyter-widgets/controls",
      "model_module_version": "1.5.0",
      "model_name": "DescriptionStyleModel",
      "state": {
       "description_width": ""
      }
     },
     "95f2c9e9a6d04bfeaad751c5044a0146": {
      "model_module": "@jupyter-widgets/controls",
      "model_module_version": "1.5.0",
      "model_name": "HBoxModel",
      "state": {
       "children": [
        "IPY_MODEL_fc898238996841b0ae907c7b308d77ee",
        "IPY_MODEL_f0db11cf69c44a37a106e7cf3359499d"
       ],
       "layout": "IPY_MODEL_8a28be463c7347c692df0677b8b16bad"
      }
     },
     "9671637e066a4f1d8d4ab3fe7bd109ef": {
      "model_module": "@jupyter-widgets/controls",
      "model_module_version": "1.5.0",
      "model_name": "HBoxModel",
      "state": {
       "children": [
        "IPY_MODEL_9c3b9d9c68a04164ae80f1ced4497721",
        "IPY_MODEL_89b4e6237c7a4f05a1a51bd084161a77"
       ],
       "layout": "IPY_MODEL_c9572f926aa646f99187944dec30a40d"
      }
     },
     "967fb8e951e846528a9afaab044cdd5d": {
      "model_module": "@jupyter-widgets/controls",
      "model_module_version": "1.5.0",
      "model_name": "ButtonModel",
      "state": {
       "description": "base",
       "layout": "IPY_MODEL_3d149ca198e045019b141fdedfd9f1bf",
       "style": "IPY_MODEL_31d592b1152b4c358f2478bcb37e4e5a"
      }
     },
     "96af9212ac0d440ca00111f9dba420cd": {
      "model_module": "@jupyter-widgets/base",
      "model_module_version": "1.2.0",
      "model_name": "LayoutModel",
      "state": {}
     },
     "96cd3d0f5bab41a29de21809bfd056df": {
      "model_module": "@jupyter-widgets/controls",
      "model_module_version": "1.5.0",
      "model_name": "VBoxModel",
      "state": {
       "children": [
        "IPY_MODEL_18373a923ee345cbb8ca2e84779f7e44",
        "IPY_MODEL_8b390b053d63413fba1b859b3962a437",
        "IPY_MODEL_a7e72a52626048ed9f95b479f0b0ce9c",
        "IPY_MODEL_016610765ef248af9246a4d1087c6cb9"
       ],
       "layout": "IPY_MODEL_c3f6383cac75413ea4f6dafd08ad4edb"
      }
     },
     "975c22558bd64eaaab15127f0a1acdea": {
      "model_module": "@jupyter-widgets/controls",
      "model_module_version": "1.5.0",
      "model_name": "DescriptionStyleModel",
      "state": {
       "description_width": ""
      }
     },
     "977b3859bbef46b8986652f846b86be6": {
      "model_module": "@jupyter-widgets/controls",
      "model_module_version": "1.5.0",
      "model_name": "ButtonStyleModel",
      "state": {}
     },
     "977f52750a114f6bb569b4f7e5ec5087": {
      "model_module": "@jupyter-widgets/base",
      "model_module_version": "1.2.0",
      "model_name": "LayoutModel",
      "state": {
       "align_content": "stretch",
       "align_items": "stretch",
       "display": "inline-flex",
       "flex": "flex-grow",
       "flex_flow": "row wrap",
       "justify_content": "flex-start"
      }
     },
     "979ad67489f147bf83a629bfa3d42fb1": {
      "model_module": "@jupyter-widgets/controls",
      "model_module_version": "1.5.0",
      "model_name": "DropdownModel",
      "state": {
       "_options_labels": [
        "Mittelfeld",
        "Nachfeld",
        "Vorfeld",
        " "
       ],
       "index": 2,
       "layout": "IPY_MODEL_c567198da73f4466bb6835ce2d749fa0",
       "style": "IPY_MODEL_6a82e4d5cc424fa5a61c689da7055ebb"
      }
     },
     "97b66635aa7344faa8d97864f3715787": {
      "model_module": "@jupyter-widgets/base",
      "model_module_version": "1.2.0",
      "model_name": "LayoutModel",
      "state": {
       "justify_content": "center"
      }
     },
     "97b9590aee084189a5626297bcf75c47": {
      "model_module": "@jupyter-widgets/controls",
      "model_module_version": "1.5.0",
      "model_name": "DescriptionStyleModel",
      "state": {
       "description_width": "initial"
      }
     },
     "97fd2dc9359244c0bdf90e6735578407": {
      "model_module": "@jupyter-widgets/controls",
      "model_module_version": "1.5.0",
      "model_name": "DescriptionStyleModel",
      "state": {
       "description_width": ""
      }
     },
     "9835d68bbd7a493ca93f7e5f1700238e": {
      "model_module": "@jupyter-widgets/controls",
      "model_module_version": "1.5.0",
      "model_name": "ButtonModel",
      "state": {
       "description": "past participle",
       "layout": "IPY_MODEL_c7e7d410557a45faaea91c20e514a237",
       "style": "IPY_MODEL_87a61cf2696f4196bafd37f279261bf0"
      }
     },
     "9863de7b0e3b4da8ad6f88edb84739ea": {
      "model_module": "@jupyter-widgets/controls",
      "model_module_version": "1.5.0",
      "model_name": "HTMLModel",
      "state": {
       "layout": "IPY_MODEL_659384963e0f43c5be2153933214a56b",
       "style": "IPY_MODEL_0f23486fd5e743438ee20bf001681e10",
       "value": "<h4 style=\"font-size:14px;\">.</h4>"
      }
     },
     "9864bfbcf966450d8e54dcf9d7a93823": {
      "model_module": "@jupyter-widgets/controls",
      "model_module_version": "1.5.0",
      "model_name": "DropdownModel",
      "state": {
       "_options_labels": [
        "kürzere",
        "längere",
        " "
       ],
       "index": 2,
       "layout": "IPY_MODEL_44181c33bdef4e298092a15671d0f22b",
       "style": "IPY_MODEL_87da5f831c3849c4bf5a10fd36bfa1a8"
      }
     },
     "98a9a001c1784c029a9b48e320039377": {
      "model_module": "@jupyter-widgets/controls",
      "model_module_version": "1.5.0",
      "model_name": "HTMLModel",
      "state": {
       "layout": "IPY_MODEL_f936ad8a5a7046d6a129a8ed32d77616",
       "style": "IPY_MODEL_abc0dbadff6b4084b1e906d0fd315b7e",
       "value": "<h4 style=\"font-size:14px;\">.</h4>"
      }
     },
     "98b9b3d36f7b413f9c80a37a9b3971ba": {
      "model_module": "@jupyter-widgets/controls",
      "model_module_version": "1.5.0",
      "model_name": "DescriptionStyleModel",
      "state": {
       "description_width": ""
      }
     },
     "98e5e4fe85da4fd7826935cae9afb951": {
      "model_module": "@jupyter-widgets/controls",
      "model_module_version": "1.5.0",
      "model_name": "ButtonStyleModel",
      "state": {}
     },
     "99497f5c438c480ea0b6a24ed24acb2f": {
      "model_module": "@jupyter-widgets/base",
      "model_module_version": "1.2.0",
      "model_name": "LayoutModel",
      "state": {
       "width": "250px"
      }
     },
     "996b72743e5b4859b31ebcc40fcad35e": {
      "model_module": "@jupyter-widgets/controls",
      "model_module_version": "1.5.0",
      "model_name": "DescriptionStyleModel",
      "state": {
       "description_width": ""
      }
     },
     "9991029761d94702a89015ef82f8b510": {
      "model_module": "@jupyter-widgets/base",
      "model_module_version": "1.2.0",
      "model_name": "LayoutModel",
      "state": {
       "width": "150px"
      }
     },
     "99bc462b3689473b8860db9cf5462f20": {
      "model_module": "@jupyter-widgets/controls",
      "model_module_version": "1.5.0",
      "model_name": "HTMLModel",
      "state": {
       "layout": "IPY_MODEL_9254f783b53549aa9d3dfb25d6b44789",
       "style": "IPY_MODEL_76ea38bd429b4086b0e5d1b1428c62c4",
       "value": "<h4 style=\"font-size:14px;\">-Tupel von</h4>"
      }
     },
     "99bdb23d5e49444aa13a0c6ef259f55c": {
      "model_module": "@jupyter-widgets/controls",
      "model_module_version": "1.5.0",
      "model_name": "HTMLModel",
      "state": {
       "layout": "IPY_MODEL_97b66635aa7344faa8d97864f3715787",
       "style": "IPY_MODEL_920c4007be074f4586915c8934bc37c3",
       "value": "<i>Wählen Sie die <ins>eine</ins> korrekte Antwort aus: </i>"
      }
     },
     "99cf745eda9f41e98d96436018fc7879": {
      "model_module": "@jupyter-widgets/controls",
      "model_module_version": "1.5.0",
      "model_name": "HBoxModel",
      "state": {
       "children": [
        "IPY_MODEL_2d459d51cfd84c1dabceeb8edfd93aa5",
        "IPY_MODEL_a7239a843ab5447e9123661bb47716d3"
       ],
       "layout": "IPY_MODEL_60f3b42e98a4443db764746c87380e03"
      }
     },
     "9a0b0d1173a34a328207ca3679bf396b": {
      "model_module": "@jupyter-widgets/base",
      "model_module_version": "1.2.0",
      "model_name": "LayoutModel",
      "state": {}
     },
     "9a33d084efb44fd5b3e0b28317479865": {
      "model_module": "@jupyter-widgets/controls",
      "model_module_version": "1.5.0",
      "model_name": "HTMLModel",
      "state": {
       "layout": "IPY_MODEL_50e4671b5da04c248b14c50b23815a95",
       "style": "IPY_MODEL_86d6fd8624bf44fcae66e584f41a0916",
       "value": "<h4 style=\"font-size:14px;\">Wie wirt der POS-Tagger im NLTK aufgerufen?</h4>"
      }
     },
     "9afcd0bf42814f3a85c3ca3a9041ae1e": {
      "model_module": "@jupyter-widgets/controls",
      "model_module_version": "1.5.0",
      "model_name": "DescriptionStyleModel",
      "state": {
       "description_width": ""
      }
     },
     "9b8c3b4eee554d6a88f89d7a1dc6f932": {
      "model_module": "@jupyter-widgets/controls",
      "model_module_version": "1.5.0",
      "model_name": "ButtonModel",
      "state": {
       "description": "simple past",
       "layout": "IPY_MODEL_0bea9aa3d8f94b64bbd3f6e9d089ac86",
       "style": "IPY_MODEL_d0e56571d31947cfa6dbfc1ecabca1e3"
      }
     },
     "9b8d4c8792914aa5aa375cf138f65d8e": {
      "model_module": "@jupyter-widgets/controls",
      "model_module_version": "1.5.0",
      "model_name": "VBoxModel",
      "state": {
       "children": [
        "IPY_MODEL_0e56a6b2965e49979ae67eb44102c0d9",
        "IPY_MODEL_703a0d0dde934cd692fa9052465e7d91",
        "IPY_MODEL_86d220a80c70469c81262e638191ab69",
        "IPY_MODEL_e9bb9e3cf3394fc0b3bc725ad2ee63ea"
       ],
       "layout": "IPY_MODEL_8b955a8d74df4addbd93798ef7f36574"
      }
     },
     "9b9f3f8c5cad4fc5b1c0675fc31b8a1d": {
      "model_module": "@jupyter-widgets/controls",
      "model_module_version": "1.5.0",
      "model_name": "ButtonStyleModel",
      "state": {}
     },
     "9ba1f25b25ca452fae31ae43058c559e": {
      "model_module": "@jupyter-widgets/controls",
      "model_module_version": "1.5.0",
      "model_name": "HBoxModel",
      "state": {
       "children": [
        "IPY_MODEL_c341c339b5d34ca09bbe194c9f257baa",
        "IPY_MODEL_8ae91c2d7e4d47099e759e3ec2e3e6c6"
       ],
       "layout": "IPY_MODEL_26a01565c49845ebbe016df3fa21df16"
      }
     },
     "9c3b9d9c68a04164ae80f1ced4497721": {
      "model_module": "@jupyter-widgets/controls",
      "model_module_version": "1.5.0",
      "model_name": "ButtonModel",
      "state": {
       "description": "gerund",
       "layout": "IPY_MODEL_0e7341fce88040cb8879a88c958f4a55",
       "style": "IPY_MODEL_0cb00f98156844ec8cdef0a02772a265"
      }
     },
     "9c6e4d1e9b3f4637b68078b648629a4f": {
      "model_module": "@jupyter-widgets/controls",
      "model_module_version": "1.5.0",
      "model_name": "DescriptionStyleModel",
      "state": {
       "description_width": "initial"
      }
     },
     "9d19a25d2d2a4736a11a721d8a9cc0a9": {
      "model_module": "@jupyter-widgets/base",
      "model_module_version": "1.2.0",
      "model_name": "LayoutModel",
      "state": {
       "width": "250px"
      }
     },
     "9d460fbdd6d74b219d0c1cd7f2400f26": {
      "model_module": "@jupyter-widgets/controls",
      "model_module_version": "1.5.0",
      "model_name": "HTMLModel",
      "state": {
       "layout": "IPY_MODEL_a4d1db4145814cabb49c7fcb99b3a3ed",
       "style": "IPY_MODEL_a56ed8ab65064682ac98767494105a46",
       "value": "<i>Markieren Sie <ins>alle</ins> passenden Antworten: </i>"
      }
     },
     "9e9d8011f10f4c289c4571455880edb2": {
      "model_module": "@jupyter-widgets/controls",
      "model_module_version": "1.5.0",
      "model_name": "DescriptionStyleModel",
      "state": {
       "description_width": ""
      }
     },
     "9ee768bce2c14a7d9efb070f9b8b5b4f": {
      "model_module": "@jupyter-widgets/controls",
      "model_module_version": "1.5.0",
      "model_name": "ButtonModel",
      "state": {
       "description": "Korrekt?",
       "layout": "IPY_MODEL_8ba1f5eaeffa4dbe8c2aad04b98ff0eb",
       "style": "IPY_MODEL_022cc736a05147719cd6a3f6f603b414"
      }
     },
     "9f0876dad85446e79b4219fca35bf626": {
      "model_module": "@jupyter-widgets/base",
      "model_module_version": "1.2.0",
      "model_name": "LayoutModel",
      "state": {
       "width": "250px"
      }
     },
     "9f76aacb2445403abed90e72d79d3a79": {
      "model_module": "@jupyter-widgets/controls",
      "model_module_version": "1.5.0",
      "model_name": "DescriptionStyleModel",
      "state": {
       "description_width": ""
      }
     },
     "9fb4d731032f43548e157187015d550b": {
      "model_module": "@jupyter-widgets/base",
      "model_module_version": "1.2.0",
      "model_name": "LayoutModel",
      "state": {
       "width": "600px"
      }
     },
     "9ff26ce7dd034d8684b33191aa8bbda2": {
      "model_module": "@jupyter-widgets/base",
      "model_module_version": "1.2.0",
      "model_name": "LayoutModel",
      "state": {
       "width": "250px"
      }
     },
     "a000390f22c74042919fe5dd6d77e76f": {
      "model_module": "@jupyter-widgets/base",
      "model_module_version": "1.2.0",
      "model_name": "LayoutModel",
      "state": {
       "width": "600px"
      }
     },
     "a00646f77a014d898d5edc77ad4ff4ca": {
      "model_module": "@jupyter-widgets/controls",
      "model_module_version": "1.5.0",
      "model_name": "ButtonModel",
      "state": {
       "description": "Korrekt?",
       "layout": "IPY_MODEL_232d318ce74e49789abdda0889d607b4",
       "style": "IPY_MODEL_c6ad8049be044902881b7be16ae16d70"
      }
     },
     "a012ce5d974244c7bb201bd576a0666b": {
      "model_module": "@jupyter-widgets/controls",
      "model_module_version": "1.5.0",
      "model_name": "VBoxModel",
      "state": {
       "children": [
        "IPY_MODEL_bc66037572ac403ea12dbc5ad1428de7",
        "IPY_MODEL_3fb139a3551c4051aa58090ecff8c292",
        "IPY_MODEL_c3af466c24d44506b1f9260a2a49a65f"
       ],
       "layout": "IPY_MODEL_5d4a2bfec4714e8186bc12e86d4beb2e"
      }
     },
     "a02e9d164fa142c69b443b8f499d2929": {
      "model_module": "@jupyter-widgets/controls",
      "model_module_version": "1.5.0",
      "model_name": "ButtonModel",
      "state": {
       "description": "Adverb",
       "layout": "IPY_MODEL_22bb76315b0b4a06a3219ec69cc48019",
       "style": "IPY_MODEL_8a08a3287e4e474187119e39a5fe9e35"
      }
     },
     "a038fa7a3b554eb094028e5dc5fd7825": {
      "model_module": "@jupyter-widgets/base",
      "model_module_version": "1.2.0",
      "model_name": "LayoutModel",
      "state": {}
     },
     "a066b4270a7e43ceab60f437ae32880e": {
      "model_module": "@jupyter-widgets/controls",
      "model_module_version": "1.5.0",
      "model_name": "ButtonStyleModel",
      "state": {}
     },
     "a149bf8e85ec4a8ea044a5ecd7568bc9": {
      "model_module": "@jupyter-widgets/base",
      "model_module_version": "1.2.0",
      "model_name": "LayoutModel",
      "state": {}
     },
     "a150964ee16149fb8e921b8cc0fd45a9": {
      "model_module": "@jupyter-widgets/base",
      "model_module_version": "1.2.0",
      "model_name": "LayoutModel",
      "state": {
       "width": "250px"
      }
     },
     "a174b2a4fc634077b10913a4e281ecf9": {
      "model_module": "@jupyter-widgets/base",
      "model_module_version": "1.2.0",
      "model_name": "LayoutModel",
      "state": {}
     },
     "a197249906bb4433871afc1818a8a85a": {
      "model_module": "@jupyter-widgets/controls",
      "model_module_version": "1.5.0",
      "model_name": "DescriptionStyleModel",
      "state": {
       "description_width": ""
      }
     },
     "a1c886e477b24b5daffdba874528e05f": {
      "model_module": "@jupyter-widgets/base",
      "model_module_version": "1.2.0",
      "model_name": "LayoutModel",
      "state": {}
     },
     "a20b0c54a3cd421c98e663a6df54123d": {
      "model_module": "@jupyter-widgets/base",
      "model_module_version": "1.2.0",
      "model_name": "LayoutModel",
      "state": {
       "width": "250px"
      }
     },
     "a234b96246084cce9eb059eda50ed7fa": {
      "model_module": "@jupyter-widgets/base",
      "model_module_version": "1.2.0",
      "model_name": "LayoutModel",
      "state": {
       "justify_content": "center"
      }
     },
     "a269d594feaa425391756bcd18e7293f": {
      "model_module": "@jupyter-widgets/controls",
      "model_module_version": "1.5.0",
      "model_name": "DescriptionStyleModel",
      "state": {
       "description_width": ""
      }
     },
     "a278a95e4d3f4d2f8a4eae6a4c464117": {
      "model_module": "@jupyter-widgets/base",
      "model_module_version": "1.2.0",
      "model_name": "LayoutModel",
      "state": {
       "width": "600px"
      }
     },
     "a287b3cb39b84a28858d701a7b6bebc8": {
      "model_module": "@jupyter-widgets/base",
      "model_module_version": "1.2.0",
      "model_name": "LayoutModel",
      "state": {
       "justify_content": "center"
      }
     },
     "a2c5016c36c247cdaccbc1f4249f9283": {
      "model_module": "@jupyter-widgets/base",
      "model_module_version": "1.2.0",
      "model_name": "LayoutModel",
      "state": {
       "width": "250px"
      }
     },
     "a2d36f9b930b472194270287ae4f13e2": {
      "model_module": "@jupyter-widgets/base",
      "model_module_version": "1.2.0",
      "model_name": "LayoutModel",
      "state": {}
     },
     "a2e900d6a6ab433095ffabaf3767b75d": {
      "model_module": "@jupyter-widgets/base",
      "model_module_version": "1.2.0",
      "model_name": "LayoutModel",
      "state": {
       "width": "150px"
      }
     },
     "a36210a75e67433995f71dd70b8c2933": {
      "model_module": "@jupyter-widgets/controls",
      "model_module_version": "1.5.0",
      "model_name": "DescriptionStyleModel",
      "state": {
       "description_width": ""
      }
     },
     "a37a3e4581814be6b37a00d7bb90ba08": {
      "model_module": "@jupyter-widgets/controls",
      "model_module_version": "1.5.0",
      "model_name": "HTMLModel",
      "state": {
       "layout": "IPY_MODEL_6093a9bdebfa42bf9207d42594fa66d7",
       "style": "IPY_MODEL_d78e0dc4ac3c4a2e860bdacc1ab466ed",
       "value": "<i>Wählen Sie die <ins>eine</ins> korrekte Antwort aus: </i>"
      }
     },
     "a39122c401f340f39d2aaa6254e08485": {
      "model_module": "@jupyter-widgets/controls",
      "model_module_version": "1.5.0",
      "model_name": "HTMLModel",
      "state": {
       "layout": "IPY_MODEL_1b1a84aa89d447eab24ea44e463b554a",
       "style": "IPY_MODEL_4915fb5e9e4646e8a65a52d42670ce4c",
       "value": "<i>Vervollständigen Sie den Lückentext: </i>"
      }
     },
     "a43f5646eb5e4819879cb84b67ec8263": {
      "model_module": "@jupyter-widgets/base",
      "model_module_version": "1.2.0",
      "model_name": "LayoutModel",
      "state": {}
     },
     "a44651eb859c41ed8971acada950cce0": {
      "model_module": "@jupyter-widgets/controls",
      "model_module_version": "1.5.0",
      "model_name": "CheckboxModel",
      "state": {
       "description": "gleicher Kontext",
       "disabled": false,
       "layout": "IPY_MODEL_edacf970ff67497088099c7c44577a9f",
       "style": "IPY_MODEL_fa76eecf0a9441309d6bf89d89e9b457",
       "value": false
      }
     },
     "a4b91beca75248a9b3cf8f4ef49fc79a": {
      "model_module": "@jupyter-widgets/base",
      "model_module_version": "1.2.0",
      "model_name": "LayoutModel",
      "state": {
       "width": "250px"
      }
     },
     "a4c97e77185141a7af3b5a380b950f7c": {
      "model_module": "@jupyter-widgets/controls",
      "model_module_version": "1.5.0",
      "model_name": "DescriptionStyleModel",
      "state": {
       "description_width": ""
      }
     },
     "a4d1db4145814cabb49c7fcb99b3a3ed": {
      "model_module": "@jupyter-widgets/base",
      "model_module_version": "1.2.0",
      "model_name": "LayoutModel",
      "state": {
       "justify_content": "center"
      }
     },
     "a4ef7d62aee4499f89db2539a2887ff8": {
      "model_module": "@jupyter-widgets/controls",
      "model_module_version": "1.5.0",
      "model_name": "HTMLModel",
      "state": {
       "layout": "IPY_MODEL_7ed31fa19cd54f0ab9ade8552db35fda",
       "style": "IPY_MODEL_564ad36b10e74db283656c71e37e4904",
       "value": "<i>Markieren Sie <ins>alle</ins> passenden Antworten: </i>"
      }
     },
     "a5256080897e4951b1eef8261cc68a1a": {
      "model_module": "@jupyter-widgets/controls",
      "model_module_version": "1.5.0",
      "model_name": "HTMLModel",
      "state": {
       "layout": "IPY_MODEL_db05c75c01354125be7f23f73fa2cc0b",
       "style": "IPY_MODEL_8d6b659c91ed4917a4f68b97c1cc9b79",
       "value": "<h4 style=\"font-size:14px;\">Kategorie.</h4>"
      }
     },
     "a56ed8ab65064682ac98767494105a46": {
      "model_module": "@jupyter-widgets/controls",
      "model_module_version": "1.5.0",
      "model_name": "DescriptionStyleModel",
      "state": {
       "description_width": ""
      }
     },
     "a5cd85f27d4d4d4babc8f5ae214a1302": {
      "model_module": "@jupyter-widgets/base",
      "model_module_version": "1.2.0",
      "model_name": "LayoutModel",
      "state": {
       "width": "250px"
      }
     },
     "a60b8eb1199e4a3c96d82b9d88b50a54": {
      "model_module": "@jupyter-widgets/controls",
      "model_module_version": "1.5.0",
      "model_name": "ButtonModel",
      "state": {
       "description": "3rd singular present",
       "layout": "IPY_MODEL_29dcc14a17214bb9ba00bc789e2678fd",
       "style": "IPY_MODEL_8b182d6739fb487ab2aa204b9e2015e0"
      }
     },
     "a67463c9bc234382a6815edcd1b0d77f": {
      "model_module": "@jupyter-widgets/base",
      "model_module_version": "1.2.0",
      "model_name": "LayoutModel",
      "state": {}
     },
     "a6811c44f97a4c82927f195e52b6d1eb": {
      "model_module": "@jupyter-widgets/controls",
      "model_module_version": "1.5.0",
      "model_name": "HTMLModel",
      "state": {
       "layout": "IPY_MODEL_79f42d90784c46eab481203709c247c2",
       "style": "IPY_MODEL_a269d594feaa425391756bcd18e7293f",
       "value": "<h4 style=\"font-size:14px;\">Welche Eigenschaften hat <i>gut</i> in Satz 2?</h4>"
      }
     },
     "a68ddd9c5a6c43429426f111d8cc0ff7": {
      "model_module": "@jupyter-widgets/base",
      "model_module_version": "1.2.0",
      "model_name": "LayoutModel",
      "state": {}
     },
     "a6ce072640c54c2c9f098e49f9bbec38": {
      "model_module": "@jupyter-widgets/base",
      "model_module_version": "1.2.0",
      "model_name": "LayoutModel",
      "state": {
       "width": "250px"
      }
     },
     "a6eb0eee1b7148d8a2b12b238090b674": {
      "model_module": "@jupyter-widgets/controls",
      "model_module_version": "1.5.0",
      "model_name": "DescriptionStyleModel",
      "state": {
       "description_width": ""
      }
     },
     "a71e669f525a4f60b429d967dd4e4997": {
      "model_module": "@jupyter-widgets/base",
      "model_module_version": "1.2.0",
      "model_name": "LayoutModel",
      "state": {
       "width": "250px"
      }
     },
     "a7239a843ab5447e9123661bb47716d3": {
      "model_module": "@jupyter-widgets/controls",
      "model_module_version": "1.5.0",
      "model_name": "ButtonModel",
      "state": {
       "description": "base",
       "layout": "IPY_MODEL_e3ad19658d8d4a54b5b67550b60fecc0",
       "style": "IPY_MODEL_e0881095be274ffb936be30c0e2c6a35"
      }
     },
     "a7e72a52626048ed9f95b479f0b0ce9c": {
      "model_module": "@jupyter-widgets/controls",
      "model_module_version": "1.5.0",
      "model_name": "CheckboxModel",
      "state": {
       "description": "Permutationstest",
       "disabled": false,
       "layout": "IPY_MODEL_4a60443b46374636a867139a859c2a5d",
       "style": "IPY_MODEL_7d5a25856a4745279101073745e46d60",
       "value": false
      }
     },
     "a81663125b52448dacbb66c8de6e0b6d": {
      "model_module": "@jupyter-widgets/base",
      "model_module_version": "1.2.0",
      "model_name": "LayoutModel",
      "state": {}
     },
     "a821ed52c92c4ce38888e75280d9ebd9": {
      "model_module": "@jupyter-widgets/base",
      "model_module_version": "1.2.0",
      "model_name": "LayoutModel",
      "state": {}
     },
     "a82b69f5f263441384f2af246568e601": {
      "model_module": "@jupyter-widgets/controls",
      "model_module_version": "1.5.0",
      "model_name": "DropdownModel",
      "state": {
       "_options_labels": [
        "'ADJ'",
        "'DET'",
        "'NOUN'",
        " "
       ],
       "index": 3,
       "layout": "IPY_MODEL_b931edf7fb214f00bea02c643ae281de",
       "style": "IPY_MODEL_39d5ed76799b4f31b0f24cb52e2dda8d"
      }
     },
     "a83dd957b13f4887ab9bba5ba91fbff4": {
      "model_module": "@jupyter-widgets/base",
      "model_module_version": "1.2.0",
      "model_name": "LayoutModel",
      "state": {}
     },
     "a84f83aafe2e4248b1827ade2fc41ff7": {
      "model_module": "@jupyter-widgets/controls",
      "model_module_version": "1.5.0",
      "model_name": "ButtonModel",
      "state": {
       "description": "gerund",
       "layout": "IPY_MODEL_e43028efb90645c2bfbfb07f0f34f388",
       "style": "IPY_MODEL_dfc6a4876d43460fb0b830b7a01baef1"
      }
     },
     "a85a47a24a42435da191555ced17c9ac": {
      "model_module": "@jupyter-widgets/controls",
      "model_module_version": "1.5.0",
      "model_name": "DescriptionStyleModel",
      "state": {
       "description_width": ""
      }
     },
     "a878e53abf854262ba4feef6f2c36495": {
      "model_module": "@jupyter-widgets/controls",
      "model_module_version": "1.5.0",
      "model_name": "DescriptionStyleModel",
      "state": {
       "description_width": "initial"
      }
     },
     "a87acb93413241bb90e71d88dc14e3cb": {
      "model_module": "@jupyter-widgets/controls",
      "model_module_version": "1.5.0",
      "model_name": "HBoxModel",
      "state": {
       "children": [
        "IPY_MODEL_e36cb59e50c14df481bf2a021227f53d",
        "IPY_MODEL_70b76b3a8ee240e78bf41a98ef0ae750"
       ],
       "layout": "IPY_MODEL_9306e79046aa4052ae1f53f139ed0e56"
      }
     },
     "a882f6b84f344c7b9c282f11c8b087ce": {
      "model_module": "@jupyter-widgets/controls",
      "model_module_version": "1.5.0",
      "model_name": "VBoxModel",
      "state": {
       "children": [
        "IPY_MODEL_c1c711cbb6b84d22b192d5a6966a6469",
        "IPY_MODEL_5ceb7d2f8b43403a825d1f9731b640ba",
        "IPY_MODEL_12ec1e291dc944ee954cb6aba64f598e",
        "IPY_MODEL_2da0408830d64653b9ed0da1adc4f96c"
       ],
       "layout": "IPY_MODEL_31d7627f1a2e40fca504f7682bae8026"
      }
     },
     "a8c93bf68e074733afb7f3dcb60f9899": {
      "model_module": "@jupyter-widgets/controls",
      "model_module_version": "1.5.0",
      "model_name": "VBoxModel",
      "state": {
       "children": [
        "IPY_MODEL_696019fa692c4f318be6d457e34de0b1",
        "IPY_MODEL_4ddcc5902d584a35a5e36da48cc34cb5",
        "IPY_MODEL_b580dcd938e24af2824297f201a6cf17",
        "IPY_MODEL_9671637e066a4f1d8d4ab3fe7bd109ef",
        "IPY_MODEL_0214f3cc0df744b7ba8a0db2f76548ac"
       ],
       "layout": "IPY_MODEL_7cde3950b15446c7b435def80c90c846"
      }
     },
     "a8d382db9e0c4e72ba986a658a3a5711": {
      "model_module": "@jupyter-widgets/controls",
      "model_module_version": "1.5.0",
      "model_name": "DescriptionStyleModel",
      "state": {
       "description_width": "initial"
      }
     },
     "a9c8657c9e544bf585351fa0236ff472": {
      "model_module": "@jupyter-widgets/base",
      "model_module_version": "1.2.0",
      "model_name": "LayoutModel",
      "state": {
       "width": "250px"
      }
     },
     "aa2210d67a75459ab48acaf19c23b440": {
      "model_module": "@jupyter-widgets/controls",
      "model_module_version": "1.5.0",
      "model_name": "ButtonModel",
      "state": {
       "description": "Wortfolge",
       "layout": "IPY_MODEL_dfee337842794312b1c292280e567df1",
       "style": "IPY_MODEL_7b684477041e47c085eee90c63f2d62f"
      }
     },
     "aaf2ab8f7ff3418790f545061227c464": {
      "model_module": "@jupyter-widgets/base",
      "model_module_version": "1.2.0",
      "model_name": "LayoutModel",
      "state": {
       "width": "150px"
      }
     },
     "ab74bcb5964b4b3faacab09fd3ad4fdf": {
      "model_module": "@jupyter-widgets/controls",
      "model_module_version": "1.5.0",
      "model_name": "DescriptionStyleModel",
      "state": {
       "description_width": ""
      }
     },
     "abb1b53a44c74b50bf4a10bd243878ff": {
      "model_module": "@jupyter-widgets/controls",
      "model_module_version": "1.5.0",
      "model_name": "HTMLModel",
      "state": {
       "layout": "IPY_MODEL_1b8ac638cf4e4bb49107dfff566c622f",
       "style": "IPY_MODEL_f63df59e7cce4238981797d00eaf3598",
       "value": "<i>Wählen Sie die <ins>eine</ins> korrekte Antwort aus: </i>"
      }
     },
     "abc0dbadff6b4084b1e906d0fd315b7e": {
      "model_module": "@jupyter-widgets/controls",
      "model_module_version": "1.5.0",
      "model_name": "DescriptionStyleModel",
      "state": {
       "description_width": ""
      }
     },
     "ac167f1157cd413ba3d9fe626ef0a024": {
      "model_module": "@jupyter-widgets/base",
      "model_module_version": "1.2.0",
      "model_name": "LayoutModel",
      "state": {
       "justify_content": "center"
      }
     },
     "ac2ca515b52c4605a7e7bf3826bfa61b": {
      "model_module": "@jupyter-widgets/base",
      "model_module_version": "1.2.0",
      "model_name": "LayoutModel",
      "state": {}
     },
     "ad358638c6074f89abf827c1f6b815db": {
      "model_module": "@jupyter-widgets/base",
      "model_module_version": "1.2.0",
      "model_name": "LayoutModel",
      "state": {
       "width": "250px"
      }
     },
     "ad433e4bdffa4c3fb32c4f2b96b68567": {
      "model_module": "@jupyter-widgets/controls",
      "model_module_version": "1.5.0",
      "model_name": "VBoxModel",
      "state": {
       "children": [
        "IPY_MODEL_ea772cb22cfe4956aaa61fd18e97288b",
        "IPY_MODEL_220bf138ddbe4af29f4af921fd4dc99b",
        "IPY_MODEL_2d581c1bfdcb47e3a8fc678a03dcda81",
        "IPY_MODEL_bbb3681b433b402da13656e9bddb27e6"
       ],
       "layout": "IPY_MODEL_3d34730a1910465488cbac563b7f24cc"
      }
     },
     "ad47c24e058a40b39e995e6b1bb859c4": {
      "model_module": "@jupyter-widgets/base",
      "model_module_version": "1.2.0",
      "model_name": "LayoutModel",
      "state": {}
     },
     "adaf2e47c0e24dc69a26d4253d67f127": {
      "model_module": "@jupyter-widgets/base",
      "model_module_version": "1.2.0",
      "model_name": "LayoutModel",
      "state": {
       "justify_content": "center"
      }
     },
     "adbfebcc479040128ab38fd82759c753": {
      "model_module": "@jupyter-widgets/base",
      "model_module_version": "1.2.0",
      "model_name": "LayoutModel",
      "state": {
       "width": "250px"
      }
     },
     "adf8527abdc147f49adc334291db6abd": {
      "model_module": "@jupyter-widgets/controls",
      "model_module_version": "1.5.0",
      "model_name": "ButtonStyleModel",
      "state": {}
     },
     "ae045a4595d84769a94a54c23112dd1b": {
      "model_module": "@jupyter-widgets/controls",
      "model_module_version": "1.5.0",
      "model_name": "ButtonStyleModel",
      "state": {}
     },
     "ae191e74fac64dad961f81a8956c007a": {
      "model_module": "@jupyter-widgets/controls",
      "model_module_version": "1.5.0",
      "model_name": "HBoxModel",
      "state": {
       "children": [
        "IPY_MODEL_78da35e27fe94200b39d8da961368107",
        "IPY_MODEL_14935c001d38408d8f880ccbc903ecb6"
       ],
       "layout": "IPY_MODEL_b6e18605ce094adf9811166bdb11f0fb"
      }
     },
     "ae358c621b414a628cc9f197e6cddfdf": {
      "model_module": "@jupyter-widgets/base",
      "model_module_version": "1.2.0",
      "model_name": "LayoutModel",
      "state": {}
     },
     "ae363211ac844d238dd5b2cdb3504240": {
      "model_module": "@jupyter-widgets/controls",
      "model_module_version": "1.5.0",
      "model_name": "DescriptionStyleModel",
      "state": {
       "description_width": ""
      }
     },
     "ae44d44bfe894158a0264b2c4d8db91c": {
      "model_module": "@jupyter-widgets/controls",
      "model_module_version": "1.5.0",
      "model_name": "CheckboxModel",
      "state": {
       "description": "Nur mit einem Schritt beginnt auch eine Reise von tausend Meilen.",
       "disabled": false,
       "layout": "IPY_MODEL_3625b331bcd84c798d57dea2f035ec87",
       "style": "IPY_MODEL_3b49c46d5f024dd6b9846052d438b05d",
       "value": false
      }
     },
     "ae4c45581f6c40a38062132f86060f97": {
      "model_module": "@jupyter-widgets/base",
      "model_module_version": "1.2.0",
      "model_name": "LayoutModel",
      "state": {
       "justify_content": "center"
      }
     },
     "aef82a86a09940d78f4067735f223add": {
      "model_module": "@jupyter-widgets/controls",
      "model_module_version": "1.5.0",
      "model_name": "ButtonStyleModel",
      "state": {}
     },
     "af2fb6b45fc548fd98a646897832e290": {
      "model_module": "@jupyter-widgets/controls",
      "model_module_version": "1.5.0",
      "model_name": "ButtonModel",
      "state": {
       "description": "Adjektiv",
       "layout": "IPY_MODEL_150e0eca2626498c95a69bcc1881f537",
       "style": "IPY_MODEL_272c57f43746485ca0e822d37e2ac5ef"
      }
     },
     "af4f98d6f22845f2a1c151a2188705ee": {
      "model_module": "@jupyter-widgets/controls",
      "model_module_version": "1.5.0",
      "model_name": "ButtonStyleModel",
      "state": {
       "button_color": "lightgreen"
      }
     },
     "aff636e8c1564086946aecbfc12de46b": {
      "model_module": "@jupyter-widgets/base",
      "model_module_version": "1.2.0",
      "model_name": "LayoutModel",
      "state": {}
     },
     "b0a144fb35ad43169ff9cac199ac1bf7": {
      "model_module": "@jupyter-widgets/controls",
      "model_module_version": "1.5.0",
      "model_name": "HTMLModel",
      "state": {
       "layout": "IPY_MODEL_c1de58a5a60f43fc9a19297f0abfce9d",
       "style": "IPY_MODEL_2556fc3486b042d3afbe642d26173206",
       "value": "<h4 style=\"font-size:14px;\">Was bedeutet das Tag <i>VBD</i> im Browntagset (siehe 5.7)?</h4>"
      }
     },
     "b0be71d018f54afe8c46a64aaa0da55d": {
      "model_module": "@jupyter-widgets/controls",
      "model_module_version": "1.5.0",
      "model_name": "ButtonModel",
      "state": {
       "description": "Partikel",
       "layout": "IPY_MODEL_f13cdf695fe941b4939bd010cca683e9",
       "style": "IPY_MODEL_3535103e6efa447eb93305135c9b40a0"
      }
     },
     "b0d3aa9c82e24fc496de605b07aa9cd1": {
      "model_module": "@jupyter-widgets/controls",
      "model_module_version": "1.5.0",
      "model_name": "ButtonModel",
      "state": {
       "description": "Wortfolge",
       "layout": "IPY_MODEL_751f3a40baef49be8f2261a1db79ee44",
       "style": "IPY_MODEL_754a7bb53783446f841fac677ba76439"
      }
     },
     "b0ed40ac2c784027a13d6af93cf9bddc": {
      "model_module": "@jupyter-widgets/base",
      "model_module_version": "1.2.0",
      "model_name": "LayoutModel",
      "state": {}
     },
     "b10ea288310844dd9232a68e60cfa8bb": {
      "model_module": "@jupyter-widgets/base",
      "model_module_version": "1.2.0",
      "model_name": "LayoutModel",
      "state": {
       "width": "600px"
      }
     },
     "b14aa26f8ce447268be777c4f305afde": {
      "model_module": "@jupyter-widgets/controls",
      "model_module_version": "1.5.0",
      "model_name": "CheckboxModel",
      "state": {
       "description": "gleiche syntagmatische Position",
       "disabled": false,
       "layout": "IPY_MODEL_84e9ce6357d84e3dbe4674b08f6bcad0",
       "style": "IPY_MODEL_2f69580d374440759d0cc1951164a6a5",
       "value": false
      }
     },
     "b262f51473944c95925de71311a6a636": {
      "model_module": "@jupyter-widgets/controls",
      "model_module_version": "1.5.0",
      "model_name": "HTMLModel",
      "state": {
       "layout": "IPY_MODEL_e501479463984cc6904dcb3ddd026d3d",
       "style": "IPY_MODEL_6ac190432b434d748a47ce26cb581fae",
       "value": "<h4 style=\"font-size:14px;\">. Aus dieser wurde es extrahiert und ins</h4>"
      }
     },
     "b2ff81489fb04592bfe6fbe2b302135a": {
      "model_module": "@jupyter-widgets/controls",
      "model_module_version": "1.5.0",
      "model_name": "HTMLModel",
      "state": {
       "layout": "IPY_MODEL_d101494a2c854a5fbd9a34497b7167e4",
       "style": "IPY_MODEL_360a443bed864dc79484299df7f1702f",
       "value": "<h4 style=\"font-size:14px;\">Welche Wortart folgt damit für das Wort <i>gerne</i> in Satz 1?</h4>"
      }
     },
     "b34f2cff385842e58a06ee6e51b7e87e": {
      "model_module": "@jupyter-widgets/controls",
      "model_module_version": "1.5.0",
      "model_name": "VBoxModel",
      "state": {
       "children": [
        "IPY_MODEL_795416e94f0c41e7a9d924b51b62892e",
        "IPY_MODEL_c658568c52d14b44ad6e7e49eb7c8f05",
        "IPY_MODEL_99cf745eda9f41e98d96436018fc7879",
        "IPY_MODEL_5f879974337040798d2dfdbf9bfea980",
        "IPY_MODEL_8be7b05f85cc461291b7ba849be860ff"
       ],
       "layout": "IPY_MODEL_29def116916a4e73a132dc4324ccfed3"
      }
     },
     "b39f6611ab2b4de3b485c439873f344c": {
      "model_module": "@jupyter-widgets/base",
      "model_module_version": "1.2.0",
      "model_name": "LayoutModel",
      "state": {
       "justify_content": "center"
      }
     },
     "b3c78f7740564661b535b27c508223b0": {
      "model_module": "@jupyter-widgets/base",
      "model_module_version": "1.2.0",
      "model_name": "LayoutModel",
      "state": {}
     },
     "b3cace5bd6264738a973567c35885ba6": {
      "model_module": "@jupyter-widgets/base",
      "model_module_version": "1.2.0",
      "model_name": "LayoutModel",
      "state": {}
     },
     "b437e14faa964740a1f4e9a937ae9d5e": {
      "model_module": "@jupyter-widgets/controls",
      "model_module_version": "1.5.0",
      "model_name": "ButtonModel",
      "state": {
       "description": "Wortfolge",
       "layout": "IPY_MODEL_9ff26ce7dd034d8684b33191aa8bbda2",
       "style": "IPY_MODEL_fc383ccb7f3e4c6ca41b478852e0c16c"
      }
     },
     "b444aee53c4d4ec1b1ec9b13dc86a437": {
      "model_module": "@jupyter-widgets/controls",
      "model_module_version": "1.5.0",
      "model_name": "VBoxModel",
      "state": {
       "children": [
        "IPY_MODEL_f1bbfbe571ac487fa5790b121897716b",
        "IPY_MODEL_b5bc13506b3e4f38a80a02e4e12a51b3",
        "IPY_MODEL_fd67502ce34d41548ce3a495d7b17042"
       ],
       "layout": "IPY_MODEL_cba07b35ed8f423db2c8d6b181939a8d"
      }
     },
     "b4492e2645b2473681d72d20fb2be347": {
      "model_module": "@jupyter-widgets/controls",
      "model_module_version": "1.5.0",
      "model_name": "ButtonStyleModel",
      "state": {}
     },
     "b45ff2a01ccc48029100bad1f2a09712": {
      "model_module": "@jupyter-widgets/controls",
      "model_module_version": "1.5.0",
      "model_name": "HTMLModel",
      "state": {
       "layout": "IPY_MODEL_391cd214fa264eefb3858256417188f1",
       "style": "IPY_MODEL_3f933053dd4b4e11a00f1c90b5a7a8fa",
       "value": "<h4 style=\"font-size:14px;\">Was bedeutet das Tag <i>VBN</i> im Browntagset (siehe 5.7)?</h4>"
      }
     },
     "b4d534c55f17431a8aa5e2ab368a0bf9": {
      "model_module": "@jupyter-widgets/controls",
      "model_module_version": "1.5.0",
      "model_name": "ButtonModel",
      "state": {
       "description": "Keine der anderen Möglichkeiten",
       "layout": "IPY_MODEL_f97b2210158e42bfa52eae92b0fd0836",
       "style": "IPY_MODEL_d60bdc327a5d4d219c7d37bf8da94628"
      }
     },
     "b4e09220b7fa4949b26a60bc2fa732b3": {
      "model_module": "@jupyter-widgets/base",
      "model_module_version": "1.2.0",
      "model_name": "LayoutModel",
      "state": {}
     },
     "b4fc7faa570e474a8b11cdd7e9aab338": {
      "model_module": "@jupyter-widgets/controls",
      "model_module_version": "1.5.0",
      "model_name": "HTMLModel",
      "state": {
       "layout": "IPY_MODEL_c63726ffa5de435982e5726bb2d2def1",
       "style": "IPY_MODEL_2c71ba5562e94597b4aa98f510939ca5",
       "value": "<i>Wählen Sie die <ins>eine</ins> korrekte Antwort aus: </i>"
      }
     },
     "b50132f928f042cf884da8e51246d6be": {
      "model_module": "@jupyter-widgets/controls",
      "model_module_version": "1.5.0",
      "model_name": "ButtonModel",
      "state": {
       "description": "Partikel",
       "layout": "IPY_MODEL_0c79605769d1460abecf6655b55fad95",
       "style": "IPY_MODEL_adf8527abdc147f49adc334291db6abd"
      }
     },
     "b5112de75c2e4228b34508c77365836f": {
      "model_module": "@jupyter-widgets/controls",
      "model_module_version": "1.5.0",
      "model_name": "CheckboxModel",
      "state": {
       "description": "Substitutionstest",
       "disabled": false,
       "layout": "IPY_MODEL_231e176c0f1a462e8e2a42509a858809",
       "style": "IPY_MODEL_43c57469262e4c109849a00470eef1d0",
       "value": false
      }
     },
     "b51a14ba5d524c80be935458f336fc4d": {
      "model_module": "@jupyter-widgets/base",
      "model_module_version": "1.2.0",
      "model_name": "LayoutModel",
      "state": {}
     },
     "b5224026f24f4ec8836982a001651130": {
      "model_module": "@jupyter-widgets/controls",
      "model_module_version": "1.5.0",
      "model_name": "HTMLModel",
      "state": {
       "layout": "IPY_MODEL_6467eb9ddbc84a3bb84b231b91255746",
       "style": "IPY_MODEL_6bd9a9a226eb454884be4ac20e0be1ac",
       "value": "<h4 style=\"font-size:14px;\"><i>Eine Reise beginnt auch nur mit einem Schritt.</i><br>Welche Tests wurden angewandt?</h4>"
      }
     },
     "b5491fbe3b1c42eb8b303fd4eb8c0cea": {
      "model_module": "@jupyter-widgets/base",
      "model_module_version": "1.2.0",
      "model_name": "LayoutModel",
      "state": {
       "justify_content": "center"
      }
     },
     "b561a97583c44659bae8ac134ed0ea02": {
      "model_module": "@jupyter-widgets/controls",
      "model_module_version": "1.5.0",
      "model_name": "BoxModel",
      "state": {
       "children": [
        "IPY_MODEL_22be8c65b07c4811995800c52ef45127",
        "IPY_MODEL_35e6ae368ece4506b91cd68185a23724",
        "IPY_MODEL_68b4b6e770774988bb0860fd7cbb26b3",
        "IPY_MODEL_64a65bf89486425fa0a7ba2ceba88e72",
        "IPY_MODEL_a5256080897e4951b1eef8261cc68a1a"
       ],
       "layout": "IPY_MODEL_977f52750a114f6bb569b4f7e5ec5087"
      }
     },
     "b580dcd938e24af2824297f201a6cf17": {
      "model_module": "@jupyter-widgets/controls",
      "model_module_version": "1.5.0",
      "model_name": "HBoxModel",
      "state": {
       "children": [
        "IPY_MODEL_a60b8eb1199e4a3c96d82b9d88b50a54",
        "IPY_MODEL_ef99ee18c7c94527a1fbe65cb3da3728"
       ],
       "layout": "IPY_MODEL_f148730bd7574c7f93348e52f04a6d53"
      }
     },
     "b59b700b20ad43d2807a208a87882bd2": {
      "model_module": "@jupyter-widgets/base",
      "model_module_version": "1.2.0",
      "model_name": "LayoutModel",
      "state": {
       "align_content": "stretch",
       "align_items": "stretch",
       "display": "inline-flex",
       "flex": "flex-grow",
       "flex_flow": "row wrap",
       "justify_content": "flex-start"
      }
     },
     "b5bc13506b3e4f38a80a02e4e12a51b3": {
      "model_module": "@jupyter-widgets/controls",
      "model_module_version": "1.5.0",
      "model_name": "BoxModel",
      "state": {
       "children": [
        "IPY_MODEL_ba7efbd0aebb431d94401f87f3a38653",
        "IPY_MODEL_859ccfe12e9d4c4a9a5f7f25ee7d8ec7",
        "IPY_MODEL_92ef83ae3b8b4fa681fb8065d559dfff",
        "IPY_MODEL_483243e0c7fe46f39d85557e7f2a2d05",
        "IPY_MODEL_159b7b4a5c2a44499d944b4b5e93b60e",
        "IPY_MODEL_46ee2bb7b82146f3a125eebe392a4523",
        "IPY_MODEL_b262f51473944c95925de71311a6a636",
        "IPY_MODEL_11a2b9df2ab144e7972e804550ba5f56",
        "IPY_MODEL_f9c1d622b2bc4ea5a5aa0f6a8a0f31c3",
        "IPY_MODEL_553442aa58364372b31848caf62db948",
        "IPY_MODEL_e2f5aba03c5f4146bbf973914ec7eda5",
        "IPY_MODEL_46168b9126984f0abce2f1cf948839f8",
        "IPY_MODEL_bdc65ebe26aa4ccca2cf087a0fbf2da6"
       ],
       "layout": "IPY_MODEL_1ef81e179a6a4444a33e31284b56d4f8"
      }
     },
     "b5c92a5493e04da4a39375d3887de990": {
      "model_module": "@jupyter-widgets/controls",
      "model_module_version": "1.5.0",
      "model_name": "DescriptionStyleModel",
      "state": {
       "description_width": ""
      }
     },
     "b6e18605ce094adf9811166bdb11f0fb": {
      "model_module": "@jupyter-widgets/base",
      "model_module_version": "1.2.0",
      "model_name": "LayoutModel",
      "state": {}
     },
     "b6f476e4975c4e47beb34d94d63392db": {
      "model_module": "@jupyter-widgets/controls",
      "model_module_version": "1.5.0",
      "model_name": "BoxModel",
      "state": {
       "children": [
        "IPY_MODEL_2099a0eb9d004a67b70cc91c3a7cd8bf",
        "IPY_MODEL_764b33ca4eff47b789a9c4c8223dc4e0",
        "IPY_MODEL_08a5e0b311df48119b9d4d7cd98cc81c",
        "IPY_MODEL_c08e587491ef4fae8055029eef208326",
        "IPY_MODEL_8a0772768e2840d5abd213cf78929aad",
        "IPY_MODEL_1cc3081b9a3d4920a7683c255273d7bf",
        "IPY_MODEL_c9201a173d0d41f1a23b50f505395f2e",
        "IPY_MODEL_979ad67489f147bf83a629bfa3d42fb1",
        "IPY_MODEL_c326d7d7bdb1422b965119bfe3eb66da",
        "IPY_MODEL_8bef8515a58845c48fcf2d7a9748090f",
        "IPY_MODEL_7ff3995ef37e488897cfce11331283ac",
        "IPY_MODEL_11ed632acc7f4391b33bf1e9a1c0c683",
        "IPY_MODEL_1f3a3ee085a142eaa122a1dd17922bec"
       ],
       "layout": "IPY_MODEL_b59b700b20ad43d2807a208a87882bd2"
      }
     },
     "b712f295a6764352a7cbf392af2701e0": {
      "model_module": "@jupyter-widgets/controls",
      "model_module_version": "1.5.0",
      "model_name": "HBoxModel",
      "state": {
       "children": [
        "IPY_MODEL_bf6b2b576f2e478fa4569ec89b6aaee6",
        "IPY_MODEL_60a26109946e4b23b952c663bd1aea42"
       ],
       "layout": "IPY_MODEL_d61c5ede92304c1aa15008f82b514f3b"
      }
     },
     "b7695ad2ddef4dca8e3b55eb28dfeeac": {
      "model_module": "@jupyter-widgets/base",
      "model_module_version": "1.2.0",
      "model_name": "LayoutModel",
      "state": {
       "width": "250px"
      }
     },
     "b790429c47534a9087dcfcd040268383": {
      "model_module": "@jupyter-widgets/controls",
      "model_module_version": "1.5.0",
      "model_name": "DescriptionStyleModel",
      "state": {
       "description_width": ""
      }
     },
     "b7f47b4561124602a08db3e4d1e91e01": {
      "model_module": "@jupyter-widgets/controls",
      "model_module_version": "1.5.0",
      "model_name": "TextareaModel",
      "state": {
       "layout": "IPY_MODEL_3e961e16008d4f20a3fe484bf520d4c1",
       "placeholder": "Type something",
       "style": "IPY_MODEL_5fa5597d8ad3469faf3186fdaf0233e9",
       "value": "nltk.____()"
      }
     },
     "b8acd08c6df44c3abf1815a965d2b526": {
      "model_module": "@jupyter-widgets/base",
      "model_module_version": "1.2.0",
      "model_name": "LayoutModel",
      "state": {
       "width": "250px"
      }
     },
     "b931edf7fb214f00bea02c643ae281de": {
      "model_module": "@jupyter-widgets/base",
      "model_module_version": "1.2.0",
      "model_name": "LayoutModel",
      "state": {
       "width": "150px"
      }
     },
     "b953f18a2bf047aa9313f1d24614eb59": {
      "model_module": "@jupyter-widgets/base",
      "model_module_version": "1.2.0",
      "model_name": "LayoutModel",
      "state": {}
     },
     "b957a15f1a3e464cbf6a63c0d2de2ccb": {
      "model_module": "@jupyter-widgets/controls",
      "model_module_version": "1.5.0",
      "model_name": "VBoxModel",
      "state": {
       "children": [
        "IPY_MODEL_4273ef39f795432d9a05b5e2b7c17848",
        "IPY_MODEL_58acc3add67348068eb73ccd94b13d0e",
        "IPY_MODEL_053fc1fb4dfd430aa9266066a3a11754"
       ],
       "layout": "IPY_MODEL_0ae78b74c3ba40bf9b3134a0b17f1f0b"
      }
     },
     "b960c29639ba4ef0b0fd4baa2356acbb": {
      "model_module": "@jupyter-widgets/base",
      "model_module_version": "1.2.0",
      "model_name": "LayoutModel",
      "state": {
       "width": "250px"
      }
     },
     "b97d71bc42834b108df232647418f595": {
      "model_module": "@jupyter-widgets/controls",
      "model_module_version": "1.5.0",
      "model_name": "DescriptionStyleModel",
      "state": {
       "description_width": ""
      }
     },
     "b99aa57238704508bee1988288c14f97": {
      "model_module": "@jupyter-widgets/controls",
      "model_module_version": "1.5.0",
      "model_name": "CheckboxModel",
      "state": {
       "description": "gleiche syntagmatische Position",
       "disabled": false,
       "layout": "IPY_MODEL_36d047127f2f4c4bb28c052570bd9323",
       "style": "IPY_MODEL_e79a3c3036bd4356af496f93eb7ccaa1",
       "value": false
      }
     },
     "b9ef4db7d66b4c4680dfe402381e37cc": {
      "model_module": "@jupyter-widgets/controls",
      "model_module_version": "1.5.0",
      "model_name": "DescriptionStyleModel",
      "state": {
       "description_width": "initial"
      }
     },
     "ba3eb72d4d7e4c5287a3aace3bcb2f44": {
      "model_module": "@jupyter-widgets/controls",
      "model_module_version": "1.5.0",
      "model_name": "ButtonStyleModel",
      "state": {}
     },
     "ba6dc3df52834657b70c4033304905af": {
      "model_module": "@jupyter-widgets/controls",
      "model_module_version": "1.5.0",
      "model_name": "CheckboxModel",
      "state": {
       "description": "Zu einem Wort werden alle Synonyme gefunden.",
       "disabled": false,
       "layout": "IPY_MODEL_edd77af557f24541be2210af4b2d2a0f",
       "style": "IPY_MODEL_25d70c24eaca4a55977bd482205f3a65",
       "value": false
      }
     },
     "ba7efbd0aebb431d94401f87f3a38653": {
      "model_module": "@jupyter-widgets/controls",
      "model_module_version": "1.5.0",
      "model_name": "HTMLModel",
      "state": {
       "layout": "IPY_MODEL_f62d6387c30641c8be973cb3691e17f2",
       "style": "IPY_MODEL_807e838a8383423db1957b95058a96e8",
       "value": "<h4 style=\"font-size:14px;\">Das Partizip <i>Verloren<i> ist eine</h4>"
      }
     },
     "bab808a1bc494df2a218486e3299dd9e": {
      "model_module": "@jupyter-widgets/controls",
      "model_module_version": "1.5.0",
      "model_name": "DescriptionStyleModel",
      "state": {
       "description_width": ""
      }
     },
     "bb089403b2434569b873ee4f12da0082": {
      "model_module": "@jupyter-widgets/base",
      "model_module_version": "1.2.0",
      "model_name": "LayoutModel",
      "state": {
       "justify_content": "center"
      }
     },
     "bb34753343474f489bbf25b591ac6de6": {
      "model_module": "@jupyter-widgets/controls",
      "model_module_version": "1.5.0",
      "model_name": "HTMLModel",
      "state": {
       "layout": "IPY_MODEL_6e9dffebf25f455e95da71e07805610e",
       "style": "IPY_MODEL_a6eb0eee1b7148d8a2b12b238090b674",
       "value": "<i>Markieren Sie <ins>alle</ins> passenden Antworten: </i>"
      }
     },
     "bb425f5278aa41be961318728da776d7": {
      "model_module": "@jupyter-widgets/controls",
      "model_module_version": "1.5.0",
      "model_name": "ButtonStyleModel",
      "state": {}
     },
     "bbb3681b433b402da13656e9bddb27e6": {
      "model_module": "@jupyter-widgets/controls",
      "model_module_version": "1.5.0",
      "model_name": "CheckboxModel",
      "state": {
       "description": "Zu einem Wort wird ein Index seiner Kontexte aufgebaut.",
       "disabled": false,
       "layout": "IPY_MODEL_53bc9442d12d4a4bb9ebade2fc170370",
       "style": "IPY_MODEL_1c6dc1b4873047699545993c6b5dfb74",
       "value": false
      }
     },
     "bc197f62446c49cc98a1b9fdefafa173": {
      "model_module": "@jupyter-widgets/controls",
      "model_module_version": "1.5.0",
      "model_name": "ButtonModel",
      "state": {
       "description": "Adjektiv",
       "layout": "IPY_MODEL_34fcef3705b34a88ad7a7d07bfcb4858",
       "style": "IPY_MODEL_b4492e2645b2473681d72d20fb2be347"
      }
     },
     "bc3addb0350345e1a04d6e55a77eae15": {
      "model_module": "@jupyter-widgets/base",
      "model_module_version": "1.2.0",
      "model_name": "LayoutModel",
      "state": {
       "width": "250px"
      }
     },
     "bc50b5212ae34ca9b4a2833de9697d73": {
      "model_module": "@jupyter-widgets/controls",
      "model_module_version": "1.5.0",
      "model_name": "HBoxModel",
      "state": {
       "children": [
        "IPY_MODEL_2bfac8ca60424915800cfeda579f47a4",
        "IPY_MODEL_d1cb2caac56c47af9a115f40dc7a2aa7"
       ],
       "layout": "IPY_MODEL_93f81c7e32e948c3b9a6355404019ef7"
      }
     },
     "bc66037572ac403ea12dbc5ad1428de7": {
      "model_module": "@jupyter-widgets/controls",
      "model_module_version": "1.5.0",
      "model_name": "CheckboxModel",
      "state": {
       "description": "Es bezeichnet die näheren Umstände des im Verb ausgedrückten Geschehens.",
       "disabled": false,
       "layout": "IPY_MODEL_639e65caf95c419282680cd4f85de6d0",
       "style": "IPY_MODEL_97b9590aee084189a5626297bcf75c47",
       "value": false
      }
     },
     "bc803dabf0084829a3e2f7210df4ee65": {
      "model_module": "@jupyter-widgets/controls",
      "model_module_version": "1.5.0",
      "model_name": "ButtonModel",
      "state": {
       "description": "simple past",
       "layout": "IPY_MODEL_7fa6f69195f84781a74d3dc4f12973ad",
       "style": "IPY_MODEL_f628c54e25d849d1a45f074c6554a112"
      }
     },
     "bc980fbbf90c48c1bf170815d739dba4": {
      "model_module": "@jupyter-widgets/controls",
      "model_module_version": "1.5.0",
      "model_name": "CheckboxModel",
      "state": {
       "description": "Es ist flektierbar.",
       "disabled": false,
       "layout": "IPY_MODEL_78a6b8a270544d51b4f6b3c4cf460fa4",
       "style": "IPY_MODEL_3e9eb529caea4ca08db29316c591bec3",
       "value": false
      }
     },
     "bcc6c1ac22f341fb8818f29e9588d3c4": {
      "model_module": "@jupyter-widgets/controls",
      "model_module_version": "1.5.0",
      "model_name": "HTMLModel",
      "state": {
       "layout": "IPY_MODEL_945887a0ca2348989e948cfcdcac3222",
       "style": "IPY_MODEL_26f34ae6b65647d79b0680ebb0c9ef77",
       "value": "<h4 style=\"font-size:14px;\">-Tupeln aus einem englischen Korpus erstellt. Zeile 2 und 3 dienen der Erzeugung einer Frequenzliste von POS-Tags derjenigen Bigramme, deren zweites Element das POS-Tag</h4>"
      }
     },
     "bd6df672cc194d9a9aaed252180aa0fa": {
      "model_module": "@jupyter-widgets/controls",
      "model_module_version": "1.5.0",
      "model_name": "ButtonModel",
      "state": {
       "description": "Adverb",
       "layout": "IPY_MODEL_470875bb643f4d8dbf50dd8bb179aec7",
       "style": "IPY_MODEL_37ade008506f4a4ea17bee603fb80b16"
      }
     },
     "bd87ffa773a940b4b889041c3e1c9225": {
      "model_module": "@jupyter-widgets/controls",
      "model_module_version": "1.5.0",
      "model_name": "VBoxModel",
      "state": {
       "children": [
        "IPY_MODEL_41505fa34bb84d0dbc49a0b5217366ff",
        "IPY_MODEL_e3158e733ffd48d391c08760bd506e65",
        "IPY_MODEL_e7a58643716541038ed0b0e92464f58c"
       ],
       "layout": "IPY_MODEL_ed3913789e72436c93b15bbeba348b37"
      }
     },
     "bdc65ebe26aa4ccca2cf087a0fbf2da6": {
      "model_module": "@jupyter-widgets/controls",
      "model_module_version": "1.5.0",
      "model_name": "HTMLModel",
      "state": {
       "layout": "IPY_MODEL_801afd7a1fd34a9e97ee7f52de5898f8",
       "style": "IPY_MODEL_6d393fd966304b369b1fa2986116ccd3",
       "value": "<h4 style=\"font-size:14px;\"><i>seinen Schlüsselbund zwar noch nie verloren haben.</i></h4>"
      }
     },
     "bdff20a586de4bf5a51d6cb19ea1824b": {
      "model_module": "@jupyter-widgets/controls",
      "model_module_version": "1.5.0",
      "model_name": "ButtonModel",
      "state": {
       "description": "Korrekt?",
       "layout": "IPY_MODEL_0895d6a9b2774d36a36edd0c02955b45",
       "style": "IPY_MODEL_26744cdc2ca44f4da372351f437f729e"
      }
     },
     "be46a72bf1304c6e87d162b2ac532719": {
      "model_module": "@jupyter-widgets/base",
      "model_module_version": "1.2.0",
      "model_name": "LayoutModel",
      "state": {
       "width": "250px"
      }
     },
     "be4c5ff041ba4f0080027e1eef5f8159": {
      "model_module": "@jupyter-widgets/controls",
      "model_module_version": "1.5.0",
      "model_name": "ButtonModel",
      "state": {
       "description": "Korrekt?",
       "layout": "IPY_MODEL_1d102485215440349807a418bf067ff5",
       "style": "IPY_MODEL_26ef83046c7d48bba594ddaa4343a87a"
      }
     },
     "be6756c113b4409180b14ae8b036cfe7": {
      "model_module": "@jupyter-widgets/controls",
      "model_module_version": "1.5.0",
      "model_name": "DescriptionStyleModel",
      "state": {
       "description_width": ""
      }
     },
     "bec820022a164d47bcd7d3f663f7f45f": {
      "model_module": "@jupyter-widgets/base",
      "model_module_version": "1.2.0",
      "model_name": "LayoutModel",
      "state": {
       "align_content": "stretch",
       "align_items": "stretch",
       "display": "inline-flex",
       "flex": "flex-grow",
       "flex_flow": "row wrap",
       "justify_content": "flex-start"
      }
     },
     "beef2561e8f84f01b58cef4e71f21d9c": {
      "model_module": "@jupyter-widgets/controls",
      "model_module_version": "1.5.0",
      "model_name": "DescriptionStyleModel",
      "state": {
       "description_width": ""
      }
     },
     "bf39cb165c014e18b4c34496fea44d31": {
      "model_module": "@jupyter-widgets/base",
      "model_module_version": "1.2.0",
      "model_name": "LayoutModel",
      "state": {}
     },
     "bf5bdaf4d44741a79cf3b9c1f17fbe75": {
      "model_module": "@jupyter-widgets/base",
      "model_module_version": "1.2.0",
      "model_name": "LayoutModel",
      "state": {
       "width": "600px"
      }
     },
     "bf6b2b576f2e478fa4569ec89b6aaee6": {
      "model_module": "@jupyter-widgets/controls",
      "model_module_version": "1.5.0",
      "model_name": "ButtonModel",
      "state": {
       "description": "gerund",
       "layout": "IPY_MODEL_3b07ee9588de4709ae731b8c3ea7cac6",
       "style": "IPY_MODEL_205f334bb47c44f69cac71ab7d883b2d"
      }
     },
     "bfaa03db1edc4ae08ce7b75341ec67c8": {
      "model_module": "@jupyter-widgets/base",
      "model_module_version": "1.2.0",
      "model_name": "LayoutModel",
      "state": {}
     },
     "bfd9a3de223643ada9d2b724f88534fd": {
      "model_module": "@jupyter-widgets/controls",
      "model_module_version": "1.5.0",
      "model_name": "ButtonStyleModel",
      "state": {}
     },
     "c0010bddc0c74d869b515dc06bccc588": {
      "model_module": "@jupyter-widgets/base",
      "model_module_version": "1.2.0",
      "model_name": "LayoutModel",
      "state": {
       "width": "600px"
      }
     },
     "c08118464c7244e58519b802c09d28bf": {
      "model_module": "@jupyter-widgets/controls",
      "model_module_version": "1.5.0",
      "model_name": "ButtonModel",
      "state": {
       "description": "gerund",
       "layout": "IPY_MODEL_f78a5765379d4674b7d7102de65bee76",
       "style": "IPY_MODEL_70899ed51ebb449f93d1fd63247b2de7"
      }
     },
     "c08e587491ef4fae8055029eef208326": {
      "model_module": "@jupyter-widgets/controls",
      "model_module_version": "1.5.0",
      "model_name": "DropdownModel",
      "state": {
       "_options_labels": [
        "Konstituente",
        "Phrase",
        " "
       ],
       "index": 1,
       "layout": "IPY_MODEL_0e2710706f6a48c5ad36371cac2abcc4",
       "style": "IPY_MODEL_ae363211ac844d238dd5b2cdb3504240"
      }
     },
     "c0d880824f9040428a9cc42e7e881445": {
      "model_module": "@jupyter-widgets/controls",
      "model_module_version": "1.5.0",
      "model_name": "VBoxModel",
      "state": {
       "children": [
        "IPY_MODEL_917472e4af984b5bb695a02c5b9aa1d9",
        "IPY_MODEL_8eac09e75c994b4a922a314dcff7aeb9",
        "IPY_MODEL_deb4de469b044a599dc61f04f6f7c67f",
        "IPY_MODEL_94210cf917d74af09ef99f71bbafa5c6"
       ],
       "layout": "IPY_MODEL_534ade22f2b1485fb3d11c56ab13791f"
      }
     },
     "c0e79b3d0efc4b7f9130d09607927222": {
      "model_module": "@jupyter-widgets/base",
      "model_module_version": "1.2.0",
      "model_name": "LayoutModel",
      "state": {
       "width": "250px"
      }
     },
     "c10b6e7730eb47e6a6f34055dfce40c3": {
      "model_module": "@jupyter-widgets/controls",
      "model_module_version": "1.5.0",
      "model_name": "DescriptionStyleModel",
      "state": {
       "description_width": ""
      }
     },
     "c189e0a8f108498ca69b1ec7999489e8": {
      "model_module": "@jupyter-widgets/controls",
      "model_module_version": "1.5.0",
      "model_name": "DescriptionStyleModel",
      "state": {
       "description_width": ""
      }
     },
     "c1c711cbb6b84d22b192d5a6966a6469": {
      "model_module": "@jupyter-widgets/controls",
      "model_module_version": "1.5.0",
      "model_name": "HTMLModel",
      "state": {
       "layout": "IPY_MODEL_ac167f1157cd413ba3d9fe626ef0a024",
       "style": "IPY_MODEL_c37095f4613f4afaacea58b2b285876c",
       "value": "<h4 style=\"font-size:14px;\">Was ist der Input eines Part-of-Speech-Taggers?</h4>"
      }
     },
     "c1ca32e7cea74447ba9d2dc60121c46a": {
      "model_module": "@jupyter-widgets/controls",
      "model_module_version": "1.5.0",
      "model_name": "ButtonStyleModel",
      "state": {}
     },
     "c1de58a5a60f43fc9a19297f0abfce9d": {
      "model_module": "@jupyter-widgets/base",
      "model_module_version": "1.2.0",
      "model_name": "LayoutModel",
      "state": {
       "justify_content": "center"
      }
     },
     "c20dfc60a27f45fb9293fd1c4286d472": {
      "model_module": "@jupyter-widgets/controls",
      "model_module_version": "1.5.0",
      "model_name": "BoxModel",
      "state": {
       "children": [
        "IPY_MODEL_2976b3cab49e411581fd34acd8ec42eb",
        "IPY_MODEL_e93a87bdf3d84338a5a36fb9ff09ddd9",
        "IPY_MODEL_7e7f78a21f9549bd892db3c8a134d263",
        "IPY_MODEL_2dff4d44a72846ca8fd5ee8b649d01be",
        "IPY_MODEL_938dd4f7729747988a8276e55b6399b2"
       ],
       "layout": "IPY_MODEL_1ad4f6d0d43f46a8af534e928e28c530"
      }
     },
     "c241ea64d9344e73821a1a17cc430b23": {
      "model_module": "@jupyter-widgets/base",
      "model_module_version": "1.2.0",
      "model_name": "LayoutModel",
      "state": {
       "width": "150px"
      }
     },
     "c2d1d48006024d6a8496f50b54e65a46": {
      "model_module": "@jupyter-widgets/controls",
      "model_module_version": "1.5.0",
      "model_name": "ButtonStyleModel",
      "state": {}
     },
     "c2e1ab4671204f75b781617ac9883f34": {
      "model_module": "@jupyter-widgets/controls",
      "model_module_version": "1.5.0",
      "model_name": "CheckboxModel",
      "state": {
       "description": "Koordinationstest",
       "disabled": false,
       "layout": "IPY_MODEL_630599fd239b42f3a03b45d80a18c5da",
       "style": "IPY_MODEL_155e71d17e144ec3b2ade669ed8b7630",
       "value": false
      }
     },
     "c313efde1bb74eb6a9988178be3970f5": {
      "model_module": "@jupyter-widgets/controls",
      "model_module_version": "1.5.0",
      "model_name": "VBoxModel",
      "state": {
       "children": [
        "IPY_MODEL_37e135ccfe1c49c6803fb0175b7a8bca",
        "IPY_MODEL_f3f6897ffd954663be5f718c3b52dbf4",
        "IPY_MODEL_796e41755e494cf7a7a9b404e72c96c5",
        "IPY_MODEL_d460f893ec7842c5a645227bfb85779b"
       ],
       "layout": "IPY_MODEL_66cfacf8efe74ac69649f18ccf66d229"
      }
     },
     "c326d7d7bdb1422b965119bfe3eb66da": {
      "model_module": "@jupyter-widgets/controls",
      "model_module_version": "1.5.0",
      "model_name": "HTMLModel",
      "state": {
       "layout": "IPY_MODEL_4f04538ccccc4ebe9d2676aa62f5606a",
       "style": "IPY_MODEL_e25b2d3bfa454da0b075333e180c4136",
       "value": "<h4 style=\"font-size:14px;\">gestellt. Die gesamte</h4>"
      }
     },
     "c341c339b5d34ca09bbe194c9f257baa": {
      "model_module": "@jupyter-widgets/controls",
      "model_module_version": "1.5.0",
      "model_name": "ButtonModel",
      "state": {
       "description": "Partikel",
       "layout": "IPY_MODEL_28c9ae188b9e43dca93ca830fcde053f",
       "style": "IPY_MODEL_01a2e208e05d4cc5a23654c96f85bbf9"
      }
     },
     "c3556369f69f4f618230217f40a11a34": {
      "model_module": "@jupyter-widgets/controls",
      "model_module_version": "1.5.0",
      "model_name": "VBoxModel",
      "state": {
       "children": [
        "IPY_MODEL_326222f8370440758e4ae968be068a14",
        "IPY_MODEL_4a20d73d0e554493a8f2fe2023bf8179",
        "IPY_MODEL_96cd3d0f5bab41a29de21809bfd056df",
        "IPY_MODEL_50851a6554dd4858b1bc4b80e4acbd40"
       ],
       "layout": "IPY_MODEL_76d97c0fbe2b461080ac78cf5593095e"
      }
     },
     "c37095f4613f4afaacea58b2b285876c": {
      "model_module": "@jupyter-widgets/controls",
      "model_module_version": "1.5.0",
      "model_name": "DescriptionStyleModel",
      "state": {
       "description_width": ""
      }
     },
     "c3a020671f0a4d818d8a084701172179": {
      "model_module": "@jupyter-widgets/controls",
      "model_module_version": "1.5.0",
      "model_name": "CheckboxModel",
      "state": {
       "description": "Mit einem Schritt beginnt eine Reise von tausend Meilen auch nur.",
       "disabled": false,
       "layout": "IPY_MODEL_5fb0a430a66945bc95fb73cb9381ab24",
       "style": "IPY_MODEL_8bf7fed136b148e4b0cf45db912e069f",
       "value": false
      }
     },
     "c3af466c24d44506b1f9260a2a49a65f": {
      "model_module": "@jupyter-widgets/controls",
      "model_module_version": "1.5.0",
      "model_name": "CheckboxModel",
      "state": {
       "description": "Es ist flektierbar.",
       "disabled": false,
       "layout": "IPY_MODEL_a000390f22c74042919fe5dd6d77e76f",
       "style": "IPY_MODEL_f0f165a340904a238810f3d8dcd0c050",
       "value": false
      }
     },
     "c3d414ce5b0640c293c69471dd1f94e9": {
      "model_module": "@jupyter-widgets/controls",
      "model_module_version": "1.5.0",
      "model_name": "ButtonModel",
      "state": {
       "description": "Adverb",
       "layout": "IPY_MODEL_70b645a3753a4e16930883b795c6adbf",
       "style": "IPY_MODEL_9b9f3f8c5cad4fc5b1c0675fc31b8a1d"
      }
     },
     "c3f6383cac75413ea4f6dafd08ad4edb": {
      "model_module": "@jupyter-widgets/base",
      "model_module_version": "1.2.0",
      "model_name": "LayoutModel",
      "state": {}
     },
     "c3fe458af4db435eab1e14b2d47905a6": {
      "model_module": "@jupyter-widgets/controls",
      "model_module_version": "1.5.0",
      "model_name": "ButtonStyleModel",
      "state": {
       "button_color": "lightgreen"
      }
     },
     "c40360b946ed4aa5b82157ec17562ce6": {
      "model_module": "@jupyter-widgets/controls",
      "model_module_version": "1.5.0",
      "model_name": "CheckboxModel",
      "state": {
       "description": "Permutationstest",
       "disabled": false,
       "layout": "IPY_MODEL_b10ea288310844dd9232a68e60cfa8bb",
       "style": "IPY_MODEL_d63766911afb47d899353a6a8a66741b",
       "value": false
      }
     },
     "c4352dfafbb945379ef2dba686c730bc": {
      "model_module": "@jupyter-widgets/controls",
      "model_module_version": "1.5.0",
      "model_name": "HTMLModel",
      "state": {
       "layout": "IPY_MODEL_bb089403b2434569b873ee4f12da0082",
       "style": "IPY_MODEL_074f12bbb25b487f81e7efee0c61140f",
       "value": "<i>Wählen Sie die <ins>eine</ins> korrekte Antwort aus: </i>"
      }
     },
     "c468339301cf4fc4b49d5c6258d215d6": {
      "model_module": "@jupyter-widgets/controls",
      "model_module_version": "1.5.0",
      "model_name": "ButtonStyleModel",
      "state": {}
     },
     "c48affd4183d48dd9450aabfb40af9a9": {
      "model_module": "@jupyter-widgets/controls",
      "model_module_version": "1.5.0",
      "model_name": "DescriptionStyleModel",
      "state": {
       "description_width": ""
      }
     },
     "c4b30b475df847ffbe911d3f16a86eeb": {
      "model_module": "@jupyter-widgets/base",
      "model_module_version": "1.2.0",
      "model_name": "LayoutModel",
      "state": {
       "width": "250px"
      }
     },
     "c4b783caf83d414c95e1935217ec0588": {
      "model_module": "@jupyter-widgets/base",
      "model_module_version": "1.2.0",
      "model_name": "LayoutModel",
      "state": {}
     },
     "c5084297333744079ad63aa08edb9388": {
      "model_module": "@jupyter-widgets/controls",
      "model_module_version": "1.5.0",
      "model_name": "DescriptionStyleModel",
      "state": {
       "description_width": "initial"
      }
     },
     "c50dc17e289d47318156b82e01a70c1f": {
      "model_module": "@jupyter-widgets/controls",
      "model_module_version": "1.5.0",
      "model_name": "DescriptionStyleModel",
      "state": {
       "description_width": ""
      }
     },
     "c567198da73f4466bb6835ce2d749fa0": {
      "model_module": "@jupyter-widgets/base",
      "model_module_version": "1.2.0",
      "model_name": "LayoutModel",
      "state": {
       "width": "150px"
      }
     },
     "c5abc37a63db447a838d510deda6dced": {
      "model_module": "@jupyter-widgets/base",
      "model_module_version": "1.2.0",
      "model_name": "LayoutModel",
      "state": {
       "width": "600px"
      }
     },
     "c5bbcf83b5884986a4380f08c0939547": {
      "model_module": "@jupyter-widgets/base",
      "model_module_version": "1.2.0",
      "model_name": "LayoutModel",
      "state": {
       "justify_content": "center"
      }
     },
     "c5d12191b0a7458f8e29c57158a298ba": {
      "model_module": "@jupyter-widgets/controls",
      "model_module_version": "1.5.0",
      "model_name": "CheckboxModel",
      "state": {
       "description": "gleiche Endungen",
       "disabled": false,
       "layout": "IPY_MODEL_d1c67788c1654a7d87e9b9184162f877",
       "style": "IPY_MODEL_ccf1c50e4a484c79beabdecf9e0989bc",
       "value": false
      }
     },
     "c5e89cde160f448997329d3757d50723": {
      "model_module": "@jupyter-widgets/controls",
      "model_module_version": "1.5.0",
      "model_name": "CheckboxModel",
      "state": {
       "description": "Es fungiert als Satzglied mit der syntaktischen Funktion Adverbial.",
       "disabled": false,
       "layout": "IPY_MODEL_04cc9e919b104e148a05a952386bb18e",
       "style": "IPY_MODEL_4cdfb3bb094543cfab0b310282762b60",
       "value": false
      }
     },
     "c63726ffa5de435982e5726bb2d2def1": {
      "model_module": "@jupyter-widgets/base",
      "model_module_version": "1.2.0",
      "model_name": "LayoutModel",
      "state": {
       "justify_content": "center"
      }
     },
     "c658568c52d14b44ad6e7e49eb7c8f05": {
      "model_module": "@jupyter-widgets/controls",
      "model_module_version": "1.5.0",
      "model_name": "HTMLModel",
      "state": {
       "layout": "IPY_MODEL_304f9c10ebe74043a967b56e2d878b58",
       "style": "IPY_MODEL_064c75f803844507ac1e59defe8d5a54",
       "value": "<i>Wählen Sie die <ins>eine</ins> korrekte Antwort aus: </i>"
      }
     },
     "c6ad8049be044902881b7be16ae16d70": {
      "model_module": "@jupyter-widgets/controls",
      "model_module_version": "1.5.0",
      "model_name": "ButtonStyleModel",
      "state": {}
     },
     "c7003ca5a72f4579987665489b12d9bc": {
      "model_module": "@jupyter-widgets/base",
      "model_module_version": "1.2.0",
      "model_name": "LayoutModel",
      "state": {
       "width": "150px"
      }
     },
     "c7436f60b46048abbaa17d48e27f9912": {
      "model_module": "@jupyter-widgets/controls",
      "model_module_version": "1.5.0",
      "model_name": "DescriptionStyleModel",
      "state": {
       "description_width": "initial"
      }
     },
     "c76e88c0c98a436fadadf82acd123442": {
      "model_module": "@jupyter-widgets/base",
      "model_module_version": "1.2.0",
      "model_name": "LayoutModel",
      "state": {
       "width": "250px"
      }
     },
     "c7d202e2330e4b9c88e38d9957290428": {
      "model_module": "@jupyter-widgets/controls",
      "model_module_version": "1.5.0",
      "model_name": "HTMLModel",
      "state": {
       "layout": "IPY_MODEL_b5491fbe3b1c42eb8b303fd4eb8c0cea",
       "style": "IPY_MODEL_1922660e261d4498a242b9ab4bc51f0d",
       "value": "<h4 style=\"font-size:14px;\">Was ist der Input eines Part-of-Speech-Taggers?</h4>"
      }
     },
     "c7e036d791d74f128dc23055eed85c40": {
      "model_module": "@jupyter-widgets/base",
      "model_module_version": "1.2.0",
      "model_name": "LayoutModel",
      "state": {
       "width": "600px"
      }
     },
     "c7e7d410557a45faaea91c20e514a237": {
      "model_module": "@jupyter-widgets/base",
      "model_module_version": "1.2.0",
      "model_name": "LayoutModel",
      "state": {
       "width": "250px"
      }
     },
     "c7f3800d9ce8468b94dcd80e361ab0e0": {
      "model_module": "@jupyter-widgets/controls",
      "model_module_version": "1.5.0",
      "model_name": "DescriptionStyleModel",
      "state": {
       "description_width": ""
      }
     },
     "c8f8b5c757ca4569b59ee5f988759ccd": {
      "model_module": "@jupyter-widgets/controls",
      "model_module_version": "1.5.0",
      "model_name": "ButtonStyleModel",
      "state": {}
     },
     "c9201a173d0d41f1a23b50f505395f2e": {
      "model_module": "@jupyter-widgets/controls",
      "model_module_version": "1.5.0",
      "model_name": "HTMLModel",
      "state": {
       "layout": "IPY_MODEL_a83dd957b13f4887ab9bba5ba91fbff4",
       "style": "IPY_MODEL_be6756c113b4409180b14ae8b036cfe7",
       "value": "<h4 style=\"font-size:14px;\">. Aus dieser wurde es extrahiert und ins</h4>"
      }
     },
     "c9572f926aa646f99187944dec30a40d": {
      "model_module": "@jupyter-widgets/base",
      "model_module_version": "1.2.0",
      "model_name": "LayoutModel",
      "state": {}
     },
     "c96f4e264ce84d3bbe7c8bbd6d897f08": {
      "model_module": "@jupyter-widgets/base",
      "model_module_version": "1.2.0",
      "model_name": "LayoutModel",
      "state": {
       "width": "250px"
      }
     },
     "ca5b497526184daf836677f5f69a7f9d": {
      "model_module": "@jupyter-widgets/base",
      "model_module_version": "1.2.0",
      "model_name": "LayoutModel",
      "state": {
       "width": "250px"
      }
     },
     "ca7e984b336d46e3b5c4e42503f517e0": {
      "model_module": "@jupyter-widgets/base",
      "model_module_version": "1.2.0",
      "model_name": "LayoutModel",
      "state": {}
     },
     "caa67560371d49ba8e75f451a2da387a": {
      "model_module": "@jupyter-widgets/controls",
      "model_module_version": "1.5.0",
      "model_name": "ButtonStyleModel",
      "state": {}
     },
     "cb060d0118d24822b1ebb718710ddd61": {
      "model_module": "@jupyter-widgets/controls",
      "model_module_version": "1.5.0",
      "model_name": "ButtonModel",
      "state": {
       "description": "Korrekt?",
       "layout": "IPY_MODEL_9399b70633e54dcebcbf66c92901cf1b",
       "style": "IPY_MODEL_149a4c27e79d498fb44de0e7e6437a34"
      }
     },
     "cb541c2b746540dca887c648c600bd26": {
      "model_module": "@jupyter-widgets/controls",
      "model_module_version": "1.5.0",
      "model_name": "ButtonModel",
      "state": {
       "description": "base",
       "layout": "IPY_MODEL_e12749793be040eeb09a989ad09184bd",
       "style": "IPY_MODEL_06d1fc3fae7444119bafbff969c1f989"
      }
     },
     "cb6b1561a4594c9096e8cbd83ce08217": {
      "model_module": "@jupyter-widgets/controls",
      "model_module_version": "1.5.0",
      "model_name": "DescriptionStyleModel",
      "state": {
       "description_width": "initial"
      }
     },
     "cb98be18cfdf477d9a4cc13eee537a54": {
      "model_module": "@jupyter-widgets/base",
      "model_module_version": "1.2.0",
      "model_name": "LayoutModel",
      "state": {}
     },
     "cba07b35ed8f423db2c8d6b181939a8d": {
      "model_module": "@jupyter-widgets/base",
      "model_module_version": "1.2.0",
      "model_name": "LayoutModel",
      "state": {}
     },
     "cc214c5f71454c6695f0d52f2ef42e96": {
      "model_module": "@jupyter-widgets/controls",
      "model_module_version": "1.5.0",
      "model_name": "DescriptionStyleModel",
      "state": {
       "description_width": ""
      }
     },
     "cc580e7479a34bf09e5d548b98fbafe1": {
      "model_module": "@jupyter-widgets/controls",
      "model_module_version": "1.5.0",
      "model_name": "HBoxModel",
      "state": {
       "children": [
        "IPY_MODEL_50eaf96c197d49489ed2b667ecdfd57c",
        "IPY_MODEL_cb541c2b746540dca887c648c600bd26"
       ],
       "layout": "IPY_MODEL_7eeeb7e90fd244198ad1ab39df69d943"
      }
     },
     "ccf1c50e4a484c79beabdecf9e0989bc": {
      "model_module": "@jupyter-widgets/controls",
      "model_module_version": "1.5.0",
      "model_name": "DescriptionStyleModel",
      "state": {
       "description_width": "initial"
      }
     },
     "ccf2c0889551436c9f646241ad0445f1": {
      "model_module": "@jupyter-widgets/controls",
      "model_module_version": "1.5.0",
      "model_name": "ButtonStyleModel",
      "state": {}
     },
     "cd17bc81b44f46ae83a591e63526f4f9": {
      "model_module": "@jupyter-widgets/controls",
      "model_module_version": "1.5.0",
      "model_name": "DescriptionStyleModel",
      "state": {
       "description_width": "initial"
      }
     },
     "cd67fe43232e4e7da4380133cfacfb4c": {
      "model_module": "@jupyter-widgets/controls",
      "model_module_version": "1.5.0",
      "model_name": "ButtonStyleModel",
      "state": {}
     },
     "cd8e9604b25147fc9d12972b96b833b5": {
      "model_module": "@jupyter-widgets/base",
      "model_module_version": "1.2.0",
      "model_name": "LayoutModel",
      "state": {}
     },
     "cde5af8e3b894eefbe6afb678ce73996": {
      "model_module": "@jupyter-widgets/controls",
      "model_module_version": "1.5.0",
      "model_name": "VBoxModel",
      "state": {
       "children": [
        "IPY_MODEL_3a6b3502925d466086021aaa4d7bb13e",
        "IPY_MODEL_2f2d5b44ddb1480ba05585fa6ee3672b",
        "IPY_MODEL_d983df5d99d5441dba5daf5753bf58b6",
        "IPY_MODEL_22cffb5bdaba48f3bc5551d768085451",
        "IPY_MODEL_6cb1e4d32a1c41eb8240661650a82f1c"
       ],
       "layout": "IPY_MODEL_c4b783caf83d414c95e1935217ec0588"
      }
     },
     "ce09b8a6c89240ed823645ae5b7f19c0": {
      "model_module": "@jupyter-widgets/controls",
      "model_module_version": "1.5.0",
      "model_name": "DescriptionStyleModel",
      "state": {
       "description_width": ""
      }
     },
     "ce6fb6fd2d8d4b7c9a7cd4da7e428009": {
      "model_module": "@jupyter-widgets/controls",
      "model_module_version": "1.5.0",
      "model_name": "ButtonStyleModel",
      "state": {}
     },
     "cea0973b5cf44e80acf68d43540f31dd": {
      "model_module": "@jupyter-widgets/controls",
      "model_module_version": "1.5.0",
      "model_name": "ButtonModel",
      "state": {
       "description": "Korrekt?",
       "layout": "IPY_MODEL_70d030c30cc34ba284a6cfe0b212fb7f",
       "style": "IPY_MODEL_af4f98d6f22845f2a1c151a2188705ee"
      }
     },
     "cea54cfec8024d4484d5a1c61004dde0": {
      "model_module": "@jupyter-widgets/base",
      "model_module_version": "1.2.0",
      "model_name": "LayoutModel",
      "state": {
       "justify_content": "center"
      }
     },
     "d00169b47352490fba4f891f95c66353": {
      "model_module": "@jupyter-widgets/controls",
      "model_module_version": "1.5.0",
      "model_name": "ButtonModel",
      "state": {
       "description": "Adjektiv",
       "layout": "IPY_MODEL_837b9c1168c94c8cb3395249312a08c0",
       "style": "IPY_MODEL_42d8b944d73f4b9ea86726ebbca958b3"
      }
     },
     "d03ef6364ff040ebaa328f567c2bd17c": {
      "model_module": "@jupyter-widgets/controls",
      "model_module_version": "1.5.0",
      "model_name": "DescriptionStyleModel",
      "state": {
       "description_width": ""
      }
     },
     "d05a997576144bfaa21514493a8d76ef": {
      "model_module": "@jupyter-widgets/controls",
      "model_module_version": "1.5.0",
      "model_name": "ButtonStyleModel",
      "state": {}
     },
     "d09023a10b314aaf9583d37504f10777": {
      "model_module": "@jupyter-widgets/controls",
      "model_module_version": "1.5.0",
      "model_name": "HTMLModel",
      "state": {
       "layout": "IPY_MODEL_4f64b3d5d591477f901156d61f75511e",
       "style": "IPY_MODEL_24fcacd03eaf4c43a67c3c8c4043ca8d",
       "value": "<i>Wählen Sie die <ins>eine</ins> korrekte Antwort aus: </i>"
      }
     },
     "d09f9ec6cf224f10af9c79f09ce5b147": {
      "model_module": "@jupyter-widgets/controls",
      "model_module_version": "1.5.0",
      "model_name": "HBoxModel",
      "state": {
       "children": [
        "IPY_MODEL_00a9ef48009e4b2c8b96f24a5ce06df7",
        "IPY_MODEL_793c6879d3c547349f02dcd95403dc69"
       ],
       "layout": "IPY_MODEL_a81663125b52448dacbb66c8de6e0b6d"
      }
     },
     "d0e56571d31947cfa6dbfc1ecabca1e3": {
      "model_module": "@jupyter-widgets/controls",
      "model_module_version": "1.5.0",
      "model_name": "ButtonStyleModel",
      "state": {}
     },
     "d101494a2c854a5fbd9a34497b7167e4": {
      "model_module": "@jupyter-widgets/base",
      "model_module_version": "1.2.0",
      "model_name": "LayoutModel",
      "state": {
       "justify_content": "center"
      }
     },
     "d1c67788c1654a7d87e9b9184162f877": {
      "model_module": "@jupyter-widgets/base",
      "model_module_version": "1.2.0",
      "model_name": "LayoutModel",
      "state": {
       "width": "600px"
      }
     },
     "d1cb2caac56c47af9a115f40dc7a2aa7": {
      "model_module": "@jupyter-widgets/controls",
      "model_module_version": "1.5.0",
      "model_name": "ButtonModel",
      "state": {
       "description": "past participle",
       "layout": "IPY_MODEL_ec93053db6f34cfbb247f4b225479895",
       "style": "IPY_MODEL_c1ca32e7cea74447ba9d2dc60121c46a"
      }
     },
     "d1e674185bf743259680c27b00c89c4b": {
      "model_module": "@jupyter-widgets/base",
      "model_module_version": "1.2.0",
      "model_name": "LayoutModel",
      "state": {
       "width": "600px"
      }
     },
     "d1f64c7c581f4b3cbf1d947449a327b6": {
      "model_module": "@jupyter-widgets/controls",
      "model_module_version": "1.5.0",
      "model_name": "ButtonStyleModel",
      "state": {}
     },
     "d2c721841e1540f4987491c43c90edf1": {
      "model_module": "@jupyter-widgets/controls",
      "model_module_version": "1.5.0",
      "model_name": "DescriptionStyleModel",
      "state": {
       "description_width": ""
      }
     },
     "d2c7c0043c8f47179e1f8113eeda335a": {
      "model_module": "@jupyter-widgets/base",
      "model_module_version": "1.2.0",
      "model_name": "LayoutModel",
      "state": {}
     },
     "d312056bf6e4472bb04e7a812bf0735a": {
      "model_module": "@jupyter-widgets/controls",
      "model_module_version": "1.5.0",
      "model_name": "DescriptionStyleModel",
      "state": {
       "description_width": ""
      }
     },
     "d32c6299240f41d89af8700d62af69f3": {
      "model_module": "@jupyter-widgets/controls",
      "model_module_version": "1.5.0",
      "model_name": "DescriptionStyleModel",
      "state": {
       "description_width": ""
      }
     },
     "d460f893ec7842c5a645227bfb85779b": {
      "model_module": "@jupyter-widgets/controls",
      "model_module_version": "1.5.0",
      "model_name": "HBoxModel",
      "state": {
       "children": [
        "IPY_MODEL_ed0d229068b24f54b5b87443f3c2a9c6"
       ],
       "layout": "IPY_MODEL_16420ed9c3e3441d940e94f4fe8110d0"
      }
     },
     "d49b46b98cde40caafb7927c786974c3": {
      "model_module": "@jupyter-widgets/controls",
      "model_module_version": "1.5.0",
      "model_name": "HTMLModel",
      "state": {
       "layout": "IPY_MODEL_66a27add57184220ae57bdd2ac84f758",
       "style": "IPY_MODEL_1379c82546f54bde885240dde463d370",
       "value": "<h4 style=\"font-size:14px;\">Was ist der Output eines Part-of-Speech-Taggers?</h4>"
      }
     },
     "d4b6de6e4df0451f94d66a5304e8086b": {
      "model_module": "@jupyter-widgets/controls",
      "model_module_version": "1.5.0",
      "model_name": "VBoxModel",
      "state": {
       "children": [
        "IPY_MODEL_2301f151919f454384a0345d5768bc30",
        "IPY_MODEL_353354a0bf984c5bbdf90f8d5711d7f3",
        "IPY_MODEL_629b83d5656b4bcba9e22e3b2b78a613"
       ],
       "layout": "IPY_MODEL_b3c78f7740564661b535b27c508223b0"
      }
     },
     "d4b881baabd24fdc9ec27782c9ae024a": {
      "model_module": "@jupyter-widgets/base",
      "model_module_version": "1.2.0",
      "model_name": "LayoutModel",
      "state": {
       "width": "250px"
      }
     },
     "d50ce8dee63b4e889114debc4fbff238": {
      "model_module": "@jupyter-widgets/base",
      "model_module_version": "1.2.0",
      "model_name": "LayoutModel",
      "state": {}
     },
     "d60bdc327a5d4d219c7d37bf8da94628": {
      "model_module": "@jupyter-widgets/controls",
      "model_module_version": "1.5.0",
      "model_name": "ButtonStyleModel",
      "state": {}
     },
     "d61c5ede92304c1aa15008f82b514f3b": {
      "model_module": "@jupyter-widgets/base",
      "model_module_version": "1.2.0",
      "model_name": "LayoutModel",
      "state": {}
     },
     "d620106d76f64e6abbed3958f72bcd4f": {
      "model_module": "@jupyter-widgets/controls",
      "model_module_version": "1.5.0",
      "model_name": "ButtonStyleModel",
      "state": {}
     },
     "d63766911afb47d899353a6a8a66741b": {
      "model_module": "@jupyter-widgets/controls",
      "model_module_version": "1.5.0",
      "model_name": "DescriptionStyleModel",
      "state": {
       "description_width": "initial"
      }
     },
     "d674b5c817ed446da5c477d482cbe259": {
      "model_module": "@jupyter-widgets/controls",
      "model_module_version": "1.5.0",
      "model_name": "VBoxModel",
      "state": {
       "children": [
        "IPY_MODEL_d72f723e2f9b417ab3bab5fc557ede5d",
        "IPY_MODEL_0883c7dcf0844483ba6d5cfcb8806780",
        "IPY_MODEL_6f65e3ad03f64bcd9f514c436ffc749f",
        "IPY_MODEL_e21ea6fabe2f48bfae7058be8a3531e2"
       ],
       "layout": "IPY_MODEL_2a65c8269a604cba867e3d7f3663e7fd"
      }
     },
     "d6934ba0ab544de6b0cc3c5adc87da6e": {
      "model_module": "@jupyter-widgets/controls",
      "model_module_version": "1.5.0",
      "model_name": "ButtonStyleModel",
      "state": {}
     },
     "d6f85380bcb243feb48b8c6d4892fdc7": {
      "model_module": "@jupyter-widgets/base",
      "model_module_version": "1.2.0",
      "model_name": "LayoutModel",
      "state": {
       "justify_content": "center"
      }
     },
     "d710d61cd6ed4ba19af632b82e3769e6": {
      "model_module": "@jupyter-widgets/controls",
      "model_module_version": "1.5.0",
      "model_name": "DescriptionStyleModel",
      "state": {
       "description_width": "initial"
      }
     },
     "d728b8178cf843f8a46461afb9ff2217": {
      "model_module": "@jupyter-widgets/controls",
      "model_module_version": "1.5.0",
      "model_name": "ButtonStyleModel",
      "state": {}
     },
     "d72f723e2f9b417ab3bab5fc557ede5d": {
      "model_module": "@jupyter-widgets/controls",
      "model_module_version": "1.5.0",
      "model_name": "HTMLModel",
      "state": {
       "layout": "IPY_MODEL_77d0d280cb76479ca0d9a653d989741c",
       "style": "IPY_MODEL_439aa35473634ba394787a9b72a78060",
       "value": "<h4 style=\"font-size:14px;\">Was sind morphologische Kriterien für Wortkategorien?</h4>"
      }
     },
     "d7450bc5eafa48978000a5ce539d59e0": {
      "model_module": "@jupyter-widgets/controls",
      "model_module_version": "1.5.0",
      "model_name": "ButtonModel",
      "state": {
       "description": "simple past",
       "layout": "IPY_MODEL_84cf1803afbe4393b2001fc107f2d43c",
       "style": "IPY_MODEL_3ca5553966f5495fb1d7e8e9d95437d5"
      }
     },
     "d77c7bcec6014c42a3abf6d32f983df4": {
      "model_module": "@jupyter-widgets/controls",
      "model_module_version": "1.5.0",
      "model_name": "DescriptionStyleModel",
      "state": {
       "description_width": "initial"
      }
     },
     "d78e0dc4ac3c4a2e860bdacc1ab466ed": {
      "model_module": "@jupyter-widgets/controls",
      "model_module_version": "1.5.0",
      "model_name": "DescriptionStyleModel",
      "state": {
       "description_width": ""
      }
     },
     "d7c8e7fe61a1449bb65b6a8363c68735": {
      "model_module": "@jupyter-widgets/base",
      "model_module_version": "1.2.0",
      "model_name": "LayoutModel",
      "state": {}
     },
     "d8ac27b3b6ab45cb8f4d72d91ede0813": {
      "model_module": "@jupyter-widgets/controls",
      "model_module_version": "1.5.0",
      "model_name": "DescriptionStyleModel",
      "state": {
       "description_width": ""
      }
     },
     "d8c56480b27344109ee42a58fd669e97": {
      "model_module": "@jupyter-widgets/controls",
      "model_module_version": "1.5.0",
      "model_name": "DescriptionStyleModel",
      "state": {
       "description_width": ""
      }
     },
     "d8ececb5683f40149c02e4804c6574f0": {
      "model_module": "@jupyter-widgets/controls",
      "model_module_version": "1.5.0",
      "model_name": "DescriptionStyleModel",
      "state": {
       "description_width": ""
      }
     },
     "d901d31af6be4b0f82d009e415534e3a": {
      "model_module": "@jupyter-widgets/base",
      "model_module_version": "1.2.0",
      "model_name": "LayoutModel",
      "state": {
       "width": "600px"
      }
     },
     "d90e96bc90614d69bb16602a37b17435": {
      "model_module": "@jupyter-widgets/controls",
      "model_module_version": "1.5.0",
      "model_name": "DescriptionStyleModel",
      "state": {
       "description_width": ""
      }
     },
     "d916d2e453834df4bb6b57bd6274c393": {
      "model_module": "@jupyter-widgets/controls",
      "model_module_version": "1.5.0",
      "model_name": "DescriptionStyleModel",
      "state": {
       "description_width": ""
      }
     },
     "d9212a492a3f43808b129ff8d66421ba": {
      "model_module": "@jupyter-widgets/controls",
      "model_module_version": "1.5.0",
      "model_name": "VBoxModel",
      "state": {
       "children": [
        "IPY_MODEL_1f7ff264911f43b89ed5c66dab9808d5",
        "IPY_MODEL_9d460fbdd6d74b219d0c1cd7f2400f26",
        "IPY_MODEL_bd87ffa773a940b4b889041c3e1c9225",
        "IPY_MODEL_77a6e32be5624dc58777a109e860c367"
       ],
       "layout": "IPY_MODEL_f2365b07eedc4cce93bff2cd21f33ff9"
      }
     },
     "d922babe899f49588a183d5e225ef77b": {
      "model_module": "@jupyter-widgets/base",
      "model_module_version": "1.2.0",
      "model_name": "LayoutModel",
      "state": {
       "width": "150px"
      }
     },
     "d95d87273dce47ecbd1ba8ab623aad7c": {
      "model_module": "@jupyter-widgets/base",
      "model_module_version": "1.2.0",
      "model_name": "LayoutModel",
      "state": {
       "justify_content": "center"
      }
     },
     "d983df5d99d5441dba5daf5753bf58b6": {
      "model_module": "@jupyter-widgets/controls",
      "model_module_version": "1.5.0",
      "model_name": "HBoxModel",
      "state": {
       "children": [
        "IPY_MODEL_de317967e48c4da0b31c952314bbfc5d",
        "IPY_MODEL_967fb8e951e846528a9afaab044cdd5d"
       ],
       "layout": "IPY_MODEL_2ac13be1bd7440dcaac727f1d49c8dbb"
      }
     },
     "d9bab29d4f5643cbb33ab36f096ba05d": {
      "model_module": "@jupyter-widgets/base",
      "model_module_version": "1.2.0",
      "model_name": "LayoutModel",
      "state": {}
     },
     "da44700f61d24727b1e813a4654dafbf": {
      "model_module": "@jupyter-widgets/base",
      "model_module_version": "1.2.0",
      "model_name": "LayoutModel",
      "state": {
       "width": "250px"
      }
     },
     "da801cf9f17d4dc1911b9e6c7c692164": {
      "model_module": "@jupyter-widgets/base",
      "model_module_version": "1.2.0",
      "model_name": "LayoutModel",
      "state": {
       "width": "600px"
      }
     },
     "dad344a190254f1cb98259ce492022a3": {
      "model_module": "@jupyter-widgets/controls",
      "model_module_version": "1.5.0",
      "model_name": "HTMLModel",
      "state": {
       "layout": "IPY_MODEL_016a69f3f2184996aa00b2185d68308e",
       "style": "IPY_MODEL_64fd2306496241e0b5d3fec625a31910",
       "value": "<i>Vervollständigen Sie den Lückentext: </i>"
      }
     },
     "db04f441e4e645c4ad01a45e63375021": {
      "model_module": "@jupyter-widgets/base",
      "model_module_version": "1.2.0",
      "model_name": "LayoutModel",
      "state": {
       "width": "250px"
      }
     },
     "db05c75c01354125be7f23f73fa2cc0b": {
      "model_module": "@jupyter-widgets/base",
      "model_module_version": "1.2.0",
      "model_name": "LayoutModel",
      "state": {}
     },
     "db14c74785d84a37b76c0d23414eec31": {
      "model_module": "@jupyter-widgets/controls",
      "model_module_version": "1.5.0",
      "model_name": "ButtonStyleModel",
      "state": {}
     },
     "db3cf2b64bdd425d9e9db2af2a75f7dd": {
      "model_module": "@jupyter-widgets/controls",
      "model_module_version": "1.5.0",
      "model_name": "CheckboxModel",
      "state": {
       "description": "gleiche syntagmatische Position",
       "disabled": false,
       "layout": "IPY_MODEL_42e7fe6b3f8144c7bdc0f3682cc38c0c",
       "style": "IPY_MODEL_c5084297333744079ad63aa08edb9388",
       "value": false
      }
     },
     "db497838d8184d56abe71d5f5fc296e9": {
      "model_module": "@jupyter-widgets/controls",
      "model_module_version": "1.5.0",
      "model_name": "DescriptionStyleModel",
      "state": {
       "description_width": ""
      }
     },
     "dbf58ae398a64d7a828d1144cc93983b": {
      "model_module": "@jupyter-widgets/controls",
      "model_module_version": "1.5.0",
      "model_name": "DescriptionStyleModel",
      "state": {
       "description_width": ""
      }
     },
     "dc9a82b0e52f41fba78f60e79b2b2185": {
      "model_module": "@jupyter-widgets/controls",
      "model_module_version": "1.5.0",
      "model_name": "ButtonStyleModel",
      "state": {}
     },
     "dcebe00cae8b4c2a8a47a1177277ca96": {
      "model_module": "@jupyter-widgets/controls",
      "model_module_version": "1.5.0",
      "model_name": "HTMLModel",
      "state": {
       "layout": "IPY_MODEL_34de899f577f485789ecc532ae825e2f",
       "style": "IPY_MODEL_975c22558bd64eaaab15127f0a1acdea",
       "value": "<h4 style=\"font-size:14px;\">Ersetzbarkeit einer</h4>"
      }
     },
     "dd7b74673b224fc384620983f062fcb9": {
      "model_module": "@jupyter-widgets/base",
      "model_module_version": "1.2.0",
      "model_name": "LayoutModel",
      "state": {
       "width": "150px"
      }
     },
     "ddfeea0a4a5a4a2399a0755442096455": {
      "model_module": "@jupyter-widgets/base",
      "model_module_version": "1.2.0",
      "model_name": "LayoutModel",
      "state": {}
     },
     "de317967e48c4da0b31c952314bbfc5d": {
      "model_module": "@jupyter-widgets/controls",
      "model_module_version": "1.5.0",
      "model_name": "ButtonModel",
      "state": {
       "description": "3rd singular present",
       "layout": "IPY_MODEL_3d069fff3d7f4b2b9be7be475bc5d752",
       "style": "IPY_MODEL_4904f38276e34246a1eea7ff7fcdf9eb"
      }
     },
     "de798b2bc8fe4de2b2306fa17a507b3a": {
      "model_module": "@jupyter-widgets/controls",
      "model_module_version": "1.5.0",
      "model_name": "ButtonModel",
      "state": {
       "description": "base",
       "layout": "IPY_MODEL_8b11e38939f54a8a812efbc602716532",
       "style": "IPY_MODEL_ed261339d5054360b40211e2da71e9fb"
      }
     },
     "deb4de469b044a599dc61f04f6f7c67f": {
      "model_module": "@jupyter-widgets/controls",
      "model_module_version": "1.5.0",
      "model_name": "HBoxModel",
      "state": {
       "children": [
        "IPY_MODEL_af2fb6b45fc548fd98a646897832e290",
        "IPY_MODEL_fa12fbcd5d7e4417acf833fb05d80359"
       ],
       "layout": "IPY_MODEL_5313505224b84c59a620aa185939c200"
      }
     },
     "deedd79c9ac345bcb7a4690f43d8169f": {
      "model_module": "@jupyter-widgets/base",
      "model_module_version": "1.2.0",
      "model_name": "LayoutModel",
      "state": {
       "justify_content": "center"
      }
     },
     "df1b5aef4f6746079c86a99088591c27": {
      "model_module": "@jupyter-widgets/base",
      "model_module_version": "1.2.0",
      "model_name": "LayoutModel",
      "state": {}
     },
     "df59282f16ee47c99e726c85a36a8804": {
      "model_module": "@jupyter-widgets/base",
      "model_module_version": "1.2.0",
      "model_name": "LayoutModel",
      "state": {}
     },
     "df5dd6a39e864fb392ab91f0d5075039": {
      "model_module": "@jupyter-widgets/controls",
      "model_module_version": "1.5.0",
      "model_name": "HTMLModel",
      "state": {
       "layout": "IPY_MODEL_adaf2e47c0e24dc69a26d4253d67f127",
       "style": "IPY_MODEL_92ecb572a8ff4be485f04a41591b85d6",
       "value": "<h4 style=\"font-size:14px;\">Was bedeutet das Tag <i>VBN</i> im Browntagset (siehe 5.7)?</h4>"
      }
     },
     "dfc6a4876d43460fb0b830b7a01baef1": {
      "model_module": "@jupyter-widgets/controls",
      "model_module_version": "1.5.0",
      "model_name": "ButtonStyleModel",
      "state": {}
     },
     "dfee337842794312b1c292280e567df1": {
      "model_module": "@jupyter-widgets/base",
      "model_module_version": "1.2.0",
      "model_name": "LayoutModel",
      "state": {
       "width": "250px"
      }
     },
     "e02515e85aeb4ba6a59a6757faec8a10": {
      "model_module": "@jupyter-widgets/controls",
      "model_module_version": "1.5.0",
      "model_name": "ButtonModel",
      "state": {
       "description": "Wortfolge",
       "layout": "IPY_MODEL_02d922fcc84d4f309e6854e7dc695a30",
       "style": "IPY_MODEL_ae045a4595d84769a94a54c23112dd1b"
      }
     },
     "e0881095be274ffb936be30c0e2c6a35": {
      "model_module": "@jupyter-widgets/controls",
      "model_module_version": "1.5.0",
      "model_name": "ButtonStyleModel",
      "state": {}
     },
     "e0920a9d57854086bb84d6b581de0dc2": {
      "model_module": "@jupyter-widgets/controls",
      "model_module_version": "1.5.0",
      "model_name": "ButtonStyleModel",
      "state": {}
     },
     "e0ce49d73fd3469fbb7a0346a8084c63": {
      "model_module": "@jupyter-widgets/controls",
      "model_module_version": "1.5.0",
      "model_name": "DescriptionStyleModel",
      "state": {
       "description_width": ""
      }
     },
     "e0daf1a6a48548e1a202ccf407ba871a": {
      "model_module": "@jupyter-widgets/base",
      "model_module_version": "1.2.0",
      "model_name": "LayoutModel",
      "state": {}
     },
     "e10a2c1cad474592bffe9753964b70c1": {
      "model_module": "@jupyter-widgets/controls",
      "model_module_version": "1.5.0",
      "model_name": "HTMLModel",
      "state": {
       "layout": "IPY_MODEL_f2db7105f6e14b64ad48e4402bd33b9e",
       "style": "IPY_MODEL_9f76aacb2445403abed90e72d79d3a79",
       "value": "<i>Wählen Sie die <ins>eine</ins> korrekte Antwort aus: </i>"
      }
     },
     "e12749793be040eeb09a989ad09184bd": {
      "model_module": "@jupyter-widgets/base",
      "model_module_version": "1.2.0",
      "model_name": "LayoutModel",
      "state": {
       "width": "250px"
      }
     },
     "e21ea6fabe2f48bfae7058be8a3531e2": {
      "model_module": "@jupyter-widgets/controls",
      "model_module_version": "1.5.0",
      "model_name": "ButtonModel",
      "state": {
       "description": "Korrekt?",
       "layout": "IPY_MODEL_20fcaae9341c44f08f85626a4c9f1e80",
       "style": "IPY_MODEL_bfd9a3de223643ada9d2b724f88534fd"
      }
     },
     "e25b2d3bfa454da0b075333e180c4136": {
      "model_module": "@jupyter-widgets/controls",
      "model_module_version": "1.5.0",
      "model_name": "DescriptionStyleModel",
      "state": {
       "description_width": ""
      }
     },
     "e26c035c2d5a436d9839f742377dab98": {
      "model_module": "@jupyter-widgets/base",
      "model_module_version": "1.2.0",
      "model_name": "LayoutModel",
      "state": {}
     },
     "e2f5aba03c5f4146bbf973914ec7eda5": {
      "model_module": "@jupyter-widgets/controls",
      "model_module_version": "1.5.0",
      "model_name": "HTMLModel",
      "state": {
       "layout": "IPY_MODEL_8a54dabbb8e349d6b45c781a317d83c7",
       "style": "IPY_MODEL_f38c34f69774414580f6f2279fe538a7",
       "value": "<h4 style=\"font-size:14px;\">umfasst die</h4>"
      }
     },
     "e3158e733ffd48d391c08760bd506e65": {
      "model_module": "@jupyter-widgets/controls",
      "model_module_version": "1.5.0",
      "model_name": "CheckboxModel",
      "state": {
       "description": "Es fungiert als Satzglied mit der syntaktischen Funktion Adverbial.",
       "disabled": false,
       "layout": "IPY_MODEL_55a7582bdd114c06bd908d3f37f085fd",
       "style": "IPY_MODEL_9c6e4d1e9b3f4637b68078b648629a4f",
       "value": true
      }
     },
     "e36cb59e50c14df481bf2a021227f53d": {
      "model_module": "@jupyter-widgets/controls",
      "model_module_version": "1.5.0",
      "model_name": "ButtonModel",
      "state": {
       "description": "3rd singular present",
       "layout": "IPY_MODEL_64f467b5cbb5496ab43f10e2e9720812",
       "style": "IPY_MODEL_c8f8b5c757ca4569b59ee5f988759ccd"
      }
     },
     "e37855ba75324c32ae6ac2f83446ebd9": {
      "model_module": "@jupyter-widgets/controls",
      "model_module_version": "1.5.0",
      "model_name": "ButtonStyleModel",
      "state": {}
     },
     "e3ad19658d8d4a54b5b67550b60fecc0": {
      "model_module": "@jupyter-widgets/base",
      "model_module_version": "1.2.0",
      "model_name": "LayoutModel",
      "state": {
       "width": "250px"
      }
     },
     "e3bcc786e4144b49912127d7da4652c4": {
      "model_module": "@jupyter-widgets/controls",
      "model_module_version": "1.5.0",
      "model_name": "DescriptionStyleModel",
      "state": {
       "description_width": ""
      }
     },
     "e43028efb90645c2bfbfb07f0f34f388": {
      "model_module": "@jupyter-widgets/base",
      "model_module_version": "1.2.0",
      "model_name": "LayoutModel",
      "state": {
       "width": "250px"
      }
     },
     "e4b1b2eb8a604a3b8f25b4af3fb5ac6e": {
      "model_module": "@jupyter-widgets/controls",
      "model_module_version": "1.5.0",
      "model_name": "DescriptionStyleModel",
      "state": {
       "description_width": ""
      }
     },
     "e501479463984cc6904dcb3ddd026d3d": {
      "model_module": "@jupyter-widgets/base",
      "model_module_version": "1.2.0",
      "model_name": "LayoutModel",
      "state": {}
     },
     "e55ef68df45e41f6a0db261df1a3f0d4": {
      "model_module": "@jupyter-widgets/base",
      "model_module_version": "1.2.0",
      "model_name": "LayoutModel",
      "state": {}
     },
     "e589351266d842f5a113c644a4a876cc": {
      "model_module": "@jupyter-widgets/base",
      "model_module_version": "1.2.0",
      "model_name": "LayoutModel",
      "state": {}
     },
     "e6444d01057248968f2191c59c4f4a44": {
      "model_module": "@jupyter-widgets/controls",
      "model_module_version": "1.5.0",
      "model_name": "DescriptionStyleModel",
      "state": {
       "description_width": ""
      }
     },
     "e66f9f19a3344b7fb6c968a867d5bbf2": {
      "model_module": "@jupyter-widgets/controls",
      "model_module_version": "1.5.0",
      "model_name": "HTMLModel",
      "state": {
       "layout": "IPY_MODEL_38e4c76b4aba48ee8b9ff0311edc316d",
       "style": "IPY_MODEL_eca2609e3cf84dbaac22f1c3db86fee1",
       "value": "<i>Wählen Sie die <ins>eine</ins> korrekte Antwort aus: </i>"
      }
     },
     "e6d4368cae654683b354f408d57cbd93": {
      "model_module": "@jupyter-widgets/controls",
      "model_module_version": "1.5.0",
      "model_name": "ButtonStyleModel",
      "state": {}
     },
     "e711b143bfb94fb898fb5f32b4d16938": {
      "model_module": "@jupyter-widgets/controls",
      "model_module_version": "1.5.0",
      "model_name": "HBoxModel",
      "state": {
       "children": [
        "IPY_MODEL_f65d5b5e76554ac395cb78539a0103d2",
        "IPY_MODEL_72109b10e1544a13a3f9df706cee4653"
       ],
       "layout": "IPY_MODEL_00ce1e212ee3416795e380e1edc6c872"
      }
     },
     "e74613ba0b394665a24b5ec0abc0e9cf": {
      "model_module": "@jupyter-widgets/controls",
      "model_module_version": "1.5.0",
      "model_name": "DescriptionStyleModel",
      "state": {
       "description_width": "initial"
      }
     },
     "e79a3c3036bd4356af496f93eb7ccaa1": {
      "model_module": "@jupyter-widgets/controls",
      "model_module_version": "1.5.0",
      "model_name": "DescriptionStyleModel",
      "state": {
       "description_width": "initial"
      }
     },
     "e7a58643716541038ed0b0e92464f58c": {
      "model_module": "@jupyter-widgets/controls",
      "model_module_version": "1.5.0",
      "model_name": "CheckboxModel",
      "state": {
       "description": "Es ist flektierbar.",
       "disabled": false,
       "layout": "IPY_MODEL_ee5778548e2f4c5a9c3ac64f4868da00",
       "style": "IPY_MODEL_ec04545b411e4da8bc922bf7ee089f3d",
       "value": false
      }
     },
     "e7dbcb24085b46aba2684ee1491403fc": {
      "model_module": "@jupyter-widgets/controls",
      "model_module_version": "1.5.0",
      "model_name": "DescriptionStyleModel",
      "state": {
       "description_width": ""
      }
     },
     "e81a6a885b9746168c7d509cdf8a4907": {
      "model_module": "@jupyter-widgets/controls",
      "model_module_version": "1.5.0",
      "model_name": "ButtonModel",
      "state": {
       "description": "Adjektiv",
       "layout": "IPY_MODEL_c76e88c0c98a436fadadf82acd123442",
       "style": "IPY_MODEL_0145f612d48e4a189abd64358e9f8f24"
      }
     },
     "e81cc8b441ca4432a3a9c04a1a59c2ed": {
      "model_module": "@jupyter-widgets/base",
      "model_module_version": "1.2.0",
      "model_name": "LayoutModel",
      "state": {
       "width": "600px"
      }
     },
     "e93a87bdf3d84338a5a36fb9ff09ddd9": {
      "model_module": "@jupyter-widgets/controls",
      "model_module_version": "1.5.0",
      "model_name": "DropdownModel",
      "state": {
       "_options_labels": [
        "gleichartige",
        "unterschiedliche",
        " "
       ],
       "index": 2,
       "layout": "IPY_MODEL_08b674057a324b82b44a9237fb60bf4e",
       "style": "IPY_MODEL_13f286ab7e4847dbb314d13182186df2"
      }
     },
     "e9747e32d8654c118ed4c12337996a23": {
      "model_module": "@jupyter-widgets/controls",
      "model_module_version": "1.5.0",
      "model_name": "DescriptionStyleModel",
      "state": {
       "description_width": ""
      }
     },
     "e9bb9e3cf3394fc0b3bc725ad2ee63ea": {
      "model_module": "@jupyter-widgets/controls",
      "model_module_version": "1.5.0",
      "model_name": "CheckboxModel",
      "state": {
       "description": "gleicher Kontext",
       "disabled": false,
       "layout": "IPY_MODEL_8fb43da704914bcfaa593254433c8318",
       "style": "IPY_MODEL_1d93eb7c58f5484b89dfc63e588baeec",
       "value": false
      }
     },
     "e9c808c194354addbcdddaf7464d8680": {
      "model_module": "@jupyter-widgets/controls",
      "model_module_version": "1.5.0",
      "model_name": "VBoxModel",
      "state": {
       "children": [
        "IPY_MODEL_df5dd6a39e864fb392ab91f0d5075039",
        "IPY_MODEL_e66f9f19a3344b7fb6c968a867d5bbf2",
        "IPY_MODEL_18deb90ed80c495a9d28b0c8e917893b",
        "IPY_MODEL_bc50b5212ae34ca9b4a2833de9697d73",
        "IPY_MODEL_575e55e0d5ff40d9b7a41a1e4f2fce3f"
       ],
       "layout": "IPY_MODEL_a2d36f9b930b472194270287ae4f13e2"
      }
     },
     "e9dac378da8c49bd8579494c582f15ba": {
      "model_module": "@jupyter-widgets/base",
      "model_module_version": "1.2.0",
      "model_name": "LayoutModel",
      "state": {
       "width": "250px"
      }
     },
     "ea599bd66e264aecaabc87514851e8c7": {
      "model_module": "@jupyter-widgets/controls",
      "model_module_version": "1.5.0",
      "model_name": "ButtonModel",
      "state": {
       "description": "simple past",
       "layout": "IPY_MODEL_734064f86b134523bca1969b7a60bb0c",
       "style": "IPY_MODEL_056b8ce7fd0f46c4b2938941fc77fde9"
      }
     },
     "ea772cb22cfe4956aaa61fd18e97288b": {
      "model_module": "@jupyter-widgets/controls",
      "model_module_version": "1.5.0",
      "model_name": "CheckboxModel",
      "state": {
       "description": "Zu einem Wort werden alle Synonyme gefunden.",
       "disabled": false,
       "layout": "IPY_MODEL_fb9eb1dcb2a34c3694cf07474e172fcf",
       "style": "IPY_MODEL_088143bbed0c4c7185aa97d5e014d260",
       "value": false
      }
     },
     "ea8959ce63744890b0a388566f22aa7e": {
      "model_module": "@jupyter-widgets/controls",
      "model_module_version": "1.5.0",
      "model_name": "ButtonModel",
      "state": {
       "description": "gerund",
       "layout": "IPY_MODEL_adbfebcc479040128ab38fd82759c753",
       "style": "IPY_MODEL_4022b78b35e949579d5b20aa961f5f71"
      }
     },
     "eafc6acef63042898e91abe8c1cbdd22": {
      "model_module": "@jupyter-widgets/base",
      "model_module_version": "1.2.0",
      "model_name": "LayoutModel",
      "state": {
       "align_content": "stretch",
       "align_items": "stretch",
       "display": "inline-flex",
       "flex": "flex-grow",
       "flex_flow": "row wrap",
       "justify_content": "flex-start"
      }
     },
     "ec04545b411e4da8bc922bf7ee089f3d": {
      "model_module": "@jupyter-widgets/controls",
      "model_module_version": "1.5.0",
      "model_name": "DescriptionStyleModel",
      "state": {
       "description_width": "initial"
      }
     },
     "ec3b1f55d1714161bffeb454f933f542": {
      "model_module": "@jupyter-widgets/controls",
      "model_module_version": "1.5.0",
      "model_name": "ButtonModel",
      "state": {
       "description": "Adverb",
       "layout": "IPY_MODEL_53cc8e85d63846eaa46e27c5d46b5bf1",
       "style": "IPY_MODEL_728599594e2945488978ca8df33fefc4"
      }
     },
     "ec93053db6f34cfbb247f4b225479895": {
      "model_module": "@jupyter-widgets/base",
      "model_module_version": "1.2.0",
      "model_name": "LayoutModel",
      "state": {
       "width": "250px"
      }
     },
     "eca2609e3cf84dbaac22f1c3db86fee1": {
      "model_module": "@jupyter-widgets/controls",
      "model_module_version": "1.5.0",
      "model_name": "DescriptionStyleModel",
      "state": {
       "description_width": ""
      }
     },
     "ecba28366e7d419282eec9613afebf6f": {
      "model_module": "@jupyter-widgets/controls",
      "model_module_version": "1.5.0",
      "model_name": "DropdownModel",
      "state": {
       "_options_labels": [
        "Bedeutung",
        "Wohlgeformtheit",
        " "
       ],
       "index": 2,
       "layout": "IPY_MODEL_a2e900d6a6ab433095ffabaf3767b75d",
       "style": "IPY_MODEL_dbf58ae398a64d7a828d1144cc93983b"
      }
     },
     "eccd5ebb6b7e41e3b9c942b24d3175c4": {
      "model_module": "@jupyter-widgets/controls",
      "model_module_version": "1.5.0",
      "model_name": "ButtonStyleModel",
      "state": {}
     },
     "ed0d229068b24f54b5b87443f3c2a9c6": {
      "model_module": "@jupyter-widgets/controls",
      "model_module_version": "1.5.0",
      "model_name": "ButtonModel",
      "state": {
       "description": "Keine der anderen Möglichkeiten",
       "layout": "IPY_MODEL_6a7a9eec6c34459cb50a936628fbb333",
       "style": "IPY_MODEL_08ef450f61684c4b9c00337310bf5b04"
      }
     },
     "ed261339d5054360b40211e2da71e9fb": {
      "model_module": "@jupyter-widgets/controls",
      "model_module_version": "1.5.0",
      "model_name": "ButtonStyleModel",
      "state": {}
     },
     "ed3913789e72436c93b15bbeba348b37": {
      "model_module": "@jupyter-widgets/base",
      "model_module_version": "1.2.0",
      "model_name": "LayoutModel",
      "state": {}
     },
     "ed71879bc1e44bdb90e74d126eaed801": {
      "model_module": "@jupyter-widgets/controls",
      "model_module_version": "1.5.0",
      "model_name": "CheckboxModel",
      "state": {
       "description": "gleiche Endungen",
       "disabled": false,
       "layout": "IPY_MODEL_0398ccd62b5544e3b33e1ab398ac2759",
       "style": "IPY_MODEL_b9ef4db7d66b4c4680dfe402381e37cc",
       "value": false
      }
     },
     "edacf970ff67497088099c7c44577a9f": {
      "model_module": "@jupyter-widgets/base",
      "model_module_version": "1.2.0",
      "model_name": "LayoutModel",
      "state": {
       "width": "600px"
      }
     },
     "edd77af557f24541be2210af4b2d2a0f": {
      "model_module": "@jupyter-widgets/base",
      "model_module_version": "1.2.0",
      "model_name": "LayoutModel",
      "state": {
       "width": "600px"
      }
     },
     "edf3035888fc456a84b64d407688f526": {
      "model_module": "@jupyter-widgets/base",
      "model_module_version": "1.2.0",
      "model_name": "LayoutModel",
      "state": {
       "width": "600px"
      }
     },
     "ee5778548e2f4c5a9c3ac64f4868da00": {
      "model_module": "@jupyter-widgets/base",
      "model_module_version": "1.2.0",
      "model_name": "LayoutModel",
      "state": {
       "width": "600px"
      }
     },
     "ee9d996837734163a247cbbcb86bc3b9": {
      "model_module": "@jupyter-widgets/controls",
      "model_module_version": "1.5.0",
      "model_name": "HTMLModel",
      "state": {
       "layout": "IPY_MODEL_fc92c39aaf6f40b0a546fb864751d9ea",
       "style": "IPY_MODEL_97fd2dc9359244c0bdf90e6735578407",
       "value": "<i>Wählen Sie die <ins>eine</ins> korrekte Antwort aus: </i>"
      }
     },
     "eed4ba0008c84a17927c37e9f4b744e0": {
      "model_module": "@jupyter-widgets/base",
      "model_module_version": "1.2.0",
      "model_name": "LayoutModel",
      "state": {
       "width": "250px"
      }
     },
     "eed99dc82c2c403fb1cb3be10d43b7eb": {
      "model_module": "@jupyter-widgets/base",
      "model_module_version": "1.2.0",
      "model_name": "LayoutModel",
      "state": {}
     },
     "eef767e1f921493abcbe42117357e51a": {
      "model_module": "@jupyter-widgets/base",
      "model_module_version": "1.2.0",
      "model_name": "LayoutModel",
      "state": {}
     },
     "ef2aa5bb3a8c45799c3915c7fe2463a4": {
      "model_module": "@jupyter-widgets/base",
      "model_module_version": "1.2.0",
      "model_name": "LayoutModel",
      "state": {
       "width": "250px"
      }
     },
     "ef6ab316f10c4f6eb02babb00b75d149": {
      "model_module": "@jupyter-widgets/controls",
      "model_module_version": "1.5.0",
      "model_name": "HTMLModel",
      "state": {
       "layout": "IPY_MODEL_2e4815eb93074f70a7c7b1133ff6a2fb",
       "style": "IPY_MODEL_222b8d61b7f84501a3f6cb3a31e69f98",
       "value": "<h4 style=\"font-size:14px;\">Was bedeutet das Tag <i>VBD</i> im Browntagset (siehe 5.7)?</h4>"
      }
     },
     "ef82fa7b15424d29a8411d71085189d6": {
      "model_module": "@jupyter-widgets/base",
      "model_module_version": "1.2.0",
      "model_name": "LayoutModel",
      "state": {
       "justify_content": "center"
      }
     },
     "ef887c4b9f2e4a70af40acb05452cf93": {
      "model_module": "@jupyter-widgets/controls",
      "model_module_version": "1.5.0",
      "model_name": "HBoxModel",
      "state": {
       "children": [
        "IPY_MODEL_3d4fb1a196d0426db69a5d8a340cc0ba"
       ],
       "layout": "IPY_MODEL_343627fb09b842979d4f4b2f9583f4f9"
      }
     },
     "ef99ee18c7c94527a1fbe65cb3da3728": {
      "model_module": "@jupyter-widgets/controls",
      "model_module_version": "1.5.0",
      "model_name": "ButtonModel",
      "state": {
       "description": "base",
       "layout": "IPY_MODEL_9f0876dad85446e79b4219fca35bf626",
       "style": "IPY_MODEL_52c0b13292f145c5a57c4123320297fa"
      }
     },
     "efa14cd4f4234e5f879681dccff5bb7b": {
      "model_module": "@jupyter-widgets/controls",
      "model_module_version": "1.5.0",
      "model_name": "ButtonModel",
      "state": {
       "description": "Folge von Wortklassen",
       "layout": "IPY_MODEL_1f209c77fb324f41ab616763b41a367b",
       "style": "IPY_MODEL_caa67560371d49ba8e75f451a2da387a"
      }
     },
     "efd88a7e3f5541409be1e211e11080cf": {
      "model_module": "@jupyter-widgets/controls",
      "model_module_version": "1.5.0",
      "model_name": "DropdownModel",
      "state": {
       "_options_labels": [
        "Bigramm",
        "Trigramm",
        "Unigramm",
        " "
       ],
       "index": 3,
       "layout": "IPY_MODEL_61398f72f8494830b82f0e09f8fe9678",
       "style": "IPY_MODEL_5ab2217f805d41baa0281d6d764989ef"
      }
     },
     "efe7071dc4b444d98086ad12f7eb31e5": {
      "model_module": "@jupyter-widgets/base",
      "model_module_version": "1.2.0",
      "model_name": "LayoutModel",
      "state": {
       "justify_content": "center"
      }
     },
     "f04dd4b1b9c04404a273a708fefd5f27": {
      "model_module": "@jupyter-widgets/base",
      "model_module_version": "1.2.0",
      "model_name": "LayoutModel",
      "state": {}
     },
     "f0db11cf69c44a37a106e7cf3359499d": {
      "model_module": "@jupyter-widgets/controls",
      "model_module_version": "1.5.0",
      "model_name": "ButtonModel",
      "state": {
       "description": "past participle",
       "layout": "IPY_MODEL_5807ff4146d94d79a741eafade443941",
       "style": "IPY_MODEL_28282b28c45247d2b91b7b2cf70a7cb6"
      }
     },
     "f0f165a340904a238810f3d8dcd0c050": {
      "model_module": "@jupyter-widgets/controls",
      "model_module_version": "1.5.0",
      "model_name": "DescriptionStyleModel",
      "state": {
       "description_width": "initial"
      }
     },
     "f13cdf695fe941b4939bd010cca683e9": {
      "model_module": "@jupyter-widgets/base",
      "model_module_version": "1.2.0",
      "model_name": "LayoutModel",
      "state": {
       "width": "250px"
      }
     },
     "f143471971024e839486c955599c464d": {
      "model_module": "@jupyter-widgets/controls",
      "model_module_version": "1.5.0",
      "model_name": "VBoxModel",
      "state": {
       "children": [
        "IPY_MODEL_3b927bd5f7d54bb0adcf28ac41f0242b",
        "IPY_MODEL_c4352dfafbb945379ef2dba686c730bc",
        "IPY_MODEL_82f64159e5994c238d50fe77d2065e50",
        "IPY_MODEL_48f8d0df766d422e857982dbc07a7f39"
       ],
       "layout": "IPY_MODEL_b0ed40ac2c784027a13d6af93cf9bddc"
      }
     },
     "f148730bd7574c7f93348e52f04a6d53": {
      "model_module": "@jupyter-widgets/base",
      "model_module_version": "1.2.0",
      "model_name": "LayoutModel",
      "state": {}
     },
     "f1bbfbe571ac487fa5790b121897716b": {
      "model_module": "@jupyter-widgets/controls",
      "model_module_version": "1.5.0",
      "model_name": "HTMLModel",
      "state": {
       "layout": "IPY_MODEL_588134aa66a243bfab6377b6e10f258f",
       "style": "IPY_MODEL_ab74bcb5964b4b3faacab09fd3ad4fdf",
       "value": "<i>Vervollständigen Sie den Lückentext: </i>"
      }
     },
     "f1f4465fbe7d4c278466d2c8ba516256": {
      "model_module": "@jupyter-widgets/controls",
      "model_module_version": "1.5.0",
      "model_name": "ButtonStyleModel",
      "state": {}
     },
     "f2365b07eedc4cce93bff2cd21f33ff9": {
      "model_module": "@jupyter-widgets/base",
      "model_module_version": "1.2.0",
      "model_name": "LayoutModel",
      "state": {}
     },
     "f280eb4b34464ef4a99a3fd06ffdf60b": {
      "model_module": "@jupyter-widgets/controls",
      "model_module_version": "1.5.0",
      "model_name": "HBoxModel",
      "state": {
       "children": [
        "IPY_MODEL_41617db9a1674cfb8efb67cb16df26e4"
       ],
       "layout": "IPY_MODEL_69b8a9a83afb4cdb99cb45697e3bda89"
      }
     },
     "f2bf2aced81b466f84b4839e29550ced": {
      "model_module": "@jupyter-widgets/base",
      "model_module_version": "1.2.0",
      "model_name": "LayoutModel",
      "state": {
       "width": "250px"
      }
     },
     "f2c458b63bf34085abac87b2518ab3e0": {
      "model_module": "@jupyter-widgets/controls",
      "model_module_version": "1.5.0",
      "model_name": "DescriptionStyleModel",
      "state": {
       "description_width": "initial"
      }
     },
     "f2db7105f6e14b64ad48e4402bd33b9e": {
      "model_module": "@jupyter-widgets/base",
      "model_module_version": "1.2.0",
      "model_name": "LayoutModel",
      "state": {
       "justify_content": "center"
      }
     },
     "f34e934d7dc24bdfbdc314a8c301874c": {
      "model_module": "@jupyter-widgets/base",
      "model_module_version": "1.2.0",
      "model_name": "LayoutModel",
      "state": {
       "width": "600px"
      }
     },
     "f37ae06e30734f01a6cc91ce70123fe2": {
      "model_module": "@jupyter-widgets/controls",
      "model_module_version": "1.5.0",
      "model_name": "HTMLModel",
      "state": {
       "layout": "IPY_MODEL_6dba55f1e68d414caa636a2940b79255",
       "style": "IPY_MODEL_c10b6e7730eb47e6a6f34055dfce40c3",
       "value": "<h4 style=\"font-size:14px;\">Sequenz unter Erhalt der</h4>"
      }
     },
     "f38c34f69774414580f6f2279fe538a7": {
      "model_module": "@jupyter-widgets/controls",
      "model_module_version": "1.5.0",
      "model_name": "DescriptionStyleModel",
      "state": {
       "description_width": ""
      }
     },
     "f3f6897ffd954663be5f718c3b52dbf4": {
      "model_module": "@jupyter-widgets/controls",
      "model_module_version": "1.5.0",
      "model_name": "HTMLModel",
      "state": {
       "layout": "IPY_MODEL_d6f85380bcb243feb48b8c6d4892fdc7",
       "style": "IPY_MODEL_954d8a76d4ee46c0b0f1177bb36e332e",
       "value": "<i>Wählen Sie die <ins>eine</ins> korrekte Antwort aus: </i>"
      }
     },
     "f4531a1d25da408b9a3273a6c9c00c8c": {
      "model_module": "@jupyter-widgets/base",
      "model_module_version": "1.2.0",
      "model_name": "LayoutModel",
      "state": {
       "width": "250px"
      }
     },
     "f482adf84f9a4a62b3e8a7286da0b351": {
      "model_module": "@jupyter-widgets/controls",
      "model_module_version": "1.5.0",
      "model_name": "DescriptionStyleModel",
      "state": {
       "description_width": ""
      }
     },
     "f48bc4913c5945bfbb622ab0b1aa959e": {
      "model_module": "@jupyter-widgets/controls",
      "model_module_version": "1.5.0",
      "model_name": "DropdownModel",
      "state": {
       "_options_labels": [
        "POS",
        "POS+Wort+POS",
        "Wort+POS-Tag",
        " "
       ],
       "index": 3,
       "layout": "IPY_MODEL_c241ea64d9344e73821a1a17cc430b23",
       "style": "IPY_MODEL_fd31dc02911f4b84870431377c19b402"
      }
     },
     "f49940dfedcf4288bc248de183427e85": {
      "model_module": "@jupyter-widgets/base",
      "model_module_version": "1.2.0",
      "model_name": "LayoutModel",
      "state": {
       "width": "250px"
      }
     },
     "f4a6cacc0a424425b4769ca168c31cff": {
      "model_module": "@jupyter-widgets/controls",
      "model_module_version": "1.5.0",
      "model_name": "VBoxModel",
      "state": {
       "children": [
        "IPY_MODEL_50480fe35f6f4050b8dffca61afe8995",
        "IPY_MODEL_c5e89cde160f448997329d3757d50723",
        "IPY_MODEL_bc980fbbf90c48c1bf170815d739dba4"
       ],
       "layout": "IPY_MODEL_14ddcf4f2fea493db090dc8387f38ba3"
      }
     },
     "f50ca64ad9104031a1aeaa94875e7d41": {
      "model_module": "@jupyter-widgets/controls",
      "model_module_version": "1.5.0",
      "model_name": "ButtonModel",
      "state": {
       "description": "Folge von Wortklassen",
       "layout": "IPY_MODEL_e9dac378da8c49bd8579494c582f15ba",
       "style": "IPY_MODEL_4f7a6f75b3414fbca843a06210901a8d"
      }
     },
     "f53e7d0782924fd3bc212171114883f5": {
      "model_module": "@jupyter-widgets/controls",
      "model_module_version": "1.5.0",
      "model_name": "HTMLModel",
      "state": {
       "layout": "IPY_MODEL_fbfde44c47d9479683f0e93495896614",
       "style": "IPY_MODEL_d312056bf6e4472bb04e7a812bf0735a",
       "value": "<i>Wählen Sie die <ins>eine</ins> korrekte Antwort aus: </i>"
      }
     },
     "f5459294f2384cbaac5f73c3632abc22": {
      "model_module": "@jupyter-widgets/controls",
      "model_module_version": "1.5.0",
      "model_name": "HTMLModel",
      "state": {
       "layout": "IPY_MODEL_f764988941e644188d5cc4fb366da54b",
       "style": "IPY_MODEL_55f66180b9ed40728845e274cfb4209d",
       "value": "<i>Vervollständigen Sie den Lückentext: </i>"
      }
     },
     "f59853a662334d93b0bd46df20b2661d": {
      "model_module": "@jupyter-widgets/controls",
      "model_module_version": "1.5.0",
      "model_name": "ButtonModel",
      "state": {
       "description": "3rd singular present",
       "layout": "IPY_MODEL_a71e669f525a4f60b429d967dd4e4997",
       "style": "IPY_MODEL_ce6fb6fd2d8d4b7c9a7cd4da7e428009"
      }
     },
     "f59b06e6822e4a018734eee2dffb3f68": {
      "model_module": "@jupyter-widgets/base",
      "model_module_version": "1.2.0",
      "model_name": "LayoutModel",
      "state": {
       "width": "150px"
      }
     },
     "f628c54e25d849d1a45f074c6554a112": {
      "model_module": "@jupyter-widgets/controls",
      "model_module_version": "1.5.0",
      "model_name": "ButtonStyleModel",
      "state": {}
     },
     "f62d6387c30641c8be973cb3691e17f2": {
      "model_module": "@jupyter-widgets/base",
      "model_module_version": "1.2.0",
      "model_name": "LayoutModel",
      "state": {}
     },
     "f63df59e7cce4238981797d00eaf3598": {
      "model_module": "@jupyter-widgets/controls",
      "model_module_version": "1.5.0",
      "model_name": "DescriptionStyleModel",
      "state": {
       "description_width": ""
      }
     },
     "f65d5b5e76554ac395cb78539a0103d2": {
      "model_module": "@jupyter-widgets/controls",
      "model_module_version": "1.5.0",
      "model_name": "ButtonModel",
      "state": {
       "description": "3rd singular present",
       "layout": "IPY_MODEL_da44700f61d24727b1e813a4654dafbf",
       "style": "IPY_MODEL_f80bd41926cf4d01887fad099e8993f4"
      }
     },
     "f665927117d74eef8f599b28bb483930": {
      "model_module": "@jupyter-widgets/base",
      "model_module_version": "1.2.0",
      "model_name": "LayoutModel",
      "state": {}
     },
     "f6b295521fe34aa09f52dad240d7ed4b": {
      "model_module": "@jupyter-widgets/controls",
      "model_module_version": "1.5.0",
      "model_name": "CheckboxModel",
      "state": {
       "description": "Eliminierungstest",
       "disabled": false,
       "layout": "IPY_MODEL_e81cc8b441ca4432a3a9c04a1a59c2ed",
       "style": "IPY_MODEL_4f22ab30c86a4ca69f10e1238beccca4",
       "value": false
      }
     },
     "f6be7c2734bf412bb0aee1706e90aa8f": {
      "model_module": "@jupyter-widgets/controls",
      "model_module_version": "1.5.0",
      "model_name": "HBoxModel",
      "state": {
       "children": [
        "IPY_MODEL_a84f83aafe2e4248b1827ade2fc41ff7",
        "IPY_MODEL_224fe57769f548bca973e7836e3f4d2f"
       ],
       "layout": "IPY_MODEL_600d0521bd654534b9c555a684c1e6f0"
      }
     },
     "f6cc51e65bfc48b2b773f59f3d88b6d9": {
      "model_module": "@jupyter-widgets/controls",
      "model_module_version": "1.5.0",
      "model_name": "HBoxModel",
      "state": {
       "children": [
        "IPY_MODEL_03604810a6014f25b9c1d645d007dfd2",
        "IPY_MODEL_a02e9d164fa142c69b443b8f499d2929"
       ],
       "layout": "IPY_MODEL_2df41de2eca54018ac2a392613ba9c2d"
      }
     },
     "f75b8b09fe754c74a32ee39ea1cfb1fa": {
      "model_module": "@jupyter-widgets/controls",
      "model_module_version": "1.5.0",
      "model_name": "VBoxModel",
      "state": {
       "children": [
        "IPY_MODEL_44130b7e9209410c9e109a107558076b",
        "IPY_MODEL_78304aa871574e41a9f1b99ba78d25bc",
        "IPY_MODEL_679695f2120b4b60aa15dda341a97b4f",
        "IPY_MODEL_62164e1bffbd423ca5d2431be27e6b13"
       ],
       "layout": "IPY_MODEL_a038fa7a3b554eb094028e5dc5fd7825"
      }
     },
     "f764988941e644188d5cc4fb366da54b": {
      "model_module": "@jupyter-widgets/base",
      "model_module_version": "1.2.0",
      "model_name": "LayoutModel",
      "state": {
       "justify_content": "center"
      }
     },
     "f78a5765379d4674b7d7102de65bee76": {
      "model_module": "@jupyter-widgets/base",
      "model_module_version": "1.2.0",
      "model_name": "LayoutModel",
      "state": {
       "width": "250px"
      }
     },
     "f7b0c2612baf43738c71760a9ba99a04": {
      "model_module": "@jupyter-widgets/controls",
      "model_module_version": "1.5.0",
      "model_name": "VBoxModel",
      "state": {
       "children": [
        "IPY_MODEL_9a33d084efb44fd5b3e0b28317479865",
        "IPY_MODEL_8cba596bb15545a099c5522f453da002",
        "IPY_MODEL_b7f47b4561124602a08db3e4d1e91e01",
        "IPY_MODEL_f94f5a5978d04d76906d1dff6ee4ed93"
       ],
       "layout": "IPY_MODEL_b4e09220b7fa4949b26a60bc2fa732b3"
      }
     },
     "f7d045deea824fc2908d27a8cde14c3d": {
      "model_module": "@jupyter-widgets/controls",
      "model_module_version": "1.5.0",
      "model_name": "ButtonStyleModel",
      "state": {}
     },
     "f80bd41926cf4d01887fad099e8993f4": {
      "model_module": "@jupyter-widgets/controls",
      "model_module_version": "1.5.0",
      "model_name": "ButtonStyleModel",
      "state": {}
     },
     "f9207a58a1bb46e3b617a1e84122d6fb": {
      "model_module": "@jupyter-widgets/controls",
      "model_module_version": "1.5.0",
      "model_name": "HTMLModel",
      "state": {
       "layout": "IPY_MODEL_22538befe4ef46e88ad6ce0268e74bd6",
       "style": "IPY_MODEL_d8ececb5683f40149c02e4804c6574f0",
       "value": "<h4 style=\"font-size:14px;\">-Tupeln aus einem englischen Korpus erstellt. Zeile 2 und 3 dienen der Erzeugung einer Frequenzliste von POS-Tags derjenigen Bigramme, deren zweites Element das POS-Tag</h4>"
      }
     },
     "f936ad8a5a7046d6a129a8ed32d77616": {
      "model_module": "@jupyter-widgets/base",
      "model_module_version": "1.2.0",
      "model_name": "LayoutModel",
      "state": {}
     },
     "f944bac7fdcb48159777a1711e9e3eca": {
      "model_module": "@jupyter-widgets/controls",
      "model_module_version": "1.5.0",
      "model_name": "DescriptionStyleModel",
      "state": {
       "description_width": "initial"
      }
     },
     "f94f5a5978d04d76906d1dff6ee4ed93": {
      "model_module": "@jupyter-widgets/controls",
      "model_module_version": "1.5.0",
      "model_name": "HBoxModel",
      "state": {
       "children": [
        "IPY_MODEL_327edd0414a24d68a15d445d358bceab",
        "IPY_MODEL_81dcfba7c086419ead98ec87394ecb42"
       ],
       "layout": "IPY_MODEL_3cf6224c5b9a4e6485fafb1e31627c75"
      }
     },
     "f97b2210158e42bfa52eae92b0fd0836": {
      "model_module": "@jupyter-widgets/base",
      "model_module_version": "1.2.0",
      "model_name": "LayoutModel",
      "state": {
       "width": "250px"
      }
     },
     "f9b2fc8b8044445b9cf45be1b5ae6f01": {
      "model_module": "@jupyter-widgets/base",
      "model_module_version": "1.2.0",
      "model_name": "LayoutModel",
      "state": {}
     },
     "f9c1d622b2bc4ea5a5aa0f6a8a0f31c3": {
      "model_module": "@jupyter-widgets/controls",
      "model_module_version": "1.5.0",
      "model_name": "HTMLModel",
      "state": {
       "layout": "IPY_MODEL_562582964fba4e9f853c3cbaf83c8e5a",
       "style": "IPY_MODEL_938196b75ccd4ac5a227c9e3b7b9a8de",
       "value": "<h4 style=\"font-size:14px;\">gestellt. Die gesamte</h4>"
      }
     },
     "fa1194f3fabd4415b3814ff8fb1e3533": {
      "model_module": "@jupyter-widgets/base",
      "model_module_version": "1.2.0",
      "model_name": "LayoutModel",
      "state": {
       "width": "150px"
      }
     },
     "fa12fbcd5d7e4417acf833fb05d80359": {
      "model_module": "@jupyter-widgets/controls",
      "model_module_version": "1.5.0",
      "model_name": "ButtonModel",
      "state": {
       "description": "Adverb",
       "layout": "IPY_MODEL_c4b30b475df847ffbe911d3f16a86eeb",
       "style": "IPY_MODEL_cd67fe43232e4e7da4380133cfacfb4c"
      }
     },
     "fa76eecf0a9441309d6bf89d89e9b457": {
      "model_module": "@jupyter-widgets/controls",
      "model_module_version": "1.5.0",
      "model_name": "DescriptionStyleModel",
      "state": {
       "description_width": "initial"
      }
     },
     "fb640dce9bd74e3f92dc04abfcc72033": {
      "model_module": "@jupyter-widgets/base",
      "model_module_version": "1.2.0",
      "model_name": "LayoutModel",
      "state": {
       "width": "150px"
      }
     },
     "fb669dc3591049d4b10fe3bf5e5f0e39": {
      "model_module": "@jupyter-widgets/base",
      "model_module_version": "1.2.0",
      "model_name": "LayoutModel",
      "state": {
       "width": "150px"
      }
     },
     "fb7e1d209d6f435086b4199621db9968": {
      "model_module": "@jupyter-widgets/base",
      "model_module_version": "1.2.0",
      "model_name": "LayoutModel",
      "state": {
       "width": "600px"
      }
     },
     "fb9eb1dcb2a34c3694cf07474e172fcf": {
      "model_module": "@jupyter-widgets/base",
      "model_module_version": "1.2.0",
      "model_name": "LayoutModel",
      "state": {
       "width": "600px"
      }
     },
     "fbc715f37fa54c1196a6e856814591b7": {
      "model_module": "@jupyter-widgets/controls",
      "model_module_version": "1.5.0",
      "model_name": "VBoxModel",
      "state": {
       "children": [
        "IPY_MODEL_225a7bacfc82404391564b7076e54945",
        "IPY_MODEL_31e42254cc194322b0e9afe74c4c491f",
        "IPY_MODEL_24929e0352a24bab8655592ad3f4e43c",
        "IPY_MODEL_9ee768bce2c14a7d9efb070f9b8b5b4f"
       ],
       "layout": "IPY_MODEL_853a0f5c79f94e6e9b5a862984943394"
      }
     },
     "fbfde44c47d9479683f0e93495896614": {
      "model_module": "@jupyter-widgets/base",
      "model_module_version": "1.2.0",
      "model_name": "LayoutModel",
      "state": {
       "justify_content": "center"
      }
     },
     "fc383ccb7f3e4c6ca41b478852e0c16c": {
      "model_module": "@jupyter-widgets/controls",
      "model_module_version": "1.5.0",
      "model_name": "ButtonStyleModel",
      "state": {}
     },
     "fc898238996841b0ae907c7b308d77ee": {
      "model_module": "@jupyter-widgets/controls",
      "model_module_version": "1.5.0",
      "model_name": "ButtonModel",
      "state": {
       "description": "gerund",
       "layout": "IPY_MODEL_f2bf2aced81b466f84b4839e29550ced",
       "style": "IPY_MODEL_c468339301cf4fc4b49d5c6258d215d6"
      }
     },
     "fc92c39aaf6f40b0a546fb864751d9ea": {
      "model_module": "@jupyter-widgets/base",
      "model_module_version": "1.2.0",
      "model_name": "LayoutModel",
      "state": {
       "justify_content": "center"
      }
     },
     "fce4e199a91143baad6983e30099975f": {
      "model_module": "@jupyter-widgets/base",
      "model_module_version": "1.2.0",
      "model_name": "LayoutModel",
      "state": {
       "width": "600px"
      }
     },
     "fcf2beed325f489bb271cfd9266e3849": {
      "model_module": "@jupyter-widgets/controls",
      "model_module_version": "1.5.0",
      "model_name": "ButtonStyleModel",
      "state": {}
     },
     "fd0e35d799464102824d0b8432c221a7": {
      "model_module": "@jupyter-widgets/controls",
      "model_module_version": "1.5.0",
      "model_name": "ButtonStyleModel",
      "state": {}
     },
     "fd31dc02911f4b84870431377c19b402": {
      "model_module": "@jupyter-widgets/controls",
      "model_module_version": "1.5.0",
      "model_name": "DescriptionStyleModel",
      "state": {
       "description_width": ""
      }
     },
     "fd67502ce34d41548ce3a495d7b17042": {
      "model_module": "@jupyter-widgets/controls",
      "model_module_version": "1.5.0",
      "model_name": "ButtonModel",
      "state": {
       "description": "Korrekt?",
       "layout": "IPY_MODEL_5128ce65fcd741b2b0b34d79c240eb02",
       "style": "IPY_MODEL_d1f64c7c581f4b3cbf1d947449a327b6"
      }
     },
     "fdb02e9a6d684b7481a9237c3b544194": {
      "model_module": "@jupyter-widgets/controls",
      "model_module_version": "1.5.0",
      "model_name": "ButtonStyleModel",
      "state": {}
     },
     "fe0750561c66489ea254737550cb1912": {
      "model_module": "@jupyter-widgets/controls",
      "model_module_version": "1.5.0",
      "model_name": "HTMLModel",
      "state": {
       "layout": "IPY_MODEL_ef82fa7b15424d29a8411d71085189d6",
       "style": "IPY_MODEL_1486cb2f25d54ffba4067addcabf34ce",
       "value": "<i>Vervollständigen Sie den Lückentext: </i>"
      }
     },
     "fe07d20f275044eaa15e619c4c48637d": {
      "model_module": "@jupyter-widgets/controls",
      "model_module_version": "1.5.0",
      "model_name": "ButtonModel",
      "state": {
       "description": "Keine der anderen Möglichkeiten",
       "layout": "IPY_MODEL_99497f5c438c480ea0b6a24ed24acb2f",
       "style": "IPY_MODEL_47ee738425e14b5698f895ac6257fba6"
      }
     },
     "fe261a0d1365437a84c98785f4410b52": {
      "model_module": "@jupyter-widgets/controls",
      "model_module_version": "1.5.0",
      "model_name": "DescriptionStyleModel",
      "state": {
       "description_width": "initial"
      }
     },
     "fec2985352334f2283838229e92e2041": {
      "model_module": "@jupyter-widgets/controls",
      "model_module_version": "1.5.0",
      "model_name": "ButtonStyleModel",
      "state": {}
     }
    },
    "version_major": 2,
    "version_minor": 0
   }
  }
 },
 "nbformat": 4,
 "nbformat_minor": 2
}
