{
 "cells": [
  {
   "cell_type": "markdown",
   "metadata": {},
   "source": [
    "***Vorlesung 'Syntax natürlicher Sprachen', WS 2019/20***\n",
    "\n",
    "---\n",
    "# Übung 9 (Lösung)"
   ]
  },
  {
   "cell_type": "code",
   "execution_count": 1,
   "metadata": {},
   "outputs": [],
   "source": [
    "from exercises_9 import *\n",
    "from questions import aufgabe\n",
    "from nltk.tree import Tree\n",
    "import nltk\n",
    "import sys"
   ]
  },
  {
   "cell_type": "markdown",
   "metadata": {},
   "source": [
    "---\n",
    "\n",
    "## Aufgabe 1: Parsing-Algorithmen\n",
    "\n",
    "#### Gegeben sei folgende kontextfreie Grammatik:"
   ]
  },
  {
   "cell_type": "code",
   "execution_count": 2,
   "metadata": {},
   "outputs": [],
   "source": [
    "grammar = nltk.CFG.fromstring(\"\"\"\n",
    "S -> NP VP\n",
    "\n",
    "NP  -> DET NOM\n",
    "NOM -> ADJ NOM | N\n",
    "\n",
    "ADJ -> \"schöne\" | \"kluge\" | \"dicke\"\n",
    "DET -> \"der\" | \"die\" | \"das\"\n",
    "N   -> \"Mann\" | \"Frau\" | \"Buch\"\n",
    "\n",
    "VP -> V NP NP | V NP | V\n",
    "V  -> \"gibt\" | \"schenkt\" | \"schläft\" | \"gefällt\" | \"kennt\"\n",
    "\"\"\")"
   ]
  },
  {
   "cell_type": "markdown",
   "metadata": {},
   "source": [
    "#### Parsen Sie jeweils alle unten angegebenen Sätze mit jedem der folgenden Parsing-Algorithmen. Bei der Auswahl von Regeln soll immer von oben nach unten und (bei Alternativen) von links nach rechts vorgegangen werden.\n",
    "\n",
    "a) Recursive Descent <br>\n",
    "b) Shift Reduce <br>\n",
    "c) Earley Algorithmus <br>\n",
    "\n",
    "    1. Der Mann gibt der Frau das Buch.\n",
    "    2. Die kluge Frau kennt das dicke Buch.\n",
    "    3. Der Mann schläft."
   ]
  },
  {
   "cell_type": "code",
   "execution_count": null,
   "metadata": {},
   "outputs": [],
   "source": [
    "####Lösung für den kürzesten Satz (Rest: analog) mit nltk-Parsern und trace-output:\n"
   ]
  },
  {
   "cell_type": "markdown",
   "metadata": {},
   "source": [
    "--- \n",
    "##### Lösung mit Recursive-Descent-Parser:"
   ]
  },
  {
   "cell_type": "code",
   "execution_count": 3,
   "metadata": {
    "scrolled": false
   },
   "outputs": [
    {
     "name": "stdout",
     "output_type": "stream",
     "text": [
      "Parsing 'der Mann schläft'\n",
      "Start:\n",
      "    [ * S ]\n",
      "Expand: S -> NP VP\n",
      "    [ * NP VP ]\n",
      "Expand: NP -> DET NOM\n",
      "    [ * DET NOM VP ]\n",
      "Expand: DET -> 'der'\n",
      "    [ * 'der' NOM VP ]\n",
      "Match: 'der'\n",
      "    [ 'der' * NOM VP ]\n",
      "Expand: NOM -> ADJ NOM\n",
      "    [ 'der' * ADJ NOM VP ]\n",
      "Expand: ADJ -> 'schöne'\n",
      "    [ 'der' * 'schöne' NOM VP ]\n",
      "Backtrack: 'Mann' match failed\n",
      "Expand: ADJ -> 'kluge'\n",
      "    [ 'der' * 'kluge' NOM VP ]\n",
      "Backtrack: 'Mann' match failed\n",
      "Expand: ADJ -> 'dicke'\n",
      "    [ 'der' * 'dicke' NOM VP ]\n",
      "Backtrack: 'Mann' match failed\n",
      "Expand: NOM -> N\n",
      "    [ 'der' * N VP ]\n",
      "Expand: N -> 'Mann'\n",
      "    [ 'der' * 'Mann' VP ]\n",
      "Match: 'Mann'\n",
      "    [ 'der' 'Mann' * VP ]\n",
      "Expand: VP -> V NP NP\n",
      "    [ 'der' 'Mann' * V NP NP ]\n",
      "Expand: V -> 'gibt'\n",
      "    [ 'der' 'Mann' * 'gibt' NP NP ]\n",
      "Backtrack: 'schläft' match failed\n",
      "Expand: V -> 'schenkt'\n",
      "    [ 'der' 'Mann' * 'schenkt' NP NP ]\n",
      "Backtrack: 'schläft' match failed\n",
      "Expand: V -> 'schläft'\n",
      "    [ 'der' 'Mann' * 'schläft' NP NP ]\n",
      "Match: 'schläft'\n",
      "    [ 'der' 'Mann' 'schläft' * NP NP ]\n",
      "Expand: NP -> DET NOM\n",
      "    [ 'der' 'Mann' 'schläft' * DET NOM NP ]\n",
      "Expand: DET -> 'der'\n",
      "    [ 'der' 'Mann' 'schläft' * 'der' NOM NP ]\n",
      "Backtrack\n",
      "Expand: DET -> 'die'\n",
      "    [ 'der' 'Mann' 'schläft' * 'die' NOM NP ]\n",
      "Backtrack\n",
      "Expand: DET -> 'das'\n",
      "    [ 'der' 'Mann' 'schläft' * 'das' NOM NP ]\n",
      "Backtrack\n",
      "Expand: V -> 'gefällt'\n",
      "    [ 'der' 'Mann' * 'gefällt' NP NP ]\n",
      "Backtrack: 'schläft' match failed\n",
      "Expand: V -> 'kennt'\n",
      "    [ 'der' 'Mann' * 'kennt' NP NP ]\n",
      "Backtrack: 'schläft' match failed\n",
      "Expand: VP -> V NP\n",
      "    [ 'der' 'Mann' * V NP ]\n",
      "Expand: V -> 'gibt'\n",
      "    [ 'der' 'Mann' * 'gibt' NP ]\n",
      "Backtrack: 'schläft' match failed\n",
      "Expand: V -> 'schenkt'\n",
      "    [ 'der' 'Mann' * 'schenkt' NP ]\n",
      "Backtrack: 'schläft' match failed\n",
      "Expand: V -> 'schläft'\n",
      "    [ 'der' 'Mann' * 'schläft' NP ]\n",
      "Match: 'schläft'\n",
      "    [ 'der' 'Mann' 'schläft' * NP ]\n",
      "Expand: NP -> DET NOM\n",
      "    [ 'der' 'Mann' 'schläft' * DET NOM ]\n",
      "Expand: DET -> 'der'\n",
      "    [ 'der' 'Mann' 'schläft' * 'der' NOM ]\n",
      "Backtrack\n",
      "Expand: DET -> 'die'\n",
      "    [ 'der' 'Mann' 'schläft' * 'die' NOM ]\n",
      "Backtrack\n",
      "Expand: DET -> 'das'\n",
      "    [ 'der' 'Mann' 'schläft' * 'das' NOM ]\n",
      "Backtrack\n",
      "Expand: V -> 'gefällt'\n",
      "    [ 'der' 'Mann' * 'gefällt' NP ]\n",
      "Backtrack: 'schläft' match failed\n",
      "Expand: V -> 'kennt'\n",
      "    [ 'der' 'Mann' * 'kennt' NP ]\n",
      "Backtrack: 'schläft' match failed\n",
      "Expand: VP -> V\n",
      "    [ 'der' 'Mann' * V ]\n",
      "Expand: V -> 'gibt'\n",
      "    [ 'der' 'Mann' * 'gibt' ]\n",
      "Backtrack: 'schläft' match failed\n",
      "Expand: V -> 'schenkt'\n",
      "    [ 'der' 'Mann' * 'schenkt' ]\n",
      "Backtrack: 'schläft' match failed\n",
      "Expand: V -> 'schläft'\n",
      "    [ 'der' 'Mann' * 'schläft' ]\n",
      "Match: 'schläft'\n",
      "    [ 'der' 'Mann' 'schläft' ]\n",
      "GOOD PARSE:\n",
      "    [ 'der' 'Mann' 'schläft' ]\n",
      "         S          \n",
      "     ┌───┴──────┐    \n",
      "     NP         │   \n",
      " ┌───┴───┐      │    \n",
      " │      NOM     VP  \n",
      " │       │      │    \n",
      "DET      N      V   \n",
      " │       │      │    \n",
      "der     Mann schläft\n",
      "\n",
      "Expand: V -> 'gefällt'\n",
      "    [ 'der' 'Mann' * 'gefällt' ]\n",
      "Backtrack: 'schläft' match failed\n",
      "Expand: V -> 'kennt'\n",
      "    [ 'der' 'Mann' * 'kennt' ]\n",
      "Backtrack: 'schläft' match failed\n",
      "Expand: N -> 'Frau'\n",
      "    [ 'der' * 'Frau' VP ]\n",
      "Backtrack: 'Mann' match failed\n",
      "Expand: N -> 'Buch'\n",
      "    [ 'der' * 'Buch' VP ]\n",
      "Backtrack: 'Mann' match failed\n",
      "Expand: DET -> 'die'\n",
      "    [ * 'die' NOM VP ]\n",
      "Backtrack: 'der' match failed\n",
      "Expand: DET -> 'das'\n",
      "    [ * 'das' NOM VP ]\n",
      "Backtrack: 'der' match failed\n"
     ]
    }
   ],
   "source": [
    "##Recursive Descent Parser:\n",
    "from nltk.tree import Tree\n",
    "parser = nltk.RecursiveDescentParser(grammar, trace=3)\n",
    "sent = 'der Mann schläft'.split()\n",
    "for tree in parser.parse(sent):\n",
    "    tree.pretty_print(unicodelines=True)"
   ]
  },
  {
   "cell_type": "markdown",
   "metadata": {},
   "source": [
    "--- \n",
    "##### Lösung mit Shift-Reduce-Parser:"
   ]
  },
  {
   "cell_type": "code",
   "execution_count": 4,
   "metadata": {},
   "outputs": [
    {
     "name": "stdout",
     "output_type": "stream",
     "text": [
      "Warning: VP -> V NP NP will never be used\n",
      "Warning: VP -> V NP NP will never be used\n",
      "Warning: VP -> V NP will never be used\n",
      "Parsing 'der Mann schläft'\n",
      "    [ * der Mann schläft]\n",
      "  S [ 'der' * Mann schläft]\n",
      "  R [ DET * Mann schläft]\n",
      "  S [ DET 'Mann' * schläft]\n",
      "  R [ DET N * schläft]\n",
      "  R [ DET NOM * schläft]\n",
      "  R [ NP * schläft]\n",
      "  S [ NP 'schläft' * ]\n",
      "  R [ NP V * ]\n",
      "  R [ NP VP * ]\n",
      "  R [ S * ]\n",
      "         S          \n",
      "     ┌───┴──────┐    \n",
      "     NP         │   \n",
      " ┌───┴───┐      │    \n",
      " │      NOM     VP  \n",
      " │       │      │    \n",
      "DET      N      V   \n",
      " │       │      │    \n",
      "der     Mann schläft\n",
      "\n"
     ]
    }
   ],
   "source": [
    "##Shift Reduce Parser:\n",
    "from nltk.tree import Tree\n",
    "parser = nltk.ShiftReduceParser(grammar, trace=2)\n",
    "sent = 'der Mann schläft'.split()\n",
    "for tree in parser.parse(sent):\n",
    "    tree.pretty_print(unicodelines=True)"
   ]
  },
  {
   "cell_type": "markdown",
   "metadata": {},
   "source": [
    "--- \n",
    "##### Lösung mit Earley-Parser:"
   ]
  },
  {
   "cell_type": "code",
   "execution_count": 5,
   "metadata": {},
   "outputs": [
    {
     "name": "stdout",
     "output_type": "stream",
     "text": [
      "|.    der    .    Mann   .  schläft  .|\n",
      "|[-----------]           .           .| [0:1] 'der'\n",
      "|.           [-----------]           .| [1:2] 'Mann'\n",
      "|.           .           [-----------]| [2:3] 'schläft'\n",
      "|>           .           .           .| [0:0] S  -> * NP VP\n",
      "|>           .           .           .| [0:0] NP -> * DET NOM\n",
      "|>           .           .           .| [0:0] DET -> * 'der'\n",
      "|[-----------]           .           .| [0:1] DET -> 'der' *\n",
      "|[----------->           .           .| [0:1] NP -> DET * NOM\n",
      "|.           >           .           .| [1:1] NOM -> * ADJ NOM\n",
      "|.           >           .           .| [1:1] NOM -> * N\n",
      "|.           >           .           .| [1:1] N  -> * 'Mann'\n",
      "|.           [-----------]           .| [1:2] N  -> 'Mann' *\n",
      "|.           [-----------]           .| [1:2] NOM -> N *\n",
      "|[-----------------------]           .| [0:2] NP -> DET NOM *\n",
      "|[----------------------->           .| [0:2] S  -> NP * VP\n",
      "|.           .           >           .| [2:2] VP -> * V NP NP\n",
      "|.           .           >           .| [2:2] VP -> * V NP\n",
      "|.           .           >           .| [2:2] VP -> * V\n",
      "|.           .           >           .| [2:2] V  -> * 'schläft'\n",
      "|.           .           [-----------]| [2:3] V  -> 'schläft' *\n",
      "|.           .           [----------->| [2:3] VP -> V * NP NP\n",
      "|.           .           [----------->| [2:3] VP -> V * NP\n",
      "|.           .           [-----------]| [2:3] VP -> V *\n",
      "|[===================================]| [0:3] S  -> NP VP *\n",
      "|.           .           .           >| [3:3] NP -> * DET NOM\n",
      "         S          \n",
      "     ┌───┴──────┐    \n",
      "     NP         │   \n",
      " ┌───┴───┐      │    \n",
      " │      NOM     VP  \n",
      " │       │      │    \n",
      "DET      N      V   \n",
      " │       │      │    \n",
      "der     Mann schläft\n",
      "\n"
     ]
    }
   ],
   "source": [
    "## Earley Parser:\n",
    "\n",
    "from nltk.tree import Tree\n",
    "parser = nltk.EarleyChartParser(grammar, trace=1)\n",
    "sent = 'der Mann schläft'.split()\n",
    "for tree in parser.parse(sent):\n",
    "    tree.pretty_print(unicodelines=True)"
   ]
  },
  {
   "cell_type": "code",
   "execution_count": 77,
   "metadata": {},
   "outputs": [
    {
     "name": "stdout",
     "output_type": "stream",
     "text": [
      "|.    der    .    Mann   .  schläft  .|\n",
      "Leaf Init Rule:\n",
      "|[-----------]           .           .| [0:1] 'der'\n",
      "|.           [-----------]           .| [1:2] 'Mann'\n",
      "|.           .           [-----------]| [2:3] 'schläft'\n",
      "Top Down Init Rule:\n",
      "|>           .           .           .| [0:0] S  -> * NP VP\n",
      "\n",
      "* Processing queue: 0 \n",
      "\n",
      "Predictor Rule:\n",
      "|>           .           .           .| [0:0] NP -> * DET NOM\n",
      "Predictor Rule:\n",
      "|>           .           .           .| [0:0] DET -> * 'der'\n",
      "\n",
      "* Processing queue: 1 \n",
      "\n",
      "Scanner Rule:\n",
      "|[-----------]           .           .| [0:1] DET -> 'der' *\n",
      "Completer Rule:\n",
      "|[----------->           .           .| [0:1] NP -> DET * NOM\n",
      "Predictor Rule:\n",
      "|.           >           .           .| [1:1] NOM -> * ADJ NOM\n",
      "|.           >           .           .| [1:1] NOM -> * N\n",
      "Predictor Rule:\n",
      "|.           >           .           .| [1:1] N  -> * 'Mann'\n",
      "\n",
      "* Processing queue: 2 \n",
      "\n",
      "Scanner Rule:\n",
      "|.           [-----------]           .| [1:2] N  -> 'Mann' *\n",
      "Completer Rule:\n",
      "|.           [-----------]           .| [1:2] NOM -> N *\n",
      "Completer Rule:\n",
      "|[-----------------------]           .| [0:2] NP -> DET NOM *\n",
      "Completer Rule:\n",
      "|[----------------------->           .| [0:2] S  -> NP * VP\n",
      "Predictor Rule:\n",
      "|.           .           >           .| [2:2] VP -> * V NP NP\n",
      "|.           .           >           .| [2:2] VP -> * V NP\n",
      "|.           .           >           .| [2:2] VP -> * V\n",
      "Predictor Rule:\n",
      "|.           .           >           .| [2:2] V  -> * 'schläft'\n",
      "\n",
      "* Processing queue: 3 \n",
      "\n",
      "Scanner Rule:\n",
      "|.           .           [-----------]| [2:3] V  -> 'schläft' *\n",
      "Completer Rule:\n",
      "|.           .           [----------->| [2:3] VP -> V * NP NP\n",
      "|.           .           [----------->| [2:3] VP -> V * NP\n",
      "|.           .           [-----------]| [2:3] VP -> V *\n",
      "Completer Rule:\n",
      "|[===================================]| [0:3] S  -> NP VP *\n",
      "Predictor Rule:\n",
      "|.           .           .           >| [3:3] NP -> * DET NOM\n",
      "         S          \n",
      "     ┌───┴──────┐    \n",
      "     NP         │   \n",
      " ┌───┴───┐      │    \n",
      " │      NOM     VP  \n",
      " │       │      │    \n",
      "DET      N      V   \n",
      " │       │      │    \n",
      "der     Mann schläft\n",
      "\n"
     ]
    }
   ],
   "source": [
    "## Earley Parser (mit ausführlicherem trace = 2):\n",
    "\n",
    "from nltk.tree import Tree\n",
    "rd_parser = nltk.EarleyChartParser(grammar, trace=2)\n",
    "sent = 'der Mann schläft'.split()\n",
    "for tree in rd_parser.parse(sent):\n",
    "    tree.pretty_print(unicodelines=True)"
   ]
  },
  {
   "cell_type": "markdown",
   "metadata": {},
   "source": [
    "--- \n",
    "# Hausaufgaben"
   ]
  },
  {
   "cell_type": "markdown",
   "metadata": {},
   "source": [
    "---\n",
    "## Aufgabe 2: Parsing-Algorithmen Reloaded\n",
    "\n",
    "#### Kombinationen von Algorithmus und Satz in Aufgabe 1, die während der Präsenzaufgaben nicht behandelt wurden, stellen zusätzliches Übungsmaterial dar.\n",
    "\n",
    "#### Bearbeiten Sie zusätzlich auch die folgenden interaktiven Aufgaben in a) und b)!"
   ]
  },
  {
   "cell_type": "markdown",
   "metadata": {},
   "source": [
    "---\n",
    "## Aufgabe 2 a)\n",
    "\n",
    "#### Welche Operationen stehen den verschiedenen Parsern zur Verfügung?"
   ]
  },
  {
   "cell_type": "code",
   "execution_count": 9,
   "metadata": {},
   "outputs": [
    {
     "data": {
      "application/vnd.jupyter.widget-view+json": {
       "model_id": "cf635b9c9de447529f670da56b3aec57",
       "version_major": 2,
       "version_minor": 0
      },
      "text/plain": [
       "MultipleChoice(children=(HTML(value='<h4 style=\"font-size:14px;\">Welche Operationen hat der Recursive Descent …"
      ]
     },
     "metadata": {},
     "output_type": "display_data"
    },
    {
     "data": {
      "application/vnd.jupyter.widget-view+json": {
       "model_id": "aac53a34d0694e668230888c898178e6",
       "version_major": 2,
       "version_minor": 0
      },
      "text/plain": [
       "MultipleChoice(children=(HTML(value='<h4 style=\"font-size:14px;\">Welche Operationen hat der Shift Reduce Parse…"
      ]
     },
     "metadata": {},
     "output_type": "display_data"
    },
    {
     "data": {
      "application/vnd.jupyter.widget-view+json": {
       "model_id": "2ac49cca103a4a019c2a9792bdffaf33",
       "version_major": 2,
       "version_minor": 0
      },
      "text/plain": [
       "MultipleChoice(children=(HTML(value='<h4 style=\"font-size:14px;\">Welche Operationen hat der Earley Parser?</h4…"
      ]
     },
     "metadata": {},
     "output_type": "display_data"
    }
   ],
   "source": [
    "aufgabe(blatt9_2a)"
   ]
  },
  {
   "cell_type": "markdown",
   "metadata": {},
   "source": [
    "---\n",
    "### Aufgabe 2 b)\n",
    "\n",
    "#### Überlegen Sie für die folgenen Beispiele zu welchem Algorithmus diese gehören und was die nächste von diesem auszuführende Operation ist."
   ]
  },
  {
   "cell_type": "markdown",
   "metadata": {},
   "source": [
    "### Beispiel 1:\n",
    "\n",
    "$ Q_{0}$ : (S' -> * S, 0)"
   ]
  },
  {
   "cell_type": "code",
   "execution_count": 10,
   "metadata": {},
   "outputs": [
    {
     "data": {
      "application/vnd.jupyter.widget-view+json": {
       "model_id": "dd55ab79669c4b899f6cda575574a10a",
       "version_major": 2,
       "version_minor": 0
      },
      "text/plain": [
       "SingleChoice(children=(HTML(value='<h4 style=\"font-size:14px;\">Um welchen Parser handelt es sich?</h4>', layou…"
      ]
     },
     "metadata": {},
     "output_type": "display_data"
    },
    {
     "data": {
      "application/vnd.jupyter.widget-view+json": {
       "model_id": "fe34e2b4f15540c1a0d8c72f21a76ca6",
       "version_major": 2,
       "version_minor": 0
      },
      "text/plain": [
       "SingleChoice(children=(HTML(value='<h4 style=\"font-size:14px;\">Welche Operation folgt als nächstes?</h4>', lay…"
      ]
     },
     "metadata": {},
     "output_type": "display_data"
    }
   ],
   "source": [
    "aufgabe(blatt9_2b_1)"
   ]
  },
  {
   "cell_type": "markdown",
   "metadata": {},
   "source": [
    "### Beispiel 2:\n",
    "\n",
    "#### Betrachen Sie den folgenden Baum zu dem Satz \"der Mann schläft\" und die entsprechenden Grammatikregeln von oben."
   ]
  },
  {
   "cell_type": "code",
   "execution_count": 11,
   "metadata": {},
   "outputs": [
    {
     "name": "stdout",
     "output_type": "stream",
     "text": [
      "         S     \n",
      "      ___|___   \n",
      "     NP      | \n",
      "  ___|___    |  \n",
      "DET     Nom  VP\n",
      " |       |   |  \n",
      "               \n",
      "\n"
     ]
    }
   ],
   "source": [
    "dep_tree = Tree(\n",
    "    \"S\",\n",
    "    [\n",
    "        Tree(\"NP\", [Tree(\"DET\",[\"\"]),Tree(\"Nom\", [\"\"])]),\n",
    "        Tree(\"VP\", [\"\"])    \n",
    "    ]\n",
    ")\n",
    "\n",
    "dep_tree.pretty_print()"
   ]
  },
  {
   "cell_type": "code",
   "execution_count": 12,
   "metadata": {},
   "outputs": [
    {
     "data": {
      "application/vnd.jupyter.widget-view+json": {
       "model_id": "b3eaf7932e854b48bfa2ebbae302d9ed",
       "version_major": 2,
       "version_minor": 0
      },
      "text/plain": [
       "SingleChoice(children=(HTML(value='<h4 style=\"font-size:14px;\">Um welchen Parser handelt es sich?</h4>', layou…"
      ]
     },
     "metadata": {},
     "output_type": "display_data"
    },
    {
     "data": {
      "application/vnd.jupyter.widget-view+json": {
       "model_id": "c4617a4f18364715bf296a31b9c69abc",
       "version_major": 2,
       "version_minor": 0
      },
      "text/plain": [
       "SingleChoice(children=(HTML(value='<h4 style=\"font-size:14px;\">Welche Operation folgt als nächstes?</h4>', lay…"
      ]
     },
     "metadata": {},
     "output_type": "display_data"
    }
   ],
   "source": [
    "aufgabe(blatt9_2b_2)"
   ]
  },
  {
   "cell_type": "markdown",
   "metadata": {},
   "source": [
    "### Beispiel 3:\n",
    "\n",
    "\n",
    "#### Betrachen Sie den folgenden Ausschnitt der Zustandsmenge zu dem Satz \"der Mann schläft\" und die entsprechenden Grammatikregeln von oben.\n",
    "\n",
    "$ Q_{0}$ : (DET -> * der, 0)"
   ]
  },
  {
   "cell_type": "code",
   "execution_count": 13,
   "metadata": {},
   "outputs": [
    {
     "data": {
      "application/vnd.jupyter.widget-view+json": {
       "model_id": "8b06083ec1cf484eb981c8a0abcfd704",
       "version_major": 2,
       "version_minor": 0
      },
      "text/plain": [
       "SingleChoice(children=(HTML(value='<h4 style=\"font-size:14px;\">Um welchen Parser handelt es sich?</h4>', layou…"
      ]
     },
     "metadata": {},
     "output_type": "display_data"
    },
    {
     "data": {
      "application/vnd.jupyter.widget-view+json": {
       "model_id": "37136cd2a8b140be98b0b6d3bef46b42",
       "version_major": 2,
       "version_minor": 0
      },
      "text/plain": [
       "SingleChoice(children=(HTML(value='<h4 style=\"font-size:14px;\">Welche Operation folgt als nächstes?</h4>', lay…"
      ]
     },
     "metadata": {},
     "output_type": "display_data"
    }
   ],
   "source": [
    "aufgabe(blatt9_2b_3)"
   ]
  },
  {
   "cell_type": "markdown",
   "metadata": {},
   "source": [
    "### Beispiel 4:\n",
    "\n",
    "\n",
    "#### Betrachen Sie den folgenden Ausschnitt der Zustandsmenge zu dem Satz \"der Mann schläft\" und die entsprechenden Grammatikregeln von oben.\n",
    "\n",
    "$ Q_{1}$ : (DET -> der * , 0)"
   ]
  },
  {
   "cell_type": "code",
   "execution_count": 14,
   "metadata": {},
   "outputs": [
    {
     "data": {
      "application/vnd.jupyter.widget-view+json": {
       "model_id": "cf87934014a34941a52afb2e4a930e72",
       "version_major": 2,
       "version_minor": 0
      },
      "text/plain": [
       "SingleChoice(children=(HTML(value='<h4 style=\"font-size:14px;\">Um welchen Parser handelt es sich?</h4>', layou…"
      ]
     },
     "metadata": {},
     "output_type": "display_data"
    },
    {
     "data": {
      "application/vnd.jupyter.widget-view+json": {
       "model_id": "96db95814586466a954db3e15276bb4d",
       "version_major": 2,
       "version_minor": 0
      },
      "text/plain": [
       "SingleChoice(children=(HTML(value='<h4 style=\"font-size:14px;\">Welche Operation folgt als nächstes?</h4>', lay…"
      ]
     },
     "metadata": {},
     "output_type": "display_data"
    }
   ],
   "source": [
    "aufgabe(blatt9_2b_4)"
   ]
  },
  {
   "cell_type": "markdown",
   "metadata": {},
   "source": [
    "### Beispiel 5:\n",
    "\n",
    "![earley_1](https://github.com/awisiorek/syntax-1819/raw/master/uebung/img/earley_1.png)"
   ]
  },
  {
   "cell_type": "code",
   "execution_count": 15,
   "metadata": {},
   "outputs": [
    {
     "data": {
      "application/vnd.jupyter.widget-view+json": {
       "model_id": "07834d8983154b218fe39918f9346070",
       "version_major": 2,
       "version_minor": 0
      },
      "text/plain": [
       "SingleChoice(children=(HTML(value='<h4 style=\"font-size:14px;\">Welche Operation folgt als nächstes?</h4>', lay…"
      ]
     },
     "metadata": {},
     "output_type": "display_data"
    }
   ],
   "source": [
    "aufgabe(blatt9_2b_5)"
   ]
  },
  {
   "cell_type": "markdown",
   "metadata": {},
   "source": [
    "### Beispiel 6:\n",
    "\n",
    "![earley_2](https://github.com/awisiorek/syntax-1819/raw/master/uebung/img/earley_2.png)"
   ]
  },
  {
   "cell_type": "code",
   "execution_count": 16,
   "metadata": {},
   "outputs": [
    {
     "data": {
      "application/vnd.jupyter.widget-view+json": {
       "model_id": "91ff30d6799949c58078e94a244f9d6a",
       "version_major": 2,
       "version_minor": 0
      },
      "text/plain": [
       "SingleChoice(children=(HTML(value='<h4 style=\"font-size:14px;\">Welche Operation folgt als nächstes?</h4>', lay…"
      ]
     },
     "metadata": {},
     "output_type": "display_data"
    }
   ],
   "source": [
    "aufgabe(blatt9_2b_6)"
   ]
  },
  {
   "cell_type": "markdown",
   "metadata": {},
   "source": [
    "### Beispiel 7:\n",
    "\n",
    "![earley_3](https://github.com/awisiorek/syntax-1819/raw/master/uebung/img/earley_3.png)"
   ]
  },
  {
   "cell_type": "code",
   "execution_count": 17,
   "metadata": {},
   "outputs": [
    {
     "data": {
      "application/vnd.jupyter.widget-view+json": {
       "model_id": "d0676f7624044f6ebce0f8191a853496",
       "version_major": 2,
       "version_minor": 0
      },
      "text/plain": [
       "SingleChoice(children=(HTML(value='<h4 style=\"font-size:14px;\">Welche Operation folgt als nächstes?</h4>', lay…"
      ]
     },
     "metadata": {},
     "output_type": "display_data"
    }
   ],
   "source": [
    "aufgabe(blatt9_2b_7)"
   ]
  },
  {
   "cell_type": "markdown",
   "metadata": {},
   "source": [
    "### Beispiel 8:\n",
    "\n",
    "![recdes_1](https://github.com/awisiorek/syntax-1819/raw/master/uebung/img/recdes_1.png)"
   ]
  },
  {
   "cell_type": "code",
   "execution_count": 18,
   "metadata": {},
   "outputs": [
    {
     "data": {
      "application/vnd.jupyter.widget-view+json": {
       "model_id": "9751d3b406f342afb3a7628d54763c32",
       "version_major": 2,
       "version_minor": 0
      },
      "text/plain": [
       "SingleChoice(children=(HTML(value='<h4 style=\"font-size:14px;\">Welche Operation folgt als nächstes?</h4>', lay…"
      ]
     },
     "metadata": {},
     "output_type": "display_data"
    }
   ],
   "source": [
    "aufgabe(blatt9_2b_8)"
   ]
  },
  {
   "cell_type": "markdown",
   "metadata": {},
   "source": [
    "### Beispiel 9:\n",
    "\n",
    "![recdes_2](https://github.com/awisiorek/syntax-1819/raw/master/uebung/img/recdes_2.png)"
   ]
  },
  {
   "cell_type": "code",
   "execution_count": 19,
   "metadata": {},
   "outputs": [
    {
     "data": {
      "application/vnd.jupyter.widget-view+json": {
       "model_id": "9e76a2d5e1f04a84874d0c914b6d06ac",
       "version_major": 2,
       "version_minor": 0
      },
      "text/plain": [
       "SingleChoice(children=(HTML(value='<h4 style=\"font-size:14px;\">Welche Operation folgt als nächstes?</h4>', lay…"
      ]
     },
     "metadata": {},
     "output_type": "display_data"
    }
   ],
   "source": [
    "aufgabe(blatt9_2b_9)"
   ]
  },
  {
   "cell_type": "markdown",
   "metadata": {},
   "source": [
    "### Beispiel 10:\n",
    "\n",
    "![recdes_3](https://github.com/awisiorek/syntax-1819/raw/master/uebung/img/recdes_3.png)"
   ]
  },
  {
   "cell_type": "code",
   "execution_count": 20,
   "metadata": {},
   "outputs": [
    {
     "data": {
      "application/vnd.jupyter.widget-view+json": {
       "model_id": "d24882ff1e694cafa8af1adf2f670050",
       "version_major": 2,
       "version_minor": 0
      },
      "text/plain": [
       "SingleChoice(children=(HTML(value='<h4 style=\"font-size:14px;\">Welche Operation folgt als nächstes?</h4>', lay…"
      ]
     },
     "metadata": {},
     "output_type": "display_data"
    }
   ],
   "source": [
    "aufgabe(blatt9_2b_10)"
   ]
  },
  {
   "cell_type": "markdown",
   "metadata": {},
   "source": [
    "### Beispiel 11:\n",
    "\n",
    "![shiftred_1](https://github.com/awisiorek/syntax-1819/raw/master/uebung/img/shiftred_1.png)"
   ]
  },
  {
   "cell_type": "code",
   "execution_count": 21,
   "metadata": {},
   "outputs": [
    {
     "data": {
      "application/vnd.jupyter.widget-view+json": {
       "model_id": "10cd271881944a02b459e0f0251af5d7",
       "version_major": 2,
       "version_minor": 0
      },
      "text/plain": [
       "SingleChoice(children=(HTML(value='<h4 style=\"font-size:14px;\">Welche Operation folgt als nächstes?</h4>', lay…"
      ]
     },
     "metadata": {},
     "output_type": "display_data"
    }
   ],
   "source": [
    "aufgabe(blatt9_2b_11)"
   ]
  },
  {
   "cell_type": "markdown",
   "metadata": {},
   "source": [
    "### Beispiel 12:\n",
    "\n",
    "![shiftred_2](https://github.com/awisiorek/syntax-1819/raw/master/uebung/img/shiftred_2.png)"
   ]
  },
  {
   "cell_type": "code",
   "execution_count": 22,
   "metadata": {},
   "outputs": [
    {
     "data": {
      "application/vnd.jupyter.widget-view+json": {
       "model_id": "899499512eff4a06a00887fb7455bb2b",
       "version_major": 2,
       "version_minor": 0
      },
      "text/plain": [
       "SingleChoice(children=(HTML(value='<h4 style=\"font-size:14px;\">Welche Operation folgt als nächstes?</h4>', lay…"
      ]
     },
     "metadata": {},
     "output_type": "display_data"
    }
   ],
   "source": [
    "aufgabe(blatt9_2b_12)"
   ]
  },
  {
   "cell_type": "markdown",
   "metadata": {},
   "source": [
    "### Beispiel 13:\n",
    "\n",
    "![shiftred_3](https://github.com/awisiorek/syntax-1819/raw/master/uebung/img/shiftred_3.png)"
   ]
  },
  {
   "cell_type": "code",
   "execution_count": 23,
   "metadata": {},
   "outputs": [
    {
     "data": {
      "application/vnd.jupyter.widget-view+json": {
       "model_id": "4ba3e0d2388648cf9b973bb7113b5af1",
       "version_major": 2,
       "version_minor": 0
      },
      "text/plain": [
       "SingleChoice(children=(HTML(value='<h4 style=\"font-size:14px;\">Welche Operation folgt als nächstes?</h4>', lay…"
      ]
     },
     "metadata": {},
     "output_type": "display_data"
    }
   ],
   "source": [
    "aufgabe(blatt9_2b_13)"
   ]
  },
  {
   "cell_type": "markdown",
   "metadata": {},
   "source": [
    "---\n",
    "## Aufgabe 3: Imperativ ohne Subjekt\n",
    "\n",
    "#### Betrachten Sie die folgende kontextfreie Merkmalsgrammatik:"
   ]
  },
  {
   "cell_type": "code",
   "execution_count": 24,
   "metadata": {},
   "outputs": [],
   "source": [
    "##Angabe:\n",
    "grammar = \"\"\"\n",
    "S -> NP VP\n",
    "S -> VP\n",
    "\n",
    "NP -> DET N\n",
    "VP -> V[SUBCAT=tr] NP\n",
    "VP -> V[SUBCAT=intr]\n",
    "\n",
    "DET -> \"das\"\n",
    "N -> \"Kind\" | \"Buch\"\n",
    "\n",
    "V[SUBCAT=tr] -> \"lies\"\n",
    "V[SUBCAT=tr] -> \"liest\"\n",
    "V[SUBCAT=intr] -> \"schlaf\"\n",
    "V[SUBCAT=intr] -> \"schläft\"\n",
    "\"\"\""
   ]
  },
  {
   "cell_type": "code",
   "execution_count": 3,
   "metadata": {},
   "outputs": [],
   "source": [
    "##Lösung:\n",
    "grammar = \"\"\"\n",
    "# b)\n",
    "S -> NP VP[MOOD=\"ind\"]\n",
    "S -> VP[MOOD=\"imp\"]\n",
    "\n",
    "VP[MOOD=?x] -> V[SUBCAT=tr,MOOD=?x] NP \n",
    "VP[MOOD=?x] -> V[SUBCAT=intr,MOOD=?x]\n",
    "\n",
    "NP -> DET N\n",
    "\n",
    "DET -> \"das\"\n",
    "N -> \"Kind\" | \"Buch\"\n",
    "\n",
    "# a)\n",
    "V[SUBCAT=intr,MOOD=\"imp\"] -> \"schlaf\"\n",
    "V[SUBCAT=intr,MOOD=\"ind\"] -> \"schläft\"\n",
    "\n",
    "V[SUBCAT=tr,MOOD=\"imp\"] -> \"lies\"\n",
    "V[SUBCAT=tr,MOOD=\"ind\"] -> \"liest\"\n",
    "\"\"\""
   ]
  },
  {
   "cell_type": "markdown",
   "metadata": {},
   "source": [
    "#### Hier wurde versucht, Aufforderungssätze zu modellieren. Allerdings akzeptiert diese Grammatik immer noch viele ungrammatische Sätze.\n",
    "\n",
    "a) Fügen Sie ein Merkmal `MOOD` mit den möglichen Werten *imp* und *ind* für Imperativ und Indikativ hinzu und deklarieren Sie die entsprechenden Werte im Lexikon (den lexikalischen Regeln). <br>\n",
    "b) Formulieren Sie dann Bedingungen in den syntaktischen Regeln, sodass folgende grammatische Sätze (`pos_sentences`) weiterhin akzeptiert und folgende ungrammatische Sätze (`neg_sentences`) abgelehnt werden."
   ]
  },
  {
   "cell_type": "code",
   "execution_count": 4,
   "metadata": {},
   "outputs": [],
   "source": [
    "pos_sentences = [\n",
    "    \"das Kind schläft\",\n",
    "    \"das Kind liest das Buch\",\n",
    "    \"lies das Buch\",\n",
    "    \"schlaf\"\n",
    "]\n",
    "\n",
    "neg_sentences = [\n",
    "    \"das Kind schlaf\",\n",
    "    \"das Kind lies das Buch\",\n",
    "    \"liest das Buch\",\n",
    "    \"schläft\"\n",
    "]"
   ]
  },
  {
   "cell_type": "code",
   "execution_count": 5,
   "metadata": {},
   "outputs": [],
   "source": [
    "from IPython.display import display\n",
    "\n",
    "def test_grammar(grammar, sentences):\n",
    "    cfg = nltk.grammar.FeatureGrammar.fromstring(grammar)\n",
    "    parser = nltk.parse.FeatureEarleyChartParser(cfg)\n",
    "    \n",
    "    for i, sent in enumerate(sentences, 1):\n",
    "        print(\"Satz {}: {}\".format(i, sent))\n",
    "        sys.stdout.flush()\n",
    "        results = parser.parse(sent.split())\n",
    "        analyzed = False\n",
    "        for tree in results:\n",
    "            display(tree)  # tree.draw() oder print(tree)\n",
    "            analyzed = True\n",
    "        if not analyzed:\n",
    "            print(\"Keine Analyse möglich\", file=sys.stderr)\n",
    "            sys.stderr.flush()"
   ]
  },
  {
   "cell_type": "markdown",
   "metadata": {},
   "source": [
    "Hier sollten nur korrekte Syntaxbäume herauskommen:"
   ]
  },
  {
   "cell_type": "code",
   "execution_count": 6,
   "metadata": {},
   "outputs": [
    {
     "name": "stdout",
     "output_type": "stream",
     "text": [
      "Satz 1: das Kind schläft\n"
     ]
    },
    {
     "data": {
      "image/png": "[encoded data removed]",
      "text/plain": [
       "Tree(S[], [Tree(NP[], [Tree(DET[], ['das']), Tree(N[], ['Kind'])]), Tree(VP[MOOD='ind'], [Tree(V[MOOD='ind', SUBCAT='intr'], ['schläft'])])])"
      ]
     },
     "metadata": {},
     "output_type": "display_data"
    },
    {
     "name": "stdout",
     "output_type": "stream",
     "text": [
      "Satz 2: das Kind liest das Buch\n"
     ]
    },
    {
     "data": {
      "image/png": "[encoded data removed]",
      "text/plain": [
       "Tree(S[], [Tree(NP[], [Tree(DET[], ['das']), Tree(N[], ['Kind'])]), Tree(VP[MOOD='ind'], [Tree(V[MOOD='ind', SUBCAT='tr'], ['liest']), Tree(NP[], [Tree(DET[], ['das']), Tree(N[], ['Buch'])])])])"
      ]
     },
     "metadata": {},
     "output_type": "display_data"
    },
    {
     "name": "stdout",
     "output_type": "stream",
     "text": [
      "Satz 3: lies das Buch\n"
     ]
    },
    {
     "data": {
      "image/png": "[encoded data removed]",
      "text/plain": [
       "Tree(S[], [Tree(VP[MOOD='imp'], [Tree(V[MOOD='imp', SUBCAT='tr'], ['lies']), Tree(NP[], [Tree(DET[], ['das']), Tree(N[], ['Buch'])])])])"
      ]
     },
     "metadata": {},
     "output_type": "display_data"
    },
    {
     "name": "stdout",
     "output_type": "stream",
     "text": [
      "Satz 4: schlaf\n"
     ]
    },
    {
     "data": {
      "image/png": "[encoded data removed]",
      "text/plain": [
       "Tree(S[], [Tree(VP[MOOD='imp'], [Tree(V[MOOD='imp', SUBCAT='intr'], ['schlaf'])])])"
      ]
     },
     "metadata": {},
     "output_type": "display_data"
    }
   ],
   "source": [
    "test_grammar(grammar, pos_sentences)"
   ]
  },
  {
   "cell_type": "markdown",
   "metadata": {},
   "source": [
    "Hier sollte ausschließlich `Keine Analyse möglich` stehen:"
   ]
  },
  {
   "cell_type": "code",
   "execution_count": 29,
   "metadata": {},
   "outputs": [
    {
     "name": "stdout",
     "output_type": "stream",
     "text": [
      "Satz 1: das Kind schlaf\n"
     ]
    },
    {
     "name": "stderr",
     "output_type": "stream",
     "text": [
      "Keine Analyse möglich\n"
     ]
    },
    {
     "name": "stdout",
     "output_type": "stream",
     "text": [
      "Satz 2: das Kind lies das Buch\n"
     ]
    },
    {
     "name": "stderr",
     "output_type": "stream",
     "text": [
      "Keine Analyse möglich\n"
     ]
    },
    {
     "name": "stdout",
     "output_type": "stream",
     "text": [
      "Satz 3: liest das Buch\n"
     ]
    },
    {
     "name": "stderr",
     "output_type": "stream",
     "text": [
      "Keine Analyse möglich\n"
     ]
    },
    {
     "name": "stdout",
     "output_type": "stream",
     "text": [
      "Satz 4: schläft\n"
     ]
    },
    {
     "name": "stderr",
     "output_type": "stream",
     "text": [
      "Keine Analyse möglich\n"
     ]
    }
   ],
   "source": [
    "test_grammar(grammar, neg_sentences)"
   ]
  },
  {
   "cell_type": "markdown",
   "metadata": {},
   "source": [
    "---\n",
    "## &ast;Aufgabe 4: Recursive Descent Parser Demo\n",
    "\n",
    "#### Die Demo-Applikation `nltk.app.rdparser()` veranschaulicht die Funktionsweise eines Recursive Descent Parsers. Spielen Sie ein wenig mit der Demo, nehmen Sie Änderungen an der Grammatik vor und stellen Sie sicher, dass Sie verstehen wie jeder einzelne Schritt zustandekommt."
   ]
  },
  {
   "cell_type": "markdown",
   "metadata": {},
   "source": [
    "---\n",
    "## &ast;Aufgabe 5: NLTK-Kapitel zum Parsing \n",
    "\n",
    "#### In folgenden NLTK-Kapiteln (8.4 und 8.2-extras) zum Parsing mit kontextfreien Grammatiken können Sie sich weiterführend über top-down-, bottom-up- sowie Chart-Parsing informieren:\n",
    "\n",
    "- Teilkapitel 8.4 (’Parsing With Context Free Grammar’):\n",
    "http://www.nltk.org/book/ch08.html\n",
    "- Teilkapitel 2.1-2.8 (’Chart Parsing’) des Zusatzkapitels zu Kapitel 8:\n",
    "http://www.nltk.org/book/ch08-extras.html"
   ]
  }
 ],
 "metadata": {
  "kernelspec": {
   "display_name": "Python 3",
   "language": "python",
   "name": "python3"
  },
  "language_info": {
   "codemirror_mode": {
    "name": "ipython",
    "version": 3
   },
   "file_extension": ".py",
   "mimetype": "text/x-python",
   "name": "python",
   "nbconvert_exporter": "python",
   "pygments_lexer": "ipython3",
   "version": "3.6.1"
  },
  "widgets": {
   "application/vnd.jupyter.widget-state+json": {
    "state": {
     "007384f6e4ce497bbb10eca3843a1e18": {
      "model_module": "@jupyter-widgets/controls",
      "model_module_version": "1.2.0",
      "model_name": "VBoxModel",
      "state": {
       "children": [
        "IPY_MODEL_bf1eb27ce5344520bf764e99bacb8f8c",
        "IPY_MODEL_792df644b23249a8aab58b663da0c3cf",
        "IPY_MODEL_0d479f37fd994d9287b0e40d82aa1d9f",
        "IPY_MODEL_bfa39c509d1b4a35afbf6f876c25f856",
        "IPY_MODEL_9ab128db54504976b77ec1339a216da9"
       ],
       "layout": "IPY_MODEL_1399eafbac6c480790206c9d974c61c5"
      }
     },
     "014849f3eef64e0fb9eb851f0875630f": {
      "model_module": "@jupyter-widgets/base",
      "model_module_version": "1.0.0",
      "model_name": "LayoutModel",
      "state": {
       "width": "250px"
      }
     },
     "01573a0b27b14050a42e26331676bb5d": {
      "model_module": "@jupyter-widgets/base",
      "model_module_version": "1.0.0",
      "model_name": "LayoutModel",
      "state": {
       "justify_content": "center"
      }
     },
     "0176a135c4e34137870a8609c829e390": {
      "model_module": "@jupyter-widgets/controls",
      "model_module_version": "1.2.0",
      "model_name": "HBoxModel",
      "state": {
       "children": [
        "IPY_MODEL_8f6474a4db9e4944bb5756adc9663dd6",
        "IPY_MODEL_5c147f7923a44c728577a31e1ab7725a"
       ],
       "layout": "IPY_MODEL_26301dac00434844a29ffa3c717c2b83"
      }
     },
     "0181c6ef302f40139df69d06f93be25c": {
      "model_module": "@jupyter-widgets/controls",
      "model_module_version": "1.2.0",
      "model_name": "HBoxModel",
      "state": {
       "children": [
        "IPY_MODEL_cb37cfb93d854f4392c129098aa88fa4",
        "IPY_MODEL_aed46a3762d8481285cc830f2ad86d79"
       ],
       "layout": "IPY_MODEL_620e0bf14b5a41f49f263b6ec80f5161"
      }
     },
     "018bebb711b047aa8f59f2896df6149b": {
      "model_module": "@jupyter-widgets/controls",
      "model_module_version": "1.2.0",
      "model_name": "DescriptionStyleModel",
      "state": {
       "description_width": "initial"
      }
     },
     "018cf6adafab41f982be30730131c593": {
      "model_module": "@jupyter-widgets/base",
      "model_module_version": "1.0.0",
      "model_name": "LayoutModel",
      "state": {
       "width": "250px"
      }
     },
     "01b19f5b542a494b9fe49f6111571d18": {
      "model_module": "@jupyter-widgets/controls",
      "model_module_version": "1.2.0",
      "model_name": "HTMLModel",
      "state": {
       "layout": "IPY_MODEL_338a9148df6344d69fc129fc8251a30e",
       "style": "IPY_MODEL_a5d8b4fc493a470c836e0d98a029d84c",
       "value": "<i>Wählen Sie die <ins>eine</ins> korrekte Antwort aus: </i>"
      }
     },
     "027f56fa1cfc410c86363fdb0b1b7f4a": {
      "model_module": "@jupyter-widgets/controls",
      "model_module_version": "1.2.0",
      "model_name": "ButtonModel",
      "state": {
       "description": "Complete",
       "layout": "IPY_MODEL_6597ae663ff74604893a8b448c8a4590",
       "style": "IPY_MODEL_340e4d16f1cf4894bf1d3ec284e744a6"
      }
     },
     "028c3b089db744cba3053c571264ed85": {
      "model_module": "@jupyter-widgets/base",
      "model_module_version": "1.0.0",
      "model_name": "LayoutModel",
      "state": {
       "width": "250px"
      }
     },
     "04a8957bc8cb4ffea981ac5be2406b2b": {
      "model_module": "@jupyter-widgets/base",
      "model_module_version": "1.0.0",
      "model_name": "LayoutModel",
      "state": {}
     },
     "04d86de2999845af98cc64f5575dc544": {
      "model_module": "@jupyter-widgets/base",
      "model_module_version": "1.0.0",
      "model_name": "LayoutModel",
      "state": {
       "width": "250px"
      }
     },
     "04f0036eb5f74897839ce12ae0fd982e": {
      "model_module": "@jupyter-widgets/base",
      "model_module_version": "1.0.0",
      "model_name": "LayoutModel",
      "state": {
       "justify_content": "center"
      }
     },
     "051c6f50e1e343c3a9537c752fd31b50": {
      "model_module": "@jupyter-widgets/controls",
      "model_module_version": "1.2.0",
      "model_name": "HBoxModel",
      "state": {
       "children": [
        "IPY_MODEL_413d6f3cc9cc4daea54dfb999a5b48a4",
        "IPY_MODEL_813bc0fb5398469b925321e11692effb"
       ],
       "layout": "IPY_MODEL_77fd2a76806e45009245a21de69cbaae"
      }
     },
     "0544ab4181fd406bbe89d66eae9b9366": {
      "model_module": "@jupyter-widgets/controls",
      "model_module_version": "1.2.0",
      "model_name": "ButtonModel",
      "state": {
       "description": "Complete",
       "layout": "IPY_MODEL_5870a4b7d2f34f478766ef3e863cfded",
       "style": "IPY_MODEL_200794e2b0c24db19a265694124e4136"
      }
     },
     "055cf8c9ca26435cbebf954e89b54364": {
      "model_module": "@jupyter-widgets/controls",
      "model_module_version": "1.2.0",
      "model_name": "HTMLModel",
      "state": {
       "layout": "IPY_MODEL_eec029dbbdaf42809960c5b34eb4759b",
       "style": "IPY_MODEL_1e4de0021c49455f8f86bcb06c577746",
       "value": "<i>Wählen Sie die <ins>eine</ins> korrekte Antwort aus: </i>"
      }
     },
     "05a48eeed9134f66a7a714040307058e": {
      "model_module": "@jupyter-widgets/controls",
      "model_module_version": "1.2.0",
      "model_name": "HTMLModel",
      "state": {
       "layout": "IPY_MODEL_61892670bf034fc5b04c0f7ed32b949b",
       "style": "IPY_MODEL_d479714b9dda4432972008bbf4b0e7af",
       "value": "<i>Wählen Sie die <ins>eine</ins> korrekte Antwort aus: </i>"
      }
     },
     "05ac8413f0fe4d5cbb5392bd8ca67b77": {
      "model_module": "@jupyter-widgets/controls",
      "model_module_version": "1.2.0",
      "model_name": "HTMLModel",
      "state": {
       "layout": "IPY_MODEL_d7c3f1e1361c4590b15b1e97086c0bef",
       "style": "IPY_MODEL_2d3b220103ad49f4a1c966c18387e282",
       "value": "<i>Wählen Sie die <ins>eine</ins> korrekte Antwort aus: </i>"
      }
     },
     "0674e6cb83f94a49879c12b549eb3592": {
      "model_module": "@jupyter-widgets/controls",
      "model_module_version": "1.2.0",
      "model_name": "HBoxModel",
      "state": {
       "children": [
        "IPY_MODEL_f67d9ea1eb0b4481bbc05499d741a37d",
        "IPY_MODEL_4880e3c2e20045bc8d0bb730a0012fcb"
       ],
       "layout": "IPY_MODEL_2ededa303b60419c8e310c27437bd0c4"
      }
     },
     "06bc9d415291428a958845ddc1422265": {
      "model_module": "@jupyter-widgets/base",
      "model_module_version": "1.0.0",
      "model_name": "LayoutModel",
      "state": {
       "width": "250px"
      }
     },
     "06c0a3f5d98e4e5e94dd274b14001352": {
      "model_module": "@jupyter-widgets/controls",
      "model_module_version": "1.2.0",
      "model_name": "ButtonModel",
      "state": {
       "description": "Shift",
       "layout": "IPY_MODEL_9439ccabc63c4977ba1b6405915f60e7",
       "style": "IPY_MODEL_0ad130a08480468f80cdc2f3a0812a37"
      }
     },
     "06c6be43e8154c799fb8930bcda4ca5a": {
      "model_module": "@jupyter-widgets/controls",
      "model_module_version": "1.2.0",
      "model_name": "ButtonStyleModel",
      "state": {}
     },
     "06d2b866037743eba42270cc1b6a2214": {
      "model_module": "@jupyter-widgets/controls",
      "model_module_version": "1.2.0",
      "model_name": "HBoxModel",
      "state": {
       "children": [
        "IPY_MODEL_18fd43f629604b44ba6e8e47ba1388df",
        "IPY_MODEL_fa3eaa7e3ac44263a791b47a0a2129ec"
       ],
       "layout": "IPY_MODEL_86d402c1259047f689551c41e344c845"
      }
     },
     "06d91875c3c34909ae5225c749703c5b": {
      "model_module": "@jupyter-widgets/controls",
      "model_module_version": "1.2.0",
      "model_name": "ButtonStyleModel",
      "state": {}
     },
     "0700a7d8df164f48b959516d90b0eb1f": {
      "model_module": "@jupyter-widgets/base",
      "model_module_version": "1.0.0",
      "model_name": "LayoutModel",
      "state": {
       "width": "250px"
      }
     },
     "072ebed4bc8b45a9a75894c3b0e12cc0": {
      "model_module": "@jupyter-widgets/controls",
      "model_module_version": "1.2.0",
      "model_name": "ButtonModel",
      "state": {
       "description": "Complete",
       "layout": "IPY_MODEL_7e91c0cd3ab643d0bb4b4b79664f9cdb",
       "style": "IPY_MODEL_3c16960648144005936f228474de44a2"
      }
     },
     "074139441d704f73a364f3cef26b8ed3": {
      "model_module": "@jupyter-widgets/controls",
      "model_module_version": "1.2.0",
      "model_name": "HTMLModel",
      "state": {
       "layout": "IPY_MODEL_3067515d20c445c090a1d199a8027698",
       "style": "IPY_MODEL_a0f73c05c0924d4c9716904099932322",
       "value": "<h4 style=\"font-size:14px;\">Welche Operationen hat der Recursive Descent Parser?</h4>"
      }
     },
     "0774b2579982445ca5f4579dc42567b2": {
      "model_module": "@jupyter-widgets/base",
      "model_module_version": "1.0.0",
      "model_name": "LayoutModel",
      "state": {
       "width": "250px"
      }
     },
     "07834d8983154b218fe39918f9346070": {
      "model_module": "@jupyter-widgets/controls",
      "model_module_version": "1.2.0",
      "model_name": "VBoxModel",
      "state": {
       "children": [
        "IPY_MODEL_b7739eb4a090420da5ef9cddad1d5cf0",
        "IPY_MODEL_c751a88cca2e48d6ad0858a119ffb1c5",
        "IPY_MODEL_cfb09b8f9384476aa5a6ecd9b6ca02c8",
        "IPY_MODEL_97663f9dc1a04a749199b96a847768b9",
        "IPY_MODEL_facc1c2f099c4ed4b6a39ac32e771f79"
       ],
       "layout": "IPY_MODEL_c871d1cf1c8743f6927ae49e74f4cfa0"
      }
     },
     "07bb6fc0e68d47ffab38e0f6500f26ee": {
      "model_module": "@jupyter-widgets/controls",
      "model_module_version": "1.2.0",
      "model_name": "HTMLModel",
      "state": {
       "layout": "IPY_MODEL_22ba5cede46d4b1bb8661719d5b6dd2e",
       "style": "IPY_MODEL_de67b15b9d3d456da21bf0dd0926a35e",
       "value": "<h4 style=\"font-size:14px;\">Welche Operation folgt als nächstes?</h4>"
      }
     },
     "07c45d8365864b87bb88e307633eef76": {
      "model_module": "@jupyter-widgets/controls",
      "model_module_version": "1.2.0",
      "model_name": "HTMLModel",
      "state": {
       "layout": "IPY_MODEL_39e72d2ff0c14c26bd7e09c2ff66d96d",
       "style": "IPY_MODEL_436a667bda644f12a2191244db432275",
       "value": "<i>Wählen Sie die <ins>eine</ins> korrekte Antwort aus: </i>"
      }
     },
     "07d4cef4eec542ba9466a6204f8f4f0e": {
      "model_module": "@jupyter-widgets/controls",
      "model_module_version": "1.2.0",
      "model_name": "ButtonModel",
      "state": {
       "description": "Reduce",
       "layout": "IPY_MODEL_c6350109b0e341adbd28c518e0724448",
       "style": "IPY_MODEL_507a737391314346a1da14815537b4fa"
      }
     },
     "081100818416450f854c2ce96f1dff97": {
      "model_module": "@jupyter-widgets/controls",
      "model_module_version": "1.2.0",
      "model_name": "ButtonModel",
      "state": {
       "description": "Scan",
       "layout": "IPY_MODEL_a697ae4feffa4c46bbde2468135e06ec",
       "style": "IPY_MODEL_b6035766694a41f1aa838aec6737e0dd"
      }
     },
     "083079dc019d4a668e2c0a87a8dc4396": {
      "model_module": "@jupyter-widgets/controls",
      "model_module_version": "1.2.0",
      "model_name": "ButtonModel",
      "state": {
       "description": "Shift",
       "layout": "IPY_MODEL_d232c3e5220142158cb51bc2ea42c27a",
       "style": "IPY_MODEL_c01b3d6b9827413eb70de799f4e51261"
      }
     },
     "0838233678bc48dcafb3b6a142cb26f6": {
      "model_module": "@jupyter-widgets/base",
      "model_module_version": "1.0.0",
      "model_name": "LayoutModel",
      "state": {}
     },
     "0888947aa8fc4f4f939e56708e913ed3": {
      "model_module": "@jupyter-widgets/base",
      "model_module_version": "1.0.0",
      "model_name": "LayoutModel",
      "state": {}
     },
     "088e3649dfdd4a9092470243dbb38d37": {
      "model_module": "@jupyter-widgets/base",
      "model_module_version": "1.0.0",
      "model_name": "LayoutModel",
      "state": {
       "justify_content": "center"
      }
     },
     "08e13f0a8a264735a59145b9c85143f5": {
      "model_module": "@jupyter-widgets/controls",
      "model_module_version": "1.2.0",
      "model_name": "ButtonStyleModel",
      "state": {}
     },
     "09564e8ef68d428fb2f92d23bd248ffa": {
      "model_module": "@jupyter-widgets/base",
      "model_module_version": "1.0.0",
      "model_name": "LayoutModel",
      "state": {
       "justify_content": "center"
      }
     },
     "0971b0cda40d4678aa9f16571ba5197e": {
      "model_module": "@jupyter-widgets/controls",
      "model_module_version": "1.2.0",
      "model_name": "HBoxModel",
      "state": {
       "children": [
        "IPY_MODEL_d39ea835e37848b89eadf729cf249b45",
        "IPY_MODEL_577cc3ac06fd4111a1d348b1f8ef1469"
       ],
       "layout": "IPY_MODEL_d866e589c16f410ebabb6e12a50e818f"
      }
     },
     "09d32ffdd1ab4f7da5c630de1deec26f": {
      "model_module": "@jupyter-widgets/controls",
      "model_module_version": "1.2.0",
      "model_name": "HTMLModel",
      "state": {
       "layout": "IPY_MODEL_4f4bda21529f4ee684476a2a3126396e",
       "style": "IPY_MODEL_6f41be8674034695987fdeade34cb36c",
       "value": "<h4 style=\"font-size:14px;\">Welche Operation folgt als nächstes?</h4>"
      }
     },
     "0a0674561a2b4014a9e30a5999275c82": {
      "model_module": "@jupyter-widgets/base",
      "model_module_version": "1.0.0",
      "model_name": "LayoutModel",
      "state": {}
     },
     "0a690e4783794f08a66ed7ad7be82b49": {
      "model_module": "@jupyter-widgets/controls",
      "model_module_version": "1.2.0",
      "model_name": "ButtonStyleModel",
      "state": {}
     },
     "0a7b8003476c4cbf9010dcf5e7cf09f3": {
      "model_module": "@jupyter-widgets/controls",
      "model_module_version": "1.2.0",
      "model_name": "HBoxModel",
      "state": {
       "children": [
        "IPY_MODEL_79384f716724440aac586d1416169ee4",
        "IPY_MODEL_11c9c987c5604bb19c2f858498380301"
       ],
       "layout": "IPY_MODEL_6227453a2fcf4020b11a82b31235f72e"
      }
     },
     "0ad130a08480468f80cdc2f3a0812a37": {
      "model_module": "@jupyter-widgets/controls",
      "model_module_version": "1.2.0",
      "model_name": "ButtonStyleModel",
      "state": {}
     },
     "0b1a17be93cd4084afc1f55a2fa3b626": {
      "model_module": "@jupyter-widgets/base",
      "model_module_version": "1.0.0",
      "model_name": "LayoutModel",
      "state": {
       "width": "250px"
      }
     },
     "0b2b38b72acb4a89929803b303ef8865": {
      "model_module": "@jupyter-widgets/controls",
      "model_module_version": "1.2.0",
      "model_name": "ButtonStyleModel",
      "state": {}
     },
     "0b5cd9a36f6445d39ac72a088189c88b": {
      "model_module": "@jupyter-widgets/base",
      "model_module_version": "1.0.0",
      "model_name": "LayoutModel",
      "state": {
       "width": "250px"
      }
     },
     "0b8bc38ada464905af359f7bc49a9897": {
      "model_module": "@jupyter-widgets/controls",
      "model_module_version": "1.2.0",
      "model_name": "ButtonModel",
      "state": {
       "description": "Complete",
       "layout": "IPY_MODEL_7ec6347752864981b6b8f0696e546115",
       "style": "IPY_MODEL_d396eb86e76742278589915b53ae69bd"
      }
     },
     "0b8f066156694abb81154dc8a5d5c808": {
      "model_module": "@jupyter-widgets/controls",
      "model_module_version": "1.2.0",
      "model_name": "ButtonStyleModel",
      "state": {}
     },
     "0badf5ca5d9b400cbc8d5bd210ef9d5f": {
      "model_module": "@jupyter-widgets/controls",
      "model_module_version": "1.2.0",
      "model_name": "DescriptionStyleModel",
      "state": {
       "description_width": "initial"
      }
     },
     "0bb61ad21ecf4271a2dc4947efcf0dd4": {
      "model_module": "@jupyter-widgets/controls",
      "model_module_version": "1.2.0",
      "model_name": "ButtonStyleModel",
      "state": {}
     },
     "0bd39ed06cb2480fa4574dda06c385ec": {
      "model_module": "@jupyter-widgets/base",
      "model_module_version": "1.0.0",
      "model_name": "LayoutModel",
      "state": {}
     },
     "0be989a44fd84068a1d35c280f0ba299": {
      "model_module": "@jupyter-widgets/controls",
      "model_module_version": "1.2.0",
      "model_name": "DescriptionStyleModel",
      "state": {
       "description_width": ""
      }
     },
     "0bf13a948fe44bb8a05dcadefce35dba": {
      "model_module": "@jupyter-widgets/base",
      "model_module_version": "1.0.0",
      "model_name": "LayoutModel",
      "state": {
       "width": "250px"
      }
     },
     "0bfbdfd3dd4547e0b332771a95dd0065": {
      "model_module": "@jupyter-widgets/controls",
      "model_module_version": "1.2.0",
      "model_name": "DescriptionStyleModel",
      "state": {
       "description_width": "initial"
      }
     },
     "0c12656483974e4cac628caa7c728615": {
      "model_module": "@jupyter-widgets/controls",
      "model_module_version": "1.2.0",
      "model_name": "DescriptionStyleModel",
      "state": {
       "description_width": ""
      }
     },
     "0c23c20bb6f34d408be77a06bc0ef798": {
      "model_module": "@jupyter-widgets/base",
      "model_module_version": "1.0.0",
      "model_name": "LayoutModel",
      "state": {
       "width": "250px"
      }
     },
     "0c6a95aa2fb3495cb174cc240e4515c4": {
      "model_module": "@jupyter-widgets/controls",
      "model_module_version": "1.2.0",
      "model_name": "ButtonModel",
      "state": {
       "description": "Reduce",
       "layout": "IPY_MODEL_27be2f22a88a42579c7ef4b181a0bdda",
       "style": "IPY_MODEL_b44c18dfc6384c8a8bceca1aef1d92ca"
      }
     },
     "0ccd6357ff654c5aa41b2abe14195284": {
      "model_module": "@jupyter-widgets/base",
      "model_module_version": "1.0.0",
      "model_name": "LayoutModel",
      "state": {
       "width": "250px"
      }
     },
     "0cf2657ad03a49c1a7c78d4901e18032": {
      "model_module": "@jupyter-widgets/controls",
      "model_module_version": "1.2.0",
      "model_name": "ButtonStyleModel",
      "state": {}
     },
     "0d203963b5594a2d9dfcf8c7d445714f": {
      "model_module": "@jupyter-widgets/controls",
      "model_module_version": "1.2.0",
      "model_name": "ButtonModel",
      "state": {
       "description": "Predict",
       "layout": "IPY_MODEL_f6b6bd88d3a841a6ba6335b4cd61583c",
       "style": "IPY_MODEL_9de65fe39a0940bcb752add87ec1a339"
      }
     },
     "0d21dc2342144844bb82d102ef1da12d": {
      "model_module": "@jupyter-widgets/controls",
      "model_module_version": "1.2.0",
      "model_name": "ButtonStyleModel",
      "state": {}
     },
     "0d40d129807745dbad773237652cf0f0": {
      "model_module": "@jupyter-widgets/controls",
      "model_module_version": "1.2.0",
      "model_name": "ButtonStyleModel",
      "state": {}
     },
     "0d479f37fd994d9287b0e40d82aa1d9f": {
      "model_module": "@jupyter-widgets/controls",
      "model_module_version": "1.2.0",
      "model_name": "HBoxModel",
      "state": {
       "children": [
        "IPY_MODEL_a0b21cf3b6e441778a7a6cabbe5ef07e",
        "IPY_MODEL_59f498ecfd4f452f9156c8dc71a5ecaa"
       ],
       "layout": "IPY_MODEL_c0449cec717f452c99cd2e1710718ec5"
      }
     },
     "0d93c09a14b04a7cbd988a3d0461f46a": {
      "model_module": "@jupyter-widgets/base",
      "model_module_version": "1.0.0",
      "model_name": "LayoutModel",
      "state": {
       "justify_content": "center"
      }
     },
     "0da461fa5c8c4e45b062e3220eff2f16": {
      "model_module": "@jupyter-widgets/controls",
      "model_module_version": "1.2.0",
      "model_name": "DescriptionStyleModel",
      "state": {
       "description_width": ""
      }
     },
     "0e135386d0df464696bd8ec420463b0e": {
      "model_module": "@jupyter-widgets/base",
      "model_module_version": "1.0.0",
      "model_name": "LayoutModel",
      "state": {}
     },
     "0e14634f5efa4c37b411bc824112a8a1": {
      "model_module": "@jupyter-widgets/base",
      "model_module_version": "1.0.0",
      "model_name": "LayoutModel",
      "state": {
       "width": "250px"
      }
     },
     "0e1fd712fbbb477aa24f513df8197745": {
      "model_module": "@jupyter-widgets/base",
      "model_module_version": "1.0.0",
      "model_name": "LayoutModel",
      "state": {}
     },
     "0e96df04a38a4b5c87035bd5f3badf17": {
      "model_module": "@jupyter-widgets/controls",
      "model_module_version": "1.2.0",
      "model_name": "VBoxModel",
      "state": {
       "children": [
        "IPY_MODEL_4d1c0250faef45e4b5560dae982b3dd2",
        "IPY_MODEL_1969f0302e0742559326a2d145a7c09d",
        "IPY_MODEL_19adb99b42fc46f992aa5b93c922d92d",
        "IPY_MODEL_af2e51788354405ca20c3d95b9572d1c",
        "IPY_MODEL_a86a62cb64264699b3087e3c7b85c254"
       ],
       "layout": "IPY_MODEL_a337eaec4f6a4c558083d3be89847892"
      }
     },
     "0e9f14713f0c45b39e276bce3b792a7a": {
      "model_module": "@jupyter-widgets/controls",
      "model_module_version": "1.2.0",
      "model_name": "HTMLModel",
      "state": {
       "layout": "IPY_MODEL_70bb5443895f4683a1eecd0b65ea5456",
       "style": "IPY_MODEL_c5e2d3e96d604014af6d9f337f767f22",
       "value": "<i>Wählen Sie die <ins>eine</ins> korrekte Antwort aus: </i>"
      }
     },
     "0ec3f7512fe347b3afa1f570e4790f6d": {
      "model_module": "@jupyter-widgets/base",
      "model_module_version": "1.0.0",
      "model_name": "LayoutModel",
      "state": {
       "width": "250px"
      }
     },
     "0ef34292d8ff4212aa3e5df0df562c0e": {
      "model_module": "@jupyter-widgets/controls",
      "model_module_version": "1.2.0",
      "model_name": "DescriptionStyleModel",
      "state": {
       "description_width": ""
      }
     },
     "0efe28c2a41f4b9e9578b7e8ec1094d8": {
      "model_module": "@jupyter-widgets/controls",
      "model_module_version": "1.2.0",
      "model_name": "HBoxModel",
      "state": {
       "children": [
        "IPY_MODEL_3bdb0e7eed3c4fe6b70e2a504ae117dd",
        "IPY_MODEL_6e871baaf61c49a9a9c7467d7f619cd7"
       ],
       "layout": "IPY_MODEL_46362c6609d24cf4afedec9a1c7d7b49"
      }
     },
     "0f44761a81184989a1c184cf63066a19": {
      "model_module": "@jupyter-widgets/base",
      "model_module_version": "1.0.0",
      "model_name": "LayoutModel",
      "state": {}
     },
     "0f49ededc34645fcb6203c9fc19f439e": {
      "model_module": "@jupyter-widgets/controls",
      "model_module_version": "1.2.0",
      "model_name": "ButtonModel",
      "state": {
       "description": "Complete",
       "layout": "IPY_MODEL_d416ed6155a24de4a8bb9f89979e45cc",
       "style": "IPY_MODEL_cf4269321faa4d37bea3d5380f17b886"
      }
     },
     "0f6862c81e5b4464bb24b31fcf8d25fa": {
      "model_module": "@jupyter-widgets/controls",
      "model_module_version": "1.2.0",
      "model_name": "ButtonStyleModel",
      "state": {}
     },
     "0f89a38f43264b8786facee502d337ce": {
      "model_module": "@jupyter-widgets/base",
      "model_module_version": "1.0.0",
      "model_name": "LayoutModel",
      "state": {}
     },
     "0fe474c99248415faf8e038fd5254fbd": {
      "model_module": "@jupyter-widgets/base",
      "model_module_version": "1.0.0",
      "model_name": "LayoutModel",
      "state": {
       "width": "250px"
      }
     },
     "0fedb9f447f346269bd87fd5ad125d97": {
      "model_module": "@jupyter-widgets/controls",
      "model_module_version": "1.2.0",
      "model_name": "ButtonStyleModel",
      "state": {
       "button_color": "lightgreen"
      }
     },
     "10822e628f8246dca596127db0eed34c": {
      "model_module": "@jupyter-widgets/controls",
      "model_module_version": "1.2.0",
      "model_name": "ButtonModel",
      "state": {
       "description": "Shift",
       "layout": "IPY_MODEL_87a6bc0934904f8f899dced66655e63f",
       "style": "IPY_MODEL_f89a44cb02f8400db650d8389eb77384"
      }
     },
     "1092de54526649cebcb2865189f4520d": {
      "model_module": "@jupyter-widgets/base",
      "model_module_version": "1.0.0",
      "model_name": "LayoutModel",
      "state": {}
     },
     "10cd271881944a02b459e0f0251af5d7": {
      "model_module": "@jupyter-widgets/controls",
      "model_module_version": "1.2.0",
      "model_name": "VBoxModel",
      "state": {
       "children": [
        "IPY_MODEL_93df47fc2cd7415b9d842388ed1adbe4",
        "IPY_MODEL_ed1e61ec4adc4295a11d464587fce33a",
        "IPY_MODEL_a00f9486f1414f6f9b0c186f84b239c7",
        "IPY_MODEL_1c3aa209b95c4ee290380a6a1ce410c6",
        "IPY_MODEL_0971b0cda40d4678aa9f16571ba5197e"
       ],
       "layout": "IPY_MODEL_54e8c5381a6c4c209fb832d2afe27464"
      }
     },
     "10db7c0c1ef54025bd3f196a14ff5a0c": {
      "model_module": "@jupyter-widgets/controls",
      "model_module_version": "1.2.0",
      "model_name": "VBoxModel",
      "state": {
       "children": [
        "IPY_MODEL_9223136b70cd432fa506a6b31203378a",
        "IPY_MODEL_055cf8c9ca26435cbebf954e89b54364",
        "IPY_MODEL_9ee195ab4ded4b3e95112175a82f3eec",
        "IPY_MODEL_485cd019633e4f3c9219742f0542ed0d",
        "IPY_MODEL_bb61264bbaf74de2a840b9a80bb88d70"
       ],
       "layout": "IPY_MODEL_2ab05596d07a4d62a61c7aa0b39eee70"
      }
     },
     "10df1ee91dd348b38897012a85762beb": {
      "model_module": "@jupyter-widgets/base",
      "model_module_version": "1.0.0",
      "model_name": "LayoutModel",
      "state": {}
     },
     "10efe42361f94a50bba403b3d491fb50": {
      "model_module": "@jupyter-widgets/controls",
      "model_module_version": "1.2.0",
      "model_name": "HBoxModel",
      "state": {
       "children": [
        "IPY_MODEL_33d03d01c4e14d19a49cb7f5dcf4adc9",
        "IPY_MODEL_1221dbaeb62741048ecef385232c4b28"
       ],
       "layout": "IPY_MODEL_576531e01910404fbf5b46acb663caf1"
      }
     },
     "11302f0022c04309ba9cf7b68955c165": {
      "model_module": "@jupyter-widgets/base",
      "model_module_version": "1.0.0",
      "model_name": "LayoutModel",
      "state": {
       "justify_content": "center"
      }
     },
     "1145a123ce8349b2a2b74e03b1da49ce": {
      "model_module": "@jupyter-widgets/controls",
      "model_module_version": "1.2.0",
      "model_name": "DescriptionStyleModel",
      "state": {
       "description_width": ""
      }
     },
     "11879f2af29b412bb91b20f258e4b636": {
      "model_module": "@jupyter-widgets/base",
      "model_module_version": "1.0.0",
      "model_name": "LayoutModel",
      "state": {}
     },
     "1197f016b37a494c9d8d74d3afa0438b": {
      "model_module": "@jupyter-widgets/controls",
      "model_module_version": "1.2.0",
      "model_name": "DescriptionStyleModel",
      "state": {
       "description_width": ""
      }
     },
     "119d7753035c45dbb2998417d8e16fa9": {
      "model_module": "@jupyter-widgets/controls",
      "model_module_version": "1.2.0",
      "model_name": "ButtonModel",
      "state": {
       "description": "Predict",
       "layout": "IPY_MODEL_9153fae2ce0f47c59d884b76fcd78417",
       "style": "IPY_MODEL_fe821d51a1334cdd8b766dd203085693"
      }
     },
     "11a0e9d37aed4480b4341e9cd1ca67ea": {
      "model_module": "@jupyter-widgets/controls",
      "model_module_version": "1.2.0",
      "model_name": "ButtonModel",
      "state": {
       "description": "Recusive Descent",
       "layout": "IPY_MODEL_6c98777b6b844365829a95ebba66d27a",
       "style": "IPY_MODEL_b35543383c104849bf65eaa1be92f967"
      }
     },
     "11c9c987c5604bb19c2f858498380301": {
      "model_module": "@jupyter-widgets/controls",
      "model_module_version": "1.2.0",
      "model_name": "ButtonModel",
      "state": {
       "description": "Scan",
       "layout": "IPY_MODEL_30fcc9acdac8445bbd6f605c6934ee1b",
       "style": "IPY_MODEL_d28cf03c2081440dbe14fd7bb39964cc"
      }
     },
     "11db1e2f29604c118e0dd100f507deca": {
      "model_module": "@jupyter-widgets/controls",
      "model_module_version": "1.2.0",
      "model_name": "DescriptionStyleModel",
      "state": {
       "description_width": ""
      }
     },
     "121868b4411b47d29a613c6b710b6798": {
      "model_module": "@jupyter-widgets/controls",
      "model_module_version": "1.2.0",
      "model_name": "ButtonStyleModel",
      "state": {}
     },
     "1221dbaeb62741048ecef385232c4b28": {
      "model_module": "@jupyter-widgets/controls",
      "model_module_version": "1.2.0",
      "model_name": "ButtonModel",
      "state": {
       "description": "Scan",
       "layout": "IPY_MODEL_70d7f5aebe584a6d99313f44728ade5b",
       "style": "IPY_MODEL_ee714054188a4d6c8983faa87e48f7f3"
      }
     },
     "1242f887c3e248a4ac790c90b05ccfcc": {
      "model_module": "@jupyter-widgets/controls",
      "model_module_version": "1.2.0",
      "model_name": "ButtonModel",
      "state": {
       "description": "Predict",
       "layout": "IPY_MODEL_48ee5fa3d33045dca147709394909b35",
       "style": "IPY_MODEL_4afa624841bf4bb3a3b308d1d688e8fa"
      }
     },
     "12a7cad07c6e4bb8ae9d8215cab98233": {
      "model_module": "@jupyter-widgets/base",
      "model_module_version": "1.0.0",
      "model_name": "LayoutModel",
      "state": {
       "justify_content": "center"
      }
     },
     "12f5d9c2e5dd41b88ddccb367f13bf36": {
      "model_module": "@jupyter-widgets/base",
      "model_module_version": "1.0.0",
      "model_name": "LayoutModel",
      "state": {
       "width": "250px"
      }
     },
     "1399eafbac6c480790206c9d974c61c5": {
      "model_module": "@jupyter-widgets/base",
      "model_module_version": "1.0.0",
      "model_name": "LayoutModel",
      "state": {}
     },
     "13c72031d22d4140984c2bdf08491f77": {
      "model_module": "@jupyter-widgets/controls",
      "model_module_version": "1.2.0",
      "model_name": "ButtonStyleModel",
      "state": {}
     },
     "13cea67195c3470dad9a19456751dbd1": {
      "model_module": "@jupyter-widgets/base",
      "model_module_version": "1.0.0",
      "model_name": "LayoutModel",
      "state": {
       "justify_content": "center"
      }
     },
     "13e540d321e9468d8aa11be42bae9308": {
      "model_module": "@jupyter-widgets/controls",
      "model_module_version": "1.2.0",
      "model_name": "ButtonModel",
      "state": {
       "description": "Recusive Descent",
       "layout": "IPY_MODEL_b81b949d16b34eda9d94d03ed81c7700",
       "style": "IPY_MODEL_be400e12a5e7428b87ee297b80fa2727"
      }
     },
     "147e7a12e8b148e38d0c397c464a36bc": {
      "model_module": "@jupyter-widgets/controls",
      "model_module_version": "1.2.0",
      "model_name": "ButtonStyleModel",
      "state": {}
     },
     "14ae5270344e434ebd5f114a62082410": {
      "model_module": "@jupyter-widgets/controls",
      "model_module_version": "1.2.0",
      "model_name": "HTMLModel",
      "state": {
       "layout": "IPY_MODEL_546c268508214cf3831d2143c6fc6bf1",
       "style": "IPY_MODEL_0ef34292d8ff4212aa3e5df0df562c0e",
       "value": "<i>Wählen Sie die <ins>eine</ins> korrekte Antwort aus: </i>"
      }
     },
     "14bcf677033a4c8687b3e992c9fbd707": {
      "model_module": "@jupyter-widgets/base",
      "model_module_version": "1.0.0",
      "model_name": "LayoutModel",
      "state": {
       "width": "250px"
      }
     },
     "14c68f2797c34308936215a7088c2f5d": {
      "model_module": "@jupyter-widgets/controls",
      "model_module_version": "1.2.0",
      "model_name": "ButtonModel",
      "state": {
       "description": "Scan",
       "layout": "IPY_MODEL_672e0be8883f482d9ca7990329006c96",
       "style": "IPY_MODEL_0d21dc2342144844bb82d102ef1da12d"
      }
     },
     "150622509a944b2c8e58563d722e1b9a": {
      "model_module": "@jupyter-widgets/base",
      "model_module_version": "1.0.0",
      "model_name": "LayoutModel",
      "state": {}
     },
     "1531708188f64667a4ca08b20b318c4d": {
      "model_module": "@jupyter-widgets/controls",
      "model_module_version": "1.2.0",
      "model_name": "HTMLModel",
      "state": {
       "layout": "IPY_MODEL_5b21488e112e45d3977c1768298957c4",
       "style": "IPY_MODEL_dee29bcfa353407a96d08d18e46350a7",
       "value": "<h4 style=\"font-size:14px;\">Um welchen Parser handelt es sich?</h4>"
      }
     },
     "1545970d6b06436ea8e1d9e2c0f54da7": {
      "model_module": "@jupyter-widgets/controls",
      "model_module_version": "1.2.0",
      "model_name": "DescriptionStyleModel",
      "state": {
       "description_width": "initial"
      }
     },
     "1554a03f34444ea4b29fbf5770b63d86": {
      "model_module": "@jupyter-widgets/base",
      "model_module_version": "1.0.0",
      "model_name": "LayoutModel",
      "state": {
       "width": "250px"
      }
     },
     "159679cfa8654178a58b05a8c5b44e75": {
      "model_module": "@jupyter-widgets/controls",
      "model_module_version": "1.2.0",
      "model_name": "HTMLModel",
      "state": {
       "layout": "IPY_MODEL_e4fc880147ff45e594289f43b0101c30",
       "style": "IPY_MODEL_949ee2f04ac5402c8bb4706b534be586",
       "value": "<h4 style=\"font-size:14px;\">Welche Operation folgt als nächstes?</h4>"
      }
     },
     "15a2aaaba3f5490aa3cf9962fe86fcb6": {
      "model_module": "@jupyter-widgets/controls",
      "model_module_version": "1.2.0",
      "model_name": "ButtonModel",
      "state": {
       "description": "Keine der Alternativen",
       "layout": "IPY_MODEL_d85d9d4bd7d6475ca57f05ce5fcada29",
       "style": "IPY_MODEL_9a160ee39f9b4ab39c87cbd4d40d795a"
      }
     },
     "15c0ff6d330b45c38a1b26f090130662": {
      "model_module": "@jupyter-widgets/base",
      "model_module_version": "1.0.0",
      "model_name": "LayoutModel",
      "state": {}
     },
     "15d8118ae2074ab380e03d9b2a71dd78": {
      "model_module": "@jupyter-widgets/controls",
      "model_module_version": "1.2.0",
      "model_name": "DescriptionStyleModel",
      "state": {
       "description_width": "initial"
      }
     },
     "1624804ebd3a43639555e8fca807f559": {
      "model_module": "@jupyter-widgets/base",
      "model_module_version": "1.0.0",
      "model_name": "LayoutModel",
      "state": {
       "justify_content": "center"
      }
     },
     "165a06ddbc0d45569f0fb6bda8d3bb3f": {
      "model_module": "@jupyter-widgets/base",
      "model_module_version": "1.0.0",
      "model_name": "LayoutModel",
      "state": {
       "width": "250px"
      }
     },
     "16bbdddeceff4f7b846993693fcbd643": {
      "model_module": "@jupyter-widgets/base",
      "model_module_version": "1.0.0",
      "model_name": "LayoutModel",
      "state": {
       "width": "250px"
      }
     },
     "16cbcddbb6db4deb9f839b703d4c86a0": {
      "model_module": "@jupyter-widgets/controls",
      "model_module_version": "1.2.0",
      "model_name": "DescriptionStyleModel",
      "state": {
       "description_width": ""
      }
     },
     "1714ae72595d434d911e522810f19180": {
      "model_module": "@jupyter-widgets/controls",
      "model_module_version": "1.2.0",
      "model_name": "ButtonModel",
      "state": {
       "description": "Shift",
       "layout": "IPY_MODEL_4cb8f114ab504a239e81a47189972830",
       "style": "IPY_MODEL_a6225b75bc634f5db534210254beb3b6"
      }
     },
     "1719fccad2b5446ab3fc4b749e5c5eef": {
      "model_module": "@jupyter-widgets/controls",
      "model_module_version": "1.2.0",
      "model_name": "ButtonModel",
      "state": {
       "description": "Reduce",
       "layout": "IPY_MODEL_3dd6419755dc4b568ddbdab335f20107",
       "style": "IPY_MODEL_147e7a12e8b148e38d0c397c464a36bc"
      }
     },
     "1721181fbd0f4134b4ce57dd125436ce": {
      "model_module": "@jupyter-widgets/controls",
      "model_module_version": "1.2.0",
      "model_name": "DescriptionStyleModel",
      "state": {
       "description_width": ""
      }
     },
     "173d24cc5210459eb30975b3aa648000": {
      "model_module": "@jupyter-widgets/controls",
      "model_module_version": "1.2.0",
      "model_name": "ButtonStyleModel",
      "state": {}
     },
     "1765905975d8414e8dac783aa9517237": {
      "model_module": "@jupyter-widgets/controls",
      "model_module_version": "1.2.0",
      "model_name": "ButtonStyleModel",
      "state": {
       "button_color": "lightgreen"
      }
     },
     "17a7c3b2dcb64fc4ab48a3aec7e5a4ed": {
      "model_module": "@jupyter-widgets/controls",
      "model_module_version": "1.2.0",
      "model_name": "ButtonStyleModel",
      "state": {}
     },
     "186a7232a881412b9f4c02d357d9a9a6": {
      "model_module": "@jupyter-widgets/controls",
      "model_module_version": "1.2.0",
      "model_name": "ButtonStyleModel",
      "state": {}
     },
     "18ddde32d16749e4815837dde44777df": {
      "model_module": "@jupyter-widgets/controls",
      "model_module_version": "1.2.0",
      "model_name": "HBoxModel",
      "state": {
       "children": [
        "IPY_MODEL_49cfe53dc8b14d7ba51bc991a303deb3",
        "IPY_MODEL_de95dabc6bc948b09255421616acbfce"
       ],
       "layout": "IPY_MODEL_2a841cb3a02d40dbae402a0b45838193"
      }
     },
     "18fd43f629604b44ba6e8e47ba1388df": {
      "model_module": "@jupyter-widgets/controls",
      "model_module_version": "1.2.0",
      "model_name": "ButtonModel",
      "state": {
       "description": "Complete",
       "layout": "IPY_MODEL_d65f99a5d5f6486099e7e911737106ad",
       "style": "IPY_MODEL_1d94652e56174a6a9759284de84c2af7"
      }
     },
     "1929d6e48f1145da83f7526d167b05bd": {
      "model_module": "@jupyter-widgets/controls",
      "model_module_version": "1.2.0",
      "model_name": "ButtonModel",
      "state": {
       "description": "Keine der Alternativen",
       "layout": "IPY_MODEL_62863215abd44cba9bdc3080ad4d78f8",
       "style": "IPY_MODEL_a7f270ec1eb54a47a55c83911225c8da"
      }
     },
     "1939a8f428c24428a78dd03f203eb583": {
      "model_module": "@jupyter-widgets/base",
      "model_module_version": "1.0.0",
      "model_name": "LayoutModel",
      "state": {
       "width": "250px"
      }
     },
     "1947f88e617f4693bc3c7d90864ba252": {
      "model_module": "@jupyter-widgets/controls",
      "model_module_version": "1.2.0",
      "model_name": "ButtonModel",
      "state": {
       "description": "Predict",
       "layout": "IPY_MODEL_14bcf677033a4c8687b3e992c9fbd707",
       "style": "IPY_MODEL_38dac53a49134fa182b99f8cd8ba8b7b"
      }
     },
     "1969f0302e0742559326a2d145a7c09d": {
      "model_module": "@jupyter-widgets/controls",
      "model_module_version": "1.2.0",
      "model_name": "CheckboxModel",
      "state": {
       "description": "Predict",
       "disabled": false,
       "layout": "IPY_MODEL_5e1fbc7a846f42f0ab1795ae15cf38ab",
       "style": "IPY_MODEL_3c303c52b9df40d69e34504b5c53abc7",
       "value": true
      }
     },
     "19a78a5f621e4403bed7147c02a0c405": {
      "model_module": "@jupyter-widgets/controls",
      "model_module_version": "1.2.0",
      "model_name": "HBoxModel",
      "state": {
       "children": [
        "IPY_MODEL_59478daa06d34c55bc3def8b250d16e8"
       ],
       "layout": "IPY_MODEL_90746c09d9d741068366ad8557ce92b4"
      }
     },
     "19adb99b42fc46f992aa5b93c922d92d": {
      "model_module": "@jupyter-widgets/controls",
      "model_module_version": "1.2.0",
      "model_name": "CheckboxModel",
      "state": {
       "description": "Reduce",
       "disabled": false,
       "layout": "IPY_MODEL_5fb11e3cda3645ca9116cf070cf7ac4c",
       "style": "IPY_MODEL_2c4c83a3bb3845c089d579c47f29d483",
       "value": false
      }
     },
     "19e9a5220471424f8a12c6353612600c": {
      "model_module": "@jupyter-widgets/base",
      "model_module_version": "1.0.0",
      "model_name": "LayoutModel",
      "state": {
       "justify_content": "center"
      }
     },
     "1a95d9a26c2343fb8cc22f9409d631f6": {
      "model_module": "@jupyter-widgets/controls",
      "model_module_version": "1.2.0",
      "model_name": "ButtonStyleModel",
      "state": {}
     },
     "1abd2512b0d54f1c9b27bdad301b72bb": {
      "model_module": "@jupyter-widgets/controls",
      "model_module_version": "1.2.0",
      "model_name": "HTMLModel",
      "state": {
       "layout": "IPY_MODEL_4386e63a365047bcabf9514b0253e19e",
       "style": "IPY_MODEL_86a76937a89f42daa9ef10a952204e3c",
       "value": "<i>Markieren Sie <ins>alle</ins> passenden Antworten: </i>"
      }
     },
     "1b575f1acf5348e8ad23c4fc510edb6d": {
      "model_module": "@jupyter-widgets/base",
      "model_module_version": "1.0.0",
      "model_name": "LayoutModel",
      "state": {
       "width": "600px"
      }
     },
     "1bf08df3602b4870b194bd0a8484173e": {
      "model_module": "@jupyter-widgets/base",
      "model_module_version": "1.0.0",
      "model_name": "LayoutModel",
      "state": {
       "width": "250px"
      }
     },
     "1bf662a8effc47a29c16b5f4efbaea31": {
      "model_module": "@jupyter-widgets/base",
      "model_module_version": "1.0.0",
      "model_name": "LayoutModel",
      "state": {
       "width": "250px"
      }
     },
     "1c3aa209b95c4ee290380a6a1ce410c6": {
      "model_module": "@jupyter-widgets/controls",
      "model_module_version": "1.2.0",
      "model_name": "HBoxModel",
      "state": {
       "children": [
        "IPY_MODEL_44facbffdc9f456cbd510cb67fdf3d4b",
        "IPY_MODEL_0c6a95aa2fb3495cb174cc240e4515c4"
       ],
       "layout": "IPY_MODEL_9d54f12704c24601a1b1412694433484"
      }
     },
     "1c74628fc96840b6a6f1ab0af9e7e868": {
      "model_module": "@jupyter-widgets/base",
      "model_module_version": "1.0.0",
      "model_name": "LayoutModel",
      "state": {}
     },
     "1c886070f5674611b45edc4e1465849c": {
      "model_module": "@jupyter-widgets/controls",
      "model_module_version": "1.2.0",
      "model_name": "ButtonModel",
      "state": {
       "description": "Shift",
       "layout": "IPY_MODEL_165a06ddbc0d45569f0fb6bda8d3bb3f",
       "style": "IPY_MODEL_173d24cc5210459eb30975b3aa648000"
      }
     },
     "1cf5218e0827468991753c7dcdbf23f3": {
      "model_module": "@jupyter-widgets/controls",
      "model_module_version": "1.2.0",
      "model_name": "DescriptionStyleModel",
      "state": {
       "description_width": "initial"
      }
     },
     "1d1f5d3b393646d18c1579471d331610": {
      "model_module": "@jupyter-widgets/controls",
      "model_module_version": "1.2.0",
      "model_name": "HTMLModel",
      "state": {
       "layout": "IPY_MODEL_8711070a2e43464295f6a2a825f36348",
       "style": "IPY_MODEL_bf80afd1c9d847c793fc33171d903006",
       "value": "<i>Wählen Sie die <ins>eine</ins> korrekte Antwort aus: </i>"
      }
     },
     "1d94652e56174a6a9759284de84c2af7": {
      "model_module": "@jupyter-widgets/controls",
      "model_module_version": "1.2.0",
      "model_name": "ButtonStyleModel",
      "state": {}
     },
     "1dbc5f9789574779bcc2b7533119cda5": {
      "model_module": "@jupyter-widgets/controls",
      "model_module_version": "1.2.0",
      "model_name": "ButtonStyleModel",
      "state": {}
     },
     "1e21fb18d20c4aa991ab4edb06a309b1": {
      "model_module": "@jupyter-widgets/controls",
      "model_module_version": "1.2.0",
      "model_name": "HBoxModel",
      "state": {
       "children": [
        "IPY_MODEL_76d8bab35ac2462caebbf878bdbbfd3b",
        "IPY_MODEL_2d72b10a26214de888b5ffc31a74aae7"
       ],
       "layout": "IPY_MODEL_c0cd9185c58146acac29bf0f5d1eb297"
      }
     },
     "1e3820e69f9b4113a6496ca7d60a51ee": {
      "model_module": "@jupyter-widgets/controls",
      "model_module_version": "1.2.0",
      "model_name": "ButtonStyleModel",
      "state": {
       "button_color": "lightgreen"
      }
     },
     "1e4de0021c49455f8f86bcb06c577746": {
      "model_module": "@jupyter-widgets/controls",
      "model_module_version": "1.2.0",
      "model_name": "DescriptionStyleModel",
      "state": {
       "description_width": ""
      }
     },
     "1eba682da6dc421884a90d5ccdf328a1": {
      "model_module": "@jupyter-widgets/controls",
      "model_module_version": "1.2.0",
      "model_name": "ButtonModel",
      "state": {
       "description": "Shift",
       "layout": "IPY_MODEL_2fcf9dbaf4334ecabad73662533cac37",
       "style": "IPY_MODEL_ff81b310ad544488bde3dc5c80e0aa12"
      }
     },
     "1f5d55a454a447e78091f74fcb4721b7": {
      "model_module": "@jupyter-widgets/controls",
      "model_module_version": "1.2.0",
      "model_name": "DescriptionStyleModel",
      "state": {
       "description_width": ""
      }
     },
     "1fc338984a01469ea2388e7056f58113": {
      "model_module": "@jupyter-widgets/controls",
      "model_module_version": "1.2.0",
      "model_name": "HTMLModel",
      "state": {
       "layout": "IPY_MODEL_62f0702dc5504b779df22f7778e4a8b4",
       "style": "IPY_MODEL_38519c0086ff4165ac2ea4884aaa244b",
       "value": "<i>Markieren Sie <ins>alle</ins> passenden Antworten: </i>"
      }
     },
     "200794e2b0c24db19a265694124e4136": {
      "model_module": "@jupyter-widgets/controls",
      "model_module_version": "1.2.0",
      "model_name": "ButtonStyleModel",
      "state": {}
     },
     "2104f81b072048e1ab725637641f972a": {
      "model_module": "@jupyter-widgets/controls",
      "model_module_version": "1.2.0",
      "model_name": "ButtonStyleModel",
      "state": {}
     },
     "21851edb1eff494ca56043dd24e15bcd": {
      "model_module": "@jupyter-widgets/controls",
      "model_module_version": "1.2.0",
      "model_name": "ButtonStyleModel",
      "state": {}
     },
     "21dd328d4ae24ff48f72b151e2f6152f": {
      "model_module": "@jupyter-widgets/controls",
      "model_module_version": "1.2.0",
      "model_name": "DescriptionStyleModel",
      "state": {
       "description_width": "initial"
      }
     },
     "2213b4b7935649bfb44499b9c598325d": {
      "model_module": "@jupyter-widgets/base",
      "model_module_version": "1.0.0",
      "model_name": "LayoutModel",
      "state": {
       "width": "250px"
      }
     },
     "222d348d99b04777af126b0ee5403cad": {
      "model_module": "@jupyter-widgets/controls",
      "model_module_version": "1.2.0",
      "model_name": "ButtonStyleModel",
      "state": {}
     },
     "22ba5cede46d4b1bb8661719d5b6dd2e": {
      "model_module": "@jupyter-widgets/base",
      "model_module_version": "1.0.0",
      "model_name": "LayoutModel",
      "state": {
       "justify_content": "center"
      }
     },
     "22ccab0ed9064463828d9f0a40c1d3d3": {
      "model_module": "@jupyter-widgets/controls",
      "model_module_version": "1.2.0",
      "model_name": "HTMLModel",
      "state": {
       "layout": "IPY_MODEL_6b6a213b787d401ca4458fd925fed616",
       "style": "IPY_MODEL_a7e5eecbc4ab47b4a3be01e5c7b2b006",
       "value": "<h4 style=\"font-size:14px;\">Welche Operation folgt als nächstes?</h4>"
      }
     },
     "22ddcda748f54985a9d7f84dd88eb2df": {
      "model_module": "@jupyter-widgets/controls",
      "model_module_version": "1.2.0",
      "model_name": "ButtonStyleModel",
      "state": {}
     },
     "22ec238fb2f64795a03d977c5db8c88b": {
      "model_module": "@jupyter-widgets/base",
      "model_module_version": "1.0.0",
      "model_name": "LayoutModel",
      "state": {
       "width": "600px"
      }
     },
     "22fb944be1fe44bd92ee854354855847": {
      "model_module": "@jupyter-widgets/base",
      "model_module_version": "1.0.0",
      "model_name": "LayoutModel",
      "state": {
       "width": "250px"
      }
     },
     "232b7d803247489593f22c88cd653aac": {
      "model_module": "@jupyter-widgets/controls",
      "model_module_version": "1.2.0",
      "model_name": "ButtonStyleModel",
      "state": {}
     },
     "23b5cb9254564eed9e059fadbc6fc71d": {
      "model_module": "@jupyter-widgets/controls",
      "model_module_version": "1.2.0",
      "model_name": "ButtonStyleModel",
      "state": {}
     },
     "23d38725bb4e4520a90bfd996f115560": {
      "model_module": "@jupyter-widgets/controls",
      "model_module_version": "1.2.0",
      "model_name": "HBoxModel",
      "state": {
       "children": [
        "IPY_MODEL_9adb0fe0214f408a882a20ef8d6a8828",
        "IPY_MODEL_7c4a60bc2d9344ccb8ba73c34ae45f21"
       ],
       "layout": "IPY_MODEL_da1a9307e6e34a1394384590fe2989ab"
      }
     },
     "2433bc944fdc476fa37779ae878b790d": {
      "model_module": "@jupyter-widgets/controls",
      "model_module_version": "1.2.0",
      "model_name": "VBoxModel",
      "state": {
       "children": [
        "IPY_MODEL_c94cc345cba348e4a9071f3ed9e51e0d",
        "IPY_MODEL_971fe5a43afc485dadd833c4cb3a917f",
        "IPY_MODEL_0efe28c2a41f4b9e9578b7e8ec1094d8",
        "IPY_MODEL_be84c57fef9f4af89a8cf09e73122e51"
       ],
       "layout": "IPY_MODEL_3e432e94a88d4356bf5bab7d46604080"
      }
     },
     "245b978b439e4578bfdf45ab9c3ae139": {
      "model_module": "@jupyter-widgets/controls",
      "model_module_version": "1.2.0",
      "model_name": "ButtonStyleModel",
      "state": {}
     },
     "2485c743cb1643b8a5b5e7421a4b947d": {
      "model_module": "@jupyter-widgets/base",
      "model_module_version": "1.0.0",
      "model_name": "LayoutModel",
      "state": {
       "justify_content": "center"
      }
     },
     "2496dbe926454d62a850b82da20b0842": {
      "model_module": "@jupyter-widgets/base",
      "model_module_version": "1.0.0",
      "model_name": "LayoutModel",
      "state": {}
     },
     "2496dfba223e467d9a3d70bfd6c90b13": {
      "model_module": "@jupyter-widgets/controls",
      "model_module_version": "1.2.0",
      "model_name": "ButtonModel",
      "state": {
       "description": "Predict",
       "layout": "IPY_MODEL_7c7670d4aabd484c8f5af03cd1041563",
       "style": "IPY_MODEL_d1e51442501944509cb877d36dd8572d"
      }
     },
     "24bc6a2811ff4c93bd6bdf2ed360cbc7": {
      "model_module": "@jupyter-widgets/controls",
      "model_module_version": "1.2.0",
      "model_name": "HTMLModel",
      "state": {
       "layout": "IPY_MODEL_31c19fa46ccc46d28569177b0964079e",
       "style": "IPY_MODEL_d7395e138b724af6ae3d6401d624af5a",
       "value": "<h4 style=\"font-size:14px;\">Welche Operation folgt als nächstes?</h4>"
      }
     },
     "24d3d70dece54e828815334a99fc2144": {
      "model_module": "@jupyter-widgets/base",
      "model_module_version": "1.0.0",
      "model_name": "LayoutModel",
      "state": {
       "width": "250px"
      }
     },
     "24eaffaf6b0541ec827487cb0fad51c6": {
      "model_module": "@jupyter-widgets/controls",
      "model_module_version": "1.2.0",
      "model_name": "ButtonModel",
      "state": {
       "description": "Recusive Descent",
       "layout": "IPY_MODEL_976ad134bd434c0ca1848e8ed0e6eb78",
       "style": "IPY_MODEL_62a1fef22fa04adbb02efbef5fb93e67"
      }
     },
     "250eee2eabb043bfb3cd3faf15efda0d": {
      "model_module": "@jupyter-widgets/controls",
      "model_module_version": "1.2.0",
      "model_name": "HBoxModel",
      "state": {
       "children": [
        "IPY_MODEL_ea7ac2b64160473780e8b0df5f46e01e"
       ],
       "layout": "IPY_MODEL_63784ce2329b4cdeb4e444d29827ed2e"
      }
     },
     "2549ec47500d43bf906a84208c27d6e6": {
      "model_module": "@jupyter-widgets/base",
      "model_module_version": "1.0.0",
      "model_name": "LayoutModel",
      "state": {
       "width": "250px"
      }
     },
     "256fb845f88f4ada888a0b4bfa09307c": {
      "model_module": "@jupyter-widgets/controls",
      "model_module_version": "1.2.0",
      "model_name": "DescriptionStyleModel",
      "state": {
       "description_width": ""
      }
     },
     "26301dac00434844a29ffa3c717c2b83": {
      "model_module": "@jupyter-widgets/base",
      "model_module_version": "1.0.0",
      "model_name": "LayoutModel",
      "state": {}
     },
     "263669c781944db5bbd13d31631da8f8": {
      "model_module": "@jupyter-widgets/controls",
      "model_module_version": "1.2.0",
      "model_name": "VBoxModel",
      "state": {
       "children": [
        "IPY_MODEL_f16df036827147748f2ff066b6b3d441",
        "IPY_MODEL_ccf8784d98a4439099d1ab1d223369f7",
        "IPY_MODEL_06d2b866037743eba42270cc1b6a2214",
        "IPY_MODEL_40d57db80248486c86c2f957fde29258",
        "IPY_MODEL_9e2ffec7ad6946c2aba43bd29bd03d1f"
       ],
       "layout": "IPY_MODEL_aeffcb543be04fcc8d8d817c63b9eeaf"
      }
     },
     "2716fb637e514e95adc6940c6d7f39db": {
      "model_module": "@jupyter-widgets/base",
      "model_module_version": "1.0.0",
      "model_name": "LayoutModel",
      "state": {
       "width": "250px"
      }
     },
     "279fa8c6af84440ab48d095a98aa93b2": {
      "model_module": "@jupyter-widgets/base",
      "model_module_version": "1.0.0",
      "model_name": "LayoutModel",
      "state": {
       "justify_content": "center"
      }
     },
     "27a87ddc54f841778d3d6cf236ecb420": {
      "model_module": "@jupyter-widgets/base",
      "model_module_version": "1.0.0",
      "model_name": "LayoutModel",
      "state": {
       "width": "250px"
      }
     },
     "27be2f22a88a42579c7ef4b181a0bdda": {
      "model_module": "@jupyter-widgets/base",
      "model_module_version": "1.0.0",
      "model_name": "LayoutModel",
      "state": {
       "width": "250px"
      }
     },
     "27c6da75b9ed43359f3042121fc72453": {
      "model_module": "@jupyter-widgets/controls",
      "model_module_version": "1.2.0",
      "model_name": "ButtonStyleModel",
      "state": {
       "button_color": "lightgreen"
      }
     },
     "27d0c310717746efa634fce1808eb983": {
      "model_module": "@jupyter-widgets/controls",
      "model_module_version": "1.2.0",
      "model_name": "DescriptionStyleModel",
      "state": {
       "description_width": "initial"
      }
     },
     "283546aeb546451c853d74f90311a5a8": {
      "model_module": "@jupyter-widgets/controls",
      "model_module_version": "1.2.0",
      "model_name": "VBoxModel",
      "state": {
       "children": [
        "IPY_MODEL_9bb46ac0bf8541329f16873d2bb0e7c1",
        "IPY_MODEL_7169b05861664892a0cb57c4cbebb161",
        "IPY_MODEL_4aa94289c0404862b581251252e8d80f",
        "IPY_MODEL_7fb6e4b3ead244e9a5f777251d93275b",
        "IPY_MODEL_c6ddd4f9de0d436c936d01e00c04b468"
       ],
       "layout": "IPY_MODEL_c52b7a89fbab4b87859772cc0e254ede"
      }
     },
     "28beabf7c7224543bcc1c2e5123a2149": {
      "model_module": "@jupyter-widgets/controls",
      "model_module_version": "1.2.0",
      "model_name": "CheckboxModel",
      "state": {
       "description": "Reduce",
       "disabled": false,
       "layout": "IPY_MODEL_b6e92764f7bc47de9089d88eb23434c2",
       "style": "IPY_MODEL_21dd328d4ae24ff48f72b151e2f6152f",
       "value": false
      }
     },
     "28c98546858549e5b1e6aed52ebd4d77": {
      "model_module": "@jupyter-widgets/controls",
      "model_module_version": "1.2.0",
      "model_name": "ButtonStyleModel",
      "state": {}
     },
     "2951718f488d4966aa67ce842de37046": {
      "model_module": "@jupyter-widgets/controls",
      "model_module_version": "1.2.0",
      "model_name": "CheckboxModel",
      "state": {
       "description": "Reduce",
       "disabled": false,
       "layout": "IPY_MODEL_942ed8c14bf249a48d6e66e0fef485d7",
       "style": "IPY_MODEL_2bbfc2f3afcd425f8dd81e44cc40f71f",
       "value": false
      }
     },
     "2977c1e1c63a4e9097b79894ebcf5cc5": {
      "model_module": "@jupyter-widgets/base",
      "model_module_version": "1.0.0",
      "model_name": "LayoutModel",
      "state": {
       "justify_content": "center"
      }
     },
     "29ecdc6a620046cc8e811602d101aff9": {
      "model_module": "@jupyter-widgets/controls",
      "model_module_version": "1.2.0",
      "model_name": "ButtonModel",
      "state": {
       "description": "Shift",
       "layout": "IPY_MODEL_c1372dc53523445c9dbd0fab523e452d",
       "style": "IPY_MODEL_8f8b78fc4e994d89ac364c5d8017b880"
      }
     },
     "2a4dc81c6db1441d9c00321bc55af4e9": {
      "model_module": "@jupyter-widgets/controls",
      "model_module_version": "1.2.0",
      "model_name": "HBoxModel",
      "state": {
       "children": [
        "IPY_MODEL_f8a60b442af340d0826714eb47d8adf1",
        "IPY_MODEL_11a0e9d37aed4480b4341e9cd1ca67ea"
       ],
       "layout": "IPY_MODEL_d40db1ac0ae14824aa8ca92c39283359"
      }
     },
     "2a58f919ae104d7b8e26e5d33eff77a4": {
      "model_module": "@jupyter-widgets/controls",
      "model_module_version": "1.2.0",
      "model_name": "CheckboxModel",
      "state": {
       "description": "Shift",
       "disabled": false,
       "layout": "IPY_MODEL_7c0557f400044b608de2a2c608b86dde",
       "style": "IPY_MODEL_58b8e12851ab4285ae7211726c17be2d",
       "value": true
      }
     },
     "2a5ce81803a34f76aa134b1c2906eed1": {
      "model_module": "@jupyter-widgets/base",
      "model_module_version": "1.0.0",
      "model_name": "LayoutModel",
      "state": {}
     },
     "2a841cb3a02d40dbae402a0b45838193": {
      "model_module": "@jupyter-widgets/base",
      "model_module_version": "1.0.0",
      "model_name": "LayoutModel",
      "state": {}
     },
     "2aa62ff4e9314a2e92c4106d88a7dc03": {
      "model_module": "@jupyter-widgets/controls",
      "model_module_version": "1.2.0",
      "model_name": "ButtonModel",
      "state": {
       "description": "Complete",
       "layout": "IPY_MODEL_708377f1afb8442fb58a4a43fcd7445f",
       "style": "IPY_MODEL_b027758eefc14d93a0f10978b47863fd"
      }
     },
     "2ab05596d07a4d62a61c7aa0b39eee70": {
      "model_module": "@jupyter-widgets/base",
      "model_module_version": "1.0.0",
      "model_name": "LayoutModel",
      "state": {}
     },
     "2ac49cca103a4a019c2a9792bdffaf33": {
      "model_module": "@jupyter-widgets/controls",
      "model_module_version": "1.2.0",
      "model_name": "VBoxModel",
      "state": {
       "children": [
        "IPY_MODEL_8ffd29defc894274bf1e119b593f9c62",
        "IPY_MODEL_1fc338984a01469ea2388e7056f58113",
        "IPY_MODEL_0e96df04a38a4b5c87035bd5f3badf17",
        "IPY_MODEL_381409c33b5d4528a163df522153e4d2"
       ],
       "layout": "IPY_MODEL_899d06bf7f464b17a270894128b52e02"
      }
     },
     "2b17120774794e0eaab17f809b1c580b": {
      "model_module": "@jupyter-widgets/controls",
      "model_module_version": "1.2.0",
      "model_name": "ButtonModel",
      "state": {
       "description": "Scan",
       "layout": "IPY_MODEL_7b6b0ac166584e02bc3b80057b6d1251",
       "style": "IPY_MODEL_948c880a5a2649908b727f5ff5893ea7"
      }
     },
     "2b229bdcfb9a475ba2c8ba77701e6064": {
      "model_module": "@jupyter-widgets/controls",
      "model_module_version": "1.2.0",
      "model_name": "HBoxModel",
      "state": {
       "children": [
        "IPY_MODEL_bc458d10313047bb95b2d5ecfd3d5be8"
       ],
       "layout": "IPY_MODEL_6a03bdf5e686403b872102a5010deeeb"
      }
     },
     "2b269e8916864919bdc1f98ea550b6fd": {
      "model_module": "@jupyter-widgets/controls",
      "model_module_version": "1.2.0",
      "model_name": "ButtonStyleModel",
      "state": {}
     },
     "2b910b59b2a2423294976d6010626631": {
      "model_module": "@jupyter-widgets/controls",
      "model_module_version": "1.2.0",
      "model_name": "HTMLModel",
      "state": {
       "layout": "IPY_MODEL_04f0036eb5f74897839ce12ae0fd982e",
       "style": "IPY_MODEL_3842a5abb88040f690b3fe92c9e22856",
       "value": "<h4 style=\"font-size:14px;\">Um welchen Parser handelt es sich?</h4>"
      }
     },
     "2b92de799d71484287e789def5d4edb7": {
      "model_module": "@jupyter-widgets/controls",
      "model_module_version": "1.2.0",
      "model_name": "ButtonStyleModel",
      "state": {}
     },
     "2bbfc2f3afcd425f8dd81e44cc40f71f": {
      "model_module": "@jupyter-widgets/controls",
      "model_module_version": "1.2.0",
      "model_name": "DescriptionStyleModel",
      "state": {
       "description_width": "initial"
      }
     },
     "2c3c1391583f47fc8449e87077e68b98": {
      "model_module": "@jupyter-widgets/base",
      "model_module_version": "1.0.0",
      "model_name": "LayoutModel",
      "state": {
       "width": "250px"
      }
     },
     "2c4c83a3bb3845c089d579c47f29d483": {
      "model_module": "@jupyter-widgets/controls",
      "model_module_version": "1.2.0",
      "model_name": "DescriptionStyleModel",
      "state": {
       "description_width": "initial"
      }
     },
     "2cf1aeb1c91b45f6974e33a8b221fcc1": {
      "model_module": "@jupyter-widgets/controls",
      "model_module_version": "1.2.0",
      "model_name": "ButtonModel",
      "state": {
       "description": "Shift",
       "layout": "IPY_MODEL_6cf3641a94e84f17937aea4f356d1fe7",
       "style": "IPY_MODEL_c0aabfd01f8c4f84a5ea476fa93f732c"
      }
     },
     "2d3b220103ad49f4a1c966c18387e282": {
      "model_module": "@jupyter-widgets/controls",
      "model_module_version": "1.2.0",
      "model_name": "DescriptionStyleModel",
      "state": {
       "description_width": ""
      }
     },
     "2d65d57dd2bc4a67ba2625f540a63b3a": {
      "model_module": "@jupyter-widgets/controls",
      "model_module_version": "1.2.0",
      "model_name": "HBoxModel",
      "state": {
       "children": [
        "IPY_MODEL_b79fa99457be4122996a1675adacbeca",
        "IPY_MODEL_af0984beac674915bba27238d1de42bf"
       ],
       "layout": "IPY_MODEL_e8daa8de6b41415f9ac34e885eff4d98"
      }
     },
     "2d72b10a26214de888b5ffc31a74aae7": {
      "model_module": "@jupyter-widgets/controls",
      "model_module_version": "1.2.0",
      "model_name": "ButtonModel",
      "state": {
       "description": "Keine der Alternativen",
       "layout": "IPY_MODEL_bc8274ce0e39408686acafddbd8a1142",
       "style": "IPY_MODEL_41817ffe151c4435b28133b6e1f14d5b"
      }
     },
     "2d80349c609f426b8520ecf62b793c41": {
      "model_module": "@jupyter-widgets/base",
      "model_module_version": "1.0.0",
      "model_name": "LayoutModel",
      "state": {
       "justify_content": "center"
      }
     },
     "2d919c0ee2cc446ea5ed0a48168617ee": {
      "model_module": "@jupyter-widgets/controls",
      "model_module_version": "1.2.0",
      "model_name": "ButtonModel",
      "state": {
       "description": "Shift",
       "layout": "IPY_MODEL_665c598df5a742989e9537890c1f16ff",
       "style": "IPY_MODEL_795f3d37881944ccbdbd76411b6c663a"
      }
     },
     "2dc129bb866843829609e7bd783e0ebe": {
      "model_module": "@jupyter-widgets/controls",
      "model_module_version": "1.2.0",
      "model_name": "ButtonModel",
      "state": {
       "description": "Complete",
       "layout": "IPY_MODEL_5e31249afc8b4dc89e02a154284da461",
       "style": "IPY_MODEL_ecf922f79b3b43a38ae59c9e927009a2"
      }
     },
     "2dcea9a4dee7446ebee28485e6727d23": {
      "model_module": "@jupyter-widgets/controls",
      "model_module_version": "1.2.0",
      "model_name": "CheckboxModel",
      "state": {
       "description": "Complete",
       "disabled": false,
       "layout": "IPY_MODEL_2fbf7f07523b447b85997096ddd56635",
       "style": "IPY_MODEL_da7ea927ed6c4d39bc8d2ddf14ad708f",
       "value": false
      }
     },
     "2e0511291b8f4b5491f501c6994a4cc3": {
      "model_module": "@jupyter-widgets/controls",
      "model_module_version": "1.2.0",
      "model_name": "HTMLModel",
      "state": {
       "layout": "IPY_MODEL_6a786f025a31430c80e1b5fc62cb5d30",
       "style": "IPY_MODEL_1197f016b37a494c9d8d74d3afa0438b",
       "value": "<h4 style=\"font-size:14px;\">Welche Operation folgt als nächstes?</h4>"
      }
     },
     "2e137dbab8ac44aa8199b2141af30572": {
      "model_module": "@jupyter-widgets/controls",
      "model_module_version": "1.2.0",
      "model_name": "HTMLModel",
      "state": {
       "layout": "IPY_MODEL_01573a0b27b14050a42e26331676bb5d",
       "style": "IPY_MODEL_4a52b7499afe44378ef2cbae36accfc9",
       "value": "<i>Wählen Sie die <ins>eine</ins> korrekte Antwort aus: </i>"
      }
     },
     "2e26144f5d40482090fc45fe1906ff8e": {
      "model_module": "@jupyter-widgets/controls",
      "model_module_version": "1.2.0",
      "model_name": "ButtonStyleModel",
      "state": {}
     },
     "2e4418e12851465a9b6dc178b7afadfc": {
      "model_module": "@jupyter-widgets/base",
      "model_module_version": "1.0.0",
      "model_name": "LayoutModel",
      "state": {
       "justify_content": "center"
      }
     },
     "2e78a01855bf412fb2fee2ea9bc141ec": {
      "model_module": "@jupyter-widgets/controls",
      "model_module_version": "1.2.0",
      "model_name": "CheckboxModel",
      "state": {
       "description": "Shift",
       "disabled": false,
       "layout": "IPY_MODEL_bbb4dfaf33d145f2bba701669d1156a7",
       "style": "IPY_MODEL_e3608a3681e241259ecd6ed8fef4fb01",
       "value": false
      }
     },
     "2e95592b3f3d48f6b29bf8a934d88827": {
      "model_module": "@jupyter-widgets/base",
      "model_module_version": "1.0.0",
      "model_name": "LayoutModel",
      "state": {
       "width": "250px"
      }
     },
     "2ededa303b60419c8e310c27437bd0c4": {
      "model_module": "@jupyter-widgets/base",
      "model_module_version": "1.0.0",
      "model_name": "LayoutModel",
      "state": {}
     },
     "2eeb2c42526d405a8b6eaa2c6b076a80": {
      "model_module": "@jupyter-widgets/base",
      "model_module_version": "1.0.0",
      "model_name": "LayoutModel",
      "state": {}
     },
     "2eeffd9fa38a462caf12e0de6b94464e": {
      "model_module": "@jupyter-widgets/base",
      "model_module_version": "1.0.0",
      "model_name": "LayoutModel",
      "state": {
       "width": "250px"
      }
     },
     "2f1e403f5e3f4e0e9f3d7b0410b13a0d": {
      "model_module": "@jupyter-widgets/base",
      "model_module_version": "1.0.0",
      "model_name": "LayoutModel",
      "state": {}
     },
     "2f2f7a95b66b47c1b3e9bb5b09c636e4": {
      "model_module": "@jupyter-widgets/base",
      "model_module_version": "1.0.0",
      "model_name": "LayoutModel",
      "state": {
       "width": "250px"
      }
     },
     "2f46a299effb4893ac74d0120ed2db69": {
      "model_module": "@jupyter-widgets/controls",
      "model_module_version": "1.2.0",
      "model_name": "ButtonStyleModel",
      "state": {
       "button_color": "lightgreen"
      }
     },
     "2f46c9d24346405497219c7bc09d99d5": {
      "model_module": "@jupyter-widgets/controls",
      "model_module_version": "1.2.0",
      "model_name": "ButtonStyleModel",
      "state": {}
     },
     "2f8eaf0b6001453fadb00c9a07438b98": {
      "model_module": "@jupyter-widgets/controls",
      "model_module_version": "1.2.0",
      "model_name": "DescriptionStyleModel",
      "state": {
       "description_width": ""
      }
     },
     "2f9634e053844cf5b04c96859ca0d197": {
      "model_module": "@jupyter-widgets/controls",
      "model_module_version": "1.2.0",
      "model_name": "DescriptionStyleModel",
      "state": {
       "description_width": ""
      }
     },
     "2fbf7f07523b447b85997096ddd56635": {
      "model_module": "@jupyter-widgets/base",
      "model_module_version": "1.0.0",
      "model_name": "LayoutModel",
      "state": {
       "width": "600px"
      }
     },
     "2fcf9dbaf4334ecabad73662533cac37": {
      "model_module": "@jupyter-widgets/base",
      "model_module_version": "1.0.0",
      "model_name": "LayoutModel",
      "state": {
       "width": "250px"
      }
     },
     "3067515d20c445c090a1d199a8027698": {
      "model_module": "@jupyter-widgets/base",
      "model_module_version": "1.0.0",
      "model_name": "LayoutModel",
      "state": {}
     },
     "306da6c10aa341aa98c0282b99f1d77d": {
      "model_module": "@jupyter-widgets/base",
      "model_module_version": "1.0.0",
      "model_name": "LayoutModel",
      "state": {}
     },
     "30bc245257164fd89a4cb041a0ad7b6d": {
      "model_module": "@jupyter-widgets/controls",
      "model_module_version": "1.2.0",
      "model_name": "ButtonModel",
      "state": {
       "description": "Recusive Descent",
       "layout": "IPY_MODEL_9e450226ed774def9c98e4fff7a0f30f",
       "style": "IPY_MODEL_f8cc2f4d8c534c5fa3fb86fafa621f7a"
      }
     },
     "30c28ed0a5174419ad0119a87aa3395e": {
      "model_module": "@jupyter-widgets/base",
      "model_module_version": "1.0.0",
      "model_name": "LayoutModel",
      "state": {
       "width": "250px"
      }
     },
     "30fcc9acdac8445bbd6f605c6934ee1b": {
      "model_module": "@jupyter-widgets/base",
      "model_module_version": "1.0.0",
      "model_name": "LayoutModel",
      "state": {
       "width": "250px"
      }
     },
     "30fec9d7d4e84330817479f037fd9387": {
      "model_module": "@jupyter-widgets/base",
      "model_module_version": "1.0.0",
      "model_name": "LayoutModel",
      "state": {}
     },
     "30ff9a0fec984661bd15ddb609b0f7b7": {
      "model_module": "@jupyter-widgets/base",
      "model_module_version": "1.0.0",
      "model_name": "LayoutModel",
      "state": {
       "width": "250px"
      }
     },
     "3104355bac2246dcb4bfbf5d23f02c82": {
      "model_module": "@jupyter-widgets/base",
      "model_module_version": "1.0.0",
      "model_name": "LayoutModel",
      "state": {}
     },
     "3139ffda7ebc4ff5a0c2b28151221bca": {
      "model_module": "@jupyter-widgets/controls",
      "model_module_version": "1.2.0",
      "model_name": "ButtonModel",
      "state": {
       "description": "Recusive Descent",
       "layout": "IPY_MODEL_6d96d5bde31d4e57bd7ee031937eedc4",
       "style": "IPY_MODEL_bd1bd3501894445080790fbce077059a"
      }
     },
     "3176b9b749a74fa4a835b8f27b068d9b": {
      "model_module": "@jupyter-widgets/controls",
      "model_module_version": "1.2.0",
      "model_name": "ButtonStyleModel",
      "state": {}
     },
     "31c19fa46ccc46d28569177b0964079e": {
      "model_module": "@jupyter-widgets/base",
      "model_module_version": "1.0.0",
      "model_name": "LayoutModel",
      "state": {
       "justify_content": "center"
      }
     },
     "31de47430a7f43268183f0e3e226c40c": {
      "model_module": "@jupyter-widgets/controls",
      "model_module_version": "1.2.0",
      "model_name": "ButtonModel",
      "state": {
       "description": "Scan",
       "layout": "IPY_MODEL_e3d876de5e454b1eb69b88846fc0055c",
       "style": "IPY_MODEL_95b23b8e8dd645faa6a20dba3db75919"
      }
     },
     "31e9da1da8ed4320b466259ddcdac04a": {
      "model_module": "@jupyter-widgets/controls",
      "model_module_version": "1.2.0",
      "model_name": "ButtonStyleModel",
      "state": {}
     },
     "321cb8028bbd4303a3aa0f9eb3519655": {
      "model_module": "@jupyter-widgets/controls",
      "model_module_version": "1.2.0",
      "model_name": "HTMLModel",
      "state": {
       "layout": "IPY_MODEL_aab95b882e7143a3873560f104c31ab2",
       "style": "IPY_MODEL_efabc0e437f4444ea130a6f378bfe755",
       "value": "<h4 style=\"font-size:14px;\">Welche Operation folgt als nächstes?</h4>"
      }
     },
     "3274479b0998404c96f4e75c4bac6055": {
      "model_module": "@jupyter-widgets/controls",
      "model_module_version": "1.2.0",
      "model_name": "ButtonModel",
      "state": {
       "description": "Korrekt?",
       "layout": "IPY_MODEL_ee2908de88c54e3693202e5cf7099167",
       "style": "IPY_MODEL_e3c5b46f771343dc87942436660c4056"
      }
     },
     "327d9c3c90c64646a8ad987fa321d5af": {
      "model_module": "@jupyter-widgets/base",
      "model_module_version": "1.0.0",
      "model_name": "LayoutModel",
      "state": {
       "width": "250px"
      }
     },
     "329f39e8fc9941e6bedcdf583bcb7bab": {
      "model_module": "@jupyter-widgets/controls",
      "model_module_version": "1.2.0",
      "model_name": "ButtonStyleModel",
      "state": {}
     },
     "32d13bf952b84757984be6c45749d418": {
      "model_module": "@jupyter-widgets/controls",
      "model_module_version": "1.2.0",
      "model_name": "ButtonStyleModel",
      "state": {}
     },
     "334e74de4d80428f8bbbe9f082ec9b0e": {
      "model_module": "@jupyter-widgets/base",
      "model_module_version": "1.0.0",
      "model_name": "LayoutModel",
      "state": {
       "width": "250px"
      }
     },
     "335099f09fe746bcb093aaaaf465e39e": {
      "model_module": "@jupyter-widgets/controls",
      "model_module_version": "1.2.0",
      "model_name": "VBoxModel",
      "state": {
       "children": [
        "IPY_MODEL_bc2f83395a7142feb421f5839cef0e37",
        "IPY_MODEL_3c5e7867bdd544aea6560d0a04cc8ee4",
        "IPY_MODEL_28beabf7c7224543bcc1c2e5123a2149",
        "IPY_MODEL_390ce79e68d84b92a6df53b1c000e642",
        "IPY_MODEL_5ee3024d9c844eea9c0470ed3221e402"
       ],
       "layout": "IPY_MODEL_caea34a58f6d4adc80e0a28e941a327b"
      }
     },
     "33602ba503c14a25a8e62c4c955fc934": {
      "model_module": "@jupyter-widgets/controls",
      "model_module_version": "1.2.0",
      "model_name": "ButtonStyleModel",
      "state": {}
     },
     "338a9148df6344d69fc129fc8251a30e": {
      "model_module": "@jupyter-widgets/base",
      "model_module_version": "1.0.0",
      "model_name": "LayoutModel",
      "state": {
       "justify_content": "center"
      }
     },
     "3395b130e273429baac80212866b882b": {
      "model_module": "@jupyter-widgets/base",
      "model_module_version": "1.0.0",
      "model_name": "LayoutModel",
      "state": {
       "width": "250px"
      }
     },
     "33c9feab91f24822b5de610ef94a3aca": {
      "model_module": "@jupyter-widgets/controls",
      "model_module_version": "1.2.0",
      "model_name": "ButtonModel",
      "state": {
       "description": "Keine der Alternativen",
       "layout": "IPY_MODEL_eebb499a0db745cf80d72408508f00f1",
       "style": "IPY_MODEL_2e26144f5d40482090fc45fe1906ff8e"
      }
     },
     "33d03d01c4e14d19a49cb7f5dcf4adc9": {
      "model_module": "@jupyter-widgets/controls",
      "model_module_version": "1.2.0",
      "model_name": "ButtonModel",
      "state": {
       "description": "Reduce",
       "layout": "IPY_MODEL_b595a8f9b7984be3a9cfc824dd6e3d7c",
       "style": "IPY_MODEL_6a8521000b9f41d6b4c23fa1c69fadd8"
      }
     },
     "340e4d16f1cf4894bf1d3ec284e744a6": {
      "model_module": "@jupyter-widgets/controls",
      "model_module_version": "1.2.0",
      "model_name": "ButtonStyleModel",
      "state": {}
     },
     "3419cf26d1e44b859c73970157a2e10e": {
      "model_module": "@jupyter-widgets/controls",
      "model_module_version": "1.2.0",
      "model_name": "ButtonModel",
      "state": {
       "description": "Predict",
       "layout": "IPY_MODEL_a48dff11fa7d489da4722fe15d6f0368",
       "style": "IPY_MODEL_2f46c9d24346405497219c7bc09d99d5"
      }
     },
     "3422c4cb612b431a836145722ae60691": {
      "model_module": "@jupyter-widgets/controls",
      "model_module_version": "1.2.0",
      "model_name": "DescriptionStyleModel",
      "state": {
       "description_width": ""
      }
     },
     "34448986f61f44faab4cc0419748e2ce": {
      "model_module": "@jupyter-widgets/base",
      "model_module_version": "1.0.0",
      "model_name": "LayoutModel",
      "state": {
       "width": "600px"
      }
     },
     "3466235e24a24daf8428ce4f376ff1d7": {
      "model_module": "@jupyter-widgets/base",
      "model_module_version": "1.0.0",
      "model_name": "LayoutModel",
      "state": {
       "width": "250px"
      }
     },
     "3480a18865bd4618b98393ea45dca2d1": {
      "model_module": "@jupyter-widgets/controls",
      "model_module_version": "1.2.0",
      "model_name": "ButtonStyleModel",
      "state": {}
     },
     "35347b88724d4df29f4101a0496743ba": {
      "model_module": "@jupyter-widgets/controls",
      "model_module_version": "1.2.0",
      "model_name": "VBoxModel",
      "state": {
       "children": [
        "IPY_MODEL_656c474627fc497493961bef609bb3b7",
        "IPY_MODEL_fbd5fc7133b8442d9eebd975d0c32869",
        "IPY_MODEL_b0e72f50a74b4727a2362dd435d7742e",
        "IPY_MODEL_c95ca3a761394f23b5e730176ccefd3e",
        "IPY_MODEL_ee77700dfef246dbba4534748de5c465"
       ],
       "layout": "IPY_MODEL_8d6ef9274ac34b68805577ef76c23bd0"
      }
     },
     "356ba57e17be41fb84eac1451fc05270": {
      "model_module": "@jupyter-widgets/base",
      "model_module_version": "1.0.0",
      "model_name": "LayoutModel",
      "state": {}
     },
     "357bbf62eb8e487a86b4afde0af52a2b": {
      "model_module": "@jupyter-widgets/base",
      "model_module_version": "1.0.0",
      "model_name": "LayoutModel",
      "state": {}
     },
     "35a881aef81b4f2a8fbcd7549b034fe4": {
      "model_module": "@jupyter-widgets/controls",
      "model_module_version": "1.2.0",
      "model_name": "ButtonModel",
      "state": {
       "description": "Shift Reduce",
       "layout": "IPY_MODEL_58a74a959ea646218b5dc3a348fccc08",
       "style": "IPY_MODEL_697b0e0074fc4c39bb821f6433b5bad3"
      }
     },
     "35c53978d2cd4d5bb6ae89da81684776": {
      "model_module": "@jupyter-widgets/controls",
      "model_module_version": "1.2.0",
      "model_name": "HTMLModel",
      "state": {
       "layout": "IPY_MODEL_4c48b61de0724e3ab15fea02c6e2e12e",
       "style": "IPY_MODEL_9734191d0f2d4c26b4d1593e15a669e7",
       "value": "<i>Wählen Sie die <ins>eine</ins> korrekte Antwort aus: </i>"
      }
     },
     "35de2644961449f4b72b57d0e46aea0d": {
      "model_module": "@jupyter-widgets/controls",
      "model_module_version": "1.2.0",
      "model_name": "DescriptionStyleModel",
      "state": {
       "description_width": ""
      }
     },
     "3620b2a42c4d46c489870e04a11364f1": {
      "model_module": "@jupyter-widgets/base",
      "model_module_version": "1.0.0",
      "model_name": "LayoutModel",
      "state": {}
     },
     "3663185fcbc349a681dc82cec2a39e22": {
      "model_module": "@jupyter-widgets/controls",
      "model_module_version": "1.2.0",
      "model_name": "HBoxModel",
      "state": {
       "children": [
        "IPY_MODEL_5d4be78a45784ace871a314f4822eed4",
        "IPY_MODEL_acfb44cc91b64cfa977ce790dcf5ff7d"
       ],
       "layout": "IPY_MODEL_e0a9a56a49ae4a21af1081a89b92297e"
      }
     },
     "3673f93aa5934b4c84f2ebf18c4b3547": {
      "model_module": "@jupyter-widgets/controls",
      "model_module_version": "1.2.0",
      "model_name": "VBoxModel",
      "state": {
       "children": [
        "IPY_MODEL_2dcea9a4dee7446ebee28485e6727d23",
        "IPY_MODEL_e4d5fe64a6d84f7488f58655d271bdfb",
        "IPY_MODEL_5090141166f5452b8167b4bd8f69b405",
        "IPY_MODEL_a54183b7b271441d9468198b050064fb",
        "IPY_MODEL_2e78a01855bf412fb2fee2ea9bc141ec"
       ],
       "layout": "IPY_MODEL_6dac3d8149a64cbaaeb03cdf36d22511"
      }
     },
     "3695c0bd1e964a9ab0e1b7c88a716e53": {
      "model_module": "@jupyter-widgets/controls",
      "model_module_version": "1.2.0",
      "model_name": "HTMLModel",
      "state": {
       "layout": "IPY_MODEL_f68570584efc4aaf81722fda2bfe3489",
       "style": "IPY_MODEL_f8d7b5264a5146f7923bf21c190db5e8",
       "value": "<h4 style=\"font-size:14px;\">Welche Operationen hat der Recursive Descent Parser?</h4>"
      }
     },
     "37136cd2a8b140be98b0b6d3bef46b42": {
      "model_module": "@jupyter-widgets/controls",
      "model_module_version": "1.2.0",
      "model_name": "VBoxModel",
      "state": {
       "children": [
        "IPY_MODEL_2e0511291b8f4b5491f501c6994a4cc3",
        "IPY_MODEL_bbc7a7f47570498a966135944c9b1092",
        "IPY_MODEL_56d59fb25cae4c2b82f53a3a5ed03a0e",
        "IPY_MODEL_43797b940373453f81ad8ec852016edb",
        "IPY_MODEL_ad76dd44c7e84ed49dee259116bc995c"
       ],
       "layout": "IPY_MODEL_687bca13414a40d3b8272f1cef3177b7"
      }
     },
     "37986f19f7074e98ac7222fe97955b3e": {
      "model_module": "@jupyter-widgets/controls",
      "model_module_version": "1.2.0",
      "model_name": "ButtonModel",
      "state": {
       "description": "Predict",
       "layout": "IPY_MODEL_575dcaac7610433da28d512e42103c63",
       "style": "IPY_MODEL_3b5ddd5369f4499688bcef98fe8d6252"
      }
     },
     "37d46f9086b040c2a783087c610a9c88": {
      "model_module": "@jupyter-widgets/base",
      "model_module_version": "1.0.0",
      "model_name": "LayoutModel",
      "state": {
       "width": "600px"
      }
     },
     "37e2883afbde444992053a0a4007ad97": {
      "model_module": "@jupyter-widgets/controls",
      "model_module_version": "1.2.0",
      "model_name": "ButtonModel",
      "state": {
       "description": "Predict",
       "layout": "IPY_MODEL_500abdc446ff40fcaece7c23668f1664",
       "style": "IPY_MODEL_70947b73d5a44f85afb4ba8541ff9ce6"
      }
     },
     "381409c33b5d4528a163df522153e4d2": {
      "model_module": "@jupyter-widgets/controls",
      "model_module_version": "1.2.0",
      "model_name": "ButtonModel",
      "state": {
       "description": "Korrekt?",
       "layout": "IPY_MODEL_018cf6adafab41f982be30730131c593",
       "style": "IPY_MODEL_a71fb26b6a7745a1a282a240709669fc"
      }
     },
     "3842a5abb88040f690b3fe92c9e22856": {
      "model_module": "@jupyter-widgets/controls",
      "model_module_version": "1.2.0",
      "model_name": "DescriptionStyleModel",
      "state": {
       "description_width": ""
      }
     },
     "38519c0086ff4165ac2ea4884aaa244b": {
      "model_module": "@jupyter-widgets/controls",
      "model_module_version": "1.2.0",
      "model_name": "DescriptionStyleModel",
      "state": {
       "description_width": ""
      }
     },
     "3890941ad769478f822733bc6b052e01": {
      "model_module": "@jupyter-widgets/base",
      "model_module_version": "1.0.0",
      "model_name": "LayoutModel",
      "state": {
       "justify_content": "center"
      }
     },
     "38dac53a49134fa182b99f8cd8ba8b7b": {
      "model_module": "@jupyter-widgets/controls",
      "model_module_version": "1.2.0",
      "model_name": "ButtonStyleModel",
      "state": {}
     },
     "38e090c22b37438cba2e1fd7f6b40e03": {
      "model_module": "@jupyter-widgets/controls",
      "model_module_version": "1.2.0",
      "model_name": "HBoxModel",
      "state": {
       "children": [
        "IPY_MODEL_f4c23639f5a1430bb36432d208b46517",
        "IPY_MODEL_7fdf292977d94530a8e8830a9e6128fa"
       ],
       "layout": "IPY_MODEL_6977d7a468194901afd6b9c441ff2e26"
      }
     },
     "390ce79e68d84b92a6df53b1c000e642": {
      "model_module": "@jupyter-widgets/controls",
      "model_module_version": "1.2.0",
      "model_name": "CheckboxModel",
      "state": {
       "description": "Scan",
       "disabled": false,
       "layout": "IPY_MODEL_37d46f9086b040c2a783087c610a9c88",
       "style": "IPY_MODEL_3a5ed484aa1945abb8c3aba7eec21623",
       "value": false
      }
     },
     "39e72d2ff0c14c26bd7e09c2ff66d96d": {
      "model_module": "@jupyter-widgets/base",
      "model_module_version": "1.0.0",
      "model_name": "LayoutModel",
      "state": {
       "justify_content": "center"
      }
     },
     "3a267c1c5de44ec8b8acaaa735519e76": {
      "model_module": "@jupyter-widgets/base",
      "model_module_version": "1.0.0",
      "model_name": "LayoutModel",
      "state": {
       "width": "250px"
      }
     },
     "3a409bc41d944b2692bebae6f6a54bd3": {
      "model_module": "@jupyter-widgets/base",
      "model_module_version": "1.0.0",
      "model_name": "LayoutModel",
      "state": {}
     },
     "3a5ed484aa1945abb8c3aba7eec21623": {
      "model_module": "@jupyter-widgets/controls",
      "model_module_version": "1.2.0",
      "model_name": "DescriptionStyleModel",
      "state": {
       "description_width": "initial"
      }
     },
     "3a84bde1346f4495bc45d5502550526c": {
      "model_module": "@jupyter-widgets/controls",
      "model_module_version": "1.2.0",
      "model_name": "HTMLModel",
      "state": {
       "layout": "IPY_MODEL_c2d34507db784e79a475cd905a09a556",
       "style": "IPY_MODEL_d5047874711c46e9a01a61c2551a746d",
       "value": "<h4 style=\"font-size:14px;\">Welche Operation folgt als nächstes?</h4>"
      }
     },
     "3a8f864e55224a61978bc96fbcac9867": {
      "model_module": "@jupyter-widgets/controls",
      "model_module_version": "1.2.0",
      "model_name": "DescriptionStyleModel",
      "state": {
       "description_width": ""
      }
     },
     "3ab23f8d492549379ae6b98e666aa3af": {
      "model_module": "@jupyter-widgets/controls",
      "model_module_version": "1.2.0",
      "model_name": "HBoxModel",
      "state": {
       "children": [
        "IPY_MODEL_2496dfba223e467d9a3d70bfd6c90b13",
        "IPY_MODEL_c16cd7cc86934397aad10bc09c2526a1"
       ],
       "layout": "IPY_MODEL_b432a74735654965863ee73290aa71a1"
      }
     },
     "3b5ddd5369f4499688bcef98fe8d6252": {
      "model_module": "@jupyter-widgets/controls",
      "model_module_version": "1.2.0",
      "model_name": "ButtonStyleModel",
      "state": {}
     },
     "3bdb0e7eed3c4fe6b70e2a504ae117dd": {
      "model_module": "@jupyter-widgets/controls",
      "model_module_version": "1.2.0",
      "model_name": "ButtonModel",
      "state": {
       "description": "Earley",
       "layout": "IPY_MODEL_2213b4b7935649bfb44499b9c598325d",
       "style": "IPY_MODEL_de6add2a2cf34c0e92edfaf58a30b4af"
      }
     },
     "3bf99cf257b24458b1ee00286e2b82b2": {
      "model_module": "@jupyter-widgets/controls",
      "model_module_version": "1.2.0",
      "model_name": "ButtonStyleModel",
      "state": {}
     },
     "3c16960648144005936f228474de44a2": {
      "model_module": "@jupyter-widgets/controls",
      "model_module_version": "1.2.0",
      "model_name": "ButtonStyleModel",
      "state": {}
     },
     "3c303c52b9df40d69e34504b5c53abc7": {
      "model_module": "@jupyter-widgets/controls",
      "model_module_version": "1.2.0",
      "model_name": "DescriptionStyleModel",
      "state": {
       "description_width": "initial"
      }
     },
     "3c5e7867bdd544aea6560d0a04cc8ee4": {
      "model_module": "@jupyter-widgets/controls",
      "model_module_version": "1.2.0",
      "model_name": "CheckboxModel",
      "state": {
       "description": "Predict",
       "disabled": false,
       "layout": "IPY_MODEL_ad306a1166a94cf98dd43db27cbaf6ae",
       "style": "IPY_MODEL_018bebb711b047aa8f59f2896df6149b",
       "value": false
      }
     },
     "3c72b35f33714471961260d8f56e395c": {
      "model_module": "@jupyter-widgets/controls",
      "model_module_version": "1.2.0",
      "model_name": "DescriptionStyleModel",
      "state": {
       "description_width": ""
      }
     },
     "3c8b154ea64c4d6bbcbfd12c97905960": {
      "model_module": "@jupyter-widgets/controls",
      "model_module_version": "1.2.0",
      "model_name": "ButtonStyleModel",
      "state": {}
     },
     "3ca433d44f264c69a5f1337ea8bf755b": {
      "model_module": "@jupyter-widgets/controls",
      "model_module_version": "1.2.0",
      "model_name": "HBoxModel",
      "state": {
       "children": [
        "IPY_MODEL_708622dca0f44527842c243dca6b8f4c"
       ],
       "layout": "IPY_MODEL_d611c3f5231f439fb32780a813dfd360"
      }
     },
     "3ca6c8dcc7674620a74421d814ee7c40": {
      "model_module": "@jupyter-widgets/controls",
      "model_module_version": "1.2.0",
      "model_name": "DescriptionStyleModel",
      "state": {
       "description_width": "initial"
      }
     },
     "3cb5da2cd45f42519d008f53df486ddc": {
      "model_module": "@jupyter-widgets/base",
      "model_module_version": "1.0.0",
      "model_name": "LayoutModel",
      "state": {}
     },
     "3ce83d05eff14ee3a318f38e6e5f5e7b": {
      "model_module": "@jupyter-widgets/controls",
      "model_module_version": "1.2.0",
      "model_name": "DescriptionStyleModel",
      "state": {
       "description_width": ""
      }
     },
     "3d074cbd85f5475f8ec3a7471bd9ffcf": {
      "model_module": "@jupyter-widgets/controls",
      "model_module_version": "1.2.0",
      "model_name": "HTMLModel",
      "state": {
       "layout": "IPY_MODEL_12a7cad07c6e4bb8ae9d8215cab98233",
       "style": "IPY_MODEL_82d42db99ef340dfb610c6bd72469386",
       "value": "<i>Wählen Sie die <ins>eine</ins> korrekte Antwort aus: </i>"
      }
     },
     "3d14f967ed7f432a90f60eab98f810ad": {
      "model_module": "@jupyter-widgets/controls",
      "model_module_version": "1.2.0",
      "model_name": "ButtonModel",
      "state": {
       "description": "Complete",
       "layout": "IPY_MODEL_f62e23b7cc214fea98f388b8b216b417",
       "style": "IPY_MODEL_4c93dcd5a08542bdb58b614a639d2bcf"
      }
     },
     "3dd6419755dc4b568ddbdab335f20107": {
      "model_module": "@jupyter-widgets/base",
      "model_module_version": "1.0.0",
      "model_name": "LayoutModel",
      "state": {
       "width": "250px"
      }
     },
     "3de4fc8273204b2aa14646dc6710066c": {
      "model_module": "@jupyter-widgets/controls",
      "model_module_version": "1.2.0",
      "model_name": "ButtonModel",
      "state": {
       "description": "Scan",
       "layout": "IPY_MODEL_8eadfa8f0fe24e4e912adb04bbd475cc",
       "style": "IPY_MODEL_85c09085d8064ddbbe5b2202565ff323"
      }
     },
     "3e432e94a88d4356bf5bab7d46604080": {
      "model_module": "@jupyter-widgets/base",
      "model_module_version": "1.0.0",
      "model_name": "LayoutModel",
      "state": {}
     },
     "3e52a34686ac4086913edc3e7f73d563": {
      "model_module": "@jupyter-widgets/controls",
      "model_module_version": "1.2.0",
      "model_name": "HBoxModel",
      "state": {
       "children": [
        "IPY_MODEL_59093dfff718433cbfe55b396792339e",
        "IPY_MODEL_081100818416450f854c2ce96f1dff97"
       ],
       "layout": "IPY_MODEL_a7d3aeae8ceb4aa99543d9f89dcf55ae"
      }
     },
     "3ee558ab04514bf58dac0d9d868f5448": {
      "model_module": "@jupyter-widgets/controls",
      "model_module_version": "1.2.0",
      "model_name": "ButtonModel",
      "state": {
       "description": "Shift",
       "layout": "IPY_MODEL_cada124924124e2ab35170d6fe89e44f",
       "style": "IPY_MODEL_06c6be43e8154c799fb8930bcda4ca5a"
      }
     },
     "3f09f7ef90c84e16b49f4d951cdf8428": {
      "model_module": "@jupyter-widgets/controls",
      "model_module_version": "1.2.0",
      "model_name": "HTMLModel",
      "state": {
       "layout": "IPY_MODEL_90cfb3f96591416791bb638223055538",
       "style": "IPY_MODEL_480cf251644c491484b27fcf045a0665",
       "value": "<h4 style=\"font-size:14px;\">Welche Operation folgt als nächstes?</h4>"
      }
     },
     "3fe9dd1af31d4efaa46c687fd096981b": {
      "model_module": "@jupyter-widgets/controls",
      "model_module_version": "1.2.0",
      "model_name": "ButtonStyleModel",
      "state": {}
     },
     "4039a83539464ea480a7ba1bdb994656": {
      "model_module": "@jupyter-widgets/base",
      "model_module_version": "1.0.0",
      "model_name": "LayoutModel",
      "state": {
       "width": "250px"
      }
     },
     "40922ed0b15c456a9a9d5e9fcc915a3c": {
      "model_module": "@jupyter-widgets/controls",
      "model_module_version": "1.2.0",
      "model_name": "VBoxModel",
      "state": {
       "children": [
        "IPY_MODEL_1531708188f64667a4ca08b20b318c4d",
        "IPY_MODEL_bfcd1d80ccbb480da7d0dda3de9f0ab2",
        "IPY_MODEL_0674e6cb83f94a49879c12b549eb3592",
        "IPY_MODEL_250eee2eabb043bfb3cd3faf15efda0d"
       ],
       "layout": "IPY_MODEL_d909165330904329b568038b993872bc"
      }
     },
     "40a61126e7fd4e4ba9acf09f6aea22b1": {
      "model_module": "@jupyter-widgets/controls",
      "model_module_version": "1.2.0",
      "model_name": "DescriptionStyleModel",
      "state": {
       "description_width": ""
      }
     },
     "40d57db80248486c86c2f957fde29258": {
      "model_module": "@jupyter-widgets/controls",
      "model_module_version": "1.2.0",
      "model_name": "HBoxModel",
      "state": {
       "children": [
        "IPY_MODEL_432c5fbab12c491c8d44925576efc2f2",
        "IPY_MODEL_91bf9538680c43499986ac90812d3fe8"
       ],
       "layout": "IPY_MODEL_0bd39ed06cb2480fa4574dda06c385ec"
      }
     },
     "40df1e36b5fe460691d1a60bb37d066e": {
      "model_module": "@jupyter-widgets/controls",
      "model_module_version": "1.2.0",
      "model_name": "HBoxModel",
      "state": {
       "children": [
        "IPY_MODEL_c24bc73e26db414ebe77921e62854ec9",
        "IPY_MODEL_424c7dcbfd5a412dbeb2f7697915230f"
       ],
       "layout": "IPY_MODEL_803061ef1f2b43679b322f5114baa53c"
      }
     },
     "413427e807b24f5e89dcd0c94985dcf5": {
      "model_module": "@jupyter-widgets/base",
      "model_module_version": "1.0.0",
      "model_name": "LayoutModel",
      "state": {
       "width": "600px"
      }
     },
     "41368c3281d64aadb47a9a8b981088fe": {
      "model_module": "@jupyter-widgets/controls",
      "model_module_version": "1.2.0",
      "model_name": "ButtonModel",
      "state": {
       "description": "Shift Reduce",
       "layout": "IPY_MODEL_dfe93a0bad914a2f8980aac4d4cf6862",
       "style": "IPY_MODEL_454cb8c5bb6a4f7582223d9cbf167fe5"
      }
     },
     "413d6f3cc9cc4daea54dfb999a5b48a4": {
      "model_module": "@jupyter-widgets/controls",
      "model_module_version": "1.2.0",
      "model_name": "ButtonModel",
      "state": {
       "description": "Scan",
       "layout": "IPY_MODEL_5e46e9d5405b4cc28bd1d1ee7f96379d",
       "style": "IPY_MODEL_c4d9b080945a45e2b951ff1154d139b3"
      }
     },
     "416e831a69244626b7c032cccedeac44": {
      "model_module": "@jupyter-widgets/controls",
      "model_module_version": "1.2.0",
      "model_name": "ButtonModel",
      "state": {
       "description": "Scan",
       "layout": "IPY_MODEL_0e14634f5efa4c37b411bc824112a8a1",
       "style": "IPY_MODEL_33602ba503c14a25a8e62c4c955fc934"
      }
     },
     "41817ffe151c4435b28133b6e1f14d5b": {
      "model_module": "@jupyter-widgets/controls",
      "model_module_version": "1.2.0",
      "model_name": "ButtonStyleModel",
      "state": {}
     },
     "420b0ad18807436597b309ba5277dd8d": {
      "model_module": "@jupyter-widgets/controls",
      "model_module_version": "1.2.0",
      "model_name": "DescriptionStyleModel",
      "state": {
       "description_width": ""
      }
     },
     "424c7dcbfd5a412dbeb2f7697915230f": {
      "model_module": "@jupyter-widgets/controls",
      "model_module_version": "1.2.0",
      "model_name": "ButtonModel",
      "state": {
       "description": "Shift",
       "layout": "IPY_MODEL_6b69a4b2f3aa4c0caeb44ede8f54f7f3",
       "style": "IPY_MODEL_91ee9423029f4742b5b834c842c219c9"
      }
     },
     "42bf7e4bbe744bf890d564a5d5b35529": {
      "model_module": "@jupyter-widgets/controls",
      "model_module_version": "1.2.0",
      "model_name": "DescriptionStyleModel",
      "state": {
       "description_width": ""
      }
     },
     "432c5fbab12c491c8d44925576efc2f2": {
      "model_module": "@jupyter-widgets/controls",
      "model_module_version": "1.2.0",
      "model_name": "ButtonModel",
      "state": {
       "description": "Reduce",
       "layout": "IPY_MODEL_30c28ed0a5174419ad0119a87aa3395e",
       "style": "IPY_MODEL_452aafd13ac14b87b9c003e6b31bb736"
      }
     },
     "433d63d3de0840e4b7e44b2a90cf7381": {
      "model_module": "@jupyter-widgets/base",
      "model_module_version": "1.0.0",
      "model_name": "LayoutModel",
      "state": {}
     },
     "436a667bda644f12a2191244db432275": {
      "model_module": "@jupyter-widgets/controls",
      "model_module_version": "1.2.0",
      "model_name": "DescriptionStyleModel",
      "state": {
       "description_width": ""
      }
     },
     "43797b940373453f81ad8ec852016edb": {
      "model_module": "@jupyter-widgets/controls",
      "model_module_version": "1.2.0",
      "model_name": "HBoxModel",
      "state": {
       "children": [
        "IPY_MODEL_1719fccad2b5446ab3fc4b749e5c5eef",
        "IPY_MODEL_9ba25b7edc2b45b2a1488fda8960ad41"
       ],
       "layout": "IPY_MODEL_a9376e8dc1e247ff9009653dcf5258d9"
      }
     },
     "4386e63a365047bcabf9514b0253e19e": {
      "model_module": "@jupyter-widgets/base",
      "model_module_version": "1.0.0",
      "model_name": "LayoutModel",
      "state": {
       "justify_content": "center"
      }
     },
     "43cdd9ebf1514b91a017256caad3f9fb": {
      "model_module": "@jupyter-widgets/controls",
      "model_module_version": "1.2.0",
      "model_name": "HBoxModel",
      "state": {
       "children": [
        "IPY_MODEL_4782b40670444937877c2b8aa3c75d1c",
        "IPY_MODEL_87f35b02753748398246d18d9c08abf5"
       ],
       "layout": "IPY_MODEL_a428df302c6a4e2d8ba664a28547de05"
      }
     },
     "43f2c3c8c9634f71a4b6c1913d47a36f": {
      "model_module": "@jupyter-widgets/base",
      "model_module_version": "1.0.0",
      "model_name": "LayoutModel",
      "state": {}
     },
     "440ba8b2684942c0a6b3536dcccbebc7": {
      "model_module": "@jupyter-widgets/controls",
      "model_module_version": "1.2.0",
      "model_name": "DescriptionStyleModel",
      "state": {
       "description_width": ""
      }
     },
     "44176f38835a4de0befc36c08683141a": {
      "model_module": "@jupyter-widgets/controls",
      "model_module_version": "1.2.0",
      "model_name": "DescriptionStyleModel",
      "state": {
       "description_width": ""
      }
     },
     "447949eae8114bc18a86b2754e580906": {
      "model_module": "@jupyter-widgets/base",
      "model_module_version": "1.0.0",
      "model_name": "LayoutModel",
      "state": {
       "justify_content": "center"
      }
     },
     "4490b029e8954dd0988ef8149dfc7be5": {
      "model_module": "@jupyter-widgets/controls",
      "model_module_version": "1.2.0",
      "model_name": "HBoxModel",
      "state": {
       "children": [
        "IPY_MODEL_06c0a3f5d98e4e5e94dd274b14001352"
       ],
       "layout": "IPY_MODEL_c45802a923c941118190083f57af103c"
      }
     },
     "44b6a1f5f4a24e399baa0306ab8534d3": {
      "model_module": "@jupyter-widgets/controls",
      "model_module_version": "1.2.0",
      "model_name": "ButtonModel",
      "state": {
       "description": "Shift",
       "layout": "IPY_MODEL_3395b130e273429baac80212866b882b",
       "style": "IPY_MODEL_ce9b27e8648a4053aa0b3aa61b79a767"
      }
     },
     "44c43a3b12394d81b9b8cb496498e741": {
      "model_module": "@jupyter-widgets/base",
      "model_module_version": "1.0.0",
      "model_name": "LayoutModel",
      "state": {
       "width": "250px"
      }
     },
     "44facbffdc9f456cbd510cb67fdf3d4b": {
      "model_module": "@jupyter-widgets/controls",
      "model_module_version": "1.2.0",
      "model_name": "ButtonModel",
      "state": {
       "description": "Predict",
       "layout": "IPY_MODEL_66b16ef8928546c8b76fc45197c8568f",
       "style": "IPY_MODEL_ff843e934d34451999995cf7352c7ca0"
      }
     },
     "452aafd13ac14b87b9c003e6b31bb736": {
      "model_module": "@jupyter-widgets/controls",
      "model_module_version": "1.2.0",
      "model_name": "ButtonStyleModel",
      "state": {}
     },
     "453cc3adccf5490ab218094918b41129": {
      "model_module": "@jupyter-widgets/controls",
      "model_module_version": "1.2.0",
      "model_name": "ButtonModel",
      "state": {
       "description": "Predict",
       "layout": "IPY_MODEL_a9d68edd3b974c329561fc9b5c673ab4",
       "style": "IPY_MODEL_6c93cda834cb4e1ea4889d2b6d781f2f"
      }
     },
     "454cb2deb11f48d18f73363ac9e9de20": {
      "model_module": "@jupyter-widgets/base",
      "model_module_version": "1.0.0",
      "model_name": "LayoutModel",
      "state": {}
     },
     "454cb8c5bb6a4f7582223d9cbf167fe5": {
      "model_module": "@jupyter-widgets/controls",
      "model_module_version": "1.2.0",
      "model_name": "ButtonStyleModel",
      "state": {}
     },
     "456edda4dfbb4818b1ac04eee426f991": {
      "model_module": "@jupyter-widgets/controls",
      "model_module_version": "1.2.0",
      "model_name": "HTMLModel",
      "state": {
       "layout": "IPY_MODEL_279fa8c6af84440ab48d095a98aa93b2",
       "style": "IPY_MODEL_48bbf81479394553b8a0fd89eb2f8054",
       "value": "<i>Wählen Sie die <ins>eine</ins> korrekte Antwort aus: </i>"
      }
     },
     "4581743050b14824b311a099bd10ca23": {
      "model_module": "@jupyter-widgets/controls",
      "model_module_version": "1.2.0",
      "model_name": "VBoxModel",
      "state": {
       "children": [
        "IPY_MODEL_50504fd3794d4535b3c9b674a60dc796",
        "IPY_MODEL_6a67e7a8dff04507beb9698cd825c65f",
        "IPY_MODEL_fcb0236b37304ffdad8549751db6aae0",
        "IPY_MODEL_551baf4f83f0452087cbd94acc4c6165",
        "IPY_MODEL_a528b3deaa154cae8e71906c92d9e07e"
       ],
       "layout": "IPY_MODEL_3cb5da2cd45f42519d008f53df486ddc"
      }
     },
     "46362c6609d24cf4afedec9a1c7d7b49": {
      "model_module": "@jupyter-widgets/base",
      "model_module_version": "1.0.0",
      "model_name": "LayoutModel",
      "state": {}
     },
     "46419f5227eb490796847a7675b2b5c0": {
      "model_module": "@jupyter-widgets/base",
      "model_module_version": "1.0.0",
      "model_name": "LayoutModel",
      "state": {}
     },
     "4687205598324164ba43aa42b6dec778": {
      "model_module": "@jupyter-widgets/controls",
      "model_module_version": "1.2.0",
      "model_name": "DescriptionStyleModel",
      "state": {
       "description_width": ""
      }
     },
     "46f7a0534f714463a89eca0be8eb2efb": {
      "model_module": "@jupyter-widgets/controls",
      "model_module_version": "1.2.0",
      "model_name": "ButtonModel",
      "state": {
       "description": "Reduce",
       "layout": "IPY_MODEL_86725dcc05dd4d2abc33b63b6b45d5b5",
       "style": "IPY_MODEL_28c98546858549e5b1e6aed52ebd4d77"
      }
     },
     "4782b40670444937877c2b8aa3c75d1c": {
      "model_module": "@jupyter-widgets/controls",
      "model_module_version": "1.2.0",
      "model_name": "ButtonModel",
      "state": {
       "description": "Scan",
       "layout": "IPY_MODEL_334e74de4d80428f8bbbe9f082ec9b0e",
       "style": "IPY_MODEL_222d348d99b04777af126b0ee5403cad"
      }
     },
     "47ae6db920644aeca427930e581f0089": {
      "model_module": "@jupyter-widgets/controls",
      "model_module_version": "1.2.0",
      "model_name": "ButtonModel",
      "state": {
       "description": "Reduce",
       "layout": "IPY_MODEL_6455bee5a4bd486f9157773e5cf8768f",
       "style": "IPY_MODEL_4d532a1f482c495e86916e5d36be1133"
      }
     },
     "480cf251644c491484b27fcf045a0665": {
      "model_module": "@jupyter-widgets/controls",
      "model_module_version": "1.2.0",
      "model_name": "DescriptionStyleModel",
      "state": {
       "description_width": ""
      }
     },
     "48123b3c82fb4ec68c67a3dd31bee9af": {
      "model_module": "@jupyter-widgets/base",
      "model_module_version": "1.0.0",
      "model_name": "LayoutModel",
      "state": {
       "width": "250px"
      }
     },
     "485cd019633e4f3c9219742f0542ed0d": {
      "model_module": "@jupyter-widgets/controls",
      "model_module_version": "1.2.0",
      "model_name": "HBoxModel",
      "state": {
       "children": [
        "IPY_MODEL_e0b78addc263496c8af0a667e7bfab81",
        "IPY_MODEL_9fba76862ec641568237a8fb63e7ec9b"
       ],
       "layout": "IPY_MODEL_d0ff55aae19c40fbb211075316117858"
      }
     },
     "4880e3c2e20045bc8d0bb730a0012fcb": {
      "model_module": "@jupyter-widgets/controls",
      "model_module_version": "1.2.0",
      "model_name": "ButtonModel",
      "state": {
       "description": "Recusive Descent",
       "layout": "IPY_MODEL_b587989543844b949b68ea093340e6c2",
       "style": "IPY_MODEL_d9ceb1ae9fc7485ebce6ea0de61f3400"
      }
     },
     "489be051c28a4f8c84f5ace5842329ae": {
      "model_module": "@jupyter-widgets/base",
      "model_module_version": "1.0.0",
      "model_name": "LayoutModel",
      "state": {
       "width": "250px"
      }
     },
     "48bbf81479394553b8a0fd89eb2f8054": {
      "model_module": "@jupyter-widgets/controls",
      "model_module_version": "1.2.0",
      "model_name": "DescriptionStyleModel",
      "state": {
       "description_width": ""
      }
     },
     "48ee5fa3d33045dca147709394909b35": {
      "model_module": "@jupyter-widgets/base",
      "model_module_version": "1.0.0",
      "model_name": "LayoutModel",
      "state": {
       "width": "250px"
      }
     },
     "490857126f4f4545ac1cd53695149c9a": {
      "model_module": "@jupyter-widgets/controls",
      "model_module_version": "1.2.0",
      "model_name": "ButtonStyleModel",
      "state": {}
     },
     "496c6218481048d9b3600815b4cc9a02": {
      "model_module": "@jupyter-widgets/controls",
      "model_module_version": "1.2.0",
      "model_name": "ButtonModel",
      "state": {
       "description": "Keine der Alternativen",
       "layout": "IPY_MODEL_863505f5a65b4928b741e3f28a25e71d",
       "style": "IPY_MODEL_779b32cda35f45888d2cefd70338ec92"
      }
     },
     "4997f7bb5bff46eb817a1f3b0b848154": {
      "model_module": "@jupyter-widgets/base",
      "model_module_version": "1.0.0",
      "model_name": "LayoutModel",
      "state": {}
     },
     "49a9cf7278844b17b29a06f0a1ad24b9": {
      "model_module": "@jupyter-widgets/controls",
      "model_module_version": "1.2.0",
      "model_name": "ButtonModel",
      "state": {
       "description": "Keine der Alternativen",
       "layout": "IPY_MODEL_daa9a8dd1f4449779f187f545f9d71f8",
       "style": "IPY_MODEL_186a7232a881412b9f4c02d357d9a9a6"
      }
     },
     "49cb496b0d5949a58fb3d0e0defae6f1": {
      "model_module": "@jupyter-widgets/base",
      "model_module_version": "1.0.0",
      "model_name": "LayoutModel",
      "state": {
       "width": "600px"
      }
     },
     "49cfe53dc8b14d7ba51bc991a303deb3": {
      "model_module": "@jupyter-widgets/controls",
      "model_module_version": "1.2.0",
      "model_name": "ButtonModel",
      "state": {
       "description": "Predict",
       "layout": "IPY_MODEL_f3ee8ecba895457a8c2076de214f108e",
       "style": "IPY_MODEL_4df800d490ed4aa9b6621474ccd7154e"
      }
     },
     "49d95da80c224432a24f17a7fb3c55f7": {
      "model_module": "@jupyter-widgets/controls",
      "model_module_version": "1.2.0",
      "model_name": "ButtonStyleModel",
      "state": {
       "button_color": "lightgreen"
      }
     },
     "4a52b7499afe44378ef2cbae36accfc9": {
      "model_module": "@jupyter-widgets/controls",
      "model_module_version": "1.2.0",
      "model_name": "DescriptionStyleModel",
      "state": {
       "description_width": ""
      }
     },
     "4a59f79aa8804735862090525ed9d632": {
      "model_module": "@jupyter-widgets/controls",
      "model_module_version": "1.2.0",
      "model_name": "HBoxModel",
      "state": {
       "children": [
        "IPY_MODEL_576f6431ffd7456daf7573c4fa69c05e",
        "IPY_MODEL_70c8bad8ee1a4cc3828f2b4ac78779d1"
       ],
       "layout": "IPY_MODEL_c821445b37324491b1089ba363a12ce0"
      }
     },
     "4a6ed8ba6e5a43318c3be2a5c873caea": {
      "model_module": "@jupyter-widgets/base",
      "model_module_version": "1.0.0",
      "model_name": "LayoutModel",
      "state": {
       "width": "250px"
      }
     },
     "4a8bbbf4ae384914ad090938f74447a2": {
      "model_module": "@jupyter-widgets/base",
      "model_module_version": "1.0.0",
      "model_name": "LayoutModel",
      "state": {}
     },
     "4aa94289c0404862b581251252e8d80f": {
      "model_module": "@jupyter-widgets/controls",
      "model_module_version": "1.2.0",
      "model_name": "HBoxModel",
      "state": {
       "children": [
        "IPY_MODEL_d21c4d5a7e9242789d785c7f93e4d399",
        "IPY_MODEL_d771a8e2d78a470ba49d1f50fdabef1e"
       ],
       "layout": "IPY_MODEL_5d44b03b88c2482990765826ac7b1370"
      }
     },
     "4ad36a93f26a4074a29658306471665f": {
      "model_module": "@jupyter-widgets/controls",
      "model_module_version": "1.2.0",
      "model_name": "ButtonModel",
      "state": {
       "description": "Korrekt?",
       "layout": "IPY_MODEL_705a9c7de7fe4465b5a7da68e583ecb5",
       "style": "IPY_MODEL_4db43c58b5dd46b1acfc2681216876d5"
      }
     },
     "4afa624841bf4bb3a3b308d1d688e8fa": {
      "model_module": "@jupyter-widgets/controls",
      "model_module_version": "1.2.0",
      "model_name": "ButtonStyleModel",
      "state": {}
     },
     "4b02d2f69a8e4704a356aa7552e71b68": {
      "model_module": "@jupyter-widgets/base",
      "model_module_version": "1.0.0",
      "model_name": "LayoutModel",
      "state": {
       "width": "600px"
      }
     },
     "4b11989440c6420cb7b5852cf389582e": {
      "model_module": "@jupyter-widgets/controls",
      "model_module_version": "1.2.0",
      "model_name": "ButtonModel",
      "state": {
       "description": "Reduce",
       "layout": "IPY_MODEL_7590b0517ea146978545d7dbea7a05a0",
       "style": "IPY_MODEL_23b5cb9254564eed9e059fadbc6fc71d"
      }
     },
     "4b503d3e09db487bbff5c920523ce220": {
      "model_module": "@jupyter-widgets/controls",
      "model_module_version": "1.2.0",
      "model_name": "HTMLModel",
      "state": {
       "layout": "IPY_MODEL_79371835eefd487ab0486d5eae84b6a6",
       "style": "IPY_MODEL_985a4a00846a49f9b37cee3ad3cf357b",
       "value": "<h4 style=\"font-size:14px;\">Um welchen Parser handelt es sich?</h4>"
      }
     },
     "4b66b790658d49489f30d8729afabe18": {
      "model_module": "@jupyter-widgets/controls",
      "model_module_version": "1.2.0",
      "model_name": "DescriptionStyleModel",
      "state": {
       "description_width": "initial"
      }
     },
     "4ba3e0d2388648cf9b973bb7113b5af1": {
      "model_module": "@jupyter-widgets/controls",
      "model_module_version": "1.2.0",
      "model_name": "VBoxModel",
      "state": {
       "children": [
        "IPY_MODEL_e8e4f83302044e71bf3759990932a1c1",
        "IPY_MODEL_35c53978d2cd4d5bb6ae89da81684776",
        "IPY_MODEL_57dd7dd5777d4d418b9161431ee8052a",
        "IPY_MODEL_9712263e74e14914ad9f6d5912a389a3",
        "IPY_MODEL_daa6eef324b84a969c4d06fe3ef60f16"
       ],
       "layout": "IPY_MODEL_0a0674561a2b4014a9e30a5999275c82"
      }
     },
     "4bbcb059cd28410c99a64c73c91d2d0e": {
      "model_module": "@jupyter-widgets/controls",
      "model_module_version": "1.2.0",
      "model_name": "CheckboxModel",
      "state": {
       "description": "Complete",
       "disabled": false,
       "layout": "IPY_MODEL_98b03cbd132b41a8ab782aaaa49baf28",
       "style": "IPY_MODEL_ac8e132ad369489192c8e6c77be02eb3",
       "value": false
      }
     },
     "4bf00c41f8304351a8be18d82abb8d1d": {
      "model_module": "@jupyter-widgets/base",
      "model_module_version": "1.0.0",
      "model_name": "LayoutModel",
      "state": {
       "justify_content": "center"
      }
     },
     "4c48b61de0724e3ab15fea02c6e2e12e": {
      "model_module": "@jupyter-widgets/base",
      "model_module_version": "1.0.0",
      "model_name": "LayoutModel",
      "state": {
       "justify_content": "center"
      }
     },
     "4c93dcd5a08542bdb58b614a639d2bcf": {
      "model_module": "@jupyter-widgets/controls",
      "model_module_version": "1.2.0",
      "model_name": "ButtonStyleModel",
      "state": {}
     },
     "4ca4423e9804430ab508bbedd89c4cfe": {
      "model_module": "@jupyter-widgets/base",
      "model_module_version": "1.0.0",
      "model_name": "LayoutModel",
      "state": {}
     },
     "4caef652e4db4c969afc90eb19063557": {
      "model_module": "@jupyter-widgets/controls",
      "model_module_version": "1.2.0",
      "model_name": "HBoxModel",
      "state": {
       "children": [
        "IPY_MODEL_3d14f967ed7f432a90f60eab98f810ad",
        "IPY_MODEL_33c9feab91f24822b5de610ef94a3aca"
       ],
       "layout": "IPY_MODEL_6805b694fa594e929a765c7d375181d9"
      }
     },
     "4cb8f114ab504a239e81a47189972830": {
      "model_module": "@jupyter-widgets/base",
      "model_module_version": "1.0.0",
      "model_name": "LayoutModel",
      "state": {
       "width": "250px"
      }
     },
     "4d1c0250faef45e4b5560dae982b3dd2": {
      "model_module": "@jupyter-widgets/controls",
      "model_module_version": "1.2.0",
      "model_name": "CheckboxModel",
      "state": {
       "description": "Complete",
       "disabled": false,
       "layout": "IPY_MODEL_c6efd709298f40c1bdd8fb3e7d7a8394",
       "style": "IPY_MODEL_c4fd008664e94b01b18dfca83d229781",
       "value": true
      }
     },
     "4d532a1f482c495e86916e5d36be1133": {
      "model_module": "@jupyter-widgets/controls",
      "model_module_version": "1.2.0",
      "model_name": "ButtonStyleModel",
      "state": {}
     },
     "4d8a88e314df4c379e625303a1e5da5f": {
      "model_module": "@jupyter-widgets/base",
      "model_module_version": "1.0.0",
      "model_name": "LayoutModel",
      "state": {
       "width": "250px"
      }
     },
     "4d986d1741cf44a28733736fc41efc75": {
      "model_module": "@jupyter-widgets/controls",
      "model_module_version": "1.2.0",
      "model_name": "DescriptionStyleModel",
      "state": {
       "description_width": ""
      }
     },
     "4dac5f9a54a84d8390391e0298e62eb1": {
      "model_module": "@jupyter-widgets/base",
      "model_module_version": "1.0.0",
      "model_name": "LayoutModel",
      "state": {}
     },
     "4db43c58b5dd46b1acfc2681216876d5": {
      "model_module": "@jupyter-widgets/controls",
      "model_module_version": "1.2.0",
      "model_name": "ButtonStyleModel",
      "state": {}
     },
     "4df800d490ed4aa9b6621474ccd7154e": {
      "model_module": "@jupyter-widgets/controls",
      "model_module_version": "1.2.0",
      "model_name": "ButtonStyleModel",
      "state": {}
     },
     "4e34e16a008948c882f1977f613d72e3": {
      "model_module": "@jupyter-widgets/base",
      "model_module_version": "1.0.0",
      "model_name": "LayoutModel",
      "state": {}
     },
     "4e628bda4c7d408588607c6e04dc5401": {
      "model_module": "@jupyter-widgets/base",
      "model_module_version": "1.0.0",
      "model_name": "LayoutModel",
      "state": {
       "width": "600px"
      }
     },
     "4e8f36d1f0c64c60bf64e6f96af698a5": {
      "model_module": "@jupyter-widgets/controls",
      "model_module_version": "1.2.0",
      "model_name": "DescriptionStyleModel",
      "state": {
       "description_width": ""
      }
     },
     "4ea03b40591240c3b38abe74b9066dce": {
      "model_module": "@jupyter-widgets/controls",
      "model_module_version": "1.2.0",
      "model_name": "ButtonStyleModel",
      "state": {}
     },
     "4ecfcacd096349149067bffd9d64d54d": {
      "model_module": "@jupyter-widgets/base",
      "model_module_version": "1.0.0",
      "model_name": "LayoutModel",
      "state": {
       "justify_content": "center"
      }
     },
     "4f0d2b50ea614009ad124deabe29a7cf": {
      "model_module": "@jupyter-widgets/controls",
      "model_module_version": "1.2.0",
      "model_name": "DescriptionStyleModel",
      "state": {
       "description_width": ""
      }
     },
     "4f4bda21529f4ee684476a2a3126396e": {
      "model_module": "@jupyter-widgets/base",
      "model_module_version": "1.0.0",
      "model_name": "LayoutModel",
      "state": {
       "justify_content": "center"
      }
     },
     "4f84ea563cae4e11b0ac782b73398bbe": {
      "model_module": "@jupyter-widgets/base",
      "model_module_version": "1.0.0",
      "model_name": "LayoutModel",
      "state": {}
     },
     "4fae7a508b5d445d90f493b308b978ac": {
      "model_module": "@jupyter-widgets/controls",
      "model_module_version": "1.2.0",
      "model_name": "ButtonModel",
      "state": {
       "description": "Shift",
       "layout": "IPY_MODEL_c01f3d6ab473476ea7248fc12e5cc96f",
       "style": "IPY_MODEL_f38d6ff7a12644b5bcd04a9bab64f3a7"
      }
     },
     "500abdc446ff40fcaece7c23668f1664": {
      "model_module": "@jupyter-widgets/base",
      "model_module_version": "1.0.0",
      "model_name": "LayoutModel",
      "state": {
       "width": "250px"
      }
     },
     "50151f00cfe24886a59278da50c9c754": {
      "model_module": "@jupyter-widgets/controls",
      "model_module_version": "1.2.0",
      "model_name": "ButtonStyleModel",
      "state": {}
     },
     "5029d6b6a1694d5095a50c226e35dd6d": {
      "model_module": "@jupyter-widgets/controls",
      "model_module_version": "1.2.0",
      "model_name": "DescriptionStyleModel",
      "state": {
       "description_width": "initial"
      }
     },
     "50504fd3794d4535b3c9b674a60dc796": {
      "model_module": "@jupyter-widgets/controls",
      "model_module_version": "1.2.0",
      "model_name": "CheckboxModel",
      "state": {
       "description": "Complete",
       "disabled": false,
       "layout": "IPY_MODEL_b164c46d100f41f4876a9ffacd8778ce",
       "style": "IPY_MODEL_e5b29ba96ae24c9f826353a43f8ec3a6",
       "value": false
      }
     },
     "507a737391314346a1da14815537b4fa": {
      "model_module": "@jupyter-widgets/controls",
      "model_module_version": "1.2.0",
      "model_name": "ButtonStyleModel",
      "state": {}
     },
     "5090141166f5452b8167b4bd8f69b405": {
      "model_module": "@jupyter-widgets/controls",
      "model_module_version": "1.2.0",
      "model_name": "CheckboxModel",
      "state": {
       "description": "Reduce",
       "disabled": false,
       "layout": "IPY_MODEL_9277f96c85f64df7af75e7596d96dd32",
       "style": "IPY_MODEL_9ba1f03263734a6eaf112c56c4aef08d",
       "value": false
      }
     },
     "5107759598094c1f9098d0ce7112204d": {
      "model_module": "@jupyter-widgets/controls",
      "model_module_version": "1.2.0",
      "model_name": "HBoxModel",
      "state": {
       "children": [
        "IPY_MODEL_f468440ebcde4f1ca8b58aa2e0016e8a",
        "IPY_MODEL_e481cb06fc6446f485f4e32558b803ac"
       ],
       "layout": "IPY_MODEL_791955c8ad9345e6b022f90bb4c4509e"
      }
     },
     "5120dec049254f7ca7347018c28e9be5": {
      "model_module": "@jupyter-widgets/controls",
      "model_module_version": "1.2.0",
      "model_name": "VBoxModel",
      "state": {
       "children": [
        "IPY_MODEL_4bbcb059cd28410c99a64c73c91d2d0e",
        "IPY_MODEL_d5e16b949b584298a1e38195cfe2de09",
        "IPY_MODEL_fa8890de7290499ca5736cba88a093be",
        "IPY_MODEL_f02e4882cc8247df83ae125ff63559ef",
        "IPY_MODEL_2a58f919ae104d7b8e26e5d33eff77a4"
       ],
       "layout": "IPY_MODEL_b7e6e789fb9548beab01ddfe021fc2a4"
      }
     },
     "513110f050fb4d73962562275d743999": {
      "model_module": "@jupyter-widgets/controls",
      "model_module_version": "1.2.0",
      "model_name": "DescriptionStyleModel",
      "state": {
       "description_width": "initial"
      }
     },
     "5193a81363b1406681bcf24187307c08": {
      "model_module": "@jupyter-widgets/controls",
      "model_module_version": "1.2.0",
      "model_name": "ButtonStyleModel",
      "state": {}
     },
     "528fe41f0ac7400a8acce85b6f0b8f57": {
      "model_module": "@jupyter-widgets/controls",
      "model_module_version": "1.2.0",
      "model_name": "DescriptionStyleModel",
      "state": {
       "description_width": ""
      }
     },
     "52dd6b6eb00b41e5bc2f3cb4b474a34f": {
      "model_module": "@jupyter-widgets/base",
      "model_module_version": "1.0.0",
      "model_name": "LayoutModel",
      "state": {
       "justify_content": "center"
      }
     },
     "531b39c5854e41a5a1bb5161fe5d5974": {
      "model_module": "@jupyter-widgets/controls",
      "model_module_version": "1.2.0",
      "model_name": "HBoxModel",
      "state": {
       "children": [
        "IPY_MODEL_964b2dbf013a47e58aed1c92b1a88b05",
        "IPY_MODEL_f1f4e2a936734269acdd71487f122e02"
       ],
       "layout": "IPY_MODEL_da2bc30ae7704fba8c0e3a6acb74cfd5"
      }
     },
     "5407e789a2f44b569136a547ca550de5": {
      "model_module": "@jupyter-widgets/controls",
      "model_module_version": "1.2.0",
      "model_name": "ButtonStyleModel",
      "state": {}
     },
     "546c268508214cf3831d2143c6fc6bf1": {
      "model_module": "@jupyter-widgets/base",
      "model_module_version": "1.0.0",
      "model_name": "LayoutModel",
      "state": {
       "justify_content": "center"
      }
     },
     "54945f1e1bce4729a76aeb86a12fe200": {
      "model_module": "@jupyter-widgets/controls",
      "model_module_version": "1.2.0",
      "model_name": "ButtonModel",
      "state": {
       "description": "Complete",
       "layout": "IPY_MODEL_c712401ef2114537aacf77f04b2d7f62",
       "style": "IPY_MODEL_c4146829867c44d7999d84e530ff5026"
      }
     },
     "54e8c5381a6c4c209fb832d2afe27464": {
      "model_module": "@jupyter-widgets/base",
      "model_module_version": "1.0.0",
      "model_name": "LayoutModel",
      "state": {}
     },
     "55154884bdc1403aa33846ef521103e2": {
      "model_module": "@jupyter-widgets/base",
      "model_module_version": "1.0.0",
      "model_name": "LayoutModel",
      "state": {
       "width": "250px"
      }
     },
     "551baf4f83f0452087cbd94acc4c6165": {
      "model_module": "@jupyter-widgets/controls",
      "model_module_version": "1.2.0",
      "model_name": "CheckboxModel",
      "state": {
       "description": "Scan",
       "disabled": false,
       "layout": "IPY_MODEL_b4b81d5bcdc94e45924f89a79cf18571",
       "style": "IPY_MODEL_3ca6c8dcc7674620a74421d814ee7c40",
       "value": false
      }
     },
     "55232b6df6fb4040b7bf7c627d4c28b6": {
      "model_module": "@jupyter-widgets/controls",
      "model_module_version": "1.2.0",
      "model_name": "HBoxModel",
      "state": {
       "children": [
        "IPY_MODEL_c32e63ac6c824c7188258f2b4fcbe161",
        "IPY_MODEL_9461997108974fd882ebbf7bdef8b189"
       ],
       "layout": "IPY_MODEL_6e467df970eb4e6dbd5852d6916d8eb2"
      }
     },
     "55d41dc95fc0488cb7d876aa4dc1cd6a": {
      "model_module": "@jupyter-widgets/base",
      "model_module_version": "1.0.0",
      "model_name": "LayoutModel",
      "state": {
       "width": "250px"
      }
     },
     "56beeb2d82a74fb2846d7dc51503350b": {
      "model_module": "@jupyter-widgets/base",
      "model_module_version": "1.0.0",
      "model_name": "LayoutModel",
      "state": {
       "width": "250px"
      }
     },
     "56c82376bc7246aaabbea17f8369b1cd": {
      "model_module": "@jupyter-widgets/controls",
      "model_module_version": "1.2.0",
      "model_name": "ButtonStyleModel",
      "state": {}
     },
     "56d59fb25cae4c2b82f53a3a5ed03a0e": {
      "model_module": "@jupyter-widgets/controls",
      "model_module_version": "1.2.0",
      "model_name": "HBoxModel",
      "state": {
       "children": [
        "IPY_MODEL_5a4e29753811411fa0376ebdfc17e29f",
        "IPY_MODEL_1242f887c3e248a4ac790c90b05ccfcc"
       ],
       "layout": "IPY_MODEL_817a839ff0744354b5cc751cf7ca90b2"
      }
     },
     "570f930da5ec49fda180be5fad1c537c": {
      "model_module": "@jupyter-widgets/controls",
      "model_module_version": "1.2.0",
      "model_name": "ButtonStyleModel",
      "state": {}
     },
     "575dcaac7610433da28d512e42103c63": {
      "model_module": "@jupyter-widgets/base",
      "model_module_version": "1.0.0",
      "model_name": "LayoutModel",
      "state": {
       "width": "250px"
      }
     },
     "576531e01910404fbf5b46acb663caf1": {
      "model_module": "@jupyter-widgets/base",
      "model_module_version": "1.0.0",
      "model_name": "LayoutModel",
      "state": {}
     },
     "576f6431ffd7456daf7573c4fa69c05e": {
      "model_module": "@jupyter-widgets/controls",
      "model_module_version": "1.2.0",
      "model_name": "ButtonModel",
      "state": {
       "description": "Complete",
       "layout": "IPY_MODEL_c4a0b9186f3643a8959d726a4c87e90c",
       "style": "IPY_MODEL_6794c1658d8743b8a4ef4323e49becb5"
      }
     },
     "577cc3ac06fd4111a1d348b1f8ef1469": {
      "model_module": "@jupyter-widgets/controls",
      "model_module_version": "1.2.0",
      "model_name": "ButtonModel",
      "state": {
       "description": "Shift",
       "layout": "IPY_MODEL_81ef7d436dad43bba49d679e8afe52b2",
       "style": "IPY_MODEL_ed9a1541c7dd485bab2454bcb0fbbd91"
      }
     },
     "579404e892a84f7ea13ea4fc6a4fca4e": {
      "model_module": "@jupyter-widgets/base",
      "model_module_version": "1.0.0",
      "model_name": "LayoutModel",
      "state": {}
     },
     "57dd7dd5777d4d418b9161431ee8052a": {
      "model_module": "@jupyter-widgets/controls",
      "model_module_version": "1.2.0",
      "model_name": "HBoxModel",
      "state": {
       "children": [
        "IPY_MODEL_bacca5a205e14321ac6461a18f6af5c8",
        "IPY_MODEL_64555fae060d4dbe81c7c0dcf96380c8"
       ],
       "layout": "IPY_MODEL_c1a8a1b81e2d4c5ab5b260077eb2e238"
      }
     },
     "5870a4b7d2f34f478766ef3e863cfded": {
      "model_module": "@jupyter-widgets/base",
      "model_module_version": "1.0.0",
      "model_name": "LayoutModel",
      "state": {
       "width": "250px"
      }
     },
     "58a1b9665de449c99e8c1ffe82c8b9ed": {
      "model_module": "@jupyter-widgets/controls",
      "model_module_version": "1.2.0",
      "model_name": "HTMLModel",
      "state": {
       "layout": "IPY_MODEL_d9da488b70a8441a9f4de09b25086748",
       "style": "IPY_MODEL_f24c6f4ba9a9492faa3a24d3878d17d6",
       "value": "<h4 style=\"font-size:14px;\">Welche Operation folgt als nächstes?</h4>"
      }
     },
     "58a74a959ea646218b5dc3a348fccc08": {
      "model_module": "@jupyter-widgets/base",
      "model_module_version": "1.0.0",
      "model_name": "LayoutModel",
      "state": {
       "width": "250px"
      }
     },
     "58b8e12851ab4285ae7211726c17be2d": {
      "model_module": "@jupyter-widgets/controls",
      "model_module_version": "1.2.0",
      "model_name": "DescriptionStyleModel",
      "state": {
       "description_width": "initial"
      }
     },
     "59093dfff718433cbfe55b396792339e": {
      "model_module": "@jupyter-widgets/controls",
      "model_module_version": "1.2.0",
      "model_name": "ButtonModel",
      "state": {
       "description": "Reduce",
       "layout": "IPY_MODEL_0ccd6357ff654c5aa41b2abe14195284",
       "style": "IPY_MODEL_dc6ae8b4c9364640a7365ebf206c67e0"
      }
     },
     "592e6f0ca146439a924352d935800c45": {
      "model_module": "@jupyter-widgets/controls",
      "model_module_version": "1.2.0",
      "model_name": "HBoxModel",
      "state": {
       "children": [
        "IPY_MODEL_7fb3ecdc11f1420c96d0d488317b02b7",
        "IPY_MODEL_e4824b3676cc45a4bf27354c5795d84e"
       ],
       "layout": "IPY_MODEL_3104355bac2246dcb4bfbf5d23f02c82"
      }
     },
     "59478daa06d34c55bc3def8b250d16e8": {
      "model_module": "@jupyter-widgets/controls",
      "model_module_version": "1.2.0",
      "model_name": "ButtonModel",
      "state": {
       "description": "Shift",
       "layout": "IPY_MODEL_764000de0f094eea871d4db33da621e6",
       "style": "IPY_MODEL_f685a42b7a294a5494456dc883fc1e63"
      }
     },
     "59b937f60e514b0aa2c4179d4d8441b4": {
      "model_module": "@jupyter-widgets/base",
      "model_module_version": "1.0.0",
      "model_name": "LayoutModel",
      "state": {
       "width": "250px"
      }
     },
     "59f498ecfd4f452f9156c8dc71a5ecaa": {
      "model_module": "@jupyter-widgets/controls",
      "model_module_version": "1.2.0",
      "model_name": "ButtonModel",
      "state": {
       "description": "Keine der Alternativen",
       "layout": "IPY_MODEL_0b5cd9a36f6445d39ac72a088189c88b",
       "style": "IPY_MODEL_d8bc7585e8eb4356b196f488ab6a2d22"
      }
     },
     "5a2e18cb8bc24f08a7487f1f82325b24": {
      "model_module": "@jupyter-widgets/base",
      "model_module_version": "1.0.0",
      "model_name": "LayoutModel",
      "state": {}
     },
     "5a4e29753811411fa0376ebdfc17e29f": {
      "model_module": "@jupyter-widgets/controls",
      "model_module_version": "1.2.0",
      "model_name": "ButtonModel",
      "state": {
       "description": "Complete",
       "layout": "IPY_MODEL_c8679f04cc0c4a9b9a88961d663b78ed",
       "style": "IPY_MODEL_08e13f0a8a264735a59145b9c85143f5"
      }
     },
     "5a939ac436ac424d892abc024531e524": {
      "model_module": "@jupyter-widgets/base",
      "model_module_version": "1.0.0",
      "model_name": "LayoutModel",
      "state": {}
     },
     "5abc9e771ddf490fb8dc5f1c8e14f50c": {
      "model_module": "@jupyter-widgets/controls",
      "model_module_version": "1.2.0",
      "model_name": "HTMLModel",
      "state": {
       "layout": "IPY_MODEL_d2b4dceec0024c40a66f66d1d0aff4af",
       "style": "IPY_MODEL_f1335ca984644c2b9e3b36cdb761e52c",
       "value": "<i>Wählen Sie die <ins>eine</ins> korrekte Antwort aus: </i>"
      }
     },
     "5b0f1e9e88e141f78246f9045b43f6a1": {
      "model_module": "@jupyter-widgets/controls",
      "model_module_version": "1.2.0",
      "model_name": "HTMLModel",
      "state": {
       "layout": "IPY_MODEL_a7a2ce9258b546df97e8e11f291e9483",
       "style": "IPY_MODEL_a76e0a4065c04fea81b34d83dc9d50e0",
       "value": "<h4 style=\"font-size:14px;\">Welche Operation folgt als nächstes?</h4>"
      }
     },
     "5b21488e112e45d3977c1768298957c4": {
      "model_module": "@jupyter-widgets/base",
      "model_module_version": "1.0.0",
      "model_name": "LayoutModel",
      "state": {
       "justify_content": "center"
      }
     },
     "5b886c45237748f1bce61af37ee0db79": {
      "model_module": "@jupyter-widgets/base",
      "model_module_version": "1.0.0",
      "model_name": "LayoutModel",
      "state": {}
     },
     "5b8a4bfc19aa49db80924464ee029883": {
      "model_module": "@jupyter-widgets/controls",
      "model_module_version": "1.2.0",
      "model_name": "DescriptionStyleModel",
      "state": {
       "description_width": ""
      }
     },
     "5b9fb336e03543b7bc9934bd736c0c94": {
      "model_module": "@jupyter-widgets/controls",
      "model_module_version": "1.2.0",
      "model_name": "ButtonStyleModel",
      "state": {}
     },
     "5c0eb46b9cff4c41a98dfbe63b9e4acc": {
      "model_module": "@jupyter-widgets/controls",
      "model_module_version": "1.2.0",
      "model_name": "HBoxModel",
      "state": {
       "children": [
        "IPY_MODEL_abd95d6b415e485b90de8968676206d8"
       ],
       "layout": "IPY_MODEL_84fe090079d74964a929cdefbe06147b"
      }
     },
     "5c147f7923a44c728577a31e1ab7725a": {
      "model_module": "@jupyter-widgets/controls",
      "model_module_version": "1.2.0",
      "model_name": "ButtonModel",
      "state": {
       "description": "Predict",
       "layout": "IPY_MODEL_eea9d2881496420bb09372efee7959e4",
       "style": "IPY_MODEL_7d5a36d580ee4edd8af6b2c2a32e132d"
      }
     },
     "5c89bbbcf669444db6f36bd472decbfa": {
      "model_module": "@jupyter-widgets/controls",
      "model_module_version": "1.2.0",
      "model_name": "DescriptionStyleModel",
      "state": {
       "description_width": "initial"
      }
     },
     "5cab0822f4a44dd0a3d50577db640a17": {
      "model_module": "@jupyter-widgets/controls",
      "model_module_version": "1.2.0",
      "model_name": "ButtonStyleModel",
      "state": {}
     },
     "5d1a5c36c732463aadc39bef280b8cb9": {
      "model_module": "@jupyter-widgets/base",
      "model_module_version": "1.0.0",
      "model_name": "LayoutModel",
      "state": {
       "width": "250px"
      }
     },
     "5d1f396b137b41fa97dcf7b34dc6149a": {
      "model_module": "@jupyter-widgets/base",
      "model_module_version": "1.0.0",
      "model_name": "LayoutModel",
      "state": {
       "justify_content": "center"
      }
     },
     "5d44b03b88c2482990765826ac7b1370": {
      "model_module": "@jupyter-widgets/base",
      "model_module_version": "1.0.0",
      "model_name": "LayoutModel",
      "state": {}
     },
     "5d4be78a45784ace871a314f4822eed4": {
      "model_module": "@jupyter-widgets/controls",
      "model_module_version": "1.2.0",
      "model_name": "ButtonModel",
      "state": {
       "description": "Earley",
       "layout": "IPY_MODEL_1554a03f34444ea4b29fbf5770b63d86",
       "style": "IPY_MODEL_751a2adbd617423d8ed76d1f7da9a718"
      }
     },
     "5d7b705b108642f7a990730b6a1b267b": {
      "model_module": "@jupyter-widgets/controls",
      "model_module_version": "1.2.0",
      "model_name": "HTMLModel",
      "state": {
       "layout": "IPY_MODEL_4ecfcacd096349149067bffd9d64d54d",
       "style": "IPY_MODEL_0da461fa5c8c4e45b062e3220eff2f16",
       "value": "<h4 style=\"font-size:14px;\">Welche Operation folgt als nächstes?</h4>"
      }
     },
     "5dd39ed1199c44b2b93d4b72fd7d4ef5": {
      "model_module": "@jupyter-widgets/controls",
      "model_module_version": "1.2.0",
      "model_name": "ButtonStyleModel",
      "state": {}
     },
     "5e1fbc7a846f42f0ab1795ae15cf38ab": {
      "model_module": "@jupyter-widgets/base",
      "model_module_version": "1.0.0",
      "model_name": "LayoutModel",
      "state": {
       "width": "600px"
      }
     },
     "5e31249afc8b4dc89e02a154284da461": {
      "model_module": "@jupyter-widgets/base",
      "model_module_version": "1.0.0",
      "model_name": "LayoutModel",
      "state": {
       "width": "250px"
      }
     },
     "5e46e9d5405b4cc28bd1d1ee7f96379d": {
      "model_module": "@jupyter-widgets/base",
      "model_module_version": "1.0.0",
      "model_name": "LayoutModel",
      "state": {
       "width": "250px"
      }
     },
     "5e58b745dc034690b61c5764bf34e4ba": {
      "model_module": "@jupyter-widgets/controls",
      "model_module_version": "1.2.0",
      "model_name": "DescriptionStyleModel",
      "state": {
       "description_width": ""
      }
     },
     "5edf18dc938347d1ac46c007ce12454d": {
      "model_module": "@jupyter-widgets/base",
      "model_module_version": "1.0.0",
      "model_name": "LayoutModel",
      "state": {
       "width": "600px"
      }
     },
     "5ee3024d9c844eea9c0470ed3221e402": {
      "model_module": "@jupyter-widgets/controls",
      "model_module_version": "1.2.0",
      "model_name": "CheckboxModel",
      "state": {
       "description": "Shift",
       "disabled": false,
       "layout": "IPY_MODEL_f5a39281fde44a6ca3404fe555bee640",
       "style": "IPY_MODEL_1545970d6b06436ea8e1d9e2c0f54da7",
       "value": false
      }
     },
     "5f0214fb6ba34805ac553918932fb8fc": {
      "model_module": "@jupyter-widgets/base",
      "model_module_version": "1.0.0",
      "model_name": "LayoutModel",
      "state": {}
     },
     "5f4bbe1748ec44168a6e1a08eaf8144b": {
      "model_module": "@jupyter-widgets/controls",
      "model_module_version": "1.2.0",
      "model_name": "ButtonStyleModel",
      "state": {
       "button_color": "lightgreen"
      }
     },
     "5fb11e3cda3645ca9116cf070cf7ac4c": {
      "model_module": "@jupyter-widgets/base",
      "model_module_version": "1.0.0",
      "model_name": "LayoutModel",
      "state": {
       "width": "600px"
      }
     },
     "606c25a409c94ff4b42a29325d068fd0": {
      "model_module": "@jupyter-widgets/base",
      "model_module_version": "1.0.0",
      "model_name": "LayoutModel",
      "state": {
       "width": "250px"
      }
     },
     "61126926a701471486286cf4915de235": {
      "model_module": "@jupyter-widgets/controls",
      "model_module_version": "1.2.0",
      "model_name": "ButtonModel",
      "state": {
       "description": "Predict",
       "layout": "IPY_MODEL_61b4443875574e0eb469f501659e8e55",
       "style": "IPY_MODEL_704b21db2d014b7392a50aa25d1bc250"
      }
     },
     "6114d45ff4af495aadf921875ea434b4": {
      "model_module": "@jupyter-widgets/controls",
      "model_module_version": "1.2.0",
      "model_name": "HBoxModel",
      "state": {
       "children": [
        "IPY_MODEL_eb3fef0208404be2afcf0e85d8ce030f"
       ],
       "layout": "IPY_MODEL_15c0ff6d330b45c38a1b26f090130662"
      }
     },
     "613f3933cadf4c3199f3ca28e9e5ead0": {
      "model_module": "@jupyter-widgets/controls",
      "model_module_version": "1.2.0",
      "model_name": "VBoxModel",
      "state": {
       "children": [
        "IPY_MODEL_7c127293b682417a954e81e350f53c71",
        "IPY_MODEL_05a48eeed9134f66a7a714040307058e",
        "IPY_MODEL_23d38725bb4e4520a90bfd996f115560",
        "IPY_MODEL_18ddde32d16749e4815837dde44777df",
        "IPY_MODEL_2d65d57dd2bc4a67ba2625f540a63b3a"
       ],
       "layout": "IPY_MODEL_c157dbf7c9cf45cf8f16f5780d29cb6a"
      }
     },
     "61892670bf034fc5b04c0f7ed32b949b": {
      "model_module": "@jupyter-widgets/base",
      "model_module_version": "1.0.0",
      "model_name": "LayoutModel",
      "state": {
       "justify_content": "center"
      }
     },
     "61b4443875574e0eb469f501659e8e55": {
      "model_module": "@jupyter-widgets/base",
      "model_module_version": "1.0.0",
      "model_name": "LayoutModel",
      "state": {
       "width": "250px"
      }
     },
     "61db0ef49f92405db283ab0ec1e659e8": {
      "model_module": "@jupyter-widgets/controls",
      "model_module_version": "1.2.0",
      "model_name": "HBoxModel",
      "state": {
       "children": [
        "IPY_MODEL_ff0e1114455f4474b46fb4fc39765a56"
       ],
       "layout": "IPY_MODEL_f496baa054054f12818160ed19bdfa44"
      }
     },
     "620e0bf14b5a41f49f263b6ec80f5161": {
      "model_module": "@jupyter-widgets/base",
      "model_module_version": "1.0.0",
      "model_name": "LayoutModel",
      "state": {}
     },
     "622475e3f43f4e70816afa8443a8b619": {
      "model_module": "@jupyter-widgets/base",
      "model_module_version": "1.0.0",
      "model_name": "LayoutModel",
      "state": {
       "width": "250px"
      }
     },
     "6227453a2fcf4020b11a82b31235f72e": {
      "model_module": "@jupyter-widgets/base",
      "model_module_version": "1.0.0",
      "model_name": "LayoutModel",
      "state": {}
     },
     "622d4ebb502344868f5ab3cc585c342f": {
      "model_module": "@jupyter-widgets/controls",
      "model_module_version": "1.2.0",
      "model_name": "ButtonModel",
      "state": {
       "description": "Reduce",
       "layout": "IPY_MODEL_8b8c87e2e92b4a9383ec3320a1a79283",
       "style": "IPY_MODEL_b692bdd750854397b7134e8bfc32244d"
      }
     },
     "62863215abd44cba9bdc3080ad4d78f8": {
      "model_module": "@jupyter-widgets/base",
      "model_module_version": "1.0.0",
      "model_name": "LayoutModel",
      "state": {
       "width": "250px"
      }
     },
     "6287cbd59cdc4487af58a6d17d0ea7f6": {
      "model_module": "@jupyter-widgets/base",
      "model_module_version": "1.0.0",
      "model_name": "LayoutModel",
      "state": {}
     },
     "62a1fef22fa04adbb02efbef5fb93e67": {
      "model_module": "@jupyter-widgets/controls",
      "model_module_version": "1.2.0",
      "model_name": "ButtonStyleModel",
      "state": {}
     },
     "62f0702dc5504b779df22f7778e4a8b4": {
      "model_module": "@jupyter-widgets/base",
      "model_module_version": "1.0.0",
      "model_name": "LayoutModel",
      "state": {
       "justify_content": "center"
      }
     },
     "63212d36071449b7815d49b4fcfbf8b7": {
      "model_module": "@jupyter-widgets/controls",
      "model_module_version": "1.2.0",
      "model_name": "HBoxModel",
      "state": {
       "children": [
        "IPY_MODEL_2cf1aeb1c91b45f6974e33a8b221fcc1"
       ],
       "layout": "IPY_MODEL_a935d573dd6644b894b1f9e94307a10c"
      }
     },
     "633d5db219fe48558945bf3ff8d4da7b": {
      "model_module": "@jupyter-widgets/controls",
      "model_module_version": "1.2.0",
      "model_name": "HBoxModel",
      "state": {
       "children": [
        "IPY_MODEL_e059c04e860f456e9c008f198e1de13a",
        "IPY_MODEL_1929d6e48f1145da83f7526d167b05bd"
       ],
       "layout": "IPY_MODEL_d3aae0c264a943529862e90b0b865f04"
      }
     },
     "635024bfed2f41ae94d5f90c7ce5b516": {
      "model_module": "@jupyter-widgets/controls",
      "model_module_version": "1.2.0",
      "model_name": "HTMLModel",
      "state": {
       "layout": "IPY_MODEL_8030eeebb9eb4dcf89c3ef076a34b138",
       "style": "IPY_MODEL_2f8eaf0b6001453fadb00c9a07438b98",
       "value": "<h4 style=\"font-size:14px;\">Um welchen Parser handelt es sich?</h4>"
      }
     },
     "63784ce2329b4cdeb4e444d29827ed2e": {
      "model_module": "@jupyter-widgets/base",
      "model_module_version": "1.0.0",
      "model_name": "LayoutModel",
      "state": {}
     },
     "63e7bb2b1d8c476eb50f23d55e605a1c": {
      "model_module": "@jupyter-widgets/controls",
      "model_module_version": "1.2.0",
      "model_name": "VBoxModel",
      "state": {
       "children": [
        "IPY_MODEL_24bc6a2811ff4c93bd6bdf2ed360cbc7",
        "IPY_MODEL_cad4ac1341364cc69c90d8f0f7b6594c",
        "IPY_MODEL_633d5db219fe48558945bf3ff8d4da7b",
        "IPY_MODEL_0181c6ef302f40139df69d06f93be25c",
        "IPY_MODEL_e674ee031a8f48c38fa169a47f0b6edd"
       ],
       "layout": "IPY_MODEL_fdfdccce7db641b08e3e64ea52a73e61"
      }
     },
     "64555fae060d4dbe81c7c0dcf96380c8": {
      "model_module": "@jupyter-widgets/controls",
      "model_module_version": "1.2.0",
      "model_name": "ButtonModel",
      "state": {
       "description": "Keine der Alternativen",
       "layout": "IPY_MODEL_8d0c49962552452fbc9d539eb2404723",
       "style": "IPY_MODEL_edc59a3dc3ee41abb787379ec4062d25"
      }
     },
     "6455bee5a4bd486f9157773e5cf8768f": {
      "model_module": "@jupyter-widgets/base",
      "model_module_version": "1.0.0",
      "model_name": "LayoutModel",
      "state": {
       "width": "250px"
      }
     },
     "646a6317b54b4b6c944cf02d7b216af6": {
      "model_module": "@jupyter-widgets/controls",
      "model_module_version": "1.2.0",
      "model_name": "ButtonModel",
      "state": {
       "description": "Korrekt?",
       "layout": "IPY_MODEL_0ec3f7512fe347b3afa1f570e4790f6d",
       "style": "IPY_MODEL_49d95da80c224432a24f17a7fb3c55f7"
      }
     },
     "646bbe11186649159194db8f5938e5a7": {
      "model_module": "@jupyter-widgets/base",
      "model_module_version": "1.0.0",
      "model_name": "LayoutModel",
      "state": {
       "justify_content": "center"
      }
     },
     "64805f1c1c3c412e81267343fe1e3d95": {
      "model_module": "@jupyter-widgets/controls",
      "model_module_version": "1.2.0",
      "model_name": "ButtonStyleModel",
      "state": {}
     },
     "648df6f2ced3400688976e8f69d776e5": {
      "model_module": "@jupyter-widgets/controls",
      "model_module_version": "1.2.0",
      "model_name": "ButtonStyleModel",
      "state": {}
     },
     "653c1f596c9c46398c47d1cbfb5ed66e": {
      "model_module": "@jupyter-widgets/controls",
      "model_module_version": "1.2.0",
      "model_name": "HBoxModel",
      "state": {
       "children": [
        "IPY_MODEL_b1bcbbe8038749b1804b5dbb01648dfd"
       ],
       "layout": "IPY_MODEL_2eeb2c42526d405a8b6eaa2c6b076a80"
      }
     },
     "656c474627fc497493961bef609bb3b7": {
      "model_module": "@jupyter-widgets/controls",
      "model_module_version": "1.2.0",
      "model_name": "HTMLModel",
      "state": {
       "layout": "IPY_MODEL_9f1044df599949309740d760f551c8d1",
       "style": "IPY_MODEL_1f5d55a454a447e78091f74fcb4721b7",
       "value": "<h4 style=\"font-size:14px;\">Welche Operation folgt als nächstes?</h4>"
      }
     },
     "657e4fecbe7248b1b16ebe94fb045724": {
      "model_module": "@jupyter-widgets/base",
      "model_module_version": "1.0.0",
      "model_name": "LayoutModel",
      "state": {
       "width": "600px"
      }
     },
     "6597ae663ff74604893a8b448c8a4590": {
      "model_module": "@jupyter-widgets/base",
      "model_module_version": "1.0.0",
      "model_name": "LayoutModel",
      "state": {
       "width": "250px"
      }
     },
     "65b753318ad04129a68e00aee71e8be4": {
      "model_module": "@jupyter-widgets/base",
      "model_module_version": "1.0.0",
      "model_name": "LayoutModel",
      "state": {
       "width": "600px"
      }
     },
     "65ee6c26bc904e529b61f68d42950163": {
      "model_module": "@jupyter-widgets/base",
      "model_module_version": "1.0.0",
      "model_name": "LayoutModel",
      "state": {}
     },
     "661632641dbe4e0b927cead4ac2e24bf": {
      "model_module": "@jupyter-widgets/controls",
      "model_module_version": "1.2.0",
      "model_name": "ButtonStyleModel",
      "state": {}
     },
     "6639fcb90e2c4139b07d6be7f657d502": {
      "model_module": "@jupyter-widgets/controls",
      "model_module_version": "1.2.0",
      "model_name": "ButtonModel",
      "state": {
       "description": "Keine der Alternativen",
       "layout": "IPY_MODEL_a3d80eeafe094b95adefea25aa362434",
       "style": "IPY_MODEL_0fedb9f447f346269bd87fd5ad125d97"
      }
     },
     "6657b34a5fbd4681a29f075acc709099": {
      "model_module": "@jupyter-widgets/controls",
      "model_module_version": "1.2.0",
      "model_name": "ButtonStyleModel",
      "state": {
       "button_color": "lightgreen"
      }
     },
     "665c598df5a742989e9537890c1f16ff": {
      "model_module": "@jupyter-widgets/base",
      "model_module_version": "1.0.0",
      "model_name": "LayoutModel",
      "state": {
       "width": "250px"
      }
     },
     "667683a610c34492b7eb88e7d632c935": {
      "model_module": "@jupyter-widgets/controls",
      "model_module_version": "1.2.0",
      "model_name": "HBoxModel",
      "state": {
       "children": [
        "IPY_MODEL_8dd0ecf06d6f4f48b2fe3a50fc1585cc",
        "IPY_MODEL_a3f18522d2b64269a79c88d4839f6c8d"
       ],
       "layout": "IPY_MODEL_82b820f9e8b24d01b75a0f2145b80b86"
      }
     },
     "66a7577e70364fd9874c9eb0d31a4a31": {
      "model_module": "@jupyter-widgets/controls",
      "model_module_version": "1.2.0",
      "model_name": "ButtonStyleModel",
      "state": {}
     },
     "66b16ef8928546c8b76fc45197c8568f": {
      "model_module": "@jupyter-widgets/base",
      "model_module_version": "1.0.0",
      "model_name": "LayoutModel",
      "state": {
       "width": "250px"
      }
     },
     "672e0be8883f482d9ca7990329006c96": {
      "model_module": "@jupyter-widgets/base",
      "model_module_version": "1.0.0",
      "model_name": "LayoutModel",
      "state": {
       "width": "250px"
      }
     },
     "67357725238b434eb52283627ada6a19": {
      "model_module": "@jupyter-widgets/base",
      "model_module_version": "1.0.0",
      "model_name": "LayoutModel",
      "state": {}
     },
     "6747f5dbc49f4f4886c4c799f2257772": {
      "model_module": "@jupyter-widgets/controls",
      "model_module_version": "1.2.0",
      "model_name": "ButtonStyleModel",
      "state": {}
     },
     "6765affcbe01492fa4f35b1baebeab6f": {
      "model_module": "@jupyter-widgets/base",
      "model_module_version": "1.0.0",
      "model_name": "LayoutModel",
      "state": {}
     },
     "6794c1658d8743b8a4ef4323e49becb5": {
      "model_module": "@jupyter-widgets/controls",
      "model_module_version": "1.2.0",
      "model_name": "ButtonStyleModel",
      "state": {}
     },
     "6804ef7cc77a439c8b40aa329da82a2e": {
      "model_module": "@jupyter-widgets/base",
      "model_module_version": "1.0.0",
      "model_name": "LayoutModel",
      "state": {
       "width": "250px"
      }
     },
     "6805b694fa594e929a765c7d375181d9": {
      "model_module": "@jupyter-widgets/base",
      "model_module_version": "1.0.0",
      "model_name": "LayoutModel",
      "state": {}
     },
     "6853941354b64cbb9c5d59bfbfe4f8b8": {
      "model_module": "@jupyter-widgets/controls",
      "model_module_version": "1.2.0",
      "model_name": "ButtonStyleModel",
      "state": {
       "button_color": "lightgreen"
      }
     },
     "687bca13414a40d3b8272f1cef3177b7": {
      "model_module": "@jupyter-widgets/base",
      "model_module_version": "1.0.0",
      "model_name": "LayoutModel",
      "state": {}
     },
     "68e04f28c0744023a0954f36c4c549ae": {
      "model_module": "@jupyter-widgets/controls",
      "model_module_version": "1.2.0",
      "model_name": "CheckboxModel",
      "state": {
       "description": "Complete",
       "disabled": false,
       "layout": "IPY_MODEL_eaf9c924a03e42788f4945063ef3787a",
       "style": "IPY_MODEL_9567c6e036c8484e84a06d757edf3c0e",
       "value": false
      }
     },
     "695b466d181144a199bd68c86c121599": {
      "model_module": "@jupyter-widgets/controls",
      "model_module_version": "1.2.0",
      "model_name": "HTMLModel",
      "state": {
       "layout": "IPY_MODEL_b0dff703c6864b9aa8474f6887814380",
       "style": "IPY_MODEL_4e8f36d1f0c64c60bf64e6f96af698a5",
       "value": "<i>Markieren Sie <ins>alle</ins> passenden Antworten: </i>"
      }
     },
     "6977d7a468194901afd6b9c441ff2e26": {
      "model_module": "@jupyter-widgets/base",
      "model_module_version": "1.0.0",
      "model_name": "LayoutModel",
      "state": {}
     },
     "697841fb561e42fca5dc00dcd1d1e57b": {
      "model_module": "@jupyter-widgets/controls",
      "model_module_version": "1.2.0",
      "model_name": "ButtonModel",
      "state": {
       "description": "Scan",
       "layout": "IPY_MODEL_1bf08df3602b4870b194bd0a8484173e",
       "style": "IPY_MODEL_1765905975d8414e8dac783aa9517237"
      }
     },
     "697b0e0074fc4c39bb821f6433b5bad3": {
      "model_module": "@jupyter-widgets/controls",
      "model_module_version": "1.2.0",
      "model_name": "ButtonStyleModel",
      "state": {}
     },
     "698c2c3ef071451a9675bc70c2f45084": {
      "model_module": "@jupyter-widgets/base",
      "model_module_version": "1.0.0",
      "model_name": "LayoutModel",
      "state": {
       "justify_content": "center"
      }
     },
     "69baaa780acd4caa8082e7ab50966470": {
      "model_module": "@jupyter-widgets/controls",
      "model_module_version": "1.2.0",
      "model_name": "ButtonModel",
      "state": {
       "description": "Reduce",
       "layout": "IPY_MODEL_3a267c1c5de44ec8b8acaaa735519e76",
       "style": "IPY_MODEL_b8dfb6d30992471fa259991ba98b426d"
      }
     },
     "69c1fa9362c246e095a50890b3af7468": {
      "model_module": "@jupyter-widgets/controls",
      "model_module_version": "1.2.0",
      "model_name": "VBoxModel",
      "state": {
       "children": [
        "IPY_MODEL_e8479e4990c3454fbd9c3b7df0a6199f",
        "IPY_MODEL_9393502559fc499783228a92c9e9db37",
        "IPY_MODEL_4581743050b14824b311a099bd10ca23",
        "IPY_MODEL_f811557531e04a3599c609fba2fdf0e6"
       ],
       "layout": "IPY_MODEL_5a939ac436ac424d892abc024531e524"
      }
     },
     "69c895e95d4843e588898c9d6b053c07": {
      "model_module": "@jupyter-widgets/controls",
      "model_module_version": "1.2.0",
      "model_name": "ButtonStyleModel",
      "state": {}
     },
     "6a03bdf5e686403b872102a5010deeeb": {
      "model_module": "@jupyter-widgets/base",
      "model_module_version": "1.0.0",
      "model_name": "LayoutModel",
      "state": {}
     },
     "6a09dbfbb6bf4358aaa3f52ad971a3a6": {
      "model_module": "@jupyter-widgets/controls",
      "model_module_version": "1.2.0",
      "model_name": "DescriptionStyleModel",
      "state": {
       "description_width": ""
      }
     },
     "6a67e7a8dff04507beb9698cd825c65f": {
      "model_module": "@jupyter-widgets/controls",
      "model_module_version": "1.2.0",
      "model_name": "CheckboxModel",
      "state": {
       "description": "Predict",
       "disabled": false,
       "layout": "IPY_MODEL_5edf18dc938347d1ac46c007ce12454d",
       "style": "IPY_MODEL_863d53bbe8324164a2f777b4b68ed763",
       "value": false
      }
     },
     "6a786f025a31430c80e1b5fc62cb5d30": {
      "model_module": "@jupyter-widgets/base",
      "model_module_version": "1.0.0",
      "model_name": "LayoutModel",
      "state": {
       "justify_content": "center"
      }
     },
     "6a8521000b9f41d6b4c23fa1c69fadd8": {
      "model_module": "@jupyter-widgets/controls",
      "model_module_version": "1.2.0",
      "model_name": "ButtonStyleModel",
      "state": {}
     },
     "6aac360a36e8442691d4cebfb259a566": {
      "model_module": "@jupyter-widgets/controls",
      "model_module_version": "1.2.0",
      "model_name": "ButtonModel",
      "state": {
       "description": "Scan",
       "layout": "IPY_MODEL_88b21743d7d34af28c01fdbfec5ca395",
       "style": "IPY_MODEL_865b11f4813b4e42bf193d38dfaa75cc"
      }
     },
     "6ab2fafd580746bd80dd2b8b9033c707": {
      "model_module": "@jupyter-widgets/base",
      "model_module_version": "1.0.0",
      "model_name": "LayoutModel",
      "state": {
       "width": "250px"
      }
     },
     "6abca2f2eef6490b8a78323ca0b7534f": {
      "model_module": "@jupyter-widgets/controls",
      "model_module_version": "1.2.0",
      "model_name": "ButtonModel",
      "state": {
       "description": "Reduce",
       "layout": "IPY_MODEL_6eab6bf74de84d518d4c7fabc2c0e4b6",
       "style": "IPY_MODEL_b6dadcdb09f64599bd901e0a64e4bb81"
      }
     },
     "6b0602384f564b24847b317bb932a772": {
      "model_module": "@jupyter-widgets/controls",
      "model_module_version": "1.2.0",
      "model_name": "ButtonStyleModel",
      "state": {}
     },
     "6b0dad230414425a8de936410db442ed": {
      "model_module": "@jupyter-widgets/controls",
      "model_module_version": "1.2.0",
      "model_name": "DescriptionStyleModel",
      "state": {
       "description_width": ""
      }
     },
     "6b10026e188a42e4a5e8933ef4246f6a": {
      "model_module": "@jupyter-widgets/base",
      "model_module_version": "1.0.0",
      "model_name": "LayoutModel",
      "state": {}
     },
     "6b4182db58cb4918863171a07dd80861": {
      "model_module": "@jupyter-widgets/controls",
      "model_module_version": "1.2.0",
      "model_name": "ButtonModel",
      "state": {
       "description": "Earley",
       "layout": "IPY_MODEL_fa8f9dc132fc47c1b266a0634bebc7dc",
       "style": "IPY_MODEL_6853941354b64cbb9c5d59bfbfe4f8b8"
      }
     },
     "6b69a4b2f3aa4c0caeb44ede8f54f7f3": {
      "model_module": "@jupyter-widgets/base",
      "model_module_version": "1.0.0",
      "model_name": "LayoutModel",
      "state": {
       "width": "250px"
      }
     },
     "6b6a213b787d401ca4458fd925fed616": {
      "model_module": "@jupyter-widgets/base",
      "model_module_version": "1.0.0",
      "model_name": "LayoutModel",
      "state": {
       "justify_content": "center"
      }
     },
     "6b7c4176ed9640b6a71260456c81084d": {
      "model_module": "@jupyter-widgets/base",
      "model_module_version": "1.0.0",
      "model_name": "LayoutModel",
      "state": {
       "width": "250px"
      }
     },
     "6b9ab193480e472cb27486f1f7f86781": {
      "model_module": "@jupyter-widgets/base",
      "model_module_version": "1.0.0",
      "model_name": "LayoutModel",
      "state": {}
     },
     "6bd7cc0130954b3c8dce113b4029f4c0": {
      "model_module": "@jupyter-widgets/controls",
      "model_module_version": "1.2.0",
      "model_name": "ButtonStyleModel",
      "state": {}
     },
     "6c7736c2af9349d299ab3ddb2bf2a11e": {
      "model_module": "@jupyter-widgets/controls",
      "model_module_version": "1.2.0",
      "model_name": "HBoxModel",
      "state": {
       "children": [
        "IPY_MODEL_119d7753035c45dbb2998417d8e16fa9",
        "IPY_MODEL_d93aa6b3529741ae87078cf29495aa87"
       ],
       "layout": "IPY_MODEL_579404e892a84f7ea13ea4fc6a4fca4e"
      }
     },
     "6c93cda834cb4e1ea4889d2b6d781f2f": {
      "model_module": "@jupyter-widgets/controls",
      "model_module_version": "1.2.0",
      "model_name": "ButtonStyleModel",
      "state": {}
     },
     "6c98777b6b844365829a95ebba66d27a": {
      "model_module": "@jupyter-widgets/base",
      "model_module_version": "1.0.0",
      "model_name": "LayoutModel",
      "state": {
       "width": "250px"
      }
     },
     "6cf3641a94e84f17937aea4f356d1fe7": {
      "model_module": "@jupyter-widgets/base",
      "model_module_version": "1.0.0",
      "model_name": "LayoutModel",
      "state": {
       "width": "250px"
      }
     },
     "6cf9df629e654a54ac8f98cf8552c104": {
      "model_module": "@jupyter-widgets/controls",
      "model_module_version": "1.2.0",
      "model_name": "DescriptionStyleModel",
      "state": {
       "description_width": ""
      }
     },
     "6d96d5bde31d4e57bd7ee031937eedc4": {
      "model_module": "@jupyter-widgets/base",
      "model_module_version": "1.0.0",
      "model_name": "LayoutModel",
      "state": {
       "width": "250px"
      }
     },
     "6dac3d8149a64cbaaeb03cdf36d22511": {
      "model_module": "@jupyter-widgets/base",
      "model_module_version": "1.0.0",
      "model_name": "LayoutModel",
      "state": {}
     },
     "6dcc0699bda64cc2b31d1a564c103ba9": {
      "model_module": "@jupyter-widgets/base",
      "model_module_version": "1.0.0",
      "model_name": "LayoutModel",
      "state": {
       "width": "250px"
      }
     },
     "6e467df970eb4e6dbd5852d6916d8eb2": {
      "model_module": "@jupyter-widgets/base",
      "model_module_version": "1.0.0",
      "model_name": "LayoutModel",
      "state": {}
     },
     "6e6c6507456d43cf8a224778bfabcc19": {
      "model_module": "@jupyter-widgets/base",
      "model_module_version": "1.0.0",
      "model_name": "LayoutModel",
      "state": {
       "width": "250px"
      }
     },
     "6e871baaf61c49a9a9c7467d7f619cd7": {
      "model_module": "@jupyter-widgets/controls",
      "model_module_version": "1.2.0",
      "model_name": "ButtonModel",
      "state": {
       "description": "Recusive Descent",
       "layout": "IPY_MODEL_f70fdc11ef2f41c888e2426740b0cc0b",
       "style": "IPY_MODEL_21851edb1eff494ca56043dd24e15bcd"
      }
     },
     "6eab6bf74de84d518d4c7fabc2c0e4b6": {
      "model_module": "@jupyter-widgets/base",
      "model_module_version": "1.0.0",
      "model_name": "LayoutModel",
      "state": {
       "width": "250px"
      }
     },
     "6eb79559fc3d4c8f90059d7b89b3271b": {
      "model_module": "@jupyter-widgets/controls",
      "model_module_version": "1.2.0",
      "model_name": "ButtonModel",
      "state": {
       "description": "Reduce",
       "layout": "IPY_MODEL_55d41dc95fc0488cb7d876aa4dc1cd6a",
       "style": "IPY_MODEL_2b92de799d71484287e789def5d4edb7"
      }
     },
     "6f41be8674034695987fdeade34cb36c": {
      "model_module": "@jupyter-widgets/controls",
      "model_module_version": "1.2.0",
      "model_name": "DescriptionStyleModel",
      "state": {
       "description_width": ""
      }
     },
     "6f435e4925ce40a7b64b4c63a6040568": {
      "model_module": "@jupyter-widgets/controls",
      "model_module_version": "1.2.0",
      "model_name": "HTMLModel",
      "state": {
       "layout": "IPY_MODEL_915a183f21b64b87ae58fc060c44b7e0",
       "style": "IPY_MODEL_0c12656483974e4cac628caa7c728615",
       "value": "<h4 style=\"font-size:14px;\">Um welchen Parser handelt es sich?</h4>"
      }
     },
     "6fea0159917e4e9c8f4f3e28b284cc60": {
      "model_module": "@jupyter-widgets/base",
      "model_module_version": "1.0.0",
      "model_name": "LayoutModel",
      "state": {
       "width": "600px"
      }
     },
     "701f9ef040e940cf853711c5d994436a": {
      "model_module": "@jupyter-widgets/base",
      "model_module_version": "1.0.0",
      "model_name": "LayoutModel",
      "state": {}
     },
     "704b21db2d014b7392a50aa25d1bc250": {
      "model_module": "@jupyter-widgets/controls",
      "model_module_version": "1.2.0",
      "model_name": "ButtonStyleModel",
      "state": {}
     },
     "705a9c7de7fe4465b5a7da68e583ecb5": {
      "model_module": "@jupyter-widgets/base",
      "model_module_version": "1.0.0",
      "model_name": "LayoutModel",
      "state": {
       "width": "250px"
      }
     },
     "708377f1afb8442fb58a4a43fcd7445f": {
      "model_module": "@jupyter-widgets/base",
      "model_module_version": "1.0.0",
      "model_name": "LayoutModel",
      "state": {
       "width": "250px"
      }
     },
     "708622dca0f44527842c243dca6b8f4c": {
      "model_module": "@jupyter-widgets/controls",
      "model_module_version": "1.2.0",
      "model_name": "ButtonModel",
      "state": {
       "description": "Shift",
       "layout": "IPY_MODEL_d85b2ab3fd9d40a5ab9337e794ebc4e7",
       "style": "IPY_MODEL_06d91875c3c34909ae5225c749703c5b"
      }
     },
     "70947b73d5a44f85afb4ba8541ff9ce6": {
      "model_module": "@jupyter-widgets/controls",
      "model_module_version": "1.2.0",
      "model_name": "ButtonStyleModel",
      "state": {
       "button_color": "lightgreen"
      }
     },
     "70a027ba22b5461ea62b3e9b9b9a184d": {
      "model_module": "@jupyter-widgets/controls",
      "model_module_version": "1.2.0",
      "model_name": "HTMLModel",
      "state": {
       "layout": "IPY_MODEL_75acf8ce2be9493ba5d634cd00fa709b",
       "style": "IPY_MODEL_9416224e24964fa5ae7c25ab8bfc6859",
       "value": "<i>Wählen Sie die <ins>eine</ins> korrekte Antwort aus: </i>"
      }
     },
     "70bb5443895f4683a1eecd0b65ea5456": {
      "model_module": "@jupyter-widgets/base",
      "model_module_version": "1.0.0",
      "model_name": "LayoutModel",
      "state": {
       "justify_content": "center"
      }
     },
     "70c8bad8ee1a4cc3828f2b4ac78779d1": {
      "model_module": "@jupyter-widgets/controls",
      "model_module_version": "1.2.0",
      "model_name": "ButtonModel",
      "state": {
       "description": "Predict",
       "layout": "IPY_MODEL_606c25a409c94ff4b42a29325d068fd0",
       "style": "IPY_MODEL_b5c72e1397004d8f90771a7ea7a5792b"
      }
     },
     "70d7f5aebe584a6d99313f44728ade5b": {
      "model_module": "@jupyter-widgets/base",
      "model_module_version": "1.0.0",
      "model_name": "LayoutModel",
      "state": {
       "width": "250px"
      }
     },
     "7169b05861664892a0cb57c4cbebb161": {
      "model_module": "@jupyter-widgets/controls",
      "model_module_version": "1.2.0",
      "model_name": "HTMLModel",
      "state": {
       "layout": "IPY_MODEL_716ac06b679a450db6b57a7c7290d710",
       "style": "IPY_MODEL_3c72b35f33714471961260d8f56e395c",
       "value": "<i>Wählen Sie die <ins>eine</ins> korrekte Antwort aus: </i>"
      }
     },
     "716ac06b679a450db6b57a7c7290d710": {
      "model_module": "@jupyter-widgets/base",
      "model_module_version": "1.0.0",
      "model_name": "LayoutModel",
      "state": {
       "justify_content": "center"
      }
     },
     "723f5c2e031c42cb94ea38591948e521": {
      "model_module": "@jupyter-widgets/base",
      "model_module_version": "1.0.0",
      "model_name": "LayoutModel",
      "state": {
       "width": "250px"
      }
     },
     "7294f90c06e647168e6ad07f899a59f9": {
      "model_module": "@jupyter-widgets/controls",
      "model_module_version": "1.2.0",
      "model_name": "VBoxModel",
      "state": {
       "children": [
        "IPY_MODEL_68e04f28c0744023a0954f36c4c549ae",
        "IPY_MODEL_c738b2027883428e8b2831c897d5b169",
        "IPY_MODEL_2951718f488d4966aa67ce842de37046",
        "IPY_MODEL_c488c61404194deba1514919a7e70555",
        "IPY_MODEL_98441e21a0824044971cb2eb95eaf15f"
       ],
       "layout": "IPY_MODEL_7809d75d0acb49b2bc6f00107fa95789"
      }
     },
     "72dcbc8b9d444893958111366cfa1f36": {
      "model_module": "@jupyter-widgets/controls",
      "model_module_version": "1.2.0",
      "model_name": "HBoxModel",
      "state": {
       "children": [
        "IPY_MODEL_072ebed4bc8b45a9a75894c3b0e12cc0",
        "IPY_MODEL_d212bb6ddb5e4437a59108a4b8a74dd2"
       ],
       "layout": "IPY_MODEL_e988568e779f4153b5da9d0a27867047"
      }
     },
     "72ea1d2f035d44a6a97a2145ac3ba770": {
      "model_module": "@jupyter-widgets/controls",
      "model_module_version": "1.2.0",
      "model_name": "VBoxModel",
      "state": {
       "children": [
        "IPY_MODEL_58a1b9665de449c99e8c1ffe82c8b9ed",
        "IPY_MODEL_96a18f829e79476f8bf473f5e966b642",
        "IPY_MODEL_77d04737e52241f3a95bb56277be4a80",
        "IPY_MODEL_b593db63a3134319832303759df33b9b",
        "IPY_MODEL_40df1e36b5fe460691d1a60bb37d066e"
       ],
       "layout": "IPY_MODEL_0e1fd712fbbb477aa24f513df8197745"
      }
     },
     "7353363562ec4de29f3f26848c05e847": {
      "model_module": "@jupyter-widgets/controls",
      "model_module_version": "1.2.0",
      "model_name": "HTMLModel",
      "state": {
       "layout": "IPY_MODEL_89e934ca73fe42228f30890b40c5db45",
       "style": "IPY_MODEL_b405bc56831c478692ebed4b356b0043",
       "value": "<i>Wählen Sie die <ins>eine</ins> korrekte Antwort aus: </i>"
      }
     },
     "73849cda1e544cc594f41355c94c9145": {
      "model_module": "@jupyter-widgets/base",
      "model_module_version": "1.0.0",
      "model_name": "LayoutModel",
      "state": {
       "justify_content": "center"
      }
     },
     "7489ccb8d10f40938a24d41c2388403e": {
      "model_module": "@jupyter-widgets/controls",
      "model_module_version": "1.2.0",
      "model_name": "ButtonModel",
      "state": {
       "description": "Keine der Alternativen",
       "layout": "IPY_MODEL_6804ef7cc77a439c8b40aa329da82a2e",
       "style": "IPY_MODEL_c5f0a3087fc1434eacf65e8b9ebab9a1"
      }
     },
     "74c79754c72649bebf76d2ab14afb0a3": {
      "model_module": "@jupyter-widgets/controls",
      "model_module_version": "1.2.0",
      "model_name": "ButtonModel",
      "state": {
       "description": "Scan",
       "layout": "IPY_MODEL_622475e3f43f4e70816afa8443a8b619",
       "style": "IPY_MODEL_5dd39ed1199c44b2b93d4b72fd7d4ef5"
      }
     },
     "751a2adbd617423d8ed76d1f7da9a718": {
      "model_module": "@jupyter-widgets/controls",
      "model_module_version": "1.2.0",
      "model_name": "ButtonStyleModel",
      "state": {}
     },
     "758ad5ec88b5421492a5f8b49f647c7c": {
      "model_module": "@jupyter-widgets/controls",
      "model_module_version": "1.2.0",
      "model_name": "ButtonModel",
      "state": {
       "description": "Scan",
       "layout": "IPY_MODEL_12f5d9c2e5dd41b88ddccb367f13bf36",
       "style": "IPY_MODEL_648df6f2ced3400688976e8f69d776e5"
      }
     },
     "7590b0517ea146978545d7dbea7a05a0": {
      "model_module": "@jupyter-widgets/base",
      "model_module_version": "1.0.0",
      "model_name": "LayoutModel",
      "state": {
       "width": "250px"
      }
     },
     "75acf8ce2be9493ba5d634cd00fa709b": {
      "model_module": "@jupyter-widgets/base",
      "model_module_version": "1.0.0",
      "model_name": "LayoutModel",
      "state": {
       "justify_content": "center"
      }
     },
     "75eed409e6c24226b08a8221d871434d": {
      "model_module": "@jupyter-widgets/base",
      "model_module_version": "1.0.0",
      "model_name": "LayoutModel",
      "state": {
       "justify_content": "center"
      }
     },
     "764000de0f094eea871d4db33da621e6": {
      "model_module": "@jupyter-widgets/base",
      "model_module_version": "1.0.0",
      "model_name": "LayoutModel",
      "state": {
       "width": "250px"
      }
     },
     "76acbdd35605498d948378f641760e34": {
      "model_module": "@jupyter-widgets/base",
      "model_module_version": "1.0.0",
      "model_name": "LayoutModel",
      "state": {
       "width": "250px"
      }
     },
     "76d8bab35ac2462caebbf878bdbbfd3b": {
      "model_module": "@jupyter-widgets/controls",
      "model_module_version": "1.2.0",
      "model_name": "ButtonModel",
      "state": {
       "description": "Complete",
       "layout": "IPY_MODEL_9f57a2a45ab9428f96fb4523fbaf8b54",
       "style": "IPY_MODEL_9c1d05f4c1d34f2f97baeffa551947b6"
      }
     },
     "7738a9839a1e455ab2893ef944bd8365": {
      "model_module": "@jupyter-widgets/controls",
      "model_module_version": "1.2.0",
      "model_name": "ButtonModel",
      "state": {
       "description": "Earley",
       "layout": "IPY_MODEL_2549ec47500d43bf906a84208c27d6e6",
       "style": "IPY_MODEL_deea33cd3b354264a123e4d6357c2fce"
      }
     },
     "779b32cda35f45888d2cefd70338ec92": {
      "model_module": "@jupyter-widgets/controls",
      "model_module_version": "1.2.0",
      "model_name": "ButtonStyleModel",
      "state": {}
     },
     "77d04737e52241f3a95bb56277be4a80": {
      "model_module": "@jupyter-widgets/controls",
      "model_module_version": "1.2.0",
      "model_name": "HBoxModel",
      "state": {
       "children": [
        "IPY_MODEL_54945f1e1bce4729a76aeb86a12fe200",
        "IPY_MODEL_dea59c9e954849979650542c688f40d3"
       ],
       "layout": "IPY_MODEL_ccfa8919227f4c6fb4d12a1e723262a5"
      }
     },
     "77e36d0f8ddf473587231935dab15683": {
      "model_module": "@jupyter-widgets/base",
      "model_module_version": "1.0.0",
      "model_name": "LayoutModel",
      "state": {}
     },
     "77fd2a76806e45009245a21de69cbaae": {
      "model_module": "@jupyter-widgets/base",
      "model_module_version": "1.0.0",
      "model_name": "LayoutModel",
      "state": {}
     },
     "7809d75d0acb49b2bc6f00107fa95789": {
      "model_module": "@jupyter-widgets/base",
      "model_module_version": "1.0.0",
      "model_name": "LayoutModel",
      "state": {}
     },
     "782fab54e9c84afcb405f2f73047d2a4": {
      "model_module": "@jupyter-widgets/base",
      "model_module_version": "1.0.0",
      "model_name": "LayoutModel",
      "state": {
       "justify_content": "center"
      }
     },
     "78a4eaafa04b4ea5b160c6e5f9bbbeac": {
      "model_module": "@jupyter-widgets/controls",
      "model_module_version": "1.2.0",
      "model_name": "ButtonStyleModel",
      "state": {}
     },
     "78a9d2294e2c423db4b02f3d690b7918": {
      "model_module": "@jupyter-widgets/controls",
      "model_module_version": "1.2.0",
      "model_name": "DescriptionStyleModel",
      "state": {
       "description_width": ""
      }
     },
     "791955c8ad9345e6b022f90bb4c4509e": {
      "model_module": "@jupyter-widgets/base",
      "model_module_version": "1.0.0",
      "model_name": "LayoutModel",
      "state": {}
     },
     "792df644b23249a8aab58b663da0c3cf": {
      "model_module": "@jupyter-widgets/controls",
      "model_module_version": "1.2.0",
      "model_name": "HTMLModel",
      "state": {
       "layout": "IPY_MODEL_3890941ad769478f822733bc6b052e01",
       "style": "IPY_MODEL_f6003010c8524d9c8efce926354877f2",
       "value": "<i>Wählen Sie die <ins>eine</ins> korrekte Antwort aus: </i>"
      }
     },
     "79371835eefd487ab0486d5eae84b6a6": {
      "model_module": "@jupyter-widgets/base",
      "model_module_version": "1.0.0",
      "model_name": "LayoutModel",
      "state": {
       "justify_content": "center"
      }
     },
     "79384f716724440aac586d1416169ee4": {
      "model_module": "@jupyter-widgets/controls",
      "model_module_version": "1.2.0",
      "model_name": "ButtonModel",
      "state": {
       "description": "Reduce",
       "layout": "IPY_MODEL_0b1a17be93cd4084afc1f55a2fa3b626",
       "style": "IPY_MODEL_6747f5dbc49f4f4886c4c799f2257772"
      }
     },
     "795f3d37881944ccbdbd76411b6c663a": {
      "model_module": "@jupyter-widgets/controls",
      "model_module_version": "1.2.0",
      "model_name": "ButtonStyleModel",
      "state": {}
     },
     "7a328ce6c67d4a649746e828cfefcb42": {
      "model_module": "@jupyter-widgets/controls",
      "model_module_version": "1.2.0",
      "model_name": "HBoxModel",
      "state": {
       "children": [
        "IPY_MODEL_e23102a2363e41098f0f98bff249eaef",
        "IPY_MODEL_6eb79559fc3d4c8f90059d7b89b3271b"
       ],
       "layout": "IPY_MODEL_9ad8202a467443e58f3c3b9e732ebdf1"
      }
     },
     "7a591cb3cc2e4418910a251cde7c68c7": {
      "model_module": "@jupyter-widgets/base",
      "model_module_version": "1.0.0",
      "model_name": "LayoutModel",
      "state": {
       "justify_content": "center"
      }
     },
     "7a72c73d4ac74b67b738630289f5d20d": {
      "model_module": "@jupyter-widgets/controls",
      "model_module_version": "1.2.0",
      "model_name": "DescriptionStyleModel",
      "state": {
       "description_width": ""
      }
     },
     "7a996264d66f40019e48e0c777a11fe9": {
      "model_module": "@jupyter-widgets/base",
      "model_module_version": "1.0.0",
      "model_name": "LayoutModel",
      "state": {
       "width": "250px"
      }
     },
     "7aa282ea119240d5b75fa50f6f0498ce": {
      "model_module": "@jupyter-widgets/controls",
      "model_module_version": "1.2.0",
      "model_name": "ButtonStyleModel",
      "state": {}
     },
     "7b3059af11c44bdf9099528c13ff985c": {
      "model_module": "@jupyter-widgets/controls",
      "model_module_version": "1.2.0",
      "model_name": "ButtonStyleModel",
      "state": {}
     },
     "7b6b0ac166584e02bc3b80057b6d1251": {
      "model_module": "@jupyter-widgets/base",
      "model_module_version": "1.0.0",
      "model_name": "LayoutModel",
      "state": {
       "width": "250px"
      }
     },
     "7b8a222490f940ad972a758742f74119": {
      "model_module": "@jupyter-widgets/controls",
      "model_module_version": "1.2.0",
      "model_name": "DescriptionStyleModel",
      "state": {
       "description_width": ""
      }
     },
     "7bfbcebe5262402f915d0f06867e3618": {
      "model_module": "@jupyter-widgets/base",
      "model_module_version": "1.0.0",
      "model_name": "LayoutModel",
      "state": {}
     },
     "7c0557f400044b608de2a2c608b86dde": {
      "model_module": "@jupyter-widgets/base",
      "model_module_version": "1.0.0",
      "model_name": "LayoutModel",
      "state": {
       "width": "600px"
      }
     },
     "7c127293b682417a954e81e350f53c71": {
      "model_module": "@jupyter-widgets/controls",
      "model_module_version": "1.2.0",
      "model_name": "HTMLModel",
      "state": {
       "layout": "IPY_MODEL_a3fe1ccb51ca4db1a994ac523b48a792",
       "style": "IPY_MODEL_4f0d2b50ea614009ad124deabe29a7cf",
       "value": "<h4 style=\"font-size:14px;\">Welche Operation folgt als nächstes?</h4>"
      }
     },
     "7c4a60bc2d9344ccb8ba73c34ae45f21": {
      "model_module": "@jupyter-widgets/controls",
      "model_module_version": "1.2.0",
      "model_name": "ButtonModel",
      "state": {
       "description": "Keine der Alternativen",
       "layout": "IPY_MODEL_59b937f60e514b0aa2c4179d4d8441b4",
       "style": "IPY_MODEL_6b0602384f564b24847b317bb932a772"
      }
     },
     "7c52baaa47f446ceace64da6528cd5d9": {
      "model_module": "@jupyter-widgets/controls",
      "model_module_version": "1.2.0",
      "model_name": "HBoxModel",
      "state": {
       "children": [
        "IPY_MODEL_d9a9bb8fd9644060b631bf51830651c8",
        "IPY_MODEL_30bc245257164fd89a4cb041a0ad7b6d"
       ],
       "layout": "IPY_MODEL_9624bf63d5234decaffba7a09167e816"
      }
     },
     "7c7670d4aabd484c8f5af03cd1041563": {
      "model_module": "@jupyter-widgets/base",
      "model_module_version": "1.0.0",
      "model_name": "LayoutModel",
      "state": {
       "width": "250px"
      }
     },
     "7cceaaff5ae84237afdc0f842a98b874": {
      "model_module": "@jupyter-widgets/controls",
      "model_module_version": "1.2.0",
      "model_name": "ButtonStyleModel",
      "state": {}
     },
     "7d0f597dbc6d468f8af1e6fb9d8a6940": {
      "model_module": "@jupyter-widgets/controls",
      "model_module_version": "1.2.0",
      "model_name": "HBoxModel",
      "state": {
       "children": [
        "IPY_MODEL_07d4cef4eec542ba9466a6204f8f4f0e",
        "IPY_MODEL_3de4fc8273204b2aa14646dc6710066c"
       ],
       "layout": "IPY_MODEL_7bfbcebe5262402f915d0f06867e3618"
      }
     },
     "7d20f054398a4329b8314c99ff4ab654": {
      "model_module": "@jupyter-widgets/controls",
      "model_module_version": "1.2.0",
      "model_name": "HBoxModel",
      "state": {
       "children": [
        "IPY_MODEL_69baaa780acd4caa8082e7ab50966470",
        "IPY_MODEL_416e831a69244626b7c032cccedeac44"
       ],
       "layout": "IPY_MODEL_2496dbe926454d62a850b82da20b0842"
      }
     },
     "7d4838d098e147be8b8c39e232f11a3f": {
      "model_module": "@jupyter-widgets/controls",
      "model_module_version": "1.2.0",
      "model_name": "DescriptionStyleModel",
      "state": {
       "description_width": ""
      }
     },
     "7d5a36d580ee4edd8af6b2c2a32e132d": {
      "model_module": "@jupyter-widgets/controls",
      "model_module_version": "1.2.0",
      "model_name": "ButtonStyleModel",
      "state": {}
     },
     "7dc87ac9e1ec432ca7fd7c976d4cce5f": {
      "model_module": "@jupyter-widgets/base",
      "model_module_version": "1.0.0",
      "model_name": "LayoutModel",
      "state": {}
     },
     "7de5bf4247294a8baf4a97e761bd8d6f": {
      "model_module": "@jupyter-widgets/controls",
      "model_module_version": "1.2.0",
      "model_name": "ButtonModel",
      "state": {
       "description": "Recusive Descent",
       "layout": "IPY_MODEL_2e95592b3f3d48f6b29bf8a934d88827",
       "style": "IPY_MODEL_8291e3fbfa4c47f89cd34c624f923f6b"
      }
     },
     "7e3d9599e9554563b1fc1edc2e358726": {
      "model_module": "@jupyter-widgets/base",
      "model_module_version": "1.0.0",
      "model_name": "LayoutModel",
      "state": {
       "justify_content": "center"
      }
     },
     "7e91c0cd3ab643d0bb4b4b79664f9cdb": {
      "model_module": "@jupyter-widgets/base",
      "model_module_version": "1.0.0",
      "model_name": "LayoutModel",
      "state": {
       "width": "250px"
      }
     },
     "7ec6347752864981b6b8f0696e546115": {
      "model_module": "@jupyter-widgets/base",
      "model_module_version": "1.0.0",
      "model_name": "LayoutModel",
      "state": {
       "width": "250px"
      }
     },
     "7f183d0883ea4921b6011c8587bcf57e": {
      "model_module": "@jupyter-widgets/base",
      "model_module_version": "1.0.0",
      "model_name": "LayoutModel",
      "state": {
       "width": "250px"
      }
     },
     "7f31a1b0be794abab4d71746283beaf5": {
      "model_module": "@jupyter-widgets/base",
      "model_module_version": "1.0.0",
      "model_name": "LayoutModel",
      "state": {
       "width": "250px"
      }
     },
     "7fb3ecdc11f1420c96d0d488317b02b7": {
      "model_module": "@jupyter-widgets/controls",
      "model_module_version": "1.2.0",
      "model_name": "ButtonModel",
      "state": {
       "description": "Reduce",
       "layout": "IPY_MODEL_a473801e02764335b0dc2d5a4b1118b3",
       "style": "IPY_MODEL_0b2b38b72acb4a89929803b303ef8865"
      }
     },
     "7fb6e4b3ead244e9a5f777251d93275b": {
      "model_module": "@jupyter-widgets/controls",
      "model_module_version": "1.2.0",
      "model_name": "HBoxModel",
      "state": {
       "children": [
        "IPY_MODEL_8e0c51a3fcaa4ae3bb64cd08b83edffc",
        "IPY_MODEL_be5e37abe1f04a90a5ce07164e907566"
       ],
       "layout": "IPY_MODEL_6b10026e188a42e4a5e8933ef4246f6a"
      }
     },
     "7fdf292977d94530a8e8830a9e6128fa": {
      "model_module": "@jupyter-widgets/controls",
      "model_module_version": "1.2.0",
      "model_name": "ButtonModel",
      "state": {
       "description": "Keine der Alternativen",
       "layout": "IPY_MODEL_22fb944be1fe44bd92ee854354855847",
       "style": "IPY_MODEL_eaa6827fda5244959f560667c3dbb989"
      }
     },
     "803061ef1f2b43679b322f5114baa53c": {
      "model_module": "@jupyter-widgets/base",
      "model_module_version": "1.0.0",
      "model_name": "LayoutModel",
      "state": {}
     },
     "8030eeebb9eb4dcf89c3ef076a34b138": {
      "model_module": "@jupyter-widgets/base",
      "model_module_version": "1.0.0",
      "model_name": "LayoutModel",
      "state": {
       "justify_content": "center"
      }
     },
     "80f3f8b1416d4f619f503f8884281be4": {
      "model_module": "@jupyter-widgets/controls",
      "model_module_version": "1.2.0",
      "model_name": "HBoxModel",
      "state": {
       "children": [
        "IPY_MODEL_c8b850bc39314efaa01ec4245bbda497"
       ],
       "layout": "IPY_MODEL_f905a89ef77f493284a67ff14f7a8834"
      }
     },
     "813bc0fb5398469b925321e11692effb": {
      "model_module": "@jupyter-widgets/controls",
      "model_module_version": "1.2.0",
      "model_name": "ButtonModel",
      "state": {
       "description": "Shift",
       "layout": "IPY_MODEL_0774b2579982445ca5f4579dc42567b2",
       "style": "IPY_MODEL_dd52bbda3eaa456ebceb73fa7481b9be"
      }
     },
     "816620aee0eb414fb88c84e7cdfa8986": {
      "model_module": "@jupyter-widgets/base",
      "model_module_version": "1.0.0",
      "model_name": "LayoutModel",
      "state": {
       "justify_content": "center"
      }
     },
     "817a839ff0744354b5cc751cf7ca90b2": {
      "model_module": "@jupyter-widgets/base",
      "model_module_version": "1.0.0",
      "model_name": "LayoutModel",
      "state": {}
     },
     "819500e9c89b4b5fb8746413b13d1729": {
      "model_module": "@jupyter-widgets/base",
      "model_module_version": "1.0.0",
      "model_name": "LayoutModel",
      "state": {}
     },
     "81a116b0e98f4e12ba3ed3910279b0b2": {
      "model_module": "@jupyter-widgets/controls",
      "model_module_version": "1.2.0",
      "model_name": "ButtonStyleModel",
      "state": {}
     },
     "81aaa8baf1c34e898d14a77b27e2403c": {
      "model_module": "@jupyter-widgets/base",
      "model_module_version": "1.0.0",
      "model_name": "LayoutModel",
      "state": {
       "justify_content": "center"
      }
     },
     "81ef7d436dad43bba49d679e8afe52b2": {
      "model_module": "@jupyter-widgets/base",
      "model_module_version": "1.0.0",
      "model_name": "LayoutModel",
      "state": {
       "width": "250px"
      }
     },
     "8201f05ee93042248a67dfa4c4d8546d": {
      "model_module": "@jupyter-widgets/controls",
      "model_module_version": "1.2.0",
      "model_name": "DescriptionStyleModel",
      "state": {
       "description_width": ""
      }
     },
     "82839f93e7b34e599655451d4a91b20d": {
      "model_module": "@jupyter-widgets/controls",
      "model_module_version": "1.2.0",
      "model_name": "HTMLModel",
      "state": {
       "layout": "IPY_MODEL_2e4418e12851465a9b6dc178b7afadfc",
       "style": "IPY_MODEL_7d4838d098e147be8b8c39e232f11a3f",
       "value": "<h4 style=\"font-size:14px;\">Um welchen Parser handelt es sich?</h4>"
      }
     },
     "82855e26fa434ab99163c967050965ac": {
      "model_module": "@jupyter-widgets/base",
      "model_module_version": "1.0.0",
      "model_name": "LayoutModel",
      "state": {
       "width": "250px"
      }
     },
     "8291e3fbfa4c47f89cd34c624f923f6b": {
      "model_module": "@jupyter-widgets/controls",
      "model_module_version": "1.2.0",
      "model_name": "ButtonStyleModel",
      "state": {}
     },
     "82b820f9e8b24d01b75a0f2145b80b86": {
      "model_module": "@jupyter-widgets/base",
      "model_module_version": "1.0.0",
      "model_name": "LayoutModel",
      "state": {}
     },
     "82bc8b28d65b45a0baf930f2d132dac3": {
      "model_module": "@jupyter-widgets/controls",
      "model_module_version": "1.2.0",
      "model_name": "ButtonStyleModel",
      "state": {}
     },
     "82d42db99ef340dfb610c6bd72469386": {
      "model_module": "@jupyter-widgets/controls",
      "model_module_version": "1.2.0",
      "model_name": "DescriptionStyleModel",
      "state": {
       "description_width": ""
      }
     },
     "839fd41f810d4803bd820e9427a4672d": {
      "model_module": "@jupyter-widgets/controls",
      "model_module_version": "1.2.0",
      "model_name": "HBoxModel",
      "state": {
       "children": [
        "IPY_MODEL_44b6a1f5f4a24e399baa0306ab8534d3"
       ],
       "layout": "IPY_MODEL_6765affcbe01492fa4f35b1baebeab6f"
      }
     },
     "83d1b313544e4430b00b1d3b67b37d8a": {
      "model_module": "@jupyter-widgets/base",
      "model_module_version": "1.0.0",
      "model_name": "LayoutModel",
      "state": {}
     },
     "845ee18d72574ebd9b4e64d107dfde9d": {
      "model_module": "@jupyter-widgets/controls",
      "model_module_version": "1.2.0",
      "model_name": "ButtonModel",
      "state": {
       "description": "Keine der Alternativen",
       "layout": "IPY_MODEL_4039a83539464ea480a7ba1bdb994656",
       "style": "IPY_MODEL_5cab0822f4a44dd0a3d50577db640a17"
      }
     },
     "84fe090079d74964a929cdefbe06147b": {
      "model_module": "@jupyter-widgets/base",
      "model_module_version": "1.0.0",
      "model_name": "LayoutModel",
      "state": {}
     },
     "851734bdcf0e4ce8a15bacee00db18d5": {
      "model_module": "@jupyter-widgets/controls",
      "model_module_version": "1.2.0",
      "model_name": "HTMLModel",
      "state": {
       "layout": "IPY_MODEL_901c1569267440b1be1340271b528b04",
       "style": "IPY_MODEL_4687205598324164ba43aa42b6dec778",
       "value": "<h4 style=\"font-size:14px;\">Welche Operation folgt als nächstes?</h4>"
      }
     },
     "85b2fab6119c473483dba2e8d9055f46": {
      "model_module": "@jupyter-widgets/controls",
      "model_module_version": "1.2.0",
      "model_name": "ButtonModel",
      "state": {
       "description": "Predict",
       "layout": "IPY_MODEL_d5db993642ef475288860ae9808e81e7",
       "style": "IPY_MODEL_e2ec0dd598574c589fc2f36e9fc259ca"
      }
     },
     "85c09085d8064ddbbe5b2202565ff323": {
      "model_module": "@jupyter-widgets/controls",
      "model_module_version": "1.2.0",
      "model_name": "ButtonStyleModel",
      "state": {}
     },
     "863505f5a65b4928b741e3f28a25e71d": {
      "model_module": "@jupyter-widgets/base",
      "model_module_version": "1.0.0",
      "model_name": "LayoutModel",
      "state": {
       "width": "250px"
      }
     },
     "863d53bbe8324164a2f777b4b68ed763": {
      "model_module": "@jupyter-widgets/controls",
      "model_module_version": "1.2.0",
      "model_name": "DescriptionStyleModel",
      "state": {
       "description_width": "initial"
      }
     },
     "865b11f4813b4e42bf193d38dfaa75cc": {
      "model_module": "@jupyter-widgets/controls",
      "model_module_version": "1.2.0",
      "model_name": "ButtonStyleModel",
      "state": {}
     },
     "86725dcc05dd4d2abc33b63b6b45d5b5": {
      "model_module": "@jupyter-widgets/base",
      "model_module_version": "1.0.0",
      "model_name": "LayoutModel",
      "state": {
       "width": "250px"
      }
     },
     "86a76937a89f42daa9ef10a952204e3c": {
      "model_module": "@jupyter-widgets/controls",
      "model_module_version": "1.2.0",
      "model_name": "DescriptionStyleModel",
      "state": {
       "description_width": ""
      }
     },
     "86ae9abae8f94376b4ef6aec473eb017": {
      "model_module": "@jupyter-widgets/controls",
      "model_module_version": "1.2.0",
      "model_name": "ButtonStyleModel",
      "state": {}
     },
     "86c34ab391e044de9b632d51cb2b97a8": {
      "model_module": "@jupyter-widgets/controls",
      "model_module_version": "1.2.0",
      "model_name": "ButtonModel",
      "state": {
       "description": "Reduce",
       "layout": "IPY_MODEL_c796dcd1ed9342eea4e34fa44d9b1a39",
       "style": "IPY_MODEL_3480a18865bd4618b98393ea45dca2d1"
      }
     },
     "86d402c1259047f689551c41e344c845": {
      "model_module": "@jupyter-widgets/base",
      "model_module_version": "1.0.0",
      "model_name": "LayoutModel",
      "state": {}
     },
     "86f4c466f4e14d01bfa7acba1ea259e2": {
      "model_module": "@jupyter-widgets/base",
      "model_module_version": "1.0.0",
      "model_name": "LayoutModel",
      "state": {}
     },
     "8711070a2e43464295f6a2a825f36348": {
      "model_module": "@jupyter-widgets/base",
      "model_module_version": "1.0.0",
      "model_name": "LayoutModel",
      "state": {
       "justify_content": "center"
      }
     },
     "87530b3913b843f6a0dc7eea8a97a282": {
      "model_module": "@jupyter-widgets/base",
      "model_module_version": "1.0.0",
      "model_name": "LayoutModel",
      "state": {}
     },
     "875888d1f4a7477eb3afbb64e8439b2d": {
      "model_module": "@jupyter-widgets/base",
      "model_module_version": "1.0.0",
      "model_name": "LayoutModel",
      "state": {
       "justify_content": "center"
      }
     },
     "8787d793fc8c4ed983c434558639336f": {
      "model_module": "@jupyter-widgets/controls",
      "model_module_version": "1.2.0",
      "model_name": "HBoxModel",
      "state": {
       "children": [
        "IPY_MODEL_e29d17153dc7472bac3d0b03426c46db"
       ],
       "layout": "IPY_MODEL_9d6f9a3c8ddb4ee696cd931119575895"
      }
     },
     "87a6bc0934904f8f899dced66655e63f": {
      "model_module": "@jupyter-widgets/base",
      "model_module_version": "1.0.0",
      "model_name": "LayoutModel",
      "state": {
       "width": "250px"
      }
     },
     "87f35b02753748398246d18d9c08abf5": {
      "model_module": "@jupyter-widgets/controls",
      "model_module_version": "1.2.0",
      "model_name": "ButtonModel",
      "state": {
       "description": "Shift",
       "layout": "IPY_MODEL_981b306011d5417db88918a9a3c2970f",
       "style": "IPY_MODEL_3c8b154ea64c4d6bbcbfd12c97905960"
      }
     },
     "88579cdf84d84c548f21a9d51a89a9d8": {
      "model_module": "@jupyter-widgets/controls",
      "model_module_version": "1.2.0",
      "model_name": "DescriptionStyleModel",
      "state": {
       "description_width": ""
      }
     },
     "885e117ba3a94295814c2b29fab3dcf3": {
      "model_module": "@jupyter-widgets/base",
      "model_module_version": "1.0.0",
      "model_name": "LayoutModel",
      "state": {}
     },
     "88b21743d7d34af28c01fdbfec5ca395": {
      "model_module": "@jupyter-widgets/base",
      "model_module_version": "1.0.0",
      "model_name": "LayoutModel",
      "state": {
       "width": "250px"
      }
     },
     "89676477e3794e6b8a6df20d24b00b1b": {
      "model_module": "@jupyter-widgets/base",
      "model_module_version": "1.0.0",
      "model_name": "LayoutModel",
      "state": {
       "width": "250px"
      }
     },
     "899499512eff4a06a00887fb7455bb2b": {
      "model_module": "@jupyter-widgets/controls",
      "model_module_version": "1.2.0",
      "model_name": "VBoxModel",
      "state": {
       "children": [
        "IPY_MODEL_321cb8028bbd4303a3aa0f9eb3519655",
        "IPY_MODEL_a0debafd7ebf4869bd7e6f768bf8be51",
        "IPY_MODEL_c123cc41f52541d6ba3bf002aaea91e2",
        "IPY_MODEL_7a328ce6c67d4a649746e828cfefcb42",
        "IPY_MODEL_051c6f50e1e343c3a9537c752fd31b50"
       ],
       "layout": "IPY_MODEL_86f4c466f4e14d01bfa7acba1ea259e2"
      }
     },
     "899d06bf7f464b17a270894128b52e02": {
      "model_module": "@jupyter-widgets/base",
      "model_module_version": "1.0.0",
      "model_name": "LayoutModel",
      "state": {}
     },
     "89dd359788ed4682a5268a5db0fa507a": {
      "model_module": "@jupyter-widgets/controls",
      "model_module_version": "1.2.0",
      "model_name": "ButtonStyleModel",
      "state": {}
     },
     "89e934ca73fe42228f30890b40c5db45": {
      "model_module": "@jupyter-widgets/base",
      "model_module_version": "1.0.0",
      "model_name": "LayoutModel",
      "state": {
       "justify_content": "center"
      }
     },
     "89fad49ac967480ba03587fb1dfd320a": {
      "model_module": "@jupyter-widgets/controls",
      "model_module_version": "1.2.0",
      "model_name": "ButtonStyleModel",
      "state": {}
     },
     "8a2a95185d974720b31a520b23b35ed8": {
      "model_module": "@jupyter-widgets/controls",
      "model_module_version": "1.2.0",
      "model_name": "ButtonModel",
      "state": {
       "description": "Scan",
       "layout": "IPY_MODEL_6e6c6507456d43cf8a224778bfabcc19",
       "style": "IPY_MODEL_3fe9dd1af31d4efaa46c687fd096981b"
      }
     },
     "8aba2addc7714a09a48b0be494a8bda4": {
      "model_module": "@jupyter-widgets/base",
      "model_module_version": "1.0.0",
      "model_name": "LayoutModel",
      "state": {
       "width": "250px"
      }
     },
     "8b06083ec1cf484eb981c8a0abcfd704": {
      "model_module": "@jupyter-widgets/controls",
      "model_module_version": "1.2.0",
      "model_name": "VBoxModel",
      "state": {
       "children": [
        "IPY_MODEL_b1e908a400ed4137ae5b5d6e83e904ca",
        "IPY_MODEL_9e4deca74062483085e30079fe2ffc8f",
        "IPY_MODEL_8c05cc8467fd4859a16674d3eaf5d059",
        "IPY_MODEL_8e1b399b54444cbb832f6b82152b537c"
       ],
       "layout": "IPY_MODEL_996f4a7b0ec04d68a26c248a1d1efff5"
      }
     },
     "8b16ff79a657446f9703599469c089ad": {
      "model_module": "@jupyter-widgets/base",
      "model_module_version": "1.0.0",
      "model_name": "LayoutModel",
      "state": {
       "justify_content": "center"
      }
     },
     "8b18eeb88291476db9905ea15a602345": {
      "model_module": "@jupyter-widgets/controls",
      "model_module_version": "1.2.0",
      "model_name": "ButtonModel",
      "state": {
       "description": "Complete",
       "layout": "IPY_MODEL_e35304f6429f4b098d329ba29f1cfc34",
       "style": "IPY_MODEL_13c72031d22d4140984c2bdf08491f77"
      }
     },
     "8b7a09f14ac54a0c89b44197e4530962": {
      "model_module": "@jupyter-widgets/controls",
      "model_module_version": "1.2.0",
      "model_name": "HBoxModel",
      "state": {
       "children": [
        "IPY_MODEL_697841fb561e42fca5dc00dcd1d1e57b",
        "IPY_MODEL_4fae7a508b5d445d90f493b308b978ac"
       ],
       "layout": "IPY_MODEL_b1957af6964f4d79b3d102f66d7972c5"
      }
     },
     "8b8c87e2e92b4a9383ec3320a1a79283": {
      "model_module": "@jupyter-widgets/base",
      "model_module_version": "1.0.0",
      "model_name": "LayoutModel",
      "state": {
       "width": "250px"
      }
     },
     "8c05cc8467fd4859a16674d3eaf5d059": {
      "model_module": "@jupyter-widgets/controls",
      "model_module_version": "1.2.0",
      "model_name": "HBoxModel",
      "state": {
       "children": [
        "IPY_MODEL_7738a9839a1e455ab2893ef944bd8365",
        "IPY_MODEL_f618bc682d9e4892bd06bcf2ba4f593d"
       ],
       "layout": "IPY_MODEL_04a8957bc8cb4ffea981ac5be2406b2b"
      }
     },
     "8c0982609f384e7eb91c2d3aa8e81e25": {
      "model_module": "@jupyter-widgets/controls",
      "model_module_version": "1.2.0",
      "model_name": "HTMLModel",
      "state": {
       "layout": "IPY_MODEL_1624804ebd3a43639555e8fca807f559",
       "style": "IPY_MODEL_3a8f864e55224a61978bc96fbcac9867",
       "value": "<h4 style=\"font-size:14px;\">Welche Operation folgt als nächstes?</h4>"
      }
     },
     "8c22da5179dc4f4a912bdb215c9ad42f": {
      "model_module": "@jupyter-widgets/base",
      "model_module_version": "1.0.0",
      "model_name": "LayoutModel",
      "state": {
       "width": "250px"
      }
     },
     "8c2677467f5f435e8b776a11c3580a43": {
      "model_module": "@jupyter-widgets/controls",
      "model_module_version": "1.2.0",
      "model_name": "ButtonStyleModel",
      "state": {}
     },
     "8d0c49962552452fbc9d539eb2404723": {
      "model_module": "@jupyter-widgets/base",
      "model_module_version": "1.0.0",
      "model_name": "LayoutModel",
      "state": {
       "width": "250px"
      }
     },
     "8d6ef9274ac34b68805577ef76c23bd0": {
      "model_module": "@jupyter-widgets/base",
      "model_module_version": "1.0.0",
      "model_name": "LayoutModel",
      "state": {}
     },
     "8d98539b14a74e0cb578c35451308514": {
      "model_module": "@jupyter-widgets/base",
      "model_module_version": "1.0.0",
      "model_name": "LayoutModel",
      "state": {
       "width": "600px"
      }
     },
     "8da630bdb00348638623c73aca19a5b0": {
      "model_module": "@jupyter-widgets/base",
      "model_module_version": "1.0.0",
      "model_name": "LayoutModel",
      "state": {
       "justify_content": "center"
      }
     },
     "8dd0ecf06d6f4f48b2fe3a50fc1585cc": {
      "model_module": "@jupyter-widgets/controls",
      "model_module_version": "1.2.0",
      "model_name": "ButtonModel",
      "state": {
       "description": "Predict",
       "layout": "IPY_MODEL_ef70dbeb922f47eba9928d789fcecf5e",
       "style": "IPY_MODEL_570f930da5ec49fda180be5fad1c537c"
      }
     },
     "8e0c51a3fcaa4ae3bb64cd08b83edffc": {
      "model_module": "@jupyter-widgets/controls",
      "model_module_version": "1.2.0",
      "model_name": "ButtonModel",
      "state": {
       "description": "Predict",
       "layout": "IPY_MODEL_56beeb2d82a74fb2846d7dc51503350b",
       "style": "IPY_MODEL_f09a593fad5b4fcab7598eaf0f346e41"
      }
     },
     "8e1b399b54444cbb832f6b82152b537c": {
      "model_module": "@jupyter-widgets/controls",
      "model_module_version": "1.2.0",
      "model_name": "HBoxModel",
      "state": {
       "children": [
        "IPY_MODEL_b679fc3920114bceb42d348a673f755a"
       ],
       "layout": "IPY_MODEL_454cb2deb11f48d18f73363ac9e9de20"
      }
     },
     "8e3b84d045124639a86bdc0589a383ba": {
      "model_module": "@jupyter-widgets/controls",
      "model_module_version": "1.2.0",
      "model_name": "VBoxModel",
      "state": {
       "children": [
        "IPY_MODEL_851734bdcf0e4ce8a15bacee00db18d5",
        "IPY_MODEL_1d1f5d3b393646d18c1579471d331610",
        "IPY_MODEL_fcb3f47dbb53405bb3b483a98079d02c",
        "IPY_MODEL_667683a610c34492b7eb88e7d632c935",
        "IPY_MODEL_5107759598094c1f9098d0ce7112204d"
       ],
       "layout": "IPY_MODEL_cd33822c22d14fdaa714e6e87e677d29"
      }
     },
     "8e50f6b3f6c14031bcae2efa18e3a0c9": {
      "model_module": "@jupyter-widgets/base",
      "model_module_version": "1.0.0",
      "model_name": "LayoutModel",
      "state": {}
     },
     "8e5e7ff0e1e5417f8f820fa1603b9611": {
      "model_module": "@jupyter-widgets/base",
      "model_module_version": "1.0.0",
      "model_name": "LayoutModel",
      "state": {
       "width": "250px"
      }
     },
     "8e78a817b39b450280b06374ae2226ac": {
      "model_module": "@jupyter-widgets/base",
      "model_module_version": "1.0.0",
      "model_name": "LayoutModel",
      "state": {
       "width": "250px"
      }
     },
     "8ea55c7f2f5641f4ac3b06e4b28f8515": {
      "model_module": "@jupyter-widgets/controls",
      "model_module_version": "1.2.0",
      "model_name": "HTMLModel",
      "state": {
       "layout": "IPY_MODEL_cc8aa1b79b304558b09a9499c1813605",
       "style": "IPY_MODEL_88579cdf84d84c548f21a9d51a89a9d8",
       "value": "<i>Markieren Sie <ins>alle</ins> passenden Antworten: </i>"
      }
     },
     "8eadfa8f0fe24e4e912adb04bbd475cc": {
      "model_module": "@jupyter-widgets/base",
      "model_module_version": "1.0.0",
      "model_name": "LayoutModel",
      "state": {
       "width": "250px"
      }
     },
     "8f04d130a6bc402e9af2c5feb207c2d4": {
      "model_module": "@jupyter-widgets/base",
      "model_module_version": "1.0.0",
      "model_name": "LayoutModel",
      "state": {}
     },
     "8f6474a4db9e4944bb5756adc9663dd6": {
      "model_module": "@jupyter-widgets/controls",
      "model_module_version": "1.2.0",
      "model_name": "ButtonModel",
      "state": {
       "description": "Complete",
       "layout": "IPY_MODEL_1bf662a8effc47a29c16b5f4efbaea31",
       "style": "IPY_MODEL_2f46a299effb4893ac74d0120ed2db69"
      }
     },
     "8f8b78fc4e994d89ac364c5d8017b880": {
      "model_module": "@jupyter-widgets/controls",
      "model_module_version": "1.2.0",
      "model_name": "ButtonStyleModel",
      "state": {}
     },
     "8f8e069587d742e0b556c3d94d809a09": {
      "model_module": "@jupyter-widgets/controls",
      "model_module_version": "1.2.0",
      "model_name": "HBoxModel",
      "state": {
       "children": [
        "IPY_MODEL_3ee558ab04514bf58dac0d9d868f5448"
       ],
       "layout": "IPY_MODEL_8e50f6b3f6c14031bcae2efa18e3a0c9"
      }
     },
     "8ffd29defc894274bf1e119b593f9c62": {
      "model_module": "@jupyter-widgets/controls",
      "model_module_version": "1.2.0",
      "model_name": "HTMLModel",
      "state": {
       "layout": "IPY_MODEL_433d63d3de0840e4b7e44b2a90cf7381",
       "style": "IPY_MODEL_6b0dad230414425a8de936410db442ed",
       "value": "<h4 style=\"font-size:14px;\">Welche Operationen hat der Earley Parser?</h4>"
      }
     },
     "901c1569267440b1be1340271b528b04": {
      "model_module": "@jupyter-widgets/base",
      "model_module_version": "1.0.0",
      "model_name": "LayoutModel",
      "state": {
       "justify_content": "center"
      }
     },
     "906a9bab64d94365b218a70247ae9f10": {
      "model_module": "@jupyter-widgets/base",
      "model_module_version": "1.0.0",
      "model_name": "LayoutModel",
      "state": {
       "width": "250px"
      }
     },
     "90746c09d9d741068366ad8557ce92b4": {
      "model_module": "@jupyter-widgets/base",
      "model_module_version": "1.0.0",
      "model_name": "LayoutModel",
      "state": {}
     },
     "90cc47f15ae5403595cd7bdfdf8f9027": {
      "model_module": "@jupyter-widgets/base",
      "model_module_version": "1.0.0",
      "model_name": "LayoutModel",
      "state": {
       "width": "250px"
      }
     },
     "90cfb3f96591416791bb638223055538": {
      "model_module": "@jupyter-widgets/base",
      "model_module_version": "1.0.0",
      "model_name": "LayoutModel",
      "state": {
       "justify_content": "center"
      }
     },
     "9153fae2ce0f47c59d884b76fcd78417": {
      "model_module": "@jupyter-widgets/base",
      "model_module_version": "1.0.0",
      "model_name": "LayoutModel",
      "state": {
       "width": "250px"
      }
     },
     "915a183f21b64b87ae58fc060c44b7e0": {
      "model_module": "@jupyter-widgets/base",
      "model_module_version": "1.0.0",
      "model_name": "LayoutModel",
      "state": {
       "justify_content": "center"
      }
     },
     "91bf9538680c43499986ac90812d3fe8": {
      "model_module": "@jupyter-widgets/controls",
      "model_module_version": "1.2.0",
      "model_name": "ButtonModel",
      "state": {
       "description": "Scan",
       "layout": "IPY_MODEL_8c22da5179dc4f4a912bdb215c9ad42f",
       "style": "IPY_MODEL_0a690e4783794f08a66ed7ad7be82b49"
      }
     },
     "91ee9423029f4742b5b834c842c219c9": {
      "model_module": "@jupyter-widgets/controls",
      "model_module_version": "1.2.0",
      "model_name": "ButtonStyleModel",
      "state": {}
     },
     "91ff30d6799949c58078e94a244f9d6a": {
      "model_module": "@jupyter-widgets/controls",
      "model_module_version": "1.2.0",
      "model_name": "VBoxModel",
      "state": {
       "children": [
        "IPY_MODEL_09d32ffdd1ab4f7da5c630de1deec26f",
        "IPY_MODEL_456edda4dfbb4818b1ac04eee426f991",
        "IPY_MODEL_38e090c22b37438cba2e1fd7f6b40e03",
        "IPY_MODEL_9c7a1662e74a424aa8fb588d123ab4e3",
        "IPY_MODEL_a8f394a0b99f4c10a057c8d5393f42c8"
       ],
       "layout": "IPY_MODEL_d1b9f13e8e1740a3ba6ee30f13a3fe10"
      }
     },
     "9216030b5e5e47daa39aae2f184b4165": {
      "model_module": "@jupyter-widgets/controls",
      "model_module_version": "1.2.0",
      "model_name": "ButtonStyleModel",
      "state": {}
     },
     "9223136b70cd432fa506a6b31203378a": {
      "model_module": "@jupyter-widgets/controls",
      "model_module_version": "1.2.0",
      "model_name": "HTMLModel",
      "state": {
       "layout": "IPY_MODEL_816620aee0eb414fb88c84e7cdfa8986",
       "style": "IPY_MODEL_e4b8fdca0f474ee2a0550b99541c076d",
       "value": "<h4 style=\"font-size:14px;\">Welche Operation folgt als nächstes?</h4>"
      }
     },
     "9277f96c85f64df7af75e7596d96dd32": {
      "model_module": "@jupyter-widgets/base",
      "model_module_version": "1.0.0",
      "model_name": "LayoutModel",
      "state": {
       "width": "600px"
      }
     },
     "928a60f7004b4b8a8c6131f16c5fa367": {
      "model_module": "@jupyter-widgets/controls",
      "model_module_version": "1.2.0",
      "model_name": "ButtonStyleModel",
      "state": {}
     },
     "92ca2d3d9cb44d5c91a1e74dc839de7c": {
      "model_module": "@jupyter-widgets/controls",
      "model_module_version": "1.2.0",
      "model_name": "DescriptionStyleModel",
      "state": {
       "description_width": ""
      }
     },
     "931770f357824546b6e0bb058fa04e92": {
      "model_module": "@jupyter-widgets/controls",
      "model_module_version": "1.2.0",
      "model_name": "ButtonStyleModel",
      "state": {}
     },
     "935f60ab27254480a7fc4a6cf35d3fe5": {
      "model_module": "@jupyter-widgets/controls",
      "model_module_version": "1.2.0",
      "model_name": "HBoxModel",
      "state": {
       "children": [
        "IPY_MODEL_41368c3281d64aadb47a9a8b981088fe"
       ],
       "layout": "IPY_MODEL_87530b3913b843f6a0dc7eea8a97a282"
      }
     },
     "9393502559fc499783228a92c9e9db37": {
      "model_module": "@jupyter-widgets/controls",
      "model_module_version": "1.2.0",
      "model_name": "HTMLModel",
      "state": {
       "layout": "IPY_MODEL_088e3649dfdd4a9092470243dbb38d37",
       "style": "IPY_MODEL_6cf9df629e654a54ac8f98cf8552c104",
       "value": "<i>Markieren Sie <ins>alle</ins> passenden Antworten: </i>"
      }
     },
     "93df47fc2cd7415b9d842388ed1adbe4": {
      "model_module": "@jupyter-widgets/controls",
      "model_module_version": "1.2.0",
      "model_name": "HTMLModel",
      "state": {
       "layout": "IPY_MODEL_0d93c09a14b04a7cbd988a3d0461f46a",
       "style": "IPY_MODEL_5b8a4bfc19aa49db80924464ee029883",
       "value": "<h4 style=\"font-size:14px;\">Welche Operation folgt als nächstes?</h4>"
      }
     },
     "9416224e24964fa5ae7c25ab8bfc6859": {
      "model_module": "@jupyter-widgets/controls",
      "model_module_version": "1.2.0",
      "model_name": "DescriptionStyleModel",
      "state": {
       "description_width": ""
      }
     },
     "942ed8c14bf249a48d6e66e0fef485d7": {
      "model_module": "@jupyter-widgets/base",
      "model_module_version": "1.0.0",
      "model_name": "LayoutModel",
      "state": {
       "width": "600px"
      }
     },
     "9439ccabc63c4977ba1b6405915f60e7": {
      "model_module": "@jupyter-widgets/base",
      "model_module_version": "1.0.0",
      "model_name": "LayoutModel",
      "state": {
       "width": "250px"
      }
     },
     "9461997108974fd882ebbf7bdef8b189": {
      "model_module": "@jupyter-widgets/controls",
      "model_module_version": "1.2.0",
      "model_name": "ButtonModel",
      "state": {
       "description": "Scan",
       "layout": "IPY_MODEL_e1a55c270b8c419cab25558c1498e8fb",
       "style": "IPY_MODEL_32d13bf952b84757984be6c45749d418"
      }
     },
     "948c880a5a2649908b727f5ff5893ea7": {
      "model_module": "@jupyter-widgets/controls",
      "model_module_version": "1.2.0",
      "model_name": "ButtonStyleModel",
      "state": {}
     },
     "949ee2f04ac5402c8bb4706b534be586": {
      "model_module": "@jupyter-widgets/controls",
      "model_module_version": "1.2.0",
      "model_name": "DescriptionStyleModel",
      "state": {
       "description_width": ""
      }
     },
     "94ce1dfbf0aa4f9081b8e5b81c1033e4": {
      "model_module": "@jupyter-widgets/controls",
      "model_module_version": "1.2.0",
      "model_name": "ButtonModel",
      "state": {
       "description": "Earley",
       "layout": "IPY_MODEL_e92a24cabe6147939096e9bbb3a807b5",
       "style": "IPY_MODEL_69c895e95d4843e588898c9d6b053c07"
      }
     },
     "94e6695faa994484ac07861de7373343": {
      "model_module": "@jupyter-widgets/base",
      "model_module_version": "1.0.0",
      "model_name": "LayoutModel",
      "state": {
       "width": "250px"
      }
     },
     "9567c6e036c8484e84a06d757edf3c0e": {
      "model_module": "@jupyter-widgets/controls",
      "model_module_version": "1.2.0",
      "model_name": "DescriptionStyleModel",
      "state": {
       "description_width": "initial"
      }
     },
     "95b23b8e8dd645faa6a20dba3db75919": {
      "model_module": "@jupyter-widgets/controls",
      "model_module_version": "1.2.0",
      "model_name": "ButtonStyleModel",
      "state": {}
     },
     "961385c6cb3d4d65b7783b0f870eef4e": {
      "model_module": "@jupyter-widgets/base",
      "model_module_version": "1.0.0",
      "model_name": "LayoutModel",
      "state": {
       "width": "250px"
      }
     },
     "9624bf63d5234decaffba7a09167e816": {
      "model_module": "@jupyter-widgets/base",
      "model_module_version": "1.0.0",
      "model_name": "LayoutModel",
      "state": {}
     },
     "964b2dbf013a47e58aed1c92b1a88b05": {
      "model_module": "@jupyter-widgets/controls",
      "model_module_version": "1.2.0",
      "model_name": "ButtonModel",
      "state": {
       "description": "Scan",
       "layout": "IPY_MODEL_8aba2addc7714a09a48b0be494a8bda4",
       "style": "IPY_MODEL_df9d25eb33f14527b97a2976ec8e566e"
      }
     },
     "96a18f829e79476f8bf473f5e966b642": {
      "model_module": "@jupyter-widgets/controls",
      "model_module_version": "1.2.0",
      "model_name": "HTMLModel",
      "state": {
       "layout": "IPY_MODEL_9ee0510ba4c146f3ba2db0f1557d33c0",
       "style": "IPY_MODEL_1721181fbd0f4134b4ce57dd125436ce",
       "value": "<i>Wählen Sie die <ins>eine</ins> korrekte Antwort aus: </i>"
      }
     },
     "96c739344cbc4b5f8909bdb121dbd40c": {
      "model_module": "@jupyter-widgets/controls",
      "model_module_version": "1.2.0",
      "model_name": "ButtonModel",
      "state": {
       "description": "Keine der Alternativen",
       "layout": "IPY_MODEL_0bf13a948fe44bb8a05dcadefce35dba",
       "style": "IPY_MODEL_50151f00cfe24886a59278da50c9c754"
      }
     },
     "96db95814586466a954db3e15276bb4d": {
      "model_module": "@jupyter-widgets/controls",
      "model_module_version": "1.2.0",
      "model_name": "VBoxModel",
      "state": {
       "children": [
        "IPY_MODEL_3a84bde1346f4495bc45d5502550526c",
        "IPY_MODEL_d6843982ab6c4e4cb7e549a15feab09c",
        "IPY_MODEL_0176a135c4e34137870a8609c829e390",
        "IPY_MODEL_7d20f054398a4329b8314c99ff4ab654",
        "IPY_MODEL_8f8e069587d742e0b556c3d94d809a09"
       ],
       "layout": "IPY_MODEL_43f2c3c8c9634f71a4b6c1913d47a36f"
      }
     },
     "9712263e74e14914ad9f6d5912a389a3": {
      "model_module": "@jupyter-widgets/controls",
      "model_module_version": "1.2.0",
      "model_name": "HBoxModel",
      "state": {
       "children": [
        "IPY_MODEL_ab208dd620cc4c4abd27e63502e6f40d",
        "IPY_MODEL_6abca2f2eef6490b8a78323ca0b7534f"
       ],
       "layout": "IPY_MODEL_ff8c0f7a6af241989ea70ad6687c276f"
      }
     },
     "971fe5a43afc485dadd833c4cb3a917f": {
      "model_module": "@jupyter-widgets/controls",
      "model_module_version": "1.2.0",
      "model_name": "HTMLModel",
      "state": {
       "layout": "IPY_MODEL_8da630bdb00348638623c73aca19a5b0",
       "style": "IPY_MODEL_92ca2d3d9cb44d5c91a1e74dc839de7c",
       "value": "<i>Wählen Sie die <ins>eine</ins> korrekte Antwort aus: </i>"
      }
     },
     "9734191d0f2d4c26b4d1593e15a669e7": {
      "model_module": "@jupyter-widgets/controls",
      "model_module_version": "1.2.0",
      "model_name": "DescriptionStyleModel",
      "state": {
       "description_width": ""
      }
     },
     "9751d3b406f342afb3a7628d54763c32": {
      "model_module": "@jupyter-widgets/controls",
      "model_module_version": "1.2.0",
      "model_name": "VBoxModel",
      "state": {
       "children": [
        "IPY_MODEL_ab927d8b7dda41d5ab0bb5aaa3630e37",
        "IPY_MODEL_70a027ba22b5461ea62b3e9b9b9a184d",
        "IPY_MODEL_4caef652e4db4c969afc90eb19063557",
        "IPY_MODEL_f7bfe3b9d360446ab4dd55fbc9476633",
        "IPY_MODEL_43cdd9ebf1514b91a017256caad3f9fb"
       ],
       "layout": "IPY_MODEL_b66c052f83744ed6af1d7616cb6fe768"
      }
     },
     "97663f9dc1a04a749199b96a847768b9": {
      "model_module": "@jupyter-widgets/controls",
      "model_module_version": "1.2.0",
      "model_name": "HBoxModel",
      "state": {
       "children": [
        "IPY_MODEL_37986f19f7074e98ac7222fe97955b3e",
        "IPY_MODEL_4b11989440c6420cb7b5852cf389582e"
       ],
       "layout": "IPY_MODEL_f4fe53ff85204f38a361beca2b1cc22a"
      }
     },
     "976ad134bd434c0ca1848e8ed0e6eb78": {
      "model_module": "@jupyter-widgets/base",
      "model_module_version": "1.0.0",
      "model_name": "LayoutModel",
      "state": {
       "width": "250px"
      }
     },
     "981b306011d5417db88918a9a3c2970f": {
      "model_module": "@jupyter-widgets/base",
      "model_module_version": "1.0.0",
      "model_name": "LayoutModel",
      "state": {
       "width": "250px"
      }
     },
     "98441e21a0824044971cb2eb95eaf15f": {
      "model_module": "@jupyter-widgets/controls",
      "model_module_version": "1.2.0",
      "model_name": "CheckboxModel",
      "state": {
       "description": "Shift",
       "disabled": false,
       "layout": "IPY_MODEL_e579a3a42e9a4b4cb45b57d9bbe1c72a",
       "style": "IPY_MODEL_0badf5ca5d9b400cbc8d5bd210ef9d5f",
       "value": false
      }
     },
     "985a4a00846a49f9b37cee3ad3cf357b": {
      "model_module": "@jupyter-widgets/controls",
      "model_module_version": "1.2.0",
      "model_name": "DescriptionStyleModel",
      "state": {
       "description_width": ""
      }
     },
     "987cf58d064541dfa11ee323ae151a0f": {
      "model_module": "@jupyter-widgets/base",
      "model_module_version": "1.0.0",
      "model_name": "LayoutModel",
      "state": {
       "justify_content": "center"
      }
     },
     "98b03cbd132b41a8ab782aaaa49baf28": {
      "model_module": "@jupyter-widgets/base",
      "model_module_version": "1.0.0",
      "model_name": "LayoutModel",
      "state": {
       "width": "600px"
      }
     },
     "99343421b4fa40d49d6438f25c217426": {
      "model_module": "@jupyter-widgets/base",
      "model_module_version": "1.0.0",
      "model_name": "LayoutModel",
      "state": {}
     },
     "996f4a7b0ec04d68a26c248a1d1efff5": {
      "model_module": "@jupyter-widgets/base",
      "model_module_version": "1.0.0",
      "model_name": "LayoutModel",
      "state": {}
     },
     "9a160ee39f9b4ab39c87cbd4d40d795a": {
      "model_module": "@jupyter-widgets/controls",
      "model_module_version": "1.2.0",
      "model_name": "ButtonStyleModel",
      "state": {}
     },
     "9ab128db54504976b77ec1339a216da9": {
      "model_module": "@jupyter-widgets/controls",
      "model_module_version": "1.2.0",
      "model_name": "HBoxModel",
      "state": {
       "children": [
        "IPY_MODEL_14c68f2797c34308936215a7088c2f5d",
        "IPY_MODEL_1714ae72595d434d911e522810f19180"
       ],
       "layout": "IPY_MODEL_ab8f2d3e6cdf426bb914644e4288071b"
      }
     },
     "9ad8202a467443e58f3c3b9e732ebdf1": {
      "model_module": "@jupyter-widgets/base",
      "model_module_version": "1.0.0",
      "model_name": "LayoutModel",
      "state": {}
     },
     "9adb0fe0214f408a882a20ef8d6a8828": {
      "model_module": "@jupyter-widgets/controls",
      "model_module_version": "1.2.0",
      "model_name": "ButtonModel",
      "state": {
       "description": "Complete",
       "layout": "IPY_MODEL_aa8ba656dc594ea5a28406d42abfdc39",
       "style": "IPY_MODEL_81a116b0e98f4e12ba3ed3910279b0b2"
      }
     },
     "9b47ba7a6d7f42a5a89ca785b2acfcee": {
      "model_module": "@jupyter-widgets/base",
      "model_module_version": "1.0.0",
      "model_name": "LayoutModel",
      "state": {}
     },
     "9ba1f03263734a6eaf112c56c4aef08d": {
      "model_module": "@jupyter-widgets/controls",
      "model_module_version": "1.2.0",
      "model_name": "DescriptionStyleModel",
      "state": {
       "description_width": "initial"
      }
     },
     "9ba25b7edc2b45b2a1488fda8960ad41": {
      "model_module": "@jupyter-widgets/controls",
      "model_module_version": "1.2.0",
      "model_name": "ButtonModel",
      "state": {
       "description": "Scan",
       "layout": "IPY_MODEL_e56c72d85d3d437d85e1cea4dcf1a38c",
       "style": "IPY_MODEL_5f4bbe1748ec44168a6e1a08eaf8144b"
      }
     },
     "9bb46ac0bf8541329f16873d2bb0e7c1": {
      "model_module": "@jupyter-widgets/controls",
      "model_module_version": "1.2.0",
      "model_name": "HTMLModel",
      "state": {
       "layout": "IPY_MODEL_11302f0022c04309ba9cf7b68955c165",
       "style": "IPY_MODEL_6a09dbfbb6bf4358aaa3f52ad971a3a6",
       "value": "<h4 style=\"font-size:14px;\">Welche Operation folgt als nächstes?</h4>"
      }
     },
     "9c0c7dca039d4739b9b3e3458f3cabf8": {
      "model_module": "@jupyter-widgets/controls",
      "model_module_version": "1.2.0",
      "model_name": "ButtonModel",
      "state": {
       "description": "Shift",
       "layout": "IPY_MODEL_89676477e3794e6b8a6df20d24b00b1b",
       "style": "IPY_MODEL_0b8f066156694abb81154dc8a5d5c808"
      }
     },
     "9c1d05f4c1d34f2f97baeffa551947b6": {
      "model_module": "@jupyter-widgets/controls",
      "model_module_version": "1.2.0",
      "model_name": "ButtonStyleModel",
      "state": {}
     },
     "9c3dfd4f061746bd8c7e511e7588f059": {
      "model_module": "@jupyter-widgets/controls",
      "model_module_version": "1.2.0",
      "model_name": "HTMLModel",
      "state": {
       "layout": "IPY_MODEL_81aaa8baf1c34e898d14a77b27e2403c",
       "style": "IPY_MODEL_c64b4d94ad5b46f481f143547682bd14",
       "value": "<h4 style=\"font-size:14px;\">Um welchen Parser handelt es sich?</h4>"
      }
     },
     "9c5e95b06e1c41deb88993360a3c07de": {
      "model_module": "@jupyter-widgets/controls",
      "model_module_version": "1.2.0",
      "model_name": "VBoxModel",
      "state": {
       "children": [
        "IPY_MODEL_f578415577e2417f99acb973758edb4f",
        "IPY_MODEL_b54e09df8026452799fd0a06ecd96b95",
        "IPY_MODEL_da2a566479154fffa45eed20664db779",
        "IPY_MODEL_dd1e4a4e3ebb4c489f2a5df9da183882",
        "IPY_MODEL_aef30b23b82b4d9c9b6f49c5bb6b5ff6"
       ],
       "layout": "IPY_MODEL_11879f2af29b412bb91b20f258e4b636"
      }
     },
     "9c7a1662e74a424aa8fb588d123ab4e3": {
      "model_module": "@jupyter-widgets/controls",
      "model_module_version": "1.2.0",
      "model_name": "HBoxModel",
      "state": {
       "children": [
        "IPY_MODEL_0d203963b5594a2d9dfcf8c7d445714f",
        "IPY_MODEL_f7946aaec337468eb655a93231ac0826"
       ],
       "layout": "IPY_MODEL_150622509a944b2c8e58563d722e1b9a"
      }
     },
     "9d54f12704c24601a1b1412694433484": {
      "model_module": "@jupyter-widgets/base",
      "model_module_version": "1.0.0",
      "model_name": "LayoutModel",
      "state": {}
     },
     "9d6f9a3c8ddb4ee696cd931119575895": {
      "model_module": "@jupyter-widgets/base",
      "model_module_version": "1.0.0",
      "model_name": "LayoutModel",
      "state": {}
     },
     "9ddeed99d1aa495389dfd44c5ae1f305": {
      "model_module": "@jupyter-widgets/controls",
      "model_module_version": "1.2.0",
      "model_name": "ButtonStyleModel",
      "state": {}
     },
     "9de65fe39a0940bcb752add87ec1a339": {
      "model_module": "@jupyter-widgets/controls",
      "model_module_version": "1.2.0",
      "model_name": "ButtonStyleModel",
      "state": {}
     },
     "9e2ffec7ad6946c2aba43bd29bd03d1f": {
      "model_module": "@jupyter-widgets/controls",
      "model_module_version": "1.2.0",
      "model_name": "HBoxModel",
      "state": {
       "children": [
        "IPY_MODEL_10822e628f8246dca596127db0eed34c"
       ],
       "layout": "IPY_MODEL_dd898b644efc42b5b1c12ed9c6975200"
      }
     },
     "9e450226ed774def9c98e4fff7a0f30f": {
      "model_module": "@jupyter-widgets/base",
      "model_module_version": "1.0.0",
      "model_name": "LayoutModel",
      "state": {
       "width": "250px"
      }
     },
     "9e4deca74062483085e30079fe2ffc8f": {
      "model_module": "@jupyter-widgets/controls",
      "model_module_version": "1.2.0",
      "model_name": "HTMLModel",
      "state": {
       "layout": "IPY_MODEL_2977c1e1c63a4e9097b79894ebcf5cc5",
       "style": "IPY_MODEL_5e58b745dc034690b61c5764bf34e4ba",
       "value": "<i>Wählen Sie die <ins>eine</ins> korrekte Antwort aus: </i>"
      }
     },
     "9e76a2d5e1f04a84874d0c914b6d06ac": {
      "model_module": "@jupyter-widgets/controls",
      "model_module_version": "1.2.0",
      "model_name": "VBoxModel",
      "state": {
       "children": [
        "IPY_MODEL_e117597e4c4c4db1aeaf0df0adfdaddf",
        "IPY_MODEL_5abc9e771ddf490fb8dc5f1c8e14f50c",
        "IPY_MODEL_b1758e48399c4010bf2f5ed09f893462",
        "IPY_MODEL_3ab23f8d492549379ae6b98e666aa3af",
        "IPY_MODEL_531b39c5854e41a5a1bb5161fe5d5974"
       ],
       "layout": "IPY_MODEL_bf931518529c44a8b13ef5e8759201cd"
      }
     },
     "9ea506ae931e4b5ebdad1ee26d71c6cb": {
      "model_module": "@jupyter-widgets/controls",
      "model_module_version": "1.2.0",
      "model_name": "ButtonStyleModel",
      "state": {}
     },
     "9ee0510ba4c146f3ba2db0f1557d33c0": {
      "model_module": "@jupyter-widgets/base",
      "model_module_version": "1.0.0",
      "model_name": "LayoutModel",
      "state": {
       "justify_content": "center"
      }
     },
     "9ee195ab4ded4b3e95112175a82f3eec": {
      "model_module": "@jupyter-widgets/controls",
      "model_module_version": "1.2.0",
      "model_name": "HBoxModel",
      "state": {
       "children": [
        "IPY_MODEL_cc897902c461417b9b26f0ae9df1fc77",
        "IPY_MODEL_845ee18d72574ebd9b4e64d107dfde9d"
       ],
       "layout": "IPY_MODEL_357bbf62eb8e487a86b4afde0af52a2b"
      }
     },
     "9f1044df599949309740d760f551c8d1": {
      "model_module": "@jupyter-widgets/base",
      "model_module_version": "1.0.0",
      "model_name": "LayoutModel",
      "state": {
       "justify_content": "center"
      }
     },
     "9f57a2a45ab9428f96fb4523fbaf8b54": {
      "model_module": "@jupyter-widgets/base",
      "model_module_version": "1.0.0",
      "model_name": "LayoutModel",
      "state": {
       "width": "250px"
      }
     },
     "9f60d9c25a8f48ec803d25dd8a500075": {
      "model_module": "@jupyter-widgets/controls",
      "model_module_version": "1.2.0",
      "model_name": "HTMLModel",
      "state": {
       "layout": "IPY_MODEL_698c2c3ef071451a9675bc70c2f45084",
       "style": "IPY_MODEL_b6d87d54b22a4372a0a78f6079d7ba1b",
       "value": "<i>Wählen Sie die <ins>eine</ins> korrekte Antwort aus: </i>"
      }
     },
     "9fba76862ec641568237a8fb63e7ec9b": {
      "model_module": "@jupyter-widgets/controls",
      "model_module_version": "1.2.0",
      "model_name": "ButtonModel",
      "state": {
       "description": "Reduce",
       "layout": "IPY_MODEL_06bc9d415291428a958845ddc1422265",
       "style": "IPY_MODEL_86ae9abae8f94376b4ef6aec473eb017"
      }
     },
     "a00f9486f1414f6f9b0c186f84b239c7": {
      "model_module": "@jupyter-widgets/controls",
      "model_module_version": "1.2.0",
      "model_name": "HBoxModel",
      "state": {
       "children": [
        "IPY_MODEL_ef63b0bbd76d43a7a6b7012724c033e6",
        "IPY_MODEL_edc8b767df1148a086fba51beb54795e"
       ],
       "layout": "IPY_MODEL_eb3a2deaa7b342dd9e001daf0f2cfc05"
      }
     },
     "a03cfbe6c2084c46b31a91c9978ae124": {
      "model_module": "@jupyter-widgets/controls",
      "model_module_version": "1.2.0",
      "model_name": "ButtonStyleModel",
      "state": {}
     },
     "a074149d2eca405fb03f25d8878f4750": {
      "model_module": "@jupyter-widgets/controls",
      "model_module_version": "1.2.0",
      "model_name": "ButtonStyleModel",
      "state": {}
     },
     "a0b21cf3b6e441778a7a6cabbe5ef07e": {
      "model_module": "@jupyter-widgets/controls",
      "model_module_version": "1.2.0",
      "model_name": "ButtonModel",
      "state": {
       "description": "Complete",
       "layout": "IPY_MODEL_d279cf0e17154f618e7558a79c51fee4",
       "style": "IPY_MODEL_ee24bb68de4f4c3aae86288a4d87af96"
      }
     },
     "a0c2bc8f067b4307bf9731c8aadc4301": {
      "model_module": "@jupyter-widgets/controls",
      "model_module_version": "1.2.0",
      "model_name": "ButtonModel",
      "state": {
       "description": "Complete",
       "layout": "IPY_MODEL_7f31a1b0be794abab4d71746283beaf5",
       "style": "IPY_MODEL_a1b1908c00514863902142b14594f1e0"
      }
     },
     "a0debafd7ebf4869bd7e6f768bf8be51": {
      "model_module": "@jupyter-widgets/controls",
      "model_module_version": "1.2.0",
      "model_name": "HTMLModel",
      "state": {
       "layout": "IPY_MODEL_875888d1f4a7477eb3afbb64e8439b2d",
       "style": "IPY_MODEL_c4aaf2a290914615a4cd1aee4160bb4a",
       "value": "<i>Wählen Sie die <ins>eine</ins> korrekte Antwort aus: </i>"
      }
     },
     "a0f73c05c0924d4c9716904099932322": {
      "model_module": "@jupyter-widgets/controls",
      "model_module_version": "1.2.0",
      "model_name": "DescriptionStyleModel",
      "state": {
       "description_width": ""
      }
     },
     "a130bdc26fd24f63bffc115f1cf3b634": {
      "model_module": "@jupyter-widgets/base",
      "model_module_version": "1.0.0",
      "model_name": "LayoutModel",
      "state": {}
     },
     "a1b1908c00514863902142b14594f1e0": {
      "model_module": "@jupyter-widgets/controls",
      "model_module_version": "1.2.0",
      "model_name": "ButtonStyleModel",
      "state": {}
     },
     "a1c0ade981654dc5948adeb7f9a6a339": {
      "model_module": "@jupyter-widgets/controls",
      "model_module_version": "1.2.0",
      "model_name": "HBoxModel",
      "state": {
       "children": [
        "IPY_MODEL_afb30ea09782449f8fbb89792e343653",
        "IPY_MODEL_3419cf26d1e44b859c73970157a2e10e"
       ],
       "layout": "IPY_MODEL_fb5e7359fd5146deab6bc932b8217bb0"
      }
     },
     "a1dbdebc6b494ef49dcb6a6c9184d9d3": {
      "model_module": "@jupyter-widgets/base",
      "model_module_version": "1.0.0",
      "model_name": "LayoutModel",
      "state": {}
     },
     "a287849fcf554b7ea07b041dbd8fe500": {
      "model_module": "@jupyter-widgets/controls",
      "model_module_version": "1.2.0",
      "model_name": "ButtonStyleModel",
      "state": {}
     },
     "a2d05ef16d18451ab3b747464573e281": {
      "model_module": "@jupyter-widgets/controls",
      "model_module_version": "1.2.0",
      "model_name": "VBoxModel",
      "state": {
       "children": [
        "IPY_MODEL_9c3dfd4f061746bd8c7e511e7588f059",
        "IPY_MODEL_14ae5270344e434ebd5f114a62082410",
        "IPY_MODEL_ceedd677e40d4ea996a08fa2071dd4e1",
        "IPY_MODEL_6114d45ff4af495aadf921875ea434b4"
       ],
       "layout": "IPY_MODEL_8f04d130a6bc402e9af2c5feb207c2d4"
      }
     },
     "a2fa38364f5b4a8cb83b302c7cf219f7": {
      "model_module": "@jupyter-widgets/controls",
      "model_module_version": "1.2.0",
      "model_name": "DescriptionStyleModel",
      "state": {
       "description_width": ""
      }
     },
     "a337eaec4f6a4c558083d3be89847892": {
      "model_module": "@jupyter-widgets/base",
      "model_module_version": "1.0.0",
      "model_name": "LayoutModel",
      "state": {}
     },
     "a38634c60c9a4b6aa42c9b00e807f400": {
      "model_module": "@jupyter-widgets/base",
      "model_module_version": "1.0.0",
      "model_name": "LayoutModel",
      "state": {
       "width": "250px"
      }
     },
     "a3d80eeafe094b95adefea25aa362434": {
      "model_module": "@jupyter-widgets/base",
      "model_module_version": "1.0.0",
      "model_name": "LayoutModel",
      "state": {
       "width": "250px"
      }
     },
     "a3f18522d2b64269a79c88d4839f6c8d": {
      "model_module": "@jupyter-widgets/controls",
      "model_module_version": "1.2.0",
      "model_name": "ButtonModel",
      "state": {
       "description": "Reduce",
       "layout": "IPY_MODEL_8e78a817b39b450280b06374ae2226ac",
       "style": "IPY_MODEL_17a7c3b2dcb64fc4ab48a3aec7e5a4ed"
      }
     },
     "a3fe1ccb51ca4db1a994ac523b48a792": {
      "model_module": "@jupyter-widgets/base",
      "model_module_version": "1.0.0",
      "model_name": "LayoutModel",
      "state": {
       "justify_content": "center"
      }
     },
     "a428df302c6a4e2d8ba664a28547de05": {
      "model_module": "@jupyter-widgets/base",
      "model_module_version": "1.0.0",
      "model_name": "LayoutModel",
      "state": {}
     },
     "a4648a80e70545569f923affe04df961": {
      "model_module": "@jupyter-widgets/controls",
      "model_module_version": "1.2.0",
      "model_name": "HBoxModel",
      "state": {
       "children": [
        "IPY_MODEL_2dc129bb866843829609e7bd783e0ebe",
        "IPY_MODEL_37e2883afbde444992053a0a4007ad97"
       ],
       "layout": "IPY_MODEL_356ba57e17be41fb84eac1451fc05270"
      }
     },
     "a473801e02764335b0dc2d5a4b1118b3": {
      "model_module": "@jupyter-widgets/base",
      "model_module_version": "1.0.0",
      "model_name": "LayoutModel",
      "state": {
       "width": "250px"
      }
     },
     "a48dff11fa7d489da4722fe15d6f0368": {
      "model_module": "@jupyter-widgets/base",
      "model_module_version": "1.0.0",
      "model_name": "LayoutModel",
      "state": {
       "width": "250px"
      }
     },
     "a4c0447a8da643208069a42fbb34ea31": {
      "model_module": "@jupyter-widgets/base",
      "model_module_version": "1.0.0",
      "model_name": "LayoutModel",
      "state": {}
     },
     "a528b3deaa154cae8e71906c92d9e07e": {
      "model_module": "@jupyter-widgets/controls",
      "model_module_version": "1.2.0",
      "model_name": "CheckboxModel",
      "state": {
       "description": "Shift",
       "disabled": false,
       "layout": "IPY_MODEL_65b753318ad04129a68e00aee71e8be4",
       "style": "IPY_MODEL_5029d6b6a1694d5095a50c226e35dd6d",
       "value": false
      }
     },
     "a535ab4070ad4d8f846d777bc788ece1": {
      "model_module": "@jupyter-widgets/controls",
      "model_module_version": "1.2.0",
      "model_name": "HTMLModel",
      "state": {
       "layout": "IPY_MODEL_de1b2364bdb342a3bacd1b5350b6f728",
       "style": "IPY_MODEL_0be989a44fd84068a1d35c280f0ba299",
       "value": "<i>Wählen Sie die <ins>eine</ins> korrekte Antwort aus: </i>"
      }
     },
     "a54183b7b271441d9468198b050064fb": {
      "model_module": "@jupyter-widgets/controls",
      "model_module_version": "1.2.0",
      "model_name": "CheckboxModel",
      "state": {
       "description": "Scan",
       "disabled": false,
       "layout": "IPY_MODEL_e35bd10fdfb24b7bb7a04aef52eeaa3f",
       "style": "IPY_MODEL_5c89bbbcf669444db6f36bd472decbfa",
       "value": true
      }
     },
     "a55a763edd4f4e4e9714223079535130": {
      "model_module": "@jupyter-widgets/base",
      "model_module_version": "1.0.0",
      "model_name": "LayoutModel",
      "state": {}
     },
     "a573a4db81bb4a01a5539674ee926b86": {
      "model_module": "@jupyter-widgets/base",
      "model_module_version": "1.0.0",
      "model_name": "LayoutModel",
      "state": {}
     },
     "a589f368d8bd4c80abb8b97a4f0a4bcd": {
      "model_module": "@jupyter-widgets/controls",
      "model_module_version": "1.2.0",
      "model_name": "ButtonStyleModel",
      "state": {}
     },
     "a5d8b4fc493a470c836e0d98a029d84c": {
      "model_module": "@jupyter-widgets/controls",
      "model_module_version": "1.2.0",
      "model_name": "DescriptionStyleModel",
      "state": {
       "description_width": ""
      }
     },
     "a6225b75bc634f5db534210254beb3b6": {
      "model_module": "@jupyter-widgets/controls",
      "model_module_version": "1.2.0",
      "model_name": "ButtonStyleModel",
      "state": {}
     },
     "a697ae4feffa4c46bbde2468135e06ec": {
      "model_module": "@jupyter-widgets/base",
      "model_module_version": "1.0.0",
      "model_name": "LayoutModel",
      "state": {
       "width": "250px"
      }
     },
     "a71fb26b6a7745a1a282a240709669fc": {
      "model_module": "@jupyter-widgets/controls",
      "model_module_version": "1.2.0",
      "model_name": "ButtonStyleModel",
      "state": {
       "button_color": "lightgreen"
      }
     },
     "a765c4c3bd62433f8cd6fe189224072d": {
      "model_module": "@jupyter-widgets/controls",
      "model_module_version": "1.2.0",
      "model_name": "ButtonModel",
      "state": {
       "description": "Reduce",
       "layout": "IPY_MODEL_0c23c20bb6f34d408be77a06bc0ef798",
       "style": "IPY_MODEL_d0ba31bcc7c9401da4f6176196632b07"
      }
     },
     "a76e0a4065c04fea81b34d83dc9d50e0": {
      "model_module": "@jupyter-widgets/controls",
      "model_module_version": "1.2.0",
      "model_name": "DescriptionStyleModel",
      "state": {
       "description_width": ""
      }
     },
     "a7a2ce9258b546df97e8e11f291e9483": {
      "model_module": "@jupyter-widgets/base",
      "model_module_version": "1.0.0",
      "model_name": "LayoutModel",
      "state": {
       "justify_content": "center"
      }
     },
     "a7d3aeae8ceb4aa99543d9f89dcf55ae": {
      "model_module": "@jupyter-widgets/base",
      "model_module_version": "1.0.0",
      "model_name": "LayoutModel",
      "state": {}
     },
     "a7e5eecbc4ab47b4a3be01e5c7b2b006": {
      "model_module": "@jupyter-widgets/controls",
      "model_module_version": "1.2.0",
      "model_name": "DescriptionStyleModel",
      "state": {
       "description_width": ""
      }
     },
     "a7f270ec1eb54a47a55c83911225c8da": {
      "model_module": "@jupyter-widgets/controls",
      "model_module_version": "1.2.0",
      "model_name": "ButtonStyleModel",
      "state": {}
     },
     "a85ce85cbb7f48c291e71e289001992d": {
      "model_module": "@jupyter-widgets/base",
      "model_module_version": "1.0.0",
      "model_name": "LayoutModel",
      "state": {
       "width": "250px"
      }
     },
     "a86a62cb64264699b3087e3c7b85c254": {
      "model_module": "@jupyter-widgets/controls",
      "model_module_version": "1.2.0",
      "model_name": "CheckboxModel",
      "state": {
       "description": "Shift",
       "disabled": false,
       "layout": "IPY_MODEL_34448986f61f44faab4cc0419748e2ce",
       "style": "IPY_MODEL_513110f050fb4d73962562275d743999",
       "value": false
      }
     },
     "a87492caaf0847ab9e3afe90ec98fb66": {
      "model_module": "@jupyter-widgets/base",
      "model_module_version": "1.0.0",
      "model_name": "LayoutModel",
      "state": {
       "width": "250px"
      }
     },
     "a892d85da27a47d79dadb5d422563ee0": {
      "model_module": "@jupyter-widgets/controls",
      "model_module_version": "1.2.0",
      "model_name": "ButtonStyleModel",
      "state": {}
     },
     "a8dadc5e8c74438a8335187044a659e7": {
      "model_module": "@jupyter-widgets/base",
      "model_module_version": "1.0.0",
      "model_name": "LayoutModel",
      "state": {}
     },
     "a8f394a0b99f4c10a057c8d5393f42c8": {
      "model_module": "@jupyter-widgets/controls",
      "model_module_version": "1.2.0",
      "model_name": "HBoxModel",
      "state": {
       "children": [
        "IPY_MODEL_758ad5ec88b5421492a5f8b49f647c7c",
        "IPY_MODEL_2d919c0ee2cc446ea5ed0a48168617ee"
       ],
       "layout": "IPY_MODEL_701f9ef040e940cf853711c5d994436a"
      }
     },
     "a91753971b2b4137bbbdb8ebb6320cfc": {
      "model_module": "@jupyter-widgets/base",
      "model_module_version": "1.0.0",
      "model_name": "LayoutModel",
      "state": {
       "width": "250px"
      }
     },
     "a92dc6938c534d438bf40ee6b03abb63": {
      "model_module": "@jupyter-widgets/controls",
      "model_module_version": "1.2.0",
      "model_name": "VBoxModel",
      "state": {
       "children": [
        "IPY_MODEL_07bb6fc0e68d47ffab38e0f6500f26ee",
        "IPY_MODEL_d4624340e2f14f5fa7d598e18d5daa4b",
        "IPY_MODEL_f979634b494a4d138f34eeb51540fcde",
        "IPY_MODEL_10efe42361f94a50bba403b3d491fb50",
        "IPY_MODEL_8787d793fc8c4ed983c434558639336f"
       ],
       "layout": "IPY_MODEL_83d1b313544e4430b00b1d3b67b37d8a"
      }
     },
     "a935d573dd6644b894b1f9e94307a10c": {
      "model_module": "@jupyter-widgets/base",
      "model_module_version": "1.0.0",
      "model_name": "LayoutModel",
      "state": {}
     },
     "a9376e8dc1e247ff9009653dcf5258d9": {
      "model_module": "@jupyter-widgets/base",
      "model_module_version": "1.0.0",
      "model_name": "LayoutModel",
      "state": {}
     },
     "a9aa2e66aef84967a19a6da368608113": {
      "model_module": "@jupyter-widgets/controls",
      "model_module_version": "1.2.0",
      "model_name": "ButtonStyleModel",
      "state": {}
     },
     "a9d68edd3b974c329561fc9b5c673ab4": {
      "model_module": "@jupyter-widgets/base",
      "model_module_version": "1.0.0",
      "model_name": "LayoutModel",
      "state": {
       "width": "250px"
      }
     },
     "a9dc576f80ec483094acd49460e77ab6": {
      "model_module": "@jupyter-widgets/controls",
      "model_module_version": "1.2.0",
      "model_name": "HTMLModel",
      "state": {
       "layout": "IPY_MODEL_2485c743cb1643b8a5b5e7421a4b947d",
       "style": "IPY_MODEL_16cbcddbb6db4deb9f839b703d4c86a0",
       "value": "<h4 style=\"font-size:14px;\">Um welchen Parser handelt es sich?</h4>"
      }
     },
     "aa8ba656dc594ea5a28406d42abfdc39": {
      "model_module": "@jupyter-widgets/base",
      "model_module_version": "1.0.0",
      "model_name": "LayoutModel",
      "state": {
       "width": "250px"
      }
     },
     "aab6676569684ced947e501bb0fd0a52": {
      "model_module": "@jupyter-widgets/controls",
      "model_module_version": "1.2.0",
      "model_name": "DescriptionStyleModel",
      "state": {
       "description_width": "initial"
      }
     },
     "aab95b882e7143a3873560f104c31ab2": {
      "model_module": "@jupyter-widgets/base",
      "model_module_version": "1.0.0",
      "model_name": "LayoutModel",
      "state": {
       "justify_content": "center"
      }
     },
     "aac53a34d0694e668230888c898178e6": {
      "model_module": "@jupyter-widgets/controls",
      "model_module_version": "1.2.0",
      "model_name": "VBoxModel",
      "state": {
       "children": [
        "IPY_MODEL_e7062c27a6d5482eab914d8cb6db2b88",
        "IPY_MODEL_8ea55c7f2f5641f4ac3b06e4b28f8515",
        "IPY_MODEL_5120dec049254f7ca7347018c28e9be5",
        "IPY_MODEL_646a6317b54b4b6c944cf02d7b216af6"
       ],
       "layout": "IPY_MODEL_4ca4423e9804430ab508bbedd89c4cfe"
      }
     },
     "ab208dd620cc4c4abd27e63502e6f40d": {
      "model_module": "@jupyter-widgets/controls",
      "model_module_version": "1.2.0",
      "model_name": "ButtonModel",
      "state": {
       "description": "Predict",
       "layout": "IPY_MODEL_906a9bab64d94365b218a70247ae9f10",
       "style": "IPY_MODEL_1a95d9a26c2343fb8cc22f9409d631f6"
      }
     },
     "ab2a6599aa8a49eba10fbffd60f95ed0": {
      "model_module": "@jupyter-widgets/base",
      "model_module_version": "1.0.0",
      "model_name": "LayoutModel",
      "state": {
       "width": "250px"
      }
     },
     "ab3e8ba31fa94596993fb54ab2387f9c": {
      "model_module": "@jupyter-widgets/controls",
      "model_module_version": "1.2.0",
      "model_name": "DescriptionStyleModel",
      "state": {
       "description_width": ""
      }
     },
     "ab4fa29208384fef922e9318b123606f": {
      "model_module": "@jupyter-widgets/controls",
      "model_module_version": "1.2.0",
      "model_name": "HTMLModel",
      "state": {
       "layout": "IPY_MODEL_8b16ff79a657446f9703599469c089ad",
       "style": "IPY_MODEL_d48c3486a7de4982a9fab4e84c5ecbca",
       "value": "<i>Wählen Sie die <ins>eine</ins> korrekte Antwort aus: </i>"
      }
     },
     "ab7aa0798aba4e00a92c360473edfedd": {
      "model_module": "@jupyter-widgets/controls",
      "model_module_version": "1.2.0",
      "model_name": "HBoxModel",
      "state": {
       "children": [
        "IPY_MODEL_0544ab4181fd406bbe89d66eae9b9366",
        "IPY_MODEL_453cc3adccf5490ab218094918b41129"
       ],
       "layout": "IPY_MODEL_77e36d0f8ddf473587231935dab15683"
      }
     },
     "ab8f2d3e6cdf426bb914644e4288071b": {
      "model_module": "@jupyter-widgets/base",
      "model_module_version": "1.0.0",
      "model_name": "LayoutModel",
      "state": {}
     },
     "ab927d8b7dda41d5ab0bb5aaa3630e37": {
      "model_module": "@jupyter-widgets/controls",
      "model_module_version": "1.2.0",
      "model_name": "HTMLModel",
      "state": {
       "layout": "IPY_MODEL_13cea67195c3470dad9a19456751dbd1",
       "style": "IPY_MODEL_256fb845f88f4ada888a0b4bfa09307c",
       "value": "<h4 style=\"font-size:14px;\">Welche Operation folgt als nächstes?</h4>"
      }
     },
     "aba37e682e0741fe9f1541e4f637b6e7": {
      "model_module": "@jupyter-widgets/controls",
      "model_module_version": "1.2.0",
      "model_name": "HBoxModel",
      "state": {
       "children": [
        "IPY_MODEL_dd49d96975fe49d4bc5fc678d4c6fb03",
        "IPY_MODEL_86c34ab391e044de9b632d51cb2b97a8"
       ],
       "layout": "IPY_MODEL_99343421b4fa40d49d6438f25c217426"
      }
     },
     "abd95d6b415e485b90de8968676206d8": {
      "model_module": "@jupyter-widgets/controls",
      "model_module_version": "1.2.0",
      "model_name": "ButtonModel",
      "state": {
       "description": "Shift Reduce",
       "layout": "IPY_MODEL_5d1a5c36c732463aadc39bef280b8cb9",
       "style": "IPY_MODEL_928a60f7004b4b8a8c6131f16c5fa367"
      }
     },
     "abe01a9e0c9b44e798dd9207ff535c91": {
      "model_module": "@jupyter-widgets/base",
      "model_module_version": "1.0.0",
      "model_name": "LayoutModel",
      "state": {
       "justify_content": "center"
      }
     },
     "ac4fb6f3706f44bda59c2dad1d7252b7": {
      "model_module": "@jupyter-widgets/base",
      "model_module_version": "1.0.0",
      "model_name": "LayoutModel",
      "state": {
       "width": "250px"
      }
     },
     "ac524e473b0f441b9b0ccdf944ba4972": {
      "model_module": "@jupyter-widgets/base",
      "model_module_version": "1.0.0",
      "model_name": "LayoutModel",
      "state": {
       "width": "250px"
      }
     },
     "ac7a6e188aa34d328dc959804073b4b6": {
      "model_module": "@jupyter-widgets/controls",
      "model_module_version": "1.2.0",
      "model_name": "ButtonStyleModel",
      "state": {}
     },
     "ac88c033adf8478db300902b15cf8998": {
      "model_module": "@jupyter-widgets/controls",
      "model_module_version": "1.2.0",
      "model_name": "ButtonStyleModel",
      "state": {}
     },
     "ac8e132ad369489192c8e6c77be02eb3": {
      "model_module": "@jupyter-widgets/controls",
      "model_module_version": "1.2.0",
      "model_name": "DescriptionStyleModel",
      "state": {
       "description_width": "initial"
      }
     },
     "acfb44cc91b64cfa977ce790dcf5ff7d": {
      "model_module": "@jupyter-widgets/controls",
      "model_module_version": "1.2.0",
      "model_name": "ButtonModel",
      "state": {
       "description": "Recusive Descent",
       "layout": "IPY_MODEL_2c3c1391583f47fc8449e87077e68b98",
       "style": "IPY_MODEL_56c82376bc7246aaabbea17f8369b1cd"
      }
     },
     "ad1301f27d944070be6567163421da0b": {
      "model_module": "@jupyter-widgets/controls",
      "model_module_version": "1.2.0",
      "model_name": "ButtonModel",
      "state": {
       "description": "Reduce",
       "layout": "IPY_MODEL_ebacfb74bd844e4c8eaaada900f4f6df",
       "style": "IPY_MODEL_232b7d803247489593f22c88cd653aac"
      }
     },
     "ad306a1166a94cf98dd43db27cbaf6ae": {
      "model_module": "@jupyter-widgets/base",
      "model_module_version": "1.0.0",
      "model_name": "LayoutModel",
      "state": {
       "width": "600px"
      }
     },
     "ad5650b0ffaf460a8eb10f322a91b568": {
      "model_module": "@jupyter-widgets/base",
      "model_module_version": "1.0.0",
      "model_name": "LayoutModel",
      "state": {}
     },
     "ad76dd44c7e84ed49dee259116bc995c": {
      "model_module": "@jupyter-widgets/controls",
      "model_module_version": "1.2.0",
      "model_name": "HBoxModel",
      "state": {
       "children": [
        "IPY_MODEL_b3c707c1251744c89adfa09ec9dfa162"
       ],
       "layout": "IPY_MODEL_4dac5f9a54a84d8390391e0298e62eb1"
      }
     },
     "ae4990f8298046888b5a65bc75b432e3": {
      "model_module": "@jupyter-widgets/base",
      "model_module_version": "1.0.0",
      "model_name": "LayoutModel",
      "state": {
       "width": "250px"
      }
     },
     "ae607c8bb542474798079836042d1131": {
      "model_module": "@jupyter-widgets/controls",
      "model_module_version": "1.2.0",
      "model_name": "DescriptionStyleModel",
      "state": {
       "description_width": ""
      }
     },
     "ae8f7a0c66804b6282fc886c3a7bb5cf": {
      "model_module": "@jupyter-widgets/controls",
      "model_module_version": "1.2.0",
      "model_name": "ButtonStyleModel",
      "state": {}
     },
     "aed46a3762d8481285cc830f2ad86d79": {
      "model_module": "@jupyter-widgets/controls",
      "model_module_version": "1.2.0",
      "model_name": "ButtonModel",
      "state": {
       "description": "Reduce",
       "layout": "IPY_MODEL_f11fecda7d81429aafb9b9a0771af2e7",
       "style": "IPY_MODEL_a287849fcf554b7ea07b041dbd8fe500"
      }
     },
     "aef30b23b82b4d9c9b6f49c5bb6b5ff6": {
      "model_module": "@jupyter-widgets/controls",
      "model_module_version": "1.2.0",
      "model_name": "HBoxModel",
      "state": {
       "children": [
        "IPY_MODEL_2b17120774794e0eaab17f809b1c580b",
        "IPY_MODEL_1c886070f5674611b45edc4e1465849c"
       ],
       "layout": "IPY_MODEL_1092de54526649cebcb2865189f4520d"
      }
     },
     "aeffcb543be04fcc8d8d817c63b9eeaf": {
      "model_module": "@jupyter-widgets/base",
      "model_module_version": "1.0.0",
      "model_name": "LayoutModel",
      "state": {}
     },
     "af0984beac674915bba27238d1de42bf": {
      "model_module": "@jupyter-widgets/controls",
      "model_module_version": "1.2.0",
      "model_name": "ButtonModel",
      "state": {
       "description": "Shift",
       "layout": "IPY_MODEL_27a87ddc54f841778d3d6cf236ecb420",
       "style": "IPY_MODEL_82bc8b28d65b45a0baf930f2d132dac3"
      }
     },
     "af2e51788354405ca20c3d95b9572d1c": {
      "model_module": "@jupyter-widgets/controls",
      "model_module_version": "1.2.0",
      "model_name": "CheckboxModel",
      "state": {
       "description": "Scan",
       "disabled": false,
       "layout": "IPY_MODEL_6fea0159917e4e9c8f4f3e28b284cc60",
       "style": "IPY_MODEL_1cf5218e0827468991753c7dcdbf23f3",
       "value": true
      }
     },
     "af7adb1e17624fb5bca1110fcd15dddb": {
      "model_module": "@jupyter-widgets/base",
      "model_module_version": "1.0.0",
      "model_name": "LayoutModel",
      "state": {}
     },
     "afb30ea09782449f8fbb89792e343653": {
      "model_module": "@jupyter-widgets/controls",
      "model_module_version": "1.2.0",
      "model_name": "ButtonModel",
      "state": {
       "description": "Complete",
       "layout": "IPY_MODEL_44c43a3b12394d81b9b8cb496498e741",
       "style": "IPY_MODEL_78a4eaafa04b4ea5b160c6e5f9bbbeac"
      }
     },
     "b027758eefc14d93a0f10978b47863fd": {
      "model_module": "@jupyter-widgets/controls",
      "model_module_version": "1.2.0",
      "model_name": "ButtonStyleModel",
      "state": {}
     },
     "b08de230a4724e059de76f662e5e0253": {
      "model_module": "@jupyter-widgets/base",
      "model_module_version": "1.0.0",
      "model_name": "LayoutModel",
      "state": {}
     },
     "b0b08e5cf937465cbc9bb6bc34e44136": {
      "model_module": "@jupyter-widgets/base",
      "model_module_version": "1.0.0",
      "model_name": "LayoutModel",
      "state": {}
     },
     "b0dff703c6864b9aa8474f6887814380": {
      "model_module": "@jupyter-widgets/base",
      "model_module_version": "1.0.0",
      "model_name": "LayoutModel",
      "state": {
       "justify_content": "center"
      }
     },
     "b0e72f50a74b4727a2362dd435d7742e": {
      "model_module": "@jupyter-widgets/controls",
      "model_module_version": "1.2.0",
      "model_name": "HBoxModel",
      "state": {
       "children": [
        "IPY_MODEL_a0c2bc8f067b4307bf9731c8aadc4301",
        "IPY_MODEL_7489ccb8d10f40938a24d41c2388403e"
       ],
       "layout": "IPY_MODEL_819500e9c89b4b5fb8746413b13d1729"
      }
     },
     "b145271d43884ee2ba938e8213b1f3c0": {
      "model_module": "@jupyter-widgets/controls",
      "model_module_version": "1.2.0",
      "model_name": "HBoxModel",
      "state": {
       "children": [
        "IPY_MODEL_6b4182db58cb4918863171a07dd80861",
        "IPY_MODEL_7de5bf4247294a8baf4a97e761bd8d6f"
       ],
       "layout": "IPY_MODEL_b08de230a4724e059de76f662e5e0253"
      }
     },
     "b164c46d100f41f4876a9ffacd8778ce": {
      "model_module": "@jupyter-widgets/base",
      "model_module_version": "1.0.0",
      "model_name": "LayoutModel",
      "state": {
       "width": "600px"
      }
     },
     "b1758e48399c4010bf2f5ed09f893462": {
      "model_module": "@jupyter-widgets/controls",
      "model_module_version": "1.2.0",
      "model_name": "HBoxModel",
      "state": {
       "children": [
        "IPY_MODEL_8b18eeb88291476db9905ea15a602345",
        "IPY_MODEL_e62d8d6a440a4ff1a61378b6a23ba760"
       ],
       "layout": "IPY_MODEL_10df1ee91dd348b38897012a85762beb"
      }
     },
     "b1957af6964f4d79b3d102f66d7972c5": {
      "model_module": "@jupyter-widgets/base",
      "model_module_version": "1.0.0",
      "model_name": "LayoutModel",
      "state": {}
     },
     "b1bcbbe8038749b1804b5dbb01648dfd": {
      "model_module": "@jupyter-widgets/controls",
      "model_module_version": "1.2.0",
      "model_name": "ButtonModel",
      "state": {
       "description": "Shift Reduce",
       "layout": "IPY_MODEL_24d3d70dece54e828815334a99fc2144",
       "style": "IPY_MODEL_9216030b5e5e47daa39aae2f184b4165"
      }
     },
     "b1e908a400ed4137ae5b5d6e83e904ca": {
      "model_module": "@jupyter-widgets/controls",
      "model_module_version": "1.2.0",
      "model_name": "HTMLModel",
      "state": {
       "layout": "IPY_MODEL_19e9a5220471424f8a12c6353612600c",
       "style": "IPY_MODEL_78a9d2294e2c423db4b02f3d690b7918",
       "value": "<h4 style=\"font-size:14px;\">Um welchen Parser handelt es sich?</h4>"
      }
     },
     "b22b2b6af5444c2ea70c1ae8b67c5e68": {
      "model_module": "@jupyter-widgets/controls",
      "model_module_version": "1.2.0",
      "model_name": "DescriptionStyleModel",
      "state": {
       "description_width": ""
      }
     },
     "b2fbd3701e144bffa00d9a287a9532f2": {
      "model_module": "@jupyter-widgets/base",
      "model_module_version": "1.0.0",
      "model_name": "LayoutModel",
      "state": {
       "width": "250px"
      }
     },
     "b329912aaf4e4a99b3fc8a3da1fcf5a0": {
      "model_module": "@jupyter-widgets/base",
      "model_module_version": "1.0.0",
      "model_name": "LayoutModel",
      "state": {}
     },
     "b35543383c104849bf65eaa1be92f967": {
      "model_module": "@jupyter-widgets/controls",
      "model_module_version": "1.2.0",
      "model_name": "ButtonStyleModel",
      "state": {}
     },
     "b3c707c1251744c89adfa09ec9dfa162": {
      "model_module": "@jupyter-widgets/controls",
      "model_module_version": "1.2.0",
      "model_name": "ButtonModel",
      "state": {
       "description": "Shift",
       "layout": "IPY_MODEL_3466235e24a24daf8428ce4f376ff1d7",
       "style": "IPY_MODEL_31e9da1da8ed4320b466259ddcdac04a"
      }
     },
     "b3eaf7932e854b48bfa2ebbae302d9ed": {
      "model_module": "@jupyter-widgets/controls",
      "model_module_version": "1.2.0",
      "model_name": "VBoxModel",
      "state": {
       "children": [
        "IPY_MODEL_82839f93e7b34e599655451d4a91b20d",
        "IPY_MODEL_05ac8413f0fe4d5cbb5392bd8ca67b77",
        "IPY_MODEL_c3335ede082e4504af0489365d5d16a9",
        "IPY_MODEL_2b229bdcfb9a475ba2c8ba77701e6064"
       ],
       "layout": "IPY_MODEL_2f1e403f5e3f4e0e9f3d7b0410b13a0d"
      }
     },
     "b405bc56831c478692ebed4b356b0043": {
      "model_module": "@jupyter-widgets/controls",
      "model_module_version": "1.2.0",
      "model_name": "DescriptionStyleModel",
      "state": {
       "description_width": ""
      }
     },
     "b432a74735654965863ee73290aa71a1": {
      "model_module": "@jupyter-widgets/base",
      "model_module_version": "1.0.0",
      "model_name": "LayoutModel",
      "state": {}
     },
     "b44c18dfc6384c8a8bceca1aef1d92ca": {
      "model_module": "@jupyter-widgets/controls",
      "model_module_version": "1.2.0",
      "model_name": "ButtonStyleModel",
      "state": {}
     },
     "b46fd3fe3e49493a8a104d95ba09bcc6": {
      "model_module": "@jupyter-widgets/controls",
      "model_module_version": "1.2.0",
      "model_name": "ButtonModel",
      "state": {
       "description": "Reduce",
       "layout": "IPY_MODEL_90cc47f15ae5403595cd7bdfdf8f9027",
       "style": "IPY_MODEL_0d40d129807745dbad773237652cf0f0"
      }
     },
     "b48165fb26b34b7ea46e90e377ac5a96": {
      "model_module": "@jupyter-widgets/controls",
      "model_module_version": "1.2.0",
      "model_name": "ButtonStyleModel",
      "state": {}
     },
     "b4ad7523189e4d9e9afd6df05f439e6d": {
      "model_module": "@jupyter-widgets/controls",
      "model_module_version": "1.2.0",
      "model_name": "HBoxModel",
      "state": {
       "children": [
        "IPY_MODEL_dc010ed65982464ebd9e14d0f90b6ff1",
        "IPY_MODEL_96c739344cbc4b5f8909bdb121dbd40c"
       ],
       "layout": "IPY_MODEL_6287cbd59cdc4487af58a6d17d0ea7f6"
      }
     },
     "b4b81d5bcdc94e45924f89a79cf18571": {
      "model_module": "@jupyter-widgets/base",
      "model_module_version": "1.0.0",
      "model_name": "LayoutModel",
      "state": {
       "width": "600px"
      }
     },
     "b54e09df8026452799fd0a06ecd96b95": {
      "model_module": "@jupyter-widgets/controls",
      "model_module_version": "1.2.0",
      "model_name": "HTMLModel",
      "state": {
       "layout": "IPY_MODEL_ce6fc230277142c89a5e428efc827e20",
       "style": "IPY_MODEL_fd5b8031066347d2a7934c86fea02ce5",
       "value": "<i>Wählen Sie die <ins>eine</ins> korrekte Antwort aus: </i>"
      }
     },
     "b581b1705ff7422dab639f269b577ec2": {
      "model_module": "@jupyter-widgets/controls",
      "model_module_version": "1.2.0",
      "model_name": "ButtonModel",
      "state": {
       "description": "Earley",
       "layout": "IPY_MODEL_04d86de2999845af98cc64f5575dc544",
       "style": "IPY_MODEL_1e3820e69f9b4113a6496ca7d60a51ee"
      }
     },
     "b587989543844b949b68ea093340e6c2": {
      "model_module": "@jupyter-widgets/base",
      "model_module_version": "1.0.0",
      "model_name": "LayoutModel",
      "state": {
       "width": "250px"
      }
     },
     "b593db63a3134319832303759df33b9b": {
      "model_module": "@jupyter-widgets/controls",
      "model_module_version": "1.2.0",
      "model_name": "HBoxModel",
      "state": {
       "children": [
        "IPY_MODEL_c7a4c10a6c1e4621ba892d5dee333003",
        "IPY_MODEL_ad1301f27d944070be6567163421da0b"
       ],
       "layout": "IPY_MODEL_5b886c45237748f1bce61af37ee0db79"
      }
     },
     "b595a8f9b7984be3a9cfc824dd6e3d7c": {
      "model_module": "@jupyter-widgets/base",
      "model_module_version": "1.0.0",
      "model_name": "LayoutModel",
      "state": {
       "width": "250px"
      }
     },
     "b5c72e1397004d8f90771a7ea7a5792b": {
      "model_module": "@jupyter-widgets/controls",
      "model_module_version": "1.2.0",
      "model_name": "ButtonStyleModel",
      "state": {
       "button_color": "lightgreen"
      }
     },
     "b6035766694a41f1aa838aec6737e0dd": {
      "model_module": "@jupyter-widgets/controls",
      "model_module_version": "1.2.0",
      "model_name": "ButtonStyleModel",
      "state": {}
     },
     "b64ac8920d8f40b6802829b9f47de053": {
      "model_module": "@jupyter-widgets/base",
      "model_module_version": "1.0.0",
      "model_name": "LayoutModel",
      "state": {
       "width": "250px"
      }
     },
     "b66c052f83744ed6af1d7616cb6fe768": {
      "model_module": "@jupyter-widgets/base",
      "model_module_version": "1.0.0",
      "model_name": "LayoutModel",
      "state": {}
     },
     "b679fc3920114bceb42d348a673f755a": {
      "model_module": "@jupyter-widgets/controls",
      "model_module_version": "1.2.0",
      "model_name": "ButtonModel",
      "state": {
       "description": "Shift Reduce",
       "layout": "IPY_MODEL_a91753971b2b4137bbbdb8ebb6320cfc",
       "style": "IPY_MODEL_931770f357824546b6e0bb058fa04e92"
      }
     },
     "b692bdd750854397b7134e8bfc32244d": {
      "model_module": "@jupyter-widgets/controls",
      "model_module_version": "1.2.0",
      "model_name": "ButtonStyleModel",
      "state": {}
     },
     "b6d87d54b22a4372a0a78f6079d7ba1b": {
      "model_module": "@jupyter-widgets/controls",
      "model_module_version": "1.2.0",
      "model_name": "DescriptionStyleModel",
      "state": {
       "description_width": ""
      }
     },
     "b6dadcdb09f64599bd901e0a64e4bb81": {
      "model_module": "@jupyter-widgets/controls",
      "model_module_version": "1.2.0",
      "model_name": "ButtonStyleModel",
      "state": {
       "button_color": "lightgreen"
      }
     },
     "b6e92764f7bc47de9089d88eb23434c2": {
      "model_module": "@jupyter-widgets/base",
      "model_module_version": "1.0.0",
      "model_name": "LayoutModel",
      "state": {
       "width": "600px"
      }
     },
     "b70b707b93964291b9ce3739a6e52c9c": {
      "model_module": "@jupyter-widgets/base",
      "model_module_version": "1.0.0",
      "model_name": "LayoutModel",
      "state": {
       "justify_content": "center"
      }
     },
     "b7108ea320b6411299cba9287724f112": {
      "model_module": "@jupyter-widgets/controls",
      "model_module_version": "1.2.0",
      "model_name": "ButtonStyleModel",
      "state": {}
     },
     "b7739eb4a090420da5ef9cddad1d5cf0": {
      "model_module": "@jupyter-widgets/controls",
      "model_module_version": "1.2.0",
      "model_name": "HTMLModel",
      "state": {
       "layout": "IPY_MODEL_d51001913fa64759b4db31a55ce96325",
       "style": "IPY_MODEL_e934c44e892a48f2992423dfa346c73e",
       "value": "<h4 style=\"font-size:14px;\">Welche Operation folgt als nächstes?</h4>"
      }
     },
     "b79fa99457be4122996a1675adacbeca": {
      "model_module": "@jupyter-widgets/controls",
      "model_module_version": "1.2.0",
      "model_name": "ButtonModel",
      "state": {
       "description": "Scan",
       "layout": "IPY_MODEL_c10f2f8396fd4b6daf36a328e831dcd3",
       "style": "IPY_MODEL_b7108ea320b6411299cba9287724f112"
      }
     },
     "b7e6e789fb9548beab01ddfe021fc2a4": {
      "model_module": "@jupyter-widgets/base",
      "model_module_version": "1.0.0",
      "model_name": "LayoutModel",
      "state": {}
     },
     "b81b949d16b34eda9d94d03ed81c7700": {
      "model_module": "@jupyter-widgets/base",
      "model_module_version": "1.0.0",
      "model_name": "LayoutModel",
      "state": {
       "width": "250px"
      }
     },
     "b86aebb66eff44ccaa58231c40d50349": {
      "model_module": "@jupyter-widgets/base",
      "model_module_version": "1.0.0",
      "model_name": "LayoutModel",
      "state": {
       "width": "250px"
      }
     },
     "b8dfb6d30992471fa259991ba98b426d": {
      "model_module": "@jupyter-widgets/controls",
      "model_module_version": "1.2.0",
      "model_name": "ButtonStyleModel",
      "state": {}
     },
     "b9605fdb92a74144bb3a3634eb33252a": {
      "model_module": "@jupyter-widgets/base",
      "model_module_version": "1.0.0",
      "model_name": "LayoutModel",
      "state": {
       "width": "250px"
      }
     },
     "b9a200b87935483bb795e594456a1685": {
      "model_module": "@jupyter-widgets/base",
      "model_module_version": "1.0.0",
      "model_name": "LayoutModel",
      "state": {
       "width": "250px"
      }
     },
     "b9da1d9668484912abde80cab6b9e099": {
      "model_module": "@jupyter-widgets/controls",
      "model_module_version": "1.2.0",
      "model_name": "VBoxModel",
      "state": {
       "children": [
        "IPY_MODEL_8c0982609f384e7eb91c2d3aa8e81e25",
        "IPY_MODEL_7353363562ec4de29f3f26848c05e847",
        "IPY_MODEL_72dcbc8b9d444893958111366cfa1f36",
        "IPY_MODEL_55232b6df6fb4040b7bf7c627d4c28b6",
        "IPY_MODEL_63212d36071449b7815d49b4fcfbf8b7"
       ],
       "layout": "IPY_MODEL_a573a4db81bb4a01a5539674ee926b86"
      }
     },
     "baa9cf7d5e864e5db9af4518c2d5cb3d": {
      "model_module": "@jupyter-widgets/base",
      "model_module_version": "1.0.0",
      "model_name": "LayoutModel",
      "state": {}
     },
     "bacca5a205e14321ac6461a18f6af5c8": {
      "model_module": "@jupyter-widgets/controls",
      "model_module_version": "1.2.0",
      "model_name": "ButtonModel",
      "state": {
       "description": "Complete",
       "layout": "IPY_MODEL_0700a7d8df164f48b959516d90b0eb1f",
       "style": "IPY_MODEL_d36fa8d3fad04a44b4e6d870c444f2c4"
      }
     },
     "bb0f950bf5084b16aca62008be0edcc8": {
      "model_module": "@jupyter-widgets/base",
      "model_module_version": "1.0.0",
      "model_name": "LayoutModel",
      "state": {
       "width": "250px"
      }
     },
     "bb61264bbaf74de2a840b9a80bb88d70": {
      "model_module": "@jupyter-widgets/controls",
      "model_module_version": "1.2.0",
      "model_name": "HBoxModel",
      "state": {
       "children": [
        "IPY_MODEL_8a2a95185d974720b31a520b23b35ed8",
        "IPY_MODEL_d8100f0213464957bd57a57b1f5e0b0d"
       ],
       "layout": "IPY_MODEL_a4c0447a8da643208069a42fbb34ea31"
      }
     },
     "bb752a159a9e4aca9736657e88e1946b": {
      "model_module": "@jupyter-widgets/controls",
      "model_module_version": "1.2.0",
      "model_name": "HBoxModel",
      "state": {
       "children": [
        "IPY_MODEL_35a881aef81b4f2a8fbcd7549b034fe4"
       ],
       "layout": "IPY_MODEL_46419f5227eb490796847a7675b2b5c0"
      }
     },
     "bbb4dfaf33d145f2bba701669d1156a7": {
      "model_module": "@jupyter-widgets/base",
      "model_module_version": "1.0.0",
      "model_name": "LayoutModel",
      "state": {
       "width": "600px"
      }
     },
     "bbc7a7f47570498a966135944c9b1092": {
      "model_module": "@jupyter-widgets/controls",
      "model_module_version": "1.2.0",
      "model_name": "HTMLModel",
      "state": {
       "layout": "IPY_MODEL_4bf00c41f8304351a8be18d82abb8d1d",
       "style": "IPY_MODEL_de955d6d2ccb4a1385eb0533b27503c2",
       "value": "<i>Wählen Sie die <ins>eine</ins> korrekte Antwort aus: </i>"
      }
     },
     "bc2f83395a7142feb421f5839cef0e37": {
      "model_module": "@jupyter-widgets/controls",
      "model_module_version": "1.2.0",
      "model_name": "CheckboxModel",
      "state": {
       "description": "Complete",
       "disabled": false,
       "layout": "IPY_MODEL_657e4fecbe7248b1b16ebe94fb045724",
       "style": "IPY_MODEL_27d0c310717746efa634fce1808eb983",
       "value": false
      }
     },
     "bc458d10313047bb95b2d5ecfd3d5be8": {
      "model_module": "@jupyter-widgets/controls",
      "model_module_version": "1.2.0",
      "model_name": "ButtonModel",
      "state": {
       "description": "Shift Reduce",
       "layout": "IPY_MODEL_4a6ed8ba6e5a43318c3be2a5c873caea",
       "style": "IPY_MODEL_a03cfbe6c2084c46b31a91c9978ae124"
      }
     },
     "bc6cd3974be84059acd82f7af829b7e0": {
      "model_module": "@jupyter-widgets/controls",
      "model_module_version": "1.2.0",
      "model_name": "ButtonStyleModel",
      "state": {}
     },
     "bc8274ce0e39408686acafddbd8a1142": {
      "model_module": "@jupyter-widgets/base",
      "model_module_version": "1.0.0",
      "model_name": "LayoutModel",
      "state": {
       "width": "250px"
      }
     },
     "bcfea01a41124be0bf2c2d38141005bc": {
      "model_module": "@jupyter-widgets/controls",
      "model_module_version": "1.2.0",
      "model_name": "ButtonModel",
      "state": {
       "description": "Shift",
       "layout": "IPY_MODEL_f8ddf5bed19d4137867a6951c51b56af",
       "style": "IPY_MODEL_c98299264bd446059aaa06c4bd79cb59"
      }
     },
     "bd1bd3501894445080790fbce077059a": {
      "model_module": "@jupyter-widgets/controls",
      "model_module_version": "1.2.0",
      "model_name": "ButtonStyleModel",
      "state": {
       "button_color": "lightgreen"
      }
     },
     "bd56d3bf78a94c5e8e2de8ac9e0dc7d1": {
      "model_module": "@jupyter-widgets/base",
      "model_module_version": "1.0.0",
      "model_name": "LayoutModel",
      "state": {
       "width": "250px"
      }
     },
     "bdb137f8000946febe2c1c1574a76675": {
      "model_module": "@jupyter-widgets/base",
      "model_module_version": "1.0.0",
      "model_name": "LayoutModel",
      "state": {
       "width": "250px"
      }
     },
     "be400e12a5e7428b87ee297b80fa2727": {
      "model_module": "@jupyter-widgets/controls",
      "model_module_version": "1.2.0",
      "model_name": "ButtonStyleModel",
      "state": {}
     },
     "be5e37abe1f04a90a5ce07164e907566": {
      "model_module": "@jupyter-widgets/controls",
      "model_module_version": "1.2.0",
      "model_name": "ButtonModel",
      "state": {
       "description": "Reduce",
       "layout": "IPY_MODEL_a87492caaf0847ab9e3afe90ec98fb66",
       "style": "IPY_MODEL_7b3059af11c44bdf9099528c13ff985c"
      }
     },
     "be84c57fef9f4af89a8cf09e73122e51": {
      "model_module": "@jupyter-widgets/controls",
      "model_module_version": "1.2.0",
      "model_name": "HBoxModel",
      "state": {
       "children": [
        "IPY_MODEL_da3b8a5d31534311bb2051d867e208ff"
       ],
       "layout": "IPY_MODEL_0e135386d0df464696bd8ec420463b0e"
      }
     },
     "bf1eb27ce5344520bf764e99bacb8f8c": {
      "model_module": "@jupyter-widgets/controls",
      "model_module_version": "1.2.0",
      "model_name": "HTMLModel",
      "state": {
       "layout": "IPY_MODEL_2d80349c609f426b8520ecf62b793c41",
       "style": "IPY_MODEL_40a61126e7fd4e4ba9acf09f6aea22b1",
       "value": "<h4 style=\"font-size:14px;\">Welche Operation folgt als nächstes?</h4>"
      }
     },
     "bf6d936a52824d58a5c2fa413a5a6293": {
      "model_module": "@jupyter-widgets/controls",
      "model_module_version": "1.2.0",
      "model_name": "ButtonStyleModel",
      "state": {}
     },
     "bf80afd1c9d847c793fc33171d903006": {
      "model_module": "@jupyter-widgets/controls",
      "model_module_version": "1.2.0",
      "model_name": "DescriptionStyleModel",
      "state": {
       "description_width": ""
      }
     },
     "bf931518529c44a8b13ef5e8759201cd": {
      "model_module": "@jupyter-widgets/base",
      "model_module_version": "1.0.0",
      "model_name": "LayoutModel",
      "state": {}
     },
     "bfa39c509d1b4a35afbf6f876c25f856": {
      "model_module": "@jupyter-widgets/controls",
      "model_module_version": "1.2.0",
      "model_name": "HBoxModel",
      "state": {
       "children": [
        "IPY_MODEL_f8691f870c474a788479362039740a65",
        "IPY_MODEL_b46fd3fe3e49493a8a104d95ba09bcc6"
       ],
       "layout": "IPY_MODEL_5a2e18cb8bc24f08a7487f1f82325b24"
      }
     },
     "bfcd1d80ccbb480da7d0dda3de9f0ab2": {
      "model_module": "@jupyter-widgets/controls",
      "model_module_version": "1.2.0",
      "model_name": "HTMLModel",
      "state": {
       "layout": "IPY_MODEL_782fab54e9c84afcb405f2f73047d2a4",
       "style": "IPY_MODEL_440ba8b2684942c0a6b3536dcccbebc7",
       "value": "<i>Wählen Sie die <ins>eine</ins> korrekte Antwort aus: </i>"
      }
     },
     "c01b3d6b9827413eb70de799f4e51261": {
      "model_module": "@jupyter-widgets/controls",
      "model_module_version": "1.2.0",
      "model_name": "ButtonStyleModel",
      "state": {}
     },
     "c01f3d6ab473476ea7248fc12e5cc96f": {
      "model_module": "@jupyter-widgets/base",
      "model_module_version": "1.0.0",
      "model_name": "LayoutModel",
      "state": {
       "width": "250px"
      }
     },
     "c0449cec717f452c99cd2e1710718ec5": {
      "model_module": "@jupyter-widgets/base",
      "model_module_version": "1.0.0",
      "model_name": "LayoutModel",
      "state": {}
     },
     "c0aabfd01f8c4f84a5ea476fa93f732c": {
      "model_module": "@jupyter-widgets/controls",
      "model_module_version": "1.2.0",
      "model_name": "ButtonStyleModel",
      "state": {}
     },
     "c0cd9185c58146acac29bf0f5d1eb297": {
      "model_module": "@jupyter-widgets/base",
      "model_module_version": "1.0.0",
      "model_name": "LayoutModel",
      "state": {}
     },
     "c0d04f71b5d24e1ba67c090cd20ac733": {
      "model_module": "@jupyter-widgets/base",
      "model_module_version": "1.0.0",
      "model_name": "LayoutModel",
      "state": {}
     },
     "c10f2f8396fd4b6daf36a328e831dcd3": {
      "model_module": "@jupyter-widgets/base",
      "model_module_version": "1.0.0",
      "model_name": "LayoutModel",
      "state": {
       "width": "250px"
      }
     },
     "c123cc41f52541d6ba3bf002aaea91e2": {
      "model_module": "@jupyter-widgets/controls",
      "model_module_version": "1.2.0",
      "model_name": "HBoxModel",
      "state": {
       "children": [
        "IPY_MODEL_027f56fa1cfc410c86363fdb0b1b7f4a",
        "IPY_MODEL_6639fcb90e2c4139b07d6be7f657d502"
       ],
       "layout": "IPY_MODEL_65ee6c26bc904e529b61f68d42950163"
      }
     },
     "c1372dc53523445c9dbd0fab523e452d": {
      "model_module": "@jupyter-widgets/base",
      "model_module_version": "1.0.0",
      "model_name": "LayoutModel",
      "state": {
       "width": "250px"
      }
     },
     "c1386ef6ab784dc0adc8506f993b7bc0": {
      "model_module": "@jupyter-widgets/controls",
      "model_module_version": "1.2.0",
      "model_name": "ButtonStyleModel",
      "state": {}
     },
     "c157dbf7c9cf45cf8f16f5780d29cb6a": {
      "model_module": "@jupyter-widgets/base",
      "model_module_version": "1.0.0",
      "model_name": "LayoutModel",
      "state": {}
     },
     "c16cd7cc86934397aad10bc09c2526a1": {
      "model_module": "@jupyter-widgets/controls",
      "model_module_version": "1.2.0",
      "model_name": "ButtonModel",
      "state": {
       "description": "Reduce",
       "layout": "IPY_MODEL_94e6695faa994484ac07861de7373343",
       "style": "IPY_MODEL_1dbc5f9789574779bcc2b7533119cda5"
      }
     },
     "c1a8a1b81e2d4c5ab5b260077eb2e238": {
      "model_module": "@jupyter-widgets/base",
      "model_module_version": "1.0.0",
      "model_name": "LayoutModel",
      "state": {}
     },
     "c24bc73e26db414ebe77921e62854ec9": {
      "model_module": "@jupyter-widgets/controls",
      "model_module_version": "1.2.0",
      "model_name": "ButtonModel",
      "state": {
       "description": "Scan",
       "layout": "IPY_MODEL_c6b3e325dc194051b215fe69e42bee52",
       "style": "IPY_MODEL_64805f1c1c3c412e81267343fe1e3d95"
      }
     },
     "c2a2b251426049518f91589914487c84": {
      "model_module": "@jupyter-widgets/base",
      "model_module_version": "1.0.0",
      "model_name": "LayoutModel",
      "state": {
       "width": "250px"
      }
     },
     "c2d34507db784e79a475cd905a09a556": {
      "model_module": "@jupyter-widgets/base",
      "model_module_version": "1.0.0",
      "model_name": "LayoutModel",
      "state": {
       "justify_content": "center"
      }
     },
     "c2ff1a6a6c2c48029130eb0a01fde6c5": {
      "model_module": "@jupyter-widgets/base",
      "model_module_version": "1.0.0",
      "model_name": "LayoutModel",
      "state": {
       "width": "250px"
      }
     },
     "c32e63ac6c824c7188258f2b4fcbe161": {
      "model_module": "@jupyter-widgets/controls",
      "model_module_version": "1.2.0",
      "model_name": "ButtonModel",
      "state": {
       "description": "Reduce",
       "layout": "IPY_MODEL_b9605fdb92a74144bb3a3634eb33252a",
       "style": "IPY_MODEL_2104f81b072048e1ab725637641f972a"
      }
     },
     "c3335ede082e4504af0489365d5d16a9": {
      "model_module": "@jupyter-widgets/controls",
      "model_module_version": "1.2.0",
      "model_name": "HBoxModel",
      "state": {
       "children": [
        "IPY_MODEL_e6a1ef622a474ab4a177f99b26c464ee",
        "IPY_MODEL_3139ffda7ebc4ff5a0c2b28151221bca"
       ],
       "layout": "IPY_MODEL_5f0214fb6ba34805ac553918932fb8fc"
      }
     },
     "c4146829867c44d7999d84e530ff5026": {
      "model_module": "@jupyter-widgets/controls",
      "model_module_version": "1.2.0",
      "model_name": "ButtonStyleModel",
      "state": {}
     },
     "c45802a923c941118190083f57af103c": {
      "model_module": "@jupyter-widgets/base",
      "model_module_version": "1.0.0",
      "model_name": "LayoutModel",
      "state": {}
     },
     "c4617a4f18364715bf296a31b9c69abc": {
      "model_module": "@jupyter-widgets/controls",
      "model_module_version": "1.2.0",
      "model_name": "VBoxModel",
      "state": {
       "children": [
        "IPY_MODEL_22ccab0ed9064463828d9f0a40c1d3d3",
        "IPY_MODEL_01b19f5b542a494b9fe49f6111571d18",
        "IPY_MODEL_a4648a80e70545569f923affe04df961",
        "IPY_MODEL_7d0f597dbc6d468f8af1e6fb9d8a6940",
        "IPY_MODEL_80f3f8b1416d4f619f503f8884281be4"
       ],
       "layout": "IPY_MODEL_0f44761a81184989a1c184cf63066a19"
      }
     },
     "c488c61404194deba1514919a7e70555": {
      "model_module": "@jupyter-widgets/controls",
      "model_module_version": "1.2.0",
      "model_name": "CheckboxModel",
      "state": {
       "description": "Scan",
       "disabled": false,
       "layout": "IPY_MODEL_22ec238fb2f64795a03d977c5db8c88b",
       "style": "IPY_MODEL_f0b9252a8ac94f28949dd5797fec1082",
       "value": false
      }
     },
     "c4a0b9186f3643a8959d726a4c87e90c": {
      "model_module": "@jupyter-widgets/base",
      "model_module_version": "1.0.0",
      "model_name": "LayoutModel",
      "state": {
       "width": "250px"
      }
     },
     "c4aaf2a290914615a4cd1aee4160bb4a": {
      "model_module": "@jupyter-widgets/controls",
      "model_module_version": "1.2.0",
      "model_name": "DescriptionStyleModel",
      "state": {
       "description_width": ""
      }
     },
     "c4d9b080945a45e2b951ff1154d139b3": {
      "model_module": "@jupyter-widgets/controls",
      "model_module_version": "1.2.0",
      "model_name": "ButtonStyleModel",
      "state": {}
     },
     "c4fd008664e94b01b18dfca83d229781": {
      "model_module": "@jupyter-widgets/controls",
      "model_module_version": "1.2.0",
      "model_name": "DescriptionStyleModel",
      "state": {
       "description_width": "initial"
      }
     },
     "c52b7a89fbab4b87859772cc0e254ede": {
      "model_module": "@jupyter-widgets/base",
      "model_module_version": "1.0.0",
      "model_name": "LayoutModel",
      "state": {}
     },
     "c561c23c337c4955b3fc1b0addef3844": {
      "model_module": "@jupyter-widgets/controls",
      "model_module_version": "1.2.0",
      "model_name": "VBoxModel",
      "state": {
       "children": [
        "IPY_MODEL_3695c0bd1e964a9ab0e1b7c88a716e53",
        "IPY_MODEL_1abd2512b0d54f1c9b27bdad301b72bb",
        "IPY_MODEL_7294f90c06e647168e6ad07f899a59f9",
        "IPY_MODEL_fd100c3c6e3f4a8f8efea2f3c2f36468"
       ],
       "layout": "IPY_MODEL_b329912aaf4e4a99b3fc8a3da1fcf5a0"
      }
     },
     "c577def9ada2437581f73ce2b4765dd7": {
      "model_module": "@jupyter-widgets/controls",
      "model_module_version": "1.2.0",
      "model_name": "ButtonStyleModel",
      "state": {}
     },
     "c5e2d3e96d604014af6d9f337f767f22": {
      "model_module": "@jupyter-widgets/controls",
      "model_module_version": "1.2.0",
      "model_name": "DescriptionStyleModel",
      "state": {
       "description_width": ""
      }
     },
     "c5f0a3087fc1434eacf65e8b9ebab9a1": {
      "model_module": "@jupyter-widgets/controls",
      "model_module_version": "1.2.0",
      "model_name": "ButtonStyleModel",
      "state": {}
     },
     "c6350109b0e341adbd28c518e0724448": {
      "model_module": "@jupyter-widgets/base",
      "model_module_version": "1.0.0",
      "model_name": "LayoutModel",
      "state": {
       "width": "250px"
      }
     },
     "c64b4d94ad5b46f481f143547682bd14": {
      "model_module": "@jupyter-widgets/controls",
      "model_module_version": "1.2.0",
      "model_name": "DescriptionStyleModel",
      "state": {
       "description_width": ""
      }
     },
     "c6b3e325dc194051b215fe69e42bee52": {
      "model_module": "@jupyter-widgets/base",
      "model_module_version": "1.0.0",
      "model_name": "LayoutModel",
      "state": {
       "width": "250px"
      }
     },
     "c6ddd4f9de0d436c936d01e00c04b468": {
      "model_module": "@jupyter-widgets/controls",
      "model_module_version": "1.2.0",
      "model_name": "HBoxModel",
      "state": {
       "children": [
        "IPY_MODEL_ce09e64828be46f39407cddb93c1a931",
        "IPY_MODEL_083079dc019d4a668e2c0a87a8dc4396"
       ],
       "layout": "IPY_MODEL_ad5650b0ffaf460a8eb10f322a91b568"
      }
     },
     "c6efd709298f40c1bdd8fb3e7d7a8394": {
      "model_module": "@jupyter-widgets/base",
      "model_module_version": "1.0.0",
      "model_name": "LayoutModel",
      "state": {
       "width": "600px"
      }
     },
     "c712401ef2114537aacf77f04b2d7f62": {
      "model_module": "@jupyter-widgets/base",
      "model_module_version": "1.0.0",
      "model_name": "LayoutModel",
      "state": {
       "width": "250px"
      }
     },
     "c738b2027883428e8b2831c897d5b169": {
      "model_module": "@jupyter-widgets/controls",
      "model_module_version": "1.2.0",
      "model_name": "CheckboxModel",
      "state": {
       "description": "Predict",
       "disabled": false,
       "layout": "IPY_MODEL_1b575f1acf5348e8ad23c4fc510edb6d",
       "style": "IPY_MODEL_0bfbdfd3dd4547e0b332771a95dd0065",
       "value": false
      }
     },
     "c751a88cca2e48d6ad0858a119ffb1c5": {
      "model_module": "@jupyter-widgets/controls",
      "model_module_version": "1.2.0",
      "model_name": "HTMLModel",
      "state": {
       "layout": "IPY_MODEL_e7059dc9fea644a094f66f50c9f89af4",
       "style": "IPY_MODEL_2f9634e053844cf5b04c96859ca0d197",
       "value": "<i>Wählen Sie die <ins>eine</ins> korrekte Antwort aus: </i>"
      }
     },
     "c7541f466dde4cd9a08bacf99d06a0cf": {
      "model_module": "@jupyter-widgets/controls",
      "model_module_version": "1.2.0",
      "model_name": "VBoxModel",
      "state": {
       "children": [
        "IPY_MODEL_5b0f1e9e88e141f78246f9045b43f6a1",
        "IPY_MODEL_9f60d9c25a8f48ec803d25dd8a500075",
        "IPY_MODEL_cfa131c02c7b48da9dd4ebcb28d3d450",
        "IPY_MODEL_0a7b8003476c4cbf9010dcf5e7cf09f3",
        "IPY_MODEL_4490b029e8954dd0988ef8149dfc7be5"
       ],
       "layout": "IPY_MODEL_f2303c7e9f1a40a89258f9e3f331de6b"
      }
     },
     "c796dcd1ed9342eea4e34fa44d9b1a39": {
      "model_module": "@jupyter-widgets/base",
      "model_module_version": "1.0.0",
      "model_name": "LayoutModel",
      "state": {
       "width": "250px"
      }
     },
     "c7a4c10a6c1e4621ba892d5dee333003": {
      "model_module": "@jupyter-widgets/controls",
      "model_module_version": "1.2.0",
      "model_name": "ButtonModel",
      "state": {
       "description": "Predict",
       "layout": "IPY_MODEL_6dcc0699bda64cc2b31d1a564c103ba9",
       "style": "IPY_MODEL_d09f15775a824b76ab42668a2777b661"
      }
     },
     "c7ada5cefe6b479baff1391b9e369288": {
      "model_module": "@jupyter-widgets/controls",
      "model_module_version": "1.2.0",
      "model_name": "VBoxModel",
      "state": {
       "children": [
        "IPY_MODEL_a9dc576f80ec483094acd49460e77ab6",
        "IPY_MODEL_3d074cbd85f5475f8ec3a7471bd9ffcf",
        "IPY_MODEL_2a4dc81c6db1441d9c00321bc55af4e9",
        "IPY_MODEL_935f60ab27254480a7fc4a6cf35d3fe5"
       ],
       "layout": "IPY_MODEL_af7adb1e17624fb5bca1110fcd15dddb"
      }
     },
     "c7cfc7bc5a4142dcb6ce99d3c4e8a091": {
      "model_module": "@jupyter-widgets/base",
      "model_module_version": "1.0.0",
      "model_name": "LayoutModel",
      "state": {
       "width": "250px"
      }
     },
     "c7da505ac21f45a48ec021512b13591f": {
      "model_module": "@jupyter-widgets/base",
      "model_module_version": "1.0.0",
      "model_name": "LayoutModel",
      "state": {
       "width": "250px"
      }
     },
     "c801555dca7c42bca4cb2553b86f1423": {
      "model_module": "@jupyter-widgets/base",
      "model_module_version": "1.0.0",
      "model_name": "LayoutModel",
      "state": {}
     },
     "c821445b37324491b1089ba363a12ce0": {
      "model_module": "@jupyter-widgets/base",
      "model_module_version": "1.0.0",
      "model_name": "LayoutModel",
      "state": {}
     },
     "c8679f04cc0c4a9b9a88961d663b78ed": {
      "model_module": "@jupyter-widgets/base",
      "model_module_version": "1.0.0",
      "model_name": "LayoutModel",
      "state": {
       "width": "250px"
      }
     },
     "c871d1cf1c8743f6927ae49e74f4cfa0": {
      "model_module": "@jupyter-widgets/base",
      "model_module_version": "1.0.0",
      "model_name": "LayoutModel",
      "state": {}
     },
     "c8b850bc39314efaa01ec4245bbda497": {
      "model_module": "@jupyter-widgets/controls",
      "model_module_version": "1.2.0",
      "model_name": "ButtonModel",
      "state": {
       "description": "Shift",
       "layout": "IPY_MODEL_7f183d0883ea4921b6011c8587bcf57e",
       "style": "IPY_MODEL_ac88c033adf8478db300902b15cf8998"
      }
     },
     "c94cc345cba348e4a9071f3ed9e51e0d": {
      "model_module": "@jupyter-widgets/controls",
      "model_module_version": "1.2.0",
      "model_name": "HTMLModel",
      "state": {
       "layout": "IPY_MODEL_da94a8e4288b47fea807d440b7e2b0d1",
       "style": "IPY_MODEL_f5bb31fdc92a4182908745dc4d25a882",
       "value": "<h4 style=\"font-size:14px;\">Um welchen Parser handelt es sich?</h4>"
      }
     },
     "c95ca3a761394f23b5e730176ccefd3e": {
      "model_module": "@jupyter-widgets/controls",
      "model_module_version": "1.2.0",
      "model_name": "HBoxModel",
      "state": {
       "children": [
        "IPY_MODEL_e41b751e91414a6c86416a2dc956e98c",
        "IPY_MODEL_622d4ebb502344868f5ab3cc585c342f"
       ],
       "layout": "IPY_MODEL_4a8bbbf4ae384914ad090938f74447a2"
      }
     },
     "c98299264bd446059aaa06c4bd79cb59": {
      "model_module": "@jupyter-widgets/controls",
      "model_module_version": "1.2.0",
      "model_name": "ButtonStyleModel",
      "state": {}
     },
     "ca2e2331f232497a8fec077f97d5ce44": {
      "model_module": "@jupyter-widgets/controls",
      "model_module_version": "1.2.0",
      "model_name": "DescriptionStyleModel",
      "state": {
       "description_width": ""
      }
     },
     "cad4ac1341364cc69c90d8f0f7b6594c": {
      "model_module": "@jupyter-widgets/controls",
      "model_module_version": "1.2.0",
      "model_name": "HTMLModel",
      "state": {
       "layout": "IPY_MODEL_447949eae8114bc18a86b2754e580906",
       "style": "IPY_MODEL_3ce83d05eff14ee3a318f38e6e5f5e7b",
       "value": "<i>Wählen Sie die <ins>eine</ins> korrekte Antwort aus: </i>"
      }
     },
     "cada124924124e2ab35170d6fe89e44f": {
      "model_module": "@jupyter-widgets/base",
      "model_module_version": "1.0.0",
      "model_name": "LayoutModel",
      "state": {
       "width": "250px"
      }
     },
     "caea34a58f6d4adc80e0a28e941a327b": {
      "model_module": "@jupyter-widgets/base",
      "model_module_version": "1.0.0",
      "model_name": "LayoutModel",
      "state": {}
     },
     "cb37cfb93d854f4392c129098aa88fa4": {
      "model_module": "@jupyter-widgets/controls",
      "model_module_version": "1.2.0",
      "model_name": "ButtonModel",
      "state": {
       "description": "Predict",
       "layout": "IPY_MODEL_a38634c60c9a4b6aa42c9b00e807f400",
       "style": "IPY_MODEL_4ea03b40591240c3b38abe74b9066dce"
      }
     },
     "cc35acb3e78341ff93bca6d3a190f3a6": {
      "model_module": "@jupyter-widgets/controls",
      "model_module_version": "1.2.0",
      "model_name": "ButtonModel",
      "state": {
       "description": "Complete",
       "layout": "IPY_MODEL_55154884bdc1403aa33846ef521103e2",
       "style": "IPY_MODEL_c577def9ada2437581f73ce2b4765dd7"
      }
     },
     "cc897902c461417b9b26f0ae9df1fc77": {
      "model_module": "@jupyter-widgets/controls",
      "model_module_version": "1.2.0",
      "model_name": "ButtonModel",
      "state": {
       "description": "Complete",
       "layout": "IPY_MODEL_bb0f950bf5084b16aca62008be0edcc8",
       "style": "IPY_MODEL_121868b4411b47d29a613c6b710b6798"
      }
     },
     "cc8aa1b79b304558b09a9499c1813605": {
      "model_module": "@jupyter-widgets/base",
      "model_module_version": "1.0.0",
      "model_name": "LayoutModel",
      "state": {
       "justify_content": "center"
      }
     },
     "ccf8784d98a4439099d1ab1d223369f7": {
      "model_module": "@jupyter-widgets/controls",
      "model_module_version": "1.2.0",
      "model_name": "HTMLModel",
      "state": {
       "layout": "IPY_MODEL_52dd6b6eb00b41e5bc2f3cb4b474a34f",
       "style": "IPY_MODEL_35de2644961449f4b72b57d0e46aea0d",
       "value": "<i>Wählen Sie die <ins>eine</ins> korrekte Antwort aus: </i>"
      }
     },
     "ccfa8919227f4c6fb4d12a1e723262a5": {
      "model_module": "@jupyter-widgets/base",
      "model_module_version": "1.0.0",
      "model_name": "LayoutModel",
      "state": {}
     },
     "cd33822c22d14fdaa714e6e87e677d29": {
      "model_module": "@jupyter-widgets/base",
      "model_module_version": "1.0.0",
      "model_name": "LayoutModel",
      "state": {}
     },
     "cdec5f0d8f2c4b57b541b4ca790146b8": {
      "model_module": "@jupyter-widgets/base",
      "model_module_version": "1.0.0",
      "model_name": "LayoutModel",
      "state": {
       "width": "250px"
      }
     },
     "cdf63774abb940b58746c8095b4ff1a8": {
      "model_module": "@jupyter-widgets/base",
      "model_module_version": "1.0.0",
      "model_name": "LayoutModel",
      "state": {
       "width": "250px"
      }
     },
     "ce09e64828be46f39407cddb93c1a931": {
      "model_module": "@jupyter-widgets/controls",
      "model_module_version": "1.2.0",
      "model_name": "ButtonModel",
      "state": {
       "description": "Scan",
       "layout": "IPY_MODEL_fdb835a4024e4bf68d0a1e87c01f3b38",
       "style": "IPY_MODEL_9ddeed99d1aa495389dfd44c5ae1f305"
      }
     },
     "ce6fc230277142c89a5e428efc827e20": {
      "model_module": "@jupyter-widgets/base",
      "model_module_version": "1.0.0",
      "model_name": "LayoutModel",
      "state": {
       "justify_content": "center"
      }
     },
     "ce9b27e8648a4053aa0b3aa61b79a767": {
      "model_module": "@jupyter-widgets/controls",
      "model_module_version": "1.2.0",
      "model_name": "ButtonStyleModel",
      "state": {}
     },
     "ceedd677e40d4ea996a08fa2071dd4e1": {
      "model_module": "@jupyter-widgets/controls",
      "model_module_version": "1.2.0",
      "model_name": "HBoxModel",
      "state": {
       "children": [
        "IPY_MODEL_94ce1dfbf0aa4f9081b8e5b81c1033e4",
        "IPY_MODEL_13e540d321e9468d8aa11be42bae9308"
       ],
       "layout": "IPY_MODEL_a55a763edd4f4e4e9714223079535130"
      }
     },
     "cf4269321faa4d37bea3d5380f17b886": {
      "model_module": "@jupyter-widgets/controls",
      "model_module_version": "1.2.0",
      "model_name": "ButtonStyleModel",
      "state": {}
     },
     "cf635b9c9de447529f670da56b3aec57": {
      "model_module": "@jupyter-widgets/controls",
      "model_module_version": "1.2.0",
      "model_name": "VBoxModel",
      "state": {
       "children": [
        "IPY_MODEL_074139441d704f73a364f3cef26b8ed3",
        "IPY_MODEL_ed05932b909a4b8cae8a2a79c103da88",
        "IPY_MODEL_3673f93aa5934b4c84f2ebf18c4b3547",
        "IPY_MODEL_3274479b0998404c96f4e75c4bac6055"
       ],
       "layout": "IPY_MODEL_0888947aa8fc4f4f939e56708e913ed3"
      }
     },
     "cf87934014a34941a52afb2e4a930e72": {
      "model_module": "@jupyter-widgets/controls",
      "model_module_version": "1.2.0",
      "model_name": "VBoxModel",
      "state": {
       "children": [
        "IPY_MODEL_4b503d3e09db487bbff5c920523ce220",
        "IPY_MODEL_f04a35568d614621a5e66aa7c485d101",
        "IPY_MODEL_dedc791091cd4f38812c42be25b9c18b",
        "IPY_MODEL_653c1f596c9c46398c47d1cbfb5ed66e"
       ],
       "layout": "IPY_MODEL_7dc87ac9e1ec432ca7fd7c976d4cce5f"
      }
     },
     "cfa131c02c7b48da9dd4ebcb28d3d450": {
      "model_module": "@jupyter-widgets/controls",
      "model_module_version": "1.2.0",
      "model_name": "HBoxModel",
      "state": {
       "children": [
        "IPY_MODEL_0f49ededc34645fcb6203c9fc19f439e",
        "IPY_MODEL_85b2fab6119c473483dba2e8d9055f46"
       ],
       "layout": "IPY_MODEL_3620b2a42c4d46c489870e04a11364f1"
      }
     },
     "cfb09b8f9384476aa5a6ecd9b6ca02c8": {
      "model_module": "@jupyter-widgets/controls",
      "model_module_version": "1.2.0",
      "model_name": "HBoxModel",
      "state": {
       "children": [
        "IPY_MODEL_2aa62ff4e9314a2e92c4106d88a7dc03",
        "IPY_MODEL_15a2aaaba3f5490aa3cf9962fe86fcb6"
       ],
       "layout": "IPY_MODEL_6b9ab193480e472cb27486f1f7f86781"
      }
     },
     "cff674f8852947deae6c786aadf2c0c1": {
      "model_module": "@jupyter-widgets/controls",
      "model_module_version": "1.2.0",
      "model_name": "VBoxModel",
      "state": {
       "children": [
        "IPY_MODEL_ef36f6b4e9464070bd8bddf06cdcd9b6",
        "IPY_MODEL_e90761e069c34cb6b74ffa19599042d4",
        "IPY_MODEL_a1c0ade981654dc5948adeb7f9a6a339",
        "IPY_MODEL_592e6f0ca146439a924352d935800c45",
        "IPY_MODEL_839fd41f810d4803bd820e9427a4672d"
       ],
       "layout": "IPY_MODEL_a1dbdebc6b494ef49dcb6a6c9184d9d3"
      }
     },
     "d048c6cee5cd43e1bfa984d4f7cef0c2": {
      "model_module": "@jupyter-widgets/controls",
      "model_module_version": "1.2.0",
      "model_name": "HBoxModel",
      "state": {
       "children": [
        "IPY_MODEL_47ae6db920644aeca427930e581f0089",
        "IPY_MODEL_e52e86f5204e43c698df9b86073b72ea"
       ],
       "layout": "IPY_MODEL_0838233678bc48dcafb3b6a142cb26f6"
      }
     },
     "d0676f7624044f6ebce0f8191a853496": {
      "model_module": "@jupyter-widgets/controls",
      "model_module_version": "1.2.0",
      "model_name": "VBoxModel",
      "state": {
       "children": [
        "IPY_MODEL_f6a3a586be074344a972f8970fb7cff8",
        "IPY_MODEL_d34a89defd0848c0ac42428a1ba59a9c",
        "IPY_MODEL_b4ad7523189e4d9e9afd6df05f439e6d",
        "IPY_MODEL_6c7736c2af9349d299ab3ddb2bf2a11e",
        "IPY_MODEL_fc9c49466c10429b9e49572f1fd2773d"
       ],
       "layout": "IPY_MODEL_885e117ba3a94295814c2b29fab3dcf3"
      }
     },
     "d09f15775a824b76ab42668a2777b661": {
      "model_module": "@jupyter-widgets/controls",
      "model_module_version": "1.2.0",
      "model_name": "ButtonStyleModel",
      "state": {}
     },
     "d0ba31bcc7c9401da4f6176196632b07": {
      "model_module": "@jupyter-widgets/controls",
      "model_module_version": "1.2.0",
      "model_name": "ButtonStyleModel",
      "state": {}
     },
     "d0d2f63b82ed466a8e943c5f5993445b": {
      "model_module": "@jupyter-widgets/base",
      "model_module_version": "1.0.0",
      "model_name": "LayoutModel",
      "state": {}
     },
     "d0ff55aae19c40fbb211075316117858": {
      "model_module": "@jupyter-widgets/base",
      "model_module_version": "1.0.0",
      "model_name": "LayoutModel",
      "state": {}
     },
     "d1b9f13e8e1740a3ba6ee30f13a3fe10": {
      "model_module": "@jupyter-widgets/base",
      "model_module_version": "1.0.0",
      "model_name": "LayoutModel",
      "state": {}
     },
     "d1e51442501944509cb877d36dd8572d": {
      "model_module": "@jupyter-widgets/controls",
      "model_module_version": "1.2.0",
      "model_name": "ButtonStyleModel",
      "state": {}
     },
     "d20a86ce01fa4c3491577fdd722eca2e": {
      "model_module": "@jupyter-widgets/controls",
      "model_module_version": "1.2.0",
      "model_name": "ButtonModel",
      "state": {
       "description": "Predict",
       "layout": "IPY_MODEL_1939a8f428c24428a78dd03f203eb583",
       "style": "IPY_MODEL_6657b34a5fbd4681a29f075acc709099"
      }
     },
     "d212bb6ddb5e4437a59108a4b8a74dd2": {
      "model_module": "@jupyter-widgets/controls",
      "model_module_version": "1.2.0",
      "model_name": "ButtonModel",
      "state": {
       "description": "Predict",
       "layout": "IPY_MODEL_fd77bdc3fb5d4589a26b2d1236289bc9",
       "style": "IPY_MODEL_a589f368d8bd4c80abb8b97a4f0a4bcd"
      }
     },
     "d21c4d5a7e9242789d785c7f93e4d399": {
      "model_module": "@jupyter-widgets/controls",
      "model_module_version": "1.2.0",
      "model_name": "ButtonModel",
      "state": {
       "description": "Complete",
       "layout": "IPY_MODEL_76acbdd35605498d948378f641760e34",
       "style": "IPY_MODEL_bf6d936a52824d58a5c2fa413a5a6293"
      }
     },
     "d232c3e5220142158cb51bc2ea42c27a": {
      "model_module": "@jupyter-widgets/base",
      "model_module_version": "1.0.0",
      "model_name": "LayoutModel",
      "state": {
       "width": "250px"
      }
     },
     "d24882ff1e694cafa8af1adf2f670050": {
      "model_module": "@jupyter-widgets/controls",
      "model_module_version": "1.2.0",
      "model_name": "VBoxModel",
      "state": {
       "children": [
        "IPY_MODEL_5d7b705b108642f7a990730b6a1b267b",
        "IPY_MODEL_2e137dbab8ac44aa8199b2141af30572",
        "IPY_MODEL_1e21fb18d20c4aa991ab4edb06a309b1",
        "IPY_MODEL_aba37e682e0741fe9f1541e4f637b6e7",
        "IPY_MODEL_8b7a09f14ac54a0c89b44197e4530962"
       ],
       "layout": "IPY_MODEL_a8dadc5e8c74438a8335187044a659e7"
      }
     },
     "d279cf0e17154f618e7558a79c51fee4": {
      "model_module": "@jupyter-widgets/base",
      "model_module_version": "1.0.0",
      "model_name": "LayoutModel",
      "state": {
       "width": "250px"
      }
     },
     "d28cf03c2081440dbe14fd7bb39964cc": {
      "model_module": "@jupyter-widgets/controls",
      "model_module_version": "1.2.0",
      "model_name": "ButtonStyleModel",
      "state": {}
     },
     "d2b4dceec0024c40a66f66d1d0aff4af": {
      "model_module": "@jupyter-widgets/base",
      "model_module_version": "1.0.0",
      "model_name": "LayoutModel",
      "state": {
       "justify_content": "center"
      }
     },
     "d34a89defd0848c0ac42428a1ba59a9c": {
      "model_module": "@jupyter-widgets/controls",
      "model_module_version": "1.2.0",
      "model_name": "HTMLModel",
      "state": {
       "layout": "IPY_MODEL_75eed409e6c24226b08a8221d871434d",
       "style": "IPY_MODEL_1145a123ce8349b2a2b74e03b1da49ce",
       "value": "<i>Wählen Sie die <ins>eine</ins> korrekte Antwort aus: </i>"
      }
     },
     "d36fa8d3fad04a44b4e6d870c444f2c4": {
      "model_module": "@jupyter-widgets/controls",
      "model_module_version": "1.2.0",
      "model_name": "ButtonStyleModel",
      "state": {}
     },
     "d396eb86e76742278589915b53ae69bd": {
      "model_module": "@jupyter-widgets/controls",
      "model_module_version": "1.2.0",
      "model_name": "ButtonStyleModel",
      "state": {}
     },
     "d39ea835e37848b89eadf729cf249b45": {
      "model_module": "@jupyter-widgets/controls",
      "model_module_version": "1.2.0",
      "model_name": "ButtonModel",
      "state": {
       "description": "Scan",
       "layout": "IPY_MODEL_ab2a6599aa8a49eba10fbffd60f95ed0",
       "style": "IPY_MODEL_0f6862c81e5b4464bb24b31fcf8d25fa"
      }
     },
     "d3aae0c264a943529862e90b0b865f04": {
      "model_module": "@jupyter-widgets/base",
      "model_module_version": "1.0.0",
      "model_name": "LayoutModel",
      "state": {}
     },
     "d40db1ac0ae14824aa8ca92c39283359": {
      "model_module": "@jupyter-widgets/base",
      "model_module_version": "1.0.0",
      "model_name": "LayoutModel",
      "state": {}
     },
     "d416ed6155a24de4a8bb9f89979e45cc": {
      "model_module": "@jupyter-widgets/base",
      "model_module_version": "1.0.0",
      "model_name": "LayoutModel",
      "state": {
       "width": "250px"
      }
     },
     "d45af81ecbc54464b94bca4ae21b6d97": {
      "model_module": "@jupyter-widgets/controls",
      "model_module_version": "1.2.0",
      "model_name": "ButtonModel",
      "state": {
       "description": "Scan",
       "layout": "IPY_MODEL_723f5c2e031c42cb94ea38591948e521",
       "style": "IPY_MODEL_27c6da75b9ed43359f3042121fc72453"
      }
     },
     "d4624340e2f14f5fa7d598e18d5daa4b": {
      "model_module": "@jupyter-widgets/controls",
      "model_module_version": "1.2.0",
      "model_name": "HTMLModel",
      "state": {
       "layout": "IPY_MODEL_73849cda1e544cc594f41355c94c9145",
       "style": "IPY_MODEL_3422c4cb612b431a836145722ae60691",
       "value": "<i>Wählen Sie die <ins>eine</ins> korrekte Antwort aus: </i>"
      }
     },
     "d479714b9dda4432972008bbf4b0e7af": {
      "model_module": "@jupyter-widgets/controls",
      "model_module_version": "1.2.0",
      "model_name": "DescriptionStyleModel",
      "state": {
       "description_width": ""
      }
     },
     "d48c3486a7de4982a9fab4e84c5ecbca": {
      "model_module": "@jupyter-widgets/controls",
      "model_module_version": "1.2.0",
      "model_name": "DescriptionStyleModel",
      "state": {
       "description_width": ""
      }
     },
     "d4aaaa336f234b99b045bd1a66cbdd86": {
      "model_module": "@jupyter-widgets/base",
      "model_module_version": "1.0.0",
      "model_name": "LayoutModel",
      "state": {
       "justify_content": "center"
      }
     },
     "d5047874711c46e9a01a61c2551a746d": {
      "model_module": "@jupyter-widgets/controls",
      "model_module_version": "1.2.0",
      "model_name": "DescriptionStyleModel",
      "state": {
       "description_width": ""
      }
     },
     "d51001913fa64759b4db31a55ce96325": {
      "model_module": "@jupyter-widgets/base",
      "model_module_version": "1.0.0",
      "model_name": "LayoutModel",
      "state": {
       "justify_content": "center"
      }
     },
     "d5db993642ef475288860ae9808e81e7": {
      "model_module": "@jupyter-widgets/base",
      "model_module_version": "1.0.0",
      "model_name": "LayoutModel",
      "state": {
       "width": "250px"
      }
     },
     "d5e16b949b584298a1e38195cfe2de09": {
      "model_module": "@jupyter-widgets/controls",
      "model_module_version": "1.2.0",
      "model_name": "CheckboxModel",
      "state": {
       "description": "Predict",
       "disabled": false,
       "layout": "IPY_MODEL_8d98539b14a74e0cb578c35451308514",
       "style": "IPY_MODEL_15d8118ae2074ab380e03d9b2a71dd78",
       "value": false
      }
     },
     "d611c3f5231f439fb32780a813dfd360": {
      "model_module": "@jupyter-widgets/base",
      "model_module_version": "1.0.0",
      "model_name": "LayoutModel",
      "state": {}
     },
     "d65f99a5d5f6486099e7e911737106ad": {
      "model_module": "@jupyter-widgets/base",
      "model_module_version": "1.0.0",
      "model_name": "LayoutModel",
      "state": {
       "width": "250px"
      }
     },
     "d6843982ab6c4e4cb7e549a15feab09c": {
      "model_module": "@jupyter-widgets/controls",
      "model_module_version": "1.2.0",
      "model_name": "HTMLModel",
      "state": {
       "layout": "IPY_MODEL_e4ada88975504e9eb9c3b79cf6e384f6",
       "style": "IPY_MODEL_f1d0aa0949d94de4983f09a6e61a9025",
       "value": "<i>Wählen Sie die <ins>eine</ins> korrekte Antwort aus: </i>"
      }
     },
     "d7395e138b724af6ae3d6401d624af5a": {
      "model_module": "@jupyter-widgets/controls",
      "model_module_version": "1.2.0",
      "model_name": "DescriptionStyleModel",
      "state": {
       "description_width": ""
      }
     },
     "d771a8e2d78a470ba49d1f50fdabef1e": {
      "model_module": "@jupyter-widgets/controls",
      "model_module_version": "1.2.0",
      "model_name": "ButtonModel",
      "state": {
       "description": "Keine der Alternativen",
       "layout": "IPY_MODEL_c7da505ac21f45a48ec021512b13591f",
       "style": "IPY_MODEL_7cceaaff5ae84237afdc0f842a98b874"
      }
     },
     "d79f17fa60d8425fb12d8311f97392bc": {
      "model_module": "@jupyter-widgets/base",
      "model_module_version": "1.0.0",
      "model_name": "LayoutModel",
      "state": {
       "justify_content": "center"
      }
     },
     "d7c3f1e1361c4590b15b1e97086c0bef": {
      "model_module": "@jupyter-widgets/base",
      "model_module_version": "1.0.0",
      "model_name": "LayoutModel",
      "state": {
       "justify_content": "center"
      }
     },
     "d8100f0213464957bd57a57b1f5e0b0d": {
      "model_module": "@jupyter-widgets/controls",
      "model_module_version": "1.2.0",
      "model_name": "ButtonModel",
      "state": {
       "description": "Shift",
       "layout": "IPY_MODEL_ac524e473b0f441b9b0ccdf944ba4972",
       "style": "IPY_MODEL_6bd7cc0130954b3c8dce113b4029f4c0"
      }
     },
     "d85b2ab3fd9d40a5ab9337e794ebc4e7": {
      "model_module": "@jupyter-widgets/base",
      "model_module_version": "1.0.0",
      "model_name": "LayoutModel",
      "state": {
       "width": "250px"
      }
     },
     "d85d9d4bd7d6475ca57f05ce5fcada29": {
      "model_module": "@jupyter-widgets/base",
      "model_module_version": "1.0.0",
      "model_name": "LayoutModel",
      "state": {
       "width": "250px"
      }
     },
     "d866e589c16f410ebabb6e12a50e818f": {
      "model_module": "@jupyter-widgets/base",
      "model_module_version": "1.0.0",
      "model_name": "LayoutModel",
      "state": {}
     },
     "d8bc7585e8eb4356b196f488ab6a2d22": {
      "model_module": "@jupyter-widgets/controls",
      "model_module_version": "1.2.0",
      "model_name": "ButtonStyleModel",
      "state": {}
     },
     "d909165330904329b568038b993872bc": {
      "model_module": "@jupyter-widgets/base",
      "model_module_version": "1.0.0",
      "model_name": "LayoutModel",
      "state": {}
     },
     "d90a302e59724c1fb67c10a7257afee5": {
      "model_module": "@jupyter-widgets/controls",
      "model_module_version": "1.2.0",
      "model_name": "DescriptionStyleModel",
      "state": {
       "description_width": ""
      }
     },
     "d93aa6b3529741ae87078cf29495aa87": {
      "model_module": "@jupyter-widgets/controls",
      "model_module_version": "1.2.0",
      "model_name": "ButtonModel",
      "state": {
       "description": "Reduce",
       "layout": "IPY_MODEL_b9a200b87935483bb795e594456a1685",
       "style": "IPY_MODEL_ac7a6e188aa34d328dc959804073b4b6"
      }
     },
     "d9a9bb8fd9644060b631bf51830651c8": {
      "model_module": "@jupyter-widgets/controls",
      "model_module_version": "1.2.0",
      "model_name": "ButtonModel",
      "state": {
       "description": "Earley",
       "layout": "IPY_MODEL_327d9c3c90c64646a8ad987fa321d5af",
       "style": "IPY_MODEL_9ea506ae931e4b5ebdad1ee26d71c6cb"
      }
     },
     "d9ceb1ae9fc7485ebce6ea0de61f3400": {
      "model_module": "@jupyter-widgets/controls",
      "model_module_version": "1.2.0",
      "model_name": "ButtonStyleModel",
      "state": {}
     },
     "d9da488b70a8441a9f4de09b25086748": {
      "model_module": "@jupyter-widgets/base",
      "model_module_version": "1.0.0",
      "model_name": "LayoutModel",
      "state": {
       "justify_content": "center"
      }
     },
     "d9fc5b0b3b56467181cf5802bb498c3c": {
      "model_module": "@jupyter-widgets/controls",
      "model_module_version": "1.2.0",
      "model_name": "ButtonStyleModel",
      "state": {
       "button_color": "lightgreen"
      }
     },
     "da1a9307e6e34a1394384590fe2989ab": {
      "model_module": "@jupyter-widgets/base",
      "model_module_version": "1.0.0",
      "model_name": "LayoutModel",
      "state": {}
     },
     "da2a566479154fffa45eed20664db779": {
      "model_module": "@jupyter-widgets/controls",
      "model_module_version": "1.2.0",
      "model_name": "HBoxModel",
      "state": {
       "children": [
        "IPY_MODEL_0b8bc38ada464905af359f7bc49a9897",
        "IPY_MODEL_496c6218481048d9b3600815b4cc9a02"
       ],
       "layout": "IPY_MODEL_d0d2f63b82ed466a8e943c5f5993445b"
      }
     },
     "da2bc30ae7704fba8c0e3a6acb74cfd5": {
      "model_module": "@jupyter-widgets/base",
      "model_module_version": "1.0.0",
      "model_name": "LayoutModel",
      "state": {}
     },
     "da3b8a5d31534311bb2051d867e208ff": {
      "model_module": "@jupyter-widgets/controls",
      "model_module_version": "1.2.0",
      "model_name": "ButtonModel",
      "state": {
       "description": "Shift Reduce",
       "layout": "IPY_MODEL_b64ac8920d8f40b6802829b9f47de053",
       "style": "IPY_MODEL_7aa282ea119240d5b75fa50f6f0498ce"
      }
     },
     "da7ea927ed6c4d39bc8d2ddf14ad708f": {
      "model_module": "@jupyter-widgets/controls",
      "model_module_version": "1.2.0",
      "model_name": "DescriptionStyleModel",
      "state": {
       "description_width": "initial"
      }
     },
     "da94a8e4288b47fea807d440b7e2b0d1": {
      "model_module": "@jupyter-widgets/base",
      "model_module_version": "1.0.0",
      "model_name": "LayoutModel",
      "state": {
       "justify_content": "center"
      }
     },
     "daa6eef324b84a969c4d06fe3ef60f16": {
      "model_module": "@jupyter-widgets/controls",
      "model_module_version": "1.2.0",
      "model_name": "HBoxModel",
      "state": {
       "children": [
        "IPY_MODEL_74c79754c72649bebf76d2ab14afb0a3",
        "IPY_MODEL_29ecdc6a620046cc8e811602d101aff9"
       ],
       "layout": "IPY_MODEL_3a409bc41d944b2692bebae6f6a54bd3"
      }
     },
     "daa9a8dd1f4449779f187f545f9d71f8": {
      "model_module": "@jupyter-widgets/base",
      "model_module_version": "1.0.0",
      "model_name": "LayoutModel",
      "state": {
       "width": "250px"
      }
     },
     "db59a7da2d934b36a53614ca76f2e098": {
      "model_module": "@jupyter-widgets/controls",
      "model_module_version": "1.2.0",
      "model_name": "VBoxModel",
      "state": {
       "children": [
        "IPY_MODEL_159679cfa8654178a58b05a8c5b44e75",
        "IPY_MODEL_ab4fa29208384fef922e9318b123606f",
        "IPY_MODEL_ab7aa0798aba4e00a92c360473edfedd",
        "IPY_MODEL_3e52a34686ac4086913edc3e7f73d563",
        "IPY_MODEL_19a78a5f621e4403bed7147c02a0c405"
       ],
       "layout": "IPY_MODEL_4f84ea563cae4e11b0ac782b73398bbe"
      }
     },
     "dc010ed65982464ebd9e14d0f90b6ff1": {
      "model_module": "@jupyter-widgets/controls",
      "model_module_version": "1.2.0",
      "model_name": "ButtonModel",
      "state": {
       "description": "Complete",
       "layout": "IPY_MODEL_2eeffd9fa38a462caf12e0de6b94464e",
       "style": "IPY_MODEL_a074149d2eca405fb03f25d8878f4750"
      }
     },
     "dc6ae8b4c9364640a7365ebf206c67e0": {
      "model_module": "@jupyter-widgets/controls",
      "model_module_version": "1.2.0",
      "model_name": "ButtonStyleModel",
      "state": {}
     },
     "dca2b09772e94b3f9a0702b72c7d5e0e": {
      "model_module": "@jupyter-widgets/controls",
      "model_module_version": "1.2.0",
      "model_name": "HTMLModel",
      "state": {
       "layout": "IPY_MODEL_c801555dca7c42bca4cb2553b86f1423",
       "style": "IPY_MODEL_7b8a222490f940ad972a758742f74119",
       "value": "<h4 style=\"font-size:14px;\">Welche Operationen hat der Shift Reduce Parser?</h4>"
      }
     },
     "dcb9d7c9f82d414397e1e4196decd363": {
      "model_module": "@jupyter-widgets/controls",
      "model_module_version": "1.2.0",
      "model_name": "ButtonStyleModel",
      "state": {}
     },
     "dd1e4a4e3ebb4c489f2a5df9da183882": {
      "model_module": "@jupyter-widgets/controls",
      "model_module_version": "1.2.0",
      "model_name": "HBoxModel",
      "state": {
       "children": [
        "IPY_MODEL_61126926a701471486286cf4915de235",
        "IPY_MODEL_46f7a0534f714463a89eca0be8eb2efb"
       ],
       "layout": "IPY_MODEL_67357725238b434eb52283627ada6a19"
      }
     },
     "dd49d96975fe49d4bc5fc678d4c6fb03": {
      "model_module": "@jupyter-widgets/controls",
      "model_module_version": "1.2.0",
      "model_name": "ButtonModel",
      "state": {
       "description": "Predict",
       "layout": "IPY_MODEL_2f2f7a95b66b47c1b3e9bb5b09c636e4",
       "style": "IPY_MODEL_66a7577e70364fd9874c9eb0d31a4a31"
      }
     },
     "dd52bbda3eaa456ebceb73fa7481b9be": {
      "model_module": "@jupyter-widgets/controls",
      "model_module_version": "1.2.0",
      "model_name": "ButtonStyleModel",
      "state": {}
     },
     "dd55ab79669c4b899f6cda575574a10a": {
      "model_module": "@jupyter-widgets/controls",
      "model_module_version": "1.2.0",
      "model_name": "VBoxModel",
      "state": {
       "children": [
        "IPY_MODEL_2b910b59b2a2423294976d6010626631",
        "IPY_MODEL_e5d9176ff8c0468ab9f5f16f3b2c23fb",
        "IPY_MODEL_b145271d43884ee2ba938e8213b1f3c0",
        "IPY_MODEL_61db0ef49f92405db283ab0ec1e659e8"
       ],
       "layout": "IPY_MODEL_fb09722c35fe465dbbb1e7c3ed6b11eb"
      }
     },
     "dd898b644efc42b5b1c12ed9c6975200": {
      "model_module": "@jupyter-widgets/base",
      "model_module_version": "1.0.0",
      "model_name": "LayoutModel",
      "state": {}
     },
     "de1b2364bdb342a3bacd1b5350b6f728": {
      "model_module": "@jupyter-widgets/base",
      "model_module_version": "1.0.0",
      "model_name": "LayoutModel",
      "state": {
       "justify_content": "center"
      }
     },
     "de67b15b9d3d456da21bf0dd0926a35e": {
      "model_module": "@jupyter-widgets/controls",
      "model_module_version": "1.2.0",
      "model_name": "DescriptionStyleModel",
      "state": {
       "description_width": ""
      }
     },
     "de6add2a2cf34c0e92edfaf58a30b4af": {
      "model_module": "@jupyter-widgets/controls",
      "model_module_version": "1.2.0",
      "model_name": "ButtonStyleModel",
      "state": {}
     },
     "de955d6d2ccb4a1385eb0533b27503c2": {
      "model_module": "@jupyter-widgets/controls",
      "model_module_version": "1.2.0",
      "model_name": "DescriptionStyleModel",
      "state": {
       "description_width": ""
      }
     },
     "de95dabc6bc948b09255421616acbfce": {
      "model_module": "@jupyter-widgets/controls",
      "model_module_version": "1.2.0",
      "model_name": "ButtonModel",
      "state": {
       "description": "Reduce",
       "layout": "IPY_MODEL_cdec5f0d8f2c4b57b541b4ca790146b8",
       "style": "IPY_MODEL_0cf2657ad03a49c1a7c78d4901e18032"
      }
     },
     "dea59c9e954849979650542c688f40d3": {
      "model_module": "@jupyter-widgets/controls",
      "model_module_version": "1.2.0",
      "model_name": "ButtonModel",
      "state": {
       "description": "Keine der Alternativen",
       "layout": "IPY_MODEL_b2fbd3701e144bffa00d9a287a9532f2",
       "style": "IPY_MODEL_f16adbb2f9f64e76a16b111e1acf99c3"
      }
     },
     "dedc791091cd4f38812c42be25b9c18b": {
      "model_module": "@jupyter-widgets/controls",
      "model_module_version": "1.2.0",
      "model_name": "HBoxModel",
      "state": {
       "children": [
        "IPY_MODEL_b581b1705ff7422dab639f269b577ec2",
        "IPY_MODEL_24eaffaf6b0541ec827487cb0fad51c6"
       ],
       "layout": "IPY_MODEL_0f89a38f43264b8786facee502d337ce"
      }
     },
     "dee29bcfa353407a96d08d18e46350a7": {
      "model_module": "@jupyter-widgets/controls",
      "model_module_version": "1.2.0",
      "model_name": "DescriptionStyleModel",
      "state": {
       "description_width": ""
      }
     },
     "deea33cd3b354264a123e4d6357c2fce": {
      "model_module": "@jupyter-widgets/controls",
      "model_module_version": "1.2.0",
      "model_name": "ButtonStyleModel",
      "state": {
       "button_color": "lightgreen"
      }
     },
     "df9d25eb33f14527b97a2976ec8e566e": {
      "model_module": "@jupyter-widgets/controls",
      "model_module_version": "1.2.0",
      "model_name": "ButtonStyleModel",
      "state": {}
     },
     "dfe93a0bad914a2f8980aac4d4cf6862": {
      "model_module": "@jupyter-widgets/base",
      "model_module_version": "1.0.0",
      "model_name": "LayoutModel",
      "state": {
       "width": "250px"
      }
     },
     "e059c04e860f456e9c008f198e1de13a": {
      "model_module": "@jupyter-widgets/controls",
      "model_module_version": "1.2.0",
      "model_name": "ButtonModel",
      "state": {
       "description": "Complete",
       "layout": "IPY_MODEL_2716fb637e514e95adc6940c6d7f39db",
       "style": "IPY_MODEL_b48165fb26b34b7ea46e90e377ac5a96"
      }
     },
     "e073ca530b9b46c789c7dc2f05b53338": {
      "model_module": "@jupyter-widgets/base",
      "model_module_version": "1.0.0",
      "model_name": "LayoutModel",
      "state": {
       "width": "250px"
      }
     },
     "e0a9a56a49ae4a21af1081a89b92297e": {
      "model_module": "@jupyter-widgets/base",
      "model_module_version": "1.0.0",
      "model_name": "LayoutModel",
      "state": {}
     },
     "e0b78addc263496c8af0a667e7bfab81": {
      "model_module": "@jupyter-widgets/controls",
      "model_module_version": "1.2.0",
      "model_name": "ButtonModel",
      "state": {
       "description": "Predict",
       "layout": "IPY_MODEL_6ab2fafd580746bd80dd2b8b9033c707",
       "style": "IPY_MODEL_f4e44a9563cd47a482561d7401a5b8ba"
      }
     },
     "e117597e4c4c4db1aeaf0df0adfdaddf": {
      "model_module": "@jupyter-widgets/controls",
      "model_module_version": "1.2.0",
      "model_name": "HTMLModel",
      "state": {
       "layout": "IPY_MODEL_d79f17fa60d8425fb12d8311f97392bc",
       "style": "IPY_MODEL_ab3e8ba31fa94596993fb54ab2387f9c",
       "value": "<h4 style=\"font-size:14px;\">Welche Operation folgt als nächstes?</h4>"
      }
     },
     "e1a55c270b8c419cab25558c1498e8fb": {
      "model_module": "@jupyter-widgets/base",
      "model_module_version": "1.0.0",
      "model_name": "LayoutModel",
      "state": {
       "width": "250px"
      }
     },
     "e23102a2363e41098f0f98bff249eaef": {
      "model_module": "@jupyter-widgets/controls",
      "model_module_version": "1.2.0",
      "model_name": "ButtonModel",
      "state": {
       "description": "Predict",
       "layout": "IPY_MODEL_30ff9a0fec984661bd15ddb609b0f7b7",
       "style": "IPY_MODEL_22ddcda748f54985a9d7f84dd88eb2df"
      }
     },
     "e2972b83b87c4e498f8e28d7674ba8a8": {
      "model_module": "@jupyter-widgets/base",
      "model_module_version": "1.0.0",
      "model_name": "LayoutModel",
      "state": {
       "width": "250px"
      }
     },
     "e29d17153dc7472bac3d0b03426c46db": {
      "model_module": "@jupyter-widgets/controls",
      "model_module_version": "1.2.0",
      "model_name": "ButtonModel",
      "state": {
       "description": "Shift",
       "layout": "IPY_MODEL_961385c6cb3d4d65b7783b0f870eef4e",
       "style": "IPY_MODEL_bc6cd3974be84059acd82f7af829b7e0"
      }
     },
     "e2ec0dd598574c589fc2f36e9fc259ca": {
      "model_module": "@jupyter-widgets/controls",
      "model_module_version": "1.2.0",
      "model_name": "ButtonStyleModel",
      "state": {}
     },
     "e32f5d7e898e4db3a44617cd1060c89d": {
      "model_module": "@jupyter-widgets/controls",
      "model_module_version": "1.2.0",
      "model_name": "ButtonModel",
      "state": {
       "description": "Scan",
       "layout": "IPY_MODEL_bdb137f8000946febe2c1c1574a76675",
       "style": "IPY_MODEL_329f39e8fc9941e6bedcdf583bcb7bab"
      }
     },
     "e342a584e07f440cb3e8da243763450e": {
      "model_module": "@jupyter-widgets/base",
      "model_module_version": "1.0.0",
      "model_name": "LayoutModel",
      "state": {
       "justify_content": "center"
      }
     },
     "e35304f6429f4b098d329ba29f1cfc34": {
      "model_module": "@jupyter-widgets/base",
      "model_module_version": "1.0.0",
      "model_name": "LayoutModel",
      "state": {
       "width": "250px"
      }
     },
     "e35bd10fdfb24b7bb7a04aef52eeaa3f": {
      "model_module": "@jupyter-widgets/base",
      "model_module_version": "1.0.0",
      "model_name": "LayoutModel",
      "state": {
       "width": "600px"
      }
     },
     "e35c7b655a644c16af7a098ec3cc8467": {
      "model_module": "@jupyter-widgets/base",
      "model_module_version": "1.0.0",
      "model_name": "LayoutModel",
      "state": {}
     },
     "e3608a3681e241259ecd6ed8fef4fb01": {
      "model_module": "@jupyter-widgets/controls",
      "model_module_version": "1.2.0",
      "model_name": "DescriptionStyleModel",
      "state": {
       "description_width": "initial"
      }
     },
     "e3c5b46f771343dc87942436660c4056": {
      "model_module": "@jupyter-widgets/controls",
      "model_module_version": "1.2.0",
      "model_name": "ButtonStyleModel",
      "state": {
       "button_color": "lightgreen"
      }
     },
     "e3d876de5e454b1eb69b88846fc0055c": {
      "model_module": "@jupyter-widgets/base",
      "model_module_version": "1.0.0",
      "model_name": "LayoutModel",
      "state": {
       "width": "250px"
      }
     },
     "e3f961bbd98942b39a3424f9649ce195": {
      "model_module": "@jupyter-widgets/controls",
      "model_module_version": "1.2.0",
      "model_name": "VBoxModel",
      "state": {
       "children": [
        "IPY_MODEL_6f435e4925ce40a7b64b4c63a6040568",
        "IPY_MODEL_07c45d8365864b87bb88e307633eef76",
        "IPY_MODEL_7c52baaa47f446ceace64da6528cd5d9",
        "IPY_MODEL_5c0eb46b9cff4c41a98dfbe63b9e4acc"
       ],
       "layout": "IPY_MODEL_1c74628fc96840b6a6f1ab0af9e7e868"
      }
     },
     "e41b751e91414a6c86416a2dc956e98c": {
      "model_module": "@jupyter-widgets/controls",
      "model_module_version": "1.2.0",
      "model_name": "ButtonModel",
      "state": {
       "description": "Predict",
       "layout": "IPY_MODEL_c2ff1a6a6c2c48029130eb0a01fde6c5",
       "style": "IPY_MODEL_89fad49ac967480ba03587fb1dfd320a"
      }
     },
     "e481cb06fc6446f485f4e32558b803ac": {
      "model_module": "@jupyter-widgets/controls",
      "model_module_version": "1.2.0",
      "model_name": "ButtonModel",
      "state": {
       "description": "Shift",
       "layout": "IPY_MODEL_ae4990f8298046888b5a65bc75b432e3",
       "style": "IPY_MODEL_490857126f4f4545ac1cd53695149c9a"
      }
     },
     "e4824b3676cc45a4bf27354c5795d84e": {
      "model_module": "@jupyter-widgets/controls",
      "model_module_version": "1.2.0",
      "model_name": "ButtonModel",
      "state": {
       "description": "Scan",
       "layout": "IPY_MODEL_6b7c4176ed9640b6a71260456c81084d",
       "style": "IPY_MODEL_661632641dbe4e0b927cead4ac2e24bf"
      }
     },
     "e4ada88975504e9eb9c3b79cf6e384f6": {
      "model_module": "@jupyter-widgets/base",
      "model_module_version": "1.0.0",
      "model_name": "LayoutModel",
      "state": {
       "justify_content": "center"
      }
     },
     "e4b8fdca0f474ee2a0550b99541c076d": {
      "model_module": "@jupyter-widgets/controls",
      "model_module_version": "1.2.0",
      "model_name": "DescriptionStyleModel",
      "state": {
       "description_width": ""
      }
     },
     "e4d5fe64a6d84f7488f58655d271bdfb": {
      "model_module": "@jupyter-widgets/controls",
      "model_module_version": "1.2.0",
      "model_name": "CheckboxModel",
      "state": {
       "description": "Predict",
       "disabled": false,
       "layout": "IPY_MODEL_4e628bda4c7d408588607c6e04dc5401",
       "style": "IPY_MODEL_4b66b790658d49489f30d8729afabe18",
       "value": true
      }
     },
     "e4fc880147ff45e594289f43b0101c30": {
      "model_module": "@jupyter-widgets/base",
      "model_module_version": "1.0.0",
      "model_name": "LayoutModel",
      "state": {
       "justify_content": "center"
      }
     },
     "e52e86f5204e43c698df9b86073b72ea": {
      "model_module": "@jupyter-widgets/controls",
      "model_module_version": "1.2.0",
      "model_name": "ButtonModel",
      "state": {
       "description": "Scan",
       "layout": "IPY_MODEL_b86aebb66eff44ccaa58231c40d50349",
       "style": "IPY_MODEL_5193a81363b1406681bcf24187307c08"
      }
     },
     "e56c72d85d3d437d85e1cea4dcf1a38c": {
      "model_module": "@jupyter-widgets/base",
      "model_module_version": "1.0.0",
      "model_name": "LayoutModel",
      "state": {
       "width": "250px"
      }
     },
     "e579a3a42e9a4b4cb45b57d9bbe1c72a": {
      "model_module": "@jupyter-widgets/base",
      "model_module_version": "1.0.0",
      "model_name": "LayoutModel",
      "state": {
       "width": "600px"
      }
     },
     "e5b29ba96ae24c9f826353a43f8ec3a6": {
      "model_module": "@jupyter-widgets/controls",
      "model_module_version": "1.2.0",
      "model_name": "DescriptionStyleModel",
      "state": {
       "description_width": "initial"
      }
     },
     "e5d9176ff8c0468ab9f5f16f3b2c23fb": {
      "model_module": "@jupyter-widgets/controls",
      "model_module_version": "1.2.0",
      "model_name": "HTMLModel",
      "state": {
       "layout": "IPY_MODEL_5d1f396b137b41fa97dcf7b34dc6149a",
       "style": "IPY_MODEL_42bf7e4bbe744bf890d564a5d5b35529",
       "value": "<i>Wählen Sie die <ins>eine</ins> korrekte Antwort aus: </i>"
      }
     },
     "e5f3668af637416482ad23ab554d27c2": {
      "model_module": "@jupyter-widgets/controls",
      "model_module_version": "1.2.0",
      "model_name": "ButtonStyleModel",
      "state": {
       "button_color": "lightgreen"
      }
     },
     "e62d8d6a440a4ff1a61378b6a23ba760": {
      "model_module": "@jupyter-widgets/controls",
      "model_module_version": "1.2.0",
      "model_name": "ButtonModel",
      "state": {
       "description": "Keine der Alternativen",
       "layout": "IPY_MODEL_16bbdddeceff4f7b846993693fcbd643",
       "style": "IPY_MODEL_e5f3668af637416482ad23ab554d27c2"
      }
     },
     "e65db87429d24d9da4d08da4ebcd66b9": {
      "model_module": "@jupyter-widgets/controls",
      "model_module_version": "1.2.0",
      "model_name": "DescriptionStyleModel",
      "state": {
       "description_width": "initial"
      }
     },
     "e674ee031a8f48c38fa169a47f0b6edd": {
      "model_module": "@jupyter-widgets/controls",
      "model_module_version": "1.2.0",
      "model_name": "HBoxModel",
      "state": {
       "children": [
        "IPY_MODEL_31de47430a7f43268183f0e3e226c40c",
        "IPY_MODEL_1eba682da6dc421884a90d5ccdf328a1"
       ],
       "layout": "IPY_MODEL_b0b08e5cf937465cbc9bb6bc34e44136"
      }
     },
     "e6a1ef622a474ab4a177f99b26c464ee": {
      "model_module": "@jupyter-widgets/controls",
      "model_module_version": "1.2.0",
      "model_name": "ButtonModel",
      "state": {
       "description": "Earley",
       "layout": "IPY_MODEL_c2a2b251426049518f91589914487c84",
       "style": "IPY_MODEL_245b978b439e4578bfdf45ab9c3ae139"
      }
     },
     "e7059dc9fea644a094f66f50c9f89af4": {
      "model_module": "@jupyter-widgets/base",
      "model_module_version": "1.0.0",
      "model_name": "LayoutModel",
      "state": {
       "justify_content": "center"
      }
     },
     "e7062c27a6d5482eab914d8cb6db2b88": {
      "model_module": "@jupyter-widgets/controls",
      "model_module_version": "1.2.0",
      "model_name": "HTMLModel",
      "state": {
       "layout": "IPY_MODEL_30fec9d7d4e84330817479f037fd9387",
       "style": "IPY_MODEL_d90a302e59724c1fb67c10a7257afee5",
       "value": "<h4 style=\"font-size:14px;\">Welche Operationen hat der Shift Reduce Parser?</h4>"
      }
     },
     "e82f02d63dbc4cc2a800254ec3da4503": {
      "model_module": "@jupyter-widgets/controls",
      "model_module_version": "1.2.0",
      "model_name": "ButtonStyleModel",
      "state": {}
     },
     "e8479e4990c3454fbd9c3b7df0a6199f": {
      "model_module": "@jupyter-widgets/controls",
      "model_module_version": "1.2.0",
      "model_name": "HTMLModel",
      "state": {
       "layout": "IPY_MODEL_306da6c10aa341aa98c0282b99f1d77d",
       "style": "IPY_MODEL_ca2e2331f232497a8fec077f97d5ce44",
       "value": "<h4 style=\"font-size:14px;\">Welche Operationen hat der Earley Parser?</h4>"
      }
     },
     "e852ffe4927c43b5857c707f9f792873": {
      "model_module": "@jupyter-widgets/base",
      "model_module_version": "1.0.0",
      "model_name": "LayoutModel",
      "state": {
       "width": "250px"
      }
     },
     "e8daa8de6b41415f9ac34e885eff4d98": {
      "model_module": "@jupyter-widgets/base",
      "model_module_version": "1.0.0",
      "model_name": "LayoutModel",
      "state": {}
     },
     "e8e4f83302044e71bf3759990932a1c1": {
      "model_module": "@jupyter-widgets/controls",
      "model_module_version": "1.2.0",
      "model_name": "HTMLModel",
      "state": {
       "layout": "IPY_MODEL_b70b707b93964291b9ce3739a6e52c9c",
       "style": "IPY_MODEL_7a72c73d4ac74b67b738630289f5d20d",
       "value": "<h4 style=\"font-size:14px;\">Welche Operation folgt als nächstes?</h4>"
      }
     },
     "e90761e069c34cb6b74ffa19599042d4": {
      "model_module": "@jupyter-widgets/controls",
      "model_module_version": "1.2.0",
      "model_name": "HTMLModel",
      "state": {
       "layout": "IPY_MODEL_987cf58d064541dfa11ee323ae151a0f",
       "style": "IPY_MODEL_ae607c8bb542474798079836042d1131",
       "value": "<i>Wählen Sie die <ins>eine</ins> korrekte Antwort aus: </i>"
      }
     },
     "e92a24cabe6147939096e9bbb3a807b5": {
      "model_module": "@jupyter-widgets/base",
      "model_module_version": "1.0.0",
      "model_name": "LayoutModel",
      "state": {
       "width": "250px"
      }
     },
     "e934c44e892a48f2992423dfa346c73e": {
      "model_module": "@jupyter-widgets/controls",
      "model_module_version": "1.2.0",
      "model_name": "DescriptionStyleModel",
      "state": {
       "description_width": ""
      }
     },
     "e988568e779f4153b5da9d0a27867047": {
      "model_module": "@jupyter-widgets/base",
      "model_module_version": "1.0.0",
      "model_name": "LayoutModel",
      "state": {}
     },
     "e99ff9e1dff747549e1a84e08f6d32cf": {
      "model_module": "@jupyter-widgets/controls",
      "model_module_version": "1.2.0",
      "model_name": "ButtonModel",
      "state": {
       "description": "Shift",
       "layout": "IPY_MODEL_4d8a88e314df4c379e625303a1e5da5f",
       "style": "IPY_MODEL_3bf99cf257b24458b1ee00286e2b82b2"
      }
     },
     "ea7ac2b64160473780e8b0df5f46e01e": {
      "model_module": "@jupyter-widgets/controls",
      "model_module_version": "1.2.0",
      "model_name": "ButtonModel",
      "state": {
       "description": "Shift Reduce",
       "layout": "IPY_MODEL_0fe474c99248415faf8e038fd5254fbd",
       "style": "IPY_MODEL_8c2677467f5f435e8b776a11c3580a43"
      }
     },
     "eaa6827fda5244959f560667c3dbb989": {
      "model_module": "@jupyter-widgets/controls",
      "model_module_version": "1.2.0",
      "model_name": "ButtonStyleModel",
      "state": {}
     },
     "eaf9c924a03e42788f4945063ef3787a": {
      "model_module": "@jupyter-widgets/base",
      "model_module_version": "1.0.0",
      "model_name": "LayoutModel",
      "state": {
       "width": "600px"
      }
     },
     "eb3a2deaa7b342dd9e001daf0f2cfc05": {
      "model_module": "@jupyter-widgets/base",
      "model_module_version": "1.0.0",
      "model_name": "LayoutModel",
      "state": {}
     },
     "eb3fef0208404be2afcf0e85d8ce030f": {
      "model_module": "@jupyter-widgets/controls",
      "model_module_version": "1.2.0",
      "model_name": "ButtonModel",
      "state": {
       "description": "Shift Reduce",
       "layout": "IPY_MODEL_ac4fb6f3706f44bda59c2dad1d7252b7",
       "style": "IPY_MODEL_89dd359788ed4682a5268a5db0fa507a"
      }
     },
     "ebacfb74bd844e4c8eaaada900f4f6df": {
      "model_module": "@jupyter-widgets/base",
      "model_module_version": "1.0.0",
      "model_name": "LayoutModel",
      "state": {
       "width": "250px"
      }
     },
     "ec30d6cccf0d42639af0bbccde300d52": {
      "model_module": "@jupyter-widgets/base",
      "model_module_version": "1.0.0",
      "model_name": "LayoutModel",
      "state": {
       "width": "250px"
      }
     },
     "ec858861de024d5e871df839d383c67c": {
      "model_module": "@jupyter-widgets/controls",
      "model_module_version": "1.2.0",
      "model_name": "VBoxModel",
      "state": {
       "children": [
        "IPY_MODEL_dca2b09772e94b3f9a0702b72c7d5e0e",
        "IPY_MODEL_695b466d181144a199bd68c86c121599",
        "IPY_MODEL_335099f09fe746bcb093aaaaf465e39e",
        "IPY_MODEL_4ad36a93f26a4074a29658306471665f"
       ],
       "layout": "IPY_MODEL_4997f7bb5bff46eb817a1f3b0b848154"
      }
     },
     "ecf922f79b3b43a38ae59c9e927009a2": {
      "model_module": "@jupyter-widgets/controls",
      "model_module_version": "1.2.0",
      "model_name": "ButtonStyleModel",
      "state": {}
     },
     "ed05932b909a4b8cae8a2a79c103da88": {
      "model_module": "@jupyter-widgets/controls",
      "model_module_version": "1.2.0",
      "model_name": "HTMLModel",
      "state": {
       "layout": "IPY_MODEL_7a591cb3cc2e4418910a251cde7c68c7",
       "style": "IPY_MODEL_8201f05ee93042248a67dfa4c4d8546d",
       "value": "<i>Markieren Sie <ins>alle</ins> passenden Antworten: </i>"
      }
     },
     "ed1e61ec4adc4295a11d464587fce33a": {
      "model_module": "@jupyter-widgets/controls",
      "model_module_version": "1.2.0",
      "model_name": "HTMLModel",
      "state": {
       "layout": "IPY_MODEL_e342a584e07f440cb3e8da243763450e",
       "style": "IPY_MODEL_4d986d1741cf44a28733736fc41efc75",
       "value": "<i>Wählen Sie die <ins>eine</ins> korrekte Antwort aus: </i>"
      }
     },
     "ed9a1541c7dd485bab2454bcb0fbbd91": {
      "model_module": "@jupyter-widgets/controls",
      "model_module_version": "1.2.0",
      "model_name": "ButtonStyleModel",
      "state": {
       "button_color": "lightgreen"
      }
     },
     "edc59a3dc3ee41abb787379ec4062d25": {
      "model_module": "@jupyter-widgets/controls",
      "model_module_version": "1.2.0",
      "model_name": "ButtonStyleModel",
      "state": {}
     },
     "edc8b767df1148a086fba51beb54795e": {
      "model_module": "@jupyter-widgets/controls",
      "model_module_version": "1.2.0",
      "model_name": "ButtonModel",
      "state": {
       "description": "Keine der Alternativen",
       "layout": "IPY_MODEL_48123b3c82fb4ec68c67a3dd31bee9af",
       "style": "IPY_MODEL_3176b9b749a74fa4a835b8f27b068d9b"
      }
     },
     "ee1beb1e340f4e7bb5ef9114c2d52e7c": {
      "model_module": "@jupyter-widgets/controls",
      "model_module_version": "1.2.0",
      "model_name": "DescriptionStyleModel",
      "state": {
       "description_width": "initial"
      }
     },
     "ee24bb68de4f4c3aae86288a4d87af96": {
      "model_module": "@jupyter-widgets/controls",
      "model_module_version": "1.2.0",
      "model_name": "ButtonStyleModel",
      "state": {}
     },
     "ee2908de88c54e3693202e5cf7099167": {
      "model_module": "@jupyter-widgets/base",
      "model_module_version": "1.0.0",
      "model_name": "LayoutModel",
      "state": {
       "width": "250px"
      }
     },
     "ee714054188a4d6c8983faa87e48f7f3": {
      "model_module": "@jupyter-widgets/controls",
      "model_module_version": "1.2.0",
      "model_name": "ButtonStyleModel",
      "state": {}
     },
     "ee77700dfef246dbba4534748de5c465": {
      "model_module": "@jupyter-widgets/controls",
      "model_module_version": "1.2.0",
      "model_name": "HBoxModel",
      "state": {
       "children": [
        "IPY_MODEL_6aac360a36e8442691d4cebfb259a566",
        "IPY_MODEL_9c0c7dca039d4739b9b3e3458f3cabf8"
       ],
       "layout": "IPY_MODEL_baa9cf7d5e864e5db9af4518c2d5cb3d"
      }
     },
     "eea9d2881496420bb09372efee7959e4": {
      "model_module": "@jupyter-widgets/base",
      "model_module_version": "1.0.0",
      "model_name": "LayoutModel",
      "state": {
       "width": "250px"
      }
     },
     "eebb499a0db745cf80d72408508f00f1": {
      "model_module": "@jupyter-widgets/base",
      "model_module_version": "1.0.0",
      "model_name": "LayoutModel",
      "state": {
       "width": "250px"
      }
     },
     "eec029dbbdaf42809960c5b34eb4759b": {
      "model_module": "@jupyter-widgets/base",
      "model_module_version": "1.0.0",
      "model_name": "LayoutModel",
      "state": {
       "justify_content": "center"
      }
     },
     "ef09fb00a02144e2a9d1cce43559791a": {
      "model_module": "@jupyter-widgets/base",
      "model_module_version": "1.0.0",
      "model_name": "LayoutModel",
      "state": {}
     },
     "ef36f6b4e9464070bd8bddf06cdcd9b6": {
      "model_module": "@jupyter-widgets/controls",
      "model_module_version": "1.2.0",
      "model_name": "HTMLModel",
      "state": {
       "layout": "IPY_MODEL_09564e8ef68d428fb2f92d23bd248ffa",
       "style": "IPY_MODEL_11db1e2f29604c118e0dd100f507deca",
       "value": "<h4 style=\"font-size:14px;\">Welche Operation folgt als nächstes?</h4>"
      }
     },
     "ef63b0bbd76d43a7a6b7012724c033e6": {
      "model_module": "@jupyter-widgets/controls",
      "model_module_version": "1.2.0",
      "model_name": "ButtonModel",
      "state": {
       "description": "Complete",
       "layout": "IPY_MODEL_e852ffe4927c43b5857c707f9f792873",
       "style": "IPY_MODEL_2b269e8916864919bdc1f98ea550b6fd"
      }
     },
     "ef70dbeb922f47eba9928d789fcecf5e": {
      "model_module": "@jupyter-widgets/base",
      "model_module_version": "1.0.0",
      "model_name": "LayoutModel",
      "state": {
       "width": "250px"
      }
     },
     "ef9cd337ac8b41f0b09b9bd53901af86": {
      "model_module": "@jupyter-widgets/controls",
      "model_module_version": "1.2.0",
      "model_name": "ButtonStyleModel",
      "state": {}
     },
     "efabc0e437f4444ea130a6f378bfe755": {
      "model_module": "@jupyter-widgets/controls",
      "model_module_version": "1.2.0",
      "model_name": "DescriptionStyleModel",
      "state": {
       "description_width": ""
      }
     },
     "f02e4882cc8247df83ae125ff63559ef": {
      "model_module": "@jupyter-widgets/controls",
      "model_module_version": "1.2.0",
      "model_name": "CheckboxModel",
      "state": {
       "description": "Scan",
       "disabled": false,
       "layout": "IPY_MODEL_4b02d2f69a8e4704a356aa7552e71b68",
       "style": "IPY_MODEL_aab6676569684ced947e501bb0fd0a52",
       "value": false
      }
     },
     "f04a35568d614621a5e66aa7c485d101": {
      "model_module": "@jupyter-widgets/controls",
      "model_module_version": "1.2.0",
      "model_name": "HTMLModel",
      "state": {
       "layout": "IPY_MODEL_7e3d9599e9554563b1fc1edc2e358726",
       "style": "IPY_MODEL_a2fa38364f5b4a8cb83b302c7cf219f7",
       "value": "<i>Wählen Sie die <ins>eine</ins> korrekte Antwort aus: </i>"
      }
     },
     "f08de5729d3b405b9c9f98b4bc4b4d45": {
      "model_module": "@jupyter-widgets/controls",
      "model_module_version": "1.2.0",
      "model_name": "ButtonModel",
      "state": {
       "description": "Complete",
       "layout": "IPY_MODEL_8e5e7ff0e1e5417f8f820fa1603b9611",
       "style": "IPY_MODEL_e82f02d63dbc4cc2a800254ec3da4503"
      }
     },
     "f09a593fad5b4fcab7598eaf0f346e41": {
      "model_module": "@jupyter-widgets/controls",
      "model_module_version": "1.2.0",
      "model_name": "ButtonStyleModel",
      "state": {}
     },
     "f0b9252a8ac94f28949dd5797fec1082": {
      "model_module": "@jupyter-widgets/controls",
      "model_module_version": "1.2.0",
      "model_name": "DescriptionStyleModel",
      "state": {
       "description_width": "initial"
      }
     },
     "f11fecda7d81429aafb9b9a0771af2e7": {
      "model_module": "@jupyter-widgets/base",
      "model_module_version": "1.0.0",
      "model_name": "LayoutModel",
      "state": {
       "width": "250px"
      }
     },
     "f1335ca984644c2b9e3b36cdb761e52c": {
      "model_module": "@jupyter-widgets/controls",
      "model_module_version": "1.2.0",
      "model_name": "DescriptionStyleModel",
      "state": {
       "description_width": ""
      }
     },
     "f16adbb2f9f64e76a16b111e1acf99c3": {
      "model_module": "@jupyter-widgets/controls",
      "model_module_version": "1.2.0",
      "model_name": "ButtonStyleModel",
      "state": {}
     },
     "f16df036827147748f2ff066b6b3d441": {
      "model_module": "@jupyter-widgets/controls",
      "model_module_version": "1.2.0",
      "model_name": "HTMLModel",
      "state": {
       "layout": "IPY_MODEL_f8c1b4af96e7409092c8cb176dff42e0",
       "style": "IPY_MODEL_b22b2b6af5444c2ea70c1ae8b67c5e68",
       "value": "<h4 style=\"font-size:14px;\">Welche Operation folgt als nächstes?</h4>"
      }
     },
     "f1d0aa0949d94de4983f09a6e61a9025": {
      "model_module": "@jupyter-widgets/controls",
      "model_module_version": "1.2.0",
      "model_name": "DescriptionStyleModel",
      "state": {
       "description_width": ""
      }
     },
     "f1f4e2a936734269acdd71487f122e02": {
      "model_module": "@jupyter-widgets/controls",
      "model_module_version": "1.2.0",
      "model_name": "ButtonModel",
      "state": {
       "description": "Shift",
       "layout": "IPY_MODEL_c7cfc7bc5a4142dcb6ce99d3c4e8a091",
       "style": "IPY_MODEL_5407e789a2f44b569136a547ca550de5"
      }
     },
     "f2303c7e9f1a40a89258f9e3f331de6b": {
      "model_module": "@jupyter-widgets/base",
      "model_module_version": "1.0.0",
      "model_name": "LayoutModel",
      "state": {}
     },
     "f24c6f4ba9a9492faa3a24d3878d17d6": {
      "model_module": "@jupyter-widgets/controls",
      "model_module_version": "1.2.0",
      "model_name": "DescriptionStyleModel",
      "state": {
       "description_width": ""
      }
     },
     "f386e2668dd04abe853d00ab0e7844b5": {
      "model_module": "@jupyter-widgets/controls",
      "model_module_version": "1.2.0",
      "model_name": "ButtonStyleModel",
      "state": {}
     },
     "f38d6ff7a12644b5bcd04a9bab64f3a7": {
      "model_module": "@jupyter-widgets/controls",
      "model_module_version": "1.2.0",
      "model_name": "ButtonStyleModel",
      "state": {}
     },
     "f3ee8ecba895457a8c2076de214f108e": {
      "model_module": "@jupyter-widgets/base",
      "model_module_version": "1.0.0",
      "model_name": "LayoutModel",
      "state": {
       "width": "250px"
      }
     },
     "f468440ebcde4f1ca8b58aa2e0016e8a": {
      "model_module": "@jupyter-widgets/controls",
      "model_module_version": "1.2.0",
      "model_name": "ButtonModel",
      "state": {
       "description": "Scan",
       "layout": "IPY_MODEL_489be051c28a4f8c84f5ace5842329ae",
       "style": "IPY_MODEL_ff43595a315d42799c583e23a24de73c"
      }
     },
     "f496baa054054f12818160ed19bdfa44": {
      "model_module": "@jupyter-widgets/base",
      "model_module_version": "1.0.0",
      "model_name": "LayoutModel",
      "state": {}
     },
     "f4c23639f5a1430bb36432d208b46517": {
      "model_module": "@jupyter-widgets/controls",
      "model_module_version": "1.2.0",
      "model_name": "ButtonModel",
      "state": {
       "description": "Complete",
       "layout": "IPY_MODEL_ec30d6cccf0d42639af0bbccde300d52",
       "style": "IPY_MODEL_d9fc5b0b3b56467181cf5802bb498c3c"
      }
     },
     "f4e44a9563cd47a482561d7401a5b8ba": {
      "model_module": "@jupyter-widgets/controls",
      "model_module_version": "1.2.0",
      "model_name": "ButtonStyleModel",
      "state": {}
     },
     "f4fe53ff85204f38a361beca2b1cc22a": {
      "model_module": "@jupyter-widgets/base",
      "model_module_version": "1.0.0",
      "model_name": "LayoutModel",
      "state": {}
     },
     "f578415577e2417f99acb973758edb4f": {
      "model_module": "@jupyter-widgets/controls",
      "model_module_version": "1.2.0",
      "model_name": "HTMLModel",
      "state": {
       "layout": "IPY_MODEL_abe01a9e0c9b44e798dd9207ff535c91",
       "style": "IPY_MODEL_528fe41f0ac7400a8acce85b6f0b8f57",
       "value": "<h4 style=\"font-size:14px;\">Welche Operation folgt als nächstes?</h4>"
      }
     },
     "f5a39281fde44a6ca3404fe555bee640": {
      "model_module": "@jupyter-widgets/base",
      "model_module_version": "1.0.0",
      "model_name": "LayoutModel",
      "state": {
       "width": "600px"
      }
     },
     "f5bb31fdc92a4182908745dc4d25a882": {
      "model_module": "@jupyter-widgets/controls",
      "model_module_version": "1.2.0",
      "model_name": "DescriptionStyleModel",
      "state": {
       "description_width": ""
      }
     },
     "f6003010c8524d9c8efce926354877f2": {
      "model_module": "@jupyter-widgets/controls",
      "model_module_version": "1.2.0",
      "model_name": "DescriptionStyleModel",
      "state": {
       "description_width": ""
      }
     },
     "f618bc682d9e4892bd06bcf2ba4f593d": {
      "model_module": "@jupyter-widgets/controls",
      "model_module_version": "1.2.0",
      "model_name": "ButtonModel",
      "state": {
       "description": "Recusive Descent",
       "layout": "IPY_MODEL_82855e26fa434ab99163c967050965ac",
       "style": "IPY_MODEL_ae8f7a0c66804b6282fc886c3a7bb5cf"
      }
     },
     "f62e23b7cc214fea98f388b8b216b417": {
      "model_module": "@jupyter-widgets/base",
      "model_module_version": "1.0.0",
      "model_name": "LayoutModel",
      "state": {
       "width": "250px"
      }
     },
     "f67d9ea1eb0b4481bbc05499d741a37d": {
      "model_module": "@jupyter-widgets/controls",
      "model_module_version": "1.2.0",
      "model_name": "ButtonModel",
      "state": {
       "description": "Earley",
       "layout": "IPY_MODEL_e073ca530b9b46c789c7dc2f05b53338",
       "style": "IPY_MODEL_dcb9d7c9f82d414397e1e4196decd363"
      }
     },
     "f68570584efc4aaf81722fda2bfe3489": {
      "model_module": "@jupyter-widgets/base",
      "model_module_version": "1.0.0",
      "model_name": "LayoutModel",
      "state": {}
     },
     "f685a42b7a294a5494456dc883fc1e63": {
      "model_module": "@jupyter-widgets/controls",
      "model_module_version": "1.2.0",
      "model_name": "ButtonStyleModel",
      "state": {}
     },
     "f6a3a586be074344a972f8970fb7cff8": {
      "model_module": "@jupyter-widgets/controls",
      "model_module_version": "1.2.0",
      "model_name": "HTMLModel",
      "state": {
       "layout": "IPY_MODEL_646bbe11186649159194db8f5938e5a7",
       "style": "IPY_MODEL_420b0ad18807436597b309ba5277dd8d",
       "value": "<h4 style=\"font-size:14px;\">Welche Operation folgt als nächstes?</h4>"
      }
     },
     "f6b6bd88d3a841a6ba6335b4cd61583c": {
      "model_module": "@jupyter-widgets/base",
      "model_module_version": "1.0.0",
      "model_name": "LayoutModel",
      "state": {
       "width": "250px"
      }
     },
     "f70fdc11ef2f41c888e2426740b0cc0b": {
      "model_module": "@jupyter-widgets/base",
      "model_module_version": "1.0.0",
      "model_name": "LayoutModel",
      "state": {
       "width": "250px"
      }
     },
     "f7946aaec337468eb655a93231ac0826": {
      "model_module": "@jupyter-widgets/controls",
      "model_module_version": "1.2.0",
      "model_name": "ButtonModel",
      "state": {
       "description": "Reduce",
       "layout": "IPY_MODEL_e2972b83b87c4e498f8e28d7674ba8a8",
       "style": "IPY_MODEL_a9aa2e66aef84967a19a6da368608113"
      }
     },
     "f7bfe3b9d360446ab4dd55fbc9476633": {
      "model_module": "@jupyter-widgets/controls",
      "model_module_version": "1.2.0",
      "model_name": "HBoxModel",
      "state": {
       "children": [
        "IPY_MODEL_d20a86ce01fa4c3491577fdd722eca2e",
        "IPY_MODEL_a765c4c3bd62433f8cd6fe189224072d"
       ],
       "layout": "IPY_MODEL_a130bdc26fd24f63bffc115f1cf3b634"
      }
     },
     "f811557531e04a3599c609fba2fdf0e6": {
      "model_module": "@jupyter-widgets/controls",
      "model_module_version": "1.2.0",
      "model_name": "ButtonModel",
      "state": {
       "description": "Korrekt?",
       "layout": "IPY_MODEL_cdf63774abb940b58746c8095b4ff1a8",
       "style": "IPY_MODEL_ef9cd337ac8b41f0b09b9bd53901af86"
      }
     },
     "f8691f870c474a788479362039740a65": {
      "model_module": "@jupyter-widgets/controls",
      "model_module_version": "1.2.0",
      "model_name": "ButtonModel",
      "state": {
       "description": "Predict",
       "layout": "IPY_MODEL_7a996264d66f40019e48e0c777a11fe9",
       "style": "IPY_MODEL_a892d85da27a47d79dadb5d422563ee0"
      }
     },
     "f89a44cb02f8400db650d8389eb77384": {
      "model_module": "@jupyter-widgets/controls",
      "model_module_version": "1.2.0",
      "model_name": "ButtonStyleModel",
      "state": {}
     },
     "f8a60b442af340d0826714eb47d8adf1": {
      "model_module": "@jupyter-widgets/controls",
      "model_module_version": "1.2.0",
      "model_name": "ButtonModel",
      "state": {
       "description": "Earley",
       "layout": "IPY_MODEL_a85ce85cbb7f48c291e71e289001992d",
       "style": "IPY_MODEL_0bb61ad21ecf4271a2dc4947efcf0dd4"
      }
     },
     "f8c1b4af96e7409092c8cb176dff42e0": {
      "model_module": "@jupyter-widgets/base",
      "model_module_version": "1.0.0",
      "model_name": "LayoutModel",
      "state": {
       "justify_content": "center"
      }
     },
     "f8cc2f4d8c534c5fa3fb86fafa621f7a": {
      "model_module": "@jupyter-widgets/controls",
      "model_module_version": "1.2.0",
      "model_name": "ButtonStyleModel",
      "state": {}
     },
     "f8d7b5264a5146f7923bf21c190db5e8": {
      "model_module": "@jupyter-widgets/controls",
      "model_module_version": "1.2.0",
      "model_name": "DescriptionStyleModel",
      "state": {
       "description_width": ""
      }
     },
     "f8ddf5bed19d4137867a6951c51b56af": {
      "model_module": "@jupyter-widgets/base",
      "model_module_version": "1.0.0",
      "model_name": "LayoutModel",
      "state": {
       "width": "250px"
      }
     },
     "f905a89ef77f493284a67ff14f7a8834": {
      "model_module": "@jupyter-widgets/base",
      "model_module_version": "1.0.0",
      "model_name": "LayoutModel",
      "state": {}
     },
     "f979634b494a4d138f34eeb51540fcde": {
      "model_module": "@jupyter-widgets/controls",
      "model_module_version": "1.2.0",
      "model_name": "HBoxModel",
      "state": {
       "children": [
        "IPY_MODEL_cc35acb3e78341ff93bca6d3a190f3a6",
        "IPY_MODEL_1947f88e617f4693bc3c7d90864ba252"
       ],
       "layout": "IPY_MODEL_e35c7b655a644c16af7a098ec3cc8467"
      }
     },
     "fa3eaa7e3ac44263a791b47a0a2129ec": {
      "model_module": "@jupyter-widgets/controls",
      "model_module_version": "1.2.0",
      "model_name": "ButtonModel",
      "state": {
       "description": "Predict",
       "layout": "IPY_MODEL_bd56d3bf78a94c5e8e2de8ac9e0dc7d1",
       "style": "IPY_MODEL_f386e2668dd04abe853d00ab0e7844b5"
      }
     },
     "fa8890de7290499ca5736cba88a093be": {
      "model_module": "@jupyter-widgets/controls",
      "model_module_version": "1.2.0",
      "model_name": "CheckboxModel",
      "state": {
       "description": "Reduce",
       "disabled": false,
       "layout": "IPY_MODEL_413427e807b24f5e89dcd0c94985dcf5",
       "style": "IPY_MODEL_ee1beb1e340f4e7bb5ef9114c2d52e7c",
       "value": true
      }
     },
     "fa8f9dc132fc47c1b266a0634bebc7dc": {
      "model_module": "@jupyter-widgets/base",
      "model_module_version": "1.0.0",
      "model_name": "LayoutModel",
      "state": {
       "width": "250px"
      }
     },
     "facc1c2f099c4ed4b6a39ac32e771f79": {
      "model_module": "@jupyter-widgets/controls",
      "model_module_version": "1.2.0",
      "model_name": "HBoxModel",
      "state": {
       "children": [
        "IPY_MODEL_d45af81ecbc54464b94bca4ae21b6d97",
        "IPY_MODEL_e99ff9e1dff747549e1a84e08f6d32cf"
       ],
       "layout": "IPY_MODEL_c0d04f71b5d24e1ba67c090cd20ac733"
      }
     },
     "fb09722c35fe465dbbb1e7c3ed6b11eb": {
      "model_module": "@jupyter-widgets/base",
      "model_module_version": "1.0.0",
      "model_name": "LayoutModel",
      "state": {}
     },
     "fb5e7359fd5146deab6bc932b8217bb0": {
      "model_module": "@jupyter-widgets/base",
      "model_module_version": "1.0.0",
      "model_name": "LayoutModel",
      "state": {}
     },
     "fbd5fc7133b8442d9eebd975d0c32869": {
      "model_module": "@jupyter-widgets/controls",
      "model_module_version": "1.2.0",
      "model_name": "HTMLModel",
      "state": {
       "layout": "IPY_MODEL_d4aaaa336f234b99b045bd1a66cbdd86",
       "style": "IPY_MODEL_44176f38835a4de0befc36c08683141a",
       "value": "<i>Wählen Sie die <ins>eine</ins> korrekte Antwort aus: </i>"
      }
     },
     "fc9c49466c10429b9e49572f1fd2773d": {
      "model_module": "@jupyter-widgets/controls",
      "model_module_version": "1.2.0",
      "model_name": "HBoxModel",
      "state": {
       "children": [
        "IPY_MODEL_e32f5d7e898e4db3a44617cd1060c89d",
        "IPY_MODEL_bcfea01a41124be0bf2c2d38141005bc"
       ],
       "layout": "IPY_MODEL_9b47ba7a6d7f42a5a89ca785b2acfcee"
      }
     },
     "fcb0236b37304ffdad8549751db6aae0": {
      "model_module": "@jupyter-widgets/controls",
      "model_module_version": "1.2.0",
      "model_name": "CheckboxModel",
      "state": {
       "description": "Reduce",
       "disabled": false,
       "layout": "IPY_MODEL_49cb496b0d5949a58fb3d0e0defae6f1",
       "style": "IPY_MODEL_e65db87429d24d9da4d08da4ebcd66b9",
       "value": false
      }
     },
     "fcb3f47dbb53405bb3b483a98079d02c": {
      "model_module": "@jupyter-widgets/controls",
      "model_module_version": "1.2.0",
      "model_name": "HBoxModel",
      "state": {
       "children": [
        "IPY_MODEL_f08de5729d3b405b9c9f98b4bc4b4d45",
        "IPY_MODEL_49a9cf7278844b17b29a06f0a1ad24b9"
       ],
       "layout": "IPY_MODEL_ef09fb00a02144e2a9d1cce43559791a"
      }
     },
     "fd100c3c6e3f4a8f8efea2f3c2f36468": {
      "model_module": "@jupyter-widgets/controls",
      "model_module_version": "1.2.0",
      "model_name": "ButtonModel",
      "state": {
       "description": "Korrekt?",
       "layout": "IPY_MODEL_028c3b089db744cba3053c571264ed85",
       "style": "IPY_MODEL_5b9fb336e03543b7bc9934bd736c0c94"
      }
     },
     "fd5b8031066347d2a7934c86fea02ce5": {
      "model_module": "@jupyter-widgets/controls",
      "model_module_version": "1.2.0",
      "model_name": "DescriptionStyleModel",
      "state": {
       "description_width": ""
      }
     },
     "fd77bdc3fb5d4589a26b2d1236289bc9": {
      "model_module": "@jupyter-widgets/base",
      "model_module_version": "1.0.0",
      "model_name": "LayoutModel",
      "state": {
       "width": "250px"
      }
     },
     "fdb835a4024e4bf68d0a1e87c01f3b38": {
      "model_module": "@jupyter-widgets/base",
      "model_module_version": "1.0.0",
      "model_name": "LayoutModel",
      "state": {
       "width": "250px"
      }
     },
     "fdfdccce7db641b08e3e64ea52a73e61": {
      "model_module": "@jupyter-widgets/base",
      "model_module_version": "1.0.0",
      "model_name": "LayoutModel",
      "state": {}
     },
     "fe34e2b4f15540c1a0d8c72f21a76ca6": {
      "model_module": "@jupyter-widgets/controls",
      "model_module_version": "1.2.0",
      "model_name": "VBoxModel",
      "state": {
       "children": [
        "IPY_MODEL_3f09f7ef90c84e16b49f4d951cdf8428",
        "IPY_MODEL_a535ab4070ad4d8f846d777bc788ece1",
        "IPY_MODEL_4a59f79aa8804735862090525ed9d632",
        "IPY_MODEL_d048c6cee5cd43e1bfa984d4f7cef0c2",
        "IPY_MODEL_3ca433d44f264c69a5f1337ea8bf755b"
       ],
       "layout": "IPY_MODEL_4e34e16a008948c882f1977f613d72e3"
      }
     },
     "fe821d51a1334cdd8b766dd203085693": {
      "model_module": "@jupyter-widgets/controls",
      "model_module_version": "1.2.0",
      "model_name": "ButtonStyleModel",
      "state": {
       "button_color": "lightgreen"
      }
     },
     "ff0e1114455f4474b46fb4fc39765a56": {
      "model_module": "@jupyter-widgets/controls",
      "model_module_version": "1.2.0",
      "model_name": "ButtonModel",
      "state": {
       "description": "Shift Reduce",
       "layout": "IPY_MODEL_014849f3eef64e0fb9eb851f0875630f",
       "style": "IPY_MODEL_c1386ef6ab784dc0adc8506f993b7bc0"
      }
     },
     "ff43595a315d42799c583e23a24de73c": {
      "model_module": "@jupyter-widgets/controls",
      "model_module_version": "1.2.0",
      "model_name": "ButtonStyleModel",
      "state": {}
     },
     "ff81b310ad544488bde3dc5c80e0aa12": {
      "model_module": "@jupyter-widgets/controls",
      "model_module_version": "1.2.0",
      "model_name": "ButtonStyleModel",
      "state": {}
     },
     "ff843e934d34451999995cf7352c7ca0": {
      "model_module": "@jupyter-widgets/controls",
      "model_module_version": "1.2.0",
      "model_name": "ButtonStyleModel",
      "state": {}
     },
     "ff8c0f7a6af241989ea70ad6687c276f": {
      "model_module": "@jupyter-widgets/base",
      "model_module_version": "1.0.0",
      "model_name": "LayoutModel",
      "state": {}
     },
     "ff9378a71a5a4c0f823f3e927821b230": {
      "model_module": "@jupyter-widgets/controls",
      "model_module_version": "1.2.0",
      "model_name": "VBoxModel",
      "state": {
       "children": [
        "IPY_MODEL_635024bfed2f41ae94d5f90c7ce5b516",
        "IPY_MODEL_0e9f14713f0c45b39e276bce3b792a7a",
        "IPY_MODEL_3663185fcbc349a681dc82cec2a39e22",
        "IPY_MODEL_bb752a159a9e4aca9736657e88e1946b"
       ],
       "layout": "IPY_MODEL_2a5ce81803a34f76aa134b1c2906eed1"
      }
     }
    },
    "version_major": 2,
    "version_minor": 0
   }
  }
 },
 "nbformat": 4,
 "nbformat_minor": 2
}
