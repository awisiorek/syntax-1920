{
 "cells": [
  {
   "cell_type": "markdown",
   "metadata": {
    "slideshow": {
     "slide_type": "slide"
    }
   },
   "source": [
    "***Vorlesung 'Syntax natürlicher Sprachen', WS 2019/20***\n",
    "\n",
    "---\n",
    "# Übung 6"
   ]
  },
  {
   "cell_type": "code",
   "execution_count": 1,
   "metadata": {
    "slideshow": {
     "slide_type": "fragment"
    }
   },
   "outputs": [],
   "source": [
    "from exercises_6 import *\n",
    "from questions import aufgabe\n",
    "from nltk.tree import Tree\n",
    "from nltk import FeatStruct\n",
    "from sklearn.metrics import accuracy_score"
   ]
  },
  {
   "cell_type": "markdown",
   "metadata": {
    "slideshow": {
     "slide_type": "slide"
    }
   },
   "source": [
    "---\n",
    "## Aufgabe 1: Kongruenz 1.0\n",
    "#### Betrachten Sie die folgenden Sätze. Offensichtlich besteht zwischen Artikel und Nomen einer Nominalphrase Kongruenz im Genus.\n",
    "####  Nutzen Sie Merkmalstrukturen in einem Python-Skript zur Überprüfung dieser Kongruenz. Ihr Skript sollte alle untenstehenden Beispiele korrekt als grammatisch/ungrammatisch klassifizieren können."
   ]
  },
  {
   "cell_type": "markdown",
   "metadata": {
    "slideshow": {
     "slide_type": "subslide"
    }
   },
   "source": [
    "  \n",
    "1. - *Der Löffel ist aus Silber.*\n",
    "   - *&ast; Der Gabel ist aus Silber.*\n",
    "   - *&ast; Der Messer ist aus Silber.* <p>\n",
    "    \n",
    "2. - *&ast; Die Löffel ist aus Silber.* \n",
    "   - *Die Gabel ist aus Silber.*\n",
    "   - *&ast; Die Messer ist aus Silber.* <p>\n",
    "   \n",
    "3. - *&ast; Das Löffel ist aus Silber.*\n",
    "   - *&ast; Das Gabel ist aus Silber.*\n",
    "   - *Das Messer ist aus Silber.*"
   ]
  },
  {
   "cell_type": "code",
   "execution_count": 2,
   "metadata": {
    "slideshow": {
     "slide_type": "subslide"
    }
   },
   "outputs": [],
   "source": [
    "test_cases = [\n",
    "    (det, noun)\n",
    "    for det in [\"der\", \"die\", \"das\"]\n",
    "    for noun in [\"Löffel\", \"Gabel\", \"Messer\"]\n",
    "]\n",
    "truth = [\n",
    "    True, False, False,\n",
    "    False, True, False,\n",
    "    False, False, True\n",
    "]"
   ]
  },
  {
   "cell_type": "code",
   "execution_count": 3,
   "metadata": {
    "slideshow": {
     "slide_type": "fragment"
    }
   },
   "outputs": [
    {
     "data": {
      "text/plain": [
       "[('der', 'Löffel'),\n",
       " ('der', 'Gabel'),\n",
       " ('der', 'Messer'),\n",
       " ('die', 'Löffel'),\n",
       " ('die', 'Gabel'),\n",
       " ('die', 'Messer'),\n",
       " ('das', 'Löffel'),\n",
       " ('das', 'Gabel'),\n",
       " ('das', 'Messer')]"
      ]
     },
     "execution_count": 3,
     "metadata": {},
     "output_type": "execute_result"
    }
   ],
   "source": [
    "test_cases"
   ]
  },
  {
   "cell_type": "code",
   "execution_count": 4,
   "metadata": {},
   "outputs": [],
   "source": [
    "lexicon = {\n",
    "    'der': FeatStruct(GEN='mask'),\n",
    "    'die': FeatStruct(GEN='fem'),\n",
    "    'das': FeatStruct(GEN='neut'),\n",
    "    'Löffel': FeatStruct(GEN='mask'),\n",
    "    'Gabel': FeatStruct(GEN='fem'),\n",
    "    'Messer': FeatStruct(GEN='neut')\n",
    "}"
   ]
  },
  {
   "cell_type": "code",
   "execution_count": 5,
   "metadata": {
    "slideshow": {
     "slide_type": "subslide"
    }
   },
   "outputs": [],
   "source": [
    "def is_correct(det, noun):\n",
    "    det_fs = lexicon[det]\n",
    "    noun_fs = lexicon[noun]\n",
    "    return det_fs.unify(noun_fs) is not None"
   ]
  },
  {
   "cell_type": "code",
   "execution_count": 6,
   "metadata": {},
   "outputs": [
    {
     "data": {
      "text/plain": [
       "\"[ GEN = 'mask' ]\""
      ]
     },
     "execution_count": 6,
     "metadata": {},
     "output_type": "execute_result"
    }
   ],
   "source": [
    "str(lexicon['der'].unify(lexicon['Löffel']))"
   ]
  },
  {
   "cell_type": "code",
   "execution_count": 7,
   "metadata": {},
   "outputs": [
    {
     "data": {
      "text/plain": [
       "True"
      ]
     },
     "execution_count": 7,
     "metadata": {},
     "output_type": "execute_result"
    }
   ],
   "source": [
    "lexicon['der'].unify(lexicon['Gabel']) is None"
   ]
  },
  {
   "cell_type": "code",
   "execution_count": 8,
   "metadata": {
    "scrolled": true,
    "slideshow": {
     "slide_type": "subslide"
    }
   },
   "outputs": [
    {
     "name": "stdout",
     "output_type": "stream",
     "text": [
      "Accuracy: 100.00 %\n"
     ]
    }
   ],
   "source": [
    "# Evaluation\n",
    "pred = []\n",
    "for nomPhr in test_cases:\n",
    "    pred.append(is_correct(*nomPhr))\n",
    "\n",
    "print(\"Accuracy: {:.2f} %\".format(accuracy_score(truth, pred)*100))"
   ]
  },
  {
   "cell_type": "markdown",
   "metadata": {
    "slideshow": {
     "slide_type": "slide"
    }
   },
   "source": [
    "---\n",
    "## Aufgabe 2: Semantische Merkmalstrukturen\n",
    "#### Implementieren Sie die folgenden Merkmalstrukturen als `nltk.FeatStruct` und schreiben Sie ein Programm, das für einen gegebenen Satz die richtige Merkmalstruktur aus dem Lexikon auswählt und die Lücken für Subjekt und Objekt des Satzes füllt. Geben Sie anschließend die vollständige Merkmalstruktur auf der Standardausgabe aus."
   ]
  },
  {
   "cell_type": "markdown",
   "metadata": {
    "slideshow": {
     "slide_type": "subslide"
    }
   },
   "source": [
    "$$\n",
    "\\left [ % draw the opening left bracket\n",
    "\\begin{array}{ll}   % begin a two column array\n",
    "   CAT & V \\\\\n",
    "   LEMMA & \\text{folgen} \\\\\n",
    "   SYN &  \\left  [ \\begin{array}{ll}\n",
    "                        SBJ & \\boxed{1}\\\\\n",
    "                        OBJ & \\boxed{2} \\\\     \n",
    "                    \\end{array} \n",
    "           \\right  ]  \\\\\n",
    "   SEM   & \\left [ \\begin{array}{ll}\n",
    "                          AGT & \\boxed{1} \\\\\n",
    "                          PAT & \\boxed{2} \\\\\n",
    "                   \\end{array}\n",
    "           \\right ]\n",
    "\\end{array} % end the outer array\n",
    "\\right ]    % closing right bracket\n",
    "~~~~~~~~~~\n",
    "\\left [ % draw the opening left bracket\n",
    "\\begin{array}{ll}   % begin a two column array\n",
    "   CAT & V \\\\\n",
    "   LEMMA & \\text{überraschen} \\\\\n",
    "   SYN &  \\left  [ \\begin{array}{ll}\n",
    "                        SBJ & \\boxed{1}\\\\\n",
    "                        OBJ & \\boxed{2} \\\\     \n",
    "                    \\end{array} \n",
    "           \\right  ]  \\\\\n",
    "   SEM   & \\left [ \\begin{array}{ll}\n",
    "                          SRC & \\boxed{1} \\\\\n",
    "                          EXP & \\boxed{2} \\\\\n",
    "                   \\end{array}\n",
    "           \\right ]\n",
    "\\end{array} % end the outer array\n",
    "\\right ]    % closing right bracket\n",
    "$$"
   ]
  },
  {
   "cell_type": "markdown",
   "metadata": {
    "slideshow": {
     "slide_type": "subslide"
    }
   },
   "source": [
    "#### *Anmerkung*: Sie dürfen annehmen, dass  wir es nur mit einfachen Sätzen zu tun haben, in denen es nur ein Verb und nur jeweils einen Kandidaten für Subjekt und Objekt gibt.\n",
    "\n",
    "#### Testen Sie Ihr Programm mit den folgenden Sätzen:"
   ]
  },
  {
   "cell_type": "code",
   "execution_count": 9,
   "metadata": {
    "slideshow": {
     "slide_type": "fragment"
    }
   },
   "outputs": [],
   "source": [
    "sentences = [\n",
    "   \"Der Hund ist mir bis nach Hause gefolgt!\",\n",
    "   \"Das überrascht mich doch sehr!\",\n",
    "   \"Wer folgt wem auf Twitter?\",\n",
    "   \"John überrascht Jane mit einer richtigen Antwort.\" \n",
    "]"
   ]
  },
  {
   "cell_type": "code",
   "execution_count": 10,
   "metadata": {
    "slideshow": {
     "slide_type": "subslide"
    }
   },
   "outputs": [],
   "source": [
    "lexicon = {\n",
    "    'folgen': FeatStruct(\n",
    "        '[CAT=V, LEMMA=folgen, SYN=[SBJ=?x, OBJ=?y], SEM=[AGT=?x, PAT=?y]]'\n",
    "    ),\n",
    "    'überraschen': FeatStruct(\n",
    "        '[CAT=V, LEMMA=ueberraschen, SYN=[SBJ=?x, OBJ=?y], SEM=[SRC=?x, EXP=?y]]'\n",
    "    )\n",
    "}"
   ]
  },
  {
   "cell_type": "code",
   "execution_count": 11,
   "metadata": {},
   "outputs": [],
   "source": [
    "import spacy\n",
    "nlp = spacy.load('de_core_news_sm')"
   ]
  },
  {
   "cell_type": "code",
   "execution_count": 12,
   "metadata": {},
   "outputs": [
    {
     "name": "stdout",
     "output_type": "stream",
     "text": [
      "Das PRON der sb\n",
      "überrascht VERB überraschen ROOT\n",
      "mich PRON sich oa\n",
      "doch ADV doch mo\n",
      "sehr ADV sehr mo\n",
      "! PUNCT ! punct\n"
     ]
    }
   ],
   "source": [
    "analyzed = nlp(sentences[1])\n",
    "for token in analyzed:\n",
    "    print(token.text, token.pos_, token.lemma_, token.dep_)"
   ]
  },
  {
   "cell_type": "code",
   "execution_count": 13,
   "metadata": {},
   "outputs": [
    {
     "data": {
      "text/plain": [
       "'accusative object'"
      ]
     },
     "execution_count": 13,
     "metadata": {},
     "output_type": "execute_result"
    }
   ],
   "source": [
    "spacy.explain('oa')"
   ]
  },
  {
   "cell_type": "code",
   "execution_count": 14,
   "metadata": {
    "slideshow": {
     "slide_type": "subslide"
    }
   },
   "outputs": [],
   "source": [
    "#  In: sentence as a string\n",
    "# Out: semantic feature structure\n",
    "def semantic_parse(sentence):\n",
    "    # syntaktische Analyse\n",
    "    analyzed = nlp(sentence)\n",
    "    # Verb finden\n",
    "    verb = None\n",
    "    for token in analyzed:\n",
    "        if token.pos_ == 'VERB' and token.lemma_ in lexicon:\n",
    "            verb = token.lemma_\n",
    "    # FS aus lexikon suchen\n",
    "    if verb is None:\n",
    "        return None\n",
    "    verb_fs = lexicon[verb]\n",
    "    # subjekt und objekt finden\n",
    "    sbj, obj = None, None\n",
    "    for token in analyzed:\n",
    "        if token.dep_ == 'sb':\n",
    "            sbj = token.text\n",
    "        elif token.dep_ == 'da' or token.dep_ == 'oa':\n",
    "            obj = token.text\n",
    "    if sbj is None or obj is None:\n",
    "        return None\n",
    "    # geschickt unifizieren\n",
    "    syn_fs = FeatStruct(SYN=FeatStruct(SBJ=sbj, OBJ=obj))\n",
    "    return verb_fs.unify(syn_fs)"
   ]
  },
  {
   "cell_type": "code",
   "execution_count": 15,
   "metadata": {},
   "outputs": [
    {
     "data": {
      "text/plain": [
       "[SYN=[OBJ='mir', SBJ='Hund']]"
      ]
     },
     "execution_count": 15,
     "metadata": {},
     "output_type": "execute_result"
    }
   ],
   "source": [
    "FeatStruct(SYN=FeatStruct(SBJ='Hund', OBJ='mir'))"
   ]
  },
  {
   "cell_type": "code",
   "execution_count": 16,
   "metadata": {
    "slideshow": {
     "slide_type": "subslide"
    }
   },
   "outputs": [
    {
     "name": "stdout",
     "output_type": "stream",
     "text": [
      "\n",
      "Der Hund ist mir bis nach Hause gefolgt!\n",
      "[ CAT   = 'V'              ]\n",
      "[ LEMMA = 'folgen'         ]\n",
      "[                          ]\n",
      "[ SEM   = [ AGT = 'Hund' ] ]\n",
      "[         [ PAT = 'mir'  ] ]\n",
      "[                          ]\n",
      "[ SYN   = [ OBJ = 'mir'  ] ]\n",
      "[         [ SBJ = 'Hund' ] ]\n",
      "\n",
      "Das überrascht mich doch sehr!\n",
      "[ CAT   = 'V'              ]\n",
      "[ LEMMA = 'ueberraschen'   ]\n",
      "[                          ]\n",
      "[ SEM   = [ EXP = 'mich' ] ]\n",
      "[         [ SRC = 'Das'  ] ]\n",
      "[                          ]\n",
      "[ SYN   = [ OBJ = 'mich' ] ]\n",
      "[         [ SBJ = 'Das'  ] ]\n",
      "\n",
      "Wer folgt wem auf Twitter?\n",
      "[ CAT   = 'V'             ]\n",
      "[ LEMMA = 'folgen'        ]\n",
      "[                         ]\n",
      "[ SEM   = [ AGT = 'Wer' ] ]\n",
      "[         [ PAT = 'wem' ] ]\n",
      "[                         ]\n",
      "[ SYN   = [ OBJ = 'wem' ] ]\n",
      "[         [ SBJ = 'Wer' ] ]\n",
      "\n",
      "John überrascht Jane mit einer richtigen Antwort.\n",
      "[ CAT   = 'V'              ]\n",
      "[ LEMMA = 'ueberraschen'   ]\n",
      "[                          ]\n",
      "[ SEM   = [ EXP = 'Jane' ] ]\n",
      "[         [ SRC = 'John' ] ]\n",
      "[                          ]\n",
      "[ SYN   = [ OBJ = 'Jane' ] ]\n",
      "[         [ SBJ = 'John' ] ]\n"
     ]
    }
   ],
   "source": [
    "for sent in sentences:\n",
    "    fs = semantic_parse(sent)\n",
    "    print()\n",
    "    print(sent)\n",
    "    print(fs)"
   ]
  },
  {
   "cell_type": "markdown",
   "metadata": {
    "slideshow": {
     "slide_type": "slide"
    }
   },
   "source": [
    "---\n",
    "## Aufgabe 3: Adjektivdeklination\n",
    "\n",
    "#### Die Adjektivdeklination im Deutschen bereitet vielen Deutschlernern Schwierigkeiten. Stellen Sie sich vor, Sie wollten einem Deutschlerner plausibel machen, dass die Adjektivdeklination keine reine Willkür ist.\n",
    "\n",
    "#### Wählen Sie zur Illustration *das alte Bier* und *altes Bier*, und deklinieren Sie diese Nominalphrasen in allen vier Kasus.\n",
    "\n",
    "#### Auf welche Gesetzmäßigkeiten würden Sie hinweisen? \n",
    "\n",
    "#### Beantworten Sie auch die folgenden Fragen!"
   ]
  },
  {
   "cell_type": "markdown",
   "metadata": {
    "slideshow": {
     "slide_type": "subslide"
    }
   },
   "source": [
    "| Nominativ | altes Bier | das alte Bier\n",
    "| ---------- | ----------------- | ----------------- | \n",
    "| Genitiv | ... | ... | \n",
    "| Dativ | ... | ... | \n",
    "| Akkusativ | ... | ... | "
   ]
  },
  {
   "cell_type": "code",
   "execution_count": 17,
   "metadata": {
    "scrolled": false,
    "slideshow": {
     "slide_type": "subslide"
    }
   },
   "outputs": [
    {
     "data": {
      "application/vnd.jupyter.widget-view+json": {
       "model_id": "3f34e3307543443fa1e86915f9343649",
       "version_major": 2,
       "version_minor": 0
      },
      "text/plain": [
       "SingleChoice(children=(HTML(value='<h4 style=\"font-size:14px;\">Wie wird die Deklination der Nominalphrase <i>a…"
      ]
     },
     "metadata": {},
     "output_type": "display_data"
    },
    {
     "data": {
      "application/vnd.jupyter.widget-view+json": {
       "model_id": "169f88f232b4432895d95ff8ca164b3a",
       "version_major": 2,
       "version_minor": 0
      },
      "text/plain": [
       "SingleChoice(children=(HTML(value='<h4 style=\"font-size:14px;\">Wie wird die Deklination der Nominalphrase <i>d…"
      ]
     },
     "metadata": {},
     "output_type": "display_data"
    },
    {
     "data": {
      "application/vnd.jupyter.widget-view+json": {
       "model_id": "417edfde2efd40659a965e1ace50a327",
       "version_major": 2,
       "version_minor": 0
      },
      "text/plain": [
       "SingleChoice(children=(HTML(value='<h4 style=\"font-size:14px;\">Für die Deklination ist hier relevant, ob das A…"
      ]
     },
     "metadata": {},
     "output_type": "display_data"
    },
    {
     "data": {
      "application/vnd.jupyter.widget-view+json": {
       "model_id": "eb3632bdf7bd44d4b88739901f1d47bf",
       "version_major": 2,
       "version_minor": 0
      },
      "text/plain": [
       "MultipleChoice(children=(HTML(value='<h4 style=\"font-size:14px;\">Welche Aussagen über Adjektive stimmen?</h4>'…"
      ]
     },
     "metadata": {},
     "output_type": "display_data"
    },
    {
     "data": {
      "application/vnd.jupyter.widget-view+json": {
       "model_id": "0d183e9dd1bc45f88cb3bc84e29006f7",
       "version_major": 2,
       "version_minor": 0
      },
      "text/plain": [
       "MultipleChoice(children=(HTML(value='<h4 style=\"font-size:14px;\">Welche Aussagen gelten für Nominalphrasen mit…"
      ]
     },
     "metadata": {},
     "output_type": "display_data"
    },
    {
     "data": {
      "application/vnd.jupyter.widget-view+json": {
       "model_id": "94f37851b6364ba2bf61b47368e05964",
       "version_major": 2,
       "version_minor": 0
      },
      "text/plain": [
       "MultipleChoice(children=(HTML(value='<h4 style=\"font-size:14px;\">Welche Aussagen gelten für den Fall, dass das…"
      ]
     },
     "metadata": {},
     "output_type": "display_data"
    }
   ],
   "source": [
    "aufgabe(blatt6_3)"
   ]
  },
  {
   "cell_type": "markdown",
   "metadata": {
    "slideshow": {
     "slide_type": "slide"
    }
   },
   "source": [
    "---\n",
    "## Aufgabe 4: Diathesen\n",
    "\n",
    "#### Erläutern Sie, welche syntaktischen und welche kommunikativ-funktionalen Unterschiede zwischen den folgenden beiden Sätzen bestehen.\n",
    "\n",
    "- *Hausmeister Meier ruft die Feuerwehr an.*\n",
    "- *Die Feuerwehr wird von Hausmeister Meier angerufen.*\n",
    "\n",
    "#### Beantworten Sie auch die folgenden Fragen."
   ]
  },
  {
   "cell_type": "code",
   "execution_count": 18,
   "metadata": {
    "slideshow": {
     "slide_type": "subslide"
    }
   },
   "outputs": [
    {
     "data": {
      "application/vnd.jupyter.widget-view+json": {
       "model_id": "51b433e5812b4b14b481003e12564200",
       "version_major": 2,
       "version_minor": 0
      },
      "text/plain": [
       "SingleChoice(children=(HTML(value='<h4 style=\"font-size:14px;\">Schildern beide Sätze denselben Sachverhalt?</h…"
      ]
     },
     "metadata": {},
     "output_type": "display_data"
    },
    {
     "data": {
      "application/vnd.jupyter.widget-view+json": {
       "model_id": "8ccb37867f9a40f994e995d3df06b54e",
       "version_major": 2,
       "version_minor": 0
      },
      "text/plain": [
       "MultipleChoice(children=(HTML(value='<h4 style=\"font-size:14px;\">Welche syntaktischen Unterschiede bestehen?</…"
      ]
     },
     "metadata": {},
     "output_type": "display_data"
    },
    {
     "data": {
      "application/vnd.jupyter.widget-view+json": {
       "model_id": "6fe006454b294d3a9570cb5b77fa67cc",
       "version_major": 2,
       "version_minor": 0
      },
      "text/plain": [
       "MultipleChoice(children=(HTML(value='<h4 style=\"font-size:14px;\">Welche kommunikativ-funktionalen Unterschiede…"
      ]
     },
     "metadata": {},
     "output_type": "display_data"
    }
   ],
   "source": [
    "aufgabe(blatt6_4)"
   ]
  },
  {
   "cell_type": "markdown",
   "metadata": {
    "slideshow": {
     "slide_type": "slide"
    }
   },
   "source": [
    "---\n",
    "## Aufgabe 5: Semantische Hierarchie\n",
    "\n",
    "#### Vergleichen Sie die folgenden beiden Sätze:\n",
    "- *Peter zerreißt Paul die Hose*\n",
    "- *Die Hose zerreißt*\n",
    "\n",
    "#### Wie kann im Rahmen einer funktionalen Syntaxtheorie (vgl. die semantische Hierarchie <code> Ag > Pat > Rec > Ben > Instr > Loc > Time </code>) erklärt werden, dass hier im Subjekt jeweils eine andere semantische Funktion/Rolle steht?\n",
    "\n",
    "#### Beantworten Sie die folgenden Fragen."
   ]
  },
  {
   "cell_type": "code",
   "execution_count": 19,
   "metadata": {
    "slideshow": {
     "slide_type": "subslide"
    }
   },
   "outputs": [
    {
     "data": {
      "application/vnd.jupyter.widget-view+json": {
       "model_id": "b42f949f35d64effb3aeee22a4817dc1",
       "version_major": 2,
       "version_minor": 0
      },
      "text/plain": [
       "SingleChoice(children=(HTML(value='<h4 style=\"font-size:14px;\">Was ist der bevorzugte Kandidat zur Realisierun…"
      ]
     },
     "metadata": {},
     "output_type": "display_data"
    },
    {
     "data": {
      "application/vnd.jupyter.widget-view+json": {
       "model_id": "ed847a9dfff447e79be822e69883a197",
       "version_major": 2,
       "version_minor": 0
      },
      "text/plain": [
       "MultipleChoice(children=(HTML(value='<h4 style=\"font-size:14px;\">Was passiert nach semantischer Hierarchie, we…"
      ]
     },
     "metadata": {},
     "output_type": "display_data"
    },
    {
     "data": {
      "application/vnd.jupyter.widget-view+json": {
       "model_id": "13919213211c42f6bf2a477942fddef5",
       "version_major": 2,
       "version_minor": 0
      },
      "text/plain": [
       "SingleChoice(children=(HTML(value='<h4 style=\"font-size:14px;\">Was ist im zweiten Satz das Subjekt?</h4>', lay…"
      ]
     },
     "metadata": {},
     "output_type": "display_data"
    }
   ],
   "source": [
    "aufgabe(blatt6_5)"
   ]
  },
  {
   "cell_type": "markdown",
   "metadata": {
    "slideshow": {
     "slide_type": "slide"
    }
   },
   "source": [
    "---\n",
    "## Aufgabe 6: Topik-Fokus\n",
    "\n",
    "#### Konstruieren Sie einen Satz, in dem die fokussierte Information am Satzanfang steht. Stellen Sie diesen Satz in einen Minimalkontext, um nachzuweisen, dass das satzeinleitende Glied in der Tat im Fokus steht.\n",
    "\n",
    "#### Ihr Satz könnte die Wörter *Affe* und *Tisch* beinhalten."
   ]
  },
  {
   "cell_type": "markdown",
   "metadata": {
    "slideshow": {
     "slide_type": "fragment"
    }
   },
   "source": [
    "Wer sitzt auf dem Tisch? Ein Affe sitzt auf dem Tisch!"
   ]
  },
  {
   "cell_type": "markdown",
   "metadata": {
    "slideshow": {
     "slide_type": "slide"
    }
   },
   "source": [
    "--- \n",
    "# Hausaufgaben"
   ]
  },
  {
   "cell_type": "markdown",
   "metadata": {
    "slideshow": {
     "slide_type": "slide"
    }
   },
   "source": [
    "---\n",
    "## Aufgabe 7: Kongruenz 2.0\n",
    "\n",
    "#### Wie wir in Aufgabe 1 gesehen haben, besteht zwischen Artikel und Nomen einer Nominalphrase Kongruenz. Durch den Satzkontext haben wir erzwungen, dass Numerus und Kasus der Beispiele immer konstant waren (Singular, Nominativ). Lassen wir diese Einschränkung weg, ergeben sich noch weitere grammatische Kombinationsmöglichkeiten.\n",
    "\n",
    "| - | Messer | Gabel | Löffel\n",
    "| --- | ----------------- | ----------------- | ----------------- |\n",
    "| der | Pl. Gen. | Sg. Gen./Dat. | Sg. Nom./Pl. Gen. |\n",
    "| des | * | * | * |\n",
    "| dem | Sg. Dat. | * | Sg. Dat. |\n",
    "| den | * | * | Sg. Akk. |\n",
    "| die | Pl. Nom./Akk. | Sg. Nom./Akk. | Pl. Nom./Akk. |\n",
    "| das | Sg. Nom./Akk. | * | * |"
   ]
  },
  {
   "cell_type": "markdown",
   "metadata": {
    "slideshow": {
     "slide_type": "subslide"
    }
   },
   "source": [
    "#### Betrachten Sie das folgende mit Merkmalstrukturen implementierte Vollformlexikon. Schreiben Sie darauf aufbauend ein Programm, dass alle 18 Kombinationen aus obenstehender Tabelle als grammatisch oder ungrammatisch klassifiziert und im ersten Fall die unifizierte(n) Merkmalstruktur(en) ausgibt."
   ]
  },
  {
   "cell_type": "code",
   "execution_count": 20,
   "metadata": {
    "slideshow": {
     "slide_type": "subslide"
    }
   },
   "outputs": [],
   "source": [
    "lexicon = {\n",
    "    \"Messer\": [\n",
    "        FeatStruct(GEN=\"neu\", NUM=\"sg\", KAS=\"nom\"),\n",
    "        FeatStruct(GEN=\"neu\", NUM=\"sg\", KAS=\"akk\"),\n",
    "        FeatStruct(GEN=\"neu\", NUM=\"sg\", KAS=\"dat\"),\n",
    "        FeatStruct(GEN=\"neu\", NUM=\"pl\", KAS=\"nom\"),\n",
    "        FeatStruct(GEN=\"neu\", NUM=\"pl\", KAS=\"akk\"),\n",
    "        FeatStruct(GEN=\"neu\", NUM=\"pl\", KAS=\"gen\")\n",
    "    ],\n",
    "    \"Gabel\": [FeatStruct(NUM=\"sg\", GEN=\"fem\")],\n",
    "    \"Löffel\": [\n",
    "        FeatStruct(GEN=\"mas\", NUM=\"sg\", KAS=\"nom\"),\n",
    "        FeatStruct(GEN=\"mas\", NUM=\"sg\", KAS=\"akk\"),\n",
    "        FeatStruct(GEN=\"mas\", NUM=\"sg\", KAS=\"dat\"),\n",
    "        FeatStruct(GEN=\"mas\", NUM=\"pl\", KAS=\"nom\"),\n",
    "        FeatStruct(GEN=\"mas\", NUM=\"pl\", KAS=\"akk\"),\n",
    "        FeatStruct(GEN=\"mas\", NUM=\"pl\", KAS=\"gen\"),\n",
    "    ],\n",
    "\n",
    "    \"der\": [\n",
    "        FeatStruct(NUM=\"sg\", GEN=\"mas\", KAS=\"nom\"),\n",
    "        FeatStruct(NUM=\"sg\", GEN=\"fem\", KAS=\"dat\"),\n",
    "        FeatStruct(NUM=\"sg\", GEN=\"fem\", KAS=\"gen\"),\n",
    "        FeatStruct(NUM=\"pl\", KAS=\"gen\")\n",
    "    ],\n",
    "    \"des\": [\n",
    "        FeatStruct(NUM=\"sg\", GEN=\"mas\", KAS=\"gen\"),\n",
    "        FeatStruct(NUM=\"sg\", GEN=\"neu\", KAS=\"gen\")\n",
    "    ],\n",
    "    \"dem\": [\n",
    "        FeatStruct(NUM=\"sg\", GEN=\"mas\", KAS=\"dat\"),\n",
    "        FeatStruct(NUM=\"sg\", GEN=\"neu\", KAS=\"dat\"),\n",
    "    ],\n",
    "    \"den\": [\n",
    "        FeatStruct(NUM=\"sg\", GEN=\"mas\", KAS=\"akk\"),\n",
    "        FeatStruct(NUM=\"pl\", KAS=\"dat\"),\n",
    "    ],\n",
    "    \"die\": [\n",
    "        FeatStruct(NUM=\"sg\", GEN=\"fem\", KAS=\"nom\"),\n",
    "        FeatStruct(NUM=\"sg\", GEN=\"fem\", KAS=\"akk\"),\n",
    "        FeatStruct(NUM=\"pl\", KAS=\"nom\"),\n",
    "        FeatStruct(NUM=\"pl\", KAS=\"akk\")\n",
    "    ],\n",
    "    \"das\": [\n",
    "        FeatStruct(NUM=\"sg\", GEN=\"neu\", KAS=\"nom\"),\n",
    "        FeatStruct(NUM=\"sg\", GEN=\"neu\", KAS=\"akk\"),\n",
    "    ]\n",
    "}"
   ]
  },
  {
   "cell_type": "code",
   "execution_count": 21,
   "metadata": {
    "slideshow": {
     "slide_type": "subslide"
    }
   },
   "outputs": [],
   "source": [
    "def predict(artikel, nomen):\n",
    "    return True\n",
    "    # == your code goes here == #"
   ]
  },
  {
   "cell_type": "code",
   "execution_count": 22,
   "metadata": {
    "slideshow": {
     "slide_type": "subslide"
    }
   },
   "outputs": [
    {
     "name": "stdout",
     "output_type": "stream",
     "text": [
      "Accuracy: 56%\n"
     ]
    }
   ],
   "source": [
    "test_cases = [\n",
    "    (det, noun)\n",
    "    for det in [\"der\", \"des\", \"dem\", \"den\", \"die\", \"das\"]\n",
    "    for noun in [\"Messer\", \"Löffel\", \"Gabel\"]\n",
    "]\n",
    "truth = [\n",
    "    True, True, True,\n",
    "    False, False, False,\n",
    "    True, True, False,\n",
    "    False, True, False,\n",
    "    True, True, True,\n",
    "    True, False, False\n",
    "]\n",
    "\n",
    "predictions = []\n",
    "for artikel, nomen in test_cases:\n",
    "    predictions.append(predict(artikel, nomen))\n",
    "\n",
    "print(\n",
    "    \"Accuracy: {:.0f}%\".format(\n",
    "        accuracy_score(truth, predictions)*100\n",
    "    )\n",
    ")"
   ]
  },
  {
   "cell_type": "markdown",
   "metadata": {
    "slideshow": {
     "slide_type": "slide"
    }
   },
   "source": [
    "---\n",
    "## Aufgabe 8: Deklinationsmuster\n",
    "\n",
    "#### Nach welchem Deklinationsmuster wurde in den folgenden Beispielen das Adjektiv dekliniert?\n",
    "\n",
    "- *du blöder Kerl*\n",
    "- *du dumme Gans*\n",
    "- *du albernes Huhn*\n",
    "\n",
    "#### Beantworten Sie auch die folgenden Fragen."
   ]
  },
  {
   "cell_type": "code",
   "execution_count": 23,
   "metadata": {
    "slideshow": {
     "slide_type": "subslide"
    }
   },
   "outputs": [
    {
     "data": {
      "application/vnd.jupyter.widget-view+json": {
       "model_id": "dda145ac6e32492b9100db85e51ac86d",
       "version_major": 2,
       "version_minor": 0
      },
      "text/plain": [
       "Lueckentext(children=(HTML(value='<i>Vervollständigen Sie den Lückentext: </i>', layout=Layout(justify_content…"
      ]
     },
     "metadata": {},
     "output_type": "display_data"
    }
   ],
   "source": [
    "aufgabe(blatt6_8)"
   ]
  },
  {
   "cell_type": "markdown",
   "metadata": {
    "slideshow": {
     "slide_type": "slide"
    }
   },
   "source": [
    "---\n",
    "## Aufgabe 9: Fragen zu NLTK-Kapitel 9.1\n",
    "\n",
    "#### Lesen Sie das NLTK-Teilkapitel 9.1 (’Grammatical Features’).\n",
    "#### Beantworten Sie insbesondere folgende Fragen:"
   ]
  },
  {
   "cell_type": "markdown",
   "metadata": {
    "slideshow": {
     "slide_type": "subslide"
    }
   },
   "source": [
    "---\n",
    "### Aufgabe 9 a:\n",
    "\n",
    "#### Worin besteht der Unterschied zwischen dem Einsatz von *Features* im POS-Tagging gegenüber dem Einsatz von *Features* in formalen Grammatiken?"
   ]
  },
  {
   "cell_type": "code",
   "execution_count": 24,
   "metadata": {
    "slideshow": {
     "slide_type": "fragment"
    }
   },
   "outputs": [
    {
     "data": {
      "application/vnd.jupyter.widget-view+json": {
       "model_id": "8cb6c6569402461ea08d4751326b6a79",
       "version_major": 2,
       "version_minor": 0
      },
      "text/plain": [
       "MultipleChoice(children=(HTML(value='<h4 style=\"font-size:14px;\">Wie werden Features beim POS-Tagging verwende…"
      ]
     },
     "metadata": {},
     "output_type": "display_data"
    },
    {
     "data": {
      "application/vnd.jupyter.widget-view+json": {
       "model_id": "3cdb576bea384dc59a6bfb716e225df1",
       "version_major": 2,
       "version_minor": 0
      },
      "text/plain": [
       "MultipleChoice(children=(HTML(value='<h4 style=\"font-size:14px;\">Wie werden Features in formalen Grammatiken v…"
      ]
     },
     "metadata": {},
     "output_type": "display_data"
    }
   ],
   "source": [
    "aufgabe(blatt6_9a)"
   ]
  },
  {
   "cell_type": "markdown",
   "metadata": {
    "slideshow": {
     "slide_type": "subslide"
    }
   },
   "source": [
    "---\n",
    "### Aufgabe 9 b:"
   ]
  },
  {
   "cell_type": "code",
   "execution_count": 25,
   "metadata": {
    "slideshow": {
     "slide_type": "fragment"
    }
   },
   "outputs": [
    {
     "data": {
      "application/vnd.jupyter.widget-view+json": {
       "model_id": "4ba3055e19c64162bd99fafa06004438",
       "version_major": 2,
       "version_minor": 0
      },
      "text/plain": [
       "SingleChoice(children=(HTML(value='<h4 style=\"font-size:14px;\">Welche native python-Datenstruktur bietet sich …"
      ]
     },
     "metadata": {},
     "output_type": "display_data"
    }
   ],
   "source": [
    "aufgabe(blatt6_9b)"
   ]
  },
  {
   "cell_type": "markdown",
   "metadata": {
    "slideshow": {
     "slide_type": "subslide"
    }
   },
   "source": [
    "---\n",
    "### Aufgabe 9 c:"
   ]
  },
  {
   "cell_type": "code",
   "execution_count": 26,
   "metadata": {
    "scrolled": true,
    "slideshow": {
     "slide_type": "fragment"
    }
   },
   "outputs": [
    {
     "data": {
      "application/vnd.jupyter.widget-view+json": {
       "model_id": "fe89147b2fea4a10b2a916a34499fb75",
       "version_major": 2,
       "version_minor": 0
      },
      "text/plain": [
       "SelectionList(children=(HTML(value='<h4 style=\"font-size:14px;\">Um welchen Faktor erhöht sich die Regelanzahl,…"
      ]
     },
     "metadata": {},
     "output_type": "display_data"
    }
   ],
   "source": [
    "aufgabe(blatt6_9c)"
   ]
  },
  {
   "cell_type": "markdown",
   "metadata": {
    "slideshow": {
     "slide_type": "slide"
    }
   },
   "source": [
    "---\n",
    "## Aufgabe 10: Fragen zu NLTK-Kapitel 9.2\n",
    "\n",
    "#### Lesen Sie das NLTK-Teilkapitel 9.2 (’Processing Feature Structures’): http://www.nltk.org/book/ch09.html.\n",
    "\n",
    "#### Beantworten Sie insbesondere folgende Fragen:"
   ]
  },
  {
   "cell_type": "markdown",
   "metadata": {
    "slideshow": {
     "slide_type": "subslide"
    }
   },
   "source": [
    "---\n",
    "### Aufgabe 10 a:\n",
    "#### Welchen Wert hat der feature path <code>(’spouse’, ’address’, ’number’)</code> in (22):(http://www.nltk.org/book/ch09.html#ex-dag03) ? Geben Sie einen zu diesem Pfad äquivalenten Pfad an."
   ]
  },
  {
   "cell_type": "code",
   "execution_count": 27,
   "metadata": {
    "slideshow": {
     "slide_type": "subslide"
    }
   },
   "outputs": [
    {
     "data": {
      "application/vnd.jupyter.widget-view+json": {
       "model_id": "d1b116ee73be491f99233bd483d5446c",
       "version_major": 2,
       "version_minor": 0
      },
      "text/plain": [
       "MultipleChoice(children=(HTML(value='<h4 style=\"font-size:14px;\">Beantworten Sie die beiden obigen Fragen.</h4…"
      ]
     },
     "metadata": {},
     "output_type": "display_data"
    }
   ],
   "source": [
    "aufgabe(blatt6_10a)"
   ]
  },
  {
   "cell_type": "markdown",
   "metadata": {
    "slideshow": {
     "slide_type": "subslide"
    }
   },
   "source": [
    "---\n",
    "### Aufgabe 10 b:\n",
    "\n",
    "#### Geben Sie zwei linguistische Merkmalstrukturen FS<sub>0</sub> und FS<sub>1</sub> an, die in einer Subsumptionsbeziehung stehen (FS<sub>0</sub> ⊑ FS<sub>1</sub> ). Was kommt nach (26), Kapitel 9.2.1, dabei heraus, wenn man solche zwei Merkmalstrukturen unifiziert?"
   ]
  },
  {
   "cell_type": "code",
   "execution_count": 28,
   "metadata": {
    "slideshow": {
     "slide_type": "fragment"
    }
   },
   "outputs": [
    {
     "data": {
      "application/vnd.jupyter.widget-view+json": {
       "model_id": "1119c878848a4850be255b7f1468f36c",
       "version_major": 2,
       "version_minor": 0
      },
      "text/plain": [
       "MultipleChoice(children=(HTML(value='<h4 style=\"font-size:14px;\">Welche Beispiele erfüllen die obige Subsumpti…"
      ]
     },
     "metadata": {},
     "output_type": "display_data"
    },
    {
     "data": {
      "application/vnd.jupyter.widget-view+json": {
       "model_id": "a297e2a389084ab2a642e050ac0856b5",
       "version_major": 2,
       "version_minor": 0
      },
      "text/plain": [
       "MultipleChoice(children=(HTML(value='<h4 style=\"font-size:14px;\">Was gilt immer für das Ergebnis der Unifikati…"
      ]
     },
     "metadata": {},
     "output_type": "display_data"
    }
   ],
   "source": [
    "aufgabe(blatt6_10b)"
   ]
  },
  {
   "cell_type": "markdown",
   "metadata": {
    "slideshow": {
     "slide_type": "subslide"
    }
   },
   "source": [
    "---\n",
    "### Aufgabe 10 c:"
   ]
  },
  {
   "cell_type": "code",
   "execution_count": 29,
   "metadata": {
    "slideshow": {
     "slide_type": "fragment"
    }
   },
   "outputs": [
    {
     "data": {
      "application/vnd.jupyter.widget-view+json": {
       "model_id": "fd6c62816cc747eabf07a09c19657e3b",
       "version_major": 2,
       "version_minor": 0
      },
      "text/plain": [
       "MultipleChoice(children=(HTML(value='<h4 style=\"font-size:14px;\">Welche der Beispiele erfüllen die Subsumption…"
      ]
     },
     "metadata": {},
     "output_type": "display_data"
    }
   ],
   "source": [
    "aufgabe(blatt6_10c)"
   ]
  },
  {
   "cell_type": "markdown",
   "metadata": {
    "slideshow": {
     "slide_type": "subslide"
    }
   },
   "source": [
    "---\n",
    "### Aufgabe 10 d:"
   ]
  },
  {
   "cell_type": "code",
   "execution_count": 30,
   "metadata": {
    "slideshow": {
     "slide_type": "fragment"
    }
   },
   "outputs": [
    {
     "data": {
      "application/vnd.jupyter.widget-view+json": {
       "model_id": "aefe94add6474506a20615265d8152df",
       "version_major": 2,
       "version_minor": 0
      },
      "text/plain": [
       "MultipleChoice(children=(HTML(value='<h4 style=\"font-size:14px;\">Im Falle, dass im Zuge einer Unifikation Info…"
      ]
     },
     "metadata": {},
     "output_type": "display_data"
    }
   ],
   "source": [
    "aufgabe(blatt6_10d)"
   ]
  },
  {
   "cell_type": "markdown",
   "metadata": {
    "slideshow": {
     "slide_type": "subslide"
    }
   },
   "source": [
    "---\n",
    "### Aufgabe 10 e:"
   ]
  },
  {
   "cell_type": "code",
   "execution_count": 31,
   "metadata": {
    "slideshow": {
     "slide_type": "fragment"
    }
   },
   "outputs": [
    {
     "data": {
      "application/vnd.jupyter.widget-view+json": {
       "model_id": "1aee207ea3ed49b4b216aa223b3c8c44",
       "version_major": 2,
       "version_minor": 0
      },
      "text/plain": [
       "MultipleChoice(children=(HTML(value='<h4 style=\"font-size:14px;\">Wie läßt sich im NLTK ein äquivalenter Pfad d…"
      ]
     },
     "metadata": {},
     "output_type": "display_data"
    }
   ],
   "source": [
    "aufgabe(blatt6_10e)"
   ]
  }
 ],
 "metadata": {
  "kernelspec": {
   "display_name": "Python 3",
   "language": "python",
   "name": "python3"
  },
  "language_info": {
   "codemirror_mode": {
    "name": "ipython",
    "version": 3
   },
   "file_extension": ".py",
   "mimetype": "text/x-python",
   "name": "python",
   "nbconvert_exporter": "python",
   "pygments_lexer": "ipython3",
   "version": "3.7.4"
  },
  "widgets": {
   "application/vnd.jupyter.widget-state+json": {
    "state": {
     "002060a724164449990d5e06d7393333": {
      "model_module": "@jupyter-widgets/controls",
      "model_module_version": "1.5.0",
      "model_name": "ButtonModel",
      "state": {
       "description": "Korrekt?",
       "layout": "IPY_MODEL_86788460e0b343faa50e433bd4f1cb2c",
       "style": "IPY_MODEL_11993468a79c4e73b4249e0f18854400"
      }
     },
     "0033aca293434a339855e90943107429": {
      "model_module": "@jupyter-widgets/controls",
      "model_module_version": "1.5.0",
      "model_name": "CheckboxModel",
      "state": {
       "description": "FS0 = [CAT = N, GEN = MASK], FS1 = [CAT = N]",
       "disabled": false,
       "layout": "IPY_MODEL_fd10d0cf188944b5894b7cf99b63b6f7",
       "style": "IPY_MODEL_12fef4cd38944b2893394c87e8cfec95",
       "value": false
      }
     },
     "0080a966b1214a428b81d8ad22ed47c8": {
      "model_module": "@jupyter-widgets/controls",
      "model_module_version": "1.5.0",
      "model_name": "DescriptionStyleModel",
      "state": {
       "description_width": ""
      }
     },
     "00aec6a77c8d4fb193fc12661ed53518": {
      "model_module": "@jupyter-widgets/base",
      "model_module_version": "1.2.0",
      "model_name": "LayoutModel",
      "state": {}
     },
     "00d98e95d8cf4eb0868ea4d95ad2b116": {
      "model_module": "@jupyter-widgets/base",
      "model_module_version": "1.2.0",
      "model_name": "LayoutModel",
      "state": {}
     },
     "00f6475b0018481baed4909c4c24f930": {
      "model_module": "@jupyter-widgets/base",
      "model_module_version": "1.2.0",
      "model_name": "LayoutModel",
      "state": {
       "width": "250px"
      }
     },
     "010a9b9785734993967a638fb1160e40": {
      "model_module": "@jupyter-widgets/controls",
      "model_module_version": "1.5.0",
      "model_name": "CheckboxModel",
      "state": {
       "description": "x!",
       "disabled": false,
       "layout": "IPY_MODEL_8b4a47aca1614ceda41ccba079a108be",
       "style": "IPY_MODEL_022f097b4080421499dd54831a2f15f0",
       "value": false
      }
     },
     "0116eb15428b48a98692c88f8c1545ae": {
      "model_module": "@jupyter-widgets/controls",
      "model_module_version": "1.5.0",
      "model_name": "DescriptionStyleModel",
      "state": {
       "description_width": ""
      }
     },
     "011bc768f2b84321ae8ad65618d5bc9a": {
      "model_module": "@jupyter-widgets/controls",
      "model_module_version": "1.5.0",
      "model_name": "VBoxModel",
      "state": {
       "children": [
        "IPY_MODEL_f9853d426eae4d3aa0eccceb353c65da",
        "IPY_MODEL_e3eecf2207b8470abde9343bc546834b",
        "IPY_MODEL_962a04a7910e4865935ffca31aa74060",
        "IPY_MODEL_14ef7b760f0a4c36b1d95f10fffb455a"
       ],
       "layout": "IPY_MODEL_3d92f4886fde436780906a593f7e98d5"
      }
     },
     "013265597750439aabc38eebb452e34c": {
      "model_module": "@jupyter-widgets/controls",
      "model_module_version": "1.5.0",
      "model_name": "DescriptionStyleModel",
      "state": {
       "description_width": "initial"
      }
     },
     "016579e98fce4c7f893ca78c6f50b71a": {
      "model_module": "@jupyter-widgets/base",
      "model_module_version": "1.2.0",
      "model_name": "LayoutModel",
      "state": {
       "width": "250px"
      }
     },
     "0190b8247b52420fb5ffc99db2221a37": {
      "model_module": "@jupyter-widgets/controls",
      "model_module_version": "1.5.0",
      "model_name": "DescriptionStyleModel",
      "state": {
       "description_width": ""
      }
     },
     "01c2afc395bc44c5ab54aec2d1ed6c1a": {
      "model_module": "@jupyter-widgets/base",
      "model_module_version": "1.2.0",
      "model_name": "LayoutModel",
      "state": {}
     },
     "01c735ed67d44beab9d0b4be96e5e4e2": {
      "model_module": "@jupyter-widgets/base",
      "model_module_version": "1.2.0",
      "model_name": "LayoutModel",
      "state": {
       "width": "600px"
      }
     },
     "01cc6705582a4f259f902b8258e9861e": {
      "model_module": "@jupyter-widgets/controls",
      "model_module_version": "1.5.0",
      "model_name": "HTMLModel",
      "state": {
       "layout": "IPY_MODEL_5d2d47f1d2e24af4a56eb68de9f37101",
       "style": "IPY_MODEL_7c6ade083ac1466cae5ca6597b2fe690",
       "value": "<h4 style=\"font-size:14px;\">Wie werden Features beim POS-Tagging verwendet?</h4>"
      }
     },
     "01e9fcb6e85c4051b980b33e7a618305": {
      "model_module": "@jupyter-widgets/controls",
      "model_module_version": "1.5.0",
      "model_name": "DescriptionStyleModel",
      "state": {
       "description_width": "initial"
      }
     },
     "01fdfe3b16f94b3b944db54494062ea1": {
      "model_module": "@jupyter-widgets/controls",
      "model_module_version": "1.5.0",
      "model_name": "DescriptionStyleModel",
      "state": {
       "description_width": "initial"
      }
     },
     "02106048c8784c4090a0a4b60f5d42cb": {
      "model_module": "@jupyter-widgets/base",
      "model_module_version": "1.2.0",
      "model_name": "LayoutModel",
      "state": {}
     },
     "0218e3b3d9704d63ba0ef14e1ec4d4f3": {
      "model_module": "@jupyter-widgets/controls",
      "model_module_version": "1.5.0",
      "model_name": "DescriptionStyleModel",
      "state": {
       "description_width": ""
      }
     },
     "0219a33a1cd44e30af7b0d578ed68154": {
      "model_module": "@jupyter-widgets/base",
      "model_module_version": "1.2.0",
      "model_name": "LayoutModel",
      "state": {
       "width": "250px"
      }
     },
     "022f097b4080421499dd54831a2f15f0": {
      "model_module": "@jupyter-widgets/controls",
      "model_module_version": "1.5.0",
      "model_name": "DescriptionStyleModel",
      "state": {
       "description_width": "initial"
      }
     },
     "02342eb61cbd43a0a2abe23e04240ecc": {
      "model_module": "@jupyter-widgets/base",
      "model_module_version": "1.2.0",
      "model_name": "LayoutModel",
      "state": {}
     },
     "023fcc7485c14bc19d39ce308962d3ba": {
      "model_module": "@jupyter-widgets/controls",
      "model_module_version": "1.5.0",
      "model_name": "ButtonModel",
      "state": {
       "description": "Keine der anderen Möglichkeiten",
       "layout": "IPY_MODEL_2bc06cdc5b974b6b82dd3ae18ae1ada2",
       "style": "IPY_MODEL_81343b62c3b44d78b5fb9540107249c7"
      }
     },
     "025ccad94b1a48d3bb80ca26f2e87925": {
      "model_module": "@jupyter-widgets/controls",
      "model_module_version": "1.5.0",
      "model_name": "ButtonStyleModel",
      "state": {}
     },
     "0267a35892a0419bb3fbea2e9a4fb7c0": {
      "model_module": "@jupyter-widgets/controls",
      "model_module_version": "1.5.0",
      "model_name": "ButtonModel",
      "state": {
       "description": "Korrekt?",
       "layout": "IPY_MODEL_c2a10aec041546a4875ad52f89a11052",
       "style": "IPY_MODEL_fcf3e05b2610427baf6d50e5d016e835"
      }
     },
     "027c3c519364415d9cae437f61618b5b": {
      "model_module": "@jupyter-widgets/controls",
      "model_module_version": "1.5.0",
      "model_name": "ButtonModel",
      "state": {
       "description": "Korrekt?",
       "layout": "IPY_MODEL_9a46906b92114b03a9d0b9887b90f635",
       "style": "IPY_MODEL_b56a6e4dc7e0480099148fc3a5efb35f"
      }
     },
     "02c693eaaa4b4e9bbbd5b76b7399c7d0": {
      "model_module": "@jupyter-widgets/base",
      "model_module_version": "1.2.0",
      "model_name": "LayoutModel",
      "state": {
       "width": "250px"
      }
     },
     "02f5bde15cb7412f8843fef10c956d44": {
      "model_module": "@jupyter-widgets/controls",
      "model_module_version": "1.5.0",
      "model_name": "HTMLModel",
      "state": {
       "layout": "IPY_MODEL_782a03dda9ed4fb7a97e55b37985f621",
       "style": "IPY_MODEL_37e7f76a7eca4d40912ba9931ce0a30a",
       "value": "<h4 style=\"font-size:14px;\">Welche Aussagen gelten für Nominalphrasen mit bestimmtem Artikel?</h4>"
      }
     },
     "0302f9f8aea04ff0b4f279fedb3fc712": {
      "model_module": "@jupyter-widgets/base",
      "model_module_version": "1.2.0",
      "model_name": "LayoutModel",
      "state": {}
     },
     "030dfef2e8e746b8acbf31c366beff81": {
      "model_module": "@jupyter-widgets/controls",
      "model_module_version": "1.5.0",
      "model_name": "HTMLModel",
      "state": {
       "layout": "IPY_MODEL_37fd08f3dee041b9874c6780cdf20fc1",
       "style": "IPY_MODEL_77d5dac1e45543fc8b0c4a49fbfc9150",
       "value": "<i>Markieren Sie <ins>alle</ins> passenden Antworten: </i>"
      }
     },
     "030ebfce407b4d3dbff2bffee660e440": {
      "model_module": "@jupyter-widgets/base",
      "model_module_version": "1.2.0",
      "model_name": "LayoutModel",
      "state": {
       "width": "600px"
      }
     },
     "036ced8ff29d4ae8a2fa28f42dd498e5": {
      "model_module": "@jupyter-widgets/base",
      "model_module_version": "1.2.0",
      "model_name": "LayoutModel",
      "state": {}
     },
     "03a0974fcade447aa4800e1f8cf379d8": {
      "model_module": "@jupyter-widgets/base",
      "model_module_version": "1.2.0",
      "model_name": "LayoutModel",
      "state": {
       "width": "600px"
      }
     },
     "03a9415be6184ff7843da4ff5686a691": {
      "model_module": "@jupyter-widgets/controls",
      "model_module_version": "1.5.0",
      "model_name": "ButtonStyleModel",
      "state": {}
     },
     "03e8cfa2887f42248d5cd8f96a279ffd": {
      "model_module": "@jupyter-widgets/controls",
      "model_module_version": "1.5.0",
      "model_name": "VBoxModel",
      "state": {
       "children": [
        "IPY_MODEL_a600f7c7d9b343ff9b371e484f4f81fe",
        "IPY_MODEL_17e2e706ccc34485a6603344104b1739",
        "IPY_MODEL_f530f719fc0c431f9c5e9efbc97c2a88",
        "IPY_MODEL_b27dc11c1b1d41bcbb5a08eeec2fb9e9"
       ],
       "layout": "IPY_MODEL_f563c47348204b4b85569d5ea18c95ac"
      }
     },
     "04127c50a2924fe9ba63b3327575ac91": {
      "model_module": "@jupyter-widgets/controls",
      "model_module_version": "1.5.0",
      "model_name": "DescriptionStyleModel",
      "state": {
       "description_width": "initial"
      }
     },
     "0425a7bb2f8a4999ba1c442c8a3a79d8": {
      "model_module": "@jupyter-widgets/base",
      "model_module_version": "1.2.0",
      "model_name": "LayoutModel",
      "state": {
       "width": "600px"
      }
     },
     "04414b3e7a9841d7af2afe3c5c5a9c1f": {
      "model_module": "@jupyter-widgets/base",
      "model_module_version": "1.2.0",
      "model_name": "LayoutModel",
      "state": {
       "width": "250px"
      }
     },
     "04661e98850240ad90663f8eeff4ece8": {
      "model_module": "@jupyter-widgets/controls",
      "model_module_version": "1.5.0",
      "model_name": "CheckboxModel",
      "state": {
       "description": "Das Adjektiv übernimmt die Genus- und z.T. die Kasusmarkierung.",
       "disabled": false,
       "layout": "IPY_MODEL_83981e5e7ed44cf29d4b9b66669e1f56",
       "style": "IPY_MODEL_236addce0a9e4fc4ab352fb74a1d0314",
       "value": true
      }
     },
     "0480c8457233429facb20b414fcd3bea": {
      "model_module": "@jupyter-widgets/controls",
      "model_module_version": "1.5.0",
      "model_name": "VBoxModel",
      "state": {
       "children": [
        "IPY_MODEL_1853e1beed4e4bb7aa9fa66c95f5fb5a",
        "IPY_MODEL_2d56e1808ef849c38ece5256048d29f2",
        "IPY_MODEL_dc9944864eec457eb5b9a673591ea102",
        "IPY_MODEL_ce1727f0c6414759a019323d0103de54"
       ],
       "layout": "IPY_MODEL_ef90910c49624fc8a3ca6308a31e1ab4"
      }
     },
     "0490c2a52a2b466e88890e17618e58af": {
      "model_module": "@jupyter-widgets/base",
      "model_module_version": "1.2.0",
      "model_name": "LayoutModel",
      "state": {}
     },
     "04ac556f929b4542b7344a3904481d77": {
      "model_module": "@jupyter-widgets/base",
      "model_module_version": "1.2.0",
      "model_name": "LayoutModel",
      "state": {}
     },
     "04cd4bf7ae234ee1b4425cbf273ca42d": {
      "model_module": "@jupyter-widgets/controls",
      "model_module_version": "1.5.0",
      "model_name": "DescriptionStyleModel",
      "state": {
       "description_width": ""
      }
     },
     "04d5f0e5f2944c9d93a2587ef0b2c256": {
      "model_module": "@jupyter-widgets/controls",
      "model_module_version": "1.5.0",
      "model_name": "CheckboxModel",
      "state": {
       "description": "Sie werden gelöscht.",
       "disabled": false,
       "layout": "IPY_MODEL_585d7562964d4462aaf5dc203236d06f",
       "style": "IPY_MODEL_4b78cc40161f461fb45e9cad5bdb0723",
       "value": false
      }
     },
     "05199acb74a14b93bc43eb0d7f16638b": {
      "model_module": "@jupyter-widgets/base",
      "model_module_version": "1.2.0",
      "model_name": "LayoutModel",
      "state": {}
     },
     "051f02f34d124e2da217c6267d957a0e": {
      "model_module": "@jupyter-widgets/controls",
      "model_module_version": "1.5.0",
      "model_name": "ButtonModel",
      "state": {
       "description": "Korrekt?",
       "layout": "IPY_MODEL_04414b3e7a9841d7af2afe3c5c5a9c1f",
       "style": "IPY_MODEL_45b3b09ff0dc4d90b28e7a6210bd3079"
      }
     },
     "0525287ce5b6468e8bf71761cd010525": {
      "model_module": "@jupyter-widgets/controls",
      "model_module_version": "1.5.0",
      "model_name": "CheckboxModel",
      "state": {
       "description": "Es übernimmt immer das Patiens die Subjektfunktion.",
       "disabled": false,
       "layout": "IPY_MODEL_7bc8dcc3a2f0434cbc13ea5d157eaacb",
       "style": "IPY_MODEL_38ac1e4f66034beebe50803bd0d9f596",
       "value": false
      }
     },
     "052565dda0b3473ba1226fa4e2de848b": {
      "model_module": "@jupyter-widgets/controls",
      "model_module_version": "1.5.0",
      "model_name": "ButtonStyleModel",
      "state": {}
     },
     "052e75bb23294d37a97778f6331fcb3f": {
      "model_module": "@jupyter-widgets/controls",
      "model_module_version": "1.5.0",
      "model_name": "DescriptionStyleModel",
      "state": {
       "description_width": "initial"
      }
     },
     "068ef3c76ee0464a973994830fc27867": {
      "model_module": "@jupyter-widgets/controls",
      "model_module_version": "1.5.0",
      "model_name": "CheckboxModel",
      "state": {
       "description": "Es ist undefiniert.",
       "disabled": false,
       "layout": "IPY_MODEL_9807f72b6ddd47079820ccb7fd141a9c",
       "style": "IPY_MODEL_4fc50f62441b49da846da9fe6f01f63d",
       "value": false
      }
     },
     "06b4ef63819e462187d2219894562b73": {
      "model_module": "@jupyter-widgets/controls",
      "model_module_version": "1.5.0",
      "model_name": "ButtonModel",
      "state": {
       "description": "Keine der anderen Möglichkeiten",
       "layout": "IPY_MODEL_37a3bdbef89743b39309951af1684e6b",
       "style": "IPY_MODEL_3ad5cd7892ca4546b665f51a7a7693a9"
      }
     },
     "06ebf74652544691a075c6623b0bcf5c": {
      "model_module": "@jupyter-widgets/base",
      "model_module_version": "1.2.0",
      "model_name": "LayoutModel",
      "state": {}
     },
     "06fd49f4fa0e4613b9ec03c27318ac5c": {
      "model_module": "@jupyter-widgets/controls",
      "model_module_version": "1.5.0",
      "model_name": "DescriptionStyleModel",
      "state": {
       "description_width": ""
      }
     },
     "0722d12b116c457ca03148d0497b8934": {
      "model_module": "@jupyter-widgets/base",
      "model_module_version": "1.2.0",
      "model_name": "LayoutModel",
      "state": {
       "justify_content": "center"
      }
     },
     "0741d867d6274f7585d8c02662d1748d": {
      "model_module": "@jupyter-widgets/base",
      "model_module_version": "1.2.0",
      "model_name": "LayoutModel",
      "state": {
       "width": "250px"
      }
     },
     "074d2a4455d840f2bdb3bf8d8ee0d310": {
      "model_module": "@jupyter-widgets/controls",
      "model_module_version": "1.5.0",
      "model_name": "DescriptionStyleModel",
      "state": {
       "description_width": ""
      }
     },
     "0762d9832559491faada096f5cf49e49": {
      "model_module": "@jupyter-widgets/base",
      "model_module_version": "1.2.0",
      "model_name": "LayoutModel",
      "state": {
       "width": "250px"
      }
     },
     "077c98cae48f4ce7aa9e8a4a002e0ede": {
      "model_module": "@jupyter-widgets/base",
      "model_module_version": "1.2.0",
      "model_name": "LayoutModel",
      "state": {}
     },
     "07a17051e4114cba91c12253780691a5": {
      "model_module": "@jupyter-widgets/base",
      "model_module_version": "1.2.0",
      "model_name": "LayoutModel",
      "state": {}
     },
     "07ae89023457468d828a9e91b029a12f": {
      "model_module": "@jupyter-widgets/controls",
      "model_module_version": "1.5.0",
      "model_name": "ButtonModel",
      "state": {
       "description": "Instrument",
       "layout": "IPY_MODEL_c48863b4c5de4106bfb11a3aaa1315f1",
       "style": "IPY_MODEL_5f227dfdce9c4636ac5d256bafd53b0b"
      }
     },
     "07b33da59d1c4a14aa3299511be63527": {
      "model_module": "@jupyter-widgets/base",
      "model_module_version": "1.2.0",
      "model_name": "LayoutModel",
      "state": {}
     },
     "07b375e2ed134ce5a2692a0c92cc21a6": {
      "model_module": "@jupyter-widgets/controls",
      "model_module_version": "1.5.0",
      "model_name": "DescriptionStyleModel",
      "state": {
       "description_width": ""
      }
     },
     "07b790ed27b74b319219ff42a7847eea": {
      "model_module": "@jupyter-widgets/controls",
      "model_module_version": "1.5.0",
      "model_name": "CheckboxModel",
      "state": {
       "description": "Die Form vom Adjektiven hängt niemals von irgendeinem Genus ab.",
       "disabled": false,
       "layout": "IPY_MODEL_b38dcea9e7fd484b818b1fc9c2393ecf",
       "style": "IPY_MODEL_a3e7d157048c4e09826c211af735bb96",
       "value": false
      }
     },
     "07bacb4d07174443ba80cda6362cc770": {
      "model_module": "@jupyter-widgets/base",
      "model_module_version": "1.2.0",
      "model_name": "LayoutModel",
      "state": {
       "width": "250px"
      }
     },
     "07f1d90ca0b744e19e295b7d38ecbfac": {
      "model_module": "@jupyter-widgets/controls",
      "model_module_version": "1.5.0",
      "model_name": "ButtonModel",
      "state": {
       "description": "Keine der anderen Möglichkeiten",
       "layout": "IPY_MODEL_1e17bf82f2b4485bb0df910f4f3b08ec",
       "style": "IPY_MODEL_a485f607303d47a2b2e717940978ce3c"
      }
     },
     "08026619e8774a3bb21ba4bc70872649": {
      "model_module": "@jupyter-widgets/controls",
      "model_module_version": "1.5.0",
      "model_name": "HBoxModel",
      "state": {
       "children": [
        "IPY_MODEL_a0ca5ca775cb4bf9b2696dd9ae94e2b3",
        "IPY_MODEL_97623e3f92a74c67a457ba7d1a0ff0e3"
       ],
       "layout": "IPY_MODEL_036ced8ff29d4ae8a2fa28f42dd498e5"
      }
     },
     "0832b97d33a94a9fba95064634d7b9fb": {
      "model_module": "@jupyter-widgets/controls",
      "model_module_version": "1.5.0",
      "model_name": "DescriptionStyleModel",
      "state": {
       "description_width": "initial"
      }
     },
     "08335aa58d984ce5aea8bfc86cd80786": {
      "model_module": "@jupyter-widgets/controls",
      "model_module_version": "1.5.0",
      "model_name": "DropdownModel",
      "state": {
       "_options_labels": [
        "Genusmerkmale",
        "Kasusmerkmale",
        " "
       ],
       "index": 2,
       "layout": "IPY_MODEL_43030f567f63413198230fbf5c191286",
       "style": "IPY_MODEL_1158bc60cda8465495a358e0cbaafd60"
      }
     },
     "0851d18ada6440bda7e9ed77931249d6": {
      "model_module": "@jupyter-widgets/controls",
      "model_module_version": "1.5.0",
      "model_name": "ButtonStyleModel",
      "state": {}
     },
     "08988522806f470385f767eef033d079": {
      "model_module": "@jupyter-widgets/base",
      "model_module_version": "1.2.0",
      "model_name": "LayoutModel",
      "state": {
       "width": "600px"
      }
     },
     "08a81320f6f2454a88b412ae9ec46ad0": {
      "model_module": "@jupyter-widgets/base",
      "model_module_version": "1.2.0",
      "model_name": "LayoutModel",
      "state": {
       "width": "600px"
      }
     },
     "08aa7f1e03b2464eb47d0b40580efd7f": {
      "model_module": "@jupyter-widgets/controls",
      "model_module_version": "1.5.0",
      "model_name": "CheckboxModel",
      "state": {
       "description": "Subjekt-Demotion zu Adverbial",
       "disabled": false,
       "layout": "IPY_MODEL_561b187fb4e3469caca45527b37cc50f",
       "style": "IPY_MODEL_5c8151f90eef4ec0943f17b1d2a54931",
       "value": false
      }
     },
     "08b5ba8f9adf4be996bb7d47952f80dc": {
      "model_module": "@jupyter-widgets/controls",
      "model_module_version": "1.5.0",
      "model_name": "DescriptionStyleModel",
      "state": {
       "description_width": ""
      }
     },
     "08c78ba365e549c1a99c13ea1882dd0b": {
      "model_module": "@jupyter-widgets/controls",
      "model_module_version": "1.5.0",
      "model_name": "VBoxModel",
      "state": {
       "children": [
        "IPY_MODEL_3ab79a204d4845ebb84bf8422903934d",
        "IPY_MODEL_cd419c5fca2948f59b65753f9733cd84",
        "IPY_MODEL_2591095640674e5e936a36b083268c73",
        "IPY_MODEL_44f913ec984f4765a82b34b4929cf10e"
       ],
       "layout": "IPY_MODEL_cdd401f44bc747f58526e1b22f6d9edd"
      }
     },
     "08f1b7178f714a7c8fd8bef1efa32e9a": {
      "model_module": "@jupyter-widgets/base",
      "model_module_version": "1.2.0",
      "model_name": "LayoutModel",
      "state": {
       "width": "150px"
      }
     },
     "09355348a4d44d41b6ae4429afe19a5a": {
      "model_module": "@jupyter-widgets/base",
      "model_module_version": "1.2.0",
      "model_name": "LayoutModel",
      "state": {
       "width": "600px"
      }
     },
     "093760c241c3448293f960e80dd4467c": {
      "model_module": "@jupyter-widgets/base",
      "model_module_version": "1.2.0",
      "model_name": "LayoutModel",
      "state": {
       "width": "250px"
      }
     },
     "0948636498d24fc68fcf1cf2cd72c115": {
      "model_module": "@jupyter-widgets/base",
      "model_module_version": "1.2.0",
      "model_name": "LayoutModel",
      "state": {
       "width": "250px"
      }
     },
     "097f671ce7664c58bce622f7a6232a19": {
      "model_module": "@jupyter-widgets/controls",
      "model_module_version": "1.5.0",
      "model_name": "CheckboxModel",
      "state": {
       "description": "FS0 = [CAT = N, GEN = MASK], FS1 = [CAT = N]",
       "disabled": false,
       "layout": "IPY_MODEL_8b147535945a427398374a4be8c2c318",
       "style": "IPY_MODEL_e28639b6da944220a4681367b77e4610",
       "value": false
      }
     },
     "099b5b695dfd4974b49fc3841de3b9cb": {
      "model_module": "@jupyter-widgets/controls",
      "model_module_version": "1.5.0",
      "model_name": "DescriptionStyleModel",
      "state": {
       "description_width": "initial"
      }
     },
     "09d1e5d7bc074ac8907a539ea2000539": {
      "model_module": "@jupyter-widgets/controls",
      "model_module_version": "1.5.0",
      "model_name": "DescriptionStyleModel",
      "state": {
       "description_width": "initial"
      }
     },
     "09ff1465b96340beaf2dc45993889979": {
      "model_module": "@jupyter-widgets/controls",
      "model_module_version": "1.5.0",
      "model_name": "ButtonModel",
      "state": {
       "description": "starke Deklination",
       "layout": "IPY_MODEL_ae3b26e12eea40c0b4579610ca787fc7",
       "style": "IPY_MODEL_b11cba570147451c9366f5e024deb846"
      }
     },
     "0a24f06982a5458d95112a9ad91455dc": {
      "model_module": "@jupyter-widgets/controls",
      "model_module_version": "1.5.0",
      "model_name": "DescriptionStyleModel",
      "state": {
       "description_width": ""
      }
     },
     "0a404f9864404d47a6d40613e0cc22ba": {
      "model_module": "@jupyter-widgets/base",
      "model_module_version": "1.2.0",
      "model_name": "LayoutModel",
      "state": {}
     },
     "0a437149b2cd4279991a7445eb3cc789": {
      "model_module": "@jupyter-widgets/base",
      "model_module_version": "1.2.0",
      "model_name": "LayoutModel",
      "state": {}
     },
     "0a5d744bce5f423da2a009e4f439d462": {
      "model_module": "@jupyter-widgets/controls",
      "model_module_version": "1.5.0",
      "model_name": "ButtonStyleModel",
      "state": {}
     },
     "0a68735dcc1241e282b02eaa5cc9fe70": {
      "model_module": "@jupyter-widgets/base",
      "model_module_version": "1.2.0",
      "model_name": "LayoutModel",
      "state": {}
     },
     "0a696a39ccd04befa447739ac2f310fb": {
      "model_module": "@jupyter-widgets/controls",
      "model_module_version": "1.5.0",
      "model_name": "DescriptionStyleModel",
      "state": {
       "description_width": ""
      }
     },
     "0aac9eedc6014eb98712d664a1400be3": {
      "model_module": "@jupyter-widgets/controls",
      "model_module_version": "1.5.0",
      "model_name": "HBoxModel",
      "state": {
       "children": [
        "IPY_MODEL_b966570a5e8f4f5782b5da15de65e26d",
        "IPY_MODEL_09ff1465b96340beaf2dc45993889979"
       ],
       "layout": "IPY_MODEL_cf07e8a0c0584262a3fe8027cb3856bc"
      }
     },
     "0abc4d9e2ec847efa9ac4c2d84cb871b": {
      "model_module": "@jupyter-widgets/controls",
      "model_module_version": "1.5.0",
      "model_name": "DescriptionStyleModel",
      "state": {
       "description_width": "initial"
      }
     },
     "0abfead9e09543969698432b5a4ef5a1": {
      "model_module": "@jupyter-widgets/controls",
      "model_module_version": "1.5.0",
      "model_name": "DescriptionStyleModel",
      "state": {
       "description_width": ""
      }
     },
     "0ad6ecc5e8594431b4229a9f0414d68f": {
      "model_module": "@jupyter-widgets/base",
      "model_module_version": "1.2.0",
      "model_name": "LayoutModel",
      "state": {
       "justify_content": "center"
      }
     },
     "0afa0dc6c53e41b5a82a3546e658db28": {
      "model_module": "@jupyter-widgets/controls",
      "model_module_version": "1.5.0",
      "model_name": "DescriptionStyleModel",
      "state": {
       "description_width": ""
      }
     },
     "0b184903c1e94b72969f27a495ec43fa": {
      "model_module": "@jupyter-widgets/base",
      "model_module_version": "1.2.0",
      "model_name": "LayoutModel",
      "state": {
       "width": "600px"
      }
     },
     "0b1db30145884271a3a8892f0ecaaa88": {
      "model_module": "@jupyter-widgets/base",
      "model_module_version": "1.2.0",
      "model_name": "LayoutModel",
      "state": {
       "justify_content": "center"
      }
     },
     "0b2ece9d6ab2416a97ee79f3446e4c45": {
      "model_module": "@jupyter-widgets/base",
      "model_module_version": "1.2.0",
      "model_name": "LayoutModel",
      "state": {
       "width": "250px"
      }
     },
     "0b78cc6684da48c99e1e5306a88b46fb": {
      "model_module": "@jupyter-widgets/base",
      "model_module_version": "1.2.0",
      "model_name": "LayoutModel",
      "state": {}
     },
     "0b9a887974124b679f84dc3f2b480ccd": {
      "model_module": "@jupyter-widgets/controls",
      "model_module_version": "1.5.0",
      "model_name": "ButtonStyleModel",
      "state": {}
     },
     "0ba409e3ab704e748a9f05bbac5dbcf9": {
      "model_module": "@jupyter-widgets/base",
      "model_module_version": "1.2.0",
      "model_name": "LayoutModel",
      "state": {
       "width": "250px"
      }
     },
     "0bb3062756084b95a63dc86870ce2a02": {
      "model_module": "@jupyter-widgets/controls",
      "model_module_version": "1.5.0",
      "model_name": "HTMLModel",
      "state": {
       "layout": "IPY_MODEL_1fc739251d624b02b96605f74692e833",
       "style": "IPY_MODEL_1986f7084c2843efb96de364258d3fb5",
       "value": "<i>Wählen Sie die <ins>eine</ins> korrekte Antwort aus: </i>"
      }
     },
     "0bcab597a264454a9852451f49f394e6": {
      "model_module": "@jupyter-widgets/base",
      "model_module_version": "1.2.0",
      "model_name": "LayoutModel",
      "state": {}
     },
     "0bd9fb772cf643159e2ba8f27e6ef40a": {
      "model_module": "@jupyter-widgets/base",
      "model_module_version": "1.2.0",
      "model_name": "LayoutModel",
      "state": {}
     },
     "0c646f6c714446cc9e4da30fc42b21d7": {
      "model_module": "@jupyter-widgets/controls",
      "model_module_version": "1.5.0",
      "model_name": "ButtonStyleModel",
      "state": {}
     },
     "0c76f0dfef3c46499bb345bc6c672d77": {
      "model_module": "@jupyter-widgets/controls",
      "model_module_version": "1.5.0",
      "model_name": "ButtonStyleModel",
      "state": {}
     },
     "0c77f02bbfbb465e9366ce2f447077fa": {
      "model_module": "@jupyter-widgets/controls",
      "model_module_version": "1.5.0",
      "model_name": "VBoxModel",
      "state": {
       "children": [
        "IPY_MODEL_3d5cb7c349a0459c8ecc343fa6a343f7",
        "IPY_MODEL_496137db4873485c86ae1d68175c3779",
        "IPY_MODEL_912ffebab7be425aabfc48e144a7b58e"
       ],
       "layout": "IPY_MODEL_00aec6a77c8d4fb193fc12661ed53518"
      }
     },
     "0c839a8cc8454c599cf93681e7c63669": {
      "model_module": "@jupyter-widgets/base",
      "model_module_version": "1.2.0",
      "model_name": "LayoutModel",
      "state": {}
     },
     "0c8ca98b37fc4046881a5f4cf1156507": {
      "model_module": "@jupyter-widgets/base",
      "model_module_version": "1.2.0",
      "model_name": "LayoutModel",
      "state": {
       "width": "600px"
      }
     },
     "0cae84e674bc47fbb41f6aaef89b7bba": {
      "model_module": "@jupyter-widgets/controls",
      "model_module_version": "1.5.0",
      "model_name": "VBoxModel",
      "state": {
       "children": [
        "IPY_MODEL_3bcd5904767745ac9e5b4d25c7bb434f",
        "IPY_MODEL_892df5efeb2a4442b19de776f8c4601f",
        "IPY_MODEL_a153042a9f394972abe6621d4044fa12"
       ],
       "layout": "IPY_MODEL_a129bf24c3454d8da66f9c31f0d1930f"
      }
     },
     "0cf871d553c148169cde7324200c36c7": {
      "model_module": "@jupyter-widgets/base",
      "model_module_version": "1.2.0",
      "model_name": "LayoutModel",
      "state": {
       "width": "600px"
      }
     },
     "0d0194aa2e1546c8a3ad432d9852e7bd": {
      "model_module": "@jupyter-widgets/controls",
      "model_module_version": "1.5.0",
      "model_name": "CheckboxModel",
      "state": {
       "description": "Es ist die allgemeinere Merkmalsstruktur.",
       "disabled": false,
       "layout": "IPY_MODEL_da789aab0eaf45bcba3bf3072821e493",
       "style": "IPY_MODEL_533b602e764e4d248b363dcd2f78920f",
       "value": false
      }
     },
     "0d111d5420984b03a6619e23cca92d1b": {
      "model_module": "@jupyter-widgets/controls",
      "model_module_version": "1.5.0",
      "model_name": "DescriptionStyleModel",
      "state": {
       "description_width": "initial"
      }
     },
     "0d183e9dd1bc45f88cb3bc84e29006f7": {
      "model_module": "@jupyter-widgets/controls",
      "model_module_version": "1.5.0",
      "model_name": "VBoxModel",
      "state": {
       "children": [
        "IPY_MODEL_02f5bde15cb7412f8843fef10c956d44",
        "IPY_MODEL_353c7017a6a04b91ad6066ed05dfadce",
        "IPY_MODEL_e210ab5dc2bc4f51ac4f56de3568aea5",
        "IPY_MODEL_49c6f73b6f574eb5934ee404d82bfe87"
       ],
       "layout": "IPY_MODEL_a79ffe5b9be14cc8953480315550bab3"
      }
     },
     "0d1b134f39b7492f867218152f60733e": {
      "model_module": "@jupyter-widgets/controls",
      "model_module_version": "1.5.0",
      "model_name": "DescriptionStyleModel",
      "state": {
       "description_width": "initial"
      }
     },
     "0d1c7eb625fb4419ae3f34730113516c": {
      "model_module": "@jupyter-widgets/controls",
      "model_module_version": "1.5.0",
      "model_name": "VBoxModel",
      "state": {
       "children": [
        "IPY_MODEL_599ce2ff6fbd4fb9993bc6fc5516f9bd",
        "IPY_MODEL_fce1fd6a82ac44f38de687513b75dc78",
        "IPY_MODEL_da0c550ee8a24efabdd74f48bb82ae94"
       ],
       "layout": "IPY_MODEL_07b33da59d1c4a14aa3299511be63527"
      }
     },
     "0d573d870f2c4bdea552a9f2379addeb": {
      "model_module": "@jupyter-widgets/controls",
      "model_module_version": "1.5.0",
      "model_name": "ButtonStyleModel",
      "state": {}
     },
     "0d6e2dc8109e4ade9aedc7fa18677c62": {
      "model_module": "@jupyter-widgets/controls",
      "model_module_version": "1.5.0",
      "model_name": "DescriptionStyleModel",
      "state": {
       "description_width": "initial"
      }
     },
     "0d85a89a2ee24fc197f95f74cd67db21": {
      "model_module": "@jupyter-widgets/base",
      "model_module_version": "1.2.0",
      "model_name": "LayoutModel",
      "state": {
       "justify_content": "center"
      }
     },
     "0d91a2e0589244929c963f76aa3466e9": {
      "model_module": "@jupyter-widgets/controls",
      "model_module_version": "1.5.0",
      "model_name": "VBoxModel",
      "state": {
       "children": [
        "IPY_MODEL_709855fccdcd4b82a4b6832deef3c202",
        "IPY_MODEL_e78c68215bce469dbcc544c9f7bb3002",
        "IPY_MODEL_83ba54bb19f540309543e73dc2c9a455",
        "IPY_MODEL_097f671ce7664c58bce622f7a6232a19",
        "IPY_MODEL_a1e6e37b2de045bdbea049439daf5b96"
       ],
       "layout": "IPY_MODEL_cbd4e639bee54e07aa23daf602bade35"
      }
     },
     "0da47ddddda742dfb6bf8ed4794ccf34": {
      "model_module": "@jupyter-widgets/base",
      "model_module_version": "1.2.0",
      "model_name": "LayoutModel",
      "state": {}
     },
     "0dbcdbef9fcf4fe580e06c5543fd5fa7": {
      "model_module": "@jupyter-widgets/controls",
      "model_module_version": "1.5.0",
      "model_name": "HBoxModel",
      "state": {
       "children": [
        "IPY_MODEL_de3ffa9fad3c4716969383a0fb783daa"
       ],
       "layout": "IPY_MODEL_955eeee2d50a4125be2f68f845e005b9"
      }
     },
     "0dd2ef1624ad4d62985ac1c1344a0fc3": {
      "model_module": "@jupyter-widgets/controls",
      "model_module_version": "1.5.0",
      "model_name": "DescriptionStyleModel",
      "state": {
       "description_width": "initial"
      }
     },
     "0de817fdf6f3409c8b766dbfd69ec53a": {
      "model_module": "@jupyter-widgets/base",
      "model_module_version": "1.2.0",
      "model_name": "LayoutModel",
      "state": {}
     },
     "0e074c3966654d21980652c17bddb8f2": {
      "model_module": "@jupyter-widgets/base",
      "model_module_version": "1.2.0",
      "model_name": "LayoutModel",
      "state": {}
     },
     "0e1c32cc8a724c7e9f18b21f531c44f4": {
      "model_module": "@jupyter-widgets/controls",
      "model_module_version": "1.5.0",
      "model_name": "ButtonStyleModel",
      "state": {
       "button_color": "lightgreen"
      }
     },
     "0e37d26e0ca84da1ae34eb5939a7008f": {
      "model_module": "@jupyter-widgets/controls",
      "model_module_version": "1.5.0",
      "model_name": "HTMLModel",
      "state": {
       "layout": "IPY_MODEL_2890202d0c804a12a1e98379ae457152",
       "style": "IPY_MODEL_5d2f7f56d9bc475b88b0c683ba9bcf33",
       "value": "<i>Wählen Sie die <ins>eine</ins> korrekte Antwort aus: </i>"
      }
     },
     "0e4dcd38e0b44249b105a53fa5a5a8ec": {
      "model_module": "@jupyter-widgets/base",
      "model_module_version": "1.2.0",
      "model_name": "LayoutModel",
      "state": {
       "justify_content": "center"
      }
     },
     "0efd70d8446f44afa91d124d09a205a5": {
      "model_module": "@jupyter-widgets/controls",
      "model_module_version": "1.5.0",
      "model_name": "ButtonModel",
      "state": {
       "description": "Agens",
       "layout": "IPY_MODEL_d2acf2aa6d644b76832f0cc4a2c59871",
       "style": "IPY_MODEL_53e777302b8a4b6ca736976b8713355e"
      }
     },
     "0f15d98ecced413bb5e9a37361629487": {
      "model_module": "@jupyter-widgets/controls",
      "model_module_version": "1.5.0",
      "model_name": "HTMLModel",
      "state": {
       "layout": "IPY_MODEL_a96cab14be504baa8739bc783ec08097",
       "style": "IPY_MODEL_ce60fb9046d84d539c2244a62fefa3f7",
       "value": "<h4 style=\"font-size:14px;\">Für die Deklination ist hier relevant, ob das Adjektiv mit einem ____________ Artikel auftritt oder nicht.</h4>"
      }
     },
     "0f39dda775154c828becd49fa3f0b941": {
      "model_module": "@jupyter-widgets/base",
      "model_module_version": "1.2.0",
      "model_name": "LayoutModel",
      "state": {
       "width": "600px"
      }
     },
     "0f46eedb6e0e4a8188d5cbad5fd77ef5": {
      "model_module": "@jupyter-widgets/controls",
      "model_module_version": "1.5.0",
      "model_name": "ButtonStyleModel",
      "state": {}
     },
     "0f5e4154d30041e7a0a14e59f0503d92": {
      "model_module": "@jupyter-widgets/controls",
      "model_module_version": "1.5.0",
      "model_name": "HTMLModel",
      "state": {
       "layout": "IPY_MODEL_b2fe98b60e1f463aa975e132afb30740",
       "style": "IPY_MODEL_4f93467d45ab4fff96446769ce8a4f8e",
       "value": "<i>Wählen Sie die <ins>eine</ins> korrekte Antwort aus: </i>"
      }
     },
     "0f7382adbf1246d5aecf628cc0cb1974": {
      "model_module": "@jupyter-widgets/controls",
      "model_module_version": "1.5.0",
      "model_name": "DescriptionStyleModel",
      "state": {
       "description_width": ""
      }
     },
     "0f87174091314e78b84f419bf314b73b": {
      "model_module": "@jupyter-widgets/controls",
      "model_module_version": "1.5.0",
      "model_name": "HBoxModel",
      "state": {
       "children": [
        "IPY_MODEL_d77e79a822bc4011a578230a0618ce7f"
       ],
       "layout": "IPY_MODEL_322c991164324075a348a6644fb08ea7"
      }
     },
     "0fb06e9fe0ba44df8f89da699a424b5d": {
      "model_module": "@jupyter-widgets/base",
      "model_module_version": "1.2.0",
      "model_name": "LayoutModel",
      "state": {}
     },
     "0fd2f503019743e9ba9c5f26df90de6f": {
      "model_module": "@jupyter-widgets/controls",
      "model_module_version": "1.5.0",
      "model_name": "DescriptionStyleModel",
      "state": {
       "description_width": "initial"
      }
     },
     "0fe4eb2bce5942c5a0593523d3d6d8a6": {
      "model_module": "@jupyter-widgets/controls",
      "model_module_version": "1.5.0",
      "model_name": "HBoxModel",
      "state": {
       "children": [
        "IPY_MODEL_ea5eb5cbc89f428fa8afdd88a8ebef6e",
        "IPY_MODEL_51c0775f6cc845e7a3a68de15773d5e2"
       ],
       "layout": "IPY_MODEL_7422eec42626478087cfaf1cb58f1709"
      }
     },
     "0fe77bc3765d40ffae0b82ac8c9d9979": {
      "model_module": "@jupyter-widgets/base",
      "model_module_version": "1.2.0",
      "model_name": "LayoutModel",
      "state": {
       "justify_content": "center"
      }
     },
     "1002e55018fd4dc29eebb0435beacdfb": {
      "model_module": "@jupyter-widgets/controls",
      "model_module_version": "1.5.0",
      "model_name": "DescriptionStyleModel",
      "state": {
       "description_width": "initial"
      }
     },
     "100bbcfa16244612b6a79b11fe15c158": {
      "model_module": "@jupyter-widgets/controls",
      "model_module_version": "1.5.0",
      "model_name": "HTMLModel",
      "state": {
       "layout": "IPY_MODEL_3f67cb399141434c9cd3bf92d28aa3a0",
       "style": "IPY_MODEL_d81e38dc9bb74db98b775787ed82458e",
       "value": "<h4 style=\"font-size:14px;\">Welche Aussagen gelten für Nominalphrasen mit bestimmtem Artikel?</h4>"
      }
     },
     "1039e78c1e80478fa13089b6214f9824": {
      "model_module": "@jupyter-widgets/base",
      "model_module_version": "1.2.0",
      "model_name": "LayoutModel",
      "state": {
       "width": "250px"
      }
     },
     "1049dec2abf94ed6bf8c22588434cb4b": {
      "model_module": "@jupyter-widgets/base",
      "model_module_version": "1.2.0",
      "model_name": "LayoutModel",
      "state": {
       "width": "250px"
      }
     },
     "10503e13d3204f0aa529a41b7a1abd45": {
      "model_module": "@jupyter-widgets/controls",
      "model_module_version": "1.5.0",
      "model_name": "HBoxModel",
      "state": {
       "children": [
        "IPY_MODEL_8c627f81c3fb45ad83fd1dae559ea646"
       ],
       "layout": "IPY_MODEL_721e0b5554f34d7aa17e4942bf6ac8e1"
      }
     },
     "106076ad69694f7eadbf365894dfe19e": {
      "model_module": "@jupyter-widgets/base",
      "model_module_version": "1.2.0",
      "model_name": "LayoutModel",
      "state": {
       "width": "250px"
      }
     },
     "109801797f534a7ca56b6a5000e7751d": {
      "model_module": "@jupyter-widgets/base",
      "model_module_version": "1.2.0",
      "model_name": "LayoutModel",
      "state": {}
     },
     "10a8aabef562402594eff25d47a887d2": {
      "model_module": "@jupyter-widgets/controls",
      "model_module_version": "1.5.0",
      "model_name": "DescriptionStyleModel",
      "state": {
       "description_width": "initial"
      }
     },
     "10b2c3c53388471a8a2e9347b460bbe5": {
      "model_module": "@jupyter-widgets/controls",
      "model_module_version": "1.5.0",
      "model_name": "HTMLModel",
      "state": {
       "layout": "IPY_MODEL_1c04097c567447bb9a8c412b944ca5ee",
       "style": "IPY_MODEL_0218e3b3d9704d63ba0ef14e1ec4d4f3",
       "value": "<h4 style=\"font-size:14px;\">Welche Beispiele erfüllen die obige Subsumptionsbeziehung?</h4>"
      }
     },
     "10be94ef7f164f598b3e90b6fa7dec1a": {
      "model_module": "@jupyter-widgets/controls",
      "model_module_version": "1.5.0",
      "model_name": "DescriptionStyleModel",
      "state": {
       "description_width": ""
      }
     },
     "10c16b80c711439693812defd5cce921": {
      "model_module": "@jupyter-widgets/controls",
      "model_module_version": "1.5.0",
      "model_name": "CheckboxModel",
      "state": {
       "description": "Sie werden gelöscht.",
       "disabled": false,
       "layout": "IPY_MODEL_c72cec01a6bb45f584a85ca74e049436",
       "style": "IPY_MODEL_ec3fc235412a4b5cac1245104c4e9b14",
       "value": false
      }
     },
     "10c3e8e4281f4da68852ac16a89b6228": {
      "model_module": "@jupyter-widgets/controls",
      "model_module_version": "1.5.0",
      "model_name": "CheckboxModel",
      "state": {
       "description": "!x",
       "disabled": false,
       "layout": "IPY_MODEL_5f57098777534e81b6cc4b669e7eef0a",
       "style": "IPY_MODEL_7084d30370d943e3995220f62d41a795",
       "value": false
      }
     },
     "10c581e98e474a43a533cf54220cbdee": {
      "model_module": "@jupyter-widgets/controls",
      "model_module_version": "1.5.0",
      "model_name": "CheckboxModel",
      "state": {
       "description": "Passivierung (Objekt-Promotion)",
       "disabled": false,
       "layout": "IPY_MODEL_26b3c234dc994e089332a7c312dd62c5",
       "style": "IPY_MODEL_43c7028be4c448589341a54815aac759",
       "value": false
      }
     },
     "1119c878848a4850be255b7f1468f36c": {
      "model_module": "@jupyter-widgets/controls",
      "model_module_version": "1.5.0",
      "model_name": "VBoxModel",
      "state": {
       "children": [
        "IPY_MODEL_e7973cce9dc744149f6ee0b6b851a7cf",
        "IPY_MODEL_1af47f0039554f1eb8b47ffc75037f5f",
        "IPY_MODEL_78e366635a7d4d29bbdf9183c39605bc",
        "IPY_MODEL_8627dbe6ef9c4b10b3363c2e35f448aa"
       ],
       "layout": "IPY_MODEL_d8a5272dd6eb472d84af03eae7db7da9"
      }
     },
     "1120dc90d7a2431daa3c193d168e5d18": {
      "model_module": "@jupyter-widgets/controls",
      "model_module_version": "1.5.0",
      "model_name": "CheckboxModel",
      "state": {
       "description": "Variable: <- (1)",
       "disabled": false,
       "layout": "IPY_MODEL_fc1556edbe594dee854788056d35470e",
       "style": "IPY_MODEL_5f2097d6dfb44cbab93a7a36dfd53954",
       "value": false
      }
     },
     "1158bc60cda8465495a358e0cbaafd60": {
      "model_module": "@jupyter-widgets/controls",
      "model_module_version": "1.5.0",
      "model_name": "DescriptionStyleModel",
      "state": {
       "description_width": ""
      }
     },
     "11993468a79c4e73b4249e0f18854400": {
      "model_module": "@jupyter-widgets/controls",
      "model_module_version": "1.5.0",
      "model_name": "ButtonStyleModel",
      "state": {}
     },
     "11a11866884b458c8306d713f1a316e5": {
      "model_module": "@jupyter-widgets/base",
      "model_module_version": "1.2.0",
      "model_name": "LayoutModel",
      "state": {
       "justify_content": "center"
      }
     },
     "11b268e6dcc745269cc5641bdd4b6756": {
      "model_module": "@jupyter-widgets/controls",
      "model_module_version": "1.5.0",
      "model_name": "HTMLModel",
      "state": {
       "layout": "IPY_MODEL_142b4cb616404971bde4b1c5ddde4177",
       "style": "IPY_MODEL_86d09af0ffe746e5b71f63cd9e20e381",
       "value": "<i>Markieren Sie <ins>alle</ins> passenden Antworten: </i>"
      }
     },
     "11bddb778e3c4f4dac2f5dda3470394c": {
      "model_module": "@jupyter-widgets/controls",
      "model_module_version": "1.5.0",
      "model_name": "DescriptionStyleModel",
      "state": {
       "description_width": ""
      }
     },
     "11cc0954ad684de59ee51a4e4d46ac66": {
      "model_module": "@jupyter-widgets/base",
      "model_module_version": "1.2.0",
      "model_name": "LayoutModel",
      "state": {}
     },
     "11df9804fbd447729e4cd4fd0c5503b0": {
      "model_module": "@jupyter-widgets/base",
      "model_module_version": "1.2.0",
      "model_name": "LayoutModel",
      "state": {
       "width": "250px"
      }
     },
     "11f384470a5d4f9382c0e04f982ffcb1": {
      "model_module": "@jupyter-widgets/base",
      "model_module_version": "1.2.0",
      "model_name": "LayoutModel",
      "state": {}
     },
     "121dc7e0d090402b89140d571904000f": {
      "model_module": "@jupyter-widgets/controls",
      "model_module_version": "1.5.0",
      "model_name": "ButtonStyleModel",
      "state": {}
     },
     "124a9f08ad02440c91919d962bac1192": {
      "model_module": "@jupyter-widgets/controls",
      "model_module_version": "1.5.0",
      "model_name": "DescriptionStyleModel",
      "state": {
       "description_width": ""
      }
     },
     "1254ffd50eb94361a5f35eadd9504118": {
      "model_module": "@jupyter-widgets/controls",
      "model_module_version": "1.5.0",
      "model_name": "DescriptionStyleModel",
      "state": {
       "description_width": ""
      }
     },
     "1290af5f19dd44898e65a4dd68dfc267": {
      "model_module": "@jupyter-widgets/controls",
      "model_module_version": "1.5.0",
      "model_name": "DescriptionStyleModel",
      "state": {
       "description_width": "initial"
      }
     },
     "129da1cfd15f4500af05ce4c3089f910": {
      "model_module": "@jupyter-widgets/controls",
      "model_module_version": "1.5.0",
      "model_name": "VBoxModel",
      "state": {
       "children": [
        "IPY_MODEL_8b765e7509d942baba1f35698be4271b",
        "IPY_MODEL_4b29a8597c7b48c1b9cf196351fc1352",
        "IPY_MODEL_15492ee8ddf84c64a0b9ba53c606b9ea"
       ],
       "layout": "IPY_MODEL_3da36e421c52427c8cd1113beb58251f"
      }
     },
     "12b24f0587fd44b6abd518669ea66f48": {
      "model_module": "@jupyter-widgets/base",
      "model_module_version": "1.2.0",
      "model_name": "LayoutModel",
      "state": {
       "width": "250px"
      }
     },
     "12dee9159249416ab2f721a47291f2fe": {
      "model_module": "@jupyter-widgets/controls",
      "model_module_version": "1.5.0",
      "model_name": "ButtonStyleModel",
      "state": {}
     },
     "12e3518f2a7b44dbbdeadf4604fb6e97": {
      "model_module": "@jupyter-widgets/base",
      "model_module_version": "1.2.0",
      "model_name": "LayoutModel",
      "state": {
       "width": "250px"
      }
     },
     "12fef4cd38944b2893394c87e8cfec95": {
      "model_module": "@jupyter-widgets/controls",
      "model_module_version": "1.5.0",
      "model_name": "DescriptionStyleModel",
      "state": {
       "description_width": "initial"
      }
     },
     "1322d12c523549ce831d510fc1949bf5": {
      "model_module": "@jupyter-widgets/controls",
      "model_module_version": "1.5.0",
      "model_name": "DescriptionStyleModel",
      "state": {
       "description_width": ""
      }
     },
     "1327075032354ceea40b774f5c0b0655": {
      "model_module": "@jupyter-widgets/controls",
      "model_module_version": "1.5.0",
      "model_name": "ButtonModel",
      "state": {
       "description": "Korrekt?",
       "layout": "IPY_MODEL_8decf0d1bd4f453a841108b1b5b93c47",
       "style": "IPY_MODEL_27d402c936294567a924974a7b701faf"
      }
     },
     "138d8a12b38448cabba05454ad8f35f6": {
      "model_module": "@jupyter-widgets/controls",
      "model_module_version": "1.5.0",
      "model_name": "DescriptionStyleModel",
      "state": {
       "description_width": "initial"
      }
     },
     "13919213211c42f6bf2a477942fddef5": {
      "model_module": "@jupyter-widgets/controls",
      "model_module_version": "1.5.0",
      "model_name": "VBoxModel",
      "state": {
       "children": [
        "IPY_MODEL_1fcbef575f70448b96ae1d41c5bc2d24",
        "IPY_MODEL_1be31da708aa4885ae82d234468981cd",
        "IPY_MODEL_fd3c81ec5f9b4f83bbe6605a6d2346ae",
        "IPY_MODEL_eeb6c663fda14978bf31877adcb11e7f",
        "IPY_MODEL_b679ba5fdff1401190a6a8276ad2fff7",
        "IPY_MODEL_a0986d8a91784f1da0b5f9b14896d1b8"
       ],
       "layout": "IPY_MODEL_00d98e95d8cf4eb0868ea4d95ad2b116"
      }
     },
     "13c5db5f242e4752aaafb3be4493abe0": {
      "model_module": "@jupyter-widgets/base",
      "model_module_version": "1.2.0",
      "model_name": "LayoutModel",
      "state": {
       "width": "250px"
      }
     },
     "13d426bbff6e4553aa8fe42176818bea": {
      "model_module": "@jupyter-widgets/controls",
      "model_module_version": "1.5.0",
      "model_name": "DescriptionStyleModel",
      "state": {
       "description_width": "initial"
      }
     },
     "13dfafcdcffa488ca82ca45675b6124a": {
      "model_module": "@jupyter-widgets/controls",
      "model_module_version": "1.5.0",
      "model_name": "ButtonModel",
      "state": {
       "description": "Benefaktiv",
       "layout": "IPY_MODEL_8d9a1f8d9dbe44dd882b436efba5e4e0",
       "style": "IPY_MODEL_0b9a887974124b679f84dc3f2b480ccd"
      }
     },
     "14060c59b30f404baaf09d1f96aed863": {
      "model_module": "@jupyter-widgets/controls",
      "model_module_version": "1.5.0",
      "model_name": "CheckboxModel",
      "state": {
       "description": "FS0 = [CAT = N, GEN = FEM], FS1 = [CAT = N, GEN = FEM]",
       "disabled": false,
       "layout": "IPY_MODEL_0425a7bb2f8a4999ba1c442c8a3a79d8",
       "style": "IPY_MODEL_b2e457fb235144ca9e62753486f27e34",
       "value": false
      }
     },
     "1423a33bbb5a4ee98ce998d8b6ff474d": {
      "model_module": "@jupyter-widgets/controls",
      "model_module_version": "1.5.0",
      "model_name": "CheckboxModel",
      "state": {
       "description": "Perspektivierung",
       "disabled": false,
       "layout": "IPY_MODEL_4095fee6a596452b9eb90f426b9ddd9b",
       "style": "IPY_MODEL_770fdc85729f4f4aac140d79b8b17f98",
       "value": true
      }
     },
     "14242fcdf779483d862fd9126ef32471": {
      "model_module": "@jupyter-widgets/controls",
      "model_module_version": "1.5.0",
      "model_name": "DescriptionStyleModel",
      "state": {
       "description_width": "initial"
      }
     },
     "1425e7e5fbc94d9c93eac80e1e17e536": {
      "model_module": "@jupyter-widgets/controls",
      "model_module_version": "1.5.0",
      "model_name": "ButtonModel",
      "state": {
       "description": "Korrekt?",
       "layout": "IPY_MODEL_ef3edd4095974acc922ed41fec420bc7",
       "style": "IPY_MODEL_c4b2eede11fd4267a30f552a06282967"
      }
     },
     "142b4cb616404971bde4b1c5ddde4177": {
      "model_module": "@jupyter-widgets/base",
      "model_module_version": "1.2.0",
      "model_name": "LayoutModel",
      "state": {
       "justify_content": "center"
      }
     },
     "14381c861b464d06aae654a5e2c46e5d": {
      "model_module": "@jupyter-widgets/base",
      "model_module_version": "1.2.0",
      "model_name": "LayoutModel",
      "state": {
       "justify_content": "center"
      }
     },
     "143e79f8a8ac49f68f39b298160a2dfc": {
      "model_module": "@jupyter-widgets/controls",
      "model_module_version": "1.5.0",
      "model_name": "DescriptionStyleModel",
      "state": {
       "description_width": ""
      }
     },
     "1456a5531c9846ce9ba7839cfd6d9e17": {
      "model_module": "@jupyter-widgets/base",
      "model_module_version": "1.2.0",
      "model_name": "LayoutModel",
      "state": {}
     },
     "14a9b99560034b18bc0bfe5e1fa9e3b8": {
      "model_module": "@jupyter-widgets/base",
      "model_module_version": "1.2.0",
      "model_name": "LayoutModel",
      "state": {
       "width": "150px"
      }
     },
     "14abedf8cb0f4f2cb9cfb855d609da43": {
      "model_module": "@jupyter-widgets/controls",
      "model_module_version": "1.5.0",
      "model_name": "HTMLModel",
      "state": {
       "layout": "IPY_MODEL_9fdb5f0e5c0f4f4b9810f50c0c5b228f",
       "style": "IPY_MODEL_3f1a7e94b4bf49aaa228597e03a32b84",
       "value": "<h4 style=\"font-size:14px;\">Welche Aussagen gelten für den Fall, dass das Adjektiv in einer NP ohne Artikel auftritt? (vgl. <i>altes Bier</i>)</h4>"
      }
     },
     "14c06ff5d8e74264952bed1882f125ce": {
      "model_module": "@jupyter-widgets/controls",
      "model_module_version": "1.5.0",
      "model_name": "DescriptionStyleModel",
      "state": {
       "description_width": ""
      }
     },
     "14c544a5d48e431d8787c01bd1170933": {
      "model_module": "@jupyter-widgets/base",
      "model_module_version": "1.2.0",
      "model_name": "LayoutModel",
      "state": {
       "width": "600px"
      }
     },
     "14ef7b760f0a4c36b1d95f10fffb455a": {
      "model_module": "@jupyter-widgets/controls",
      "model_module_version": "1.5.0",
      "model_name": "HBoxModel",
      "state": {
       "children": [
        "IPY_MODEL_07f1d90ca0b744e19e295b7d38ecbfac"
       ],
       "layout": "IPY_MODEL_8d6ca590fb374a1ca13c2727f80be6b2"
      }
     },
     "150a3667a7524686bae2c97a45ea62ff": {
      "model_module": "@jupyter-widgets/controls",
      "model_module_version": "1.5.0",
      "model_name": "DescriptionStyleModel",
      "state": {
       "description_width": "initial"
      }
     },
     "151246929dd24fd7bd98859f4a554769": {
      "model_module": "@jupyter-widgets/base",
      "model_module_version": "1.2.0",
      "model_name": "LayoutModel",
      "state": {}
     },
     "151b4a2868f8462dbe21d39b4d9d8e2e": {
      "model_module": "@jupyter-widgets/controls",
      "model_module_version": "1.5.0",
      "model_name": "DescriptionStyleModel",
      "state": {
       "description_width": ""
      }
     },
     "151cb4c45a1f44b493b561ee77112474": {
      "model_module": "@jupyter-widgets/base",
      "model_module_version": "1.2.0",
      "model_name": "LayoutModel",
      "state": {
       "width": "250px"
      }
     },
     "154785f879d34b9fbdb50764bdeece98": {
      "model_module": "@jupyter-widgets/controls",
      "model_module_version": "1.5.0",
      "model_name": "ButtonModel",
      "state": {
       "description": "Recipient",
       "layout": "IPY_MODEL_ff66d3efeeff46b7887c1d76e21306e0",
       "style": "IPY_MODEL_203a2cc3714a4b87a2d83035e8ca2ea2"
      }
     },
     "15492ee8ddf84c64a0b9ba53c606b9ea": {
      "model_module": "@jupyter-widgets/controls",
      "model_module_version": "1.5.0",
      "model_name": "CheckboxModel",
      "state": {
       "description": "Das Fehlen des Artikels hat keine Auswirkungen auf das Adjektiv.",
       "disabled": false,
       "layout": "IPY_MODEL_b5a74c49bd814131b12f44cca13c7f53",
       "style": "IPY_MODEL_556979fa1ba84a7380197cb96b0afbf5",
       "value": false
      }
     },
     "1551f787a8e24215bdfccf4edaf1d5f3": {
      "model_module": "@jupyter-widgets/controls",
      "model_module_version": "1.5.0",
      "model_name": "DescriptionStyleModel",
      "state": {
       "description_width": "initial"
      }
     },
     "1552e0e448c74524bd24d9903f6f24bf": {
      "model_module": "@jupyter-widgets/controls",
      "model_module_version": "1.5.0",
      "model_name": "DescriptionStyleModel",
      "state": {
       "description_width": "initial"
      }
     },
     "1564d556c75144f2af4da7f6a4d10e80": {
      "model_module": "@jupyter-widgets/base",
      "model_module_version": "1.2.0",
      "model_name": "LayoutModel",
      "state": {}
     },
     "1578436ad9b24caaa7b66e80042e89fe": {
      "model_module": "@jupyter-widgets/controls",
      "model_module_version": "1.5.0",
      "model_name": "ButtonModel",
      "state": {
       "description": "Korrekt?",
       "layout": "IPY_MODEL_1049dec2abf94ed6bf8c22588434cb4b",
       "style": "IPY_MODEL_affad36488cd42c09e6b0f23e62f5601"
      }
     },
     "1578c6d20737439abfa9a971c1254168": {
      "model_module": "@jupyter-widgets/controls",
      "model_module_version": "1.5.0",
      "model_name": "DescriptionStyleModel",
      "state": {
       "description_width": "initial"
      }
     },
     "159b4f6ebfde47ba87199cf59a1fd6ed": {
      "model_module": "@jupyter-widgets/controls",
      "model_module_version": "1.5.0",
      "model_name": "DropdownModel",
      "state": {
       "_options_labels": [
        "1",
        "10",
        "2",
        "4",
        "6",
        "8",
        "Keine der Alternativen"
       ],
       "description": "Antwort:",
       "index": 0,
       "layout": "IPY_MODEL_1918841173da4466bc923961315afc55",
       "style": "IPY_MODEL_15fe6cff716c4c46b723c8cd2a14c4d7"
      }
     },
     "159c4368520043ff93be073bd3fbdffb": {
      "model_module": "@jupyter-widgets/controls",
      "model_module_version": "1.5.0",
      "model_name": "DropdownModel",
      "state": {
       "_options_labels": [
        "nicht",
        "schwach",
        "stark",
        " "
       ],
       "index": 3,
       "layout": "IPY_MODEL_ed5a1bc7f6fb4ef9bab2055267c655e5",
       "style": "IPY_MODEL_3fdd3c7c8d56406fa25213ca87ff4e62"
      }
     },
     "159d40061d7f4a459fc3366cb046e1f5": {
      "model_module": "@jupyter-widgets/base",
      "model_module_version": "1.2.0",
      "model_name": "LayoutModel",
      "state": {
       "width": "250px"
      }
     },
     "15bc5da9d55a43af85c9d504e8020382": {
      "model_module": "@jupyter-widgets/controls",
      "model_module_version": "1.5.0",
      "model_name": "ButtonModel",
      "state": {
       "description": "schwache Deklination",
       "layout": "IPY_MODEL_f3d9b3984d5f491e94dd6577de2c263b",
       "style": "IPY_MODEL_052565dda0b3473ba1226fa4e2de848b"
      }
     },
     "15c871e80e8f42b6927bcc7fcc662439": {
      "model_module": "@jupyter-widgets/controls",
      "model_module_version": "1.5.0",
      "model_name": "ButtonModel",
      "state": {
       "description": "Korrekt?",
       "layout": "IPY_MODEL_0219a33a1cd44e30af7b0d578ed68154",
       "style": "IPY_MODEL_6a527e2845684b73b511c535ec2f4080"
      }
     },
     "15dddcb4d21440a7b290366d9b6d1ea3": {
      "model_module": "@jupyter-widgets/controls",
      "model_module_version": "1.5.0",
      "model_name": "DescriptionStyleModel",
      "state": {
       "description_width": "initial"
      }
     },
     "15fe6cff716c4c46b723c8cd2a14c4d7": {
      "model_module": "@jupyter-widgets/controls",
      "model_module_version": "1.5.0",
      "model_name": "DescriptionStyleModel",
      "state": {
       "description_width": ""
      }
     },
     "16709f2b5356442090d3510acfdf5b28": {
      "model_module": "@jupyter-widgets/controls",
      "model_module_version": "1.5.0",
      "model_name": "ButtonStyleModel",
      "state": {}
     },
     "1693fbcfe89f4264979c2142960fb824": {
      "model_module": "@jupyter-widgets/controls",
      "model_module_version": "1.5.0",
      "model_name": "CheckboxModel",
      "state": {
       "description": "Variable: <- (1)",
       "disabled": false,
       "layout": "IPY_MODEL_f834526ff4f94d5682bf915cd477288f",
       "style": "IPY_MODEL_2fba6b2d736b401e9b7f5dff0ac75e84",
       "value": false
      }
     },
     "1697e61a5afe48ae9b4ca784316a8e76": {
      "model_module": "@jupyter-widgets/controls",
      "model_module_version": "1.5.0",
      "model_name": "DescriptionStyleModel",
      "state": {
       "description_width": "initial"
      }
     },
     "169f88f232b4432895d95ff8ca164b3a": {
      "model_module": "@jupyter-widgets/controls",
      "model_module_version": "1.5.0",
      "model_name": "VBoxModel",
      "state": {
       "children": [
        "IPY_MODEL_923910f17aca4618a1406909f589a8ca",
        "IPY_MODEL_a16b48e21dc941dc906d8aeb63855c72",
        "IPY_MODEL_7ca491df73ad4ecfa7a07c734150fe89",
        "IPY_MODEL_a77a6c51709646ff823e73c6e8be2657"
       ],
       "layout": "IPY_MODEL_ecbb5965067648a5986d897991d30a00"
      }
     },
     "16aae683b6f94b62911ef947d900163f": {
      "model_module": "@jupyter-widgets/base",
      "model_module_version": "1.2.0",
      "model_name": "LayoutModel",
      "state": {
       "justify_content": "center"
      }
     },
     "16c38c533a3d477192472f1cd05ca0b2": {
      "model_module": "@jupyter-widgets/controls",
      "model_module_version": "1.5.0",
      "model_name": "ButtonModel",
      "state": {
       "description": "Time",
       "layout": "IPY_MODEL_61b25156c72540e4b1492eaacfb775c5",
       "style": "IPY_MODEL_ed4fbf4f322948e08e1e18999522217c"
      }
     },
     "16caf918c6cb4a02924b0f48e6c54a72": {
      "model_module": "@jupyter-widgets/base",
      "model_module_version": "1.2.0",
      "model_name": "LayoutModel",
      "state": {
       "width": "250px"
      }
     },
     "16cdef5418214435bf3e957bff56a9a8": {
      "model_module": "@jupyter-widgets/controls",
      "model_module_version": "1.5.0",
      "model_name": "CheckboxModel",
      "state": {
       "description": "x?",
       "disabled": false,
       "layout": "IPY_MODEL_f4c98f69ad9842d0a25c1e56635a9a5c",
       "style": "IPY_MODEL_f5e5033b7fc64e8ab692a9f27bdcdac4",
       "value": false
      }
     },
     "1700413da49f42438bfdbc1c180bc198": {
      "model_module": "@jupyter-widgets/controls",
      "model_module_version": "1.5.0",
      "model_name": "ButtonStyleModel",
      "state": {}
     },
     "17030aa2cfaf45c59e03177e309394e6": {
      "model_module": "@jupyter-widgets/base",
      "model_module_version": "1.2.0",
      "model_name": "LayoutModel",
      "state": {}
     },
     "1740c006abc942d89b31ab3f7fbe7e97": {
      "model_module": "@jupyter-widgets/base",
      "model_module_version": "1.2.0",
      "model_name": "LayoutModel",
      "state": {}
     },
     "174f196c6a2b429db05c7aa016a13ca9": {
      "model_module": "@jupyter-widgets/controls",
      "model_module_version": "1.5.0",
      "model_name": "HTMLModel",
      "state": {
       "layout": "IPY_MODEL_b9240fc4308f484581c2421ac5c6c3ac",
       "style": "IPY_MODEL_500465ea6a314922bf63440d6decd538",
       "value": "<i>Wählen Sie die <ins>eine</ins> korrekte Antwort aus: </i>"
      }
     },
     "1763cbfa7364459a9ca4e6327e195336": {
      "model_module": "@jupyter-widgets/controls",
      "model_module_version": "1.5.0",
      "model_name": "VBoxModel",
      "state": {
       "children": [
        "IPY_MODEL_14abedf8cb0f4f2cb9cfb855d609da43",
        "IPY_MODEL_2dfc292610d24f5fbacd3ffb120fd0c2",
        "IPY_MODEL_129da1cfd15f4500af05ce4c3089f910",
        "IPY_MODEL_2e4bd1937ec04696b0042b5e356639f0"
       ],
       "layout": "IPY_MODEL_07a17051e4114cba91c12253780691a5"
      }
     },
     "177aae39ae07438aa562afbe33fad06a": {
      "model_module": "@jupyter-widgets/controls",
      "model_module_version": "1.5.0",
      "model_name": "VBoxModel",
      "state": {
       "children": [
        "IPY_MODEL_44eeddb8974f4416abd301f75eb9b394",
        "IPY_MODEL_573923240c924b7588cf60442d13f081",
        "IPY_MODEL_382c35c746084430be267c3f998ddc7b"
       ],
       "layout": "IPY_MODEL_11f384470a5d4f9382c0e04f982ffcb1"
      }
     },
     "17d204926e22405da174bf22a45854bc": {
      "model_module": "@jupyter-widgets/controls",
      "model_module_version": "1.5.0",
      "model_name": "CheckboxModel",
      "state": {
       "description": "FS0 = [CAT = N, GEN = FEM], FS1 = [CAT = N, GEN = FEM]",
       "disabled": false,
       "layout": "IPY_MODEL_432984ec5dfd4a95850603fb8735a4f8",
       "style": "IPY_MODEL_91993268b97e4180ab1aff9f22cb7751",
       "value": false
      }
     },
     "17e2e706ccc34485a6603344104b1739": {
      "model_module": "@jupyter-widgets/controls",
      "model_module_version": "1.5.0",
      "model_name": "HTMLModel",
      "state": {
       "layout": "IPY_MODEL_62d55556d6eb4afca198429e13fb9cfb",
       "style": "IPY_MODEL_c7dc2ca779ac43be874e10c32965f14e",
       "value": "<i>Markieren Sie <ins>alle</ins> passenden Antworten: </i>"
      }
     },
     "17fd5b059f5349d6a93f8b3ec676a007": {
      "model_module": "@jupyter-widgets/base",
      "model_module_version": "1.2.0",
      "model_name": "LayoutModel",
      "state": {
       "width": "250px"
      }
     },
     "1806d5056fa249e185ad7467c348a7da": {
      "model_module": "@jupyter-widgets/base",
      "model_module_version": "1.2.0",
      "model_name": "LayoutModel",
      "state": {}
     },
     "1853e1beed4e4bb7aa9fa66c95f5fb5a": {
      "model_module": "@jupyter-widgets/controls",
      "model_module_version": "1.5.0",
      "model_name": "HTMLModel",
      "state": {
       "layout": "IPY_MODEL_bee33489c1f94a13a5ee1bbca943db0f",
       "style": "IPY_MODEL_6736fdad05a6450e994330776649b455",
       "value": "<h4 style=\"font-size:14px;\">Wie läßt sich im NLTK ein äquivalenter Pfad definieren?</h4>"
      }
     },
     "18a3962d0f574589b1eeb4df61ad1715": {
      "model_module": "@jupyter-widgets/controls",
      "model_module_version": "1.5.0",
      "model_name": "HTMLModel",
      "state": {
       "layout": "IPY_MODEL_f0b56258236245bf93d1ec7c3c8072e5",
       "style": "IPY_MODEL_cceb0d29930943b4ae52021c095107c5",
       "value": "<h4 style=\"font-size:14px;\">Was ist der bevorzugte Kandidat zur Realisierung im Subjekt?</h4>"
      }
     },
     "18b1390df12b4152b78542d10f759451": {
      "model_module": "@jupyter-widgets/controls",
      "model_module_version": "1.5.0",
      "model_name": "ButtonStyleModel",
      "state": {}
     },
     "18baca3540ce400bad74f031ed267248": {
      "model_module": "@jupyter-widgets/base",
      "model_module_version": "1.2.0",
      "model_name": "LayoutModel",
      "state": {
       "width": "600px"
      }
     },
     "1918841173da4466bc923961315afc55": {
      "model_module": "@jupyter-widgets/base",
      "model_module_version": "1.2.0",
      "model_name": "LayoutModel",
      "state": {
       "width": "500px"
      }
     },
     "1926ffed91284d46a806499507d507ad": {
      "model_module": "@jupyter-widgets/controls",
      "model_module_version": "1.5.0",
      "model_name": "ButtonStyleModel",
      "state": {}
     },
     "192970ac0c114977af6d1f3a792ad1a1": {
      "model_module": "@jupyter-widgets/controls",
      "model_module_version": "1.5.0",
      "model_name": "VBoxModel",
      "state": {
       "children": [
        "IPY_MODEL_25741caa61e4438c90da177265146348",
        "IPY_MODEL_7cc4ce1463ac454a8cdb430208c81fe5",
        "IPY_MODEL_ae20fc6b6d224d7c8d60c26d0447e204",
        "IPY_MODEL_0033aca293434a339855e90943107429",
        "IPY_MODEL_749e592649184841a3f5854b53fa868c"
       ],
       "layout": "IPY_MODEL_76df2295e2324198ab8a1a40a3622ce8"
      }
     },
     "192bba2c51314b42959efe235373d16e": {
      "model_module": "@jupyter-widgets/base",
      "model_module_version": "1.2.0",
      "model_name": "LayoutModel",
      "state": {
       "width": "600px"
      }
     },
     "1930f66b328a49149e1981fb27f54b8c": {
      "model_module": "@jupyter-widgets/base",
      "model_module_version": "1.2.0",
      "model_name": "LayoutModel",
      "state": {
       "width": "250px"
      }
     },
     "194c1e57c70b4184ae21872abfb2e8f9": {
      "model_module": "@jupyter-widgets/base",
      "model_module_version": "1.2.0",
      "model_name": "LayoutModel",
      "state": {
       "width": "250px"
      }
     },
     "195316e055024a1da355c1757392cf68": {
      "model_module": "@jupyter-widgets/controls",
      "model_module_version": "1.5.0",
      "model_name": "DescriptionStyleModel",
      "state": {
       "description_width": ""
      }
     },
     "1972375abc3a4b668bfb5ce92c4e7c44": {
      "model_module": "@jupyter-widgets/base",
      "model_module_version": "1.2.0",
      "model_name": "LayoutModel",
      "state": {
       "width": "250px"
      }
     },
     "1979dfb0e23e45c3bece3c3317fbc176": {
      "model_module": "@jupyter-widgets/controls",
      "model_module_version": "1.5.0",
      "model_name": "ButtonModel",
      "state": {
       "description": "Patiens",
       "layout": "IPY_MODEL_916d7dfd70b8418b824af6e2444fd580",
       "style": "IPY_MODEL_40be4f6913064396bd7442681fafeb6d"
      }
     },
     "197b8b7878e64cb89e12057585208bcb": {
      "model_module": "@jupyter-widgets/controls",
      "model_module_version": "1.5.0",
      "model_name": "ButtonStyleModel",
      "state": {}
     },
     "1986f7084c2843efb96de364258d3fb5": {
      "model_module": "@jupyter-widgets/controls",
      "model_module_version": "1.5.0",
      "model_name": "DescriptionStyleModel",
      "state": {
       "description_width": ""
      }
     },
     "19c4934b250149c3bea8aee2404e363b": {
      "model_module": "@jupyter-widgets/controls",
      "model_module_version": "1.5.0",
      "model_name": "DropdownModel",
      "state": {
       "_options_labels": [
        "Adverbial",
        "Nomen",
        "Personalpronomen",
        " "
       ],
       "index": 3,
       "layout": "IPY_MODEL_08f1b7178f714a7c8fd8bef1efa32e9a",
       "style": "IPY_MODEL_10be94ef7f164f598b3e90b6fa7dec1a"
      }
     },
     "19d16aa9e4934738a41baf465f287875": {
      "model_module": "@jupyter-widgets/controls",
      "model_module_version": "1.5.0",
      "model_name": "ButtonStyleModel",
      "state": {
       "button_color": "lightgreen"
      }
     },
     "19f01446ac5c4616ab7e41b2698cc901": {
      "model_module": "@jupyter-widgets/controls",
      "model_module_version": "1.5.0",
      "model_name": "ButtonModel",
      "state": {
       "description": "starke Deklination",
       "layout": "IPY_MODEL_762edb49e8a5497aaae09b1eaa643ced",
       "style": "IPY_MODEL_d31fd6dbbd7946ba9a5653350592fb93"
      }
     },
     "1a171622e8d14260b9947f513c155cff": {
      "model_module": "@jupyter-widgets/controls",
      "model_module_version": "1.5.0",
      "model_name": "DescriptionStyleModel",
      "state": {
       "description_width": ""
      }
     },
     "1a213285aeea4a029604f7dabb4175bc": {
      "model_module": "@jupyter-widgets/controls",
      "model_module_version": "1.5.0",
      "model_name": "ButtonModel",
      "state": {
       "description": "Korrekt?",
       "layout": "IPY_MODEL_a6cd8d45cca4486ba20e524a65fbc0d3",
       "style": "IPY_MODEL_f016861b58c2437a886c913a1a153c3d"
      }
     },
     "1a3c2d8149e74e18968beb5dc06f7b29": {
      "model_module": "@jupyter-widgets/controls",
      "model_module_version": "1.5.0",
      "model_name": "ButtonStyleModel",
      "state": {}
     },
     "1a86545a10104cfc9d5a19ef9a137d09": {
      "model_module": "@jupyter-widgets/controls",
      "model_module_version": "1.5.0",
      "model_name": "VBoxModel",
      "state": {
       "children": [
        "IPY_MODEL_3f1d979f30b1417ba26ed8f137fb8ae4",
        "IPY_MODEL_69c12a2b9e104bed9dd6db18b4dd7125",
        "IPY_MODEL_1fc1d45acea041a0a9384f3be15d6458"
       ],
       "layout": "IPY_MODEL_f6f0e74b5c7a4d53a4a7a606b5a62d80"
      }
     },
     "1aa369035d234c1e97a0fb4fc41b7b87": {
      "model_module": "@jupyter-widgets/controls",
      "model_module_version": "1.5.0",
      "model_name": "VBoxModel",
      "state": {
       "children": [
        "IPY_MODEL_969cff8c5b3145b2b9961485255066e4",
        "IPY_MODEL_68422bb4acaa443c8c13ce4f1b827863",
        "IPY_MODEL_30c53bf7ad4f41b2bd14520731dde6d0"
       ],
       "layout": "IPY_MODEL_2a70ff2ae0b843d0b56150bec8dac770"
      }
     },
     "1aa5981c047a4f7097bb21352303bf3c": {
      "model_module": "@jupyter-widgets/controls",
      "model_module_version": "1.5.0",
      "model_name": "HBoxModel",
      "state": {
       "children": [
        "IPY_MODEL_b2213206edc64ec08ac53c54363f4597",
        "IPY_MODEL_3cd16eaf39564944a71c6394844b678c"
       ],
       "layout": "IPY_MODEL_fa9dbbee7a30408cbc929dfcf035ef10"
      }
     },
     "1acf1671e7e5446eacfd9929e6278cec": {
      "model_module": "@jupyter-widgets/base",
      "model_module_version": "1.2.0",
      "model_name": "LayoutModel",
      "state": {
       "width": "600px"
      }
     },
     "1aee207ea3ed49b4b216aa223b3c8c44": {
      "model_module": "@jupyter-widgets/controls",
      "model_module_version": "1.5.0",
      "model_name": "VBoxModel",
      "state": {
       "children": [
        "IPY_MODEL_27c985f45bf443178cbb4186f936b024",
        "IPY_MODEL_e55a43e3f01a4327803ce229cf9ada06",
        "IPY_MODEL_93949992fdd94395ad870bf64cf0035c",
        "IPY_MODEL_863a88b39936467b992b95aa4815bec7"
       ],
       "layout": "IPY_MODEL_677ba4ffe1854507a07f2800cb079790"
      }
     },
     "1af0991e7bca4e8d881956738592b718": {
      "model_module": "@jupyter-widgets/controls",
      "model_module_version": "1.5.0",
      "model_name": "HTMLModel",
      "state": {
       "layout": "IPY_MODEL_37bc990757e74cc58fbe07415537a063",
       "style": "IPY_MODEL_f98774d3412d49b59c84d9839b839272",
       "value": "<i>Markieren Sie <ins>alle</ins> passenden Antworten: </i>"
      }
     },
     "1af47f0039554f1eb8b47ffc75037f5f": {
      "model_module": "@jupyter-widgets/controls",
      "model_module_version": "1.5.0",
      "model_name": "HTMLModel",
      "state": {
       "layout": "IPY_MODEL_85dd7125d5204c9a8fb365b35dce3dae",
       "style": "IPY_MODEL_6d5475077555497d90925c592a3459e8",
       "value": "<i>Markieren Sie <ins>alle</ins> passenden Antworten: </i>"
      }
     },
     "1afdd58513bc40ba9c6466b57ca94a68": {
      "model_module": "@jupyter-widgets/base",
      "model_module_version": "1.2.0",
      "model_name": "LayoutModel",
      "state": {
       "width": "250px"
      }
     },
     "1b2d9d61745042b896156abac733fa26": {
      "model_module": "@jupyter-widgets/base",
      "model_module_version": "1.2.0",
      "model_name": "LayoutModel",
      "state": {}
     },
     "1b3273f798f54ac9817bc3bc68c81c81": {
      "model_module": "@jupyter-widgets/base",
      "model_module_version": "1.2.0",
      "model_name": "LayoutModel",
      "state": {
       "width": "250px"
      }
     },
     "1bc1e8f04d6a44f490e87b47e8c1839e": {
      "model_module": "@jupyter-widgets/controls",
      "model_module_version": "1.5.0",
      "model_name": "ButtonStyleModel",
      "state": {}
     },
     "1be31da708aa4885ae82d234468981cd": {
      "model_module": "@jupyter-widgets/controls",
      "model_module_version": "1.5.0",
      "model_name": "HTMLModel",
      "state": {
       "layout": "IPY_MODEL_5f9ba13c6f1d4956aa9bed2ea91d8bb3",
       "style": "IPY_MODEL_9adfd0580df649b595247f42b757879e",
       "value": "<i>Wählen Sie die <ins>eine</ins> korrekte Antwort aus: </i>"
      }
     },
     "1bfc55383beb43a98f51863d56c607cd": {
      "model_module": "@jupyter-widgets/base",
      "model_module_version": "1.2.0",
      "model_name": "LayoutModel",
      "state": {
       "width": "250px"
      }
     },
     "1c04097c567447bb9a8c412b944ca5ee": {
      "model_module": "@jupyter-widgets/base",
      "model_module_version": "1.2.0",
      "model_name": "LayoutModel",
      "state": {}
     },
     "1c13615e1efd422a84a5e88d1ea5d723": {
      "model_module": "@jupyter-widgets/controls",
      "model_module_version": "1.5.0",
      "model_name": "ButtonModel",
      "state": {
       "description": "Benefaktiv",
       "layout": "IPY_MODEL_7c189f43db17477593d3654d0bd95cb7",
       "style": "IPY_MODEL_aedc3643f57d466d91dedd732717d870"
      }
     },
     "1c526804d31e44d78180ab9954d8303c": {
      "model_module": "@jupyter-widgets/base",
      "model_module_version": "1.2.0",
      "model_name": "LayoutModel",
      "state": {
       "width": "600px"
      }
     },
     "1c70605f3a1248e88f2aee915a6e0183": {
      "model_module": "@jupyter-widgets/controls",
      "model_module_version": "1.5.0",
      "model_name": "DescriptionStyleModel",
      "state": {
       "description_width": "initial"
      }
     },
     "1c8f9210b75846638439a713f9b8c8a9": {
      "model_module": "@jupyter-widgets/base",
      "model_module_version": "1.2.0",
      "model_name": "LayoutModel",
      "state": {}
     },
     "1c96bd1ea195458cbd52d4892c15cdc6": {
      "model_module": "@jupyter-widgets/controls",
      "model_module_version": "1.5.0",
      "model_name": "ButtonModel",
      "state": {
       "description": "starke Deklination",
       "layout": "IPY_MODEL_e451d14bba1d49058f22bf6f02295aea",
       "style": "IPY_MODEL_0c646f6c714446cc9e4da30fc42b21d7"
      }
     },
     "1c97819b3a7d45108ff8c7413645decd": {
      "model_module": "@jupyter-widgets/base",
      "model_module_version": "1.2.0",
      "model_name": "LayoutModel",
      "state": {
       "width": "250px"
      }
     },
     "1cbfa76b563e444ca7b765531e602622": {
      "model_module": "@jupyter-widgets/controls",
      "model_module_version": "1.5.0",
      "model_name": "HTMLModel",
      "state": {
       "layout": "IPY_MODEL_b516e1970299436db0b741c9876a9af8",
       "style": "IPY_MODEL_8289798397514922a821ebda0f258b19",
       "value": "<i>Wählen Sie die <ins>eine</ins> korrekte Antwort aus: </i>"
      }
     },
     "1cc466b43f7f4aed91e3a0e66e4ad016": {
      "model_module": "@jupyter-widgets/base",
      "model_module_version": "1.2.0",
      "model_name": "LayoutModel",
      "state": {}
     },
     "1cd237b5bc1940cb959fa7415e222469": {
      "model_module": "@jupyter-widgets/controls",
      "model_module_version": "1.5.0",
      "model_name": "VBoxModel",
      "state": {
       "children": [
        "IPY_MODEL_50c71e4fd62a473dabfa05fd54c50562",
        "IPY_MODEL_51d0fd80e2ed433f9ccb10f7a1c9a9ab",
        "IPY_MODEL_9f71f4ab781948089db067c0ad812a7c",
        "IPY_MODEL_ebe4032f9082496e867fe46828d08c0f"
       ],
       "layout": "IPY_MODEL_f78897bf602c41f6836ccf3fbdb8800e"
      }
     },
     "1ce7bf120779474dba958e12b4f03e38": {
      "model_module": "@jupyter-widgets/base",
      "model_module_version": "1.2.0",
      "model_name": "LayoutModel",
      "state": {}
     },
     "1d02a7f3d1ff4907980f8c8f29f8550b": {
      "model_module": "@jupyter-widgets/controls",
      "model_module_version": "1.5.0",
      "model_name": "DescriptionStyleModel",
      "state": {
       "description_width": ""
      }
     },
     "1d09ca79545342618bfbc61c7ab150de": {
      "model_module": "@jupyter-widgets/base",
      "model_module_version": "1.2.0",
      "model_name": "LayoutModel",
      "state": {
       "width": "250px"
      }
     },
     "1d104378b7bd486da8714592c7363d12": {
      "model_module": "@jupyter-widgets/controls",
      "model_module_version": "1.5.0",
      "model_name": "DescriptionStyleModel",
      "state": {
       "description_width": "initial"
      }
     },
     "1d2b9f0d767847d8b4bc854bcc94b155": {
      "model_module": "@jupyter-widgets/controls",
      "model_module_version": "1.5.0",
      "model_name": "CheckboxModel",
      "state": {
       "description": "Ausrichtung der Empathie",
       "disabled": false,
       "layout": "IPY_MODEL_8b4352ff187648d4886fa4493e743a30",
       "style": "IPY_MODEL_43ec556908f04ba785ec8e1092330166",
       "value": false
      }
     },
     "1d34fd4779f14247a476555338bb1581": {
      "model_module": "@jupyter-widgets/base",
      "model_module_version": "1.2.0",
      "model_name": "LayoutModel",
      "state": {}
     },
     "1d4906611a6a493eb23278c06e8fcd54": {
      "model_module": "@jupyter-widgets/controls",
      "model_module_version": "1.5.0",
      "model_name": "HTMLModel",
      "state": {
       "layout": "IPY_MODEL_6a495f1b6c7f4535a5a90b61b03a2708",
       "style": "IPY_MODEL_26c0636dc21643fe88cbdec3e96c0094",
       "value": "<h4 style=\"font-size:14px;\">Welche kommunikativ-funktionalen Unterschiede bestehen?</h4>"
      }
     },
     "1d4e2a1f8a014cf0a4c95f6558167a94": {
      "model_module": "@jupyter-widgets/controls",
      "model_module_version": "1.5.0",
      "model_name": "ButtonModel",
      "state": {
       "description": "Benefaktiv",
       "layout": "IPY_MODEL_621159a8e20d432baaef9d3cf347d3d1",
       "style": "IPY_MODEL_5825b69c09b64f4d8f9c429e37aa46dd"
      }
     },
     "1d7572a4c78a4d7980978848246a3116": {
      "model_module": "@jupyter-widgets/controls",
      "model_module_version": "1.5.0",
      "model_name": "ButtonStyleModel",
      "state": {}
     },
     "1d835c3a3e70413f86714efa95ccd4a7": {
      "model_module": "@jupyter-widgets/controls",
      "model_module_version": "1.5.0",
      "model_name": "HBoxModel",
      "state": {
       "children": [
        "IPY_MODEL_9c049d4f158e4e2fae664be351b1b1fc"
       ],
       "layout": "IPY_MODEL_cf2aa46596274a4092aa881b860173f9"
      }
     },
     "1db8d640444b4c0c9346d421fc008829": {
      "model_module": "@jupyter-widgets/controls",
      "model_module_version": "1.5.0",
      "model_name": "HTMLModel",
      "state": {
       "layout": "IPY_MODEL_4e2373ad71ad4f7d8e569e308de2ab7f",
       "style": "IPY_MODEL_7e20fe441de448f299746528e463e3a5",
       "value": "<h4 style=\"font-size:14px;\">wird das Adjektiv hier</h4>"
      }
     },
     "1dc5af31855b403a9f9b38e7ddf50ab2": {
      "model_module": "@jupyter-widgets/base",
      "model_module_version": "1.2.0",
      "model_name": "LayoutModel",
      "state": {}
     },
     "1dc8152db1164beebb58da71a1261752": {
      "model_module": "@jupyter-widgets/base",
      "model_module_version": "1.2.0",
      "model_name": "LayoutModel",
      "state": {
       "width": "600px"
      }
     },
     "1ddb999668b048f8a32b2cdf67956e99": {
      "model_module": "@jupyter-widgets/controls",
      "model_module_version": "1.5.0",
      "model_name": "HTMLModel",
      "state": {
       "layout": "IPY_MODEL_9f8969bdd3054b94b1ad4c028bef4655",
       "style": "IPY_MODEL_38ebd570385c4184bdec2c457ae90699",
       "value": "<h4 style=\"font-size:14px;\">Welche native python-Datenstruktur bietet sich für die Deklaration von Merkmalstrukturen als Menge von Attribut-Wert-Paaren an?</h4>"
      }
     },
     "1df0ba82d21242ca811c24a81ed56dd4": {
      "model_module": "@jupyter-widgets/base",
      "model_module_version": "1.2.0",
      "model_name": "LayoutModel",
      "state": {}
     },
     "1df40cab9163456d828cbc38681d5bba": {
      "model_module": "@jupyter-widgets/controls",
      "model_module_version": "1.5.0",
      "model_name": "DescriptionStyleModel",
      "state": {
       "description_width": ""
      }
     },
     "1e0612b45f5146ecbcf6aa80eaeea513": {
      "model_module": "@jupyter-widgets/controls",
      "model_module_version": "1.5.0",
      "model_name": "ButtonStyleModel",
      "state": {}
     },
     "1e0b1310ce624a2c8dbb68ee3c0af794": {
      "model_module": "@jupyter-widgets/controls",
      "model_module_version": "1.5.0",
      "model_name": "DescriptionStyleModel",
      "state": {
       "description_width": ""
      }
     },
     "1e137f7d7b964e459efef3dc2f0ef879": {
      "model_module": "@jupyter-widgets/base",
      "model_module_version": "1.2.0",
      "model_name": "LayoutModel",
      "state": {}
     },
     "1e17bf82f2b4485bb0df910f4f3b08ec": {
      "model_module": "@jupyter-widgets/base",
      "model_module_version": "1.2.0",
      "model_name": "LayoutModel",
      "state": {
       "width": "250px"
      }
     },
     "1e37c9ae414e4178a229879279a2605f": {
      "model_module": "@jupyter-widgets/controls",
      "model_module_version": "1.5.0",
      "model_name": "DescriptionStyleModel",
      "state": {
       "description_width": "initial"
      }
     },
     "1e9a48e6ee4d4f34857c75f16f417b6d": {
      "model_module": "@jupyter-widgets/controls",
      "model_module_version": "1.5.0",
      "model_name": "ButtonModel",
      "state": {
       "description": "Korrekt?",
       "layout": "IPY_MODEL_c47f28dba26a46c4a96726c9a163f607",
       "style": "IPY_MODEL_57592277c3834c0cabc7a02bd0d2447f"
      }
     },
     "1eb5dbede0094d0caa81c6fb68e2878f": {
      "model_module": "@jupyter-widgets/controls",
      "model_module_version": "1.5.0",
      "model_name": "DescriptionStyleModel",
      "state": {
       "description_width": ""
      }
     },
     "1ecc9f8600af44e18516488398776b7e": {
      "model_module": "@jupyter-widgets/base",
      "model_module_version": "1.2.0",
      "model_name": "LayoutModel",
      "state": {}
     },
     "1f0160707f52413c9a07bda05d1e7135": {
      "model_module": "@jupyter-widgets/controls",
      "model_module_version": "1.5.0",
      "model_name": "VBoxModel",
      "state": {
       "children": [
        "IPY_MODEL_30addaae1a154b7aae259da97d509577",
        "IPY_MODEL_d07bde74696d4e6799ffde83a03c12d2",
        "IPY_MODEL_9a9da604075a4607b84810453741fef4"
       ],
       "layout": "IPY_MODEL_aebd970794444c84880035ba5257077c"
      }
     },
     "1f0821e628e44c08afae3a2adf965b53": {
      "model_module": "@jupyter-widgets/controls",
      "model_module_version": "1.5.0",
      "model_name": "ButtonStyleModel",
      "state": {}
     },
     "1fad2ff6e8bc4ff581de14fcfba1bbb2": {
      "model_module": "@jupyter-widgets/controls",
      "model_module_version": "1.5.0",
      "model_name": "VBoxModel",
      "state": {
       "children": [
        "IPY_MODEL_8e8408c25a314afeace173e2b54d8f5b",
        "IPY_MODEL_9a5e5ceefc1645d582e3a58b0ed611ab",
        "IPY_MODEL_ed0997e6c52e476cafa9b99f9060f993",
        "IPY_MODEL_e6bd40f972a841e3a1b93fd5c782267f"
       ],
       "layout": "IPY_MODEL_d45c10dee1d146ab954cb349c41efdf0"
      }
     },
     "1fc1d45acea041a0a9384f3be15d6458": {
      "model_module": "@jupyter-widgets/controls",
      "model_module_version": "1.5.0",
      "model_name": "CheckboxModel",
      "state": {
       "description": "Sie werden neu eingefügt.",
       "disabled": false,
       "layout": "IPY_MODEL_dbb7156695344726afddc6541b7f26d8",
       "style": "IPY_MODEL_ae75085997b74ad0863070dbf6e86e7e",
       "value": false
      }
     },
     "1fc739251d624b02b96605f74692e833": {
      "model_module": "@jupyter-widgets/base",
      "model_module_version": "1.2.0",
      "model_name": "LayoutModel",
      "state": {
       "justify_content": "center"
      }
     },
     "1fcbef575f70448b96ae1d41c5bc2d24": {
      "model_module": "@jupyter-widgets/controls",
      "model_module_version": "1.5.0",
      "model_name": "HTMLModel",
      "state": {
       "layout": "IPY_MODEL_0722d12b116c457ca03148d0497b8934",
       "style": "IPY_MODEL_1e0b1310ce624a2c8dbb68ee3c0af794",
       "value": "<h4 style=\"font-size:14px;\">Was ist im zweiten Satz das Subjekt?</h4>"
      }
     },
     "1ff8a19a9f0d4d359fbf8aab85d1e7e9": {
      "model_module": "@jupyter-widgets/base",
      "model_module_version": "1.2.0",
      "model_name": "LayoutModel",
      "state": {
       "width": "600px"
      }
     },
     "2021dda6e4044e2dbc6e7c54f60ef05e": {
      "model_module": "@jupyter-widgets/controls",
      "model_module_version": "1.5.0",
      "model_name": "DescriptionStyleModel",
      "state": {
       "description_width": "initial"
      }
     },
     "20359c9d10594dfb8c5223357dd06cdc": {
      "model_module": "@jupyter-widgets/base",
      "model_module_version": "1.2.0",
      "model_name": "LayoutModel",
      "state": {}
     },
     "203a2cc3714a4b87a2d83035e8ca2ea2": {
      "model_module": "@jupyter-widgets/controls",
      "model_module_version": "1.5.0",
      "model_name": "ButtonStyleModel",
      "state": {}
     },
     "20828e41afbe41eb9033e3440116bff6": {
      "model_module": "@jupyter-widgets/controls",
      "model_module_version": "1.5.0",
      "model_name": "ButtonStyleModel",
      "state": {}
     },
     "212da42f6aa54b1f8dfb19ba7e6c2206": {
      "model_module": "@jupyter-widgets/controls",
      "model_module_version": "1.5.0",
      "model_name": "CheckboxModel",
      "state": {
       "description": "Der Artikel übernimmt die Genusmarkierung.",
       "disabled": false,
       "layout": "IPY_MODEL_c1c482b8bd904ee28114ebfa53aa6af5",
       "style": "IPY_MODEL_eecd118f6b974050b7677c5c9e13e74f",
       "value": false
      }
     },
     "218bef02448e4a1da1b9399280a67312": {
      "model_module": "@jupyter-widgets/controls",
      "model_module_version": "1.5.0",
      "model_name": "VBoxModel",
      "state": {
       "children": [
        "IPY_MODEL_6e8eb4ba06004baea807b0ed8217c6b4",
        "IPY_MODEL_b38ae73f930f43fa9d09017c7f1bf2f4",
        "IPY_MODEL_d25562feda6a46e7a868d02e0de3dcaf",
        "IPY_MODEL_3e123440317f497ba14059b57239537b"
       ],
       "layout": "IPY_MODEL_b2bb77499e144cfe91df4d432b87c3fd"
      }
     },
     "218f6a702e864d5086bbc268fb090014": {
      "model_module": "@jupyter-widgets/controls",
      "model_module_version": "1.5.0",
      "model_name": "HTMLModel",
      "state": {
       "layout": "IPY_MODEL_3530fa374b274edd82f366a5b6834b28",
       "style": "IPY_MODEL_1d02a7f3d1ff4907980f8c8f29f8550b",
       "value": "<i>Wählen Sie die <ins>eine</ins> korrekte Antwort aus: </i>"
      }
     },
     "21ad7db78e0b438aab2f1056183a58d9": {
      "model_module": "@jupyter-widgets/controls",
      "model_module_version": "1.5.0",
      "model_name": "HTMLModel",
      "state": {
       "layout": "IPY_MODEL_d82d718a66204fd3adfbd78bf025c34f",
       "style": "IPY_MODEL_b7aac8681cae4851ba064c587acdb963",
       "value": "<i>Wählen Sie die <ins>eine</ins> korrekte Antwort aus: </i>"
      }
     },
     "21adc0931b484f829bfc96a53cef95e9": {
      "model_module": "@jupyter-widgets/controls",
      "model_module_version": "1.5.0",
      "model_name": "HTMLModel",
      "state": {
       "layout": "IPY_MODEL_fb38e109a3dd414fbe7611e2c69b01f9",
       "style": "IPY_MODEL_fb5791ba7f60461ebc2035315b24b880",
       "value": "<i>Wählen Sie die <ins>eine</ins> korrekte Antwort aus: </i>"
      }
     },
     "21d1754b8800432f8e408ce89db803ec": {
      "model_module": "@jupyter-widgets/controls",
      "model_module_version": "1.5.0",
      "model_name": "CheckboxModel",
      "state": {
       "description": "FS0 = [CAT = DET], FS1 = [CAT = N, GEN = MASK]",
       "disabled": false,
       "layout": "IPY_MODEL_ff7449d3e0c348e7af95eec257519b75",
       "style": "IPY_MODEL_a5615e9390fe47d699b52d5e17479de9",
       "value": false
      }
     },
     "2228d7f6a305450b8d26ecb67713f678": {
      "model_module": "@jupyter-widgets/controls",
      "model_module_version": "1.5.0",
      "model_name": "DescriptionStyleModel",
      "state": {
       "description_width": ""
      }
     },
     "22754ebd55b04f72a1484baeffe38c76": {
      "model_module": "@jupyter-widgets/controls",
      "model_module_version": "1.5.0",
      "model_name": "ButtonModel",
      "state": {
       "description": "starke Deklination",
       "layout": "IPY_MODEL_0741d867d6274f7585d8c02662d1748d",
       "style": "IPY_MODEL_d1dfa822156d4343b1a3bcd52b8e9ef9"
      }
     },
     "2295ed56c03a4d9dbb6c71abc4737ad9": {
      "model_module": "@jupyter-widgets/base",
      "model_module_version": "1.2.0",
      "model_name": "LayoutModel",
      "state": {
       "width": "600px"
      }
     },
     "229a9c8d674a4a7bb4774b4128d7dbba": {
      "model_module": "@jupyter-widgets/controls",
      "model_module_version": "1.5.0",
      "model_name": "ButtonStyleModel",
      "state": {}
     },
     "22a5cdefcda54bfd9b7f1e98bfa5d692": {
      "model_module": "@jupyter-widgets/controls",
      "model_module_version": "1.5.0",
      "model_name": "DescriptionStyleModel",
      "state": {
       "description_width": ""
      }
     },
     "22b0dc484d164681a2f05f971af89581": {
      "model_module": "@jupyter-widgets/controls",
      "model_module_version": "1.5.0",
      "model_name": "DescriptionStyleModel",
      "state": {
       "description_width": "initial"
      }
     },
     "22e16fdb31344012a0c5f5c42592ccaa": {
      "model_module": "@jupyter-widgets/base",
      "model_module_version": "1.2.0",
      "model_name": "LayoutModel",
      "state": {}
     },
     "232de214336e4ca091448a9e309b77bc": {
      "model_module": "@jupyter-widgets/base",
      "model_module_version": "1.2.0",
      "model_name": "LayoutModel",
      "state": {}
     },
     "2339755e4039477aa44f72137add54c1": {
      "model_module": "@jupyter-widgets/base",
      "model_module_version": "1.2.0",
      "model_name": "LayoutModel",
      "state": {}
     },
     "236390ff12c848df8c087440ff486557": {
      "model_module": "@jupyter-widgets/base",
      "model_module_version": "1.2.0",
      "model_name": "LayoutModel",
      "state": {}
     },
     "236addce0a9e4fc4ab352fb74a1d0314": {
      "model_module": "@jupyter-widgets/controls",
      "model_module_version": "1.5.0",
      "model_name": "DescriptionStyleModel",
      "state": {
       "description_width": "initial"
      }
     },
     "23734104a2174d9db13637f4b8a49ed3": {
      "model_module": "@jupyter-widgets/controls",
      "model_module_version": "1.5.0",
      "model_name": "ButtonStyleModel",
      "state": {}
     },
     "237f12cb9c544502897be6dc3d6030c9": {
      "model_module": "@jupyter-widgets/controls",
      "model_module_version": "1.5.0",
      "model_name": "CheckboxModel",
      "state": {
       "description": "FS0 = [CAT = N, GEN = FEM], FS1 = [CAT = DET, GEN = FEM]",
       "disabled": false,
       "layout": "IPY_MODEL_30cbfa9ccb3d47798aee1064a5766fcf",
       "style": "IPY_MODEL_09d1e5d7bc074ac8907a539ea2000539",
       "value": false
      }
     },
     "23807e3abb5948b18ab740ab5f520d67": {
      "model_module": "@jupyter-widgets/controls",
      "model_module_version": "1.5.0",
      "model_name": "DescriptionStyleModel",
      "state": {
       "description_width": ""
      }
     },
     "23d3437076e24df48db116e8ae92a7d6": {
      "model_module": "@jupyter-widgets/base",
      "model_module_version": "1.2.0",
      "model_name": "LayoutModel",
      "state": {
       "width": "600px"
      }
     },
     "23e6999536df480a9563cd3b8c30144b": {
      "model_module": "@jupyter-widgets/controls",
      "model_module_version": "1.5.0",
      "model_name": "HTMLModel",
      "state": {
       "layout": "IPY_MODEL_76034b548ad44d1a826b591193fed6e6",
       "style": "IPY_MODEL_5ef5f0397e6a4007b59224bb4a6e3122",
       "value": "<h4 style=\"font-size:14px;\">Um welchen Faktor erhöht sich die Regelanzahl, wenn man Kongruenz (Agreement) in Numerus und Person durch Integration von Merkmalen in die Kategoriensymbole einer CFG modelliert (S → NP_1_SG VP_1_SG usw.)?</h4>"
      }
     },
     "240564d302dc4f8eafdfc6c8e4c6afd8": {
      "model_module": "@jupyter-widgets/base",
      "model_module_version": "1.2.0",
      "model_name": "LayoutModel",
      "state": {
       "width": "600px"
      }
     },
     "241501392b8449998b3416c11aaad871": {
      "model_module": "@jupyter-widgets/base",
      "model_module_version": "1.2.0",
      "model_name": "LayoutModel",
      "state": {}
     },
     "24346899c81c4caba1ab10c0871ddd51": {
      "model_module": "@jupyter-widgets/base",
      "model_module_version": "1.2.0",
      "model_name": "LayoutModel",
      "state": {}
     },
     "243613bf799245329ae385c652e684ed": {
      "model_module": "@jupyter-widgets/controls",
      "model_module_version": "1.5.0",
      "model_name": "CheckboxModel",
      "state": {
       "description": "Perspektivierung",
       "disabled": false,
       "layout": "IPY_MODEL_b145316aa5534408be13d949406772de",
       "style": "IPY_MODEL_8208db317d7a4a2f88ded0ce42f5676c",
       "value": false
      }
     },
     "243e07174d304193ab095e1eb848e80b": {
      "model_module": "@jupyter-widgets/base",
      "model_module_version": "1.2.0",
      "model_name": "LayoutModel",
      "state": {
       "width": "250px"
      }
     },
     "24412e10ab3440a49331257cbf7ab950": {
      "model_module": "@jupyter-widgets/controls",
      "model_module_version": "1.5.0",
      "model_name": "DescriptionStyleModel",
      "state": {
       "description_width": "initial"
      }
     },
     "2456c17062774f1a97d61c8f664be27f": {
      "model_module": "@jupyter-widgets/base",
      "model_module_version": "1.2.0",
      "model_name": "LayoutModel",
      "state": {
       "justify_content": "center"
      }
     },
     "2459aaca3b6e4708971eb93c00a65374": {
      "model_module": "@jupyter-widgets/base",
      "model_module_version": "1.2.0",
      "model_name": "LayoutModel",
      "state": {}
     },
     "247e0ba6e7f945639e2c50c32c65cd09": {
      "model_module": "@jupyter-widgets/base",
      "model_module_version": "1.2.0",
      "model_name": "LayoutModel",
      "state": {
       "width": "600px"
      }
     },
     "2484e64acb4c46a8bf8b15921f508186": {
      "model_module": "@jupyter-widgets/controls",
      "model_module_version": "1.5.0",
      "model_name": "DropdownModel",
      "state": {
       "_options_labels": [
        "Adverbiale",
        "Nomen",
        "Personalpronomina",
        " "
       ],
       "index": 3,
       "layout": "IPY_MODEL_78c06521032446eebe53fb80fcb0dd42",
       "style": "IPY_MODEL_9fc364d8cab24955b0d2006cf811024e"
      }
     },
     "24a293454914469ead9bd9b59b4ba6b7": {
      "model_module": "@jupyter-widgets/controls",
      "model_module_version": "1.5.0",
      "model_name": "DescriptionStyleModel",
      "state": {
       "description_width": ""
      }
     },
     "24c06d37e07e4635b7aca910103600b9": {
      "model_module": "@jupyter-widgets/controls",
      "model_module_version": "1.5.0",
      "model_name": "CheckboxModel",
      "state": {
       "description": "?x",
       "disabled": false,
       "layout": "IPY_MODEL_7a7e1ca02b294eaf8cf70a28b934c538",
       "style": "IPY_MODEL_25799eaa7da643259cdc3c89a185ec09",
       "value": false
      }
     },
     "24cc9c416b314a8a9c4c60cb65bf212e": {
      "model_module": "@jupyter-widgets/controls",
      "model_module_version": "1.5.0",
      "model_name": "DescriptionStyleModel",
      "state": {
       "description_width": ""
      }
     },
     "25085ccd032a46b7b89f291727a9a26d": {
      "model_module": "@jupyter-widgets/controls",
      "model_module_version": "1.5.0",
      "model_name": "CheckboxModel",
      "state": {
       "description": "74; ( 'number', 'address')",
       "disabled": false,
       "layout": "IPY_MODEL_6798f6a36372417793976c905bede56a",
       "style": "IPY_MODEL_a61eb1c0f33f497789d5b6b1429ef482",
       "value": false
      }
     },
     "251d628c02d74fda9160ce30af05bce8": {
      "model_module": "@jupyter-widgets/controls",
      "model_module_version": "1.5.0",
      "model_name": "DescriptionStyleModel",
      "state": {
       "description_width": ""
      }
     },
     "2522e53a70a846348bfd66dc6b5a7e94": {
      "model_module": "@jupyter-widgets/controls",
      "model_module_version": "1.5.0",
      "model_name": "CheckboxModel",
      "state": {
       "description": "x?",
       "disabled": false,
       "layout": "IPY_MODEL_2295ed56c03a4d9dbb6c71abc4737ad9",
       "style": "IPY_MODEL_c34dc62d81e54879aa5967635727ea75",
       "value": false
      }
     },
     "2525b669e24c43cdbf27346f0d76e707": {
      "model_module": "@jupyter-widgets/base",
      "model_module_version": "1.2.0",
      "model_name": "LayoutModel",
      "state": {
       "width": "250px"
      }
     },
     "2557e34e9a294b668f2d5990907a6168": {
      "model_module": "@jupyter-widgets/base",
      "model_module_version": "1.2.0",
      "model_name": "LayoutModel",
      "state": {
       "width": "600px"
      }
     },
     "25741caa61e4438c90da177265146348": {
      "model_module": "@jupyter-widgets/controls",
      "model_module_version": "1.5.0",
      "model_name": "CheckboxModel",
      "state": {
       "description": "FS0 = [CAT = DET], FS1 = [CAT = N, GEN = MASK]",
       "disabled": false,
       "layout": "IPY_MODEL_c36a2e33abba41ffa3df4493b1424aae",
       "style": "IPY_MODEL_99413266124a4dbc9ced1358669cef03",
       "value": false
      }
     },
     "2577587966d642088f7c9ae0492d8a91": {
      "model_module": "@jupyter-widgets/controls",
      "model_module_version": "1.5.0",
      "model_name": "ButtonStyleModel",
      "state": {}
     },
     "25799eaa7da643259cdc3c89a185ec09": {
      "model_module": "@jupyter-widgets/controls",
      "model_module_version": "1.5.0",
      "model_name": "DescriptionStyleModel",
      "state": {
       "description_width": "initial"
      }
     },
     "257f9d0d9a0d40c89f31c7f6a1d2dbec": {
      "model_module": "@jupyter-widgets/controls",
      "model_module_version": "1.5.0",
      "model_name": "DescriptionStyleModel",
      "state": {
       "description_width": ""
      }
     },
     "2591095640674e5e936a36b083268c73": {
      "model_module": "@jupyter-widgets/controls",
      "model_module_version": "1.5.0",
      "model_name": "VBoxModel",
      "state": {
       "children": [
        "IPY_MODEL_bdddc1d51e8d42508a7fb812308ef26b",
        "IPY_MODEL_3e6be4df07bc4dd9942388b5da3aa7cb",
        "IPY_MODEL_afe38002c9154b27bf6945d03333b391",
        "IPY_MODEL_bc168906679a4e5d862ed4be5fc4e6e8"
       ],
       "layout": "IPY_MODEL_887599e2b3394c7d87a91773dbe152bf"
      }
     },
     "25ad8133812f44bba46712ac41be0d6c": {
      "model_module": "@jupyter-widgets/controls",
      "model_module_version": "1.5.0",
      "model_name": "DescriptionStyleModel",
      "state": {
       "description_width": ""
      }
     },
     "25b30a61b12e44139c83a8755a15bb33": {
      "model_module": "@jupyter-widgets/base",
      "model_module_version": "1.2.0",
      "model_name": "LayoutModel",
      "state": {
       "align_content": "stretch",
       "align_items": "stretch",
       "display": "inline-flex",
       "flex": "flex-grow",
       "flex_flow": "row wrap",
       "justify_content": "flex-start"
      }
     },
     "25e34d1815b8432fbdaa7a62959c8598": {
      "model_module": "@jupyter-widgets/base",
      "model_module_version": "1.2.0",
      "model_name": "LayoutModel",
      "state": {}
     },
     "25fb56c827c74f67a28f35796b751486": {
      "model_module": "@jupyter-widgets/controls",
      "model_module_version": "1.5.0",
      "model_name": "CheckboxModel",
      "state": {
       "description": "FS0 = [CAT = N, GEN = FEM], FS1 = [CAT = N, GEN = FEM]",
       "disabled": false,
       "layout": "IPY_MODEL_8592b99b1327471b9163ccfda06c571c",
       "style": "IPY_MODEL_e5c1a2b94cbb4955acd0c27d025bb692",
       "value": false
      }
     },
     "2600a772f23b4368ac6e3f44b7d55b1d": {
      "model_module": "@jupyter-widgets/controls",
      "model_module_version": "1.5.0",
      "model_name": "DescriptionStyleModel",
      "state": {
       "description_width": "initial"
      }
     },
     "2604c2f8ee55492a9497222c13792a74": {
      "model_module": "@jupyter-widgets/base",
      "model_module_version": "1.2.0",
      "model_name": "LayoutModel",
      "state": {}
     },
     "261cd8f02f534838866c752f20b5283d": {
      "model_module": "@jupyter-widgets/controls",
      "model_module_version": "1.5.0",
      "model_name": "ButtonStyleModel",
      "state": {}
     },
     "263da48a9f3e4d8ebfca0564d058faf2": {
      "model_module": "@jupyter-widgets/base",
      "model_module_version": "1.2.0",
      "model_name": "LayoutModel",
      "state": {}
     },
     "264062eb32b944b49c9d89d6ef6c2274": {
      "model_module": "@jupyter-widgets/base",
      "model_module_version": "1.2.0",
      "model_name": "LayoutModel",
      "state": {
       "width": "600px"
      }
     },
     "26506adba64e452e9286530b1e07d277": {
      "model_module": "@jupyter-widgets/controls",
      "model_module_version": "1.5.0",
      "model_name": "ButtonModel",
      "state": {
       "description": "Agens",
       "layout": "IPY_MODEL_2b998a51a0af4995b57bdd4699da5cca",
       "style": "IPY_MODEL_c4cec4dbf0154696a07584da0d3a7c0b"
      }
     },
     "26b3c234dc994e089332a7c312dd62c5": {
      "model_module": "@jupyter-widgets/base",
      "model_module_version": "1.2.0",
      "model_name": "LayoutModel",
      "state": {
       "width": "600px"
      }
     },
     "26c0636dc21643fe88cbdec3e96c0094": {
      "model_module": "@jupyter-widgets/controls",
      "model_module_version": "1.5.0",
      "model_name": "DescriptionStyleModel",
      "state": {
       "description_width": ""
      }
     },
     "26c62db8402a439ead439371d58a5cd4": {
      "model_module": "@jupyter-widgets/controls",
      "model_module_version": "1.5.0",
      "model_name": "DescriptionStyleModel",
      "state": {
       "description_width": "initial"
      }
     },
     "26e2fe7ef1bd48c088ac0b1656c2fc47": {
      "model_module": "@jupyter-widgets/base",
      "model_module_version": "1.2.0",
      "model_name": "LayoutModel",
      "state": {
       "width": "600px"
      }
     },
     "26e40634819a41d69f0f6908e47d10e8": {
      "model_module": "@jupyter-widgets/base",
      "model_module_version": "1.2.0",
      "model_name": "LayoutModel",
      "state": {
       "width": "250px"
      }
     },
     "26e701e806844056a1be8c707cbe4dbf": {
      "model_module": "@jupyter-widgets/base",
      "model_module_version": "1.2.0",
      "model_name": "LayoutModel",
      "state": {}
     },
     "26f3444a47cb4ab5bd06fbf95f4a00b5": {
      "model_module": "@jupyter-widgets/controls",
      "model_module_version": "1.5.0",
      "model_name": "HTMLModel",
      "state": {
       "layout": "IPY_MODEL_e49dc89c42d24a5fbd682e3ec0f51fa5",
       "style": "IPY_MODEL_1a171622e8d14260b9947f513c155cff",
       "value": "<i>Wählen Sie die <ins>eine</ins> korrekte Antwort aus: </i>"
      }
     },
     "27021e94cfd24ccc9d3d2d8db9a4fbab": {
      "model_module": "@jupyter-widgets/controls",
      "model_module_version": "1.5.0",
      "model_name": "DescriptionStyleModel",
      "state": {
       "description_width": "initial"
      }
     },
     "27109f6f91dc486088a1c83a70811b49": {
      "model_module": "@jupyter-widgets/base",
      "model_module_version": "1.2.0",
      "model_name": "LayoutModel",
      "state": {
       "justify_content": "center"
      }
     },
     "27a718fe45bf467d89a573cf2eb29808": {
      "model_module": "@jupyter-widgets/controls",
      "model_module_version": "1.5.0",
      "model_name": "HTMLModel",
      "state": {
       "layout": "IPY_MODEL_5db2725c946c4ce2ac87ff3a1dbea2a4",
       "style": "IPY_MODEL_11bddb778e3c4f4dac2f5dda3470394c",
       "value": "<h4 style=\"font-size:14px;\">In Verbindung mit einem</h4>"
      }
     },
     "27aae08649f049bd9916b39e824477a1": {
      "model_module": "@jupyter-widgets/base",
      "model_module_version": "1.2.0",
      "model_name": "LayoutModel",
      "state": {}
     },
     "27abe93ecd5c4ed39b87695a51cef0e7": {
      "model_module": "@jupyter-widgets/base",
      "model_module_version": "1.2.0",
      "model_name": "LayoutModel",
      "state": {}
     },
     "27c985f45bf443178cbb4186f936b024": {
      "model_module": "@jupyter-widgets/controls",
      "model_module_version": "1.5.0",
      "model_name": "HTMLModel",
      "state": {
       "layout": "IPY_MODEL_e04e1267d97042d881567247a4e2375c",
       "style": "IPY_MODEL_e5f3de54999045ad87dbc68faa0e986d",
       "value": "<h4 style=\"font-size:14px;\">Wie läßt sich im NLTK ein äquivalenter Pfad definieren?</h4>"
      }
     },
     "27d402c936294567a924974a7b701faf": {
      "model_module": "@jupyter-widgets/controls",
      "model_module_version": "1.5.0",
      "model_name": "ButtonStyleModel",
      "state": {}
     },
     "288a5d294d66448faea08920746126e2": {
      "model_module": "@jupyter-widgets/base",
      "model_module_version": "1.2.0",
      "model_name": "LayoutModel",
      "state": {
       "width": "600px"
      }
     },
     "288d312b384a42c58c6d62dc3064f6c1": {
      "model_module": "@jupyter-widgets/controls",
      "model_module_version": "1.5.0",
      "model_name": "ButtonModel",
      "state": {
       "description": "stack",
       "layout": "IPY_MODEL_de223d7491514616b1d90364b296a63d",
       "style": "IPY_MODEL_e999eaa7d6a3411eb12e0af4138e3655"
      }
     },
     "2890202d0c804a12a1e98379ae457152": {
      "model_module": "@jupyter-widgets/base",
      "model_module_version": "1.2.0",
      "model_name": "LayoutModel",
      "state": {
       "justify_content": "center"
      }
     },
     "28a60cae67544ce0ad5904171163f4ac": {
      "model_module": "@jupyter-widgets/controls",
      "model_module_version": "1.5.0",
      "model_name": "VBoxModel",
      "state": {
       "children": [
        "IPY_MODEL_820c3b75b2f74cb98d474bed53ad38d1",
        "IPY_MODEL_b16dc67f7a844a3f8aeb445768e615be",
        "IPY_MODEL_5d876972e9a3491fa9b7db53ccfad4cd"
       ],
       "layout": "IPY_MODEL_700c5317e7584bbd8d6a72fcfd6a09d7"
      }
     },
     "28ea942f471e46e49bac06ed82c23af0": {
      "model_module": "@jupyter-widgets/base",
      "model_module_version": "1.2.0",
      "model_name": "LayoutModel",
      "state": {
       "width": "600px"
      }
     },
     "2927fd7e7b9647bea4f77333d80f9d85": {
      "model_module": "@jupyter-widgets/controls",
      "model_module_version": "1.5.0",
      "model_name": "HTMLModel",
      "state": {
       "layout": "IPY_MODEL_4afdda77d7d34afca83c68a00ecf2f75",
       "style": "IPY_MODEL_7fe53241847442609cc889a147eac89d",
       "value": "<i>Wählen Sie die <ins>eine</ins> korrekte Antwort aus: </i>"
      }
     },
     "295642a7261a4c5f982b176a38dc04c4": {
      "model_module": "@jupyter-widgets/controls",
      "model_module_version": "1.5.0",
      "model_name": "DescriptionStyleModel",
      "state": {
       "description_width": "initial"
      }
     },
     "29650848325f4377b2c3f864696dbd29": {
      "model_module": "@jupyter-widgets/controls",
      "model_module_version": "1.5.0",
      "model_name": "CheckboxModel",
      "state": {
       "description": "Variable: <- (1)",
       "disabled": false,
       "layout": "IPY_MODEL_0f39dda775154c828becd49fa3f0b941",
       "style": "IPY_MODEL_ab54b6891f7e4861bae1ff85eea8f931",
       "value": false
      }
     },
     "296dd18c18fa42ffa208cc76ee22dc27": {
      "model_module": "@jupyter-widgets/controls",
      "model_module_version": "1.5.0",
      "model_name": "CheckboxModel",
      "state": {
       "description": "x!",
       "disabled": false,
       "layout": "IPY_MODEL_d6156b60bef74166b521d9c18dafb9d0",
       "style": "IPY_MODEL_9499d465ac7848b9b1099f52d0fe8917",
       "value": false
      }
     },
     "29857bdfecf84ecbb4c9647feee6a07d": {
      "model_module": "@jupyter-widgets/controls",
      "model_module_version": "1.5.0",
      "model_name": "DescriptionStyleModel",
      "state": {
       "description_width": ""
      }
     },
     "29cc9e64da164323bb5cf1ad3cf17c13": {
      "model_module": "@jupyter-widgets/controls",
      "model_module_version": "1.5.0",
      "model_name": "HBoxModel",
      "state": {
       "children": [
        "IPY_MODEL_64f933f70c954957bf52bc66d7dce962"
       ],
       "layout": "IPY_MODEL_f582f148d50e4364b8dd11370666be3d"
      }
     },
     "29e518655cd84337876d5e87c1ff34f3": {
      "model_module": "@jupyter-widgets/controls",
      "model_module_version": "1.5.0",
      "model_name": "DescriptionStyleModel",
      "state": {
       "description_width": ""
      }
     },
     "2a1747e356eb45619088bde32e55e014": {
      "model_module": "@jupyter-widgets/controls",
      "model_module_version": "1.5.0",
      "model_name": "CheckboxModel",
      "state": {
       "description": "!x",
       "disabled": false,
       "layout": "IPY_MODEL_d4641712a5ea4c31acbbdda423521078",
       "style": "IPY_MODEL_a67fea0e5e3e405792fb62f76dc5a876",
       "value": false
      }
     },
     "2a1d42c9b46a469b98a880fde6424c7a": {
      "model_module": "@jupyter-widgets/base",
      "model_module_version": "1.2.0",
      "model_name": "LayoutModel",
      "state": {
       "justify_content": "center"
      }
     },
     "2a25515ab4704c04b7a0b6e5dc8993a9": {
      "model_module": "@jupyter-widgets/base",
      "model_module_version": "1.2.0",
      "model_name": "LayoutModel",
      "state": {
       "width": "250px"
      }
     },
     "2a4c066bada442918382491ea76b70db": {
      "model_module": "@jupyter-widgets/base",
      "model_module_version": "1.2.0",
      "model_name": "LayoutModel",
      "state": {
       "width": "500px"
      }
     },
     "2a70ff2ae0b843d0b56150bec8dac770": {
      "model_module": "@jupyter-widgets/base",
      "model_module_version": "1.2.0",
      "model_name": "LayoutModel",
      "state": {}
     },
     "2a8693ce7e864c7d8d178f2d3702eb65": {
      "model_module": "@jupyter-widgets/controls",
      "model_module_version": "1.5.0",
      "model_name": "DescriptionStyleModel",
      "state": {
       "description_width": "initial"
      }
     },
     "2ac07b8e86ee462c92d75e032a958f1a": {
      "model_module": "@jupyter-widgets/controls",
      "model_module_version": "1.5.0",
      "model_name": "DescriptionStyleModel",
      "state": {
       "description_width": ""
      }
     },
     "2b08f428e8894ffa8d7075c12097e4de": {
      "model_module": "@jupyter-widgets/controls",
      "model_module_version": "1.5.0",
      "model_name": "DescriptionStyleModel",
      "state": {
       "description_width": ""
      }
     },
     "2b0f671772394f238e491a7042b0ba25": {
      "model_module": "@jupyter-widgets/base",
      "model_module_version": "1.2.0",
      "model_name": "LayoutModel",
      "state": {}
     },
     "2b5b6a1373ab44cdb7eda20a6097a047": {
      "model_module": "@jupyter-widgets/base",
      "model_module_version": "1.2.0",
      "model_name": "LayoutModel",
      "state": {
       "justify_content": "center"
      }
     },
     "2b998a51a0af4995b57bdd4699da5cca": {
      "model_module": "@jupyter-widgets/base",
      "model_module_version": "1.2.0",
      "model_name": "LayoutModel",
      "state": {
       "width": "250px"
      }
     },
     "2bc06cdc5b974b6b82dd3ae18ae1ada2": {
      "model_module": "@jupyter-widgets/base",
      "model_module_version": "1.2.0",
      "model_name": "LayoutModel",
      "state": {
       "width": "250px"
      }
     },
     "2bcf6c8498684eccbbc30190918c9359": {
      "model_module": "@jupyter-widgets/controls",
      "model_module_version": "1.5.0",
      "model_name": "VBoxModel",
      "state": {
       "children": [
        "IPY_MODEL_34db522eb3484ae595ce7ade8890441c",
        "IPY_MODEL_10c16b80c711439693812defd5cce921",
        "IPY_MODEL_b8aa3152bd9040c6aa5253f969e38ef2"
       ],
       "layout": "IPY_MODEL_558a844205eb4cc2983d9186bbd37c6f"
      }
     },
     "2c4c84804f89494ba9fb41d1fefe77e0": {
      "model_module": "@jupyter-widgets/controls",
      "model_module_version": "1.5.0",
      "model_name": "ButtonModel",
      "state": {
       "description": "Nein",
       "layout": "IPY_MODEL_12b24f0587fd44b6abd518669ea66f48",
       "style": "IPY_MODEL_b4a2270208a34c71acc164f4df1b1511"
      }
     },
     "2cd8f2fe15134ae7be36807a3af92494": {
      "model_module": "@jupyter-widgets/controls",
      "model_module_version": "1.5.0",
      "model_name": "DropdownModel",
      "state": {
       "_options_labels": [
        "1",
        "10",
        "2",
        "4",
        "6",
        "8",
        "Keine der Alternativen"
       ],
       "description": "Antwort:",
       "index": 0,
       "layout": "IPY_MODEL_bd2b2ffbbfc24762beb8dac532d09e80",
       "style": "IPY_MODEL_29857bdfecf84ecbb4c9647feee6a07d"
      }
     },
     "2d1495860fd94724b574012086f88896": {
      "model_module": "@jupyter-widgets/controls",
      "model_module_version": "1.5.0",
      "model_name": "CheckboxModel",
      "state": {
       "description": "Sie werden im Vorhinein deklariert (feature lexicon)",
       "disabled": false,
       "layout": "IPY_MODEL_6f25e45bec8c49b7a510270dde7a6af1",
       "style": "IPY_MODEL_689d3b10db1740a89aea1e128974e301",
       "value": false
      }
     },
     "2d56e1808ef849c38ece5256048d29f2": {
      "model_module": "@jupyter-widgets/controls",
      "model_module_version": "1.5.0",
      "model_name": "HTMLModel",
      "state": {
       "layout": "IPY_MODEL_edd9f0415d954b7fb1937d6129f6eebf",
       "style": "IPY_MODEL_2b08f428e8894ffa8d7075c12097e4de",
       "value": "<i>Markieren Sie <ins>alle</ins> passenden Antworten: </i>"
      }
     },
     "2d609ac6854445c5a68e36b83179a983": {
      "model_module": "@jupyter-widgets/base",
      "model_module_version": "1.2.0",
      "model_name": "LayoutModel",
      "state": {
       "width": "600px"
      }
     },
     "2d64bfaafc9646dd86aeddff5d488f6c": {
      "model_module": "@jupyter-widgets/controls",
      "model_module_version": "1.5.0",
      "model_name": "ButtonStyleModel",
      "state": {}
     },
     "2da4728e2a6d4119868fc3153eca1814": {
      "model_module": "@jupyter-widgets/controls",
      "model_module_version": "1.5.0",
      "model_name": "HBoxModel",
      "state": {
       "children": [
        "IPY_MODEL_1979dfb0e23e45c3bece3c3317fbc176",
        "IPY_MODEL_63630169a86a468ba90cf0bf7991d9f7"
       ],
       "layout": "IPY_MODEL_3571ca88c24f412da566724c00eb50f6"
      }
     },
     "2db38a6e04904c76bc0180cf26fe4358": {
      "model_module": "@jupyter-widgets/base",
      "model_module_version": "1.2.0",
      "model_name": "LayoutModel",
      "state": {}
     },
     "2dedf03851ae42da8c6e7d7311c4e285": {
      "model_module": "@jupyter-widgets/controls",
      "model_module_version": "1.5.0",
      "model_name": "CheckboxModel",
      "state": {
       "description": "FS0 = [CAT = N, GEN = MASK], FS1 = [CAT = N]",
       "disabled": false,
       "layout": "IPY_MODEL_bfa34a678c064297802a70fd8efe6c34",
       "style": "IPY_MODEL_e39bff97174d43b79b3b4fa2dae95a4b",
       "value": false
      }
     },
     "2df0a7f1a3e84cc390bea57bcd33cd85": {
      "model_module": "@jupyter-widgets/controls",
      "model_module_version": "1.5.0",
      "model_name": "HTMLModel",
      "state": {
       "layout": "IPY_MODEL_31234b2c7bf84bcaacbe271748be50b1",
       "style": "IPY_MODEL_37dd3df180cd4b4a95780af2fd44d97d",
       "value": "<h4 style=\"font-size:14px;\">Welche kommunikativ-funktionalen Unterschiede bestehen?</h4>"
      }
     },
     "2df8217f10294e56b5dac3495549cdd9": {
      "model_module": "@jupyter-widgets/base",
      "model_module_version": "1.2.0",
      "model_name": "LayoutModel",
      "state": {}
     },
     "2dfc292610d24f5fbacd3ffb120fd0c2": {
      "model_module": "@jupyter-widgets/controls",
      "model_module_version": "1.5.0",
      "model_name": "HTMLModel",
      "state": {
       "layout": "IPY_MODEL_c2c640de14ae4065a39f8dd7187a8d0f",
       "style": "IPY_MODEL_4c2a090fec2d45308e7012d4b459c182",
       "value": "<i>Markieren Sie <ins>alle</ins> passenden Antworten: </i>"
      }
     },
     "2e0e97ecac62474eb9160a88df37a27c": {
      "model_module": "@jupyter-widgets/base",
      "model_module_version": "1.2.0",
      "model_name": "LayoutModel",
      "state": {
       "width": "600px"
      }
     },
     "2e2fb29eaf474f319f04317921611548": {
      "model_module": "@jupyter-widgets/base",
      "model_module_version": "1.2.0",
      "model_name": "LayoutModel",
      "state": {
       "width": "600px"
      }
     },
     "2e4bd1937ec04696b0042b5e356639f0": {
      "model_module": "@jupyter-widgets/controls",
      "model_module_version": "1.5.0",
      "model_name": "ButtonModel",
      "state": {
       "description": "Korrekt?",
       "layout": "IPY_MODEL_fbeda6ff18754d5d8552778758f23c1b",
       "style": "IPY_MODEL_5fe47843afb846e39225c7edd750bcae"
      }
     },
     "2e4e8de782794f0d83a906fc46f76058": {
      "model_module": "@jupyter-widgets/controls",
      "model_module_version": "1.5.0",
      "model_name": "DescriptionStyleModel",
      "state": {
       "description_width": ""
      }
     },
     "2ebb5d6132cc478eb5e0ed7e8f91f351": {
      "model_module": "@jupyter-widgets/controls",
      "model_module_version": "1.5.0",
      "model_name": "ButtonModel",
      "state": {
       "description": "Korrekt?",
       "layout": "IPY_MODEL_4c00c7ad8ec64e4290052103c5d20b2d",
       "style": "IPY_MODEL_0e1c32cc8a724c7e9f18b21f531c44f4"
      }
     },
     "2eda123f582142a08c5be67de26487fa": {
      "model_module": "@jupyter-widgets/controls",
      "model_module_version": "1.5.0",
      "model_name": "DescriptionStyleModel",
      "state": {
       "description_width": ""
      }
     },
     "2f6366744fac4fab807b98188ef39b81": {
      "model_module": "@jupyter-widgets/controls",
      "model_module_version": "1.5.0",
      "model_name": "CheckboxModel",
      "state": {
       "description": "Subjekt-Demotion zu Adverbial",
       "disabled": false,
       "layout": "IPY_MODEL_403af8bae6654492b36cc110558e1be7",
       "style": "IPY_MODEL_052e75bb23294d37a97778f6331fcb3f",
       "value": false
      }
     },
     "2fba6874fa354cd29eee00bce198e459": {
      "model_module": "@jupyter-widgets/controls",
      "model_module_version": "1.5.0",
      "model_name": "CheckboxModel",
      "state": {
       "description": "Es muss immer ein Agens vorhanden sein.",
       "disabled": false,
       "layout": "IPY_MODEL_ab82233ba6c74211a990ddc09c3aa560",
       "style": "IPY_MODEL_0832b97d33a94a9fba95064634d7b9fb",
       "value": false
      }
     },
     "2fba6b2d736b401e9b7f5dff0ac75e84": {
      "model_module": "@jupyter-widgets/controls",
      "model_module_version": "1.5.0",
      "model_name": "DescriptionStyleModel",
      "state": {
       "description_width": "initial"
      }
     },
     "2fc11d2661954a088e016ccc897e03ce": {
      "model_module": "@jupyter-widgets/base",
      "model_module_version": "1.2.0",
      "model_name": "LayoutModel",
      "state": {
       "width": "600px"
      }
     },
     "2fd080822dce42b0af0794190902d247": {
      "model_module": "@jupyter-widgets/controls",
      "model_module_version": "1.5.0",
      "model_name": "ButtonModel",
      "state": {
       "description": "Korrekt?",
       "layout": "IPY_MODEL_00f6475b0018481baed4909c4c24f930",
       "style": "IPY_MODEL_b311a023fdb7420796f6ecf855eb8d01"
      }
     },
     "2fda78345d6340e9aa514b2e6f2ffee2": {
      "model_module": "@jupyter-widgets/base",
      "model_module_version": "1.2.0",
      "model_name": "LayoutModel",
      "state": {
       "width": "250px"
      }
     },
     "30040655cd5e4f33a6106d56cfc7de4b": {
      "model_module": "@jupyter-widgets/controls",
      "model_module_version": "1.5.0",
      "model_name": "CheckboxModel",
      "state": {
       "description": "Das Adjektiv übernimmt die Endungen des Artikels.",
       "disabled": false,
       "layout": "IPY_MODEL_772fa2e0c00f43a6931bbc8c56298fdc",
       "style": "IPY_MODEL_bc4953d1a51b4bc495bde9bfa6b18c7c",
       "value": true
      }
     },
     "30339d51566647639bc31abb2f8c573e": {
      "model_module": "@jupyter-widgets/controls",
      "model_module_version": "1.5.0",
      "model_name": "ButtonModel",
      "state": {
       "description": "Korrekt?",
       "layout": "IPY_MODEL_5b55ffeb096748c4ad38d94ae5895a96",
       "style": "IPY_MODEL_ae37ca940907453c8ddd84a8c7a38a4c"
      }
     },
     "304aa20b08cc4dd094ec92edb8b05d27": {
      "model_module": "@jupyter-widgets/controls",
      "model_module_version": "1.5.0",
      "model_name": "CheckboxModel",
      "state": {
       "description": "Passivierung (Objekt-Promotion)",
       "disabled": false,
       "layout": "IPY_MODEL_e8000a42da234ceea35e7b2e69c25eee",
       "style": "IPY_MODEL_5b80883920394e4ab4bd3116930adf1d",
       "value": false
      }
     },
     "306fb4f6e36049b3bc5fa2e65a9dedfc": {
      "model_module": "@jupyter-widgets/base",
      "model_module_version": "1.2.0",
      "model_name": "LayoutModel",
      "state": {
       "width": "250px"
      }
     },
     "309160261a2d4c378311843eed07a696": {
      "model_module": "@jupyter-widgets/base",
      "model_module_version": "1.2.0",
      "model_name": "LayoutModel",
      "state": {
       "justify_content": "center"
      }
     },
     "30a06eed95944611a6a252c3f9ca51c4": {
      "model_module": "@jupyter-widgets/controls",
      "model_module_version": "1.5.0",
      "model_name": "CheckboxModel",
      "state": {
       "description": "FS0 = [CAT = N, GEN = MASK], FS1 = [CAT = N]",
       "disabled": false,
       "layout": "IPY_MODEL_9072ad0ef589419397a2579ef7539379",
       "style": "IPY_MODEL_c31b1a2026e3473184bca953919ed0db",
       "value": false
      }
     },
     "30a8dc7806eb468180d43f1aa2f5c2f4": {
      "model_module": "@jupyter-widgets/controls",
      "model_module_version": "1.5.0",
      "model_name": "DescriptionStyleModel",
      "state": {
       "description_width": ""
      }
     },
     "30addaae1a154b7aae259da97d509577": {
      "model_module": "@jupyter-widgets/controls",
      "model_module_version": "1.5.0",
      "model_name": "HTMLModel",
      "state": {
       "layout": "IPY_MODEL_95603e319f3a4308a0c34ea3e3981512",
       "style": "IPY_MODEL_0080a966b1214a428b81d8ad22ed47c8",
       "value": "<h4 style=\"font-size:14px;\">Für die Deklination ist hier relevant, ob das Adjektiv mit einem ____________ Artikel auftritt oder nicht.</h4>"
      }
     },
     "30b09797ab7447639dd091ecd5fa615a": {
      "model_module": "@jupyter-widgets/base",
      "model_module_version": "1.2.0",
      "model_name": "LayoutModel",
      "state": {
       "width": "600px"
      }
     },
     "30c53bf7ad4f41b2bd14520731dde6d0": {
      "model_module": "@jupyter-widgets/controls",
      "model_module_version": "1.5.0",
      "model_name": "CheckboxModel",
      "state": {
       "description": "Die Form vom Adjektiven hängt niemals von irgendeinem Genus ab.",
       "disabled": false,
       "layout": "IPY_MODEL_1acf1671e7e5446eacfd9929e6278cec",
       "style": "IPY_MODEL_44f36509d7ad4fa89cbe092b01bd6501",
       "value": false
      }
     },
     "30cbfa9ccb3d47798aee1064a5766fcf": {
      "model_module": "@jupyter-widgets/base",
      "model_module_version": "1.2.0",
      "model_name": "LayoutModel",
      "state": {
       "width": "600px"
      }
     },
     "30d8533fafbd4d218effac80627e7d2a": {
      "model_module": "@jupyter-widgets/base",
      "model_module_version": "1.2.0",
      "model_name": "LayoutModel",
      "state": {
       "width": "250px"
      }
     },
     "310c869dcd214838b862ab1510b8122a": {
      "model_module": "@jupyter-widgets/base",
      "model_module_version": "1.2.0",
      "model_name": "LayoutModel",
      "state": {}
     },
     "31234b2c7bf84bcaacbe271748be50b1": {
      "model_module": "@jupyter-widgets/base",
      "model_module_version": "1.2.0",
      "model_name": "LayoutModel",
      "state": {}
     },
     "31376298faf3460e91cca7fc87fc416c": {
      "model_module": "@jupyter-widgets/controls",
      "model_module_version": "1.5.0",
      "model_name": "HTMLModel",
      "state": {
       "layout": "IPY_MODEL_0a68735dcc1241e282b02eaa5cc9fe70",
       "style": "IPY_MODEL_b552ed3ea7914d90a8605f16f345cd24",
       "value": "<h4 style=\"font-size:14px;\">Im Falle, dass im Zuge einer Unifikation Informationen zum Wert eines Pfades x hinzugefügt werden, wie verändern sich die Werte aller zu x äquivalenten Pfade?</h4>"
      }
     },
     "313d11a7b52a4d4eab11da9705976611": {
      "model_module": "@jupyter-widgets/base",
      "model_module_version": "1.2.0",
      "model_name": "LayoutModel",
      "state": {
       "width": "600px"
      }
     },
     "3145f20155694181a577b9bcfc2cd0e4": {
      "model_module": "@jupyter-widgets/base",
      "model_module_version": "1.2.0",
      "model_name": "LayoutModel",
      "state": {
       "width": "250px"
      }
     },
     "3157fd83335f442d92776bc42ea563fa": {
      "model_module": "@jupyter-widgets/controls",
      "model_module_version": "1.5.0",
      "model_name": "DescriptionStyleModel",
      "state": {
       "description_width": "initial"
      }
     },
     "316c1b5b62bd4fdbb380f5d439ea77f2": {
      "model_module": "@jupyter-widgets/controls",
      "model_module_version": "1.5.0",
      "model_name": "ButtonModel",
      "state": {
       "description": "Recipient",
       "layout": "IPY_MODEL_13c5db5f242e4752aaafb3be4493abe0",
       "style": "IPY_MODEL_d19dfb40cbe64c859f46c7975b049697"
      }
     },
     "31a5275b6b064b4988bda9c581d1f6bc": {
      "model_module": "@jupyter-widgets/controls",
      "model_module_version": "1.5.0",
      "model_name": "HBoxModel",
      "state": {
       "children": [
        "IPY_MODEL_b5df91d04c1d42e1abb87c6b6b8b4c56",
        "IPY_MODEL_fcb53f3218d74ff08a1580ecc7e9ca0f"
       ],
       "layout": "IPY_MODEL_f343e9a046b24580b61d8213eb95a9a0"
      }
     },
     "31d16687b3d0449da11eba2fbb18499f": {
      "model_module": "@jupyter-widgets/controls",
      "model_module_version": "1.5.0",
      "model_name": "ButtonModel",
      "state": {
       "description": "Korrekt?",
       "layout": "IPY_MODEL_f538df92beae4714a7e30940e92a8c30",
       "style": "IPY_MODEL_3fbd747bd12e48d5af12694cbe2a6ccb"
      }
     },
     "320845e8c3924519bbc036659d6968d2": {
      "model_module": "@jupyter-widgets/base",
      "model_module_version": "1.2.0",
      "model_name": "LayoutModel",
      "state": {
       "justify_content": "center"
      }
     },
     "320e3493b3384488a4b022048ea9e5f9": {
      "model_module": "@jupyter-widgets/controls",
      "model_module_version": "1.5.0",
      "model_name": "DescriptionStyleModel",
      "state": {
       "description_width": "initial"
      }
     },
     "322c991164324075a348a6644fb08ea7": {
      "model_module": "@jupyter-widgets/base",
      "model_module_version": "1.2.0",
      "model_name": "LayoutModel",
      "state": {}
     },
     "324420fc0bab4294abfd874a2ac2ddfa": {
      "model_module": "@jupyter-widgets/controls",
      "model_module_version": "1.5.0",
      "model_name": "ButtonStyleModel",
      "state": {}
     },
     "324a0de4227e4c99a7db0dc4b3376542": {
      "model_module": "@jupyter-widgets/controls",
      "model_module_version": "1.5.0",
      "model_name": "ButtonStyleModel",
      "state": {}
     },
     "326024464564428ab9b7c0ff925b81fc": {
      "model_module": "@jupyter-widgets/controls",
      "model_module_version": "1.5.0",
      "model_name": "DescriptionStyleModel",
      "state": {
       "description_width": ""
      }
     },
     "32bb4eb4cd2b4ea28be03573ac3c311f": {
      "model_module": "@jupyter-widgets/controls",
      "model_module_version": "1.5.0",
      "model_name": "CheckboxModel",
      "state": {
       "description": "74; ('address', 'number')",
       "disabled": false,
       "layout": "IPY_MODEL_9cec89ff608c46009bf19f46a18b4232",
       "style": "IPY_MODEL_7dadc183038f42828700a51db4be4413",
       "value": false
      }
     },
     "32bfa5e4aa574508bf4c4afd9ae487a2": {
      "model_module": "@jupyter-widgets/controls",
      "model_module_version": "1.5.0",
      "model_name": "HTMLModel",
      "state": {
       "layout": "IPY_MODEL_cd95570db0404145865f855de36073f0",
       "style": "IPY_MODEL_14c06ff5d8e74264952bed1882f125ce",
       "value": "<h4 style=\"font-size:14px;\">Wie läßt sich im NLTK ein äquivalenter Pfad definieren?</h4>"
      }
     },
     "32c225e325494f0e84a9355bb5ee6a7f": {
      "model_module": "@jupyter-widgets/base",
      "model_module_version": "1.2.0",
      "model_name": "LayoutModel",
      "state": {
       "width": "250px"
      }
     },
     "32cde3215e144a4fb6f74990945bbd69": {
      "model_module": "@jupyter-widgets/controls",
      "model_module_version": "1.5.0",
      "model_name": "CheckboxModel",
      "state": {
       "description": "Das Adjektiv übernimmt die Endungen des Artikels.",
       "disabled": false,
       "layout": "IPY_MODEL_0c8ca98b37fc4046881a5f4cf1156507",
       "style": "IPY_MODEL_ac32b11066ee49dfb9521a50dadc81d9",
       "value": false
      }
     },
     "3300138eb47b4411a7123f292503be36": {
      "model_module": "@jupyter-widgets/base",
      "model_module_version": "1.2.0",
      "model_name": "LayoutModel",
      "state": {
       "justify_content": "center"
      }
     },
     "330d28bfee694ea886ff199b1ba9ea04": {
      "model_module": "@jupyter-widgets/base",
      "model_module_version": "1.2.0",
      "model_name": "LayoutModel",
      "state": {
       "justify_content": "center"
      }
     },
     "332b4eb619244d5aa1e4803a3f4e2c80": {
      "model_module": "@jupyter-widgets/base",
      "model_module_version": "1.2.0",
      "model_name": "LayoutModel",
      "state": {
       "width": "600px"
      }
     },
     "333db59e6db04a809864f93d8a24e333": {
      "model_module": "@jupyter-widgets/controls",
      "model_module_version": "1.5.0",
      "model_name": "HTMLModel",
      "state": {
       "layout": "IPY_MODEL_b809fbf1254a414d8559b1d2a0b3d063",
       "style": "IPY_MODEL_849656bf845c4dd68845764e7eaaa66e",
       "value": "<i>Markieren Sie <ins>alle</ins> passenden Antworten: </i>"
      }
     },
     "336617368ff2445e98e06ea1d41be3d4": {
      "model_module": "@jupyter-widgets/controls",
      "model_module_version": "1.5.0",
      "model_name": "DescriptionStyleModel",
      "state": {
       "description_width": ""
      }
     },
     "33664612120d403ca5e2f1dc775c13bc": {
      "model_module": "@jupyter-widgets/base",
      "model_module_version": "1.2.0",
      "model_name": "LayoutModel",
      "state": {
       "width": "600px"
      }
     },
     "336cd96f4db247c38b0d12a2bf67d7c4": {
      "model_module": "@jupyter-widgets/controls",
      "model_module_version": "1.5.0",
      "model_name": "ButtonModel",
      "state": {
       "description": "Korrekt?",
       "layout": "IPY_MODEL_4fb76190f8ce4c3eae6129796375c40f",
       "style": "IPY_MODEL_a87fac0285e647a5b86e6fd690accd7f"
      }
     },
     "33dbadf375704a139a0c6bf457e2ad84": {
      "model_module": "@jupyter-widgets/base",
      "model_module_version": "1.2.0",
      "model_name": "LayoutModel",
      "state": {}
     },
     "33eba43c8fad43d3bdf434d9d02bbc0a": {
      "model_module": "@jupyter-widgets/controls",
      "model_module_version": "1.5.0",
      "model_name": "DescriptionStyleModel",
      "state": {
       "description_width": ""
      }
     },
     "3429f5073b8c4071bb159f03489bc712": {
      "model_module": "@jupyter-widgets/controls",
      "model_module_version": "1.5.0",
      "model_name": "DescriptionStyleModel",
      "state": {
       "description_width": ""
      }
     },
     "345c0df848f84aea8f8167af72260e38": {
      "model_module": "@jupyter-widgets/controls",
      "model_module_version": "1.5.0",
      "model_name": "ButtonModel",
      "state": {
       "description": "starke Deklination",
       "layout": "IPY_MODEL_16caf918c6cb4a02924b0f48e6c54a72",
       "style": "IPY_MODEL_698b83c6f8ad4ec6b646a5c707a5e49e"
      }
     },
     "34823ee8fece4c8c8c9144cd41fedfa0": {
      "model_module": "@jupyter-widgets/base",
      "model_module_version": "1.2.0",
      "model_name": "LayoutModel",
      "state": {
       "width": "250px"
      }
     },
     "348a92ed15ce420795d38b720422e6d9": {
      "model_module": "@jupyter-widgets/base",
      "model_module_version": "1.2.0",
      "model_name": "LayoutModel",
      "state": {}
     },
     "34a8885d717343b0892d3c6eab084cd8": {
      "model_module": "@jupyter-widgets/base",
      "model_module_version": "1.2.0",
      "model_name": "LayoutModel",
      "state": {
       "width": "250px"
      }
     },
     "34c6698cf55f4340b7ba79cd6d285487": {
      "model_module": "@jupyter-widgets/controls",
      "model_module_version": "1.5.0",
      "model_name": "DescriptionStyleModel",
      "state": {
       "description_width": "initial"
      }
     },
     "34db522eb3484ae595ce7ade8890441c": {
      "model_module": "@jupyter-widgets/controls",
      "model_module_version": "1.5.0",
      "model_name": "CheckboxModel",
      "state": {
       "description": "Sie werden aktualisiert.",
       "disabled": false,
       "layout": "IPY_MODEL_4e6112394aff4dedb00c7646b7c79914",
       "style": "IPY_MODEL_13d426bbff6e4553aa8fe42176818bea",
       "value": false
      }
     },
     "34e5292b048c4e0ca5a8f05a729f6feb": {
      "model_module": "@jupyter-widgets/controls",
      "model_module_version": "1.5.0",
      "model_name": "CheckboxModel",
      "state": {
       "description": "Sie werden neu eingefügt.",
       "disabled": false,
       "layout": "IPY_MODEL_65abb636036e4334a87029469f19de0b",
       "style": "IPY_MODEL_969ea682eeff4a35aa8d11c85b03a2e2",
       "value": false
      }
     },
     "35011d241ada46ca94fb69bb05108574": {
      "model_module": "@jupyter-widgets/base",
      "model_module_version": "1.2.0",
      "model_name": "LayoutModel",
      "state": {}
     },
     "3530fa374b274edd82f366a5b6834b28": {
      "model_module": "@jupyter-widgets/base",
      "model_module_version": "1.2.0",
      "model_name": "LayoutModel",
      "state": {
       "justify_content": "center"
      }
     },
     "3533aba6625b4c2889a3d2e5f7b4b56e": {
      "model_module": "@jupyter-widgets/controls",
      "model_module_version": "1.5.0",
      "model_name": "HTMLModel",
      "state": {
       "layout": "IPY_MODEL_8dbca0eb14764892afc36d778d3d5331",
       "style": "IPY_MODEL_0abfead9e09543969698432b5a4ef5a1",
       "value": "<i>Markieren Sie <ins>alle</ins> passenden Antworten: </i>"
      }
     },
     "353c7017a6a04b91ad6066ed05dfadce": {
      "model_module": "@jupyter-widgets/controls",
      "model_module_version": "1.5.0",
      "model_name": "HTMLModel",
      "state": {
       "layout": "IPY_MODEL_e3fb42aeb5dd4e779b9f42d7831f3004",
       "style": "IPY_MODEL_42317e2fa01b422486e080e185d13bfc",
       "value": "<i>Markieren Sie <ins>alle</ins> passenden Antworten: </i>"
      }
     },
     "355edce1347d4d80a7988a815ffd993a": {
      "model_module": "@jupyter-widgets/base",
      "model_module_version": "1.2.0",
      "model_name": "LayoutModel",
      "state": {}
     },
     "3571ca88c24f412da566724c00eb50f6": {
      "model_module": "@jupyter-widgets/base",
      "model_module_version": "1.2.0",
      "model_name": "LayoutModel",
      "state": {}
     },
     "35898d9406ac40f786c3f968a4c89026": {
      "model_module": "@jupyter-widgets/base",
      "model_module_version": "1.2.0",
      "model_name": "LayoutModel",
      "state": {
       "width": "600px"
      }
     },
     "35ba16a6675e4b09b70ff41e3262b943": {
      "model_module": "@jupyter-widgets/controls",
      "model_module_version": "1.5.0",
      "model_name": "DescriptionStyleModel",
      "state": {
       "description_width": "initial"
      }
     },
     "35ba7e3e739942e0b9e524173ff256a0": {
      "model_module": "@jupyter-widgets/controls",
      "model_module_version": "1.5.0",
      "model_name": "DescriptionStyleModel",
      "state": {
       "description_width": ""
      }
     },
     "35c63962fb6f4e49a68489f5255f8483": {
      "model_module": "@jupyter-widgets/controls",
      "model_module_version": "1.5.0",
      "model_name": "DescriptionStyleModel",
      "state": {
       "description_width": ""
      }
     },
     "35ca58bb271d405085d255a06d5bef86": {
      "model_module": "@jupyter-widgets/base",
      "model_module_version": "1.2.0",
      "model_name": "LayoutModel",
      "state": {
       "width": "250px"
      }
     },
     "35d823400d5743678dc3ac0849db84b5": {
      "model_module": "@jupyter-widgets/controls",
      "model_module_version": "1.5.0",
      "model_name": "CheckboxModel",
      "state": {
       "description": "Die Form des Adjektivs ist in jedem Kasus unterschiedlich.",
       "disabled": false,
       "layout": "IPY_MODEL_b145ac09570043f18c99c7162cedf747",
       "style": "IPY_MODEL_3157fd83335f442d92776bc42ea563fa",
       "value": false
      }
     },
     "35ee82c42ea148bf9ff8dc5fe6618175": {
      "model_module": "@jupyter-widgets/controls",
      "model_module_version": "1.5.0",
      "model_name": "ButtonModel",
      "state": {
       "description": "bestimmten",
       "layout": "IPY_MODEL_30d8533fafbd4d218effac80627e7d2a",
       "style": "IPY_MODEL_6d5af446d8b841ce837f1c93e330b0fd"
      }
     },
     "36c2d87571bf47a5891c253d8788da5d": {
      "model_module": "@jupyter-widgets/controls",
      "model_module_version": "1.5.0",
      "model_name": "DescriptionStyleModel",
      "state": {
       "description_width": "initial"
      }
     },
     "36fef99e23f14eecb89aaa5bd8c86c0c": {
      "model_module": "@jupyter-widgets/controls",
      "model_module_version": "1.5.0",
      "model_name": "DescriptionStyleModel",
      "state": {
       "description_width": "initial"
      }
     },
     "374b8c27032d48efb1266866199f8c16": {
      "model_module": "@jupyter-widgets/base",
      "model_module_version": "1.2.0",
      "model_name": "LayoutModel",
      "state": {
       "width": "250px"
      }
     },
     "378d4f791e9e448e9a386f23cece2b88": {
      "model_module": "@jupyter-widgets/controls",
      "model_module_version": "1.5.0",
      "model_name": "ButtonModel",
      "state": {
       "description": "Korrekt?",
       "layout": "IPY_MODEL_1972375abc3a4b668bfb5ce92c4e7c44",
       "style": "IPY_MODEL_3bfbb511e96b456aa1f210ebc8949428"
      }
     },
     "37a3bdbef89743b39309951af1684e6b": {
      "model_module": "@jupyter-widgets/base",
      "model_module_version": "1.2.0",
      "model_name": "LayoutModel",
      "state": {
       "width": "250px"
      }
     },
     "37bc990757e74cc58fbe07415537a063": {
      "model_module": "@jupyter-widgets/base",
      "model_module_version": "1.2.0",
      "model_name": "LayoutModel",
      "state": {
       "justify_content": "center"
      }
     },
     "37dd3df180cd4b4a95780af2fd44d97d": {
      "model_module": "@jupyter-widgets/controls",
      "model_module_version": "1.5.0",
      "model_name": "DescriptionStyleModel",
      "state": {
       "description_width": ""
      }
     },
     "37e7f76a7eca4d40912ba9931ce0a30a": {
      "model_module": "@jupyter-widgets/controls",
      "model_module_version": "1.5.0",
      "model_name": "DescriptionStyleModel",
      "state": {
       "description_width": ""
      }
     },
     "37ed9d0aebd9437fb52a521ae613f147": {
      "model_module": "@jupyter-widgets/controls",
      "model_module_version": "1.5.0",
      "model_name": "ButtonStyleModel",
      "state": {}
     },
     "37fd08f3dee041b9874c6780cdf20fc1": {
      "model_module": "@jupyter-widgets/base",
      "model_module_version": "1.2.0",
      "model_name": "LayoutModel",
      "state": {
       "justify_content": "center"
      }
     },
     "382c35c746084430be267c3f998ddc7b": {
      "model_module": "@jupyter-widgets/controls",
      "model_module_version": "1.5.0",
      "model_name": "CheckboxModel",
      "state": {
       "description": "Sie werden im Vorhinein deklariert (feature lexicon)",
       "disabled": false,
       "layout": "IPY_MODEL_7baee7dedd7041c3883dd38a6be1dbaf",
       "style": "IPY_MODEL_8d7c4df99e70476b986bf00395e65d06",
       "value": false
      }
     },
     "388f4bb639aa443481f6e59ae6491f04": {
      "model_module": "@jupyter-widgets/controls",
      "model_module_version": "1.5.0",
      "model_name": "DescriptionStyleModel",
      "state": {
       "description_width": ""
      }
     },
     "3896b0d02a7f40649373e935b6bc9bc0": {
      "model_module": "@jupyter-widgets/controls",
      "model_module_version": "1.5.0",
      "model_name": "DescriptionStyleModel",
      "state": {
       "description_width": ""
      }
     },
     "38ac1e4f66034beebe50803bd0d9f596": {
      "model_module": "@jupyter-widgets/controls",
      "model_module_version": "1.5.0",
      "model_name": "DescriptionStyleModel",
      "state": {
       "description_width": "initial"
      }
     },
     "38e57d1ccac741c7aefbe60ab204b459": {
      "model_module": "@jupyter-widgets/base",
      "model_module_version": "1.2.0",
      "model_name": "LayoutModel",
      "state": {}
     },
     "38ebd570385c4184bdec2c457ae90699": {
      "model_module": "@jupyter-widgets/controls",
      "model_module_version": "1.5.0",
      "model_name": "DescriptionStyleModel",
      "state": {
       "description_width": ""
      }
     },
     "391301a5e7d74290a1463468f414ea43": {
      "model_module": "@jupyter-widgets/controls",
      "model_module_version": "1.5.0",
      "model_name": "HTMLModel",
      "state": {
       "layout": "IPY_MODEL_98b9e4752b6c40c59c82403b4c7b8fde",
       "style": "IPY_MODEL_d4cfae50a7804e89a5a3728b30ab9be0",
       "value": "<i>Wählen Sie die <ins>eine</ins> korrekte Antwort aus: </i>"
      }
     },
     "39152ac4956d4691863901db32e44953": {
      "model_module": "@jupyter-widgets/base",
      "model_module_version": "1.2.0",
      "model_name": "LayoutModel",
      "state": {
       "width": "600px"
      }
     },
     "391c24d7ddd24a6993453d7dcd6f2075": {
      "model_module": "@jupyter-widgets/controls",
      "model_module_version": "1.5.0",
      "model_name": "HTMLModel",
      "state": {
       "layout": "IPY_MODEL_f34ccf4514454b0e8b4b87ba0bd04a71",
       "style": "IPY_MODEL_600ba3d9665a455ea26a4733618e935d",
       "value": "<h4 style=\"font-size:14px;\">Welche native python-Datenstruktur bietet sich für die Deklaration von Merkmalstrukturen als Menge von Attribut-Wert-Paaren an?</h4>"
      }
     },
     "3931e7006abf4d1c888ae1be41c1652a": {
      "model_module": "@jupyter-widgets/controls",
      "model_module_version": "1.5.0",
      "model_name": "DescriptionStyleModel",
      "state": {
       "description_width": "initial"
      }
     },
     "393eb5dcd8a74b5497ae01540d306704": {
      "model_module": "@jupyter-widgets/base",
      "model_module_version": "1.2.0",
      "model_name": "LayoutModel",
      "state": {
       "width": "250px"
      }
     },
     "397f0294cd464e5584c640ba84cd6035": {
      "model_module": "@jupyter-widgets/controls",
      "model_module_version": "1.5.0",
      "model_name": "DescriptionStyleModel",
      "state": {
       "description_width": ""
      }
     },
     "3995a7ec781442b993f30e8ddc061d1c": {
      "model_module": "@jupyter-widgets/controls",
      "model_module_version": "1.5.0",
      "model_name": "ButtonStyleModel",
      "state": {}
     },
     "39cd13d1c4314644867ec7fc1375fc56": {
      "model_module": "@jupyter-widgets/base",
      "model_module_version": "1.2.0",
      "model_name": "LayoutModel",
      "state": {
       "justify_content": "center"
      }
     },
     "3a464de6a4cd4517b9bdf2f46f0b51ba": {
      "model_module": "@jupyter-widgets/controls",
      "model_module_version": "1.5.0",
      "model_name": "VBoxModel",
      "state": {
       "children": [
        "IPY_MODEL_509f8052e11b466686d2908ec339ab53",
        "IPY_MODEL_10c581e98e474a43a533cf54220cbdee",
        "IPY_MODEL_4078e75991de4918a039b2ad219e1fd3",
        "IPY_MODEL_a2eb711576c649b5b40c8d1e20f4c4e9"
       ],
       "layout": "IPY_MODEL_8105bc4ccb544a9ca8349ce2e03ebb5a"
      }
     },
     "3a9e30b999d242bb858f6619f4254655": {
      "model_module": "@jupyter-widgets/base",
      "model_module_version": "1.2.0",
      "model_name": "LayoutModel",
      "state": {
       "width": "250px"
      }
     },
     "3aa751cbac5c492b8c0bfdccd6f12241": {
      "model_module": "@jupyter-widgets/controls",
      "model_module_version": "1.5.0",
      "model_name": "CheckboxModel",
      "state": {
       "description": "Sie werden aktualisiert.",
       "disabled": false,
       "layout": "IPY_MODEL_82339d456b5a4b85b62c31beed7d726a",
       "style": "IPY_MODEL_69ab1a373d3c4618b87ffb87ea9cea26",
       "value": false
      }
     },
     "3ab79a204d4845ebb84bf8422903934d": {
      "model_module": "@jupyter-widgets/controls",
      "model_module_version": "1.5.0",
      "model_name": "HTMLModel",
      "state": {
       "layout": "IPY_MODEL_430e0061ba604d10a35c472397ae18b7",
       "style": "IPY_MODEL_388f4bb639aa443481f6e59ae6491f04",
       "value": "<h4 style=\"font-size:14px;\">Welche kommunikativ-funktionalen Unterschiede bestehen?</h4>"
      }
     },
     "3ad5cd7892ca4546b665f51a7a7693a9": {
      "model_module": "@jupyter-widgets/controls",
      "model_module_version": "1.5.0",
      "model_name": "ButtonStyleModel",
      "state": {}
     },
     "3b372a9bc4be48449abf9c95ff0019cd": {
      "model_module": "@jupyter-widgets/controls",
      "model_module_version": "1.5.0",
      "model_name": "CheckboxModel",
      "state": {
       "description": "FS0 = [CAT = DET], FS1 = [CAT = N, GEN = MASK]",
       "disabled": false,
       "layout": "IPY_MODEL_4b88510340ed46b6ae58500a8495bfe2",
       "style": "IPY_MODEL_6a50be50fdc84697b87480ce3f24bddb",
       "value": false
      }
     },
     "3b394755f11940958e9e74c685931837": {
      "model_module": "@jupyter-widgets/controls",
      "model_module_version": "1.5.0",
      "model_name": "DropdownModel",
      "state": {
       "_options_labels": [
        "Genusmarkierung",
        "Kasusmarkierung",
        " "
       ],
       "index": 2,
       "layout": "IPY_MODEL_7255b612e977483fa87080856628fe05",
       "style": "IPY_MODEL_f700fa49e2a9443183e3dea058f2c1bb"
      }
     },
     "3b5c25186df144fdb53c32a37d48044c": {
      "model_module": "@jupyter-widgets/controls",
      "model_module_version": "1.5.0",
      "model_name": "CheckboxModel",
      "state": {
       "description": "Variable: -> (1)",
       "disabled": false,
       "layout": "IPY_MODEL_6bce79fc02aa499bba9bbdc96bac4edf",
       "style": "IPY_MODEL_f648dd97f31a4a7289304d9d3dbdecb1",
       "value": false
      }
     },
     "3b84c92322084de2afcee8c9f8c1e13b": {
      "model_module": "@jupyter-widgets/controls",
      "model_module_version": "1.5.0",
      "model_name": "ButtonModel",
      "state": {
       "description": "Agens",
       "layout": "IPY_MODEL_b17bf399a9db4a4297d9160fc49089d8",
       "style": "IPY_MODEL_bd76904315c14324b5eb93170974c06e"
      }
     },
     "3b94f576436e45e1a0b229737b1bd134": {
      "model_module": "@jupyter-widgets/controls",
      "model_module_version": "1.5.0",
      "model_name": "ButtonModel",
      "state": {
       "description": "Recipient",
       "layout": "IPY_MODEL_f3c4db54ee6c43ac9d00ec91fb2dd80d",
       "style": "IPY_MODEL_bf6a035838454a2297516c12533f8a49"
      }
     },
     "3bb722441c1b48d3a0934bdfa6f408f8": {
      "model_module": "@jupyter-widgets/base",
      "model_module_version": "1.2.0",
      "model_name": "LayoutModel",
      "state": {}
     },
     "3bcd5904767745ac9e5b4d25c7bb434f": {
      "model_module": "@jupyter-widgets/controls",
      "model_module_version": "1.5.0",
      "model_name": "CheckboxModel",
      "state": {
       "description": "Das Genus des Adjektivs ist lexikalisch fix definiert.",
       "disabled": false,
       "layout": "IPY_MODEL_c3f5d6567b7c49999c3e7388075455ee",
       "style": "IPY_MODEL_b2a13a75a3cd43a7907184837aec2526",
       "value": false
      }
     },
     "3bdb2de4702b424dad8068215875f9e6": {
      "model_module": "@jupyter-widgets/controls",
      "model_module_version": "1.5.0",
      "model_name": "HTMLModel",
      "state": {
       "layout": "IPY_MODEL_9828485ae9f74ae4be413519751e76d4",
       "style": "IPY_MODEL_dce7932c6c27444da294ddc5fa60845a",
       "value": "<i>Markieren Sie <ins>alle</ins> passenden Antworten: </i>"
      }
     },
     "3be2560db93448ad9b4d8bdf6468c5f8": {
      "model_module": "@jupyter-widgets/controls",
      "model_module_version": "1.5.0",
      "model_name": "DescriptionStyleModel",
      "state": {
       "description_width": ""
      }
     },
     "3bfbb511e96b456aa1f210ebc8949428": {
      "model_module": "@jupyter-widgets/controls",
      "model_module_version": "1.5.0",
      "model_name": "ButtonStyleModel",
      "state": {}
     },
     "3c0d4b5babbf4a7987410b3b8cb946f5": {
      "model_module": "@jupyter-widgets/base",
      "model_module_version": "1.2.0",
      "model_name": "LayoutModel",
      "state": {}
     },
     "3c907d462b274933859de484d139d57b": {
      "model_module": "@jupyter-widgets/controls",
      "model_module_version": "1.5.0",
      "model_name": "DescriptionStyleModel",
      "state": {
       "description_width": ""
      }
     },
     "3ca51c4681494d31ae3863e919ea3792": {
      "model_module": "@jupyter-widgets/controls",
      "model_module_version": "1.5.0",
      "model_name": "DescriptionStyleModel",
      "state": {
       "description_width": ""
      }
     },
     "3cd16eaf39564944a71c6394844b678c": {
      "model_module": "@jupyter-widgets/controls",
      "model_module_version": "1.5.0",
      "model_name": "ButtonModel",
      "state": {
       "description": "Benefaktiv",
       "layout": "IPY_MODEL_7b0a5585039647bdac4367815cd00b98",
       "style": "IPY_MODEL_6b034e20c5b8429ca348f8463e845028"
      }
     },
     "3cdb576bea384dc59a6bfb716e225df1": {
      "model_module": "@jupyter-widgets/controls",
      "model_module_version": "1.5.0",
      "model_name": "VBoxModel",
      "state": {
       "children": [
        "IPY_MODEL_c0f477eb79d440afabfd6e85b4e9fe09",
        "IPY_MODEL_e615aa196ba44c5ab87e301b53279795",
        "IPY_MODEL_add907e92c6a4106bf52267b0592e12b",
        "IPY_MODEL_0267a35892a0419bb3fbea2e9a4fb7c0"
       ],
       "layout": "IPY_MODEL_c464b2e33b404fd2a5992e5d9effc94b"
      }
     },
     "3ceafc92b1774494a604099bca9ae2d6": {
      "model_module": "@jupyter-widgets/controls",
      "model_module_version": "1.5.0",
      "model_name": "HTMLModel",
      "state": {
       "layout": "IPY_MODEL_93e1c14ff3a1448daff416b80a1a321a",
       "style": "IPY_MODEL_a62cedfa9b3249f091042014626b0691",
       "value": "<i>Wählen Sie die <ins>eine</ins> korrekte Antwort aus: </i>"
      }
     },
     "3cee8d7bcdb646b685f3213a0831a956": {
      "model_module": "@jupyter-widgets/controls",
      "model_module_version": "1.5.0",
      "model_name": "DescriptionStyleModel",
      "state": {
       "description_width": "initial"
      }
     },
     "3cef94ddb9614606a4681edbb20d9687": {
      "model_module": "@jupyter-widgets/base",
      "model_module_version": "1.2.0",
      "model_name": "LayoutModel",
      "state": {
       "width": "600px"
      }
     },
     "3cf28cffb44d473c9b908fa39fc8c25a": {
      "model_module": "@jupyter-widgets/base",
      "model_module_version": "1.2.0",
      "model_name": "LayoutModel",
      "state": {}
     },
     "3d5c13a0296a4a9680ac5670d16a976b": {
      "model_module": "@jupyter-widgets/base",
      "model_module_version": "1.2.0",
      "model_name": "LayoutModel",
      "state": {}
     },
     "3d5cb7c349a0459c8ecc343fa6a343f7": {
      "model_module": "@jupyter-widgets/controls",
      "model_module_version": "1.5.0",
      "model_name": "CheckboxModel",
      "state": {
       "description": "Das Genus des Adjektivs ist lexikalisch fix definiert.",
       "disabled": false,
       "layout": "IPY_MODEL_1ff8a19a9f0d4d359fbf8aab85d1e7e9",
       "style": "IPY_MODEL_b9046a23aeab4c89b32eb716f86eaa7d",
       "value": false
      }
     },
     "3d79efbedc4a44499d34e4917acecadf": {
      "model_module": "@jupyter-widgets/base",
      "model_module_version": "1.2.0",
      "model_name": "LayoutModel",
      "state": {}
     },
     "3d90982da0f64833817a503f98d9c1ac": {
      "model_module": "@jupyter-widgets/base",
      "model_module_version": "1.2.0",
      "model_name": "LayoutModel",
      "state": {
       "width": "600px"
      }
     },
     "3d91846eb2b14abd89036838866d9795": {
      "model_module": "@jupyter-widgets/base",
      "model_module_version": "1.2.0",
      "model_name": "LayoutModel",
      "state": {
       "justify_content": "center"
      }
     },
     "3d92f4886fde436780906a593f7e98d5": {
      "model_module": "@jupyter-widgets/base",
      "model_module_version": "1.2.0",
      "model_name": "LayoutModel",
      "state": {}
     },
     "3da36e421c52427c8cd1113beb58251f": {
      "model_module": "@jupyter-widgets/base",
      "model_module_version": "1.2.0",
      "model_name": "LayoutModel",
      "state": {}
     },
     "3dd799a6f30940ffa70f7e12151af40d": {
      "model_module": "@jupyter-widgets/base",
      "model_module_version": "1.2.0",
      "model_name": "LayoutModel",
      "state": {
       "width": "600px"
      }
     },
     "3df13e9719034e40965d85b064be28d2": {
      "model_module": "@jupyter-widgets/base",
      "model_module_version": "1.2.0",
      "model_name": "LayoutModel",
      "state": {
       "width": "250px"
      }
     },
     "3e123440317f497ba14059b57239537b": {
      "model_module": "@jupyter-widgets/controls",
      "model_module_version": "1.5.0",
      "model_name": "ButtonModel",
      "state": {
       "description": "Korrekt?",
       "layout": "IPY_MODEL_2a25515ab4704c04b7a0b6e5dc8993a9",
       "style": "IPY_MODEL_16709f2b5356442090d3510acfdf5b28"
      }
     },
     "3e1369edafb449b38202cd15553f4f34": {
      "model_module": "@jupyter-widgets/controls",
      "model_module_version": "1.5.0",
      "model_name": "DescriptionStyleModel",
      "state": {
       "description_width": "initial"
      }
     },
     "3e50ffd74d1b456f9b5d19384b393e10": {
      "model_module": "@jupyter-widgets/controls",
      "model_module_version": "1.5.0",
      "model_name": "CheckboxModel",
      "state": {
       "description": "Eine rangiedrigere Rolle übernimmt die Subjektfunktion.",
       "disabled": false,
       "layout": "IPY_MODEL_a11f5d9d4c584cf5bb5aca5374454a69",
       "style": "IPY_MODEL_2021dda6e4044e2dbc6e7c54f60ef05e",
       "value": false
      }
     },
     "3e6be4df07bc4dd9942388b5da3aa7cb": {
      "model_module": "@jupyter-widgets/controls",
      "model_module_version": "1.5.0",
      "model_name": "CheckboxModel",
      "state": {
       "description": "Passivierung (Objekt-Promotion)",
       "disabled": false,
       "layout": "IPY_MODEL_ea6dfcbf37d04d2eb9a8e7af2ba67571",
       "style": "IPY_MODEL_d858d6dde52141bbbfdb29d9ff06e356",
       "value": false
      }
     },
     "3e6e078913774958b86fcaaace64d0d1": {
      "model_module": "@jupyter-widgets/controls",
      "model_module_version": "1.5.0",
      "model_name": "ButtonStyleModel",
      "state": {}
     },
     "3e93847b5699402eb4c8c8840301ad41": {
      "model_module": "@jupyter-widgets/controls",
      "model_module_version": "1.5.0",
      "model_name": "DescriptionStyleModel",
      "state": {
       "description_width": "initial"
      }
     },
     "3ee296f6ef3c419eb7d77c0c0e829338": {
      "model_module": "@jupyter-widgets/base",
      "model_module_version": "1.2.0",
      "model_name": "LayoutModel",
      "state": {
       "justify_content": "center"
      }
     },
     "3ee9db59b96647468f3d99370a9c08bf": {
      "model_module": "@jupyter-widgets/controls",
      "model_module_version": "1.5.0",
      "model_name": "HBoxModel",
      "state": {
       "children": [
        "IPY_MODEL_16c38c533a3d477192472f1cd05ca0b2"
       ],
       "layout": "IPY_MODEL_0a437149b2cd4279991a7445eb3cc789"
      }
     },
     "3efb879cef7c443aac212fcf10c5ab17": {
      "model_module": "@jupyter-widgets/base",
      "model_module_version": "1.2.0",
      "model_name": "LayoutModel",
      "state": {}
     },
     "3f1a7e94b4bf49aaa228597e03a32b84": {
      "model_module": "@jupyter-widgets/controls",
      "model_module_version": "1.5.0",
      "model_name": "DescriptionStyleModel",
      "state": {
       "description_width": ""
      }
     },
     "3f1d979f30b1417ba26ed8f137fb8ae4": {
      "model_module": "@jupyter-widgets/controls",
      "model_module_version": "1.5.0",
      "model_name": "CheckboxModel",
      "state": {
       "description": "Sie werden aktualisiert.",
       "disabled": false,
       "layout": "IPY_MODEL_a8703e280de44fca90dffb569402a94f",
       "style": "IPY_MODEL_530c4882e7e84beda12e3054e57f74c8",
       "value": false
      }
     },
     "3f34e3307543443fa1e86915f9343649": {
      "model_module": "@jupyter-widgets/controls",
      "model_module_version": "1.5.0",
      "model_name": "VBoxModel",
      "state": {
       "children": [
        "IPY_MODEL_431cf61a69344a55b101bb10a201cfef",
        "IPY_MODEL_bf34975e4e3144d6b620ad54c5506c14",
        "IPY_MODEL_bee6fe2ac0a2448fbdfcadeb6db077c2",
        "IPY_MODEL_29cc9e64da164323bb5cf1ad3cf17c13"
       ],
       "layout": "IPY_MODEL_bcc02c04b383463697433599b49ef2c5"
      }
     },
     "3f3a9d9b85454936af65acacb0822b9b": {
      "model_module": "@jupyter-widgets/controls",
      "model_module_version": "1.5.0",
      "model_name": "CheckboxModel",
      "state": {
       "description": "Es muss immer ein Agens vorhanden sein.",
       "disabled": false,
       "layout": "IPY_MODEL_f64aea02ba2d4d6db61b884809062973",
       "style": "IPY_MODEL_1002e55018fd4dc29eebb0435beacdfb",
       "value": false
      }
     },
     "3f63dc46300f4b1f9c3e6579f12855c9": {
      "model_module": "@jupyter-widgets/controls",
      "model_module_version": "1.5.0",
      "model_name": "DescriptionStyleModel",
      "state": {
       "description_width": "initial"
      }
     },
     "3f67cb399141434c9cd3bf92d28aa3a0": {
      "model_module": "@jupyter-widgets/base",
      "model_module_version": "1.2.0",
      "model_name": "LayoutModel",
      "state": {}
     },
     "3f70c700f3f642a68e97b1eac534b85d": {
      "model_module": "@jupyter-widgets/base",
      "model_module_version": "1.2.0",
      "model_name": "LayoutModel",
      "state": {
       "width": "250px"
      }
     },
     "3f83bbea3464472098f53112a3b83c1d": {
      "model_module": "@jupyter-widgets/controls",
      "model_module_version": "1.5.0",
      "model_name": "DescriptionStyleModel",
      "state": {
       "description_width": ""
      }
     },
     "3f8d666d37cf4978b87bd94b11929cef": {
      "model_module": "@jupyter-widgets/base",
      "model_module_version": "1.2.0",
      "model_name": "LayoutModel",
      "state": {
       "width": "600px"
      }
     },
     "3f9409191f004f068620af24119584b5": {
      "model_module": "@jupyter-widgets/controls",
      "model_module_version": "1.5.0",
      "model_name": "DescriptionStyleModel",
      "state": {
       "description_width": "initial"
      }
     },
     "3fb5a9fa91bd4101ba62294121c95d93": {
      "model_module": "@jupyter-widgets/controls",
      "model_module_version": "1.5.0",
      "model_name": "HBoxModel",
      "state": {
       "children": [
        "IPY_MODEL_62c7f8210cdc4644b804b3e5dd3a9ff7",
        "IPY_MODEL_4f0be68efb0344fb9331cd36b5032271"
       ],
       "layout": "IPY_MODEL_06ebf74652544691a075c6623b0bcf5c"
      }
     },
     "3fb63b7df4444d71a08b4e6749704f03": {
      "model_module": "@jupyter-widgets/base",
      "model_module_version": "1.2.0",
      "model_name": "LayoutModel",
      "state": {}
     },
     "3fbd747bd12e48d5af12694cbe2a6ccb": {
      "model_module": "@jupyter-widgets/controls",
      "model_module_version": "1.5.0",
      "model_name": "ButtonStyleModel",
      "state": {}
     },
     "3fdd3c7c8d56406fa25213ca87ff4e62": {
      "model_module": "@jupyter-widgets/controls",
      "model_module_version": "1.5.0",
      "model_name": "DescriptionStyleModel",
      "state": {
       "description_width": ""
      }
     },
     "4035465b314d45e39fe95720e4e8612a": {
      "model_module": "@jupyter-widgets/controls",
      "model_module_version": "1.5.0",
      "model_name": "VBoxModel",
      "state": {
       "children": [
        "IPY_MODEL_43cf24f265d24f8dad35885250b3310a",
        "IPY_MODEL_62c530ff31a2445397dcd8899c57a40a",
        "IPY_MODEL_c5609dd6087745b2b14692053c40ccb2",
        "IPY_MODEL_53ef786fd5f54fb183de1c9462909f44"
       ],
       "layout": "IPY_MODEL_411187d03ed84135af5a3998c99d5965"
      }
     },
     "403af8bae6654492b36cc110558e1be7": {
      "model_module": "@jupyter-widgets/base",
      "model_module_version": "1.2.0",
      "model_name": "LayoutModel",
      "state": {
       "width": "600px"
      }
     },
     "404e00eea05a4965af57846ddf91572e": {
      "model_module": "@jupyter-widgets/controls",
      "model_module_version": "1.5.0",
      "model_name": "CheckboxModel",
      "state": {
       "description": "Perspektivierung",
       "disabled": false,
       "layout": "IPY_MODEL_8a96cd05468d4babb8ac1db92c3f9d12",
       "style": "IPY_MODEL_6d3862f86a8d45fda278c6edbae6d3f3",
       "value": false
      }
     },
     "4058ad1b4841439f90dd4944efb081f3": {
      "model_module": "@jupyter-widgets/controls",
      "model_module_version": "1.5.0",
      "model_name": "VBoxModel",
      "state": {
       "children": [
        "IPY_MODEL_391c24d7ddd24a6993453d7dcd6f2075",
        "IPY_MODEL_abe376371a4242609b283338e6c19a4c",
        "IPY_MODEL_eedb083d054941ec98902c9216eddeac",
        "IPY_MODEL_8bc70eb4b49e4262a52d4e8c2813e482"
       ],
       "layout": "IPY_MODEL_355edce1347d4d80a7988a815ffd993a"
      }
     },
     "4078e75991de4918a039b2ad219e1fd3": {
      "model_module": "@jupyter-widgets/controls",
      "model_module_version": "1.5.0",
      "model_name": "CheckboxModel",
      "state": {
       "description": "Perspektivierung",
       "disabled": false,
       "layout": "IPY_MODEL_ef1bd012b30249a0a5641914c2809b90",
       "style": "IPY_MODEL_a8ea1d40feb844dbb8f24b223d1d0c1e",
       "value": false
      }
     },
     "4081f7ba55044997916f3125c7b22d7f": {
      "model_module": "@jupyter-widgets/controls",
      "model_module_version": "1.5.0",
      "model_name": "HBoxModel",
      "state": {
       "children": [
        "IPY_MODEL_ff2394d2364e4f8e880dc8a66a363c88",
        "IPY_MODEL_72d3fbeb79634331b9ff01cab0154831"
       ],
       "layout": "IPY_MODEL_0fb06e9fe0ba44df8f89da699a424b5d"
      }
     },
     "4095fee6a596452b9eb90f426b9ddd9b": {
      "model_module": "@jupyter-widgets/base",
      "model_module_version": "1.2.0",
      "model_name": "LayoutModel",
      "state": {
       "width": "600px"
      }
     },
     "4096073096e44d3bba5a353cd3649a43": {
      "model_module": "@jupyter-widgets/base",
      "model_module_version": "1.2.0",
      "model_name": "LayoutModel",
      "state": {
       "width": "250px"
      }
     },
     "40b06800e059442aacffe0b7c3aeef52": {
      "model_module": "@jupyter-widgets/controls",
      "model_module_version": "1.5.0",
      "model_name": "HBoxModel",
      "state": {
       "children": [
        "IPY_MODEL_a5f5d9f2d23e4ecdbd10c19e43cd826c",
        "IPY_MODEL_1c96bd1ea195458cbd52d4892c15cdc6"
       ],
       "layout": "IPY_MODEL_38e57d1ccac741c7aefbe60ab204b459"
      }
     },
     "40ba0ab149a940f38d0cc8f363cd4f30": {
      "model_module": "@jupyter-widgets/base",
      "model_module_version": "1.2.0",
      "model_name": "LayoutModel",
      "state": {
       "justify_content": "center"
      }
     },
     "40be4f6913064396bd7442681fafeb6d": {
      "model_module": "@jupyter-widgets/controls",
      "model_module_version": "1.5.0",
      "model_name": "ButtonStyleModel",
      "state": {}
     },
     "411187d03ed84135af5a3998c99d5965": {
      "model_module": "@jupyter-widgets/base",
      "model_module_version": "1.2.0",
      "model_name": "LayoutModel",
      "state": {}
     },
     "4173e9005baa43dbb0137b3a6bcbd062": {
      "model_module": "@jupyter-widgets/controls",
      "model_module_version": "1.5.0",
      "model_name": "ButtonModel",
      "state": {
       "description": "Ja",
       "layout": "IPY_MODEL_a4785ac030e3499199f437c20bcb9e8c",
       "style": "IPY_MODEL_4a687f0f213a48aa8b5ab439cd68c0ac"
      }
     },
     "417edfde2efd40659a965e1ace50a327": {
      "model_module": "@jupyter-widgets/controls",
      "model_module_version": "1.5.0",
      "model_name": "VBoxModel",
      "state": {
       "children": [
        "IPY_MODEL_0f15d98ecced413bb5e9a37361629487",
        "IPY_MODEL_853a04f85334471fbd9119aa7a120a16",
        "IPY_MODEL_4eb483d1c68f404492d65fe1757d875d"
       ],
       "layout": "IPY_MODEL_20359c9d10594dfb8c5223357dd06cdc"
      }
     },
     "41c6a4fde9a84f7ea9c30c738f7cfb5c": {
      "model_module": "@jupyter-widgets/controls",
      "model_module_version": "1.5.0",
      "model_name": "DescriptionStyleModel",
      "state": {
       "description_width": "initial"
      }
     },
     "42121c443cad4deba03226005b585789": {
      "model_module": "@jupyter-widgets/controls",
      "model_module_version": "1.5.0",
      "model_name": "DescriptionStyleModel",
      "state": {
       "description_width": ""
      }
     },
     "421d3dd03f2b4fcbaa78f0c10281c066": {
      "model_module": "@jupyter-widgets/base",
      "model_module_version": "1.2.0",
      "model_name": "LayoutModel",
      "state": {}
     },
     "421e6ba36c3a4ea9bf3610746b1533c0": {
      "model_module": "@jupyter-widgets/controls",
      "model_module_version": "1.5.0",
      "model_name": "ButtonModel",
      "state": {
       "description": "tuple",
       "layout": "IPY_MODEL_d54ce302c92d41d69ae949cf889c378a",
       "style": "IPY_MODEL_91e4a8fe94ce4e4fb8f758128118e1c1"
      }
     },
     "42317e2fa01b422486e080e185d13bfc": {
      "model_module": "@jupyter-widgets/controls",
      "model_module_version": "1.5.0",
      "model_name": "DescriptionStyleModel",
      "state": {
       "description_width": ""
      }
     },
     "4249f17068dd4bc59fab039bc2fc7410": {
      "model_module": "@jupyter-widgets/base",
      "model_module_version": "1.2.0",
      "model_name": "LayoutModel",
      "state": {
       "width": "250px"
      }
     },
     "42959bb223094d4983c0f93df1eaaec8": {
      "model_module": "@jupyter-widgets/controls",
      "model_module_version": "1.5.0",
      "model_name": "HTMLModel",
      "state": {
       "layout": "IPY_MODEL_b16e7c836e134b439c7c8f749cb58405",
       "style": "IPY_MODEL_97a8b22c6d7c44fa99fede713c041bea",
       "value": "<h4 style=\"font-size:14px;\">In Verbindung mit einem</h4>"
      }
     },
     "43030f567f63413198230fbf5c191286": {
      "model_module": "@jupyter-widgets/base",
      "model_module_version": "1.2.0",
      "model_name": "LayoutModel",
      "state": {
       "width": "150px"
      }
     },
     "430e0061ba604d10a35c472397ae18b7": {
      "model_module": "@jupyter-widgets/base",
      "model_module_version": "1.2.0",
      "model_name": "LayoutModel",
      "state": {}
     },
     "431cf61a69344a55b101bb10a201cfef": {
      "model_module": "@jupyter-widgets/controls",
      "model_module_version": "1.5.0",
      "model_name": "HTMLModel",
      "state": {
       "layout": "IPY_MODEL_731f662cf1fb4773b8ea7eaf1454ecab",
       "style": "IPY_MODEL_f28c978c34d846758859fc4a8910afaf",
       "value": "<h4 style=\"font-size:14px;\">Wie wird die Deklination der Nominalphrase <i>altes Bier</i> auch bezeichnet?</h4>"
      }
     },
     "4321f7fdbecc42048223310802ae43a3": {
      "model_module": "@jupyter-widgets/controls",
      "model_module_version": "1.5.0",
      "model_name": "DescriptionStyleModel",
      "state": {
       "description_width": "initial"
      }
     },
     "4327b0b9927842e78deeeb8e2edc9a8e": {
      "model_module": "@jupyter-widgets/controls",
      "model_module_version": "1.5.0",
      "model_name": "DescriptionStyleModel",
      "state": {
       "description_width": ""
      }
     },
     "432984ec5dfd4a95850603fb8735a4f8": {
      "model_module": "@jupyter-widgets/base",
      "model_module_version": "1.2.0",
      "model_name": "LayoutModel",
      "state": {
       "width": "600px"
      }
     },
     "43348f2121ce47b0a25e1042f724f2f3": {
      "model_module": "@jupyter-widgets/controls",
      "model_module_version": "1.5.0",
      "model_name": "CheckboxModel",
      "state": {
       "description": "Sie werden aus der Eingabe extrahiert (feature extraction)",
       "disabled": false,
       "layout": "IPY_MODEL_86d91b24bfd74eeca3f34cddc6199cfc",
       "style": "IPY_MODEL_2a8693ce7e864c7d8d178f2d3702eb65",
       "value": false
      }
     },
     "433f77bb12f84528b862ada48980d3f2": {
      "model_module": "@jupyter-widgets/controls",
      "model_module_version": "1.5.0",
      "model_name": "DescriptionStyleModel",
      "state": {
       "description_width": "initial"
      }
     },
     "434932d9e8554e568bed9d502d6eb9f8": {
      "model_module": "@jupyter-widgets/controls",
      "model_module_version": "1.5.0",
      "model_name": "DescriptionStyleModel",
      "state": {
       "description_width": ""
      }
     },
     "43c336363661405b95a87820e2238389": {
      "model_module": "@jupyter-widgets/base",
      "model_module_version": "1.2.0",
      "model_name": "LayoutModel",
      "state": {
       "justify_content": "center"
      }
     },
     "43c7028be4c448589341a54815aac759": {
      "model_module": "@jupyter-widgets/controls",
      "model_module_version": "1.5.0",
      "model_name": "DescriptionStyleModel",
      "state": {
       "description_width": "initial"
      }
     },
     "43cf24f265d24f8dad35885250b3310a": {
      "model_module": "@jupyter-widgets/controls",
      "model_module_version": "1.5.0",
      "model_name": "HTMLModel",
      "state": {
       "layout": "IPY_MODEL_0490c2a52a2b466e88890e17618e58af",
       "style": "IPY_MODEL_f069239810954fbaac92b2cac158e614",
       "value": "<h4 style=\"font-size:14px;\">Welche der Beispiele erfüllen die Subsumptionsbeziehung aus 10b nicht?</h4>"
      }
     },
     "43d63faa855f4ef3ac02e03c77511b80": {
      "model_module": "@jupyter-widgets/base",
      "model_module_version": "1.2.0",
      "model_name": "LayoutModel",
      "state": {
       "width": "600px"
      }
     },
     "43e4f29cdf4c46d0a65aa9c82c6a42dd": {
      "model_module": "@jupyter-widgets/controls",
      "model_module_version": "1.5.0",
      "model_name": "HTMLModel",
      "state": {
       "layout": "IPY_MODEL_610a126561824e47b19187a160f037d8",
       "style": "IPY_MODEL_c517eba44c22483c86ccf4159efe66ca",
       "value": "<i>Markieren Sie <ins>alle</ins> passenden Antworten: </i>"
      }
     },
     "43ec556908f04ba785ec8e1092330166": {
      "model_module": "@jupyter-widgets/controls",
      "model_module_version": "1.5.0",
      "model_name": "DescriptionStyleModel",
      "state": {
       "description_width": "initial"
      }
     },
     "4400362424804f85a8551860f6203bc5": {
      "model_module": "@jupyter-widgets/controls",
      "model_module_version": "1.5.0",
      "model_name": "ButtonStyleModel",
      "state": {}
     },
     "4419d8e376a041688de6ad13c4a372d7": {
      "model_module": "@jupyter-widgets/base",
      "model_module_version": "1.2.0",
      "model_name": "LayoutModel",
      "state": {}
     },
     "4437ea96e3a54d3392c49d3771658b25": {
      "model_module": "@jupyter-widgets/base",
      "model_module_version": "1.2.0",
      "model_name": "LayoutModel",
      "state": {}
     },
     "447b6833c6e14d0a9c09f78876e4f318": {
      "model_module": "@jupyter-widgets/controls",
      "model_module_version": "1.5.0",
      "model_name": "HTMLModel",
      "state": {
       "layout": "IPY_MODEL_ca691375a52f4304a9906cb4ce9a2e5b",
       "style": "IPY_MODEL_70c8f23d2cb447f38ce08bd0705b1dd8",
       "value": "<h4 style=\"font-size:14px;\">Welche Aussagen gelten für den Fall, dass das Adjektiv in einer NP ohne Artikel auftritt? (vgl. <i>altes Bier</i>)</h4>"
      }
     },
     "4480606071a74ad69f5be4664454cfc7": {
      "model_module": "@jupyter-widgets/controls",
      "model_module_version": "1.5.0",
      "model_name": "HTMLModel",
      "state": {
       "layout": "IPY_MODEL_27109f6f91dc486088a1c83a70811b49",
       "style": "IPY_MODEL_1eb5dbede0094d0caa81c6fb68e2878f",
       "value": "<h4 style=\"font-size:14px;\">Was ist im zweiten Satz das Subjekt?</h4>"
      }
     },
     "44bb733d9a1a4af98a813d4578bd7ecc": {
      "model_module": "@jupyter-widgets/controls",
      "model_module_version": "1.5.0",
      "model_name": "CheckboxModel",
      "state": {
       "description": "Das Fehlen des Artikels hat keine Auswirkungen auf das Adjektiv.",
       "disabled": false,
       "layout": "IPY_MODEL_3d90982da0f64833817a503f98d9c1ac",
       "style": "IPY_MODEL_95aa15019e6b4daf8a867cc148379347",
       "value": false
      }
     },
     "44bf348c31c04e96b6bf85a357cd6c03": {
      "model_module": "@jupyter-widgets/base",
      "model_module_version": "1.2.0",
      "model_name": "LayoutModel",
      "state": {}
     },
     "44eeddb8974f4416abd301f75eb9b394": {
      "model_module": "@jupyter-widgets/controls",
      "model_module_version": "1.5.0",
      "model_name": "CheckboxModel",
      "state": {
       "description": "Keine der Alternativen",
       "disabled": false,
       "layout": "IPY_MODEL_a481a3c7eca6473c861661ee57302b57",
       "style": "IPY_MODEL_013265597750439aabc38eebb452e34c",
       "value": false
      }
     },
     "44f36509d7ad4fa89cbe092b01bd6501": {
      "model_module": "@jupyter-widgets/controls",
      "model_module_version": "1.5.0",
      "model_name": "DescriptionStyleModel",
      "state": {
       "description_width": "initial"
      }
     },
     "44f408531ba248b280c5bc3056073d6a": {
      "model_module": "@jupyter-widgets/controls",
      "model_module_version": "1.5.0",
      "model_name": "DescriptionStyleModel",
      "state": {
       "description_width": ""
      }
     },
     "44f4c4d26a8f48058e9033dc64832f2e": {
      "model_module": "@jupyter-widgets/base",
      "model_module_version": "1.2.0",
      "model_name": "LayoutModel",
      "state": {
       "width": "250px"
      }
     },
     "44f913ec984f4765a82b34b4929cf10e": {
      "model_module": "@jupyter-widgets/controls",
      "model_module_version": "1.5.0",
      "model_name": "ButtonModel",
      "state": {
       "description": "Korrekt?",
       "layout": "IPY_MODEL_61057d714cfc46759141ee7e4fd84cc7",
       "style": "IPY_MODEL_af19698572a042ec8b0b04e49e9fa347"
      }
     },
     "4570836c30b74e3d8ea7d2dbfa006296": {
      "model_module": "@jupyter-widgets/controls",
      "model_module_version": "1.5.0",
      "model_name": "DescriptionStyleModel",
      "state": {
       "description_width": ""
      }
     },
     "459ddc3448a44a64ab27b2107bb2fb9b": {
      "model_module": "@jupyter-widgets/controls",
      "model_module_version": "1.5.0",
      "model_name": "ButtonModel",
      "state": {
       "description": "Lokativ",
       "layout": "IPY_MODEL_65465b49637445d0aa37f0d0070c7848",
       "style": "IPY_MODEL_4d13397e1444466a87b6ef91f7c18082"
      }
     },
     "45a1f9e2200a450a963f3c9932fd8497": {
      "model_module": "@jupyter-widgets/base",
      "model_module_version": "1.2.0",
      "model_name": "LayoutModel",
      "state": {
       "width": "600px"
      }
     },
     "45b3b09ff0dc4d90b28e7a6210bd3079": {
      "model_module": "@jupyter-widgets/controls",
      "model_module_version": "1.5.0",
      "model_name": "ButtonStyleModel",
      "state": {}
     },
     "45c252fce31249dab9a1506127dca7c2": {
      "model_module": "@jupyter-widgets/base",
      "model_module_version": "1.2.0",
      "model_name": "LayoutModel",
      "state": {
       "justify_content": "center"
      }
     },
     "45ec1421d7a649c8bb5944acdcbbd252": {
      "model_module": "@jupyter-widgets/controls",
      "model_module_version": "1.5.0",
      "model_name": "VBoxModel",
      "state": {
       "children": [
        "IPY_MODEL_30040655cd5e4f33a6106d56cfc7de4b",
        "IPY_MODEL_04661e98850240ad90663f8eeff4ece8",
        "IPY_MODEL_593f9a5693b14d3aaf50ab73b635ec49"
       ],
       "layout": "IPY_MODEL_b435ab6e3737414899cbd0a56e76230c"
      }
     },
     "45f348403c4b454288dbead0c49de02c": {
      "model_module": "@jupyter-widgets/base",
      "model_module_version": "1.2.0",
      "model_name": "LayoutModel",
      "state": {}
     },
     "464906fea0e7458baa78848853df3960": {
      "model_module": "@jupyter-widgets/controls",
      "model_module_version": "1.5.0",
      "model_name": "DescriptionStyleModel",
      "state": {
       "description_width": ""
      }
     },
     "465e503bb64d4e83a712e357766918a3": {
      "model_module": "@jupyter-widgets/controls",
      "model_module_version": "1.5.0",
      "model_name": "ButtonStyleModel",
      "state": {}
     },
     "468758e237d64356ad19bf3e15cde6f8": {
      "model_module": "@jupyter-widgets/controls",
      "model_module_version": "1.5.0",
      "model_name": "ButtonStyleModel",
      "state": {}
     },
     "473798f69fce4ec8b6d4a8aaad6f6fc7": {
      "model_module": "@jupyter-widgets/base",
      "model_module_version": "1.2.0",
      "model_name": "LayoutModel",
      "state": {
       "width": "600px"
      }
     },
     "476650d771bd4a80b0e78446429ddd77": {
      "model_module": "@jupyter-widgets/controls",
      "model_module_version": "1.5.0",
      "model_name": "DescriptionStyleModel",
      "state": {
       "description_width": ""
      }
     },
     "479e36bed71d45cda4ff385b20797832": {
      "model_module": "@jupyter-widgets/controls",
      "model_module_version": "1.5.0",
      "model_name": "HTMLModel",
      "state": {
       "layout": "IPY_MODEL_aa703b6f4e234c4bb2d70bf8468639da",
       "style": "IPY_MODEL_fb410de8b973492d94825e99d8c1d8bb",
       "value": "<h4 style=\"font-size:14px;\">Wie wird die Deklination der Nominalphrase <i>das alte Bier</i> auch bezeichnet?</h4>"
      }
     },
     "47e8668bc70b47e9accad964322e11ba": {
      "model_module": "@jupyter-widgets/controls",
      "model_module_version": "1.5.0",
      "model_name": "DescriptionStyleModel",
      "state": {
       "description_width": ""
      }
     },
     "4806083c2ff14e01a74413619fe12273": {
      "model_module": "@jupyter-widgets/controls",
      "model_module_version": "1.5.0",
      "model_name": "ButtonStyleModel",
      "state": {}
     },
     "4824acb924624a5882938bd9ce2c3628": {
      "model_module": "@jupyter-widgets/controls",
      "model_module_version": "1.5.0",
      "model_name": "DescriptionStyleModel",
      "state": {
       "description_width": ""
      }
     },
     "48320e228fdb46459039bd9e6e9a2489": {
      "model_module": "@jupyter-widgets/base",
      "model_module_version": "1.2.0",
      "model_name": "LayoutModel",
      "state": {
       "width": "250px"
      }
     },
     "48a70270c4e14e12a7dafbfab37caddc": {
      "model_module": "@jupyter-widgets/controls",
      "model_module_version": "1.5.0",
      "model_name": "DescriptionStyleModel",
      "state": {
       "description_width": ""
      }
     },
     "48cf6bfa28554c368b38497bc97c4d3c": {
      "model_module": "@jupyter-widgets/base",
      "model_module_version": "1.2.0",
      "model_name": "LayoutModel",
      "state": {
       "justify_content": "center"
      }
     },
     "48d4a1f1d19f45db9e582084080b3f7e": {
      "model_module": "@jupyter-widgets/base",
      "model_module_version": "1.2.0",
      "model_name": "LayoutModel",
      "state": {}
     },
     "48fedbbd05e04be5b41823ba1d36d24f": {
      "model_module": "@jupyter-widgets/controls",
      "model_module_version": "1.5.0",
      "model_name": "ButtonStyleModel",
      "state": {}
     },
     "4913b437bb5640f2894f428fa1ab646b": {
      "model_module": "@jupyter-widgets/base",
      "model_module_version": "1.2.0",
      "model_name": "LayoutModel",
      "state": {}
     },
     "493441ef87914590be17e53832a185b7": {
      "model_module": "@jupyter-widgets/controls",
      "model_module_version": "1.5.0",
      "model_name": "HTMLModel",
      "state": {
       "layout": "IPY_MODEL_83bd5a0810874f6ab81968c564ae21a4",
       "style": "IPY_MODEL_35c63962fb6f4e49a68489f5255f8483",
       "value": "<i>Wählen Sie die <ins>eine</ins> korrekte Antwort aus: </i>"
      }
     },
     "494b50c9e96b448f84beddf6e70355aa": {
      "model_module": "@jupyter-widgets/controls",
      "model_module_version": "1.5.0",
      "model_name": "DescriptionStyleModel",
      "state": {
       "description_width": "initial"
      }
     },
     "496137db4873485c86ae1d68175c3779": {
      "model_module": "@jupyter-widgets/controls",
      "model_module_version": "1.5.0",
      "model_name": "CheckboxModel",
      "state": {
       "description": "Die Form des Adjektivs richtet sich nach dem Genus des Substantivs.",
       "disabled": false,
       "layout": "IPY_MODEL_0b184903c1e94b72969f27a495ec43fa",
       "style": "IPY_MODEL_320e3493b3384488a4b022048ea9e5f9",
       "value": false
      }
     },
     "498707a7ce4842fc96ae0e8a68de1cba": {
      "model_module": "@jupyter-widgets/controls",
      "model_module_version": "1.5.0",
      "model_name": "ButtonStyleModel",
      "state": {}
     },
     "49af17a39efb45c189bc6e1645293b95": {
      "model_module": "@jupyter-widgets/base",
      "model_module_version": "1.2.0",
      "model_name": "LayoutModel",
      "state": {
       "width": "600px"
      }
     },
     "49b24a9cf76e4f15ae420fd9465343da": {
      "model_module": "@jupyter-widgets/controls",
      "model_module_version": "1.5.0",
      "model_name": "VBoxModel",
      "state": {
       "children": [
        "IPY_MODEL_4afbc5c82e3f4ee28e74ec5ff958cfae",
        "IPY_MODEL_a76e4de8d39a4c7192fe50728beeb9fa",
        "IPY_MODEL_6901e1fc319f4cd89b2012ada11d6129",
        "IPY_MODEL_1578436ad9b24caaa7b66e80042e89fe"
       ],
       "layout": "IPY_MODEL_df81e3a52b954b0fac787a72cd9bca11"
      }
     },
     "49c6f73b6f574eb5934ee404d82bfe87": {
      "model_module": "@jupyter-widgets/controls",
      "model_module_version": "1.5.0",
      "model_name": "ButtonModel",
      "state": {
       "description": "Korrekt?",
       "layout": "IPY_MODEL_5dae7d1488224dc1a8043da4e724bc3b",
       "style": "IPY_MODEL_d65a4ba046e745f798c5afdfbae23145"
      }
     },
     "49d41352885749f48030be279fbcc0c2": {
      "model_module": "@jupyter-widgets/base",
      "model_module_version": "1.2.0",
      "model_name": "LayoutModel",
      "state": {
       "width": "600px"
      }
     },
     "49d652a7b3e94b27b767a7ab7241be09": {
      "model_module": "@jupyter-widgets/base",
      "model_module_version": "1.2.0",
      "model_name": "LayoutModel",
      "state": {}
     },
     "49de25695a5f4818890f5831273ab3ba": {
      "model_module": "@jupyter-widgets/controls",
      "model_module_version": "1.5.0",
      "model_name": "CheckboxModel",
      "state": {
       "description": "74; ('address', 'number')",
       "disabled": false,
       "layout": "IPY_MODEL_3cef94ddb9614606a4681edbb20d9687",
       "style": "IPY_MODEL_9fe3bc025e9c462eaed524f35b53ea9a",
       "value": false
      }
     },
     "49fa6f8ea1804cbba825f6dc01b42354": {
      "model_module": "@jupyter-widgets/base",
      "model_module_version": "1.2.0",
      "model_name": "LayoutModel",
      "state": {}
     },
     "4a328547577b4e4c8ab3ac179682f592": {
      "model_module": "@jupyter-widgets/controls",
      "model_module_version": "1.5.0",
      "model_name": "VBoxModel",
      "state": {
       "children": [
        "IPY_MODEL_9807e19ca6a3409297f573e920771669",
        "IPY_MODEL_9dc28601dd22442e995f1a524600cafa",
        "IPY_MODEL_7e6af724d3cc4d909292162bc771d981"
       ],
       "layout": "IPY_MODEL_4913b437bb5640f2894f428fa1ab646b"
      }
     },
     "4a563ce2f7eb4695911effb7208c8b5c": {
      "model_module": "@jupyter-widgets/controls",
      "model_module_version": "1.5.0",
      "model_name": "HTMLModel",
      "state": {
       "layout": "IPY_MODEL_0fe77bc3765d40ffae0b82ac8c9d9979",
       "style": "IPY_MODEL_2eda123f582142a08c5be67de26487fa",
       "value": "<h4 style=\"font-size:14px;\">Welche native python-Datenstruktur bietet sich für die Deklaration von Merkmalstrukturen als Menge von Attribut-Wert-Paaren an?</h4>"
      }
     },
     "4a56d7910e49429ca0bea5766f95b28a": {
      "model_module": "@jupyter-widgets/controls",
      "model_module_version": "1.5.0",
      "model_name": "DescriptionStyleModel",
      "state": {
       "description_width": "initial"
      }
     },
     "4a5a33e51201492ea9e2165c50acd123": {
      "model_module": "@jupyter-widgets/base",
      "model_module_version": "1.2.0",
      "model_name": "LayoutModel",
      "state": {
       "width": "600px"
      }
     },
     "4a687f0f213a48aa8b5ab439cd68c0ac": {
      "model_module": "@jupyter-widgets/controls",
      "model_module_version": "1.5.0",
      "model_name": "ButtonStyleModel",
      "state": {}
     },
     "4aa758a318cd44faba4f5c7f6464aa69": {
      "model_module": "@jupyter-widgets/base",
      "model_module_version": "1.2.0",
      "model_name": "LayoutModel",
      "state": {}
     },
     "4aac7dc25177484f89ecb4089487a4da": {
      "model_module": "@jupyter-widgets/controls",
      "model_module_version": "1.5.0",
      "model_name": "DescriptionStyleModel",
      "state": {
       "description_width": ""
      }
     },
     "4ac132a0195c49a99d4dac30c6c3f09e": {
      "model_module": "@jupyter-widgets/controls",
      "model_module_version": "1.5.0",
      "model_name": "ButtonModel",
      "state": {
       "description": "dictionary",
       "layout": "IPY_MODEL_9365c5fda8174ec6949c7c61812d9b19",
       "style": "IPY_MODEL_9a6a16bdb3144f4f9dde5d044f999119"
      }
     },
     "4ac3590e9bd64a17a3494485c160de09": {
      "model_module": "@jupyter-widgets/base",
      "model_module_version": "1.2.0",
      "model_name": "LayoutModel",
      "state": {
       "width": "600px"
      }
     },
     "4ae234c5dd04432d89c9eb85eada8818": {
      "model_module": "@jupyter-widgets/controls",
      "model_module_version": "1.5.0",
      "model_name": "DescriptionStyleModel",
      "state": {
       "description_width": "initial"
      }
     },
     "4afa7c2995eb4fee93668a2c85ed9bef": {
      "model_module": "@jupyter-widgets/controls",
      "model_module_version": "1.5.0",
      "model_name": "BoxModel",
      "state": {
       "children": [
        "IPY_MODEL_4c6d85d962144d1ba97610ab6968340d",
        "IPY_MODEL_c9d38c82fe7e4ce78b472e6a141bac82",
        "IPY_MODEL_d9790c1100904d8da79ae3eb975e8d3a",
        "IPY_MODEL_5c52264b973e40e18f2c39eda1bc0c53",
        "IPY_MODEL_af08898f7a9847e2bdfe2f3ee74d9836",
        "IPY_MODEL_2484e64acb4c46a8bf8b15921f508186",
        "IPY_MODEL_5eeb98c70373460aa32641d8d69844d3",
        "IPY_MODEL_5af9c728859242689a414a7f5ffead01",
        "IPY_MODEL_80e98be1ffb442659fc26bb59f7c8013",
        "IPY_MODEL_9d613195d0034d9f8a1011f5a64761c6",
        "IPY_MODEL_f4d7cc37845349fcac22a48833d50dc3"
       ],
       "layout": "IPY_MODEL_25b30a61b12e44139c83a8755a15bb33"
      }
     },
     "4afbc5c82e3f4ee28e74ec5ff958cfae": {
      "model_module": "@jupyter-widgets/controls",
      "model_module_version": "1.5.0",
      "model_name": "HTMLModel",
      "state": {
       "layout": "IPY_MODEL_3cf28cffb44d473c9b908fa39fc8c25a",
       "style": "IPY_MODEL_326024464564428ab9b7c0ff925b81fc",
       "value": "<h4 style=\"font-size:14px;\">Welche kommunikativ-funktionalen Unterschiede bestehen?</h4>"
      }
     },
     "4afdda77d7d34afca83c68a00ecf2f75": {
      "model_module": "@jupyter-widgets/base",
      "model_module_version": "1.2.0",
      "model_name": "LayoutModel",
      "state": {
       "justify_content": "center"
      }
     },
     "4afe4cfe3e6945ed826d893a74af1ba9": {
      "model_module": "@jupyter-widgets/controls",
      "model_module_version": "1.5.0",
      "model_name": "DescriptionStyleModel",
      "state": {
       "description_width": ""
      }
     },
     "4b25dbdcddab4eadb0fb2668e1618801": {
      "model_module": "@jupyter-widgets/base",
      "model_module_version": "1.2.0",
      "model_name": "LayoutModel",
      "state": {
       "width": "250px"
      }
     },
     "4b29a8597c7b48c1b9cf196351fc1352": {
      "model_module": "@jupyter-widgets/controls",
      "model_module_version": "1.5.0",
      "model_name": "CheckboxModel",
      "state": {
       "description": "Das Adjektiv übernimmt die Genus- und z.T. die Kasusmarkierung.",
       "disabled": false,
       "layout": "IPY_MODEL_b20adbeaf5c14d188eb9d057a24d93e5",
       "style": "IPY_MODEL_80fefe84eeef436a86330fe2630634d2",
       "value": false
      }
     },
     "4b29da30636b472ca8c8293fd21d5a26": {
      "model_module": "@jupyter-widgets/controls",
      "model_module_version": "1.5.0",
      "model_name": "CheckboxModel",
      "state": {
       "description": "Sie werden im Vorhinein deklariert (feature lexicon)",
       "disabled": false,
       "layout": "IPY_MODEL_2fc11d2661954a088e016ccc897e03ce",
       "style": "IPY_MODEL_aa42b4482b1946689ab99e67e7aae68b",
       "value": false
      }
     },
     "4b2be4640c834a93b47b81bbb59d0830": {
      "model_module": "@jupyter-widgets/base",
      "model_module_version": "1.2.0",
      "model_name": "LayoutModel",
      "state": {
       "justify_content": "center"
      }
     },
     "4b33798f81004bfe8fe7af616248c6c0": {
      "model_module": "@jupyter-widgets/controls",
      "model_module_version": "1.5.0",
      "model_name": "HTMLModel",
      "state": {
       "layout": "IPY_MODEL_22e16fdb31344012a0c5f5c42592ccaa",
       "style": "IPY_MODEL_6911d3a17b144b57b7b9d070bbdc7a9c",
       "value": "<h4 style=\"font-size:14px;\">wird das Adjektiv hier</h4>"
      }
     },
     "4b78cc40161f461fb45e9cad5bdb0723": {
      "model_module": "@jupyter-widgets/controls",
      "model_module_version": "1.5.0",
      "model_name": "DescriptionStyleModel",
      "state": {
       "description_width": "initial"
      }
     },
     "4b88510340ed46b6ae58500a8495bfe2": {
      "model_module": "@jupyter-widgets/base",
      "model_module_version": "1.2.0",
      "model_name": "LayoutModel",
      "state": {
       "width": "600px"
      }
     },
     "4b98bc3d85524b25811a2afb5b67fa31": {
      "model_module": "@jupyter-widgets/controls",
      "model_module_version": "1.5.0",
      "model_name": "VBoxModel",
      "state": {
       "children": [
        "IPY_MODEL_5bf928469e554acb942ff8cb806d2afc",
        "IPY_MODEL_2fba6874fa354cd29eee00bce198e459",
        "IPY_MODEL_98d107fa273b44d584a5888f44e928ac"
       ],
       "layout": "IPY_MODEL_a7ad8f5f47c74228bec793106c73149b"
      }
     },
     "4b9b897d837a4ae6900f4f8328f1798f": {
      "model_module": "@jupyter-widgets/base",
      "model_module_version": "1.2.0",
      "model_name": "LayoutModel",
      "state": {
       "width": "600px"
      }
     },
     "4ba3055e19c64162bd99fafa06004438": {
      "model_module": "@jupyter-widgets/controls",
      "model_module_version": "1.5.0",
      "model_name": "VBoxModel",
      "state": {
       "children": [
        "IPY_MODEL_1ddb999668b048f8a32b2cdf67956e99",
        "IPY_MODEL_21ad7db78e0b438aab2f1056183a58d9",
        "IPY_MODEL_3fb5a9fa91bd4101ba62294121c95d93",
        "IPY_MODEL_aa6453a85efb49ceb02c322e47de0d8b"
       ],
       "layout": "IPY_MODEL_151246929dd24fd7bd98859f4a554769"
      }
     },
     "4bcff569aad5479abe734d4a566c1e66": {
      "model_module": "@jupyter-widgets/controls",
      "model_module_version": "1.5.0",
      "model_name": "HTMLModel",
      "state": {
       "layout": "IPY_MODEL_fa23f9497c734393b469e2c794d979a1",
       "style": "IPY_MODEL_63dfe308ffb04fe3b5c1c86385f3c9b7",
       "value": "<i>Markieren Sie <ins>alle</ins> passenden Antworten: </i>"
      }
     },
     "4bd89214020444ea957bced59ec641c7": {
      "model_module": "@jupyter-widgets/controls",
      "model_module_version": "1.5.0",
      "model_name": "CheckboxModel",
      "state": {
       "description": "'rue Pascal'; ('spouse', 'address', 'street')",
       "disabled": false,
       "layout": "IPY_MODEL_2e0e97ecac62474eb9160a88df37a27c",
       "style": "IPY_MODEL_71512dbdf21a4028a38db275fa95b58d",
       "value": false
      }
     },
     "4c00c7ad8ec64e4290052103c5d20b2d": {
      "model_module": "@jupyter-widgets/base",
      "model_module_version": "1.2.0",
      "model_name": "LayoutModel",
      "state": {
       "width": "250px"
      }
     },
     "4c0ace135c3a48e7845085e00c9c6cd6": {
      "model_module": "@jupyter-widgets/controls",
      "model_module_version": "1.5.0",
      "model_name": "ButtonModel",
      "state": {
       "description": "Korrekt?",
       "layout": "IPY_MODEL_8d9c258e96fe4dd28c08ea65d3d80fe3",
       "style": "IPY_MODEL_d53557c33fa94770ae3025433cc01e4f"
      }
     },
     "4c1ae192aca0403385c635387bbdabf6": {
      "model_module": "@jupyter-widgets/controls",
      "model_module_version": "1.5.0",
      "model_name": "ButtonModel",
      "state": {
       "description": "stack",
       "layout": "IPY_MODEL_a84839cf94af4272a3291a7180baf3d9",
       "style": "IPY_MODEL_bedfe61441414e9fb047130ead596043"
      }
     },
     "4c2208a9f6ca47e8ae5de1ab88a48b4a": {
      "model_module": "@jupyter-widgets/controls",
      "model_module_version": "1.5.0",
      "model_name": "CheckboxModel",
      "state": {
       "description": "Subjekt-Demotion zu Adverbial",
       "disabled": false,
       "layout": "IPY_MODEL_c34c49076048489dbcafe97a32576fad",
       "style": "IPY_MODEL_1578c6d20737439abfa9a971c1254168",
       "value": false
      }
     },
     "4c2a090fec2d45308e7012d4b459c182": {
      "model_module": "@jupyter-widgets/controls",
      "model_module_version": "1.5.0",
      "model_name": "DescriptionStyleModel",
      "state": {
       "description_width": ""
      }
     },
     "4c4638181fe945219eabdbf56ab7f2a3": {
      "model_module": "@jupyter-widgets/base",
      "model_module_version": "1.2.0",
      "model_name": "LayoutModel",
      "state": {
       "width": "250px"
      }
     },
     "4c5ec5502c094d14927715c35bbbb818": {
      "model_module": "@jupyter-widgets/base",
      "model_module_version": "1.2.0",
      "model_name": "LayoutModel",
      "state": {
       "width": "250px"
      }
     },
     "4c6d7437be6b41328b32e2db7f3995a7": {
      "model_module": "@jupyter-widgets/base",
      "model_module_version": "1.2.0",
      "model_name": "LayoutModel",
      "state": {
       "justify_content": "center"
      }
     },
     "4c6d85d962144d1ba97610ab6968340d": {
      "model_module": "@jupyter-widgets/controls",
      "model_module_version": "1.5.0",
      "model_name": "HTMLModel",
      "state": {
       "layout": "IPY_MODEL_70eeca82021b49e4be8c72db543d5493",
       "style": "IPY_MODEL_5586577d96464debaa8cabbef6302bd5",
       "value": "<h4 style=\"font-size:14px;\">In Verbindung mit einem</h4>"
      }
     },
     "4c7dc66e29f64e7e80e8418df58e8f45": {
      "model_module": "@jupyter-widgets/controls",
      "model_module_version": "1.5.0",
      "model_name": "HTMLModel",
      "state": {
       "layout": "IPY_MODEL_f1585d38358a4598a097b80e8e3d0865",
       "style": "IPY_MODEL_07b375e2ed134ce5a2692a0c92cc21a6",
       "value": "<h4 style=\"font-size:14px;\">Wie werden Features in formalen Grammatiken verwendet?</h4>"
      }
     },
     "4c85dfedf2b84eafa02a089e98de4f6d": {
      "model_module": "@jupyter-widgets/base",
      "model_module_version": "1.2.0",
      "model_name": "LayoutModel",
      "state": {}
     },
     "4ca45765bcc645ffadf2bb71eda5bde6": {
      "model_module": "@jupyter-widgets/controls",
      "model_module_version": "1.5.0",
      "model_name": "DropdownModel",
      "state": {
       "_options_labels": [
        "nicht",
        "schwach",
        "stark",
        " "
       ],
       "index": 3,
       "layout": "IPY_MODEL_edc6de878b34480ca03a1b35950a6f42",
       "style": "IPY_MODEL_151b4a2868f8462dbe21d39b4d9d8e2e"
      }
     },
     "4cbb80bf14bb47b692977bd290a522cb": {
      "model_module": "@jupyter-widgets/controls",
      "model_module_version": "1.5.0",
      "model_name": "VBoxModel",
      "state": {
       "children": [
        "IPY_MODEL_4a563ce2f7eb4695911effb7208c8b5c",
        "IPY_MODEL_26f3444a47cb4ab5bd06fbf95f4a00b5",
        "IPY_MODEL_9e72b630e7704d0fa4e44f3a46651b17",
        "IPY_MODEL_c6a4b4b00df546f9b4328da6d45e7788"
       ],
       "layout": "IPY_MODEL_1dc5af31855b403a9f9b38e7ddf50ab2"
      }
     },
     "4cdae430104446b29672bdb908605878": {
      "model_module": "@jupyter-widgets/base",
      "model_module_version": "1.2.0",
      "model_name": "LayoutModel",
      "state": {
       "width": "600px"
      }
     },
     "4cf0475b6585467984fea90bcc33a6dd": {
      "model_module": "@jupyter-widgets/controls",
      "model_module_version": "1.5.0",
      "model_name": "DescriptionStyleModel",
      "state": {
       "description_width": ""
      }
     },
     "4cf27e4124eb4404a6a3282c8f1e42f4": {
      "model_module": "@jupyter-widgets/base",
      "model_module_version": "1.2.0",
      "model_name": "LayoutModel",
      "state": {
       "width": "250px"
      }
     },
     "4d13397e1444466a87b6ef91f7c18082": {
      "model_module": "@jupyter-widgets/controls",
      "model_module_version": "1.5.0",
      "model_name": "ButtonStyleModel",
      "state": {}
     },
     "4d23458bc4444ac6aa906b8297dd7184": {
      "model_module": "@jupyter-widgets/base",
      "model_module_version": "1.2.0",
      "model_name": "LayoutModel",
      "state": {}
     },
     "4d4beab25ef243ce84b0b6f1e9a0c1e0": {
      "model_module": "@jupyter-widgets/base",
      "model_module_version": "1.2.0",
      "model_name": "LayoutModel",
      "state": {
       "width": "600px"
      }
     },
     "4d711b93ca0d4577b886773d3d89ada6": {
      "model_module": "@jupyter-widgets/base",
      "model_module_version": "1.2.0",
      "model_name": "LayoutModel",
      "state": {
       "justify_content": "center"
      }
     },
     "4dd692b7b7114057811c07fce8109e5a": {
      "model_module": "@jupyter-widgets/controls",
      "model_module_version": "1.5.0",
      "model_name": "DescriptionStyleModel",
      "state": {
       "description_width": "initial"
      }
     },
     "4df5ad2001f0443081452af52df91a05": {
      "model_module": "@jupyter-widgets/base",
      "model_module_version": "1.2.0",
      "model_name": "LayoutModel",
      "state": {}
     },
     "4df6c1cb0cff4c9ebdef714c8c94e068": {
      "model_module": "@jupyter-widgets/controls",
      "model_module_version": "1.5.0",
      "model_name": "HTMLModel",
      "state": {
       "layout": "IPY_MODEL_ace58eed2b9f4b218a073514fc761a87",
       "style": "IPY_MODEL_257f9d0d9a0d40c89f31c7f6a1d2dbec",
       "value": "<i>Markieren Sie <ins>alle</ins> passenden Antworten: </i>"
      }
     },
     "4dfb06cf62c340b7b38c2a1188fe352e": {
      "model_module": "@jupyter-widgets/base",
      "model_module_version": "1.2.0",
      "model_name": "LayoutModel",
      "state": {
       "width": "600px"
      }
     },
     "4e1d1179238142b88f90659326407147": {
      "model_module": "@jupyter-widgets/base",
      "model_module_version": "1.2.0",
      "model_name": "LayoutModel",
      "state": {
       "width": "600px"
      }
     },
     "4e2373ad71ad4f7d8e569e308de2ab7f": {
      "model_module": "@jupyter-widgets/base",
      "model_module_version": "1.2.0",
      "model_name": "LayoutModel",
      "state": {}
     },
     "4e42c8ea2aea4c578c5e40955ec3d947": {
      "model_module": "@jupyter-widgets/base",
      "model_module_version": "1.2.0",
      "model_name": "LayoutModel",
      "state": {}
     },
     "4e44971cad574fee9b377b8c41dcaced": {
      "model_module": "@jupyter-widgets/controls",
      "model_module_version": "1.5.0",
      "model_name": "HTMLModel",
      "state": {
       "layout": "IPY_MODEL_8b05a2a9ace045f0ad98a27c98dc0a6f",
       "style": "IPY_MODEL_7364f0dbc1bc4afb831e17b014b22820",
       "value": "<i>Markieren Sie <ins>alle</ins> passenden Antworten: </i>"
      }
     },
     "4e6112394aff4dedb00c7646b7c79914": {
      "model_module": "@jupyter-widgets/base",
      "model_module_version": "1.2.0",
      "model_name": "LayoutModel",
      "state": {
       "width": "600px"
      }
     },
     "4e718ba85ec143e596c822c4942cf3e0": {
      "model_module": "@jupyter-widgets/controls",
      "model_module_version": "1.5.0",
      "model_name": "ButtonModel",
      "state": {
       "description": "Korrekt?",
       "layout": "IPY_MODEL_9a6a4b8e776f46eeb80337b127cf2e82",
       "style": "IPY_MODEL_ede404188d7549d89bbd6352fff7dc46"
      }
     },
     "4e9d666015584c999950494b8b0b41d7": {
      "model_module": "@jupyter-widgets/controls",
      "model_module_version": "1.5.0",
      "model_name": "DescriptionStyleModel",
      "state": {
       "description_width": ""
      }
     },
     "4eaba41db7314d61aa3be3d8e6900e39": {
      "model_module": "@jupyter-widgets/controls",
      "model_module_version": "1.5.0",
      "model_name": "DescriptionStyleModel",
      "state": {
       "description_width": ""
      }
     },
     "4eb262dcceee45ea9abc2f01bc758876": {
      "model_module": "@jupyter-widgets/base",
      "model_module_version": "1.2.0",
      "model_name": "LayoutModel",
      "state": {}
     },
     "4eb483d1c68f404492d65fe1757d875d": {
      "model_module": "@jupyter-widgets/controls",
      "model_module_version": "1.5.0",
      "model_name": "HBoxModel",
      "state": {
       "children": [
        "IPY_MODEL_35ee82c42ea148bf9ff8dc5fe6618175",
        "IPY_MODEL_67d0c84b72b94db4b8928e20f2e317c5"
       ],
       "layout": "IPY_MODEL_506ecb8a34304282ae110bb57ba3b69e"
      }
     },
     "4ed6eef2dd21410fa52a6c9782727537": {
      "model_module": "@jupyter-widgets/controls",
      "model_module_version": "1.5.0",
      "model_name": "DescriptionStyleModel",
      "state": {
       "description_width": "initial"
      }
     },
     "4f0be68efb0344fb9331cd36b5032271": {
      "model_module": "@jupyter-widgets/controls",
      "model_module_version": "1.5.0",
      "model_name": "ButtonModel",
      "state": {
       "description": "list",
       "layout": "IPY_MODEL_c47f47c18bee4425906fce8c039e7dcc",
       "style": "IPY_MODEL_d82d1f6c14eb4bafb769c31b93d6e28b"
      }
     },
     "4f17a544b4fb4ccf8fdabfc17e40312c": {
      "model_module": "@jupyter-widgets/controls",
      "model_module_version": "1.5.0",
      "model_name": "DescriptionStyleModel",
      "state": {
       "description_width": ""
      }
     },
     "4f6c0e85f8d5430e97150f17dabc56d5": {
      "model_module": "@jupyter-widgets/base",
      "model_module_version": "1.2.0",
      "model_name": "LayoutModel",
      "state": {
       "justify_content": "center"
      }
     },
     "4f6fb482c2e84e06bee91ee381cfe41d": {
      "model_module": "@jupyter-widgets/base",
      "model_module_version": "1.2.0",
      "model_name": "LayoutModel",
      "state": {
       "width": "600px"
      }
     },
     "4f8b38c1101647cf812ef617649e853e": {
      "model_module": "@jupyter-widgets/controls",
      "model_module_version": "1.5.0",
      "model_name": "HTMLModel",
      "state": {
       "layout": "IPY_MODEL_d5c5b09e3c624b0bb785895e60a51f7d",
       "style": "IPY_MODEL_b70166cf062d4a9ea0e632d38b3a0461",
       "value": "<h4 style=\"font-size:14px;\">keine</h4>"
      }
     },
     "4f93467d45ab4fff96446769ce8a4f8e": {
      "model_module": "@jupyter-widgets/controls",
      "model_module_version": "1.5.0",
      "model_name": "DescriptionStyleModel",
      "state": {
       "description_width": ""
      }
     },
     "4fa457542f334f4b8726ddc8c14c7753": {
      "model_module": "@jupyter-widgets/controls",
      "model_module_version": "1.5.0",
      "model_name": "HTMLModel",
      "state": {
       "layout": "IPY_MODEL_0d85a89a2ee24fc197f95f74cd67db21",
       "style": "IPY_MODEL_83e07edbe30f4f51b04946c85fe3592e",
       "value": "<h4 style=\"font-size:14px;\">Wie wird die Deklination der Nominalphrase <i>altes Bier</i> auch bezeichnet?</h4>"
      }
     },
     "4fb76190f8ce4c3eae6129796375c40f": {
      "model_module": "@jupyter-widgets/base",
      "model_module_version": "1.2.0",
      "model_name": "LayoutModel",
      "state": {
       "width": "250px"
      }
     },
     "4fc50f62441b49da846da9fe6f01f63d": {
      "model_module": "@jupyter-widgets/controls",
      "model_module_version": "1.5.0",
      "model_name": "DescriptionStyleModel",
      "state": {
       "description_width": "initial"
      }
     },
     "500465ea6a314922bf63440d6decd538": {
      "model_module": "@jupyter-widgets/controls",
      "model_module_version": "1.5.0",
      "model_name": "DescriptionStyleModel",
      "state": {
       "description_width": ""
      }
     },
     "500f939cc82c49c584f2e5899b525708": {
      "model_module": "@jupyter-widgets/controls",
      "model_module_version": "1.5.0",
      "model_name": "DescriptionStyleModel",
      "state": {
       "description_width": "initial"
      }
     },
     "5012c0e077824c75b368c68b22cfd6a0": {
      "model_module": "@jupyter-widgets/base",
      "model_module_version": "1.2.0",
      "model_name": "LayoutModel",
      "state": {}
     },
     "501a3309eb704aa8ba99774266921471": {
      "model_module": "@jupyter-widgets/controls",
      "model_module_version": "1.5.0",
      "model_name": "VBoxModel",
      "state": {
       "children": [
        "IPY_MODEL_e90b5b474a3e4bb9929d79ffebb39aaa",
        "IPY_MODEL_d2a13dd9fd9e49209f410734cebf0889",
        "IPY_MODEL_07b790ed27b74b319219ff42a7847eea"
       ],
       "layout": "IPY_MODEL_75fb53804c784cb1bdda52fb986ab29b"
      }
     },
     "5036ca9c8346411d9f7a866d20869b68": {
      "model_module": "@jupyter-widgets/base",
      "model_module_version": "1.2.0",
      "model_name": "LayoutModel",
      "state": {}
     },
     "505f076f41984d0d9052bdba77746b86": {
      "model_module": "@jupyter-widgets/controls",
      "model_module_version": "1.5.0",
      "model_name": "HBoxModel",
      "state": {
       "children": [
        "IPY_MODEL_3b84c92322084de2afcee8c9f8c1e13b",
        "IPY_MODEL_7808dd28936344229c4cf012f3bc8b84"
       ],
       "layout": "IPY_MODEL_7bfc5452acd34b4888fa8b3d9f021f5e"
      }
     },
     "506ecb8a34304282ae110bb57ba3b69e": {
      "model_module": "@jupyter-widgets/base",
      "model_module_version": "1.2.0",
      "model_name": "LayoutModel",
      "state": {}
     },
     "5079e8f7e7ed4340b6a6fa8971b2805f": {
      "model_module": "@jupyter-widgets/base",
      "model_module_version": "1.2.0",
      "model_name": "LayoutModel",
      "state": {
       "justify_content": "center"
      }
     },
     "509567a30b3d4591a296090539ceecdf": {
      "model_module": "@jupyter-widgets/controls",
      "model_module_version": "1.5.0",
      "model_name": "ButtonModel",
      "state": {
       "description": "Korrekt?",
       "layout": "IPY_MODEL_b0952a60273645339e2b34dea1546fe4",
       "style": "IPY_MODEL_b1c4794d5b1e42c0b3fdcfba40934134"
      }
     },
     "509f8052e11b466686d2908ec339ab53": {
      "model_module": "@jupyter-widgets/controls",
      "model_module_version": "1.5.0",
      "model_name": "CheckboxModel",
      "state": {
       "description": "Ausrichtung der Empathie",
       "disabled": false,
       "layout": "IPY_MODEL_6b8c6bc51d5243efb10f5b924302d52e",
       "style": "IPY_MODEL_9e48d481b5674ef8bda9cd4f53ccae94",
       "value": false
      }
     },
     "50a0dbc26a374cf1bbba082dc74aaa40": {
      "model_module": "@jupyter-widgets/base",
      "model_module_version": "1.2.0",
      "model_name": "LayoutModel",
      "state": {
       "width": "150px"
      }
     },
     "50b7d3c975464c7593f5d18ef49e8498": {
      "model_module": "@jupyter-widgets/controls",
      "model_module_version": "1.5.0",
      "model_name": "DescriptionStyleModel",
      "state": {
       "description_width": "initial"
      }
     },
     "50c571e2ba764176b50d72e5cacc2836": {
      "model_module": "@jupyter-widgets/base",
      "model_module_version": "1.2.0",
      "model_name": "LayoutModel",
      "state": {
       "width": "250px"
      }
     },
     "50c71e4fd62a473dabfa05fd54c50562": {
      "model_module": "@jupyter-widgets/controls",
      "model_module_version": "1.5.0",
      "model_name": "HTMLModel",
      "state": {
       "layout": "IPY_MODEL_622b1f66ea4b4f29a13d1f093b7848eb",
       "style": "IPY_MODEL_d39e263f7b43467d9e995ae4913d432c",
       "value": "<h4 style=\"font-size:14px;\">Welche Aussagen gelten für den Fall, dass das Adjektiv in einer NP ohne Artikel auftritt? (vgl. <i>altes Bier</i>)</h4>"
      }
     },
     "512f8b729b0045bc9a286625d474b4dc": {
      "model_module": "@jupyter-widgets/controls",
      "model_module_version": "1.5.0",
      "model_name": "VBoxModel",
      "state": {
       "children": [
        "IPY_MODEL_88191ccb27a44616917108b5825abe3b",
        "IPY_MODEL_3ceafc92b1774494a604099bca9ae2d6",
        "IPY_MODEL_e3547650f41f442884e67908d21ceb70",
        "IPY_MODEL_f0b28b14a445494c86b9d9355115e669",
        "IPY_MODEL_4081f7ba55044997916f3125c7b22d7f",
        "IPY_MODEL_10503e13d3204f0aa529a41b7a1abd45"
       ],
       "layout": "IPY_MODEL_421d3dd03f2b4fcbaa78f0c10281c066"
      }
     },
     "517f4fd787384a9591ac775b6dd4cd1f": {
      "model_module": "@jupyter-widgets/controls",
      "model_module_version": "1.5.0",
      "model_name": "ButtonModel",
      "state": {
       "description": "Patiens",
       "layout": "IPY_MODEL_eb4f86f6dc49416aa0e87a8fc76b02eb",
       "style": "IPY_MODEL_48fedbbd05e04be5b41823ba1d36d24f"
      }
     },
     "51b433e5812b4b14b481003e12564200": {
      "model_module": "@jupyter-widgets/controls",
      "model_module_version": "1.5.0",
      "model_name": "VBoxModel",
      "state": {
       "children": [
        "IPY_MODEL_7980167277444cb58346e9fd108b8b77",
        "IPY_MODEL_856ae2ddc7c3462bb836847d7fee2cdf",
        "IPY_MODEL_6919ffeca01240f2bb65811db2616c9a"
       ],
       "layout": "IPY_MODEL_b383f7a236fe466a8474b174b2c10315"
      }
     },
     "51c0775f6cc845e7a3a68de15773d5e2": {
      "model_module": "@jupyter-widgets/controls",
      "model_module_version": "1.5.0",
      "model_name": "ButtonModel",
      "state": {
       "description": "unbestimmten",
       "layout": "IPY_MODEL_74a0a98efbb440dca291cf3e65bf1a04",
       "style": "IPY_MODEL_fda125d046cf4bfb95d0ff743137f141"
      }
     },
     "51c4204e44ad4b8e9e8f22eadb282d63": {
      "model_module": "@jupyter-widgets/base",
      "model_module_version": "1.2.0",
      "model_name": "LayoutModel",
      "state": {}
     },
     "51d0fd80e2ed433f9ccb10f7a1c9a9ab": {
      "model_module": "@jupyter-widgets/controls",
      "model_module_version": "1.5.0",
      "model_name": "HTMLModel",
      "state": {
       "layout": "IPY_MODEL_9581cccda3014e91b6696ac410ed0434",
       "style": "IPY_MODEL_a083a3be8caf474cb0510041fe6a9146",
       "value": "<i>Markieren Sie <ins>alle</ins> passenden Antworten: </i>"
      }
     },
     "51fff09f65b84478a9591c71aefb886f": {
      "model_module": "@jupyter-widgets/base",
      "model_module_version": "1.2.0",
      "model_name": "LayoutModel",
      "state": {
       "width": "250px"
      }
     },
     "522e2a23e829469ab4a6c8b4409b328d": {
      "model_module": "@jupyter-widgets/base",
      "model_module_version": "1.2.0",
      "model_name": "LayoutModel",
      "state": {}
     },
     "523468514208470ab154db43ecec9e29": {
      "model_module": "@jupyter-widgets/base",
      "model_module_version": "1.2.0",
      "model_name": "LayoutModel",
      "state": {}
     },
     "52537bd3fc6a434db08d1ec54a2624bc": {
      "model_module": "@jupyter-widgets/controls",
      "model_module_version": "1.5.0",
      "model_name": "VBoxModel",
      "state": {
       "children": [
        "IPY_MODEL_688ce6d2967247c58b88194829179645",
        "IPY_MODEL_25085ccd032a46b7b89f291727a9a26d",
        "IPY_MODEL_49de25695a5f4818890f5831273ab3ba"
       ],
       "layout": "IPY_MODEL_0302f9f8aea04ff0b4f279fedb3fc712"
      }
     },
     "526ecbb3ebc6479e965ee65206843c16": {
      "model_module": "@jupyter-widgets/controls",
      "model_module_version": "1.5.0",
      "model_name": "VBoxModel",
      "state": {
       "children": [
        "IPY_MODEL_2df0a7f1a3e84cc390bea57bcd33cd85",
        "IPY_MODEL_c51bc8d395b749d5a31c9ab4b3b6421a",
        "IPY_MODEL_cacafa00dae148f3b8b568b011cab8ce",
        "IPY_MODEL_bd2e7f2ce17248268d71b1a143a5b87d"
       ],
       "layout": "IPY_MODEL_27abe93ecd5c4ed39b87695a51cef0e7"
      }
     },
     "52803b384ede4bb286ee71a01fe6d5a4": {
      "model_module": "@jupyter-widgets/controls",
      "model_module_version": "1.5.0",
      "model_name": "CheckboxModel",
      "state": {
       "description": "?x",
       "disabled": false,
       "layout": "IPY_MODEL_a854b572bd22420da3e5e4e258baf5d9",
       "style": "IPY_MODEL_433f77bb12f84528b862ada48980d3f2",
       "value": false
      }
     },
     "52a20da62ec044118b72e9e87aae2c0f": {
      "model_module": "@jupyter-widgets/controls",
      "model_module_version": "1.5.0",
      "model_name": "DescriptionStyleModel",
      "state": {
       "description_width": "initial"
      }
     },
     "52ec2591b7364587b1dc260e4e8c07db": {
      "model_module": "@jupyter-widgets/base",
      "model_module_version": "1.2.0",
      "model_name": "LayoutModel",
      "state": {
       "width": "600px"
      }
     },
     "52fb4592b0e04226841df64d4bcdfa16": {
      "model_module": "@jupyter-widgets/base",
      "model_module_version": "1.2.0",
      "model_name": "LayoutModel",
      "state": {
       "justify_content": "center"
      }
     },
     "5302c408b4c14eb29638c466f7dcfabb": {
      "model_module": "@jupyter-widgets/controls",
      "model_module_version": "1.5.0",
      "model_name": "HBoxModel",
      "state": {
       "children": [
        "IPY_MODEL_ebd4cf30c4c4496ca71ba8b9b9c88256",
        "IPY_MODEL_efb9a57efab74857a71e246a4398c90e"
       ],
       "layout": "IPY_MODEL_9af0c98dd5ea451ba37129538644dae3"
      }
     },
     "5308976a434a4b4c8f11d59334d1bd72": {
      "model_module": "@jupyter-widgets/controls",
      "model_module_version": "1.5.0",
      "model_name": "DescriptionStyleModel",
      "state": {
       "description_width": ""
      }
     },
     "530c4882e7e84beda12e3054e57f74c8": {
      "model_module": "@jupyter-widgets/controls",
      "model_module_version": "1.5.0",
      "model_name": "DescriptionStyleModel",
      "state": {
       "description_width": "initial"
      }
     },
     "53290974eb7e4e25b8cdd8098839e8e8": {
      "model_module": "@jupyter-widgets/controls",
      "model_module_version": "1.5.0",
      "model_name": "DescriptionStyleModel",
      "state": {
       "description_width": "initial"
      }
     },
     "533b602e764e4d248b363dcd2f78920f": {
      "model_module": "@jupyter-widgets/controls",
      "model_module_version": "1.5.0",
      "model_name": "DescriptionStyleModel",
      "state": {
       "description_width": "initial"
      }
     },
     "53448ec42e204542bc88a3df2d00fb22": {
      "model_module": "@jupyter-widgets/controls",
      "model_module_version": "1.5.0",
      "model_name": "ButtonStyleModel",
      "state": {}
     },
     "5353954b08d24f4eb10ed02e988e7bd3": {
      "model_module": "@jupyter-widgets/base",
      "model_module_version": "1.2.0",
      "model_name": "LayoutModel",
      "state": {}
     },
     "538f73d7c1964c14811ef9fac1f4af4f": {
      "model_module": "@jupyter-widgets/controls",
      "model_module_version": "1.5.0",
      "model_name": "DescriptionStyleModel",
      "state": {
       "description_width": "initial"
      }
     },
     "53e090f52cae4d9bb5a06e21039889e1": {
      "model_module": "@jupyter-widgets/base",
      "model_module_version": "1.2.0",
      "model_name": "LayoutModel",
      "state": {
       "width": "250px"
      }
     },
     "53e777302b8a4b6ca736976b8713355e": {
      "model_module": "@jupyter-widgets/controls",
      "model_module_version": "1.5.0",
      "model_name": "ButtonStyleModel",
      "state": {}
     },
     "53ef786fd5f54fb183de1c9462909f44": {
      "model_module": "@jupyter-widgets/controls",
      "model_module_version": "1.5.0",
      "model_name": "ButtonModel",
      "state": {
       "description": "Korrekt?",
       "layout": "IPY_MODEL_11df9804fbd447729e4cd4fd0c5503b0",
       "style": "IPY_MODEL_9729160e0283423a953d6c6af721495e"
      }
     },
     "5460be348ae240f791d0db5e817e34dd": {
      "model_module": "@jupyter-widgets/controls",
      "model_module_version": "1.5.0",
      "model_name": "DescriptionStyleModel",
      "state": {
       "description_width": ""
      }
     },
     "547b38c600e743028f0cb0b4681506ee": {
      "model_module": "@jupyter-widgets/controls",
      "model_module_version": "1.5.0",
      "model_name": "HTMLModel",
      "state": {
       "layout": "IPY_MODEL_cb51120d81314d72a65a4a1037ad2683",
       "style": "IPY_MODEL_397f0294cd464e5584c640ba84cd6035",
       "value": "<h4 style=\"font-size:14px;\">Welche Aussagen über Adjektive stimmen?</h4>"
      }
     },
     "54b5509ee0544790bd50249f37f0c842": {
      "model_module": "@jupyter-widgets/controls",
      "model_module_version": "1.5.0",
      "model_name": "ButtonStyleModel",
      "state": {}
     },
     "54be377ba3d0498f9200edb2e58ab8cf": {
      "model_module": "@jupyter-widgets/base",
      "model_module_version": "1.2.0",
      "model_name": "LayoutModel",
      "state": {
       "width": "600px"
      }
     },
     "54c08c77e4344df08327b01021a7d239": {
      "model_module": "@jupyter-widgets/controls",
      "model_module_version": "1.5.0",
      "model_name": "ButtonModel",
      "state": {
       "description": "tuple",
       "layout": "IPY_MODEL_68adff094c484208a3f309135ed9fc5b",
       "style": "IPY_MODEL_12dee9159249416ab2f721a47291f2fe"
      }
     },
     "54d5cb6f4707482aaf64b09c200bdac8": {
      "model_module": "@jupyter-widgets/controls",
      "model_module_version": "1.5.0",
      "model_name": "DescriptionStyleModel",
      "state": {
       "description_width": ""
      }
     },
     "556979fa1ba84a7380197cb96b0afbf5": {
      "model_module": "@jupyter-widgets/controls",
      "model_module_version": "1.5.0",
      "model_name": "DescriptionStyleModel",
      "state": {
       "description_width": "initial"
      }
     },
     "5584311cadf448d79d2b7e159fea077d": {
      "model_module": "@jupyter-widgets/controls",
      "model_module_version": "1.5.0",
      "model_name": "ButtonStyleModel",
      "state": {}
     },
     "5586577d96464debaa8cabbef6302bd5": {
      "model_module": "@jupyter-widgets/controls",
      "model_module_version": "1.5.0",
      "model_name": "DescriptionStyleModel",
      "state": {
       "description_width": ""
      }
     },
     "558a844205eb4cc2983d9186bbd37c6f": {
      "model_module": "@jupyter-widgets/base",
      "model_module_version": "1.2.0",
      "model_name": "LayoutModel",
      "state": {}
     },
     "55902b284da54f19b131a394e2661dd6": {
      "model_module": "@jupyter-widgets/controls",
      "model_module_version": "1.5.0",
      "model_name": "VBoxModel",
      "state": {
       "children": [
        "IPY_MODEL_b4d21b3a90ba4a82b196f8e40a3e4744",
        "IPY_MODEL_d23ea0203d3e43919a9a948318865aef",
        "IPY_MODEL_b5833b8245e8412d84fcd66c6ffc6c53",
        "IPY_MODEL_5daa3f024aa4458e83f31ba6fbea61bc",
        "IPY_MODEL_82b50ca6a1d046799cb8c1c0598c32ef",
        "IPY_MODEL_0f87174091314e78b84f419bf314b73b"
       ],
       "layout": "IPY_MODEL_5acee92083fe49ec91ebf108a565b329"
      }
     },
     "561b187fb4e3469caca45527b37cc50f": {
      "model_module": "@jupyter-widgets/base",
      "model_module_version": "1.2.0",
      "model_name": "LayoutModel",
      "state": {
       "width": "600px"
      }
     },
     "565fe92e02384dd8a59a620cc0b26696": {
      "model_module": "@jupyter-widgets/base",
      "model_module_version": "1.2.0",
      "model_name": "LayoutModel",
      "state": {
       "justify_content": "center"
      }
     },
     "569f318d243f47d2a36ee4397aab6bc0": {
      "model_module": "@jupyter-widgets/controls",
      "model_module_version": "1.5.0",
      "model_name": "DropdownModel",
      "state": {
       "_options_labels": [
        "nicht",
        "schwach",
        "stark",
        " "
       ],
       "index": 3,
       "layout": "IPY_MODEL_14a9b99560034b18bc0bfe5e1fa9e3b8",
       "style": "IPY_MODEL_e1b5fc471a5a4c1b9780e7aa182341e5"
      }
     },
     "56ad49052dba414884d1f1ede93fbb5f": {
      "model_module": "@jupyter-widgets/controls",
      "model_module_version": "1.5.0",
      "model_name": "CheckboxModel",
      "state": {
       "description": "Das Adjektiv tritt nur in zwei verschiedenen Formen auf.",
       "disabled": false,
       "layout": "IPY_MODEL_dd327f8b069c43bb96f92bb6dcce0188",
       "style": "IPY_MODEL_6f0ea93529c94fc988e074ed43a163e4",
       "value": false
      }
     },
     "56bdf1f711734be78367f08cc9f25b57": {
      "model_module": "@jupyter-widgets/base",
      "model_module_version": "1.2.0",
      "model_name": "LayoutModel",
      "state": {
       "width": "600px"
      }
     },
     "573923240c924b7588cf60442d13f081": {
      "model_module": "@jupyter-widgets/controls",
      "model_module_version": "1.5.0",
      "model_name": "CheckboxModel",
      "state": {
       "description": "Sie werden aus der Eingabe extrahiert (feature extraction)",
       "disabled": false,
       "layout": "IPY_MODEL_30b09797ab7447639dd091ecd5fa615a",
       "style": "IPY_MODEL_15dddcb4d21440a7b290366d9b6d1ea3",
       "value": false
      }
     },
     "575389cd547345c18e2c426a23e6ff26": {
      "model_module": "@jupyter-widgets/base",
      "model_module_version": "1.2.0",
      "model_name": "LayoutModel",
      "state": {
       "width": "600px"
      }
     },
     "57592277c3834c0cabc7a02bd0d2447f": {
      "model_module": "@jupyter-widgets/controls",
      "model_module_version": "1.5.0",
      "model_name": "ButtonStyleModel",
      "state": {}
     },
     "576b0628a83049ce87b89dfedda120c5": {
      "model_module": "@jupyter-widgets/base",
      "model_module_version": "1.2.0",
      "model_name": "LayoutModel",
      "state": {}
     },
     "5773a06e830747d9977633d004d93dce": {
      "model_module": "@jupyter-widgets/base",
      "model_module_version": "1.2.0",
      "model_name": "LayoutModel",
      "state": {
       "width": "600px"
      }
     },
     "57b5ecce5220424eb12139b89e7d425a": {
      "model_module": "@jupyter-widgets/base",
      "model_module_version": "1.2.0",
      "model_name": "LayoutModel",
      "state": {
       "width": "600px"
      }
     },
     "57bdc86bb4af4ddd9599019a0f11a94c": {
      "model_module": "@jupyter-widgets/base",
      "model_module_version": "1.2.0",
      "model_name": "LayoutModel",
      "state": {}
     },
     "57d51e9d193a46bca6141294b862079b": {
      "model_module": "@jupyter-widgets/base",
      "model_module_version": "1.2.0",
      "model_name": "LayoutModel",
      "state": {}
     },
     "5817db7f3dc64ddabdf3d478e3e0ad6e": {
      "model_module": "@jupyter-widgets/controls",
      "model_module_version": "1.5.0",
      "model_name": "CheckboxModel",
      "state": {
       "description": "Eine rangiedrigere Rolle übernimmt die Subjektfunktion.",
       "disabled": false,
       "layout": "IPY_MODEL_75e815bdc7f74163997ec84abf0eb647",
       "style": "IPY_MODEL_3e1369edafb449b38202cd15553f4f34",
       "value": false
      }
     },
     "5825b69c09b64f4d8f9c429e37aa46dd": {
      "model_module": "@jupyter-widgets/controls",
      "model_module_version": "1.5.0",
      "model_name": "ButtonStyleModel",
      "state": {}
     },
     "5857b4c5465a467cafa6720b4607810a": {
      "model_module": "@jupyter-widgets/controls",
      "model_module_version": "1.5.0",
      "model_name": "VBoxModel",
      "state": {
       "children": [
        "IPY_MODEL_e10b3f3b0eb54854a635f51956725798",
        "IPY_MODEL_e99b7e06c2e143728e3ce4fb73cfdd6f",
        "IPY_MODEL_c332243d8f514c9da9bf7fa032be6c1c",
        "IPY_MODEL_c5bdbf3a250d4d52be12d1f539fd68a8"
       ],
       "layout": "IPY_MODEL_3efb879cef7c443aac212fcf10c5ab17"
      }
     },
     "585d7562964d4462aaf5dc203236d06f": {
      "model_module": "@jupyter-widgets/base",
      "model_module_version": "1.2.0",
      "model_name": "LayoutModel",
      "state": {
       "width": "600px"
      }
     },
     "589726a7038f4fa18fd9c716864ec22d": {
      "model_module": "@jupyter-widgets/controls",
      "model_module_version": "1.5.0",
      "model_name": "DescriptionStyleModel",
      "state": {
       "description_width": ""
      }
     },
     "589c18c9d2f54f689c3286ab35ae6e7f": {
      "model_module": "@jupyter-widgets/controls",
      "model_module_version": "1.5.0",
      "model_name": "DropdownModel",
      "state": {
       "_options_labels": [
        "Genusmarkierung",
        "Kasusmarkierung",
        " "
       ],
       "index": 2,
       "layout": "IPY_MODEL_e47886dbe2e54a5ebff2b826aca6a4fe",
       "style": "IPY_MODEL_476650d771bd4a80b0e78446429ddd77"
      }
     },
     "58a2997e86cf42cfbbb4803a129a6bb8": {
      "model_module": "@jupyter-widgets/base",
      "model_module_version": "1.2.0",
      "model_name": "LayoutModel",
      "state": {
       "width": "250px"
      }
     },
     "58d57a7ac2c144aeb235de4a67275023": {
      "model_module": "@jupyter-widgets/controls",
      "model_module_version": "1.5.0",
      "model_name": "HTMLModel",
      "state": {
       "layout": "IPY_MODEL_f91f9b1718194cb490ba3a825dd62680",
       "style": "IPY_MODEL_f4fb7d28d7e64e9a82040c5b5ea95c2f",
       "value": "<h4 style=\"font-size:14px;\">Welche Beispiele erfüllen die obige Subsumptionsbeziehung?</h4>"
      }
     },
     "59221a092d1b440186ef7cfea4a140ac": {
      "model_module": "@jupyter-widgets/base",
      "model_module_version": "1.2.0",
      "model_name": "LayoutModel",
      "state": {}
     },
     "593f9a5693b14d3aaf50ab73b635ec49": {
      "model_module": "@jupyter-widgets/controls",
      "model_module_version": "1.5.0",
      "model_name": "CheckboxModel",
      "state": {
       "description": "Das Fehlen des Artikels hat keine Auswirkungen auf das Adjektiv.",
       "disabled": false,
       "layout": "IPY_MODEL_3dd799a6f30940ffa70f7e12151af40d",
       "style": "IPY_MODEL_b67e116967ac40fbaabc0c51e15fd0d1",
       "value": false
      }
     },
     "599ce2ff6fbd4fb9993bc6fc5516f9bd": {
      "model_module": "@jupyter-widgets/controls",
      "model_module_version": "1.5.0",
      "model_name": "CheckboxModel",
      "state": {
       "description": "Eine rangiedrigere Rolle übernimmt die Subjektfunktion.",
       "disabled": false,
       "layout": "IPY_MODEL_d62cc8d17cc24ac5a0b3c5a0390fb917",
       "style": "IPY_MODEL_2600a772f23b4368ac6e3f44b7d55b1d",
       "value": false
      }
     },
     "5a41a91b605446f5a7452563bdb0fb0d": {
      "model_module": "@jupyter-widgets/controls",
      "model_module_version": "1.5.0",
      "model_name": "VBoxModel",
      "state": {
       "children": [
        "IPY_MODEL_3e50ffd74d1b456f9b5d19384b393e10",
        "IPY_MODEL_3f3a9d9b85454936af65acacb0822b9b",
        "IPY_MODEL_c9c66e7162804915a63d229d0144ce80"
       ],
       "layout": "IPY_MODEL_87271557030d4db590aec75957d508b9"
      }
     },
     "5a42ae48e6b4429f8ded7036a2aac943": {
      "model_module": "@jupyter-widgets/controls",
      "model_module_version": "1.5.0",
      "model_name": "VBoxModel",
      "state": {
       "children": [
        "IPY_MODEL_6f38166ab94847c5863ccea24bb19d2c",
        "IPY_MODEL_5dd1b14de662494caac98fabefd1cdc5",
        "IPY_MODEL_dd463146123e4a9197319f71f51bdd41"
       ],
       "layout": "IPY_MODEL_6311ca8f6f894c779270493521cb24e8"
      }
     },
     "5a5bc432cd4d4e3dbf047a53613b8b1f": {
      "model_module": "@jupyter-widgets/base",
      "model_module_version": "1.2.0",
      "model_name": "LayoutModel",
      "state": {
       "width": "150px"
      }
     },
     "5a67ff4496da4fe99d563a7c5051964a": {
      "model_module": "@jupyter-widgets/controls",
      "model_module_version": "1.5.0",
      "model_name": "VBoxModel",
      "state": {
       "children": [
        "IPY_MODEL_bd54489b5e274209b6629e89fb4465ad",
        "IPY_MODEL_0f5e4154d30041e7a0a14e59f0503d92",
        "IPY_MODEL_e80ac212ea7440a7a7147997f335f570",
        "IPY_MODEL_4e718ba85ec143e596c822c4942cf3e0"
       ],
       "layout": "IPY_MODEL_3fb63b7df4444d71a08b4e6749704f03"
      }
     },
     "5a90d44171a24b8daf1bd258bba969bd": {
      "model_module": "@jupyter-widgets/base",
      "model_module_version": "1.2.0",
      "model_name": "LayoutModel",
      "state": {}
     },
     "5acada9334824993b8230ffbd367bb0c": {
      "model_module": "@jupyter-widgets/controls",
      "model_module_version": "1.5.0",
      "model_name": "ButtonStyleModel",
      "state": {}
     },
     "5acee92083fe49ec91ebf108a565b329": {
      "model_module": "@jupyter-widgets/base",
      "model_module_version": "1.2.0",
      "model_name": "LayoutModel",
      "state": {}
     },
     "5acf87399fec4720b3eba7960360c2d1": {
      "model_module": "@jupyter-widgets/base",
      "model_module_version": "1.2.0",
      "model_name": "LayoutModel",
      "state": {
       "width": "250px"
      }
     },
     "5af9c728859242689a414a7f5ffead01": {
      "model_module": "@jupyter-widgets/controls",
      "model_module_version": "1.5.0",
      "model_name": "DropdownModel",
      "state": {
       "_options_labels": [
        "Genusmerkmale",
        "Kasusmerkmale",
        " "
       ],
       "index": 2,
       "layout": "IPY_MODEL_5a5bc432cd4d4e3dbf047a53613b8b1f",
       "style": "IPY_MODEL_982c53f61b07438ca13bffaa340b89ba"
      }
     },
     "5b11b4f85e3b454387e5fe959f46a1ae": {
      "model_module": "@jupyter-widgets/base",
      "model_module_version": "1.2.0",
      "model_name": "LayoutModel",
      "state": {
       "justify_content": "center"
      }
     },
     "5b18a018fecb40a0a717e5e7e2181bf0": {
      "model_module": "@jupyter-widgets/controls",
      "model_module_version": "1.5.0",
      "model_name": "CheckboxModel",
      "state": {
       "description": "Variable: -> (1)",
       "disabled": false,
       "layout": "IPY_MODEL_52ec2591b7364587b1dc260e4e8c07db",
       "style": "IPY_MODEL_099b5b695dfd4974b49fc3841de3b9cb",
       "value": false
      }
     },
     "5b3a9eaf45f54abfb6adbb8cda7c4016": {
      "model_module": "@jupyter-widgets/controls",
      "model_module_version": "1.5.0",
      "model_name": "VBoxModel",
      "state": {
       "children": [
        "IPY_MODEL_956dece303194e42bad90ddeacbb5b35",
        "IPY_MODEL_60f415a22e7f4420ad61733ba34ba08d",
        "IPY_MODEL_32bb4eb4cd2b4ea28be03573ac3c311f"
       ],
       "layout": "IPY_MODEL_e67e4682a0bf4ebe9880b900bf5a9704"
      }
     },
     "5b55ffeb096748c4ad38d94ae5895a96": {
      "model_module": "@jupyter-widgets/base",
      "model_module_version": "1.2.0",
      "model_name": "LayoutModel",
      "state": {
       "width": "250px"
      }
     },
     "5b7d9214dd8a43dab85810441a855a03": {
      "model_module": "@jupyter-widgets/controls",
      "model_module_version": "1.5.0",
      "model_name": "HTMLModel",
      "state": {
       "layout": "IPY_MODEL_8cc37017db534fefbe60b8f36abced23",
       "style": "IPY_MODEL_7958173755fb45479bc634626b686c81",
       "value": "<h4 style=\"font-size:14px;\">Welche syntaktischen Unterschiede bestehen?</h4>"
      }
     },
     "5b80883920394e4ab4bd3116930adf1d": {
      "model_module": "@jupyter-widgets/controls",
      "model_module_version": "1.5.0",
      "model_name": "DescriptionStyleModel",
      "state": {
       "description_width": "initial"
      }
     },
     "5baa474212e14c8c9ab4431ce812c447": {
      "model_module": "@jupyter-widgets/controls",
      "model_module_version": "1.5.0",
      "model_name": "CheckboxModel",
      "state": {
       "description": "Ausrichtung der Empathie",
       "disabled": false,
       "layout": "IPY_MODEL_e666a5ea92f84c618a52ce41f9ba92f9",
       "style": "IPY_MODEL_da6efa2364ac4a8c811139db7d9d0132",
       "value": false
      }
     },
     "5baa5f6622404d439d6771cb3a813063": {
      "model_module": "@jupyter-widgets/controls",
      "model_module_version": "1.5.0",
      "model_name": "ButtonStyleModel",
      "state": {
       "button_color": "lightgreen"
      }
     },
     "5bccbd4e82b241acbd6027e59cb0707c": {
      "model_module": "@jupyter-widgets/controls",
      "model_module_version": "1.5.0",
      "model_name": "DescriptionStyleModel",
      "state": {
       "description_width": ""
      }
     },
     "5bea12923c7c43a68d8bf11224ef9252": {
      "model_module": "@jupyter-widgets/controls",
      "model_module_version": "1.5.0",
      "model_name": "DescriptionStyleModel",
      "state": {
       "description_width": ""
      }
     },
     "5bf928469e554acb942ff8cb806d2afc": {
      "model_module": "@jupyter-widgets/controls",
      "model_module_version": "1.5.0",
      "model_name": "CheckboxModel",
      "state": {
       "description": "Eine rangiedrigere Rolle übernimmt die Subjektfunktion.",
       "disabled": false,
       "layout": "IPY_MODEL_01c735ed67d44beab9d0b4be96e5e4e2",
       "style": "IPY_MODEL_74137c0adaf147ef8d2f38ecdf516191",
       "value": true
      }
     },
     "5c01efd255fb42ca82c4516986c9ee89": {
      "model_module": "@jupyter-widgets/base",
      "model_module_version": "1.2.0",
      "model_name": "LayoutModel",
      "state": {
       "justify_content": "center"
      }
     },
     "5c19b6f7c9484f929ccf4680bb79eeb8": {
      "model_module": "@jupyter-widgets/controls",
      "model_module_version": "1.5.0",
      "model_name": "CheckboxModel",
      "state": {
       "description": "Das Adjektiv tritt nur in zwei verschiedenen Formen auf.",
       "disabled": false,
       "layout": "IPY_MODEL_f6c307ddf1ef4e8eaa742ea7bec95ac7",
       "style": "IPY_MODEL_952402641cac4a8d919d0421d94944f4",
       "value": false
      }
     },
     "5c52264b973e40e18f2c39eda1bc0c53": {
      "model_module": "@jupyter-widgets/controls",
      "model_module_version": "1.5.0",
      "model_name": "DropdownModel",
      "state": {
       "_options_labels": [
        "nicht",
        "schwach",
        "stark",
        " "
       ],
       "index": 3,
       "layout": "IPY_MODEL_884796c500904467afe2f515709e361c",
       "style": "IPY_MODEL_98fbf8cda26749ca883e77a940021970"
      }
     },
     "5c8151f90eef4ec0943f17b1d2a54931": {
      "model_module": "@jupyter-widgets/controls",
      "model_module_version": "1.5.0",
      "model_name": "DescriptionStyleModel",
      "state": {
       "description_width": "initial"
      }
     },
     "5c8f85c5320048d4ae44e935b3961db4": {
      "model_module": "@jupyter-widgets/controls",
      "model_module_version": "1.5.0",
      "model_name": "ButtonModel",
      "state": {
       "description": "unbestimmten",
       "layout": "IPY_MODEL_0762d9832559491faada096f5cf49e49",
       "style": "IPY_MODEL_d0ef607b2f5f4fb5b6967468831f87f2"
      }
     },
     "5c9fcc3bb27441c39d20bcf866d73005": {
      "model_module": "@jupyter-widgets/controls",
      "model_module_version": "1.5.0",
      "model_name": "VBoxModel",
      "state": {
       "children": [
        "IPY_MODEL_c40070c3c85d4db48e286eaa5a520233",
        "IPY_MODEL_d461b106e0834b058754e6bd79c95e23",
        "IPY_MODEL_a97404ff4e0941e3a9daa95dce5b63e0"
       ],
       "layout": "IPY_MODEL_57bdc86bb4af4ddd9599019a0f11a94c"
      }
     },
     "5cdf29a720b34c41a1099ec8df0b689e": {
      "model_module": "@jupyter-widgets/base",
      "model_module_version": "1.2.0",
      "model_name": "LayoutModel",
      "state": {}
     },
     "5ce13b74e57a456a9e95e5c243ad7789": {
      "model_module": "@jupyter-widgets/controls",
      "model_module_version": "1.5.0",
      "model_name": "ButtonStyleModel",
      "state": {}
     },
     "5ce717978ce2421e8ccaa7c40c3dffeb": {
      "model_module": "@jupyter-widgets/base",
      "model_module_version": "1.2.0",
      "model_name": "LayoutModel",
      "state": {}
     },
     "5d2d47f1d2e24af4a56eb68de9f37101": {
      "model_module": "@jupyter-widgets/base",
      "model_module_version": "1.2.0",
      "model_name": "LayoutModel",
      "state": {}
     },
     "5d2f7f56d9bc475b88b0c683ba9bcf33": {
      "model_module": "@jupyter-widgets/controls",
      "model_module_version": "1.5.0",
      "model_name": "DescriptionStyleModel",
      "state": {
       "description_width": ""
      }
     },
     "5d58e1bfc19a4317939b32a577c1f3bb": {
      "model_module": "@jupyter-widgets/base",
      "model_module_version": "1.2.0",
      "model_name": "LayoutModel",
      "state": {
       "width": "600px"
      }
     },
     "5d7ccd55857c460abeb5b16735c22a40": {
      "model_module": "@jupyter-widgets/base",
      "model_module_version": "1.2.0",
      "model_name": "LayoutModel",
      "state": {
       "justify_content": "center"
      }
     },
     "5d876972e9a3491fa9b7db53ccfad4cd": {
      "model_module": "@jupyter-widgets/controls",
      "model_module_version": "1.5.0",
      "model_name": "HBoxModel",
      "state": {
       "children": [
        "IPY_MODEL_86bf312efe504928b1b0f331fee20b5b",
        "IPY_MODEL_2c4c84804f89494ba9fb41d1fefe77e0"
       ],
       "layout": "IPY_MODEL_afe9ee8ada8a4acaaccce9801af19b71"
      }
     },
     "5d8a1b2429a24fb1894634c408ddd7d7": {
      "model_module": "@jupyter-widgets/controls",
      "model_module_version": "1.5.0",
      "model_name": "CheckboxModel",
      "state": {
       "description": "Ausrichtung der Empathie",
       "disabled": false,
       "layout": "IPY_MODEL_8941ad3eb22e467abe6d1394a0f9022c",
       "style": "IPY_MODEL_8f04615fd3534978a4932385e9c8cb88",
       "value": false
      }
     },
     "5daa3f024aa4458e83f31ba6fbea61bc": {
      "model_module": "@jupyter-widgets/controls",
      "model_module_version": "1.5.0",
      "model_name": "HBoxModel",
      "state": {
       "children": [
        "IPY_MODEL_8076b6e8b064466ba432a6f384821b41",
        "IPY_MODEL_83c028a1872341d7afd4ee9e606a114e"
       ],
       "layout": "IPY_MODEL_ab6b31c34ba54258be04752a94612fed"
      }
     },
     "5dae7d1488224dc1a8043da4e724bc3b": {
      "model_module": "@jupyter-widgets/base",
      "model_module_version": "1.2.0",
      "model_name": "LayoutModel",
      "state": {
       "width": "250px"
      }
     },
     "5db2725c946c4ce2ac87ff3a1dbea2a4": {
      "model_module": "@jupyter-widgets/base",
      "model_module_version": "1.2.0",
      "model_name": "LayoutModel",
      "state": {}
     },
     "5dd1b14de662494caac98fabefd1cdc5": {
      "model_module": "@jupyter-widgets/controls",
      "model_module_version": "1.5.0",
      "model_name": "CheckboxModel",
      "state": {
       "description": "Sie werden aus der Eingabe extrahiert (feature extraction)",
       "disabled": false,
       "layout": "IPY_MODEL_bf4121473a8842f293dadab8ee816971",
       "style": "IPY_MODEL_3e93847b5699402eb4c8c8840301ad41",
       "value": false
      }
     },
     "5e503982c8b94973bc0d09a51880c4a5": {
      "model_module": "@jupyter-widgets/controls",
      "model_module_version": "1.5.0",
      "model_name": "DescriptionStyleModel",
      "state": {
       "description_width": ""
      }
     },
     "5e6f5fb4ab644c78ba9773613d885f59": {
      "model_module": "@jupyter-widgets/base",
      "model_module_version": "1.2.0",
      "model_name": "LayoutModel",
      "state": {}
     },
     "5e7d57a00f17498ab106379c28e574e0": {
      "model_module": "@jupyter-widgets/base",
      "model_module_version": "1.2.0",
      "model_name": "LayoutModel",
      "state": {
       "width": "250px"
      }
     },
     "5ebbc13a57af46908714a0d238a40e7c": {
      "model_module": "@jupyter-widgets/base",
      "model_module_version": "1.2.0",
      "model_name": "LayoutModel",
      "state": {}
     },
     "5ede7574f3664095a4dbc35d2640ff4a": {
      "model_module": "@jupyter-widgets/controls",
      "model_module_version": "1.5.0",
      "model_name": "DescriptionStyleModel",
      "state": {
       "description_width": "initial"
      }
     },
     "5eeb98c70373460aa32641d8d69844d3": {
      "model_module": "@jupyter-widgets/controls",
      "model_module_version": "1.5.0",
      "model_name": "HTMLModel",
      "state": {
       "layout": "IPY_MODEL_69cca2e0275b471fba4df0438df7bc4d",
       "style": "IPY_MODEL_ef6a9ad2a4f14a9b9bee3023939e0035",
       "value": "<h4 style=\"font-size:14px;\">keine</h4>"
      }
     },
     "5ef5f0397e6a4007b59224bb4a6e3122": {
      "model_module": "@jupyter-widgets/controls",
      "model_module_version": "1.5.0",
      "model_name": "DescriptionStyleModel",
      "state": {
       "description_width": ""
      }
     },
     "5f2097d6dfb44cbab93a7a36dfd53954": {
      "model_module": "@jupyter-widgets/controls",
      "model_module_version": "1.5.0",
      "model_name": "DescriptionStyleModel",
      "state": {
       "description_width": "initial"
      }
     },
     "5f227dfdce9c4636ac5d256bafd53b0b": {
      "model_module": "@jupyter-widgets/controls",
      "model_module_version": "1.5.0",
      "model_name": "ButtonStyleModel",
      "state": {}
     },
     "5f234eac8bca49a7af8382e6e2549740": {
      "model_module": "@jupyter-widgets/base",
      "model_module_version": "1.2.0",
      "model_name": "LayoutModel",
      "state": {
       "width": "250px"
      }
     },
     "5f3363d259d741ad8135f658249f21bd": {
      "model_module": "@jupyter-widgets/controls",
      "model_module_version": "1.5.0",
      "model_name": "DescriptionStyleModel",
      "state": {
       "description_width": ""
      }
     },
     "5f36fc3d467e4e70b4f71be7b278929e": {
      "model_module": "@jupyter-widgets/controls",
      "model_module_version": "1.5.0",
      "model_name": "ButtonStyleModel",
      "state": {}
     },
     "5f3dc89d31794ec0b3666e5fde9b6a4c": {
      "model_module": "@jupyter-widgets/base",
      "model_module_version": "1.2.0",
      "model_name": "LayoutModel",
      "state": {}
     },
     "5f488f8c19fa4004828dd2d2d26943cc": {
      "model_module": "@jupyter-widgets/controls",
      "model_module_version": "1.5.0",
      "model_name": "DescriptionStyleModel",
      "state": {
       "description_width": "initial"
      }
     },
     "5f57098777534e81b6cc4b669e7eef0a": {
      "model_module": "@jupyter-widgets/base",
      "model_module_version": "1.2.0",
      "model_name": "LayoutModel",
      "state": {
       "width": "600px"
      }
     },
     "5f808e635e8e4d2a9a51772285a4f278": {
      "model_module": "@jupyter-widgets/controls",
      "model_module_version": "1.5.0",
      "model_name": "DescriptionStyleModel",
      "state": {
       "description_width": ""
      }
     },
     "5f8b8a00d6a34b4087842c6472bfd9c2": {
      "model_module": "@jupyter-widgets/base",
      "model_module_version": "1.2.0",
      "model_name": "LayoutModel",
      "state": {}
     },
     "5f9ba13c6f1d4956aa9bed2ea91d8bb3": {
      "model_module": "@jupyter-widgets/base",
      "model_module_version": "1.2.0",
      "model_name": "LayoutModel",
      "state": {
       "justify_content": "center"
      }
     },
     "5fa6d52f43cf4d66a82b13ad62afe871": {
      "model_module": "@jupyter-widgets/base",
      "model_module_version": "1.2.0",
      "model_name": "LayoutModel",
      "state": {}
     },
     "5fadbcede32f45a4968d27106e4c2082": {
      "model_module": "@jupyter-widgets/controls",
      "model_module_version": "1.5.0",
      "model_name": "HBoxModel",
      "state": {
       "children": [
        "IPY_MODEL_deb98e48f2bb4843b0ec76321b244c49",
        "IPY_MODEL_5c8f85c5320048d4ae44e935b3961db4"
       ],
       "layout": "IPY_MODEL_b837fb42a2684200b742418ddfe72d76"
      }
     },
     "5fe47843afb846e39225c7edd750bcae": {
      "model_module": "@jupyter-widgets/controls",
      "model_module_version": "1.5.0",
      "model_name": "ButtonStyleModel",
      "state": {}
     },
     "5ffb9acc3d454b4c8204db5e7e47307c": {
      "model_module": "@jupyter-widgets/controls",
      "model_module_version": "1.5.0",
      "model_name": "ButtonStyleModel",
      "state": {}
     },
     "600ba3d9665a455ea26a4733618e935d": {
      "model_module": "@jupyter-widgets/controls",
      "model_module_version": "1.5.0",
      "model_name": "DescriptionStyleModel",
      "state": {
       "description_width": ""
      }
     },
     "60acee3678ec47d99dcf463a2422232b": {
      "model_module": "@jupyter-widgets/controls",
      "model_module_version": "1.5.0",
      "model_name": "DescriptionStyleModel",
      "state": {
       "description_width": "initial"
      }
     },
     "60e70eabe7a14b008b48bc34fcd9a628": {
      "model_module": "@jupyter-widgets/controls",
      "model_module_version": "1.5.0",
      "model_name": "DescriptionStyleModel",
      "state": {
       "description_width": "initial"
      }
     },
     "60efea9a9ace4758a7e444bf28453df0": {
      "model_module": "@jupyter-widgets/controls",
      "model_module_version": "1.5.0",
      "model_name": "DescriptionStyleModel",
      "state": {
       "description_width": ""
      }
     },
     "60f415a22e7f4420ad61733ba34ba08d": {
      "model_module": "@jupyter-widgets/controls",
      "model_module_version": "1.5.0",
      "model_name": "CheckboxModel",
      "state": {
       "description": "74; ( 'number', 'address')",
       "disabled": false,
       "layout": "IPY_MODEL_7a6b1d1009604a99b7c12803d847415b",
       "style": "IPY_MODEL_6effafb6a1484744aad234fe8a777900",
       "value": false
      }
     },
     "60f66ca785884bf096e4223f4722bfa1": {
      "model_module": "@jupyter-widgets/controls",
      "model_module_version": "1.5.0",
      "model_name": "ButtonStyleModel",
      "state": {}
     },
     "60f8aa1082a749009a17e59651df3ca7": {
      "model_module": "@jupyter-widgets/controls",
      "model_module_version": "1.5.0",
      "model_name": "ButtonStyleModel",
      "state": {}
     },
     "6104b5ad3085438ab38552c6332eadba": {
      "model_module": "@jupyter-widgets/controls",
      "model_module_version": "1.5.0",
      "model_name": "CheckboxModel",
      "state": {
       "description": "Es ist die allgemeinere Merkmalsstruktur.",
       "disabled": false,
       "layout": "IPY_MODEL_b2da2367cedb4e499d12663d4a20f17b",
       "style": "IPY_MODEL_60acee3678ec47d99dcf463a2422232b",
       "value": false
      }
     },
     "61057d714cfc46759141ee7e4fd84cc7": {
      "model_module": "@jupyter-widgets/base",
      "model_module_version": "1.2.0",
      "model_name": "LayoutModel",
      "state": {
       "width": "250px"
      }
     },
     "610914ff05dc488cb802603eaffff88c": {
      "model_module": "@jupyter-widgets/base",
      "model_module_version": "1.2.0",
      "model_name": "LayoutModel",
      "state": {
       "width": "250px"
      }
     },
     "610a126561824e47b19187a160f037d8": {
      "model_module": "@jupyter-widgets/base",
      "model_module_version": "1.2.0",
      "model_name": "LayoutModel",
      "state": {
       "justify_content": "center"
      }
     },
     "61235bd4a88444a5b96817965dae0afc": {
      "model_module": "@jupyter-widgets/base",
      "model_module_version": "1.2.0",
      "model_name": "LayoutModel",
      "state": {}
     },
     "614e9093b40749caa13b1b9bb2f2667d": {
      "model_module": "@jupyter-widgets/controls",
      "model_module_version": "1.5.0",
      "model_name": "CheckboxModel",
      "state": {
       "description": "x!",
       "disabled": false,
       "layout": "IPY_MODEL_4b9b897d837a4ae6900f4f8328f1798f",
       "style": "IPY_MODEL_b403144812d34215a31dbfcea4406563",
       "value": false
      }
     },
     "6158ec1602ec45e28b564c377a51b5d5": {
      "model_module": "@jupyter-widgets/controls",
      "model_module_version": "1.5.0",
      "model_name": "DescriptionStyleModel",
      "state": {
       "description_width": "initial"
      }
     },
     "6167860c24e444feb34e462f4a26085d": {
      "model_module": "@jupyter-widgets/controls",
      "model_module_version": "1.5.0",
      "model_name": "DescriptionStyleModel",
      "state": {
       "description_width": "initial"
      }
     },
     "61745f11918a41edb7ea04d6a8785ffb": {
      "model_module": "@jupyter-widgets/controls",
      "model_module_version": "1.5.0",
      "model_name": "HTMLModel",
      "state": {
       "layout": "IPY_MODEL_a50ff8a233cc4496afe315b6205ca6b8",
       "style": "IPY_MODEL_ebcbe4ec7ad8491baeea9d0af9a5342a",
       "value": "<i>Markieren Sie <ins>alle</ins> passenden Antworten: </i>"
      }
     },
     "6194c3db1a414274b4ccf5420503ab99": {
      "model_module": "@jupyter-widgets/controls",
      "model_module_version": "1.5.0",
      "model_name": "HTMLModel",
      "state": {
       "layout": "IPY_MODEL_c91885b117894e1abf488f8a692c497f",
       "style": "IPY_MODEL_251d628c02d74fda9160ce30af05bce8",
       "value": "<h4 style=\"font-size:14px;\">Welche Aussagen gelten für Nominalphrasen mit bestimmtem Artikel?</h4>"
      }
     },
     "6199d8088cc94c6eba1bbbe273d21638": {
      "model_module": "@jupyter-widgets/base",
      "model_module_version": "1.2.0",
      "model_name": "LayoutModel",
      "state": {
       "width": "150px"
      }
     },
     "61b25156c72540e4b1492eaacfb775c5": {
      "model_module": "@jupyter-widgets/base",
      "model_module_version": "1.2.0",
      "model_name": "LayoutModel",
      "state": {
       "width": "250px"
      }
     },
     "61ef30125e4b44e48c48beafdfa664e3": {
      "model_module": "@jupyter-widgets/base",
      "model_module_version": "1.2.0",
      "model_name": "LayoutModel",
      "state": {}
     },
     "621159a8e20d432baaef9d3cf347d3d1": {
      "model_module": "@jupyter-widgets/base",
      "model_module_version": "1.2.0",
      "model_name": "LayoutModel",
      "state": {
       "width": "250px"
      }
     },
     "622b1f66ea4b4f29a13d1f093b7848eb": {
      "model_module": "@jupyter-widgets/base",
      "model_module_version": "1.2.0",
      "model_name": "LayoutModel",
      "state": {}
     },
     "625870c5d456435ea4f135ca6fa676fe": {
      "model_module": "@jupyter-widgets/controls",
      "model_module_version": "1.5.0",
      "model_name": "DescriptionStyleModel",
      "state": {
       "description_width": "initial"
      }
     },
     "628069bcc90648cfa7b16c309964c002": {
      "model_module": "@jupyter-widgets/controls",
      "model_module_version": "1.5.0",
      "model_name": "CheckboxModel",
      "state": {
       "description": "Die Endungen von Adjektiv und Artikel stimmen überein.",
       "disabled": false,
       "layout": "IPY_MODEL_473798f69fce4ec8b6d4a8aaad6f6fc7",
       "style": "IPY_MODEL_1697e61a5afe48ae9b4ca784316a8e76",
       "value": false
      }
     },
     "62c530ff31a2445397dcd8899c57a40a": {
      "model_module": "@jupyter-widgets/controls",
      "model_module_version": "1.5.0",
      "model_name": "HTMLModel",
      "state": {
       "layout": "IPY_MODEL_cac3a5fbd6a44e66ac7fd99d3e5fb214",
       "style": "IPY_MODEL_a11183e0fb804e75a167ad38869357bd",
       "value": "<i>Markieren Sie <ins>alle</ins> passenden Antworten: </i>"
      }
     },
     "62c7f8210cdc4644b804b3e5dd3a9ff7": {
      "model_module": "@jupyter-widgets/controls",
      "model_module_version": "1.5.0",
      "model_name": "ButtonModel",
      "state": {
       "description": "dictionary",
       "layout": "IPY_MODEL_4096073096e44d3bba5a353cd3649a43",
       "style": "IPY_MODEL_ba512e56996b40009f7486fc0f512885"
      }
     },
     "62d55556d6eb4afca198429e13fb9cfb": {
      "model_module": "@jupyter-widgets/base",
      "model_module_version": "1.2.0",
      "model_name": "LayoutModel",
      "state": {
       "justify_content": "center"
      }
     },
     "630156d5efdf4c2bad2f30aa2b866335": {
      "model_module": "@jupyter-widgets/controls",
      "model_module_version": "1.5.0",
      "model_name": "CheckboxModel",
      "state": {
       "description": "Ausrichtung der Empathie",
       "disabled": false,
       "layout": "IPY_MODEL_4f6fb482c2e84e06bee91ee381cfe41d",
       "style": "IPY_MODEL_bd2ef0f586fa45368a67a24b6d8bd54b",
       "value": true
      }
     },
     "6311ca8f6f894c779270493521cb24e8": {
      "model_module": "@jupyter-widgets/base",
      "model_module_version": "1.2.0",
      "model_name": "LayoutModel",
      "state": {}
     },
     "631db2442f754a75801adc323b2dbfd4": {
      "model_module": "@jupyter-widgets/controls",
      "model_module_version": "1.5.0",
      "model_name": "HTMLModel",
      "state": {
       "layout": "IPY_MODEL_d6040f844a3249b3acf1869cf3da9f01",
       "style": "IPY_MODEL_8c307d22ff33444f9ac59f6269fc0e8c",
       "value": "<h4 style=\"font-size:14px;\">Beantworten Sie die beiden obigen Fragen.</h4>"
      }
     },
     "633bc245bc0346b9844fba4cbf7b3371": {
      "model_module": "@jupyter-widgets/base",
      "model_module_version": "1.2.0",
      "model_name": "LayoutModel",
      "state": {
       "width": "600px"
      }
     },
     "63630169a86a468ba90cf0bf7991d9f7": {
      "model_module": "@jupyter-widgets/controls",
      "model_module_version": "1.5.0",
      "model_name": "ButtonModel",
      "state": {
       "description": "Recipient",
       "layout": "IPY_MODEL_7f43af6b5d014b8eac093662cecbed76",
       "style": "IPY_MODEL_20828e41afbe41eb9033e3440116bff6"
      }
     },
     "63dfe308ffb04fe3b5c1c86385f3c9b7": {
      "model_module": "@jupyter-widgets/controls",
      "model_module_version": "1.5.0",
      "model_name": "DescriptionStyleModel",
      "state": {
       "description_width": ""
      }
     },
     "63e59c60ee564e51aaa28ffad29c61eb": {
      "model_module": "@jupyter-widgets/controls",
      "model_module_version": "1.5.0",
      "model_name": "ButtonStyleModel",
      "state": {}
     },
     "6423f7c46a94408887c01ab04b698263": {
      "model_module": "@jupyter-widgets/controls",
      "model_module_version": "1.5.0",
      "model_name": "VBoxModel",
      "state": {
       "children": [
        "IPY_MODEL_6104b5ad3085438ab38552c6332eadba",
        "IPY_MODEL_9024c1f9f4b64333b189cccd96cf1b62",
        "IPY_MODEL_dba849cdd53640ef9e114472d3f2666f"
       ],
       "layout": "IPY_MODEL_523468514208470ab154db43ecec9e29"
      }
     },
     "645b8a712fcc4d2da97b20ccaae5a847": {
      "model_module": "@jupyter-widgets/base",
      "model_module_version": "1.2.0",
      "model_name": "LayoutModel",
      "state": {
       "width": "250px"
      }
     },
     "64b9b135dd18409986c6cfb3c3cc1b3d": {
      "model_module": "@jupyter-widgets/base",
      "model_module_version": "1.2.0",
      "model_name": "LayoutModel",
      "state": {}
     },
     "64d40229afc04ce8ae88ab5a8fa26be4": {
      "model_module": "@jupyter-widgets/controls",
      "model_module_version": "1.5.0",
      "model_name": "HTMLModel",
      "state": {
       "layout": "IPY_MODEL_c83df081a7c84917a0b9cda085644fc0",
       "style": "IPY_MODEL_7be3cf31054b4b02a1ece39c71c9304a",
       "value": "<i>Wählen Sie die <ins>eine</ins> korrekte Antwort aus: </i>"
      }
     },
     "64f933f70c954957bf52bc66d7dce962": {
      "model_module": "@jupyter-widgets/controls",
      "model_module_version": "1.5.0",
      "model_name": "ButtonModel",
      "state": {
       "description": "Keine der anderen Möglichkeiten",
       "layout": "IPY_MODEL_12e3518f2a7b44dbbdeadf4604fb6e97",
       "style": "IPY_MODEL_498707a7ce4842fc96ae0e8a68de1cba"
      }
     },
     "6501f995e4fe41888656c862c54d3efe": {
      "model_module": "@jupyter-widgets/base",
      "model_module_version": "1.2.0",
      "model_name": "LayoutModel",
      "state": {}
     },
     "65465b49637445d0aa37f0d0070c7848": {
      "model_module": "@jupyter-widgets/base",
      "model_module_version": "1.2.0",
      "model_name": "LayoutModel",
      "state": {
       "width": "250px"
      }
     },
     "657a7e1fe5b148fa98f6ca563dcbd55b": {
      "model_module": "@jupyter-widgets/controls",
      "model_module_version": "1.5.0",
      "model_name": "DescriptionStyleModel",
      "state": {
       "description_width": ""
      }
     },
     "65abb636036e4334a87029469f19de0b": {
      "model_module": "@jupyter-widgets/base",
      "model_module_version": "1.2.0",
      "model_name": "LayoutModel",
      "state": {
       "width": "600px"
      }
     },
     "65d21fc2cd624dd8983a310d0950b621": {
      "model_module": "@jupyter-widgets/controls",
      "model_module_version": "1.5.0",
      "model_name": "HTMLModel",
      "state": {
       "layout": "IPY_MODEL_cc475b8b767248d6a01769ff71c81c1c",
       "style": "IPY_MODEL_3be2560db93448ad9b4d8bdf6468c5f8",
       "value": "<h4 style=\"font-size:14px;\">Um welchen Faktor erhöht sich die Regelanzahl, wenn man Kongruenz (Agreement) in Numerus und Person durch Integration von Merkmalen in die Kategoriensymbole einer CFG modelliert (S → NP_1_SG VP_1_SG usw.)?</h4>"
      }
     },
     "6607ca202c1245f58da6fb73583c8686": {
      "model_module": "@jupyter-widgets/controls",
      "model_module_version": "1.5.0",
      "model_name": "ButtonModel",
      "state": {
       "description": "Korrekt?",
       "layout": "IPY_MODEL_3a9e30b999d242bb858f6619f4254655",
       "style": "IPY_MODEL_23734104a2174d9db13637f4b8a49ed3"
      }
     },
     "664e1f06c8114de0ab093995c3ce4a37": {
      "model_module": "@jupyter-widgets/controls",
      "model_module_version": "1.5.0",
      "model_name": "HTMLModel",
      "state": {
       "layout": "IPY_MODEL_dd467aa9e5c04d8aab35f31be6e4ce76",
       "style": "IPY_MODEL_2228d7f6a305450b8d26ecb67713f678",
       "value": "<h4 style=\"font-size:14px;\">übernehmen.</h4>"
      }
     },
     "6687de57d19c47259cc10ac255e1f5e9": {
      "model_module": "@jupyter-widgets/controls",
      "model_module_version": "1.5.0",
      "model_name": "CheckboxModel",
      "state": {
       "description": "Perspektivierung",
       "disabled": false,
       "layout": "IPY_MODEL_56bdf1f711734be78367f08cc9f25b57",
       "style": "IPY_MODEL_eb9a508261214bb1b41897cbd65aa6cc",
       "value": false
      }
     },
     "66a7b88fd4964e51b28390af60143ef6": {
      "model_module": "@jupyter-widgets/base",
      "model_module_version": "1.2.0",
      "model_name": "LayoutModel",
      "state": {
       "justify_content": "center"
      }
     },
     "66af4198dff74b4a84661d863c4fdb25": {
      "model_module": "@jupyter-widgets/base",
      "model_module_version": "1.2.0",
      "model_name": "LayoutModel",
      "state": {}
     },
     "6736fdad05a6450e994330776649b455": {
      "model_module": "@jupyter-widgets/controls",
      "model_module_version": "1.5.0",
      "model_name": "DescriptionStyleModel",
      "state": {
       "description_width": ""
      }
     },
     "673f9ffce4c9404bbf5e2b88f7f73df2": {
      "model_module": "@jupyter-widgets/base",
      "model_module_version": "1.2.0",
      "model_name": "LayoutModel",
      "state": {
       "width": "600px"
      }
     },
     "673fa65aa30e450fabb2b4b9b7bce556": {
      "model_module": "@jupyter-widgets/controls",
      "model_module_version": "1.5.0",
      "model_name": "HTMLModel",
      "state": {
       "layout": "IPY_MODEL_ba9b195f025048939606a1bdee3b18dd",
       "style": "IPY_MODEL_54d5cb6f4707482aaf64b09c200bdac8",
       "value": "<h4 style=\"font-size:14px;\">Welche Aussagen über Adjektive stimmen?</h4>"
      }
     },
     "677ba4ffe1854507a07f2800cb079790": {
      "model_module": "@jupyter-widgets/base",
      "model_module_version": "1.2.0",
      "model_name": "LayoutModel",
      "state": {}
     },
     "6798f6a36372417793976c905bede56a": {
      "model_module": "@jupyter-widgets/base",
      "model_module_version": "1.2.0",
      "model_name": "LayoutModel",
      "state": {
       "width": "600px"
      }
     },
     "67a275abaa904bd6872add38127e8ee7": {
      "model_module": "@jupyter-widgets/controls",
      "model_module_version": "1.5.0",
      "model_name": "DescriptionStyleModel",
      "state": {
       "description_width": "initial"
      }
     },
     "67a4e0b28cd34a9788eed1dd1d2ff194": {
      "model_module": "@jupyter-widgets/base",
      "model_module_version": "1.2.0",
      "model_name": "LayoutModel",
      "state": {
       "width": "600px"
      }
     },
     "67d0c84b72b94db4b8928e20f2e317c5": {
      "model_module": "@jupyter-widgets/controls",
      "model_module_version": "1.5.0",
      "model_name": "ButtonModel",
      "state": {
       "description": "unbestimmten",
       "layout": "IPY_MODEL_9ec16f9fee7b474897b0ee530cab2e36",
       "style": "IPY_MODEL_fa783b9788f545e6a4b182a488898370"
      }
     },
     "683bd1cfd8a549f8beff44f82ec886db": {
      "model_module": "@jupyter-widgets/controls",
      "model_module_version": "1.5.0",
      "model_name": "DescriptionStyleModel",
      "state": {
       "description_width": "initial"
      }
     },
     "68422bb4acaa443c8c13ce4f1b827863": {
      "model_module": "@jupyter-widgets/controls",
      "model_module_version": "1.5.0",
      "model_name": "CheckboxModel",
      "state": {
       "description": "Die Form des Adjektivs richtet sich nach dem Genus des Substantivs.",
       "disabled": false,
       "layout": "IPY_MODEL_673f9ffce4c9404bbf5e2b88f7f73df2",
       "style": "IPY_MODEL_26c62db8402a439ead439371d58a5cd4",
       "value": true
      }
     },
     "6852daf739a54c9a9dec9652519e8e7c": {
      "model_module": "@jupyter-widgets/controls",
      "model_module_version": "1.5.0",
      "model_name": "VBoxModel",
      "state": {
       "children": [
        "IPY_MODEL_6caa389f63884ccea409ee40fdf53861",
        "IPY_MODEL_4afa7c2995eb4fee93668a2c85ed9bef",
        "IPY_MODEL_ac5098c81f974df19ee2eca3c4fa92c9"
       ],
       "layout": "IPY_MODEL_dfcf50809cc44fc893417001eb56e22e"
      }
     },
     "688ce6d2967247c58b88194829179645": {
      "model_module": "@jupyter-widgets/controls",
      "model_module_version": "1.5.0",
      "model_name": "CheckboxModel",
      "state": {
       "description": "'rue Pascal'; ('spouse', 'address', 'street')",
       "disabled": false,
       "layout": "IPY_MODEL_eec46685b59646ff9fbdec6212a932da",
       "style": "IPY_MODEL_bfa6f8a9f7f94b7ead0e3dcc9cc13b04",
       "value": false
      }
     },
     "689d3b10db1740a89aea1e128974e301": {
      "model_module": "@jupyter-widgets/controls",
      "model_module_version": "1.5.0",
      "model_name": "DescriptionStyleModel",
      "state": {
       "description_width": "initial"
      }
     },
     "68adff094c484208a3f309135ed9fc5b": {
      "model_module": "@jupyter-widgets/base",
      "model_module_version": "1.2.0",
      "model_name": "LayoutModel",
      "state": {
       "width": "250px"
      }
     },
     "68ce27a446734bc59ed55c202e30878c": {
      "model_module": "@jupyter-widgets/base",
      "model_module_version": "1.2.0",
      "model_name": "LayoutModel",
      "state": {}
     },
     "68d02755e664430cb7af0d66853b1dc2": {
      "model_module": "@jupyter-widgets/controls",
      "model_module_version": "1.5.0",
      "model_name": "DescriptionStyleModel",
      "state": {
       "description_width": "initial"
      }
     },
     "68e22c24f6c44837a378c5a3912a087a": {
      "model_module": "@jupyter-widgets/controls",
      "model_module_version": "1.5.0",
      "model_name": "ButtonStyleModel",
      "state": {}
     },
     "6901e1fc319f4cd89b2012ada11d6129": {
      "model_module": "@jupyter-widgets/controls",
      "model_module_version": "1.5.0",
      "model_name": "VBoxModel",
      "state": {
       "children": [
        "IPY_MODEL_5baa474212e14c8c9ab4431ce812c447",
        "IPY_MODEL_9dc29e2b3521418582231a3a8530c477",
        "IPY_MODEL_e27f9c70c7e44f9094622f3be6c82fda",
        "IPY_MODEL_d1d1d26b651549f39fbe887a0da3f905"
       ],
       "layout": "IPY_MODEL_bd1fde4651534ebf9d878f3dc66cf1f9"
      }
     },
     "6911d3a17b144b57b7b9d070bbdc7a9c": {
      "model_module": "@jupyter-widgets/controls",
      "model_module_version": "1.5.0",
      "model_name": "DescriptionStyleModel",
      "state": {
       "description_width": ""
      }
     },
     "6919ffeca01240f2bb65811db2616c9a": {
      "model_module": "@jupyter-widgets/controls",
      "model_module_version": "1.5.0",
      "model_name": "HBoxModel",
      "state": {
       "children": [
        "IPY_MODEL_a38627902ab54303bf8b300849a49d00",
        "IPY_MODEL_71bc361d97b94734b0a9e856020ac862"
       ],
       "layout": "IPY_MODEL_0de817fdf6f3409c8b766dbfd69ec53a"
      }
     },
     "695458c47ade41c2b2b38a68011b7f9c": {
      "model_module": "@jupyter-widgets/controls",
      "model_module_version": "1.5.0",
      "model_name": "DescriptionStyleModel",
      "state": {
       "description_width": ""
      }
     },
     "6961d182ef9341b7a9f9b1d7f8594839": {
      "model_module": "@jupyter-widgets/base",
      "model_module_version": "1.2.0",
      "model_name": "LayoutModel",
      "state": {
       "width": "600px"
      }
     },
     "69628ee77aeb459e9d5fa338b3a0b543": {
      "model_module": "@jupyter-widgets/controls",
      "model_module_version": "1.5.0",
      "model_name": "ButtonStyleModel",
      "state": {}
     },
     "697894ef494046bab771fe520278f409": {
      "model_module": "@jupyter-widgets/base",
      "model_module_version": "1.2.0",
      "model_name": "LayoutModel",
      "state": {
       "width": "600px"
      }
     },
     "698b83c6f8ad4ec6b646a5c707a5e49e": {
      "model_module": "@jupyter-widgets/controls",
      "model_module_version": "1.5.0",
      "model_name": "ButtonStyleModel",
      "state": {}
     },
     "699b13bec8a54a0aacc742043747abe1": {
      "model_module": "@jupyter-widgets/controls",
      "model_module_version": "1.5.0",
      "model_name": "HTMLModel",
      "state": {
       "layout": "IPY_MODEL_dd8bd28a7d8d4b188d5e9f7d55f59168",
       "style": "IPY_MODEL_fc015744bb544588bf837f2ddc996bc7",
       "value": "<i>Markieren Sie <ins>alle</ins> passenden Antworten: </i>"
      }
     },
     "69a6f4e8c7da4b6b928b5dca19712c34": {
      "model_module": "@jupyter-widgets/controls",
      "model_module_version": "1.5.0",
      "model_name": "HBoxModel",
      "state": {
       "children": [
        "IPY_MODEL_c538ba2fe4034e2e9801ce9f137296d3"
       ],
       "layout": "IPY_MODEL_5fa6d52f43cf4d66a82b13ad62afe871"
      }
     },
     "69ab1a373d3c4618b87ffb87ea9cea26": {
      "model_module": "@jupyter-widgets/controls",
      "model_module_version": "1.5.0",
      "model_name": "DescriptionStyleModel",
      "state": {
       "description_width": "initial"
      }
     },
     "69c12a2b9e104bed9dd6db18b4dd7125": {
      "model_module": "@jupyter-widgets/controls",
      "model_module_version": "1.5.0",
      "model_name": "CheckboxModel",
      "state": {
       "description": "Sie werden gelöscht.",
       "disabled": false,
       "layout": "IPY_MODEL_26e2fe7ef1bd48c088ac0b1656c2fc47",
       "style": "IPY_MODEL_d9d9bc683397480aa0d8bbe31593fc41",
       "value": false
      }
     },
     "69cca2e0275b471fba4df0438df7bc4d": {
      "model_module": "@jupyter-widgets/base",
      "model_module_version": "1.2.0",
      "model_name": "LayoutModel",
      "state": {}
     },
     "69efb8fe65cb4b178fc6b28b07eaa278": {
      "model_module": "@jupyter-widgets/controls",
      "model_module_version": "1.5.0",
      "model_name": "DescriptionStyleModel",
      "state": {
       "description_width": ""
      }
     },
     "69fcff8ee164406d9ae1be0101aa61ae": {
      "model_module": "@jupyter-widgets/controls",
      "model_module_version": "1.5.0",
      "model_name": "CheckboxModel",
      "state": {
       "description": "FS0 = [CAT = N], FS1 = [CAT = N, GEN = MASK]",
       "disabled": false,
       "layout": "IPY_MODEL_909dcda7d31c4ae6b08d0d1ba370b81d",
       "style": "IPY_MODEL_625870c5d456435ea4f135ca6fa676fe",
       "value": false
      }
     },
     "6a114749f8ca4aaa98ec99952d3fe348": {
      "model_module": "@jupyter-widgets/controls",
      "model_module_version": "1.5.0",
      "model_name": "VBoxModel",
      "state": {
       "children": [
        "IPY_MODEL_f0813c927a02458b89a612663cade3cd",
        "IPY_MODEL_11b268e6dcc745269cc5641bdd4b6756",
        "IPY_MODEL_0d1c7eb625fb4419ae3f34730113516c",
        "IPY_MODEL_002060a724164449990d5e06d7393333"
       ],
       "layout": "IPY_MODEL_1df0ba82d21242ca811c24a81ed56dd4"
      }
     },
     "6a1d46eb368f4846b5b476da0e2e7210": {
      "model_module": "@jupyter-widgets/controls",
      "model_module_version": "1.5.0",
      "model_name": "CheckboxModel",
      "state": {
       "description": "Keine der Alternativen",
       "disabled": false,
       "layout": "IPY_MODEL_43d63faa855f4ef3ac02e03c77511b80",
       "style": "IPY_MODEL_bd1441d2685e4851ac27c97e56dd9918",
       "value": false
      }
     },
     "6a44934e30194edfb5e40841a6d452cb": {
      "model_module": "@jupyter-widgets/base",
      "model_module_version": "1.2.0",
      "model_name": "LayoutModel",
      "state": {
       "width": "250px"
      }
     },
     "6a495f1b6c7f4535a5a90b61b03a2708": {
      "model_module": "@jupyter-widgets/base",
      "model_module_version": "1.2.0",
      "model_name": "LayoutModel",
      "state": {}
     },
     "6a50be50fdc84697b87480ce3f24bddb": {
      "model_module": "@jupyter-widgets/controls",
      "model_module_version": "1.5.0",
      "model_name": "DescriptionStyleModel",
      "state": {
       "description_width": "initial"
      }
     },
     "6a527e2845684b73b511c535ec2f4080": {
      "model_module": "@jupyter-widgets/controls",
      "model_module_version": "1.5.0",
      "model_name": "ButtonStyleModel",
      "state": {}
     },
     "6a679c86e25b49b7b3d9a8e5c24e6d05": {
      "model_module": "@jupyter-widgets/controls",
      "model_module_version": "1.5.0",
      "model_name": "HBoxModel",
      "state": {
       "children": [
        "IPY_MODEL_e65ba942f17940b4bf8561f203d1500f",
        "IPY_MODEL_9e15557ae02141fca00c100f7ec4bedd"
       ],
       "layout": "IPY_MODEL_48d4a1f1d19f45db9e582084080b3f7e"
      }
     },
     "6acfee8e4b3d41798f770355f0ff9e7a": {
      "model_module": "@jupyter-widgets/controls",
      "model_module_version": "1.5.0",
      "model_name": "HTMLModel",
      "state": {
       "layout": "IPY_MODEL_a64fe018e143443da5e3f86c6c44694e",
       "style": "IPY_MODEL_9903ceb4e7674fceaa84959685cbcc43",
       "value": "<h4 style=\"font-size:14px;\">Was gilt immer für das Ergebnis der Unifikation solcher Merkmalstrukturen?</h4>"
      }
     },
     "6ade3a788bb34f09b2412d653d8780ba": {
      "model_module": "@jupyter-widgets/controls",
      "model_module_version": "1.5.0",
      "model_name": "HTMLModel",
      "state": {
       "layout": "IPY_MODEL_16aae683b6f94b62911ef947d900163f",
       "style": "IPY_MODEL_c896faf37cc4489baab08b6bb007814c",
       "value": "<i>Wählen Sie die <ins>eine</ins> korrekte Antwort aus: </i>"
      }
     },
     "6b034e20c5b8429ca348f8463e845028": {
      "model_module": "@jupyter-widgets/controls",
      "model_module_version": "1.5.0",
      "model_name": "ButtonStyleModel",
      "state": {}
     },
     "6b22ba9e3a684b1cac1265d1d8a54761": {
      "model_module": "@jupyter-widgets/controls",
      "model_module_version": "1.5.0",
      "model_name": "ButtonModel",
      "state": {
       "description": "Korrekt?",
       "layout": "IPY_MODEL_6bf62e2c965f4c4695f4631f3de626bc",
       "style": "IPY_MODEL_197b8b7878e64cb89e12057585208bcb"
      }
     },
     "6b387279f1d24ee9ac6c18ab73152d5c": {
      "model_module": "@jupyter-widgets/controls",
      "model_module_version": "1.5.0",
      "model_name": "DescriptionStyleModel",
      "state": {
       "description_width": ""
      }
     },
     "6b503737190242239c82765ba8d64e10": {
      "model_module": "@jupyter-widgets/controls",
      "model_module_version": "1.5.0",
      "model_name": "VBoxModel",
      "state": {
       "children": [
        "IPY_MODEL_912ca843eaca4cb6a5ed406049092e4a",
        "IPY_MODEL_d8d7c5826d7b479eb5f084c60967c656",
        "IPY_MODEL_fbb528b2d70541dcaea872ba0d168099"
       ],
       "layout": "IPY_MODEL_9714edb815594dac807f6420e4e347dc"
      }
     },
     "6b53a4705a98411e8e284550520e9052": {
      "model_module": "@jupyter-widgets/base",
      "model_module_version": "1.2.0",
      "model_name": "LayoutModel",
      "state": {
       "width": "250px"
      }
     },
     "6b8c6bc51d5243efb10f5b924302d52e": {
      "model_module": "@jupyter-widgets/base",
      "model_module_version": "1.2.0",
      "model_name": "LayoutModel",
      "state": {
       "width": "600px"
      }
     },
     "6ba00cefc720417a9c291fe13872cf8b": {
      "model_module": "@jupyter-widgets/base",
      "model_module_version": "1.2.0",
      "model_name": "LayoutModel",
      "state": {
       "width": "600px"
      }
     },
     "6bc020c7b3044d6d9ad38935010a28dd": {
      "model_module": "@jupyter-widgets/controls",
      "model_module_version": "1.5.0",
      "model_name": "ButtonModel",
      "state": {
       "description": "Time",
       "layout": "IPY_MODEL_8838109dc5094849bcde4c0c1bd614f3",
       "style": "IPY_MODEL_69628ee77aeb459e9d5fa338b3a0b543"
      }
     },
     "6bce79fc02aa499bba9bbdc96bac4edf": {
      "model_module": "@jupyter-widgets/base",
      "model_module_version": "1.2.0",
      "model_name": "LayoutModel",
      "state": {
       "width": "600px"
      }
     },
     "6bdb48e9eea84146a11335b8bd5b1a9c": {
      "model_module": "@jupyter-widgets/controls",
      "model_module_version": "1.5.0",
      "model_name": "DescriptionStyleModel",
      "state": {
       "description_width": ""
      }
     },
     "6be43ba473dd41639bf0f40218469a4c": {
      "model_module": "@jupyter-widgets/controls",
      "model_module_version": "1.5.0",
      "model_name": "ButtonModel",
      "state": {
       "description": "Nein",
       "layout": "IPY_MODEL_fcce780baadb46f6b5c2e32256814b9b",
       "style": "IPY_MODEL_a0d444b4db6f4ade8e7c12be1a6365ad"
      }
     },
     "6bf62e2c965f4c4695f4631f3de626bc": {
      "model_module": "@jupyter-widgets/base",
      "model_module_version": "1.2.0",
      "model_name": "LayoutModel",
      "state": {
       "width": "250px"
      }
     },
     "6c047047ac824a8cbbf866d330331b20": {
      "model_module": "@jupyter-widgets/base",
      "model_module_version": "1.2.0",
      "model_name": "LayoutModel",
      "state": {
       "width": "600px"
      }
     },
     "6c4809d7ceab46118ce21898bbc96ea5": {
      "model_module": "@jupyter-widgets/base",
      "model_module_version": "1.2.0",
      "model_name": "LayoutModel",
      "state": {
       "width": "250px"
      }
     },
     "6c4cb210c8c74cea804c9b180df767a6": {
      "model_module": "@jupyter-widgets/controls",
      "model_module_version": "1.5.0",
      "model_name": "HTMLModel",
      "state": {
       "layout": "IPY_MODEL_d358b99cead8400dac13f4a1852ecb39",
       "style": "IPY_MODEL_0f7382adbf1246d5aecf628cc0cb1974",
       "value": "<h4 style=\"font-size:14px;\">Wie werden Features beim POS-Tagging verwendet?</h4>"
      }
     },
     "6ca9eea4ac0048b1b1be71ad4cd46ee1": {
      "model_module": "@jupyter-widgets/controls",
      "model_module_version": "1.5.0",
      "model_name": "DescriptionStyleModel",
      "state": {
       "description_width": ""
      }
     },
     "6caa389f63884ccea409ee40fdf53861": {
      "model_module": "@jupyter-widgets/controls",
      "model_module_version": "1.5.0",
      "model_name": "HTMLModel",
      "state": {
       "layout": "IPY_MODEL_71f1adef03504dacbbf7394ac6018cc5",
       "style": "IPY_MODEL_1df40cab9163456d828cbc38681d5bba",
       "value": "<i>Vervollständigen Sie den Lückentext: </i>"
      }
     },
     "6cb9fbe9a17941f3b00390a25a2a6ba3": {
      "model_module": "@jupyter-widgets/controls",
      "model_module_version": "1.5.0",
      "model_name": "ButtonStyleModel",
      "state": {
       "button_color": "lightgreen"
      }
     },
     "6cc69c55f23c4f22b28f54d700627c5c": {
      "model_module": "@jupyter-widgets/controls",
      "model_module_version": "1.5.0",
      "model_name": "DescriptionStyleModel",
      "state": {
       "description_width": "initial"
      }
     },
     "6cd616a2990047139bf7191e7cd75825": {
      "model_module": "@jupyter-widgets/base",
      "model_module_version": "1.2.0",
      "model_name": "LayoutModel",
      "state": {}
     },
     "6ce5cd039ab94338ab3e9ff8590e2177": {
      "model_module": "@jupyter-widgets/base",
      "model_module_version": "1.2.0",
      "model_name": "LayoutModel",
      "state": {}
     },
     "6d23c13efcc642a3820477bd4311234a": {
      "model_module": "@jupyter-widgets/controls",
      "model_module_version": "1.5.0",
      "model_name": "DescriptionStyleModel",
      "state": {
       "description_width": "initial"
      }
     },
     "6d267befaab143cab0edf57b741729dd": {
      "model_module": "@jupyter-widgets/base",
      "model_module_version": "1.2.0",
      "model_name": "LayoutModel",
      "state": {}
     },
     "6d3045ed800e4c5cb2e9c27bd68f1a6e": {
      "model_module": "@jupyter-widgets/controls",
      "model_module_version": "1.5.0",
      "model_name": "DescriptionStyleModel",
      "state": {
       "description_width": "initial"
      }
     },
     "6d3862f86a8d45fda278c6edbae6d3f3": {
      "model_module": "@jupyter-widgets/controls",
      "model_module_version": "1.5.0",
      "model_name": "DescriptionStyleModel",
      "state": {
       "description_width": "initial"
      }
     },
     "6d5475077555497d90925c592a3459e8": {
      "model_module": "@jupyter-widgets/controls",
      "model_module_version": "1.5.0",
      "model_name": "DescriptionStyleModel",
      "state": {
       "description_width": ""
      }
     },
     "6d5af446d8b841ce837f1c93e330b0fd": {
      "model_module": "@jupyter-widgets/controls",
      "model_module_version": "1.5.0",
      "model_name": "ButtonStyleModel",
      "state": {
       "button_color": "lightgreen"
      }
     },
     "6d7e18e7f0604df7b61c7acd961a138a": {
      "model_module": "@jupyter-widgets/base",
      "model_module_version": "1.2.0",
      "model_name": "LayoutModel",
      "state": {
       "width": "150px"
      }
     },
     "6d88bc315daf40ffb1a14de4a50a54b1": {
      "model_module": "@jupyter-widgets/base",
      "model_module_version": "1.2.0",
      "model_name": "LayoutModel",
      "state": {
       "justify_content": "center"
      }
     },
     "6d9069834bea4283bbb77de8e87c4bb4": {
      "model_module": "@jupyter-widgets/controls",
      "model_module_version": "1.5.0",
      "model_name": "VBoxModel",
      "state": {
       "children": [
        "IPY_MODEL_b14da86db7854ca4972bb8effabe3131",
        "IPY_MODEL_a099c5d5cb204752b799b61a75825c83",
        "IPY_MODEL_982f134d7bce4a5d953af07547e6765b"
       ],
       "layout": "IPY_MODEL_2604c2f8ee55492a9497222c13792a74"
      }
     },
     "6dd3c5bff8f04b09854b8ef7d2a49125": {
      "model_module": "@jupyter-widgets/base",
      "model_module_version": "1.2.0",
      "model_name": "LayoutModel",
      "state": {}
     },
     "6dd8d6a165e343dc9c7883a40e76c9cf": {
      "model_module": "@jupyter-widgets/controls",
      "model_module_version": "1.5.0",
      "model_name": "ButtonStyleModel",
      "state": {}
     },
     "6dda94393de643eaa3c6abf9a9b23540": {
      "model_module": "@jupyter-widgets/base",
      "model_module_version": "1.2.0",
      "model_name": "LayoutModel",
      "state": {
       "justify_content": "center"
      }
     },
     "6de8b6efd7624980af8a3a6a838c5a9f": {
      "model_module": "@jupyter-widgets/controls",
      "model_module_version": "1.5.0",
      "model_name": "HTMLModel",
      "state": {
       "layout": "IPY_MODEL_b8ce84a76b3e409ba6e9df36f22660fe",
       "style": "IPY_MODEL_1322d12c523549ce831d510fc1949bf5",
       "value": "<h4 style=\"font-size:14px;\">übernehmen.</h4>"
      }
     },
     "6e54fc20f8024d878e6686139b5bd183": {
      "model_module": "@jupyter-widgets/controls",
      "model_module_version": "1.5.0",
      "model_name": "CheckboxModel",
      "state": {
       "description": "FS0 = [CAT = N, GEN = MASK], FS1 = [CAT = N]",
       "disabled": false,
       "layout": "IPY_MODEL_14c544a5d48e431d8787c01bd1170933",
       "style": "IPY_MODEL_ab8fe36dd068448ea18bdbec9cba1604",
       "value": false
      }
     },
     "6e8eb4ba06004baea807b0ed8217c6b4": {
      "model_module": "@jupyter-widgets/controls",
      "model_module_version": "1.5.0",
      "model_name": "HTMLModel",
      "state": {
       "layout": "IPY_MODEL_11cc0954ad684de59ee51a4e4d46ac66",
       "style": "IPY_MODEL_bc538f937c274aeca4335c7c3cdf1c05",
       "value": "<h4 style=\"font-size:14px;\">Welche der Beispiele erfüllen die Subsumptionsbeziehung aus 10b nicht?</h4>"
      }
     },
     "6ef0a147a42f41008b4905daf896b304": {
      "model_module": "@jupyter-widgets/controls",
      "model_module_version": "1.5.0",
      "model_name": "ButtonModel",
      "state": {
       "description": "list",
       "layout": "IPY_MODEL_1930f66b328a49149e1981fb27f54b8c",
       "style": "IPY_MODEL_dea5af59a0d2411cb348ec4846e3c5b6"
      }
     },
     "6effafb6a1484744aad234fe8a777900": {
      "model_module": "@jupyter-widgets/controls",
      "model_module_version": "1.5.0",
      "model_name": "DescriptionStyleModel",
      "state": {
       "description_width": "initial"
      }
     },
     "6f0ea93529c94fc988e074ed43a163e4": {
      "model_module": "@jupyter-widgets/controls",
      "model_module_version": "1.5.0",
      "model_name": "DescriptionStyleModel",
      "state": {
       "description_width": "initial"
      }
     },
     "6f25e45bec8c49b7a510270dde7a6af1": {
      "model_module": "@jupyter-widgets/base",
      "model_module_version": "1.2.0",
      "model_name": "LayoutModel",
      "state": {
       "width": "600px"
      }
     },
     "6f2ffec0a53d48a68247d192f135b88a": {
      "model_module": "@jupyter-widgets/base",
      "model_module_version": "1.2.0",
      "model_name": "LayoutModel",
      "state": {
       "width": "250px"
      }
     },
     "6f37ef7359684a3392db1eb5a31f55ea": {
      "model_module": "@jupyter-widgets/controls",
      "model_module_version": "1.5.0",
      "model_name": "HTMLModel",
      "state": {
       "layout": "IPY_MODEL_78f69f07f8e546b386df52e7a3dac353",
       "style": "IPY_MODEL_1254ffd50eb94361a5f35eadd9504118",
       "value": "<i>Wählen Sie die <ins>eine</ins> korrekte Antwort aus: </i>"
      }
     },
     "6f38166ab94847c5863ccea24bb19d2c": {
      "model_module": "@jupyter-widgets/controls",
      "model_module_version": "1.5.0",
      "model_name": "CheckboxModel",
      "state": {
       "description": "Keine der Alternativen",
       "disabled": false,
       "layout": "IPY_MODEL_192bba2c51314b42959efe235373d16e",
       "style": "IPY_MODEL_4a56d7910e49429ca0bea5766f95b28a",
       "value": false
      }
     },
     "6f5283b8beff402ea92e213fa077b5c8": {
      "model_module": "@jupyter-widgets/controls",
      "model_module_version": "1.5.0",
      "model_name": "VBoxModel",
      "state": {
       "children": [
        "IPY_MODEL_479e36bed71d45cda4ff385b20797832",
        "IPY_MODEL_391301a5e7d74290a1463468f414ea43",
        "IPY_MODEL_a61da3f8be0c4e4283d52a96dc3b824d",
        "IPY_MODEL_96305b60ade0460eb744011c8f080972"
       ],
       "layout": "IPY_MODEL_729c705515c1451ebe9318e28d928485"
      }
     },
     "6f5e847b0335472eac5ca357c2ae2db0": {
      "model_module": "@jupyter-widgets/controls",
      "model_module_version": "1.5.0",
      "model_name": "DescriptionStyleModel",
      "state": {
       "description_width": ""
      }
     },
     "6fe006454b294d3a9570cb5b77fa67cc": {
      "model_module": "@jupyter-widgets/controls",
      "model_module_version": "1.5.0",
      "model_name": "VBoxModel",
      "state": {
       "children": [
        "IPY_MODEL_1d4906611a6a493eb23278c06e8fcd54",
        "IPY_MODEL_deaec5c327914d409d32809adb381ad3",
        "IPY_MODEL_8756d91e50f84f42ac90f43f10f2e57e",
        "IPY_MODEL_b410bbb91b42407486a0abb405f278ee"
       ],
       "layout": "IPY_MODEL_fa82bd811f744099b5f8ce3e4bc746d7"
      }
     },
     "6fe9785963cf42d5bc2021c65dcbb092": {
      "model_module": "@jupyter-widgets/controls",
      "model_module_version": "1.5.0",
      "model_name": "DescriptionStyleModel",
      "state": {
       "description_width": "initial"
      }
     },
     "700c5317e7584bbd8d6a72fcfd6a09d7": {
      "model_module": "@jupyter-widgets/base",
      "model_module_version": "1.2.0",
      "model_name": "LayoutModel",
      "state": {}
     },
     "7020907f3d394809a16e0af5c12a6d9f": {
      "model_module": "@jupyter-widgets/controls",
      "model_module_version": "1.5.0",
      "model_name": "ButtonModel",
      "state": {
       "description": "dictionary",
       "layout": "IPY_MODEL_cd3d36e745bf4795a3a650e8647d3a7e",
       "style": "IPY_MODEL_7f9457bc5ce2411e8e6b3e3eb42d7109"
      }
     },
     "705c50aa3a1b48b9a53e790ec8fd786d": {
      "model_module": "@jupyter-widgets/controls",
      "model_module_version": "1.5.0",
      "model_name": "CheckboxModel",
      "state": {
       "description": "!x",
       "disabled": false,
       "layout": "IPY_MODEL_e31fb598dcf14bc78a097a8fbfefe707",
       "style": "IPY_MODEL_809e3ba227454607b8ed3a208303c876",
       "value": false
      }
     },
     "7084d30370d943e3995220f62d41a795": {
      "model_module": "@jupyter-widgets/controls",
      "model_module_version": "1.5.0",
      "model_name": "DescriptionStyleModel",
      "state": {
       "description_width": "initial"
      }
     },
     "709855fccdcd4b82a4b6832deef3c202": {
      "model_module": "@jupyter-widgets/controls",
      "model_module_version": "1.5.0",
      "model_name": "CheckboxModel",
      "state": {
       "description": "FS0 = [CAT = DET], FS1 = [CAT = N, GEN = MASK]",
       "disabled": false,
       "layout": "IPY_MODEL_08988522806f470385f767eef033d079",
       "style": "IPY_MODEL_4ae234c5dd04432d89c9eb85eada8818",
       "value": false
      }
     },
     "70c8f23d2cb447f38ce08bd0705b1dd8": {
      "model_module": "@jupyter-widgets/controls",
      "model_module_version": "1.5.0",
      "model_name": "DescriptionStyleModel",
      "state": {
       "description_width": ""
      }
     },
     "70eeca82021b49e4be8c72db543d5493": {
      "model_module": "@jupyter-widgets/base",
      "model_module_version": "1.2.0",
      "model_name": "LayoutModel",
      "state": {}
     },
     "711901d9ab53453b94c55fa563752c64": {
      "model_module": "@jupyter-widgets/base",
      "model_module_version": "1.2.0",
      "model_name": "LayoutModel",
      "state": {
       "width": "250px"
      }
     },
     "71512dbdf21a4028a38db275fa95b58d": {
      "model_module": "@jupyter-widgets/controls",
      "model_module_version": "1.5.0",
      "model_name": "DescriptionStyleModel",
      "state": {
       "description_width": "initial"
      }
     },
     "7163263f9c72464181d958dc074b39b3": {
      "model_module": "@jupyter-widgets/controls",
      "model_module_version": "1.5.0",
      "model_name": "HTMLModel",
      "state": {
       "layout": "IPY_MODEL_5b11b4f85e3b454387e5fe959f46a1ae",
       "style": "IPY_MODEL_3896b0d02a7f40649373e935b6bc9bc0",
       "value": "<i>Markieren Sie <ins>alle</ins> passenden Antworten: </i>"
      }
     },
     "71bc361d97b94734b0a9e856020ac862": {
      "model_module": "@jupyter-widgets/controls",
      "model_module_version": "1.5.0",
      "model_name": "ButtonModel",
      "state": {
       "description": "Nein",
       "layout": "IPY_MODEL_711901d9ab53453b94c55fa563752c64",
       "style": "IPY_MODEL_0f46eedb6e0e4a8188d5cbad5fd77ef5"
      }
     },
     "71c87588a73b4e45af0eae3abf0744bd": {
      "model_module": "@jupyter-widgets/controls",
      "model_module_version": "1.5.0",
      "model_name": "VBoxModel",
      "state": {
       "children": [
        "IPY_MODEL_9cb956ac6f3b40e4a8e893fa72aff670",
        "IPY_MODEL_a0850fcdc2474d57b3c18c7fca139c3a",
        "IPY_MODEL_7271306e04d54694a90a6ab80aaca9db",
        "IPY_MODEL_d4c78e9192b9484080016006189e50be"
       ],
       "layout": "IPY_MODEL_4e42c8ea2aea4c578c5e40955ec3d947"
      }
     },
     "71d940e9da1f467287978bb9f070bb1e": {
      "model_module": "@jupyter-widgets/controls",
      "model_module_version": "1.5.0",
      "model_name": "HTMLModel",
      "state": {
       "layout": "IPY_MODEL_309160261a2d4c378311843eed07a696",
       "style": "IPY_MODEL_c475be031c2d4db6b01b9358412a99de",
       "value": "<i>Markieren Sie <ins>alle</ins> passenden Antworten: </i>"
      }
     },
     "71ea2fd11c904800b18ce939b0d3b7a6": {
      "model_module": "@jupyter-widgets/controls",
      "model_module_version": "1.5.0",
      "model_name": "DescriptionStyleModel",
      "state": {
       "description_width": ""
      }
     },
     "71f1adef03504dacbbf7394ac6018cc5": {
      "model_module": "@jupyter-widgets/base",
      "model_module_version": "1.2.0",
      "model_name": "LayoutModel",
      "state": {
       "justify_content": "center"
      }
     },
     "71f1d77d974640dca2ff93cadd86f880": {
      "model_module": "@jupyter-widgets/controls",
      "model_module_version": "1.5.0",
      "model_name": "HTMLModel",
      "state": {
       "layout": "IPY_MODEL_8f5da90c7b6a494aabf612ec8322473d",
       "style": "IPY_MODEL_589726a7038f4fa18fd9c716864ec22d",
       "value": "<h4 style=\"font-size:14px;\">Beantworten Sie die beiden obigen Fragen.</h4>"
      }
     },
     "721e0b5554f34d7aa17e4942bf6ac8e1": {
      "model_module": "@jupyter-widgets/base",
      "model_module_version": "1.2.0",
      "model_name": "LayoutModel",
      "state": {}
     },
     "7248ff995117432781e2defda0953a14": {
      "model_module": "@jupyter-widgets/controls",
      "model_module_version": "1.5.0",
      "model_name": "CheckboxModel",
      "state": {
       "description": "Sie werden gelöscht.",
       "disabled": false,
       "layout": "IPY_MODEL_75029b65209e4c0d880a024c25e9c319",
       "style": "IPY_MODEL_35ba16a6675e4b09b70ff41e3262b943",
       "value": false
      }
     },
     "7255b612e977483fa87080856628fe05": {
      "model_module": "@jupyter-widgets/base",
      "model_module_version": "1.2.0",
      "model_name": "LayoutModel",
      "state": {
       "width": "150px"
      }
     },
     "7271306e04d54694a90a6ab80aaca9db": {
      "model_module": "@jupyter-widgets/controls",
      "model_module_version": "1.5.0",
      "model_name": "CheckboxModel",
      "state": {
       "description": "FS0 = [CAT = N, GEN = MASK], FS1 = [CAT = N]",
       "disabled": false,
       "layout": "IPY_MODEL_7a7d9fc415ab47bba8ec51ee1f9ceaf3",
       "style": "IPY_MODEL_0d111d5420984b03a6619e23cca92d1b",
       "value": false
      }
     },
     "728c094f813349c1bab00897b39fd87a": {
      "model_module": "@jupyter-widgets/controls",
      "model_module_version": "1.5.0",
      "model_name": "DescriptionStyleModel",
      "state": {
       "description_width": ""
      }
     },
     "7290d5e38edf45c5a2cc3477921047fb": {
      "model_module": "@jupyter-widgets/base",
      "model_module_version": "1.2.0",
      "model_name": "LayoutModel",
      "state": {
       "justify_content": "center"
      }
     },
     "729c705515c1451ebe9318e28d928485": {
      "model_module": "@jupyter-widgets/base",
      "model_module_version": "1.2.0",
      "model_name": "LayoutModel",
      "state": {}
     },
     "72b34b4c83c94028924fb516f7891e31": {
      "model_module": "@jupyter-widgets/controls",
      "model_module_version": "1.5.0",
      "model_name": "VBoxModel",
      "state": {
       "children": [
        "IPY_MODEL_fd0ef6584215452dba86f1cd7b1f4c9b",
        "IPY_MODEL_d15a5646677740bd92398e42a2a974db",
        "IPY_MODEL_81a1d5807e8a4c7db304cde879998b35",
        "IPY_MODEL_d666f91cc3ab40859ff1c677c14ab1c2"
       ],
       "layout": "IPY_MODEL_7b73d8a593934aa79af9130a79c1088e"
      }
     },
     "72b9b482512e49a3b076e16cfee5a681": {
      "model_module": "@jupyter-widgets/base",
      "model_module_version": "1.2.0",
      "model_name": "LayoutModel",
      "state": {}
     },
     "72c1111806a14d16b4dd05dc3f51fe89": {
      "model_module": "@jupyter-widgets/controls",
      "model_module_version": "1.5.0",
      "model_name": "DescriptionStyleModel",
      "state": {
       "description_width": "initial"
      }
     },
     "72d3fbeb79634331b9ff01cab0154831": {
      "model_module": "@jupyter-widgets/controls",
      "model_module_version": "1.5.0",
      "model_name": "ButtonModel",
      "state": {
       "description": "Recipient",
       "layout": "IPY_MODEL_bd5637f0d83e4274a186308b0e1456a7",
       "style": "IPY_MODEL_ab8607e8d5c34a05925d7f3bb677a5dd"
      }
     },
     "72efca32f6a2470bacc498ca7da47b1a": {
      "model_module": "@jupyter-widgets/base",
      "model_module_version": "1.2.0",
      "model_name": "LayoutModel",
      "state": {
       "width": "600px"
      }
     },
     "731b25f157874e77b00f4888ff536287": {
      "model_module": "@jupyter-widgets/controls",
      "model_module_version": "1.5.0",
      "model_name": "VBoxModel",
      "state": {
       "children": [
        "IPY_MODEL_f71408236e48441ba3a1bcf534ca06fb",
        "IPY_MODEL_83fea32496fb49e8ba9794c66a71e8cc",
        "IPY_MODEL_0d91a2e0589244929c963f76aa3466e9",
        "IPY_MODEL_027c3c519364415d9cae437f61618b5b"
       ],
       "layout": "IPY_MODEL_d5020ceb50774a9c9e8fecce3f08a4a4"
      }
     },
     "731f662cf1fb4773b8ea7eaf1454ecab": {
      "model_module": "@jupyter-widgets/base",
      "model_module_version": "1.2.0",
      "model_name": "LayoutModel",
      "state": {
       "justify_content": "center"
      }
     },
     "7352e129c14e41ccb6d6b12cb1dee28b": {
      "model_module": "@jupyter-widgets/base",
      "model_module_version": "1.2.0",
      "model_name": "LayoutModel",
      "state": {}
     },
     "7354c485f8c24661a4839c3a36f6512e": {
      "model_module": "@jupyter-widgets/controls",
      "model_module_version": "1.5.0",
      "model_name": "DescriptionStyleModel",
      "state": {
       "description_width": ""
      }
     },
     "7364f0dbc1bc4afb831e17b014b22820": {
      "model_module": "@jupyter-widgets/controls",
      "model_module_version": "1.5.0",
      "model_name": "DescriptionStyleModel",
      "state": {
       "description_width": ""
      }
     },
     "7375171ccb6b44b2b1c5c38428942753": {
      "model_module": "@jupyter-widgets/controls",
      "model_module_version": "1.5.0",
      "model_name": "DescriptionStyleModel",
      "state": {
       "description_width": ""
      }
     },
     "73deb170a9254cd784973a156a61fa8b": {
      "model_module": "@jupyter-widgets/controls",
      "model_module_version": "1.5.0",
      "model_name": "VBoxModel",
      "state": {
       "children": [
        "IPY_MODEL_76ab473815094371941b1cac08892798",
        "IPY_MODEL_e2156c20a7064e9aa828f55881780537",
        "IPY_MODEL_f00403608d4740bbbf0d77bcc836c0e8",
        "IPY_MODEL_88179e143038493f85d6a7b78dbfa17b",
        "IPY_MODEL_5302c408b4c14eb29638c466f7dcfabb",
        "IPY_MODEL_3ee9db59b96647468f3d99370a9c08bf"
       ],
       "layout": "IPY_MODEL_78fc788c26e74c1383adb9b507872327"
      }
     },
     "73ec4c72ace34f69908bed5ca4f4ee77": {
      "model_module": "@jupyter-widgets/base",
      "model_module_version": "1.2.0",
      "model_name": "LayoutModel",
      "state": {}
     },
     "74137c0adaf147ef8d2f38ecdf516191": {
      "model_module": "@jupyter-widgets/controls",
      "model_module_version": "1.5.0",
      "model_name": "DescriptionStyleModel",
      "state": {
       "description_width": "initial"
      }
     },
     "741ab6cdb509403fb4df6eddf4261cd4": {
      "model_module": "@jupyter-widgets/controls",
      "model_module_version": "1.5.0",
      "model_name": "HTMLModel",
      "state": {
       "layout": "IPY_MODEL_7cef1d5b9718467683cd83ab5f09065a",
       "style": "IPY_MODEL_04cd4bf7ae234ee1b4425cbf273ca42d",
       "value": "<h4 style=\"font-size:14px;\">Welche Aussagen über Adjektive stimmen?</h4>"
      }
     },
     "7422eec42626478087cfaf1cb58f1709": {
      "model_module": "@jupyter-widgets/base",
      "model_module_version": "1.2.0",
      "model_name": "LayoutModel",
      "state": {}
     },
     "7428388de208441bb0ebc616c4a175df": {
      "model_module": "@jupyter-widgets/base",
      "model_module_version": "1.2.0",
      "model_name": "LayoutModel",
      "state": {}
     },
     "747a8815d18540e9963268512c6d5461": {
      "model_module": "@jupyter-widgets/controls",
      "model_module_version": "1.5.0",
      "model_name": "VBoxModel",
      "state": {
       "children": [
        "IPY_MODEL_bb5937f28fc2456d937f36283f4900e7",
        "IPY_MODEL_21adc0931b484f829bfc96a53cef95e9",
        "IPY_MODEL_dc9834955c464c899249b32b290ad148",
        "IPY_MODEL_d1b8f0c630e04e768422ee2f620240cd"
       ],
       "layout": "IPY_MODEL_02106048c8784c4090a0a4b60f5d42cb"
      }
     },
     "749e592649184841a3f5854b53fa868c": {
      "model_module": "@jupyter-widgets/controls",
      "model_module_version": "1.5.0",
      "model_name": "CheckboxModel",
      "state": {
       "description": "FS0 = [CAT = N], FS1 = [CAT = N, GEN = MASK]",
       "disabled": false,
       "layout": "IPY_MODEL_c3a9fb6764234933987d52889c373841",
       "style": "IPY_MODEL_4dd692b7b7114057811c07fce8109e5a",
       "value": false
      }
     },
     "74a0a98efbb440dca291cf3e65bf1a04": {
      "model_module": "@jupyter-widgets/base",
      "model_module_version": "1.2.0",
      "model_name": "LayoutModel",
      "state": {
       "width": "250px"
      }
     },
     "74c300f855614759b00e42ca822e9b95": {
      "model_module": "@jupyter-widgets/controls",
      "model_module_version": "1.5.0",
      "model_name": "DescriptionStyleModel",
      "state": {
       "description_width": ""
      }
     },
     "74f5ce5fba124894b2ab4d0c11f1bba7": {
      "model_module": "@jupyter-widgets/controls",
      "model_module_version": "1.5.0",
      "model_name": "HBoxModel",
      "state": {
       "children": [
        "IPY_MODEL_85cbb5bf3d2b49888e9fb51ba42bb68a",
        "IPY_MODEL_fbb5df824a2e47e5809906b5765c5489"
       ],
       "layout": "IPY_MODEL_a1ed68964da644d4bfb97a784e007cdd"
      }
     },
     "75001167cf63433b8f6ea9a7c8bcf5a1": {
      "model_module": "@jupyter-widgets/controls",
      "model_module_version": "1.5.0",
      "model_name": "CheckboxModel",
      "state": {
       "description": "FS0 = [CAT = N, GEN = FEM], FS1 = [CAT = DET, GEN = FEM]",
       "disabled": false,
       "layout": "IPY_MODEL_575389cd547345c18e2c426a23e6ff26",
       "style": "IPY_MODEL_3931e7006abf4d1c888ae1be41c1652a",
       "value": false
      }
     },
     "75029b65209e4c0d880a024c25e9c319": {
      "model_module": "@jupyter-widgets/base",
      "model_module_version": "1.2.0",
      "model_name": "LayoutModel",
      "state": {
       "width": "600px"
      }
     },
     "750f0a5375d84e65bc30b48b166a86ae": {
      "model_module": "@jupyter-widgets/controls",
      "model_module_version": "1.5.0",
      "model_name": "HTMLModel",
      "state": {
       "layout": "IPY_MODEL_f62d041b0f5842bc8e9c2d2838a8319f",
       "style": "IPY_MODEL_8cdd1433178b47a6a149385d1cf5fe84",
       "value": "<h4 style=\"font-size:14px;\">Beantworten Sie die beiden obigen Fragen.</h4>"
      }
     },
     "7524547fb55547ffadeb067d96953bb9": {
      "model_module": "@jupyter-widgets/controls",
      "model_module_version": "1.5.0",
      "model_name": "ButtonStyleModel",
      "state": {}
     },
     "7535798a57ab4cf99b7df679a9b700de": {
      "model_module": "@jupyter-widgets/base",
      "model_module_version": "1.2.0",
      "model_name": "LayoutModel",
      "state": {}
     },
     "7558273dd0c24ca8b5190ff22fc05861": {
      "model_module": "@jupyter-widgets/controls",
      "model_module_version": "1.5.0",
      "model_name": "VBoxModel",
      "state": {
       "children": [
        "IPY_MODEL_32bfa5e4aa574508bf4c4afd9ae487a2",
        "IPY_MODEL_c5442dfffbfe43acb123d703aeba2961",
        "IPY_MODEL_8f32e23b4de1484386fb4079df218f9e",
        "IPY_MODEL_6b22ba9e3a684b1cac1265d1d8a54761"
       ],
       "layout": "IPY_MODEL_1564d556c75144f2af4da7f6a4d10e80"
      }
     },
     "75667316dfd546dbab746075162a21ca": {
      "model_module": "@jupyter-widgets/base",
      "model_module_version": "1.2.0",
      "model_name": "LayoutModel",
      "state": {}
     },
     "7588455061254ec6b468e00f0b8515c1": {
      "model_module": "@jupyter-widgets/controls",
      "model_module_version": "1.5.0",
      "model_name": "DropdownModel",
      "state": {
       "_options_labels": [
        "1",
        "10",
        "2",
        "4",
        "6",
        "8",
        "Keine der Alternativen"
       ],
       "description": "Antwort:",
       "index": 0,
       "layout": "IPY_MODEL_2a4c066bada442918382491ea76b70db",
       "style": "IPY_MODEL_e6c6c58c4f7a4e2192caac5687d19276"
      }
     },
     "75e815bdc7f74163997ec84abf0eb647": {
      "model_module": "@jupyter-widgets/base",
      "model_module_version": "1.2.0",
      "model_name": "LayoutModel",
      "state": {
       "width": "600px"
      }
     },
     "75fb53804c784cb1bdda52fb986ab29b": {
      "model_module": "@jupyter-widgets/base",
      "model_module_version": "1.2.0",
      "model_name": "LayoutModel",
      "state": {}
     },
     "76034b548ad44d1a826b591193fed6e6": {
      "model_module": "@jupyter-widgets/base",
      "model_module_version": "1.2.0",
      "model_name": "LayoutModel",
      "state": {}
     },
     "76093a32737c4749b6a34e98b5cd69f3": {
      "model_module": "@jupyter-widgets/controls",
      "model_module_version": "1.5.0",
      "model_name": "CheckboxModel",
      "state": {
       "description": "Es ist die allgemeinere Merkmalsstruktur.",
       "disabled": false,
       "layout": "IPY_MODEL_8fdf98462ff44602b313066c4e07ad43",
       "style": "IPY_MODEL_6d3045ed800e4c5cb2e9c27bd68f1a6e",
       "value": false
      }
     },
     "762edb49e8a5497aaae09b1eaa643ced": {
      "model_module": "@jupyter-widgets/base",
      "model_module_version": "1.2.0",
      "model_name": "LayoutModel",
      "state": {
       "width": "250px"
      }
     },
     "76346ad2c8a643f6803b95241eb414dc": {
      "model_module": "@jupyter-widgets/controls",
      "model_module_version": "1.5.0",
      "model_name": "VBoxModel",
      "state": {
       "children": [
        "IPY_MODEL_6c4cb210c8c74cea804c9b180df767a6",
        "IPY_MODEL_218f6a702e864d5086bbc268fb090014",
        "IPY_MODEL_177aae39ae07438aa562afbe33fad06a",
        "IPY_MODEL_30339d51566647639bc31abb2f8c573e"
       ],
       "layout": "IPY_MODEL_9bdf28ea70224595b77bdee9eb1eff0c"
      }
     },
     "7647f35103084cd788274f6133d3731e": {
      "model_module": "@jupyter-widgets/controls",
      "model_module_version": "1.5.0",
      "model_name": "VBoxModel",
      "state": {
       "children": [
        "IPY_MODEL_bcd3ac50b123457e962e073b9361514f",
        "IPY_MODEL_6f37ef7359684a3392db1eb5a31f55ea",
        "IPY_MODEL_505f076f41984d0d9052bdba77746b86",
        "IPY_MODEL_08026619e8774a3bb21ba4bc70872649",
        "IPY_MODEL_31a5275b6b064b4988bda9c581d1f6bc",
        "IPY_MODEL_d684666dbd7a464da4678594d5a3a924"
       ],
       "layout": "IPY_MODEL_241501392b8449998b3416c11aaad871"
      }
     },
     "768567e2b7814a16917b2035bf6599b0": {
      "model_module": "@jupyter-widgets/base",
      "model_module_version": "1.2.0",
      "model_name": "LayoutModel",
      "state": {
       "justify_content": "center"
      }
     },
     "769371de371a4b8ebab8b20b8a4c1a47": {
      "model_module": "@jupyter-widgets/base",
      "model_module_version": "1.2.0",
      "model_name": "LayoutModel",
      "state": {
       "justify_content": "center"
      }
     },
     "769556c29050468ea310be0538ff285f": {
      "model_module": "@jupyter-widgets/controls",
      "model_module_version": "1.5.0",
      "model_name": "ButtonStyleModel",
      "state": {}
     },
     "769b9e702beb4fd7bf5dbaa698bf1c6b": {
      "model_module": "@jupyter-widgets/base",
      "model_module_version": "1.2.0",
      "model_name": "LayoutModel",
      "state": {}
     },
     "76ab473815094371941b1cac08892798": {
      "model_module": "@jupyter-widgets/controls",
      "model_module_version": "1.5.0",
      "model_name": "HTMLModel",
      "state": {
       "layout": "IPY_MODEL_83e6623ad1db4c01aa56f5f61b64acfd",
       "style": "IPY_MODEL_08b5ba8f9adf4be996bb7d47952f80dc",
       "value": "<h4 style=\"font-size:14px;\">Was ist der bevorzugte Kandidat zur Realisierung im Subjekt?</h4>"
      }
     },
     "76df2295e2324198ab8a1a40a3622ce8": {
      "model_module": "@jupyter-widgets/base",
      "model_module_version": "1.2.0",
      "model_name": "LayoutModel",
      "state": {}
     },
     "770fdc85729f4f4aac140d79b8b17f98": {
      "model_module": "@jupyter-widgets/controls",
      "model_module_version": "1.5.0",
      "model_name": "DescriptionStyleModel",
      "state": {
       "description_width": "initial"
      }
     },
     "772fa2e0c00f43a6931bbc8c56298fdc": {
      "model_module": "@jupyter-widgets/base",
      "model_module_version": "1.2.0",
      "model_name": "LayoutModel",
      "state": {
       "width": "600px"
      }
     },
     "774ce1bb1e62471c9d92c875cfb9d1bc": {
      "model_module": "@jupyter-widgets/base",
      "model_module_version": "1.2.0",
      "model_name": "LayoutModel",
      "state": {
       "width": "600px"
      }
     },
     "777bebbcd1cf46ac8ec667dd6daacf72": {
      "model_module": "@jupyter-widgets/base",
      "model_module_version": "1.2.0",
      "model_name": "LayoutModel",
      "state": {
       "width": "600px"
      }
     },
     "779a441d725342f398800746c3c618c6": {
      "model_module": "@jupyter-widgets/controls",
      "model_module_version": "1.5.0",
      "model_name": "ButtonModel",
      "state": {
       "description": "schwache Deklination",
       "layout": "IPY_MODEL_eab0f9d1ab5a455291201459700fd8e6",
       "style": "IPY_MODEL_e7d4ed57330347c4b55b7e33e59b3cf1"
      }
     },
     "77d4ccc26555444d952ab6ff51bd399a": {
      "model_module": "@jupyter-widgets/base",
      "model_module_version": "1.2.0",
      "model_name": "LayoutModel",
      "state": {}
     },
     "77d5dac1e45543fc8b0c4a49fbfc9150": {
      "model_module": "@jupyter-widgets/controls",
      "model_module_version": "1.5.0",
      "model_name": "DescriptionStyleModel",
      "state": {
       "description_width": ""
      }
     },
     "7808dd28936344229c4cf012f3bc8b84": {
      "model_module": "@jupyter-widgets/controls",
      "model_module_version": "1.5.0",
      "model_name": "ButtonModel",
      "state": {
       "description": "Benefaktiv",
       "layout": "IPY_MODEL_a59bdc91e0384fac8004039eac616e99",
       "style": "IPY_MODEL_2577587966d642088f7c9ae0492d8a91"
      }
     },
     "782a03dda9ed4fb7a97e55b37985f621": {
      "model_module": "@jupyter-widgets/base",
      "model_module_version": "1.2.0",
      "model_name": "LayoutModel",
      "state": {}
     },
     "78466272a31b41d89e66d3b30d4537a3": {
      "model_module": "@jupyter-widgets/controls",
      "model_module_version": "1.5.0",
      "model_name": "CheckboxModel",
      "state": {
       "description": "Sie werden aus der Eingabe extrahiert (feature extraction)",
       "disabled": false,
       "layout": "IPY_MODEL_d9447d9cc90647a9bdb5bed1da7c5e9b",
       "style": "IPY_MODEL_f6b2a971c92f4701bdef811049035193",
       "value": false
      }
     },
     "7854909c0de24ff99db8046035337994": {
      "model_module": "@jupyter-widgets/base",
      "model_module_version": "1.2.0",
      "model_name": "LayoutModel",
      "state": {}
     },
     "7854a02796654ff69f5b661719ccdccb": {
      "model_module": "@jupyter-widgets/controls",
      "model_module_version": "1.5.0",
      "model_name": "VBoxModel",
      "state": {
       "children": [
        "IPY_MODEL_56ad49052dba414884d1f1ede93fbb5f",
        "IPY_MODEL_b5c63718a0ca40d08aa25b12bf86a377",
        "IPY_MODEL_dce43bc60c97467a96ac79a6ce59b421",
        "IPY_MODEL_fc1051f5e3994c20877f3aff26fc53c3",
        "IPY_MODEL_ce32f66f3b81415484cc17adc6644b13"
       ],
       "layout": "IPY_MODEL_eba77181b2984b069922a2b51639dc93"
      }
     },
     "78c06521032446eebe53fb80fcb0dd42": {
      "model_module": "@jupyter-widgets/base",
      "model_module_version": "1.2.0",
      "model_name": "LayoutModel",
      "state": {
       "width": "150px"
      }
     },
     "78cad2fe3f9a4526a4f3ed9bb29b889e": {
      "model_module": "@jupyter-widgets/base",
      "model_module_version": "1.2.0",
      "model_name": "LayoutModel",
      "state": {
       "width": "600px"
      }
     },
     "78e366635a7d4d29bbdf9183c39605bc": {
      "model_module": "@jupyter-widgets/controls",
      "model_module_version": "1.5.0",
      "model_name": "VBoxModel",
      "state": {
       "children": [
        "IPY_MODEL_a4d7f35dea1845488efbbb1d57517ca4",
        "IPY_MODEL_14060c59b30f404baaf09d1f96aed863",
        "IPY_MODEL_6e54fc20f8024d878e6686139b5bd183",
        "IPY_MODEL_b9f9821b2a1d49669a4bc8dd9bf8b0ea"
       ],
       "layout": "IPY_MODEL_e7589be1b43f4db998f6b228e4671126"
      }
     },
     "78ef63087bd446e4b6011166bce9e9a1": {
      "model_module": "@jupyter-widgets/controls",
      "model_module_version": "1.5.0",
      "model_name": "HTMLModel",
      "state": {
       "layout": "IPY_MODEL_eef31245437343129aff1b77e0dfff86",
       "style": "IPY_MODEL_464906fea0e7458baa78848853df3960",
       "value": "<h4 style=\"font-size:14px;\">In Verbindung mit einem</h4>"
      }
     },
     "78f27aa0bde14522a54fd922c599b843": {
      "model_module": "@jupyter-widgets/controls",
      "model_module_version": "1.5.0",
      "model_name": "HTMLModel",
      "state": {
       "layout": "IPY_MODEL_7e3cf8eab6114e2bb3d181faaa3e4155",
       "style": "IPY_MODEL_8f6ca1bad53c48e8975a3fdbd5af5db9",
       "value": "<i>Wählen Sie die <ins>eine</ins> korrekte Antwort aus: </i>"
      }
     },
     "78f69f07f8e546b386df52e7a3dac353": {
      "model_module": "@jupyter-widgets/base",
      "model_module_version": "1.2.0",
      "model_name": "LayoutModel",
      "state": {
       "justify_content": "center"
      }
     },
     "78f8ad6bbfc34346b770fa54988dc666": {
      "model_module": "@jupyter-widgets/controls",
      "model_module_version": "1.5.0",
      "model_name": "DescriptionStyleModel",
      "state": {
       "description_width": ""
      }
     },
     "78fc788c26e74c1383adb9b507872327": {
      "model_module": "@jupyter-widgets/base",
      "model_module_version": "1.2.0",
      "model_name": "LayoutModel",
      "state": {}
     },
     "79302fd1fc03448682f659d81f7e3374": {
      "model_module": "@jupyter-widgets/controls",
      "model_module_version": "1.5.0",
      "model_name": "ButtonStyleModel",
      "state": {}
     },
     "793350d5b807475f98d4dec1c95e500b": {
      "model_module": "@jupyter-widgets/base",
      "model_module_version": "1.2.0",
      "model_name": "LayoutModel",
      "state": {
       "justify_content": "center"
      }
     },
     "793445aaa8594639b2efe040f26a18c9": {
      "model_module": "@jupyter-widgets/controls",
      "model_module_version": "1.5.0",
      "model_name": "VBoxModel",
      "state": {
       "children": [
        "IPY_MODEL_741ab6cdb509403fb4df6eddf4261cd4",
        "IPY_MODEL_43e4f29cdf4c46d0a65aa9c82c6a42dd",
        "IPY_MODEL_0cae84e674bc47fbb41f6aaef89b7bba",
        "IPY_MODEL_a2b995b31abf4d23b1ee4429132a9866"
       ],
       "layout": "IPY_MODEL_0bcab597a264454a9852451f49f394e6"
      }
     },
     "7958173755fb45479bc634626b686c81": {
      "model_module": "@jupyter-widgets/controls",
      "model_module_version": "1.5.0",
      "model_name": "DescriptionStyleModel",
      "state": {
       "description_width": ""
      }
     },
     "796ddb57fef44e018f0389267e060246": {
      "model_module": "@jupyter-widgets/controls",
      "model_module_version": "1.5.0",
      "model_name": "VBoxModel",
      "state": {
       "children": [
        "IPY_MODEL_4c7dc66e29f64e7e80e8418df58e8f45",
        "IPY_MODEL_fd3c7329040248d6afac85882cbcd629",
        "IPY_MODEL_ee0a839ce3f7429a9513a4bcb7bab850",
        "IPY_MODEL_f1d12802f81d4d7ba06933ed64c26233"
       ],
       "layout": "IPY_MODEL_90e7076e4a144ead8f83f7ee87a5b2c9"
      }
     },
     "797bee6e018c48349ad93adca8e4bcc6": {
      "model_module": "@jupyter-widgets/base",
      "model_module_version": "1.2.0",
      "model_name": "LayoutModel",
      "state": {
       "width": "600px"
      }
     },
     "7980167277444cb58346e9fd108b8b77": {
      "model_module": "@jupyter-widgets/controls",
      "model_module_version": "1.5.0",
      "model_name": "HTMLModel",
      "state": {
       "layout": "IPY_MODEL_c535b84e8a154cde934dd15af46097db",
       "style": "IPY_MODEL_90bc5c12465a4c4dbf697da006570175",
       "value": "<h4 style=\"font-size:14px;\">Schildern beide Sätze denselben Sachverhalt?</h4>"
      }
     },
     "79ab7ef2855b46e6a680131a1967d1e1": {
      "model_module": "@jupyter-widgets/base",
      "model_module_version": "1.2.0",
      "model_name": "LayoutModel",
      "state": {
       "justify_content": "center"
      }
     },
     "7a25ae8f757a4801962aca5d0a94d5a8": {
      "model_module": "@jupyter-widgets/controls",
      "model_module_version": "1.5.0",
      "model_name": "ButtonModel",
      "state": {
       "description": "starke Deklination",
       "layout": "IPY_MODEL_efd5592c5022492bae70468b2f357d60",
       "style": "IPY_MODEL_dcc4b87562034188aa19a64994eb2f6d"
      }
     },
     "7a6b1d1009604a99b7c12803d847415b": {
      "model_module": "@jupyter-widgets/base",
      "model_module_version": "1.2.0",
      "model_name": "LayoutModel",
      "state": {
       "width": "600px"
      }
     },
     "7a752c680c6a45a8a8bc95b836536fce": {
      "model_module": "@jupyter-widgets/controls",
      "model_module_version": "1.5.0",
      "model_name": "HTMLModel",
      "state": {
       "layout": "IPY_MODEL_1ecc9f8600af44e18516488398776b7e",
       "style": "IPY_MODEL_60efea9a9ace4758a7e444bf28453df0",
       "value": "<h4 style=\"font-size:14px;\">realisieren. Das Adjektiv muss also, wie auch beim Fehlen des bestimmten Artikels, die</h4>"
      }
     },
     "7a7ad781b9a342fd93b56134feca5260": {
      "model_module": "@jupyter-widgets/base",
      "model_module_version": "1.2.0",
      "model_name": "LayoutModel",
      "state": {
       "width": "600px"
      }
     },
     "7a7d9fc415ab47bba8ec51ee1f9ceaf3": {
      "model_module": "@jupyter-widgets/base",
      "model_module_version": "1.2.0",
      "model_name": "LayoutModel",
      "state": {
       "width": "600px"
      }
     },
     "7a7e1ca02b294eaf8cf70a28b934c538": {
      "model_module": "@jupyter-widgets/base",
      "model_module_version": "1.2.0",
      "model_name": "LayoutModel",
      "state": {
       "width": "600px"
      }
     },
     "7a8bb31f5c694419a7783c4265b143c3": {
      "model_module": "@jupyter-widgets/controls",
      "model_module_version": "1.5.0",
      "model_name": "HTMLModel",
      "state": {
       "layout": "IPY_MODEL_4419d8e376a041688de6ad13c4a372d7",
       "style": "IPY_MODEL_97d9ef4e3b154d9fbc11d3b0fc68004b",
       "value": "<h4 style=\"font-size:14px;\">Im Falle, dass im Zuge einer Unifikation Informationen zum Wert eines Pfades x hinzugefügt werden, wie verändern sich die Werte aller zu x äquivalenten Pfade?</h4>"
      }
     },
     "7a908601098e44a9bed230c76fe0e8d6": {
      "model_module": "@jupyter-widgets/base",
      "model_module_version": "1.2.0",
      "model_name": "LayoutModel",
      "state": {
       "justify_content": "center"
      }
     },
     "7a9be7301a3f4767935aa9673ac95717": {
      "model_module": "@jupyter-widgets/controls",
      "model_module_version": "1.5.0",
      "model_name": "DescriptionStyleModel",
      "state": {
       "description_width": "initial"
      }
     },
     "7aa339d5e67f4e76a514d33a03fc1515": {
      "model_module": "@jupyter-widgets/base",
      "model_module_version": "1.2.0",
      "model_name": "LayoutModel",
      "state": {
       "width": "600px"
      }
     },
     "7abd89d76a794e969ca8ccbae64b3408": {
      "model_module": "@jupyter-widgets/controls",
      "model_module_version": "1.5.0",
      "model_name": "DescriptionStyleModel",
      "state": {
       "description_width": "initial"
      }
     },
     "7abfd7f6779f44689299d7f3d973ac04": {
      "model_module": "@jupyter-widgets/controls",
      "model_module_version": "1.5.0",
      "model_name": "HTMLModel",
      "state": {
       "layout": "IPY_MODEL_d6f1a9dc32434c34903fb1761272b83a",
       "style": "IPY_MODEL_4aac7dc25177484f89ecb4089487a4da",
       "value": "<i>Wählen Sie die <ins>eine</ins> korrekte Antwort aus: </i>"
      }
     },
     "7b0a5585039647bdac4367815cd00b98": {
      "model_module": "@jupyter-widgets/base",
      "model_module_version": "1.2.0",
      "model_name": "LayoutModel",
      "state": {
       "width": "250px"
      }
     },
     "7b73d8a593934aa79af9130a79c1088e": {
      "model_module": "@jupyter-widgets/base",
      "model_module_version": "1.2.0",
      "model_name": "LayoutModel",
      "state": {}
     },
     "7ba9d73c694c4e0f8744a0e8c38d265d": {
      "model_module": "@jupyter-widgets/controls",
      "model_module_version": "1.5.0",
      "model_name": "CheckboxModel",
      "state": {
       "description": "Es ist die spezifischere Merkmalsstruktur.",
       "disabled": false,
       "layout": "IPY_MODEL_1c526804d31e44d78180ab9954d8303c",
       "style": "IPY_MODEL_ce81a50fd6b1445bbfbee93f85b4429f",
       "value": false
      }
     },
     "7baee7dedd7041c3883dd38a6be1dbaf": {
      "model_module": "@jupyter-widgets/base",
      "model_module_version": "1.2.0",
      "model_name": "LayoutModel",
      "state": {
       "width": "600px"
      }
     },
     "7bc8dcc3a2f0434cbc13ea5d157eaacb": {
      "model_module": "@jupyter-widgets/base",
      "model_module_version": "1.2.0",
      "model_name": "LayoutModel",
      "state": {
       "width": "600px"
      }
     },
     "7be0466d110b42578c4c5924c238d939": {
      "model_module": "@jupyter-widgets/base",
      "model_module_version": "1.2.0",
      "model_name": "LayoutModel",
      "state": {
       "justify_content": "center"
      }
     },
     "7be3cf31054b4b02a1ece39c71c9304a": {
      "model_module": "@jupyter-widgets/controls",
      "model_module_version": "1.5.0",
      "model_name": "DescriptionStyleModel",
      "state": {
       "description_width": ""
      }
     },
     "7bfc5452acd34b4888fa8b3d9f021f5e": {
      "model_module": "@jupyter-widgets/base",
      "model_module_version": "1.2.0",
      "model_name": "LayoutModel",
      "state": {}
     },
     "7c0bfe9294da4358a96664a2a31b4af5": {
      "model_module": "@jupyter-widgets/base",
      "model_module_version": "1.2.0",
      "model_name": "LayoutModel",
      "state": {}
     },
     "7c189f43db17477593d3654d0bd95cb7": {
      "model_module": "@jupyter-widgets/base",
      "model_module_version": "1.2.0",
      "model_name": "LayoutModel",
      "state": {
       "width": "250px"
      }
     },
     "7c37bf91d20f4acd91ac70b94425a363": {
      "model_module": "@jupyter-widgets/controls",
      "model_module_version": "1.5.0",
      "model_name": "ButtonStyleModel",
      "state": {}
     },
     "7c4f955d7b63421d9fe3f7fc3862c313": {
      "model_module": "@jupyter-widgets/controls",
      "model_module_version": "1.5.0",
      "model_name": "CheckboxModel",
      "state": {
       "description": "Ausrichtung der Empathie",
       "disabled": false,
       "layout": "IPY_MODEL_dfc8a006bfe747858a741fb02bbef253",
       "style": "IPY_MODEL_538f73d7c1964c14811ef9fac1f4af4f",
       "value": false
      }
     },
     "7c6ade083ac1466cae5ca6597b2fe690": {
      "model_module": "@jupyter-widgets/controls",
      "model_module_version": "1.5.0",
      "model_name": "DescriptionStyleModel",
      "state": {
       "description_width": ""
      }
     },
     "7c7eed83b382416195438747050b01f2": {
      "model_module": "@jupyter-widgets/base",
      "model_module_version": "1.2.0",
      "model_name": "LayoutModel",
      "state": {
       "width": "250px"
      }
     },
     "7ca491df73ad4ecfa7a07c734150fe89": {
      "model_module": "@jupyter-widgets/controls",
      "model_module_version": "1.5.0",
      "model_name": "HBoxModel",
      "state": {
       "children": [
        "IPY_MODEL_9170ef4104d54df3b65aeefb7b740605",
        "IPY_MODEL_e68834d1ed84445995d51610f4d79105"
       ],
       "layout": "IPY_MODEL_90705a61949a47c09f4e590a120ae3a7"
      }
     },
     "7cb1eb506c9f42a3b4bc0e3332ffaeb1": {
      "model_module": "@jupyter-widgets/controls",
      "model_module_version": "1.5.0",
      "model_name": "VBoxModel",
      "state": {
       "children": [
        "IPY_MODEL_8aeef09e698842a89eea415bf914a110",
        "IPY_MODEL_cae4ccc1d4f24c08b99388e43c07c47c",
        "IPY_MODEL_a5f22990c91b40f9b4d72f4f69d4365a",
        "IPY_MODEL_867c38903a954b72a23eeab8f0717007"
       ],
       "layout": "IPY_MODEL_ff31c2fefc1d4882975fef9f4f5062e5"
      }
     },
     "7cc4ce1463ac454a8cdb430208c81fe5": {
      "model_module": "@jupyter-widgets/controls",
      "model_module_version": "1.5.0",
      "model_name": "CheckboxModel",
      "state": {
       "description": "FS0 = [CAT = N, GEN = FEM], FS1 = [CAT = DET, GEN = FEM]",
       "disabled": false,
       "layout": "IPY_MODEL_39152ac4956d4691863901db32e44953",
       "style": "IPY_MODEL_50b7d3c975464c7593f5d18ef49e8498",
       "value": false
      }
     },
     "7cef1d5b9718467683cd83ab5f09065a": {
      "model_module": "@jupyter-widgets/base",
      "model_module_version": "1.2.0",
      "model_name": "LayoutModel",
      "state": {}
     },
     "7d1c0bc20e8044d784c9fec58126f948": {
      "model_module": "@jupyter-widgets/controls",
      "model_module_version": "1.5.0",
      "model_name": "HTMLModel",
      "state": {
       "layout": "IPY_MODEL_64b9b135dd18409986c6cfb3c3cc1b3d",
       "style": "IPY_MODEL_5bea12923c7c43a68d8bf11224ef9252",
       "value": "<h4 style=\"font-size:14px;\">Welche syntaktischen Unterschiede bestehen?</h4>"
      }
     },
     "7d21af23b5604386a600a2dbc30e8c0a": {
      "model_module": "@jupyter-widgets/controls",
      "model_module_version": "1.5.0",
      "model_name": "HBoxModel",
      "state": {
       "children": [
        "IPY_MODEL_86490dcf3db141afac297ff59eef7251",
        "IPY_MODEL_c7082e683de94c9084c2f480741f73bd"
       ],
       "layout": "IPY_MODEL_4eb262dcceee45ea9abc2f01bc758876"
      }
     },
     "7d7a6f4627cc4348bc79e5a1b55ff3b5": {
      "model_module": "@jupyter-widgets/controls",
      "model_module_version": "1.5.0",
      "model_name": "DescriptionStyleModel",
      "state": {
       "description_width": ""
      }
     },
     "7dadc183038f42828700a51db4be4413": {
      "model_module": "@jupyter-widgets/controls",
      "model_module_version": "1.5.0",
      "model_name": "DescriptionStyleModel",
      "state": {
       "description_width": "initial"
      }
     },
     "7e2076451b204b34a83918a3536885f4": {
      "model_module": "@jupyter-widgets/controls",
      "model_module_version": "1.5.0",
      "model_name": "BoxModel",
      "state": {
       "children": [
        "IPY_MODEL_27a718fe45bf467d89a573cf2eb29808",
        "IPY_MODEL_edc1f4ec292e4ff39b93c985dc6b0c37",
        "IPY_MODEL_4b33798f81004bfe8fe7af616248c6c0",
        "IPY_MODEL_159c4368520043ff93be073bd3fbdffb",
        "IPY_MODEL_e4d3369e482a4cb68026a152011ae39f",
        "IPY_MODEL_7e36d395471c4366b134b60f26070a05",
        "IPY_MODEL_fea062fe99f34b1d9f655632a03682b1",
        "IPY_MODEL_08335aa58d984ce5aea8bfc86cd80786",
        "IPY_MODEL_7a752c680c6a45a8a8bc95b836536fce",
        "IPY_MODEL_3b394755f11940958e9e74c685931837",
        "IPY_MODEL_fd78e28869b042f58249e85230168bc4"
       ],
       "layout": "IPY_MODEL_ece24b7de09440419cafaea72c93c7f7"
      }
     },
     "7e20fe441de448f299746528e463e3a5": {
      "model_module": "@jupyter-widgets/controls",
      "model_module_version": "1.5.0",
      "model_name": "DescriptionStyleModel",
      "state": {
       "description_width": ""
      }
     },
     "7e24bbd1b6ff4d81a24172dd130d5fdd": {
      "model_module": "@jupyter-widgets/controls",
      "model_module_version": "1.5.0",
      "model_name": "DescriptionStyleModel",
      "state": {
       "description_width": "initial"
      }
     },
     "7e29391ec38a42978b19409130a58e35": {
      "model_module": "@jupyter-widgets/base",
      "model_module_version": "1.2.0",
      "model_name": "LayoutModel",
      "state": {
       "width": "600px"
      }
     },
     "7e36d395471c4366b134b60f26070a05": {
      "model_module": "@jupyter-widgets/controls",
      "model_module_version": "1.5.0",
      "model_name": "DropdownModel",
      "state": {
       "_options_labels": [
        "Adverbiale",
        "Nomen",
        "Personalpronomina",
        " "
       ],
       "index": 3,
       "layout": "IPY_MODEL_8f369f9e302c4a02ba2f7904ebad17a5",
       "style": "IPY_MODEL_42121c443cad4deba03226005b585789"
      }
     },
     "7e3cf8eab6114e2bb3d181faaa3e4155": {
      "model_module": "@jupyter-widgets/base",
      "model_module_version": "1.2.0",
      "model_name": "LayoutModel",
      "state": {
       "justify_content": "center"
      }
     },
     "7e6af724d3cc4d909292162bc771d981": {
      "model_module": "@jupyter-widgets/controls",
      "model_module_version": "1.5.0",
      "model_name": "HBoxModel",
      "state": {
       "children": [
        "IPY_MODEL_e54df9baaecf43139b8e7e00ef5a8937",
        "IPY_MODEL_87ef2c6fe33440ffb400e57684eb0fc3"
       ],
       "layout": "IPY_MODEL_61235bd4a88444a5b96817965dae0afc"
      }
     },
     "7e824911d4cd4edea1cd8ac76176f449": {
      "model_module": "@jupyter-widgets/base",
      "model_module_version": "1.2.0",
      "model_name": "LayoutModel",
      "state": {
       "align_content": "stretch",
       "align_items": "stretch",
       "display": "inline-flex",
       "flex": "flex-grow",
       "flex_flow": "row wrap",
       "justify_content": "flex-start"
      }
     },
     "7e83e20966f747b6a910abc2314778d2": {
      "model_module": "@jupyter-widgets/base",
      "model_module_version": "1.2.0",
      "model_name": "LayoutModel",
      "state": {
       "width": "250px"
      }
     },
     "7ec7b3e6e28b41909061eff08cabdb71": {
      "model_module": "@jupyter-widgets/base",
      "model_module_version": "1.2.0",
      "model_name": "LayoutModel",
      "state": {
       "width": "600px"
      }
     },
     "7f0c86dedb404064af1b5e5897516bb1": {
      "model_module": "@jupyter-widgets/controls",
      "model_module_version": "1.5.0",
      "model_name": "CheckboxModel",
      "state": {
       "description": "Ausrichtung der Empathie",
       "disabled": false,
       "layout": "IPY_MODEL_7e29391ec38a42978b19409130a58e35",
       "style": "IPY_MODEL_27021e94cfd24ccc9d3d2d8db9a4fbab",
       "value": false
      }
     },
     "7f43af6b5d014b8eac093662cecbed76": {
      "model_module": "@jupyter-widgets/base",
      "model_module_version": "1.2.0",
      "model_name": "LayoutModel",
      "state": {
       "width": "250px"
      }
     },
     "7f488f15b1514fd0855941454eff3b41": {
      "model_module": "@jupyter-widgets/base",
      "model_module_version": "1.2.0",
      "model_name": "LayoutModel",
      "state": {
       "width": "250px"
      }
     },
     "7f8e14c50b5d4dcf9cccb54add02ca96": {
      "model_module": "@jupyter-widgets/controls",
      "model_module_version": "1.5.0",
      "model_name": "HTMLModel",
      "state": {
       "layout": "IPY_MODEL_3d5c13a0296a4a9680ac5670d16a976b",
       "style": "IPY_MODEL_29e518655cd84337876d5e87c1ff34f3",
       "value": "<h4 style=\"font-size:14px;\">Welche syntaktischen Unterschiede bestehen?</h4>"
      }
     },
     "7f9457bc5ce2411e8e6b3e3eb42d7109": {
      "model_module": "@jupyter-widgets/controls",
      "model_module_version": "1.5.0",
      "model_name": "ButtonStyleModel",
      "state": {}
     },
     "7faff810eecc4873bfe1ace61fecd1ba": {
      "model_module": "@jupyter-widgets/base",
      "model_module_version": "1.2.0",
      "model_name": "LayoutModel",
      "state": {}
     },
     "7fc8e733badc467d94c7e5c96e9d8c1a": {
      "model_module": "@jupyter-widgets/base",
      "model_module_version": "1.2.0",
      "model_name": "LayoutModel",
      "state": {
       "width": "600px"
      }
     },
     "7fcf36d9159b4bbb8be536ca923826ad": {
      "model_module": "@jupyter-widgets/controls",
      "model_module_version": "1.5.0",
      "model_name": "DescriptionStyleModel",
      "state": {
       "description_width": ""
      }
     },
     "7fe53241847442609cc889a147eac89d": {
      "model_module": "@jupyter-widgets/controls",
      "model_module_version": "1.5.0",
      "model_name": "DescriptionStyleModel",
      "state": {
       "description_width": ""
      }
     },
     "7fef7dc4deea4117b1428533a2febc9a": {
      "model_module": "@jupyter-widgets/controls",
      "model_module_version": "1.5.0",
      "model_name": "CheckboxModel",
      "state": {
       "description": "Es ist undefiniert.",
       "disabled": false,
       "layout": "IPY_MODEL_83695a5ee5b04d6286f3e1732608dab0",
       "style": "IPY_MODEL_d938ed9a326c42c7ac5044d3ca98040f",
       "value": false
      }
     },
     "7ff7a824e8be4bb5ad588c2c3a14a8e8": {
      "model_module": "@jupyter-widgets/controls",
      "model_module_version": "1.5.0",
      "model_name": "HTMLModel",
      "state": {
       "layout": "IPY_MODEL_5036ca9c8346411d9f7a866d20869b68",
       "style": "IPY_MODEL_a8398811055b4e80ae85b12dc560e080",
       "value": "<h4 style=\"font-size:14px;\">Wie werden Features beim POS-Tagging verwendet?</h4>"
      }
     },
     "8067e523d6004af799a54bbedacbddf5": {
      "model_module": "@jupyter-widgets/controls",
      "model_module_version": "1.5.0",
      "model_name": "CheckboxModel",
      "state": {
       "description": "Es ist die allgemeinere Merkmalsstruktur.",
       "disabled": false,
       "layout": "IPY_MODEL_797bee6e018c48349ad93adca8e4bcc6",
       "style": "IPY_MODEL_14242fcdf779483d862fd9126ef32471",
       "value": false
      }
     },
     "806a288a438a45b9962214c5d919d371": {
      "model_module": "@jupyter-widgets/controls",
      "model_module_version": "1.5.0",
      "model_name": "DescriptionStyleModel",
      "state": {
       "description_width": "initial"
      }
     },
     "8076b6e8b064466ba432a6f384821b41": {
      "model_module": "@jupyter-widgets/controls",
      "model_module_version": "1.5.0",
      "model_name": "ButtonModel",
      "state": {
       "description": "Instrument",
       "layout": "IPY_MODEL_4b25dbdcddab4eadb0fb2668e1618801",
       "style": "IPY_MODEL_60f66ca785884bf096e4223f4722bfa1"
      }
     },
     "809e3ba227454607b8ed3a208303c876": {
      "model_module": "@jupyter-widgets/controls",
      "model_module_version": "1.5.0",
      "model_name": "DescriptionStyleModel",
      "state": {
       "description_width": "initial"
      }
     },
     "80d46f48b8724eccb5e8a0513f05352b": {
      "model_module": "@jupyter-widgets/controls",
      "model_module_version": "1.5.0",
      "model_name": "ButtonModel",
      "state": {
       "description": "Agens",
       "layout": "IPY_MODEL_34a8885d717343b0892d3c6eab084cd8",
       "style": "IPY_MODEL_53448ec42e204542bc88a3df2d00fb22"
      }
     },
     "80d4f1319c524fecad88f9f195eddb0c": {
      "model_module": "@jupyter-widgets/controls",
      "model_module_version": "1.5.0",
      "model_name": "ButtonStyleModel",
      "state": {}
     },
     "80e98be1ffb442659fc26bb59f7c8013": {
      "model_module": "@jupyter-widgets/controls",
      "model_module_version": "1.5.0",
      "model_name": "HTMLModel",
      "state": {
       "layout": "IPY_MODEL_c3e8ce90e4284d19b368771736225b3a",
       "style": "IPY_MODEL_e5002423241a42139248a8ef294c5e65",
       "value": "<h4 style=\"font-size:14px;\">realisieren. Das Adjektiv muss also, wie auch beim Fehlen des bestimmten Artikels, die</h4>"
      }
     },
     "80fefe84eeef436a86330fe2630634d2": {
      "model_module": "@jupyter-widgets/controls",
      "model_module_version": "1.5.0",
      "model_name": "DescriptionStyleModel",
      "state": {
       "description_width": "initial"
      }
     },
     "8105bc4ccb544a9ca8349ce2e03ebb5a": {
      "model_module": "@jupyter-widgets/base",
      "model_module_version": "1.2.0",
      "model_name": "LayoutModel",
      "state": {}
     },
     "81343b62c3b44d78b5fb9540107249c7": {
      "model_module": "@jupyter-widgets/controls",
      "model_module_version": "1.5.0",
      "model_name": "ButtonStyleModel",
      "state": {}
     },
     "81a1d5807e8a4c7db304cde879998b35": {
      "model_module": "@jupyter-widgets/controls",
      "model_module_version": "1.5.0",
      "model_name": "VBoxModel",
      "state": {
       "children": [
        "IPY_MODEL_7f0c86dedb404064af1b5e5897516bb1",
        "IPY_MODEL_a94a73a4c89d4c06b8b5999cee5fd8b2",
        "IPY_MODEL_243613bf799245329ae385c652e684ed",
        "IPY_MODEL_4c2208a9f6ca47e8ae5de1ab88a48b4a"
       ],
       "layout": "IPY_MODEL_6dd3c5bff8f04b09854b8ef7d2a49125"
      }
     },
     "81fb47a5c0a34e3a9ea888d29f04e1ed": {
      "model_module": "@jupyter-widgets/controls",
      "model_module_version": "1.5.0",
      "model_name": "VBoxModel",
      "state": {
       "children": [
        "IPY_MODEL_6194c3db1a414274b4ccf5420503ab99",
        "IPY_MODEL_4bcff569aad5479abe734d4a566c1e66",
        "IPY_MODEL_8657306cff954606817ed5bf54107116",
        "IPY_MODEL_cdc7e37bdcc14e8d9f70de6eb67c237b"
       ],
       "layout": "IPY_MODEL_66af4198dff74b4a84661d863c4fdb25"
      }
     },
     "8208db317d7a4a2f88ded0ce42f5676c": {
      "model_module": "@jupyter-widgets/controls",
      "model_module_version": "1.5.0",
      "model_name": "DescriptionStyleModel",
      "state": {
       "description_width": "initial"
      }
     },
     "820c3b75b2f74cb98d474bed53ad38d1": {
      "model_module": "@jupyter-widgets/controls",
      "model_module_version": "1.5.0",
      "model_name": "HTMLModel",
      "state": {
       "layout": "IPY_MODEL_793350d5b807475f98d4dec1c95e500b",
       "style": "IPY_MODEL_a0a4e98d2d6a45908dedaa288591957a",
       "value": "<h4 style=\"font-size:14px;\">Schildern beide Sätze denselben Sachverhalt?</h4>"
      }
     },
     "820e54f6d9644a06a2d448f8dd020457": {
      "model_module": "@jupyter-widgets/base",
      "model_module_version": "1.2.0",
      "model_name": "LayoutModel",
      "state": {
       "justify_content": "center"
      }
     },
     "82339d456b5a4b85b62c31beed7d726a": {
      "model_module": "@jupyter-widgets/base",
      "model_module_version": "1.2.0",
      "model_name": "LayoutModel",
      "state": {
       "width": "600px"
      }
     },
     "823ee5f17f654b13b05e16df99d9c439": {
      "model_module": "@jupyter-widgets/base",
      "model_module_version": "1.2.0",
      "model_name": "LayoutModel",
      "state": {
       "justify_content": "center"
      }
     },
     "8256b5fa090d4192b349b60467b067f3": {
      "model_module": "@jupyter-widgets/base",
      "model_module_version": "1.2.0",
      "model_name": "LayoutModel",
      "state": {
       "width": "150px"
      }
     },
     "8257aa26f1244e9da14456d4470635c4": {
      "model_module": "@jupyter-widgets/controls",
      "model_module_version": "1.5.0",
      "model_name": "ButtonModel",
      "state": {
       "description": "stack",
       "layout": "IPY_MODEL_2525b669e24c43cdbf27346f0d76e707",
       "style": "IPY_MODEL_91b81db9c70742d4b2443ac0c4d47e7a"
      }
     },
     "8263119296cd4e9292985f8dff1994d5": {
      "model_module": "@jupyter-widgets/controls",
      "model_module_version": "1.5.0",
      "model_name": "ButtonStyleModel",
      "state": {
       "button_color": "lightgreen"
      }
     },
     "8289798397514922a821ebda0f258b19": {
      "model_module": "@jupyter-widgets/controls",
      "model_module_version": "1.5.0",
      "model_name": "DescriptionStyleModel",
      "state": {
       "description_width": ""
      }
     },
     "82b50ca6a1d046799cb8c1c0598c32ef": {
      "model_module": "@jupyter-widgets/controls",
      "model_module_version": "1.5.0",
      "model_name": "HBoxModel",
      "state": {
       "children": [
        "IPY_MODEL_517f4fd787384a9591ac775b6dd4cd1f",
        "IPY_MODEL_3b94f576436e45e1a0b229737b1bd134"
       ],
       "layout": "IPY_MODEL_51c4204e44ad4b8e9e8f22eadb282d63"
      }
     },
     "82b831c556834c40b7d4f4923aad9352": {
      "model_module": "@jupyter-widgets/controls",
      "model_module_version": "1.5.0",
      "model_name": "ButtonModel",
      "state": {
       "description": "Benefaktiv",
       "layout": "IPY_MODEL_6f2ffec0a53d48a68247d192f135b88a",
       "style": "IPY_MODEL_c75dab3b43eb45e68e4d35b5fb9a29fe"
      }
     },
     "82d7e8ad977c49e582df6434e7151faf": {
      "model_module": "@jupyter-widgets/base",
      "model_module_version": "1.2.0",
      "model_name": "LayoutModel",
      "state": {
       "width": "150px"
      }
     },
     "8334c069f6a7469f9b47813fab6ba4cd": {
      "model_module": "@jupyter-widgets/base",
      "model_module_version": "1.2.0",
      "model_name": "LayoutModel",
      "state": {
       "width": "250px"
      }
     },
     "83695a5ee5b04d6286f3e1732608dab0": {
      "model_module": "@jupyter-widgets/base",
      "model_module_version": "1.2.0",
      "model_name": "LayoutModel",
      "state": {
       "width": "600px"
      }
     },
     "83700260b9b641f1af85d5415063843e": {
      "model_module": "@jupyter-widgets/base",
      "model_module_version": "1.2.0",
      "model_name": "LayoutModel",
      "state": {}
     },
     "838c27829f8a4506aee7517ad5ba563d": {
      "model_module": "@jupyter-widgets/base",
      "model_module_version": "1.2.0",
      "model_name": "LayoutModel",
      "state": {
       "width": "600px"
      }
     },
     "83981e5e7ed44cf29d4b9b66669e1f56": {
      "model_module": "@jupyter-widgets/base",
      "model_module_version": "1.2.0",
      "model_name": "LayoutModel",
      "state": {
       "width": "600px"
      }
     },
     "8399a7859d1045988e7201a6ef0756a7": {
      "model_module": "@jupyter-widgets/controls",
      "model_module_version": "1.5.0",
      "model_name": "DescriptionStyleModel",
      "state": {
       "description_width": ""
      }
     },
     "83af67b199be4237a9cac0d97c7a8d5a": {
      "model_module": "@jupyter-widgets/controls",
      "model_module_version": "1.5.0",
      "model_name": "ButtonStyleModel",
      "state": {}
     },
     "83ba54bb19f540309543e73dc2c9a455": {
      "model_module": "@jupyter-widgets/controls",
      "model_module_version": "1.5.0",
      "model_name": "CheckboxModel",
      "state": {
       "description": "FS0 = [CAT = N, GEN = FEM], FS1 = [CAT = N, GEN = FEM]",
       "disabled": false,
       "layout": "IPY_MODEL_6961d182ef9341b7a9f9b1d7f8594839",
       "style": "IPY_MODEL_34c6698cf55f4340b7ba79cd6d285487",
       "value": false
      }
     },
     "83bd5a0810874f6ab81968c564ae21a4": {
      "model_module": "@jupyter-widgets/base",
      "model_module_version": "1.2.0",
      "model_name": "LayoutModel",
      "state": {
       "justify_content": "center"
      }
     },
     "83c028a1872341d7afd4ee9e606a114e": {
      "model_module": "@jupyter-widgets/controls",
      "model_module_version": "1.5.0",
      "model_name": "ButtonModel",
      "state": {
       "description": "Lokativ",
       "layout": "IPY_MODEL_8f9917c4c2264cccb616a96ce0712892",
       "style": "IPY_MODEL_3995a7ec781442b993f30e8ddc061d1c"
      }
     },
     "83e07edbe30f4f51b04946c85fe3592e": {
      "model_module": "@jupyter-widgets/controls",
      "model_module_version": "1.5.0",
      "model_name": "DescriptionStyleModel",
      "state": {
       "description_width": ""
      }
     },
     "83e6623ad1db4c01aa56f5f61b64acfd": {
      "model_module": "@jupyter-widgets/base",
      "model_module_version": "1.2.0",
      "model_name": "LayoutModel",
      "state": {
       "justify_content": "center"
      }
     },
     "83fea32496fb49e8ba9794c66a71e8cc": {
      "model_module": "@jupyter-widgets/controls",
      "model_module_version": "1.5.0",
      "model_name": "HTMLModel",
      "state": {
       "layout": "IPY_MODEL_320845e8c3924519bbc036659d6968d2",
       "style": "IPY_MODEL_06fd49f4fa0e4613b9ec03c27318ac5c",
       "value": "<i>Markieren Sie <ins>alle</ins> passenden Antworten: </i>"
      }
     },
     "8408cfbccdbd48f39c802c4706ef4836": {
      "model_module": "@jupyter-widgets/controls",
      "model_module_version": "1.5.0",
      "model_name": "ButtonStyleModel",
      "state": {}
     },
     "845e6dc55cfa48a5a1ee3d8459d198e7": {
      "model_module": "@jupyter-widgets/base",
      "model_module_version": "1.2.0",
      "model_name": "LayoutModel",
      "state": {}
     },
     "846e6125797843beb315f3f90fa006a0": {
      "model_module": "@jupyter-widgets/base",
      "model_module_version": "1.2.0",
      "model_name": "LayoutModel",
      "state": {
       "width": "250px"
      }
     },
     "84817834547a4f309d58e11812b24ec1": {
      "model_module": "@jupyter-widgets/controls",
      "model_module_version": "1.5.0",
      "model_name": "ButtonModel",
      "state": {
       "description": "Keine der anderen Möglichkeiten",
       "layout": "IPY_MODEL_95412c946ac64f2b95188ca1d9d293e3",
       "style": "IPY_MODEL_0c76f0dfef3c46499bb345bc6c672d77"
      }
     },
     "849656bf845c4dd68845764e7eaaa66e": {
      "model_module": "@jupyter-widgets/controls",
      "model_module_version": "1.5.0",
      "model_name": "DescriptionStyleModel",
      "state": {
       "description_width": ""
      }
     },
     "84d71b37698340bbbaa79ee29dc5b30a": {
      "model_module": "@jupyter-widgets/controls",
      "model_module_version": "1.5.0",
      "model_name": "VBoxModel",
      "state": {
       "children": [
        "IPY_MODEL_8bea13e5093042b185aa23fcdfe60744",
        "IPY_MODEL_c985da2cd1c9432b8694ef2f664075f9",
        "IPY_MODEL_fb75ed4cacd0429290ef66859e4d2a6c",
        "IPY_MODEL_b83d288e4335403e8c012ffd48bb69b5"
       ],
       "layout": "IPY_MODEL_aa21ea00d4984d15879d3d411a26af68"
      }
     },
     "852d23e1ac614b058a13fe9c038f589a": {
      "model_module": "@jupyter-widgets/base",
      "model_module_version": "1.2.0",
      "model_name": "LayoutModel",
      "state": {}
     },
     "853a04f85334471fbd9119aa7a120a16": {
      "model_module": "@jupyter-widgets/controls",
      "model_module_version": "1.5.0",
      "model_name": "HTMLModel",
      "state": {
       "layout": "IPY_MODEL_a6a9013542a84e18ac7532b3f67b8aa1",
       "style": "IPY_MODEL_4cf0475b6585467984fea90bcc33a6dd",
       "value": "<i>Wählen Sie die <ins>eine</ins> korrekte Antwort aus: </i>"
      }
     },
     "8546d4fed365482ab6809d91d041f715": {
      "model_module": "@jupyter-widgets/base",
      "model_module_version": "1.2.0",
      "model_name": "LayoutModel",
      "state": {}
     },
     "855eafb02e3c490c8d66237b6653dd0a": {
      "model_module": "@jupyter-widgets/base",
      "model_module_version": "1.2.0",
      "model_name": "LayoutModel",
      "state": {}
     },
     "856ae2ddc7c3462bb836847d7fee2cdf": {
      "model_module": "@jupyter-widgets/controls",
      "model_module_version": "1.5.0",
      "model_name": "HTMLModel",
      "state": {
       "layout": "IPY_MODEL_dc338c2463de41269d2abeb01d630946",
       "style": "IPY_MODEL_2e4e8de782794f0d83a906fc46f76058",
       "value": "<i>Wählen Sie die <ins>eine</ins> korrekte Antwort aus: </i>"
      }
     },
     "8592b99b1327471b9163ccfda06c571c": {
      "model_module": "@jupyter-widgets/base",
      "model_module_version": "1.2.0",
      "model_name": "LayoutModel",
      "state": {
       "width": "600px"
      }
     },
     "8593640b8af24264b24cc584989fc1c1": {
      "model_module": "@jupyter-widgets/base",
      "model_module_version": "1.2.0",
      "model_name": "LayoutModel",
      "state": {
       "justify_content": "center"
      }
     },
     "85cbb5bf3d2b49888e9fb51ba42bb68a": {
      "model_module": "@jupyter-widgets/controls",
      "model_module_version": "1.5.0",
      "model_name": "ButtonModel",
      "state": {
       "description": "Instrument",
       "layout": "IPY_MODEL_f5a060e89037482190d828571b8aba74",
       "style": "IPY_MODEL_c8855d0e965447638bc845e9304a379a"
      }
     },
     "85dd7125d5204c9a8fb365b35dce3dae": {
      "model_module": "@jupyter-widgets/base",
      "model_module_version": "1.2.0",
      "model_name": "LayoutModel",
      "state": {
       "justify_content": "center"
      }
     },
     "8627dbe6ef9c4b10b3363c2e35f448aa": {
      "model_module": "@jupyter-widgets/controls",
      "model_module_version": "1.5.0",
      "model_name": "ButtonModel",
      "state": {
       "description": "Korrekt?",
       "layout": "IPY_MODEL_b0a5e92a306049499b8e469accf0f055",
       "style": "IPY_MODEL_83af67b199be4237a9cac0d97c7a8d5a"
      }
     },
     "863a88b39936467b992b95aa4815bec7": {
      "model_module": "@jupyter-widgets/controls",
      "model_module_version": "1.5.0",
      "model_name": "ButtonModel",
      "state": {
       "description": "Korrekt?",
       "layout": "IPY_MODEL_07bacb4d07174443ba80cda6362cc770",
       "style": "IPY_MODEL_ddb933695edc47b1834b160418665393"
      }
     },
     "8644ca8b1de245ffb2c0671933cb9774": {
      "model_module": "@jupyter-widgets/controls",
      "model_module_version": "1.5.0",
      "model_name": "ButtonModel",
      "state": {
       "description": "Korrekt?",
       "layout": "IPY_MODEL_b988936790fe4169bf7a9d2ae4d78f98",
       "style": "IPY_MODEL_fc3e84539724476a90a7b26526c18717"
      }
     },
     "86490dcf3db141afac297ff59eef7251": {
      "model_module": "@jupyter-widgets/controls",
      "model_module_version": "1.5.0",
      "model_name": "ButtonModel",
      "state": {
       "description": "Instrument",
       "layout": "IPY_MODEL_7e83e20966f747b6a910abc2314778d2",
       "style": "IPY_MODEL_54b5509ee0544790bd50249f37f0c842"
      }
     },
     "86527d97a644478e9c448397b94751a3": {
      "model_module": "@jupyter-widgets/controls",
      "model_module_version": "1.5.0",
      "model_name": "VBoxModel",
      "state": {
       "children": [
        "IPY_MODEL_fe0e6704ec2f479f8e4cbe838a1570e7",
        "IPY_MODEL_ad874f9011e34933bf729e4670d4a31c",
        "IPY_MODEL_cbc5e1886e494434be6317e9a466983a",
        "IPY_MODEL_be983c8c7a1c48099d0f4ceaa18f7eb5"
       ],
       "layout": "IPY_MODEL_e8f20e7cfd5a44e4b34b948a38ffd07f"
      }
     },
     "8657306cff954606817ed5bf54107116": {
      "model_module": "@jupyter-widgets/controls",
      "model_module_version": "1.5.0",
      "model_name": "VBoxModel",
      "state": {
       "children": [
        "IPY_MODEL_5c19b6f7c9484f929ccf4680bb79eeb8",
        "IPY_MODEL_212da42f6aa54b1f8dfb19ba7e6c2206",
        "IPY_MODEL_a2e35eb960ad41afb04a47e3074fc55c",
        "IPY_MODEL_628069bcc90648cfa7b16c309964c002",
        "IPY_MODEL_35d823400d5743678dc3ac0849db84b5"
       ],
       "layout": "IPY_MODEL_6501f995e4fe41888656c862c54d3efe"
      }
     },
     "8667f97c1dd54e57b1f46edb010fdd7a": {
      "model_module": "@jupyter-widgets/base",
      "model_module_version": "1.2.0",
      "model_name": "LayoutModel",
      "state": {
       "justify_content": "center"
      }
     },
     "8669d110cfe8432aa55d9d106cf4dce5": {
      "model_module": "@jupyter-widgets/base",
      "model_module_version": "1.2.0",
      "model_name": "LayoutModel",
      "state": {
       "justify_content": "center"
      }
     },
     "866b8b703dfe452eac1448f1ff8c871f": {
      "model_module": "@jupyter-widgets/controls",
      "model_module_version": "1.5.0",
      "model_name": "ButtonModel",
      "state": {
       "description": "Korrekt?",
       "layout": "IPY_MODEL_1bfc55383beb43a98f51863d56c607cd",
       "style": "IPY_MODEL_bff6e418c16c4726abf4a4d1171f20c5"
      }
     },
     "86788460e0b343faa50e433bd4f1cb2c": {
      "model_module": "@jupyter-widgets/base",
      "model_module_version": "1.2.0",
      "model_name": "LayoutModel",
      "state": {
       "width": "250px"
      }
     },
     "867c38903a954b72a23eeab8f0717007": {
      "model_module": "@jupyter-widgets/controls",
      "model_module_version": "1.5.0",
      "model_name": "ButtonModel",
      "state": {
       "description": "Korrekt?",
       "layout": "IPY_MODEL_151cb4c45a1f44b493b561ee77112474",
       "style": "IPY_MODEL_b1f8cc16e17a4947aa6c0cf378b71795"
      }
     },
     "86b73ee6f002462cb864231a07b6e088": {
      "model_module": "@jupyter-widgets/controls",
      "model_module_version": "1.5.0",
      "model_name": "CheckboxModel",
      "state": {
       "description": "Keine der Alternativen",
       "disabled": false,
       "layout": "IPY_MODEL_78cad2fe3f9a4526a4f3ed9bb29b889e",
       "style": "IPY_MODEL_01e9fcb6e85c4051b980b33e7a618305",
       "value": false
      }
     },
     "86bf312efe504928b1b0f331fee20b5b": {
      "model_module": "@jupyter-widgets/controls",
      "model_module_version": "1.5.0",
      "model_name": "ButtonModel",
      "state": {
       "description": "Ja",
       "layout": "IPY_MODEL_34823ee8fece4c8c8c9144cd41fedfa0",
       "style": "IPY_MODEL_dae5ab54544b45419f85b05639f8e86a"
      }
     },
     "86d09af0ffe746e5b71f63cd9e20e381": {
      "model_module": "@jupyter-widgets/controls",
      "model_module_version": "1.5.0",
      "model_name": "DescriptionStyleModel",
      "state": {
       "description_width": ""
      }
     },
     "86d91b24bfd74eeca3f34cddc6199cfc": {
      "model_module": "@jupyter-widgets/base",
      "model_module_version": "1.2.0",
      "model_name": "LayoutModel",
      "state": {
       "width": "600px"
      }
     },
     "86e877d42cc04541a5c9d951ef29b467": {
      "model_module": "@jupyter-widgets/base",
      "model_module_version": "1.2.0",
      "model_name": "LayoutModel",
      "state": {}
     },
     "87271557030d4db590aec75957d508b9": {
      "model_module": "@jupyter-widgets/base",
      "model_module_version": "1.2.0",
      "model_name": "LayoutModel",
      "state": {}
     },
     "8756d91e50f84f42ac90f43f10f2e57e": {
      "model_module": "@jupyter-widgets/controls",
      "model_module_version": "1.5.0",
      "model_name": "VBoxModel",
      "state": {
       "children": [
        "IPY_MODEL_630156d5efdf4c2bad2f30aa2b866335",
        "IPY_MODEL_fe6341d3251b478c826883d7607e9402",
        "IPY_MODEL_1423a33bbb5a4ee98ce998d8b6ff474d",
        "IPY_MODEL_e7d6dfd8ad974ca0b2c8c0a80a8ba048"
       ],
       "layout": "IPY_MODEL_57d51e9d193a46bca6141294b862079b"
      }
     },
     "87643ee2f03440d8874b63c7e181129c": {
      "model_module": "@jupyter-widgets/controls",
      "model_module_version": "1.5.0",
      "model_name": "DescriptionStyleModel",
      "state": {
       "description_width": "initial"
      }
     },
     "87decd97c6aa4744930b5b3287b988be": {
      "model_module": "@jupyter-widgets/controls",
      "model_module_version": "1.5.0",
      "model_name": "DescriptionStyleModel",
      "state": {
       "description_width": ""
      }
     },
     "87ef2c6fe33440ffb400e57684eb0fc3": {
      "model_module": "@jupyter-widgets/controls",
      "model_module_version": "1.5.0",
      "model_name": "ButtonModel",
      "state": {
       "description": "Nein",
       "layout": "IPY_MODEL_be465be16cbc4d358ae26c212dbbc5ab",
       "style": "IPY_MODEL_8408cfbccdbd48f39c802c4706ef4836"
      }
     },
     "880ce3b50b194730aa35bf80c2ca28fa": {
      "model_module": "@jupyter-widgets/controls",
      "model_module_version": "1.5.0",
      "model_name": "ButtonModel",
      "state": {
       "description": "Instrument",
       "layout": "IPY_MODEL_32c225e325494f0e84a9355bb5ee6a7f",
       "style": "IPY_MODEL_2d64bfaafc9646dd86aeddff5d488f6c"
      }
     },
     "88179e143038493f85d6a7b78dbfa17b": {
      "model_module": "@jupyter-widgets/controls",
      "model_module_version": "1.5.0",
      "model_name": "HBoxModel",
      "state": {
       "children": [
        "IPY_MODEL_880ce3b50b194730aa35bf80c2ca28fa",
        "IPY_MODEL_fed8fa49499d4ddd9ef665b1bc760216"
       ],
       "layout": "IPY_MODEL_d0f4f34cfd7b4426942061889f2038dc"
      }
     },
     "88191ccb27a44616917108b5825abe3b": {
      "model_module": "@jupyter-widgets/controls",
      "model_module_version": "1.5.0",
      "model_name": "HTMLModel",
      "state": {
       "layout": "IPY_MODEL_8593640b8af24264b24cc584989fc1c1",
       "style": "IPY_MODEL_4570836c30b74e3d8ea7d2dbfa006296",
       "value": "<h4 style=\"font-size:14px;\">Was ist im zweiten Satz das Subjekt?</h4>"
      }
     },
     "8838109dc5094849bcde4c0c1bd614f3": {
      "model_module": "@jupyter-widgets/base",
      "model_module_version": "1.2.0",
      "model_name": "LayoutModel",
      "state": {
       "width": "250px"
      }
     },
     "884796c500904467afe2f515709e361c": {
      "model_module": "@jupyter-widgets/base",
      "model_module_version": "1.2.0",
      "model_name": "LayoutModel",
      "state": {
       "width": "150px"
      }
     },
     "886d86d2391247129203256b58fe2ca6": {
      "model_module": "@jupyter-widgets/controls",
      "model_module_version": "1.5.0",
      "model_name": "ButtonStyleModel",
      "state": {}
     },
     "887599e2b3394c7d87a91773dbe152bf": {
      "model_module": "@jupyter-widgets/base",
      "model_module_version": "1.2.0",
      "model_name": "LayoutModel",
      "state": {}
     },
     "888f35cf93dd4e23a0b4e0f427b73e2f": {
      "model_module": "@jupyter-widgets/controls",
      "model_module_version": "1.5.0",
      "model_name": "ButtonModel",
      "state": {
       "description": "list",
       "layout": "IPY_MODEL_2fda78345d6340e9aa514b2e6f2ffee2",
       "style": "IPY_MODEL_5ffb9acc3d454b4c8204db5e7e47307c"
      }
     },
     "88ea813807484c5f92805a0c4eacba51": {
      "model_module": "@jupyter-widgets/base",
      "model_module_version": "1.2.0",
      "model_name": "LayoutModel",
      "state": {
       "width": "600px"
      }
     },
     "88fb1b076b7f4c41956b71c0c75a8395": {
      "model_module": "@jupyter-widgets/controls",
      "model_module_version": "1.5.0",
      "model_name": "DescriptionStyleModel",
      "state": {
       "description_width": "initial"
      }
     },
     "892df5efeb2a4442b19de776f8c4601f": {
      "model_module": "@jupyter-widgets/controls",
      "model_module_version": "1.5.0",
      "model_name": "CheckboxModel",
      "state": {
       "description": "Die Form des Adjektivs richtet sich nach dem Genus des Substantivs.",
       "disabled": false,
       "layout": "IPY_MODEL_030ebfce407b4d3dbff2bffee660e440",
       "style": "IPY_MODEL_fb43f940bae04225a5fa6e0cc96a92a6",
       "value": false
      }
     },
     "8941ad3eb22e467abe6d1394a0f9022c": {
      "model_module": "@jupyter-widgets/base",
      "model_module_version": "1.2.0",
      "model_name": "LayoutModel",
      "state": {
       "width": "600px"
      }
     },
     "894ccffc008f4f43a200c52c0953fb4b": {
      "model_module": "@jupyter-widgets/controls",
      "model_module_version": "1.5.0",
      "model_name": "ButtonModel",
      "state": {
       "description": "Korrekt?",
       "layout": "IPY_MODEL_4c4638181fe945219eabdbf56ab7f2a3",
       "style": "IPY_MODEL_79302fd1fc03448682f659d81f7e3374"
      }
     },
     "899d2d3a6ef4493e96cc595117dfdb2c": {
      "model_module": "@jupyter-widgets/base",
      "model_module_version": "1.2.0",
      "model_name": "LayoutModel",
      "state": {
       "width": "250px"
      }
     },
     "89ad4b50edc94058ad1feffaa32e9b9e": {
      "model_module": "@jupyter-widgets/base",
      "model_module_version": "1.2.0",
      "model_name": "LayoutModel",
      "state": {}
     },
     "8a0bb85ade554e27980f8fb140227876": {
      "model_module": "@jupyter-widgets/controls",
      "model_module_version": "1.5.0",
      "model_name": "VBoxModel",
      "state": {
       "children": [
        "IPY_MODEL_10b2c3c53388471a8a2e9347b460bbe5",
        "IPY_MODEL_dec19ff41de5437f9de964bcbebc5d00",
        "IPY_MODEL_917fe3a2c9834d5f9690622e3fee9b2d",
        "IPY_MODEL_378d4f791e9e448e9a386f23cece2b88"
       ],
       "layout": "IPY_MODEL_17030aa2cfaf45c59e03177e309394e6"
      }
     },
     "8a937f5785a245acbda82900dbc5ffed": {
      "model_module": "@jupyter-widgets/controls",
      "model_module_version": "1.5.0",
      "model_name": "CheckboxModel",
      "state": {
       "description": "!x",
       "disabled": false,
       "layout": "IPY_MODEL_838c27829f8a4506aee7517ad5ba563d",
       "style": "IPY_MODEL_87643ee2f03440d8874b63c7e181129c",
       "value": false
      }
     },
     "8a96cd05468d4babb8ac1db92c3f9d12": {
      "model_module": "@jupyter-widgets/base",
      "model_module_version": "1.2.0",
      "model_name": "LayoutModel",
      "state": {
       "width": "600px"
      }
     },
     "8aeef09e698842a89eea415bf914a110": {
      "model_module": "@jupyter-widgets/controls",
      "model_module_version": "1.5.0",
      "model_name": "HTMLModel",
      "state": {
       "layout": "IPY_MODEL_b5d665ce23fb40d9bb52d9bec7312c83",
       "style": "IPY_MODEL_195316e055024a1da355c1757392cf68",
       "value": "<h4 style=\"font-size:14px;\">Im Falle, dass im Zuge einer Unifikation Informationen zum Wert eines Pfades x hinzugefügt werden, wie verändern sich die Werte aller zu x äquivalenten Pfade?</h4>"
      }
     },
     "8af0bedb41b44bef84ed9a4a0f968520": {
      "model_module": "@jupyter-widgets/controls",
      "model_module_version": "1.5.0",
      "model_name": "DescriptionStyleModel",
      "state": {
       "description_width": ""
      }
     },
     "8b05a2a9ace045f0ad98a27c98dc0a6f": {
      "model_module": "@jupyter-widgets/base",
      "model_module_version": "1.2.0",
      "model_name": "LayoutModel",
      "state": {
       "justify_content": "center"
      }
     },
     "8b147535945a427398374a4be8c2c318": {
      "model_module": "@jupyter-widgets/base",
      "model_module_version": "1.2.0",
      "model_name": "LayoutModel",
      "state": {
       "width": "600px"
      }
     },
     "8b34bb22912e4b7b9034f027b08fde15": {
      "model_module": "@jupyter-widgets/base",
      "model_module_version": "1.2.0",
      "model_name": "LayoutModel",
      "state": {
       "align_content": "stretch",
       "align_items": "stretch",
       "display": "inline-flex",
       "flex": "flex-grow",
       "flex_flow": "row wrap",
       "justify_content": "flex-start"
      }
     },
     "8b4352ff187648d4886fa4493e743a30": {
      "model_module": "@jupyter-widgets/base",
      "model_module_version": "1.2.0",
      "model_name": "LayoutModel",
      "state": {
       "width": "600px"
      }
     },
     "8b4a47aca1614ceda41ccba079a108be": {
      "model_module": "@jupyter-widgets/base",
      "model_module_version": "1.2.0",
      "model_name": "LayoutModel",
      "state": {
       "width": "600px"
      }
     },
     "8b765e7509d942baba1f35698be4271b": {
      "model_module": "@jupyter-widgets/controls",
      "model_module_version": "1.5.0",
      "model_name": "CheckboxModel",
      "state": {
       "description": "Das Adjektiv übernimmt die Endungen des Artikels.",
       "disabled": false,
       "layout": "IPY_MODEL_8d51dc5beab54c84a9e97fac2f5633b6",
       "style": "IPY_MODEL_afe04f3d300049849538f80059651464",
       "value": false
      }
     },
     "8b78f20afb464c5f875076bb949c2d45": {
      "model_module": "@jupyter-widgets/controls",
      "model_module_version": "1.5.0",
      "model_name": "DescriptionStyleModel",
      "state": {
       "description_width": ""
      }
     },
     "8bb07da0d24f4a6d858367a5c5af129e": {
      "model_module": "@jupyter-widgets/controls",
      "model_module_version": "1.5.0",
      "model_name": "ButtonStyleModel",
      "state": {}
     },
     "8bc2bda7f8cb44ffaa85e34cb8aeb6ba": {
      "model_module": "@jupyter-widgets/base",
      "model_module_version": "1.2.0",
      "model_name": "LayoutModel",
      "state": {}
     },
     "8bc70eb4b49e4262a52d4e8c2813e482": {
      "model_module": "@jupyter-widgets/controls",
      "model_module_version": "1.5.0",
      "model_name": "HBoxModel",
      "state": {
       "children": [
        "IPY_MODEL_4c1ae192aca0403385c635387bbdabf6",
        "IPY_MODEL_c41ef4ab42474123b696fb09ebec9320"
       ],
       "layout": "IPY_MODEL_49d652a7b3e94b27b767a7ab7241be09"
      }
     },
     "8bea13e5093042b185aa23fcdfe60744": {
      "model_module": "@jupyter-widgets/controls",
      "model_module_version": "1.5.0",
      "model_name": "HTMLModel",
      "state": {
       "layout": "IPY_MODEL_a81c525ed0f64dab8301976c87289361",
       "style": "IPY_MODEL_f6cbc85fdec649a5b93d08b5866d9625",
       "value": "<h4 style=\"font-size:14px;\">Was gilt immer für das Ergebnis der Unifikation solcher Merkmalstrukturen?</h4>"
      }
     },
     "8c2cfb5854d9416dbb7f6b3a3b450029": {
      "model_module": "@jupyter-widgets/controls",
      "model_module_version": "1.5.0",
      "model_name": "ButtonModel",
      "state": {
       "description": "Korrekt?",
       "layout": "IPY_MODEL_6a44934e30194edfb5e40841a6d452cb",
       "style": "IPY_MODEL_0a5d744bce5f423da2a009e4f439d462"
      }
     },
     "8c307d22ff33444f9ac59f6269fc0e8c": {
      "model_module": "@jupyter-widgets/controls",
      "model_module_version": "1.5.0",
      "model_name": "DescriptionStyleModel",
      "state": {
       "description_width": ""
      }
     },
     "8c627f81c3fb45ad83fd1dae559ea646": {
      "model_module": "@jupyter-widgets/controls",
      "model_module_version": "1.5.0",
      "model_name": "ButtonModel",
      "state": {
       "description": "Zeitangabe",
       "layout": "IPY_MODEL_a0741364c7a34205a057c62abbcedf6b",
       "style": "IPY_MODEL_ed1d351eaea543e99046fd3adaad52a7"
      }
     },
     "8caaf07dfee84cff8cff93fba7c1d3ae": {
      "model_module": "@jupyter-widgets/controls",
      "model_module_version": "1.5.0",
      "model_name": "HTMLModel",
      "state": {
       "layout": "IPY_MODEL_d5226abd24cb4b18b861fe13c5f3a15b",
       "style": "IPY_MODEL_9f9f28c421f44d52981fca57851a878d",
       "value": "<h4 style=\"font-size:14px;\">Für die Deklination ist hier relevant, ob das Adjektiv mit einem ____________ Artikel auftritt oder nicht.</h4>"
      }
     },
     "8cb6c6569402461ea08d4751326b6a79": {
      "model_module": "@jupyter-widgets/controls",
      "model_module_version": "1.5.0",
      "model_name": "VBoxModel",
      "state": {
       "children": [
        "IPY_MODEL_7ff7a824e8be4bb5ad588c2c3a14a8e8",
        "IPY_MODEL_d89b3ad7fffc42db9955f8e49f6cd07a",
        "IPY_MODEL_6d9069834bea4283bbb77de8e87c4bb4",
        "IPY_MODEL_9af43b1b0baa4a06836027ecdee2d263"
       ],
       "layout": "IPY_MODEL_1e137f7d7b964e459efef3dc2f0ef879"
      }
     },
     "8cbe76fb9668473a97c7d5bd4ecf95ba": {
      "model_module": "@jupyter-widgets/base",
      "model_module_version": "1.2.0",
      "model_name": "LayoutModel",
      "state": {
       "justify_content": "center"
      }
     },
     "8cc37017db534fefbe60b8f36abced23": {
      "model_module": "@jupyter-widgets/base",
      "model_module_version": "1.2.0",
      "model_name": "LayoutModel",
      "state": {}
     },
     "8ccb37867f9a40f994e995d3df06b54e": {
      "model_module": "@jupyter-widgets/controls",
      "model_module_version": "1.5.0",
      "model_name": "VBoxModel",
      "state": {
       "children": [
        "IPY_MODEL_5b7d9214dd8a43dab85810441a855a03",
        "IPY_MODEL_ce8f1fde08d14d248cca219653705448",
        "IPY_MODEL_c9b5a94240544a9088e15bdfa0308852",
        "IPY_MODEL_dda4acd9706246d0b6d39f2944a87bc9"
       ],
       "layout": "IPY_MODEL_1806d5056fa249e185ad7467c348a7da"
      }
     },
     "8cdd1433178b47a6a149385d1cf5fe84": {
      "model_module": "@jupyter-widgets/controls",
      "model_module_version": "1.5.0",
      "model_name": "DescriptionStyleModel",
      "state": {
       "description_width": ""
      }
     },
     "8d51dc5beab54c84a9e97fac2f5633b6": {
      "model_module": "@jupyter-widgets/base",
      "model_module_version": "1.2.0",
      "model_name": "LayoutModel",
      "state": {
       "width": "600px"
      }
     },
     "8d6ca590fb374a1ca13c2727f80be6b2": {
      "model_module": "@jupyter-widgets/base",
      "model_module_version": "1.2.0",
      "model_name": "LayoutModel",
      "state": {}
     },
     "8d7c4df99e70476b986bf00395e65d06": {
      "model_module": "@jupyter-widgets/controls",
      "model_module_version": "1.5.0",
      "model_name": "DescriptionStyleModel",
      "state": {
       "description_width": "initial"
      }
     },
     "8d9a1f8d9dbe44dd882b436efba5e4e0": {
      "model_module": "@jupyter-widgets/base",
      "model_module_version": "1.2.0",
      "model_name": "LayoutModel",
      "state": {
       "width": "250px"
      }
     },
     "8d9c258e96fe4dd28c08ea65d3d80fe3": {
      "model_module": "@jupyter-widgets/base",
      "model_module_version": "1.2.0",
      "model_name": "LayoutModel",
      "state": {
       "width": "250px"
      }
     },
     "8d9cdb4252b94bc3b65e8e0e274bd41b": {
      "model_module": "@jupyter-widgets/base",
      "model_module_version": "1.2.0",
      "model_name": "LayoutModel",
      "state": {
       "width": "150px"
      }
     },
     "8dbca0eb14764892afc36d778d3d5331": {
      "model_module": "@jupyter-widgets/base",
      "model_module_version": "1.2.0",
      "model_name": "LayoutModel",
      "state": {
       "justify_content": "center"
      }
     },
     "8decf0d1bd4f453a841108b1b5b93c47": {
      "model_module": "@jupyter-widgets/base",
      "model_module_version": "1.2.0",
      "model_name": "LayoutModel",
      "state": {
       "width": "250px"
      }
     },
     "8e04c36a80b74d2aa35d8c5e83ad632f": {
      "model_module": "@jupyter-widgets/controls",
      "model_module_version": "1.5.0",
      "model_name": "ButtonModel",
      "state": {
       "description": "Korrekt?",
       "layout": "IPY_MODEL_95214d14c3f04651bbd55efec7d4415f",
       "style": "IPY_MODEL_7c37bf91d20f4acd91ac70b94425a363"
      }
     },
     "8e56d486ecbf4ea599e45683951b0c46": {
      "model_module": "@jupyter-widgets/base",
      "model_module_version": "1.2.0",
      "model_name": "LayoutModel",
      "state": {
       "width": "600px"
      }
     },
     "8e6e5602f78c4cbf9eec55df2218920a": {
      "model_module": "@jupyter-widgets/controls",
      "model_module_version": "1.5.0",
      "model_name": "DescriptionStyleModel",
      "state": {
       "description_width": "initial"
      }
     },
     "8e8408c25a314afeace173e2b54d8f5b": {
      "model_module": "@jupyter-widgets/controls",
      "model_module_version": "1.5.0",
      "model_name": "HTMLModel",
      "state": {
       "layout": "IPY_MODEL_68ce27a446734bc59ed55c202e30878c",
       "style": "IPY_MODEL_6b387279f1d24ee9ac6c18ab73152d5c",
       "value": "<h4 style=\"font-size:14px;\">Um welchen Faktor erhöht sich die Regelanzahl, wenn man Kongruenz (Agreement) in Numerus und Person durch Integration von Merkmalen in die Kategoriensymbole einer CFG modelliert (S → NP_1_SG VP_1_SG usw.)?</h4>"
      }
     },
     "8e95ebcaef5b446b8fce77f76818c14b": {
      "model_module": "@jupyter-widgets/controls",
      "model_module_version": "1.5.0",
      "model_name": "DescriptionStyleModel",
      "state": {
       "description_width": ""
      }
     },
     "8ea7e51060fb40e48815e5ff8d98d5b6": {
      "model_module": "@jupyter-widgets/controls",
      "model_module_version": "1.5.0",
      "model_name": "DescriptionStyleModel",
      "state": {
       "description_width": "initial"
      }
     },
     "8f04615fd3534978a4932385e9c8cb88": {
      "model_module": "@jupyter-widgets/controls",
      "model_module_version": "1.5.0",
      "model_name": "DescriptionStyleModel",
      "state": {
       "description_width": "initial"
      }
     },
     "8f227397d18848619e7fd1031dfde773": {
      "model_module": "@jupyter-widgets/controls",
      "model_module_version": "1.5.0",
      "model_name": "VBoxModel",
      "state": {
       "children": [
        "IPY_MODEL_d86f8a4bf30e4a898a9ecb7a829b6d9f",
        "IPY_MODEL_dabf4bdf11de4a60aa13282eeffbc671",
        "IPY_MODEL_8644ca8b1de245ffb2c0671933cb9774"
       ],
       "layout": "IPY_MODEL_2339755e4039477aa44f72137add54c1"
      }
     },
     "8f30e99a204b43dfb59671f7ca7f76c8": {
      "model_module": "@jupyter-widgets/controls",
      "model_module_version": "1.5.0",
      "model_name": "ButtonStyleModel",
      "state": {}
     },
     "8f32e23b4de1484386fb4079df218f9e": {
      "model_module": "@jupyter-widgets/controls",
      "model_module_version": "1.5.0",
      "model_name": "VBoxModel",
      "state": {
       "children": [
        "IPY_MODEL_705c50aa3a1b48b9a53e790ec8fd786d",
        "IPY_MODEL_9406deb4468c4a27aedcd244e4d1edb4",
        "IPY_MODEL_c0e564bc30264471b42fac6863a34496",
        "IPY_MODEL_1693fbcfe89f4264979c2142960fb824",
        "IPY_MODEL_614e9093b40749caa13b1b9bb2f2667d",
        "IPY_MODEL_d062a5e9e5d341b79524d8164419f65b"
       ],
       "layout": "IPY_MODEL_0a404f9864404d47a6d40613e0cc22ba"
      }
     },
     "8f369f9e302c4a02ba2f7904ebad17a5": {
      "model_module": "@jupyter-widgets/base",
      "model_module_version": "1.2.0",
      "model_name": "LayoutModel",
      "state": {
       "width": "150px"
      }
     },
     "8f5aeaad341b4bc0911b7e476e8b525f": {
      "model_module": "@jupyter-widgets/controls",
      "model_module_version": "1.5.0",
      "model_name": "CheckboxModel",
      "state": {
       "description": "Die Endungen von Adjektiv und Artikel stimmen überein.",
       "disabled": false,
       "layout": "IPY_MODEL_e28105647f3a4df79577b3bf072e40d4",
       "style": "IPY_MODEL_5f488f8c19fa4004828dd2d2d26943cc",
       "value": false
      }
     },
     "8f5c426a90404153aefd98d5aa3b7930": {
      "model_module": "@jupyter-widgets/controls",
      "model_module_version": "1.5.0",
      "model_name": "DescriptionStyleModel",
      "state": {
       "description_width": "initial"
      }
     },
     "8f5da90c7b6a494aabf612ec8322473d": {
      "model_module": "@jupyter-widgets/base",
      "model_module_version": "1.2.0",
      "model_name": "LayoutModel",
      "state": {}
     },
     "8f6ca1bad53c48e8975a3fdbd5af5db9": {
      "model_module": "@jupyter-widgets/controls",
      "model_module_version": "1.5.0",
      "model_name": "DescriptionStyleModel",
      "state": {
       "description_width": ""
      }
     },
     "8f9917c4c2264cccb616a96ce0712892": {
      "model_module": "@jupyter-widgets/base",
      "model_module_version": "1.2.0",
      "model_name": "LayoutModel",
      "state": {
       "width": "250px"
      }
     },
     "8fa269b7d729454b82c989e69c5be5ff": {
      "model_module": "@jupyter-widgets/controls",
      "model_module_version": "1.5.0",
      "model_name": "HTMLModel",
      "state": {
       "layout": "IPY_MODEL_52fb4592b0e04226841df64d4bcdfa16",
       "style": "IPY_MODEL_b1c15cb426a5473a8b11d7c70f9c40ef",
       "value": "<i>Wählen Sie die <ins>eine</ins> korrekte Antwort aus: </i>"
      }
     },
     "8fcddbdc600b49f69b90fcd7c4a72bbb": {
      "model_module": "@jupyter-widgets/controls",
      "model_module_version": "1.5.0",
      "model_name": "VBoxModel",
      "state": {
       "children": [
        "IPY_MODEL_f51c7e47ebef44a1ab22b8daab6cbd26",
        "IPY_MODEL_dc5d0a98ed7949c8a4baa5215e90dd5d",
        "IPY_MODEL_40b06800e059442aacffe0b7c3aeef52",
        "IPY_MODEL_96bec54dfb6a483887112ba16bf7b8a0"
       ],
       "layout": "IPY_MODEL_cd81edbb70e941d794ff801c32784a4f"
      }
     },
     "8fdf98462ff44602b313066c4e07ad43": {
      "model_module": "@jupyter-widgets/base",
      "model_module_version": "1.2.0",
      "model_name": "LayoutModel",
      "state": {
       "width": "600px"
      }
     },
     "8fe88f8e1f704ba98f495888c1320f3b": {
      "model_module": "@jupyter-widgets/controls",
      "model_module_version": "1.5.0",
      "model_name": "CheckboxModel",
      "state": {
       "description": "FS0 = [CAT = N, GEN = MASK], FS1 = [CAT = N]",
       "disabled": false,
       "layout": "IPY_MODEL_9312207abb134dddafc2ee64c3e3cc0b",
       "style": "IPY_MODEL_04127c50a2924fe9ba63b3327575ac91",
       "value": false
      }
     },
     "9024c1f9f4b64333b189cccd96cf1b62": {
      "model_module": "@jupyter-widgets/controls",
      "model_module_version": "1.5.0",
      "model_name": "CheckboxModel",
      "state": {
       "description": "Es ist die spezifischere Merkmalsstruktur.",
       "disabled": false,
       "layout": "IPY_MODEL_4d4beab25ef243ce84b0b6f1e9a0c1e0",
       "style": "IPY_MODEL_af48aa9d7fd941a5bad7526e59c94cd1",
       "value": false
      }
     },
     "90705a61949a47c09f4e590a120ae3a7": {
      "model_module": "@jupyter-widgets/base",
      "model_module_version": "1.2.0",
      "model_name": "LayoutModel",
      "state": {}
     },
     "9072ad0ef589419397a2579ef7539379": {
      "model_module": "@jupyter-widgets/base",
      "model_module_version": "1.2.0",
      "model_name": "LayoutModel",
      "state": {
       "width": "600px"
      }
     },
     "9075694b32c2499b8790ad8d17cbd4be": {
      "model_module": "@jupyter-widgets/controls",
      "model_module_version": "1.5.0",
      "model_name": "DescriptionStyleModel",
      "state": {
       "description_width": ""
      }
     },
     "909dcda7d31c4ae6b08d0d1ba370b81d": {
      "model_module": "@jupyter-widgets/base",
      "model_module_version": "1.2.0",
      "model_name": "LayoutModel",
      "state": {
       "width": "600px"
      }
     },
     "90bc5c12465a4c4dbf697da006570175": {
      "model_module": "@jupyter-widgets/controls",
      "model_module_version": "1.5.0",
      "model_name": "DescriptionStyleModel",
      "state": {
       "description_width": ""
      }
     },
     "90e7076e4a144ead8f83f7ee87a5b2c9": {
      "model_module": "@jupyter-widgets/base",
      "model_module_version": "1.2.0",
      "model_name": "LayoutModel",
      "state": {}
     },
     "912ca843eaca4cb6a5ed406049092e4a": {
      "model_module": "@jupyter-widgets/controls",
      "model_module_version": "1.5.0",
      "model_name": "CheckboxModel",
      "state": {
       "description": "Keine der Alternativen",
       "disabled": false,
       "layout": "IPY_MODEL_23d3437076e24df48db116e8ae92a7d6",
       "style": "IPY_MODEL_72c1111806a14d16b4dd05dc3f51fe89",
       "value": false
      }
     },
     "912ffebab7be425aabfc48e144a7b58e": {
      "model_module": "@jupyter-widgets/controls",
      "model_module_version": "1.5.0",
      "model_name": "CheckboxModel",
      "state": {
       "description": "Die Form vom Adjektiven hängt niemals von irgendeinem Genus ab.",
       "disabled": false,
       "layout": "IPY_MODEL_c36df156c3d7427982ac798a84d9e074",
       "style": "IPY_MODEL_67a275abaa904bd6872add38127e8ee7",
       "value": false
      }
     },
     "9136ecb5aa4441b29c72ac55cfdb638f": {
      "model_module": "@jupyter-widgets/controls",
      "model_module_version": "1.5.0",
      "model_name": "DescriptionStyleModel",
      "state": {
       "description_width": ""
      }
     },
     "91546c47258540a0a33458fc3b916c31": {
      "model_module": "@jupyter-widgets/controls",
      "model_module_version": "1.5.0",
      "model_name": "ButtonStyleModel",
      "state": {}
     },
     "915d29c6160b4984ac42658a94ceb43b": {
      "model_module": "@jupyter-widgets/controls",
      "model_module_version": "1.5.0",
      "model_name": "HBoxModel",
      "state": {
       "children": [
        "IPY_MODEL_15bc5da9d55a43af85c9d504e8020382",
        "IPY_MODEL_7a25ae8f757a4801962aca5d0a94d5a8"
       ],
       "layout": "IPY_MODEL_35011d241ada46ca94fb69bb05108574"
      }
     },
     "916d7dfd70b8418b824af6e2444fd580": {
      "model_module": "@jupyter-widgets/base",
      "model_module_version": "1.2.0",
      "model_name": "LayoutModel",
      "state": {
       "width": "250px"
      }
     },
     "9170ef4104d54df3b65aeefb7b740605": {
      "model_module": "@jupyter-widgets/controls",
      "model_module_version": "1.5.0",
      "model_name": "ButtonModel",
      "state": {
       "description": "schwache Deklination",
       "layout": "IPY_MODEL_50c571e2ba764176b50d72e5cacc2836",
       "style": "IPY_MODEL_5baa5f6622404d439d6771cb3a813063"
      }
     },
     "917fe3a2c9834d5f9690622e3fee9b2d": {
      "model_module": "@jupyter-widgets/controls",
      "model_module_version": "1.5.0",
      "model_name": "VBoxModel",
      "state": {
       "children": [
        "IPY_MODEL_237f12cb9c544502897be6dc3d6030c9",
        "IPY_MODEL_fecb35f3385748c2880f9588ad8cd3c0",
        "IPY_MODEL_8fe88f8e1f704ba98f495888c1320f3b",
        "IPY_MODEL_dfd003ab3951453dbe6853df4f1d1fe3"
       ],
       "layout": "IPY_MODEL_522e2a23e829469ab4a6c8b4409b328d"
      }
     },
     "91993268b97e4180ab1aff9f22cb7751": {
      "model_module": "@jupyter-widgets/controls",
      "model_module_version": "1.5.0",
      "model_name": "DescriptionStyleModel",
      "state": {
       "description_width": "initial"
      }
     },
     "919fd4116b7b4dff894dd53402556799": {
      "model_module": "@jupyter-widgets/controls",
      "model_module_version": "1.5.0",
      "model_name": "ButtonStyleModel",
      "state": {}
     },
     "91b81db9c70742d4b2443ac0c4d47e7a": {
      "model_module": "@jupyter-widgets/controls",
      "model_module_version": "1.5.0",
      "model_name": "ButtonStyleModel",
      "state": {}
     },
     "91e450a083984169a2043665d25cbcf5": {
      "model_module": "@jupyter-widgets/controls",
      "model_module_version": "1.5.0",
      "model_name": "CheckboxModel",
      "state": {
       "description": "x!",
       "disabled": false,
       "layout": "IPY_MODEL_49d41352885749f48030be279fbcc0c2",
       "style": "IPY_MODEL_1d104378b7bd486da8714592c7363d12",
       "value": false
      }
     },
     "91e4a8fe94ce4e4fb8f758128118e1c1": {
      "model_module": "@jupyter-widgets/controls",
      "model_module_version": "1.5.0",
      "model_name": "ButtonStyleModel",
      "state": {}
     },
     "920eec40dd59491caf9a34ced01aaa6a": {
      "model_module": "@jupyter-widgets/controls",
      "model_module_version": "1.5.0",
      "model_name": "HTMLModel",
      "state": {
       "layout": "IPY_MODEL_330d28bfee694ea886ff199b1ba9ea04",
       "style": "IPY_MODEL_bdbabe38c0094be89aa876f5fd66c477",
       "value": "<h4 style=\"font-size:14px;\">Wie wird die Deklination der Nominalphrase <i>altes Bier</i> auch bezeichnet?</h4>"
      }
     },
     "92167d546b3845ffba0877ee60f53175": {
      "model_module": "@jupyter-widgets/controls",
      "model_module_version": "1.5.0",
      "model_name": "ButtonStyleModel",
      "state": {}
     },
     "923910f17aca4618a1406909f589a8ca": {
      "model_module": "@jupyter-widgets/controls",
      "model_module_version": "1.5.0",
      "model_name": "HTMLModel",
      "state": {
       "layout": "IPY_MODEL_7a908601098e44a9bed230c76fe0e8d6",
       "style": "IPY_MODEL_8b78f20afb464c5f875076bb949c2d45",
       "value": "<h4 style=\"font-size:14px;\">Wie wird die Deklination der Nominalphrase <i>das alte Bier</i> auch bezeichnet?</h4>"
      }
     },
     "923ea3c35edf48fdbaa58cccf284a291": {
      "model_module": "@jupyter-widgets/controls",
      "model_module_version": "1.5.0",
      "model_name": "ButtonStyleModel",
      "state": {}
     },
     "92a4d0449f0244469d00268c3c4272d7": {
      "model_module": "@jupyter-widgets/controls",
      "model_module_version": "1.5.0",
      "model_name": "CheckboxModel",
      "state": {
       "description": "Die Form des Adjektivs ist in jedem Kasus unterschiedlich.",
       "disabled": false,
       "layout": "IPY_MODEL_ef644d9ac56f42b6a7dd1b1475106436",
       "style": "IPY_MODEL_138d8a12b38448cabba05454ad8f35f6",
       "value": false
      }
     },
     "92d691aa898e4055a4449da3b8444312": {
      "model_module": "@jupyter-widgets/base",
      "model_module_version": "1.2.0",
      "model_name": "LayoutModel",
      "state": {
       "width": "250px"
      }
     },
     "9312207abb134dddafc2ee64c3e3cc0b": {
      "model_module": "@jupyter-widgets/base",
      "model_module_version": "1.2.0",
      "model_name": "LayoutModel",
      "state": {
       "width": "600px"
      }
     },
     "933ba3819fd644c29cfc3e8a60471268": {
      "model_module": "@jupyter-widgets/controls",
      "model_module_version": "1.5.0",
      "model_name": "ButtonModel",
      "state": {
       "description": "Korrekt?",
       "layout": "IPY_MODEL_016579e98fce4c7f893ca78c6f50b71a",
       "style": "IPY_MODEL_9ac58a65eba2424a8de2ddefdbfad1ed"
      }
     },
     "9349f44d161d4413a3f37f6b3f3a4bdf": {
      "model_module": "@jupyter-widgets/controls",
      "model_module_version": "1.5.0",
      "model_name": "DescriptionStyleModel",
      "state": {
       "description_width": ""
      }
     },
     "935a529574b6427da3dc7ae97dfed26e": {
      "model_module": "@jupyter-widgets/controls",
      "model_module_version": "1.5.0",
      "model_name": "ButtonModel",
      "state": {
       "description": "Agens",
       "layout": "IPY_MODEL_d75edcb98cf34abdac8827ed7b25b08f",
       "style": "IPY_MODEL_d0c2aa24a216413eae38572366cf77fc"
      }
     },
     "9365c5fda8174ec6949c7c61812d9b19": {
      "model_module": "@jupyter-widgets/base",
      "model_module_version": "1.2.0",
      "model_name": "LayoutModel",
      "state": {
       "width": "250px"
      }
     },
     "9377be4f78c941818004215b397f1608": {
      "model_module": "@jupyter-widgets/base",
      "model_module_version": "1.2.0",
      "model_name": "LayoutModel",
      "state": {
       "width": "250px"
      }
     },
     "93949992fdd94395ad870bf64cf0035c": {
      "model_module": "@jupyter-widgets/controls",
      "model_module_version": "1.5.0",
      "model_name": "VBoxModel",
      "state": {
       "children": [
        "IPY_MODEL_10c3e8e4281f4da68852ac16a89b6228",
        "IPY_MODEL_24c06d37e07e4635b7aca910103600b9",
        "IPY_MODEL_5b18a018fecb40a0a717e5e7e2181bf0",
        "IPY_MODEL_b7720fbd54144a3a93d95dcb6600c2a2",
        "IPY_MODEL_91e450a083984169a2043665d25cbcf5",
        "IPY_MODEL_16cdef5418214435bf3e957bff56a9a8"
       ],
       "layout": "IPY_MODEL_576b0628a83049ce87b89dfedda120c5"
      }
     },
     "93e1c14ff3a1448daff416b80a1a321a": {
      "model_module": "@jupyter-widgets/base",
      "model_module_version": "1.2.0",
      "model_name": "LayoutModel",
      "state": {
       "justify_content": "center"
      }
     },
     "9402277da0b647f1ad92a40f5ef12def": {
      "model_module": "@jupyter-widgets/base",
      "model_module_version": "1.2.0",
      "model_name": "LayoutModel",
      "state": {
       "width": "600px"
      }
     },
     "9406deb4468c4a27aedcd244e4d1edb4": {
      "model_module": "@jupyter-widgets/controls",
      "model_module_version": "1.5.0",
      "model_name": "CheckboxModel",
      "state": {
       "description": "?x",
       "disabled": false,
       "layout": "IPY_MODEL_4dfb06cf62c340b7b38c2a1188fe352e",
       "style": "IPY_MODEL_806a288a438a45b9962214c5d919d371",
       "value": false
      }
     },
     "9412bbcfbf3e41218e1b6df284149756": {
      "model_module": "@jupyter-widgets/controls",
      "model_module_version": "1.5.0",
      "model_name": "VBoxModel",
      "state": {
       "children": [
        "IPY_MODEL_c5c1303e37614185acb050dc8d83dc48",
        "IPY_MODEL_0e37d26e0ca84da1ae34eb5939a7008f",
        "IPY_MODEL_5a42ae48e6b4429f8ded7036a2aac943",
        "IPY_MODEL_15c871e80e8f42b6927bcc7fcc662439"
       ],
       "layout": "IPY_MODEL_5f3dc89d31794ec0b3666e5fde9b6a4c"
      }
     },
     "94733830b87e4e489ea416e2c133ff95": {
      "model_module": "@jupyter-widgets/controls",
      "model_module_version": "1.5.0",
      "model_name": "DescriptionStyleModel",
      "state": {
       "description_width": ""
      }
     },
     "9499d465ac7848b9b1099f52d0fe8917": {
      "model_module": "@jupyter-widgets/controls",
      "model_module_version": "1.5.0",
      "model_name": "DescriptionStyleModel",
      "state": {
       "description_width": "initial"
      }
     },
     "94bc0909ceb04b728735f23f8ae239c0": {
      "model_module": "@jupyter-widgets/controls",
      "model_module_version": "1.5.0",
      "model_name": "DescriptionStyleModel",
      "state": {
       "description_width": ""
      }
     },
     "94f37851b6364ba2bf61b47368e05964": {
      "model_module": "@jupyter-widgets/controls",
      "model_module_version": "1.5.0",
      "model_name": "VBoxModel",
      "state": {
       "children": [
        "IPY_MODEL_f71ed0acc4404512a7ee23a8ac559adf",
        "IPY_MODEL_7163263f9c72464181d958dc074b39b3",
        "IPY_MODEL_45ec1421d7a649c8bb5944acdcbbd252",
        "IPY_MODEL_bb6ea13e786c44af887b7e8b43c0f4a7"
       ],
       "layout": "IPY_MODEL_c2a02f7221f24dfebcb739c11154827e"
      }
     },
     "95214d14c3f04651bbd55efec7d4415f": {
      "model_module": "@jupyter-widgets/base",
      "model_module_version": "1.2.0",
      "model_name": "LayoutModel",
      "state": {
       "width": "250px"
      }
     },
     "952402641cac4a8d919d0421d94944f4": {
      "model_module": "@jupyter-widgets/controls",
      "model_module_version": "1.5.0",
      "model_name": "DescriptionStyleModel",
      "state": {
       "description_width": "initial"
      }
     },
     "952fa13e699143d0b3084915a2f6a963": {
      "model_module": "@jupyter-widgets/controls",
      "model_module_version": "1.5.0",
      "model_name": "HBoxModel",
      "state": {
       "children": [
        "IPY_MODEL_80d46f48b8724eccb5e8a0513f05352b",
        "IPY_MODEL_13dfafcdcffa488ca82ca45675b6124a"
       ],
       "layout": "IPY_MODEL_263da48a9f3e4d8ebfca0564d058faf2"
      }
     },
     "953cd1afd6874a3ca8d969c6895cd791": {
      "model_module": "@jupyter-widgets/controls",
      "model_module_version": "1.5.0",
      "model_name": "DescriptionStyleModel",
      "state": {
       "description_width": "initial"
      }
     },
     "95412c946ac64f2b95188ca1d9d293e3": {
      "model_module": "@jupyter-widgets/base",
      "model_module_version": "1.2.0",
      "model_name": "LayoutModel",
      "state": {
       "width": "250px"
      }
     },
     "955eeee2d50a4125be2f68f845e005b9": {
      "model_module": "@jupyter-widgets/base",
      "model_module_version": "1.2.0",
      "model_name": "LayoutModel",
      "state": {}
     },
     "95603e319f3a4308a0c34ea3e3981512": {
      "model_module": "@jupyter-widgets/base",
      "model_module_version": "1.2.0",
      "model_name": "LayoutModel",
      "state": {
       "justify_content": "center"
      }
     },
     "956dece303194e42bad90ddeacbb5b35": {
      "model_module": "@jupyter-widgets/controls",
      "model_module_version": "1.5.0",
      "model_name": "CheckboxModel",
      "state": {
       "description": "'rue Pascal'; ('spouse', 'address', 'street')",
       "disabled": false,
       "layout": "IPY_MODEL_e930595522084714a714e90f569cbdeb",
       "style": "IPY_MODEL_22b0dc484d164681a2f05f971af89581",
       "value": false
      }
     },
     "9581cccda3014e91b6696ac410ed0434": {
      "model_module": "@jupyter-widgets/base",
      "model_module_version": "1.2.0",
      "model_name": "LayoutModel",
      "state": {
       "justify_content": "center"
      }
     },
     "9591fd49cedf44d7a664735a0f2f5447": {
      "model_module": "@jupyter-widgets/base",
      "model_module_version": "1.2.0",
      "model_name": "LayoutModel",
      "state": {
       "width": "250px"
      }
     },
     "95a08033249e447d8bec5bd0a8460255": {
      "model_module": "@jupyter-widgets/base",
      "model_module_version": "1.2.0",
      "model_name": "LayoutModel",
      "state": {}
     },
     "95a6a19b9a5e488e9549024f98575e8d": {
      "model_module": "@jupyter-widgets/base",
      "model_module_version": "1.2.0",
      "model_name": "LayoutModel",
      "state": {}
     },
     "95aa15019e6b4daf8a867cc148379347": {
      "model_module": "@jupyter-widgets/controls",
      "model_module_version": "1.5.0",
      "model_name": "DescriptionStyleModel",
      "state": {
       "description_width": "initial"
      }
     },
     "95bc3da46a5442169fce588db0b65a0c": {
      "model_module": "@jupyter-widgets/controls",
      "model_module_version": "1.5.0",
      "model_name": "ButtonModel",
      "state": {
       "description": "dictionary",
       "layout": "IPY_MODEL_b6ce342103424b89a98865b327312a5b",
       "style": "IPY_MODEL_dcef277e526a4988b4793d2b33ea2bb5"
      }
     },
     "962a04a7910e4865935ffca31aa74060": {
      "model_module": "@jupyter-widgets/controls",
      "model_module_version": "1.5.0",
      "model_name": "HBoxModel",
      "state": {
       "children": [
        "IPY_MODEL_bbd3930d1d584560bf7daf64032423fd",
        "IPY_MODEL_19f01446ac5c4616ab7e41b2698cc901"
       ],
       "layout": "IPY_MODEL_f19c44da7f8844798dd3bd3063af2e8e"
      }
     },
     "96305b60ade0460eb744011c8f080972": {
      "model_module": "@jupyter-widgets/controls",
      "model_module_version": "1.5.0",
      "model_name": "HBoxModel",
      "state": {
       "children": [
        "IPY_MODEL_ed7f4616965c4a5bacd6a0faf419189b"
       ],
       "layout": "IPY_MODEL_bc071c7fd172465ab309e9b87c0068e5"
      }
     },
     "9651bc1b078b4c2d977d2fc066767fd2": {
      "model_module": "@jupyter-widgets/controls",
      "model_module_version": "1.5.0",
      "model_name": "DescriptionStyleModel",
      "state": {
       "description_width": "initial"
      }
     },
     "9656a76ed9e04007b63c67a4063cc799": {
      "model_module": "@jupyter-widgets/controls",
      "model_module_version": "1.5.0",
      "model_name": "DescriptionStyleModel",
      "state": {
       "description_width": "initial"
      }
     },
     "969cff8c5b3145b2b9961485255066e4": {
      "model_module": "@jupyter-widgets/controls",
      "model_module_version": "1.5.0",
      "model_name": "CheckboxModel",
      "state": {
       "description": "Das Genus des Adjektivs ist lexikalisch fix definiert.",
       "disabled": false,
       "layout": "IPY_MODEL_697894ef494046bab771fe520278f409",
       "style": "IPY_MODEL_60e70eabe7a14b008b48bc34fcd9a628",
       "value": false
      }
     },
     "969ea682eeff4a35aa8d11c85b03a2e2": {
      "model_module": "@jupyter-widgets/controls",
      "model_module_version": "1.5.0",
      "model_name": "DescriptionStyleModel",
      "state": {
       "description_width": "initial"
      }
     },
     "96bec54dfb6a483887112ba16bf7b8a0": {
      "model_module": "@jupyter-widgets/controls",
      "model_module_version": "1.5.0",
      "model_name": "HBoxModel",
      "state": {
       "children": [
        "IPY_MODEL_e30c5c1a00014096a7ac86ce125fb86d"
       ],
       "layout": "IPY_MODEL_f86a40ae3f33439d964e83e5433549a7"
      }
     },
     "96c9b993e20940de938ccfab952a1aab": {
      "model_module": "@jupyter-widgets/controls",
      "model_module_version": "1.5.0",
      "model_name": "DescriptionStyleModel",
      "state": {
       "description_width": "initial"
      }
     },
     "9714edb815594dac807f6420e4e347dc": {
      "model_module": "@jupyter-widgets/base",
      "model_module_version": "1.2.0",
      "model_name": "LayoutModel",
      "state": {}
     },
     "9729160e0283423a953d6c6af721495e": {
      "model_module": "@jupyter-widgets/controls",
      "model_module_version": "1.5.0",
      "model_name": "ButtonStyleModel",
      "state": {}
     },
     "97616b6383dd429084c5b4edcd5a90ea": {
      "model_module": "@jupyter-widgets/base",
      "model_module_version": "1.2.0",
      "model_name": "LayoutModel",
      "state": {
       "width": "600px"
      }
     },
     "97623e3f92a74c67a457ba7d1a0ff0e3": {
      "model_module": "@jupyter-widgets/controls",
      "model_module_version": "1.5.0",
      "model_name": "ButtonModel",
      "state": {
       "description": "Locative",
       "layout": "IPY_MODEL_c23b9748cc004410af72b181810bb6d1",
       "style": "IPY_MODEL_998bf79bc8eb4e9e8efe4bbf07f0934f"
      }
     },
     "97a8b22c6d7c44fa99fede713c041bea": {
      "model_module": "@jupyter-widgets/controls",
      "model_module_version": "1.5.0",
      "model_name": "DescriptionStyleModel",
      "state": {
       "description_width": ""
      }
     },
     "97d8af74cd544558b079daaab5cdbb3d": {
      "model_module": "@jupyter-widgets/controls",
      "model_module_version": "1.5.0",
      "model_name": "CheckboxModel",
      "state": {
       "description": "x?",
       "disabled": false,
       "layout": "IPY_MODEL_d479e9acb21f4a788931446b66d876b0",
       "style": "IPY_MODEL_01fdfe3b16f94b3b944db54494062ea1",
       "value": false
      }
     },
     "97d9ef4e3b154d9fbc11d3b0fc68004b": {
      "model_module": "@jupyter-widgets/controls",
      "model_module_version": "1.5.0",
      "model_name": "DescriptionStyleModel",
      "state": {
       "description_width": ""
      }
     },
     "9807e19ca6a3409297f573e920771669": {
      "model_module": "@jupyter-widgets/controls",
      "model_module_version": "1.5.0",
      "model_name": "HTMLModel",
      "state": {
       "layout": "IPY_MODEL_fc3e59d2a07c4dc7b07ce8e8f3331954",
       "style": "IPY_MODEL_5e503982c8b94973bc0d09a51880c4a5",
       "value": "<h4 style=\"font-size:14px;\">Schildern beide Sätze denselben Sachverhalt?</h4>"
      }
     },
     "9807f72b6ddd47079820ccb7fd141a9c": {
      "model_module": "@jupyter-widgets/base",
      "model_module_version": "1.2.0",
      "model_name": "LayoutModel",
      "state": {
       "width": "600px"
      }
     },
     "9828485ae9f74ae4be413519751e76d4": {
      "model_module": "@jupyter-widgets/base",
      "model_module_version": "1.2.0",
      "model_name": "LayoutModel",
      "state": {
       "justify_content": "center"
      }
     },
     "982c53f61b07438ca13bffaa340b89ba": {
      "model_module": "@jupyter-widgets/controls",
      "model_module_version": "1.5.0",
      "model_name": "DescriptionStyleModel",
      "state": {
       "description_width": ""
      }
     },
     "982f134d7bce4a5d953af07547e6765b": {
      "model_module": "@jupyter-widgets/controls",
      "model_module_version": "1.5.0",
      "model_name": "CheckboxModel",
      "state": {
       "description": "Sie werden im Vorhinein deklariert (feature lexicon)",
       "disabled": false,
       "layout": "IPY_MODEL_9f320f910e6041c8986903870fe9ffe7",
       "style": "IPY_MODEL_24412e10ab3440a49331257cbf7ab950",
       "value": false
      }
     },
     "988df82cb7654c5087b51c41ab4bdd85": {
      "model_module": "@jupyter-widgets/base",
      "model_module_version": "1.2.0",
      "model_name": "LayoutModel",
      "state": {
       "width": "600px"
      }
     },
     "98b9e4752b6c40c59c82403b4c7b8fde": {
      "model_module": "@jupyter-widgets/base",
      "model_module_version": "1.2.0",
      "model_name": "LayoutModel",
      "state": {
       "justify_content": "center"
      }
     },
     "98d107fa273b44d584a5888f44e928ac": {
      "model_module": "@jupyter-widgets/controls",
      "model_module_version": "1.5.0",
      "model_name": "CheckboxModel",
      "state": {
       "description": "Es übernimmt immer das Patiens die Subjektfunktion.",
       "disabled": false,
       "layout": "IPY_MODEL_affb7747c2564a2198d09544294b1980",
       "style": "IPY_MODEL_68d02755e664430cb7af0d66853b1dc2",
       "value": false
      }
     },
     "98f22163d1c445e4805d2b0c75727f16": {
      "model_module": "@jupyter-widgets/controls",
      "model_module_version": "1.5.0",
      "model_name": "ButtonModel",
      "state": {
       "description": "Instrument",
       "layout": "IPY_MODEL_5e7d57a00f17498ab106379c28e574e0",
       "style": "IPY_MODEL_1f0821e628e44c08afae3a2adf965b53"
      }
     },
     "98fbf8cda26749ca883e77a940021970": {
      "model_module": "@jupyter-widgets/controls",
      "model_module_version": "1.5.0",
      "model_name": "DescriptionStyleModel",
      "state": {
       "description_width": ""
      }
     },
     "9903ceb4e7674fceaa84959685cbcc43": {
      "model_module": "@jupyter-widgets/controls",
      "model_module_version": "1.5.0",
      "model_name": "DescriptionStyleModel",
      "state": {
       "description_width": ""
      }
     },
     "993f101b5f234de7b2d36053100ec963": {
      "model_module": "@jupyter-widgets/controls",
      "model_module_version": "1.5.0",
      "model_name": "CheckboxModel",
      "state": {
       "description": "74; ( 'number', 'address')",
       "disabled": false,
       "layout": "IPY_MODEL_7aa339d5e67f4e76a514d33a03fc1515",
       "style": "IPY_MODEL_f06bca583ab04430a98cc6d45550a970",
       "value": false
      }
     },
     "99413266124a4dbc9ced1358669cef03": {
      "model_module": "@jupyter-widgets/controls",
      "model_module_version": "1.5.0",
      "model_name": "DescriptionStyleModel",
      "state": {
       "description_width": "initial"
      }
     },
     "994e2ed5c6554394aeb0623806570447": {
      "model_module": "@jupyter-widgets/base",
      "model_module_version": "1.2.0",
      "model_name": "LayoutModel",
      "state": {}
     },
     "998bf79bc8eb4e9e8efe4bbf07f0934f": {
      "model_module": "@jupyter-widgets/controls",
      "model_module_version": "1.5.0",
      "model_name": "ButtonStyleModel",
      "state": {}
     },
     "99f19230521f4ea293bd26c01993cc1a": {
      "model_module": "@jupyter-widgets/controls",
      "model_module_version": "1.5.0",
      "model_name": "VBoxModel",
      "state": {
       "children": [
        "IPY_MODEL_4bd89214020444ea957bced59ec641c7",
        "IPY_MODEL_993f101b5f234de7b2d36053100ec963",
        "IPY_MODEL_c86151c8ac1b480384476d4a8d7f2d94"
       ],
       "layout": "IPY_MODEL_75667316dfd546dbab746075162a21ca"
      }
     },
     "9a0276c2864f46c8a647557e8be45719": {
      "model_module": "@jupyter-widgets/controls",
      "model_module_version": "1.5.0",
      "model_name": "DescriptionStyleModel",
      "state": {
       "description_width": ""
      }
     },
     "9a03fcd2398e47889ded66b0a77566df": {
      "model_module": "@jupyter-widgets/base",
      "model_module_version": "1.2.0",
      "model_name": "LayoutModel",
      "state": {
       "width": "250px"
      }
     },
     "9a13c9ca70fc4164afd6f7bebd1913c7": {
      "model_module": "@jupyter-widgets/controls",
      "model_module_version": "1.5.0",
      "model_name": "VBoxModel",
      "state": {
       "children": [
        "IPY_MODEL_bf6fff98d0024605b1666d87452d0752",
        "IPY_MODEL_b61a2d0cfd254b5b88a3f4631cb1f8fa",
        "IPY_MODEL_5fadbcede32f45a4968d27106e4c2082"
       ],
       "layout": "IPY_MODEL_1cc466b43f7f4aed91e3a0e66e4ad016"
      }
     },
     "9a2388ca235b4a428a7feef02ff756f0": {
      "model_module": "@jupyter-widgets/controls",
      "model_module_version": "1.5.0",
      "model_name": "HTMLModel",
      "state": {
       "layout": "IPY_MODEL_4df5ad2001f0443081452af52df91a05",
       "style": "IPY_MODEL_0a696a39ccd04befa447739ac2f310fb",
       "value": "<h4 style=\"font-size:14px;\">Was gilt immer für das Ergebnis der Unifikation solcher Merkmalstrukturen?</h4>"
      }
     },
     "9a46906b92114b03a9d0b9887b90f635": {
      "model_module": "@jupyter-widgets/base",
      "model_module_version": "1.2.0",
      "model_name": "LayoutModel",
      "state": {
       "width": "250px"
      }
     },
     "9a5e5ceefc1645d582e3a58b0ed611ab": {
      "model_module": "@jupyter-widgets/controls",
      "model_module_version": "1.5.0",
      "model_name": "HTMLModel",
      "state": {
       "layout": "IPY_MODEL_2b5b6a1373ab44cdb7eda20a6097a047",
       "style": "IPY_MODEL_fb2b5e1513b142079049645c8ca47b72",
       "value": "<i>Wählen Sie die <ins>eine</ins> korrekte Antwort aus: </i>"
      }
     },
     "9a6a16bdb3144f4f9dde5d044f999119": {
      "model_module": "@jupyter-widgets/controls",
      "model_module_version": "1.5.0",
      "model_name": "ButtonStyleModel",
      "state": {}
     },
     "9a6a4b8e776f46eeb80337b127cf2e82": {
      "model_module": "@jupyter-widgets/base",
      "model_module_version": "1.2.0",
      "model_name": "LayoutModel",
      "state": {
       "width": "250px"
      }
     },
     "9a92cc68660a4c138ab17d96000afc65": {
      "model_module": "@jupyter-widgets/controls",
      "model_module_version": "1.5.0",
      "model_name": "DescriptionStyleModel",
      "state": {
       "description_width": "initial"
      }
     },
     "9a9da604075a4607b84810453741fef4": {
      "model_module": "@jupyter-widgets/controls",
      "model_module_version": "1.5.0",
      "model_name": "HBoxModel",
      "state": {
       "children": [
        "IPY_MODEL_d71d7b46aa6e400782a49ee19c5702bd",
        "IPY_MODEL_ef42906d9c9343548afe94932c9e620f"
       ],
       "layout": "IPY_MODEL_7c0bfe9294da4358a96664a2a31b4af5"
      }
     },
     "9aa1c9a3c94941328f843ac6bb5721a8": {
      "model_module": "@jupyter-widgets/controls",
      "model_module_version": "1.5.0",
      "model_name": "ButtonModel",
      "state": {
       "description": "schwache Deklination",
       "layout": "IPY_MODEL_35ca58bb271d405085d255a06d5bef86",
       "style": "IPY_MODEL_df0d4b366e64485eb53a2a971bd005af"
      }
     },
     "9aa8c270acec4f5daaa457e29a576a6a": {
      "model_module": "@jupyter-widgets/base",
      "model_module_version": "1.2.0",
      "model_name": "LayoutModel",
      "state": {
       "width": "250px"
      }
     },
     "9ac58a65eba2424a8de2ddefdbfad1ed": {
      "model_module": "@jupyter-widgets/controls",
      "model_module_version": "1.5.0",
      "model_name": "ButtonStyleModel",
      "state": {}
     },
     "9adfd0580df649b595247f42b757879e": {
      "model_module": "@jupyter-widgets/controls",
      "model_module_version": "1.5.0",
      "model_name": "DescriptionStyleModel",
      "state": {
       "description_width": ""
      }
     },
     "9af0c98dd5ea451ba37129538644dae3": {
      "model_module": "@jupyter-widgets/base",
      "model_module_version": "1.2.0",
      "model_name": "LayoutModel",
      "state": {}
     },
     "9af43b1b0baa4a06836027ecdee2d263": {
      "model_module": "@jupyter-widgets/controls",
      "model_module_version": "1.5.0",
      "model_name": "ButtonModel",
      "state": {
       "description": "Korrekt?",
       "layout": "IPY_MODEL_610914ff05dc488cb802603eaffff88c",
       "style": "IPY_MODEL_b05c9167e52f4485b16fbacee8e068f2"
      }
     },
     "9b23a83fe6b94d46a4753159c9bfef17": {
      "model_module": "@jupyter-widgets/controls",
      "model_module_version": "1.5.0",
      "model_name": "ButtonModel",
      "state": {
       "description": "Time",
       "layout": "IPY_MODEL_9a03fcd2398e47889ded66b0a77566df",
       "style": "IPY_MODEL_c4ebcbeebc79449688907e0e8895ac92"
      }
     },
     "9b31b941a4be452fbb0dde5a47a6a0f1": {
      "model_module": "@jupyter-widgets/controls",
      "model_module_version": "1.5.0",
      "model_name": "HTMLModel",
      "state": {
       "layout": "IPY_MODEL_d12cb4c3e16d41ecbe17ecf26584cc82",
       "style": "IPY_MODEL_71ea2fd11c904800b18ce939b0d3b7a6",
       "value": "<h4 style=\"font-size:14px;\">Wie läßt sich im NLTK ein äquivalenter Pfad definieren?</h4>"
      }
     },
     "9b428c76e0cd4f17afa4b7124d644f72": {
      "model_module": "@jupyter-widgets/controls",
      "model_module_version": "1.5.0",
      "model_name": "HTMLModel",
      "state": {
       "layout": "IPY_MODEL_7352e129c14e41ccb6d6b12cb1dee28b",
       "style": "IPY_MODEL_dc076cb7216a49199f951056faa585e8",
       "value": "<h4 style=\"font-size:14px;\">keine</h4>"
      }
     },
     "9b5ecf89037a46af9021649945184432": {
      "model_module": "@jupyter-widgets/controls",
      "model_module_version": "1.5.0",
      "model_name": "CheckboxModel",
      "state": {
       "description": "FS0 = [CAT = N, GEN = FEM], FS1 = [CAT = DET, GEN = FEM]",
       "disabled": false,
       "layout": "IPY_MODEL_7a7ad781b9a342fd93b56134feca5260",
       "style": "IPY_MODEL_0dd2ef1624ad4d62985ac1c1344a0fc3",
       "value": false
      }
     },
     "9b9ca50b944f47c6b5b43b8bec42a1ae": {
      "model_module": "@jupyter-widgets/controls",
      "model_module_version": "1.5.0",
      "model_name": "ButtonModel",
      "state": {
       "description": "Korrekt?",
       "layout": "IPY_MODEL_44f4c4d26a8f48058e9033dc64832f2e",
       "style": "IPY_MODEL_5acada9334824993b8230ffbd367bb0c"
      }
     },
     "9bc0322bdfba4f81b694c4bf21d613a9": {
      "model_module": "@jupyter-widgets/controls",
      "model_module_version": "1.5.0",
      "model_name": "ButtonStyleModel",
      "state": {}
     },
     "9bcab80062c1420a99066d3caa2954fe": {
      "model_module": "@jupyter-widgets/controls",
      "model_module_version": "1.5.0",
      "model_name": "DescriptionStyleModel",
      "state": {
       "description_width": ""
      }
     },
     "9bd279aa8a6641a48837381f521a7651": {
      "model_module": "@jupyter-widgets/controls",
      "model_module_version": "1.5.0",
      "model_name": "DescriptionStyleModel",
      "state": {
       "description_width": "initial"
      }
     },
     "9bdf28ea70224595b77bdee9eb1eff0c": {
      "model_module": "@jupyter-widgets/base",
      "model_module_version": "1.2.0",
      "model_name": "LayoutModel",
      "state": {}
     },
     "9c049d4f158e4e2fae664be351b1b1fc": {
      "model_module": "@jupyter-widgets/controls",
      "model_module_version": "1.5.0",
      "model_name": "ButtonModel",
      "state": {
       "description": "Zeitangabe",
       "layout": "IPY_MODEL_c0cdea57ef7f4ee3abc39ebc37c10ae4",
       "style": "IPY_MODEL_d586f051fbe94f62aa53312c650368d2"
      }
     },
     "9c84fa49b7a146b58751489eadd203dc": {
      "model_module": "@jupyter-widgets/base",
      "model_module_version": "1.2.0",
      "model_name": "LayoutModel",
      "state": {}
     },
     "9cb956ac6f3b40e4a8e893fa72aff670": {
      "model_module": "@jupyter-widgets/controls",
      "model_module_version": "1.5.0",
      "model_name": "CheckboxModel",
      "state": {
       "description": "FS0 = [CAT = N, GEN = FEM], FS1 = [CAT = DET, GEN = FEM]",
       "disabled": false,
       "layout": "IPY_MODEL_bffe3e7bc76f428c8fd8280514304b65",
       "style": "IPY_MODEL_9a92cc68660a4c138ab17d96000afc65",
       "value": false
      }
     },
     "9cc2ac8159e042eb9911f94163b4c6c4": {
      "model_module": "@jupyter-widgets/controls",
      "model_module_version": "1.5.0",
      "model_name": "ButtonModel",
      "state": {
       "description": "tuple",
       "layout": "IPY_MODEL_26e40634819a41d69f0f6908e47d10e8",
       "style": "IPY_MODEL_b5d40cf8452c4330b171198f3ae477f3"
      }
     },
     "9cec89ff608c46009bf19f46a18b4232": {
      "model_module": "@jupyter-widgets/base",
      "model_module_version": "1.2.0",
      "model_name": "LayoutModel",
      "state": {
       "width": "600px"
      }
     },
     "9d224fb8d32d4009b88a7ce61306e009": {
      "model_module": "@jupyter-widgets/base",
      "model_module_version": "1.2.0",
      "model_name": "LayoutModel",
      "state": {
       "width": "250px"
      }
     },
     "9d3c90ce4764424487f32920888ba8d9": {
      "model_module": "@jupyter-widgets/controls",
      "model_module_version": "1.5.0",
      "model_name": "ButtonModel",
      "state": {
       "description": "Korrekt?",
       "layout": "IPY_MODEL_17fd5b059f5349d6a93f8b3ec676a007",
       "style": "IPY_MODEL_3e6e078913774958b86fcaaace64d0d1"
      }
     },
     "9d613195d0034d9f8a1011f5a64761c6": {
      "model_module": "@jupyter-widgets/controls",
      "model_module_version": "1.5.0",
      "model_name": "DropdownModel",
      "state": {
       "_options_labels": [
        "Genusmarkierung",
        "Kasusmarkierung",
        " "
       ],
       "index": 2,
       "layout": "IPY_MODEL_e0ba272c0d5545f3b8c4501054c7d1f6",
       "style": "IPY_MODEL_74c300f855614759b00e42ca822e9b95"
      }
     },
     "9d80631a4e2e4509aa7baeef2939e3e2": {
      "model_module": "@jupyter-widgets/controls",
      "model_module_version": "1.5.0",
      "model_name": "DescriptionStyleModel",
      "state": {
       "description_width": "initial"
      }
     },
     "9d91cfd4d2094fa1837493e1c50e8bcc": {
      "model_module": "@jupyter-widgets/base",
      "model_module_version": "1.2.0",
      "model_name": "LayoutModel",
      "state": {
       "width": "250px"
      }
     },
     "9dc28601dd22442e995f1a524600cafa": {
      "model_module": "@jupyter-widgets/controls",
      "model_module_version": "1.5.0",
      "model_name": "HTMLModel",
      "state": {
       "layout": "IPY_MODEL_0b1db30145884271a3a8892f0ecaaa88",
       "style": "IPY_MODEL_cb666b639ef74f5d914687852ed83328",
       "value": "<i>Wählen Sie die <ins>eine</ins> korrekte Antwort aus: </i>"
      }
     },
     "9dc29e2b3521418582231a3a8530c477": {
      "model_module": "@jupyter-widgets/controls",
      "model_module_version": "1.5.0",
      "model_name": "CheckboxModel",
      "state": {
       "description": "Passivierung (Objekt-Promotion)",
       "disabled": false,
       "layout": "IPY_MODEL_f355e1a826a342ed98e7abe00342e03c",
       "style": "IPY_MODEL_db630821bb48450b96014010e0b41aa4",
       "value": false
      }
     },
     "9e15557ae02141fca00c100f7ec4bedd": {
      "model_module": "@jupyter-widgets/controls",
      "model_module_version": "1.5.0",
      "model_name": "ButtonModel",
      "state": {
       "description": "starke Deklination",
       "layout": "IPY_MODEL_5acf87399fec4720b3eba7960360c2d1",
       "style": "IPY_MODEL_1700413da49f42438bfdbc1c180bc198"
      }
     },
     "9e48d481b5674ef8bda9cd4f53ccae94": {
      "model_module": "@jupyter-widgets/controls",
      "model_module_version": "1.5.0",
      "model_name": "DescriptionStyleModel",
      "state": {
       "description_width": "initial"
      }
     },
     "9e5ad592e5954855be8386b19a4875d5": {
      "model_module": "@jupyter-widgets/base",
      "model_module_version": "1.2.0",
      "model_name": "LayoutModel",
      "state": {
       "width": "250px"
      }
     },
     "9e6eeaddf1754d79992c18ae432be75d": {
      "model_module": "@jupyter-widgets/controls",
      "model_module_version": "1.5.0",
      "model_name": "DescriptionStyleModel",
      "state": {
       "description_width": "initial"
      }
     },
     "9e72b630e7704d0fa4e44f3a46651b17": {
      "model_module": "@jupyter-widgets/controls",
      "model_module_version": "1.5.0",
      "model_name": "HBoxModel",
      "state": {
       "children": [
        "IPY_MODEL_4ac132a0195c49a99d4dac30c6c3f09e",
        "IPY_MODEL_ff7d1dcc8cdd4a5f9d20fc9666aa44c2"
       ],
       "layout": "IPY_MODEL_7faff810eecc4873bfe1ace61fecd1ba"
      }
     },
     "9ec16f9fee7b474897b0ee530cab2e36": {
      "model_module": "@jupyter-widgets/base",
      "model_module_version": "1.2.0",
      "model_name": "LayoutModel",
      "state": {
       "width": "250px"
      }
     },
     "9eca3d9e47bd4026abb3dfd61d521d74": {
      "model_module": "@jupyter-widgets/controls",
      "model_module_version": "1.5.0",
      "model_name": "CheckboxModel",
      "state": {
       "description": "FS0 = [CAT = N, GEN = FEM], FS1 = [CAT = N, GEN = FEM]",
       "disabled": false,
       "layout": "IPY_MODEL_332b4eb619244d5aa1e4803a3f4e2c80",
       "style": "IPY_MODEL_edafd58deadc436e9e4dbb2ecb007d17",
       "value": false
      }
     },
     "9ed54aafcfae419ca81669033eae95c5": {
      "model_module": "@jupyter-widgets/base",
      "model_module_version": "1.2.0",
      "model_name": "LayoutModel",
      "state": {
       "width": "600px"
      }
     },
     "9f220a04afa645149efc8aefa275df59": {
      "model_module": "@jupyter-widgets/base",
      "model_module_version": "1.2.0",
      "model_name": "LayoutModel",
      "state": {
       "width": "600px"
      }
     },
     "9f320f910e6041c8986903870fe9ffe7": {
      "model_module": "@jupyter-widgets/base",
      "model_module_version": "1.2.0",
      "model_name": "LayoutModel",
      "state": {
       "width": "600px"
      }
     },
     "9f682990588c4615967a5310f6d48c81": {
      "model_module": "@jupyter-widgets/controls",
      "model_module_version": "1.5.0",
      "model_name": "CheckboxModel",
      "state": {
       "description": "FS0 = [CAT = N, GEN = FEM], FS1 = [CAT = DET, GEN = FEM]",
       "disabled": false,
       "layout": "IPY_MODEL_774ce1bb1e62471c9d92c875cfb9d1bc",
       "style": "IPY_MODEL_0d6e2dc8109e4ade9aedc7fa18677c62",
       "value": false
      }
     },
     "9f71f4ab781948089db067c0ad812a7c": {
      "model_module": "@jupyter-widgets/controls",
      "model_module_version": "1.5.0",
      "model_name": "VBoxModel",
      "state": {
       "children": [
        "IPY_MODEL_d501ce065d7a4d4fa4b7227a09f5de44",
        "IPY_MODEL_a81be4b3aa644c25a98723c31c9ecfdf",
        "IPY_MODEL_d0d9efd1413040da80f60754e51b5d9e"
       ],
       "layout": "IPY_MODEL_a978e09e41e6493e8956bab98a7689dc"
      }
     },
     "9f7ace506a504cae9b20e1cb8b7f62e4": {
      "model_module": "@jupyter-widgets/base",
      "model_module_version": "1.2.0",
      "model_name": "LayoutModel",
      "state": {}
     },
     "9f8969bdd3054b94b1ad4c028bef4655": {
      "model_module": "@jupyter-widgets/base",
      "model_module_version": "1.2.0",
      "model_name": "LayoutModel",
      "state": {
       "justify_content": "center"
      }
     },
     "9f9f28c421f44d52981fca57851a878d": {
      "model_module": "@jupyter-widgets/controls",
      "model_module_version": "1.5.0",
      "model_name": "DescriptionStyleModel",
      "state": {
       "description_width": ""
      }
     },
     "9fc364d8cab24955b0d2006cf811024e": {
      "model_module": "@jupyter-widgets/controls",
      "model_module_version": "1.5.0",
      "model_name": "DescriptionStyleModel",
      "state": {
       "description_width": ""
      }
     },
     "9fdb5f0e5c0f4f4b9810f50c0c5b228f": {
      "model_module": "@jupyter-widgets/base",
      "model_module_version": "1.2.0",
      "model_name": "LayoutModel",
      "state": {}
     },
     "9fe3bc025e9c462eaed524f35b53ea9a": {
      "model_module": "@jupyter-widgets/controls",
      "model_module_version": "1.5.0",
      "model_name": "DescriptionStyleModel",
      "state": {
       "description_width": "initial"
      }
     },
     "9ffed59516c047bcbf3b5a69cafe3289": {
      "model_module": "@jupyter-widgets/controls",
      "model_module_version": "1.5.0",
      "model_name": "DescriptionStyleModel",
      "state": {
       "description_width": ""
      }
     },
     "a064f2a8cc6a441cbb3b076e4001dcdb": {
      "model_module": "@jupyter-widgets/base",
      "model_module_version": "1.2.0",
      "model_name": "LayoutModel",
      "state": {
       "width": "600px"
      }
     },
     "a0741364c7a34205a057c62abbcedf6b": {
      "model_module": "@jupyter-widgets/base",
      "model_module_version": "1.2.0",
      "model_name": "LayoutModel",
      "state": {
       "width": "250px"
      }
     },
     "a083a3be8caf474cb0510041fe6a9146": {
      "model_module": "@jupyter-widgets/controls",
      "model_module_version": "1.5.0",
      "model_name": "DescriptionStyleModel",
      "state": {
       "description_width": ""
      }
     },
     "a0850fcdc2474d57b3c18c7fca139c3a": {
      "model_module": "@jupyter-widgets/controls",
      "model_module_version": "1.5.0",
      "model_name": "CheckboxModel",
      "state": {
       "description": "FS0 = [CAT = N, GEN = FEM], FS1 = [CAT = N, GEN = FEM]",
       "disabled": false,
       "layout": "IPY_MODEL_633bc245bc0346b9844fba4cbf7b3371",
       "style": "IPY_MODEL_7e24bbd1b6ff4d81a24172dd130d5fdd",
       "value": false
      }
     },
     "a0986d8a91784f1da0b5f9b14896d1b8": {
      "model_module": "@jupyter-widgets/controls",
      "model_module_version": "1.5.0",
      "model_name": "HBoxModel",
      "state": {
       "children": [
        "IPY_MODEL_e289ff38f15b401a9c654060d9a472dc"
       ],
       "layout": "IPY_MODEL_4aa758a318cd44faba4f5c7f6464aa69"
      }
     },
     "a099c5d5cb204752b799b61a75825c83": {
      "model_module": "@jupyter-widgets/controls",
      "model_module_version": "1.5.0",
      "model_name": "CheckboxModel",
      "state": {
       "description": "Sie werden aus der Eingabe extrahiert (feature extraction)",
       "disabled": false,
       "layout": "IPY_MODEL_88ea813807484c5f92805a0c4eacba51",
       "style": "IPY_MODEL_10a8aabef562402594eff25d47a887d2",
       "value": false
      }
     },
     "a0a4e98d2d6a45908dedaa288591957a": {
      "model_module": "@jupyter-widgets/controls",
      "model_module_version": "1.5.0",
      "model_name": "DescriptionStyleModel",
      "state": {
       "description_width": ""
      }
     },
     "a0ba1f4ad23946bd9b6fff646f18a78e": {
      "model_module": "@jupyter-widgets/controls",
      "model_module_version": "1.5.0",
      "model_name": "DescriptionStyleModel",
      "state": {
       "description_width": ""
      }
     },
     "a0ca5ca775cb4bf9b2696dd9ae94e2b3": {
      "model_module": "@jupyter-widgets/controls",
      "model_module_version": "1.5.0",
      "model_name": "ButtonModel",
      "state": {
       "description": "Instrument",
       "layout": "IPY_MODEL_ec6241723cdb44b4822dd7b5311540aa",
       "style": "IPY_MODEL_ce7547ff3d0e44c09906fd04f3eded96"
      }
     },
     "a0d444b4db6f4ade8e7c12be1a6365ad": {
      "model_module": "@jupyter-widgets/controls",
      "model_module_version": "1.5.0",
      "model_name": "ButtonStyleModel",
      "state": {}
     },
     "a0e8c87ea61149f291e556583c9c0eab": {
      "model_module": "@jupyter-widgets/controls",
      "model_module_version": "1.5.0",
      "model_name": "DescriptionStyleModel",
      "state": {
       "description_width": ""
      }
     },
     "a11183e0fb804e75a167ad38869357bd": {
      "model_module": "@jupyter-widgets/controls",
      "model_module_version": "1.5.0",
      "model_name": "DescriptionStyleModel",
      "state": {
       "description_width": ""
      }
     },
     "a11f5d9d4c584cf5bb5aca5374454a69": {
      "model_module": "@jupyter-widgets/base",
      "model_module_version": "1.2.0",
      "model_name": "LayoutModel",
      "state": {
       "width": "600px"
      }
     },
     "a129bf24c3454d8da66f9c31f0d1930f": {
      "model_module": "@jupyter-widgets/base",
      "model_module_version": "1.2.0",
      "model_name": "LayoutModel",
      "state": {}
     },
     "a145986b873a4ecf8c4a59f39eed6b3c": {
      "model_module": "@jupyter-widgets/controls",
      "model_module_version": "1.5.0",
      "model_name": "VBoxModel",
      "state": {
       "children": [
        "IPY_MODEL_eb8042d2b8fe45db9e939b5d7f8cab93",
        "IPY_MODEL_1cbfa76b563e444ca7b765531e602622",
        "IPY_MODEL_7588455061254ec6b468e00f0b8515c1",
        "IPY_MODEL_1a213285aeea4a029604f7dabb4175bc"
       ],
       "layout": "IPY_MODEL_077c98cae48f4ce7aa9e8a4a002e0ede"
      }
     },
     "a153042a9f394972abe6621d4044fa12": {
      "model_module": "@jupyter-widgets/controls",
      "model_module_version": "1.5.0",
      "model_name": "CheckboxModel",
      "state": {
       "description": "Die Form vom Adjektiven hängt niemals von irgendeinem Genus ab.",
       "disabled": false,
       "layout": "IPY_MODEL_7fc8e733badc467d94c7e5c96e9d8c1a",
       "style": "IPY_MODEL_e60baf57806345f5aa992fcbec4c6f8b",
       "value": false
      }
     },
     "a16b48e21dc941dc906d8aeb63855c72": {
      "model_module": "@jupyter-widgets/controls",
      "model_module_version": "1.5.0",
      "model_name": "HTMLModel",
      "state": {
       "layout": "IPY_MODEL_f7d55ca232fe4100b9f1f13cb0e27806",
       "style": "IPY_MODEL_b94a6222c14d43aaadc46c2cbf838f48",
       "value": "<i>Wählen Sie die <ins>eine</ins> korrekte Antwort aus: </i>"
      }
     },
     "a1e6e37b2de045bdbea049439daf5b96": {
      "model_module": "@jupyter-widgets/controls",
      "model_module_version": "1.5.0",
      "model_name": "CheckboxModel",
      "state": {
       "description": "FS0 = [CAT = N], FS1 = [CAT = N, GEN = MASK]",
       "disabled": false,
       "layout": "IPY_MODEL_e33c52226d304b918373e712538eb36c",
       "style": "IPY_MODEL_1c70605f3a1248e88f2aee915a6e0183",
       "value": false
      }
     },
     "a1ed68964da644d4bfb97a784e007cdd": {
      "model_module": "@jupyter-widgets/base",
      "model_module_version": "1.2.0",
      "model_name": "LayoutModel",
      "state": {}
     },
     "a25e674ff6824639b33bb103d4870549": {
      "model_module": "@jupyter-widgets/controls",
      "model_module_version": "1.5.0",
      "model_name": "DescriptionStyleModel",
      "state": {
       "description_width": "initial"
      }
     },
     "a2689e787f054754ae2f915f0670f7bc": {
      "model_module": "@jupyter-widgets/controls",
      "model_module_version": "1.5.0",
      "model_name": "CheckboxModel",
      "state": {
       "description": "Es muss immer ein Agens vorhanden sein.",
       "disabled": false,
       "layout": "IPY_MODEL_b4796a215f464e2e90c22b63ca143577",
       "style": "IPY_MODEL_1e37c9ae414e4178a229879279a2605f",
       "value": false
      }
     },
     "a26ef62dd2d0434f9a633160380fb2a2": {
      "model_module": "@jupyter-widgets/controls",
      "model_module_version": "1.5.0",
      "model_name": "ButtonModel",
      "state": {
       "description": "Benefaktiv",
       "layout": "IPY_MODEL_7c7eed83b382416195438747050b01f2",
       "style": "IPY_MODEL_e1196946d9ca46a285b4b55eb70a6799"
      }
     },
     "a297e2a389084ab2a642e050ac0856b5": {
      "model_module": "@jupyter-widgets/controls",
      "model_module_version": "1.5.0",
      "model_name": "VBoxModel",
      "state": {
       "children": [
        "IPY_MODEL_9a2388ca235b4a428a7feef02ff756f0",
        "IPY_MODEL_bf06f0b8aa2f4db0b604d17c2f0d7653",
        "IPY_MODEL_6423f7c46a94408887c01ab04b698263",
        "IPY_MODEL_4c0ace135c3a48e7845085e00c9c6cd6"
       ],
       "layout": "IPY_MODEL_d49df03e8dff45358c01fae5190c15d9"
      }
     },
     "a2b76c2d76434318932d4b6a9c9e532a": {
      "model_module": "@jupyter-widgets/controls",
      "model_module_version": "1.5.0",
      "model_name": "VBoxModel",
      "state": {
       "children": [
        "IPY_MODEL_7c4f955d7b63421d9fe3f7fc3862c313",
        "IPY_MODEL_304aa20b08cc4dd094ec92edb8b05d27",
        "IPY_MODEL_404e00eea05a4965af57846ddf91572e",
        "IPY_MODEL_2f6366744fac4fab807b98188ef39b81"
       ],
       "layout": "IPY_MODEL_44bf348c31c04e96b6bf85a357cd6c03"
      }
     },
     "a2b995b31abf4d23b1ee4429132a9866": {
      "model_module": "@jupyter-widgets/controls",
      "model_module_version": "1.5.0",
      "model_name": "ButtonModel",
      "state": {
       "description": "Korrekt?",
       "layout": "IPY_MODEL_fefaf84e5095428cbf842e25cf9d72dc",
       "style": "IPY_MODEL_0851d18ada6440bda7e9ed77931249d6"
      }
     },
     "a2e35eb960ad41afb04a47e3074fc55c": {
      "model_module": "@jupyter-widgets/controls",
      "model_module_version": "1.5.0",
      "model_name": "CheckboxModel",
      "state": {
       "description": "Der Artikel übernimmt z. T. die Kasusmarkierung.",
       "disabled": false,
       "layout": "IPY_MODEL_a31c7609a7904bd89db56cc7cf2987df",
       "style": "IPY_MODEL_ef07fb7b2ef24da18499168aac68c326",
       "value": false
      }
     },
     "a2eb711576c649b5b40c8d1e20f4c4e9": {
      "model_module": "@jupyter-widgets/controls",
      "model_module_version": "1.5.0",
      "model_name": "CheckboxModel",
      "state": {
       "description": "Subjekt-Demotion zu Adverbial",
       "disabled": false,
       "layout": "IPY_MODEL_2e2fb29eaf474f319f04317921611548",
       "style": "IPY_MODEL_9d80631a4e2e4509aa7baeef2939e3e2",
       "value": false
      }
     },
     "a2ece96ac94041a19ef6e8c23e0db2c1": {
      "model_module": "@jupyter-widgets/controls",
      "model_module_version": "1.5.0",
      "model_name": "ButtonModel",
      "state": {
       "description": "Recipient",
       "layout": "IPY_MODEL_194c1e57c70b4184ae21872abfb2e8f9",
       "style": "IPY_MODEL_324a0de4227e4c99a7db0dc4b3376542"
      }
     },
     "a309ef0230db46489f4bb912d99d200a": {
      "model_module": "@jupyter-widgets/controls",
      "model_module_version": "1.5.0",
      "model_name": "VBoxModel",
      "state": {
       "children": [
        "IPY_MODEL_4fa457542f334f4b8726ddc8c14c7753",
        "IPY_MODEL_b4178740b1224d88ae5c7195849b94ce",
        "IPY_MODEL_915d29c6160b4984ac42658a94ceb43b",
        "IPY_MODEL_f12a260e5c5a40588eee243567460ed9"
       ],
       "layout": "IPY_MODEL_db279db6e7df4f7bad9792e15a59b924"
      }
     },
     "a31c7609a7904bd89db56cc7cf2987df": {
      "model_module": "@jupyter-widgets/base",
      "model_module_version": "1.2.0",
      "model_name": "LayoutModel",
      "state": {
       "width": "600px"
      }
     },
     "a341d5b8374742c1aee10359ac050136": {
      "model_module": "@jupyter-widgets/controls",
      "model_module_version": "1.5.0",
      "model_name": "DescriptionStyleModel",
      "state": {
       "description_width": "initial"
      }
     },
     "a372af99d6ce41369e8e9368b63466f6": {
      "model_module": "@jupyter-widgets/base",
      "model_module_version": "1.2.0",
      "model_name": "LayoutModel",
      "state": {
       "width": "250px"
      }
     },
     "a38627902ab54303bf8b300849a49d00": {
      "model_module": "@jupyter-widgets/controls",
      "model_module_version": "1.5.0",
      "model_name": "ButtonModel",
      "state": {
       "description": "Ja",
       "layout": "IPY_MODEL_f2206f2cbde140d9a8c0d0ec4ea62d0f",
       "style": "IPY_MODEL_19d16aa9e4934738a41baf465f287875"
      }
     },
     "a392005f0f0d4b6594cadd04a276abb5": {
      "model_module": "@jupyter-widgets/controls",
      "model_module_version": "1.5.0",
      "model_name": "ButtonStyleModel",
      "state": {}
     },
     "a3e7d157048c4e09826c211af735bb96": {
      "model_module": "@jupyter-widgets/controls",
      "model_module_version": "1.5.0",
      "model_name": "DescriptionStyleModel",
      "state": {
       "description_width": "initial"
      }
     },
     "a458bca922074508a5c7e55207c3edcf": {
      "model_module": "@jupyter-widgets/base",
      "model_module_version": "1.2.0",
      "model_name": "LayoutModel",
      "state": {}
     },
     "a4785ac030e3499199f437c20bcb9e8c": {
      "model_module": "@jupyter-widgets/base",
      "model_module_version": "1.2.0",
      "model_name": "LayoutModel",
      "state": {
       "width": "250px"
      }
     },
     "a481a3c7eca6473c861661ee57302b57": {
      "model_module": "@jupyter-widgets/base",
      "model_module_version": "1.2.0",
      "model_name": "LayoutModel",
      "state": {
       "width": "600px"
      }
     },
     "a485f607303d47a2b2e717940978ce3c": {
      "model_module": "@jupyter-widgets/controls",
      "model_module_version": "1.5.0",
      "model_name": "ButtonStyleModel",
      "state": {}
     },
     "a4ab8dd2764d4f75843bbbca1d948378": {
      "model_module": "@jupyter-widgets/controls",
      "model_module_version": "1.5.0",
      "model_name": "DescriptionStyleModel",
      "state": {
       "description_width": ""
      }
     },
     "a4d7f35dea1845488efbbb1d57517ca4": {
      "model_module": "@jupyter-widgets/controls",
      "model_module_version": "1.5.0",
      "model_name": "CheckboxModel",
      "state": {
       "description": "FS0 = [CAT = N, GEN = FEM], FS1 = [CAT = DET, GEN = FEM]",
       "disabled": false,
       "layout": "IPY_MODEL_35898d9406ac40f786c3f968a4c89026",
       "style": "IPY_MODEL_8f5c426a90404153aefd98d5aa3b7930",
       "value": false
      }
     },
     "a4fd4f753f58471e93cc2eca78308362": {
      "model_module": "@jupyter-widgets/controls",
      "model_module_version": "1.5.0",
      "model_name": "VBoxModel",
      "state": {
       "children": [
        "IPY_MODEL_3aa751cbac5c492b8c0bfdccd6f12241",
        "IPY_MODEL_7248ff995117432781e2defda0953a14",
        "IPY_MODEL_34e5292b048c4e0ca5a8f05a729f6feb"
       ],
       "layout": "IPY_MODEL_3d79efbedc4a44499d34e4917acecadf"
      }
     },
     "a50ff8a233cc4496afe315b6205ca6b8": {
      "model_module": "@jupyter-widgets/base",
      "model_module_version": "1.2.0",
      "model_name": "LayoutModel",
      "state": {
       "justify_content": "center"
      }
     },
     "a53121bca5da4b2486790065ba4dda49": {
      "model_module": "@jupyter-widgets/controls",
      "model_module_version": "1.5.0",
      "model_name": "CheckboxModel",
      "state": {
       "description": "Es ist die spezifischere Merkmalsstruktur.",
       "disabled": false,
       "layout": "IPY_MODEL_288a5d294d66448faea08920746126e2",
       "style": "IPY_MODEL_1290af5f19dd44898e65a4dd68dfc267",
       "value": false
      }
     },
     "a5615e9390fe47d699b52d5e17479de9": {
      "model_module": "@jupyter-widgets/controls",
      "model_module_version": "1.5.0",
      "model_name": "DescriptionStyleModel",
      "state": {
       "description_width": "initial"
      }
     },
     "a572fd45ebd640a4b91aee84c02eac5a": {
      "model_module": "@jupyter-widgets/base",
      "model_module_version": "1.2.0",
      "model_name": "LayoutModel",
      "state": {
       "width": "250px"
      }
     },
     "a59bdc91e0384fac8004039eac616e99": {
      "model_module": "@jupyter-widgets/base",
      "model_module_version": "1.2.0",
      "model_name": "LayoutModel",
      "state": {
       "width": "250px"
      }
     },
     "a5d6e29320f545b7ab6e2fcdc1dc88f1": {
      "model_module": "@jupyter-widgets/base",
      "model_module_version": "1.2.0",
      "model_name": "LayoutModel",
      "state": {
       "width": "600px"
      }
     },
     "a5f152ff9c064e559f202e5a2748a257": {
      "model_module": "@jupyter-widgets/controls",
      "model_module_version": "1.5.0",
      "model_name": "HTMLModel",
      "state": {
       "layout": "IPY_MODEL_aa734e829de94b7ba2c24e66e86c56bc",
       "style": "IPY_MODEL_7354c485f8c24661a4839c3a36f6512e",
       "value": "<i>Wählen Sie die <ins>eine</ins> korrekte Antwort aus: </i>"
      }
     },
     "a5f22990c91b40f9b4d72f4f69d4365a": {
      "model_module": "@jupyter-widgets/controls",
      "model_module_version": "1.5.0",
      "model_name": "VBoxModel",
      "state": {
       "children": [
        "IPY_MODEL_ab84185a52944cc38c96da3681bc5fa2",
        "IPY_MODEL_04d5f0e5f2944c9d93a2587ef0b2c256",
        "IPY_MODEL_ff816618ea634ff387db1637769887fe"
       ],
       "layout": "IPY_MODEL_7535798a57ab4cf99b7df679a9b700de"
      }
     },
     "a5f5d9f2d23e4ecdbd10c19e43cd826c": {
      "model_module": "@jupyter-widgets/controls",
      "model_module_version": "1.5.0",
      "model_name": "ButtonModel",
      "state": {
       "description": "schwache Deklination",
       "layout": "IPY_MODEL_02c693eaaa4b4e9bbbd5b76b7399c7d0",
       "style": "IPY_MODEL_63e59c60ee564e51aaa28ffad29c61eb"
      }
     },
     "a600f7c7d9b343ff9b371e484f4f81fe": {
      "model_module": "@jupyter-widgets/controls",
      "model_module_version": "1.5.0",
      "model_name": "HTMLModel",
      "state": {
       "layout": "IPY_MODEL_b66edaa166ee452bbb3e383a8a5e36dc",
       "style": "IPY_MODEL_c1a60887535a4602abd46082d5c93527",
       "value": "<h4 style=\"font-size:14px;\">Welche Aussagen gelten für Nominalphrasen mit bestimmtem Artikel?</h4>"
      }
     },
     "a61da3f8be0c4e4283d52a96dc3b824d": {
      "model_module": "@jupyter-widgets/controls",
      "model_module_version": "1.5.0",
      "model_name": "HBoxModel",
      "state": {
       "children": [
        "IPY_MODEL_779a441d725342f398800746c3c618c6",
        "IPY_MODEL_345c0df848f84aea8f8167af72260e38"
       ],
       "layout": "IPY_MODEL_dccd48cf45294e8896b2c8c443353358"
      }
     },
     "a61eb1c0f33f497789d5b6b1429ef482": {
      "model_module": "@jupyter-widgets/controls",
      "model_module_version": "1.5.0",
      "model_name": "DescriptionStyleModel",
      "state": {
       "description_width": "initial"
      }
     },
     "a62cedfa9b3249f091042014626b0691": {
      "model_module": "@jupyter-widgets/controls",
      "model_module_version": "1.5.0",
      "model_name": "DescriptionStyleModel",
      "state": {
       "description_width": ""
      }
     },
     "a63290af34a94de9b24f3d1f9f9457b4": {
      "model_module": "@jupyter-widgets/base",
      "model_module_version": "1.2.0",
      "model_name": "LayoutModel",
      "state": {
       "width": "250px"
      }
     },
     "a64fe018e143443da5e3f86c6c44694e": {
      "model_module": "@jupyter-widgets/base",
      "model_module_version": "1.2.0",
      "model_name": "LayoutModel",
      "state": {}
     },
     "a67fea0e5e3e405792fb62f76dc5a876": {
      "model_module": "@jupyter-widgets/controls",
      "model_module_version": "1.5.0",
      "model_name": "DescriptionStyleModel",
      "state": {
       "description_width": "initial"
      }
     },
     "a6a9013542a84e18ac7532b3f67b8aa1": {
      "model_module": "@jupyter-widgets/base",
      "model_module_version": "1.2.0",
      "model_name": "LayoutModel",
      "state": {
       "justify_content": "center"
      }
     },
     "a6c1d87b095447f3ba85243cdc22a1ba": {
      "model_module": "@jupyter-widgets/base",
      "model_module_version": "1.2.0",
      "model_name": "LayoutModel",
      "state": {
       "width": "600px"
      }
     },
     "a6cd8d45cca4486ba20e524a65fbc0d3": {
      "model_module": "@jupyter-widgets/base",
      "model_module_version": "1.2.0",
      "model_name": "LayoutModel",
      "state": {
       "width": "250px"
      }
     },
     "a6d6bd3d15714560ae86f315dbd17d22": {
      "model_module": "@jupyter-widgets/controls",
      "model_module_version": "1.5.0",
      "model_name": "HBoxModel",
      "state": {
       "children": [
        "IPY_MODEL_c83869c7472e4c4fb6b70eaf9cdf56b0",
        "IPY_MODEL_154785f879d34b9fbdb50764bdeece98"
       ],
       "layout": "IPY_MODEL_4c85dfedf2b84eafa02a089e98de4f6d"
      }
     },
     "a6e2be00362442c3986ad7d8f9a4b402": {
      "model_module": "@jupyter-widgets/base",
      "model_module_version": "1.2.0",
      "model_name": "LayoutModel",
      "state": {}
     },
     "a76e4de8d39a4c7192fe50728beeb9fa": {
      "model_module": "@jupyter-widgets/controls",
      "model_module_version": "1.5.0",
      "model_name": "HTMLModel",
      "state": {
       "layout": "IPY_MODEL_aed9523522a148589f43de07c4bfcd37",
       "style": "IPY_MODEL_fe18f301d335482db4763e803438cff6",
       "value": "<i>Markieren Sie <ins>alle</ins> passenden Antworten: </i>"
      }
     },
     "a77a6c51709646ff823e73c6e8be2657": {
      "model_module": "@jupyter-widgets/controls",
      "model_module_version": "1.5.0",
      "model_name": "HBoxModel",
      "state": {
       "children": [
        "IPY_MODEL_84817834547a4f309d58e11812b24ec1"
       ],
       "layout": "IPY_MODEL_ecc12d654a97489dbdf4ca7fb3b2a682"
      }
     },
     "a79ffe5b9be14cc8953480315550bab3": {
      "model_module": "@jupyter-widgets/base",
      "model_module_version": "1.2.0",
      "model_name": "LayoutModel",
      "state": {}
     },
     "a7ad8f5f47c74228bec793106c73149b": {
      "model_module": "@jupyter-widgets/base",
      "model_module_version": "1.2.0",
      "model_name": "LayoutModel",
      "state": {}
     },
     "a7f44d8f37ee4474b1dfd88c25ea743d": {
      "model_module": "@jupyter-widgets/base",
      "model_module_version": "1.2.0",
      "model_name": "LayoutModel",
      "state": {
       "width": "600px"
      }
     },
     "a80e16affcb6433daaa94cdf43c77f91": {
      "model_module": "@jupyter-widgets/controls",
      "model_module_version": "1.5.0",
      "model_name": "CheckboxModel",
      "state": {
       "description": "Sie werden aus der Eingabe extrahiert (feature extraction)",
       "disabled": false,
       "layout": "IPY_MODEL_4cdae430104446b29672bdb908605878",
       "style": "IPY_MODEL_0abc4d9e2ec847efa9ac4c2d84cb871b",
       "value": false
      }
     },
     "a81be4b3aa644c25a98723c31c9ecfdf": {
      "model_module": "@jupyter-widgets/controls",
      "model_module_version": "1.5.0",
      "model_name": "CheckboxModel",
      "state": {
       "description": "Das Adjektiv übernimmt die Genus- und z.T. die Kasusmarkierung.",
       "disabled": false,
       "layout": "IPY_MODEL_c951d41d2f1a40f88331c93195eb895c",
       "style": "IPY_MODEL_6cc69c55f23c4f22b28f54d700627c5c",
       "value": false
      }
     },
     "a81c525ed0f64dab8301976c87289361": {
      "model_module": "@jupyter-widgets/base",
      "model_module_version": "1.2.0",
      "model_name": "LayoutModel",
      "state": {}
     },
     "a8398811055b4e80ae85b12dc560e080": {
      "model_module": "@jupyter-widgets/controls",
      "model_module_version": "1.5.0",
      "model_name": "DescriptionStyleModel",
      "state": {
       "description_width": ""
      }
     },
     "a84839cf94af4272a3291a7180baf3d9": {
      "model_module": "@jupyter-widgets/base",
      "model_module_version": "1.2.0",
      "model_name": "LayoutModel",
      "state": {
       "width": "250px"
      }
     },
     "a854b572bd22420da3e5e4e258baf5d9": {
      "model_module": "@jupyter-widgets/base",
      "model_module_version": "1.2.0",
      "model_name": "LayoutModel",
      "state": {
       "width": "600px"
      }
     },
     "a857efbeacc242a499b6fb4c6a95e797": {
      "model_module": "@jupyter-widgets/controls",
      "model_module_version": "1.5.0",
      "model_name": "ButtonModel",
      "state": {
       "description": "Benefaktiv",
       "layout": "IPY_MODEL_48320e228fdb46459039bd9e6e9a2489",
       "style": "IPY_MODEL_4400362424804f85a8551860f6203bc5"
      }
     },
     "a8703e280de44fca90dffb569402a94f": {
      "model_module": "@jupyter-widgets/base",
      "model_module_version": "1.2.0",
      "model_name": "LayoutModel",
      "state": {
       "width": "600px"
      }
     },
     "a87fac0285e647a5b86e6fd690accd7f": {
      "model_module": "@jupyter-widgets/controls",
      "model_module_version": "1.5.0",
      "model_name": "ButtonStyleModel",
      "state": {}
     },
     "a8e871c8b57043cdbf0ec191222169fc": {
      "model_module": "@jupyter-widgets/base",
      "model_module_version": "1.2.0",
      "model_name": "LayoutModel",
      "state": {}
     },
     "a8ea1d40feb844dbb8f24b223d1d0c1e": {
      "model_module": "@jupyter-widgets/controls",
      "model_module_version": "1.5.0",
      "model_name": "DescriptionStyleModel",
      "state": {
       "description_width": "initial"
      }
     },
     "a94a73a4c89d4c06b8b5999cee5fd8b2": {
      "model_module": "@jupyter-widgets/controls",
      "model_module_version": "1.5.0",
      "model_name": "CheckboxModel",
      "state": {
       "description": "Passivierung (Objekt-Promotion)",
       "disabled": false,
       "layout": "IPY_MODEL_313d11a7b52a4d4eab11da9705976611",
       "style": "IPY_MODEL_36fef99e23f14eecb89aaa5bd8c86c0c",
       "value": false
      }
     },
     "a96cab14be504baa8739bc783ec08097": {
      "model_module": "@jupyter-widgets/base",
      "model_module_version": "1.2.0",
      "model_name": "LayoutModel",
      "state": {
       "justify_content": "center"
      }
     },
     "a97404ff4e0941e3a9daa95dce5b63e0": {
      "model_module": "@jupyter-widgets/controls",
      "model_module_version": "1.5.0",
      "model_name": "CheckboxModel",
      "state": {
       "description": "74; ('address', 'number')",
       "disabled": false,
       "layout": "IPY_MODEL_45a1f9e2200a450a963f3c9932fd8497",
       "style": "IPY_MODEL_d1d4ca3732bd4ecaab105b37d2f6af54",
       "value": false
      }
     },
     "a978e09e41e6493e8956bab98a7689dc": {
      "model_module": "@jupyter-widgets/base",
      "model_module_version": "1.2.0",
      "model_name": "LayoutModel",
      "state": {}
     },
     "a97eb937954543b1ad8e1d9bf086d5da": {
      "model_module": "@jupyter-widgets/controls",
      "model_module_version": "1.5.0",
      "model_name": "DescriptionStyleModel",
      "state": {
       "description_width": "initial"
      }
     },
     "a98b57c8a7b3475eabf360c90830e9bc": {
      "model_module": "@jupyter-widgets/base",
      "model_module_version": "1.2.0",
      "model_name": "LayoutModel",
      "state": {
       "width": "600px"
      }
     },
     "aa0558249df6425799380608bb1be1ef": {
      "model_module": "@jupyter-widgets/controls",
      "model_module_version": "1.5.0",
      "model_name": "DescriptionStyleModel",
      "state": {
       "description_width": "initial"
      }
     },
     "aa0e4823e0be4e30b220481743c777f4": {
      "model_module": "@jupyter-widgets/controls",
      "model_module_version": "1.5.0",
      "model_name": "ButtonStyleModel",
      "state": {}
     },
     "aa21ea00d4984d15879d3d411a26af68": {
      "model_module": "@jupyter-widgets/base",
      "model_module_version": "1.2.0",
      "model_name": "LayoutModel",
      "state": {}
     },
     "aa22020fc1304914829e2c5af45f187b": {
      "model_module": "@jupyter-widgets/controls",
      "model_module_version": "1.5.0",
      "model_name": "DescriptionStyleModel",
      "state": {
       "description_width": "initial"
      }
     },
     "aa42b4482b1946689ab99e67e7aae68b": {
      "model_module": "@jupyter-widgets/controls",
      "model_module_version": "1.5.0",
      "model_name": "DescriptionStyleModel",
      "state": {
       "description_width": "initial"
      }
     },
     "aa4fe5acc4284ddf99f434605055b5ac": {
      "model_module": "@jupyter-widgets/base",
      "model_module_version": "1.2.0",
      "model_name": "LayoutModel",
      "state": {}
     },
     "aa6453a85efb49ceb02c322e47de0d8b": {
      "model_module": "@jupyter-widgets/controls",
      "model_module_version": "1.5.0",
      "model_name": "HBoxModel",
      "state": {
       "children": [
        "IPY_MODEL_288d312b384a42c58c6d62dc3064f6c1",
        "IPY_MODEL_421e6ba36c3a4ea9bf3610746b1533c0"
       ],
       "layout": "IPY_MODEL_3bb722441c1b48d3a0934bdfa6f408f8"
      }
     },
     "aa703b6f4e234c4bb2d70bf8468639da": {
      "model_module": "@jupyter-widgets/base",
      "model_module_version": "1.2.0",
      "model_name": "LayoutModel",
      "state": {
       "justify_content": "center"
      }
     },
     "aa734e829de94b7ba2c24e66e86c56bc": {
      "model_module": "@jupyter-widgets/base",
      "model_module_version": "1.2.0",
      "model_name": "LayoutModel",
      "state": {
       "justify_content": "center"
      }
     },
     "aa7556a0d948430494b2ebf7bd89326d": {
      "model_module": "@jupyter-widgets/base",
      "model_module_version": "1.2.0",
      "model_name": "LayoutModel",
      "state": {
       "justify_content": "center"
      }
     },
     "aacb34c89b914ccd98fdc18fa3721070": {
      "model_module": "@jupyter-widgets/base",
      "model_module_version": "1.2.0",
      "model_name": "LayoutModel",
      "state": {
       "justify_content": "center"
      }
     },
     "ab2a797153fe4bbeafa2a33b416c8f6a": {
      "model_module": "@jupyter-widgets/controls",
      "model_module_version": "1.5.0",
      "model_name": "ButtonModel",
      "state": {
       "description": "stack",
       "layout": "IPY_MODEL_b106ec89b10f4b42afe49a9756dfe688",
       "style": "IPY_MODEL_e58bd119caee4a619359e1bd825cbedf"
      }
     },
     "ab54b6891f7e4861bae1ff85eea8f931": {
      "model_module": "@jupyter-widgets/controls",
      "model_module_version": "1.5.0",
      "model_name": "DescriptionStyleModel",
      "state": {
       "description_width": "initial"
      }
     },
     "ab588ec11e7c4b48895b3a8df7b57350": {
      "model_module": "@jupyter-widgets/controls",
      "model_module_version": "1.5.0",
      "model_name": "DropdownModel",
      "state": {
       "_options_labels": [
        "Genusmarkierung",
        "Kasusmarkierung",
        " "
       ],
       "index": 2,
       "layout": "IPY_MODEL_82d7e8ad977c49e582df6434e7151faf",
       "style": "IPY_MODEL_bf3034b136db4a06beb9ca99f1d2847d"
      }
     },
     "ab6b31c34ba54258be04752a94612fed": {
      "model_module": "@jupyter-widgets/base",
      "model_module_version": "1.2.0",
      "model_name": "LayoutModel",
      "state": {}
     },
     "ab82233ba6c74211a990ddc09c3aa560": {
      "model_module": "@jupyter-widgets/base",
      "model_module_version": "1.2.0",
      "model_name": "LayoutModel",
      "state": {
       "width": "600px"
      }
     },
     "ab84185a52944cc38c96da3681bc5fa2": {
      "model_module": "@jupyter-widgets/controls",
      "model_module_version": "1.5.0",
      "model_name": "CheckboxModel",
      "state": {
       "description": "Sie werden aktualisiert.",
       "disabled": false,
       "layout": "IPY_MODEL_b6e4571e7981441aa767b411963ee46a",
       "style": "IPY_MODEL_c0f66677da6f40e7a602cb2d2f6cfc2b",
       "value": false
      }
     },
     "ab8607e8d5c34a05925d7f3bb677a5dd": {
      "model_module": "@jupyter-widgets/controls",
      "model_module_version": "1.5.0",
      "model_name": "ButtonStyleModel",
      "state": {}
     },
     "ab8fe36dd068448ea18bdbec9cba1604": {
      "model_module": "@jupyter-widgets/controls",
      "model_module_version": "1.5.0",
      "model_name": "DescriptionStyleModel",
      "state": {
       "description_width": "initial"
      }
     },
     "abcef5365b554bf2bd9eebe91734bd60": {
      "model_module": "@jupyter-widgets/controls",
      "model_module_version": "1.5.0",
      "model_name": "ButtonModel",
      "state": {
       "description": "Korrekt?",
       "layout": "IPY_MODEL_a63290af34a94de9b24f3d1f9f9457b4",
       "style": "IPY_MODEL_025ccad94b1a48d3bb80ca26f2e87925"
      }
     },
     "abe376371a4242609b283338e6c19a4c": {
      "model_module": "@jupyter-widgets/controls",
      "model_module_version": "1.5.0",
      "model_name": "HTMLModel",
      "state": {
       "layout": "IPY_MODEL_45c252fce31249dab9a1506127dca7c2",
       "style": "IPY_MODEL_3c907d462b274933859de484d139d57b",
       "value": "<i>Wählen Sie die <ins>eine</ins> korrekte Antwort aus: </i>"
      }
     },
     "ac09404cacf14784ab4d726d62bccb2d": {
      "model_module": "@jupyter-widgets/controls",
      "model_module_version": "1.5.0",
      "model_name": "VBoxModel",
      "state": {
       "children": [
        "IPY_MODEL_100bbcfa16244612b6a79b11fe15c158",
        "IPY_MODEL_4df6c1cb0cff4c9ebdef714c8c94e068",
        "IPY_MODEL_7854a02796654ff69f5b661719ccdccb",
        "IPY_MODEL_8c2cfb5854d9416dbb7f6b3a3b450029"
       ],
       "layout": "IPY_MODEL_f549c6900d6544f68e1cb91eb3240bfe"
      }
     },
     "ac32b11066ee49dfb9521a50dadc81d9": {
      "model_module": "@jupyter-widgets/controls",
      "model_module_version": "1.5.0",
      "model_name": "DescriptionStyleModel",
      "state": {
       "description_width": "initial"
      }
     },
     "ac5098c81f974df19ee2eca3c4fa92c9": {
      "model_module": "@jupyter-widgets/controls",
      "model_module_version": "1.5.0",
      "model_name": "ButtonModel",
      "state": {
       "description": "Korrekt?",
       "layout": "IPY_MODEL_ac8d4f0754f54e0ba763b429ec7ca717",
       "style": "IPY_MODEL_1926ffed91284d46a806499507d507ad"
      }
     },
     "ac825b6ce37146beb89b42b147b70941": {
      "model_module": "@jupyter-widgets/controls",
      "model_module_version": "1.5.0",
      "model_name": "ButtonModel",
      "state": {
       "description": "Korrekt?",
       "layout": "IPY_MODEL_4c5ec5502c094d14927715c35bbbb818",
       "style": "IPY_MODEL_ff32b3ba3f9b4daabbb7122871cfe10f"
      }
     },
     "ac8d4f0754f54e0ba763b429ec7ca717": {
      "model_module": "@jupyter-widgets/base",
      "model_module_version": "1.2.0",
      "model_name": "LayoutModel",
      "state": {
       "width": "250px"
      }
     },
     "aca9197299354c7aad01bb736b9bf72d": {
      "model_module": "@jupyter-widgets/controls",
      "model_module_version": "1.5.0",
      "model_name": "ButtonModel",
      "state": {
       "description": "Agens",
       "layout": "IPY_MODEL_b649f08899e444b8a5157db864d81c23",
       "style": "IPY_MODEL_261cd8f02f534838866c752f20b5283d"
      }
     },
     "ace58eed2b9f4b218a073514fc761a87": {
      "model_module": "@jupyter-widgets/base",
      "model_module_version": "1.2.0",
      "model_name": "LayoutModel",
      "state": {
       "justify_content": "center"
      }
     },
     "ad274f8652e648c590955cc784178764": {
      "model_module": "@jupyter-widgets/controls",
      "model_module_version": "1.5.0",
      "model_name": "DescriptionStyleModel",
      "state": {
       "description_width": "initial"
      }
     },
     "ad874f9011e34933bf729e4670d4a31c": {
      "model_module": "@jupyter-widgets/controls",
      "model_module_version": "1.5.0",
      "model_name": "HTMLModel",
      "state": {
       "layout": "IPY_MODEL_b2b289f66c414e33940fcd6d19649191",
       "style": "IPY_MODEL_0190b8247b52420fb5ffc99db2221a37",
       "value": "<i>Markieren Sie <ins>alle</ins> passenden Antworten: </i>"
      }
     },
     "adce0db3fe9942ed988357605580b5b1": {
      "model_module": "@jupyter-widgets/controls",
      "model_module_version": "1.5.0",
      "model_name": "DescriptionStyleModel",
      "state": {
       "description_width": "initial"
      }
     },
     "add907e92c6a4106bf52267b0592e12b": {
      "model_module": "@jupyter-widgets/controls",
      "model_module_version": "1.5.0",
      "model_name": "VBoxModel",
      "state": {
       "children": [
        "IPY_MODEL_86b73ee6f002462cb864231a07b6e088",
        "IPY_MODEL_43348f2121ce47b0a25e1042f724f2f3",
        "IPY_MODEL_c1d4264862554573b5c7f06dbbee681c"
       ],
       "layout": "IPY_MODEL_1d34fd4779f14247a476555338bb1581"
      }
     },
     "adea35ddca974112915ab69200934574": {
      "model_module": "@jupyter-widgets/controls",
      "model_module_version": "1.5.0",
      "model_name": "HTMLModel",
      "state": {
       "layout": "IPY_MODEL_310c869dcd214838b862ab1510b8122a",
       "style": "IPY_MODEL_47e8668bc70b47e9accad964322e11ba",
       "value": "<h4 style=\"font-size:14px;\">Was passiert nach semantischer Hierarchie, wenn kein Agens vorhanden ist?</h4>"
      }
     },
     "ae134f9d1c7e4cbcb0b790ce48e97a4e": {
      "model_module": "@jupyter-widgets/controls",
      "model_module_version": "1.5.0",
      "model_name": "CheckboxModel",
      "state": {
       "description": "Der Artikel übernimmt z. T. die Kasusmarkierung.",
       "disabled": false,
       "layout": "IPY_MODEL_c82fc487de6b40928c3d38943f88d6d5",
       "style": "IPY_MODEL_c8925eea2f9e401797d8e933220a60b4",
       "value": false
      }
     },
     "ae20fc6b6d224d7c8d60c26d0447e204": {
      "model_module": "@jupyter-widgets/controls",
      "model_module_version": "1.5.0",
      "model_name": "CheckboxModel",
      "state": {
       "description": "FS0 = [CAT = N, GEN = FEM], FS1 = [CAT = N, GEN = FEM]",
       "disabled": false,
       "layout": "IPY_MODEL_9402277da0b647f1ad92a40f5ef12def",
       "style": "IPY_MODEL_7a9be7301a3f4767935aa9673ac95717",
       "value": false
      }
     },
     "ae37ca940907453c8ddd84a8c7a38a4c": {
      "model_module": "@jupyter-widgets/controls",
      "model_module_version": "1.5.0",
      "model_name": "ButtonStyleModel",
      "state": {}
     },
     "ae3b26e12eea40c0b4579610ca787fc7": {
      "model_module": "@jupyter-widgets/base",
      "model_module_version": "1.2.0",
      "model_name": "LayoutModel",
      "state": {
       "width": "250px"
      }
     },
     "ae61add05c4e4e01a985ab0e02e1ef4c": {
      "model_module": "@jupyter-widgets/controls",
      "model_module_version": "1.5.0",
      "model_name": "DescriptionStyleModel",
      "state": {
       "description_width": "initial"
      }
     },
     "ae75085997b74ad0863070dbf6e86e7e": {
      "model_module": "@jupyter-widgets/controls",
      "model_module_version": "1.5.0",
      "model_name": "DescriptionStyleModel",
      "state": {
       "description_width": "initial"
      }
     },
     "ae8ca2bc8fed4c138a4c159cb6070d9c": {
      "model_module": "@jupyter-widgets/controls",
      "model_module_version": "1.5.0",
      "model_name": "HBoxModel",
      "state": {
       "children": [
        "IPY_MODEL_f173010b3e304615af0e4b3fb0401977",
        "IPY_MODEL_316c1b5b62bd4fdbb380f5d439ea77f2"
       ],
       "layout": "IPY_MODEL_6d267befaab143cab0edf57b741729dd"
      }
     },
     "aebd970794444c84880035ba5257077c": {
      "model_module": "@jupyter-widgets/base",
      "model_module_version": "1.2.0",
      "model_name": "LayoutModel",
      "state": {}
     },
     "aed9523522a148589f43de07c4bfcd37": {
      "model_module": "@jupyter-widgets/base",
      "model_module_version": "1.2.0",
      "model_name": "LayoutModel",
      "state": {
       "justify_content": "center"
      }
     },
     "aedc3643f57d466d91dedd732717d870": {
      "model_module": "@jupyter-widgets/controls",
      "model_module_version": "1.5.0",
      "model_name": "ButtonStyleModel",
      "state": {}
     },
     "aefe94add6474506a20615265d8152df": {
      "model_module": "@jupyter-widgets/controls",
      "model_module_version": "1.5.0",
      "model_name": "VBoxModel",
      "state": {
       "children": [
        "IPY_MODEL_7a8bb31f5c694419a7783c4265b143c3",
        "IPY_MODEL_d1f12bd5d0714c6382857edeab16d17d",
        "IPY_MODEL_a4fd4f753f58471e93cc2eca78308362",
        "IPY_MODEL_1327075032354ceea40b774f5c0b0655"
       ],
       "layout": "IPY_MODEL_1b2d9d61745042b896156abac733fa26"
      }
     },
     "af08898f7a9847e2bdfe2f3ee74d9836": {
      "model_module": "@jupyter-widgets/controls",
      "model_module_version": "1.5.0",
      "model_name": "HTMLModel",
      "state": {
       "layout": "IPY_MODEL_9c84fa49b7a146b58751489eadd203dc",
       "style": "IPY_MODEL_3f83bbea3464472098f53112a3b83c1d",
       "value": "<h4 style=\"font-size:14px;\">dekliniert. Dies mag daran liegen, dass die</h4>"
      }
     },
     "af19698572a042ec8b0b04e49e9fa347": {
      "model_module": "@jupyter-widgets/controls",
      "model_module_version": "1.5.0",
      "model_name": "ButtonStyleModel",
      "state": {}
     },
     "af48aa9d7fd941a5bad7526e59c94cd1": {
      "model_module": "@jupyter-widgets/controls",
      "model_module_version": "1.5.0",
      "model_name": "DescriptionStyleModel",
      "state": {
       "description_width": "initial"
      }
     },
     "af70e6463cba41e2906d9bfec48c6702": {
      "model_module": "@jupyter-widgets/controls",
      "model_module_version": "1.5.0",
      "model_name": "ButtonStyleModel",
      "state": {}
     },
     "afd8c0b7fffc444fb9807d0762da0b0e": {
      "model_module": "@jupyter-widgets/controls",
      "model_module_version": "1.5.0",
      "model_name": "VBoxModel",
      "state": {
       "children": [
        "IPY_MODEL_c963f119530d49e1afac9b1177af14e7",
        "IPY_MODEL_493441ef87914590be17e53832a185b7",
        "IPY_MODEL_1a86545a10104cfc9d5a19ef9a137d09",
        "IPY_MODEL_bb142203ca684a8aa438dd9c5a47ea4e"
       ],
       "layout": "IPY_MODEL_855eafb02e3c490c8d66237b6653dd0a"
      }
     },
     "afe04f3d300049849538f80059651464": {
      "model_module": "@jupyter-widgets/controls",
      "model_module_version": "1.5.0",
      "model_name": "DescriptionStyleModel",
      "state": {
       "description_width": "initial"
      }
     },
     "afe38002c9154b27bf6945d03333b391": {
      "model_module": "@jupyter-widgets/controls",
      "model_module_version": "1.5.0",
      "model_name": "CheckboxModel",
      "state": {
       "description": "Perspektivierung",
       "disabled": false,
       "layout": "IPY_MODEL_97616b6383dd429084c5b4edcd5a90ea",
       "style": "IPY_MODEL_bf947bb9e78c44498f2569b596bf96d5",
       "value": false
      }
     },
     "afe9ee8ada8a4acaaccce9801af19b71": {
      "model_module": "@jupyter-widgets/base",
      "model_module_version": "1.2.0",
      "model_name": "LayoutModel",
      "state": {}
     },
     "affad36488cd42c09e6b0f23e62f5601": {
      "model_module": "@jupyter-widgets/controls",
      "model_module_version": "1.5.0",
      "model_name": "ButtonStyleModel",
      "state": {}
     },
     "affb7747c2564a2198d09544294b1980": {
      "model_module": "@jupyter-widgets/base",
      "model_module_version": "1.2.0",
      "model_name": "LayoutModel",
      "state": {
       "width": "600px"
      }
     },
     "b00bdde1e66d4894abd4ff07c823a071": {
      "model_module": "@jupyter-widgets/controls",
      "model_module_version": "1.5.0",
      "model_name": "VBoxModel",
      "state": {
       "children": [
        "IPY_MODEL_7f8e14c50b5d4dcf9cccb54add02ca96",
        "IPY_MODEL_d7cac1cd3dd44e08847f8036af4e6184",
        "IPY_MODEL_a2b76c2d76434318932d4b6a9c9e532a",
        "IPY_MODEL_f4a4a02a328b4bd1b3e7d7a44557d404"
       ],
       "layout": "IPY_MODEL_d1b54da0406e4d79a61325a7add3b1e2"
      }
     },
     "b04855528af240cba273ef7a1c29110d": {
      "model_module": "@jupyter-widgets/controls",
      "model_module_version": "1.5.0",
      "model_name": "ButtonStyleModel",
      "state": {}
     },
     "b05c9167e52f4485b16fbacee8e068f2": {
      "model_module": "@jupyter-widgets/controls",
      "model_module_version": "1.5.0",
      "model_name": "ButtonStyleModel",
      "state": {}
     },
     "b05fbc8445c4406a881963bcb84ae3c3": {
      "model_module": "@jupyter-widgets/controls",
      "model_module_version": "1.5.0",
      "model_name": "CheckboxModel",
      "state": {
       "description": "Der Artikel übernimmt z. T. die Kasusmarkierung.",
       "disabled": false,
       "layout": "IPY_MODEL_dcb81bf1531847fca831f915d73711b1",
       "style": "IPY_MODEL_ff885722a0594e25b034649961937934",
       "value": true
      }
     },
     "b06175ea1be54cf6a477055cc7a23cde": {
      "model_module": "@jupyter-widgets/base",
      "model_module_version": "1.2.0",
      "model_name": "LayoutModel",
      "state": {}
     },
     "b0952a60273645339e2b34dea1546fe4": {
      "model_module": "@jupyter-widgets/base",
      "model_module_version": "1.2.0",
      "model_name": "LayoutModel",
      "state": {
       "width": "250px"
      }
     },
     "b0a5e92a306049499b8e469accf0f055": {
      "model_module": "@jupyter-widgets/base",
      "model_module_version": "1.2.0",
      "model_name": "LayoutModel",
      "state": {
       "width": "250px"
      }
     },
     "b106ec89b10f4b42afe49a9756dfe688": {
      "model_module": "@jupyter-widgets/base",
      "model_module_version": "1.2.0",
      "model_name": "LayoutModel",
      "state": {
       "width": "250px"
      }
     },
     "b11cba570147451c9366f5e024deb846": {
      "model_module": "@jupyter-widgets/controls",
      "model_module_version": "1.5.0",
      "model_name": "ButtonStyleModel",
      "state": {}
     },
     "b136c7702de946c5b2a5c827dffc0399": {
      "model_module": "@jupyter-widgets/base",
      "model_module_version": "1.2.0",
      "model_name": "LayoutModel",
      "state": {
       "width": "150px"
      }
     },
     "b1404134cb014a31b3c099aa86cb61f1": {
      "model_module": "@jupyter-widgets/controls",
      "model_module_version": "1.5.0",
      "model_name": "VBoxModel",
      "state": {
       "children": [
        "IPY_MODEL_d995c6a84daa4a89b65fa6c95998b763",
        "IPY_MODEL_174f196c6a2b429db05c7aa016a13ca9",
        "IPY_MODEL_5c9fcc3bb27441c39d20bcf866d73005",
        "IPY_MODEL_894ccffc008f4f43a200c52c0953fb4b"
       ],
       "layout": "IPY_MODEL_73ec4c72ace34f69908bed5ca4f4ee77"
      }
     },
     "b140d7be11d64a799abce20d71eb1483": {
      "model_module": "@jupyter-widgets/controls",
      "model_module_version": "1.5.0",
      "model_name": "DescriptionStyleModel",
      "state": {
       "description_width": "initial"
      }
     },
     "b145316aa5534408be13d949406772de": {
      "model_module": "@jupyter-widgets/base",
      "model_module_version": "1.2.0",
      "model_name": "LayoutModel",
      "state": {
       "width": "600px"
      }
     },
     "b145ac09570043f18c99c7162cedf747": {
      "model_module": "@jupyter-widgets/base",
      "model_module_version": "1.2.0",
      "model_name": "LayoutModel",
      "state": {
       "width": "600px"
      }
     },
     "b14da86db7854ca4972bb8effabe3131": {
      "model_module": "@jupyter-widgets/controls",
      "model_module_version": "1.5.0",
      "model_name": "CheckboxModel",
      "state": {
       "description": "Keine der Alternativen",
       "disabled": false,
       "layout": "IPY_MODEL_fed40d46fa174808b9923984343c120c",
       "style": "IPY_MODEL_9bd279aa8a6641a48837381f521a7651",
       "value": false
      }
     },
     "b15cf40ff63a4d1284742094075c4642": {
      "model_module": "@jupyter-widgets/base",
      "model_module_version": "1.2.0",
      "model_name": "LayoutModel",
      "state": {}
     },
     "b16dc67f7a844a3f8aeb445768e615be": {
      "model_module": "@jupyter-widgets/controls",
      "model_module_version": "1.5.0",
      "model_name": "HTMLModel",
      "state": {
       "layout": "IPY_MODEL_aacb34c89b914ccd98fdc18fa3721070",
       "style": "IPY_MODEL_bc3e52501089439e9811198abcd362be",
       "value": "<i>Wählen Sie die <ins>eine</ins> korrekte Antwort aus: </i>"
      }
     },
     "b16e7c836e134b439c7c8f749cb58405": {
      "model_module": "@jupyter-widgets/base",
      "model_module_version": "1.2.0",
      "model_name": "LayoutModel",
      "state": {}
     },
     "b17bf399a9db4a4297d9160fc49089d8": {
      "model_module": "@jupyter-widgets/base",
      "model_module_version": "1.2.0",
      "model_name": "LayoutModel",
      "state": {
       "width": "250px"
      }
     },
     "b19c3842d3cb44b3aceff5a1d393ba63": {
      "model_module": "@jupyter-widgets/controls",
      "model_module_version": "1.5.0",
      "model_name": "DescriptionStyleModel",
      "state": {
       "description_width": "initial"
      }
     },
     "b1c15cb426a5473a8b11d7c70f9c40ef": {
      "model_module": "@jupyter-widgets/controls",
      "model_module_version": "1.5.0",
      "model_name": "DescriptionStyleModel",
      "state": {
       "description_width": ""
      }
     },
     "b1c4794d5b1e42c0b3fdcfba40934134": {
      "model_module": "@jupyter-widgets/controls",
      "model_module_version": "1.5.0",
      "model_name": "ButtonStyleModel",
      "state": {}
     },
     "b1f8cc16e17a4947aa6c0cf378b71795": {
      "model_module": "@jupyter-widgets/controls",
      "model_module_version": "1.5.0",
      "model_name": "ButtonStyleModel",
      "state": {}
     },
     "b200566f1eff4dec9f67bc1e6e2d5017": {
      "model_module": "@jupyter-widgets/controls",
      "model_module_version": "1.5.0",
      "model_name": "CheckboxModel",
      "state": {
       "description": "Die Form des Adjektivs ist in jedem Kasus unterschiedlich.",
       "disabled": false,
       "layout": "IPY_MODEL_4ac3590e9bd64a17a3494485c160de09",
       "style": "IPY_MODEL_a97eb937954543b1ad8e1d9bf086d5da",
       "value": false
      }
     },
     "b20adbeaf5c14d188eb9d057a24d93e5": {
      "model_module": "@jupyter-widgets/base",
      "model_module_version": "1.2.0",
      "model_name": "LayoutModel",
      "state": {
       "width": "600px"
      }
     },
     "b2213206edc64ec08ac53c54363f4597": {
      "model_module": "@jupyter-widgets/controls",
      "model_module_version": "1.5.0",
      "model_name": "ButtonModel",
      "state": {
       "description": "Agens",
       "layout": "IPY_MODEL_5f234eac8bca49a7af8382e6e2549740",
       "style": "IPY_MODEL_6cb9fbe9a17941f3b00390a25a2a6ba3"
      }
     },
     "b26bedb9275e4abb895528c37e35f83e": {
      "model_module": "@jupyter-widgets/base",
      "model_module_version": "1.2.0",
      "model_name": "LayoutModel",
      "state": {}
     },
     "b27dc11c1b1d41bcbb5a08eeec2fb9e9": {
      "model_module": "@jupyter-widgets/controls",
      "model_module_version": "1.5.0",
      "model_name": "ButtonModel",
      "state": {
       "description": "Korrekt?",
       "layout": "IPY_MODEL_3f70c700f3f642a68e97b1eac534b85d",
       "style": "IPY_MODEL_aa0e4823e0be4e30b220481743c777f4"
      }
     },
     "b2a13a75a3cd43a7907184837aec2526": {
      "model_module": "@jupyter-widgets/controls",
      "model_module_version": "1.5.0",
      "model_name": "DescriptionStyleModel",
      "state": {
       "description_width": "initial"
      }
     },
     "b2b289f66c414e33940fcd6d19649191": {
      "model_module": "@jupyter-widgets/base",
      "model_module_version": "1.2.0",
      "model_name": "LayoutModel",
      "state": {
       "justify_content": "center"
      }
     },
     "b2bb77499e144cfe91df4d432b87c3fd": {
      "model_module": "@jupyter-widgets/base",
      "model_module_version": "1.2.0",
      "model_name": "LayoutModel",
      "state": {}
     },
     "b2cb2fec94cd4793a8bd9da221460459": {
      "model_module": "@jupyter-widgets/controls",
      "model_module_version": "1.5.0",
      "model_name": "DescriptionStyleModel",
      "state": {
       "description_width": "initial"
      }
     },
     "b2da2367cedb4e499d12663d4a20f17b": {
      "model_module": "@jupyter-widgets/base",
      "model_module_version": "1.2.0",
      "model_name": "LayoutModel",
      "state": {
       "width": "600px"
      }
     },
     "b2e457fb235144ca9e62753486f27e34": {
      "model_module": "@jupyter-widgets/controls",
      "model_module_version": "1.5.0",
      "model_name": "DescriptionStyleModel",
      "state": {
       "description_width": "initial"
      }
     },
     "b2fe98b60e1f463aa975e132afb30740": {
      "model_module": "@jupyter-widgets/base",
      "model_module_version": "1.2.0",
      "model_name": "LayoutModel",
      "state": {
       "justify_content": "center"
      }
     },
     "b311a023fdb7420796f6ecf855eb8d01": {
      "model_module": "@jupyter-widgets/controls",
      "model_module_version": "1.5.0",
      "model_name": "ButtonStyleModel",
      "state": {}
     },
     "b323b4cb7cdf437388cc27d9c795fb8e": {
      "model_module": "@jupyter-widgets/controls",
      "model_module_version": "1.5.0",
      "model_name": "DescriptionStyleModel",
      "state": {
       "description_width": "initial"
      }
     },
     "b33389e1785d485ca57e7aaad9bc83db": {
      "model_module": "@jupyter-widgets/base",
      "model_module_version": "1.2.0",
      "model_name": "LayoutModel",
      "state": {
       "width": "250px"
      }
     },
     "b34848d5d6f3436c8e13d5b17b35870c": {
      "model_module": "@jupyter-widgets/controls",
      "model_module_version": "1.5.0",
      "model_name": "ButtonModel",
      "state": {
       "description": "Patiens",
       "layout": "IPY_MODEL_ec28791cb2444646b6bc4495193339da",
       "style": "IPY_MODEL_d2945f405c5a406693493c80918ac7dd"
      }
     },
     "b383f7a236fe466a8474b174b2c10315": {
      "model_module": "@jupyter-widgets/base",
      "model_module_version": "1.2.0",
      "model_name": "LayoutModel",
      "state": {}
     },
     "b38ae73f930f43fa9d09017c7f1bf2f4": {
      "model_module": "@jupyter-widgets/controls",
      "model_module_version": "1.5.0",
      "model_name": "HTMLModel",
      "state": {
       "layout": "IPY_MODEL_b5135afa089f487e80805904a5c8720c",
       "style": "IPY_MODEL_0a24f06982a5458d95112a9ad91455dc",
       "value": "<i>Markieren Sie <ins>alle</ins> passenden Antworten: </i>"
      }
     },
     "b38dcea9e7fd484b818b1fc9c2393ecf": {
      "model_module": "@jupyter-widgets/base",
      "model_module_version": "1.2.0",
      "model_name": "LayoutModel",
      "state": {
       "width": "600px"
      }
     },
     "b3ffd300ec4d428ab5624883f5a585c5": {
      "model_module": "@jupyter-widgets/controls",
      "model_module_version": "1.5.0",
      "model_name": "ButtonModel",
      "state": {
       "description": "Korrekt?",
       "layout": "IPY_MODEL_d9a4986c4d034f488f54aec89fd8fb2f",
       "style": "IPY_MODEL_91546c47258540a0a33458fc3b916c31"
      }
     },
     "b403144812d34215a31dbfcea4406563": {
      "model_module": "@jupyter-widgets/controls",
      "model_module_version": "1.5.0",
      "model_name": "DescriptionStyleModel",
      "state": {
       "description_width": "initial"
      }
     },
     "b410bbb91b42407486a0abb405f278ee": {
      "model_module": "@jupyter-widgets/controls",
      "model_module_version": "1.5.0",
      "model_name": "ButtonModel",
      "state": {
       "description": "Korrekt?",
       "layout": "IPY_MODEL_1c97819b3a7d45108ff8c7413645decd",
       "style": "IPY_MODEL_f98396c567f9430f9ca25dd86beb389d"
      }
     },
     "b4178740b1224d88ae5c7195849b94ce": {
      "model_module": "@jupyter-widgets/controls",
      "model_module_version": "1.5.0",
      "model_name": "HTMLModel",
      "state": {
       "layout": "IPY_MODEL_8669d110cfe8432aa55d9d106cf4dce5",
       "style": "IPY_MODEL_30a8dc7806eb468180d43f1aa2f5c2f4",
       "value": "<i>Wählen Sie die <ins>eine</ins> korrekte Antwort aus: </i>"
      }
     },
     "b42f949f35d64effb3aeee22a4817dc1": {
      "model_module": "@jupyter-widgets/controls",
      "model_module_version": "1.5.0",
      "model_name": "VBoxModel",
      "state": {
       "children": [
        "IPY_MODEL_18a3962d0f574589b1eeb4df61ad1715",
        "IPY_MODEL_8fa269b7d729454b82c989e69c5be5ff",
        "IPY_MODEL_1aa5981c047a4f7097bb21352303bf3c",
        "IPY_MODEL_cf54b8824461445f92e42756f2514a65",
        "IPY_MODEL_ae8ca2bc8fed4c138a4c159cb6070d9c",
        "IPY_MODEL_0dbcdbef9fcf4fe580e06c5543fd5fa7"
       ],
       "layout": "IPY_MODEL_04ac556f929b4542b7344a3904481d77"
      }
     },
     "b435ab6e3737414899cbd0a56e76230c": {
      "model_module": "@jupyter-widgets/base",
      "model_module_version": "1.2.0",
      "model_name": "LayoutModel",
      "state": {}
     },
     "b440d3b2eee641099809dabb74b2449d": {
      "model_module": "@jupyter-widgets/base",
      "model_module_version": "1.2.0",
      "model_name": "LayoutModel",
      "state": {}
     },
     "b4796a215f464e2e90c22b63ca143577": {
      "model_module": "@jupyter-widgets/base",
      "model_module_version": "1.2.0",
      "model_name": "LayoutModel",
      "state": {
       "width": "600px"
      }
     },
     "b4a2270208a34c71acc164f4df1b1511": {
      "model_module": "@jupyter-widgets/controls",
      "model_module_version": "1.5.0",
      "model_name": "ButtonStyleModel",
      "state": {}
     },
     "b4d21b3a90ba4a82b196f8e40a3e4744": {
      "model_module": "@jupyter-widgets/controls",
      "model_module_version": "1.5.0",
      "model_name": "HTMLModel",
      "state": {
       "layout": "IPY_MODEL_0e4dcd38e0b44249b105a53fa5a5a8ec",
       "style": "IPY_MODEL_3ca51c4681494d31ae3863e919ea3792",
       "value": "<h4 style=\"font-size:14px;\">Was ist im zweiten Satz das Subjekt?</h4>"
      }
     },
     "b4ddf0c03b6e4f898784d450d2e63250": {
      "model_module": "@jupyter-widgets/controls",
      "model_module_version": "1.5.0",
      "model_name": "CheckboxModel",
      "state": {
       "description": "Keine der Alternativen",
       "disabled": false,
       "layout": "IPY_MODEL_240564d302dc4f8eafdfc6c8e4c6afd8",
       "style": "IPY_MODEL_ae61add05c4e4e01a985ab0e02e1ef4c",
       "value": false
      }
     },
     "b4fc6381d4ca488fa062450fb1177e96": {
      "model_module": "@jupyter-widgets/controls",
      "model_module_version": "1.5.0",
      "model_name": "HTMLModel",
      "state": {
       "layout": "IPY_MODEL_79ab7ef2855b46e6a680131a1967d1e1",
       "style": "IPY_MODEL_ee7ab06d2e8c4384aea9f89f79c67c97",
       "value": "<i>Wählen Sie die <ins>eine</ins> korrekte Antwort aus: </i>"
      }
     },
     "b511a9af9c9b4d93a7d3584d902e05cb": {
      "model_module": "@jupyter-widgets/base",
      "model_module_version": "1.2.0",
      "model_name": "LayoutModel",
      "state": {
       "width": "600px"
      }
     },
     "b5135afa089f487e80805904a5c8720c": {
      "model_module": "@jupyter-widgets/base",
      "model_module_version": "1.2.0",
      "model_name": "LayoutModel",
      "state": {
       "justify_content": "center"
      }
     },
     "b516e1970299436db0b741c9876a9af8": {
      "model_module": "@jupyter-widgets/base",
      "model_module_version": "1.2.0",
      "model_name": "LayoutModel",
      "state": {
       "justify_content": "center"
      }
     },
     "b52027ec0fa24d0fac00a3167ee57b5f": {
      "model_module": "@jupyter-widgets/controls",
      "model_module_version": "1.5.0",
      "model_name": "DescriptionStyleModel",
      "state": {
       "description_width": ""
      }
     },
     "b54b9952b4b84ffe90a8ac4053049d36": {
      "model_module": "@jupyter-widgets/controls",
      "model_module_version": "1.5.0",
      "model_name": "ButtonStyleModel",
      "state": {}
     },
     "b552ed3ea7914d90a8605f16f345cd24": {
      "model_module": "@jupyter-widgets/controls",
      "model_module_version": "1.5.0",
      "model_name": "DescriptionStyleModel",
      "state": {
       "description_width": ""
      }
     },
     "b56a6e4dc7e0480099148fc3a5efb35f": {
      "model_module": "@jupyter-widgets/controls",
      "model_module_version": "1.5.0",
      "model_name": "ButtonStyleModel",
      "state": {}
     },
     "b5833b8245e8412d84fcd66c6ffc6c53": {
      "model_module": "@jupyter-widgets/controls",
      "model_module_version": "1.5.0",
      "model_name": "HBoxModel",
      "state": {
       "children": [
        "IPY_MODEL_0efd70d8446f44afa91d124d09a205a5",
        "IPY_MODEL_1d4e2a1f8a014cf0a4c95f6558167a94"
       ],
       "layout": "IPY_MODEL_5ce717978ce2421e8ccaa7c40c3dffeb"
      }
     },
     "b5a74c49bd814131b12f44cca13c7f53": {
      "model_module": "@jupyter-widgets/base",
      "model_module_version": "1.2.0",
      "model_name": "LayoutModel",
      "state": {
       "width": "600px"
      }
     },
     "b5c63718a0ca40d08aa25b12bf86a377": {
      "model_module": "@jupyter-widgets/controls",
      "model_module_version": "1.5.0",
      "model_name": "CheckboxModel",
      "state": {
       "description": "Der Artikel übernimmt die Genusmarkierung.",
       "disabled": false,
       "layout": "IPY_MODEL_f113ee706a41438fb8e35a5f10c53075",
       "style": "IPY_MODEL_9656a76ed9e04007b63c67a4063cc799",
       "value": false
      }
     },
     "b5d40cf8452c4330b171198f3ae477f3": {
      "model_module": "@jupyter-widgets/controls",
      "model_module_version": "1.5.0",
      "model_name": "ButtonStyleModel",
      "state": {}
     },
     "b5d665ce23fb40d9bb52d9bec7312c83": {
      "model_module": "@jupyter-widgets/base",
      "model_module_version": "1.2.0",
      "model_name": "LayoutModel",
      "state": {}
     },
     "b5df91d04c1d42e1abb87c6b6b8b4c56": {
      "model_module": "@jupyter-widgets/controls",
      "model_module_version": "1.5.0",
      "model_name": "ButtonModel",
      "state": {
       "description": "Patiens",
       "layout": "IPY_MODEL_106076ad69694f7eadbf365894dfe19e",
       "style": "IPY_MODEL_5584311cadf448d79d2b7e159fea077d"
      }
     },
     "b5e9fb601d6e42d295c8659656fda485": {
      "model_module": "@jupyter-widgets/controls",
      "model_module_version": "1.5.0",
      "model_name": "HTMLModel",
      "state": {
       "layout": "IPY_MODEL_becee48a62aa4bd4a86b8b57a0d82e4f",
       "style": "IPY_MODEL_695458c47ade41c2b2b38a68011b7f9c",
       "value": "<i>Markieren Sie <ins>alle</ins> passenden Antworten: </i>"
      }
     },
     "b61164efd7a043abb7e19b96f1926d1b": {
      "model_module": "@jupyter-widgets/controls",
      "model_module_version": "1.5.0",
      "model_name": "HTMLModel",
      "state": {
       "layout": "IPY_MODEL_6ce5cd039ab94338ab3e9ff8590e2177",
       "style": "IPY_MODEL_b52027ec0fa24d0fac00a3167ee57b5f",
       "value": "<h4 style=\"font-size:14px;\">dekliniert. Dies mag daran liegen, dass die</h4>"
      }
     },
     "b61a2d0cfd254b5b88a3f4631cb1f8fa": {
      "model_module": "@jupyter-widgets/controls",
      "model_module_version": "1.5.0",
      "model_name": "HTMLModel",
      "state": {
       "layout": "IPY_MODEL_14381c861b464d06aae654a5e2c46e5d",
       "style": "IPY_MODEL_5460be348ae240f791d0db5e817e34dd",
       "value": "<i>Wählen Sie die <ins>eine</ins> korrekte Antwort aus: </i>"
      }
     },
     "b649f08899e444b8a5157db864d81c23": {
      "model_module": "@jupyter-widgets/base",
      "model_module_version": "1.2.0",
      "model_name": "LayoutModel",
      "state": {
       "width": "250px"
      }
     },
     "b6519b4f2752453d94f5d949af8ae0ec": {
      "model_module": "@jupyter-widgets/controls",
      "model_module_version": "1.5.0",
      "model_name": "HTMLModel",
      "state": {
       "layout": "IPY_MODEL_f47ab6e5f2d94226afdefd9b782bfb36",
       "style": "IPY_MODEL_5308976a434a4b4c8f11d59334d1bd72",
       "value": "<i>Markieren Sie <ins>alle</ins> passenden Antworten: </i>"
      }
     },
     "b66edaa166ee452bbb3e383a8a5e36dc": {
      "model_module": "@jupyter-widgets/base",
      "model_module_version": "1.2.0",
      "model_name": "LayoutModel",
      "state": {}
     },
     "b679ba5fdff1401190a6a8276ad2fff7": {
      "model_module": "@jupyter-widgets/controls",
      "model_module_version": "1.5.0",
      "model_name": "HBoxModel",
      "state": {
       "children": [
        "IPY_MODEL_b34848d5d6f3436c8e13d5b17b35870c",
        "IPY_MODEL_a2ece96ac94041a19ef6e8c23e0db2c1"
       ],
       "layout": "IPY_MODEL_1456a5531c9846ce9ba7839cfd6d9e17"
      }
     },
     "b67e116967ac40fbaabc0c51e15fd0d1": {
      "model_module": "@jupyter-widgets/controls",
      "model_module_version": "1.5.0",
      "model_name": "DescriptionStyleModel",
      "state": {
       "description_width": "initial"
      }
     },
     "b6c9bb3423f34899a813fe9bf6dcfae1": {
      "model_module": "@jupyter-widgets/controls",
      "model_module_version": "1.5.0",
      "model_name": "ButtonStyleModel",
      "state": {}
     },
     "b6ce342103424b89a98865b327312a5b": {
      "model_module": "@jupyter-widgets/base",
      "model_module_version": "1.2.0",
      "model_name": "LayoutModel",
      "state": {
       "width": "250px"
      }
     },
     "b6e4571e7981441aa767b411963ee46a": {
      "model_module": "@jupyter-widgets/base",
      "model_module_version": "1.2.0",
      "model_name": "LayoutModel",
      "state": {
       "width": "600px"
      }
     },
     "b70166cf062d4a9ea0e632d38b3a0461": {
      "model_module": "@jupyter-widgets/controls",
      "model_module_version": "1.5.0",
      "model_name": "DescriptionStyleModel",
      "state": {
       "description_width": ""
      }
     },
     "b71819333d5745d69aa8574e3f7306e0": {
      "model_module": "@jupyter-widgets/controls",
      "model_module_version": "1.5.0",
      "model_name": "DescriptionStyleModel",
      "state": {
       "description_width": "initial"
      }
     },
     "b7417a8db50b406296a8660051d47ab3": {
      "model_module": "@jupyter-widgets/controls",
      "model_module_version": "1.5.0",
      "model_name": "CheckboxModel",
      "state": {
       "description": "Das Adjektiv tritt nur in zwei verschiedenen Formen auf.",
       "disabled": false,
       "layout": "IPY_MODEL_264062eb32b944b49c9d89d6ef6c2274",
       "style": "IPY_MODEL_6158ec1602ec45e28b564c377a51b5d5",
       "value": false
      }
     },
     "b7720fbd54144a3a93d95dcb6600c2a2": {
      "model_module": "@jupyter-widgets/controls",
      "model_module_version": "1.5.0",
      "model_name": "CheckboxModel",
      "state": {
       "description": "Variable: <- (1)",
       "disabled": false,
       "layout": "IPY_MODEL_d8dbfdb4a2bb4b95b178d8e7d9c14e45",
       "style": "IPY_MODEL_3f63dc46300f4b1f9c3e6579f12855c9",
       "value": false
      }
     },
     "b7988e3d4c8245fb96d543bffca7d32e": {
      "model_module": "@jupyter-widgets/controls",
      "model_module_version": "1.5.0",
      "model_name": "DescriptionStyleModel",
      "state": {
       "description_width": ""
      }
     },
     "b7aac8681cae4851ba064c587acdb963": {
      "model_module": "@jupyter-widgets/controls",
      "model_module_version": "1.5.0",
      "model_name": "DescriptionStyleModel",
      "state": {
       "description_width": ""
      }
     },
     "b809fbf1254a414d8559b1d2a0b3d063": {
      "model_module": "@jupyter-widgets/base",
      "model_module_version": "1.2.0",
      "model_name": "LayoutModel",
      "state": {
       "justify_content": "center"
      }
     },
     "b837fb42a2684200b742418ddfe72d76": {
      "model_module": "@jupyter-widgets/base",
      "model_module_version": "1.2.0",
      "model_name": "LayoutModel",
      "state": {}
     },
     "b83d288e4335403e8c012ffd48bb69b5": {
      "model_module": "@jupyter-widgets/controls",
      "model_module_version": "1.5.0",
      "model_name": "ButtonModel",
      "state": {
       "description": "Korrekt?",
       "layout": "IPY_MODEL_f9504e1979434829b319bf017fb62015",
       "style": "IPY_MODEL_c421d8fb209642d3a715e739d4cb1450"
      }
     },
     "b881f868c51049f393f980409b95253c": {
      "model_module": "@jupyter-widgets/controls",
      "model_module_version": "1.5.0",
      "model_name": "DescriptionStyleModel",
      "state": {
       "description_width": ""
      }
     },
     "b8aa3152bd9040c6aa5253f969e38ef2": {
      "model_module": "@jupyter-widgets/controls",
      "model_module_version": "1.5.0",
      "model_name": "CheckboxModel",
      "state": {
       "description": "Sie werden neu eingefügt.",
       "disabled": false,
       "layout": "IPY_MODEL_18baca3540ce400bad74f031ed267248",
       "style": "IPY_MODEL_d419c1918e3d46e08ea99be798196971",
       "value": false
      }
     },
     "b8ce84a76b3e409ba6e9df36f22660fe": {
      "model_module": "@jupyter-widgets/base",
      "model_module_version": "1.2.0",
      "model_name": "LayoutModel",
      "state": {}
     },
     "b8fac224380c457b86b95c2e2be5a5a5": {
      "model_module": "@jupyter-widgets/base",
      "model_module_version": "1.2.0",
      "model_name": "LayoutModel",
      "state": {
       "width": "600px"
      }
     },
     "b9046a23aeab4c89b32eb716f86eaa7d": {
      "model_module": "@jupyter-widgets/controls",
      "model_module_version": "1.5.0",
      "model_name": "DescriptionStyleModel",
      "state": {
       "description_width": "initial"
      }
     },
     "b9240fc4308f484581c2421ac5c6c3ac": {
      "model_module": "@jupyter-widgets/base",
      "model_module_version": "1.2.0",
      "model_name": "LayoutModel",
      "state": {
       "justify_content": "center"
      }
     },
     "b94a6222c14d43aaadc46c2cbf838f48": {
      "model_module": "@jupyter-widgets/controls",
      "model_module_version": "1.5.0",
      "model_name": "DescriptionStyleModel",
      "state": {
       "description_width": ""
      }
     },
     "b966570a5e8f4f5782b5da15de65e26d": {
      "model_module": "@jupyter-widgets/controls",
      "model_module_version": "1.5.0",
      "model_name": "ButtonModel",
      "state": {
       "description": "schwache Deklination",
       "layout": "IPY_MODEL_393eb5dcd8a74b5497ae01540d306704",
       "style": "IPY_MODEL_ba8c04244cad4b8ea76f4966f382d9f1"
      }
     },
     "b98252b6dc2a45fc986a4ead61e39826": {
      "model_module": "@jupyter-widgets/base",
      "model_module_version": "1.2.0",
      "model_name": "LayoutModel",
      "state": {
       "justify_content": "center"
      }
     },
     "b988936790fe4169bf7a9d2ae4d78f98": {
      "model_module": "@jupyter-widgets/base",
      "model_module_version": "1.2.0",
      "model_name": "LayoutModel",
      "state": {
       "width": "250px"
      }
     },
     "b99042fe084649c8ad46275d662bce1d": {
      "model_module": "@jupyter-widgets/base",
      "model_module_version": "1.2.0",
      "model_name": "LayoutModel",
      "state": {}
     },
     "b9d4a8845e374070ac29777ed80af69f": {
      "model_module": "@jupyter-widgets/controls",
      "model_module_version": "1.5.0",
      "model_name": "DescriptionStyleModel",
      "state": {
       "description_width": "initial"
      }
     },
     "b9f9821b2a1d49669a4bc8dd9bf8b0ea": {
      "model_module": "@jupyter-widgets/controls",
      "model_module_version": "1.5.0",
      "model_name": "CheckboxModel",
      "state": {
       "description": "FS0 = [CAT = N], FS1 = [CAT = N, GEN = MASK]",
       "disabled": false,
       "layout": "IPY_MODEL_a064f2a8cc6a441cbb3b076e4001dcdb",
       "style": "IPY_MODEL_6d23c13efcc642a3820477bd4311234a",
       "value": false
      }
     },
     "ba512e56996b40009f7486fc0f512885": {
      "model_module": "@jupyter-widgets/controls",
      "model_module_version": "1.5.0",
      "model_name": "ButtonStyleModel",
      "state": {}
     },
     "ba59f22c9690418ab6e9aced3de1228f": {
      "model_module": "@jupyter-widgets/controls",
      "model_module_version": "1.5.0",
      "model_name": "HTMLModel",
      "state": {
       "layout": "IPY_MODEL_43c336363661405b95a87820e2238389",
       "style": "IPY_MODEL_9075694b32c2499b8790ad8d17cbd4be",
       "value": "<i>Vervollständigen Sie den Lückentext: </i>"
      }
     },
     "ba6f32de189f4e0f9f6ff3bea2a58d5d": {
      "model_module": "@jupyter-widgets/controls",
      "model_module_version": "1.5.0",
      "model_name": "ButtonModel",
      "state": {
       "description": "Korrekt?",
       "layout": "IPY_MODEL_7f488f15b1514fd0855941454eff3b41",
       "style": "IPY_MODEL_68e22c24f6c44837a378c5a3912a087a"
      }
     },
     "ba8c04244cad4b8ea76f4966f382d9f1": {
      "model_module": "@jupyter-widgets/controls",
      "model_module_version": "1.5.0",
      "model_name": "ButtonStyleModel",
      "state": {}
     },
     "ba9b195f025048939606a1bdee3b18dd": {
      "model_module": "@jupyter-widgets/base",
      "model_module_version": "1.2.0",
      "model_name": "LayoutModel",
      "state": {}
     },
     "bad989cd9ed44d36bd85f776d964bb81": {
      "model_module": "@jupyter-widgets/base",
      "model_module_version": "1.2.0",
      "model_name": "LayoutModel",
      "state": {}
     },
     "bb142203ca684a8aa438dd9c5a47ea4e": {
      "model_module": "@jupyter-widgets/controls",
      "model_module_version": "1.5.0",
      "model_name": "ButtonModel",
      "state": {
       "description": "Korrekt?",
       "layout": "IPY_MODEL_899d2d3a6ef4493e96cc595117dfdb2c",
       "style": "IPY_MODEL_7524547fb55547ffadeb067d96953bb9"
      }
     },
     "bb5937f28fc2456d937f36283f4900e7": {
      "model_module": "@jupyter-widgets/controls",
      "model_module_version": "1.5.0",
      "model_name": "HTMLModel",
      "state": {
       "layout": "IPY_MODEL_6dda94393de643eaa3c6abf9a9b23540",
       "style": "IPY_MODEL_94bc0909ceb04b728735f23f8ae239c0",
       "value": "<h4 style=\"font-size:14px;\">Welche native python-Datenstruktur bietet sich für die Deklaration von Merkmalstrukturen als Menge von Attribut-Wert-Paaren an?</h4>"
      }
     },
     "bb6ea13e786c44af887b7e8b43c0f4a7": {
      "model_module": "@jupyter-widgets/controls",
      "model_module_version": "1.5.0",
      "model_name": "ButtonModel",
      "state": {
       "description": "Korrekt?",
       "layout": "IPY_MODEL_3df13e9719034e40965d85b064be28d2",
       "style": "IPY_MODEL_ef5e4088f0d14ac98af70978fe70c0c0"
      }
     },
     "bbb926e675b84a9abb6383274537d3f8": {
      "model_module": "@jupyter-widgets/base",
      "model_module_version": "1.2.0",
      "model_name": "LayoutModel",
      "state": {
       "width": "500px"
      }
     },
     "bbd3930d1d584560bf7daf64032423fd": {
      "model_module": "@jupyter-widgets/controls",
      "model_module_version": "1.5.0",
      "model_name": "ButtonModel",
      "state": {
       "description": "schwache Deklination",
       "layout": "IPY_MODEL_1afdd58513bc40ba9c6466b57ca94a68",
       "style": "IPY_MODEL_37ed9d0aebd9437fb52a521ae613f147"
      }
     },
     "bc071c7fd172465ab309e9b87c0068e5": {
      "model_module": "@jupyter-widgets/base",
      "model_module_version": "1.2.0",
      "model_name": "LayoutModel",
      "state": {}
     },
     "bc168906679a4e5d862ed4be5fc4e6e8": {
      "model_module": "@jupyter-widgets/controls",
      "model_module_version": "1.5.0",
      "model_name": "CheckboxModel",
      "state": {
       "description": "Subjekt-Demotion zu Adverbial",
       "disabled": false,
       "layout": "IPY_MODEL_f933e1168ee14b3095c2e07b0a2274fb",
       "style": "IPY_MODEL_a25e674ff6824639b33bb103d4870549",
       "value": false
      }
     },
     "bc23e19635cb48c6bc86c04fdec6c1f4": {
      "model_module": "@jupyter-widgets/controls",
      "model_module_version": "1.5.0",
      "model_name": "BoxModel",
      "state": {
       "children": [
        "IPY_MODEL_78ef63087bd446e4b6011166bce9e9a1",
        "IPY_MODEL_19c4934b250149c3bea8aee2404e363b",
        "IPY_MODEL_1db8d640444b4c0c9346d421fc008829",
        "IPY_MODEL_4ca45765bcc645ffadf2bb71eda5bde6",
        "IPY_MODEL_b61164efd7a043abb7e19b96f1926d1b",
        "IPY_MODEL_cf3691dd027f49128653c311161ca0cd",
        "IPY_MODEL_4f8b38c1101647cf812ef617649e853e",
        "IPY_MODEL_fc5a5405f0334864b9df28b0bb3dd79b",
        "IPY_MODEL_f04cc0e298684fd2a4dd2d4c3bef4c91",
        "IPY_MODEL_ab588ec11e7c4b48895b3a8df7b57350",
        "IPY_MODEL_664e1f06c8114de0ab093995c3ce4a37"
       ],
       "layout": "IPY_MODEL_7e824911d4cd4edea1cd8ac76176f449"
      }
     },
     "bc3e348734924eb992ed561fd596abe2": {
      "model_module": "@jupyter-widgets/controls",
      "model_module_version": "1.5.0",
      "model_name": "DescriptionStyleModel",
      "state": {
       "description_width": "initial"
      }
     },
     "bc3e52501089439e9811198abcd362be": {
      "model_module": "@jupyter-widgets/controls",
      "model_module_version": "1.5.0",
      "model_name": "DescriptionStyleModel",
      "state": {
       "description_width": ""
      }
     },
     "bc4953d1a51b4bc495bde9bfa6b18c7c": {
      "model_module": "@jupyter-widgets/controls",
      "model_module_version": "1.5.0",
      "model_name": "DescriptionStyleModel",
      "state": {
       "description_width": "initial"
      }
     },
     "bc509de4ef3a4351b58e7328c3e58fed": {
      "model_module": "@jupyter-widgets/base",
      "model_module_version": "1.2.0",
      "model_name": "LayoutModel",
      "state": {
       "width": "600px"
      }
     },
     "bc538f937c274aeca4335c7c3cdf1c05": {
      "model_module": "@jupyter-widgets/controls",
      "model_module_version": "1.5.0",
      "model_name": "DescriptionStyleModel",
      "state": {
       "description_width": ""
      }
     },
     "bc5a01e08aa94334941a9952439e0013": {
      "model_module": "@jupyter-widgets/base",
      "model_module_version": "1.2.0",
      "model_name": "LayoutModel",
      "state": {
       "width": "600px"
      }
     },
     "bcbe4ed1e5134ab0a6e153be7ac6e8b4": {
      "model_module": "@jupyter-widgets/controls",
      "model_module_version": "1.5.0",
      "model_name": "VBoxModel",
      "state": {
       "children": [
        "IPY_MODEL_750f0a5375d84e65bc30b48b166a86ae",
        "IPY_MODEL_dffa5f2667c74a21a1aa8efb46f65f16",
        "IPY_MODEL_52537bd3fc6a434db08d1ec54a2624bc",
        "IPY_MODEL_ba6f32de189f4e0f9f6ff3bea2a58d5d"
       ],
       "layout": "IPY_MODEL_27aae08649f049bd9916b39e824477a1"
      }
     },
     "bcc02c04b383463697433599b49ef2c5": {
      "model_module": "@jupyter-widgets/base",
      "model_module_version": "1.2.0",
      "model_name": "LayoutModel",
      "state": {}
     },
     "bcd3ac50b123457e962e073b9361514f": {
      "model_module": "@jupyter-widgets/controls",
      "model_module_version": "1.5.0",
      "model_name": "HTMLModel",
      "state": {
       "layout": "IPY_MODEL_5079e8f7e7ed4340b6a6fa8971b2805f",
       "style": "IPY_MODEL_33eba43c8fad43d3bdf434d9d02bbc0a",
       "value": "<h4 style=\"font-size:14px;\">Was ist der bevorzugte Kandidat zur Realisierung im Subjekt?</h4>"
      }
     },
     "bd0853f4a43d4eae96954efed6dbafe6": {
      "model_module": "@jupyter-widgets/controls",
      "model_module_version": "1.5.0",
      "model_name": "DropdownModel",
      "state": {
       "_options_labels": [
        "Adverbial",
        "Nomen",
        "Personalpronomen",
        " "
       ],
       "index": 3,
       "layout": "IPY_MODEL_6199d8088cc94c6eba1bbbe273d21638",
       "style": "IPY_MODEL_3429f5073b8c4071bb159f03489bc712"
      }
     },
     "bd1441d2685e4851ac27c97e56dd9918": {
      "model_module": "@jupyter-widgets/controls",
      "model_module_version": "1.5.0",
      "model_name": "DescriptionStyleModel",
      "state": {
       "description_width": "initial"
      }
     },
     "bd1fde4651534ebf9d878f3dc66cf1f9": {
      "model_module": "@jupyter-widgets/base",
      "model_module_version": "1.2.0",
      "model_name": "LayoutModel",
      "state": {}
     },
     "bd2b2ffbbfc24762beb8dac532d09e80": {
      "model_module": "@jupyter-widgets/base",
      "model_module_version": "1.2.0",
      "model_name": "LayoutModel",
      "state": {
       "width": "500px"
      }
     },
     "bd2e7f2ce17248268d71b1a143a5b87d": {
      "model_module": "@jupyter-widgets/controls",
      "model_module_version": "1.5.0",
      "model_name": "ButtonModel",
      "state": {
       "description": "Korrekt?",
       "layout": "IPY_MODEL_e54e33bc3dc9486083a17df62266e85f",
       "style": "IPY_MODEL_f4406d2f108349cbbe4bc1ba49f31ba5"
      }
     },
     "bd2ef0f586fa45368a67a24b6d8bd54b": {
      "model_module": "@jupyter-widgets/controls",
      "model_module_version": "1.5.0",
      "model_name": "DescriptionStyleModel",
      "state": {
       "description_width": "initial"
      }
     },
     "bd54489b5e274209b6629e89fb4465ad": {
      "model_module": "@jupyter-widgets/controls",
      "model_module_version": "1.5.0",
      "model_name": "HTMLModel",
      "state": {
       "layout": "IPY_MODEL_5cdf29a720b34c41a1099ec8df0b689e",
       "style": "IPY_MODEL_ef36bc4fcc444344bdf7f4ddb41f1469",
       "value": "<h4 style=\"font-size:14px;\">Wie werden Features in formalen Grammatiken verwendet?</h4>"
      }
     },
     "bd5637f0d83e4274a186308b0e1456a7": {
      "model_module": "@jupyter-widgets/base",
      "model_module_version": "1.2.0",
      "model_name": "LayoutModel",
      "state": {
       "width": "250px"
      }
     },
     "bd56547e07064577841cb5f40ecceaf7": {
      "model_module": "@jupyter-widgets/controls",
      "model_module_version": "1.5.0",
      "model_name": "ButtonStyleModel",
      "state": {}
     },
     "bd7579f55c8a45b4903abd121c95fc37": {
      "model_module": "@jupyter-widgets/controls",
      "model_module_version": "1.5.0",
      "model_name": "VBoxModel",
      "state": {
       "children": [
        "IPY_MODEL_65d21fc2cd624dd8983a310d0950b621",
        "IPY_MODEL_c773d6d496514d17861510a51c2ebf99",
        "IPY_MODEL_2cd8f2fe15134ae7be36807a3af92494",
        "IPY_MODEL_b3ffd300ec4d428ab5624883f5a585c5"
       ],
       "layout": "IPY_MODEL_e70c0e8d5ec240fa946a8ee28cd36353"
      }
     },
     "bd76904315c14324b5eb93170974c06e": {
      "model_module": "@jupyter-widgets/controls",
      "model_module_version": "1.5.0",
      "model_name": "ButtonStyleModel",
      "state": {}
     },
     "bd76b916129a4cc8b251e94fc21aa0a8": {
      "model_module": "@jupyter-widgets/controls",
      "model_module_version": "1.5.0",
      "model_name": "VBoxModel",
      "state": {
       "children": [
        "IPY_MODEL_c1b5636da5724969877076cc86874d53",
        "IPY_MODEL_030dfef2e8e746b8acbf31c366beff81",
        "IPY_MODEL_dc60040974b442bdaaa33ba639b29c0c",
        "IPY_MODEL_1e9a48e6ee4d4f34857c75f16f417b6d"
       ],
       "layout": "IPY_MODEL_89ad4b50edc94058ad1feffaa32e9b9e"
      }
     },
     "bdbabe38c0094be89aa876f5fd66c477": {
      "model_module": "@jupyter-widgets/controls",
      "model_module_version": "1.5.0",
      "model_name": "DescriptionStyleModel",
      "state": {
       "description_width": ""
      }
     },
     "bdddc1d51e8d42508a7fb812308ef26b": {
      "model_module": "@jupyter-widgets/controls",
      "model_module_version": "1.5.0",
      "model_name": "CheckboxModel",
      "state": {
       "description": "Ausrichtung der Empathie",
       "disabled": false,
       "layout": "IPY_MODEL_7ec7b3e6e28b41909061eff08cabdb71",
       "style": "IPY_MODEL_aa22020fc1304914829e2c5af45f187b",
       "value": false
      }
     },
     "bde7e5f965bb4c5ebe5c99affbb4aa95": {
      "model_module": "@jupyter-widgets/base",
      "model_module_version": "1.2.0",
      "model_name": "LayoutModel",
      "state": {
       "justify_content": "center"
      }
     },
     "be26f929e4044554afc3fc7d43f0bd69": {
      "model_module": "@jupyter-widgets/base",
      "model_module_version": "1.2.0",
      "model_name": "LayoutModel",
      "state": {
       "justify_content": "center"
      }
     },
     "be465be16cbc4d358ae26c212dbbc5ab": {
      "model_module": "@jupyter-widgets/base",
      "model_module_version": "1.2.0",
      "model_name": "LayoutModel",
      "state": {
       "width": "250px"
      }
     },
     "be983c8c7a1c48099d0f4ceaa18f7eb5": {
      "model_module": "@jupyter-widgets/controls",
      "model_module_version": "1.5.0",
      "model_name": "ButtonModel",
      "state": {
       "description": "Korrekt?",
       "layout": "IPY_MODEL_4249f17068dd4bc59fab039bc2fc7410",
       "style": "IPY_MODEL_1bc1e8f04d6a44f490e87b47e8c1839e"
      }
     },
     "becee48a62aa4bd4a86b8b57a0d82e4f": {
      "model_module": "@jupyter-widgets/base",
      "model_module_version": "1.2.0",
      "model_name": "LayoutModel",
      "state": {
       "justify_content": "center"
      }
     },
     "bedfe61441414e9fb047130ead596043": {
      "model_module": "@jupyter-widgets/controls",
      "model_module_version": "1.5.0",
      "model_name": "ButtonStyleModel",
      "state": {}
     },
     "bee33489c1f94a13a5ee1bbca943db0f": {
      "model_module": "@jupyter-widgets/base",
      "model_module_version": "1.2.0",
      "model_name": "LayoutModel",
      "state": {}
     },
     "bee6fe2ac0a2448fbdfcadeb6db077c2": {
      "model_module": "@jupyter-widgets/controls",
      "model_module_version": "1.5.0",
      "model_name": "HBoxModel",
      "state": {
       "children": [
        "IPY_MODEL_9aa1c9a3c94941328f843ac6bb5721a8",
        "IPY_MODEL_22754ebd55b04f72a1484baeffe38c76"
       ],
       "layout": "IPY_MODEL_232de214336e4ca091448a9e309b77bc"
      }
     },
     "bf06f0b8aa2f4db0b604d17c2f0d7653": {
      "model_module": "@jupyter-widgets/controls",
      "model_module_version": "1.5.0",
      "model_name": "HTMLModel",
      "state": {
       "layout": "IPY_MODEL_3300138eb47b4411a7123f292503be36",
       "style": "IPY_MODEL_e58abb401c5443efb0dfcf8d37117bba",
       "value": "<i>Wählen Sie die <ins>eine</ins> korrekte Antwort aus: </i>"
      }
     },
     "bf3034b136db4a06beb9ca99f1d2847d": {
      "model_module": "@jupyter-widgets/controls",
      "model_module_version": "1.5.0",
      "model_name": "DescriptionStyleModel",
      "state": {
       "description_width": ""
      }
     },
     "bf34975e4e3144d6b620ad54c5506c14": {
      "model_module": "@jupyter-widgets/controls",
      "model_module_version": "1.5.0",
      "model_name": "HTMLModel",
      "state": {
       "layout": "IPY_MODEL_40ba0ab149a940f38d0cc8f363cd4f30",
       "style": "IPY_MODEL_44f408531ba248b280c5bc3056073d6a",
       "value": "<i>Wählen Sie die <ins>eine</ins> korrekte Antwort aus: </i>"
      }
     },
     "bf4121473a8842f293dadab8ee816971": {
      "model_module": "@jupyter-widgets/base",
      "model_module_version": "1.2.0",
      "model_name": "LayoutModel",
      "state": {
       "width": "600px"
      }
     },
     "bf6a035838454a2297516c12533f8a49": {
      "model_module": "@jupyter-widgets/controls",
      "model_module_version": "1.5.0",
      "model_name": "ButtonStyleModel",
      "state": {}
     },
     "bf6fff98d0024605b1666d87452d0752": {
      "model_module": "@jupyter-widgets/controls",
      "model_module_version": "1.5.0",
      "model_name": "HTMLModel",
      "state": {
       "layout": "IPY_MODEL_823ee5f17f654b13b05e16df99d9c439",
       "style": "IPY_MODEL_9bcab80062c1420a99066d3caa2954fe",
       "value": "<h4 style=\"font-size:14px;\">Für die Deklination ist hier relevant, ob das Adjektiv mit einem ____________ Artikel auftritt oder nicht.</h4>"
      }
     },
     "bf947bb9e78c44498f2569b596bf96d5": {
      "model_module": "@jupyter-widgets/controls",
      "model_module_version": "1.5.0",
      "model_name": "DescriptionStyleModel",
      "state": {
       "description_width": "initial"
      }
     },
     "bfa34a678c064297802a70fd8efe6c34": {
      "model_module": "@jupyter-widgets/base",
      "model_module_version": "1.2.0",
      "model_name": "LayoutModel",
      "state": {
       "width": "600px"
      }
     },
     "bfa6f8a9f7f94b7ead0e3dcc9cc13b04": {
      "model_module": "@jupyter-widgets/controls",
      "model_module_version": "1.5.0",
      "model_name": "DescriptionStyleModel",
      "state": {
       "description_width": "initial"
      }
     },
     "bfeb291ff57249a2be78795e853117c5": {
      "model_module": "@jupyter-widgets/controls",
      "model_module_version": "1.5.0",
      "model_name": "DescriptionStyleModel",
      "state": {
       "description_width": ""
      }
     },
     "bff6e418c16c4726abf4a4d1171f20c5": {
      "model_module": "@jupyter-widgets/controls",
      "model_module_version": "1.5.0",
      "model_name": "ButtonStyleModel",
      "state": {}
     },
     "bffe3e7bc76f428c8fd8280514304b65": {
      "model_module": "@jupyter-widgets/base",
      "model_module_version": "1.2.0",
      "model_name": "LayoutModel",
      "state": {
       "width": "600px"
      }
     },
     "c055ddee18d84473a9e0d6a8b5066686": {
      "model_module": "@jupyter-widgets/controls",
      "model_module_version": "1.5.0",
      "model_name": "VBoxModel",
      "state": {
       "children": [
        "IPY_MODEL_7d1c0bc20e8044d784c9fec58126f948",
        "IPY_MODEL_b6519b4f2752453d94f5d949af8ae0ec",
        "IPY_MODEL_3a464de6a4cd4517b9bdf2f46f0b51ba",
        "IPY_MODEL_f374ad700b11432ca149c21dcef7242b"
       ],
       "layout": "IPY_MODEL_e49e95642f4447d5abf85959bc971932"
      }
     },
     "c0881f50c9fb45b5aafea75889b1c474": {
      "model_module": "@jupyter-widgets/controls",
      "model_module_version": "1.5.0",
      "model_name": "ButtonStyleModel",
      "state": {}
     },
     "c0cdea57ef7f4ee3abc39ebc37c10ae4": {
      "model_module": "@jupyter-widgets/base",
      "model_module_version": "1.2.0",
      "model_name": "LayoutModel",
      "state": {
       "width": "250px"
      }
     },
     "c0e0d1781c5c4f3fa9a7f3fdca145bc5": {
      "model_module": "@jupyter-widgets/controls",
      "model_module_version": "1.5.0",
      "model_name": "CheckboxModel",
      "state": {
       "description": "Der Artikel übernimmt die Genusmarkierung.",
       "disabled": false,
       "layout": "IPY_MODEL_bc5a01e08aa94334941a9952439e0013",
       "style": "IPY_MODEL_52a20da62ec044118b72e9e87aae2c0f",
       "value": false
      }
     },
     "c0e564bc30264471b42fac6863a34496": {
      "model_module": "@jupyter-widgets/controls",
      "model_module_version": "1.5.0",
      "model_name": "CheckboxModel",
      "state": {
       "description": "Variable: -> (1)",
       "disabled": false,
       "layout": "IPY_MODEL_03a0974fcade447aa4800e1f8cf379d8",
       "style": "IPY_MODEL_295642a7261a4c5f982b176a38dc04c4",
       "value": false
      }
     },
     "c0e9c30739084b40ba1b34d9dbd36a60": {
      "model_module": "@jupyter-widgets/controls",
      "model_module_version": "1.5.0",
      "model_name": "DescriptionStyleModel",
      "state": {
       "description_width": ""
      }
     },
     "c0f477eb79d440afabfd6e85b4e9fe09": {
      "model_module": "@jupyter-widgets/controls",
      "model_module_version": "1.5.0",
      "model_name": "HTMLModel",
      "state": {
       "layout": "IPY_MODEL_8546d4fed365482ab6809d91d041f715",
       "style": "IPY_MODEL_4eaba41db7314d61aa3be3d8e6900e39",
       "value": "<h4 style=\"font-size:14px;\">Wie werden Features in formalen Grammatiken verwendet?</h4>"
      }
     },
     "c0f66677da6f40e7a602cb2d2f6cfc2b": {
      "model_module": "@jupyter-widgets/controls",
      "model_module_version": "1.5.0",
      "model_name": "DescriptionStyleModel",
      "state": {
       "description_width": "initial"
      }
     },
     "c1a60887535a4602abd46082d5c93527": {
      "model_module": "@jupyter-widgets/controls",
      "model_module_version": "1.5.0",
      "model_name": "DescriptionStyleModel",
      "state": {
       "description_width": ""
      }
     },
     "c1b5636da5724969877076cc86874d53": {
      "model_module": "@jupyter-widgets/controls",
      "model_module_version": "1.5.0",
      "model_name": "HTMLModel",
      "state": {
       "layout": "IPY_MODEL_c39f349d0e114305aafa01866fabaa4b",
       "style": "IPY_MODEL_24a293454914469ead9bd9b59b4ba6b7",
       "value": "<h4 style=\"font-size:14px;\">Was passiert nach semantischer Hierarchie, wenn kein Agens vorhanden ist?</h4>"
      }
     },
     "c1c482b8bd904ee28114ebfa53aa6af5": {
      "model_module": "@jupyter-widgets/base",
      "model_module_version": "1.2.0",
      "model_name": "LayoutModel",
      "state": {
       "width": "600px"
      }
     },
     "c1d4264862554573b5c7f06dbbee681c": {
      "model_module": "@jupyter-widgets/controls",
      "model_module_version": "1.5.0",
      "model_name": "CheckboxModel",
      "state": {
       "description": "Sie werden im Vorhinein deklariert (feature lexicon)",
       "disabled": false,
       "layout": "IPY_MODEL_6ba00cefc720417a9c291fe13872cf8b",
       "style": "IPY_MODEL_dc7df714647841859bd859c979760d1b",
       "value": false
      }
     },
     "c23b9748cc004410af72b181810bb6d1": {
      "model_module": "@jupyter-widgets/base",
      "model_module_version": "1.2.0",
      "model_name": "LayoutModel",
      "state": {
       "width": "250px"
      }
     },
     "c25537331acb48ceadd4b965b6283a49": {
      "model_module": "@jupyter-widgets/controls",
      "model_module_version": "1.5.0",
      "model_name": "VBoxModel",
      "state": {
       "children": [
        "IPY_MODEL_c2c80f4f3b5c4fd2a1ea4715397a69f6",
        "IPY_MODEL_64d40229afc04ce8ae88ab5a8fa26be4",
        "IPY_MODEL_ea9ce2c06ba84b48bc232e3fc795e4a1"
       ],
       "layout": "IPY_MODEL_1ce7bf120779474dba958e12b4f03e38"
      }
     },
     "c294e911ca414e43aca16762d12748e5": {
      "model_module": "@jupyter-widgets/controls",
      "model_module_version": "1.5.0",
      "model_name": "CheckboxModel",
      "state": {
       "description": "Es ist undefiniert.",
       "disabled": false,
       "layout": "IPY_MODEL_c6f171a4bba9488cba764c3c36be6824",
       "style": "IPY_MODEL_da660d9274ec49f392bed5bc4b6f60a4",
       "value": false
      }
     },
     "c2a02f7221f24dfebcb739c11154827e": {
      "model_module": "@jupyter-widgets/base",
      "model_module_version": "1.2.0",
      "model_name": "LayoutModel",
      "state": {}
     },
     "c2a10aec041546a4875ad52f89a11052": {
      "model_module": "@jupyter-widgets/base",
      "model_module_version": "1.2.0",
      "model_name": "LayoutModel",
      "state": {
       "width": "250px"
      }
     },
     "c2a585632a2d481b9478ea58ea64ffc6": {
      "model_module": "@jupyter-widgets/base",
      "model_module_version": "1.2.0",
      "model_name": "LayoutModel",
      "state": {}
     },
     "c2c640de14ae4065a39f8dd7187a8d0f": {
      "model_module": "@jupyter-widgets/base",
      "model_module_version": "1.2.0",
      "model_name": "LayoutModel",
      "state": {
       "justify_content": "center"
      }
     },
     "c2c80f4f3b5c4fd2a1ea4715397a69f6": {
      "model_module": "@jupyter-widgets/controls",
      "model_module_version": "1.5.0",
      "model_name": "HTMLModel",
      "state": {
       "layout": "IPY_MODEL_39cd13d1c4314644867ec7fc1375fc56",
       "style": "IPY_MODEL_7d7a6f4627cc4348bc79e5a1b55ff3b5",
       "value": "<h4 style=\"font-size:14px;\">Schildern beide Sätze denselben Sachverhalt?</h4>"
      }
     },
     "c31b1a2026e3473184bca953919ed0db": {
      "model_module": "@jupyter-widgets/controls",
      "model_module_version": "1.5.0",
      "model_name": "DescriptionStyleModel",
      "state": {
       "description_width": "initial"
      }
     },
     "c332243d8f514c9da9bf7fa032be6c1c": {
      "model_module": "@jupyter-widgets/controls",
      "model_module_version": "1.5.0",
      "model_name": "VBoxModel",
      "state": {
       "children": [
        "IPY_MODEL_6a1d46eb368f4846b5b476da0e2e7210",
        "IPY_MODEL_f1b1830787d74273b9a5ba029ea4402c",
        "IPY_MODEL_4b29da30636b472ca8c8293fd21d5a26"
       ],
       "layout": "IPY_MODEL_e9ff4410c6934e8db286b9d744e4d113"
      }
     },
     "c34c49076048489dbcafe97a32576fad": {
      "model_module": "@jupyter-widgets/base",
      "model_module_version": "1.2.0",
      "model_name": "LayoutModel",
      "state": {
       "width": "600px"
      }
     },
     "c34dc62d81e54879aa5967635727ea75": {
      "model_module": "@jupyter-widgets/controls",
      "model_module_version": "1.5.0",
      "model_name": "DescriptionStyleModel",
      "state": {
       "description_width": "initial"
      }
     },
     "c36a2e33abba41ffa3df4493b1424aae": {
      "model_module": "@jupyter-widgets/base",
      "model_module_version": "1.2.0",
      "model_name": "LayoutModel",
      "state": {
       "width": "600px"
      }
     },
     "c36df156c3d7427982ac798a84d9e074": {
      "model_module": "@jupyter-widgets/base",
      "model_module_version": "1.2.0",
      "model_name": "LayoutModel",
      "state": {
       "width": "600px"
      }
     },
     "c39f349d0e114305aafa01866fabaa4b": {
      "model_module": "@jupyter-widgets/base",
      "model_module_version": "1.2.0",
      "model_name": "LayoutModel",
      "state": {}
     },
     "c3a9fb6764234933987d52889c373841": {
      "model_module": "@jupyter-widgets/base",
      "model_module_version": "1.2.0",
      "model_name": "LayoutModel",
      "state": {
       "width": "600px"
      }
     },
     "c3e8ce90e4284d19b368771736225b3a": {
      "model_module": "@jupyter-widgets/base",
      "model_module_version": "1.2.0",
      "model_name": "LayoutModel",
      "state": {}
     },
     "c3f5d6567b7c49999c3e7388075455ee": {
      "model_module": "@jupyter-widgets/base",
      "model_module_version": "1.2.0",
      "model_name": "LayoutModel",
      "state": {
       "width": "600px"
      }
     },
     "c40070c3c85d4db48e286eaa5a520233": {
      "model_module": "@jupyter-widgets/controls",
      "model_module_version": "1.5.0",
      "model_name": "CheckboxModel",
      "state": {
       "description": "'rue Pascal'; ('spouse', 'address', 'street')",
       "disabled": false,
       "layout": "IPY_MODEL_9f220a04afa645149efc8aefa275df59",
       "style": "IPY_MODEL_500f939cc82c49c584f2e5899b525708",
       "value": false
      }
     },
     "c41ef4ab42474123b696fb09ebec9320": {
      "model_module": "@jupyter-widgets/controls",
      "model_module_version": "1.5.0",
      "model_name": "ButtonModel",
      "state": {
       "description": "tuple",
       "layout": "IPY_MODEL_58a2997e86cf42cfbbb4803a129a6bb8",
       "style": "IPY_MODEL_a392005f0f0d4b6594cadd04a276abb5"
      }
     },
     "c421d8fb209642d3a715e739d4cb1450": {
      "model_module": "@jupyter-widgets/controls",
      "model_module_version": "1.5.0",
      "model_name": "ButtonStyleModel",
      "state": {}
     },
     "c4475f487ff1498a84340e4903aa567a": {
      "model_module": "@jupyter-widgets/controls",
      "model_module_version": "1.5.0",
      "model_name": "HTMLModel",
      "state": {
       "layout": "IPY_MODEL_348a92ed15ce420795d38b720422e6d9",
       "style": "IPY_MODEL_d543361556d34d98a6e3b50c4b64d222",
       "value": "<h4 style=\"font-size:14px;\">realisieren. Das Adjektiv muss also, wie auch beim Fehlen des bestimmten Artikels, die</h4>"
      }
     },
     "c464b2e33b404fd2a5992e5d9effc94b": {
      "model_module": "@jupyter-widgets/base",
      "model_module_version": "1.2.0",
      "model_name": "LayoutModel",
      "state": {}
     },
     "c475be031c2d4db6b01b9358412a99de": {
      "model_module": "@jupyter-widgets/controls",
      "model_module_version": "1.5.0",
      "model_name": "DescriptionStyleModel",
      "state": {
       "description_width": ""
      }
     },
     "c47f28dba26a46c4a96726c9a163f607": {
      "model_module": "@jupyter-widgets/base",
      "model_module_version": "1.2.0",
      "model_name": "LayoutModel",
      "state": {
       "width": "250px"
      }
     },
     "c47f47c18bee4425906fce8c039e7dcc": {
      "model_module": "@jupyter-widgets/base",
      "model_module_version": "1.2.0",
      "model_name": "LayoutModel",
      "state": {
       "width": "250px"
      }
     },
     "c48863b4c5de4106bfb11a3aaa1315f1": {
      "model_module": "@jupyter-widgets/base",
      "model_module_version": "1.2.0",
      "model_name": "LayoutModel",
      "state": {
       "width": "250px"
      }
     },
     "c4b2eede11fd4267a30f552a06282967": {
      "model_module": "@jupyter-widgets/controls",
      "model_module_version": "1.5.0",
      "model_name": "ButtonStyleModel",
      "state": {
       "button_color": "lightgreen"
      }
     },
     "c4bf3a306d8440c0a29c1a5bb5cdcd2b": {
      "model_module": "@jupyter-widgets/controls",
      "model_module_version": "1.5.0",
      "model_name": "VBoxModel",
      "state": {
       "children": [
        "IPY_MODEL_01cc6705582a4f259f902b8258e9861e",
        "IPY_MODEL_f0ec2a3250cc49dd99013eaf65839bb1",
        "IPY_MODEL_6b503737190242239c82765ba8d64e10",
        "IPY_MODEL_6607ca202c1245f58da6fb73583c8686"
       ],
       "layout": "IPY_MODEL_b06175ea1be54cf6a477055cc7a23cde"
      }
     },
     "c4cec4dbf0154696a07584da0d3a7c0b": {
      "model_module": "@jupyter-widgets/controls",
      "model_module_version": "1.5.0",
      "model_name": "ButtonStyleModel",
      "state": {}
     },
     "c4ebcbeebc79449688907e0e8895ac92": {
      "model_module": "@jupyter-widgets/controls",
      "model_module_version": "1.5.0",
      "model_name": "ButtonStyleModel",
      "state": {}
     },
     "c4ecffd6fdaf4559b853526e170fdfcc": {
      "model_module": "@jupyter-widgets/controls",
      "model_module_version": "1.5.0",
      "model_name": "ButtonModel",
      "state": {
       "description": "Korrekt?",
       "layout": "IPY_MODEL_d21f918d0ed147c7801a725f667bc7dc",
       "style": "IPY_MODEL_1a3c2d8149e74e18968beb5dc06f7b29"
      }
     },
     "c517eba44c22483c86ccf4159efe66ca": {
      "model_module": "@jupyter-widgets/controls",
      "model_module_version": "1.5.0",
      "model_name": "DescriptionStyleModel",
      "state": {
       "description_width": ""
      }
     },
     "c51bc8d395b749d5a31c9ab4b3b6421a": {
      "model_module": "@jupyter-widgets/controls",
      "model_module_version": "1.5.0",
      "model_name": "HTMLModel",
      "state": {
       "layout": "IPY_MODEL_d299ee4875074b6490be93b3f47c511e",
       "style": "IPY_MODEL_e6d152da47214dfa97be78ae129fdfb5",
       "value": "<i>Markieren Sie <ins>alle</ins> passenden Antworten: </i>"
      }
     },
     "c535b84e8a154cde934dd15af46097db": {
      "model_module": "@jupyter-widgets/base",
      "model_module_version": "1.2.0",
      "model_name": "LayoutModel",
      "state": {
       "justify_content": "center"
      }
     },
     "c538ba2fe4034e2e9801ce9f137296d3": {
      "model_module": "@jupyter-widgets/controls",
      "model_module_version": "1.5.0",
      "model_name": "ButtonModel",
      "state": {
       "description": "Keine der anderen Möglichkeiten",
       "layout": "IPY_MODEL_9d224fb8d32d4009b88a7ce61306e009",
       "style": "IPY_MODEL_1e0612b45f5146ecbcf6aa80eaeea513"
      }
     },
     "c5442dfffbfe43acb123d703aeba2961": {
      "model_module": "@jupyter-widgets/controls",
      "model_module_version": "1.5.0",
      "model_name": "HTMLModel",
      "state": {
       "layout": "IPY_MODEL_ce6ccaac0b5b4af7afffaa51a2ce04dd",
       "style": "IPY_MODEL_8af0bedb41b44bef84ed9a4a0f968520",
       "value": "<i>Markieren Sie <ins>alle</ins> passenden Antworten: </i>"
      }
     },
     "c5609dd6087745b2b14692053c40ccb2": {
      "model_module": "@jupyter-widgets/controls",
      "model_module_version": "1.5.0",
      "model_name": "VBoxModel",
      "state": {
       "children": [
        "IPY_MODEL_3b372a9bc4be48449abf9c95ff0019cd",
        "IPY_MODEL_75001167cf63433b8f6ea9a7c8bcf5a1",
        "IPY_MODEL_25fb56c827c74f67a28f35796b751486",
        "IPY_MODEL_2dedf03851ae42da8c6e7d7311c4e285",
        "IPY_MODEL_d0fbcf700e83409aace0b37262339ef5"
       ],
       "layout": "IPY_MODEL_0da47ddddda742dfb6bf8ed4794ccf34"
      }
     },
     "c5bcd76dcb5d45f8a45a7ad5933fd4e1": {
      "model_module": "@jupyter-widgets/base",
      "model_module_version": "1.2.0",
      "model_name": "LayoutModel",
      "state": {}
     },
     "c5bdbf3a250d4d52be12d1f539fd68a8": {
      "model_module": "@jupyter-widgets/controls",
      "model_module_version": "1.5.0",
      "model_name": "ButtonModel",
      "state": {
       "description": "Korrekt?",
       "layout": "IPY_MODEL_92d691aa898e4055a4449da3b8444312",
       "style": "IPY_MODEL_121dc7e0d090402b89140d571904000f"
      }
     },
     "c5c1303e37614185acb050dc8d83dc48": {
      "model_module": "@jupyter-widgets/controls",
      "model_module_version": "1.5.0",
      "model_name": "HTMLModel",
      "state": {
       "layout": "IPY_MODEL_5e6f5fb4ab644c78ba9773613d885f59",
       "style": "IPY_MODEL_bfeb291ff57249a2be78795e853117c5",
       "value": "<h4 style=\"font-size:14px;\">Wie werden Features in formalen Grammatiken verwendet?</h4>"
      }
     },
     "c60ba08f4d1d41f99ee7f0062ba57591": {
      "model_module": "@jupyter-widgets/controls",
      "model_module_version": "1.5.0",
      "model_name": "DescriptionStyleModel",
      "state": {
       "description_width": ""
      }
     },
     "c62f0961608d4552a530538fa1068906": {
      "model_module": "@jupyter-widgets/controls",
      "model_module_version": "1.5.0",
      "model_name": "ButtonModel",
      "state": {
       "description": "Lokativ",
       "layout": "IPY_MODEL_159d40061d7f4a459fc3366cb046e1f5",
       "style": "IPY_MODEL_923ea3c35edf48fdbaa58cccf284a291"
      }
     },
     "c6a4b4b00df546f9b4328da6d45e7788": {
      "model_module": "@jupyter-widgets/controls",
      "model_module_version": "1.5.0",
      "model_name": "HBoxModel",
      "state": {
       "children": [
        "IPY_MODEL_ab2a797153fe4bbeafa2a33b416c8f6a",
        "IPY_MODEL_9cc2ac8159e042eb9911f94163b4c6c4"
       ],
       "layout": "IPY_MODEL_0e074c3966654d21980652c17bddb8f2"
      }
     },
     "c6c013e7763f48619e84e3ec325afa01": {
      "model_module": "@jupyter-widgets/base",
      "model_module_version": "1.2.0",
      "model_name": "LayoutModel",
      "state": {
       "width": "250px"
      }
     },
     "c6f171a4bba9488cba764c3c36be6824": {
      "model_module": "@jupyter-widgets/base",
      "model_module_version": "1.2.0",
      "model_name": "LayoutModel",
      "state": {
       "width": "600px"
      }
     },
     "c7082e683de94c9084c2f480741f73bd": {
      "model_module": "@jupyter-widgets/controls",
      "model_module_version": "1.5.0",
      "model_name": "ButtonModel",
      "state": {
       "description": "Locative",
       "layout": "IPY_MODEL_1d09ca79545342618bfbc61c7ab150de",
       "style": "IPY_MODEL_dcd80652990140fcbc14435f86b40f28"
      }
     },
     "c72cec01a6bb45f584a85ca74e049436": {
      "model_module": "@jupyter-widgets/base",
      "model_module_version": "1.2.0",
      "model_name": "LayoutModel",
      "state": {
       "width": "600px"
      }
     },
     "c75dab3b43eb45e68e4d35b5fb9a29fe": {
      "model_module": "@jupyter-widgets/controls",
      "model_module_version": "1.5.0",
      "model_name": "ButtonStyleModel",
      "state": {}
     },
     "c773d6d496514d17861510a51c2ebf99": {
      "model_module": "@jupyter-widgets/controls",
      "model_module_version": "1.5.0",
      "model_name": "HTMLModel",
      "state": {
       "layout": "IPY_MODEL_4f6c0e85f8d5430e97150f17dabc56d5",
       "style": "IPY_MODEL_6f5e847b0335472eac5ca357c2ae2db0",
       "value": "<i>Wählen Sie die <ins>eine</ins> korrekte Antwort aus: </i>"
      }
     },
     "c78e6461fd424c73877c28f38245f6e5": {
      "model_module": "@jupyter-widgets/base",
      "model_module_version": "1.2.0",
      "model_name": "LayoutModel",
      "state": {
       "justify_content": "center"
      }
     },
     "c7dc2ca779ac43be874e10c32965f14e": {
      "model_module": "@jupyter-widgets/controls",
      "model_module_version": "1.5.0",
      "model_name": "DescriptionStyleModel",
      "state": {
       "description_width": ""
      }
     },
     "c828edc3e740441bac00ab23d81df919": {
      "model_module": "@jupyter-widgets/controls",
      "model_module_version": "1.5.0",
      "model_name": "DescriptionStyleModel",
      "state": {
       "description_width": ""
      }
     },
     "c82bb6e98d27419daf9fb1c15276fab2": {
      "model_module": "@jupyter-widgets/controls",
      "model_module_version": "1.5.0",
      "model_name": "HTMLModel",
      "state": {
       "layout": "IPY_MODEL_66a7b88fd4964e51b28390af60143ef6",
       "style": "IPY_MODEL_b7988e3d4c8245fb96d543bffca7d32e",
       "value": "<i>Vervollständigen Sie den Lückentext: </i>"
      }
     },
     "c82fc487de6b40928c3d38943f88d6d5": {
      "model_module": "@jupyter-widgets/base",
      "model_module_version": "1.2.0",
      "model_name": "LayoutModel",
      "state": {
       "width": "600px"
      }
     },
     "c83869c7472e4c4fb6b70eaf9cdf56b0": {
      "model_module": "@jupyter-widgets/controls",
      "model_module_version": "1.5.0",
      "model_name": "ButtonModel",
      "state": {
       "description": "Patiens",
       "layout": "IPY_MODEL_f9b9d285858842e98b37dc2091727c48",
       "style": "IPY_MODEL_f37ad0d5415e4d30bb724aab8c2cbbdc"
      }
     },
     "c83df081a7c84917a0b9cda085644fc0": {
      "model_module": "@jupyter-widgets/base",
      "model_module_version": "1.2.0",
      "model_name": "LayoutModel",
      "state": {
       "justify_content": "center"
      }
     },
     "c86151c8ac1b480384476d4a8d7f2d94": {
      "model_module": "@jupyter-widgets/controls",
      "model_module_version": "1.5.0",
      "model_name": "CheckboxModel",
      "state": {
       "description": "74; ('address', 'number')",
       "disabled": false,
       "layout": "IPY_MODEL_db8d2e96d357465e9edde73482aebee8",
       "style": "IPY_MODEL_0fd2f503019743e9ba9c5f26df90de6f",
       "value": false
      }
     },
     "c8708d3df318499c9d0104662f2ed7fc": {
      "model_module": "@jupyter-widgets/controls",
      "model_module_version": "1.5.0",
      "model_name": "HBoxModel",
      "state": {
       "children": [
        "IPY_MODEL_26506adba64e452e9286530b1e07d277",
        "IPY_MODEL_1c13615e1efd422a84a5e88d1ea5d723"
       ],
       "layout": "IPY_MODEL_d34aaa3c15044a1491a8ef6c8f0d71d2"
      }
     },
     "c8855d0e965447638bc845e9304a379a": {
      "model_module": "@jupyter-widgets/controls",
      "model_module_version": "1.5.0",
      "model_name": "ButtonStyleModel",
      "state": {}
     },
     "c8925eea2f9e401797d8e933220a60b4": {
      "model_module": "@jupyter-widgets/controls",
      "model_module_version": "1.5.0",
      "model_name": "DescriptionStyleModel",
      "state": {
       "description_width": "initial"
      }
     },
     "c896faf37cc4489baab08b6bb007814c": {
      "model_module": "@jupyter-widgets/controls",
      "model_module_version": "1.5.0",
      "model_name": "DescriptionStyleModel",
      "state": {
       "description_width": ""
      }
     },
     "c91885b117894e1abf488f8a692c497f": {
      "model_module": "@jupyter-widgets/base",
      "model_module_version": "1.2.0",
      "model_name": "LayoutModel",
      "state": {}
     },
     "c951d41d2f1a40f88331c93195eb895c": {
      "model_module": "@jupyter-widgets/base",
      "model_module_version": "1.2.0",
      "model_name": "LayoutModel",
      "state": {
       "width": "600px"
      }
     },
     "c963f119530d49e1afac9b1177af14e7": {
      "model_module": "@jupyter-widgets/controls",
      "model_module_version": "1.5.0",
      "model_name": "HTMLModel",
      "state": {
       "layout": "IPY_MODEL_2b0f671772394f238e491a7042b0ba25",
       "style": "IPY_MODEL_22a5cdefcda54bfd9b7f1e98bfa5d692",
       "value": "<h4 style=\"font-size:14px;\">Im Falle, dass im Zuge einer Unifikation Informationen zum Wert eines Pfades x hinzugefügt werden, wie verändern sich die Werte aller zu x äquivalenten Pfade?</h4>"
      }
     },
     "c985da2cd1c9432b8694ef2f664075f9": {
      "model_module": "@jupyter-widgets/controls",
      "model_module_version": "1.5.0",
      "model_name": "HTMLModel",
      "state": {
       "layout": "IPY_MODEL_768567e2b7814a16917b2035bf6599b0",
       "style": "IPY_MODEL_ee6be781f1f541bda70b56331af5c42d",
       "value": "<i>Wählen Sie die <ins>eine</ins> korrekte Antwort aus: </i>"
      }
     },
     "c9b5a94240544a9088e15bdfa0308852": {
      "model_module": "@jupyter-widgets/controls",
      "model_module_version": "1.5.0",
      "model_name": "VBoxModel",
      "state": {
       "children": [
        "IPY_MODEL_1d2b9f0d767847d8b4bc854bcc94b155",
        "IPY_MODEL_d795a3be1ab54bd2b4192a4351669832",
        "IPY_MODEL_d9937b9f287c4169a997b25f7dc95823",
        "IPY_MODEL_f1834302b7144c4cb26e7e44b9dc47cb"
       ],
       "layout": "IPY_MODEL_6cd616a2990047139bf7191e7cd75825"
      }
     },
     "c9c66e7162804915a63d229d0144ce80": {
      "model_module": "@jupyter-widgets/controls",
      "model_module_version": "1.5.0",
      "model_name": "CheckboxModel",
      "state": {
       "description": "Es übernimmt immer das Patiens die Subjektfunktion.",
       "disabled": false,
       "layout": "IPY_MODEL_cb5afc420f694b1c91ad98e301e0bae7",
       "style": "IPY_MODEL_b9d4a8845e374070ac29777ed80af69f",
       "value": false
      }
     },
     "c9d38c82fe7e4ce78b472e6a141bac82": {
      "model_module": "@jupyter-widgets/controls",
      "model_module_version": "1.5.0",
      "model_name": "DropdownModel",
      "state": {
       "_options_labels": [
        "Adverbial",
        "Nomen",
        "Personalpronomen",
        " "
       ],
       "index": 3,
       "layout": "IPY_MODEL_50a0dbc26a374cf1bbba082dc74aaa40",
       "style": "IPY_MODEL_f741e8ec87024bb592b24066d2d3916e"
      }
     },
     "c9f5cfb048214864a3e4967252aa1d22": {
      "model_module": "@jupyter-widgets/base",
      "model_module_version": "1.2.0",
      "model_name": "LayoutModel",
      "state": {
       "justify_content": "center"
      }
     },
     "ca63e8a6297449b3a42b58bccd6f0c4f": {
      "model_module": "@jupyter-widgets/controls",
      "model_module_version": "1.5.0",
      "model_name": "ButtonStyleModel",
      "state": {}
     },
     "ca691375a52f4304a9906cb4ce9a2e5b": {
      "model_module": "@jupyter-widgets/base",
      "model_module_version": "1.2.0",
      "model_name": "LayoutModel",
      "state": {}
     },
     "cac3a5fbd6a44e66ac7fd99d3e5fb214": {
      "model_module": "@jupyter-widgets/base",
      "model_module_version": "1.2.0",
      "model_name": "LayoutModel",
      "state": {
       "justify_content": "center"
      }
     },
     "cacafa00dae148f3b8b568b011cab8ce": {
      "model_module": "@jupyter-widgets/controls",
      "model_module_version": "1.5.0",
      "model_name": "VBoxModel",
      "state": {
       "children": [
        "IPY_MODEL_5d8a1b2429a24fb1894634c408ddd7d7",
        "IPY_MODEL_d99fcfe7f7ba49f281198c08903d4527",
        "IPY_MODEL_6687de57d19c47259cc10ac255e1f5e9",
        "IPY_MODEL_08aa7f1e03b2464eb47d0b40580efd7f"
       ],
       "layout": "IPY_MODEL_e35fb9fa85a941dd88c581fa87403500"
      }
     },
     "cad86ba430da4704a800227111503fea": {
      "model_module": "@jupyter-widgets/base",
      "model_module_version": "1.2.0",
      "model_name": "LayoutModel",
      "state": {
       "width": "250px"
      }
     },
     "cae4ccc1d4f24c08b99388e43c07c47c": {
      "model_module": "@jupyter-widgets/controls",
      "model_module_version": "1.5.0",
      "model_name": "HTMLModel",
      "state": {
       "layout": "IPY_MODEL_3d91846eb2b14abd89036838866d9795",
       "style": "IPY_MODEL_8e95ebcaef5b446b8fce77f76818c14b",
       "value": "<i>Wählen Sie die <ins>eine</ins> korrekte Antwort aus: </i>"
      }
     },
     "cb51120d81314d72a65a4a1037ad2683": {
      "model_module": "@jupyter-widgets/base",
      "model_module_version": "1.2.0",
      "model_name": "LayoutModel",
      "state": {}
     },
     "cb5afc420f694b1c91ad98e301e0bae7": {
      "model_module": "@jupyter-widgets/base",
      "model_module_version": "1.2.0",
      "model_name": "LayoutModel",
      "state": {
       "width": "600px"
      }
     },
     "cb666b639ef74f5d914687852ed83328": {
      "model_module": "@jupyter-widgets/controls",
      "model_module_version": "1.5.0",
      "model_name": "DescriptionStyleModel",
      "state": {
       "description_width": ""
      }
     },
     "cbc5e1886e494434be6317e9a466983a": {
      "model_module": "@jupyter-widgets/controls",
      "model_module_version": "1.5.0",
      "model_name": "VBoxModel",
      "state": {
       "children": [
        "IPY_MODEL_9f682990588c4615967a5310f6d48c81",
        "IPY_MODEL_9eca3d9e47bd4026abb3dfd61d521d74",
        "IPY_MODEL_eb534249ec634da89e3590c5bb423cbc",
        "IPY_MODEL_69fcff8ee164406d9ae1be0101aa61ae"
       ],
       "layout": "IPY_MODEL_77d4ccc26555444d952ab6ff51bd399a"
      }
     },
     "cbc700e46d084469aa142aeacfc05002": {
      "model_module": "@jupyter-widgets/base",
      "model_module_version": "1.2.0",
      "model_name": "LayoutModel",
      "state": {
       "width": "600px"
      }
     },
     "cbd4e639bee54e07aa23daf602bade35": {
      "model_module": "@jupyter-widgets/base",
      "model_module_version": "1.2.0",
      "model_name": "LayoutModel",
      "state": {}
     },
     "cc475b8b767248d6a01769ff71c81c1c": {
      "model_module": "@jupyter-widgets/base",
      "model_module_version": "1.2.0",
      "model_name": "LayoutModel",
      "state": {}
     },
     "cceb0d29930943b4ae52021c095107c5": {
      "model_module": "@jupyter-widgets/controls",
      "model_module_version": "1.5.0",
      "model_name": "DescriptionStyleModel",
      "state": {
       "description_width": ""
      }
     },
     "cd3d36e745bf4795a3a650e8647d3a7e": {
      "model_module": "@jupyter-widgets/base",
      "model_module_version": "1.2.0",
      "model_name": "LayoutModel",
      "state": {
       "width": "250px"
      }
     },
     "cd419c5fca2948f59b65753f9733cd84": {
      "model_module": "@jupyter-widgets/controls",
      "model_module_version": "1.5.0",
      "model_name": "HTMLModel",
      "state": {
       "layout": "IPY_MODEL_0ad6ecc5e8594431b4229a9f0414d68f",
       "style": "IPY_MODEL_ceb7e605566b47b095e8a16ca83c084d",
       "value": "<i>Markieren Sie <ins>alle</ins> passenden Antworten: </i>"
      }
     },
     "cd6a2d8df0fe4e3a98d13b74f06990c3": {
      "model_module": "@jupyter-widgets/base",
      "model_module_version": "1.2.0",
      "model_name": "LayoutModel",
      "state": {}
     },
     "cd81edbb70e941d794ff801c32784a4f": {
      "model_module": "@jupyter-widgets/base",
      "model_module_version": "1.2.0",
      "model_name": "LayoutModel",
      "state": {}
     },
     "cd83b6a96f0246f3b937db68f0b43abd": {
      "model_module": "@jupyter-widgets/base",
      "model_module_version": "1.2.0",
      "model_name": "LayoutModel",
      "state": {
       "width": "600px"
      }
     },
     "cd95570db0404145865f855de36073f0": {
      "model_module": "@jupyter-widgets/base",
      "model_module_version": "1.2.0",
      "model_name": "LayoutModel",
      "state": {}
     },
     "cdc7e37bdcc14e8d9f70de6eb67c237b": {
      "model_module": "@jupyter-widgets/controls",
      "model_module_version": "1.5.0",
      "model_name": "ButtonModel",
      "state": {
       "description": "Korrekt?",
       "layout": "IPY_MODEL_4cf27e4124eb4404a6a3282c8f1e42f4",
       "style": "IPY_MODEL_03a9415be6184ff7843da4ff5686a691"
      }
     },
     "cdd401f44bc747f58526e1b22f6d9edd": {
      "model_module": "@jupyter-widgets/base",
      "model_module_version": "1.2.0",
      "model_name": "LayoutModel",
      "state": {}
     },
     "ce1727f0c6414759a019323d0103de54": {
      "model_module": "@jupyter-widgets/controls",
      "model_module_version": "1.5.0",
      "model_name": "ButtonModel",
      "state": {
       "description": "Korrekt?",
       "layout": "IPY_MODEL_51fff09f65b84478a9591c71aefb886f",
       "style": "IPY_MODEL_f3af159a2d874255abbd3111c7c47d1d"
      }
     },
     "ce32f66f3b81415484cc17adc6644b13": {
      "model_module": "@jupyter-widgets/controls",
      "model_module_version": "1.5.0",
      "model_name": "CheckboxModel",
      "state": {
       "description": "Die Form des Adjektivs ist in jedem Kasus unterschiedlich.",
       "disabled": false,
       "layout": "IPY_MODEL_49af17a39efb45c189bc6e1645293b95",
       "style": "IPY_MODEL_3cee8d7bcdb646b685f3213a0831a956",
       "value": false
      }
     },
     "ce60fb9046d84d539c2244a62fefa3f7": {
      "model_module": "@jupyter-widgets/controls",
      "model_module_version": "1.5.0",
      "model_name": "DescriptionStyleModel",
      "state": {
       "description_width": ""
      }
     },
     "ce6ccaac0b5b4af7afffaa51a2ce04dd": {
      "model_module": "@jupyter-widgets/base",
      "model_module_version": "1.2.0",
      "model_name": "LayoutModel",
      "state": {
       "justify_content": "center"
      }
     },
     "ce7547ff3d0e44c09906fd04f3eded96": {
      "model_module": "@jupyter-widgets/controls",
      "model_module_version": "1.5.0",
      "model_name": "ButtonStyleModel",
      "state": {}
     },
     "ce81a50fd6b1445bbfbee93f85b4429f": {
      "model_module": "@jupyter-widgets/controls",
      "model_module_version": "1.5.0",
      "model_name": "DescriptionStyleModel",
      "state": {
       "description_width": "initial"
      }
     },
     "ce8f1fde08d14d248cca219653705448": {
      "model_module": "@jupyter-widgets/controls",
      "model_module_version": "1.5.0",
      "model_name": "HTMLModel",
      "state": {
       "layout": "IPY_MODEL_8cbe76fb9668473a97c7d5bd4ecf95ba",
       "style": "IPY_MODEL_4afe4cfe3e6945ed826d893a74af1ba9",
       "value": "<i>Markieren Sie <ins>alle</ins> passenden Antworten: </i>"
      }
     },
     "cea1c131ee8e46e0aa3ca6c53ada0058": {
      "model_module": "@jupyter-widgets/base",
      "model_module_version": "1.2.0",
      "model_name": "LayoutModel",
      "state": {
       "width": "600px"
      }
     },
     "ceb7e605566b47b095e8a16ca83c084d": {
      "model_module": "@jupyter-widgets/controls",
      "model_module_version": "1.5.0",
      "model_name": "DescriptionStyleModel",
      "state": {
       "description_width": ""
      }
     },
     "cee595846d9742d8af9ac67098e74c29": {
      "model_module": "@jupyter-widgets/controls",
      "model_module_version": "1.5.0",
      "model_name": "HTMLModel",
      "state": {
       "layout": "IPY_MODEL_a458bca922074508a5c7e55207c3edcf",
       "style": "IPY_MODEL_eb2eed7d5a1448a282f847a8705195da",
       "value": "<h4 style=\"font-size:14px;\">dekliniert. Dies mag daran liegen, dass die</h4>"
      }
     },
     "cef633cac546468ca2eb90c7ba63254a": {
      "model_module": "@jupyter-widgets/controls",
      "model_module_version": "1.5.0",
      "model_name": "HTMLModel",
      "state": {
       "layout": "IPY_MODEL_565fe92e02384dd8a59a620cc0b26696",
       "style": "IPY_MODEL_6bdb48e9eea84146a11335b8bd5b1a9c",
       "value": "<i>Wählen Sie die <ins>eine</ins> korrekte Antwort aus: </i>"
      }
     },
     "cf07e8a0c0584262a3fe8027cb3856bc": {
      "model_module": "@jupyter-widgets/base",
      "model_module_version": "1.2.0",
      "model_name": "LayoutModel",
      "state": {}
     },
     "cf2aa46596274a4092aa881b860173f9": {
      "model_module": "@jupyter-widgets/base",
      "model_module_version": "1.2.0",
      "model_name": "LayoutModel",
      "state": {}
     },
     "cf3691dd027f49128653c311161ca0cd": {
      "model_module": "@jupyter-widgets/controls",
      "model_module_version": "1.5.0",
      "model_name": "DropdownModel",
      "state": {
       "_options_labels": [
        "Adverbiale",
        "Nomen",
        "Personalpronomina",
        " "
       ],
       "index": 3,
       "layout": "IPY_MODEL_8256b5fa090d4192b349b60467b067f3",
       "style": "IPY_MODEL_94733830b87e4e489ea416e2c133ff95"
      }
     },
     "cf54b8824461445f92e42756f2514a65": {
      "model_module": "@jupyter-widgets/controls",
      "model_module_version": "1.5.0",
      "model_name": "HBoxModel",
      "state": {
       "children": [
        "IPY_MODEL_98f22163d1c445e4805d2b0c75727f16",
        "IPY_MODEL_ea28f3b6ba874d5bae0fea2b770c617a"
       ],
       "layout": "IPY_MODEL_d2959ec2547a49b3911b8701628ee019"
      }
     },
     "d006557785f04e8facf08c300e44079c": {
      "model_module": "@jupyter-widgets/controls",
      "model_module_version": "1.5.0",
      "model_name": "DescriptionStyleModel",
      "state": {
       "description_width": ""
      }
     },
     "d009ed2039d74f0b823eadbeb1a4de44": {
      "model_module": "@jupyter-widgets/controls",
      "model_module_version": "1.5.0",
      "model_name": "VBoxModel",
      "state": {
       "children": [
        "IPY_MODEL_447b6833c6e14d0a9c09f78876e4f318",
        "IPY_MODEL_b5e9fb601d6e42d295c8659656fda485",
        "IPY_MODEL_d4953eec3d004bde9c07cd9c22d583f7",
        "IPY_MODEL_e7484f8674a24a52be89a51f644a8e6f"
       ],
       "layout": "IPY_MODEL_dc00c677efdb4843979ec023f30e0a44"
      }
     },
     "d062a5e9e5d341b79524d8164419f65b": {
      "model_module": "@jupyter-widgets/controls",
      "model_module_version": "1.5.0",
      "model_name": "CheckboxModel",
      "state": {
       "description": "x?",
       "disabled": false,
       "layout": "IPY_MODEL_a7f44d8f37ee4474b1dfd88c25ea743d",
       "style": "IPY_MODEL_ad274f8652e648c590955cc784178764",
       "value": false
      }
     },
     "d07bde74696d4e6799ffde83a03c12d2": {
      "model_module": "@jupyter-widgets/controls",
      "model_module_version": "1.5.0",
      "model_name": "HTMLModel",
      "state": {
       "layout": "IPY_MODEL_769371de371a4b8ebab8b20b8a4c1a47",
       "style": "IPY_MODEL_9136ecb5aa4441b29c72ac55cfdb638f",
       "value": "<i>Wählen Sie die <ins>eine</ins> korrekte Antwort aus: </i>"
      }
     },
     "d08c54f8b76e49bda4df8267153301ca": {
      "model_module": "@jupyter-widgets/controls",
      "model_module_version": "1.5.0",
      "model_name": "VBoxModel",
      "state": {
       "children": [
        "IPY_MODEL_8a937f5785a245acbda82900dbc5ffed",
        "IPY_MODEL_e8615815aaa0406c9458b0c579207547",
        "IPY_MODEL_e67fa5faa91943adb77d0a00913a7613",
        "IPY_MODEL_29650848325f4377b2c3f864696dbd29",
        "IPY_MODEL_010a9b9785734993967a638fb1160e40",
        "IPY_MODEL_2522e53a70a846348bfd66dc6b5a7e94"
       ],
       "layout": "IPY_MODEL_769b9e702beb4fd7bf5dbaa698bf1c6b"
      }
     },
     "d0c2aa24a216413eae38572366cf77fc": {
      "model_module": "@jupyter-widgets/controls",
      "model_module_version": "1.5.0",
      "model_name": "ButtonStyleModel",
      "state": {}
     },
     "d0d9efd1413040da80f60754e51b5d9e": {
      "model_module": "@jupyter-widgets/controls",
      "model_module_version": "1.5.0",
      "model_name": "CheckboxModel",
      "state": {
       "description": "Das Fehlen des Artikels hat keine Auswirkungen auf das Adjektiv.",
       "disabled": false,
       "layout": "IPY_MODEL_b511a9af9c9b4d93a7d3584d902e05cb",
       "style": "IPY_MODEL_ed59c6bd497c47638881266db99dc97f",
       "value": false
      }
     },
     "d0ef607b2f5f4fb5b6967468831f87f2": {
      "model_module": "@jupyter-widgets/controls",
      "model_module_version": "1.5.0",
      "model_name": "ButtonStyleModel",
      "state": {}
     },
     "d0f4f34cfd7b4426942061889f2038dc": {
      "model_module": "@jupyter-widgets/base",
      "model_module_version": "1.2.0",
      "model_name": "LayoutModel",
      "state": {}
     },
     "d0fbcf700e83409aace0b37262339ef5": {
      "model_module": "@jupyter-widgets/controls",
      "model_module_version": "1.5.0",
      "model_name": "CheckboxModel",
      "state": {
       "description": "FS0 = [CAT = N], FS1 = [CAT = N, GEN = MASK]",
       "disabled": false,
       "layout": "IPY_MODEL_a98b57c8a7b3475eabf360c90830e9bc",
       "style": "IPY_MODEL_3f9409191f004f068620af24119584b5",
       "value": false
      }
     },
     "d123bb8a410446c3a380c9c448ee3c00": {
      "model_module": "@jupyter-widgets/controls",
      "model_module_version": "1.5.0",
      "model_name": "VBoxModel",
      "state": {
       "children": [
        "IPY_MODEL_e11ffb5cfe4c47aa920bde82def65100",
        "IPY_MODEL_a5f152ff9c064e559f202e5a2748a257",
        "IPY_MODEL_c8708d3df318499c9d0104662f2ed7fc",
        "IPY_MODEL_7d21af23b5604386a600a2dbc30e8c0a",
        "IPY_MODEL_2da4728e2a6d4119868fc3153eca1814",
        "IPY_MODEL_dd3c22482eaa4575b4d4cae7575e69d9"
       ],
       "layout": "IPY_MODEL_1c8f9210b75846638439a713f9b8c8a9"
      }
     },
     "d12cb4c3e16d41ecbe17ecf26584cc82": {
      "model_module": "@jupyter-widgets/base",
      "model_module_version": "1.2.0",
      "model_name": "LayoutModel",
      "state": {}
     },
     "d15a5646677740bd92398e42a2a974db": {
      "model_module": "@jupyter-widgets/controls",
      "model_module_version": "1.5.0",
      "model_name": "HTMLModel",
      "state": {
       "layout": "IPY_MODEL_5d7ccd55857c460abeb5b16735c22a40",
       "style": "IPY_MODEL_23807e3abb5948b18ab740ab5f520d67",
       "value": "<i>Markieren Sie <ins>alle</ins> passenden Antworten: </i>"
      }
     },
     "d19dfb40cbe64c859f46c7975b049697": {
      "model_module": "@jupyter-widgets/controls",
      "model_module_version": "1.5.0",
      "model_name": "ButtonStyleModel",
      "state": {}
     },
     "d1b116ee73be491f99233bd483d5446c": {
      "model_module": "@jupyter-widgets/controls",
      "model_module_version": "1.5.0",
      "model_name": "VBoxModel",
      "state": {
       "children": [
        "IPY_MODEL_631db2442f754a75801adc323b2dbfd4",
        "IPY_MODEL_2927fd7e7b9647bea4f77333d80f9d85",
        "IPY_MODEL_99f19230521f4ea293bd26c01993cc1a",
        "IPY_MODEL_abcef5365b554bf2bd9eebe91734bd60"
       ],
       "layout": "IPY_MODEL_f3bc72fa45274d30976f20eacaf1ae02"
      }
     },
     "d1b54da0406e4d79a61325a7add3b1e2": {
      "model_module": "@jupyter-widgets/base",
      "model_module_version": "1.2.0",
      "model_name": "LayoutModel",
      "state": {}
     },
     "d1b8f0c630e04e768422ee2f620240cd": {
      "model_module": "@jupyter-widgets/controls",
      "model_module_version": "1.5.0",
      "model_name": "HBoxModel",
      "state": {
       "children": [
        "IPY_MODEL_8257aa26f1244e9da14456d4470635c4",
        "IPY_MODEL_54c08c77e4344df08327b01021a7d239"
       ],
       "layout": "IPY_MODEL_dd25332f57c34a4bb0ae453746f84486"
      }
     },
     "d1c1e95e06594f0fa7e522a4cc1b5199": {
      "model_module": "@jupyter-widgets/controls",
      "model_module_version": "1.5.0",
      "model_name": "ButtonStyleModel",
      "state": {}
     },
     "d1d1d26b651549f39fbe887a0da3f905": {
      "model_module": "@jupyter-widgets/controls",
      "model_module_version": "1.5.0",
      "model_name": "CheckboxModel",
      "state": {
       "description": "Subjekt-Demotion zu Adverbial",
       "disabled": false,
       "layout": "IPY_MODEL_9ed54aafcfae419ca81669033eae95c5",
       "style": "IPY_MODEL_b140d7be11d64a799abce20d71eb1483",
       "value": false
      }
     },
     "d1d4ca3732bd4ecaab105b37d2f6af54": {
      "model_module": "@jupyter-widgets/controls",
      "model_module_version": "1.5.0",
      "model_name": "DescriptionStyleModel",
      "state": {
       "description_width": "initial"
      }
     },
     "d1dfa822156d4343b1a3bcd52b8e9ef9": {
      "model_module": "@jupyter-widgets/controls",
      "model_module_version": "1.5.0",
      "model_name": "ButtonStyleModel",
      "state": {
       "button_color": "lightgreen"
      }
     },
     "d1f12bd5d0714c6382857edeab16d17d": {
      "model_module": "@jupyter-widgets/controls",
      "model_module_version": "1.5.0",
      "model_name": "HTMLModel",
      "state": {
       "layout": "IPY_MODEL_bde7e5f965bb4c5ebe5c99affbb4aa95",
       "style": "IPY_MODEL_c60ba08f4d1d41f99ee7f0062ba57591",
       "value": "<i>Wählen Sie die <ins>eine</ins> korrekte Antwort aus: </i>"
      }
     },
     "d21f918d0ed147c7801a725f667bc7dc": {
      "model_module": "@jupyter-widgets/base",
      "model_module_version": "1.2.0",
      "model_name": "LayoutModel",
      "state": {
       "width": "250px"
      }
     },
     "d23ea0203d3e43919a9a948318865aef": {
      "model_module": "@jupyter-widgets/controls",
      "model_module_version": "1.5.0",
      "model_name": "HTMLModel",
      "state": {
       "layout": "IPY_MODEL_ff6d88866fbc41669e566b20f799ceca",
       "style": "IPY_MODEL_336617368ff2445e98e06ea1d41be3d4",
       "value": "<i>Wählen Sie die <ins>eine</ins> korrekte Antwort aus: </i>"
      }
     },
     "d25562feda6a46e7a868d02e0de3dcaf": {
      "model_module": "@jupyter-widgets/controls",
      "model_module_version": "1.5.0",
      "model_name": "VBoxModel",
      "state": {
       "children": [
        "IPY_MODEL_21d1754b8800432f8e408ce89db803ec",
        "IPY_MODEL_9b5ecf89037a46af9021649945184432",
        "IPY_MODEL_17d204926e22405da174bf22a45854bc",
        "IPY_MODEL_30a06eed95944611a6a252c3f9ca51c4",
        "IPY_MODEL_d6d16b4d8fa54e829ef945c9292d35bf"
       ],
       "layout": "IPY_MODEL_bad989cd9ed44d36bd85f776d964bb81"
      }
     },
     "d281490f5a154689bd7f3b296df7d809": {
      "model_module": "@jupyter-widgets/base",
      "model_module_version": "1.2.0",
      "model_name": "LayoutModel",
      "state": {}
     },
     "d2945f405c5a406693493c80918ac7dd": {
      "model_module": "@jupyter-widgets/controls",
      "model_module_version": "1.5.0",
      "model_name": "ButtonStyleModel",
      "state": {
       "button_color": "lightgreen"
      }
     },
     "d2959ec2547a49b3911b8701628ee019": {
      "model_module": "@jupyter-widgets/base",
      "model_module_version": "1.2.0",
      "model_name": "LayoutModel",
      "state": {}
     },
     "d2962f1e9039436d8eb7283e242322d7": {
      "model_module": "@jupyter-widgets/controls",
      "model_module_version": "1.5.0",
      "model_name": "ButtonModel",
      "state": {
       "description": "Agens",
       "layout": "IPY_MODEL_b33389e1785d485ca57e7aaad9bc83db",
       "style": "IPY_MODEL_886d86d2391247129203256b58fe2ca6"
      }
     },
     "d299ee4875074b6490be93b3f47c511e": {
      "model_module": "@jupyter-widgets/base",
      "model_module_version": "1.2.0",
      "model_name": "LayoutModel",
      "state": {
       "justify_content": "center"
      }
     },
     "d2a13dd9fd9e49209f410734cebf0889": {
      "model_module": "@jupyter-widgets/controls",
      "model_module_version": "1.5.0",
      "model_name": "CheckboxModel",
      "state": {
       "description": "Die Form des Adjektivs richtet sich nach dem Genus des Substantivs.",
       "disabled": false,
       "layout": "IPY_MODEL_4a5a33e51201492ea9e2165c50acd123",
       "style": "IPY_MODEL_e32656a9003842a2ad79ab9311f0d66b",
       "value": false
      }
     },
     "d2acf2aa6d644b76832f0cc4a2c59871": {
      "model_module": "@jupyter-widgets/base",
      "model_module_version": "1.2.0",
      "model_name": "LayoutModel",
      "state": {
       "width": "250px"
      }
     },
     "d2c151abbc4c420eb6a4cc7d66cf9030": {
      "model_module": "@jupyter-widgets/controls",
      "model_module_version": "1.5.0",
      "model_name": "HTMLModel",
      "state": {
       "layout": "IPY_MODEL_2459aaca3b6e4708971eb93c00a65374",
       "style": "IPY_MODEL_9a0276c2864f46c8a647557e8be45719",
       "value": "<h4 style=\"font-size:14px;\">Was gilt immer für das Ergebnis der Unifikation solcher Merkmalstrukturen?</h4>"
      }
     },
     "d2d332ac2ceb4ca9aa83029a4901b188": {
      "model_module": "@jupyter-widgets/controls",
      "model_module_version": "1.5.0",
      "model_name": "VBoxModel",
      "state": {
       "children": [
        "IPY_MODEL_58d57a7ac2c144aeb235de4a67275023",
        "IPY_MODEL_333db59e6db04a809864f93d8a24e333",
        "IPY_MODEL_71c87588a73b4e45af0eae3abf0744bd",
        "IPY_MODEL_509567a30b3d4591a296090539ceecdf"
       ],
       "layout": "IPY_MODEL_5ebbc13a57af46908714a0d238a40e7c"
      }
     },
     "d31fd6dbbd7946ba9a5653350592fb93": {
      "model_module": "@jupyter-widgets/controls",
      "model_module_version": "1.5.0",
      "model_name": "ButtonStyleModel",
      "state": {}
     },
     "d34aaa3c15044a1491a8ef6c8f0d71d2": {
      "model_module": "@jupyter-widgets/base",
      "model_module_version": "1.2.0",
      "model_name": "LayoutModel",
      "state": {}
     },
     "d358b99cead8400dac13f4a1852ecb39": {
      "model_module": "@jupyter-widgets/base",
      "model_module_version": "1.2.0",
      "model_name": "LayoutModel",
      "state": {}
     },
     "d39e142cd0964be99f91dbddcb8e1ebb": {
      "model_module": "@jupyter-widgets/base",
      "model_module_version": "1.2.0",
      "model_name": "LayoutModel",
      "state": {
       "width": "600px"
      }
     },
     "d39e263f7b43467d9e995ae4913d432c": {
      "model_module": "@jupyter-widgets/controls",
      "model_module_version": "1.5.0",
      "model_name": "DescriptionStyleModel",
      "state": {
       "description_width": ""
      }
     },
     "d3c4d6111b36448cbc63bd508c71acb4": {
      "model_module": "@jupyter-widgets/base",
      "model_module_version": "1.2.0",
      "model_name": "LayoutModel",
      "state": {
       "width": "600px"
      }
     },
     "d419c1918e3d46e08ea99be798196971": {
      "model_module": "@jupyter-widgets/controls",
      "model_module_version": "1.5.0",
      "model_name": "DescriptionStyleModel",
      "state": {
       "description_width": "initial"
      }
     },
     "d45c10dee1d146ab954cb349c41efdf0": {
      "model_module": "@jupyter-widgets/base",
      "model_module_version": "1.2.0",
      "model_name": "LayoutModel",
      "state": {}
     },
     "d461b106e0834b058754e6bd79c95e23": {
      "model_module": "@jupyter-widgets/controls",
      "model_module_version": "1.5.0",
      "model_name": "CheckboxModel",
      "state": {
       "description": "74; ( 'number', 'address')",
       "disabled": false,
       "layout": "IPY_MODEL_33664612120d403ca5e2f1dc775c13bc",
       "style": "IPY_MODEL_4ed6eef2dd21410fa52a6c9782727537",
       "value": false
      }
     },
     "d4641712a5ea4c31acbbdda423521078": {
      "model_module": "@jupyter-widgets/base",
      "model_module_version": "1.2.0",
      "model_name": "LayoutModel",
      "state": {
       "width": "600px"
      }
     },
     "d479e9acb21f4a788931446b66d876b0": {
      "model_module": "@jupyter-widgets/base",
      "model_module_version": "1.2.0",
      "model_name": "LayoutModel",
      "state": {
       "width": "600px"
      }
     },
     "d48f2ea1f1894a5ca6594fe71cbc9a8b": {
      "model_module": "@jupyter-widgets/controls",
      "model_module_version": "1.5.0",
      "model_name": "VBoxModel",
      "state": {
       "children": [
        "IPY_MODEL_c82bb6e98d27419daf9fb1c15276fab2",
        "IPY_MODEL_7e2076451b204b34a83918a3536885f4",
        "IPY_MODEL_31d16687b3d0449da11eba2fbb18499f"
       ],
       "layout": "IPY_MODEL_26e701e806844056a1be8c707cbe4dbf"
      }
     },
     "d4953eec3d004bde9c07cd9c22d583f7": {
      "model_module": "@jupyter-widgets/controls",
      "model_module_version": "1.5.0",
      "model_name": "VBoxModel",
      "state": {
       "children": [
        "IPY_MODEL_32cde3215e144a4fb6f74990945bbd69",
        "IPY_MODEL_dee15d13b3644e8aac1282af25c38f8d",
        "IPY_MODEL_44bb733d9a1a4af98a813d4578bd7ecc"
       ],
       "layout": "IPY_MODEL_ea1292c1c30e42a4a7cec374bb038c13"
      }
     },
     "d49df03e8dff45358c01fae5190c15d9": {
      "model_module": "@jupyter-widgets/base",
      "model_module_version": "1.2.0",
      "model_name": "LayoutModel",
      "state": {}
     },
     "d4c78e9192b9484080016006189e50be": {
      "model_module": "@jupyter-widgets/controls",
      "model_module_version": "1.5.0",
      "model_name": "CheckboxModel",
      "state": {
       "description": "FS0 = [CAT = N], FS1 = [CAT = N, GEN = MASK]",
       "disabled": false,
       "layout": "IPY_MODEL_1dc8152db1164beebb58da71a1261752",
       "style": "IPY_MODEL_683bd1cfd8a549f8beff44f82ec886db",
       "value": false
      }
     },
     "d4cfae50a7804e89a5a3728b30ab9be0": {
      "model_module": "@jupyter-widgets/controls",
      "model_module_version": "1.5.0",
      "model_name": "DescriptionStyleModel",
      "state": {
       "description_width": ""
      }
     },
     "d501ce065d7a4d4fa4b7227a09f5de44": {
      "model_module": "@jupyter-widgets/controls",
      "model_module_version": "1.5.0",
      "model_name": "CheckboxModel",
      "state": {
       "description": "Das Adjektiv übernimmt die Endungen des Artikels.",
       "disabled": false,
       "layout": "IPY_MODEL_d69289049efd4b829d7189f230e8de4e",
       "style": "IPY_MODEL_f7082d5bad8e4fe68a97c4329b4d3c3b",
       "value": false
      }
     },
     "d5020ceb50774a9c9e8fecce3f08a4a4": {
      "model_module": "@jupyter-widgets/base",
      "model_module_version": "1.2.0",
      "model_name": "LayoutModel",
      "state": {}
     },
     "d5226abd24cb4b18b861fe13c5f3a15b": {
      "model_module": "@jupyter-widgets/base",
      "model_module_version": "1.2.0",
      "model_name": "LayoutModel",
      "state": {
       "justify_content": "center"
      }
     },
     "d53557c33fa94770ae3025433cc01e4f": {
      "model_module": "@jupyter-widgets/controls",
      "model_module_version": "1.5.0",
      "model_name": "ButtonStyleModel",
      "state": {}
     },
     "d543361556d34d98a6e3b50c4b64d222": {
      "model_module": "@jupyter-widgets/controls",
      "model_module_version": "1.5.0",
      "model_name": "DescriptionStyleModel",
      "state": {
       "description_width": ""
      }
     },
     "d54ce302c92d41d69ae949cf889c378a": {
      "model_module": "@jupyter-widgets/base",
      "model_module_version": "1.2.0",
      "model_name": "LayoutModel",
      "state": {
       "width": "250px"
      }
     },
     "d586f051fbe94f62aa53312c650368d2": {
      "model_module": "@jupyter-widgets/controls",
      "model_module_version": "1.5.0",
      "model_name": "ButtonStyleModel",
      "state": {}
     },
     "d5c5b09e3c624b0bb785895e60a51f7d": {
      "model_module": "@jupyter-widgets/base",
      "model_module_version": "1.2.0",
      "model_name": "LayoutModel",
      "state": {}
     },
     "d6040f844a3249b3acf1869cf3da9f01": {
      "model_module": "@jupyter-widgets/base",
      "model_module_version": "1.2.0",
      "model_name": "LayoutModel",
      "state": {}
     },
     "d6156b60bef74166b521d9c18dafb9d0": {
      "model_module": "@jupyter-widgets/base",
      "model_module_version": "1.2.0",
      "model_name": "LayoutModel",
      "state": {
       "width": "600px"
      }
     },
     "d62cc8d17cc24ac5a0b3c5a0390fb917": {
      "model_module": "@jupyter-widgets/base",
      "model_module_version": "1.2.0",
      "model_name": "LayoutModel",
      "state": {
       "width": "600px"
      }
     },
     "d65a4ba046e745f798c5afdfbae23145": {
      "model_module": "@jupyter-widgets/controls",
      "model_module_version": "1.5.0",
      "model_name": "ButtonStyleModel",
      "state": {
       "button_color": "lightgreen"
      }
     },
     "d666f91cc3ab40859ff1c677c14ab1c2": {
      "model_module": "@jupyter-widgets/controls",
      "model_module_version": "1.5.0",
      "model_name": "ButtonModel",
      "state": {
       "description": "Korrekt?",
       "layout": "IPY_MODEL_8334c069f6a7469f9b47813fab6ba4cd",
       "style": "IPY_MODEL_c0881f50c9fb45b5aafea75889b1c474"
      }
     },
     "d684666dbd7a464da4678594d5a3a924": {
      "model_module": "@jupyter-widgets/controls",
      "model_module_version": "1.5.0",
      "model_name": "HBoxModel",
      "state": {
       "children": [
        "IPY_MODEL_9b23a83fe6b94d46a4753159c9bfef17"
       ],
       "layout": "IPY_MODEL_4d23458bc4444ac6aa906b8297dd7184"
      }
     },
     "d69289049efd4b829d7189f230e8de4e": {
      "model_module": "@jupyter-widgets/base",
      "model_module_version": "1.2.0",
      "model_name": "LayoutModel",
      "state": {
       "width": "600px"
      }
     },
     "d6d16b4d8fa54e829ef945c9292d35bf": {
      "model_module": "@jupyter-widgets/controls",
      "model_module_version": "1.5.0",
      "model_name": "CheckboxModel",
      "state": {
       "description": "FS0 = [CAT = N], FS1 = [CAT = N, GEN = MASK]",
       "disabled": false,
       "layout": "IPY_MODEL_08a81320f6f2454a88b412ae9ec46ad0",
       "style": "IPY_MODEL_9e6eeaddf1754d79992c18ae432be75d",
       "value": false
      }
     },
     "d6f1a9dc32434c34903fb1761272b83a": {
      "model_module": "@jupyter-widgets/base",
      "model_module_version": "1.2.0",
      "model_name": "LayoutModel",
      "state": {
       "justify_content": "center"
      }
     },
     "d71d7b46aa6e400782a49ee19c5702bd": {
      "model_module": "@jupyter-widgets/controls",
      "model_module_version": "1.5.0",
      "model_name": "ButtonModel",
      "state": {
       "description": "bestimmten",
       "layout": "IPY_MODEL_cad86ba430da4704a800227111503fea",
       "style": "IPY_MODEL_465e503bb64d4e83a712e357766918a3"
      }
     },
     "d72527536ce64f9f878da0f2a44d2a4a": {
      "model_module": "@jupyter-widgets/base",
      "model_module_version": "1.2.0",
      "model_name": "LayoutModel",
      "state": {}
     },
     "d75edcb98cf34abdac8827ed7b25b08f": {
      "model_module": "@jupyter-widgets/base",
      "model_module_version": "1.2.0",
      "model_name": "LayoutModel",
      "state": {
       "width": "250px"
      }
     },
     "d77e79a822bc4011a578230a0618ce7f": {
      "model_module": "@jupyter-widgets/controls",
      "model_module_version": "1.5.0",
      "model_name": "ButtonModel",
      "state": {
       "description": "Zeitangabe",
       "layout": "IPY_MODEL_9591fd49cedf44d7a664735a0f2f5447",
       "style": "IPY_MODEL_0d573d870f2c4bdea552a9f2379addeb"
      }
     },
     "d795a3be1ab54bd2b4192a4351669832": {
      "model_module": "@jupyter-widgets/controls",
      "model_module_version": "1.5.0",
      "model_name": "CheckboxModel",
      "state": {
       "description": "Passivierung (Objekt-Promotion)",
       "disabled": false,
       "layout": "IPY_MODEL_777bebbcd1cf46ac8ec667dd6daacf72",
       "style": "IPY_MODEL_0d1b134f39b7492f867218152f60733e",
       "value": true
      }
     },
     "d7cac1cd3dd44e08847f8036af4e6184": {
      "model_module": "@jupyter-widgets/controls",
      "model_module_version": "1.5.0",
      "model_name": "HTMLModel",
      "state": {
       "layout": "IPY_MODEL_6d88bc315daf40ffb1a14de4a50a54b1",
       "style": "IPY_MODEL_5f3363d259d741ad8135f658249f21bd",
       "value": "<i>Markieren Sie <ins>alle</ins> passenden Antworten: </i>"
      }
     },
     "d81e38dc9bb74db98b775787ed82458e": {
      "model_module": "@jupyter-widgets/controls",
      "model_module_version": "1.5.0",
      "model_name": "DescriptionStyleModel",
      "state": {
       "description_width": ""
      }
     },
     "d82d1f6c14eb4bafb769c31b93d6e28b": {
      "model_module": "@jupyter-widgets/controls",
      "model_module_version": "1.5.0",
      "model_name": "ButtonStyleModel",
      "state": {}
     },
     "d82d718a66204fd3adfbd78bf025c34f": {
      "model_module": "@jupyter-widgets/base",
      "model_module_version": "1.2.0",
      "model_name": "LayoutModel",
      "state": {
       "justify_content": "center"
      }
     },
     "d8490d622d2945f883c9bd4b5517f9a5": {
      "model_module": "@jupyter-widgets/controls",
      "model_module_version": "1.5.0",
      "model_name": "VBoxModel",
      "state": {
       "children": [
        "IPY_MODEL_0d0194aa2e1546c8a3ad432d9852e7bd",
        "IPY_MODEL_e611118c96054facab2100d8a8907d55",
        "IPY_MODEL_068ef3c76ee0464a973994830fc27867"
       ],
       "layout": "IPY_MODEL_a8e871c8b57043cdbf0ec191222169fc"
      }
     },
     "d84dc46cc0b2413fb61d566149a22b30": {
      "model_module": "@jupyter-widgets/controls",
      "model_module_version": "1.5.0",
      "model_name": "ButtonModel",
      "state": {
       "description": "Instrument",
       "layout": "IPY_MODEL_53e090f52cae4d9bb5a06e21039889e1",
       "style": "IPY_MODEL_4806083c2ff14e01a74413619fe12273"
      }
     },
     "d858d6dde52141bbbfdb29d9ff06e356": {
      "model_module": "@jupyter-widgets/controls",
      "model_module_version": "1.5.0",
      "model_name": "DescriptionStyleModel",
      "state": {
       "description_width": "initial"
      }
     },
     "d86f8a4bf30e4a898a9ecb7a829b6d9f": {
      "model_module": "@jupyter-widgets/controls",
      "model_module_version": "1.5.0",
      "model_name": "HTMLModel",
      "state": {
       "layout": "IPY_MODEL_4b2be4640c834a93b47b81bbb59d0830",
       "style": "IPY_MODEL_124a9f08ad02440c91919d962bac1192",
       "value": "<i>Vervollständigen Sie den Lückentext: </i>"
      }
     },
     "d89b3ad7fffc42db9955f8e49f6cd07a": {
      "model_module": "@jupyter-widgets/controls",
      "model_module_version": "1.5.0",
      "model_name": "HTMLModel",
      "state": {
       "layout": "IPY_MODEL_4d711b93ca0d4577b886773d3d89ada6",
       "style": "IPY_MODEL_4824acb924624a5882938bd9ce2c3628",
       "value": "<i>Wählen Sie die <ins>eine</ins> korrekte Antwort aus: </i>"
      }
     },
     "d8a5272dd6eb472d84af03eae7db7da9": {
      "model_module": "@jupyter-widgets/base",
      "model_module_version": "1.2.0",
      "model_name": "LayoutModel",
      "state": {}
     },
     "d8d7c5826d7b479eb5f084c60967c656": {
      "model_module": "@jupyter-widgets/controls",
      "model_module_version": "1.5.0",
      "model_name": "CheckboxModel",
      "state": {
       "description": "Sie werden aus der Eingabe extrahiert (feature extraction)",
       "disabled": false,
       "layout": "IPY_MODEL_3f8d666d37cf4978b87bd94b11929cef",
       "style": "IPY_MODEL_4321f7fdbecc42048223310802ae43a3",
       "value": false
      }
     },
     "d8dbfdb4a2bb4b95b178d8e7d9c14e45": {
      "model_module": "@jupyter-widgets/base",
      "model_module_version": "1.2.0",
      "model_name": "LayoutModel",
      "state": {
       "width": "600px"
      }
     },
     "d938ed9a326c42c7ac5044d3ca98040f": {
      "model_module": "@jupyter-widgets/controls",
      "model_module_version": "1.5.0",
      "model_name": "DescriptionStyleModel",
      "state": {
       "description_width": "initial"
      }
     },
     "d9447d9cc90647a9bdb5bed1da7c5e9b": {
      "model_module": "@jupyter-widgets/base",
      "model_module_version": "1.2.0",
      "model_name": "LayoutModel",
      "state": {
       "width": "600px"
      }
     },
     "d958259e279c48c892f96fbb086892e5": {
      "model_module": "@jupyter-widgets/base",
      "model_module_version": "1.2.0",
      "model_name": "LayoutModel",
      "state": {
       "width": "600px"
      }
     },
     "d9790c1100904d8da79ae3eb975e8d3a": {
      "model_module": "@jupyter-widgets/controls",
      "model_module_version": "1.5.0",
      "model_name": "HTMLModel",
      "state": {
       "layout": "IPY_MODEL_2db38a6e04904c76bc0180cf26fe4358",
       "style": "IPY_MODEL_69efb8fe65cb4b178fc6b28b07eaa278",
       "value": "<h4 style=\"font-size:14px;\">wird das Adjektiv hier</h4>"
      }
     },
     "d9937b9f287c4169a997b25f7dc95823": {
      "model_module": "@jupyter-widgets/controls",
      "model_module_version": "1.5.0",
      "model_name": "CheckboxModel",
      "state": {
       "description": "Perspektivierung",
       "disabled": false,
       "layout": "IPY_MODEL_2557e34e9a294b668f2d5990907a6168",
       "style": "IPY_MODEL_953cd1afd6874a3ca8d969c6895cd791",
       "value": false
      }
     },
     "d995c6a84daa4a89b65fa6c95998b763": {
      "model_module": "@jupyter-widgets/controls",
      "model_module_version": "1.5.0",
      "model_name": "HTMLModel",
      "state": {
       "layout": "IPY_MODEL_86e877d42cc04541a5c9d951ef29b467",
       "style": "IPY_MODEL_87decd97c6aa4744930b5b3287b988be",
       "value": "<h4 style=\"font-size:14px;\">Beantworten Sie die beiden obigen Fragen.</h4>"
      }
     },
     "d9974b620f434f749e7248c77e8a9b19": {
      "model_module": "@jupyter-widgets/controls",
      "model_module_version": "1.5.0",
      "model_name": "HTMLModel",
      "state": {
       "layout": "IPY_MODEL_fc95c52271f44a35a58135d11101aa39",
       "style": "IPY_MODEL_df1a58136da64bb085a923260f190dcd",
       "value": "<i>Wählen Sie die <ins>eine</ins> korrekte Antwort aus: </i>"
      }
     },
     "d99fcfe7f7ba49f281198c08903d4527": {
      "model_module": "@jupyter-widgets/controls",
      "model_module_version": "1.5.0",
      "model_name": "CheckboxModel",
      "state": {
       "description": "Passivierung (Objekt-Promotion)",
       "disabled": false,
       "layout": "IPY_MODEL_a5d6e29320f545b7ab6e2fcdc1dc88f1",
       "style": "IPY_MODEL_1551f787a8e24215bdfccf4edaf1d5f3",
       "value": false
      }
     },
     "d9a4986c4d034f488f54aec89fd8fb2f": {
      "model_module": "@jupyter-widgets/base",
      "model_module_version": "1.2.0",
      "model_name": "LayoutModel",
      "state": {
       "width": "250px"
      }
     },
     "d9d9bc683397480aa0d8bbe31593fc41": {
      "model_module": "@jupyter-widgets/controls",
      "model_module_version": "1.5.0",
      "model_name": "DescriptionStyleModel",
      "state": {
       "description_width": "initial"
      }
     },
     "d9df1742e78c412b99288e2da0ae70d3": {
      "model_module": "@jupyter-widgets/controls",
      "model_module_version": "1.5.0",
      "model_name": "DescriptionStyleModel",
      "state": {
       "description_width": "initial"
      }
     },
     "da0c550ee8a24efabdd74f48bb82ae94": {
      "model_module": "@jupyter-widgets/controls",
      "model_module_version": "1.5.0",
      "model_name": "CheckboxModel",
      "state": {
       "description": "Es übernimmt immer das Patiens die Subjektfunktion.",
       "disabled": false,
       "layout": "IPY_MODEL_a6c1d87b095447f3ba85243cdc22a1ba",
       "style": "IPY_MODEL_bc3e348734924eb992ed561fd596abe2",
       "value": false
      }
     },
     "da660d9274ec49f392bed5bc4b6f60a4": {
      "model_module": "@jupyter-widgets/controls",
      "model_module_version": "1.5.0",
      "model_name": "DescriptionStyleModel",
      "state": {
       "description_width": "initial"
      }
     },
     "da6efa2364ac4a8c811139db7d9d0132": {
      "model_module": "@jupyter-widgets/controls",
      "model_module_version": "1.5.0",
      "model_name": "DescriptionStyleModel",
      "state": {
       "description_width": "initial"
      }
     },
     "da789aab0eaf45bcba3bf3072821e493": {
      "model_module": "@jupyter-widgets/base",
      "model_module_version": "1.2.0",
      "model_name": "LayoutModel",
      "state": {
       "width": "600px"
      }
     },
     "dabf4bdf11de4a60aa13282eeffbc671": {
      "model_module": "@jupyter-widgets/controls",
      "model_module_version": "1.5.0",
      "model_name": "BoxModel",
      "state": {
       "children": [
        "IPY_MODEL_42959bb223094d4983c0f93df1eaaec8",
        "IPY_MODEL_bd0853f4a43d4eae96954efed6dbafe6",
        "IPY_MODEL_fc034542f8594290ad8d0372c9ae0d2a",
        "IPY_MODEL_569f318d243f47d2a36ee4397aab6bc0",
        "IPY_MODEL_cee595846d9742d8af9ac67098e74c29",
        "IPY_MODEL_f0b3391fb5974025a3310ff3152c6130",
        "IPY_MODEL_9b428c76e0cd4f17afa4b7124d644f72",
        "IPY_MODEL_e3d8a3b4a35d447fb92eca109091fffc",
        "IPY_MODEL_c4475f487ff1498a84340e4903aa567a",
        "IPY_MODEL_589c18c9d2f54f689c3286ab35ae6e7f",
        "IPY_MODEL_6de8b6efd7624980af8a3a6a838c5a9f"
       ],
       "layout": "IPY_MODEL_8b34bb22912e4b7b9034f027b08fde15"
      }
     },
     "dae5ab54544b45419f85b05639f8e86a": {
      "model_module": "@jupyter-widgets/controls",
      "model_module_version": "1.5.0",
      "model_name": "ButtonStyleModel",
      "state": {}
     },
     "db279db6e7df4f7bad9792e15a59b924": {
      "model_module": "@jupyter-widgets/base",
      "model_module_version": "1.2.0",
      "model_name": "LayoutModel",
      "state": {}
     },
     "db630821bb48450b96014010e0b41aa4": {
      "model_module": "@jupyter-widgets/controls",
      "model_module_version": "1.5.0",
      "model_name": "DescriptionStyleModel",
      "state": {
       "description_width": "initial"
      }
     },
     "db8d2e96d357465e9edde73482aebee8": {
      "model_module": "@jupyter-widgets/base",
      "model_module_version": "1.2.0",
      "model_name": "LayoutModel",
      "state": {
       "width": "600px"
      }
     },
     "dba849cdd53640ef9e114472d3f2666f": {
      "model_module": "@jupyter-widgets/controls",
      "model_module_version": "1.5.0",
      "model_name": "CheckboxModel",
      "state": {
       "description": "Es ist undefiniert.",
       "disabled": false,
       "layout": "IPY_MODEL_0cf871d553c148169cde7324200c36c7",
       "style": "IPY_MODEL_f6c5d5832ecf4ea097dd3ccfcf5741ca",
       "value": false
      }
     },
     "dbb7156695344726afddc6541b7f26d8": {
      "model_module": "@jupyter-widgets/base",
      "model_module_version": "1.2.0",
      "model_name": "LayoutModel",
      "state": {
       "width": "600px"
      }
     },
     "dc00c677efdb4843979ec023f30e0a44": {
      "model_module": "@jupyter-widgets/base",
      "model_module_version": "1.2.0",
      "model_name": "LayoutModel",
      "state": {}
     },
     "dc076cb7216a49199f951056faa585e8": {
      "model_module": "@jupyter-widgets/controls",
      "model_module_version": "1.5.0",
      "model_name": "DescriptionStyleModel",
      "state": {
       "description_width": ""
      }
     },
     "dc338c2463de41269d2abeb01d630946": {
      "model_module": "@jupyter-widgets/base",
      "model_module_version": "1.2.0",
      "model_name": "LayoutModel",
      "state": {
       "justify_content": "center"
      }
     },
     "dc3f9da27e264fab8af63ed6d2f172d7": {
      "model_module": "@jupyter-widgets/controls",
      "model_module_version": "1.5.0",
      "model_name": "VBoxModel",
      "state": {
       "children": [
        "IPY_MODEL_9b31b941a4be452fbb0dde5a47a6a0f1",
        "IPY_MODEL_699b13bec8a54a0aacc742043747abe1",
        "IPY_MODEL_d08c54f8b76e49bda4df8267153301ca",
        "IPY_MODEL_866b8b703dfe452eac1448f1ff8c871f"
       ],
       "layout": "IPY_MODEL_95a6a19b9a5e488e9549024f98575e8d"
      }
     },
     "dc5d0a98ed7949c8a4baa5215e90dd5d": {
      "model_module": "@jupyter-widgets/controls",
      "model_module_version": "1.5.0",
      "model_name": "HTMLModel",
      "state": {
       "layout": "IPY_MODEL_8667f97c1dd54e57b1f46edb010fdd7a",
       "style": "IPY_MODEL_7fcf36d9159b4bbb8be536ca923826ad",
       "value": "<i>Wählen Sie die <ins>eine</ins> korrekte Antwort aus: </i>"
      }
     },
     "dc60040974b442bdaaa33ba639b29c0c": {
      "model_module": "@jupyter-widgets/controls",
      "model_module_version": "1.5.0",
      "model_name": "VBoxModel",
      "state": {
       "children": [
        "IPY_MODEL_5817db7f3dc64ddabdf3d478e3e0ad6e",
        "IPY_MODEL_a2689e787f054754ae2f915f0670f7bc",
        "IPY_MODEL_0525287ce5b6468e8bf71761cd010525"
       ],
       "layout": "IPY_MODEL_95a08033249e447d8bec5bd0a8460255"
      }
     },
     "dc7df714647841859bd859c979760d1b": {
      "model_module": "@jupyter-widgets/controls",
      "model_module_version": "1.5.0",
      "model_name": "DescriptionStyleModel",
      "state": {
       "description_width": "initial"
      }
     },
     "dc9834955c464c899249b32b290ad148": {
      "model_module": "@jupyter-widgets/controls",
      "model_module_version": "1.5.0",
      "model_name": "HBoxModel",
      "state": {
       "children": [
        "IPY_MODEL_7020907f3d394809a16e0af5c12a6d9f",
        "IPY_MODEL_6ef0a147a42f41008b4905daf896b304"
       ],
       "layout": "IPY_MODEL_83700260b9b641f1af85d5415063843e"
      }
     },
     "dc9944864eec457eb5b9a673591ea102": {
      "model_module": "@jupyter-widgets/controls",
      "model_module_version": "1.5.0",
      "model_name": "VBoxModel",
      "state": {
       "children": [
        "IPY_MODEL_2a1747e356eb45619088bde32e55e014",
        "IPY_MODEL_52803b384ede4bb286ee71a01fe6d5a4",
        "IPY_MODEL_3b5c25186df144fdb53c32a37d48044c",
        "IPY_MODEL_1120dc90d7a2431daa3c193d168e5d18",
        "IPY_MODEL_296dd18c18fa42ffa208cc76ee22dc27",
        "IPY_MODEL_97d8af74cd544558b079daaab5cdbb3d"
       ],
       "layout": "IPY_MODEL_24346899c81c4caba1ab10c0871ddd51"
      }
     },
     "dcb81bf1531847fca831f915d73711b1": {
      "model_module": "@jupyter-widgets/base",
      "model_module_version": "1.2.0",
      "model_name": "LayoutModel",
      "state": {
       "width": "600px"
      }
     },
     "dcc4b87562034188aa19a64994eb2f6d": {
      "model_module": "@jupyter-widgets/controls",
      "model_module_version": "1.5.0",
      "model_name": "ButtonStyleModel",
      "state": {}
     },
     "dccd48cf45294e8896b2c8c443353358": {
      "model_module": "@jupyter-widgets/base",
      "model_module_version": "1.2.0",
      "model_name": "LayoutModel",
      "state": {}
     },
     "dcd21d65b1804ce7b1319cf61534d8d2": {
      "model_module": "@jupyter-widgets/controls",
      "model_module_version": "1.5.0",
      "model_name": "DescriptionStyleModel",
      "state": {
       "description_width": ""
      }
     },
     "dcd80652990140fcbc14435f86b40f28": {
      "model_module": "@jupyter-widgets/controls",
      "model_module_version": "1.5.0",
      "model_name": "ButtonStyleModel",
      "state": {}
     },
     "dce43bc60c97467a96ac79a6ce59b421": {
      "model_module": "@jupyter-widgets/controls",
      "model_module_version": "1.5.0",
      "model_name": "CheckboxModel",
      "state": {
       "description": "Der Artikel übernimmt z. T. die Kasusmarkierung.",
       "disabled": false,
       "layout": "IPY_MODEL_d39e142cd0964be99f91dbddcb8e1ebb",
       "style": "IPY_MODEL_d9df1742e78c412b99288e2da0ae70d3",
       "value": false
      }
     },
     "dce7932c6c27444da294ddc5fa60845a": {
      "model_module": "@jupyter-widgets/controls",
      "model_module_version": "1.5.0",
      "model_name": "DescriptionStyleModel",
      "state": {
       "description_width": ""
      }
     },
     "dcedb69cb55a43d9ac5b5844d7101079": {
      "model_module": "@jupyter-widgets/base",
      "model_module_version": "1.2.0",
      "model_name": "LayoutModel",
      "state": {}
     },
     "dcef277e526a4988b4793d2b33ea2bb5": {
      "model_module": "@jupyter-widgets/controls",
      "model_module_version": "1.5.0",
      "model_name": "ButtonStyleModel",
      "state": {}
     },
     "dd25332f57c34a4bb0ae453746f84486": {
      "model_module": "@jupyter-widgets/base",
      "model_module_version": "1.2.0",
      "model_name": "LayoutModel",
      "state": {}
     },
     "dd327f8b069c43bb96f92bb6dcce0188": {
      "model_module": "@jupyter-widgets/base",
      "model_module_version": "1.2.0",
      "model_name": "LayoutModel",
      "state": {
       "width": "600px"
      }
     },
     "dd3c22482eaa4575b4d4cae7575e69d9": {
      "model_module": "@jupyter-widgets/controls",
      "model_module_version": "1.5.0",
      "model_name": "HBoxModel",
      "state": {
       "children": [
        "IPY_MODEL_6bc020c7b3044d6d9ad38935010a28dd"
       ],
       "layout": "IPY_MODEL_0bd9fb772cf643159e2ba8f27e6ef40a"
      }
     },
     "dd463146123e4a9197319f71f51bdd41": {
      "model_module": "@jupyter-widgets/controls",
      "model_module_version": "1.5.0",
      "model_name": "CheckboxModel",
      "state": {
       "description": "Sie werden im Vorhinein deklariert (feature lexicon)",
       "disabled": false,
       "layout": "IPY_MODEL_e6e60edb9c0c4b1a8f8e563a69c19c8a",
       "style": "IPY_MODEL_7abd89d76a794e969ca8ccbae64b3408",
       "value": false
      }
     },
     "dd467aa9e5c04d8aab35f31be6e4ce76": {
      "model_module": "@jupyter-widgets/base",
      "model_module_version": "1.2.0",
      "model_name": "LayoutModel",
      "state": {}
     },
     "dd8bd28a7d8d4b188d5e9f7d55f59168": {
      "model_module": "@jupyter-widgets/base",
      "model_module_version": "1.2.0",
      "model_name": "LayoutModel",
      "state": {
       "justify_content": "center"
      }
     },
     "dda145ac6e32492b9100db85e51ac86d": {
      "model_module": "@jupyter-widgets/controls",
      "model_module_version": "1.5.0",
      "model_name": "VBoxModel",
      "state": {
       "children": [
        "IPY_MODEL_ba59f22c9690418ab6e9aced3de1228f",
        "IPY_MODEL_bc23e19635cb48c6bc86c04fdec6c1f4",
        "IPY_MODEL_336cd96f4db247c38b0d12a2bf67d7c4"
       ],
       "layout": "IPY_MODEL_01c2afc395bc44c5ab54aec2d1ed6c1a"
      }
     },
     "dda4acd9706246d0b6d39f2944a87bc9": {
      "model_module": "@jupyter-widgets/controls",
      "model_module_version": "1.5.0",
      "model_name": "ButtonModel",
      "state": {
       "description": "Korrekt?",
       "layout": "IPY_MODEL_243e07174d304193ab095e1eb848e80b",
       "style": "IPY_MODEL_8263119296cd4e9292985f8dff1994d5"
      }
     },
     "ddb933695edc47b1834b160418665393": {
      "model_module": "@jupyter-widgets/controls",
      "model_module_version": "1.5.0",
      "model_name": "ButtonStyleModel",
      "state": {}
     },
     "ddcea04816214d258a72ab29ddaa6fa3": {
      "model_module": "@jupyter-widgets/base",
      "model_module_version": "1.2.0",
      "model_name": "LayoutModel",
      "state": {}
     },
     "de223d7491514616b1d90364b296a63d": {
      "model_module": "@jupyter-widgets/base",
      "model_module_version": "1.2.0",
      "model_name": "LayoutModel",
      "state": {
       "width": "250px"
      }
     },
     "de3ffa9fad3c4716969383a0fb783daa": {
      "model_module": "@jupyter-widgets/controls",
      "model_module_version": "1.5.0",
      "model_name": "ButtonModel",
      "state": {
       "description": "Time",
       "layout": "IPY_MODEL_f2d16fa6d2264376a13730a33c08ebf2",
       "style": "IPY_MODEL_8f30e99a204b43dfb59671f7ca7f76c8"
      }
     },
     "dea5af59a0d2411cb348ec4846e3c5b6": {
      "model_module": "@jupyter-widgets/controls",
      "model_module_version": "1.5.0",
      "model_name": "ButtonStyleModel",
      "state": {}
     },
     "deaec5c327914d409d32809adb381ad3": {
      "model_module": "@jupyter-widgets/controls",
      "model_module_version": "1.5.0",
      "model_name": "HTMLModel",
      "state": {
       "layout": "IPY_MODEL_4c6d7437be6b41328b32e2db7f3995a7",
       "style": "IPY_MODEL_657a7e1fe5b148fa98f6ca563dcbd55b",
       "value": "<i>Markieren Sie <ins>alle</ins> passenden Antworten: </i>"
      }
     },
     "deb98e48f2bb4843b0ec76321b244c49": {
      "model_module": "@jupyter-widgets/controls",
      "model_module_version": "1.5.0",
      "model_name": "ButtonModel",
      "state": {
       "description": "bestimmten",
       "layout": "IPY_MODEL_9e5ad592e5954855be8386b19a4875d5",
       "style": "IPY_MODEL_b04855528af240cba273ef7a1c29110d"
      }
     },
     "dec19ff41de5437f9de964bcbebc5d00": {
      "model_module": "@jupyter-widgets/controls",
      "model_module_version": "1.5.0",
      "model_name": "HTMLModel",
      "state": {
       "layout": "IPY_MODEL_c9f5cfb048214864a3e4967252aa1d22",
       "style": "IPY_MODEL_c0e9c30739084b40ba1b34d9dbd36a60",
       "value": "<i>Markieren Sie <ins>alle</ins> passenden Antworten: </i>"
      }
     },
     "dee15d13b3644e8aac1282af25c38f8d": {
      "model_module": "@jupyter-widgets/controls",
      "model_module_version": "1.5.0",
      "model_name": "CheckboxModel",
      "state": {
       "description": "Das Adjektiv übernimmt die Genus- und z.T. die Kasusmarkierung.",
       "disabled": false,
       "layout": "IPY_MODEL_e26bbd9a49c04e1a8969983e90c6d728",
       "style": "IPY_MODEL_b71819333d5745d69aa8574e3f7306e0",
       "value": false
      }
     },
     "df0d4b366e64485eb53a2a971bd005af": {
      "model_module": "@jupyter-widgets/controls",
      "model_module_version": "1.5.0",
      "model_name": "ButtonStyleModel",
      "state": {}
     },
     "df1a58136da64bb085a923260f190dcd": {
      "model_module": "@jupyter-widgets/controls",
      "model_module_version": "1.5.0",
      "model_name": "DescriptionStyleModel",
      "state": {
       "description_width": ""
      }
     },
     "df81e3a52b954b0fac787a72cd9bca11": {
      "model_module": "@jupyter-widgets/base",
      "model_module_version": "1.2.0",
      "model_name": "LayoutModel",
      "state": {}
     },
     "dfc8a006bfe747858a741fb02bbef253": {
      "model_module": "@jupyter-widgets/base",
      "model_module_version": "1.2.0",
      "model_name": "LayoutModel",
      "state": {
       "width": "600px"
      }
     },
     "dfcf50809cc44fc893417001eb56e22e": {
      "model_module": "@jupyter-widgets/base",
      "model_module_version": "1.2.0",
      "model_name": "LayoutModel",
      "state": {}
     },
     "dfd003ab3951453dbe6853df4f1d1fe3": {
      "model_module": "@jupyter-widgets/controls",
      "model_module_version": "1.5.0",
      "model_name": "CheckboxModel",
      "state": {
       "description": "FS0 = [CAT = N], FS1 = [CAT = N, GEN = MASK]",
       "disabled": false,
       "layout": "IPY_MODEL_b8fac224380c457b86b95c2e2be5a5a5",
       "style": "IPY_MODEL_36c2d87571bf47a5891c253d8788da5d",
       "value": false
      }
     },
     "dffa5f2667c74a21a1aa8efb46f65f16": {
      "model_module": "@jupyter-widgets/controls",
      "model_module_version": "1.5.0",
      "model_name": "HTMLModel",
      "state": {
       "layout": "IPY_MODEL_2a1d42c9b46a469b98a880fde6424c7a",
       "style": "IPY_MODEL_7375171ccb6b44b2b1c5c38428942753",
       "value": "<i>Wählen Sie die <ins>eine</ins> korrekte Antwort aus: </i>"
      }
     },
     "e04e1267d97042d881567247a4e2375c": {
      "model_module": "@jupyter-widgets/base",
      "model_module_version": "1.2.0",
      "model_name": "LayoutModel",
      "state": {}
     },
     "e0ba272c0d5545f3b8c4501054c7d1f6": {
      "model_module": "@jupyter-widgets/base",
      "model_module_version": "1.2.0",
      "model_name": "LayoutModel",
      "state": {
       "width": "150px"
      }
     },
     "e10b3f3b0eb54854a635f51956725798": {
      "model_module": "@jupyter-widgets/controls",
      "model_module_version": "1.5.0",
      "model_name": "HTMLModel",
      "state": {
       "layout": "IPY_MODEL_b440d3b2eee641099809dabb74b2449d",
       "style": "IPY_MODEL_8399a7859d1045988e7201a6ef0756a7",
       "value": "<h4 style=\"font-size:14px;\">Wie werden Features beim POS-Tagging verwendet?</h4>"
      }
     },
     "e1196946d9ca46a285b4b55eb70a6799": {
      "model_module": "@jupyter-widgets/controls",
      "model_module_version": "1.5.0",
      "model_name": "ButtonStyleModel",
      "state": {}
     },
     "e11ffb5cfe4c47aa920bde82def65100": {
      "model_module": "@jupyter-widgets/controls",
      "model_module_version": "1.5.0",
      "model_name": "HTMLModel",
      "state": {
       "layout": "IPY_MODEL_48cf6bfa28554c368b38497bc97c4d3c",
       "style": "IPY_MODEL_4f17a544b4fb4ccf8fdabfc17e40312c",
       "value": "<h4 style=\"font-size:14px;\">Was ist der bevorzugte Kandidat zur Realisierung im Subjekt?</h4>"
      }
     },
     "e14a0aca30da4192a1c1fe277eebc718": {
      "model_module": "@jupyter-widgets/controls",
      "model_module_version": "1.5.0",
      "model_name": "VBoxModel",
      "state": {
       "children": [
        "IPY_MODEL_e5b3818da24f4de88d5de74f35f70e81",
        "IPY_MODEL_fbd1125797664310bec810cfd5a3c052",
        "IPY_MODEL_0aac9eedc6014eb98712d664a1400be3",
        "IPY_MODEL_efb75528677e46828512a57c71697e40"
       ],
       "layout": "IPY_MODEL_33dbadf375704a139a0c6bf457e2ad84"
      }
     },
     "e1b5fc471a5a4c1b9780e7aa182341e5": {
      "model_module": "@jupyter-widgets/controls",
      "model_module_version": "1.5.0",
      "model_name": "DescriptionStyleModel",
      "state": {
       "description_width": ""
      }
     },
     "e1de567083eb40b699a5e5f6a1dbb98e": {
      "model_module": "@jupyter-widgets/controls",
      "model_module_version": "1.5.0",
      "model_name": "VBoxModel",
      "state": {
       "children": [
        "IPY_MODEL_673fa65aa30e450fabb2b4b9b7bce556",
        "IPY_MODEL_3bdb2de4702b424dad8068215875f9e6",
        "IPY_MODEL_0c77f02bbfbb465e9366ce2f447077fa",
        "IPY_MODEL_2fd080822dce42b0af0794190902d247"
       ],
       "layout": "IPY_MODEL_0c839a8cc8454c599cf93681e7c63669"
      }
     },
     "e210ab5dc2bc4f51ac4f56de3568aea5": {
      "model_module": "@jupyter-widgets/controls",
      "model_module_version": "1.5.0",
      "model_name": "VBoxModel",
      "state": {
       "children": [
        "IPY_MODEL_e3fc1b7df089499190a4a5920d664ffd",
        "IPY_MODEL_f998350ab47d49f680d0836896afb028",
        "IPY_MODEL_b05fbc8445c4406a881963bcb84ae3c3",
        "IPY_MODEL_ed8a22ce84624630862e6a64ec26cd41",
        "IPY_MODEL_b200566f1eff4dec9f67bc1e6e2d5017"
       ],
       "layout": "IPY_MODEL_109801797f534a7ca56b6a5000e7751d"
      }
     },
     "e2156c20a7064e9aa828f55881780537": {
      "model_module": "@jupyter-widgets/controls",
      "model_module_version": "1.5.0",
      "model_name": "HTMLModel",
      "state": {
       "layout": "IPY_MODEL_7be0466d110b42578c4c5924c238d939",
       "style": "IPY_MODEL_143e79f8a8ac49f68f39b298160a2dfc",
       "value": "<i>Wählen Sie die <ins>eine</ins> korrekte Antwort aus: </i>"
      }
     },
     "e22282d13481494d934c58a619bae7aa": {
      "model_module": "@jupyter-widgets/base",
      "model_module_version": "1.2.0",
      "model_name": "LayoutModel",
      "state": {}
     },
     "e23174d215cf4585a9cabfa7f0e58331": {
      "model_module": "@jupyter-widgets/controls",
      "model_module_version": "1.5.0",
      "model_name": "DescriptionStyleModel",
      "state": {
       "description_width": ""
      }
     },
     "e26bbd9a49c04e1a8969983e90c6d728": {
      "model_module": "@jupyter-widgets/base",
      "model_module_version": "1.2.0",
      "model_name": "LayoutModel",
      "state": {
       "width": "600px"
      }
     },
     "e27f9c70c7e44f9094622f3be6c82fda": {
      "model_module": "@jupyter-widgets/controls",
      "model_module_version": "1.5.0",
      "model_name": "CheckboxModel",
      "state": {
       "description": "Perspektivierung",
       "disabled": false,
       "layout": "IPY_MODEL_f61ee23533454b408e2e55e67b54a827",
       "style": "IPY_MODEL_1552e0e448c74524bd24d9903f6f24bf",
       "value": false
      }
     },
     "e28105647f3a4df79577b3bf072e40d4": {
      "model_module": "@jupyter-widgets/base",
      "model_module_version": "1.2.0",
      "model_name": "LayoutModel",
      "state": {
       "width": "600px"
      }
     },
     "e28639b6da944220a4681367b77e4610": {
      "model_module": "@jupyter-widgets/controls",
      "model_module_version": "1.5.0",
      "model_name": "DescriptionStyleModel",
      "state": {
       "description_width": "initial"
      }
     },
     "e289ff38f15b401a9c654060d9a472dc": {
      "model_module": "@jupyter-widgets/controls",
      "model_module_version": "1.5.0",
      "model_name": "ButtonModel",
      "state": {
       "description": "Zeitangabe",
       "layout": "IPY_MODEL_6c4809d7ceab46118ce21898bbc96ea5",
       "style": "IPY_MODEL_80d4f1319c524fecad88f9f195eddb0c"
      }
     },
     "e2b8fc7e264b4886abd5cc9cfa30b33e": {
      "model_module": "@jupyter-widgets/base",
      "model_module_version": "1.2.0",
      "model_name": "LayoutModel",
      "state": {}
     },
     "e2cc9ac4df844a72814491be6b78d645": {
      "model_module": "@jupyter-widgets/controls",
      "model_module_version": "1.5.0",
      "model_name": "DescriptionStyleModel",
      "state": {
       "description_width": ""
      }
     },
     "e30c5c1a00014096a7ac86ce125fb86d": {
      "model_module": "@jupyter-widgets/controls",
      "model_module_version": "1.5.0",
      "model_name": "ButtonModel",
      "state": {
       "description": "Keine der anderen Möglichkeiten",
       "layout": "IPY_MODEL_a372af99d6ce41369e8e9368b63466f6",
       "style": "IPY_MODEL_769556c29050468ea310be0538ff285f"
      }
     },
     "e31fb598dcf14bc78a097a8fbfefe707": {
      "model_module": "@jupyter-widgets/base",
      "model_module_version": "1.2.0",
      "model_name": "LayoutModel",
      "state": {
       "width": "600px"
      }
     },
     "e32656a9003842a2ad79ab9311f0d66b": {
      "model_module": "@jupyter-widgets/controls",
      "model_module_version": "1.5.0",
      "model_name": "DescriptionStyleModel",
      "state": {
       "description_width": "initial"
      }
     },
     "e33c52226d304b918373e712538eb36c": {
      "model_module": "@jupyter-widgets/base",
      "model_module_version": "1.2.0",
      "model_name": "LayoutModel",
      "state": {
       "width": "600px"
      }
     },
     "e35465f77e204b02aef1d7ff08becac1": {
      "model_module": "@jupyter-widgets/base",
      "model_module_version": "1.2.0",
      "model_name": "LayoutModel",
      "state": {}
     },
     "e3547650f41f442884e67908d21ceb70": {
      "model_module": "@jupyter-widgets/controls",
      "model_module_version": "1.5.0",
      "model_name": "HBoxModel",
      "state": {
       "children": [
        "IPY_MODEL_d2962f1e9039436d8eb7283e242322d7",
        "IPY_MODEL_82b831c556834c40b7d4f4923aad9352"
       ],
       "layout": "IPY_MODEL_7428388de208441bb0ebc616c4a175df"
      }
     },
     "e35fb9fa85a941dd88c581fa87403500": {
      "model_module": "@jupyter-widgets/base",
      "model_module_version": "1.2.0",
      "model_name": "LayoutModel",
      "state": {}
     },
     "e3677261c6a04a79982915582c4e18aa": {
      "model_module": "@jupyter-widgets/controls",
      "model_module_version": "1.5.0",
      "model_name": "VBoxModel",
      "state": {
       "children": [
        "IPY_MODEL_e3f1a2c73cb64fa0b0c7101d0124d3bb",
        "IPY_MODEL_71d940e9da1f467287978bb9f070bb1e",
        "IPY_MODEL_501a3309eb704aa8ba99774266921471",
        "IPY_MODEL_ac825b6ce37146beb89b42b147b70941"
       ],
       "layout": "IPY_MODEL_d281490f5a154689bd7f3b296df7d809"
      }
     },
     "e39bff97174d43b79b3b4fa2dae95a4b": {
      "model_module": "@jupyter-widgets/controls",
      "model_module_version": "1.5.0",
      "model_name": "DescriptionStyleModel",
      "state": {
       "description_width": "initial"
      }
     },
     "e3d8a3b4a35d447fb92eca109091fffc": {
      "model_module": "@jupyter-widgets/controls",
      "model_module_version": "1.5.0",
      "model_name": "DropdownModel",
      "state": {
       "_options_labels": [
        "Genusmerkmale",
        "Kasusmerkmale",
        " "
       ],
       "index": 2,
       "layout": "IPY_MODEL_6d7e18e7f0604df7b61c7acd961a138a",
       "style": "IPY_MODEL_074d2a4455d840f2bdb3bf8d8ee0d310"
      }
     },
     "e3eecf2207b8470abde9343bc546834b": {
      "model_module": "@jupyter-widgets/controls",
      "model_module_version": "1.5.0",
      "model_name": "HTMLModel",
      "state": {
       "layout": "IPY_MODEL_2456c17062774f1a97d61c8f664be27f",
       "style": "IPY_MODEL_6ca9eea4ac0048b1b1be71ad4cd46ee1",
       "value": "<i>Wählen Sie die <ins>eine</ins> korrekte Antwort aus: </i>"
      }
     },
     "e3f1a2c73cb64fa0b0c7101d0124d3bb": {
      "model_module": "@jupyter-widgets/controls",
      "model_module_version": "1.5.0",
      "model_name": "HTMLModel",
      "state": {
       "layout": "IPY_MODEL_e2b8fc7e264b4886abd5cc9cfa30b33e",
       "style": "IPY_MODEL_728c094f813349c1bab00897b39fd87a",
       "value": "<h4 style=\"font-size:14px;\">Welche Aussagen über Adjektive stimmen?</h4>"
      }
     },
     "e3fb42aeb5dd4e779b9f42d7831f3004": {
      "model_module": "@jupyter-widgets/base",
      "model_module_version": "1.2.0",
      "model_name": "LayoutModel",
      "state": {
       "justify_content": "center"
      }
     },
     "e3fc1b7df089499190a4a5920d664ffd": {
      "model_module": "@jupyter-widgets/controls",
      "model_module_version": "1.5.0",
      "model_name": "CheckboxModel",
      "state": {
       "description": "Das Adjektiv tritt nur in zwei verschiedenen Formen auf.",
       "disabled": false,
       "layout": "IPY_MODEL_67a4e0b28cd34a9788eed1dd1d2ff194",
       "style": "IPY_MODEL_53290974eb7e4e25b8cdd8098839e8e8",
       "value": true
      }
     },
     "e451d14bba1d49058f22bf6f02295aea": {
      "model_module": "@jupyter-widgets/base",
      "model_module_version": "1.2.0",
      "model_name": "LayoutModel",
      "state": {
       "width": "250px"
      }
     },
     "e461b9bbfdc845cc9b643dcdfe0b8468": {
      "model_module": "@jupyter-widgets/base",
      "model_module_version": "1.2.0",
      "model_name": "LayoutModel",
      "state": {
       "width": "250px"
      }
     },
     "e47886dbe2e54a5ebff2b826aca6a4fe": {
      "model_module": "@jupyter-widgets/base",
      "model_module_version": "1.2.0",
      "model_name": "LayoutModel",
      "state": {
       "width": "150px"
      }
     },
     "e49dc89c42d24a5fbd682e3ec0f51fa5": {
      "model_module": "@jupyter-widgets/base",
      "model_module_version": "1.2.0",
      "model_name": "LayoutModel",
      "state": {
       "justify_content": "center"
      }
     },
     "e49e95642f4447d5abf85959bc971932": {
      "model_module": "@jupyter-widgets/base",
      "model_module_version": "1.2.0",
      "model_name": "LayoutModel",
      "state": {}
     },
     "e4d3369e482a4cb68026a152011ae39f": {
      "model_module": "@jupyter-widgets/controls",
      "model_module_version": "1.5.0",
      "model_name": "HTMLModel",
      "state": {
       "layout": "IPY_MODEL_e89e952c61ca4e1fb7642383cc53d8a7",
       "style": "IPY_MODEL_e23174d215cf4585a9cabfa7f0e58331",
       "value": "<h4 style=\"font-size:14px;\">dekliniert. Dies mag daran liegen, dass die</h4>"
      }
     },
     "e5002423241a42139248a8ef294c5e65": {
      "model_module": "@jupyter-widgets/controls",
      "model_module_version": "1.5.0",
      "model_name": "DescriptionStyleModel",
      "state": {
       "description_width": ""
      }
     },
     "e54df9baaecf43139b8e7e00ef5a8937": {
      "model_module": "@jupyter-widgets/controls",
      "model_module_version": "1.5.0",
      "model_name": "ButtonModel",
      "state": {
       "description": "Ja",
       "layout": "IPY_MODEL_0ba409e3ab704e748a9f05bbac5dbcf9",
       "style": "IPY_MODEL_9bc0322bdfba4f81b694c4bf21d613a9"
      }
     },
     "e54e33bc3dc9486083a17df62266e85f": {
      "model_module": "@jupyter-widgets/base",
      "model_module_version": "1.2.0",
      "model_name": "LayoutModel",
      "state": {
       "width": "250px"
      }
     },
     "e55a43e3f01a4327803ce229cf9ada06": {
      "model_module": "@jupyter-widgets/controls",
      "model_module_version": "1.5.0",
      "model_name": "HTMLModel",
      "state": {
       "layout": "IPY_MODEL_aa7556a0d948430494b2ebf7bd89326d",
       "style": "IPY_MODEL_fd87956cd6c84932922cfcb1bb569a10",
       "value": "<i>Markieren Sie <ins>alle</ins> passenden Antworten: </i>"
      }
     },
     "e58abb401c5443efb0dfcf8d37117bba": {
      "model_module": "@jupyter-widgets/controls",
      "model_module_version": "1.5.0",
      "model_name": "DescriptionStyleModel",
      "state": {
       "description_width": ""
      }
     },
     "e58bd119caee4a619359e1bd825cbedf": {
      "model_module": "@jupyter-widgets/controls",
      "model_module_version": "1.5.0",
      "model_name": "ButtonStyleModel",
      "state": {}
     },
     "e5b3818da24f4de88d5de74f35f70e81": {
      "model_module": "@jupyter-widgets/controls",
      "model_module_version": "1.5.0",
      "model_name": "HTMLModel",
      "state": {
       "layout": "IPY_MODEL_c78e6461fd424c73877c28f38245f6e5",
       "style": "IPY_MODEL_48a70270c4e14e12a7dafbfab37caddc",
       "value": "<h4 style=\"font-size:14px;\">Wie wird die Deklination der Nominalphrase <i>das alte Bier</i> auch bezeichnet?</h4>"
      }
     },
     "e5c1a2b94cbb4955acd0c27d025bb692": {
      "model_module": "@jupyter-widgets/controls",
      "model_module_version": "1.5.0",
      "model_name": "DescriptionStyleModel",
      "state": {
       "description_width": "initial"
      }
     },
     "e5f3de54999045ad87dbc68faa0e986d": {
      "model_module": "@jupyter-widgets/controls",
      "model_module_version": "1.5.0",
      "model_name": "DescriptionStyleModel",
      "state": {
       "description_width": ""
      }
     },
     "e60baf57806345f5aa992fcbec4c6f8b": {
      "model_module": "@jupyter-widgets/controls",
      "model_module_version": "1.5.0",
      "model_name": "DescriptionStyleModel",
      "state": {
       "description_width": "initial"
      }
     },
     "e611118c96054facab2100d8a8907d55": {
      "model_module": "@jupyter-widgets/controls",
      "model_module_version": "1.5.0",
      "model_name": "CheckboxModel",
      "state": {
       "description": "Es ist die spezifischere Merkmalsstruktur.",
       "disabled": false,
       "layout": "IPY_MODEL_247e0ba6e7f945639e2c50c32c65cd09",
       "style": "IPY_MODEL_6fe9785963cf42d5bc2021c65dcbb092",
       "value": false
      }
     },
     "e615aa196ba44c5ab87e301b53279795": {
      "model_module": "@jupyter-widgets/controls",
      "model_module_version": "1.5.0",
      "model_name": "HTMLModel",
      "state": {
       "layout": "IPY_MODEL_5c01efd255fb42ca82c4516986c9ee89",
       "style": "IPY_MODEL_9349f44d161d4413a3f37f6b3f3a4bdf",
       "value": "<i>Wählen Sie die <ins>eine</ins> korrekte Antwort aus: </i>"
      }
     },
     "e65ba942f17940b4bf8561f203d1500f": {
      "model_module": "@jupyter-widgets/controls",
      "model_module_version": "1.5.0",
      "model_name": "ButtonModel",
      "state": {
       "description": "schwache Deklination",
       "layout": "IPY_MODEL_9aa8c270acec4f5daaa457e29a576a6a",
       "style": "IPY_MODEL_b54b9952b4b84ffe90a8ac4053049d36"
      }
     },
     "e666a5ea92f84c618a52ce41f9ba92f9": {
      "model_module": "@jupyter-widgets/base",
      "model_module_version": "1.2.0",
      "model_name": "LayoutModel",
      "state": {
       "width": "600px"
      }
     },
     "e670d75236c14350a0e8b151097d25e3": {
      "model_module": "@jupyter-widgets/controls",
      "model_module_version": "1.5.0",
      "model_name": "VBoxModel",
      "state": {
       "children": [
        "IPY_MODEL_f7a9b0c741f04bb78d2137b1cc8153c9",
        "IPY_MODEL_61745f11918a41edb7ea04d6a8785ffb",
        "IPY_MODEL_5a41a91b605446f5a7452563bdb0fb0d",
        "IPY_MODEL_9d3c90ce4764424487f32920888ba8d9"
       ],
       "layout": "IPY_MODEL_845e6dc55cfa48a5a1ee3d8459d198e7"
      }
     },
     "e67e4682a0bf4ebe9880b900bf5a9704": {
      "model_module": "@jupyter-widgets/base",
      "model_module_version": "1.2.0",
      "model_name": "LayoutModel",
      "state": {}
     },
     "e67fa5faa91943adb77d0a00913a7613": {
      "model_module": "@jupyter-widgets/controls",
      "model_module_version": "1.5.0",
      "model_name": "CheckboxModel",
      "state": {
       "description": "Variable: -> (1)",
       "disabled": false,
       "layout": "IPY_MODEL_72efca32f6a2470bacc498ca7da47b1a",
       "style": "IPY_MODEL_96c9b993e20940de938ccfab952a1aab",
       "value": false
      }
     },
     "e68834d1ed84445995d51610f4d79105": {
      "model_module": "@jupyter-widgets/controls",
      "model_module_version": "1.5.0",
      "model_name": "ButtonModel",
      "state": {
       "description": "starke Deklination",
       "layout": "IPY_MODEL_645b8a712fcc4d2da97b20ccaae5a847",
       "style": "IPY_MODEL_6dd8d6a165e343dc9c7883a40e76c9cf"
      }
     },
     "e6bd40f972a841e3a1b93fd5c782267f": {
      "model_module": "@jupyter-widgets/controls",
      "model_module_version": "1.5.0",
      "model_name": "ButtonModel",
      "state": {
       "description": "Korrekt?",
       "layout": "IPY_MODEL_1b3273f798f54ac9817bc3bc68c81c81",
       "style": "IPY_MODEL_f440ab99394b49669033295c461ecc1f"
      }
     },
     "e6c6c58c4f7a4e2192caac5687d19276": {
      "model_module": "@jupyter-widgets/controls",
      "model_module_version": "1.5.0",
      "model_name": "DescriptionStyleModel",
      "state": {
       "description_width": ""
      }
     },
     "e6d152da47214dfa97be78ae129fdfb5": {
      "model_module": "@jupyter-widgets/controls",
      "model_module_version": "1.5.0",
      "model_name": "DescriptionStyleModel",
      "state": {
       "description_width": ""
      }
     },
     "e6e60edb9c0c4b1a8f8e563a69c19c8a": {
      "model_module": "@jupyter-widgets/base",
      "model_module_version": "1.2.0",
      "model_name": "LayoutModel",
      "state": {
       "width": "600px"
      }
     },
     "e70c0e8d5ec240fa946a8ee28cd36353": {
      "model_module": "@jupyter-widgets/base",
      "model_module_version": "1.2.0",
      "model_name": "LayoutModel",
      "state": {}
     },
     "e7484f8674a24a52be89a51f644a8e6f": {
      "model_module": "@jupyter-widgets/controls",
      "model_module_version": "1.5.0",
      "model_name": "ButtonModel",
      "state": {
       "description": "Korrekt?",
       "layout": "IPY_MODEL_9d91cfd4d2094fa1837493e1c50e8bcc",
       "style": "IPY_MODEL_ca63e8a6297449b3a42b58bccd6f0c4f"
      }
     },
     "e7589be1b43f4db998f6b228e4671126": {
      "model_module": "@jupyter-widgets/base",
      "model_module_version": "1.2.0",
      "model_name": "LayoutModel",
      "state": {}
     },
     "e75eb8c0ef0c43b788051484461959c9": {
      "model_module": "@jupyter-widgets/controls",
      "model_module_version": "1.5.0",
      "model_name": "HTMLModel",
      "state": {
       "layout": "IPY_MODEL_b99042fe084649c8ad46275d662bce1d",
       "style": "IPY_MODEL_e2cc9ac4df844a72814491be6b78d645",
       "value": "<h4 style=\"font-size:14px;\">Welche der Beispiele erfüllen die Subsumptionsbeziehung aus 10b nicht?</h4>"
      }
     },
     "e78215f0dc4c4a57abc46e92337f71b3": {
      "model_module": "@jupyter-widgets/base",
      "model_module_version": "1.2.0",
      "model_name": "LayoutModel",
      "state": {
       "width": "150px"
      }
     },
     "e78c68215bce469dbcc544c9f7bb3002": {
      "model_module": "@jupyter-widgets/controls",
      "model_module_version": "1.5.0",
      "model_name": "CheckboxModel",
      "state": {
       "description": "FS0 = [CAT = N, GEN = FEM], FS1 = [CAT = DET, GEN = FEM]",
       "disabled": false,
       "layout": "IPY_MODEL_cea1c131ee8e46e0aa3ca6c53ada0058",
       "style": "IPY_MODEL_aa0558249df6425799380608bb1be1ef",
       "value": false
      }
     },
     "e7973cce9dc744149f6ee0b6b851a7cf": {
      "model_module": "@jupyter-widgets/controls",
      "model_module_version": "1.5.0",
      "model_name": "HTMLModel",
      "state": {
       "layout": "IPY_MODEL_59221a092d1b440186ef7cfea4a140ac",
       "style": "IPY_MODEL_9ffed59516c047bcbf3b5a69cafe3289",
       "value": "<h4 style=\"font-size:14px;\">Welche Beispiele erfüllen die obige Subsumptionsbeziehung?</h4>"
      }
     },
     "e7d4ed57330347c4b55b7e33e59b3cf1": {
      "model_module": "@jupyter-widgets/controls",
      "model_module_version": "1.5.0",
      "model_name": "ButtonStyleModel",
      "state": {}
     },
     "e7d6dfd8ad974ca0b2c8c0a80a8ba048": {
      "model_module": "@jupyter-widgets/controls",
      "model_module_version": "1.5.0",
      "model_name": "CheckboxModel",
      "state": {
       "description": "Subjekt-Demotion zu Adverbial",
       "disabled": false,
       "layout": "IPY_MODEL_cbc700e46d084469aa142aeacfc05002",
       "style": "IPY_MODEL_9651bc1b078b4c2d977d2fc066767fd2",
       "value": false
      }
     },
     "e8000a42da234ceea35e7b2e69c25eee": {
      "model_module": "@jupyter-widgets/base",
      "model_module_version": "1.2.0",
      "model_name": "LayoutModel",
      "state": {
       "width": "600px"
      }
     },
     "e80ac212ea7440a7a7147997f335f570": {
      "model_module": "@jupyter-widgets/controls",
      "model_module_version": "1.5.0",
      "model_name": "VBoxModel",
      "state": {
       "children": [
        "IPY_MODEL_feba126e478d476395abd92346e149c5",
        "IPY_MODEL_78466272a31b41d89e66d3b30d4537a3",
        "IPY_MODEL_f85b59076adb4742b58846943e3f108c"
       ],
       "layout": "IPY_MODEL_5012c0e077824c75b368c68b22cfd6a0"
      }
     },
     "e8615815aaa0406c9458b0c579207547": {
      "model_module": "@jupyter-widgets/controls",
      "model_module_version": "1.5.0",
      "model_name": "CheckboxModel",
      "state": {
       "description": "?x",
       "disabled": false,
       "layout": "IPY_MODEL_bc509de4ef3a4351b58e7328c3e58fed",
       "style": "IPY_MODEL_6167860c24e444feb34e462f4a26085d",
       "value": false
      }
     },
     "e89e952c61ca4e1fb7642383cc53d8a7": {
      "model_module": "@jupyter-widgets/base",
      "model_module_version": "1.2.0",
      "model_name": "LayoutModel",
      "state": {}
     },
     "e8f20e7cfd5a44e4b34b948a38ffd07f": {
      "model_module": "@jupyter-widgets/base",
      "model_module_version": "1.2.0",
      "model_name": "LayoutModel",
      "state": {}
     },
     "e90b5b474a3e4bb9929d79ffebb39aaa": {
      "model_module": "@jupyter-widgets/controls",
      "model_module_version": "1.5.0",
      "model_name": "CheckboxModel",
      "state": {
       "description": "Das Genus des Adjektivs ist lexikalisch fix definiert.",
       "disabled": false,
       "layout": "IPY_MODEL_d3c4d6111b36448cbc63bd508c71acb4",
       "style": "IPY_MODEL_8ea7e51060fb40e48815e5ff8d98d5b6",
       "value": false
      }
     },
     "e90c672c2d1247579f2d57535932e4f0": {
      "model_module": "@jupyter-widgets/controls",
      "model_module_version": "1.5.0",
      "model_name": "DescriptionStyleModel",
      "state": {
       "description_width": "initial"
      }
     },
     "e930595522084714a714e90f569cbdeb": {
      "model_module": "@jupyter-widgets/base",
      "model_module_version": "1.2.0",
      "model_name": "LayoutModel",
      "state": {
       "width": "600px"
      }
     },
     "e999eaa7d6a3411eb12e0af4138e3655": {
      "model_module": "@jupyter-widgets/controls",
      "model_module_version": "1.5.0",
      "model_name": "ButtonStyleModel",
      "state": {}
     },
     "e99b7e06c2e143728e3ce4fb73cfdd6f": {
      "model_module": "@jupyter-widgets/controls",
      "model_module_version": "1.5.0",
      "model_name": "HTMLModel",
      "state": {
       "layout": "IPY_MODEL_7290d5e38edf45c5a2cc3477921047fb",
       "style": "IPY_MODEL_4327b0b9927842e78deeeb8e2edc9a8e",
       "value": "<i>Wählen Sie die <ins>eine</ins> korrekte Antwort aus: </i>"
      }
     },
     "e9ff4410c6934e8db286b9d744e4d113": {
      "model_module": "@jupyter-widgets/base",
      "model_module_version": "1.2.0",
      "model_name": "LayoutModel",
      "state": {}
     },
     "ea1292c1c30e42a4a7cec374bb038c13": {
      "model_module": "@jupyter-widgets/base",
      "model_module_version": "1.2.0",
      "model_name": "LayoutModel",
      "state": {}
     },
     "ea28f3b6ba874d5bae0fea2b770c617a": {
      "model_module": "@jupyter-widgets/controls",
      "model_module_version": "1.5.0",
      "model_name": "ButtonModel",
      "state": {
       "description": "Locative",
       "layout": "IPY_MODEL_a572fd45ebd640a4b91aee84c02eac5a",
       "style": "IPY_MODEL_919fd4116b7b4dff894dd53402556799"
      }
     },
     "ea5eb5cbc89f428fa8afdd88a8ebef6e": {
      "model_module": "@jupyter-widgets/controls",
      "model_module_version": "1.5.0",
      "model_name": "ButtonModel",
      "state": {
       "description": "bestimmten",
       "layout": "IPY_MODEL_374b8c27032d48efb1266866199f8c16",
       "style": "IPY_MODEL_1d7572a4c78a4d7980978848246a3116"
      }
     },
     "ea6dfcbf37d04d2eb9a8e7af2ba67571": {
      "model_module": "@jupyter-widgets/base",
      "model_module_version": "1.2.0",
      "model_name": "LayoutModel",
      "state": {
       "width": "600px"
      }
     },
     "ea9ce2c06ba84b48bc232e3fc795e4a1": {
      "model_module": "@jupyter-widgets/controls",
      "model_module_version": "1.5.0",
      "model_name": "HBoxModel",
      "state": {
       "children": [
        "IPY_MODEL_4173e9005baa43dbb0137b3a6bcbd062",
        "IPY_MODEL_6be43ba473dd41639bf0f40218469a4c"
       ],
       "layout": "IPY_MODEL_e22282d13481494d934c58a619bae7aa"
      }
     },
     "eab0f9d1ab5a455291201459700fd8e6": {
      "model_module": "@jupyter-widgets/base",
      "model_module_version": "1.2.0",
      "model_name": "LayoutModel",
      "state": {
       "width": "250px"
      }
     },
     "eb09d70b581e4c2384be093e989ac205": {
      "model_module": "@jupyter-widgets/controls",
      "model_module_version": "1.5.0",
      "model_name": "VBoxModel",
      "state": {
       "children": [
        "IPY_MODEL_4480606071a74ad69f5be4664454cfc7",
        "IPY_MODEL_d9974b620f434f749e7248c77e8a9b19",
        "IPY_MODEL_952fa13e699143d0b3084915a2f6a963",
        "IPY_MODEL_74f5ce5fba124894b2ab4d0c11f1bba7",
        "IPY_MODEL_a6d6bd3d15714560ae86f315dbd17d22",
        "IPY_MODEL_1d835c3a3e70413f86714efa95ccd4a7"
       ],
       "layout": "IPY_MODEL_ebfa3d35a20348f1b2b3d826578b8b4a"
      }
     },
     "eb2eed7d5a1448a282f847a8705195da": {
      "model_module": "@jupyter-widgets/controls",
      "model_module_version": "1.5.0",
      "model_name": "DescriptionStyleModel",
      "state": {
       "description_width": ""
      }
     },
     "eb3632bdf7bd44d4b88739901f1d47bf": {
      "model_module": "@jupyter-widgets/controls",
      "model_module_version": "1.5.0",
      "model_name": "VBoxModel",
      "state": {
       "children": [
        "IPY_MODEL_547b38c600e743028f0cb0b4681506ee",
        "IPY_MODEL_3533aba6625b4c2889a3d2e5f7b4b56e",
        "IPY_MODEL_1aa369035d234c1e97a0fb4fc41b7b87",
        "IPY_MODEL_1425e7e5fbc94d9c93eac80e1e17e536"
       ],
       "layout": "IPY_MODEL_0b78cc6684da48c99e1e5306a88b46fb"
      }
     },
     "eb4f86f6dc49416aa0e87a8fc76b02eb": {
      "model_module": "@jupyter-widgets/base",
      "model_module_version": "1.2.0",
      "model_name": "LayoutModel",
      "state": {
       "width": "250px"
      }
     },
     "eb534249ec634da89e3590c5bb423cbc": {
      "model_module": "@jupyter-widgets/controls",
      "model_module_version": "1.5.0",
      "model_name": "CheckboxModel",
      "state": {
       "description": "FS0 = [CAT = N, GEN = MASK], FS1 = [CAT = N]",
       "disabled": false,
       "layout": "IPY_MODEL_988df82cb7654c5087b51c41ab4bdd85",
       "style": "IPY_MODEL_8e6e5602f78c4cbf9eec55df2218920a",
       "value": false
      }
     },
     "eb8042d2b8fe45db9e939b5d7f8cab93": {
      "model_module": "@jupyter-widgets/controls",
      "model_module_version": "1.5.0",
      "model_name": "HTMLModel",
      "state": {
       "layout": "IPY_MODEL_2df8217f10294e56b5dac3495549cdd9",
       "style": "IPY_MODEL_434932d9e8554e568bed9d502d6eb9f8",
       "value": "<h4 style=\"font-size:14px;\">Um welchen Faktor erhöht sich die Regelanzahl, wenn man Kongruenz (Agreement) in Numerus und Person durch Integration von Merkmalen in die Kategoriensymbole einer CFG modelliert (S → NP_1_SG VP_1_SG usw.)?</h4>"
      }
     },
     "eb9a508261214bb1b41897cbd65aa6cc": {
      "model_module": "@jupyter-widgets/controls",
      "model_module_version": "1.5.0",
      "model_name": "DescriptionStyleModel",
      "state": {
       "description_width": "initial"
      }
     },
     "eba77181b2984b069922a2b51639dc93": {
      "model_module": "@jupyter-widgets/base",
      "model_module_version": "1.2.0",
      "model_name": "LayoutModel",
      "state": {}
     },
     "ebcbe4ec7ad8491baeea9d0af9a5342a": {
      "model_module": "@jupyter-widgets/controls",
      "model_module_version": "1.5.0",
      "model_name": "DescriptionStyleModel",
      "state": {
       "description_width": ""
      }
     },
     "ebd4cf30c4c4496ca71ba8b9b9c88256": {
      "model_module": "@jupyter-widgets/controls",
      "model_module_version": "1.5.0",
      "model_name": "ButtonModel",
      "state": {
       "description": "Patiens",
       "layout": "IPY_MODEL_e461b9bbfdc845cc9b643dcdfe0b8468",
       "style": "IPY_MODEL_fd032e0d73c1448690886fa17e40c1fd"
      }
     },
     "ebe4032f9082496e867fe46828d08c0f": {
      "model_module": "@jupyter-widgets/controls",
      "model_module_version": "1.5.0",
      "model_name": "ButtonModel",
      "state": {
       "description": "Korrekt?",
       "layout": "IPY_MODEL_6b53a4705a98411e8e284550520e9052",
       "style": "IPY_MODEL_18b1390df12b4152b78542d10f759451"
      }
     },
     "ebfa3d35a20348f1b2b3d826578b8b4a": {
      "model_module": "@jupyter-widgets/base",
      "model_module_version": "1.2.0",
      "model_name": "LayoutModel",
      "state": {}
     },
     "ec28791cb2444646b6bc4495193339da": {
      "model_module": "@jupyter-widgets/base",
      "model_module_version": "1.2.0",
      "model_name": "LayoutModel",
      "state": {
       "width": "250px"
      }
     },
     "ec3fc235412a4b5cac1245104c4e9b14": {
      "model_module": "@jupyter-widgets/controls",
      "model_module_version": "1.5.0",
      "model_name": "DescriptionStyleModel",
      "state": {
       "description_width": "initial"
      }
     },
     "ec6241723cdb44b4822dd7b5311540aa": {
      "model_module": "@jupyter-widgets/base",
      "model_module_version": "1.2.0",
      "model_name": "LayoutModel",
      "state": {
       "width": "250px"
      }
     },
     "ecbb5965067648a5986d897991d30a00": {
      "model_module": "@jupyter-widgets/base",
      "model_module_version": "1.2.0",
      "model_name": "LayoutModel",
      "state": {}
     },
     "ecc12d654a97489dbdf4ca7fb3b2a682": {
      "model_module": "@jupyter-widgets/base",
      "model_module_version": "1.2.0",
      "model_name": "LayoutModel",
      "state": {}
     },
     "ece24b7de09440419cafaea72c93c7f7": {
      "model_module": "@jupyter-widgets/base",
      "model_module_version": "1.2.0",
      "model_name": "LayoutModel",
      "state": {
       "align_content": "stretch",
       "align_items": "stretch",
       "display": "inline-flex",
       "flex": "flex-grow",
       "flex_flow": "row wrap",
       "justify_content": "flex-start"
      }
     },
     "ece801885fc74e1cbe79a8d13fe4631e": {
      "model_module": "@jupyter-widgets/base",
      "model_module_version": "1.2.0",
      "model_name": "LayoutModel",
      "state": {
       "width": "250px"
      }
     },
     "ed0997e6c52e476cafa9b99f9060f993": {
      "model_module": "@jupyter-widgets/controls",
      "model_module_version": "1.5.0",
      "model_name": "DropdownModel",
      "state": {
       "_options_labels": [
        "1",
        "10",
        "2",
        "4",
        "6",
        "8",
        "Keine der Alternativen"
       ],
       "description": "Antwort:",
       "index": 0,
       "layout": "IPY_MODEL_bbb926e675b84a9abb6383274537d3f8",
       "style": "IPY_MODEL_c828edc3e740441bac00ab23d81df919"
      }
     },
     "ed1d351eaea543e99046fd3adaad52a7": {
      "model_module": "@jupyter-widgets/controls",
      "model_module_version": "1.5.0",
      "model_name": "ButtonStyleModel",
      "state": {}
     },
     "ed4fbf4f322948e08e1e18999522217c": {
      "model_module": "@jupyter-widgets/controls",
      "model_module_version": "1.5.0",
      "model_name": "ButtonStyleModel",
      "state": {}
     },
     "ed59c6bd497c47638881266db99dc97f": {
      "model_module": "@jupyter-widgets/controls",
      "model_module_version": "1.5.0",
      "model_name": "DescriptionStyleModel",
      "state": {
       "description_width": "initial"
      }
     },
     "ed5a1bc7f6fb4ef9bab2055267c655e5": {
      "model_module": "@jupyter-widgets/base",
      "model_module_version": "1.2.0",
      "model_name": "LayoutModel",
      "state": {
       "width": "150px"
      }
     },
     "ed7f4616965c4a5bacd6a0faf419189b": {
      "model_module": "@jupyter-widgets/controls",
      "model_module_version": "1.5.0",
      "model_name": "ButtonModel",
      "state": {
       "description": "Keine der anderen Möglichkeiten",
       "layout": "IPY_MODEL_093760c241c3448293f960e80dd4467c",
       "style": "IPY_MODEL_d1c1e95e06594f0fa7e522a4cc1b5199"
      }
     },
     "ed847a9dfff447e79be822e69883a197": {
      "model_module": "@jupyter-widgets/controls",
      "model_module_version": "1.5.0",
      "model_name": "VBoxModel",
      "state": {
       "children": [
        "IPY_MODEL_adea35ddca974112915ab69200934574",
        "IPY_MODEL_4e44971cad574fee9b377b8c41dcaced",
        "IPY_MODEL_4b98bc3d85524b25811a2afb5b67fa31",
        "IPY_MODEL_2ebb5d6132cc478eb5e0ed7e8f91f351"
       ],
       "layout": "IPY_MODEL_b26bedb9275e4abb895528c37e35f83e"
      }
     },
     "ed8a22ce84624630862e6a64ec26cd41": {
      "model_module": "@jupyter-widgets/controls",
      "model_module_version": "1.5.0",
      "model_name": "CheckboxModel",
      "state": {
       "description": "Die Endungen von Adjektiv und Artikel stimmen überein.",
       "disabled": false,
       "layout": "IPY_MODEL_d958259e279c48c892f96fbb086892e5",
       "style": "IPY_MODEL_5ede7574f3664095a4dbc35d2640ff4a",
       "value": false
      }
     },
     "eda50f9751c04a00b8a4f1a34d85f349": {
      "model_module": "@jupyter-widgets/controls",
      "model_module_version": "1.5.0",
      "model_name": "DescriptionStyleModel",
      "state": {
       "description_width": ""
      }
     },
     "edafd58deadc436e9e4dbb2ecb007d17": {
      "model_module": "@jupyter-widgets/controls",
      "model_module_version": "1.5.0",
      "model_name": "DescriptionStyleModel",
      "state": {
       "description_width": "initial"
      }
     },
     "edc1f4ec292e4ff39b93c985dc6b0c37": {
      "model_module": "@jupyter-widgets/controls",
      "model_module_version": "1.5.0",
      "model_name": "DropdownModel",
      "state": {
       "_options_labels": [
        "Adverbial",
        "Nomen",
        "Personalpronomen",
        " "
       ],
       "index": 3,
       "layout": "IPY_MODEL_b136c7702de946c5b2a5c827dffc0399",
       "style": "IPY_MODEL_78f8ad6bbfc34346b770fa54988dc666"
      }
     },
     "edc6de878b34480ca03a1b35950a6f42": {
      "model_module": "@jupyter-widgets/base",
      "model_module_version": "1.2.0",
      "model_name": "LayoutModel",
      "state": {
       "width": "150px"
      }
     },
     "edd9f0415d954b7fb1937d6129f6eebf": {
      "model_module": "@jupyter-widgets/base",
      "model_module_version": "1.2.0",
      "model_name": "LayoutModel",
      "state": {
       "justify_content": "center"
      }
     },
     "ede404188d7549d89bbd6352fff7dc46": {
      "model_module": "@jupyter-widgets/controls",
      "model_module_version": "1.5.0",
      "model_name": "ButtonStyleModel",
      "state": {}
     },
     "ee0a839ce3f7429a9513a4bcb7bab850": {
      "model_module": "@jupyter-widgets/controls",
      "model_module_version": "1.5.0",
      "model_name": "VBoxModel",
      "state": {
       "children": [
        "IPY_MODEL_b4ddf0c03b6e4f898784d450d2e63250",
        "IPY_MODEL_a80e16affcb6433daaa94cdf43c77f91",
        "IPY_MODEL_2d1495860fd94724b574012086f88896"
       ],
       "layout": "IPY_MODEL_dcedb69cb55a43d9ac5b5844d7101079"
      }
     },
     "ee6be781f1f541bda70b56331af5c42d": {
      "model_module": "@jupyter-widgets/controls",
      "model_module_version": "1.5.0",
      "model_name": "DescriptionStyleModel",
      "state": {
       "description_width": ""
      }
     },
     "ee7ab06d2e8c4384aea9f89f79c67c97": {
      "model_module": "@jupyter-widgets/controls",
      "model_module_version": "1.5.0",
      "model_name": "DescriptionStyleModel",
      "state": {
       "description_width": ""
      }
     },
     "eeb6c663fda14978bf31877adcb11e7f": {
      "model_module": "@jupyter-widgets/controls",
      "model_module_version": "1.5.0",
      "model_name": "HBoxModel",
      "state": {
       "children": [
        "IPY_MODEL_07ae89023457468d828a9e91b029a12f",
        "IPY_MODEL_459ddc3448a44a64ab27b2107bb2fb9b"
       ],
       "layout": "IPY_MODEL_49fa6f8ea1804cbba825f6dc01b42354"
      }
     },
     "eec46685b59646ff9fbdec6212a932da": {
      "model_module": "@jupyter-widgets/base",
      "model_module_version": "1.2.0",
      "model_name": "LayoutModel",
      "state": {
       "width": "600px"
      }
     },
     "eecd118f6b974050b7677c5c9e13e74f": {
      "model_module": "@jupyter-widgets/controls",
      "model_module_version": "1.5.0",
      "model_name": "DescriptionStyleModel",
      "state": {
       "description_width": "initial"
      }
     },
     "eedb083d054941ec98902c9216eddeac": {
      "model_module": "@jupyter-widgets/controls",
      "model_module_version": "1.5.0",
      "model_name": "HBoxModel",
      "state": {
       "children": [
        "IPY_MODEL_95bc3da46a5442169fce588db0b65a0c",
        "IPY_MODEL_888f35cf93dd4e23a0b4e0f427b73e2f"
       ],
       "layout": "IPY_MODEL_5353954b08d24f4eb10ed02e988e7bd3"
      }
     },
     "eef31245437343129aff1b77e0dfff86": {
      "model_module": "@jupyter-widgets/base",
      "model_module_version": "1.2.0",
      "model_name": "LayoutModel",
      "state": {}
     },
     "ef07fb7b2ef24da18499168aac68c326": {
      "model_module": "@jupyter-widgets/controls",
      "model_module_version": "1.5.0",
      "model_name": "DescriptionStyleModel",
      "state": {
       "description_width": "initial"
      }
     },
     "ef1bd012b30249a0a5641914c2809b90": {
      "model_module": "@jupyter-widgets/base",
      "model_module_version": "1.2.0",
      "model_name": "LayoutModel",
      "state": {
       "width": "600px"
      }
     },
     "ef24f36ebf114c329fa396fb69354be4": {
      "model_module": "@jupyter-widgets/controls",
      "model_module_version": "1.5.0",
      "model_name": "DescriptionStyleModel",
      "state": {
       "description_width": ""
      }
     },
     "ef295d6b4b134e1794e38f62e5c98248": {
      "model_module": "@jupyter-widgets/base",
      "model_module_version": "1.2.0",
      "model_name": "LayoutModel",
      "state": {
       "width": "250px"
      }
     },
     "ef36bc4fcc444344bdf7f4ddb41f1469": {
      "model_module": "@jupyter-widgets/controls",
      "model_module_version": "1.5.0",
      "model_name": "DescriptionStyleModel",
      "state": {
       "description_width": ""
      }
     },
     "ef3edd4095974acc922ed41fec420bc7": {
      "model_module": "@jupyter-widgets/base",
      "model_module_version": "1.2.0",
      "model_name": "LayoutModel",
      "state": {
       "width": "250px"
      }
     },
     "ef42906d9c9343548afe94932c9e620f": {
      "model_module": "@jupyter-widgets/controls",
      "model_module_version": "1.5.0",
      "model_name": "ButtonModel",
      "state": {
       "description": "unbestimmten",
       "layout": "IPY_MODEL_0b2ece9d6ab2416a97ee79f3446e4c45",
       "style": "IPY_MODEL_324420fc0bab4294abfd874a2ac2ddfa"
      }
     },
     "ef5e4088f0d14ac98af70978fe70c0c0": {
      "model_module": "@jupyter-widgets/controls",
      "model_module_version": "1.5.0",
      "model_name": "ButtonStyleModel",
      "state": {
       "button_color": "lightgreen"
      }
     },
     "ef644d9ac56f42b6a7dd1b1475106436": {
      "model_module": "@jupyter-widgets/base",
      "model_module_version": "1.2.0",
      "model_name": "LayoutModel",
      "state": {
       "width": "600px"
      }
     },
     "ef6a9ad2a4f14a9b9bee3023939e0035": {
      "model_module": "@jupyter-widgets/controls",
      "model_module_version": "1.5.0",
      "model_name": "DescriptionStyleModel",
      "state": {
       "description_width": ""
      }
     },
     "ef90910c49624fc8a3ca6308a31e1ab4": {
      "model_module": "@jupyter-widgets/base",
      "model_module_version": "1.2.0",
      "model_name": "LayoutModel",
      "state": {}
     },
     "efb75528677e46828512a57c71697e40": {
      "model_module": "@jupyter-widgets/controls",
      "model_module_version": "1.5.0",
      "model_name": "HBoxModel",
      "state": {
       "children": [
        "IPY_MODEL_06b4ef63819e462187d2219894562b73"
       ],
       "layout": "IPY_MODEL_5f8b8a00d6a34b4087842c6472bfd9c2"
      }
     },
     "efb9a57efab74857a71e246a4398c90e": {
      "model_module": "@jupyter-widgets/controls",
      "model_module_version": "1.5.0",
      "model_name": "ButtonModel",
      "state": {
       "description": "Recipient",
       "layout": "IPY_MODEL_3145f20155694181a577b9bcfc2cd0e4",
       "style": "IPY_MODEL_b6c9bb3423f34899a813fe9bf6dcfae1"
      }
     },
     "efd5592c5022492bae70468b2f357d60": {
      "model_module": "@jupyter-widgets/base",
      "model_module_version": "1.2.0",
      "model_name": "LayoutModel",
      "state": {
       "width": "250px"
      }
     },
     "f00403608d4740bbbf0d77bcc836c0e8": {
      "model_module": "@jupyter-widgets/controls",
      "model_module_version": "1.5.0",
      "model_name": "HBoxModel",
      "state": {
       "children": [
        "IPY_MODEL_aca9197299354c7aad01bb736b9bf72d",
        "IPY_MODEL_a857efbeacc242a499b6fb4c6a95e797"
       ],
       "layout": "IPY_MODEL_b15cf40ff63a4d1284742094075c4642"
      }
     },
     "f016861b58c2437a886c913a1a153c3d": {
      "model_module": "@jupyter-widgets/controls",
      "model_module_version": "1.5.0",
      "model_name": "ButtonStyleModel",
      "state": {}
     },
     "f04cc0e298684fd2a4dd2d4c3bef4c91": {
      "model_module": "@jupyter-widgets/controls",
      "model_module_version": "1.5.0",
      "model_name": "HTMLModel",
      "state": {
       "layout": "IPY_MODEL_5a90d44171a24b8daf1bd258bba969bd",
       "style": "IPY_MODEL_4e9d666015584c999950494b8b0b41d7",
       "value": "<h4 style=\"font-size:14px;\">realisieren. Das Adjektiv muss also, wie auch beim Fehlen des bestimmten Artikels, die</h4>"
      }
     },
     "f069239810954fbaac92b2cac158e614": {
      "model_module": "@jupyter-widgets/controls",
      "model_module_version": "1.5.0",
      "model_name": "DescriptionStyleModel",
      "state": {
       "description_width": ""
      }
     },
     "f06bca583ab04430a98cc6d45550a970": {
      "model_module": "@jupyter-widgets/controls",
      "model_module_version": "1.5.0",
      "model_name": "DescriptionStyleModel",
      "state": {
       "description_width": "initial"
      }
     },
     "f0813c927a02458b89a612663cade3cd": {
      "model_module": "@jupyter-widgets/controls",
      "model_module_version": "1.5.0",
      "model_name": "HTMLModel",
      "state": {
       "layout": "IPY_MODEL_f26ab72437aa4bd3a214eb3aae20b815",
       "style": "IPY_MODEL_ef24f36ebf114c329fa396fb69354be4",
       "value": "<h4 style=\"font-size:14px;\">Was passiert nach semantischer Hierarchie, wenn kein Agens vorhanden ist?</h4>"
      }
     },
     "f09f5daa0a7544e281c2e8be5fc1d33b": {
      "model_module": "@jupyter-widgets/base",
      "model_module_version": "1.2.0",
      "model_name": "LayoutModel",
      "state": {
       "width": "250px"
      }
     },
     "f0b28b14a445494c86b9d9355115e669": {
      "model_module": "@jupyter-widgets/controls",
      "model_module_version": "1.5.0",
      "model_name": "HBoxModel",
      "state": {
       "children": [
        "IPY_MODEL_d84dc46cc0b2413fb61d566149a22b30",
        "IPY_MODEL_c62f0961608d4552a530538fa1068906"
       ],
       "layout": "IPY_MODEL_1740c006abc942d89b31ab3f7fbe7e97"
      }
     },
     "f0b3391fb5974025a3310ff3152c6130": {
      "model_module": "@jupyter-widgets/controls",
      "model_module_version": "1.5.0",
      "model_name": "DropdownModel",
      "state": {
       "_options_labels": [
        "Adverbiale",
        "Nomen",
        "Personalpronomina",
        " "
       ],
       "index": 3,
       "layout": "IPY_MODEL_8d9cdb4252b94bc3b65e8e0e274bd41b",
       "style": "IPY_MODEL_5bccbd4e82b241acbd6027e59cb0707c"
      }
     },
     "f0b56258236245bf93d1ec7c3c8072e5": {
      "model_module": "@jupyter-widgets/base",
      "model_module_version": "1.2.0",
      "model_name": "LayoutModel",
      "state": {
       "justify_content": "center"
      }
     },
     "f0ec2a3250cc49dd99013eaf65839bb1": {
      "model_module": "@jupyter-widgets/controls",
      "model_module_version": "1.5.0",
      "model_name": "HTMLModel",
      "state": {
       "layout": "IPY_MODEL_b98252b6dc2a45fc986a4ead61e39826",
       "style": "IPY_MODEL_25ad8133812f44bba46712ac41be0d6c",
       "value": "<i>Wählen Sie die <ins>eine</ins> korrekte Antwort aus: </i>"
      }
     },
     "f113ee706a41438fb8e35a5f10c53075": {
      "model_module": "@jupyter-widgets/base",
      "model_module_version": "1.2.0",
      "model_name": "LayoutModel",
      "state": {
       "width": "600px"
      }
     },
     "f12a260e5c5a40588eee243567460ed9": {
      "model_module": "@jupyter-widgets/controls",
      "model_module_version": "1.5.0",
      "model_name": "HBoxModel",
      "state": {
       "children": [
        "IPY_MODEL_023fcc7485c14bc19d39ce308962d3ba"
       ],
       "layout": "IPY_MODEL_c2a585632a2d481b9478ea58ea64ffc6"
      }
     },
     "f1585d38358a4598a097b80e8e3d0865": {
      "model_module": "@jupyter-widgets/base",
      "model_module_version": "1.2.0",
      "model_name": "LayoutModel",
      "state": {}
     },
     "f173010b3e304615af0e4b3fb0401977": {
      "model_module": "@jupyter-widgets/controls",
      "model_module_version": "1.5.0",
      "model_name": "ButtonModel",
      "state": {
       "description": "Patiens",
       "layout": "IPY_MODEL_f09f5daa0a7544e281c2e8be5fc1d33b",
       "style": "IPY_MODEL_5ce13b74e57a456a9e95e5c243ad7789"
      }
     },
     "f1834302b7144c4cb26e7e44b9dc47cb": {
      "model_module": "@jupyter-widgets/controls",
      "model_module_version": "1.5.0",
      "model_name": "CheckboxModel",
      "state": {
       "description": "Subjekt-Demotion zu Adverbial",
       "disabled": false,
       "layout": "IPY_MODEL_cd83b6a96f0246f3b937db68f0b43abd",
       "style": "IPY_MODEL_b19c3842d3cb44b3aceff5a1d393ba63",
       "value": true
      }
     },
     "f18933f6cf0044b2a82d3c82857d1a43": {
      "model_module": "@jupyter-widgets/controls",
      "model_module_version": "1.5.0",
      "model_name": "VBoxModel",
      "state": {
       "children": [
        "IPY_MODEL_31376298faf3460e91cca7fc87fc416c",
        "IPY_MODEL_0bb3062756084b95a63dc86870ce2a02",
        "IPY_MODEL_2bcf6c8498684eccbbc30190918c9359",
        "IPY_MODEL_8e04c36a80b74d2aa35d8c5e83ad632f"
       ],
       "layout": "IPY_MODEL_236390ff12c848df8c087440ff486557"
      }
     },
     "f19c44da7f8844798dd3bd3063af2e8e": {
      "model_module": "@jupyter-widgets/base",
      "model_module_version": "1.2.0",
      "model_name": "LayoutModel",
      "state": {}
     },
     "f1b1830787d74273b9a5ba029ea4402c": {
      "model_module": "@jupyter-widgets/controls",
      "model_module_version": "1.5.0",
      "model_name": "CheckboxModel",
      "state": {
       "description": "Sie werden aus der Eingabe extrahiert (feature extraction)",
       "disabled": false,
       "layout": "IPY_MODEL_09355348a4d44d41b6ae4429afe19a5a",
       "style": "IPY_MODEL_fdf920ed0895409aa8da27f1738d32e3",
       "value": false
      }
     },
     "f1d12802f81d4d7ba06933ed64c26233": {
      "model_module": "@jupyter-widgets/controls",
      "model_module_version": "1.5.0",
      "model_name": "ButtonModel",
      "state": {
       "description": "Korrekt?",
       "layout": "IPY_MODEL_ece801885fc74e1cbe79a8d13fe4631e",
       "style": "IPY_MODEL_229a9c8d674a4a7bb4774b4128d7dbba"
      }
     },
     "f2206f2cbde140d9a8c0d0ec4ea62d0f": {
      "model_module": "@jupyter-widgets/base",
      "model_module_version": "1.2.0",
      "model_name": "LayoutModel",
      "state": {
       "width": "250px"
      }
     },
     "f26ab72437aa4bd3a214eb3aae20b815": {
      "model_module": "@jupyter-widgets/base",
      "model_module_version": "1.2.0",
      "model_name": "LayoutModel",
      "state": {}
     },
     "f28c978c34d846758859fc4a8910afaf": {
      "model_module": "@jupyter-widgets/controls",
      "model_module_version": "1.5.0",
      "model_name": "DescriptionStyleModel",
      "state": {
       "description_width": ""
      }
     },
     "f2d16fa6d2264376a13730a33c08ebf2": {
      "model_module": "@jupyter-widgets/base",
      "model_module_version": "1.2.0",
      "model_name": "LayoutModel",
      "state": {
       "width": "250px"
      }
     },
     "f343e9a046b24580b61d8213eb95a9a0": {
      "model_module": "@jupyter-widgets/base",
      "model_module_version": "1.2.0",
      "model_name": "LayoutModel",
      "state": {}
     },
     "f34ccf4514454b0e8b4b87ba0bd04a71": {
      "model_module": "@jupyter-widgets/base",
      "model_module_version": "1.2.0",
      "model_name": "LayoutModel",
      "state": {
       "justify_content": "center"
      }
     },
     "f355e1a826a342ed98e7abe00342e03c": {
      "model_module": "@jupyter-widgets/base",
      "model_module_version": "1.2.0",
      "model_name": "LayoutModel",
      "state": {
       "width": "600px"
      }
     },
     "f374ad700b11432ca149c21dcef7242b": {
      "model_module": "@jupyter-widgets/controls",
      "model_module_version": "1.5.0",
      "model_name": "ButtonModel",
      "state": {
       "description": "Korrekt?",
       "layout": "IPY_MODEL_fa5f4a9b8398495a83e8a34b542de949",
       "style": "IPY_MODEL_bd56547e07064577841cb5f40ecceaf7"
      }
     },
     "f37ad0d5415e4d30bb724aab8c2cbbdc": {
      "model_module": "@jupyter-widgets/controls",
      "model_module_version": "1.5.0",
      "model_name": "ButtonStyleModel",
      "state": {}
     },
     "f3ac8af9f567435f96607578bcdf7653": {
      "model_module": "@jupyter-widgets/controls",
      "model_module_version": "1.5.0",
      "model_name": "DescriptionStyleModel",
      "state": {
       "description_width": ""
      }
     },
     "f3af159a2d874255abbd3111c7c47d1d": {
      "model_module": "@jupyter-widgets/controls",
      "model_module_version": "1.5.0",
      "model_name": "ButtonStyleModel",
      "state": {}
     },
     "f3bc72fa45274d30976f20eacaf1ae02": {
      "model_module": "@jupyter-widgets/base",
      "model_module_version": "1.2.0",
      "model_name": "LayoutModel",
      "state": {}
     },
     "f3c4db54ee6c43ac9d00ec91fb2dd80d": {
      "model_module": "@jupyter-widgets/base",
      "model_module_version": "1.2.0",
      "model_name": "LayoutModel",
      "state": {
       "width": "250px"
      }
     },
     "f3d9b3984d5f491e94dd6577de2c263b": {
      "model_module": "@jupyter-widgets/base",
      "model_module_version": "1.2.0",
      "model_name": "LayoutModel",
      "state": {
       "width": "250px"
      }
     },
     "f4406d2f108349cbbe4bc1ba49f31ba5": {
      "model_module": "@jupyter-widgets/controls",
      "model_module_version": "1.5.0",
      "model_name": "ButtonStyleModel",
      "state": {}
     },
     "f440ab99394b49669033295c461ecc1f": {
      "model_module": "@jupyter-widgets/controls",
      "model_module_version": "1.5.0",
      "model_name": "ButtonStyleModel",
      "state": {}
     },
     "f47ab6e5f2d94226afdefd9b782bfb36": {
      "model_module": "@jupyter-widgets/base",
      "model_module_version": "1.2.0",
      "model_name": "LayoutModel",
      "state": {
       "justify_content": "center"
      }
     },
     "f4a4a02a328b4bd1b3e7d7a44557d404": {
      "model_module": "@jupyter-widgets/controls",
      "model_module_version": "1.5.0",
      "model_name": "ButtonModel",
      "state": {
       "description": "Korrekt?",
       "layout": "IPY_MODEL_846e6125797843beb315f3f90fa006a0",
       "style": "IPY_MODEL_468758e237d64356ad19bf3e15cde6f8"
      }
     },
     "f4c98f69ad9842d0a25c1e56635a9a5c": {
      "model_module": "@jupyter-widgets/base",
      "model_module_version": "1.2.0",
      "model_name": "LayoutModel",
      "state": {
       "width": "600px"
      }
     },
     "f4d7cc37845349fcac22a48833d50dc3": {
      "model_module": "@jupyter-widgets/controls",
      "model_module_version": "1.5.0",
      "model_name": "HTMLModel",
      "state": {
       "layout": "IPY_MODEL_e35465f77e204b02aef1d7ff08becac1",
       "style": "IPY_MODEL_d006557785f04e8facf08c300e44079c",
       "value": "<h4 style=\"font-size:14px;\">übernehmen.</h4>"
      }
     },
     "f4de5088d540489c90d72f1cba8de53e": {
      "model_module": "@jupyter-widgets/controls",
      "model_module_version": "1.5.0",
      "model_name": "DescriptionStyleModel",
      "state": {
       "description_width": ""
      }
     },
     "f4fb7d28d7e64e9a82040c5b5ea95c2f": {
      "model_module": "@jupyter-widgets/controls",
      "model_module_version": "1.5.0",
      "model_name": "DescriptionStyleModel",
      "state": {
       "description_width": ""
      }
     },
     "f51c7e47ebef44a1ab22b8daab6cbd26": {
      "model_module": "@jupyter-widgets/controls",
      "model_module_version": "1.5.0",
      "model_name": "HTMLModel",
      "state": {
       "layout": "IPY_MODEL_be26f929e4044554afc3fc7d43f0bd69",
       "style": "IPY_MODEL_a0e8c87ea61149f291e556583c9c0eab",
       "value": "<h4 style=\"font-size:14px;\">Wie wird die Deklination der Nominalphrase <i>altes Bier</i> auch bezeichnet?</h4>"
      }
     },
     "f530f719fc0c431f9c5e9efbc97c2a88": {
      "model_module": "@jupyter-widgets/controls",
      "model_module_version": "1.5.0",
      "model_name": "VBoxModel",
      "state": {
       "children": [
        "IPY_MODEL_b7417a8db50b406296a8660051d47ab3",
        "IPY_MODEL_c0e0d1781c5c4f3fa9a7f3fdca145bc5",
        "IPY_MODEL_ae134f9d1c7e4cbcb0b790ce48e97a4e",
        "IPY_MODEL_8f5aeaad341b4bc0911b7e476e8b525f",
        "IPY_MODEL_92a4d0449f0244469d00268c3c4272d7"
       ],
       "layout": "IPY_MODEL_9f7ace506a504cae9b20e1cb8b7f62e4"
      }
     },
     "f538df92beae4714a7e30940e92a8c30": {
      "model_module": "@jupyter-widgets/base",
      "model_module_version": "1.2.0",
      "model_name": "LayoutModel",
      "state": {
       "width": "250px"
      }
     },
     "f549c6900d6544f68e1cb91eb3240bfe": {
      "model_module": "@jupyter-widgets/base",
      "model_module_version": "1.2.0",
      "model_name": "LayoutModel",
      "state": {}
     },
     "f563c47348204b4b85569d5ea18c95ac": {
      "model_module": "@jupyter-widgets/base",
      "model_module_version": "1.2.0",
      "model_name": "LayoutModel",
      "state": {}
     },
     "f5718d4ec0164a7897f26678cf234757": {
      "model_module": "@jupyter-widgets/base",
      "model_module_version": "1.2.0",
      "model_name": "LayoutModel",
      "state": {
       "justify_content": "center"
      }
     },
     "f582f148d50e4364b8dd11370666be3d": {
      "model_module": "@jupyter-widgets/base",
      "model_module_version": "1.2.0",
      "model_name": "LayoutModel",
      "state": {}
     },
     "f5a060e89037482190d828571b8aba74": {
      "model_module": "@jupyter-widgets/base",
      "model_module_version": "1.2.0",
      "model_name": "LayoutModel",
      "state": {
       "width": "250px"
      }
     },
     "f5e5033b7fc64e8ab692a9f27bdcdac4": {
      "model_module": "@jupyter-widgets/controls",
      "model_module_version": "1.5.0",
      "model_name": "DescriptionStyleModel",
      "state": {
       "description_width": "initial"
      }
     },
     "f61ee23533454b408e2e55e67b54a827": {
      "model_module": "@jupyter-widgets/base",
      "model_module_version": "1.2.0",
      "model_name": "LayoutModel",
      "state": {
       "width": "600px"
      }
     },
     "f62d041b0f5842bc8e9c2d2838a8319f": {
      "model_module": "@jupyter-widgets/base",
      "model_module_version": "1.2.0",
      "model_name": "LayoutModel",
      "state": {}
     },
     "f648dd97f31a4a7289304d9d3dbdecb1": {
      "model_module": "@jupyter-widgets/controls",
      "model_module_version": "1.5.0",
      "model_name": "DescriptionStyleModel",
      "state": {
       "description_width": "initial"
      }
     },
     "f64aea02ba2d4d6db61b884809062973": {
      "model_module": "@jupyter-widgets/base",
      "model_module_version": "1.2.0",
      "model_name": "LayoutModel",
      "state": {
       "width": "600px"
      }
     },
     "f6b2a971c92f4701bdef811049035193": {
      "model_module": "@jupyter-widgets/controls",
      "model_module_version": "1.5.0",
      "model_name": "DescriptionStyleModel",
      "state": {
       "description_width": "initial"
      }
     },
     "f6c307ddf1ef4e8eaa742ea7bec95ac7": {
      "model_module": "@jupyter-widgets/base",
      "model_module_version": "1.2.0",
      "model_name": "LayoutModel",
      "state": {
       "width": "600px"
      }
     },
     "f6c5d5832ecf4ea097dd3ccfcf5741ca": {
      "model_module": "@jupyter-widgets/controls",
      "model_module_version": "1.5.0",
      "model_name": "DescriptionStyleModel",
      "state": {
       "description_width": "initial"
      }
     },
     "f6cbc85fdec649a5b93d08b5866d9625": {
      "model_module": "@jupyter-widgets/controls",
      "model_module_version": "1.5.0",
      "model_name": "DescriptionStyleModel",
      "state": {
       "description_width": ""
      }
     },
     "f6e2a314948842848654a75e88d24d17": {
      "model_module": "@jupyter-widgets/controls",
      "model_module_version": "1.5.0",
      "model_name": "VBoxModel",
      "state": {
       "children": [
        "IPY_MODEL_71f1d77d974640dca2ff93cadd86f880",
        "IPY_MODEL_fe39fdf493f34f00bd3af237a22a00cc",
        "IPY_MODEL_5b3a9eaf45f54abfb6adbb8cda7c4016",
        "IPY_MODEL_051f02f34d124e2da217c6267d957a0e"
       ],
       "layout": "IPY_MODEL_3c0d4b5babbf4a7987410b3b8cb946f5"
      }
     },
     "f6f0e74b5c7a4d53a4a7a606b5a62d80": {
      "model_module": "@jupyter-widgets/base",
      "model_module_version": "1.2.0",
      "model_name": "LayoutModel",
      "state": {}
     },
     "f700fa49e2a9443183e3dea058f2c1bb": {
      "model_module": "@jupyter-widgets/controls",
      "model_module_version": "1.5.0",
      "model_name": "DescriptionStyleModel",
      "state": {
       "description_width": ""
      }
     },
     "f7082d5bad8e4fe68a97c4329b4d3c3b": {
      "model_module": "@jupyter-widgets/controls",
      "model_module_version": "1.5.0",
      "model_name": "DescriptionStyleModel",
      "state": {
       "description_width": "initial"
      }
     },
     "f71408236e48441ba3a1bcf534ca06fb": {
      "model_module": "@jupyter-widgets/controls",
      "model_module_version": "1.5.0",
      "model_name": "HTMLModel",
      "state": {
       "layout": "IPY_MODEL_852d23e1ac614b058a13fe9c038f589a",
       "style": "IPY_MODEL_2ac07b8e86ee462c92d75e032a958f1a",
       "value": "<h4 style=\"font-size:14px;\">Welche der Beispiele erfüllen die Subsumptionsbeziehung aus 10b nicht?</h4>"
      }
     },
     "f71ed0acc4404512a7ee23a8ac559adf": {
      "model_module": "@jupyter-widgets/controls",
      "model_module_version": "1.5.0",
      "model_name": "HTMLModel",
      "state": {
       "layout": "IPY_MODEL_45f348403c4b454288dbead0c49de02c",
       "style": "IPY_MODEL_f3ac8af9f567435f96607578bcdf7653",
       "value": "<h4 style=\"font-size:14px;\">Welche Aussagen gelten für den Fall, dass das Adjektiv in einer NP ohne Artikel auftritt? (vgl. <i>altes Bier</i>)</h4>"
      }
     },
     "f741e8ec87024bb592b24066d2d3916e": {
      "model_module": "@jupyter-widgets/controls",
      "model_module_version": "1.5.0",
      "model_name": "DescriptionStyleModel",
      "state": {
       "description_width": ""
      }
     },
     "f78897bf602c41f6836ccf3fbdb8800e": {
      "model_module": "@jupyter-widgets/base",
      "model_module_version": "1.2.0",
      "model_name": "LayoutModel",
      "state": {}
     },
     "f78ae4cefafe463280743e3994ecb971": {
      "model_module": "@jupyter-widgets/controls",
      "model_module_version": "1.5.0",
      "model_name": "VBoxModel",
      "state": {
       "children": [
        "IPY_MODEL_920eec40dd59491caf9a34ced01aaa6a",
        "IPY_MODEL_78f27aa0bde14522a54fd922c599b843",
        "IPY_MODEL_6a679c86e25b49b7b3d9a8e5c24e6d05",
        "IPY_MODEL_69a6f4e8c7da4b6b928b5dca19712c34"
       ],
       "layout": "IPY_MODEL_cd6a2d8df0fe4e3a98d13b74f06990c3"
      }
     },
     "f7a9b0c741f04bb78d2137b1cc8153c9": {
      "model_module": "@jupyter-widgets/controls",
      "model_module_version": "1.5.0",
      "model_name": "HTMLModel",
      "state": {
       "layout": "IPY_MODEL_72b9b482512e49a3b076e16cfee5a681",
       "style": "IPY_MODEL_a0ba1f4ad23946bd9b6fff646f18a78e",
       "value": "<h4 style=\"font-size:14px;\">Was passiert nach semantischer Hierarchie, wenn kein Agens vorhanden ist?</h4>"
      }
     },
     "f7b5a98661214fd5801bc150ddd72cb4": {
      "model_module": "@jupyter-widgets/controls",
      "model_module_version": "1.5.0",
      "model_name": "VBoxModel",
      "state": {
       "children": [
        "IPY_MODEL_d2c151abbc4c420eb6a4cc7d66cf9030",
        "IPY_MODEL_cef633cac546468ca2eb90c7ba63254a",
        "IPY_MODEL_fbe61ec88c6e4628adede22d82f39eb5",
        "IPY_MODEL_ff545b14693a4cb38d5979b0700478ca"
       ],
       "layout": "IPY_MODEL_4437ea96e3a54d3392c49d3771658b25"
      }
     },
     "f7d55ca232fe4100b9f1f13cb0e27806": {
      "model_module": "@jupyter-widgets/base",
      "model_module_version": "1.2.0",
      "model_name": "LayoutModel",
      "state": {
       "justify_content": "center"
      }
     },
     "f7ebbb52d70d4601a9741d4d8cdedd0a": {
      "model_module": "@jupyter-widgets/controls",
      "model_module_version": "1.5.0",
      "model_name": "VBoxModel",
      "state": {
       "children": [
        "IPY_MODEL_8caaf07dfee84cff8cff93fba7c1d3ae",
        "IPY_MODEL_b4fc6381d4ca488fa062450fb1177e96",
        "IPY_MODEL_0fe4eb2bce5942c5a0593523d3d6d8a6"
       ],
       "layout": "IPY_MODEL_a6e2be00362442c3986ad7d8f9a4b402"
      }
     },
     "f834526ff4f94d5682bf915cd477288f": {
      "model_module": "@jupyter-widgets/base",
      "model_module_version": "1.2.0",
      "model_name": "LayoutModel",
      "state": {
       "width": "600px"
      }
     },
     "f85b59076adb4742b58846943e3f108c": {
      "model_module": "@jupyter-widgets/controls",
      "model_module_version": "1.5.0",
      "model_name": "CheckboxModel",
      "state": {
       "description": "Sie werden im Vorhinein deklariert (feature lexicon)",
       "disabled": false,
       "layout": "IPY_MODEL_54be377ba3d0498f9200edb2e58ab8cf",
       "style": "IPY_MODEL_b2cb2fec94cd4793a8bd9da221460459",
       "value": false
      }
     },
     "f86a40ae3f33439d964e83e5433549a7": {
      "model_module": "@jupyter-widgets/base",
      "model_module_version": "1.2.0",
      "model_name": "LayoutModel",
      "state": {}
     },
     "f91f9b1718194cb490ba3a825dd62680": {
      "model_module": "@jupyter-widgets/base",
      "model_module_version": "1.2.0",
      "model_name": "LayoutModel",
      "state": {}
     },
     "f933e1168ee14b3095c2e07b0a2274fb": {
      "model_module": "@jupyter-widgets/base",
      "model_module_version": "1.2.0",
      "model_name": "LayoutModel",
      "state": {
       "width": "600px"
      }
     },
     "f9504e1979434829b319bf017fb62015": {
      "model_module": "@jupyter-widgets/base",
      "model_module_version": "1.2.0",
      "model_name": "LayoutModel",
      "state": {
       "width": "250px"
      }
     },
     "f98396c567f9430f9ca25dd86beb389d": {
      "model_module": "@jupyter-widgets/controls",
      "model_module_version": "1.5.0",
      "model_name": "ButtonStyleModel",
      "state": {
       "button_color": "lightgreen"
      }
     },
     "f9853d426eae4d3aa0eccceb353c65da": {
      "model_module": "@jupyter-widgets/controls",
      "model_module_version": "1.5.0",
      "model_name": "HTMLModel",
      "state": {
       "layout": "IPY_MODEL_11a11866884b458c8306d713f1a316e5",
       "style": "IPY_MODEL_0116eb15428b48a98692c88f8c1545ae",
       "value": "<h4 style=\"font-size:14px;\">Wie wird die Deklination der Nominalphrase <i>das alte Bier</i> auch bezeichnet?</h4>"
      }
     },
     "f98774d3412d49b59c84d9839b839272": {
      "model_module": "@jupyter-widgets/controls",
      "model_module_version": "1.5.0",
      "model_name": "DescriptionStyleModel",
      "state": {
       "description_width": ""
      }
     },
     "f998350ab47d49f680d0836896afb028": {
      "model_module": "@jupyter-widgets/controls",
      "model_module_version": "1.5.0",
      "model_name": "CheckboxModel",
      "state": {
       "description": "Der Artikel übernimmt die Genusmarkierung.",
       "disabled": false,
       "layout": "IPY_MODEL_4e1d1179238142b88f90659326407147",
       "style": "IPY_MODEL_e90c672c2d1247579f2d57535932e4f0",
       "value": true
      }
     },
     "f9b9d285858842e98b37dc2091727c48": {
      "model_module": "@jupyter-widgets/base",
      "model_module_version": "1.2.0",
      "model_name": "LayoutModel",
      "state": {
       "width": "250px"
      }
     },
     "fa23f9497c734393b469e2c794d979a1": {
      "model_module": "@jupyter-widgets/base",
      "model_module_version": "1.2.0",
      "model_name": "LayoutModel",
      "state": {
       "justify_content": "center"
      }
     },
     "fa5f4a9b8398495a83e8a34b542de949": {
      "model_module": "@jupyter-widgets/base",
      "model_module_version": "1.2.0",
      "model_name": "LayoutModel",
      "state": {
       "width": "250px"
      }
     },
     "fa783b9788f545e6a4b182a488898370": {
      "model_module": "@jupyter-widgets/controls",
      "model_module_version": "1.5.0",
      "model_name": "ButtonStyleModel",
      "state": {}
     },
     "fa82bd811f744099b5f8ce3e4bc746d7": {
      "model_module": "@jupyter-widgets/base",
      "model_module_version": "1.2.0",
      "model_name": "LayoutModel",
      "state": {}
     },
     "fa9dbbee7a30408cbc929dfcf035ef10": {
      "model_module": "@jupyter-widgets/base",
      "model_module_version": "1.2.0",
      "model_name": "LayoutModel",
      "state": {}
     },
     "fb2b5e1513b142079049645c8ca47b72": {
      "model_module": "@jupyter-widgets/controls",
      "model_module_version": "1.5.0",
      "model_name": "DescriptionStyleModel",
      "state": {
       "description_width": ""
      }
     },
     "fb38e109a3dd414fbe7611e2c69b01f9": {
      "model_module": "@jupyter-widgets/base",
      "model_module_version": "1.2.0",
      "model_name": "LayoutModel",
      "state": {
       "justify_content": "center"
      }
     },
     "fb410de8b973492d94825e99d8c1d8bb": {
      "model_module": "@jupyter-widgets/controls",
      "model_module_version": "1.5.0",
      "model_name": "DescriptionStyleModel",
      "state": {
       "description_width": ""
      }
     },
     "fb43f940bae04225a5fa6e0cc96a92a6": {
      "model_module": "@jupyter-widgets/controls",
      "model_module_version": "1.5.0",
      "model_name": "DescriptionStyleModel",
      "state": {
       "description_width": "initial"
      }
     },
     "fb4aa1c202e04dc8944ada12d47d7c2d": {
      "model_module": "@jupyter-widgets/controls",
      "model_module_version": "1.5.0",
      "model_name": "VBoxModel",
      "state": {
       "children": [
        "IPY_MODEL_6acfee8e4b3d41798f770355f0ff9e7a",
        "IPY_MODEL_6ade3a788bb34f09b2412d653d8780ba",
        "IPY_MODEL_d8490d622d2945f883c9bd4b5517f9a5",
        "IPY_MODEL_c4ecffd6fdaf4559b853526e170fdfcc"
       ],
       "layout": "IPY_MODEL_25e34d1815b8432fbdaa7a62959c8598"
      }
     },
     "fb5791ba7f60461ebc2035315b24b880": {
      "model_module": "@jupyter-widgets/controls",
      "model_module_version": "1.5.0",
      "model_name": "DescriptionStyleModel",
      "state": {
       "description_width": ""
      }
     },
     "fb75ed4cacd0429290ef66859e4d2a6c": {
      "model_module": "@jupyter-widgets/controls",
      "model_module_version": "1.5.0",
      "model_name": "VBoxModel",
      "state": {
       "children": [
        "IPY_MODEL_8067e523d6004af799a54bbedacbddf5",
        "IPY_MODEL_7ba9d73c694c4e0f8744a0e8c38d265d",
        "IPY_MODEL_c294e911ca414e43aca16762d12748e5"
       ],
       "layout": "IPY_MODEL_c5bcd76dcb5d45f8a45a7ad5933fd4e1"
      }
     },
     "fbb528b2d70541dcaea872ba0d168099": {
      "model_module": "@jupyter-widgets/controls",
      "model_module_version": "1.5.0",
      "model_name": "CheckboxModel",
      "state": {
       "description": "Sie werden im Vorhinein deklariert (feature lexicon)",
       "disabled": false,
       "layout": "IPY_MODEL_8e56d486ecbf4ea599e45683951b0c46",
       "style": "IPY_MODEL_b323b4cb7cdf437388cc27d9c795fb8e",
       "value": false
      }
     },
     "fbb5df824a2e47e5809906b5765c5489": {
      "model_module": "@jupyter-widgets/controls",
      "model_module_version": "1.5.0",
      "model_name": "ButtonModel",
      "state": {
       "description": "Lokativ",
       "layout": "IPY_MODEL_0948636498d24fc68fcf1cf2cd72c115",
       "style": "IPY_MODEL_5f36fc3d467e4e70b4f71be7b278929e"
      }
     },
     "fbd1125797664310bec810cfd5a3c052": {
      "model_module": "@jupyter-widgets/controls",
      "model_module_version": "1.5.0",
      "model_name": "HTMLModel",
      "state": {
       "layout": "IPY_MODEL_3ee296f6ef3c419eb7d77c0c0e829338",
       "style": "IPY_MODEL_dcd21d65b1804ce7b1319cf61534d8d2",
       "value": "<i>Wählen Sie die <ins>eine</ins> korrekte Antwort aus: </i>"
      }
     },
     "fbe61ec88c6e4628adede22d82f39eb5": {
      "model_module": "@jupyter-widgets/controls",
      "model_module_version": "1.5.0",
      "model_name": "VBoxModel",
      "state": {
       "children": [
        "IPY_MODEL_76093a32737c4749b6a34e98b5cd69f3",
        "IPY_MODEL_a53121bca5da4b2486790065ba4dda49",
        "IPY_MODEL_7fef7dc4deea4117b1428533a2febc9a"
       ],
       "layout": "IPY_MODEL_aa4fe5acc4284ddf99f434605055b5ac"
      }
     },
     "fbeda6ff18754d5d8552778758f23c1b": {
      "model_module": "@jupyter-widgets/base",
      "model_module_version": "1.2.0",
      "model_name": "LayoutModel",
      "state": {
       "width": "250px"
      }
     },
     "fc015744bb544588bf837f2ddc996bc7": {
      "model_module": "@jupyter-widgets/controls",
      "model_module_version": "1.5.0",
      "model_name": "DescriptionStyleModel",
      "state": {
       "description_width": ""
      }
     },
     "fc034542f8594290ad8d0372c9ae0d2a": {
      "model_module": "@jupyter-widgets/controls",
      "model_module_version": "1.5.0",
      "model_name": "HTMLModel",
      "state": {
       "layout": "IPY_MODEL_994e2ed5c6554394aeb0623806570447",
       "style": "IPY_MODEL_0afa0dc6c53e41b5a82a3546e658db28",
       "value": "<h4 style=\"font-size:14px;\">wird das Adjektiv hier</h4>"
      }
     },
     "fc1051f5e3994c20877f3aff26fc53c3": {
      "model_module": "@jupyter-widgets/controls",
      "model_module_version": "1.5.0",
      "model_name": "CheckboxModel",
      "state": {
       "description": "Die Endungen von Adjektiv und Artikel stimmen überein.",
       "disabled": false,
       "layout": "IPY_MODEL_5773a06e830747d9977633d004d93dce",
       "style": "IPY_MODEL_494b50c9e96b448f84beddf6e70355aa",
       "value": false
      }
     },
     "fc1556edbe594dee854788056d35470e": {
      "model_module": "@jupyter-widgets/base",
      "model_module_version": "1.2.0",
      "model_name": "LayoutModel",
      "state": {
       "width": "600px"
      }
     },
     "fc3e59d2a07c4dc7b07ce8e8f3331954": {
      "model_module": "@jupyter-widgets/base",
      "model_module_version": "1.2.0",
      "model_name": "LayoutModel",
      "state": {
       "justify_content": "center"
      }
     },
     "fc3e84539724476a90a7b26526c18717": {
      "model_module": "@jupyter-widgets/controls",
      "model_module_version": "1.5.0",
      "model_name": "ButtonStyleModel",
      "state": {}
     },
     "fc5a5405f0334864b9df28b0bb3dd79b": {
      "model_module": "@jupyter-widgets/controls",
      "model_module_version": "1.5.0",
      "model_name": "DropdownModel",
      "state": {
       "_options_labels": [
        "Genusmerkmale",
        "Kasusmerkmale",
        " "
       ],
       "index": 2,
       "layout": "IPY_MODEL_e78215f0dc4c4a57abc46e92337f71b3",
       "style": "IPY_MODEL_a4ab8dd2764d4f75843bbbca1d948378"
      }
     },
     "fc95c52271f44a35a58135d11101aa39": {
      "model_module": "@jupyter-widgets/base",
      "model_module_version": "1.2.0",
      "model_name": "LayoutModel",
      "state": {
       "justify_content": "center"
      }
     },
     "fcb53f3218d74ff08a1580ecc7e9ca0f": {
      "model_module": "@jupyter-widgets/controls",
      "model_module_version": "1.5.0",
      "model_name": "ButtonModel",
      "state": {
       "description": "Recipient",
       "layout": "IPY_MODEL_306fb4f6e36049b3bc5fa2e65a9dedfc",
       "style": "IPY_MODEL_60f8aa1082a749009a17e59651df3ca7"
      }
     },
     "fcce780baadb46f6b5c2e32256814b9b": {
      "model_module": "@jupyter-widgets/base",
      "model_module_version": "1.2.0",
      "model_name": "LayoutModel",
      "state": {
       "width": "250px"
      }
     },
     "fce1fd6a82ac44f38de687513b75dc78": {
      "model_module": "@jupyter-widgets/controls",
      "model_module_version": "1.5.0",
      "model_name": "CheckboxModel",
      "state": {
       "description": "Es muss immer ein Agens vorhanden sein.",
       "disabled": false,
       "layout": "IPY_MODEL_6c047047ac824a8cbbf866d330331b20",
       "style": "IPY_MODEL_88fb1b076b7f4c41956b71c0c75a8395",
       "value": false
      }
     },
     "fcf3e05b2610427baf6d50e5d016e835": {
      "model_module": "@jupyter-widgets/controls",
      "model_module_version": "1.5.0",
      "model_name": "ButtonStyleModel",
      "state": {}
     },
     "fd032e0d73c1448690886fa17e40c1fd": {
      "model_module": "@jupyter-widgets/controls",
      "model_module_version": "1.5.0",
      "model_name": "ButtonStyleModel",
      "state": {}
     },
     "fd0ef6584215452dba86f1cd7b1f4c9b": {
      "model_module": "@jupyter-widgets/controls",
      "model_module_version": "1.5.0",
      "model_name": "HTMLModel",
      "state": {
       "layout": "IPY_MODEL_05199acb74a14b93bc43eb0d7f16638b",
       "style": "IPY_MODEL_24cc9c416b314a8a9c4c60cb65bf212e",
       "value": "<h4 style=\"font-size:14px;\">Welche syntaktischen Unterschiede bestehen?</h4>"
      }
     },
     "fd10d0cf188944b5894b7cf99b63b6f7": {
      "model_module": "@jupyter-widgets/base",
      "model_module_version": "1.2.0",
      "model_name": "LayoutModel",
      "state": {
       "width": "600px"
      }
     },
     "fd3400119dd4477aac6f48d457ac5322": {
      "model_module": "@jupyter-widgets/controls",
      "model_module_version": "1.5.0",
      "model_name": "ButtonStyleModel",
      "state": {}
     },
     "fd3c7329040248d6afac85882cbcd629": {
      "model_module": "@jupyter-widgets/controls",
      "model_module_version": "1.5.0",
      "model_name": "HTMLModel",
      "state": {
       "layout": "IPY_MODEL_f5718d4ec0164a7897f26678cf234757",
       "style": "IPY_MODEL_b881f868c51049f393f980409b95253c",
       "value": "<i>Wählen Sie die <ins>eine</ins> korrekte Antwort aus: </i>"
      }
     },
     "fd3c81ec5f9b4f83bbe6605a6d2346ae": {
      "model_module": "@jupyter-widgets/controls",
      "model_module_version": "1.5.0",
      "model_name": "HBoxModel",
      "state": {
       "children": [
        "IPY_MODEL_935a529574b6427da3dc7ae97dfed26e",
        "IPY_MODEL_a26ef62dd2d0434f9a633160380fb2a2"
       ],
       "layout": "IPY_MODEL_d72527536ce64f9f878da0f2a44d2a4a"
      }
     },
     "fd6c62816cc747eabf07a09c19657e3b": {
      "model_module": "@jupyter-widgets/controls",
      "model_module_version": "1.5.0",
      "model_name": "VBoxModel",
      "state": {
       "children": [
        "IPY_MODEL_e75eb8c0ef0c43b788051484461959c9",
        "IPY_MODEL_1af0991e7bca4e8d881956738592b718",
        "IPY_MODEL_192970ac0c114977af6d1f3a792ad1a1",
        "IPY_MODEL_9b9ca50b944f47c6b5b43b8bec42a1ae"
       ],
       "layout": "IPY_MODEL_7854909c0de24ff99db8046035337994"
      }
     },
     "fd78e28869b042f58249e85230168bc4": {
      "model_module": "@jupyter-widgets/controls",
      "model_module_version": "1.5.0",
      "model_name": "HTMLModel",
      "state": {
       "layout": "IPY_MODEL_02342eb61cbd43a0a2abe23e04240ecc",
       "style": "IPY_MODEL_f4de5088d540489c90d72f1cba8de53e",
       "value": "<h4 style=\"font-size:14px;\">übernehmen.</h4>"
      }
     },
     "fd87956cd6c84932922cfcb1bb569a10": {
      "model_module": "@jupyter-widgets/controls",
      "model_module_version": "1.5.0",
      "model_name": "DescriptionStyleModel",
      "state": {
       "description_width": ""
      }
     },
     "fda125d046cf4bfb95d0ff743137f141": {
      "model_module": "@jupyter-widgets/controls",
      "model_module_version": "1.5.0",
      "model_name": "ButtonStyleModel",
      "state": {}
     },
     "fdf920ed0895409aa8da27f1738d32e3": {
      "model_module": "@jupyter-widgets/controls",
      "model_module_version": "1.5.0",
      "model_name": "DescriptionStyleModel",
      "state": {
       "description_width": "initial"
      }
     },
     "fe0e6704ec2f479f8e4cbe838a1570e7": {
      "model_module": "@jupyter-widgets/controls",
      "model_module_version": "1.5.0",
      "model_name": "HTMLModel",
      "state": {
       "layout": "IPY_MODEL_61ef30125e4b44e48c48beafdfa664e3",
       "style": "IPY_MODEL_eda50f9751c04a00b8a4f1a34d85f349",
       "value": "<h4 style=\"font-size:14px;\">Welche Beispiele erfüllen die obige Subsumptionsbeziehung?</h4>"
      }
     },
     "fe18f301d335482db4763e803438cff6": {
      "model_module": "@jupyter-widgets/controls",
      "model_module_version": "1.5.0",
      "model_name": "DescriptionStyleModel",
      "state": {
       "description_width": ""
      }
     },
     "fe39fdf493f34f00bd3af237a22a00cc": {
      "model_module": "@jupyter-widgets/controls",
      "model_module_version": "1.5.0",
      "model_name": "HTMLModel",
      "state": {
       "layout": "IPY_MODEL_820e54f6d9644a06a2d448f8dd020457",
       "style": "IPY_MODEL_5f808e635e8e4d2a9a51772285a4f278",
       "value": "<i>Wählen Sie die <ins>eine</ins> korrekte Antwort aus: </i>"
      }
     },
     "fe6341d3251b478c826883d7607e9402": {
      "model_module": "@jupyter-widgets/controls",
      "model_module_version": "1.5.0",
      "model_name": "CheckboxModel",
      "state": {
       "description": "Passivierung (Objekt-Promotion)",
       "disabled": false,
       "layout": "IPY_MODEL_57b5ecce5220424eb12139b89e7d425a",
       "style": "IPY_MODEL_150a3667a7524686bae2c97a45ea62ff",
       "value": false
      }
     },
     "fe89147b2fea4a10b2a916a34499fb75": {
      "model_module": "@jupyter-widgets/controls",
      "model_module_version": "1.5.0",
      "model_name": "VBoxModel",
      "state": {
       "children": [
        "IPY_MODEL_23e6999536df480a9563cd3b8c30144b",
        "IPY_MODEL_7abfd7f6779f44689299d7f3d973ac04",
        "IPY_MODEL_159b4f6ebfde47ba87199cf59a1fd6ed",
        "IPY_MODEL_933ba3819fd644c29cfc3e8a60471268"
       ],
       "layout": "IPY_MODEL_8bc2bda7f8cb44ffaa85e34cb8aeb6ba"
      }
     },
     "fea062fe99f34b1d9f655632a03682b1": {
      "model_module": "@jupyter-widgets/controls",
      "model_module_version": "1.5.0",
      "model_name": "HTMLModel",
      "state": {
       "layout": "IPY_MODEL_ddcea04816214d258a72ab29ddaa6fa3",
       "style": "IPY_MODEL_35ba7e3e739942e0b9e524173ff256a0",
       "value": "<h4 style=\"font-size:14px;\">keine</h4>"
      }
     },
     "feba126e478d476395abd92346e149c5": {
      "model_module": "@jupyter-widgets/controls",
      "model_module_version": "1.5.0",
      "model_name": "CheckboxModel",
      "state": {
       "description": "Keine der Alternativen",
       "disabled": false,
       "layout": "IPY_MODEL_2d609ac6854445c5a68e36b83179a983",
       "style": "IPY_MODEL_adce0db3fe9942ed988357605580b5b1",
       "value": false
      }
     },
     "fecb35f3385748c2880f9588ad8cd3c0": {
      "model_module": "@jupyter-widgets/controls",
      "model_module_version": "1.5.0",
      "model_name": "CheckboxModel",
      "state": {
       "description": "FS0 = [CAT = N, GEN = FEM], FS1 = [CAT = N, GEN = FEM]",
       "disabled": false,
       "layout": "IPY_MODEL_5d58e1bfc19a4317939b32a577c1f3bb",
       "style": "IPY_MODEL_a341d5b8374742c1aee10359ac050136",
       "value": false
      }
     },
     "fed40d46fa174808b9923984343c120c": {
      "model_module": "@jupyter-widgets/base",
      "model_module_version": "1.2.0",
      "model_name": "LayoutModel",
      "state": {
       "width": "600px"
      }
     },
     "fed8fa49499d4ddd9ef665b1bc760216": {
      "model_module": "@jupyter-widgets/controls",
      "model_module_version": "1.5.0",
      "model_name": "ButtonModel",
      "state": {
       "description": "Locative",
       "layout": "IPY_MODEL_1039e78c1e80478fa13089b6214f9824",
       "style": "IPY_MODEL_af70e6463cba41e2906d9bfec48c6702"
      }
     },
     "fefaf84e5095428cbf842e25cf9d72dc": {
      "model_module": "@jupyter-widgets/base",
      "model_module_version": "1.2.0",
      "model_name": "LayoutModel",
      "state": {
       "width": "250px"
      }
     },
     "ff2394d2364e4f8e880dc8a66a363c88": {
      "model_module": "@jupyter-widgets/controls",
      "model_module_version": "1.5.0",
      "model_name": "ButtonModel",
      "state": {
       "description": "Patiens",
       "layout": "IPY_MODEL_c6c013e7763f48619e84e3ec325afa01",
       "style": "IPY_MODEL_fd3400119dd4477aac6f48d457ac5322"
      }
     },
     "ff31c2fefc1d4882975fef9f4f5062e5": {
      "model_module": "@jupyter-widgets/base",
      "model_module_version": "1.2.0",
      "model_name": "LayoutModel",
      "state": {}
     },
     "ff32b3ba3f9b4daabbb7122871cfe10f": {
      "model_module": "@jupyter-widgets/controls",
      "model_module_version": "1.5.0",
      "model_name": "ButtonStyleModel",
      "state": {}
     },
     "ff545b14693a4cb38d5979b0700478ca": {
      "model_module": "@jupyter-widgets/controls",
      "model_module_version": "1.5.0",
      "model_name": "ButtonModel",
      "state": {
       "description": "Korrekt?",
       "layout": "IPY_MODEL_9377be4f78c941818004215b397f1608",
       "style": "IPY_MODEL_8bb07da0d24f4a6d858367a5c5af129e"
      }
     },
     "ff66d3efeeff46b7887c1d76e21306e0": {
      "model_module": "@jupyter-widgets/base",
      "model_module_version": "1.2.0",
      "model_name": "LayoutModel",
      "state": {
       "width": "250px"
      }
     },
     "ff6d88866fbc41669e566b20f799ceca": {
      "model_module": "@jupyter-widgets/base",
      "model_module_version": "1.2.0",
      "model_name": "LayoutModel",
      "state": {
       "justify_content": "center"
      }
     },
     "ff7449d3e0c348e7af95eec257519b75": {
      "model_module": "@jupyter-widgets/base",
      "model_module_version": "1.2.0",
      "model_name": "LayoutModel",
      "state": {
       "width": "600px"
      }
     },
     "ff7d1dcc8cdd4a5f9d20fc9666aa44c2": {
      "model_module": "@jupyter-widgets/controls",
      "model_module_version": "1.5.0",
      "model_name": "ButtonModel",
      "state": {
       "description": "list",
       "layout": "IPY_MODEL_ef295d6b4b134e1794e38f62e5c98248",
       "style": "IPY_MODEL_92167d546b3845ffba0877ee60f53175"
      }
     },
     "ff816618ea634ff387db1637769887fe": {
      "model_module": "@jupyter-widgets/controls",
      "model_module_version": "1.5.0",
      "model_name": "CheckboxModel",
      "state": {
       "description": "Sie werden neu eingefügt.",
       "disabled": false,
       "layout": "IPY_MODEL_28ea942f471e46e49bac06ed82c23af0",
       "style": "IPY_MODEL_41c6a4fde9a84f7ea9c30c738f7cfb5c",
       "value": false
      }
     },
     "ff885722a0594e25b034649961937934": {
      "model_module": "@jupyter-widgets/controls",
      "model_module_version": "1.5.0",
      "model_name": "DescriptionStyleModel",
      "state": {
       "description_width": "initial"
      }
     }
    },
    "version_major": 2,
    "version_minor": 0
   }
  }
 },
 "nbformat": 4,
 "nbformat_minor": 2
}
