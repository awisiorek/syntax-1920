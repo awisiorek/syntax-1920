{
 "cells": [
  {
   "cell_type": "markdown",
   "metadata": {},
   "source": [
    "***Vorlesung 'Syntax natürlicher Sprachen', WS 2019/20***\n",
    "\n",
    "---\n",
    "# Übung 3 (Lösung)"
   ]
  },
  {
   "cell_type": "code",
   "execution_count": 1,
   "metadata": {},
   "outputs": [],
   "source": [
    "from exercises_3 import *\n",
    "from questions import aufgabe\n",
    "from nltk.tree import Tree"
   ]
  },
  {
   "cell_type": "markdown",
   "metadata": {},
   "source": [
    "---\n",
    "## Aufgabe 1: Wortarten\n",
    "\n",
    "#### Bestimmen Sie die Wortarten des folgenden Satzes. Geben Sie jeweils das entsprechende Tag aus dem Universal Dependency (http://universaldependencies.org/u/pos/) Tagset an.\n",
    "\n",
    "- *Sie gab ihm das neue Buch von Chomsky, aber er zeigte kein Interesse daran.*"
   ]
  },
  {
   "cell_type": "markdown",
   "metadata": {},
   "source": [
    "| Sie | gab | ihm | das | neue | Buch | von | Chomsky, | aber | er  | zeigte | kein | Interesse | daran\n",
    "| --- | --- | --- | --- | ---- | ---- | --- | -------- | ---- | --- | ------ | ---- | --------- | ------ |\n",
    "| PRON | VERB | PRON | DET | ADJ  | NOUN  | ADP | PROPN      | CCONJ  | PRON | VERB    | PRON/DET  | NOUN       | PRON/ADV   |"
   ]
  },
  {
   "cell_type": "markdown",
   "metadata": {},
   "source": [
    "#### Vergleichen Sie ihre Tabelle anschließend mit dem Output des Spacy-Taggers."
   ]
  },
  {
   "cell_type": "code",
   "execution_count": 2,
   "metadata": {},
   "outputs": [],
   "source": [
    "import spacy\n",
    "\n",
    "nlp = spacy.load(\"de_core_news_sm\")\n",
    "doc = nlp('Sie gab ihm das neue Buch von Chomsky, aber er zeigte kein Interesse daran.')"
   ]
  },
  {
   "cell_type": "code",
   "execution_count": 3,
   "metadata": {},
   "outputs": [
    {
     "name": "stdout",
     "output_type": "stream",
     "text": [
      "Text       UD Tag     TIGER Tag \n",
      "========== ========== ==========\n",
      "Sie        PRON       PPER      \n",
      "gab        VERB       VVFIN     \n",
      "ihm        PRON       PPER      \n",
      "das        DET        ART       \n",
      "neue       ADJ        ADJA      \n",
      "Buch       NOUN       NN        \n",
      "von        ADP        APPR      \n",
      "Chomsky    PROPN      NE        \n",
      ",          PUNCT      $,        \n",
      "aber       CONJ       KON       \n",
      "er         PRON       PPER      \n",
      "zeigte     VERB       VVFIN     \n",
      "kein       DET        PIAT      \n",
      "Interesse  NOUN       NN        \n",
      "daran      ADV        PROAV     \n",
      ".          PUNCT      $.        \n"
     ]
    }
   ],
   "source": [
    "format_string = '{:10s} {:10s} {:10s}'\n",
    "print(format_string.format('Text', 'UD Tag', 'TIGER Tag'))\n",
    "print(format_string.format(*(['==========']*3)))\n",
    "for token in doc:\n",
    "    print(format_string.format(token.text, token.pos_, token.tag_))"
   ]
  },
  {
   "cell_type": "code",
   "execution_count": 4,
   "metadata": {},
   "outputs": [
    {
     "data": {
      "text/plain": [
       "'attributive indefinite pronoun without determiner'"
      ]
     },
     "execution_count": 4,
     "metadata": {},
     "output_type": "execute_result"
    }
   ],
   "source": [
    "spacy.explain('PIAT')"
   ]
  },
  {
   "cell_type": "markdown",
   "metadata": {},
   "source": [
    "---\n",
    "## Aufgabe 2: Wortarten im Kontext\n",
    "\n",
    "#### Betrachten sie folgende Sätze:\n",
    "1. *Er spielt gerne Schach.*\n",
    "2. *Er spielt gut Schach.*\n"
   ]
  },
  {
   "cell_type": "markdown",
   "metadata": {},
   "source": [
    "---\n",
    "### Aufgabe 2 a:\n",
    "\n",
    "#### Diskutieren Sie, ob es sich bei dem Wort *gerne* in Satz 1 um ein Adverb oder ein Adjektiv handelt."
   ]
  },
  {
   "cell_type": "code",
   "execution_count": 5,
   "metadata": {},
   "outputs": [
    {
     "data": {
      "application/vnd.jupyter.widget-view+json": {
       "model_id": "89acfb7d46e9494d84ba630e507d18f4",
       "version_major": 2,
       "version_minor": 0
      },
      "text/plain": [
       "MultipleChoice(children=(HTML(value='<h4 style=\"font-size:14px;\">Welche Eigenschaften hat <i>gerne</i> in Satz…"
      ]
     },
     "metadata": {},
     "output_type": "display_data"
    },
    {
     "data": {
      "application/vnd.jupyter.widget-view+json": {
       "model_id": "8c76ccd60a9f428fbd76ec53c6ad3338",
       "version_major": 2,
       "version_minor": 0
      },
      "text/plain": [
       "SingleChoice(children=(HTML(value='<h4 style=\"font-size:14px;\">Welche Wortart folgt damit für das Wort <i>gern…"
      ]
     },
     "metadata": {},
     "output_type": "display_data"
    }
   ],
   "source": [
    "aufgabe(blatt3_2a)"
   ]
  },
  {
   "cell_type": "markdown",
   "metadata": {},
   "source": [
    "---\n",
    "### Aufgabe 2 b:\n",
    "\n",
    "#### Um welche Wortart handelt es sich bei dem Lexem *gut* in Satz 2? Diskutieren Sie die Probleme, die hier bei der Wortartenbestimmung auftreten."
   ]
  },
  {
   "cell_type": "code",
   "execution_count": 6,
   "metadata": {},
   "outputs": [
    {
     "data": {
      "application/vnd.jupyter.widget-view+json": {
       "model_id": "66ae6d8c878a43d2b2ae99ae8a7a8b65",
       "version_major": 2,
       "version_minor": 0
      },
      "text/plain": [
       "MultipleChoice(children=(HTML(value='<h4 style=\"font-size:14px;\">Welche Eigenschaften hat <i>gut</i> in Satz 2…"
      ]
     },
     "metadata": {},
     "output_type": "display_data"
    },
    {
     "data": {
      "application/vnd.jupyter.widget-view+json": {
       "model_id": "92f94f01f8a147feb1daf497fe5d2561",
       "version_major": 2,
       "version_minor": 0
      },
      "text/plain": [
       "SingleChoice(children=(HTML(value='<h4 style=\"font-size:14px;\">Welche Wortart folgt damit für das Wort <i>gut<…"
      ]
     },
     "metadata": {},
     "output_type": "display_data"
    },
    {
     "data": {
      "application/vnd.jupyter.widget-view+json": {
       "model_id": "9a57b4c7b5774182856218f6fcd34260",
       "version_major": 2,
       "version_minor": 0
      },
      "text/plain": [
       "SingleChoice(children=(HTML(value='<h4 style=\"font-size:14px;\">Welche Wortart könnte man für das Wort <i>gut<…"
      ]
     },
     "metadata": {},
     "output_type": "display_data"
    }
   ],
   "source": [
    "aufgabe(blatt3_2b)"
   ]
  },
  {
   "cell_type": "markdown",
   "metadata": {},
   "source": [
    "---\n",
    "## Aufgabe 3: Phrasenstruktur\n",
    "\n",
    "#### Geben Sie für den folgenden Satz einen Phrasenstrukturbaum an.\n",
    "\n",
    "- *Die Studierenden schenkten ihnen ein Buch von Chomsky.*\n",
    "\n",
    "#### Erinnern Sie sich, dass Sie mit der Klasse `Tree` aus dem NLTK auch per Hand Syntaxbäume erstellen können (siehe nächste Codezelle).\n",
    "#### Sie dürfen aber auch gerne Papier und Stift benutzen :-)"
   ]
  },
  {
   "cell_type": "code",
   "execution_count": 7,
   "metadata": {
    "scrolled": true
   },
   "outputs": [
    {
     "name": "stdout",
     "output_type": "stream",
     "text": [
      "                                 S                                    \n",
      "     ┌───────────────────────────┴────┐                                \n",
      "     │                                VP                              \n",
      "     │                   ┌───────┬────┴────────────┐                   \n",
      "     │                   │       │                 NP                 \n",
      "     │                   │       │        ┌────────┴────────┐          \n",
      "     NP                  │       NP       NP                PP        \n",
      " ┌───┴───────┐           │       │    ┌───┴───┐        ┌────┴─────┐    \n",
      "ART          N           V      PRON ART      N       PREP      PROPN \n",
      " │           │           │       │    │       │        │          │    \n",
      "Die     Studierenden schenkten ihnen ein     Buch     von      Chomsky\n",
      "\n"
     ]
    }
   ],
   "source": [
    "np1 = Tree(\n",
    "    'NP',\n",
    "    [Tree('ART', ['Die']), Tree('N', ['Studierenden'])]\n",
    ")\n",
    "np2 = Tree(\n",
    "    'NP',\n",
    "    [Tree('PRON', ['ihnen'])]\n",
    ")\n",
    "np3_core = Tree(\n",
    "    'NP',\n",
    "    [Tree('ART', ['ein']), Tree('N', ['Buch'])]\n",
    ")\n",
    "pp = Tree(\n",
    "    'PP',\n",
    "    [Tree('PREP', ['von']), Tree('PROPN', ['Chomsky'])]\n",
    ")\n",
    "np3 = Tree(\n",
    "    'NP',\n",
    "    [np3_core, pp]\n",
    ")\n",
    "vp = Tree(\n",
    "    'VP',\n",
    "    [Tree('V', ['schenkten']), np2, np3]\n",
    ")\n",
    "s = Tree(\n",
    "    'S',\n",
    "    [np1, vp]\n",
    ")\n",
    "\n",
    "s.pretty_print(unicodelines=True)"
   ]
  },
  {
   "cell_type": "markdown",
   "metadata": {},
   "source": [
    "---\n",
    "## Aufgabe 4: Konstituententests"
   ]
  },
  {
   "cell_type": "markdown",
   "metadata": {},
   "source": [
    "#### Füllen Sie folgende Tabelle aus, indem Sie den jeweils angegebenen Konstituententest am folgenden Satz ausführen.\n",
    "\n",
    "- *Die Studierenden schenkten ihnen ein Buch über Fußball.*\n",
    "\n",
    "| Wortgruppe | Substitutionstest | Eliminierungstest | Permutationstest | Konstituente?\n",
    "| ---------- | ----------------- | ----------------- | ---------------- | ------------- |\n",
    "| Die Studierenden | 1✓ | 2 | 3✓ | ja |\n",
    "| ihnen ein | 4✓ | 5 | 6 | nein |\n",
    "| Buch über Fußball | 7✓ | 8(?) | 9 | nein |\n",
    "| über Fußball | 10✓ | 11✓ | 12(?) | ja |"
   ]
  },
  {
   "cell_type": "markdown",
   "metadata": {},
   "source": [
    "1. Sie schenkten ihnen ein Buch über Fußball. \n",
    "2. \\* Schenkten ihnen ein Buch über Fußball.\n",
    "3. Ein Buch über Fußball schenkten ihnen die Studierenden.\n",
    "4. Die Studierenden schenkten das Buch über Fußball.\n",
    "5. \\* Die Studierenden schenkten Buch über Fußball.\n",
    "6. \\* Ihnen ein die Studierenden schenkten Buch über Fußball.\n",
    "7. Die Studierenden schenkten ihnen ein Auto. \n",
    "8. ?? Die Studierenden schenkten ihnen ein.\n",
    "9. \\* Buch über Fußball schenkten ihnen die Studierenden ein.\n",
    "10. Die Studierenden schenkten ihnen ein Buch darüber.\n",
    "11. Die Studierenden schenkten ihnen ein Buch.\n",
    "12. ?? Die Studierenden schenkten ihnen über Fußball ein Buch."
   ]
  },
  {
   "cell_type": "markdown",
   "metadata": {},
   "source": [
    "---\n",
    "## Aufgabe 5: Phrasen und Konstituenten"
   ]
  },
  {
   "cell_type": "markdown",
   "metadata": {},
   "source": [
    "#### Erläutern Sie am Beispiel des Wortes *Verloren* im folgenden Satz den Unterschied zwischen Konstituente und Phrase.\n",
    "\n",
    "- *Verloren hat er seinen Schlüsselbund zwar noch nie, aber oft genug verlegt.*"
   ]
  },
  {
   "cell_type": "code",
   "execution_count": 8,
   "metadata": {
    "scrolled": true
   },
   "outputs": [
    {
     "data": {
      "application/vnd.jupyter.widget-view+json": {
       "model_id": "06731b48d5764b7cb27e9d334fd21298",
       "version_major": 2,
       "version_minor": 0
      },
      "text/plain": [
       "Lueckentext(children=(HTML(value='<i>Vervollständigen Sie den Lückentext: </i>', layout=Layout(justify_content…"
      ]
     },
     "metadata": {},
     "output_type": "display_data"
    }
   ],
   "source": [
    "aufgabe(blatt3_5)"
   ]
  },
  {
   "cell_type": "markdown",
   "metadata": {},
   "source": [
    "--- \n",
    "# Hausaufgaben"
   ]
  },
  {
   "cell_type": "markdown",
   "metadata": {},
   "source": [
    "---\n",
    "## Aufgabe 6: Phrasenstruktur\n",
    "\n",
    "\n",
    "#### Zerlegen Sie den folgenden Satz in seine Konstituenten. Stellen Sie die Konstituentenstruktur mit einem Kastendiagramm dar und erstellen Sie dann mit NLTK den entsprechenden Syntaxbaum.\n",
    "\n",
    "- *Die Kunst des Ausruhens ist ein Teil der Kunst des Arbeitens.*"
   ]
  },
  {
   "cell_type": "markdown",
   "metadata": {},
   "source": [
    "\n",
    "| Die | Kunst | des | Ausruhens | ist | ein | Teil | der | Kunst | des  | Arbeitens |\n",
    "\n",
    "| Die  Kunst | des Ausruhens | ist | ein Teil | der Kunst | des Arbeitens |\n",
    "\n",
    "| Die Kunst des Ausruhens | ist | ein Teil | der Kunst des Arbeitens |\n",
    "\n",
    "| Die Kunst des Ausruhens | ist | ein Teil der Kunst des Arbeitens |\n",
    "\n",
    "| Die Kunst des Ausruhens | ist ein Teil der Kunst des Arbeitens |\n"
   ]
  },
  {
   "cell_type": "code",
   "execution_count": 9,
   "metadata": {},
   "outputs": [
    {
     "name": "stdout",
     "output_type": "stream",
     "text": [
      "                              S                                                         \n",
      "               ┌──────────────┴──────────┐                                               \n",
      "               │                         VP                                             \n",
      "               │                     ┌───┴────────────┐                                  \n",
      "               │                     │                NP                                \n",
      "               │                     │       ┌────────┴─────────────┐                    \n",
      "               NP                    │       │                      NP                  \n",
      "     ┌─────────┴───────┐             │       │            ┌─────────┴───────┐            \n",
      "     NP                NP            │       NP           NP                NP          \n",
      " ┌───┴────┐        ┌───┴──────┐      │   ┌───┴───┐    ┌───┴────┐        ┌───┴──────┐     \n",
      "ART       N       ART         N      V  ART      N   ART       N       ART         N    \n",
      " │        │        │          │      │   │       │    │        │        │          │     \n",
      "Die     Kunst     des     Ausruhens ist ein     Teil der     Kunst     des     Arbeitens\n",
      "\n"
     ]
    }
   ],
   "source": [
    "np1_core = Tree(\n",
    "    'NP',\n",
    "    [Tree('ART', ['Die']), Tree('N', ['Kunst'])]\n",
    ")\n",
    "np1_attr = Tree(\n",
    "    'NP',\n",
    "    [Tree('ART', ['des']), Tree('N', ['Ausruhens'])]\n",
    ")\n",
    "np1 = Tree(\n",
    "    'NP',\n",
    "    [np1_core, np1_attr]\n",
    ")\n",
    "np2_core = Tree(\n",
    "    'NP',\n",
    "    [Tree('ART', ['ein']), Tree('N', ['Teil'])]\n",
    ")\n",
    "np2_attr_core = Tree(\n",
    "    'NP',\n",
    "    [Tree('ART', ['der']), Tree('N', ['Kunst'])]\n",
    ")\n",
    "\n",
    "np2_attr_attr = Tree(\n",
    "    'NP',\n",
    "    [Tree('ART', ['des']), Tree('N', ['Arbeitens'])]\n",
    ")\n",
    "np2_attr = Tree(\n",
    "    'NP',\n",
    "    [np2_attr_core, np2_attr_attr]\n",
    ")\n",
    "\n",
    "np2 = Tree(\n",
    "    'NP',\n",
    "    [np2_core, np2_attr]\n",
    ")\n",
    "vp = Tree(\n",
    "    'VP',\n",
    "    [Tree('V', ['ist']), np2]\n",
    ")\n",
    "s = Tree(\n",
    "    'S',\n",
    "    [np1, vp]\n",
    ")\n",
    "\n",
    "s.pretty_print(unicodelines=True)"
   ]
  },
  {
   "cell_type": "markdown",
   "metadata": {},
   "source": [
    "---\n",
    "## Aufgabe 7: Konstituententests"
   ]
  },
  {
   "cell_type": "markdown",
   "metadata": {},
   "source": [
    "#### Zeigen Sie mit dem Substitutionstest, dass es sich in folgendem Satz bei der Wortverbingung *nur mit einem Schritt* um eine Konstituente handelt.\n",
    "\n",
    "- Eine Reise von tausend Meilen beginnt auch nur mit einem Schritt.\n",
    "\n",
    "#### Beantworten Sie anschließend die folgenden Fragen!"
   ]
  },
  {
   "cell_type": "markdown",
   "metadata": {},
   "source": [
    "Substitutionstest: *Hier fehlt Ihre Lösung*"
   ]
  },
  {
   "cell_type": "code",
   "execution_count": null,
   "metadata": {},
   "outputs": [],
   "source": [
    "#LÖSUNG: Eine Reise von tausend Meilen beginnt auch so."
   ]
  },
  {
   "cell_type": "code",
   "execution_count": 10,
   "metadata": {},
   "outputs": [
    {
     "data": {
      "application/vnd.jupyter.widget-view+json": {
       "model_id": "1d4dc778e1134b40a99c6661c83afd62",
       "version_major": 2,
       "version_minor": 0
      },
      "text/plain": [
       "MultipleChoice(children=(HTML(value='<h4 style=\"font-size:14px;\">Welcher ist der richtig permutierte Satz?</h4…"
      ]
     },
     "metadata": {},
     "output_type": "display_data"
    },
    {
     "data": {
      "application/vnd.jupyter.widget-view+json": {
       "model_id": "f0f21b21fa0a4b73a411e63b6e068aa6",
       "version_major": 2,
       "version_minor": 0
      },
      "text/plain": [
       "MultipleChoice(children=(HTML(value='<h4 style=\"font-size:14px;\"><i>Eine Reise beginnt auch nur mit einem Schr…"
      ]
     },
     "metadata": {},
     "output_type": "display_data"
    }
   ],
   "source": [
    "aufgabe(blatt3_7)"
   ]
  },
  {
   "cell_type": "markdown",
   "metadata": {},
   "source": [
    "---\n",
    "## Aufgabe 8: Fragen zu NLTK-Kapitel 5"
   ]
  },
  {
   "cell_type": "markdown",
   "metadata": {},
   "source": [
    "#### Lesen Sie das Vorwort von NLTK-Kapitel 5 (’Categorizing and Tagging Words’) sowie die Teilkapitel 5.1, 5.2 und 5.7: http://www.nltk.org/book/ch05.html.\n",
    "\n",
    "#### Beantworten Sie insbesondere folgende Fragen:"
   ]
  },
  {
   "cell_type": "markdown",
   "metadata": {},
   "source": [
    "---\n",
    "### Aufgabe 8 a:"
   ]
  },
  {
   "cell_type": "code",
   "execution_count": 11,
   "metadata": {},
   "outputs": [
    {
     "data": {
      "application/vnd.jupyter.widget-view+json": {
       "model_id": "1e455fdcba504b88aea87479336f2fe7",
       "version_major": 2,
       "version_minor": 0
      },
      "text/plain": [
       "SingleChoice(children=(HTML(value='<h4 style=\"font-size:14px;\">Was ist der Input eines Part-of-Speech-Taggers?…"
      ]
     },
     "metadata": {},
     "output_type": "display_data"
    },
    {
     "data": {
      "application/vnd.jupyter.widget-view+json": {
       "model_id": "7ddea4eec8e54f4db6f5bcf550ef50c3",
       "version_major": 2,
       "version_minor": 0
      },
      "text/plain": [
       "SingleChoice(children=(HTML(value='<h4 style=\"font-size:14px;\">Was ist der Output eines Part-of-Speech-Taggers…"
      ]
     },
     "metadata": {},
     "output_type": "display_data"
    },
    {
     "data": {
      "application/vnd.jupyter.widget-view+json": {
       "model_id": "1d3982989c944ed3a6e3da9ba7ffbfe4",
       "version_major": 2,
       "version_minor": 0
      },
      "text/plain": [
       "OpenTextfield(children=(HTML(value='<h4 style=\"font-size:14px;\">Wie wirt der POS-Tagger im NLTK aufgerufen?</h…"
      ]
     },
     "metadata": {},
     "output_type": "display_data"
    }
   ],
   "source": [
    "aufgabe(blatt3_8a)"
   ]
  },
  {
   "cell_type": "markdown",
   "metadata": {},
   "source": [
    "---\n",
    "### Aufgabe 8 b:\n",
    "\n",
    "#### Sehen Sie sich folgenden Codeblock und dessen Output an (s. auch NLTK 5.1):"
   ]
  },
  {
   "cell_type": "code",
   "execution_count": 14,
   "metadata": {},
   "outputs": [
    {
     "name": "stdout",
     "output_type": "stream",
     "text": [
      "the his this that their one any no her its in our my some your each it\n",
      "all another of\n",
      "\n",
      "\n",
      "good much simple one new little white young sure beautiful that is\n",
      "time quiet certain great small proud bad thin\n",
      "\n",
      "\n",
      "time way day year man state work world moment country house group case\n",
      "room war church area job point car\n"
     ]
    }
   ],
   "source": [
    "import nltk\n",
    "text = nltk.Text(word.lower() for word in nltk.corpus.brown.words())\n",
    "\n",
    "text.similar('a')\n",
    "print('\\n')\n",
    "text.similar('nice')\n",
    "print('\\n')\n",
    "text.similar('book')"
   ]
  },
  {
   "cell_type": "code",
   "execution_count": 15,
   "metadata": {},
   "outputs": [
    {
     "data": {
      "application/vnd.jupyter.widget-view+json": {
       "model_id": "3ac969247d864e49adef8e6b79f62d7e",
       "version_major": 2,
       "version_minor": 0
      },
      "text/plain": [
       "MultipleChoice(children=(HTML(value='<h4 style=\"font-size:14px;\">Was leistet die Funktion <code>nltk.similar()…"
      ]
     },
     "metadata": {},
     "output_type": "display_data"
    }
   ],
   "source": [
    "aufgabe(blatt3_8b)"
   ]
  },
  {
   "cell_type": "markdown",
   "metadata": {},
   "source": [
    "---\n",
    "### Aufgabe 8 c:\n",
    "\n",
    "#### Erklären Sie, wie im zweiten der folgenden Codeblocks (NLTK 5.2.3/4) syntaktische Muster festgestellt werden. \n",
    "\n",
    "#### Füllen Sie mit diesem Wissen den Lückentext."
   ]
  },
  {
   "cell_type": "code",
   "execution_count": 18,
   "metadata": {},
   "outputs": [
    {
     "name": "stdout",
     "output_type": "stream",
     "text": [
      "(('The', 'DET'), ('Fulton', 'NOUN'))\n",
      "(('Fulton', 'NOUN'), ('County', 'NOUN'))\n",
      "(('County', 'NOUN'), ('Grand', 'ADJ'))\n"
     ]
    }
   ],
   "source": [
    "from nltk.corpus import brown\n",
    "brown_news_tagged = brown.tagged_words(categories='news', tagset='universal')\n",
    "word_tag_pairs = nltk.bigrams(brown_news_tagged)\n",
    "word_tag_pairs_list = list(word_tag_pairs)\n",
    "print(word_tag_pairs_list[0])\n",
    "print(word_tag_pairs_list[1])\n",
    "print(word_tag_pairs_list[2])"
   ]
  },
  {
   "cell_type": "code",
   "execution_count": 19,
   "metadata": {},
   "outputs": [
    {
     "data": {
      "text/plain": [
       "['NOUN',\n",
       " 'DET',\n",
       " 'ADJ',\n",
       " 'ADP',\n",
       " '.',\n",
       " 'VERB',\n",
       " 'CONJ',\n",
       " 'NUM',\n",
       " 'ADV',\n",
       " 'PRT',\n",
       " 'PRON',\n",
       " 'X']"
      ]
     },
     "execution_count": 19,
     "metadata": {},
     "output_type": "execute_result"
    }
   ],
   "source": [
    "word_tag_pairs = nltk.bigrams(brown_news_tagged)\n",
    "noun_preceders = [a[1] for (a, b) in word_tag_pairs if b[1] == 'NOUN']\n",
    "fdist = nltk.FreqDist(noun_preceders)\n",
    "[tag for (tag, _) in fdist.most_common()]"
   ]
  },
  {
   "cell_type": "code",
   "execution_count": 20,
   "metadata": {},
   "outputs": [
    {
     "data": {
      "application/vnd.jupyter.widget-view+json": {
       "model_id": "24dd15134ac7451f884d5401414ce8e5",
       "version_major": 2,
       "version_minor": 0
      },
      "text/plain": [
       "Lueckentext(children=(HTML(value='<i>Vervollständigen Sie den Lückentext: </i>', layout=Layout(justify_content…"
      ]
     },
     "metadata": {},
     "output_type": "display_data"
    }
   ],
   "source": [
    "aufgabe(blatt3_8c)"
   ]
  },
  {
   "cell_type": "markdown",
   "metadata": {},
   "source": [
    "---\n",
    "### Aufgabe 8 d:"
   ]
  },
  {
   "cell_type": "code",
   "execution_count": 21,
   "metadata": {},
   "outputs": [
    {
     "data": {
      "application/vnd.jupyter.widget-view+json": {
       "model_id": "3066515eba1d4df6aeee3874b2c48231",
       "version_major": 2,
       "version_minor": 0
      },
      "text/plain": [
       "MultipleChoice(children=(HTML(value='<h4 style=\"font-size:14px;\">Was sind morphologische Kriterien für Wortkat…"
      ]
     },
     "metadata": {},
     "output_type": "display_data"
    },
    {
     "data": {
      "application/vnd.jupyter.widget-view+json": {
       "model_id": "5b3efb655602499ca024afc1cbd8a91b",
       "version_major": 2,
       "version_minor": 0
      },
      "text/plain": [
       "MultipleChoice(children=(HTML(value='<h4 style=\"font-size:14px;\">Was sind syntaktische Kriterien für Wortkateg…"
      ]
     },
     "metadata": {},
     "output_type": "display_data"
    },
    {
     "data": {
      "application/vnd.jupyter.widget-view+json": {
       "model_id": "19d9dd803f4f4b9aaa228bec718fc1d9",
       "version_major": 2,
       "version_minor": 0
      },
      "text/plain": [
       "SingleChoice(children=(HTML(value='<h4 style=\"font-size:14px;\">Was bedeutet das Tag <i>VB</i> im Browntagset (…"
      ]
     },
     "metadata": {},
     "output_type": "display_data"
    },
    {
     "data": {
      "application/vnd.jupyter.widget-view+json": {
       "model_id": "814e3e3712a84823b89bc83a52ad0e9b",
       "version_major": 2,
       "version_minor": 0
      },
      "text/plain": [
       "SingleChoice(children=(HTML(value='<h4 style=\"font-size:14px;\">Was bedeutet das Tag <i>VBZ</i> im Browntagset …"
      ]
     },
     "metadata": {},
     "output_type": "display_data"
    },
    {
     "data": {
      "application/vnd.jupyter.widget-view+json": {
       "model_id": "925a9b81759b4dd881edfa7d52004579",
       "version_major": 2,
       "version_minor": 0
      },
      "text/plain": [
       "SingleChoice(children=(HTML(value='<h4 style=\"font-size:14px;\">Was bedeutet das Tag <i>VBN</i> im Browntagset …"
      ]
     },
     "metadata": {},
     "output_type": "display_data"
    },
    {
     "data": {
      "application/vnd.jupyter.widget-view+json": {
       "model_id": "c35301ff0b614edcabea8de7fa3b4218",
       "version_major": 2,
       "version_minor": 0
      },
      "text/plain": [
       "SingleChoice(children=(HTML(value='<h4 style=\"font-size:14px;\">Was bedeutet das Tag <i>VBG</i> im Browntagset …"
      ]
     },
     "metadata": {},
     "output_type": "display_data"
    },
    {
     "data": {
      "application/vnd.jupyter.widget-view+json": {
       "model_id": "28fae5ce62c647e38d3193a86f4ebbcf",
       "version_major": 2,
       "version_minor": 0
      },
      "text/plain": [
       "SingleChoice(children=(HTML(value='<h4 style=\"font-size:14px;\">Was bedeutet das Tag <i>VBD</i> im Browntagset …"
      ]
     },
     "metadata": {},
     "output_type": "display_data"
    }
   ],
   "source": [
    "aufgabe(blatt3_8d)"
   ]
  },
  {
   "cell_type": "markdown",
   "metadata": {},
   "source": [
    "---\n",
    "## Aufgabe 9: Fragen zu NLTK-Kapitel 8.2"
   ]
  },
  {
   "cell_type": "markdown",
   "metadata": {},
   "source": [
    "#### Lesen Sie das NLTK-Teilkapitel 8.2 (’What’s the Use of Syntax?’): http://www.nltk.org/book/ch08.html.\n",
    "\n",
    "#### Beantworten Sie insbesondere folgende Fragen:"
   ]
  },
  {
   "cell_type": "markdown",
   "metadata": {},
   "source": [
    "---\n",
    "### Aufgabe 9 a:\n",
    "\n",
    "#### Durch welches Prinzip lassen sich Konstituenten nachweisen?"
   ]
  },
  {
   "cell_type": "code",
   "execution_count": 22,
   "metadata": {},
   "outputs": [
    {
     "data": {
      "application/vnd.jupyter.widget-view+json": {
       "model_id": "1fd3e17a883842db9bca33eaed04a4d1",
       "version_major": 2,
       "version_minor": 0
      },
      "text/plain": [
       "Lueckentext(children=(HTML(value='<i>Vervollständigen Sie den Lückentext: </i>', layout=Layout(justify_content…"
      ]
     },
     "metadata": {},
     "output_type": "display_data"
    }
   ],
   "source": [
    "aufgabe(blatt3_9a)"
   ]
  },
  {
   "cell_type": "markdown",
   "metadata": {},
   "source": [
    "---\n",
    "### Aufgabe 9 b:\n",
    "\n",
    "#### Führen Sie (incl. lexikalischer und phrasaler Labels) eine Ersetzung (oder Pronominalisierung oder Eliminierung) in folgendem Satz durch, bis sie bei einem 2-Wort-Satz ankommen:\n",
    "\n",
    "- Fischers Fritz fischt die frischen Fische aus dem Fluss."
   ]
  },
  {
   "cell_type": "markdown",
   "metadata": {},
   "source": [
    "Fischers (N) Fritz (N) fischt (V) die (ART) frischen (ADJ) Fische (N) aus (PREP) dem (ART) Fluss (N)\n",
    "\n",
    "Er (NP) fischt (V) die (ART) frischen (ADJ) Fische (N) aus (PREP) ihm (NP)\n",
    "\n",
    "Er (NP) fischt (V) sie (NP) aus (PREP) ihm (NP)\n",
    "\n",
    "Er (NP) fischt (V) sie (NP) dort(PP)\n",
    "\n",
    "Er (NP) fischt (VP) dort(PP)\n",
    "\n",
    "Er (NP) fischt (VP)"
   ]
  },
  {
   "cell_type": "markdown",
   "metadata": {},
   "source": [
    "---\n",
    "### Aufgabe 9 c:\n",
    "\n",
    "#### Welche Einschränkung gibt es bei der Koordinierung von Phrasen?"
   ]
  },
  {
   "cell_type": "code",
   "execution_count": 23,
   "metadata": {},
   "outputs": [
    {
     "data": {
      "application/vnd.jupyter.widget-view+json": {
       "model_id": "ddecd98515ed42679083d82deda1a505",
       "version_major": 2,
       "version_minor": 0
      },
      "text/plain": [
       "Lueckentext(children=(HTML(value='<i>Vervollständigen Sie den Lückentext: </i>', layout=Layout(justify_content…"
      ]
     },
     "metadata": {},
     "output_type": "display_data"
    }
   ],
   "source": [
    "aufgabe(blatt3_9c)"
   ]
  }
 ],
 "metadata": {
  "kernelspec": {
   "display_name": "Python 3",
   "language": "python",
   "name": "python3"
  },
  "language_info": {
   "codemirror_mode": {
    "name": "ipython",
    "version": 3
   },
   "file_extension": ".py",
   "mimetype": "text/x-python",
   "name": "python",
   "nbconvert_exporter": "python",
   "pygments_lexer": "ipython3",
   "version": "3.7.4"
  },
  "widgets": {
   "application/vnd.jupyter.widget-state+json": {
    "state": {
     "001549802c97480087dabe248994b6ba": {
      "model_module": "@jupyter-widgets/controls",
      "model_module_version": "1.5.0",
      "model_name": "DescriptionStyleModel",
      "state": {
       "description_width": ""
      }
     },
     "001edfb47a24406c8dd8d3c4c50c0cc2": {
      "model_module": "@jupyter-widgets/base",
      "model_module_version": "1.2.0",
      "model_name": "LayoutModel",
      "state": {
       "justify_content": "center"
      }
     },
     "002dd41823c645dda1af2f9a02f4b21f": {
      "model_module": "@jupyter-widgets/controls",
      "model_module_version": "1.5.0",
      "model_name": "HTMLModel",
      "state": {
       "layout": "IPY_MODEL_13e074339439461ebd3a95211ea0f81c",
       "style": "IPY_MODEL_f7fb545fd6bb4bcd87a65c5518023688",
       "value": "<h4 style=\"font-size:14px;\">Was sind syntaktische Kriterien für Wortkategorien?</h4>"
      }
     },
     "00472c134e6b402f81256e030397be2d": {
      "model_module": "@jupyter-widgets/controls",
      "model_module_version": "1.5.0",
      "model_name": "CheckboxModel",
      "state": {
       "description": "Flexionstyp",
       "disabled": false,
       "layout": "IPY_MODEL_cb9a3f7b258042d6a14588919bfed5be",
       "style": "IPY_MODEL_e002a45afc5c4d3d847db42316339596",
       "value": false
      }
     },
     "008b0160b7074df4b514e2f006223707": {
      "model_module": "@jupyter-widgets/controls",
      "model_module_version": "1.5.0",
      "model_name": "DescriptionStyleModel",
      "state": {
       "description_width": ""
      }
     },
     "00acead40bbf4abf8fb84bd1f42cb626": {
      "model_module": "@jupyter-widgets/controls",
      "model_module_version": "1.5.0",
      "model_name": "DropdownModel",
      "state": {
       "_options_labels": [
        "Bigramm",
        "Trigramm",
        "Unigramm",
        " "
       ],
       "index": 3,
       "layout": "IPY_MODEL_a7e8f98a306f453ca0390ae913c1fa65",
       "style": "IPY_MODEL_20f59e57168047c4ae02b3f330b1ee03"
      }
     },
     "00c2175e03de473997567ea9e008b504": {
      "model_module": "@jupyter-widgets/base",
      "model_module_version": "1.2.0",
      "model_name": "LayoutModel",
      "state": {
       "width": "250px"
      }
     },
     "00c53e00aefc4996b8826153f364bd6e": {
      "model_module": "@jupyter-widgets/controls",
      "model_module_version": "1.5.0",
      "model_name": "DescriptionStyleModel",
      "state": {
       "description_width": ""
      }
     },
     "00eb1f875a7444f88ef4db5034ca077a": {
      "model_module": "@jupyter-widgets/controls",
      "model_module_version": "1.5.0",
      "model_name": "DropdownModel",
      "state": {
       "_options_labels": [
        " ",
        "NP",
        "PP",
        "VP",
        " "
       ],
       "index": 3,
       "layout": "IPY_MODEL_27eb55821c5e4415aa31d509e02b645f",
       "style": "IPY_MODEL_cde4ec3ccecc4f258e8fce469ed161b3"
      }
     },
     "01059231982d441cb25a7d3bf9c6cbf0": {
      "model_module": "@jupyter-widgets/controls",
      "model_module_version": "1.5.0",
      "model_name": "DescriptionStyleModel",
      "state": {
       "description_width": ""
      }
     },
     "01dfab70669f4ac78c305d9a6b2f3c29": {
      "model_module": "@jupyter-widgets/base",
      "model_module_version": "1.2.0",
      "model_name": "LayoutModel",
      "state": {
       "width": "150px"
      }
     },
     "01e67a4e75cc47edab367655e36e1629": {
      "model_module": "@jupyter-widgets/controls",
      "model_module_version": "1.5.0",
      "model_name": "ButtonStyleModel",
      "state": {}
     },
     "01f8d56a6bc449be89a12becb505a25c": {
      "model_module": "@jupyter-widgets/controls",
      "model_module_version": "1.5.0",
      "model_name": "HTMLModel",
      "state": {
       "layout": "IPY_MODEL_f49046b8dbf84d8a9c15209b848a4f5b",
       "style": "IPY_MODEL_e25f23287e1d4c808e61a50d93e02ba1",
       "value": "<i>Wählen Sie die <ins>eine</ins> korrekte Antwort aus: </i>"
      }
     },
     "021e657f9e754da993fbecf95c7290c9": {
      "model_module": "@jupyter-widgets/base",
      "model_module_version": "1.2.0",
      "model_name": "LayoutModel",
      "state": {}
     },
     "022a379fc4ef4cffb85b4e8f544954df": {
      "model_module": "@jupyter-widgets/controls",
      "model_module_version": "1.5.0",
      "model_name": "HTMLModel",
      "state": {
       "layout": "IPY_MODEL_b941bcfbcd204bed92f8ccd72664788d",
       "style": "IPY_MODEL_853963101fdd488699b4604969820a50",
       "value": "<h4 style=\"font-size:14px;\">Was bedeutet das Tag <i>VBG</i> im Browntagset (siehe 5.7)?</h4>"
      }
     },
     "02400887e20647dab987794fadc2b62a": {
      "model_module": "@jupyter-widgets/base",
      "model_module_version": "1.2.0",
      "model_name": "LayoutModel",
      "state": {}
     },
     "02418227a6ab4199b03492b9f5dd1c7a": {
      "model_module": "@jupyter-widgets/controls",
      "model_module_version": "1.5.0",
      "model_name": "DescriptionStyleModel",
      "state": {
       "description_width": ""
      }
     },
     "024c91d6f53a47f79378cd2fd49ba45d": {
      "model_module": "@jupyter-widgets/controls",
      "model_module_version": "1.5.0",
      "model_name": "VBoxModel",
      "state": {
       "children": [
        "IPY_MODEL_e5b95e2dd7704ad9843522947138e5fe",
        "IPY_MODEL_9be9f2bc181c4aa49523a52d464cd9dd",
        "IPY_MODEL_1b8bc0602b0a458aa4676151485358a2",
        "IPY_MODEL_26c7c69286474176ae8b415f41873e38"
       ],
       "layout": "IPY_MODEL_91e51d8c699043f2a9a16421a7f25567"
      }
     },
     "025d2deab79d42f1b243eb4737f7b0f5": {
      "model_module": "@jupyter-widgets/base",
      "model_module_version": "1.2.0",
      "model_name": "LayoutModel",
      "state": {}
     },
     "027fd96efeae4a79b795d67c894e2405": {
      "model_module": "@jupyter-widgets/base",
      "model_module_version": "1.2.0",
      "model_name": "LayoutModel",
      "state": {}
     },
     "0286b08d197346e396912470963d17fa": {
      "model_module": "@jupyter-widgets/controls",
      "model_module_version": "1.5.0",
      "model_name": "ButtonModel",
      "state": {
       "description": "simple past",
       "layout": "IPY_MODEL_6bc3ae91267340e7be83df178b46da5b",
       "style": "IPY_MODEL_f87940cab84d484190b5d94e5b2b4aad"
      }
     },
     "0306865b05504f4698f89da0b39e474d": {
      "model_module": "@jupyter-widgets/controls",
      "model_module_version": "1.5.0",
      "model_name": "CheckboxModel",
      "state": {
       "description": "Es ist flektierbar.",
       "disabled": false,
       "layout": "IPY_MODEL_e974faff44954b89b7176bb89d80770c",
       "style": "IPY_MODEL_512324c6870d4ac88e9b90c58e507402",
       "value": true
      }
     },
     "031b6e6ee21f4013a5bd6a035e3f2d23": {
      "model_module": "@jupyter-widgets/controls",
      "model_module_version": "1.5.0",
      "model_name": "ButtonModel",
      "state": {
       "description": "gerund",
       "layout": "IPY_MODEL_48c75e6de8894e0790948507706a1152",
       "style": "IPY_MODEL_5a28df807adf41f0bca425b6372b1318"
      }
     },
     "037c3be53a804e12a0ca64de8e03f000": {
      "model_module": "@jupyter-widgets/base",
      "model_module_version": "1.2.0",
      "model_name": "LayoutModel",
      "state": {
       "justify_content": "center"
      }
     },
     "038384a4cc1a4221ad28a9e840d546d6": {
      "model_module": "@jupyter-widgets/base",
      "model_module_version": "1.2.0",
      "model_name": "LayoutModel",
      "state": {
       "justify_content": "center"
      }
     },
     "039352017c0147c4b47dabb23dfdcbc6": {
      "model_module": "@jupyter-widgets/controls",
      "model_module_version": "1.5.0",
      "model_name": "HTMLModel",
      "state": {
       "layout": "IPY_MODEL_0c45409554d540388efddc0ca2633eef",
       "style": "IPY_MODEL_49f8870e27744c1092f11fe575372007",
       "value": "<i>Wählen Sie die <ins>eine</ins> korrekte Antwort aus: </i>"
      }
     },
     "03a34ff8eafc49eeb98ee086bb175e3c": {
      "model_module": "@jupyter-widgets/controls",
      "model_module_version": "1.5.0",
      "model_name": "HTMLModel",
      "state": {
       "layout": "IPY_MODEL_761c11aeb347486f9c84b275c9d9d066",
       "style": "IPY_MODEL_541ed9aceb2e47bbae70776a3645960c",
       "value": "<i>Vervollständigen Sie den Lückentext: </i>"
      }
     },
     "03b6a79ce49d4e43b2d74a5cadd9c2e0": {
      "model_module": "@jupyter-widgets/base",
      "model_module_version": "1.2.0",
      "model_name": "LayoutModel",
      "state": {}
     },
     "03baa96b2ad04a619faa2ea3e38bf9ab": {
      "model_module": "@jupyter-widgets/controls",
      "model_module_version": "1.5.0",
      "model_name": "ButtonModel",
      "state": {
       "description": "Korrekt?",
       "layout": "IPY_MODEL_771a9ad2af4c43df8ae49242dbd5a3c4",
       "style": "IPY_MODEL_74a3b779456a4fcf90c5dce5528b5216"
      }
     },
     "03deabd576c2416593ae7344fc1226c7": {
      "model_module": "@jupyter-widgets/controls",
      "model_module_version": "1.5.0",
      "model_name": "CheckboxModel",
      "state": {
       "description": "Mit einem Schritt beginnt eine Reise von tausend Meilen auch nur.",
       "disabled": false,
       "layout": "IPY_MODEL_658de94cd22242a392ddf5de5d1ec2e8",
       "style": "IPY_MODEL_35d26be7bbe94d2da0bf09a35181febe",
       "value": false
      }
     },
     "03e74fd64fff49938d4951e792f6aafa": {
      "model_module": "@jupyter-widgets/controls",
      "model_module_version": "1.5.0",
      "model_name": "HTMLModel",
      "state": {
       "layout": "IPY_MODEL_78f43745fad04b2e9073903dc7f91317",
       "style": "IPY_MODEL_e51abe0a678d499e8229a8417f0ab651",
       "value": "<i>Geben Sie die entsprechende Funktion anstelle des Unterstrichs ein.</i>"
      }
     },
     "04378a42837a47a8a3936d253b14fee0": {
      "model_module": "@jupyter-widgets/controls",
      "model_module_version": "1.5.0",
      "model_name": "DescriptionStyleModel",
      "state": {
       "description_width": ""
      }
     },
     "0444196ce18549e0a156cb092ff3483c": {
      "model_module": "@jupyter-widgets/base",
      "model_module_version": "1.2.0",
      "model_name": "LayoutModel",
      "state": {
       "justify_content": "center"
      }
     },
     "04f185eedfdd4221bc0ae1218d0de13d": {
      "model_module": "@jupyter-widgets/controls",
      "model_module_version": "1.5.0",
      "model_name": "HTMLModel",
      "state": {
       "layout": "IPY_MODEL_e9aa6abce77d4fa6853320e2deb95bd9",
       "style": "IPY_MODEL_7e4fccdf031c4490b4243396540b20e2",
       "value": "<h4 style=\"font-size:14px;\">. Aus dieser wurde es extrahiert und ins</h4>"
      }
     },
     "052d35dfa45943eda988e555798111db": {
      "model_module": "@jupyter-widgets/base",
      "model_module_version": "1.2.0",
      "model_name": "LayoutModel",
      "state": {
       "width": "250px"
      }
     },
     "05a91142b5494ac6816a1f073565e640": {
      "model_module": "@jupyter-widgets/controls",
      "model_module_version": "1.5.0",
      "model_name": "DescriptionStyleModel",
      "state": {
       "description_width": ""
      }
     },
     "05e75b14da8240c8bea0d37fa2a6ec16": {
      "model_module": "@jupyter-widgets/controls",
      "model_module_version": "1.5.0",
      "model_name": "ButtonStyleModel",
      "state": {}
     },
     "05f49d3b78334af18e5682a804b57d7d": {
      "model_module": "@jupyter-widgets/base",
      "model_module_version": "1.2.0",
      "model_name": "LayoutModel",
      "state": {
       "width": "250px"
      }
     },
     "061328849d434f82b2ed71938b74d9ba": {
      "model_module": "@jupyter-widgets/base",
      "model_module_version": "1.2.0",
      "model_name": "LayoutModel",
      "state": {
       "width": "250px"
      }
     },
     "0652b65731f247eeb204016afb703956": {
      "model_module": "@jupyter-widgets/base",
      "model_module_version": "1.2.0",
      "model_name": "LayoutModel",
      "state": {
       "justify_content": "center"
      }
     },
     "06731b48d5764b7cb27e9d334fd21298": {
      "model_module": "@jupyter-widgets/controls",
      "model_module_version": "1.5.0",
      "model_name": "VBoxModel",
      "state": {
       "children": [
        "IPY_MODEL_1a042d6a63b84814a9cf475aa61337a7",
        "IPY_MODEL_5207f91b89284edcbcb38994a80e3c08",
        "IPY_MODEL_dec4e8b0046c4e8f8b67f70f2cfd6f21"
       ],
       "layout": "IPY_MODEL_1660ab7dec7d4484b82aec64c0ff4fb8"
      }
     },
     "069ea67351534984b73e4e7685ef74b1": {
      "model_module": "@jupyter-widgets/controls",
      "model_module_version": "1.5.0",
      "model_name": "DescriptionStyleModel",
      "state": {
       "description_width": ""
      }
     },
     "06b494de877942f59a63afb0b43b1c54": {
      "model_module": "@jupyter-widgets/base",
      "model_module_version": "1.2.0",
      "model_name": "LayoutModel",
      "state": {
       "align_content": "stretch",
       "align_items": "stretch",
       "display": "inline-flex",
       "flex": "flex-grow",
       "flex_flow": "row wrap",
       "justify_content": "flex-start"
      }
     },
     "06be459110664d8f9173893d3fde45e2": {
      "model_module": "@jupyter-widgets/base",
      "model_module_version": "1.2.0",
      "model_name": "LayoutModel",
      "state": {}
     },
     "071495267a174deb8dfd8f2b2a773e61": {
      "model_module": "@jupyter-widgets/controls",
      "model_module_version": "1.5.0",
      "model_name": "HTMLModel",
      "state": {
       "layout": "IPY_MODEL_615397e72e40409793aceb35941e2d12",
       "style": "IPY_MODEL_f11f6bfbabf4426b81c7210a85923340",
       "value": "<h4 style=\"font-size:14px;\">gestellt. Die gesamte</h4>"
      }
     },
     "0714cd39feaa4d11b0234fbb29188486": {
      "model_module": "@jupyter-widgets/controls",
      "model_module_version": "1.5.0",
      "model_name": "HTMLModel",
      "state": {
       "layout": "IPY_MODEL_18bbf074f488458e990b666e72820cf7",
       "style": "IPY_MODEL_00c53e00aefc4996b8826153f364bd6e",
       "value": "<h4 style=\"font-size:14px;\">Welche Eigenschaften hat <i>gut</i> in Satz 2?</h4>"
      }
     },
     "073519c4fc5a40c2aa71175dc82db778": {
      "model_module": "@jupyter-widgets/base",
      "model_module_version": "1.2.0",
      "model_name": "LayoutModel",
      "state": {}
     },
     "077328a3a7c343b2986f49485e79f6ea": {
      "model_module": "@jupyter-widgets/controls",
      "model_module_version": "1.5.0",
      "model_name": "ButtonStyleModel",
      "state": {
       "button_color": "lightgreen"
      }
     },
     "077a1b4fc7774edc8a98fe6e492a9807": {
      "model_module": "@jupyter-widgets/base",
      "model_module_version": "1.2.0",
      "model_name": "LayoutModel",
      "state": {
       "width": "250px"
      }
     },
     "07896fa1a819443e96683bc10cd7c05a": {
      "model_module": "@jupyter-widgets/base",
      "model_module_version": "1.2.0",
      "model_name": "LayoutModel",
      "state": {
       "width": "600px"
      }
     },
     "07d402102be146fba2a8ff632845f7db": {
      "model_module": "@jupyter-widgets/controls",
      "model_module_version": "1.5.0",
      "model_name": "ButtonStyleModel",
      "state": {}
     },
     "07de07b1c51d459d83c8c0c5f5998302": {
      "model_module": "@jupyter-widgets/base",
      "model_module_version": "1.2.0",
      "model_name": "LayoutModel",
      "state": {}
     },
     "07e059e4b8614ad8be6fd347e741b419": {
      "model_module": "@jupyter-widgets/controls",
      "model_module_version": "1.5.0",
      "model_name": "HBoxModel",
      "state": {
       "children": [
        "IPY_MODEL_6909fd0fe1cb49a0987d9a97fd4bcb5e",
        "IPY_MODEL_da66d4fd84d54b479350cd6789e08034"
       ],
       "layout": "IPY_MODEL_30a8f56c43a64a2b8f898d502051707f"
      }
     },
     "080172e20baf44448f4680ae9f612be5": {
      "model_module": "@jupyter-widgets/base",
      "model_module_version": "1.2.0",
      "model_name": "LayoutModel",
      "state": {
       "width": "250px"
      }
     },
     "080dae6c928444b0b8e5c4e02b974234": {
      "model_module": "@jupyter-widgets/controls",
      "model_module_version": "1.5.0",
      "model_name": "DescriptionStyleModel",
      "state": {
       "description_width": ""
      }
     },
     "0839f6d81a4e491d8280606d0e46ea69": {
      "model_module": "@jupyter-widgets/controls",
      "model_module_version": "1.5.0",
      "model_name": "ButtonStyleModel",
      "state": {}
     },
     "0840638c9e5a4a5b9e7a26eee0871c7c": {
      "model_module": "@jupyter-widgets/base",
      "model_module_version": "1.2.0",
      "model_name": "LayoutModel",
      "state": {}
     },
     "0886025689d54e569ebe748821ef07ec": {
      "model_module": "@jupyter-widgets/base",
      "model_module_version": "1.2.0",
      "model_name": "LayoutModel",
      "state": {
       "width": "250px"
      }
     },
     "08a12394788b486e86bddee4610a01ff": {
      "model_module": "@jupyter-widgets/base",
      "model_module_version": "1.2.0",
      "model_name": "LayoutModel",
      "state": {
       "width": "250px"
      }
     },
     "08f08fdced1342488899c2e5923488e1": {
      "model_module": "@jupyter-widgets/controls",
      "model_module_version": "1.5.0",
      "model_name": "HBoxModel",
      "state": {
       "children": [
        "IPY_MODEL_bc4fb2236c7546339f6bb32d3cf9ec17"
       ],
       "layout": "IPY_MODEL_5f6a21004d8f4c77ac873f30626e7513"
      }
     },
     "092d34d9bd1a4519b63f2618cb63680b": {
      "model_module": "@jupyter-widgets/controls",
      "model_module_version": "1.5.0",
      "model_name": "DropdownModel",
      "state": {
       "_options_labels": [
        "Bigramm",
        "Trigramm",
        "Unigramm",
        " "
       ],
       "index": 0,
       "layout": "IPY_MODEL_c54c05fba5564549afa90dd2c9ac2c68",
       "style": "IPY_MODEL_915963737cd14c66ac8c2a8c8057bfb8"
      }
     },
     "094988da43014440b7366c277886175a": {
      "model_module": "@jupyter-widgets/controls",
      "model_module_version": "1.5.0",
      "model_name": "ButtonModel",
      "state": {
       "description": "Adjektiv",
       "layout": "IPY_MODEL_83b02aaeb4e34188bff828273c9dd2d8",
       "style": "IPY_MODEL_310476f621404283bde278440e8574ae"
      }
     },
     "096a09a7a4c647659ef2415c7f8aa27b": {
      "model_module": "@jupyter-widgets/controls",
      "model_module_version": "1.5.0",
      "model_name": "HTMLModel",
      "state": {
       "layout": "IPY_MODEL_f5dd3a59ab87412ba9a29196594996e4",
       "style": "IPY_MODEL_afdaebe3e3a94b7d8207c6ba553a7fd5",
       "value": "<h4 style=\"font-size:14px;\">Was bedeutet das Tag <i>VB</i> im Browntagset (siehe 5.7)?</h4>"
      }
     },
     "0984857410df4bb0ab6b542722bcdef2": {
      "model_module": "@jupyter-widgets/base",
      "model_module_version": "1.2.0",
      "model_name": "LayoutModel",
      "state": {
       "width": "600px"
      }
     },
     "09ba4f47a10a480fa8eab7bee2d47d4a": {
      "model_module": "@jupyter-widgets/base",
      "model_module_version": "1.2.0",
      "model_name": "LayoutModel",
      "state": {}
     },
     "09c4d03361ac4776888474981171ccec": {
      "model_module": "@jupyter-widgets/base",
      "model_module_version": "1.2.0",
      "model_name": "LayoutModel",
      "state": {}
     },
     "09c7d91845994e8f870b30eb215444b2": {
      "model_module": "@jupyter-widgets/base",
      "model_module_version": "1.2.0",
      "model_name": "LayoutModel",
      "state": {
       "justify_content": "center"
      }
     },
     "09d94d33fce1476f850ba9ada5611185": {
      "model_module": "@jupyter-widgets/controls",
      "model_module_version": "1.5.0",
      "model_name": "HTMLModel",
      "state": {
       "layout": "IPY_MODEL_170f3661597348868af5d84984bbcb57",
       "style": "IPY_MODEL_8fd22c3c0db64c65a422efcbed7c1c30",
       "value": "<h4 style=\"font-size:14px;\">Welche Eigenschaften hat <i>gerne</i> in Satz 1?</h4>"
      }
     },
     "0a01b58be1d24480b3c29f37b676d560": {
      "model_module": "@jupyter-widgets/controls",
      "model_module_version": "1.5.0",
      "model_name": "ButtonStyleModel",
      "state": {
       "button_color": "lightgreen"
      }
     },
     "0a07d2393fe74bde831a678228481ab4": {
      "model_module": "@jupyter-widgets/base",
      "model_module_version": "1.2.0",
      "model_name": "LayoutModel",
      "state": {
       "justify_content": "center"
      }
     },
     "0a15c6f8585544a38e1fe02d705622c8": {
      "model_module": "@jupyter-widgets/controls",
      "model_module_version": "1.5.0",
      "model_name": "DescriptionStyleModel",
      "state": {
       "description_width": ""
      }
     },
     "0a46a6967b5d4d6a8a40a5dc35c5005f": {
      "model_module": "@jupyter-widgets/controls",
      "model_module_version": "1.5.0",
      "model_name": "DescriptionStyleModel",
      "state": {
       "description_width": ""
      }
     },
     "0a5955a5215d4f41970351bb23831687": {
      "model_module": "@jupyter-widgets/controls",
      "model_module_version": "1.5.0",
      "model_name": "HTMLModel",
      "state": {
       "layout": "IPY_MODEL_e52df1b06e3e41528f88dd1865654d46",
       "style": "IPY_MODEL_e7dc19a885a047d3843c490c6895c598",
       "value": "<h4 style=\"font-size:14px;\">Was sind morphologische Kriterien für Wortkategorien?</h4>"
      }
     },
     "0a9318e005864366b475964d4267bb0d": {
      "model_module": "@jupyter-widgets/controls",
      "model_module_version": "1.5.0",
      "model_name": "ButtonModel",
      "state": {
       "description": "Keine der anderen Möglichkeiten",
       "layout": "IPY_MODEL_bd81855b64a242448f36d5d9b5ebaa2f",
       "style": "IPY_MODEL_71a985fedd7d405f8758721f84c5634a"
      }
     },
     "0aae4e2e597a4865bf3cccfa84ba4c42": {
      "model_module": "@jupyter-widgets/controls",
      "model_module_version": "1.5.0",
      "model_name": "DropdownModel",
      "state": {
       "_options_labels": [
        "Konstituente",
        "Phrase",
        " "
       ],
       "index": 1,
       "layout": "IPY_MODEL_d7ebe20a036448c68c2ee1ce04958d9d",
       "style": "IPY_MODEL_5674e8d7176c4538a5501c19daa94231"
      }
     },
     "0ae0888c04e549189a4ed3e64b21acba": {
      "model_module": "@jupyter-widgets/controls",
      "model_module_version": "1.5.0",
      "model_name": "HTMLModel",
      "state": {
       "layout": "IPY_MODEL_5a3ffa924be64e9ca1f5295c9e408b8c",
       "style": "IPY_MODEL_4ca6b0373bc444208cef0b2ce3199ae4",
       "value": "<h4 style=\"font-size:14px;\">Welche Wortart könnte man für das Wort <i>gut</i> in Satz 2 vermuten, wenn man Adverbien nicht morphologisch, sondern semantisch charakterisiert (als Wortart, die der Modifizierung des Verbalgeschehens dient)?</h4>"
      }
     },
     "0aec960785be45929d015958ab20c11e": {
      "model_module": "@jupyter-widgets/controls",
      "model_module_version": "1.5.0",
      "model_name": "VBoxModel",
      "state": {
       "children": [
        "IPY_MODEL_f3e7f1fb7e834803af69e3e4e0d7f7b1",
        "IPY_MODEL_f57ad81b94c040e9b43ecc44705146ea",
        "IPY_MODEL_ef67be70cabc412e9dc1f3f5bcdfa619",
        "IPY_MODEL_954dece832b84f328e7a4f150ec91e59"
       ],
       "layout": "IPY_MODEL_b609048822d74bdda8444d4bdc2c1417"
      }
     },
     "0af7f2a44e5e4aafa73d44eae35298a0": {
      "model_module": "@jupyter-widgets/controls",
      "model_module_version": "1.5.0",
      "model_name": "ButtonModel",
      "state": {
       "description": "Partikel",
       "layout": "IPY_MODEL_9162b106cadd403f89b44028b7442355",
       "style": "IPY_MODEL_46fb4f5414e64daabc00044d7cb59327"
      }
     },
     "0b075a74ca4346039be2dddc80c7cd40": {
      "model_module": "@jupyter-widgets/controls",
      "model_module_version": "1.5.0",
      "model_name": "VBoxModel",
      "state": {
       "children": [
        "IPY_MODEL_84ba920402134380b23a6b74487f73e2",
        "IPY_MODEL_ed7aedfa5c0f447da8402e6a0ba40621",
        "IPY_MODEL_1b39c9d944d8425594b3cdbc01acbc20"
       ],
       "layout": "IPY_MODEL_1b78746cac1d4781aae73b0ce07c974c"
      }
     },
     "0b3a1c4358e24f099b075072fb933ca3": {
      "model_module": "@jupyter-widgets/base",
      "model_module_version": "1.2.0",
      "model_name": "LayoutModel",
      "state": {
       "width": "150px"
      }
     },
     "0b3e8a49ffdc4462802a48fdc8803ee9": {
      "model_module": "@jupyter-widgets/base",
      "model_module_version": "1.2.0",
      "model_name": "LayoutModel",
      "state": {
       "width": "250px"
      }
     },
     "0b4d59bc8fe84865b9a76b3ab8b8ae04": {
      "model_module": "@jupyter-widgets/controls",
      "model_module_version": "1.5.0",
      "model_name": "HBoxModel",
      "state": {
       "children": [
        "IPY_MODEL_6954995921f04c12a6f273a381bfa0bd",
        "IPY_MODEL_161f3ce9919e461195a07b4851554232"
       ],
       "layout": "IPY_MODEL_b6c9f87f5b7046269c96b0e9c5bf9310"
      }
     },
     "0b572650157947c9961b10ebbdbd07e7": {
      "model_module": "@jupyter-widgets/controls",
      "model_module_version": "1.5.0",
      "model_name": "ButtonStyleModel",
      "state": {}
     },
     "0b6525ffca6e465b8ce7475a5efa5721": {
      "model_module": "@jupyter-widgets/controls",
      "model_module_version": "1.5.0",
      "model_name": "ButtonStyleModel",
      "state": {
       "button_color": "lightgreen"
      }
     },
     "0bb1ff9d16a440e0ba63687285fc72b9": {
      "model_module": "@jupyter-widgets/controls",
      "model_module_version": "1.5.0",
      "model_name": "DescriptionStyleModel",
      "state": {
       "description_width": ""
      }
     },
     "0bc6c01513b34c869aee10e8a3434c52": {
      "model_module": "@jupyter-widgets/controls",
      "model_module_version": "1.5.0",
      "model_name": "ButtonStyleModel",
      "state": {}
     },
     "0bd47795af254f81b205687d14f0afb2": {
      "model_module": "@jupyter-widgets/controls",
      "model_module_version": "1.5.0",
      "model_name": "ButtonStyleModel",
      "state": {
       "button_color": "lightgreen"
      }
     },
     "0c12ef12ec39413aad62a0451a75f4ae": {
      "model_module": "@jupyter-widgets/base",
      "model_module_version": "1.2.0",
      "model_name": "LayoutModel",
      "state": {
       "width": "600px"
      }
     },
     "0c155ab4fc7840b4b547366ffb2d2a0c": {
      "model_module": "@jupyter-widgets/base",
      "model_module_version": "1.2.0",
      "model_name": "LayoutModel",
      "state": {}
     },
     "0c192d16e64347d3b857ba7fa81ed391": {
      "model_module": "@jupyter-widgets/controls",
      "model_module_version": "1.5.0",
      "model_name": "HTMLModel",
      "state": {
       "layout": "IPY_MODEL_cef95b65bba549edaaa9820c4ae7b208",
       "style": "IPY_MODEL_7966255a9e2547129aeb8f865ae8f1d8",
       "value": "<h4 style=\"font-size:14px;\">-Tupel von</h4>"
      }
     },
     "0c1db0b22d444959b33a0e3a3d7f9a29": {
      "model_module": "@jupyter-widgets/controls",
      "model_module_version": "1.5.0",
      "model_name": "DescriptionStyleModel",
      "state": {
       "description_width": ""
      }
     },
     "0c2f1ed1823748609f5e80a4f06dbfbc": {
      "model_module": "@jupyter-widgets/controls",
      "model_module_version": "1.5.0",
      "model_name": "ButtonModel",
      "state": {
       "description": "Keine der anderen Möglichkeiten",
       "layout": "IPY_MODEL_d2d907cca6124daa867ab9a6f8a26d96",
       "style": "IPY_MODEL_77167c9935234c219132fd3c0c326bd5"
      }
     },
     "0c32cdd60e6244429718a3b71eface42": {
      "model_module": "@jupyter-widgets/base",
      "model_module_version": "1.2.0",
      "model_name": "LayoutModel",
      "state": {
       "justify_content": "center"
      }
     },
     "0c45409554d540388efddc0ca2633eef": {
      "model_module": "@jupyter-widgets/base",
      "model_module_version": "1.2.0",
      "model_name": "LayoutModel",
      "state": {
       "justify_content": "center"
      }
     },
     "0c62c1b4ffe447c99c0de09fa89add04": {
      "model_module": "@jupyter-widgets/controls",
      "model_module_version": "1.5.0",
      "model_name": "ButtonStyleModel",
      "state": {}
     },
     "0c87e4237edc42059520f808b5b737fe": {
      "model_module": "@jupyter-widgets/controls",
      "model_module_version": "1.5.0",
      "model_name": "CheckboxModel",
      "state": {
       "description": "Zu einem Wort werden seine Kookkurrenzpartner gefunden.",
       "disabled": false,
       "layout": "IPY_MODEL_b7bec0d48a864d77a4233bff9cec5020",
       "style": "IPY_MODEL_c66c9e8482a9431ab935cf72a6c3ec3f",
       "value": false
      }
     },
     "0cbe9fb33026426396889a83440252cb": {
      "model_module": "@jupyter-widgets/controls",
      "model_module_version": "1.5.0",
      "model_name": "ButtonModel",
      "state": {
       "description": "Korrekt?",
       "layout": "IPY_MODEL_ccf5b7b3b7ca4dbc97f2f9e2497e10f3",
       "style": "IPY_MODEL_ec59e0a4ef2144fe9e0638dd45cdfb88"
      }
     },
     "0cc595f309964d71bb76d5de206581b6": {
      "model_module": "@jupyter-widgets/base",
      "model_module_version": "1.2.0",
      "model_name": "LayoutModel",
      "state": {
       "align_content": "stretch",
       "align_items": "stretch",
       "display": "inline-flex",
       "flex": "flex-grow",
       "flex_flow": "row wrap",
       "justify_content": "flex-start"
      }
     },
     "0ce209b8da95482d86f028ef1cb35bf2": {
      "model_module": "@jupyter-widgets/controls",
      "model_module_version": "1.5.0",
      "model_name": "DescriptionStyleModel",
      "state": {
       "description_width": ""
      }
     },
     "0ce4a724c33a4dbd8870f1b1ca7262cc": {
      "model_module": "@jupyter-widgets/base",
      "model_module_version": "1.2.0",
      "model_name": "LayoutModel",
      "state": {}
     },
     "0d1d68fb3d2542cd817771e55e92ace2": {
      "model_module": "@jupyter-widgets/base",
      "model_module_version": "1.2.0",
      "model_name": "LayoutModel",
      "state": {
       "width": "250px"
      }
     },
     "0d7cb665a6a84682b9116f4b5f4c901f": {
      "model_module": "@jupyter-widgets/controls",
      "model_module_version": "1.5.0",
      "model_name": "DescriptionStyleModel",
      "state": {
       "description_width": ""
      }
     },
     "0da22cb5c84b49f6b08bba937fb3ca90": {
      "model_module": "@jupyter-widgets/controls",
      "model_module_version": "1.5.0",
      "model_name": "DescriptionStyleModel",
      "state": {
       "description_width": ""
      }
     },
     "0dbc5494e151418e8f12ca7b240ee0c8": {
      "model_module": "@jupyter-widgets/controls",
      "model_module_version": "1.5.0",
      "model_name": "DescriptionStyleModel",
      "state": {
       "description_width": ""
      }
     },
     "0dd1527e1a214b80bc1bf8031218ef9e": {
      "model_module": "@jupyter-widgets/base",
      "model_module_version": "1.2.0",
      "model_name": "LayoutModel",
      "state": {}
     },
     "0ddc2192563e43619cccccce6d1618e1": {
      "model_module": "@jupyter-widgets/controls",
      "model_module_version": "1.5.0",
      "model_name": "HTMLModel",
      "state": {
       "layout": "IPY_MODEL_af5eca17ce954e52912d34515d1fc1c4",
       "style": "IPY_MODEL_61388638b69e4e039d040d84672bc9b3",
       "value": "<h4 style=\"font-size:14px;\">trägt. Das Ergebnis sind die häufigsten zweistelligen syntaktischen Muster des Englischen mit NOUN als rechtem Kontext, nämlich NOUN+NOUN, DET+NOUN und ADJ+NOUN; diese Ergebnisse geben Hinweis auf die NP-</h4>"
      }
     },
     "0de42f58c345418f82f7ae9265b17dd2": {
      "model_module": "@jupyter-widgets/base",
      "model_module_version": "1.2.0",
      "model_name": "LayoutModel",
      "state": {
       "width": "250px"
      }
     },
     "0df2e983503e476bbda1d5f48b5d3f55": {
      "model_module": "@jupyter-widgets/base",
      "model_module_version": "1.2.0",
      "model_name": "LayoutModel",
      "state": {
       "width": "600px"
      }
     },
     "0e2d94f111fd4c90a8876b9060cbc278": {
      "model_module": "@jupyter-widgets/controls",
      "model_module_version": "1.5.0",
      "model_name": "ButtonStyleModel",
      "state": {}
     },
     "0e30c456985147dcbe845ea78f8e7346": {
      "model_module": "@jupyter-widgets/controls",
      "model_module_version": "1.5.0",
      "model_name": "ButtonModel",
      "state": {
       "description": "3rd singular present",
       "layout": "IPY_MODEL_6ee2b0b35e394c10849e751ac2cd9d6c",
       "style": "IPY_MODEL_a69406a2496247c2bb144cd39b0cb478"
      }
     },
     "0e4d7d19518244538b25efb5b1bef751": {
      "model_module": "@jupyter-widgets/controls",
      "model_module_version": "1.5.0",
      "model_name": "CheckboxModel",
      "state": {
       "description": "gleicher Kontext",
       "disabled": false,
       "layout": "IPY_MODEL_6987c908e32b42d5a6b2139f00aa9e83",
       "style": "IPY_MODEL_f4f59837b5e843e79988188be6070c67",
       "value": true
      }
     },
     "0e607dcaaa5b4a369fa7f9e0b3c3012d": {
      "model_module": "@jupyter-widgets/controls",
      "model_module_version": "1.5.0",
      "model_name": "DescriptionStyleModel",
      "state": {
       "description_width": ""
      }
     },
     "0e6605362fc540ac8d8cc6cdfda28bf9": {
      "model_module": "@jupyter-widgets/base",
      "model_module_version": "1.2.0",
      "model_name": "LayoutModel",
      "state": {}
     },
     "0e69e0698cfe43a7bae3d77789b69757": {
      "model_module": "@jupyter-widgets/base",
      "model_module_version": "1.2.0",
      "model_name": "LayoutModel",
      "state": {}
     },
     "0e9a69a92a094a35a02e51927a99f1d5": {
      "model_module": "@jupyter-widgets/controls",
      "model_module_version": "1.5.0",
      "model_name": "ButtonModel",
      "state": {
       "description": "Partikel",
       "layout": "IPY_MODEL_9f7998b3d9f346b3b517ba35f89945c1",
       "style": "IPY_MODEL_ea46fd4c0807408ea4ca554f51b95838"
      }
     },
     "0ea63963004d4b1da242343e4cca7b1c": {
      "model_module": "@jupyter-widgets/controls",
      "model_module_version": "1.5.0",
      "model_name": "HTMLModel",
      "state": {
       "layout": "IPY_MODEL_e7fa62c893b24413b54ee9a101f4a18a",
       "style": "IPY_MODEL_d46c5913a2f14721aad11b7de83ffa31",
       "value": "<h4 style=\"font-size:14px;\">Welcher ist der richtig permutierte Satz?</h4>"
      }
     },
     "0ea94b3be80c4f9d9a1712361f74412d": {
      "model_module": "@jupyter-widgets/base",
      "model_module_version": "1.2.0",
      "model_name": "LayoutModel",
      "state": {
       "width": "250px"
      }
     },
     "0eb5940796d942ccacb1b29b65e5c200": {
      "model_module": "@jupyter-widgets/controls",
      "model_module_version": "1.5.0",
      "model_name": "DescriptionStyleModel",
      "state": {
       "description_width": ""
      }
     },
     "0f01c4c0a3b74fb294f3724ca983f382": {
      "model_module": "@jupyter-widgets/controls",
      "model_module_version": "1.5.0",
      "model_name": "ButtonModel",
      "state": {
       "description": "Keine der anderen Möglichkeiten",
       "layout": "IPY_MODEL_65c6440f3268493cb7327d6218fc0be8",
       "style": "IPY_MODEL_05e75b14da8240c8bea0d37fa2a6ec16"
      }
     },
     "0ff720b997aa41f199744e133e698326": {
      "model_module": "@jupyter-widgets/controls",
      "model_module_version": "1.5.0",
      "model_name": "DescriptionStyleModel",
      "state": {
       "description_width": ""
      }
     },
     "0ffadf8472104a03b90fc0f128cfbdd5": {
      "model_module": "@jupyter-widgets/controls",
      "model_module_version": "1.5.0",
      "model_name": "HTMLModel",
      "state": {
       "layout": "IPY_MODEL_5e043abe25e4409cba65795b1491b21b",
       "style": "IPY_MODEL_194916e7feae4d3c9622f78db88e1461",
       "value": "<h4 style=\"font-size:14px;\">durch eine</h4>"
      }
     },
     "105016c25d184bf0b310109018445aea": {
      "model_module": "@jupyter-widgets/controls",
      "model_module_version": "1.5.0",
      "model_name": "DescriptionStyleModel",
      "state": {
       "description_width": ""
      }
     },
     "106ab815125447dc9a386a7aad984c3f": {
      "model_module": "@jupyter-widgets/controls",
      "model_module_version": "1.5.0",
      "model_name": "ButtonModel",
      "state": {
       "description": "Partikel",
       "layout": "IPY_MODEL_c93db7862ad54349bb0239cc85cf0c29",
       "style": "IPY_MODEL_72303721e1aa444faa33de8ee9a8888b"
      }
     },
     "107884f2e7874ee9a57730c262213a41": {
      "model_module": "@jupyter-widgets/base",
      "model_module_version": "1.2.0",
      "model_name": "LayoutModel",
      "state": {
       "width": "600px"
      }
     },
     "10bf470b380b479d97bb4b0fad46ded8": {
      "model_module": "@jupyter-widgets/base",
      "model_module_version": "1.2.0",
      "model_name": "LayoutModel",
      "state": {
       "width": "250px"
      }
     },
     "112d342c9b444dd4a073b9dc370bfe28": {
      "model_module": "@jupyter-widgets/controls",
      "model_module_version": "1.5.0",
      "model_name": "DescriptionStyleModel",
      "state": {
       "description_width": ""
      }
     },
     "11605bf0dcc14acab2dcb80f543096b8": {
      "model_module": "@jupyter-widgets/controls",
      "model_module_version": "1.5.0",
      "model_name": "DescriptionStyleModel",
      "state": {
       "description_width": "initial"
      }
     },
     "1164a8c12bdf4bb6b573b841f96ce389": {
      "model_module": "@jupyter-widgets/base",
      "model_module_version": "1.2.0",
      "model_name": "LayoutModel",
      "state": {}
     },
     "118af53b2a59464eb9a78432a2a9a51a": {
      "model_module": "@jupyter-widgets/controls",
      "model_module_version": "1.5.0",
      "model_name": "DescriptionStyleModel",
      "state": {
       "description_width": ""
      }
     },
     "11ab53bd972f460889af0f6af98036cd": {
      "model_module": "@jupyter-widgets/controls",
      "model_module_version": "1.5.0",
      "model_name": "DescriptionStyleModel",
      "state": {
       "description_width": ""
      }
     },
     "11e6a4c9b9014a8da7dc22a9e56b330d": {
      "model_module": "@jupyter-widgets/base",
      "model_module_version": "1.2.0",
      "model_name": "LayoutModel",
      "state": {
       "width": "250px"
      }
     },
     "122dd8e6230c4ca68be8a341ab5a0068": {
      "model_module": "@jupyter-widgets/controls",
      "model_module_version": "1.5.0",
      "model_name": "DescriptionStyleModel",
      "state": {
       "description_width": ""
      }
     },
     "1274509507f5429ca879ce7607e2365d": {
      "model_module": "@jupyter-widgets/base",
      "model_module_version": "1.2.0",
      "model_name": "LayoutModel",
      "state": {}
     },
     "129ac06e3970465ea40b3a6e459e33e5": {
      "model_module": "@jupyter-widgets/controls",
      "model_module_version": "1.5.0",
      "model_name": "CheckboxModel",
      "state": {
       "description": "Flexionstyp",
       "disabled": false,
       "layout": "IPY_MODEL_68f7027f1d274efaa1e111b597e6e003",
       "style": "IPY_MODEL_c3b52ea7138d4dedb48fa388480c0b6d",
       "value": false
      }
     },
     "12a3b804933b4a7a8ded5c42f01bd927": {
      "model_module": "@jupyter-widgets/controls",
      "model_module_version": "1.5.0",
      "model_name": "CheckboxModel",
      "state": {
       "description": "Nur beginnt eine Reise von tausend Meilen auch mit einem Schritt",
       "disabled": false,
       "layout": "IPY_MODEL_39488c1e81794e15953fb50ab2139866",
       "style": "IPY_MODEL_415c2e1fd1374bd58d9c80ee4cdc439d",
       "value": false
      }
     },
     "12ca386dc80342a9982ba78faab31036": {
      "model_module": "@jupyter-widgets/controls",
      "model_module_version": "1.5.0",
      "model_name": "DescriptionStyleModel",
      "state": {
       "description_width": "initial"
      }
     },
     "12f88c161ac147fbbf0c531c42f66e7f": {
      "model_module": "@jupyter-widgets/controls",
      "model_module_version": "1.5.0",
      "model_name": "ButtonModel",
      "state": {
       "description": "Adverb",
       "layout": "IPY_MODEL_36edc0ce551c47e89e6bd12b3bc0859a",
       "style": "IPY_MODEL_ee4cc24ed83c4c3da864903bb09a1577"
      }
     },
     "132125981cda4f9aa7a841652781a68a": {
      "model_module": "@jupyter-widgets/base",
      "model_module_version": "1.2.0",
      "model_name": "LayoutModel",
      "state": {
       "width": "250px"
      }
     },
     "1328bad49ff449acac2eeec5de5aa5f1": {
      "model_module": "@jupyter-widgets/controls",
      "model_module_version": "1.5.0",
      "model_name": "ButtonStyleModel",
      "state": {}
     },
     "1328d77120d049c18126ae493f98e8e7": {
      "model_module": "@jupyter-widgets/controls",
      "model_module_version": "1.5.0",
      "model_name": "DescriptionStyleModel",
      "state": {
       "description_width": "initial"
      }
     },
     "1342b8f3005f487482a5085242470563": {
      "model_module": "@jupyter-widgets/controls",
      "model_module_version": "1.5.0",
      "model_name": "DescriptionStyleModel",
      "state": {
       "description_width": "initial"
      }
     },
     "1356778f0fff47e0b379c305ec08d624": {
      "model_module": "@jupyter-widgets/controls",
      "model_module_version": "1.5.0",
      "model_name": "HBoxModel",
      "state": {
       "children": [
        "IPY_MODEL_62d4a5f8e176406ba71bbb3dd8a8e825",
        "IPY_MODEL_b900376959c5463a80ec8cc43f813a4e"
       ],
       "layout": "IPY_MODEL_8efea577ca00451abab419c25b8e2c31"
      }
     },
     "1360d277c8624fda9bdbd9ba03b6ac4f": {
      "model_module": "@jupyter-widgets/base",
      "model_module_version": "1.2.0",
      "model_name": "LayoutModel",
      "state": {
       "width": "250px"
      }
     },
     "13680b0f9e854436a19d71db40e7b243": {
      "model_module": "@jupyter-widgets/controls",
      "model_module_version": "1.5.0",
      "model_name": "DescriptionStyleModel",
      "state": {
       "description_width": ""
      }
     },
     "136e9deb2531442e83c32974ad9c631b": {
      "model_module": "@jupyter-widgets/base",
      "model_module_version": "1.2.0",
      "model_name": "LayoutModel",
      "state": {}
     },
     "136ff2b0e77c4e72b1f196ffec9756d7": {
      "model_module": "@jupyter-widgets/controls",
      "model_module_version": "1.5.0",
      "model_name": "ButtonStyleModel",
      "state": {}
     },
     "1378a6c0e97e4c599d27e940a670f10f": {
      "model_module": "@jupyter-widgets/controls",
      "model_module_version": "1.5.0",
      "model_name": "DropdownModel",
      "state": {
       "_options_labels": [
        "Köpfe",
        "Länge",
        "Phrasenstruktur",
        " "
       ],
       "index": 2,
       "layout": "IPY_MODEL_e619fabf382a4db88dfaf4161cdb8bcd",
       "style": "IPY_MODEL_200c86d5cf6449fba361df85b02b1071"
      }
     },
     "138150f9bdb1422ab8882f7ce5a87120": {
      "model_module": "@jupyter-widgets/base",
      "model_module_version": "1.2.0",
      "model_name": "LayoutModel",
      "state": {
       "align_content": "stretch",
       "align_items": "stretch",
       "display": "inline-flex",
       "flex": "flex-grow",
       "flex_flow": "row wrap",
       "justify_content": "flex-start"
      }
     },
     "13e074339439461ebd3a95211ea0f81c": {
      "model_module": "@jupyter-widgets/base",
      "model_module_version": "1.2.0",
      "model_name": "LayoutModel",
      "state": {}
     },
     "1416cbf5404541f3bd8af1ef0a82f644": {
      "model_module": "@jupyter-widgets/controls",
      "model_module_version": "1.5.0",
      "model_name": "VBoxModel",
      "state": {
       "children": [
        "IPY_MODEL_6e98dca7a8b747998e002f475166a2b5",
        "IPY_MODEL_1da0fbbad1744dd8b16741719c6d90da",
        "IPY_MODEL_57b3d2e55fc64e248c43589ec73b1572",
        "IPY_MODEL_4fcf364d3f2941188a7b2ce98123eb7f",
        "IPY_MODEL_cdb4c4cd9fdb4e6f9e38e9e952c5a522"
       ],
       "layout": "IPY_MODEL_3dea950a5d314322af97f6e4ef798d66"
      }
     },
     "14212d7a01cc4a25b5bb2b24716aa6eb": {
      "model_module": "@jupyter-widgets/controls",
      "model_module_version": "1.5.0",
      "model_name": "DescriptionStyleModel",
      "state": {
       "description_width": "initial"
      }
     },
     "142a91137c6b4eb38515983316cbbac5": {
      "model_module": "@jupyter-widgets/controls",
      "model_module_version": "1.5.0",
      "model_name": "ButtonStyleModel",
      "state": {
       "button_color": "lightgreen"
      }
     },
     "1451136d2ebd4833ade384dc0db20836": {
      "model_module": "@jupyter-widgets/base",
      "model_module_version": "1.2.0",
      "model_name": "LayoutModel",
      "state": {
       "width": "600px"
      }
     },
     "14591b22cbef49b1a319fc737e79b291": {
      "model_module": "@jupyter-widgets/controls",
      "model_module_version": "1.5.0",
      "model_name": "ButtonStyleModel",
      "state": {}
     },
     "147a8741184d46788cef3cf177e64cb8": {
      "model_module": "@jupyter-widgets/controls",
      "model_module_version": "1.5.0",
      "model_name": "HTMLModel",
      "state": {
       "layout": "IPY_MODEL_2b9cad7c69c340dfb112a843903fa6a1",
       "style": "IPY_MODEL_c5793a105f174a89868ad77f5d5308a6",
       "value": "<h4 style=\"font-size:14px;\">im Englischen.</h4>"
      }
     },
     "14c27e08c4984bcd8e22ee5e2b3abd95": {
      "model_module": "@jupyter-widgets/controls",
      "model_module_version": "1.5.0",
      "model_name": "VBoxModel",
      "state": {
       "children": [
        "IPY_MODEL_0a5955a5215d4f41970351bb23831687",
        "IPY_MODEL_234a0eb3c3a6434e8bd73255d5db3e86",
        "IPY_MODEL_b30ae857384840b586ca096f290b8c72",
        "IPY_MODEL_17a6dd232dec4ed5a952d839f142c984"
       ],
       "layout": "IPY_MODEL_6193fa6a27d64804a2dd676fad4a5573"
      }
     },
     "14cdca427dae4dc2afd2273f1404b1c0": {
      "model_module": "@jupyter-widgets/controls",
      "model_module_version": "1.5.0",
      "model_name": "ButtonModel",
      "state": {
       "description": "simple past",
       "layout": "IPY_MODEL_d8807f4953cd4d34840594d2a34c274f",
       "style": "IPY_MODEL_da811ac492eb4f07980b656e20978b21"
      }
     },
     "14d36f4da8f14a09b2accf79bca37090": {
      "model_module": "@jupyter-widgets/base",
      "model_module_version": "1.2.0",
      "model_name": "LayoutModel",
      "state": {
       "width": "150px"
      }
     },
     "153c76c65bd84fc2a378577f1b4e6b00": {
      "model_module": "@jupyter-widgets/controls",
      "model_module_version": "1.5.0",
      "model_name": "HTMLModel",
      "state": {
       "layout": "IPY_MODEL_b5d1944149b448fcb9fd1305f7dbbae5",
       "style": "IPY_MODEL_eff3ab417cf84d83a05ab2c05ee5b9b4",
       "value": "<i>Wählen Sie die <ins>eine</ins> korrekte Antwort aus: </i>"
      }
     },
     "156a2871fe644736bfe0a16359095953": {
      "model_module": "@jupyter-widgets/controls",
      "model_module_version": "1.5.0",
      "model_name": "HBoxModel",
      "state": {
       "children": [
        "IPY_MODEL_a79e8fbd0568418f8f271f08d5631e7d"
       ],
       "layout": "IPY_MODEL_58ad961db5ae438e9bb1f54c62e8de55"
      }
     },
     "15b50ed82a494ac0a93e594ba016bc51": {
      "model_module": "@jupyter-widgets/controls",
      "model_module_version": "1.5.0",
      "model_name": "HBoxModel",
      "state": {
       "children": [
        "IPY_MODEL_970132db10ac48b0b4416a3b99b74de9",
        "IPY_MODEL_d967e2e6fb2b41fb842b2e572bc2422e"
       ],
       "layout": "IPY_MODEL_5ea91cafb46c4bb1b132b4663a86a87e"
      }
     },
     "161f3ce9919e461195a07b4851554232": {
      "model_module": "@jupyter-widgets/controls",
      "model_module_version": "1.5.0",
      "model_name": "ButtonModel",
      "state": {
       "description": "Adverb",
       "layout": "IPY_MODEL_fb673cd9897a4a5ba55b335748f1ec34",
       "style": "IPY_MODEL_8547d83e462640af95ae2544bfc59786"
      }
     },
     "162880f921044b9989aff28c472961e2": {
      "model_module": "@jupyter-widgets/base",
      "model_module_version": "1.2.0",
      "model_name": "LayoutModel",
      "state": {
       "width": "250px"
      }
     },
     "1660ab7dec7d4484b82aec64c0ff4fb8": {
      "model_module": "@jupyter-widgets/base",
      "model_module_version": "1.2.0",
      "model_name": "LayoutModel",
      "state": {}
     },
     "16992b523556426ea59678d046e30e86": {
      "model_module": "@jupyter-widgets/controls",
      "model_module_version": "1.5.0",
      "model_name": "DescriptionStyleModel",
      "state": {
       "description_width": ""
      }
     },
     "16c4cd46dc6e4a6584bd7a716d06732a": {
      "model_module": "@jupyter-widgets/controls",
      "model_module_version": "1.5.0",
      "model_name": "DescriptionStyleModel",
      "state": {
       "description_width": "initial"
      }
     },
     "16c5a6b979db47b6bbe75227b639efb4": {
      "model_module": "@jupyter-widgets/base",
      "model_module_version": "1.2.0",
      "model_name": "LayoutModel",
      "state": {
       "width": "250px"
      }
     },
     "16d2a923a87b4ca18146a51e9999c377": {
      "model_module": "@jupyter-widgets/base",
      "model_module_version": "1.2.0",
      "model_name": "LayoutModel",
      "state": {
       "width": "250px"
      }
     },
     "170b9823832343598f902a7cc03d4e0c": {
      "model_module": "@jupyter-widgets/controls",
      "model_module_version": "1.5.0",
      "model_name": "DescriptionStyleModel",
      "state": {
       "description_width": ""
      }
     },
     "170f3661597348868af5d84984bbcb57": {
      "model_module": "@jupyter-widgets/base",
      "model_module_version": "1.2.0",
      "model_name": "LayoutModel",
      "state": {}
     },
     "170fdb568689473db9a9829fb3645342": {
      "model_module": "@jupyter-widgets/base",
      "model_module_version": "1.2.0",
      "model_name": "LayoutModel",
      "state": {}
     },
     "171dfeec55024c9481f5cadf7da8cc78": {
      "model_module": "@jupyter-widgets/controls",
      "model_module_version": "1.5.0",
      "model_name": "VBoxModel",
      "state": {
       "children": [
        "IPY_MODEL_d9f9a7c66dc348cab74956c9051fc906",
        "IPY_MODEL_6c527d7393114bc18ad592ec3796c352",
        "IPY_MODEL_d793865abcb04ec69f7c729574ed843e",
        "IPY_MODEL_a58c8415f31041e48e57f97df0aaba52"
       ],
       "layout": "IPY_MODEL_d7d8a6675a2c4a7eaf9e5e1835bac5f5"
      }
     },
     "17205f6332764c1f82e11ba24ddf8e55": {
      "model_module": "@jupyter-widgets/controls",
      "model_module_version": "1.5.0",
      "model_name": "DescriptionStyleModel",
      "state": {
       "description_width": ""
      }
     },
     "1738f97cefeb452f958251a8b64e565c": {
      "model_module": "@jupyter-widgets/controls",
      "model_module_version": "1.5.0",
      "model_name": "HTMLModel",
      "state": {
       "layout": "IPY_MODEL_abc63c2f3593480988000ab392b680a2",
       "style": "IPY_MODEL_adb70fab30b54ff08567ccb0c6354675",
       "value": "<i>Wählen Sie die <ins>eine</ins> korrekte Antwort aus: </i>"
      }
     },
     "173b9876838e4c948d2535f86f613b9b": {
      "model_module": "@jupyter-widgets/base",
      "model_module_version": "1.2.0",
      "model_name": "LayoutModel",
      "state": {
       "width": "250px"
      }
     },
     "1743f26f0251443aaa3e086da00d73b3": {
      "model_module": "@jupyter-widgets/controls",
      "model_module_version": "1.5.0",
      "model_name": "DropdownModel",
      "state": {
       "_options_labels": [
        "Konstituenten",
        "Phrasen",
        " "
       ],
       "index": 0,
       "layout": "IPY_MODEL_7ccd16a796344e61b2a07d6f5538e8fe",
       "style": "IPY_MODEL_fd326fe5beb740278a7f90c613128784"
      }
     },
     "17987f3d6bcc450e8b5f88000b434157": {
      "model_module": "@jupyter-widgets/base",
      "model_module_version": "1.2.0",
      "model_name": "LayoutModel",
      "state": {
       "width": "250px"
      }
     },
     "17a03ebaa5e1485ea797f415936d867d": {
      "model_module": "@jupyter-widgets/controls",
      "model_module_version": "1.5.0",
      "model_name": "DescriptionStyleModel",
      "state": {
       "description_width": ""
      }
     },
     "17a35dff54eb46edb2c349fb5a7fab88": {
      "model_module": "@jupyter-widgets/controls",
      "model_module_version": "1.5.0",
      "model_name": "DescriptionStyleModel",
      "state": {
       "description_width": ""
      }
     },
     "17a6dd232dec4ed5a952d839f142c984": {
      "model_module": "@jupyter-widgets/controls",
      "model_module_version": "1.5.0",
      "model_name": "ButtonModel",
      "state": {
       "description": "Korrekt?",
       "layout": "IPY_MODEL_16c5a6b979db47b6bbe75227b639efb4",
       "style": "IPY_MODEL_7506ca857fd24c8d9f4b34db59aefddb"
      }
     },
     "17c3e1ecc8704a87b8ee31eb3a307171": {
      "model_module": "@jupyter-widgets/controls",
      "model_module_version": "1.5.0",
      "model_name": "HBoxModel",
      "state": {
       "children": [
        "IPY_MODEL_ae298d54528347e5b426674e997c4033",
        "IPY_MODEL_dc9a85e2707d44138378aff3f5018fb2"
       ],
       "layout": "IPY_MODEL_e26cdae111e847f5a772b06d6779fdf7"
      }
     },
     "17c4071e3de14c419eeb30f24ebcac8e": {
      "model_module": "@jupyter-widgets/base",
      "model_module_version": "1.2.0",
      "model_name": "LayoutModel",
      "state": {
       "justify_content": "center"
      }
     },
     "183221aaa3794acd8f0811b7fe98b1bc": {
      "model_module": "@jupyter-widgets/controls",
      "model_module_version": "1.5.0",
      "model_name": "VBoxModel",
      "state": {
       "children": [
        "IPY_MODEL_c568e3f825c947ab91cd74304383f9f4",
        "IPY_MODEL_dfc4378767464c7282ffd8d7b4143cf4",
        "IPY_MODEL_70bbb66ff0cc45779650856145b6b5b9"
       ],
       "layout": "IPY_MODEL_cb59e3e21a74448397f33e5b686eb087"
      }
     },
     "183f621c553c49fc9ce9a0918bac3958": {
      "model_module": "@jupyter-widgets/base",
      "model_module_version": "1.2.0",
      "model_name": "LayoutModel",
      "state": {
       "justify_content": "center"
      }
     },
     "187f6faabcbb4a1ca06d865767f045e2": {
      "model_module": "@jupyter-widgets/controls",
      "model_module_version": "1.5.0",
      "model_name": "ButtonStyleModel",
      "state": {
       "button_color": "lightgreen"
      }
     },
     "18b930fe61a54856b11b5c7a6148d6b3": {
      "model_module": "@jupyter-widgets/controls",
      "model_module_version": "1.5.0",
      "model_name": "DescriptionStyleModel",
      "state": {
       "description_width": ""
      }
     },
     "18bbf074f488458e990b666e72820cf7": {
      "model_module": "@jupyter-widgets/base",
      "model_module_version": "1.2.0",
      "model_name": "LayoutModel",
      "state": {}
     },
     "18fed0ccf62b4bd8b5414f7c0fe21810": {
      "model_module": "@jupyter-widgets/controls",
      "model_module_version": "1.5.0",
      "model_name": "DescriptionStyleModel",
      "state": {
       "description_width": ""
      }
     },
     "190b63d883b84181a2b8a194f74598bc": {
      "model_module": "@jupyter-widgets/controls",
      "model_module_version": "1.5.0",
      "model_name": "HBoxModel",
      "state": {
       "children": [
        "IPY_MODEL_cdbf9dde32b34d8581959784f622dbd8",
        "IPY_MODEL_e9e4e4f6e165445fbd9daf024ffd0f4a"
       ],
       "layout": "IPY_MODEL_9fad08e144134393aabf357b5bb45bfa"
      }
     },
     "1911eea992504d078d381eb40ef96c2b": {
      "model_module": "@jupyter-widgets/base",
      "model_module_version": "1.2.0",
      "model_name": "LayoutModel",
      "state": {}
     },
     "194916e7feae4d3c9622f78db88e1461": {
      "model_module": "@jupyter-widgets/controls",
      "model_module_version": "1.5.0",
      "model_name": "DescriptionStyleModel",
      "state": {
       "description_width": ""
      }
     },
     "196d14e5ec814228971e43aa3705d2c0": {
      "model_module": "@jupyter-widgets/controls",
      "model_module_version": "1.5.0",
      "model_name": "HBoxModel",
      "state": {
       "children": [
        "IPY_MODEL_33f4ba66fc8c47e3bd923b2ea0290c93",
        "IPY_MODEL_d257896b4a0940e8910e5a0a29efc487"
       ],
       "layout": "IPY_MODEL_09c4d03361ac4776888474981171ccec"
      }
     },
     "197013f348fb4ca2a03d69d0505833ea": {
      "model_module": "@jupyter-widgets/base",
      "model_module_version": "1.2.0",
      "model_name": "LayoutModel",
      "state": {}
     },
     "198a26737df24c08a1b39654f3bf7113": {
      "model_module": "@jupyter-widgets/controls",
      "model_module_version": "1.5.0",
      "model_name": "DescriptionStyleModel",
      "state": {
       "description_width": "initial"
      }
     },
     "199c56a9546b461c8551a4684970897a": {
      "model_module": "@jupyter-widgets/controls",
      "model_module_version": "1.5.0",
      "model_name": "ButtonModel",
      "state": {
       "description": "Korrekt?",
       "layout": "IPY_MODEL_52ee5f790b524e1f8fdaa10c50c23484",
       "style": "IPY_MODEL_9a84dbe8b2854073bbd7cbe898cb3591"
      }
     },
     "19b7e45cd8304dd8b4d2b5d5b3781c97": {
      "model_module": "@jupyter-widgets/controls",
      "model_module_version": "1.5.0",
      "model_name": "ButtonStyleModel",
      "state": {}
     },
     "19d9dd803f4f4b9aaa228bec718fc1d9": {
      "model_module": "@jupyter-widgets/controls",
      "model_module_version": "1.5.0",
      "model_name": "VBoxModel",
      "state": {
       "children": [
        "IPY_MODEL_096a09a7a4c647659ef2415c7f8aa27b",
        "IPY_MODEL_8e058f0ee43047f09332c33012830a7c",
        "IPY_MODEL_7b427fd09cfe42a6aa890ce25e20a895",
        "IPY_MODEL_9e5e29d8a1b84fe680fdba96cc90f8f3",
        "IPY_MODEL_da029504705849bdb79c162c16f63f95"
       ],
       "layout": "IPY_MODEL_5b4d6c37d5ed4554a64dfc7563c3f643"
      }
     },
     "1a042d6a63b84814a9cf475aa61337a7": {
      "model_module": "@jupyter-widgets/controls",
      "model_module_version": "1.5.0",
      "model_name": "HTMLModel",
      "state": {
       "layout": "IPY_MODEL_2177958a69e04e4bb5fa8592e68a518f",
       "style": "IPY_MODEL_c558e9611b0f4549b961c7d920315ce9",
       "value": "<i>Vervollständigen Sie den Lückentext: </i>"
      }
     },
     "1a4d245397e045d1ac45dd1bb426a892": {
      "model_module": "@jupyter-widgets/base",
      "model_module_version": "1.2.0",
      "model_name": "LayoutModel",
      "state": {
       "width": "250px"
      }
     },
     "1a54bfd4926b4922888663da9f03bd49": {
      "model_module": "@jupyter-widgets/controls",
      "model_module_version": "1.5.0",
      "model_name": "DropdownModel",
      "state": {
       "_options_labels": [
        "NP",
        "PP",
        "VP",
        " "
       ],
       "index": 3,
       "layout": "IPY_MODEL_d53b50b275c746a2abd5a9e275db3b0c",
       "style": "IPY_MODEL_55d601feec774c70906a13d1b1167f71"
      }
     },
     "1a8363d6fdd14bc79fa70c66d28fef9b": {
      "model_module": "@jupyter-widgets/base",
      "model_module_version": "1.2.0",
      "model_name": "LayoutModel",
      "state": {
       "width": "250px"
      }
     },
     "1a88796e5be140ce85a64cb819128804": {
      "model_module": "@jupyter-widgets/controls",
      "model_module_version": "1.5.0",
      "model_name": "ButtonStyleModel",
      "state": {}
     },
     "1aacff55358349528b5194838bd9e20f": {
      "model_module": "@jupyter-widgets/base",
      "model_module_version": "1.2.0",
      "model_name": "LayoutModel",
      "state": {
       "justify_content": "center"
      }
     },
     "1ab82a6014494a06b18e10888ebd0c89": {
      "model_module": "@jupyter-widgets/controls",
      "model_module_version": "1.5.0",
      "model_name": "ButtonStyleModel",
      "state": {}
     },
     "1abc6f6c1c2d46a893de0422957e8f90": {
      "model_module": "@jupyter-widgets/base",
      "model_module_version": "1.2.0",
      "model_name": "LayoutModel",
      "state": {}
     },
     "1ad5cbbcb1f741ad8644cffeabb22f33": {
      "model_module": "@jupyter-widgets/base",
      "model_module_version": "1.2.0",
      "model_name": "LayoutModel",
      "state": {
       "justify_content": "center"
      }
     },
     "1b114451d1a041bfafa780963b139dde": {
      "model_module": "@jupyter-widgets/base",
      "model_module_version": "1.2.0",
      "model_name": "LayoutModel",
      "state": {
       "justify_content": "center"
      }
     },
     "1b39c9d944d8425594b3cdbc01acbc20": {
      "model_module": "@jupyter-widgets/controls",
      "model_module_version": "1.5.0",
      "model_name": "ButtonModel",
      "state": {
       "description": "Korrekt?",
       "layout": "IPY_MODEL_26299b6cd9f0409ba988402af68c172d",
       "style": "IPY_MODEL_39b2c55ae8ea4db8ae53f94598c0c16e"
      }
     },
     "1b40ebb28e084534a56a47f3fa9fba33": {
      "model_module": "@jupyter-widgets/base",
      "model_module_version": "1.2.0",
      "model_name": "LayoutModel",
      "state": {}
     },
     "1b78746cac1d4781aae73b0ce07c974c": {
      "model_module": "@jupyter-widgets/base",
      "model_module_version": "1.2.0",
      "model_name": "LayoutModel",
      "state": {}
     },
     "1b8bc0602b0a458aa4676151485358a2": {
      "model_module": "@jupyter-widgets/controls",
      "model_module_version": "1.5.0",
      "model_name": "CheckboxModel",
      "state": {
       "description": "Zu einem Wort werden seine Kookkurrenzpartner gefunden.",
       "disabled": false,
       "layout": "IPY_MODEL_a0384f8eb77f4909ac2e869045a057ad",
       "style": "IPY_MODEL_1342b8f3005f487482a5085242470563",
       "value": false
      }
     },
     "1b9d31e97a284237a5aa5a7d9f770c90": {
      "model_module": "@jupyter-widgets/controls",
      "model_module_version": "1.5.0",
      "model_name": "DescriptionStyleModel",
      "state": {
       "description_width": "initial"
      }
     },
     "1bb3511f7a624dde852b82dd3779dd66": {
      "model_module": "@jupyter-widgets/controls",
      "model_module_version": "1.5.0",
      "model_name": "HBoxModel",
      "state": {
       "children": [
        "IPY_MODEL_92522024cda5475aa54fbef14c330953",
        "IPY_MODEL_bcfae0509e9b4cecbe29b9a78b0b7e8e"
       ],
       "layout": "IPY_MODEL_e06becc101f949fabf5a23da1b0a8ec6"
      }
     },
     "1bc162861bec4c169460405fd13a77b1": {
      "model_module": "@jupyter-widgets/controls",
      "model_module_version": "1.5.0",
      "model_name": "ButtonModel",
      "state": {
       "description": "Korrekt?",
       "layout": "IPY_MODEL_952b2681f9424e239aec03bf172c0997",
       "style": "IPY_MODEL_55ec6aa0079b4c74bd5297ee9109e50f"
      }
     },
     "1bee391e9add42158330547e1f733396": {
      "model_module": "@jupyter-widgets/controls",
      "model_module_version": "1.5.0",
      "model_name": "DescriptionStyleModel",
      "state": {
       "description_width": ""
      }
     },
     "1c0b616125c74b98b5335e4270740961": {
      "model_module": "@jupyter-widgets/controls",
      "model_module_version": "1.5.0",
      "model_name": "DescriptionStyleModel",
      "state": {
       "description_width": ""
      }
     },
     "1c1f57edc6954a9c93f9f91677fe144e": {
      "model_module": "@jupyter-widgets/controls",
      "model_module_version": "1.5.0",
      "model_name": "HTMLModel",
      "state": {
       "layout": "IPY_MODEL_aef1f1db206b4c0ea1349ec2396ea657",
       "style": "IPY_MODEL_7ef82cff12264a7daf80a613b0dad57f",
       "value": "<i>Vervollständigen Sie den Lückentext: </i>"
      }
     },
     "1c451fbc124546fd95a9f8a6864f6b24": {
      "model_module": "@jupyter-widgets/base",
      "model_module_version": "1.2.0",
      "model_name": "LayoutModel",
      "state": {}
     },
     "1c70c1127be84ce08cdb75b7073c09d5": {
      "model_module": "@jupyter-widgets/controls",
      "model_module_version": "1.5.0",
      "model_name": "ButtonStyleModel",
      "state": {
       "button_color": "lightgreen"
      }
     },
     "1c7cda9d2e6e4d90a4ed85cb6c3abe9b": {
      "model_module": "@jupyter-widgets/base",
      "model_module_version": "1.2.0",
      "model_name": "LayoutModel",
      "state": {}
     },
     "1c8667ebf86841b7b0445668e4be9221": {
      "model_module": "@jupyter-widgets/base",
      "model_module_version": "1.2.0",
      "model_name": "LayoutModel",
      "state": {
       "width": "250px"
      }
     },
     "1c9af84cfad94071b606f06e2126e3dc": {
      "model_module": "@jupyter-widgets/controls",
      "model_module_version": "1.5.0",
      "model_name": "HTMLModel",
      "state": {
       "layout": "IPY_MODEL_1aacff55358349528b5194838bd9e20f",
       "style": "IPY_MODEL_be9baaed82c9455ea3d4a8b4d2ecfcfe",
       "value": "<i>Wählen Sie die <ins>eine</ins> korrekte Antwort aus: </i>"
      }
     },
     "1cb6b1fcf92b4ccfa369e64c679070f4": {
      "model_module": "@jupyter-widgets/controls",
      "model_module_version": "1.5.0",
      "model_name": "HTMLModel",
      "state": {
       "layout": "IPY_MODEL_469a6c9136a6452bb8b5954ab18213af",
       "style": "IPY_MODEL_0e607dcaaa5b4a369fa7f9e0b3c3012d",
       "value": "<h4 style=\"font-size:14px;\">.</h4>"
      }
     },
     "1cf621e2272643e1bd11cbe5a5880eb7": {
      "model_module": "@jupyter-widgets/controls",
      "model_module_version": "1.5.0",
      "model_name": "CheckboxModel",
      "state": {
       "description": "Koordinationstest",
       "disabled": false,
       "layout": "IPY_MODEL_3f9aa0d571ee40049f81513481fab8c3",
       "style": "IPY_MODEL_a918e0ea9694466cb979d059cdc4ee1e",
       "value": false
      }
     },
     "1d3982989c944ed3a6e3da9ba7ffbfe4": {
      "model_module": "@jupyter-widgets/controls",
      "model_module_version": "1.5.0",
      "model_name": "VBoxModel",
      "state": {
       "children": [
        "IPY_MODEL_f6b04ebf4d0e4194be0cb32c9f706c26",
        "IPY_MODEL_be03f3e46ad449db908e456b147369ea",
        "IPY_MODEL_474510d9a91443d79227ea88accbf7bb",
        "IPY_MODEL_505636c3c79043afb78093298b73fadd"
       ],
       "layout": "IPY_MODEL_3334e11a008a4c78a9a4061bbc51044e"
      }
     },
     "1d4dc778e1134b40a99c6661c83afd62": {
      "model_module": "@jupyter-widgets/controls",
      "model_module_version": "1.5.0",
      "model_name": "VBoxModel",
      "state": {
       "children": [
        "IPY_MODEL_5c203ffd29b74b3e85e08ddfa61ba7f7",
        "IPY_MODEL_52897935693a4f23a5e7343c9db74fdd",
        "IPY_MODEL_fe908947025d45eb9a434e4b7241247f",
        "IPY_MODEL_d77d0df640ba4813bc599cfe9187322e"
       ],
       "layout": "IPY_MODEL_09ba4f47a10a480fa8eab7bee2d47d4a"
      }
     },
     "1d8e5e3aaead4bba9844c8543d268b4e": {
      "model_module": "@jupyter-widgets/base",
      "model_module_version": "1.2.0",
      "model_name": "LayoutModel",
      "state": {}
     },
     "1da0fbbad1744dd8b16741719c6d90da": {
      "model_module": "@jupyter-widgets/controls",
      "model_module_version": "1.5.0",
      "model_name": "HTMLModel",
      "state": {
       "layout": "IPY_MODEL_2f0e5734108244dcad84735318bf8948",
       "style": "IPY_MODEL_c73276e09e2f438a8716346b8c021202",
       "value": "<i>Wählen Sie die <ins>eine</ins> korrekte Antwort aus: </i>"
      }
     },
     "1dae76be7e874a42bb39a2aec4061204": {
      "model_module": "@jupyter-widgets/controls",
      "model_module_version": "1.5.0",
      "model_name": "ButtonModel",
      "state": {
       "description": "Keine der anderen Möglichkeiten",
       "layout": "IPY_MODEL_ddb4f399f1a04bc48602aa741c0fe228",
       "style": "IPY_MODEL_d81f88d719c6403c882298a425aaff51"
      }
     },
     "1dc065a2e56848cfb3aec5ee543b9def": {
      "model_module": "@jupyter-widgets/controls",
      "model_module_version": "1.5.0",
      "model_name": "ButtonStyleModel",
      "state": {}
     },
     "1dcd977b4796496f9937807a8ac9e1d8": {
      "model_module": "@jupyter-widgets/base",
      "model_module_version": "1.2.0",
      "model_name": "LayoutModel",
      "state": {
       "width": "250px"
      }
     },
     "1ddb66a46b98435f893cb934aae0cdb9": {
      "model_module": "@jupyter-widgets/base",
      "model_module_version": "1.2.0",
      "model_name": "LayoutModel",
      "state": {
       "width": "600px"
      }
     },
     "1e0dbb8a7da04a199aad9381e253132d": {
      "model_module": "@jupyter-widgets/controls",
      "model_module_version": "1.5.0",
      "model_name": "HTMLModel",
      "state": {
       "layout": "IPY_MODEL_b6d2be1a533748b0ab90a6d1179bfa5f",
       "style": "IPY_MODEL_05a91142b5494ac6816a1f073565e640",
       "value": "<h4 style=\"font-size:14px;\">Was sind morphologische Kriterien für Wortkategorien?</h4>"
      }
     },
     "1e0fa4ef53a5427885b9729475ab76ff": {
      "model_module": "@jupyter-widgets/controls",
      "model_module_version": "1.5.0",
      "model_name": "HTMLModel",
      "state": {
       "layout": "IPY_MODEL_fe9db8209c784d3b959122393966b950",
       "style": "IPY_MODEL_f01dea275c564f39a01eaa75f76b1637",
       "value": "<h4 style=\"font-size:14px;\">Welche Wortart folgt damit für das Wort <i>gerne</i> in Satz 1?</h4>"
      }
     },
     "1e159dcdb966480994e6b2eadf4390ec": {
      "model_module": "@jupyter-widgets/controls",
      "model_module_version": "1.5.0",
      "model_name": "HTMLModel",
      "state": {
       "layout": "IPY_MODEL_f7a3ce60767348f5a131e65a2c09159c",
       "style": "IPY_MODEL_9246e1467f6c4b29a57dc28d088470e1",
       "value": "<i>Wählen Sie die <ins>eine</ins> korrekte Antwort aus: </i>"
      }
     },
     "1e2ff0e56cc54a8a8292bd5b6485bbc8": {
      "model_module": "@jupyter-widgets/controls",
      "model_module_version": "1.5.0",
      "model_name": "DescriptionStyleModel",
      "state": {
       "description_width": "initial"
      }
     },
     "1e3fc6f9b6ee4935b9477f7c4305f6d6": {
      "model_module": "@jupyter-widgets/controls",
      "model_module_version": "1.5.0",
      "model_name": "ButtonStyleModel",
      "state": {}
     },
     "1e455fdcba504b88aea87479336f2fe7": {
      "model_module": "@jupyter-widgets/controls",
      "model_module_version": "1.5.0",
      "model_name": "VBoxModel",
      "state": {
       "children": [
        "IPY_MODEL_4af4ab21295e4766a354f0b21086122b",
        "IPY_MODEL_43a11c733d4549729ad36f976e3b4fcd",
        "IPY_MODEL_15b50ed82a494ac0a93e594ba016bc51",
        "IPY_MODEL_e996570378e14eceac65824c20396b57"
       ],
       "layout": "IPY_MODEL_3a6aeab6252a48878b4b79c8721c329e"
      }
     },
     "1e5247d20d144372aab5c4a58db41fdc": {
      "model_module": "@jupyter-widgets/base",
      "model_module_version": "1.2.0",
      "model_name": "LayoutModel",
      "state": {
       "width": "600px"
      }
     },
     "1e89596fb2254c9d8f05786441b35e03": {
      "model_module": "@jupyter-widgets/controls",
      "model_module_version": "1.5.0",
      "model_name": "ButtonModel",
      "state": {
       "description": "base",
       "layout": "IPY_MODEL_e3f34fbb42cc40e7857bdbbf5b22dbbf",
       "style": "IPY_MODEL_30b5b7dc04eb4af09279e693b8b7e5ae"
      }
     },
     "1e9db3576ff54b93a92fa0632914c37b": {
      "model_module": "@jupyter-widgets/base",
      "model_module_version": "1.2.0",
      "model_name": "LayoutModel",
      "state": {}
     },
     "1ea5b1efe48d40edb039e17b359b309a": {
      "model_module": "@jupyter-widgets/base",
      "model_module_version": "1.2.0",
      "model_name": "LayoutModel",
      "state": {}
     },
     "1eccb009469642df89e42158b7d795e8": {
      "model_module": "@jupyter-widgets/controls",
      "model_module_version": "1.5.0",
      "model_name": "HTMLModel",
      "state": {
       "layout": "IPY_MODEL_7484efad54cd4c21b43c07857b9ade07",
       "style": "IPY_MODEL_3e9db15ac10c48808e314436d840be29",
       "value": "<h4 style=\"font-size:14px;\"><i>Eine Reise beginnt auch nur mit einem Schritt.</i><br>Welche Tests wurden angewandt?</h4>"
      }
     },
     "1edf45e5d2924a3787251c04791abc26": {
      "model_module": "@jupyter-widgets/controls",
      "model_module_version": "1.5.0",
      "model_name": "HTMLModel",
      "state": {
       "layout": "IPY_MODEL_a1d2e53fa64349ed9251694ff9bde440",
       "style": "IPY_MODEL_70cc74e9a6ae4cf8bb93740927709f68",
       "value": "<i>Vervollständigen Sie den Lückentext: </i>"
      }
     },
     "1eee6b30848d4175b4c74ce8a0bb3ad4": {
      "model_module": "@jupyter-widgets/controls",
      "model_module_version": "1.5.0",
      "model_name": "CheckboxModel",
      "state": {
       "description": "Es fungiert als Satzglied mit der syntaktischen Funktion Adverbial.",
       "disabled": false,
       "layout": "IPY_MODEL_2d3a48eeb3ce4954b3577199d0ea837b",
       "style": "IPY_MODEL_7c6c3aa4950b4baba217b94ecc446087",
       "value": true
      }
     },
     "1f1fc4e3eb224f4da7db73a26fee7385": {
      "model_module": "@jupyter-widgets/base",
      "model_module_version": "1.2.0",
      "model_name": "LayoutModel",
      "state": {}
     },
     "1f422cf7819d4476b9a9291721540def": {
      "model_module": "@jupyter-widgets/base",
      "model_module_version": "1.2.0",
      "model_name": "LayoutModel",
      "state": {
       "width": "250px"
      }
     },
     "1f7c498722bd4d3191b25f5eb63d9fd3": {
      "model_module": "@jupyter-widgets/controls",
      "model_module_version": "1.5.0",
      "model_name": "ButtonModel",
      "state": {
       "description": "Korrekt?",
       "layout": "IPY_MODEL_2918b30382ed4e12bbf4a7c279dcfc3c",
       "style": "IPY_MODEL_1328bad49ff449acac2eeec5de5aa5f1"
      }
     },
     "1f7e88ab91c5418ca33a9a9c46e329cd": {
      "model_module": "@jupyter-widgets/controls",
      "model_module_version": "1.5.0",
      "model_name": "ButtonStyleModel",
      "state": {
       "button_color": "lightgreen"
      }
     },
     "1fb4a60994f24c1b9c2b4e60647e67be": {
      "model_module": "@jupyter-widgets/controls",
      "model_module_version": "1.5.0",
      "model_name": "HBoxModel",
      "state": {
       "children": [
        "IPY_MODEL_63374ae90adb429880a0e45c07b56b04",
        "IPY_MODEL_0a9318e005864366b475964d4267bb0d"
       ],
       "layout": "IPY_MODEL_e3475664975344b5a8dd840e9d382cd9"
      }
     },
     "1fd3e17a883842db9bca33eaed04a4d1": {
      "model_module": "@jupyter-widgets/controls",
      "model_module_version": "1.5.0",
      "model_name": "VBoxModel",
      "state": {
       "children": [
        "IPY_MODEL_1edf45e5d2924a3787251c04791abc26",
        "IPY_MODEL_c6a9cd0be3be43d5ac87bbf6d95082f8",
        "IPY_MODEL_5d641d59f29a4e95b5ff5a18f6b71b68"
       ],
       "layout": "IPY_MODEL_1c7cda9d2e6e4d90a4ed85cb6c3abe9b"
      }
     },
     "200569a9f2634fefaae6879e03ea45b1": {
      "model_module": "@jupyter-widgets/controls",
      "model_module_version": "1.5.0",
      "model_name": "HTMLModel",
      "state": {
       "layout": "IPY_MODEL_6cdd618cd0174a71a879854f5d51e363",
       "style": "IPY_MODEL_fa82f8763209490b9c622f0f7e080ef7",
       "value": "<h4 style=\"font-size:14px;\">Die Koordination von Phrasen ist dadurch eingeschränkt, dass nur</h4>"
      }
     },
     "200c86d5cf6449fba361df85b02b1071": {
      "model_module": "@jupyter-widgets/controls",
      "model_module_version": "1.5.0",
      "model_name": "DescriptionStyleModel",
      "state": {
       "description_width": ""
      }
     },
     "2024b46bf1f845a4b453a56f7e1886d1": {
      "model_module": "@jupyter-widgets/base",
      "model_module_version": "1.2.0",
      "model_name": "LayoutModel",
      "state": {
       "width": "250px"
      }
     },
     "20423e360f584f0aa4a2485037ebff61": {
      "model_module": "@jupyter-widgets/controls",
      "model_module_version": "1.5.0",
      "model_name": "VBoxModel",
      "state": {
       "children": [
        "IPY_MODEL_7b29b7dee2d94f559ef708242f01b2d5",
        "IPY_MODEL_74e506220a334791b21c8779cf1861d3",
        "IPY_MODEL_8f4bd9eb91174a858304459638e630a3",
        "IPY_MODEL_4e809505c0c248099e68beb7d9cc3528",
        "IPY_MODEL_c467ffecd23342caabd907b846eb6dc8"
       ],
       "layout": "IPY_MODEL_aea4014b52f94475909a1e2cf35bf716"
      }
     },
     "204700e57fc7459aadc07bd0abfcfdc3": {
      "model_module": "@jupyter-widgets/controls",
      "model_module_version": "1.5.0",
      "model_name": "HTMLModel",
      "state": {
       "layout": "IPY_MODEL_4dd6fae54cce4727990b0249ceb940c9",
       "style": "IPY_MODEL_118af53b2a59464eb9a78432a2a9a51a",
       "value": "<i>Wählen Sie die <ins>eine</ins> korrekte Antwort aus: </i>"
      }
     },
     "20b09233b5424c54878ca4511d7d1717": {
      "model_module": "@jupyter-widgets/controls",
      "model_module_version": "1.5.0",
      "model_name": "ButtonModel",
      "state": {
       "description": "past participle",
       "layout": "IPY_MODEL_6800a47dc0dd403680e0d171713f53b5",
       "style": "IPY_MODEL_590177ca77484750b27237b70bfbc97d"
      }
     },
     "20ca0a717bab480bbf69882c7c16a02f": {
      "model_module": "@jupyter-widgets/base",
      "model_module_version": "1.2.0",
      "model_name": "LayoutModel",
      "state": {
       "width": "150px"
      }
     },
     "20f59e57168047c4ae02b3f330b1ee03": {
      "model_module": "@jupyter-widgets/controls",
      "model_module_version": "1.5.0",
      "model_name": "DescriptionStyleModel",
      "state": {
       "description_width": ""
      }
     },
     "210cbb9aefc344d89035bbe749f73846": {
      "model_module": "@jupyter-widgets/controls",
      "model_module_version": "1.5.0",
      "model_name": "DescriptionStyleModel",
      "state": {
       "description_width": "initial"
      }
     },
     "211dda5663e241e88d20061c9898b39d": {
      "model_module": "@jupyter-widgets/base",
      "model_module_version": "1.2.0",
      "model_name": "LayoutModel",
      "state": {
       "justify_content": "center"
      }
     },
     "2177958a69e04e4bb5fa8592e68a518f": {
      "model_module": "@jupyter-widgets/base",
      "model_module_version": "1.2.0",
      "model_name": "LayoutModel",
      "state": {
       "justify_content": "center"
      }
     },
     "21875703555b4f10beda5f3cc027e46c": {
      "model_module": "@jupyter-widgets/base",
      "model_module_version": "1.2.0",
      "model_name": "LayoutModel",
      "state": {
       "width": "600px"
      }
     },
     "2191f16705174a94ad9500463cec970f": {
      "model_module": "@jupyter-widgets/base",
      "model_module_version": "1.2.0",
      "model_name": "LayoutModel",
      "state": {}
     },
     "21b1973ad6c8482fa6023bb9310ce17b": {
      "model_module": "@jupyter-widgets/controls",
      "model_module_version": "1.5.0",
      "model_name": "DescriptionStyleModel",
      "state": {
       "description_width": ""
      }
     },
     "21c13b4b6cb843b1a30039e4f33f9634": {
      "model_module": "@jupyter-widgets/controls",
      "model_module_version": "1.5.0",
      "model_name": "HBoxModel",
      "state": {
       "children": [
        "IPY_MODEL_969a437acf3d4cf59d21506edf40bea4",
        "IPY_MODEL_20b09233b5424c54878ca4511d7d1717"
       ],
       "layout": "IPY_MODEL_31fde3f0552247419fc7bc55e015335e"
      }
     },
     "2222a0b8335344539a2053cec7fa2306": {
      "model_module": "@jupyter-widgets/base",
      "model_module_version": "1.2.0",
      "model_name": "LayoutModel",
      "state": {
       "width": "250px"
      }
     },
     "22400c0837f64523b90dd737df0e8724": {
      "model_module": "@jupyter-widgets/base",
      "model_module_version": "1.2.0",
      "model_name": "LayoutModel",
      "state": {
       "width": "250px"
      }
     },
     "224c07d27c954b478b9d96fc7d8bdcef": {
      "model_module": "@jupyter-widgets/controls",
      "model_module_version": "1.5.0",
      "model_name": "DescriptionStyleModel",
      "state": {
       "description_width": "initial"
      }
     },
     "224d878bb7b24eed875c896b2318d68c": {
      "model_module": "@jupyter-widgets/base",
      "model_module_version": "1.2.0",
      "model_name": "LayoutModel",
      "state": {}
     },
     "224f9f0c706d470fb9f441c2b4adfcad": {
      "model_module": "@jupyter-widgets/controls",
      "model_module_version": "1.5.0",
      "model_name": "ButtonModel",
      "state": {
       "description": "Korrekt?",
       "layout": "IPY_MODEL_34453fe8d4774f22ad5da6ba69c6c2a1",
       "style": "IPY_MODEL_e2d98d9925164e1babb20f6763dce690"
      }
     },
     "2295b16297e7416db846ac6301d6fe7f": {
      "model_module": "@jupyter-widgets/base",
      "model_module_version": "1.2.0",
      "model_name": "LayoutModel",
      "state": {
       "width": "250px"
      }
     },
     "22ac093da5864cc9b9a5a52dc66c911f": {
      "model_module": "@jupyter-widgets/base",
      "model_module_version": "1.2.0",
      "model_name": "LayoutModel",
      "state": {
       "width": "600px"
      }
     },
     "22e10164c4ec48099fa09c753c99bd09": {
      "model_module": "@jupyter-widgets/controls",
      "model_module_version": "1.5.0",
      "model_name": "ButtonStyleModel",
      "state": {}
     },
     "22ef8f2c50e94ffdab1450a4c3ff4a93": {
      "model_module": "@jupyter-widgets/controls",
      "model_module_version": "1.5.0",
      "model_name": "DropdownModel",
      "state": {
       "_options_labels": [
        "Bigramm",
        "Trigramm",
        "Unigramm",
        " "
       ],
       "index": 0,
       "layout": "IPY_MODEL_d09dedcda26b4d96a59ae2bf3ce56aed",
       "style": "IPY_MODEL_47f2b10aa9ca4f9aa61d4723054b6b63"
      }
     },
     "230667e4a748475b95214d69fead5879": {
      "model_module": "@jupyter-widgets/base",
      "model_module_version": "1.2.0",
      "model_name": "LayoutModel",
      "state": {}
     },
     "234a0eb3c3a6434e8bd73255d5db3e86": {
      "model_module": "@jupyter-widgets/controls",
      "model_module_version": "1.5.0",
      "model_name": "HTMLModel",
      "state": {
       "layout": "IPY_MODEL_de472dccbcea4e779ba6b5ea6c21e9a5",
       "style": "IPY_MODEL_e4338007f26d451493c44b92c0584fe4",
       "value": "<i>Markieren Sie <ins>alle</ins> passenden Antworten: </i>"
      }
     },
     "2353b8d099ea4e7aa70b257408023f49": {
      "model_module": "@jupyter-widgets/base",
      "model_module_version": "1.2.0",
      "model_name": "LayoutModel",
      "state": {
       "width": "600px"
      }
     },
     "23936e0207c0405ba8bfda87d50e5ecb": {
      "model_module": "@jupyter-widgets/base",
      "model_module_version": "1.2.0",
      "model_name": "LayoutModel",
      "state": {
       "width": "150px"
      }
     },
     "23bbf05eca5148319f06d70cf23aeadd": {
      "model_module": "@jupyter-widgets/controls",
      "model_module_version": "1.5.0",
      "model_name": "DescriptionStyleModel",
      "state": {
       "description_width": ""
      }
     },
     "23d1cd4b70f84308b9ea77673d58cbb8": {
      "model_module": "@jupyter-widgets/base",
      "model_module_version": "1.2.0",
      "model_name": "LayoutModel",
      "state": {}
     },
     "23d408c48a0645c190417d13df63be1a": {
      "model_module": "@jupyter-widgets/controls",
      "model_module_version": "1.5.0",
      "model_name": "ButtonStyleModel",
      "state": {}
     },
     "23da8ef0790d4cb7b9fe68a40dc24af2": {
      "model_module": "@jupyter-widgets/controls",
      "model_module_version": "1.5.0",
      "model_name": "CheckboxModel",
      "state": {
       "description": "Zu einem Wort werden seine Kookkurrenzpartner gefunden.",
       "disabled": false,
       "layout": "IPY_MODEL_7172f0e8ac344b91b26d64310094e140",
       "style": "IPY_MODEL_686f5171b4724c2598f6778048519814",
       "value": false
      }
     },
     "24077df82e2d4ced97fcca317a436108": {
      "model_module": "@jupyter-widgets/controls",
      "model_module_version": "1.5.0",
      "model_name": "DescriptionStyleModel",
      "state": {
       "description_width": ""
      }
     },
     "24109130fe1d4d24aa2a6d63c6b852da": {
      "model_module": "@jupyter-widgets/base",
      "model_module_version": "1.2.0",
      "model_name": "LayoutModel",
      "state": {}
     },
     "24d996035f5c43749d051ea22a6efe97": {
      "model_module": "@jupyter-widgets/base",
      "model_module_version": "1.2.0",
      "model_name": "LayoutModel",
      "state": {
       "width": "250px"
      }
     },
     "24dd15134ac7451f884d5401414ce8e5": {
      "model_module": "@jupyter-widgets/controls",
      "model_module_version": "1.5.0",
      "model_name": "VBoxModel",
      "state": {
       "children": [
        "IPY_MODEL_55257b4e2f6341e79d8b3eae5a5da332",
        "IPY_MODEL_de9fbaa2a9a64b3484965b5b2faf3894",
        "IPY_MODEL_fd614b3716514fe5ae8df7414d6a8af3"
       ],
       "layout": "IPY_MODEL_f88a7f56ab174a3b9eb844b7614c05b7"
      }
     },
     "25425afca1cf4916959a2b357b31bff9": {
      "model_module": "@jupyter-widgets/controls",
      "model_module_version": "1.5.0",
      "model_name": "DescriptionStyleModel",
      "state": {
       "description_width": ""
      }
     },
     "255efa92e1cf45ec83b793cdf3fb4e5a": {
      "model_module": "@jupyter-widgets/controls",
      "model_module_version": "1.5.0",
      "model_name": "DescriptionStyleModel",
      "state": {
       "description_width": ""
      }
     },
     "257a69dbb03640a890c8c253e14331bb": {
      "model_module": "@jupyter-widgets/base",
      "model_module_version": "1.2.0",
      "model_name": "LayoutModel",
      "state": {}
     },
     "2580820fc8d4423fbe3cf921bec4f4cb": {
      "model_module": "@jupyter-widgets/base",
      "model_module_version": "1.2.0",
      "model_name": "LayoutModel",
      "state": {
       "justify_content": "center"
      }
     },
     "258d5392e28b4297bae30504c39cc259": {
      "model_module": "@jupyter-widgets/controls",
      "model_module_version": "1.5.0",
      "model_name": "HTMLModel",
      "state": {
       "layout": "IPY_MODEL_49576d371df74728b04bcc1f47c6df00",
       "style": "IPY_MODEL_ae428bdd0e8940678224575d31489fc8",
       "value": "<h4 style=\"font-size:14px;\">. Aus dieser wurde es extrahiert und ins</h4>"
      }
     },
     "25aca80f196c4e5e8683e2f7a20b5ca6": {
      "model_module": "@jupyter-widgets/controls",
      "model_module_version": "1.5.0",
      "model_name": "HTMLModel",
      "state": {
       "layout": "IPY_MODEL_5189bbfa85d9424ab4f39533ad91080b",
       "style": "IPY_MODEL_01059231982d441cb25a7d3bf9c6cbf0",
       "value": "<h4 style=\"font-size:14px;\">Welche Wortart folgt damit für das Wort <i>gerne</i> in Satz 1?</h4>"
      }
     },
     "25bb13c1ba4140c68a05b46cbbbcdb0c": {
      "model_module": "@jupyter-widgets/base",
      "model_module_version": "1.2.0",
      "model_name": "LayoutModel",
      "state": {
       "width": "350px"
      }
     },
     "25ee5d42bdb148a19c03dacc739aa5d9": {
      "model_module": "@jupyter-widgets/controls",
      "model_module_version": "1.5.0",
      "model_name": "ButtonStyleModel",
      "state": {}
     },
     "25f4ddde71c04004b3bccccf10af348d": {
      "model_module": "@jupyter-widgets/controls",
      "model_module_version": "1.5.0",
      "model_name": "HTMLModel",
      "state": {
       "layout": "IPY_MODEL_707279f4420941b3a1b2d193b8d58ddb",
       "style": "IPY_MODEL_105016c25d184bf0b310109018445aea",
       "value": "<h4 style=\"font-size:14px;\">im Englischen.</h4>"
      }
     },
     "26299b6cd9f0409ba988402af68c172d": {
      "model_module": "@jupyter-widgets/base",
      "model_module_version": "1.2.0",
      "model_name": "LayoutModel",
      "state": {
       "width": "250px"
      }
     },
     "262fe8bc94f941379133c9997126ff4c": {
      "model_module": "@jupyter-widgets/controls",
      "model_module_version": "1.5.0",
      "model_name": "DropdownModel",
      "state": {
       "_options_labels": [
        "Konstituente",
        "Phrase",
        " "
       ],
       "index": 2,
       "layout": "IPY_MODEL_b5c1d5545a814003b6b7b1898b33515f",
       "style": "IPY_MODEL_3771cc9db62a4f3fa0ec2017fd7f82c8"
      }
     },
     "26c7c69286474176ae8b415f41873e38": {
      "model_module": "@jupyter-widgets/controls",
      "model_module_version": "1.5.0",
      "model_name": "CheckboxModel",
      "state": {
       "description": "Zu einem Wort wird ein Index seiner Kontexte aufgebaut.",
       "disabled": false,
       "layout": "IPY_MODEL_45fe5038c25b4b12a0017b6338d7dff5",
       "style": "IPY_MODEL_92addfaccbc84e769d4b560ae5534030",
       "value": false
      }
     },
     "26d0e1dab9424a1bb2e04ad7d1d44d58": {
      "model_module": "@jupyter-widgets/controls",
      "model_module_version": "1.5.0",
      "model_name": "ButtonModel",
      "state": {
       "description": "3rd singular present",
       "layout": "IPY_MODEL_6755ec8a11564cbdb6d6af6de5f7c126",
       "style": "IPY_MODEL_25ee5d42bdb148a19c03dacc739aa5d9"
      }
     },
     "2738c8ed45e342ab8e01a944508f828d": {
      "model_module": "@jupyter-widgets/controls",
      "model_module_version": "1.5.0",
      "model_name": "ButtonStyleModel",
      "state": {}
     },
     "275ff7fc0f7e472abecf42d3548f219e": {
      "model_module": "@jupyter-widgets/base",
      "model_module_version": "1.2.0",
      "model_name": "LayoutModel",
      "state": {}
     },
     "27939b625be64a28bc58fb049b96b4ce": {
      "model_module": "@jupyter-widgets/controls",
      "model_module_version": "1.5.0",
      "model_name": "HTMLModel",
      "state": {
       "layout": "IPY_MODEL_d444a289617046e6a76c22611f9e65c6",
       "style": "IPY_MODEL_16992b523556426ea59678d046e30e86",
       "value": "<i>Markieren Sie <ins>alle</ins> passenden Antworten: </i>"
      }
     },
     "279e877234db43ed877a786098e641b4": {
      "model_module": "@jupyter-widgets/controls",
      "model_module_version": "1.5.0",
      "model_name": "DescriptionStyleModel",
      "state": {
       "description_width": "initial"
      }
     },
     "27a446f324724207aee7bcf2ecf2ed3a": {
      "model_module": "@jupyter-widgets/controls",
      "model_module_version": "1.5.0",
      "model_name": "ButtonModel",
      "state": {
       "description": "Partikel",
       "layout": "IPY_MODEL_94fd81cd043f462fab29c62834666e35",
       "style": "IPY_MODEL_91ce8dcbc98248daa9952cd96381fd69"
      }
     },
     "27b04c03438e4929ab59ce17f8367f28": {
      "model_module": "@jupyter-widgets/controls",
      "model_module_version": "1.5.0",
      "model_name": "HBoxModel",
      "state": {
       "children": [
        "IPY_MODEL_30df0951950d44ba9140659b78568baa"
       ],
       "layout": "IPY_MODEL_ef024d983fee47de9b133f33f849ce43"
      }
     },
     "27eb55821c5e4415aa31d509e02b645f": {
      "model_module": "@jupyter-widgets/base",
      "model_module_version": "1.2.0",
      "model_name": "LayoutModel",
      "state": {
       "width": "150px"
      }
     },
     "2812c1b749e5446faff77284c1b5d442": {
      "model_module": "@jupyter-widgets/base",
      "model_module_version": "1.2.0",
      "model_name": "LayoutModel",
      "state": {
       "width": "600px"
      }
     },
     "2814c334324e4d7aadffff15be7b6c20": {
      "model_module": "@jupyter-widgets/controls",
      "model_module_version": "1.5.0",
      "model_name": "DescriptionStyleModel",
      "state": {
       "description_width": ""
      }
     },
     "28305fd601624ef7bf6b38fde1ff2728": {
      "model_module": "@jupyter-widgets/base",
      "model_module_version": "1.2.0",
      "model_name": "LayoutModel",
      "state": {}
     },
     "283776f7685e44ecb91e25d0354b449a": {
      "model_module": "@jupyter-widgets/base",
      "model_module_version": "1.2.0",
      "model_name": "LayoutModel",
      "state": {
       "width": "150px"
      }
     },
     "284a7e82532f4451a03ec133990d8d13": {
      "model_module": "@jupyter-widgets/controls",
      "model_module_version": "1.5.0",
      "model_name": "HBoxModel",
      "state": {
       "children": [
        "IPY_MODEL_0c2f1ed1823748609f5e80a4f06dbfbc"
       ],
       "layout": "IPY_MODEL_eba5293836e040f2a76ff7ceae161039"
      }
     },
     "28565facd9a34d8090eadc5c8c4dfedb": {
      "model_module": "@jupyter-widgets/controls",
      "model_module_version": "1.5.0",
      "model_name": "HTMLModel",
      "state": {
       "layout": "IPY_MODEL_7468c2df97ed4b59b592252b2614bfab",
       "style": "IPY_MODEL_b789cf4050504abdb20a04caac57f5e2",
       "value": "<i>Markieren Sie <ins>alle</ins> passenden Antworten: </i>"
      }
     },
     "28ad6fdea1bf4feca1123690b99473a4": {
      "model_module": "@jupyter-widgets/controls",
      "model_module_version": "1.5.0",
      "model_name": "CheckboxModel",
      "state": {
       "description": "Flexionstyp",
       "disabled": false,
       "layout": "IPY_MODEL_5fcd42eab02b400a8a327638102e153a",
       "style": "IPY_MODEL_41ef9c9f39694d919738e0f397e01687",
       "value": true
      }
     },
     "28d1edea810746ec8007277b06b928f2": {
      "model_module": "@jupyter-widgets/base",
      "model_module_version": "1.2.0",
      "model_name": "LayoutModel",
      "state": {
       "width": "600px"
      }
     },
     "28d83e8a14d642599e9f08b1f5213843": {
      "model_module": "@jupyter-widgets/base",
      "model_module_version": "1.2.0",
      "model_name": "LayoutModel",
      "state": {}
     },
     "28f5c5d9ce1243f68888f97b87d66a95": {
      "model_module": "@jupyter-widgets/controls",
      "model_module_version": "1.5.0",
      "model_name": "ButtonModel",
      "state": {
       "description": "Korrekt?",
       "layout": "IPY_MODEL_ce7c2490fbcf40eba6ebef6b730da375",
       "style": "IPY_MODEL_709df8db22ce4699841d002cc8a54252"
      }
     },
     "28fae5ce62c647e38d3193a86f4ebbcf": {
      "model_module": "@jupyter-widgets/controls",
      "model_module_version": "1.5.0",
      "model_name": "VBoxModel",
      "state": {
       "children": [
        "IPY_MODEL_e5fe20ca24d8401ab4fee5880bd631a3",
        "IPY_MODEL_1c9af84cfad94071b606f06e2126e3dc",
        "IPY_MODEL_f287cf2b8b7a4e70b790d0663bd2f293",
        "IPY_MODEL_1356778f0fff47e0b379c305ec08d624",
        "IPY_MODEL_78da84633b624b92bbcaee137ef0c633"
       ],
       "layout": "IPY_MODEL_a3356ca8a51a4332b6f48d1af8bf20d2"
      }
     },
     "2918b30382ed4e12bbf4a7c279dcfc3c": {
      "model_module": "@jupyter-widgets/base",
      "model_module_version": "1.2.0",
      "model_name": "LayoutModel",
      "state": {
       "width": "250px"
      }
     },
     "29717ad8e6c94c268a60f8012894fa31": {
      "model_module": "@jupyter-widgets/base",
      "model_module_version": "1.2.0",
      "model_name": "LayoutModel",
      "state": {
       "width": "250px"
      }
     },
     "2990b64f6e084c7cb13084a35dc4b058": {
      "model_module": "@jupyter-widgets/controls",
      "model_module_version": "1.5.0",
      "model_name": "DescriptionStyleModel",
      "state": {
       "description_width": "initial"
      }
     },
     "29d4151fe66a434a9864d5b4b07c28f2": {
      "model_module": "@jupyter-widgets/base",
      "model_module_version": "1.2.0",
      "model_name": "LayoutModel",
      "state": {
       "width": "250px"
      }
     },
     "29eac761d5934d5a81c73f13f57d612b": {
      "model_module": "@jupyter-widgets/base",
      "model_module_version": "1.2.0",
      "model_name": "LayoutModel",
      "state": {}
     },
     "2a058c57712248c8b5a73e005f80c38f": {
      "model_module": "@jupyter-widgets/controls",
      "model_module_version": "1.5.0",
      "model_name": "ButtonStyleModel",
      "state": {}
     },
     "2a1b56e821c64febb59e5a1131e6aa2c": {
      "model_module": "@jupyter-widgets/controls",
      "model_module_version": "1.5.0",
      "model_name": "CheckboxModel",
      "state": {
       "description": "Nur mit beginnt eine Reise von tausend Meilen auch einem Schritt.",
       "disabled": false,
       "layout": "IPY_MODEL_ff6cfa4d7cd84ac8a5a84c1147778c5b",
       "style": "IPY_MODEL_1e2ff0e56cc54a8a8292bd5b6485bbc8",
       "value": false
      }
     },
     "2a1c5f49dc9d45e69ebf68d6dff3d81e": {
      "model_module": "@jupyter-widgets/controls",
      "model_module_version": "1.5.0",
      "model_name": "ButtonStyleModel",
      "state": {
       "button_color": "lightgreen"
      }
     },
     "2a41f8464d274879b3cc721d5fcf5041": {
      "model_module": "@jupyter-widgets/controls",
      "model_module_version": "1.5.0",
      "model_name": "DescriptionStyleModel",
      "state": {
       "description_width": "initial"
      }
     },
     "2a7b4c79986d41be8d175182b6a8c1b7": {
      "model_module": "@jupyter-widgets/controls",
      "model_module_version": "1.5.0",
      "model_name": "CheckboxModel",
      "state": {
       "description": "Eliminierungstest",
       "disabled": false,
       "layout": "IPY_MODEL_97e14adaf00a4cc4843119c674967372",
       "style": "IPY_MODEL_a5b0fb080b694b39af84b1113abdcc97",
       "value": true
      }
     },
     "2a97a91d559d48d0ba2a6e18947eb4dc": {
      "model_module": "@jupyter-widgets/base",
      "model_module_version": "1.2.0",
      "model_name": "LayoutModel",
      "state": {}
     },
     "2a9cf9fffa4048428e22f5ed9fb77e0e": {
      "model_module": "@jupyter-widgets/base",
      "model_module_version": "1.2.0",
      "model_name": "LayoutModel",
      "state": {
       "justify_content": "center"
      }
     },
     "2b23be1acaa74265bb309d32d5bba1fc": {
      "model_module": "@jupyter-widgets/controls",
      "model_module_version": "1.5.0",
      "model_name": "VBoxModel",
      "state": {
       "children": [
        "IPY_MODEL_022a379fc4ef4cffb85b4e8f544954df",
        "IPY_MODEL_797ca9f9f64143ab863555202a3dacc8",
        "IPY_MODEL_d6e0c49d75d943938b7844dcabf8fc1d",
        "IPY_MODEL_be5dc54ade4a4784b7779131dba4ed41",
        "IPY_MODEL_08f08fdced1342488899c2e5923488e1"
       ],
       "layout": "IPY_MODEL_79b55b7ccb714cc98a593b92f954720e"
      }
     },
     "2b67247d854549f188f0752961c08f5f": {
      "model_module": "@jupyter-widgets/controls",
      "model_module_version": "1.5.0",
      "model_name": "DescriptionStyleModel",
      "state": {
       "description_width": ""
      }
     },
     "2b9cad7c69c340dfb112a843903fa6a1": {
      "model_module": "@jupyter-widgets/base",
      "model_module_version": "1.2.0",
      "model_name": "LayoutModel",
      "state": {}
     },
     "2bbdfcb7975347e6bddbff8b9864e71e": {
      "model_module": "@jupyter-widgets/controls",
      "model_module_version": "1.5.0",
      "model_name": "ButtonModel",
      "state": {
       "description": "Korrekt?",
       "layout": "IPY_MODEL_00c2175e03de473997567ea9e008b504",
       "style": "IPY_MODEL_a78dc86aec124b999f69c33b4b307cb3"
      }
     },
     "2bc80191397b4fd7a44a74fcc65ae1a9": {
      "model_module": "@jupyter-widgets/controls",
      "model_module_version": "1.5.0",
      "model_name": "HBoxModel",
      "state": {
       "children": [
        "IPY_MODEL_b56e56db10c34753a5a6cd275d7b7b75",
        "IPY_MODEL_94425e4200bc4860910c8c91fb14a2d7"
       ],
       "layout": "IPY_MODEL_f4f2d73eb8524f88abd8e3e56a80b1c4"
      }
     },
     "2c05e9ac7ca74b5d9abafbe104754f33": {
      "model_module": "@jupyter-widgets/base",
      "model_module_version": "1.2.0",
      "model_name": "LayoutModel",
      "state": {}
     },
     "2c2c109b7e644dc7b3b3cf9746cd00ef": {
      "model_module": "@jupyter-widgets/controls",
      "model_module_version": "1.5.0",
      "model_name": "DescriptionStyleModel",
      "state": {
       "description_width": "initial"
      }
     },
     "2c3b3a4ed9b146dcb3625c72515f5abd": {
      "model_module": "@jupyter-widgets/controls",
      "model_module_version": "1.5.0",
      "model_name": "CheckboxModel",
      "state": {
       "description": "Es bezeichnet die näheren Umstände des im Verb ausgedrückten Geschehens.",
       "disabled": false,
       "layout": "IPY_MODEL_638c7738e89f481c96f5699f9afb1066",
       "style": "IPY_MODEL_3ddd34984ad849d386a54ed2510ed76f",
       "value": false
      }
     },
     "2c91f3ac3a4e4dcc81d17671ae9538c8": {
      "model_module": "@jupyter-widgets/controls",
      "model_module_version": "1.5.0",
      "model_name": "VBoxModel",
      "state": {
       "children": [
        "IPY_MODEL_eca10f02d91a40f6b600dcf7fabeae57",
        "IPY_MODEL_8c71b0b7004241fa94faa4e296b588c6",
        "IPY_MODEL_f7f5eadb902a49879eff1523cd5a09f5",
        "IPY_MODEL_ef86e5a91af549579225fb72f3825b7b"
       ],
       "layout": "IPY_MODEL_2c05e9ac7ca74b5d9abafbe104754f33"
      }
     },
     "2cc2080a8c1c49b39537f9f36f53cfe9": {
      "model_module": "@jupyter-widgets/controls",
      "model_module_version": "1.5.0",
      "model_name": "HBoxModel",
      "state": {
       "children": [
        "IPY_MODEL_3761b3c38e744ce4966d67848dded55f",
        "IPY_MODEL_bc2c782eb16e4f74b309f8a4f6e45a1d"
       ],
       "layout": "IPY_MODEL_35ca5be83796419590efdc5869432e13"
      }
     },
     "2cc82a6be8c24826b1736f7be73b49f9": {
      "model_module": "@jupyter-widgets/controls",
      "model_module_version": "1.5.0",
      "model_name": "ButtonStyleModel",
      "state": {
       "button_color": "lightgreen"
      }
     },
     "2d354fc336194f5e9418a6284d362cca": {
      "model_module": "@jupyter-widgets/controls",
      "model_module_version": "1.5.0",
      "model_name": "DescriptionStyleModel",
      "state": {
       "description_width": ""
      }
     },
     "2d3a48eeb3ce4954b3577199d0ea837b": {
      "model_module": "@jupyter-widgets/base",
      "model_module_version": "1.2.0",
      "model_name": "LayoutModel",
      "state": {
       "width": "600px"
      }
     },
     "2d657727e8da493da30f42421684d511": {
      "model_module": "@jupyter-widgets/base",
      "model_module_version": "1.2.0",
      "model_name": "LayoutModel",
      "state": {
       "justify_content": "center"
      }
     },
     "2d9d269ccbdb4a67971992d5037d3710": {
      "model_module": "@jupyter-widgets/controls",
      "model_module_version": "1.5.0",
      "model_name": "ButtonStyleModel",
      "state": {}
     },
     "2da67ed2310c41d5b260502f51a8e3bf": {
      "model_module": "@jupyter-widgets/controls",
      "model_module_version": "1.5.0",
      "model_name": "VBoxModel",
      "state": {
       "children": [
        "IPY_MODEL_e6c36992f804429a9071e0d52ee2f9cd",
        "IPY_MODEL_5e0cbeec4c284a2db7aad8cd1fe9da9a",
        "IPY_MODEL_ec91453f98984f8dac485734b75422b3"
       ],
       "layout": "IPY_MODEL_f0b0611b219b4508bf2c0cc6ff09ff48"
      }
     },
     "2dad2b4e02814c5187d9293eeef61cf1": {
      "model_module": "@jupyter-widgets/controls",
      "model_module_version": "1.5.0",
      "model_name": "ButtonModel",
      "state": {
       "description": "3rd singular present",
       "layout": "IPY_MODEL_bcb0b517952a40008a11dc8f001b563f",
       "style": "IPY_MODEL_fbb1be92821340c782b4faa9b631cdc2"
      }
     },
     "2dd76d71e28949fc8333d69af71fa1b3": {
      "model_module": "@jupyter-widgets/controls",
      "model_module_version": "1.5.0",
      "model_name": "DescriptionStyleModel",
      "state": {
       "description_width": ""
      }
     },
     "2e1ba96986064a708dd0c1099f3858a0": {
      "model_module": "@jupyter-widgets/controls",
      "model_module_version": "1.5.0",
      "model_name": "ButtonModel",
      "state": {
       "description": "Korrekt?",
       "layout": "IPY_MODEL_a653a6ca9a8244e1a660210faac14bb2",
       "style": "IPY_MODEL_c82a69ded85c42a9b9f2f733036c1501"
      }
     },
     "2e3457d9ddaf4546821adbc57469d20f": {
      "model_module": "@jupyter-widgets/base",
      "model_module_version": "1.2.0",
      "model_name": "LayoutModel",
      "state": {}
     },
     "2e46c610d5884ce2b558d4761b4017ea": {
      "model_module": "@jupyter-widgets/controls",
      "model_module_version": "1.5.0",
      "model_name": "ButtonModel",
      "state": {
       "description": "Korrekt?",
       "layout": "IPY_MODEL_080172e20baf44448f4680ae9f612be5",
       "style": "IPY_MODEL_3f1c505002f446b6b293e284883bc16f"
      }
     },
     "2f00e6af899943098c0809cb7179460d": {
      "model_module": "@jupyter-widgets/base",
      "model_module_version": "1.2.0",
      "model_name": "LayoutModel",
      "state": {}
     },
     "2f086123d3f048f0a3117d16eda6c2d4": {
      "model_module": "@jupyter-widgets/controls",
      "model_module_version": "1.5.0",
      "model_name": "VBoxModel",
      "state": {
       "children": [
        "IPY_MODEL_39b0421360084f72836dcc33ae526dec",
        "IPY_MODEL_47874da4e3f44df8ac67c0fd4026177a",
        "IPY_MODEL_54997383f2a94f17b16217711b78592d",
        "IPY_MODEL_fac4f32ad50a4cf0bf2daa4b4d34f44a"
       ],
       "layout": "IPY_MODEL_b055986284934701866e199e723e34d6"
      }
     },
     "2f0e5734108244dcad84735318bf8948": {
      "model_module": "@jupyter-widgets/base",
      "model_module_version": "1.2.0",
      "model_name": "LayoutModel",
      "state": {
       "justify_content": "center"
      }
     },
     "2f0f92c936a749ab94a32f2afe6acd3f": {
      "model_module": "@jupyter-widgets/base",
      "model_module_version": "1.2.0",
      "model_name": "LayoutModel",
      "state": {
       "width": "600px"
      }
     },
     "2f345f665ae24a8494ed01aa490d9d95": {
      "model_module": "@jupyter-widgets/controls",
      "model_module_version": "1.5.0",
      "model_name": "HBoxModel",
      "state": {
       "children": [
        "IPY_MODEL_89370470f1af433d8a9b7a45c754a0ff",
        "IPY_MODEL_a53e02b26d4e4e2fb4cce6a28a681450"
       ],
       "layout": "IPY_MODEL_6ee5917709d34e80b65a00e0feb0d39f"
      }
     },
     "2f578bd79bb448ec897fb7ba37ef3e16": {
      "model_module": "@jupyter-widgets/base",
      "model_module_version": "1.2.0",
      "model_name": "LayoutModel",
      "state": {}
     },
     "2fbe35fd785648439df341b12469ed53": {
      "model_module": "@jupyter-widgets/base",
      "model_module_version": "1.2.0",
      "model_name": "LayoutModel",
      "state": {}
     },
     "2feff843e4684ab9b33d0e55246cfa89": {
      "model_module": "@jupyter-widgets/controls",
      "model_module_version": "1.5.0",
      "model_name": "DescriptionStyleModel",
      "state": {
       "description_width": ""
      }
     },
     "2ffd35163dd14075b63c91b2c374f182": {
      "model_module": "@jupyter-widgets/controls",
      "model_module_version": "1.5.0",
      "model_name": "ButtonStyleModel",
      "state": {
       "button_color": "lightgreen"
      }
     },
     "300218ad53e84811b7280b0d2edf973c": {
      "model_module": "@jupyter-widgets/base",
      "model_module_version": "1.2.0",
      "model_name": "LayoutModel",
      "state": {
       "width": "250px"
      }
     },
     "305f59d3ba3344059a2ec45efed9b757": {
      "model_module": "@jupyter-widgets/controls",
      "model_module_version": "1.5.0",
      "model_name": "DropdownModel",
      "state": {
       "_options_labels": [
        "Konstituenten",
        "Phrasen",
        " "
       ],
       "index": 2,
       "layout": "IPY_MODEL_f061e1e2c10f49e799928b78eee6ac74",
       "style": "IPY_MODEL_6dee73b3d6c94473a9709ada651ec8ab"
      }
     },
     "3066515eba1d4df6aeee3874b2c48231": {
      "model_module": "@jupyter-widgets/controls",
      "model_module_version": "1.5.0",
      "model_name": "VBoxModel",
      "state": {
       "children": [
        "IPY_MODEL_bd762eace0544dd8ac20a83e2ccb00b8",
        "IPY_MODEL_df372d293da54f16835b9361ccd68db2",
        "IPY_MODEL_e6a746534ac941d89583dd2439b62f75",
        "IPY_MODEL_497abdc8f52e412d94c2e154d8589e55"
       ],
       "layout": "IPY_MODEL_027fd96efeae4a79b795d67c894e2405"
      }
     },
     "307b1c31a19a4b86b886ba18f6df689e": {
      "model_module": "@jupyter-widgets/controls",
      "model_module_version": "1.5.0",
      "model_name": "DescriptionStyleModel",
      "state": {
       "description_width": "initial"
      }
     },
     "3095234618cb438f8f329ba37407c2ec": {
      "model_module": "@jupyter-widgets/base",
      "model_module_version": "1.2.0",
      "model_name": "LayoutModel",
      "state": {
       "width": "250px"
      }
     },
     "30a7f531ae9540f989b395a59dacb8ba": {
      "model_module": "@jupyter-widgets/controls",
      "model_module_version": "1.5.0",
      "model_name": "DescriptionStyleModel",
      "state": {
       "description_width": "initial"
      }
     },
     "30a8f56c43a64a2b8f898d502051707f": {
      "model_module": "@jupyter-widgets/base",
      "model_module_version": "1.2.0",
      "model_name": "LayoutModel",
      "state": {}
     },
     "30b03a55c11a4339a194f98b61638ae8": {
      "model_module": "@jupyter-widgets/base",
      "model_module_version": "1.2.0",
      "model_name": "LayoutModel",
      "state": {
       "width": "250px"
      }
     },
     "30b5b7dc04eb4af09279e693b8b7e5ae": {
      "model_module": "@jupyter-widgets/controls",
      "model_module_version": "1.5.0",
      "model_name": "ButtonStyleModel",
      "state": {}
     },
     "30cebdbaeb7745389e48445b7f68dd3c": {
      "model_module": "@jupyter-widgets/controls",
      "model_module_version": "1.5.0",
      "model_name": "ButtonStyleModel",
      "state": {}
     },
     "30ceeff7452349eba6021593177507e4": {
      "model_module": "@jupyter-widgets/base",
      "model_module_version": "1.2.0",
      "model_name": "LayoutModel",
      "state": {
       "width": "250px"
      }
     },
     "30df0951950d44ba9140659b78568baa": {
      "model_module": "@jupyter-widgets/controls",
      "model_module_version": "1.5.0",
      "model_name": "ButtonModel",
      "state": {
       "description": "simple past",
       "layout": "IPY_MODEL_1c8667ebf86841b7b0445668e4be9221",
       "style": "IPY_MODEL_56bac0e6b77c4a5284c66d1397bd3c29"
      }
     },
     "310476f621404283bde278440e8574ae": {
      "model_module": "@jupyter-widgets/controls",
      "model_module_version": "1.5.0",
      "model_name": "ButtonStyleModel",
      "state": {}
     },
     "312eea43f9b54d8fb1e63364f7fa573e": {
      "model_module": "@jupyter-widgets/base",
      "model_module_version": "1.2.0",
      "model_name": "LayoutModel",
      "state": {
       "width": "250px"
      }
     },
     "3181af583cb941d7b1ef6a5e73da5332": {
      "model_module": "@jupyter-widgets/base",
      "model_module_version": "1.2.0",
      "model_name": "LayoutModel",
      "state": {}
     },
     "31fde3f0552247419fc7bc55e015335e": {
      "model_module": "@jupyter-widgets/base",
      "model_module_version": "1.2.0",
      "model_name": "LayoutModel",
      "state": {}
     },
     "322bb521372e403db66d9eec1c7a69a4": {
      "model_module": "@jupyter-widgets/base",
      "model_module_version": "1.2.0",
      "model_name": "LayoutModel",
      "state": {}
     },
     "3252c05bf6de448198dcae33b89fe446": {
      "model_module": "@jupyter-widgets/controls",
      "model_module_version": "1.5.0",
      "model_name": "DropdownModel",
      "state": {
       "_options_labels": [
        "Bedeutung",
        "Wohlgeformtheit",
        " "
       ],
       "index": 1,
       "layout": "IPY_MODEL_43d68005f7224580854fc93531805af6",
       "style": "IPY_MODEL_595efca9028a4f0aa6ee1309c10c9d5d"
      }
     },
     "3298fcf5e5ef4ff1960c17fc60167dbf": {
      "model_module": "@jupyter-widgets/base",
      "model_module_version": "1.2.0",
      "model_name": "LayoutModel",
      "state": {}
     },
     "329aa2acdb544dd49eb4be85299613e4": {
      "model_module": "@jupyter-widgets/controls",
      "model_module_version": "1.5.0",
      "model_name": "HTMLModel",
      "state": {
       "layout": "IPY_MODEL_79e47e24df914407a493dea7f2b988c3",
       "style": "IPY_MODEL_170b9823832343598f902a7cc03d4e0c",
       "value": "<h4 style=\"font-size:14px;\">, aber keine</h4>"
      }
     },
     "32abd1ffb2ab4b1d8f2451ae6131d317": {
      "model_module": "@jupyter-widgets/base",
      "model_module_version": "1.2.0",
      "model_name": "LayoutModel",
      "state": {
       "justify_content": "center"
      }
     },
     "32c918129fde4703a88b1ad23b469b30": {
      "model_module": "@jupyter-widgets/controls",
      "model_module_version": "1.5.0",
      "model_name": "BoxModel",
      "state": {
       "children": [
        "IPY_MODEL_9880d73c143d46518c9e60a8e627dc28",
        "IPY_MODEL_cd2c831e231948dfb4c506c792305630",
        "IPY_MODEL_ed0c3f957ebb47748d1bdf825e3dba4a",
        "IPY_MODEL_92b751faa74a41c4a8647f30e122278b",
        "IPY_MODEL_9023dbd44cd940899ce9dd72ff749aa2"
       ],
       "layout": "IPY_MODEL_e9550df3bbf84933a908933781f72158"
      }
     },
     "32f3755b405441cdb60db13a0de62b69": {
      "model_module": "@jupyter-widgets/base",
      "model_module_version": "1.2.0",
      "model_name": "LayoutModel",
      "state": {
       "width": "600px"
      }
     },
     "3334e11a008a4c78a9a4061bbc51044e": {
      "model_module": "@jupyter-widgets/base",
      "model_module_version": "1.2.0",
      "model_name": "LayoutModel",
      "state": {}
     },
     "33a54545ea7249bd8f7d7b97000b3aaa": {
      "model_module": "@jupyter-widgets/controls",
      "model_module_version": "1.5.0",
      "model_name": "ButtonModel",
      "state": {
       "description": "Keine der anderen Möglichkeiten",
       "layout": "IPY_MODEL_f4a8b462a71a466a857b8097eaae196f",
       "style": "IPY_MODEL_75eb0a0f99244b33b4ec25a6a31c6a02"
      }
     },
     "33e6481830f1414381cdf97524e072a8": {
      "model_module": "@jupyter-widgets/base",
      "model_module_version": "1.2.0",
      "model_name": "LayoutModel",
      "state": {}
     },
     "33f4ba66fc8c47e3bd923b2ea0290c93": {
      "model_module": "@jupyter-widgets/controls",
      "model_module_version": "1.5.0",
      "model_name": "ButtonModel",
      "state": {
       "description": "Adjektiv",
       "layout": "IPY_MODEL_78ce1a251dcc4aaea5ceaa540c53b091",
       "style": "IPY_MODEL_fd7b421d95aa48c497e49904bf12a9de"
      }
     },
     "3405e46db78546128b3a99d01ba5d73d": {
      "model_module": "@jupyter-widgets/controls",
      "model_module_version": "1.5.0",
      "model_name": "DropdownModel",
      "state": {
       "_options_labels": [
        "kürzere",
        "längere",
        " "
       ],
       "index": 2,
       "layout": "IPY_MODEL_0b3a1c4358e24f099b075072fb933ca3",
       "style": "IPY_MODEL_f2356c12a1544d679390c6dbc637f137"
      }
     },
     "34453fe8d4774f22ad5da6ba69c6c2a1": {
      "model_module": "@jupyter-widgets/base",
      "model_module_version": "1.2.0",
      "model_name": "LayoutModel",
      "state": {
       "width": "250px"
      }
     },
     "3457c086bb2540d88e9d4cf66085b83e": {
      "model_module": "@jupyter-widgets/base",
      "model_module_version": "1.2.0",
      "model_name": "LayoutModel",
      "state": {
       "width": "250px"
      }
     },
     "34801d4476ee4c2aa4058121a4102699": {
      "model_module": "@jupyter-widgets/base",
      "model_module_version": "1.2.0",
      "model_name": "LayoutModel",
      "state": {}
     },
     "34ae6fd6d6124f03839654bea5a9ce0d": {
      "model_module": "@jupyter-widgets/base",
      "model_module_version": "1.2.0",
      "model_name": "LayoutModel",
      "state": {
       "width": "150px"
      }
     },
     "34b613dfc39c4f70baaa650ece56c382": {
      "model_module": "@jupyter-widgets/base",
      "model_module_version": "1.2.0",
      "model_name": "LayoutModel",
      "state": {}
     },
     "34d5ec74f45c475d92d2e659f48cca33": {
      "model_module": "@jupyter-widgets/controls",
      "model_module_version": "1.5.0",
      "model_name": "DescriptionStyleModel",
      "state": {
       "description_width": ""
      }
     },
     "34d80990818a4937b5a405139994eb9e": {
      "model_module": "@jupyter-widgets/controls",
      "model_module_version": "1.5.0",
      "model_name": "CheckboxModel",
      "state": {
       "description": "Zu einem Wort werden alle Synonyme gefunden.",
       "disabled": false,
       "layout": "IPY_MODEL_cd25f56014354a55bc78b737a68b8acd",
       "style": "IPY_MODEL_11605bf0dcc14acab2dcb80f543096b8",
       "value": false
      }
     },
     "34f96e7636ea4384aa47f0cbc075c2b8": {
      "model_module": "@jupyter-widgets/controls",
      "model_module_version": "1.5.0",
      "model_name": "VBoxModel",
      "state": {
       "children": [
        "IPY_MODEL_2c3b3a4ed9b146dcb3625c72515f5abd",
        "IPY_MODEL_5ab83a72917140719172b18ef07f5cc5",
        "IPY_MODEL_5aba60e6980c4326a095bd039bb0c79c"
       ],
       "layout": "IPY_MODEL_aa3680454fd14048a824846ac31abf24"
      }
     },
     "353a95acff3c4f24b83d6e6e15508c87": {
      "model_module": "@jupyter-widgets/controls",
      "model_module_version": "1.5.0",
      "model_name": "DescriptionStyleModel",
      "state": {
       "description_width": ""
      }
     },
     "35706ab9799b4ab4ae53ffc8e0d01e39": {
      "model_module": "@jupyter-widgets/controls",
      "model_module_version": "1.5.0",
      "model_name": "DescriptionStyleModel",
      "state": {
       "description_width": "initial"
      }
     },
     "35ad6614eded4b41a07d6b44ed58d4ed": {
      "model_module": "@jupyter-widgets/controls",
      "model_module_version": "1.5.0",
      "model_name": "DropdownModel",
      "state": {
       "_options_labels": [
        "gleichartige",
        "unterschiedliche",
        " "
       ],
       "index": 2,
       "layout": "IPY_MODEL_58c5db830d96440abb7d3dfac4a89d43",
       "style": "IPY_MODEL_4ba4b0d9d41d4054a358e22e95e2edc8"
      }
     },
     "35ca5be83796419590efdc5869432e13": {
      "model_module": "@jupyter-widgets/base",
      "model_module_version": "1.2.0",
      "model_name": "LayoutModel",
      "state": {}
     },
     "35d26be7bbe94d2da0bf09a35181febe": {
      "model_module": "@jupyter-widgets/controls",
      "model_module_version": "1.5.0",
      "model_name": "DescriptionStyleModel",
      "state": {
       "description_width": "initial"
      }
     },
     "364d092654eb4b86b5c000a20489ea6c": {
      "model_module": "@jupyter-widgets/base",
      "model_module_version": "1.2.0",
      "model_name": "LayoutModel",
      "state": {}
     },
     "36b3dbac531741879a298e49088f20e0": {
      "model_module": "@jupyter-widgets/base",
      "model_module_version": "1.2.0",
      "model_name": "LayoutModel",
      "state": {}
     },
     "36bf30aef87d4e9996797dfa4ec8981f": {
      "model_module": "@jupyter-widgets/base",
      "model_module_version": "1.2.0",
      "model_name": "LayoutModel",
      "state": {
       "width": "150px"
      }
     },
     "36edc0ce551c47e89e6bd12b3bc0859a": {
      "model_module": "@jupyter-widgets/base",
      "model_module_version": "1.2.0",
      "model_name": "LayoutModel",
      "state": {
       "width": "250px"
      }
     },
     "3754332a2be9466c8b8af4560efcb81d": {
      "model_module": "@jupyter-widgets/base",
      "model_module_version": "1.2.0",
      "model_name": "LayoutModel",
      "state": {}
     },
     "3761b3c38e744ce4966d67848dded55f": {
      "model_module": "@jupyter-widgets/controls",
      "model_module_version": "1.5.0",
      "model_name": "ButtonModel",
      "state": {
       "description": "Richtig!",
       "layout": "IPY_MODEL_d2013bc73d78423e90078ecdff95f3d7",
       "style": "IPY_MODEL_4838048176e944e696fc8875eafada06"
      }
     },
     "376deeb81cdc407fab2ea984afd8e964": {
      "model_module": "@jupyter-widgets/controls",
      "model_module_version": "1.5.0",
      "model_name": "VBoxModel",
      "state": {
       "children": [
        "IPY_MODEL_0ea63963004d4b1da242343e4cca7b1c",
        "IPY_MODEL_59610e6633d4414c9b056da87f8b7526",
        "IPY_MODEL_449ac54d72ae4c6195b94faef8f30618",
        "IPY_MODEL_199c56a9546b461c8551a4684970897a"
       ],
       "layout": "IPY_MODEL_5594824deb2e4d2599b017a1be528535"
      }
     },
     "3771cc9db62a4f3fa0ec2017fd7f82c8": {
      "model_module": "@jupyter-widgets/controls",
      "model_module_version": "1.5.0",
      "model_name": "DescriptionStyleModel",
      "state": {
       "description_width": ""
      }
     },
     "37945fdcf19848f1b41ab260f449e6c6": {
      "model_module": "@jupyter-widgets/base",
      "model_module_version": "1.2.0",
      "model_name": "LayoutModel",
      "state": {
       "width": "150px"
      }
     },
     "37d4fc95c8b84d578d6364b7f1b3f325": {
      "model_module": "@jupyter-widgets/controls",
      "model_module_version": "1.5.0",
      "model_name": "DescriptionStyleModel",
      "state": {
       "description_width": ""
      }
     },
     "3821d89d3d354cbb964764a5268c1837": {
      "model_module": "@jupyter-widgets/controls",
      "model_module_version": "1.5.0",
      "model_name": "ButtonStyleModel",
      "state": {}
     },
     "38391be0fdf24facae66d37d2bbdc672": {
      "model_module": "@jupyter-widgets/base",
      "model_module_version": "1.2.0",
      "model_name": "LayoutModel",
      "state": {
       "width": "250px"
      }
     },
     "3896d8e730f745169209c7482d2f59e2": {
      "model_module": "@jupyter-widgets/base",
      "model_module_version": "1.2.0",
      "model_name": "LayoutModel",
      "state": {}
     },
     "38b8cfc3b569477d9dbe963304a42154": {
      "model_module": "@jupyter-widgets/controls",
      "model_module_version": "1.5.0",
      "model_name": "DescriptionStyleModel",
      "state": {
       "description_width": ""
      }
     },
     "38e6267eb1d9440ab1e88f9a6d7a7f94": {
      "model_module": "@jupyter-widgets/base",
      "model_module_version": "1.2.0",
      "model_name": "LayoutModel",
      "state": {
       "width": "150px"
      }
     },
     "3946f6ab2d4c4bd19527decc781640c6": {
      "model_module": "@jupyter-widgets/base",
      "model_module_version": "1.2.0",
      "model_name": "LayoutModel",
      "state": {}
     },
     "39488c1e81794e15953fb50ab2139866": {
      "model_module": "@jupyter-widgets/base",
      "model_module_version": "1.2.0",
      "model_name": "LayoutModel",
      "state": {
       "width": "600px"
      }
     },
     "395d32d1779d43d8ab0e431726a004b5": {
      "model_module": "@jupyter-widgets/controls",
      "model_module_version": "1.5.0",
      "model_name": "HBoxModel",
      "state": {
       "children": [
        "IPY_MODEL_eb86a12e6b2b407d971f1fffbf54f535"
       ],
       "layout": "IPY_MODEL_e9d8f83966f348acb4c5314948d4039e"
      }
     },
     "395da1cf276d415dafc6ffebcd3a6cc5": {
      "model_module": "@jupyter-widgets/controls",
      "model_module_version": "1.5.0",
      "model_name": "HTMLModel",
      "state": {
       "layout": "IPY_MODEL_fcc57f97404a4ae4aa4a1e52ffa9b5a8",
       "style": "IPY_MODEL_e7a9de34d45042eab69dd26258863df2",
       "value": "<h4 style=\"font-size:14px;\">-Tupel von</h4>"
      }
     },
     "3981a33ff0c74e0e863aea9d68a3fd43": {
      "model_module": "@jupyter-widgets/controls",
      "model_module_version": "1.5.0",
      "model_name": "CheckboxModel",
      "state": {
       "description": "Mit einem Schritt beginnt eine Reise von tausend Meilen auch nur.",
       "disabled": false,
       "layout": "IPY_MODEL_fc80414d74ce4a919de1d70f7897f7bf",
       "style": "IPY_MODEL_9d2f2648709c429d817545af135a1a46",
       "value": false
      }
     },
     "399b666422a349528f2c2f2c5cc3cd09": {
      "model_module": "@jupyter-widgets/controls",
      "model_module_version": "1.5.0",
      "model_name": "ButtonStyleModel",
      "state": {}
     },
     "39b0421360084f72836dcc33ae526dec": {
      "model_module": "@jupyter-widgets/controls",
      "model_module_version": "1.5.0",
      "model_name": "CheckboxModel",
      "state": {
       "description": "Eliminierungstest",
       "disabled": false,
       "layout": "IPY_MODEL_28d1edea810746ec8007277b06b928f2",
       "style": "IPY_MODEL_6a877492587a47ef9329e26078a062b4",
       "value": true
      }
     },
     "39b2c55ae8ea4db8ae53f94598c0c16e": {
      "model_module": "@jupyter-widgets/controls",
      "model_module_version": "1.5.0",
      "model_name": "ButtonStyleModel",
      "state": {
       "button_color": "lightgreen"
      }
     },
     "3a026258f9f84759a93aa5ab8c8485b3": {
      "model_module": "@jupyter-widgets/controls",
      "model_module_version": "1.5.0",
      "model_name": "HTMLModel",
      "state": {
       "layout": "IPY_MODEL_2d657727e8da493da30f42421684d511",
       "style": "IPY_MODEL_b06fd71e182f4d9291bc91624f4b639c",
       "value": "<h4 style=\"font-size:14px;\">Welche Wortart folgt damit für das Wort <i>gut</i> in Satz 2?</h4>"
      }
     },
     "3a07d9918b2345f398fd7698200b3241": {
      "model_module": "@jupyter-widgets/controls",
      "model_module_version": "1.5.0",
      "model_name": "DropdownModel",
      "state": {
       "_options_labels": [
        "'ADJ'",
        "'DET'",
        "'NOUN'",
        " "
       ],
       "index": 2,
       "layout": "IPY_MODEL_c753f9bc35d94c899b053c1476baad99",
       "style": "IPY_MODEL_ba762deab358469986a14f73b413ca11"
      }
     },
     "3a298a8d280b470bbc8a37af0a8dd9a8": {
      "model_module": "@jupyter-widgets/controls",
      "model_module_version": "1.5.0",
      "model_name": "ButtonModel",
      "state": {
       "description": "Korrekt?",
       "layout": "IPY_MODEL_9b61d9fe74064bb2b9aa68c980c39c7b",
       "style": "IPY_MODEL_0b6525ffca6e465b8ce7475a5efa5721"
      }
     },
     "3a465b087297488f8f89985643b4b8e7": {
      "model_module": "@jupyter-widgets/controls",
      "model_module_version": "1.5.0",
      "model_name": "DescriptionStyleModel",
      "state": {
       "description_width": ""
      }
     },
     "3a6aeab6252a48878b4b79c8721c329e": {
      "model_module": "@jupyter-widgets/base",
      "model_module_version": "1.2.0",
      "model_name": "LayoutModel",
      "state": {}
     },
     "3a7ec033e3a0473ba03178aef7fdd675": {
      "model_module": "@jupyter-widgets/base",
      "model_module_version": "1.2.0",
      "model_name": "LayoutModel",
      "state": {
       "width": "150px"
      }
     },
     "3abf8191c5be42d59b4ab7c7791d884f": {
      "model_module": "@jupyter-widgets/controls",
      "model_module_version": "1.5.0",
      "model_name": "ButtonModel",
      "state": {
       "description": "Korrekt?",
       "layout": "IPY_MODEL_3c0753e036ee4a3897ccd9f5b4bb0643",
       "style": "IPY_MODEL_531e7f46c0c04a5892ea94e4e3f29d4f"
      }
     },
     "3ac969247d864e49adef8e6b79f62d7e": {
      "model_module": "@jupyter-widgets/controls",
      "model_module_version": "1.5.0",
      "model_name": "VBoxModel",
      "state": {
       "children": [
        "IPY_MODEL_534a4306607149caa29cf369703d392f",
        "IPY_MODEL_fa258764db054150b090525471fc682a",
        "IPY_MODEL_c48751a5a23145b29e1d7380842afcdf",
        "IPY_MODEL_2bbdfcb7975347e6bddbff8b9864e71e"
       ],
       "layout": "IPY_MODEL_136e9deb2531442e83c32974ad9c631b"
      }
     },
     "3af5f0dafdd24859bb95d2b22bfaaa41": {
      "model_module": "@jupyter-widgets/controls",
      "model_module_version": "1.5.0",
      "model_name": "DescriptionStyleModel",
      "state": {
       "description_width": ""
      }
     },
     "3b170fde1bef44d78b9103bfe2fae383": {
      "model_module": "@jupyter-widgets/base",
      "model_module_version": "1.2.0",
      "model_name": "LayoutModel",
      "state": {
       "width": "250px"
      }
     },
     "3b674afe9a5b4a44b63cb464164b8251": {
      "model_module": "@jupyter-widgets/controls",
      "model_module_version": "1.5.0",
      "model_name": "ButtonStyleModel",
      "state": {}
     },
     "3b829a817cba48dca839a7ddbdfb938b": {
      "model_module": "@jupyter-widgets/base",
      "model_module_version": "1.2.0",
      "model_name": "LayoutModel",
      "state": {}
     },
     "3b95d14484764aabb4170af2a62fb0f3": {
      "model_module": "@jupyter-widgets/base",
      "model_module_version": "1.2.0",
      "model_name": "LayoutModel",
      "state": {
       "width": "600px"
      }
     },
     "3b998f7211184a92842cb55f9d4a75c7": {
      "model_module": "@jupyter-widgets/controls",
      "model_module_version": "1.5.0",
      "model_name": "DescriptionStyleModel",
      "state": {
       "description_width": ""
      }
     },
     "3ba72ea16764416ebcedcdc4fa9726c6": {
      "model_module": "@jupyter-widgets/controls",
      "model_module_version": "1.5.0",
      "model_name": "ButtonStyleModel",
      "state": {}
     },
     "3bb5628bc34e48e9a990a76b4533e053": {
      "model_module": "@jupyter-widgets/controls",
      "model_module_version": "1.5.0",
      "model_name": "VBoxModel",
      "state": {
       "children": [
        "IPY_MODEL_979e5fd03ffe4728a1ee6a44b08bbf22",
        "IPY_MODEL_f2e3913e07864fee8622b8d01103bc5e",
        "IPY_MODEL_5f8373a2160a410e868377bdf13b196e",
        "IPY_MODEL_48a9d1a2fb324b85bafed0319f1b3584"
       ],
       "layout": "IPY_MODEL_2e3457d9ddaf4546821adbc57469d20f"
      }
     },
     "3c0753e036ee4a3897ccd9f5b4bb0643": {
      "model_module": "@jupyter-widgets/base",
      "model_module_version": "1.2.0",
      "model_name": "LayoutModel",
      "state": {
       "width": "250px"
      }
     },
     "3c4963cd3c90478bbe2e3b7087b066da": {
      "model_module": "@jupyter-widgets/controls",
      "model_module_version": "1.5.0",
      "model_name": "HTMLModel",
      "state": {
       "layout": "IPY_MODEL_e075cc6ad04e4f66b847ad82e975e05e",
       "style": "IPY_MODEL_7af037262025430f97a1e7e0a68ec973",
       "value": "<i>Wählen Sie die <ins>eine</ins> korrekte Antwort aus: </i>"
      }
     },
     "3cbd271d9d654b06a0269cb09ee0cf23": {
      "model_module": "@jupyter-widgets/base",
      "model_module_version": "1.2.0",
      "model_name": "LayoutModel",
      "state": {
       "width": "600px"
      }
     },
     "3d25e9a9f97d4d588cfc1d9ec3f1ab1a": {
      "model_module": "@jupyter-widgets/base",
      "model_module_version": "1.2.0",
      "model_name": "LayoutModel",
      "state": {
       "width": "250px"
      }
     },
     "3d7a9d7c9c94486a9cf2e2926fbcfe33": {
      "model_module": "@jupyter-widgets/base",
      "model_module_version": "1.2.0",
      "model_name": "LayoutModel",
      "state": {
       "width": "250px"
      }
     },
     "3da7991686984d9592ff8f19b47fd6eb": {
      "model_module": "@jupyter-widgets/controls",
      "model_module_version": "1.5.0",
      "model_name": "HTMLModel",
      "state": {
       "layout": "IPY_MODEL_2a9cf9fffa4048428e22f5ed9fb77e0e",
       "style": "IPY_MODEL_11ab53bd972f460889af0f6af98036cd",
       "value": "<h4 style=\"font-size:14px;\">Was bedeutet das Tag <i>VBD</i> im Browntagset (siehe 5.7)?</h4>"
      }
     },
     "3db7930fb5624727ad1c6fac79eabd04": {
      "model_module": "@jupyter-widgets/controls",
      "model_module_version": "1.5.0",
      "model_name": "HBoxModel",
      "state": {
       "children": [
        "IPY_MODEL_998b838039b049ae9300bdf1747d931e",
        "IPY_MODEL_9b3391f5566f44c2b9eca8112d472bf9"
       ],
       "layout": "IPY_MODEL_230667e4a748475b95214d69fead5879"
      }
     },
     "3dc27f89089b4c66942dec14ed8a0bf8": {
      "model_module": "@jupyter-widgets/controls",
      "model_module_version": "1.5.0",
      "model_name": "ButtonModel",
      "state": {
       "description": "base",
       "layout": "IPY_MODEL_052d35dfa45943eda988e555798111db",
       "style": "IPY_MODEL_1ab82a6014494a06b18e10888ebd0c89"
      }
     },
     "3ddd34984ad849d386a54ed2510ed76f": {
      "model_module": "@jupyter-widgets/controls",
      "model_module_version": "1.5.0",
      "model_name": "DescriptionStyleModel",
      "state": {
       "description_width": "initial"
      }
     },
     "3dea950a5d314322af97f6e4ef798d66": {
      "model_module": "@jupyter-widgets/base",
      "model_module_version": "1.2.0",
      "model_name": "LayoutModel",
      "state": {}
     },
     "3e2233f1b76b4635b0f844a5cb0795ba": {
      "model_module": "@jupyter-widgets/base",
      "model_module_version": "1.2.0",
      "model_name": "LayoutModel",
      "state": {}
     },
     "3e81ac108081489daf61d5c01b407480": {
      "model_module": "@jupyter-widgets/controls",
      "model_module_version": "1.5.0",
      "model_name": "DescriptionStyleModel",
      "state": {
       "description_width": ""
      }
     },
     "3e9db15ac10c48808e314436d840be29": {
      "model_module": "@jupyter-widgets/controls",
      "model_module_version": "1.5.0",
      "model_name": "DescriptionStyleModel",
      "state": {
       "description_width": ""
      }
     },
     "3eac4fede4574455ad5aba07b44ac52b": {
      "model_module": "@jupyter-widgets/controls",
      "model_module_version": "1.5.0",
      "model_name": "DescriptionStyleModel",
      "state": {
       "description_width": ""
      }
     },
     "3eb11065e09541f9bf2f8b848b293616": {
      "model_module": "@jupyter-widgets/controls",
      "model_module_version": "1.5.0",
      "model_name": "BoxModel",
      "state": {
       "children": [
        "IPY_MODEL_8194ebc23e9e47f9b721f03a7e1ddd10",
        "IPY_MODEL_f886963f201446488e5eb12b85ab98b4",
        "IPY_MODEL_e15f4079defd4624932761c7c3dcb43b",
        "IPY_MODEL_0aae4e2e597a4865bf3cccfa84ba4c42",
        "IPY_MODEL_400b5da948924f6cb68406dd0d4b429e",
        "IPY_MODEL_85775aea5c81478dbcd3057f548fb4c5",
        "IPY_MODEL_d06e48f5ae014667b3f9d8d36af87e72",
        "IPY_MODEL_c706c565bbea4088b1207b6b7db584b9",
        "IPY_MODEL_8850193be9de43b99894439f36c3d5a5",
        "IPY_MODEL_00eb1f875a7444f88ef4db5034ca077a",
        "IPY_MODEL_8bdfeaeee5614269b023f97f14b0f30e",
        "IPY_MODEL_bb4027a69d16450185d1bae3c01fa891",
        "IPY_MODEL_63be157acfa140fe9e3511b475a3133a"
       ],
       "layout": "IPY_MODEL_138150f9bdb1422ab8882f7ce5a87120"
      }
     },
     "3eb63d9e230342f688e3c255daeb9b85": {
      "model_module": "@jupyter-widgets/base",
      "model_module_version": "1.2.0",
      "model_name": "LayoutModel",
      "state": {
       "width": "250px"
      }
     },
     "3f1c505002f446b6b293e284883bc16f": {
      "model_module": "@jupyter-widgets/controls",
      "model_module_version": "1.5.0",
      "model_name": "ButtonStyleModel",
      "state": {
       "button_color": "lightgreen"
      }
     },
     "3f340eb4fc2b45d8a5d2780fb3fad2d4": {
      "model_module": "@jupyter-widgets/base",
      "model_module_version": "1.2.0",
      "model_name": "LayoutModel",
      "state": {}
     },
     "3f959fb3fbca4745bd51eb3767ed75b5": {
      "model_module": "@jupyter-widgets/controls",
      "model_module_version": "1.5.0",
      "model_name": "HBoxModel",
      "state": {
       "children": [
        "IPY_MODEL_93819562e9b44a77a069a42d8894df27",
        "IPY_MODEL_6439fcf2faaa461d913ae9e1a700220d"
       ],
       "layout": "IPY_MODEL_90bf61c08693408eaab23984a60e12c4"
      }
     },
     "3f9aa0d571ee40049f81513481fab8c3": {
      "model_module": "@jupyter-widgets/base",
      "model_module_version": "1.2.0",
      "model_name": "LayoutModel",
      "state": {
       "width": "600px"
      }
     },
     "3fc57cd660774977a39fee85fa95e775": {
      "model_module": "@jupyter-widgets/base",
      "model_module_version": "1.2.0",
      "model_name": "LayoutModel",
      "state": {
       "width": "250px"
      }
     },
     "40046ec08fe7413caee18180f4da2838": {
      "model_module": "@jupyter-widgets/controls",
      "model_module_version": "1.5.0",
      "model_name": "CheckboxModel",
      "state": {
       "description": "Es fungiert als Satzglied mit der syntaktischen Funktion Adverbial.",
       "disabled": false,
       "layout": "IPY_MODEL_805e25e260484602a4c99cebd8bff16b",
       "style": "IPY_MODEL_279e877234db43ed877a786098e641b4",
       "value": true
      }
     },
     "400b5da948924f6cb68406dd0d4b429e": {
      "model_module": "@jupyter-widgets/controls",
      "model_module_version": "1.5.0",
      "model_name": "HTMLModel",
      "state": {
       "layout": "IPY_MODEL_9d5aeda250ae4dfab20430a98016b60d",
       "style": "IPY_MODEL_e754920615624dc3835141909edd9ada",
       "value": "<h4 style=\"font-size:14px;\">. Es gehört zu einer komplexen</h4>"
      }
     },
     "4020f24d3e80444cbecf959d6496d25d": {
      "model_module": "@jupyter-widgets/controls",
      "model_module_version": "1.5.0",
      "model_name": "VBoxModel",
      "state": {
       "children": [
        "IPY_MODEL_c2799fdddcb84d11b4f4d7371acb13f3",
        "IPY_MODEL_1eee6b30848d4175b4c74ce8a0bb3ad4",
        "IPY_MODEL_b09ea526abfd4b388ff8be9c6ea5c510"
       ],
       "layout": "IPY_MODEL_33e6481830f1414381cdf97524e072a8"
      }
     },
     "40266337097c4ff38d52bb3e55b38f94": {
      "model_module": "@jupyter-widgets/controls",
      "model_module_version": "1.5.0",
      "model_name": "VBoxModel",
      "state": {
       "children": [
        "IPY_MODEL_ac282cef3da7415c9bd32da62d45a684",
        "IPY_MODEL_9516dc01f1f24c889ecd4c517d2ef34d",
        "IPY_MODEL_6211d3b51c374cdba8641c8585a797fa",
        "IPY_MODEL_94746249441944fb8790e6693532c28f"
       ],
       "layout": "IPY_MODEL_6ffbb2d6a34240c6bb478c83fc32a3c7"
      }
     },
     "402ceea71eb44a45b7567fbf4f0330c9": {
      "model_module": "@jupyter-widgets/base",
      "model_module_version": "1.2.0",
      "model_name": "LayoutModel",
      "state": {
       "width": "600px"
      }
     },
     "408849cee9dd4f35a32f1af8c6613983": {
      "model_module": "@jupyter-widgets/controls",
      "model_module_version": "1.5.0",
      "model_name": "ButtonStyleModel",
      "state": {}
     },
     "411f47a5732f4b9ea81cde8578e0a961": {
      "model_module": "@jupyter-widgets/base",
      "model_module_version": "1.2.0",
      "model_name": "LayoutModel",
      "state": {
       "justify_content": "center"
      }
     },
     "4135eaad379545439325069112fede72": {
      "model_module": "@jupyter-widgets/controls",
      "model_module_version": "1.5.0",
      "model_name": "DescriptionStyleModel",
      "state": {
       "description_width": ""
      }
     },
     "4141abd042bd40fdaedb820636146847": {
      "model_module": "@jupyter-widgets/base",
      "model_module_version": "1.2.0",
      "model_name": "LayoutModel",
      "state": {
       "width": "150px"
      }
     },
     "415c2e1fd1374bd58d9c80ee4cdc439d": {
      "model_module": "@jupyter-widgets/controls",
      "model_module_version": "1.5.0",
      "model_name": "DescriptionStyleModel",
      "state": {
       "description_width": "initial"
      }
     },
     "41dd79fb980a442baaad21385e36c97a": {
      "model_module": "@jupyter-widgets/controls",
      "model_module_version": "1.5.0",
      "model_name": "DescriptionStyleModel",
      "state": {
       "description_width": ""
      }
     },
     "41e6946b6b0b48adaac969f2f6c72724": {
      "model_module": "@jupyter-widgets/base",
      "model_module_version": "1.2.0",
      "model_name": "LayoutModel",
      "state": {}
     },
     "41ef9c9f39694d919738e0f397e01687": {
      "model_module": "@jupyter-widgets/controls",
      "model_module_version": "1.5.0",
      "model_name": "DescriptionStyleModel",
      "state": {
       "description_width": "initial"
      }
     },
     "4298f24d91334c26bfaa89dc82dad655": {
      "model_module": "@jupyter-widgets/controls",
      "model_module_version": "1.5.0",
      "model_name": "CheckboxModel",
      "state": {
       "description": "gleiche syntagmatische Position",
       "disabled": false,
       "layout": "IPY_MODEL_1451136d2ebd4833ade384dc0db20836",
       "style": "IPY_MODEL_fd42729f91ed4898bc5690025df2d996",
       "value": true
      }
     },
     "42a8f8eff1cb43df963ca454d8a14533": {
      "model_module": "@jupyter-widgets/controls",
      "model_module_version": "1.5.0",
      "model_name": "ButtonStyleModel",
      "state": {}
     },
     "430578908e8b4a5c80b4cd850566eb42": {
      "model_module": "@jupyter-widgets/base",
      "model_module_version": "1.2.0",
      "model_name": "LayoutModel",
      "state": {
       "width": "250px"
      }
     },
     "43219290e0d74430b24f6e5e49ceb323": {
      "model_module": "@jupyter-widgets/controls",
      "model_module_version": "1.5.0",
      "model_name": "DropdownModel",
      "state": {
       "_options_labels": [
        "Bedeutung",
        "Wohlgeformtheit",
        " "
       ],
       "index": 1,
       "layout": "IPY_MODEL_20ca0a717bab480bbf69882c7c16a02f",
       "style": "IPY_MODEL_933e55a05f104d0f80b5224c207e7de9"
      }
     },
     "433ba766a9c342c4ab2698347120f937": {
      "model_module": "@jupyter-widgets/base",
      "model_module_version": "1.2.0",
      "model_name": "LayoutModel",
      "state": {
       "width": "250px"
      }
     },
     "43488789e1d7406b85b5a3bcbf540345": {
      "model_module": "@jupyter-widgets/controls",
      "model_module_version": "1.5.0",
      "model_name": "ButtonModel",
      "state": {
       "description": "Wortfolge",
       "layout": "IPY_MODEL_f0f8479eadca48aebebe50bfc48dbaaa",
       "style": "IPY_MODEL_3821d89d3d354cbb964764a5268c1837"
      }
     },
     "439c609b37284405af4bbb18d1bf3ede": {
      "model_module": "@jupyter-widgets/base",
      "model_module_version": "1.2.0",
      "model_name": "LayoutModel",
      "state": {}
     },
     "43a11c733d4549729ad36f976e3b4fcd": {
      "model_module": "@jupyter-widgets/controls",
      "model_module_version": "1.5.0",
      "model_name": "HTMLModel",
      "state": {
       "layout": "IPY_MODEL_09c7d91845994e8f870b30eb215444b2",
       "style": "IPY_MODEL_82a7b469dbf34c67a525f187177327a2",
       "value": "<i>Wählen Sie die <ins>eine</ins> korrekte Antwort aus: </i>"
      }
     },
     "43d68005f7224580854fc93531805af6": {
      "model_module": "@jupyter-widgets/base",
      "model_module_version": "1.2.0",
      "model_name": "LayoutModel",
      "state": {
       "width": "150px"
      }
     },
     "43e7cfd185394a2c949920f3cb6eb243": {
      "model_module": "@jupyter-widgets/base",
      "model_module_version": "1.2.0",
      "model_name": "LayoutModel",
      "state": {
       "width": "600px"
      }
     },
     "4422abf3cd7746c190eb06efd18e49c2": {
      "model_module": "@jupyter-widgets/controls",
      "model_module_version": "1.5.0",
      "model_name": "CheckboxModel",
      "state": {
       "description": "Nur mit beginnt eine Reise von tausend Meilen auch einem Schritt.",
       "disabled": false,
       "layout": "IPY_MODEL_fd14a3cb5f92467b8837399131acf000",
       "style": "IPY_MODEL_30a7f531ae9540f989b395a59dacb8ba",
       "value": false
      }
     },
     "444efd3e96954edd9d27a80335e02c71": {
      "model_module": "@jupyter-widgets/controls",
      "model_module_version": "1.5.0",
      "model_name": "DescriptionStyleModel",
      "state": {
       "description_width": ""
      }
     },
     "449ac54d72ae4c6195b94faef8f30618": {
      "model_module": "@jupyter-widgets/controls",
      "model_module_version": "1.5.0",
      "model_name": "VBoxModel",
      "state": {
       "children": [
        "IPY_MODEL_03deabd576c2416593ae7344fc1226c7",
        "IPY_MODEL_989bb301891c460ab841b74ebe62865c",
        "IPY_MODEL_f2e07464d0a840f48e86e5db8ec3a841",
        "IPY_MODEL_b3e77465379a4aea9b2c0dc0009ac3fd"
       ],
       "layout": "IPY_MODEL_b8bd26d65b8449e79d5f75aea2e74bee"
      }
     },
     "455946b56c33464ba2c4dfd133b2307d": {
      "model_module": "@jupyter-widgets/base",
      "model_module_version": "1.2.0",
      "model_name": "LayoutModel",
      "state": {}
     },
     "45af35e213d042d7a9735ac5a8a79d4f": {
      "model_module": "@jupyter-widgets/controls",
      "model_module_version": "1.5.0",
      "model_name": "DescriptionStyleModel",
      "state": {
       "description_width": ""
      }
     },
     "45fe5038c25b4b12a0017b6338d7dff5": {
      "model_module": "@jupyter-widgets/base",
      "model_module_version": "1.2.0",
      "model_name": "LayoutModel",
      "state": {
       "width": "600px"
      }
     },
     "46025779522a4ffba94bd12bf5025303": {
      "model_module": "@jupyter-widgets/controls",
      "model_module_version": "1.5.0",
      "model_name": "HBoxModel",
      "state": {
       "children": [
        "IPY_MODEL_d55697c996904221ad150e527a14e15c",
        "IPY_MODEL_52f8be7318264801b8b070c187e5ad25"
       ],
       "layout": "IPY_MODEL_7f6086a946af4b6eaeb99e7d7f5e8476"
      }
     },
     "466d6700bd6a43a89bff8d5ad5d96df8": {
      "model_module": "@jupyter-widgets/controls",
      "model_module_version": "1.5.0",
      "model_name": "HTMLModel",
      "state": {
       "layout": "IPY_MODEL_257a69dbb03640a890c8c253e14331bb",
       "style": "IPY_MODEL_f43b82e7875d44ed989e378776eb0cde",
       "value": "<h4 style=\"font-size:14px;\">trägt. Das Ergebnis sind die häufigsten zweistelligen syntaktischen Muster des Englischen mit NOUN als rechtem Kontext, nämlich NOUN+NOUN, DET+NOUN und ADJ+NOUN; diese Ergebnisse geben Hinweis auf die NP-</h4>"
      }
     },
     "469a6c9136a6452bb8b5954ab18213af": {
      "model_module": "@jupyter-widgets/base",
      "model_module_version": "1.2.0",
      "model_name": "LayoutModel",
      "state": {}
     },
     "46a3c235f0104d53aa58bf23ed7fbdd6": {
      "model_module": "@jupyter-widgets/controls",
      "model_module_version": "1.5.0",
      "model_name": "ButtonStyleModel",
      "state": {}
     },
     "46c89f834d4146278ab93d720bbf877b": {
      "model_module": "@jupyter-widgets/base",
      "model_module_version": "1.2.0",
      "model_name": "LayoutModel",
      "state": {}
     },
     "46fb4f5414e64daabc00044d7cb59327": {
      "model_module": "@jupyter-widgets/controls",
      "model_module_version": "1.5.0",
      "model_name": "ButtonStyleModel",
      "state": {}
     },
     "4700eac2968843308d0208f949058863": {
      "model_module": "@jupyter-widgets/controls",
      "model_module_version": "1.5.0",
      "model_name": "ButtonStyleModel",
      "state": {}
     },
     "474510d9a91443d79227ea88accbf7bb": {
      "model_module": "@jupyter-widgets/controls",
      "model_module_version": "1.5.0",
      "model_name": "TextareaModel",
      "state": {
       "disabled": true,
       "layout": "IPY_MODEL_fd366efc3fdb40a0aa10bc2c0d3b50f9",
       "placeholder": "Type something",
       "style": "IPY_MODEL_8240ab534e494aaf8931b8ccb7307f64",
       "value": "nltk.pos_tag()"
      }
     },
     "47874da4e3f44df8ac67c0fd4026177a": {
      "model_module": "@jupyter-widgets/controls",
      "model_module_version": "1.5.0",
      "model_name": "CheckboxModel",
      "state": {
       "description": "Koordinationstest",
       "disabled": false,
       "layout": "IPY_MODEL_7a2f2d25a8bf487b877a3af10f0bffe2",
       "style": "IPY_MODEL_1328d77120d049c18126ae493f98e8e7",
       "value": false
      }
     },
     "479e0b6b401c4f49bc9aeeedbc919cae": {
      "model_module": "@jupyter-widgets/base",
      "model_module_version": "1.2.0",
      "model_name": "LayoutModel",
      "state": {
       "width": "150px"
      }
     },
     "47a1b013ba564919ade32498c786fab8": {
      "model_module": "@jupyter-widgets/controls",
      "model_module_version": "1.5.0",
      "model_name": "ButtonModel",
      "state": {
       "description": "Wortfolge",
       "layout": "IPY_MODEL_3d7a9d7c9c94486a9cf2e2926fbcfe33",
       "style": "IPY_MODEL_ccb78bf0c7e24afd910e990e03d48812"
      }
     },
     "47e6f463fa2c4ce0856dcbf183e43d42": {
      "model_module": "@jupyter-widgets/controls",
      "model_module_version": "1.5.0",
      "model_name": "HTMLModel",
      "state": {
       "layout": "IPY_MODEL_ab2ca29f7e6941aca82487c424fce517",
       "style": "IPY_MODEL_de52b2df1cb24e8a9f63cad94b757d69",
       "value": "<h4 style=\"font-size:14px;\">-Tupeln aus einem englischen Korpus erstellt. Zeile 2 und 3 dienen der Erzeugung einer Frequenzliste von POS-Tags derjenigen Bigramme, deren zweites Element das POS-Tag</h4>"
      }
     },
     "47f2b10aa9ca4f9aa61d4723054b6b63": {
      "model_module": "@jupyter-widgets/controls",
      "model_module_version": "1.5.0",
      "model_name": "DescriptionStyleModel",
      "state": {
       "description_width": ""
      }
     },
     "4800749c8b4d40b48a26629653883057": {
      "model_module": "@jupyter-widgets/controls",
      "model_module_version": "1.5.0",
      "model_name": "HTMLModel",
      "state": {
       "layout": "IPY_MODEL_a840bdbaef0448bdb6b26d742d1ae2b8",
       "style": "IPY_MODEL_fc481b5a74c543c68a43cd799c979960",
       "value": "<h4 style=\"font-size:14px;\"><i>Eine Reise beginnt auch nur mit einem Schritt.</i><br>Welche Tests wurden angewandt?</h4>"
      }
     },
     "4838048176e944e696fc8875eafada06": {
      "model_module": "@jupyter-widgets/controls",
      "model_module_version": "1.5.0",
      "model_name": "ButtonStyleModel",
      "state": {
       "button_color": "lightgreen"
      }
     },
     "48629eaf2a6044288134c78380037b21": {
      "model_module": "@jupyter-widgets/base",
      "model_module_version": "1.2.0",
      "model_name": "LayoutModel",
      "state": {
       "width": "250px"
      }
     },
     "4867ccc7c8e84881a350d331b27680eb": {
      "model_module": "@jupyter-widgets/controls",
      "model_module_version": "1.5.0",
      "model_name": "HTMLModel",
      "state": {
       "layout": "IPY_MODEL_77d621ffb6234b9b81c2a58796d89015",
       "style": "IPY_MODEL_4c4f64a785a44074abb0c723b114a449",
       "value": "<h4 style=\"font-size:14px;\">Sequenz unter Erhalt der</h4>"
      }
     },
     "48a9d1a2fb324b85bafed0319f1b3584": {
      "model_module": "@jupyter-widgets/controls",
      "model_module_version": "1.5.0",
      "model_name": "CheckboxModel",
      "state": {
       "description": "gleicher Kontext",
       "disabled": false,
       "layout": "IPY_MODEL_f32b89e314994060ab50453c24c70cbc",
       "style": "IPY_MODEL_a1cb40bb59de4d35a3dd07d7ad7649aa",
       "value": false
      }
     },
     "48c040374ce8469eb40a28021933df79": {
      "model_module": "@jupyter-widgets/base",
      "model_module_version": "1.2.0",
      "model_name": "LayoutModel",
      "state": {}
     },
     "48c75e6de8894e0790948507706a1152": {
      "model_module": "@jupyter-widgets/base",
      "model_module_version": "1.2.0",
      "model_name": "LayoutModel",
      "state": {
       "width": "250px"
      }
     },
     "49387799c9884b9d8e49ad46c45ab909": {
      "model_module": "@jupyter-widgets/controls",
      "model_module_version": "1.5.0",
      "model_name": "HBoxModel",
      "state": {
       "children": [
        "IPY_MODEL_db65e236b5684e438a72560e879198a9",
        "IPY_MODEL_9b7fd4d74bb047bd929d01915ee11297"
       ],
       "layout": "IPY_MODEL_c5568d99f61b444daa32b1d8efb0b604"
      }
     },
     "49576d371df74728b04bcc1f47c6df00": {
      "model_module": "@jupyter-widgets/base",
      "model_module_version": "1.2.0",
      "model_name": "LayoutModel",
      "state": {}
     },
     "497abdc8f52e412d94c2e154d8589e55": {
      "model_module": "@jupyter-widgets/controls",
      "model_module_version": "1.5.0",
      "model_name": "ButtonModel",
      "state": {
       "description": "Korrekt?",
       "layout": "IPY_MODEL_9f30492f526740e98e7d1cc136132237",
       "style": "IPY_MODEL_ceb4cfa03bf84a30a01baff757828016"
      }
     },
     "49e024dd6a2f4140b790d4476673487f": {
      "model_module": "@jupyter-widgets/controls",
      "model_module_version": "1.5.0",
      "model_name": "DescriptionStyleModel",
      "state": {
       "description_width": ""
      }
     },
     "49e5bb7ae5854ac8aba8c9e3a04d3b4e": {
      "model_module": "@jupyter-widgets/base",
      "model_module_version": "1.2.0",
      "model_name": "LayoutModel",
      "state": {
       "width": "250px"
      }
     },
     "49f8870e27744c1092f11fe575372007": {
      "model_module": "@jupyter-widgets/controls",
      "model_module_version": "1.5.0",
      "model_name": "DescriptionStyleModel",
      "state": {
       "description_width": ""
      }
     },
     "4a1da176632b49489b2ea9eead5496f7": {
      "model_module": "@jupyter-widgets/controls",
      "model_module_version": "1.5.0",
      "model_name": "ButtonModel",
      "state": {
       "description": "Korrekt?",
       "layout": "IPY_MODEL_6b3ee78230cd4ca79da8c9d2baf908b5",
       "style": "IPY_MODEL_01e67a4e75cc47edab367655e36e1629"
      }
     },
     "4a1df8caca9d4920ae625e699872a2fd": {
      "model_module": "@jupyter-widgets/base",
      "model_module_version": "1.2.0",
      "model_name": "LayoutModel",
      "state": {
       "width": "250px"
      }
     },
     "4a32b44ea9bc42dc8ac8bae25c934c83": {
      "model_module": "@jupyter-widgets/controls",
      "model_module_version": "1.5.0",
      "model_name": "VBoxModel",
      "state": {
       "children": [
        "IPY_MODEL_2a7b4c79986d41be8d175182b6a8c1b7",
        "IPY_MODEL_debe411adf894f97b68c63d076aa1be3",
        "IPY_MODEL_d5d6f3ae593e4c9bbd69b6851430ec71",
        "IPY_MODEL_bb4eb980bf0f45dba8852247d77cbf20"
       ],
       "layout": "IPY_MODEL_717c28e03381401aac6c64d374b747f5"
      }
     },
     "4a415928a1444df79e200d9649b50e7d": {
      "model_module": "@jupyter-widgets/controls",
      "model_module_version": "1.5.0",
      "model_name": "HTMLModel",
      "state": {
       "layout": "IPY_MODEL_f33a2c031b2e4400a5445cc6e2d2b78d",
       "style": "IPY_MODEL_8c9c4b880058484598802b3c3e2ac598",
       "value": "<h4 style=\"font-size:14px;\"><i>seinen Schlüsselbund zwar noch nie verloren haben.</i></h4>"
      }
     },
     "4a446dd7ad06444b9b4802e1a2f50cad": {
      "model_module": "@jupyter-widgets/base",
      "model_module_version": "1.2.0",
      "model_name": "LayoutModel",
      "state": {
       "width": "250px"
      }
     },
     "4a88d8eaaaa945eba4f389c25aadab02": {
      "model_module": "@jupyter-widgets/controls",
      "model_module_version": "1.5.0",
      "model_name": "HTMLModel",
      "state": {
       "layout": "IPY_MODEL_782830be45aa4665bcf08c9cb1b1beed",
       "style": "IPY_MODEL_3af5f0dafdd24859bb95d2b22bfaaa41",
       "value": "<h4 style=\"font-size:14px;\">Welche Wortart könnte man für das Wort <i>gut</i> in Satz 2 vermuten, wenn man Adverbien nicht morphologisch, sondern semantisch charakterisiert (als Wortart, die der Modifizierung des Verbalgeschehens dient)?</h4>"
      }
     },
     "4a9fe14d190d466abd7b7eef9a0f0acf": {
      "model_module": "@jupyter-widgets/controls",
      "model_module_version": "1.5.0",
      "model_name": "ButtonModel",
      "state": {
       "description": "Keine der anderen Möglichkeiten",
       "layout": "IPY_MODEL_24d996035f5c43749d051ea22a6efe97",
       "style": "IPY_MODEL_db8e3fd0739c4bee93e0ca77b2592dba"
      }
     },
     "4aa5379855f1402db6fd20d39b3d8802": {
      "model_module": "@jupyter-widgets/controls",
      "model_module_version": "1.5.0",
      "model_name": "DescriptionStyleModel",
      "state": {
       "description_width": "initial"
      }
     },
     "4ae7ce66b9034bbb9c0df0296ede241e": {
      "model_module": "@jupyter-widgets/controls",
      "model_module_version": "1.5.0",
      "model_name": "DescriptionStyleModel",
      "state": {
       "description_width": "initial"
      }
     },
     "4af4ab21295e4766a354f0b21086122b": {
      "model_module": "@jupyter-widgets/controls",
      "model_module_version": "1.5.0",
      "model_name": "HTMLModel",
      "state": {
       "layout": "IPY_MODEL_dd407d1d09c543d0a3b0261974684299",
       "style": "IPY_MODEL_92242c4e384541a5ae7076f8b353a47e",
       "value": "<h4 style=\"font-size:14px;\">Was ist der Input eines Part-of-Speech-Taggers?</h4>"
      }
     },
     "4b0076c575534db59733e64a587ff671": {
      "model_module": "@jupyter-widgets/base",
      "model_module_version": "1.2.0",
      "model_name": "LayoutModel",
      "state": {
       "width": "250px"
      }
     },
     "4b57e58a3afc41fbbd2a10debafb982c": {
      "model_module": "@jupyter-widgets/controls",
      "model_module_version": "1.5.0",
      "model_name": "ButtonStyleModel",
      "state": {
       "button_color": "lightgreen"
      }
     },
     "4b65f85576cf4192821ec7b5ea13c748": {
      "model_module": "@jupyter-widgets/base",
      "model_module_version": "1.2.0",
      "model_name": "LayoutModel",
      "state": {}
     },
     "4b7d6cb40b6f42659a21b2ba1e00e056": {
      "model_module": "@jupyter-widgets/controls",
      "model_module_version": "1.5.0",
      "model_name": "CheckboxModel",
      "state": {
       "description": "Es bezeichnet die näheren Umstände des im Verb ausgedrückten Geschehens.",
       "disabled": false,
       "layout": "IPY_MODEL_558059cfc0c04735b55d55464ffa5964",
       "style": "IPY_MODEL_d555a910f6fe421aa6b8b7ffd3841bc9",
       "value": true
      }
     },
     "4ba4b0d9d41d4054a358e22e95e2edc8": {
      "model_module": "@jupyter-widgets/controls",
      "model_module_version": "1.5.0",
      "model_name": "DescriptionStyleModel",
      "state": {
       "description_width": ""
      }
     },
     "4bf7dd7c461a4daf9663088da23d73b5": {
      "model_module": "@jupyter-widgets/base",
      "model_module_version": "1.2.0",
      "model_name": "LayoutModel",
      "state": {
       "justify_content": "center"
      }
     },
     "4c0561dd309241b5b3d9e1bcb9d5dc87": {
      "model_module": "@jupyter-widgets/base",
      "model_module_version": "1.2.0",
      "model_name": "LayoutModel",
      "state": {
       "justify_content": "center"
      }
     },
     "4c4f64a785a44074abb0c723b114a449": {
      "model_module": "@jupyter-widgets/controls",
      "model_module_version": "1.5.0",
      "model_name": "DescriptionStyleModel",
      "state": {
       "description_width": ""
      }
     },
     "4c589515f3e64ac7b051e8df3969ce43": {
      "model_module": "@jupyter-widgets/controls",
      "model_module_version": "1.5.0",
      "model_name": "TextareaModel",
      "state": {
       "layout": "IPY_MODEL_a0e83be8625941eeb659fe7cb1ee50a1",
       "placeholder": "Type something",
       "style": "IPY_MODEL_cd1668605e3a41b5bad0f6aa4a170fc2",
       "value": "nltk.pos_tag()"
      }
     },
     "4c75bbeddecc475abd6dcd7b2d76c3a3": {
      "model_module": "@jupyter-widgets/controls",
      "model_module_version": "1.5.0",
      "model_name": "CheckboxModel",
      "state": {
       "description": "Es fungiert als Satzglied mit der syntaktischen Funktion Adverbial.",
       "disabled": false,
       "layout": "IPY_MODEL_b6aa44b47c8747b995e87ca31fa3c3b3",
       "style": "IPY_MODEL_bad0847852b04342b72690a3f607b79b",
       "value": true
      }
     },
     "4c9348eca1074411b24adaef0775bf81": {
      "model_module": "@jupyter-widgets/controls",
      "model_module_version": "1.5.0",
      "model_name": "DescriptionStyleModel",
      "state": {
       "description_width": ""
      }
     },
     "4ca6b0373bc444208cef0b2ce3199ae4": {
      "model_module": "@jupyter-widgets/controls",
      "model_module_version": "1.5.0",
      "model_name": "DescriptionStyleModel",
      "state": {
       "description_width": ""
      }
     },
     "4d07640f2a7141a5b6ba7bfdbe9185ce": {
      "model_module": "@jupyter-widgets/base",
      "model_module_version": "1.2.0",
      "model_name": "LayoutModel",
      "state": {
       "width": "600px"
      }
     },
     "4d3a24709fb64f6ba096207ae31f0afb": {
      "model_module": "@jupyter-widgets/controls",
      "model_module_version": "1.5.0",
      "model_name": "VBoxModel",
      "state": {
       "children": [
        "IPY_MODEL_8235bc80a87942b48bcc0df243595585",
        "IPY_MODEL_d80fb5e449224bc69b893902cd7a69a9",
        "IPY_MODEL_d066bb9328eb4101bb44dd9b02367c93"
       ],
       "layout": "IPY_MODEL_1e9db3576ff54b93a92fa0632914c37b"
      }
     },
     "4d7d8d6603404170af32c3892d60b283": {
      "model_module": "@jupyter-widgets/controls",
      "model_module_version": "1.5.0",
      "model_name": "DescriptionStyleModel",
      "state": {
       "description_width": ""
      }
     },
     "4dd4e0371f844b15859dac67bc24a8cf": {
      "model_module": "@jupyter-widgets/controls",
      "model_module_version": "1.5.0",
      "model_name": "ButtonStyleModel",
      "state": {}
     },
     "4dd6fae54cce4727990b0249ceb940c9": {
      "model_module": "@jupyter-widgets/base",
      "model_module_version": "1.2.0",
      "model_name": "LayoutModel",
      "state": {
       "justify_content": "center"
      }
     },
     "4dde69ea33e9448291e54c47e733b441": {
      "model_module": "@jupyter-widgets/base",
      "model_module_version": "1.2.0",
      "model_name": "LayoutModel",
      "state": {
       "width": "250px"
      }
     },
     "4e03dfbedf7b47e88ad7d542448da75b": {
      "model_module": "@jupyter-widgets/base",
      "model_module_version": "1.2.0",
      "model_name": "LayoutModel",
      "state": {
       "width": "250px"
      }
     },
     "4e2162eeae0f432389e319c39bc20726": {
      "model_module": "@jupyter-widgets/controls",
      "model_module_version": "1.5.0",
      "model_name": "ButtonModel",
      "state": {
       "description": "3rd singular present",
       "layout": "IPY_MODEL_89be47dbefed430eb5091fc54446ca15",
       "style": "IPY_MODEL_eecdeaef493a483f9bd48dd8c5092ffa"
      }
     },
     "4e2371085b444b6ea4da85978e3ac661": {
      "model_module": "@jupyter-widgets/base",
      "model_module_version": "1.2.0",
      "model_name": "LayoutModel",
      "state": {
       "width": "350px"
      }
     },
     "4e445977996f4962bccecc70040dd698": {
      "model_module": "@jupyter-widgets/controls",
      "model_module_version": "1.5.0",
      "model_name": "HTMLModel",
      "state": {
       "layout": "IPY_MODEL_1164a8c12bdf4bb6b573b841f96ce389",
       "style": "IPY_MODEL_fa117245f7e84324af38eb5db06b59d8",
       "value": "<h4 style=\"font-size:14px;\"><i>Eine Reise beginnt auch nur mit einem Schritt.</i><br>Welche Tests wurden angewandt?</h4>"
      }
     },
     "4e71665f812d42d18c0c6581371a7bc1": {
      "model_module": "@jupyter-widgets/controls",
      "model_module_version": "1.5.0",
      "model_name": "ButtonStyleModel",
      "state": {}
     },
     "4e809505c0c248099e68beb7d9cc3528": {
      "model_module": "@jupyter-widgets/controls",
      "model_module_version": "1.5.0",
      "model_name": "HBoxModel",
      "state": {
       "children": [
        "IPY_MODEL_031b6e6ee21f4013a5bd6a035e3f2d23",
        "IPY_MODEL_4eeefc797ce74d97858a7a83197584b9"
       ],
       "layout": "IPY_MODEL_e17aec15b4e44422acd2c1879b2e745c"
      }
     },
     "4e987ddbd1234d829f014774add444c4": {
      "model_module": "@jupyter-widgets/controls",
      "model_module_version": "1.5.0",
      "model_name": "ButtonStyleModel",
      "state": {
       "button_color": "lightgreen"
      }
     },
     "4eb4e8a9e4ad440ba0754feb9e1ba47c": {
      "model_module": "@jupyter-widgets/base",
      "model_module_version": "1.2.0",
      "model_name": "LayoutModel",
      "state": {
       "width": "600px"
      }
     },
     "4ebda90c52064e55a48b78737f4e5399": {
      "model_module": "@jupyter-widgets/controls",
      "model_module_version": "1.5.0",
      "model_name": "DescriptionStyleModel",
      "state": {
       "description_width": "initial"
      }
     },
     "4ec74d8223f24d378451755117d0c070": {
      "model_module": "@jupyter-widgets/controls",
      "model_module_version": "1.5.0",
      "model_name": "DescriptionStyleModel",
      "state": {
       "description_width": ""
      }
     },
     "4eeefc797ce74d97858a7a83197584b9": {
      "model_module": "@jupyter-widgets/controls",
      "model_module_version": "1.5.0",
      "model_name": "ButtonModel",
      "state": {
       "description": "past participle",
       "layout": "IPY_MODEL_c967cdaa5e744d71a9b9f291d61b9287",
       "style": "IPY_MODEL_d1af1e444f8d47e0b9534709da3f53c9"
      }
     },
     "4fcf364d3f2941188a7b2ce98123eb7f": {
      "model_module": "@jupyter-widgets/controls",
      "model_module_version": "1.5.0",
      "model_name": "HBoxModel",
      "state": {
       "children": [
        "IPY_MODEL_f81c1fe6fcdd4c539805631efded5a82",
        "IPY_MODEL_cf9303dff3b443b4b4e3b5cc4a0da366"
       ],
       "layout": "IPY_MODEL_0840638c9e5a4a5b9e7a26eee0871c7c"
      }
     },
     "5041e65b64884db9a0195d1ef6610e85": {
      "model_module": "@jupyter-widgets/base",
      "model_module_version": "1.2.0",
      "model_name": "LayoutModel",
      "state": {}
     },
     "50420d3603a343f19a5cb5870c3ced43": {
      "model_module": "@jupyter-widgets/base",
      "model_module_version": "1.2.0",
      "model_name": "LayoutModel",
      "state": {
       "width": "150px"
      }
     },
     "505636c3c79043afb78093298b73fadd": {
      "model_module": "@jupyter-widgets/controls",
      "model_module_version": "1.5.0",
      "model_name": "HBoxModel",
      "state": {
       "children": [
        "IPY_MODEL_8879ce8d9ee449f88e5c0a1e10875d89",
        "IPY_MODEL_9ad68a77b5de487e97f5606f30e82530"
       ],
       "layout": "IPY_MODEL_1911eea992504d078d381eb40ef96c2b"
      }
     },
     "509a284d40134be39576ff304637f57c": {
      "model_module": "@jupyter-widgets/controls",
      "model_module_version": "1.5.0",
      "model_name": "ButtonStyleModel",
      "state": {}
     },
     "509e64bf6c774c1483a9c74411b29de3": {
      "model_module": "@jupyter-widgets/controls",
      "model_module_version": "1.5.0",
      "model_name": "HBoxModel",
      "state": {
       "children": [
        "IPY_MODEL_bc19b49605a44a2db2a59b699b36810c",
        "IPY_MODEL_bd07c47c22be48aabce7458241998925"
       ],
       "layout": "IPY_MODEL_23d1cd4b70f84308b9ea77673d58cbb8"
      }
     },
     "50e706a1f23b4d678910082210972fe0": {
      "model_module": "@jupyter-widgets/controls",
      "model_module_version": "1.5.0",
      "model_name": "ButtonStyleModel",
      "state": {}
     },
     "50fcebf91ef743a0867e037e350d9023": {
      "model_module": "@jupyter-widgets/base",
      "model_module_version": "1.2.0",
      "model_name": "LayoutModel",
      "state": {
       "justify_content": "center"
      }
     },
     "512324c6870d4ac88e9b90c58e507402": {
      "model_module": "@jupyter-widgets/controls",
      "model_module_version": "1.5.0",
      "model_name": "DescriptionStyleModel",
      "state": {
       "description_width": "initial"
      }
     },
     "5143066dddbe4132b8762fca31ca0030": {
      "model_module": "@jupyter-widgets/controls",
      "model_module_version": "1.5.0",
      "model_name": "ButtonModel",
      "state": {
       "description": "3rd singular present",
       "layout": "IPY_MODEL_0de42f58c345418f82f7ae9265b17dd2",
       "style": "IPY_MODEL_972b987d4c4c4727b0765f9b02e72e55"
      }
     },
     "5160bdf2728a43a7b0a00e69fbb3fc90": {
      "model_module": "@jupyter-widgets/base",
      "model_module_version": "1.2.0",
      "model_name": "LayoutModel",
      "state": {}
     },
     "51898f00b62449c2aa772b30a06c1bbc": {
      "model_module": "@jupyter-widgets/controls",
      "model_module_version": "1.5.0",
      "model_name": "DescriptionStyleModel",
      "state": {
       "description_width": ""
      }
     },
     "5189bbfa85d9424ab4f39533ad91080b": {
      "model_module": "@jupyter-widgets/base",
      "model_module_version": "1.2.0",
      "model_name": "LayoutModel",
      "state": {
       "justify_content": "center"
      }
     },
     "518b932a217845fd8191319618a5c38e": {
      "model_module": "@jupyter-widgets/base",
      "model_module_version": "1.2.0",
      "model_name": "LayoutModel",
      "state": {
       "justify_content": "center"
      }
     },
     "5207f91b89284edcbcb38994a80e3c08": {
      "model_module": "@jupyter-widgets/controls",
      "model_module_version": "1.5.0",
      "model_name": "BoxModel",
      "state": {
       "children": [
        "IPY_MODEL_fd82b3f6cd8748a4a16523ea2641bd3d",
        "IPY_MODEL_54e68de2e6054d94adddbbaba1b7fb9d",
        "IPY_MODEL_c43663b8a36c4b6d95c3c83dbb33645e",
        "IPY_MODEL_bd73e4c857d844869c4e4aa7f42b554a",
        "IPY_MODEL_59317a46d6844886b290fe70a3379fb9",
        "IPY_MODEL_e99189c6716448a2a6682853d6245dcc",
        "IPY_MODEL_258d5392e28b4297bae30504c39cc259",
        "IPY_MODEL_bed1894942a041a7b6590d0fc8d7a96c",
        "IPY_MODEL_7507e3b916c246ffb46e834d616ec29c",
        "IPY_MODEL_5d5966cea5c94c18ab100421ed3a03a4",
        "IPY_MODEL_674124917bf441a49b4773d07e0191fc",
        "IPY_MODEL_1743f26f0251443aaa3e086da00d73b3",
        "IPY_MODEL_4a415928a1444df79e200d9649b50e7d"
       ],
       "layout": "IPY_MODEL_646951fd48234796b9926008b892eb19"
      }
     },
     "521d504ec8064410b491e50d2e1286d6": {
      "model_module": "@jupyter-widgets/controls",
      "model_module_version": "1.5.0",
      "model_name": "DescriptionStyleModel",
      "state": {
       "description_width": ""
      }
     },
     "5221f37e5c3c4bc295815eca6637b38d": {
      "model_module": "@jupyter-widgets/controls",
      "model_module_version": "1.5.0",
      "model_name": "CheckboxModel",
      "state": {
       "description": "Nur beginnt eine Reise von tausend Meilen auch mit einem Schritt",
       "disabled": false,
       "layout": "IPY_MODEL_c85c4444b88643ec80bb1b63f4fb5b0d",
       "style": "IPY_MODEL_8f05e56002b1416dbade57f889fed899",
       "value": false
      }
     },
     "522411c1b28842d8ae62c778405f7610": {
      "model_module": "@jupyter-widgets/controls",
      "model_module_version": "1.5.0",
      "model_name": "HTMLModel",
      "state": {
       "layout": "IPY_MODEL_b34e729b3783425c8880c4c515878e16",
       "style": "IPY_MODEL_a4e69e657cc74c7bbf87670cb306f8ec",
       "value": "<h4 style=\"font-size:14px;\">Was leistet die Funktion <code>nltk.similar()</code>?</h4>"
      }
     },
     "52306f6df45c4199999b72011e6819b3": {
      "model_module": "@jupyter-widgets/controls",
      "model_module_version": "1.5.0",
      "model_name": "DescriptionStyleModel",
      "state": {
       "description_width": ""
      }
     },
     "52897935693a4f23a5e7343c9db74fdd": {
      "model_module": "@jupyter-widgets/controls",
      "model_module_version": "1.5.0",
      "model_name": "HTMLModel",
      "state": {
       "layout": "IPY_MODEL_32abd1ffb2ab4b1d8f2451ae6131d317",
       "style": "IPY_MODEL_b894d3887b8e4a1d899ae743d33a9c49",
       "value": "<i>Wählen Sie die <ins>eine</ins> korrekte Antwort aus: </i>"
      }
     },
     "52ee5f790b524e1f8fdaa10c50c23484": {
      "model_module": "@jupyter-widgets/base",
      "model_module_version": "1.2.0",
      "model_name": "LayoutModel",
      "state": {
       "width": "250px"
      }
     },
     "52f8be7318264801b8b070c187e5ad25": {
      "model_module": "@jupyter-widgets/controls",
      "model_module_version": "1.5.0",
      "model_name": "ButtonModel",
      "state": {
       "description": "Wortfolge",
       "layout": "IPY_MODEL_d1e89a782f29449dbee91f08556e957f",
       "style": "IPY_MODEL_698095ac4993433aba383ec7b3624b39"
      }
     },
     "531e7f46c0c04a5892ea94e4e3f29d4f": {
      "model_module": "@jupyter-widgets/controls",
      "model_module_version": "1.5.0",
      "model_name": "ButtonStyleModel",
      "state": {
       "button_color": "lightgreen"
      }
     },
     "534a4306607149caa29cf369703d392f": {
      "model_module": "@jupyter-widgets/controls",
      "model_module_version": "1.5.0",
      "model_name": "HTMLModel",
      "state": {
       "layout": "IPY_MODEL_538a5cc83d414ce59a876de4433e7c8f",
       "style": "IPY_MODEL_9a6e36e4db984d68b3a0f992adc6d4c0",
       "value": "<h4 style=\"font-size:14px;\">Was leistet die Funktion <code>nltk.similar()</code>?</h4>"
      }
     },
     "53823bc48477492a82ec53dbd6e76619": {
      "model_module": "@jupyter-widgets/base",
      "model_module_version": "1.2.0",
      "model_name": "LayoutModel",
      "state": {
       "justify_content": "center"
      }
     },
     "538a5cc83d414ce59a876de4433e7c8f": {
      "model_module": "@jupyter-widgets/base",
      "model_module_version": "1.2.0",
      "model_name": "LayoutModel",
      "state": {}
     },
     "53df90f6d72241968e928eeb82e50914": {
      "model_module": "@jupyter-widgets/controls",
      "model_module_version": "1.5.0",
      "model_name": "ButtonStyleModel",
      "state": {
       "button_color": "lightgreen"
      }
     },
     "541ed9aceb2e47bbae70776a3645960c": {
      "model_module": "@jupyter-widgets/controls",
      "model_module_version": "1.5.0",
      "model_name": "DescriptionStyleModel",
      "state": {
       "description_width": ""
      }
     },
     "543936f109364aee9470d7088362383f": {
      "model_module": "@jupyter-widgets/controls",
      "model_module_version": "1.5.0",
      "model_name": "DescriptionStyleModel",
      "state": {
       "description_width": "initial"
      }
     },
     "54751d5cc5f34737ac84478bd660e1a5": {
      "model_module": "@jupyter-widgets/controls",
      "model_module_version": "1.5.0",
      "model_name": "DescriptionStyleModel",
      "state": {
       "description_width": ""
      }
     },
     "54997383f2a94f17b16217711b78592d": {
      "model_module": "@jupyter-widgets/controls",
      "model_module_version": "1.5.0",
      "model_name": "CheckboxModel",
      "state": {
       "description": "Permutationstest",
       "disabled": false,
       "layout": "IPY_MODEL_5ceee4d3040644008c96666e437cbd60",
       "style": "IPY_MODEL_8ed1c34bae4e46f3aed128ea7b8ab0a0",
       "value": false
      }
     },
     "54abfc56ea724e8da41310228d748323": {
      "model_module": "@jupyter-widgets/controls",
      "model_module_version": "1.5.0",
      "model_name": "DescriptionStyleModel",
      "state": {
       "description_width": "initial"
      }
     },
     "54e68de2e6054d94adddbbaba1b7fb9d": {
      "model_module": "@jupyter-widgets/controls",
      "model_module_version": "1.5.0",
      "model_name": "DropdownModel",
      "state": {
       "_options_labels": [
        "Konstituente",
        "Phrase",
        " "
       ],
       "index": 0,
       "layout": "IPY_MODEL_3a7ec033e3a0473ba03178aef7fdd675",
       "style": "IPY_MODEL_67cdb80d1d404d8db4ff99cd268fe445"
      }
     },
     "5509d35b1e474571bf3a611c66e14f55": {
      "model_module": "@jupyter-widgets/base",
      "model_module_version": "1.2.0",
      "model_name": "LayoutModel",
      "state": {
       "width": "250px"
      }
     },
     "55257b4e2f6341e79d8b3eae5a5da332": {
      "model_module": "@jupyter-widgets/controls",
      "model_module_version": "1.5.0",
      "model_name": "HTMLModel",
      "state": {
       "layout": "IPY_MODEL_a559921ba69b44d49f0ebb38b06418ed",
       "style": "IPY_MODEL_49e024dd6a2f4140b790d4476673487f",
       "value": "<i>Vervollständigen Sie den Lückentext: </i>"
      }
     },
     "5538165588da4d8e82c8686a8e339561": {
      "model_module": "@jupyter-widgets/controls",
      "model_module_version": "1.5.0",
      "model_name": "DescriptionStyleModel",
      "state": {
       "description_width": ""
      }
     },
     "5549f6f2fc804f3aa01c615953a48119": {
      "model_module": "@jupyter-widgets/base",
      "model_module_version": "1.2.0",
      "model_name": "LayoutModel",
      "state": {}
     },
     "554f576a8ef74604a830331f78ec222e": {
      "model_module": "@jupyter-widgets/controls",
      "model_module_version": "1.5.0",
      "model_name": "HTMLModel",
      "state": {
       "layout": "IPY_MODEL_5e4c4a880fbd46f99ed619bcff94eb82",
       "style": "IPY_MODEL_a87f5fa16aa44e0f89316e08bf987859",
       "value": "<i>Wählen Sie die <ins>eine</ins> korrekte Antwort aus: </i>"
      }
     },
     "558059cfc0c04735b55d55464ffa5964": {
      "model_module": "@jupyter-widgets/base",
      "model_module_version": "1.2.0",
      "model_name": "LayoutModel",
      "state": {
       "width": "600px"
      }
     },
     "5594824deb2e4d2599b017a1be528535": {
      "model_module": "@jupyter-widgets/base",
      "model_module_version": "1.2.0",
      "model_name": "LayoutModel",
      "state": {}
     },
     "55d601feec774c70906a13d1b1167f71": {
      "model_module": "@jupyter-widgets/controls",
      "model_module_version": "1.5.0",
      "model_name": "DescriptionStyleModel",
      "state": {
       "description_width": ""
      }
     },
     "55ec6aa0079b4c74bd5297ee9109e50f": {
      "model_module": "@jupyter-widgets/controls",
      "model_module_version": "1.5.0",
      "model_name": "ButtonStyleModel",
      "state": {
       "button_color": "lightgreen"
      }
     },
     "56020cd633b846999c4078cca75f3267": {
      "model_module": "@jupyter-widgets/controls",
      "model_module_version": "1.5.0",
      "model_name": "HBoxModel",
      "state": {
       "children": [
        "IPY_MODEL_5143066dddbe4132b8762fca31ca0030",
        "IPY_MODEL_5ba230ec5e504508b0eeb2563d88223a"
       ],
       "layout": "IPY_MODEL_1f1fc4e3eb224f4da7db73a26fee7385"
      }
     },
     "5674e8d7176c4538a5501c19daa94231": {
      "model_module": "@jupyter-widgets/controls",
      "model_module_version": "1.5.0",
      "model_name": "DescriptionStyleModel",
      "state": {
       "description_width": ""
      }
     },
     "567c173739e84d12a1b0845c299cd2ae": {
      "model_module": "@jupyter-widgets/controls",
      "model_module_version": "1.5.0",
      "model_name": "DropdownModel",
      "state": {
       "_options_labels": [
        "kürzeren",
        "längeren",
        " "
       ],
       "index": 1,
       "layout": "IPY_MODEL_fe73edc1991847dcb44f1a8994c10954",
       "style": "IPY_MODEL_e719fc4af8f348ae8cb4a56baf31092f"
      }
     },
     "569b48ca05e94e04aef9a985ce2ae67d": {
      "model_module": "@jupyter-widgets/controls",
      "model_module_version": "1.5.0",
      "model_name": "ButtonStyleModel",
      "state": {}
     },
     "56bac0e6b77c4a5284c66d1397bd3c29": {
      "model_module": "@jupyter-widgets/controls",
      "model_module_version": "1.5.0",
      "model_name": "ButtonStyleModel",
      "state": {}
     },
     "56bc136123b04a1ba7f26345df93850d": {
      "model_module": "@jupyter-widgets/base",
      "model_module_version": "1.2.0",
      "model_name": "LayoutModel",
      "state": {}
     },
     "56d0d989f2174da6b94ff3e558ad4f7b": {
      "model_module": "@jupyter-widgets/base",
      "model_module_version": "1.2.0",
      "model_name": "LayoutModel",
      "state": {
       "justify_content": "center"
      }
     },
     "56d6521184ad491489e720bce1d4df27": {
      "model_module": "@jupyter-widgets/controls",
      "model_module_version": "1.5.0",
      "model_name": "DescriptionStyleModel",
      "state": {
       "description_width": ""
      }
     },
     "56d7c43c58184f3294c4954eb1d55908": {
      "model_module": "@jupyter-widgets/controls",
      "model_module_version": "1.5.0",
      "model_name": "ButtonStyleModel",
      "state": {
       "button_color": "lightgreen"
      }
     },
     "575372c0a81442029b9546b413153dda": {
      "model_module": "@jupyter-widgets/controls",
      "model_module_version": "1.5.0",
      "model_name": "HBoxModel",
      "state": {
       "children": [
        "IPY_MODEL_dfd955d9fd224bd58ef338e273cb8965",
        "IPY_MODEL_47a1b013ba564919ade32498c786fab8"
       ],
       "layout": "IPY_MODEL_03b6a79ce49d4e43b2d74a5cadd9c2e0"
      }
     },
     "577e00830f5142728a3b054145bbf115": {
      "model_module": "@jupyter-widgets/base",
      "model_module_version": "1.2.0",
      "model_name": "LayoutModel",
      "state": {}
     },
     "578529a6321d4892a85fdf971c4eeffd": {
      "model_module": "@jupyter-widgets/base",
      "model_module_version": "1.2.0",
      "model_name": "LayoutModel",
      "state": {
       "width": "600px"
      }
     },
     "57b3d2e55fc64e248c43589ec73b1572": {
      "model_module": "@jupyter-widgets/controls",
      "model_module_version": "1.5.0",
      "model_name": "HBoxModel",
      "state": {
       "children": [
        "IPY_MODEL_5cf54bc9ba5d4a68a00a288be795a74e",
        "IPY_MODEL_d555798225ee4918b133e0d08f7f3092"
       ],
       "layout": "IPY_MODEL_d94c9da66be54cd283b1ca4303c5648e"
      }
     },
     "57c41c3ca7244cfea4f03d23e08259fe": {
      "model_module": "@jupyter-widgets/controls",
      "model_module_version": "1.5.0",
      "model_name": "DescriptionStyleModel",
      "state": {
       "description_width": ""
      }
     },
     "583b9809bf5d41ab8278de761125f75b": {
      "model_module": "@jupyter-widgets/base",
      "model_module_version": "1.2.0",
      "model_name": "LayoutModel",
      "state": {}
     },
     "5868210d80a34064bd75572114a24a26": {
      "model_module": "@jupyter-widgets/controls",
      "model_module_version": "1.5.0",
      "model_name": "DescriptionStyleModel",
      "state": {
       "description_width": ""
      }
     },
     "58ad961db5ae438e9bb1f54c62e8de55": {
      "model_module": "@jupyter-widgets/base",
      "model_module_version": "1.2.0",
      "model_name": "LayoutModel",
      "state": {}
     },
     "58c5db830d96440abb7d3dfac4a89d43": {
      "model_module": "@jupyter-widgets/base",
      "model_module_version": "1.2.0",
      "model_name": "LayoutModel",
      "state": {
       "width": "150px"
      }
     },
     "58eb1567c0894f61949ea2f0405af731": {
      "model_module": "@jupyter-widgets/controls",
      "model_module_version": "1.5.0",
      "model_name": "DescriptionStyleModel",
      "state": {
       "description_width": ""
      }
     },
     "590177ca77484750b27237b70bfbc97d": {
      "model_module": "@jupyter-widgets/controls",
      "model_module_version": "1.5.0",
      "model_name": "ButtonStyleModel",
      "state": {}
     },
     "5915f32344a640f3bb3526a135ec2f45": {
      "model_module": "@jupyter-widgets/base",
      "model_module_version": "1.2.0",
      "model_name": "LayoutModel",
      "state": {
       "justify_content": "center"
      }
     },
     "59317a46d6844886b290fe70a3379fb9": {
      "model_module": "@jupyter-widgets/controls",
      "model_module_version": "1.5.0",
      "model_name": "HTMLModel",
      "state": {
       "layout": "IPY_MODEL_5fcd1035e25d44f9a933cb942d3459bc",
       "style": "IPY_MODEL_5d086207f20e4962b3f0f915ca7d3890",
       "value": "<h4 style=\"font-size:14px;\">. Es gehört zu einer komplexen</h4>"
      }
     },
     "5943e9a420f04e24ad2b7b9628bb0815": {
      "model_module": "@jupyter-widgets/controls",
      "model_module_version": "1.5.0",
      "model_name": "HTMLModel",
      "state": {
       "layout": "IPY_MODEL_db932a2dffe04288bee155c267ed67c3",
       "style": "IPY_MODEL_41dd79fb980a442baaad21385e36c97a",
       "value": "<i>Vervollständigen Sie den Lückentext: </i>"
      }
     },
     "595efca9028a4f0aa6ee1309c10c9d5d": {
      "model_module": "@jupyter-widgets/controls",
      "model_module_version": "1.5.0",
      "model_name": "DescriptionStyleModel",
      "state": {
       "description_width": ""
      }
     },
     "59610e6633d4414c9b056da87f8b7526": {
      "model_module": "@jupyter-widgets/controls",
      "model_module_version": "1.5.0",
      "model_name": "HTMLModel",
      "state": {
       "layout": "IPY_MODEL_5915f32344a640f3bb3526a135ec2f45",
       "style": "IPY_MODEL_04378a42837a47a8a3936d253b14fee0",
       "value": "<i>Wählen Sie die <ins>eine</ins> korrekte Antwort aus: </i>"
      }
     },
     "5972e262f89042bd86f0477981422398": {
      "model_module": "@jupyter-widgets/controls",
      "model_module_version": "1.5.0",
      "model_name": "ButtonStyleModel",
      "state": {}
     },
     "59d51a6dbf55467bb73365f9a6378a0c": {
      "model_module": "@jupyter-widgets/controls",
      "model_module_version": "1.5.0",
      "model_name": "DescriptionStyleModel",
      "state": {
       "description_width": "initial"
      }
     },
     "5a28df807adf41f0bca425b6372b1318": {
      "model_module": "@jupyter-widgets/controls",
      "model_module_version": "1.5.0",
      "model_name": "ButtonStyleModel",
      "state": {}
     },
     "5a3ffa924be64e9ca1f5295c9e408b8c": {
      "model_module": "@jupyter-widgets/base",
      "model_module_version": "1.2.0",
      "model_name": "LayoutModel",
      "state": {
       "justify_content": "center"
      }
     },
     "5a40625002c2451bbb9f7c4dcf287f6c": {
      "model_module": "@jupyter-widgets/base",
      "model_module_version": "1.2.0",
      "model_name": "LayoutModel",
      "state": {}
     },
     "5a70be6fb81849fab6ef0d1d52f0d044": {
      "model_module": "@jupyter-widgets/controls",
      "model_module_version": "1.5.0",
      "model_name": "DescriptionStyleModel",
      "state": {
       "description_width": ""
      }
     },
     "5a84b46f25a649d59dec1b9de9272048": {
      "model_module": "@jupyter-widgets/base",
      "model_module_version": "1.2.0",
      "model_name": "LayoutModel",
      "state": {}
     },
     "5ab83a72917140719172b18ef07f5cc5": {
      "model_module": "@jupyter-widgets/controls",
      "model_module_version": "1.5.0",
      "model_name": "CheckboxModel",
      "state": {
       "description": "Es fungiert als Satzglied mit der syntaktischen Funktion Adverbial.",
       "disabled": false,
       "layout": "IPY_MODEL_f5574ae38e0d47e2b86ea0886c81bb87",
       "style": "IPY_MODEL_cc2cfeb3fd474322b0401c3b26c160c7",
       "value": false
      }
     },
     "5aba60e6980c4326a095bd039bb0c79c": {
      "model_module": "@jupyter-widgets/controls",
      "model_module_version": "1.5.0",
      "model_name": "CheckboxModel",
      "state": {
       "description": "Es ist flektierbar.",
       "disabled": false,
       "layout": "IPY_MODEL_32f3755b405441cdb60db13a0de62b69",
       "style": "IPY_MODEL_224c07d27c954b478b9d96fc7d8bdcef",
       "value": false
      }
     },
     "5af74b894c074f13b743723be4314ba0": {
      "model_module": "@jupyter-widgets/base",
      "model_module_version": "1.2.0",
      "model_name": "LayoutModel",
      "state": {
       "width": "250px"
      }
     },
     "5b3efb655602499ca024afc1cbd8a91b": {
      "model_module": "@jupyter-widgets/controls",
      "model_module_version": "1.5.0",
      "model_name": "VBoxModel",
      "state": {
       "children": [
        "IPY_MODEL_ff7fe276752743919e5830e0a43c81e2",
        "IPY_MODEL_a90866e111314c7b8e38c33673211cca",
        "IPY_MODEL_87d9994bb9aa4e1b840e57bb908dc8fc",
        "IPY_MODEL_28f5c5d9ce1243f68888f97b87d66a95"
       ],
       "layout": "IPY_MODEL_eceb7720158848629534bf01135cff2c"
      }
     },
     "5b3f49e71b784b22a5106b89b8b094ab": {
      "model_module": "@jupyter-widgets/base",
      "model_module_version": "1.2.0",
      "model_name": "LayoutModel",
      "state": {
       "width": "250px"
      }
     },
     "5b4d6c37d5ed4554a64dfc7563c3f643": {
      "model_module": "@jupyter-widgets/base",
      "model_module_version": "1.2.0",
      "model_name": "LayoutModel",
      "state": {}
     },
     "5b5a6f174d924ea283a1e2245e3a36cd": {
      "model_module": "@jupyter-widgets/base",
      "model_module_version": "1.2.0",
      "model_name": "LayoutModel",
      "state": {
       "justify_content": "center"
      }
     },
     "5b79637db364480f9a226cb56c933623": {
      "model_module": "@jupyter-widgets/controls",
      "model_module_version": "1.5.0",
      "model_name": "ButtonStyleModel",
      "state": {}
     },
     "5b9f6aae848a4ac99b4410cbd8ec2c18": {
      "model_module": "@jupyter-widgets/base",
      "model_module_version": "1.2.0",
      "model_name": "LayoutModel",
      "state": {
       "justify_content": "center"
      }
     },
     "5ba230ec5e504508b0eeb2563d88223a": {
      "model_module": "@jupyter-widgets/controls",
      "model_module_version": "1.5.0",
      "model_name": "ButtonModel",
      "state": {
       "description": "base",
       "layout": "IPY_MODEL_1f422cf7819d4476b9a9291721540def",
       "style": "IPY_MODEL_73bf103af89b45cd9db6d01c348dc5d8"
      }
     },
     "5c031b29cb9d48e3ae4dfe4c1077e863": {
      "model_module": "@jupyter-widgets/controls",
      "model_module_version": "1.5.0",
      "model_name": "DescriptionStyleModel",
      "state": {
       "description_width": ""
      }
     },
     "5c203ffd29b74b3e85e08ddfa61ba7f7": {
      "model_module": "@jupyter-widgets/controls",
      "model_module_version": "1.5.0",
      "model_name": "HTMLModel",
      "state": {
       "layout": "IPY_MODEL_d7fbadcef03b4f03917a62e1714a8e4c",
       "style": "IPY_MODEL_6a309cbac4494f799dfd2e3fac43a0f2",
       "value": "<h4 style=\"font-size:14px;\">Welcher ist der richtig permutierte Satz?</h4>"
      }
     },
     "5c5d79add29441deac68edf80eaba193": {
      "model_module": "@jupyter-widgets/controls",
      "model_module_version": "1.5.0",
      "model_name": "ButtonModel",
      "state": {
       "description": "Partikel",
       "layout": "IPY_MODEL_cc1524988b65487b88edbba3836c402e",
       "style": "IPY_MODEL_569b48ca05e94e04aef9a985ce2ae67d"
      }
     },
     "5cd4e429fe2d4249ab0e2fc584b7dde5": {
      "model_module": "@jupyter-widgets/base",
      "model_module_version": "1.2.0",
      "model_name": "LayoutModel",
      "state": {}
     },
     "5cdbc733c06f416081cafed4a7909660": {
      "model_module": "@jupyter-widgets/base",
      "model_module_version": "1.2.0",
      "model_name": "LayoutModel",
      "state": {}
     },
     "5cebc5473825478d98023ffc2ff4ac1c": {
      "model_module": "@jupyter-widgets/controls",
      "model_module_version": "1.5.0",
      "model_name": "HBoxModel",
      "state": {
       "children": [
        "IPY_MODEL_659cd3cf892c47e7a75ad2d0f3af8a1d"
       ],
       "layout": "IPY_MODEL_c07ff420e1f14774b3ad00d52e39ac14"
      }
     },
     "5ceee4d3040644008c96666e437cbd60": {
      "model_module": "@jupyter-widgets/base",
      "model_module_version": "1.2.0",
      "model_name": "LayoutModel",
      "state": {
       "width": "600px"
      }
     },
     "5cf54bc9ba5d4a68a00a288be795a74e": {
      "model_module": "@jupyter-widgets/controls",
      "model_module_version": "1.5.0",
      "model_name": "ButtonModel",
      "state": {
       "description": "3rd singular present",
       "layout": "IPY_MODEL_1dcd977b4796496f9937807a8ac9e1d8",
       "style": "IPY_MODEL_c441983d80ec44f69cfca5c9b901aefc"
      }
     },
     "5d086207f20e4962b3f0f915ca7d3890": {
      "model_module": "@jupyter-widgets/controls",
      "model_module_version": "1.5.0",
      "model_name": "DescriptionStyleModel",
      "state": {
       "description_width": ""
      }
     },
     "5d4d927b5b8c46b7ae041cbc1ade48d9": {
      "model_module": "@jupyter-widgets/controls",
      "model_module_version": "1.5.0",
      "model_name": "DropdownModel",
      "state": {
       "_options_labels": [
        "'ADJ'",
        "'DET'",
        "'NOUN'",
        " "
       ],
       "index": 2,
       "layout": "IPY_MODEL_e6ef2f9db6b24826b9688090679d8292",
       "style": "IPY_MODEL_521d504ec8064410b491e50d2e1286d6"
      }
     },
     "5d5966cea5c94c18ab100421ed3a03a4": {
      "model_module": "@jupyter-widgets/controls",
      "model_module_version": "1.5.0",
      "model_name": "DropdownModel",
      "state": {
       "_options_labels": [
        " ",
        "NP",
        "PP",
        "VP",
        " "
       ],
       "index": 3,
       "layout": "IPY_MODEL_d5da5db46209497a90cc95a7ad782980",
       "style": "IPY_MODEL_f691ea52512a464fa0b9d1d20ec75fa9"
      }
     },
     "5d641d59f29a4e95b5ff5a18f6b71b68": {
      "model_module": "@jupyter-widgets/controls",
      "model_module_version": "1.5.0",
      "model_name": "ButtonModel",
      "state": {
       "description": "Korrekt?",
       "layout": "IPY_MODEL_731ed432df434d0e9524ba8b22d80133",
       "style": "IPY_MODEL_c6c81484178246b8922ba1ea8d1e872a"
      }
     },
     "5d7acbd2477646828bbb3c5900c501cf": {
      "model_module": "@jupyter-widgets/controls",
      "model_module_version": "1.5.0",
      "model_name": "ButtonStyleModel",
      "state": {
       "button_color": "lightgreen"
      }
     },
     "5db098cb7c544083879b23171eb65faf": {
      "model_module": "@jupyter-widgets/base",
      "model_module_version": "1.2.0",
      "model_name": "LayoutModel",
      "state": {}
     },
     "5de3a6850c384a7bad9981716ca8a53f": {
      "model_module": "@jupyter-widgets/controls",
      "model_module_version": "1.5.0",
      "model_name": "HTMLModel",
      "state": {
       "layout": "IPY_MODEL_f91af9892c504a429a644565996cfc50",
       "style": "IPY_MODEL_79da896bb19b433bbc206b587f7be48e",
       "value": "<h4 style=\"font-size:14px;\">Was bedeutet das Tag <i>VBZ</i> im Browntagset (siehe 5.7)?</h4>"
      }
     },
     "5e043abe25e4409cba65795b1491b21b": {
      "model_module": "@jupyter-widgets/base",
      "model_module_version": "1.2.0",
      "model_name": "LayoutModel",
      "state": {}
     },
     "5e0cbeec4c284a2db7aad8cd1fe9da9a": {
      "model_module": "@jupyter-widgets/controls",
      "model_module_version": "1.5.0",
      "model_name": "BoxModel",
      "state": {
       "children": [
        "IPY_MODEL_200569a9f2634fefaae6879e03ea45b1",
        "IPY_MODEL_35ad6614eded4b41a07d6b44ed58d4ed",
        "IPY_MODEL_e0bbff70a1c6490c9a818846dd512a58",
        "IPY_MODEL_f03491a7832347fe829e15fec82067e7",
        "IPY_MODEL_feb2fb7b25b948bb84527a9904067f4a"
       ],
       "layout": "IPY_MODEL_0cc595f309964d71bb76d5de206581b6"
      }
     },
     "5e106a9bae2a47e2b28bc3199e16fcbb": {
      "model_module": "@jupyter-widgets/base",
      "model_module_version": "1.2.0",
      "model_name": "LayoutModel",
      "state": {
       "width": "250px"
      }
     },
     "5e2b2d8174f643a0aafb30143d4458db": {
      "model_module": "@jupyter-widgets/controls",
      "model_module_version": "1.5.0",
      "model_name": "ButtonModel",
      "state": {
       "description": "gerund",
       "layout": "IPY_MODEL_0ea94b3be80c4f9d9a1712361f74412d",
       "style": "IPY_MODEL_30cebdbaeb7745389e48445b7f68dd3c"
      }
     },
     "5e4c4a880fbd46f99ed619bcff94eb82": {
      "model_module": "@jupyter-widgets/base",
      "model_module_version": "1.2.0",
      "model_name": "LayoutModel",
      "state": {
       "justify_content": "center"
      }
     },
     "5e666ceb28ce4cde8443ac71413d1420": {
      "model_module": "@jupyter-widgets/base",
      "model_module_version": "1.2.0",
      "model_name": "LayoutModel",
      "state": {}
     },
     "5ea91cafb46c4bb1b132b4663a86a87e": {
      "model_module": "@jupyter-widgets/base",
      "model_module_version": "1.2.0",
      "model_name": "LayoutModel",
      "state": {}
     },
     "5f3a0984c96e449bab336b91744379c8": {
      "model_module": "@jupyter-widgets/controls",
      "model_module_version": "1.5.0",
      "model_name": "DescriptionStyleModel",
      "state": {
       "description_width": ""
      }
     },
     "5f6a21004d8f4c77ac873f30626e7513": {
      "model_module": "@jupyter-widgets/base",
      "model_module_version": "1.2.0",
      "model_name": "LayoutModel",
      "state": {}
     },
     "5f8373a2160a410e868377bdf13b196e": {
      "model_module": "@jupyter-widgets/controls",
      "model_module_version": "1.5.0",
      "model_name": "CheckboxModel",
      "state": {
       "description": "gleiche syntagmatische Position",
       "disabled": false,
       "layout": "IPY_MODEL_1e5247d20d144372aab5c4a58db41fdc",
       "style": "IPY_MODEL_88e641338fe64c699a0b9875a84c926e",
       "value": false
      }
     },
     "5fcd1035e25d44f9a933cb942d3459bc": {
      "model_module": "@jupyter-widgets/base",
      "model_module_version": "1.2.0",
      "model_name": "LayoutModel",
      "state": {}
     },
     "5fcd42eab02b400a8a327638102e153a": {
      "model_module": "@jupyter-widgets/base",
      "model_module_version": "1.2.0",
      "model_name": "LayoutModel",
      "state": {
       "width": "600px"
      }
     },
     "6060bfdc99024ead958ac3af853afda4": {
      "model_module": "@jupyter-widgets/base",
      "model_module_version": "1.2.0",
      "model_name": "LayoutModel",
      "state": {
       "width": "250px"
      }
     },
     "60b99d6a1ca2428485d1365633e0f7b3": {
      "model_module": "@jupyter-widgets/controls",
      "model_module_version": "1.5.0",
      "model_name": "DescriptionStyleModel",
      "state": {
       "description_width": ""
      }
     },
     "61388638b69e4e039d040d84672bc9b3": {
      "model_module": "@jupyter-widgets/controls",
      "model_module_version": "1.5.0",
      "model_name": "DescriptionStyleModel",
      "state": {
       "description_width": ""
      }
     },
     "6139804cb23c4f9ba5ce41b76041418e": {
      "model_module": "@jupyter-widgets/controls",
      "model_module_version": "1.5.0",
      "model_name": "CheckboxModel",
      "state": {
       "description": "gleiche Endungen",
       "disabled": false,
       "layout": "IPY_MODEL_e5ffdf5084194228aad707106f97438a",
       "style": "IPY_MODEL_cd219b03bab149598a0c0a70f8f80f72",
       "value": true
      }
     },
     "615397e72e40409793aceb35941e2d12": {
      "model_module": "@jupyter-widgets/base",
      "model_module_version": "1.2.0",
      "model_name": "LayoutModel",
      "state": {}
     },
     "6164fc66c32e41b6a732e0a6980e05dc": {
      "model_module": "@jupyter-widgets/controls",
      "model_module_version": "1.5.0",
      "model_name": "DescriptionStyleModel",
      "state": {
       "description_width": ""
      }
     },
     "618d4d3af61d48afa768372056bdcd27": {
      "model_module": "@jupyter-widgets/controls",
      "model_module_version": "1.5.0",
      "model_name": "ButtonStyleModel",
      "state": {}
     },
     "6193fa6a27d64804a2dd676fad4a5573": {
      "model_module": "@jupyter-widgets/base",
      "model_module_version": "1.2.0",
      "model_name": "LayoutModel",
      "state": {}
     },
     "620d756b5bc0416eaaf1dc93d2131dff": {
      "model_module": "@jupyter-widgets/base",
      "model_module_version": "1.2.0",
      "model_name": "LayoutModel",
      "state": {
       "width": "250px"
      }
     },
     "6211d3b51c374cdba8641c8585a797fa": {
      "model_module": "@jupyter-widgets/controls",
      "model_module_version": "1.5.0",
      "model_name": "HBoxModel",
      "state": {
       "children": [
        "IPY_MODEL_99b794c876f94847a67650d7828296bc",
        "IPY_MODEL_43488789e1d7406b85b5a3bcbf540345"
       ],
       "layout": "IPY_MODEL_48c040374ce8469eb40a28021933df79"
      }
     },
     "621c6a0ec1194fff8fe91ee387d0a872": {
      "model_module": "@jupyter-widgets/controls",
      "model_module_version": "1.5.0",
      "model_name": "CheckboxModel",
      "state": {
       "description": "gleicher Kontext",
       "disabled": false,
       "layout": "IPY_MODEL_07896fa1a819443e96683bc10cd7c05a",
       "style": "IPY_MODEL_892cdb0a21584788b702ece8c9b2798b",
       "value": false
      }
     },
     "62377f5f2d524263b34e07a407f77636": {
      "model_module": "@jupyter-widgets/controls",
      "model_module_version": "1.5.0",
      "model_name": "DescriptionStyleModel",
      "state": {
       "description_width": ""
      }
     },
     "623ef406ebd042869cf3a6befd64d3ec": {
      "model_module": "@jupyter-widgets/controls",
      "model_module_version": "1.5.0",
      "model_name": "DropdownModel",
      "state": {
       "_options_labels": [
        "gleichartige",
        "unterschiedliche",
        " "
       ],
       "index": 0,
       "layout": "IPY_MODEL_b800928bd65f4366a3c388f890646f5b",
       "style": "IPY_MODEL_90a08733cc7c4100a2d8d2733687dab0"
      }
     },
     "6245d191f45549a09ec64fc29b3293cb": {
      "model_module": "@jupyter-widgets/controls",
      "model_module_version": "1.5.0",
      "model_name": "VBoxModel",
      "state": {
       "children": [
        "IPY_MODEL_522411c1b28842d8ae62c778405f7610",
        "IPY_MODEL_d658473fe95343bc8e659d3ad42b17d7",
        "IPY_MODEL_024c91d6f53a47f79378cd2fd49ba45d",
        "IPY_MODEL_8fe3b93893434b30952e4e7e8aedc7cd"
       ],
       "layout": "IPY_MODEL_1274509507f5429ca879ce7607e2365d"
      }
     },
     "62b1e4b9fe324895a6989f38adf214df": {
      "model_module": "@jupyter-widgets/base",
      "model_module_version": "1.2.0",
      "model_name": "LayoutModel",
      "state": {}
     },
     "62d4a5f8e176406ba71bbb3dd8a8e825": {
      "model_module": "@jupyter-widgets/controls",
      "model_module_version": "1.5.0",
      "model_name": "ButtonModel",
      "state": {
       "description": "gerund",
       "layout": "IPY_MODEL_3fc57cd660774977a39fee85fa95e775",
       "style": "IPY_MODEL_4700eac2968843308d0208f949058863"
      }
     },
     "62efe6b5f9df427faa0f5b0bb3fba120": {
      "model_module": "@jupyter-widgets/controls",
      "model_module_version": "1.5.0",
      "model_name": "ButtonStyleModel",
      "state": {}
     },
     "63374ae90adb429880a0e45c07b56b04": {
      "model_module": "@jupyter-widgets/controls",
      "model_module_version": "1.5.0",
      "model_name": "ButtonModel",
      "state": {
       "description": "Partikel",
       "layout": "IPY_MODEL_ea7bbaf4b87540c39fc46a851018dba0",
       "style": "IPY_MODEL_618d4d3af61d48afa768372056bdcd27"
      }
     },
     "6389afd7f86946ecba856d38be10c789": {
      "model_module": "@jupyter-widgets/controls",
      "model_module_version": "1.5.0",
      "model_name": "ButtonStyleModel",
      "state": {}
     },
     "638c7738e89f481c96f5699f9afb1066": {
      "model_module": "@jupyter-widgets/base",
      "model_module_version": "1.2.0",
      "model_name": "LayoutModel",
      "state": {
       "width": "600px"
      }
     },
     "63b939099af8496582d7556dc11c82a2": {
      "model_module": "@jupyter-widgets/controls",
      "model_module_version": "1.5.0",
      "model_name": "HBoxModel",
      "state": {
       "children": [
        "IPY_MODEL_dad6cd863c6a4d1789ae9808c49dfe9c"
       ],
       "layout": "IPY_MODEL_5cd4e429fe2d4249ab0e2fc584b7dde5"
      }
     },
     "63bc857b75784b65a54ceb3e5b93c5f9": {
      "model_module": "@jupyter-widgets/controls",
      "model_module_version": "1.5.0",
      "model_name": "VBoxModel",
      "state": {
       "children": [
        "IPY_MODEL_ce870b241daa4c3fa63e24ca4f3e262d",
        "IPY_MODEL_ef791f0183cd440b86c2d8dcc168f334",
        "IPY_MODEL_4c589515f3e64ac7b051e8df3969ce43",
        "IPY_MODEL_2cc2080a8c1c49b39537f9f36f53cfe9"
       ],
       "layout": "IPY_MODEL_5a84b46f25a649d59dec1b9de9272048"
      }
     },
     "63be157acfa140fe9e3511b475a3133a": {
      "model_module": "@jupyter-widgets/controls",
      "model_module_version": "1.5.0",
      "model_name": "HTMLModel",
      "state": {
       "layout": "IPY_MODEL_f33ff813eb85478bbda0d1d52c993102",
       "style": "IPY_MODEL_ec878761b90f447d935bf5b255b287b8",
       "value": "<h4 style=\"font-size:14px;\"><i>seinen Schlüsselbund zwar noch nie verloren haben.</i></h4>"
      }
     },
     "640d8f601d7a475c9c4010bd181b76c0": {
      "model_module": "@jupyter-widgets/base",
      "model_module_version": "1.2.0",
      "model_name": "LayoutModel",
      "state": {}
     },
     "640f87af7b27463f8c7a78dbe8e58b80": {
      "model_module": "@jupyter-widgets/base",
      "model_module_version": "1.2.0",
      "model_name": "LayoutModel",
      "state": {
       "width": "150px"
      }
     },
     "642f44faadb24ff7bc62c33227f7ecc3": {
      "model_module": "@jupyter-widgets/controls",
      "model_module_version": "1.5.0",
      "model_name": "BoxModel",
      "state": {
       "children": [
        "IPY_MODEL_cc523b19aab34534843e5b0f4494f5f2",
        "IPY_MODEL_00acead40bbf4abf8fb84bd1f42cb626",
        "IPY_MODEL_d54e1539c58f4850a0cd47604f62c356",
        "IPY_MODEL_e3b25cd9d7bd402d87554d8846c2cd39",
        "IPY_MODEL_eee2f03495ea4693a5963d21b44a5647",
        "IPY_MODEL_8bcc8767fa7d42438780b267772d1c55",
        "IPY_MODEL_466d6700bd6a43a89bff8d5ad5d96df8",
        "IPY_MODEL_a9e12edce0a34966a6a2f3843dea22d6",
        "IPY_MODEL_147a8741184d46788cef3cf177e64cb8"
       ],
       "layout": "IPY_MODEL_7f88abd25a3a4749a5c39ca65a72eb49"
      }
     },
     "6439fcf2faaa461d913ae9e1a700220d": {
      "model_module": "@jupyter-widgets/controls",
      "model_module_version": "1.5.0",
      "model_name": "ButtonModel",
      "state": {
       "description": "Keine der anderen Möglichkeiten",
       "layout": "IPY_MODEL_312eea43f9b54d8fb1e63364f7fa573e",
       "style": "IPY_MODEL_e897e3ebb2d64a818b68be8f6f6eba3b"
      }
     },
     "643a9ac519164df4b4fa2fd33cc14217": {
      "model_module": "@jupyter-widgets/controls",
      "model_module_version": "1.5.0",
      "model_name": "DropdownModel",
      "state": {
       "_options_labels": [
        "kürzeren",
        "längeren",
        " "
       ],
       "index": 2,
       "layout": "IPY_MODEL_38e6267eb1d9440ab1e88f9a6d7a7f94",
       "style": "IPY_MODEL_994ee58b5417498380d39778e83b1eae"
      }
     },
     "646951fd48234796b9926008b892eb19": {
      "model_module": "@jupyter-widgets/base",
      "model_module_version": "1.2.0",
      "model_name": "LayoutModel",
      "state": {
       "align_content": "stretch",
       "align_items": "stretch",
       "display": "inline-flex",
       "flex": "flex-grow",
       "flex_flow": "row wrap",
       "justify_content": "flex-start"
      }
     },
     "647b085b49914eefa1f1853d96b341a4": {
      "model_module": "@jupyter-widgets/controls",
      "model_module_version": "1.5.0",
      "model_name": "ButtonModel",
      "state": {
       "description": "Keine der anderen Möglichkeiten",
       "layout": "IPY_MODEL_b20d6a42a95941c98400684478a5393c",
       "style": "IPY_MODEL_1dc065a2e56848cfb3aec5ee543b9def"
      }
     },
     "65341af81de34e8393ce472ca39d1583": {
      "model_module": "@jupyter-widgets/controls",
      "model_module_version": "1.5.0",
      "model_name": "CheckboxModel",
      "state": {
       "description": "gleicher Kontext",
       "disabled": false,
       "layout": "IPY_MODEL_eeb56618e1fa4a489fcc46999f6061c8",
       "style": "IPY_MODEL_d55d4ca1aea54ac5832c684e860360b8",
       "value": false
      }
     },
     "65760ae539c9452d96b29597f86d80a4": {
      "model_module": "@jupyter-widgets/controls",
      "model_module_version": "1.5.0",
      "model_name": "DescriptionStyleModel",
      "state": {
       "description_width": ""
      }
     },
     "658887f9cb2d479b8f40478f7939a400": {
      "model_module": "@jupyter-widgets/base",
      "model_module_version": "1.2.0",
      "model_name": "LayoutModel",
      "state": {}
     },
     "658caa8e998b4d8995171efc3af237cc": {
      "model_module": "@jupyter-widgets/base",
      "model_module_version": "1.2.0",
      "model_name": "LayoutModel",
      "state": {
       "align_content": "stretch",
       "align_items": "stretch",
       "display": "inline-flex",
       "flex": "flex-grow",
       "flex_flow": "row wrap",
       "justify_content": "flex-start"
      }
     },
     "658de94cd22242a392ddf5de5d1ec2e8": {
      "model_module": "@jupyter-widgets/base",
      "model_module_version": "1.2.0",
      "model_name": "LayoutModel",
      "state": {
       "width": "600px"
      }
     },
     "659cd3cf892c47e7a75ad2d0f3af8a1d": {
      "model_module": "@jupyter-widgets/controls",
      "model_module_version": "1.5.0",
      "model_name": "ButtonModel",
      "state": {
       "description": "simple past",
       "layout": "IPY_MODEL_f34d21f788a84dafaa93e76cec0d2737",
       "style": "IPY_MODEL_d065f3153db14797a4a0b60a8ca1d31e"
      }
     },
     "65c6440f3268493cb7327d6218fc0be8": {
      "model_module": "@jupyter-widgets/base",
      "model_module_version": "1.2.0",
      "model_name": "LayoutModel",
      "state": {
       "width": "250px"
      }
     },
     "663d71cb2c8043cf80dcdb06bb66ec6e": {
      "model_module": "@jupyter-widgets/controls",
      "model_module_version": "1.5.0",
      "model_name": "DescriptionStyleModel",
      "state": {
       "description_width": ""
      }
     },
     "669c7261284049c791e5b66f09cf9ad5": {
      "model_module": "@jupyter-widgets/controls",
      "model_module_version": "1.5.0",
      "model_name": "HBoxModel",
      "state": {
       "children": [
        "IPY_MODEL_14cdca427dae4dc2afd2273f1404b1c0"
       ],
       "layout": "IPY_MODEL_b11559c8115a4609a8a7c68496e5c8e9"
      }
     },
     "66ae6d8c878a43d2b2ae99ae8a7a8b65": {
      "model_module": "@jupyter-widgets/controls",
      "model_module_version": "1.5.0",
      "model_name": "VBoxModel",
      "state": {
       "children": [
        "IPY_MODEL_0714cd39feaa4d11b0234fbb29188486",
        "IPY_MODEL_83cc543e8a66488d90c94734f86d7b31",
        "IPY_MODEL_4d3a24709fb64f6ba096207ae31f0afb",
        "IPY_MODEL_cce062c9ccb940d2b2eb870c79d882ef"
       ],
       "layout": "IPY_MODEL_ec8af1b9057d4a1291af0480133d8a67"
      }
     },
     "66bb7b2aa9b7480ba146738a410bb684": {
      "model_module": "@jupyter-widgets/controls",
      "model_module_version": "1.5.0",
      "model_name": "DescriptionStyleModel",
      "state": {
       "description_width": ""
      }
     },
     "66d3ffdbaa2a4cbfbfe870abbbfd9133": {
      "model_module": "@jupyter-widgets/base",
      "model_module_version": "1.2.0",
      "model_name": "LayoutModel",
      "state": {
       "width": "600px"
      }
     },
     "67265b23febc4b5090626c56db1838a1": {
      "model_module": "@jupyter-widgets/controls",
      "model_module_version": "1.5.0",
      "model_name": "ButtonModel",
      "state": {
       "description": "Adverb",
       "layout": "IPY_MODEL_8a5a97b421ad47c6ad8ff77beb08c38d",
       "style": "IPY_MODEL_ab56f2c806094ee3818b84f1a009e485"
      }
     },
     "673b3ae47d02442ba4d590f1acdc8419": {
      "model_module": "@jupyter-widgets/controls",
      "model_module_version": "1.5.0",
      "model_name": "ButtonStyleModel",
      "state": {}
     },
     "674124917bf441a49b4773d07e0191fc": {
      "model_module": "@jupyter-widgets/controls",
      "model_module_version": "1.5.0",
      "model_name": "HTMLModel",
      "state": {
       "layout": "IPY_MODEL_0dd1527e1a214b80bc1bf8031218ef9e",
       "style": "IPY_MODEL_3b998f7211184a92842cb55f9d4a75c7",
       "value": "<h4 style=\"font-size:14px;\">umfasst die</h4>"
      }
     },
     "6755ec8a11564cbdb6d6af6de5f7c126": {
      "model_module": "@jupyter-widgets/base",
      "model_module_version": "1.2.0",
      "model_name": "LayoutModel",
      "state": {
       "width": "250px"
      }
     },
     "679f0030657e4d4b88fc62d591aee408": {
      "model_module": "@jupyter-widgets/base",
      "model_module_version": "1.2.0",
      "model_name": "LayoutModel",
      "state": {
       "width": "250px"
      }
     },
     "67cd3f9942f9409d82f86a73d969e635": {
      "model_module": "@jupyter-widgets/controls",
      "model_module_version": "1.5.0",
      "model_name": "DescriptionStyleModel",
      "state": {
       "description_width": ""
      }
     },
     "67cdb80d1d404d8db4ff99cd268fe445": {
      "model_module": "@jupyter-widgets/controls",
      "model_module_version": "1.5.0",
      "model_name": "DescriptionStyleModel",
      "state": {
       "description_width": ""
      }
     },
     "6800a47dc0dd403680e0d171713f53b5": {
      "model_module": "@jupyter-widgets/base",
      "model_module_version": "1.2.0",
      "model_name": "LayoutModel",
      "state": {
       "width": "250px"
      }
     },
     "6800f8aab6544b3d8cc68a72e70481f4": {
      "model_module": "@jupyter-widgets/controls",
      "model_module_version": "1.5.0",
      "model_name": "VBoxModel",
      "state": {
       "children": [
        "IPY_MODEL_8f6de41971a245e5b759996e4a881701",
        "IPY_MODEL_b836a1de88244e04af2a40c70a934956",
        "IPY_MODEL_f5c3b1bec3234ce3bc33178cf42192ba",
        "IPY_MODEL_0cbe9fb33026426396889a83440252cb"
       ],
       "layout": "IPY_MODEL_ed92453d0cfd44c189fd9837c2d6e55f"
      }
     },
     "68124829f5b84b7c8b0e5c0f9db7093b": {
      "model_module": "@jupyter-widgets/controls",
      "model_module_version": "1.5.0",
      "model_name": "DescriptionStyleModel",
      "state": {
       "description_width": ""
      }
     },
     "684770945e8c4d15bcede9d15c7d30ac": {
      "model_module": "@jupyter-widgets/controls",
      "model_module_version": "1.5.0",
      "model_name": "DescriptionStyleModel",
      "state": {
       "description_width": ""
      }
     },
     "686f5171b4724c2598f6778048519814": {
      "model_module": "@jupyter-widgets/controls",
      "model_module_version": "1.5.0",
      "model_name": "DescriptionStyleModel",
      "state": {
       "description_width": "initial"
      }
     },
     "6891876ef3c145528c286502b4309813": {
      "model_module": "@jupyter-widgets/base",
      "model_module_version": "1.2.0",
      "model_name": "LayoutModel",
      "state": {
       "width": "150px"
      }
     },
     "68a9750306fd409381db00d5fa8b34c8": {
      "model_module": "@jupyter-widgets/controls",
      "model_module_version": "1.5.0",
      "model_name": "ButtonStyleModel",
      "state": {}
     },
     "68f7027f1d274efaa1e111b597e6e003": {
      "model_module": "@jupyter-widgets/base",
      "model_module_version": "1.2.0",
      "model_name": "LayoutModel",
      "state": {
       "width": "600px"
      }
     },
     "6909fd0fe1cb49a0987d9a97fd4bcb5e": {
      "model_module": "@jupyter-widgets/controls",
      "model_module_version": "1.5.0",
      "model_name": "ButtonModel",
      "state": {
       "description": "Adjektiv",
       "layout": "IPY_MODEL_84521226a7834a45addb75463ae1d988",
       "style": "IPY_MODEL_b0edfa7060f143b6a8130edc87ab1d7e"
      }
     },
     "6954995921f04c12a6f273a381bfa0bd": {
      "model_module": "@jupyter-widgets/controls",
      "model_module_version": "1.5.0",
      "model_name": "ButtonModel",
      "state": {
       "description": "Adjektiv",
       "layout": "IPY_MODEL_0886025689d54e569ebe748821ef07ec",
       "style": "IPY_MODEL_e3b3d9000b3545738e6f9b67df3a1873"
      }
     },
     "695f943a95aa49698e466d7ea9eeee1b": {
      "model_module": "@jupyter-widgets/base",
      "model_module_version": "1.2.0",
      "model_name": "LayoutModel",
      "state": {
       "justify_content": "center"
      }
     },
     "6962b7e30f61438c9020a65372870e6a": {
      "model_module": "@jupyter-widgets/controls",
      "model_module_version": "1.5.0",
      "model_name": "DescriptionStyleModel",
      "state": {
       "description_width": ""
      }
     },
     "698095ac4993433aba383ec7b3624b39": {
      "model_module": "@jupyter-widgets/controls",
      "model_module_version": "1.5.0",
      "model_name": "ButtonStyleModel",
      "state": {}
     },
     "698786c8824a475b8e480efd1f26a04c": {
      "model_module": "@jupyter-widgets/base",
      "model_module_version": "1.2.0",
      "model_name": "LayoutModel",
      "state": {
       "justify_content": "center"
      }
     },
     "6987c908e32b42d5a6b2139f00aa9e83": {
      "model_module": "@jupyter-widgets/base",
      "model_module_version": "1.2.0",
      "model_name": "LayoutModel",
      "state": {
       "width": "600px"
      }
     },
     "69fa5f65c8fa4638a15fd7a2da017bd7": {
      "model_module": "@jupyter-widgets/controls",
      "model_module_version": "1.5.0",
      "model_name": "ButtonModel",
      "state": {
       "description": "past participle",
       "layout": "IPY_MODEL_3095234618cb438f8f329ba37407c2ec",
       "style": "IPY_MODEL_0bd47795af254f81b205687d14f0afb2"
      }
     },
     "6a1c2cc68cfb42ad96bbb0eab0566964": {
      "model_module": "@jupyter-widgets/controls",
      "model_module_version": "1.5.0",
      "model_name": "DescriptionStyleModel",
      "state": {
       "description_width": "initial"
      }
     },
     "6a309cbac4494f799dfd2e3fac43a0f2": {
      "model_module": "@jupyter-widgets/controls",
      "model_module_version": "1.5.0",
      "model_name": "DescriptionStyleModel",
      "state": {
       "description_width": ""
      }
     },
     "6a5eccc791b345298479973dd8818070": {
      "model_module": "@jupyter-widgets/controls",
      "model_module_version": "1.5.0",
      "model_name": "ButtonModel",
      "state": {
       "description": "Korrekt?",
       "layout": "IPY_MODEL_4e2371085b444b6ea4da85978e3ac661",
       "style": "IPY_MODEL_f379a8bb6a7f4a04a55241e01ba72b15"
      }
     },
     "6a7698e1beeb4f489e97a02afd137854": {
      "model_module": "@jupyter-widgets/controls",
      "model_module_version": "1.5.0",
      "model_name": "DescriptionStyleModel",
      "state": {
       "description_width": ""
      }
     },
     "6a877492587a47ef9329e26078a062b4": {
      "model_module": "@jupyter-widgets/controls",
      "model_module_version": "1.5.0",
      "model_name": "DescriptionStyleModel",
      "state": {
       "description_width": "initial"
      }
     },
     "6b0a086a7a3544f19283c16ac7c71770": {
      "model_module": "@jupyter-widgets/base",
      "model_module_version": "1.2.0",
      "model_name": "LayoutModel",
      "state": {
       "justify_content": "center"
      }
     },
     "6b3ee78230cd4ca79da8c9d2baf908b5": {
      "model_module": "@jupyter-widgets/base",
      "model_module_version": "1.2.0",
      "model_name": "LayoutModel",
      "state": {
       "width": "250px"
      }
     },
     "6b82685d43594944a1fedaff9934598b": {
      "model_module": "@jupyter-widgets/controls",
      "model_module_version": "1.5.0",
      "model_name": "ButtonModel",
      "state": {
       "description": "base",
       "layout": "IPY_MODEL_30ceeff7452349eba6021593177507e4",
       "style": "IPY_MODEL_0e2d94f111fd4c90a8876b9060cbc278"
      }
     },
     "6bbc64b4ffbe4bf5ae57126c4a47cf33": {
      "model_module": "@jupyter-widgets/controls",
      "model_module_version": "1.5.0",
      "model_name": "DescriptionStyleModel",
      "state": {
       "description_width": ""
      }
     },
     "6bc3ae91267340e7be83df178b46da5b": {
      "model_module": "@jupyter-widgets/base",
      "model_module_version": "1.2.0",
      "model_name": "LayoutModel",
      "state": {
       "width": "250px"
      }
     },
     "6c23d834283443d8a5200055407b4721": {
      "model_module": "@jupyter-widgets/base",
      "model_module_version": "1.2.0",
      "model_name": "LayoutModel",
      "state": {
       "justify_content": "center"
      }
     },
     "6c27ad9b46134cd39e06e19805268fe9": {
      "model_module": "@jupyter-widgets/controls",
      "model_module_version": "1.5.0",
      "model_name": "HTMLModel",
      "state": {
       "layout": "IPY_MODEL_9132a2af74014080a794abb6f73530ba",
       "style": "IPY_MODEL_0da22cb5c84b49f6b08bba937fb3ca90",
       "value": "<h4 style=\"font-size:14px;\">Sequenz unter Erhalt der</h4>"
      }
     },
     "6c527d7393114bc18ad592ec3796c352": {
      "model_module": "@jupyter-widgets/controls",
      "model_module_version": "1.5.0",
      "model_name": "HTMLModel",
      "state": {
       "layout": "IPY_MODEL_71596a7a1f81498bbb4dd1ddd92e68b6",
       "style": "IPY_MODEL_a98ac38be5af43ecb11b34ff2def970c",
       "value": "<i>Wählen Sie die <ins>eine</ins> korrekte Antwort aus: </i>"
      }
     },
     "6c7d9b4f79fd4220b23817c57b5c48b2": {
      "model_module": "@jupyter-widgets/controls",
      "model_module_version": "1.5.0",
      "model_name": "ButtonStyleModel",
      "state": {}
     },
     "6c8c8ed347284adfb32adb7390169a14": {
      "model_module": "@jupyter-widgets/base",
      "model_module_version": "1.2.0",
      "model_name": "LayoutModel",
      "state": {
       "width": "250px"
      }
     },
     "6cba68d36a94426fa44364e9211eb799": {
      "model_module": "@jupyter-widgets/controls",
      "model_module_version": "1.5.0",
      "model_name": "ButtonModel",
      "state": {
       "description": "base",
       "layout": "IPY_MODEL_08a12394788b486e86bddee4610a01ff",
       "style": "IPY_MODEL_b19ae9aaa8ed42ec8ce32978dab4e200"
      }
     },
     "6cd0a65bb5a84c10a6490c16f652a0bf": {
      "model_module": "@jupyter-widgets/base",
      "model_module_version": "1.2.0",
      "model_name": "LayoutModel",
      "state": {}
     },
     "6cdd618cd0174a71a879854f5d51e363": {
      "model_module": "@jupyter-widgets/base",
      "model_module_version": "1.2.0",
      "model_name": "LayoutModel",
      "state": {}
     },
     "6d9b757986ed43cf8d9e9bb41c3c2e37": {
      "model_module": "@jupyter-widgets/base",
      "model_module_version": "1.2.0",
      "model_name": "LayoutModel",
      "state": {}
     },
     "6dee73b3d6c94473a9709ada651ec8ab": {
      "model_module": "@jupyter-widgets/controls",
      "model_module_version": "1.5.0",
      "model_name": "DescriptionStyleModel",
      "state": {
       "description_width": ""
      }
     },
     "6e0a63d3e5cb4e06a9f931f201f7da16": {
      "model_module": "@jupyter-widgets/controls",
      "model_module_version": "1.5.0",
      "model_name": "DescriptionStyleModel",
      "state": {
       "description_width": "initial"
      }
     },
     "6e19ad920340470c92e01607558fbb09": {
      "model_module": "@jupyter-widgets/controls",
      "model_module_version": "1.5.0",
      "model_name": "HTMLModel",
      "state": {
       "layout": "IPY_MODEL_698786c8824a475b8e480efd1f26a04c",
       "style": "IPY_MODEL_b4330fca036c4d4eb046497c4822aa7b",
       "value": "<h4 style=\"font-size:14px;\">Was bedeutet das Tag <i>VBZ</i> im Browntagset (siehe 5.7)?</h4>"
      }
     },
     "6e2797b321bd4aca805c55f8d65c180d": {
      "model_module": "@jupyter-widgets/base",
      "model_module_version": "1.2.0",
      "model_name": "LayoutModel",
      "state": {
       "width": "600px"
      }
     },
     "6e347b484e4047c581934293a9d3699a": {
      "model_module": "@jupyter-widgets/controls",
      "model_module_version": "1.5.0",
      "model_name": "ButtonModel",
      "state": {
       "description": "gerund",
       "layout": "IPY_MODEL_10bf470b380b479d97bb4b0fad46ded8",
       "style": "IPY_MODEL_7f550a13e6b54f51b5a7516f33e25056"
      }
     },
     "6e3f2d6654214d47b4ffe2cf5cc6d543": {
      "model_module": "@jupyter-widgets/controls",
      "model_module_version": "1.5.0",
      "model_name": "ButtonStyleModel",
      "state": {}
     },
     "6e4852461e4f41d3a0384ad835b16a87": {
      "model_module": "@jupyter-widgets/base",
      "model_module_version": "1.2.0",
      "model_name": "LayoutModel",
      "state": {
       "justify_content": "center"
      }
     },
     "6e98dca7a8b747998e002f475166a2b5": {
      "model_module": "@jupyter-widgets/controls",
      "model_module_version": "1.5.0",
      "model_name": "HTMLModel",
      "state": {
       "layout": "IPY_MODEL_53823bc48477492a82ec53dbd6e76619",
       "style": "IPY_MODEL_001549802c97480087dabe248994b6ba",
       "value": "<h4 style=\"font-size:14px;\">Was bedeutet das Tag <i>VBN</i> im Browntagset (siehe 5.7)?</h4>"
      }
     },
     "6ebabff80f0c41439850d163c89873e9": {
      "model_module": "@jupyter-widgets/controls",
      "model_module_version": "1.5.0",
      "model_name": "HTMLModel",
      "state": {
       "layout": "IPY_MODEL_6b0a086a7a3544f19283c16ac7c71770",
       "style": "IPY_MODEL_57c41c3ca7244cfea4f03d23e08259fe",
       "value": "<i>Vervollständigen Sie den Lückentext: </i>"
      }
     },
     "6ee2b0b35e394c10849e751ac2cd9d6c": {
      "model_module": "@jupyter-widgets/base",
      "model_module_version": "1.2.0",
      "model_name": "LayoutModel",
      "state": {
       "width": "250px"
      }
     },
     "6ee5917709d34e80b65a00e0feb0d39f": {
      "model_module": "@jupyter-widgets/base",
      "model_module_version": "1.2.0",
      "model_name": "LayoutModel",
      "state": {}
     },
     "6f56e8ff5f2e4c18b3e2646c8db8632c": {
      "model_module": "@jupyter-widgets/controls",
      "model_module_version": "1.5.0",
      "model_name": "ButtonStyleModel",
      "state": {}
     },
     "6fe19e8019a04ff297dc9877d18ae016": {
      "model_module": "@jupyter-widgets/controls",
      "model_module_version": "1.5.0",
      "model_name": "HBoxModel",
      "state": {
       "children": [
        "IPY_MODEL_c391841557cf4df38baad78570c68513",
        "IPY_MODEL_647b085b49914eefa1f1853d96b341a4"
       ],
       "layout": "IPY_MODEL_f76ca4aa662d470c9ae273279cb9f93a"
      }
     },
     "6ff51eab5362409fa8a3775c6a70abaf": {
      "model_module": "@jupyter-widgets/controls",
      "model_module_version": "1.5.0",
      "model_name": "ButtonStyleModel",
      "state": {}
     },
     "6ffbb2d6a34240c6bb478c83fc32a3c7": {
      "model_module": "@jupyter-widgets/base",
      "model_module_version": "1.2.0",
      "model_name": "LayoutModel",
      "state": {}
     },
     "7028d42193374931b8b4ba85fd674c74": {
      "model_module": "@jupyter-widgets/base",
      "model_module_version": "1.2.0",
      "model_name": "LayoutModel",
      "state": {
       "width": "250px"
      }
     },
     "707279f4420941b3a1b2d193b8d58ddb": {
      "model_module": "@jupyter-widgets/base",
      "model_module_version": "1.2.0",
      "model_name": "LayoutModel",
      "state": {}
     },
     "709df8db22ce4699841d002cc8a54252": {
      "model_module": "@jupyter-widgets/controls",
      "model_module_version": "1.5.0",
      "model_name": "ButtonStyleModel",
      "state": {
       "button_color": "lightgreen"
      }
     },
     "70bbb66ff0cc45779650856145b6b5b9": {
      "model_module": "@jupyter-widgets/controls",
      "model_module_version": "1.5.0",
      "model_name": "ButtonModel",
      "state": {
       "description": "Korrekt?",
       "layout": "IPY_MODEL_e3d89f74b9aa41d681591161c48aac04",
       "style": "IPY_MODEL_b8b587f3b18f4f8eaccab9b65f572c66"
      }
     },
     "70cc74e9a6ae4cf8bb93740927709f68": {
      "model_module": "@jupyter-widgets/controls",
      "model_module_version": "1.5.0",
      "model_name": "DescriptionStyleModel",
      "state": {
       "description_width": ""
      }
     },
     "70d34764ec7549f6b46f046af893ac83": {
      "model_module": "@jupyter-widgets/base",
      "model_module_version": "1.2.0",
      "model_name": "LayoutModel",
      "state": {
       "width": "250px"
      }
     },
     "712a269507a54c4e9e6f62250b458669": {
      "model_module": "@jupyter-widgets/controls",
      "model_module_version": "1.5.0",
      "model_name": "ButtonModel",
      "state": {
       "description": "Adverb",
       "layout": "IPY_MODEL_a117dcac63c64741add567d41f8bd30f",
       "style": "IPY_MODEL_ab509ab1388e461486740f157feea562"
      }
     },
     "712d8f7593e84a68b8f27267a1f0cf18": {
      "model_module": "@jupyter-widgets/base",
      "model_module_version": "1.2.0",
      "model_name": "LayoutModel",
      "state": {
       "width": "250px"
      }
     },
     "7130349670614c988525b55ce3c9dc66": {
      "model_module": "@jupyter-widgets/controls",
      "model_module_version": "1.5.0",
      "model_name": "ButtonModel",
      "state": {
       "description": "3rd singular present",
       "layout": "IPY_MODEL_48629eaf2a6044288134c78380037b21",
       "style": "IPY_MODEL_14591b22cbef49b1a319fc737e79b291"
      }
     },
     "71596a7a1f81498bbb4dd1ddd92e68b6": {
      "model_module": "@jupyter-widgets/base",
      "model_module_version": "1.2.0",
      "model_name": "LayoutModel",
      "state": {
       "justify_content": "center"
      }
     },
     "715c358087564211841133423d0b1829": {
      "model_module": "@jupyter-widgets/base",
      "model_module_version": "1.2.0",
      "model_name": "LayoutModel",
      "state": {
       "width": "250px"
      }
     },
     "7172f0e8ac344b91b26d64310094e140": {
      "model_module": "@jupyter-widgets/base",
      "model_module_version": "1.2.0",
      "model_name": "LayoutModel",
      "state": {
       "width": "600px"
      }
     },
     "717c28e03381401aac6c64d374b747f5": {
      "model_module": "@jupyter-widgets/base",
      "model_module_version": "1.2.0",
      "model_name": "LayoutModel",
      "state": {}
     },
     "71a985fedd7d405f8758721f84c5634a": {
      "model_module": "@jupyter-widgets/controls",
      "model_module_version": "1.5.0",
      "model_name": "ButtonStyleModel",
      "state": {}
     },
     "720e986f1ebd48c0b2aa119f973b34af": {
      "model_module": "@jupyter-widgets/controls",
      "model_module_version": "1.5.0",
      "model_name": "ButtonModel",
      "state": {
       "description": "Adjektiv",
       "layout": "IPY_MODEL_712d8f7593e84a68b8f27267a1f0cf18",
       "style": "IPY_MODEL_e08d36ff4f094a7885bf707b8d18ae51"
      }
     },
     "72303721e1aa444faa33de8ee9a8888b": {
      "model_module": "@jupyter-widgets/controls",
      "model_module_version": "1.5.0",
      "model_name": "ButtonStyleModel",
      "state": {}
     },
     "72786c1d5c1d4b52b7ad60fa767128d7": {
      "model_module": "@jupyter-widgets/controls",
      "model_module_version": "1.5.0",
      "model_name": "ButtonModel",
      "state": {
       "description": "Adjektiv",
       "layout": "IPY_MODEL_b3caf0e1f4874177af25b9ffab960d94",
       "style": "IPY_MODEL_f83406e78a2b4049b09e1a6653c1a75e"
      }
     },
     "7279d9572ce54df487aab7ba0d7ecf9a": {
      "model_module": "@jupyter-widgets/base",
      "model_module_version": "1.2.0",
      "model_name": "LayoutModel",
      "state": {
       "align_content": "stretch",
       "align_items": "stretch",
       "display": "inline-flex",
       "flex": "flex-grow",
       "flex_flow": "row wrap",
       "justify_content": "flex-start"
      }
     },
     "72cd3649159f45f2a43ccfb15d3ad88c": {
      "model_module": "@jupyter-widgets/controls",
      "model_module_version": "1.5.0",
      "model_name": "ButtonStyleModel",
      "state": {}
     },
     "72cfb06a699e4accad178c7f281117b2": {
      "model_module": "@jupyter-widgets/base",
      "model_module_version": "1.2.0",
      "model_name": "LayoutModel",
      "state": {
       "width": "250px"
      }
     },
     "72e35d203fcc411686d45efe3410039a": {
      "model_module": "@jupyter-widgets/controls",
      "model_module_version": "1.5.0",
      "model_name": "VBoxModel",
      "state": {
       "children": [
        "IPY_MODEL_6ebabff80f0c41439850d163c89873e9",
        "IPY_MODEL_e0990e53b749452dab20361c3da5e849",
        "IPY_MODEL_c45b13f15e25492baef1aa268d47c183"
       ],
       "layout": "IPY_MODEL_fbd565c5222c42c28c7b4127b1c7bc57"
      }
     },
     "731ed432df434d0e9524ba8b22d80133": {
      "model_module": "@jupyter-widgets/base",
      "model_module_version": "1.2.0",
      "model_name": "LayoutModel",
      "state": {
       "width": "250px"
      }
     },
     "7331225fc0a146beaaad09e28ffcb7f6": {
      "model_module": "@jupyter-widgets/controls",
      "model_module_version": "1.5.0",
      "model_name": "HTMLModel",
      "state": {
       "layout": "IPY_MODEL_5549f6f2fc804f3aa01c615953a48119",
       "style": "IPY_MODEL_9b556024c84a434eb47ee4c7c1f32633",
       "value": "<h4 style=\"font-size:14px;\">durch eine</h4>"
      }
     },
     "73475409bf894c878e044f92c5ff74ed": {
      "model_module": "@jupyter-widgets/base",
      "model_module_version": "1.2.0",
      "model_name": "LayoutModel",
      "state": {}
     },
     "73560554859049038bdf2a15af9562dc": {
      "model_module": "@jupyter-widgets/base",
      "model_module_version": "1.2.0",
      "model_name": "LayoutModel",
      "state": {
       "width": "250px"
      }
     },
     "73bf103af89b45cd9db6d01c348dc5d8": {
      "model_module": "@jupyter-widgets/controls",
      "model_module_version": "1.5.0",
      "model_name": "ButtonStyleModel",
      "state": {}
     },
     "74640f6fbdbe4892bb51b2799404d104": {
      "model_module": "@jupyter-widgets/controls",
      "model_module_version": "1.5.0",
      "model_name": "ButtonModel",
      "state": {
       "description": "gerund",
       "layout": "IPY_MODEL_86cb6be96c8d4f3d98f52ee81fccaa19",
       "style": "IPY_MODEL_d9e2daaef37448b889ba718c03e1d3e6"
      }
     },
     "7468c2df97ed4b59b592252b2614bfab": {
      "model_module": "@jupyter-widgets/base",
      "model_module_version": "1.2.0",
      "model_name": "LayoutModel",
      "state": {
       "justify_content": "center"
      }
     },
     "7484efad54cd4c21b43c07857b9ade07": {
      "model_module": "@jupyter-widgets/base",
      "model_module_version": "1.2.0",
      "model_name": "LayoutModel",
      "state": {}
     },
     "74a3b779456a4fcf90c5dce5528b5216": {
      "model_module": "@jupyter-widgets/controls",
      "model_module_version": "1.5.0",
      "model_name": "ButtonStyleModel",
      "state": {}
     },
     "74e506220a334791b21c8779cf1861d3": {
      "model_module": "@jupyter-widgets/controls",
      "model_module_version": "1.5.0",
      "model_name": "HTMLModel",
      "state": {
       "layout": "IPY_MODEL_9ced5394accf476c98002f512bda38fe",
       "style": "IPY_MODEL_a1200b7d06e14b7b883643d4b00152cd",
       "value": "<i>Wählen Sie die <ins>eine</ins> korrekte Antwort aus: </i>"
      }
     },
     "7506ca857fd24c8d9f4b34db59aefddb": {
      "model_module": "@jupyter-widgets/controls",
      "model_module_version": "1.5.0",
      "model_name": "ButtonStyleModel",
      "state": {}
     },
     "75074fd3651c4dd58c985ad5dec46b46": {
      "model_module": "@jupyter-widgets/base",
      "model_module_version": "1.2.0",
      "model_name": "LayoutModel",
      "state": {
       "width": "250px"
      }
     },
     "7507e3b916c246ffb46e834d616ec29c": {
      "model_module": "@jupyter-widgets/controls",
      "model_module_version": "1.5.0",
      "model_name": "HTMLModel",
      "state": {
       "layout": "IPY_MODEL_ce07a17cdb77478081bd10920a8445ec",
       "style": "IPY_MODEL_c9db51a596dd48049907caf55a6a2b79",
       "value": "<h4 style=\"font-size:14px;\">gestellt. Die gesamte</h4>"
      }
     },
     "7562945480914479b5c6d67db181db9c": {
      "model_module": "@jupyter-widgets/controls",
      "model_module_version": "1.5.0",
      "model_name": "HBoxModel",
      "state": {
       "children": [
        "IPY_MODEL_0af7f2a44e5e4aafa73d44eae35298a0",
        "IPY_MODEL_a8a218a1d5e74d529f82bccb1912a856"
       ],
       "layout": "IPY_MODEL_7d5efc417f554fa18db5b542b835054b"
      }
     },
     "758d40cc7f184243b2264831f40ab064": {
      "model_module": "@jupyter-widgets/base",
      "model_module_version": "1.2.0",
      "model_name": "LayoutModel",
      "state": {
       "width": "600px"
      }
     },
     "759699d6b15e4d28bf7a45182a3e5b51": {
      "model_module": "@jupyter-widgets/base",
      "model_module_version": "1.2.0",
      "model_name": "LayoutModel",
      "state": {}
     },
     "75eb0a0f99244b33b4ec25a6a31c6a02": {
      "model_module": "@jupyter-widgets/controls",
      "model_module_version": "1.5.0",
      "model_name": "ButtonStyleModel",
      "state": {}
     },
     "75f0db164d91437fb9528e50eb3e66bc": {
      "model_module": "@jupyter-widgets/controls",
      "model_module_version": "1.5.0",
      "model_name": "DescriptionStyleModel",
      "state": {
       "description_width": ""
      }
     },
     "761c11aeb347486f9c84b275c9d9d066": {
      "model_module": "@jupyter-widgets/base",
      "model_module_version": "1.2.0",
      "model_name": "LayoutModel",
      "state": {
       "justify_content": "center"
      }
     },
     "7622df1dc5af4a72b028041f5a317716": {
      "model_module": "@jupyter-widgets/base",
      "model_module_version": "1.2.0",
      "model_name": "LayoutModel",
      "state": {
       "width": "250px"
      }
     },
     "7688b2049cfc4f4eb066e800cef26880": {
      "model_module": "@jupyter-widgets/base",
      "model_module_version": "1.2.0",
      "model_name": "LayoutModel",
      "state": {
       "width": "600px"
      }
     },
     "76e113a6001141d8930428ce2badad88": {
      "model_module": "@jupyter-widgets/controls",
      "model_module_version": "1.5.0",
      "model_name": "ButtonStyleModel",
      "state": {}
     },
     "77167c9935234c219132fd3c0c326bd5": {
      "model_module": "@jupyter-widgets/controls",
      "model_module_version": "1.5.0",
      "model_name": "ButtonStyleModel",
      "state": {}
     },
     "771a9ad2af4c43df8ae49242dbd5a3c4": {
      "model_module": "@jupyter-widgets/base",
      "model_module_version": "1.2.0",
      "model_name": "LayoutModel",
      "state": {
       "width": "250px"
      }
     },
     "77619603fa5b4460abb61434fc1f60e4": {
      "model_module": "@jupyter-widgets/controls",
      "model_module_version": "1.5.0",
      "model_name": "ButtonStyleModel",
      "state": {}
     },
     "7780e7f0dbe945d3bb8e376f82955507": {
      "model_module": "@jupyter-widgets/controls",
      "model_module_version": "1.5.0",
      "model_name": "VBoxModel",
      "state": {
       "children": [
        "IPY_MODEL_a133ddfc31e048e9863b277f0f8c14bd",
        "IPY_MODEL_204700e57fc7459aadc07bd0abfcfdc3",
        "IPY_MODEL_49387799c9884b9d8e49ad46c45ab909",
        "IPY_MODEL_a3c77a874087448d95d5b8aeb1583f07"
       ],
       "layout": "IPY_MODEL_86a55a19846a42f0b7825a8faed8cdef"
      }
     },
     "77d621ffb6234b9b81c2a58796d89015": {
      "model_module": "@jupyter-widgets/base",
      "model_module_version": "1.2.0",
      "model_name": "LayoutModel",
      "state": {}
     },
     "77e2c3cbdf99458cb0c1386da24d965d": {
      "model_module": "@jupyter-widgets/base",
      "model_module_version": "1.2.0",
      "model_name": "LayoutModel",
      "state": {}
     },
     "782830be45aa4665bcf08c9cb1b1beed": {
      "model_module": "@jupyter-widgets/base",
      "model_module_version": "1.2.0",
      "model_name": "LayoutModel",
      "state": {
       "justify_content": "center"
      }
     },
     "783156746d014d34815ff9bc61df40eb": {
      "model_module": "@jupyter-widgets/controls",
      "model_module_version": "1.5.0",
      "model_name": "ButtonModel",
      "state": {
       "description": "Korrekt?",
       "layout": "IPY_MODEL_d6b1ca119927453c9a4ed72e4a6c2787",
       "style": "IPY_MODEL_f430dab4212d4908b39797cc507a52f6"
      }
     },
     "785b0bf403b6436eab5b3d30bdac5b93": {
      "model_module": "@jupyter-widgets/base",
      "model_module_version": "1.2.0",
      "model_name": "LayoutModel",
      "state": {
       "width": "150px"
      }
     },
     "7863da3de52f4388bc6626df80ac2951": {
      "model_module": "@jupyter-widgets/base",
      "model_module_version": "1.2.0",
      "model_name": "LayoutModel",
      "state": {}
     },
     "787a285a24ee43dea9273df34503b263": {
      "model_module": "@jupyter-widgets/base",
      "model_module_version": "1.2.0",
      "model_name": "LayoutModel",
      "state": {
       "width": "150px"
      }
     },
     "78cadc21a68f4085af572ba2ac8bf5fa": {
      "model_module": "@jupyter-widgets/base",
      "model_module_version": "1.2.0",
      "model_name": "LayoutModel",
      "state": {}
     },
     "78ce1a251dcc4aaea5ceaa540c53b091": {
      "model_module": "@jupyter-widgets/base",
      "model_module_version": "1.2.0",
      "model_name": "LayoutModel",
      "state": {
       "width": "250px"
      }
     },
     "78da84633b624b92bbcaee137ef0c633": {
      "model_module": "@jupyter-widgets/controls",
      "model_module_version": "1.5.0",
      "model_name": "HBoxModel",
      "state": {
       "children": [
        "IPY_MODEL_f89cf6b01f564c5b9c6aaa3f0062d485"
       ],
       "layout": "IPY_MODEL_aa5c698cb3ed4f77878d96b4156ccab3"
      }
     },
     "78e041961334415493c00fc6ecc8abe0": {
      "model_module": "@jupyter-widgets/controls",
      "model_module_version": "1.5.0",
      "model_name": "HTMLModel",
      "state": {
       "layout": "IPY_MODEL_658887f9cb2d479b8f40478f7939a400",
       "style": "IPY_MODEL_dfc159cb5f884c078d3a1a3471c42852",
       "value": "<h4 style=\"font-size:14px;\">Wie wirt der POS-Tagger im NLTK aufgerufen?</h4>"
      }
     },
     "78f43745fad04b2e9073903dc7f91317": {
      "model_module": "@jupyter-widgets/base",
      "model_module_version": "1.2.0",
      "model_name": "LayoutModel",
      "state": {}
     },
     "78fb7ef10da94f17885884d422529f91": {
      "model_module": "@jupyter-widgets/controls",
      "model_module_version": "1.5.0",
      "model_name": "VBoxModel",
      "state": {
       "children": [
        "IPY_MODEL_1e0dbb8a7da04a199aad9381e253132d",
        "IPY_MODEL_27939b625be64a28bc58fb049b96b4ce",
        "IPY_MODEL_2c91f3ac3a4e4dcc81d17671ae9538c8",
        "IPY_MODEL_3a298a8d280b470bbc8a37af0a8dd9a8"
       ],
       "layout": "IPY_MODEL_759699d6b15e4d28bf7a45182a3e5b51"
      }
     },
     "79237856288e4a4eb0182330c5a7af9a": {
      "model_module": "@jupyter-widgets/controls",
      "model_module_version": "1.5.0",
      "model_name": "CheckboxModel",
      "state": {
       "description": "gleiche Endungen",
       "disabled": false,
       "layout": "IPY_MODEL_66d3ffdbaa2a4cbfbfe870abbbfd9133",
       "style": "IPY_MODEL_4ebda90c52064e55a48b78737f4e5399",
       "value": false
      }
     },
     "7924605e8f3349a9a6830cf44e89383d": {
      "model_module": "@jupyter-widgets/base",
      "model_module_version": "1.2.0",
      "model_name": "LayoutModel",
      "state": {}
     },
     "7966255a9e2547129aeb8f865ae8f1d8": {
      "model_module": "@jupyter-widgets/controls",
      "model_module_version": "1.5.0",
      "model_name": "DescriptionStyleModel",
      "state": {
       "description_width": ""
      }
     },
     "797ca9f9f64143ab863555202a3dacc8": {
      "model_module": "@jupyter-widgets/controls",
      "model_module_version": "1.5.0",
      "model_name": "HTMLModel",
      "state": {
       "layout": "IPY_MODEL_6c23d834283443d8a5200055407b4721",
       "style": "IPY_MODEL_54751d5cc5f34737ac84478bd660e1a5",
       "value": "<i>Wählen Sie die <ins>eine</ins> korrekte Antwort aus: </i>"
      }
     },
     "79b55b7ccb714cc98a593b92f954720e": {
      "model_module": "@jupyter-widgets/base",
      "model_module_version": "1.2.0",
      "model_name": "LayoutModel",
      "state": {}
     },
     "79da896bb19b433bbc206b587f7be48e": {
      "model_module": "@jupyter-widgets/controls",
      "model_module_version": "1.5.0",
      "model_name": "DescriptionStyleModel",
      "state": {
       "description_width": ""
      }
     },
     "79e27a107cdb42a983291bf56e12570e": {
      "model_module": "@jupyter-widgets/controls",
      "model_module_version": "1.5.0",
      "model_name": "HTMLModel",
      "state": {
       "layout": "IPY_MODEL_b53a618556f94bedab98ecbaa6185e99",
       "style": "IPY_MODEL_d8bc776f872943e3ba10f09b775fd557",
       "value": "<h4 style=\"font-size:14px;\">In der ersten Zeile des Codes werden</h4>"
      }
     },
     "79e47e24df914407a493dea7f2b988c3": {
      "model_module": "@jupyter-widgets/base",
      "model_module_version": "1.2.0",
      "model_name": "LayoutModel",
      "state": {}
     },
     "7a2f2d25a8bf487b877a3af10f0bffe2": {
      "model_module": "@jupyter-widgets/base",
      "model_module_version": "1.2.0",
      "model_name": "LayoutModel",
      "state": {
       "width": "600px"
      }
     },
     "7aaada1907514ab0ab63cbf187091109": {
      "model_module": "@jupyter-widgets/base",
      "model_module_version": "1.2.0",
      "model_name": "LayoutModel",
      "state": {
       "width": "250px"
      }
     },
     "7ab560362cfc41ec872b2a98b947384b": {
      "model_module": "@jupyter-widgets/controls",
      "model_module_version": "1.5.0",
      "model_name": "HTMLModel",
      "state": {
       "layout": "IPY_MODEL_0652b65731f247eeb204016afb703956",
       "style": "IPY_MODEL_080dae6c928444b0b8e5c4e02b974234",
       "value": "<h4 style=\"font-size:14px;\">Welche Wortart könnte man für das Wort <i>gut</i> in Satz 2 vermuten, wenn man Adverbien nicht morphologisch, sondern semantisch charakterisiert (als Wortart, die der Modifizierung des Verbalgeschehens dient)?</h4>"
      }
     },
     "7af037262025430f97a1e7e0a68ec973": {
      "model_module": "@jupyter-widgets/controls",
      "model_module_version": "1.5.0",
      "model_name": "DescriptionStyleModel",
      "state": {
       "description_width": ""
      }
     },
     "7b256861878949dbbe16730e44c8cf40": {
      "model_module": "@jupyter-widgets/base",
      "model_module_version": "1.2.0",
      "model_name": "LayoutModel",
      "state": {
       "justify_content": "center"
      }
     },
     "7b29b7dee2d94f559ef708242f01b2d5": {
      "model_module": "@jupyter-widgets/controls",
      "model_module_version": "1.5.0",
      "model_name": "HTMLModel",
      "state": {
       "layout": "IPY_MODEL_0444196ce18549e0a156cb092ff3483c",
       "style": "IPY_MODEL_2d354fc336194f5e9418a6284d362cca",
       "value": "<h4 style=\"font-size:14px;\">Was bedeutet das Tag <i>VBD</i> im Browntagset (siehe 5.7)?</h4>"
      }
     },
     "7b2e197c61d7426db4b20e957a746ce3": {
      "model_module": "@jupyter-widgets/controls",
      "model_module_version": "1.5.0",
      "model_name": "HBoxModel",
      "state": {
       "children": [
        "IPY_MODEL_0e9a69a92a094a35a02e51927a99f1d5",
        "IPY_MODEL_0f01c4c0a3b74fb294f3724ca983f382"
       ],
       "layout": "IPY_MODEL_275ff7fc0f7e472abecf42d3548f219e"
      }
     },
     "7b427fd09cfe42a6aa890ce25e20a895": {
      "model_module": "@jupyter-widgets/controls",
      "model_module_version": "1.5.0",
      "model_name": "HBoxModel",
      "state": {
       "children": [
        "IPY_MODEL_4e2162eeae0f432389e319c39bc20726",
        "IPY_MODEL_cef09d4b193f4984be510f04c53531f1"
       ],
       "layout": "IPY_MODEL_cdbfede5b00a4bf795605634afe6806c"
      }
     },
     "7bd87f3c026a42a485c5047d1dce8772": {
      "model_module": "@jupyter-widgets/base",
      "model_module_version": "1.2.0",
      "model_name": "LayoutModel",
      "state": {
       "width": "600px"
      }
     },
     "7c36b1888c604a748b95f6e5cfec29c8": {
      "model_module": "@jupyter-widgets/base",
      "model_module_version": "1.2.0",
      "model_name": "LayoutModel",
      "state": {
       "width": "150px"
      }
     },
     "7c5415791d49420ea4d60641fde87ef5": {
      "model_module": "@jupyter-widgets/controls",
      "model_module_version": "1.5.0",
      "model_name": "ButtonStyleModel",
      "state": {
       "button_color": "lightgreen"
      }
     },
     "7c5cf97505514340803d3b062cd75dc9": {
      "model_module": "@jupyter-widgets/base",
      "model_module_version": "1.2.0",
      "model_name": "LayoutModel",
      "state": {
       "width": "600px"
      }
     },
     "7c6c3aa4950b4baba217b94ecc446087": {
      "model_module": "@jupyter-widgets/controls",
      "model_module_version": "1.5.0",
      "model_name": "DescriptionStyleModel",
      "state": {
       "description_width": "initial"
      }
     },
     "7ccd16a796344e61b2a07d6f5538e8fe": {
      "model_module": "@jupyter-widgets/base",
      "model_module_version": "1.2.0",
      "model_name": "LayoutModel",
      "state": {
       "width": "150px"
      }
     },
     "7d195f3af0c845578c95fd5943c87593": {
      "model_module": "@jupyter-widgets/base",
      "model_module_version": "1.2.0",
      "model_name": "LayoutModel",
      "state": {
       "width": "150px"
      }
     },
     "7d1d9cc05afa49ce8fb5016e59127078": {
      "model_module": "@jupyter-widgets/base",
      "model_module_version": "1.2.0",
      "model_name": "LayoutModel",
      "state": {
       "width": "250px"
      }
     },
     "7d5efc417f554fa18db5b542b835054b": {
      "model_module": "@jupyter-widgets/base",
      "model_module_version": "1.2.0",
      "model_name": "LayoutModel",
      "state": {}
     },
     "7dc1f6bfae464015813ad2b7279a3fb9": {
      "model_module": "@jupyter-widgets/controls",
      "model_module_version": "1.5.0",
      "model_name": "DescriptionStyleModel",
      "state": {
       "description_width": ""
      }
     },
     "7ddea4eec8e54f4db6f5bcf550ef50c3": {
      "model_module": "@jupyter-widgets/controls",
      "model_module_version": "1.5.0",
      "model_name": "VBoxModel",
      "state": {
       "children": [
        "IPY_MODEL_b7edd2668b5349379c3a22638dc2bcd1",
        "IPY_MODEL_b96bf0b15b1d43c29391a7437955331a",
        "IPY_MODEL_46025779522a4ffba94bd12bf5025303",
        "IPY_MODEL_ace155cd2fba4a1aaadb31829aea8e1f"
       ],
       "layout": "IPY_MODEL_d27df11795af4f08ae726971a5389f66"
      }
     },
     "7e11ed17d49d45109fb172cbb5b6dd36": {
      "model_module": "@jupyter-widgets/controls",
      "model_module_version": "1.5.0",
      "model_name": "ButtonModel",
      "state": {
       "description": "Adjektiv",
       "layout": "IPY_MODEL_863813f8c88e4460ae47bba2459596d2",
       "style": "IPY_MODEL_0b572650157947c9961b10ebbdbd07e7"
      }
     },
     "7e4fccdf031c4490b4243396540b20e2": {
      "model_module": "@jupyter-widgets/controls",
      "model_module_version": "1.5.0",
      "model_name": "DescriptionStyleModel",
      "state": {
       "description_width": ""
      }
     },
     "7eb5d730dbcf47ca9234c419f45a2690": {
      "model_module": "@jupyter-widgets/controls",
      "model_module_version": "1.5.0",
      "model_name": "DescriptionStyleModel",
      "state": {
       "description_width": "initial"
      }
     },
     "7ef82cff12264a7daf80a613b0dad57f": {
      "model_module": "@jupyter-widgets/controls",
      "model_module_version": "1.5.0",
      "model_name": "DescriptionStyleModel",
      "state": {
       "description_width": ""
      }
     },
     "7f12994cd25341d0a5a618b786c897c1": {
      "model_module": "@jupyter-widgets/controls",
      "model_module_version": "1.5.0",
      "model_name": "CheckboxModel",
      "state": {
       "description": "Nur mit einem Schritt beginnt auch eine Reise von tausend Meilen.",
       "disabled": false,
       "layout": "IPY_MODEL_fa2476b5bb7a4f678538cf2a12c83dc2",
       "style": "IPY_MODEL_307b1c31a19a4b86b886ba18f6df689e",
       "value": false
      }
     },
     "7f550a13e6b54f51b5a7516f33e25056": {
      "model_module": "@jupyter-widgets/controls",
      "model_module_version": "1.5.0",
      "model_name": "ButtonStyleModel",
      "state": {
       "button_color": "lightgreen"
      }
     },
     "7f6086a946af4b6eaeb99e7d7f5e8476": {
      "model_module": "@jupyter-widgets/base",
      "model_module_version": "1.2.0",
      "model_name": "LayoutModel",
      "state": {}
     },
     "7f88abd25a3a4749a5c39ca65a72eb49": {
      "model_module": "@jupyter-widgets/base",
      "model_module_version": "1.2.0",
      "model_name": "LayoutModel",
      "state": {
       "align_content": "stretch",
       "align_items": "stretch",
       "display": "inline-flex",
       "flex": "flex-grow",
       "flex_flow": "row wrap",
       "justify_content": "flex-start"
      }
     },
     "7f8d9c8a926b473aacfcf6222a879d3d": {
      "model_module": "@jupyter-widgets/controls",
      "model_module_version": "1.5.0",
      "model_name": "HTMLModel",
      "state": {
       "layout": "IPY_MODEL_b6a814c5c4fc478683426c9d0c50f609",
       "style": "IPY_MODEL_25425afca1cf4916959a2b357b31bff9",
       "value": "<i>Vervollständigen Sie den Lückentext: </i>"
      }
     },
     "8004dbeedb5b460abae5c7ca8ffdbbb4": {
      "model_module": "@jupyter-widgets/controls",
      "model_module_version": "1.5.0",
      "model_name": "HBoxModel",
      "state": {
       "children": [
        "IPY_MODEL_7e11ed17d49d45109fb172cbb5b6dd36",
        "IPY_MODEL_67265b23febc4b5090626c56db1838a1"
       ],
       "layout": "IPY_MODEL_3b829a817cba48dca839a7ddbdfb938b"
      }
     },
     "800973409c6948b3a94c46cb103c6624": {
      "model_module": "@jupyter-widgets/base",
      "model_module_version": "1.2.0",
      "model_name": "LayoutModel",
      "state": {
       "width": "250px"
      }
     },
     "805e25e260484602a4c99cebd8bff16b": {
      "model_module": "@jupyter-widgets/base",
      "model_module_version": "1.2.0",
      "model_name": "LayoutModel",
      "state": {
       "width": "600px"
      }
     },
     "809cc76b7f94488a86a4d67b997e6c29": {
      "model_module": "@jupyter-widgets/controls",
      "model_module_version": "1.5.0",
      "model_name": "DescriptionStyleModel",
      "state": {
       "description_width": "initial"
      }
     },
     "812789c9b99c425e89b9ec747cbc2578": {
      "model_module": "@jupyter-widgets/base",
      "model_module_version": "1.2.0",
      "model_name": "LayoutModel",
      "state": {}
     },
     "8133bd3b1c9b488dbf203700121829b1": {
      "model_module": "@jupyter-widgets/base",
      "model_module_version": "1.2.0",
      "model_name": "LayoutModel",
      "state": {
       "width": "250px"
      }
     },
     "814e3e3712a84823b89bc83a52ad0e9b": {
      "model_module": "@jupyter-widgets/controls",
      "model_module_version": "1.5.0",
      "model_name": "VBoxModel",
      "state": {
       "children": [
        "IPY_MODEL_6e19ad920340470c92e01607558fbb09",
        "IPY_MODEL_3c4963cd3c90478bbe2e3b7087b066da",
        "IPY_MODEL_f4a275772aeb4867a75bf1bf2c9638d9",
        "IPY_MODEL_21c13b4b6cb843b1a30039e4f33f9634",
        "IPY_MODEL_669c7261284049c791e5b66f09cf9ad5"
       ],
       "layout": "IPY_MODEL_89e2fb03cd3c4c7c96e7245c5adf897b"
      }
     },
     "8194ebc23e9e47f9b721f03a7e1ddd10": {
      "model_module": "@jupyter-widgets/controls",
      "model_module_version": "1.5.0",
      "model_name": "HTMLModel",
      "state": {
       "layout": "IPY_MODEL_021e657f9e754da993fbecf95c7290c9",
       "style": "IPY_MODEL_663d71cb2c8043cf80dcdb06bb66ec6e",
       "value": "<h4 style=\"font-size:14px;\">Das Partizip <i>Verloren<i> ist eine</h4>"
      }
     },
     "81acf6d5733b4b7badfaeb17a050fc6c": {
      "model_module": "@jupyter-widgets/controls",
      "model_module_version": "1.5.0",
      "model_name": "CheckboxModel",
      "state": {
       "description": "Zu einem Wort wird ein Index seiner Kontexte aufgebaut.",
       "disabled": false,
       "layout": "IPY_MODEL_0df2e983503e476bbda1d5f48b5d3f55",
       "style": "IPY_MODEL_f6577c3170764fd29f323ea0376b5211",
       "value": true
      }
     },
     "81b02aa2c77f4920ae1df75fe7d99f52": {
      "model_module": "@jupyter-widgets/controls",
      "model_module_version": "1.5.0",
      "model_name": "VBoxModel",
      "state": {
       "children": [
        "IPY_MODEL_78e041961334415493c00fc6ecc8abe0",
        "IPY_MODEL_03e74fd64fff49938d4951e792f6aafa",
        "IPY_MODEL_b2c5a1ac1f16493082092c59f948c96d",
        "IPY_MODEL_8f2df28151924a5b8de646caa006f164"
       ],
       "layout": "IPY_MODEL_e48fe6e42d2546bcb0b2c96ff4c07e51"
      }
     },
     "81fb7f6833e949b7b8013c1648614dcf": {
      "model_module": "@jupyter-widgets/controls",
      "model_module_version": "1.5.0",
      "model_name": "DropdownModel",
      "state": {
       "_options_labels": [
        "kürzeren",
        "längeren",
        " "
       ],
       "index": 1,
       "layout": "IPY_MODEL_f904e6e0c7494743b06e26f39e8ce8b3",
       "style": "IPY_MODEL_d0357bc3815c420f94bb813afd17054e"
      }
     },
     "820fe580d5284880b42b00291498275d": {
      "model_module": "@jupyter-widgets/base",
      "model_module_version": "1.2.0",
      "model_name": "LayoutModel",
      "state": {
       "align_content": "stretch",
       "align_items": "stretch",
       "display": "inline-flex",
       "flex": "flex-grow",
       "flex_flow": "row wrap",
       "justify_content": "flex-start"
      }
     },
     "8235bc80a87942b48bcc0df243595585": {
      "model_module": "@jupyter-widgets/controls",
      "model_module_version": "1.5.0",
      "model_name": "CheckboxModel",
      "state": {
       "description": "Es bezeichnet die näheren Umstände des im Verb ausgedrückten Geschehens.",
       "disabled": false,
       "layout": "IPY_MODEL_3cbd271d9d654b06a0269cb09ee0cf23",
       "style": "IPY_MODEL_fb438ae894074b23b8d951235088b1d6",
       "value": true
      }
     },
     "8240ab534e494aaf8931b8ccb7307f64": {
      "model_module": "@jupyter-widgets/controls",
      "model_module_version": "1.5.0",
      "model_name": "DescriptionStyleModel",
      "state": {
       "description_width": ""
      }
     },
     "826bdf02a29149388a6b603da269f44e": {
      "model_module": "@jupyter-widgets/base",
      "model_module_version": "1.2.0",
      "model_name": "LayoutModel",
      "state": {}
     },
     "827d40919cef4f008089c70c4141f455": {
      "model_module": "@jupyter-widgets/base",
      "model_module_version": "1.2.0",
      "model_name": "LayoutModel",
      "state": {}
     },
     "82a7b469dbf34c67a525f187177327a2": {
      "model_module": "@jupyter-widgets/controls",
      "model_module_version": "1.5.0",
      "model_name": "DescriptionStyleModel",
      "state": {
       "description_width": ""
      }
     },
     "82d84a72fba44c73ac18b374df35c44c": {
      "model_module": "@jupyter-widgets/controls",
      "model_module_version": "1.5.0",
      "model_name": "HTMLModel",
      "state": {
       "layout": "IPY_MODEL_f24e9056760e414395c0352ca7a0c442",
       "style": "IPY_MODEL_37d4fc95c8b84d578d6364b7f1b3f325",
       "value": "<i>Wählen Sie die <ins>eine</ins> korrekte Antwort aus: </i>"
      }
     },
     "831d8907370047e491cd1dab64344ec5": {
      "model_module": "@jupyter-widgets/controls",
      "model_module_version": "1.5.0",
      "model_name": "HTMLModel",
      "state": {
       "layout": "IPY_MODEL_9a868e0f19de4bf3a5b5cb4eacf52372",
       "style": "IPY_MODEL_ae0e60e62ef1485b95d22f9960dd75c1",
       "value": "<h4 style=\"font-size:14px;\">. Es gehört zu einer komplexen</h4>"
      }
     },
     "831e2e2678414332af3045b6abd31171": {
      "model_module": "@jupyter-widgets/base",
      "model_module_version": "1.2.0",
      "model_name": "LayoutModel",
      "state": {}
     },
     "8322864e1d434a5195b5bc6cdc0fddf6": {
      "model_module": "@jupyter-widgets/base",
      "model_module_version": "1.2.0",
      "model_name": "LayoutModel",
      "state": {}
     },
     "83b02aaeb4e34188bff828273c9dd2d8": {
      "model_module": "@jupyter-widgets/base",
      "model_module_version": "1.2.0",
      "model_name": "LayoutModel",
      "state": {
       "width": "250px"
      }
     },
     "83cc543e8a66488d90c94734f86d7b31": {
      "model_module": "@jupyter-widgets/controls",
      "model_module_version": "1.5.0",
      "model_name": "HTMLModel",
      "state": {
       "layout": "IPY_MODEL_6e4852461e4f41d3a0384ad835b16a87",
       "style": "IPY_MODEL_ca20836a61e04ba2aca858d6697851e7",
       "value": "<i>Markieren Sie <ins>alle</ins> passenden Antworten: </i>"
      }
     },
     "84521226a7834a45addb75463ae1d988": {
      "model_module": "@jupyter-widgets/base",
      "model_module_version": "1.2.0",
      "model_name": "LayoutModel",
      "state": {
       "width": "250px"
      }
     },
     "84618fccbb12411cb2ae59f2d8d1157f": {
      "model_module": "@jupyter-widgets/controls",
      "model_module_version": "1.5.0",
      "model_name": "DescriptionStyleModel",
      "state": {
       "description_width": "initial"
      }
     },
     "849a070bef714c6d8dc4aff86d9d6bdd": {
      "model_module": "@jupyter-widgets/base",
      "model_module_version": "1.2.0",
      "model_name": "LayoutModel",
      "state": {}
     },
     "84ba920402134380b23a6b74487f73e2": {
      "model_module": "@jupyter-widgets/controls",
      "model_module_version": "1.5.0",
      "model_name": "HTMLModel",
      "state": {
       "layout": "IPY_MODEL_ddfff279431e4730b6eb6c8c1a2d746b",
       "style": "IPY_MODEL_58eb1567c0894f61949ea2f0405af731",
       "value": "<i>Vervollständigen Sie den Lückentext: </i>"
      }
     },
     "850dbcb6dd7d4bceac1487576ee33d24": {
      "model_module": "@jupyter-widgets/base",
      "model_module_version": "1.2.0",
      "model_name": "LayoutModel",
      "state": {
       "justify_content": "center"
      }
     },
     "853963101fdd488699b4604969820a50": {
      "model_module": "@jupyter-widgets/controls",
      "model_module_version": "1.5.0",
      "model_name": "DescriptionStyleModel",
      "state": {
       "description_width": ""
      }
     },
     "8547d83e462640af95ae2544bfc59786": {
      "model_module": "@jupyter-widgets/controls",
      "model_module_version": "1.5.0",
      "model_name": "ButtonStyleModel",
      "state": {}
     },
     "854b1be8b5344d49915b44d5da68724a": {
      "model_module": "@jupyter-widgets/controls",
      "model_module_version": "1.5.0",
      "model_name": "ButtonModel",
      "state": {
       "description": "gerund",
       "layout": "IPY_MODEL_22400c0837f64523b90dd737df0e8724",
       "style": "IPY_MODEL_5972e262f89042bd86f0477981422398"
      }
     },
     "85775aea5c81478dbcd3057f548fb4c5": {
      "model_module": "@jupyter-widgets/controls",
      "model_module_version": "1.5.0",
      "model_name": "DropdownModel",
      "state": {
       "_options_labels": [
        "NP",
        "PP",
        "VP",
        " "
       ],
       "index": 2,
       "layout": "IPY_MODEL_4141abd042bd40fdaedb820636146847",
       "style": "IPY_MODEL_4d7d8d6603404170af32c3892d60b283"
      }
     },
     "85d3e4e69a8a4da394fbe0c1fe122646": {
      "model_module": "@jupyter-widgets/base",
      "model_module_version": "1.2.0",
      "model_name": "LayoutModel",
      "state": {
       "width": "250px"
      }
     },
     "86172652330543f6afb69301f971c826": {
      "model_module": "@jupyter-widgets/controls",
      "model_module_version": "1.5.0",
      "model_name": "ButtonStyleModel",
      "state": {
       "button_color": "lightgreen"
      }
     },
     "862606c047fd4c9186d3d5ea2f795c89": {
      "model_module": "@jupyter-widgets/controls",
      "model_module_version": "1.5.0",
      "model_name": "ButtonModel",
      "state": {
       "description": "gerund",
       "layout": "IPY_MODEL_1360d277c8624fda9bdbd9ba03b6ac4f",
       "style": "IPY_MODEL_6ff51eab5362409fa8a3775c6a70abaf"
      }
     },
     "863813f8c88e4460ae47bba2459596d2": {
      "model_module": "@jupyter-widgets/base",
      "model_module_version": "1.2.0",
      "model_name": "LayoutModel",
      "state": {
       "width": "250px"
      }
     },
     "866a0200af1e4c97b96745b49ae8453f": {
      "model_module": "@jupyter-widgets/controls",
      "model_module_version": "1.5.0",
      "model_name": "DescriptionStyleModel",
      "state": {
       "description_width": ""
      }
     },
     "86a55a19846a42f0b7825a8faed8cdef": {
      "model_module": "@jupyter-widgets/base",
      "model_module_version": "1.2.0",
      "model_name": "LayoutModel",
      "state": {}
     },
     "86c120ad34a8487ca26294e6e591eb33": {
      "model_module": "@jupyter-widgets/controls",
      "model_module_version": "1.5.0",
      "model_name": "ButtonStyleModel",
      "state": {}
     },
     "86cb6be96c8d4f3d98f52ee81fccaa19": {
      "model_module": "@jupyter-widgets/base",
      "model_module_version": "1.2.0",
      "model_name": "LayoutModel",
      "state": {
       "width": "250px"
      }
     },
     "8700a3f25c4948448b994e1c7e61f16b": {
      "model_module": "@jupyter-widgets/controls",
      "model_module_version": "1.5.0",
      "model_name": "HBoxModel",
      "state": {
       "children": [
        "IPY_MODEL_720e986f1ebd48c0b2aa119f973b34af",
        "IPY_MODEL_ac2acf51837a441e8be252bb8711204a"
       ],
       "layout": "IPY_MODEL_5db098cb7c544083879b23171eb65faf"
      }
     },
     "87d9994bb9aa4e1b840e57bb908dc8fc": {
      "model_module": "@jupyter-widgets/controls",
      "model_module_version": "1.5.0",
      "model_name": "VBoxModel",
      "state": {
       "children": [
        "IPY_MODEL_00472c134e6b402f81256e030397be2d",
        "IPY_MODEL_8d557eb6ec9243978e6c86078d7a25b2",
        "IPY_MODEL_e6ba1cde56384671acb178d30651b00c",
        "IPY_MODEL_0e4d7d19518244538b25efb5b1bef751"
       ],
       "layout": "IPY_MODEL_d62e60f9f9364c1a97638da7ca82e793"
      }
     },
     "87df0392b77a443584e776ba7bd50664": {
      "model_module": "@jupyter-widgets/base",
      "model_module_version": "1.2.0",
      "model_name": "LayoutModel",
      "state": {}
     },
     "87f27e0aa9be47edae506806c30d33ab": {
      "model_module": "@jupyter-widgets/controls",
      "model_module_version": "1.5.0",
      "model_name": "DescriptionStyleModel",
      "state": {
       "description_width": ""
      }
     },
     "8850193be9de43b99894439f36c3d5a5": {
      "model_module": "@jupyter-widgets/controls",
      "model_module_version": "1.5.0",
      "model_name": "HTMLModel",
      "state": {
       "layout": "IPY_MODEL_4b65f85576cf4192821ec7b5ea13c748",
       "style": "IPY_MODEL_2dd76d71e28949fc8333d69af71fa1b3",
       "value": "<h4 style=\"font-size:14px;\">gestellt. Die gesamte</h4>"
      }
     },
     "8861810caa3c4d5cbd020c071950862b": {
      "model_module": "@jupyter-widgets/base",
      "model_module_version": "1.2.0",
      "model_name": "LayoutModel",
      "state": {}
     },
     "8879ce8d9ee449f88e5c0a1e10875d89": {
      "model_module": "@jupyter-widgets/controls",
      "model_module_version": "1.5.0",
      "model_name": "ButtonModel",
      "state": {
       "description": "Korrekt?",
       "disabled": true,
       "layout": "IPY_MODEL_25bb13c1ba4140c68a05b46cbbbcdb0c",
       "style": "IPY_MODEL_a140e172a33b43398891d5dc58a221e3"
      }
     },
     "889bb85782ea44868d48000ce88cf1cf": {
      "model_module": "@jupyter-widgets/controls",
      "model_module_version": "1.5.0",
      "model_name": "VBoxModel",
      "state": {
       "children": [
        "IPY_MODEL_7f8d9c8a926b473aacfcf6222a879d3d",
        "IPY_MODEL_642f44faadb24ff7bc62c33227f7ecc3",
        "IPY_MODEL_4a1da176632b49489b2ea9eead5496f7"
       ],
       "layout": "IPY_MODEL_e854e8a7d90743aab62999b66b064f21"
      }
     },
     "88b7946108e3467691b4960fcaa85ef3": {
      "model_module": "@jupyter-widgets/controls",
      "model_module_version": "1.5.0",
      "model_name": "DropdownModel",
      "state": {
       "_options_labels": [
        "POS",
        "POS+Wort+POS",
        "Wort+POS-Tag",
        " "
       ],
       "index": 2,
       "layout": "IPY_MODEL_8a53bc1206b44220919caba5413bb08c",
       "style": "IPY_MODEL_88c2800097964acca1db9cc9632bf5cb"
      }
     },
     "88bb04c4922f4258a483b648a987cd71": {
      "model_module": "@jupyter-widgets/controls",
      "model_module_version": "1.5.0",
      "model_name": "DescriptionStyleModel",
      "state": {
       "description_width": ""
      }
     },
     "88c2800097964acca1db9cc9632bf5cb": {
      "model_module": "@jupyter-widgets/controls",
      "model_module_version": "1.5.0",
      "model_name": "DescriptionStyleModel",
      "state": {
       "description_width": ""
      }
     },
     "88e641338fe64c699a0b9875a84c926e": {
      "model_module": "@jupyter-widgets/controls",
      "model_module_version": "1.5.0",
      "model_name": "DescriptionStyleModel",
      "state": {
       "description_width": "initial"
      }
     },
     "892cdb0a21584788b702ece8c9b2798b": {
      "model_module": "@jupyter-widgets/controls",
      "model_module_version": "1.5.0",
      "model_name": "DescriptionStyleModel",
      "state": {
       "description_width": "initial"
      }
     },
     "89370470f1af433d8a9b7a45c754a0ff": {
      "model_module": "@jupyter-widgets/controls",
      "model_module_version": "1.5.0",
      "model_name": "ButtonModel",
      "state": {
       "description": "gerund",
       "layout": "IPY_MODEL_a1238f99966b43b6a29eff4a600092d9",
       "style": "IPY_MODEL_d69317d8c8914afdb9f6ae74c7727d21"
      }
     },
     "8993aa7ba116423ba7ac546030491f44": {
      "model_module": "@jupyter-widgets/controls",
      "model_module_version": "1.5.0",
      "model_name": "CheckboxModel",
      "state": {
       "description": "Permutationstest",
       "disabled": false,
       "layout": "IPY_MODEL_fab99402a89a4485850af5750391e138",
       "style": "IPY_MODEL_eabc5dce3fd944a598f60599c4d10d30",
       "value": false
      }
     },
     "89acfb7d46e9494d84ba630e507d18f4": {
      "model_module": "@jupyter-widgets/controls",
      "model_module_version": "1.5.0",
      "model_name": "VBoxModel",
      "state": {
       "children": [
        "IPY_MODEL_af3ae9869a1e457ba98939ca725d9aba",
        "IPY_MODEL_be7054cd986544bf841757f22b7eedb7",
        "IPY_MODEL_8f4a9fe684ea4b508e9103bcbed3d6e8",
        "IPY_MODEL_ee8b15c5d15c4cd5abe93a31a35a76e6"
       ],
       "layout": "IPY_MODEL_1abc6f6c1c2d46a893de0422957e8f90"
      }
     },
     "89b88a8c2bf64f98afd232d2a46322a5": {
      "model_module": "@jupyter-widgets/controls",
      "model_module_version": "1.5.0",
      "model_name": "HTMLModel",
      "state": {
       "layout": "IPY_MODEL_b40e2f81d9d0461a9c686e18d1eaffc7",
       "style": "IPY_MODEL_8ff304c5f573493a9fbd5153ade003dc",
       "value": "<i>Markieren Sie <ins>alle</ins> passenden Antworten: </i>"
      }
     },
     "89be47dbefed430eb5091fc54446ca15": {
      "model_module": "@jupyter-widgets/base",
      "model_module_version": "1.2.0",
      "model_name": "LayoutModel",
      "state": {
       "width": "250px"
      }
     },
     "89c9bde11cc74511b7217f9f62fba76f": {
      "model_module": "@jupyter-widgets/base",
      "model_module_version": "1.2.0",
      "model_name": "LayoutModel",
      "state": {
       "width": "250px"
      }
     },
     "89e2fb03cd3c4c7c96e7245c5adf897b": {
      "model_module": "@jupyter-widgets/base",
      "model_module_version": "1.2.0",
      "model_name": "LayoutModel",
      "state": {}
     },
     "8a0ecdf730084fd1be7a21e2c4c99e99": {
      "model_module": "@jupyter-widgets/base",
      "model_module_version": "1.2.0",
      "model_name": "LayoutModel",
      "state": {}
     },
     "8a53bc1206b44220919caba5413bb08c": {
      "model_module": "@jupyter-widgets/base",
      "model_module_version": "1.2.0",
      "model_name": "LayoutModel",
      "state": {
       "width": "150px"
      }
     },
     "8a5a97b421ad47c6ad8ff77beb08c38d": {
      "model_module": "@jupyter-widgets/base",
      "model_module_version": "1.2.0",
      "model_name": "LayoutModel",
      "state": {
       "width": "250px"
      }
     },
     "8a5aa0595f5e4f87b8f1569ab3399b39": {
      "model_module": "@jupyter-widgets/base",
      "model_module_version": "1.2.0",
      "model_name": "LayoutModel",
      "state": {
       "width": "250px"
      }
     },
     "8a8a6f26d04943ceb031dd74722f8519": {
      "model_module": "@jupyter-widgets/controls",
      "model_module_version": "1.5.0",
      "model_name": "HBoxModel",
      "state": {
       "children": [
        "IPY_MODEL_d93c4e3039ae497cb7dd38b90a1851de",
        "IPY_MODEL_8eef1890128b46e48b2e2ad27d1561b3"
       ],
       "layout": "IPY_MODEL_e902860a455b41b5a4fbf97e3dbaa29e"
      }
     },
     "8b97ef460a094b588ca49d0138167038": {
      "model_module": "@jupyter-widgets/base",
      "model_module_version": "1.2.0",
      "model_name": "LayoutModel",
      "state": {
       "justify_content": "center"
      }
     },
     "8bca303354c740c8adcc08f2f0343ad8": {
      "model_module": "@jupyter-widgets/controls",
      "model_module_version": "1.5.0",
      "model_name": "ButtonStyleModel",
      "state": {}
     },
     "8bcc8767fa7d42438780b267772d1c55": {
      "model_module": "@jupyter-widgets/controls",
      "model_module_version": "1.5.0",
      "model_name": "DropdownModel",
      "state": {
       "_options_labels": [
        "'ADJ'",
        "'DET'",
        "'NOUN'",
        " "
       ],
       "index": 3,
       "layout": "IPY_MODEL_785b0bf403b6436eab5b3d30bdac5b93",
       "style": "IPY_MODEL_a3bc195e0f9d4659b77b2f8f56fdec7d"
      }
     },
     "8bdfeaeee5614269b023f97f14b0f30e": {
      "model_module": "@jupyter-widgets/controls",
      "model_module_version": "1.5.0",
      "model_name": "HTMLModel",
      "state": {
       "layout": "IPY_MODEL_9ff4413fec41485a9eb093b904fe3d9f",
       "style": "IPY_MODEL_1bee391e9add42158330547e1f733396",
       "value": "<h4 style=\"font-size:14px;\">umfasst die</h4>"
      }
     },
     "8bef0aef2af24e8cb01ccb31d1ff5c95": {
      "model_module": "@jupyter-widgets/controls",
      "model_module_version": "1.5.0",
      "model_name": "ButtonStyleModel",
      "state": {}
     },
     "8c71b0b7004241fa94faa4e296b588c6": {
      "model_module": "@jupyter-widgets/controls",
      "model_module_version": "1.5.0",
      "model_name": "CheckboxModel",
      "state": {
       "description": "gleiche Endungen",
       "disabled": false,
       "layout": "IPY_MODEL_ed11202dff8d4d3983e1494927a6c612",
       "style": "IPY_MODEL_4aa5379855f1402db6fd20d39b3d8802",
       "value": true
      }
     },
     "8c76ccd60a9f428fbd76ec53c6ad3338": {
      "model_module": "@jupyter-widgets/controls",
      "model_module_version": "1.5.0",
      "model_name": "VBoxModel",
      "state": {
       "children": [
        "IPY_MODEL_d0a02e31f83c4733bad510fb80ed4ac8",
        "IPY_MODEL_b108d84e4f1840b7822b865ccfdb27ce",
        "IPY_MODEL_8004dbeedb5b460abae5c7ca8ffdbbb4",
        "IPY_MODEL_7562945480914479b5c6d67db181db9c"
       ],
       "layout": "IPY_MODEL_3298fcf5e5ef4ff1960c17fc60167dbf"
      }
     },
     "8c9c4b880058484598802b3c3e2ac598": {
      "model_module": "@jupyter-widgets/controls",
      "model_module_version": "1.5.0",
      "model_name": "DescriptionStyleModel",
      "state": {
       "description_width": ""
      }
     },
     "8ca0404e70a4447d8e1f121d3fac9d9c": {
      "model_module": "@jupyter-widgets/base",
      "model_module_version": "1.2.0",
      "model_name": "LayoutModel",
      "state": {
       "justify_content": "center"
      }
     },
     "8cc5efeb7872477b947d74ad13223aeb": {
      "model_module": "@jupyter-widgets/controls",
      "model_module_version": "1.5.0",
      "model_name": "DescriptionStyleModel",
      "state": {
       "description_width": ""
      }
     },
     "8d557eb6ec9243978e6c86078d7a25b2": {
      "model_module": "@jupyter-widgets/controls",
      "model_module_version": "1.5.0",
      "model_name": "CheckboxModel",
      "state": {
       "description": "gleiche Endungen",
       "disabled": false,
       "layout": "IPY_MODEL_7bd87f3c026a42a485c5047d1dce8772",
       "style": "IPY_MODEL_b87d8fd4f8aa4b8db6544c05820431a9",
       "value": false
      }
     },
     "8d830acc2a6e4daa8e7edb05c5eeeaed": {
      "model_module": "@jupyter-widgets/base",
      "model_module_version": "1.2.0",
      "model_name": "LayoutModel",
      "state": {
       "width": "250px"
      }
     },
     "8dc5c98dd5214d3dab7f070769634ee0": {
      "model_module": "@jupyter-widgets/controls",
      "model_module_version": "1.5.0",
      "model_name": "DescriptionStyleModel",
      "state": {
       "description_width": ""
      }
     },
     "8dd32ce16fad48ba90116b6d6beb1c4b": {
      "model_module": "@jupyter-widgets/controls",
      "model_module_version": "1.5.0",
      "model_name": "HTMLModel",
      "state": {
       "layout": "IPY_MODEL_3e2233f1b76b4635b0f844a5cb0795ba",
       "style": "IPY_MODEL_b91db8baf2414b699d6cb7d72f81883f",
       "value": "<h4 style=\"font-size:14px;\">Sequenz unter Erhalt der</h4>"
      }
     },
     "8e058f0ee43047f09332c33012830a7c": {
      "model_module": "@jupyter-widgets/controls",
      "model_module_version": "1.5.0",
      "model_name": "HTMLModel",
      "state": {
       "layout": "IPY_MODEL_c78beba20a48448d9b6787d2f9403e0f",
       "style": "IPY_MODEL_6a7698e1beeb4f489e97a02afd137854",
       "value": "<i>Wählen Sie die <ins>eine</ins> korrekte Antwort aus: </i>"
      }
     },
     "8e742b675dc94c3bb54ca67043eb97ff": {
      "model_module": "@jupyter-widgets/controls",
      "model_module_version": "1.5.0",
      "model_name": "HBoxModel",
      "state": {
       "children": [
        "IPY_MODEL_106ab815125447dc9a386a7aad984c3f",
        "IPY_MODEL_95b0cb438cab4d25baceb4796e5765c8"
       ],
       "layout": "IPY_MODEL_f77f0667ed6b455498c45d874568eb6e"
      }
     },
     "8e7b6212e916417b86a635a14a83c1ae": {
      "model_module": "@jupyter-widgets/controls",
      "model_module_version": "1.5.0",
      "model_name": "DescriptionStyleModel",
      "state": {
       "description_width": ""
      }
     },
     "8e9cd69cf508489abac2c8aab4ac8dc0": {
      "model_module": "@jupyter-widgets/controls",
      "model_module_version": "1.5.0",
      "model_name": "DescriptionStyleModel",
      "state": {
       "description_width": ""
      }
     },
     "8eabb9664b264480adb3b0bb5fb177b7": {
      "model_module": "@jupyter-widgets/controls",
      "model_module_version": "1.5.0",
      "model_name": "ButtonStyleModel",
      "state": {}
     },
     "8eb8cce4e68942789c5957a0b567ea78": {
      "model_module": "@jupyter-widgets/controls",
      "model_module_version": "1.5.0",
      "model_name": "CheckboxModel",
      "state": {
       "description": "Zu einem Wort werden alle Wörter gefunden, die in gleichen Kontexten vorkommen.",
       "disabled": false,
       "layout": "IPY_MODEL_8f4d910b78b94c689a29f26dce40456d",
       "style": "IPY_MODEL_d2dcea2e80284344af0201886f6cbe65",
       "value": true
      }
     },
     "8eca47861d884446a32f36a3053ae8bb": {
      "model_module": "@jupyter-widgets/controls",
      "model_module_version": "1.5.0",
      "model_name": "HTMLModel",
      "state": {
       "layout": "IPY_MODEL_038384a4cc1a4221ad28a9e840d546d6",
       "style": "IPY_MODEL_62377f5f2d524263b34e07a407f77636",
       "value": "<i>Markieren Sie <ins>alle</ins> passenden Antworten: </i>"
      }
     },
     "8ed1c34bae4e46f3aed128ea7b8ab0a0": {
      "model_module": "@jupyter-widgets/controls",
      "model_module_version": "1.5.0",
      "model_name": "DescriptionStyleModel",
      "state": {
       "description_width": "initial"
      }
     },
     "8eef1890128b46e48b2e2ad27d1561b3": {
      "model_module": "@jupyter-widgets/controls",
      "model_module_version": "1.5.0",
      "model_name": "ButtonModel",
      "state": {
       "description": "past participle",
       "layout": "IPY_MODEL_0d1d68fb3d2542cd817771e55e92ace2",
       "style": "IPY_MODEL_9190150deff44b07961bb60b24d0e0d4"
      }
     },
     "8eef3ec1e6ba49338280e9e061637444": {
      "model_module": "@jupyter-widgets/controls",
      "model_module_version": "1.5.0",
      "model_name": "HTMLModel",
      "state": {
       "layout": "IPY_MODEL_d02e5c9cf0714c41a14b4e750694cefb",
       "style": "IPY_MODEL_5a70be6fb81849fab6ef0d1d52f0d044",
       "value": "<h4 style=\"font-size:14px;\">im Englischen.</h4>"
      }
     },
     "8efea577ca00451abab419c25b8e2c31": {
      "model_module": "@jupyter-widgets/base",
      "model_module_version": "1.2.0",
      "model_name": "LayoutModel",
      "state": {}
     },
     "8f05e56002b1416dbade57f889fed899": {
      "model_module": "@jupyter-widgets/controls",
      "model_module_version": "1.5.0",
      "model_name": "DescriptionStyleModel",
      "state": {
       "description_width": "initial"
      }
     },
     "8f2df28151924a5b8de646caa006f164": {
      "model_module": "@jupyter-widgets/controls",
      "model_module_version": "1.5.0",
      "model_name": "HBoxModel",
      "state": {
       "children": [
        "IPY_MODEL_6a5eccc791b345298479973dd8818070",
        "IPY_MODEL_98b7586f33244615a7f39802b884d1be"
       ],
       "layout": "IPY_MODEL_a4413646b9684ad28dfbbd6fca93517c"
      }
     },
     "8f4a9fe684ea4b508e9103bcbed3d6e8": {
      "model_module": "@jupyter-widgets/controls",
      "model_module_version": "1.5.0",
      "model_name": "VBoxModel",
      "state": {
       "children": [
        "IPY_MODEL_4b7d6cb40b6f42659a21b2ba1e00e056",
        "IPY_MODEL_4c75bbeddecc475abd6dcd7b2d76c3a3",
        "IPY_MODEL_ab2e2c4a02f3408bbbb45ca618b38b64"
       ],
       "layout": "IPY_MODEL_bbcbaaa67c994556ae392089944efeed"
      }
     },
     "8f4bd9eb91174a858304459638e630a3": {
      "model_module": "@jupyter-widgets/controls",
      "model_module_version": "1.5.0",
      "model_name": "HBoxModel",
      "state": {
       "children": [
        "IPY_MODEL_a51e43d3531146ceaf87186c74990433",
        "IPY_MODEL_aafa75bc960c4e099b619c7648870d69"
       ],
       "layout": "IPY_MODEL_d3c4caf99ea5440c8d862c24e65f48b2"
      }
     },
     "8f4d910b78b94c689a29f26dce40456d": {
      "model_module": "@jupyter-widgets/base",
      "model_module_version": "1.2.0",
      "model_name": "LayoutModel",
      "state": {
       "width": "600px"
      }
     },
     "8f6de41971a245e5b759996e4a881701": {
      "model_module": "@jupyter-widgets/controls",
      "model_module_version": "1.5.0",
      "model_name": "HTMLModel",
      "state": {
       "layout": "IPY_MODEL_87df0392b77a443584e776ba7bd50664",
       "style": "IPY_MODEL_ff7cfae399814856b7927b78d8c95b35",
       "value": "<h4 style=\"font-size:14px;\">Welche Eigenschaften hat <i>gut</i> in Satz 2?</h4>"
      }
     },
     "8fb7b4a6555a417787796e9676820887": {
      "model_module": "@jupyter-widgets/base",
      "model_module_version": "1.2.0",
      "model_name": "LayoutModel",
      "state": {
       "width": "250px"
      }
     },
     "8fd22c3c0db64c65a422efcbed7c1c30": {
      "model_module": "@jupyter-widgets/controls",
      "model_module_version": "1.5.0",
      "model_name": "DescriptionStyleModel",
      "state": {
       "description_width": ""
      }
     },
     "8fe3b93893434b30952e4e7e8aedc7cd": {
      "model_module": "@jupyter-widgets/controls",
      "model_module_version": "1.5.0",
      "model_name": "ButtonModel",
      "state": {
       "description": "Korrekt?",
       "layout": "IPY_MODEL_6060bfdc99024ead958ac3af853afda4",
       "style": "IPY_MODEL_a62bedb8b617428eb41303a05a432eb0"
      }
     },
     "8fef429f33a64fab871724f2c24166ec": {
      "model_module": "@jupyter-widgets/controls",
      "model_module_version": "1.5.0",
      "model_name": "ButtonStyleModel",
      "state": {}
     },
     "8ff304c5f573493a9fbd5153ade003dc": {
      "model_module": "@jupyter-widgets/controls",
      "model_module_version": "1.5.0",
      "model_name": "DescriptionStyleModel",
      "state": {
       "description_width": ""
      }
     },
     "9012e87389f0459e946d134b71d4ce00": {
      "model_module": "@jupyter-widgets/base",
      "model_module_version": "1.2.0",
      "model_name": "LayoutModel",
      "state": {
       "justify_content": "center"
      }
     },
     "9019d93c118946c4ba9dbbd26d0296cf": {
      "model_module": "@jupyter-widgets/base",
      "model_module_version": "1.2.0",
      "model_name": "LayoutModel",
      "state": {
       "width": "250px"
      }
     },
     "9023dbd44cd940899ce9dd72ff749aa2": {
      "model_module": "@jupyter-widgets/controls",
      "model_module_version": "1.5.0",
      "model_name": "HTMLModel",
      "state": {
       "layout": "IPY_MODEL_b41567af6fb24ea09a50c3261dbd445b",
       "style": "IPY_MODEL_17205f6332764c1f82e11ba24ddf8e55",
       "value": "<h4 style=\"font-size:14px;\">Kategorie.</h4>"
      }
     },
     "9036727e5f534241891b4f0c18c5666a": {
      "model_module": "@jupyter-widgets/base",
      "model_module_version": "1.2.0",
      "model_name": "LayoutModel",
      "state": {
       "justify_content": "center"
      }
     },
     "90a08733cc7c4100a2d8d2733687dab0": {
      "model_module": "@jupyter-widgets/controls",
      "model_module_version": "1.5.0",
      "model_name": "DescriptionStyleModel",
      "state": {
       "description_width": ""
      }
     },
     "90bf61c08693408eaab23984a60e12c4": {
      "model_module": "@jupyter-widgets/base",
      "model_module_version": "1.2.0",
      "model_name": "LayoutModel",
      "state": {}
     },
     "9123a712076f406496ee82f8bf4f1c87": {
      "model_module": "@jupyter-widgets/controls",
      "model_module_version": "1.5.0",
      "model_name": "VBoxModel",
      "state": {
       "children": [
        "IPY_MODEL_b486ff9d1da248908e6eae0a0668b109",
        "IPY_MODEL_28565facd9a34d8090eadc5c8c4dfedb",
        "IPY_MODEL_34f96e7636ea4384aa47f0cbc075c2b8",
        "IPY_MODEL_1f7c498722bd4d3191b25f5eb63d9fd3"
       ],
       "layout": "IPY_MODEL_2191f16705174a94ad9500463cec970f"
      }
     },
     "9132a2af74014080a794abb6f73530ba": {
      "model_module": "@jupyter-widgets/base",
      "model_module_version": "1.2.0",
      "model_name": "LayoutModel",
      "state": {}
     },
     "915963737cd14c66ac8c2a8c8057bfb8": {
      "model_module": "@jupyter-widgets/controls",
      "model_module_version": "1.5.0",
      "model_name": "DescriptionStyleModel",
      "state": {
       "description_width": ""
      }
     },
     "9162b106cadd403f89b44028b7442355": {
      "model_module": "@jupyter-widgets/base",
      "model_module_version": "1.2.0",
      "model_name": "LayoutModel",
      "state": {
       "width": "250px"
      }
     },
     "9190150deff44b07961bb60b24d0e0d4": {
      "model_module": "@jupyter-widgets/controls",
      "model_module_version": "1.5.0",
      "model_name": "ButtonStyleModel",
      "state": {}
     },
     "91ce8dcbc98248daa9952cd96381fd69": {
      "model_module": "@jupyter-widgets/controls",
      "model_module_version": "1.5.0",
      "model_name": "ButtonStyleModel",
      "state": {}
     },
     "91e51d8c699043f2a9a16421a7f25567": {
      "model_module": "@jupyter-widgets/base",
      "model_module_version": "1.2.0",
      "model_name": "LayoutModel",
      "state": {}
     },
     "9216637aab8141588657f272dff99520": {
      "model_module": "@jupyter-widgets/controls",
      "model_module_version": "1.5.0",
      "model_name": "HTMLModel",
      "state": {
       "layout": "IPY_MODEL_fae4600ccff3484a8a8bae798a048afe",
       "style": "IPY_MODEL_38b8cfc3b569477d9dbe963304a42154",
       "value": "<h4 style=\"font-size:14px;\">Ersetzbarkeit einer</h4>"
      }
     },
     "92242c4e384541a5ae7076f8b353a47e": {
      "model_module": "@jupyter-widgets/controls",
      "model_module_version": "1.5.0",
      "model_name": "DescriptionStyleModel",
      "state": {
       "description_width": ""
      }
     },
     "923c46f806ba465588aff1d7cb36e996": {
      "model_module": "@jupyter-widgets/controls",
      "model_module_version": "1.5.0",
      "model_name": "VBoxModel",
      "state": {
       "children": [
        "IPY_MODEL_4e445977996f4962bccecc70040dd698",
        "IPY_MODEL_b2707439157040fe8ef905a78a4230db",
        "IPY_MODEL_d892de3440784b95abe27850a716fc94",
        "IPY_MODEL_b2d9b9e7f2f04d7f980f7264a7741d88"
       ],
       "layout": "IPY_MODEL_640d8f601d7a475c9c4010bd181b76c0"
      }
     },
     "9246e1467f6c4b29a57dc28d088470e1": {
      "model_module": "@jupyter-widgets/controls",
      "model_module_version": "1.5.0",
      "model_name": "DescriptionStyleModel",
      "state": {
       "description_width": ""
      }
     },
     "92522024cda5475aa54fbef14c330953": {
      "model_module": "@jupyter-widgets/controls",
      "model_module_version": "1.5.0",
      "model_name": "ButtonModel",
      "state": {
       "description": "gerund",
       "layout": "IPY_MODEL_be7477d48956452788129b8906842a15",
       "style": "IPY_MODEL_add334e82f004fe4805765af626d45c9"
      }
     },
     "925a9b81759b4dd881edfa7d52004579": {
      "model_module": "@jupyter-widgets/controls",
      "model_module_version": "1.5.0",
      "model_name": "VBoxModel",
      "state": {
       "children": [
        "IPY_MODEL_a14175e1871c4c6ab8d4704944bc3131",
        "IPY_MODEL_9b9c5139a03d4950830b2d93d5f899e9",
        "IPY_MODEL_c603e0449fc8422da09d9b6bea0a5ca6",
        "IPY_MODEL_bf5da08e906e4221b2eecdf2e71af9fe",
        "IPY_MODEL_395d32d1779d43d8ab0e431726a004b5"
       ],
       "layout": "IPY_MODEL_c9ce82b1937e4b6b8a591b4375623169"
      }
     },
     "928b62ed56934ce397f16c21bba18854": {
      "model_module": "@jupyter-widgets/controls",
      "model_module_version": "1.5.0",
      "model_name": "CheckboxModel",
      "state": {
       "description": "Substitutionstest",
       "disabled": false,
       "layout": "IPY_MODEL_21875703555b4f10beda5f3cc027e46c",
       "style": "IPY_MODEL_f0cac8a7a26f4682afdd049ed5d5f166",
       "value": false
      }
     },
     "92addfaccbc84e769d4b560ae5534030": {
      "model_module": "@jupyter-widgets/controls",
      "model_module_version": "1.5.0",
      "model_name": "DescriptionStyleModel",
      "state": {
       "description_width": "initial"
      }
     },
     "92b751faa74a41c4a8647f30e122278b": {
      "model_module": "@jupyter-widgets/controls",
      "model_module_version": "1.5.0",
      "model_name": "DropdownModel",
      "state": {
       "_options_labels": [
        "morphologischen",
        "syntaktischen",
        " "
       ],
       "index": 1,
       "layout": "IPY_MODEL_283776f7685e44ecb91e25d0354b449a",
       "style": "IPY_MODEL_56d6521184ad491489e720bce1d4df27"
      }
     },
     "92f94f01f8a147feb1daf497fe5d2561": {
      "model_module": "@jupyter-widgets/controls",
      "model_module_version": "1.5.0",
      "model_name": "VBoxModel",
      "state": {
       "children": [
        "IPY_MODEL_bf41839ee98447c7816a095da4285127",
        "IPY_MODEL_1e159dcdb966480994e6b2eadf4390ec",
        "IPY_MODEL_0b4d59bc8fe84865b9a76b3ab8b8ae04",
        "IPY_MODEL_8e742b675dc94c3bb54ca67043eb97ff"
       ],
       "layout": "IPY_MODEL_0e69e0698cfe43a7bae3d77789b69757"
      }
     },
     "930728b8e2bc48ad97bba786590756f1": {
      "model_module": "@jupyter-widgets/controls",
      "model_module_version": "1.5.0",
      "model_name": "DescriptionStyleModel",
      "state": {
       "description_width": "initial"
      }
     },
     "93201c9802af466c9857f1e25ab80446": {
      "model_module": "@jupyter-widgets/controls",
      "model_module_version": "1.5.0",
      "model_name": "DescriptionStyleModel",
      "state": {
       "description_width": ""
      }
     },
     "933e55a05f104d0f80b5224c207e7de9": {
      "model_module": "@jupyter-widgets/controls",
      "model_module_version": "1.5.0",
      "model_name": "DescriptionStyleModel",
      "state": {
       "description_width": ""
      }
     },
     "93819562e9b44a77a069a42d8894df27": {
      "model_module": "@jupyter-widgets/controls",
      "model_module_version": "1.5.0",
      "model_name": "ButtonModel",
      "state": {
       "description": "Partikel",
       "layout": "IPY_MODEL_4e03dfbedf7b47e88ad7d542448da75b",
       "style": "IPY_MODEL_8eabb9664b264480adb3b0bb5fb177b7"
      }
     },
     "939f9ab16ebe462993aa1c56243034a7": {
      "model_module": "@jupyter-widgets/base",
      "model_module_version": "1.2.0",
      "model_name": "LayoutModel",
      "state": {
       "width": "250px"
      }
     },
     "93e23cf6c7b948f68340780f422e2dfd": {
      "model_module": "@jupyter-widgets/base",
      "model_module_version": "1.2.0",
      "model_name": "LayoutModel",
      "state": {
       "justify_content": "center"
      }
     },
     "93f0334c44f146a4904ca0f33b3dfdf7": {
      "model_module": "@jupyter-widgets/base",
      "model_module_version": "1.2.0",
      "model_name": "LayoutModel",
      "state": {}
     },
     "94209d0590fd4b49825c159e2d8bf485": {
      "model_module": "@jupyter-widgets/controls",
      "model_module_version": "1.5.0",
      "model_name": "ButtonStyleModel",
      "state": {
       "button_color": "lightgreen"
      }
     },
     "94425e4200bc4860910c8c91fb14a2d7": {
      "model_module": "@jupyter-widgets/controls",
      "model_module_version": "1.5.0",
      "model_name": "ButtonModel",
      "state": {
       "description": "base",
       "layout": "IPY_MODEL_7028d42193374931b8b4ba85fd674c74",
       "style": "IPY_MODEL_0a01b58be1d24480b3c29f37b676d560"
      }
     },
     "94746249441944fb8790e6693532c28f": {
      "model_module": "@jupyter-widgets/controls",
      "model_module_version": "1.5.0",
      "model_name": "HBoxModel",
      "state": {
       "children": [
        "IPY_MODEL_c7d82ed28e0f4b41b47ae8298e05a0c7"
       ],
       "layout": "IPY_MODEL_224d878bb7b24eed875c896b2318d68c"
      }
     },
     "94fd81cd043f462fab29c62834666e35": {
      "model_module": "@jupyter-widgets/base",
      "model_module_version": "1.2.0",
      "model_name": "LayoutModel",
      "state": {
       "width": "250px"
      }
     },
     "9509cc21adb1411896c4790cc032d446": {
      "model_module": "@jupyter-widgets/base",
      "model_module_version": "1.2.0",
      "model_name": "LayoutModel",
      "state": {
       "width": "250px"
      }
     },
     "9516dc01f1f24c889ecd4c517d2ef34d": {
      "model_module": "@jupyter-widgets/controls",
      "model_module_version": "1.5.0",
      "model_name": "HTMLModel",
      "state": {
       "layout": "IPY_MODEL_d552762f0d9345d28eae23708172c715",
       "style": "IPY_MODEL_444efd3e96954edd9d27a80335e02c71",
       "value": "<i>Wählen Sie die <ins>eine</ins> korrekte Antwort aus: </i>"
      }
     },
     "9518c9c6fcf14b5fa48dd36efb6900d9": {
      "model_module": "@jupyter-widgets/base",
      "model_module_version": "1.2.0",
      "model_name": "LayoutModel",
      "state": {
       "width": "600px"
      }
     },
     "952b2681f9424e239aec03bf172c0997": {
      "model_module": "@jupyter-widgets/base",
      "model_module_version": "1.2.0",
      "model_name": "LayoutModel",
      "state": {
       "width": "250px"
      }
     },
     "954dece832b84f328e7a4f150ec91e59": {
      "model_module": "@jupyter-widgets/controls",
      "model_module_version": "1.5.0",
      "model_name": "HBoxModel",
      "state": {
       "children": [
        "IPY_MODEL_5c5d79add29441deac68edf80eaba193",
        "IPY_MODEL_c0351501457a48efb13de42788b2477d"
       ],
       "layout": "IPY_MODEL_3f340eb4fc2b45d8a5d2780fb3fad2d4"
      }
     },
     "9551f97a5a4740a78472fb74d40cfb05": {
      "model_module": "@jupyter-widgets/controls",
      "model_module_version": "1.5.0",
      "model_name": "DropdownModel",
      "state": {
       "_options_labels": [
        "POS",
        "POS+Wort+POS",
        "Wort+POS-Tag",
        " "
       ],
       "index": 2,
       "layout": "IPY_MODEL_36bf30aef87d4e9996797dfa4ec8981f",
       "style": "IPY_MODEL_b813d8c06526461b9929fe20a08f9c88"
      }
     },
     "95749eecfa12414da8aae9f8271f041d": {
      "model_module": "@jupyter-widgets/controls",
      "model_module_version": "1.5.0",
      "model_name": "ButtonStyleModel",
      "state": {
       "button_color": "lightgreen"
      }
     },
     "958b6aecb41f4da7a0284eee989d10a6": {
      "model_module": "@jupyter-widgets/controls",
      "model_module_version": "1.5.0",
      "model_name": "VBoxModel",
      "state": {
       "children": [
        "IPY_MODEL_1e0fa4ef53a5427885b9729475ab76ff",
        "IPY_MODEL_97458d7ebe5f4a8093d6aab527e33c5e",
        "IPY_MODEL_196d14e5ec814228971e43aa3705d2c0",
        "IPY_MODEL_6fe19e8019a04ff297dc9877d18ae016"
       ],
       "layout": "IPY_MODEL_b784cfe47f824c51a9e2ba5d248b81da"
      }
     },
     "95a080d277e44d358ddb968e8b15d432": {
      "model_module": "@jupyter-widgets/base",
      "model_module_version": "1.2.0",
      "model_name": "LayoutModel",
      "state": {
       "width": "600px"
      }
     },
     "95b0cb438cab4d25baceb4796e5765c8": {
      "model_module": "@jupyter-widgets/controls",
      "model_module_version": "1.5.0",
      "model_name": "ButtonModel",
      "state": {
       "description": "Keine der anderen Möglichkeiten",
       "layout": "IPY_MODEL_173b9876838e4c948d2535f86f613b9b",
       "style": "IPY_MODEL_0839f6d81a4e491d8280606d0e46ea69"
      }
     },
     "95de545c05244f61b4afd39862449bb3": {
      "model_module": "@jupyter-widgets/controls",
      "model_module_version": "1.5.0",
      "model_name": "CheckboxModel",
      "state": {
       "description": "Es bezeichnet die näheren Umstände des im Verb ausgedrückten Geschehens.",
       "disabled": false,
       "layout": "IPY_MODEL_43e7cfd185394a2c949920f3cb6eb243",
       "style": "IPY_MODEL_ab7a64f9853d466598410b8b66296be1",
       "value": true
      }
     },
     "968d80be9c4743d1bba904768bbbb95c": {
      "model_module": "@jupyter-widgets/base",
      "model_module_version": "1.2.0",
      "model_name": "LayoutModel",
      "state": {
       "width": "150px"
      }
     },
     "969a437acf3d4cf59d21506edf40bea4": {
      "model_module": "@jupyter-widgets/controls",
      "model_module_version": "1.5.0",
      "model_name": "ButtonModel",
      "state": {
       "description": "gerund",
       "layout": "IPY_MODEL_5e106a9bae2a47e2b28bc3199e16fcbb",
       "style": "IPY_MODEL_ff8d6583b6884fe686f1797d47dc0377"
      }
     },
     "96cadcbf75694443bb16e7e95c6e9b44": {
      "model_module": "@jupyter-widgets/controls",
      "model_module_version": "1.5.0",
      "model_name": "ButtonModel",
      "state": {
       "description": "gerund",
       "layout": "IPY_MODEL_ff9794cb0b42407da9e69843cb8a9f33",
       "style": "IPY_MODEL_136ff2b0e77c4e72b1f196ffec9756d7"
      }
     },
     "96d6899498634b01a63ee1c0af425724": {
      "model_module": "@jupyter-widgets/base",
      "model_module_version": "1.2.0",
      "model_name": "LayoutModel",
      "state": {}
     },
     "970132db10ac48b0b4416a3b99b74de9": {
      "model_module": "@jupyter-widgets/controls",
      "model_module_version": "1.5.0",
      "model_name": "ButtonModel",
      "state": {
       "description": "Folge von Wortklassen",
       "layout": "IPY_MODEL_715c358087564211841133423d0b1829",
       "style": "IPY_MODEL_4dd4e0371f844b15859dac67bc24a8cf"
      }
     },
     "9722518d0ce94c11813a51bd73cdb0cd": {
      "model_module": "@jupyter-widgets/controls",
      "model_module_version": "1.5.0",
      "model_name": "DescriptionStyleModel",
      "state": {
       "description_width": ""
      }
     },
     "9724bd5d93084e4b87672c916fcdf5a0": {
      "model_module": "@jupyter-widgets/controls",
      "model_module_version": "1.5.0",
      "model_name": "DescriptionStyleModel",
      "state": {
       "description_width": "initial"
      }
     },
     "972b987d4c4c4727b0765f9b02e72e55": {
      "model_module": "@jupyter-widgets/controls",
      "model_module_version": "1.5.0",
      "model_name": "ButtonStyleModel",
      "state": {}
     },
     "97458d7ebe5f4a8093d6aab527e33c5e": {
      "model_module": "@jupyter-widgets/controls",
      "model_module_version": "1.5.0",
      "model_name": "HTMLModel",
      "state": {
       "layout": "IPY_MODEL_850dbcb6dd7d4bceac1487576ee33d24",
       "style": "IPY_MODEL_0d7cb665a6a84682b9116f4b5f4c901f",
       "value": "<i>Wählen Sie die <ins>eine</ins> korrekte Antwort aus: </i>"
      }
     },
     "979e5fd03ffe4728a1ee6a44b08bbf22": {
      "model_module": "@jupyter-widgets/controls",
      "model_module_version": "1.5.0",
      "model_name": "CheckboxModel",
      "state": {
       "description": "Flexionstyp",
       "disabled": false,
       "layout": "IPY_MODEL_f02c98e51c23405a9a93f7acf6163266",
       "style": "IPY_MODEL_2c2c109b7e644dc7b3b3cf9746cd00ef",
       "value": false
      }
     },
     "97e14adaf00a4cc4843119c674967372": {
      "model_module": "@jupyter-widgets/base",
      "model_module_version": "1.2.0",
      "model_name": "LayoutModel",
      "state": {
       "width": "600px"
      }
     },
     "9880d73c143d46518c9e60a8e627dc28": {
      "model_module": "@jupyter-widgets/controls",
      "model_module_version": "1.5.0",
      "model_name": "HTMLModel",
      "state": {
       "layout": "IPY_MODEL_d8a2e5633fa64bea9deb99bd1968365b",
       "style": "IPY_MODEL_5c031b29cb9d48e3ae4dfe4c1077e863",
       "value": "<h4 style=\"font-size:14px;\">Die Koordination von Phrasen ist dadurch eingeschränkt, dass nur</h4>"
      }
     },
     "989bb301891c460ab841b74ebe62865c": {
      "model_module": "@jupyter-widgets/controls",
      "model_module_version": "1.5.0",
      "model_name": "CheckboxModel",
      "state": {
       "description": "Nur beginnt eine Reise von tausend Meilen auch mit einem Schritt",
       "disabled": false,
       "layout": "IPY_MODEL_7c5cf97505514340803d3b062cd75dc9",
       "style": "IPY_MODEL_bf1642e29c9b4bcea370228afcc2558a",
       "value": false
      }
     },
     "98b7586f33244615a7f39802b884d1be": {
      "model_module": "@jupyter-widgets/controls",
      "model_module_version": "1.5.0",
      "model_name": "ButtonModel",
      "state": {
       "description": "Lösung zeigen",
       "layout": "IPY_MODEL_b396fcbbe55b464fa78b0794491704da",
       "style": "IPY_MODEL_68a9750306fd409381db00d5fa8b34c8"
      }
     },
     "9906ed9e0bc743a79f3ceb86f079e81f": {
      "model_module": "@jupyter-widgets/base",
      "model_module_version": "1.2.0",
      "model_name": "LayoutModel",
      "state": {}
     },
     "99393cf344394c9d8393b423c8482193": {
      "model_module": "@jupyter-widgets/controls",
      "model_module_version": "1.5.0",
      "model_name": "VBoxModel",
      "state": {
       "children": [
        "IPY_MODEL_7ab560362cfc41ec872b2a98b947384b",
        "IPY_MODEL_b0ceaab5f86b4746b3a8fa0ab6428f67",
        "IPY_MODEL_07e059e4b8614ad8be6fd347e741b419",
        "IPY_MODEL_1fb4a60994f24c1b9c2b4e60647e67be"
       ],
       "layout": "IPY_MODEL_fa8b3bb49d0e42d9820c908a2d5f1368"
      }
     },
     "994ee58b5417498380d39778e83b1eae": {
      "model_module": "@jupyter-widgets/controls",
      "model_module_version": "1.5.0",
      "model_name": "DescriptionStyleModel",
      "state": {
       "description_width": ""
      }
     },
     "9953abf238b54155b0bb94ca3b1c7040": {
      "model_module": "@jupyter-widgets/base",
      "model_module_version": "1.2.0",
      "model_name": "LayoutModel",
      "state": {
       "width": "250px"
      }
     },
     "998b838039b049ae9300bdf1747d931e": {
      "model_module": "@jupyter-widgets/controls",
      "model_module_version": "1.5.0",
      "model_name": "ButtonModel",
      "state": {
       "description": "3rd singular present",
       "layout": "IPY_MODEL_9fba6fbef98f4efea1114afe6e13e948",
       "style": "IPY_MODEL_2cc82a6be8c24826b1736f7be73b49f9"
      }
     },
     "99b794c876f94847a67650d7828296bc": {
      "model_module": "@jupyter-widgets/controls",
      "model_module_version": "1.5.0",
      "model_name": "ButtonModel",
      "state": {
       "description": "Folge von Wortklassen",
       "layout": "IPY_MODEL_89c9bde11cc74511b7217f9f62fba76f",
       "style": "IPY_MODEL_62efe6b5f9df427faa0f5b0bb3fba120"
      }
     },
     "9a57b4c7b5774182856218f6fcd34260": {
      "model_module": "@jupyter-widgets/controls",
      "model_module_version": "1.5.0",
      "model_name": "VBoxModel",
      "state": {
       "children": [
        "IPY_MODEL_4a88d8eaaaa945eba4f389c25aadab02",
        "IPY_MODEL_039352017c0147c4b47dabb23dfdcbc6",
        "IPY_MODEL_8700a3f25c4948448b994e1c7e61f16b",
        "IPY_MODEL_3f959fb3fbca4745bd51eb3767ed75b5"
       ],
       "layout": "IPY_MODEL_dec0f76ea2fd43919075d0b3c4d22cf7"
      }
     },
     "9a5b499051cf4eb58ea4b917c8fe298f": {
      "model_module": "@jupyter-widgets/controls",
      "model_module_version": "1.5.0",
      "model_name": "DescriptionStyleModel",
      "state": {
       "description_width": "initial"
      }
     },
     "9a6e36e4db984d68b3a0f992adc6d4c0": {
      "model_module": "@jupyter-widgets/controls",
      "model_module_version": "1.5.0",
      "model_name": "DescriptionStyleModel",
      "state": {
       "description_width": ""
      }
     },
     "9a7277e4dfe842498104edf84d599361": {
      "model_module": "@jupyter-widgets/controls",
      "model_module_version": "1.5.0",
      "model_name": "DescriptionStyleModel",
      "state": {
       "description_width": "initial"
      }
     },
     "9a7eb5b8dc64492db7809ce410438941": {
      "model_module": "@jupyter-widgets/base",
      "model_module_version": "1.2.0",
      "model_name": "LayoutModel",
      "state": {
       "width": "150px"
      }
     },
     "9a84dbe8b2854073bbd7cbe898cb3591": {
      "model_module": "@jupyter-widgets/controls",
      "model_module_version": "1.5.0",
      "model_name": "ButtonStyleModel",
      "state": {
       "button_color": "lightgreen"
      }
     },
     "9a868e0f19de4bf3a5b5cb4eacf52372": {
      "model_module": "@jupyter-widgets/base",
      "model_module_version": "1.2.0",
      "model_name": "LayoutModel",
      "state": {}
     },
     "9aad446c65e9498c909a42de52299ccd": {
      "model_module": "@jupyter-widgets/controls",
      "model_module_version": "1.5.0",
      "model_name": "ButtonModel",
      "state": {
       "description": "past participle",
       "layout": "IPY_MODEL_2024b46bf1f845a4b453a56f7e1886d1",
       "style": "IPY_MODEL_2738c8ed45e342ab8e01a944508f828d"
      }
     },
     "9ac8088877e64585b104f68701c4e7f4": {
      "model_module": "@jupyter-widgets/base",
      "model_module_version": "1.2.0",
      "model_name": "LayoutModel",
      "state": {}
     },
     "9acb6bf2f7de45debcd4ff239e568fa9": {
      "model_module": "@jupyter-widgets/controls",
      "model_module_version": "1.5.0",
      "model_name": "ButtonModel",
      "state": {
       "description": "Korrekt?",
       "layout": "IPY_MODEL_ba04275ce896406c8a5760d5a1e3d356",
       "style": "IPY_MODEL_187f6faabcbb4a1ca06d865767f045e2"
      }
     },
     "9ad68a77b5de487e97f5606f30e82530": {
      "model_module": "@jupyter-widgets/controls",
      "model_module_version": "1.5.0",
      "model_name": "ButtonModel",
      "state": {
       "description": "Lösung zeigen",
       "disabled": true,
       "layout": "IPY_MODEL_6891876ef3c145528c286502b4309813",
       "style": "IPY_MODEL_b3945c56a2bc4c819d5471bb9ca18be2"
      }
     },
     "9b3391f5566f44c2b9eca8112d472bf9": {
      "model_module": "@jupyter-widgets/controls",
      "model_module_version": "1.5.0",
      "model_name": "ButtonModel",
      "state": {
       "description": "base",
       "layout": "IPY_MODEL_85d3e4e69a8a4da394fbe0c1fe122646",
       "style": "IPY_MODEL_77619603fa5b4460abb61434fc1f60e4"
      }
     },
     "9b556024c84a434eb47ee4c7c1f32633": {
      "model_module": "@jupyter-widgets/controls",
      "model_module_version": "1.5.0",
      "model_name": "DescriptionStyleModel",
      "state": {
       "description_width": ""
      }
     },
     "9b61d9fe74064bb2b9aa68c980c39c7b": {
      "model_module": "@jupyter-widgets/base",
      "model_module_version": "1.2.0",
      "model_name": "LayoutModel",
      "state": {
       "width": "250px"
      }
     },
     "9b76ba601d774a469dbc7f34765eb9b7": {
      "model_module": "@jupyter-widgets/base",
      "model_module_version": "1.2.0",
      "model_name": "LayoutModel",
      "state": {
       "width": "250px"
      }
     },
     "9b7fd4d74bb047bd929d01915ee11297": {
      "model_module": "@jupyter-widgets/controls",
      "model_module_version": "1.5.0",
      "model_name": "ButtonModel",
      "state": {
       "description": "Wortfolge",
       "layout": "IPY_MODEL_679f0030657e4d4b88fc62d591aee408",
       "style": "IPY_MODEL_8bef0aef2af24e8cb01ccb31d1ff5c95"
      }
     },
     "9b9c5139a03d4950830b2d93d5f899e9": {
      "model_module": "@jupyter-widgets/controls",
      "model_module_version": "1.5.0",
      "model_name": "HTMLModel",
      "state": {
       "layout": "IPY_MODEL_695f943a95aa49698e466d7ea9eeee1b",
       "style": "IPY_MODEL_f5ccece39ef94e43b560d642169c52d4",
       "value": "<i>Wählen Sie die <ins>eine</ins> korrekte Antwort aus: </i>"
      }
     },
     "9ba71aefbf41499e9f88397024eeec75": {
      "model_module": "@jupyter-widgets/base",
      "model_module_version": "1.2.0",
      "model_name": "LayoutModel",
      "state": {
       "width": "600px"
      }
     },
     "9be9f2bc181c4aa49523a52d464cd9dd": {
      "model_module": "@jupyter-widgets/controls",
      "model_module_version": "1.5.0",
      "model_name": "CheckboxModel",
      "state": {
       "description": "Zu einem Wort werden alle Wörter gefunden, die in gleichen Kontexten vorkommen.",
       "disabled": false,
       "layout": "IPY_MODEL_f9142e20b1d34e80834df011a570efe2",
       "style": "IPY_MODEL_c2c6acbaa0b4432698d07e0c092f3820",
       "value": false
      }
     },
     "9c99d4c2de6e44c3a5375db345bc153e": {
      "model_module": "@jupyter-widgets/base",
      "model_module_version": "1.2.0",
      "model_name": "LayoutModel",
      "state": {}
     },
     "9cab6abb9db3429a89e5dd5bd0e0097d": {
      "model_module": "@jupyter-widgets/controls",
      "model_module_version": "1.5.0",
      "model_name": "DescriptionStyleModel",
      "state": {
       "description_width": ""
      }
     },
     "9ced5394accf476c98002f512bda38fe": {
      "model_module": "@jupyter-widgets/base",
      "model_module_version": "1.2.0",
      "model_name": "LayoutModel",
      "state": {
       "justify_content": "center"
      }
     },
     "9d13660cff8d4f78b902356a117924d5": {
      "model_module": "@jupyter-widgets/controls",
      "model_module_version": "1.5.0",
      "model_name": "BoxModel",
      "state": {
       "children": [
        "IPY_MODEL_e150da553c9c4e3aa1e987f646b1f13c",
        "IPY_MODEL_262fe8bc94f941379133c9997126ff4c",
        "IPY_MODEL_329aa2acdb544dd49eb4be85299613e4",
        "IPY_MODEL_c74f518d56794e978c0071615e2163aa",
        "IPY_MODEL_831d8907370047e491cd1dab64344ec5",
        "IPY_MODEL_1a54bfd4926b4922888663da9f03bd49",
        "IPY_MODEL_04f185eedfdd4221bc0ae1218d0de13d",
        "IPY_MODEL_e210eb2a87e34edb9de963421dac4208",
        "IPY_MODEL_071495267a174deb8dfd8f2b2a773e61",
        "IPY_MODEL_e268eb81d0f04b8ca51b1d5031287ff2",
        "IPY_MODEL_b16292bd5d8243e09806268422862946",
        "IPY_MODEL_305f59d3ba3344059a2ec45efed9b757",
        "IPY_MODEL_ff92c62591f84aac9b1fdb1776d8b90d"
       ],
       "layout": "IPY_MODEL_cad396e90fa64529bb42720086c8e5ae"
      }
     },
     "9d2f2648709c429d817545af135a1a46": {
      "model_module": "@jupyter-widgets/controls",
      "model_module_version": "1.5.0",
      "model_name": "DescriptionStyleModel",
      "state": {
       "description_width": "initial"
      }
     },
     "9d4287f955164075a0da90bf2eb2f839": {
      "model_module": "@jupyter-widgets/controls",
      "model_module_version": "1.5.0",
      "model_name": "VBoxModel",
      "state": {
       "children": [
        "IPY_MODEL_0ae0888c04e549189a4ed3e64b21acba",
        "IPY_MODEL_153c76c65bd84fc2a378577f1b4e6b00",
        "IPY_MODEL_9f5035aafbf74f81be1f4c9c877f430d",
        "IPY_MODEL_ee47244488984a71860dc46d530a5806"
       ],
       "layout": "IPY_MODEL_f280c19a12a94c819548d755669e73af"
      }
     },
     "9d5aeda250ae4dfab20430a98016b60d": {
      "model_module": "@jupyter-widgets/base",
      "model_module_version": "1.2.0",
      "model_name": "LayoutModel",
      "state": {}
     },
     "9d6bb54cd73c484cb930dea9003abf93": {
      "model_module": "@jupyter-widgets/base",
      "model_module_version": "1.2.0",
      "model_name": "LayoutModel",
      "state": {}
     },
     "9e36d0c6ba044aa5a7c13ee6bd38019d": {
      "model_module": "@jupyter-widgets/controls",
      "model_module_version": "1.5.0",
      "model_name": "HTMLModel",
      "state": {
       "layout": "IPY_MODEL_f5fd5b60b3da4e3b9ce67c0d9f19d768",
       "style": "IPY_MODEL_abf5de74ddd242a38c5d77c1998cdbf5",
       "value": "<h4 style=\"font-size:14px;\">Was sind syntaktische Kriterien für Wortkategorien?</h4>"
      }
     },
     "9e5e29d8a1b84fe680fdba96cc90f8f3": {
      "model_module": "@jupyter-widgets/controls",
      "model_module_version": "1.5.0",
      "model_name": "HBoxModel",
      "state": {
       "children": [
        "IPY_MODEL_854b1be8b5344d49915b44d5da68724a",
        "IPY_MODEL_9aad446c65e9498c909a42de52299ccd"
       ],
       "layout": "IPY_MODEL_a4933d7457a14eab8b5caffcecd381cc"
      }
     },
     "9e8a7b812b9c4e7aa9c2a9d69ef2ca33": {
      "model_module": "@jupyter-widgets/controls",
      "model_module_version": "1.5.0",
      "model_name": "CheckboxModel",
      "state": {
       "description": "gleiche Endungen",
       "disabled": false,
       "layout": "IPY_MODEL_f3edd9969858464a9c519987a8a49842",
       "style": "IPY_MODEL_c452c82f892b4804875859c961383d1b",
       "value": false
      }
     },
     "9ef989f791ac4a16a253269261e90730": {
      "model_module": "@jupyter-widgets/controls",
      "model_module_version": "1.5.0",
      "model_name": "ButtonModel",
      "state": {
       "description": "3rd singular present",
       "layout": "IPY_MODEL_8fb7b4a6555a417787796e9676820887",
       "style": "IPY_MODEL_b1e965ab70ff4aca9680d698996e506a"
      }
     },
     "9f293fafc7504fa49267e64017955ef9": {
      "model_module": "@jupyter-widgets/controls",
      "model_module_version": "1.5.0",
      "model_name": "ButtonModel",
      "state": {
       "description": "simple past",
       "layout": "IPY_MODEL_2295b16297e7416db846ac6301d6fe7f",
       "style": "IPY_MODEL_23d408c48a0645c190417d13df63be1a"
      }
     },
     "9f30492f526740e98e7d1cc136132237": {
      "model_module": "@jupyter-widgets/base",
      "model_module_version": "1.2.0",
      "model_name": "LayoutModel",
      "state": {
       "width": "250px"
      }
     },
     "9f5035aafbf74f81be1f4c9c877f430d": {
      "model_module": "@jupyter-widgets/controls",
      "model_module_version": "1.5.0",
      "model_name": "HBoxModel",
      "state": {
       "children": [
        "IPY_MODEL_094988da43014440b7366c277886175a",
        "IPY_MODEL_12f88c161ac147fbbf0c531c42f66e7f"
       ],
       "layout": "IPY_MODEL_1ea5b1efe48d40edb039e17b359b309a"
      }
     },
     "9f7998b3d9f346b3b517ba35f89945c1": {
      "model_module": "@jupyter-widgets/base",
      "model_module_version": "1.2.0",
      "model_name": "LayoutModel",
      "state": {
       "width": "250px"
      }
     },
     "9fad08e144134393aabf357b5bb45bfa": {
      "model_module": "@jupyter-widgets/base",
      "model_module_version": "1.2.0",
      "model_name": "LayoutModel",
      "state": {}
     },
     "9fba6fbef98f4efea1114afe6e13e948": {
      "model_module": "@jupyter-widgets/base",
      "model_module_version": "1.2.0",
      "model_name": "LayoutModel",
      "state": {
       "width": "250px"
      }
     },
     "9ff36b7825ab4cd294e53c30e97c6888": {
      "model_module": "@jupyter-widgets/controls",
      "model_module_version": "1.5.0",
      "model_name": "DescriptionStyleModel",
      "state": {
       "description_width": ""
      }
     },
     "9ff4413fec41485a9eb093b904fe3d9f": {
      "model_module": "@jupyter-widgets/base",
      "model_module_version": "1.2.0",
      "model_name": "LayoutModel",
      "state": {}
     },
     "a0384f8eb77f4909ac2e869045a057ad": {
      "model_module": "@jupyter-widgets/base",
      "model_module_version": "1.2.0",
      "model_name": "LayoutModel",
      "state": {
       "width": "600px"
      }
     },
     "a052e74c201e40a7a2e8a0a802ec6672": {
      "model_module": "@jupyter-widgets/base",
      "model_module_version": "1.2.0",
      "model_name": "LayoutModel",
      "state": {}
     },
     "a08ca97135e84384af3cb2a539701f6d": {
      "model_module": "@jupyter-widgets/controls",
      "model_module_version": "1.5.0",
      "model_name": "DescriptionStyleModel",
      "state": {
       "description_width": ""
      }
     },
     "a0a3a4172e474743aab5c430324638b8": {
      "model_module": "@jupyter-widgets/controls",
      "model_module_version": "1.5.0",
      "model_name": "ButtonModel",
      "state": {
       "description": "Keine der anderen Möglichkeiten",
       "layout": "IPY_MODEL_8a5aa0595f5e4f87b8f1569ab3399b39",
       "style": "IPY_MODEL_673b3ae47d02442ba4d590f1acdc8419"
      }
     },
     "a0ad1e19a40142ce87664472063f751a": {
      "model_module": "@jupyter-widgets/base",
      "model_module_version": "1.2.0",
      "model_name": "LayoutModel",
      "state": {}
     },
     "a0c49faba86c4ef890d40ff1dcb7d546": {
      "model_module": "@jupyter-widgets/base",
      "model_module_version": "1.2.0",
      "model_name": "LayoutModel",
      "state": {
       "width": "250px"
      }
     },
     "a0d93276e991498486c860cead7d2d4f": {
      "model_module": "@jupyter-widgets/controls",
      "model_module_version": "1.5.0",
      "model_name": "ButtonModel",
      "state": {
       "description": "3rd singular present",
       "layout": "IPY_MODEL_72cfb06a699e4accad178c7f281117b2",
       "style": "IPY_MODEL_72cd3649159f45f2a43ccfb15d3ad88c"
      }
     },
     "a0e83be8625941eeb659fe7cb1ee50a1": {
      "model_module": "@jupyter-widgets/base",
      "model_module_version": "1.2.0",
      "model_name": "LayoutModel",
      "state": {
       "width": "500px"
      }
     },
     "a1036f049c1c473289a3265a1196ecc4": {
      "model_module": "@jupyter-widgets/controls",
      "model_module_version": "1.5.0",
      "model_name": "HBoxModel",
      "state": {
       "children": [
        "IPY_MODEL_bf21742a0e85430481445738506bfe10",
        "IPY_MODEL_a0a3a4172e474743aab5c430324638b8"
       ],
       "layout": "IPY_MODEL_583b9809bf5d41ab8278de761125f75b"
      }
     },
     "a117dcac63c64741add567d41f8bd30f": {
      "model_module": "@jupyter-widgets/base",
      "model_module_version": "1.2.0",
      "model_name": "LayoutModel",
      "state": {
       "width": "250px"
      }
     },
     "a1200b7d06e14b7b883643d4b00152cd": {
      "model_module": "@jupyter-widgets/controls",
      "model_module_version": "1.5.0",
      "model_name": "DescriptionStyleModel",
      "state": {
       "description_width": ""
      }
     },
     "a1238f99966b43b6a29eff4a600092d9": {
      "model_module": "@jupyter-widgets/base",
      "model_module_version": "1.2.0",
      "model_name": "LayoutModel",
      "state": {
       "width": "250px"
      }
     },
     "a133ddfc31e048e9863b277f0f8c14bd": {
      "model_module": "@jupyter-widgets/controls",
      "model_module_version": "1.5.0",
      "model_name": "HTMLModel",
      "state": {
       "layout": "IPY_MODEL_037c3be53a804e12a0ca64de8e03f000",
       "style": "IPY_MODEL_fd9038a111e443ce9ea8b36d2ee095d9",
       "value": "<h4 style=\"font-size:14px;\">Was ist der Output eines Part-of-Speech-Taggers?</h4>"
      }
     },
     "a140e172a33b43398891d5dc58a221e3": {
      "model_module": "@jupyter-widgets/controls",
      "model_module_version": "1.5.0",
      "model_name": "ButtonStyleModel",
      "state": {}
     },
     "a14175e1871c4c6ab8d4704944bc3131": {
      "model_module": "@jupyter-widgets/controls",
      "model_module_version": "1.5.0",
      "model_name": "HTMLModel",
      "state": {
       "layout": "IPY_MODEL_a61ac31f40114fdaa25d7564318ca8ec",
       "style": "IPY_MODEL_0bb1ff9d16a440e0ba63687285fc72b9",
       "value": "<h4 style=\"font-size:14px;\">Was bedeutet das Tag <i>VBN</i> im Browntagset (siehe 5.7)?</h4>"
      }
     },
     "a1a0352783df4fce9d0ae8bde89fe1cd": {
      "model_module": "@jupyter-widgets/controls",
      "model_module_version": "1.5.0",
      "model_name": "HTMLModel",
      "state": {
       "layout": "IPY_MODEL_e1aadfeaf2ba4ddd9fa8534eb1ffe571",
       "style": "IPY_MODEL_18b930fe61a54856b11b5c7a6148d6b3",
       "value": "<h4 style=\"font-size:14px;\">Phrasen verkettet werden können. Das Ergebnis ist eine Phrase des gleichen Typs, also der gleichen</h4>"
      }
     },
     "a1cb40bb59de4d35a3dd07d7ad7649aa": {
      "model_module": "@jupyter-widgets/controls",
      "model_module_version": "1.5.0",
      "model_name": "DescriptionStyleModel",
      "state": {
       "description_width": "initial"
      }
     },
     "a1ce68c2c1474ebf9030b8b80ffe4d44": {
      "model_module": "@jupyter-widgets/controls",
      "model_module_version": "1.5.0",
      "model_name": "ButtonStyleModel",
      "state": {
       "button_color": "lightgreen"
      }
     },
     "a1d2e53fa64349ed9251694ff9bde440": {
      "model_module": "@jupyter-widgets/base",
      "model_module_version": "1.2.0",
      "model_name": "LayoutModel",
      "state": {
       "justify_content": "center"
      }
     },
     "a20376cf655345b685abf82b69ee73ae": {
      "model_module": "@jupyter-widgets/controls",
      "model_module_version": "1.5.0",
      "model_name": "HBoxModel",
      "state": {
       "children": [
        "IPY_MODEL_e2c2ffdeefb04c69896e79b585c07c8c",
        "IPY_MODEL_1e89596fb2254c9d8f05786441b35e03"
       ],
       "layout": "IPY_MODEL_acf096f566e34a109c0676914d70b98c"
      }
     },
     "a231e47ee5be4fd78e307a83fe023a69": {
      "model_module": "@jupyter-widgets/controls",
      "model_module_version": "1.5.0",
      "model_name": "HTMLModel",
      "state": {
       "layout": "IPY_MODEL_2f00e6af899943098c0809cb7179460d",
       "style": "IPY_MODEL_b030a7c927514f159ad47cdae9a275f0",
       "value": "<h4 style=\"font-size:14px;\">durch eine</h4>"
      }
     },
     "a2e1b1f89ab443d786f61319fada7213": {
      "model_module": "@jupyter-widgets/controls",
      "model_module_version": "1.5.0",
      "model_name": "DescriptionStyleModel",
      "state": {
       "description_width": ""
      }
     },
     "a311f50a336a4ca1819a75caf02a65f0": {
      "model_module": "@jupyter-widgets/controls",
      "model_module_version": "1.5.0",
      "model_name": "DropdownModel",
      "state": {
       "_options_labels": [
        "Bedeutung",
        "Wohlgeformtheit",
        " "
       ],
       "index": 2,
       "layout": "IPY_MODEL_c0c48267440b4847837bdbcabe284cde",
       "style": "IPY_MODEL_c7108a2aee6f4d4296dd83e279eda0bd"
      }
     },
     "a3356ca8a51a4332b6f48d1af8bf20d2": {
      "model_module": "@jupyter-widgets/base",
      "model_module_version": "1.2.0",
      "model_name": "LayoutModel",
      "state": {}
     },
     "a33bb5e5910b49cba76300a079ec948a": {
      "model_module": "@jupyter-widgets/controls",
      "model_module_version": "1.5.0",
      "model_name": "DescriptionStyleModel",
      "state": {
       "description_width": ""
      }
     },
     "a3bc195e0f9d4659b77b2f8f56fdec7d": {
      "model_module": "@jupyter-widgets/controls",
      "model_module_version": "1.5.0",
      "model_name": "DescriptionStyleModel",
      "state": {
       "description_width": ""
      }
     },
     "a3c77a874087448d95d5b8aeb1583f07": {
      "model_module": "@jupyter-widgets/controls",
      "model_module_version": "1.5.0",
      "model_name": "HBoxModel",
      "state": {
       "children": [
        "IPY_MODEL_1dae76be7e874a42bb39a2aec4061204"
       ],
       "layout": "IPY_MODEL_ab0c7b2b6f68433e808cfd1b3e0cae76"
      }
     },
     "a40bbe0aeae740bf8bdf40a06e931532": {
      "model_module": "@jupyter-widgets/controls",
      "model_module_version": "1.5.0",
      "model_name": "HTMLModel",
      "state": {
       "layout": "IPY_MODEL_2a97a91d559d48d0ba2a6e18947eb4dc",
       "style": "IPY_MODEL_bb2f63cf011649b1867fc455c1ba3060",
       "value": "<h4 style=\"font-size:14px;\">Die Koordination von Phrasen ist dadurch eingeschränkt, dass nur</h4>"
      }
     },
     "a43d95f6da04438ba7ebdb49373f6a3e": {
      "model_module": "@jupyter-widgets/controls",
      "model_module_version": "1.5.0",
      "model_name": "DescriptionStyleModel",
      "state": {
       "description_width": ""
      }
     },
     "a4413646b9684ad28dfbbd6fca93517c": {
      "model_module": "@jupyter-widgets/base",
      "model_module_version": "1.2.0",
      "model_name": "LayoutModel",
      "state": {}
     },
     "a4718ba7a6844fa98258a0c14f9459c8": {
      "model_module": "@jupyter-widgets/base",
      "model_module_version": "1.2.0",
      "model_name": "LayoutModel",
      "state": {
       "justify_content": "center"
      }
     },
     "a4933d7457a14eab8b5caffcecd381cc": {
      "model_module": "@jupyter-widgets/base",
      "model_module_version": "1.2.0",
      "model_name": "LayoutModel",
      "state": {}
     },
     "a4e69e657cc74c7bbf87670cb306f8ec": {
      "model_module": "@jupyter-widgets/controls",
      "model_module_version": "1.5.0",
      "model_name": "DescriptionStyleModel",
      "state": {
       "description_width": ""
      }
     },
     "a502a2bf59654fee818a3a6de433ab6b": {
      "model_module": "@jupyter-widgets/controls",
      "model_module_version": "1.5.0",
      "model_name": "HBoxModel",
      "state": {
       "children": [
        "IPY_MODEL_a0d93276e991498486c860cead7d2d4f",
        "IPY_MODEL_dd56cccacec34f1995e28a4360d83f9e"
       ],
       "layout": "IPY_MODEL_025d2deab79d42f1b243eb4737f7b0f5"
      }
     },
     "a50bb5fc9d9947ba811ca876d19aef75": {
      "model_module": "@jupyter-widgets/base",
      "model_module_version": "1.2.0",
      "model_name": "LayoutModel",
      "state": {
       "justify_content": "center"
      }
     },
     "a51e43d3531146ceaf87186c74990433": {
      "model_module": "@jupyter-widgets/controls",
      "model_module_version": "1.5.0",
      "model_name": "ButtonModel",
      "state": {
       "description": "3rd singular present",
       "layout": "IPY_MODEL_7d1d9cc05afa49ce8fb5016e59127078",
       "style": "IPY_MODEL_2d9d269ccbdb4a67971992d5037d3710"
      }
     },
     "a53e02b26d4e4e2fb4cce6a28a681450": {
      "model_module": "@jupyter-widgets/controls",
      "model_module_version": "1.5.0",
      "model_name": "ButtonModel",
      "state": {
       "description": "past participle",
       "layout": "IPY_MODEL_d35171e99fbd419ca7672670b7c276fb",
       "style": "IPY_MODEL_fc063ae9458e49809a1b90571715c6d7"
      }
     },
     "a543cece1a2347cf83f724d8423ef103": {
      "model_module": "@jupyter-widgets/base",
      "model_module_version": "1.2.0",
      "model_name": "LayoutModel",
      "state": {}
     },
     "a559921ba69b44d49f0ebb38b06418ed": {
      "model_module": "@jupyter-widgets/base",
      "model_module_version": "1.2.0",
      "model_name": "LayoutModel",
      "state": {
       "justify_content": "center"
      }
     },
     "a58c8415f31041e48e57f97df0aaba52": {
      "model_module": "@jupyter-widgets/controls",
      "model_module_version": "1.5.0",
      "model_name": "ButtonModel",
      "state": {
       "description": "Korrekt?",
       "layout": "IPY_MODEL_ed791b09847a44c58d005ed56a2c804a",
       "style": "IPY_MODEL_b90d44ce659e41439ec3acdef182bd69"
      }
     },
     "a5b0fb080b694b39af84b1113abdcc97": {
      "model_module": "@jupyter-widgets/controls",
      "model_module_version": "1.5.0",
      "model_name": "DescriptionStyleModel",
      "state": {
       "description_width": "initial"
      }
     },
     "a5e0be4254aa4901a9f26f2a36bf588f": {
      "model_module": "@jupyter-widgets/controls",
      "model_module_version": "1.5.0",
      "model_name": "HBoxModel",
      "state": {
       "children": [
        "IPY_MODEL_74640f6fbdbe4892bb51b2799404d104",
        "IPY_MODEL_fc6379037b9846219a171b3270202739"
       ],
       "layout": "IPY_MODEL_e2020e3ef9d74040a66e8fc66e82ba58"
      }
     },
     "a61ac31f40114fdaa25d7564318ca8ec": {
      "model_module": "@jupyter-widgets/base",
      "model_module_version": "1.2.0",
      "model_name": "LayoutModel",
      "state": {
       "justify_content": "center"
      }
     },
     "a62bedb8b617428eb41303a05a432eb0": {
      "model_module": "@jupyter-widgets/controls",
      "model_module_version": "1.5.0",
      "model_name": "ButtonStyleModel",
      "state": {}
     },
     "a653a6ca9a8244e1a660210faac14bb2": {
      "model_module": "@jupyter-widgets/base",
      "model_module_version": "1.2.0",
      "model_name": "LayoutModel",
      "state": {
       "width": "250px"
      }
     },
     "a687a4c4afd34554b6affdb295d856de": {
      "model_module": "@jupyter-widgets/controls",
      "model_module_version": "1.5.0",
      "model_name": "VBoxModel",
      "state": {
       "children": [
        "IPY_MODEL_acf158c8d4b84b38bef2aa6d326f9c97",
        "IPY_MODEL_c85ccdab73084a638741a74157201772",
        "IPY_MODEL_23da8ef0790d4cb7b9fe68a40dc24af2",
        "IPY_MODEL_f9d6cdb0deaf42dd995144035adaa677"
       ],
       "layout": "IPY_MODEL_73475409bf894c878e044f92c5ff74ed"
      }
     },
     "a69406a2496247c2bb144cd39b0cb478": {
      "model_module": "@jupyter-widgets/controls",
      "model_module_version": "1.5.0",
      "model_name": "ButtonStyleModel",
      "state": {}
     },
     "a6b86c60204b4022b4f7f50b3e398c07": {
      "model_module": "@jupyter-widgets/base",
      "model_module_version": "1.2.0",
      "model_name": "LayoutModel",
      "state": {
       "justify_content": "center"
      }
     },
     "a76737c3184548a48a846dfbc7390783": {
      "model_module": "@jupyter-widgets/controls",
      "model_module_version": "1.5.0",
      "model_name": "ButtonModel",
      "state": {
       "description": "simple past",
       "layout": "IPY_MODEL_3b170fde1bef44d78b9103bfe2fae383",
       "style": "IPY_MODEL_50e706a1f23b4d678910082210972fe0"
      }
     },
     "a78dc86aec124b999f69c33b4b307cb3": {
      "model_module": "@jupyter-widgets/controls",
      "model_module_version": "1.5.0",
      "model_name": "ButtonStyleModel",
      "state": {
       "button_color": "lightgreen"
      }
     },
     "a79e8fbd0568418f8f271f08d5631e7d": {
      "model_module": "@jupyter-widgets/controls",
      "model_module_version": "1.5.0",
      "model_name": "ButtonModel",
      "state": {
       "description": "simple past",
       "layout": "IPY_MODEL_2222a0b8335344539a2053cec7fa2306",
       "style": "IPY_MODEL_ef15b63e460445a7baa5887f4e843b1b"
      }
     },
     "a7d0e6b60aae42019208294c3e7473e1": {
      "model_module": "@jupyter-widgets/base",
      "model_module_version": "1.2.0",
      "model_name": "LayoutModel",
      "state": {}
     },
     "a7e8f98a306f453ca0390ae913c1fa65": {
      "model_module": "@jupyter-widgets/base",
      "model_module_version": "1.2.0",
      "model_name": "LayoutModel",
      "state": {
       "width": "150px"
      }
     },
     "a7f4be15e13346e58b261b8cd2a94c59": {
      "model_module": "@jupyter-widgets/controls",
      "model_module_version": "1.5.0",
      "model_name": "DescriptionStyleModel",
      "state": {
       "description_width": ""
      }
     },
     "a840bdbaef0448bdb6b26d742d1ae2b8": {
      "model_module": "@jupyter-widgets/base",
      "model_module_version": "1.2.0",
      "model_name": "LayoutModel",
      "state": {}
     },
     "a857d3ff1211429cbf4b411b40da6d33": {
      "model_module": "@jupyter-widgets/controls",
      "model_module_version": "1.5.0",
      "model_name": "ButtonModel",
      "state": {
       "description": "past participle",
       "layout": "IPY_MODEL_300218ad53e84811b7280b0d2edf973c",
       "style": "IPY_MODEL_fa1cface7be84dd8855d84a853488049"
      }
     },
     "a87f5fa16aa44e0f89316e08bf987859": {
      "model_module": "@jupyter-widgets/controls",
      "model_module_version": "1.5.0",
      "model_name": "DescriptionStyleModel",
      "state": {
       "description_width": ""
      }
     },
     "a88a70a0537046ec9ae96643b0ff441a": {
      "model_module": "@jupyter-widgets/controls",
      "model_module_version": "1.5.0",
      "model_name": "ButtonModel",
      "state": {
       "description": "base",
       "layout": "IPY_MODEL_75074fd3651c4dd58c985ad5dec46b46",
       "style": "IPY_MODEL_ee0a63d1400a418f9eb5bcb9ec2805c8"
      }
     },
     "a8a218a1d5e74d529f82bccb1912a856": {
      "model_module": "@jupyter-widgets/controls",
      "model_module_version": "1.5.0",
      "model_name": "ButtonModel",
      "state": {
       "description": "Keine der anderen Möglichkeiten",
       "layout": "IPY_MODEL_f4ac35833d13437a8eb08fe80f291fea",
       "style": "IPY_MODEL_b808fd00a3bb460a91786fb15055a688"
      }
     },
     "a90866e111314c7b8e38c33673211cca": {
      "model_module": "@jupyter-widgets/controls",
      "model_module_version": "1.5.0",
      "model_name": "HTMLModel",
      "state": {
       "layout": "IPY_MODEL_a915243c8ed64d48847c966a7e8e6be9",
       "style": "IPY_MODEL_21b1973ad6c8482fa6023bb9310ce17b",
       "value": "<i>Markieren Sie <ins>alle</ins> passenden Antworten: </i>"
      }
     },
     "a915243c8ed64d48847c966a7e8e6be9": {
      "model_module": "@jupyter-widgets/base",
      "model_module_version": "1.2.0",
      "model_name": "LayoutModel",
      "state": {
       "justify_content": "center"
      }
     },
     "a918e0ea9694466cb979d059cdc4ee1e": {
      "model_module": "@jupyter-widgets/controls",
      "model_module_version": "1.5.0",
      "model_name": "DescriptionStyleModel",
      "state": {
       "description_width": "initial"
      }
     },
     "a9393112a72b46d2a885865544a95167": {
      "model_module": "@jupyter-widgets/controls",
      "model_module_version": "1.5.0",
      "model_name": "ButtonStyleModel",
      "state": {}
     },
     "a955f32648ec4cafb3025c48507b8886": {
      "model_module": "@jupyter-widgets/base",
      "model_module_version": "1.2.0",
      "model_name": "LayoutModel",
      "state": {
       "width": "500px"
      }
     },
     "a98ac38be5af43ecb11b34ff2def970c": {
      "model_module": "@jupyter-widgets/controls",
      "model_module_version": "1.5.0",
      "model_name": "DescriptionStyleModel",
      "state": {
       "description_width": ""
      }
     },
     "a9959a0ecc7e4a2c9bac3a965bbc5176": {
      "model_module": "@jupyter-widgets/controls",
      "model_module_version": "1.5.0",
      "model_name": "DescriptionStyleModel",
      "state": {
       "description_width": ""
      }
     },
     "a9e12edce0a34966a6a2f3843dea22d6": {
      "model_module": "@jupyter-widgets/controls",
      "model_module_version": "1.5.0",
      "model_name": "DropdownModel",
      "state": {
       "_options_labels": [
        "Köpfe",
        "Länge",
        "Phrasenstruktur",
        " "
       ],
       "index": 3,
       "layout": "IPY_MODEL_14d36f4da8f14a09b2accf79bca37090",
       "style": "IPY_MODEL_45af35e213d042d7a9735ac5a8a79d4f"
      }
     },
     "aa31182a70ed44b89d5a95cba0834c49": {
      "model_module": "@jupyter-widgets/controls",
      "model_module_version": "1.5.0",
      "model_name": "HTMLModel",
      "state": {
       "layout": "IPY_MODEL_8322864e1d434a5195b5bc6cdc0fddf6",
       "style": "IPY_MODEL_e3712827218642799b8a5792722064ae",
       "value": "<h4 style=\"font-size:14px;\">trägt. Das Ergebnis sind die häufigsten zweistelligen syntaktischen Muster des Englischen mit NOUN als rechtem Kontext, nämlich NOUN+NOUN, DET+NOUN und ADJ+NOUN; diese Ergebnisse geben Hinweis auf die NP-</h4>"
      }
     },
     "aa3680454fd14048a824846ac31abf24": {
      "model_module": "@jupyter-widgets/base",
      "model_module_version": "1.2.0",
      "model_name": "LayoutModel",
      "state": {}
     },
     "aa5c698cb3ed4f77878d96b4156ccab3": {
      "model_module": "@jupyter-widgets/base",
      "model_module_version": "1.2.0",
      "model_name": "LayoutModel",
      "state": {}
     },
     "aafa75bc960c4e099b619c7648870d69": {
      "model_module": "@jupyter-widgets/controls",
      "model_module_version": "1.5.0",
      "model_name": "ButtonModel",
      "state": {
       "description": "base",
       "layout": "IPY_MODEL_430578908e8b4a5c80b4cd850566eb42",
       "style": "IPY_MODEL_399b666422a349528f2c2f2c5cc3cd09"
      }
     },
     "ab0c7b2b6f68433e808cfd1b3e0cae76": {
      "model_module": "@jupyter-widgets/base",
      "model_module_version": "1.2.0",
      "model_name": "LayoutModel",
      "state": {}
     },
     "ab2ca29f7e6941aca82487c424fce517": {
      "model_module": "@jupyter-widgets/base",
      "model_module_version": "1.2.0",
      "model_name": "LayoutModel",
      "state": {}
     },
     "ab2e2c4a02f3408bbbb45ca618b38b64": {
      "model_module": "@jupyter-widgets/controls",
      "model_module_version": "1.5.0",
      "model_name": "CheckboxModel",
      "state": {
       "description": "Es ist flektierbar.",
       "disabled": false,
       "layout": "IPY_MODEL_be843812631e4c558a60bf3bc0af8f07",
       "style": "IPY_MODEL_2990b64f6e084c7cb13084a35dc4b058",
       "value": false
      }
     },
     "ab509ab1388e461486740f157feea562": {
      "model_module": "@jupyter-widgets/controls",
      "model_module_version": "1.5.0",
      "model_name": "ButtonStyleModel",
      "state": {}
     },
     "ab56f2c806094ee3818b84f1a009e485": {
      "model_module": "@jupyter-widgets/controls",
      "model_module_version": "1.5.0",
      "model_name": "ButtonStyleModel",
      "state": {
       "button_color": "lightgreen"
      }
     },
     "ab7a64f9853d466598410b8b66296be1": {
      "model_module": "@jupyter-widgets/controls",
      "model_module_version": "1.5.0",
      "model_name": "DescriptionStyleModel",
      "state": {
       "description_width": "initial"
      }
     },
     "abc63c2f3593480988000ab392b680a2": {
      "model_module": "@jupyter-widgets/base",
      "model_module_version": "1.2.0",
      "model_name": "LayoutModel",
      "state": {
       "justify_content": "center"
      }
     },
     "abf5de74ddd242a38c5d77c1998cdbf5": {
      "model_module": "@jupyter-widgets/controls",
      "model_module_version": "1.5.0",
      "model_name": "DescriptionStyleModel",
      "state": {
       "description_width": ""
      }
     },
     "ac282cef3da7415c9bd32da62d45a684": {
      "model_module": "@jupyter-widgets/controls",
      "model_module_version": "1.5.0",
      "model_name": "HTMLModel",
      "state": {
       "layout": "IPY_MODEL_5b9f6aae848a4ac99b4410cbd8ec2c18",
       "style": "IPY_MODEL_8cc5efeb7872477b947d74ad13223aeb",
       "value": "<h4 style=\"font-size:14px;\">Was ist der Output eines Part-of-Speech-Taggers?</h4>"
      }
     },
     "ac2acf51837a441e8be252bb8711204a": {
      "model_module": "@jupyter-widgets/controls",
      "model_module_version": "1.5.0",
      "model_name": "ButtonModel",
      "state": {
       "description": "Adverb",
       "layout": "IPY_MODEL_077a1b4fc7774edc8a98fe6e492a9807",
       "style": "IPY_MODEL_dd94575bdf3d454fb076fe79a2ca389d"
      }
     },
     "ac53a00c47f14d76affc3bb27812f5a1": {
      "model_module": "@jupyter-widgets/controls",
      "model_module_version": "1.5.0",
      "model_name": "DescriptionStyleModel",
      "state": {
       "description_width": ""
      }
     },
     "acd97d20e64546e49a9349f7d521058d": {
      "model_module": "@jupyter-widgets/controls",
      "model_module_version": "1.5.0",
      "model_name": "DescriptionStyleModel",
      "state": {
       "description_width": ""
      }
     },
     "ace155cd2fba4a1aaadb31829aea8e1f": {
      "model_module": "@jupyter-widgets/controls",
      "model_module_version": "1.5.0",
      "model_name": "HBoxModel",
      "state": {
       "children": [
        "IPY_MODEL_4a9fe14d190d466abd7b7eef9a0f0acf"
       ],
       "layout": "IPY_MODEL_439c609b37284405af4bbb18d1bf3ede"
      }
     },
     "acf096f566e34a109c0676914d70b98c": {
      "model_module": "@jupyter-widgets/base",
      "model_module_version": "1.2.0",
      "model_name": "LayoutModel",
      "state": {}
     },
     "acf158c8d4b84b38bef2aa6d326f9c97": {
      "model_module": "@jupyter-widgets/controls",
      "model_module_version": "1.5.0",
      "model_name": "CheckboxModel",
      "state": {
       "description": "Zu einem Wort werden alle Synonyme gefunden.",
       "disabled": false,
       "layout": "IPY_MODEL_2353b8d099ea4e7aa70b257408023f49",
       "style": "IPY_MODEL_2a41f8464d274879b3cc721d5fcf5041",
       "value": false
      }
     },
     "adb70fab30b54ff08567ccb0c6354675": {
      "model_module": "@jupyter-widgets/controls",
      "model_module_version": "1.5.0",
      "model_name": "DescriptionStyleModel",
      "state": {
       "description_width": ""
      }
     },
     "adb7667568ae4e96af54a5a473beb1a0": {
      "model_module": "@jupyter-widgets/controls",
      "model_module_version": "1.5.0",
      "model_name": "HBoxModel",
      "state": {
       "children": [
        "IPY_MODEL_96cadcbf75694443bb16e7e95c6e9b44",
        "IPY_MODEL_a857d3ff1211429cbf4b411b40da6d33"
       ],
       "layout": "IPY_MODEL_41e6946b6b0b48adaac969f2f6c72724"
      }
     },
     "add334e82f004fe4805765af626d45c9": {
      "model_module": "@jupyter-widgets/controls",
      "model_module_version": "1.5.0",
      "model_name": "ButtonStyleModel",
      "state": {
       "button_color": "lightgreen"
      }
     },
     "ae0e60e62ef1485b95d22f9960dd75c1": {
      "model_module": "@jupyter-widgets/controls",
      "model_module_version": "1.5.0",
      "model_name": "DescriptionStyleModel",
      "state": {
       "description_width": ""
      }
     },
     "ae298d54528347e5b426674e997c4033": {
      "model_module": "@jupyter-widgets/controls",
      "model_module_version": "1.5.0",
      "model_name": "ButtonModel",
      "state": {
       "description": "gerund",
       "layout": "IPY_MODEL_af99e6b8b3934a4493051f4056c3e9b0",
       "style": "IPY_MODEL_6f56e8ff5f2e4c18b3e2646c8db8632c"
      }
     },
     "ae35f1f86b0e419cac688f21aaec9cdf": {
      "model_module": "@jupyter-widgets/controls",
      "model_module_version": "1.5.0",
      "model_name": "CheckboxModel",
      "state": {
       "description": "Mit einem Schritt beginnt eine Reise von tausend Meilen auch nur.",
       "disabled": false,
       "layout": "IPY_MODEL_b120963d388f4a77af3d627ad85afa26",
       "style": "IPY_MODEL_210cbb9aefc344d89035bbe749f73846",
       "value": false
      }
     },
     "ae37eb1d29a948db8f1aceff4b2523c9": {
      "model_module": "@jupyter-widgets/controls",
      "model_module_version": "1.5.0",
      "model_name": "ButtonStyleModel",
      "state": {}
     },
     "ae428bdd0e8940678224575d31489fc8": {
      "model_module": "@jupyter-widgets/controls",
      "model_module_version": "1.5.0",
      "model_name": "DescriptionStyleModel",
      "state": {
       "description_width": ""
      }
     },
     "ae77f4fabbfe40148bf603c57b6ee595": {
      "model_module": "@jupyter-widgets/controls",
      "model_module_version": "1.5.0",
      "model_name": "ButtonModel",
      "state": {
       "description": "simple past",
       "layout": "IPY_MODEL_9509cc21adb1411896c4790cc032d446",
       "style": "IPY_MODEL_8fef429f33a64fab871724f2c24166ec"
      }
     },
     "ae98c3fc090f4da18cdd29930803ec97": {
      "model_module": "@jupyter-widgets/controls",
      "model_module_version": "1.5.0",
      "model_name": "DescriptionStyleModel",
      "state": {
       "description_width": "initial"
      }
     },
     "aea4014b52f94475909a1e2cf35bf716": {
      "model_module": "@jupyter-widgets/base",
      "model_module_version": "1.2.0",
      "model_name": "LayoutModel",
      "state": {}
     },
     "aef1f1db206b4c0ea1349ec2396ea657": {
      "model_module": "@jupyter-widgets/base",
      "model_module_version": "1.2.0",
      "model_name": "LayoutModel",
      "state": {
       "justify_content": "center"
      }
     },
     "af3ae9869a1e457ba98939ca725d9aba": {
      "model_module": "@jupyter-widgets/controls",
      "model_module_version": "1.5.0",
      "model_name": "HTMLModel",
      "state": {
       "layout": "IPY_MODEL_e44cc7fa996146ffa4459c4109765da7",
       "style": "IPY_MODEL_684770945e8c4d15bcede9d15c7d30ac",
       "value": "<h4 style=\"font-size:14px;\">Welche Eigenschaften hat <i>gerne</i> in Satz 1?</h4>"
      }
     },
     "af3ce39e9cad4430a36259e9051ffbb4": {
      "model_module": "@jupyter-widgets/controls",
      "model_module_version": "1.5.0",
      "model_name": "ButtonStyleModel",
      "state": {}
     },
     "af5eca17ce954e52912d34515d1fc1c4": {
      "model_module": "@jupyter-widgets/base",
      "model_module_version": "1.2.0",
      "model_name": "LayoutModel",
      "state": {}
     },
     "af99e6b8b3934a4493051f4056c3e9b0": {
      "model_module": "@jupyter-widgets/base",
      "model_module_version": "1.2.0",
      "model_name": "LayoutModel",
      "state": {
       "width": "250px"
      }
     },
     "af9a2b10ae6741c59dddd7aad902487e": {
      "model_module": "@jupyter-widgets/base",
      "model_module_version": "1.2.0",
      "model_name": "LayoutModel",
      "state": {}
     },
     "afdaebe3e3a94b7d8207c6ba553a7fd5": {
      "model_module": "@jupyter-widgets/controls",
      "model_module_version": "1.5.0",
      "model_name": "DescriptionStyleModel",
      "state": {
       "description_width": ""
      }
     },
     "b01bf9ffd1664abd96ac45c79fb50ba5": {
      "model_module": "@jupyter-widgets/controls",
      "model_module_version": "1.5.0",
      "model_name": "CheckboxModel",
      "state": {
       "description": "Eliminierungstest",
       "disabled": false,
       "layout": "IPY_MODEL_efe2b8986b1e496ea2fe43e81ef77b83",
       "style": "IPY_MODEL_543936f109364aee9470d7088362383f",
       "value": false
      }
     },
     "b030a7c927514f159ad47cdae9a275f0": {
      "model_module": "@jupyter-widgets/controls",
      "model_module_version": "1.5.0",
      "model_name": "DescriptionStyleModel",
      "state": {
       "description_width": ""
      }
     },
     "b055986284934701866e199e723e34d6": {
      "model_module": "@jupyter-widgets/base",
      "model_module_version": "1.2.0",
      "model_name": "LayoutModel",
      "state": {}
     },
     "b06fd71e182f4d9291bc91624f4b639c": {
      "model_module": "@jupyter-widgets/controls",
      "model_module_version": "1.5.0",
      "model_name": "DescriptionStyleModel",
      "state": {
       "description_width": ""
      }
     },
     "b09ea526abfd4b388ff8be9c6ea5c510": {
      "model_module": "@jupyter-widgets/controls",
      "model_module_version": "1.5.0",
      "model_name": "CheckboxModel",
      "state": {
       "description": "Es ist flektierbar.",
       "disabled": false,
       "layout": "IPY_MODEL_9518c9c6fcf14b5fa48dd36efb6900d9",
       "style": "IPY_MODEL_f774f600bc7d4685b7ece68ec10ca9cc",
       "value": false
      }
     },
     "b0ceaab5f86b4746b3a8fa0ab6428f67": {
      "model_module": "@jupyter-widgets/controls",
      "model_module_version": "1.5.0",
      "model_name": "HTMLModel",
      "state": {
       "layout": "IPY_MODEL_cdb2c311b2ae44cab3e2ccaff1ec9e60",
       "style": "IPY_MODEL_ecf6da45db9844e287ba06c302bafee2",
       "value": "<i>Wählen Sie die <ins>eine</ins> korrekte Antwort aus: </i>"
      }
     },
     "b0edfa7060f143b6a8130edc87ab1d7e": {
      "model_module": "@jupyter-widgets/controls",
      "model_module_version": "1.5.0",
      "model_name": "ButtonStyleModel",
      "state": {}
     },
     "b108d84e4f1840b7822b865ccfdb27ce": {
      "model_module": "@jupyter-widgets/controls",
      "model_module_version": "1.5.0",
      "model_name": "HTMLModel",
      "state": {
       "layout": "IPY_MODEL_2580820fc8d4423fbe3cf921bec4f4cb",
       "style": "IPY_MODEL_e1110c590258429d81580508f0791043",
       "value": "<i>Wählen Sie die <ins>eine</ins> korrekte Antwort aus: </i>"
      }
     },
     "b11559c8115a4609a8a7c68496e5c8e9": {
      "model_module": "@jupyter-widgets/base",
      "model_module_version": "1.2.0",
      "model_name": "LayoutModel",
      "state": {}
     },
     "b120963d388f4a77af3d627ad85afa26": {
      "model_module": "@jupyter-widgets/base",
      "model_module_version": "1.2.0",
      "model_name": "LayoutModel",
      "state": {
       "width": "600px"
      }
     },
     "b16292bd5d8243e09806268422862946": {
      "model_module": "@jupyter-widgets/controls",
      "model_module_version": "1.5.0",
      "model_name": "HTMLModel",
      "state": {
       "layout": "IPY_MODEL_5160bdf2728a43a7b0a00e69fbb3fc90",
       "style": "IPY_MODEL_069ea67351534984b73e4e7685ef74b1",
       "value": "<h4 style=\"font-size:14px;\">umfasst die</h4>"
      }
     },
     "b19ae9aaa8ed42ec8ce32978dab4e200": {
      "model_module": "@jupyter-widgets/controls",
      "model_module_version": "1.5.0",
      "model_name": "ButtonStyleModel",
      "state": {}
     },
     "b1d68a42e0c5450c81d858062c8de7d1": {
      "model_module": "@jupyter-widgets/base",
      "model_module_version": "1.2.0",
      "model_name": "LayoutModel",
      "state": {
       "width": "150px"
      }
     },
     "b1e965ab70ff4aca9680d698996e506a": {
      "model_module": "@jupyter-widgets/controls",
      "model_module_version": "1.5.0",
      "model_name": "ButtonStyleModel",
      "state": {}
     },
     "b20d6a42a95941c98400684478a5393c": {
      "model_module": "@jupyter-widgets/base",
      "model_module_version": "1.2.0",
      "model_name": "LayoutModel",
      "state": {
       "width": "250px"
      }
     },
     "b25232ef58274484913b24737573f026": {
      "model_module": "@jupyter-widgets/base",
      "model_module_version": "1.2.0",
      "model_name": "LayoutModel",
      "state": {}
     },
     "b269df26f3004387bb314510110e5449": {
      "model_module": "@jupyter-widgets/controls",
      "model_module_version": "1.5.0",
      "model_name": "HBoxModel",
      "state": {
       "children": [
        "IPY_MODEL_a76737c3184548a48a846dfbc7390783"
       ],
       "layout": "IPY_MODEL_93f0334c44f146a4904ca0f33b3dfdf7"
      }
     },
     "b2707439157040fe8ef905a78a4230db": {
      "model_module": "@jupyter-widgets/controls",
      "model_module_version": "1.5.0",
      "model_name": "HTMLModel",
      "state": {
       "layout": "IPY_MODEL_e191084294b543b8a59bb5fb338ef686",
       "style": "IPY_MODEL_02418227a6ab4199b03492b9f5dd1c7a",
       "value": "<i>Markieren Sie <ins>alle</ins> passenden Antworten: </i>"
      }
     },
     "b28f46c995764680b1fe1dd180f097c5": {
      "model_module": "@jupyter-widgets/controls",
      "model_module_version": "1.5.0",
      "model_name": "VBoxModel",
      "state": {
       "children": [
        "IPY_MODEL_e6f9e709fd9c49fd815e6deeca3c091f",
        "IPY_MODEL_01f8d56a6bc449be89a12becb505a25c",
        "IPY_MODEL_2bc80191397b4fd7a44a74fcc65ae1a9",
        "IPY_MODEL_e7277d34e0874c6fbeba1f0fa4693899",
        "IPY_MODEL_ba0a802a7bec4c5b8cacc2c4842c5f4c"
       ],
       "layout": "IPY_MODEL_2fbe35fd785648439df341b12469ed53"
      }
     },
     "b2c5a1ac1f16493082092c59f948c96d": {
      "model_module": "@jupyter-widgets/controls",
      "model_module_version": "1.5.0",
      "model_name": "TextareaModel",
      "state": {
       "layout": "IPY_MODEL_a955f32648ec4cafb3025c48507b8886",
       "placeholder": "Type something",
       "style": "IPY_MODEL_2feff843e4684ab9b33d0e55246cfa89",
       "value": "nltk.____()"
      }
     },
     "b2cc3620b390473dbb7cb900566d3f40": {
      "model_module": "@jupyter-widgets/controls",
      "model_module_version": "1.5.0",
      "model_name": "VBoxModel",
      "state": {
       "children": [
        "IPY_MODEL_d15556369e3440188a9de0e948bb2f94",
        "IPY_MODEL_e15ba6107573436084be25b275c83513",
        "IPY_MODEL_f60c41ad3d9642a59a9ea042b5c82a6b",
        "IPY_MODEL_2f345f665ae24a8494ed01aa490d9d95",
        "IPY_MODEL_b269df26f3004387bb314510110e5449"
       ],
       "layout": "IPY_MODEL_8861810caa3c4d5cbd020c071950862b"
      }
     },
     "b2d9b9e7f2f04d7f980f7264a7741d88": {
      "model_module": "@jupyter-widgets/controls",
      "model_module_version": "1.5.0",
      "model_name": "ButtonModel",
      "state": {
       "description": "Korrekt?",
       "layout": "IPY_MODEL_c73fe3d9054d4418a3c1b900c9aed735",
       "style": "IPY_MODEL_ba90648f4b4d4581b0e830be816d7294"
      }
     },
     "b30ae857384840b586ca096f290b8c72": {
      "model_module": "@jupyter-widgets/controls",
      "model_module_version": "1.5.0",
      "model_name": "VBoxModel",
      "state": {
       "children": [
        "IPY_MODEL_c4dce9ce82a64364a7b24032a2a2114a",
        "IPY_MODEL_79237856288e4a4eb0182330c5a7af9a",
        "IPY_MODEL_df0d40f06edd40ff99ad24d917bfbdca",
        "IPY_MODEL_621c6a0ec1194fff8fe91ee387d0a872"
       ],
       "layout": "IPY_MODEL_fa052dc48a7e4ea396b0aef940090b6b"
      }
     },
     "b33674554e0946b1b737cc88fcf0150e": {
      "model_module": "@jupyter-widgets/base",
      "model_module_version": "1.2.0",
      "model_name": "LayoutModel",
      "state": {
       "width": "250px"
      }
     },
     "b34e729b3783425c8880c4c515878e16": {
      "model_module": "@jupyter-widgets/base",
      "model_module_version": "1.2.0",
      "model_name": "LayoutModel",
      "state": {}
     },
     "b363e3f6c76c419b902f670650c1b1a7": {
      "model_module": "@jupyter-widgets/controls",
      "model_module_version": "1.5.0",
      "model_name": "ButtonModel",
      "state": {
       "description": "simple past",
       "layout": "IPY_MODEL_3eb63d9e230342f688e3c255daeb9b85",
       "style": "IPY_MODEL_af3ce39e9cad4430a36259e9051ffbb4"
      }
     },
     "b3945c56a2bc4c819d5471bb9ca18be2": {
      "model_module": "@jupyter-widgets/controls",
      "model_module_version": "1.5.0",
      "model_name": "ButtonStyleModel",
      "state": {}
     },
     "b396fcbbe55b464fa78b0794491704da": {
      "model_module": "@jupyter-widgets/base",
      "model_module_version": "1.2.0",
      "model_name": "LayoutModel",
      "state": {
       "width": "150px"
      }
     },
     "b3caf0e1f4874177af25b9ffab960d94": {
      "model_module": "@jupyter-widgets/base",
      "model_module_version": "1.2.0",
      "model_name": "LayoutModel",
      "state": {
       "width": "250px"
      }
     },
     "b3e77465379a4aea9b2c0dc0009ac3fd": {
      "model_module": "@jupyter-widgets/controls",
      "model_module_version": "1.5.0",
      "model_name": "CheckboxModel",
      "state": {
       "description": "Nur mit einem Schritt beginnt auch eine Reise von tausend Meilen.",
       "disabled": false,
       "layout": "IPY_MODEL_22ac093da5864cc9b9a5a52dc66c911f",
       "style": "IPY_MODEL_6a1c2cc68cfb42ad96bbb0eab0566964",
       "value": true
      }
     },
     "b40e2f81d9d0461a9c686e18d1eaffc7": {
      "model_module": "@jupyter-widgets/base",
      "model_module_version": "1.2.0",
      "model_name": "LayoutModel",
      "state": {
       "justify_content": "center"
      }
     },
     "b41567af6fb24ea09a50c3261dbd445b": {
      "model_module": "@jupyter-widgets/base",
      "model_module_version": "1.2.0",
      "model_name": "LayoutModel",
      "state": {}
     },
     "b4330fca036c4d4eb046497c4822aa7b": {
      "model_module": "@jupyter-widgets/controls",
      "model_module_version": "1.5.0",
      "model_name": "DescriptionStyleModel",
      "state": {
       "description_width": ""
      }
     },
     "b47ccbc8b871444bbdf358776fa10d2d": {
      "model_module": "@jupyter-widgets/base",
      "model_module_version": "1.2.0",
      "model_name": "LayoutModel",
      "state": {
       "width": "250px"
      }
     },
     "b486ff9d1da248908e6eae0a0668b109": {
      "model_module": "@jupyter-widgets/controls",
      "model_module_version": "1.5.0",
      "model_name": "HTMLModel",
      "state": {
       "layout": "IPY_MODEL_eabd6db36c784e8890627387dd877eb7",
       "style": "IPY_MODEL_a9959a0ecc7e4a2c9bac3a965bbc5176",
       "value": "<h4 style=\"font-size:14px;\">Welche Eigenschaften hat <i>gut</i> in Satz 2?</h4>"
      }
     },
     "b4c02c50819f4d5caab196f60b6ee8a9": {
      "model_module": "@jupyter-widgets/controls",
      "model_module_version": "1.5.0",
      "model_name": "CheckboxModel",
      "state": {
       "description": "Es ist flektierbar.",
       "disabled": false,
       "layout": "IPY_MODEL_7688b2049cfc4f4eb066e800cef26880",
       "style": "IPY_MODEL_59d51a6dbf55467bb73365f9a6378a0c",
       "value": false
      }
     },
     "b4dcc6165887430b8989feb637315857": {
      "model_module": "@jupyter-widgets/controls",
      "model_module_version": "1.5.0",
      "model_name": "VBoxModel",
      "state": {
       "children": [
        "IPY_MODEL_c8c3d28f22d947a7a6d5057278a029c5",
        "IPY_MODEL_df2dd704d8f540828147f50216433f75",
        "IPY_MODEL_a687a4c4afd34554b6affdb295d856de",
        "IPY_MODEL_224f9f0c706d470fb9f441c2b4adfcad"
       ],
       "layout": "IPY_MODEL_78cadc21a68f4085af572ba2ac8bf5fa"
      }
     },
     "b521f16b5dec432189e2270de4ba2e9f": {
      "model_module": "@jupyter-widgets/base",
      "model_module_version": "1.2.0",
      "model_name": "LayoutModel",
      "state": {
       "width": "600px"
      }
     },
     "b53a618556f94bedab98ecbaa6185e99": {
      "model_module": "@jupyter-widgets/base",
      "model_module_version": "1.2.0",
      "model_name": "LayoutModel",
      "state": {}
     },
     "b56e56db10c34753a5a6cd275d7b7b75": {
      "model_module": "@jupyter-widgets/controls",
      "model_module_version": "1.5.0",
      "model_name": "ButtonModel",
      "state": {
       "description": "3rd singular present",
       "layout": "IPY_MODEL_1a4d245397e045d1ac45dd1bb426a892",
       "style": "IPY_MODEL_19b7e45cd8304dd8b4d2b5d5b3781c97"
      }
     },
     "b5c1d5545a814003b6b7b1898b33515f": {
      "model_module": "@jupyter-widgets/base",
      "model_module_version": "1.2.0",
      "model_name": "LayoutModel",
      "state": {
       "width": "150px"
      }
     },
     "b5d1944149b448fcb9fd1305f7dbbae5": {
      "model_module": "@jupyter-widgets/base",
      "model_module_version": "1.2.0",
      "model_name": "LayoutModel",
      "state": {
       "justify_content": "center"
      }
     },
     "b5f0e840a6204b34b3166bf2e1f21738": {
      "model_module": "@jupyter-widgets/base",
      "model_module_version": "1.2.0",
      "model_name": "LayoutModel",
      "state": {
       "justify_content": "center"
      }
     },
     "b5fcc3ace2b14bfd8949b1ab090a56ff": {
      "model_module": "@jupyter-widgets/base",
      "model_module_version": "1.2.0",
      "model_name": "LayoutModel",
      "state": {
       "width": "600px"
      }
     },
     "b609048822d74bdda8444d4bdc2c1417": {
      "model_module": "@jupyter-widgets/base",
      "model_module_version": "1.2.0",
      "model_name": "LayoutModel",
      "state": {}
     },
     "b6a814c5c4fc478683426c9d0c50f609": {
      "model_module": "@jupyter-widgets/base",
      "model_module_version": "1.2.0",
      "model_name": "LayoutModel",
      "state": {
       "justify_content": "center"
      }
     },
     "b6aa44b47c8747b995e87ca31fa3c3b3": {
      "model_module": "@jupyter-widgets/base",
      "model_module_version": "1.2.0",
      "model_name": "LayoutModel",
      "state": {
       "width": "600px"
      }
     },
     "b6c9f87f5b7046269c96b0e9c5bf9310": {
      "model_module": "@jupyter-widgets/base",
      "model_module_version": "1.2.0",
      "model_name": "LayoutModel",
      "state": {}
     },
     "b6d2be1a533748b0ab90a6d1179bfa5f": {
      "model_module": "@jupyter-widgets/base",
      "model_module_version": "1.2.0",
      "model_name": "LayoutModel",
      "state": {}
     },
     "b7788f37b7c54abe97ade688895438f0": {
      "model_module": "@jupyter-widgets/controls",
      "model_module_version": "1.5.0",
      "model_name": "CheckboxModel",
      "state": {
       "description": "Es bezeichnet die näheren Umstände des im Verb ausgedrückten Geschehens.",
       "disabled": false,
       "layout": "IPY_MODEL_6e2797b321bd4aca805c55f8d65c180d",
       "style": "IPY_MODEL_e092278fb7694960a2c92957bf027376",
       "value": true
      }
     },
     "b784cfe47f824c51a9e2ba5d248b81da": {
      "model_module": "@jupyter-widgets/base",
      "model_module_version": "1.2.0",
      "model_name": "LayoutModel",
      "state": {}
     },
     "b789cf4050504abdb20a04caac57f5e2": {
      "model_module": "@jupyter-widgets/controls",
      "model_module_version": "1.5.0",
      "model_name": "DescriptionStyleModel",
      "state": {
       "description_width": ""
      }
     },
     "b7a906c37771405a863ce91880018e25": {
      "model_module": "@jupyter-widgets/controls",
      "model_module_version": "1.5.0",
      "model_name": "HTMLModel",
      "state": {
       "layout": "IPY_MODEL_f0144c5560014772bc6d93a00814289d",
       "style": "IPY_MODEL_3eac4fede4574455ad5aba07b44ac52b",
       "value": "<i>Wählen Sie die <ins>eine</ins> korrekte Antwort aus: </i>"
      }
     },
     "b7bec0d48a864d77a4233bff9cec5020": {
      "model_module": "@jupyter-widgets/base",
      "model_module_version": "1.2.0",
      "model_name": "LayoutModel",
      "state": {
       "width": "600px"
      }
     },
     "b7edd2668b5349379c3a22638dc2bcd1": {
      "model_module": "@jupyter-widgets/controls",
      "model_module_version": "1.5.0",
      "model_name": "HTMLModel",
      "state": {
       "layout": "IPY_MODEL_411f47a5732f4b9ea81cde8578e0a961",
       "style": "IPY_MODEL_52306f6df45c4199999b72011e6819b3",
       "value": "<h4 style=\"font-size:14px;\">Was ist der Output eines Part-of-Speech-Taggers?</h4>"
      }
     },
     "b7ef92c5eb6c4bdcbbf7755d16252583": {
      "model_module": "@jupyter-widgets/base",
      "model_module_version": "1.2.0",
      "model_name": "LayoutModel",
      "state": {}
     },
     "b800928bd65f4366a3c388f890646f5b": {
      "model_module": "@jupyter-widgets/base",
      "model_module_version": "1.2.0",
      "model_name": "LayoutModel",
      "state": {
       "width": "150px"
      }
     },
     "b808fd00a3bb460a91786fb15055a688": {
      "model_module": "@jupyter-widgets/controls",
      "model_module_version": "1.5.0",
      "model_name": "ButtonStyleModel",
      "state": {}
     },
     "b813d8c06526461b9929fe20a08f9c88": {
      "model_module": "@jupyter-widgets/controls",
      "model_module_version": "1.5.0",
      "model_name": "DescriptionStyleModel",
      "state": {
       "description_width": ""
      }
     },
     "b8328fdcaa384bd7a89e6ec5d55835ca": {
      "model_module": "@jupyter-widgets/base",
      "model_module_version": "1.2.0",
      "model_name": "LayoutModel",
      "state": {
       "width": "150px"
      }
     },
     "b836a1de88244e04af2a40c70a934956": {
      "model_module": "@jupyter-widgets/controls",
      "model_module_version": "1.5.0",
      "model_name": "HTMLModel",
      "state": {
       "layout": "IPY_MODEL_56d0d989f2174da6b94ff3e558ad4f7b",
       "style": "IPY_MODEL_3e81ac108081489daf61d5c01b407480",
       "value": "<i>Markieren Sie <ins>alle</ins> passenden Antworten: </i>"
      }
     },
     "b852fcdae06840ac81ab730bbd303279": {
      "model_module": "@jupyter-widgets/controls",
      "model_module_version": "1.5.0",
      "model_name": "VBoxModel",
      "state": {
       "children": [
        "IPY_MODEL_5943e9a420f04e24ad2b7b9628bb0815",
        "IPY_MODEL_3eb11065e09541f9bf2f8b848b293616",
        "IPY_MODEL_783156746d014d34815ff9bc61df40eb"
       ],
       "layout": "IPY_MODEL_24109130fe1d4d24aa2a6d63c6b852da"
      }
     },
     "b87d8fd4f8aa4b8db6544c05820431a9": {
      "model_module": "@jupyter-widgets/controls",
      "model_module_version": "1.5.0",
      "model_name": "DescriptionStyleModel",
      "state": {
       "description_width": "initial"
      }
     },
     "b894d3887b8e4a1d899ae743d33a9c49": {
      "model_module": "@jupyter-widgets/controls",
      "model_module_version": "1.5.0",
      "model_name": "DescriptionStyleModel",
      "state": {
       "description_width": ""
      }
     },
     "b8b587f3b18f4f8eaccab9b65f572c66": {
      "model_module": "@jupyter-widgets/controls",
      "model_module_version": "1.5.0",
      "model_name": "ButtonStyleModel",
      "state": {}
     },
     "b8bd26d65b8449e79d5f75aea2e74bee": {
      "model_module": "@jupyter-widgets/base",
      "model_module_version": "1.2.0",
      "model_name": "LayoutModel",
      "state": {}
     },
     "b900376959c5463a80ec8cc43f813a4e": {
      "model_module": "@jupyter-widgets/controls",
      "model_module_version": "1.5.0",
      "model_name": "ButtonModel",
      "state": {
       "description": "past participle",
       "layout": "IPY_MODEL_3457c086bb2540d88e9d4cf66085b83e",
       "style": "IPY_MODEL_ce302dfa30b24c3b9bae51e69f780864"
      }
     },
     "b90d44ce659e41439ec3acdef182bd69": {
      "model_module": "@jupyter-widgets/controls",
      "model_module_version": "1.5.0",
      "model_name": "ButtonStyleModel",
      "state": {}
     },
     "b91db8baf2414b699d6cb7d72f81883f": {
      "model_module": "@jupyter-widgets/controls",
      "model_module_version": "1.5.0",
      "model_name": "DescriptionStyleModel",
      "state": {
       "description_width": ""
      }
     },
     "b930b23e3ce04be8ba704d5576f8199a": {
      "model_module": "@jupyter-widgets/controls",
      "model_module_version": "1.5.0",
      "model_name": "ButtonModel",
      "state": {
       "description": "Adjektiv",
       "layout": "IPY_MODEL_11e6a4c9b9014a8da7dc22a9e56b330d",
       "style": "IPY_MODEL_0c62c1b4ffe447c99c0de09fa89add04"
      }
     },
     "b941bcfbcd204bed92f8ccd72664788d": {
      "model_module": "@jupyter-widgets/base",
      "model_module_version": "1.2.0",
      "model_name": "LayoutModel",
      "state": {
       "justify_content": "center"
      }
     },
     "b96bf0b15b1d43c29391a7437955331a": {
      "model_module": "@jupyter-widgets/controls",
      "model_module_version": "1.5.0",
      "model_name": "HTMLModel",
      "state": {
       "layout": "IPY_MODEL_0a07d2393fe74bde831a678228481ab4",
       "style": "IPY_MODEL_5868210d80a34064bd75572114a24a26",
       "value": "<i>Wählen Sie die <ins>eine</ins> korrekte Antwort aus: </i>"
      }
     },
     "ba04275ce896406c8a5760d5a1e3d356": {
      "model_module": "@jupyter-widgets/base",
      "model_module_version": "1.2.0",
      "model_name": "LayoutModel",
      "state": {
       "width": "250px"
      }
     },
     "ba0a802a7bec4c5b8cacc2c4842c5f4c": {
      "model_module": "@jupyter-widgets/controls",
      "model_module_version": "1.5.0",
      "model_name": "HBoxModel",
      "state": {
       "children": [
        "IPY_MODEL_9f293fafc7504fa49267e64017955ef9"
       ],
       "layout": "IPY_MODEL_455946b56c33464ba2c4dfd133b2307d"
      }
     },
     "ba4e5eaa4f7b48f9875a55ce22afbef3": {
      "model_module": "@jupyter-widgets/controls",
      "model_module_version": "1.5.0",
      "model_name": "HTMLModel",
      "state": {
       "layout": "IPY_MODEL_f6daca27d0384149b9066a71df8ea843",
       "style": "IPY_MODEL_e26fd55e75b446bf830beded99ba9055",
       "value": "<i>Markieren Sie <ins>alle</ins> passenden Antworten: </i>"
      }
     },
     "ba762deab358469986a14f73b413ca11": {
      "model_module": "@jupyter-widgets/controls",
      "model_module_version": "1.5.0",
      "model_name": "DescriptionStyleModel",
      "state": {
       "description_width": ""
      }
     },
     "ba90648f4b4d4581b0e830be816d7294": {
      "model_module": "@jupyter-widgets/controls",
      "model_module_version": "1.5.0",
      "model_name": "ButtonStyleModel",
      "state": {}
     },
     "bad0847852b04342b72690a3f607b79b": {
      "model_module": "@jupyter-widgets/controls",
      "model_module_version": "1.5.0",
      "model_name": "DescriptionStyleModel",
      "state": {
       "description_width": "initial"
      }
     },
     "bb1099d42e05423ba25147e33364621f": {
      "model_module": "@jupyter-widgets/base",
      "model_module_version": "1.2.0",
      "model_name": "LayoutModel",
      "state": {}
     },
     "bb28ea3ce07742f3bff1b7c7e41f36f7": {
      "model_module": "@jupyter-widgets/base",
      "model_module_version": "1.2.0",
      "model_name": "LayoutModel",
      "state": {}
     },
     "bb2f63cf011649b1867fc455c1ba3060": {
      "model_module": "@jupyter-widgets/controls",
      "model_module_version": "1.5.0",
      "model_name": "DescriptionStyleModel",
      "state": {
       "description_width": ""
      }
     },
     "bb379464499348d6b700864abcb0d5cb": {
      "model_module": "@jupyter-widgets/controls",
      "model_module_version": "1.5.0",
      "model_name": "HTMLModel",
      "state": {
       "layout": "IPY_MODEL_8b97ef460a094b588ca49d0138167038",
       "style": "IPY_MODEL_0a15c6f8585544a38e1fe02d705622c8",
       "value": "<h4 style=\"font-size:14px;\">Was ist der Input eines Part-of-Speech-Taggers?</h4>"
      }
     },
     "bb3927ab44344fe9b520ee64580ebffa": {
      "model_module": "@jupyter-widgets/controls",
      "model_module_version": "1.5.0",
      "model_name": "DescriptionStyleModel",
      "state": {
       "description_width": ""
      }
     },
     "bb3d1bb34978451b88987d6d89f8f06b": {
      "model_module": "@jupyter-widgets/base",
      "model_module_version": "1.2.0",
      "model_name": "LayoutModel",
      "state": {
       "justify_content": "center"
      }
     },
     "bb4027a69d16450185d1bae3c01fa891": {
      "model_module": "@jupyter-widgets/controls",
      "model_module_version": "1.5.0",
      "model_name": "DropdownModel",
      "state": {
       "_options_labels": [
        "Konstituenten",
        "Phrasen",
        " "
       ],
       "index": 0,
       "layout": "IPY_MODEL_b1d68a42e0c5450c81d858062c8de7d1",
       "style": "IPY_MODEL_65760ae539c9452d96b29597f86d80a4"
      }
     },
     "bb4eb980bf0f45dba8852247d77cbf20": {
      "model_module": "@jupyter-widgets/controls",
      "model_module_version": "1.5.0",
      "model_name": "CheckboxModel",
      "state": {
       "description": "Substitutionstest",
       "disabled": false,
       "layout": "IPY_MODEL_cfe471bf68874e41a85432cf1db18ae5",
       "style": "IPY_MODEL_c1bc18f26ba5423ca2a04a46be1dc16a",
       "value": false
      }
     },
     "bb9fed6d7422495b86c1720d5b8d4c83": {
      "model_module": "@jupyter-widgets/base",
      "model_module_version": "1.2.0",
      "model_name": "LayoutModel",
      "state": {
       "width": "250px"
      }
     },
     "bba8167dc27d4c1b93a958e86d0f579c": {
      "model_module": "@jupyter-widgets/controls",
      "model_module_version": "1.5.0",
      "model_name": "CheckboxModel",
      "state": {
       "description": "gleicher Kontext",
       "disabled": false,
       "layout": "IPY_MODEL_95a080d277e44d358ddb968e8b15d432",
       "style": "IPY_MODEL_e12c526ad8544eafa81668832fcfc8f8",
       "value": true
      }
     },
     "bbc49438f8634750ba5ebb0039327899": {
      "model_module": "@jupyter-widgets/base",
      "model_module_version": "1.2.0",
      "model_name": "LayoutModel",
      "state": {
       "width": "250px"
      }
     },
     "bbcbaaa67c994556ae392089944efeed": {
      "model_module": "@jupyter-widgets/base",
      "model_module_version": "1.2.0",
      "model_name": "LayoutModel",
      "state": {}
     },
     "bc0cf100874b474ca18ec8ae44864e81": {
      "model_module": "@jupyter-widgets/controls",
      "model_module_version": "1.5.0",
      "model_name": "DescriptionStyleModel",
      "state": {
       "description_width": ""
      }
     },
     "bc19b49605a44a2db2a59b699b36810c": {
      "model_module": "@jupyter-widgets/controls",
      "model_module_version": "1.5.0",
      "model_name": "ButtonModel",
      "state": {
       "description": "gerund",
       "layout": "IPY_MODEL_fd1a050a49164b03b26b80e24b60f813",
       "style": "IPY_MODEL_c16f75f0403742df8b73651d4fdb3b89"
      }
     },
     "bc2c782eb16e4f74b309f8a4f6e45a1d": {
      "model_module": "@jupyter-widgets/controls",
      "model_module_version": "1.5.0",
      "model_name": "ButtonModel",
      "state": {
       "description": "Lösung zeigen",
       "layout": "IPY_MODEL_e6f08147a58d438caf60ea86c0c381ca",
       "style": "IPY_MODEL_ae37eb1d29a948db8f1aceff4b2523c9"
      }
     },
     "bc4fb2236c7546339f6bb32d3cf9ec17": {
      "model_module": "@jupyter-widgets/controls",
      "model_module_version": "1.5.0",
      "model_name": "ButtonModel",
      "state": {
       "description": "simple past",
       "layout": "IPY_MODEL_29717ad8e6c94c268a60f8012894fa31",
       "style": "IPY_MODEL_42a8f8eff1cb43df963ca454d8a14533"
      }
     },
     "bc879311e81d4859a08d51344d0c41e8": {
      "model_module": "@jupyter-widgets/controls",
      "model_module_version": "1.5.0",
      "model_name": "HBoxModel",
      "state": {
       "children": [
        "IPY_MODEL_d94a215d8ac34764be7faf3621440a78"
       ],
       "layout": "IPY_MODEL_56bc136123b04a1ba7f26345df93850d"
      }
     },
     "bcb0b517952a40008a11dc8f001b563f": {
      "model_module": "@jupyter-widgets/base",
      "model_module_version": "1.2.0",
      "model_name": "LayoutModel",
      "state": {
       "width": "250px"
      }
     },
     "bcd7b8a0410a44d5887f871afbb2d4a9": {
      "model_module": "@jupyter-widgets/controls",
      "model_module_version": "1.5.0",
      "model_name": "ButtonStyleModel",
      "state": {}
     },
     "bcfae0509e9b4cecbe29b9a78b0b7e8e": {
      "model_module": "@jupyter-widgets/controls",
      "model_module_version": "1.5.0",
      "model_name": "ButtonModel",
      "state": {
       "description": "past participle",
       "layout": "IPY_MODEL_3d25e9a9f97d4d588cfc1d9ec3f1ab1a",
       "style": "IPY_MODEL_408849cee9dd4f35a32f1af8c6613983"
      }
     },
     "bd07c47c22be48aabce7458241998925": {
      "model_module": "@jupyter-widgets/controls",
      "model_module_version": "1.5.0",
      "model_name": "ButtonModel",
      "state": {
       "description": "past participle",
       "layout": "IPY_MODEL_9019d93c118946c4ba9dbbd26d0296cf",
       "style": "IPY_MODEL_07d402102be146fba2a8ff632845f7db"
      }
     },
     "bd73e4c857d844869c4e4aa7f42b554a": {
      "model_module": "@jupyter-widgets/controls",
      "model_module_version": "1.5.0",
      "model_name": "DropdownModel",
      "state": {
       "_options_labels": [
        "Konstituente",
        "Phrase",
        " "
       ],
       "index": 1,
       "layout": "IPY_MODEL_9a7eb5b8dc64492db7809ce410438941",
       "style": "IPY_MODEL_e308a47bc7454a7a8e7ff653d4d3b370"
      }
     },
     "bd762eace0544dd8ac20a83e2ccb00b8": {
      "model_module": "@jupyter-widgets/controls",
      "model_module_version": "1.5.0",
      "model_name": "HTMLModel",
      "state": {
       "layout": "IPY_MODEL_c622cf7eae364bb8b2e2c706ac000c8c",
       "style": "IPY_MODEL_3a465b087297488f8f89985643b4b8e7",
       "value": "<h4 style=\"font-size:14px;\">Was sind morphologische Kriterien für Wortkategorien?</h4>"
      }
     },
     "bd81855b64a242448f36d5d9b5ebaa2f": {
      "model_module": "@jupyter-widgets/base",
      "model_module_version": "1.2.0",
      "model_name": "LayoutModel",
      "state": {
       "width": "250px"
      }
     },
     "bdaa068d4de145728107278683178fc9": {
      "model_module": "@jupyter-widgets/controls",
      "model_module_version": "1.5.0",
      "model_name": "VBoxModel",
      "state": {
       "children": [
        "IPY_MODEL_3da7991686984d9592ff8f19b47fd6eb",
        "IPY_MODEL_82d84a72fba44c73ac18b374df35c44c",
        "IPY_MODEL_a502a2bf59654fee818a3a6de433ab6b",
        "IPY_MODEL_a5e0be4254aa4901a9f26f2a36bf588f",
        "IPY_MODEL_be9d60d3e42042198d5bba767bf6a3b9"
       ],
       "layout": "IPY_MODEL_073519c4fc5a40c2aa71175dc82db778"
      }
     },
     "be03f3e46ad449db908e456b147369ea": {
      "model_module": "@jupyter-widgets/controls",
      "model_module_version": "1.5.0",
      "model_name": "HTMLModel",
      "state": {
       "layout": "IPY_MODEL_c8f87d4bbd874c0ab7098cd4355180a7",
       "style": "IPY_MODEL_4c9348eca1074411b24adaef0775bf81",
       "value": "<i>Geben Sie die entsprechende Funktion anstelle des Unterstrichs ein.</i>"
      }
     },
     "be5dc54ade4a4784b7779131dba4ed41": {
      "model_module": "@jupyter-widgets/controls",
      "model_module_version": "1.5.0",
      "model_name": "HBoxModel",
      "state": {
       "children": [
        "IPY_MODEL_6e347b484e4047c581934293a9d3699a",
        "IPY_MODEL_eaeab54cebce4bcfbe5b0ec7ab65b124"
       ],
       "layout": "IPY_MODEL_2f578bd79bb448ec897fb7ba37ef3e16"
      }
     },
     "be7054cd986544bf841757f22b7eedb7": {
      "model_module": "@jupyter-widgets/controls",
      "model_module_version": "1.5.0",
      "model_name": "HTMLModel",
      "state": {
       "layout": "IPY_MODEL_0c32cdd60e6244429718a3b71eface42",
       "style": "IPY_MODEL_9ff36b7825ab4cd294e53c30e97c6888",
       "value": "<i>Markieren Sie <ins>alle</ins> passenden Antworten: </i>"
      }
     },
     "be7477d48956452788129b8906842a15": {
      "model_module": "@jupyter-widgets/base",
      "model_module_version": "1.2.0",
      "model_name": "LayoutModel",
      "state": {
       "width": "250px"
      }
     },
     "be843812631e4c558a60bf3bc0af8f07": {
      "model_module": "@jupyter-widgets/base",
      "model_module_version": "1.2.0",
      "model_name": "LayoutModel",
      "state": {
       "width": "600px"
      }
     },
     "be9baaed82c9455ea3d4a8b4d2ecfcfe": {
      "model_module": "@jupyter-widgets/controls",
      "model_module_version": "1.5.0",
      "model_name": "DescriptionStyleModel",
      "state": {
       "description_width": ""
      }
     },
     "be9d60d3e42042198d5bba767bf6a3b9": {
      "model_module": "@jupyter-widgets/controls",
      "model_module_version": "1.5.0",
      "model_name": "HBoxModel",
      "state": {
       "children": [
        "IPY_MODEL_b363e3f6c76c419b902f670650c1b1a7"
       ],
       "layout": "IPY_MODEL_a0ad1e19a40142ce87664472063f751a"
      }
     },
     "bed1894942a041a7b6590d0fc8d7a96c": {
      "model_module": "@jupyter-widgets/controls",
      "model_module_version": "1.5.0",
      "model_name": "DropdownModel",
      "state": {
       "_options_labels": [
        "Mittelfeld",
        "Nachfeld",
        "Vorfeld",
        " "
       ],
       "index": 2,
       "layout": "IPY_MODEL_b8328fdcaa384bd7a89e6ec5d55835ca",
       "style": "IPY_MODEL_cde2c404a4774ad19a0ebc76ef840382"
      }
     },
     "bf1642e29c9b4bcea370228afcc2558a": {
      "model_module": "@jupyter-widgets/controls",
      "model_module_version": "1.5.0",
      "model_name": "DescriptionStyleModel",
      "state": {
       "description_width": "initial"
      }
     },
     "bf21742a0e85430481445738506bfe10": {
      "model_module": "@jupyter-widgets/controls",
      "model_module_version": "1.5.0",
      "model_name": "ButtonModel",
      "state": {
       "description": "Partikel",
       "layout": "IPY_MODEL_800973409c6948b3a94c46cb103c6624",
       "style": "IPY_MODEL_6389afd7f86946ecba856d38be10c789"
      }
     },
     "bf36f49b83294fa98a7bc7fef4ad77fc": {
      "model_module": "@jupyter-widgets/base",
      "model_module_version": "1.2.0",
      "model_name": "LayoutModel",
      "state": {
       "width": "250px"
      }
     },
     "bf41839ee98447c7816a095da4285127": {
      "model_module": "@jupyter-widgets/controls",
      "model_module_version": "1.5.0",
      "model_name": "HTMLModel",
      "state": {
       "layout": "IPY_MODEL_7b256861878949dbbe16730e44c8cf40",
       "style": "IPY_MODEL_0ce209b8da95482d86f028ef1cb35bf2",
       "value": "<h4 style=\"font-size:14px;\">Welche Wortart folgt damit für das Wort <i>gut</i> in Satz 2?</h4>"
      }
     },
     "bf47e4ac6d734d36b101ce9971a8b8bc": {
      "model_module": "@jupyter-widgets/controls",
      "model_module_version": "1.5.0",
      "model_name": "DescriptionStyleModel",
      "state": {
       "description_width": ""
      }
     },
     "bf5da08e906e4221b2eecdf2e71af9fe": {
      "model_module": "@jupyter-widgets/controls",
      "model_module_version": "1.5.0",
      "model_name": "HBoxModel",
      "state": {
       "children": [
        "IPY_MODEL_5e2b2d8174f643a0aafb30143d4458db",
        "IPY_MODEL_69fa5f65c8fa4638a15fd7a2da017bd7"
       ],
       "layout": "IPY_MODEL_849a070bef714c6d8dc4aff86d9d6bdd"
      }
     },
     "bf9e8ba45533453cb19b2f2ba7e35d7d": {
      "model_module": "@jupyter-widgets/base",
      "model_module_version": "1.2.0",
      "model_name": "LayoutModel",
      "state": {
       "justify_content": "center"
      }
     },
     "bfd62955d0ef4858864db5888e68b69f": {
      "model_module": "@jupyter-widgets/controls",
      "model_module_version": "1.5.0",
      "model_name": "ButtonStyleModel",
      "state": {}
     },
     "c00f56153b294a2393ff6a958c4643ff": {
      "model_module": "@jupyter-widgets/base",
      "model_module_version": "1.2.0",
      "model_name": "LayoutModel",
      "state": {
       "width": "250px"
      }
     },
     "c012939ddd2b40348f00eb105d97cb3c": {
      "model_module": "@jupyter-widgets/base",
      "model_module_version": "1.2.0",
      "model_name": "LayoutModel",
      "state": {
       "width": "600px"
      }
     },
     "c01c50b079194126a27e06c1ab797b63": {
      "model_module": "@jupyter-widgets/base",
      "model_module_version": "1.2.0",
      "model_name": "LayoutModel",
      "state": {
       "width": "250px"
      }
     },
     "c0351501457a48efb13de42788b2477d": {
      "model_module": "@jupyter-widgets/controls",
      "model_module_version": "1.5.0",
      "model_name": "ButtonModel",
      "state": {
       "description": "Keine der anderen Möglichkeiten",
       "layout": "IPY_MODEL_b33674554e0946b1b737cc88fcf0150e",
       "style": "IPY_MODEL_1e3fc6f9b6ee4935b9477f7c4305f6d6"
      }
     },
     "c07ff420e1f14774b3ad00d52e39ac14": {
      "model_module": "@jupyter-widgets/base",
      "model_module_version": "1.2.0",
      "model_name": "LayoutModel",
      "state": {}
     },
     "c0c48267440b4847837bdbcabe284cde": {
      "model_module": "@jupyter-widgets/base",
      "model_module_version": "1.2.0",
      "model_name": "LayoutModel",
      "state": {
       "width": "150px"
      }
     },
     "c16f75f0403742df8b73651d4fdb3b89": {
      "model_module": "@jupyter-widgets/controls",
      "model_module_version": "1.5.0",
      "model_name": "ButtonStyleModel",
      "state": {}
     },
     "c1bc18f26ba5423ca2a04a46be1dc16a": {
      "model_module": "@jupyter-widgets/controls",
      "model_module_version": "1.5.0",
      "model_name": "DescriptionStyleModel",
      "state": {
       "description_width": "initial"
      }
     },
     "c1c2f236e77d4baeb9431739924a70a2": {
      "model_module": "@jupyter-widgets/controls",
      "model_module_version": "1.5.0",
      "model_name": "DescriptionStyleModel",
      "state": {
       "description_width": ""
      }
     },
     "c1d1b8469f3e4b9e84e5cb3da3455703": {
      "model_module": "@jupyter-widgets/base",
      "model_module_version": "1.2.0",
      "model_name": "LayoutModel",
      "state": {
       "width": "250px"
      }
     },
     "c1f41e0f3b8c4915bbb4c83ab1781418": {
      "model_module": "@jupyter-widgets/base",
      "model_module_version": "1.2.0",
      "model_name": "LayoutModel",
      "state": {}
     },
     "c20f548add1b443ab24b4264ff08db2c": {
      "model_module": "@jupyter-widgets/controls",
      "model_module_version": "1.5.0",
      "model_name": "HTMLModel",
      "state": {
       "layout": "IPY_MODEL_3946f6ab2d4c4bd19527decc781640c6",
       "style": "IPY_MODEL_353a95acff3c4f24b83d6e6e15508c87",
       "value": "<h4 style=\"font-size:14px;\">.</h4>"
      }
     },
     "c2799fdddcb84d11b4f4d7371acb13f3": {
      "model_module": "@jupyter-widgets/controls",
      "model_module_version": "1.5.0",
      "model_name": "CheckboxModel",
      "state": {
       "description": "Es bezeichnet die näheren Umstände des im Verb ausgedrückten Geschehens.",
       "disabled": false,
       "layout": "IPY_MODEL_d80af0fa22b44ec0b682d39f423d516b",
       "style": "IPY_MODEL_16c4cd46dc6e4a6584bd7a716d06732a",
       "value": true
      }
     },
     "c299e04a5e434294b224f4fdd76c878b": {
      "model_module": "@jupyter-widgets/controls",
      "model_module_version": "1.5.0",
      "model_name": "HTMLModel",
      "state": {
       "layout": "IPY_MODEL_4bf7dd7c461a4daf9663088da23d73b5",
       "style": "IPY_MODEL_0dbc5494e151418e8f12ca7b240ee0c8",
       "value": "<h4 style=\"font-size:14px;\">Was bedeutet das Tag <i>VBG</i> im Browntagset (siehe 5.7)?</h4>"
      }
     },
     "c29d795efd2e4e2d8fdd00fe4ae32375": {
      "model_module": "@jupyter-widgets/controls",
      "model_module_version": "1.5.0",
      "model_name": "VBoxModel",
      "state": {
       "children": [
        "IPY_MODEL_ea001b00edb04e3f967a1b92ebb133aa",
        "IPY_MODEL_ddd8b7be8fc54dd694935a1b0e396a72",
        "IPY_MODEL_190b63d883b84181a2b8a194f74598bc",
        "IPY_MODEL_284a7e82532f4451a03ec133990d8d13"
       ],
       "layout": "IPY_MODEL_0c155ab4fc7840b4b547366ffb2d2a0c"
      }
     },
     "c2c6acbaa0b4432698d07e0c092f3820": {
      "model_module": "@jupyter-widgets/controls",
      "model_module_version": "1.5.0",
      "model_name": "DescriptionStyleModel",
      "state": {
       "description_width": "initial"
      }
     },
     "c2e136decac448caaf837c6e73170761": {
      "model_module": "@jupyter-widgets/controls",
      "model_module_version": "1.5.0",
      "model_name": "DropdownModel",
      "state": {
       "_options_labels": [
        "morphologischen",
        "syntaktischen",
        " "
       ],
       "index": 1,
       "layout": "IPY_MODEL_787a285a24ee43dea9273df34503b263",
       "style": "IPY_MODEL_112d342c9b444dd4a073b9dc370bfe28"
      }
     },
     "c2e4ab7ff7974dd7a2646795b99602a1": {
      "model_module": "@jupyter-widgets/controls",
      "model_module_version": "1.5.0",
      "model_name": "ButtonStyleModel",
      "state": {}
     },
     "c3490e40180449f4916f9bebd1cc40c7": {
      "model_module": "@jupyter-widgets/controls",
      "model_module_version": "1.5.0",
      "model_name": "DescriptionStyleModel",
      "state": {
       "description_width": ""
      }
     },
     "c35301ff0b614edcabea8de7fa3b4218": {
      "model_module": "@jupyter-widgets/controls",
      "model_module_version": "1.5.0",
      "model_name": "VBoxModel",
      "state": {
       "children": [
        "IPY_MODEL_ea9da34668184a93bc7d544803fb5297",
        "IPY_MODEL_ead36feb21c8441fb765ea6ba2d73562",
        "IPY_MODEL_f4f9e5f02abf4324b52f7614d9b62a40",
        "IPY_MODEL_1bb3511f7a624dde852b82dd3779dd66",
        "IPY_MODEL_bc879311e81d4859a08d51344d0c41e8"
       ],
       "layout": "IPY_MODEL_3896d8e730f745169209c7482d2f59e2"
      }
     },
     "c391841557cf4df38baad78570c68513": {
      "model_module": "@jupyter-widgets/controls",
      "model_module_version": "1.5.0",
      "model_name": "ButtonModel",
      "state": {
       "description": "Partikel",
       "layout": "IPY_MODEL_162880f921044b9989aff28c472961e2",
       "style": "IPY_MODEL_5b79637db364480f9a226cb56c933623"
      }
     },
     "c3b52ea7138d4dedb48fa388480c0b6d": {
      "model_module": "@jupyter-widgets/controls",
      "model_module_version": "1.5.0",
      "model_name": "DescriptionStyleModel",
      "state": {
       "description_width": "initial"
      }
     },
     "c401d56bb61a48ac8b2f36d228e7ef05": {
      "model_module": "@jupyter-widgets/controls",
      "model_module_version": "1.5.0",
      "model_name": "DescriptionStyleModel",
      "state": {
       "description_width": ""
      }
     },
     "c43663b8a36c4b6d95c3c83dbb33645e": {
      "model_module": "@jupyter-widgets/controls",
      "model_module_version": "1.5.0",
      "model_name": "HTMLModel",
      "state": {
       "layout": "IPY_MODEL_cc5eea25183d48e984c0b3ff61da3b76",
       "style": "IPY_MODEL_68124829f5b84b7c8b0e5c0f9db7093b",
       "value": "<h4 style=\"font-size:14px;\">, aber keine</h4>"
      }
     },
     "c441983d80ec44f69cfca5c9b901aefc": {
      "model_module": "@jupyter-widgets/controls",
      "model_module_version": "1.5.0",
      "model_name": "ButtonStyleModel",
      "state": {}
     },
     "c452c82f892b4804875859c961383d1b": {
      "model_module": "@jupyter-widgets/controls",
      "model_module_version": "1.5.0",
      "model_name": "DescriptionStyleModel",
      "state": {
       "description_width": "initial"
      }
     },
     "c45b13f15e25492baef1aa268d47c183": {
      "model_module": "@jupyter-widgets/controls",
      "model_module_version": "1.5.0",
      "model_name": "ButtonModel",
      "state": {
       "description": "Korrekt?",
       "layout": "IPY_MODEL_061328849d434f82b2ed71938b74d9ba",
       "style": "IPY_MODEL_c92680f4859d4e1293e716552a1af7f2"
      }
     },
     "c467ffecd23342caabd907b846eb6dc8": {
      "model_module": "@jupyter-widgets/controls",
      "model_module_version": "1.5.0",
      "model_name": "HBoxModel",
      "state": {
       "children": [
        "IPY_MODEL_e895d68fdb1a4deaabf5dc2a29674623"
       ],
       "layout": "IPY_MODEL_c4d57264f99c464a8ce6c9a379a1579a"
      }
     },
     "c47a4d8544184f23a7052c8d8ed93ac0": {
      "model_module": "@jupyter-widgets/base",
      "model_module_version": "1.2.0",
      "model_name": "LayoutModel",
      "state": {}
     },
     "c48751a5a23145b29e1d7380842afcdf": {
      "model_module": "@jupyter-widgets/controls",
      "model_module_version": "1.5.0",
      "model_name": "VBoxModel",
      "state": {
       "children": [
        "IPY_MODEL_34d80990818a4937b5a405139994eb9e",
        "IPY_MODEL_8eb8cce4e68942789c5957a0b567ea78",
        "IPY_MODEL_0c87e4237edc42059520f808b5b737fe",
        "IPY_MODEL_81acf6d5733b4b7badfaeb17a050fc6c"
       ],
       "layout": "IPY_MODEL_0ce4a724c33a4dbd8870f1b1ca7262cc"
      }
     },
     "c4c4d47fd4a2456a81951b70437609c6": {
      "model_module": "@jupyter-widgets/controls",
      "model_module_version": "1.5.0",
      "model_name": "ButtonStyleModel",
      "state": {
       "button_color": "lightgreen"
      }
     },
     "c4d57264f99c464a8ce6c9a379a1579a": {
      "model_module": "@jupyter-widgets/base",
      "model_module_version": "1.2.0",
      "model_name": "LayoutModel",
      "state": {}
     },
     "c4dc270cc512492aaf231baa9cc98943": {
      "model_module": "@jupyter-widgets/base",
      "model_module_version": "1.2.0",
      "model_name": "LayoutModel",
      "state": {
       "width": "250px"
      }
     },
     "c4dce9ce82a64364a7b24032a2a2114a": {
      "model_module": "@jupyter-widgets/controls",
      "model_module_version": "1.5.0",
      "model_name": "CheckboxModel",
      "state": {
       "description": "Flexionstyp",
       "disabled": false,
       "layout": "IPY_MODEL_f40f9b7d84a647d0a88eb37e5fd4ff19",
       "style": "IPY_MODEL_7eb5d730dbcf47ca9234c419f45a2690",
       "value": false
      }
     },
     "c4e97a8f436249f299f62f9fb848c241": {
      "model_module": "@jupyter-widgets/base",
      "model_module_version": "1.2.0",
      "model_name": "LayoutModel",
      "state": {
       "justify_content": "center"
      }
     },
     "c54c05fba5564549afa90dd2c9ac2c68": {
      "model_module": "@jupyter-widgets/base",
      "model_module_version": "1.2.0",
      "model_name": "LayoutModel",
      "state": {
       "width": "150px"
      }
     },
     "c54d79128fd245499f2119ab2ec62c1c": {
      "model_module": "@jupyter-widgets/controls",
      "model_module_version": "1.5.0",
      "model_name": "VBoxModel",
      "state": {
       "children": [
        "IPY_MODEL_129ac06e3970465ea40b3a6e459e33e5",
        "IPY_MODEL_9e8a7b812b9c4e7aa9c2a9d69ef2ca33",
        "IPY_MODEL_4298f24d91334c26bfaa89dc82dad655",
        "IPY_MODEL_bba8167dc27d4c1b93a958e86d0f579c"
       ],
       "layout": "IPY_MODEL_0e6605362fc540ac8d8cc6cdfda28bf9"
      }
     },
     "c5568d99f61b444daa32b1d8efb0b604": {
      "model_module": "@jupyter-widgets/base",
      "model_module_version": "1.2.0",
      "model_name": "LayoutModel",
      "state": {}
     },
     "c558e9611b0f4549b961c7d920315ce9": {
      "model_module": "@jupyter-widgets/controls",
      "model_module_version": "1.5.0",
      "model_name": "DescriptionStyleModel",
      "state": {
       "description_width": ""
      }
     },
     "c568ca512ffa45fd89763630c1825a61": {
      "model_module": "@jupyter-widgets/controls",
      "model_module_version": "1.5.0",
      "model_name": "VBoxModel",
      "state": {
       "children": [
        "IPY_MODEL_03a34ff8eafc49eeb98ee086bb175e3c",
        "IPY_MODEL_32c918129fde4703a88b1ad23b469b30",
        "IPY_MODEL_e6b3ab5c3a75411c863c7ee033298bca"
       ],
       "layout": "IPY_MODEL_d2a5902cd81d46e6bb4df110b12bc190"
      }
     },
     "c568e3f825c947ab91cd74304383f9f4": {
      "model_module": "@jupyter-widgets/controls",
      "model_module_version": "1.5.0",
      "model_name": "HTMLModel",
      "state": {
       "layout": "IPY_MODEL_1b114451d1a041bfafa780963b139dde",
       "style": "IPY_MODEL_bb3927ab44344fe9b520ee64580ebffa",
       "value": "<i>Vervollständigen Sie den Lückentext: </i>"
      }
     },
     "c5793a105f174a89868ad77f5d5308a6": {
      "model_module": "@jupyter-widgets/controls",
      "model_module_version": "1.5.0",
      "model_name": "DescriptionStyleModel",
      "state": {
       "description_width": ""
      }
     },
     "c5c7d7ed827c4de189d2d8d3c6b35639": {
      "model_module": "@jupyter-widgets/controls",
      "model_module_version": "1.5.0",
      "model_name": "ButtonModel",
      "state": {
       "description": "Adjektiv",
       "layout": "IPY_MODEL_433ba766a9c342c4ab2698347120f937",
       "style": "IPY_MODEL_94209d0590fd4b49825c159e2d8bf485"
      }
     },
     "c603e0449fc8422da09d9b6bea0a5ca6": {
      "model_module": "@jupyter-widgets/controls",
      "model_module_version": "1.5.0",
      "model_name": "HBoxModel",
      "state": {
       "children": [
        "IPY_MODEL_0e30c456985147dcbe845ea78f8e7346",
        "IPY_MODEL_a88a70a0537046ec9ae96643b0ff441a"
       ],
       "layout": "IPY_MODEL_5041e65b64884db9a0195d1ef6610e85"
      }
     },
     "c622cf7eae364bb8b2e2c706ac000c8c": {
      "model_module": "@jupyter-widgets/base",
      "model_module_version": "1.2.0",
      "model_name": "LayoutModel",
      "state": {}
     },
     "c632f07a7b5044e9a44ec2541b63f39f": {
      "model_module": "@jupyter-widgets/base",
      "model_module_version": "1.2.0",
      "model_name": "LayoutModel",
      "state": {
       "width": "150px"
      }
     },
     "c65c46d7c87740aa9b5b65cdfb34c1f9": {
      "model_module": "@jupyter-widgets/base",
      "model_module_version": "1.2.0",
      "model_name": "LayoutModel",
      "state": {
       "width": "150px"
      }
     },
     "c66c9e8482a9431ab935cf72a6c3ec3f": {
      "model_module": "@jupyter-widgets/controls",
      "model_module_version": "1.5.0",
      "model_name": "DescriptionStyleModel",
      "state": {
       "description_width": "initial"
      }
     },
     "c6a9cd0be3be43d5ac87bbf6d95082f8": {
      "model_module": "@jupyter-widgets/controls",
      "model_module_version": "1.5.0",
      "model_name": "BoxModel",
      "state": {
       "children": [
        "IPY_MODEL_9216637aab8141588657f272dff99520",
        "IPY_MODEL_567c173739e84d12a1b0845c299cd2ae",
        "IPY_MODEL_0ffadf8472104a03b90fc0f128cfbdd5",
        "IPY_MODEL_e44c7a1803f44ce182d7a9af7e6a2ce9",
        "IPY_MODEL_8dd32ce16fad48ba90116b6d6beb1c4b",
        "IPY_MODEL_43219290e0d74430b24f6e5e49ceb323",
        "IPY_MODEL_c20f548add1b443ab24b4264ff08db2c"
       ],
       "layout": "IPY_MODEL_658caa8e998b4d8995171efc3af237cc"
      }
     },
     "c6c81484178246b8922ba1ea8d1e872a": {
      "model_module": "@jupyter-widgets/controls",
      "model_module_version": "1.5.0",
      "model_name": "ButtonStyleModel",
      "state": {
       "button_color": "lightgreen"
      }
     },
     "c706c565bbea4088b1207b6b7db584b9": {
      "model_module": "@jupyter-widgets/controls",
      "model_module_version": "1.5.0",
      "model_name": "DropdownModel",
      "state": {
       "_options_labels": [
        "Mittelfeld",
        "Nachfeld",
        "Vorfeld",
        " "
       ],
       "index": 2,
       "layout": "IPY_MODEL_968d80be9c4743d1bba904768bbbb95c",
       "style": "IPY_MODEL_008b0160b7074df4b514e2f006223707"
      }
     },
     "c7108a2aee6f4d4296dd83e279eda0bd": {
      "model_module": "@jupyter-widgets/controls",
      "model_module_version": "1.5.0",
      "model_name": "DescriptionStyleModel",
      "state": {
       "description_width": ""
      }
     },
     "c73276e09e2f438a8716346b8c021202": {
      "model_module": "@jupyter-widgets/controls",
      "model_module_version": "1.5.0",
      "model_name": "DescriptionStyleModel",
      "state": {
       "description_width": ""
      }
     },
     "c73fe3d9054d4418a3c1b900c9aed735": {
      "model_module": "@jupyter-widgets/base",
      "model_module_version": "1.2.0",
      "model_name": "LayoutModel",
      "state": {
       "width": "250px"
      }
     },
     "c74f518d56794e978c0071615e2163aa": {
      "model_module": "@jupyter-widgets/controls",
      "model_module_version": "1.5.0",
      "model_name": "DropdownModel",
      "state": {
       "_options_labels": [
        "Konstituente",
        "Phrase",
        " "
       ],
       "index": 2,
       "layout": "IPY_MODEL_c65c46d7c87740aa9b5b65cdfb34c1f9",
       "style": "IPY_MODEL_1c0b616125c74b98b5335e4270740961"
      }
     },
     "c753f9bc35d94c899b053c1476baad99": {
      "model_module": "@jupyter-widgets/base",
      "model_module_version": "1.2.0",
      "model_name": "LayoutModel",
      "state": {
       "width": "150px"
      }
     },
     "c78beba20a48448d9b6787d2f9403e0f": {
      "model_module": "@jupyter-widgets/base",
      "model_module_version": "1.2.0",
      "model_name": "LayoutModel",
      "state": {
       "justify_content": "center"
      }
     },
     "c7d78c52a6ac4386b738122cb7ab72ac": {
      "model_module": "@jupyter-widgets/controls",
      "model_module_version": "1.5.0",
      "model_name": "ButtonStyleModel",
      "state": {}
     },
     "c7d82ed28e0f4b41b47ae8298e05a0c7": {
      "model_module": "@jupyter-widgets/controls",
      "model_module_version": "1.5.0",
      "model_name": "ButtonModel",
      "state": {
       "description": "Keine der anderen Möglichkeiten",
       "layout": "IPY_MODEL_c01c50b079194126a27e06c1ab797b63",
       "style": "IPY_MODEL_f9258ae7ccf848eb96d6b34c9d2b5661"
      }
     },
     "c82a69ded85c42a9b9f2f733036c1501": {
      "model_module": "@jupyter-widgets/controls",
      "model_module_version": "1.5.0",
      "model_name": "ButtonStyleModel",
      "state": {
       "button_color": "lightgreen"
      }
     },
     "c85c4444b88643ec80bb1b63f4fb5b0d": {
      "model_module": "@jupyter-widgets/base",
      "model_module_version": "1.2.0",
      "model_name": "LayoutModel",
      "state": {
       "width": "600px"
      }
     },
     "c85ccdab73084a638741a74157201772": {
      "model_module": "@jupyter-widgets/controls",
      "model_module_version": "1.5.0",
      "model_name": "CheckboxModel",
      "state": {
       "description": "Zu einem Wort werden alle Wörter gefunden, die in gleichen Kontexten vorkommen.",
       "disabled": false,
       "layout": "IPY_MODEL_578529a6321d4892a85fdf971c4eeffd",
       "style": "IPY_MODEL_9724bd5d93084e4b87672c916fcdf5a0",
       "value": true
      }
     },
     "c860c3e365984565b924f74757a28a60": {
      "model_module": "@jupyter-widgets/controls",
      "model_module_version": "1.5.0",
      "model_name": "VBoxModel",
      "state": {
       "children": [
        "IPY_MODEL_ef1c3234f06140e38cab171aa8ff6cc7",
        "IPY_MODEL_ec4118028c02488ab42795375b38dae3",
        "IPY_MODEL_e2ff7fa678a04de6969fb90c333a9a47",
        "IPY_MODEL_2e46c610d5884ce2b558d4761b4017ea"
       ],
       "layout": "IPY_MODEL_29eac761d5934d5a81c73f13f57d612b"
      }
     },
     "c8c3d28f22d947a7a6d5057278a029c5": {
      "model_module": "@jupyter-widgets/controls",
      "model_module_version": "1.5.0",
      "model_name": "HTMLModel",
      "state": {
       "layout": "IPY_MODEL_f895a2fd2491446fa61ea5a9f1f14bd2",
       "style": "IPY_MODEL_2b67247d854549f188f0752961c08f5f",
       "value": "<h4 style=\"font-size:14px;\">Was leistet die Funktion <code>nltk.similar()</code>?</h4>"
      }
     },
     "c8f87d4bbd874c0ab7098cd4355180a7": {
      "model_module": "@jupyter-widgets/base",
      "model_module_version": "1.2.0",
      "model_name": "LayoutModel",
      "state": {}
     },
     "c92680f4859d4e1293e716552a1af7f2": {
      "model_module": "@jupyter-widgets/controls",
      "model_module_version": "1.5.0",
      "model_name": "ButtonStyleModel",
      "state": {
       "button_color": "lightgreen"
      }
     },
     "c9377b564c4d4786b30875e53bc05cda": {
      "model_module": "@jupyter-widgets/base",
      "model_module_version": "1.2.0",
      "model_name": "LayoutModel",
      "state": {
       "justify_content": "center"
      }
     },
     "c93db7862ad54349bb0239cc85cf0c29": {
      "model_module": "@jupyter-widgets/base",
      "model_module_version": "1.2.0",
      "model_name": "LayoutModel",
      "state": {
       "width": "250px"
      }
     },
     "c967cdaa5e744d71a9b9f291d61b9287": {
      "model_module": "@jupyter-widgets/base",
      "model_module_version": "1.2.0",
      "model_name": "LayoutModel",
      "state": {
       "width": "250px"
      }
     },
     "c969b9f09b5c419d9b1a2de1be22924f": {
      "model_module": "@jupyter-widgets/controls",
      "model_module_version": "1.5.0",
      "model_name": "ButtonModel",
      "state": {
       "description": "3rd singular present",
       "layout": "IPY_MODEL_939f9ab16ebe462993aa1c56243034a7",
       "style": "IPY_MODEL_bfd62955d0ef4858864db5888e68b69f"
      }
     },
     "c9ce82b1937e4b6b8a591b4375623169": {
      "model_module": "@jupyter-widgets/base",
      "model_module_version": "1.2.0",
      "model_name": "LayoutModel",
      "state": {}
     },
     "c9db51a596dd48049907caf55a6a2b79": {
      "model_module": "@jupyter-widgets/controls",
      "model_module_version": "1.5.0",
      "model_name": "DescriptionStyleModel",
      "state": {
       "description_width": ""
      }
     },
     "ca1104e44eb4470aa23989b61e2e86f2": {
      "model_module": "@jupyter-widgets/controls",
      "model_module_version": "1.5.0",
      "model_name": "ButtonModel",
      "state": {
       "description": "Keine der anderen Möglichkeiten",
       "layout": "IPY_MODEL_05f49d3b78334af18e5682a804b57d7d",
       "style": "IPY_MODEL_f0a2e2f673104013bdc68785637ba439"
      }
     },
     "ca20836a61e04ba2aca858d6697851e7": {
      "model_module": "@jupyter-widgets/controls",
      "model_module_version": "1.5.0",
      "model_name": "DescriptionStyleModel",
      "state": {
       "description_width": ""
      }
     },
     "caa7e8a9fc7a4daeb3a413fdff388ce3": {
      "model_module": "@jupyter-widgets/controls",
      "model_module_version": "1.5.0",
      "model_name": "VBoxModel",
      "state": {
       "children": [
        "IPY_MODEL_1c1f57edc6954a9c93f9f91677fe144e",
        "IPY_MODEL_9d13660cff8d4f78b902356a117924d5",
        "IPY_MODEL_d293115f33aa4532a00368adad20558a"
       ],
       "layout": "IPY_MODEL_d1f5ff5a79074e6fb9db7107355f0f61"
      }
     },
     "cabaa0f1f9fc41e78bb4b9c328f5d5f6": {
      "model_module": "@jupyter-widgets/controls",
      "model_module_version": "1.5.0",
      "model_name": "HTMLModel",
      "state": {
       "layout": "IPY_MODEL_f6cdba14fe914e9f8c9682208127757e",
       "style": "IPY_MODEL_6bbc64b4ffbe4bf5ae57126c4a47cf33",
       "value": "<i>Vervollständigen Sie den Lückentext: </i>"
      }
     },
     "cad396e90fa64529bb42720086c8e5ae": {
      "model_module": "@jupyter-widgets/base",
      "model_module_version": "1.2.0",
      "model_name": "LayoutModel",
      "state": {
       "align_content": "stretch",
       "align_items": "stretch",
       "display": "inline-flex",
       "flex": "flex-grow",
       "flex_flow": "row wrap",
       "justify_content": "flex-start"
      }
     },
     "cb3eb594642b458192fd3a6252e146ed": {
      "model_module": "@jupyter-widgets/controls",
      "model_module_version": "1.5.0",
      "model_name": "DescriptionStyleModel",
      "state": {
       "description_width": ""
      }
     },
     "cb59e3e21a74448397f33e5b686eb087": {
      "model_module": "@jupyter-widgets/base",
      "model_module_version": "1.2.0",
      "model_name": "LayoutModel",
      "state": {}
     },
     "cb6d26390fde47129ee2ea4ef44f127e": {
      "model_module": "@jupyter-widgets/controls",
      "model_module_version": "1.5.0",
      "model_name": "HTMLModel",
      "state": {
       "layout": "IPY_MODEL_1b40ebb28e084534a56a47f3fa9fba33",
       "style": "IPY_MODEL_23bbf05eca5148319f06d70cf23aeadd",
       "value": "<h4 style=\"font-size:14px;\">-Tupeln aus einem englischen Korpus erstellt. Zeile 2 und 3 dienen der Erzeugung einer Frequenzliste von POS-Tags derjenigen Bigramme, deren zweites Element das POS-Tag</h4>"
      }
     },
     "cb9a3f7b258042d6a14588919bfed5be": {
      "model_module": "@jupyter-widgets/base",
      "model_module_version": "1.2.0",
      "model_name": "LayoutModel",
      "state": {
       "width": "600px"
      }
     },
     "cbf10e56bfce40c9b8e4e9e5347e71a8": {
      "model_module": "@jupyter-widgets/controls",
      "model_module_version": "1.5.0",
      "model_name": "VBoxModel",
      "state": {
       "children": [
        "IPY_MODEL_3a026258f9f84759a93aa5ab8c8485b3",
        "IPY_MODEL_dd076f6c321b475d9508b578a92a1fbc",
        "IPY_MODEL_e9c238129a7c4a0bad8e97eb2497c11f",
        "IPY_MODEL_7b2e197c61d7426db4b20e957a746ce3"
       ],
       "layout": "IPY_MODEL_f369c9ebd3d048ffb6a6335ee4345bca"
      }
     },
     "cc1524988b65487b88edbba3836c402e": {
      "model_module": "@jupyter-widgets/base",
      "model_module_version": "1.2.0",
      "model_name": "LayoutModel",
      "state": {
       "width": "250px"
      }
     },
     "cc2cfeb3fd474322b0401c3b26c160c7": {
      "model_module": "@jupyter-widgets/controls",
      "model_module_version": "1.5.0",
      "model_name": "DescriptionStyleModel",
      "state": {
       "description_width": "initial"
      }
     },
     "cc523b19aab34534843e5b0f4494f5f2": {
      "model_module": "@jupyter-widgets/controls",
      "model_module_version": "1.5.0",
      "model_name": "HTMLModel",
      "state": {
       "layout": "IPY_MODEL_96d6899498634b01a63ee1c0af425724",
       "style": "IPY_MODEL_c401d56bb61a48ac8b2f36d228e7ef05",
       "value": "<h4 style=\"font-size:14px;\">In der ersten Zeile des Codes werden</h4>"
      }
     },
     "cc5eea25183d48e984c0b3ff61da3b76": {
      "model_module": "@jupyter-widgets/base",
      "model_module_version": "1.2.0",
      "model_name": "LayoutModel",
      "state": {}
     },
     "ccb78bf0c7e24afd910e990e03d48812": {
      "model_module": "@jupyter-widgets/controls",
      "model_module_version": "1.5.0",
      "model_name": "ButtonStyleModel",
      "state": {}
     },
     "ccbab8c54619434dbd12a3e299be1fe0": {
      "model_module": "@jupyter-widgets/controls",
      "model_module_version": "1.5.0",
      "model_name": "DescriptionStyleModel",
      "state": {
       "description_width": ""
      }
     },
     "cce062c9ccb940d2b2eb870c79d882ef": {
      "model_module": "@jupyter-widgets/controls",
      "model_module_version": "1.5.0",
      "model_name": "ButtonModel",
      "state": {
       "description": "Korrekt?",
       "layout": "IPY_MODEL_b47ccbc8b871444bbdf358776fa10d2d",
       "style": "IPY_MODEL_56d7c43c58184f3294c4954eb1d55908"
      }
     },
     "ccf5b7b3b7ca4dbc97f2f9e2497e10f3": {
      "model_module": "@jupyter-widgets/base",
      "model_module_version": "1.2.0",
      "model_name": "LayoutModel",
      "state": {
       "width": "250px"
      }
     },
     "cd1668605e3a41b5bad0f6aa4a170fc2": {
      "model_module": "@jupyter-widgets/controls",
      "model_module_version": "1.5.0",
      "model_name": "DescriptionStyleModel",
      "state": {
       "description_width": ""
      }
     },
     "cd219b03bab149598a0c0a70f8f80f72": {
      "model_module": "@jupyter-widgets/controls",
      "model_module_version": "1.5.0",
      "model_name": "DescriptionStyleModel",
      "state": {
       "description_width": "initial"
      }
     },
     "cd25f56014354a55bc78b737a68b8acd": {
      "model_module": "@jupyter-widgets/base",
      "model_module_version": "1.2.0",
      "model_name": "LayoutModel",
      "state": {
       "width": "600px"
      }
     },
     "cd2c831e231948dfb4c506c792305630": {
      "model_module": "@jupyter-widgets/controls",
      "model_module_version": "1.5.0",
      "model_name": "DropdownModel",
      "state": {
       "_options_labels": [
        "gleichartige",
        "unterschiedliche",
        " "
       ],
       "index": 0,
       "layout": "IPY_MODEL_7d195f3af0c845578c95fd5943c87593",
       "style": "IPY_MODEL_6962b7e30f61438c9020a65372870e6a"
      }
     },
     "cd366f28e91e4c8fbea400c3bf0fb539": {
      "model_module": "@jupyter-widgets/controls",
      "model_module_version": "1.5.0",
      "model_name": "ButtonModel",
      "state": {
       "description": "Korrekt?",
       "layout": "IPY_MODEL_bf36f49b83294fa98a7bc7fef4ad77fc",
       "style": "IPY_MODEL_2ffd35163dd14075b63c91b2c374f182"
      }
     },
     "cd8eaecdcc8548d3bbb5d5c1388cee52": {
      "model_module": "@jupyter-widgets/controls",
      "model_module_version": "1.5.0",
      "model_name": "VBoxModel",
      "state": {
       "children": [
        "IPY_MODEL_5de3a6850c384a7bad9981716ca8a53f",
        "IPY_MODEL_cdb4632de44b4350944d5c9bf70ceafb",
        "IPY_MODEL_56020cd633b846999c4078cca75f3267",
        "IPY_MODEL_509e64bf6c774c1483a9c74411b29de3",
        "IPY_MODEL_5cebc5473825478d98023ffc2ff4ac1c"
       ],
       "layout": "IPY_MODEL_6d9b757986ed43cf8d9e9bb41c3c2e37"
      }
     },
     "cdb2c311b2ae44cab3e2ccaff1ec9e60": {
      "model_module": "@jupyter-widgets/base",
      "model_module_version": "1.2.0",
      "model_name": "LayoutModel",
      "state": {
       "justify_content": "center"
      }
     },
     "cdb4632de44b4350944d5c9bf70ceafb": {
      "model_module": "@jupyter-widgets/controls",
      "model_module_version": "1.5.0",
      "model_name": "HTMLModel",
      "state": {
       "layout": "IPY_MODEL_a50bb5fc9d9947ba811ca876d19aef75",
       "style": "IPY_MODEL_bc0cf100874b474ca18ec8ae44864e81",
       "value": "<i>Wählen Sie die <ins>eine</ins> korrekte Antwort aus: </i>"
      }
     },
     "cdb4c4cd9fdb4e6f9e38e9e952c5a522": {
      "model_module": "@jupyter-widgets/controls",
      "model_module_version": "1.5.0",
      "model_name": "HBoxModel",
      "state": {
       "children": [
        "IPY_MODEL_ae77f4fabbfe40148bf603c57b6ee595"
       ],
       "layout": "IPY_MODEL_7924605e8f3349a9a6830cf44e89383d"
      }
     },
     "cdbf9dde32b34d8581959784f622dbd8": {
      "model_module": "@jupyter-widgets/controls",
      "model_module_version": "1.5.0",
      "model_name": "ButtonModel",
      "state": {
       "description": "Folge von Wortklassen",
       "layout": "IPY_MODEL_5af74b894c074f13b743723be4314ba0",
       "style": "IPY_MODEL_0bc6c01513b34c869aee10e8a3434c52"
      }
     },
     "cdbfede5b00a4bf795605634afe6806c": {
      "model_module": "@jupyter-widgets/base",
      "model_module_version": "1.2.0",
      "model_name": "LayoutModel",
      "state": {}
     },
     "cde2c404a4774ad19a0ebc76ef840382": {
      "model_module": "@jupyter-widgets/controls",
      "model_module_version": "1.5.0",
      "model_name": "DescriptionStyleModel",
      "state": {
       "description_width": ""
      }
     },
     "cde4ec3ccecc4f258e8fce469ed161b3": {
      "model_module": "@jupyter-widgets/controls",
      "model_module_version": "1.5.0",
      "model_name": "DescriptionStyleModel",
      "state": {
       "description_width": ""
      }
     },
     "ce07a17cdb77478081bd10920a8445ec": {
      "model_module": "@jupyter-widgets/base",
      "model_module_version": "1.2.0",
      "model_name": "LayoutModel",
      "state": {}
     },
     "ce302dfa30b24c3b9bae51e69f780864": {
      "model_module": "@jupyter-widgets/controls",
      "model_module_version": "1.5.0",
      "model_name": "ButtonStyleModel",
      "state": {}
     },
     "ce7c2490fbcf40eba6ebef6b730da375": {
      "model_module": "@jupyter-widgets/base",
      "model_module_version": "1.2.0",
      "model_name": "LayoutModel",
      "state": {
       "width": "250px"
      }
     },
     "ce870b241daa4c3fa63e24ca4f3e262d": {
      "model_module": "@jupyter-widgets/controls",
      "model_module_version": "1.5.0",
      "model_name": "HTMLModel",
      "state": {
       "layout": "IPY_MODEL_8a0ecdf730084fd1be7a21e2c4c99e99",
       "style": "IPY_MODEL_ac53a00c47f14d76affc3bb27812f5a1",
       "value": "<h4 style=\"font-size:14px;\">Wie wirt der POS-Tagger im NLTK aufgerufen?</h4>"
      }
     },
     "cea4ca902abe4f02ae5027bf52de2b63": {
      "model_module": "@jupyter-widgets/base",
      "model_module_version": "1.2.0",
      "model_name": "LayoutModel",
      "state": {}
     },
     "ceb4cfa03bf84a30a01baff757828016": {
      "model_module": "@jupyter-widgets/controls",
      "model_module_version": "1.5.0",
      "model_name": "ButtonStyleModel",
      "state": {
       "button_color": "lightgreen"
      }
     },
     "cef09d4b193f4984be510f04c53531f1": {
      "model_module": "@jupyter-widgets/controls",
      "model_module_version": "1.5.0",
      "model_name": "ButtonModel",
      "state": {
       "description": "base",
       "layout": "IPY_MODEL_7aaada1907514ab0ab63cbf187091109",
       "style": "IPY_MODEL_ea7119a3f5d041d192071b16250bdf7a"
      }
     },
     "cef95b65bba549edaaa9820c4ae7b208": {
      "model_module": "@jupyter-widgets/base",
      "model_module_version": "1.2.0",
      "model_name": "LayoutModel",
      "state": {}
     },
     "cf85c7c8c761461dbccaff630108aa89": {
      "model_module": "@jupyter-widgets/base",
      "model_module_version": "1.2.0",
      "model_name": "LayoutModel",
      "state": {
       "width": "250px"
      }
     },
     "cf88528c4fb94d2db57491ed0114d559": {
      "model_module": "@jupyter-widgets/controls",
      "model_module_version": "1.5.0",
      "model_name": "HTMLModel",
      "state": {
       "layout": "IPY_MODEL_211dda5663e241e88d20061c9898b39d",
       "style": "IPY_MODEL_87f27e0aa9be47edae506806c30d33ab",
       "value": "<i>Wählen Sie die <ins>eine</ins> korrekte Antwort aus: </i>"
      }
     },
     "cf9303dff3b443b4b4e3b5cc4a0da366": {
      "model_module": "@jupyter-widgets/controls",
      "model_module_version": "1.5.0",
      "model_name": "ButtonModel",
      "state": {
       "description": "past participle",
       "layout": "IPY_MODEL_30b03a55c11a4339a194f98b61638ae8",
       "style": "IPY_MODEL_c4c4d47fd4a2456a81951b70437609c6"
      }
     },
     "cfe471bf68874e41a85432cf1db18ae5": {
      "model_module": "@jupyter-widgets/base",
      "model_module_version": "1.2.0",
      "model_name": "LayoutModel",
      "state": {
       "width": "600px"
      }
     },
     "d02e5c9cf0714c41a14b4e750694cefb": {
      "model_module": "@jupyter-widgets/base",
      "model_module_version": "1.2.0",
      "model_name": "LayoutModel",
      "state": {}
     },
     "d0357bc3815c420f94bb813afd17054e": {
      "model_module": "@jupyter-widgets/controls",
      "model_module_version": "1.5.0",
      "model_name": "DescriptionStyleModel",
      "state": {
       "description_width": ""
      }
     },
     "d065f3153db14797a4a0b60a8ca1d31e": {
      "model_module": "@jupyter-widgets/controls",
      "model_module_version": "1.5.0",
      "model_name": "ButtonStyleModel",
      "state": {}
     },
     "d066bb9328eb4101bb44dd9b02367c93": {
      "model_module": "@jupyter-widgets/controls",
      "model_module_version": "1.5.0",
      "model_name": "CheckboxModel",
      "state": {
       "description": "Es ist flektierbar.",
       "disabled": false,
       "layout": "IPY_MODEL_107884f2e7874ee9a57730c262213a41",
       "style": "IPY_MODEL_14212d7a01cc4a25b5bb2b24716aa6eb",
       "value": true
      }
     },
     "d06e48f5ae014667b3f9d8d36af87e72": {
      "model_module": "@jupyter-widgets/controls",
      "model_module_version": "1.5.0",
      "model_name": "HTMLModel",
      "state": {
       "layout": "IPY_MODEL_02400887e20647dab987794fadc2b62a",
       "style": "IPY_MODEL_13680b0f9e854436a19d71db40e7b243",
       "value": "<h4 style=\"font-size:14px;\">. Aus dieser wurde es extrahiert und ins</h4>"
      }
     },
     "d09dedcda26b4d96a59ae2bf3ce56aed": {
      "model_module": "@jupyter-widgets/base",
      "model_module_version": "1.2.0",
      "model_name": "LayoutModel",
      "state": {
       "width": "150px"
      }
     },
     "d0a02e31f83c4733bad510fb80ed4ac8": {
      "model_module": "@jupyter-widgets/controls",
      "model_module_version": "1.5.0",
      "model_name": "HTMLModel",
      "state": {
       "layout": "IPY_MODEL_001edfb47a24406c8dd8d3c4c50c0cc2",
       "style": "IPY_MODEL_cb3eb594642b458192fd3a6252e146ed",
       "value": "<h4 style=\"font-size:14px;\">Welche Wortart folgt damit für das Wort <i>gerne</i> in Satz 1?</h4>"
      }
     },
     "d1536f7a315e48bdb961ab875105b23e": {
      "model_module": "@jupyter-widgets/base",
      "model_module_version": "1.2.0",
      "model_name": "LayoutModel",
      "state": {}
     },
     "d15556369e3440188a9de0e948bb2f94": {
      "model_module": "@jupyter-widgets/controls",
      "model_module_version": "1.5.0",
      "model_name": "HTMLModel",
      "state": {
       "layout": "IPY_MODEL_9036727e5f534241891b4f0c18c5666a",
       "style": "IPY_MODEL_df4ae3dfe6684994a27eef73bd4a4f19",
       "value": "<h4 style=\"font-size:14px;\">Was bedeutet das Tag <i>VBN</i> im Browntagset (siehe 5.7)?</h4>"
      }
     },
     "d193f07664064c84a941310638476958": {
      "model_module": "@jupyter-widgets/base",
      "model_module_version": "1.2.0",
      "model_name": "LayoutModel",
      "state": {}
     },
     "d1af1e444f8d47e0b9534709da3f53c9": {
      "model_module": "@jupyter-widgets/controls",
      "model_module_version": "1.5.0",
      "model_name": "ButtonStyleModel",
      "state": {}
     },
     "d1e89a782f29449dbee91f08556e957f": {
      "model_module": "@jupyter-widgets/base",
      "model_module_version": "1.2.0",
      "model_name": "LayoutModel",
      "state": {
       "width": "250px"
      }
     },
     "d1f5ff5a79074e6fb9db7107355f0f61": {
      "model_module": "@jupyter-widgets/base",
      "model_module_version": "1.2.0",
      "model_name": "LayoutModel",
      "state": {}
     },
     "d2013bc73d78423e90078ecdff95f3d7": {
      "model_module": "@jupyter-widgets/base",
      "model_module_version": "1.2.0",
      "model_name": "LayoutModel",
      "state": {
       "width": "350px"
      }
     },
     "d20b299f098742e589bbee4ee45409c2": {
      "model_module": "@jupyter-widgets/controls",
      "model_module_version": "1.5.0",
      "model_name": "HTMLModel",
      "state": {
       "layout": "IPY_MODEL_b5f0e840a6204b34b3166bf2e1f21738",
       "style": "IPY_MODEL_75f0db164d91437fb9528e50eb3e66bc",
       "value": "<h4 style=\"font-size:14px;\">Was bedeutet das Tag <i>VB</i> im Browntagset (siehe 5.7)?</h4>"
      }
     },
     "d257896b4a0940e8910e5a0a29efc487": {
      "model_module": "@jupyter-widgets/controls",
      "model_module_version": "1.5.0",
      "model_name": "ButtonModel",
      "state": {
       "description": "Adverb",
       "layout": "IPY_MODEL_cf85c7c8c761461dbccaff630108aa89",
       "style": "IPY_MODEL_4e987ddbd1234d829f014774add444c4"
      }
     },
     "d27df11795af4f08ae726971a5389f66": {
      "model_module": "@jupyter-widgets/base",
      "model_module_version": "1.2.0",
      "model_name": "LayoutModel",
      "state": {}
     },
     "d289d45ac9e347e5a575feb61c8b9da4": {
      "model_module": "@jupyter-widgets/controls",
      "model_module_version": "1.5.0",
      "model_name": "DropdownModel",
      "state": {
       "_options_labels": [
        "Köpfe",
        "Länge",
        "Phrasenstruktur",
        " "
       ],
       "index": 2,
       "layout": "IPY_MODEL_01dfab70669f4ac78c305d9a6b2f3c29",
       "style": "IPY_MODEL_a7f4be15e13346e58b261b8cd2a94c59"
      }
     },
     "d293115f33aa4532a00368adad20558a": {
      "model_module": "@jupyter-widgets/controls",
      "model_module_version": "1.5.0",
      "model_name": "ButtonModel",
      "state": {
       "description": "Korrekt?",
       "layout": "IPY_MODEL_dd7cd821934b4fdebcea725db7d4c2b7",
       "style": "IPY_MODEL_6c7d9b4f79fd4220b23817c57b5c48b2"
      }
     },
     "d2a5902cd81d46e6bb4df110b12bc190": {
      "model_module": "@jupyter-widgets/base",
      "model_module_version": "1.2.0",
      "model_name": "LayoutModel",
      "state": {}
     },
     "d2d907cca6124daa867ab9a6f8a26d96": {
      "model_module": "@jupyter-widgets/base",
      "model_module_version": "1.2.0",
      "model_name": "LayoutModel",
      "state": {
       "width": "250px"
      }
     },
     "d2dcea2e80284344af0201886f6cbe65": {
      "model_module": "@jupyter-widgets/controls",
      "model_module_version": "1.5.0",
      "model_name": "DescriptionStyleModel",
      "state": {
       "description_width": "initial"
      }
     },
     "d35171e99fbd419ca7672670b7c276fb": {
      "model_module": "@jupyter-widgets/base",
      "model_module_version": "1.2.0",
      "model_name": "LayoutModel",
      "state": {
       "width": "250px"
      }
     },
     "d3788fe4c2f74851beb951c2da65197a": {
      "model_module": "@jupyter-widgets/controls",
      "model_module_version": "1.5.0",
      "model_name": "DescriptionStyleModel",
      "state": {
       "description_width": ""
      }
     },
     "d3aa58a2c76c46c6990c4f3b1c011965": {
      "model_module": "@jupyter-widgets/base",
      "model_module_version": "1.2.0",
      "model_name": "LayoutModel",
      "state": {}
     },
     "d3c4caf99ea5440c8d862c24e65f48b2": {
      "model_module": "@jupyter-widgets/base",
      "model_module_version": "1.2.0",
      "model_name": "LayoutModel",
      "state": {}
     },
     "d4371199f5d04e0a9a103bc7ba3c5be8": {
      "model_module": "@jupyter-widgets/controls",
      "model_module_version": "1.5.0",
      "model_name": "DescriptionStyleModel",
      "state": {
       "description_width": ""
      }
     },
     "d444a289617046e6a76c22611f9e65c6": {
      "model_module": "@jupyter-widgets/base",
      "model_module_version": "1.2.0",
      "model_name": "LayoutModel",
      "state": {
       "justify_content": "center"
      }
     },
     "d46c5913a2f14721aad11b7de83ffa31": {
      "model_module": "@jupyter-widgets/controls",
      "model_module_version": "1.5.0",
      "model_name": "DescriptionStyleModel",
      "state": {
       "description_width": ""
      }
     },
     "d4940a15a0f444f4a022cc5ce2771243": {
      "model_module": "@jupyter-widgets/controls",
      "model_module_version": "1.5.0",
      "model_name": "DescriptionStyleModel",
      "state": {
       "description_width": ""
      }
     },
     "d4b66e97a3544beb907ff90167c5530e": {
      "model_module": "@jupyter-widgets/base",
      "model_module_version": "1.2.0",
      "model_name": "LayoutModel",
      "state": {
       "width": "600px"
      }
     },
     "d53b50b275c746a2abd5a9e275db3b0c": {
      "model_module": "@jupyter-widgets/base",
      "model_module_version": "1.2.0",
      "model_name": "LayoutModel",
      "state": {
       "width": "150px"
      }
     },
     "d54e1539c58f4850a0cd47604f62c356": {
      "model_module": "@jupyter-widgets/controls",
      "model_module_version": "1.5.0",
      "model_name": "HTMLModel",
      "state": {
       "layout": "IPY_MODEL_e97a96bdacc7448db2c8e8b98ca32d20",
       "style": "IPY_MODEL_866a0200af1e4c97b96745b49ae8453f",
       "value": "<h4 style=\"font-size:14px;\">-Tupel von</h4>"
      }
     },
     "d552762f0d9345d28eae23708172c715": {
      "model_module": "@jupyter-widgets/base",
      "model_module_version": "1.2.0",
      "model_name": "LayoutModel",
      "state": {
       "justify_content": "center"
      }
     },
     "d555798225ee4918b133e0d08f7f3092": {
      "model_module": "@jupyter-widgets/controls",
      "model_module_version": "1.5.0",
      "model_name": "ButtonModel",
      "state": {
       "description": "base",
       "layout": "IPY_MODEL_d74690e46ff547c0a07fa196a535ce65",
       "style": "IPY_MODEL_c7d78c52a6ac4386b738122cb7ab72ac"
      }
     },
     "d555a910f6fe421aa6b8b7ffd3841bc9": {
      "model_module": "@jupyter-widgets/controls",
      "model_module_version": "1.5.0",
      "model_name": "DescriptionStyleModel",
      "state": {
       "description_width": "initial"
      }
     },
     "d55697c996904221ad150e527a14e15c": {
      "model_module": "@jupyter-widgets/controls",
      "model_module_version": "1.5.0",
      "model_name": "ButtonModel",
      "state": {
       "description": "Folge von Wortklassen",
       "layout": "IPY_MODEL_c00f56153b294a2393ff6a958c4643ff",
       "style": "IPY_MODEL_142a91137c6b4eb38515983316cbbac5"
      }
     },
     "d55d4ca1aea54ac5832c684e860360b8": {
      "model_module": "@jupyter-widgets/controls",
      "model_module_version": "1.5.0",
      "model_name": "DescriptionStyleModel",
      "state": {
       "description_width": "initial"
      }
     },
     "d5d6f3ae593e4c9bbd69b6851430ec71": {
      "model_module": "@jupyter-widgets/controls",
      "model_module_version": "1.5.0",
      "model_name": "CheckboxModel",
      "state": {
       "description": "Permutationstest",
       "disabled": false,
       "layout": "IPY_MODEL_c012939ddd2b40348f00eb105d97cb3c",
       "style": "IPY_MODEL_1b9d31e97a284237a5aa5a7d9f770c90",
       "value": false
      }
     },
     "d5da5db46209497a90cc95a7ad782980": {
      "model_module": "@jupyter-widgets/base",
      "model_module_version": "1.2.0",
      "model_name": "LayoutModel",
      "state": {
       "width": "150px"
      }
     },
     "d5efcd7cb6a0419b8753412edde05400": {
      "model_module": "@jupyter-widgets/controls",
      "model_module_version": "1.5.0",
      "model_name": "ButtonStyleModel",
      "state": {}
     },
     "d62e60f9f9364c1a97638da7ca82e793": {
      "model_module": "@jupyter-widgets/base",
      "model_module_version": "1.2.0",
      "model_name": "LayoutModel",
      "state": {}
     },
     "d658473fe95343bc8e659d3ad42b17d7": {
      "model_module": "@jupyter-widgets/controls",
      "model_module_version": "1.5.0",
      "model_name": "HTMLModel",
      "state": {
       "layout": "IPY_MODEL_50fcebf91ef743a0867e037e350d9023",
       "style": "IPY_MODEL_93201c9802af466c9857f1e25ab80446",
       "value": "<i>Wählen Sie die <ins>eine</ins> korrekte Antwort aus: </i>"
      }
     },
     "d68877685add47ef9b79fe2c2c3aa965": {
      "model_module": "@jupyter-widgets/base",
      "model_module_version": "1.2.0",
      "model_name": "LayoutModel",
      "state": {
       "justify_content": "center"
      }
     },
     "d69317d8c8914afdb9f6ae74c7727d21": {
      "model_module": "@jupyter-widgets/controls",
      "model_module_version": "1.5.0",
      "model_name": "ButtonStyleModel",
      "state": {}
     },
     "d6abe376d48a4455a24b97ae5704b8d0": {
      "model_module": "@jupyter-widgets/controls",
      "model_module_version": "1.5.0",
      "model_name": "DescriptionStyleModel",
      "state": {
       "description_width": ""
      }
     },
     "d6b1ca119927453c9a4ed72e4a6c2787": {
      "model_module": "@jupyter-widgets/base",
      "model_module_version": "1.2.0",
      "model_name": "LayoutModel",
      "state": {
       "width": "250px"
      }
     },
     "d6e0c49d75d943938b7844dcabf8fc1d": {
      "model_module": "@jupyter-widgets/controls",
      "model_module_version": "1.5.0",
      "model_name": "HBoxModel",
      "state": {
       "children": [
        "IPY_MODEL_c969b9f09b5c419d9b1a2de1be22924f",
        "IPY_MODEL_e78cd530525e490fb954053cb2cd674d"
       ],
       "layout": "IPY_MODEL_34b613dfc39c4f70baaa650ece56c382"
      }
     },
     "d73a59e735ba4841985c2c486a8d327d": {
      "model_module": "@jupyter-widgets/base",
      "model_module_version": "1.2.0",
      "model_name": "LayoutModel",
      "state": {
       "width": "250px"
      }
     },
     "d74690e46ff547c0a07fa196a535ce65": {
      "model_module": "@jupyter-widgets/base",
      "model_module_version": "1.2.0",
      "model_name": "LayoutModel",
      "state": {
       "width": "250px"
      }
     },
     "d77d0df640ba4813bc599cfe9187322e": {
      "model_module": "@jupyter-widgets/controls",
      "model_module_version": "1.5.0",
      "model_name": "ButtonModel",
      "state": {
       "description": "Korrekt?",
       "layout": "IPY_MODEL_0b3e8a49ffdc4462802a48fdc8803ee9",
       "style": "IPY_MODEL_53df90f6d72241968e928eeb82e50914"
      }
     },
     "d793865abcb04ec69f7c729574ed843e": {
      "model_module": "@jupyter-widgets/controls",
      "model_module_version": "1.5.0",
      "model_name": "VBoxModel",
      "state": {
       "children": [
        "IPY_MODEL_3981a33ff0c74e0e863aea9d68a3fd43",
        "IPY_MODEL_5221f37e5c3c4bc295815eca6637b38d",
        "IPY_MODEL_2a1b56e821c64febb59e5a1131e6aa2c",
        "IPY_MODEL_7f12994cd25341d0a5a618b786c897c1"
       ],
       "layout": "IPY_MODEL_3181af583cb941d7b1ef6a5e73da5332"
      }
     },
     "d7d8a6675a2c4a7eaf9e5e1835bac5f5": {
      "model_module": "@jupyter-widgets/base",
      "model_module_version": "1.2.0",
      "model_name": "LayoutModel",
      "state": {}
     },
     "d7ebe20a036448c68c2ee1ce04958d9d": {
      "model_module": "@jupyter-widgets/base",
      "model_module_version": "1.2.0",
      "model_name": "LayoutModel",
      "state": {
       "width": "150px"
      }
     },
     "d7fbadcef03b4f03917a62e1714a8e4c": {
      "model_module": "@jupyter-widgets/base",
      "model_module_version": "1.2.0",
      "model_name": "LayoutModel",
      "state": {}
     },
     "d80af0fa22b44ec0b682d39f423d516b": {
      "model_module": "@jupyter-widgets/base",
      "model_module_version": "1.2.0",
      "model_name": "LayoutModel",
      "state": {
       "width": "600px"
      }
     },
     "d80fb5e449224bc69b893902cd7a69a9": {
      "model_module": "@jupyter-widgets/controls",
      "model_module_version": "1.5.0",
      "model_name": "CheckboxModel",
      "state": {
       "description": "Es fungiert als Satzglied mit der syntaktischen Funktion Adverbial.",
       "disabled": false,
       "layout": "IPY_MODEL_e5e7cb8b8b384769a28aee9b61ef85c5",
       "style": "IPY_MODEL_84618fccbb12411cb2ae59f2d8d1157f",
       "value": true
      }
     },
     "d81f88d719c6403c882298a425aaff51": {
      "model_module": "@jupyter-widgets/controls",
      "model_module_version": "1.5.0",
      "model_name": "ButtonStyleModel",
      "state": {}
     },
     "d84a89ebc43144438cca8033ada04113": {
      "model_module": "@jupyter-widgets/controls",
      "model_module_version": "1.5.0",
      "model_name": "ButtonStyleModel",
      "state": {}
     },
     "d8807f4953cd4d34840594d2a34c274f": {
      "model_module": "@jupyter-widgets/base",
      "model_module_version": "1.2.0",
      "model_name": "LayoutModel",
      "state": {
       "width": "250px"
      }
     },
     "d892de3440784b95abe27850a716fc94": {
      "model_module": "@jupyter-widgets/controls",
      "model_module_version": "1.5.0",
      "model_name": "VBoxModel",
      "state": {
       "children": [
        "IPY_MODEL_b01bf9ffd1664abd96ac45c79fb50ba5",
        "IPY_MODEL_1cf621e2272643e1bd11cbe5a5880eb7",
        "IPY_MODEL_8993aa7ba116423ba7ac546030491f44",
        "IPY_MODEL_928b62ed56934ce397f16c21bba18854"
       ],
       "layout": "IPY_MODEL_9906ed9e0bc743a79f3ceb86f079e81f"
      }
     },
     "d8a2e5633fa64bea9deb99bd1968365b": {
      "model_module": "@jupyter-widgets/base",
      "model_module_version": "1.2.0",
      "model_name": "LayoutModel",
      "state": {}
     },
     "d8bc776f872943e3ba10f09b775fd557": {
      "model_module": "@jupyter-widgets/controls",
      "model_module_version": "1.5.0",
      "model_name": "DescriptionStyleModel",
      "state": {
       "description_width": ""
      }
     },
     "d93c4e3039ae497cb7dd38b90a1851de": {
      "model_module": "@jupyter-widgets/controls",
      "model_module_version": "1.5.0",
      "model_name": "ButtonModel",
      "state": {
       "description": "gerund",
       "layout": "IPY_MODEL_d73a59e735ba4841985c2c486a8d327d",
       "style": "IPY_MODEL_86c120ad34a8487ca26294e6e591eb33"
      }
     },
     "d94a215d8ac34764be7faf3621440a78": {
      "model_module": "@jupyter-widgets/controls",
      "model_module_version": "1.5.0",
      "model_name": "ButtonModel",
      "state": {
       "description": "simple past",
       "layout": "IPY_MODEL_5509d35b1e474571bf3a611c66e14f55",
       "style": "IPY_MODEL_d5efcd7cb6a0419b8753412edde05400"
      }
     },
     "d94c9da66be54cd283b1ca4303c5648e": {
      "model_module": "@jupyter-widgets/base",
      "model_module_version": "1.2.0",
      "model_name": "LayoutModel",
      "state": {}
     },
     "d967e2e6fb2b41fb842b2e572bc2422e": {
      "model_module": "@jupyter-widgets/controls",
      "model_module_version": "1.5.0",
      "model_name": "ButtonModel",
      "state": {
       "description": "Wortfolge",
       "layout": "IPY_MODEL_16d2a923a87b4ca18146a51e9999c377",
       "style": "IPY_MODEL_5d7acbd2477646828bbb3c5900c501cf"
      }
     },
     "d9e2daaef37448b889ba718c03e1d3e6": {
      "model_module": "@jupyter-widgets/controls",
      "model_module_version": "1.5.0",
      "model_name": "ButtonStyleModel",
      "state": {}
     },
     "d9f9a7c66dc348cab74956c9051fc906": {
      "model_module": "@jupyter-widgets/controls",
      "model_module_version": "1.5.0",
      "model_name": "HTMLModel",
      "state": {
       "layout": "IPY_MODEL_77e2c3cbdf99458cb0c1386da24d965d",
       "style": "IPY_MODEL_a2e1b1f89ab443d786f61319fada7213",
       "value": "<h4 style=\"font-size:14px;\">Welcher ist der richtig permutierte Satz?</h4>"
      }
     },
     "da029504705849bdb79c162c16f63f95": {
      "model_module": "@jupyter-widgets/controls",
      "model_module_version": "1.5.0",
      "model_name": "HBoxModel",
      "state": {
       "children": [
        "IPY_MODEL_0286b08d197346e396912470963d17fa"
       ],
       "layout": "IPY_MODEL_322bb521372e403db66d9eec1c7a69a4"
      }
     },
     "da66d4fd84d54b479350cd6789e08034": {
      "model_module": "@jupyter-widgets/controls",
      "model_module_version": "1.5.0",
      "model_name": "ButtonModel",
      "state": {
       "description": "Adverb",
       "layout": "IPY_MODEL_9b76ba601d774a469dbc7f34765eb9b7",
       "style": "IPY_MODEL_86172652330543f6afb69301f971c826"
      }
     },
     "da811ac492eb4f07980b656e20978b21": {
      "model_module": "@jupyter-widgets/controls",
      "model_module_version": "1.5.0",
      "model_name": "ButtonStyleModel",
      "state": {}
     },
     "da841e4428d9403b89fd0b74502dabc4": {
      "model_module": "@jupyter-widgets/base",
      "model_module_version": "1.2.0",
      "model_name": "LayoutModel",
      "state": {
       "justify_content": "center"
      }
     },
     "dad6cd863c6a4d1789ae9808c49dfe9c": {
      "model_module": "@jupyter-widgets/controls",
      "model_module_version": "1.5.0",
      "model_name": "ButtonModel",
      "state": {
       "description": "simple past",
       "layout": "IPY_MODEL_fc0e473529c24147a92fe6ee799b00e8",
       "style": "IPY_MODEL_1a88796e5be140ce85a64cb819128804"
      }
     },
     "dadf962f3a6d4bd8955fef2e8a7e8f72": {
      "model_module": "@jupyter-widgets/controls",
      "model_module_version": "1.5.0",
      "model_name": "ButtonModel",
      "state": {
       "description": "3rd singular present",
       "layout": "IPY_MODEL_c1d1b8469f3e4b9e84e5cb3da3455703",
       "style": "IPY_MODEL_22e10164c4ec48099fa09c753c99bd09"
      }
     },
     "db65e236b5684e438a72560e879198a9": {
      "model_module": "@jupyter-widgets/controls",
      "model_module_version": "1.5.0",
      "model_name": "ButtonModel",
      "state": {
       "description": "Folge von Wortklassen",
       "layout": "IPY_MODEL_38391be0fdf24facae66d37d2bbdc672",
       "style": "IPY_MODEL_2a1c5f49dc9d45e69ebf68d6dff3d81e"
      }
     },
     "db8e3fd0739c4bee93e0ca77b2592dba": {
      "model_module": "@jupyter-widgets/controls",
      "model_module_version": "1.5.0",
      "model_name": "ButtonStyleModel",
      "state": {}
     },
     "db932a2dffe04288bee155c267ed67c3": {
      "model_module": "@jupyter-widgets/base",
      "model_module_version": "1.2.0",
      "model_name": "LayoutModel",
      "state": {
       "justify_content": "center"
      }
     },
     "dc9a85e2707d44138378aff3f5018fb2": {
      "model_module": "@jupyter-widgets/controls",
      "model_module_version": "1.5.0",
      "model_name": "ButtonModel",
      "state": {
       "description": "past participle",
       "layout": "IPY_MODEL_9953abf238b54155b0bb94ca3b1c7040",
       "style": "IPY_MODEL_509a284d40134be39576ff304637f57c"
      }
     },
     "dcba7fb756a1420fb38040e3ec5d0930": {
      "model_module": "@jupyter-widgets/controls",
      "model_module_version": "1.5.0",
      "model_name": "CheckboxModel",
      "state": {
       "description": "gleiche syntagmatische Position",
       "disabled": false,
       "layout": "IPY_MODEL_1ddb66a46b98435f893cb934aae0cdb9",
       "style": "IPY_MODEL_9a7277e4dfe842498104edf84d599361",
       "value": false
      }
     },
     "dd076f6c321b475d9508b578a92a1fbc": {
      "model_module": "@jupyter-widgets/controls",
      "model_module_version": "1.5.0",
      "model_name": "HTMLModel",
      "state": {
       "layout": "IPY_MODEL_9012e87389f0459e946d134b71d4ce00",
       "style": "IPY_MODEL_8e7b6212e916417b86a635a14a83c1ae",
       "value": "<i>Wählen Sie die <ins>eine</ins> korrekte Antwort aus: </i>"
      }
     },
     "dd407d1d09c543d0a3b0261974684299": {
      "model_module": "@jupyter-widgets/base",
      "model_module_version": "1.2.0",
      "model_name": "LayoutModel",
      "state": {
       "justify_content": "center"
      }
     },
     "dd56cccacec34f1995e28a4360d83f9e": {
      "model_module": "@jupyter-widgets/controls",
      "model_module_version": "1.5.0",
      "model_name": "ButtonModel",
      "state": {
       "description": "base",
       "layout": "IPY_MODEL_73560554859049038bdf2a15af9562dc",
       "style": "IPY_MODEL_76e113a6001141d8930428ce2badad88"
      }
     },
     "dd7cd821934b4fdebcea725db7d4c2b7": {
      "model_module": "@jupyter-widgets/base",
      "model_module_version": "1.2.0",
      "model_name": "LayoutModel",
      "state": {
       "width": "250px"
      }
     },
     "dd94575bdf3d454fb076fe79a2ca389d": {
      "model_module": "@jupyter-widgets/controls",
      "model_module_version": "1.5.0",
      "model_name": "ButtonStyleModel",
      "state": {
       "button_color": "lightgreen"
      }
     },
     "ddadd407c2a2422eb89aebd8871a9e52": {
      "model_module": "@jupyter-widgets/controls",
      "model_module_version": "1.5.0",
      "model_name": "HTMLModel",
      "state": {
       "layout": "IPY_MODEL_5a40625002c2451bbb9f7c4dcf287f6c",
       "style": "IPY_MODEL_c1c2f236e77d4baeb9431739924a70a2",
       "value": "<h4 style=\"font-size:14px;\">In der ersten Zeile des Codes werden</h4>"
      }
     },
     "ddb4f399f1a04bc48602aa741c0fe228": {
      "model_module": "@jupyter-widgets/base",
      "model_module_version": "1.2.0",
      "model_name": "LayoutModel",
      "state": {
       "width": "250px"
      }
     },
     "ddd8b7be8fc54dd694935a1b0e396a72": {
      "model_module": "@jupyter-widgets/controls",
      "model_module_version": "1.5.0",
      "model_name": "HTMLModel",
      "state": {
       "layout": "IPY_MODEL_bb3d1bb34978451b88987d6d89f8f06b",
       "style": "IPY_MODEL_9722518d0ce94c11813a51bd73cdb0cd",
       "value": "<i>Wählen Sie die <ins>eine</ins> korrekte Antwort aus: </i>"
      }
     },
     "ddecd98515ed42679083d82deda1a505": {
      "model_module": "@jupyter-widgets/controls",
      "model_module_version": "1.5.0",
      "model_name": "VBoxModel",
      "state": {
       "children": [
        "IPY_MODEL_cabaa0f1f9fc41e78bb4b9c328f5d5f6",
        "IPY_MODEL_fd827d2cdef6473c8c8638f44beacafd",
        "IPY_MODEL_3abf8191c5be42d59b4ab7c7791d884f"
       ],
       "layout": "IPY_MODEL_3754332a2be9466c8b8af4560efcb81d"
      }
     },
     "ddfff279431e4730b6eb6c8c1a2d746b": {
      "model_module": "@jupyter-widgets/base",
      "model_module_version": "1.2.0",
      "model_name": "LayoutModel",
      "state": {
       "justify_content": "center"
      }
     },
     "de472dccbcea4e779ba6b5ea6c21e9a5": {
      "model_module": "@jupyter-widgets/base",
      "model_module_version": "1.2.0",
      "model_name": "LayoutModel",
      "state": {
       "justify_content": "center"
      }
     },
     "de52b2df1cb24e8a9f63cad94b757d69": {
      "model_module": "@jupyter-widgets/controls",
      "model_module_version": "1.5.0",
      "model_name": "DescriptionStyleModel",
      "state": {
       "description_width": ""
      }
     },
     "de9fbaa2a9a64b3484965b5b2faf3894": {
      "model_module": "@jupyter-widgets/controls",
      "model_module_version": "1.5.0",
      "model_name": "BoxModel",
      "state": {
       "children": [
        "IPY_MODEL_79e27a107cdb42a983291bf56e12570e",
        "IPY_MODEL_22ef8f2c50e94ffdab1450a4c3ff4a93",
        "IPY_MODEL_0c192d16e64347d3b857ba7fa81ed391",
        "IPY_MODEL_9551f97a5a4740a78472fb74d40cfb05",
        "IPY_MODEL_47e6f463fa2c4ce0856dcbf183e43d42",
        "IPY_MODEL_5d4d927b5b8c46b7ae041cbc1ade48d9",
        "IPY_MODEL_aa31182a70ed44b89d5a95cba0834c49",
        "IPY_MODEL_d289d45ac9e347e5a575feb61c8b9da4",
        "IPY_MODEL_8eef3ec1e6ba49338280e9e061637444"
       ],
       "layout": "IPY_MODEL_820fe580d5284880b42b00291498275d"
      }
     },
     "debe411adf894f97b68c63d076aa1be3": {
      "model_module": "@jupyter-widgets/controls",
      "model_module_version": "1.5.0",
      "model_name": "CheckboxModel",
      "state": {
       "description": "Koordinationstest",
       "disabled": false,
       "layout": "IPY_MODEL_758d40cc7f184243b2264831f40ab064",
       "style": "IPY_MODEL_809cc76b7f94488a86a4d67b997e6c29",
       "value": false
      }
     },
     "dec0f76ea2fd43919075d0b3c4d22cf7": {
      "model_module": "@jupyter-widgets/base",
      "model_module_version": "1.2.0",
      "model_name": "LayoutModel",
      "state": {}
     },
     "dec4e8b0046c4e8f8b67f70f2cfd6f21": {
      "model_module": "@jupyter-widgets/controls",
      "model_module_version": "1.5.0",
      "model_name": "ButtonModel",
      "state": {
       "description": "Korrekt?",
       "layout": "IPY_MODEL_6c8c8ed347284adfb32adb7390169a14",
       "style": "IPY_MODEL_a1ce68c2c1474ebf9030b8b80ffe4d44"
      }
     },
     "df0d40f06edd40ff99ad24d917bfbdca": {
      "model_module": "@jupyter-widgets/controls",
      "model_module_version": "1.5.0",
      "model_name": "CheckboxModel",
      "state": {
       "description": "gleiche syntagmatische Position",
       "disabled": false,
       "layout": "IPY_MODEL_d4b66e97a3544beb907ff90167c5530e",
       "style": "IPY_MODEL_198a26737df24c08a1b39654f3bf7113",
       "value": false
      }
     },
     "df2dd704d8f540828147f50216433f75": {
      "model_module": "@jupyter-widgets/controls",
      "model_module_version": "1.5.0",
      "model_name": "HTMLModel",
      "state": {
       "layout": "IPY_MODEL_c9377b564c4d4786b30875e53bc05cda",
       "style": "IPY_MODEL_255efa92e1cf45ec83b793cdf3fb4e5a",
       "value": "<i>Wählen Sie die <ins>eine</ins> korrekte Antwort aus: </i>"
      }
     },
     "df372d293da54f16835b9361ccd68db2": {
      "model_module": "@jupyter-widgets/controls",
      "model_module_version": "1.5.0",
      "model_name": "HTMLModel",
      "state": {
       "layout": "IPY_MODEL_a6b86c60204b4022b4f7f50b3e398c07",
       "style": "IPY_MODEL_d6abe376d48a4455a24b97ae5704b8d0",
       "value": "<i>Markieren Sie <ins>alle</ins> passenden Antworten: </i>"
      }
     },
     "df4ae3dfe6684994a27eef73bd4a4f19": {
      "model_module": "@jupyter-widgets/controls",
      "model_module_version": "1.5.0",
      "model_name": "DescriptionStyleModel",
      "state": {
       "description_width": ""
      }
     },
     "dfc159cb5f884c078d3a1a3471c42852": {
      "model_module": "@jupyter-widgets/controls",
      "model_module_version": "1.5.0",
      "model_name": "DescriptionStyleModel",
      "state": {
       "description_width": ""
      }
     },
     "dfc4378767464c7282ffd8d7b4143cf4": {
      "model_module": "@jupyter-widgets/controls",
      "model_module_version": "1.5.0",
      "model_name": "BoxModel",
      "state": {
       "children": [
        "IPY_MODEL_eed1920418ed42e4bd5c47d6ab63bd42",
        "IPY_MODEL_643a9ac519164df4b4fa2fd33cc14217",
        "IPY_MODEL_7331225fc0a146beaaad09e28ffcb7f6",
        "IPY_MODEL_3405e46db78546128b3a99d01ba5d73d",
        "IPY_MODEL_4867ccc7c8e84881a350d331b27680eb",
        "IPY_MODEL_a311f50a336a4ca1819a75caf02a65f0",
        "IPY_MODEL_e865c075e42147f0ab23b41bcbd83ff3"
       ],
       "layout": "IPY_MODEL_06b494de877942f59a63afb0b43b1c54"
      }
     },
     "dfd955d9fd224bd58ef338e273cb8965": {
      "model_module": "@jupyter-widgets/controls",
      "model_module_version": "1.5.0",
      "model_name": "ButtonModel",
      "state": {
       "description": "Folge von Wortklassen",
       "layout": "IPY_MODEL_7622df1dc5af4a72b028041f5a317716",
       "style": "IPY_MODEL_3b674afe9a5b4a44b63cb464164b8251"
      }
     },
     "dfde7232ca3143fcb05e9a10b6f808e8": {
      "model_module": "@jupyter-widgets/base",
      "model_module_version": "1.2.0",
      "model_name": "LayoutModel",
      "state": {
       "align_content": "stretch",
       "align_items": "stretch",
       "display": "inline-flex",
       "flex": "flex-grow",
       "flex_flow": "row wrap",
       "justify_content": "flex-start"
      }
     },
     "e001b25576ba4d319ae07c99031f968e": {
      "model_module": "@jupyter-widgets/controls",
      "model_module_version": "1.5.0",
      "model_name": "DescriptionStyleModel",
      "state": {
       "description_width": "initial"
      }
     },
     "e002a45afc5c4d3d847db42316339596": {
      "model_module": "@jupyter-widgets/controls",
      "model_module_version": "1.5.0",
      "model_name": "DescriptionStyleModel",
      "state": {
       "description_width": "initial"
      }
     },
     "e06becc101f949fabf5a23da1b0a8ec6": {
      "model_module": "@jupyter-widgets/base",
      "model_module_version": "1.2.0",
      "model_name": "LayoutModel",
      "state": {}
     },
     "e075cc6ad04e4f66b847ad82e975e05e": {
      "model_module": "@jupyter-widgets/base",
      "model_module_version": "1.2.0",
      "model_name": "LayoutModel",
      "state": {
       "justify_content": "center"
      }
     },
     "e08d36ff4f094a7885bf707b8d18ae51": {
      "model_module": "@jupyter-widgets/controls",
      "model_module_version": "1.5.0",
      "model_name": "ButtonStyleModel",
      "state": {}
     },
     "e092278fb7694960a2c92957bf027376": {
      "model_module": "@jupyter-widgets/controls",
      "model_module_version": "1.5.0",
      "model_name": "DescriptionStyleModel",
      "state": {
       "description_width": "initial"
      }
     },
     "e0990e53b749452dab20361c3da5e849": {
      "model_module": "@jupyter-widgets/controls",
      "model_module_version": "1.5.0",
      "model_name": "BoxModel",
      "state": {
       "children": [
        "IPY_MODEL_ddadd407c2a2422eb89aebd8871a9e52",
        "IPY_MODEL_092d34d9bd1a4519b63f2618cb63680b",
        "IPY_MODEL_395da1cf276d415dafc6ffebcd3a6cc5",
        "IPY_MODEL_88b7946108e3467691b4960fcaa85ef3",
        "IPY_MODEL_cb6d26390fde47129ee2ea4ef44f127e",
        "IPY_MODEL_3a07d9918b2345f398fd7698200b3241",
        "IPY_MODEL_0ddc2192563e43619cccccce6d1618e1",
        "IPY_MODEL_1378a6c0e97e4c599d27e940a670f10f",
        "IPY_MODEL_25f4ddde71c04004b3bccccf10af348d"
       ],
       "layout": "IPY_MODEL_dfde7232ca3143fcb05e9a10b6f808e8"
      }
     },
     "e0b46e6179d94652a9083e4ccb845377": {
      "model_module": "@jupyter-widgets/controls",
      "model_module_version": "1.5.0",
      "model_name": "VBoxModel",
      "state": {
       "children": [
        "IPY_MODEL_09d94d33fce1476f850ba9ada5611185",
        "IPY_MODEL_f0d0c1c3c67743218fe6f6cd5f04f123",
        "IPY_MODEL_4020f24d3e80444cbecf959d6496d25d",
        "IPY_MODEL_cd366f28e91e4c8fbea400c3bf0fb539"
       ],
       "layout": "IPY_MODEL_9c99d4c2de6e44c3a5375db345bc153e"
      }
     },
     "e0bbff70a1c6490c9a818846dd512a58": {
      "model_module": "@jupyter-widgets/controls",
      "model_module_version": "1.5.0",
      "model_name": "HTMLModel",
      "state": {
       "layout": "IPY_MODEL_b7ef92c5eb6c4bdcbbf7755d16252583",
       "style": "IPY_MODEL_67cd3f9942f9409d82f86a73d969e635",
       "value": "<h4 style=\"font-size:14px;\">Phrasen verkettet werden können. Das Ergebnis ist eine Phrase des gleichen Typs, also der gleichen</h4>"
      }
     },
     "e0d562daf29c4e0eb0cfc6199ce572f8": {
      "model_module": "@jupyter-widgets/base",
      "model_module_version": "1.2.0",
      "model_name": "LayoutModel",
      "state": {
       "justify_content": "center"
      }
     },
     "e1110c590258429d81580508f0791043": {
      "model_module": "@jupyter-widgets/controls",
      "model_module_version": "1.5.0",
      "model_name": "DescriptionStyleModel",
      "state": {
       "description_width": ""
      }
     },
     "e12c526ad8544eafa81668832fcfc8f8": {
      "model_module": "@jupyter-widgets/controls",
      "model_module_version": "1.5.0",
      "model_name": "DescriptionStyleModel",
      "state": {
       "description_width": "initial"
      }
     },
     "e150da553c9c4e3aa1e987f646b1f13c": {
      "model_module": "@jupyter-widgets/controls",
      "model_module_version": "1.5.0",
      "model_name": "HTMLModel",
      "state": {
       "layout": "IPY_MODEL_d1536f7a315e48bdb961ab875105b23e",
       "style": "IPY_MODEL_a33bb5e5910b49cba76300a079ec948a",
       "value": "<h4 style=\"font-size:14px;\">Das Partizip <i>Verloren<i> ist eine</h4>"
      }
     },
     "e15ba6107573436084be25b275c83513": {
      "model_module": "@jupyter-widgets/controls",
      "model_module_version": "1.5.0",
      "model_name": "HTMLModel",
      "state": {
       "layout": "IPY_MODEL_183f621c553c49fc9ce9a0918bac3958",
       "style": "IPY_MODEL_7dc1f6bfae464015813ad2b7279a3fb9",
       "value": "<i>Wählen Sie die <ins>eine</ins> korrekte Antwort aus: </i>"
      }
     },
     "e15f4079defd4624932761c7c3dcb43b": {
      "model_module": "@jupyter-widgets/controls",
      "model_module_version": "1.5.0",
      "model_name": "HTMLModel",
      "state": {
       "layout": "IPY_MODEL_831e2e2678414332af3045b6abd31171",
       "style": "IPY_MODEL_18fed0ccf62b4bd8b5414f7c0fe21810",
       "value": "<h4 style=\"font-size:14px;\">, aber keine</h4>"
      }
     },
     "e16db981e88143a89cd6e8bbb20eda74": {
      "model_module": "@jupyter-widgets/controls",
      "model_module_version": "1.5.0",
      "model_name": "DescriptionStyleModel",
      "state": {
       "description_width": ""
      }
     },
     "e17aec15b4e44422acd2c1879b2e745c": {
      "model_module": "@jupyter-widgets/base",
      "model_module_version": "1.2.0",
      "model_name": "LayoutModel",
      "state": {}
     },
     "e191084294b543b8a59bb5fb338ef686": {
      "model_module": "@jupyter-widgets/base",
      "model_module_version": "1.2.0",
      "model_name": "LayoutModel",
      "state": {
       "justify_content": "center"
      }
     },
     "e1a8f40c08ee4bbeb7aa50d6f9ea5199": {
      "model_module": "@jupyter-widgets/controls",
      "model_module_version": "1.5.0",
      "model_name": "HTMLModel",
      "state": {
       "layout": "IPY_MODEL_f9ec8126de044b61846f44d9c0ea7eb5",
       "style": "IPY_MODEL_d4940a15a0f444f4a022cc5ce2771243",
       "value": "<i>Wählen Sie die <ins>eine</ins> korrekte Antwort aus: </i>"
      }
     },
     "e1aadfeaf2ba4ddd9fa8534eb1ffe571": {
      "model_module": "@jupyter-widgets/base",
      "model_module_version": "1.2.0",
      "model_name": "LayoutModel",
      "state": {}
     },
     "e2020e3ef9d74040a66e8fc66e82ba58": {
      "model_module": "@jupyter-widgets/base",
      "model_module_version": "1.2.0",
      "model_name": "LayoutModel",
      "state": {}
     },
     "e210eb2a87e34edb9de963421dac4208": {
      "model_module": "@jupyter-widgets/controls",
      "model_module_version": "1.5.0",
      "model_name": "DropdownModel",
      "state": {
       "_options_labels": [
        "Mittelfeld",
        "Nachfeld",
        "Vorfeld",
        " "
       ],
       "index": 3,
       "layout": "IPY_MODEL_50420d3603a343f19a5cb5870c3ced43",
       "style": "IPY_MODEL_c3490e40180449f4916f9bebd1cc40c7"
      }
     },
     "e25f23287e1d4c808e61a50d93e02ba1": {
      "model_module": "@jupyter-widgets/controls",
      "model_module_version": "1.5.0",
      "model_name": "DescriptionStyleModel",
      "state": {
       "description_width": ""
      }
     },
     "e268eb81d0f04b8ca51b1d5031287ff2": {
      "model_module": "@jupyter-widgets/controls",
      "model_module_version": "1.5.0",
      "model_name": "DropdownModel",
      "state": {
       "_options_labels": [
        " ",
        "NP",
        "PP",
        "VP",
        " "
       ],
       "index": 0,
       "layout": "IPY_MODEL_34ae6fd6d6124f03839654bea5a9ce0d",
       "style": "IPY_MODEL_4135eaad379545439325069112fede72"
      }
     },
     "e26cdae111e847f5a772b06d6779fdf7": {
      "model_module": "@jupyter-widgets/base",
      "model_module_version": "1.2.0",
      "model_name": "LayoutModel",
      "state": {}
     },
     "e26fd55e75b446bf830beded99ba9055": {
      "model_module": "@jupyter-widgets/controls",
      "model_module_version": "1.5.0",
      "model_name": "DescriptionStyleModel",
      "state": {
       "description_width": ""
      }
     },
     "e2beb826d93041c5927b47c8b860be54": {
      "model_module": "@jupyter-widgets/base",
      "model_module_version": "1.2.0",
      "model_name": "LayoutModel",
      "state": {}
     },
     "e2c2ffdeefb04c69896e79b585c07c8c": {
      "model_module": "@jupyter-widgets/controls",
      "model_module_version": "1.5.0",
      "model_name": "ButtonModel",
      "state": {
       "description": "3rd singular present",
       "layout": "IPY_MODEL_70d34764ec7549f6b46f046af893ac83",
       "style": "IPY_MODEL_3ba72ea16764416ebcedcdc4fa9726c6"
      }
     },
     "e2d98d9925164e1babb20f6763dce690": {
      "model_module": "@jupyter-widgets/controls",
      "model_module_version": "1.5.0",
      "model_name": "ButtonStyleModel",
      "state": {
       "button_color": "lightgreen"
      }
     },
     "e2e01d75da6646a6835a98dd998b2ad6": {
      "model_module": "@jupyter-widgets/controls",
      "model_module_version": "1.5.0",
      "model_name": "ButtonStyleModel",
      "state": {
       "button_color": "lightgreen"
      }
     },
     "e2ff7fa678a04de6969fb90c333a9a47": {
      "model_module": "@jupyter-widgets/controls",
      "model_module_version": "1.5.0",
      "model_name": "VBoxModel",
      "state": {
       "children": [
        "IPY_MODEL_95de545c05244f61b4afd39862449bb3",
        "IPY_MODEL_f627ef8a6f1e493699a9c1d795269068",
        "IPY_MODEL_b4c02c50819f4d5caab196f60b6ee8a9"
       ],
       "layout": "IPY_MODEL_826bdf02a29149388a6b603da269f44e"
      }
     },
     "e308a47bc7454a7a8e7ff653d4d3b370": {
      "model_module": "@jupyter-widgets/controls",
      "model_module_version": "1.5.0",
      "model_name": "DescriptionStyleModel",
      "state": {
       "description_width": ""
      }
     },
     "e3475664975344b5a8dd840e9d382cd9": {
      "model_module": "@jupyter-widgets/base",
      "model_module_version": "1.2.0",
      "model_name": "LayoutModel",
      "state": {}
     },
     "e3712827218642799b8a5792722064ae": {
      "model_module": "@jupyter-widgets/controls",
      "model_module_version": "1.5.0",
      "model_name": "DescriptionStyleModel",
      "state": {
       "description_width": ""
      }
     },
     "e3a91f7553534e96a00006c4eb6d9274": {
      "model_module": "@jupyter-widgets/controls",
      "model_module_version": "1.5.0",
      "model_name": "DescriptionStyleModel",
      "state": {
       "description_width": ""
      }
     },
     "e3b25cd9d7bd402d87554d8846c2cd39": {
      "model_module": "@jupyter-widgets/controls",
      "model_module_version": "1.5.0",
      "model_name": "DropdownModel",
      "state": {
       "_options_labels": [
        "POS",
        "POS+Wort+POS",
        "Wort+POS-Tag",
        " "
       ],
       "index": 3,
       "layout": "IPY_MODEL_37945fdcf19848f1b41ab260f449e6c6",
       "style": "IPY_MODEL_2814c334324e4d7aadffff15be7b6c20"
      }
     },
     "e3b3d9000b3545738e6f9b67df3a1873": {
      "model_module": "@jupyter-widgets/controls",
      "model_module_version": "1.5.0",
      "model_name": "ButtonStyleModel",
      "state": {
       "button_color": "lightgreen"
      }
     },
     "e3d89f74b9aa41d681591161c48aac04": {
      "model_module": "@jupyter-widgets/base",
      "model_module_version": "1.2.0",
      "model_name": "LayoutModel",
      "state": {
       "width": "250px"
      }
     },
     "e3ed9b568dc64f87b19dd7685909c79b": {
      "model_module": "@jupyter-widgets/controls",
      "model_module_version": "1.5.0",
      "model_name": "ButtonModel",
      "state": {
       "description": "Adverb",
       "layout": "IPY_MODEL_620d756b5bc0416eaaf1dc93d2131dff",
       "style": "IPY_MODEL_bcd7b8a0410a44d5887f871afbb2d4a9"
      }
     },
     "e3f34fbb42cc40e7857bdbbf5b22dbbf": {
      "model_module": "@jupyter-widgets/base",
      "model_module_version": "1.2.0",
      "model_name": "LayoutModel",
      "state": {
       "width": "250px"
      }
     },
     "e3f62e29e7c544259b8a0128cd25279e": {
      "model_module": "@jupyter-widgets/controls",
      "model_module_version": "1.5.0",
      "model_name": "VBoxModel",
      "state": {
       "children": [
        "IPY_MODEL_bb379464499348d6b700864abcb0d5cb",
        "IPY_MODEL_e1a8f40c08ee4bbeb7aa50d6f9ea5199",
        "IPY_MODEL_575372c0a81442029b9546b413153dda",
        "IPY_MODEL_e7ba6801d66145dca55b2eed01bf3502"
       ],
       "layout": "IPY_MODEL_ee0e516abc1f4a3094467415cc42aa72"
      }
     },
     "e4338007f26d451493c44b92c0584fe4": {
      "model_module": "@jupyter-widgets/controls",
      "model_module_version": "1.5.0",
      "model_name": "DescriptionStyleModel",
      "state": {
       "description_width": ""
      }
     },
     "e44c7a1803f44ce182d7a9af7e6a2ce9": {
      "model_module": "@jupyter-widgets/controls",
      "model_module_version": "1.5.0",
      "model_name": "DropdownModel",
      "state": {
       "_options_labels": [
        "kürzere",
        "längere",
        " "
       ],
       "index": 0,
       "layout": "IPY_MODEL_640f87af7b27463f8c7a78dbe8e58b80",
       "style": "IPY_MODEL_acd97d20e64546e49a9349f7d521058d"
      }
     },
     "e44cc7fa996146ffa4459c4109765da7": {
      "model_module": "@jupyter-widgets/base",
      "model_module_version": "1.2.0",
      "model_name": "LayoutModel",
      "state": {}
     },
     "e47613cffb634a59875eda727465521e": {
      "model_module": "@jupyter-widgets/controls",
      "model_module_version": "1.5.0",
      "model_name": "VBoxModel",
      "state": {
       "children": [
        "IPY_MODEL_d20b299f098742e589bbee4ee45409c2",
        "IPY_MODEL_cf88528c4fb94d2db57491ed0114d559",
        "IPY_MODEL_e9855631c0c34716916bcf0c53e3f799",
        "IPY_MODEL_adb7667568ae4e96af54a5a473beb1a0",
        "IPY_MODEL_156a2871fe644736bfe0a16359095953"
       ],
       "layout": "IPY_MODEL_7863da3de52f4388bc6626df80ac2951"
      }
     },
     "e48fe6e42d2546bcb0b2c96ff4c07e51": {
      "model_module": "@jupyter-widgets/base",
      "model_module_version": "1.2.0",
      "model_name": "LayoutModel",
      "state": {}
     },
     "e4ebd8bc001d4dd293fedb5b7ec91ac0": {
      "model_module": "@jupyter-widgets/controls",
      "model_module_version": "1.5.0",
      "model_name": "VBoxModel",
      "state": {
       "children": [
        "IPY_MODEL_9e36d0c6ba044aa5a7c13ee6bd38019d",
        "IPY_MODEL_e74cec94ec1747a980b94210a193914f",
        "IPY_MODEL_c54d79128fd245499f2119ab2ec62c1c",
        "IPY_MODEL_2e1ba96986064a708dd0c1099f3858a0"
       ],
       "layout": "IPY_MODEL_46c89f834d4146278ab93d720bbf877b"
      }
     },
     "e51abe0a678d499e8229a8417f0ab651": {
      "model_module": "@jupyter-widgets/controls",
      "model_module_version": "1.5.0",
      "model_name": "DescriptionStyleModel",
      "state": {
       "description_width": ""
      }
     },
     "e52df1b06e3e41528f88dd1865654d46": {
      "model_module": "@jupyter-widgets/base",
      "model_module_version": "1.2.0",
      "model_name": "LayoutModel",
      "state": {}
     },
     "e583fc9329a9475d948012e343e03fde": {
      "model_module": "@jupyter-widgets/controls",
      "model_module_version": "1.5.0",
      "model_name": "CheckboxModel",
      "state": {
       "description": "Nur mit einem Schritt beginnt auch eine Reise von tausend Meilen.",
       "disabled": false,
       "layout": "IPY_MODEL_3b95d14484764aabb4170af2a62fb0f3",
       "style": "IPY_MODEL_9a5b499051cf4eb58ea4b917c8fe298f",
       "value": true
      }
     },
     "e5b95e2dd7704ad9843522947138e5fe": {
      "model_module": "@jupyter-widgets/controls",
      "model_module_version": "1.5.0",
      "model_name": "CheckboxModel",
      "state": {
       "description": "Zu einem Wort werden alle Synonyme gefunden.",
       "disabled": false,
       "layout": "IPY_MODEL_b521f16b5dec432189e2270de4ba2e9f",
       "style": "IPY_MODEL_6e0a63d3e5cb4e06a9f931f201f7da16",
       "value": false
      }
     },
     "e5e7cb8b8b384769a28aee9b61ef85c5": {
      "model_module": "@jupyter-widgets/base",
      "model_module_version": "1.2.0",
      "model_name": "LayoutModel",
      "state": {
       "width": "600px"
      }
     },
     "e5fe20ca24d8401ab4fee5880bd631a3": {
      "model_module": "@jupyter-widgets/controls",
      "model_module_version": "1.5.0",
      "model_name": "HTMLModel",
      "state": {
       "layout": "IPY_MODEL_bf9e8ba45533453cb19b2f2ba7e35d7d",
       "style": "IPY_MODEL_8dc5c98dd5214d3dab7f070769634ee0",
       "value": "<h4 style=\"font-size:14px;\">Was bedeutet das Tag <i>VBD</i> im Browntagset (siehe 5.7)?</h4>"
      }
     },
     "e5ffdf5084194228aad707106f97438a": {
      "model_module": "@jupyter-widgets/base",
      "model_module_version": "1.2.0",
      "model_name": "LayoutModel",
      "state": {
       "width": "600px"
      }
     },
     "e619fabf382a4db88dfaf4161cdb8bcd": {
      "model_module": "@jupyter-widgets/base",
      "model_module_version": "1.2.0",
      "model_name": "LayoutModel",
      "state": {
       "width": "150px"
      }
     },
     "e6a746534ac941d89583dd2439b62f75": {
      "model_module": "@jupyter-widgets/controls",
      "model_module_version": "1.5.0",
      "model_name": "VBoxModel",
      "state": {
       "children": [
        "IPY_MODEL_28ad6fdea1bf4feca1123690b99473a4",
        "IPY_MODEL_6139804cb23c4f9ba5ce41b76041418e",
        "IPY_MODEL_dcba7fb756a1420fb38040e3ec5d0930",
        "IPY_MODEL_65341af81de34e8393ce472ca39d1583"
       ],
       "layout": "IPY_MODEL_170fdb568689473db9a9829fb3645342"
      }
     },
     "e6b3ab5c3a75411c863c7ee033298bca": {
      "model_module": "@jupyter-widgets/controls",
      "model_module_version": "1.5.0",
      "model_name": "ButtonModel",
      "state": {
       "description": "Korrekt?",
       "layout": "IPY_MODEL_bbc49438f8634750ba5ebb0039327899",
       "style": "IPY_MODEL_95749eecfa12414da8aae9f8271f041d"
      }
     },
     "e6ba1cde56384671acb178d30651b00c": {
      "model_module": "@jupyter-widgets/controls",
      "model_module_version": "1.5.0",
      "model_name": "CheckboxModel",
      "state": {
       "description": "gleiche syntagmatische Position",
       "disabled": false,
       "layout": "IPY_MODEL_0984857410df4bb0ab6b542722bcdef2",
       "style": "IPY_MODEL_35706ab9799b4ab4ae53ffc8e0d01e39",
       "value": true
      }
     },
     "e6c36992f804429a9071e0d52ee2f9cd": {
      "model_module": "@jupyter-widgets/controls",
      "model_module_version": "1.5.0",
      "model_name": "HTMLModel",
      "state": {
       "layout": "IPY_MODEL_d68877685add47ef9b79fe2c2c3aa965",
       "style": "IPY_MODEL_e16db981e88143a89cd6e8bbb20eda74",
       "value": "<i>Vervollständigen Sie den Lückentext: </i>"
      }
     },
     "e6ef2f9db6b24826b9688090679d8292": {
      "model_module": "@jupyter-widgets/base",
      "model_module_version": "1.2.0",
      "model_name": "LayoutModel",
      "state": {
       "width": "150px"
      }
     },
     "e6f08147a58d438caf60ea86c0c381ca": {
      "model_module": "@jupyter-widgets/base",
      "model_module_version": "1.2.0",
      "model_name": "LayoutModel",
      "state": {
       "width": "150px"
      }
     },
     "e6f9e709fd9c49fd815e6deeca3c091f": {
      "model_module": "@jupyter-widgets/controls",
      "model_module_version": "1.5.0",
      "model_name": "HTMLModel",
      "state": {
       "layout": "IPY_MODEL_93e23cf6c7b948f68340780f422e2dfd",
       "style": "IPY_MODEL_bf47e4ac6d734d36b101ce9971a8b8bc",
       "value": "<h4 style=\"font-size:14px;\">Was bedeutet das Tag <i>VB</i> im Browntagset (siehe 5.7)?</h4>"
      }
     },
     "e719fc4af8f348ae8cb4a56baf31092f": {
      "model_module": "@jupyter-widgets/controls",
      "model_module_version": "1.5.0",
      "model_name": "DescriptionStyleModel",
      "state": {
       "description_width": ""
      }
     },
     "e7277d34e0874c6fbeba1f0fa4693899": {
      "model_module": "@jupyter-widgets/controls",
      "model_module_version": "1.5.0",
      "model_name": "HBoxModel",
      "state": {
       "children": [
        "IPY_MODEL_862606c047fd4c9186d3d5ea2f795c89",
        "IPY_MODEL_f32941c053fc42f89ae7468ab40484c2"
       ],
       "layout": "IPY_MODEL_af9a2b10ae6741c59dddd7aad902487e"
      }
     },
     "e72e04edd56b43479de472d96f2d5475": {
      "model_module": "@jupyter-widgets/base",
      "model_module_version": "1.2.0",
      "model_name": "LayoutModel",
      "state": {}
     },
     "e74cec94ec1747a980b94210a193914f": {
      "model_module": "@jupyter-widgets/controls",
      "model_module_version": "1.5.0",
      "model_name": "HTMLModel",
      "state": {
       "layout": "IPY_MODEL_a4718ba7a6844fa98258a0c14f9459c8",
       "style": "IPY_MODEL_5f3a0984c96e449bab336b91744379c8",
       "value": "<i>Markieren Sie <ins>alle</ins> passenden Antworten: </i>"
      }
     },
     "e754920615624dc3835141909edd9ada": {
      "model_module": "@jupyter-widgets/controls",
      "model_module_version": "1.5.0",
      "model_name": "DescriptionStyleModel",
      "state": {
       "description_width": ""
      }
     },
     "e78cd530525e490fb954053cb2cd674d": {
      "model_module": "@jupyter-widgets/controls",
      "model_module_version": "1.5.0",
      "model_name": "ButtonModel",
      "state": {
       "description": "base",
       "layout": "IPY_MODEL_4b0076c575534db59733e64a587ff671",
       "style": "IPY_MODEL_2a058c57712248c8b5a73e005f80c38f"
      }
     },
     "e7a9de34d45042eab69dd26258863df2": {
      "model_module": "@jupyter-widgets/controls",
      "model_module_version": "1.5.0",
      "model_name": "DescriptionStyleModel",
      "state": {
       "description_width": ""
      }
     },
     "e7ba6801d66145dca55b2eed01bf3502": {
      "model_module": "@jupyter-widgets/controls",
      "model_module_version": "1.5.0",
      "model_name": "HBoxModel",
      "state": {
       "children": [
        "IPY_MODEL_f0d40567f9d84d278f746a9ddbd6ac16"
       ],
       "layout": "IPY_MODEL_812789c9b99c425e89b9ec747cbc2578"
      }
     },
     "e7dc19a885a047d3843c490c6895c598": {
      "model_module": "@jupyter-widgets/controls",
      "model_module_version": "1.5.0",
      "model_name": "DescriptionStyleModel",
      "state": {
       "description_width": ""
      }
     },
     "e7fa62c893b24413b54ee9a101f4a18a": {
      "model_module": "@jupyter-widgets/base",
      "model_module_version": "1.2.0",
      "model_name": "LayoutModel",
      "state": {}
     },
     "e854e8a7d90743aab62999b66b064f21": {
      "model_module": "@jupyter-widgets/base",
      "model_module_version": "1.2.0",
      "model_name": "LayoutModel",
      "state": {}
     },
     "e865c075e42147f0ab23b41bcbd83ff3": {
      "model_module": "@jupyter-widgets/controls",
      "model_module_version": "1.5.0",
      "model_name": "HTMLModel",
      "state": {
       "layout": "IPY_MODEL_a543cece1a2347cf83f724d8423ef103",
       "style": "IPY_MODEL_8e9cd69cf508489abac2c8aab4ac8dc0",
       "value": "<h4 style=\"font-size:14px;\">.</h4>"
      }
     },
     "e895d68fdb1a4deaabf5dc2a29674623": {
      "model_module": "@jupyter-widgets/controls",
      "model_module_version": "1.5.0",
      "model_name": "ButtonModel",
      "state": {
       "description": "simple past",
       "layout": "IPY_MODEL_17987f3d6bcc450e8b5f88000b434157",
       "style": "IPY_MODEL_4b57e58a3afc41fbbd2a10debafb982c"
      }
     },
     "e897e3ebb2d64a818b68be8f6f6eba3b": {
      "model_module": "@jupyter-widgets/controls",
      "model_module_version": "1.5.0",
      "model_name": "ButtonStyleModel",
      "state": {}
     },
     "e902860a455b41b5a4fbf97e3dbaa29e": {
      "model_module": "@jupyter-widgets/base",
      "model_module_version": "1.2.0",
      "model_name": "LayoutModel",
      "state": {}
     },
     "e9550df3bbf84933a908933781f72158": {
      "model_module": "@jupyter-widgets/base",
      "model_module_version": "1.2.0",
      "model_name": "LayoutModel",
      "state": {
       "align_content": "stretch",
       "align_items": "stretch",
       "display": "inline-flex",
       "flex": "flex-grow",
       "flex_flow": "row wrap",
       "justify_content": "flex-start"
      }
     },
     "e974faff44954b89b7176bb89d80770c": {
      "model_module": "@jupyter-widgets/base",
      "model_module_version": "1.2.0",
      "model_name": "LayoutModel",
      "state": {
       "width": "600px"
      }
     },
     "e97a96bdacc7448db2c8e8b98ca32d20": {
      "model_module": "@jupyter-widgets/base",
      "model_module_version": "1.2.0",
      "model_name": "LayoutModel",
      "state": {}
     },
     "e9855631c0c34716916bcf0c53e3f799": {
      "model_module": "@jupyter-widgets/controls",
      "model_module_version": "1.5.0",
      "model_name": "HBoxModel",
      "state": {
       "children": [
        "IPY_MODEL_9ef989f791ac4a16a253269261e90730",
        "IPY_MODEL_ee7e1c77b7894bcdb4340dd93b418904"
       ],
       "layout": "IPY_MODEL_07de07b1c51d459d83c8c0c5f5998302"
      }
     },
     "e98ee37d998342959542fe313caf3a60": {
      "model_module": "@jupyter-widgets/controls",
      "model_module_version": "1.5.0",
      "model_name": "DropdownModel",
      "state": {
       "_options_labels": [
        "kürzere",
        "längere",
        " "
       ],
       "index": 0,
       "layout": "IPY_MODEL_479e0b6b401c4f49bc9aeeedbc919cae",
       "style": "IPY_MODEL_0c1db0b22d444959b33a0e3a3d7f9a29"
      }
     },
     "e99189c6716448a2a6682853d6245dcc": {
      "model_module": "@jupyter-widgets/controls",
      "model_module_version": "1.5.0",
      "model_name": "DropdownModel",
      "state": {
       "_options_labels": [
        "NP",
        "PP",
        "VP",
        " "
       ],
       "index": 2,
       "layout": "IPY_MODEL_7c36b1888c604a748b95f6e5cfec29c8",
       "style": "IPY_MODEL_6164fc66c32e41b6a732e0a6980e05dc"
      }
     },
     "e996570378e14eceac65824c20396b57": {
      "model_module": "@jupyter-widgets/controls",
      "model_module_version": "1.5.0",
      "model_name": "HBoxModel",
      "state": {
       "children": [
        "IPY_MODEL_33a54545ea7249bd8f7d7b97000b3aaa"
       ],
       "layout": "IPY_MODEL_d193f07664064c84a941310638476958"
      }
     },
     "e9aa6abce77d4fa6853320e2deb95bd9": {
      "model_module": "@jupyter-widgets/base",
      "model_module_version": "1.2.0",
      "model_name": "LayoutModel",
      "state": {}
     },
     "e9c238129a7c4a0bad8e97eb2497c11f": {
      "model_module": "@jupyter-widgets/controls",
      "model_module_version": "1.5.0",
      "model_name": "HBoxModel",
      "state": {
       "children": [
        "IPY_MODEL_c5c7d7ed827c4de189d2d8d3c6b35639",
        "IPY_MODEL_712a269507a54c4e9e6f62250b458669"
       ],
       "layout": "IPY_MODEL_1c451fbc124546fd95a9f8a6864f6b24"
      }
     },
     "e9d8f83966f348acb4c5314948d4039e": {
      "model_module": "@jupyter-widgets/base",
      "model_module_version": "1.2.0",
      "model_name": "LayoutModel",
      "state": {}
     },
     "e9e4e4f6e165445fbd9daf024ffd0f4a": {
      "model_module": "@jupyter-widgets/controls",
      "model_module_version": "1.5.0",
      "model_name": "ButtonModel",
      "state": {
       "description": "Wortfolge",
       "layout": "IPY_MODEL_8d830acc2a6e4daa8e7edb05c5eeeaed",
       "style": "IPY_MODEL_077328a3a7c343b2986f49485e79f6ea"
      }
     },
     "ea001b00edb04e3f967a1b92ebb133aa": {
      "model_module": "@jupyter-widgets/controls",
      "model_module_version": "1.5.0",
      "model_name": "HTMLModel",
      "state": {
       "layout": "IPY_MODEL_17c4071e3de14c419eeb30f24ebcac8e",
       "style": "IPY_MODEL_9cab6abb9db3429a89e5dd5bd0e0097d",
       "value": "<h4 style=\"font-size:14px;\">Was ist der Input eines Part-of-Speech-Taggers?</h4>"
      }
     },
     "ea46fd4c0807408ea4ca554f51b95838": {
      "model_module": "@jupyter-widgets/controls",
      "model_module_version": "1.5.0",
      "model_name": "ButtonStyleModel",
      "state": {}
     },
     "ea7119a3f5d041d192071b16250bdf7a": {
      "model_module": "@jupyter-widgets/controls",
      "model_module_version": "1.5.0",
      "model_name": "ButtonStyleModel",
      "state": {
       "button_color": "lightgreen"
      }
     },
     "ea7bbaf4b87540c39fc46a851018dba0": {
      "model_module": "@jupyter-widgets/base",
      "model_module_version": "1.2.0",
      "model_name": "LayoutModel",
      "state": {
       "width": "250px"
      }
     },
     "ea9da34668184a93bc7d544803fb5297": {
      "model_module": "@jupyter-widgets/controls",
      "model_module_version": "1.5.0",
      "model_name": "HTMLModel",
      "state": {
       "layout": "IPY_MODEL_e0d562daf29c4e0eb0cfc6199ce572f8",
       "style": "IPY_MODEL_17a35dff54eb46edb2c349fb5a7fab88",
       "value": "<h4 style=\"font-size:14px;\">Was bedeutet das Tag <i>VBG</i> im Browntagset (siehe 5.7)?</h4>"
      }
     },
     "eabc5dce3fd944a598f60599c4d10d30": {
      "model_module": "@jupyter-widgets/controls",
      "model_module_version": "1.5.0",
      "model_name": "DescriptionStyleModel",
      "state": {
       "description_width": "initial"
      }
     },
     "eabd6db36c784e8890627387dd877eb7": {
      "model_module": "@jupyter-widgets/base",
      "model_module_version": "1.2.0",
      "model_name": "LayoutModel",
      "state": {}
     },
     "ead36feb21c8441fb765ea6ba2d73562": {
      "model_module": "@jupyter-widgets/controls",
      "model_module_version": "1.5.0",
      "model_name": "HTMLModel",
      "state": {
       "layout": "IPY_MODEL_c4e97a8f436249f299f62f9fb848c241",
       "style": "IPY_MODEL_a43d95f6da04438ba7ebdb49373f6a3e",
       "value": "<i>Wählen Sie die <ins>eine</ins> korrekte Antwort aus: </i>"
      }
     },
     "eaeab54cebce4bcfbe5b0ec7ab65b124": {
      "model_module": "@jupyter-widgets/controls",
      "model_module_version": "1.5.0",
      "model_name": "ButtonModel",
      "state": {
       "description": "past participle",
       "layout": "IPY_MODEL_132125981cda4f9aa7a841652781a68a",
       "style": "IPY_MODEL_6e3f2d6654214d47b4ffe2cf5cc6d543"
      }
     },
     "eb430a38ed044c18abd583dcc808654b": {
      "model_module": "@jupyter-widgets/controls",
      "model_module_version": "1.5.0",
      "model_name": "ButtonModel",
      "state": {
       "description": "Adverb",
       "layout": "IPY_MODEL_29d4151fe66a434a9864d5b4b07c28f2",
       "style": "IPY_MODEL_1c70c1127be84ce08cdb75b7073c09d5"
      }
     },
     "eb86a12e6b2b407d971f1fffbf54f535": {
      "model_module": "@jupyter-widgets/controls",
      "model_module_version": "1.5.0",
      "model_name": "ButtonModel",
      "state": {
       "description": "simple past",
       "layout": "IPY_MODEL_1a8363d6fdd14bc79fa70c66d28fef9b",
       "style": "IPY_MODEL_a9393112a72b46d2a885865544a95167"
      }
     },
     "eba5293836e040f2a76ff7ceae161039": {
      "model_module": "@jupyter-widgets/base",
      "model_module_version": "1.2.0",
      "model_name": "LayoutModel",
      "state": {}
     },
     "ebc47d0bf8294a75b293480e125c7535": {
      "model_module": "@jupyter-widgets/controls",
      "model_module_version": "1.5.0",
      "model_name": "VBoxModel",
      "state": {
       "children": [
        "IPY_MODEL_25aca80f196c4e5e8683e2f7a20b5ca6",
        "IPY_MODEL_1738f97cefeb452f958251a8b64e565c",
        "IPY_MODEL_fdcb8ab6bf084abab57999a420b3ea69",
        "IPY_MODEL_a1036f049c1c473289a3265a1196ecc4"
       ],
       "layout": "IPY_MODEL_e72e04edd56b43479de472d96f2d5475"
      }
     },
     "ec4118028c02488ab42795375b38dae3": {
      "model_module": "@jupyter-widgets/controls",
      "model_module_version": "1.5.0",
      "model_name": "HTMLModel",
      "state": {
       "layout": "IPY_MODEL_4c0561dd309241b5b3d9e1bcb9d5dc87",
       "style": "IPY_MODEL_a08ca97135e84384af3cb2a539701f6d",
       "value": "<i>Markieren Sie <ins>alle</ins> passenden Antworten: </i>"
      }
     },
     "ec59e0a4ef2144fe9e0638dd45cdfb88": {
      "model_module": "@jupyter-widgets/controls",
      "model_module_version": "1.5.0",
      "model_name": "ButtonStyleModel",
      "state": {
       "button_color": "lightgreen"
      }
     },
     "ec878761b90f447d935bf5b255b287b8": {
      "model_module": "@jupyter-widgets/controls",
      "model_module_version": "1.5.0",
      "model_name": "DescriptionStyleModel",
      "state": {
       "description_width": ""
      }
     },
     "ec8af1b9057d4a1291af0480133d8a67": {
      "model_module": "@jupyter-widgets/base",
      "model_module_version": "1.2.0",
      "model_name": "LayoutModel",
      "state": {}
     },
     "ec91453f98984f8dac485734b75422b3": {
      "model_module": "@jupyter-widgets/controls",
      "model_module_version": "1.5.0",
      "model_name": "ButtonModel",
      "state": {
       "description": "Korrekt?",
       "layout": "IPY_MODEL_4a446dd7ad06444b9b4802e1a2f50cad",
       "style": "IPY_MODEL_c2e4ab7ff7974dd7a2646795b99602a1"
      }
     },
     "eca10f02d91a40f6b600dcf7fabeae57": {
      "model_module": "@jupyter-widgets/controls",
      "model_module_version": "1.5.0",
      "model_name": "CheckboxModel",
      "state": {
       "description": "Flexionstyp",
       "disabled": false,
       "layout": "IPY_MODEL_9ba71aefbf41499e9f88397024eeec75",
       "style": "IPY_MODEL_f11d0659d32648ca9f117a208a080965",
       "value": true
      }
     },
     "eceb7720158848629534bf01135cff2c": {
      "model_module": "@jupyter-widgets/base",
      "model_module_version": "1.2.0",
      "model_name": "LayoutModel",
      "state": {}
     },
     "ecf6da45db9844e287ba06c302bafee2": {
      "model_module": "@jupyter-widgets/controls",
      "model_module_version": "1.5.0",
      "model_name": "DescriptionStyleModel",
      "state": {
       "description_width": ""
      }
     },
     "ed08f0fa34b140618498a4520a0ebca0": {
      "model_module": "@jupyter-widgets/controls",
      "model_module_version": "1.5.0",
      "model_name": "VBoxModel",
      "state": {
       "children": [
        "IPY_MODEL_c299e04a5e434294b224f4fdd76c878b",
        "IPY_MODEL_554f576a8ef74604a830331f78ec222e",
        "IPY_MODEL_a20376cf655345b685abf82b69ee73ae",
        "IPY_MODEL_8a8a6f26d04943ceb031dd74722f8519",
        "IPY_MODEL_27b04c03438e4929ab59ce17f8367f28"
       ],
       "layout": "IPY_MODEL_28d83e8a14d642599e9f08b1f5213843"
      }
     },
     "ed0c3f957ebb47748d1bdf825e3dba4a": {
      "model_module": "@jupyter-widgets/controls",
      "model_module_version": "1.5.0",
      "model_name": "HTMLModel",
      "state": {
       "layout": "IPY_MODEL_34801d4476ee4c2aa4058121a4102699",
       "style": "IPY_MODEL_88bb04c4922f4258a483b648a987cd71",
       "value": "<h4 style=\"font-size:14px;\">Phrasen verkettet werden können. Das Ergebnis ist eine Phrase des gleichen Typs, also der gleichen</h4>"
      }
     },
     "ed11202dff8d4d3983e1494927a6c612": {
      "model_module": "@jupyter-widgets/base",
      "model_module_version": "1.2.0",
      "model_name": "LayoutModel",
      "state": {
       "width": "600px"
      }
     },
     "ed791b09847a44c58d005ed56a2c804a": {
      "model_module": "@jupyter-widgets/base",
      "model_module_version": "1.2.0",
      "model_name": "LayoutModel",
      "state": {
       "width": "250px"
      }
     },
     "ed7aedfa5c0f447da8402e6a0ba40621": {
      "model_module": "@jupyter-widgets/controls",
      "model_module_version": "1.5.0",
      "model_name": "BoxModel",
      "state": {
       "children": [
        "IPY_MODEL_f2f6fc0f67cd4731a31eca828f0e2609",
        "IPY_MODEL_81fb7f6833e949b7b8013c1648614dcf",
        "IPY_MODEL_a231e47ee5be4fd78e307a83fe023a69",
        "IPY_MODEL_e98ee37d998342959542fe313caf3a60",
        "IPY_MODEL_6c27ad9b46134cd39e06e19805268fe9",
        "IPY_MODEL_3252c05bf6de448198dcae33b89fe446",
        "IPY_MODEL_1cb6b1fcf92b4ccfa369e64c679070f4"
       ],
       "layout": "IPY_MODEL_7279d9572ce54df487aab7ba0d7ecf9a"
      }
     },
     "ed92453d0cfd44c189fd9837c2d6e55f": {
      "model_module": "@jupyter-widgets/base",
      "model_module_version": "1.2.0",
      "model_name": "LayoutModel",
      "state": {}
     },
     "ede52fb9047a465e900d850fa6e815f2": {
      "model_module": "@jupyter-widgets/controls",
      "model_module_version": "1.5.0",
      "model_name": "VBoxModel",
      "state": {
       "children": [
        "IPY_MODEL_002dd41823c645dda1af2f9a02f4b21f",
        "IPY_MODEL_89b88a8c2bf64f98afd232d2a46322a5",
        "IPY_MODEL_3bb5628bc34e48e9a990a76b4533e053",
        "IPY_MODEL_03baa96b2ad04a619faa2ea3e38bf9ab"
       ],
       "layout": "IPY_MODEL_577e00830f5142728a3b054145bbf115"
      }
     },
     "ee0a63d1400a418f9eb5bcb9ec2805c8": {
      "model_module": "@jupyter-widgets/controls",
      "model_module_version": "1.5.0",
      "model_name": "ButtonStyleModel",
      "state": {}
     },
     "ee0e516abc1f4a3094467415cc42aa72": {
      "model_module": "@jupyter-widgets/base",
      "model_module_version": "1.2.0",
      "model_name": "LayoutModel",
      "state": {}
     },
     "ee47244488984a71860dc46d530a5806": {
      "model_module": "@jupyter-widgets/controls",
      "model_module_version": "1.5.0",
      "model_name": "HBoxModel",
      "state": {
       "children": [
        "IPY_MODEL_27a446f324724207aee7bcf2ecf2ed3a",
        "IPY_MODEL_ca1104e44eb4470aa23989b61e2e86f2"
       ],
       "layout": "IPY_MODEL_cea4ca902abe4f02ae5027bf52de2b63"
      }
     },
     "ee4c8b4f67f64d90a2712eb677d194db": {
      "model_module": "@jupyter-widgets/controls",
      "model_module_version": "1.5.0",
      "model_name": "ButtonStyleModel",
      "state": {}
     },
     "ee4cc24ed83c4c3da864903bb09a1577": {
      "model_module": "@jupyter-widgets/controls",
      "model_module_version": "1.5.0",
      "model_name": "ButtonStyleModel",
      "state": {}
     },
     "ee7e1c77b7894bcdb4340dd93b418904": {
      "model_module": "@jupyter-widgets/controls",
      "model_module_version": "1.5.0",
      "model_name": "ButtonModel",
      "state": {
       "description": "base",
       "layout": "IPY_MODEL_a0c49faba86c4ef890d40ff1dcb7d546",
       "style": "IPY_MODEL_4e71665f812d42d18c0c6581371a7bc1"
      }
     },
     "ee8b15c5d15c4cd5abe93a31a35a76e6": {
      "model_module": "@jupyter-widgets/controls",
      "model_module_version": "1.5.0",
      "model_name": "ButtonModel",
      "state": {
       "description": "Korrekt?",
       "layout": "IPY_MODEL_4a1df8caca9d4920ae625e699872a2fd",
       "style": "IPY_MODEL_1f7e88ab91c5418ca33a9a9c46e329cd"
      }
     },
     "eeb56618e1fa4a489fcc46999f6061c8": {
      "model_module": "@jupyter-widgets/base",
      "model_module_version": "1.2.0",
      "model_name": "LayoutModel",
      "state": {
       "width": "600px"
      }
     },
     "eecdeaef493a483f9bd48dd8c5092ffa": {
      "model_module": "@jupyter-widgets/controls",
      "model_module_version": "1.5.0",
      "model_name": "ButtonStyleModel",
      "state": {}
     },
     "eed1920418ed42e4bd5c47d6ab63bd42": {
      "model_module": "@jupyter-widgets/controls",
      "model_module_version": "1.5.0",
      "model_name": "HTMLModel",
      "state": {
       "layout": "IPY_MODEL_5e666ceb28ce4cde8443ac71413d1420",
       "style": "IPY_MODEL_34d5ec74f45c475d92d2e659f48cca33",
       "value": "<h4 style=\"font-size:14px;\">Ersetzbarkeit einer</h4>"
      }
     },
     "eee2f03495ea4693a5963d21b44a5647": {
      "model_module": "@jupyter-widgets/controls",
      "model_module_version": "1.5.0",
      "model_name": "HTMLModel",
      "state": {
       "layout": "IPY_MODEL_36b3dbac531741879a298e49088f20e0",
       "style": "IPY_MODEL_e3a91f7553534e96a00006c4eb6d9274",
       "value": "<h4 style=\"font-size:14px;\">-Tupeln aus einem englischen Korpus erstellt. Zeile 2 und 3 dienen der Erzeugung einer Frequenzliste von POS-Tags derjenigen Bigramme, deren zweites Element das POS-Tag</h4>"
      }
     },
     "ef024d983fee47de9b133f33f849ce43": {
      "model_module": "@jupyter-widgets/base",
      "model_module_version": "1.2.0",
      "model_name": "LayoutModel",
      "state": {}
     },
     "ef15b63e460445a7baa5887f4e843b1b": {
      "model_module": "@jupyter-widgets/controls",
      "model_module_version": "1.5.0",
      "model_name": "ButtonStyleModel",
      "state": {}
     },
     "ef1c3234f06140e38cab171aa8ff6cc7": {
      "model_module": "@jupyter-widgets/controls",
      "model_module_version": "1.5.0",
      "model_name": "HTMLModel",
      "state": {
       "layout": "IPY_MODEL_28305fd601624ef7bf6b38fde1ff2728",
       "style": "IPY_MODEL_0a46a6967b5d4d6a8a40a5dc35c5005f",
       "value": "<h4 style=\"font-size:14px;\">Welche Eigenschaften hat <i>gerne</i> in Satz 1?</h4>"
      }
     },
     "ef67be70cabc412e9dc1f3f5bcdfa619": {
      "model_module": "@jupyter-widgets/controls",
      "model_module_version": "1.5.0",
      "model_name": "HBoxModel",
      "state": {
       "children": [
        "IPY_MODEL_b930b23e3ce04be8ba704d5576f8199a",
        "IPY_MODEL_e3ed9b568dc64f87b19dd7685909c79b"
       ],
       "layout": "IPY_MODEL_a7d0e6b60aae42019208294c3e7473e1"
      }
     },
     "ef791f0183cd440b86c2d8dcc168f334": {
      "model_module": "@jupyter-widgets/controls",
      "model_module_version": "1.5.0",
      "model_name": "HTMLModel",
      "state": {
       "layout": "IPY_MODEL_e2beb826d93041c5927b47c8b860be54",
       "style": "IPY_MODEL_60b99d6a1ca2428485d1365633e0f7b3",
       "value": "<i>Geben Sie die entsprechende Funktion anstelle des Unterstrichs ein.</i>"
      }
     },
     "ef86e5a91af549579225fb72f3825b7b": {
      "model_module": "@jupyter-widgets/controls",
      "model_module_version": "1.5.0",
      "model_name": "CheckboxModel",
      "state": {
       "description": "gleicher Kontext",
       "disabled": false,
       "layout": "IPY_MODEL_0c12ef12ec39413aad62a0451a75f4ae",
       "style": "IPY_MODEL_e001b25576ba4d319ae07c99031f968e",
       "value": false
      }
     },
     "efe2b8986b1e496ea2fe43e81ef77b83": {
      "model_module": "@jupyter-widgets/base",
      "model_module_version": "1.2.0",
      "model_name": "LayoutModel",
      "state": {
       "width": "600px"
      }
     },
     "eff3ab417cf84d83a05ab2c05ee5b9b4": {
      "model_module": "@jupyter-widgets/controls",
      "model_module_version": "1.5.0",
      "model_name": "DescriptionStyleModel",
      "state": {
       "description_width": ""
      }
     },
     "f0144c5560014772bc6d93a00814289d": {
      "model_module": "@jupyter-widgets/base",
      "model_module_version": "1.2.0",
      "model_name": "LayoutModel",
      "state": {
       "justify_content": "center"
      }
     },
     "f01dea275c564f39a01eaa75f76b1637": {
      "model_module": "@jupyter-widgets/controls",
      "model_module_version": "1.5.0",
      "model_name": "DescriptionStyleModel",
      "state": {
       "description_width": ""
      }
     },
     "f02c98e51c23405a9a93f7acf6163266": {
      "model_module": "@jupyter-widgets/base",
      "model_module_version": "1.2.0",
      "model_name": "LayoutModel",
      "state": {
       "width": "600px"
      }
     },
     "f03491a7832347fe829e15fec82067e7": {
      "model_module": "@jupyter-widgets/controls",
      "model_module_version": "1.5.0",
      "model_name": "DropdownModel",
      "state": {
       "_options_labels": [
        "morphologischen",
        "syntaktischen",
        " "
       ],
       "index": 2,
       "layout": "IPY_MODEL_23936e0207c0405ba8bfda87d50e5ecb",
       "style": "IPY_MODEL_d4371199f5d04e0a9a103bc7ba3c5be8"
      }
     },
     "f048af6f4db7463fb174f8f5d20c8960": {
      "model_module": "@jupyter-widgets/base",
      "model_module_version": "1.2.0",
      "model_name": "LayoutModel",
      "state": {
       "width": "250px"
      }
     },
     "f061e1e2c10f49e799928b78eee6ac74": {
      "model_module": "@jupyter-widgets/base",
      "model_module_version": "1.2.0",
      "model_name": "LayoutModel",
      "state": {
       "width": "150px"
      }
     },
     "f0a2e2f673104013bdc68785637ba439": {
      "model_module": "@jupyter-widgets/controls",
      "model_module_version": "1.5.0",
      "model_name": "ButtonStyleModel",
      "state": {}
     },
     "f0b0611b219b4508bf2c0cc6ff09ff48": {
      "model_module": "@jupyter-widgets/base",
      "model_module_version": "1.2.0",
      "model_name": "LayoutModel",
      "state": {}
     },
     "f0c9b1deaf39472ba37466f956f2f234": {
      "model_module": "@jupyter-widgets/controls",
      "model_module_version": "1.5.0",
      "model_name": "HTMLModel",
      "state": {
       "layout": "IPY_MODEL_1ad5cbbcb1f741ad8644cffeabb22f33",
       "style": "IPY_MODEL_122dd8e6230c4ca68be8a341ab5a0068",
       "value": "<h4 style=\"font-size:14px;\">Was bedeutet das Tag <i>VBZ</i> im Browntagset (siehe 5.7)?</h4>"
      }
     },
     "f0cac8a7a26f4682afdd049ed5d5f166": {
      "model_module": "@jupyter-widgets/controls",
      "model_module_version": "1.5.0",
      "model_name": "DescriptionStyleModel",
      "state": {
       "description_width": "initial"
      }
     },
     "f0d0c1c3c67743218fe6f6cd5f04f123": {
      "model_module": "@jupyter-widgets/controls",
      "model_module_version": "1.5.0",
      "model_name": "HTMLModel",
      "state": {
       "layout": "IPY_MODEL_5b5a6f174d924ea283a1e2245e3a36cd",
       "style": "IPY_MODEL_4ec74d8223f24d378451755117d0c070",
       "value": "<i>Markieren Sie <ins>alle</ins> passenden Antworten: </i>"
      }
     },
     "f0d40567f9d84d278f746a9ddbd6ac16": {
      "model_module": "@jupyter-widgets/controls",
      "model_module_version": "1.5.0",
      "model_name": "ButtonModel",
      "state": {
       "description": "Keine der anderen Möglichkeiten",
       "layout": "IPY_MODEL_bb9fed6d7422495b86c1720d5b8d4c83",
       "style": "IPY_MODEL_ee4c8b4f67f64d90a2712eb677d194db"
      }
     },
     "f0f21b21fa0a4b73a411e63b6e068aa6": {
      "model_module": "@jupyter-widgets/controls",
      "model_module_version": "1.5.0",
      "model_name": "VBoxModel",
      "state": {
       "children": [
        "IPY_MODEL_4800749c8b4d40b48a26629653883057",
        "IPY_MODEL_ba4e5eaa4f7b48f9875a55ce22afbef3",
        "IPY_MODEL_2f086123d3f048f0a3117d16eda6c2d4",
        "IPY_MODEL_9acb6bf2f7de45debcd4ff239e568fa9"
       ],
       "layout": "IPY_MODEL_bb1099d42e05423ba25147e33364621f"
      }
     },
     "f0f8479eadca48aebebe50bfc48dbaaa": {
      "model_module": "@jupyter-widgets/base",
      "model_module_version": "1.2.0",
      "model_name": "LayoutModel",
      "state": {
       "width": "250px"
      }
     },
     "f0fbd321d42549fabee2bc73f8f40008": {
      "model_module": "@jupyter-widgets/controls",
      "model_module_version": "1.5.0",
      "model_name": "VBoxModel",
      "state": {
       "children": [
        "IPY_MODEL_1eccb009469642df89e42158b7d795e8",
        "IPY_MODEL_8eca47861d884446a32f36a3053ae8bb",
        "IPY_MODEL_4a32b44ea9bc42dc8ac8bae25c934c83",
        "IPY_MODEL_1bc162861bec4c169460405fd13a77b1"
       ],
       "layout": "IPY_MODEL_c1f41e0f3b8c4915bbb4c83ab1781418"
      }
     },
     "f11d0659d32648ca9f117a208a080965": {
      "model_module": "@jupyter-widgets/controls",
      "model_module_version": "1.5.0",
      "model_name": "DescriptionStyleModel",
      "state": {
       "description_width": "initial"
      }
     },
     "f11f6bfbabf4426b81c7210a85923340": {
      "model_module": "@jupyter-widgets/controls",
      "model_module_version": "1.5.0",
      "model_name": "DescriptionStyleModel",
      "state": {
       "description_width": ""
      }
     },
     "f2356c12a1544d679390c6dbc637f137": {
      "model_module": "@jupyter-widgets/controls",
      "model_module_version": "1.5.0",
      "model_name": "DescriptionStyleModel",
      "state": {
       "description_width": ""
      }
     },
     "f24e9056760e414395c0352ca7a0c442": {
      "model_module": "@jupyter-widgets/base",
      "model_module_version": "1.2.0",
      "model_name": "LayoutModel",
      "state": {
       "justify_content": "center"
      }
     },
     "f280c19a12a94c819548d755669e73af": {
      "model_module": "@jupyter-widgets/base",
      "model_module_version": "1.2.0",
      "model_name": "LayoutModel",
      "state": {}
     },
     "f287cf2b8b7a4e70b790d0663bd2f293": {
      "model_module": "@jupyter-widgets/controls",
      "model_module_version": "1.5.0",
      "model_name": "HBoxModel",
      "state": {
       "children": [
        "IPY_MODEL_dadf962f3a6d4bd8955fef2e8a7e8f72",
        "IPY_MODEL_ffcbbb4e7b504b13971109318f8e7ebc"
       ],
       "layout": "IPY_MODEL_bb28ea3ce07742f3bff1b7c7e41f36f7"
      }
     },
     "f2e07464d0a840f48e86e5db8ec3a841": {
      "model_module": "@jupyter-widgets/controls",
      "model_module_version": "1.5.0",
      "model_name": "CheckboxModel",
      "state": {
       "description": "Nur mit beginnt eine Reise von tausend Meilen auch einem Schritt.",
       "disabled": false,
       "layout": "IPY_MODEL_402ceea71eb44a45b7567fbf4f0330c9",
       "style": "IPY_MODEL_930728b8e2bc48ad97bba786590756f1",
       "value": false
      }
     },
     "f2e3913e07864fee8622b8d01103bc5e": {
      "model_module": "@jupyter-widgets/controls",
      "model_module_version": "1.5.0",
      "model_name": "CheckboxModel",
      "state": {
       "description": "gleiche Endungen",
       "disabled": false,
       "layout": "IPY_MODEL_4eb4e8a9e4ad440ba0754feb9e1ba47c",
       "style": "IPY_MODEL_ae98c3fc090f4da18cdd29930803ec97",
       "value": false
      }
     },
     "f2f6fc0f67cd4731a31eca828f0e2609": {
      "model_module": "@jupyter-widgets/controls",
      "model_module_version": "1.5.0",
      "model_name": "HTMLModel",
      "state": {
       "layout": "IPY_MODEL_9ac8088877e64585b104f68701c4e7f4",
       "style": "IPY_MODEL_fa17dcd0620a435ab7a145ad69995344",
       "value": "<h4 style=\"font-size:14px;\">Ersetzbarkeit einer</h4>"
      }
     },
     "f32941c053fc42f89ae7468ab40484c2": {
      "model_module": "@jupyter-widgets/controls",
      "model_module_version": "1.5.0",
      "model_name": "ButtonModel",
      "state": {
       "description": "past participle",
       "layout": "IPY_MODEL_49e5bb7ae5854ac8aba8c9e3a04d3b4e",
       "style": "IPY_MODEL_46a3c235f0104d53aa58bf23ed7fbdd6"
      }
     },
     "f32b89e314994060ab50453c24c70cbc": {
      "model_module": "@jupyter-widgets/base",
      "model_module_version": "1.2.0",
      "model_name": "LayoutModel",
      "state": {
       "width": "600px"
      }
     },
     "f33a2c031b2e4400a5445cc6e2d2b78d": {
      "model_module": "@jupyter-widgets/base",
      "model_module_version": "1.2.0",
      "model_name": "LayoutModel",
      "state": {}
     },
     "f33ff813eb85478bbda0d1d52c993102": {
      "model_module": "@jupyter-widgets/base",
      "model_module_version": "1.2.0",
      "model_name": "LayoutModel",
      "state": {}
     },
     "f34d21f788a84dafaa93e76cec0d2737": {
      "model_module": "@jupyter-widgets/base",
      "model_module_version": "1.2.0",
      "model_name": "LayoutModel",
      "state": {
       "width": "250px"
      }
     },
     "f369c9ebd3d048ffb6a6335ee4345bca": {
      "model_module": "@jupyter-widgets/base",
      "model_module_version": "1.2.0",
      "model_name": "LayoutModel",
      "state": {}
     },
     "f379a8bb6a7f4a04a55241e01ba72b15": {
      "model_module": "@jupyter-widgets/controls",
      "model_module_version": "1.5.0",
      "model_name": "ButtonStyleModel",
      "state": {}
     },
     "f3e7f1fb7e834803af69e3e4e0d7f7b1": {
      "model_module": "@jupyter-widgets/controls",
      "model_module_version": "1.5.0",
      "model_name": "HTMLModel",
      "state": {
       "layout": "IPY_MODEL_518b932a217845fd8191319618a5c38e",
       "style": "IPY_MODEL_0eb5940796d942ccacb1b29b65e5c200",
       "value": "<h4 style=\"font-size:14px;\">Welche Wortart folgt damit für das Wort <i>gut</i> in Satz 2?</h4>"
      }
     },
     "f3edd9969858464a9c519987a8a49842": {
      "model_module": "@jupyter-widgets/base",
      "model_module_version": "1.2.0",
      "model_name": "LayoutModel",
      "state": {
       "width": "600px"
      }
     },
     "f3ee13f26f934d388a7ba1c2b0f154a0": {
      "model_module": "@jupyter-widgets/controls",
      "model_module_version": "1.5.0",
      "model_name": "DescriptionStyleModel",
      "state": {
       "description_width": "initial"
      }
     },
     "f40f9b7d84a647d0a88eb37e5fd4ff19": {
      "model_module": "@jupyter-widgets/base",
      "model_module_version": "1.2.0",
      "model_name": "LayoutModel",
      "state": {
       "width": "600px"
      }
     },
     "f430dab4212d4908b39797cc507a52f6": {
      "model_module": "@jupyter-widgets/controls",
      "model_module_version": "1.5.0",
      "model_name": "ButtonStyleModel",
      "state": {
       "button_color": "lightgreen"
      }
     },
     "f43b82e7875d44ed989e378776eb0cde": {
      "model_module": "@jupyter-widgets/controls",
      "model_module_version": "1.5.0",
      "model_name": "DescriptionStyleModel",
      "state": {
       "description_width": ""
      }
     },
     "f49046b8dbf84d8a9c15209b848a4f5b": {
      "model_module": "@jupyter-widgets/base",
      "model_module_version": "1.2.0",
      "model_name": "LayoutModel",
      "state": {
       "justify_content": "center"
      }
     },
     "f4a275772aeb4867a75bf1bf2c9638d9": {
      "model_module": "@jupyter-widgets/controls",
      "model_module_version": "1.5.0",
      "model_name": "HBoxModel",
      "state": {
       "children": [
        "IPY_MODEL_2dad2b4e02814c5187d9293eeef61cf1",
        "IPY_MODEL_6b82685d43594944a1fedaff9934598b"
       ],
       "layout": "IPY_MODEL_364d092654eb4b86b5c000a20489ea6c"
      }
     },
     "f4a8b462a71a466a857b8097eaae196f": {
      "model_module": "@jupyter-widgets/base",
      "model_module_version": "1.2.0",
      "model_name": "LayoutModel",
      "state": {
       "width": "250px"
      }
     },
     "f4ac35833d13437a8eb08fe80f291fea": {
      "model_module": "@jupyter-widgets/base",
      "model_module_version": "1.2.0",
      "model_name": "LayoutModel",
      "state": {
       "width": "250px"
      }
     },
     "f4f2d73eb8524f88abd8e3e56a80b1c4": {
      "model_module": "@jupyter-widgets/base",
      "model_module_version": "1.2.0",
      "model_name": "LayoutModel",
      "state": {}
     },
     "f4f59837b5e843e79988188be6070c67": {
      "model_module": "@jupyter-widgets/controls",
      "model_module_version": "1.5.0",
      "model_name": "DescriptionStyleModel",
      "state": {
       "description_width": "initial"
      }
     },
     "f4f9e5f02abf4324b52f7614d9b62a40": {
      "model_module": "@jupyter-widgets/controls",
      "model_module_version": "1.5.0",
      "model_name": "HBoxModel",
      "state": {
       "children": [
        "IPY_MODEL_7130349670614c988525b55ce3c9dc66",
        "IPY_MODEL_6cba68d36a94426fa44364e9211eb799"
       ],
       "layout": "IPY_MODEL_06be459110664d8f9173893d3fde45e2"
      }
     },
     "f5574ae38e0d47e2b86ea0886c81bb87": {
      "model_module": "@jupyter-widgets/base",
      "model_module_version": "1.2.0",
      "model_name": "LayoutModel",
      "state": {
       "width": "600px"
      }
     },
     "f57ad81b94c040e9b43ecc44705146ea": {
      "model_module": "@jupyter-widgets/controls",
      "model_module_version": "1.5.0",
      "model_name": "HTMLModel",
      "state": {
       "layout": "IPY_MODEL_8ca0404e70a4447d8e1f121d3fac9d9c",
       "style": "IPY_MODEL_51898f00b62449c2aa772b30a06c1bbc",
       "value": "<i>Wählen Sie die <ins>eine</ins> korrekte Antwort aus: </i>"
      }
     },
     "f5c3b1bec3234ce3bc33178cf42192ba": {
      "model_module": "@jupyter-widgets/controls",
      "model_module_version": "1.5.0",
      "model_name": "VBoxModel",
      "state": {
       "children": [
        "IPY_MODEL_b7788f37b7c54abe97ade688895438f0",
        "IPY_MODEL_40046ec08fe7413caee18180f4da2838",
        "IPY_MODEL_0306865b05504f4698f89da0b39e474d"
       ],
       "layout": "IPY_MODEL_1d8e5e3aaead4bba9844c8543d268b4e"
      }
     },
     "f5ccece39ef94e43b560d642169c52d4": {
      "model_module": "@jupyter-widgets/controls",
      "model_module_version": "1.5.0",
      "model_name": "DescriptionStyleModel",
      "state": {
       "description_width": ""
      }
     },
     "f5dd3a59ab87412ba9a29196594996e4": {
      "model_module": "@jupyter-widgets/base",
      "model_module_version": "1.2.0",
      "model_name": "LayoutModel",
      "state": {
       "justify_content": "center"
      }
     },
     "f5f21263bb7c4e26967adefa55cfd971": {
      "model_module": "@jupyter-widgets/controls",
      "model_module_version": "1.5.0",
      "model_name": "ButtonStyleModel",
      "state": {}
     },
     "f5fd5b60b3da4e3b9ce67c0d9f19d768": {
      "model_module": "@jupyter-widgets/base",
      "model_module_version": "1.2.0",
      "model_name": "LayoutModel",
      "state": {}
     },
     "f60c41ad3d9642a59a9ea042b5c82a6b": {
      "model_module": "@jupyter-widgets/controls",
      "model_module_version": "1.5.0",
      "model_name": "HBoxModel",
      "state": {
       "children": [
        "IPY_MODEL_26d0e1dab9424a1bb2e04ad7d1d44d58",
        "IPY_MODEL_3dc27f89089b4c66942dec14ed8a0bf8"
       ],
       "layout": "IPY_MODEL_197013f348fb4ca2a03d69d0505833ea"
      }
     },
     "f627ef8a6f1e493699a9c1d795269068": {
      "model_module": "@jupyter-widgets/controls",
      "model_module_version": "1.5.0",
      "model_name": "CheckboxModel",
      "state": {
       "description": "Es fungiert als Satzglied mit der syntaktischen Funktion Adverbial.",
       "disabled": false,
       "layout": "IPY_MODEL_2812c1b749e5446faff77284c1b5d442",
       "style": "IPY_MODEL_54abfc56ea724e8da41310228d748323",
       "value": true
      }
     },
     "f6577c3170764fd29f323ea0376b5211": {
      "model_module": "@jupyter-widgets/controls",
      "model_module_version": "1.5.0",
      "model_name": "DescriptionStyleModel",
      "state": {
       "description_width": "initial"
      }
     },
     "f691ea52512a464fa0b9d1d20ec75fa9": {
      "model_module": "@jupyter-widgets/controls",
      "model_module_version": "1.5.0",
      "model_name": "DescriptionStyleModel",
      "state": {
       "description_width": ""
      }
     },
     "f6b04ebf4d0e4194be0cb32c9f706c26": {
      "model_module": "@jupyter-widgets/controls",
      "model_module_version": "1.5.0",
      "model_name": "HTMLModel",
      "state": {
       "layout": "IPY_MODEL_6cd0a65bb5a84c10a6490c16f652a0bf",
       "style": "IPY_MODEL_0ff720b997aa41f199744e133e698326",
       "value": "<h4 style=\"font-size:14px;\">Wie wirt der POS-Tagger im NLTK aufgerufen?</h4>"
      }
     },
     "f6cdba14fe914e9f8c9682208127757e": {
      "model_module": "@jupyter-widgets/base",
      "model_module_version": "1.2.0",
      "model_name": "LayoutModel",
      "state": {
       "justify_content": "center"
      }
     },
     "f6daca27d0384149b9066a71df8ea843": {
      "model_module": "@jupyter-widgets/base",
      "model_module_version": "1.2.0",
      "model_name": "LayoutModel",
      "state": {
       "justify_content": "center"
      }
     },
     "f76ca4aa662d470c9ae273279cb9f93a": {
      "model_module": "@jupyter-widgets/base",
      "model_module_version": "1.2.0",
      "model_name": "LayoutModel",
      "state": {}
     },
     "f774f600bc7d4685b7ece68ec10ca9cc": {
      "model_module": "@jupyter-widgets/controls",
      "model_module_version": "1.5.0",
      "model_name": "DescriptionStyleModel",
      "state": {
       "description_width": "initial"
      }
     },
     "f77f0667ed6b455498c45d874568eb6e": {
      "model_module": "@jupyter-widgets/base",
      "model_module_version": "1.2.0",
      "model_name": "LayoutModel",
      "state": {}
     },
     "f7a3ce60767348f5a131e65a2c09159c": {
      "model_module": "@jupyter-widgets/base",
      "model_module_version": "1.2.0",
      "model_name": "LayoutModel",
      "state": {
       "justify_content": "center"
      }
     },
     "f7f5eadb902a49879eff1523cd5a09f5": {
      "model_module": "@jupyter-widgets/controls",
      "model_module_version": "1.5.0",
      "model_name": "CheckboxModel",
      "state": {
       "description": "gleiche syntagmatische Position",
       "disabled": false,
       "layout": "IPY_MODEL_2f0f92c936a749ab94a32f2afe6acd3f",
       "style": "IPY_MODEL_f3ee13f26f934d388a7ba1c2b0f154a0",
       "value": false
      }
     },
     "f7fb545fd6bb4bcd87a65c5518023688": {
      "model_module": "@jupyter-widgets/controls",
      "model_module_version": "1.5.0",
      "model_name": "DescriptionStyleModel",
      "state": {
       "description_width": ""
      }
     },
     "f81c1fe6fcdd4c539805631efded5a82": {
      "model_module": "@jupyter-widgets/controls",
      "model_module_version": "1.5.0",
      "model_name": "ButtonModel",
      "state": {
       "description": "gerund",
       "layout": "IPY_MODEL_5b3f49e71b784b22a5106b89b8b094ab",
       "style": "IPY_MODEL_8bca303354c740c8adcc08f2f0343ad8"
      }
     },
     "f83406e78a2b4049b09e1a6653c1a75e": {
      "model_module": "@jupyter-widgets/controls",
      "model_module_version": "1.5.0",
      "model_name": "ButtonStyleModel",
      "state": {}
     },
     "f87940cab84d484190b5d94e5b2b4aad": {
      "model_module": "@jupyter-widgets/controls",
      "model_module_version": "1.5.0",
      "model_name": "ButtonStyleModel",
      "state": {}
     },
     "f886963f201446488e5eb12b85ab98b4": {
      "model_module": "@jupyter-widgets/controls",
      "model_module_version": "1.5.0",
      "model_name": "DropdownModel",
      "state": {
       "_options_labels": [
        "Konstituente",
        "Phrase",
        " "
       ],
       "index": 0,
       "layout": "IPY_MODEL_c632f07a7b5044e9a44ec2541b63f39f",
       "style": "IPY_MODEL_d3788fe4c2f74851beb951c2da65197a"
      }
     },
     "f88a7f56ab174a3b9eb844b7614c05b7": {
      "model_module": "@jupyter-widgets/base",
      "model_module_version": "1.2.0",
      "model_name": "LayoutModel",
      "state": {}
     },
     "f895a2fd2491446fa61ea5a9f1f14bd2": {
      "model_module": "@jupyter-widgets/base",
      "model_module_version": "1.2.0",
      "model_name": "LayoutModel",
      "state": {}
     },
     "f89cf6b01f564c5b9c6aaa3f0062d485": {
      "model_module": "@jupyter-widgets/controls",
      "model_module_version": "1.5.0",
      "model_name": "ButtonModel",
      "state": {
       "description": "simple past",
       "layout": "IPY_MODEL_4dde69ea33e9448291e54c47e733b441",
       "style": "IPY_MODEL_e2e01d75da6646a6835a98dd998b2ad6"
      }
     },
     "f904e6e0c7494743b06e26f39e8ce8b3": {
      "model_module": "@jupyter-widgets/base",
      "model_module_version": "1.2.0",
      "model_name": "LayoutModel",
      "state": {
       "width": "150px"
      }
     },
     "f9142e20b1d34e80834df011a570efe2": {
      "model_module": "@jupyter-widgets/base",
      "model_module_version": "1.2.0",
      "model_name": "LayoutModel",
      "state": {
       "width": "600px"
      }
     },
     "f918aff79884445ab6b3ac3b667bcff4": {
      "model_module": "@jupyter-widgets/controls",
      "model_module_version": "1.5.0",
      "model_name": "DescriptionStyleModel",
      "state": {
       "description_width": ""
      }
     },
     "f91af9892c504a429a644565996cfc50": {
      "model_module": "@jupyter-widgets/base",
      "model_module_version": "1.2.0",
      "model_name": "LayoutModel",
      "state": {
       "justify_content": "center"
      }
     },
     "f91ebd719044449c9cc1302f03beb2b4": {
      "model_module": "@jupyter-widgets/base",
      "model_module_version": "1.2.0",
      "model_name": "LayoutModel",
      "state": {
       "align_content": "stretch",
       "align_items": "stretch",
       "display": "inline-flex",
       "flex": "flex-grow",
       "flex_flow": "row wrap",
       "justify_content": "flex-start"
      }
     },
     "f9258ae7ccf848eb96d6b34c9d2b5661": {
      "model_module": "@jupyter-widgets/controls",
      "model_module_version": "1.5.0",
      "model_name": "ButtonStyleModel",
      "state": {}
     },
     "f9be0d832ed14061af3caba87c3e3335": {
      "model_module": "@jupyter-widgets/controls",
      "model_module_version": "1.5.0",
      "model_name": "HTMLModel",
      "state": {
       "layout": "IPY_MODEL_d3aa58a2c76c46c6990c4f3b1c011965",
       "style": "IPY_MODEL_5538165588da4d8e82c8686a8e339561",
       "value": "<h4 style=\"font-size:14px;\">Kategorie.</h4>"
      }
     },
     "f9d6cdb0deaf42dd995144035adaa677": {
      "model_module": "@jupyter-widgets/controls",
      "model_module_version": "1.5.0",
      "model_name": "CheckboxModel",
      "state": {
       "description": "Zu einem Wort wird ein Index seiner Kontexte aufgebaut.",
       "disabled": false,
       "layout": "IPY_MODEL_4d07640f2a7141a5b6ba7bfdbe9185ce",
       "style": "IPY_MODEL_12ca386dc80342a9982ba78faab31036",
       "value": true
      }
     },
     "f9ec8126de044b61846f44d9c0ea7eb5": {
      "model_module": "@jupyter-widgets/base",
      "model_module_version": "1.2.0",
      "model_name": "LayoutModel",
      "state": {
       "justify_content": "center"
      }
     },
     "fa052dc48a7e4ea396b0aef940090b6b": {
      "model_module": "@jupyter-widgets/base",
      "model_module_version": "1.2.0",
      "model_name": "LayoutModel",
      "state": {}
     },
     "fa117245f7e84324af38eb5db06b59d8": {
      "model_module": "@jupyter-widgets/controls",
      "model_module_version": "1.5.0",
      "model_name": "DescriptionStyleModel",
      "state": {
       "description_width": ""
      }
     },
     "fa17dcd0620a435ab7a145ad69995344": {
      "model_module": "@jupyter-widgets/controls",
      "model_module_version": "1.5.0",
      "model_name": "DescriptionStyleModel",
      "state": {
       "description_width": ""
      }
     },
     "fa1cface7be84dd8855d84a853488049": {
      "model_module": "@jupyter-widgets/controls",
      "model_module_version": "1.5.0",
      "model_name": "ButtonStyleModel",
      "state": {}
     },
     "fa2476b5bb7a4f678538cf2a12c83dc2": {
      "model_module": "@jupyter-widgets/base",
      "model_module_version": "1.2.0",
      "model_name": "LayoutModel",
      "state": {
       "width": "600px"
      }
     },
     "fa258764db054150b090525471fc682a": {
      "model_module": "@jupyter-widgets/controls",
      "model_module_version": "1.5.0",
      "model_name": "HTMLModel",
      "state": {
       "layout": "IPY_MODEL_da841e4428d9403b89fd0b74502dabc4",
       "style": "IPY_MODEL_f918aff79884445ab6b3ac3b667bcff4",
       "value": "<i>Markieren Sie <ins>alle</ins> passenden Antworten: </i>"
      }
     },
     "fa82f8763209490b9c622f0f7e080ef7": {
      "model_module": "@jupyter-widgets/controls",
      "model_module_version": "1.5.0",
      "model_name": "DescriptionStyleModel",
      "state": {
       "description_width": ""
      }
     },
     "fa8b3bb49d0e42d9820c908a2d5f1368": {
      "model_module": "@jupyter-widgets/base",
      "model_module_version": "1.2.0",
      "model_name": "LayoutModel",
      "state": {}
     },
     "fab99402a89a4485850af5750391e138": {
      "model_module": "@jupyter-widgets/base",
      "model_module_version": "1.2.0",
      "model_name": "LayoutModel",
      "state": {
       "width": "600px"
      }
     },
     "fac4f32ad50a4cf0bf2daa4b4d34f44a": {
      "model_module": "@jupyter-widgets/controls",
      "model_module_version": "1.5.0",
      "model_name": "CheckboxModel",
      "state": {
       "description": "Substitutionstest",
       "disabled": false,
       "layout": "IPY_MODEL_b5fcc3ace2b14bfd8949b1ab090a56ff",
       "style": "IPY_MODEL_4ae7ce66b9034bbb9c0df0296ede241e",
       "value": false
      }
     },
     "fae4600ccff3484a8a8bae798a048afe": {
      "model_module": "@jupyter-widgets/base",
      "model_module_version": "1.2.0",
      "model_name": "LayoutModel",
      "state": {}
     },
     "fb438ae894074b23b8d951235088b1d6": {
      "model_module": "@jupyter-widgets/controls",
      "model_module_version": "1.5.0",
      "model_name": "DescriptionStyleModel",
      "state": {
       "description_width": "initial"
      }
     },
     "fb673cd9897a4a5ba55b335748f1ec34": {
      "model_module": "@jupyter-widgets/base",
      "model_module_version": "1.2.0",
      "model_name": "LayoutModel",
      "state": {
       "width": "250px"
      }
     },
     "fbb1be92821340c782b4faa9b631cdc2": {
      "model_module": "@jupyter-widgets/controls",
      "model_module_version": "1.5.0",
      "model_name": "ButtonStyleModel",
      "state": {
       "button_color": "lightgreen"
      }
     },
     "fbd565c5222c42c28c7b4127b1c7bc57": {
      "model_module": "@jupyter-widgets/base",
      "model_module_version": "1.2.0",
      "model_name": "LayoutModel",
      "state": {}
     },
     "fc063ae9458e49809a1b90571715c6d7": {
      "model_module": "@jupyter-widgets/controls",
      "model_module_version": "1.5.0",
      "model_name": "ButtonStyleModel",
      "state": {}
     },
     "fc0e473529c24147a92fe6ee799b00e8": {
      "model_module": "@jupyter-widgets/base",
      "model_module_version": "1.2.0",
      "model_name": "LayoutModel",
      "state": {
       "width": "250px"
      }
     },
     "fc481b5a74c543c68a43cd799c979960": {
      "model_module": "@jupyter-widgets/controls",
      "model_module_version": "1.5.0",
      "model_name": "DescriptionStyleModel",
      "state": {
       "description_width": ""
      }
     },
     "fc6379037b9846219a171b3270202739": {
      "model_module": "@jupyter-widgets/controls",
      "model_module_version": "1.5.0",
      "model_name": "ButtonModel",
      "state": {
       "description": "past participle",
       "layout": "IPY_MODEL_c4dc270cc512492aaf231baa9cc98943",
       "style": "IPY_MODEL_f5f21263bb7c4e26967adefa55cfd971"
      }
     },
     "fc80414d74ce4a919de1d70f7897f7bf": {
      "model_module": "@jupyter-widgets/base",
      "model_module_version": "1.2.0",
      "model_name": "LayoutModel",
      "state": {
       "width": "600px"
      }
     },
     "fcc57f97404a4ae4aa4a1e52ffa9b5a8": {
      "model_module": "@jupyter-widgets/base",
      "model_module_version": "1.2.0",
      "model_name": "LayoutModel",
      "state": {}
     },
     "fd14a3cb5f92467b8837399131acf000": {
      "model_module": "@jupyter-widgets/base",
      "model_module_version": "1.2.0",
      "model_name": "LayoutModel",
      "state": {
       "width": "600px"
      }
     },
     "fd1a050a49164b03b26b80e24b60f813": {
      "model_module": "@jupyter-widgets/base",
      "model_module_version": "1.2.0",
      "model_name": "LayoutModel",
      "state": {
       "width": "250px"
      }
     },
     "fd326fe5beb740278a7f90c613128784": {
      "model_module": "@jupyter-widgets/controls",
      "model_module_version": "1.5.0",
      "model_name": "DescriptionStyleModel",
      "state": {
       "description_width": ""
      }
     },
     "fd366efc3fdb40a0aa10bc2c0d3b50f9": {
      "model_module": "@jupyter-widgets/base",
      "model_module_version": "1.2.0",
      "model_name": "LayoutModel",
      "state": {
       "width": "500px"
      }
     },
     "fd42729f91ed4898bc5690025df2d996": {
      "model_module": "@jupyter-widgets/controls",
      "model_module_version": "1.5.0",
      "model_name": "DescriptionStyleModel",
      "state": {
       "description_width": "initial"
      }
     },
     "fd614b3716514fe5ae8df7414d6a8af3": {
      "model_module": "@jupyter-widgets/controls",
      "model_module_version": "1.5.0",
      "model_name": "ButtonModel",
      "state": {
       "description": "Korrekt?",
       "layout": "IPY_MODEL_8133bd3b1c9b488dbf203700121829b1",
       "style": "IPY_MODEL_7c5415791d49420ea4d60641fde87ef5"
      }
     },
     "fd7b421d95aa48c497e49904bf12a9de": {
      "model_module": "@jupyter-widgets/controls",
      "model_module_version": "1.5.0",
      "model_name": "ButtonStyleModel",
      "state": {}
     },
     "fd827d2cdef6473c8c8638f44beacafd": {
      "model_module": "@jupyter-widgets/controls",
      "model_module_version": "1.5.0",
      "model_name": "BoxModel",
      "state": {
       "children": [
        "IPY_MODEL_a40bbe0aeae740bf8bdf40a06e931532",
        "IPY_MODEL_623ef406ebd042869cf3a6befd64d3ec",
        "IPY_MODEL_a1a0352783df4fce9d0ae8bde89fe1cd",
        "IPY_MODEL_c2e136decac448caaf837c6e73170761",
        "IPY_MODEL_f9be0d832ed14061af3caba87c3e3335"
       ],
       "layout": "IPY_MODEL_f91ebd719044449c9cc1302f03beb2b4"
      }
     },
     "fd82b3f6cd8748a4a16523ea2641bd3d": {
      "model_module": "@jupyter-widgets/controls",
      "model_module_version": "1.5.0",
      "model_name": "HTMLModel",
      "state": {
       "layout": "IPY_MODEL_c47a4d8544184f23a7052c8d8ed93ac0",
       "style": "IPY_MODEL_17a03ebaa5e1485ea797f415936d867d",
       "value": "<h4 style=\"font-size:14px;\">Das Partizip <i>Verloren<i> ist eine</h4>"
      }
     },
     "fd9038a111e443ce9ea8b36d2ee095d9": {
      "model_module": "@jupyter-widgets/controls",
      "model_module_version": "1.5.0",
      "model_name": "DescriptionStyleModel",
      "state": {
       "description_width": ""
      }
     },
     "fdcb8ab6bf084abab57999a420b3ea69": {
      "model_module": "@jupyter-widgets/controls",
      "model_module_version": "1.5.0",
      "model_name": "HBoxModel",
      "state": {
       "children": [
        "IPY_MODEL_72786c1d5c1d4b52b7ad60fa767128d7",
        "IPY_MODEL_eb430a38ed044c18abd583dcc808654b"
       ],
       "layout": "IPY_MODEL_a052e74c201e40a7a2e8a0a802ec6672"
      }
     },
     "fe39d1664d9d4700bad9252abc1abda5": {
      "model_module": "@jupyter-widgets/controls",
      "model_module_version": "1.5.0",
      "model_name": "VBoxModel",
      "state": {
       "children": [
        "IPY_MODEL_f0c9b1deaf39472ba37466f956f2f234",
        "IPY_MODEL_b7a906c37771405a863ce91880018e25",
        "IPY_MODEL_3db7930fb5624727ad1c6fac79eabd04",
        "IPY_MODEL_17c3e1ecc8704a87b8ee31eb3a307171",
        "IPY_MODEL_63b939099af8496582d7556dc11c82a2"
       ],
       "layout": "IPY_MODEL_b25232ef58274484913b24737573f026"
      }
     },
     "fe73edc1991847dcb44f1a8994c10954": {
      "model_module": "@jupyter-widgets/base",
      "model_module_version": "1.2.0",
      "model_name": "LayoutModel",
      "state": {
       "width": "150px"
      }
     },
     "fe908947025d45eb9a434e4b7241247f": {
      "model_module": "@jupyter-widgets/controls",
      "model_module_version": "1.5.0",
      "model_name": "VBoxModel",
      "state": {
       "children": [
        "IPY_MODEL_ae35f1f86b0e419cac688f21aaec9cdf",
        "IPY_MODEL_12a3b804933b4a7a8ded5c42f01bd927",
        "IPY_MODEL_4422abf3cd7746c190eb06efd18e49c2",
        "IPY_MODEL_e583fc9329a9475d948012e343e03fde"
       ],
       "layout": "IPY_MODEL_9d6bb54cd73c484cb930dea9003abf93"
      }
     },
     "fe9db8209c784d3b959122393966b950": {
      "model_module": "@jupyter-widgets/base",
      "model_module_version": "1.2.0",
      "model_name": "LayoutModel",
      "state": {
       "justify_content": "center"
      }
     },
     "feb2fb7b25b948bb84527a9904067f4a": {
      "model_module": "@jupyter-widgets/controls",
      "model_module_version": "1.5.0",
      "model_name": "HTMLModel",
      "state": {
       "layout": "IPY_MODEL_5cdbc733c06f416081cafed4a7909660",
       "style": "IPY_MODEL_ccbab8c54619434dbd12a3e299be1fe0",
       "value": "<h4 style=\"font-size:14px;\">Kategorie.</h4>"
      }
     },
     "ff6cfa4d7cd84ac8a5a84c1147778c5b": {
      "model_module": "@jupyter-widgets/base",
      "model_module_version": "1.2.0",
      "model_name": "LayoutModel",
      "state": {
       "width": "600px"
      }
     },
     "ff7cfae399814856b7927b78d8c95b35": {
      "model_module": "@jupyter-widgets/controls",
      "model_module_version": "1.5.0",
      "model_name": "DescriptionStyleModel",
      "state": {
       "description_width": ""
      }
     },
     "ff7fe276752743919e5830e0a43c81e2": {
      "model_module": "@jupyter-widgets/controls",
      "model_module_version": "1.5.0",
      "model_name": "HTMLModel",
      "state": {
       "layout": "IPY_MODEL_827d40919cef4f008089c70c4141f455",
       "style": "IPY_MODEL_66bb7b2aa9b7480ba146738a410bb684",
       "value": "<h4 style=\"font-size:14px;\">Was sind syntaktische Kriterien für Wortkategorien?</h4>"
      }
     },
     "ff8d6583b6884fe686f1797d47dc0377": {
      "model_module": "@jupyter-widgets/controls",
      "model_module_version": "1.5.0",
      "model_name": "ButtonStyleModel",
      "state": {}
     },
     "ff92c62591f84aac9b1fdb1776d8b90d": {
      "model_module": "@jupyter-widgets/controls",
      "model_module_version": "1.5.0",
      "model_name": "HTMLModel",
      "state": {
       "layout": "IPY_MODEL_62b1e4b9fe324895a6989f38adf214df",
       "style": "IPY_MODEL_24077df82e2d4ced97fcca317a436108",
       "value": "<h4 style=\"font-size:14px;\"><i>seinen Schlüsselbund zwar noch nie verloren haben.</i></h4>"
      }
     },
     "ff9794cb0b42407da9e69843cb8a9f33": {
      "model_module": "@jupyter-widgets/base",
      "model_module_version": "1.2.0",
      "model_name": "LayoutModel",
      "state": {
       "width": "250px"
      }
     },
     "ffcbbb4e7b504b13971109318f8e7ebc": {
      "model_module": "@jupyter-widgets/controls",
      "model_module_version": "1.5.0",
      "model_name": "ButtonModel",
      "state": {
       "description": "base",
       "layout": "IPY_MODEL_f048af6f4db7463fb174f8f5d20c8960",
       "style": "IPY_MODEL_d84a89ebc43144438cca8033ada04113"
      }
     }
    },
    "version_major": 2,
    "version_minor": 0
   }
  }
 },
 "nbformat": 4,
 "nbformat_minor": 2
}
