{
 "cells": [
  {
   "cell_type": "markdown",
   "metadata": {},
   "source": [
    "***Vorlesung 'Syntax natürlicher Sprachen', WS 2019/20***\n",
    "\n",
    "---\n",
    "# Übung 4"
   ]
  },
  {
   "cell_type": "code",
   "execution_count": 1,
   "metadata": {},
   "outputs": [],
   "source": [
    "from exercises_4 import *\n",
    "from questions import aufgabe\n",
    "import nltk\n",
    "import sys"
   ]
  },
  {
   "cell_type": "markdown",
   "metadata": {},
   "source": [
    "---\n",
    "\n",
    "## Aufgabe 1: Eine erste (Phrasenstruktur-)Grammatik\n",
    "\n",
    "#### Werfen Sie einen Blick auf die folgende sehr einfache kontextfreie Grammatik und erklären Sie deren Funktionsweise."
   ]
  },
  {
   "cell_type": "code",
   "execution_count": 2,
   "metadata": {},
   "outputs": [],
   "source": [
    "grammar1 = \"\"\"\n",
    "    S -> NP VP\n",
    "    NP -> DET N\n",
    "    DET -> \"der\" | \"die\" | \"das\"\n",
    "    N -> \"Mann\" | \"Frau\" | \"Buch\"\n",
    "    VP -> V NP NP\n",
    "    V -> \"gibt\" | \"schenkt\"\n",
    "\"\"\""
   ]
  },
  {
   "cell_type": "markdown",
   "metadata": {},
   "source": [
    "---\n",
    "#### Sammeln Sie Sätze, die als grammatisch erkannt werden sollten, am besten in einer Liste."
   ]
  },
  {
   "cell_type": "code",
   "execution_count": 3,
   "metadata": {},
   "outputs": [],
   "source": [
    "test_sentences = [\n",
    "    \"der Mann gibt der Frau das Buch\"\n",
    "]"
   ]
  },
  {
   "cell_type": "markdown",
   "metadata": {},
   "source": [
    "---\n",
    "#### Die folgende Funktion kann Ihnen helfen, eine Reihe von Sätzen zu analysieren."
   ]
  },
  {
   "cell_type": "code",
   "execution_count": 4,
   "metadata": {},
   "outputs": [],
   "source": [
    "def test_grammar(grammar, sentences):\n",
    "    cfg = nltk.CFG.fromstring(grammar)\n",
    "    rd_parser = nltk.RecursiveDescentParser(cfg)\n",
    "    \n",
    "    for i, sent in enumerate(sentences, 1):\n",
    "        print(\"Satz {}: {}\".format(i, sent))\n",
    "        results = rd_parser.parse(sent.split())\n",
    "        analyzed = False\n",
    "        for tree in results:\n",
    "            tree.pretty_print(unicodelines=True)\n",
    "            analyzed = True\n",
    "        if not analyzed:\n",
    "            print(\"Keine Analyse möglich\", file=sys.stderr)"
   ]
  },
  {
   "cell_type": "markdown",
   "metadata": {},
   "source": [
    "---\n",
    "#### Führen Sie den Test jetzt für `grammar1` aus!"
   ]
  },
  {
   "cell_type": "code",
   "execution_count": 5,
   "metadata": {},
   "outputs": [
    {
     "name": "stdout",
     "output_type": "stream",
     "text": [
      "Satz 1: der Mann gibt der Frau das Buch\n",
      "                   S                       \n",
      "     ┌─────────────┴───────┐                \n",
      "     │                     VP              \n",
      "     │        ┌────────┬───┴────────┐       \n",
      "     NP       │        NP           NP     \n",
      " ┌───┴───┐    │    ┌───┴───┐    ┌───┴───┐   \n",
      "DET      N    V   DET      N   DET      N  \n",
      " │       │    │    │       │    │       │   \n",
      "der     Mann gibt der     Frau das     Buch\n",
      "\n"
     ]
    }
   ],
   "source": [
    "test_grammar(grammar1, test_sentences)"
   ]
  },
  {
   "cell_type": "markdown",
   "metadata": {},
   "source": [
    "---\n",
    "## Aufgabe 2: Ein- und zweistellige Verben\n",
    "\n",
    "#### Bis jetzt akzeptiert die Grammatik in `grammar1` lediglich dreistellige Verben. Erweitern Sie sie so, dass auch Verben mit weniger als zwei Objekten korrekte Verbalphrasen bilden können.\n",
    "\n",
    "#### Folgende Sätze sollten akzeptiert werden:"
   ]
  },
  {
   "cell_type": "code",
   "execution_count": null,
   "metadata": {},
   "outputs": [],
   "source": [
    "test_sentences.extend([\n",
    "    \"der Mann schläft\",\n",
    "    \"das Buch gefällt der Frau\",\n",
    "    \"die Frau kennt das Buch\"\n",
    "])"
   ]
  },
  {
   "cell_type": "code",
   "execution_count": null,
   "metadata": {},
   "outputs": [],
   "source": [
    "grammar2 = \"\"\"\n",
    "    S -> NP VP\n",
    "    NP -> DET N\n",
    "    DET -> \"der\" | \"die\" | \"das\"\n",
    "    N -> \"Mann\" | \"Frau\" | \"Buch\"\n",
    "    VP -> V NP NP\n",
    "    V -> \"gibt\" | \"schenkt\"\n",
    "\"\"\""
   ]
  },
  {
   "cell_type": "code",
   "execution_count": null,
   "metadata": {
    "scrolled": false
   },
   "outputs": [],
   "source": [
    "test_grammar(grammar2, test_sentences)"
   ]
  },
  {
   "cell_type": "markdown",
   "metadata": {},
   "source": [
    "---\n",
    "\n",
    "## Aufgabe 3: Beliebig lange Phrasen\n",
    "\n",
    "#### Erweitern Sie die Grammatik nun derart, dass Nominalphrasen auch Adjektive enthalten dürfen – und zwar beliebig viele.\n",
    "\n",
    "#### Beispiele:"
   ]
  },
  {
   "cell_type": "code",
   "execution_count": null,
   "metadata": {},
   "outputs": [],
   "source": [
    "test_sentences.extend([\n",
    "    \"die kluge schöne Frau kennt das Buch\",\n",
    "    \"der schöne kluge Mann gibt der Frau das dicke Buch\",\n",
    "    \"das dicke schöne kluge Buch schläft\"\n",
    "])"
   ]
  },
  {
   "cell_type": "code",
   "execution_count": null,
   "metadata": {},
   "outputs": [],
   "source": [
    "grammar3 = \"\"\"\n",
    "    S -> NP VP\n",
    "    NP -> DET N\n",
    "    DET -> \"der\" | \"die\" | \"das\"\n",
    "    N -> \"Mann\" | \"Frau\" | \"Buch\"\n",
    "    VP -> V NP NP\n",
    "    V -> \"gibt\" | \"schenkt\"\n",
    "\"\"\""
   ]
  },
  {
   "cell_type": "code",
   "execution_count": null,
   "metadata": {},
   "outputs": [],
   "source": [
    "test_grammar(grammar3, test_sentences)"
   ]
  },
  {
   "cell_type": "markdown",
   "metadata": {},
   "source": [
    "---\n",
    "# Hausaufgaben"
   ]
  },
  {
   "cell_type": "markdown",
   "metadata": {},
   "source": [
    "---\n",
    "## Aufgabe 4: Eigennamen\n",
    "\n",
    "#### Eigennamen können auch ohne Artikel eine Nominalphrase bilden. Erweitern Sie die Grammatik entsprechend.\n",
    "\n",
    "#### Folgende Sätze sollten korrekt analysiert werden:"
   ]
  },
  {
   "cell_type": "code",
   "execution_count": null,
   "metadata": {},
   "outputs": [],
   "source": [
    "test_sentences.extend([\n",
    "    \"der Mann kennt Chomsky\",\n",
    "    \"Marie gibt Fritz das Buch\"\n",
    "])"
   ]
  },
  {
   "cell_type": "markdown",
   "metadata": {},
   "source": [
    "#### Stellen Sie außerdem sicher, dass folgende Sätze KEINE Analyse liefern!"
   ]
  },
  {
   "cell_type": "code",
   "execution_count": null,
   "metadata": {},
   "outputs": [],
   "source": [
    "negative_examples = [\n",
    "    \"Mann gibt Frau Buch\",\n",
    "    \"Mann schläft\"\n",
    "]"
   ]
  },
  {
   "cell_type": "code",
   "execution_count": null,
   "metadata": {},
   "outputs": [],
   "source": [
    "grammar4 = \"\"\"\n",
    "    S -> NP VP\n",
    "    NP -> DET N\n",
    "    DET -> \"der\" | \"die\" | \"das\"\n",
    "    N -> \"Mann\" | \"Frau\" | \"Buch\"\n",
    "    VP -> V NP NP\n",
    "    V -> \"gibt\" | \"schenkt\"\n",
    "\"\"\""
   ]
  },
  {
   "cell_type": "code",
   "execution_count": null,
   "metadata": {},
   "outputs": [],
   "source": [
    "test_grammar(grammar4, test_sentences)"
   ]
  },
  {
   "cell_type": "markdown",
   "metadata": {},
   "source": [
    "---\n",
    "## Aufgabe 5: Präpositionalphrasen\n",
    "\n",
    "#### Erweitern Sie die Grammatik nun derart, dass sowohl Nominalphrasen als auch Verbalphrasen durch Präpositionalphrasen modifiziert werden können. Erkennen Sie die Ambiguität von Übungsblatt 2 wieder?\n",
    "\n",
    "#### Folgende Sätze sollten akzeptiert werden:"
   ]
  },
  {
   "cell_type": "code",
   "execution_count": null,
   "metadata": {},
   "outputs": [],
   "source": [
    "test_sentences.extend([\n",
    "    \"der Mann schläft neben dem Buch\",\n",
    "    \"die Frau kennt das dicke Buch über Chomsky\",\n",
    "    \"die Frau schenkt dem Mann das Buch auf dem Tisch\"\n",
    "])"
   ]
  },
  {
   "cell_type": "markdown",
   "metadata": {},
   "source": [
    "#### Beachten Sie, dass die Form des Artikels *dem* und das Nomen *Tisch* auch noch als lexikalische Regeln ergänzt werden müssen. \n",
    "\n",
    "#### Stellen Sie zudem sicher, dass für den 2. und 3. Satz zwei Analysen generiert werden.\n",
    "\n",
    "#### Achten Sie außerdem darauf, dass Ihre Erweiterung nicht die Analyse zuvor akzeptierter grammatischer Sätze verhindert!"
   ]
  },
  {
   "cell_type": "code",
   "execution_count": null,
   "metadata": {},
   "outputs": [],
   "source": [
    "grammar5 = \"\"\"\n",
    "    S -> NP VP\n",
    "    NP -> DET N\n",
    "    DET -> \"der\" | \"die\" | \"das\"\n",
    "    N -> \"Mann\" | \"Frau\" | \"Buch\"\n",
    "    VP -> V NP NP\n",
    "    V -> \"gibt\" | \"schenkt\"\n",
    "\"\"\""
   ]
  },
  {
   "cell_type": "code",
   "execution_count": null,
   "metadata": {},
   "outputs": [],
   "source": [
    "test_grammar(grammar5, test_sentences)"
   ]
  },
  {
   "cell_type": "markdown",
   "metadata": {},
   "source": [
    "---\n",
    "## Aufgabe 6: Fragen zu NLTK-Kapitel 8.3\n",
    "\n",
    "#### Lesen Sie das NLTK-Teilkapitel 8.3 (’Context Free Grammar’): http://www.nltk.org/book/ch08.html.\n",
    "\n",
    "#### Beantworten Sie insbesondere folgende Fragen:"
   ]
  },
  {
   "cell_type": "markdown",
   "metadata": {},
   "source": [
    "---\n",
    "### Aufgabe 6 a:"
   ]
  },
  {
   "cell_type": "code",
   "execution_count": 6,
   "metadata": {},
   "outputs": [
    {
     "data": {
      "application/vnd.jupyter.widget-view+json": {
       "model_id": "8021fbedcf624f91982ec995f70dc8da",
       "version_major": 2,
       "version_minor": 0
      },
      "text/plain": [
       "MultipleChoice(children=(HTML(value='<h4 style=\"font-size:14px;\">Wie ist im NLTK vorzugehen, wenn ein (wohlgef…"
      ]
     },
     "metadata": {},
     "output_type": "display_data"
    }
   ],
   "source": [
    "aufgabe(blatt4_6a)"
   ]
  },
  {
   "cell_type": "markdown",
   "metadata": {},
   "source": [
    "---\n",
    "### Aufgabe 6 b:"
   ]
  },
  {
   "cell_type": "code",
   "execution_count": 7,
   "metadata": {},
   "outputs": [
    {
     "data": {
      "application/vnd.jupyter.widget-view+json": {
       "model_id": "80ecbe4bf6d341aa981dd9b0514bce9d",
       "version_major": 2,
       "version_minor": 0
      },
      "text/plain": [
       "OpenTextfield(children=(HTML(value='<h4 style=\"font-size:14px;\">Wie können im NLTK die Regeln einer Grammatik …"
      ]
     },
     "metadata": {},
     "output_type": "display_data"
    }
   ],
   "source": [
    "aufgabe(blatt4_6b)"
   ]
  },
  {
   "cell_type": "markdown",
   "metadata": {},
   "source": [
    "---\n",
    "### Aufgabe 6 c:\n",
    "\n",
    "#### Geben Sie 2 NP-Phrasenstrukturregeln mit indirekter Rekursion an und beantworten Sie danach die folgende Frage!"
   ]
  },
  {
   "cell_type": "code",
   "execution_count": 8,
   "metadata": {},
   "outputs": [
    {
     "data": {
      "application/vnd.jupyter.widget-view+json": {
       "model_id": "b103290881a54512a32eb7981d884d0e",
       "version_major": 2,
       "version_minor": 0
      },
      "text/plain": [
       "MultipleChoice(children=(HTML(value='<h4 style=\"font-size:14px;\">Welche Beispiele zeigen direkte Rekursion?</h…"
      ]
     },
     "metadata": {},
     "output_type": "display_data"
    }
   ],
   "source": [
    "aufgabe(blatt4_6c)"
   ]
  },
  {
   "cell_type": "markdown",
   "metadata": {},
   "source": [
    "---\n",
    "### Aufgabe 6 d:\n",
    "\n",
    "#### Geben Sie ein Beispiel für eine links- sowie eine rechtsrekursive NP-Phrasenstrukturregel an.\n",
    "\n",
    "#### Beantworten Sie auch die folgenden Fragen:"
   ]
  },
  {
   "cell_type": "code",
   "execution_count": 9,
   "metadata": {},
   "outputs": [
    {
     "data": {
      "application/vnd.jupyter.widget-view+json": {
       "model_id": "3537ba765a8d48b4946b101855f9497d",
       "version_major": 2,
       "version_minor": 0
      },
      "text/plain": [
       "MultipleChoice(children=(HTML(value='<h4 style=\"font-size:14px;\">Welche Beispiele für Phrasenstrukturregeln si…"
      ]
     },
     "metadata": {},
     "output_type": "display_data"
    },
    {
     "data": {
      "application/vnd.jupyter.widget-view+json": {
       "model_id": "1a378f5e923344d1bb987aa5bad9254c",
       "version_major": 2,
       "version_minor": 0
      },
      "text/plain": [
       "MultipleChoice(children=(HTML(value='<h4 style=\"font-size:14px;\">Welche Beispiele sind rechtsrekursiv?</h4>'),…"
      ]
     },
     "metadata": {},
     "output_type": "display_data"
    }
   ],
   "source": [
    "aufgabe(blatt4_6d)"
   ]
  }
 ],
 "metadata": {
  "kernelspec": {
   "display_name": "Python 3",
   "language": "python",
   "name": "python3"
  },
  "language_info": {
   "codemirror_mode": {
    "name": "ipython",
    "version": 3
   },
   "file_extension": ".py",
   "mimetype": "text/x-python",
   "name": "python",
   "nbconvert_exporter": "python",
   "pygments_lexer": "ipython3",
   "version": "3.7.4"
  },
  "widgets": {
   "application/vnd.jupyter.widget-state+json": {
    "state": {
     "0c14c7c2ffd44a669c50e7f38daeeb7b": {
      "model_module": "@jupyter-widgets/base",
      "model_module_version": "1.0.0",
      "model_name": "LayoutModel",
      "state": {
       "justify_content": "center"
      }
     },
     "0f7b16451c7a4da8a940d419842909ff": {
      "model_module": "@jupyter-widgets/base",
      "model_module_version": "1.0.0",
      "model_name": "LayoutModel",
      "state": {
       "width": "600px"
      }
     },
     "17297b2f6a5043c2baed8ab64e9884c6": {
      "model_module": "@jupyter-widgets/base",
      "model_module_version": "1.0.0",
      "model_name": "LayoutModel",
      "state": {}
     },
     "1a378f5e923344d1bb987aa5bad9254c": {
      "model_module": "@jupyter-widgets/controls",
      "model_module_version": "1.2.0",
      "model_name": "VBoxModel",
      "state": {
       "children": [
        "IPY_MODEL_c94bcdae920d4b359709d160e8f0e8c4",
        "IPY_MODEL_9de18f630831423ca93da73e30704097",
        "IPY_MODEL_7707c6a10e834621824d2e5f9a8e484c",
        "IPY_MODEL_7f98e224040a4977abbb4bf6bd400c4b"
       ],
       "layout": "IPY_MODEL_17297b2f6a5043c2baed8ab64e9884c6"
      }
     },
     "1ea1fde16e5a4d4cacf1e1240ab0bef2": {
      "model_module": "@jupyter-widgets/controls",
      "model_module_version": "1.2.0",
      "model_name": "DescriptionStyleModel",
      "state": {
       "description_width": ""
      }
     },
     "1ef5922219c2469b87cd9db70c976ec1": {
      "model_module": "@jupyter-widgets/controls",
      "model_module_version": "1.2.0",
      "model_name": "DescriptionStyleModel",
      "state": {
       "description_width": ""
      }
     },
     "2308a99fb49d4dafabf5b89254139879": {
      "model_module": "@jupyter-widgets/controls",
      "model_module_version": "1.2.0",
      "model_name": "DescriptionStyleModel",
      "state": {
       "description_width": "initial"
      }
     },
     "256fbae5726e44d4abcc40d73ada3c0c": {
      "model_module": "@jupyter-widgets/controls",
      "model_module_version": "1.2.0",
      "model_name": "DescriptionStyleModel",
      "state": {
       "description_width": ""
      }
     },
     "266e239e2cef434d8e6dfa80de229e41": {
      "model_module": "@jupyter-widgets/controls",
      "model_module_version": "1.2.0",
      "model_name": "DescriptionStyleModel",
      "state": {
       "description_width": "initial"
      }
     },
     "26c21909d90d4c13ba1603d33ed76856": {
      "model_module": "@jupyter-widgets/base",
      "model_module_version": "1.0.0",
      "model_name": "LayoutModel",
      "state": {}
     },
     "271bf387d1dc499184e376b5942aa8a0": {
      "model_module": "@jupyter-widgets/controls",
      "model_module_version": "1.2.0",
      "model_name": "VBoxModel",
      "state": {
       "children": [
        "IPY_MODEL_50523b9b27344ebf9eb89606aff07608",
        "IPY_MODEL_445415ab63e44026bb1870abbd9ed185",
        "IPY_MODEL_7bc5aaea67f3407db651434cda1d4528"
       ],
       "layout": "IPY_MODEL_b40dc5a5c320407ba8684e190769e35d"
      }
     },
     "2827256a5d2f403caf5bd1a776755aa4": {
      "model_module": "@jupyter-widgets/base",
      "model_module_version": "1.0.0",
      "model_name": "LayoutModel",
      "state": {}
     },
     "2ae58d024b8245d0bc8dc8fd636ac814": {
      "model_module": "@jupyter-widgets/base",
      "model_module_version": "1.0.0",
      "model_name": "LayoutModel",
      "state": {
       "width": "600px"
      }
     },
     "2b3e386733284320a38da621e9977311": {
      "model_module": "@jupyter-widgets/base",
      "model_module_version": "1.0.0",
      "model_name": "LayoutModel",
      "state": {
       "width": "150px"
      }
     },
     "2cae34cce5354059af9dc442c7bae30f": {
      "model_module": "@jupyter-widgets/controls",
      "model_module_version": "1.2.0",
      "model_name": "DescriptionStyleModel",
      "state": {
       "description_width": ""
      }
     },
     "2cef78228625419db72bfef0ffdc9a74": {
      "model_module": "@jupyter-widgets/controls",
      "model_module_version": "1.2.0",
      "model_name": "DescriptionStyleModel",
      "state": {
       "description_width": ""
      }
     },
     "317c4d931ecf46f9a459f14965336374": {
      "model_module": "@jupyter-widgets/controls",
      "model_module_version": "1.2.0",
      "model_name": "CheckboxModel",
      "state": {
       "description": "anderen Parser verwenden",
       "disabled": false,
       "layout": "IPY_MODEL_96957ab215e7429eb49812b0dcda38bd",
       "style": "IPY_MODEL_58948815eb95465ab919fb12fe75bca9",
       "value": false
      }
     },
     "32131b4376c84b0db01d264125d2417c": {
      "model_module": "@jupyter-widgets/base",
      "model_module_version": "1.0.0",
      "model_name": "LayoutModel",
      "state": {}
     },
     "33a03329004b4f46a60170020778d132": {
      "model_module": "@jupyter-widgets/base",
      "model_module_version": "1.0.0",
      "model_name": "LayoutModel",
      "state": {}
     },
     "3537ba765a8d48b4946b101855f9497d": {
      "model_module": "@jupyter-widgets/controls",
      "model_module_version": "1.2.0",
      "model_name": "VBoxModel",
      "state": {
       "children": [
        "IPY_MODEL_def95c5d20da45e58691c1f028bf53da",
        "IPY_MODEL_919e2a21264344b29443b3899f806ff9",
        "IPY_MODEL_271bf387d1dc499184e376b5942aa8a0",
        "IPY_MODEL_ef218a6b84ab44cc89009ce4e397524c"
       ],
       "layout": "IPY_MODEL_4c309693dc8a4a6987fdf24b5d75d822"
      }
     },
     "37e7eea6b9004eb18c60295a2499d9b8": {
      "model_module": "@jupyter-widgets/base",
      "model_module_version": "1.0.0",
      "model_name": "LayoutModel",
      "state": {
       "width": "600px"
      }
     },
     "3b590dda456c4846bd0de4bf31d8fece": {
      "model_module": "@jupyter-widgets/base",
      "model_module_version": "1.0.0",
      "model_name": "LayoutModel",
      "state": {
       "width": "600px"
      }
     },
     "3dbb1a7faa454a168141607ae2b89751": {
      "model_module": "@jupyter-widgets/controls",
      "model_module_version": "1.2.0",
      "model_name": "DescriptionStyleModel",
      "state": {
       "description_width": ""
      }
     },
     "3ebb6ffddaf34b3b95b5eed7b7bff35f": {
      "model_module": "@jupyter-widgets/base",
      "model_module_version": "1.0.0",
      "model_name": "LayoutModel",
      "state": {
       "width": "600px"
      }
     },
     "3edef88083ba4f0fa1ea21c49adf1caa": {
      "model_module": "@jupyter-widgets/controls",
      "model_module_version": "1.2.0",
      "model_name": "DescriptionStyleModel",
      "state": {
       "description_width": "initial"
      }
     },
     "3f3c8b2426e94931a0f7668dfc6ad587": {
      "model_module": "@jupyter-widgets/controls",
      "model_module_version": "1.2.0",
      "model_name": "HTMLModel",
      "state": {
       "layout": "IPY_MODEL_c05adb9ee6a34a5cad2ada0bbd32a1a3",
       "style": "IPY_MODEL_256fbae5726e44d4abcc40d73ada3c0c",
       "value": "<i>Vervollständigen Sie die Listcomprehension, indem sie an den Stellen der Unterstriche die richtigen Funktionen einsetzen.</i>"
      }
     },
     "445415ab63e44026bb1870abbd9ed185": {
      "model_module": "@jupyter-widgets/controls",
      "model_module_version": "1.2.0",
      "model_name": "CheckboxModel",
      "state": {
       "description": "NOM -> NOM PP",
       "disabled": false,
       "layout": "IPY_MODEL_7efc3634c43d4f2b98809cc7a6088296",
       "style": "IPY_MODEL_84c9fd7204e5435e8f57ca754cae4aef",
       "value": false
      }
     },
     "4607edda68994d938993b35397e59e55": {
      "model_module": "@jupyter-widgets/controls",
      "model_module_version": "1.2.0",
      "model_name": "DescriptionStyleModel",
      "state": {
       "description_width": "initial"
      }
     },
     "4becbed4d2a641179d8cec1d2ac73cfd": {
      "model_module": "@jupyter-widgets/controls",
      "model_module_version": "1.2.0",
      "model_name": "ButtonModel",
      "state": {
       "description": "Korrekt?",
       "layout": "IPY_MODEL_a0a1817ecd474dcf940660cb0cb53b73",
       "style": "IPY_MODEL_d4c33aecaddd4f4b8d51c7142361c576"
      }
     },
     "4c20735104de4f378fef6f1e5292d1bc": {
      "model_module": "@jupyter-widgets/controls",
      "model_module_version": "1.2.0",
      "model_name": "CheckboxModel",
      "state": {
       "description": "PP -> P NP",
       "disabled": false,
       "layout": "IPY_MODEL_cca215e59a87491fa94509b2cc3a2320",
       "style": "IPY_MODEL_2308a99fb49d4dafabf5b89254139879",
       "value": false
      }
     },
     "4c3043de8d1d43a381c61a1deb775485": {
      "model_module": "@jupyter-widgets/controls",
      "model_module_version": "1.2.0",
      "model_name": "HTMLModel",
      "state": {
       "layout": "IPY_MODEL_bac49e41b0584f108d55c3e65772fb61",
       "style": "IPY_MODEL_845c6c5052f84dc0a32e26c62e3a093e",
       "value": "<h4 style=\"font-size:14px;\">Welche Beispiele zeigen direkte Rekursion?</h4>"
      }
     },
     "4c309693dc8a4a6987fdf24b5d75d822": {
      "model_module": "@jupyter-widgets/base",
      "model_module_version": "1.0.0",
      "model_name": "LayoutModel",
      "state": {}
     },
     "4efc98aace5041e38bde2b7d05ce6f34": {
      "model_module": "@jupyter-widgets/controls",
      "model_module_version": "1.2.0",
      "model_name": "DescriptionStyleModel",
      "state": {
       "description_width": ""
      }
     },
     "502d8b058c5e4a7eaec51216a4deb9f9": {
      "model_module": "@jupyter-widgets/base",
      "model_module_version": "1.0.0",
      "model_name": "LayoutModel",
      "state": {
       "width": "500px"
      }
     },
     "50523b9b27344ebf9eb89606aff07608": {
      "model_module": "@jupyter-widgets/controls",
      "model_module_version": "1.2.0",
      "model_name": "CheckboxModel",
      "state": {
       "description": "NOM -> ADJ NOM",
       "disabled": false,
       "layout": "IPY_MODEL_3b590dda456c4846bd0de4bf31d8fece",
       "style": "IPY_MODEL_3edef88083ba4f0fa1ea21c49adf1caa",
       "value": false
      }
     },
     "52475c7d64c748afb4381b1f82ad794c": {
      "model_module": "@jupyter-widgets/controls",
      "model_module_version": "1.2.0",
      "model_name": "DescriptionStyleModel",
      "state": {
       "description_width": "initial"
      }
     },
     "56d8e39e412643b7a282d94fa62c4b24": {
      "model_module": "@jupyter-widgets/base",
      "model_module_version": "1.0.0",
      "model_name": "LayoutModel",
      "state": {
       "width": "600px"
      }
     },
     "58948815eb95465ab919fb12fe75bca9": {
      "model_module": "@jupyter-widgets/controls",
      "model_module_version": "1.2.0",
      "model_name": "DescriptionStyleModel",
      "state": {
       "description_width": "initial"
      }
     },
     "593176babecf43a29d6e7be5867c4d66": {
      "model_module": "@jupyter-widgets/base",
      "model_module_version": "1.0.0",
      "model_name": "LayoutModel",
      "state": {
       "width": "250px"
      }
     },
     "59a185a8720649a3af08b0ad0868fb5b": {
      "model_module": "@jupyter-widgets/base",
      "model_module_version": "1.0.0",
      "model_name": "LayoutModel",
      "state": {
       "justify_content": "center"
      }
     },
     "5c8ced6858df47099bae113ed92b9236": {
      "model_module": "@jupyter-widgets/base",
      "model_module_version": "1.0.0",
      "model_name": "LayoutModel",
      "state": {
       "width": "250px"
      }
     },
     "5d1752d89c724ef69c026a0a4dd82808": {
      "model_module": "@jupyter-widgets/controls",
      "model_module_version": "1.2.0",
      "model_name": "VBoxModel",
      "state": {
       "children": [
        "IPY_MODEL_ff25f2bccbd947759f33a53f009f91cd",
        "IPY_MODEL_c9bc71c0ec4943929c61bb550e558bb0",
        "IPY_MODEL_4c20735104de4f378fef6f1e5292d1bc"
       ],
       "layout": "IPY_MODEL_fcdc0fa188e34730a6c44d1ee6a1c9d7"
      }
     },
     "659f440f967447f7b33daeeec9045536": {
      "model_module": "@jupyter-widgets/controls",
      "model_module_version": "1.2.0",
      "model_name": "ButtonStyleModel",
      "state": {}
     },
     "6a5c380a0e874ca6af01479dc238e735": {
      "model_module": "@jupyter-widgets/controls",
      "model_module_version": "1.2.0",
      "model_name": "DescriptionStyleModel",
      "state": {
       "description_width": ""
      }
     },
     "6c4d983acdae413b912dd0660c6cf15d": {
      "model_module": "@jupyter-widgets/controls",
      "model_module_version": "1.2.0",
      "model_name": "CheckboxModel",
      "state": {
       "description": "NOM -> ADJ NOM",
       "disabled": false,
       "layout": "IPY_MODEL_d220eecb68af4b09a32d13084edb089e",
       "style": "IPY_MODEL_b1cefb0e841a4b5d9ea718811707a045",
       "value": false
      }
     },
     "7370ffa0523143219afa8f32666d0cdd": {
      "model_module": "@jupyter-widgets/controls",
      "model_module_version": "1.2.0",
      "model_name": "ButtonStyleModel",
      "state": {}
     },
     "75c82d408d114246aeed2290a874a5f0": {
      "model_module": "@jupyter-widgets/base",
      "model_module_version": "1.0.0",
      "model_name": "LayoutModel",
      "state": {}
     },
     "76feb7de9a9842da8cc2dbcd0d4249b7": {
      "model_module": "@jupyter-widgets/base",
      "model_module_version": "1.0.0",
      "model_name": "LayoutModel",
      "state": {}
     },
     "7707c6a10e834621824d2e5f9a8e484c": {
      "model_module": "@jupyter-widgets/controls",
      "model_module_version": "1.2.0",
      "model_name": "VBoxModel",
      "state": {
       "children": [
        "IPY_MODEL_6c4d983acdae413b912dd0660c6cf15d",
        "IPY_MODEL_e3c9e8a53f374679b0c21fcaf4b3b59a",
        "IPY_MODEL_f2e2671185bf4a1abdb001daf2a1eadb"
       ],
       "layout": "IPY_MODEL_76feb7de9a9842da8cc2dbcd0d4249b7"
      }
     },
     "7bc5aaea67f3407db651434cda1d4528": {
      "model_module": "@jupyter-widgets/controls",
      "model_module_version": "1.2.0",
      "model_name": "CheckboxModel",
      "state": {
       "description": "PP -> P NP",
       "disabled": false,
       "layout": "IPY_MODEL_b9d1716d69c54024b687625995ce6777",
       "style": "IPY_MODEL_4607edda68994d938993b35397e59e55",
       "value": false
      }
     },
     "7e95ccd8d7a9440897de1adb7b44eebf": {
      "model_module": "@jupyter-widgets/controls",
      "model_module_version": "1.2.0",
      "model_name": "DescriptionStyleModel",
      "state": {
       "description_width": "initial"
      }
     },
     "7efc3634c43d4f2b98809cc7a6088296": {
      "model_module": "@jupyter-widgets/base",
      "model_module_version": "1.0.0",
      "model_name": "LayoutModel",
      "state": {
       "width": "600px"
      }
     },
     "7f98e224040a4977abbb4bf6bd400c4b": {
      "model_module": "@jupyter-widgets/controls",
      "model_module_version": "1.2.0",
      "model_name": "ButtonModel",
      "state": {
       "description": "Korrekt?",
       "layout": "IPY_MODEL_5c8ced6858df47099bae113ed92b9236",
       "style": "IPY_MODEL_659f440f967447f7b33daeeec9045536"
      }
     },
     "8021fbedcf624f91982ec995f70dc8da": {
      "model_module": "@jupyter-widgets/controls",
      "model_module_version": "1.2.0",
      "model_name": "VBoxModel",
      "state": {
       "children": [
        "IPY_MODEL_d81e3c318a384f64bfcb04766a59a722",
        "IPY_MODEL_a9e0f72736504782840f7cabe4aa829a",
        "IPY_MODEL_a648f2286bb6485c94aa7c4053f7555b",
        "IPY_MODEL_cc8e0beb2edd4078826bf144855e719a"
       ],
       "layout": "IPY_MODEL_26c21909d90d4c13ba1603d33ed76856"
      }
     },
     "80ecbe4bf6d341aa981dd9b0514bce9d": {
      "model_module": "@jupyter-widgets/controls",
      "model_module_version": "1.2.0",
      "model_name": "VBoxModel",
      "state": {
       "children": [
        "IPY_MODEL_c418269caefc4493aed07ccbde9222cf",
        "IPY_MODEL_3f3c8b2426e94931a0f7668dfc6ad587",
        "IPY_MODEL_a5d5bbf026c04ca781f44b2d90e286d9",
        "IPY_MODEL_e223f05abf464096bdfc2b377554943d"
       ],
       "layout": "IPY_MODEL_2827256a5d2f403caf5bd1a776755aa4"
      }
     },
     "826a334f48604c67930266fb30fb0afe": {
      "model_module": "@jupyter-widgets/base",
      "model_module_version": "1.0.0",
      "model_name": "LayoutModel",
      "state": {}
     },
     "845c6c5052f84dc0a32e26c62e3a093e": {
      "model_module": "@jupyter-widgets/controls",
      "model_module_version": "1.2.0",
      "model_name": "DescriptionStyleModel",
      "state": {
       "description_width": ""
      }
     },
     "84c9fd7204e5435e8f57ca754cae4aef": {
      "model_module": "@jupyter-widgets/controls",
      "model_module_version": "1.2.0",
      "model_name": "DescriptionStyleModel",
      "state": {
       "description_width": "initial"
      }
     },
     "8c38a6d5fb774ea88decadc25137b4ad": {
      "model_module": "@jupyter-widgets/controls",
      "model_module_version": "1.2.0",
      "model_name": "ButtonModel",
      "state": {
       "description": "Lösung zeigen",
       "layout": "IPY_MODEL_2b3e386733284320a38da621e9977311",
       "style": "IPY_MODEL_d36c9db70cdd4ad0993d076953bf3de6"
      }
     },
     "8c629294ddfe4a789c0b7d9ab9aab7ab": {
      "model_module": "@jupyter-widgets/base",
      "model_module_version": "1.0.0",
      "model_name": "LayoutModel",
      "state": {
       "width": "250px"
      }
     },
     "8cb9c5f1ab0947be85e321b1204fbe36": {
      "model_module": "@jupyter-widgets/base",
      "model_module_version": "1.0.0",
      "model_name": "LayoutModel",
      "state": {
       "justify_content": "center"
      }
     },
     "919e2a21264344b29443b3899f806ff9": {
      "model_module": "@jupyter-widgets/controls",
      "model_module_version": "1.2.0",
      "model_name": "HTMLModel",
      "state": {
       "layout": "IPY_MODEL_0c14c7c2ffd44a669c50e7f38daeeb7b",
       "style": "IPY_MODEL_2cae34cce5354059af9dc442c7bae30f",
       "value": "<i>Markieren Sie <ins>alle</ins> passenden Antworten: </i>"
      }
     },
     "924137723b3443bdb1e174483e8ce0d0": {
      "model_module": "@jupyter-widgets/controls",
      "model_module_version": "1.2.0",
      "model_name": "DescriptionStyleModel",
      "state": {
       "description_width": ""
      }
     },
     "96957ab215e7429eb49812b0dcda38bd": {
      "model_module": "@jupyter-widgets/base",
      "model_module_version": "1.0.0",
      "model_name": "LayoutModel",
      "state": {
       "width": "600px"
      }
     },
     "9d764c2bbfd5406f907568788c7d5ecb": {
      "model_module": "@jupyter-widgets/controls",
      "model_module_version": "1.2.0",
      "model_name": "CheckboxModel",
      "state": {
       "description": "Grammatik neu einlesen",
       "disabled": false,
       "layout": "IPY_MODEL_37e7eea6b9004eb18c60295a2499d9b8",
       "style": "IPY_MODEL_c5883ccf88a34c348bb7656cc6255886",
       "value": false
      }
     },
     "9de18f630831423ca93da73e30704097": {
      "model_module": "@jupyter-widgets/controls",
      "model_module_version": "1.2.0",
      "model_name": "HTMLModel",
      "state": {
       "layout": "IPY_MODEL_59a185a8720649a3af08b0ad0868fb5b",
       "style": "IPY_MODEL_1ef5922219c2469b87cd9db70c976ec1",
       "value": "<i>Markieren Sie <ins>alle</ins> passenden Antworten: </i>"
      }
     },
     "a0840ca2a1444916bc80e58d5a20cec3": {
      "model_module": "@jupyter-widgets/controls",
      "model_module_version": "1.2.0",
      "model_name": "CheckboxModel",
      "state": {
       "description": "<code>trace</code>-Output aktivieren und überprüfen",
       "disabled": false,
       "layout": "IPY_MODEL_56d8e39e412643b7a282d94fa62c4b24",
       "style": "IPY_MODEL_52475c7d64c748afb4381b1f82ad794c",
       "value": false
      }
     },
     "a0a1817ecd474dcf940660cb0cb53b73": {
      "model_module": "@jupyter-widgets/base",
      "model_module_version": "1.0.0",
      "model_name": "LayoutModel",
      "state": {
       "width": "350px"
      }
     },
     "a26f5505f184494e8f1e2e9a532963ca": {
      "model_module": "@jupyter-widgets/controls",
      "model_module_version": "1.2.0",
      "model_name": "HTMLModel",
      "state": {
       "layout": "IPY_MODEL_b1c1d91bf17d40b9a488eb3486d40607",
       "style": "IPY_MODEL_4efc98aace5041e38bde2b7d05ce6f34",
       "value": "<i>Markieren Sie <ins>alle</ins> passenden Antworten: </i>"
      }
     },
     "a408c81878c94655a947d4e971eb05fd": {
      "model_module": "@jupyter-widgets/controls",
      "model_module_version": "1.2.0",
      "model_name": "ButtonStyleModel",
      "state": {}
     },
     "a41f3bb0161649148123991124b83890": {
      "model_module": "@jupyter-widgets/controls",
      "model_module_version": "1.2.0",
      "model_name": "DescriptionStyleModel",
      "state": {
       "description_width": "initial"
      }
     },
     "a5d5bbf026c04ca781f44b2d90e286d9": {
      "model_module": "@jupyter-widgets/controls",
      "model_module_version": "1.2.0",
      "model_name": "TextareaModel",
      "state": {
       "layout": "IPY_MODEL_502d8b058c5e4a7eaec51216a4deb9f9",
       "placeholder": "Type something",
       "style": "IPY_MODEL_6a5c380a0e874ca6af01479dc238e735",
       "value": "for p in grammar1.________(): _______(p)"
      }
     },
     "a648f2286bb6485c94aa7c4053f7555b": {
      "model_module": "@jupyter-widgets/controls",
      "model_module_version": "1.2.0",
      "model_name": "VBoxModel",
      "state": {
       "children": [
        "IPY_MODEL_a0840ca2a1444916bc80e58d5a20cec3",
        "IPY_MODEL_9d764c2bbfd5406f907568788c7d5ecb",
        "IPY_MODEL_317c4d931ecf46f9a459f14965336374"
       ],
       "layout": "IPY_MODEL_ab784c9cde6f4593a7f4667f65f8e0bf"
      }
     },
     "a9e0f72736504782840f7cabe4aa829a": {
      "model_module": "@jupyter-widgets/controls",
      "model_module_version": "1.2.0",
      "model_name": "HTMLModel",
      "state": {
       "layout": "IPY_MODEL_8cb9c5f1ab0947be85e321b1204fbe36",
       "style": "IPY_MODEL_924137723b3443bdb1e174483e8ce0d0",
       "value": "<i>Wählen Sie die <ins>eine</ins> korrekte Antwort aus: </i>"
      }
     },
     "ab784c9cde6f4593a7f4667f65f8e0bf": {
      "model_module": "@jupyter-widgets/base",
      "model_module_version": "1.0.0",
      "model_name": "LayoutModel",
      "state": {}
     },
     "b103290881a54512a32eb7981d884d0e": {
      "model_module": "@jupyter-widgets/controls",
      "model_module_version": "1.2.0",
      "model_name": "VBoxModel",
      "state": {
       "children": [
        "IPY_MODEL_4c3043de8d1d43a381c61a1deb775485",
        "IPY_MODEL_a26f5505f184494e8f1e2e9a532963ca",
        "IPY_MODEL_5d1752d89c724ef69c026a0a4dd82808",
        "IPY_MODEL_f5b0ddaaf1c34d329bcec41cffbb8785"
       ],
       "layout": "IPY_MODEL_75c82d408d114246aeed2290a874a5f0"
      }
     },
     "b1c1d91bf17d40b9a488eb3486d40607": {
      "model_module": "@jupyter-widgets/base",
      "model_module_version": "1.0.0",
      "model_name": "LayoutModel",
      "state": {
       "justify_content": "center"
      }
     },
     "b1cefb0e841a4b5d9ea718811707a045": {
      "model_module": "@jupyter-widgets/controls",
      "model_module_version": "1.2.0",
      "model_name": "DescriptionStyleModel",
      "state": {
       "description_width": "initial"
      }
     },
     "b40dc5a5c320407ba8684e190769e35d": {
      "model_module": "@jupyter-widgets/base",
      "model_module_version": "1.0.0",
      "model_name": "LayoutModel",
      "state": {}
     },
     "b542ed7c542f46328b165a7ed7869991": {
      "model_module": "@jupyter-widgets/controls",
      "model_module_version": "1.2.0",
      "model_name": "DescriptionStyleModel",
      "state": {
       "description_width": "initial"
      }
     },
     "b9d1716d69c54024b687625995ce6777": {
      "model_module": "@jupyter-widgets/base",
      "model_module_version": "1.0.0",
      "model_name": "LayoutModel",
      "state": {
       "width": "600px"
      }
     },
     "bac49e41b0584f108d55c3e65772fb61": {
      "model_module": "@jupyter-widgets/base",
      "model_module_version": "1.0.0",
      "model_name": "LayoutModel",
      "state": {}
     },
     "bda6627c92304b62b5637f76162c98ee": {
      "model_module": "@jupyter-widgets/controls",
      "model_module_version": "1.2.0",
      "model_name": "ButtonStyleModel",
      "state": {}
     },
     "bec14afd93374559b58ab57750ed1562": {
      "model_module": "@jupyter-widgets/base",
      "model_module_version": "1.0.0",
      "model_name": "LayoutModel",
      "state": {}
     },
     "bef1f14cc8de463bad6bbedaf4a1e3bd": {
      "model_module": "@jupyter-widgets/base",
      "model_module_version": "1.0.0",
      "model_name": "LayoutModel",
      "state": {
       "width": "600px"
      }
     },
     "c05adb9ee6a34a5cad2ada0bbd32a1a3": {
      "model_module": "@jupyter-widgets/base",
      "model_module_version": "1.0.0",
      "model_name": "LayoutModel",
      "state": {}
     },
     "c418269caefc4493aed07ccbde9222cf": {
      "model_module": "@jupyter-widgets/controls",
      "model_module_version": "1.2.0",
      "model_name": "HTMLModel",
      "state": {
       "layout": "IPY_MODEL_826a334f48604c67930266fb30fb0afe",
       "style": "IPY_MODEL_2cef78228625419db72bfef0ffdc9a74",
       "value": "<h4 style=\"font-size:14px;\">Wie können im NLTK die Regeln einer Grammatik ausgegeben werden?</h4>"
      }
     },
     "c5883ccf88a34c348bb7656cc6255886": {
      "model_module": "@jupyter-widgets/controls",
      "model_module_version": "1.2.0",
      "model_name": "DescriptionStyleModel",
      "state": {
       "description_width": "initial"
      }
     },
     "c94bcdae920d4b359709d160e8f0e8c4": {
      "model_module": "@jupyter-widgets/controls",
      "model_module_version": "1.2.0",
      "model_name": "HTMLModel",
      "state": {
       "layout": "IPY_MODEL_32131b4376c84b0db01d264125d2417c",
       "style": "IPY_MODEL_3dbb1a7faa454a168141607ae2b89751",
       "value": "<h4 style=\"font-size:14px;\">Welche Beispiele sind rechtsrekursiv?</h4>"
      }
     },
     "c9bc71c0ec4943929c61bb550e558bb0": {
      "model_module": "@jupyter-widgets/controls",
      "model_module_version": "1.2.0",
      "model_name": "CheckboxModel",
      "state": {
       "description": "NP -> NP",
       "disabled": false,
       "layout": "IPY_MODEL_3ebb6ffddaf34b3b95b5eed7b7bff35f",
       "style": "IPY_MODEL_7e95ccd8d7a9440897de1adb7b44eebf",
       "value": false
      }
     },
     "cc8e0beb2edd4078826bf144855e719a": {
      "model_module": "@jupyter-widgets/controls",
      "model_module_version": "1.2.0",
      "model_name": "ButtonModel",
      "state": {
       "description": "Korrekt?",
       "layout": "IPY_MODEL_593176babecf43a29d6e7be5867c4d66",
       "style": "IPY_MODEL_a408c81878c94655a947d4e971eb05fd"
      }
     },
     "cca215e59a87491fa94509b2cc3a2320": {
      "model_module": "@jupyter-widgets/base",
      "model_module_version": "1.0.0",
      "model_name": "LayoutModel",
      "state": {
       "width": "600px"
      }
     },
     "d220eecb68af4b09a32d13084edb089e": {
      "model_module": "@jupyter-widgets/base",
      "model_module_version": "1.0.0",
      "model_name": "LayoutModel",
      "state": {
       "width": "600px"
      }
     },
     "d36c9db70cdd4ad0993d076953bf3de6": {
      "model_module": "@jupyter-widgets/controls",
      "model_module_version": "1.2.0",
      "model_name": "ButtonStyleModel",
      "state": {}
     },
     "d3de1453fa244e42995c04d732c1aec7": {
      "model_module": "@jupyter-widgets/base",
      "model_module_version": "1.0.0",
      "model_name": "LayoutModel",
      "state": {
       "width": "250px"
      }
     },
     "d4c33aecaddd4f4b8d51c7142361c576": {
      "model_module": "@jupyter-widgets/controls",
      "model_module_version": "1.2.0",
      "model_name": "ButtonStyleModel",
      "state": {}
     },
     "d7216f7c8cbc428597f1cf06a88ed467": {
      "model_module": "@jupyter-widgets/controls",
      "model_module_version": "1.2.0",
      "model_name": "DescriptionStyleModel",
      "state": {
       "description_width": ""
      }
     },
     "d81e3c318a384f64bfcb04766a59a722": {
      "model_module": "@jupyter-widgets/controls",
      "model_module_version": "1.2.0",
      "model_name": "HTMLModel",
      "state": {
       "layout": "IPY_MODEL_dc9828373cc143efa9c0d9c93fd5f8fe",
       "style": "IPY_MODEL_d7216f7c8cbc428597f1cf06a88ed467",
       "value": "<h4 style=\"font-size:14px;\">Wie ist im NLTK vorzugehen, wenn ein (wohlgeformter) Satz von einer Grammatik nicht erkannt wird?</h4>"
      }
     },
     "dc9828373cc143efa9c0d9c93fd5f8fe": {
      "model_module": "@jupyter-widgets/base",
      "model_module_version": "1.0.0",
      "model_name": "LayoutModel",
      "state": {}
     },
     "def95c5d20da45e58691c1f028bf53da": {
      "model_module": "@jupyter-widgets/controls",
      "model_module_version": "1.2.0",
      "model_name": "HTMLModel",
      "state": {
       "layout": "IPY_MODEL_bec14afd93374559b58ab57750ed1562",
       "style": "IPY_MODEL_1ea1fde16e5a4d4cacf1e1240ab0bef2",
       "value": "<h4 style=\"font-size:14px;\">Welche Beispiele für Phrasenstrukturregeln sind linksrekursiv?</h4>"
      }
     },
     "e223f05abf464096bdfc2b377554943d": {
      "model_module": "@jupyter-widgets/controls",
      "model_module_version": "1.2.0",
      "model_name": "HBoxModel",
      "state": {
       "children": [
        "IPY_MODEL_4becbed4d2a641179d8cec1d2ac73cfd",
        "IPY_MODEL_8c38a6d5fb774ea88decadc25137b4ad"
       ],
       "layout": "IPY_MODEL_33a03329004b4f46a60170020778d132"
      }
     },
     "e3c9e8a53f374679b0c21fcaf4b3b59a": {
      "model_module": "@jupyter-widgets/controls",
      "model_module_version": "1.2.0",
      "model_name": "CheckboxModel",
      "state": {
       "description": "NOM -> NOM PP",
       "disabled": false,
       "layout": "IPY_MODEL_2ae58d024b8245d0bc8dc8fd636ac814",
       "style": "IPY_MODEL_266e239e2cef434d8e6dfa80de229e41",
       "value": false
      }
     },
     "ef218a6b84ab44cc89009ce4e397524c": {
      "model_module": "@jupyter-widgets/controls",
      "model_module_version": "1.2.0",
      "model_name": "ButtonModel",
      "state": {
       "description": "Korrekt?",
       "layout": "IPY_MODEL_8c629294ddfe4a789c0b7d9ab9aab7ab",
       "style": "IPY_MODEL_bda6627c92304b62b5637f76162c98ee"
      }
     },
     "f2e2671185bf4a1abdb001daf2a1eadb": {
      "model_module": "@jupyter-widgets/controls",
      "model_module_version": "1.2.0",
      "model_name": "CheckboxModel",
      "state": {
       "description": "PP -> P NP",
       "disabled": false,
       "layout": "IPY_MODEL_bef1f14cc8de463bad6bbedaf4a1e3bd",
       "style": "IPY_MODEL_a41f3bb0161649148123991124b83890",
       "value": false
      }
     },
     "f5b0ddaaf1c34d329bcec41cffbb8785": {
      "model_module": "@jupyter-widgets/controls",
      "model_module_version": "1.2.0",
      "model_name": "ButtonModel",
      "state": {
       "description": "Korrekt?",
       "layout": "IPY_MODEL_d3de1453fa244e42995c04d732c1aec7",
       "style": "IPY_MODEL_7370ffa0523143219afa8f32666d0cdd"
      }
     },
     "fcdc0fa188e34730a6c44d1ee6a1c9d7": {
      "model_module": "@jupyter-widgets/base",
      "model_module_version": "1.0.0",
      "model_name": "LayoutModel",
      "state": {}
     },
     "ff25f2bccbd947759f33a53f009f91cd": {
      "model_module": "@jupyter-widgets/controls",
      "model_module_version": "1.2.0",
      "model_name": "CheckboxModel",
      "state": {
       "description": "NP -> DET N PP",
       "disabled": false,
       "layout": "IPY_MODEL_0f7b16451c7a4da8a940d419842909ff",
       "style": "IPY_MODEL_b542ed7c542f46328b165a7ed7869991",
       "value": false
      }
     }
    },
    "version_major": 2,
    "version_minor": 0
   }
  }
 },
 "nbformat": 4,
 "nbformat_minor": 2
}
