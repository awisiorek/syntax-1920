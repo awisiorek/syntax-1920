{
 "cells": [
  {
   "cell_type": "markdown",
   "metadata": {},
   "source": [
    "***Vorlesung 'Syntax natürlicher Sprachen', WS 2019/20***\n",
    "\n",
    "---\n",
    "# Übung 13"
   ]
  },
  {
   "cell_type": "code",
   "execution_count": 2,
   "metadata": {},
   "outputs": [],
   "source": [
    "from sklearn.metrics import accuracy_score, precision_score,\\\n",
    "    recall_score, f1_score\n",
    "from exercises_13 import *\n",
    "from questions import aufgabe\n",
    "import nltk"
   ]
  },
  {
   "cell_type": "markdown",
   "metadata": {},
   "source": [
    "--- \n",
    "## Aufgabe 1: Evaluationsmetriken\n",
    "\n",
    "#### Betrachten Sie folgende Daten. Es handelt sich um ein vereinfachtes Tagging-Schema fürs Chunking, bei dem nur zwischen „Teil einer NP“ (`1`) und „nicht Teil einer NP“ (`0`) unterschieden wird."
   ]
  },
  {
   "cell_type": "code",
   "execution_count": 3,
   "metadata": {},
   "outputs": [],
   "source": [
    "ground_truth = [1,0,1,0,0,1,1,1,1,0]\n",
    "chunker1     = [1,1,1,0,1,0,1,1,1,1]\n",
    "chunker2     = [1,0,1,0,0,0,0,0,1,0]\n",
    "chunker3     = [0,0,0,0,0,1,1,1,1,0]"
   ]
  },
  {
   "cell_type": "markdown",
   "metadata": {},
   "source": [
    "#### Berechnen Sie für jeden der Chunker Accuracy, Precision, Recall und F1-Score zunächst per Hand und überprüfen Sie dann Ihr Ergebnis mit dem folgenden Code."
   ]
  },
  {
   "cell_type": "code",
   "execution_count": 4,
   "metadata": {},
   "outputs": [],
   "source": [
    "def evaluate(chunker):\n",
    "    print(\n",
    "        \"Accuracy:\",\n",
    "        \"{:.2f}\".format(accuracy_score(ground_truth, chunker))\n",
    "    )\n",
    "    print(\n",
    "        \"Precision:\",\n",
    "        \"{:.2f}\".format(precision_score(ground_truth, chunker))\n",
    "    )\n",
    "    print(\n",
    "        \"Recall:\",\n",
    "        \"{:.2f}\".format(recall_score(ground_truth, chunker))\n",
    "    )\n",
    "    print(\n",
    "        \"F1-Score:\",\n",
    "        \"{:.2f}\".format(f1_score(ground_truth, chunker))\n",
    "    )"
   ]
  },
  {
   "cell_type": "code",
   "execution_count": 5,
   "metadata": {},
   "outputs": [
    {
     "name": "stdout",
     "output_type": "stream",
     "text": [
      "Accuracy: 0.60\n",
      "Precision: 0.62\n",
      "Recall: 0.83\n",
      "F1-Score: 0.71\n"
     ]
    }
   ],
   "source": [
    "evaluate(chunker1)"
   ]
  },
  {
   "cell_type": "code",
   "execution_count": 6,
   "metadata": {},
   "outputs": [
    {
     "name": "stdout",
     "output_type": "stream",
     "text": [
      "Accuracy: 0.70\n",
      "Precision: 1.00\n",
      "Recall: 0.50\n",
      "F1-Score: 0.67\n"
     ]
    }
   ],
   "source": [
    "evaluate(chunker2)"
   ]
  },
  {
   "cell_type": "code",
   "execution_count": 7,
   "metadata": {},
   "outputs": [
    {
     "name": "stdout",
     "output_type": "stream",
     "text": [
      "Accuracy: 0.80\n",
      "Precision: 1.00\n",
      "Recall: 0.67\n",
      "F1-Score: 0.80\n"
     ]
    }
   ],
   "source": [
    "evaluate(chunker3)"
   ]
  },
  {
   "cell_type": "markdown",
   "metadata": {},
   "source": [
    "---\n",
    "## Aufgabe 2: Herunterladen von Ressourcen\n",
    "\n",
    "#### Das CoNLL 2000 Korpus ist ein POS- und Chunk-getaggtes Korpus (IOB- Format), das in ein Test- und ein Trainingskorpus aufgeteilt ist. Wir werden es zum Training und zur Evaluation von Chunk-Parsern verwenden. Laden Sie es sich dafür zunächst über die Ressource `corpora/conll2000` herunter."
   ]
  },
  {
   "cell_type": "code",
   "execution_count": 8,
   "metadata": {},
   "outputs": [],
   "source": [
    "# nltk.download()"
   ]
  },
  {
   "cell_type": "markdown",
   "metadata": {},
   "source": [
    "#### Wenn Sie es erfolgreich heruntergeladen haben, können Sie folgendermaßen darauf zugreifen:"
   ]
  },
  {
   "cell_type": "code",
   "execution_count": 9,
   "metadata": {
    "scrolled": false
   },
   "outputs": [
    {
     "data": {
      "image/png": "[encoded data removed]",
      "text/plain": [
       "Tree('S', [('Over', 'IN'), Tree('NP', [('a', 'DT'), ('cup', 'NN')]), ('of', 'IN'), Tree('NP', [('coffee', 'NN')]), (',', ','), Tree('NP', [('Mr.', 'NNP'), ('Stone', 'NNP')]), ('told', 'VBD'), Tree('NP', [('his', 'PRP$'), ('story', 'NN')]), ('.', '.')])"
      ]
     },
     "execution_count": 9,
     "metadata": {},
     "output_type": "execute_result"
    }
   ],
   "source": [
    "from nltk.corpus import conll2000\n",
    "conll2000.chunked_sents('train.txt', chunk_types=['NP'])[99]"
   ]
  },
  {
   "cell_type": "markdown",
   "metadata": {},
   "source": [
    "#### Das `chunk_types`-Argument dient der Auwahl von Chunk-Typen (in diesem Beispiel Nominalphrasen)."
   ]
  },
  {
   "cell_type": "markdown",
   "metadata": {},
   "source": [
    "--- \n",
    "## Aufgabe 3: Chunking mit regulären Ausdrücken\n",
    "\n",
    "#### Erstellen Sie einen einfachen `RegexpParser`, der für Nominalphrasen charakteristische Tags zu NPs zusammenfasst. Solche charakteristischen Tags sind z.B. Kardinalzahlen (`CD`), Artikel (`DT`), Adjektive (`JJ`, `JJR`, `JJS`) und natürlich Substantive (`NN`, `NNS`, `NNP`, `NNPS`).\n",
    "\n",
    "#### Weitere interessante Tags wären `PDT` (z.B. *both*, *a lot of*), `POS` (*'s*), `PRP` (Personalpronomen), `PRP$`(Possessivpronomen)."
   ]
  },
  {
   "cell_type": "code",
   "execution_count": 10,
   "metadata": {},
   "outputs": [],
   "source": [
    "regex = \"\"\"\n",
    "    NP: {(<DT>|<PRP\\$>|<PDT>|<POS>)?<CD>?<JJ[RS]?>*<NNS?>}\n",
    "        {<NNPS?>+}\n",
    "        {<PRP>}\n",
    "\"\"\""
   ]
  },
  {
   "cell_type": "markdown",
   "metadata": {},
   "source": [
    "#### Evaluieren Sie Ihren Parser anschließend auf dem CoNLL 2000 Korpus:"
   ]
  },
  {
   "cell_type": "code",
   "execution_count": 11,
   "metadata": {},
   "outputs": [
    {
     "name": "stdout",
     "output_type": "stream",
     "text": [
      "ChunkParse score:\n",
      "    IOB Accuracy:  81.4%%\n",
      "    Precision:     59.0%%\n",
      "    Recall:        64.5%%\n",
      "    F-Measure:     61.6%%\n"
     ]
    }
   ],
   "source": [
    "test_sents = conll2000.chunked_sents('test.txt', chunk_types=['NP'])\n",
    "cp = nltk.RegexpParser(regex)\n",
    "print(cp.evaluate(test_sents))"
   ]
  },
  {
   "cell_type": "markdown",
   "metadata": {},
   "source": [
    "---\n",
    "## Aufgabe 4: Komplexität und Sprachverarbeitung"
   ]
  },
  {
   "cell_type": "markdown",
   "metadata": {},
   "source": [
    "---\n",
    "### Aufgabe 4 a:\n",
    "\n",
    "#### Betrachten Sie folgenden Satz:\n",
    "- *My brother opened the window the maid the janitor uncle bill had hired had married had closed.*\n",
    "\n",
    "#### und beantworten Sie hierzu die folgenden Fragen."
   ]
  },
  {
   "cell_type": "code",
   "execution_count": 12,
   "metadata": {},
   "outputs": [
    {
     "data": {
      "application/vnd.jupyter.widget-view+json": {
       "model_id": "327d241b369d4853b75546f0a3b15e1e",
       "version_major": 2,
       "version_minor": 0
      },
      "text/plain": [
       "SingleChoice(children=(HTML(value='<h4 style=\"font-size:14px;\">Um was für ein Sprachkonstrukt handelt es sich?…"
      ]
     },
     "metadata": {},
     "output_type": "display_data"
    },
    {
     "data": {
      "application/vnd.jupyter.widget-view+json": {
       "model_id": "4e98aad35e2540b5bb7fab38de97e25e",
       "version_major": 2,
       "version_minor": 0
      },
      "text/plain": [
       "SingleChoice(children=(HTML(value='<h4 style=\"font-size:14px;\">Welchem Typ muss eine Grammatik mindestens genü…"
      ]
     },
     "metadata": {},
     "output_type": "display_data"
    },
    {
     "data": {
      "application/vnd.jupyter.widget-view+json": {
       "model_id": "00888dd20d834d518c0fbad05a54dd11",
       "version_major": 2,
       "version_minor": 0
      },
      "text/plain": [
       "SelectionList(children=(HTML(value='<h4 style=\"font-size:14px;\">Welche Rekursionstiefe hat der Satz?</h4>'), H…"
      ]
     },
     "metadata": {},
     "output_type": "display_data"
    }
   ],
   "source": [
    "aufgabe(blatt13_6a)"
   ]
  },
  {
   "cell_type": "markdown",
   "metadata": {},
   "source": [
    "---\n",
    "### Aufgabe 4 b:\n",
    "\n",
    "#### Betrachten Sie folgenden Satz:\n",
    "\n",
    "- *The complex houses married and single soldiers and their families.*\n",
    "\n",
    "#### und beantworten Sie hierzu die folgenden Fragen."
   ]
  },
  {
   "cell_type": "code",
   "execution_count": 13,
   "metadata": {
    "scrolled": false
   },
   "outputs": [
    {
     "data": {
      "application/vnd.jupyter.widget-view+json": {
       "model_id": "02ff4b9a5021431e851b2b58a58e270b",
       "version_major": 2,
       "version_minor": 0
      },
      "text/plain": [
       "SingleChoice(children=(HTML(value='<h4 style=\"font-size:14px;\">Um was für ein Sprachkonstrukt handelt es sich?…"
      ]
     },
     "metadata": {},
     "output_type": "display_data"
    },
    {
     "data": {
      "application/vnd.jupyter.widget-view+json": {
       "model_id": "f6edc2295471477f9509f206d73f2900",
       "version_major": 2,
       "version_minor": 0
      },
      "text/plain": [
       "SingleChoice(children=(HTML(value='<h4 style=\"font-size:14px;\">Ist der Satz ambig?</h4>', layout=Layout(justif…"
      ]
     },
     "metadata": {},
     "output_type": "display_data"
    },
    {
     "data": {
      "application/vnd.jupyter.widget-view+json": {
       "model_id": "903f9c6646ed4be0aecc089c3c176c73",
       "version_major": 2,
       "version_minor": 0
      },
      "text/plain": [
       "SingleChoice(children=(HTML(value='<h4 style=\"font-size:14px;\">Sind Teile des Satzes ambig?</h4>', layout=Layo…"
      ]
     },
     "metadata": {},
     "output_type": "display_data"
    }
   ],
   "source": [
    "aufgabe(blatt13_6b)"
   ]
  },
  {
   "cell_type": "markdown",
   "metadata": {},
   "source": [
    "---\n",
    "\n",
    "## Aufgabe 5: Evaluationsmetriken 2.0"
   ]
  },
  {
   "cell_type": "markdown",
   "metadata": {},
   "source": [
    "--- \n",
    "### Aufgabe 5 a:\n",
    "\n",
    "*Anmerkung: true = korrekt vorhergesagt, positive/negative = 1/0*"
   ]
  },
  {
   "cell_type": "code",
   "execution_count": 14,
   "metadata": {},
   "outputs": [
    {
     "data": {
      "application/vnd.jupyter.widget-view+json": {
       "model_id": "efe9432413a44b6fa1b59fba347883a0",
       "version_major": 2,
       "version_minor": 0
      },
      "text/plain": [
       "MultipleChoice(children=(HTML(value='<h4 style=\"font-size:14px;\">Welche der Formeln berechnen Precision, Recal…"
      ]
     },
     "metadata": {},
     "output_type": "display_data"
    }
   ],
   "source": [
    "aufgabe(blatt13_7)"
   ]
  },
  {
   "cell_type": "markdown",
   "metadata": {},
   "source": [
    "---\n",
    "### Aufgabe 5 b:\n",
    "\n",
    "#### Berechnen Sie nun mit dem Wissen aus der vorherigen Teilaufgabe für jeden der unten angegebenen Chunker Accuracy, Precision, Recall und F1-Score zunächst per Hand und überprüfen Sie dann Ihr Ergebnis mit dem zugehörigen Code.\n",
    "\n",
    "#### Bei den Daten handelt sich um ein vereinfachtes Tagging-Schema für das Chunking, bei dem nur zwischen „Teil einer NP“ (`1`) und „nicht Teil einer NP“ (`0`) unterschieden wird."
   ]
  },
  {
   "cell_type": "code",
   "execution_count": 15,
   "metadata": {},
   "outputs": [],
   "source": [
    "ground_truth = [1,0,1,0,0,1,1,1,1,0]\n",
    "chunker4     = [0,1,1,0,1,0,1,1,1,1]\n",
    "chunker5     = [1,0,1,1,0,0,0,0,1,0]\n",
    "chunker6     = [0,1,1,0,0,1,1,1,1,0]"
   ]
  },
  {
   "cell_type": "code",
   "execution_count": 16,
   "metadata": {},
   "outputs": [],
   "source": [
    "def evaluate(chunker):\n",
    "    print(\n",
    "        \"Accuracy:\",\n",
    "        \"{:.2f}\".format(accuracy_score(ground_truth, chunker))\n",
    "    )\n",
    "    print(\n",
    "        \"Precision:\",\n",
    "        \"{:.2f}\".format(precision_score(ground_truth, chunker))\n",
    "    )\n",
    "    print(\n",
    "        \"Recall:\",\n",
    "        \"{:.2f}\".format(recall_score(ground_truth, chunker))\n",
    "    )\n",
    "    print(\n",
    "        \"F1-Score:\",\n",
    "        \"{:.2f}\".format(f1_score(ground_truth, chunker))\n",
    "    )"
   ]
  },
  {
   "cell_type": "code",
   "execution_count": 17,
   "metadata": {
    "scrolled": true
   },
   "outputs": [
    {
     "name": "stdout",
     "output_type": "stream",
     "text": [
      "Accuracy: 0.50\n",
      "Precision: 0.57\n",
      "Recall: 0.67\n",
      "F1-Score: 0.62\n"
     ]
    }
   ],
   "source": [
    "evaluate(chunker4)"
   ]
  },
  {
   "cell_type": "code",
   "execution_count": 18,
   "metadata": {},
   "outputs": [
    {
     "name": "stdout",
     "output_type": "stream",
     "text": [
      "Accuracy: 0.60\n",
      "Precision: 0.75\n",
      "Recall: 0.50\n",
      "F1-Score: 0.60\n"
     ]
    }
   ],
   "source": [
    "evaluate(chunker5)"
   ]
  },
  {
   "cell_type": "code",
   "execution_count": 19,
   "metadata": {},
   "outputs": [
    {
     "name": "stdout",
     "output_type": "stream",
     "text": [
      "Accuracy: 0.80\n",
      "Precision: 0.83\n",
      "Recall: 0.83\n",
      "F1-Score: 0.83\n"
     ]
    }
   ],
   "source": [
    "evaluate(chunker6)"
   ]
  },
  {
   "cell_type": "markdown",
   "metadata": {},
   "source": [
    "---\n",
    "## Aufgabe 6: Chunking\n",
    "\n",
    "#### Lesen Sie NLTK-Kapitel 7.2 (http://www.nltk.org/book/ch07.html#chunking) und beantworten Sie dazu die folgenden Fragen."
   ]
  },
  {
   "cell_type": "code",
   "execution_count": 20,
   "metadata": {},
   "outputs": [
    {
     "data": {
      "application/vnd.jupyter.widget-view+json": {
       "model_id": "eef721ac650a485d87e61433e70df0ba",
       "version_major": 2,
       "version_minor": 0
      },
      "text/plain": [
       "MultipleChoice(children=(HTML(value='<h4 style=\"font-size:14px;\">Wo ist der Unterschied zwischen Chunks und Ph…"
      ]
     },
     "metadata": {},
     "output_type": "display_data"
    },
    {
     "data": {
      "application/vnd.jupyter.widget-view+json": {
       "model_id": "e509db7f6f7748f29f28dc4bc2611df7",
       "version_major": 2,
       "version_minor": 0
      },
      "text/plain": [
       "SingleChoice(children=(HTML(value='<h4 style=\"font-size:14px;\">Wozu sind Tag Pattern ähnlich?</h4>', layout=La…"
      ]
     },
     "metadata": {},
     "output_type": "display_data"
    },
    {
     "data": {
      "application/vnd.jupyter.widget-view+json": {
       "model_id": "b5783b8de19b472496d6d71e1374e9c5",
       "version_major": 2,
       "version_minor": 0
      },
      "text/plain": [
       "MultipleChoice(children=(HTML(value='<h4 style=\"font-size:14px;\">Was kann mit Chinking erreicht werden?</h4>')…"
      ]
     },
     "metadata": {},
     "output_type": "display_data"
    },
    {
     "data": {
      "application/vnd.jupyter.widget-view+json": {
       "model_id": "83e81f5e00a441dcb7502a8da82abd50",
       "version_major": 2,
       "version_minor": 0
      },
      "text/plain": [
       "SingleChoice(children=(HTML(value='<h4 style=\"font-size:14px;\">Welche Klammern zeigen Chinking an?</h4>', layo…"
      ]
     },
     "metadata": {},
     "output_type": "display_data"
    },
    {
     "data": {
      "application/vnd.jupyter.widget-view+json": {
       "model_id": "3620b771c7a640f4a8340dca51d96d50",
       "version_major": 2,
       "version_minor": 0
      },
      "text/plain": [
       "SingleChoice(children=(HTML(value='<h4 style=\"font-size:14px;\">Welche Klammern zeigen Chunking an?</h4>', layo…"
      ]
     },
     "metadata": {},
     "output_type": "display_data"
    }
   ],
   "source": [
    "aufgabe(blatt13_8)"
   ]
  },
  {
   "cell_type": "code",
   "execution_count": 21,
   "metadata": {},
   "outputs": [
    {
     "data": {
      "application/vnd.jupyter.widget-view+json": {
       "model_id": "bf41de9d8dc144deba0a0fbce57f97d3",
       "version_major": 2,
       "version_minor": 0
      },
      "text/plain": [
       "MultipleChoice(children=(HTML(value='<h4 style=\"font-size:14px;\">Wodurch kann mit einem RegexpParser eine hier…"
      ]
     },
     "metadata": {},
     "output_type": "display_data"
    }
   ],
   "source": [
    "aufgabe(blatt13_9)"
   ]
  }
 ],
 "metadata": {
  "kernelspec": {
   "display_name": "Python 3",
   "language": "python",
   "name": "python3"
  },
  "language_info": {
   "codemirror_mode": {
    "name": "ipython",
    "version": 3
   },
   "file_extension": ".py",
   "mimetype": "text/x-python",
   "name": "python",
   "nbconvert_exporter": "python",
   "pygments_lexer": "ipython3",
   "version": "3.7.4"
  },
  "widgets": {
   "application/vnd.jupyter.widget-state+json": {
    "state": {
     "000ab0f83ed64dba8444467a59bffc04": {
      "model_module": "@jupyter-widgets/base",
      "model_module_version": "1.2.0",
      "model_name": "LayoutModel",
      "state": {}
     },
     "001ee698481c4ecc9aaf3d2e9cb07788": {
      "model_module": "@jupyter-widgets/controls",
      "model_module_version": "1.5.0",
      "model_name": "HBoxModel",
      "state": {
       "children": [
        "IPY_MODEL_c9a5d57c040640f39ef4a898e53e08ee",
        "IPY_MODEL_d3cc2e5a9e0a4076b784ab1519b2d927"
       ],
       "layout": "IPY_MODEL_f6a47b84f8424e368a9220cc3a58f6c1"
      }
     },
     "003043d413d4455eb64e7c02b96297b0": {
      "model_module": "@jupyter-widgets/base",
      "model_module_version": "1.2.0",
      "model_name": "LayoutModel",
      "state": {
       "width": "250px"
      }
     },
     "0050b2ffc3294b5a8a82a6b537a6123f": {
      "model_module": "@jupyter-widgets/controls",
      "model_module_version": "1.5.0",
      "model_name": "ButtonModel",
      "state": {
       "description": "kontextsensitiv",
       "layout": "IPY_MODEL_59c87916498b4136a143b292fa91fc2b",
       "style": "IPY_MODEL_2038e29ae92b425fa79306b00ca6e839"
      }
     },
     "00580d19a41e4fdeb4395592abcad903": {
      "model_module": "@jupyter-widgets/base",
      "model_module_version": "1.2.0",
      "model_name": "LayoutModel",
      "state": {}
     },
     "0058dcf217c94ea99e2772cc1c1c4046": {
      "model_module": "@jupyter-widgets/controls",
      "model_module_version": "1.5.0",
      "model_name": "CheckboxModel",
      "state": {
       "description": "Recall = true positives / (true positives + false negatives)",
       "disabled": false,
       "layout": "IPY_MODEL_4af7a844ca944dd7b1ef8550f66e0d95",
       "style": "IPY_MODEL_e78a3349d786445ba2cd636fb25b7db6",
       "value": false
      }
     },
     "00834a59e5204b86923e3f0fdfcc3dd6": {
      "model_module": "@jupyter-widgets/base",
      "model_module_version": "1.2.0",
      "model_name": "LayoutModel",
      "state": {}
     },
     "00888dd20d834d518c0fbad05a54dd11": {
      "model_module": "@jupyter-widgets/controls",
      "model_module_version": "1.5.0",
      "model_name": "VBoxModel",
      "state": {
       "children": [
        "IPY_MODEL_e3968d51f2de49fe80119cc21f6a945e",
        "IPY_MODEL_15b5c95f7f2f4a6faad4161129564636",
        "IPY_MODEL_d45a5fee889d4814bbb17bf8fd945a2f",
        "IPY_MODEL_79bcf5c4c8884c6fb8beee84800ec89c"
       ],
       "layout": "IPY_MODEL_ece141f0f4b6419b9ca7db5c0fe2a4a0"
      }
     },
     "00ceedc514e2480b9f102136cd0c1556": {
      "model_module": "@jupyter-widgets/base",
      "model_module_version": "1.2.0",
      "model_name": "LayoutModel",
      "state": {}
     },
     "00fdef718a0f44b0930bfc2b4bcdcac5": {
      "model_module": "@jupyter-widgets/base",
      "model_module_version": "1.2.0",
      "model_name": "LayoutModel",
      "state": {
       "width": "600px"
      }
     },
     "01149e333c874af7879a5e3cdc4cb29b": {
      "model_module": "@jupyter-widgets/controls",
      "model_module_version": "1.5.0",
      "model_name": "ButtonStyleModel",
      "state": {}
     },
     "01239d7208f744448cc0dd1590301c0c": {
      "model_module": "@jupyter-widgets/controls",
      "model_module_version": "1.5.0",
      "model_name": "HTMLModel",
      "state": {
       "layout": "IPY_MODEL_6f035571caa046c1955ac4fecd2229bd",
       "style": "IPY_MODEL_315b4e2d3ae04276995ecc2dd9cf359c",
       "value": "<i>Wählen Sie die <ins>eine</ins> korrekte Antwort aus: </i>"
      }
     },
     "0139680d2afc4627b1ff33e10fa6367f": {
      "model_module": "@jupyter-widgets/controls",
      "model_module_version": "1.5.0",
      "model_name": "DescriptionStyleModel",
      "state": {
       "description_width": ""
      }
     },
     "014511688fa144df816366ecc160a303": {
      "model_module": "@jupyter-widgets/base",
      "model_module_version": "1.2.0",
      "model_name": "LayoutModel",
      "state": {
       "width": "600px"
      }
     },
     "0154da055b7243e89f2ea292d9536aae": {
      "model_module": "@jupyter-widgets/base",
      "model_module_version": "1.2.0",
      "model_name": "LayoutModel",
      "state": {
       "width": "250px"
      }
     },
     "0170b2e83a3e489eb8530aec4ba5f14c": {
      "model_module": "@jupyter-widgets/controls",
      "model_module_version": "1.5.0",
      "model_name": "ButtonModel",
      "state": {
       "description": "Korrekt?",
       "layout": "IPY_MODEL_606f9576786b4545aa04188476854167",
       "style": "IPY_MODEL_60ba323d47444f55a7cf51098f4ea8e9"
      }
     },
     "0194d32eb6cf4874b1181ce4bc456db6": {
      "model_module": "@jupyter-widgets/controls",
      "model_module_version": "1.5.0",
      "model_name": "DescriptionStyleModel",
      "state": {
       "description_width": "initial"
      }
     },
     "01c33ca31c014c5c8635a09016f1937b": {
      "model_module": "@jupyter-widgets/base",
      "model_module_version": "1.2.0",
      "model_name": "LayoutModel",
      "state": {
       "justify_content": "center"
      }
     },
     "01cf27f0815d44bdbaebc7045098f2f1": {
      "model_module": "@jupyter-widgets/base",
      "model_module_version": "1.2.0",
      "model_name": "LayoutModel",
      "state": {
       "width": "600px"
      }
     },
     "01ff3926896842b6878f524dd484e785": {
      "model_module": "@jupyter-widgets/base",
      "model_module_version": "1.2.0",
      "model_name": "LayoutModel",
      "state": {
       "width": "250px"
      }
     },
     "022107a126ef404bad2a46006e674d41": {
      "model_module": "@jupyter-widgets/controls",
      "model_module_version": "1.5.0",
      "model_name": "DescriptionStyleModel",
      "state": {
       "description_width": ""
      }
     },
     "0269606b20104a7897e1f0788ea6eeae": {
      "model_module": "@jupyter-widgets/controls",
      "model_module_version": "1.5.0",
      "model_name": "DescriptionStyleModel",
      "state": {
       "description_width": ""
      }
     },
     "027f5c74d7ea4700bcf4630300617480": {
      "model_module": "@jupyter-widgets/base",
      "model_module_version": "1.2.0",
      "model_name": "LayoutModel",
      "state": {}
     },
     "02808e7930864255ae4a430e0edc4223": {
      "model_module": "@jupyter-widgets/controls",
      "model_module_version": "1.5.0",
      "model_name": "CheckboxModel",
      "state": {
       "description": "ein vorher erkannter Chunk wird nicht mehr erkannt",
       "disabled": false,
       "layout": "IPY_MODEL_09ea4f5f9f374ee1bbe348eb7f982b0f",
       "style": "IPY_MODEL_06bc838929c8438393f78a6666a24f47",
       "value": false
      }
     },
     "029438facc094626bc01df321ed61d43": {
      "model_module": "@jupyter-widgets/base",
      "model_module_version": "1.2.0",
      "model_name": "LayoutModel",
      "state": {
       "width": "600px"
      }
     },
     "029e3f11f1464d66a6e97bc336e366a4": {
      "model_module": "@jupyter-widgets/controls",
      "model_module_version": "1.5.0",
      "model_name": "ButtonStyleModel",
      "state": {}
     },
     "02a8f785e5234f0fa0ca611011d82086": {
      "model_module": "@jupyter-widgets/controls",
      "model_module_version": "1.5.0",
      "model_name": "DescriptionStyleModel",
      "state": {
       "description_width": ""
      }
     },
     "02a8fb4739c948ebbb0f496cbdd97181": {
      "model_module": "@jupyter-widgets/base",
      "model_module_version": "1.2.0",
      "model_name": "LayoutModel",
      "state": {
       "width": "250px"
      }
     },
     "02d365d6c0b246f5bb3c107b19c6ce32": {
      "model_module": "@jupyter-widgets/controls",
      "model_module_version": "1.5.0",
      "model_name": "HBoxModel",
      "state": {
       "children": [
        "IPY_MODEL_2b90b663f58c45c1a27dc8b0b9ea20c1",
        "IPY_MODEL_0e9ae54153714cff95b1dfb3b456b25b"
       ],
       "layout": "IPY_MODEL_c04aed7d76c440919c600d5ea0f550ba"
      }
     },
     "02f39dc1b24f4e5a93195879835ba841": {
      "model_module": "@jupyter-widgets/base",
      "model_module_version": "1.2.0",
      "model_name": "LayoutModel",
      "state": {
       "width": "250px"
      }
     },
     "02ff4b9a5021431e851b2b58a58e270b": {
      "model_module": "@jupyter-widgets/controls",
      "model_module_version": "1.5.0",
      "model_name": "VBoxModel",
      "state": {
       "children": [
        "IPY_MODEL_de465c6fb1ff45ce8547fdccffa81c41",
        "IPY_MODEL_c5e2dd4b8c414f7fa39daf9045421578",
        "IPY_MODEL_6c827f4c62224633b1383d0be24b368a",
        "IPY_MODEL_2228e0a207e14c96b762d923d7f4b5d6"
       ],
       "layout": "IPY_MODEL_e10088760ab7400e87eb94e206bc1aa6"
      }
     },
     "036855be012c48a492b28c89253c41f6": {
      "model_module": "@jupyter-widgets/base",
      "model_module_version": "1.2.0",
      "model_name": "LayoutModel",
      "state": {
       "justify_content": "center"
      }
     },
     "0373ac488b5040f5a92d7a501f966e15": {
      "model_module": "@jupyter-widgets/controls",
      "model_module_version": "1.5.0",
      "model_name": "DescriptionStyleModel",
      "state": {
       "description_width": ""
      }
     },
     "037dc42b56ca40ea94bf47a1e14bafbf": {
      "model_module": "@jupyter-widgets/controls",
      "model_module_version": "1.5.0",
      "model_name": "VBoxModel",
      "state": {
       "children": [
        "IPY_MODEL_a8c404ffad574f09bd9a6ba13e317ee0",
        "IPY_MODEL_e3ef1be6b1b048f5b06a0248c1de2b3d",
        "IPY_MODEL_bd1206fa74694fc19432753939e296db"
       ],
       "layout": "IPY_MODEL_f773c9f888cd49ae8520c3bfecade159"
      }
     },
     "03866ec56025408eadd1ecb50de15505": {
      "model_module": "@jupyter-widgets/controls",
      "model_module_version": "1.5.0",
      "model_name": "HTMLModel",
      "state": {
       "layout": "IPY_MODEL_e58dc96dfe4948db9960136eb577fd45",
       "style": "IPY_MODEL_f15f4fec1a5643d182b7d72f407c74fe",
       "value": "<h4 style=\"font-size:14px;\">Welchem Typ muss eine Grammatik mindestens genügen, um solche Sätze modellieren zu können?</h4>"
      }
     },
     "038a07bda87041c89cf8e4d9631c23d8": {
      "model_module": "@jupyter-widgets/base",
      "model_module_version": "1.2.0",
      "model_name": "LayoutModel",
      "state": {
       "width": "600px"
      }
     },
     "03b5410830b94dc1811943c7befd4060": {
      "model_module": "@jupyter-widgets/controls",
      "model_module_version": "1.5.0",
      "model_name": "VBoxModel",
      "state": {
       "children": [
        "IPY_MODEL_8835392c910d4062ab54460547f50f4e",
        "IPY_MODEL_d2ced7d18ff54c78b21ca8bbcff209ec",
        "IPY_MODEL_87c5f6a3f6e6498cbbc68616cbd7e706"
       ],
       "layout": "IPY_MODEL_c5c390fd43864ed489a478a7fe8d7ebd"
      }
     },
     "03fd3661a60c453abb872a24a31800a1": {
      "model_module": "@jupyter-widgets/base",
      "model_module_version": "1.2.0",
      "model_name": "LayoutModel",
      "state": {
       "width": "600px"
      }
     },
     "041413a67d404059add82624eea62df6": {
      "model_module": "@jupyter-widgets/controls",
      "model_module_version": "1.5.0",
      "model_name": "HTMLModel",
      "state": {
       "layout": "IPY_MODEL_b110553af0244604a117f352ae757397",
       "style": "IPY_MODEL_39815d76fbdc498ebb81ee83dfd7e774",
       "value": "<h4 style=\"font-size:14px;\">Welche Klammern zeigen Chunking an?</h4>"
      }
     },
     "043774cbd4374078974941db4ee9329c": {
      "model_module": "@jupyter-widgets/base",
      "model_module_version": "1.2.0",
      "model_name": "LayoutModel",
      "state": {}
     },
     "0455b7e3093a42eca7fbc69f2061bc6d": {
      "model_module": "@jupyter-widgets/controls",
      "model_module_version": "1.5.0",
      "model_name": "HTMLModel",
      "state": {
       "layout": "IPY_MODEL_cb512605827242a49ced8500cef4b498",
       "style": "IPY_MODEL_48a85bbe7b4d4f0eba7861192b1a6e0c",
       "value": "<i>Wählen Sie die <ins>eine</ins> korrekte Antwort aus: </i>"
      }
     },
     "045aff239c4a49599003b651e248b35f": {
      "model_module": "@jupyter-widgets/controls",
      "model_module_version": "1.5.0",
      "model_name": "ButtonModel",
      "state": {
       "description": "Korrekt?",
       "layout": "IPY_MODEL_003043d413d4455eb64e7c02b96297b0",
       "style": "IPY_MODEL_75887ba842064d71b7020b0d513bac85"
      }
     },
     "046f7d487574460aa4fa3b10c20e7410": {
      "model_module": "@jupyter-widgets/base",
      "model_module_version": "1.2.0",
      "model_name": "LayoutModel",
      "state": {
       "width": "250px"
      }
     },
     "047cde08027042e19be81620fa874d0d": {
      "model_module": "@jupyter-widgets/base",
      "model_module_version": "1.2.0",
      "model_name": "LayoutModel",
      "state": {
       "width": "600px"
      }
     },
     "049c215d98ae41549a768027b2770f29": {
      "model_module": "@jupyter-widgets/base",
      "model_module_version": "1.2.0",
      "model_name": "LayoutModel",
      "state": {
       "width": "250px"
      }
     },
     "04b643259f45404d9dba92d2eb495619": {
      "model_module": "@jupyter-widgets/base",
      "model_module_version": "1.2.0",
      "model_name": "LayoutModel",
      "state": {}
     },
     "04b6cd1fa0574d94ae009b243eca1a89": {
      "model_module": "@jupyter-widgets/controls",
      "model_module_version": "1.5.0",
      "model_name": "HBoxModel",
      "state": {
       "children": [
        "IPY_MODEL_db2c968fa36a4a4e83a5102f24366fd1",
        "IPY_MODEL_33ff570c0ea54e999e97a2a9d7649e62"
       ],
       "layout": "IPY_MODEL_5756141f86054b63a82571dfeb1bfe71"
      }
     },
     "04c30e540d8241b8a17a07989f569456": {
      "model_module": "@jupyter-widgets/controls",
      "model_module_version": "1.5.0",
      "model_name": "DescriptionStyleModel",
      "state": {
       "description_width": "initial"
      }
     },
     "0516be9656b44f55a25cd0ee521cfbc9": {
      "model_module": "@jupyter-widgets/base",
      "model_module_version": "1.2.0",
      "model_name": "LayoutModel",
      "state": {}
     },
     "052abd6e71e94232acb26d732513ee88": {
      "model_module": "@jupyter-widgets/controls",
      "model_module_version": "1.5.0",
      "model_name": "DescriptionStyleModel",
      "state": {
       "description_width": ""
      }
     },
     "0532fc5c9a0a48449826bbb4ca184539": {
      "model_module": "@jupyter-widgets/base",
      "model_module_version": "1.2.0",
      "model_name": "LayoutModel",
      "state": {
       "width": "250px"
      }
     },
     "053c8aed660f40418c842425dabe86f7": {
      "model_module": "@jupyter-widgets/base",
      "model_module_version": "1.2.0",
      "model_name": "LayoutModel",
      "state": {}
     },
     "05596b65f8c2423eaf2cac2d0d97c7ec": {
      "model_module": "@jupyter-widgets/controls",
      "model_module_version": "1.5.0",
      "model_name": "DescriptionStyleModel",
      "state": {
       "description_width": ""
      }
     },
     "05632719870c44e7a131126cd1d26de8": {
      "model_module": "@jupyter-widgets/controls",
      "model_module_version": "1.5.0",
      "model_name": "HBoxModel",
      "state": {
       "children": [
        "IPY_MODEL_28e78bbfef7e4ab382d2e47bf01998dd",
        "IPY_MODEL_bef5c958105c420895b79f4f70186f33"
       ],
       "layout": "IPY_MODEL_8dcb8560c5274e698b9300934f476cc8"
      }
     },
     "0580ce151ce14cb2b9cefe23e4291cfc": {
      "model_module": "@jupyter-widgets/controls",
      "model_module_version": "1.5.0",
      "model_name": "ButtonStyleModel",
      "state": {}
     },
     "058b53d59e7c4c3fab57d6dde12a6704": {
      "model_module": "@jupyter-widgets/base",
      "model_module_version": "1.2.0",
      "model_name": "LayoutModel",
      "state": {
       "width": "250px"
      }
     },
     "05adc5d06d8d49f5adeb856a6ce97646": {
      "model_module": "@jupyter-widgets/controls",
      "model_module_version": "1.5.0",
      "model_name": "ButtonModel",
      "state": {
       "description": "Nein",
       "layout": "IPY_MODEL_805fdec3d1ec4541b28f3d4c53ee49ba",
       "style": "IPY_MODEL_7340a62c28404d4181e90f1c23db7fcf"
      }
     },
     "05b902981ecb408ca776a6202a287752": {
      "model_module": "@jupyter-widgets/controls",
      "model_module_version": "1.5.0",
      "model_name": "HTMLModel",
      "state": {
       "layout": "IPY_MODEL_9c28800306514ee691b43c8b91a24b75",
       "style": "IPY_MODEL_bef258d5e26944a1a60e88631bc36fc9",
       "value": "<h4 style=\"font-size:14px;\">Sind Teile des Satzes ambig?</h4>"
      }
     },
     "05d25e1ab98242a3a6009b35d5ff686d": {
      "model_module": "@jupyter-widgets/controls",
      "model_module_version": "1.5.0",
      "model_name": "VBoxModel",
      "state": {
       "children": [
        "IPY_MODEL_d9da7760fe20402189b0d42c65e45bb4",
        "IPY_MODEL_1cde7790fb47407e9ebe2b8b5bba4160",
        "IPY_MODEL_29b283bcace641eb9e58e62316fc9f65"
       ],
       "layout": "IPY_MODEL_c7302c400e3246648b7f807737b9a148"
      }
     },
     "05e4e229719e4fa79dce34300e2e4439": {
      "model_module": "@jupyter-widgets/controls",
      "model_module_version": "1.5.0",
      "model_name": "CheckboxModel",
      "state": {
       "description": "Recall = von allen Instanzen, für die 1 vorhergesagt wurde, wie viele wurden richtig vorhergesagt?",
       "disabled": false,
       "layout": "IPY_MODEL_3a30fd9748474b09af35fd7b063d50e7",
       "style": "IPY_MODEL_216c4291c79d4b3b88385a916b0613e8",
       "value": false
      }
     },
     "05f4bce847214bc187b2d3b55807b506": {
      "model_module": "@jupyter-widgets/controls",
      "model_module_version": "1.5.0",
      "model_name": "ButtonModel",
      "state": {
       "description": "Keine der anderen Möglichkeiten",
       "layout": "IPY_MODEL_896b5cc2e41d43a9b06413ad894af2c3",
       "style": "IPY_MODEL_acaed53a99844ce1888488db90a3b45c"
      }
     },
     "06179dc7e4004d26a2ad636281749b27": {
      "model_module": "@jupyter-widgets/base",
      "model_module_version": "1.2.0",
      "model_name": "LayoutModel",
      "state": {
       "width": "600px"
      }
     },
     "062fb1a66a524f189fb7f83425f4859c": {
      "model_module": "@jupyter-widgets/controls",
      "model_module_version": "1.5.0",
      "model_name": "DescriptionStyleModel",
      "state": {
       "description_width": ""
      }
     },
     "0639e3279d7141efbbc11893cc3e2bbf": {
      "model_module": "@jupyter-widgets/base",
      "model_module_version": "1.2.0",
      "model_name": "LayoutModel",
      "state": {
       "justify_content": "center"
      }
     },
     "0642329f3eb74952b81bbe50856a7dff": {
      "model_module": "@jupyter-widgets/base",
      "model_module_version": "1.2.0",
      "model_name": "LayoutModel",
      "state": {
       "width": "250px"
      }
     },
     "064f233bf77f49e7b3dfe67fd453c3c4": {
      "model_module": "@jupyter-widgets/controls",
      "model_module_version": "1.5.0",
      "model_name": "ButtonModel",
      "state": {
       "description": "Nein",
       "layout": "IPY_MODEL_28c7d7bfd8814b3e9022822109154f89",
       "style": "IPY_MODEL_8a5437f0323c4a7da16e890a03a37d67"
      }
     },
     "0661812b7ea74cc3b82eb632bcdb57d6": {
      "model_module": "@jupyter-widgets/base",
      "model_module_version": "1.2.0",
      "model_name": "LayoutModel",
      "state": {
       "width": "250px"
      }
     },
     "0666015b5dc74dc9a7924786f6e9f05e": {
      "model_module": "@jupyter-widgets/controls",
      "model_module_version": "1.5.0",
      "model_name": "VBoxModel",
      "state": {
       "children": [
        "IPY_MODEL_3ca270c1102e46d09a24c58a359db734",
        "IPY_MODEL_de1a928de313453fb4b9ebc54e5c8816",
        "IPY_MODEL_e91c8a1ef246481da18781a25a65f742"
       ],
       "layout": "IPY_MODEL_7565f2b7840f45729d78d03092ca824e"
      }
     },
     "068e624bfc1e450eab443ec907439708": {
      "model_module": "@jupyter-widgets/base",
      "model_module_version": "1.2.0",
      "model_name": "LayoutModel",
      "state": {
       "justify_content": "center"
      }
     },
     "06998ef35c054ae6957db90e0c8d24ef": {
      "model_module": "@jupyter-widgets/base",
      "model_module_version": "1.2.0",
      "model_name": "LayoutModel",
      "state": {
       "justify_content": "center"
      }
     },
     "06adcee52de1491aa28fb7a0043f4b39": {
      "model_module": "@jupyter-widgets/controls",
      "model_module_version": "1.5.0",
      "model_name": "DescriptionStyleModel",
      "state": {
       "description_width": ""
      }
     },
     "06bc838929c8438393f78a6666a24f47": {
      "model_module": "@jupyter-widgets/controls",
      "model_module_version": "1.5.0",
      "model_name": "DescriptionStyleModel",
      "state": {
       "description_width": "initial"
      }
     },
     "06d32d0e2d8d424aac7fbbeae606c33e": {
      "model_module": "@jupyter-widgets/base",
      "model_module_version": "1.2.0",
      "model_name": "LayoutModel",
      "state": {}
     },
     "06e9f3f579984e3eb1bb7d8e0d1731eb": {
      "model_module": "@jupyter-widgets/base",
      "model_module_version": "1.2.0",
      "model_name": "LayoutModel",
      "state": {
       "justify_content": "center"
      }
     },
     "06f960dff0e74055bd0682039ce4341b": {
      "model_module": "@jupyter-widgets/controls",
      "model_module_version": "1.5.0",
      "model_name": "ButtonStyleModel",
      "state": {}
     },
     "074f7c6d7e7e4f18a8f5fd6288beaf8c": {
      "model_module": "@jupyter-widgets/controls",
      "model_module_version": "1.5.0",
      "model_name": "CheckboxModel",
      "state": {
       "description": "Es gibt keinen Unterschied.",
       "disabled": false,
       "layout": "IPY_MODEL_c15971a539b94742afeb10fd1f23a13a",
       "style": "IPY_MODEL_63df9d845ad747aa8da33d000d6f803d",
       "value": false
      }
     },
     "075cb8ae33f64f77bc13a61b9b083f1f": {
      "model_module": "@jupyter-widgets/controls",
      "model_module_version": "1.5.0",
      "model_name": "ButtonModel",
      "state": {
       "description": "cross-serial dependencies",
       "layout": "IPY_MODEL_5c37a7b12bf24bed8092d6ab79421141",
       "style": "IPY_MODEL_f85c3104761847a6ab7fd7539b75d9e9"
      }
     },
     "0794005bc8c04b7cbb22920f6ba59ffc": {
      "model_module": "@jupyter-widgets/controls",
      "model_module_version": "1.5.0",
      "model_name": "ButtonStyleModel",
      "state": {}
     },
     "07a4c3a1ecce4fcf9813f89ad514ad90": {
      "model_module": "@jupyter-widgets/controls",
      "model_module_version": "1.5.0",
      "model_name": "DescriptionStyleModel",
      "state": {
       "description_width": ""
      }
     },
     "07c08a9e83c74743968d4220f4c54fb4": {
      "model_module": "@jupyter-widgets/base",
      "model_module_version": "1.2.0",
      "model_name": "LayoutModel",
      "state": {
       "justify_content": "center"
      }
     },
     "07c2de375d104f3c8f8460f88c135a70": {
      "model_module": "@jupyter-widgets/base",
      "model_module_version": "1.2.0",
      "model_name": "LayoutModel",
      "state": {}
     },
     "07cf731e8d6e4a9aa43d7c7172131538": {
      "model_module": "@jupyter-widgets/controls",
      "model_module_version": "1.5.0",
      "model_name": "ButtonModel",
      "state": {
       "description": "rekursiv aufzählbar",
       "layout": "IPY_MODEL_6cca290801ab443ba87bfe20756d7e4d",
       "style": "IPY_MODEL_608d5d2b8b6340cdb33246eeea5ff818"
      }
     },
     "07e932582a1a4c90ae8c77385a198717": {
      "model_module": "@jupyter-widgets/controls",
      "model_module_version": "1.5.0",
      "model_name": "DescriptionStyleModel",
      "state": {
       "description_width": ""
      }
     },
     "07ee7f3deaed4b17b2c09bb2d2a48da4": {
      "model_module": "@jupyter-widgets/controls",
      "model_module_version": "1.5.0",
      "model_name": "DescriptionStyleModel",
      "state": {
       "description_width": ""
      }
     },
     "07fa712ac2614a858de1a5aae19a79ee": {
      "model_module": "@jupyter-widgets/controls",
      "model_module_version": "1.5.0",
      "model_name": "CheckboxModel",
      "state": {
       "description": "Es gibt keinen Unterschied.",
       "disabled": false,
       "layout": "IPY_MODEL_36d56d918670401ebbbfb085277b5934",
       "style": "IPY_MODEL_df5d93c3228e47caba98a5b9de2f8776",
       "value": false
      }
     },
     "083a9adc606649a79a364016667b1612": {
      "model_module": "@jupyter-widgets/base",
      "model_module_version": "1.2.0",
      "model_name": "LayoutModel",
      "state": {
       "justify_content": "center"
      }
     },
     "083eb53a5326451a86244dfb398ce095": {
      "model_module": "@jupyter-widgets/controls",
      "model_module_version": "1.5.0",
      "model_name": "DescriptionStyleModel",
      "state": {
       "description_width": "initial"
      }
     },
     "0846cdcd592942489aaf77f19fcc35c5": {
      "model_module": "@jupyter-widgets/base",
      "model_module_version": "1.2.0",
      "model_name": "LayoutModel",
      "state": {}
     },
     "085399d9c5fe4d74aef1cce6dc59f240": {
      "model_module": "@jupyter-widgets/controls",
      "model_module_version": "1.5.0",
      "model_name": "HTMLModel",
      "state": {
       "layout": "IPY_MODEL_140f6ca7029e4aaaaad55e543d63cfaf",
       "style": "IPY_MODEL_7ccfcf6ca32448a981d5735dd2e02486",
       "value": "<h4 style=\"font-size:14px;\">Welchem Typ muss eine Grammatik mindestens genügen, um solche Sätze modellieren zu können?</h4>"
      }
     },
     "0855922d3e264b54bb9b880d1559fdb1": {
      "model_module": "@jupyter-widgets/controls",
      "model_module_version": "1.5.0",
      "model_name": "DescriptionStyleModel",
      "state": {
       "description_width": ""
      }
     },
     "086563b55da44edc99ebaf3445500ef6": {
      "model_module": "@jupyter-widgets/base",
      "model_module_version": "1.2.0",
      "model_name": "LayoutModel",
      "state": {
       "width": "600px"
      }
     },
     "086aa3cc01f148bba3fd85b701760e6e": {
      "model_module": "@jupyter-widgets/base",
      "model_module_version": "1.2.0",
      "model_name": "LayoutModel",
      "state": {
       "width": "250px"
      }
     },
     "087c73ca84fc404bb5117844a79f2cca": {
      "model_module": "@jupyter-widgets/controls",
      "model_module_version": "1.5.0",
      "model_name": "ButtonStyleModel",
      "state": {}
     },
     "0889ca307e514e80af3f91f205fa99df": {
      "model_module": "@jupyter-widgets/base",
      "model_module_version": "1.2.0",
      "model_name": "LayoutModel",
      "state": {
       "width": "250px"
      }
     },
     "089194a993d44b9e8b2ff1cd0c310d42": {
      "model_module": "@jupyter-widgets/controls",
      "model_module_version": "1.5.0",
      "model_name": "VBoxModel",
      "state": {
       "children": [
        "IPY_MODEL_f6580250e1f74a318e3b54ae11db51f6",
        "IPY_MODEL_5917cff003d14c2db28c057a75426182",
        "IPY_MODEL_54260da12cee49b2be24d161247ea171",
        "IPY_MODEL_ea7f64c048954390b2b7885afa33de1c"
       ],
       "layout": "IPY_MODEL_3e13d302ca3a4a75aebf7fc343650e8d"
      }
     },
     "08f180e1aab64ecab457351ba91e9071": {
      "model_module": "@jupyter-widgets/controls",
      "model_module_version": "1.5.0",
      "model_name": "ButtonStyleModel",
      "state": {}
     },
     "0905df7c70464492aa59429acee2e705": {
      "model_module": "@jupyter-widgets/controls",
      "model_module_version": "1.5.0",
      "model_name": "DescriptionStyleModel",
      "state": {
       "description_width": "initial"
      }
     },
     "09189b5184e84fc6b2862be2e2428b8c": {
      "model_module": "@jupyter-widgets/base",
      "model_module_version": "1.2.0",
      "model_name": "LayoutModel",
      "state": {}
     },
     "0929d645e3a849f08b2d200d4a75c5db": {
      "model_module": "@jupyter-widgets/base",
      "model_module_version": "1.2.0",
      "model_name": "LayoutModel",
      "state": {
       "width": "250px"
      }
     },
     "09725bbec6444004b001a47022d294a5": {
      "model_module": "@jupyter-widgets/controls",
      "model_module_version": "1.5.0",
      "model_name": "HBoxModel",
      "state": {
       "children": [
        "IPY_MODEL_1805d789c61d48c2aaa44ab8dd74410b",
        "IPY_MODEL_938ecc7553ab4aa5af47cded46e66fa4"
       ],
       "layout": "IPY_MODEL_1d26c6bea44049b88226139f1dbc4dfe"
      }
     },
     "0974f45be1bd46e7a10039dfd8b535ba": {
      "model_module": "@jupyter-widgets/controls",
      "model_module_version": "1.5.0",
      "model_name": "VBoxModel",
      "state": {
       "children": [
        "IPY_MODEL_1ee722f0ce3e4206bd14bce9c176eeab",
        "IPY_MODEL_157c3cbda8514404b170568a5fbf36a4",
        "IPY_MODEL_e655619dc5b84d14af3579e90d285b5c",
        "IPY_MODEL_8a5441a8c0904e84b74f1b5c9b1148d5"
       ],
       "layout": "IPY_MODEL_0b7e340d9cd14b25b81ca1f497839214"
      }
     },
     "098072e5123647d9b9952f0ee700a42e": {
      "model_module": "@jupyter-widgets/controls",
      "model_module_version": "1.5.0",
      "model_name": "DescriptionStyleModel",
      "state": {
       "description_width": ""
      }
     },
     "098995f3c368421b97460026d89fb7cb": {
      "model_module": "@jupyter-widgets/base",
      "model_module_version": "1.2.0",
      "model_name": "LayoutModel",
      "state": {}
     },
     "09b8b54bb3724fdc8bd9be32406e723e": {
      "model_module": "@jupyter-widgets/base",
      "model_module_version": "1.2.0",
      "model_name": "LayoutModel",
      "state": {}
     },
     "09cd42a70c934db5bb04faeb640830de": {
      "model_module": "@jupyter-widgets/controls",
      "model_module_version": "1.5.0",
      "model_name": "CheckboxModel",
      "state": {
       "description": "Accuracy = true positives / Anzahl aller Vorhersagen",
       "disabled": false,
       "layout": "IPY_MODEL_738849a0bcb647a784a3fea73125f287",
       "style": "IPY_MODEL_8b0ac6a2a5764133a34c16e5675d5afe",
       "value": false
      }
     },
     "09d43633956f41259683584aab59d0f0": {
      "model_module": "@jupyter-widgets/base",
      "model_module_version": "1.2.0",
      "model_name": "LayoutModel",
      "state": {
       "justify_content": "center"
      }
     },
     "09ea4f5f9f374ee1bbe348eb7f982b0f": {
      "model_module": "@jupyter-widgets/base",
      "model_module_version": "1.2.0",
      "model_name": "LayoutModel",
      "state": {
       "width": "600px"
      }
     },
     "0a0a064634344e39adac97378bd434da": {
      "model_module": "@jupyter-widgets/controls",
      "model_module_version": "1.5.0",
      "model_name": "DescriptionStyleModel",
      "state": {
       "description_width": ""
      }
     },
     "0a1e80dc97d1468291bae6151dfd54f9": {
      "model_module": "@jupyter-widgets/controls",
      "model_module_version": "1.5.0",
      "model_name": "ButtonStyleModel",
      "state": {}
     },
     "0a2658c39b174efdabd5fe1925eff45f": {
      "model_module": "@jupyter-widgets/controls",
      "model_module_version": "1.5.0",
      "model_name": "ButtonModel",
      "state": {
       "description": "Nein",
       "layout": "IPY_MODEL_d77abc5cae6442678fee5bea85be4a92",
       "style": "IPY_MODEL_10b50c2359074f36a61f8de1f1828aff"
      }
     },
     "0a50f802552448c2ade09998f0fb6de4": {
      "model_module": "@jupyter-widgets/controls",
      "model_module_version": "1.5.0",
      "model_name": "DescriptionStyleModel",
      "state": {
       "description_width": ""
      }
     },
     "0a8cf16d351148dc893936df0180ae1a": {
      "model_module": "@jupyter-widgets/base",
      "model_module_version": "1.2.0",
      "model_name": "LayoutModel",
      "state": {}
     },
     "0aaeb3073a6e4cf5aa78e5cf7e52f37c": {
      "model_module": "@jupyter-widgets/base",
      "model_module_version": "1.2.0",
      "model_name": "LayoutModel",
      "state": {
       "width": "250px"
      }
     },
     "0aca52fde57b4e86864a717f7cac706d": {
      "model_module": "@jupyter-widgets/controls",
      "model_module_version": "1.5.0",
      "model_name": "ButtonModel",
      "state": {
       "description": "garden-path sentence",
       "layout": "IPY_MODEL_5514abc344b742fa90218f0dac75b02d",
       "style": "IPY_MODEL_f848e755e9d3429987b75276ad92d11f"
      }
     },
     "0ad649c0dbbf4664b7b755ac75931b1a": {
      "model_module": "@jupyter-widgets/controls",
      "model_module_version": "1.5.0",
      "model_name": "DescriptionStyleModel",
      "state": {
       "description_width": ""
      }
     },
     "0ae2d69722dd4f2d98560baf6f770c00": {
      "model_module": "@jupyter-widgets/controls",
      "model_module_version": "1.5.0",
      "model_name": "HTMLModel",
      "state": {
       "layout": "IPY_MODEL_97ddfcd6738342ec83b09659e1ebe364",
       "style": "IPY_MODEL_4841903cb0a94f30a264dcda27fc4c28",
       "value": "<h4 style=\"font-size:14px;\">Welche Rekursionstiefe hat der Satz?</h4>"
      }
     },
     "0af1724ef1e5463da21cc8bc49019c30": {
      "model_module": "@jupyter-widgets/controls",
      "model_module_version": "1.5.0",
      "model_name": "CheckboxModel",
      "state": {
       "description": "Loopen über bereits erkannte Chunk-Muster",
       "disabled": false,
       "layout": "IPY_MODEL_46423beaa65c433493b77b1a5a1c5200",
       "style": "IPY_MODEL_f24b593f6de14e6f904c6760ea1249b3",
       "value": false
      }
     },
     "0afe31ed56d94112babe214b03569ee6": {
      "model_module": "@jupyter-widgets/controls",
      "model_module_version": "1.5.0",
      "model_name": "ButtonStyleModel",
      "state": {}
     },
     "0b09618f0ccd452f8d4ab188dc899ec3": {
      "model_module": "@jupyter-widgets/controls",
      "model_module_version": "1.5.0",
      "model_name": "CheckboxModel",
      "state": {
       "description": "Es gibt keinen Unterschied.",
       "disabled": false,
       "layout": "IPY_MODEL_be4c7b14d6504a1881636c80432aae78",
       "style": "IPY_MODEL_ab222955d451475298ed708a9c8e1fea",
       "value": false
      }
     },
     "0b0b72bb2ca94c588b5165e5816d0827": {
      "model_module": "@jupyter-widgets/base",
      "model_module_version": "1.2.0",
      "model_name": "LayoutModel",
      "state": {
       "width": "250px"
      }
     },
     "0b221651afe34470bd32298a61ca7b0a": {
      "model_module": "@jupyter-widgets/base",
      "model_module_version": "1.2.0",
      "model_name": "LayoutModel",
      "state": {}
     },
     "0b7e340d9cd14b25b81ca1f497839214": {
      "model_module": "@jupyter-widgets/base",
      "model_module_version": "1.2.0",
      "model_name": "LayoutModel",
      "state": {}
     },
     "0ba9421c556545558e9842d3af65aa4c": {
      "model_module": "@jupyter-widgets/controls",
      "model_module_version": "1.5.0",
      "model_name": "DescriptionStyleModel",
      "state": {
       "description_width": ""
      }
     },
     "0bb50dd20fa04ffe844a99f81bcb966a": {
      "model_module": "@jupyter-widgets/controls",
      "model_module_version": "1.5.0",
      "model_name": "DescriptionStyleModel",
      "state": {
       "description_width": "initial"
      }
     },
     "0bba911f18e94fa398de938d54cd971c": {
      "model_module": "@jupyter-widgets/controls",
      "model_module_version": "1.5.0",
      "model_name": "VBoxModel",
      "state": {
       "children": [
        "IPY_MODEL_af9c9e69f73a4575a0b8f70c7a4ac989",
        "IPY_MODEL_fd5fb4d35ee1451baec583bc9615f15e",
        "IPY_MODEL_78539580c32d45d89c8a03a1f7995a0a",
        "IPY_MODEL_7eb74502fc5a4105a1929e29b6cb4da0"
       ],
       "layout": "IPY_MODEL_6d9068865b784310bae36dbc187a18e8"
      }
     },
     "0bbb6b00b0df448a8fb4c987759660f4": {
      "model_module": "@jupyter-widgets/controls",
      "model_module_version": "1.5.0",
      "model_name": "ButtonModel",
      "state": {
       "description": "cross-serial dependencies",
       "layout": "IPY_MODEL_c6534bb7a1304fb4a058d5d7db065d16",
       "style": "IPY_MODEL_2add4de2439e45a99c455390a42e80f7"
      }
     },
     "0be8dd04104640b09fbc832414bab102": {
      "model_module": "@jupyter-widgets/base",
      "model_module_version": "1.2.0",
      "model_name": "LayoutModel",
      "state": {
       "width": "600px"
      }
     },
     "0c0f76e43d474655baec2b649687b4c2": {
      "model_module": "@jupyter-widgets/controls",
      "model_module_version": "1.5.0",
      "model_name": "VBoxModel",
      "state": {
       "children": [
        "IPY_MODEL_161b0348e6014606994b8133f69ac39b",
        "IPY_MODEL_3ba7334d1166453aab84f802ae1a296e",
        "IPY_MODEL_36d3ce972b164dffb3559e659979adf4",
        "IPY_MODEL_e1eb33e5904746339331fb0882e3fc56"
       ],
       "layout": "IPY_MODEL_edf4358f23f546ebb49d766936797fe1"
      }
     },
     "0c28a24cd7ad4929adf9fa269b308422": {
      "model_module": "@jupyter-widgets/base",
      "model_module_version": "1.2.0",
      "model_name": "LayoutModel",
      "state": {
       "justify_content": "center"
      }
     },
     "0c2b5ce36b704d138f846a984c3ce44e": {
      "model_module": "@jupyter-widgets/controls",
      "model_module_version": "1.5.0",
      "model_name": "HBoxModel",
      "state": {
       "children": [
        "IPY_MODEL_7f060974e86947bbb35f2a1691318595",
        "IPY_MODEL_e5b767982bec4969b87c7f7e687478e7"
       ],
       "layout": "IPY_MODEL_a8952ffa060e47b8834aa6bef1f0679a"
      }
     },
     "0c34d5bd72fe4bc2822caab2b085061d": {
      "model_module": "@jupyter-widgets/base",
      "model_module_version": "1.2.0",
      "model_name": "LayoutModel",
      "state": {
       "justify_content": "center"
      }
     },
     "0ca56abf181946fbbf000fbd0cab41fd": {
      "model_module": "@jupyter-widgets/controls",
      "model_module_version": "1.5.0",
      "model_name": "CheckboxModel",
      "state": {
       "description": "ein dem Chink entstpechender Chunk wird erst gar nicht identifiziert",
       "disabled": false,
       "layout": "IPY_MODEL_f5af2e613f7247798692be04774040f5",
       "style": "IPY_MODEL_36c20028126d45aa8dd72f2bdff4156a",
       "value": false
      }
     },
     "0cb92bda4b6b4273a2388317cd55260c": {
      "model_module": "@jupyter-widgets/base",
      "model_module_version": "1.2.0",
      "model_name": "LayoutModel",
      "state": {
       "width": "250px"
      }
     },
     "0cf7b012f34f4efa834a78d17ea1c66e": {
      "model_module": "@jupyter-widgets/base",
      "model_module_version": "1.2.0",
      "model_name": "LayoutModel",
      "state": {}
     },
     "0d2aca84ac9a4a869128da7d9652bd71": {
      "model_module": "@jupyter-widgets/base",
      "model_module_version": "1.2.0",
      "model_name": "LayoutModel",
      "state": {
       "width": "600px"
      }
     },
     "0d4b96d9308c48b19685638a8548dc89": {
      "model_module": "@jupyter-widgets/controls",
      "model_module_version": "1.5.0",
      "model_name": "ButtonStyleModel",
      "state": {}
     },
     "0d4de9e26dd746e1a276e98f7e0972d1": {
      "model_module": "@jupyter-widgets/controls",
      "model_module_version": "1.5.0",
      "model_name": "ButtonStyleModel",
      "state": {}
     },
     "0d8b267a03144b9d99da5b6299af168c": {
      "model_module": "@jupyter-widgets/controls",
      "model_module_version": "1.5.0",
      "model_name": "ButtonModel",
      "state": {
       "description": "Keine der anderen Möglichkeiten",
       "layout": "IPY_MODEL_b71af1d869b8489f894c25d676fdbea6",
       "style": "IPY_MODEL_94667f8fb7e044b38ed241f7cf899dd3"
      }
     },
     "0d9d99ba647b4b308a89524089224753": {
      "model_module": "@jupyter-widgets/controls",
      "model_module_version": "1.5.0",
      "model_name": "ButtonStyleModel",
      "state": {}
     },
     "0da14bafa5e649caab1d3a4d23cf8555": {
      "model_module": "@jupyter-widgets/controls",
      "model_module_version": "1.5.0",
      "model_name": "VBoxModel",
      "state": {
       "children": [
        "IPY_MODEL_7f184ecfbd084c17b7aebea916f38b88",
        "IPY_MODEL_98710cde785b4f5ebc449306eeba46ee",
        "IPY_MODEL_d503d6bfc54a47e3bb17b3e4e4e3b773",
        "IPY_MODEL_51dfaef0e8c14ee48e7ea9e850351cd6"
       ],
       "layout": "IPY_MODEL_5837a5fc6384463f85a12431a6605589"
      }
     },
     "0de003c030174664ad7a47804efe9b76": {
      "model_module": "@jupyter-widgets/controls",
      "model_module_version": "1.5.0",
      "model_name": "HTMLModel",
      "state": {
       "layout": "IPY_MODEL_752560a068794d82abd652cde451b016",
       "style": "IPY_MODEL_1b2d1cd87b60481b907d7fa338299c52",
       "value": "<h4 style=\"font-size:14px;\">Welche der Formeln berechnen Precision, Recall, Accuracy und F1-Score korrekt?</h4>"
      }
     },
     "0df48255229647fdb05dbcb403005812": {
      "model_module": "@jupyter-widgets/controls",
      "model_module_version": "1.5.0",
      "model_name": "ButtonModel",
      "state": {
       "description": "XML-Tags",
       "layout": "IPY_MODEL_27e3f0fc3f034cfb878162d1bad458e3",
       "style": "IPY_MODEL_f1d9e498a49849ccb7646d135b6c0818"
      }
     },
     "0e0299821f8f4b7c82161b8e4ea1c31b": {
      "model_module": "@jupyter-widgets/base",
      "model_module_version": "1.2.0",
      "model_name": "LayoutModel",
      "state": {
       "justify_content": "center"
      }
     },
     "0e06d530389f44a7af9b96a50f7666b4": {
      "model_module": "@jupyter-widgets/controls",
      "model_module_version": "1.5.0",
      "model_name": "ButtonStyleModel",
      "state": {}
     },
     "0e07f86c375f446d9f7ac3dd6b2e6c58": {
      "model_module": "@jupyter-widgets/controls",
      "model_module_version": "1.5.0",
      "model_name": "HTMLModel",
      "state": {
       "layout": "IPY_MODEL_7456053ab1224cf5b6ecdc500dbdb8a2",
       "style": "IPY_MODEL_58d6cb4292874f13b82b4999adc0fc0d",
       "value": "<h4 style=\"font-size:14px;\">Wo ist der Unterschied zwischen Chunks und Phrasen?</h4>"
      }
     },
     "0e20fb93988a4b24996aa46950a6be62": {
      "model_module": "@jupyter-widgets/controls",
      "model_module_version": "1.5.0",
      "model_name": "DescriptionStyleModel",
      "state": {
       "description_width": "initial"
      }
     },
     "0e488ce6f53d4c818b3a32def192bf1f": {
      "model_module": "@jupyter-widgets/controls",
      "model_module_version": "1.5.0",
      "model_name": "ButtonModel",
      "state": {
       "description": "regular expressions",
       "layout": "IPY_MODEL_31f330ef3596479d8d9d08152d405ccb",
       "style": "IPY_MODEL_18c2fd0de70d4771bcff35dd6f70833f"
      }
     },
     "0e7d5453b9c1419d9a7ef3091731bd1b": {
      "model_module": "@jupyter-widgets/base",
      "model_module_version": "1.2.0",
      "model_name": "LayoutModel",
      "state": {
       "width": "600px"
      }
     },
     "0e9ae54153714cff95b1dfb3b456b25b": {
      "model_module": "@jupyter-widgets/controls",
      "model_module_version": "1.5.0",
      "model_name": "ButtonModel",
      "state": {
       "description": "} {",
       "layout": "IPY_MODEL_c38d410ecd474790a75607bf3aff94c6",
       "style": "IPY_MODEL_a1815b11e86d4e7986f29e1b18160bdb"
      }
     },
     "0ec564af7b8046cba1c6582d76001bf5": {
      "model_module": "@jupyter-widgets/controls",
      "model_module_version": "1.5.0",
      "model_name": "CheckboxModel",
      "state": {
       "description": "Recall = true positives / (true positives + false negatives)",
       "disabled": false,
       "layout": "IPY_MODEL_9dd67cd125d34d228e99ffee0ae3d500",
       "style": "IPY_MODEL_15a5372d96f5497da544a96d3bc0d859",
       "value": false
      }
     },
     "0ecc45e0a7bc4861ab502816d32316d4": {
      "model_module": "@jupyter-widgets/controls",
      "model_module_version": "1.5.0",
      "model_name": "HBoxModel",
      "state": {
       "children": [
        "IPY_MODEL_0f28722692134b38b7db6f3aaec23558",
        "IPY_MODEL_68368032c75246b688224c740df8b7e0"
       ],
       "layout": "IPY_MODEL_3948c6248fbe4f2d862fe2cc0f76a941"
      }
     },
     "0f064e3c9ca94873bea8707c1e614cf4": {
      "model_module": "@jupyter-widgets/controls",
      "model_module_version": "1.5.0",
      "model_name": "VBoxModel",
      "state": {
       "children": [
        "IPY_MODEL_a1948c6ddda24ac98a4303a5fc1fab81",
        "IPY_MODEL_85b221f5086d48c8b0bba6d1572d654e",
        "IPY_MODEL_78844a587ed448ac8c16d490135981a5"
       ],
       "layout": "IPY_MODEL_5082cd46a71744d995677d437e53695f"
      }
     },
     "0f07a8aebcfc4dc8999fffad31ccf8bb": {
      "model_module": "@jupyter-widgets/base",
      "model_module_version": "1.2.0",
      "model_name": "LayoutModel",
      "state": {
       "width": "250px"
      }
     },
     "0f28722692134b38b7db6f3aaec23558": {
      "model_module": "@jupyter-widgets/controls",
      "model_module_version": "1.5.0",
      "model_name": "ButtonModel",
      "state": {
       "description": "Ja",
       "layout": "IPY_MODEL_45da0872068549928c3f9a3c90aec38b",
       "style": "IPY_MODEL_58d5002a0590434fb137689cb9f95bef"
      }
     },
     "0f297c0f07a941788c44af51141c2a46": {
      "model_module": "@jupyter-widgets/base",
      "model_module_version": "1.2.0",
      "model_name": "LayoutModel",
      "state": {
       "width": "600px"
      }
     },
     "0f4a75e5aa6641ff9cf0f576459e69b4": {
      "model_module": "@jupyter-widgets/controls",
      "model_module_version": "1.5.0",
      "model_name": "CheckboxModel",
      "state": {
       "description": "ein Chunk wird in zwei Chunks aufgeteilt",
       "disabled": false,
       "layout": "IPY_MODEL_384a73eacf9c44128da1579e0660e456",
       "style": "IPY_MODEL_11100eda591141fcac8e8adf418a45c2",
       "value": false
      }
     },
     "0f56c9e05ce848958bbc4dc3d5039fa4": {
      "model_module": "@jupyter-widgets/controls",
      "model_module_version": "1.5.0",
      "model_name": "DescriptionStyleModel",
      "state": {
       "description_width": ""
      }
     },
     "0f60708978a044e79af5c478e48707fd": {
      "model_module": "@jupyter-widgets/base",
      "model_module_version": "1.2.0",
      "model_name": "LayoutModel",
      "state": {
       "width": "600px"
      }
     },
     "0f60e4d4945f47ab95772187095ea548": {
      "model_module": "@jupyter-widgets/base",
      "model_module_version": "1.2.0",
      "model_name": "LayoutModel",
      "state": {
       "width": "250px"
      }
     },
     "0f653e948b8a4c59845925d8518e482f": {
      "model_module": "@jupyter-widgets/controls",
      "model_module_version": "1.5.0",
      "model_name": "ButtonModel",
      "state": {
       "description": "{ }",
       "layout": "IPY_MODEL_4a1f722023514a05a616bcddb6771a0f",
       "style": "IPY_MODEL_4e72a859b91843108d52e809365a66a7"
      }
     },
     "0f9c29a3a5fc43de82fca9fc31e988c2": {
      "model_module": "@jupyter-widgets/controls",
      "model_module_version": "1.5.0",
      "model_name": "ButtonStyleModel",
      "state": {}
     },
     "0fa7662c82d54b6aa6c3b444c867a744": {
      "model_module": "@jupyter-widgets/controls",
      "model_module_version": "1.5.0",
      "model_name": "HTMLModel",
      "state": {
       "layout": "IPY_MODEL_d85283c2ba424c7fb6548195e2c90a92",
       "style": "IPY_MODEL_f1c55273840c4f61bbd9a3f4871c849f",
       "value": "<i>Wählen Sie die <ins>eine</ins> korrekte Antwort aus: </i>"
      }
     },
     "0feb4cd87544463e87aa3d1492f64fc1": {
      "model_module": "@jupyter-widgets/base",
      "model_module_version": "1.2.0",
      "model_name": "LayoutModel",
      "state": {}
     },
     "0fffe1a721534791b8e7e35db5b3fc6f": {
      "model_module": "@jupyter-widgets/base",
      "model_module_version": "1.2.0",
      "model_name": "LayoutModel",
      "state": {
       "width": "250px"
      }
     },
     "100b47530fd3478981155265e19cd65f": {
      "model_module": "@jupyter-widgets/controls",
      "model_module_version": "1.5.0",
      "model_name": "CheckboxModel",
      "state": {
       "description": "Accuracy = (true positives + true negatives) / Anzahl aller Vorhersagen",
       "disabled": false,
       "layout": "IPY_MODEL_b670ed2f437f4d9190cbbc3c21ef6238",
       "style": "IPY_MODEL_f310c874b9b84e14aeaffa898834b393",
       "value": false
      }
     },
     "100d4e9848af42d6b98f0a1138c0d561": {
      "model_module": "@jupyter-widgets/controls",
      "model_module_version": "1.5.0",
      "model_name": "HTMLModel",
      "state": {
       "layout": "IPY_MODEL_56ca1451dc5f4e8e8dd642185cb986a5",
       "style": "IPY_MODEL_e282dbd59acd4f35b998b222daa7754e",
       "value": "<i>Wählen Sie die <ins>eine</ins> korrekte Antwort aus: </i>"
      }
     },
     "103aeaa2b18845de8f2025f049b964f4": {
      "model_module": "@jupyter-widgets/base",
      "model_module_version": "1.2.0",
      "model_name": "LayoutModel",
      "state": {
       "width": "600px"
      }
     },
     "103c45f01847446695e7b3b1dbb9a3a6": {
      "model_module": "@jupyter-widgets/controls",
      "model_module_version": "1.5.0",
      "model_name": "CheckboxModel",
      "state": {
       "description": "F1 = (2*P*R) / (P+R)",
       "disabled": false,
       "layout": "IPY_MODEL_2e0fea2f3cec4a4d8df9a46a7bc52ec7",
       "style": "IPY_MODEL_fff2e8e1e24f4a40ba3ed93b2bab492d",
       "value": true
      }
     },
     "103ee28516e84f109a03f327e4c06a06": {
      "model_module": "@jupyter-widgets/controls",
      "model_module_version": "1.5.0",
      "model_name": "ButtonStyleModel",
      "state": {}
     },
     "1049aca2ac4e4dd790b3853d5d326e52": {
      "model_module": "@jupyter-widgets/controls",
      "model_module_version": "1.5.0",
      "model_name": "DescriptionStyleModel",
      "state": {
       "description_width": ""
      }
     },
     "1068f51f199f4eb298f5e820cf758598": {
      "model_module": "@jupyter-widgets/controls",
      "model_module_version": "1.5.0",
      "model_name": "ButtonStyleModel",
      "state": {}
     },
     "106d838151b7469b883303e49e88f8d6": {
      "model_module": "@jupyter-widgets/controls",
      "model_module_version": "1.5.0",
      "model_name": "ButtonModel",
      "state": {
       "description": "Korrekt?",
       "layout": "IPY_MODEL_72e536e5cd06488286ee651fd951eff7",
       "style": "IPY_MODEL_cb24f9b055ba45d3bac15971463986b9"
      }
     },
     "109aa994dd4e40ac9aab4f74eddf08bf": {
      "model_module": "@jupyter-widgets/controls",
      "model_module_version": "1.5.0",
      "model_name": "CheckboxModel",
      "state": {
       "description": "Accuracy = true positives / Anzahl aller Vorhersagen",
       "disabled": false,
       "layout": "IPY_MODEL_9bb55c15ce3a4959b1556b6b2fe84449",
       "style": "IPY_MODEL_3bc3cdbb6dbd4d7e8836eabfa76a15f1",
       "value": false
      }
     },
     "10a2d44862f9417b99984066cf9e0f7b": {
      "model_module": "@jupyter-widgets/controls",
      "model_module_version": "1.5.0",
      "model_name": "DescriptionStyleModel",
      "state": {
       "description_width": "initial"
      }
     },
     "10adfdbecb0247d7b1333c9b63e0722c": {
      "model_module": "@jupyter-widgets/controls",
      "model_module_version": "1.5.0",
      "model_name": "ButtonModel",
      "state": {
       "description": "cross-serial dependencies",
       "layout": "IPY_MODEL_6b10bc0614dc4da294538521eb3bcac2",
       "style": "IPY_MODEL_4e20043a055d46b7acf6c74480e8ad80"
      }
     },
     "10b50c2359074f36a61f8de1f1828aff": {
      "model_module": "@jupyter-widgets/controls",
      "model_module_version": "1.5.0",
      "model_name": "ButtonStyleModel",
      "state": {
       "button_color": "lightgreen"
      }
     },
     "10d53d73a9d84547a5a1f6126eeea72c": {
      "model_module": "@jupyter-widgets/base",
      "model_module_version": "1.2.0",
      "model_name": "LayoutModel",
      "state": {
       "width": "250px"
      }
     },
     "10e736dfb2a44b24864990873807c4a3": {
      "model_module": "@jupyter-widgets/controls",
      "model_module_version": "1.5.0",
      "model_name": "ButtonStyleModel",
      "state": {}
     },
     "10fb13120f9a43278cf6931a1b24fa05": {
      "model_module": "@jupyter-widgets/base",
      "model_module_version": "1.2.0",
      "model_name": "LayoutModel",
      "state": {
       "justify_content": "center"
      }
     },
     "11100eda591141fcac8e8adf418a45c2": {
      "model_module": "@jupyter-widgets/controls",
      "model_module_version": "1.5.0",
      "model_name": "DescriptionStyleModel",
      "state": {
       "description_width": "initial"
      }
     },
     "11218f87fa754f029b77ea3385338feb": {
      "model_module": "@jupyter-widgets/controls",
      "model_module_version": "1.5.0",
      "model_name": "DescriptionStyleModel",
      "state": {
       "description_width": "initial"
      }
     },
     "112ca428c31f49fea28ac38aa05bddfa": {
      "model_module": "@jupyter-widgets/base",
      "model_module_version": "1.2.0",
      "model_name": "LayoutModel",
      "state": {
       "justify_content": "center"
      }
     },
     "113bd9c6d8da4a04a642f0775faf49ec": {
      "model_module": "@jupyter-widgets/base",
      "model_module_version": "1.2.0",
      "model_name": "LayoutModel",
      "state": {
       "justify_content": "center"
      }
     },
     "1179e0258b4840c49f6c95063d4a888d": {
      "model_module": "@jupyter-widgets/base",
      "model_module_version": "1.2.0",
      "model_name": "LayoutModel",
      "state": {
       "justify_content": "center"
      }
     },
     "1184256ef83743fcb715c2da7c081838": {
      "model_module": "@jupyter-widgets/controls",
      "model_module_version": "1.5.0",
      "model_name": "ButtonModel",
      "state": {
       "description": "{ }",
       "layout": "IPY_MODEL_7a15927c31294ef1b32cb0af593a5182",
       "style": "IPY_MODEL_164621c6b8cf4c4da2fc9b3219e9423b"
      }
     },
     "11a406a6a154476198ecaab5655a5488": {
      "model_module": "@jupyter-widgets/controls",
      "model_module_version": "1.5.0",
      "model_name": "CheckboxModel",
      "state": {
       "description": "Recall = true positives / (true positives + false negatives)",
       "disabled": false,
       "layout": "IPY_MODEL_660e33c264854f068aa5f7ac88bead14",
       "style": "IPY_MODEL_260d70e9db364ec4824e8faf5d9c27ad",
       "value": false
      }
     },
     "11cf008dabe24ab28533656b6ca7c598": {
      "model_module": "@jupyter-widgets/controls",
      "model_module_version": "1.5.0",
      "model_name": "HBoxModel",
      "state": {
       "children": [
        "IPY_MODEL_808bf995e7ec442f919bfc78a97ba853",
        "IPY_MODEL_1558095bf86c4e3494196f9358bb8166"
       ],
       "layout": "IPY_MODEL_2decb4d038024355906392dbfd38da0c"
      }
     },
     "120de76059384c138b58ced2a203aafc": {
      "model_module": "@jupyter-widgets/base",
      "model_module_version": "1.2.0",
      "model_name": "LayoutModel",
      "state": {}
     },
     "1261d73eac334320b3b3df97c474ca02": {
      "model_module": "@jupyter-widgets/base",
      "model_module_version": "1.2.0",
      "model_name": "LayoutModel",
      "state": {
       "width": "250px"
      }
     },
     "12a0f09f4e9b4f38a93d4c01a724882b": {
      "model_module": "@jupyter-widgets/controls",
      "model_module_version": "1.5.0",
      "model_name": "VBoxModel",
      "state": {
       "children": [
        "IPY_MODEL_553598b9bc244c26b6a2ef22c65d9e62",
        "IPY_MODEL_b934fed9321f46e6ba32231f09842590",
        "IPY_MODEL_18c0ddc0629c469fb6bf4362cc3c73a0",
        "IPY_MODEL_349fcf602d4140c9b43c56de0bdd3aa3"
       ],
       "layout": "IPY_MODEL_67c8411fd5ae45a892d0279044a69901"
      }
     },
     "12aa78088627405ea2dbd9b0fd4df323": {
      "model_module": "@jupyter-widgets/controls",
      "model_module_version": "1.5.0",
      "model_name": "HBoxModel",
      "state": {
       "children": [
        "IPY_MODEL_b29be3476b2840af9e3a604c9475ac34",
        "IPY_MODEL_58b2aa22c44e4d0b8b3c9c2691784035"
       ],
       "layout": "IPY_MODEL_7c78422bc36f44bca63b51a9b674a0d5"
      }
     },
     "12be037e365642fba536acfbc33b412a": {
      "model_module": "@jupyter-widgets/controls",
      "model_module_version": "1.5.0",
      "model_name": "HBoxModel",
      "state": {
       "children": [
        "IPY_MODEL_5cb431b670a04e5f98436effe64fef2e",
        "IPY_MODEL_b176b4ac105447de854804ba51a206a5"
       ],
       "layout": "IPY_MODEL_ba84dd5cc93b40ed90f0c8089cdc517d"
      }
     },
     "12cc72fd6a0e495b8d6ae98c745ab496": {
      "model_module": "@jupyter-widgets/controls",
      "model_module_version": "1.5.0",
      "model_name": "DescriptionStyleModel",
      "state": {
       "description_width": ""
      }
     },
     "130a4bbfbb634048a7408057534ea799": {
      "model_module": "@jupyter-widgets/base",
      "model_module_version": "1.2.0",
      "model_name": "LayoutModel",
      "state": {
       "width": "250px"
      }
     },
     "1319ac1774e34ec499e5cb211ef94ee9": {
      "model_module": "@jupyter-widgets/base",
      "model_module_version": "1.2.0",
      "model_name": "LayoutModel",
      "state": {
       "width": "600px"
      }
     },
     "131de453f6b549a0b28d67120fe8f5ee": {
      "model_module": "@jupyter-widgets/controls",
      "model_module_version": "1.5.0",
      "model_name": "ButtonModel",
      "state": {
       "description": "regular expressions",
       "layout": "IPY_MODEL_7eed1c1f1174442eb374729e63069872",
       "style": "IPY_MODEL_d0d48400676a41e580366ec896bc5d1d"
      }
     },
     "133ea6c8829244ee9584ad917a823d58": {
      "model_module": "@jupyter-widgets/controls",
      "model_module_version": "1.5.0",
      "model_name": "HTMLModel",
      "state": {
       "layout": "IPY_MODEL_3a3824d375124c2dadd98cbb8a57271d",
       "style": "IPY_MODEL_f9e2853f150945609995ffa9ee34ce37",
       "value": "<h4 style=\"font-size:14px;\">Was kann mit Chinking erreicht werden?</h4>"
      }
     },
     "136d5d88e8ea407bad87b1a4f08cf5eb": {
      "model_module": "@jupyter-widgets/base",
      "model_module_version": "1.2.0",
      "model_name": "LayoutModel",
      "state": {}
     },
     "138b6385db7c4e5ca8fda5f62e8ef183": {
      "model_module": "@jupyter-widgets/controls",
      "model_module_version": "1.5.0",
      "model_name": "DescriptionStyleModel",
      "state": {
       "description_width": ""
      }
     },
     "13a23c11f85a4a9dbdf8a70fe9341e97": {
      "model_module": "@jupyter-widgets/base",
      "model_module_version": "1.2.0",
      "model_name": "LayoutModel",
      "state": {
       "width": "250px"
      }
     },
     "13b02cb495104ecb9ece48285a4d542a": {
      "model_module": "@jupyter-widgets/base",
      "model_module_version": "1.2.0",
      "model_name": "LayoutModel",
      "state": {
       "width": "250px"
      }
     },
     "13b1ed9957ef40e1b34cb55970b0d6cb": {
      "model_module": "@jupyter-widgets/controls",
      "model_module_version": "1.5.0",
      "model_name": "DescriptionStyleModel",
      "state": {
       "description_width": ""
      }
     },
     "13c11f4c42244b5ea7a8b9c855881df2": {
      "model_module": "@jupyter-widgets/controls",
      "model_module_version": "1.5.0",
      "model_name": "HTMLModel",
      "state": {
       "layout": "IPY_MODEL_5650cea00a964f268863725c13c1276f",
       "style": "IPY_MODEL_1049aca2ac4e4dd790b3853d5d326e52",
       "value": "<i>Wählen Sie die <ins>eine</ins> korrekte Antwort aus: </i>"
      }
     },
     "13e22096b78a47e7b9dc08c93e93ca4f": {
      "model_module": "@jupyter-widgets/base",
      "model_module_version": "1.2.0",
      "model_name": "LayoutModel",
      "state": {
       "width": "600px"
      }
     },
     "13fdaed74664403db1ce787f7fa24c08": {
      "model_module": "@jupyter-widgets/controls",
      "model_module_version": "1.5.0",
      "model_name": "CheckboxModel",
      "state": {
       "description": "ein Chunk wird verkürzt",
       "disabled": false,
       "layout": "IPY_MODEL_68a71d0078e74f348c3b78e910762623",
       "style": "IPY_MODEL_8c25f74fb6054f1dbf948f76cca5a148",
       "value": false
      }
     },
     "140f6ca7029e4aaaaad55e543d63cfaf": {
      "model_module": "@jupyter-widgets/base",
      "model_module_version": "1.2.0",
      "model_name": "LayoutModel",
      "state": {
       "justify_content": "center"
      }
     },
     "143c13692e8141fe994983b64988bf76": {
      "model_module": "@jupyter-widgets/base",
      "model_module_version": "1.2.0",
      "model_name": "LayoutModel",
      "state": {
       "justify_content": "center"
      }
     },
     "145435678f0d43c3a52da57ab4585818": {
      "model_module": "@jupyter-widgets/controls",
      "model_module_version": "1.5.0",
      "model_name": "HBoxModel",
      "state": {
       "children": [
        "IPY_MODEL_8df0848db2634f619269fd78c425f629",
        "IPY_MODEL_5e4ad6945af14d67b107106c52e35708"
       ],
       "layout": "IPY_MODEL_b1326c387c5848e0a6cbfda199f15b42"
      }
     },
     "14917cb4d6be434d823f07c9876f9a5b": {
      "model_module": "@jupyter-widgets/controls",
      "model_module_version": "1.5.0",
      "model_name": "DescriptionStyleModel",
      "state": {
       "description_width": ""
      }
     },
     "149e469677f44ac2953bfe05f032045a": {
      "model_module": "@jupyter-widgets/base",
      "model_module_version": "1.2.0",
      "model_name": "LayoutModel",
      "state": {
       "justify_content": "center"
      }
     },
     "14af277e893e4d099a7e3e32840c6e87": {
      "model_module": "@jupyter-widgets/controls",
      "model_module_version": "1.5.0",
      "model_name": "ButtonModel",
      "state": {
       "description": "Ja",
       "layout": "IPY_MODEL_38a95615f26741b695b018259e5cbaf0",
       "style": "IPY_MODEL_e1208dba6dea485a970d9f70dee32c67"
      }
     },
     "14cbd0b39ea2428daa3da0196ff25e66": {
      "model_module": "@jupyter-widgets/base",
      "model_module_version": "1.2.0",
      "model_name": "LayoutModel",
      "state": {}
     },
     "1558095bf86c4e3494196f9358bb8166": {
      "model_module": "@jupyter-widgets/controls",
      "model_module_version": "1.5.0",
      "model_name": "ButtonModel",
      "state": {
       "description": "rekursiv aufzählbar",
       "layout": "IPY_MODEL_46df6af9d4fd40c08cfcd7e0af2c076b",
       "style": "IPY_MODEL_9d06f38f5f6447ef86e2a666a26a117c"
      }
     },
     "1565cfbfadd34e90aa42cc128e14ce29": {
      "model_module": "@jupyter-widgets/base",
      "model_module_version": "1.2.0",
      "model_name": "LayoutModel",
      "state": {
       "width": "250px"
      }
     },
     "156b713b716e45ba916a3a82420e98cd": {
      "model_module": "@jupyter-widgets/controls",
      "model_module_version": "1.5.0",
      "model_name": "ButtonStyleModel",
      "state": {}
     },
     "157c3cbda8514404b170568a5fbf36a4": {
      "model_module": "@jupyter-widgets/controls",
      "model_module_version": "1.5.0",
      "model_name": "HTMLModel",
      "state": {
       "layout": "IPY_MODEL_cb577698077446d99ae742ac50804013",
       "style": "IPY_MODEL_7bdb3b07be8b4abe9cb4d5beb6349c5d",
       "value": "<i>Markieren Sie <ins>alle</ins> passenden Antworten: </i>"
      }
     },
     "15a0ba0d78c34435ab375739bdfb9b16": {
      "model_module": "@jupyter-widgets/controls",
      "model_module_version": "1.5.0",
      "model_name": "DescriptionStyleModel",
      "state": {
       "description_width": ""
      }
     },
     "15a5372d96f5497da544a96d3bc0d859": {
      "model_module": "@jupyter-widgets/controls",
      "model_module_version": "1.5.0",
      "model_name": "DescriptionStyleModel",
      "state": {
       "description_width": "initial"
      }
     },
     "15b5c95f7f2f4a6faad4161129564636": {
      "model_module": "@jupyter-widgets/controls",
      "model_module_version": "1.5.0",
      "model_name": "HTMLModel",
      "state": {
       "layout": "IPY_MODEL_674aa2a1607e42a48f98a19e7071ff99",
       "style": "IPY_MODEL_eaae5cce4c154f39b3d69f082e918443",
       "value": "<i>Wählen Sie die <ins>eine</ins> korrekte Antwort aus: </i>"
      }
     },
     "15f01493f54841aa95a67117b65c5584": {
      "model_module": "@jupyter-widgets/base",
      "model_module_version": "1.2.0",
      "model_name": "LayoutModel",
      "state": {
       "justify_content": "center"
      }
     },
     "15f9b3e590544a5baedfdb82aa51f21a": {
      "model_module": "@jupyter-widgets/controls",
      "model_module_version": "1.5.0",
      "model_name": "VBoxModel",
      "state": {
       "children": [
        "IPY_MODEL_6613257314db4688951af613fa64d8cd",
        "IPY_MODEL_4fae280511284704840f345736d5adaf",
        "IPY_MODEL_de631353fdfd4a2ebcb947aef5b3b5ce",
        "IPY_MODEL_952c1fd4c898453989d80fd08181618f"
       ],
       "layout": "IPY_MODEL_65ddf7ba71e3483fbd2e7fe84155cad6"
      }
     },
     "161b0348e6014606994b8133f69ac39b": {
      "model_module": "@jupyter-widgets/controls",
      "model_module_version": "1.5.0",
      "model_name": "HTMLModel",
      "state": {
       "layout": "IPY_MODEL_c8497ff499a841e48168ae630d7fca81",
       "style": "IPY_MODEL_820858aa33ce4b85a1ce12e9329c1df0",
       "value": "<h4 style=\"font-size:14px;\">Welche Rekursionstiefe hat der Satz?</h4>"
      }
     },
     "162c676975f447bc96b153162614f1da": {
      "model_module": "@jupyter-widgets/controls",
      "model_module_version": "1.5.0",
      "model_name": "ButtonModel",
      "state": {
       "description": "regular expressions",
       "layout": "IPY_MODEL_fb4abeb419b745d08205fcf18abedcb2",
       "style": "IPY_MODEL_ff225cd1eee84fc39b634d4edb334af5"
      }
     },
     "164621c6b8cf4c4da2fc9b3219e9423b": {
      "model_module": "@jupyter-widgets/controls",
      "model_module_version": "1.5.0",
      "model_name": "ButtonStyleModel",
      "state": {}
     },
     "1649d1efd7dc4768ba1fe2b7cc351498": {
      "model_module": "@jupyter-widgets/base",
      "model_module_version": "1.2.0",
      "model_name": "LayoutModel",
      "state": {}
     },
     "1693c8a3d9c24f5fb5d228dc9aee5cdf": {
      "model_module": "@jupyter-widgets/base",
      "model_module_version": "1.2.0",
      "model_name": "LayoutModel",
      "state": {
       "width": "600px"
      }
     },
     "16a4d6794ae147e09c38cb394453d3f5": {
      "model_module": "@jupyter-widgets/controls",
      "model_module_version": "1.5.0",
      "model_name": "DescriptionStyleModel",
      "state": {
       "description_width": ""
      }
     },
     "16d27ca225f74e1ca8eab37ff68739cc": {
      "model_module": "@jupyter-widgets/controls",
      "model_module_version": "1.5.0",
      "model_name": "HBoxModel",
      "state": {
       "children": [
        "IPY_MODEL_ef9eef2ac69345668d52fe30a98471df",
        "IPY_MODEL_ff5ac943b72c4bdd9beba4170819eb99"
       ],
       "layout": "IPY_MODEL_25d375daa86148d6982f837b1e73f3a2"
      }
     },
     "16d74ee81ba74a46bc7960b1df15afe2": {
      "model_module": "@jupyter-widgets/controls",
      "model_module_version": "1.5.0",
      "model_name": "VBoxModel",
      "state": {
       "children": [
        "IPY_MODEL_c7a17a8b719f442183397c7a8e7fda30",
        "IPY_MODEL_6e45a900d18940bd87941e1b4ab09c57",
        "IPY_MODEL_58c638ba0632474288dab2215faff726",
        "IPY_MODEL_0ca56abf181946fbbf000fbd0cab41fd"
       ],
       "layout": "IPY_MODEL_cbdf1fa6883949b695b4a631fed768d5"
      }
     },
     "16d7d9313f5c4a82ad9b608777936b46": {
      "model_module": "@jupyter-widgets/controls",
      "model_module_version": "1.5.0",
      "model_name": "CheckboxModel",
      "state": {
       "description": "F1 = (2 * Precision * Recall) / (Precision + Rrecall)",
       "disabled": false,
       "layout": "IPY_MODEL_bb6290087cc24a6c85df516fa2579d89",
       "style": "IPY_MODEL_9c48e49aa2b64b8eb11daf914341f7e5",
       "value": false
      }
     },
     "16e5e2a25cc24b9ca6dca156196ad51a": {
      "model_module": "@jupyter-widgets/controls",
      "model_module_version": "1.5.0",
      "model_name": "HTMLModel",
      "state": {
       "layout": "IPY_MODEL_47263708382d4670a07d3852e56521ca",
       "style": "IPY_MODEL_734bd5cde80b4f9487f3249e4c2532be",
       "value": "<i>Markieren Sie <ins>alle</ins> passenden Antworten: </i>"
      }
     },
     "16e707674dc241f1a316ef8c5f1fb291": {
      "model_module": "@jupyter-widgets/controls",
      "model_module_version": "1.5.0",
      "model_name": "CheckboxModel",
      "state": {
       "description": "Recall = true positives / (true positives + false negatives)",
       "disabled": false,
       "layout": "IPY_MODEL_8bd784f9be9c43498ff91098b302020c",
       "style": "IPY_MODEL_747b3c77ddc64aacab1fd827de67c983",
       "value": false
      }
     },
     "172ffd2e4fd44f2eb00c1486569ff036": {
      "model_module": "@jupyter-widgets/base",
      "model_module_version": "1.2.0",
      "model_name": "LayoutModel",
      "state": {}
     },
     "174fb2375a3a4f6f86f84990c5f96e9c": {
      "model_module": "@jupyter-widgets/controls",
      "model_module_version": "1.5.0",
      "model_name": "ButtonStyleModel",
      "state": {}
     },
     "176ac6710f894936bfca72afa7f8a95f": {
      "model_module": "@jupyter-widgets/controls",
      "model_module_version": "1.5.0",
      "model_name": "ButtonStyleModel",
      "state": {}
     },
     "176dc4555b74497887710d192f27f474": {
      "model_module": "@jupyter-widgets/controls",
      "model_module_version": "1.5.0",
      "model_name": "ButtonModel",
      "state": {
       "description": "{ }",
       "layout": "IPY_MODEL_02f39dc1b24f4e5a93195879835ba841",
       "style": "IPY_MODEL_2195f6c8c2e04c978c65da1424b6fae6"
      }
     },
     "178ab525df2d44afb9b3d620c485448e": {
      "model_module": "@jupyter-widgets/controls",
      "model_module_version": "1.5.0",
      "model_name": "CheckboxModel",
      "state": {
       "description": "F1 = (2 * Precision * Recall) / (Precision + Rrecall)",
       "disabled": false,
       "layout": "IPY_MODEL_2a810ac94e67462096b6255367d9eb92",
       "style": "IPY_MODEL_31d5375dba654992946a8c796d06ede7",
       "value": false
      }
     },
     "17b0c27283534fd79d3a2ddf28e774c0": {
      "model_module": "@jupyter-widgets/controls",
      "model_module_version": "1.5.0",
      "model_name": "HTMLModel",
      "state": {
       "layout": "IPY_MODEL_dad30724c1bf4916a8cec97eeb6250a5",
       "style": "IPY_MODEL_687f6b55bc704f75b18030f33d12d113",
       "value": "<h4 style=\"font-size:14px;\">Ist der Satz ambig?</h4>"
      }
     },
     "17be8694e6924430bbce2dd122401b2c": {
      "model_module": "@jupyter-widgets/base",
      "model_module_version": "1.2.0",
      "model_name": "LayoutModel",
      "state": {}
     },
     "17d9571e3db743e887e1d6052d543365": {
      "model_module": "@jupyter-widgets/controls",
      "model_module_version": "1.5.0",
      "model_name": "DescriptionStyleModel",
      "state": {
       "description_width": ""
      }
     },
     "17e0d2f781404542bd01b41667c414d0": {
      "model_module": "@jupyter-widgets/base",
      "model_module_version": "1.2.0",
      "model_name": "LayoutModel",
      "state": {
       "width": "600px"
      }
     },
     "17efecdf9ee24ddabbbbb27e0334f01d": {
      "model_module": "@jupyter-widgets/controls",
      "model_module_version": "1.5.0",
      "model_name": "ButtonModel",
      "state": {
       "description": "} {",
       "layout": "IPY_MODEL_717f24c001b04d03881bc54db2d45dc0",
       "style": "IPY_MODEL_e566184b094f4ffc90cddf514cebbe5f"
      }
     },
     "1805d789c61d48c2aaa44ab8dd74410b": {
      "model_module": "@jupyter-widgets/controls",
      "model_module_version": "1.5.0",
      "model_name": "ButtonModel",
      "state": {
       "description": "Ja",
       "layout": "IPY_MODEL_490cb85b7d7440b6af2c88dd51dfeb54",
       "style": "IPY_MODEL_1cc1a45eb640498a8658da15be6e4b94"
      }
     },
     "1818867f2ef54a50a7312090bdafaeed": {
      "model_module": "@jupyter-widgets/controls",
      "model_module_version": "1.5.0",
      "model_name": "ButtonModel",
      "state": {
       "description": "center embedding",
       "layout": "IPY_MODEL_65869f7df86d4223a4e8a26f5ea49714",
       "style": "IPY_MODEL_3e53b162fa6545d58f66785ddace0f10"
      }
     },
     "182ebfebed5e4cdbbf89ece2e1500014": {
      "model_module": "@jupyter-widgets/controls",
      "model_module_version": "1.5.0",
      "model_name": "DescriptionStyleModel",
      "state": {
       "description_width": "initial"
      }
     },
     "1838d3554edd4ab992dc15414721d806": {
      "model_module": "@jupyter-widgets/base",
      "model_module_version": "1.2.0",
      "model_name": "LayoutModel",
      "state": {
       "width": "250px"
      }
     },
     "186a163975c646f0a56c60aef367ccd9": {
      "model_module": "@jupyter-widgets/controls",
      "model_module_version": "1.5.0",
      "model_name": "DescriptionStyleModel",
      "state": {
       "description_width": ""
      }
     },
     "188db5eabbfc487fbc651e1b0b0fa0c4": {
      "model_module": "@jupyter-widgets/controls",
      "model_module_version": "1.5.0",
      "model_name": "HTMLModel",
      "state": {
       "layout": "IPY_MODEL_d780ef3e1104428c9ad17a34a72796b1",
       "style": "IPY_MODEL_284011926f874c83a12ea4c449998843",
       "value": "<i>Wählen Sie die <ins>eine</ins> korrekte Antwort aus: </i>"
      }
     },
     "18bac8dc0d6643f79564f65b2fa96d38": {
      "model_module": "@jupyter-widgets/controls",
      "model_module_version": "1.5.0",
      "model_name": "ButtonModel",
      "state": {
       "description": "Keine der anderen Möglichkeiten",
       "layout": "IPY_MODEL_8dc7c49889244c2baf0e5074aafe727f",
       "style": "IPY_MODEL_2d49431beb6b426fabb108b788c918e7"
      }
     },
     "18be2b11e1b44fc4b156ec423a249b56": {
      "model_module": "@jupyter-widgets/controls",
      "model_module_version": "1.5.0",
      "model_name": "ButtonModel",
      "state": {
       "description": "garden-path",
       "layout": "IPY_MODEL_82f27c7575184f26a7d6daee8c203b5d",
       "style": "IPY_MODEL_176ac6710f894936bfca72afa7f8a95f"
      }
     },
     "18c0ddc0629c469fb6bf4362cc3c73a0": {
      "model_module": "@jupyter-widgets/controls",
      "model_module_version": "1.5.0",
      "model_name": "HBoxModel",
      "state": {
       "children": [
        "IPY_MODEL_473c27beb5164daaac2f71e2052559f4",
        "IPY_MODEL_9ad1f84ee64e447bac62873268946b9d"
       ],
       "layout": "IPY_MODEL_7cd7c9970cbb4c59bf226615988f6d7a"
      }
     },
     "18c2fd0de70d4771bcff35dd6f70833f": {
      "model_module": "@jupyter-widgets/controls",
      "model_module_version": "1.5.0",
      "model_name": "ButtonStyleModel",
      "state": {}
     },
     "18c5f85bf25b41f898454ff37fc99e87": {
      "model_module": "@jupyter-widgets/base",
      "model_module_version": "1.2.0",
      "model_name": "LayoutModel",
      "state": {
       "justify_content": "center"
      }
     },
     "18d1d0022fd34ed4ae84548568fe4a52": {
      "model_module": "@jupyter-widgets/controls",
      "model_module_version": "1.5.0",
      "model_name": "ButtonStyleModel",
      "state": {}
     },
     "19bc560b1dcf42f19eed92b35532f98b": {
      "model_module": "@jupyter-widgets/controls",
      "model_module_version": "1.5.0",
      "model_name": "ButtonStyleModel",
      "state": {}
     },
     "19dd442661b74fd085eff704c29e2d78": {
      "model_module": "@jupyter-widgets/controls",
      "model_module_version": "1.5.0",
      "model_name": "DescriptionStyleModel",
      "state": {
       "description_width": ""
      }
     },
     "19e2551b2c5a46059bb48d244c8afea2": {
      "model_module": "@jupyter-widgets/controls",
      "model_module_version": "1.5.0",
      "model_name": "VBoxModel",
      "state": {
       "children": [
        "IPY_MODEL_834fe4aecdcd4c09983be44b672dd403",
        "IPY_MODEL_764ea62a82eb4cf186afd7d6491eab7a",
        "IPY_MODEL_eea008cd08ad4b6193203dd719f57ce8",
        "IPY_MODEL_bfc31c1bbbc24033afb724c1f5b22a97"
       ],
       "layout": "IPY_MODEL_053c8aed660f40418c842425dabe86f7"
      }
     },
     "1a168bdec6e4407c85983c5b33127af4": {
      "model_module": "@jupyter-widgets/controls",
      "model_module_version": "1.5.0",
      "model_name": "DescriptionStyleModel",
      "state": {
       "description_width": "initial"
      }
     },
     "1a1757e3e9ff47878064b95651101b28": {
      "model_module": "@jupyter-widgets/base",
      "model_module_version": "1.2.0",
      "model_name": "LayoutModel",
      "state": {}
     },
     "1a50a2eff2594eaea4e18b57b64d2b5e": {
      "model_module": "@jupyter-widgets/controls",
      "model_module_version": "1.5.0",
      "model_name": "HBoxModel",
      "state": {
       "children": [
        "IPY_MODEL_162c676975f447bc96b153162614f1da",
        "IPY_MODEL_a66e0b98440f4878ab7409ce6f7222a9"
       ],
       "layout": "IPY_MODEL_a1cc0ef9a8024a249c5e517306a61821"
      }
     },
     "1a5f1839084d41929bf75c679aaca2b7": {
      "model_module": "@jupyter-widgets/base",
      "model_module_version": "1.2.0",
      "model_name": "LayoutModel",
      "state": {}
     },
     "1a5fee6205a844738e944a8724c89875": {
      "model_module": "@jupyter-widgets/controls",
      "model_module_version": "1.5.0",
      "model_name": "DescriptionStyleModel",
      "state": {
       "description_width": ""
      }
     },
     "1a6703d99d4244f291a52ff628aa8374": {
      "model_module": "@jupyter-widgets/controls",
      "model_module_version": "1.5.0",
      "model_name": "DescriptionStyleModel",
      "state": {
       "description_width": "initial"
      }
     },
     "1a8869f3b7ef4535ae2d92e0b25f14d9": {
      "model_module": "@jupyter-widgets/controls",
      "model_module_version": "1.5.0",
      "model_name": "ButtonStyleModel",
      "state": {}
     },
     "1aab2ea915a04bc79bb8b1e57b3abc1d": {
      "model_module": "@jupyter-widgets/controls",
      "model_module_version": "1.5.0",
      "model_name": "HBoxModel",
      "state": {
       "children": [
        "IPY_MODEL_87084447091e43b486d3e420be65db22",
        "IPY_MODEL_8945a8feaefb4d9abad65d936de373cc"
       ],
       "layout": "IPY_MODEL_ecfade2e7ee94237aec53e44ab2bff88"
      }
     },
     "1ab5ff8f43f24ddc841f832401d60fad": {
      "model_module": "@jupyter-widgets/controls",
      "model_module_version": "1.5.0",
      "model_name": "DescriptionStyleModel",
      "state": {
       "description_width": "initial"
      }
     },
     "1b10fac7edfc439babc70804ea6d8354": {
      "model_module": "@jupyter-widgets/controls",
      "model_module_version": "1.5.0",
      "model_name": "ButtonStyleModel",
      "state": {}
     },
     "1b2d1cd87b60481b907d7fa338299c52": {
      "model_module": "@jupyter-widgets/controls",
      "model_module_version": "1.5.0",
      "model_name": "DescriptionStyleModel",
      "state": {
       "description_width": ""
      }
     },
     "1b3db01e785248d3aa5f20b1556c915e": {
      "model_module": "@jupyter-widgets/controls",
      "model_module_version": "1.5.0",
      "model_name": "HTMLModel",
      "state": {
       "layout": "IPY_MODEL_c3b75940ecda43b686cad98e2aa20c05",
       "style": "IPY_MODEL_a56498ab96a04e22875b239a40e25bb5",
       "value": "<h4 style=\"font-size:14px;\">Was kann mit Chinking erreicht werden?</h4>"
      }
     },
     "1b7b13c7d0284cc58574dfbe15730232": {
      "model_module": "@jupyter-widgets/base",
      "model_module_version": "1.2.0",
      "model_name": "LayoutModel",
      "state": {
       "width": "600px"
      }
     },
     "1b88d9bddbd442208735f02758664957": {
      "model_module": "@jupyter-widgets/controls",
      "model_module_version": "1.5.0",
      "model_name": "CheckboxModel",
      "state": {
       "description": "Es gibt keinen Unterschied.",
       "disabled": false,
       "layout": "IPY_MODEL_89cef2a5726844eea812970fcfc62997",
       "style": "IPY_MODEL_bc435824f6d6450ba03e2ee9ccc87b3b",
       "value": false
      }
     },
     "1b979325c14544c884149aebbc17a66a": {
      "model_module": "@jupyter-widgets/controls",
      "model_module_version": "1.5.0",
      "model_name": "HTMLModel",
      "state": {
       "layout": "IPY_MODEL_2f13d93efbe84567a3821d05456481da",
       "style": "IPY_MODEL_f76a22089f2741b7b6b5337a3e3f376d",
       "value": "<i>Wählen Sie die <ins>eine</ins> korrekte Antwort aus: </i>"
      }
     },
     "1bb0918b61e04d8d98aebd4aaaa9ff20": {
      "model_module": "@jupyter-widgets/base",
      "model_module_version": "1.2.0",
      "model_name": "LayoutModel",
      "state": {}
     },
     "1bbac471e89b4124ba0a528141fea691": {
      "model_module": "@jupyter-widgets/controls",
      "model_module_version": "1.5.0",
      "model_name": "DescriptionStyleModel",
      "state": {
       "description_width": "initial"
      }
     },
     "1bdab8067c8e4333b87aa0b1ba7e3c31": {
      "model_module": "@jupyter-widgets/controls",
      "model_module_version": "1.5.0",
      "model_name": "ButtonModel",
      "state": {
       "description": "Keine der anderen Möglichkeiten",
       "layout": "IPY_MODEL_38d4afc202644f2ea81d26d14f094233",
       "style": "IPY_MODEL_1b10fac7edfc439babc70804ea6d8354"
      }
     },
     "1c0bd3c202cd4c9fadaafc8db0eb3c60": {
      "model_module": "@jupyter-widgets/base",
      "model_module_version": "1.2.0",
      "model_name": "LayoutModel",
      "state": {}
     },
     "1c184a2142f54ea8b2ae06738e4b065a": {
      "model_module": "@jupyter-widgets/controls",
      "model_module_version": "1.5.0",
      "model_name": "ButtonModel",
      "state": {
       "description": "Ja",
       "layout": "IPY_MODEL_ea96e1cf8610460fba57588f73d31b0a",
       "style": "IPY_MODEL_a435e118d5dc4532a657cf95aecfb758"
      }
     },
     "1c1c13b1cd3a40fa8d01bbdb3f43c943": {
      "model_module": "@jupyter-widgets/controls",
      "model_module_version": "1.5.0",
      "model_name": "HTMLModel",
      "state": {
       "layout": "IPY_MODEL_d7f38d6ad7d2443e886be36833acd8c4",
       "style": "IPY_MODEL_98fc12ff5a794e29951c2eaa4e3ebbb9",
       "value": "<i>Wählen Sie die <ins>eine</ins> korrekte Antwort aus: </i>"
      }
     },
     "1c30633b611043c5bfa667d52e32605b": {
      "model_module": "@jupyter-widgets/controls",
      "model_module_version": "1.5.0",
      "model_name": "VBoxModel",
      "state": {
       "children": [
        "IPY_MODEL_d5c7c692d1fd495aa93b5d4c8c88079d",
        "IPY_MODEL_1b979325c14544c884149aebbc17a66a",
        "IPY_MODEL_d3d9d61164e14eed810f466589e5c4a0",
        "IPY_MODEL_8e5f57149b80427890da11123ee478f5"
       ],
       "layout": "IPY_MODEL_bbb5c89ce1c8403c8e2ca9ebbdb4c76c"
      }
     },
     "1c43676dbea947efa88d6ce677e58048": {
      "model_module": "@jupyter-widgets/controls",
      "model_module_version": "1.5.0",
      "model_name": "ButtonModel",
      "state": {
       "description": "Ja",
       "layout": "IPY_MODEL_a32216afe6fd4564bea69f5dd78e863a",
       "style": "IPY_MODEL_e4e2ea5229124955ad50cbc82cdf3adf"
      }
     },
     "1c46a8fcd3eb4854b947b46a4c5c0193": {
      "model_module": "@jupyter-widgets/controls",
      "model_module_version": "1.5.0",
      "model_name": "VBoxModel",
      "state": {
       "children": [
        "IPY_MODEL_821b2bc3fbe245dba2583bf072e28f6d",
        "IPY_MODEL_af4d84b748f842e08ea6159adafd96af",
        "IPY_MODEL_410d0fa29a314044a76e570559df6d55"
       ],
       "layout": "IPY_MODEL_cd331212aae24882a237282f03679560"
      }
     },
     "1c8de0ac57e34ea786eb5bd841987938": {
      "model_module": "@jupyter-widgets/controls",
      "model_module_version": "1.5.0",
      "model_name": "ButtonStyleModel",
      "state": {}
     },
     "1ca21211fdf54e0ca6bbae67315fb330": {
      "model_module": "@jupyter-widgets/controls",
      "model_module_version": "1.5.0",
      "model_name": "HBoxModel",
      "state": {
       "children": [
        "IPY_MODEL_a01f9cf6ca2d4fbda2727a3c6a2dce03",
        "IPY_MODEL_0050b2ffc3294b5a8a82a6b537a6123f"
       ],
       "layout": "IPY_MODEL_62589ab9509142b8a3a46449cf1232a4"
      }
     },
     "1cc1a45eb640498a8658da15be6e4b94": {
      "model_module": "@jupyter-widgets/controls",
      "model_module_version": "1.5.0",
      "model_name": "ButtonStyleModel",
      "state": {
       "button_color": "lightgreen"
      }
     },
     "1cde7790fb47407e9ebe2b8b5bba4160": {
      "model_module": "@jupyter-widgets/controls",
      "model_module_version": "1.5.0",
      "model_name": "CheckboxModel",
      "state": {
       "description": "Chunks sind oft länger als Phrasen.",
       "disabled": false,
       "layout": "IPY_MODEL_699c129bc88645ef89a3545ae6d81f8c",
       "style": "IPY_MODEL_83b5767b191a4131b917d8a699d78daa",
       "value": false
      }
     },
     "1cf2e29a56444e188cabeec12763a850": {
      "model_module": "@jupyter-widgets/controls",
      "model_module_version": "1.5.0",
      "model_name": "ButtonStyleModel",
      "state": {}
     },
     "1d14fac77a2a4097805c3091c4acfacb": {
      "model_module": "@jupyter-widgets/controls",
      "model_module_version": "1.5.0",
      "model_name": "DescriptionStyleModel",
      "state": {
       "description_width": "initial"
      }
     },
     "1d26c6bea44049b88226139f1dbc4dfe": {
      "model_module": "@jupyter-widgets/base",
      "model_module_version": "1.2.0",
      "model_name": "LayoutModel",
      "state": {}
     },
     "1d41452adb104b5aac0597df13cd7c70": {
      "model_module": "@jupyter-widgets/base",
      "model_module_version": "1.2.0",
      "model_name": "LayoutModel",
      "state": {
       "justify_content": "center"
      }
     },
     "1d42c01f47b54f709e88eb10d4a628fe": {
      "model_module": "@jupyter-widgets/controls",
      "model_module_version": "1.5.0",
      "model_name": "VBoxModel",
      "state": {
       "children": [
        "IPY_MODEL_6e2a446b35c04fa693afd1e0994748f8",
        "IPY_MODEL_a2fba1bc8af848c0972b57f62faa5a67",
        "IPY_MODEL_b7524589241a441d9bae1485384bd8eb",
        "IPY_MODEL_874d344b640e4943b75ac09450e15065"
       ],
       "layout": "IPY_MODEL_dc8f7590816842f08229dedf8a57f1a0"
      }
     },
     "1d7c7bcefda84d1d91c515ccbfc3b22d": {
      "model_module": "@jupyter-widgets/base",
      "model_module_version": "1.2.0",
      "model_name": "LayoutModel",
      "state": {
       "width": "250px"
      }
     },
     "1dbdbcc987fc4e53baf809e47c97011a": {
      "model_module": "@jupyter-widgets/controls",
      "model_module_version": "1.5.0",
      "model_name": "ButtonStyleModel",
      "state": {}
     },
     "1dd1aee9ea7e457b9347d3daafd4936f": {
      "model_module": "@jupyter-widgets/controls",
      "model_module_version": "1.5.0",
      "model_name": "HTMLModel",
      "state": {
       "layout": "IPY_MODEL_c5a492eadd5e4487854cc8faadc4ee8a",
       "style": "IPY_MODEL_05596b65f8c2423eaf2cac2d0d97c7ec",
       "value": "<i>Wählen Sie die <ins>eine</ins> korrekte Antwort aus: </i>"
      }
     },
     "1e02508371bb4ed4bed9b340d65e5393": {
      "model_module": "@jupyter-widgets/controls",
      "model_module_version": "1.5.0",
      "model_name": "HTMLModel",
      "state": {
       "layout": "IPY_MODEL_d02993ec489f495599b839abcd3d841c",
       "style": "IPY_MODEL_0a0a064634344e39adac97378bd434da",
       "value": "<h4 style=\"font-size:14px;\">Welche Rekursionstiefe hat der Satz?</h4>"
      }
     },
     "1e0af16d21d74ebe88498bc29e3c3186": {
      "model_module": "@jupyter-widgets/controls",
      "model_module_version": "1.5.0",
      "model_name": "ButtonStyleModel",
      "state": {}
     },
     "1e10148ae2c144aa9f6f5a4fdc9c1148": {
      "model_module": "@jupyter-widgets/controls",
      "model_module_version": "1.5.0",
      "model_name": "HTMLModel",
      "state": {
       "layout": "IPY_MODEL_ff4a6e3e2a3c4576a7db12618e1303eb",
       "style": "IPY_MODEL_8e81a3328d7b491099173e3091c17d66",
       "value": "<h4 style=\"font-size:14px;\">Wo ist der Unterschied zwischen Chunks und Phrasen?</h4>"
      }
     },
     "1e109362f0614d9489a14490e009fd7b": {
      "model_module": "@jupyter-widgets/controls",
      "model_module_version": "1.5.0",
      "model_name": "VBoxModel",
      "state": {
       "children": [
        "IPY_MODEL_4e0180ca450a40aab76279d140e49885",
        "IPY_MODEL_c5fa22c87d8f4702aab548faa17fb1ac",
        "IPY_MODEL_90c0fa523bf94b0189623bcb4bd2ae19",
        "IPY_MODEL_e8ca087568c2410582a5bc07d5a5b6ab"
       ],
       "layout": "IPY_MODEL_00ceedc514e2480b9f102136cd0c1556"
      }
     },
     "1e11230acefc4b648aa46d3f3ef21ecd": {
      "model_module": "@jupyter-widgets/base",
      "model_module_version": "1.2.0",
      "model_name": "LayoutModel",
      "state": {
       "justify_content": "center"
      }
     },
     "1e5986460ca845c59537797e1b2f9ce7": {
      "model_module": "@jupyter-widgets/controls",
      "model_module_version": "1.5.0",
      "model_name": "CheckboxModel",
      "state": {
       "description": "Recall = richtig bestimmte tp / tp des Referenz-Korpus",
       "disabled": false,
       "layout": "IPY_MODEL_868c94c815614cedb3d8df935b71aa21",
       "style": "IPY_MODEL_da20f1ccec544629bb2b93bd84db5ddb",
       "value": true
      }
     },
     "1e6ff97bd65f45aba8066884749ba218": {
      "model_module": "@jupyter-widgets/controls",
      "model_module_version": "1.5.0",
      "model_name": "ButtonModel",
      "state": {
       "description": "Korrekt?",
       "layout": "IPY_MODEL_1d7c7bcefda84d1d91c515ccbfc3b22d",
       "style": "IPY_MODEL_e0e19727025c44b4a7175be02fcae2e9"
      }
     },
     "1e91c473e7df489390b0cad735d17849": {
      "model_module": "@jupyter-widgets/controls",
      "model_module_version": "1.5.0",
      "model_name": "HTMLModel",
      "state": {
       "layout": "IPY_MODEL_50d94d62fdbe4c268d7f6f2ceb415a89",
       "style": "IPY_MODEL_878a6c6f9239446c851bab7cf05233f1",
       "value": "<h4 style=\"font-size:14px;\">Welche Rekursionstiefe hat der Satz?</h4>"
      }
     },
     "1eafcd7b1869431c8c4eae91279bf613": {
      "model_module": "@jupyter-widgets/controls",
      "model_module_version": "1.5.0",
      "model_name": "ButtonModel",
      "state": {
       "description": "cross-serial dependencies",
       "layout": "IPY_MODEL_778fb168ed5646dcaa8eef75a5ecd554",
       "style": "IPY_MODEL_0e06d530389f44a7af9b96a50f7666b4"
      }
     },
     "1edddf8614d34904967c717aacdf18e5": {
      "model_module": "@jupyter-widgets/base",
      "model_module_version": "1.2.0",
      "model_name": "LayoutModel",
      "state": {
       "width": "600px"
      }
     },
     "1ee722f0ce3e4206bd14bce9c176eeab": {
      "model_module": "@jupyter-widgets/controls",
      "model_module_version": "1.5.0",
      "model_name": "HTMLModel",
      "state": {
       "layout": "IPY_MODEL_a2b4280cb17442f9b62f011af3fe6d65",
       "style": "IPY_MODEL_3adbd2abf7de499aad1c5b40a0d70f13",
       "value": "<h4 style=\"font-size:14px;\">Was kann mit Chinking erreicht werden?</h4>"
      }
     },
     "1eeddf86555c4ba6973367b3b0954137": {
      "model_module": "@jupyter-widgets/base",
      "model_module_version": "1.2.0",
      "model_name": "LayoutModel",
      "state": {
       "justify_content": "center"
      }
     },
     "1eef3f620eaa46eba8e77d0fad5764da": {
      "model_module": "@jupyter-widgets/base",
      "model_module_version": "1.2.0",
      "model_name": "LayoutModel",
      "state": {
       "width": "600px"
      }
     },
     "1f192f9ab0cf4210a6efbf79a8dbb077": {
      "model_module": "@jupyter-widgets/controls",
      "model_module_version": "1.5.0",
      "model_name": "VBoxModel",
      "state": {
       "children": [
        "IPY_MODEL_3e089d9a46944919afd8eb63041084fc",
        "IPY_MODEL_2225ffe563ca40818cfdf447a5c47d1b",
        "IPY_MODEL_f65366cb03a44613bb950bf66f3612eb"
       ],
       "layout": "IPY_MODEL_3e3a7140cf194900af7e5672edd80b76"
      }
     },
     "1f197ccf150a4fd2b2d1593c8efa29d6": {
      "model_module": "@jupyter-widgets/controls",
      "model_module_version": "1.5.0",
      "model_name": "ButtonStyleModel",
      "state": {}
     },
     "1f23e29f6d454ccc8c0e5bf154daa0fb": {
      "model_module": "@jupyter-widgets/controls",
      "model_module_version": "1.5.0",
      "model_name": "DescriptionStyleModel",
      "state": {
       "description_width": ""
      }
     },
     "1f3864ab74d84146a8db3f729ad37dd8": {
      "model_module": "@jupyter-widgets/base",
      "model_module_version": "1.2.0",
      "model_name": "LayoutModel",
      "state": {
       "justify_content": "center"
      }
     },
     "1f5fbaf42c00445f8f874bf0c7e381c9": {
      "model_module": "@jupyter-widgets/controls",
      "model_module_version": "1.5.0",
      "model_name": "ButtonModel",
      "state": {
       "description": "Keine der anderen Möglichkeiten",
       "layout": "IPY_MODEL_a260bac112444938a772cc3d018c2a4d",
       "style": "IPY_MODEL_51a4c24c5aaa4345adb2c45f91d4eb92"
      }
     },
     "1f9007d9077a405b93540197a58f0562": {
      "model_module": "@jupyter-widgets/controls",
      "model_module_version": "1.5.0",
      "model_name": "VBoxModel",
      "state": {
       "children": [
        "IPY_MODEL_733c24fb95834f75b1264852ea01a821",
        "IPY_MODEL_c4684db074c94dd384c20d3a04d690a5",
        "IPY_MODEL_8b35caae0bc7412381c073cacab18599",
        "IPY_MODEL_8db35f065939430fb2d82827baee958c"
       ],
       "layout": "IPY_MODEL_498e93c9cd0c4774a0f0eddee09b29f4"
      }
     },
     "2033b3d4c96d47fc9ebf78b4b069dbc4": {
      "model_module": "@jupyter-widgets/controls",
      "model_module_version": "1.5.0",
      "model_name": "HTMLModel",
      "state": {
       "layout": "IPY_MODEL_ecbed469f2c0473893438108097910d3",
       "style": "IPY_MODEL_b845cd1001474c7483c71f859395aae7",
       "value": "<i>Wählen Sie die <ins>eine</ins> korrekte Antwort aus: </i>"
      }
     },
     "2038e29ae92b425fa79306b00ca6e839": {
      "model_module": "@jupyter-widgets/controls",
      "model_module_version": "1.5.0",
      "model_name": "ButtonStyleModel",
      "state": {}
     },
     "203e250af03b44e0ae9afd076a231a9c": {
      "model_module": "@jupyter-widgets/controls",
      "model_module_version": "1.5.0",
      "model_name": "ButtonModel",
      "state": {
       "description": "kontextfrei",
       "layout": "IPY_MODEL_e9bf190ea4d746938f272ab65d9b07a8",
       "style": "IPY_MODEL_b15b23caf68b44529096aaf80d10b02a"
      }
     },
     "2047953043c648219fcbba33017809da": {
      "model_module": "@jupyter-widgets/controls",
      "model_module_version": "1.5.0",
      "model_name": "ButtonModel",
      "state": {
       "description": "{ }",
       "layout": "IPY_MODEL_ddcc20997c4b48a0b1b7d57276a1a856",
       "style": "IPY_MODEL_6309890f11e740bc900715b68ff9b620"
      }
     },
     "205fe9f3700746868964a3d6bfa4bb2c": {
      "model_module": "@jupyter-widgets/controls",
      "model_module_version": "1.5.0",
      "model_name": "ButtonModel",
      "state": {
       "description": "} {",
       "layout": "IPY_MODEL_27f00ce8272b45e7973af5aaf0542519",
       "style": "IPY_MODEL_6d98ea55543845ddaea02829b0c4442f"
      }
     },
     "2070be512dca49efb18f7814f5b173e3": {
      "model_module": "@jupyter-widgets/controls",
      "model_module_version": "1.5.0",
      "model_name": "DescriptionStyleModel",
      "state": {
       "description_width": ""
      }
     },
     "207418eac3e64b31a61d51d70463d909": {
      "model_module": "@jupyter-widgets/controls",
      "model_module_version": "1.5.0",
      "model_name": "HBoxModel",
      "state": {
       "children": [
        "IPY_MODEL_9808875b4264461aa174b5e4be3d541a",
        "IPY_MODEL_e3f3ec153a774f04939555e976aeffc4"
       ],
       "layout": "IPY_MODEL_e3a251949c074de28b62c7761eb47a81"
      }
     },
     "208d131b32b74011b1aba2771e9f1f90": {
      "model_module": "@jupyter-widgets/controls",
      "model_module_version": "1.5.0",
      "model_name": "DescriptionStyleModel",
      "state": {
       "description_width": ""
      }
     },
     "20a4140dd8f24c239f01cb563db93d90": {
      "model_module": "@jupyter-widgets/controls",
      "model_module_version": "1.5.0",
      "model_name": "HTMLModel",
      "state": {
       "layout": "IPY_MODEL_9aacf84cfe1441bc9bf87304f48e520a",
       "style": "IPY_MODEL_856f6d5262cc484f948515709c703d1f",
       "value": "<h4 style=\"font-size:14px;\">Wo ist der Unterschied zwischen Chunks und Phrasen?</h4>"
      }
     },
     "20a53867a44f4ead899318caf2481849": {
      "model_module": "@jupyter-widgets/controls",
      "model_module_version": "1.5.0",
      "model_name": "VBoxModel",
      "state": {
       "children": [
        "IPY_MODEL_5944a492f09d4e289a691e2b6529e2cd",
        "IPY_MODEL_61200ed7d5fc4249bd696150aa8d8b61",
        "IPY_MODEL_27f75c20c68b418eb05af4d73ee8788a",
        "IPY_MODEL_32151ba3892041509ee493d563d2db91"
       ],
       "layout": "IPY_MODEL_41a04afa2c2946d19dc84718f118e0a9"
      }
     },
     "20c44dfc2dca4f1d83dd2afdb605aec6": {
      "model_module": "@jupyter-widgets/controls",
      "model_module_version": "1.5.0",
      "model_name": "CheckboxModel",
      "state": {
       "description": "Output einer Chunk-Regel (Chunk-Tag) als Input einer folgenden Regel (Hintereinanderschalten)",
       "disabled": false,
       "layout": "IPY_MODEL_c4373be75239452ab985a0f24c498da8",
       "style": "IPY_MODEL_e8242d3b1e4045c58d9e31c3d42bec56",
       "value": false
      }
     },
     "20da67d1409649ddbd77b4fa023d4986": {
      "model_module": "@jupyter-widgets/controls",
      "model_module_version": "1.5.0",
      "model_name": "DescriptionStyleModel",
      "state": {
       "description_width": ""
      }
     },
     "20e59f5b2a2e49879338e17d26480bd2": {
      "model_module": "@jupyter-widgets/controls",
      "model_module_version": "1.5.0",
      "model_name": "ButtonModel",
      "state": {
       "description": "{ }",
       "layout": "IPY_MODEL_42e8aed6fc6d4f91b650621a421ec98f",
       "style": "IPY_MODEL_3c0d89adf8f740f8832b33ec833a5d13"
      }
     },
     "2132087fe82a4e518cd588319d8ca3b5": {
      "model_module": "@jupyter-widgets/controls",
      "model_module_version": "1.5.0",
      "model_name": "VBoxModel",
      "state": {
       "children": [
        "IPY_MODEL_ba5a68d0131d44f9973f5c4063f0026a",
        "IPY_MODEL_7954eaf23ea44f1997aa894ec1d84f9b",
        "IPY_MODEL_8ba0bdf5d05443a593d7e60900588941"
       ],
       "layout": "IPY_MODEL_72f6f322d45a4e58ad6fd4dd3a743f3b"
      }
     },
     "21334cfd5ad44d4da2bb87054d9468a8": {
      "model_module": "@jupyter-widgets/base",
      "model_module_version": "1.2.0",
      "model_name": "LayoutModel",
      "state": {
       "width": "600px"
      }
     },
     "216c4291c79d4b3b88385a916b0613e8": {
      "model_module": "@jupyter-widgets/controls",
      "model_module_version": "1.5.0",
      "model_name": "DescriptionStyleModel",
      "state": {
       "description_width": "initial"
      }
     },
     "219067540d28448184624480fa808357": {
      "model_module": "@jupyter-widgets/base",
      "model_module_version": "1.2.0",
      "model_name": "LayoutModel",
      "state": {
       "justify_content": "center"
      }
     },
     "2195f6c8c2e04c978c65da1424b6fae6": {
      "model_module": "@jupyter-widgets/controls",
      "model_module_version": "1.5.0",
      "model_name": "ButtonStyleModel",
      "state": {}
     },
     "21ad1ea62c644f029620dabc4a6a1b59": {
      "model_module": "@jupyter-widgets/controls",
      "model_module_version": "1.5.0",
      "model_name": "ButtonStyleModel",
      "state": {}
     },
     "21be595ba1e349899e73491a8353375a": {
      "model_module": "@jupyter-widgets/controls",
      "model_module_version": "1.5.0",
      "model_name": "HTMLModel",
      "state": {
       "layout": "IPY_MODEL_adebf348457541099696d71013ffbfea",
       "style": "IPY_MODEL_a5bf77d6208d4e6c93fdf38c3f4d750c",
       "value": "<i>Wählen Sie die <ins>eine</ins> korrekte Antwort aus: </i>"
      }
     },
     "22055d1fab54494e8dea34ecbeb107b7": {
      "model_module": "@jupyter-widgets/base",
      "model_module_version": "1.2.0",
      "model_name": "LayoutModel",
      "state": {}
     },
     "2225ffe563ca40818cfdf447a5c47d1b": {
      "model_module": "@jupyter-widgets/controls",
      "model_module_version": "1.5.0",
      "model_name": "HTMLModel",
      "state": {
       "layout": "IPY_MODEL_f8b584e4f575434ebcb2915ec4a675fc",
       "style": "IPY_MODEL_17d9571e3db743e887e1d6052d543365",
       "value": "<i>Wählen Sie die <ins>eine</ins> korrekte Antwort aus: </i>"
      }
     },
     "2228e0a207e14c96b762d923d7f4b5d6": {
      "model_module": "@jupyter-widgets/controls",
      "model_module_version": "1.5.0",
      "model_name": "HBoxModel",
      "state": {
       "children": [
        "IPY_MODEL_39a9edcf83ce45e2bf620c3e1e8101ff",
        "IPY_MODEL_0d8b267a03144b9d99da5b6299af168c"
       ],
       "layout": "IPY_MODEL_aa2b4ace65b04e2cb0067ff055a0623a"
      }
     },
     "223e3d6f56dc4936a8f0a0c211eb4dcb": {
      "model_module": "@jupyter-widgets/controls",
      "model_module_version": "1.5.0",
      "model_name": "HTMLModel",
      "state": {
       "layout": "IPY_MODEL_76c921ec0ae8474cbf7ac201681a9829",
       "style": "IPY_MODEL_d1afa824963c416cbc1623b863568505",
       "value": "<i>Wählen Sie die <ins>eine</ins> korrekte Antwort aus: </i>"
      }
     },
     "2286efbea0644731903193d3ae120a15": {
      "model_module": "@jupyter-widgets/controls",
      "model_module_version": "1.5.0",
      "model_name": "ButtonStyleModel",
      "state": {}
     },
     "228ff2eb69494f2ba644c68f43cd20e5": {
      "model_module": "@jupyter-widgets/base",
      "model_module_version": "1.2.0",
      "model_name": "LayoutModel",
      "state": {
       "justify_content": "center"
      }
     },
     "22a8ab9fc0b4452cbca735a813344b43": {
      "model_module": "@jupyter-widgets/controls",
      "model_module_version": "1.5.0",
      "model_name": "ButtonModel",
      "state": {
       "description": "XML-Tags",
       "layout": "IPY_MODEL_39a1cd0d679a46b681530dddbfa2cb3e",
       "style": "IPY_MODEL_f028cf90d51b4c04aed4d800f063d50c"
      }
     },
     "22bd29fc52364bf98e52b09fcd500846": {
      "model_module": "@jupyter-widgets/base",
      "model_module_version": "1.2.0",
      "model_name": "LayoutModel",
      "state": {
       "width": "600px"
      }
     },
     "22f3b527fe7d42a49ec6177ea823c938": {
      "model_module": "@jupyter-widgets/base",
      "model_module_version": "1.2.0",
      "model_name": "LayoutModel",
      "state": {}
     },
     "231795ee8e2b474e8b8db9082f6f68d0": {
      "model_module": "@jupyter-widgets/base",
      "model_module_version": "1.2.0",
      "model_name": "LayoutModel",
      "state": {}
     },
     "2330efc73840499baed9c49fabaa6b54": {
      "model_module": "@jupyter-widgets/controls",
      "model_module_version": "1.5.0",
      "model_name": "DescriptionStyleModel",
      "state": {
       "description_width": ""
      }
     },
     "23a88804b83e43d795141f6343779c2d": {
      "model_module": "@jupyter-widgets/controls",
      "model_module_version": "1.5.0",
      "model_name": "DescriptionStyleModel",
      "state": {
       "description_width": "initial"
      }
     },
     "23c7e6cd4e7c4f74831848590cb69fbe": {
      "model_module": "@jupyter-widgets/base",
      "model_module_version": "1.2.0",
      "model_name": "LayoutModel",
      "state": {
       "justify_content": "center"
      }
     },
     "23e0277db1d949a69d7e4e463bcee4d1": {
      "model_module": "@jupyter-widgets/controls",
      "model_module_version": "1.5.0",
      "model_name": "ButtonStyleModel",
      "state": {}
     },
     "23e18c74973242c4952ac52bfe793274": {
      "model_module": "@jupyter-widgets/base",
      "model_module_version": "1.2.0",
      "model_name": "LayoutModel",
      "state": {
       "justify_content": "center"
      }
     },
     "2415850bcb824a71a43fc1631c6dad23": {
      "model_module": "@jupyter-widgets/controls",
      "model_module_version": "1.5.0",
      "model_name": "ButtonStyleModel",
      "state": {}
     },
     "241c63d04ce2458598f7e5968aa4afef": {
      "model_module": "@jupyter-widgets/controls",
      "model_module_version": "1.5.0",
      "model_name": "ButtonStyleModel",
      "state": {}
     },
     "241fb3850cf5477c80e96bf4b049d914": {
      "model_module": "@jupyter-widgets/controls",
      "model_module_version": "1.5.0",
      "model_name": "ButtonStyleModel",
      "state": {}
     },
     "242178b5b6d5423a9fb58286279c446d": {
      "model_module": "@jupyter-widgets/base",
      "model_module_version": "1.2.0",
      "model_name": "LayoutModel",
      "state": {
       "width": "250px"
      }
     },
     "243e6442affd4e5caedd728a5ea2d757": {
      "model_module": "@jupyter-widgets/controls",
      "model_module_version": "1.5.0",
      "model_name": "HTMLModel",
      "state": {
       "layout": "IPY_MODEL_c42ccb946f0642619ec0b39ea340dc00",
       "style": "IPY_MODEL_60b4b4bb59c64b1a9a87d18126a04f07",
       "value": "<h4 style=\"font-size:14px;\">Wodurch kann mit einem RegexpParser eine hierarchische Chunk-Struktur aufgebaut werden (ähnlicher den hierarchischen Analysen mit einer Phrasenstrukturgrammatik)?</h4>"
      }
     },
     "245f6bb91690437db9efef3a68d96bf1": {
      "model_module": "@jupyter-widgets/base",
      "model_module_version": "1.2.0",
      "model_name": "LayoutModel",
      "state": {}
     },
     "2460b660c0e941189a2740851aa36afe": {
      "model_module": "@jupyter-widgets/controls",
      "model_module_version": "1.5.0",
      "model_name": "ButtonStyleModel",
      "state": {}
     },
     "246abd50e0b040d4975f5fe34de961ed": {
      "model_module": "@jupyter-widgets/controls",
      "model_module_version": "1.5.0",
      "model_name": "ButtonModel",
      "state": {
       "description": "{ }",
       "layout": "IPY_MODEL_b580ade0ad3244839c8c79769bed170a",
       "style": "IPY_MODEL_ba23de4accfb41ccbbb31067d52006c5"
      }
     },
     "247ca184fb074f61a0a933445bd78006": {
      "model_module": "@jupyter-widgets/controls",
      "model_module_version": "1.5.0",
      "model_name": "ButtonModel",
      "state": {
       "description": "regulär",
       "layout": "IPY_MODEL_47be1bb4d9a44ff6aa7b18653819b8cd",
       "style": "IPY_MODEL_99ace96bf589439398a6bed023330f27"
      }
     },
     "24bb40604a2c4ca1863bde4aad62b85e": {
      "model_module": "@jupyter-widgets/base",
      "model_module_version": "1.2.0",
      "model_name": "LayoutModel",
      "state": {
       "width": "250px"
      }
     },
     "24bef5e657dd4aeca8e82e45c54ed27d": {
      "model_module": "@jupyter-widgets/controls",
      "model_module_version": "1.5.0",
      "model_name": "DescriptionStyleModel",
      "state": {
       "description_width": ""
      }
     },
     "24dc669a5aea4d6c8d351ee579085880": {
      "model_module": "@jupyter-widgets/controls",
      "model_module_version": "1.5.0",
      "model_name": "VBoxModel",
      "state": {
       "children": [
        "IPY_MODEL_ddb029d7b42f484b93adea6a86426858",
        "IPY_MODEL_851d4f3f84654ad99bfaaa74c3a5e0ae",
        "IPY_MODEL_65eb9914e83d44c6a3ac1e9daf6e0b07"
       ],
       "layout": "IPY_MODEL_889ba01d40b94b4596d2f23fbc9f9bed"
      }
     },
     "24e065040e1f43d6af993e4cdfd978b8": {
      "model_module": "@jupyter-widgets/controls",
      "model_module_version": "1.5.0",
      "model_name": "ButtonStyleModel",
      "state": {}
     },
     "24e6aa002fa447f998c86dc4b3515541": {
      "model_module": "@jupyter-widgets/base",
      "model_module_version": "1.2.0",
      "model_name": "LayoutModel",
      "state": {
       "width": "250px"
      }
     },
     "24ed12664fa04c3cb3469dfd2245cc2c": {
      "model_module": "@jupyter-widgets/controls",
      "model_module_version": "1.5.0",
      "model_name": "DescriptionStyleModel",
      "state": {
       "description_width": ""
      }
     },
     "24ff7ccba41149cba55126d39861f661": {
      "model_module": "@jupyter-widgets/base",
      "model_module_version": "1.2.0",
      "model_name": "LayoutModel",
      "state": {}
     },
     "250c141c9a57489f9380ec230a253d21": {
      "model_module": "@jupyter-widgets/controls",
      "model_module_version": "1.5.0",
      "model_name": "HTMLModel",
      "state": {
       "layout": "IPY_MODEL_94e805b8cd7b4a88a9d1c7b3b1b80f62",
       "style": "IPY_MODEL_5cb3783ebf694d2783b0c48f2cac0600",
       "value": "<i>Wählen Sie die <ins>eine</ins> korrekte Antwort aus: </i>"
      }
     },
     "251edb046c9b412c9b7b9efd27bf7801": {
      "model_module": "@jupyter-widgets/base",
      "model_module_version": "1.2.0",
      "model_name": "LayoutModel",
      "state": {
       "width": "250px"
      }
     },
     "253b59ca13b84911bc1fe140d0d9bbbc": {
      "model_module": "@jupyter-widgets/base",
      "model_module_version": "1.2.0",
      "model_name": "LayoutModel",
      "state": {}
     },
     "2566a8b2495d4369a95892b3380dd305": {
      "model_module": "@jupyter-widgets/controls",
      "model_module_version": "1.5.0",
      "model_name": "CheckboxModel",
      "state": {
       "description": "F1 = (Precision * Recall + 1) / (Precision + Recall)",
       "disabled": false,
       "layout": "IPY_MODEL_6accf42b6b314ce1b3c0603c4ce4ba1e",
       "style": "IPY_MODEL_1ab5ff8f43f24ddc841f832401d60fad",
       "value": false
      }
     },
     "25b4aa0e81724731a157ab8234374caf": {
      "model_module": "@jupyter-widgets/controls",
      "model_module_version": "1.5.0",
      "model_name": "HBoxModel",
      "state": {
       "children": [
        "IPY_MODEL_1c43676dbea947efa88d6ce677e58048",
        "IPY_MODEL_7440fa4efcac4c31880aa5b04534aa72"
       ],
       "layout": "IPY_MODEL_231795ee8e2b474e8b8db9082f6f68d0"
      }
     },
     "25ba6a08db58406bb0f41ec17a3cc204": {
      "model_module": "@jupyter-widgets/base",
      "model_module_version": "1.2.0",
      "model_name": "LayoutModel",
      "state": {
       "width": "600px"
      }
     },
     "25d375daa86148d6982f837b1e73f3a2": {
      "model_module": "@jupyter-widgets/base",
      "model_module_version": "1.2.0",
      "model_name": "LayoutModel",
      "state": {}
     },
     "25ff54ea8832455283fcfba76bfcfa0e": {
      "model_module": "@jupyter-widgets/controls",
      "model_module_version": "1.5.0",
      "model_name": "HTMLModel",
      "state": {
       "layout": "IPY_MODEL_30e3ef190d774a0bae4ed69ffaf78d5c",
       "style": "IPY_MODEL_9f0a4e0c25f7429ba2756881cb66f47e",
       "value": "<h4 style=\"font-size:14px;\">Wozu sind Tag Pattern ähnlich?</h4>"
      }
     },
     "260d70e9db364ec4824e8faf5d9c27ad": {
      "model_module": "@jupyter-widgets/controls",
      "model_module_version": "1.5.0",
      "model_name": "DescriptionStyleModel",
      "state": {
       "description_width": "initial"
      }
     },
     "2620470512fa4d8db05d096197e5a9e1": {
      "model_module": "@jupyter-widgets/controls",
      "model_module_version": "1.5.0",
      "model_name": "DescriptionStyleModel",
      "state": {
       "description_width": ""
      }
     },
     "2624150e6b8b455f9fbbf123a88ed1c5": {
      "model_module": "@jupyter-widgets/controls",
      "model_module_version": "1.5.0",
      "model_name": "HTMLModel",
      "state": {
       "layout": "IPY_MODEL_9f5c86427b3b4d36b0eaf6452905ba4c",
       "style": "IPY_MODEL_de70121ec48d42e887b24c6e529bda62",
       "value": "<i>Wählen Sie die <ins>eine</ins> korrekte Antwort aus: </i>"
      }
     },
     "2625e9de7a8a4a33b7948ca209fefdd8": {
      "model_module": "@jupyter-widgets/controls",
      "model_module_version": "1.5.0",
      "model_name": "CheckboxModel",
      "state": {
       "description": "Precision = true positives / true negatives",
       "disabled": false,
       "layout": "IPY_MODEL_1eef3f620eaa46eba8e77d0fad5764da",
       "style": "IPY_MODEL_0bb50dd20fa04ffe844a99f81bcb966a",
       "value": false
      }
     },
     "264256f5aadb43e4aef4a0ddd821c401": {
      "model_module": "@jupyter-widgets/controls",
      "model_module_version": "1.5.0",
      "model_name": "ButtonStyleModel",
      "state": {}
     },
     "2674538e7740479698ce01d6098c7f67": {
      "model_module": "@jupyter-widgets/controls",
      "model_module_version": "1.5.0",
      "model_name": "CheckboxModel",
      "state": {
       "description": "Output einer Chunk-Regel (Chunk-Tag) als Input einer folgenden Regel (Hintereinanderschalten)",
       "disabled": false,
       "layout": "IPY_MODEL_cc1001365c1b4e089f8a1b0513ffac39",
       "style": "IPY_MODEL_378b696e9488488d85bec0cfad9126ed",
       "value": false
      }
     },
     "26771a08d56a4fafa6444573bb23a4f7": {
      "model_module": "@jupyter-widgets/base",
      "model_module_version": "1.2.0",
      "model_name": "LayoutModel",
      "state": {
       "justify_content": "center"
      }
     },
     "2684efc5e466440e8b19a9fab62500e3": {
      "model_module": "@jupyter-widgets/base",
      "model_module_version": "1.2.0",
      "model_name": "LayoutModel",
      "state": {
       "width": "250px"
      }
     },
     "2687027200de423793b44786ced85e3f": {
      "model_module": "@jupyter-widgets/base",
      "model_module_version": "1.2.0",
      "model_name": "LayoutModel",
      "state": {}
     },
     "268d1f72a3fa4089b9e541ac54c9fc9e": {
      "model_module": "@jupyter-widgets/controls",
      "model_module_version": "1.5.0",
      "model_name": "ButtonModel",
      "state": {
       "description": "rekursive Aufzählbarkeit",
       "layout": "IPY_MODEL_cd2c681d52894f5dae90aa2181f2bf54",
       "style": "IPY_MODEL_b6cb5ded03f7430aa9bc0732aa6853bd"
      }
     },
     "26cfa0f83dc94ced9ec2c28445797552": {
      "model_module": "@jupyter-widgets/controls",
      "model_module_version": "1.5.0",
      "model_name": "ButtonModel",
      "state": {
       "description": "Nein",
       "layout": "IPY_MODEL_8402af2ef55641f595208c5c5ba0bf55",
       "style": "IPY_MODEL_27d70b063f044f7e884030c68be3a986"
      }
     },
     "26d56145fe0c4a4dbfe873c35b02199e": {
      "model_module": "@jupyter-widgets/base",
      "model_module_version": "1.2.0",
      "model_name": "LayoutModel",
      "state": {}
     },
     "26e44295e1a748099ed18c78e1b20dc3": {
      "model_module": "@jupyter-widgets/controls",
      "model_module_version": "1.5.0",
      "model_name": "ButtonStyleModel",
      "state": {}
     },
     "26eac42c410f4019912edab7095ed476": {
      "model_module": "@jupyter-widgets/base",
      "model_module_version": "1.2.0",
      "model_name": "LayoutModel",
      "state": {
       "width": "250px"
      }
     },
     "2701d0c0d08a4e0c9d72348316aa93fb": {
      "model_module": "@jupyter-widgets/controls",
      "model_module_version": "1.5.0",
      "model_name": "CheckboxModel",
      "state": {
       "description": "Verwendung von Splitting-Regeln",
       "disabled": false,
       "layout": "IPY_MODEL_0be8dd04104640b09fbc832414bab102",
       "style": "IPY_MODEL_40afa9922efa43568fd02220e606cbbd",
       "value": false
      }
     },
     "273a3c8bd9974d96a242f64def805e42": {
      "model_module": "@jupyter-widgets/controls",
      "model_module_version": "1.5.0",
      "model_name": "VBoxModel",
      "state": {
       "children": [
        "IPY_MODEL_6975d7bdf2b6459d9ccacce6c08f2589",
        "IPY_MODEL_4641456691bf4878a1e433d46d5d4ec2",
        "IPY_MODEL_e983b70080164587bd8af91eb13134f4",
        "IPY_MODEL_a1ae9729b60545ca8f5faa3dbe7463ca"
       ],
       "layout": "IPY_MODEL_0b221651afe34470bd32298a61ca7b0a"
      }
     },
     "2762fcc6c1fc49d0801a823d5a6365e1": {
      "model_module": "@jupyter-widgets/controls",
      "model_module_version": "1.5.0",
      "model_name": "HTMLModel",
      "state": {
       "layout": "IPY_MODEL_0c28a24cd7ad4929adf9fa269b308422",
       "style": "IPY_MODEL_8f21ffe915124e478aceae0e10d20d5c",
       "value": "<i>Wählen Sie die <ins>eine</ins> korrekte Antwort aus: </i>"
      }
     },
     "2771a2fe3b5b4025ac79521c7e7ce7e0": {
      "model_module": "@jupyter-widgets/base",
      "model_module_version": "1.2.0",
      "model_name": "LayoutModel",
      "state": {
       "width": "600px"
      }
     },
     "27852f3f84064436ade2937ddc90f532": {
      "model_module": "@jupyter-widgets/controls",
      "model_module_version": "1.5.0",
      "model_name": "CheckboxModel",
      "state": {
       "description": "Verwendung von Chinking-Regeln",
       "disabled": false,
       "layout": "IPY_MODEL_3cef4d1631b840ec82ecd33b59fb5e72",
       "style": "IPY_MODEL_4d8d32b3458b45f291a2726aa4246785",
       "value": false
      }
     },
     "278d56ef6b7a4ee2ade25c8ee7afbad2": {
      "model_module": "@jupyter-widgets/controls",
      "model_module_version": "1.5.0",
      "model_name": "DescriptionStyleModel",
      "state": {
       "description_width": ""
      }
     },
     "27a58f78b30e40709f7cb0be86689e20": {
      "model_module": "@jupyter-widgets/controls",
      "model_module_version": "1.5.0",
      "model_name": "CheckboxModel",
      "state": {
       "description": "Precision = von allen Instanzen, für die 1 vorhergesagt wurde, wie viele wurden richtig vorhergesagt?",
       "disabled": false,
       "layout": "IPY_MODEL_402c436c08ae4b9da88a27adb6d04766",
       "style": "IPY_MODEL_0905df7c70464492aa59429acee2e705",
       "value": true
      }
     },
     "27d5f873f98647989ffad7906a09f40a": {
      "model_module": "@jupyter-widgets/controls",
      "model_module_version": "1.5.0",
      "model_name": "ButtonModel",
      "state": {
       "description": "Nein",
       "layout": "IPY_MODEL_dc55e5a1b3fd48a4b0681504454d3692",
       "style": "IPY_MODEL_584698529ef04ffe9ce293921011fc07"
      }
     },
     "27d70b063f044f7e884030c68be3a986": {
      "model_module": "@jupyter-widgets/controls",
      "model_module_version": "1.5.0",
      "model_name": "ButtonStyleModel",
      "state": {
       "button_color": "lightgreen"
      }
     },
     "27e3f0fc3f034cfb878162d1bad458e3": {
      "model_module": "@jupyter-widgets/base",
      "model_module_version": "1.2.0",
      "model_name": "LayoutModel",
      "state": {
       "width": "250px"
      }
     },
     "27ec387529f54e40a96181418c285d76": {
      "model_module": "@jupyter-widgets/controls",
      "model_module_version": "1.5.0",
      "model_name": "HTMLModel",
      "state": {
       "layout": "IPY_MODEL_e0cdd4e2ee044a5f912f6d597dd620a6",
       "style": "IPY_MODEL_f09d8c990a61481786dbdbf3d6ba2ec8",
       "value": "<i>Wählen Sie die <ins>eine</ins> korrekte Antwort aus: </i>"
      }
     },
     "27ee66e9ff684188a31a8a18de675f47": {
      "model_module": "@jupyter-widgets/base",
      "model_module_version": "1.2.0",
      "model_name": "LayoutModel",
      "state": {
       "width": "250px"
      }
     },
     "27f00ce8272b45e7973af5aaf0542519": {
      "model_module": "@jupyter-widgets/base",
      "model_module_version": "1.2.0",
      "model_name": "LayoutModel",
      "state": {
       "width": "250px"
      }
     },
     "27f1b722994a41a69b70f61efc80d338": {
      "model_module": "@jupyter-widgets/controls",
      "model_module_version": "1.5.0",
      "model_name": "ButtonStyleModel",
      "state": {}
     },
     "27f75c20c68b418eb05af4d73ee8788a": {
      "model_module": "@jupyter-widgets/controls",
      "model_module_version": "1.5.0",
      "model_name": "VBoxModel",
      "state": {
       "children": [
        "IPY_MODEL_32b1a8a687cd41c6b52f2dd384da17c8",
        "IPY_MODEL_39137b067f544d57823ef96783a53cce",
        "IPY_MODEL_7f442aa651ed478580b8302ff08d5dd3"
       ],
       "layout": "IPY_MODEL_7154739a7ed6476e9ecdc0c745cc890a"
      }
     },
     "27fb576679b0452e9ab5cf98602a3992": {
      "model_module": "@jupyter-widgets/controls",
      "model_module_version": "1.5.0",
      "model_name": "HTMLModel",
      "state": {
       "layout": "IPY_MODEL_382047d6eea748898ce8272f9bd9a326",
       "style": "IPY_MODEL_f8a0e133e55c4fc8aad778486ead3cbd",
       "value": "<h4 style=\"font-size:14px;\">Wo ist der Unterschied zwischen Chunks und Phrasen?</h4>"
      }
     },
     "2839395bcb80452abdd2674383ebb541": {
      "model_module": "@jupyter-widgets/controls",
      "model_module_version": "1.5.0",
      "model_name": "DescriptionStyleModel",
      "state": {
       "description_width": "initial"
      }
     },
     "284011926f874c83a12ea4c449998843": {
      "model_module": "@jupyter-widgets/controls",
      "model_module_version": "1.5.0",
      "model_name": "DescriptionStyleModel",
      "state": {
       "description_width": ""
      }
     },
     "2845959761fa4c29ad1941bdf2c14949": {
      "model_module": "@jupyter-widgets/base",
      "model_module_version": "1.2.0",
      "model_name": "LayoutModel",
      "state": {
       "width": "250px"
      }
     },
     "284d8390895348ce92061d80af5f44d7": {
      "model_module": "@jupyter-widgets/controls",
      "model_module_version": "1.5.0",
      "model_name": "ButtonModel",
      "state": {
       "description": "Nein",
       "layout": "IPY_MODEL_bc95e114c7394b6e9e63c8f328ec4d80",
       "style": "IPY_MODEL_21ad1ea62c644f029620dabc4a6a1b59"
      }
     },
     "286696b464df46298694fafd48bef09c": {
      "model_module": "@jupyter-widgets/controls",
      "model_module_version": "1.5.0",
      "model_name": "VBoxModel",
      "state": {
       "children": [
        "IPY_MODEL_96adc4cdd9e645308162bd2ae6ef505b",
        "IPY_MODEL_20c44dfc2dca4f1d83dd2afdb605aec6",
        "IPY_MODEL_8f76df276fe341d2b719073692b06e6e",
        "IPY_MODEL_edb7b89da40e46f9882b46177337c3a1"
       ],
       "layout": "IPY_MODEL_ec5b5fd24781443aae37f0b4ed3731cb"
      }
     },
     "28c7d7bfd8814b3e9022822109154f89": {
      "model_module": "@jupyter-widgets/base",
      "model_module_version": "1.2.0",
      "model_name": "LayoutModel",
      "state": {
       "width": "250px"
      }
     },
     "28db348e6f804b439de80bb56bcc4488": {
      "model_module": "@jupyter-widgets/base",
      "model_module_version": "1.2.0",
      "model_name": "LayoutModel",
      "state": {
       "width": "600px"
      }
     },
     "28e78bbfef7e4ab382d2e47bf01998dd": {
      "model_module": "@jupyter-widgets/controls",
      "model_module_version": "1.5.0",
      "model_name": "ButtonModel",
      "state": {
       "description": "kontextfrei",
       "layout": "IPY_MODEL_4568ba5454b64d689258cb24dc15ba9a",
       "style": "IPY_MODEL_c3f561546aa948dfaf4e4f95eb8b7210"
      }
     },
     "28e92fd832e14e7d96001516bfe3a97f": {
      "model_module": "@jupyter-widgets/controls",
      "model_module_version": "1.5.0",
      "model_name": "HTMLModel",
      "state": {
       "layout": "IPY_MODEL_113bd9c6d8da4a04a642f0775faf49ec",
       "style": "IPY_MODEL_b8fbad70e7814bfaa25e14ef5d836911",
       "value": "<i>Wählen Sie die <ins>eine</ins> korrekte Antwort aus: </i>"
      }
     },
     "28ee0859e42f4bab93c895b68362b848": {
      "model_module": "@jupyter-widgets/base",
      "model_module_version": "1.2.0",
      "model_name": "LayoutModel",
      "state": {}
     },
     "2900afa614ee4167928a26e74031bfe4": {
      "model_module": "@jupyter-widgets/base",
      "model_module_version": "1.2.0",
      "model_name": "LayoutModel",
      "state": {
       "justify_content": "center"
      }
     },
     "2908addd12ad43c1946a00edacaab79b": {
      "model_module": "@jupyter-widgets/controls",
      "model_module_version": "1.5.0",
      "model_name": "CheckboxModel",
      "state": {
       "description": "Precision = richtig bestimmte tp / tp des Referenz-Korpus",
       "disabled": false,
       "layout": "IPY_MODEL_a252d4e4376c448ea3e07a019a9a47a6",
       "style": "IPY_MODEL_dae768f34938441b8ab84bd3b264e62c",
       "value": false
      }
     },
     "292dfae01cdb40c1aa8829945332c33a": {
      "model_module": "@jupyter-widgets/controls",
      "model_module_version": "1.5.0",
      "model_name": "DescriptionStyleModel",
      "state": {
       "description_width": "initial"
      }
     },
     "2930f555927c48eb87c209436af67024": {
      "model_module": "@jupyter-widgets/base",
      "model_module_version": "1.2.0",
      "model_name": "LayoutModel",
      "state": {
       "width": "250px"
      }
     },
     "294056b48ef04500b71a2b6d9577a993": {
      "model_module": "@jupyter-widgets/controls",
      "model_module_version": "1.5.0",
      "model_name": "DescriptionStyleModel",
      "state": {
       "description_width": "initial"
      }
     },
     "295077fde20d44d1a4682d6028d87a81": {
      "model_module": "@jupyter-widgets/base",
      "model_module_version": "1.2.0",
      "model_name": "LayoutModel",
      "state": {}
     },
     "299db5ef48ab4af9ba61ef969ae41a26": {
      "model_module": "@jupyter-widgets/controls",
      "model_module_version": "1.5.0",
      "model_name": "HTMLModel",
      "state": {
       "layout": "IPY_MODEL_a493467c8d104efea7269ce00dc6e1f5",
       "style": "IPY_MODEL_d18587157596477eabc6deb537b31c94",
       "value": "<h4 style=\"font-size:14px;\">Wo ist der Unterschied zwischen Chunks und Phrasen?</h4>"
      }
     },
     "29a57a14c1134498b12c2938ec94c465": {
      "model_module": "@jupyter-widgets/controls",
      "model_module_version": "1.5.0",
      "model_name": "ButtonModel",
      "state": {
       "description": "rekursiv aufzählbar",
       "layout": "IPY_MODEL_729a2c526b964a85b3388931ddd9b161",
       "style": "IPY_MODEL_ad474c76b86742899f2538d97497cc0e"
      }
     },
     "29a6f5496c3043048a2ce018f309b197": {
      "model_module": "@jupyter-widgets/base",
      "model_module_version": "1.2.0",
      "model_name": "LayoutModel",
      "state": {}
     },
     "29b283bcace641eb9e58e62316fc9f65": {
      "model_module": "@jupyter-widgets/controls",
      "model_module_version": "1.5.0",
      "model_name": "CheckboxModel",
      "state": {
       "description": "Es gibt keinen Unterschied.",
       "disabled": false,
       "layout": "IPY_MODEL_98494e490f7d4d918b4f06adca43328d",
       "style": "IPY_MODEL_4fff4857b09e4dfba407d22b063b52e4",
       "value": false
      }
     },
     "29beacd91e384f22ae8eeb8c6823b6b7": {
      "model_module": "@jupyter-widgets/controls",
      "model_module_version": "1.5.0",
      "model_name": "HTMLModel",
      "state": {
       "layout": "IPY_MODEL_9f3077f504ff4e4fb8a3df89ed3fbbe9",
       "style": "IPY_MODEL_4523ec29f58740ccb4e13085f70d5818",
       "value": "<i>Wählen Sie die <ins>eine</ins> korrekte Antwort aus: </i>"
      }
     },
     "29fda516ad4f452fa2b510ab04d45b45": {
      "model_module": "@jupyter-widgets/controls",
      "model_module_version": "1.5.0",
      "model_name": "HTMLModel",
      "state": {
       "layout": "IPY_MODEL_488d7fea36cd400681f151b07df04303",
       "style": "IPY_MODEL_7ff00a80a8914d5a8b4619b11f3b2bbe",
       "value": "<i>Wählen Sie die <ins>eine</ins> korrekte Antwort aus: </i>"
      }
     },
     "2a34a69dad0540f8b3f695aa7171383f": {
      "model_module": "@jupyter-widgets/controls",
      "model_module_version": "1.5.0",
      "model_name": "ButtonStyleModel",
      "state": {
       "button_color": "lightgreen"
      }
     },
     "2a3826a4748e4ad0be08034d984bc914": {
      "model_module": "@jupyter-widgets/controls",
      "model_module_version": "1.5.0",
      "model_name": "CheckboxModel",
      "state": {
       "description": "Output einer Chunk-Regel (Chunk-Tag) als Input einer folgenden Regel (Hintereinanderschalten)",
       "disabled": false,
       "layout": "IPY_MODEL_4c1ae2a8a6be43cf9e7e03f6ddf0bcdc",
       "style": "IPY_MODEL_cc6deb280f134c3d93837ffac3032194",
       "value": false
      }
     },
     "2a4e0f8bcaf045ae96c5791761c0c62a": {
      "model_module": "@jupyter-widgets/controls",
      "model_module_version": "1.5.0",
      "model_name": "ButtonStyleModel",
      "state": {}
     },
     "2a810ac94e67462096b6255367d9eb92": {
      "model_module": "@jupyter-widgets/base",
      "model_module_version": "1.2.0",
      "model_name": "LayoutModel",
      "state": {
       "width": "600px"
      }
     },
     "2a8e1b3146ec484aaf4e755b9b3b54e7": {
      "model_module": "@jupyter-widgets/base",
      "model_module_version": "1.2.0",
      "model_name": "LayoutModel",
      "state": {
       "width": "250px"
      }
     },
     "2ab4acf073254b8a9855c4598bd281b2": {
      "model_module": "@jupyter-widgets/base",
      "model_module_version": "1.2.0",
      "model_name": "LayoutModel",
      "state": {
       "justify_content": "center"
      }
     },
     "2add4de2439e45a99c455390a42e80f7": {
      "model_module": "@jupyter-widgets/controls",
      "model_module_version": "1.5.0",
      "model_name": "ButtonStyleModel",
      "state": {}
     },
     "2ae20aecb0134031a1b9c6410a6c3a22": {
      "model_module": "@jupyter-widgets/controls",
      "model_module_version": "1.5.0",
      "model_name": "ButtonModel",
      "state": {
       "description": "cross-serial dependencies",
       "layout": "IPY_MODEL_f61b962517e147eaa9d2cbaad6d3046d",
       "style": "IPY_MODEL_8ca425cc420c4044a3636c4065d3f7c7"
      }
     },
     "2aeacfcae3d240b290968f8c57c32faa": {
      "model_module": "@jupyter-widgets/controls",
      "model_module_version": "1.5.0",
      "model_name": "ButtonStyleModel",
      "state": {}
     },
     "2b08a1af410f4013b86989ad98f8b922": {
      "model_module": "@jupyter-widgets/controls",
      "model_module_version": "1.5.0",
      "model_name": "DescriptionStyleModel",
      "state": {
       "description_width": "initial"
      }
     },
     "2b0b0a8befe14a7486b3e67a290c277f": {
      "model_module": "@jupyter-widgets/controls",
      "model_module_version": "1.5.0",
      "model_name": "ButtonModel",
      "state": {
       "description": "Ja",
       "layout": "IPY_MODEL_1565cfbfadd34e90aa42cc128e14ce29",
       "style": "IPY_MODEL_9b5113534d59452da1cd18288ef6367d"
      }
     },
     "2b0d3d0e538b44fea61517906dbfdd62": {
      "model_module": "@jupyter-widgets/controls",
      "model_module_version": "1.5.0",
      "model_name": "VBoxModel",
      "state": {
       "children": [
        "IPY_MODEL_f84dbb5bc33a4c998594dc78ef26522a",
        "IPY_MODEL_3cc89efa6b5f497c940aad896e239132",
        "IPY_MODEL_2f816cf02490481cae103d050e26f919",
        "IPY_MODEL_045aff239c4a49599003b651e248b35f"
       ],
       "layout": "IPY_MODEL_8fda42933a5f4260ae4569331234a6a7"
      }
     },
     "2b65022f375940f89e33393286c0cab4": {
      "model_module": "@jupyter-widgets/base",
      "model_module_version": "1.2.0",
      "model_name": "LayoutModel",
      "state": {
       "width": "250px"
      }
     },
     "2b90b663f58c45c1a27dc8b0b9ea20c1": {
      "model_module": "@jupyter-widgets/controls",
      "model_module_version": "1.5.0",
      "model_name": "ButtonModel",
      "state": {
       "description": "{ }",
       "layout": "IPY_MODEL_bcb22068fa794191a8f9dd840f83c65b",
       "style": "IPY_MODEL_ab7d4c2cb70a4180a63ef3319e7baf2e"
      }
     },
     "2be09aad65b7454d86247ed305c0d83d": {
      "model_module": "@jupyter-widgets/base",
      "model_module_version": "1.2.0",
      "model_name": "LayoutModel",
      "state": {
       "width": "600px"
      }
     },
     "2be1b7fef6a1445cbe517d8bb24220e1": {
      "model_module": "@jupyter-widgets/base",
      "model_module_version": "1.2.0",
      "model_name": "LayoutModel",
      "state": {
       "width": "250px"
      }
     },
     "2be8d6dcd4d54fb9a3c14fd0974a23c4": {
      "model_module": "@jupyter-widgets/controls",
      "model_module_version": "1.5.0",
      "model_name": "VBoxModel",
      "state": {
       "children": [
        "IPY_MODEL_4e5f83a5de6e47a288f22340f96aa918",
        "IPY_MODEL_32d79ce4ec3041fe85cb640b41b98fa3",
        "IPY_MODEL_9ad71d404b974a079fabef2d7f7aef0e",
        "IPY_MODEL_106d838151b7469b883303e49e88f8d6"
       ],
       "layout": "IPY_MODEL_3ad6c44a5bcf468cb68eaf495875fb77"
      }
     },
     "2be917c7e67f4eb08db4bac989215fbd": {
      "model_module": "@jupyter-widgets/controls",
      "model_module_version": "1.5.0",
      "model_name": "CheckboxModel",
      "state": {
       "description": "Accuracy = true positives / Anzahl aller Vorhersagen",
       "disabled": false,
       "layout": "IPY_MODEL_7f2d7f7180b04cbeab41e8bfb542b932",
       "style": "IPY_MODEL_db7679f8480645ea85f433acc0c0854b",
       "value": false
      }
     },
     "2bf055a14df64c9287df24242907e788": {
      "model_module": "@jupyter-widgets/controls",
      "model_module_version": "1.5.0",
      "model_name": "DropdownModel",
      "state": {
       "_options_labels": [
        "1",
        "2",
        "3",
        "4",
        "Keine der Alternativen"
       ],
       "description": "Antwort:",
       "index": 0,
       "layout": "IPY_MODEL_e528e85170d347bd917bba4a76d8de7c",
       "style": "IPY_MODEL_b5bc605c32e74006b3e96034e292570f"
      }
     },
     "2bfd7f27b6344ec0bc5be133495cc4a3": {
      "model_module": "@jupyter-widgets/base",
      "model_module_version": "1.2.0",
      "model_name": "LayoutModel",
      "state": {
       "justify_content": "center"
      }
     },
     "2c21b60cf9814b378a0374ad50149789": {
      "model_module": "@jupyter-widgets/controls",
      "model_module_version": "1.5.0",
      "model_name": "CheckboxModel",
      "state": {
       "description": "Accuracy = richtige Vorhersagen / alle Vorhersagen",
       "disabled": false,
       "layout": "IPY_MODEL_a5d63ca506f74d9c8a408c81bef1da46",
       "style": "IPY_MODEL_b187592c3eab41cb90442229cd544598",
       "value": true
      }
     },
     "2c225abdfe354008a6ea0f7411cf7061": {
      "model_module": "@jupyter-widgets/base",
      "model_module_version": "1.2.0",
      "model_name": "LayoutModel",
      "state": {
       "justify_content": "center"
      }
     },
     "2c2f830165f946ee9d3a22974768726b": {
      "model_module": "@jupyter-widgets/base",
      "model_module_version": "1.2.0",
      "model_name": "LayoutModel",
      "state": {}
     },
     "2c5d1e79ce5442d99e40c5c27ceab08e": {
      "model_module": "@jupyter-widgets/base",
      "model_module_version": "1.2.0",
      "model_name": "LayoutModel",
      "state": {
       "justify_content": "center"
      }
     },
     "2ca4f628bc0645dcbb7e7ff925a1c358": {
      "model_module": "@jupyter-widgets/base",
      "model_module_version": "1.2.0",
      "model_name": "LayoutModel",
      "state": {
       "width": "600px"
      }
     },
     "2d2044ed17da4e5c8713be7b926dce64": {
      "model_module": "@jupyter-widgets/base",
      "model_module_version": "1.2.0",
      "model_name": "LayoutModel",
      "state": {
       "width": "250px"
      }
     },
     "2d37ac7f5e0b4a968c26ed34818060e2": {
      "model_module": "@jupyter-widgets/controls",
      "model_module_version": "1.5.0",
      "model_name": "ButtonStyleModel",
      "state": {}
     },
     "2d49431beb6b426fabb108b788c918e7": {
      "model_module": "@jupyter-widgets/controls",
      "model_module_version": "1.5.0",
      "model_name": "ButtonStyleModel",
      "state": {}
     },
     "2d94a78b91da4e0dab2eb511aab5b520": {
      "model_module": "@jupyter-widgets/controls",
      "model_module_version": "1.5.0",
      "model_name": "ButtonStyleModel",
      "state": {}
     },
     "2dab074f7dbb466baf44d2ced0cb22da": {
      "model_module": "@jupyter-widgets/base",
      "model_module_version": "1.2.0",
      "model_name": "LayoutModel",
      "state": {}
     },
     "2dc3172490dd49688f46a3336f4721b6": {
      "model_module": "@jupyter-widgets/controls",
      "model_module_version": "1.5.0",
      "model_name": "HTMLModel",
      "state": {
       "layout": "IPY_MODEL_83032a8556f74474b0c3652aa2070315",
       "style": "IPY_MODEL_c6e65ad4f8c64e1a81a97dabdb7a7bd3",
       "value": "<h4 style=\"font-size:14px;\">Welche der Formeln berechnen Precision, Recall, Accuracy und F1-Score korrekt?</h4>"
      }
     },
     "2dda8b8bcf104d84b875fa443c73abf2": {
      "model_module": "@jupyter-widgets/controls",
      "model_module_version": "1.5.0",
      "model_name": "HTMLModel",
      "state": {
       "layout": "IPY_MODEL_2ab4acf073254b8a9855c4598bd281b2",
       "style": "IPY_MODEL_dd1019d8d65b4de6a09aab7513b533f4",
       "value": "<i>Markieren Sie <ins>alle</ins> passenden Antworten: </i>"
      }
     },
     "2decb4d038024355906392dbfd38da0c": {
      "model_module": "@jupyter-widgets/base",
      "model_module_version": "1.2.0",
      "model_name": "LayoutModel",
      "state": {}
     },
     "2dfa5b6c91ed4211aad90fa58d086893": {
      "model_module": "@jupyter-widgets/base",
      "model_module_version": "1.2.0",
      "model_name": "LayoutModel",
      "state": {
       "width": "250px"
      }
     },
     "2dfb7af011ed4bf4b4f5cf46bf276468": {
      "model_module": "@jupyter-widgets/controls",
      "model_module_version": "1.5.0",
      "model_name": "ButtonStyleModel",
      "state": {}
     },
     "2dfde2063d00454ab6f157e2e50a120c": {
      "model_module": "@jupyter-widgets/base",
      "model_module_version": "1.2.0",
      "model_name": "LayoutModel",
      "state": {
       "width": "600px"
      }
     },
     "2e0fea2f3cec4a4d8df9a46a7bc52ec7": {
      "model_module": "@jupyter-widgets/base",
      "model_module_version": "1.2.0",
      "model_name": "LayoutModel",
      "state": {
       "width": "600px"
      }
     },
     "2e1e028a18f048a8ab0c51eef5d0cdc3": {
      "model_module": "@jupyter-widgets/controls",
      "model_module_version": "1.5.0",
      "model_name": "HTMLModel",
      "state": {
       "layout": "IPY_MODEL_52fe424295b342ef9705397a048588cb",
       "style": "IPY_MODEL_4a662367bd8f4dc498d7bf8719c04859",
       "value": "<h4 style=\"font-size:14px;\">Wozu sind Tag Pattern ähnlich?</h4>"
      }
     },
     "2e29d92963464833b993ab217e08497b": {
      "model_module": "@jupyter-widgets/base",
      "model_module_version": "1.2.0",
      "model_name": "LayoutModel",
      "state": {
       "width": "250px"
      }
     },
     "2e38467c9e54462ca8b9ffe72411c32c": {
      "model_module": "@jupyter-widgets/base",
      "model_module_version": "1.2.0",
      "model_name": "LayoutModel",
      "state": {
       "width": "250px"
      }
     },
     "2e5fef6710d440ab8c02a39138147fdf": {
      "model_module": "@jupyter-widgets/controls",
      "model_module_version": "1.5.0",
      "model_name": "DescriptionStyleModel",
      "state": {
       "description_width": ""
      }
     },
     "2e78c2eb1f0b45e59d29b1c3978a5ebc": {
      "model_module": "@jupyter-widgets/base",
      "model_module_version": "1.2.0",
      "model_name": "LayoutModel",
      "state": {}
     },
     "2e8c96f53f5543ada0f80198b2e7efb1": {
      "model_module": "@jupyter-widgets/base",
      "model_module_version": "1.2.0",
      "model_name": "LayoutModel",
      "state": {}
     },
     "2e97fd7b03ce4c59bdbd8becd9c70d71": {
      "model_module": "@jupyter-widgets/base",
      "model_module_version": "1.2.0",
      "model_name": "LayoutModel",
      "state": {
       "width": "250px"
      }
     },
     "2f13d93efbe84567a3821d05456481da": {
      "model_module": "@jupyter-widgets/base",
      "model_module_version": "1.2.0",
      "model_name": "LayoutModel",
      "state": {
       "justify_content": "center"
      }
     },
     "2f6bee064a764321ae582d68c30d2f55": {
      "model_module": "@jupyter-widgets/base",
      "model_module_version": "1.2.0",
      "model_name": "LayoutModel",
      "state": {}
     },
     "2f719ea2fc3245e4ba50acd3db03aea9": {
      "model_module": "@jupyter-widgets/controls",
      "model_module_version": "1.5.0",
      "model_name": "DescriptionStyleModel",
      "state": {
       "description_width": ""
      }
     },
     "2f816cf02490481cae103d050e26f919": {
      "model_module": "@jupyter-widgets/controls",
      "model_module_version": "1.5.0",
      "model_name": "VBoxModel",
      "state": {
       "children": [
        "IPY_MODEL_54b38a34e15e48c1beeb57ba41f9631e",
        "IPY_MODEL_2c21b60cf9814b378a0374ad50149789",
        "IPY_MODEL_103c45f01847446695e7b3b1dbb9a3a6",
        "IPY_MODEL_ab2c180c42e74fee9ffca137c6611ba5",
        "IPY_MODEL_2908addd12ad43c1946a00edacaab79b",
        "IPY_MODEL_c1edeab7901145568131fbd54a38425d",
        "IPY_MODEL_1e5986460ca845c59537797e1b2f9ce7",
        "IPY_MODEL_7d882c1456c3443b947e8a2148b6d9e5"
       ],
       "layout": "IPY_MODEL_686d5af6824149bca5d25984a76d1391"
      }
     },
     "2fa3c08c54ac450a8d1b21f9b78975a1": {
      "model_module": "@jupyter-widgets/controls",
      "model_module_version": "1.5.0",
      "model_name": "ButtonModel",
      "state": {
       "description": "{ }",
       "layout": "IPY_MODEL_c2d1f541da59460182d55badd43ddf2f",
       "style": "IPY_MODEL_23e0277db1d949a69d7e4e463bcee4d1"
      }
     },
     "2fa9dc7931c5414bb055449119236107": {
      "model_module": "@jupyter-widgets/base",
      "model_module_version": "1.2.0",
      "model_name": "LayoutModel",
      "state": {
       "justify_content": "center"
      }
     },
     "2fef264024c440c69496e0a4c7db0cce": {
      "model_module": "@jupyter-widgets/controls",
      "model_module_version": "1.5.0",
      "model_name": "VBoxModel",
      "state": {
       "children": [
        "IPY_MODEL_9e8ecdecfcc242f0877672ba9f566861",
        "IPY_MODEL_3b4d1885b48b497ebeb7ec79919eaa6c",
        "IPY_MODEL_8d68707ab6b3477fa131fafbe6c2b849",
        "IPY_MODEL_3e94300fa07840038edd19c60dbb80a1"
       ],
       "layout": "IPY_MODEL_da9808b6cbde4626893a5b7512c3f68d"
      }
     },
     "300e64397ab04169bb85a55d4b2fc065": {
      "model_module": "@jupyter-widgets/controls",
      "model_module_version": "1.5.0",
      "model_name": "DescriptionStyleModel",
      "state": {
       "description_width": "initial"
      }
     },
     "3079ed80b26048ac9edc3ec021121585": {
      "model_module": "@jupyter-widgets/base",
      "model_module_version": "1.2.0",
      "model_name": "LayoutModel",
      "state": {
       "width": "250px"
      }
     },
     "3085ce6d37524116bb3c7d2a10664e09": {
      "model_module": "@jupyter-widgets/controls",
      "model_module_version": "1.5.0",
      "model_name": "ButtonModel",
      "state": {
       "description": "part-of-speech tags",
       "layout": "IPY_MODEL_9302900023f249a29ac5a4bd6a2fb04e",
       "style": "IPY_MODEL_46720dd9ae8b416384ccd9fadb5a694f"
      }
     },
     "3092a82dfdaf480cb3e8d9ca1ec651db": {
      "model_module": "@jupyter-widgets/controls",
      "model_module_version": "1.5.0",
      "model_name": "ButtonStyleModel",
      "state": {}
     },
     "30ba8699397947ee85c2e1a1b49e6967": {
      "model_module": "@jupyter-widgets/controls",
      "model_module_version": "1.5.0",
      "model_name": "ButtonModel",
      "state": {
       "description": "kontextfrei",
       "layout": "IPY_MODEL_49d1b8e364064bcab70db660423a559b",
       "style": "IPY_MODEL_4652ea0a25e749108f40e0f6bb2bfb0c"
      }
     },
     "30d7809d05924fb9b93727812b958774": {
      "model_module": "@jupyter-widgets/controls",
      "model_module_version": "1.5.0",
      "model_name": "DescriptionStyleModel",
      "state": {
       "description_width": ""
      }
     },
     "30e3ef190d774a0bae4ed69ffaf78d5c": {
      "model_module": "@jupyter-widgets/base",
      "model_module_version": "1.2.0",
      "model_name": "LayoutModel",
      "state": {
       "justify_content": "center"
      }
     },
     "30eae3423cb8493c8fab53bca51f3b6d": {
      "model_module": "@jupyter-widgets/controls",
      "model_module_version": "1.5.0",
      "model_name": "HTMLModel",
      "state": {
       "layout": "IPY_MODEL_b6ef0f37a3994cca92dc6997180caac0",
       "style": "IPY_MODEL_fbfa27ed038b4e3da205ddbbae18136f",
       "value": "<h4 style=\"font-size:14px;\">Welchem Typ muss eine Regel genügen, um solche Sätze in einer formalen Grammatik zu modellieren?</h4>"
      }
     },
     "30fcd09d975543e9a721deeb130306d0": {
      "model_module": "@jupyter-widgets/controls",
      "model_module_version": "1.5.0",
      "model_name": "DescriptionStyleModel",
      "state": {
       "description_width": "initial"
      }
     },
     "3102450265354f57af22a929fc824d9e": {
      "model_module": "@jupyter-widgets/base",
      "model_module_version": "1.2.0",
      "model_name": "LayoutModel",
      "state": {
       "width": "600px"
      }
     },
     "3125a5fc1d8e4db6a06098880bb89753": {
      "model_module": "@jupyter-widgets/base",
      "model_module_version": "1.2.0",
      "model_name": "LayoutModel",
      "state": {
       "justify_content": "center"
      }
     },
     "314052edeedd4563b80af0b3dd434349": {
      "model_module": "@jupyter-widgets/controls",
      "model_module_version": "1.5.0",
      "model_name": "ButtonStyleModel",
      "state": {}
     },
     "3145330818574a18a29df2d78393546d": {
      "model_module": "@jupyter-widgets/controls",
      "model_module_version": "1.5.0",
      "model_name": "DescriptionStyleModel",
      "state": {
       "description_width": ""
      }
     },
     "315b4e2d3ae04276995ecc2dd9cf359c": {
      "model_module": "@jupyter-widgets/controls",
      "model_module_version": "1.5.0",
      "model_name": "DescriptionStyleModel",
      "state": {
       "description_width": ""
      }
     },
     "3166412d3b424b84bca809fef6679b26": {
      "model_module": "@jupyter-widgets/base",
      "model_module_version": "1.2.0",
      "model_name": "LayoutModel",
      "state": {
       "justify_content": "center"
      }
     },
     "31a54a172a114355b826ed0d3dde0f82": {
      "model_module": "@jupyter-widgets/controls",
      "model_module_version": "1.5.0",
      "model_name": "ButtonStyleModel",
      "state": {}
     },
     "31d5375dba654992946a8c796d06ede7": {
      "model_module": "@jupyter-widgets/controls",
      "model_module_version": "1.5.0",
      "model_name": "DescriptionStyleModel",
      "state": {
       "description_width": "initial"
      }
     },
     "31dad6025b5e488982ef96b9a4883679": {
      "model_module": "@jupyter-widgets/controls",
      "model_module_version": "1.5.0",
      "model_name": "DescriptionStyleModel",
      "state": {
       "description_width": ""
      }
     },
     "31f330ef3596479d8d9d08152d405ccb": {
      "model_module": "@jupyter-widgets/base",
      "model_module_version": "1.2.0",
      "model_name": "LayoutModel",
      "state": {
       "width": "250px"
      }
     },
     "32151ba3892041509ee493d563d2db91": {
      "model_module": "@jupyter-widgets/controls",
      "model_module_version": "1.5.0",
      "model_name": "ButtonModel",
      "state": {
       "description": "Korrekt?",
       "layout": "IPY_MODEL_48caf36b6bee4a499f38b205bed5f1a7",
       "style": "IPY_MODEL_8f7d76dbf5f943d8ae5fdad3edda5273"
      }
     },
     "3260743e212c4c08a7f3718f07b96c9d": {
      "model_module": "@jupyter-widgets/controls",
      "model_module_version": "1.5.0",
      "model_name": "HTMLModel",
      "state": {
       "layout": "IPY_MODEL_c9fddbd47ec44c8b901e31cec786fd0b",
       "style": "IPY_MODEL_02a8f785e5234f0fa0ca611011d82086",
       "value": "<i>Markieren Sie <ins>alle</ins> passenden Antworten: </i>"
      }
     },
     "3266469e6c4a404b9400cca864f746b0": {
      "model_module": "@jupyter-widgets/base",
      "model_module_version": "1.2.0",
      "model_name": "LayoutModel",
      "state": {
       "width": "600px"
      }
     },
     "327d241b369d4853b75546f0a3b15e1e": {
      "model_module": "@jupyter-widgets/controls",
      "model_module_version": "1.5.0",
      "model_name": "VBoxModel",
      "state": {
       "children": [
        "IPY_MODEL_70a2f3c92fd64412996820a4f7e7ac08",
        "IPY_MODEL_21be595ba1e349899e73491a8353375a",
        "IPY_MODEL_a1ee1427fc3b4ddabc41fcb9153b2e10",
        "IPY_MODEL_ca9c39535ccb45c9b90ecde0426806c2"
       ],
       "layout": "IPY_MODEL_d012c651599247f58e5a95945927dbf3"
      }
     },
     "32b1a8a687cd41c6b52f2dd384da17c8": {
      "model_module": "@jupyter-widgets/controls",
      "model_module_version": "1.5.0",
      "model_name": "CheckboxModel",
      "state": {
       "description": "Chunks sind oft kürzer als Phrasen.",
       "disabled": false,
       "layout": "IPY_MODEL_3675926202b640dcbeea7bf380367d58",
       "style": "IPY_MODEL_a142afcd1dce49b1b78fa0df768629d1",
       "value": false
      }
     },
     "32b913c7997c4b788a0d26c000c25c65": {
      "model_module": "@jupyter-widgets/controls",
      "model_module_version": "1.5.0",
      "model_name": "HBoxModel",
      "state": {
       "children": [
        "IPY_MODEL_aa54f0a4a92d493eb1a5bf92ab4273c5",
        "IPY_MODEL_064f233bf77f49e7b3dfe67fd453c3c4"
       ],
       "layout": "IPY_MODEL_33c82c20dad541d4bfa35c63ea600e7d"
      }
     },
     "32d79ce4ec3041fe85cb640b41b98fa3": {
      "model_module": "@jupyter-widgets/controls",
      "model_module_version": "1.5.0",
      "model_name": "HTMLModel",
      "state": {
       "layout": "IPY_MODEL_c72879aa2b584d5e975a9e06e8ac71a8",
       "style": "IPY_MODEL_fd1b314f03584e4597372c1873e0b0ff",
       "value": "<i>Markieren Sie <ins>alle</ins> passenden Antworten: </i>"
      }
     },
     "332a51a562ed46dcb80d886d6d80c27c": {
      "model_module": "@jupyter-widgets/controls",
      "model_module_version": "1.5.0",
      "model_name": "HTMLModel",
      "state": {
       "layout": "IPY_MODEL_8e3256dbe7a843d9a46380115f3e977a",
       "style": "IPY_MODEL_92398f1f9fb84265ad0164f0b76e99f4",
       "value": "<h4 style=\"font-size:14px;\">Ist der Satz ambig?</h4>"
      }
     },
     "333e522cb363411e99984fac7e31c234": {
      "model_module": "@jupyter-widgets/controls",
      "model_module_version": "1.5.0",
      "model_name": "DescriptionStyleModel",
      "state": {
       "description_width": ""
      }
     },
     "335723350457467387999582c2ca6548": {
      "model_module": "@jupyter-widgets/base",
      "model_module_version": "1.2.0",
      "model_name": "LayoutModel",
      "state": {
       "width": "600px"
      }
     },
     "337ad3b89aee4f9aaf8010c221fa9561": {
      "model_module": "@jupyter-widgets/base",
      "model_module_version": "1.2.0",
      "model_name": "LayoutModel",
      "state": {
       "width": "600px"
      }
     },
     "3381b3ea099d44e4b6a6eb10f9bd5233": {
      "model_module": "@jupyter-widgets/controls",
      "model_module_version": "1.5.0",
      "model_name": "HBoxModel",
      "state": {
       "children": [
        "IPY_MODEL_0f653e948b8a4c59845925d8518e482f",
        "IPY_MODEL_4b56b49d21b442a98f62fcbdefc9d3c0"
       ],
       "layout": "IPY_MODEL_ba321c3eab27488a8310e7d0a061dbca"
      }
     },
     "33a547492c114bf5bd6ee06a5a119f64": {
      "model_module": "@jupyter-widgets/controls",
      "model_module_version": "1.5.0",
      "model_name": "VBoxModel",
      "state": {
       "children": [
        "IPY_MODEL_03866ec56025408eadd1ecb50de15505",
        "IPY_MODEL_4d2306f54ac54498b2e34af7c02b77da",
        "IPY_MODEL_1ca21211fdf54e0ca6bbae67315fb330",
        "IPY_MODEL_f1ba356eb76745a18c4c4e49313c845a"
       ],
       "layout": "IPY_MODEL_47ee9e10018c43ab948f6771178112c3"
      }
     },
     "33be0d309ca344e194c5bc70127c77ce": {
      "model_module": "@jupyter-widgets/controls",
      "model_module_version": "1.5.0",
      "model_name": "VBoxModel",
      "state": {
       "children": [
        "IPY_MODEL_dad5921da8ff4865a17dd55312899627",
        "IPY_MODEL_2a3826a4748e4ad0be08034d984bc914",
        "IPY_MODEL_8816506c8aad495a92be7ee75f47e9dc",
        "IPY_MODEL_ab57aecb72d04a888ef48709fce9ea59"
       ],
       "layout": "IPY_MODEL_f96eef498c86451fa53f707256a93b49"
      }
     },
     "33c82c20dad541d4bfa35c63ea600e7d": {
      "model_module": "@jupyter-widgets/base",
      "model_module_version": "1.2.0",
      "model_name": "LayoutModel",
      "state": {}
     },
     "33ccedeb68f5410fac0d5f05179d8549": {
      "model_module": "@jupyter-widgets/controls",
      "model_module_version": "1.5.0",
      "model_name": "CheckboxModel",
      "state": {
       "description": "ein Chunk wird verkürzt",
       "disabled": false,
       "layout": "IPY_MODEL_69381d4f37644870bd99c43aec368fba",
       "style": "IPY_MODEL_701e356292c14b0faa323c87cbc95c99",
       "value": true
      }
     },
     "33e4dfbf04594551b74d4f03761aede6": {
      "model_module": "@jupyter-widgets/base",
      "model_module_version": "1.2.0",
      "model_name": "LayoutModel",
      "state": {}
     },
     "33ec26ed4b4f47a69acdcd0f092e2286": {
      "model_module": "@jupyter-widgets/controls",
      "model_module_version": "1.5.0",
      "model_name": "ButtonStyleModel",
      "state": {}
     },
     "33ff570c0ea54e999e97a2a9d7649e62": {
      "model_module": "@jupyter-widgets/controls",
      "model_module_version": "1.5.0",
      "model_name": "ButtonModel",
      "state": {
       "description": "part-of-speech tags",
       "layout": "IPY_MODEL_8d26ed433a0048f1bc4ad5033d620f8f",
       "style": "IPY_MODEL_584b38a277064902b4c6416757bced04"
      }
     },
     "3425702e7e3b4427962288068ee51b29": {
      "model_module": "@jupyter-widgets/controls",
      "model_module_version": "1.5.0",
      "model_name": "ButtonStyleModel",
      "state": {}
     },
     "3434dfe6987c4464972b306974789fbd": {
      "model_module": "@jupyter-widgets/controls",
      "model_module_version": "1.5.0",
      "model_name": "ButtonModel",
      "state": {
       "description": "center embedding",
       "layout": "IPY_MODEL_8d7439775f7846d78cc044876abc41df",
       "style": "IPY_MODEL_33ec26ed4b4f47a69acdcd0f092e2286"
      }
     },
     "3471b1f5da38466cb947c9b91088a607": {
      "model_module": "@jupyter-widgets/controls",
      "model_module_version": "1.5.0",
      "model_name": "HTMLModel",
      "state": {
       "layout": "IPY_MODEL_5dbf541792c54a399ed2227fff12c9e2",
       "style": "IPY_MODEL_3936251673b6489cb3e41ebb57f8e46a",
       "value": "<h4 style=\"font-size:14px;\">Ist der Satz ambig?</h4>"
      }
     },
     "348d97ca495846858e84b68e53f81312": {
      "model_module": "@jupyter-widgets/controls",
      "model_module_version": "1.5.0",
      "model_name": "DescriptionStyleModel",
      "state": {
       "description_width": ""
      }
     },
     "349411e5169c410da56800e567753641": {
      "model_module": "@jupyter-widgets/base",
      "model_module_version": "1.2.0",
      "model_name": "LayoutModel",
      "state": {
       "width": "250px"
      }
     },
     "349fcf602d4140c9b43c56de0bdd3aa3": {
      "model_module": "@jupyter-widgets/controls",
      "model_module_version": "1.5.0",
      "model_name": "HBoxModel",
      "state": {
       "children": [
        "IPY_MODEL_526e0f4bc6664b5a8d3200bc12616be6",
        "IPY_MODEL_18bac8dc0d6643f79564f65b2fa96d38"
       ],
       "layout": "IPY_MODEL_40683791f4aa4b0eb82304d0fca1704f"
      }
     },
     "34c63ed452274e399d08c4123f82cbf1": {
      "model_module": "@jupyter-widgets/controls",
      "model_module_version": "1.5.0",
      "model_name": "HTMLModel",
      "state": {
       "layout": "IPY_MODEL_ef449bd0f2f446a9af25b8256504c512",
       "style": "IPY_MODEL_78518437b24f4ab6995e6b7256fdfb97",
       "value": "<i>Markieren Sie <ins>alle</ins> passenden Antworten: </i>"
      }
     },
     "34d829132fa344189e7c9908e812c4a0": {
      "model_module": "@jupyter-widgets/base",
      "model_module_version": "1.2.0",
      "model_name": "LayoutModel",
      "state": {
       "justify_content": "center"
      }
     },
     "35559234893e45fea1a46aaff94d23d4": {
      "model_module": "@jupyter-widgets/base",
      "model_module_version": "1.2.0",
      "model_name": "LayoutModel",
      "state": {
       "width": "600px"
      }
     },
     "3556d87ab6fa467992ad253c4619c851": {
      "model_module": "@jupyter-widgets/controls",
      "model_module_version": "1.5.0",
      "model_name": "ButtonModel",
      "state": {
       "description": "Korrekt?",
       "layout": "IPY_MODEL_a03ec6c1af8e48b39fd5e318f9137806",
       "style": "IPY_MODEL_43e0a6a846c944d5851f8fee977360c0"
      }
     },
     "35592961558e4f00b9fe77a159ef4808": {
      "model_module": "@jupyter-widgets/controls",
      "model_module_version": "1.5.0",
      "model_name": "CheckboxModel",
      "state": {
       "description": "zwei Chunks werden zu einem größeren zusammengefasst",
       "disabled": false,
       "layout": "IPY_MODEL_71bf61dec77c4cfa954420f207ae5fcf",
       "style": "IPY_MODEL_d07c188c980540e788723b5d20102da9",
       "value": false
      }
     },
     "3572febb1ba142ffb96dea3f0ece8d82": {
      "model_module": "@jupyter-widgets/controls",
      "model_module_version": "1.5.0",
      "model_name": "DescriptionStyleModel",
      "state": {
       "description_width": "initial"
      }
     },
     "357ff1d66120468bae592fb5b85f0427": {
      "model_module": "@jupyter-widgets/base",
      "model_module_version": "1.2.0",
      "model_name": "LayoutModel",
      "state": {
       "width": "250px"
      }
     },
     "35814781d3ef41d19cbc1ee46fa6ee6b": {
      "model_module": "@jupyter-widgets/controls",
      "model_module_version": "1.5.0",
      "model_name": "ButtonStyleModel",
      "state": {}
     },
     "35886cfab7ee4b61b6259a3cef5420d0": {
      "model_module": "@jupyter-widgets/controls",
      "model_module_version": "1.5.0",
      "model_name": "ButtonStyleModel",
      "state": {}
     },
     "35ef27542af342828617f8c2ce047610": {
      "model_module": "@jupyter-widgets/base",
      "model_module_version": "1.2.0",
      "model_name": "LayoutModel",
      "state": {
       "justify_content": "center"
      }
     },
     "361fc798970d4961a9ad3b37b16dc6aa": {
      "model_module": "@jupyter-widgets/base",
      "model_module_version": "1.2.0",
      "model_name": "LayoutModel",
      "state": {
       "justify_content": "center"
      }
     },
     "3620b771c7a640f4a8340dca51d96d50": {
      "model_module": "@jupyter-widgets/controls",
      "model_module_version": "1.5.0",
      "model_name": "VBoxModel",
      "state": {
       "children": [
        "IPY_MODEL_606e754709ab44c494db51434d62b2a1",
        "IPY_MODEL_896d053fa0ae4bcb9167738ffc8e6683",
        "IPY_MODEL_4183a58bfba1433aa73d43cd5b01f1e9"
       ],
       "layout": "IPY_MODEL_bb71d363e32042bcbcbabaf3aa1a30e2"
      }
     },
     "3622b285dddc456a96cb9a40bbdb3d8a": {
      "model_module": "@jupyter-widgets/controls",
      "model_module_version": "1.5.0",
      "model_name": "ButtonModel",
      "state": {
       "description": "Korrekt?",
       "layout": "IPY_MODEL_f78f9e363de34595af0b27eda8e86484",
       "style": "IPY_MODEL_6d4cbbabf5f34248ad6d3bffc751f34b"
      }
     },
     "36370acf88d8401bb9a43e13dcdd06d8": {
      "model_module": "@jupyter-widgets/controls",
      "model_module_version": "1.5.0",
      "model_name": "DescriptionStyleModel",
      "state": {
       "description_width": ""
      }
     },
     "363c6d1df4a54a2690250adc1816ad90": {
      "model_module": "@jupyter-widgets/controls",
      "model_module_version": "1.5.0",
      "model_name": "VBoxModel",
      "state": {
       "children": [
        "IPY_MODEL_a24d471fb12148edb9c33d28d9a00dca",
        "IPY_MODEL_c593c963276144c7aa9d2cafe1a5a11e",
        "IPY_MODEL_65a04da16ad947128ebe5e5d5e142b10",
        "IPY_MODEL_d2b09bff43e44234a1a09b972946c134"
       ],
       "layout": "IPY_MODEL_4646b3c66cae43f1bb3565dd0ac6173a"
      }
     },
     "365565a54cf64212bbc96190b4d0aa28": {
      "model_module": "@jupyter-widgets/controls",
      "model_module_version": "1.5.0",
      "model_name": "HTMLModel",
      "state": {
       "layout": "IPY_MODEL_7c6948880f6c458b9fdc8ff8b3d7c2e7",
       "style": "IPY_MODEL_e2efb679294244408c27d9a8e00ade2c",
       "value": "<i>Markieren Sie <ins>alle</ins> passenden Antworten: </i>"
      }
     },
     "366d67f36a394127a0279e6f314b9d45": {
      "model_module": "@jupyter-widgets/controls",
      "model_module_version": "1.5.0",
      "model_name": "ButtonStyleModel",
      "state": {}
     },
     "366de39db7c742aba0a51a47e4445936": {
      "model_module": "@jupyter-widgets/controls",
      "model_module_version": "1.5.0",
      "model_name": "VBoxModel",
      "state": {
       "children": [
        "IPY_MODEL_b1581506130142c4b0d46212f7869c57",
        "IPY_MODEL_71525a9bca4240bc8457ba8febd58219",
        "IPY_MODEL_4c4f21c08e854e2fb319a52034c6bcff",
        "IPY_MODEL_b570611ba593406c81a6993c8992447f"
       ],
       "layout": "IPY_MODEL_043774cbd4374078974941db4ee9329c"
      }
     },
     "3675926202b640dcbeea7bf380367d58": {
      "model_module": "@jupyter-widgets/base",
      "model_module_version": "1.2.0",
      "model_name": "LayoutModel",
      "state": {
       "width": "600px"
      }
     },
     "3684b359c5cb49d4b041b9ea0ae8b77d": {
      "model_module": "@jupyter-widgets/controls",
      "model_module_version": "1.5.0",
      "model_name": "ButtonModel",
      "state": {
       "description": "} {",
       "layout": "IPY_MODEL_0889ca307e514e80af3f91f205fa99df",
       "style": "IPY_MODEL_c06e5b20e5ae493dae19928e747979b9"
      }
     },
     "3685822cfd3a49acb075d9c52ab1fe59": {
      "model_module": "@jupyter-widgets/controls",
      "model_module_version": "1.5.0",
      "model_name": "ButtonModel",
      "state": {
       "description": "Nein",
       "layout": "IPY_MODEL_2e38467c9e54462ca8b9ffe72411c32c",
       "style": "IPY_MODEL_9f95df8a83e04f348276b7671b3a823d"
      }
     },
     "3693faddd4234d4cad61d22a3a03b145": {
      "model_module": "@jupyter-widgets/controls",
      "model_module_version": "1.5.0",
      "model_name": "CheckboxModel",
      "state": {
       "description": "Accuracy = (true positives + true negatives) / Anzahl aller Vorhersagen",
       "disabled": false,
       "layout": "IPY_MODEL_a89fe3bcbd854ecf9d135698ff16549a",
       "style": "IPY_MODEL_728ff0183b054156960b4d7db5894459",
       "value": true
      }
     },
     "36c20028126d45aa8dd72f2bdff4156a": {
      "model_module": "@jupyter-widgets/controls",
      "model_module_version": "1.5.0",
      "model_name": "DescriptionStyleModel",
      "state": {
       "description_width": "initial"
      }
     },
     "36d3ce972b164dffb3559e659979adf4": {
      "model_module": "@jupyter-widgets/controls",
      "model_module_version": "1.5.0",
      "model_name": "DropdownModel",
      "state": {
       "_options_labels": [
        "1",
        "2",
        "3",
        "4",
        "Keine der Alternativen"
       ],
       "description": "Antwort:",
       "index": 0,
       "layout": "IPY_MODEL_993bf6a6df0444bf96fc95c438345c1e",
       "style": "IPY_MODEL_93a0b10c591a42e39d5716946cf88c7b"
      }
     },
     "36d56d918670401ebbbfb085277b5934": {
      "model_module": "@jupyter-widgets/base",
      "model_module_version": "1.2.0",
      "model_name": "LayoutModel",
      "state": {
       "width": "600px"
      }
     },
     "36d739e2ab9745e8aafd25016575205f": {
      "model_module": "@jupyter-widgets/controls",
      "model_module_version": "1.5.0",
      "model_name": "ButtonModel",
      "state": {
       "description": "Ja",
       "layout": "IPY_MODEL_90c69613a1134e2dacd755ba03d9547a",
       "style": "IPY_MODEL_d98e211a5f734fcfa548e13a5d6ace72"
      }
     },
     "36dd9fa0934c4f1f9aa03d8a2608b01f": {
      "model_module": "@jupyter-widgets/base",
      "model_module_version": "1.2.0",
      "model_name": "LayoutModel",
      "state": {}
     },
     "36dfb9ce4eb642b1913c7e96727f9f74": {
      "model_module": "@jupyter-widgets/base",
      "model_module_version": "1.2.0",
      "model_name": "LayoutModel",
      "state": {}
     },
     "36e72f02f44948279aed4cd5feb94ea3": {
      "model_module": "@jupyter-widgets/controls",
      "model_module_version": "1.5.0",
      "model_name": "VBoxModel",
      "state": {
       "children": [
        "IPY_MODEL_d1ae67f45fbb4361b60201e44c368bde",
        "IPY_MODEL_d04ce73891b6434ea2f6738db18798a0",
        "IPY_MODEL_c2f1d1d4bd124a44b7e1f1b151b180f2",
        "IPY_MODEL_e03fcd4f674e4c299c8febb9e8a282b4"
       ],
       "layout": "IPY_MODEL_59dd0ea159774214a0134ae0879be889"
      }
     },
     "371010b554cb42eb8cd165b7e61ffcef": {
      "model_module": "@jupyter-widgets/controls",
      "model_module_version": "1.5.0",
      "model_name": "ButtonStyleModel",
      "state": {}
     },
     "374eafd421584325a32ef7f2775ad3bb": {
      "model_module": "@jupyter-widgets/controls",
      "model_module_version": "1.5.0",
      "model_name": "DescriptionStyleModel",
      "state": {
       "description_width": "initial"
      }
     },
     "377dba84004a4553ba3448849e8a0276": {
      "model_module": "@jupyter-widgets/base",
      "model_module_version": "1.2.0",
      "model_name": "LayoutModel",
      "state": {
       "width": "250px"
      }
     },
     "378960da5d2c499a9d328e50374d265a": {
      "model_module": "@jupyter-widgets/controls",
      "model_module_version": "1.5.0",
      "model_name": "ButtonStyleModel",
      "state": {}
     },
     "378b52996c3449a5b3b2d4c913025fff": {
      "model_module": "@jupyter-widgets/base",
      "model_module_version": "1.2.0",
      "model_name": "LayoutModel",
      "state": {
       "width": "250px"
      }
     },
     "378b696e9488488d85bec0cfad9126ed": {
      "model_module": "@jupyter-widgets/controls",
      "model_module_version": "1.5.0",
      "model_name": "DescriptionStyleModel",
      "state": {
       "description_width": "initial"
      }
     },
     "37b8f15c93364842817bc075e13b7f2d": {
      "model_module": "@jupyter-widgets/controls",
      "model_module_version": "1.5.0",
      "model_name": "ButtonModel",
      "state": {
       "description": "kontextsensitiv",
       "layout": "IPY_MODEL_0f60e4d4945f47ab95772187095ea548",
       "style": "IPY_MODEL_730552e997b84e2cafb7b40dba6de45e"
      }
     },
     "382047d6eea748898ce8272f9bd9a326": {
      "model_module": "@jupyter-widgets/base",
      "model_module_version": "1.2.0",
      "model_name": "LayoutModel",
      "state": {}
     },
     "382c5704924a4f2a81f96b43f234fe5d": {
      "model_module": "@jupyter-widgets/base",
      "model_module_version": "1.2.0",
      "model_name": "LayoutModel",
      "state": {}
     },
     "384a73eacf9c44128da1579e0660e456": {
      "model_module": "@jupyter-widgets/base",
      "model_module_version": "1.2.0",
      "model_name": "LayoutModel",
      "state": {
       "width": "600px"
      }
     },
     "387254d1ceaa423c965bd4d0fc39cb78": {
      "model_module": "@jupyter-widgets/controls",
      "model_module_version": "1.5.0",
      "model_name": "CheckboxModel",
      "state": {
       "description": "Loopen über bereits erkannt Chunk-Muster",
       "disabled": false,
       "layout": "IPY_MODEL_086563b55da44edc99ebaf3445500ef6",
       "style": "IPY_MODEL_80007472a0bf40dd8477b8fa93bc2536",
       "value": false
      }
     },
     "3888fc2b99b84e9caef3abb0899d6f56": {
      "model_module": "@jupyter-widgets/controls",
      "model_module_version": "1.5.0",
      "model_name": "ButtonModel",
      "state": {
       "description": "garden-path sentence",
       "layout": "IPY_MODEL_a04f9006ea8742839f824beaae013885",
       "style": "IPY_MODEL_ab547632a43f45ea8627dc2d7f6f5bd9"
      }
     },
     "3889887238984f279371ce2cb686b545": {
      "model_module": "@jupyter-widgets/base",
      "model_module_version": "1.2.0",
      "model_name": "LayoutModel",
      "state": {
       "justify_content": "center"
      }
     },
     "3894c392945c4682bda629b9a57c8279": {
      "model_module": "@jupyter-widgets/base",
      "model_module_version": "1.2.0",
      "model_name": "LayoutModel",
      "state": {
       "justify_content": "center"
      }
     },
     "38a95615f26741b695b018259e5cbaf0": {
      "model_module": "@jupyter-widgets/base",
      "model_module_version": "1.2.0",
      "model_name": "LayoutModel",
      "state": {
       "width": "250px"
      }
     },
     "38d4afc202644f2ea81d26d14f094233": {
      "model_module": "@jupyter-widgets/base",
      "model_module_version": "1.2.0",
      "model_name": "LayoutModel",
      "state": {
       "width": "250px"
      }
     },
     "38df927a3c2241f281d60d9723e8471e": {
      "model_module": "@jupyter-widgets/controls",
      "model_module_version": "1.5.0",
      "model_name": "ButtonModel",
      "state": {
       "description": "Ja",
       "layout": "IPY_MODEL_377dba84004a4553ba3448849e8a0276",
       "style": "IPY_MODEL_dc83ece326cf49e0ad93b00d9e3c54d8"
      }
     },
     "38e9ca3fc79e44f48c10b53bacefaed1": {
      "model_module": "@jupyter-widgets/controls",
      "model_module_version": "1.5.0",
      "model_name": "CheckboxModel",
      "state": {
       "description": "ein Chunk wird in zwei Chunks aufgeteilt",
       "disabled": false,
       "layout": "IPY_MODEL_2771a2fe3b5b4025ac79521c7e7ce7e0",
       "style": "IPY_MODEL_ad9f098abac846bfa4b8ef8cd4dd3091",
       "value": true
      }
     },
     "39137b067f544d57823ef96783a53cce": {
      "model_module": "@jupyter-widgets/controls",
      "model_module_version": "1.5.0",
      "model_name": "CheckboxModel",
      "state": {
       "description": "Chunks sind oft länger als Phrasen.",
       "disabled": false,
       "layout": "IPY_MODEL_1b7b13c7d0284cc58574dfbe15730232",
       "style": "IPY_MODEL_1bbac471e89b4124ba0a528141fea691",
       "value": false
      }
     },
     "3936251673b6489cb3e41ebb57f8e46a": {
      "model_module": "@jupyter-widgets/controls",
      "model_module_version": "1.5.0",
      "model_name": "DescriptionStyleModel",
      "state": {
       "description_width": ""
      }
     },
     "393cee5df20d4d938739ac79fa166025": {
      "model_module": "@jupyter-widgets/controls",
      "model_module_version": "1.5.0",
      "model_name": "VBoxModel",
      "state": {
       "children": [
        "IPY_MODEL_89a0afbecdc14089be54f420fcbd2078",
        "IPY_MODEL_8138336c39ae48ffba11ac638305040a",
        "IPY_MODEL_ec63e6d3035f4cfdad9c47016adf9d59"
       ],
       "layout": "IPY_MODEL_b93fd218e1fa46e59fffd985e383a859"
      }
     },
     "3948c6248fbe4f2d862fe2cc0f76a941": {
      "model_module": "@jupyter-widgets/base",
      "model_module_version": "1.2.0",
      "model_name": "LayoutModel",
      "state": {}
     },
     "39815d76fbdc498ebb81ee83dfd7e774": {
      "model_module": "@jupyter-widgets/controls",
      "model_module_version": "1.5.0",
      "model_name": "DescriptionStyleModel",
      "state": {
       "description_width": ""
      }
     },
     "399777b6b933439dbbaf4ea0d35c1b75": {
      "model_module": "@jupyter-widgets/base",
      "model_module_version": "1.2.0",
      "model_name": "LayoutModel",
      "state": {
       "width": "600px"
      }
     },
     "3998a9561fba4a98b6846285c77d9b1d": {
      "model_module": "@jupyter-widgets/base",
      "model_module_version": "1.2.0",
      "model_name": "LayoutModel",
      "state": {
       "width": "250px"
      }
     },
     "39a1cd0d679a46b681530dddbfa2cb3e": {
      "model_module": "@jupyter-widgets/base",
      "model_module_version": "1.2.0",
      "model_name": "LayoutModel",
      "state": {
       "width": "250px"
      }
     },
     "39a9edcf83ce45e2bf620c3e1e8101ff": {
      "model_module": "@jupyter-widgets/controls",
      "model_module_version": "1.5.0",
      "model_name": "ButtonModel",
      "state": {
       "description": "garden-path sentence",
       "layout": "IPY_MODEL_d40be21b49534c0ebd4c4520bfcdedc7",
       "style": "IPY_MODEL_bcf616f6c59f4830ad1e7981e519718a"
      }
     },
     "39d5fd975b7a4df491078b4f2260baf6": {
      "model_module": "@jupyter-widgets/base",
      "model_module_version": "1.2.0",
      "model_name": "LayoutModel",
      "state": {
       "width": "600px"
      }
     },
     "39ef177fb1e940058a7e804c48c24b69": {
      "model_module": "@jupyter-widgets/controls",
      "model_module_version": "1.5.0",
      "model_name": "DescriptionStyleModel",
      "state": {
       "description_width": "initial"
      }
     },
     "39f38228a8b345a892eba703bb7eaab8": {
      "model_module": "@jupyter-widgets/base",
      "model_module_version": "1.2.0",
      "model_name": "LayoutModel",
      "state": {
       "justify_content": "center"
      }
     },
     "3a063ab66a2e40b5a081fd01812f5f6b": {
      "model_module": "@jupyter-widgets/controls",
      "model_module_version": "1.5.0",
      "model_name": "HTMLModel",
      "state": {
       "layout": "IPY_MODEL_7e1465f11021460c84033db09548dff8",
       "style": "IPY_MODEL_e8cde6f188e149a7acfeca5e4e1b2620",
       "value": "<i>Wählen Sie die <ins>eine</ins> korrekte Antwort aus: </i>"
      }
     },
     "3a30fd9748474b09af35fd7b063d50e7": {
      "model_module": "@jupyter-widgets/base",
      "model_module_version": "1.2.0",
      "model_name": "LayoutModel",
      "state": {
       "width": "600px"
      }
     },
     "3a3824d375124c2dadd98cbb8a57271d": {
      "model_module": "@jupyter-widgets/base",
      "model_module_version": "1.2.0",
      "model_name": "LayoutModel",
      "state": {}
     },
     "3a5304a7987c438cad0fe63b5491797d": {
      "model_module": "@jupyter-widgets/controls",
      "model_module_version": "1.5.0",
      "model_name": "VBoxModel",
      "state": {
       "children": [
        "IPY_MODEL_041413a67d404059add82624eea62df6",
        "IPY_MODEL_2033b3d4c96d47fc9ebf78b4b069dbc4",
        "IPY_MODEL_f1a7c414b3ff4d4a8f1bfa286b11d48f"
       ],
       "layout": "IPY_MODEL_787ce3fd19ce49b79f20cf54bc2a0e88"
      }
     },
     "3a675507a09a40b1b6665d416a5fdab9": {
      "model_module": "@jupyter-widgets/base",
      "model_module_version": "1.2.0",
      "model_name": "LayoutModel",
      "state": {
       "width": "250px"
      }
     },
     "3a6fefb1a48e4611a472837fe36540a2": {
      "model_module": "@jupyter-widgets/controls",
      "model_module_version": "1.5.0",
      "model_name": "DescriptionStyleModel",
      "state": {
       "description_width": "initial"
      }
     },
     "3a9ab3e8e51f42e7bbb915b780268ae5": {
      "model_module": "@jupyter-widgets/controls",
      "model_module_version": "1.5.0",
      "model_name": "DescriptionStyleModel",
      "state": {
       "description_width": ""
      }
     },
     "3a9c6a0738924ca1bfbebee777814ab8": {
      "model_module": "@jupyter-widgets/controls",
      "model_module_version": "1.5.0",
      "model_name": "ButtonStyleModel",
      "state": {}
     },
     "3ad6c44a5bcf468cb68eaf495875fb77": {
      "model_module": "@jupyter-widgets/base",
      "model_module_version": "1.2.0",
      "model_name": "LayoutModel",
      "state": {}
     },
     "3adbd2abf7de499aad1c5b40a0d70f13": {
      "model_module": "@jupyter-widgets/controls",
      "model_module_version": "1.5.0",
      "model_name": "DescriptionStyleModel",
      "state": {
       "description_width": ""
      }
     },
     "3b414a3d756b4cbfb9da63aafb272c71": {
      "model_module": "@jupyter-widgets/controls",
      "model_module_version": "1.5.0",
      "model_name": "ButtonModel",
      "state": {
       "description": "Keine der anderen Möglichkeiten",
       "layout": "IPY_MODEL_652de95c46474e2c8232e9879898ecdb",
       "style": "IPY_MODEL_4a6f31f1179445508801d0cbe5ea7039"
      }
     },
     "3b4d1885b48b497ebeb7ec79919eaa6c": {
      "model_module": "@jupyter-widgets/controls",
      "model_module_version": "1.5.0",
      "model_name": "HTMLModel",
      "state": {
       "layout": "IPY_MODEL_f309922589344113b6668177c3c59761",
       "style": "IPY_MODEL_a23ab72413424776b1cc7e95ce7a5005",
       "value": "<i>Wählen Sie die <ins>eine</ins> korrekte Antwort aus: </i>"
      }
     },
     "3b50e0b99d394125a194fb55128eca39": {
      "model_module": "@jupyter-widgets/controls",
      "model_module_version": "1.5.0",
      "model_name": "ButtonModel",
      "state": {
       "description": "regular expressions",
       "layout": "IPY_MODEL_130a4bbfbb634048a7408057534ea799",
       "style": "IPY_MODEL_dd84b43972a346b9a4ea21189d7ea2c3"
      }
     },
     "3b5a4b310ba74bf9bbce2c6020129a62": {
      "model_module": "@jupyter-widgets/controls",
      "model_module_version": "1.5.0",
      "model_name": "DescriptionStyleModel",
      "state": {
       "description_width": ""
      }
     },
     "3b8e948c935e45e49e547de875d35d56": {
      "model_module": "@jupyter-widgets/base",
      "model_module_version": "1.2.0",
      "model_name": "LayoutModel",
      "state": {
       "width": "250px"
      }
     },
     "3ba7334d1166453aab84f802ae1a296e": {
      "model_module": "@jupyter-widgets/controls",
      "model_module_version": "1.5.0",
      "model_name": "HTMLModel",
      "state": {
       "layout": "IPY_MODEL_4e36352b2db54505a09ac6fa772fc250",
       "style": "IPY_MODEL_07a4c3a1ecce4fcf9813f89ad514ad90",
       "value": "<i>Wählen Sie die <ins>eine</ins> korrekte Antwort aus: </i>"
      }
     },
     "3bc0c9c906d74e5094f173fc849494f5": {
      "model_module": "@jupyter-widgets/controls",
      "model_module_version": "1.5.0",
      "model_name": "DescriptionStyleModel",
      "state": {
       "description_width": ""
      }
     },
     "3bc3cdbb6dbd4d7e8836eabfa76a15f1": {
      "model_module": "@jupyter-widgets/controls",
      "model_module_version": "1.5.0",
      "model_name": "DescriptionStyleModel",
      "state": {
       "description_width": "initial"
      }
     },
     "3bce2a750cde493e9d0232e3e4305c94": {
      "model_module": "@jupyter-widgets/controls",
      "model_module_version": "1.5.0",
      "model_name": "DescriptionStyleModel",
      "state": {
       "description_width": ""
      }
     },
     "3bf7448262cf4fe3a02397eecc397256": {
      "model_module": "@jupyter-widgets/controls",
      "model_module_version": "1.5.0",
      "model_name": "VBoxModel",
      "state": {
       "children": [
        "IPY_MODEL_5dd62fe5f69049e0ba5eeebc0f5cd9fe",
        "IPY_MODEL_d3e2329233d2475eabeee3af35d4e4de",
        "IPY_MODEL_97baf06daed34ced9ef38195af25d7d7"
       ],
       "layout": "IPY_MODEL_d474ad9e04ab403ab994b22c2700024b"
      }
     },
     "3c0d89adf8f740f8832b33ec833a5d13": {
      "model_module": "@jupyter-widgets/controls",
      "model_module_version": "1.5.0",
      "model_name": "ButtonStyleModel",
      "state": {}
     },
     "3c6b7dc54cd64f02aa5974b9646d3537": {
      "model_module": "@jupyter-widgets/base",
      "model_module_version": "1.2.0",
      "model_name": "LayoutModel",
      "state": {
       "justify_content": "center"
      }
     },
     "3c8aac8ec1564a268dbeee99cdd56386": {
      "model_module": "@jupyter-widgets/base",
      "model_module_version": "1.2.0",
      "model_name": "LayoutModel",
      "state": {
       "width": "600px"
      }
     },
     "3ca1771d4a62443ebb581d1c674c54ff": {
      "model_module": "@jupyter-widgets/base",
      "model_module_version": "1.2.0",
      "model_name": "LayoutModel",
      "state": {
       "width": "250px"
      }
     },
     "3ca270c1102e46d09a24c58a359db734": {
      "model_module": "@jupyter-widgets/controls",
      "model_module_version": "1.5.0",
      "model_name": "HTMLModel",
      "state": {
       "layout": "IPY_MODEL_6b9fac6d84594607bd3cb1bc1c98b865",
       "style": "IPY_MODEL_b987d9d04e854a2981cffdd3b14d4040",
       "value": "<h4 style=\"font-size:14px;\">Ist der Satz ambig?</h4>"
      }
     },
     "3cc89efa6b5f497c940aad896e239132": {
      "model_module": "@jupyter-widgets/controls",
      "model_module_version": "1.5.0",
      "model_name": "HTMLModel",
      "state": {
       "layout": "IPY_MODEL_cdcaee37b16c45c7a5e956ff9e013860",
       "style": "IPY_MODEL_b1529d48e6a047d79668cd0663634c22",
       "value": "<i>Markieren Sie <ins>alle</ins> passenden Antworten: </i>"
      }
     },
     "3cef4d1631b840ec82ecd33b59fb5e72": {
      "model_module": "@jupyter-widgets/base",
      "model_module_version": "1.2.0",
      "model_name": "LayoutModel",
      "state": {
       "width": "600px"
      }
     },
     "3d292568f7ad4fdfa25dcbcf04f6a9d2": {
      "model_module": "@jupyter-widgets/controls",
      "model_module_version": "1.5.0",
      "model_name": "HTMLModel",
      "state": {
       "layout": "IPY_MODEL_59397002e51b4480a36f68a984ed5570",
       "style": "IPY_MODEL_b47b9c23dc76404eabc6b8ffc0bbea35",
       "value": "<h4 style=\"font-size:14px;\">Sind Teile des Satzes ambig?</h4>"
      }
     },
     "3d475f11cc444fe5807c515dfcb5fc08": {
      "model_module": "@jupyter-widgets/controls",
      "model_module_version": "1.5.0",
      "model_name": "VBoxModel",
      "state": {
       "children": [
        "IPY_MODEL_65af923f1b3f44aea3a4a12a226102c4",
        "IPY_MODEL_b14426f68bd24a5f887e4334ee6ea6aa",
        "IPY_MODEL_0b09618f0ccd452f8d4ab188dc899ec3"
       ],
       "layout": "IPY_MODEL_da34178906944f0496396705f3f571c0"
      }
     },
     "3d8ff3beb0994020a4e06ca3fb75a4c4": {
      "model_module": "@jupyter-widgets/controls",
      "model_module_version": "1.5.0",
      "model_name": "DescriptionStyleModel",
      "state": {
       "description_width": "initial"
      }
     },
     "3d922f53f8134be081c73351a6286037": {
      "model_module": "@jupyter-widgets/controls",
      "model_module_version": "1.5.0",
      "model_name": "ButtonStyleModel",
      "state": {}
     },
     "3dde8689d05643799e17090e40fa92ed": {
      "model_module": "@jupyter-widgets/base",
      "model_module_version": "1.2.0",
      "model_name": "LayoutModel",
      "state": {
       "justify_content": "center"
      }
     },
     "3de8f00835d4460682157cd9bc62e2ab": {
      "model_module": "@jupyter-widgets/controls",
      "model_module_version": "1.5.0",
      "model_name": "DescriptionStyleModel",
      "state": {
       "description_width": "initial"
      }
     },
     "3def3213724c4f6a8d284afb5236d0e2": {
      "model_module": "@jupyter-widgets/base",
      "model_module_version": "1.2.0",
      "model_name": "LayoutModel",
      "state": {}
     },
     "3e089d9a46944919afd8eb63041084fc": {
      "model_module": "@jupyter-widgets/controls",
      "model_module_version": "1.5.0",
      "model_name": "HTMLModel",
      "state": {
       "layout": "IPY_MODEL_c2cb802672a94ca28bd03b11fee4a966",
       "style": "IPY_MODEL_a49daaddbec04737ae59d2f3adcad1bd",
       "value": "<h4 style=\"font-size:14px;\">Welche Klammern zeigen Chinking an?</h4>"
      }
     },
     "3e13d302ca3a4a75aebf7fc343650e8d": {
      "model_module": "@jupyter-widgets/base",
      "model_module_version": "1.2.0",
      "model_name": "LayoutModel",
      "state": {}
     },
     "3e3a7140cf194900af7e5672edd80b76": {
      "model_module": "@jupyter-widgets/base",
      "model_module_version": "1.2.0",
      "model_name": "LayoutModel",
      "state": {}
     },
     "3e428a3841384c2f902871d4f5d83ed7": {
      "model_module": "@jupyter-widgets/base",
      "model_module_version": "1.2.0",
      "model_name": "LayoutModel",
      "state": {}
     },
     "3e53b162fa6545d58f66785ddace0f10": {
      "model_module": "@jupyter-widgets/controls",
      "model_module_version": "1.5.0",
      "model_name": "ButtonStyleModel",
      "state": {}
     },
     "3e564fbc33ec4ca5bf735fb7575ee061": {
      "model_module": "@jupyter-widgets/base",
      "model_module_version": "1.2.0",
      "model_name": "LayoutModel",
      "state": {
       "justify_content": "center"
      }
     },
     "3e5b8fd3f89e488aac3031d410b52078": {
      "model_module": "@jupyter-widgets/base",
      "model_module_version": "1.2.0",
      "model_name": "LayoutModel",
      "state": {}
     },
     "3e7a895a839f426da94fd8db98dd2702": {
      "model_module": "@jupyter-widgets/controls",
      "model_module_version": "1.5.0",
      "model_name": "ButtonModel",
      "state": {
       "description": "Nein",
       "layout": "IPY_MODEL_049c215d98ae41549a768027b2770f29",
       "style": "IPY_MODEL_2d37ac7f5e0b4a968c26ed34818060e2"
      }
     },
     "3e94300fa07840038edd19c60dbb80a1": {
      "model_module": "@jupyter-widgets/controls",
      "model_module_version": "1.5.0",
      "model_name": "ButtonModel",
      "state": {
       "description": "Korrekt?",
       "layout": "IPY_MODEL_2845959761fa4c29ad1941bdf2c14949",
       "style": "IPY_MODEL_31a54a172a114355b826ed0d3dde0f82"
      }
     },
     "3f01919379ae4797a61e4ca674b954be": {
      "model_module": "@jupyter-widgets/controls",
      "model_module_version": "1.5.0",
      "model_name": "DescriptionStyleModel",
      "state": {
       "description_width": ""
      }
     },
     "3f07f3e4dcdb494da50cda46a2fdcbcf": {
      "model_module": "@jupyter-widgets/controls",
      "model_module_version": "1.5.0",
      "model_name": "DescriptionStyleModel",
      "state": {
       "description_width": "initial"
      }
     },
     "3f0be14be1164af8b0dd2020f7720241": {
      "model_module": "@jupyter-widgets/base",
      "model_module_version": "1.2.0",
      "model_name": "LayoutModel",
      "state": {}
     },
     "3f23f63f7d84413a8f3a65a74b6d4ba3": {
      "model_module": "@jupyter-widgets/controls",
      "model_module_version": "1.5.0",
      "model_name": "HTMLModel",
      "state": {
       "layout": "IPY_MODEL_f515cddee2ae411791b6d6b435827db2",
       "style": "IPY_MODEL_edb7d31db3b54a9db553d3c9fbe1318e",
       "value": "<h4 style=\"font-size:14px;\">Wozu sind Tag Pattern ähnlich?</h4>"
      }
     },
     "3f6409662eca4903a1f6a9ab9f6c9b41": {
      "model_module": "@jupyter-widgets/controls",
      "model_module_version": "1.5.0",
      "model_name": "ButtonStyleModel",
      "state": {}
     },
     "3f774312785c461dadf7bbe1b08a4ab4": {
      "model_module": "@jupyter-widgets/base",
      "model_module_version": "1.2.0",
      "model_name": "LayoutModel",
      "state": {
       "width": "250px"
      }
     },
     "3f88a685cc654f6ea81cca659bd4e272": {
      "model_module": "@jupyter-widgets/base",
      "model_module_version": "1.2.0",
      "model_name": "LayoutModel",
      "state": {}
     },
     "3fe8aabe669e4ada83918cf3dcb85c12": {
      "model_module": "@jupyter-widgets/controls",
      "model_module_version": "1.5.0",
      "model_name": "ButtonModel",
      "state": {
       "description": "Regularität",
       "layout": "IPY_MODEL_9fa6f503cc3b41299a6782a29fb7a748",
       "style": "IPY_MODEL_35886cfab7ee4b61b6259a3cef5420d0"
      }
     },
     "3ffb689f26704ee9a244d0564bb8d062": {
      "model_module": "@jupyter-widgets/controls",
      "model_module_version": "1.5.0",
      "model_name": "ButtonStyleModel",
      "state": {}
     },
     "400701b298f0473f80822b70ae9abd61": {
      "model_module": "@jupyter-widgets/controls",
      "model_module_version": "1.5.0",
      "model_name": "ButtonModel",
      "state": {
       "description": "Korrekt?",
       "layout": "IPY_MODEL_b62730222e9b45dfb63e14c99378c703",
       "style": "IPY_MODEL_be7fc3f9b5014e139f9d992fef1425e2"
      }
     },
     "402c436c08ae4b9da88a27adb6d04766": {
      "model_module": "@jupyter-widgets/base",
      "model_module_version": "1.2.0",
      "model_name": "LayoutModel",
      "state": {
       "width": "600px"
      }
     },
     "40683791f4aa4b0eb82304d0fca1704f": {
      "model_module": "@jupyter-widgets/base",
      "model_module_version": "1.2.0",
      "model_name": "LayoutModel",
      "state": {}
     },
     "40afa9922efa43568fd02220e606cbbd": {
      "model_module": "@jupyter-widgets/controls",
      "model_module_version": "1.5.0",
      "model_name": "DescriptionStyleModel",
      "state": {
       "description_width": "initial"
      }
     },
     "40b4c31f1df149d1b5cf031d6506235f": {
      "model_module": "@jupyter-widgets/base",
      "model_module_version": "1.2.0",
      "model_name": "LayoutModel",
      "state": {
       "justify_content": "center"
      }
     },
     "410d0fa29a314044a76e570559df6d55": {
      "model_module": "@jupyter-widgets/controls",
      "model_module_version": "1.5.0",
      "model_name": "CheckboxModel",
      "state": {
       "description": "Es gibt keinen Unterschied.",
       "disabled": false,
       "layout": "IPY_MODEL_740114d84b284bb595d47aace367f16a",
       "style": "IPY_MODEL_e622b31640ef4bf79c3f73270b0ca414",
       "value": false
      }
     },
     "41269dfdda8a4eb4b5148d3ed39b0f26": {
      "model_module": "@jupyter-widgets/controls",
      "model_module_version": "1.5.0",
      "model_name": "VBoxModel",
      "state": {
       "children": [
        "IPY_MODEL_1e02508371bb4ed4bed9b340d65e5393",
        "IPY_MODEL_fc1ea5a75ca541288d0a956257ec141a",
        "IPY_MODEL_7ece73ea2fb84ecba973dcdb4912884a",
        "IPY_MODEL_db9bafb6da594bfaa82e33b72abf23c7"
       ],
       "layout": "IPY_MODEL_a7e618c4820042648d14906d0a36eef0"
      }
     },
     "413ad029e23c42788b9d9e0d0599ee4d": {
      "model_module": "@jupyter-widgets/base",
      "model_module_version": "1.2.0",
      "model_name": "LayoutModel",
      "state": {
       "width": "600px"
      }
     },
     "417f8587a47e44bfbb93059f20280768": {
      "model_module": "@jupyter-widgets/base",
      "model_module_version": "1.2.0",
      "model_name": "LayoutModel",
      "state": {
       "justify_content": "center"
      }
     },
     "4183a58bfba1433aa73d43cd5b01f1e9": {
      "model_module": "@jupyter-widgets/controls",
      "model_module_version": "1.5.0",
      "model_name": "HBoxModel",
      "state": {
       "children": [
        "IPY_MODEL_e14a22dc426a45f78afe47fb3b5261e8",
        "IPY_MODEL_f7f68c46e03e4990aae54955cfd7b0f8"
       ],
       "layout": "IPY_MODEL_22055d1fab54494e8dea34ecbeb107b7"
      }
     },
     "41a04afa2c2946d19dc84718f118e0a9": {
      "model_module": "@jupyter-widgets/base",
      "model_module_version": "1.2.0",
      "model_name": "LayoutModel",
      "state": {}
     },
     "41a566dcb1ba4e32a89899284719437c": {
      "model_module": "@jupyter-widgets/controls",
      "model_module_version": "1.5.0",
      "model_name": "ButtonModel",
      "state": {
       "description": "} {",
       "layout": "IPY_MODEL_db3cb52709264f69a52f4d23f8e5b523",
       "style": "IPY_MODEL_e423381706ca4e1e8073b081aa72f07d"
      }
     },
     "41bf674a80a8490998f73a9501c31aaa": {
      "model_module": "@jupyter-widgets/base",
      "model_module_version": "1.2.0",
      "model_name": "LayoutModel",
      "state": {
       "justify_content": "center"
      }
     },
     "41e8691422a74fec8d87a23074774f0d": {
      "model_module": "@jupyter-widgets/base",
      "model_module_version": "1.2.0",
      "model_name": "LayoutModel",
      "state": {
       "justify_content": "center"
      }
     },
     "41f6249edc9c4d3db9192a0f134f09aa": {
      "model_module": "@jupyter-widgets/controls",
      "model_module_version": "1.5.0",
      "model_name": "ButtonModel",
      "state": {
       "description": "garden-path sentence",
       "layout": "IPY_MODEL_046f7d487574460aa4fa3b10c20e7410",
       "style": "IPY_MODEL_7496f536d6f64458a127541d00337a2e"
      }
     },
     "41fd531d02f647d9ba6046ab2935e9e8": {
      "model_module": "@jupyter-widgets/base",
      "model_module_version": "1.2.0",
      "model_name": "LayoutModel",
      "state": {
       "width": "250px"
      }
     },
     "4206388a37f24319b79b57b78370f01a": {
      "model_module": "@jupyter-widgets/base",
      "model_module_version": "1.2.0",
      "model_name": "LayoutModel",
      "state": {
       "width": "600px"
      }
     },
     "4208522976cb4da987a484da2fa45dce": {
      "model_module": "@jupyter-widgets/controls",
      "model_module_version": "1.5.0",
      "model_name": "CheckboxModel",
      "state": {
       "description": "zwei Chunks werden zu einem größeren zusammengefasst",
       "disabled": false,
       "layout": "IPY_MODEL_bb6c390d7a58472a822f53bfd6d45124",
       "style": "IPY_MODEL_300e64397ab04169bb85a55d4b2fc065",
       "value": false
      }
     },
     "42569d2d2108434a97a5b665abb9e437": {
      "model_module": "@jupyter-widgets/controls",
      "model_module_version": "1.5.0",
      "model_name": "ButtonStyleModel",
      "state": {}
     },
     "4275c55da6314ed5b675049883a5d19c": {
      "model_module": "@jupyter-widgets/base",
      "model_module_version": "1.2.0",
      "model_name": "LayoutModel",
      "state": {
       "width": "250px"
      }
     },
     "4288a4b3de194ffb9196af9134797f23": {
      "model_module": "@jupyter-widgets/controls",
      "model_module_version": "1.5.0",
      "model_name": "DescriptionStyleModel",
      "state": {
       "description_width": ""
      }
     },
     "4296928c388f4338a7735b8cc5fb9ba6": {
      "model_module": "@jupyter-widgets/base",
      "model_module_version": "1.2.0",
      "model_name": "LayoutModel",
      "state": {
       "width": "250px"
      }
     },
     "42b87db6ccd048ac9dc3551b1f2d1829": {
      "model_module": "@jupyter-widgets/base",
      "model_module_version": "1.2.0",
      "model_name": "LayoutModel",
      "state": {}
     },
     "42e8aed6fc6d4f91b650621a421ec98f": {
      "model_module": "@jupyter-widgets/base",
      "model_module_version": "1.2.0",
      "model_name": "LayoutModel",
      "state": {
       "width": "250px"
      }
     },
     "432c1aab71a44cb299e63c8fc6cebb57": {
      "model_module": "@jupyter-widgets/controls",
      "model_module_version": "1.5.0",
      "model_name": "VBoxModel",
      "state": {
       "children": [
        "IPY_MODEL_5f881664b63a48a1937964ba80f7bb58",
        "IPY_MODEL_109aa994dd4e40ac9aab4f74eddf08bf",
        "IPY_MODEL_77506e03b45e41baa20447b5e2b4b062",
        "IPY_MODEL_fd487663a19f402badc95238bc8bf76d",
        "IPY_MODEL_2625e9de7a8a4a33b7948ca209fefdd8",
        "IPY_MODEL_ef6a93c00ae34c82937a7e373e20f6db",
        "IPY_MODEL_16e707674dc241f1a316ef8c5f1fb291",
        "IPY_MODEL_b46219533bdd489aa281fb453420cb31"
       ],
       "layout": "IPY_MODEL_09b8b54bb3724fdc8bd9be32406e723e"
      }
     },
     "43387611648049539932b468b34ed69b": {
      "model_module": "@jupyter-widgets/base",
      "model_module_version": "1.2.0",
      "model_name": "LayoutModel",
      "state": {}
     },
     "43a13a2d314a4cbf812487632432890e": {
      "model_module": "@jupyter-widgets/controls",
      "model_module_version": "1.5.0",
      "model_name": "DescriptionStyleModel",
      "state": {
       "description_width": ""
      }
     },
     "43d8028ef8354db0a2d73b7716548843": {
      "model_module": "@jupyter-widgets/base",
      "model_module_version": "1.2.0",
      "model_name": "LayoutModel",
      "state": {}
     },
     "43dda38fb2064ab89e705ebde4960e3c": {
      "model_module": "@jupyter-widgets/controls",
      "model_module_version": "1.5.0",
      "model_name": "HTMLModel",
      "state": {
       "layout": "IPY_MODEL_96ea5a16882649868bd2bf9bff16d045",
       "style": "IPY_MODEL_549ae7ee38c34047800f9443ce8712ad",
       "value": "<i>Wählen Sie die <ins>eine</ins> korrekte Antwort aus: </i>"
      }
     },
     "43e0a6a846c944d5851f8fee977360c0": {
      "model_module": "@jupyter-widgets/controls",
      "model_module_version": "1.5.0",
      "model_name": "ButtonStyleModel",
      "state": {}
     },
     "440cb97adb804df3891fa5978afd0150": {
      "model_module": "@jupyter-widgets/controls",
      "model_module_version": "1.5.0",
      "model_name": "DescriptionStyleModel",
      "state": {
       "description_width": "initial"
      }
     },
     "4420b3309a26464ebcfd565ae0a55b42": {
      "model_module": "@jupyter-widgets/controls",
      "model_module_version": "1.5.0",
      "model_name": "HBoxModel",
      "state": {
       "children": [
        "IPY_MODEL_3434dfe6987c4464972b306974789fbd",
        "IPY_MODEL_2ae20aecb0134031a1b9c6410a6c3a22"
       ],
       "layout": "IPY_MODEL_570cb711cca64c5fab7b89b75dd21a09"
      }
     },
     "444e0dc51cb04a76be3791ba31c48fd0": {
      "model_module": "@jupyter-widgets/base",
      "model_module_version": "1.2.0",
      "model_name": "LayoutModel",
      "state": {}
     },
     "445cb4ceeba04b1b90cf3647abdbac14": {
      "model_module": "@jupyter-widgets/controls",
      "model_module_version": "1.5.0",
      "model_name": "HBoxModel",
      "state": {
       "children": [
        "IPY_MODEL_915ac55af8b64c7389bebee933226d14",
        "IPY_MODEL_c7762716f23b44d08b1c5ee9518f57b6"
       ],
       "layout": "IPY_MODEL_9c83322237e54cffa2c41e1aeb7671a5"
      }
     },
     "446dd1970dab498ca8f4fa6bbdc1dd6a": {
      "model_module": "@jupyter-widgets/controls",
      "model_module_version": "1.5.0",
      "model_name": "DescriptionStyleModel",
      "state": {
       "description_width": ""
      }
     },
     "4519e06e88394828a98fb06ab4d742d9": {
      "model_module": "@jupyter-widgets/base",
      "model_module_version": "1.2.0",
      "model_name": "LayoutModel",
      "state": {}
     },
     "4523ec29f58740ccb4e13085f70d5818": {
      "model_module": "@jupyter-widgets/controls",
      "model_module_version": "1.5.0",
      "model_name": "DescriptionStyleModel",
      "state": {
       "description_width": ""
      }
     },
     "4568ba5454b64d689258cb24dc15ba9a": {
      "model_module": "@jupyter-widgets/base",
      "model_module_version": "1.2.0",
      "model_name": "LayoutModel",
      "state": {
       "width": "250px"
      }
     },
     "457bd0de3be74581a4aa0b904f87bcd1": {
      "model_module": "@jupyter-widgets/controls",
      "model_module_version": "1.5.0",
      "model_name": "CheckboxModel",
      "state": {
       "description": "Chunks sind oft kürzer als Phrasen.",
       "disabled": false,
       "layout": "IPY_MODEL_c6a89b41c77b48d0b4fd176f6dcbed0f",
       "style": "IPY_MODEL_1a6703d99d4244f291a52ff628aa8374",
       "value": true
      }
     },
     "45852b96f073420eba95d650cceeda48": {
      "model_module": "@jupyter-widgets/base",
      "model_module_version": "1.2.0",
      "model_name": "LayoutModel",
      "state": {
       "width": "600px"
      }
     },
     "45cf0b8978b4463b906d1964e627f994": {
      "model_module": "@jupyter-widgets/base",
      "model_module_version": "1.2.0",
      "model_name": "LayoutModel",
      "state": {}
     },
     "45da0872068549928c3f9a3c90aec38b": {
      "model_module": "@jupyter-widgets/base",
      "model_module_version": "1.2.0",
      "model_name": "LayoutModel",
      "state": {
       "width": "250px"
      }
     },
     "46003cba923a489299118523942bbfc8": {
      "model_module": "@jupyter-widgets/controls",
      "model_module_version": "1.5.0",
      "model_name": "DescriptionStyleModel",
      "state": {
       "description_width": "initial"
      }
     },
     "46017ab3fee144cbaf28b08b5222c4dd": {
      "model_module": "@jupyter-widgets/controls",
      "model_module_version": "1.5.0",
      "model_name": "DescriptionStyleModel",
      "state": {
       "description_width": "initial"
      }
     },
     "4641456691bf4878a1e433d46d5d4ec2": {
      "model_module": "@jupyter-widgets/controls",
      "model_module_version": "1.5.0",
      "model_name": "CheckboxModel",
      "state": {
       "description": "Output einer Chunk-Regel (Chunk-Tag) als Input einer folgenden Regel (Hintereinanderschalten)",
       "disabled": false,
       "layout": "IPY_MODEL_f1841f1a7801468d844030b3fb475ab4",
       "style": "IPY_MODEL_da170e1c54f64c908845305370016b30",
       "value": true
      }
     },
     "46423beaa65c433493b77b1a5a1c5200": {
      "model_module": "@jupyter-widgets/base",
      "model_module_version": "1.2.0",
      "model_name": "LayoutModel",
      "state": {
       "width": "600px"
      }
     },
     "4646b3c66cae43f1bb3565dd0ac6173a": {
      "model_module": "@jupyter-widgets/base",
      "model_module_version": "1.2.0",
      "model_name": "LayoutModel",
      "state": {}
     },
     "4652ea0a25e749108f40e0f6bb2bfb0c": {
      "model_module": "@jupyter-widgets/controls",
      "model_module_version": "1.5.0",
      "model_name": "ButtonStyleModel",
      "state": {}
     },
     "465bfd99013243b5a7ac6c8c1ac56265": {
      "model_module": "@jupyter-widgets/controls",
      "model_module_version": "1.5.0",
      "model_name": "ButtonModel",
      "state": {
       "description": "} {",
       "layout": "IPY_MODEL_845f20f504d442819d19fbea009fe353",
       "style": "IPY_MODEL_54cca3552b824177a0b7e95aa99b8578"
      }
     },
     "466c644a05ef4bafa2db8dfe39f95e1c": {
      "model_module": "@jupyter-widgets/base",
      "model_module_version": "1.2.0",
      "model_name": "LayoutModel",
      "state": {}
     },
     "46720dd9ae8b416384ccd9fadb5a694f": {
      "model_module": "@jupyter-widgets/controls",
      "model_module_version": "1.5.0",
      "model_name": "ButtonStyleModel",
      "state": {}
     },
     "4690b12d6f2c4ec7988ef690c6ebed7b": {
      "model_module": "@jupyter-widgets/controls",
      "model_module_version": "1.5.0",
      "model_name": "VBoxModel",
      "state": {
       "children": [
        "IPY_MODEL_3471b1f5da38466cb947c9b91088a607",
        "IPY_MODEL_915dd32fdd444f9ab09a0de8f5cf4d46",
        "IPY_MODEL_edcfec6b500a4d2c88c346c983ce7dae"
       ],
       "layout": "IPY_MODEL_fe603bd9b1054ceb93b9aa63ea1ca4b0"
      }
     },
     "46ad35927fe04ae3be2d7c0f87522b7a": {
      "model_module": "@jupyter-widgets/controls",
      "model_module_version": "1.5.0",
      "model_name": "ButtonModel",
      "state": {
       "description": "Korrekt?",
       "layout": "IPY_MODEL_9ce058a82d8b430d871685be5de660d9",
       "style": "IPY_MODEL_c61bb8a422464f0e90ff343a28af961f"
      }
     },
     "46c29c978b414c38bc922df27b15c202": {
      "model_module": "@jupyter-widgets/base",
      "model_module_version": "1.2.0",
      "model_name": "LayoutModel",
      "state": {}
     },
     "46df6af9d4fd40c08cfcd7e0af2c076b": {
      "model_module": "@jupyter-widgets/base",
      "model_module_version": "1.2.0",
      "model_name": "LayoutModel",
      "state": {
       "width": "250px"
      }
     },
     "46f7b10918f34e93801293f2774878ab": {
      "model_module": "@jupyter-widgets/controls",
      "model_module_version": "1.5.0",
      "model_name": "HTMLModel",
      "state": {
       "layout": "IPY_MODEL_9f6d7d4d2a0a40cfb52ddd25902bb9c4",
       "style": "IPY_MODEL_79757f82e51647df99611a83c9f97317",
       "value": "<h4 style=\"font-size:14px;\">Welche Rekursionstiefe hat der Satz?</h4>"
      }
     },
     "471521d211484799bcd9e571e30bd61a": {
      "model_module": "@jupyter-widgets/controls",
      "model_module_version": "1.5.0",
      "model_name": "HTMLModel",
      "state": {
       "layout": "IPY_MODEL_5ba59a210dd54f32a5fdef8b4ae6fd9b",
       "style": "IPY_MODEL_49d6f94ae32943f788b31fb43106a0e6",
       "value": "<i>Markieren Sie <ins>alle</ins> passenden Antworten: </i>"
      }
     },
     "47263708382d4670a07d3852e56521ca": {
      "model_module": "@jupyter-widgets/base",
      "model_module_version": "1.2.0",
      "model_name": "LayoutModel",
      "state": {
       "justify_content": "center"
      }
     },
     "473c27beb5164daaac2f71e2052559f4": {
      "model_module": "@jupyter-widgets/controls",
      "model_module_version": "1.5.0",
      "model_name": "ButtonModel",
      "state": {
       "description": "XML-Tags",
       "layout": "IPY_MODEL_95ddc95f4675472f9748ee978a49884e",
       "style": "IPY_MODEL_879f4b28c8ed4fe8a297ebc5bda73a57"
      }
     },
     "474ff3d3403741e5bd0357166e8aed9e": {
      "model_module": "@jupyter-widgets/base",
      "model_module_version": "1.2.0",
      "model_name": "LayoutModel",
      "state": {}
     },
     "4797c6553f5f42c8b2e967307d572012": {
      "model_module": "@jupyter-widgets/base",
      "model_module_version": "1.2.0",
      "model_name": "LayoutModel",
      "state": {
       "width": "250px"
      }
     },
     "47a244723e2f41558e8b63f24169a894": {
      "model_module": "@jupyter-widgets/base",
      "model_module_version": "1.2.0",
      "model_name": "LayoutModel",
      "state": {
       "justify_content": "center"
      }
     },
     "47aa1e1233894f7da068dce2802101c9": {
      "model_module": "@jupyter-widgets/controls",
      "model_module_version": "1.5.0",
      "model_name": "ButtonStyleModel",
      "state": {
       "button_color": "lightgreen"
      }
     },
     "47b5e70c58df4271b2c747ede1a9d657": {
      "model_module": "@jupyter-widgets/controls",
      "model_module_version": "1.5.0",
      "model_name": "DescriptionStyleModel",
      "state": {
       "description_width": ""
      }
     },
     "47be1bb4d9a44ff6aa7b18653819b8cd": {
      "model_module": "@jupyter-widgets/base",
      "model_module_version": "1.2.0",
      "model_name": "LayoutModel",
      "state": {
       "width": "250px"
      }
     },
     "47ee9e10018c43ab948f6771178112c3": {
      "model_module": "@jupyter-widgets/base",
      "model_module_version": "1.2.0",
      "model_name": "LayoutModel",
      "state": {}
     },
     "47faf3b352154bc2898228b2e1d773b5": {
      "model_module": "@jupyter-widgets/controls",
      "model_module_version": "1.5.0",
      "model_name": "DescriptionStyleModel",
      "state": {
       "description_width": ""
      }
     },
     "4808db1a17364e07885fe3d12002ea92": {
      "model_module": "@jupyter-widgets/controls",
      "model_module_version": "1.5.0",
      "model_name": "ButtonModel",
      "state": {
       "description": "kontextsensitiv",
       "layout": "IPY_MODEL_01ff3926896842b6878f524dd484e785",
       "style": "IPY_MODEL_a4b8935a183f4f5d86fa5c13964399f5"
      }
     },
     "480b563a521b4190b9287c57b699f3fc": {
      "model_module": "@jupyter-widgets/base",
      "model_module_version": "1.2.0",
      "model_name": "LayoutModel",
      "state": {
       "width": "600px"
      }
     },
     "480f846367564beba2159357ae651d33": {
      "model_module": "@jupyter-widgets/controls",
      "model_module_version": "1.5.0",
      "model_name": "VBoxModel",
      "state": {
       "children": [
        "IPY_MODEL_8478393bbe22457e98cafdc437f2c14b",
        "IPY_MODEL_a93cc3ad740a4c6caf9c5d3952c49fcc",
        "IPY_MODEL_02d365d6c0b246f5bb3c107b19c6ce32"
       ],
       "layout": "IPY_MODEL_3f0be14be1164af8b0dd2020f7720241"
      }
     },
     "4841903cb0a94f30a264dcda27fc4c28": {
      "model_module": "@jupyter-widgets/controls",
      "model_module_version": "1.5.0",
      "model_name": "DescriptionStyleModel",
      "state": {
       "description_width": ""
      }
     },
     "4854718c50db45a9a83a49afcde4b1d8": {
      "model_module": "@jupyter-widgets/base",
      "model_module_version": "1.2.0",
      "model_name": "LayoutModel",
      "state": {
       "width": "600px"
      }
     },
     "486cd9fc99ee410abacb8baa958f7065": {
      "model_module": "@jupyter-widgets/controls",
      "model_module_version": "1.5.0",
      "model_name": "ButtonStyleModel",
      "state": {}
     },
     "4883bcb595cf4db58143b55bbc2c2a46": {
      "model_module": "@jupyter-widgets/controls",
      "model_module_version": "1.5.0",
      "model_name": "HBoxModel",
      "state": {
       "children": [
        "IPY_MODEL_6aa94ac34b954f508e5ef17997f60835",
        "IPY_MODEL_b655eef083264e118c298ff21bb985ce"
       ],
       "layout": "IPY_MODEL_c4abca65294c46cb9339a1a9493a13b7"
      }
     },
     "488d7fea36cd400681f151b07df04303": {
      "model_module": "@jupyter-widgets/base",
      "model_module_version": "1.2.0",
      "model_name": "LayoutModel",
      "state": {
       "justify_content": "center"
      }
     },
     "48a85bbe7b4d4f0eba7861192b1a6e0c": {
      "model_module": "@jupyter-widgets/controls",
      "model_module_version": "1.5.0",
      "model_name": "DescriptionStyleModel",
      "state": {
       "description_width": ""
      }
     },
     "48c53c25fa52436e93a40d7df3c4c1a1": {
      "model_module": "@jupyter-widgets/controls",
      "model_module_version": "1.5.0",
      "model_name": "VBoxModel",
      "state": {
       "children": [
        "IPY_MODEL_0ae2d69722dd4f2d98560baf6f770c00",
        "IPY_MODEL_ad5c137db4174d48a4986ca19fb5b525",
        "IPY_MODEL_91376b7ecd224f069aca0213b2252fd6",
        "IPY_MODEL_fec1735720b844b9a50737a7c085c3b3"
       ],
       "layout": "IPY_MODEL_764666f4aa074690ac90cf0bff325741"
      }
     },
     "48caf36b6bee4a499f38b205bed5f1a7": {
      "model_module": "@jupyter-widgets/base",
      "model_module_version": "1.2.0",
      "model_name": "LayoutModel",
      "state": {
       "width": "250px"
      }
     },
     "490a0fc8fb0649b1b466868d7e98afa9": {
      "model_module": "@jupyter-widgets/controls",
      "model_module_version": "1.5.0",
      "model_name": "ButtonStyleModel",
      "state": {
       "button_color": "lightgreen"
      }
     },
     "490cb85b7d7440b6af2c88dd51dfeb54": {
      "model_module": "@jupyter-widgets/base",
      "model_module_version": "1.2.0",
      "model_name": "LayoutModel",
      "state": {
       "width": "250px"
      }
     },
     "492515a55c494bc3a5bb5daf4cb94a21": {
      "model_module": "@jupyter-widgets/controls",
      "model_module_version": "1.5.0",
      "model_name": "DescriptionStyleModel",
      "state": {
       "description_width": ""
      }
     },
     "4971525843414f5a9eab3b4e3d50c535": {
      "model_module": "@jupyter-widgets/controls",
      "model_module_version": "1.5.0",
      "model_name": "VBoxModel",
      "state": {
       "children": [
        "IPY_MODEL_5438164903db46cabb2f4536a18f7ebe",
        "IPY_MODEL_0455b7e3093a42eca7fbc69f2061bc6d",
        "IPY_MODEL_6ed55b72e0794f109f35e97a1e39d8cb"
       ],
       "layout": "IPY_MODEL_e268468230e14626b0ca2363ca05bf5d"
      }
     },
     "498e93c9cd0c4774a0f0eddee09b29f4": {
      "model_module": "@jupyter-widgets/base",
      "model_module_version": "1.2.0",
      "model_name": "LayoutModel",
      "state": {}
     },
     "49d1b8e364064bcab70db660423a559b": {
      "model_module": "@jupyter-widgets/base",
      "model_module_version": "1.2.0",
      "model_name": "LayoutModel",
      "state": {
       "width": "250px"
      }
     },
     "49d6f94ae32943f788b31fb43106a0e6": {
      "model_module": "@jupyter-widgets/controls",
      "model_module_version": "1.5.0",
      "model_name": "DescriptionStyleModel",
      "state": {
       "description_width": ""
      }
     },
     "4a0142edeca54ee9be834ebb76fc4d9b": {
      "model_module": "@jupyter-widgets/base",
      "model_module_version": "1.2.0",
      "model_name": "LayoutModel",
      "state": {}
     },
     "4a0ebcb6be984ed88e2a6090ff0cdc5b": {
      "model_module": "@jupyter-widgets/controls",
      "model_module_version": "1.5.0",
      "model_name": "DescriptionStyleModel",
      "state": {
       "description_width": ""
      }
     },
     "4a1d5583e7bd4b34bbee0f17f66593c8": {
      "model_module": "@jupyter-widgets/controls",
      "model_module_version": "1.5.0",
      "model_name": "ButtonStyleModel",
      "state": {}
     },
     "4a1e5b1faa364e27bb955db9c7b96c78": {
      "model_module": "@jupyter-widgets/base",
      "model_module_version": "1.2.0",
      "model_name": "LayoutModel",
      "state": {
       "justify_content": "center"
      }
     },
     "4a1f722023514a05a616bcddb6771a0f": {
      "model_module": "@jupyter-widgets/base",
      "model_module_version": "1.2.0",
      "model_name": "LayoutModel",
      "state": {
       "width": "250px"
      }
     },
     "4a662367bd8f4dc498d7bf8719c04859": {
      "model_module": "@jupyter-widgets/controls",
      "model_module_version": "1.5.0",
      "model_name": "DescriptionStyleModel",
      "state": {
       "description_width": ""
      }
     },
     "4a6f31f1179445508801d0cbe5ea7039": {
      "model_module": "@jupyter-widgets/controls",
      "model_module_version": "1.5.0",
      "model_name": "ButtonStyleModel",
      "state": {}
     },
     "4a98bcb167db46b99d6a0192e09689f3": {
      "model_module": "@jupyter-widgets/controls",
      "model_module_version": "1.5.0",
      "model_name": "CheckboxModel",
      "state": {
       "description": "F1 = (Precision * Recall + 1) / (Precision + Recall)",
       "disabled": false,
       "layout": "IPY_MODEL_ae1a04f574b949bd8c26d48b30eee36a",
       "style": "IPY_MODEL_083eb53a5326451a86244dfb398ce095",
       "value": false
      }
     },
     "4aa78df10a3748c3b037310d3e2419a5": {
      "model_module": "@jupyter-widgets/base",
      "model_module_version": "1.2.0",
      "model_name": "LayoutModel",
      "state": {
       "width": "250px"
      }
     },
     "4af7a844ca944dd7b1ef8550f66e0d95": {
      "model_module": "@jupyter-widgets/base",
      "model_module_version": "1.2.0",
      "model_name": "LayoutModel",
      "state": {
       "width": "600px"
      }
     },
     "4b56b49d21b442a98f62fcbdefc9d3c0": {
      "model_module": "@jupyter-widgets/controls",
      "model_module_version": "1.5.0",
      "model_name": "ButtonModel",
      "state": {
       "description": "} {",
       "layout": "IPY_MODEL_ae44c8baf02c41ebb3352273370ad63a",
       "style": "IPY_MODEL_0d9d99ba647b4b308a89524089224753"
      }
     },
     "4b9c4ad837a543b9a3bcbd64225f6c55": {
      "model_module": "@jupyter-widgets/controls",
      "model_module_version": "1.5.0",
      "model_name": "ButtonStyleModel",
      "state": {}
     },
     "4bab21cbb1844bb1b05b2da1d0bb6c5b": {
      "model_module": "@jupyter-widgets/base",
      "model_module_version": "1.2.0",
      "model_name": "LayoutModel",
      "state": {
       "justify_content": "center"
      }
     },
     "4bb679dc223248d8b064f67c8537d625": {
      "model_module": "@jupyter-widgets/base",
      "model_module_version": "1.2.0",
      "model_name": "LayoutModel",
      "state": {
       "justify_content": "center"
      }
     },
     "4bb7bf8c02234f87befbc64eb0377c6e": {
      "model_module": "@jupyter-widgets/controls",
      "model_module_version": "1.5.0",
      "model_name": "ButtonModel",
      "state": {
       "description": "rekursiv aufzählbar",
       "layout": "IPY_MODEL_a1338474e95a4017abde8de91a5af126",
       "style": "IPY_MODEL_2a4e0f8bcaf045ae96c5791761c0c62a"
      }
     },
     "4bec84328d8c4bbaa7aea9a4e14f7ad1": {
      "model_module": "@jupyter-widgets/base",
      "model_module_version": "1.2.0",
      "model_name": "LayoutModel",
      "state": {
       "justify_content": "center"
      }
     },
     "4bf21769ec3744f1a79c87b2d9eb11a6": {
      "model_module": "@jupyter-widgets/controls",
      "model_module_version": "1.5.0",
      "model_name": "DescriptionStyleModel",
      "state": {
       "description_width": ""
      }
     },
     "4c1ae2a8a6be43cf9e7e03f6ddf0bcdc": {
      "model_module": "@jupyter-widgets/base",
      "model_module_version": "1.2.0",
      "model_name": "LayoutModel",
      "state": {
       "width": "600px"
      }
     },
     "4c4f21c08e854e2fb319a52034c6bcff": {
      "model_module": "@jupyter-widgets/controls",
      "model_module_version": "1.5.0",
      "model_name": "VBoxModel",
      "state": {
       "children": [
        "IPY_MODEL_ee279b2dcc614ce9ac571d3b85a46423",
        "IPY_MODEL_afa379dd62824d4699f228fd22e4f37b",
        "IPY_MODEL_7d9527081e8942f6a097b2504d627c14",
        "IPY_MODEL_fc8a911bc4984a85a9b744dbdafd2168",
        "IPY_MODEL_5f7abe464aae447297c833a59ad03cfb",
        "IPY_MODEL_805423142b014f57b24c6b7df05859ba",
        "IPY_MODEL_f84c9f9b57d7455db67d7f8c8756b254",
        "IPY_MODEL_e6b52f4816c64588972781094a1adfd1"
       ],
       "layout": "IPY_MODEL_d0d9c3162f2248398e0426633677da70"
      }
     },
     "4c62c4ce64324e158384efd17be914d5": {
      "model_module": "@jupyter-widgets/base",
      "model_module_version": "1.2.0",
      "model_name": "LayoutModel",
      "state": {
       "justify_content": "center"
      }
     },
     "4c6429fceb9f46c8b7b14573c13a158f": {
      "model_module": "@jupyter-widgets/controls",
      "model_module_version": "1.5.0",
      "model_name": "ButtonStyleModel",
      "state": {}
     },
     "4c897601d2d74643b78769bfe9494833": {
      "model_module": "@jupyter-widgets/controls",
      "model_module_version": "1.5.0",
      "model_name": "VBoxModel",
      "state": {
       "children": [
        "IPY_MODEL_2dc3172490dd49688f46a3336f4721b6",
        "IPY_MODEL_34c63ed452274e399d08c4123f82cbf1",
        "IPY_MODEL_647deaaa078d451d845a23d19296fe8e",
        "IPY_MODEL_400701b298f0473f80822b70ae9abd61"
       ],
       "layout": "IPY_MODEL_a1d85dffe22541dc917ef02d49d7e81b"
      }
     },
     "4c9acdca2f3142deac40ea7789e0fc68": {
      "model_module": "@jupyter-widgets/controls",
      "model_module_version": "1.5.0",
      "model_name": "DescriptionStyleModel",
      "state": {
       "description_width": "initial"
      }
     },
     "4cf0f787c976457c8858ab2fb734aa0e": {
      "model_module": "@jupyter-widgets/controls",
      "model_module_version": "1.5.0",
      "model_name": "DescriptionStyleModel",
      "state": {
       "description_width": "initial"
      }
     },
     "4cfc66e9cf3a479b9050145cc6c77fa4": {
      "model_module": "@jupyter-widgets/controls",
      "model_module_version": "1.5.0",
      "model_name": "ButtonModel",
      "state": {
       "description": "center-embedding",
       "layout": "IPY_MODEL_53540fc5298140e7939895035047f665",
       "style": "IPY_MODEL_d96437afc29843ed9c24326d7985f472"
      }
     },
     "4d07d6fa17cb4f3bbb553edc7b6d0652": {
      "model_module": "@jupyter-widgets/controls",
      "model_module_version": "1.5.0",
      "model_name": "VBoxModel",
      "state": {
       "children": [
        "IPY_MODEL_3693faddd4234d4cad61d22a3a03b145",
        "IPY_MODEL_afb4044cf3f049d2ab14f56733e2771b",
        "IPY_MODEL_cce2c1d457fc499eae1d7379b095882e",
        "IPY_MODEL_8acad25ca1bd4fb1bce235d2cd628cda",
        "IPY_MODEL_f08f549d32c24f33b4cebe2037664370",
        "IPY_MODEL_27a58f78b30e40709f7cb0be86689e20",
        "IPY_MODEL_bd832bae275644fd808475afee3c60c7",
        "IPY_MODEL_6fdd3734b1d24c24b3e36866dfc1c2ac"
       ],
       "layout": "IPY_MODEL_f367b90e107d413c8f6a0561e9cbd22e"
      }
     },
     "4d1fc563519348d1be419bfa99235d5c": {
      "model_module": "@jupyter-widgets/controls",
      "model_module_version": "1.5.0",
      "model_name": "HTMLModel",
      "state": {
       "layout": "IPY_MODEL_9530a192ac7741628f39f95b2e4c21d8",
       "style": "IPY_MODEL_95b92341655b468389fcd64606ae44a8",
       "value": "<h4 style=\"font-size:14px;\">Sind Teile des Satzes ambig?</h4>"
      }
     },
     "4d2306f54ac54498b2e34af7c02b77da": {
      "model_module": "@jupyter-widgets/controls",
      "model_module_version": "1.5.0",
      "model_name": "HTMLModel",
      "state": {
       "layout": "IPY_MODEL_39f38228a8b345a892eba703bb7eaab8",
       "style": "IPY_MODEL_cf6b7fc7f0e541d5b3a92c8754f4a793",
       "value": "<i>Wählen Sie die <ins>eine</ins> korrekte Antwort aus: </i>"
      }
     },
     "4d37997780ff40ee88e9e96a4740a48b": {
      "model_module": "@jupyter-widgets/base",
      "model_module_version": "1.2.0",
      "model_name": "LayoutModel",
      "state": {}
     },
     "4d7a73781d7040f3b0ad149cdfa3f658": {
      "model_module": "@jupyter-widgets/controls",
      "model_module_version": "1.5.0",
      "model_name": "HTMLModel",
      "state": {
       "layout": "IPY_MODEL_e6677f95db94406db95047da69050424",
       "style": "IPY_MODEL_d21aee8f9eda44aead583b189195a4bb",
       "value": "<h4 style=\"font-size:14px;\">Sind Teile des Satzes ambig?</h4>"
      }
     },
     "4d8d32b3458b45f291a2726aa4246785": {
      "model_module": "@jupyter-widgets/controls",
      "model_module_version": "1.5.0",
      "model_name": "DescriptionStyleModel",
      "state": {
       "description_width": "initial"
      }
     },
     "4da4d27b3786446ea440ed6e524de9f0": {
      "model_module": "@jupyter-widgets/controls",
      "model_module_version": "1.5.0",
      "model_name": "DescriptionStyleModel",
      "state": {
       "description_width": "initial"
      }
     },
     "4dcc8b713ebe4d498f9045ddde09771d": {
      "model_module": "@jupyter-widgets/controls",
      "model_module_version": "1.5.0",
      "model_name": "CheckboxModel",
      "state": {
       "description": "Accuracy = true positives / Anzahl aller Vorhersagen",
       "disabled": false,
       "layout": "IPY_MODEL_a24323b658f347b58aae7445ab88e43d",
       "style": "IPY_MODEL_0e20fb93988a4b24996aa46950a6be62",
       "value": false
      }
     },
     "4dd53e7fa7134915a27edc26fcb38113": {
      "model_module": "@jupyter-widgets/base",
      "model_module_version": "1.2.0",
      "model_name": "LayoutModel",
      "state": {
       "width": "600px"
      }
     },
     "4e0180ca450a40aab76279d140e49885": {
      "model_module": "@jupyter-widgets/controls",
      "model_module_version": "1.5.0",
      "model_name": "HTMLModel",
      "state": {
       "layout": "IPY_MODEL_f141b18af6684018a271b36d472101de",
       "style": "IPY_MODEL_2f719ea2fc3245e4ba50acd3db03aea9",
       "value": "<h4 style=\"font-size:14px;\">Was kann mit Chinking erreicht werden?</h4>"
      }
     },
     "4e02591950674a5d844e600be6498f79": {
      "model_module": "@jupyter-widgets/base",
      "model_module_version": "1.2.0",
      "model_name": "LayoutModel",
      "state": {
       "width": "600px"
      }
     },
     "4e20043a055d46b7acf6c74480e8ad80": {
      "model_module": "@jupyter-widgets/controls",
      "model_module_version": "1.5.0",
      "model_name": "ButtonStyleModel",
      "state": {}
     },
     "4e2a81bd21c34428bf32532ef179e2d9": {
      "model_module": "@jupyter-widgets/controls",
      "model_module_version": "1.5.0",
      "model_name": "ButtonStyleModel",
      "state": {}
     },
     "4e36352b2db54505a09ac6fa772fc250": {
      "model_module": "@jupyter-widgets/base",
      "model_module_version": "1.2.0",
      "model_name": "LayoutModel",
      "state": {
       "justify_content": "center"
      }
     },
     "4e4c04f316fa46dfb3001bf64f799bba": {
      "model_module": "@jupyter-widgets/controls",
      "model_module_version": "1.5.0",
      "model_name": "DescriptionStyleModel",
      "state": {
       "description_width": "initial"
      }
     },
     "4e595e33fc374b58ba820af0581996ee": {
      "model_module": "@jupyter-widgets/controls",
      "model_module_version": "1.5.0",
      "model_name": "VBoxModel",
      "state": {
       "children": [
        "IPY_MODEL_2e1e028a18f048a8ab0c51eef5d0cdc3",
        "IPY_MODEL_f14de5a914464eb58e9a38024040131c",
        "IPY_MODEL_dfad95b7fbf84c8daee718bd270015f2",
        "IPY_MODEL_1a50a2eff2594eaea4e18b57b64d2b5e"
       ],
       "layout": "IPY_MODEL_de1a56395001453bbabc12f039f329f1"
      }
     },
     "4e5f83a5de6e47a288f22340f96aa918": {
      "model_module": "@jupyter-widgets/controls",
      "model_module_version": "1.5.0",
      "model_name": "HTMLModel",
      "state": {
       "layout": "IPY_MODEL_5a521f3be0594806bfcf42abed8d52c1",
       "style": "IPY_MODEL_a2b6bf3988424e70a6b2ee2014671c9a",
       "value": "<h4 style=\"font-size:14px;\">Was kann mit Chinking erreicht werden?</h4>"
      }
     },
     "4e72a859b91843108d52e809365a66a7": {
      "model_module": "@jupyter-widgets/controls",
      "model_module_version": "1.5.0",
      "model_name": "ButtonStyleModel",
      "state": {}
     },
     "4e98aad35e2540b5bb7fab38de97e25e": {
      "model_module": "@jupyter-widgets/controls",
      "model_module_version": "1.5.0",
      "model_name": "VBoxModel",
      "state": {
       "children": [
        "IPY_MODEL_be9c442ff99c4a9a8b01ef693df46b49",
        "IPY_MODEL_f0e47601e5964535864d60827eaa3a31",
        "IPY_MODEL_7fe47a63a4624dfcb9faf81892cd9812",
        "IPY_MODEL_11cf008dabe24ab28533656b6ca7c598"
       ],
       "layout": "IPY_MODEL_d469df62211d47d0ae72304fbbf894c2"
      }
     },
     "4e9a9696460144c5bb94c82ee848a045": {
      "model_module": "@jupyter-widgets/controls",
      "model_module_version": "1.5.0",
      "model_name": "ButtonModel",
      "state": {
       "description": "regulär",
       "layout": "IPY_MODEL_d990f4d5a19e489699b0c9459141dff1",
       "style": "IPY_MODEL_edb3f06626874cb480caa941e9ac4a51"
      }
     },
     "4eaabf0b00f24383a124c929b3827578": {
      "model_module": "@jupyter-widgets/base",
      "model_module_version": "1.2.0",
      "model_name": "LayoutModel",
      "state": {
       "width": "250px"
      }
     },
     "4eadc9df14824c95bf9fa0d81b3ff629": {
      "model_module": "@jupyter-widgets/controls",
      "model_module_version": "1.5.0",
      "model_name": "HBoxModel",
      "state": {
       "children": [
        "IPY_MODEL_79709cc8d75c4f82a8d5f6cc805ba7b2",
        "IPY_MODEL_7c618d41cd4f4fc3a975e214a0d6b1ef"
       ],
       "layout": "IPY_MODEL_dfc1c541283844e69d6e1e7fa91bc2f4"
      }
     },
     "4ee6191c0e744dc1bd81d164adb734c8": {
      "model_module": "@jupyter-widgets/base",
      "model_module_version": "1.2.0",
      "model_name": "LayoutModel",
      "state": {
       "width": "600px"
      }
     },
     "4f30b21edcd34f41a7e8588df99a4fb7": {
      "model_module": "@jupyter-widgets/controls",
      "model_module_version": "1.5.0",
      "model_name": "HTMLModel",
      "state": {
       "layout": "IPY_MODEL_e3cb991ff4ed491dba048e8bbe280c3a",
       "style": "IPY_MODEL_fc9a228de5d047b9ab2eb2285d27d929",
       "value": "<i>Markieren Sie <ins>alle</ins> passenden Antworten: </i>"
      }
     },
     "4f37ea5ba7f243bba5dbb7b617bfaf3a": {
      "model_module": "@jupyter-widgets/controls",
      "model_module_version": "1.5.0",
      "model_name": "DescriptionStyleModel",
      "state": {
       "description_width": "initial"
      }
     },
     "4f773e37c5b349f5a1ad30a0c7af898d": {
      "model_module": "@jupyter-widgets/controls",
      "model_module_version": "1.5.0",
      "model_name": "ButtonModel",
      "state": {
       "description": "garden-path",
       "layout": "IPY_MODEL_5d19692b68574f1fb6a11392710f097b",
       "style": "IPY_MODEL_ebafd5c97aed4a90a5f18b638e6f78ac"
      }
     },
     "4fa0ada8f85642409d95bd7a271b0699": {
      "model_module": "@jupyter-widgets/base",
      "model_module_version": "1.2.0",
      "model_name": "LayoutModel",
      "state": {
       "width": "250px"
      }
     },
     "4fae280511284704840f345736d5adaf": {
      "model_module": "@jupyter-widgets/controls",
      "model_module_version": "1.5.0",
      "model_name": "HTMLModel",
      "state": {
       "layout": "IPY_MODEL_2bfd7f27b6344ec0bc5be133495cc4a3",
       "style": "IPY_MODEL_ffe765b8210d449883a610644a1efba1",
       "value": "<i>Wählen Sie die <ins>eine</ins> korrekte Antwort aus: </i>"
      }
     },
     "4fc0ba0da3cf4140a54dba9a2686d684": {
      "model_module": "@jupyter-widgets/controls",
      "model_module_version": "1.5.0",
      "model_name": "HBoxModel",
      "state": {
       "children": [
        "IPY_MODEL_2047953043c648219fcbba33017809da",
        "IPY_MODEL_17efecdf9ee24ddabbbbb27e0334f01d"
       ],
       "layout": "IPY_MODEL_0cf7b012f34f4efa834a78d17ea1c66e"
      }
     },
     "4fd0218474214a9d9f236c0ab6c15163": {
      "model_module": "@jupyter-widgets/controls",
      "model_module_version": "1.5.0",
      "model_name": "DescriptionStyleModel",
      "state": {
       "description_width": ""
      }
     },
     "4fff4857b09e4dfba407d22b063b52e4": {
      "model_module": "@jupyter-widgets/controls",
      "model_module_version": "1.5.0",
      "model_name": "DescriptionStyleModel",
      "state": {
       "description_width": "initial"
      }
     },
     "5072d6e6e4c74e60b6bdd78f13bb3d7e": {
      "model_module": "@jupyter-widgets/controls",
      "model_module_version": "1.5.0",
      "model_name": "DescriptionStyleModel",
      "state": {
       "description_width": "initial"
      }
     },
     "5082cd46a71744d995677d437e53695f": {
      "model_module": "@jupyter-widgets/base",
      "model_module_version": "1.2.0",
      "model_name": "LayoutModel",
      "state": {}
     },
     "50ca1528a27a46088f8a5ea0053e9e92": {
      "model_module": "@jupyter-widgets/controls",
      "model_module_version": "1.5.0",
      "model_name": "HBoxModel",
      "state": {
       "children": [
        "IPY_MODEL_1184256ef83743fcb715c2da7c081838",
        "IPY_MODEL_6c090298509449dc83a505e2066fb5f3"
       ],
       "layout": "IPY_MODEL_e5e31cfac402494a8ed231944c35f17b"
      }
     },
     "50d94d62fdbe4c268d7f6f2ceb415a89": {
      "model_module": "@jupyter-widgets/base",
      "model_module_version": "1.2.0",
      "model_name": "LayoutModel",
      "state": {}
     },
     "51383ded30504e5a9b25b836b629cf3e": {
      "model_module": "@jupyter-widgets/base",
      "model_module_version": "1.2.0",
      "model_name": "LayoutModel",
      "state": {}
     },
     "51398963d34a4aa2ab91a170991bf449": {
      "model_module": "@jupyter-widgets/controls",
      "model_module_version": "1.5.0",
      "model_name": "DescriptionStyleModel",
      "state": {
       "description_width": ""
      }
     },
     "51503ca9048b49dfb7b578165d086864": {
      "model_module": "@jupyter-widgets/controls",
      "model_module_version": "1.5.0",
      "model_name": "HTMLModel",
      "state": {
       "layout": "IPY_MODEL_143c13692e8141fe994983b64988bf76",
       "style": "IPY_MODEL_14917cb4d6be434d823f07c9876f9a5b",
       "value": "<i>Wählen Sie die <ins>eine</ins> korrekte Antwort aus: </i>"
      }
     },
     "5156abafbe0840fb90016f66b9020f39": {
      "model_module": "@jupyter-widgets/controls",
      "model_module_version": "1.5.0",
      "model_name": "VBoxModel",
      "state": {
       "children": [
        "IPY_MODEL_b0972663e2684d07b1fc2c66556a9e86",
        "IPY_MODEL_e85470da7d3f4085b52c43c39c868fee",
        "IPY_MODEL_4fc0ba0da3cf4140a54dba9a2686d684"
       ],
       "layout": "IPY_MODEL_61859d2e96224780b87d3b75aa02e465"
      }
     },
     "51a4c24c5aaa4345adb2c45f91d4eb92": {
      "model_module": "@jupyter-widgets/controls",
      "model_module_version": "1.5.0",
      "model_name": "ButtonStyleModel",
      "state": {}
     },
     "51b9503d79ab4793ba1de6df5d1f5743": {
      "model_module": "@jupyter-widgets/controls",
      "model_module_version": "1.5.0",
      "model_name": "DescriptionStyleModel",
      "state": {
       "description_width": ""
      }
     },
     "51dfaef0e8c14ee48e7ea9e850351cd6": {
      "model_module": "@jupyter-widgets/controls",
      "model_module_version": "1.5.0",
      "model_name": "HBoxModel",
      "state": {
       "children": [
        "IPY_MODEL_e2b1c20bee994c6eb0c76b210b302c30",
        "IPY_MODEL_f12c9a58a5224b7f897dc6f685689f34"
       ],
       "layout": "IPY_MODEL_3e5b8fd3f89e488aac3031d410b52078"
      }
     },
     "51f8f48656544c709e4bca49bcc9d36c": {
      "model_module": "@jupyter-widgets/controls",
      "model_module_version": "1.5.0",
      "model_name": "HBoxModel",
      "state": {
       "children": [
        "IPY_MODEL_b27e7261baae46e1a65ac67ef2d7a280",
        "IPY_MODEL_f0568f5e13884f8ab63410456bbff54f"
       ],
       "layout": "IPY_MODEL_fadf684b36f445af8d23735c11155ec6"
      }
     },
     "52130206762b428b820c19fdc0fc8247": {
      "model_module": "@jupyter-widgets/base",
      "model_module_version": "1.2.0",
      "model_name": "LayoutModel",
      "state": {}
     },
     "5225af8902614290b981cdd2d77d6bd6": {
      "model_module": "@jupyter-widgets/base",
      "model_module_version": "1.2.0",
      "model_name": "LayoutModel",
      "state": {
       "width": "600px"
      }
     },
     "522633562f9c4f179e942cd26ce37c1f": {
      "model_module": "@jupyter-widgets/controls",
      "model_module_version": "1.5.0",
      "model_name": "DescriptionStyleModel",
      "state": {
       "description_width": "initial"
      }
     },
     "526e0f4bc6664b5a8d3200bc12616be6": {
      "model_module": "@jupyter-widgets/controls",
      "model_module_version": "1.5.0",
      "model_name": "ButtonModel",
      "state": {
       "description": "regular expressions",
       "layout": "IPY_MODEL_2e29d92963464833b993ab217e08497b",
       "style": "IPY_MODEL_fc6770c8c62c44dd896c224eb9c830d2"
      }
     },
     "529310de72a841a5accba3e965046910": {
      "model_module": "@jupyter-widgets/base",
      "model_module_version": "1.2.0",
      "model_name": "LayoutModel",
      "state": {
       "width": "250px"
      }
     },
     "52acdf38b7da4c398e5c9e3d47ac3bee": {
      "model_module": "@jupyter-widgets/controls",
      "model_module_version": "1.5.0",
      "model_name": "ButtonModel",
      "state": {
       "description": "Keine der anderen Möglichkeiten",
       "layout": "IPY_MODEL_78f6a0fbb91e404da8829fddf0a568ec",
       "style": "IPY_MODEL_1dbdbcc987fc4e53baf809e47c97011a"
      }
     },
     "52fe424295b342ef9705397a048588cb": {
      "model_module": "@jupyter-widgets/base",
      "model_module_version": "1.2.0",
      "model_name": "LayoutModel",
      "state": {
       "justify_content": "center"
      }
     },
     "534384f5426e43e2bd6fb2055a01f895": {
      "model_module": "@jupyter-widgets/base",
      "model_module_version": "1.2.0",
      "model_name": "LayoutModel",
      "state": {
       "justify_content": "center"
      }
     },
     "53540fc5298140e7939895035047f665": {
      "model_module": "@jupyter-widgets/base",
      "model_module_version": "1.2.0",
      "model_name": "LayoutModel",
      "state": {
       "width": "250px"
      }
     },
     "53609abd7f3a4bfb93d5c7f7739f6ebd": {
      "model_module": "@jupyter-widgets/controls",
      "model_module_version": "1.5.0",
      "model_name": "ButtonStyleModel",
      "state": {}
     },
     "53923dccbbd74f428e948b39e7375e39": {
      "model_module": "@jupyter-widgets/controls",
      "model_module_version": "1.5.0",
      "model_name": "VBoxModel",
      "state": {
       "children": [
        "IPY_MODEL_fc401b3008744b06ac658120d3dad33c",
        "IPY_MODEL_7f0dd1e7c51e441eb8be788b35b1d8c6",
        "IPY_MODEL_3381b3ea099d44e4b6a6eb10f9bd5233"
       ],
       "layout": "IPY_MODEL_a78d8bea9e3043329261a4b5b33831b1"
      }
     },
     "54022c9d4a5c4688b1265718c6f83f62": {
      "model_module": "@jupyter-widgets/base",
      "model_module_version": "1.2.0",
      "model_name": "LayoutModel",
      "state": {}
     },
     "541c90beb2f84334bc9794144abf1cee": {
      "model_module": "@jupyter-widgets/controls",
      "model_module_version": "1.5.0",
      "model_name": "HBoxModel",
      "state": {
       "children": [
        "IPY_MODEL_2fa3c08c54ac450a8d1b21f9b78975a1",
        "IPY_MODEL_41a566dcb1ba4e32a89899284719437c"
       ],
       "layout": "IPY_MODEL_6c367fd3623e4c6a8f9e5122870b971b"
      }
     },
     "54260da12cee49b2be24d161247ea171": {
      "model_module": "@jupyter-widgets/controls",
      "model_module_version": "1.5.0",
      "model_name": "HBoxModel",
      "state": {
       "children": [
        "IPY_MODEL_c29301dfe69840bea85190f5abf0504a",
        "IPY_MODEL_c64ff67b7b7f40b1b03cd5316fe44f66"
       ],
       "layout": "IPY_MODEL_a5aa59bc5ed44b1cb41f849582d8fb33"
      }
     },
     "543468fcf9924e40838dbc0a1eced23c": {
      "model_module": "@jupyter-widgets/controls",
      "model_module_version": "1.5.0",
      "model_name": "ButtonModel",
      "state": {
       "description": "Keine der anderen Möglichkeiten",
       "layout": "IPY_MODEL_a6885f0d048847fb8e5f418ec3fd405e",
       "style": "IPY_MODEL_fe60012a758144b4bffbcdaf17b3e0a1"
      }
     },
     "54349ec7b6174de2bdb7cd9d2458d886": {
      "model_module": "@jupyter-widgets/base",
      "model_module_version": "1.2.0",
      "model_name": "LayoutModel",
      "state": {}
     },
     "5438164903db46cabb2f4536a18f7ebe": {
      "model_module": "@jupyter-widgets/controls",
      "model_module_version": "1.5.0",
      "model_name": "HTMLModel",
      "state": {
       "layout": "IPY_MODEL_228ff2eb69494f2ba644c68f43cd20e5",
       "style": "IPY_MODEL_2e5fef6710d440ab8c02a39138147fdf",
       "value": "<h4 style=\"font-size:14px;\">Welche Klammern zeigen Chinking an?</h4>"
      }
     },
     "543b655f0fc04f57beff2e8a5d9c0d1e": {
      "model_module": "@jupyter-widgets/base",
      "model_module_version": "1.2.0",
      "model_name": "LayoutModel",
      "state": {
       "width": "250px"
      }
     },
     "54467b11300646bc8edfde0b73303031": {
      "model_module": "@jupyter-widgets/base",
      "model_module_version": "1.2.0",
      "model_name": "LayoutModel",
      "state": {
       "justify_content": "center"
      }
     },
     "549ae7ee38c34047800f9443ce8712ad": {
      "model_module": "@jupyter-widgets/controls",
      "model_module_version": "1.5.0",
      "model_name": "DescriptionStyleModel",
      "state": {
       "description_width": ""
      }
     },
     "54a7737dab96402abd169b581a53986a": {
      "model_module": "@jupyter-widgets/controls",
      "model_module_version": "1.5.0",
      "model_name": "VBoxModel",
      "state": {
       "children": [
        "IPY_MODEL_f58130df2e6f43bf9c02a83820dbd40a",
        "IPY_MODEL_c908288394004edb8ae547cad1b5cab1",
        "IPY_MODEL_dce06b10f7b64aa5b4de8acd486bafc3",
        "IPY_MODEL_f64f2cb803bf4cb985d7a1a08693cf93"
       ],
       "layout": "IPY_MODEL_253b59ca13b84911bc1fe140d0d9bbbc"
      }
     },
     "54aa7a8418074822bf0c974e82cd5c4e": {
      "model_module": "@jupyter-widgets/base",
      "model_module_version": "1.2.0",
      "model_name": "LayoutModel",
      "state": {
       "width": "250px"
      }
     },
     "54ac5e44dbc249529607372d9d3ccde8": {
      "model_module": "@jupyter-widgets/controls",
      "model_module_version": "1.5.0",
      "model_name": "VBoxModel",
      "state": {
       "children": [
        "IPY_MODEL_0de003c030174664ad7a47804efe9b76",
        "IPY_MODEL_c2e408c11b44438f887ee9f08f5986c0",
        "IPY_MODEL_432c1aab71a44cb299e63c8fc6cebb57",
        "IPY_MODEL_645c334fd1564b5e9ba25db52aac3721"
       ],
       "layout": "IPY_MODEL_61db05846b4f4335a39615b73e822e9f"
      }
     },
     "54b38a34e15e48c1beeb57ba41f9631e": {
      "model_module": "@jupyter-widgets/controls",
      "model_module_version": "1.5.0",
      "model_name": "CheckboxModel",
      "state": {
       "description": "Accuracy = gefundene tp / alle Vorhersagen",
       "disabled": false,
       "layout": "IPY_MODEL_01cf27f0815d44bdbaebc7045098f2f1",
       "style": "IPY_MODEL_6c8fd67e481a476ea286a6b52d34a046",
       "value": false
      }
     },
     "54cca3552b824177a0b7e95aa99b8578": {
      "model_module": "@jupyter-widgets/controls",
      "model_module_version": "1.5.0",
      "model_name": "ButtonStyleModel",
      "state": {}
     },
     "54f33b92c051456d9a3424f25821e456": {
      "model_module": "@jupyter-widgets/controls",
      "model_module_version": "1.5.0",
      "model_name": "DescriptionStyleModel",
      "state": {
       "description_width": ""
      }
     },
     "54f502092db3475cb66897fe3dd9c36c": {
      "model_module": "@jupyter-widgets/controls",
      "model_module_version": "1.5.0",
      "model_name": "ButtonStyleModel",
      "state": {}
     },
     "5514abc344b742fa90218f0dac75b02d": {
      "model_module": "@jupyter-widgets/base",
      "model_module_version": "1.2.0",
      "model_name": "LayoutModel",
      "state": {
       "width": "250px"
      }
     },
     "553598b9bc244c26b6a2ef22c65d9e62": {
      "model_module": "@jupyter-widgets/controls",
      "model_module_version": "1.5.0",
      "model_name": "HTMLModel",
      "state": {
       "layout": "IPY_MODEL_f8cec373238b455185f5012102b87b4c",
       "style": "IPY_MODEL_3f01919379ae4797a61e4ca674b954be",
       "value": "<h4 style=\"font-size:14px;\">Wozu sind Tag Pattern ähnlich?</h4>"
      }
     },
     "555065ff3b2c482fabe358ee998d0afb": {
      "model_module": "@jupyter-widgets/controls",
      "model_module_version": "1.5.0",
      "model_name": "ButtonStyleModel",
      "state": {}
     },
     "558489a059584bc4b35043e1457e7850": {
      "model_module": "@jupyter-widgets/controls",
      "model_module_version": "1.5.0",
      "model_name": "DescriptionStyleModel",
      "state": {
       "description_width": ""
      }
     },
     "558da663e70b4d74a1bd376404b71c3c": {
      "model_module": "@jupyter-widgets/controls",
      "model_module_version": "1.5.0",
      "model_name": "VBoxModel",
      "state": {
       "children": [
        "IPY_MODEL_332a51a562ed46dcb80d886d6d80c27c",
        "IPY_MODEL_8e91486233c249208f1a4d0b15abe8d6",
        "IPY_MODEL_f9c85dd26aa34d7aa01fa83b9088086c"
       ],
       "layout": "IPY_MODEL_3e428a3841384c2f902871d4f5d83ed7"
      }
     },
     "55a152d49db94ac09ec53d51cc81dceb": {
      "model_module": "@jupyter-widgets/base",
      "model_module_version": "1.2.0",
      "model_name": "LayoutModel",
      "state": {
       "width": "600px"
      }
     },
     "55a3108aeb234cafa59e9fe823a81f92": {
      "model_module": "@jupyter-widgets/controls",
      "model_module_version": "1.5.0",
      "model_name": "DescriptionStyleModel",
      "state": {
       "description_width": ""
      }
     },
     "55b5beb9b3f745bc873d965023c4e354": {
      "model_module": "@jupyter-widgets/controls",
      "model_module_version": "1.5.0",
      "model_name": "DescriptionStyleModel",
      "state": {
       "description_width": "initial"
      }
     },
     "55c393fd81264c49a8844ef4ebc3294d": {
      "model_module": "@jupyter-widgets/base",
      "model_module_version": "1.2.0",
      "model_name": "LayoutModel",
      "state": {}
     },
     "55d0db5f33b04444a6e82ba5178cfa01": {
      "model_module": "@jupyter-widgets/base",
      "model_module_version": "1.2.0",
      "model_name": "LayoutModel",
      "state": {}
     },
     "55d15f89117b485093ad7cd4052123aa": {
      "model_module": "@jupyter-widgets/base",
      "model_module_version": "1.2.0",
      "model_name": "LayoutModel",
      "state": {}
     },
     "563ed4f86f8b4ffaa138c0cae1ed0099": {
      "model_module": "@jupyter-widgets/controls",
      "model_module_version": "1.5.0",
      "model_name": "HBoxModel",
      "state": {
       "children": [
        "IPY_MODEL_607a73b4af2f42f48763fa86d05dfa25",
        "IPY_MODEL_dccbde909098431faf92bf8b21d07759"
       ],
       "layout": "IPY_MODEL_80f9fe46d9c143a697ac600e41447dc5"
      }
     },
     "5650cea00a964f268863725c13c1276f": {
      "model_module": "@jupyter-widgets/base",
      "model_module_version": "1.2.0",
      "model_name": "LayoutModel",
      "state": {
       "justify_content": "center"
      }
     },
     "567f1f54ff2a400db8ef567a50cfbc4e": {
      "model_module": "@jupyter-widgets/base",
      "model_module_version": "1.2.0",
      "model_name": "LayoutModel",
      "state": {}
     },
     "5692619c62b440c98ba133b478de4e97": {
      "model_module": "@jupyter-widgets/base",
      "model_module_version": "1.2.0",
      "model_name": "LayoutModel",
      "state": {}
     },
     "56ca1451dc5f4e8e8dd642185cb986a5": {
      "model_module": "@jupyter-widgets/base",
      "model_module_version": "1.2.0",
      "model_name": "LayoutModel",
      "state": {
       "justify_content": "center"
      }
     },
     "56d41e82696a491c872af17ea7f43956": {
      "model_module": "@jupyter-widgets/base",
      "model_module_version": "1.2.0",
      "model_name": "LayoutModel",
      "state": {}
     },
     "56f8b66a1159497dadec00ba4788fde6": {
      "model_module": "@jupyter-widgets/controls",
      "model_module_version": "1.5.0",
      "model_name": "ButtonModel",
      "state": {
       "description": "XML-Tags",
       "layout": "IPY_MODEL_086aa3cc01f148bba3fd85b701760e6e",
       "style": "IPY_MODEL_75b636b493804e32b1ec5e66672aa153"
      }
     },
     "570cb711cca64c5fab7b89b75dd21a09": {
      "model_module": "@jupyter-widgets/base",
      "model_module_version": "1.2.0",
      "model_name": "LayoutModel",
      "state": {}
     },
     "574e1a48a81c49978e207b7e5e1139b2": {
      "model_module": "@jupyter-widgets/controls",
      "model_module_version": "1.5.0",
      "model_name": "CheckboxModel",
      "state": {
       "description": "Chunks sind oft länger als Phrasen.",
       "disabled": false,
       "layout": "IPY_MODEL_b4dc0eb0cfbb4c2cadb12986627af5c8",
       "style": "IPY_MODEL_e0b18c39d2c34be3b46cccc43c49085e",
       "value": false
      }
     },
     "5756141f86054b63a82571dfeb1bfe71": {
      "model_module": "@jupyter-widgets/base",
      "model_module_version": "1.2.0",
      "model_name": "LayoutModel",
      "state": {}
     },
     "5778784afda2413dbaa7cd3de8d8738c": {
      "model_module": "@jupyter-widgets/base",
      "model_module_version": "1.2.0",
      "model_name": "LayoutModel",
      "state": {
       "justify_content": "center"
      }
     },
     "579ca2e3285248f3b7347f2500c9faec": {
      "model_module": "@jupyter-widgets/base",
      "model_module_version": "1.2.0",
      "model_name": "LayoutModel",
      "state": {
       "width": "600px"
      }
     },
     "57d3461862ab42ff8632daf10dacd461": {
      "model_module": "@jupyter-widgets/controls",
      "model_module_version": "1.5.0",
      "model_name": "DropdownModel",
      "state": {
       "_options_labels": [
        "1",
        "2",
        "3",
        "4",
        "Keine der Alternativen"
       ],
       "description": "Antwort:",
       "index": 0,
       "layout": "IPY_MODEL_93091481834d45e2b691c16ec289b725",
       "style": "IPY_MODEL_4a0ebcb6be984ed88e2a6090ff0cdc5b"
      }
     },
     "57e25533492e469290dbb16e53789900": {
      "model_module": "@jupyter-widgets/base",
      "model_module_version": "1.2.0",
      "model_name": "LayoutModel",
      "state": {
       "width": "600px"
      }
     },
     "581efb3187f549a99fa4c606c0dad612": {
      "model_module": "@jupyter-widgets/base",
      "model_module_version": "1.2.0",
      "model_name": "LayoutModel",
      "state": {}
     },
     "582a0c6b3888431d837839d3e2a96f86": {
      "model_module": "@jupyter-widgets/base",
      "model_module_version": "1.2.0",
      "model_name": "LayoutModel",
      "state": {
       "justify_content": "center"
      }
     },
     "5837a5fc6384463f85a12431a6605589": {
      "model_module": "@jupyter-widgets/base",
      "model_module_version": "1.2.0",
      "model_name": "LayoutModel",
      "state": {}
     },
     "583f0a6922804c2d8bba0c1d96ddef90": {
      "model_module": "@jupyter-widgets/controls",
      "model_module_version": "1.5.0",
      "model_name": "DescriptionStyleModel",
      "state": {
       "description_width": "initial"
      }
     },
     "583f6c895d4a47279f00f14406f71259": {
      "model_module": "@jupyter-widgets/controls",
      "model_module_version": "1.5.0",
      "model_name": "ButtonModel",
      "state": {
       "description": "garden-path sentence",
       "layout": "IPY_MODEL_bc8afbdef0f14240beebd4d598465457",
       "style": "IPY_MODEL_f2452e26fdf443139843649bb2908654"
      }
     },
     "584698529ef04ffe9ce293921011fc07": {
      "model_module": "@jupyter-widgets/controls",
      "model_module_version": "1.5.0",
      "model_name": "ButtonStyleModel",
      "state": {}
     },
     "584b38a277064902b4c6416757bced04": {
      "model_module": "@jupyter-widgets/controls",
      "model_module_version": "1.5.0",
      "model_name": "ButtonStyleModel",
      "state": {}
     },
     "585c95e848c74a10ae4f04c08f597ee8": {
      "model_module": "@jupyter-widgets/controls",
      "model_module_version": "1.5.0",
      "model_name": "DescriptionStyleModel",
      "state": {
       "description_width": "initial"
      }
     },
     "5899cf3f6b494884a69c322e19410464": {
      "model_module": "@jupyter-widgets/controls",
      "model_module_version": "1.5.0",
      "model_name": "HTMLModel",
      "state": {
       "layout": "IPY_MODEL_6d595a0ab0b24ba68501009750e4f0f8",
       "style": "IPY_MODEL_348d97ca495846858e84b68e53f81312",
       "value": "<h4 style=\"font-size:14px;\">Um was für ein Sprachkonstrukt handelt es sich?</h4>"
      }
     },
     "58b2aa22c44e4d0b8b3c9c2691784035": {
      "model_module": "@jupyter-widgets/controls",
      "model_module_version": "1.5.0",
      "model_name": "ButtonModel",
      "state": {
       "description": "} {",
       "layout": "IPY_MODEL_9a8533df854d4256a6f9c2ff6501810b",
       "style": "IPY_MODEL_490a0fc8fb0649b1b466868d7e98afa9"
      }
     },
     "58c638ba0632474288dab2215faff726": {
      "model_module": "@jupyter-widgets/controls",
      "model_module_version": "1.5.0",
      "model_name": "CheckboxModel",
      "state": {
       "description": "ein Chunk wird verkürzt",
       "disabled": false,
       "layout": "IPY_MODEL_7b62884946aa4dd094a570058a69bc4f",
       "style": "IPY_MODEL_6a080e9aeece4f708a66bb0c12c49aa8",
       "value": true
      }
     },
     "58d5002a0590434fb137689cb9f95bef": {
      "model_module": "@jupyter-widgets/controls",
      "model_module_version": "1.5.0",
      "model_name": "ButtonStyleModel",
      "state": {}
     },
     "58d6cb4292874f13b82b4999adc0fc0d": {
      "model_module": "@jupyter-widgets/controls",
      "model_module_version": "1.5.0",
      "model_name": "DescriptionStyleModel",
      "state": {
       "description_width": ""
      }
     },
     "58d8f7f008f64f66bc1ec6ab9b9c4ba9": {
      "model_module": "@jupyter-widgets/base",
      "model_module_version": "1.2.0",
      "model_name": "LayoutModel",
      "state": {
       "width": "250px"
      }
     },
     "58daeb790abf41508439913e4a1d8912": {
      "model_module": "@jupyter-widgets/controls",
      "model_module_version": "1.5.0",
      "model_name": "DescriptionStyleModel",
      "state": {
       "description_width": "initial"
      }
     },
     "58f880597386468ca95da3ef31aa0722": {
      "model_module": "@jupyter-widgets/base",
      "model_module_version": "1.2.0",
      "model_name": "LayoutModel",
      "state": {
       "width": "250px"
      }
     },
     "590219c9123e42448e55d68da173dc3b": {
      "model_module": "@jupyter-widgets/controls",
      "model_module_version": "1.5.0",
      "model_name": "DescriptionStyleModel",
      "state": {
       "description_width": ""
      }
     },
     "59165eef38434c57913c94caff74c404": {
      "model_module": "@jupyter-widgets/controls",
      "model_module_version": "1.5.0",
      "model_name": "DescriptionStyleModel",
      "state": {
       "description_width": ""
      }
     },
     "5917cff003d14c2db28c057a75426182": {
      "model_module": "@jupyter-widgets/controls",
      "model_module_version": "1.5.0",
      "model_name": "HTMLModel",
      "state": {
       "layout": "IPY_MODEL_06e9f3f579984e3eb1bb7d8e0d1731eb",
       "style": "IPY_MODEL_de57bd359e2a448eaad82f422141c6f6",
       "value": "<i>Wählen Sie die <ins>eine</ins> korrekte Antwort aus: </i>"
      }
     },
     "59397002e51b4480a36f68a984ed5570": {
      "model_module": "@jupyter-widgets/base",
      "model_module_version": "1.2.0",
      "model_name": "LayoutModel",
      "state": {
       "justify_content": "center"
      }
     },
     "5944a492f09d4e289a691e2b6529e2cd": {
      "model_module": "@jupyter-widgets/controls",
      "model_module_version": "1.5.0",
      "model_name": "HTMLModel",
      "state": {
       "layout": "IPY_MODEL_91ed776b3683435a91054608fc8c777c",
       "style": "IPY_MODEL_ebdb46edc6df4458bdf47dd79c74dc36",
       "value": "<h4 style=\"font-size:14px;\">Wo ist der Unterschied zwischen Chunks und Phrasen?</h4>"
      }
     },
     "594cf199596046f6a3a9d7e47bdac162": {
      "model_module": "@jupyter-widgets/base",
      "model_module_version": "1.2.0",
      "model_name": "LayoutModel",
      "state": {}
     },
     "596c0fd92e744b13888dbbdb72ab06c4": {
      "model_module": "@jupyter-widgets/controls",
      "model_module_version": "1.5.0",
      "model_name": "ButtonStyleModel",
      "state": {}
     },
     "59791e8109a14bd2b0b280f54caffdd9": {
      "model_module": "@jupyter-widgets/controls",
      "model_module_version": "1.5.0",
      "model_name": "DescriptionStyleModel",
      "state": {
       "description_width": ""
      }
     },
     "59c09c3c4d274214bfb08829bb462071": {
      "model_module": "@jupyter-widgets/base",
      "model_module_version": "1.2.0",
      "model_name": "LayoutModel",
      "state": {}
     },
     "59c87916498b4136a143b292fa91fc2b": {
      "model_module": "@jupyter-widgets/base",
      "model_module_version": "1.2.0",
      "model_name": "LayoutModel",
      "state": {
       "width": "250px"
      }
     },
     "59dd0ea159774214a0134ae0879be889": {
      "model_module": "@jupyter-widgets/base",
      "model_module_version": "1.2.0",
      "model_name": "LayoutModel",
      "state": {}
     },
     "59e3857ca42b450da8286b6c1c62bb16": {
      "model_module": "@jupyter-widgets/controls",
      "model_module_version": "1.5.0",
      "model_name": "DescriptionStyleModel",
      "state": {
       "description_width": ""
      }
     },
     "59f4e54dca92432883251066e1e87b0d": {
      "model_module": "@jupyter-widgets/base",
      "model_module_version": "1.2.0",
      "model_name": "LayoutModel",
      "state": {}
     },
     "5a3546c85aa14bc2822169ff7937c1f6": {
      "model_module": "@jupyter-widgets/controls",
      "model_module_version": "1.5.0",
      "model_name": "ButtonModel",
      "state": {
       "description": "XML-Tags",
       "layout": "IPY_MODEL_3998a9561fba4a98b6846285c77d9b1d",
       "style": "IPY_MODEL_f7e149c01b3b4a389d240ecf5a920521"
      }
     },
     "5a521f3be0594806bfcf42abed8d52c1": {
      "model_module": "@jupyter-widgets/base",
      "model_module_version": "1.2.0",
      "model_name": "LayoutModel",
      "state": {}
     },
     "5a54e860f2864a1d87708f66b6254728": {
      "model_module": "@jupyter-widgets/controls",
      "model_module_version": "1.5.0",
      "model_name": "HTMLModel",
      "state": {
       "layout": "IPY_MODEL_5692619c62b440c98ba133b478de4e97",
       "style": "IPY_MODEL_5c0f373213704fe2872beb04487e651d",
       "value": "<h4 style=\"font-size:14px;\">Wodurch kann mit einem RegexpParser eine hierarchische Chunk-Struktur aufgebaut werden (ähnlicher den hierarchischen Analysen mit einer Phrasenstrukturgrammatik)?</h4>"
      }
     },
     "5a6f023e0bad4746bfbbd59df9898e1e": {
      "model_module": "@jupyter-widgets/base",
      "model_module_version": "1.2.0",
      "model_name": "LayoutModel",
      "state": {
       "width": "250px"
      }
     },
     "5af3da0bfffd454983ee0f8d1aa33fa4": {
      "model_module": "@jupyter-widgets/controls",
      "model_module_version": "1.5.0",
      "model_name": "ButtonStyleModel",
      "state": {}
     },
     "5b1e9436ac9a479184ab9b257d627f10": {
      "model_module": "@jupyter-widgets/controls",
      "model_module_version": "1.5.0",
      "model_name": "ButtonStyleModel",
      "state": {}
     },
     "5b1ece34e045481c99f59db787a29c6e": {
      "model_module": "@jupyter-widgets/controls",
      "model_module_version": "1.5.0",
      "model_name": "HTMLModel",
      "state": {
       "layout": "IPY_MODEL_a596529015d14c469af7fe71ac9d6a91",
       "style": "IPY_MODEL_07ee7f3deaed4b17b2c09bb2d2a48da4",
       "value": "<h4 style=\"font-size:14px;\">Um was für ein Sprachkonstrukt handelt es sich?</h4>"
      }
     },
     "5b57c013681d4ece82f7e0db6ecc9aed": {
      "model_module": "@jupyter-widgets/controls",
      "model_module_version": "1.5.0",
      "model_name": "DescriptionStyleModel",
      "state": {
       "description_width": ""
      }
     },
     "5b5ae10cf34b48f79d88b2c1a20ba631": {
      "model_module": "@jupyter-widgets/controls",
      "model_module_version": "1.5.0",
      "model_name": "VBoxModel",
      "state": {
       "children": [
        "IPY_MODEL_9f6a996433b246f4802297402fb33dab",
        "IPY_MODEL_685cbdfa6f194bf680f74ce577644e8a",
        "IPY_MODEL_d0ac966f88cc4d299509009b7687a72e"
       ],
       "layout": "IPY_MODEL_939c417fab3e47abad40b9da2509bff0"
      }
     },
     "5b723919229a48c4868665128e33daac": {
      "model_module": "@jupyter-widgets/base",
      "model_module_version": "1.2.0",
      "model_name": "LayoutModel",
      "state": {
       "width": "250px"
      }
     },
     "5b86fb3cde0841a18cbf970d49a70659": {
      "model_module": "@jupyter-widgets/base",
      "model_module_version": "1.2.0",
      "model_name": "LayoutModel",
      "state": {
       "justify_content": "center"
      }
     },
     "5ba59a210dd54f32a5fdef8b4ae6fd9b": {
      "model_module": "@jupyter-widgets/base",
      "model_module_version": "1.2.0",
      "model_name": "LayoutModel",
      "state": {
       "justify_content": "center"
      }
     },
     "5bb305f8edc24855a33a29123483b8c6": {
      "model_module": "@jupyter-widgets/controls",
      "model_module_version": "1.5.0",
      "model_name": "CheckboxModel",
      "state": {
       "description": "Precision = von allen Instanzen, für die 1 vorhergesagt wurde, wie viele wurden richtig vorhergesagt?",
       "disabled": false,
       "layout": "IPY_MODEL_00fdef718a0f44b0930bfc2b4bcdcac5",
       "style": "IPY_MODEL_e5790af5a73e4f78adadf90dbff7e06f",
       "value": false
      }
     },
     "5c0f373213704fe2872beb04487e651d": {
      "model_module": "@jupyter-widgets/controls",
      "model_module_version": "1.5.0",
      "model_name": "DescriptionStyleModel",
      "state": {
       "description_width": ""
      }
     },
     "5c1390f5423c4b068c3433ddfc344aef": {
      "model_module": "@jupyter-widgets/base",
      "model_module_version": "1.2.0",
      "model_name": "LayoutModel",
      "state": {
       "width": "600px"
      }
     },
     "5c37a7b12bf24bed8092d6ab79421141": {
      "model_module": "@jupyter-widgets/base",
      "model_module_version": "1.2.0",
      "model_name": "LayoutModel",
      "state": {
       "width": "250px"
      }
     },
     "5c6c02ff317a4c8a8e2e6674d56f792e": {
      "model_module": "@jupyter-widgets/controls",
      "model_module_version": "1.5.0",
      "model_name": "ButtonStyleModel",
      "state": {}
     },
     "5c6cc7a2201a4bce9022cf33ba9af924": {
      "model_module": "@jupyter-widgets/base",
      "model_module_version": "1.2.0",
      "model_name": "LayoutModel",
      "state": {}
     },
     "5c7adb25959c4ef9a06e366045c0287a": {
      "model_module": "@jupyter-widgets/controls",
      "model_module_version": "1.5.0",
      "model_name": "DescriptionStyleModel",
      "state": {
       "description_width": ""
      }
     },
     "5cb3783ebf694d2783b0c48f2cac0600": {
      "model_module": "@jupyter-widgets/controls",
      "model_module_version": "1.5.0",
      "model_name": "DescriptionStyleModel",
      "state": {
       "description_width": ""
      }
     },
     "5cb431b670a04e5f98436effe64fef2e": {
      "model_module": "@jupyter-widgets/controls",
      "model_module_version": "1.5.0",
      "model_name": "ButtonModel",
      "state": {
       "description": "regulär",
       "layout": "IPY_MODEL_68c93f25b812425ea154f471cbac75a9",
       "style": "IPY_MODEL_8d36a7d3136848a6b8d7dca8067fdb3d"
      }
     },
     "5cc974eefe4e47c89f5670189b66b2be": {
      "model_module": "@jupyter-widgets/base",
      "model_module_version": "1.2.0",
      "model_name": "LayoutModel",
      "state": {
       "width": "250px"
      }
     },
     "5d109e7ea9f84b38be5cd6e6214a0331": {
      "model_module": "@jupyter-widgets/controls",
      "model_module_version": "1.5.0",
      "model_name": "VBoxModel",
      "state": {
       "children": [
        "IPY_MODEL_30eae3423cb8493c8fab53bca51f3b6d",
        "IPY_MODEL_aa65a8e3b710496db96f0a912df50e83",
        "IPY_MODEL_e8535c6b469d414d95b64ebbaba8e4e9",
        "IPY_MODEL_693ac51c5e6141cfa638038c1c68a7c3"
       ],
       "layout": "IPY_MODEL_4d37997780ff40ee88e9e96a4740a48b"
      }
     },
     "5d19692b68574f1fb6a11392710f097b": {
      "model_module": "@jupyter-widgets/base",
      "model_module_version": "1.2.0",
      "model_name": "LayoutModel",
      "state": {
       "width": "250px"
      }
     },
     "5d347935b4e449c291c5ee384489849d": {
      "model_module": "@jupyter-widgets/base",
      "model_module_version": "1.2.0",
      "model_name": "LayoutModel",
      "state": {}
     },
     "5d5a678827ae46539408ef7113299cf4": {
      "model_module": "@jupyter-widgets/controls",
      "model_module_version": "1.5.0",
      "model_name": "ButtonStyleModel",
      "state": {
       "button_color": "lightgreen"
      }
     },
     "5dae379bbcee4e2cae750af30c947fa9": {
      "model_module": "@jupyter-widgets/base",
      "model_module_version": "1.2.0",
      "model_name": "LayoutModel",
      "state": {}
     },
     "5dbf541792c54a399ed2227fff12c9e2": {
      "model_module": "@jupyter-widgets/base",
      "model_module_version": "1.2.0",
      "model_name": "LayoutModel",
      "state": {
       "justify_content": "center"
      }
     },
     "5dc09bf06ca94414978291576b2da214": {
      "model_module": "@jupyter-widgets/controls",
      "model_module_version": "1.5.0",
      "model_name": "HTMLModel",
      "state": {
       "layout": "IPY_MODEL_a95506b55455461ab04c278c9ad2318d",
       "style": "IPY_MODEL_ecb7f0b6c75c46ea91212f8f17143035",
       "value": "<h4 style=\"font-size:14px;\">Was kann mit Chinking erreicht werden?</h4>"
      }
     },
     "5dc24f865a854cf99c6b8322a676b8bd": {
      "model_module": "@jupyter-widgets/controls",
      "model_module_version": "1.5.0",
      "model_name": "CheckboxModel",
      "state": {
       "description": "ein vorher erkannter Chunk wird nicht mehr erkannt",
       "disabled": false,
       "layout": "IPY_MODEL_4e02591950674a5d844e600be6498f79",
       "style": "IPY_MODEL_3f07f3e4dcdb494da50cda46a2fdcbcf",
       "value": false
      }
     },
     "5dc38dc8093445178abc4f0da9672f65": {
      "model_module": "@jupyter-widgets/controls",
      "model_module_version": "1.5.0",
      "model_name": "DescriptionStyleModel",
      "state": {
       "description_width": "initial"
      }
     },
     "5dd62fe5f69049e0ba5eeebc0f5cd9fe": {
      "model_module": "@jupyter-widgets/controls",
      "model_module_version": "1.5.0",
      "model_name": "HTMLModel",
      "state": {
       "layout": "IPY_MODEL_582a0c6b3888431d837839d3e2a96f86",
       "style": "IPY_MODEL_138b6385db7c4e5ca8fda5f62e8ef183",
       "value": "<h4 style=\"font-size:14px;\">Ist der Satz ambig?</h4>"
      }
     },
     "5e04aa4a76924d9d8a59cbd0fc62b0ba": {
      "model_module": "@jupyter-widgets/controls",
      "model_module_version": "1.5.0",
      "model_name": "HTMLModel",
      "state": {
       "layout": "IPY_MODEL_661e3bbd2d884897b356c6903b4428fe",
       "style": "IPY_MODEL_75135db5321c4a53ab77ada8e0465d44",
       "value": "<h4 style=\"font-size:14px;\">Welchem Typ muss eine Grammatik mindestens genügen, um solche Sätze modellieren zu können?</h4>"
      }
     },
     "5e0ee6fa02fd4668947890392166b455": {
      "model_module": "@jupyter-widgets/controls",
      "model_module_version": "1.5.0",
      "model_name": "HTMLModel",
      "state": {
       "layout": "IPY_MODEL_7a58ee9902134fbeade288d609a15e85",
       "style": "IPY_MODEL_825567a9ff8148f0b890a22dfa488331",
       "value": "<h4 style=\"font-size:14px;\">Ist der Satz ambig?</h4>"
      }
     },
     "5e303e720229420cbfe32818f5c77a92": {
      "model_module": "@jupyter-widgets/controls",
      "model_module_version": "1.5.0",
      "model_name": "DescriptionStyleModel",
      "state": {
       "description_width": ""
      }
     },
     "5e4ad6945af14d67b107106c52e35708": {
      "model_module": "@jupyter-widgets/controls",
      "model_module_version": "1.5.0",
      "model_name": "ButtonModel",
      "state": {
       "description": "Nein",
       "layout": "IPY_MODEL_1261d73eac334320b3b3df97c474ca02",
       "style": "IPY_MODEL_ab756cd108f04be6871709d12726bde1"
      }
     },
     "5e6afab2fdc44c53b7ce13ae0d4e76c3": {
      "model_module": "@jupyter-widgets/controls",
      "model_module_version": "1.5.0",
      "model_name": "ButtonStyleModel",
      "state": {}
     },
     "5e8f0a9a8f7540aa8dc15995e895105f": {
      "model_module": "@jupyter-widgets/base",
      "model_module_version": "1.2.0",
      "model_name": "LayoutModel",
      "state": {
       "justify_content": "center"
      }
     },
     "5ea3f27239404a3e9d6d30c896371dbc": {
      "model_module": "@jupyter-widgets/controls",
      "model_module_version": "1.5.0",
      "model_name": "ButtonStyleModel",
      "state": {}
     },
     "5ea7c72d948f4d5f86eae663269e3fd8": {
      "model_module": "@jupyter-widgets/controls",
      "model_module_version": "1.5.0",
      "model_name": "DescriptionStyleModel",
      "state": {
       "description_width": ""
      }
     },
     "5eac9fee050640f9ab4c3bddd68dcb6b": {
      "model_module": "@jupyter-widgets/controls",
      "model_module_version": "1.5.0",
      "model_name": "DescriptionStyleModel",
      "state": {
       "description_width": ""
      }
     },
     "5eb4606787a345059e26675434263405": {
      "model_module": "@jupyter-widgets/base",
      "model_module_version": "1.2.0",
      "model_name": "LayoutModel",
      "state": {
       "width": "600px"
      }
     },
     "5edacdeca5d746e5864015c5d3841644": {
      "model_module": "@jupyter-widgets/controls",
      "model_module_version": "1.5.0",
      "model_name": "ButtonModel",
      "state": {
       "description": "cross-serial dependencies",
       "layout": "IPY_MODEL_54aa7a8418074822bf0c974e82cd5c4e",
       "style": "IPY_MODEL_6f6382cdd25a46ac94b673bdf12b09df"
      }
     },
     "5eef6dc26179464a87dcbece48bee61f": {
      "model_module": "@jupyter-widgets/base",
      "model_module_version": "1.2.0",
      "model_name": "LayoutModel",
      "state": {
       "width": "600px"
      }
     },
     "5f01e3331ff84ab2940bb2345a4c3e16": {
      "model_module": "@jupyter-widgets/controls",
      "model_module_version": "1.5.0",
      "model_name": "VBoxModel",
      "state": {
       "children": [
        "IPY_MODEL_a6c040a6964342fd8e9d586667a9f6a5",
        "IPY_MODEL_ae326f52491247e1a7817204d0e4554c",
        "IPY_MODEL_ef05403a6ea84f18991a130b7bace34a",
        "IPY_MODEL_74c73c864ee140bb99323101f3a2a813"
       ],
       "layout": "IPY_MODEL_2c2f830165f946ee9d3a22974768726b"
      }
     },
     "5f5360f0b8454ab89b715b6fa3cb7d8b": {
      "model_module": "@jupyter-widgets/controls",
      "model_module_version": "1.5.0",
      "model_name": "HTMLModel",
      "state": {
       "layout": "IPY_MODEL_90eab493eef8448b88f7504a223cc815",
       "style": "IPY_MODEL_eb14a36325564e7285a6be20719fd85d",
       "value": "<h4 style=\"font-size:14px;\">Ist der Satz ambig?</h4>"
      }
     },
     "5f66899146464244be16e488a2388d5c": {
      "model_module": "@jupyter-widgets/base",
      "model_module_version": "1.2.0",
      "model_name": "LayoutModel",
      "state": {
       "justify_content": "center"
      }
     },
     "5f7abe464aae447297c833a59ad03cfb": {
      "model_module": "@jupyter-widgets/controls",
      "model_module_version": "1.5.0",
      "model_name": "CheckboxModel",
      "state": {
       "description": "Precision = true positives / true negatives",
       "disabled": false,
       "layout": "IPY_MODEL_103aeaa2b18845de8f2025f049b964f4",
       "style": "IPY_MODEL_4c9acdca2f3142deac40ea7789e0fc68",
       "value": false
      }
     },
     "5f881664b63a48a1937964ba80f7bb58": {
      "model_module": "@jupyter-widgets/controls",
      "model_module_version": "1.5.0",
      "model_name": "CheckboxModel",
      "state": {
       "description": "Accuracy = (true positives + true negatives) / Anzahl aller Vorhersagen",
       "disabled": false,
       "layout": "IPY_MODEL_399777b6b933439dbbaf4ea0d35c1b75",
       "style": "IPY_MODEL_e6a2696b4b3a4ecb892b689fe12390b0",
       "value": false
      }
     },
     "6022cc78a65745a6be5152e26b523d9d": {
      "model_module": "@jupyter-widgets/controls",
      "model_module_version": "1.5.0",
      "model_name": "DescriptionStyleModel",
      "state": {
       "description_width": ""
      }
     },
     "6055a351911e445887c1ac0e53285df2": {
      "model_module": "@jupyter-widgets/controls",
      "model_module_version": "1.5.0",
      "model_name": "HTMLModel",
      "state": {
       "layout": "IPY_MODEL_b9fa34ac665141979d3ae696194741ff",
       "style": "IPY_MODEL_acb0a248864e444a8f054881b467948b",
       "value": "<h4 style=\"font-size:14px;\">Wo ist der Unterschied zwischen Chunks und Phrasen?</h4>"
      }
     },
     "605681aed9d04a01b65d9cc2a2830d23": {
      "model_module": "@jupyter-widgets/controls",
      "model_module_version": "1.5.0",
      "model_name": "ButtonStyleModel",
      "state": {
       "button_color": "lightgreen"
      }
     },
     "606dbd1a0f9c4d0b97e8775c4f6743ea": {
      "model_module": "@jupyter-widgets/controls",
      "model_module_version": "1.5.0",
      "model_name": "DescriptionStyleModel",
      "state": {
       "description_width": ""
      }
     },
     "606e754709ab44c494db51434d62b2a1": {
      "model_module": "@jupyter-widgets/controls",
      "model_module_version": "1.5.0",
      "model_name": "HTMLModel",
      "state": {
       "layout": "IPY_MODEL_bfa1bfb592d74bac8674e5908bcaf14d",
       "style": "IPY_MODEL_0373ac488b5040f5a92d7a501f966e15",
       "value": "<h4 style=\"font-size:14px;\">Welche Klammern zeigen Chunking an?</h4>"
      }
     },
     "606f9576786b4545aa04188476854167": {
      "model_module": "@jupyter-widgets/base",
      "model_module_version": "1.2.0",
      "model_name": "LayoutModel",
      "state": {
       "width": "250px"
      }
     },
     "607a73b4af2f42f48763fa86d05dfa25": {
      "model_module": "@jupyter-widgets/controls",
      "model_module_version": "1.5.0",
      "model_name": "ButtonModel",
      "state": {
       "description": "regular expressions",
       "layout": "IPY_MODEL_9dbf40f1a4124c59bfa21310efd4ea1e",
       "style": "IPY_MODEL_ae43eb47ec984ac0bde6fba8a3e0c556"
      }
     },
     "608d5d2b8b6340cdb33246eeea5ff818": {
      "model_module": "@jupyter-widgets/controls",
      "model_module_version": "1.5.0",
      "model_name": "ButtonStyleModel",
      "state": {}
     },
     "609692eef6c94c9dbade11dcef894d01": {
      "model_module": "@jupyter-widgets/controls",
      "model_module_version": "1.5.0",
      "model_name": "HBoxModel",
      "state": {
       "children": [
        "IPY_MODEL_22a8ab9fc0b4452cbca735a813344b43",
        "IPY_MODEL_72567e00a95f4d709100aa476bf9271a"
       ],
       "layout": "IPY_MODEL_8d823a40fafc440686fefe2bd42bad5e"
      }
     },
     "60b19aebbaf94b9a9fe9aa6ea4b84ee4": {
      "model_module": "@jupyter-widgets/controls",
      "model_module_version": "1.5.0",
      "model_name": "ButtonStyleModel",
      "state": {}
     },
     "60b4b4bb59c64b1a9a87d18126a04f07": {
      "model_module": "@jupyter-widgets/controls",
      "model_module_version": "1.5.0",
      "model_name": "DescriptionStyleModel",
      "state": {
       "description_width": ""
      }
     },
     "60ba323d47444f55a7cf51098f4ea8e9": {
      "model_module": "@jupyter-widgets/controls",
      "model_module_version": "1.5.0",
      "model_name": "ButtonStyleModel",
      "state": {}
     },
     "611de6b12c97492dafef181901202efc": {
      "model_module": "@jupyter-widgets/controls",
      "model_module_version": "1.5.0",
      "model_name": "CheckboxModel",
      "state": {
       "description": "ein Chunk wird in zwei Chunks aufgeteilt",
       "disabled": false,
       "layout": "IPY_MODEL_f8e736de944c4a4792606d618b1dab75",
       "style": "IPY_MODEL_84e1507bfcb147b8bee7f795329fbb7f",
       "value": false
      }
     },
     "61200ed7d5fc4249bd696150aa8d8b61": {
      "model_module": "@jupyter-widgets/controls",
      "model_module_version": "1.5.0",
      "model_name": "HTMLModel",
      "state": {
       "layout": "IPY_MODEL_5b86fb3cde0841a18cbf970d49a70659",
       "style": "IPY_MODEL_f5275189d61c450e9848f78014683117",
       "value": "<i>Wählen Sie die <ins>eine</ins> korrekte Antwort aus: </i>"
      }
     },
     "6156f4db7f8045609948586811258125": {
      "model_module": "@jupyter-widgets/controls",
      "model_module_version": "1.5.0",
      "model_name": "HBoxModel",
      "state": {
       "children": [
        "IPY_MODEL_b239c1d485194cb79867b69daf94540c",
        "IPY_MODEL_d81e7bcb54d744cb8089f2e5dd7e6795"
       ],
       "layout": "IPY_MODEL_2687027200de423793b44786ced85e3f"
      }
     },
     "616cc87581cc4c6d8bafcd29ae8f4962": {
      "model_module": "@jupyter-widgets/controls",
      "model_module_version": "1.5.0",
      "model_name": "CheckboxModel",
      "state": {
       "description": "F1 = (2 * Precision * Recall) / (Precision + Rrecall)",
       "disabled": false,
       "layout": "IPY_MODEL_ca124e3bae214f0c8357ddff0e63f613",
       "style": "IPY_MODEL_fc23dd29b7f849e7a79bed0101545ccf",
       "value": false
      }
     },
     "61859d2e96224780b87d3b75aa02e465": {
      "model_module": "@jupyter-widgets/base",
      "model_module_version": "1.2.0",
      "model_name": "LayoutModel",
      "state": {}
     },
     "61944773ad4443a29498bfa46ec9777d": {
      "model_module": "@jupyter-widgets/base",
      "model_module_version": "1.2.0",
      "model_name": "LayoutModel",
      "state": {
       "justify_content": "center"
      }
     },
     "61c40ba7fa6349bbafffbc7f7326fb3d": {
      "model_module": "@jupyter-widgets/controls",
      "model_module_version": "1.5.0",
      "model_name": "DescriptionStyleModel",
      "state": {
       "description_width": "initial"
      }
     },
     "61db05846b4f4335a39615b73e822e9f": {
      "model_module": "@jupyter-widgets/base",
      "model_module_version": "1.2.0",
      "model_name": "LayoutModel",
      "state": {}
     },
     "61db7d6ce2b04a3bb426b969e1b0fd5c": {
      "model_module": "@jupyter-widgets/controls",
      "model_module_version": "1.5.0",
      "model_name": "VBoxModel",
      "state": {
       "children": [
        "IPY_MODEL_79c1223a17cb4a53ad11aa42783f41ba",
        "IPY_MODEL_01239d7208f744448cc0dd1590301c0c",
        "IPY_MODEL_850138c79e4e40f6a255858010ec59b3",
        "IPY_MODEL_7c369e9ba7a44a6aa27a116c10f66b28"
       ],
       "layout": "IPY_MODEL_06d32d0e2d8d424aac7fbbeae606c33e"
      }
     },
     "61dfe14b56f14b6f987d4b07036bbe39": {
      "model_module": "@jupyter-widgets/controls",
      "model_module_version": "1.5.0",
      "model_name": "ButtonStyleModel",
      "state": {}
     },
     "61e52151101c4d019aa62e32daff1a25": {
      "model_module": "@jupyter-widgets/base",
      "model_module_version": "1.2.0",
      "model_name": "LayoutModel",
      "state": {}
     },
     "61ecd3d5d3734fcf98dd8155c2bca778": {
      "model_module": "@jupyter-widgets/controls",
      "model_module_version": "1.5.0",
      "model_name": "CheckboxModel",
      "state": {
       "description": "F1 = (2 * Precision * Recall) / (Precision + Rrecall)",
       "disabled": false,
       "layout": "IPY_MODEL_8262d0bfbb364ba7bb5e795f3901b176",
       "style": "IPY_MODEL_8dcbf50312094d92a76e3444e29fd8ff",
       "value": false
      }
     },
     "620ced0fcedd46f38712843f19d12651": {
      "model_module": "@jupyter-widgets/base",
      "model_module_version": "1.2.0",
      "model_name": "LayoutModel",
      "state": {
       "width": "600px"
      }
     },
     "621a727099a94b3684a478b824dd72d6": {
      "model_module": "@jupyter-widgets/base",
      "model_module_version": "1.2.0",
      "model_name": "LayoutModel",
      "state": {
       "width": "250px"
      }
     },
     "6240ca57aa5a4a6c919e57a9d2df22a4": {
      "model_module": "@jupyter-widgets/controls",
      "model_module_version": "1.5.0",
      "model_name": "ButtonStyleModel",
      "state": {}
     },
     "62557a020b1f4f6db1dabe27042b7f6e": {
      "model_module": "@jupyter-widgets/controls",
      "model_module_version": "1.5.0",
      "model_name": "HBoxModel",
      "state": {
       "children": [
        "IPY_MODEL_c1edd0a2434f4a0cb7578261af77fd1a",
        "IPY_MODEL_10adfdbecb0247d7b1333c9b63e0722c"
       ],
       "layout": "IPY_MODEL_6f22861492c24bd5bb95e3876ed3684a"
      }
     },
     "62589ab9509142b8a3a46449cf1232a4": {
      "model_module": "@jupyter-widgets/base",
      "model_module_version": "1.2.0",
      "model_name": "LayoutModel",
      "state": {}
     },
     "628ffa1ad6f84c319e11b993a0b6ff93": {
      "model_module": "@jupyter-widgets/base",
      "model_module_version": "1.2.0",
      "model_name": "LayoutModel",
      "state": {
       "width": "250px"
      }
     },
     "62a835525e1f4ed6aeb85ecf5b577fbf": {
      "model_module": "@jupyter-widgets/base",
      "model_module_version": "1.2.0",
      "model_name": "LayoutModel",
      "state": {
       "width": "600px"
      }
     },
     "62c4d55e5b6c4109bc7dbdaed5d71543": {
      "model_module": "@jupyter-widgets/base",
      "model_module_version": "1.2.0",
      "model_name": "LayoutModel",
      "state": {
       "justify_content": "center"
      }
     },
     "62f10911d8d1487085818b3eb24e9a45": {
      "model_module": "@jupyter-widgets/base",
      "model_module_version": "1.2.0",
      "model_name": "LayoutModel",
      "state": {
       "width": "250px"
      }
     },
     "62f8dc8546224980b419b066c4d238c7": {
      "model_module": "@jupyter-widgets/controls",
      "model_module_version": "1.5.0",
      "model_name": "HTMLModel",
      "state": {
       "layout": "IPY_MODEL_f8a17992364b4242a1b3ded74d5c2bb4",
       "style": "IPY_MODEL_f04336e77c9948c4bbae0dcdc8c7b100",
       "value": "<h4 style=\"font-size:14px;\">Um was für ein Sprachkonstrukt handelt es sich?</h4>"
      }
     },
     "6309890f11e740bc900715b68ff9b620": {
      "model_module": "@jupyter-widgets/controls",
      "model_module_version": "1.5.0",
      "model_name": "ButtonStyleModel",
      "state": {}
     },
     "632204aff63f402fbf3fea2ed37d8f7f": {
      "model_module": "@jupyter-widgets/base",
      "model_module_version": "1.2.0",
      "model_name": "LayoutModel",
      "state": {}
     },
     "63316d6e08ed4379b2f53498e4fad2bf": {
      "model_module": "@jupyter-widgets/controls",
      "model_module_version": "1.5.0",
      "model_name": "HTMLModel",
      "state": {
       "layout": "IPY_MODEL_7bb64a069cf34caf9b5f5283721c3ead",
       "style": "IPY_MODEL_446dd1970dab498ca8f4fa6bbdc1dd6a",
       "value": "<h4 style=\"font-size:14px;\">Wozu sind Tag Pattern ähnlich?</h4>"
      }
     },
     "6340ff32617247738e5daf2407996c2b": {
      "model_module": "@jupyter-widgets/controls",
      "model_module_version": "1.5.0",
      "model_name": "ButtonModel",
      "state": {
       "description": "Korrekt?",
       "layout": "IPY_MODEL_aa6dc46c61904dc5b10933dbccd30e80",
       "style": "IPY_MODEL_b8223e160b164a18b8b5b3f887b6aabe"
      }
     },
     "6374c5ff29a2421a9d3666d6833f17bb": {
      "model_module": "@jupyter-widgets/controls",
      "model_module_version": "1.5.0",
      "model_name": "DescriptionStyleModel",
      "state": {
       "description_width": "initial"
      }
     },
     "63b53ffbce734595a78421fe9fb451ce": {
      "model_module": "@jupyter-widgets/controls",
      "model_module_version": "1.5.0",
      "model_name": "ButtonStyleModel",
      "state": {}
     },
     "63df9d845ad747aa8da33d000d6f803d": {
      "model_module": "@jupyter-widgets/controls",
      "model_module_version": "1.5.0",
      "model_name": "DescriptionStyleModel",
      "state": {
       "description_width": "initial"
      }
     },
     "63eba21197e340118d170f3555c4ba30": {
      "model_module": "@jupyter-widgets/base",
      "model_module_version": "1.2.0",
      "model_name": "LayoutModel",
      "state": {
       "width": "600px"
      }
     },
     "644a408315554167961951adde1bde85": {
      "model_module": "@jupyter-widgets/controls",
      "model_module_version": "1.5.0",
      "model_name": "DescriptionStyleModel",
      "state": {
       "description_width": "initial"
      }
     },
     "64520164cd4b46e4ba20ed615d2d962d": {
      "model_module": "@jupyter-widgets/base",
      "model_module_version": "1.2.0",
      "model_name": "LayoutModel",
      "state": {}
     },
     "645c334fd1564b5e9ba25db52aac3721": {
      "model_module": "@jupyter-widgets/controls",
      "model_module_version": "1.5.0",
      "model_name": "ButtonModel",
      "state": {
       "description": "Korrekt?",
       "layout": "IPY_MODEL_ffa25928b53d4b54bd28a1a2e23e385d",
       "style": "IPY_MODEL_c7efdd25d84e4c198f4d4b156ea980f7"
      }
     },
     "647deaaa078d451d845a23d19296fe8e": {
      "model_module": "@jupyter-widgets/controls",
      "model_module_version": "1.5.0",
      "model_name": "VBoxModel",
      "state": {
       "children": [
        "IPY_MODEL_100b47530fd3478981155265e19cd65f",
        "IPY_MODEL_7bee8753f7f443fb9e30a2f06764db54",
        "IPY_MODEL_178ab525df2d44afb9b3d620c485448e",
        "IPY_MODEL_2566a8b2495d4369a95892b3380dd305",
        "IPY_MODEL_d4593efc58384f10903559f70de5ecff",
        "IPY_MODEL_5bb305f8edc24855a33a29123483b8c6",
        "IPY_MODEL_0ec564af7b8046cba1c6582d76001bf5",
        "IPY_MODEL_7142ce5b06a1448fad140ea4b651cd49"
       ],
       "layout": "IPY_MODEL_b9612cf0d7b2400b9913df2a8dec520d"
      }
     },
     "64956b6453504140b683406ae0b01ad1": {
      "model_module": "@jupyter-widgets/controls",
      "model_module_version": "1.5.0",
      "model_name": "DescriptionStyleModel",
      "state": {
       "description_width": ""
      }
     },
     "64b4b26aa9734d90afb1ab3ca7187102": {
      "model_module": "@jupyter-widgets/controls",
      "model_module_version": "1.5.0",
      "model_name": "ButtonStyleModel",
      "state": {}
     },
     "64d187dfb10842f49eff50e448c28904": {
      "model_module": "@jupyter-widgets/base",
      "model_module_version": "1.2.0",
      "model_name": "LayoutModel",
      "state": {
       "width": "500px"
      }
     },
     "64fe1bb4301841b29a5efc5e216e794b": {
      "model_module": "@jupyter-widgets/controls",
      "model_module_version": "1.5.0",
      "model_name": "ButtonStyleModel",
      "state": {
       "button_color": "lightgreen"
      }
     },
     "65128d2ac4224dd0a804201077f0d658": {
      "model_module": "@jupyter-widgets/controls",
      "model_module_version": "1.5.0",
      "model_name": "HTMLModel",
      "state": {
       "layout": "IPY_MODEL_a2ebfe9dbad9491d802ffcf07e989502",
       "style": "IPY_MODEL_12cc72fd6a0e495b8d6ae98c745ab496",
       "value": "<i>Markieren Sie <ins>alle</ins> passenden Antworten: </i>"
      }
     },
     "652de95c46474e2c8232e9879898ecdb": {
      "model_module": "@jupyter-widgets/base",
      "model_module_version": "1.2.0",
      "model_name": "LayoutModel",
      "state": {
       "width": "250px"
      }
     },
     "656f40aabf914c0c87e9eaec7cda2c44": {
      "model_module": "@jupyter-widgets/controls",
      "model_module_version": "1.5.0",
      "model_name": "DescriptionStyleModel",
      "state": {
       "description_width": ""
      }
     },
     "656f48c2d96b428db091da222ba4fcef": {
      "model_module": "@jupyter-widgets/controls",
      "model_module_version": "1.5.0",
      "model_name": "DescriptionStyleModel",
      "state": {
       "description_width": ""
      }
     },
     "65869f7df86d4223a4e8a26f5ea49714": {
      "model_module": "@jupyter-widgets/base",
      "model_module_version": "1.2.0",
      "model_name": "LayoutModel",
      "state": {
       "width": "250px"
      }
     },
     "65a04da16ad947128ebe5e5d5e142b10": {
      "model_module": "@jupyter-widgets/controls",
      "model_module_version": "1.5.0",
      "model_name": "VBoxModel",
      "state": {
       "children": [
        "IPY_MODEL_457bd0de3be74581a4aa0b904f87bcd1",
        "IPY_MODEL_ce9f6bf827e040038aa0a06b4d89b418",
        "IPY_MODEL_1b88d9bddbd442208735f02758664957"
       ],
       "layout": "IPY_MODEL_9be32e76a8dd46ff94f27dc429ef96af"
      }
     },
     "65a1d68ad09c4833833030f2f4eb6e8f": {
      "model_module": "@jupyter-widgets/base",
      "model_module_version": "1.2.0",
      "model_name": "LayoutModel",
      "state": {}
     },
     "65af923f1b3f44aea3a4a12a226102c4": {
      "model_module": "@jupyter-widgets/controls",
      "model_module_version": "1.5.0",
      "model_name": "CheckboxModel",
      "state": {
       "description": "Chunks sind oft kürzer als Phrasen.",
       "disabled": false,
       "layout": "IPY_MODEL_c23e898e3288457b950999663f4c8a2c",
       "style": "IPY_MODEL_a03dd7bb4ebd47ec81377cf325286bad",
       "value": false
      }
     },
     "65bb67fd9a6b4ac3bb0c2b94b534345a": {
      "model_module": "@jupyter-widgets/controls",
      "model_module_version": "1.5.0",
      "model_name": "ButtonModel",
      "state": {
       "description": "Korrekt?",
       "layout": "IPY_MODEL_d6bcbeeb21084ac1a2bb4f716ebf56c7",
       "style": "IPY_MODEL_a84b88dbf5f4432d8ae06b4073fc6304"
      }
     },
     "65d6df9b15224795a37c7fe83821ff71": {
      "model_module": "@jupyter-widgets/controls",
      "model_module_version": "1.5.0",
      "model_name": "ButtonStyleModel",
      "state": {}
     },
     "65ddf7ba71e3483fbd2e7fe84155cad6": {
      "model_module": "@jupyter-widgets/base",
      "model_module_version": "1.2.0",
      "model_name": "LayoutModel",
      "state": {}
     },
     "65eb9914e83d44c6a3ac1e9daf6e0b07": {
      "model_module": "@jupyter-widgets/controls",
      "model_module_version": "1.5.0",
      "model_name": "HBoxModel",
      "state": {
       "children": [
        "IPY_MODEL_b9e1713a969c41f9b3492b5774542588",
        "IPY_MODEL_ca57ddb762654ea996909e250a46c25c"
       ],
       "layout": "IPY_MODEL_7e3bd99f383449ec973c3754a24e9c53"
      }
     },
     "65fba85d8dd0423390f446c2aaa5b5ff": {
      "model_module": "@jupyter-widgets/controls",
      "model_module_version": "1.5.0",
      "model_name": "DescriptionStyleModel",
      "state": {
       "description_width": ""
      }
     },
     "66029abef1b14dd8ad0738c663ed2b57": {
      "model_module": "@jupyter-widgets/controls",
      "model_module_version": "1.5.0",
      "model_name": "CheckboxModel",
      "state": {
       "description": "Precision = true positives / true negatives",
       "disabled": false,
       "layout": "IPY_MODEL_d58d29267aaf49bda7f67b7950758e1d",
       "style": "IPY_MODEL_e488902cab284a669f145659a7d7a4fc",
       "value": false
      }
     },
     "660e33c264854f068aa5f7ac88bead14": {
      "model_module": "@jupyter-widgets/base",
      "model_module_version": "1.2.0",
      "model_name": "LayoutModel",
      "state": {
       "width": "600px"
      }
     },
     "660f9bbb6f234dac8d119d6fed9a3cfc": {
      "model_module": "@jupyter-widgets/controls",
      "model_module_version": "1.5.0",
      "model_name": "ButtonModel",
      "state": {
       "description": "} {",
       "layout": "IPY_MODEL_24bb40604a2c4ca1863bde4aad62b85e",
       "style": "IPY_MODEL_888282e02c4444299bf7166bd3005e32"
      }
     },
     "6613257314db4688951af613fa64d8cd": {
      "model_module": "@jupyter-widgets/controls",
      "model_module_version": "1.5.0",
      "model_name": "HTMLModel",
      "state": {
       "layout": "IPY_MODEL_d46e7390cc824be38ec6be3e46911000",
       "style": "IPY_MODEL_da969c1c17de4c41aa9a7a323624622c",
       "value": "<h4 style=\"font-size:14px;\">Welche Rekursionstiefe hat der Satz?</h4>"
      }
     },
     "661e3bbd2d884897b356c6903b4428fe": {
      "model_module": "@jupyter-widgets/base",
      "model_module_version": "1.2.0",
      "model_name": "LayoutModel",
      "state": {
       "justify_content": "center"
      }
     },
     "663199f1b8a742ae8b7744509cdd1604": {
      "model_module": "@jupyter-widgets/controls",
      "model_module_version": "1.5.0",
      "model_name": "HTMLModel",
      "state": {
       "layout": "IPY_MODEL_9ea51f18f7534f58984feab06e5c6095",
       "style": "IPY_MODEL_8c96d726fa6d49aaa4c2cfd9a034a6fa",
       "value": "<h4 style=\"font-size:14px;\">Welche Klammern zeigen Chunking an?</h4>"
      }
     },
     "6636a0ce840b4d7daf18bae587f59a27": {
      "model_module": "@jupyter-widgets/controls",
      "model_module_version": "1.5.0",
      "model_name": "HBoxModel",
      "state": {
       "children": [
        "IPY_MODEL_18be2b11e1b44fc4b156ec423a249b56",
        "IPY_MODEL_eacd134a653c4895a97e43f990977bb4"
       ],
       "layout": "IPY_MODEL_89d36a2da3fe43f5b77b2f9dd9e2c3a8"
      }
     },
     "663fa0fdb0174617915fa9362786742b": {
      "model_module": "@jupyter-widgets/controls",
      "model_module_version": "1.5.0",
      "model_name": "ButtonModel",
      "state": {
       "description": "Korrekt?",
       "layout": "IPY_MODEL_f5912154f8b84c7a94831c27d5cc03d0",
       "style": "IPY_MODEL_3d922f53f8134be081c73351a6286037"
      }
     },
     "6641b5e6cc8341d58a1fe9b468a2a68c": {
      "model_module": "@jupyter-widgets/controls",
      "model_module_version": "1.5.0",
      "model_name": "ButtonModel",
      "state": {
       "description": "regular expressions",
       "layout": "IPY_MODEL_995177d6f1284199ab28dc417b8a15bd",
       "style": "IPY_MODEL_64fe1bb4301841b29a5efc5e216e794b"
      }
     },
     "67151d99b37748bbb0a5f0d0a1bf72e6": {
      "model_module": "@jupyter-widgets/base",
      "model_module_version": "1.2.0",
      "model_name": "LayoutModel",
      "state": {}
     },
     "67152635529a49a196d4f9ef086417d5": {
      "model_module": "@jupyter-widgets/controls",
      "model_module_version": "1.5.0",
      "model_name": "DescriptionStyleModel",
      "state": {
       "description_width": "initial"
      }
     },
     "673b9d35578b4eb29a6a2db700065e6e": {
      "model_module": "@jupyter-widgets/controls",
      "model_module_version": "1.5.0",
      "model_name": "CheckboxModel",
      "state": {
       "description": "ein vorher erkannter Chunk wird nicht mehr erkannt",
       "disabled": false,
       "layout": "IPY_MODEL_5eb4606787a345059e26675434263405",
       "style": "IPY_MODEL_374eafd421584325a32ef7f2775ad3bb",
       "value": true
      }
     },
     "674aa2a1607e42a48f98a19e7071ff99": {
      "model_module": "@jupyter-widgets/base",
      "model_module_version": "1.2.0",
      "model_name": "LayoutModel",
      "state": {
       "justify_content": "center"
      }
     },
     "6768de1458904ffe9497769fb93671da": {
      "model_module": "@jupyter-widgets/base",
      "model_module_version": "1.2.0",
      "model_name": "LayoutModel",
      "state": {}
     },
     "67899a708ea44ae58220d1a7dcfda4a9": {
      "model_module": "@jupyter-widgets/base",
      "model_module_version": "1.2.0",
      "model_name": "LayoutModel",
      "state": {}
     },
     "67c8411fd5ae45a892d0279044a69901": {
      "model_module": "@jupyter-widgets/base",
      "model_module_version": "1.2.0",
      "model_name": "LayoutModel",
      "state": {}
     },
     "67ce125c1e814e739a971d409b132ec3": {
      "model_module": "@jupyter-widgets/base",
      "model_module_version": "1.2.0",
      "model_name": "LayoutModel",
      "state": {
       "width": "250px"
      }
     },
     "67d3d754302344a09eaa5c08db573e94": {
      "model_module": "@jupyter-widgets/base",
      "model_module_version": "1.2.0",
      "model_name": "LayoutModel",
      "state": {
       "justify_content": "center"
      }
     },
     "68005d78cee648449c2077e45d35c6e7": {
      "model_module": "@jupyter-widgets/base",
      "model_module_version": "1.2.0",
      "model_name": "LayoutModel",
      "state": {
       "width": "600px"
      }
     },
     "682db2c07e1b4617962a12694906bedf": {
      "model_module": "@jupyter-widgets/controls",
      "model_module_version": "1.5.0",
      "model_name": "DescriptionStyleModel",
      "state": {
       "description_width": ""
      }
     },
     "68368032c75246b688224c740df8b7e0": {
      "model_module": "@jupyter-widgets/controls",
      "model_module_version": "1.5.0",
      "model_name": "ButtonModel",
      "state": {
       "description": "Nein",
       "layout": "IPY_MODEL_c89def9e91704f0091c97f49c058d271",
       "style": "IPY_MODEL_029e3f11f1464d66a6e97bc336e366a4"
      }
     },
     "685cbdfa6f194bf680f74ce577644e8a": {
      "model_module": "@jupyter-widgets/controls",
      "model_module_version": "1.5.0",
      "model_name": "HTMLModel",
      "state": {
       "layout": "IPY_MODEL_534384f5426e43e2bd6fb2055a01f895",
       "style": "IPY_MODEL_0a50f802552448c2ade09998f0fb6de4",
       "value": "<i>Wählen Sie die <ins>eine</ins> korrekte Antwort aus: </i>"
      }
     },
     "686d5af6824149bca5d25984a76d1391": {
      "model_module": "@jupyter-widgets/base",
      "model_module_version": "1.2.0",
      "model_name": "LayoutModel",
      "state": {}
     },
     "687f6b55bc704f75b18030f33d12d113": {
      "model_module": "@jupyter-widgets/controls",
      "model_module_version": "1.5.0",
      "model_name": "DescriptionStyleModel",
      "state": {
       "description_width": ""
      }
     },
     "68a71d0078e74f348c3b78e910762623": {
      "model_module": "@jupyter-widgets/base",
      "model_module_version": "1.2.0",
      "model_name": "LayoutModel",
      "state": {
       "width": "600px"
      }
     },
     "68a8e626a3684bd9a1ac3f31bc4e55f2": {
      "model_module": "@jupyter-widgets/controls",
      "model_module_version": "1.5.0",
      "model_name": "ButtonModel",
      "state": {
       "description": "kontextsensitiv",
       "layout": "IPY_MODEL_2684efc5e466440e8b19a9fab62500e3",
       "style": "IPY_MODEL_79258f7ca6264e6488f8f715758c3483"
      }
     },
     "68c93f25b812425ea154f471cbac75a9": {
      "model_module": "@jupyter-widgets/base",
      "model_module_version": "1.2.0",
      "model_name": "LayoutModel",
      "state": {
       "width": "250px"
      }
     },
     "68cdce37d05145d38c9a0d93b93b0c4e": {
      "model_module": "@jupyter-widgets/base",
      "model_module_version": "1.2.0",
      "model_name": "LayoutModel",
      "state": {
       "width": "600px"
      }
     },
     "68ed787ab5b646ae98716d8d9418582f": {
      "model_module": "@jupyter-widgets/controls",
      "model_module_version": "1.5.0",
      "model_name": "DescriptionStyleModel",
      "state": {
       "description_width": ""
      }
     },
     "6937fe38eeed4a17836404dc217ff971": {
      "model_module": "@jupyter-widgets/base",
      "model_module_version": "1.2.0",
      "model_name": "LayoutModel",
      "state": {
       "justify_content": "center"
      }
     },
     "69381d4f37644870bd99c43aec368fba": {
      "model_module": "@jupyter-widgets/base",
      "model_module_version": "1.2.0",
      "model_name": "LayoutModel",
      "state": {
       "width": "600px"
      }
     },
     "693ac51c5e6141cfa638038c1c68a7c3": {
      "model_module": "@jupyter-widgets/controls",
      "model_module_version": "1.5.0",
      "model_name": "HBoxModel",
      "state": {
       "children": [
        "IPY_MODEL_3fe8aabe669e4ada83918cf3dcb85c12",
        "IPY_MODEL_268d1f72a3fa4089b9e541ac54c9fc9e"
       ],
       "layout": "IPY_MODEL_f4ecac274e5e4a7bb04d5e9090692cc1"
      }
     },
     "693e4873777c464b9ae7d8b1a9bd28b5": {
      "model_module": "@jupyter-widgets/controls",
      "model_module_version": "1.5.0",
      "model_name": "ButtonModel",
      "state": {
       "description": "center embedding",
       "layout": "IPY_MODEL_7d83155cd60b4eb49b91bf7dd76bf261",
       "style": "IPY_MODEL_01149e333c874af7879a5e3cdc4cb29b"
      }
     },
     "6970e8bd79a0471997460cf2bb067d92": {
      "model_module": "@jupyter-widgets/controls",
      "model_module_version": "1.5.0",
      "model_name": "HTMLModel",
      "state": {
       "layout": "IPY_MODEL_0e0299821f8f4b7c82161b8e4ea1c31b",
       "style": "IPY_MODEL_73d2514d429840e18181112d1015fd68",
       "value": "<i>Wählen Sie die <ins>eine</ins> korrekte Antwort aus: </i>"
      }
     },
     "6975d7bdf2b6459d9ccacce6c08f2589": {
      "model_module": "@jupyter-widgets/controls",
      "model_module_version": "1.5.0",
      "model_name": "CheckboxModel",
      "state": {
       "description": "Loopen über bereits erkannte Chunk-Muster",
       "disabled": false,
       "layout": "IPY_MODEL_e9073d9b6bc542c6a455add7828277b2",
       "style": "IPY_MODEL_d3100599d9b94d6fbeed8f94172ed7f7",
       "value": true
      }
     },
     "699c129bc88645ef89a3545ae6d81f8c": {
      "model_module": "@jupyter-widgets/base",
      "model_module_version": "1.2.0",
      "model_name": "LayoutModel",
      "state": {
       "width": "600px"
      }
     },
     "69d65e7c3c60461aa04210607ad51028": {
      "model_module": "@jupyter-widgets/controls",
      "model_module_version": "1.5.0",
      "model_name": "DescriptionStyleModel",
      "state": {
       "description_width": ""
      }
     },
     "69f55f686cd8480da7eadf1efd23e887": {
      "model_module": "@jupyter-widgets/base",
      "model_module_version": "1.2.0",
      "model_name": "LayoutModel",
      "state": {
       "width": "250px"
      }
     },
     "69fb361792bc481e975e7d88b33ade11": {
      "model_module": "@jupyter-widgets/base",
      "model_module_version": "1.2.0",
      "model_name": "LayoutModel",
      "state": {
       "width": "250px"
      }
     },
     "6a080e9aeece4f708a66bb0c12c49aa8": {
      "model_module": "@jupyter-widgets/controls",
      "model_module_version": "1.5.0",
      "model_name": "DescriptionStyleModel",
      "state": {
       "description_width": "initial"
      }
     },
     "6a149c4a5bb1474d9a3b2a3e499fc6c9": {
      "model_module": "@jupyter-widgets/base",
      "model_module_version": "1.2.0",
      "model_name": "LayoutModel",
      "state": {
       "width": "600px"
      }
     },
     "6a92c74e3271432a916360a956174bee": {
      "model_module": "@jupyter-widgets/base",
      "model_module_version": "1.2.0",
      "model_name": "LayoutModel",
      "state": {}
     },
     "6aa94ac34b954f508e5ef17997f60835": {
      "model_module": "@jupyter-widgets/controls",
      "model_module_version": "1.5.0",
      "model_name": "ButtonModel",
      "state": {
       "description": "garden-path sentence",
       "layout": "IPY_MODEL_b9709eb44cdc4261a47487af97ef850a",
       "style": "IPY_MODEL_c7b1e62c0834449ea2eed4dd7749387a"
      }
     },
     "6ac10b83b41141e5983acc2fb58794cd": {
      "model_module": "@jupyter-widgets/controls",
      "model_module_version": "1.5.0",
      "model_name": "DescriptionStyleModel",
      "state": {
       "description_width": ""
      }
     },
     "6accf42b6b314ce1b3c0603c4ce4ba1e": {
      "model_module": "@jupyter-widgets/base",
      "model_module_version": "1.2.0",
      "model_name": "LayoutModel",
      "state": {
       "width": "600px"
      }
     },
     "6ae69aa0591942ee86d26d276cbb0d85": {
      "model_module": "@jupyter-widgets/base",
      "model_module_version": "1.2.0",
      "model_name": "LayoutModel",
      "state": {
       "justify_content": "center"
      }
     },
     "6afa9dd69d864c56a1da7d670425cb1f": {
      "model_module": "@jupyter-widgets/base",
      "model_module_version": "1.2.0",
      "model_name": "LayoutModel",
      "state": {}
     },
     "6afabd5091364461a458fc0f3c8ebd53": {
      "model_module": "@jupyter-widgets/controls",
      "model_module_version": "1.5.0",
      "model_name": "ButtonModel",
      "state": {
       "description": "cross-serial dependencies",
       "layout": "IPY_MODEL_9629286b8dd9434783abde99ef448765",
       "style": "IPY_MODEL_e2d9f8b82bf4451bac73ac39d1eddabf"
      }
     },
     "6b05919150a04f33b61e3cafdd1e6141": {
      "model_module": "@jupyter-widgets/controls",
      "model_module_version": "1.5.0",
      "model_name": "CheckboxModel",
      "state": {
       "description": "Precision = true positives / true negatives",
       "disabled": false,
       "layout": "IPY_MODEL_39d5fd975b7a4df491078b4f2260baf6",
       "style": "IPY_MODEL_f14c1377902f4ee6982d38c5b305de85",
       "value": false
      }
     },
     "6b10bc0614dc4da294538521eb3bcac2": {
      "model_module": "@jupyter-widgets/base",
      "model_module_version": "1.2.0",
      "model_name": "LayoutModel",
      "state": {
       "width": "250px"
      }
     },
     "6b56e461746d4dc681b38c957f35c7d2": {
      "model_module": "@jupyter-widgets/base",
      "model_module_version": "1.2.0",
      "model_name": "LayoutModel",
      "state": {
       "justify_content": "center"
      }
     },
     "6b9fac6d84594607bd3cb1bc1c98b865": {
      "model_module": "@jupyter-widgets/base",
      "model_module_version": "1.2.0",
      "model_name": "LayoutModel",
      "state": {
       "justify_content": "center"
      }
     },
     "6ba08aa92cb24a8a90ac35da39aa6401": {
      "model_module": "@jupyter-widgets/controls",
      "model_module_version": "1.5.0",
      "model_name": "DescriptionStyleModel",
      "state": {
       "description_width": "initial"
      }
     },
     "6bc5bfc08b9449188a3f8d8fa08cabae": {
      "model_module": "@jupyter-widgets/controls",
      "model_module_version": "1.5.0",
      "model_name": "HBoxModel",
      "state": {
       "children": [
        "IPY_MODEL_38df927a3c2241f281d60d9723e8471e",
        "IPY_MODEL_0a2658c39b174efdabd5fe1925eff45f"
       ],
       "layout": "IPY_MODEL_64520164cd4b46e4ba20ed615d2d962d"
      }
     },
     "6bf1011d7b8c46188c5dce78359b32c7": {
      "model_module": "@jupyter-widgets/controls",
      "model_module_version": "1.5.0",
      "model_name": "DescriptionStyleModel",
      "state": {
       "description_width": ""
      }
     },
     "6bf476c5c909404481a7e35d15a81589": {
      "model_module": "@jupyter-widgets/base",
      "model_module_version": "1.2.0",
      "model_name": "LayoutModel",
      "state": {
       "width": "600px"
      }
     },
     "6c090298509449dc83a505e2066fb5f3": {
      "model_module": "@jupyter-widgets/controls",
      "model_module_version": "1.5.0",
      "model_name": "ButtonModel",
      "state": {
       "description": "} {",
       "layout": "IPY_MODEL_f092ea503e574c92bf91818fd667cf7c",
       "style": "IPY_MODEL_fddb4eeba36246a48b2a807870b0b09f"
      }
     },
     "6c0f0f6b08244985b432c365a7fbea8b": {
      "model_module": "@jupyter-widgets/base",
      "model_module_version": "1.2.0",
      "model_name": "LayoutModel",
      "state": {}
     },
     "6c1e9fc7a7e646beaec08fb2beb98632": {
      "model_module": "@jupyter-widgets/controls",
      "model_module_version": "1.5.0",
      "model_name": "CheckboxModel",
      "state": {
       "description": "Chunks sind oft länger als Phrasen.",
       "disabled": false,
       "layout": "IPY_MODEL_047cde08027042e19be81620fa874d0d",
       "style": "IPY_MODEL_4cf0f787c976457c8858ab2fb734aa0e",
       "value": false
      }
     },
     "6c2975dbb5974fa0bf50ba34b29c5222": {
      "model_module": "@jupyter-widgets/controls",
      "model_module_version": "1.5.0",
      "model_name": "VBoxModel",
      "state": {
       "children": [
        "IPY_MODEL_c6249dc3500442f885e8d6fc3746faa7",
        "IPY_MODEL_2624150e6b8b455f9fbbf123a88ed1c5",
        "IPY_MODEL_c53e5b876f004218881f5248b754bba0",
        "IPY_MODEL_fed5be76c466478889c7ce091348e075"
       ],
       "layout": "IPY_MODEL_581efb3187f549a99fa4c606c0dad612"
      }
     },
     "6c367fd3623e4c6a8f9e5122870b971b": {
      "model_module": "@jupyter-widgets/base",
      "model_module_version": "1.2.0",
      "model_name": "LayoutModel",
      "state": {}
     },
     "6c596e84303a4476b1782b2cc3dbb8c6": {
      "model_module": "@jupyter-widgets/base",
      "model_module_version": "1.2.0",
      "model_name": "LayoutModel",
      "state": {
       "width": "250px"
      }
     },
     "6c7efff295f342349fd507b045b081a1": {
      "model_module": "@jupyter-widgets/base",
      "model_module_version": "1.2.0",
      "model_name": "LayoutModel",
      "state": {
       "width": "600px"
      }
     },
     "6c827f4c62224633b1383d0be24b368a": {
      "model_module": "@jupyter-widgets/controls",
      "model_module_version": "1.5.0",
      "model_name": "HBoxModel",
      "state": {
       "children": [
        "IPY_MODEL_bfb9a3d681644ed6ab75b1ff9da58128",
        "IPY_MODEL_1eafcd7b1869431c8c4eae91279bf613"
       ],
       "layout": "IPY_MODEL_43d8028ef8354db0a2d73b7716548843"
      }
     },
     "6c8fd67e481a476ea286a6b52d34a046": {
      "model_module": "@jupyter-widgets/controls",
      "model_module_version": "1.5.0",
      "model_name": "DescriptionStyleModel",
      "state": {
       "description_width": "initial"
      }
     },
     "6cba415a262c4a75a03e9e1de53a5aed": {
      "model_module": "@jupyter-widgets/base",
      "model_module_version": "1.2.0",
      "model_name": "LayoutModel",
      "state": {}
     },
     "6cca290801ab443ba87bfe20756d7e4d": {
      "model_module": "@jupyter-widgets/base",
      "model_module_version": "1.2.0",
      "model_name": "LayoutModel",
      "state": {
       "width": "250px"
      }
     },
     "6d4c9d4e1b054c72804769e0825cb9f0": {
      "model_module": "@jupyter-widgets/base",
      "model_module_version": "1.2.0",
      "model_name": "LayoutModel",
      "state": {
       "width": "250px"
      }
     },
     "6d4cbbabf5f34248ad6d3bffc751f34b": {
      "model_module": "@jupyter-widgets/controls",
      "model_module_version": "1.5.0",
      "model_name": "ButtonStyleModel",
      "state": {}
     },
     "6d595a0ab0b24ba68501009750e4f0f8": {
      "model_module": "@jupyter-widgets/base",
      "model_module_version": "1.2.0",
      "model_name": "LayoutModel",
      "state": {
       "justify_content": "center"
      }
     },
     "6d61168c431f42169677072400187aff": {
      "model_module": "@jupyter-widgets/controls",
      "model_module_version": "1.5.0",
      "model_name": "VBoxModel",
      "state": {
       "children": [
        "IPY_MODEL_cbe381e066f94c758e549645e1581317",
        "IPY_MODEL_f8d554171acf478382b729405510810a",
        "IPY_MODEL_074f7c6d7e7e4f18a8f5fd6288beaf8c"
       ],
       "layout": "IPY_MODEL_51383ded30504e5a9b25b836b629cf3e"
      }
     },
     "6d627ae0b5874b828131bdfbb01fe58c": {
      "model_module": "@jupyter-widgets/controls",
      "model_module_version": "1.5.0",
      "model_name": "ButtonStyleModel",
      "state": {}
     },
     "6d6465295531460abfb6a4d838cd6858": {
      "model_module": "@jupyter-widgets/controls",
      "model_module_version": "1.5.0",
      "model_name": "ButtonModel",
      "state": {
       "description": "Korrekt?",
       "layout": "IPY_MODEL_c20e70b6ee5542b5aa20b411f152064b",
       "style": "IPY_MODEL_2aeacfcae3d240b290968f8c57c32faa"
      }
     },
     "6d797f8dd9e642dba76987b92c043f49": {
      "model_module": "@jupyter-widgets/controls",
      "model_module_version": "1.5.0",
      "model_name": "VBoxModel",
      "state": {
       "children": [
        "IPY_MODEL_7cda774c791b42f88730b6c3abfe1d4a",
        "IPY_MODEL_ede70a731cf44e5fad69e3d06719e52a",
        "IPY_MODEL_e0a8bdbc5ff54d7e9936cfb51885c5cc"
       ],
       "layout": "IPY_MODEL_7fa51807601e4e9891b529f604cd7f50"
      }
     },
     "6d8afad9505048c9a6f64b346a54c71e": {
      "model_module": "@jupyter-widgets/base",
      "model_module_version": "1.2.0",
      "model_name": "LayoutModel",
      "state": {
       "width": "600px"
      }
     },
     "6d9068865b784310bae36dbc187a18e8": {
      "model_module": "@jupyter-widgets/base",
      "model_module_version": "1.2.0",
      "model_name": "LayoutModel",
      "state": {}
     },
     "6d98ea55543845ddaea02829b0c4442f": {
      "model_module": "@jupyter-widgets/controls",
      "model_module_version": "1.5.0",
      "model_name": "ButtonStyleModel",
      "state": {}
     },
     "6d98ed8685754f098a65608bee885aef": {
      "model_module": "@jupyter-widgets/controls",
      "model_module_version": "1.5.0",
      "model_name": "ButtonStyleModel",
      "state": {}
     },
     "6db950a9b9e5488599bbee89ef55a0c4": {
      "model_module": "@jupyter-widgets/controls",
      "model_module_version": "1.5.0",
      "model_name": "ButtonStyleModel",
      "state": {
       "button_color": "lightgreen"
      }
     },
     "6dd5d2d2ffd24e88abe6d5fb3bc77ae4": {
      "model_module": "@jupyter-widgets/controls",
      "model_module_version": "1.5.0",
      "model_name": "ButtonModel",
      "state": {
       "description": "cross-serial dependencies",
       "layout": "IPY_MODEL_b32d7b478b9a4afbb68e3ae2bef1f9f5",
       "style": "IPY_MODEL_f8a8f7d1033c4568978d78b84e604990"
      }
     },
     "6e05e96d5d7f47988f39ca6323b749e7": {
      "model_module": "@jupyter-widgets/controls",
      "model_module_version": "1.5.0",
      "model_name": "DescriptionStyleModel",
      "state": {
       "description_width": "initial"
      }
     },
     "6e2a446b35c04fa693afd1e0994748f8": {
      "model_module": "@jupyter-widgets/controls",
      "model_module_version": "1.5.0",
      "model_name": "CheckboxModel",
      "state": {
       "description": "ein Chunk wird in zwei Chunks aufgeteilt",
       "disabled": false,
       "layout": "IPY_MODEL_413ad029e23c42788b9d9e0d0599ee4d",
       "style": "IPY_MODEL_a47e418647794302b92d89c943b9b9fa",
       "value": false
      }
     },
     "6e45a900d18940bd87941e1b4ab09c57": {
      "model_module": "@jupyter-widgets/controls",
      "model_module_version": "1.5.0",
      "model_name": "CheckboxModel",
      "state": {
       "description": "ein Chunk wird in zwei Chunks aufgeteilt",
       "disabled": false,
       "layout": "IPY_MODEL_9176024013c14957b340924aa0f958fe",
       "style": "IPY_MODEL_ab6aa1bb339a40fb970d556e42ab19db",
       "value": true
      }
     },
     "6e582dfd25ab4a73a2fc8539340f28ce": {
      "model_module": "@jupyter-widgets/base",
      "model_module_version": "1.2.0",
      "model_name": "LayoutModel",
      "state": {}
     },
     "6e70af53e6174aa89ac29d76412b9adc": {
      "model_module": "@jupyter-widgets/controls",
      "model_module_version": "1.5.0",
      "model_name": "ButtonModel",
      "state": {
       "description": "Ja",
       "layout": "IPY_MODEL_3a675507a09a40b1b6665d416a5fdab9",
       "style": "IPY_MODEL_264256f5aadb43e4aef4a0ddd821c401"
      }
     },
     "6eacaef141854f2198a19c9f75dd5737": {
      "model_module": "@jupyter-widgets/base",
      "model_module_version": "1.2.0",
      "model_name": "LayoutModel",
      "state": {
       "justify_content": "center"
      }
     },
     "6eb062c617b84401b6a3c3ad3c0bc561": {
      "model_module": "@jupyter-widgets/base",
      "model_module_version": "1.2.0",
      "model_name": "LayoutModel",
      "state": {}
     },
     "6ed55b72e0794f109f35e97a1e39d8cb": {
      "model_module": "@jupyter-widgets/controls",
      "model_module_version": "1.5.0",
      "model_name": "HBoxModel",
      "state": {
       "children": [
        "IPY_MODEL_20e59f5b2a2e49879338e17d26480bd2",
        "IPY_MODEL_3684b359c5cb49d4b041b9ea0ae8b77d"
       ],
       "layout": "IPY_MODEL_43387611648049539932b468b34ed69b"
      }
     },
     "6f035571caa046c1955ac4fecd2229bd": {
      "model_module": "@jupyter-widgets/base",
      "model_module_version": "1.2.0",
      "model_name": "LayoutModel",
      "state": {
       "justify_content": "center"
      }
     },
     "6f10f043f7ed42048980ff0bcde1faed": {
      "model_module": "@jupyter-widgets/controls",
      "model_module_version": "1.5.0",
      "model_name": "HTMLModel",
      "state": {
       "layout": "IPY_MODEL_c0e032ac4fae4e8aa5f59bf9dafe45bb",
       "style": "IPY_MODEL_a96dd5f9307f4cd9bbcb600926926c05",
       "value": "<i>Wählen Sie die <ins>eine</ins> korrekte Antwort aus: </i>"
      }
     },
     "6f22861492c24bd5bb95e3876ed3684a": {
      "model_module": "@jupyter-widgets/base",
      "model_module_version": "1.2.0",
      "model_name": "LayoutModel",
      "state": {}
     },
     "6f6382cdd25a46ac94b673bdf12b09df": {
      "model_module": "@jupyter-widgets/controls",
      "model_module_version": "1.5.0",
      "model_name": "ButtonStyleModel",
      "state": {}
     },
     "6f9b37b8bea04841859258a0936acd00": {
      "model_module": "@jupyter-widgets/base",
      "model_module_version": "1.2.0",
      "model_name": "LayoutModel",
      "state": {
       "width": "250px"
      }
     },
     "6fa3490f643945a59db8d1a6c4828479": {
      "model_module": "@jupyter-widgets/controls",
      "model_module_version": "1.5.0",
      "model_name": "ButtonModel",
      "state": {
       "description": "} {",
       "layout": "IPY_MODEL_4eaabf0b00f24383a124c929b3827578",
       "style": "IPY_MODEL_f57a878bcbd7492d9868184ccda047db"
      }
     },
     "6fcf52a62f654df6b35624e1b799845a": {
      "model_module": "@jupyter-widgets/controls",
      "model_module_version": "1.5.0",
      "model_name": "ButtonModel",
      "state": {
       "description": "Kontextfreiheit",
       "layout": "IPY_MODEL_d98e952736f3469194aded4edbf85700",
       "style": "IPY_MODEL_d6c27dc1ecd6442a8befc7845ba76219"
      }
     },
     "6fdd3734b1d24c24b3e36866dfc1c2ac": {
      "model_module": "@jupyter-widgets/controls",
      "model_module_version": "1.5.0",
      "model_name": "CheckboxModel",
      "state": {
       "description": "Recall = von allen Instanzen, für die 1 vorhergesagt wurde, wie viele wurden richtig vorhergesagt?",
       "disabled": false,
       "layout": "IPY_MODEL_1edddf8614d34904967c717aacdf18e5",
       "style": "IPY_MODEL_981c165c98f3417bbffa89f746752275",
       "value": false
      }
     },
     "6ff77d4f21084305b14cc0bcab47f70e": {
      "model_module": "@jupyter-widgets/base",
      "model_module_version": "1.2.0",
      "model_name": "LayoutModel",
      "state": {
       "width": "600px"
      }
     },
     "6ffe56d764f94ce2b64dfd0077c2e78d": {
      "model_module": "@jupyter-widgets/base",
      "model_module_version": "1.2.0",
      "model_name": "LayoutModel",
      "state": {
       "width": "600px"
      }
     },
     "7008d02f09a542c4b8b6c4d3b58de480": {
      "model_module": "@jupyter-widgets/controls",
      "model_module_version": "1.5.0",
      "model_name": "HTMLModel",
      "state": {
       "layout": "IPY_MODEL_35ef27542af342828617f8c2ce047610",
       "style": "IPY_MODEL_d951f7ebee064cf4973e35f7c1279d74",
       "value": "<i>Wählen Sie die <ins>eine</ins> korrekte Antwort aus: </i>"
      }
     },
     "701e356292c14b0faa323c87cbc95c99": {
      "model_module": "@jupyter-widgets/controls",
      "model_module_version": "1.5.0",
      "model_name": "DescriptionStyleModel",
      "state": {
       "description_width": "initial"
      }
     },
     "7040e0c60b274654b01eda49caa69ead": {
      "model_module": "@jupyter-widgets/controls",
      "model_module_version": "1.5.0",
      "model_name": "DescriptionStyleModel",
      "state": {
       "description_width": "initial"
      }
     },
     "704a964a74b14cf8b56488f43ffd6977": {
      "model_module": "@jupyter-widgets/controls",
      "model_module_version": "1.5.0",
      "model_name": "DescriptionStyleModel",
      "state": {
       "description_width": ""
      }
     },
     "7078e305d0db41bba0da2bef08f52589": {
      "model_module": "@jupyter-widgets/base",
      "model_module_version": "1.2.0",
      "model_name": "LayoutModel",
      "state": {
       "justify_content": "center"
      }
     },
     "708250d8c34546be9af89acc81a1f824": {
      "model_module": "@jupyter-widgets/controls",
      "model_module_version": "1.5.0",
      "model_name": "HBoxModel",
      "state": {
       "children": [
        "IPY_MODEL_131de453f6b549a0b28d67120fe8f5ee",
        "IPY_MODEL_f3fdd5e9467240f8becb54e5624eda25"
       ],
       "layout": "IPY_MODEL_632204aff63f402fbf3fea2ed37d8f7f"
      }
     },
     "709119a13e6d428f80b99d3a5df6f6f8": {
      "model_module": "@jupyter-widgets/controls",
      "model_module_version": "1.5.0",
      "model_name": "VBoxModel",
      "state": {
       "children": [
        "IPY_MODEL_46f7b10918f34e93801293f2774878ab",
        "IPY_MODEL_3a063ab66a2e40b5a081fd01812f5f6b",
        "IPY_MODEL_ff5867e0aad54ac48d2c033ef68a3af5",
        "IPY_MODEL_8865f9251b5b44369464333bfa0ec02e"
       ],
       "layout": "IPY_MODEL_09189b5184e84fc6b2862be2e2428b8c"
      }
     },
     "70a2f3c92fd64412996820a4f7e7ac08": {
      "model_module": "@jupyter-widgets/controls",
      "model_module_version": "1.5.0",
      "model_name": "HTMLModel",
      "state": {
       "layout": "IPY_MODEL_26771a08d56a4fafa6444573bb23a4f7",
       "style": "IPY_MODEL_6022cc78a65745a6be5152e26b523d9d",
       "value": "<h4 style=\"font-size:14px;\">Um was für ein Sprachkonstrukt handelt es sich?</h4>"
      }
     },
     "70a86e714f6048a8adefa4b6a96f05d9": {
      "model_module": "@jupyter-widgets/base",
      "model_module_version": "1.2.0",
      "model_name": "LayoutModel",
      "state": {
       "width": "250px"
      }
     },
     "70ca3f95a4e5468ab7c6e6543a77132a": {
      "model_module": "@jupyter-widgets/controls",
      "model_module_version": "1.5.0",
      "model_name": "DescriptionStyleModel",
      "state": {
       "description_width": ""
      }
     },
     "70d49e6b044e4df3a05650f9f2d382c4": {
      "model_module": "@jupyter-widgets/controls",
      "model_module_version": "1.5.0",
      "model_name": "HBoxModel",
      "state": {
       "children": [
        "IPY_MODEL_0df48255229647fdb05dbcb403005812",
        "IPY_MODEL_baa310afd0f94e54ae1d5690d99f3f2b"
       ],
       "layout": "IPY_MODEL_6cba415a262c4a75a03e9e1de53a5aed"
      }
     },
     "70e377311fd24721ab4e3ad9c5a5b1e3": {
      "model_module": "@jupyter-widgets/base",
      "model_module_version": "1.2.0",
      "model_name": "LayoutModel",
      "state": {}
     },
     "710aff3048604129a6c353d770dd39bd": {
      "model_module": "@jupyter-widgets/controls",
      "model_module_version": "1.5.0",
      "model_name": "ButtonModel",
      "state": {
       "description": "cross-serial dependencies",
       "layout": "IPY_MODEL_e6d400208263456fb7b2f22292e86d3e",
       "style": "IPY_MODEL_3f6409662eca4903a1f6a9ab9f6c9b41"
      }
     },
     "7122bfc60bcb4fbdba5dbbb37f62ebdc": {
      "model_module": "@jupyter-widgets/controls",
      "model_module_version": "1.5.0",
      "model_name": "DescriptionStyleModel",
      "state": {
       "description_width": "initial"
      }
     },
     "7142ce5b06a1448fad140ea4b651cd49": {
      "model_module": "@jupyter-widgets/controls",
      "model_module_version": "1.5.0",
      "model_name": "CheckboxModel",
      "state": {
       "description": "Recall = von allen Instanzen, für die 1 vorhergesagt wurde, wie viele wurden richtig vorhergesagt?",
       "disabled": false,
       "layout": "IPY_MODEL_7be5f0f1a0834c3da6662122b9b09aaf",
       "style": "IPY_MODEL_eb094ea80b7c48aa9e11144a41d2a78a",
       "value": false
      }
     },
     "71525a9bca4240bc8457ba8febd58219": {
      "model_module": "@jupyter-widgets/controls",
      "model_module_version": "1.5.0",
      "model_name": "HTMLModel",
      "state": {
       "layout": "IPY_MODEL_07c08a9e83c74743968d4220f4c54fb4",
       "style": "IPY_MODEL_a2a0fa167c52427c82b0a8cfa7be5159",
       "value": "<i>Markieren Sie <ins>alle</ins> passenden Antworten: </i>"
      }
     },
     "7152b43f4b6042418e2b870b2c0825f5": {
      "model_module": "@jupyter-widgets/controls",
      "model_module_version": "1.5.0",
      "model_name": "ButtonModel",
      "state": {
       "description": "regulär",
       "layout": "IPY_MODEL_c86d388bd5c24416ba53282a699934af",
       "style": "IPY_MODEL_1a8869f3b7ef4535ae2d92e0b25f14d9"
      }
     },
     "7154739a7ed6476e9ecdc0c745cc890a": {
      "model_module": "@jupyter-widgets/base",
      "model_module_version": "1.2.0",
      "model_name": "LayoutModel",
      "state": {}
     },
     "71736c497d80416d82bbe906cd660d87": {
      "model_module": "@jupyter-widgets/controls",
      "model_module_version": "1.5.0",
      "model_name": "ButtonModel",
      "state": {
       "description": "cross-serial dependencies",
       "layout": "IPY_MODEL_be13ca05626e4b7f830b8b080fac9874",
       "style": "IPY_MODEL_1f197ccf150a4fd2b2d1593c8efa29d6"
      }
     },
     "717f24c001b04d03881bc54db2d45dc0": {
      "model_module": "@jupyter-widgets/base",
      "model_module_version": "1.2.0",
      "model_name": "LayoutModel",
      "state": {
       "width": "250px"
      }
     },
     "71a72e534b1a4f1b890b1ab8781fa6b8": {
      "model_module": "@jupyter-widgets/controls",
      "model_module_version": "1.5.0",
      "model_name": "VBoxModel",
      "state": {
       "children": [
        "IPY_MODEL_71fd1700e0aa4d3eaf9828a02654cc01",
        "IPY_MODEL_dbad67aa1b3245d6a091d5ab8dcbc4b5",
        "IPY_MODEL_895c7427a0844671aa61c4c91b0acc05",
        "IPY_MODEL_9bc0cbe87c714aa9b5005df246b1c961"
       ],
       "layout": "IPY_MODEL_c4f0ee90443c46b881ecbe0056f5b5ee"
      }
     },
     "71bf61dec77c4cfa954420f207ae5fcf": {
      "model_module": "@jupyter-widgets/base",
      "model_module_version": "1.2.0",
      "model_name": "LayoutModel",
      "state": {
       "width": "600px"
      }
     },
     "71c1b5f0a0b64b9aaf8f7d605989d537": {
      "model_module": "@jupyter-widgets/controls",
      "model_module_version": "1.5.0",
      "model_name": "ButtonModel",
      "state": {
       "description": "kontextsensitiv",
       "layout": "IPY_MODEL_7d75ccb0c70b404c9d02d7e27ebad1b2",
       "style": "IPY_MODEL_63b53ffbce734595a78421fe9fb451ce"
      }
     },
     "71e42b0e94174a0fb96b3b602939a808": {
      "model_module": "@jupyter-widgets/controls",
      "model_module_version": "1.5.0",
      "model_name": "ButtonModel",
      "state": {
       "description": "regulär",
       "layout": "IPY_MODEL_2be1b7fef6a1445cbe517d8bb24220e1",
       "style": "IPY_MODEL_24e065040e1f43d6af993e4cdfd978b8"
      }
     },
     "71fd1700e0aa4d3eaf9828a02654cc01": {
      "model_module": "@jupyter-widgets/controls",
      "model_module_version": "1.5.0",
      "model_name": "HTMLModel",
      "state": {
       "layout": "IPY_MODEL_f54a21ab9a134330bc1f875f5b6476bb",
       "style": "IPY_MODEL_052abd6e71e94232acb26d732513ee88",
       "value": "<h4 style=\"font-size:14px;\">Wozu sind Tag Pattern ähnlich?</h4>"
      }
     },
     "720524f9d76b4ab38cb6fced11e95fa0": {
      "model_module": "@jupyter-widgets/controls",
      "model_module_version": "1.5.0",
      "model_name": "DescriptionStyleModel",
      "state": {
       "description_width": "initial"
      }
     },
     "723650f0fa9f44f0a9548b693fbefb7b": {
      "model_module": "@jupyter-widgets/controls",
      "model_module_version": "1.5.0",
      "model_name": "DescriptionStyleModel",
      "state": {
       "description_width": ""
      }
     },
     "72567e00a95f4d709100aa476bf9271a": {
      "model_module": "@jupyter-widgets/controls",
      "model_module_version": "1.5.0",
      "model_name": "ButtonModel",
      "state": {
       "description": "part-of-speech tags",
       "layout": "IPY_MODEL_ea23455f16bd40bda32523a9bd4663ed",
       "style": "IPY_MODEL_fd7efce7a5924a0d9ba49c92c162e689"
      }
     },
     "728ff0183b054156960b4d7db5894459": {
      "model_module": "@jupyter-widgets/controls",
      "model_module_version": "1.5.0",
      "model_name": "DescriptionStyleModel",
      "state": {
       "description_width": "initial"
      }
     },
     "729a2c526b964a85b3388931ddd9b161": {
      "model_module": "@jupyter-widgets/base",
      "model_module_version": "1.2.0",
      "model_name": "LayoutModel",
      "state": {
       "width": "250px"
      }
     },
     "729d2c3871ca4e3daad88404923d137f": {
      "model_module": "@jupyter-widgets/base",
      "model_module_version": "1.2.0",
      "model_name": "LayoutModel",
      "state": {
       "width": "250px"
      }
     },
     "72cca4b3ec3e435d9e0e99aee4dcf765": {
      "model_module": "@jupyter-widgets/controls",
      "model_module_version": "1.5.0",
      "model_name": "DescriptionStyleModel",
      "state": {
       "description_width": ""
      }
     },
     "72e2808bf45b446e9ce644cf8746d689": {
      "model_module": "@jupyter-widgets/controls",
      "model_module_version": "1.5.0",
      "model_name": "ButtonModel",
      "state": {
       "description": "garden-path sentence",
       "layout": "IPY_MODEL_5b723919229a48c4868665128e33daac",
       "style": "IPY_MODEL_0d4b96d9308c48b19685638a8548dc89"
      }
     },
     "72e536e5cd06488286ee651fd951eff7": {
      "model_module": "@jupyter-widgets/base",
      "model_module_version": "1.2.0",
      "model_name": "LayoutModel",
      "state": {
       "width": "250px"
      }
     },
     "72f6f322d45a4e58ad6fd4dd3a743f3b": {
      "model_module": "@jupyter-widgets/base",
      "model_module_version": "1.2.0",
      "model_name": "LayoutModel",
      "state": {}
     },
     "730552e997b84e2cafb7b40dba6de45e": {
      "model_module": "@jupyter-widgets/controls",
      "model_module_version": "1.5.0",
      "model_name": "ButtonStyleModel",
      "state": {}
     },
     "73107d35533f4f93b220bd8206a945d6": {
      "model_module": "@jupyter-widgets/controls",
      "model_module_version": "1.5.0",
      "model_name": "VBoxModel",
      "state": {
       "children": [
        "IPY_MODEL_ca135259768a4b54b09eb2df971e5adb",
        "IPY_MODEL_f3d49c389409453ab851d191367f420a",
        "IPY_MODEL_62557a020b1f4f6db1dabe27042b7f6e",
        "IPY_MODEL_a1f9c9a33c1d4045b8f12dcf7d8cadf0"
       ],
       "layout": "IPY_MODEL_b57cfccbf68347b89caf2d84f1a9e5d6"
      }
     },
     "733c24fb95834f75b1264852ea01a821": {
      "model_module": "@jupyter-widgets/controls",
      "model_module_version": "1.5.0",
      "model_name": "HTMLModel",
      "state": {
       "layout": "IPY_MODEL_e3ec373662104c0cac5187d9e95d158a",
       "style": "IPY_MODEL_59165eef38434c57913c94caff74c404",
       "value": "<h4 style=\"font-size:14px;\">Was kann mit Chinking erreicht werden?</h4>"
      }
     },
     "7340a62c28404d4181e90f1c23db7fcf": {
      "model_module": "@jupyter-widgets/controls",
      "model_module_version": "1.5.0",
      "model_name": "ButtonStyleModel",
      "state": {}
     },
     "734bd5cde80b4f9487f3249e4c2532be": {
      "model_module": "@jupyter-widgets/controls",
      "model_module_version": "1.5.0",
      "model_name": "DescriptionStyleModel",
      "state": {
       "description_width": ""
      }
     },
     "738518c5b8aa449081681c8d2d17f617": {
      "model_module": "@jupyter-widgets/base",
      "model_module_version": "1.2.0",
      "model_name": "LayoutModel",
      "state": {
       "width": "250px"
      }
     },
     "7385ede3fd4f442fb7a7141939266db1": {
      "model_module": "@jupyter-widgets/base",
      "model_module_version": "1.2.0",
      "model_name": "LayoutModel",
      "state": {}
     },
     "738849a0bcb647a784a3fea73125f287": {
      "model_module": "@jupyter-widgets/base",
      "model_module_version": "1.2.0",
      "model_name": "LayoutModel",
      "state": {
       "width": "600px"
      }
     },
     "739fb2efeb8e44d3a8dbf11deca14a11": {
      "model_module": "@jupyter-widgets/controls",
      "model_module_version": "1.5.0",
      "model_name": "ButtonModel",
      "state": {
       "description": "Korrekt?",
       "layout": "IPY_MODEL_0aaeb3073a6e4cf5aa78e5cf7e52f37c",
       "style": "IPY_MODEL_eee4f7e3254e4895880a23de252350b1"
      }
     },
     "73ce22391cea495e9adbcf24d2eaf3a6": {
      "model_module": "@jupyter-widgets/base",
      "model_module_version": "1.2.0",
      "model_name": "LayoutModel",
      "state": {
       "width": "250px"
      }
     },
     "73d2514d429840e18181112d1015fd68": {
      "model_module": "@jupyter-widgets/controls",
      "model_module_version": "1.5.0",
      "model_name": "DescriptionStyleModel",
      "state": {
       "description_width": ""
      }
     },
     "740114d84b284bb595d47aace367f16a": {
      "model_module": "@jupyter-widgets/base",
      "model_module_version": "1.2.0",
      "model_name": "LayoutModel",
      "state": {
       "width": "600px"
      }
     },
     "7402bc233760415db26d13b04f04f474": {
      "model_module": "@jupyter-widgets/controls",
      "model_module_version": "1.5.0",
      "model_name": "DescriptionStyleModel",
      "state": {
       "description_width": "initial"
      }
     },
     "74299e3aaa0c496aa012543561b05bc3": {
      "model_module": "@jupyter-widgets/controls",
      "model_module_version": "1.5.0",
      "model_name": "HTMLModel",
      "state": {
       "layout": "IPY_MODEL_8768e6fb524f40d2a610555efa323c3b",
       "style": "IPY_MODEL_d050be1b0b6d46f5827592a1fc6cb8e7",
       "value": "<h4 style=\"font-size:14px;\">Ist der Satz ambig?</h4>"
      }
     },
     "7440fa4efcac4c31880aa5b04534aa72": {
      "model_module": "@jupyter-widgets/controls",
      "model_module_version": "1.5.0",
      "model_name": "ButtonModel",
      "state": {
       "description": "Nein",
       "layout": "IPY_MODEL_0b0b72bb2ca94c588b5165e5816d0827",
       "style": "IPY_MODEL_7c358c318205415baf11593b7b37230f"
      }
     },
     "744954ae14a14858bda4a427d31c1168": {
      "model_module": "@jupyter-widgets/base",
      "model_module_version": "1.2.0",
      "model_name": "LayoutModel",
      "state": {
       "justify_content": "center"
      }
     },
     "7456053ab1224cf5b6ecdc500dbdb8a2": {
      "model_module": "@jupyter-widgets/base",
      "model_module_version": "1.2.0",
      "model_name": "LayoutModel",
      "state": {}
     },
     "74612a4c26384425b9e194a8c31aeeaf": {
      "model_module": "@jupyter-widgets/controls",
      "model_module_version": "1.5.0",
      "model_name": "VBoxModel",
      "state": {
       "children": [
        "IPY_MODEL_05b902981ecb408ca776a6202a287752",
        "IPY_MODEL_da4173dcda744e4282bd5002fafbffc8",
        "IPY_MODEL_ff1d84987e4446c2b7e0e32b7bf42de2"
       ],
       "layout": "IPY_MODEL_eb3ef09061574e1ca877f0b6057cbc8d"
      }
     },
     "747b3c77ddc64aacab1fd827de67c983": {
      "model_module": "@jupyter-widgets/controls",
      "model_module_version": "1.5.0",
      "model_name": "DescriptionStyleModel",
      "state": {
       "description_width": "initial"
      }
     },
     "74882c8fa3c9432bbf62308c3398a079": {
      "model_module": "@jupyter-widgets/base",
      "model_module_version": "1.2.0",
      "model_name": "LayoutModel",
      "state": {
       "justify_content": "center"
      }
     },
     "7496f536d6f64458a127541d00337a2e": {
      "model_module": "@jupyter-widgets/controls",
      "model_module_version": "1.5.0",
      "model_name": "ButtonStyleModel",
      "state": {}
     },
     "74c73c864ee140bb99323101f3a2a813": {
      "model_module": "@jupyter-widgets/controls",
      "model_module_version": "1.5.0",
      "model_name": "CheckboxModel",
      "state": {
       "description": "zwei Chunks werden zu einem größeren zusammengefasst",
       "disabled": false,
       "layout": "IPY_MODEL_25ba6a08db58406bb0f41ec17a3cc204",
       "style": "IPY_MODEL_a1c293c3a89a4af8932cb1ced651a608",
       "value": false
      }
     },
     "74cde8647e3d491087584ed434e0c860": {
      "model_module": "@jupyter-widgets/controls",
      "model_module_version": "1.5.0",
      "model_name": "ButtonModel",
      "state": {
       "description": "Keine der anderen Möglichkeiten",
       "layout": "IPY_MODEL_0fffe1a721534791b8e7e35db5b3fc6f",
       "style": "IPY_MODEL_7a814f7f429f469a8c451fcfbdf7e563"
      }
     },
     "74fe1b5c6f4e4774820edc206633eadd": {
      "model_module": "@jupyter-widgets/controls",
      "model_module_version": "1.5.0",
      "model_name": "VBoxModel",
      "state": {
       "children": [
        "IPY_MODEL_dd11de7ecc724c58b2e957e58debdc96",
        "IPY_MODEL_16e5e2a25cc24b9ca6dca156196ad51a",
        "IPY_MODEL_c45b00f21baf43deb160eebe7af89880",
        "IPY_MODEL_1e6ff97bd65f45aba8066884749ba218"
       ],
       "layout": "IPY_MODEL_6eb062c617b84401b6a3c3ad3c0bc561"
      }
     },
     "75135db5321c4a53ab77ada8e0465d44": {
      "model_module": "@jupyter-widgets/controls",
      "model_module_version": "1.5.0",
      "model_name": "DescriptionStyleModel",
      "state": {
       "description_width": ""
      }
     },
     "752560a068794d82abd652cde451b016": {
      "model_module": "@jupyter-widgets/base",
      "model_module_version": "1.2.0",
      "model_name": "LayoutModel",
      "state": {}
     },
     "7526677afacd44ddab072dc566ab3d05": {
      "model_module": "@jupyter-widgets/controls",
      "model_module_version": "1.5.0",
      "model_name": "ButtonStyleModel",
      "state": {}
     },
     "7565f2b7840f45729d78d03092ca824e": {
      "model_module": "@jupyter-widgets/base",
      "model_module_version": "1.2.0",
      "model_name": "LayoutModel",
      "state": {}
     },
     "7566d2da01294fe6971bfc09ce912cc6": {
      "model_module": "@jupyter-widgets/controls",
      "model_module_version": "1.5.0",
      "model_name": "ButtonStyleModel",
      "state": {}
     },
     "75887ba842064d71b7020b0d513bac85": {
      "model_module": "@jupyter-widgets/controls",
      "model_module_version": "1.5.0",
      "model_name": "ButtonStyleModel",
      "state": {
       "button_color": "lightgreen"
      }
     },
     "7597d1fd5c8e423697b76888861a31df": {
      "model_module": "@jupyter-widgets/controls",
      "model_module_version": "1.5.0",
      "model_name": "DescriptionStyleModel",
      "state": {
       "description_width": "initial"
      }
     },
     "75a15efd2acb4463839a330938582e5d": {
      "model_module": "@jupyter-widgets/base",
      "model_module_version": "1.2.0",
      "model_name": "LayoutModel",
      "state": {}
     },
     "75ac5bbc73544815a176d5ad93289318": {
      "model_module": "@jupyter-widgets/controls",
      "model_module_version": "1.5.0",
      "model_name": "CheckboxModel",
      "state": {
       "description": "Es gibt keinen Unterschied.",
       "disabled": false,
       "layout": "IPY_MODEL_be5deb4489074522865e010053c694b7",
       "style": "IPY_MODEL_0194d32eb6cf4874b1181ce4bc456db6",
       "value": false
      }
     },
     "75b636b493804e32b1ec5e66672aa153": {
      "model_module": "@jupyter-widgets/controls",
      "model_module_version": "1.5.0",
      "model_name": "ButtonStyleModel",
      "state": {}
     },
     "75bf4fd37cb545c18bf921dde2df00c9": {
      "model_module": "@jupyter-widgets/base",
      "model_module_version": "1.2.0",
      "model_name": "LayoutModel",
      "state": {
       "width": "250px"
      }
     },
     "75ebdcb62d9446bbaf5b7ed4c23a88d9": {
      "model_module": "@jupyter-widgets/base",
      "model_module_version": "1.2.0",
      "model_name": "LayoutModel",
      "state": {
       "width": "250px"
      }
     },
     "7607cff5a296492fb6cc7edb81abfd0e": {
      "model_module": "@jupyter-widgets/controls",
      "model_module_version": "1.5.0",
      "model_name": "VBoxModel",
      "state": {
       "children": [
        "IPY_MODEL_f1ca79914a4d4b0188baa63f561c4fc3",
        "IPY_MODEL_f7af639014504ff3baa9119442473f7a",
        "IPY_MODEL_61ecd3d5d3734fcf98dd8155c2bca778",
        "IPY_MODEL_c49ad67317ef48a589c28478dd42d97d",
        "IPY_MODEL_66029abef1b14dd8ad0738c663ed2b57",
        "IPY_MODEL_b22d7b1c660e49b49ff39af5624b125d",
        "IPY_MODEL_0058dcf217c94ea99e2772cc1c1c4046",
        "IPY_MODEL_05e4e229719e4fa79dce34300e2e4439"
       ],
       "layout": "IPY_MODEL_90846aaa16354ae9a3ac824984fff498"
      }
     },
     "761fd4f8ab54416393b89b010c755a69": {
      "model_module": "@jupyter-widgets/base",
      "model_module_version": "1.2.0",
      "model_name": "LayoutModel",
      "state": {
       "justify_content": "center"
      }
     },
     "762049428e6e45ae942d6f65670c913c": {
      "model_module": "@jupyter-widgets/controls",
      "model_module_version": "1.5.0",
      "model_name": "ButtonModel",
      "state": {
       "description": "center embedding",
       "layout": "IPY_MODEL_893c0631aa994448a6249cd6d904c525",
       "style": "IPY_MODEL_61dfe14b56f14b6f987d4b07036bbe39"
      }
     },
     "762a81bd343348969bedc7d57d360c51": {
      "model_module": "@jupyter-widgets/base",
      "model_module_version": "1.2.0",
      "model_name": "LayoutModel",
      "state": {
       "width": "250px"
      }
     },
     "76434f247b8f4b62abf5de4c12d1293e": {
      "model_module": "@jupyter-widgets/controls",
      "model_module_version": "1.5.0",
      "model_name": "HTMLModel",
      "state": {
       "layout": "IPY_MODEL_2900afa614ee4167928a26e74031bfe4",
       "style": "IPY_MODEL_492515a55c494bc3a5bb5daf4cb94a21",
       "value": "<h4 style=\"font-size:14px;\">Welchem Typ muss eine Grammatik mindestens genügen, um solche Sätze modellieren zu können?</h4>"
      }
     },
     "764666f4aa074690ac90cf0bff325741": {
      "model_module": "@jupyter-widgets/base",
      "model_module_version": "1.2.0",
      "model_name": "LayoutModel",
      "state": {}
     },
     "764ea62a82eb4cf186afd7d6491eab7a": {
      "model_module": "@jupyter-widgets/controls",
      "model_module_version": "1.5.0",
      "model_name": "HTMLModel",
      "state": {
       "layout": "IPY_MODEL_772793083bc34cc1a9d0ab30ea2efd01",
       "style": "IPY_MODEL_64956b6453504140b683406ae0b01ad1",
       "value": "<i>Markieren Sie <ins>alle</ins> passenden Antworten: </i>"
      }
     },
     "7694526ec4534601816e510ecada500d": {
      "model_module": "@jupyter-widgets/controls",
      "model_module_version": "1.5.0",
      "model_name": "DescriptionStyleModel",
      "state": {
       "description_width": ""
      }
     },
     "76a433169ee34e0da64f52ffa3e2f728": {
      "model_module": "@jupyter-widgets/controls",
      "model_module_version": "1.5.0",
      "model_name": "VBoxModel",
      "state": {
       "children": [
        "IPY_MODEL_74299e3aaa0c496aa012543561b05bc3",
        "IPY_MODEL_1dd1aee9ea7e457b9347d3daafd4936f",
        "IPY_MODEL_445cb4ceeba04b1b90cf3647abdbac14"
       ],
       "layout": "IPY_MODEL_9a321ff615fc47f69cb2cd84dbd24e5b"
      }
     },
     "76c921ec0ae8474cbf7ac201681a9829": {
      "model_module": "@jupyter-widgets/base",
      "model_module_version": "1.2.0",
      "model_name": "LayoutModel",
      "state": {
       "justify_content": "center"
      }
     },
     "76e31fe245b9482a9c6055d99f5d60b7": {
      "model_module": "@jupyter-widgets/base",
      "model_module_version": "1.2.0",
      "model_name": "LayoutModel",
      "state": {
       "width": "600px"
      }
     },
     "772793083bc34cc1a9d0ab30ea2efd01": {
      "model_module": "@jupyter-widgets/base",
      "model_module_version": "1.2.0",
      "model_name": "LayoutModel",
      "state": {
       "justify_content": "center"
      }
     },
     "77506e03b45e41baa20447b5e2b4b062": {
      "model_module": "@jupyter-widgets/controls",
      "model_module_version": "1.5.0",
      "model_name": "CheckboxModel",
      "state": {
       "description": "F1 = (2 * Precision * Recall) / (Precision + Rrecall)",
       "disabled": false,
       "layout": "IPY_MODEL_038a07bda87041c89cf8e4d9631c23d8",
       "style": "IPY_MODEL_294056b48ef04500b71a2b6d9577a993",
       "value": false
      }
     },
     "776698c73f5d4caca7ff9695e76bab52": {
      "model_module": "@jupyter-widgets/controls",
      "model_module_version": "1.5.0",
      "model_name": "HTMLModel",
      "state": {
       "layout": "IPY_MODEL_2c5d1e79ce5442d99e40c5c27ceab08e",
       "style": "IPY_MODEL_86d6cbcf9f4d4d5da48256daed0a1669",
       "value": "<i>Wählen Sie die <ins>eine</ins> korrekte Antwort aus: </i>"
      }
     },
     "778fb168ed5646dcaa8eef75a5ecd554": {
      "model_module": "@jupyter-widgets/base",
      "model_module_version": "1.2.0",
      "model_name": "LayoutModel",
      "state": {
       "width": "250px"
      }
     },
     "7794dc4446d8400dbb3745d16b52e268": {
      "model_module": "@jupyter-widgets/base",
      "model_module_version": "1.2.0",
      "model_name": "LayoutModel",
      "state": {
       "justify_content": "center"
      }
     },
     "77a774ebdef243dd89555abaca077079": {
      "model_module": "@jupyter-widgets/controls",
      "model_module_version": "1.5.0",
      "model_name": "DescriptionStyleModel",
      "state": {
       "description_width": "initial"
      }
     },
     "77efc034a849489d9fe824a83f5a34d9": {
      "model_module": "@jupyter-widgets/controls",
      "model_module_version": "1.5.0",
      "model_name": "ButtonModel",
      "state": {
       "description": "} {",
       "layout": "IPY_MODEL_529310de72a841a5accba3e965046910",
       "style": "IPY_MODEL_d637ee3457cb4544a58674b07b0d969c"
      }
     },
     "78518437b24f4ab6995e6b7256fdfb97": {
      "model_module": "@jupyter-widgets/controls",
      "model_module_version": "1.5.0",
      "model_name": "DescriptionStyleModel",
      "state": {
       "description_width": ""
      }
     },
     "78539580c32d45d89c8a03a1f7995a0a": {
      "model_module": "@jupyter-widgets/controls",
      "model_module_version": "1.5.0",
      "model_name": "HBoxModel",
      "state": {
       "children": [
        "IPY_MODEL_693e4873777c464b9ae7d8b1a9bd28b5",
        "IPY_MODEL_efd6a76ffaf04ae28ee5f2201817d89e"
       ],
       "layout": "IPY_MODEL_0feb4cd87544463e87aa3d1492f64fc1"
      }
     },
     "78595bc102ac4592b640d304fe63069b": {
      "model_module": "@jupyter-widgets/base",
      "model_module_version": "1.2.0",
      "model_name": "LayoutModel",
      "state": {
       "width": "250px"
      }
     },
     "786fddf5994242dda0dd2154031b1f34": {
      "model_module": "@jupyter-widgets/controls",
      "model_module_version": "1.5.0",
      "model_name": "HTMLModel",
      "state": {
       "layout": "IPY_MODEL_aee23a3f398b459ba3090c94e6eb3b63",
       "style": "IPY_MODEL_cf6a3c0b05804ab29a6f426743c7b540",
       "value": "<i>Wählen Sie die <ins>eine</ins> korrekte Antwort aus: </i>"
      }
     },
     "787ce3fd19ce49b79f20cf54bc2a0e88": {
      "model_module": "@jupyter-widgets/base",
      "model_module_version": "1.2.0",
      "model_name": "LayoutModel",
      "state": {}
     },
     "78844a587ed448ac8c16d490135981a5": {
      "model_module": "@jupyter-widgets/controls",
      "model_module_version": "1.5.0",
      "model_name": "HBoxModel",
      "state": {
       "children": [
        "IPY_MODEL_a12934155f214eb0b18e7f7fe6d4b463",
        "IPY_MODEL_05adc5d06d8d49f5adeb856a6ce97646"
       ],
       "layout": "IPY_MODEL_bfbe61735b1449929b5b817d2482288c"
      }
     },
     "78d266e9a8ca42e4a8103835c98c49d9": {
      "model_module": "@jupyter-widgets/base",
      "model_module_version": "1.2.0",
      "model_name": "LayoutModel",
      "state": {
       "width": "600px"
      }
     },
     "78eac4e60d7f40e3939a64bba4bfb6f7": {
      "model_module": "@jupyter-widgets/base",
      "model_module_version": "1.2.0",
      "model_name": "LayoutModel",
      "state": {
       "justify_content": "center"
      }
     },
     "78f6a0fbb91e404da8829fddf0a568ec": {
      "model_module": "@jupyter-widgets/base",
      "model_module_version": "1.2.0",
      "model_name": "LayoutModel",
      "state": {
       "width": "250px"
      }
     },
     "78f8ab0028894179b3c819e145829c53": {
      "model_module": "@jupyter-widgets/controls",
      "model_module_version": "1.5.0",
      "model_name": "ButtonStyleModel",
      "state": {}
     },
     "790da32c2feb42b2b05d42bc370f7f37": {
      "model_module": "@jupyter-widgets/controls",
      "model_module_version": "1.5.0",
      "model_name": "HBoxModel",
      "state": {
       "children": [
        "IPY_MODEL_d97ef590290041cd8986b61d764443b1",
        "IPY_MODEL_e39d2f1bd5674c91a274e41fc0f54317"
       ],
       "layout": "IPY_MODEL_00580d19a41e4fdeb4395592abcad903"
      }
     },
     "79258f7ca6264e6488f8f715758c3483": {
      "model_module": "@jupyter-widgets/controls",
      "model_module_version": "1.5.0",
      "model_name": "ButtonStyleModel",
      "state": {}
     },
     "79289d9403fc44598f2653a453abf498": {
      "model_module": "@jupyter-widgets/controls",
      "model_module_version": "1.5.0",
      "model_name": "HTMLModel",
      "state": {
       "layout": "IPY_MODEL_c4420320cd1146dfbd00144c705f1488",
       "style": "IPY_MODEL_47faf3b352154bc2898228b2e1d773b5",
       "value": "<i>Wählen Sie die <ins>eine</ins> korrekte Antwort aus: </i>"
      }
     },
     "793c8b9e4f6645e1b08869381b75f3cd": {
      "model_module": "@jupyter-widgets/controls",
      "model_module_version": "1.5.0",
      "model_name": "DescriptionStyleModel",
      "state": {
       "description_width": "initial"
      }
     },
     "7954eaf23ea44f1997aa894ec1d84f9b": {
      "model_module": "@jupyter-widgets/controls",
      "model_module_version": "1.5.0",
      "model_name": "HTMLModel",
      "state": {
       "layout": "IPY_MODEL_89cf2047aced46449a2c7e2f26b8622a",
       "style": "IPY_MODEL_68ed787ab5b646ae98716d8d9418582f",
       "value": "<i>Wählen Sie die <ins>eine</ins> korrekte Antwort aus: </i>"
      }
     },
     "79709cc8d75c4f82a8d5f6cc805ba7b2": {
      "model_module": "@jupyter-widgets/controls",
      "model_module_version": "1.5.0",
      "model_name": "ButtonModel",
      "state": {
       "description": "center embedding",
       "layout": "IPY_MODEL_67ce125c1e814e739a971d409b132ec3",
       "style": "IPY_MODEL_a9af91ae70854ea68edb164716b1c9d4"
      }
     },
     "79757f82e51647df99611a83c9f97317": {
      "model_module": "@jupyter-widgets/controls",
      "model_module_version": "1.5.0",
      "model_name": "DescriptionStyleModel",
      "state": {
       "description_width": ""
      }
     },
     "79880087ca024cac8a96058b57244cd5": {
      "model_module": "@jupyter-widgets/controls",
      "model_module_version": "1.5.0",
      "model_name": "DescriptionStyleModel",
      "state": {
       "description_width": "initial"
      }
     },
     "79ab170aca5c445bba8bd87ba71d1937": {
      "model_module": "@jupyter-widgets/controls",
      "model_module_version": "1.5.0",
      "model_name": "DescriptionStyleModel",
      "state": {
       "description_width": ""
      }
     },
     "79bcf5c4c8884c6fb8beee84800ec89c": {
      "model_module": "@jupyter-widgets/controls",
      "model_module_version": "1.5.0",
      "model_name": "ButtonModel",
      "state": {
       "description": "Korrekt?",
       "layout": "IPY_MODEL_d82ed5a04f2543389b49e275bda9adab",
       "style": "IPY_MODEL_c8d5329055624955baa7545017b5bdba"
      }
     },
     "79c1223a17cb4a53ad11aa42783f41ba": {
      "model_module": "@jupyter-widgets/controls",
      "model_module_version": "1.5.0",
      "model_name": "HTMLModel",
      "state": {
       "layout": "IPY_MODEL_3894c392945c4682bda629b9a57c8279",
       "style": "IPY_MODEL_06adcee52de1491aa28fb7a0043f4b39",
       "value": "<h4 style=\"font-size:14px;\">Um was für ein Sprachkonstrukt handelt es sich?</h4>"
      }
     },
     "7a15927c31294ef1b32cb0af593a5182": {
      "model_module": "@jupyter-widgets/base",
      "model_module_version": "1.2.0",
      "model_name": "LayoutModel",
      "state": {
       "width": "250px"
      }
     },
     "7a2cfa44b6ff4a1a99a49914c9d68909": {
      "model_module": "@jupyter-widgets/base",
      "model_module_version": "1.2.0",
      "model_name": "LayoutModel",
      "state": {
       "width": "600px"
      }
     },
     "7a51e5d77984439ba5d494708cb270dd": {
      "model_module": "@jupyter-widgets/controls",
      "model_module_version": "1.5.0",
      "model_name": "ButtonModel",
      "state": {
       "description": "kontextfrei",
       "layout": "IPY_MODEL_0154da055b7243e89f2ea292d9536aae",
       "style": "IPY_MODEL_1cf2e29a56444e188cabeec12763a850"
      }
     },
     "7a58ee9902134fbeade288d609a15e85": {
      "model_module": "@jupyter-widgets/base",
      "model_module_version": "1.2.0",
      "model_name": "LayoutModel",
      "state": {
       "justify_content": "center"
      }
     },
     "7a814f7f429f469a8c451fcfbdf7e563": {
      "model_module": "@jupyter-widgets/controls",
      "model_module_version": "1.5.0",
      "model_name": "ButtonStyleModel",
      "state": {}
     },
     "7a8ceab3021c4188aa887526d84f6e35": {
      "model_module": "@jupyter-widgets/controls",
      "model_module_version": "1.5.0",
      "model_name": "ButtonModel",
      "state": {
       "description": "garden-path sentence",
       "layout": "IPY_MODEL_cb9a692e0ad84fbc94724e3b66082ca7",
       "style": "IPY_MODEL_e2cb7ab156124215a9efa77d90d0f023"
      }
     },
     "7a93ebf94d3840bc8ae564dd60af3dea": {
      "model_module": "@jupyter-widgets/base",
      "model_module_version": "1.2.0",
      "model_name": "LayoutModel",
      "state": {}
     },
     "7ae45d808a5d4d21897469f77929b012": {
      "model_module": "@jupyter-widgets/controls",
      "model_module_version": "1.5.0",
      "model_name": "DescriptionStyleModel",
      "state": {
       "description_width": ""
      }
     },
     "7af40ffee4ab4d8ebfc28120c8d7ee60": {
      "model_module": "@jupyter-widgets/controls",
      "model_module_version": "1.5.0",
      "model_name": "HBoxModel",
      "state": {
       "children": [
        "IPY_MODEL_7a51e5d77984439ba5d494708cb270dd",
        "IPY_MODEL_87e9e10a05d543d08e040f421c5e2369"
       ],
       "layout": "IPY_MODEL_29a6f5496c3043048a2ce018f309b197"
      }
     },
     "7b0ad1d702fa4d1a88a83f6061bb98c4": {
      "model_module": "@jupyter-widgets/base",
      "model_module_version": "1.2.0",
      "model_name": "LayoutModel",
      "state": {}
     },
     "7b13c8d61a06414eb45e981e9a99a336": {
      "model_module": "@jupyter-widgets/controls",
      "model_module_version": "1.5.0",
      "model_name": "HTMLModel",
      "state": {
       "layout": "IPY_MODEL_136d5d88e8ea407bad87b1a4f08cf5eb",
       "style": "IPY_MODEL_5b57c013681d4ece82f7e0db6ecc9aed",
       "value": "<h4 style=\"font-size:14px;\">Welche der Formeln berechnen Precision, Recall, Accuracy und F1-Score korrekt?</h4>"
      }
     },
     "7b29331eb5ba42d9ac085e6eec5f6978": {
      "model_module": "@jupyter-widgets/base",
      "model_module_version": "1.2.0",
      "model_name": "LayoutModel",
      "state": {
       "width": "600px"
      }
     },
     "7b2d1451a4034f9085faafa03ff9d13d": {
      "model_module": "@jupyter-widgets/controls",
      "model_module_version": "1.5.0",
      "model_name": "HTMLModel",
      "state": {
       "layout": "IPY_MODEL_4bec84328d8c4bbaa7aea9a4e14f7ad1",
       "style": "IPY_MODEL_e70962cdb1be40b99c357fbd3f6d8293",
       "value": "<h4 style=\"font-size:14px;\">Welche Klammern zeigen Chinking an?</h4>"
      }
     },
     "7b62884946aa4dd094a570058a69bc4f": {
      "model_module": "@jupyter-widgets/base",
      "model_module_version": "1.2.0",
      "model_name": "LayoutModel",
      "state": {
       "width": "600px"
      }
     },
     "7b791fa8def847f28e1df45730038bf4": {
      "model_module": "@jupyter-widgets/base",
      "model_module_version": "1.2.0",
      "model_name": "LayoutModel",
      "state": {
       "width": "600px"
      }
     },
     "7b932f992c904b55aa39eef84757ac02": {
      "model_module": "@jupyter-widgets/controls",
      "model_module_version": "1.5.0",
      "model_name": "HTMLModel",
      "state": {
       "layout": "IPY_MODEL_068e624bfc1e450eab443ec907439708",
       "style": "IPY_MODEL_8e2733734b9645428a74ce4c165c3586",
       "value": "<i>Wählen Sie die <ins>eine</ins> korrekte Antwort aus: </i>"
      }
     },
     "7b965fdc689049a093a2ec6eaf1f98df": {
      "model_module": "@jupyter-widgets/controls",
      "model_module_version": "1.5.0",
      "model_name": "ButtonStyleModel",
      "state": {}
     },
     "7bb64a069cf34caf9b5f5283721c3ead": {
      "model_module": "@jupyter-widgets/base",
      "model_module_version": "1.2.0",
      "model_name": "LayoutModel",
      "state": {
       "justify_content": "center"
      }
     },
     "7bc49c2b6e9449df92d00adbd1fc5061": {
      "model_module": "@jupyter-widgets/base",
      "model_module_version": "1.2.0",
      "model_name": "LayoutModel",
      "state": {}
     },
     "7bdb3b07be8b4abe9cb4d5beb6349c5d": {
      "model_module": "@jupyter-widgets/controls",
      "model_module_version": "1.5.0",
      "model_name": "DescriptionStyleModel",
      "state": {
       "description_width": ""
      }
     },
     "7be5cf7fe7ed478097726b881c08756f": {
      "model_module": "@jupyter-widgets/base",
      "model_module_version": "1.2.0",
      "model_name": "LayoutModel",
      "state": {}
     },
     "7be5f0f1a0834c3da6662122b9b09aaf": {
      "model_module": "@jupyter-widgets/base",
      "model_module_version": "1.2.0",
      "model_name": "LayoutModel",
      "state": {
       "width": "600px"
      }
     },
     "7bee8753f7f443fb9e30a2f06764db54": {
      "model_module": "@jupyter-widgets/controls",
      "model_module_version": "1.5.0",
      "model_name": "CheckboxModel",
      "state": {
       "description": "Accuracy = true positives / Anzahl aller Vorhersagen",
       "disabled": false,
       "layout": "IPY_MODEL_68005d78cee648449c2077e45d35c6e7",
       "style": "IPY_MODEL_b8e18d5ecffc46abb7be054e111eca9f",
       "value": false
      }
     },
     "7bf6f500ef8d4310aaa14390586d94c3": {
      "model_module": "@jupyter-widgets/controls",
      "model_module_version": "1.5.0",
      "model_name": "CheckboxModel",
      "state": {
       "description": "Output einer Chunk-Regel (Chunk-Tag) als Input einer folgenden Regel (Hintereinanderschalten)",
       "disabled": false,
       "layout": "IPY_MODEL_81798e3373374bfdaa4f098c934992b6",
       "style": "IPY_MODEL_ec4963a261f4420fb82ccbb96040434d",
       "value": false
      }
     },
     "7c1f41ad381b4ec8996eadb4a381f325": {
      "model_module": "@jupyter-widgets/controls",
      "model_module_version": "1.5.0",
      "model_name": "ButtonStyleModel",
      "state": {}
     },
     "7c343d0775e64a3e8a8ed8117aba4f41": {
      "model_module": "@jupyter-widgets/base",
      "model_module_version": "1.2.0",
      "model_name": "LayoutModel",
      "state": {}
     },
     "7c358c318205415baf11593b7b37230f": {
      "model_module": "@jupyter-widgets/controls",
      "model_module_version": "1.5.0",
      "model_name": "ButtonStyleModel",
      "state": {}
     },
     "7c369e9ba7a44a6aa27a116c10f66b28": {
      "model_module": "@jupyter-widgets/controls",
      "model_module_version": "1.5.0",
      "model_name": "HBoxModel",
      "state": {
       "children": [
        "IPY_MODEL_7a8ceab3021c4188aa887526d84f6e35",
        "IPY_MODEL_52acdf38b7da4c398e5c9e3d47ac3bee"
       ],
       "layout": "IPY_MODEL_ebf4006689184df586be91e182ea4005"
      }
     },
     "7c49be7b7a584beb95399405b926a536": {
      "model_module": "@jupyter-widgets/controls",
      "model_module_version": "1.5.0",
      "model_name": "HTMLModel",
      "state": {
       "layout": "IPY_MODEL_4bab21cbb1844bb1b05b2da1d0bb6c5b",
       "style": "IPY_MODEL_47b5e70c58df4271b2c747ede1a9d657",
       "value": "<i>Wählen Sie die <ins>eine</ins> korrekte Antwort aus: </i>"
      }
     },
     "7c618d41cd4f4fc3a975e214a0d6b1ef": {
      "model_module": "@jupyter-widgets/controls",
      "model_module_version": "1.5.0",
      "model_name": "ButtonModel",
      "state": {
       "description": "cross-serial dependencies",
       "layout": "IPY_MODEL_75bf4fd37cb545c18bf921dde2df00c9",
       "style": "IPY_MODEL_2d94a78b91da4e0dab2eb511aab5b520"
      }
     },
     "7c6948880f6c458b9fdc8ff8b3d7c2e7": {
      "model_module": "@jupyter-widgets/base",
      "model_module_version": "1.2.0",
      "model_name": "LayoutModel",
      "state": {
       "justify_content": "center"
      }
     },
     "7c74e0657fdf414da58d315ef10f1d0e": {
      "model_module": "@jupyter-widgets/controls",
      "model_module_version": "1.5.0",
      "model_name": "DescriptionStyleModel",
      "state": {
       "description_width": "initial"
      }
     },
     "7c78422bc36f44bca63b51a9b674a0d5": {
      "model_module": "@jupyter-widgets/base",
      "model_module_version": "1.2.0",
      "model_name": "LayoutModel",
      "state": {}
     },
     "7c930d6574664645b1c5a19302d36e0a": {
      "model_module": "@jupyter-widgets/controls",
      "model_module_version": "1.5.0",
      "model_name": "VBoxModel",
      "state": {
       "children": [
        "IPY_MODEL_c43c5e6ba98841059e2aa4d343a1ee2a",
        "IPY_MODEL_8b17f2d4676a499d983d7a80587e1086",
        "IPY_MODEL_16d27ca225f74e1ca8eab37ff68739cc",
        "IPY_MODEL_f03c604befe74a1aa6f0f88ae09a6b9b"
       ],
       "layout": "IPY_MODEL_dce57faa1b0643c0b6cfd3b87c49b1f7"
      }
     },
     "7ccfcf6ca32448a981d5735dd2e02486": {
      "model_module": "@jupyter-widgets/controls",
      "model_module_version": "1.5.0",
      "model_name": "DescriptionStyleModel",
      "state": {
       "description_width": ""
      }
     },
     "7cd7c9970cbb4c59bf226615988f6d7a": {
      "model_module": "@jupyter-widgets/base",
      "model_module_version": "1.2.0",
      "model_name": "LayoutModel",
      "state": {}
     },
     "7cda774c791b42f88730b6c3abfe1d4a": {
      "model_module": "@jupyter-widgets/controls",
      "model_module_version": "1.5.0",
      "model_name": "HTMLModel",
      "state": {
       "layout": "IPY_MODEL_e471c2bd50f947a1abbf9dbfaf55a4d2",
       "style": "IPY_MODEL_72cca4b3ec3e435d9e0e99aee4dcf765",
       "value": "<h4 style=\"font-size:14px;\">Sind Teile des Satzes ambig?</h4>"
      }
     },
     "7cf88ffa685b4ab882eb1ab0721f2799": {
      "model_module": "@jupyter-widgets/base",
      "model_module_version": "1.2.0",
      "model_name": "LayoutModel",
      "state": {
       "justify_content": "center"
      }
     },
     "7d0b59d29a27411aa555d392fc4174cf": {
      "model_module": "@jupyter-widgets/base",
      "model_module_version": "1.2.0",
      "model_name": "LayoutModel",
      "state": {
       "justify_content": "center"
      }
     },
     "7d10d344b97b409488da05e8a37f6229": {
      "model_module": "@jupyter-widgets/controls",
      "model_module_version": "1.5.0",
      "model_name": "ButtonModel",
      "state": {
       "description": "rekursiv aufzählbar",
       "layout": "IPY_MODEL_6f9b37b8bea04841859258a0936acd00",
       "style": "IPY_MODEL_dd42dc272120444daa1a472e3dddf292"
      }
     },
     "7d182e13c6cb457bb87e0c9a26a75cda": {
      "model_module": "@jupyter-widgets/controls",
      "model_module_version": "1.5.0",
      "model_name": "DescriptionStyleModel",
      "state": {
       "description_width": ""
      }
     },
     "7d4915fd436e4d428e340c08223a9ffd": {
      "model_module": "@jupyter-widgets/controls",
      "model_module_version": "1.5.0",
      "model_name": "ButtonStyleModel",
      "state": {}
     },
     "7d75ccb0c70b404c9d02d7e27ebad1b2": {
      "model_module": "@jupyter-widgets/base",
      "model_module_version": "1.2.0",
      "model_name": "LayoutModel",
      "state": {
       "width": "250px"
      }
     },
     "7d83155cd60b4eb49b91bf7dd76bf261": {
      "model_module": "@jupyter-widgets/base",
      "model_module_version": "1.2.0",
      "model_name": "LayoutModel",
      "state": {
       "width": "250px"
      }
     },
     "7d882c1456c3443b947e8a2148b6d9e5": {
      "model_module": "@jupyter-widgets/controls",
      "model_module_version": "1.5.0",
      "model_name": "CheckboxModel",
      "state": {
       "description": "Recall = von allen vorhergesagten tp, wie viele wurden richtig vorhergesagt",
       "disabled": false,
       "layout": "IPY_MODEL_5eef6dc26179464a87dcbece48bee61f",
       "style": "IPY_MODEL_6374c5ff29a2421a9d3666d6833f17bb",
       "value": false
      }
     },
     "7d9527081e8942f6a097b2504d627c14": {
      "model_module": "@jupyter-widgets/controls",
      "model_module_version": "1.5.0",
      "model_name": "CheckboxModel",
      "state": {
       "description": "F1 = (2 * Precision * Recall) / (Precision + Rrecall)",
       "disabled": false,
       "layout": "IPY_MODEL_c476130d1e654031a3dee5ee4d876e75",
       "style": "IPY_MODEL_ec64689e1b44451185c8f019afea418a",
       "value": false
      }
     },
     "7d9b3428fb47457e9a92c9a6e91ca959": {
      "model_module": "@jupyter-widgets/controls",
      "model_module_version": "1.5.0",
      "model_name": "CheckboxModel",
      "state": {
       "description": "Chunks sind oft kürzer als Phrasen.",
       "disabled": false,
       "layout": "IPY_MODEL_337ad3b89aee4f9aaf8010c221fa9561",
       "style": "IPY_MODEL_6e05e96d5d7f47988f39ca6323b749e7",
       "value": false
      }
     },
     "7e1465f11021460c84033db09548dff8": {
      "model_module": "@jupyter-widgets/base",
      "model_module_version": "1.2.0",
      "model_name": "LayoutModel",
      "state": {
       "justify_content": "center"
      }
     },
     "7e3bd99f383449ec973c3754a24e9c53": {
      "model_module": "@jupyter-widgets/base",
      "model_module_version": "1.2.0",
      "model_name": "LayoutModel",
      "state": {}
     },
     "7e8f1ce08aa04a2b9caeee26f0304f59": {
      "model_module": "@jupyter-widgets/controls",
      "model_module_version": "1.5.0",
      "model_name": "ButtonStyleModel",
      "state": {}
     },
     "7eac18a292d647178a03fbfaf4ef5564": {
      "model_module": "@jupyter-widgets/controls",
      "model_module_version": "1.5.0",
      "model_name": "ButtonStyleModel",
      "state": {}
     },
     "7eb74502fc5a4105a1929e29b6cb4da0": {
      "model_module": "@jupyter-widgets/controls",
      "model_module_version": "1.5.0",
      "model_name": "HBoxModel",
      "state": {
       "children": [
        "IPY_MODEL_583f6c895d4a47279f00f14406f71259",
        "IPY_MODEL_1f5fbaf42c00445f8f874bf0c7e381c9"
       ],
       "layout": "IPY_MODEL_bd6f9fe4a3994574a272589ecdcf43ba"
      }
     },
     "7eb88652d8c64530834434d1f828b84c": {
      "model_module": "@jupyter-widgets/controls",
      "model_module_version": "1.5.0",
      "model_name": "VBoxModel",
      "state": {
       "children": [
        "IPY_MODEL_1e91c473e7df489390b0cad735d17849",
        "IPY_MODEL_27ec387529f54e40a96181418c285d76",
        "IPY_MODEL_57d3461862ab42ff8632daf10dacd461",
        "IPY_MODEL_65bb67fd9a6b4ac3bb0c2b94b534345a"
       ],
       "layout": "IPY_MODEL_0516be9656b44f55a25cd0ee521cfbc9"
      }
     },
     "7ece73ea2fb84ecba973dcdb4912884a": {
      "model_module": "@jupyter-widgets/controls",
      "model_module_version": "1.5.0",
      "model_name": "DropdownModel",
      "state": {
       "_options_labels": [
        "1",
        "2",
        "3",
        "4",
        "Keine der Alternativen"
       ],
       "description": "Antwort:",
       "index": 0,
       "layout": "IPY_MODEL_90196acc03384c1391cb14d53f04304b",
       "style": "IPY_MODEL_d9d7eb1d934c4b8ab3c58de03ae2edd3"
      }
     },
     "7eed1c1f1174442eb374729e63069872": {
      "model_module": "@jupyter-widgets/base",
      "model_module_version": "1.2.0",
      "model_name": "LayoutModel",
      "state": {
       "width": "250px"
      }
     },
     "7f060974e86947bbb35f2a1691318595": {
      "model_module": "@jupyter-widgets/controls",
      "model_module_version": "1.5.0",
      "model_name": "ButtonModel",
      "state": {
       "description": "Ja",
       "layout": "IPY_MODEL_3f774312785c461dadf7bbe1b08a4ab4",
       "style": "IPY_MODEL_d76cc1a10e354aaebfeb4daefadc3e33"
      }
     },
     "7f078594cbf2451e988eb723031c0892": {
      "model_module": "@jupyter-widgets/base",
      "model_module_version": "1.2.0",
      "model_name": "LayoutModel",
      "state": {
       "width": "600px"
      }
     },
     "7f0dd1e7c51e441eb8be788b35b1d8c6": {
      "model_module": "@jupyter-widgets/controls",
      "model_module_version": "1.5.0",
      "model_name": "HTMLModel",
      "state": {
       "layout": "IPY_MODEL_c6994faa875845eeb9d8bf3e16177d22",
       "style": "IPY_MODEL_a058b47a0fd24a6f86a03cc4cf8f4990",
       "value": "<i>Wählen Sie die <ins>eine</ins> korrekte Antwort aus: </i>"
      }
     },
     "7f184ecfbd084c17b7aebea916f38b88": {
      "model_module": "@jupyter-widgets/controls",
      "model_module_version": "1.5.0",
      "model_name": "HTMLModel",
      "state": {
       "layout": "IPY_MODEL_761fd4f8ab54416393b89b010c755a69",
       "style": "IPY_MODEL_8088d0cb8b804272be58206f7a497429",
       "value": "<h4 style=\"font-size:14px;\">Um was für ein Sprachkonstrukt handelt es sich?</h4>"
      }
     },
     "7f2d7f7180b04cbeab41e8bfb542b932": {
      "model_module": "@jupyter-widgets/base",
      "model_module_version": "1.2.0",
      "model_name": "LayoutModel",
      "state": {
       "width": "600px"
      }
     },
     "7f442aa651ed478580b8302ff08d5dd3": {
      "model_module": "@jupyter-widgets/controls",
      "model_module_version": "1.5.0",
      "model_name": "CheckboxModel",
      "state": {
       "description": "Es gibt keinen Unterschied.",
       "disabled": false,
       "layout": "IPY_MODEL_ea15e7cc1d894ab4924eff81c5187f4c",
       "style": "IPY_MODEL_79880087ca024cac8a96058b57244cd5",
       "value": false
      }
     },
     "7f8201287f1a47eaa4954a0cc8ab25d6": {
      "model_module": "@jupyter-widgets/controls",
      "model_module_version": "1.5.0",
      "model_name": "CheckboxModel",
      "state": {
       "description": "ein Chunk wird verkürzt",
       "disabled": false,
       "layout": "IPY_MODEL_851ce233b9f14205977678cd4b5bb5c9",
       "style": "IPY_MODEL_7c74e0657fdf414da58d315ef10f1d0e",
       "value": false
      }
     },
     "7fa51807601e4e9891b529f604cd7f50": {
      "model_module": "@jupyter-widgets/base",
      "model_module_version": "1.2.0",
      "model_name": "LayoutModel",
      "state": {}
     },
     "7faf6ef22c6141b1a066d336fc9f400a": {
      "model_module": "@jupyter-widgets/controls",
      "model_module_version": "1.5.0",
      "model_name": "DescriptionStyleModel",
      "state": {
       "description_width": ""
      }
     },
     "7fdc3710b02849a89a9e9552b74020ea": {
      "model_module": "@jupyter-widgets/controls",
      "model_module_version": "1.5.0",
      "model_name": "CheckboxModel",
      "state": {
       "description": "ein Chunk wird in zwei Chunks aufgeteilt",
       "disabled": false,
       "layout": "IPY_MODEL_d9d837743b2c4cdaae37c985050473a8",
       "style": "IPY_MODEL_ae1ff0b28d024ee280326392241c6fcf",
       "value": false
      }
     },
     "7fe2b0bf09a146ecaab8639e357cc234": {
      "model_module": "@jupyter-widgets/controls",
      "model_module_version": "1.5.0",
      "model_name": "ButtonModel",
      "state": {
       "description": "{ }",
       "layout": "IPY_MODEL_ce217bca2aa646d18b759d4a1b5972e2",
       "style": "IPY_MODEL_9f6612d893e84cd386c04db14c1530f3"
      }
     },
     "7fe47a63a4624dfcb9faf81892cd9812": {
      "model_module": "@jupyter-widgets/controls",
      "model_module_version": "1.5.0",
      "model_name": "HBoxModel",
      "state": {
       "children": [
        "IPY_MODEL_203e250af03b44e0ae9afd076a231a9c",
        "IPY_MODEL_68a8e626a3684bd9a1ac3f31bc4e55f2"
       ],
       "layout": "IPY_MODEL_ff80f905a00940fd9ea176541bdb2381"
      }
     },
     "7ff00a80a8914d5a8b4619b11f3b2bbe": {
      "model_module": "@jupyter-widgets/controls",
      "model_module_version": "1.5.0",
      "model_name": "DescriptionStyleModel",
      "state": {
       "description_width": ""
      }
     },
     "80007472a0bf40dd8477b8fa93bc2536": {
      "model_module": "@jupyter-widgets/controls",
      "model_module_version": "1.5.0",
      "model_name": "DescriptionStyleModel",
      "state": {
       "description_width": "initial"
      }
     },
     "800e661ebb884437921337157b7fd625": {
      "model_module": "@jupyter-widgets/base",
      "model_module_version": "1.2.0",
      "model_name": "LayoutModel",
      "state": {
       "width": "250px"
      }
     },
     "805423142b014f57b24c6b7df05859ba": {
      "model_module": "@jupyter-widgets/controls",
      "model_module_version": "1.5.0",
      "model_name": "CheckboxModel",
      "state": {
       "description": "Precision = von allen Instanzen, für die 1 vorhergesagt wurde, wie viele wurden richtig vorhergesagt?",
       "disabled": false,
       "layout": "IPY_MODEL_35559234893e45fea1a46aaff94d23d4",
       "style": "IPY_MODEL_440cb97adb804df3891fa5978afd0150",
       "value": false
      }
     },
     "805fdec3d1ec4541b28f3d4c53ee49ba": {
      "model_module": "@jupyter-widgets/base",
      "model_module_version": "1.2.0",
      "model_name": "LayoutModel",
      "state": {
       "width": "250px"
      }
     },
     "8088d0cb8b804272be58206f7a497429": {
      "model_module": "@jupyter-widgets/controls",
      "model_module_version": "1.5.0",
      "model_name": "DescriptionStyleModel",
      "state": {
       "description_width": ""
      }
     },
     "808bf995e7ec442f919bfc78a97ba853": {
      "model_module": "@jupyter-widgets/controls",
      "model_module_version": "1.5.0",
      "model_name": "ButtonModel",
      "state": {
       "description": "regulär",
       "layout": "IPY_MODEL_4fa0ada8f85642409d95bd7a271b0699",
       "style": "IPY_MODEL_8c8cbf00ca5a4c6283d774fbe693472f"
      }
     },
     "80a39b3884be4e1ca157a8890d2cdcef": {
      "model_module": "@jupyter-widgets/base",
      "model_module_version": "1.2.0",
      "model_name": "LayoutModel",
      "state": {
       "width": "600px"
      }
     },
     "80defc46b8d44da5a99c40f25865d315": {
      "model_module": "@jupyter-widgets/base",
      "model_module_version": "1.2.0",
      "model_name": "LayoutModel",
      "state": {
       "width": "250px"
      }
     },
     "80f2ffb5b26647538b828e1045c13aeb": {
      "model_module": "@jupyter-widgets/controls",
      "model_module_version": "1.5.0",
      "model_name": "ButtonStyleModel",
      "state": {}
     },
     "80f9fe46d9c143a697ac600e41447dc5": {
      "model_module": "@jupyter-widgets/base",
      "model_module_version": "1.2.0",
      "model_name": "LayoutModel",
      "state": {}
     },
     "812c90e585a2470183728d9ac974dcf8": {
      "model_module": "@jupyter-widgets/base",
      "model_module_version": "1.2.0",
      "model_name": "LayoutModel",
      "state": {
       "width": "250px"
      }
     },
     "8138336c39ae48ffba11ac638305040a": {
      "model_module": "@jupyter-widgets/controls",
      "model_module_version": "1.5.0",
      "model_name": "HTMLModel",
      "state": {
       "layout": "IPY_MODEL_036855be012c48a492b28c89253c41f6",
       "style": "IPY_MODEL_79ab170aca5c445bba8bd87ba71d1937",
       "value": "<i>Wählen Sie die <ins>eine</ins> korrekte Antwort aus: </i>"
      }
     },
     "814384f5c4fd4903a3d0bbb45d52bc81": {
      "model_module": "@jupyter-widgets/controls",
      "model_module_version": "1.5.0",
      "model_name": "DescriptionStyleModel",
      "state": {
       "description_width": ""
      }
     },
     "81798e3373374bfdaa4f098c934992b6": {
      "model_module": "@jupyter-widgets/base",
      "model_module_version": "1.2.0",
      "model_name": "LayoutModel",
      "state": {
       "width": "600px"
      }
     },
     "819ce0a197054c40828ef605a202cf15": {
      "model_module": "@jupyter-widgets/base",
      "model_module_version": "1.2.0",
      "model_name": "LayoutModel",
      "state": {
       "width": "250px"
      }
     },
     "81aa3440f20f4c8e9e1c9e4a615d959a": {
      "model_module": "@jupyter-widgets/controls",
      "model_module_version": "1.5.0",
      "model_name": "DescriptionStyleModel",
      "state": {
       "description_width": ""
      }
     },
     "81e4674e0b7449c6ab0df0e10d9c1d25": {
      "model_module": "@jupyter-widgets/controls",
      "model_module_version": "1.5.0",
      "model_name": "HBoxModel",
      "state": {
       "children": [
        "IPY_MODEL_a384f8ed49e144a392424a6c06c5fcba",
        "IPY_MODEL_205fe9f3700746868964a3d6bfa4bb2c"
       ],
       "layout": "IPY_MODEL_8f03e231b02144948aad1a8c4459666c"
      }
     },
     "81ec3b36bd0646b3999b8dd75d19b9a2": {
      "model_module": "@jupyter-widgets/base",
      "model_module_version": "1.2.0",
      "model_name": "LayoutModel",
      "state": {
       "width": "600px"
      }
     },
     "820858aa33ce4b85a1ce12e9329c1df0": {
      "model_module": "@jupyter-widgets/controls",
      "model_module_version": "1.5.0",
      "model_name": "DescriptionStyleModel",
      "state": {
       "description_width": ""
      }
     },
     "821b2bc3fbe245dba2583bf072e28f6d": {
      "model_module": "@jupyter-widgets/controls",
      "model_module_version": "1.5.0",
      "model_name": "CheckboxModel",
      "state": {
       "description": "Chunks sind oft kürzer als Phrasen.",
       "disabled": false,
       "layout": "IPY_MODEL_a43f4322bb5e47c8a690c0ec43b36d72",
       "style": "IPY_MODEL_95d25e8cad1e44048364c60acacbf4c9",
       "value": false
      }
     },
     "8222ceef71ac402db74e97b7d050c30d": {
      "model_module": "@jupyter-widgets/base",
      "model_module_version": "1.2.0",
      "model_name": "LayoutModel",
      "state": {
       "width": "600px"
      }
     },
     "825567a9ff8148f0b890a22dfa488331": {
      "model_module": "@jupyter-widgets/controls",
      "model_module_version": "1.5.0",
      "model_name": "DescriptionStyleModel",
      "state": {
       "description_width": ""
      }
     },
     "8262d0bfbb364ba7bb5e795f3901b176": {
      "model_module": "@jupyter-widgets/base",
      "model_module_version": "1.2.0",
      "model_name": "LayoutModel",
      "state": {
       "width": "600px"
      }
     },
     "82abc169061d42cfbf08cb37558472e7": {
      "model_module": "@jupyter-widgets/base",
      "model_module_version": "1.2.0",
      "model_name": "LayoutModel",
      "state": {}
     },
     "82e0ffd9ec834bb0920e50e0a92623db": {
      "model_module": "@jupyter-widgets/base",
      "model_module_version": "1.2.0",
      "model_name": "LayoutModel",
      "state": {
       "justify_content": "center"
      }
     },
     "82e19fbdfe3347b49a9ca825ef645e40": {
      "model_module": "@jupyter-widgets/base",
      "model_module_version": "1.2.0",
      "model_name": "LayoutModel",
      "state": {
       "justify_content": "center"
      }
     },
     "82f27c7575184f26a7d6daee8c203b5d": {
      "model_module": "@jupyter-widgets/base",
      "model_module_version": "1.2.0",
      "model_name": "LayoutModel",
      "state": {
       "width": "250px"
      }
     },
     "8301fffd17a246b78550eeea883038a5": {
      "model_module": "@jupyter-widgets/base",
      "model_module_version": "1.2.0",
      "model_name": "LayoutModel",
      "state": {
       "justify_content": "center"
      }
     },
     "83032a8556f74474b0c3652aa2070315": {
      "model_module": "@jupyter-widgets/base",
      "model_module_version": "1.2.0",
      "model_name": "LayoutModel",
      "state": {}
     },
     "833d56c88fba4d9bb7d30ffdd3e9d386": {
      "model_module": "@jupyter-widgets/base",
      "model_module_version": "1.2.0",
      "model_name": "LayoutModel",
      "state": {
       "width": "250px"
      }
     },
     "834fe4aecdcd4c09983be44b672dd403": {
      "model_module": "@jupyter-widgets/controls",
      "model_module_version": "1.5.0",
      "model_name": "HTMLModel",
      "state": {
       "layout": "IPY_MODEL_f75481b07d8b4273a81b0f60ff5d6bf1",
       "style": "IPY_MODEL_ec54295732db40a6a5722cd8cc2965b4",
       "value": "<h4 style=\"font-size:14px;\">Wodurch kann mit einem RegexpParser eine hierarchische Chunk-Struktur aufgebaut werden (ähnlicher den hierarchischen Analysen mit einer Phrasenstrukturgrammatik)?</h4>"
      }
     },
     "83578ddd857b46798369618b8ac036fd": {
      "model_module": "@jupyter-widgets/controls",
      "model_module_version": "1.5.0",
      "model_name": "DescriptionStyleModel",
      "state": {
       "description_width": ""
      }
     },
     "83b5767b191a4131b917d8a699d78daa": {
      "model_module": "@jupyter-widgets/controls",
      "model_module_version": "1.5.0",
      "model_name": "DescriptionStyleModel",
      "state": {
       "description_width": "initial"
      }
     },
     "83cf14c0a24244c689c538d5b84ee095": {
      "model_module": "@jupyter-widgets/controls",
      "model_module_version": "1.5.0",
      "model_name": "HTMLModel",
      "state": {
       "layout": "IPY_MODEL_4c62c4ce64324e158384efd17be914d5",
       "style": "IPY_MODEL_30d7809d05924fb9b93727812b958774",
       "value": "<h4 style=\"font-size:14px;\">Welche Klammern zeigen Chunking an?</h4>"
      }
     },
     "83da224990ed4d13a62b8c1047aca7d6": {
      "model_module": "@jupyter-widgets/controls",
      "model_module_version": "1.5.0",
      "model_name": "HBoxModel",
      "state": {
       "children": [
        "IPY_MODEL_7152b43f4b6042418e2b870b2c0825f5",
        "IPY_MODEL_29a57a14c1134498b12c2938ec94c465"
       ],
       "layout": "IPY_MODEL_c2458adb0c264d7a83d9cce6f505e346"
      }
     },
     "83e81f5e00a441dcb7502a8da82abd50": {
      "model_module": "@jupyter-widgets/controls",
      "model_module_version": "1.5.0",
      "model_name": "VBoxModel",
      "state": {
       "children": [
        "IPY_MODEL_c402bd34f3044d9aa71e9ddcd1b27122",
        "IPY_MODEL_b3aeef3a54dd433c84c4913ceebac090",
        "IPY_MODEL_12aa78088627405ea2dbd9b0fd4df323"
       ],
       "layout": "IPY_MODEL_d4ed6f791c4040bf871ff7e855dfae74"
      }
     },
     "83ecc6a81d7c476785394bde8dc6a218": {
      "model_module": "@jupyter-widgets/controls",
      "model_module_version": "1.5.0",
      "model_name": "ButtonModel",
      "state": {
       "description": "{ }",
       "layout": "IPY_MODEL_c8eea2307d394a62ac74734cf5c0a893",
       "style": "IPY_MODEL_eaf76181b2564a19bd7e6498ba098eaa"
      }
     },
     "83f96aec6b674317a21492f6c738f38c": {
      "model_module": "@jupyter-widgets/controls",
      "model_module_version": "1.5.0",
      "model_name": "HTMLModel",
      "state": {
       "layout": "IPY_MODEL_06998ef35c054ae6957db90e0c8d24ef",
       "style": "IPY_MODEL_2330efc73840499baed9c49fabaa6b54",
       "value": "<h4 style=\"font-size:14px;\">Um was für ein Sprachkonstrukt handelt es sich?</h4>"
      }
     },
     "8402af2ef55641f595208c5c5ba0bf55": {
      "model_module": "@jupyter-widgets/base",
      "model_module_version": "1.2.0",
      "model_name": "LayoutModel",
      "state": {
       "width": "250px"
      }
     },
     "843c521f4df947708d78af5efbed5dfa": {
      "model_module": "@jupyter-widgets/controls",
      "model_module_version": "1.5.0",
      "model_name": "ButtonStyleModel",
      "state": {}
     },
     "84498564f6b24c6ba30dc973a23c027d": {
      "model_module": "@jupyter-widgets/base",
      "model_module_version": "1.2.0",
      "model_name": "LayoutModel",
      "state": {
       "justify_content": "center"
      }
     },
     "845f20f504d442819d19fbea009fe353": {
      "model_module": "@jupyter-widgets/base",
      "model_module_version": "1.2.0",
      "model_name": "LayoutModel",
      "state": {
       "width": "250px"
      }
     },
     "84665866e81e4bf4a0b852ba6b179dc1": {
      "model_module": "@jupyter-widgets/base",
      "model_module_version": "1.2.0",
      "model_name": "LayoutModel",
      "state": {}
     },
     "8478393bbe22457e98cafdc437f2c14b": {
      "model_module": "@jupyter-widgets/controls",
      "model_module_version": "1.5.0",
      "model_name": "HTMLModel",
      "state": {
       "layout": "IPY_MODEL_09d43633956f41259683584aab59d0f0",
       "style": "IPY_MODEL_ef073219609a4697a21451def7679211",
       "value": "<h4 style=\"font-size:14px;\">Welche Klammern zeigen Chunking an?</h4>"
      }
     },
     "84c849f383e04c19ad7c39e8f2ee770a": {
      "model_module": "@jupyter-widgets/base",
      "model_module_version": "1.2.0",
      "model_name": "LayoutModel",
      "state": {
       "width": "600px"
      }
     },
     "84d4bca889dc419c9ab0380cabb2c7a2": {
      "model_module": "@jupyter-widgets/controls",
      "model_module_version": "1.5.0",
      "model_name": "DescriptionStyleModel",
      "state": {
       "description_width": "initial"
      }
     },
     "84e1507bfcb147b8bee7f795329fbb7f": {
      "model_module": "@jupyter-widgets/controls",
      "model_module_version": "1.5.0",
      "model_name": "DescriptionStyleModel",
      "state": {
       "description_width": "initial"
      }
     },
     "850138c79e4e40f6a255858010ec59b3": {
      "model_module": "@jupyter-widgets/controls",
      "model_module_version": "1.5.0",
      "model_name": "HBoxModel",
      "state": {
       "children": [
        "IPY_MODEL_dc0c8c78a6104d4d9d1037ee41951f87",
        "IPY_MODEL_ee8ed28d67484dbab753040141699186"
       ],
       "layout": "IPY_MODEL_1a1757e3e9ff47878064b95651101b28"
      }
     },
     "851ce233b9f14205977678cd4b5bb5c9": {
      "model_module": "@jupyter-widgets/base",
      "model_module_version": "1.2.0",
      "model_name": "LayoutModel",
      "state": {
       "width": "600px"
      }
     },
     "851d4f3f84654ad99bfaaa74c3a5e0ae": {
      "model_module": "@jupyter-widgets/controls",
      "model_module_version": "1.5.0",
      "model_name": "HTMLModel",
      "state": {
       "layout": "IPY_MODEL_41bf674a80a8490998f73a9501c31aaa",
       "style": "IPY_MODEL_682db2c07e1b4617962a12694906bedf",
       "value": "<i>Wählen Sie die <ins>eine</ins> korrekte Antwort aus: </i>"
      }
     },
     "85375874d05a4ae6ace9683f77b7c4f4": {
      "model_module": "@jupyter-widgets/base",
      "model_module_version": "1.2.0",
      "model_name": "LayoutModel",
      "state": {
       "justify_content": "center"
      }
     },
     "8554b257d2344199b232490b5513be6c": {
      "model_module": "@jupyter-widgets/controls",
      "model_module_version": "1.5.0",
      "model_name": "DescriptionStyleModel",
      "state": {
       "description_width": ""
      }
     },
     "856f6d5262cc484f948515709c703d1f": {
      "model_module": "@jupyter-widgets/controls",
      "model_module_version": "1.5.0",
      "model_name": "DescriptionStyleModel",
      "state": {
       "description_width": ""
      }
     },
     "8584d1eda03a4665addea52c248c8e7f": {
      "model_module": "@jupyter-widgets/base",
      "model_module_version": "1.2.0",
      "model_name": "LayoutModel",
      "state": {
       "justify_content": "center"
      }
     },
     "8593f1619fc34fd4848b8849bac49c66": {
      "model_module": "@jupyter-widgets/controls",
      "model_module_version": "1.5.0",
      "model_name": "ButtonStyleModel",
      "state": {}
     },
     "85b221f5086d48c8b0bba6d1572d654e": {
      "model_module": "@jupyter-widgets/controls",
      "model_module_version": "1.5.0",
      "model_name": "HTMLModel",
      "state": {
       "layout": "IPY_MODEL_1d41452adb104b5aac0597df13cd7c70",
       "style": "IPY_MODEL_8ddfcc6dcdbd4c3dbd06e326177e20e2",
       "value": "<i>Wählen Sie die <ins>eine</ins> korrekte Antwort aus: </i>"
      }
     },
     "85c55f31cabc4f9d8c8c93ec1b3a112c": {
      "model_module": "@jupyter-widgets/base",
      "model_module_version": "1.2.0",
      "model_name": "LayoutModel",
      "state": {
       "width": "250px"
      }
     },
     "85d422b6de67416ba54a39825a64752c": {
      "model_module": "@jupyter-widgets/controls",
      "model_module_version": "1.5.0",
      "model_name": "VBoxModel",
      "state": {
       "children": [
        "IPY_MODEL_9939aae6de64414db0e68cb197aac963",
        "IPY_MODEL_4f30b21edcd34f41a7e8588df99a4fb7",
        "IPY_MODEL_1d42c01f47b54f709e88eb10d4a628fe",
        "IPY_MODEL_c4c62fca35ab42e28616acb44efffbbd"
       ],
       "layout": "IPY_MODEL_54349ec7b6174de2bdb7cd9d2458d886"
      }
     },
     "85e0c0ba616c400b91d81a47e08db8e4": {
      "model_module": "@jupyter-widgets/controls",
      "model_module_version": "1.5.0",
      "model_name": "VBoxModel",
      "state": {
       "children": [
        "IPY_MODEL_bb456bbe76f44c95b4e29bbb4999ac01",
        "IPY_MODEL_28e92fd832e14e7d96001516bfe3a97f",
        "IPY_MODEL_25b4aa0e81724731a157ab8234374caf"
       ],
       "layout": "IPY_MODEL_86d31ab2c44240dba97572ebe4d25776"
      }
     },
     "85e849d889b84d4998b0891517d8cdb3": {
      "model_module": "@jupyter-widgets/controls",
      "model_module_version": "1.5.0",
      "model_name": "DescriptionStyleModel",
      "state": {
       "description_width": ""
      }
     },
     "85f20b85b8ea4cce8d339b8f17e077b1": {
      "model_module": "@jupyter-widgets/controls",
      "model_module_version": "1.5.0",
      "model_name": "ButtonModel",
      "state": {
       "description": "Korrekt?",
       "layout": "IPY_MODEL_2d2044ed17da4e5c8713be7b926dce64",
       "style": "IPY_MODEL_843c521f4df947708d78af5efbed5dfa"
      }
     },
     "862c9962818b46e4bf0d78f0140c1c02": {
      "model_module": "@jupyter-widgets/controls",
      "model_module_version": "1.5.0",
      "model_name": "VBoxModel",
      "state": {
       "children": [
        "IPY_MODEL_8f594336c016424c8b3f8079780b723f",
        "IPY_MODEL_b618006308da4ddcaa6c125d52616b33",
        "IPY_MODEL_790da32c2feb42b2b05d42bc370f7f37"
       ],
       "layout": "IPY_MODEL_8c83fddfaa644e8d94ff99b8f7159b9e"
      }
     },
     "8662a02580574d6880ffbdf741824c16": {
      "model_module": "@jupyter-widgets/controls",
      "model_module_version": "1.5.0",
      "model_name": "DescriptionStyleModel",
      "state": {
       "description_width": "initial"
      }
     },
     "867f659a15964618b724c6fe4df8abdc": {
      "model_module": "@jupyter-widgets/base",
      "model_module_version": "1.2.0",
      "model_name": "LayoutModel",
      "state": {
       "justify_content": "center"
      }
     },
     "868c94c815614cedb3d8df935b71aa21": {
      "model_module": "@jupyter-widgets/base",
      "model_module_version": "1.2.0",
      "model_name": "LayoutModel",
      "state": {
       "width": "600px"
      }
     },
     "868e4a39c1b948689c8554f668cfa3f0": {
      "model_module": "@jupyter-widgets/base",
      "model_module_version": "1.2.0",
      "model_name": "LayoutModel",
      "state": {
       "width": "600px"
      }
     },
     "86d31ab2c44240dba97572ebe4d25776": {
      "model_module": "@jupyter-widgets/base",
      "model_module_version": "1.2.0",
      "model_name": "LayoutModel",
      "state": {}
     },
     "86d6cbcf9f4d4d5da48256daed0a1669": {
      "model_module": "@jupyter-widgets/controls",
      "model_module_version": "1.5.0",
      "model_name": "DescriptionStyleModel",
      "state": {
       "description_width": ""
      }
     },
     "87084447091e43b486d3e420be65db22": {
      "model_module": "@jupyter-widgets/controls",
      "model_module_version": "1.5.0",
      "model_name": "ButtonModel",
      "state": {
       "description": "XML-Tags",
       "layout": "IPY_MODEL_2930f555927c48eb87c209436af67024",
       "style": "IPY_MODEL_5b1e9436ac9a479184ab9b257d627f10"
      }
     },
     "870a94ef67de45a4a63ab848ac9d0a60": {
      "model_module": "@jupyter-widgets/controls",
      "model_module_version": "1.5.0",
      "model_name": "ButtonModel",
      "state": {
       "description": "Keine der anderen Möglichkeiten",
       "layout": "IPY_MODEL_058b53d59e7c4c3fab57d6dde12a6704",
       "style": "IPY_MODEL_65d6df9b15224795a37c7fe83821ff71"
      }
     },
     "874d344b640e4943b75ac09450e15065": {
      "model_module": "@jupyter-widgets/controls",
      "model_module_version": "1.5.0",
      "model_name": "CheckboxModel",
      "state": {
       "description": "zwei Chunks werden zu einem größeren zusammengefasst",
       "disabled": false,
       "layout": "IPY_MODEL_76e31fe245b9482a9c6055d99f5d60b7",
       "style": "IPY_MODEL_93f7ed22f60a45ceafc371c635889082",
       "value": false
      }
     },
     "87560872e9a94e368d5eade2015aeb39": {
      "model_module": "@jupyter-widgets/controls",
      "model_module_version": "1.5.0",
      "model_name": "ButtonStyleModel",
      "state": {}
     },
     "8768e6fb524f40d2a610555efa323c3b": {
      "model_module": "@jupyter-widgets/base",
      "model_module_version": "1.2.0",
      "model_name": "LayoutModel",
      "state": {
       "justify_content": "center"
      }
     },
     "878a6c6f9239446c851bab7cf05233f1": {
      "model_module": "@jupyter-widgets/controls",
      "model_module_version": "1.5.0",
      "model_name": "DescriptionStyleModel",
      "state": {
       "description_width": ""
      }
     },
     "879f4b28c8ed4fe8a297ebc5bda73a57": {
      "model_module": "@jupyter-widgets/controls",
      "model_module_version": "1.5.0",
      "model_name": "ButtonStyleModel",
      "state": {}
     },
     "87c5f6a3f6e6498cbbc68616cbd7e706": {
      "model_module": "@jupyter-widgets/controls",
      "model_module_version": "1.5.0",
      "model_name": "HBoxModel",
      "state": {
       "children": [
        "IPY_MODEL_abbb45ee24c942b585dbd29a1e898608",
        "IPY_MODEL_6fa3490f643945a59db8d1a6c4828479"
       ],
       "layout": "IPY_MODEL_3def3213724c4f6a8d284afb5236d0e2"
      }
     },
     "87e9e10a05d543d08e040f421c5e2369": {
      "model_module": "@jupyter-widgets/controls",
      "model_module_version": "1.5.0",
      "model_name": "ButtonModel",
      "state": {
       "description": "kontextsensitiv",
       "layout": "IPY_MODEL_58f880597386468ca95da3ef31aa0722",
       "style": "IPY_MODEL_0f9c29a3a5fc43de82fca9fc31e988c2"
      }
     },
     "87edbb1e0bcd4bbf987b7dbda76ea5f7": {
      "model_module": "@jupyter-widgets/controls",
      "model_module_version": "1.5.0",
      "model_name": "DescriptionStyleModel",
      "state": {
       "description_width": "initial"
      }
     },
     "8816506c8aad495a92be7ee75f47e9dc": {
      "model_module": "@jupyter-widgets/controls",
      "model_module_version": "1.5.0",
      "model_name": "CheckboxModel",
      "state": {
       "description": "Verwendung von Chinking-Regeln",
       "disabled": false,
       "layout": "IPY_MODEL_cb55f0131368439abe0aa1f290e85cd1",
       "style": "IPY_MODEL_a8afe613870e4bdaa4757ad48ab28a5e",
       "value": false
      }
     },
     "8835392c910d4062ab54460547f50f4e": {
      "model_module": "@jupyter-widgets/controls",
      "model_module_version": "1.5.0",
      "model_name": "HTMLModel",
      "state": {
       "layout": "IPY_MODEL_219067540d28448184624480fa808357",
       "style": "IPY_MODEL_81aa3440f20f4c8e9e1c9e4a615d959a",
       "value": "<h4 style=\"font-size:14px;\">Welche Klammern zeigen Chunking an?</h4>"
      }
     },
     "88574eba30854e97a662bc969d72b5ac": {
      "model_module": "@jupyter-widgets/controls",
      "model_module_version": "1.5.0",
      "model_name": "HTMLModel",
      "state": {
       "layout": "IPY_MODEL_083a9adc606649a79a364016667b1612",
       "style": "IPY_MODEL_dda7e6f8d73f4825b56a71d24dcfba15",
       "value": "<i>Wählen Sie die <ins>eine</ins> korrekte Antwort aus: </i>"
      }
     },
     "8865f9251b5b44369464333bfa0ec02e": {
      "model_module": "@jupyter-widgets/controls",
      "model_module_version": "1.5.0",
      "model_name": "ButtonModel",
      "state": {
       "description": "Korrekt?",
       "layout": "IPY_MODEL_41fd531d02f647d9ba6046ab2935e9e8",
       "style": "IPY_MODEL_c687e099d5b34746a24fda1644839619"
      }
     },
     "886ee85a6cc648d1a6fd0ebe3267b9fa": {
      "model_module": "@jupyter-widgets/controls",
      "model_module_version": "1.5.0",
      "model_name": "DescriptionStyleModel",
      "state": {
       "description_width": "initial"
      }
     },
     "888282e02c4444299bf7166bd3005e32": {
      "model_module": "@jupyter-widgets/controls",
      "model_module_version": "1.5.0",
      "model_name": "ButtonStyleModel",
      "state": {}
     },
     "889ba01d40b94b4596d2f23fbc9f9bed": {
      "model_module": "@jupyter-widgets/base",
      "model_module_version": "1.2.0",
      "model_name": "LayoutModel",
      "state": {}
     },
     "88d8e357099e47ce9a5adbfe371069ee": {
      "model_module": "@jupyter-widgets/base",
      "model_module_version": "1.2.0",
      "model_name": "LayoutModel",
      "state": {}
     },
     "88e0d9e94e5b4fec98476775e58cb8c7": {
      "model_module": "@jupyter-widgets/controls",
      "model_module_version": "1.5.0",
      "model_name": "CheckboxModel",
      "state": {
       "description": "Verwendung von Splitting-Regeln",
       "disabled": false,
       "layout": "IPY_MODEL_2dfde2063d00454ab6f157e2e50a120c",
       "style": "IPY_MODEL_f7c0b156e13641c48d30e6ae08280a92",
       "value": false
      }
     },
     "89091e5b5176430a949ef85307f881f1": {
      "model_module": "@jupyter-widgets/base",
      "model_module_version": "1.2.0",
      "model_name": "LayoutModel",
      "state": {}
     },
     "8917d3de3fa94dcb87630e08ea21b368": {
      "model_module": "@jupyter-widgets/controls",
      "model_module_version": "1.5.0",
      "model_name": "HTMLModel",
      "state": {
       "layout": "IPY_MODEL_2f6bee064a764321ae582d68c30d2f55",
       "style": "IPY_MODEL_208d131b32b74011b1aba2771e9f1f90",
       "value": "<h4 style=\"font-size:14px;\">Welche der Formeln berechnen Precision, Recall, Accuracy und F1-Score korrekt?</h4>"
      }
     },
     "892be2334d504d43b8789ce8de60005f": {
      "model_module": "@jupyter-widgets/controls",
      "model_module_version": "1.5.0",
      "model_name": "ButtonModel",
      "state": {
       "description": "{ }",
       "layout": "IPY_MODEL_990cb18fdf7e41899da3c6e511da2dc1",
       "style": "IPY_MODEL_d9bf580ff55946e881fac22a04a00ef8"
      }
     },
     "8938e37b6de74c0ebde720ad4a1df995": {
      "model_module": "@jupyter-widgets/controls",
      "model_module_version": "1.5.0",
      "model_name": "DescriptionStyleModel",
      "state": {
       "description_width": "initial"
      }
     },
     "893b7b4a7f61482287f303cfc95ad466": {
      "model_module": "@jupyter-widgets/controls",
      "model_module_version": "1.5.0",
      "model_name": "HTMLModel",
      "state": {
       "layout": "IPY_MODEL_8b9be18d1fb14f1dba0aaf859b201fcb",
       "style": "IPY_MODEL_2070be512dca49efb18f7814f5b173e3",
       "value": "<h4 style=\"font-size:14px;\">Um was für ein Sprachkonstrukt handelt es sich?</h4>"
      }
     },
     "893c0631aa994448a6249cd6d904c525": {
      "model_module": "@jupyter-widgets/base",
      "model_module_version": "1.2.0",
      "model_name": "LayoutModel",
      "state": {
       "width": "250px"
      }
     },
     "8945a8feaefb4d9abad65d936de373cc": {
      "model_module": "@jupyter-widgets/controls",
      "model_module_version": "1.5.0",
      "model_name": "ButtonModel",
      "state": {
       "description": "part-of-speech tags",
       "layout": "IPY_MODEL_85c55f31cabc4f9d8c8c93ec1b3a112c",
       "style": "IPY_MODEL_7566d2da01294fe6971bfc09ce912cc6"
      }
     },
     "895b4439b4074372808eb64bafb8ebbf": {
      "model_module": "@jupyter-widgets/controls",
      "model_module_version": "1.5.0",
      "model_name": "ButtonModel",
      "state": {
       "description": "Korrekt?",
       "layout": "IPY_MODEL_9d015db4e3834e89886783b6c0d9855c",
       "style": "IPY_MODEL_26e44295e1a748099ed18c78e1b20dc3"
      }
     },
     "895c7427a0844671aa61c4c91b0acc05": {
      "model_module": "@jupyter-widgets/controls",
      "model_module_version": "1.5.0",
      "model_name": "HBoxModel",
      "state": {
       "children": [
        "IPY_MODEL_56f8b66a1159497dadec00ba4788fde6",
        "IPY_MODEL_cfcad49083514c99a7d37913323dc4d4"
       ],
       "layout": "IPY_MODEL_d93962c3e6074629b1f13703b14b5e66"
      }
     },
     "896b5cc2e41d43a9b06413ad894af2c3": {
      "model_module": "@jupyter-widgets/base",
      "model_module_version": "1.2.0",
      "model_name": "LayoutModel",
      "state": {
       "width": "250px"
      }
     },
     "896d053fa0ae4bcb9167738ffc8e6683": {
      "model_module": "@jupyter-widgets/controls",
      "model_module_version": "1.5.0",
      "model_name": "HTMLModel",
      "state": {
       "layout": "IPY_MODEL_112ca428c31f49fea28ac38aa05bddfa",
       "style": "IPY_MODEL_5e303e720229420cbfe32818f5c77a92",
       "value": "<i>Wählen Sie die <ins>eine</ins> korrekte Antwort aus: </i>"
      }
     },
     "89a0afbecdc14089be54f420fcbd2078": {
      "model_module": "@jupyter-widgets/controls",
      "model_module_version": "1.5.0",
      "model_name": "HTMLModel",
      "state": {
       "layout": "IPY_MODEL_abea9378aeaa4c67804f568665f88ad2",
       "style": "IPY_MODEL_3a9ab3e8e51f42e7bbb915b780268ae5",
       "value": "<h4 style=\"font-size:14px;\">Welche Klammern zeigen Chinking an?</h4>"
      }
     },
     "89cef2a5726844eea812970fcfc62997": {
      "model_module": "@jupyter-widgets/base",
      "model_module_version": "1.2.0",
      "model_name": "LayoutModel",
      "state": {
       "width": "600px"
      }
     },
     "89cf2047aced46449a2c7e2f26b8622a": {
      "model_module": "@jupyter-widgets/base",
      "model_module_version": "1.2.0",
      "model_name": "LayoutModel",
      "state": {
       "justify_content": "center"
      }
     },
     "89d115f505d14b73904bbd9088595160": {
      "model_module": "@jupyter-widgets/controls",
      "model_module_version": "1.5.0",
      "model_name": "VBoxModel",
      "state": {
       "children": [
        "IPY_MODEL_893b7b4a7f61482287f303cfc95ad466",
        "IPY_MODEL_7b932f992c904b55aa39eef84757ac02",
        "IPY_MODEL_a9d2d152ad754ec5b934ed990e6c82b5",
        "IPY_MODEL_cfe9691f14934ac7a456490b70f671f3"
       ],
       "layout": "IPY_MODEL_c719ea23e4b14a679c29be265cba5c2f"
      }
     },
     "89d36a2da3fe43f5b77b2f9dd9e2c3a8": {
      "model_module": "@jupyter-widgets/base",
      "model_module_version": "1.2.0",
      "model_name": "LayoutModel",
      "state": {}
     },
     "89f91dc375d9403b9f3a640217330258": {
      "model_module": "@jupyter-widgets/controls",
      "model_module_version": "1.5.0",
      "model_name": "DescriptionStyleModel",
      "state": {
       "description_width": "initial"
      }
     },
     "8a1e7f021e344f3db855b159ccc321ce": {
      "model_module": "@jupyter-widgets/controls",
      "model_module_version": "1.5.0",
      "model_name": "VBoxModel",
      "state": {
       "children": [
        "IPY_MODEL_38e9ca3fc79e44f48c10b53bacefaed1",
        "IPY_MODEL_33ccedeb68f5410fac0d5f05179d8549",
        "IPY_MODEL_673b9d35578b4eb29a6a2db700065e6e",
        "IPY_MODEL_a0a6ee15fb3842ecb095aaa01a7a4637"
       ],
       "layout": "IPY_MODEL_bd850a320d184554a2f0cee3b8592f2f"
      }
     },
     "8a23a0f8efa84e41b3b141ef9941fbbc": {
      "model_module": "@jupyter-widgets/controls",
      "model_module_version": "1.5.0",
      "model_name": "HTMLModel",
      "state": {
       "layout": "IPY_MODEL_3889887238984f279371ce2cb686b545",
       "style": "IPY_MODEL_13b1ed9957ef40e1b34cb55970b0d6cb",
       "value": "<i>Markieren Sie <ins>alle</ins> passenden Antworten: </i>"
      }
     },
     "8a5437f0323c4a7da16e890a03a37d67": {
      "model_module": "@jupyter-widgets/controls",
      "model_module_version": "1.5.0",
      "model_name": "ButtonStyleModel",
      "state": {}
     },
     "8a5441a8c0904e84b74f1b5c9b1148d5": {
      "model_module": "@jupyter-widgets/controls",
      "model_module_version": "1.5.0",
      "model_name": "ButtonModel",
      "state": {
       "description": "Korrekt?",
       "layout": "IPY_MODEL_c1bb4d607b3e463c933f089b3a95d9c4",
       "style": "IPY_MODEL_0afe31ed56d94112babe214b03569ee6"
      }
     },
     "8a8b3980831a4046ace7dc33f569fc55": {
      "model_module": "@jupyter-widgets/controls",
      "model_module_version": "1.5.0",
      "model_name": "ButtonModel",
      "state": {
       "description": "Keine der anderen Möglichkeiten",
       "layout": "IPY_MODEL_e6f85ad7bd0b47fbab362dc554005b91",
       "style": "IPY_MODEL_087c73ca84fc404bb5117844a79f2cca"
      }
     },
     "8acad25ca1bd4fb1bce235d2cd628cda": {
      "model_module": "@jupyter-widgets/controls",
      "model_module_version": "1.5.0",
      "model_name": "CheckboxModel",
      "state": {
       "description": "F1 = (Precision * Recall + 1) / (Precision + Recall)",
       "disabled": false,
       "layout": "IPY_MODEL_9255d12f5f87408198adcd83351a57a8",
       "style": "IPY_MODEL_f4fb4a39aace47bdb733367a881c9c72",
       "value": false
      }
     },
     "8b0ac6a2a5764133a34c16e5675d5afe": {
      "model_module": "@jupyter-widgets/controls",
      "model_module_version": "1.5.0",
      "model_name": "DescriptionStyleModel",
      "state": {
       "description_width": "initial"
      }
     },
     "8b17f2d4676a499d983d7a80587e1086": {
      "model_module": "@jupyter-widgets/controls",
      "model_module_version": "1.5.0",
      "model_name": "HTMLModel",
      "state": {
       "layout": "IPY_MODEL_84498564f6b24c6ba30dc973a23c027d",
       "style": "IPY_MODEL_9dc62cd22c09485bb06c93184753a2d2",
       "value": "<i>Wählen Sie die <ins>eine</ins> korrekte Antwort aus: </i>"
      }
     },
     "8b3151803f0e49a793374cca2d758755": {
      "model_module": "@jupyter-widgets/base",
      "model_module_version": "1.2.0",
      "model_name": "LayoutModel",
      "state": {
       "width": "600px"
      }
     },
     "8b35caae0bc7412381c073cacab18599": {
      "model_module": "@jupyter-widgets/controls",
      "model_module_version": "1.5.0",
      "model_name": "VBoxModel",
      "state": {
       "children": [
        "IPY_MODEL_611de6b12c97492dafef181901202efc",
        "IPY_MODEL_fd9102db44144adba4ab7e58b3b661b5",
        "IPY_MODEL_02808e7930864255ae4a430e0edc4223",
        "IPY_MODEL_d6ee69d993994bd5b176c7f1b96746a0"
       ],
       "layout": "IPY_MODEL_33e4dfbf04594551b74d4f03761aede6"
      }
     },
     "8b70a92c2bee48e3b09515b237d48f74": {
      "model_module": "@jupyter-widgets/controls",
      "model_module_version": "1.5.0",
      "model_name": "HTMLModel",
      "state": {
       "layout": "IPY_MODEL_74882c8fa3c9432bbf62308c3398a079",
       "style": "IPY_MODEL_65fba85d8dd0423390f446c2aaa5b5ff",
       "value": "<i>Wählen Sie die <ins>eine</ins> korrekte Antwort aus: </i>"
      }
     },
     "8b734ca52d8a4adaab7b233860b17ea2": {
      "model_module": "@jupyter-widgets/controls",
      "model_module_version": "1.5.0",
      "model_name": "ButtonModel",
      "state": {
       "description": "rekursiv aufzählbar",
       "layout": "IPY_MODEL_543b655f0fc04f57beff2e8a5d9c0d1e",
       "style": "IPY_MODEL_f43a88a8a1074177b8e4e1536636962e"
      }
     },
     "8b9be18d1fb14f1dba0aaf859b201fcb": {
      "model_module": "@jupyter-widgets/base",
      "model_module_version": "1.2.0",
      "model_name": "LayoutModel",
      "state": {
       "justify_content": "center"
      }
     },
     "8ba0bdf5d05443a593d7e60900588941": {
      "model_module": "@jupyter-widgets/controls",
      "model_module_version": "1.5.0",
      "model_name": "HBoxModel",
      "state": {
       "children": [
        "IPY_MODEL_892be2334d504d43b8789ce8de60005f",
        "IPY_MODEL_b4e09d4d87f148919ae2030f8d378709"
       ],
       "layout": "IPY_MODEL_a01f8b984e7f442c9afedb6000b377d5"
      }
     },
     "8bc6c48c6d9f41f3bcdd075e58217d5f": {
      "model_module": "@jupyter-widgets/base",
      "model_module_version": "1.2.0",
      "model_name": "LayoutModel",
      "state": {
       "width": "250px"
      }
     },
     "8bd784f9be9c43498ff91098b302020c": {
      "model_module": "@jupyter-widgets/base",
      "model_module_version": "1.2.0",
      "model_name": "LayoutModel",
      "state": {
       "width": "600px"
      }
     },
     "8bf2430b92384155a233bc3b690fabf6": {
      "model_module": "@jupyter-widgets/controls",
      "model_module_version": "1.5.0",
      "model_name": "VBoxModel",
      "state": {
       "children": [
        "IPY_MODEL_62f8dc8546224980b419b066c4d238c7",
        "IPY_MODEL_223e3d6f56dc4936a8f0a0c211eb4dcb",
        "IPY_MODEL_4420b3309a26464ebcfd565ae0a55b42",
        "IPY_MODEL_a26288f1c5f044c6880d706c9cd533cd"
       ],
       "layout": "IPY_MODEL_22f3b527fe7d42a49ec6177ea823c938"
      }
     },
     "8c0377e7b8b44df8a5c432af3d7b4dd1": {
      "model_module": "@jupyter-widgets/base",
      "model_module_version": "1.2.0",
      "model_name": "LayoutModel",
      "state": {
       "width": "250px"
      }
     },
     "8c13c2901e39478d907e4536fc6215e7": {
      "model_module": "@jupyter-widgets/controls",
      "model_module_version": "1.5.0",
      "model_name": "HTMLModel",
      "state": {
       "layout": "IPY_MODEL_6b56e461746d4dc681b38c957f35c7d2",
       "style": "IPY_MODEL_20da67d1409649ddbd77b4fa023d4986",
       "value": "<h4 style=\"font-size:14px;\">Um was für ein Sprachkonstrukt handelt es sich?</h4>"
      }
     },
     "8c25f74fb6054f1dbf948f76cca5a148": {
      "model_module": "@jupyter-widgets/controls",
      "model_module_version": "1.5.0",
      "model_name": "DescriptionStyleModel",
      "state": {
       "description_width": "initial"
      }
     },
     "8c83fddfaa644e8d94ff99b8f7159b9e": {
      "model_module": "@jupyter-widgets/base",
      "model_module_version": "1.2.0",
      "model_name": "LayoutModel",
      "state": {}
     },
     "8c8cbf00ca5a4c6283d774fbe693472f": {
      "model_module": "@jupyter-widgets/controls",
      "model_module_version": "1.5.0",
      "model_name": "ButtonStyleModel",
      "state": {}
     },
     "8c96d726fa6d49aaa4c2cfd9a034a6fa": {
      "model_module": "@jupyter-widgets/controls",
      "model_module_version": "1.5.0",
      "model_name": "DescriptionStyleModel",
      "state": {
       "description_width": ""
      }
     },
     "8ca425cc420c4044a3636c4065d3f7c7": {
      "model_module": "@jupyter-widgets/controls",
      "model_module_version": "1.5.0",
      "model_name": "ButtonStyleModel",
      "state": {}
     },
     "8d26ed433a0048f1bc4ad5033d620f8f": {
      "model_module": "@jupyter-widgets/base",
      "model_module_version": "1.2.0",
      "model_name": "LayoutModel",
      "state": {
       "width": "250px"
      }
     },
     "8d36a7d3136848a6b8d7dca8067fdb3d": {
      "model_module": "@jupyter-widgets/controls",
      "model_module_version": "1.5.0",
      "model_name": "ButtonStyleModel",
      "state": {}
     },
     "8d617771255346188a206c300cca14e3": {
      "model_module": "@jupyter-widgets/base",
      "model_module_version": "1.2.0",
      "model_name": "LayoutModel",
      "state": {
       "justify_content": "center"
      }
     },
     "8d68707ab6b3477fa131fafbe6c2b849": {
      "model_module": "@jupyter-widgets/controls",
      "model_module_version": "1.5.0",
      "model_name": "DropdownModel",
      "state": {
       "_options_labels": [
        "1",
        "2",
        "3",
        "4",
        "Keine der Alternativen"
       ],
       "description": "Antwort:",
       "index": 0,
       "layout": "IPY_MODEL_c33b9e38d69f490b85fb707706204ecb",
       "style": "IPY_MODEL_a0238b6f52a745658712c4a33fc942fe"
      }
     },
     "8d7439775f7846d78cc044876abc41df": {
      "model_module": "@jupyter-widgets/base",
      "model_module_version": "1.2.0",
      "model_name": "LayoutModel",
      "state": {
       "width": "250px"
      }
     },
     "8d823a40fafc440686fefe2bd42bad5e": {
      "model_module": "@jupyter-widgets/base",
      "model_module_version": "1.2.0",
      "model_name": "LayoutModel",
      "state": {}
     },
     "8db35f065939430fb2d82827baee958c": {
      "model_module": "@jupyter-widgets/controls",
      "model_module_version": "1.5.0",
      "model_name": "ButtonModel",
      "state": {
       "description": "Korrekt?",
       "layout": "IPY_MODEL_762a81bd343348969bedc7d57d360c51",
       "style": "IPY_MODEL_a1dcf37642914e9196d50e058994cd1a"
      }
     },
     "8dc7c49889244c2baf0e5074aafe727f": {
      "model_module": "@jupyter-widgets/base",
      "model_module_version": "1.2.0",
      "model_name": "LayoutModel",
      "state": {
       "width": "250px"
      }
     },
     "8dcb8560c5274e698b9300934f476cc8": {
      "model_module": "@jupyter-widgets/base",
      "model_module_version": "1.2.0",
      "model_name": "LayoutModel",
      "state": {}
     },
     "8dcbf50312094d92a76e3444e29fd8ff": {
      "model_module": "@jupyter-widgets/controls",
      "model_module_version": "1.5.0",
      "model_name": "DescriptionStyleModel",
      "state": {
       "description_width": "initial"
      }
     },
     "8ddfcc6dcdbd4c3dbd06e326177e20e2": {
      "model_module": "@jupyter-widgets/controls",
      "model_module_version": "1.5.0",
      "model_name": "DescriptionStyleModel",
      "state": {
       "description_width": ""
      }
     },
     "8df0848db2634f619269fd78c425f629": {
      "model_module": "@jupyter-widgets/controls",
      "model_module_version": "1.5.0",
      "model_name": "ButtonModel",
      "state": {
       "description": "Ja",
       "layout": "IPY_MODEL_10d53d73a9d84547a5a1f6126eeea72c",
       "style": "IPY_MODEL_cb92a6236ae84ca199c6aa452696f066"
      }
     },
     "8df56373e21744d4852014507860f563": {
      "model_module": "@jupyter-widgets/controls",
      "model_module_version": "1.5.0",
      "model_name": "ButtonStyleModel",
      "state": {}
     },
     "8e2733734b9645428a74ce4c165c3586": {
      "model_module": "@jupyter-widgets/controls",
      "model_module_version": "1.5.0",
      "model_name": "DescriptionStyleModel",
      "state": {
       "description_width": ""
      }
     },
     "8e28f8eaf17146938457163206d40b1d": {
      "model_module": "@jupyter-widgets/base",
      "model_module_version": "1.2.0",
      "model_name": "LayoutModel",
      "state": {}
     },
     "8e3256dbe7a843d9a46380115f3e977a": {
      "model_module": "@jupyter-widgets/base",
      "model_module_version": "1.2.0",
      "model_name": "LayoutModel",
      "state": {
       "justify_content": "center"
      }
     },
     "8e5f57149b80427890da11123ee478f5": {
      "model_module": "@jupyter-widgets/controls",
      "model_module_version": "1.5.0",
      "model_name": "HBoxModel",
      "state": {
       "children": [
        "IPY_MODEL_dc54484b5b3e46f89f1739eed6fb4ce1",
        "IPY_MODEL_cb419c6a775b42008a411882126fa888"
       ],
       "layout": "IPY_MODEL_7b0ad1d702fa4d1a88a83f6061bb98c4"
      }
     },
     "8e81a3328d7b491099173e3091c17d66": {
      "model_module": "@jupyter-widgets/controls",
      "model_module_version": "1.5.0",
      "model_name": "DescriptionStyleModel",
      "state": {
       "description_width": ""
      }
     },
     "8e91486233c249208f1a4d0b15abe8d6": {
      "model_module": "@jupyter-widgets/controls",
      "model_module_version": "1.5.0",
      "model_name": "HTMLModel",
      "state": {
       "layout": "IPY_MODEL_6937fe38eeed4a17836404dc217ff971",
       "style": "IPY_MODEL_16a4d6794ae147e09c38cb394453d3f5",
       "value": "<i>Wählen Sie die <ins>eine</ins> korrekte Antwort aus: </i>"
      }
     },
     "8f03e231b02144948aad1a8c4459666c": {
      "model_module": "@jupyter-widgets/base",
      "model_module_version": "1.2.0",
      "model_name": "LayoutModel",
      "state": {}
     },
     "8f21ffe915124e478aceae0e10d20d5c": {
      "model_module": "@jupyter-widgets/controls",
      "model_module_version": "1.5.0",
      "model_name": "DescriptionStyleModel",
      "state": {
       "description_width": ""
      }
     },
     "8f52fe7dd9714caab39d4a60f5228577": {
      "model_module": "@jupyter-widgets/controls",
      "model_module_version": "1.5.0",
      "model_name": "DescriptionStyleModel",
      "state": {
       "description_width": ""
      }
     },
     "8f594336c016424c8b3f8079780b723f": {
      "model_module": "@jupyter-widgets/controls",
      "model_module_version": "1.5.0",
      "model_name": "HTMLModel",
      "state": {
       "layout": "IPY_MODEL_b1c8c6da066f47ee83cf4f4b8893ee71",
       "style": "IPY_MODEL_07e932582a1a4c90ae8c77385a198717",
       "value": "<h4 style=\"font-size:14px;\">Sind Teile des Satzes ambig?</h4>"
      }
     },
     "8f76df276fe341d2b719073692b06e6e": {
      "model_module": "@jupyter-widgets/controls",
      "model_module_version": "1.5.0",
      "model_name": "CheckboxModel",
      "state": {
       "description": "Verwendung von Chinking-Regeln",
       "disabled": false,
       "layout": "IPY_MODEL_68cdce37d05145d38c9a0d93b93b0c4e",
       "style": "IPY_MODEL_6ba08aa92cb24a8a90ac35da39aa6401",
       "value": false
      }
     },
     "8f7d76dbf5f943d8ae5fdad3edda5273": {
      "model_module": "@jupyter-widgets/controls",
      "model_module_version": "1.5.0",
      "model_name": "ButtonStyleModel",
      "state": {}
     },
     "8fbdc7ef3b15443c8a215c9f3ffa698d": {
      "model_module": "@jupyter-widgets/base",
      "model_module_version": "1.2.0",
      "model_name": "LayoutModel",
      "state": {
       "width": "250px"
      }
     },
     "8fda42933a5f4260ae4569331234a6a7": {
      "model_module": "@jupyter-widgets/base",
      "model_module_version": "1.2.0",
      "model_name": "LayoutModel",
      "state": {}
     },
     "90196acc03384c1391cb14d53f04304b": {
      "model_module": "@jupyter-widgets/base",
      "model_module_version": "1.2.0",
      "model_name": "LayoutModel",
      "state": {
       "width": "500px"
      }
     },
     "90354c5092964ff182cd56f1ad0a6f6c": {
      "model_module": "@jupyter-widgets/controls",
      "model_module_version": "1.5.0",
      "model_name": "VBoxModel",
      "state": {
       "children": [
        "IPY_MODEL_25ff54ea8832455283fcfba76bfcfa0e",
        "IPY_MODEL_43dda38fb2064ab89e705ebde4960e3c",
        "IPY_MODEL_70d49e6b044e4df3a05650f9f2d382c4",
        "IPY_MODEL_563ed4f86f8b4ffaa138c0cae1ed0099"
       ],
       "layout": "IPY_MODEL_a87273c04e964b87a8d41d8417f09970"
      }
     },
     "903f9c6646ed4be0aecc089c3c176c73": {
      "model_module": "@jupyter-widgets/controls",
      "model_module_version": "1.5.0",
      "model_name": "VBoxModel",
      "state": {
       "children": [
        "IPY_MODEL_3d292568f7ad4fdfa25dcbcf04f6a9d2",
        "IPY_MODEL_776698c73f5d4caca7ff9695e76bab52",
        "IPY_MODEL_09725bbec6444004b001a47022d294a5"
       ],
       "layout": "IPY_MODEL_f0e422191be441e9b592b34892423765"
      }
     },
     "90718446d9c648ce9b8f30e778e11763": {
      "model_module": "@jupyter-widgets/base",
      "model_module_version": "1.2.0",
      "model_name": "LayoutModel",
      "state": {}
     },
     "90846aaa16354ae9a3ac824984fff498": {
      "model_module": "@jupyter-widgets/base",
      "model_module_version": "1.2.0",
      "model_name": "LayoutModel",
      "state": {}
     },
     "90c0fa523bf94b0189623bcb4bd2ae19": {
      "model_module": "@jupyter-widgets/controls",
      "model_module_version": "1.5.0",
      "model_name": "VBoxModel",
      "state": {
       "children": [
        "IPY_MODEL_7fdc3710b02849a89a9e9552b74020ea",
        "IPY_MODEL_f37cab810d7244c4a23694c14ce2c29c",
        "IPY_MODEL_e16758a42c4647e8a8640b837ef84812",
        "IPY_MODEL_4208522976cb4da987a484da2fa45dce"
       ],
       "layout": "IPY_MODEL_d621a4379b0e4a7dbf072363bb603426"
      }
     },
     "90c69613a1134e2dacd755ba03d9547a": {
      "model_module": "@jupyter-widgets/base",
      "model_module_version": "1.2.0",
      "model_name": "LayoutModel",
      "state": {
       "width": "250px"
      }
     },
     "90eab493eef8448b88f7504a223cc815": {
      "model_module": "@jupyter-widgets/base",
      "model_module_version": "1.2.0",
      "model_name": "LayoutModel",
      "state": {
       "justify_content": "center"
      }
     },
     "911206368400454eb678ed8139199b93": {
      "model_module": "@jupyter-widgets/controls",
      "model_module_version": "1.5.0",
      "model_name": "ButtonModel",
      "state": {
       "description": "Keine der anderen Möglichkeiten",
       "layout": "IPY_MODEL_c9bc3324b57742a6b898adbca0243c11",
       "style": "IPY_MODEL_08f180e1aab64ecab457351ba91e9071"
      }
     },
     "91222674566d4cecb5be1506ec950297": {
      "model_module": "@jupyter-widgets/controls",
      "model_module_version": "1.5.0",
      "model_name": "ButtonModel",
      "state": {
       "description": "center embedding",
       "layout": "IPY_MODEL_6d4c9d4e1b054c72804769e0825cb9f0",
       "style": "IPY_MODEL_6db950a9b9e5488599bbee89ef55a0c4"
      }
     },
     "91376b7ecd224f069aca0213b2252fd6": {
      "model_module": "@jupyter-widgets/controls",
      "model_module_version": "1.5.0",
      "model_name": "DropdownModel",
      "state": {
       "_options_labels": [
        "1",
        "2",
        "3",
        "4",
        "Keine der Alternativen"
       ],
       "description": "Antwort:",
       "index": 0,
       "layout": "IPY_MODEL_ad63236d2a8a45bb8c2054ecc70acdb6",
       "style": "IPY_MODEL_ef58dd96c1ec4970b30333158bb83806"
      }
     },
     "915ac55af8b64c7389bebee933226d14": {
      "model_module": "@jupyter-widgets/controls",
      "model_module_version": "1.5.0",
      "model_name": "ButtonModel",
      "state": {
       "description": "Ja",
       "layout": "IPY_MODEL_d5b2b6874c144011a26379269bdbcc41",
       "style": "IPY_MODEL_2dfb7af011ed4bf4b4f5cf46bf276468"
      }
     },
     "915dd32fdd444f9ab09a0de8f5cf4d46": {
      "model_module": "@jupyter-widgets/controls",
      "model_module_version": "1.5.0",
      "model_name": "HTMLModel",
      "state": {
       "layout": "IPY_MODEL_a928158a018d488ba60bd9290eaf496d",
       "style": "IPY_MODEL_ffb3e1f3e72943b287e53359e68c6887",
       "value": "<i>Wählen Sie die <ins>eine</ins> korrekte Antwort aus: </i>"
      }
     },
     "9176024013c14957b340924aa0f958fe": {
      "model_module": "@jupyter-widgets/base",
      "model_module_version": "1.2.0",
      "model_name": "LayoutModel",
      "state": {
       "width": "600px"
      }
     },
     "917858df03c84c209221799a654dd51e": {
      "model_module": "@jupyter-widgets/controls",
      "model_module_version": "1.5.0",
      "model_name": "ButtonModel",
      "state": {
       "description": "Korrekt?",
       "layout": "IPY_MODEL_b6135e756abf4efc843badc5aa14a597",
       "style": "IPY_MODEL_fde72050859d4111bb83fc1d7d23c44f"
      }
     },
     "918fecae8021423d8b874657ac4777dc": {
      "model_module": "@jupyter-widgets/base",
      "model_module_version": "1.2.0",
      "model_name": "LayoutModel",
      "state": {
       "justify_content": "center"
      }
     },
     "91ed776b3683435a91054608fc8c777c": {
      "model_module": "@jupyter-widgets/base",
      "model_module_version": "1.2.0",
      "model_name": "LayoutModel",
      "state": {}
     },
     "92224841bdbd4d19b7a5e662d8f261c8": {
      "model_module": "@jupyter-widgets/controls",
      "model_module_version": "1.5.0",
      "model_name": "DescriptionStyleModel",
      "state": {
       "description_width": ""
      }
     },
     "92398f1f9fb84265ad0164f0b76e99f4": {
      "model_module": "@jupyter-widgets/controls",
      "model_module_version": "1.5.0",
      "model_name": "DescriptionStyleModel",
      "state": {
       "description_width": ""
      }
     },
     "925137140a594c06aac6c8b489d07d01": {
      "model_module": "@jupyter-widgets/controls",
      "model_module_version": "1.5.0",
      "model_name": "DescriptionStyleModel",
      "state": {
       "description_width": ""
      }
     },
     "9255d12f5f87408198adcd83351a57a8": {
      "model_module": "@jupyter-widgets/base",
      "model_module_version": "1.2.0",
      "model_name": "LayoutModel",
      "state": {
       "width": "600px"
      }
     },
     "928025ef1cd94dbd984c1d8ef0e2ae05": {
      "model_module": "@jupyter-widgets/controls",
      "model_module_version": "1.5.0",
      "model_name": "HTMLModel",
      "state": {
       "layout": "IPY_MODEL_78eac4e60d7f40e3939a64bba4bfb6f7",
       "style": "IPY_MODEL_85e849d889b84d4998b0891517d8cdb3",
       "value": "<h4 style=\"font-size:14px;\">Welche Klammern zeigen Chinking an?</h4>"
      }
     },
     "9289acb1b2324258aa5241ebf3bbceca": {
      "model_module": "@jupyter-widgets/base",
      "model_module_version": "1.2.0",
      "model_name": "LayoutModel",
      "state": {}
     },
     "92af8ead76164973934d982cd8216dfa": {
      "model_module": "@jupyter-widgets/controls",
      "model_module_version": "1.5.0",
      "model_name": "HTMLModel",
      "state": {
       "layout": "IPY_MODEL_99ee7a95eaba47fe879f65b31becb71a",
       "style": "IPY_MODEL_558489a059584bc4b35043e1457e7850",
       "value": "<i>Wählen Sie die <ins>eine</ins> korrekte Antwort aus: </i>"
      }
     },
     "92fbfcd8aadc4193b1bccdfadfb771a7": {
      "model_module": "@jupyter-widgets/controls",
      "model_module_version": "1.5.0",
      "model_name": "CheckboxModel",
      "state": {
       "description": "Precision = von allen Instanzen, für die 1 vorhergesagt wurde, wie viele wurden richtig vorhergesagt?",
       "disabled": false,
       "layout": "IPY_MODEL_335723350457467387999582c2ca6548",
       "style": "IPY_MODEL_5072d6e6e4c74e60b6bdd78f13bb3d7e",
       "value": false
      }
     },
     "92ff561f2ade442eac17a4c5c8979fe9": {
      "model_module": "@jupyter-widgets/controls",
      "model_module_version": "1.5.0",
      "model_name": "VBoxModel",
      "state": {
       "children": [
        "IPY_MODEL_7d9b3428fb47457e9a92c9a6e91ca959",
        "IPY_MODEL_574e1a48a81c49978e207b7e5e1139b2",
        "IPY_MODEL_07fa712ac2614a858de1a5aae19a79ee"
       ],
       "layout": "IPY_MODEL_c3e920de72e147d8ab90844b7690d75a"
      }
     },
     "9302900023f249a29ac5a4bd6a2fb04e": {
      "model_module": "@jupyter-widgets/base",
      "model_module_version": "1.2.0",
      "model_name": "LayoutModel",
      "state": {
       "width": "250px"
      }
     },
     "93091481834d45e2b691c16ec289b725": {
      "model_module": "@jupyter-widgets/base",
      "model_module_version": "1.2.0",
      "model_name": "LayoutModel",
      "state": {
       "width": "500px"
      }
     },
     "938ecc7553ab4aa5af47cded46e66fa4": {
      "model_module": "@jupyter-widgets/controls",
      "model_module_version": "1.5.0",
      "model_name": "ButtonModel",
      "state": {
       "description": "Nein",
       "layout": "IPY_MODEL_a5cc0f4b67a64b52bb8c7c18cb6fefee",
       "style": "IPY_MODEL_4a1d5583e7bd4b34bbee0f17f66593c8"
      }
     },
     "9394759bb71f4d2b858197651ec0878d": {
      "model_module": "@jupyter-widgets/base",
      "model_module_version": "1.2.0",
      "model_name": "LayoutModel",
      "state": {}
     },
     "939c417fab3e47abad40b9da2509bff0": {
      "model_module": "@jupyter-widgets/base",
      "model_module_version": "1.2.0",
      "model_name": "LayoutModel",
      "state": {}
     },
     "93a0b10c591a42e39d5716946cf88c7b": {
      "model_module": "@jupyter-widgets/controls",
      "model_module_version": "1.5.0",
      "model_name": "DescriptionStyleModel",
      "state": {
       "description_width": ""
      }
     },
     "93bf68e760f54d2aa5ec485410f0b514": {
      "model_module": "@jupyter-widgets/controls",
      "model_module_version": "1.5.0",
      "model_name": "DescriptionStyleModel",
      "state": {
       "description_width": ""
      }
     },
     "93f7ed22f60a45ceafc371c635889082": {
      "model_module": "@jupyter-widgets/controls",
      "model_module_version": "1.5.0",
      "model_name": "DescriptionStyleModel",
      "state": {
       "description_width": "initial"
      }
     },
     "9447cde04cf643068d87203d1d5045e5": {
      "model_module": "@jupyter-widgets/controls",
      "model_module_version": "1.5.0",
      "model_name": "ButtonStyleModel",
      "state": {}
     },
     "94667f8fb7e044b38ed241f7cf899dd3": {
      "model_module": "@jupyter-widgets/controls",
      "model_module_version": "1.5.0",
      "model_name": "ButtonStyleModel",
      "state": {}
     },
     "94b499df594946329711cb8a956b0e6a": {
      "model_module": "@jupyter-widgets/base",
      "model_module_version": "1.2.0",
      "model_name": "LayoutModel",
      "state": {}
     },
     "94e805b8cd7b4a88a9d1c7b3b1b80f62": {
      "model_module": "@jupyter-widgets/base",
      "model_module_version": "1.2.0",
      "model_name": "LayoutModel",
      "state": {
       "justify_content": "center"
      }
     },
     "94faed1c631c4d36bc3993f73cbf9ef6": {
      "model_module": "@jupyter-widgets/base",
      "model_module_version": "1.2.0",
      "model_name": "LayoutModel",
      "state": {}
     },
     "9527b6fa6f9f4d2683ab0178ecc3f511": {
      "model_module": "@jupyter-widgets/controls",
      "model_module_version": "1.5.0",
      "model_name": "ButtonStyleModel",
      "state": {}
     },
     "952c1fd4c898453989d80fd08181618f": {
      "model_module": "@jupyter-widgets/controls",
      "model_module_version": "1.5.0",
      "model_name": "ButtonModel",
      "state": {
       "description": "Korrekt?",
       "layout": "IPY_MODEL_d15ea147fbd24ac48707c9ba1dd50a02",
       "style": "IPY_MODEL_241c63d04ce2458598f7e5968aa4afef"
      }
     },
     "9530a192ac7741628f39f95b2e4c21d8": {
      "model_module": "@jupyter-widgets/base",
      "model_module_version": "1.2.0",
      "model_name": "LayoutModel",
      "state": {
       "justify_content": "center"
      }
     },
     "957d639e5db44a67999ed13d581283b5": {
      "model_module": "@jupyter-widgets/controls",
      "model_module_version": "1.5.0",
      "model_name": "HTMLModel",
      "state": {
       "layout": "IPY_MODEL_ef0885e5ebd44c0a91ec467b32ed61a0",
       "style": "IPY_MODEL_69d65e7c3c60461aa04210607ad51028",
       "value": "<i>Wählen Sie die <ins>eine</ins> korrekte Antwort aus: </i>"
      }
     },
     "959ac132efdd4ad99945fd6cf3095dfa": {
      "model_module": "@jupyter-widgets/controls",
      "model_module_version": "1.5.0",
      "model_name": "HTMLModel",
      "state": {
       "layout": "IPY_MODEL_6ae69aa0591942ee86d26d276cbb0d85",
       "style": "IPY_MODEL_022107a126ef404bad2a46006e674d41",
       "value": "<h4 style=\"font-size:14px;\">Ist der Satz ambig?</h4>"
      }
     },
     "95b92341655b468389fcd64606ae44a8": {
      "model_module": "@jupyter-widgets/controls",
      "model_module_version": "1.5.0",
      "model_name": "DescriptionStyleModel",
      "state": {
       "description_width": ""
      }
     },
     "95d25e8cad1e44048364c60acacbf4c9": {
      "model_module": "@jupyter-widgets/controls",
      "model_module_version": "1.5.0",
      "model_name": "DescriptionStyleModel",
      "state": {
       "description_width": "initial"
      }
     },
     "95ddc95f4675472f9748ee978a49884e": {
      "model_module": "@jupyter-widgets/base",
      "model_module_version": "1.2.0",
      "model_name": "LayoutModel",
      "state": {
       "width": "250px"
      }
     },
     "95eeecb1e6214bb4b31223720c4fc4fc": {
      "model_module": "@jupyter-widgets/controls",
      "model_module_version": "1.5.0",
      "model_name": "ButtonModel",
      "state": {
       "description": "Ja",
       "layout": "IPY_MODEL_5a6f023e0bad4746bfbbd59df9898e1e",
       "style": "IPY_MODEL_596c0fd92e744b13888dbbdb72ab06c4"
      }
     },
     "9626242562844c4f95bcd1f32baaeace": {
      "model_module": "@jupyter-widgets/controls",
      "model_module_version": "1.5.0",
      "model_name": "VBoxModel",
      "state": {
       "children": [
        "IPY_MODEL_e9c14eaaeb4a43cebd28676e4f49fcd2",
        "IPY_MODEL_d407aa291f6e42c884854760a010860d",
        "IPY_MODEL_f701d6be1d894c038e005195d952feee"
       ],
       "layout": "IPY_MODEL_14cbd0b39ea2428daa3da0196ff25e66"
      }
     },
     "9629286b8dd9434783abde99ef448765": {
      "model_module": "@jupyter-widgets/base",
      "model_module_version": "1.2.0",
      "model_name": "LayoutModel",
      "state": {
       "width": "250px"
      }
     },
     "966dab5e344c4cd29b04a738656e2659": {
      "model_module": "@jupyter-widgets/base",
      "model_module_version": "1.2.0",
      "model_name": "LayoutModel",
      "state": {
       "justify_content": "center"
      }
     },
     "96adc4cdd9e645308162bd2ae6ef505b": {
      "model_module": "@jupyter-widgets/controls",
      "model_module_version": "1.5.0",
      "model_name": "CheckboxModel",
      "state": {
       "description": "Loopen über bereits erkannt Chunk-Muster",
       "disabled": false,
       "layout": "IPY_MODEL_e5f01781a60444fca0ac6413977ded3d",
       "style": "IPY_MODEL_39ef177fb1e940058a7e804c48c24b69",
       "value": false
      }
     },
     "96ea5a16882649868bd2bf9bff16d045": {
      "model_module": "@jupyter-widgets/base",
      "model_module_version": "1.2.0",
      "model_name": "LayoutModel",
      "state": {
       "justify_content": "center"
      }
     },
     "970871b928b142669d2d8189bb857c08": {
      "model_module": "@jupyter-widgets/base",
      "model_module_version": "1.2.0",
      "model_name": "LayoutModel",
      "state": {}
     },
     "975842e03a2d47e99a6877f452a6e0e3": {
      "model_module": "@jupyter-widgets/controls",
      "model_module_version": "1.5.0",
      "model_name": "ButtonModel",
      "state": {
       "description": "XML-Tags",
       "layout": "IPY_MODEL_2b65022f375940f89e33393286c0cab4",
       "style": "IPY_MODEL_7eac18a292d647178a03fbfaf4ef5564"
      }
     },
     "9783532cb4104fb7a698d51ca21f6e76": {
      "model_module": "@jupyter-widgets/controls",
      "model_module_version": "1.5.0",
      "model_name": "DescriptionStyleModel",
      "state": {
       "description_width": ""
      }
     },
     "97ad230687764c1cbdd87b7532869ab3": {
      "model_module": "@jupyter-widgets/controls",
      "model_module_version": "1.5.0",
      "model_name": "ButtonStyleModel",
      "state": {}
     },
     "97baf06daed34ced9ef38195af25d7d7": {
      "model_module": "@jupyter-widgets/controls",
      "model_module_version": "1.5.0",
      "model_name": "HBoxModel",
      "state": {
       "children": [
        "IPY_MODEL_36d739e2ab9745e8aafd25016575205f",
        "IPY_MODEL_b10b9144d62045ff8064edb059cbd158"
       ],
       "layout": "IPY_MODEL_94faed1c631c4d36bc3993f73cbf9ef6"
      }
     },
     "97bc62e1040b4460a51258029b5ad605": {
      "model_module": "@jupyter-widgets/controls",
      "model_module_version": "1.5.0",
      "model_name": "HTMLModel",
      "state": {
       "layout": "IPY_MODEL_9e134ae86d0b494dbb97de6699709051",
       "style": "IPY_MODEL_c1ed95d3aa6d4e5c8fe40bbd55519dee",
       "value": "<i>Wählen Sie die <ins>eine</ins> korrekte Antwort aus: </i>"
      }
     },
     "97ddfcd6738342ec83b09659e1ebe364": {
      "model_module": "@jupyter-widgets/base",
      "model_module_version": "1.2.0",
      "model_name": "LayoutModel",
      "state": {}
     },
     "9808875b4264461aa174b5e4be3d541a": {
      "model_module": "@jupyter-widgets/controls",
      "model_module_version": "1.5.0",
      "model_name": "ButtonModel",
      "state": {
       "description": "regular expressions",
       "layout": "IPY_MODEL_e2d2ec332e5e4a178747daece5c93086",
       "style": "IPY_MODEL_605681aed9d04a01b65d9cc2a2830d23"
      }
     },
     "981c165c98f3417bbffa89f746752275": {
      "model_module": "@jupyter-widgets/controls",
      "model_module_version": "1.5.0",
      "model_name": "DescriptionStyleModel",
      "state": {
       "description_width": "initial"
      }
     },
     "984198dbe80642798536d6b20ddbaf96": {
      "model_module": "@jupyter-widgets/controls",
      "model_module_version": "1.5.0",
      "model_name": "VBoxModel",
      "state": {
       "children": [
        "IPY_MODEL_1e10148ae2c144aa9f6f5a4fdc9c1148",
        "IPY_MODEL_1c1c13b1cd3a40fa8d01bbdb3f43c943",
        "IPY_MODEL_037dc42b56ca40ea94bf47a1e14bafbf",
        "IPY_MODEL_b9ced96bc0374f099019d5fb39eebfb4"
       ],
       "layout": "IPY_MODEL_90718446d9c648ce9b8f30e778e11763"
      }
     },
     "98494e490f7d4d918b4f06adca43328d": {
      "model_module": "@jupyter-widgets/base",
      "model_module_version": "1.2.0",
      "model_name": "LayoutModel",
      "state": {
       "width": "600px"
      }
     },
     "9859c53f95b04836b71f0607e3563a3f": {
      "model_module": "@jupyter-widgets/controls",
      "model_module_version": "1.5.0",
      "model_name": "ButtonStyleModel",
      "state": {}
     },
     "986727e7b921419d8812ae7629081d77": {
      "model_module": "@jupyter-widgets/controls",
      "model_module_version": "1.5.0",
      "model_name": "ButtonStyleModel",
      "state": {
       "button_color": "lightgreen"
      }
     },
     "98710cde785b4f5ebc449306eeba46ee": {
      "model_module": "@jupyter-widgets/controls",
      "model_module_version": "1.5.0",
      "model_name": "HTMLModel",
      "state": {
       "layout": "IPY_MODEL_7cf88ffa685b4ab882eb1ab0721f2799",
       "style": "IPY_MODEL_1f23e29f6d454ccc8c0e5bf154daa0fb",
       "value": "<i>Wählen Sie die <ins>eine</ins> korrekte Antwort aus: </i>"
      }
     },
     "989a5932cbd94b52872b5c491c233c03": {
      "model_module": "@jupyter-widgets/controls",
      "model_module_version": "1.5.0",
      "model_name": "HTMLModel",
      "state": {
       "layout": "IPY_MODEL_e9c5745f54ef41fcbc86a5838846191c",
       "style": "IPY_MODEL_43a13a2d314a4cbf812487632432890e",
       "value": "<h4 style=\"font-size:14px;\">Wodurch kann mit einem RegexpParser eine hierarchische Chunk-Struktur aufgebaut werden (ähnlicher den hierarchischen Analysen mit einer Phrasenstrukturgrammatik)?</h4>"
      }
     },
     "98e3fdb7b06947af80901733c4c4c3bc": {
      "model_module": "@jupyter-widgets/controls",
      "model_module_version": "1.5.0",
      "model_name": "VBoxModel",
      "state": {
       "children": [
        "IPY_MODEL_b1bf0df95a9248e3ab6e8fa36f5cc326",
        "IPY_MODEL_9b3843bb8fac437a944e70deae2114bb",
        "IPY_MODEL_a079616c71c3428f87fc7e45fa3ef7fe",
        "IPY_MODEL_be2c59dc31744592a5af38c16aaa2a0d"
       ],
       "layout": "IPY_MODEL_a17112751d454814a23eadce7ed4ceb3"
      }
     },
     "98fc12ff5a794e29951c2eaa4e3ebbb9": {
      "model_module": "@jupyter-widgets/controls",
      "model_module_version": "1.5.0",
      "model_name": "DescriptionStyleModel",
      "state": {
       "description_width": ""
      }
     },
     "990cb18fdf7e41899da3c6e511da2dc1": {
      "model_module": "@jupyter-widgets/base",
      "model_module_version": "1.2.0",
      "model_name": "LayoutModel",
      "state": {
       "width": "250px"
      }
     },
     "9939aae6de64414db0e68cb197aac963": {
      "model_module": "@jupyter-widgets/controls",
      "model_module_version": "1.5.0",
      "model_name": "HTMLModel",
      "state": {
       "layout": "IPY_MODEL_d73fff5b4fe640d7b214e2526699e2a6",
       "style": "IPY_MODEL_efa1ae6d73ca40f4a9eafa7e2443264d",
       "value": "<h4 style=\"font-size:14px;\">Was kann mit Chinking erreicht werden?</h4>"
      }
     },
     "993bf6a6df0444bf96fc95c438345c1e": {
      "model_module": "@jupyter-widgets/base",
      "model_module_version": "1.2.0",
      "model_name": "LayoutModel",
      "state": {
       "width": "500px"
      }
     },
     "995177d6f1284199ab28dc417b8a15bd": {
      "model_module": "@jupyter-widgets/base",
      "model_module_version": "1.2.0",
      "model_name": "LayoutModel",
      "state": {
       "width": "250px"
      }
     },
     "99896984db8945d9840b1754d230bfbd": {
      "model_module": "@jupyter-widgets/base",
      "model_module_version": "1.2.0",
      "model_name": "LayoutModel",
      "state": {}
     },
     "99ace96bf589439398a6bed023330f27": {
      "model_module": "@jupyter-widgets/controls",
      "model_module_version": "1.5.0",
      "model_name": "ButtonStyleModel",
      "state": {}
     },
     "99bb40751291479682d785304fabf019": {
      "model_module": "@jupyter-widgets/controls",
      "model_module_version": "1.5.0",
      "model_name": "ButtonStyleModel",
      "state": {}
     },
     "99ee7a95eaba47fe879f65b31becb71a": {
      "model_module": "@jupyter-widgets/base",
      "model_module_version": "1.2.0",
      "model_name": "LayoutModel",
      "state": {
       "justify_content": "center"
      }
     },
     "9a321ff615fc47f69cb2cd84dbd24e5b": {
      "model_module": "@jupyter-widgets/base",
      "model_module_version": "1.2.0",
      "model_name": "LayoutModel",
      "state": {}
     },
     "9a476da2af774c94959fc43643048630": {
      "model_module": "@jupyter-widgets/controls",
      "model_module_version": "1.5.0",
      "model_name": "DescriptionStyleModel",
      "state": {
       "description_width": ""
      }
     },
     "9a5c7b995b204be08546e6fb1e482f77": {
      "model_module": "@jupyter-widgets/controls",
      "model_module_version": "1.5.0",
      "model_name": "CheckboxModel",
      "state": {
       "description": "Recall = true positives / (true positives + false negatives)",
       "disabled": false,
       "layout": "IPY_MODEL_9ed734e01f004fd4abf2a2d3fb1abf0f",
       "style": "IPY_MODEL_b7db6399fb8d42058e5cb72f5bcac665",
       "value": false
      }
     },
     "9a6301631cd04dd5a6ec0eb1377288fd": {
      "model_module": "@jupyter-widgets/controls",
      "model_module_version": "1.5.0",
      "model_name": "VBoxModel",
      "state": {
       "children": [
        "IPY_MODEL_cf580758883b48d38846c1cac92b2a01",
        "IPY_MODEL_aa94a9b212d04635b8dda24ea8ccf877",
        "IPY_MODEL_2bf055a14df64c9287df24242907e788",
        "IPY_MODEL_85f20b85b8ea4cce8d339b8f17e077b1"
       ],
       "layout": "IPY_MODEL_24ff7ccba41149cba55126d39861f661"
      }
     },
     "9a8533df854d4256a6f9c2ff6501810b": {
      "model_module": "@jupyter-widgets/base",
      "model_module_version": "1.2.0",
      "model_name": "LayoutModel",
      "state": {
       "width": "250px"
      }
     },
     "9aacf84cfe1441bc9bf87304f48e520a": {
      "model_module": "@jupyter-widgets/base",
      "model_module_version": "1.2.0",
      "model_name": "LayoutModel",
      "state": {}
     },
     "9ad1f84ee64e447bac62873268946b9d": {
      "model_module": "@jupyter-widgets/controls",
      "model_module_version": "1.5.0",
      "model_name": "ButtonModel",
      "state": {
       "description": "part-of-speech tags",
       "layout": "IPY_MODEL_800e661ebb884437921337157b7fd625",
       "style": "IPY_MODEL_c1057751ee2b4b8795a9a204183ca90b"
      }
     },
     "9ad2486fe6eb409b80f7fa3f5e3d39df": {
      "model_module": "@jupyter-widgets/base",
      "model_module_version": "1.2.0",
      "model_name": "LayoutModel",
      "state": {
       "width": "250px"
      }
     },
     "9ad71d404b974a079fabef2d7f7aef0e": {
      "model_module": "@jupyter-widgets/controls",
      "model_module_version": "1.5.0",
      "model_name": "VBoxModel",
      "state": {
       "children": [
        "IPY_MODEL_0f4a75e5aa6641ff9cf0f576459e69b4",
        "IPY_MODEL_13fdaed74664403db1ce787f7fa24c08",
        "IPY_MODEL_5dc24f865a854cf99c6b8322a676b8bd",
        "IPY_MODEL_35592961558e4f00b9fe77a159ef4808"
       ],
       "layout": "IPY_MODEL_594cf199596046f6a3a9d7e47bdac162"
      }
     },
     "9afd67b60989496d881d310b293685a6": {
      "model_module": "@jupyter-widgets/base",
      "model_module_version": "1.2.0",
      "model_name": "LayoutModel",
      "state": {}
     },
     "9b0ce1ee0e4b4a549d35425bae8eaca6": {
      "model_module": "@jupyter-widgets/controls",
      "model_module_version": "1.5.0",
      "model_name": "ButtonStyleModel",
      "state": {}
     },
     "9b3843bb8fac437a944e70deae2114bb": {
      "model_module": "@jupyter-widgets/controls",
      "model_module_version": "1.5.0",
      "model_name": "HTMLModel",
      "state": {
       "layout": "IPY_MODEL_10fb13120f9a43278cf6931a1b24fa05",
       "style": "IPY_MODEL_3bc0c9c906d74e5094f173fc849494f5",
       "value": "<i>Wählen Sie die <ins>eine</ins> korrekte Antwort aus: </i>"
      }
     },
     "9b4f363d55b14f9cb8889093da7ab0b4": {
      "model_module": "@jupyter-widgets/controls",
      "model_module_version": "1.5.0",
      "model_name": "ButtonModel",
      "state": {
       "description": "{ }",
       "layout": "IPY_MODEL_c6151a6caeeb4c20b514c111612a6f8b",
       "style": "IPY_MODEL_d2279e4adae844f4a8a3f8a361c16399"
      }
     },
     "9b5113534d59452da1cd18288ef6367d": {
      "model_module": "@jupyter-widgets/controls",
      "model_module_version": "1.5.0",
      "model_name": "ButtonStyleModel",
      "state": {}
     },
     "9b79a999171341d4ba28c01101287ad6": {
      "model_module": "@jupyter-widgets/base",
      "model_module_version": "1.2.0",
      "model_name": "LayoutModel",
      "state": {
       "justify_content": "center"
      }
     },
     "9bad842941db4ebdbe92876640333036": {
      "model_module": "@jupyter-widgets/controls",
      "model_module_version": "1.5.0",
      "model_name": "ButtonModel",
      "state": {
       "description": "Keine der anderen Möglichkeiten",
       "layout": "IPY_MODEL_0532fc5c9a0a48449826bbb4ca184539",
       "style": "IPY_MODEL_fa87ff6b6e91421da82aabf860aeab08"
      }
     },
     "9bb55c15ce3a4959b1556b6b2fe84449": {
      "model_module": "@jupyter-widgets/base",
      "model_module_version": "1.2.0",
      "model_name": "LayoutModel",
      "state": {
       "width": "600px"
      }
     },
     "9bc0cbe87c714aa9b5005df246b1c961": {
      "model_module": "@jupyter-widgets/controls",
      "model_module_version": "1.5.0",
      "model_name": "HBoxModel",
      "state": {
       "children": [
        "IPY_MODEL_bc6e43baed0f49bf93b6102677b14220",
        "IPY_MODEL_911206368400454eb678ed8139199b93"
       ],
       "layout": "IPY_MODEL_17be8694e6924430bbce2dd122401b2c"
      }
     },
     "9be32e76a8dd46ff94f27dc429ef96af": {
      "model_module": "@jupyter-widgets/base",
      "model_module_version": "1.2.0",
      "model_name": "LayoutModel",
      "state": {}
     },
     "9c2202326d4e4340800753d2ae9f1b87": {
      "model_module": "@jupyter-widgets/controls",
      "model_module_version": "1.5.0",
      "model_name": "ButtonStyleModel",
      "state": {}
     },
     "9c28800306514ee691b43c8b91a24b75": {
      "model_module": "@jupyter-widgets/base",
      "model_module_version": "1.2.0",
      "model_name": "LayoutModel",
      "state": {
       "justify_content": "center"
      }
     },
     "9c4702493b794947a3e36cacbad5eb97": {
      "model_module": "@jupyter-widgets/base",
      "model_module_version": "1.2.0",
      "model_name": "LayoutModel",
      "state": {
       "width": "600px"
      }
     },
     "9c48e49aa2b64b8eb11daf914341f7e5": {
      "model_module": "@jupyter-widgets/controls",
      "model_module_version": "1.5.0",
      "model_name": "DescriptionStyleModel",
      "state": {
       "description_width": "initial"
      }
     },
     "9c83322237e54cffa2c41e1aeb7671a5": {
      "model_module": "@jupyter-widgets/base",
      "model_module_version": "1.2.0",
      "model_name": "LayoutModel",
      "state": {}
     },
     "9c8ad6b73fcb4880ab9f37e7909a0327": {
      "model_module": "@jupyter-widgets/controls",
      "model_module_version": "1.5.0",
      "model_name": "ButtonStyleModel",
      "state": {}
     },
     "9ce058a82d8b430d871685be5de660d9": {
      "model_module": "@jupyter-widgets/base",
      "model_module_version": "1.2.0",
      "model_name": "LayoutModel",
      "state": {
       "width": "250px"
      }
     },
     "9ce5a05508114d958eaf4efb153b4ed0": {
      "model_module": "@jupyter-widgets/base",
      "model_module_version": "1.2.0",
      "model_name": "LayoutModel",
      "state": {
       "width": "250px"
      }
     },
     "9d015db4e3834e89886783b6c0d9855c": {
      "model_module": "@jupyter-widgets/base",
      "model_module_version": "1.2.0",
      "model_name": "LayoutModel",
      "state": {
       "width": "250px"
      }
     },
     "9d06f38f5f6447ef86e2a666a26a117c": {
      "model_module": "@jupyter-widgets/controls",
      "model_module_version": "1.5.0",
      "model_name": "ButtonStyleModel",
      "state": {}
     },
     "9d46ee9e7863443ca1c9537590e97236": {
      "model_module": "@jupyter-widgets/base",
      "model_module_version": "1.2.0",
      "model_name": "LayoutModel",
      "state": {
       "width": "600px"
      }
     },
     "9d4e1257a5314c4e878e3c3414eb7520": {
      "model_module": "@jupyter-widgets/controls",
      "model_module_version": "1.5.0",
      "model_name": "ButtonModel",
      "state": {
       "description": "{ }",
       "layout": "IPY_MODEL_bdf651b2924046a2b649feb1375e3ae5",
       "style": "IPY_MODEL_eb80e1243b714b5aae178e45d5f5db92"
      }
     },
     "9d5c134df1344ece96558f4e90b5b5c2": {
      "model_module": "@jupyter-widgets/controls",
      "model_module_version": "1.5.0",
      "model_name": "HTMLModel",
      "state": {
       "layout": "IPY_MODEL_28ee0859e42f4bab93c895b68362b848",
       "style": "IPY_MODEL_7ae45d808a5d4d21897469f77929b012",
       "value": "<h4 style=\"font-size:14px;\">Welche der Formeln berechnen Precision, Recall, Accuracy und F1-Score korrekt?</h4>"
      }
     },
     "9dbf40f1a4124c59bfa21310efd4ea1e": {
      "model_module": "@jupyter-widgets/base",
      "model_module_version": "1.2.0",
      "model_name": "LayoutModel",
      "state": {
       "width": "250px"
      }
     },
     "9dc62cd22c09485bb06c93184753a2d2": {
      "model_module": "@jupyter-widgets/controls",
      "model_module_version": "1.5.0",
      "model_name": "DescriptionStyleModel",
      "state": {
       "description_width": ""
      }
     },
     "9dcc4a2e4f854bf68d10b3ce0239b8b8": {
      "model_module": "@jupyter-widgets/controls",
      "model_module_version": "1.5.0",
      "model_name": "ButtonModel",
      "state": {
       "description": "center embedding",
       "layout": "IPY_MODEL_3ca1771d4a62443ebb581d1c674c54ff",
       "style": "IPY_MODEL_7526677afacd44ddab072dc566ab3d05"
      }
     },
     "9dd67cd125d34d228e99ffee0ae3d500": {
      "model_module": "@jupyter-widgets/base",
      "model_module_version": "1.2.0",
      "model_name": "LayoutModel",
      "state": {
       "width": "600px"
      }
     },
     "9dfd0d5ccd184053bae082a68fbdb9db": {
      "model_module": "@jupyter-widgets/base",
      "model_module_version": "1.2.0",
      "model_name": "LayoutModel",
      "state": {
       "justify_content": "center"
      }
     },
     "9e134ae86d0b494dbb97de6699709051": {
      "model_module": "@jupyter-widgets/base",
      "model_module_version": "1.2.0",
      "model_name": "LayoutModel",
      "state": {
       "justify_content": "center"
      }
     },
     "9e8ecdecfcc242f0877672ba9f566861": {
      "model_module": "@jupyter-widgets/controls",
      "model_module_version": "1.5.0",
      "model_name": "HTMLModel",
      "state": {
       "layout": "IPY_MODEL_9edb56723a2f4ba5ae5a81cede3621a1",
       "style": "IPY_MODEL_bac29777a5e7462b8efc67ab0f338be2",
       "value": "<h4 style=\"font-size:14px;\">Welche Rekursionstiefe hat der Satz?</h4>"
      }
     },
     "9ea51f18f7534f58984feab06e5c6095": {
      "model_module": "@jupyter-widgets/base",
      "model_module_version": "1.2.0",
      "model_name": "LayoutModel",
      "state": {
       "justify_content": "center"
      }
     },
     "9ed734e01f004fd4abf2a2d3fb1abf0f": {
      "model_module": "@jupyter-widgets/base",
      "model_module_version": "1.2.0",
      "model_name": "LayoutModel",
      "state": {
       "width": "600px"
      }
     },
     "9edb56723a2f4ba5ae5a81cede3621a1": {
      "model_module": "@jupyter-widgets/base",
      "model_module_version": "1.2.0",
      "model_name": "LayoutModel",
      "state": {}
     },
     "9ef607dadf8d4e01bca1b195e20eb42b": {
      "model_module": "@jupyter-widgets/controls",
      "model_module_version": "1.5.0",
      "model_name": "ButtonStyleModel",
      "state": {}
     },
     "9f0a4e0c25f7429ba2756881cb66f47e": {
      "model_module": "@jupyter-widgets/controls",
      "model_module_version": "1.5.0",
      "model_name": "DescriptionStyleModel",
      "state": {
       "description_width": ""
      }
     },
     "9f3077f504ff4e4fb8a3df89ed3fbbe9": {
      "model_module": "@jupyter-widgets/base",
      "model_module_version": "1.2.0",
      "model_name": "LayoutModel",
      "state": {
       "justify_content": "center"
      }
     },
     "9f4becd05f4d4e79a78b605c105d120b": {
      "model_module": "@jupyter-widgets/controls",
      "model_module_version": "1.5.0",
      "model_name": "DescriptionStyleModel",
      "state": {
       "description_width": "initial"
      }
     },
     "9f5c86427b3b4d36b0eaf6452905ba4c": {
      "model_module": "@jupyter-widgets/base",
      "model_module_version": "1.2.0",
      "model_name": "LayoutModel",
      "state": {
       "justify_content": "center"
      }
     },
     "9f6612d893e84cd386c04db14c1530f3": {
      "model_module": "@jupyter-widgets/controls",
      "model_module_version": "1.5.0",
      "model_name": "ButtonStyleModel",
      "state": {}
     },
     "9f6a996433b246f4802297402fb33dab": {
      "model_module": "@jupyter-widgets/controls",
      "model_module_version": "1.5.0",
      "model_name": "HTMLModel",
      "state": {
       "layout": "IPY_MODEL_23e18c74973242c4952ac52bfe793274",
       "style": "IPY_MODEL_ba45414d98be4f1cb7bda942b26e058f",
       "value": "<h4 style=\"font-size:14px;\">Sind Teile des Satzes ambig?</h4>"
      }
     },
     "9f6d7d4d2a0a40cfb52ddd25902bb9c4": {
      "model_module": "@jupyter-widgets/base",
      "model_module_version": "1.2.0",
      "model_name": "LayoutModel",
      "state": {}
     },
     "9f95df8a83e04f348276b7671b3a823d": {
      "model_module": "@jupyter-widgets/controls",
      "model_module_version": "1.5.0",
      "model_name": "ButtonStyleModel",
      "state": {}
     },
     "9fa6f503cc3b41299a6782a29fb7a748": {
      "model_module": "@jupyter-widgets/base",
      "model_module_version": "1.2.0",
      "model_name": "LayoutModel",
      "state": {
       "width": "250px"
      }
     },
     "a00a10f40f4a41938341f750d8aa7f7e": {
      "model_module": "@jupyter-widgets/controls",
      "model_module_version": "1.5.0",
      "model_name": "DescriptionStyleModel",
      "state": {
       "description_width": ""
      }
     },
     "a01f8b984e7f442c9afedb6000b377d5": {
      "model_module": "@jupyter-widgets/base",
      "model_module_version": "1.2.0",
      "model_name": "LayoutModel",
      "state": {}
     },
     "a01f9cf6ca2d4fbda2727a3c6a2dce03": {
      "model_module": "@jupyter-widgets/controls",
      "model_module_version": "1.5.0",
      "model_name": "ButtonModel",
      "state": {
       "description": "kontextfrei",
       "layout": "IPY_MODEL_f30f152c18344f3ba64d591cb4e2cba4",
       "style": "IPY_MODEL_5e6afab2fdc44c53b7ce13ae0d4e76c3"
      }
     },
     "a0230300dced4400b3b57e01e7e75f88": {
      "model_module": "@jupyter-widgets/controls",
      "model_module_version": "1.5.0",
      "model_name": "CheckboxModel",
      "state": {
       "description": "Verwendung von Chinking-Regeln",
       "disabled": false,
       "layout": "IPY_MODEL_22bd29fc52364bf98e52b09fcd500846",
       "style": "IPY_MODEL_a0cd7dd2d88143fd802ecc896c973979",
       "value": false
      }
     },
     "a0238b6f52a745658712c4a33fc942fe": {
      "model_module": "@jupyter-widgets/controls",
      "model_module_version": "1.5.0",
      "model_name": "DescriptionStyleModel",
      "state": {
       "description_width": ""
      }
     },
     "a036a1d15084402591f7d74775f847cf": {
      "model_module": "@jupyter-widgets/controls",
      "model_module_version": "1.5.0",
      "model_name": "ButtonStyleModel",
      "state": {}
     },
     "a03dd7bb4ebd47ec81377cf325286bad": {
      "model_module": "@jupyter-widgets/controls",
      "model_module_version": "1.5.0",
      "model_name": "DescriptionStyleModel",
      "state": {
       "description_width": "initial"
      }
     },
     "a03ec6c1af8e48b39fd5e318f9137806": {
      "model_module": "@jupyter-widgets/base",
      "model_module_version": "1.2.0",
      "model_name": "LayoutModel",
      "state": {
       "width": "250px"
      }
     },
     "a04dd9a341af4aacb52c49a4d1b9fd81": {
      "model_module": "@jupyter-widgets/controls",
      "model_module_version": "1.5.0",
      "model_name": "ButtonStyleModel",
      "state": {}
     },
     "a04f9006ea8742839f824beaae013885": {
      "model_module": "@jupyter-widgets/base",
      "model_module_version": "1.2.0",
      "model_name": "LayoutModel",
      "state": {
       "width": "250px"
      }
     },
     "a058b47a0fd24a6f86a03cc4cf8f4990": {
      "model_module": "@jupyter-widgets/controls",
      "model_module_version": "1.5.0",
      "model_name": "DescriptionStyleModel",
      "state": {
       "description_width": ""
      }
     },
     "a079616c71c3428f87fc7e45fa3ef7fe": {
      "model_module": "@jupyter-widgets/controls",
      "model_module_version": "1.5.0",
      "model_name": "HBoxModel",
      "state": {
       "children": [
        "IPY_MODEL_b43539b5da8842cdb46cc0609fa4b151",
        "IPY_MODEL_71c1b5f0a0b64b9aaf8f7d605989d537"
       ],
       "layout": "IPY_MODEL_6afa9dd69d864c56a1da7d670425cb1f"
      }
     },
     "a096028a11d545428cb653d2e25032db": {
      "model_module": "@jupyter-widgets/controls",
      "model_module_version": "1.5.0",
      "model_name": "HBoxModel",
      "state": {
       "children": [
        "IPY_MODEL_41f6249edc9c4d3db9192a0f134f09aa",
        "IPY_MODEL_d82ed4c9d1b64905986ba501d8b7d841"
       ],
       "layout": "IPY_MODEL_26d56145fe0c4a4dbfe873c35b02199e"
      }
     },
     "a0a6ee15fb3842ecb095aaa01a7a4637": {
      "model_module": "@jupyter-widgets/controls",
      "model_module_version": "1.5.0",
      "model_name": "CheckboxModel",
      "state": {
       "description": "zwei Chunks werden zu einem größeren zusammengefasst",
       "disabled": false,
       "layout": "IPY_MODEL_0f60708978a044e79af5c478e48707fd",
       "style": "IPY_MODEL_30fcd09d975543e9a721deeb130306d0",
       "value": false
      }
     },
     "a0cd7dd2d88143fd802ecc896c973979": {
      "model_module": "@jupyter-widgets/controls",
      "model_module_version": "1.5.0",
      "model_name": "DescriptionStyleModel",
      "state": {
       "description_width": "initial"
      }
     },
     "a12934155f214eb0b18e7f7fe6d4b463": {
      "model_module": "@jupyter-widgets/controls",
      "model_module_version": "1.5.0",
      "model_name": "ButtonModel",
      "state": {
       "description": "Ja",
       "layout": "IPY_MODEL_0cb92bda4b6b4273a2388317cd55260c",
       "style": "IPY_MODEL_f946d387fac24abea150c29063aafb65"
      }
     },
     "a1338474e95a4017abde8de91a5af126": {
      "model_module": "@jupyter-widgets/base",
      "model_module_version": "1.2.0",
      "model_name": "LayoutModel",
      "state": {
       "width": "250px"
      }
     },
     "a13dcd19acfc48c288c263d84ad9c568": {
      "model_module": "@jupyter-widgets/controls",
      "model_module_version": "1.5.0",
      "model_name": "DescriptionStyleModel",
      "state": {
       "description_width": "initial"
      }
     },
     "a142afcd1dce49b1b78fa0df768629d1": {
      "model_module": "@jupyter-widgets/controls",
      "model_module_version": "1.5.0",
      "model_name": "DescriptionStyleModel",
      "state": {
       "description_width": "initial"
      }
     },
     "a17112751d454814a23eadce7ed4ceb3": {
      "model_module": "@jupyter-widgets/base",
      "model_module_version": "1.2.0",
      "model_name": "LayoutModel",
      "state": {}
     },
     "a176687017704aafba3f5dbbbe1e004b": {
      "model_module": "@jupyter-widgets/controls",
      "model_module_version": "1.5.0",
      "model_name": "CheckboxModel",
      "state": {
       "description": "Accuracy = (true positives + true negatives) / Anzahl aller Vorhersagen",
       "disabled": false,
       "layout": "IPY_MODEL_06179dc7e4004d26a2ad636281749b27",
       "style": "IPY_MODEL_7597d1fd5c8e423697b76888861a31df",
       "value": false
      }
     },
     "a1815b11e86d4e7986f29e1b18160bdb": {
      "model_module": "@jupyter-widgets/controls",
      "model_module_version": "1.5.0",
      "model_name": "ButtonStyleModel",
      "state": {}
     },
     "a1948c6ddda24ac98a4303a5fc1fab81": {
      "model_module": "@jupyter-widgets/controls",
      "model_module_version": "1.5.0",
      "model_name": "HTMLModel",
      "state": {
       "layout": "IPY_MODEL_d4611e0282a24b1f87dff8d4737ad264",
       "style": "IPY_MODEL_cb3d0015dd76469ab8b3d4e63f9c72bc",
       "value": "<h4 style=\"font-size:14px;\">Sind Teile des Satzes ambig?</h4>"
      }
     },
     "a1ae9729b60545ca8f5faa3dbe7463ca": {
      "model_module": "@jupyter-widgets/controls",
      "model_module_version": "1.5.0",
      "model_name": "CheckboxModel",
      "state": {
       "description": "Verwendung von Splitting-Regeln",
       "disabled": false,
       "layout": "IPY_MODEL_ceefbe26d8a240f38cd1d838056ff4ec",
       "style": "IPY_MODEL_b40b0408082a48af83a89e4aebd0eec1",
       "value": false
      }
     },
     "a1b276e62a26438cb263ee4fa2098523": {
      "model_module": "@jupyter-widgets/controls",
      "model_module_version": "1.5.0",
      "model_name": "ButtonModel",
      "state": {
       "description": "} {",
       "layout": "IPY_MODEL_5cc974eefe4e47c89f5670189b66b2be",
       "style": "IPY_MODEL_d3e4f487e5594bd8b84178d96962e1d1"
      }
     },
     "a1c0d19303204944a874b0a563d4f18a": {
      "model_module": "@jupyter-widgets/controls",
      "model_module_version": "1.5.0",
      "model_name": "DescriptionStyleModel",
      "state": {
       "description_width": ""
      }
     },
     "a1c293c3a89a4af8932cb1ced651a608": {
      "model_module": "@jupyter-widgets/controls",
      "model_module_version": "1.5.0",
      "model_name": "DescriptionStyleModel",
      "state": {
       "description_width": "initial"
      }
     },
     "a1cc0ef9a8024a249c5e517306a61821": {
      "model_module": "@jupyter-widgets/base",
      "model_module_version": "1.2.0",
      "model_name": "LayoutModel",
      "state": {}
     },
     "a1d85dffe22541dc917ef02d49d7e81b": {
      "model_module": "@jupyter-widgets/base",
      "model_module_version": "1.2.0",
      "model_name": "LayoutModel",
      "state": {}
     },
     "a1dcf37642914e9196d50e058994cd1a": {
      "model_module": "@jupyter-widgets/controls",
      "model_module_version": "1.5.0",
      "model_name": "ButtonStyleModel",
      "state": {}
     },
     "a1ee1427fc3b4ddabc41fcb9153b2e10": {
      "model_module": "@jupyter-widgets/controls",
      "model_module_version": "1.5.0",
      "model_name": "HBoxModel",
      "state": {
       "children": [
        "IPY_MODEL_91222674566d4cecb5be1506ec950297",
        "IPY_MODEL_fa4edd0aa3f24bbb8fd6df54c8185774"
       ],
       "layout": "IPY_MODEL_45cf0b8978b4463b906d1964e627f994"
      }
     },
     "a1f9c9a33c1d4045b8f12dcf7d8cadf0": {
      "model_module": "@jupyter-widgets/controls",
      "model_module_version": "1.5.0",
      "model_name": "HBoxModel",
      "state": {
       "children": [
        "IPY_MODEL_f5264ba9883e483ca662cda0cc27ad4b",
        "IPY_MODEL_bede9dd277484032a888773cb572ed49"
       ],
       "layout": "IPY_MODEL_4519e06e88394828a98fb06ab4d742d9"
      }
     },
     "a23ab72413424776b1cc7e95ce7a5005": {
      "model_module": "@jupyter-widgets/controls",
      "model_module_version": "1.5.0",
      "model_name": "DescriptionStyleModel",
      "state": {
       "description_width": ""
      }
     },
     "a24323b658f347b58aae7445ab88e43d": {
      "model_module": "@jupyter-widgets/base",
      "model_module_version": "1.2.0",
      "model_name": "LayoutModel",
      "state": {
       "width": "600px"
      }
     },
     "a24d471fb12148edb9c33d28d9a00dca": {
      "model_module": "@jupyter-widgets/controls",
      "model_module_version": "1.5.0",
      "model_name": "HTMLModel",
      "state": {
       "layout": "IPY_MODEL_cf01a56bc81743d7b6ee56d69991ee72",
       "style": "IPY_MODEL_7694526ec4534601816e510ecada500d",
       "value": "<h4 style=\"font-size:14px;\">Wo ist der Unterschied zwischen Chunks und Phrasen?</h4>"
      }
     },
     "a252d4e4376c448ea3e07a019a9a47a6": {
      "model_module": "@jupyter-widgets/base",
      "model_module_version": "1.2.0",
      "model_name": "LayoutModel",
      "state": {
       "width": "600px"
      }
     },
     "a260bac112444938a772cc3d018c2a4d": {
      "model_module": "@jupyter-widgets/base",
      "model_module_version": "1.2.0",
      "model_name": "LayoutModel",
      "state": {
       "width": "250px"
      }
     },
     "a26288f1c5f044c6880d706c9cd533cd": {
      "model_module": "@jupyter-widgets/controls",
      "model_module_version": "1.5.0",
      "model_name": "HBoxModel",
      "state": {
       "children": [
        "IPY_MODEL_cdfd58ab127f476db414233891fc8918",
        "IPY_MODEL_05f4bce847214bc187b2d3b55807b506"
       ],
       "layout": "IPY_MODEL_474ff3d3403741e5bd0357166e8aed9e"
      }
     },
     "a2713e17040f4cf9ba4ea932f3a3c413": {
      "model_module": "@jupyter-widgets/base",
      "model_module_version": "1.2.0",
      "model_name": "LayoutModel",
      "state": {
       "width": "600px"
      }
     },
     "a2854e353bdc43a0a048a4f91ffda26b": {
      "model_module": "@jupyter-widgets/base",
      "model_module_version": "1.2.0",
      "model_name": "LayoutModel",
      "state": {
       "justify_content": "center"
      }
     },
     "a293584ed44847909b2f724082dc21ea": {
      "model_module": "@jupyter-widgets/controls",
      "model_module_version": "1.5.0",
      "model_name": "DescriptionStyleModel",
      "state": {
       "description_width": "initial"
      }
     },
     "a2a0fa167c52427c82b0a8cfa7be5159": {
      "model_module": "@jupyter-widgets/controls",
      "model_module_version": "1.5.0",
      "model_name": "DescriptionStyleModel",
      "state": {
       "description_width": ""
      }
     },
     "a2a76a8486e44163a4d3760765362b17": {
      "model_module": "@jupyter-widgets/base",
      "model_module_version": "1.2.0",
      "model_name": "LayoutModel",
      "state": {}
     },
     "a2b4280cb17442f9b62f011af3fe6d65": {
      "model_module": "@jupyter-widgets/base",
      "model_module_version": "1.2.0",
      "model_name": "LayoutModel",
      "state": {}
     },
     "a2b6bf3988424e70a6b2ee2014671c9a": {
      "model_module": "@jupyter-widgets/controls",
      "model_module_version": "1.5.0",
      "model_name": "DescriptionStyleModel",
      "state": {
       "description_width": ""
      }
     },
     "a2c7512c34094e58a4d8a86cf525654c": {
      "model_module": "@jupyter-widgets/base",
      "model_module_version": "1.2.0",
      "model_name": "LayoutModel",
      "state": {
       "width": "250px"
      }
     },
     "a2ebfe9dbad9491d802ffcf07e989502": {
      "model_module": "@jupyter-widgets/base",
      "model_module_version": "1.2.0",
      "model_name": "LayoutModel",
      "state": {
       "justify_content": "center"
      }
     },
     "a2fba1bc8af848c0972b57f62faa5a67": {
      "model_module": "@jupyter-widgets/controls",
      "model_module_version": "1.5.0",
      "model_name": "CheckboxModel",
      "state": {
       "description": "ein Chunk wird verkürzt",
       "disabled": false,
       "layout": "IPY_MODEL_8222ceef71ac402db74e97b7d050c30d",
       "style": "IPY_MODEL_f08b5f0aeab7492da6279516568ed93b",
       "value": false
      }
     },
     "a32216afe6fd4564bea69f5dd78e863a": {
      "model_module": "@jupyter-widgets/base",
      "model_module_version": "1.2.0",
      "model_name": "LayoutModel",
      "state": {
       "width": "250px"
      }
     },
     "a384f8ed49e144a392424a6c06c5fcba": {
      "model_module": "@jupyter-widgets/controls",
      "model_module_version": "1.5.0",
      "model_name": "ButtonModel",
      "state": {
       "description": "{ }",
       "layout": "IPY_MODEL_afee158230e2457b899c19e30bd24447",
       "style": "IPY_MODEL_986727e7b921419d8812ae7629081d77"
      }
     },
     "a3d1527e88594e8a8056915c47e43972": {
      "model_module": "@jupyter-widgets/controls",
      "model_module_version": "1.5.0",
      "model_name": "ButtonModel",
      "state": {
       "description": "Korrekt?",
       "layout": "IPY_MODEL_0642329f3eb74952b81bbe50856a7dff",
       "style": "IPY_MODEL_b25d845f2069402a89d66dead0003e8e"
      }
     },
     "a41ff07a015a4f1685f968f656e7e75f": {
      "model_module": "@jupyter-widgets/controls",
      "model_module_version": "1.5.0",
      "model_name": "VBoxModel",
      "state": {
       "children": [
        "IPY_MODEL_17b0c27283534fd79d3a2ddf28e774c0",
        "IPY_MODEL_8b70a92c2bee48e3b09515b237d48f74",
        "IPY_MODEL_32b913c7997c4b788a0d26c000c25c65"
       ],
       "layout": "IPY_MODEL_ca810c3d414245db935c55582e44e289"
      }
     },
     "a435e118d5dc4532a657cf95aecfb758": {
      "model_module": "@jupyter-widgets/controls",
      "model_module_version": "1.5.0",
      "model_name": "ButtonStyleModel",
      "state": {}
     },
     "a43f4322bb5e47c8a690c0ec43b36d72": {
      "model_module": "@jupyter-widgets/base",
      "model_module_version": "1.2.0",
      "model_name": "LayoutModel",
      "state": {
       "width": "600px"
      }
     },
     "a47e418647794302b92d89c943b9b9fa": {
      "model_module": "@jupyter-widgets/controls",
      "model_module_version": "1.5.0",
      "model_name": "DescriptionStyleModel",
      "state": {
       "description_width": "initial"
      }
     },
     "a493467c8d104efea7269ce00dc6e1f5": {
      "model_module": "@jupyter-widgets/base",
      "model_module_version": "1.2.0",
      "model_name": "LayoutModel",
      "state": {}
     },
     "a49daaddbec04737ae59d2f3adcad1bd": {
      "model_module": "@jupyter-widgets/controls",
      "model_module_version": "1.5.0",
      "model_name": "DescriptionStyleModel",
      "state": {
       "description_width": ""
      }
     },
     "a4b8935a183f4f5d86fa5c13964399f5": {
      "model_module": "@jupyter-widgets/controls",
      "model_module_version": "1.5.0",
      "model_name": "ButtonStyleModel",
      "state": {}
     },
     "a517d156fbee4730adeacc8f9962166b": {
      "model_module": "@jupyter-widgets/controls",
      "model_module_version": "1.5.0",
      "model_name": "HTMLModel",
      "state": {
       "layout": "IPY_MODEL_a2854e353bdc43a0a048a4f91ffda26b",
       "style": "IPY_MODEL_6ac10b83b41141e5983acc2fb58794cd",
       "value": "<i>Wählen Sie die <ins>eine</ins> korrekte Antwort aus: </i>"
      }
     },
     "a56498ab96a04e22875b239a40e25bb5": {
      "model_module": "@jupyter-widgets/controls",
      "model_module_version": "1.5.0",
      "model_name": "DescriptionStyleModel",
      "state": {
       "description_width": ""
      }
     },
     "a596529015d14c469af7fe71ac9d6a91": {
      "model_module": "@jupyter-widgets/base",
      "model_module_version": "1.2.0",
      "model_name": "LayoutModel",
      "state": {
       "justify_content": "center"
      }
     },
     "a5aa59bc5ed44b1cb41f849582d8fb33": {
      "model_module": "@jupyter-widgets/base",
      "model_module_version": "1.2.0",
      "model_name": "LayoutModel",
      "state": {}
     },
     "a5b28e738d724f33a27bb110a9aa4ac0": {
      "model_module": "@jupyter-widgets/controls",
      "model_module_version": "1.5.0",
      "model_name": "VBoxModel",
      "state": {
       "children": [
        "IPY_MODEL_663199f1b8a742ae8b7744509cdd1604",
        "IPY_MODEL_88574eba30854e97a662bc969d72b5ac",
        "IPY_MODEL_81e4674e0b7449c6ab0df0e10d9c1d25"
       ],
       "layout": "IPY_MODEL_70e377311fd24721ab4e3ad9c5a5b1e3"
      }
     },
     "a5bf77d6208d4e6c93fdf38c3f4d750c": {
      "model_module": "@jupyter-widgets/controls",
      "model_module_version": "1.5.0",
      "model_name": "DescriptionStyleModel",
      "state": {
       "description_width": ""
      }
     },
     "a5cc0f4b67a64b52bb8c7c18cb6fefee": {
      "model_module": "@jupyter-widgets/base",
      "model_module_version": "1.2.0",
      "model_name": "LayoutModel",
      "state": {
       "width": "250px"
      }
     },
     "a5d63ca506f74d9c8a408c81bef1da46": {
      "model_module": "@jupyter-widgets/base",
      "model_module_version": "1.2.0",
      "model_name": "LayoutModel",
      "state": {
       "width": "600px"
      }
     },
     "a5e1c9dc4ce04b4c8167d76e38e84a76": {
      "model_module": "@jupyter-widgets/controls",
      "model_module_version": "1.5.0",
      "model_name": "ButtonModel",
      "state": {
       "description": "cross-serial dependencies",
       "layout": "IPY_MODEL_edc3b0ed3f1d4c8ca3f8c6f477bedf77",
       "style": "IPY_MODEL_54f502092db3475cb66897fe3dd9c36c"
      }
     },
     "a5e5d950797b4875bb28790b86f86735": {
      "model_module": "@jupyter-widgets/controls",
      "model_module_version": "1.5.0",
      "model_name": "ButtonModel",
      "state": {
       "description": "} {",
       "layout": "IPY_MODEL_f56843ddcefd41f29580c6d73427dea7",
       "style": "IPY_MODEL_60b19aebbaf94b9a9fe9aa6ea4b84ee4"
      }
     },
     "a5ed02afc88a4e25adc88d24f53ff180": {
      "model_module": "@jupyter-widgets/base",
      "model_module_version": "1.2.0",
      "model_name": "LayoutModel",
      "state": {
       "width": "250px"
      }
     },
     "a6477a691723445ea43580c064b5f4cf": {
      "model_module": "@jupyter-widgets/controls",
      "model_module_version": "1.5.0",
      "model_name": "HBoxModel",
      "state": {
       "children": [
        "IPY_MODEL_9dcc4a2e4f854bf68d10b3ce0239b8b8",
        "IPY_MODEL_b5f1de602c3d426d9a8c29eb97f64dcc"
       ],
       "layout": "IPY_MODEL_6a92c74e3271432a916360a956174bee"
      }
     },
     "a66e0b98440f4878ab7409ce6f7222a9": {
      "model_module": "@jupyter-widgets/controls",
      "model_module_version": "1.5.0",
      "model_name": "ButtonModel",
      "state": {
       "description": "Keine der anderen Möglichkeiten",
       "layout": "IPY_MODEL_f2d048b14f61445092bf016084e2c059",
       "style": "IPY_MODEL_1068f51f199f4eb298f5e820cf758598"
      }
     },
     "a6885f0d048847fb8e5f418ec3fd405e": {
      "model_module": "@jupyter-widgets/base",
      "model_module_version": "1.2.0",
      "model_name": "LayoutModel",
      "state": {
       "width": "250px"
      }
     },
     "a6901e0fb7c749b089a57eca6c0fa904": {
      "model_module": "@jupyter-widgets/base",
      "model_module_version": "1.2.0",
      "model_name": "LayoutModel",
      "state": {}
     },
     "a6af623353eb4ad38ce7d05dcbd12958": {
      "model_module": "@jupyter-widgets/controls",
      "model_module_version": "1.5.0",
      "model_name": "DescriptionStyleModel",
      "state": {
       "description_width": "initial"
      }
     },
     "a6c040a6964342fd8e9d586667a9f6a5": {
      "model_module": "@jupyter-widgets/controls",
      "model_module_version": "1.5.0",
      "model_name": "CheckboxModel",
      "state": {
       "description": "ein Chunk wird in zwei Chunks aufgeteilt",
       "disabled": false,
       "layout": "IPY_MODEL_4ee6191c0e744dc1bd81d164adb734c8",
       "style": "IPY_MODEL_d4fa6b98b7e045c8aa2063570e462c8d",
       "value": false
      }
     },
     "a6cc09f8a5d44fc48729ece774568498": {
      "model_module": "@jupyter-widgets/controls",
      "model_module_version": "1.5.0",
      "model_name": "HBoxModel",
      "state": {
       "children": [
        "IPY_MODEL_d6f769df6a734838b917a75490c64435",
        "IPY_MODEL_9bad842941db4ebdbe92876640333036"
       ],
       "layout": "IPY_MODEL_52130206762b428b820c19fdc0fc8247"
      }
     },
     "a769879077a842cb8e1b0d4c12f38d14": {
      "model_module": "@jupyter-widgets/base",
      "model_module_version": "1.2.0",
      "model_name": "LayoutModel",
      "state": {
       "width": "600px"
      }
     },
     "a78d8bea9e3043329261a4b5b33831b1": {
      "model_module": "@jupyter-widgets/base",
      "model_module_version": "1.2.0",
      "model_name": "LayoutModel",
      "state": {}
     },
     "a7e618c4820042648d14906d0a36eef0": {
      "model_module": "@jupyter-widgets/base",
      "model_module_version": "1.2.0",
      "model_name": "LayoutModel",
      "state": {}
     },
     "a7ee1fc5ed8e46088c1ff52940e2b3d9": {
      "model_module": "@jupyter-widgets/base",
      "model_module_version": "1.2.0",
      "model_name": "LayoutModel",
      "state": {}
     },
     "a84b88dbf5f4432d8ae06b4073fc6304": {
      "model_module": "@jupyter-widgets/controls",
      "model_module_version": "1.5.0",
      "model_name": "ButtonStyleModel",
      "state": {}
     },
     "a87273c04e964b87a8d41d8417f09970": {
      "model_module": "@jupyter-widgets/base",
      "model_module_version": "1.2.0",
      "model_name": "LayoutModel",
      "state": {}
     },
     "a8952ffa060e47b8834aa6bef1f0679a": {
      "model_module": "@jupyter-widgets/base",
      "model_module_version": "1.2.0",
      "model_name": "LayoutModel",
      "state": {}
     },
     "a89fe3bcbd854ecf9d135698ff16549a": {
      "model_module": "@jupyter-widgets/base",
      "model_module_version": "1.2.0",
      "model_name": "LayoutModel",
      "state": {
       "width": "600px"
      }
     },
     "a8afe613870e4bdaa4757ad48ab28a5e": {
      "model_module": "@jupyter-widgets/controls",
      "model_module_version": "1.5.0",
      "model_name": "DescriptionStyleModel",
      "state": {
       "description_width": "initial"
      }
     },
     "a8c404ffad574f09bd9a6ba13e317ee0": {
      "model_module": "@jupyter-widgets/controls",
      "model_module_version": "1.5.0",
      "model_name": "CheckboxModel",
      "state": {
       "description": "Chunks sind oft kürzer als Phrasen.",
       "disabled": false,
       "layout": "IPY_MODEL_620ced0fcedd46f38712843f19d12651",
       "style": "IPY_MODEL_4e4c04f316fa46dfb3001bf64f799bba",
       "value": false
      }
     },
     "a905493311394dea8a9e4618778b97ca": {
      "model_module": "@jupyter-widgets/controls",
      "model_module_version": "1.5.0",
      "model_name": "VBoxModel",
      "state": {
       "children": [
        "IPY_MODEL_5e0ee6fa02fd4668947890392166b455",
        "IPY_MODEL_6970e8bd79a0471997460cf2bb067d92",
        "IPY_MODEL_d9c73866587b4146b25948952ad0783c"
       ],
       "layout": "IPY_MODEL_172ffd2e4fd44f2eb00c1486569ff036"
      }
     },
     "a906290b1bca4b0c883201d04855fb12": {
      "model_module": "@jupyter-widgets/controls",
      "model_module_version": "1.5.0",
      "model_name": "CheckboxModel",
      "state": {
       "description": "Precision = von allen Instanzen, für die 1 vorhergesagt wurde, wie viele wurden richtig vorhergesagt?",
       "disabled": false,
       "layout": "IPY_MODEL_81ec3b36bd0646b3999b8dd75d19b9a2",
       "style": "IPY_MODEL_3d8ff3beb0994020a4e06ca3fb75a4c4",
       "value": false
      }
     },
     "a92269f2989a4ee3acc98f1d33c621cf": {
      "model_module": "@jupyter-widgets/controls",
      "model_module_version": "1.5.0",
      "model_name": "VBoxModel",
      "state": {
       "children": [
        "IPY_MODEL_5899cf3f6b494884a69c322e19410464",
        "IPY_MODEL_7008d02f09a542c4b8b6c4d3b58de480",
        "IPY_MODEL_f46e47c70f234384a6fcf351a3e521e8",
        "IPY_MODEL_4883bcb595cf4db58143b55bbc2c2a46"
       ],
       "layout": "IPY_MODEL_56d41e82696a491c872af17ea7f43956"
      }
     },
     "a928158a018d488ba60bd9290eaf496d": {
      "model_module": "@jupyter-widgets/base",
      "model_module_version": "1.2.0",
      "model_name": "LayoutModel",
      "state": {
       "justify_content": "center"
      }
     },
     "a93cc3ad740a4c6caf9c5d3952c49fcc": {
      "model_module": "@jupyter-widgets/controls",
      "model_module_version": "1.5.0",
      "model_name": "HTMLModel",
      "state": {
       "layout": "IPY_MODEL_966dab5e344c4cd29b04a738656e2659",
       "style": "IPY_MODEL_2620470512fa4d8db05d096197e5a9e1",
       "value": "<i>Wählen Sie die <ins>eine</ins> korrekte Antwort aus: </i>"
      }
     },
     "a948a7028348474091a0d73ccbbafeb9": {
      "model_module": "@jupyter-widgets/base",
      "model_module_version": "1.2.0",
      "model_name": "LayoutModel",
      "state": {}
     },
     "a95506b55455461ab04c278c9ad2318d": {
      "model_module": "@jupyter-widgets/base",
      "model_module_version": "1.2.0",
      "model_name": "LayoutModel",
      "state": {}
     },
     "a96dd5f9307f4cd9bbcb600926926c05": {
      "model_module": "@jupyter-widgets/controls",
      "model_module_version": "1.5.0",
      "model_name": "DescriptionStyleModel",
      "state": {
       "description_width": ""
      }
     },
     "a97def538260471ea3032b58037c9488": {
      "model_module": "@jupyter-widgets/base",
      "model_module_version": "1.2.0",
      "model_name": "LayoutModel",
      "state": {
       "width": "250px"
      }
     },
     "a9af91ae70854ea68edb164716b1c9d4": {
      "model_module": "@jupyter-widgets/controls",
      "model_module_version": "1.5.0",
      "model_name": "ButtonStyleModel",
      "state": {}
     },
     "a9c8adacad0c45249d18bd910d050e11": {
      "model_module": "@jupyter-widgets/controls",
      "model_module_version": "1.5.0",
      "model_name": "VBoxModel",
      "state": {
       "children": [
        "IPY_MODEL_7b13c8d61a06414eb45e981e9a99a336",
        "IPY_MODEL_471521d211484799bcd9e571e30bd61a",
        "IPY_MODEL_e557963db4df44a19ac4fe10bb33906d",
        "IPY_MODEL_3622b285dddc456a96cb9a40bbdb3d8a"
       ],
       "layout": "IPY_MODEL_db5ba9bb96c34e4a92e5f8fb12f28299"
      }
     },
     "a9d2d152ad754ec5b934ed990e6c82b5": {
      "model_module": "@jupyter-widgets/controls",
      "model_module_version": "1.5.0",
      "model_name": "HBoxModel",
      "state": {
       "children": [
        "IPY_MODEL_c8856c2d5033448e860affea3373d007",
        "IPY_MODEL_075cb8ae33f64f77bc13a61b9b083f1f"
       ],
       "layout": "IPY_MODEL_c59cf25878e342f2be0dd99bd0e39160"
      }
     },
     "a9e57a0627f54e1a818299a95784c351": {
      "model_module": "@jupyter-widgets/controls",
      "model_module_version": "1.5.0",
      "model_name": "ButtonModel",
      "state": {
       "description": "Nein",
       "layout": "IPY_MODEL_02a8fb4739c948ebbb0f496cbdd97181",
       "style": "IPY_MODEL_53609abd7f3a4bfb93d5c7f7739f6ebd"
      }
     },
     "aa210b07ade347f0a1b52d6e8ff0cd94": {
      "model_module": "@jupyter-widgets/controls",
      "model_module_version": "1.5.0",
      "model_name": "HBoxModel",
      "state": {
       "children": [
        "IPY_MODEL_9d4e1257a5314c4e878e3c3414eb7520",
        "IPY_MODEL_465bfd99013243b5a7ac6c8c1ac56265"
       ],
       "layout": "IPY_MODEL_9afd67b60989496d881d310b293685a6"
      }
     },
     "aa2b4ace65b04e2cb0067ff055a0623a": {
      "model_module": "@jupyter-widgets/base",
      "model_module_version": "1.2.0",
      "model_name": "LayoutModel",
      "state": {}
     },
     "aa54f0a4a92d493eb1a5bf92ab4273c5": {
      "model_module": "@jupyter-widgets/controls",
      "model_module_version": "1.5.0",
      "model_name": "ButtonModel",
      "state": {
       "description": "Ja",
       "layout": "IPY_MODEL_b2d33fd81ab744bfb753d3652da1b27f",
       "style": "IPY_MODEL_8593f1619fc34fd4848b8849bac49c66"
      }
     },
     "aa58e765266b439f843400d38babefdc": {
      "model_module": "@jupyter-widgets/controls",
      "model_module_version": "1.5.0",
      "model_name": "HTMLModel",
      "state": {
       "layout": "IPY_MODEL_47a244723e2f41558e8b63f24169a894",
       "style": "IPY_MODEL_7faf6ef22c6141b1a066d336fc9f400a",
       "value": "<i>Markieren Sie <ins>alle</ins> passenden Antworten: </i>"
      }
     },
     "aa65a8e3b710496db96f0a912df50e83": {
      "model_module": "@jupyter-widgets/controls",
      "model_module_version": "1.5.0",
      "model_name": "HTMLModel",
      "state": {
       "layout": "IPY_MODEL_82e0ffd9ec834bb0920e50e0a92623db",
       "style": "IPY_MODEL_c24bd2545e994d6bbc349e7e40817978",
       "value": "<i>Wählen Sie die <ins>eine</ins> korrekte Antwort aus: </i>"
      }
     },
     "aa6dc46c61904dc5b10933dbccd30e80": {
      "model_module": "@jupyter-widgets/base",
      "model_module_version": "1.2.0",
      "model_name": "LayoutModel",
      "state": {
       "width": "250px"
      }
     },
     "aa87bdd71e2842b3a914ed19eb1b3a5f": {
      "model_module": "@jupyter-widgets/base",
      "model_module_version": "1.2.0",
      "model_name": "LayoutModel",
      "state": {
       "justify_content": "center"
      }
     },
     "aa94a9b212d04635b8dda24ea8ccf877": {
      "model_module": "@jupyter-widgets/controls",
      "model_module_version": "1.5.0",
      "model_name": "HTMLModel",
      "state": {
       "layout": "IPY_MODEL_f70c2095f891474ea36f78af379759e9",
       "style": "IPY_MODEL_590219c9123e42448e55d68da173dc3b",
       "value": "<i>Wählen Sie die <ins>eine</ins> korrekte Antwort aus: </i>"
      }
     },
     "aa9b4d2d3a6446e5bd8a50a834789d5c": {
      "model_module": "@jupyter-widgets/base",
      "model_module_version": "1.2.0",
      "model_name": "LayoutModel",
      "state": {}
     },
     "aaae636f4b614b859e8c2b85956bc682": {
      "model_module": "@jupyter-widgets/controls",
      "model_module_version": "1.5.0",
      "model_name": "ButtonModel",
      "state": {
       "description": "Ja",
       "layout": "IPY_MODEL_4797c6553f5f42c8b2e967307d572012",
       "style": "IPY_MODEL_cf50a8ab5bf546cbbdb529e31cb23adc"
      }
     },
     "aaf06176a2714f58a5662be842ea0565": {
      "model_module": "@jupyter-widgets/controls",
      "model_module_version": "1.5.0",
      "model_name": "VBoxModel",
      "state": {
       "children": [
        "IPY_MODEL_4d7a73781d7040f3b0ad149cdfa3f658",
        "IPY_MODEL_c4c2b657be1a4ef094ba497d76a4a683",
        "IPY_MODEL_145435678f0d43c3a52da57ab4585818"
       ],
       "layout": "IPY_MODEL_61e52151101c4d019aa62e32daff1a25"
      }
     },
     "ab222955d451475298ed708a9c8e1fea": {
      "model_module": "@jupyter-widgets/controls",
      "model_module_version": "1.5.0",
      "model_name": "DescriptionStyleModel",
      "state": {
       "description_width": "initial"
      }
     },
     "ab2c180c42e74fee9ffca137c6611ba5": {
      "model_module": "@jupyter-widgets/controls",
      "model_module_version": "1.5.0",
      "model_name": "CheckboxModel",
      "state": {
       "description": "F1 = (P*R+1) / (P+R)",
       "disabled": false,
       "layout": "IPY_MODEL_5225af8902614290b981cdd2d77d6bd6",
       "style": "IPY_MODEL_d5282afd2f20427b96e718aa4b18da1a",
       "value": false
      }
     },
     "ab3b56a18ad943ce95a445e2ed8ff00b": {
      "model_module": "@jupyter-widgets/controls",
      "model_module_version": "1.5.0",
      "model_name": "HBoxModel",
      "state": {
       "children": [
        "IPY_MODEL_71e42b0e94174a0fb96b3b602939a808",
        "IPY_MODEL_7d10d344b97b409488da05e8a37f6229"
       ],
       "layout": "IPY_MODEL_e070c0c2f35f4ae3821e8c9dbce788f0"
      }
     },
     "ab547632a43f45ea8627dc2d7f6f5bd9": {
      "model_module": "@jupyter-widgets/controls",
      "model_module_version": "1.5.0",
      "model_name": "ButtonStyleModel",
      "state": {}
     },
     "ab57aecb72d04a888ef48709fce9ea59": {
      "model_module": "@jupyter-widgets/controls",
      "model_module_version": "1.5.0",
      "model_name": "CheckboxModel",
      "state": {
       "description": "Verwendung von Splitting-Regeln",
       "disabled": false,
       "layout": "IPY_MODEL_6bf476c5c909404481a7e35d15a81589",
       "style": "IPY_MODEL_c8c089e4c32b4391a09d0e376f1606bf",
       "value": false
      }
     },
     "ab6aa1bb339a40fb970d556e42ab19db": {
      "model_module": "@jupyter-widgets/controls",
      "model_module_version": "1.5.0",
      "model_name": "DescriptionStyleModel",
      "state": {
       "description_width": "initial"
      }
     },
     "ab756cd108f04be6871709d12726bde1": {
      "model_module": "@jupyter-widgets/controls",
      "model_module_version": "1.5.0",
      "model_name": "ButtonStyleModel",
      "state": {}
     },
     "ab7d4c2cb70a4180a63ef3319e7baf2e": {
      "model_module": "@jupyter-widgets/controls",
      "model_module_version": "1.5.0",
      "model_name": "ButtonStyleModel",
      "state": {}
     },
     "abba38ae065b4455b5612351c7c92b5f": {
      "model_module": "@jupyter-widgets/controls",
      "model_module_version": "1.5.0",
      "model_name": "ButtonStyleModel",
      "state": {}
     },
     "abbb45ee24c942b585dbd29a1e898608": {
      "model_module": "@jupyter-widgets/controls",
      "model_module_version": "1.5.0",
      "model_name": "ButtonModel",
      "state": {
       "description": "{ }",
       "layout": "IPY_MODEL_0929d645e3a849f08b2d200d4a75c5db",
       "style": "IPY_MODEL_be542b3008dc4cde8d6f94d71457a5e6"
      }
     },
     "abea9378aeaa4c67804f568665f88ad2": {
      "model_module": "@jupyter-widgets/base",
      "model_module_version": "1.2.0",
      "model_name": "LayoutModel",
      "state": {
       "justify_content": "center"
      }
     },
     "ac04c24e50544c299d74d0695cffafad": {
      "model_module": "@jupyter-widgets/base",
      "model_module_version": "1.2.0",
      "model_name": "LayoutModel",
      "state": {
       "width": "250px"
      }
     },
     "acaed53a99844ce1888488db90a3b45c": {
      "model_module": "@jupyter-widgets/controls",
      "model_module_version": "1.5.0",
      "model_name": "ButtonStyleModel",
      "state": {}
     },
     "acb0a248864e444a8f054881b467948b": {
      "model_module": "@jupyter-widgets/controls",
      "model_module_version": "1.5.0",
      "model_name": "DescriptionStyleModel",
      "state": {
       "description_width": ""
      }
     },
     "acfed0a1879f49cdbc69703b9de3876d": {
      "model_module": "@jupyter-widgets/controls",
      "model_module_version": "1.5.0",
      "model_name": "ButtonStyleModel",
      "state": {}
     },
     "ad36e446838341d59523be84bc2d329e": {
      "model_module": "@jupyter-widgets/controls",
      "model_module_version": "1.5.0",
      "model_name": "HTMLModel",
      "state": {
       "layout": "IPY_MODEL_1eeddf86555c4ba6973367b3b0954137",
       "style": "IPY_MODEL_4fd0218474214a9d9f236c0ab6c15163",
       "value": "<i>Wählen Sie die <ins>eine</ins> korrekte Antwort aus: </i>"
      }
     },
     "ad3dc191b5784db0b4ffa66c2da578a3": {
      "model_module": "@jupyter-widgets/controls",
      "model_module_version": "1.5.0",
      "model_name": "DescriptionStyleModel",
      "state": {
       "description_width": "initial"
      }
     },
     "ad474c76b86742899f2538d97497cc0e": {
      "model_module": "@jupyter-widgets/controls",
      "model_module_version": "1.5.0",
      "model_name": "ButtonStyleModel",
      "state": {}
     },
     "ad5c137db4174d48a4986ca19fb5b525": {
      "model_module": "@jupyter-widgets/controls",
      "model_module_version": "1.5.0",
      "model_name": "HTMLModel",
      "state": {
       "layout": "IPY_MODEL_3125a5fc1d8e4db6a06098880bb89753",
       "style": "IPY_MODEL_b5b333dee0c241c190b17d03f293e81c",
       "value": "<i>Wählen Sie die <ins>eine</ins> korrekte Antwort aus: </i>"
      }
     },
     "ad63236d2a8a45bb8c2054ecc70acdb6": {
      "model_module": "@jupyter-widgets/base",
      "model_module_version": "1.2.0",
      "model_name": "LayoutModel",
      "state": {
       "width": "500px"
      }
     },
     "ad9f098abac846bfa4b8ef8cd4dd3091": {
      "model_module": "@jupyter-widgets/controls",
      "model_module_version": "1.5.0",
      "model_name": "DescriptionStyleModel",
      "state": {
       "description_width": "initial"
      }
     },
     "adae26f8e56a406297f18f0f1fe86323": {
      "model_module": "@jupyter-widgets/controls",
      "model_module_version": "1.5.0",
      "model_name": "DescriptionStyleModel",
      "state": {
       "description_width": "initial"
      }
     },
     "adebf348457541099696d71013ffbfea": {
      "model_module": "@jupyter-widgets/base",
      "model_module_version": "1.2.0",
      "model_name": "LayoutModel",
      "state": {
       "justify_content": "center"
      }
     },
     "ae1a04f574b949bd8c26d48b30eee36a": {
      "model_module": "@jupyter-widgets/base",
      "model_module_version": "1.2.0",
      "model_name": "LayoutModel",
      "state": {
       "width": "600px"
      }
     },
     "ae1ff0b28d024ee280326392241c6fcf": {
      "model_module": "@jupyter-widgets/controls",
      "model_module_version": "1.5.0",
      "model_name": "DescriptionStyleModel",
      "state": {
       "description_width": "initial"
      }
     },
     "ae304f9db43a42fa951fcb5c19bf2a5b": {
      "model_module": "@jupyter-widgets/base",
      "model_module_version": "1.2.0",
      "model_name": "LayoutModel",
      "state": {
       "width": "250px"
      }
     },
     "ae326f52491247e1a7817204d0e4554c": {
      "model_module": "@jupyter-widgets/controls",
      "model_module_version": "1.5.0",
      "model_name": "CheckboxModel",
      "state": {
       "description": "ein Chunk wird verkürzt",
       "disabled": false,
       "layout": "IPY_MODEL_579ca2e3285248f3b7347f2500c9faec",
       "style": "IPY_MODEL_dabb3d98439d4f21a06b26d7ddc2c9ab",
       "value": false
      }
     },
     "ae43eb47ec984ac0bde6fba8a3e0c556": {
      "model_module": "@jupyter-widgets/controls",
      "model_module_version": "1.5.0",
      "model_name": "ButtonStyleModel",
      "state": {}
     },
     "ae44c8baf02c41ebb3352273370ad63a": {
      "model_module": "@jupyter-widgets/base",
      "model_module_version": "1.2.0",
      "model_name": "LayoutModel",
      "state": {
       "width": "250px"
      }
     },
     "ae452735c3f74a33ba02643dc03076d2": {
      "model_module": "@jupyter-widgets/controls",
      "model_module_version": "1.5.0",
      "model_name": "DescriptionStyleModel",
      "state": {
       "description_width": ""
      }
     },
     "ae7579fca35d4811beac8766983482b7": {
      "model_module": "@jupyter-widgets/base",
      "model_module_version": "1.2.0",
      "model_name": "LayoutModel",
      "state": {
       "width": "600px"
      }
     },
     "aed18edc580c4406a90a4b51f2b204e7": {
      "model_module": "@jupyter-widgets/controls",
      "model_module_version": "1.5.0",
      "model_name": "HTMLModel",
      "state": {
       "layout": "IPY_MODEL_54467b11300646bc8edfde0b73303031",
       "style": "IPY_MODEL_f49e947160524c79a91fa1a051de022d",
       "value": "<h4 style=\"font-size:14px;\">Um was für ein Sprachkonstrukt handelt es sich?</h4>"
      }
     },
     "aee23a3f398b459ba3090c94e6eb3b63": {
      "model_module": "@jupyter-widgets/base",
      "model_module_version": "1.2.0",
      "model_name": "LayoutModel",
      "state": {
       "justify_content": "center"
      }
     },
     "af3f392ccb0d42a9abeb0e59de604464": {
      "model_module": "@jupyter-widgets/controls",
      "model_module_version": "1.5.0",
      "model_name": "VBoxModel",
      "state": {
       "children": [
        "IPY_MODEL_8c13c2901e39478d907e4536fc6215e7",
        "IPY_MODEL_250c141c9a57489f9380ec230a253d21",
        "IPY_MODEL_a6477a691723445ea43580c064b5f4cf",
        "IPY_MODEL_a6cc09f8a5d44fc48729ece774568498"
       ],
       "layout": "IPY_MODEL_55d15f89117b485093ad7cd4052123aa"
      }
     },
     "af4d84b748f842e08ea6159adafd96af": {
      "model_module": "@jupyter-widgets/controls",
      "model_module_version": "1.5.0",
      "model_name": "CheckboxModel",
      "state": {
       "description": "Chunks sind oft länger als Phrasen.",
       "disabled": false,
       "layout": "IPY_MODEL_84c849f383e04c19ad7c39e8f2ee770a",
       "style": "IPY_MODEL_23a88804b83e43d795141f6343779c2d",
       "value": false
      }
     },
     "af9c9e69f73a4575a0b8f70c7a4ac989": {
      "model_module": "@jupyter-widgets/controls",
      "model_module_version": "1.5.0",
      "model_name": "HTMLModel",
      "state": {
       "layout": "IPY_MODEL_1179e0258b4840c49f6c95063d4a888d",
       "style": "IPY_MODEL_f58cfb57e8ff4443b64224f5acbbcb7d",
       "value": "<h4 style=\"font-size:14px;\">Um was für ein Sprachkonstrukt handelt es sich?</h4>"
      }
     },
     "afa379dd62824d4699f228fd22e4f37b": {
      "model_module": "@jupyter-widgets/controls",
      "model_module_version": "1.5.0",
      "model_name": "CheckboxModel",
      "state": {
       "description": "Accuracy = true positives / Anzahl aller Vorhersagen",
       "disabled": false,
       "layout": "IPY_MODEL_7a2cfa44b6ff4a1a99a49914c9d68909",
       "style": "IPY_MODEL_886ee85a6cc648d1a6fd0ebe3267b9fa",
       "value": false
      }
     },
     "afb4044cf3f049d2ab14f56733e2771b": {
      "model_module": "@jupyter-widgets/controls",
      "model_module_version": "1.5.0",
      "model_name": "CheckboxModel",
      "state": {
       "description": "Accuracy = true positives / Anzahl aller Vorhersagen",
       "disabled": false,
       "layout": "IPY_MODEL_6d8afad9505048c9a6f64b346a54c71e",
       "style": "IPY_MODEL_2b08a1af410f4013b86989ad98f8b922",
       "value": false
      }
     },
     "afbc9d04dc8a412bb0db90fdb385e893": {
      "model_module": "@jupyter-widgets/controls",
      "model_module_version": "1.5.0",
      "model_name": "DescriptionStyleModel",
      "state": {
       "description_width": ""
      }
     },
     "afe9d15005eb4f04aee5ef6dcd6c8edf": {
      "model_module": "@jupyter-widgets/controls",
      "model_module_version": "1.5.0",
      "model_name": "ButtonStyleModel",
      "state": {}
     },
     "afee158230e2457b899c19e30bd24447": {
      "model_module": "@jupyter-widgets/base",
      "model_module_version": "1.2.0",
      "model_name": "LayoutModel",
      "state": {
       "width": "250px"
      }
     },
     "b0419516595a4941b6c70598d26293c4": {
      "model_module": "@jupyter-widgets/base",
      "model_module_version": "1.2.0",
      "model_name": "LayoutModel",
      "state": {
       "width": "250px"
      }
     },
     "b072ddb1bf264ad0bd9fa517a0324f3c": {
      "model_module": "@jupyter-widgets/controls",
      "model_module_version": "1.5.0",
      "model_name": "ButtonStyleModel",
      "state": {}
     },
     "b08aa90f39d74568858638c0b5c7d59d": {
      "model_module": "@jupyter-widgets/base",
      "model_module_version": "1.2.0",
      "model_name": "LayoutModel",
      "state": {
       "width": "600px"
      }
     },
     "b0972663e2684d07b1fc2c66556a9e86": {
      "model_module": "@jupyter-widgets/controls",
      "model_module_version": "1.5.0",
      "model_name": "HTMLModel",
      "state": {
       "layout": "IPY_MODEL_ff5d294c2910416fb4c975e4ed3de811",
       "style": "IPY_MODEL_278d56ef6b7a4ee2ade25c8ee7afbad2",
       "value": "<h4 style=\"font-size:14px;\">Welche Klammern zeigen Chinking an?</h4>"
      }
     },
     "b0e36b30f32844e7b21ba7b74a7cadca": {
      "model_module": "@jupyter-widgets/base",
      "model_module_version": "1.2.0",
      "model_name": "LayoutModel",
      "state": {}
     },
     "b10b9144d62045ff8064edb059cbd158": {
      "model_module": "@jupyter-widgets/controls",
      "model_module_version": "1.5.0",
      "model_name": "ButtonModel",
      "state": {
       "description": "Nein",
       "layout": "IPY_MODEL_378b52996c3449a5b3b2d4c913025fff",
       "style": "IPY_MODEL_3a9c6a0738924ca1bfbebee777814ab8"
      }
     },
     "b110553af0244604a117f352ae757397": {
      "model_module": "@jupyter-widgets/base",
      "model_module_version": "1.2.0",
      "model_name": "LayoutModel",
      "state": {
       "justify_content": "center"
      }
     },
     "b1326c387c5848e0a6cbfda199f15b42": {
      "model_module": "@jupyter-widgets/base",
      "model_module_version": "1.2.0",
      "model_name": "LayoutModel",
      "state": {}
     },
     "b14426f68bd24a5f887e4334ee6ea6aa": {
      "model_module": "@jupyter-widgets/controls",
      "model_module_version": "1.5.0",
      "model_name": "CheckboxModel",
      "state": {
       "description": "Chunks sind oft länger als Phrasen.",
       "disabled": false,
       "layout": "IPY_MODEL_80a39b3884be4e1ca157a8890d2cdcef",
       "style": "IPY_MODEL_d46b5d832b574c379e0d12b3524aa10c",
       "value": false
      }
     },
     "b1529d48e6a047d79668cd0663634c22": {
      "model_module": "@jupyter-widgets/controls",
      "model_module_version": "1.5.0",
      "model_name": "DescriptionStyleModel",
      "state": {
       "description_width": ""
      }
     },
     "b1581506130142c4b0d46212f7869c57": {
      "model_module": "@jupyter-widgets/controls",
      "model_module_version": "1.5.0",
      "model_name": "HTMLModel",
      "state": {
       "layout": "IPY_MODEL_bf1cf5133e594a7687f0854037ca87a0",
       "style": "IPY_MODEL_e34b0ca9fcfe47369c441bf16c0aa4d9",
       "value": "<h4 style=\"font-size:14px;\">Welche der Formeln berechnen Precision, Recall, Accuracy und F1-Score korrekt?</h4>"
      }
     },
     "b15b23caf68b44529096aaf80d10b02a": {
      "model_module": "@jupyter-widgets/controls",
      "model_module_version": "1.5.0",
      "model_name": "ButtonStyleModel",
      "state": {
       "button_color": "lightgreen"
      }
     },
     "b176b4ac105447de854804ba51a206a5": {
      "model_module": "@jupyter-widgets/controls",
      "model_module_version": "1.5.0",
      "model_name": "ButtonModel",
      "state": {
       "description": "rekursiv aufzählbar",
       "layout": "IPY_MODEL_eb34564ade594bbb91b7804b7b290cf5",
       "style": "IPY_MODEL_afe9d15005eb4f04aee5ef6dcd6c8edf"
      }
     },
     "b187592c3eab41cb90442229cd544598": {
      "model_module": "@jupyter-widgets/controls",
      "model_module_version": "1.5.0",
      "model_name": "DescriptionStyleModel",
      "state": {
       "description_width": "initial"
      }
     },
     "b1bf0df95a9248e3ab6e8fa36f5cc326": {
      "model_module": "@jupyter-widgets/controls",
      "model_module_version": "1.5.0",
      "model_name": "HTMLModel",
      "state": {
       "layout": "IPY_MODEL_cc2dd046c9ca456cb0599b69c8db1e06",
       "style": "IPY_MODEL_0139680d2afc4627b1ff33e10fa6367f",
       "value": "<h4 style=\"font-size:14px;\">Welchem Typ muss eine Grammatik mindestens genügen, um solche Sätze modellieren zu können?</h4>"
      }
     },
     "b1c8c6da066f47ee83cf4f4b8893ee71": {
      "model_module": "@jupyter-widgets/base",
      "model_module_version": "1.2.0",
      "model_name": "LayoutModel",
      "state": {
       "justify_content": "center"
      }
     },
     "b1dcff3b9d82402899975fc49ada5f18": {
      "model_module": "@jupyter-widgets/controls",
      "model_module_version": "1.5.0",
      "model_name": "VBoxModel",
      "state": {
       "children": [
        "IPY_MODEL_27fb576679b0452e9ab5cf98602a3992",
        "IPY_MODEL_786fddf5994242dda0dd2154031b1f34",
        "IPY_MODEL_05d25e1ab98242a3a6009b35d5ff686d",
        "IPY_MODEL_917858df03c84c209221799a654dd51e"
       ],
       "layout": "IPY_MODEL_04b643259f45404d9dba92d2eb495619"
      }
     },
     "b22d7b1c660e49b49ff39af5624b125d": {
      "model_module": "@jupyter-widgets/controls",
      "model_module_version": "1.5.0",
      "model_name": "CheckboxModel",
      "state": {
       "description": "Precision = von allen Instanzen, für die 1 vorhergesagt wurde, wie viele wurden richtig vorhergesagt?",
       "disabled": false,
       "layout": "IPY_MODEL_7b29331eb5ba42d9ac085e6eec5f6978",
       "style": "IPY_MODEL_182ebfebed5e4cdbbf89ece2e1500014",
       "value": false
      }
     },
     "b239c1d485194cb79867b69daf94540c": {
      "model_module": "@jupyter-widgets/controls",
      "model_module_version": "1.5.0",
      "model_name": "ButtonModel",
      "state": {
       "description": "garden-path sentence",
       "layout": "IPY_MODEL_c46a36b2699a49f484d68f7c7ebd2796",
       "style": "IPY_MODEL_c11457f82430419ba9c488238e10cd8a"
      }
     },
     "b255079efc58406293dbdd020dc2e49f": {
      "model_module": "@jupyter-widgets/base",
      "model_module_version": "1.2.0",
      "model_name": "LayoutModel",
      "state": {}
     },
     "b25d845f2069402a89d66dead0003e8e": {
      "model_module": "@jupyter-widgets/controls",
      "model_module_version": "1.5.0",
      "model_name": "ButtonStyleModel",
      "state": {
       "button_color": "lightgreen"
      }
     },
     "b2774a1213db4f24a142c6841e581119": {
      "model_module": "@jupyter-widgets/base",
      "model_module_version": "1.2.0",
      "model_name": "LayoutModel",
      "state": {
       "width": "600px"
      }
     },
     "b27bf059cb6845eb86d8f3e6c505fdb3": {
      "model_module": "@jupyter-widgets/controls",
      "model_module_version": "1.5.0",
      "model_name": "HTMLModel",
      "state": {
       "layout": "IPY_MODEL_9b79a999171341d4ba28c01101287ad6",
       "style": "IPY_MODEL_d19dccdab60348afbc5d08e946f0c87a",
       "value": "<h4 style=\"font-size:14px;\">Wozu sind Tag Pattern ähnlich?</h4>"
      }
     },
     "b27e7261baae46e1a65ac67ef2d7a280": {
      "model_module": "@jupyter-widgets/controls",
      "model_module_version": "1.5.0",
      "model_name": "ButtonModel",
      "state": {
       "description": "center embedding",
       "layout": "IPY_MODEL_e19b979235b844e092be75f4293c7cc1",
       "style": "IPY_MODEL_9527b6fa6f9f4d2683ab0178ecc3f511"
      }
     },
     "b29be3476b2840af9e3a604c9475ac34": {
      "model_module": "@jupyter-widgets/controls",
      "model_module_version": "1.5.0",
      "model_name": "ButtonModel",
      "state": {
       "description": "{ }",
       "layout": "IPY_MODEL_349411e5169c410da56800e567753641",
       "style": "IPY_MODEL_2286efbea0644731903193d3ae120a15"
      }
     },
     "b2ca88cbc6cd4e1d945d9a13b6db2b28": {
      "model_module": "@jupyter-widgets/controls",
      "model_module_version": "1.5.0",
      "model_name": "VBoxModel",
      "state": {
       "children": [
        "IPY_MODEL_c88ea5767e644cf0ad282c4fcc905a19",
        "IPY_MODEL_7f8201287f1a47eaa4954a0cc8ab25d6",
        "IPY_MODEL_b8d6ac84ee714793bae8686bf9ce93a7",
        "IPY_MODEL_c4f751c7ff494404af5281fabce82380"
       ],
       "layout": "IPY_MODEL_55c393fd81264c49a8844ef4ebc3294d"
      }
     },
     "b2d33fd81ab744bfb753d3652da1b27f": {
      "model_module": "@jupyter-widgets/base",
      "model_module_version": "1.2.0",
      "model_name": "LayoutModel",
      "state": {
       "width": "250px"
      }
     },
     "b32d7b478b9a4afbb68e3ae2bef1f9f5": {
      "model_module": "@jupyter-widgets/base",
      "model_module_version": "1.2.0",
      "model_name": "LayoutModel",
      "state": {
       "width": "250px"
      }
     },
     "b33e6769815145b392ef0e1dd7d3e660": {
      "model_module": "@jupyter-widgets/controls",
      "model_module_version": "1.5.0",
      "model_name": "CheckboxModel",
      "state": {
       "description": "Accuracy = (true positives + true negatives) / Anzahl aller Vorhersagen",
       "disabled": false,
       "layout": "IPY_MODEL_1319ac1774e34ec499e5cb211ef94ee9",
       "style": "IPY_MODEL_8938e37b6de74c0ebde720ad4a1df995",
       "value": false
      }
     },
     "b36dfd2ac51640cdaae4348a46649989": {
      "model_module": "@jupyter-widgets/base",
      "model_module_version": "1.2.0",
      "model_name": "LayoutModel",
      "state": {
       "width": "250px"
      }
     },
     "b389172aa4f24c9f82dd1c676cdd3db4": {
      "model_module": "@jupyter-widgets/base",
      "model_module_version": "1.2.0",
      "model_name": "LayoutModel",
      "state": {
       "width": "250px"
      }
     },
     "b3a3002a2f4b4bf48e017e513cc12f9b": {
      "model_module": "@jupyter-widgets/base",
      "model_module_version": "1.2.0",
      "model_name": "LayoutModel",
      "state": {
       "width": "250px"
      }
     },
     "b3aeef3a54dd433c84c4913ceebac090": {
      "model_module": "@jupyter-widgets/controls",
      "model_module_version": "1.5.0",
      "model_name": "HTMLModel",
      "state": {
       "layout": "IPY_MODEL_40b4c31f1df149d1b5cf031d6506235f",
       "style": "IPY_MODEL_93bf68e760f54d2aa5ec485410f0b514",
       "value": "<i>Wählen Sie die <ins>eine</ins> korrekte Antwort aus: </i>"
      }
     },
     "b3c637a1c6324102801e5622740f2979": {
      "model_module": "@jupyter-widgets/base",
      "model_module_version": "1.2.0",
      "model_name": "LayoutModel",
      "state": {}
     },
     "b3fd5e10c9a44537970edb13206ba5cc": {
      "model_module": "@jupyter-widgets/base",
      "model_module_version": "1.2.0",
      "model_name": "LayoutModel",
      "state": {
       "width": "250px"
      }
     },
     "b3ffb9d5ec9d44c98b4277bac35f3d9b": {
      "model_module": "@jupyter-widgets/controls",
      "model_module_version": "1.5.0",
      "model_name": "VBoxModel",
      "state": {
       "children": [
        "IPY_MODEL_aed18edc580c4406a90a4b51f2b204e7",
        "IPY_MODEL_188db5eabbfc487fbc651e1b0b0fa0c4",
        "IPY_MODEL_f1735e469e8b44e6a205651b14d85b71",
        "IPY_MODEL_6636a0ce840b4d7daf18bae587f59a27"
       ],
       "layout": "IPY_MODEL_0a8cf16d351148dc893936df0180ae1a"
      }
     },
     "b40b0408082a48af83a89e4aebd0eec1": {
      "model_module": "@jupyter-widgets/controls",
      "model_module_version": "1.5.0",
      "model_name": "DescriptionStyleModel",
      "state": {
       "description_width": "initial"
      }
     },
     "b43539b5da8842cdb46cc0609fa4b151": {
      "model_module": "@jupyter-widgets/controls",
      "model_module_version": "1.5.0",
      "model_name": "ButtonModel",
      "state": {
       "description": "kontextfrei",
       "layout": "IPY_MODEL_73ce22391cea495e9adbcf24d2eaf3a6",
       "style": "IPY_MODEL_10e736dfb2a44b24864990873807c4a3"
      }
     },
     "b46219533bdd489aa281fb453420cb31": {
      "model_module": "@jupyter-widgets/controls",
      "model_module_version": "1.5.0",
      "model_name": "CheckboxModel",
      "state": {
       "description": "Recall = von allen Instanzen, für die 1 vorhergesagt wurde, wie viele wurden richtig vorhergesagt?",
       "disabled": false,
       "layout": "IPY_MODEL_868e4a39c1b948689c8554f668cfa3f0",
       "style": "IPY_MODEL_58daeb790abf41508439913e4a1d8912",
       "value": false
      }
     },
     "b4650b9f25d841b8903bf6a5ca6707ad": {
      "model_module": "@jupyter-widgets/base",
      "model_module_version": "1.2.0",
      "model_name": "LayoutModel",
      "state": {}
     },
     "b47b9c23dc76404eabc6b8ffc0bbea35": {
      "model_module": "@jupyter-widgets/controls",
      "model_module_version": "1.5.0",
      "model_name": "DescriptionStyleModel",
      "state": {
       "description_width": ""
      }
     },
     "b4c200e969ac44eeb36ea213dfd1cbe2": {
      "model_module": "@jupyter-widgets/controls",
      "model_module_version": "1.5.0",
      "model_name": "DescriptionStyleModel",
      "state": {
       "description_width": ""
      }
     },
     "b4cff607d5e14a65816216f34714e0a1": {
      "model_module": "@jupyter-widgets/controls",
      "model_module_version": "1.5.0",
      "model_name": "VBoxModel",
      "state": {
       "children": [
        "IPY_MODEL_133ea6c8829244ee9584ad917a823d58",
        "IPY_MODEL_f7f1dc4ca23f49668511141daa841342",
        "IPY_MODEL_b2ca88cbc6cd4e1d945d9a13b6db2b28",
        "IPY_MODEL_d439380d39274399a1a19140b448ea4b"
       ],
       "layout": "IPY_MODEL_cba06441596641d789771339e1be0726"
      }
     },
     "b4dc0eb0cfbb4c2cadb12986627af5c8": {
      "model_module": "@jupyter-widgets/base",
      "model_module_version": "1.2.0",
      "model_name": "LayoutModel",
      "state": {
       "width": "600px"
      }
     },
     "b4e09d4d87f148919ae2030f8d378709": {
      "model_module": "@jupyter-widgets/controls",
      "model_module_version": "1.5.0",
      "model_name": "ButtonModel",
      "state": {
       "description": "} {",
       "layout": "IPY_MODEL_e5316eb24188482fb8fad7d0ffedecb8",
       "style": "IPY_MODEL_3425702e7e3b4427962288068ee51b29"
      }
     },
     "b53558e33835483cb6b09568371acae1": {
      "model_module": "@jupyter-widgets/base",
      "model_module_version": "1.2.0",
      "model_name": "LayoutModel",
      "state": {}
     },
     "b570611ba593406c81a6993c8992447f": {
      "model_module": "@jupyter-widgets/controls",
      "model_module_version": "1.5.0",
      "model_name": "ButtonModel",
      "state": {
       "description": "Korrekt?",
       "layout": "IPY_MODEL_e1bb9dca8d704bb9acf3e06fcac8be7f",
       "style": "IPY_MODEL_a04dd9a341af4aacb52c49a4d1b9fd81"
      }
     },
     "b5783b8de19b472496d6d71e1374e9c5": {
      "model_module": "@jupyter-widgets/controls",
      "model_module_version": "1.5.0",
      "model_name": "VBoxModel",
      "state": {
       "children": [
        "IPY_MODEL_5dc09bf06ca94414978291576b2da214",
        "IPY_MODEL_ea00965759044840a8d2b9cd81dde673",
        "IPY_MODEL_8a1e7f021e344f3db855b159ccc321ce",
        "IPY_MODEL_46ad35927fe04ae3be2d7c0f87522b7a"
       ],
       "layout": "IPY_MODEL_000ab0f83ed64dba8444467a59bffc04"
      }
     },
     "b57cfccbf68347b89caf2d84f1a9e5d6": {
      "model_module": "@jupyter-widgets/base",
      "model_module_version": "1.2.0",
      "model_name": "LayoutModel",
      "state": {}
     },
     "b580ade0ad3244839c8c79769bed170a": {
      "model_module": "@jupyter-widgets/base",
      "model_module_version": "1.2.0",
      "model_name": "LayoutModel",
      "state": {
       "width": "250px"
      }
     },
     "b5a6a5d6b5f44af8b3c841fcb193191b": {
      "model_module": "@jupyter-widgets/base",
      "model_module_version": "1.2.0",
      "model_name": "LayoutModel",
      "state": {
       "width": "250px"
      }
     },
     "b5b333dee0c241c190b17d03f293e81c": {
      "model_module": "@jupyter-widgets/controls",
      "model_module_version": "1.5.0",
      "model_name": "DescriptionStyleModel",
      "state": {
       "description_width": ""
      }
     },
     "b5bc605c32e74006b3e96034e292570f": {
      "model_module": "@jupyter-widgets/controls",
      "model_module_version": "1.5.0",
      "model_name": "DescriptionStyleModel",
      "state": {
       "description_width": ""
      }
     },
     "b5d0bdbf4f944cbca115db3e88a9c5dd": {
      "model_module": "@jupyter-widgets/base",
      "model_module_version": "1.2.0",
      "model_name": "LayoutModel",
      "state": {
       "width": "250px"
      }
     },
     "b5daa8e26fc647fda19f0ec340f6bb0a": {
      "model_module": "@jupyter-widgets/base",
      "model_module_version": "1.2.0",
      "model_name": "LayoutModel",
      "state": {
       "width": "250px"
      }
     },
     "b5f1de602c3d426d9a8c29eb97f64dcc": {
      "model_module": "@jupyter-widgets/controls",
      "model_module_version": "1.5.0",
      "model_name": "ButtonModel",
      "state": {
       "description": "cross-serial dependencies",
       "layout": "IPY_MODEL_fcc57b80cdc1477eba71ec7db433b96b",
       "style": "IPY_MODEL_5ea3f27239404a3e9d6d30c896371dbc"
      }
     },
     "b6135e756abf4efc843badc5aa14a597": {
      "model_module": "@jupyter-widgets/base",
      "model_module_version": "1.2.0",
      "model_name": "LayoutModel",
      "state": {
       "width": "250px"
      }
     },
     "b618006308da4ddcaa6c125d52616b33": {
      "model_module": "@jupyter-widgets/controls",
      "model_module_version": "1.5.0",
      "model_name": "HTMLModel",
      "state": {
       "layout": "IPY_MODEL_34d829132fa344189e7c9908e812c4a0",
       "style": "IPY_MODEL_51398963d34a4aa2ab91a170991bf449",
       "value": "<i>Wählen Sie die <ins>eine</ins> korrekte Antwort aus: </i>"
      }
     },
     "b62730222e9b45dfb63e14c99378c703": {
      "model_module": "@jupyter-widgets/base",
      "model_module_version": "1.2.0",
      "model_name": "LayoutModel",
      "state": {
       "width": "250px"
      }
     },
     "b6323a0b3eb94e5092406b993022cee8": {
      "model_module": "@jupyter-widgets/controls",
      "model_module_version": "1.5.0",
      "model_name": "DescriptionStyleModel",
      "state": {
       "description_width": "initial"
      }
     },
     "b632c84292b348818a2a14dbe942ff85": {
      "model_module": "@jupyter-widgets/controls",
      "model_module_version": "1.5.0",
      "model_name": "VBoxModel",
      "state": {
       "children": [
        "IPY_MODEL_e4ca749f54164a828f5eabbb7773f28f",
        "IPY_MODEL_c6ac9628c3bd47639ae387f0ca4875c7",
        "IPY_MODEL_d78cd56791c64a0f8ab8cc3ea979f7ed"
       ],
       "layout": "IPY_MODEL_eab33b97a937443593f1f4a15c45f233"
      }
     },
     "b640906b20e34725af55b2a2d11991e8": {
      "model_module": "@jupyter-widgets/controls",
      "model_module_version": "1.5.0",
      "model_name": "ButtonStyleModel",
      "state": {}
     },
     "b655eef083264e118c298ff21bb985ce": {
      "model_module": "@jupyter-widgets/controls",
      "model_module_version": "1.5.0",
      "model_name": "ButtonModel",
      "state": {
       "description": "Keine der anderen Möglichkeiten",
       "layout": "IPY_MODEL_fbfacefc440c42c59f5e4888299fb5d8",
       "style": "IPY_MODEL_9c8ad6b73fcb4880ab9f37e7909a0327"
      }
     },
     "b670ed2f437f4d9190cbbc3c21ef6238": {
      "model_module": "@jupyter-widgets/base",
      "model_module_version": "1.2.0",
      "model_name": "LayoutModel",
      "state": {
       "width": "600px"
      }
     },
     "b6cb5ded03f7430aa9bc0732aa6853bd": {
      "model_module": "@jupyter-widgets/controls",
      "model_module_version": "1.5.0",
      "model_name": "ButtonStyleModel",
      "state": {}
     },
     "b6ef0f37a3994cca92dc6997180caac0": {
      "model_module": "@jupyter-widgets/base",
      "model_module_version": "1.2.0",
      "model_name": "LayoutModel",
      "state": {
       "justify_content": "center"
      }
     },
     "b71af1d869b8489f894c25d676fdbea6": {
      "model_module": "@jupyter-widgets/base",
      "model_module_version": "1.2.0",
      "model_name": "LayoutModel",
      "state": {
       "width": "250px"
      }
     },
     "b7524589241a441d9bae1485384bd8eb": {
      "model_module": "@jupyter-widgets/controls",
      "model_module_version": "1.5.0",
      "model_name": "CheckboxModel",
      "state": {
       "description": "ein vorher erkannter Chunk wird nicht mehr erkannt",
       "disabled": false,
       "layout": "IPY_MODEL_57e25533492e469290dbb16e53789900",
       "style": "IPY_MODEL_1a168bdec6e4407c85983c5b33127af4",
       "value": false
      }
     },
     "b7db6399fb8d42058e5cb72f5bcac665": {
      "model_module": "@jupyter-widgets/controls",
      "model_module_version": "1.5.0",
      "model_name": "DescriptionStyleModel",
      "state": {
       "description_width": "initial"
      }
     },
     "b8223e160b164a18b8b5b3f887b6aabe": {
      "model_module": "@jupyter-widgets/controls",
      "model_module_version": "1.5.0",
      "model_name": "ButtonStyleModel",
      "state": {}
     },
     "b822622107e04b38aa9f19e45b94bff2": {
      "model_module": "@jupyter-widgets/base",
      "model_module_version": "1.2.0",
      "model_name": "LayoutModel",
      "state": {
       "width": "250px"
      }
     },
     "b845cd1001474c7483c71f859395aae7": {
      "model_module": "@jupyter-widgets/controls",
      "model_module_version": "1.5.0",
      "model_name": "DescriptionStyleModel",
      "state": {
       "description_width": ""
      }
     },
     "b887f89fc287478b8a6a11d76205cf85": {
      "model_module": "@jupyter-widgets/controls",
      "model_module_version": "1.5.0",
      "model_name": "VBoxModel",
      "state": {
       "children": [
        "IPY_MODEL_5b1ece34e045481c99f59db787a29c6e",
        "IPY_MODEL_ca1498e359964f69af23dad1c2f713c1",
        "IPY_MODEL_dfec857b54814fb98860f9b180f258ff",
        "IPY_MODEL_c70aae68e7ec4f80bd1dcd10f19fc3e1"
       ],
       "layout": "IPY_MODEL_8e28f8eaf17146938457163206d40b1d"
      }
     },
     "b8c90af418c348f6aae2b8f688e19b32": {
      "model_module": "@jupyter-widgets/controls",
      "model_module_version": "1.5.0",
      "model_name": "HTMLModel",
      "state": {
       "layout": "IPY_MODEL_1c0bd3c202cd4c9fadaafc8db0eb3c60",
       "style": "IPY_MODEL_3b5a4b310ba74bf9bbce2c6020129a62",
       "value": "<h4 style=\"font-size:14px;\">Welche der Formeln berechnen Precision, Recall, Accuracy und F1-Score korrekt?</h4>"
      }
     },
     "b8d6ac84ee714793bae8686bf9ce93a7": {
      "model_module": "@jupyter-widgets/controls",
      "model_module_version": "1.5.0",
      "model_name": "CheckboxModel",
      "state": {
       "description": "ein vorher erkannter Chunk wird nicht mehr erkannt",
       "disabled": false,
       "layout": "IPY_MODEL_0d2aca84ac9a4a869128da7d9652bd71",
       "style": "IPY_MODEL_522633562f9c4f179e942cd26ce37c1f",
       "value": false
      }
     },
     "b8e18d5ecffc46abb7be054e111eca9f": {
      "model_module": "@jupyter-widgets/controls",
      "model_module_version": "1.5.0",
      "model_name": "DescriptionStyleModel",
      "state": {
       "description_width": "initial"
      }
     },
     "b8fbad70e7814bfaa25e14ef5d836911": {
      "model_module": "@jupyter-widgets/controls",
      "model_module_version": "1.5.0",
      "model_name": "DescriptionStyleModel",
      "state": {
       "description_width": ""
      }
     },
     "b92f33f50514400cad39c6dd2a2ec1ef": {
      "model_module": "@jupyter-widgets/controls",
      "model_module_version": "1.5.0",
      "model_name": "HBoxModel",
      "state": {
       "children": [
        "IPY_MODEL_247ca184fb074f61a0a933445bd78006",
        "IPY_MODEL_4bb7bf8c02234f87befbc64eb0377c6e"
       ],
       "layout": "IPY_MODEL_7385ede3fd4f442fb7a7141939266db1"
      }
     },
     "b934fed9321f46e6ba32231f09842590": {
      "model_module": "@jupyter-widgets/controls",
      "model_module_version": "1.5.0",
      "model_name": "HTMLModel",
      "state": {
       "layout": "IPY_MODEL_8d617771255346188a206c300cca14e3",
       "style": "IPY_MODEL_062fb1a66a524f189fb7f83425f4859c",
       "value": "<i>Wählen Sie die <ins>eine</ins> korrekte Antwort aus: </i>"
      }
     },
     "b93fd218e1fa46e59fffd985e383a859": {
      "model_module": "@jupyter-widgets/base",
      "model_module_version": "1.2.0",
      "model_name": "LayoutModel",
      "state": {}
     },
     "b959f8a6711d41fd8d392fa38cec2f8f": {
      "model_module": "@jupyter-widgets/controls",
      "model_module_version": "1.5.0",
      "model_name": "CheckboxModel",
      "state": {
       "description": "F1 = (2 * Precision * Recall) / (Precision + Rrecall)",
       "disabled": false,
       "layout": "IPY_MODEL_4854718c50db45a9a83a49afcde4b1d8",
       "style": "IPY_MODEL_4f37ea5ba7f243bba5dbb7b617bfaf3a",
       "value": false
      }
     },
     "b95fb9441812437eb307b205f3b83779": {
      "model_module": "@jupyter-widgets/base",
      "model_module_version": "1.2.0",
      "model_name": "LayoutModel",
      "state": {}
     },
     "b9612cf0d7b2400b9913df2a8dec520d": {
      "model_module": "@jupyter-widgets/base",
      "model_module_version": "1.2.0",
      "model_name": "LayoutModel",
      "state": {}
     },
     "b9709eb44cdc4261a47487af97ef850a": {
      "model_module": "@jupyter-widgets/base",
      "model_module_version": "1.2.0",
      "model_name": "LayoutModel",
      "state": {
       "width": "250px"
      }
     },
     "b980bf5dac7d4004ab62fb22619b6271": {
      "model_module": "@jupyter-widgets/base",
      "model_module_version": "1.2.0",
      "model_name": "LayoutModel",
      "state": {
       "width": "600px"
      }
     },
     "b987d9d04e854a2981cffdd3b14d4040": {
      "model_module": "@jupyter-widgets/controls",
      "model_module_version": "1.5.0",
      "model_name": "DescriptionStyleModel",
      "state": {
       "description_width": ""
      }
     },
     "b9a8d1dd2160423cb67c930961cee5e0": {
      "model_module": "@jupyter-widgets/controls",
      "model_module_version": "1.5.0",
      "model_name": "HTMLModel",
      "state": {
       "layout": "IPY_MODEL_d471e430ef4b4c46a861ce45040d013d",
       "style": "IPY_MODEL_5ea7c72d948f4d5f86eae663269e3fd8",
       "value": "<i>Markieren Sie <ins>alle</ins> passenden Antworten: </i>"
      }
     },
     "b9ced96bc0374f099019d5fb39eebfb4": {
      "model_module": "@jupyter-widgets/controls",
      "model_module_version": "1.5.0",
      "model_name": "ButtonModel",
      "state": {
       "description": "Korrekt?",
       "layout": "IPY_MODEL_a97def538260471ea3032b58037c9488",
       "style": "IPY_MODEL_7c1f41ad381b4ec8996eadb4a381f325"
      }
     },
     "b9e1713a969c41f9b3492b5774542588": {
      "model_module": "@jupyter-widgets/controls",
      "model_module_version": "1.5.0",
      "model_name": "ButtonModel",
      "state": {
       "description": "{ }",
       "layout": "IPY_MODEL_812c90e585a2470183728d9ac974dcf8",
       "style": "IPY_MODEL_9ef607dadf8d4e01bca1b195e20eb42b"
      }
     },
     "b9fa34ac665141979d3ae696194741ff": {
      "model_module": "@jupyter-widgets/base",
      "model_module_version": "1.2.0",
      "model_name": "LayoutModel",
      "state": {}
     },
     "ba23de4accfb41ccbbb31067d52006c5": {
      "model_module": "@jupyter-widgets/controls",
      "model_module_version": "1.5.0",
      "model_name": "ButtonStyleModel",
      "state": {}
     },
     "ba321c3eab27488a8310e7d0a061dbca": {
      "model_module": "@jupyter-widgets/base",
      "model_module_version": "1.2.0",
      "model_name": "LayoutModel",
      "state": {}
     },
     "ba45414d98be4f1cb7bda942b26e058f": {
      "model_module": "@jupyter-widgets/controls",
      "model_module_version": "1.5.0",
      "model_name": "DescriptionStyleModel",
      "state": {
       "description_width": ""
      }
     },
     "ba5a68d0131d44f9973f5c4063f0026a": {
      "model_module": "@jupyter-widgets/controls",
      "model_module_version": "1.5.0",
      "model_name": "HTMLModel",
      "state": {
       "layout": "IPY_MODEL_23c7e6cd4e7c4f74831848590cb69fbe",
       "style": "IPY_MODEL_704a964a74b14cf8b56488f43ffd6977",
       "value": "<h4 style=\"font-size:14px;\">Welche Klammern zeigen Chinking an?</h4>"
      }
     },
     "ba61ee090e934372ad657fb9fa30c1df": {
      "model_module": "@jupyter-widgets/controls",
      "model_module_version": "1.5.0",
      "model_name": "CheckboxModel",
      "state": {
       "description": "Recall = von allen Instanzen, für die 1 vorhergesagt wurde, wie viele wurden richtig vorhergesagt?",
       "disabled": false,
       "layout": "IPY_MODEL_f14f096fc5494bf7b4654567fc99dc31",
       "style": "IPY_MODEL_a6af623353eb4ad38ce7d05dcbd12958",
       "value": false
      }
     },
     "ba7083aca9bb4d9ba13bdd1d8fc0dcb1": {
      "model_module": "@jupyter-widgets/controls",
      "model_module_version": "1.5.0",
      "model_name": "ButtonStyleModel",
      "state": {}
     },
     "ba84dd5cc93b40ed90f0c8089cdc517d": {
      "model_module": "@jupyter-widgets/base",
      "model_module_version": "1.2.0",
      "model_name": "LayoutModel",
      "state": {}
     },
     "ba86f64bbebb4b2d9d62a9ed7ce8207b": {
      "model_module": "@jupyter-widgets/base",
      "model_module_version": "1.2.0",
      "model_name": "LayoutModel",
      "state": {}
     },
     "baa310afd0f94e54ae1d5690d99f3f2b": {
      "model_module": "@jupyter-widgets/controls",
      "model_module_version": "1.5.0",
      "model_name": "ButtonModel",
      "state": {
       "description": "part-of-speech tags",
       "layout": "IPY_MODEL_4275c55da6314ed5b675049883a5d19c",
       "style": "IPY_MODEL_9859c53f95b04836b71f0607e3563a3f"
      }
     },
     "bac07d18d0b842ac8a5c4c31d366d9d1": {
      "model_module": "@jupyter-widgets/controls",
      "model_module_version": "1.5.0",
      "model_name": "VBoxModel",
      "state": {
       "children": [
        "IPY_MODEL_085399d9c5fe4d74aef1cce6dc59f240",
        "IPY_MODEL_79289d9403fc44598f2653a453abf498",
        "IPY_MODEL_001ee698481c4ecc9aaf3d2e9cb07788",
        "IPY_MODEL_ab3b56a18ad943ce95a445e2ed8ff00b"
       ],
       "layout": "IPY_MODEL_eb90931d49004b97ba31923701b3dfb9"
      }
     },
     "bac29777a5e7462b8efc67ab0f338be2": {
      "model_module": "@jupyter-widgets/controls",
      "model_module_version": "1.5.0",
      "model_name": "DescriptionStyleModel",
      "state": {
       "description_width": ""
      }
     },
     "bb456bbe76f44c95b4e29bbb4999ac01": {
      "model_module": "@jupyter-widgets/controls",
      "model_module_version": "1.5.0",
      "model_name": "HTMLModel",
      "state": {
       "layout": "IPY_MODEL_867f659a15964618b724c6fe4df8abdc",
       "style": "IPY_MODEL_7d182e13c6cb457bb87e0c9a26a75cda",
       "value": "<h4 style=\"font-size:14px;\">Sind Teile des Satzes ambig?</h4>"
      }
     },
     "bb6290087cc24a6c85df516fa2579d89": {
      "model_module": "@jupyter-widgets/base",
      "model_module_version": "1.2.0",
      "model_name": "LayoutModel",
      "state": {
       "width": "600px"
      }
     },
     "bb652685ba2c48d18b5ec096d62e187b": {
      "model_module": "@jupyter-widgets/controls",
      "model_module_version": "1.5.0",
      "model_name": "ButtonModel",
      "state": {
       "description": "center-embedding",
       "layout": "IPY_MODEL_2a8e1b3146ec484aaf4e755b9b3b54e7",
       "style": "IPY_MODEL_0794005bc8c04b7cbb22920f6ba59ffc"
      }
     },
     "bb6c390d7a58472a822f53bfd6d45124": {
      "model_module": "@jupyter-widgets/base",
      "model_module_version": "1.2.0",
      "model_name": "LayoutModel",
      "state": {
       "width": "600px"
      }
     },
     "bb71d363e32042bcbcbabaf3aa1a30e2": {
      "model_module": "@jupyter-widgets/base",
      "model_module_version": "1.2.0",
      "model_name": "LayoutModel",
      "state": {}
     },
     "bbb5c89ce1c8403c8e2ca9ebbdb4c76c": {
      "model_module": "@jupyter-widgets/base",
      "model_module_version": "1.2.0",
      "model_name": "LayoutModel",
      "state": {}
     },
     "bbc48549eb7e4fdcbc265bdffdbf08c1": {
      "model_module": "@jupyter-widgets/controls",
      "model_module_version": "1.5.0",
      "model_name": "VBoxModel",
      "state": {
       "children": [
        "IPY_MODEL_d77f7c4039b9409882d674007065e3e4",
        "IPY_MODEL_6c1e9fc7a7e646beaec08fb2beb98632",
        "IPY_MODEL_75ac5bbc73544815a176d5ad93289318"
       ],
       "layout": "IPY_MODEL_00834a59e5204b86923e3f0fdfcc3dd6"
      }
     },
     "bc2826804a034b8c84f2e670bb5ffc39": {
      "model_module": "@jupyter-widgets/controls",
      "model_module_version": "1.5.0",
      "model_name": "ButtonModel",
      "state": {
       "description": "center embedding",
       "layout": "IPY_MODEL_b5a6a5d6b5f44af8b3c841fcb193191b",
       "style": "IPY_MODEL_cb4a895b695e42289716445dbdad401d"
      }
     },
     "bc435824f6d6450ba03e2ee9ccc87b3b": {
      "model_module": "@jupyter-widgets/controls",
      "model_module_version": "1.5.0",
      "model_name": "DescriptionStyleModel",
      "state": {
       "description_width": "initial"
      }
     },
     "bc4a24777c904a049655edb791c3dcbd": {
      "model_module": "@jupyter-widgets/controls",
      "model_module_version": "1.5.0",
      "model_name": "VBoxModel",
      "state": {
       "children": [
        "IPY_MODEL_0af1724ef1e5463da21cc8bc49019c30",
        "IPY_MODEL_ca4afc6867424cdd9a40f0f7c79c160a",
        "IPY_MODEL_cf260510ead14e249b69dcaaf89131a1",
        "IPY_MODEL_88e0d9e94e5b4fec98476775e58cb8c7"
       ],
       "layout": "IPY_MODEL_b0e36b30f32844e7b21ba7b74a7cadca"
      }
     },
     "bc6e43baed0f49bf93b6102677b14220": {
      "model_module": "@jupyter-widgets/controls",
      "model_module_version": "1.5.0",
      "model_name": "ButtonModel",
      "state": {
       "description": "regular expressions",
       "layout": "IPY_MODEL_c8c5c82b8a254b34a52f9f66118a69c9",
       "style": "IPY_MODEL_06f960dff0e74055bd0682039ce4341b"
      }
     },
     "bc7136eba6364908bc8b4d0a63759198": {
      "model_module": "@jupyter-widgets/controls",
      "model_module_version": "1.5.0",
      "model_name": "CheckboxModel",
      "state": {
       "description": "F1 = (Precision * Recall + 1) / (Precision + Recall)",
       "disabled": false,
       "layout": "IPY_MODEL_6ffe56d764f94ce2b64dfd0077c2e78d",
       "style": "IPY_MODEL_c77e1a207fbc4ddfa0864335992fe9a6",
       "value": false
      }
     },
     "bc8afbdef0f14240beebd4d598465457": {
      "model_module": "@jupyter-widgets/base",
      "model_module_version": "1.2.0",
      "model_name": "LayoutModel",
      "state": {
       "width": "250px"
      }
     },
     "bc95e114c7394b6e9e63c8f328ec4d80": {
      "model_module": "@jupyter-widgets/base",
      "model_module_version": "1.2.0",
      "model_name": "LayoutModel",
      "state": {
       "width": "250px"
      }
     },
     "bcb22068fa794191a8f9dd840f83c65b": {
      "model_module": "@jupyter-widgets/base",
      "model_module_version": "1.2.0",
      "model_name": "LayoutModel",
      "state": {
       "width": "250px"
      }
     },
     "bcf616f6c59f4830ad1e7981e519718a": {
      "model_module": "@jupyter-widgets/controls",
      "model_module_version": "1.5.0",
      "model_name": "ButtonStyleModel",
      "state": {
       "button_color": "lightgreen"
      }
     },
     "bd0dcf3f416241659da458c161f96656": {
      "model_module": "@jupyter-widgets/controls",
      "model_module_version": "1.5.0",
      "model_name": "DescriptionStyleModel",
      "state": {
       "description_width": "initial"
      }
     },
     "bd1206fa74694fc19432753939e296db": {
      "model_module": "@jupyter-widgets/controls",
      "model_module_version": "1.5.0",
      "model_name": "CheckboxModel",
      "state": {
       "description": "Es gibt keinen Unterschied.",
       "disabled": false,
       "layout": "IPY_MODEL_55a152d49db94ac09ec53d51cc81dceb",
       "style": "IPY_MODEL_11218f87fa754f029b77ea3385338feb",
       "value": false
      }
     },
     "bd65a017ee08478094608b057c4bc847": {
      "model_module": "@jupyter-widgets/controls",
      "model_module_version": "1.5.0",
      "model_name": "ButtonModel",
      "state": {
       "description": "Korrekt?",
       "layout": "IPY_MODEL_a5ed02afc88a4e25adc88d24f53ff180",
       "style": "IPY_MODEL_c01ff6e0b1f0452b828efda8f2c902f2"
      }
     },
     "bd6f9fe4a3994574a272589ecdcf43ba": {
      "model_module": "@jupyter-widgets/base",
      "model_module_version": "1.2.0",
      "model_name": "LayoutModel",
      "state": {}
     },
     "bd832bae275644fd808475afee3c60c7": {
      "model_module": "@jupyter-widgets/controls",
      "model_module_version": "1.5.0",
      "model_name": "CheckboxModel",
      "state": {
       "description": "Recall = true positives / (true positives + false negatives)",
       "disabled": false,
       "layout": "IPY_MODEL_0e7d5453b9c1419d9a7ef3091731bd1b",
       "style": "IPY_MODEL_5dc38dc8093445178abc4f0da9672f65",
       "value": true
      }
     },
     "bd850a320d184554a2f0cee3b8592f2f": {
      "model_module": "@jupyter-widgets/base",
      "model_module_version": "1.2.0",
      "model_name": "LayoutModel",
      "state": {}
     },
     "bdb7645fc5fe4abda81b9a9b58893925": {
      "model_module": "@jupyter-widgets/base",
      "model_module_version": "1.2.0",
      "model_name": "LayoutModel",
      "state": {
       "width": "600px"
      }
     },
     "bdf651b2924046a2b649feb1375e3ae5": {
      "model_module": "@jupyter-widgets/base",
      "model_module_version": "1.2.0",
      "model_name": "LayoutModel",
      "state": {
       "width": "250px"
      }
     },
     "bdfc9cc66dde4a49bb6f24718dd61591": {
      "model_module": "@jupyter-widgets/controls",
      "model_module_version": "1.5.0",
      "model_name": "ButtonModel",
      "state": {
       "description": "Korrekt?",
       "layout": "IPY_MODEL_729d2c3871ca4e3daad88404923d137f",
       "style": "IPY_MODEL_d849ae66a86648199e02989dc3dd67d0"
      }
     },
     "be13ca05626e4b7f830b8b080fac9874": {
      "model_module": "@jupyter-widgets/base",
      "model_module_version": "1.2.0",
      "model_name": "LayoutModel",
      "state": {
       "width": "250px"
      }
     },
     "be2c59dc31744592a5af38c16aaa2a0d": {
      "model_module": "@jupyter-widgets/controls",
      "model_module_version": "1.5.0",
      "model_name": "HBoxModel",
      "state": {
       "children": [
        "IPY_MODEL_c025b92012ab41aa84c12ab80b38cb22",
        "IPY_MODEL_de0698c230e44108a2f66411312b88b9"
       ],
       "layout": "IPY_MODEL_cf256034bf4147ab94e191df18e35f34"
      }
     },
     "be4c7b14d6504a1881636c80432aae78": {
      "model_module": "@jupyter-widgets/base",
      "model_module_version": "1.2.0",
      "model_name": "LayoutModel",
      "state": {
       "width": "600px"
      }
     },
     "be542b3008dc4cde8d6f94d71457a5e6": {
      "model_module": "@jupyter-widgets/controls",
      "model_module_version": "1.5.0",
      "model_name": "ButtonStyleModel",
      "state": {}
     },
     "be5deb4489074522865e010053c694b7": {
      "model_module": "@jupyter-widgets/base",
      "model_module_version": "1.2.0",
      "model_name": "LayoutModel",
      "state": {
       "width": "600px"
      }
     },
     "be7fc3f9b5014e139f9d992fef1425e2": {
      "model_module": "@jupyter-widgets/controls",
      "model_module_version": "1.5.0",
      "model_name": "ButtonStyleModel",
      "state": {}
     },
     "be9c442ff99c4a9a8b01ef693df46b49": {
      "model_module": "@jupyter-widgets/controls",
      "model_module_version": "1.5.0",
      "model_name": "HTMLModel",
      "state": {
       "layout": "IPY_MODEL_aa87bdd71e2842b3a914ed19eb1b3a5f",
       "style": "IPY_MODEL_fdd798fc66ab4683a00047b19243b80f",
       "value": "<h4 style=\"font-size:14px;\">Welchem Typ muss eine Grammatik mindestens genügen, um solche Sätze modellieren zu können?</h4>"
      }
     },
     "beb5f400cac84dc0be182489b8e75e02": {
      "model_module": "@jupyter-widgets/controls",
      "model_module_version": "1.5.0",
      "model_name": "DescriptionStyleModel",
      "state": {
       "description_width": "initial"
      }
     },
     "beb9be66ee5142789fa4792834fa0093": {
      "model_module": "@jupyter-widgets/controls",
      "model_module_version": "1.5.0",
      "model_name": "CheckboxModel",
      "state": {
       "description": "F1 = (Precision * Recall + 1) / (Precision + Recall)",
       "disabled": false,
       "layout": "IPY_MODEL_029438facc094626bc01df321ed61d43",
       "style": "IPY_MODEL_e2d0eb1b810a4d209b71bba4ef0c6b72",
       "value": false
      }
     },
     "bed6936bf46e40ceab1e9f0cf5619a92": {
      "model_module": "@jupyter-widgets/base",
      "model_module_version": "1.2.0",
      "model_name": "LayoutModel",
      "state": {
       "width": "250px"
      }
     },
     "bede9dd277484032a888773cb572ed49": {
      "model_module": "@jupyter-widgets/controls",
      "model_module_version": "1.5.0",
      "model_name": "ButtonModel",
      "state": {
       "description": "Keine der anderen Möglichkeiten",
       "layout": "IPY_MODEL_242178b5b6d5423a9fb58286279c446d",
       "style": "IPY_MODEL_378960da5d2c499a9d328e50374d265a"
      }
     },
     "bef258d5e26944a1a60e88631bc36fc9": {
      "model_module": "@jupyter-widgets/controls",
      "model_module_version": "1.5.0",
      "model_name": "DescriptionStyleModel",
      "state": {
       "description_width": ""
      }
     },
     "bef5c958105c420895b79f4f70186f33": {
      "model_module": "@jupyter-widgets/controls",
      "model_module_version": "1.5.0",
      "model_name": "ButtonModel",
      "state": {
       "description": "kontextsensitiv",
       "layout": "IPY_MODEL_8bc6c48c6d9f41f3bcdd075e58217d5f",
       "style": "IPY_MODEL_6d98ed8685754f098a65608bee885aef"
      }
     },
     "bf116f01060b4daaa2d9bc36d061cb75": {
      "model_module": "@jupyter-widgets/controls",
      "model_module_version": "1.5.0",
      "model_name": "HTMLModel",
      "state": {
       "layout": "IPY_MODEL_1e11230acefc4b648aa46d3f3ef21ecd",
       "style": "IPY_MODEL_814384f5c4fd4903a3d0bbb45d52bc81",
       "value": "<i>Wählen Sie die <ins>eine</ins> korrekte Antwort aus: </i>"
      }
     },
     "bf1cf5133e594a7687f0854037ca87a0": {
      "model_module": "@jupyter-widgets/base",
      "model_module_version": "1.2.0",
      "model_name": "LayoutModel",
      "state": {}
     },
     "bf41de9d8dc144deba0a0fbce57f97d3": {
      "model_module": "@jupyter-widgets/controls",
      "model_module_version": "1.5.0",
      "model_name": "VBoxModel",
      "state": {
       "children": [
        "IPY_MODEL_dcbe2f554efc41e6b00dadd40b1ddd6a",
        "IPY_MODEL_365565a54cf64212bbc96190b4d0aa28",
        "IPY_MODEL_273a3c8bd9974d96a242f64def805e42",
        "IPY_MODEL_c5eef9d535c44b5997fb360f9b287b15"
       ],
       "layout": "IPY_MODEL_e117cb18f0264f6580d14c9b06778d1e"
      }
     },
     "bfa072abd2604bcd904643979f5bc008": {
      "model_module": "@jupyter-widgets/controls",
      "model_module_version": "1.5.0",
      "model_name": "HTMLModel",
      "state": {
       "layout": "IPY_MODEL_1a5f1839084d41929bf75c679aaca2b7",
       "style": "IPY_MODEL_0855922d3e264b54bb9b880d1559fdb1",
       "value": "<h4 style=\"font-size:14px;\">Wodurch kann mit einem RegexpParser eine hierarchische Chunk-Struktur aufgebaut werden (ähnlicher den hierarchischen Analysen mit einer Phrasenstrukturgrammatik)?</h4>"
      }
     },
     "bfa1bfb592d74bac8674e5908bcaf14d": {
      "model_module": "@jupyter-widgets/base",
      "model_module_version": "1.2.0",
      "model_name": "LayoutModel",
      "state": {
       "justify_content": "center"
      }
     },
     "bfb9a3d681644ed6ab75b1ff9da58128": {
      "model_module": "@jupyter-widgets/controls",
      "model_module_version": "1.5.0",
      "model_name": "ButtonModel",
      "state": {
       "description": "center embedding",
       "layout": "IPY_MODEL_628ffa1ad6f84c319e11b993a0b6ff93",
       "style": "IPY_MODEL_80f2ffb5b26647538b828e1045c13aeb"
      }
     },
     "bfbe61735b1449929b5b817d2482288c": {
      "model_module": "@jupyter-widgets/base",
      "model_module_version": "1.2.0",
      "model_name": "LayoutModel",
      "state": {}
     },
     "bfc31c1bbbc24033afb724c1f5b22a97": {
      "model_module": "@jupyter-widgets/controls",
      "model_module_version": "1.5.0",
      "model_name": "ButtonModel",
      "state": {
       "description": "Korrekt?",
       "layout": "IPY_MODEL_62f10911d8d1487085818b3eb24e9a45",
       "style": "IPY_MODEL_0580ce151ce14cb2b9cefe23e4291cfc"
      }
     },
     "bfc5eed21682428585d97da09271cdc4": {
      "model_module": "@jupyter-widgets/controls",
      "model_module_version": "1.5.0",
      "model_name": "ButtonModel",
      "state": {
       "description": "Korrekt?",
       "layout": "IPY_MODEL_58d8f7f008f64f66bc1ec6ab9b9c4ba9",
       "style": "IPY_MODEL_cceea0655a8e4b54835c827eddee943a"
      }
     },
     "c01ff6e0b1f0452b828efda8f2c902f2": {
      "model_module": "@jupyter-widgets/controls",
      "model_module_version": "1.5.0",
      "model_name": "ButtonStyleModel",
      "state": {
       "button_color": "lightgreen"
      }
     },
     "c025b92012ab41aa84c12ab80b38cb22": {
      "model_module": "@jupyter-widgets/controls",
      "model_module_version": "1.5.0",
      "model_name": "ButtonModel",
      "state": {
       "description": "regulär",
       "layout": "IPY_MODEL_a2c7512c34094e58a4d8a86cf525654c",
       "style": "IPY_MODEL_8df56373e21744d4852014507860f563"
      }
     },
     "c04aed7d76c440919c600d5ea0f550ba": {
      "model_module": "@jupyter-widgets/base",
      "model_module_version": "1.2.0",
      "model_name": "LayoutModel",
      "state": {}
     },
     "c062fc6550fb4464826a88637373956c": {
      "model_module": "@jupyter-widgets/base",
      "model_module_version": "1.2.0",
      "model_name": "LayoutModel",
      "state": {
       "width": "250px"
      }
     },
     "c06e5b20e5ae493dae19928e747979b9": {
      "model_module": "@jupyter-widgets/controls",
      "model_module_version": "1.5.0",
      "model_name": "ButtonStyleModel",
      "state": {
       "button_color": "lightgreen"
      }
     },
     "c0b8602c8e65423786d1d0cf1921a65e": {
      "model_module": "@jupyter-widgets/controls",
      "model_module_version": "1.5.0",
      "model_name": "VBoxModel",
      "state": {
       "children": [
        "IPY_MODEL_f68a2a56db35427b981a41382251f32c",
        "IPY_MODEL_957d639e5db44a67999ed13d581283b5",
        "IPY_MODEL_1c46a8fcd3eb4854b947b46a4c5c0193",
        "IPY_MODEL_ecf0026045284d62a66810e6d6ff7e07"
       ],
       "layout": "IPY_MODEL_b95fb9441812437eb307b205f3b83779"
      }
     },
     "c0e032ac4fae4e8aa5f59bf9dafe45bb": {
      "model_module": "@jupyter-widgets/base",
      "model_module_version": "1.2.0",
      "model_name": "LayoutModel",
      "state": {
       "justify_content": "center"
      }
     },
     "c1057751ee2b4b8795a9a204183ca90b": {
      "model_module": "@jupyter-widgets/controls",
      "model_module_version": "1.5.0",
      "model_name": "ButtonStyleModel",
      "state": {}
     },
     "c11457f82430419ba9c488238e10cd8a": {
      "model_module": "@jupyter-widgets/controls",
      "model_module_version": "1.5.0",
      "model_name": "ButtonStyleModel",
      "state": {}
     },
     "c15971a539b94742afeb10fd1f23a13a": {
      "model_module": "@jupyter-widgets/base",
      "model_module_version": "1.2.0",
      "model_name": "LayoutModel",
      "state": {
       "width": "600px"
      }
     },
     "c1b3b0e25e27469fbb31e780ae44b697": {
      "model_module": "@jupyter-widgets/base",
      "model_module_version": "1.2.0",
      "model_name": "LayoutModel",
      "state": {
       "width": "250px"
      }
     },
     "c1bb4d607b3e463c933f089b3a95d9c4": {
      "model_module": "@jupyter-widgets/base",
      "model_module_version": "1.2.0",
      "model_name": "LayoutModel",
      "state": {
       "width": "250px"
      }
     },
     "c1be3b7de95347879ea4c74264ef2ce4": {
      "model_module": "@jupyter-widgets/controls",
      "model_module_version": "1.5.0",
      "model_name": "ButtonStyleModel",
      "state": {}
     },
     "c1ed95d3aa6d4e5c8fe40bbd55519dee": {
      "model_module": "@jupyter-widgets/controls",
      "model_module_version": "1.5.0",
      "model_name": "DescriptionStyleModel",
      "state": {
       "description_width": ""
      }
     },
     "c1edd0a2434f4a0cb7578261af77fd1a": {
      "model_module": "@jupyter-widgets/controls",
      "model_module_version": "1.5.0",
      "model_name": "ButtonModel",
      "state": {
       "description": "center embedding",
       "layout": "IPY_MODEL_ae304f9db43a42fa951fcb5c19bf2a5b",
       "style": "IPY_MODEL_0a1e80dc97d1468291bae6151dfd54f9"
      }
     },
     "c1edeab7901145568131fbd54a38425d": {
      "model_module": "@jupyter-widgets/controls",
      "model_module_version": "1.5.0",
      "model_name": "CheckboxModel",
      "state": {
       "description": "Precision = von allen vorhergesagten tp, wie viele wurden richtig vorhergesagt?",
       "disabled": false,
       "layout": "IPY_MODEL_d93b1b7b64fb4d5a8193f355f2adfd16",
       "style": "IPY_MODEL_f526704a39b24f62b96f509ca99b16cd",
       "value": true
      }
     },
     "c20244dbda614506a3173faa87a0b5a6": {
      "model_module": "@jupyter-widgets/controls",
      "model_module_version": "1.5.0",
      "model_name": "DescriptionStyleModel",
      "state": {
       "description_width": "initial"
      }
     },
     "c20e70b6ee5542b5aa20b411f152064b": {
      "model_module": "@jupyter-widgets/base",
      "model_module_version": "1.2.0",
      "model_name": "LayoutModel",
      "state": {
       "width": "250px"
      }
     },
     "c23e898e3288457b950999663f4c8a2c": {
      "model_module": "@jupyter-widgets/base",
      "model_module_version": "1.2.0",
      "model_name": "LayoutModel",
      "state": {
       "width": "600px"
      }
     },
     "c2458adb0c264d7a83d9cce6f505e346": {
      "model_module": "@jupyter-widgets/base",
      "model_module_version": "1.2.0",
      "model_name": "LayoutModel",
      "state": {}
     },
     "c24bd2545e994d6bbc349e7e40817978": {
      "model_module": "@jupyter-widgets/controls",
      "model_module_version": "1.5.0",
      "model_name": "DescriptionStyleModel",
      "state": {
       "description_width": ""
      }
     },
     "c29301dfe69840bea85190f5abf0504a": {
      "model_module": "@jupyter-widgets/controls",
      "model_module_version": "1.5.0",
      "model_name": "ButtonModel",
      "state": {
       "description": "XML-Tags",
       "layout": "IPY_MODEL_b3a3002a2f4b4bf48e017e513cc12f9b",
       "style": "IPY_MODEL_acfed0a1879f49cdbc69703b9de3876d"
      }
     },
     "c2cb802672a94ca28bd03b11fee4a966": {
      "model_module": "@jupyter-widgets/base",
      "model_module_version": "1.2.0",
      "model_name": "LayoutModel",
      "state": {
       "justify_content": "center"
      }
     },
     "c2d08aa4512d45f89dc191b6da0acd23": {
      "model_module": "@jupyter-widgets/base",
      "model_module_version": "1.2.0",
      "model_name": "LayoutModel",
      "state": {}
     },
     "c2d1f541da59460182d55badd43ddf2f": {
      "model_module": "@jupyter-widgets/base",
      "model_module_version": "1.2.0",
      "model_name": "LayoutModel",
      "state": {
       "width": "250px"
      }
     },
     "c2e408c11b44438f887ee9f08f5986c0": {
      "model_module": "@jupyter-widgets/controls",
      "model_module_version": "1.5.0",
      "model_name": "HTMLModel",
      "state": {
       "layout": "IPY_MODEL_7d0b59d29a27411aa555d392fc4174cf",
       "style": "IPY_MODEL_fefc7edece4044ceb99a01134d6eb1df",
       "value": "<i>Markieren Sie <ins>alle</ins> passenden Antworten: </i>"
      }
     },
     "c2f1d1d4bd124a44b7e1f1b151b180f2": {
      "model_module": "@jupyter-widgets/controls",
      "model_module_version": "1.5.0",
      "model_name": "HBoxModel",
      "state": {
       "children": [
        "IPY_MODEL_30ba8699397947ee85c2e1a1b49e6967",
        "IPY_MODEL_37b8f15c93364842817bc075e13b7f2d"
       ],
       "layout": "IPY_MODEL_36dfb9ce4eb642b1913c7e96727f9f74"
      }
     },
     "c33b9e38d69f490b85fb707706204ecb": {
      "model_module": "@jupyter-widgets/base",
      "model_module_version": "1.2.0",
      "model_name": "LayoutModel",
      "state": {
       "width": "500px"
      }
     },
     "c38d410ecd474790a75607bf3aff94c6": {
      "model_module": "@jupyter-widgets/base",
      "model_module_version": "1.2.0",
      "model_name": "LayoutModel",
      "state": {
       "width": "250px"
      }
     },
     "c3b75940ecda43b686cad98e2aa20c05": {
      "model_module": "@jupyter-widgets/base",
      "model_module_version": "1.2.0",
      "model_name": "LayoutModel",
      "state": {}
     },
     "c3e920de72e147d8ab90844b7690d75a": {
      "model_module": "@jupyter-widgets/base",
      "model_module_version": "1.2.0",
      "model_name": "LayoutModel",
      "state": {}
     },
     "c3f561546aa948dfaf4e4f95eb8b7210": {
      "model_module": "@jupyter-widgets/controls",
      "model_module_version": "1.5.0",
      "model_name": "ButtonStyleModel",
      "state": {}
     },
     "c402bd34f3044d9aa71e9ddcd1b27122": {
      "model_module": "@jupyter-widgets/controls",
      "model_module_version": "1.5.0",
      "model_name": "HTMLModel",
      "state": {
       "layout": "IPY_MODEL_4bb679dc223248d8b064f67c8537d625",
       "style": "IPY_MODEL_656f48c2d96b428db091da222ba4fcef",
       "value": "<h4 style=\"font-size:14px;\">Welche Klammern zeigen Chinking an?</h4>"
      }
     },
     "c42ccb946f0642619ec0b39ea340dc00": {
      "model_module": "@jupyter-widgets/base",
      "model_module_version": "1.2.0",
      "model_name": "LayoutModel",
      "state": {}
     },
     "c4373be75239452ab985a0f24c498da8": {
      "model_module": "@jupyter-widgets/base",
      "model_module_version": "1.2.0",
      "model_name": "LayoutModel",
      "state": {
       "width": "600px"
      }
     },
     "c43c5e6ba98841059e2aa4d343a1ee2a": {
      "model_module": "@jupyter-widgets/controls",
      "model_module_version": "1.5.0",
      "model_name": "HTMLModel",
      "state": {
       "layout": "IPY_MODEL_61944773ad4443a29498bfa46ec9777d",
       "style": "IPY_MODEL_fe5e5f3f50e0496daf6cc6dd95f9f1b1",
       "value": "<h4 style=\"font-size:14px;\">Um was für ein Sprachkonstrukt handelt es sich?</h4>"
      }
     },
     "c4420320cd1146dfbd00144c705f1488": {
      "model_module": "@jupyter-widgets/base",
      "model_module_version": "1.2.0",
      "model_name": "LayoutModel",
      "state": {
       "justify_content": "center"
      }
     },
     "c45b00f21baf43deb160eebe7af89880": {
      "model_module": "@jupyter-widgets/controls",
      "model_module_version": "1.5.0",
      "model_name": "VBoxModel",
      "state": {
       "children": [
        "IPY_MODEL_f2e35e6aaaa54f8bad5a544f5955df16",
        "IPY_MODEL_09cd42a70c934db5bb04faeb640830de",
        "IPY_MODEL_16d7d9313f5c4a82ad9b608777936b46",
        "IPY_MODEL_bc7136eba6364908bc8b4d0a63759198",
        "IPY_MODEL_c7aafb08f29a486286f93cc755d45fce",
        "IPY_MODEL_f56d989dd5a2453f98bd176689c74cd5",
        "IPY_MODEL_cf3b37796fa449acb9beaafc05d3ab9d",
        "IPY_MODEL_cf4cef8dadf1467ebec2691facfc5705"
       ],
       "layout": "IPY_MODEL_82abc169061d42cfbf08cb37558472e7"
      }
     },
     "c4684db074c94dd384c20d3a04d690a5": {
      "model_module": "@jupyter-widgets/controls",
      "model_module_version": "1.5.0",
      "model_name": "HTMLModel",
      "state": {
       "layout": "IPY_MODEL_3166412d3b424b84bca809fef6679b26",
       "style": "IPY_MODEL_186a163975c646f0a56c60aef367ccd9",
       "value": "<i>Markieren Sie <ins>alle</ins> passenden Antworten: </i>"
      }
     },
     "c46a36b2699a49f484d68f7c7ebd2796": {
      "model_module": "@jupyter-widgets/base",
      "model_module_version": "1.2.0",
      "model_name": "LayoutModel",
      "state": {
       "width": "250px"
      }
     },
     "c476130d1e654031a3dee5ee4d876e75": {
      "model_module": "@jupyter-widgets/base",
      "model_module_version": "1.2.0",
      "model_name": "LayoutModel",
      "state": {
       "width": "600px"
      }
     },
     "c49ad67317ef48a589c28478dd42d97d": {
      "model_module": "@jupyter-widgets/controls",
      "model_module_version": "1.5.0",
      "model_name": "CheckboxModel",
      "state": {
       "description": "F1 = (Precision * Recall + 1) / (Precision + Recall)",
       "disabled": false,
       "layout": "IPY_MODEL_a2713e17040f4cf9ba4ea932f3a3c413",
       "style": "IPY_MODEL_84d4bca889dc419c9ab0380cabb2c7a2",
       "value": false
      }
     },
     "c4abca65294c46cb9339a1a9493a13b7": {
      "model_module": "@jupyter-widgets/base",
      "model_module_version": "1.2.0",
      "model_name": "LayoutModel",
      "state": {}
     },
     "c4c2b657be1a4ef094ba497d76a4a683": {
      "model_module": "@jupyter-widgets/controls",
      "model_module_version": "1.5.0",
      "model_name": "HTMLModel",
      "state": {
       "layout": "IPY_MODEL_3dde8689d05643799e17090e40fa92ed",
       "style": "IPY_MODEL_3bce2a750cde493e9d0232e3e4305c94",
       "value": "<i>Wählen Sie die <ins>eine</ins> korrekte Antwort aus: </i>"
      }
     },
     "c4c62fca35ab42e28616acb44efffbbd": {
      "model_module": "@jupyter-widgets/controls",
      "model_module_version": "1.5.0",
      "model_name": "ButtonModel",
      "state": {
       "description": "Korrekt?",
       "layout": "IPY_MODEL_c9c7449f1c474792853854d2d26a43ef",
       "style": "IPY_MODEL_c721e1289f994021b1eeb3f43fd27adc"
      }
     },
     "c4e528cbf3db4ee8955906c48a0202d5": {
      "model_module": "@jupyter-widgets/base",
      "model_module_version": "1.2.0",
      "model_name": "LayoutModel",
      "state": {}
     },
     "c4f0ee90443c46b881ecbe0056f5b5ee": {
      "model_module": "@jupyter-widgets/base",
      "model_module_version": "1.2.0",
      "model_name": "LayoutModel",
      "state": {}
     },
     "c4f751c7ff494404af5281fabce82380": {
      "model_module": "@jupyter-widgets/controls",
      "model_module_version": "1.5.0",
      "model_name": "CheckboxModel",
      "state": {
       "description": "zwei Chunks werden zu einem größeren zusammengefasst",
       "disabled": false,
       "layout": "IPY_MODEL_6c7efff295f342349fd507b045b081a1",
       "style": "IPY_MODEL_55b5beb9b3f745bc873d965023c4e354",
       "value": false
      }
     },
     "c51912b8732544908e1fe9d8f3f071b0": {
      "model_module": "@jupyter-widgets/controls",
      "model_module_version": "1.5.0",
      "model_name": "HTMLModel",
      "state": {
       "layout": "IPY_MODEL_cd2ed699b30b460697caf2ec190283a8",
       "style": "IPY_MODEL_19dd442661b74fd085eff704c29e2d78",
       "value": "<h4 style=\"font-size:14px;\">Um was für ein Sprachkonstrukt handelt es sich?</h4>"
      }
     },
     "c52d6a77b5f44e03973e9281d8628f32": {
      "model_module": "@jupyter-widgets/controls",
      "model_module_version": "1.5.0",
      "model_name": "ButtonModel",
      "state": {
       "description": "Kontextsensitivität",
       "layout": "IPY_MODEL_e7e88d6bf36a46c4986feb7707c677e2",
       "style": "IPY_MODEL_b640906b20e34725af55b2a2d11991e8"
      }
     },
     "c53e5b876f004218881f5248b754bba0": {
      "model_module": "@jupyter-widgets/controls",
      "model_module_version": "1.5.0",
      "model_name": "HBoxModel",
      "state": {
       "children": [
        "IPY_MODEL_cb11929533f243e4b2f5e55ae76f4c2b",
        "IPY_MODEL_0bbb6b00b0df448a8fb4c987759660f4"
       ],
       "layout": "IPY_MODEL_6768de1458904ffe9497769fb93671da"
      }
     },
     "c593c963276144c7aa9d2cafe1a5a11e": {
      "model_module": "@jupyter-widgets/controls",
      "model_module_version": "1.5.0",
      "model_name": "HTMLModel",
      "state": {
       "layout": "IPY_MODEL_2fa9dc7931c5414bb055449119236107",
       "style": "IPY_MODEL_59791e8109a14bd2b0b280f54caffdd9",
       "value": "<i>Wählen Sie die <ins>eine</ins> korrekte Antwort aus: </i>"
      }
     },
     "c59cf25878e342f2be0dd99bd0e39160": {
      "model_module": "@jupyter-widgets/base",
      "model_module_version": "1.2.0",
      "model_name": "LayoutModel",
      "state": {}
     },
     "c5a492eadd5e4487854cc8faadc4ee8a": {
      "model_module": "@jupyter-widgets/base",
      "model_module_version": "1.2.0",
      "model_name": "LayoutModel",
      "state": {
       "justify_content": "center"
      }
     },
     "c5c390fd43864ed489a478a7fe8d7ebd": {
      "model_module": "@jupyter-widgets/base",
      "model_module_version": "1.2.0",
      "model_name": "LayoutModel",
      "state": {}
     },
     "c5dec278395f45f8b9ef75346a47fc2a": {
      "model_module": "@jupyter-widgets/controls",
      "model_module_version": "1.5.0",
      "model_name": "DescriptionStyleModel",
      "state": {
       "description_width": ""
      }
     },
     "c5e2dd4b8c414f7fa39daf9045421578": {
      "model_module": "@jupyter-widgets/controls",
      "model_module_version": "1.5.0",
      "model_name": "HTMLModel",
      "state": {
       "layout": "IPY_MODEL_744954ae14a14858bda4a427d31c1168",
       "style": "IPY_MODEL_59e3857ca42b450da8286b6c1c62bb16",
       "value": "<i>Wählen Sie die <ins>eine</ins> korrekte Antwort aus: </i>"
      }
     },
     "c5eef9d535c44b5997fb360f9b287b15": {
      "model_module": "@jupyter-widgets/controls",
      "model_module_version": "1.5.0",
      "model_name": "ButtonModel",
      "state": {
       "description": "Korrekt?",
       "layout": "IPY_MODEL_78595bc102ac4592b640d304fe63069b",
       "style": "IPY_MODEL_5d5a678827ae46539408ef7113299cf4"
      }
     },
     "c5fa22c87d8f4702aab548faa17fb1ac": {
      "model_module": "@jupyter-widgets/controls",
      "model_module_version": "1.5.0",
      "model_name": "HTMLModel",
      "state": {
       "layout": "IPY_MODEL_c74101f57edb4357b91b69748a5cf80c",
       "style": "IPY_MODEL_ae452735c3f74a33ba02643dc03076d2",
       "value": "<i>Markieren Sie <ins>alle</ins> passenden Antworten: </i>"
      }
     },
     "c6151a6caeeb4c20b514c111612a6f8b": {
      "model_module": "@jupyter-widgets/base",
      "model_module_version": "1.2.0",
      "model_name": "LayoutModel",
      "state": {
       "width": "250px"
      }
     },
     "c61bb8a422464f0e90ff343a28af961f": {
      "model_module": "@jupyter-widgets/controls",
      "model_module_version": "1.5.0",
      "model_name": "ButtonStyleModel",
      "state": {
       "button_color": "lightgreen"
      }
     },
     "c6249dc3500442f885e8d6fc3746faa7": {
      "model_module": "@jupyter-widgets/controls",
      "model_module_version": "1.5.0",
      "model_name": "HTMLModel",
      "state": {
       "layout": "IPY_MODEL_ec80e1348fe64845a9586ac8740d901e",
       "style": "IPY_MODEL_4bf21769ec3744f1a79c87b2d9eb11a6",
       "value": "<h4 style=\"font-size:14px;\">Um was für ein Sprachkonstrukt handelt es sich?</h4>"
      }
     },
     "c632c00e30bd42f4aaf29fdbfab72ce8": {
      "model_module": "@jupyter-widgets/controls",
      "model_module_version": "1.5.0",
      "model_name": "VBoxModel",
      "state": {
       "children": [
        "IPY_MODEL_ed9589056ca24fac912fea1f4314f559",
        "IPY_MODEL_92af8ead76164973934d982cd8216dfa",
        "IPY_MODEL_fec82c2e3c4b44c084ac795a694cf9db",
        "IPY_MODEL_b92f33f50514400cad39c6dd2a2ec1ef"
       ],
       "layout": "IPY_MODEL_9394759bb71f4d2b858197651ec0878d"
      }
     },
     "c643dc914c9f4c9090fea11204670466": {
      "model_module": "@jupyter-widgets/base",
      "model_module_version": "1.2.0",
      "model_name": "LayoutModel",
      "state": {
       "width": "600px"
      }
     },
     "c64f0d85156c45d9b13efe2d2ba6544c": {
      "model_module": "@jupyter-widgets/controls",
      "model_module_version": "1.5.0",
      "model_name": "VBoxModel",
      "state": {
       "children": [
        "IPY_MODEL_7b2d1451a4034f9085faafa03ff9d13d",
        "IPY_MODEL_bf116f01060b4daaa2d9bc36d061cb75",
        "IPY_MODEL_50ca1528a27a46088f8a5ea0053e9e92"
       ],
       "layout": "IPY_MODEL_99896984db8945d9840b1754d230bfbd"
      }
     },
     "c64ff67b7b7f40b1b03cd5316fe44f66": {
      "model_module": "@jupyter-widgets/controls",
      "model_module_version": "1.5.0",
      "model_name": "ButtonModel",
      "state": {
       "description": "part-of-speech tags",
       "layout": "IPY_MODEL_0661812b7ea74cc3b82eb632bcdb57d6",
       "style": "IPY_MODEL_5c6c02ff317a4c8a8e2e6674d56f792e"
      }
     },
     "c6534bb7a1304fb4a058d5d7db065d16": {
      "model_module": "@jupyter-widgets/base",
      "model_module_version": "1.2.0",
      "model_name": "LayoutModel",
      "state": {
       "width": "250px"
      }
     },
     "c66ffe000c12489d924cba14ad675cc3": {
      "model_module": "@jupyter-widgets/controls",
      "model_module_version": "1.5.0",
      "model_name": "ButtonStyleModel",
      "state": {}
     },
     "c687e099d5b34746a24fda1644839619": {
      "model_module": "@jupyter-widgets/controls",
      "model_module_version": "1.5.0",
      "model_name": "ButtonStyleModel",
      "state": {
       "button_color": "lightgreen"
      }
     },
     "c6994faa875845eeb9d8bf3e16177d22": {
      "model_module": "@jupyter-widgets/base",
      "model_module_version": "1.2.0",
      "model_name": "LayoutModel",
      "state": {
       "justify_content": "center"
      }
     },
     "c6a89b41c77b48d0b4fd176f6dcbed0f": {
      "model_module": "@jupyter-widgets/base",
      "model_module_version": "1.2.0",
      "model_name": "LayoutModel",
      "state": {
       "width": "600px"
      }
     },
     "c6ac9628c3bd47639ae387f0ca4875c7": {
      "model_module": "@jupyter-widgets/controls",
      "model_module_version": "1.5.0",
      "model_name": "HTMLModel",
      "state": {
       "layout": "IPY_MODEL_cb89b470db4a40db8c6f5955ac7c0710",
       "style": "IPY_MODEL_a1c0d19303204944a874b0a563d4f18a",
       "value": "<i>Wählen Sie die <ins>eine</ins> korrekte Antwort aus: </i>"
      }
     },
     "c6be1ec2602b4aa4a1c0846067da5dd9": {
      "model_module": "@jupyter-widgets/controls",
      "model_module_version": "1.5.0",
      "model_name": "VBoxModel",
      "state": {
       "children": [
        "IPY_MODEL_243e6442affd4e5caedd728a5ea2d757",
        "IPY_MODEL_e186ac671e8941348768ea0736554261",
        "IPY_MODEL_33be0d309ca344e194c5bc70127c77ce",
        "IPY_MODEL_663fa0fdb0174617915fa9362786742b"
       ],
       "layout": "IPY_MODEL_cf356504e0e847e097e6728f345cbe5f"
      }
     },
     "c6e65ad4f8c64e1a81a97dabdb7a7bd3": {
      "model_module": "@jupyter-widgets/controls",
      "model_module_version": "1.5.0",
      "model_name": "DescriptionStyleModel",
      "state": {
       "description_width": ""
      }
     },
     "c6ef51e266f54cc89c4cfa3b5983ecf3": {
      "model_module": "@jupyter-widgets/base",
      "model_module_version": "1.2.0",
      "model_name": "LayoutModel",
      "state": {}
     },
     "c70aae68e7ec4f80bd1dcd10f19fc3e1": {
      "model_module": "@jupyter-widgets/controls",
      "model_module_version": "1.5.0",
      "model_name": "HBoxModel",
      "state": {
       "children": [
        "IPY_MODEL_3888fc2b99b84e9caef3abb0899d6f56",
        "IPY_MODEL_fa471785c32e4a329e41e5d2b215ab85"
       ],
       "layout": "IPY_MODEL_1649d1efd7dc4768ba1fe2b7cc351498"
      }
     },
     "c719ea23e4b14a679c29be265cba5c2f": {
      "model_module": "@jupyter-widgets/base",
      "model_module_version": "1.2.0",
      "model_name": "LayoutModel",
      "state": {}
     },
     "c721e1289f994021b1eeb3f43fd27adc": {
      "model_module": "@jupyter-widgets/controls",
      "model_module_version": "1.5.0",
      "model_name": "ButtonStyleModel",
      "state": {}
     },
     "c72879aa2b584d5e975a9e06e8ac71a8": {
      "model_module": "@jupyter-widgets/base",
      "model_module_version": "1.2.0",
      "model_name": "LayoutModel",
      "state": {
       "justify_content": "center"
      }
     },
     "c7302c400e3246648b7f807737b9a148": {
      "model_module": "@jupyter-widgets/base",
      "model_module_version": "1.2.0",
      "model_name": "LayoutModel",
      "state": {}
     },
     "c74101f57edb4357b91b69748a5cf80c": {
      "model_module": "@jupyter-widgets/base",
      "model_module_version": "1.2.0",
      "model_name": "LayoutModel",
      "state": {
       "justify_content": "center"
      }
     },
     "c7762716f23b44d08b1c5ee9518f57b6": {
      "model_module": "@jupyter-widgets/controls",
      "model_module_version": "1.5.0",
      "model_name": "ButtonModel",
      "state": {
       "description": "Nein",
       "layout": "IPY_MODEL_c8d139fe83a941d0b99dd39578e9eb7d",
       "style": "IPY_MODEL_3092a82dfdaf480cb3e8d9ca1ec651db"
      }
     },
     "c77e1a207fbc4ddfa0864335992fe9a6": {
      "model_module": "@jupyter-widgets/controls",
      "model_module_version": "1.5.0",
      "model_name": "DescriptionStyleModel",
      "state": {
       "description_width": "initial"
      }
     },
     "c7a17a8b719f442183397c7a8e7fda30": {
      "model_module": "@jupyter-widgets/controls",
      "model_module_version": "1.5.0",
      "model_name": "CheckboxModel",
      "state": {
       "description": "ein Chunk wird entfernt",
       "disabled": false,
       "layout": "IPY_MODEL_b08aa90f39d74568858638c0b5c7d59d",
       "style": "IPY_MODEL_2839395bcb80452abdd2674383ebb541",
       "value": true
      }
     },
     "c7aafb08f29a486286f93cc755d45fce": {
      "model_module": "@jupyter-widgets/controls",
      "model_module_version": "1.5.0",
      "model_name": "CheckboxModel",
      "state": {
       "description": "Precision = true positives / true negatives",
       "disabled": false,
       "layout": "IPY_MODEL_7f078594cbf2451e988eb723031c0892",
       "style": "IPY_MODEL_f5781083328346988f00b1f0f6ca31da",
       "value": false
      }
     },
     "c7b1e62c0834449ea2eed4dd7749387a": {
      "model_module": "@jupyter-widgets/controls",
      "model_module_version": "1.5.0",
      "model_name": "ButtonStyleModel",
      "state": {}
     },
     "c7efdd25d84e4c198f4d4b156ea980f7": {
      "model_module": "@jupyter-widgets/controls",
      "model_module_version": "1.5.0",
      "model_name": "ButtonStyleModel",
      "state": {}
     },
     "c830c0a7d34a4b878b90a7d4080e6005": {
      "model_module": "@jupyter-widgets/controls",
      "model_module_version": "1.5.0",
      "model_name": "DescriptionStyleModel",
      "state": {
       "description_width": ""
      }
     },
     "c8497ff499a841e48168ae630d7fca81": {
      "model_module": "@jupyter-widgets/base",
      "model_module_version": "1.2.0",
      "model_name": "LayoutModel",
      "state": {}
     },
     "c86d388bd5c24416ba53282a699934af": {
      "model_module": "@jupyter-widgets/base",
      "model_module_version": "1.2.0",
      "model_name": "LayoutModel",
      "state": {
       "width": "250px"
      }
     },
     "c8856c2d5033448e860affea3373d007": {
      "model_module": "@jupyter-widgets/controls",
      "model_module_version": "1.5.0",
      "model_name": "ButtonModel",
      "state": {
       "description": "center embedding",
       "layout": "IPY_MODEL_d7db8a1dee834224b53d587bea6f009c",
       "style": "IPY_MODEL_4b9c4ad837a543b9a3bcbd64225f6c55"
      }
     },
     "c88ea5767e644cf0ad282c4fcc905a19": {
      "model_module": "@jupyter-widgets/controls",
      "model_module_version": "1.5.0",
      "model_name": "CheckboxModel",
      "state": {
       "description": "ein Chunk wird in zwei Chunks aufgeteilt",
       "disabled": false,
       "layout": "IPY_MODEL_17e0d2f781404542bd01b41667c414d0",
       "style": "IPY_MODEL_77a774ebdef243dd89555abaca077079",
       "value": false
      }
     },
     "c890614c004145eb8f2def80da8e374b": {
      "model_module": "@jupyter-widgets/controls",
      "model_module_version": "1.5.0",
      "model_name": "HTMLModel",
      "state": {
       "layout": "IPY_MODEL_d6bf6f58b3394d71afb225d124f5eabf",
       "style": "IPY_MODEL_3145330818574a18a29df2d78393546d",
       "value": "<i>Wählen Sie die <ins>eine</ins> korrekte Antwort aus: </i>"
      }
     },
     "c89def9e91704f0091c97f49c058d271": {
      "model_module": "@jupyter-widgets/base",
      "model_module_version": "1.2.0",
      "model_name": "LayoutModel",
      "state": {
       "width": "250px"
      }
     },
     "c8c089e4c32b4391a09d0e376f1606bf": {
      "model_module": "@jupyter-widgets/controls",
      "model_module_version": "1.5.0",
      "model_name": "DescriptionStyleModel",
      "state": {
       "description_width": "initial"
      }
     },
     "c8c5c82b8a254b34a52f9f66118a69c9": {
      "model_module": "@jupyter-widgets/base",
      "model_module_version": "1.2.0",
      "model_name": "LayoutModel",
      "state": {
       "width": "250px"
      }
     },
     "c8d139fe83a941d0b99dd39578e9eb7d": {
      "model_module": "@jupyter-widgets/base",
      "model_module_version": "1.2.0",
      "model_name": "LayoutModel",
      "state": {
       "width": "250px"
      }
     },
     "c8d506edd5ee4d6181165b90a6343aef": {
      "model_module": "@jupyter-widgets/controls",
      "model_module_version": "1.5.0",
      "model_name": "VBoxModel",
      "state": {
       "children": [
        "IPY_MODEL_b33e6769815145b392ef0e1dd7d3e660",
        "IPY_MODEL_4dcc8b713ebe4d498f9045ddde09771d",
        "IPY_MODEL_b959f8a6711d41fd8d392fa38cec2f8f",
        "IPY_MODEL_4a98bcb167db46b99d6a0192e09689f3",
        "IPY_MODEL_db2672871ea642b693b33267a16179cb",
        "IPY_MODEL_92fbfcd8aadc4193b1bccdfadfb771a7",
        "IPY_MODEL_9a5c7b995b204be08546e6fb1e482f77",
        "IPY_MODEL_d0842a280ba244918b1e6efe31b87f48"
       ],
       "layout": "IPY_MODEL_1bb0918b61e04d8d98aebd4aaaa9ff20"
      }
     },
     "c8d5329055624955baa7545017b5bdba": {
      "model_module": "@jupyter-widgets/controls",
      "model_module_version": "1.5.0",
      "model_name": "ButtonStyleModel",
      "state": {
       "button_color": "lightgreen"
      }
     },
     "c8eea2307d394a62ac74734cf5c0a893": {
      "model_module": "@jupyter-widgets/base",
      "model_module_version": "1.2.0",
      "model_name": "LayoutModel",
      "state": {
       "width": "250px"
      }
     },
     "c908288394004edb8ae547cad1b5cab1": {
      "model_module": "@jupyter-widgets/controls",
      "model_module_version": "1.5.0",
      "model_name": "HTMLModel",
      "state": {
       "layout": "IPY_MODEL_149e469677f44ac2953bfe05f032045a",
       "style": "IPY_MODEL_0ad649c0dbbf4664b7b755ac75931b1a",
       "value": "<i>Wählen Sie die <ins>eine</ins> korrekte Antwort aus: </i>"
      }
     },
     "c989870b72904bc0973a9a55d78cbdf0": {
      "model_module": "@jupyter-widgets/base",
      "model_module_version": "1.2.0",
      "model_name": "LayoutModel",
      "state": {
       "width": "600px"
      }
     },
     "c9a5d57c040640f39ef4a898e53e08ee": {
      "model_module": "@jupyter-widgets/controls",
      "model_module_version": "1.5.0",
      "model_name": "ButtonModel",
      "state": {
       "description": "kontextfrei",
       "layout": "IPY_MODEL_d8500be2b99c4737aef4e6d3625104d5",
       "style": "IPY_MODEL_174fb2375a3a4f6f86f84990c5f96e9c"
      }
     },
     "c9bc3324b57742a6b898adbca0243c11": {
      "model_module": "@jupyter-widgets/base",
      "model_module_version": "1.2.0",
      "model_name": "LayoutModel",
      "state": {
       "width": "250px"
      }
     },
     "c9c7449f1c474792853854d2d26a43ef": {
      "model_module": "@jupyter-widgets/base",
      "model_module_version": "1.2.0",
      "model_name": "LayoutModel",
      "state": {
       "width": "250px"
      }
     },
     "c9e23323dc0446e79eb26b60e4d491c3": {
      "model_module": "@jupyter-widgets/controls",
      "model_module_version": "1.5.0",
      "model_name": "HTMLModel",
      "state": {
       "layout": "IPY_MODEL_2c225abdfe354008a6ea0f7411cf7061",
       "style": "IPY_MODEL_9783532cb4104fb7a698d51ca21f6e76",
       "value": "<h4 style=\"font-size:14px;\">Um was für ein Sprachkonstrukt handelt es sich?</h4>"
      }
     },
     "c9f6becda11d43fe97ac3dcb7b83475f": {
      "model_module": "@jupyter-widgets/controls",
      "model_module_version": "1.5.0",
      "model_name": "DescriptionStyleModel",
      "state": {
       "description_width": ""
      }
     },
     "c9fddbd47ec44c8b901e31cec786fd0b": {
      "model_module": "@jupyter-widgets/base",
      "model_module_version": "1.2.0",
      "model_name": "LayoutModel",
      "state": {
       "justify_content": "center"
      }
     },
     "ca124e3bae214f0c8357ddff0e63f613": {
      "model_module": "@jupyter-widgets/base",
      "model_module_version": "1.2.0",
      "model_name": "LayoutModel",
      "state": {
       "width": "600px"
      }
     },
     "ca135259768a4b54b09eb2df971e5adb": {
      "model_module": "@jupyter-widgets/controls",
      "model_module_version": "1.5.0",
      "model_name": "HTMLModel",
      "state": {
       "layout": "IPY_MODEL_5f66899146464244be16e488a2388d5c",
       "style": "IPY_MODEL_24bef5e657dd4aeca8e82e45c54ed27d",
       "value": "<h4 style=\"font-size:14px;\">Um was für ein Sprachkonstrukt handelt es sich?</h4>"
      }
     },
     "ca1498e359964f69af23dad1c2f713c1": {
      "model_module": "@jupyter-widgets/controls",
      "model_module_version": "1.5.0",
      "model_name": "HTMLModel",
      "state": {
       "layout": "IPY_MODEL_18c5f85bf25b41f898454ff37fc99e87",
       "style": "IPY_MODEL_723650f0fa9f44f0a9548b693fbefb7b",
       "value": "<i>Wählen Sie die <ins>eine</ins> korrekte Antwort aus: </i>"
      }
     },
     "ca4afc6867424cdd9a40f0f7c79c160a": {
      "model_module": "@jupyter-widgets/controls",
      "model_module_version": "1.5.0",
      "model_name": "CheckboxModel",
      "state": {
       "description": "Output einer Chunk-Regel (Chunk-Tag) als Input einer folgenden Regel (Hintereinanderschalten)",
       "disabled": false,
       "layout": "IPY_MODEL_1693c8a3d9c24f5fb5d228dc9aee5cdf",
       "style": "IPY_MODEL_61c40ba7fa6349bbafffbc7f7326fb3d",
       "value": false
      }
     },
     "ca57ddb762654ea996909e250a46c25c": {
      "model_module": "@jupyter-widgets/controls",
      "model_module_version": "1.5.0",
      "model_name": "ButtonModel",
      "state": {
       "description": "} {",
       "layout": "IPY_MODEL_13a23c11f85a4a9dbdf8a70fe9341e97",
       "style": "IPY_MODEL_6d627ae0b5874b828131bdfbb01fe58c"
      }
     },
     "ca7f21d9d0184c2d9b78b62036a82452": {
      "model_module": "@jupyter-widgets/base",
      "model_module_version": "1.2.0",
      "model_name": "LayoutModel",
      "state": {}
     },
     "ca810c3d414245db935c55582e44e289": {
      "model_module": "@jupyter-widgets/base",
      "model_module_version": "1.2.0",
      "model_name": "LayoutModel",
      "state": {}
     },
     "ca94afca665848bdb2371fdddaf35194": {
      "model_module": "@jupyter-widgets/controls",
      "model_module_version": "1.5.0",
      "model_name": "DescriptionStyleModel",
      "state": {
       "description_width": ""
      }
     },
     "ca9c39535ccb45c9b90ecde0426806c2": {
      "model_module": "@jupyter-widgets/controls",
      "model_module_version": "1.5.0",
      "model_name": "HBoxModel",
      "state": {
       "children": [
        "IPY_MODEL_0aca52fde57b4e86864a717f7cac706d",
        "IPY_MODEL_e362042765cc4c3393fe7144cae89900"
       ],
       "layout": "IPY_MODEL_36dd9fa0934c4f1f9aa03d8a2608b01f"
      }
     },
     "cb11929533f243e4b2f5e55ae76f4c2b": {
      "model_module": "@jupyter-widgets/controls",
      "model_module_version": "1.5.0",
      "model_name": "ButtonModel",
      "state": {
       "description": "center embedding",
       "layout": "IPY_MODEL_d8529f4c8aac40b88daa9a1504c25429",
       "style": "IPY_MODEL_241fb3850cf5477c80e96bf4b049d914"
      }
     },
     "cb24f9b055ba45d3bac15971463986b9": {
      "model_module": "@jupyter-widgets/controls",
      "model_module_version": "1.5.0",
      "model_name": "ButtonStyleModel",
      "state": {}
     },
     "cb36b6422c7c4f94867c5cfc25dae264": {
      "model_module": "@jupyter-widgets/controls",
      "model_module_version": "1.5.0",
      "model_name": "ButtonModel",
      "state": {
       "description": "Nein",
       "layout": "IPY_MODEL_6c596e84303a4476b1782b2cc3dbb8c6",
       "style": "IPY_MODEL_b072ddb1bf264ad0bd9fa517a0324f3c"
      }
     },
     "cb3d0015dd76469ab8b3d4e63f9c72bc": {
      "model_module": "@jupyter-widgets/controls",
      "model_module_version": "1.5.0",
      "model_name": "DescriptionStyleModel",
      "state": {
       "description_width": ""
      }
     },
     "cb419c6a775b42008a411882126fa888": {
      "model_module": "@jupyter-widgets/controls",
      "model_module_version": "1.5.0",
      "model_name": "ButtonModel",
      "state": {
       "description": "Keine der anderen Möglichkeiten",
       "layout": "IPY_MODEL_357ff1d66120468bae592fb5b85f0427",
       "style": "IPY_MODEL_dc0a94d7a0ff4e809fa69ab619968d8c"
      }
     },
     "cb4a895b695e42289716445dbdad401d": {
      "model_module": "@jupyter-widgets/controls",
      "model_module_version": "1.5.0",
      "model_name": "ButtonStyleModel",
      "state": {}
     },
     "cb512605827242a49ced8500cef4b498": {
      "model_module": "@jupyter-widgets/base",
      "model_module_version": "1.2.0",
      "model_name": "LayoutModel",
      "state": {
       "justify_content": "center"
      }
     },
     "cb55f0131368439abe0aa1f290e85cd1": {
      "model_module": "@jupyter-widgets/base",
      "model_module_version": "1.2.0",
      "model_name": "LayoutModel",
      "state": {
       "width": "600px"
      }
     },
     "cb577698077446d99ae742ac50804013": {
      "model_module": "@jupyter-widgets/base",
      "model_module_version": "1.2.0",
      "model_name": "LayoutModel",
      "state": {
       "justify_content": "center"
      }
     },
     "cb89b470db4a40db8c6f5955ac7c0710": {
      "model_module": "@jupyter-widgets/base",
      "model_module_version": "1.2.0",
      "model_name": "LayoutModel",
      "state": {
       "justify_content": "center"
      }
     },
     "cb92a6236ae84ca199c6aa452696f066": {
      "model_module": "@jupyter-widgets/controls",
      "model_module_version": "1.5.0",
      "model_name": "ButtonStyleModel",
      "state": {}
     },
     "cb9a692e0ad84fbc94724e3b66082ca7": {
      "model_module": "@jupyter-widgets/base",
      "model_module_version": "1.2.0",
      "model_name": "LayoutModel",
      "state": {
       "width": "250px"
      }
     },
     "cba06441596641d789771339e1be0726": {
      "model_module": "@jupyter-widgets/base",
      "model_module_version": "1.2.0",
      "model_name": "LayoutModel",
      "state": {}
     },
     "cbcfc2f94d8a401a9f6ded86af07a712": {
      "model_module": "@jupyter-widgets/base",
      "model_module_version": "1.2.0",
      "model_name": "LayoutModel",
      "state": {}
     },
     "cbd8cd73901e419ba0bb553362f671b6": {
      "model_module": "@jupyter-widgets/controls",
      "model_module_version": "1.5.0",
      "model_name": "DescriptionStyleModel",
      "state": {
       "description_width": "initial"
      }
     },
     "cbdf1fa6883949b695b4a631fed768d5": {
      "model_module": "@jupyter-widgets/base",
      "model_module_version": "1.2.0",
      "model_name": "LayoutModel",
      "state": {}
     },
     "cbe381e066f94c758e549645e1581317": {
      "model_module": "@jupyter-widgets/controls",
      "model_module_version": "1.5.0",
      "model_name": "CheckboxModel",
      "state": {
       "description": "Chunks sind oft kürzer als Phrasen.",
       "disabled": false,
       "layout": "IPY_MODEL_13e22096b78a47e7b9dc08c93e93ca4f",
       "style": "IPY_MODEL_46017ab3fee144cbaf28b08b5222c4dd",
       "value": true
      }
     },
     "cc1001365c1b4e089f8a1b0513ffac39": {
      "model_module": "@jupyter-widgets/base",
      "model_module_version": "1.2.0",
      "model_name": "LayoutModel",
      "state": {
       "width": "600px"
      }
     },
     "cc24b79079404df79d13b5243f8d920f": {
      "model_module": "@jupyter-widgets/base",
      "model_module_version": "1.2.0",
      "model_name": "LayoutModel",
      "state": {}
     },
     "cc2dd046c9ca456cb0599b69c8db1e06": {
      "model_module": "@jupyter-widgets/base",
      "model_module_version": "1.2.0",
      "model_name": "LayoutModel",
      "state": {
       "justify_content": "center"
      }
     },
     "cc37f6e58206486bbe8ab7c325941d5d": {
      "model_module": "@jupyter-widgets/base",
      "model_module_version": "1.2.0",
      "model_name": "LayoutModel",
      "state": {
       "justify_content": "center"
      }
     },
     "cc684b17ee1c491594ea300124fb8ab5": {
      "model_module": "@jupyter-widgets/base",
      "model_module_version": "1.2.0",
      "model_name": "LayoutModel",
      "state": {}
     },
     "cc6deb280f134c3d93837ffac3032194": {
      "model_module": "@jupyter-widgets/controls",
      "model_module_version": "1.5.0",
      "model_name": "DescriptionStyleModel",
      "state": {
       "description_width": "initial"
      }
     },
     "cca3050757894a9b8f58fef790047cce": {
      "model_module": "@jupyter-widgets/base",
      "model_module_version": "1.2.0",
      "model_name": "LayoutModel",
      "state": {
       "width": "250px"
      }
     },
     "cce2c1d457fc499eae1d7379b095882e": {
      "model_module": "@jupyter-widgets/controls",
      "model_module_version": "1.5.0",
      "model_name": "CheckboxModel",
      "state": {
       "description": "F1 = (2 * Precision * Recall) / (Precision + Rrecall)",
       "disabled": false,
       "layout": "IPY_MODEL_480b563a521b4190b9287c57b699f3fc",
       "style": "IPY_MODEL_ad3dc191b5784db0b4ffa66c2da578a3",
       "value": true
      }
     },
     "cceea0655a8e4b54835c827eddee943a": {
      "model_module": "@jupyter-widgets/controls",
      "model_module_version": "1.5.0",
      "model_name": "ButtonStyleModel",
      "state": {}
     },
     "cd10281198c542dfbe76cc0bd9371642": {
      "model_module": "@jupyter-widgets/base",
      "model_module_version": "1.2.0",
      "model_name": "LayoutModel",
      "state": {
       "justify_content": "center"
      }
     },
     "cd2c681d52894f5dae90aa2181f2bf54": {
      "model_module": "@jupyter-widgets/base",
      "model_module_version": "1.2.0",
      "model_name": "LayoutModel",
      "state": {
       "width": "250px"
      }
     },
     "cd2ed699b30b460697caf2ec190283a8": {
      "model_module": "@jupyter-widgets/base",
      "model_module_version": "1.2.0",
      "model_name": "LayoutModel",
      "state": {
       "justify_content": "center"
      }
     },
     "cd331212aae24882a237282f03679560": {
      "model_module": "@jupyter-widgets/base",
      "model_module_version": "1.2.0",
      "model_name": "LayoutModel",
      "state": {}
     },
     "cd488353416749d298d603e8e0ceaba2": {
      "model_module": "@jupyter-widgets/base",
      "model_module_version": "1.2.0",
      "model_name": "LayoutModel",
      "state": {
       "width": "250px"
      }
     },
     "cdaa30ddb4a24a92ba0cb1ce78a801fb": {
      "model_module": "@jupyter-widgets/base",
      "model_module_version": "1.2.0",
      "model_name": "LayoutModel",
      "state": {
       "width": "600px"
      }
     },
     "cdcaee37b16c45c7a5e956ff9e013860": {
      "model_module": "@jupyter-widgets/base",
      "model_module_version": "1.2.0",
      "model_name": "LayoutModel",
      "state": {
       "justify_content": "center"
      }
     },
     "cdfd58ab127f476db414233891fc8918": {
      "model_module": "@jupyter-widgets/controls",
      "model_module_version": "1.5.0",
      "model_name": "ButtonModel",
      "state": {
       "description": "garden-path sentence",
       "layout": "IPY_MODEL_251edb046c9b412c9b7b9efd27bf7801",
       "style": "IPY_MODEL_9b0ce1ee0e4b4a549d35425bae8eaca6"
      }
     },
     "ce1c3c6e8f794b579dea8213e3129fb9": {
      "model_module": "@jupyter-widgets/controls",
      "model_module_version": "1.5.0",
      "model_name": "HTMLModel",
      "state": {
       "layout": "IPY_MODEL_9dfd0d5ccd184053bae082a68fbdb9db",
       "style": "IPY_MODEL_afbc9d04dc8a412bb0db90fdb385e893",
       "value": "<i>Wählen Sie die <ins>eine</ins> korrekte Antwort aus: </i>"
      }
     },
     "ce217bca2aa646d18b759d4a1b5972e2": {
      "model_module": "@jupyter-widgets/base",
      "model_module_version": "1.2.0",
      "model_name": "LayoutModel",
      "state": {
       "width": "250px"
      }
     },
     "ce2470d9a5354b749703352e31c76e87": {
      "model_module": "@jupyter-widgets/base",
      "model_module_version": "1.2.0",
      "model_name": "LayoutModel",
      "state": {
       "width": "600px"
      }
     },
     "ce9f6bf827e040038aa0a06b4d89b418": {
      "model_module": "@jupyter-widgets/controls",
      "model_module_version": "1.5.0",
      "model_name": "CheckboxModel",
      "state": {
       "description": "Chunks sind oft länger als Phrasen.",
       "disabled": false,
       "layout": "IPY_MODEL_d2c0c6322f4c4cc58d0e4069a04dd71e",
       "style": "IPY_MODEL_3a6fefb1a48e4611a472837fe36540a2",
       "value": false
      }
     },
     "cea5667daa8f476196af4251ac3d5116": {
      "model_module": "@jupyter-widgets/controls",
      "model_module_version": "1.5.0",
      "model_name": "ButtonModel",
      "state": {
       "description": "center embedding",
       "layout": "IPY_MODEL_833d56c88fba4d9bb7d30ffdd3e9d386",
       "style": "IPY_MODEL_5af3da0bfffd454983ee0f8d1aa33fa4"
      }
     },
     "cee07fab14f0485d8854296b4815d0d1": {
      "model_module": "@jupyter-widgets/controls",
      "model_module_version": "1.5.0",
      "model_name": "HTMLModel",
      "state": {
       "layout": "IPY_MODEL_7078e305d0db41bba0da2bef08f52589",
       "style": "IPY_MODEL_c9f6becda11d43fe97ac3dcb7b83475f",
       "value": "<i>Wählen Sie die <ins>eine</ins> korrekte Antwort aus: </i>"
      }
     },
     "ceefbe26d8a240f38cd1d838056ff4ec": {
      "model_module": "@jupyter-widgets/base",
      "model_module_version": "1.2.0",
      "model_name": "LayoutModel",
      "state": {
       "width": "600px"
      }
     },
     "cf01a56bc81743d7b6ee56d69991ee72": {
      "model_module": "@jupyter-widgets/base",
      "model_module_version": "1.2.0",
      "model_name": "LayoutModel",
      "state": {}
     },
     "cf256034bf4147ab94e191df18e35f34": {
      "model_module": "@jupyter-widgets/base",
      "model_module_version": "1.2.0",
      "model_name": "LayoutModel",
      "state": {}
     },
     "cf260510ead14e249b69dcaaf89131a1": {
      "model_module": "@jupyter-widgets/controls",
      "model_module_version": "1.5.0",
      "model_name": "CheckboxModel",
      "state": {
       "description": "Verwendung von Chinking-Regeln",
       "disabled": false,
       "layout": "IPY_MODEL_6ff77d4f21084305b14cc0bcab47f70e",
       "style": "IPY_MODEL_644a408315554167961951adde1bde85",
       "value": false
      }
     },
     "cf356504e0e847e097e6728f345cbe5f": {
      "model_module": "@jupyter-widgets/base",
      "model_module_version": "1.2.0",
      "model_name": "LayoutModel",
      "state": {}
     },
     "cf3b37796fa449acb9beaafc05d3ab9d": {
      "model_module": "@jupyter-widgets/controls",
      "model_module_version": "1.5.0",
      "model_name": "CheckboxModel",
      "state": {
       "description": "Recall = true positives / (true positives + false negatives)",
       "disabled": false,
       "layout": "IPY_MODEL_b980bf5dac7d4004ab62fb22619b6271",
       "style": "IPY_MODEL_fd80d982f15d4566855cbcfe0a6f912f",
       "value": false
      }
     },
     "cf4cef8dadf1467ebec2691facfc5705": {
      "model_module": "@jupyter-widgets/controls",
      "model_module_version": "1.5.0",
      "model_name": "CheckboxModel",
      "state": {
       "description": "Recall = von allen Instanzen, für die 1 vorhergesagt wurde, wie viele wurden richtig vorhergesagt?",
       "disabled": false,
       "layout": "IPY_MODEL_c643dc914c9f4c9090fea11204670466",
       "style": "IPY_MODEL_a293584ed44847909b2f724082dc21ea",
       "value": false
      }
     },
     "cf50a8ab5bf546cbbdb529e31cb23adc": {
      "model_module": "@jupyter-widgets/controls",
      "model_module_version": "1.5.0",
      "model_name": "ButtonStyleModel",
      "state": {
       "button_color": "lightgreen"
      }
     },
     "cf580758883b48d38846c1cac92b2a01": {
      "model_module": "@jupyter-widgets/controls",
      "model_module_version": "1.5.0",
      "model_name": "HTMLModel",
      "state": {
       "layout": "IPY_MODEL_e851a2f43a0f43bd80ce59fa67cbad38",
       "style": "IPY_MODEL_5eac9fee050640f9ab4c3bddd68dcb6b",
       "value": "<h4 style=\"font-size:14px;\">Welche Rekursionstiefe hat der Satz?</h4>"
      }
     },
     "cf6a3c0b05804ab29a6f426743c7b540": {
      "model_module": "@jupyter-widgets/controls",
      "model_module_version": "1.5.0",
      "model_name": "DescriptionStyleModel",
      "state": {
       "description_width": ""
      }
     },
     "cf6b7fc7f0e541d5b3a92c8754f4a793": {
      "model_module": "@jupyter-widgets/controls",
      "model_module_version": "1.5.0",
      "model_name": "DescriptionStyleModel",
      "state": {
       "description_width": ""
      }
     },
     "cfcad49083514c99a7d37913323dc4d4": {
      "model_module": "@jupyter-widgets/controls",
      "model_module_version": "1.5.0",
      "model_name": "ButtonModel",
      "state": {
       "description": "part-of-speech tags",
       "layout": "IPY_MODEL_ac04c24e50544c299d74d0695cffafad",
       "style": "IPY_MODEL_64b4b26aa9734d90afb1ab3ca7187102"
      }
     },
     "cfe9691f14934ac7a456490b70f671f3": {
      "model_module": "@jupyter-widgets/controls",
      "model_module_version": "1.5.0",
      "model_name": "HBoxModel",
      "state": {
       "children": [
        "IPY_MODEL_eaef328715be4e1e83bdd9e788909d50",
        "IPY_MODEL_74cde8647e3d491087584ed434e0c860"
       ],
       "layout": "IPY_MODEL_098995f3c368421b97460026d89fb7cb"
      }
     },
     "d012c651599247f58e5a95945927dbf3": {
      "model_module": "@jupyter-widgets/base",
      "model_module_version": "1.2.0",
      "model_name": "LayoutModel",
      "state": {}
     },
     "d02993ec489f495599b839abcd3d841c": {
      "model_module": "@jupyter-widgets/base",
      "model_module_version": "1.2.0",
      "model_name": "LayoutModel",
      "state": {}
     },
     "d04ce73891b6434ea2f6738db18798a0": {
      "model_module": "@jupyter-widgets/controls",
      "model_module_version": "1.5.0",
      "model_name": "HTMLModel",
      "state": {
       "layout": "IPY_MODEL_d9591214c45d4496b1558e1803a5ae73",
       "style": "IPY_MODEL_8554b257d2344199b232490b5513be6c",
       "value": "<i>Wählen Sie die <ins>eine</ins> korrekte Antwort aus: </i>"
      }
     },
     "d050be1b0b6d46f5827592a1fc6cb8e7": {
      "model_module": "@jupyter-widgets/controls",
      "model_module_version": "1.5.0",
      "model_name": "DescriptionStyleModel",
      "state": {
       "description_width": ""
      }
     },
     "d0639192eeeb4abdaa96ceb989a80c9e": {
      "model_module": "@jupyter-widgets/controls",
      "model_module_version": "1.5.0",
      "model_name": "ButtonModel",
      "state": {
       "description": "kontextfrei",
       "layout": "IPY_MODEL_b5d0bdbf4f944cbca115db3e88a9c5dd",
       "style": "IPY_MODEL_486cd9fc99ee410abacb8baa958f7065"
      }
     },
     "d07c188c980540e788723b5d20102da9": {
      "model_module": "@jupyter-widgets/controls",
      "model_module_version": "1.5.0",
      "model_name": "DescriptionStyleModel",
      "state": {
       "description_width": "initial"
      }
     },
     "d0842a280ba244918b1e6efe31b87f48": {
      "model_module": "@jupyter-widgets/controls",
      "model_module_version": "1.5.0",
      "model_name": "CheckboxModel",
      "state": {
       "description": "Recall = von allen Instanzen, für die 1 vorhergesagt wurde, wie viele wurden richtig vorhergesagt?",
       "disabled": false,
       "layout": "IPY_MODEL_e7463fbfbf5e45cf81155ef394214ba5",
       "style": "IPY_MODEL_7402bc233760415db26d13b04f04f474",
       "value": false
      }
     },
     "d0ac966f88cc4d299509009b7687a72e": {
      "model_module": "@jupyter-widgets/controls",
      "model_module_version": "1.5.0",
      "model_name": "HBoxModel",
      "state": {
       "children": [
        "IPY_MODEL_aaae636f4b614b859e8c2b85956bc682",
        "IPY_MODEL_3e7a895a839f426da94fd8db98dd2702"
       ],
       "layout": "IPY_MODEL_f5e7b9f38b554eedac71984eb6505de8"
      }
     },
     "d0ce5a1882c045749e5cabb29559d88f": {
      "model_module": "@jupyter-widgets/controls",
      "model_module_version": "1.5.0",
      "model_name": "DescriptionStyleModel",
      "state": {
       "description_width": ""
      }
     },
     "d0d48400676a41e580366ec896bc5d1d": {
      "model_module": "@jupyter-widgets/controls",
      "model_module_version": "1.5.0",
      "model_name": "ButtonStyleModel",
      "state": {}
     },
     "d0d9c3162f2248398e0426633677da70": {
      "model_module": "@jupyter-widgets/base",
      "model_module_version": "1.2.0",
      "model_name": "LayoutModel",
      "state": {}
     },
     "d15ea147fbd24ac48707c9ba1dd50a02": {
      "model_module": "@jupyter-widgets/base",
      "model_module_version": "1.2.0",
      "model_name": "LayoutModel",
      "state": {
       "width": "250px"
      }
     },
     "d18587157596477eabc6deb537b31c94": {
      "model_module": "@jupyter-widgets/controls",
      "model_module_version": "1.5.0",
      "model_name": "DescriptionStyleModel",
      "state": {
       "description_width": ""
      }
     },
     "d18aa610e8464e68a84fa6bfd56426f5": {
      "model_module": "@jupyter-widgets/controls",
      "model_module_version": "1.5.0",
      "model_name": "HTMLModel",
      "state": {
       "layout": "IPY_MODEL_417f8587a47e44bfbb93059f20280768",
       "style": "IPY_MODEL_15a0ba0d78c34435ab375739bdfb9b16",
       "value": "<i>Markieren Sie <ins>alle</ins> passenden Antworten: </i>"
      }
     },
     "d19dccdab60348afbc5d08e946f0c87a": {
      "model_module": "@jupyter-widgets/controls",
      "model_module_version": "1.5.0",
      "model_name": "DescriptionStyleModel",
      "state": {
       "description_width": ""
      }
     },
     "d1ab94f4fdbc43dea4fa693dafa8cabc": {
      "model_module": "@jupyter-widgets/controls",
      "model_module_version": "1.5.0",
      "model_name": "CheckboxModel",
      "state": {
       "description": "Verwendung von Splitting-Regeln",
       "disabled": false,
       "layout": "IPY_MODEL_2ca4f628bc0645dcbb7e7ff925a1c358",
       "style": "IPY_MODEL_a13dcd19acfc48c288c263d84ad9c568",
       "value": false
      }
     },
     "d1ae67f45fbb4361b60201e44c368bde": {
      "model_module": "@jupyter-widgets/controls",
      "model_module_version": "1.5.0",
      "model_name": "HTMLModel",
      "state": {
       "layout": "IPY_MODEL_0639e3279d7141efbbc11893cc3e2bbf",
       "style": "IPY_MODEL_6bf1011d7b8c46188c5dce78359b32c7",
       "value": "<h4 style=\"font-size:14px;\">Welchem Typ muss eine Grammatik mindestens genügen, um solche Sätze modellieren zu können?</h4>"
      }
     },
     "d1afa824963c416cbc1623b863568505": {
      "model_module": "@jupyter-widgets/controls",
      "model_module_version": "1.5.0",
      "model_name": "DescriptionStyleModel",
      "state": {
       "description_width": ""
      }
     },
     "d21aee8f9eda44aead583b189195a4bb": {
      "model_module": "@jupyter-widgets/controls",
      "model_module_version": "1.5.0",
      "model_name": "DescriptionStyleModel",
      "state": {
       "description_width": ""
      }
     },
     "d2279e4adae844f4a8a3f8a361c16399": {
      "model_module": "@jupyter-widgets/controls",
      "model_module_version": "1.5.0",
      "model_name": "ButtonStyleModel",
      "state": {}
     },
     "d26944a434b14e10b8a8e96dab88973b": {
      "model_module": "@jupyter-widgets/base",
      "model_module_version": "1.2.0",
      "model_name": "LayoutModel",
      "state": {
       "justify_content": "center"
      }
     },
     "d2b09bff43e44234a1a09b972946c134": {
      "model_module": "@jupyter-widgets/controls",
      "model_module_version": "1.5.0",
      "model_name": "ButtonModel",
      "state": {
       "description": "Korrekt?",
       "layout": "IPY_MODEL_2e97fd7b03ce4c59bdbd8becd9c70d71",
       "style": "IPY_MODEL_47aa1e1233894f7da068dce2802101c9"
      }
     },
     "d2c0c6322f4c4cc58d0e4069a04dd71e": {
      "model_module": "@jupyter-widgets/base",
      "model_module_version": "1.2.0",
      "model_name": "LayoutModel",
      "state": {
       "width": "600px"
      }
     },
     "d2ced7d18ff54c78b21ca8bbcff209ec": {
      "model_module": "@jupyter-widgets/controls",
      "model_module_version": "1.5.0",
      "model_name": "HTMLModel",
      "state": {
       "layout": "IPY_MODEL_cd10281198c542dfbe76cc0bd9371642",
       "style": "IPY_MODEL_54f33b92c051456d9a3424f25821e456",
       "value": "<i>Wählen Sie die <ins>eine</ins> korrekte Antwort aus: </i>"
      }
     },
     "d3100599d9b94d6fbeed8f94172ed7f7": {
      "model_module": "@jupyter-widgets/controls",
      "model_module_version": "1.5.0",
      "model_name": "DescriptionStyleModel",
      "state": {
       "description_width": "initial"
      }
     },
     "d3335d0257a0449aa7e417e38d2b0f37": {
      "model_module": "@jupyter-widgets/base",
      "model_module_version": "1.2.0",
      "model_name": "LayoutModel",
      "state": {
       "width": "250px"
      }
     },
     "d357d866805d4e58aaf406211c5b5c7d": {
      "model_module": "@jupyter-widgets/controls",
      "model_module_version": "1.5.0",
      "model_name": "DescriptionStyleModel",
      "state": {
       "description_width": ""
      }
     },
     "d3cc2e5a9e0a4076b784ab1519b2d927": {
      "model_module": "@jupyter-widgets/controls",
      "model_module_version": "1.5.0",
      "model_name": "ButtonModel",
      "state": {
       "description": "kontextsensitiv",
       "layout": "IPY_MODEL_b0419516595a4941b6c70598d26293c4",
       "style": "IPY_MODEL_19bc560b1dcf42f19eed92b35532f98b"
      }
     },
     "d3d9d61164e14eed810f466589e5c4a0": {
      "model_module": "@jupyter-widgets/controls",
      "model_module_version": "1.5.0",
      "model_name": "HBoxModel",
      "state": {
       "children": [
        "IPY_MODEL_cea5667daa8f476196af4251ac3d5116",
        "IPY_MODEL_71736c497d80416d82bbe906cd660d87"
       ],
       "layout": "IPY_MODEL_6c0f0f6b08244985b432c365a7fbea8b"
      }
     },
     "d3e2329233d2475eabeee3af35d4e4de": {
      "model_module": "@jupyter-widgets/controls",
      "model_module_version": "1.5.0",
      "model_name": "HTMLModel",
      "state": {
       "layout": "IPY_MODEL_8584d1eda03a4665addea52c248c8e7f",
       "style": "IPY_MODEL_0269606b20104a7897e1f0788ea6eeae",
       "value": "<i>Wählen Sie die <ins>eine</ins> korrekte Antwort aus: </i>"
      }
     },
     "d3e4f487e5594bd8b84178d96962e1d1": {
      "model_module": "@jupyter-widgets/controls",
      "model_module_version": "1.5.0",
      "model_name": "ButtonStyleModel",
      "state": {}
     },
     "d407aa291f6e42c884854760a010860d": {
      "model_module": "@jupyter-widgets/controls",
      "model_module_version": "1.5.0",
      "model_name": "HTMLModel",
      "state": {
       "layout": "IPY_MODEL_85375874d05a4ae6ace9683f77b7c4f4",
       "style": "IPY_MODEL_656f40aabf914c0c87e9eaec7cda2c44",
       "value": "<i>Wählen Sie die <ins>eine</ins> korrekte Antwort aus: </i>"
      }
     },
     "d40be21b49534c0ebd4c4520bfcdedc7": {
      "model_module": "@jupyter-widgets/base",
      "model_module_version": "1.2.0",
      "model_name": "LayoutModel",
      "state": {
       "width": "250px"
      }
     },
     "d439380d39274399a1a19140b448ea4b": {
      "model_module": "@jupyter-widgets/controls",
      "model_module_version": "1.5.0",
      "model_name": "ButtonModel",
      "state": {
       "description": "Korrekt?",
       "layout": "IPY_MODEL_c1b3b0e25e27469fbb31e780ae44b697",
       "style": "IPY_MODEL_d7dcfee696204bb487fb6b0814298d6a"
      }
     },
     "d4593efc58384f10903559f70de5ecff": {
      "model_module": "@jupyter-widgets/controls",
      "model_module_version": "1.5.0",
      "model_name": "CheckboxModel",
      "state": {
       "description": "Precision = true positives / true negatives",
       "disabled": false,
       "layout": "IPY_MODEL_2be09aad65b7454d86247ed305c0d83d",
       "style": "IPY_MODEL_720524f9d76b4ab38cb6fced11e95fa0",
       "value": false
      }
     },
     "d45a5fee889d4814bbb17bf8fd945a2f": {
      "model_module": "@jupyter-widgets/controls",
      "model_module_version": "1.5.0",
      "model_name": "DropdownModel",
      "state": {
       "_options_labels": [
        "1",
        "2",
        "3",
        "4",
        "Keine der Alternativen"
       ],
       "description": "Antwort:",
       "index": 2,
       "layout": "IPY_MODEL_64d187dfb10842f49eff50e448c28904",
       "style": "IPY_MODEL_b4c200e969ac44eeb36ea213dfd1cbe2"
      }
     },
     "d4611e0282a24b1f87dff8d4737ad264": {
      "model_module": "@jupyter-widgets/base",
      "model_module_version": "1.2.0",
      "model_name": "LayoutModel",
      "state": {
       "justify_content": "center"
      }
     },
     "d469df62211d47d0ae72304fbbf894c2": {
      "model_module": "@jupyter-widgets/base",
      "model_module_version": "1.2.0",
      "model_name": "LayoutModel",
      "state": {}
     },
     "d46b5d832b574c379e0d12b3524aa10c": {
      "model_module": "@jupyter-widgets/controls",
      "model_module_version": "1.5.0",
      "model_name": "DescriptionStyleModel",
      "state": {
       "description_width": "initial"
      }
     },
     "d46e7390cc824be38ec6be3e46911000": {
      "model_module": "@jupyter-widgets/base",
      "model_module_version": "1.2.0",
      "model_name": "LayoutModel",
      "state": {}
     },
     "d471e430ef4b4c46a861ce45040d013d": {
      "model_module": "@jupyter-widgets/base",
      "model_module_version": "1.2.0",
      "model_name": "LayoutModel",
      "state": {
       "justify_content": "center"
      }
     },
     "d474ad9e04ab403ab994b22c2700024b": {
      "model_module": "@jupyter-widgets/base",
      "model_module_version": "1.2.0",
      "model_name": "LayoutModel",
      "state": {}
     },
     "d4ed6f791c4040bf871ff7e855dfae74": {
      "model_module": "@jupyter-widgets/base",
      "model_module_version": "1.2.0",
      "model_name": "LayoutModel",
      "state": {}
     },
     "d4fa6b98b7e045c8aa2063570e462c8d": {
      "model_module": "@jupyter-widgets/controls",
      "model_module_version": "1.5.0",
      "model_name": "DescriptionStyleModel",
      "state": {
       "description_width": "initial"
      }
     },
     "d503d6bfc54a47e3bb17b3e4e4e3b773": {
      "model_module": "@jupyter-widgets/controls",
      "model_module_version": "1.5.0",
      "model_name": "HBoxModel",
      "state": {
       "children": [
        "IPY_MODEL_bc2826804a034b8c84f2e670bb5ffc39",
        "IPY_MODEL_710aff3048604129a6c353d770dd39bd"
       ],
       "layout": "IPY_MODEL_59f4e54dca92432883251066e1e87b0d"
      }
     },
     "d5226ead0d8444bcbf11cc8f4c2803e6": {
      "model_module": "@jupyter-widgets/controls",
      "model_module_version": "1.5.0",
      "model_name": "CheckboxModel",
      "state": {
       "description": "ein vorher erkannter Chunk wird nicht mehr erkannt",
       "disabled": false,
       "layout": "IPY_MODEL_03fd3661a60c453abb872a24a31800a1",
       "style": "IPY_MODEL_beb5f400cac84dc0be182489b8e75e02",
       "value": false
      }
     },
     "d5282afd2f20427b96e718aa4b18da1a": {
      "model_module": "@jupyter-widgets/controls",
      "model_module_version": "1.5.0",
      "model_name": "DescriptionStyleModel",
      "state": {
       "description_width": "initial"
      }
     },
     "d58d29267aaf49bda7f67b7950758e1d": {
      "model_module": "@jupyter-widgets/base",
      "model_module_version": "1.2.0",
      "model_name": "LayoutModel",
      "state": {
       "width": "600px"
      }
     },
     "d59ded5a0e3c4b529ceb73b057572765": {
      "model_module": "@jupyter-widgets/controls",
      "model_module_version": "1.5.0",
      "model_name": "VBoxModel",
      "state": {
       "children": [
        "IPY_MODEL_1b3db01e785248d3aa5f20b1556c915e",
        "IPY_MODEL_8a23a0f8efa84e41b3b141ef9941fbbc",
        "IPY_MODEL_16d74ee81ba74a46bc7960b1df15afe2",
        "IPY_MODEL_739fb2efeb8e44d3a8dbf11deca14a11"
       ],
       "layout": "IPY_MODEL_e2e77c85b0d94392a2cb52f761b04a15"
      }
     },
     "d5b2b6874c144011a26379269bdbcc41": {
      "model_module": "@jupyter-widgets/base",
      "model_module_version": "1.2.0",
      "model_name": "LayoutModel",
      "state": {
       "width": "250px"
      }
     },
     "d5c7c692d1fd495aa93b5d4c8c88079d": {
      "model_module": "@jupyter-widgets/controls",
      "model_module_version": "1.5.0",
      "model_name": "HTMLModel",
      "state": {
       "layout": "IPY_MODEL_62c4d55e5b6c4109bc7dbdaed5d71543",
       "style": "IPY_MODEL_da72fa85df6349958d5ce97b756b179e",
       "value": "<h4 style=\"font-size:14px;\">Um was für ein Sprachkonstrukt handelt es sich?</h4>"
      }
     },
     "d5cee9931f40450c9ce6d3bcd7e8248d": {
      "model_module": "@jupyter-widgets/base",
      "model_module_version": "1.2.0",
      "model_name": "LayoutModel",
      "state": {
       "width": "500px"
      }
     },
     "d621a4379b0e4a7dbf072363bb603426": {
      "model_module": "@jupyter-widgets/base",
      "model_module_version": "1.2.0",
      "model_name": "LayoutModel",
      "state": {}
     },
     "d637ee3457cb4544a58674b07b0d969c": {
      "model_module": "@jupyter-widgets/controls",
      "model_module_version": "1.5.0",
      "model_name": "ButtonStyleModel",
      "state": {}
     },
     "d6636da567b746aba049650a8a0e645a": {
      "model_module": "@jupyter-widgets/controls",
      "model_module_version": "1.5.0",
      "model_name": "ButtonStyleModel",
      "state": {}
     },
     "d6bcbeeb21084ac1a2bb4f716ebf56c7": {
      "model_module": "@jupyter-widgets/base",
      "model_module_version": "1.2.0",
      "model_name": "LayoutModel",
      "state": {
       "width": "250px"
      }
     },
     "d6bf6f58b3394d71afb225d124f5eabf": {
      "model_module": "@jupyter-widgets/base",
      "model_module_version": "1.2.0",
      "model_name": "LayoutModel",
      "state": {
       "justify_content": "center"
      }
     },
     "d6c27dc1ecd6442a8befc7845ba76219": {
      "model_module": "@jupyter-widgets/controls",
      "model_module_version": "1.5.0",
      "model_name": "ButtonStyleModel",
      "state": {
       "button_color": "lightgreen"
      }
     },
     "d6ee69d993994bd5b176c7f1b96746a0": {
      "model_module": "@jupyter-widgets/controls",
      "model_module_version": "1.5.0",
      "model_name": "CheckboxModel",
      "state": {
       "description": "zwei Chunks werden zu einem größeren zusammengefasst",
       "disabled": false,
       "layout": "IPY_MODEL_8b3151803f0e49a793374cca2d758755",
       "style": "IPY_MODEL_46003cba923a489299118523942bbfc8",
       "value": false
      }
     },
     "d6f769df6a734838b917a75490c64435": {
      "model_module": "@jupyter-widgets/controls",
      "model_module_version": "1.5.0",
      "model_name": "ButtonModel",
      "state": {
       "description": "garden-path sentence",
       "layout": "IPY_MODEL_ecf8f237fabe4829bec2ec5d81faa796",
       "style": "IPY_MODEL_9447cde04cf643068d87203d1d5045e5"
      }
     },
     "d722b614ac784ac4b41f74b1ed20d66f": {
      "model_module": "@jupyter-widgets/controls",
      "model_module_version": "1.5.0",
      "model_name": "HTMLModel",
      "state": {
       "layout": "IPY_MODEL_ebd338b56dfc4f6e96671d227e3e4850",
       "style": "IPY_MODEL_24ed12664fa04c3cb3469dfd2245cc2c",
       "value": "<i>Wählen Sie die <ins>eine</ins> korrekte Antwort aus: </i>"
      }
     },
     "d73fff5b4fe640d7b214e2526699e2a6": {
      "model_module": "@jupyter-widgets/base",
      "model_module_version": "1.2.0",
      "model_name": "LayoutModel",
      "state": {}
     },
     "d76cc1a10e354aaebfeb4daefadc3e33": {
      "model_module": "@jupyter-widgets/controls",
      "model_module_version": "1.5.0",
      "model_name": "ButtonStyleModel",
      "state": {}
     },
     "d77abc5cae6442678fee5bea85be4a92": {
      "model_module": "@jupyter-widgets/base",
      "model_module_version": "1.2.0",
      "model_name": "LayoutModel",
      "state": {
       "width": "250px"
      }
     },
     "d77f7c4039b9409882d674007065e3e4": {
      "model_module": "@jupyter-widgets/controls",
      "model_module_version": "1.5.0",
      "model_name": "CheckboxModel",
      "state": {
       "description": "Chunks sind oft kürzer als Phrasen.",
       "disabled": false,
       "layout": "IPY_MODEL_9d46ee9e7863443ca1c9537590e97236",
       "style": "IPY_MODEL_585c95e848c74a10ae4f04c08f597ee8",
       "value": false
      }
     },
     "d780ef3e1104428c9ad17a34a72796b1": {
      "model_module": "@jupyter-widgets/base",
      "model_module_version": "1.2.0",
      "model_name": "LayoutModel",
      "state": {
       "justify_content": "center"
      }
     },
     "d78cd56791c64a0f8ab8cc3ea979f7ed": {
      "model_module": "@jupyter-widgets/controls",
      "model_module_version": "1.5.0",
      "model_name": "HBoxModel",
      "state": {
       "children": [
        "IPY_MODEL_9b4f363d55b14f9cb8889093da7ab0b4",
        "IPY_MODEL_f3dc2abb847c4f9dbb3184ae1dabc62e"
       ],
       "layout": "IPY_MODEL_444e0dc51cb04a76be3791ba31c48fd0"
      }
     },
     "d7a95670f6be4ea8bc1bdbcfdb97a686": {
      "model_module": "@jupyter-widgets/controls",
      "model_module_version": "1.5.0",
      "model_name": "VBoxModel",
      "state": {
       "children": [
        "IPY_MODEL_76434f247b8f4b62abf5de4c12d1293e",
        "IPY_MODEL_d722b614ac784ac4b41f74b1ed20d66f",
        "IPY_MODEL_7af40ffee4ab4d8ebfc28120c8d7ee60",
        "IPY_MODEL_83da224990ed4d13a62b8c1047aca7d6"
       ],
       "layout": "IPY_MODEL_382c5704924a4f2a81f96b43f234fe5d"
      }
     },
     "d7db8a1dee834224b53d587bea6f009c": {
      "model_module": "@jupyter-widgets/base",
      "model_module_version": "1.2.0",
      "model_name": "LayoutModel",
      "state": {
       "width": "250px"
      }
     },
     "d7dcfee696204bb487fb6b0814298d6a": {
      "model_module": "@jupyter-widgets/controls",
      "model_module_version": "1.5.0",
      "model_name": "ButtonStyleModel",
      "state": {}
     },
     "d7f38d6ad7d2443e886be36833acd8c4": {
      "model_module": "@jupyter-widgets/base",
      "model_module_version": "1.2.0",
      "model_name": "LayoutModel",
      "state": {
       "justify_content": "center"
      }
     },
     "d81e7bcb54d744cb8089f2e5dd7e6795": {
      "model_module": "@jupyter-widgets/controls",
      "model_module_version": "1.5.0",
      "model_name": "ButtonModel",
      "state": {
       "description": "Keine der anderen Möglichkeiten",
       "layout": "IPY_MODEL_d3335d0257a0449aa7e417e38d2b0f37",
       "style": "IPY_MODEL_6240ca57aa5a4a6c919e57a9d2df22a4"
      }
     },
     "d82ed4c9d1b64905986ba501d8b7d841": {
      "model_module": "@jupyter-widgets/controls",
      "model_module_version": "1.5.0",
      "model_name": "ButtonModel",
      "state": {
       "description": "Keine der anderen Möglichkeiten",
       "layout": "IPY_MODEL_8fbdc7ef3b15443c8a215c9f3ffa698d",
       "style": "IPY_MODEL_0d4de9e26dd746e1a276e98f7e0972d1"
      }
     },
     "d82ed5a04f2543389b49e275bda9adab": {
      "model_module": "@jupyter-widgets/base",
      "model_module_version": "1.2.0",
      "model_name": "LayoutModel",
      "state": {
       "width": "250px"
      }
     },
     "d849ae66a86648199e02989dc3dd67d0": {
      "model_module": "@jupyter-widgets/controls",
      "model_module_version": "1.5.0",
      "model_name": "ButtonStyleModel",
      "state": {}
     },
     "d8500be2b99c4737aef4e6d3625104d5": {
      "model_module": "@jupyter-widgets/base",
      "model_module_version": "1.2.0",
      "model_name": "LayoutModel",
      "state": {
       "width": "250px"
      }
     },
     "d85283c2ba424c7fb6548195e2c90a92": {
      "model_module": "@jupyter-widgets/base",
      "model_module_version": "1.2.0",
      "model_name": "LayoutModel",
      "state": {
       "justify_content": "center"
      }
     },
     "d8529f4c8aac40b88daa9a1504c25429": {
      "model_module": "@jupyter-widgets/base",
      "model_module_version": "1.2.0",
      "model_name": "LayoutModel",
      "state": {
       "width": "250px"
      }
     },
     "d8fb43456ec3469f96ff3bc1ed3183df": {
      "model_module": "@jupyter-widgets/controls",
      "model_module_version": "1.5.0",
      "model_name": "VBoxModel",
      "state": {
       "children": [
        "IPY_MODEL_299db5ef48ab4af9ba61ef969ae41a26",
        "IPY_MODEL_7c49be7b7a584beb95399405b926a536",
        "IPY_MODEL_3d475f11cc444fe5807c515dfcb5fc08",
        "IPY_MODEL_0170b2e83a3e489eb8530aec4ba5f14c"
       ],
       "layout": "IPY_MODEL_7be5cf7fe7ed478097726b881c08756f"
      }
     },
     "d93962c3e6074629b1f13703b14b5e66": {
      "model_module": "@jupyter-widgets/base",
      "model_module_version": "1.2.0",
      "model_name": "LayoutModel",
      "state": {}
     },
     "d93b1b7b64fb4d5a8193f355f2adfd16": {
      "model_module": "@jupyter-widgets/base",
      "model_module_version": "1.2.0",
      "model_name": "LayoutModel",
      "state": {
       "width": "600px"
      }
     },
     "d951f7ebee064cf4973e35f7c1279d74": {
      "model_module": "@jupyter-widgets/controls",
      "model_module_version": "1.5.0",
      "model_name": "DescriptionStyleModel",
      "state": {
       "description_width": ""
      }
     },
     "d9591214c45d4496b1558e1803a5ae73": {
      "model_module": "@jupyter-widgets/base",
      "model_module_version": "1.2.0",
      "model_name": "LayoutModel",
      "state": {
       "justify_content": "center"
      }
     },
     "d96437afc29843ed9c24326d7985f472": {
      "model_module": "@jupyter-widgets/controls",
      "model_module_version": "1.5.0",
      "model_name": "ButtonStyleModel",
      "state": {
       "button_color": "lightgreen"
      }
     },
     "d97ef590290041cd8986b61d764443b1": {
      "model_module": "@jupyter-widgets/controls",
      "model_module_version": "1.5.0",
      "model_name": "ButtonModel",
      "state": {
       "description": "Ja",
       "layout": "IPY_MODEL_b389172aa4f24c9f82dd1c676cdd3db4",
       "style": "IPY_MODEL_c66ffe000c12489d924cba14ad675cc3"
      }
     },
     "d98e211a5f734fcfa548e13a5d6ace72": {
      "model_module": "@jupyter-widgets/controls",
      "model_module_version": "1.5.0",
      "model_name": "ButtonStyleModel",
      "state": {}
     },
     "d98e952736f3469194aded4edbf85700": {
      "model_module": "@jupyter-widgets/base",
      "model_module_version": "1.2.0",
      "model_name": "LayoutModel",
      "state": {
       "width": "250px"
      }
     },
     "d990f4d5a19e489699b0c9459141dff1": {
      "model_module": "@jupyter-widgets/base",
      "model_module_version": "1.2.0",
      "model_name": "LayoutModel",
      "state": {
       "width": "250px"
      }
     },
     "d9bf580ff55946e881fac22a04a00ef8": {
      "model_module": "@jupyter-widgets/controls",
      "model_module_version": "1.5.0",
      "model_name": "ButtonStyleModel",
      "state": {}
     },
     "d9c73866587b4146b25948952ad0783c": {
      "model_module": "@jupyter-widgets/controls",
      "model_module_version": "1.5.0",
      "model_name": "HBoxModel",
      "state": {
       "children": [
        "IPY_MODEL_6e70af53e6174aa89ac29d76412b9adc",
        "IPY_MODEL_26cfa0f83dc94ced9ec2c28445797552"
       ],
       "layout": "IPY_MODEL_b53558e33835483cb6b09568371acae1"
      }
     },
     "d9d7eb1d934c4b8ab3c58de03ae2edd3": {
      "model_module": "@jupyter-widgets/controls",
      "model_module_version": "1.5.0",
      "model_name": "DescriptionStyleModel",
      "state": {
       "description_width": ""
      }
     },
     "d9d837743b2c4cdaae37c985050473a8": {
      "model_module": "@jupyter-widgets/base",
      "model_module_version": "1.2.0",
      "model_name": "LayoutModel",
      "state": {
       "width": "600px"
      }
     },
     "d9da7760fe20402189b0d42c65e45bb4": {
      "model_module": "@jupyter-widgets/controls",
      "model_module_version": "1.5.0",
      "model_name": "CheckboxModel",
      "state": {
       "description": "Chunks sind oft kürzer als Phrasen.",
       "disabled": false,
       "layout": "IPY_MODEL_7b791fa8def847f28e1df45730038bf4",
       "style": "IPY_MODEL_9f4becd05f4d4e79a78b605c105d120b",
       "value": false
      }
     },
     "d9f63d45b76a4d5898f59d692944cdea": {
      "model_module": "@jupyter-widgets/base",
      "model_module_version": "1.2.0",
      "model_name": "LayoutModel",
      "state": {
       "justify_content": "center"
      }
     },
     "da170e1c54f64c908845305370016b30": {
      "model_module": "@jupyter-widgets/controls",
      "model_module_version": "1.5.0",
      "model_name": "DescriptionStyleModel",
      "state": {
       "description_width": "initial"
      }
     },
     "da20f1ccec544629bb2b93bd84db5ddb": {
      "model_module": "@jupyter-widgets/controls",
      "model_module_version": "1.5.0",
      "model_name": "DescriptionStyleModel",
      "state": {
       "description_width": "initial"
      }
     },
     "da34178906944f0496396705f3f571c0": {
      "model_module": "@jupyter-widgets/base",
      "model_module_version": "1.2.0",
      "model_name": "LayoutModel",
      "state": {}
     },
     "da4173dcda744e4282bd5002fafbffc8": {
      "model_module": "@jupyter-widgets/controls",
      "model_module_version": "1.5.0",
      "model_name": "HTMLModel",
      "state": {
       "layout": "IPY_MODEL_0c34d5bd72fe4bc2822caab2b085061d",
       "style": "IPY_MODEL_31dad6025b5e488982ef96b9a4883679",
       "value": "<i>Wählen Sie die <ins>eine</ins> korrekte Antwort aus: </i>"
      }
     },
     "da72fa85df6349958d5ce97b756b179e": {
      "model_module": "@jupyter-widgets/controls",
      "model_module_version": "1.5.0",
      "model_name": "DescriptionStyleModel",
      "state": {
       "description_width": ""
      }
     },
     "da969c1c17de4c41aa9a7a323624622c": {
      "model_module": "@jupyter-widgets/controls",
      "model_module_version": "1.5.0",
      "model_name": "DescriptionStyleModel",
      "state": {
       "description_width": ""
      }
     },
     "da9808b6cbde4626893a5b7512c3f68d": {
      "model_module": "@jupyter-widgets/base",
      "model_module_version": "1.2.0",
      "model_name": "LayoutModel",
      "state": {}
     },
     "dabb3d98439d4f21a06b26d7ddc2c9ab": {
      "model_module": "@jupyter-widgets/controls",
      "model_module_version": "1.5.0",
      "model_name": "DescriptionStyleModel",
      "state": {
       "description_width": "initial"
      }
     },
     "dad30724c1bf4916a8cec97eeb6250a5": {
      "model_module": "@jupyter-widgets/base",
      "model_module_version": "1.2.0",
      "model_name": "LayoutModel",
      "state": {
       "justify_content": "center"
      }
     },
     "dad5921da8ff4865a17dd55312899627": {
      "model_module": "@jupyter-widgets/controls",
      "model_module_version": "1.5.0",
      "model_name": "CheckboxModel",
      "state": {
       "description": "Loopen über bereits erkannte Chunk-Muster",
       "disabled": false,
       "layout": "IPY_MODEL_78d266e9a8ca42e4a8103835c98c49d9",
       "style": "IPY_MODEL_b6323a0b3eb94e5092406b993022cee8",
       "value": false
      }
     },
     "dae768f34938441b8ab84bd3b264e62c": {
      "model_module": "@jupyter-widgets/controls",
      "model_module_version": "1.5.0",
      "model_name": "DescriptionStyleModel",
      "state": {
       "description_width": "initial"
      }
     },
     "db2672871ea642b693b33267a16179cb": {
      "model_module": "@jupyter-widgets/controls",
      "model_module_version": "1.5.0",
      "model_name": "CheckboxModel",
      "state": {
       "description": "Precision = true positives / true negatives",
       "disabled": false,
       "layout": "IPY_MODEL_63eba21197e340118d170f3555c4ba30",
       "style": "IPY_MODEL_3572febb1ba142ffb96dea3f0ece8d82",
       "value": false
      }
     },
     "db2c968fa36a4a4e83a5102f24366fd1": {
      "model_module": "@jupyter-widgets/controls",
      "model_module_version": "1.5.0",
      "model_name": "ButtonModel",
      "state": {
       "description": "XML-Tags",
       "layout": "IPY_MODEL_0f07a8aebcfc4dc8999fffad31ccf8bb",
       "style": "IPY_MODEL_7b965fdc689049a093a2ec6eaf1f98df"
      }
     },
     "db3cb52709264f69a52f4d23f8e5b523": {
      "model_module": "@jupyter-widgets/base",
      "model_module_version": "1.2.0",
      "model_name": "LayoutModel",
      "state": {
       "width": "250px"
      }
     },
     "db4ca59eb7a5408a8b4fc1d3ce087379": {
      "model_module": "@jupyter-widgets/base",
      "model_module_version": "1.2.0",
      "model_name": "LayoutModel",
      "state": {
       "width": "600px"
      }
     },
     "db5ba9bb96c34e4a92e5f8fb12f28299": {
      "model_module": "@jupyter-widgets/base",
      "model_module_version": "1.2.0",
      "model_name": "LayoutModel",
      "state": {}
     },
     "db7679f8480645ea85f433acc0c0854b": {
      "model_module": "@jupyter-widgets/controls",
      "model_module_version": "1.5.0",
      "model_name": "DescriptionStyleModel",
      "state": {
       "description_width": "initial"
      }
     },
     "db9bafb6da594bfaa82e33b72abf23c7": {
      "model_module": "@jupyter-widgets/controls",
      "model_module_version": "1.5.0",
      "model_name": "ButtonModel",
      "state": {
       "description": "Korrekt?",
       "layout": "IPY_MODEL_f4a4f6efa4fb45b3a38bb256c7d85668",
       "style": "IPY_MODEL_d6636da567b746aba049650a8a0e645a"
      }
     },
     "dbad67aa1b3245d6a091d5ab8dcbc4b5": {
      "model_module": "@jupyter-widgets/controls",
      "model_module_version": "1.5.0",
      "model_name": "HTMLModel",
      "state": {
       "layout": "IPY_MODEL_4a1e5b1faa364e27bb955db9c7b96c78",
       "style": "IPY_MODEL_606dbd1a0f9c4d0b97e8775c4f6743ea",
       "value": "<i>Wählen Sie die <ins>eine</ins> korrekte Antwort aus: </i>"
      }
     },
     "dbb9a8ff194647598765e347b42688c6": {
      "model_module": "@jupyter-widgets/controls",
      "model_module_version": "1.5.0",
      "model_name": "VBoxModel",
      "state": {
       "children": [
        "IPY_MODEL_3f23f63f7d84413a8f3a65a74b6d4ba3",
        "IPY_MODEL_ff60448d3e0042fd9ee1d5a04042ac9d",
        "IPY_MODEL_1aab2ea915a04bc79bb8b1e57b3abc1d",
        "IPY_MODEL_708250d8c34546be9af89acc81a1f824"
       ],
       "layout": "IPY_MODEL_ca7f21d9d0184c2d9b78b62036a82452"
      }
     },
     "dc0a94d7a0ff4e809fa69ab619968d8c": {
      "model_module": "@jupyter-widgets/controls",
      "model_module_version": "1.5.0",
      "model_name": "ButtonStyleModel",
      "state": {}
     },
     "dc0c8c78a6104d4d9d1037ee41951f87": {
      "model_module": "@jupyter-widgets/controls",
      "model_module_version": "1.5.0",
      "model_name": "ButtonModel",
      "state": {
       "description": "center embedding",
       "layout": "IPY_MODEL_26eac42c410f4019912edab7095ed476",
       "style": "IPY_MODEL_ba7083aca9bb4d9ba13bdd1d8fc0dcb1"
      }
     },
     "dc54484b5b3e46f89f1739eed6fb4ce1": {
      "model_module": "@jupyter-widgets/controls",
      "model_module_version": "1.5.0",
      "model_name": "ButtonModel",
      "state": {
       "description": "garden-path sentence",
       "layout": "IPY_MODEL_4aa78df10a3748c3b037310d3e2419a5",
       "style": "IPY_MODEL_78f8ab0028894179b3c819e145829c53"
      }
     },
     "dc55e5a1b3fd48a4b0681504454d3692": {
      "model_module": "@jupyter-widgets/base",
      "model_module_version": "1.2.0",
      "model_name": "LayoutModel",
      "state": {
       "width": "250px"
      }
     },
     "dc83ece326cf49e0ad93b00d9e3c54d8": {
      "model_module": "@jupyter-widgets/controls",
      "model_module_version": "1.5.0",
      "model_name": "ButtonStyleModel",
      "state": {}
     },
     "dc8f7590816842f08229dedf8a57f1a0": {
      "model_module": "@jupyter-widgets/base",
      "model_module_version": "1.2.0",
      "model_name": "LayoutModel",
      "state": {}
     },
     "dcbe2f554efc41e6b00dadd40b1ddd6a": {
      "model_module": "@jupyter-widgets/controls",
      "model_module_version": "1.5.0",
      "model_name": "HTMLModel",
      "state": {
       "layout": "IPY_MODEL_970871b928b142669d2d8189bb857c08",
       "style": "IPY_MODEL_f41509dd8e654ab7aa3f87803f0191ee",
       "value": "<h4 style=\"font-size:14px;\">Wodurch kann mit einem RegexpParser eine hierarchische Chunk-Struktur aufgebaut werden (ähnlicher den hierarchischen Analysen mit einer Phrasenstrukturgrammatik)?</h4>"
      }
     },
     "dccbde909098431faf92bf8b21d07759": {
      "model_module": "@jupyter-widgets/controls",
      "model_module_version": "1.5.0",
      "model_name": "ButtonModel",
      "state": {
       "description": "Keine der anderen Möglichkeiten",
       "layout": "IPY_MODEL_9ce5a05508114d958eaf4efb153b4ed0",
       "style": "IPY_MODEL_42569d2d2108434a97a5b665abb9e437"
      }
     },
     "dce06b10f7b64aa5b4de8acd486bafc3": {
      "model_module": "@jupyter-widgets/controls",
      "model_module_version": "1.5.0",
      "model_name": "HBoxModel",
      "state": {
       "children": [
        "IPY_MODEL_975842e03a2d47e99a6877f452a6e0e3",
        "IPY_MODEL_3085ce6d37524116bb3c7d2a10664e09"
       ],
       "layout": "IPY_MODEL_ffa8c188b35a407ab2f91492a86a639b"
      }
     },
     "dce57faa1b0643c0b6cfd3b87c49b1f7": {
      "model_module": "@jupyter-widgets/base",
      "model_module_version": "1.2.0",
      "model_name": "LayoutModel",
      "state": {}
     },
     "dd1019d8d65b4de6a09aab7513b533f4": {
      "model_module": "@jupyter-widgets/controls",
      "model_module_version": "1.5.0",
      "model_name": "DescriptionStyleModel",
      "state": {
       "description_width": ""
      }
     },
     "dd11de7ecc724c58b2e957e58debdc96": {
      "model_module": "@jupyter-widgets/controls",
      "model_module_version": "1.5.0",
      "model_name": "HTMLModel",
      "state": {
       "layout": "IPY_MODEL_2e8c96f53f5543ada0f80198b2e7efb1",
       "style": "IPY_MODEL_ca94afca665848bdb2371fdddaf35194",
       "value": "<h4 style=\"font-size:14px;\">Welche der Formeln berechnen Precision, Recall, Accuracy und F1-Score korrekt?</h4>"
      }
     },
     "dd42dc272120444daa1a472e3dddf292": {
      "model_module": "@jupyter-widgets/controls",
      "model_module_version": "1.5.0",
      "model_name": "ButtonStyleModel",
      "state": {}
     },
     "dd5fb05c506e4eba87f46d01dbf004cf": {
      "model_module": "@jupyter-widgets/base",
      "model_module_version": "1.2.0",
      "model_name": "LayoutModel",
      "state": {
       "justify_content": "center"
      }
     },
     "dd84b43972a346b9a4ea21189d7ea2c3": {
      "model_module": "@jupyter-widgets/controls",
      "model_module_version": "1.5.0",
      "model_name": "ButtonStyleModel",
      "state": {}
     },
     "dda7e6f8d73f4825b56a71d24dcfba15": {
      "model_module": "@jupyter-widgets/controls",
      "model_module_version": "1.5.0",
      "model_name": "DescriptionStyleModel",
      "state": {
       "description_width": ""
      }
     },
     "ddb029d7b42f484b93adea6a86426858": {
      "model_module": "@jupyter-widgets/controls",
      "model_module_version": "1.5.0",
      "model_name": "HTMLModel",
      "state": {
       "layout": "IPY_MODEL_1f3864ab74d84146a8db3f729ad37dd8",
       "style": "IPY_MODEL_e07c2bc1f0ea41fcaf9d3fe363390575",
       "value": "<h4 style=\"font-size:14px;\">Welche Klammern zeigen Chunking an?</h4>"
      }
     },
     "ddb16644cfa84fae9332ebb92108ac84": {
      "model_module": "@jupyter-widgets/controls",
      "model_module_version": "1.5.0",
      "model_name": "HTMLModel",
      "state": {
       "layout": "IPY_MODEL_d9f63d45b76a4d5898f59d692944cdea",
       "style": "IPY_MODEL_333e522cb363411e99984fac7e31c234",
       "value": "<i>Markieren Sie <ins>alle</ins> passenden Antworten: </i>"
      }
     },
     "ddb23c34045b4b078846142a9d9d5b49": {
      "model_module": "@jupyter-widgets/controls",
      "model_module_version": "1.5.0",
      "model_name": "VBoxModel",
      "state": {
       "children": [
        "IPY_MODEL_928025ef1cd94dbd984c1d8ef0e2ae05",
        "IPY_MODEL_51503ca9048b49dfb7b578165d086864",
        "IPY_MODEL_aa210b07ade347f0a1b52d6e8ff0cd94"
       ],
       "layout": "IPY_MODEL_fc780688eb3a4eb4a944865a2358880d"
      }
     },
     "ddcc20997c4b48a0b1b7d57276a1a856": {
      "model_module": "@jupyter-widgets/base",
      "model_module_version": "1.2.0",
      "model_name": "LayoutModel",
      "state": {
       "width": "250px"
      }
     },
     "de0698c230e44108a2f66411312b88b9": {
      "model_module": "@jupyter-widgets/controls",
      "model_module_version": "1.5.0",
      "model_name": "ButtonModel",
      "state": {
       "description": "rekursiv aufzählbar",
       "layout": "IPY_MODEL_b36dfd2ac51640cdaae4348a46649989",
       "style": "IPY_MODEL_f558954adb1d42a9a271af228a8074f7"
      }
     },
     "de1a56395001453bbabc12f039f329f1": {
      "model_module": "@jupyter-widgets/base",
      "model_module_version": "1.2.0",
      "model_name": "LayoutModel",
      "state": {}
     },
     "de1a928de313453fb4b9ebc54e5c8816": {
      "model_module": "@jupyter-widgets/controls",
      "model_module_version": "1.5.0",
      "model_name": "HTMLModel",
      "state": {
       "layout": "IPY_MODEL_15f01493f54841aa95a67117b65c5584",
       "style": "IPY_MODEL_0ba9421c556545558e9842d3af65aa4c",
       "value": "<i>Wählen Sie die <ins>eine</ins> korrekte Antwort aus: </i>"
      }
     },
     "de465c6fb1ff45ce8547fdccffa81c41": {
      "model_module": "@jupyter-widgets/controls",
      "model_module_version": "1.5.0",
      "model_name": "HTMLModel",
      "state": {
       "layout": "IPY_MODEL_8301fffd17a246b78550eeea883038a5",
       "style": "IPY_MODEL_a00a10f40f4a41938341f750d8aa7f7e",
       "value": "<h4 style=\"font-size:14px;\">Um was für ein Sprachkonstrukt handelt es sich?</h4>"
      }
     },
     "de57bd359e2a448eaad82f422141c6f6": {
      "model_module": "@jupyter-widgets/controls",
      "model_module_version": "1.5.0",
      "model_name": "DescriptionStyleModel",
      "state": {
       "description_width": ""
      }
     },
     "de631353fdfd4a2ebcb947aef5b3b5ce": {
      "model_module": "@jupyter-widgets/controls",
      "model_module_version": "1.5.0",
      "model_name": "DropdownModel",
      "state": {
       "_options_labels": [
        "1",
        "2",
        "3",
        "4",
        "Keine der Alternativen"
       ],
       "description": "Antwort:",
       "index": 0,
       "layout": "IPY_MODEL_f84a931a4adc4121b8e308b536e04fe9",
       "style": "IPY_MODEL_92224841bdbd4d19b7a5e662d8f261c8"
      }
     },
     "de70121ec48d42e887b24c6e529bda62": {
      "model_module": "@jupyter-widgets/controls",
      "model_module_version": "1.5.0",
      "model_name": "DescriptionStyleModel",
      "state": {
       "description_width": ""
      }
     },
     "df264f2cc5d44954871537f3957f717b": {
      "model_module": "@jupyter-widgets/controls",
      "model_module_version": "1.5.0",
      "model_name": "CheckboxModel",
      "state": {
       "description": "zwei Chunks werden zu einem größeren zusammengefasst",
       "disabled": false,
       "layout": "IPY_MODEL_c989870b72904bc0973a9a55d78cbdf0",
       "style": "IPY_MODEL_89f91dc375d9403b9f3a640217330258",
       "value": false
      }
     },
     "df5d93c3228e47caba98a5b9de2f8776": {
      "model_module": "@jupyter-widgets/controls",
      "model_module_version": "1.5.0",
      "model_name": "DescriptionStyleModel",
      "state": {
       "description_width": "initial"
      }
     },
     "df8ffdad8b924a538cd9d8069d8fa25e": {
      "model_module": "@jupyter-widgets/controls",
      "model_module_version": "1.5.0",
      "model_name": "VBoxModel",
      "state": {
       "children": [
        "IPY_MODEL_6055a351911e445887c1ac0e53285df2",
        "IPY_MODEL_cee07fab14f0485d8854296b4815d0d1",
        "IPY_MODEL_92ff561f2ade442eac17a4c5c8979fe9",
        "IPY_MODEL_fb23db4e3181475cbdc23f5f7b91e469"
       ],
       "layout": "IPY_MODEL_295077fde20d44d1a4682d6028d87a81"
      }
     },
     "df991dcd9f474fa9bffd07f44599c67a": {
      "model_module": "@jupyter-widgets/controls",
      "model_module_version": "1.5.0",
      "model_name": "VBoxModel",
      "state": {
       "children": [
        "IPY_MODEL_f53624807c644e7598df55d7ff99f175",
        "IPY_MODEL_2674538e7740479698ce01d6098c7f67",
        "IPY_MODEL_27852f3f84064436ade2937ddc90f532",
        "IPY_MODEL_d1ab94f4fdbc43dea4fa693dafa8cabc"
       ],
       "layout": "IPY_MODEL_a6901e0fb7c749b089a57eca6c0fa904"
      }
     },
     "dfad95b7fbf84c8daee718bd270015f2": {
      "model_module": "@jupyter-widgets/controls",
      "model_module_version": "1.5.0",
      "model_name": "HBoxModel",
      "state": {
       "children": [
        "IPY_MODEL_5a3546c85aa14bc2822169ff7937c1f6",
        "IPY_MODEL_e40e517e49ea445792615a872e8b40ce"
       ],
       "layout": "IPY_MODEL_7bc49c2b6e9449df92d00adbd1fc5061"
      }
     },
     "dfc1c541283844e69d6e1e7fa91bc2f4": {
      "model_module": "@jupyter-widgets/base",
      "model_module_version": "1.2.0",
      "model_name": "LayoutModel",
      "state": {}
     },
     "dfec857b54814fb98860f9b180f258ff": {
      "model_module": "@jupyter-widgets/controls",
      "model_module_version": "1.5.0",
      "model_name": "HBoxModel",
      "state": {
       "children": [
        "IPY_MODEL_762049428e6e45ae942d6f65670c913c",
        "IPY_MODEL_6dd5d2d2ffd24e88abe6d5fb3bc77ae4"
       ],
       "layout": "IPY_MODEL_e840d8e49b9242fe973c886491c2da0f"
      }
     },
     "e03fcd4f674e4c299c8febb9e8a282b4": {
      "model_module": "@jupyter-widgets/controls",
      "model_module_version": "1.5.0",
      "model_name": "HBoxModel",
      "state": {
       "children": [
        "IPY_MODEL_4e9a9696460144c5bb94c82ee848a045",
        "IPY_MODEL_8b734ca52d8a4adaab7b233860b17ea2"
       ],
       "layout": "IPY_MODEL_b255079efc58406293dbdd020dc2e49f"
      }
     },
     "e070c0c2f35f4ae3821e8c9dbce788f0": {
      "model_module": "@jupyter-widgets/base",
      "model_module_version": "1.2.0",
      "model_name": "LayoutModel",
      "state": {}
     },
     "e07c2bc1f0ea41fcaf9d3fe363390575": {
      "model_module": "@jupyter-widgets/controls",
      "model_module_version": "1.5.0",
      "model_name": "DescriptionStyleModel",
      "state": {
       "description_width": ""
      }
     },
     "e0a8bdbc5ff54d7e9936cfb51885c5cc": {
      "model_module": "@jupyter-widgets/controls",
      "model_module_version": "1.5.0",
      "model_name": "HBoxModel",
      "state": {
       "children": [
        "IPY_MODEL_2b0b0a8befe14a7486b3e67a290c277f",
        "IPY_MODEL_a9e57a0627f54e1a818299a95784c351"
       ],
       "layout": "IPY_MODEL_84665866e81e4bf4a0b852ba6b179dc1"
      }
     },
     "e0b18c39d2c34be3b46cccc43c49085e": {
      "model_module": "@jupyter-widgets/controls",
      "model_module_version": "1.5.0",
      "model_name": "DescriptionStyleModel",
      "state": {
       "description_width": "initial"
      }
     },
     "e0bfdee942d648cf92acc27f74f4d588": {
      "model_module": "@jupyter-widgets/controls",
      "model_module_version": "1.5.0",
      "model_name": "DescriptionStyleModel",
      "state": {
       "description_width": "initial"
      }
     },
     "e0cdd4e2ee044a5f912f6d597dd620a6": {
      "model_module": "@jupyter-widgets/base",
      "model_module_version": "1.2.0",
      "model_name": "LayoutModel",
      "state": {
       "justify_content": "center"
      }
     },
     "e0e19727025c44b4a7175be02fcae2e9": {
      "model_module": "@jupyter-widgets/controls",
      "model_module_version": "1.5.0",
      "model_name": "ButtonStyleModel",
      "state": {}
     },
     "e0e406d3b8e04b49a3ae3ea3500987ab": {
      "model_module": "@jupyter-widgets/base",
      "model_module_version": "1.2.0",
      "model_name": "LayoutModel",
      "state": {}
     },
     "e10088760ab7400e87eb94e206bc1aa6": {
      "model_module": "@jupyter-widgets/base",
      "model_module_version": "1.2.0",
      "model_name": "LayoutModel",
      "state": {}
     },
     "e117cb18f0264f6580d14c9b06778d1e": {
      "model_module": "@jupyter-widgets/base",
      "model_module_version": "1.2.0",
      "model_name": "LayoutModel",
      "state": {}
     },
     "e1208dba6dea485a970d9f70dee32c67": {
      "model_module": "@jupyter-widgets/controls",
      "model_module_version": "1.5.0",
      "model_name": "ButtonStyleModel",
      "state": {}
     },
     "e14a22dc426a45f78afe47fb3b5261e8": {
      "model_module": "@jupyter-widgets/controls",
      "model_module_version": "1.5.0",
      "model_name": "ButtonModel",
      "state": {
       "description": "{ }",
       "layout": "IPY_MODEL_3b8e948c935e45e49e547de875d35d56",
       "style": "IPY_MODEL_2a34a69dad0540f8b3f695aa7171383f"
      }
     },
     "e16758a42c4647e8a8640b837ef84812": {
      "model_module": "@jupyter-widgets/controls",
      "model_module_version": "1.5.0",
      "model_name": "CheckboxModel",
      "state": {
       "description": "ein vorher erkannter Chunk wird nicht mehr erkannt",
       "disabled": false,
       "layout": "IPY_MODEL_ae7579fca35d4811beac8766983482b7",
       "style": "IPY_MODEL_67152635529a49a196d4f9ef086417d5",
       "value": false
      }
     },
     "e186ac671e8941348768ea0736554261": {
      "model_module": "@jupyter-widgets/controls",
      "model_module_version": "1.5.0",
      "model_name": "HTMLModel",
      "state": {
       "layout": "IPY_MODEL_82e19fbdfe3347b49a9ca825ef645e40",
       "style": "IPY_MODEL_0f56c9e05ce848958bbc4dc3d5039fa4",
       "value": "<i>Markieren Sie <ins>alle</ins> passenden Antworten: </i>"
      }
     },
     "e19b979235b844e092be75f4293c7cc1": {
      "model_module": "@jupyter-widgets/base",
      "model_module_version": "1.2.0",
      "model_name": "LayoutModel",
      "state": {
       "width": "250px"
      }
     },
     "e1bb9dca8d704bb9acf3e06fcac8be7f": {
      "model_module": "@jupyter-widgets/base",
      "model_module_version": "1.2.0",
      "model_name": "LayoutModel",
      "state": {
       "width": "250px"
      }
     },
     "e1eb33e5904746339331fb0882e3fc56": {
      "model_module": "@jupyter-widgets/controls",
      "model_module_version": "1.5.0",
      "model_name": "ButtonModel",
      "state": {
       "description": "Korrekt?",
       "layout": "IPY_MODEL_f3beb72644d34b969e5c8939ffd216b0",
       "style": "IPY_MODEL_2415850bcb824a71a43fc1631c6dad23"
      }
     },
     "e2636242958e43d1a0287052be6ac473": {
      "model_module": "@jupyter-widgets/controls",
      "model_module_version": "1.5.0",
      "model_name": "VBoxModel",
      "state": {
       "children": [
        "IPY_MODEL_5a54e860f2864a1d87708f66b6254728",
        "IPY_MODEL_ddb16644cfa84fae9332ebb92108ac84",
        "IPY_MODEL_286696b464df46298694fafd48bef09c",
        "IPY_MODEL_bfc5eed21682428585d97da09271cdc4"
       ],
       "layout": "IPY_MODEL_a948a7028348474091a0d73ccbbafeb9"
      }
     },
     "e268468230e14626b0ca2363ca05bf5d": {
      "model_module": "@jupyter-widgets/base",
      "model_module_version": "1.2.0",
      "model_name": "LayoutModel",
      "state": {}
     },
     "e282dbd59acd4f35b998b222daa7754e": {
      "model_module": "@jupyter-widgets/controls",
      "model_module_version": "1.5.0",
      "model_name": "DescriptionStyleModel",
      "state": {
       "description_width": ""
      }
     },
     "e2b1c20bee994c6eb0c76b210b302c30": {
      "model_module": "@jupyter-widgets/controls",
      "model_module_version": "1.5.0",
      "model_name": "ButtonModel",
      "state": {
       "description": "garden-path sentence",
       "layout": "IPY_MODEL_1838d3554edd4ab992dc15414721d806",
       "style": "IPY_MODEL_7d4915fd436e4d428e340c08223a9ffd"
      }
     },
     "e2c25ce224e24c02b530f311bbf51174": {
      "model_module": "@jupyter-widgets/controls",
      "model_module_version": "1.5.0",
      "model_name": "VBoxModel",
      "state": {
       "children": [
        "IPY_MODEL_5e04aa4a76924d9d8a59cbd0fc62b0ba",
        "IPY_MODEL_29beacd91e384f22ae8eeb8c6823b6b7",
        "IPY_MODEL_05632719870c44e7a131126cd1d26de8",
        "IPY_MODEL_12be037e365642fba536acfbc33b412a"
       ],
       "layout": "IPY_MODEL_eb79d671286a4e619c4e266ba484c1d7"
      }
     },
     "e2cb7ab156124215a9efa77d90d0f023": {
      "model_module": "@jupyter-widgets/controls",
      "model_module_version": "1.5.0",
      "model_name": "ButtonStyleModel",
      "state": {}
     },
     "e2d0eb1b810a4d209b71bba4ef0c6b72": {
      "model_module": "@jupyter-widgets/controls",
      "model_module_version": "1.5.0",
      "model_name": "DescriptionStyleModel",
      "state": {
       "description_width": "initial"
      }
     },
     "e2d2ec332e5e4a178747daece5c93086": {
      "model_module": "@jupyter-widgets/base",
      "model_module_version": "1.2.0",
      "model_name": "LayoutModel",
      "state": {
       "width": "250px"
      }
     },
     "e2d9f8b82bf4451bac73ac39d1eddabf": {
      "model_module": "@jupyter-widgets/controls",
      "model_module_version": "1.5.0",
      "model_name": "ButtonStyleModel",
      "state": {}
     },
     "e2e77c85b0d94392a2cb52f761b04a15": {
      "model_module": "@jupyter-widgets/base",
      "model_module_version": "1.2.0",
      "model_name": "LayoutModel",
      "state": {}
     },
     "e2efb679294244408c27d9a8e00ade2c": {
      "model_module": "@jupyter-widgets/controls",
      "model_module_version": "1.5.0",
      "model_name": "DescriptionStyleModel",
      "state": {
       "description_width": ""
      }
     },
     "e301210333fd481a954a7b6ddbf2fc92": {
      "model_module": "@jupyter-widgets/controls",
      "model_module_version": "1.5.0",
      "model_name": "ButtonModel",
      "state": {
       "description": "Ja",
       "layout": "IPY_MODEL_69fb361792bc481e975e7d88b33ade11",
       "style": "IPY_MODEL_371010b554cb42eb8cd165b7e61ffcef"
      }
     },
     "e34b0ca9fcfe47369c441bf16c0aa4d9": {
      "model_module": "@jupyter-widgets/controls",
      "model_module_version": "1.5.0",
      "model_name": "DescriptionStyleModel",
      "state": {
       "description_width": ""
      }
     },
     "e362042765cc4c3393fe7144cae89900": {
      "model_module": "@jupyter-widgets/controls",
      "model_module_version": "1.5.0",
      "model_name": "ButtonModel",
      "state": {
       "description": "Keine der anderen Möglichkeiten",
       "layout": "IPY_MODEL_4296928c388f4338a7735b8cc5fb9ba6",
       "style": "IPY_MODEL_1e0af16d21d74ebe88498bc29e3c3186"
      }
     },
     "e3968d51f2de49fe80119cc21f6a945e": {
      "model_module": "@jupyter-widgets/controls",
      "model_module_version": "1.5.0",
      "model_name": "HTMLModel",
      "state": {
       "layout": "IPY_MODEL_5dae379bbcee4e2cae750af30c947fa9",
       "style": "IPY_MODEL_d0ce5a1882c045749e5cabb29559d88f",
       "value": "<h4 style=\"font-size:14px;\">Welche Rekursionstiefe hat der Satz?</h4>"
      }
     },
     "e39d2f1bd5674c91a274e41fc0f54317": {
      "model_module": "@jupyter-widgets/controls",
      "model_module_version": "1.5.0",
      "model_name": "ButtonModel",
      "state": {
       "description": "Nein",
       "layout": "IPY_MODEL_cca3050757894a9b8f58fef790047cce",
       "style": "IPY_MODEL_3ffb689f26704ee9a244d0564bb8d062"
      }
     },
     "e3a251949c074de28b62c7761eb47a81": {
      "model_module": "@jupyter-widgets/base",
      "model_module_version": "1.2.0",
      "model_name": "LayoutModel",
      "state": {}
     },
     "e3cb991ff4ed491dba048e8bbe280c3a": {
      "model_module": "@jupyter-widgets/base",
      "model_module_version": "1.2.0",
      "model_name": "LayoutModel",
      "state": {
       "justify_content": "center"
      }
     },
     "e3ec373662104c0cac5187d9e95d158a": {
      "model_module": "@jupyter-widgets/base",
      "model_module_version": "1.2.0",
      "model_name": "LayoutModel",
      "state": {}
     },
     "e3ef1be6b1b048f5b06a0248c1de2b3d": {
      "model_module": "@jupyter-widgets/controls",
      "model_module_version": "1.5.0",
      "model_name": "CheckboxModel",
      "state": {
       "description": "Chunks sind oft länger als Phrasen.",
       "disabled": false,
       "layout": "IPY_MODEL_3c8aac8ec1564a268dbeee99cdd56386",
       "style": "IPY_MODEL_7122bfc60bcb4fbdba5dbbb37f62ebdc",
       "value": false
      }
     },
     "e3f3ec153a774f04939555e976aeffc4": {
      "model_module": "@jupyter-widgets/controls",
      "model_module_version": "1.5.0",
      "model_name": "ButtonModel",
      "state": {
       "description": "Keine der anderen Möglichkeiten",
       "layout": "IPY_MODEL_8c0377e7b8b44df8a5c432af3d7b4dd1",
       "style": "IPY_MODEL_366d67f36a394127a0279e6f314b9d45"
      }
     },
     "e40e517e49ea445792615a872e8b40ce": {
      "model_module": "@jupyter-widgets/controls",
      "model_module_version": "1.5.0",
      "model_name": "ButtonModel",
      "state": {
       "description": "part-of-speech tags",
       "layout": "IPY_MODEL_27ee66e9ff684188a31a8a18de675f47",
       "style": "IPY_MODEL_18d1d0022fd34ed4ae84548568fe4a52"
      }
     },
     "e423381706ca4e1e8073b081aa72f07d": {
      "model_module": "@jupyter-widgets/controls",
      "model_module_version": "1.5.0",
      "model_name": "ButtonStyleModel",
      "state": {}
     },
     "e46ba66dc4d2464fa620db6f23c369a7": {
      "model_module": "@jupyter-widgets/controls",
      "model_module_version": "1.5.0",
      "model_name": "VBoxModel",
      "state": {
       "children": [
        "IPY_MODEL_5f5360f0b8454ab89b715b6fa3cb7d8b",
        "IPY_MODEL_ad36e446838341d59523be84bc2d329e",
        "IPY_MODEL_0ecc45e0a7bc4861ab502816d32316d4"
       ],
       "layout": "IPY_MODEL_46c29c978b414c38bc922df27b15c202"
      }
     },
     "e471c2bd50f947a1abbf9dbfaf55a4d2": {
      "model_module": "@jupyter-widgets/base",
      "model_module_version": "1.2.0",
      "model_name": "LayoutModel",
      "state": {
       "justify_content": "center"
      }
     },
     "e488902cab284a669f145659a7d7a4fc": {
      "model_module": "@jupyter-widgets/controls",
      "model_module_version": "1.5.0",
      "model_name": "DescriptionStyleModel",
      "state": {
       "description_width": "initial"
      }
     },
     "e4ca749f54164a828f5eabbb7773f28f": {
      "model_module": "@jupyter-widgets/controls",
      "model_module_version": "1.5.0",
      "model_name": "HTMLModel",
      "state": {
       "layout": "IPY_MODEL_fbfb95b9453642048c83444be775ae3b",
       "style": "IPY_MODEL_925137140a594c06aac6c8b489d07d01",
       "value": "<h4 style=\"font-size:14px;\">Welche Klammern zeigen Chunking an?</h4>"
      }
     },
     "e4e2ea5229124955ad50cbc82cdf3adf": {
      "model_module": "@jupyter-widgets/controls",
      "model_module_version": "1.5.0",
      "model_name": "ButtonStyleModel",
      "state": {}
     },
     "e509db7f6f7748f29f28dc4bc2611df7": {
      "model_module": "@jupyter-widgets/controls",
      "model_module_version": "1.5.0",
      "model_name": "VBoxModel",
      "state": {
       "children": [
        "IPY_MODEL_b27bf059cb6845eb86d8f3e6c505fdb3",
        "IPY_MODEL_2762fcc6c1fc49d0801a823d5a6365e1",
        "IPY_MODEL_04b6cd1fa0574d94ae009b243eca1a89",
        "IPY_MODEL_207418eac3e64b31a61d51d70463d909"
       ],
       "layout": "IPY_MODEL_2dab074f7dbb466baf44d2ced0cb22da"
      }
     },
     "e528e85170d347bd917bba4a76d8de7c": {
      "model_module": "@jupyter-widgets/base",
      "model_module_version": "1.2.0",
      "model_name": "LayoutModel",
      "state": {
       "width": "500px"
      }
     },
     "e5316eb24188482fb8fad7d0ffedecb8": {
      "model_module": "@jupyter-widgets/base",
      "model_module_version": "1.2.0",
      "model_name": "LayoutModel",
      "state": {
       "width": "250px"
      }
     },
     "e557963db4df44a19ac4fe10bb33906d": {
      "model_module": "@jupyter-widgets/controls",
      "model_module_version": "1.5.0",
      "model_name": "VBoxModel",
      "state": {
       "children": [
        "IPY_MODEL_a176687017704aafba3f5dbbbe1e004b",
        "IPY_MODEL_2be917c7e67f4eb08db4bac989215fbd",
        "IPY_MODEL_616cc87581cc4c6d8bafcd29ae8f4962",
        "IPY_MODEL_beb9be66ee5142789fa4792834fa0093",
        "IPY_MODEL_6b05919150a04f33b61e3cafdd1e6141",
        "IPY_MODEL_a906290b1bca4b0c883201d04855fb12",
        "IPY_MODEL_11a406a6a154476198ecaab5655a5488",
        "IPY_MODEL_ba61ee090e934372ad657fb9fa30c1df"
       ],
       "layout": "IPY_MODEL_c6ef51e266f54cc89c4cfa3b5983ecf3"
      }
     },
     "e566184b094f4ffc90cddf514cebbe5f": {
      "model_module": "@jupyter-widgets/controls",
      "model_module_version": "1.5.0",
      "model_name": "ButtonStyleModel",
      "state": {}
     },
     "e5790af5a73e4f78adadf90dbff7e06f": {
      "model_module": "@jupyter-widgets/controls",
      "model_module_version": "1.5.0",
      "model_name": "DescriptionStyleModel",
      "state": {
       "description_width": "initial"
      }
     },
     "e58dc96dfe4948db9960136eb577fd45": {
      "model_module": "@jupyter-widgets/base",
      "model_module_version": "1.2.0",
      "model_name": "LayoutModel",
      "state": {
       "justify_content": "center"
      }
     },
     "e5b767982bec4969b87c7f7e687478e7": {
      "model_module": "@jupyter-widgets/controls",
      "model_module_version": "1.5.0",
      "model_name": "ButtonModel",
      "state": {
       "description": "Nein",
       "layout": "IPY_MODEL_b3fd5e10c9a44537970edb13206ba5cc",
       "style": "IPY_MODEL_f66551beb5a247bdacd3b4816bb9b98b"
      }
     },
     "e5e31cfac402494a8ed231944c35f17b": {
      "model_module": "@jupyter-widgets/base",
      "model_module_version": "1.2.0",
      "model_name": "LayoutModel",
      "state": {}
     },
     "e5f01781a60444fca0ac6413977ded3d": {
      "model_module": "@jupyter-widgets/base",
      "model_module_version": "1.2.0",
      "model_name": "LayoutModel",
      "state": {
       "width": "600px"
      }
     },
     "e622b31640ef4bf79c3f73270b0ca414": {
      "model_module": "@jupyter-widgets/controls",
      "model_module_version": "1.5.0",
      "model_name": "DescriptionStyleModel",
      "state": {
       "description_width": "initial"
      }
     },
     "e655619dc5b84d14af3579e90d285b5c": {
      "model_module": "@jupyter-widgets/controls",
      "model_module_version": "1.5.0",
      "model_name": "VBoxModel",
      "state": {
       "children": [
        "IPY_MODEL_e714570d9ae740fa93bbe3144da96347",
        "IPY_MODEL_f4b27fe621544769a5a48c6290304093",
        "IPY_MODEL_d5226ead0d8444bcbf11cc8f4c2803e6",
        "IPY_MODEL_df264f2cc5d44954871537f3957f717b"
       ],
       "layout": "IPY_MODEL_a7ee1fc5ed8e46088c1ff52940e2b3d9"
      }
     },
     "e6664300906f4013bd1d3198a9742fc0": {
      "model_module": "@jupyter-widgets/controls",
      "model_module_version": "1.5.0",
      "model_name": "VBoxModel",
      "state": {
       "children": [
        "IPY_MODEL_83f96aec6b674317a21492f6c738f38c",
        "IPY_MODEL_13c11f4c42244b5ea7a8b9c855881df2",
        "IPY_MODEL_f7fd872a689144d0857eeef932ff9b82",
        "IPY_MODEL_ed40d410c9e747fca525b5f75e6b2505"
       ],
       "layout": "IPY_MODEL_42b87db6ccd048ac9dc3551b1f2d1829"
      }
     },
     "e6677f95db94406db95047da69050424": {
      "model_module": "@jupyter-widgets/base",
      "model_module_version": "1.2.0",
      "model_name": "LayoutModel",
      "state": {
       "justify_content": "center"
      }
     },
     "e6a2696b4b3a4ecb892b689fe12390b0": {
      "model_module": "@jupyter-widgets/controls",
      "model_module_version": "1.5.0",
      "model_name": "DescriptionStyleModel",
      "state": {
       "description_width": "initial"
      }
     },
     "e6b52f4816c64588972781094a1adfd1": {
      "model_module": "@jupyter-widgets/controls",
      "model_module_version": "1.5.0",
      "model_name": "CheckboxModel",
      "state": {
       "description": "Recall = von allen Instanzen, für die 1 vorhergesagt wurde, wie viele wurden richtig vorhergesagt?",
       "disabled": false,
       "layout": "IPY_MODEL_28db348e6f804b439de80bb56bcc4488",
       "style": "IPY_MODEL_fc6bdadc53c04d50a581fbedd93f67da",
       "value": false
      }
     },
     "e6ce37a8298d461fb8cfa90ff8e9874d": {
      "model_module": "@jupyter-widgets/base",
      "model_module_version": "1.2.0",
      "model_name": "LayoutModel",
      "state": {
       "width": "600px"
      }
     },
     "e6d400208263456fb7b2f22292e86d3e": {
      "model_module": "@jupyter-widgets/base",
      "model_module_version": "1.2.0",
      "model_name": "LayoutModel",
      "state": {
       "width": "250px"
      }
     },
     "e6f85ad7bd0b47fbab362dc554005b91": {
      "model_module": "@jupyter-widgets/base",
      "model_module_version": "1.2.0",
      "model_name": "LayoutModel",
      "state": {
       "width": "250px"
      }
     },
     "e70962cdb1be40b99c357fbd3f6d8293": {
      "model_module": "@jupyter-widgets/controls",
      "model_module_version": "1.5.0",
      "model_name": "DescriptionStyleModel",
      "state": {
       "description_width": ""
      }
     },
     "e714570d9ae740fa93bbe3144da96347": {
      "model_module": "@jupyter-widgets/controls",
      "model_module_version": "1.5.0",
      "model_name": "CheckboxModel",
      "state": {
       "description": "ein Chunk wird in zwei Chunks aufgeteilt",
       "disabled": false,
       "layout": "IPY_MODEL_4206388a37f24319b79b57b78370f01a",
       "style": "IPY_MODEL_87edbb1e0bcd4bbf987b7dbda76ea5f7",
       "value": false
      }
     },
     "e7463fbfbf5e45cf81155ef394214ba5": {
      "model_module": "@jupyter-widgets/base",
      "model_module_version": "1.2.0",
      "model_name": "LayoutModel",
      "state": {
       "width": "600px"
      }
     },
     "e78a3349d786445ba2cd636fb25b7db6": {
      "model_module": "@jupyter-widgets/controls",
      "model_module_version": "1.5.0",
      "model_name": "DescriptionStyleModel",
      "state": {
       "description_width": "initial"
      }
     },
     "e79a303e643e4299bf5f183adcd01b26": {
      "model_module": "@jupyter-widgets/controls",
      "model_module_version": "1.5.0",
      "model_name": "DescriptionStyleModel",
      "state": {
       "description_width": ""
      }
     },
     "e7d6611bf0f446a094c26f3cd37f1204": {
      "model_module": "@jupyter-widgets/controls",
      "model_module_version": "1.5.0",
      "model_name": "ButtonStyleModel",
      "state": {}
     },
     "e7e88d6bf36a46c4986feb7707c677e2": {
      "model_module": "@jupyter-widgets/base",
      "model_module_version": "1.2.0",
      "model_name": "LayoutModel",
      "state": {
       "width": "250px"
      }
     },
     "e7f07367750942088da97f375f88ae14": {
      "model_module": "@jupyter-widgets/base",
      "model_module_version": "1.2.0",
      "model_name": "LayoutModel",
      "state": {}
     },
     "e8242d3b1e4045c58d9e31c3d42bec56": {
      "model_module": "@jupyter-widgets/controls",
      "model_module_version": "1.5.0",
      "model_name": "DescriptionStyleModel",
      "state": {
       "description_width": "initial"
      }
     },
     "e840d8e49b9242fe973c886491c2da0f": {
      "model_module": "@jupyter-widgets/base",
      "model_module_version": "1.2.0",
      "model_name": "LayoutModel",
      "state": {}
     },
     "e851a2f43a0f43bd80ce59fa67cbad38": {
      "model_module": "@jupyter-widgets/base",
      "model_module_version": "1.2.0",
      "model_name": "LayoutModel",
      "state": {}
     },
     "e8535c6b469d414d95b64ebbaba8e4e9": {
      "model_module": "@jupyter-widgets/controls",
      "model_module_version": "1.5.0",
      "model_name": "HBoxModel",
      "state": {
       "children": [
        "IPY_MODEL_6fcf52a62f654df6b35624e1b799845a",
        "IPY_MODEL_c52d6a77b5f44e03973e9281d8628f32"
       ],
       "layout": "IPY_MODEL_6e582dfd25ab4a73a2fc8539340f28ce"
      }
     },
     "e85470da7d3f4085b52c43c39c868fee": {
      "model_module": "@jupyter-widgets/controls",
      "model_module_version": "1.5.0",
      "model_name": "HTMLModel",
      "state": {
       "layout": "IPY_MODEL_5778784afda2413dbaa7cd3de8d8738c",
       "style": "IPY_MODEL_83578ddd857b46798369618b8ac036fd",
       "value": "<i>Wählen Sie die <ins>eine</ins> korrekte Antwort aus: </i>"
      }
     },
     "e8ca087568c2410582a5bc07d5a5b6ab": {
      "model_module": "@jupyter-widgets/controls",
      "model_module_version": "1.5.0",
      "model_name": "ButtonModel",
      "state": {
       "description": "Korrekt?",
       "layout": "IPY_MODEL_738518c5b8aa449081681c8d2d17f617",
       "style": "IPY_MODEL_1c8de0ac57e34ea786eb5bd841987938"
      }
     },
     "e8cde6f188e149a7acfeca5e4e1b2620": {
      "model_module": "@jupyter-widgets/controls",
      "model_module_version": "1.5.0",
      "model_name": "DescriptionStyleModel",
      "state": {
       "description_width": ""
      }
     },
     "e9073d9b6bc542c6a455add7828277b2": {
      "model_module": "@jupyter-widgets/base",
      "model_module_version": "1.2.0",
      "model_name": "LayoutModel",
      "state": {
       "width": "600px"
      }
     },
     "e91c8a1ef246481da18781a25a65f742": {
      "model_module": "@jupyter-widgets/controls",
      "model_module_version": "1.5.0",
      "model_name": "HBoxModel",
      "state": {
       "children": [
        "IPY_MODEL_1c184a2142f54ea8b2ae06738e4b065a",
        "IPY_MODEL_284d8390895348ce92061d80af5f44d7"
       ],
       "layout": "IPY_MODEL_4a0142edeca54ee9be834ebb76fc4d9b"
      }
     },
     "e983b70080164587bd8af91eb13134f4": {
      "model_module": "@jupyter-widgets/controls",
      "model_module_version": "1.5.0",
      "model_name": "CheckboxModel",
      "state": {
       "description": "Verwendung von Chinking-Regeln",
       "disabled": false,
       "layout": "IPY_MODEL_3266469e6c4a404b9400cca864f746b0",
       "style": "IPY_MODEL_adae26f8e56a406297f18f0f1fe86323",
       "value": false
      }
     },
     "e985c6ab7001499bb35df6d3c2ccb10e": {
      "model_module": "@jupyter-widgets/controls",
      "model_module_version": "1.5.0",
      "model_name": "ButtonStyleModel",
      "state": {}
     },
     "e9bf190ea4d746938f272ab65d9b07a8": {
      "model_module": "@jupyter-widgets/base",
      "model_module_version": "1.2.0",
      "model_name": "LayoutModel",
      "state": {
       "width": "250px"
      }
     },
     "e9c14eaaeb4a43cebd28676e4f49fcd2": {
      "model_module": "@jupyter-widgets/controls",
      "model_module_version": "1.5.0",
      "model_name": "HTMLModel",
      "state": {
       "layout": "IPY_MODEL_5e8f0a9a8f7540aa8dc15995e895105f",
       "style": "IPY_MODEL_ea1f152105f641ad8916d9439644b693",
       "value": "<h4 style=\"font-size:14px;\">Welche Klammern zeigen Chunking an?</h4>"
      }
     },
     "e9c5745f54ef41fcbc86a5838846191c": {
      "model_module": "@jupyter-widgets/base",
      "model_module_version": "1.2.0",
      "model_name": "LayoutModel",
      "state": {}
     },
     "ea00965759044840a8d2b9cd81dde673": {
      "model_module": "@jupyter-widgets/controls",
      "model_module_version": "1.5.0",
      "model_name": "HTMLModel",
      "state": {
       "layout": "IPY_MODEL_918fecae8021423d8b874657ac4777dc",
       "style": "IPY_MODEL_e79a303e643e4299bf5f183adcd01b26",
       "value": "<i>Markieren Sie <ins>alle</ins> passenden Antworten: </i>"
      }
     },
     "ea15e7cc1d894ab4924eff81c5187f4c": {
      "model_module": "@jupyter-widgets/base",
      "model_module_version": "1.2.0",
      "model_name": "LayoutModel",
      "state": {
       "width": "600px"
      }
     },
     "ea1f152105f641ad8916d9439644b693": {
      "model_module": "@jupyter-widgets/controls",
      "model_module_version": "1.5.0",
      "model_name": "DescriptionStyleModel",
      "state": {
       "description_width": ""
      }
     },
     "ea23455f16bd40bda32523a9bd4663ed": {
      "model_module": "@jupyter-widgets/base",
      "model_module_version": "1.2.0",
      "model_name": "LayoutModel",
      "state": {
       "width": "250px"
      }
     },
     "ea268b2b3e054f5ab59adb69d88a8e49": {
      "model_module": "@jupyter-widgets/controls",
      "model_module_version": "1.5.0",
      "model_name": "VBoxModel",
      "state": {
       "children": [
        "IPY_MODEL_989a5932cbd94b52872b5c491c233c03",
        "IPY_MODEL_3260743e212c4c08a7f3718f07b96c9d",
        "IPY_MODEL_bc4a24777c904a049655edb791c3dcbd",
        "IPY_MODEL_bdfc9cc66dde4a49bb6f24718dd61591"
       ],
       "layout": "IPY_MODEL_75a15efd2acb4463839a330938582e5d"
      }
     },
     "ea7f64c048954390b2b7885afa33de1c": {
      "model_module": "@jupyter-widgets/controls",
      "model_module_version": "1.5.0",
      "model_name": "HBoxModel",
      "state": {
       "children": [
        "IPY_MODEL_6641b5e6cc8341d58a1fe9b468a2a68c",
        "IPY_MODEL_f631d99db60f4635a0af35872058e509"
       ],
       "layout": "IPY_MODEL_cc684b17ee1c491594ea300124fb8ab5"
      }
     },
     "ea96e1cf8610460fba57588f73d31b0a": {
      "model_module": "@jupyter-widgets/base",
      "model_module_version": "1.2.0",
      "model_name": "LayoutModel",
      "state": {
       "width": "250px"
      }
     },
     "eaae5cce4c154f39b3d69f082e918443": {
      "model_module": "@jupyter-widgets/controls",
      "model_module_version": "1.5.0",
      "model_name": "DescriptionStyleModel",
      "state": {
       "description_width": ""
      }
     },
     "eab33b97a937443593f1f4a15c45f233": {
      "model_module": "@jupyter-widgets/base",
      "model_module_version": "1.2.0",
      "model_name": "LayoutModel",
      "state": {}
     },
     "eacd134a653c4895a97e43f990977bb4": {
      "model_module": "@jupyter-widgets/controls",
      "model_module_version": "1.5.0",
      "model_name": "ButtonModel",
      "state": {
       "description": "Keine der anderen Möglichkeiten",
       "layout": "IPY_MODEL_f6202b833372439db8f471f74d7adc01",
       "style": "IPY_MODEL_87560872e9a94e368d5eade2015aeb39"
      }
     },
     "eaef328715be4e1e83bdd9e788909d50": {
      "model_module": "@jupyter-widgets/controls",
      "model_module_version": "1.5.0",
      "model_name": "ButtonModel",
      "state": {
       "description": "garden-path sentence",
       "layout": "IPY_MODEL_70a86e714f6048a8adefa4b6a96f05d9",
       "style": "IPY_MODEL_2460b660c0e941189a2740851aa36afe"
      }
     },
     "eaf76181b2564a19bd7e6498ba098eaa": {
      "model_module": "@jupyter-widgets/controls",
      "model_module_version": "1.5.0",
      "model_name": "ButtonStyleModel",
      "state": {}
     },
     "eb094ea80b7c48aa9e11144a41d2a78a": {
      "model_module": "@jupyter-widgets/controls",
      "model_module_version": "1.5.0",
      "model_name": "DescriptionStyleModel",
      "state": {
       "description_width": "initial"
      }
     },
     "eb14a36325564e7285a6be20719fd85d": {
      "model_module": "@jupyter-widgets/controls",
      "model_module_version": "1.5.0",
      "model_name": "DescriptionStyleModel",
      "state": {
       "description_width": ""
      }
     },
     "eb34564ade594bbb91b7804b7b290cf5": {
      "model_module": "@jupyter-widgets/base",
      "model_module_version": "1.2.0",
      "model_name": "LayoutModel",
      "state": {
       "width": "250px"
      }
     },
     "eb3ef09061574e1ca877f0b6057cbc8d": {
      "model_module": "@jupyter-widgets/base",
      "model_module_version": "1.2.0",
      "model_name": "LayoutModel",
      "state": {}
     },
     "eb79d671286a4e619c4e266ba484c1d7": {
      "model_module": "@jupyter-widgets/base",
      "model_module_version": "1.2.0",
      "model_name": "LayoutModel",
      "state": {}
     },
     "eb80e1243b714b5aae178e45d5f5db92": {
      "model_module": "@jupyter-widgets/controls",
      "model_module_version": "1.5.0",
      "model_name": "ButtonStyleModel",
      "state": {}
     },
     "eb90931d49004b97ba31923701b3dfb9": {
      "model_module": "@jupyter-widgets/base",
      "model_module_version": "1.2.0",
      "model_name": "LayoutModel",
      "state": {}
     },
     "ebafd5c97aed4a90a5f18b638e6f78ac": {
      "model_module": "@jupyter-widgets/controls",
      "model_module_version": "1.5.0",
      "model_name": "ButtonStyleModel",
      "state": {
       "button_color": "lightgreen"
      }
     },
     "ebc8be39928941148408f70025f3aca0": {
      "model_module": "@jupyter-widgets/controls",
      "model_module_version": "1.5.0",
      "model_name": "VBoxModel",
      "state": {
       "children": [
        "IPY_MODEL_ee93873a53994a9ab7c662c003f8f429",
        "IPY_MODEL_2dda8b8bcf104d84b875fa443c73abf2",
        "IPY_MODEL_5f01e3331ff84ab2940bb2345a4c3e16",
        "IPY_MODEL_6d6465295531460abfb6a4d838cd6858"
       ],
       "layout": "IPY_MODEL_b4650b9f25d841b8903bf6a5ca6707ad"
      }
     },
     "ebd338b56dfc4f6e96671d227e3e4850": {
      "model_module": "@jupyter-widgets/base",
      "model_module_version": "1.2.0",
      "model_name": "LayoutModel",
      "state": {
       "justify_content": "center"
      }
     },
     "ebdb46edc6df4458bdf47dd79c74dc36": {
      "model_module": "@jupyter-widgets/controls",
      "model_module_version": "1.5.0",
      "model_name": "DescriptionStyleModel",
      "state": {
       "description_width": ""
      }
     },
     "ebe5d80e867a4c28887ed3ca54f4b877": {
      "model_module": "@jupyter-widgets/controls",
      "model_module_version": "1.5.0",
      "model_name": "DescriptionStyleModel",
      "state": {
       "description_width": ""
      }
     },
     "ebf4006689184df586be91e182ea4005": {
      "model_module": "@jupyter-widgets/base",
      "model_module_version": "1.2.0",
      "model_name": "LayoutModel",
      "state": {}
     },
     "ec4963a261f4420fb82ccbb96040434d": {
      "model_module": "@jupyter-widgets/controls",
      "model_module_version": "1.5.0",
      "model_name": "DescriptionStyleModel",
      "state": {
       "description_width": "initial"
      }
     },
     "ec54295732db40a6a5722cd8cc2965b4": {
      "model_module": "@jupyter-widgets/controls",
      "model_module_version": "1.5.0",
      "model_name": "DescriptionStyleModel",
      "state": {
       "description_width": ""
      }
     },
     "ec5b5fd24781443aae37f0b4ed3731cb": {
      "model_module": "@jupyter-widgets/base",
      "model_module_version": "1.2.0",
      "model_name": "LayoutModel",
      "state": {}
     },
     "ec63e6d3035f4cfdad9c47016adf9d59": {
      "model_module": "@jupyter-widgets/controls",
      "model_module_version": "1.5.0",
      "model_name": "HBoxModel",
      "state": {
       "children": [
        "IPY_MODEL_176dc4555b74497887710d192f27f474",
        "IPY_MODEL_660f9bbb6f234dac8d119d6fed9a3cfc"
       ],
       "layout": "IPY_MODEL_5c6cc7a2201a4bce9022cf33ba9af924"
      }
     },
     "ec64689e1b44451185c8f019afea418a": {
      "model_module": "@jupyter-widgets/controls",
      "model_module_version": "1.5.0",
      "model_name": "DescriptionStyleModel",
      "state": {
       "description_width": "initial"
      }
     },
     "ec80e1348fe64845a9586ac8740d901e": {
      "model_module": "@jupyter-widgets/base",
      "model_module_version": "1.2.0",
      "model_name": "LayoutModel",
      "state": {
       "justify_content": "center"
      }
     },
     "ecb6441992384fa1abeed6ffc66d65c7": {
      "model_module": "@jupyter-widgets/controls",
      "model_module_version": "1.5.0",
      "model_name": "VBoxModel",
      "state": {
       "children": [
        "IPY_MODEL_c51912b8732544908e1fe9d8f3f071b0",
        "IPY_MODEL_100d4e9848af42d6b98f0a1138c0d561",
        "IPY_MODEL_51f8f48656544c709e4bca49bcc9d36c",
        "IPY_MODEL_6156f4db7f8045609948586811258125"
       ],
       "layout": "IPY_MODEL_9289acb1b2324258aa5241ebf3bbceca"
      }
     },
     "ecb7f0b6c75c46ea91212f8f17143035": {
      "model_module": "@jupyter-widgets/controls",
      "model_module_version": "1.5.0",
      "model_name": "DescriptionStyleModel",
      "state": {
       "description_width": ""
      }
     },
     "ecbed469f2c0473893438108097910d3": {
      "model_module": "@jupyter-widgets/base",
      "model_module_version": "1.2.0",
      "model_name": "LayoutModel",
      "state": {
       "justify_content": "center"
      }
     },
     "ece141f0f4b6419b9ca7db5c0fe2a4a0": {
      "model_module": "@jupyter-widgets/base",
      "model_module_version": "1.2.0",
      "model_name": "LayoutModel",
      "state": {}
     },
     "ecf0026045284d62a66810e6d6ff7e07": {
      "model_module": "@jupyter-widgets/controls",
      "model_module_version": "1.5.0",
      "model_name": "ButtonModel",
      "state": {
       "description": "Korrekt?",
       "layout": "IPY_MODEL_69f55f686cd8480da7eadf1efd23e887",
       "style": "IPY_MODEL_9c2202326d4e4340800753d2ae9f1b87"
      }
     },
     "ecf8f237fabe4829bec2ec5d81faa796": {
      "model_module": "@jupyter-widgets/base",
      "model_module_version": "1.2.0",
      "model_name": "LayoutModel",
      "state": {
       "width": "250px"
      }
     },
     "ecfade2e7ee94237aec53e44ab2bff88": {
      "model_module": "@jupyter-widgets/base",
      "model_module_version": "1.2.0",
      "model_name": "LayoutModel",
      "state": {}
     },
     "ed40d410c9e747fca525b5f75e6b2505": {
      "model_module": "@jupyter-widgets/controls",
      "model_module_version": "1.5.0",
      "model_name": "HBoxModel",
      "state": {
       "children": [
        "IPY_MODEL_4f773e37c5b349f5a1ad30a0c7af898d",
        "IPY_MODEL_1bdab8067c8e4333b87aa0b1ba7e3c31"
       ],
       "layout": "IPY_MODEL_245f6bb91690437db9efef3a68d96bf1"
      }
     },
     "ed775492807b414897ec7202ce127acc": {
      "model_module": "@jupyter-widgets/controls",
      "model_module_version": "1.5.0",
      "model_name": "VBoxModel",
      "state": {
       "children": [
        "IPY_MODEL_83cf14c0a24244c689c538d5b84ee095",
        "IPY_MODEL_ce1c3c6e8f794b579dea8213e3129fb9",
        "IPY_MODEL_541c90beb2f84334bc9794144abf1cee"
       ],
       "layout": "IPY_MODEL_0846cdcd592942489aaf77f19fcc35c5"
      }
     },
     "ed9589056ca24fac912fea1f4314f559": {
      "model_module": "@jupyter-widgets/controls",
      "model_module_version": "1.5.0",
      "model_name": "HTMLModel",
      "state": {
       "layout": "IPY_MODEL_eeb8bc177b284c28bdec7f42e2db13ef",
       "style": "IPY_MODEL_5c7adb25959c4ef9a06e366045c0287a",
       "value": "<h4 style=\"font-size:14px;\">Welchem Typ muss eine Grammatik mindestens genügen, um solche Sätze modellieren zu können?</h4>"
      }
     },
     "edb3f06626874cb480caa941e9ac4a51": {
      "model_module": "@jupyter-widgets/controls",
      "model_module_version": "1.5.0",
      "model_name": "ButtonStyleModel",
      "state": {}
     },
     "edb7b89da40e46f9882b46177337c3a1": {
      "model_module": "@jupyter-widgets/controls",
      "model_module_version": "1.5.0",
      "model_name": "CheckboxModel",
      "state": {
       "description": "Verwendung von Splitting-Regeln",
       "disabled": false,
       "layout": "IPY_MODEL_ce2470d9a5354b749703352e31c76e87",
       "style": "IPY_MODEL_1d14fac77a2a4097805c3091c4acfacb",
       "value": false
      }
     },
     "edb7d31db3b54a9db553d3c9fbe1318e": {
      "model_module": "@jupyter-widgets/controls",
      "model_module_version": "1.5.0",
      "model_name": "DescriptionStyleModel",
      "state": {
       "description_width": ""
      }
     },
     "edc3b0ed3f1d4c8ca3f8c6f477bedf77": {
      "model_module": "@jupyter-widgets/base",
      "model_module_version": "1.2.0",
      "model_name": "LayoutModel",
      "state": {
       "width": "250px"
      }
     },
     "edcfec6b500a4d2c88c346c983ce7dae": {
      "model_module": "@jupyter-widgets/controls",
      "model_module_version": "1.5.0",
      "model_name": "HBoxModel",
      "state": {
       "children": [
        "IPY_MODEL_e301210333fd481a954a7b6ddbf2fc92",
        "IPY_MODEL_3685822cfd3a49acb075d9c52ab1fe59"
       ],
       "layout": "IPY_MODEL_a2a76a8486e44163a4d3760765362b17"
      }
     },
     "ede70a731cf44e5fad69e3d06719e52a": {
      "model_module": "@jupyter-widgets/controls",
      "model_module_version": "1.5.0",
      "model_name": "HTMLModel",
      "state": {
       "layout": "IPY_MODEL_dd5fb05c506e4eba87f46d01dbf004cf",
       "style": "IPY_MODEL_ebe5d80e867a4c28887ed3ca54f4b877",
       "value": "<i>Wählen Sie die <ins>eine</ins> korrekte Antwort aus: </i>"
      }
     },
     "edf4358f23f546ebb49d766936797fe1": {
      "model_module": "@jupyter-widgets/base",
      "model_module_version": "1.2.0",
      "model_name": "LayoutModel",
      "state": {}
     },
     "ee279b2dcc614ce9ac571d3b85a46423": {
      "model_module": "@jupyter-widgets/controls",
      "model_module_version": "1.5.0",
      "model_name": "CheckboxModel",
      "state": {
       "description": "Accuracy = (true positives + true negatives) / Anzahl aller Vorhersagen",
       "disabled": false,
       "layout": "IPY_MODEL_9c4702493b794947a3e36cacbad5eb97",
       "style": "IPY_MODEL_e0bfdee942d648cf92acc27f74f4d588",
       "value": false
      }
     },
     "ee8ed28d67484dbab753040141699186": {
      "model_module": "@jupyter-widgets/controls",
      "model_module_version": "1.5.0",
      "model_name": "ButtonModel",
      "state": {
       "description": "cross-serial dependencies",
       "layout": "IPY_MODEL_9ad2486fe6eb409b80f7fa3f5e3d39df",
       "style": "IPY_MODEL_c1be3b7de95347879ea4c74264ef2ce4"
      }
     },
     "ee91f9ad024e4fafae930af5f5e86049": {
      "model_module": "@jupyter-widgets/controls",
      "model_module_version": "1.5.0",
      "model_name": "ButtonStyleModel",
      "state": {}
     },
     "ee93873a53994a9ab7c662c003f8f429": {
      "model_module": "@jupyter-widgets/controls",
      "model_module_version": "1.5.0",
      "model_name": "HTMLModel",
      "state": {
       "layout": "IPY_MODEL_b3c637a1c6324102801e5622740f2979",
       "style": "IPY_MODEL_1a5fee6205a844738e944a8724c89875",
       "value": "<h4 style=\"font-size:14px;\">Was kann mit Chinking erreicht werden?</h4>"
      }
     },
     "eea008cd08ad4b6193203dd719f57ce8": {
      "model_module": "@jupyter-widgets/controls",
      "model_module_version": "1.5.0",
      "model_name": "VBoxModel",
      "state": {
       "children": [
        "IPY_MODEL_387254d1ceaa423c965bd4d0fc39cb78",
        "IPY_MODEL_7bf6f500ef8d4310aaa14390586d94c3",
        "IPY_MODEL_a0230300dced4400b3b57e01e7e75f88",
        "IPY_MODEL_2701d0c0d08a4e0c9d72348316aa93fb"
       ],
       "layout": "IPY_MODEL_cc24b79079404df79d13b5243f8d920f"
      }
     },
     "eeb8bc177b284c28bdec7f42e2db13ef": {
      "model_module": "@jupyter-widgets/base",
      "model_module_version": "1.2.0",
      "model_name": "LayoutModel",
      "state": {
       "justify_content": "center"
      }
     },
     "eee4f7e3254e4895880a23de252350b1": {
      "model_module": "@jupyter-widgets/controls",
      "model_module_version": "1.5.0",
      "model_name": "ButtonStyleModel",
      "state": {
       "button_color": "lightgreen"
      }
     },
     "eef721ac650a485d87e61433e70df0ba": {
      "model_module": "@jupyter-widgets/controls",
      "model_module_version": "1.5.0",
      "model_name": "VBoxModel",
      "state": {
       "children": [
        "IPY_MODEL_20a4140dd8f24c239f01cb563db93d90",
        "IPY_MODEL_c890614c004145eb8f2def80da8e374b",
        "IPY_MODEL_6d61168c431f42169677072400187aff",
        "IPY_MODEL_a3d1527e88594e8a8056915c47e43972"
       ],
       "layout": "IPY_MODEL_59c09c3c4d274214bfb08829bb462071"
      }
     },
     "ef05403a6ea84f18991a130b7bace34a": {
      "model_module": "@jupyter-widgets/controls",
      "model_module_version": "1.5.0",
      "model_name": "CheckboxModel",
      "state": {
       "description": "ein vorher erkannter Chunk wird nicht mehr erkannt",
       "disabled": false,
       "layout": "IPY_MODEL_62a835525e1f4ed6aeb85ecf5b577fbf",
       "style": "IPY_MODEL_bd0dcf3f416241659da458c161f96656",
       "value": false
      }
     },
     "ef073219609a4697a21451def7679211": {
      "model_module": "@jupyter-widgets/controls",
      "model_module_version": "1.5.0",
      "model_name": "DescriptionStyleModel",
      "state": {
       "description_width": ""
      }
     },
     "ef0885e5ebd44c0a91ec467b32ed61a0": {
      "model_module": "@jupyter-widgets/base",
      "model_module_version": "1.2.0",
      "model_name": "LayoutModel",
      "state": {
       "justify_content": "center"
      }
     },
     "ef449bd0f2f446a9af25b8256504c512": {
      "model_module": "@jupyter-widgets/base",
      "model_module_version": "1.2.0",
      "model_name": "LayoutModel",
      "state": {
       "justify_content": "center"
      }
     },
     "ef58dd96c1ec4970b30333158bb83806": {
      "model_module": "@jupyter-widgets/controls",
      "model_module_version": "1.5.0",
      "model_name": "DescriptionStyleModel",
      "state": {
       "description_width": ""
      }
     },
     "ef6a93c00ae34c82937a7e373e20f6db": {
      "model_module": "@jupyter-widgets/controls",
      "model_module_version": "1.5.0",
      "model_name": "CheckboxModel",
      "state": {
       "description": "Precision = von allen Instanzen, für die 1 vorhergesagt wurde, wie viele wurden richtig vorhergesagt?",
       "disabled": false,
       "layout": "IPY_MODEL_cdaa30ddb4a24a92ba0cb1ce78a801fb",
       "style": "IPY_MODEL_04c30e540d8241b8a17a07989f569456",
       "value": false
      }
     },
     "ef8bf7011a1a4bc1aded376fe2f57b82": {
      "model_module": "@jupyter-widgets/controls",
      "model_module_version": "1.5.0",
      "model_name": "DescriptionStyleModel",
      "state": {
       "description_width": ""
      }
     },
     "ef9eef2ac69345668d52fe30a98471df": {
      "model_module": "@jupyter-widgets/controls",
      "model_module_version": "1.5.0",
      "model_name": "ButtonModel",
      "state": {
       "description": "center embedding",
       "layout": "IPY_MODEL_c062fc6550fb4464826a88637373956c",
       "style": "IPY_MODEL_4c6429fceb9f46c8b7b14573c13a158f"
      }
     },
     "efa1ae6d73ca40f4a9eafa7e2443264d": {
      "model_module": "@jupyter-widgets/controls",
      "model_module_version": "1.5.0",
      "model_name": "DescriptionStyleModel",
      "state": {
       "description_width": ""
      }
     },
     "efd6a76ffaf04ae28ee5f2201817d89e": {
      "model_module": "@jupyter-widgets/controls",
      "model_module_version": "1.5.0",
      "model_name": "ButtonModel",
      "state": {
       "description": "cross-serial dependencies",
       "layout": "IPY_MODEL_819ce0a197054c40828ef605a202cf15",
       "style": "IPY_MODEL_a036a1d15084402591f7d74775f847cf"
      }
     },
     "efe9432413a44b6fa1b59fba347883a0": {
      "model_module": "@jupyter-widgets/controls",
      "model_module_version": "1.5.0",
      "model_name": "VBoxModel",
      "state": {
       "children": [
        "IPY_MODEL_b8c90af418c348f6aae2b8f688e19b32",
        "IPY_MODEL_65128d2ac4224dd0a804201077f0d658",
        "IPY_MODEL_4d07d6fa17cb4f3bbb553edc7b6d0652",
        "IPY_MODEL_bd65a017ee08478094608b057c4bc847"
       ],
       "layout": "IPY_MODEL_e7f07367750942088da97f375f88ae14"
      }
     },
     "f028cf90d51b4c04aed4d800f063d50c": {
      "model_module": "@jupyter-widgets/controls",
      "model_module_version": "1.5.0",
      "model_name": "ButtonStyleModel",
      "state": {}
     },
     "f03c604befe74a1aa6f0f88ae09a6b9b": {
      "model_module": "@jupyter-widgets/controls",
      "model_module_version": "1.5.0",
      "model_name": "HBoxModel",
      "state": {
       "children": [
        "IPY_MODEL_fc00e526c1c04c53b101d7e9cb6c17a4",
        "IPY_MODEL_3b414a3d756b4cbfb9da63aafb272c71"
       ],
       "layout": "IPY_MODEL_5d347935b4e449c291c5ee384489849d"
      }
     },
     "f04336e77c9948c4bbae0dcdc8c7b100": {
      "model_module": "@jupyter-widgets/controls",
      "model_module_version": "1.5.0",
      "model_name": "DescriptionStyleModel",
      "state": {
       "description_width": ""
      }
     },
     "f0568f5e13884f8ab63410456bbff54f": {
      "model_module": "@jupyter-widgets/controls",
      "model_module_version": "1.5.0",
      "model_name": "ButtonModel",
      "state": {
       "description": "cross-serial dependencies",
       "layout": "IPY_MODEL_bed6936bf46e40ceab1e9f0cf5619a92",
       "style": "IPY_MODEL_27f1b722994a41a69b70f61efc80d338"
      }
     },
     "f08b5f0aeab7492da6279516568ed93b": {
      "model_module": "@jupyter-widgets/controls",
      "model_module_version": "1.5.0",
      "model_name": "DescriptionStyleModel",
      "state": {
       "description_width": "initial"
      }
     },
     "f08f549d32c24f33b4cebe2037664370": {
      "model_module": "@jupyter-widgets/controls",
      "model_module_version": "1.5.0",
      "model_name": "CheckboxModel",
      "state": {
       "description": "Precision = true positives / true negatives",
       "disabled": false,
       "layout": "IPY_MODEL_45852b96f073420eba95d650cceeda48",
       "style": "IPY_MODEL_292dfae01cdb40c1aa8829945332c33a",
       "value": false
      }
     },
     "f092ea503e574c92bf91818fd667cf7c": {
      "model_module": "@jupyter-widgets/base",
      "model_module_version": "1.2.0",
      "model_name": "LayoutModel",
      "state": {
       "width": "250px"
      }
     },
     "f09d8c990a61481786dbdbf3d6ba2ec8": {
      "model_module": "@jupyter-widgets/controls",
      "model_module_version": "1.5.0",
      "model_name": "DescriptionStyleModel",
      "state": {
       "description_width": ""
      }
     },
     "f0db1ec495b543ebbd79db0a4c3d6168": {
      "model_module": "@jupyter-widgets/base",
      "model_module_version": "1.2.0",
      "model_name": "LayoutModel",
      "state": {
       "width": "250px"
      }
     },
     "f0e422191be441e9b592b34892423765": {
      "model_module": "@jupyter-widgets/base",
      "model_module_version": "1.2.0",
      "model_name": "LayoutModel",
      "state": {}
     },
     "f0e47601e5964535864d60827eaa3a31": {
      "model_module": "@jupyter-widgets/controls",
      "model_module_version": "1.5.0",
      "model_name": "HTMLModel",
      "state": {
       "layout": "IPY_MODEL_41e8691422a74fec8d87a23074774f0d",
       "style": "IPY_MODEL_55a3108aeb234cafa59e9fe823a81f92",
       "value": "<i>Wählen Sie die <ins>eine</ins> korrekte Antwort aus: </i>"
      }
     },
     "f0f283c3de8e4966ac73961690394d7a": {
      "model_module": "@jupyter-widgets/controls",
      "model_module_version": "1.5.0",
      "model_name": "DescriptionStyleModel",
      "state": {
       "description_width": "initial"
      }
     },
     "f12c9a58a5224b7f897dc6f685689f34": {
      "model_module": "@jupyter-widgets/controls",
      "model_module_version": "1.5.0",
      "model_name": "ButtonModel",
      "state": {
       "description": "Keine der anderen Möglichkeiten",
       "layout": "IPY_MODEL_b822622107e04b38aa9f19e45b94bff2",
       "style": "IPY_MODEL_555065ff3b2c482fabe358ee998d0afb"
      }
     },
     "f141b18af6684018a271b36d472101de": {
      "model_module": "@jupyter-widgets/base",
      "model_module_version": "1.2.0",
      "model_name": "LayoutModel",
      "state": {}
     },
     "f14c1377902f4ee6982d38c5b305de85": {
      "model_module": "@jupyter-widgets/controls",
      "model_module_version": "1.5.0",
      "model_name": "DescriptionStyleModel",
      "state": {
       "description_width": "initial"
      }
     },
     "f14de5a914464eb58e9a38024040131c": {
      "model_module": "@jupyter-widgets/controls",
      "model_module_version": "1.5.0",
      "model_name": "HTMLModel",
      "state": {
       "layout": "IPY_MODEL_01c33ca31c014c5c8635a09016f1937b",
       "style": "IPY_MODEL_36370acf88d8401bb9a43e13dcdd06d8",
       "value": "<i>Wählen Sie die <ins>eine</ins> korrekte Antwort aus: </i>"
      }
     },
     "f14f096fc5494bf7b4654567fc99dc31": {
      "model_module": "@jupyter-widgets/base",
      "model_module_version": "1.2.0",
      "model_name": "LayoutModel",
      "state": {
       "width": "600px"
      }
     },
     "f15f4fec1a5643d182b7d72f407c74fe": {
      "model_module": "@jupyter-widgets/controls",
      "model_module_version": "1.5.0",
      "model_name": "DescriptionStyleModel",
      "state": {
       "description_width": ""
      }
     },
     "f1735e469e8b44e6a205651b14d85b71": {
      "model_module": "@jupyter-widgets/controls",
      "model_module_version": "1.5.0",
      "model_name": "HBoxModel",
      "state": {
       "children": [
        "IPY_MODEL_4cfc66e9cf3a479b9050145cc6c77fa4",
        "IPY_MODEL_5edacdeca5d746e5864015c5d3841644"
       ],
       "layout": "IPY_MODEL_94b499df594946329711cb8a956b0e6a"
      }
     },
     "f1841f1a7801468d844030b3fb475ab4": {
      "model_module": "@jupyter-widgets/base",
      "model_module_version": "1.2.0",
      "model_name": "LayoutModel",
      "state": {
       "width": "600px"
      }
     },
     "f1a7c414b3ff4d4a8f1bfa286b11d48f": {
      "model_module": "@jupyter-widgets/controls",
      "model_module_version": "1.5.0",
      "model_name": "HBoxModel",
      "state": {
       "children": [
        "IPY_MODEL_83ecc6a81d7c476785394bde8dc6a218",
        "IPY_MODEL_a5e5d950797b4875bb28790b86f86735"
       ],
       "layout": "IPY_MODEL_07c2de375d104f3c8f8460f88c135a70"
      }
     },
     "f1ba356eb76745a18c4c4e49313c845a": {
      "model_module": "@jupyter-widgets/controls",
      "model_module_version": "1.5.0",
      "model_name": "HBoxModel",
      "state": {
       "children": [
        "IPY_MODEL_f5e753c0638f4314ada0036787561f46",
        "IPY_MODEL_07cf731e8d6e4a9aa43d7c7172131538"
       ],
       "layout": "IPY_MODEL_e0e406d3b8e04b49a3ae3ea3500987ab"
      }
     },
     "f1c55273840c4f61bbd9a3f4871c849f": {
      "model_module": "@jupyter-widgets/controls",
      "model_module_version": "1.5.0",
      "model_name": "DescriptionStyleModel",
      "state": {
       "description_width": ""
      }
     },
     "f1ca79914a4d4b0188baa63f561c4fc3": {
      "model_module": "@jupyter-widgets/controls",
      "model_module_version": "1.5.0",
      "model_name": "CheckboxModel",
      "state": {
       "description": "Accuracy = (true positives + true negatives) / Anzahl aller Vorhersagen",
       "disabled": false,
       "layout": "IPY_MODEL_5c1390f5423c4b068c3433ddfc344aef",
       "style": "IPY_MODEL_cbd8cd73901e419ba0bb553362f671b6",
       "value": false
      }
     },
     "f1d9e498a49849ccb7646d135b6c0818": {
      "model_module": "@jupyter-widgets/controls",
      "model_module_version": "1.5.0",
      "model_name": "ButtonStyleModel",
      "state": {}
     },
     "f2452e26fdf443139843649bb2908654": {
      "model_module": "@jupyter-widgets/controls",
      "model_module_version": "1.5.0",
      "model_name": "ButtonStyleModel",
      "state": {}
     },
     "f24b593f6de14e6f904c6760ea1249b3": {
      "model_module": "@jupyter-widgets/controls",
      "model_module_version": "1.5.0",
      "model_name": "DescriptionStyleModel",
      "state": {
       "description_width": "initial"
      }
     },
     "f2aab95adfb1401bb78a6e4924dc810b": {
      "model_module": "@jupyter-widgets/controls",
      "model_module_version": "1.5.0",
      "model_name": "VBoxModel",
      "state": {
       "children": [
        "IPY_MODEL_4d1fc563519348d1be419bfa99235d5c",
        "IPY_MODEL_6f10f043f7ed42048980ff0bcde1faed",
        "IPY_MODEL_0c2b5ce36b704d138f846a984c3ce44e"
       ],
       "layout": "IPY_MODEL_c2d08aa4512d45f89dc191b6da0acd23"
      }
     },
     "f2d048b14f61445092bf016084e2c059": {
      "model_module": "@jupyter-widgets/base",
      "model_module_version": "1.2.0",
      "model_name": "LayoutModel",
      "state": {
       "width": "250px"
      }
     },
     "f2e35e6aaaa54f8bad5a544f5955df16": {
      "model_module": "@jupyter-widgets/controls",
      "model_module_version": "1.5.0",
      "model_name": "CheckboxModel",
      "state": {
       "description": "Accuracy = (true positives + true negatives) / Anzahl aller Vorhersagen",
       "disabled": false,
       "layout": "IPY_MODEL_014511688fa144df816366ecc160a303",
       "style": "IPY_MODEL_7040e0c60b274654b01eda49caa69ead",
       "value": false
      }
     },
     "f309922589344113b6668177c3c59761": {
      "model_module": "@jupyter-widgets/base",
      "model_module_version": "1.2.0",
      "model_name": "LayoutModel",
      "state": {
       "justify_content": "center"
      }
     },
     "f30f152c18344f3ba64d591cb4e2cba4": {
      "model_module": "@jupyter-widgets/base",
      "model_module_version": "1.2.0",
      "model_name": "LayoutModel",
      "state": {
       "width": "250px"
      }
     },
     "f310c874b9b84e14aeaffa898834b393": {
      "model_module": "@jupyter-widgets/controls",
      "model_module_version": "1.5.0",
      "model_name": "DescriptionStyleModel",
      "state": {
       "description_width": "initial"
      }
     },
     "f367b90e107d413c8f6a0561e9cbd22e": {
      "model_module": "@jupyter-widgets/base",
      "model_module_version": "1.2.0",
      "model_name": "LayoutModel",
      "state": {}
     },
     "f37cab810d7244c4a23694c14ce2c29c": {
      "model_module": "@jupyter-widgets/controls",
      "model_module_version": "1.5.0",
      "model_name": "CheckboxModel",
      "state": {
       "description": "ein Chunk wird verkürzt",
       "disabled": false,
       "layout": "IPY_MODEL_3102450265354f57af22a929fc824d9e",
       "style": "IPY_MODEL_fb422bc47b0d484daeb72f6dfda378b8",
       "value": false
      }
     },
     "f3beb72644d34b969e5c8939ffd216b0": {
      "model_module": "@jupyter-widgets/base",
      "model_module_version": "1.2.0",
      "model_name": "LayoutModel",
      "state": {
       "width": "250px"
      }
     },
     "f3d49c389409453ab851d191367f420a": {
      "model_module": "@jupyter-widgets/controls",
      "model_module_version": "1.5.0",
      "model_name": "HTMLModel",
      "state": {
       "layout": "IPY_MODEL_3e564fbc33ec4ca5bf735fb7575ee061",
       "style": "IPY_MODEL_098072e5123647d9b9952f0ee700a42e",
       "value": "<i>Wählen Sie die <ins>eine</ins> korrekte Antwort aus: </i>"
      }
     },
     "f3dc2abb847c4f9dbb3184ae1dabc62e": {
      "model_module": "@jupyter-widgets/controls",
      "model_module_version": "1.5.0",
      "model_name": "ButtonModel",
      "state": {
       "description": "} {",
       "layout": "IPY_MODEL_f51a9ede659248e98d62a53fc118bb7c",
       "style": "IPY_MODEL_314052edeedd4563b80af0b3dd434349"
      }
     },
     "f3fdd5e9467240f8becb54e5624eda25": {
      "model_module": "@jupyter-widgets/controls",
      "model_module_version": "1.5.0",
      "model_name": "ButtonModel",
      "state": {
       "description": "Keine der anderen Möglichkeiten",
       "layout": "IPY_MODEL_2dfa5b6c91ed4211aad90fa58d086893",
       "style": "IPY_MODEL_7e8f1ce08aa04a2b9caeee26f0304f59"
      }
     },
     "f41509dd8e654ab7aa3f87803f0191ee": {
      "model_module": "@jupyter-widgets/controls",
      "model_module_version": "1.5.0",
      "model_name": "DescriptionStyleModel",
      "state": {
       "description_width": ""
      }
     },
     "f417678112914b40994723bf2bb20984": {
      "model_module": "@jupyter-widgets/controls",
      "model_module_version": "1.5.0",
      "model_name": "HBoxModel",
      "state": {
       "children": [
        "IPY_MODEL_3b50e0b99d394125a194fb55128eca39",
        "IPY_MODEL_543468fcf9924e40838dbc0a1eced23c"
       ],
       "layout": "IPY_MODEL_55d0db5f33b04444a6e82ba5178cfa01"
      }
     },
     "f427023ab327484c92d3785040ef5044": {
      "model_module": "@jupyter-widgets/base",
      "model_module_version": "1.2.0",
      "model_name": "LayoutModel",
      "state": {
       "width": "250px"
      }
     },
     "f43a88a8a1074177b8e4e1536636962e": {
      "model_module": "@jupyter-widgets/controls",
      "model_module_version": "1.5.0",
      "model_name": "ButtonStyleModel",
      "state": {}
     },
     "f46e47c70f234384a6fcf351a3e521e8": {
      "model_module": "@jupyter-widgets/controls",
      "model_module_version": "1.5.0",
      "model_name": "HBoxModel",
      "state": {
       "children": [
        "IPY_MODEL_1818867f2ef54a50a7312090bdafaeed",
        "IPY_MODEL_a5e1c9dc4ce04b4c8167d76e38e84a76"
       ],
       "layout": "IPY_MODEL_567f1f54ff2a400db8ef567a50cfbc4e"
      }
     },
     "f49e947160524c79a91fa1a051de022d": {
      "model_module": "@jupyter-widgets/controls",
      "model_module_version": "1.5.0",
      "model_name": "DescriptionStyleModel",
      "state": {
       "description_width": ""
      }
     },
     "f4a4f6efa4fb45b3a38bb256c7d85668": {
      "model_module": "@jupyter-widgets/base",
      "model_module_version": "1.2.0",
      "model_name": "LayoutModel",
      "state": {
       "width": "250px"
      }
     },
     "f4b27fe621544769a5a48c6290304093": {
      "model_module": "@jupyter-widgets/controls",
      "model_module_version": "1.5.0",
      "model_name": "CheckboxModel",
      "state": {
       "description": "ein Chunk wird verkürzt",
       "disabled": false,
       "layout": "IPY_MODEL_a769879077a842cb8e1b0d4c12f38d14",
       "style": "IPY_MODEL_4da4d27b3786446ea440ed6e524de9f0",
       "value": false
      }
     },
     "f4e45202967c46b9a22fa8f7f399c8d2": {
      "model_module": "@jupyter-widgets/controls",
      "model_module_version": "1.5.0",
      "model_name": "VBoxModel",
      "state": {
       "children": [
        "IPY_MODEL_8917d3de3fa94dcb87630e08ea21b368",
        "IPY_MODEL_b9a8d1dd2160423cb67c930961cee5e0",
        "IPY_MODEL_7607cff5a296492fb6cc7edb81abfd0e",
        "IPY_MODEL_895b4439b4074372808eb64bafb8ebbf"
       ],
       "layout": "IPY_MODEL_65a1d68ad09c4833833030f2f4eb6e8f"
      }
     },
     "f4ecac274e5e4a7bb04d5e9090692cc1": {
      "model_module": "@jupyter-widgets/base",
      "model_module_version": "1.2.0",
      "model_name": "LayoutModel",
      "state": {}
     },
     "f4fb4a39aace47bdb733367a881c9c72": {
      "model_module": "@jupyter-widgets/controls",
      "model_module_version": "1.5.0",
      "model_name": "DescriptionStyleModel",
      "state": {
       "description_width": "initial"
      }
     },
     "f515cddee2ae411791b6d6b435827db2": {
      "model_module": "@jupyter-widgets/base",
      "model_module_version": "1.2.0",
      "model_name": "LayoutModel",
      "state": {
       "justify_content": "center"
      }
     },
     "f51a9ede659248e98d62a53fc118bb7c": {
      "model_module": "@jupyter-widgets/base",
      "model_module_version": "1.2.0",
      "model_name": "LayoutModel",
      "state": {
       "width": "250px"
      }
     },
     "f5264ba9883e483ca662cda0cc27ad4b": {
      "model_module": "@jupyter-widgets/controls",
      "model_module_version": "1.5.0",
      "model_name": "ButtonModel",
      "state": {
       "description": "garden-path sentence",
       "layout": "IPY_MODEL_b5daa8e26fc647fda19f0ec340f6bb0a",
       "style": "IPY_MODEL_e985c6ab7001499bb35df6d3c2ccb10e"
      }
     },
     "f526704a39b24f62b96f509ca99b16cd": {
      "model_module": "@jupyter-widgets/controls",
      "model_module_version": "1.5.0",
      "model_name": "DescriptionStyleModel",
      "state": {
       "description_width": "initial"
      }
     },
     "f5275189d61c450e9848f78014683117": {
      "model_module": "@jupyter-widgets/controls",
      "model_module_version": "1.5.0",
      "model_name": "DescriptionStyleModel",
      "state": {
       "description_width": ""
      }
     },
     "f53624807c644e7598df55d7ff99f175": {
      "model_module": "@jupyter-widgets/controls",
      "model_module_version": "1.5.0",
      "model_name": "CheckboxModel",
      "state": {
       "description": "Loopen über bereits erkannte Chunk-Muster",
       "disabled": false,
       "layout": "IPY_MODEL_4dd53e7fa7134915a27edc26fcb38113",
       "style": "IPY_MODEL_8662a02580574d6880ffbdf741824c16",
       "value": false
      }
     },
     "f549064c013243819530ca059401702f": {
      "model_module": "@jupyter-widgets/controls",
      "model_module_version": "1.5.0",
      "model_name": "DescriptionStyleModel",
      "state": {
       "description_width": "initial"
      }
     },
     "f54a21ab9a134330bc1f875f5b6476bb": {
      "model_module": "@jupyter-widgets/base",
      "model_module_version": "1.2.0",
      "model_name": "LayoutModel",
      "state": {
       "justify_content": "center"
      }
     },
     "f558954adb1d42a9a271af228a8074f7": {
      "model_module": "@jupyter-widgets/controls",
      "model_module_version": "1.5.0",
      "model_name": "ButtonStyleModel",
      "state": {}
     },
     "f56843ddcefd41f29580c6d73427dea7": {
      "model_module": "@jupyter-widgets/base",
      "model_module_version": "1.2.0",
      "model_name": "LayoutModel",
      "state": {
       "width": "250px"
      }
     },
     "f56d989dd5a2453f98bd176689c74cd5": {
      "model_module": "@jupyter-widgets/controls",
      "model_module_version": "1.5.0",
      "model_name": "CheckboxModel",
      "state": {
       "description": "Precision = von allen Instanzen, für die 1 vorhergesagt wurde, wie viele wurden richtig vorhergesagt?",
       "disabled": false,
       "layout": "IPY_MODEL_6a149c4a5bb1474d9a3b2a3e499fc6c9",
       "style": "IPY_MODEL_3de8f00835d4460682157cd9bc62e2ab",
       "value": false
      }
     },
     "f5781083328346988f00b1f0f6ca31da": {
      "model_module": "@jupyter-widgets/controls",
      "model_module_version": "1.5.0",
      "model_name": "DescriptionStyleModel",
      "state": {
       "description_width": "initial"
      }
     },
     "f57a878bcbd7492d9868184ccda047db": {
      "model_module": "@jupyter-widgets/controls",
      "model_module_version": "1.5.0",
      "model_name": "ButtonStyleModel",
      "state": {}
     },
     "f58130df2e6f43bf9c02a83820dbd40a": {
      "model_module": "@jupyter-widgets/controls",
      "model_module_version": "1.5.0",
      "model_name": "HTMLModel",
      "state": {
       "layout": "IPY_MODEL_3c6b7dc54cd64f02aa5974b9646d3537",
       "style": "IPY_MODEL_ef8bf7011a1a4bc1aded376fe2f57b82",
       "value": "<h4 style=\"font-size:14px;\">Wozu sind Tag Pattern ähnlich?</h4>"
      }
     },
     "f58cfb57e8ff4443b64224f5acbbcb7d": {
      "model_module": "@jupyter-widgets/controls",
      "model_module_version": "1.5.0",
      "model_name": "DescriptionStyleModel",
      "state": {
       "description_width": ""
      }
     },
     "f5912154f8b84c7a94831c27d5cc03d0": {
      "model_module": "@jupyter-widgets/base",
      "model_module_version": "1.2.0",
      "model_name": "LayoutModel",
      "state": {
       "width": "250px"
      }
     },
     "f5af2e613f7247798692be04774040f5": {
      "model_module": "@jupyter-widgets/base",
      "model_module_version": "1.2.0",
      "model_name": "LayoutModel",
      "state": {
       "width": "600px"
      }
     },
     "f5e753c0638f4314ada0036787561f46": {
      "model_module": "@jupyter-widgets/controls",
      "model_module_version": "1.5.0",
      "model_name": "ButtonModel",
      "state": {
       "description": "regulär",
       "layout": "IPY_MODEL_621a727099a94b3684a478b824dd72d6",
       "style": "IPY_MODEL_f82603786de345b99353414ef2c5e966"
      }
     },
     "f5e7b9f38b554eedac71984eb6505de8": {
      "model_module": "@jupyter-widgets/base",
      "model_module_version": "1.2.0",
      "model_name": "LayoutModel",
      "state": {}
     },
     "f61b962517e147eaa9d2cbaad6d3046d": {
      "model_module": "@jupyter-widgets/base",
      "model_module_version": "1.2.0",
      "model_name": "LayoutModel",
      "state": {
       "width": "250px"
      }
     },
     "f6202b833372439db8f471f74d7adc01": {
      "model_module": "@jupyter-widgets/base",
      "model_module_version": "1.2.0",
      "model_name": "LayoutModel",
      "state": {
       "width": "250px"
      }
     },
     "f631d99db60f4635a0af35872058e509": {
      "model_module": "@jupyter-widgets/controls",
      "model_module_version": "1.5.0",
      "model_name": "ButtonModel",
      "state": {
       "description": "Keine der anderen Möglichkeiten",
       "layout": "IPY_MODEL_75ebdcb62d9446bbaf5b7ed4c23a88d9",
       "style": "IPY_MODEL_103ee28516e84f109a03f327e4c06a06"
      }
     },
     "f64f2cb803bf4cb985d7a1a08693cf93": {
      "model_module": "@jupyter-widgets/controls",
      "model_module_version": "1.5.0",
      "model_name": "HBoxModel",
      "state": {
       "children": [
        "IPY_MODEL_0e488ce6f53d4c818b3a32def192bf1f",
        "IPY_MODEL_870a94ef67de45a4a63ab848ac9d0a60"
       ],
       "layout": "IPY_MODEL_67899a708ea44ae58220d1a7dcfda4a9"
      }
     },
     "f65366cb03a44613bb950bf66f3612eb": {
      "model_module": "@jupyter-widgets/controls",
      "model_module_version": "1.5.0",
      "model_name": "HBoxModel",
      "state": {
       "children": [
        "IPY_MODEL_246abd50e0b040d4975f5fe34de961ed",
        "IPY_MODEL_a1b276e62a26438cb263ee4fa2098523"
       ],
       "layout": "IPY_MODEL_7a93ebf94d3840bc8ae564dd60af3dea"
      }
     },
     "f6580250e1f74a318e3b54ae11db51f6": {
      "model_module": "@jupyter-widgets/controls",
      "model_module_version": "1.5.0",
      "model_name": "HTMLModel",
      "state": {
       "layout": "IPY_MODEL_7794dc4446d8400dbb3745d16b52e268",
       "style": "IPY_MODEL_8f52fe7dd9714caab39d4a60f5228577",
       "value": "<h4 style=\"font-size:14px;\">Wozu sind Tag Pattern ähnlich?</h4>"
      }
     },
     "f66551beb5a247bdacd3b4816bb9b98b": {
      "model_module": "@jupyter-widgets/controls",
      "model_module_version": "1.5.0",
      "model_name": "ButtonStyleModel",
      "state": {}
     },
     "f68a2a56db35427b981a41382251f32c": {
      "model_module": "@jupyter-widgets/controls",
      "model_module_version": "1.5.0",
      "model_name": "HTMLModel",
      "state": {
       "layout": "IPY_MODEL_89091e5b5176430a949ef85307f881f1",
       "style": "IPY_MODEL_c830c0a7d34a4b878b90a7d4080e6005",
       "value": "<h4 style=\"font-size:14px;\">Wo ist der Unterschied zwischen Chunks und Phrasen?</h4>"
      }
     },
     "f6a47b84f8424e368a9220cc3a58f6c1": {
      "model_module": "@jupyter-widgets/base",
      "model_module_version": "1.2.0",
      "model_name": "LayoutModel",
      "state": {}
     },
     "f6edc2295471477f9509f206d73f2900": {
      "model_module": "@jupyter-widgets/controls",
      "model_module_version": "1.5.0",
      "model_name": "VBoxModel",
      "state": {
       "children": [
        "IPY_MODEL_959ac132efdd4ad99945fd6cf3095dfa",
        "IPY_MODEL_29fda516ad4f452fa2b510ab04d45b45",
        "IPY_MODEL_6bc5bfc08b9449188a3f8d8fa08cabae"
       ],
       "layout": "IPY_MODEL_027f5c74d7ea4700bcf4630300617480"
      }
     },
     "f701d6be1d894c038e005195d952feee": {
      "model_module": "@jupyter-widgets/controls",
      "model_module_version": "1.5.0",
      "model_name": "HBoxModel",
      "state": {
       "children": [
        "IPY_MODEL_7fe2b0bf09a146ecaab8639e357cc234",
        "IPY_MODEL_77efc034a849489d9fe824a83f5a34d9"
       ],
       "layout": "IPY_MODEL_3f88a685cc654f6ea81cca659bd4e272"
      }
     },
     "f70c2095f891474ea36f78af379759e9": {
      "model_module": "@jupyter-widgets/base",
      "model_module_version": "1.2.0",
      "model_name": "LayoutModel",
      "state": {
       "justify_content": "center"
      }
     },
     "f72fcf9440eb4ea980002dc8e16f1c85": {
      "model_module": "@jupyter-widgets/base",
      "model_module_version": "1.2.0",
      "model_name": "LayoutModel",
      "state": {
       "width": "250px"
      }
     },
     "f75481b07d8b4273a81b0f60ff5d6bf1": {
      "model_module": "@jupyter-widgets/base",
      "model_module_version": "1.2.0",
      "model_name": "LayoutModel",
      "state": {}
     },
     "f76a22089f2741b7b6b5337a3e3f376d": {
      "model_module": "@jupyter-widgets/controls",
      "model_module_version": "1.5.0",
      "model_name": "DescriptionStyleModel",
      "state": {
       "description_width": ""
      }
     },
     "f773c9f888cd49ae8520c3bfecade159": {
      "model_module": "@jupyter-widgets/base",
      "model_module_version": "1.2.0",
      "model_name": "LayoutModel",
      "state": {}
     },
     "f78f9e363de34595af0b27eda8e86484": {
      "model_module": "@jupyter-widgets/base",
      "model_module_version": "1.2.0",
      "model_name": "LayoutModel",
      "state": {
       "width": "250px"
      }
     },
     "f7af639014504ff3baa9119442473f7a": {
      "model_module": "@jupyter-widgets/controls",
      "model_module_version": "1.5.0",
      "model_name": "CheckboxModel",
      "state": {
       "description": "Accuracy = true positives / Anzahl aller Vorhersagen",
       "disabled": false,
       "layout": "IPY_MODEL_0f297c0f07a941788c44af51141c2a46",
       "style": "IPY_MODEL_c20244dbda614506a3173faa87a0b5a6",
       "value": false
      }
     },
     "f7c0b156e13641c48d30e6ae08280a92": {
      "model_module": "@jupyter-widgets/controls",
      "model_module_version": "1.5.0",
      "model_name": "DescriptionStyleModel",
      "state": {
       "description_width": "initial"
      }
     },
     "f7e149c01b3b4a389d240ecf5a920521": {
      "model_module": "@jupyter-widgets/controls",
      "model_module_version": "1.5.0",
      "model_name": "ButtonStyleModel",
      "state": {}
     },
     "f7f1dc4ca23f49668511141daa841342": {
      "model_module": "@jupyter-widgets/controls",
      "model_module_version": "1.5.0",
      "model_name": "HTMLModel",
      "state": {
       "layout": "IPY_MODEL_d26944a434b14e10b8a8e96dab88973b",
       "style": "IPY_MODEL_70ca3f95a4e5468ab7c6e6543a77132a",
       "value": "<i>Markieren Sie <ins>alle</ins> passenden Antworten: </i>"
      }
     },
     "f7f68c46e03e4990aae54955cfd7b0f8": {
      "model_module": "@jupyter-widgets/controls",
      "model_module_version": "1.5.0",
      "model_name": "ButtonModel",
      "state": {
       "description": "} {",
       "layout": "IPY_MODEL_13b02cb495104ecb9ece48285a4d542a",
       "style": "IPY_MODEL_35814781d3ef41d19cbc1ee46fa6ee6b"
      }
     },
     "f7fd872a689144d0857eeef932ff9b82": {
      "model_module": "@jupyter-widgets/controls",
      "model_module_version": "1.5.0",
      "model_name": "HBoxModel",
      "state": {
       "children": [
        "IPY_MODEL_bb652685ba2c48d18b5ec096d62e187b",
        "IPY_MODEL_6afabd5091364461a458fc0f3c8ebd53"
       ],
       "layout": "IPY_MODEL_cbcfc2f94d8a401a9f6ded86af07a712"
      }
     },
     "f82603786de345b99353414ef2c5e966": {
      "model_module": "@jupyter-widgets/controls",
      "model_module_version": "1.5.0",
      "model_name": "ButtonStyleModel",
      "state": {}
     },
     "f848e755e9d3429987b75276ad92d11f": {
      "model_module": "@jupyter-widgets/controls",
      "model_module_version": "1.5.0",
      "model_name": "ButtonStyleModel",
      "state": {}
     },
     "f84a931a4adc4121b8e308b536e04fe9": {
      "model_module": "@jupyter-widgets/base",
      "model_module_version": "1.2.0",
      "model_name": "LayoutModel",
      "state": {
       "width": "500px"
      }
     },
     "f84c9f9b57d7455db67d7f8c8756b254": {
      "model_module": "@jupyter-widgets/controls",
      "model_module_version": "1.5.0",
      "model_name": "CheckboxModel",
      "state": {
       "description": "Recall = true positives / (true positives + false negatives)",
       "disabled": false,
       "layout": "IPY_MODEL_b2774a1213db4f24a142c6841e581119",
       "style": "IPY_MODEL_793c8b9e4f6645e1b08869381b75f3cd",
       "value": false
      }
     },
     "f84dbb5bc33a4c998594dc78ef26522a": {
      "model_module": "@jupyter-widgets/controls",
      "model_module_version": "1.5.0",
      "model_name": "HTMLModel",
      "state": {
       "layout": "IPY_MODEL_7c343d0775e64a3e8a8ed8117aba4f41",
       "style": "IPY_MODEL_51b9503d79ab4793ba1de6df5d1f5743",
       "value": "<h4 style=\"font-size:14px;\">Welche der Formeln berechnen Precision, Recall, Accuracy und F1-Score korrekt?</h4>"
      }
     },
     "f85c3104761847a6ab7fd7539b75d9e9": {
      "model_module": "@jupyter-widgets/controls",
      "model_module_version": "1.5.0",
      "model_name": "ButtonStyleModel",
      "state": {}
     },
     "f8a0e133e55c4fc8aad778486ead3cbd": {
      "model_module": "@jupyter-widgets/controls",
      "model_module_version": "1.5.0",
      "model_name": "DescriptionStyleModel",
      "state": {
       "description_width": ""
      }
     },
     "f8a17992364b4242a1b3ded74d5c2bb4": {
      "model_module": "@jupyter-widgets/base",
      "model_module_version": "1.2.0",
      "model_name": "LayoutModel",
      "state": {
       "justify_content": "center"
      }
     },
     "f8a8f7d1033c4568978d78b84e604990": {
      "model_module": "@jupyter-widgets/controls",
      "model_module_version": "1.5.0",
      "model_name": "ButtonStyleModel",
      "state": {}
     },
     "f8b584e4f575434ebcb2915ec4a675fc": {
      "model_module": "@jupyter-widgets/base",
      "model_module_version": "1.2.0",
      "model_name": "LayoutModel",
      "state": {
       "justify_content": "center"
      }
     },
     "f8bc7f8038db486b86f00e44d15d4e63": {
      "model_module": "@jupyter-widgets/controls",
      "model_module_version": "1.5.0",
      "model_name": "VBoxModel",
      "state": {
       "children": [
        "IPY_MODEL_bfa072abd2604bcd904643979f5bc008",
        "IPY_MODEL_aa58e765266b439f843400d38babefdc",
        "IPY_MODEL_df991dcd9f474fa9bffd07f44599c67a",
        "IPY_MODEL_fd217bcfbb9f45788df08e92908acade"
       ],
       "layout": "IPY_MODEL_88d8e357099e47ce9a5adbfe371069ee"
      }
     },
     "f8cec373238b455185f5012102b87b4c": {
      "model_module": "@jupyter-widgets/base",
      "model_module_version": "1.2.0",
      "model_name": "LayoutModel",
      "state": {
       "justify_content": "center"
      }
     },
     "f8d554171acf478382b729405510810a": {
      "model_module": "@jupyter-widgets/controls",
      "model_module_version": "1.5.0",
      "model_name": "CheckboxModel",
      "state": {
       "description": "Chunks sind oft länger als Phrasen.",
       "disabled": false,
       "layout": "IPY_MODEL_bdb7645fc5fe4abda81b9a9b58893925",
       "style": "IPY_MODEL_583f0a6922804c2d8bba0c1d96ddef90",
       "value": false
      }
     },
     "f8e736de944c4a4792606d618b1dab75": {
      "model_module": "@jupyter-widgets/base",
      "model_module_version": "1.2.0",
      "model_name": "LayoutModel",
      "state": {
       "width": "600px"
      }
     },
     "f946d387fac24abea150c29063aafb65": {
      "model_module": "@jupyter-widgets/controls",
      "model_module_version": "1.5.0",
      "model_name": "ButtonStyleModel",
      "state": {}
     },
     "f96eef498c86451fa53f707256a93b49": {
      "model_module": "@jupyter-widgets/base",
      "model_module_version": "1.2.0",
      "model_name": "LayoutModel",
      "state": {}
     },
     "f9c85dd26aa34d7aa01fa83b9088086c": {
      "model_module": "@jupyter-widgets/controls",
      "model_module_version": "1.5.0",
      "model_name": "HBoxModel",
      "state": {
       "children": [
        "IPY_MODEL_14af277e893e4d099a7e3e32840c6e87",
        "IPY_MODEL_cb36b6422c7c4f94867c5cfc25dae264"
       ],
       "layout": "IPY_MODEL_466c644a05ef4bafa2db8dfe39f95e1c"
      }
     },
     "f9e2853f150945609995ffa9ee34ce37": {
      "model_module": "@jupyter-widgets/controls",
      "model_module_version": "1.5.0",
      "model_name": "DescriptionStyleModel",
      "state": {
       "description_width": ""
      }
     },
     "fa471785c32e4a329e41e5d2b215ab85": {
      "model_module": "@jupyter-widgets/controls",
      "model_module_version": "1.5.0",
      "model_name": "ButtonModel",
      "state": {
       "description": "Keine der anderen Möglichkeiten",
       "layout": "IPY_MODEL_f72fcf9440eb4ea980002dc8e16f1c85",
       "style": "IPY_MODEL_ee91f9ad024e4fafae930af5f5e86049"
      }
     },
     "fa4edd0aa3f24bbb8fd6df54c8185774": {
      "model_module": "@jupyter-widgets/controls",
      "model_module_version": "1.5.0",
      "model_name": "ButtonModel",
      "state": {
       "description": "cross-serial dependencies",
       "layout": "IPY_MODEL_24e6aa002fa447f998c86dc4b3515541",
       "style": "IPY_MODEL_abba38ae065b4455b5612351c7c92b5f"
      }
     },
     "fa87ff6b6e91421da82aabf860aeab08": {
      "model_module": "@jupyter-widgets/controls",
      "model_module_version": "1.5.0",
      "model_name": "ButtonStyleModel",
      "state": {}
     },
     "fadf684b36f445af8d23735c11155ec6": {
      "model_module": "@jupyter-widgets/base",
      "model_module_version": "1.2.0",
      "model_name": "LayoutModel",
      "state": {}
     },
     "fb23db4e3181475cbdc23f5f7b91e469": {
      "model_module": "@jupyter-widgets/controls",
      "model_module_version": "1.5.0",
      "model_name": "ButtonModel",
      "state": {
       "description": "Korrekt?",
       "layout": "IPY_MODEL_cd488353416749d298d603e8e0ceaba2",
       "style": "IPY_MODEL_e7d6611bf0f446a094c26f3cd37f1204"
      }
     },
     "fb422bc47b0d484daeb72f6dfda378b8": {
      "model_module": "@jupyter-widgets/controls",
      "model_module_version": "1.5.0",
      "model_name": "DescriptionStyleModel",
      "state": {
       "description_width": "initial"
      }
     },
     "fb4abeb419b745d08205fcf18abedcb2": {
      "model_module": "@jupyter-widgets/base",
      "model_module_version": "1.2.0",
      "model_name": "LayoutModel",
      "state": {
       "width": "250px"
      }
     },
     "fbfa27ed038b4e3da205ddbbae18136f": {
      "model_module": "@jupyter-widgets/controls",
      "model_module_version": "1.5.0",
      "model_name": "DescriptionStyleModel",
      "state": {
       "description_width": ""
      }
     },
     "fbfacefc440c42c59f5e4888299fb5d8": {
      "model_module": "@jupyter-widgets/base",
      "model_module_version": "1.2.0",
      "model_name": "LayoutModel",
      "state": {
       "width": "250px"
      }
     },
     "fbfb95b9453642048c83444be775ae3b": {
      "model_module": "@jupyter-widgets/base",
      "model_module_version": "1.2.0",
      "model_name": "LayoutModel",
      "state": {
       "justify_content": "center"
      }
     },
     "fc00e526c1c04c53b101d7e9cb6c17a4": {
      "model_module": "@jupyter-widgets/controls",
      "model_module_version": "1.5.0",
      "model_name": "ButtonModel",
      "state": {
       "description": "garden-path sentence",
       "layout": "IPY_MODEL_f427023ab327484c92d3785040ef5044",
       "style": "IPY_MODEL_156b713b716e45ba916a3a82420e98cd"
      }
     },
     "fc1ea5a75ca541288d0a956257ec141a": {
      "model_module": "@jupyter-widgets/controls",
      "model_module_version": "1.5.0",
      "model_name": "HTMLModel",
      "state": {
       "layout": "IPY_MODEL_361fc798970d4961a9ad3b37b16dc6aa",
       "style": "IPY_MODEL_ff8b0099bddd42dab735f17b87b8e8db",
       "value": "<i>Wählen Sie die <ins>eine</ins> korrekte Antwort aus: </i>"
      }
     },
     "fc23dd29b7f849e7a79bed0101545ccf": {
      "model_module": "@jupyter-widgets/controls",
      "model_module_version": "1.5.0",
      "model_name": "DescriptionStyleModel",
      "state": {
       "description_width": "initial"
      }
     },
     "fc401b3008744b06ac658120d3dad33c": {
      "model_module": "@jupyter-widgets/controls",
      "model_module_version": "1.5.0",
      "model_name": "HTMLModel",
      "state": {
       "layout": "IPY_MODEL_67d3d754302344a09eaa5c08db573e94",
       "style": "IPY_MODEL_d357d866805d4e58aaf406211c5b5c7d",
       "value": "<h4 style=\"font-size:14px;\">Welche Klammern zeigen Chinking an?</h4>"
      }
     },
     "fc6770c8c62c44dd896c224eb9c830d2": {
      "model_module": "@jupyter-widgets/controls",
      "model_module_version": "1.5.0",
      "model_name": "ButtonStyleModel",
      "state": {}
     },
     "fc6bdadc53c04d50a581fbedd93f67da": {
      "model_module": "@jupyter-widgets/controls",
      "model_module_version": "1.5.0",
      "model_name": "DescriptionStyleModel",
      "state": {
       "description_width": "initial"
      }
     },
     "fc780688eb3a4eb4a944865a2358880d": {
      "model_module": "@jupyter-widgets/base",
      "model_module_version": "1.2.0",
      "model_name": "LayoutModel",
      "state": {}
     },
     "fc8a911bc4984a85a9b744dbdafd2168": {
      "model_module": "@jupyter-widgets/controls",
      "model_module_version": "1.5.0",
      "model_name": "CheckboxModel",
      "state": {
       "description": "F1 = (Precision * Recall + 1) / (Precision + Recall)",
       "disabled": false,
       "layout": "IPY_MODEL_db4ca59eb7a5408a8b4fc1d3ce087379",
       "style": "IPY_MODEL_f549064c013243819530ca059401702f",
       "value": false
      }
     },
     "fc9a228de5d047b9ab2eb2285d27d929": {
      "model_module": "@jupyter-widgets/controls",
      "model_module_version": "1.5.0",
      "model_name": "DescriptionStyleModel",
      "state": {
       "description_width": ""
      }
     },
     "fcc57b80cdc1477eba71ec7db433b96b": {
      "model_module": "@jupyter-widgets/base",
      "model_module_version": "1.2.0",
      "model_name": "LayoutModel",
      "state": {
       "width": "250px"
      }
     },
     "fd03eeec1ed14ceb8ba8b7bd8150f605": {
      "model_module": "@jupyter-widgets/controls",
      "model_module_version": "1.5.0",
      "model_name": "VBoxModel",
      "state": {
       "children": [
        "IPY_MODEL_c9e23323dc0446e79eb26b60e4d491c3",
        "IPY_MODEL_a517d156fbee4730adeacc8f9962166b",
        "IPY_MODEL_4eadc9df14824c95bf9fa0d81b3ff629",
        "IPY_MODEL_a096028a11d545428cb653d2e25032db"
       ],
       "layout": "IPY_MODEL_54022c9d4a5c4688b1265718c6f83f62"
      }
     },
     "fd1b314f03584e4597372c1873e0b0ff": {
      "model_module": "@jupyter-widgets/controls",
      "model_module_version": "1.5.0",
      "model_name": "DescriptionStyleModel",
      "state": {
       "description_width": ""
      }
     },
     "fd217bcfbb9f45788df08e92908acade": {
      "model_module": "@jupyter-widgets/controls",
      "model_module_version": "1.5.0",
      "model_name": "ButtonModel",
      "state": {
       "description": "Korrekt?",
       "layout": "IPY_MODEL_3079ed80b26048ac9edc3ec021121585",
       "style": "IPY_MODEL_97ad230687764c1cbdd87b7532869ab3"
      }
     },
     "fd487663a19f402badc95238bc8bf76d": {
      "model_module": "@jupyter-widgets/controls",
      "model_module_version": "1.5.0",
      "model_name": "CheckboxModel",
      "state": {
       "description": "F1 = (Precision * Recall + 1) / (Precision + Recall)",
       "disabled": false,
       "layout": "IPY_MODEL_21334cfd5ad44d4da2bb87054d9468a8",
       "style": "IPY_MODEL_f0f283c3de8e4966ac73961690394d7a",
       "value": false
      }
     },
     "fd5fb4d35ee1451baec583bc9615f15e": {
      "model_module": "@jupyter-widgets/controls",
      "model_module_version": "1.5.0",
      "model_name": "HTMLModel",
      "state": {
       "layout": "IPY_MODEL_6eacaef141854f2198a19c9f75dd5737",
       "style": "IPY_MODEL_9a476da2af774c94959fc43643048630",
       "value": "<i>Wählen Sie die <ins>eine</ins> korrekte Antwort aus: </i>"
      }
     },
     "fd7efce7a5924a0d9ba49c92c162e689": {
      "model_module": "@jupyter-widgets/controls",
      "model_module_version": "1.5.0",
      "model_name": "ButtonStyleModel",
      "state": {}
     },
     "fd80d982f15d4566855cbcfe0a6f912f": {
      "model_module": "@jupyter-widgets/controls",
      "model_module_version": "1.5.0",
      "model_name": "DescriptionStyleModel",
      "state": {
       "description_width": "initial"
      }
     },
     "fd9102db44144adba4ab7e58b3b661b5": {
      "model_module": "@jupyter-widgets/controls",
      "model_module_version": "1.5.0",
      "model_name": "CheckboxModel",
      "state": {
       "description": "ein Chunk wird verkürzt",
       "disabled": false,
       "layout": "IPY_MODEL_e6ce37a8298d461fb8cfa90ff8e9874d",
       "style": "IPY_MODEL_10a2d44862f9417b99984066cf9e0f7b",
       "value": false
      }
     },
     "fda17a697e70405eacd720a993c37fc9": {
      "model_module": "@jupyter-widgets/controls",
      "model_module_version": "1.5.0",
      "model_name": "VBoxModel",
      "state": {
       "children": [
        "IPY_MODEL_9d5c134df1344ece96558f4e90b5b5c2",
        "IPY_MODEL_d18aa610e8464e68a84fa6bfd56426f5",
        "IPY_MODEL_c8d506edd5ee4d6181165b90a6343aef",
        "IPY_MODEL_3556d87ab6fa467992ad253c4619c851"
       ],
       "layout": "IPY_MODEL_ba86f64bbebb4b2d9d62a9ed7ce8207b"
      }
     },
     "fdd798fc66ab4683a00047b19243b80f": {
      "model_module": "@jupyter-widgets/controls",
      "model_module_version": "1.5.0",
      "model_name": "DescriptionStyleModel",
      "state": {
       "description_width": ""
      }
     },
     "fddb4eeba36246a48b2a807870b0b09f": {
      "model_module": "@jupyter-widgets/controls",
      "model_module_version": "1.5.0",
      "model_name": "ButtonStyleModel",
      "state": {}
     },
     "fde72050859d4111bb83fc1d7d23c44f": {
      "model_module": "@jupyter-widgets/controls",
      "model_module_version": "1.5.0",
      "model_name": "ButtonStyleModel",
      "state": {}
     },
     "fe5e5f3f50e0496daf6cc6dd95f9f1b1": {
      "model_module": "@jupyter-widgets/controls",
      "model_module_version": "1.5.0",
      "model_name": "DescriptionStyleModel",
      "state": {
       "description_width": ""
      }
     },
     "fe60012a758144b4bffbcdaf17b3e0a1": {
      "model_module": "@jupyter-widgets/controls",
      "model_module_version": "1.5.0",
      "model_name": "ButtonStyleModel",
      "state": {}
     },
     "fe603bd9b1054ceb93b9aa63ea1ca4b0": {
      "model_module": "@jupyter-widgets/base",
      "model_module_version": "1.2.0",
      "model_name": "LayoutModel",
      "state": {}
     },
     "fe6fa7d3523541f38ec6e7b06ef652fc": {
      "model_module": "@jupyter-widgets/controls",
      "model_module_version": "1.5.0",
      "model_name": "VBoxModel",
      "state": {
       "children": [
        "IPY_MODEL_0e07f86c375f446d9f7ac3dd6b2e6c58",
        "IPY_MODEL_0fa7662c82d54b6aa6c3b444c867a744",
        "IPY_MODEL_bbc48549eb7e4fdcbc265bdffdbf08c1",
        "IPY_MODEL_6340ff32617247738e5daf2407996c2b"
       ],
       "layout": "IPY_MODEL_120de76059384c138b58ced2a203aafc"
      }
     },
     "fec1735720b844b9a50737a7c085c3b3": {
      "model_module": "@jupyter-widgets/controls",
      "model_module_version": "1.5.0",
      "model_name": "ButtonModel",
      "state": {
       "description": "Korrekt?",
       "layout": "IPY_MODEL_f0db1ec495b543ebbd79db0a4c3d6168",
       "style": "IPY_MODEL_4e2a81bd21c34428bf32532ef179e2d9"
      }
     },
     "fec82c2e3c4b44c084ac795a694cf9db": {
      "model_module": "@jupyter-widgets/controls",
      "model_module_version": "1.5.0",
      "model_name": "HBoxModel",
      "state": {
       "children": [
        "IPY_MODEL_d0639192eeeb4abdaa96ceb989a80c9e",
        "IPY_MODEL_4808db1a17364e07885fe3d12002ea92"
       ],
       "layout": "IPY_MODEL_aa9b4d2d3a6446e5bd8a50a834789d5c"
      }
     },
     "fed5be76c466478889c7ce091348e075": {
      "model_module": "@jupyter-widgets/controls",
      "model_module_version": "1.5.0",
      "model_name": "HBoxModel",
      "state": {
       "children": [
        "IPY_MODEL_72e2808bf45b446e9ce644cf8746d689",
        "IPY_MODEL_8a8b3980831a4046ace7dc33f569fc55"
       ],
       "layout": "IPY_MODEL_2e78c2eb1f0b45e59d29b1c3978a5ebc"
      }
     },
     "fefc7edece4044ceb99a01134d6eb1df": {
      "model_module": "@jupyter-widgets/controls",
      "model_module_version": "1.5.0",
      "model_name": "DescriptionStyleModel",
      "state": {
       "description_width": ""
      }
     },
     "ff1d84987e4446c2b7e0e32b7bf42de2": {
      "model_module": "@jupyter-widgets/controls",
      "model_module_version": "1.5.0",
      "model_name": "HBoxModel",
      "state": {
       "children": [
        "IPY_MODEL_95eeecb1e6214bb4b31223720c4fc4fc",
        "IPY_MODEL_27d5f873f98647989ffad7906a09f40a"
       ],
       "layout": "IPY_MODEL_c4e528cbf3db4ee8955906c48a0202d5"
      }
     },
     "ff225cd1eee84fc39b634d4edb334af5": {
      "model_module": "@jupyter-widgets/controls",
      "model_module_version": "1.5.0",
      "model_name": "ButtonStyleModel",
      "state": {}
     },
     "ff4a6e3e2a3c4576a7db12618e1303eb": {
      "model_module": "@jupyter-widgets/base",
      "model_module_version": "1.2.0",
      "model_name": "LayoutModel",
      "state": {}
     },
     "ff5867e0aad54ac48d2c033ef68a3af5": {
      "model_module": "@jupyter-widgets/controls",
      "model_module_version": "1.5.0",
      "model_name": "DropdownModel",
      "state": {
       "_options_labels": [
        "1",
        "2",
        "3",
        "4",
        "Keine der Alternativen"
       ],
       "description": "Antwort:",
       "index": 2,
       "layout": "IPY_MODEL_d5cee9931f40450c9ce6d3bcd7e8248d",
       "style": "IPY_MODEL_c5dec278395f45f8b9ef75346a47fc2a"
      }
     },
     "ff5ac943b72c4bdd9beba4170819eb99": {
      "model_module": "@jupyter-widgets/controls",
      "model_module_version": "1.5.0",
      "model_name": "ButtonModel",
      "state": {
       "description": "cross-serial dependencies",
       "layout": "IPY_MODEL_80defc46b8d44da5a99c40f25865d315",
       "style": "IPY_MODEL_99bb40751291479682d785304fabf019"
      }
     },
     "ff5d294c2910416fb4c975e4ed3de811": {
      "model_module": "@jupyter-widgets/base",
      "model_module_version": "1.2.0",
      "model_name": "LayoutModel",
      "state": {
       "justify_content": "center"
      }
     },
     "ff60448d3e0042fd9ee1d5a04042ac9d": {
      "model_module": "@jupyter-widgets/controls",
      "model_module_version": "1.5.0",
      "model_name": "HTMLModel",
      "state": {
       "layout": "IPY_MODEL_cc37f6e58206486bbe8ab7c325941d5d",
       "style": "IPY_MODEL_4288a4b3de194ffb9196af9134797f23",
       "value": "<i>Wählen Sie die <ins>eine</ins> korrekte Antwort aus: </i>"
      }
     },
     "ff80f905a00940fd9ea176541bdb2381": {
      "model_module": "@jupyter-widgets/base",
      "model_module_version": "1.2.0",
      "model_name": "LayoutModel",
      "state": {}
     },
     "ff8b0099bddd42dab735f17b87b8e8db": {
      "model_module": "@jupyter-widgets/controls",
      "model_module_version": "1.5.0",
      "model_name": "DescriptionStyleModel",
      "state": {
       "description_width": ""
      }
     },
     "ffa25928b53d4b54bd28a1a2e23e385d": {
      "model_module": "@jupyter-widgets/base",
      "model_module_version": "1.2.0",
      "model_name": "LayoutModel",
      "state": {
       "width": "250px"
      }
     },
     "ffa8c188b35a407ab2f91492a86a639b": {
      "model_module": "@jupyter-widgets/base",
      "model_module_version": "1.2.0",
      "model_name": "LayoutModel",
      "state": {}
     },
     "ffb3e1f3e72943b287e53359e68c6887": {
      "model_module": "@jupyter-widgets/controls",
      "model_module_version": "1.5.0",
      "model_name": "DescriptionStyleModel",
      "state": {
       "description_width": ""
      }
     },
     "ffe32f5d18e64bfab64f5a27da9f27ef": {
      "model_module": "@jupyter-widgets/controls",
      "model_module_version": "1.5.0",
      "model_name": "VBoxModel",
      "state": {
       "children": [
        "IPY_MODEL_63316d6e08ed4379b2f53498e4fad2bf",
        "IPY_MODEL_97bc62e1040b4460a51258029b5ad605",
        "IPY_MODEL_609692eef6c94c9dbade11dcef894d01",
        "IPY_MODEL_f417678112914b40994723bf2bb20984"
       ],
       "layout": "IPY_MODEL_67151d99b37748bbb0a5f0d0a1bf72e6"
      }
     },
     "ffe765b8210d449883a610644a1efba1": {
      "model_module": "@jupyter-widgets/controls",
      "model_module_version": "1.5.0",
      "model_name": "DescriptionStyleModel",
      "state": {
       "description_width": ""
      }
     },
     "fff2e8e1e24f4a40ba3ed93b2bab492d": {
      "model_module": "@jupyter-widgets/controls",
      "model_module_version": "1.5.0",
      "model_name": "DescriptionStyleModel",
      "state": {
       "description_width": "initial"
      }
     }
    },
    "version_major": 2,
    "version_minor": 0
   }
  }
 },
 "nbformat": 4,
 "nbformat_minor": 2
}
