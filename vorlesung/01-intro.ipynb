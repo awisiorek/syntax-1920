{
 "cells": [
  {
   "cell_type": "markdown",
   "metadata": {},
   "source": [
    "***Vorlesung 'Syntax natürlicher Sprachen', WS 2019/20***\n",
    "\n",
    "--- \n",
    "# Intro: Syntaxanalyse mit formalen Grammatiken"
   ]
  },
  {
   "cell_type": "code",
   "execution_count": 1,
   "metadata": {},
   "outputs": [],
   "source": [
    "import nltk"
   ]
  },
  {
   "cell_type": "code",
   "execution_count": 2,
   "metadata": {},
   "outputs": [
    {
     "name": "stdout",
     "output_type": "stream",
     "text": [
      "['I', 'shot', 'an', 'elephant', 'in', 'my', 'pajamas']\n"
     ]
    }
   ],
   "source": [
    "sent = 'I shot an elephant in my pajamas'.split()\n",
    "print(sent)"
   ]
  },
  {
   "cell_type": "markdown",
   "metadata": {},
   "source": [
    "---\n",
    "## CFG (Kontextfreie Grammatik)"
   ]
  },
  {
   "cell_type": "code",
   "execution_count": 3,
   "metadata": {},
   "outputs": [],
   "source": [
    "grammar = nltk.CFG.fromstring(\"\"\"\n",
    "    S -> NP VP\n",
    "    PP -> P NP\n",
    "    NP -> Det N | Det N PP | 'I'\n",
    "    VP -> V NP | VP PP\n",
    "    Det -> 'an' | 'my'\n",
    "    N -> 'elephant' | 'pajamas'\n",
    "    V -> 'shot'\n",
    "    P -> 'in'\n",
    "    \"\"\")\n"
   ]
  },
  {
   "cell_type": "code",
   "execution_count": 4,
   "metadata": {},
   "outputs": [
    {
     "name": "stdout",
     "output_type": "stream",
     "text": [
      "(S\n",
      "  (NP I)\n",
      "  (VP\n",
      "    (VP (V shot) (NP (Det an) (N elephant)))\n",
      "    (PP (P in) (NP (Det my) (N pajamas)))))\n",
      "     S                                       \n",
      " ┌───┴──────────────┐                         \n",
      " │                  VP                       \n",
      " │        ┌─────────┴──────────┐              \n",
      " │        VP                   PP            \n",
      " │   ┌────┴───┐            ┌───┴───┐          \n",
      " │   │        NP           │       NP        \n",
      " │   │    ┌───┴─────┐      │   ┌───┴─────┐    \n",
      " NP  V   Det        N      P  Det        N   \n",
      " │   │    │         │      │   │         │    \n",
      " I  shot  an     elephant  in  my     pajamas\n",
      "\n",
      "(S\n",
      "  (NP I)\n",
      "  (VP\n",
      "    (V shot)\n",
      "    (NP (Det an) (N elephant) (PP (P in) (NP (Det my) (N pajamas))))))\n",
      "     S                                   \n",
      " ┌───┴──────────┐                         \n",
      " │              VP                       \n",
      " │   ┌──────────┴──────┐                  \n",
      " │   │                 NP                \n",
      " │   │    ┌─────┬──────┴───┐              \n",
      " │   │    │     │          PP            \n",
      " │   │    │     │      ┌───┴───┐          \n",
      " │   │    │     │      │       NP        \n",
      " │   │    │     │      │   ┌───┴─────┐    \n",
      " NP  V   Det    N      P  Det        N   \n",
      " │   │    │     │      │   │         │    \n",
      " I  shot  an elephant  in  my     pajamas\n",
      "\n"
     ]
    }
   ],
   "source": [
    "parser = nltk.ChartParser(grammar,trace=0)\n",
    "\n",
    "for tree in parser.parse(sent):\n",
    "    print(tree)\n",
    "    tree.pretty_print(unicodelines=True)"
   ]
  },
  {
   "cell_type": "markdown",
   "metadata": {},
   "source": [
    "---\n",
    "\n",
    "# Dependenzgrammatik"
   ]
  },
  {
   "cell_type": "code",
   "execution_count": 5,
   "metadata": {},
   "outputs": [],
   "source": [
    "grammar = nltk.DependencyGrammar.fromstring(\"\"\"\n",
    "    'shot' -> 'I' | 'elephant' | 'in'\n",
    "    'elephant' -> 'an' | 'in'\n",
    "    'in' -> 'pajamas'\n",
    "    'pajamas' -> 'my'\n",
    "    \"\"\")"
   ]
  },
  {
   "cell_type": "code",
   "execution_count": 6,
   "metadata": {},
   "outputs": [
    {
     "name": "stdout",
     "output_type": "stream",
     "text": [
      "(shot I (elephant an (in (pajamas my))))\n",
      "    shot                 \n",
      " ┌───┴──────┐             \n",
      " │       elephant        \n",
      " │   ┌──────┴────────┐    \n",
      " │   │               in  \n",
      " │   │               │    \n",
      " │   │            pajamas\n",
      " │   │               │    \n",
      " I   an              my  \n",
      "\n",
      "(shot I (elephant an) (in (pajamas my)))\n",
      "      shot          \n",
      " ┌─────┼────────┐    \n",
      " │     │        in  \n",
      " │     │        │    \n",
      " │  elephant pajamas\n",
      " │     │        │    \n",
      " I     an       my  \n",
      "\n"
     ]
    }
   ],
   "source": [
    "parser = nltk.ProjectiveDependencyParser(grammar)\n",
    "\n",
    "for tree in parser.parse(sent):\n",
    "    print(tree)\n",
    "    tree.pretty_print(unicodelines=True)"
   ]
  },
  {
   "cell_type": "markdown",
   "metadata": {},
   "source": [
    "---\n",
    "# PCFG (Probabilistische CFG)"
   ]
  },
  {
   "cell_type": "code",
   "execution_count": 7,
   "metadata": {},
   "outputs": [],
   "source": [
    "grammar1 = nltk.PCFG.fromstring(\"\"\"\n",
    "    S -> NP VP [1.0]\n",
    "    PP -> P NP [1.0]\n",
    "    NP -> Det N  [0.8] | Det N PP  [0.1] | 'I'  [0.1]\n",
    "    VP -> V NP [0.8] | VP PP [0.2]\n",
    "    Det -> 'an' [0.7] | 'my' [0.3]\n",
    "    N -> 'elephant' [0.5] | 'pajamas' [0.5]\n",
    "    V -> 'shot' [1.0]\n",
    "    P -> 'in' [1.0]\n",
    "    \"\"\")"
   ]
  },
  {
   "cell_type": "code",
   "execution_count": 8,
   "metadata": {},
   "outputs": [
    {
     "name": "stdout",
     "output_type": "stream",
     "text": [
      "(S\n",
      "  (NP I)\n",
      "  (VP\n",
      "    (VP (V shot) (NP (Det an) (N elephant)))\n",
      "    (PP (P in) (NP (Det my) (N pajamas))))) (p=0.0005376)\n",
      "     S                                       \n",
      " ┌───┴──────────────┐                         \n",
      " │                  VP                       \n",
      " │        ┌─────────┴──────────┐              \n",
      " │        VP                   PP            \n",
      " │   ┌────┴───┐            ┌───┴───┐          \n",
      " │   │        NP           │       NP        \n",
      " │   │    ┌───┴─────┐      │   ┌───┴─────┐    \n",
      " NP  V   Det        N      P  Det        N   \n",
      " │   │    │         │      │   │         │    \n",
      " I  shot  an     elephant  in  my     pajamas\n",
      "\n"
     ]
    }
   ],
   "source": [
    "parser = nltk.ViterbiParser(grammar1)\n",
    "\n",
    "for tree in parser.parse(sent):\n",
    "    print(tree)\n",
    "    tree.pretty_print(unicodelines=True)"
   ]
  },
  {
   "cell_type": "code",
   "execution_count": 9,
   "metadata": {},
   "outputs": [],
   "source": [
    "grammar2 = nltk.PCFG.fromstring(\"\"\"\n",
    "    S -> NP VP [1.0]\n",
    "    PP -> P NP [1.0]\n",
    "#andere Werte:\n",
    "    NP -> Det N  [0.7] | Det N PP  [0.2] | 'I'  [0.1] \n",
    "    VP -> V NP [0.8] | VP PP [0.2]\n",
    "    Det -> 'an' [0.7] | 'my' [0.3]\n",
    "    N -> 'elephant' [0.5] | 'pajamas' [0.5]\n",
    "    V -> 'shot' [1.0]\n",
    "    P -> 'in' [1.0]\n",
    "    \"\"\")"
   ]
  },
  {
   "cell_type": "code",
   "execution_count": 10,
   "metadata": {},
   "outputs": [
    {
     "name": "stdout",
     "output_type": "stream",
     "text": [
      "(S\n",
      "  (NP I)\n",
      "  (VP\n",
      "    (V shot)\n",
      "    (NP\n",
      "      (Det an)\n",
      "      (N elephant)\n",
      "      (PP (P in) (NP (Det my) (N pajamas)))))) (p=0.000588)\n",
      "     S                                   \n",
      " ┌───┴──────────┐                         \n",
      " │              VP                       \n",
      " │   ┌──────────┴──────┐                  \n",
      " │   │                 NP                \n",
      " │   │    ┌─────┬──────┴───┐              \n",
      " │   │    │     │          PP            \n",
      " │   │    │     │      ┌───┴───┐          \n",
      " │   │    │     │      │       NP        \n",
      " │   │    │     │      │   ┌───┴─────┐    \n",
      " NP  V   Det    N      P  Det        N   \n",
      " │   │    │     │      │   │         │    \n",
      " I  shot  an elephant  in  my     pajamas\n",
      "\n"
     ]
    }
   ],
   "source": [
    "parser = nltk.ViterbiParser(grammar2)\n",
    "\n",
    "for tree in parser.parse(sent):\n",
    "    print(tree)\n",
    "    tree.pretty_print(unicodelines=True)"
   ]
  },
  {
   "cell_type": "markdown",
   "metadata": {},
   "source": [
    "---\n",
    "# *feature-based* CFG (CFG mit grammatischen Merkmalen)"
   ]
  },
  {
   "cell_type": "code",
   "execution_count": 11,
   "metadata": {},
   "outputs": [],
   "source": [
    "                                                                          \n",
    "## Natural Language Toolkit: german.fcfg\n",
    "##\n",
    "## Example of a feature-based grammar for German, illustrating\n",
    "## CASE and AGR features (PER, GND, NUM) working as a bundle.\n",
    "## Used in Feature-Based Grammars chapter.\n",
    "## \n",
    "## Author: Michaela Atterer <atterer@ims.uni-stuttgart.de> \n",
    "##         Ewan Klein <ewan@inf.ed.ac.uk> \n",
    "##\n",
    "## Plural transitive verbs productions by Jordan Boyd-Graber (ezubaric at users.sourceforge.net)\n"
   ]
  },
  {
   "cell_type": "code",
   "execution_count": 12,
   "metadata": {},
   "outputs": [],
   "source": [
    "gramstring = r\"\"\"\n",
    "% start S\n",
    "#####################\n",
    "# Grammar Productions\n",
    "#####################\n",
    "S -> NP[CASE=nom, AGR=?a] VP[AGR=?a]\n",
    "\n",
    "NP[CASE=?c, AGR=?a] -> PRO[CASE=?c, AGR=?a]\n",
    "NP[CASE=?c, AGR=?a] -> Det[CASE=?c, AGR=?a] N[CASE=?c, AGR=?a]\n",
    "\n",
    "VP[AGR=?a] -> IV[AGR=?a]\n",
    "VP[AGR=?a] -> TV[OBJCASE=?c, AGR=?a] NP[CASE=?c]\n",
    "\n",
    "#####################\n",
    "# Lexical Productions\n",
    "#####################\n",
    "# Singular determiners\n",
    "\n",
    "# masc\n",
    "Det[CASE=nom, AGR=[GND=masc,PER=3,NUM=sg]] -> 'der' \n",
    "Det[CASE=dat, AGR=[GND=masc,PER=3,NUM=sg]] -> 'dem'\n",
    "Det[CASE=acc, AGR=[GND=masc,PER=3,NUM=sg]] -> 'den'\n",
    "\n",
    "# fem\n",
    "Det[CASE=nom, AGR=[GND=fem,PER=3,NUM=sg]] -> 'die' \n",
    "Det[CASE=dat, AGR=[GND=fem,PER=3,NUM=sg]] -> 'der'\n",
    "Det[CASE=acc, AGR=[GND=fem,PER=3,NUM=sg]] -> 'die' \n",
    "\n",
    "# Plural determiners\n",
    "Det[CASE=nom, AGR=[PER=3,NUM=pl]] -> 'die' \n",
    "Det[CASE=dat, AGR=[PER=3,NUM=pl]] -> 'den' \n",
    "Det[CASE=acc, AGR=[PER=3,NUM=pl]] -> 'die' \n",
    "\n",
    "# Nouns\n",
    "N[AGR=[GND=masc,PER=3,NUM=sg]] -> 'Hund'\n",
    "N[CASE=nom, AGR=[GND=masc,PER=3,NUM=pl]] -> 'Hunde'\n",
    "N[CASE=dat, AGR=[GND=masc,PER=3,NUM=pl]] -> 'Hunden'\n",
    "N[CASE=acc, AGR=[GND=masc,PER=3,NUM=pl]] -> 'Hunde'\n",
    "\n",
    "N[AGR=[GND=fem,PER=3,NUM=sg]] -> 'Katze'\n",
    "N[AGR=[GND=fem,PER=3,NUM=pl]] -> 'Katzen'\n",
    "\n",
    "# Pronouns\n",
    "PRO[CASE=nom, AGR=[PER=1,NUM=sg]] -> 'ich'\n",
    "PRO[CASE=acc, AGR=[PER=1,NUM=sg]] -> 'mich'\n",
    "PRO[CASE=dat, AGR=[PER=1,NUM=sg]] -> 'mir'\n",
    "PRO[CASE=nom, AGR=[PER=2,NUM=sg]] -> 'du'\n",
    "PRO[CASE=nom, AGR=[PER=3,NUM=sg]] -> 'er' | 'sie' | 'es'\n",
    "PRO[CASE=nom, AGR=[PER=1,NUM=pl]] -> 'wir'\n",
    "PRO[CASE=acc, AGR=[PER=1,NUM=pl]] -> 'uns'\n",
    "PRO[CASE=dat, AGR=[PER=1,NUM=pl]] -> 'uns'\n",
    "PRO[CASE=nom, AGR=[PER=2,NUM=pl]] -> 'ihr'\n",
    "PRO[CASE=nom, AGR=[PER=3,NUM=pl]] -> 'sie'\n",
    "\n",
    "# Verbs\n",
    "IV[AGR=[NUM=sg,PER=1]] -> 'komme'\n",
    "IV[AGR=[NUM=sg,PER=2]] -> 'kommst'\n",
    "IV[AGR=[NUM=sg,PER=3]] -> 'kommt'\n",
    "IV[AGR=[NUM=pl, PER=1]] -> 'kommen'\n",
    "IV[AGR=[NUM=pl, PER=2]] -> 'kommt'\n",
    "IV[AGR=[NUM=pl, PER=3]] -> 'kommen'\n",
    "\n",
    "TV[OBJCASE=acc, AGR=[NUM=sg,PER=1]] -> 'sehe' | 'mag'\n",
    "TV[OBJCASE=acc, AGR=[NUM=sg,PER=2]] -> 'siehst' | 'magst'\n",
    "TV[OBJCASE=acc, AGR=[NUM=sg,PER=3]] -> 'sieht' | 'mag'\n",
    "TV[OBJCASE=dat, AGR=[NUM=sg,PER=1]] -> 'folge' | 'helfe'\n",
    "TV[OBJCASE=dat, AGR=[NUM=sg,PER=2]] -> 'folgst' | 'hilfst'\n",
    "TV[OBJCASE=dat, AGR=[NUM=sg,PER=3]] -> 'folgt' | 'hilft'\n",
    "TV[OBJCASE=acc, AGR=[NUM=pl,PER=1]] -> 'sehen' | 'moegen'\n",
    "TV[OBJCASE=acc, AGR=[NUM=pl,PER=2]] -> 'sieht' | 'moegt'\n",
    "TV[OBJCASE=acc, AGR=[NUM=pl,PER=3]] -> 'sehen' | 'moegen'\n",
    "TV[OBJCASE=dat, AGR=[NUM=pl,PER=1]] -> 'folgen' | 'helfen'\n",
    "TV[OBJCASE=dat, AGR=[NUM=pl,PER=2]] -> 'folgt' | 'helft'\n",
    "TV[OBJCASE=dat, AGR=[NUM=pl,PER=3]] -> 'folgen' | 'helfen'\n",
    "\"\"\""
   ]
  },
  {
   "cell_type": "code",
   "execution_count": 13,
   "metadata": {},
   "outputs": [
    {
     "name": "stdout",
     "output_type": "stream",
     "text": [
      "['der', 'Hund', 'sieht', 'uns']\n"
     ]
    }
   ],
   "source": [
    "sent = 'der Hund sieht uns'.split()\n",
    "print(sent)"
   ]
  },
  {
   "cell_type": "code",
   "execution_count": 14,
   "metadata": {},
   "outputs": [
    {
     "name": "stdout",
     "output_type": "stream",
     "text": [
      "(S[]\n",
      "  (NP[AGR=[GND='masc', NUM='sg', PER=3], CASE='nom']\n",
      "    (Det[AGR=[GND='masc', NUM='sg', PER=3], CASE='nom'] der)\n",
      "    (N[AGR=[GND='masc', NUM='sg', PER=3]] Hund))\n",
      "  (VP[AGR=[NUM='sg', PER=3]]\n",
      "    (TV[AGR=[NUM='sg', PER=3], OBJCASE='acc'] sieht)\n",
      "    (NP[AGR=[NUM='pl', PER=1], CASE='acc']\n",
      "      (PRO[AGR=[NUM='pl', PER=1], CASE='acc'] uns))))\n"
     ]
    }
   ],
   "source": [
    "grammar = nltk.grammar.FeatureGrammar.fromstring(gramstring)\n",
    "parser = nltk.parse.FeatureChartParser(grammar)\n",
    "\n",
    "for tree in parser.parse(sent):\n",
    "    print(tree)"
   ]
  },
  {
   "cell_type": "markdown",
   "metadata": {},
   "source": [
    "---\n",
    "# Partielles Parsing mit regulärer Grammatik (Chunking)"
   ]
  },
  {
   "cell_type": "code",
   "execution_count": 15,
   "metadata": {},
   "outputs": [],
   "source": [
    "grammar = r\"\"\"\n",
    "    NP: {<DT|PP\\$>?<JJ>*<NN>}   \n",
    "# chunk determiner/possessive, adjectives and noun\n",
    "    {<NNP>+}               \n",
    "# chunk sequences of proper nouns\n",
    "    \"\"\""
   ]
  },
  {
   "cell_type": "code",
   "execution_count": 16,
   "metadata": {},
   "outputs": [
    {
     "name": "stdout",
     "output_type": "stream",
     "text": [
      "[('Rapunzel', 'NNP'), ('let', 'VBD'), ('down', 'RP'), ('her', 'PP$'), ('long', 'JJ'), ('golden', 'JJ'), ('hair', 'NN')]\n"
     ]
    }
   ],
   "source": [
    "sent = [(\"Rapunzel\", \"NNP\"), (\"let\", \"VBD\"), (\"down\", \"RP\"), (\"her\", \"PP$\"), (\"long\", \"JJ\"), (\"golden\", \"JJ\"), (\"hair\", \"NN\")]\n",
    "print(sent)"
   ]
  },
  {
   "cell_type": "code",
   "execution_count": 17,
   "metadata": {},
   "outputs": [
    {
     "name": "stdout",
     "output_type": "stream",
     "text": [
      "(S\n",
      "  (NP Rapunzel/NNP)\n",
      "  let/VBD\n",
      "  down/RP\n",
      "  (NP her/PP$ long/JJ golden/JJ hair/NN))\n"
     ]
    },
    {
     "data": {
      "image/png": "[encoded data removed]",
      "text/plain": [
       "Tree('S', [Tree('NP', [('Rapunzel', 'NNP')]), ('let', 'VBD'), ('down', 'RP'), Tree('NP', [('her', 'PP$'), ('long', 'JJ'), ('golden', 'JJ'), ('hair', 'NN')])])"
      ]
     },
     "execution_count": 17,
     "metadata": {},
     "output_type": "execute_result"
    }
   ],
   "source": [
    "parser = nltk.RegexpParser(grammar)\n",
    "\n",
    "tree = parser.parse(sent) \n",
    "print(tree)\n",
    "tree"
   ]
  }
 ],
 "metadata": {
  "kernelspec": {
   "display_name": "Python 3",
   "language": "python",
   "name": "python3"
  },
  "language_info": {
   "codemirror_mode": {
    "name": "ipython",
    "version": 3
   },
   "file_extension": ".py",
   "mimetype": "text/x-python",
   "name": "python",
   "nbconvert_exporter": "python",
   "pygments_lexer": "ipython3",
   "version": "3.6.1"
  },
  "widgets": {
   "application/vnd.jupyter.widget-state+json": {
    "state": {
     "098dd75f65594c0f992ddeffeb8523e3": {
      "model_module": "@jupyter-widgets/controls",
      "model_module_version": "1.2.0",
      "model_name": "SliderStyleModel",
      "state": {
       "description_width": ""
      }
     },
     "0ccfa5129ab64950adda077f6ac8f44a": {
      "model_module": "@jupyter-widgets/controls",
      "model_module_version": "1.2.0",
      "model_name": "IntSliderModel",
      "state": {
       "layout": "IPY_MODEL_641f3cf31a334ee6810a9a92f93e89a7",
       "style": "IPY_MODEL_63aadafcc3504a3b8b15fdea9d4ec244",
       "value": 50
      }
     },
     "1b37a149a74c40c68d34c61b481048f8": {
      "model_module": "@jupyter-widgets/base",
      "model_module_version": "1.0.0",
      "model_name": "LayoutModel",
      "state": {}
     },
     "367694b2ecc94715a20952236f9ced88": {
      "model_module": "@jupyter-widgets/base",
      "model_module_version": "1.0.0",
      "model_name": "LayoutModel",
      "state": {}
     },
     "3d6ebd239fc84a8e95b3007988e38134": {
      "model_module": "@jupyter-widgets/controls",
      "model_module_version": "1.2.0",
      "model_name": "SliderStyleModel",
      "state": {
       "description_width": ""
      }
     },
     "63aadafcc3504a3b8b15fdea9d4ec244": {
      "model_module": "@jupyter-widgets/controls",
      "model_module_version": "1.2.0",
      "model_name": "SliderStyleModel",
      "state": {
       "description_width": ""
      }
     },
     "641f3cf31a334ee6810a9a92f93e89a7": {
      "model_module": "@jupyter-widgets/base",
      "model_module_version": "1.0.0",
      "model_name": "LayoutModel",
      "state": {}
     },
     "993ec756027845c19085347ca5f9f6ce": {
      "model_module": "@jupyter-widgets/controls",
      "model_module_version": "1.2.0",
      "model_name": "SliderStyleModel",
      "state": {
       "description_width": ""
      }
     },
     "bb743dc2dd2d4bb08dd2c5255e1d87c6": {
      "model_module": "@jupyter-widgets/controls",
      "model_module_version": "1.2.0",
      "model_name": "SliderStyleModel",
      "state": {
       "description_width": ""
      }
     },
     "cb4a4abdac584f78ac3b37579ac33b10": {
      "model_module": "@jupyter-widgets/controls",
      "model_module_version": "1.2.0",
      "model_name": "IntSliderModel",
      "state": {
       "layout": "IPY_MODEL_f25c2eb22704411b9981f8047a2c0182",
       "style": "IPY_MODEL_993ec756027845c19085347ca5f9f6ce",
       "value": 50
      }
     },
     "cfbb8ba5969a49e18a1733c50e6b73e4": {
      "model_module": "@jupyter-widgets/controls",
      "model_module_version": "1.2.0",
      "model_name": "IntSliderModel",
      "state": {
       "layout": "IPY_MODEL_1b37a149a74c40c68d34c61b481048f8",
       "style": "IPY_MODEL_3d6ebd239fc84a8e95b3007988e38134",
       "value": 50
      }
     },
     "da2e37629b7141b8a194c275f89ccef5": {
      "model_module": "@jupyter-widgets/base",
      "model_module_version": "1.0.0",
      "model_name": "LayoutModel",
      "state": {}
     },
     "eafa48b852af4f40b414b8d4f0b90c7a": {
      "model_module": "@jupyter-widgets/controls",
      "model_module_version": "1.2.0",
      "model_name": "IntSliderModel",
      "state": {
       "layout": "IPY_MODEL_da2e37629b7141b8a194c275f89ccef5",
       "style": "IPY_MODEL_bb743dc2dd2d4bb08dd2c5255e1d87c6"
      }
     },
     "f196171317cf493fabedf854f59c1d44": {
      "model_module": "@jupyter-widgets/controls",
      "model_module_version": "1.2.0",
      "model_name": "IntSliderModel",
      "state": {
       "layout": "IPY_MODEL_367694b2ecc94715a20952236f9ced88",
       "style": "IPY_MODEL_098dd75f65594c0f992ddeffeb8523e3"
      }
     },
     "f25c2eb22704411b9981f8047a2c0182": {
      "model_module": "@jupyter-widgets/base",
      "model_module_version": "1.0.0",
      "model_name": "LayoutModel",
      "state": {}
     }
    },
    "version_major": 2,
    "version_minor": 0
   }
  }
 },
 "nbformat": 4,
 "nbformat_minor": 2
}
