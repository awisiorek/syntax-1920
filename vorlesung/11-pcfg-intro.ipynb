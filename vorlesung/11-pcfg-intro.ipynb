{
 "cells": [
  {
   "cell_type": "markdown",
   "metadata": {},
   "source": [
    "***Vorlesung 'Syntax natürlicher Sprachen', WS 2019/20***\n",
    "\n",
    "---\n",
    "# PCFG: Abschätzung von Regelwahrscheinlichkeiten aus CFG-Korpusdaten"
   ]
  },
  {
   "cell_type": "code",
   "execution_count": 84,
   "metadata": {
    "scrolled": true
   },
   "outputs": [],
   "source": [
    "import nltk"
   ]
  },
  {
   "cell_type": "markdown",
   "metadata": {},
   "source": [
    "---\n",
    "## 1: Herunterladen von Ressourcen\n",
    "\n",
    "#### Laden Sie sich zunächst die Ressource `corpora/treebank` über den NLTK Download-Manager herunter."
   ]
  },
  {
   "cell_type": "code",
   "execution_count": 85,
   "metadata": {},
   "outputs": [],
   "source": [
    "# nltk.download()"
   ]
  },
  {
   "cell_type": "markdown",
   "metadata": {},
   "source": [
    "---\n",
    "## 2: Von Daten zu Regelwahrscheinlichkeiten\n",
    "\n",
    "#### Gegeben sei folgende kontextfreie Grammatik:"
   ]
  },
  {
   "cell_type": "code",
   "execution_count": 86,
   "metadata": {},
   "outputs": [],
   "source": [
    "cfg = \"\"\"\n",
    "S -> NP VP\n",
    "VP -> V NP PP\n",
    "VP -> V NP\n",
    "NP -> DET N\n",
    "NP -> NP PP\n",
    "PP -> P NP\n",
    "\n",
    "DET -> \"the\" | \"a\"\n",
    "N -> \"boy\" | \"woman\" | \"telescope\"\n",
    "V -> \"saw\"\n",
    "P -> \"with\"\n",
    "\"\"\""
   ]
  },
  {
   "cell_type": "markdown",
   "metadata": {},
   "source": [
    "#### Sie modelliert sehr einfache Sätze der Form `SBJ` *saw* `OBJ` mit optionaler Präpositionalphrase am Ende. Diese Präpositionalphrase kann entweder der näheren Bestimmung des Objekts oder der näheren Bestimmung der in der Verbalphrase ausgedrückten Handlung dienen.\n",
    "\n",
    "#### Im folgenden sollen aus der Penn Treebank Wahrscheinlichkeiten für die einzelnen Regeln extrahiert werden, um dieser Ambiguität Herr zu werden."
   ]
  },
  {
   "cell_type": "markdown",
   "metadata": {},
   "source": [
    "---\n",
    "### 2a: Relevante Konstruktionen erkennen\n",
    "\n",
    "#### Nutzen das im NLTK enthaltene Sample der Penn Treebank (nach Installation unter `nltk.corpus.treebank` zu finden) zunächst zur Identifikation der für eine Disambiguierung nützlichen (Teil-)bäume der Penn Treebank.\n",
    "\n",
    "#### *Hinweis:* Sie können sich bei der Analyse auf die häufigsten Konstruktionen der Baumbank beschränken."
   ]
  },
  {
   "cell_type": "code",
   "execution_count": 87,
   "metadata": {},
   "outputs": [],
   "source": [
    "from collections import defaultdict\n",
    "from nltk.corpus import treebank"
   ]
  },
  {
   "cell_type": "code",
   "execution_count": 88,
   "metadata": {},
   "outputs": [],
   "source": [
    "def find_relevant_constructions(lhs, only_with=None):\n",
    "    lhs_nt = nltk.grammar.Nonterminal(lhs)\n",
    "    should_filter = only_with is not None\n",
    "    if should_filter:\n",
    "        filter_by = list(map(nltk.grammar.Nonterminal, only_with))\n",
    "        def passes_filter(tup):\n",
    "            for f in filter_by:\n",
    "                if f not in tup:\n",
    "                    return False\n",
    "            return True\n",
    "\n",
    "    counter = defaultdict(int)\n",
    "    ### TODO: zähle Produktionen in treebank mit lhs als linker Seite ###\n",
    "    ### und einer rechten Seite, für die passes_filter True liefert ###\n",
    "    for tree in treebank.parsed_sents():  # [(S (NP DET N) (VP V NP))]\n",
    "        for prod in tree.productions():   # [(S, NP VP), (NP, DET N)]\n",
    "            if prod.lhs() == lhs_nt:\n",
    "                if not should_filter or passes_filter(prod.rhs()):\n",
    "                    counter[prod] += 1\n",
    "\n",
    "    return [ (k, counter[k]) for k in sorted(counter.keys(), key=counter.__getitem__) ]"
   ]
  },
  {
   "cell_type": "markdown",
   "metadata": {},
   "source": [
    "---\n",
    "### 2b: Regelwahrscheinlichkeiten abschätzen\n",
    "\n",
    "#### Zählen Sie nun, wie oft die NP+PP-Konstruktion in der Penn Treebank vorkommt und berechnen Sie die relativen Häufigkeiten als Approximation der Regelwahrscheinlichkeiten. Das Vorgehen wird in folgender Formel veranschaulicht:\n",
    "\n",
    "$$P(N\\!P, P\\!P \\mid N\\!P) = \\dfrac{count(N\\!P \\rightarrow \\:N\\!P\\:P\\!P)}{count(N\\!P \\rightarrow \\setminus*)}$$\n",
    "\n"
   ]
  },
  {
   "cell_type": "code",
   "execution_count": 104,
   "metadata": {},
   "outputs": [
    {
     "data": {
      "text/plain": [
       "[(NP -> NP SBAR, 409),\n",
       " (NP -> JJ NNS, 653),\n",
       " (NP -> NNP NNP, 734),\n",
       " (NP -> DT JJ NN, 740),\n",
       " (NP -> NNP, 837),\n",
       " (NP -> NNS, 996),\n",
       " (NP -> NN, 1110),\n",
       " (NP -> -NONE-, 1225),\n",
       " (NP -> DT NN, 2020),\n",
       " (NP -> NP PP, 2188)]"
      ]
     },
     "execution_count": 104,
     "metadata": {},
     "output_type": "execute_result"
    }
   ],
   "source": [
    "constructions = find_relevant_constructions('NP')\n",
    "constructions[-10:]"
   ]
  },
  {
   "cell_type": "code",
   "execution_count": 90,
   "metadata": {},
   "outputs": [],
   "source": [
    "\n",
    "np_np_pp_frq = 2188\n",
    "np_n_without_frq = 2020 + 1110 + 996 + 837 + 740 + 734 + 653\n",
    "np_with_pp = np_np_pp_frq / (np_np_pp_frq + np_n_without_frq)\n",
    "np_without = np_n_without_frq / (np_np_pp_frq + np_n_without_frq)\n"
   ]
  },
  {
   "cell_type": "code",
   "execution_count": 106,
   "metadata": {},
   "outputs": [
    {
     "data": {
      "text/plain": [
       "[(NP -> NP PP PP-LOC, 40),\n",
       " (NP -> NP , PP, 41),\n",
       " (NP -> NP PP SBAR, 49),\n",
       " (NP -> NP PP PP, 64),\n",
       " (NP -> NP PP, 2188)]"
      ]
     },
     "execution_count": 106,
     "metadata": {},
     "output_type": "execute_result"
    }
   ],
   "source": [
    "constructions = find_relevant_constructions('NP', ('NP', 'PP'))\n",
    "constructions[-5:]"
   ]
  },
  {
   "cell_type": "markdown",
   "metadata": {},
   "source": [
    "---\n",
    "\n",
    "#### Zählen Sie nun auch für die V+NP+PP-Konstruktion (sowie für die DT-Erweiterungen nach *a* bzw. *the*), wie oft sie in der Penn Treebank vorkommen und berechnen Sie die relativen Häufigkeiten als Approximation der Regelwahrscheinlichkeiten:\n",
    "\n",
    "$$P(V, N\\!P, P\\!P \\mid V\\!P) = \\dfrac{count(V\\!P \\rightarrow V\\:N\\!P\\:P\\!P)}{count(V\\!P \\rightarrow \\setminus*)}$$"
   ]
  },
  {
   "cell_type": "code",
   "execution_count": 111,
   "metadata": {},
   "outputs": [
    {
     "data": {
      "text/plain": [
       "[(VP -> MD RB VP, 82),\n",
       " (VP -> VBN VP, 84),\n",
       " (VP -> VBZ ADJP-PRD, 87),\n",
       " (VP -> VBP S, 88),\n",
       " (VP -> VB NP PP-CLR, 88),\n",
       " (VP -> VBG S, 89),\n",
       " (VP -> VB PP-CLR, 107),\n",
       " (VP -> VBP SBAR, 121),\n",
       " (VP -> VBN S, 141),\n",
       " (VP -> VB S, 155),\n",
       " (VP -> VBZ NP-PRD, 163),\n",
       " (VP -> VBN NP PP, 170),\n",
       " (VP -> VBN NP PP-CLR, 178),\n",
       " (VP -> VBP NP, 185),\n",
       " (VP -> VBZ SBAR, 197),\n",
       " (VP -> VBZ S, 215),\n",
       " (VP -> VBD S, 223),\n",
       " (VP -> VP CC VP, 234),\n",
       " (VP -> VBN NP, 250),\n",
       " (VP -> VB VP, 258),\n",
       " (VP -> VBZ NP, 261),\n",
       " (VP -> VBP VP, 337),\n",
       " (VP -> VBD VP, 361),\n",
       " (VP -> VBG NP, 375),\n",
       " (VP -> VBD NP, 378),\n",
       " (VP -> VBZ VP, 459),\n",
       " (VP -> VBD SBAR, 631),\n",
       " (VP -> MD VP, 759),\n",
       " (VP -> VB NP, 805),\n",
       " (VP -> TO VP, 1257)]"
      ]
     },
     "execution_count": 111,
     "metadata": {},
     "output_type": "execute_result"
    }
   ],
   "source": [
    "constructions = find_relevant_constructions('VP')\n",
    "constructions[-30:]"
   ]
  },
  {
   "cell_type": "code",
   "execution_count": 92,
   "metadata": {},
   "outputs": [],
   "source": [
    "\n",
    "vp_v_np_pp_frq = 178 + 170 + 88 + 66 + 59 + 52 + 48 + 38 + 34\n",
    "vp_v_np_without_frq = 805 + 378 + 375 + 261 + 250 + 185\n",
    "vp_with_pp = vp_v_np_pp_frq / (vp_v_np_pp_frq + vp_v_np_without_frq)\n",
    "vp_without = vp_v_np_without_frq / (vp_v_np_pp_frq + vp_v_np_without_frq)\n"
   ]
  },
  {
   "cell_type": "code",
   "execution_count": 93,
   "metadata": {},
   "outputs": [
    {
     "data": {
      "text/plain": [
       "[(DT -> 'this', 184),\n",
       " (DT -> 'an', 316),\n",
       " (DT -> 'The', 713),\n",
       " (DT -> 'a', 1874),\n",
       " (DT -> 'the', 4038)]"
      ]
     },
     "execution_count": 93,
     "metadata": {},
     "output_type": "execute_result"
    }
   ],
   "source": [
    "constructions = find_relevant_constructions('DT')\n",
    "constructions[-5:]"
   ]
  },
  {
   "cell_type": "code",
   "execution_count": 94,
   "metadata": {},
   "outputs": [],
   "source": [
    "\n",
    "det_the_frq = 4038\n",
    "det_a_frq = 1874\n",
    "det_the = det_the_frq / (det_the_frq + det_a_frq)\n",
    "det_a = det_a_frq / (det_the_frq + det_a_frq)\n"
   ]
  },
  {
   "cell_type": "code",
   "execution_count": 95,
   "metadata": {},
   "outputs": [
    {
     "data": {
      "text/plain": [
       "(0.24539671911617006,\n",
       " 0.7546032808838299,\n",
       " 0.23582668678594523,\n",
       " 0.7641733132140548,\n",
       " 0.6830175913396481,\n",
       " 0.3169824086603518)"
      ]
     },
     "execution_count": 95,
     "metadata": {},
     "output_type": "execute_result"
    }
   ],
   "source": [
    "(vp_with_pp, vp_without, np_with_pp, np_without, det_the, det_a)"
   ]
  },
  {
   "cell_type": "markdown",
   "metadata": {},
   "source": [
    "---\n",
    "### 2c: Erstellen einer PCFG\n",
    "\n",
    "#### Die aus den Daten extrahierten relativen Häufigkeiten sollen nun zur Erstellung einer probabilistischen kontextfreien Grammatik (PCFG)  genutzt werden."
   ]
  },
  {
   "cell_type": "code",
   "execution_count": 96,
   "metadata": {},
   "outputs": [
    {
     "name": "stdout",
     "output_type": "stream",
     "text": [
      "Grammar with 13 productions (start state = S)\n",
      "    S -> NP VP [1.0]\n",
      "    VP -> V NP PP [0.245397]\n",
      "    VP -> V NP [0.754603]\n",
      "    NP -> DET N [0.764173]\n",
      "    NP -> NP PP [0.235827]\n",
      "    PP -> P NP [1.0]\n",
      "    DET -> 'the' [0.683018]\n",
      "    DET -> 'a' [0.316982]\n",
      "    N -> 'boy' [0.4]\n",
      "    N -> 'woman' [0.4]\n",
      "    N -> 'telescope' [0.2]\n",
      "    V -> 'saw' [1.0]\n",
      "    P -> 'with' [1.0]\n"
     ]
    }
   ],
   "source": [
    "pcfg = \"\"\"\n",
    "S -> NP VP     [1.0]\n",
    "VP -> V NP PP  [{}]\n",
    "VP -> V NP     [{}]\n",
    "NP -> DET N    [{}]\n",
    "NP -> NP PP    [{}]\n",
    "PP -> P NP     [1.0]\n",
    "\n",
    "DET -> \"the\"     [{}]\n",
    "DET -> \"a\"       [{}]\n",
    "N -> \"boy\"       [0.4]\n",
    "N -> \"woman\"     [0.4]\n",
    "N -> \"telescope\" [0.2]\n",
    "V -> \"saw\"       [1.0]\n",
    "P -> \"with\"      [1.0]\n",
    "\"\"\".format(\n",
    "    vp_with_pp, vp_without, np_without,\n",
    "    np_with_pp, det_the, det_a\n",
    ")\n",
    "grammar = nltk.PCFG.fromstring(pcfg)\n",
    "print(grammar)"
   ]
  },
  {
   "cell_type": "markdown",
   "metadata": {},
   "source": [
    "---\n",
    "### 2d: Verwendung zur Disambiguierung\n",
    "\n",
    "#### Testen Sie Ihre so erstellte Grammatik nun, indem Sie folgenden Satz parsen:\n",
    "\n",
    "- *the boy saw a woman with a telescope*"
   ]
  },
  {
   "cell_type": "code",
   "execution_count": 97,
   "metadata": {},
   "outputs": [
    {
     "name": "stdout",
     "output_type": "stream",
     "text": [
      "(S\n",
      "  (NP (DET the) (N boy))\n",
      "  (VP\n",
      "    (V saw)\n",
      "    (NP (DET a) (N woman))\n",
      "    (PP (P with) (NP (DET a) (N telescope))))) (p=0.00024049)\n"
     ]
    },
    {
     "data": {
      "image/png": "[encoded data removed]",
      "text/plain": [
       "ProbabilisticTree('S', [ProbabilisticTree('NP', [ProbabilisticTree('DET', ['the']) (p=0.6830175913396481), ProbabilisticTree('N', ['boy']) (p=0.4)]) (p=0.20877752630300087), ProbabilisticTree('VP', [ProbabilisticTree('V', ['saw']) (p=1.0), ProbabilisticTree('NP', [ProbabilisticTree('DET', ['a']) (p=0.3169824086603518), ProbabilisticTree('N', ['woman']) (p=0.4)]) (p=0.09689179898262103), ProbabilisticTree('PP', [ProbabilisticTree('P', ['with']) (p=1.0), ProbabilisticTree('NP', [ProbabilisticTree('DET', ['a']) (p=0.3169824086603518), ProbabilisticTree('N', ['telescope']) (p=0.2)]) (p=0.048445899491310514)]) (p=0.048445899491310514)]) (p=0.0011518947406252047)]) (p=0.00024048973450916704)"
      ]
     },
     "metadata": {},
     "output_type": "display_data"
    }
   ],
   "source": [
    "from IPython.display import display\n",
    "\n",
    "parser = nltk.ViterbiParser(grammar)\n",
    "for tree in parser.parse(\"the boy saw a woman with a telescope\".split()):\n",
    "    print(tree)\n",
    "    display(tree)"
   ]
  },
  {
   "cell_type": "markdown",
   "metadata": {},
   "source": [
    "#### Wenn Sie sich die extrahierten Wahrscheinlichkeiten und das disambiguierte Ergebnis ansehen, überrascht Sie dann das Ergebnis der Syntaxanalyse?"
   ]
  }
 ],
 "metadata": {
  "kernelspec": {
   "display_name": "Python 3",
   "language": "python",
   "name": "python3"
  },
  "language_info": {
   "codemirror_mode": {
    "name": "ipython",
    "version": 3
   },
   "file_extension": ".py",
   "mimetype": "text/x-python",
   "name": "python",
   "nbconvert_exporter": "python",
   "pygments_lexer": "ipython3",
   "version": "3.6.1"
  }
 },
 "nbformat": 4,
 "nbformat_minor": 2
}
