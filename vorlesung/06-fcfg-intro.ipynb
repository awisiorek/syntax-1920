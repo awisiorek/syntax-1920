{
 "cells": [
  {
   "cell_type": "markdown",
   "metadata": {},
   "source": [
    "***Vorlesung 'Syntax natürlicher Sprachen', WS 2019/20***\n",
    "\n",
    "--- \n",
    "# Intro: Merkmasstrukturbasierte Grammatik (*feature-based* CFG)"
   ]
  },
  {
   "cell_type": "code",
   "execution_count": 1,
   "metadata": {},
   "outputs": [],
   "source": [
    "import nltk\n",
    "\n",
    "def test_fcfg_grammar(gramstring, sent, draw=0, tracing=0):\n",
    "    grammar = nltk.grammar.FeatureGrammar.fromstring(gramstring)\n",
    "    parser = nltk.parse.FeatureChartParser(grammar,trace=tracing)\n",
    "    analyzed = False\n",
    "    for tree in parser.parse(sent):\n",
    "        print(tree)\n",
    "        if draw: display(tree)\n",
    "        analyzed = True\n",
    "    if not analyzed:\n",
    "        print(\"Keine Analyse möglich\")    \n",
    "\n",
    "def test_cfg_grammar(grammar, sent, tracing=0):\n",
    "    parser = nltk.ChartParser(grammar,trace=tracing)\n",
    "    analyzed = False\n",
    "    for tree in parser.parse(sent):\n",
    "        tree.pretty_print(unicodelines=True)\n",
    "        analyzed = True\n",
    "    if not analyzed:\n",
    "        print(\"Keine Analyse möglich\")            \n",
    "        "
   ]
  },
  {
   "cell_type": "markdown",
   "metadata": {},
   "source": [
    "---\n",
    "## 1. CFG (Überproduktion aufgrund Nichtbeachtung Morphologie und Subkategorisierung)"
   ]
  },
  {
   "cell_type": "code",
   "execution_count": 2,
   "metadata": {},
   "outputs": [],
   "source": [
    "grammar = nltk.CFG.fromstring(\"\"\"\n",
    "S -> NP VP\n",
    "\n",
    "NP -> Det N\n",
    "\n",
    "VP -> V\n",
    "\n",
    "VP -> V NP\n",
    "\n",
    "Det -> 'der' | 'dem' | 'den' | 'die'\n",
    "\n",
    "N -> 'Hund' | 'Hunde' |'Hunden' |'Katze' |'Katzen'\n",
    "\n",
    "V -> 'sieht' | 'sehen'\n",
    "\n",
    "\"\"\")\n"
   ]
  },
  {
   "cell_type": "code",
   "execution_count": 3,
   "metadata": {},
   "outputs": [
    {
     "name": "stdout",
     "output_type": "stream",
     "text": [
      "               S                \n",
      "     ┌─────────┴────┐            \n",
      "     │              VP          \n",
      "     │         ┌────┴───┐        \n",
      "     NP        │        NP      \n",
      " ┌───┴───┐     │    ┌───┴────┐   \n",
      "Det      N     V   Det       N  \n",
      " │       │     │    │        │   \n",
      "der     Hund sieht die     Katze\n",
      "\n"
     ]
    }
   ],
   "source": [
    "sent = 'der Hund sieht die Katze'.split()\n",
    "test_cfg_grammar(grammar, sent)"
   ]
  },
  {
   "cell_type": "code",
   "execution_count": 4,
   "metadata": {},
   "outputs": [
    {
     "name": "stdout",
     "output_type": "stream",
     "text": [
      "         S        \n",
      "     ┌───┴─────┐   \n",
      "     NP        VP \n",
      " ┌───┴───┐     │   \n",
      "Det      N     V  \n",
      " │       │     │   \n",
      "der     Hund sieht\n",
      "\n"
     ]
    }
   ],
   "source": [
    "#SUBKATEGORISIERUNG:\n",
    "sent = 'der Hund sieht'.split()\n",
    "test_cfg_grammar(grammar, sent)"
   ]
  },
  {
   "cell_type": "code",
   "execution_count": 5,
   "metadata": {},
   "outputs": [
    {
     "name": "stdout",
     "output_type": "stream",
     "text": [
      "               S                \n",
      "     ┌─────────┴────┐            \n",
      "     │              VP          \n",
      "     │         ┌────┴───┐        \n",
      "     NP        │        NP      \n",
      " ┌───┴───┐     │    ┌───┴────┐   \n",
      "Det      N     V   Det       N  \n",
      " │       │     │    │        │   \n",
      "dem     Hund sieht den     Katze\n",
      "\n"
     ]
    }
   ],
   "source": [
    "#KASUS-REKTION:\n",
    "sent = 'dem Hund sieht den Katze'.split()\n",
    "test_cfg_grammar(grammar, sent)"
   ]
  },
  {
   "cell_type": "code",
   "execution_count": 6,
   "metadata": {},
   "outputs": [
    {
     "name": "stdout",
     "output_type": "stream",
     "text": [
      "               S                \n",
      "     ┌─────────┴────┐            \n",
      "     │              VP          \n",
      "     │         ┌────┴───┐        \n",
      "     NP        │        NP      \n",
      " ┌───┴───┐     │    ┌───┴────┐   \n",
      "Det      N     V   Det       N  \n",
      " │       │     │    │        │   \n",
      "der     Hund sehen die     Katze\n",
      "\n"
     ]
    }
   ],
   "source": [
    "#SUBJEKT-KONGRUENZ:\n",
    "sent = 'der Hund sehen die Katze'.split()\n",
    "test_cfg_grammar(grammar, sent)"
   ]
  },
  {
   "cell_type": "markdown",
   "metadata": {},
   "source": [
    "---\n",
    "## 2. FCFG (mit Constraints zur Verhinderung der Überproduktion)"
   ]
  },
  {
   "cell_type": "code",
   "execution_count": 7,
   "metadata": {},
   "outputs": [],
   "source": [
    "gramstring = r\"\"\"\n",
    "% start S\n",
    "\n",
    "S -> NP[CASE=nom, AGR=?a] VP[AGR=?a]\n",
    "\n",
    "NP[CASE=?c, AGR=?a] -> Det[CASE=?c, AGR=?a] N[CASE=?c, AGR=?a]\n",
    "\n",
    "VP[AGR=?a] -> V[AGR=?a, SUBCAT=0]\n",
    "VP[AGR=?a] -> V[OBJCASE=?c, AGR=?a, SUBCAT=1] NP[CASE=?c]\n",
    "\n",
    "## Übersicht Constraints (als Pfadgleichungen):\n",
    "    ## Subjekt-Kasusrektion: 4: <NP CASE> = nom \n",
    "    ## Objekt-Kasusrektion: 9: <V OBJCASE> = <NP CASE>\n",
    "    ## Subjektkongruenz: 4: <NP AGR> = <VP AGR>\n",
    "    ## Subkategorisierung: 8,9: <V SUBCAT>= 0/1\n",
    "\n",
    "# masc\n",
    "Det[CASE=nom, AGR=[GND=masc,PER=3,NUM=sg]] -> 'der' \n",
    "Det[CASE=dat, AGR=[GND=masc,PER=3,NUM=sg]] -> 'dem'\n",
    "Det[CASE=acc, AGR=[GND=masc,PER=3,NUM=sg]] -> 'den'\n",
    "\n",
    "# fem\n",
    "Det[CASE=nom, AGR=[GND=fem,PER=3,NUM=sg]] -> 'die' \n",
    "Det[CASE=dat, AGR=[GND=fem,PER=3,NUM=sg]] -> 'der'\n",
    "Det[CASE=acc, AGR=[GND=fem,PER=3,NUM=sg]] -> 'die' \n",
    "\n",
    "\n",
    "# Plural determiners\n",
    "Det[CASE=nom, AGR=[PER=3,NUM=pl]] -> 'die' \n",
    "Det[CASE=dat, AGR=[PER=3,NUM=pl]] -> 'den' \n",
    "Det[CASE=acc, AGR=[PER=3,NUM=pl]] -> 'die' \n",
    "\n",
    "# Nouns\n",
    "N[AGR=[GND=masc,PER=3,NUM=sg]] -> 'Hund'\n",
    "N[CASE=nom, AGR=[GND=masc,PER=3,NUM=pl]] -> 'Hunde'\n",
    "N[CASE=dat, AGR=[GND=masc,PER=3,NUM=pl]] -> 'Hunden'\n",
    "N[CASE=acc, AGR=[GND=masc,PER=3,NUM=pl]] -> 'Hunde'\n",
    "\n",
    "N[AGR=[GND=fem,PER=3,NUM=sg]] -> 'Katze'\n",
    "N[AGR=[GND=fem,PER=3,NUM=pl]] -> 'Katzen'\n",
    "\n",
    "# Verbs\n",
    "V[OBJCASE=acc, AGR=[NUM=sg,PER=3], SUBCAT=1] -> 'sieht'\n",
    "V[OBJCASE=acc, AGR=[NUM=pl,PER=3], SUBCAT=1] -> 'sehen'\n",
    "\"\"\""
   ]
  },
  {
   "cell_type": "code",
   "execution_count": 8,
   "metadata": {},
   "outputs": [
    {
     "name": "stdout",
     "output_type": "stream",
     "text": [
      "(S[]\n",
      "  (NP[AGR=[GND='masc', NUM='sg', PER=3], CASE='nom']\n",
      "    (Det[AGR=[GND='masc', NUM='sg', PER=3], CASE='nom'] der)\n",
      "    (N[AGR=[GND='masc', NUM='sg', PER=3]] Hund))\n",
      "  (VP[AGR=[NUM='sg', PER=3]]\n",
      "    (V[AGR=[NUM='sg', PER=3], OBJCASE='acc', SUBCAT=1] sieht)\n",
      "    (NP[AGR=[GND='fem', NUM='sg', PER=3], CASE='acc']\n",
      "      (Det[AGR=[GND='fem', NUM='sg', PER=3], CASE='acc'] die)\n",
      "      (N[AGR=[GND='fem', NUM='sg', PER=3]] Katze))))\n"
     ]
    },
    {
     "data": {
      "image/png": "[encoded data removed]",
      "text/plain": [
       "Tree(S[], [Tree(NP[AGR=[GND='masc', NUM='sg', PER=3], CASE='nom'], [Tree(Det[AGR=[GND='masc', NUM='sg', PER=3], CASE='nom'], ['der']), Tree(N[AGR=[GND='masc', NUM='sg', PER=3]], ['Hund'])]), Tree(VP[AGR=[NUM='sg', PER=3]], [Tree(V[AGR=[NUM='sg', PER=3], OBJCASE='acc', SUBCAT=1], ['sieht']), Tree(NP[AGR=[GND='fem', NUM='sg', PER=3], CASE='acc'], [Tree(Det[AGR=[GND='fem', NUM='sg', PER=3], CASE='acc'], ['die']), Tree(N[AGR=[GND='fem', NUM='sg', PER=3]], ['Katze'])])])])"
      ]
     },
     "metadata": {},
     "output_type": "display_data"
    }
   ],
   "source": [
    "sent = 'der Hund sieht die Katze'.split()\n",
    "test_fcfg_grammar(gramstring, sent, draw=1)"
   ]
  },
  {
   "cell_type": "code",
   "execution_count": 9,
   "metadata": {},
   "outputs": [
    {
     "name": "stdout",
     "output_type": "stream",
     "text": [
      "Keine Analyse möglich\n"
     ]
    }
   ],
   "source": [
    "#SUBKATEGORISIERUNG:\n",
    "sent = 'der Hund sieht'.split()\n",
    "test_fcfg_grammar(gramstring, sent)"
   ]
  },
  {
   "cell_type": "code",
   "execution_count": 10,
   "metadata": {},
   "outputs": [
    {
     "name": "stdout",
     "output_type": "stream",
     "text": [
      "Keine Analyse möglich\n"
     ]
    }
   ],
   "source": [
    "#KASUS-REKTION:\n",
    "sent = 'dem Hund sieht den Katze'.split()\n",
    "test_fcfg_grammar(gramstring, sent)"
   ]
  },
  {
   "cell_type": "code",
   "execution_count": 11,
   "metadata": {},
   "outputs": [
    {
     "name": "stdout",
     "output_type": "stream",
     "text": [
      "Keine Analyse möglich\n"
     ]
    }
   ],
   "source": [
    "#SUBJEKT-KONGRUENZ:\n",
    "sent = 'der Hund sehen die Katze'.split()\n",
    "test_fcfg_grammar(gramstring, sent)"
   ]
  },
  {
   "cell_type": "code",
   "execution_count": 12,
   "metadata": {},
   "outputs": [
    {
     "name": "stdout",
     "output_type": "stream",
     "text": [
      "|.de.Hu.se.di.Ka.|\n",
      "|[--]  .  .  .  .| [0:1] 'der'\n",
      "|.  [--]  .  .  .| [1:2] 'Hund'\n",
      "|.  .  [--]  .  .| [2:3] 'sehen'\n",
      "|.  .  .  [--]  .| [3:4] 'die'\n",
      "|.  .  .  .  [--]| [4:5] 'Katze'\n",
      "|[--]  .  .  .  .| [0:1] Det[AGR=[GND='masc', NUM='sg', PER=3], CASE='nom'] -> 'der' *\n",
      "|[--]  .  .  .  .| [0:1] Det[AGR=[GND='fem', NUM='sg', PER=3], CASE='dat'] -> 'der' *\n",
      "|[-->  .  .  .  .| [0:1] NP[AGR=?a, CASE=?c] -> Det[AGR=?a, CASE=?c] * N[AGR=?a, CASE=?c] {?a: [GND='fem', NUM='sg', PER=3], ?c: 'dat'}\n",
      "|[-->  .  .  .  .| [0:1] NP[AGR=?a, CASE=?c] -> Det[AGR=?a, CASE=?c] * N[AGR=?a, CASE=?c] {?a: [GND='masc', NUM='sg', PER=3], ?c: 'nom'}\n",
      "|.  [--]  .  .  .| [1:2] N[AGR=[GND='masc', NUM='sg', PER=3]] -> 'Hund' *\n",
      "|[-----]  .  .  .| [0:2] NP[AGR=[GND='masc', NUM='sg', PER=3], CASE='nom'] -> Det[AGR=[GND='masc', NUM='sg', PER=3], CASE='nom'] N[AGR=[GND='masc', NUM='sg', PER=3], CASE='nom'] *\n",
      "|[----->  .  .  .| [0:2] S[] -> NP[AGR=?a, CASE='nom'] * VP[AGR=?a] {?a: [GND='masc', NUM='sg', PER=3]}\n",
      "|.  .  [--]  .  .| [2:3] V[AGR=[NUM='pl', PER=3], OBJCASE='acc', SUBCAT=1] -> 'sehen' *\n",
      "|.  .  [-->  .  .| [2:3] VP[AGR=?a] -> V[AGR=?a, OBJCASE=?c, SUBCAT=1] * NP[CASE=?c] {?a: [NUM='pl', PER=3], ?c: 'acc'}\n",
      "|.  .  .  [--]  .| [3:4] Det[AGR=[GND='fem', NUM='sg', PER=3], CASE='nom'] -> 'die' *\n",
      "|.  .  .  [--]  .| [3:4] Det[AGR=[GND='fem', NUM='sg', PER=3], CASE='acc'] -> 'die' *\n",
      "|.  .  .  [--]  .| [3:4] Det[AGR=[NUM='pl', PER=3], CASE='nom'] -> 'die' *\n",
      "|.  .  .  [--]  .| [3:4] Det[AGR=[NUM='pl', PER=3], CASE='acc'] -> 'die' *\n",
      "|.  .  .  [-->  .| [3:4] NP[AGR=?a, CASE=?c] -> Det[AGR=?a, CASE=?c] * N[AGR=?a, CASE=?c] {?a: [NUM='pl', PER=3], ?c: 'acc'}\n",
      "|.  .  .  [-->  .| [3:4] NP[AGR=?a, CASE=?c] -> Det[AGR=?a, CASE=?c] * N[AGR=?a, CASE=?c] {?a: [NUM='pl', PER=3], ?c: 'nom'}\n",
      "|.  .  .  [-->  .| [3:4] NP[AGR=?a, CASE=?c] -> Det[AGR=?a, CASE=?c] * N[AGR=?a, CASE=?c] {?a: [GND='fem', NUM='sg', PER=3], ?c: 'acc'}\n",
      "|.  .  .  [-->  .| [3:4] NP[AGR=?a, CASE=?c] -> Det[AGR=?a, CASE=?c] * N[AGR=?a, CASE=?c] {?a: [GND='fem', NUM='sg', PER=3], ?c: 'nom'}\n",
      "|.  .  .  .  [--]| [4:5] N[AGR=[GND='fem', NUM='sg', PER=3]] -> 'Katze' *\n",
      "|.  .  .  [-----]| [3:5] NP[AGR=[GND='fem', NUM='sg', PER=3], CASE='acc'] -> Det[AGR=[GND='fem', NUM='sg', PER=3], CASE='acc'] N[AGR=[GND='fem', NUM='sg', PER=3], CASE='acc'] *\n",
      "|.  .  .  [-----]| [3:5] NP[AGR=[GND='fem', NUM='sg', PER=3], CASE='nom'] -> Det[AGR=[GND='fem', NUM='sg', PER=3], CASE='nom'] N[AGR=[GND='fem', NUM='sg', PER=3], CASE='nom'] *\n",
      "|.  .  .  [----->| [3:5] S[] -> NP[AGR=?a, CASE='nom'] * VP[AGR=?a] {?a: [GND='fem', NUM='sg', PER=3]}\n",
      "|.  .  [--------]| [2:5] VP[AGR=[NUM='pl', PER=3]] -> V[AGR=[NUM='pl', PER=3], OBJCASE='acc', SUBCAT=1] NP[CASE='acc'] *\n",
      "Keine Analyse möglich\n"
     ]
    }
   ],
   "source": [
    "#SUBJEKT-KONGRUENZ mit TRACING:\n",
    "sent = 'der Hund sehen die Katze'.split()\n",
    "test_fcfg_grammar(gramstring, sent, draw=0,tracing=1)"
   ]
  }
 ],
 "metadata": {
  "kernelspec": {
   "display_name": "Python 3",
   "language": "python",
   "name": "python3"
  },
  "language_info": {
   "codemirror_mode": {
    "name": "ipython",
    "version": 3
   },
   "file_extension": ".py",
   "mimetype": "text/x-python",
   "name": "python",
   "nbconvert_exporter": "python",
   "pygments_lexer": "ipython3",
   "version": "3.6.1"
  },
  "widgets": {
   "application/vnd.jupyter.widget-state+json": {
    "state": {
     "098dd75f65594c0f992ddeffeb8523e3": {
      "model_module": "@jupyter-widgets/controls",
      "model_module_version": "1.2.0",
      "model_name": "SliderStyleModel",
      "state": {
       "description_width": ""
      }
     },
     "0ccfa5129ab64950adda077f6ac8f44a": {
      "model_module": "@jupyter-widgets/controls",
      "model_module_version": "1.2.0",
      "model_name": "IntSliderModel",
      "state": {
       "layout": "IPY_MODEL_641f3cf31a334ee6810a9a92f93e89a7",
       "style": "IPY_MODEL_63aadafcc3504a3b8b15fdea9d4ec244",
       "value": 50
      }
     },
     "1b37a149a74c40c68d34c61b481048f8": {
      "model_module": "@jupyter-widgets/base",
      "model_module_version": "1.0.0",
      "model_name": "LayoutModel",
      "state": {}
     },
     "367694b2ecc94715a20952236f9ced88": {
      "model_module": "@jupyter-widgets/base",
      "model_module_version": "1.0.0",
      "model_name": "LayoutModel",
      "state": {}
     },
     "3d6ebd239fc84a8e95b3007988e38134": {
      "model_module": "@jupyter-widgets/controls",
      "model_module_version": "1.2.0",
      "model_name": "SliderStyleModel",
      "state": {
       "description_width": ""
      }
     },
     "63aadafcc3504a3b8b15fdea9d4ec244": {
      "model_module": "@jupyter-widgets/controls",
      "model_module_version": "1.2.0",
      "model_name": "SliderStyleModel",
      "state": {
       "description_width": ""
      }
     },
     "641f3cf31a334ee6810a9a92f93e89a7": {
      "model_module": "@jupyter-widgets/base",
      "model_module_version": "1.0.0",
      "model_name": "LayoutModel",
      "state": {}
     },
     "993ec756027845c19085347ca5f9f6ce": {
      "model_module": "@jupyter-widgets/controls",
      "model_module_version": "1.2.0",
      "model_name": "SliderStyleModel",
      "state": {
       "description_width": ""
      }
     },
     "bb743dc2dd2d4bb08dd2c5255e1d87c6": {
      "model_module": "@jupyter-widgets/controls",
      "model_module_version": "1.2.0",
      "model_name": "SliderStyleModel",
      "state": {
       "description_width": ""
      }
     },
     "cb4a4abdac584f78ac3b37579ac33b10": {
      "model_module": "@jupyter-widgets/controls",
      "model_module_version": "1.2.0",
      "model_name": "IntSliderModel",
      "state": {
       "layout": "IPY_MODEL_f25c2eb22704411b9981f8047a2c0182",
       "style": "IPY_MODEL_993ec756027845c19085347ca5f9f6ce",
       "value": 50
      }
     },
     "cfbb8ba5969a49e18a1733c50e6b73e4": {
      "model_module": "@jupyter-widgets/controls",
      "model_module_version": "1.2.0",
      "model_name": "IntSliderModel",
      "state": {
       "layout": "IPY_MODEL_1b37a149a74c40c68d34c61b481048f8",
       "style": "IPY_MODEL_3d6ebd239fc84a8e95b3007988e38134",
       "value": 50
      }
     },
     "da2e37629b7141b8a194c275f89ccef5": {
      "model_module": "@jupyter-widgets/base",
      "model_module_version": "1.0.0",
      "model_name": "LayoutModel",
      "state": {}
     },
     "eafa48b852af4f40b414b8d4f0b90c7a": {
      "model_module": "@jupyter-widgets/controls",
      "model_module_version": "1.2.0",
      "model_name": "IntSliderModel",
      "state": {
       "layout": "IPY_MODEL_da2e37629b7141b8a194c275f89ccef5",
       "style": "IPY_MODEL_bb743dc2dd2d4bb08dd2c5255e1d87c6"
      }
     },
     "f196171317cf493fabedf854f59c1d44": {
      "model_module": "@jupyter-widgets/controls",
      "model_module_version": "1.2.0",
      "model_name": "IntSliderModel",
      "state": {
       "layout": "IPY_MODEL_367694b2ecc94715a20952236f9ced88",
       "style": "IPY_MODEL_098dd75f65594c0f992ddeffeb8523e3"
      }
     },
     "f25c2eb22704411b9981f8047a2c0182": {
      "model_module": "@jupyter-widgets/base",
      "model_module_version": "1.0.0",
      "model_name": "LayoutModel",
      "state": {}
     }
    },
    "version_major": 2,
    "version_minor": 0
   }
  }
 },
 "nbformat": 4,
 "nbformat_minor": 2
}
